{
 "cells": [
  {
   "cell_type": "markdown",
   "metadata": {},
   "source": [
    "# Software versions"
   ]
  },
  {
   "cell_type": "markdown",
   "metadata": {},
   "source": [
    "## Python"
   ]
  },
  {
   "cell_type": "code",
   "execution_count": 1,
   "metadata": {
    "collapsed": false
   },
   "outputs": [
    {
     "name": "stdout",
     "output_type": "stream",
     "text": [
      "2.7.9 |Anaconda 2.2.0 (64-bit)| (default, Apr 14 2015, 12:54:25) \n",
      "[GCC 4.4.7 20120313 (Red Hat 4.4.7-1)]\n"
     ]
    }
   ],
   "source": [
    "import sys\n",
    "print(sys.version)"
   ]
  },
  {
   "cell_type": "markdown",
   "metadata": {},
   "source": [
    "### Python package versions"
   ]
  },
  {
   "cell_type": "code",
   "execution_count": 1,
   "metadata": {
    "collapsed": false,
    "scrolled": false
   },
   "outputs": [
    {
     "name": "stdout",
     "output_type": "stream",
     "text": [
      "# packages in environment at /home/obotvinnik/anaconda:\n",
      "#\n",
      "_license                  1.1                      py27_0    <unknown>\n",
      "abstract-rendering        0.5.1                np19py27_0    <unknown>\n",
      "anaconda                  2.2.0                np19py27_0    <unknown>\n",
      "argcomplete               0.8.4                    py27_0    <unknown>\n",
      "argh                      0.26.1                    <pip>\n",
      "astropy                   1.0.1                np19py27_0    <unknown>\n",
      "awscli                    1.7.25                    <pip>\n",
      "backports.ssl-match-hostname 3.4.0.2                   <pip>\n",
      "bcdoc                     0.14.0                    <pip>\n",
      "bcolz                     0.8.1                np19py27_0    <unknown>\n",
      "beautiful-soup            4.3.2                    py27_0    <unknown>\n",
      "beautifulsoup4            4.3.2                     <pip>\n",
      "bedtools                  2.21.0                        0    https://conda.binstar.org/daler/linux-64/bedtools-2.21.0-0.tar.bz2\n",
      "binstar                   0.10.1                   py27_3    <unknown>\n",
      "biopython                 1.65                 np19py27_0    defaults\n",
      "bitarray                  0.8.1                    py27_0    <unknown>\n",
      "blaze                     0.7.3                     <pip>\n",
      "blaze-core                0.7.3                np19py27_0    <unknown>\n",
      "blz                       0.6.2                np19py27_0    <unknown>\n",
      "bokeh                     0.8.1                np19py27_1    <unknown>\n",
      "boto                      2.36.0                   py27_0    <unknown>\n",
      "botocore                  0.106.0                   <pip>\n",
      "brewer2mpl                1.4.1                     <pip>\n",
      "bulbs                     0.3.29.post20140417           <pip>\n",
      "bz2file                   0.98                      <pip>\n",
      "cairo                     1.12.18                       4    defaults\n",
      "cdecimal                  2.3                      py27_0    <unknown>\n",
      "certifi                   14.05.14                 py27_0    <unknown>\n",
      "cffi                      0.9.2                    py27_0    <unknown>\n",
      "clipper                   0.2.0                     <pip>\n",
      "clyent                    0.3.4                    py27_0    <unknown>\n",
      "colorama                  0.3.3                    py27_0    <unknown>\n",
      "conda                     3.16.0                   py27_0    defaults\n",
      "conda-build               1.11.0                   py27_0    <unknown>\n",
      "conda-env                 2.4.2                    py27_0    defaults\n",
      "configobj                 5.0.6                    py27_0    <unknown>\n",
      "cov-core                  1.15.0                    <pip>\n",
      "coverage                  3.7.1                     <pip>\n",
      "cryptography              0.8                      py27_0    <unknown>\n",
      "curl                      7.38.0                        0    <unknown>\n",
      "cython                    0.23                     py27_0    defaults\n",
      "cytoolz                   0.7.2                    py27_0    <unknown>\n",
      "datashape                 0.4.4                np19py27_1    <unknown>\n",
      "decorator                 4.0.2                    py27_0    defaults\n",
      "distribute                0.7.3                     <pip>\n",
      "docutils                  0.12                     py27_0    <unknown>\n",
      "dynd-python               0.6.5                np19py27_0    <unknown>\n",
      "enum34                    1.0.4                    py27_0    <unknown>\n",
      "fastcache                 1.0.2                    py27_0    <unknown>\n",
      "fastcluster               1.1.13               np19py27_0    https://conda.binstar.org/kyleabeauchamp/linux-64/fastcluster-1.1.13-np19py27_0.tar.bz2\n",
      "flake8                    2.3.0                    py27_0    defaults\n",
      "flask                     0.10.1                   py27_1    <unknown>\n",
      "flotilla (/home/obotvinnik/workspace-git/flotilla) 0.3.0                     <pip>\n",
      "fontconfig                2.11.1                        4    defaults\n",
      "freetype                  2.5.2                         2    defaults\n",
      "funcsigs                  0.4                      py27_0    <unknown>\n",
      "futures                   2.2.0                    py27_0    <unknown>\n",
      "gevent                    1.0.1                    py27_0    <unknown>\n",
      "gevent-websocket          0.9.3                    py27_0    <unknown>\n",
      "gffutils                  0.8.3                     <pip>\n",
      "graphlite                 1.0.5                     <pip>\n",
      "greenlet                  0.4.5                    py27_0    <unknown>\n",
      "grin                      1.2.1                    py27_1    <unknown>\n",
      "gscripts (/home/obotvinnik/workspace-git/gscripts) 0.1.6                     <pip>\n",
      "gspread                   0.2.5                     <pip>\n",
      "h5py                      2.4.0                np19py27_0    <unknown>\n",
      "hdf5                      1.8.15.1                      1    defaults\n",
      "htseq                     0.6.1                     <pip>\n",
      "httplib2                  0.9.1                     <pip>\n",
      "husl                      4.0.2                     <pip>\n",
      "ipykernel                 4.0.3                    py27_0    defaults\n",
      "ipython                   4.0.0                    py27_0    defaults\n",
      "ipython-genutils          0.1.0                     <pip>\n",
      "ipython-notebook          3.0.0                    py27_1    <unknown>\n",
      "ipython-qtconsole         3.0.0                    py27_0    <unknown>\n",
      "ipython_genutils          0.1.0                    py27_0    defaults\n",
      "ipywidgets                4.0.2                    py27_0    defaults\n",
      "itsdangerous              0.24                     py27_0    <unknown>\n",
      "jdcal                     1.0                      py27_0    <unknown>\n",
      "jedi                      0.8.1                    py27_0    <unknown>\n",
      "jinja2                    2.8                      py27_0    defaults\n",
      "jmespath                  0.7.1                     <pip>\n",
      "joblib                    0.8.4                    py27_0    defaults\n",
      "jpeg                      8d                            0    <unknown>\n",
      "jsonschema                2.4.0                    py27_0    <unknown>\n",
      "jupyter-client            4.0.0                     <pip>\n",
      "jupyter-core              4.0.4                     <pip>\n",
      "jupyter_client            4.0.0                    py27_0    defaults\n",
      "jupyter_core              4.0.4                    py27_0    defaults\n",
      "libdynd                   0.6.5                         0    <unknown>\n",
      "libffi                    3.0.13                        0    <unknown>\n",
      "libgfortran               1.0                           0    defaults\n",
      "libpng                    1.6.17                        0    defaults\n",
      "libsodium                 0.4.5                         0    <unknown>\n",
      "libtiff                   4.0.2                         1    <unknown>\n",
      "libxml2                   2.9.2                         0    defaults\n",
      "libxslt                   1.1.28                        0    <unknown>\n",
      "llvmlite                  0.2.2                    py27_1    <unknown>\n",
      "lxml                      3.4.2                    py27_0    <unknown>\n",
      "majiq                     0.8.YeoLab                 np_0    <unknown>\n",
      "markupsafe                0.23                     py27_0    <unknown>\n",
      "matplotlib                1.4.3                np19py27_2    defaults\n",
      "matplotlib-venn           0.11                      <pip>\n",
      "mccabe                    0.3                      py27_1    defaults\n",
      "misopy (/home/obotvinnik/workspace-git/MISO) 0.5.3                     <pip>\n",
      "mistune                   0.7                      py27_0    defaults\n",
      "mock                      1.0.1                    py27_0    <unknown>\n",
      "modish (/home/obotvinnik/workspace-git/modish) 0.1.0                     <pip>\n",
      "multipledispatch          0.4.7                    py27_0    <unknown>\n",
      "nbconvert                 4.0.0                    py27_0    defaults\n",
      "nbformat                  4.0.0                    py27_0    defaults\n",
      "networkx                  1.10                     py27_0    defaults\n",
      "nltk                      3.0.2                np19py27_0    <unknown>\n",
      "nose                      1.3.7                    py27_0    defaults\n",
      "notebook                  4.0.2                    py27_0    defaults\n",
      "numba                     0.17.0               np19py27_0    <unknown>\n",
      "numexpr                   2.4.3                np19py27_0    defaults\n",
      "numpy                     1.9.2                    py27_1    defaults\n",
      "odo                       0.3.1                np19py27_0    <unknown>\n",
      "omnijson                  0.1.2                     <pip>\n",
      "openblas                  0.2.14                        1    defaults\n",
      "openpyxl                  1.8.5                    py27_0    <unknown>\n",
      "openssl                   1.0.1k                        1    defaults\n",
      "pandas                    0.16.2               np19py27_0    defaults\n",
      "path.py                   7.6                      py27_0    defaults\n",
      "patsy                     0.4.0                np19py27_0    defaults\n",
      "pep8                      1.6.2                    py27_0    <unknown>\n",
      "pexpect                   3.3                      py27_0    defaults\n",
      "pickleshare               0.5                      py27_0    defaults\n",
      "pillow                    2.7.0                    py27_1    <unknown>\n",
      "pip                       7.1.2                    py27_0    defaults\n",
      "pixman                    0.26.2                        0    <unknown>\n",
      "ply                       3.4                      py27_0    <unknown>\n",
      "poshsplice (/home/obotvinnik/workspace-git/poshsplice) 0.1.0                     <pip>\n",
      "psutil                    2.2.1                    py27_0    <unknown>\n",
      "ptyprocess                0.4                      py27_0    <unknown>\n",
      "py                        1.4.30                   py27_0    defaults\n",
      "py2cairo                  1.10.0                   py27_2    <unknown>\n",
      "pyasn1                    0.1.7                    py27_0    <unknown>\n",
      "pybedtools                0.6.8                    py27_0    https://conda.binstar.org/daler/linux-64/pybedtools-0.6.8-py27_0.tar.bz2\n",
      "pycosat                   0.6.1                    py27_0    defaults\n",
      "pycparser                 2.10                     py27_0    <unknown>\n",
      "pycrypto                  2.6.1                    py27_0    <unknown>\n",
      "pycurl                    7.19.5.1                 py27_0    <unknown>\n",
      "pydot                     1.0.28                   py27_0    defaults\n",
      "pyfaidx                   0.4.0                     <pip>\n",
      "pyflakes                  0.9.2                    py27_0    defaults\n",
      "pygments                  2.0.2                    py27_0    <unknown>\n",
      "pymongo                   2.8                      py27_0    defaults\n",
      "pyopenssl                 0.14                     py27_0    <unknown>\n",
      "pyparsing                 2.0.3                    py27_0    <unknown>\n",
      "pyqt                      4.11.3                   py27_1    defaults\n",
      "pysam                     0.8.3                    py27_1    https://conda.binstar.org/bcbio/linux-64/pysam-0.8.3-py27_1.tar.bz2\n",
      "pysqlite                  2.6.3                     <pip>\n",
      "pytables                  3.2.0                np19py27_0    defaults\n",
      "pytest                    2.7.2                    py27_0    defaults\n",
      "pytest-cov                1.8.1                     <pip>\n",
      "python                    2.7.10                        0    defaults\n",
      "python-coveralls          2.5.0                     <pip>\n",
      "python-dateutil           2.4.2                    py27_0    defaults\n",
      "pytz                      2015.4                   py27_0    defaults\n",
      "pyyaml                    3.11                     py27_1    defaults\n",
      "pyzmq                     14.7.0                   py27_0    defaults\n",
      "qt                        4.8.6                         3    defaults\n",
      "readline                  6.2                           2    defaults\n",
      "redis                     2.6.9                         0    <unknown>\n",
      "redis-py                  2.10.3                   py27_0    <unknown>\n",
      "requests                  2.7.0                    py27_0    defaults\n",
      "rnaseek (/home/obotvinnik/workspace-git/rnaseek) 0.1.0                     <pip>\n",
      "rope                      0.9.4                    py27_1    <unknown>\n",
      "rsa                       3.1.4                     <pip>\n",
      "runipy                    0.1.3                    py27_0    <unknown>\n",
      "scikit-image              0.11.2               np19py27_0    <unknown>\n",
      "scikit-learn              0.16.1               np19py27_0    defaults\n",
      "scipy                     0.16.0               np19py27_1    defaults\n",
      "screed                    0.9                       <pip>\n",
      "seaborn                   0.6.0                np19py27_0    defaults\n",
      "semantic-version          2.4.1                     <pip>\n",
      "setuptools                18.1                     py27_0    defaults\n",
      "sh                        1.11                      <pip>\n",
      "simplegeneric             0.8.1                    py27_0    defaults\n",
      "simplejson                3.6.5                     <pip>\n",
      "sip                       4.16.5                   py27_0    <unknown>\n",
      "six                       1.9.0                    py27_0    <unknown>\n",
      "sj2psi (/home/obotvinnik/workspace-git/sj2psi) 0.2.2                     <pip>\n",
      "sockjs-tornado            1.0.1                    py27_0    <unknown>\n",
      "sphinx                    1.2.3                    py27_0    <unknown>\n",
      "spyder                    2.3.4                    py27_1    <unknown>\n",
      "spyder-app                2.3.4                    py27_0    <unknown>\n",
      "sqlalchemy                0.9.9                    py27_0    <unknown>\n",
      "sqlite                    3.8.4.1                       1    defaults\n",
      "ssl_match_hostname        3.4.0.2                  py27_0    <unknown>\n",
      "statsmodels               0.6.1                np19py27_0    <unknown>\n",
      "sympy                     0.7.6                    py27_0    <unknown>\n",
      "system                    5.8                           2    defaults\n",
      "tables                    3.2.0                     <pip>\n",
      "terminado                 0.5                      py27_0    <unknown>\n",
      "theano                    0.6.0                np19py27_0    <unknown>\n",
      "tk                        8.5.18                        0    defaults\n",
      "toolz                     0.7.1                    py27_0    <unknown>\n",
      "tornado                   4.2.1                    py27_0    defaults\n",
      "traitlets                 4.0.0                    py27_0    defaults\n",
      "ujson                     1.33                     py27_0    <unknown>\n",
      "unicodecsv                0.9.4                    py27_0    <unknown>\n",
      "util-linux                2.21                          0    <unknown>\n",
      "werkzeug                  0.10.1                   py27_0    <unknown>\n",
      "wheel                     0.24.0                   py27_0    defaults\n",
      "wlib                      0.1.0                     <pip>\n",
      "xlrd                      0.9.3                    py27_0    <unknown>\n",
      "xlsxwriter                0.6.7                    py27_0    <unknown>\n",
      "xlwt                      0.7.5                    py27_0    <unknown>\n",
      "yaml                      0.1.6                         0    defaults\n",
      "zeromq                    4.0.5                         0    defaults\n",
      "zlib                      1.2.8                         0    defaults\n"
     ]
    }
   ],
   "source": [
    "! conda list"
   ]
  },
  {
   "cell_type": "markdown",
   "metadata": {},
   "source": [
    "\n",
    "## Command line software\n",
    "### bedtools"
   ]
  },
  {
   "cell_type": "code",
   "execution_count": 2,
   "metadata": {
    "collapsed": false
   },
   "outputs": [
    {
     "name": "stdout",
     "output_type": "stream",
     "text": [
      "bedtools v2.22.0-27-g6ae9016\r\n"
     ]
    }
   ],
   "source": [
    "! bedtools --version"
   ]
  },
  {
   "cell_type": "markdown",
   "metadata": {},
   "source": [
    "### bigWigAverageOverBed"
   ]
  },
  {
   "cell_type": "code",
   "execution_count": 10,
   "metadata": {
    "collapsed": false
   },
   "outputs": [
    {
     "name": "stdout",
     "output_type": "stream",
     "text": [
      "bigWigAverageOverBed - Compute average score of big wig over each bed, which may have introns.\r\n",
      "usage:\r\n",
      "   bigWigAverageOverBed in.bw in.bed out.tab\r\n",
      "The output columns are:\r\n",
      "   name - name field from bed, which should be unique\r\n",
      "   size - size of bed (sum of exon sizes\r\n",
      "   covered - # bases within exons covered by bigWig\r\n",
      "   sum - sum of values over all bases covered\r\n",
      "   mean0 - average over bases with non-covered bases counting as zeroes\r\n",
      "   mean - average over just covered bases\r\n",
      "Options:\r\n",
      "   -bedOut=out.bed - Make output bed that is echo of input bed but with mean column appended\r\n",
      "   -sampleAroundCenter=N - Take sample at region N bases wide centered around bed item, rather\r\n",
      "                     than the usual sample in the bed item.\r\n",
      "\r\n"
     ]
    }
   ],
   "source": [
    "! bigWigAverageOverBed"
   ]
  },
  {
   "cell_type": "markdown",
   "metadata": {},
   "source": [
    "### Perl (for `maxentscan`)"
   ]
  },
  {
   "cell_type": "code",
   "execution_count": 3,
   "metadata": {
    "collapsed": false
   },
   "outputs": [
    {
     "name": "stdout",
     "output_type": "stream",
     "text": [
      "\r\n",
      "This is perl 5, version 18, subversion 4 (v5.18.4) built for x86_64-linux-thread-multi\r\n",
      "(with 1 registered patch, see perl -V for more detail)\r\n",
      "\r\n",
      "Copyright 1987-2013, Larry Wall\r\n",
      "\r\n",
      "Binary build 1803 [298573] provided by ActiveState http://www.ActiveState.com\r\n",
      "Built Oct 19 2014 21:51:49\r\n",
      "\r\n",
      "Perl may be copied only under the terms of either the Artistic License or the\r\n",
      "GNU General Public License, which may be found in the Perl 5 source kit.\r\n",
      "\r\n",
      "Complete documentation for Perl, including FAQ lists, should be found on\r\n",
      "this system using \"man perl\" or \"perldoc perl\".  If you have access to the\r\n",
      "Internet, point your browser at http://www.perl.org/, the Perl Home Page.\r\n",
      "\r\n"
     ]
    }
   ],
   "source": [
    "! perl --version"
   ]
  },
  {
   "cell_type": "markdown",
   "metadata": {},
   "source": [
    "### hmmscan"
   ]
  },
  {
   "cell_type": "code",
   "execution_count": 7,
   "metadata": {
    "collapsed": false
   },
   "outputs": [
    {
     "name": "stdout",
     "output_type": "stream",
     "text": [
      "# hmmscan :: search sequence(s) against a profile database\r\n",
      "# HMMER 3.1b1 (May 2013); http://hmmer.org/\r\n",
      "# Copyright (C) 2013 Howard Hughes Medical Institute.\r\n",
      "# Freely distributed under the GNU General Public License (GPLv3).\r\n",
      "# - - - - - - - - - - - - - - - - - - - - - - - - - - - - - - - - - - - -\r\n",
      "Usage: hmmscan [-options] <hmmdb> <seqfile>\r\n",
      "\r\n",
      "Basic options:\r\n",
      "  -h : show brief help on version and usage\r\n",
      "\r\n",
      "Options controlling output:\r\n",
      "  -o <f>           : direct output to file <f>, not stdout\r\n",
      "  --tblout <f>     : save parseable table of per-sequence hits to file <s>\r\n",
      "  --domtblout <f>  : save parseable table of per-domain hits to file <s>\r\n",
      "  --pfamtblout <f> : save table of hits and domains to file, in Pfam format <s>\r\n",
      "  --acc            : prefer accessions over names in output\r\n",
      "  --noali          : don't output alignments, so output is smaller\r\n",
      "  --notextw        : unlimit ASCII text output line width\r\n",
      "  --textw <n>      : set max width of ASCII text output lines  [120]  (n>=120)\r\n",
      "\r\n",
      "Options controlling reporting thresholds:\r\n",
      "  -E <x>     : report models <= this E-value threshold in output  [10.0]  (x>0)\r\n",
      "  -T <x>     : report models >= this score threshold in output\r\n",
      "  --domE <x> : report domains <= this E-value threshold in output  [10.0]  (x>0)\r\n",
      "  --domT <x> : report domains >= this score cutoff in output\r\n",
      "\r\n",
      "Options controlling inclusion (significance) thresholds:\r\n",
      "  --incE <x>    : consider models <= this E-value threshold as significant\r\n",
      "  --incT <x>    : consider models >= this score threshold as significant\r\n",
      "  --incdomE <x> : consider domains <= this E-value threshold as significant\r\n",
      "  --incdomT <x> : consider domains >= this score threshold as significant\r\n",
      "\r\n",
      "Options for model-specific thresholding:\r\n",
      "  --cut_ga : use profile's GA gathering cutoffs to set all thresholding\r\n",
      "  --cut_nc : use profile's NC noise cutoffs to set all thresholding\r\n",
      "  --cut_tc : use profile's TC trusted cutoffs to set all thresholding\r\n",
      "\r\n",
      "Options controlling acceleration heuristics:\r\n",
      "  --max    : Turn all heuristic filters off (less speed, more power)\r\n",
      "  --F1 <x> : MSV threshold: promote hits w/ P <= F1  [0.02]\r\n",
      "  --F2 <x> : Vit threshold: promote hits w/ P <= F2  [1e-3]\r\n",
      "  --F3 <x> : Fwd threshold: promote hits w/ P <= F3  [1e-5]\r\n",
      "  --nobias : turn off composition bias filter\r\n",
      "\r\n",
      "Other expert options:\r\n",
      "  --nonull2     : turn off biased composition score corrections\r\n",
      "  -Z <x>        : set # of comparisons done, for E-value calculation\r\n",
      "  --domZ <x>    : set # of significant seqs, for domain E-value calculation\r\n",
      "  --seed <n>    : set RNG seed to <n> (if 0: one-time arbitrary seed)  [42]\r\n",
      "  --qformat <s> : assert input <seqfile> is in format <s>: no autodetection\r\n",
      "  --daemon      : run program as a daemon\r\n",
      "  --cpu <n>     : number of parallel CPU workers to use for multithreads\r\n"
     ]
    }
   ],
   "source": [
    "! hmmscan -h"
   ]
  },
  {
   "cell_type": "markdown",
   "metadata": {},
   "source": [
    "### liftOver"
   ]
  },
  {
   "cell_type": "code",
   "execution_count": 14,
   "metadata": {
    "collapsed": false
   },
   "outputs": [
    {
     "name": "stdout",
     "output_type": "stream",
     "text": [
      "liftOver - Move annotations from one assembly to another\r\n",
      "usage:\r\n",
      "   liftOver oldFile map.chain newFile unMapped\r\n",
      "oldFile and newFile are in bed format by default, but can be in GFF and\r\n",
      "maybe eventually others with the appropriate flags below.\r\n",
      "The map.chain file has the old genome as the target and the new genome\r\n",
      "as the query.\r\n",
      "\r\n",
      "***********************************************************************\r\n",
      "WARNING: liftOver was only designed to work between different\r\n",
      "         assemblies of the same organism. It may not do what you want\r\n",
      "         if you are lifting between different organisms. If there has\r\n",
      "         been a rearrangement in one of the species, the size of the\r\n",
      "         region being mapped may change dramatically after mapping.\r\n",
      "***********************************************************************\r\n",
      "\r\n",
      "options:\r\n",
      "   -minMatch=0.N Minimum ratio of bases that must remap. Default 0.95\r\n",
      "   -gff  File is in gff/gtf format.  Note that the gff lines are converted\r\n",
      "         separately.  It would be good to have a separate check after this\r\n",
      "         that the lines that make up a gene model still make a plausible gene\r\n",
      "         after liftOver\r\n",
      "   -genePred - File is in genePred format\r\n",
      "   -sample - File is in sample format\r\n",
      "   -bedPlus=N - File is bed N+ format\r\n",
      "   -positions - File is in browser \"position\" format\r\n",
      "   -hasBin - File has bin value (used only with -bedPlus)\r\n",
      "   -tab - Separate by tabs rather than space (used only with -bedPlus)\r\n",
      "   -pslT - File is in psl format, map target side only\r\n",
      "   -ends=N - Lift the first and last N bases of each record and combine the\r\n",
      "             result. This is useful for lifting large regions like BAC end pairs.\r\n",
      "   -minBlocks=0.N Minimum ratio of alignment blocks or exons that must map\r\n",
      "                  (default 1.00)\r\n",
      "   -fudgeThick    (bed 12 or 12+ only) If thickStart/thickEnd is not mapped,\r\n",
      "                  use the closest mapped base.  Recommended if using \r\n",
      "                  -minBlocks.\r\n",
      "   -multiple               Allow multiple output regions\r\n",
      "   -minChainT, -minChainQ  Minimum chain size in target/query, when mapping\r\n",
      "                           to multiple output regions (default 0, 0)\r\n",
      "   -minSizeT               deprecated synonym for -minChainT (ENCODE compat.)\r\n",
      "   -minSizeQ               Min matching region size in query with -multiple.\r\n",
      "   -chainTable             Used with -multiple, format is db.tablename,\r\n",
      "                               to extend chains from net (preserves dups)\r\n",
      "   -errorHelp              Explain error messages\r\n",
      "\r\n"
     ]
    }
   ],
   "source": [
    "! liftOver"
   ]
  },
  {
   "cell_type": "markdown",
   "metadata": {},
   "source": [
    "### RNAhybrid"
   ]
  },
  {
   "cell_type": "code",
   "execution_count": 19,
   "metadata": {
    "collapsed": false
   },
   "outputs": [
    {
     "name": "stdout",
     "output_type": "stream",
     "text": [
      "\r\n",
      "Usage: RNAhybrid [options] [target sequence] [query sequence].\r\n",
      "\r\n",
      "options:\r\n",
      "\r\n",
      "  -b <number of hits per target>\r\n",
      "  -c compact output\r\n",
      "  -d <xi>,<theta>\r\n",
      "  -f helix constraint\r\n",
      "  -h help\r\n",
      "  -m <max targetlength>\r\n",
      "  -n <max query length>\r\n",
      "  -u <max internal loop size (per side)>\r\n",
      "  -v <max bulge loop size>\r\n",
      "  -e <energy cut-off>\r\n",
      "  -p <p-value cut-off>\r\n",
      "  -s (3utr_fly|3utr_worm|3utr_human)\r\n",
      "  -g (ps|png|jpg|all)\r\n",
      "  -t <target file>\r\n",
      "  -q <query file>\r\n",
      "\r\n",
      "Either a target file has to be given (FASTA format)\r\n",
      "or one target sequence directly.\r\n",
      "\r\n",
      "Either a query file has to be given (FASTA format)\r\n",
      "or one query sequence directly.\r\n",
      "\r\n",
      "The helix constraint format is \"from,to\", eg. -f 2,7 forces\r\n",
      "structures to have a helix from position 2 to 7 with respect to the query.\r\n",
      "\r\n",
      "<xi> and <theta> are the position and shape parameters, respectively,\r\n",
      "of the extreme value distribution assumed for p-value calculation.\r\n",
      "If omitted, they are estimated from the maximal duplex energy of the query.\r\n",
      "In that case, a data set name has to be given with the -s flag.\r\n",
      "\r\n",
      "\r\n",
      "PS graphical output not supported.\r\n",
      "\r\n"
     ]
    }
   ],
   "source": [
    "! RNAhybrid -h"
   ]
  },
  {
   "cell_type": "markdown",
   "metadata": {},
   "source": [
    "\n",
    "### IUPred"
   ]
  },
  {
   "cell_type": "code",
   "execution_count": 22,
   "metadata": {
    "collapsed": false
   },
   "outputs": [
    {
     "name": "stdout",
     "output_type": "stream",
     "text": [
      "/bin/sh: IUPred: command not found\r\n"
     ]
    }
   ],
   "source": [
    "! IUPred --version"
   ]
  },
  {
   "cell_type": "code",
   "execution_count": null,
   "metadata": {
    "collapsed": true
   },
   "outputs": [],
   "source": []
  }
 ],
 "metadata": {
  "kernelspec": {
   "display_name": "Python 2",
   "language": "python",
   "name": "python2"
  },
  "language_info": {
   "codemirror_mode": {
    "name": "ipython",
    "version": 2
   },
   "file_extension": ".py",
   "mimetype": "text/x-python",
   "name": "python",
   "nbconvert_exporter": "python",
   "pygments_lexer": "ipython2",
   "version": "2.7.10"
  }
 },
 "nbformat": 4,
 "nbformat_minor": 0
}
