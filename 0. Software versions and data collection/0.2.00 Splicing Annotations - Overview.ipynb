{
 "cells": [
  {
   "cell_type": "markdown",
   "metadata": {},
   "source": [
    "\n",
    "\n",
    "# Overview of splicing annotations\n",
    "\n",
    "A key aspect of this study is the annotation of alternative splicing events. We calcluate alternative splicing of skipped exon and mutually exclusive exons, based on read which uniquely mapped to a junction between exons. These annotation steps can be broken down as such:\n",
    "\n",
    "1. Identify all annotated (Gencode v19 - all levels) exons which are exactly upstream and downstream of all junctions.\n",
    "2. Aggregate exons and junctions into *de novo* splicing annotations of skipped exon (SE) and mutually exclusive exon (MXE) events. \n",
    "    1. If multiple flanking exons are available, use the shortest CDS sequence. If no CDS, the shortest sequence.\n",
    "3. Calculate percent spliced-in (Psi/$\\Psi$) of SE and MXE events, based on junction reads.\n",
    "4. Start a splicing event annotation table.\n",
    "    1. Get gene ids corresponding to SE and MXE event annotations\n",
    "    2. Use these ids to intersect with previously created gene annotations.\n",
    "5. Create bed files of alternative and constitutive exons.\n",
    "    1. Submit a compute job to calculate mean placental mammal conservation of exon bodies (`bigWigAverageOverBed`).\n",
    "6. Use bed files of exons and calculated conservation from (5) to ...\n",
    "    1. Calculate splice site strength\n",
    "    2. Read calcualted conservation from (5)\n",
    "    3. Add this information back to the splicing event annotation table.\n",
    "7. Ancient alternatively spliced exons (Merkin et al, 2012)\n",
    "    1. Obtain ancient alternatively spliced exon table from Merkin 2012\n",
    "    2. Use `liftOver` to convert rhesus macaque (`rheMac2`) coordinates to human (`hg19`) coordinates\n",
    "    2. Overlap with \"Ancient\" alternatively spliced exons (Merkin et al, *Science* 2012).\n",
    "    3. Add this information back to the splicing event annotation table.\n",
    "8. Save conservation wiggle as a memory-mapped Genomic Array\n",
    "    1. Get base-wise conservation of introns flanking alternative and constitutive exons. This will be used in Figure 2 when describing intron conservation of alternative splicing modalities.\n",
    "8. Get RNA sequence of each isoform of SE and MXE events, and ...\n",
    "    1. Estimate predicted miRNA binding sites \n",
    "    2. Estiamte RNA structure (single or double stranded)\n",
    "    3. Add this information back to the splicing event annotation table.\n",
    "9. Get protein sequence of each isoform of SE and MXE events, and ...\n",
    "    1. Use `hmmscan` to estimate Pfam-A protein domains within protein sequences\n",
    "        1. Use `pfam2go` to get gene ontology annotations of pfam domains (Higher order structure)\n",
    "    2. Estimate protein disordered scores using `IUPred`\n",
    "    3. Add this information back to the splicing event annotation table.\n",
    "\n"
   ]
  },
  {
   "cell_type": "code",
   "execution_count": 1,
   "metadata": {
    "collapsed": false
   },
   "outputs": [
    {
     "name": "stdout",
     "output_type": "stream",
     "text": [
      "Writing README.md\n"
     ]
    }
   ],
   "source": [
    "%%file README.md\n",
    "\n",
    "# Overview of splicing annotations\n",
    "\n",
    "A key aspect of this study is the annotation of alternative splicing events. We calcluate alternative splicing of skipped exon and mutually exclusive exons, based on read which uniquely mapped to a junction between exons. These annotation steps can be broken down as such:\n",
    "\n",
    "1. Identify all annotated (Gencode v19 - all levels) exons which are exactly upstream and downstream of all junctions.\n",
    "2. Aggregate exons and junctions into *de novo* splicing annotations of skipped exon (SE) and mutually exclusive exon (MXE) events. \n",
    "    1. If multiple flanking exons are available, use the shortest CDS sequence. If no CDS, the shortest sequence.\n",
    "3. Calculate percent spliced-in (Psi/$\\Psi$) of SE and MXE events, based on junction reads.\n",
    "4. Start a splicing event annotation table.\n",
    "    1. Get gene ids corresponding to SE and MXE event annotations\n",
    "    2. Use these ids to intersect with previously created gene annotations.\n",
    "5. Create bed files of alternative and constitutive exons.\n",
    "    1. Submit a compute job to calculate mean placental mammal conservation of exon bodies (`bigWigAverageOverBed`).\n",
    "6. Use bed files of exons and calculated conservation from (5) to ...\n",
    "    1. Calculate splice site strength\n",
    "    2. Read calcualted conservation from (5)\n",
    "    3. Add this information back to the splicing event annotation table.\n",
    "7. Ancient alternatively spliced exons (Merkin et al, 2012)\n",
    "    1. Obtain ancient alternatively spliced exon table from Merkin 2012\n",
    "    2. Use `liftOver` to convert rhesus macaque (`rheMac2`) coordinates to human (`hg19`) coordinates\n",
    "    2. Overlap with \"Ancient\" alternatively spliced exons (Merkin et al, *Science* 2012).\n",
    "    3. Add this information back to the splicing event annotation table.\n",
    "8. Save conservation wiggle as a memory-mapped Genomic Array\n",
    "    1. Get base-wise conservation of introns flanking alternative and constitutive exons. This will be used in Figure 2 when describing intron conservation of alternative splicing modalities.\n",
    "8. Get RNA sequence of each isoform of SE and MXE events, and ...\n",
    "    1. Estimate predicted miRNA binding sites \n",
    "    2. Estiamte RNA structure (single or double stranded)\n",
    "    3. Add this information back to the splicing event annotation table.\n",
    "9. Get protein sequence of each isoform of SE and MXE events, and ...\n",
    "    1. Use `hmmscan` to estimate Pfam-A protein domains within protein sequences\n",
    "        1. Use `pfam2go` to get gene ontology annotations of pfam domains (Higher order structure)\n",
    "    2. Estimate protein disordered scores using `IUPred`\n",
    "    3. Add this information back to the splicing event annotation table.\n",
    "\n"
   ]
  },
  {
   "cell_type": "code",
   "execution_count": null,
   "metadata": {
    "collapsed": true
   },
   "outputs": [],
   "source": []
  }
 ],
 "metadata": {
  "kernelspec": {
   "display_name": "Python 2",
   "language": "python",
   "name": "python2"
  },
  "language_info": {
   "codemirror_mode": {
    "name": "ipython",
    "version": 2
   },
   "file_extension": ".py",
   "mimetype": "text/x-python",
   "name": "python",
   "nbconvert_exporter": "python",
   "pygments_lexer": "ipython2",
   "version": "2.7.10"
  }
 },
 "nbformat": 4,
 "nbformat_minor": 0
}
