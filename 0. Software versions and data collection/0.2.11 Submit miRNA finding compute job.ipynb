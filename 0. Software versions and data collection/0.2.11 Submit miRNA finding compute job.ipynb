{
 "cells": [
  {
   "cell_type": "markdown",
   "metadata": {
    "collapsed": false
   },
   "source": [
    "## Calculate miRNA hybridization\n",
    "\n",
    "For RNA targets, James Broughton from the Pasquinelli lab recommends `RNAhybrid`, and to use just the first 17 nt of the mature miRNA. Wanted to use `fastx-trimmer` but it only takes DNA sequences  - `U`'s are illegal :("
   ]
  },
  {
   "cell_type": "code",
   "execution_count": 2,
   "metadata": {
    "collapsed": true
   },
   "outputs": [],
   "source": [
    "from Bio import SeqIO\n",
    "import sys\n",
    "import os\n",
    "\n",
    "result_seq = []\n",
    "filename = '/projects/ps-yeolab/genomes/mirbase/release_21/human_mature.fa'\n",
    "with open(filename) as infile:\n",
    "    for seq in SeqIO.parse(infile, 'fasta'):\n",
    "        result_seq.append(seq[:17])\n",
    "\n",
    "trimmed_filename = '/projects/ps-yeolab/genomes/mirbase/release_21/human_mature_17bp.fa'\n",
    "with open(trimmed_filename, 'w') as outfile:\n",
    "    SeqIO.write(result_seq, outfile, 'fasta')"
   ]
  },
  {
   "cell_type": "markdown",
   "metadata": {},
   "source": [
    "Submit a compute job to calculate microRNA hybridization."
   ]
  },
  {
   "cell_type": "code",
   "execution_count": 4,
   "metadata": {
    "collapsed": false
   },
   "outputs": [],
   "source": [
    "folder = '/projects/ps-yeolab/obotvinnik/singlecell_pnms'\n",
    "prefix = 'skipped_exon_isoform_transcriptions'\n",
    "transcribed_fasta = '{}/{}.fa'.format(folder, prefix)"
   ]
  },
  {
   "cell_type": "code",
   "execution_count": 5,
   "metadata": {
    "collapsed": false
   },
   "outputs": [
    {
     "name": "stderr",
     "output_type": "stream",
     "text": [
      "job ID: 3320888\n"
     ]
    }
   ],
   "source": [
    "from gscripts.qtools import Submitter\n",
    "\n",
    "mirna_seqs = '/projects/ps-yeolab/genomes/mirbase/release_21/human_mature_17bp.fa'\n",
    "rnahybrid_results = '/projects/ps-yeolab/obotvinnik/miso_helpers/hg19/se_exon2_RNAhybrid_mirbase_human_mature_17bp_mfe_cutoff.txt'\n",
    "command = 'RNAhybrid -c -s 3utr_human -e -28 -q {} -t {} > {}'.format(mirna_seqs, transcribed_fasta, rnahybrid_results)\n",
    "sub = Submitter([command], 'RNAhybrid', walltime='120:00:00', write_and_submit=True)"
   ]
  },
  {
   "cell_type": "markdown",
   "metadata": {},
   "source": [
    "Reading the output takes a LONG time"
   ]
  },
  {
   "cell_type": "code",
   "execution_count": null,
   "metadata": {
    "collapsed": true
   },
   "outputs": [],
   "source": [
    "%%time\n",
    "import pandas as pd\n",
    "from collections import Counter\n",
    "\n",
    "rnahybrid = pd.read_csv('/projects/ps-yeolab/obotvinnik/miso_helpers/hg19/se_exon2_RNAhybrid_mirbase_human_mature_17bp.txt', \n",
    "                        sep=':', \n",
    "#                         index_col=[0, 1, 3], \n",
    "                        header=None,\n",
    "                        names=['chrom', 'start-stop', 'exon_length', 'mirna', 'mirna_length',\n",
    "                                                                 'minimum_free_energy', 'p_value', 'target_bound_start', 'mirna_unbound',\n",
    "                                                                 'mirna_bound', 'exon_bound', 'exon_bound'])\n",
    "rnahybrid = rnahybrid.ix[rnahybrid.minimum_free_energy < -28]\n",
    "grouped = rnahybrid.groupby(['chrom', 'start-stop'])\n",
    "chrom_startstop_mirna = grouped.mirna.apply(lambda x: ','.join('{}[{}]'.format(k, v) for k,v in Counter(x).items()))\n",
    "chrom_startstop_mirna.head()"
   ]
  }
 ],
 "metadata": {
  "kernelspec": {
   "display_name": "Python 2",
   "language": "python",
   "name": "python2"
  },
  "language_info": {
   "codemirror_mode": {
    "name": "ipython",
    "version": 2
   },
   "file_extension": ".py",
   "mimetype": "text/x-python",
   "name": "python",
   "nbconvert_exporter": "python",
   "pygments_lexer": "ipython2",
   "version": "2.7.10"
  }
 },
 "nbformat": 4,
 "nbformat_minor": 0
}
