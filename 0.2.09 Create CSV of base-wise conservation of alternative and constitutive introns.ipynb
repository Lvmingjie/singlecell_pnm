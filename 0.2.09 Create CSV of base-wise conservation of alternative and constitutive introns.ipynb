{
 "cells": [
  {
   "cell_type": "markdown",
   "metadata": {},
   "source": [
    "# Base-wise conservation of introns\n",
    "\n",
    "\n",
    "First, load the memory-mapped pickle file that was created in notebook [0.2.09]"
   ]
  },
  {
   "cell_type": "code",
   "execution_count": null,
   "metadata": {
    "collapsed": false
   },
   "outputs": [
    {
     "name": "stdout",
     "output_type": "stream",
     "text": [
      "-rw-r--r-- 1 obotvinnik yeo-group 79G Sep 26 07:33 /home/obotvinnik/projects/singlecell_pnms/analysis/htseq_memmap/hg19_phastcons_placental_mammal_htseq.pickle\r\n"
     ]
    }
   ],
   "source": [
    "%%time\n",
    "\n",
    "import cPickle as pickle\n",
    "\n",
    "memmap_dir = '/home/obotvinnik/projects/singlecell_pnms/analysis/htseq_memmap'\n",
    "filename = '{}/hg19_phastcons_placental_mammal_htseq.pickle'.format(memmap_dir)\n",
    "! ls -lh $filename\n",
    "with open(filename) as f:\n",
    "    conservation = pickle.load(f)"
   ]
  },
  {
   "cell_type": "code",
   "execution_count": null,
   "metadata": {
    "collapsed": true
   },
   "outputs": [],
   "source": [
    "folder = '/projects/ps-yeolab/obotvinnik/singlecell_pnms/'\n",
    "\n",
    "alt_exons_bedfile = '{}/skipped_exon_exon2.bed'.format(folder)\n",
    "constitutive_bedfile = '{}/constitutive_exons.bed'.format(folder)"
   ]
  },
  {
   "cell_type": "code",
   "execution_count": null,
   "metadata": {
    "collapsed": false
   },
   "outputs": [],
   "source": [
    "import glob\n",
    "import os\n",
    "import numpy as np\n",
    "import pandas as pd\n",
    "import pybedtools\n",
    "\n",
    "bedfiles = alt_exons_bedfile, constitutive_bedfile\n",
    "\n",
    "directions = 'upstream', 'downstream'\n",
    "\n",
    "nt = 200\n",
    "\n",
    "\n",
    "bed_folder = '/projects/ps-yeolab/obotvinnik/singlecell_pnms'\n",
    "\n",
    "for bedfile in bedfiles:\n",
    "    bed = pybedtools.BedTool(bedfile)\n",
    "\n",
    "    basename = os.path.basename(bedfile)\n",
    "    prefix = basename.split('.bed')[0]\n",
    "    \n",
    "    for direction in directions:\n",
    "        if direction == 'downstream':\n",
    "            # Get downstream intron\n",
    "            intron = bed.flank(l=0, r=nt, s=True, g=pybedtools.chromsizes('hg19'))\n",
    "        else:\n",
    "            intron = bed.flank(l=nt, r=0, s=True, g=pybedtools.chromsizes('hg19'))\n",
    "        \n",
    "        # Get just unique upstream,/downstream\n",
    "        intron = pybedtools.BedTool(list(set(x for x in intron)))\n",
    "        nrow = len(intron)\n",
    "        ncol = nt\n",
    "        array = np.zeros(shape=(nrow, ncol), dtype=float)\n",
    "        junction_ids = pd.Series(index=np.arange(nrow))\n",
    "\n",
    "        print 'Iterating over {} intervals in {} {}nt of {} ...'.format(nrow, name, nt, basename)\n",
    "        for i, interval in enumerate(intron):\n",
    "            if (i+1) % 1000 == 0:\n",
    "                print '\\t{}\\t{}/{}'.format(timestamp(), i+1, nrow)\n",
    "            junction_ids[i] = interval.name\n",
    "            region = conservation[HTSeq.GenomicInterval(interval.chrom, interval.start, interval.stop)]\n",
    "            count = sum(1 for _ in region.values())\n",
    "            subset = np.fromiter(region.values(),\n",
    "                                 dtype=float, count=count)\n",
    "            if interval.strand == '-':\n",
    "                subset = subset[::-1]\n",
    "                j = nt - count\n",
    "                array[i][j:] = subset\n",
    "            else:\n",
    "                j = count\n",
    "                array[i][:j] = subset\n",
    "        intron_conservation = pd.DataFrame(array, index=junction_ids.values)\n",
    "        filename = '{}/{}_{}{}_placental_mammal_conservation.csv'.format(bed_folder, prefix, name, nt)\n",
    "        print filename\n",
    "        intron_conservation.to_csv(filename)"
   ]
  },
  {
   "cell_type": "code",
   "execution_count": null,
   "metadata": {
    "collapsed": true
   },
   "outputs": [],
   "source": []
  }
 ],
 "metadata": {
  "kernelspec": {
   "display_name": "Python 2",
   "language": "python",
   "name": "python2"
  },
  "language_info": {
   "codemirror_mode": {
    "name": "ipython",
    "version": 2
   },
   "file_extension": ".py",
   "mimetype": "text/x-python",
   "name": "python",
   "nbconvert_exporter": "python",
   "pygments_lexer": "ipython2",
   "version": "2.7.10"
  }
 },
 "nbformat": 4,
 "nbformat_minor": 0
}
