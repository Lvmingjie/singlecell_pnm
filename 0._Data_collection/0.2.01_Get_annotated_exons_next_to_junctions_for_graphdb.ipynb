{
 "cells": [
  {
   "cell_type": "markdown",
   "metadata": {},
   "source": [
    "TODO add microexons\n",
    "\n",
    "    /projects/ps-yeolab/software/vast-tools/VASTDB/Hsa/TEMPLATES/Hsa.MIC.Template.txt"
   ]
  },
  {
   "cell_type": "code",
   "execution_count": 2,
   "metadata": {
    "collapsed": false
   },
   "outputs": [
    {
     "name": "stdout",
     "output_type": "stream",
     "text": [
      "The autoreload extension is already loaded. To reload it, use:\n",
      "  %reload_ext autoreload\n"
     ]
    },
    {
     "data": {
      "text/html": [
       "<div>\n",
       "<table border=\"1\" class=\"dataframe\">\n",
       "  <thead>\n",
       "    <tr style=\"text-align: right;\">\n",
       "      <th></th>\n",
       "      <th>chrom</th>\n",
       "      <th>intron_start</th>\n",
       "      <th>intron_stop</th>\n",
       "      <th>strand</th>\n",
       "      <th>intron_motif</th>\n",
       "      <th>annotated</th>\n",
       "    </tr>\n",
       "    <tr>\n",
       "      <th>intron_location</th>\n",
       "      <th></th>\n",
       "      <th></th>\n",
       "      <th></th>\n",
       "      <th></th>\n",
       "      <th></th>\n",
       "      <th></th>\n",
       "    </tr>\n",
       "  </thead>\n",
       "  <tbody>\n",
       "    <tr>\n",
       "      <th>chr1:14830-14969:-</th>\n",
       "      <td>chr1</td>\n",
       "      <td>14830</td>\n",
       "      <td>14969</td>\n",
       "      <td>-</td>\n",
       "      <td>GT/AG</td>\n",
       "      <td>True</td>\n",
       "    </tr>\n",
       "    <tr>\n",
       "      <th>chr1:15039-15795:-</th>\n",
       "      <td>chr1</td>\n",
       "      <td>15039</td>\n",
       "      <td>15795</td>\n",
       "      <td>-</td>\n",
       "      <td>GT/AG</td>\n",
       "      <td>True</td>\n",
       "    </tr>\n",
       "    <tr>\n",
       "      <th>chr1:228777-237053:-</th>\n",
       "      <td>chr1</td>\n",
       "      <td>228777</td>\n",
       "      <td>237053</td>\n",
       "      <td>-</td>\n",
       "      <td>GT/AG</td>\n",
       "      <td>True</td>\n",
       "    </tr>\n",
       "    <tr>\n",
       "      <th>chr1:320654-324287:+</th>\n",
       "      <td>chr1</td>\n",
       "      <td>320654</td>\n",
       "      <td>324287</td>\n",
       "      <td>+</td>\n",
       "      <td>GT/AG</td>\n",
       "      <td>True</td>\n",
       "    </tr>\n",
       "    <tr>\n",
       "      <th>chr1:320939-321031:+</th>\n",
       "      <td>chr1</td>\n",
       "      <td>320939</td>\n",
       "      <td>321031</td>\n",
       "      <td>+</td>\n",
       "      <td>GT/AG</td>\n",
       "      <td>True</td>\n",
       "    </tr>\n",
       "  </tbody>\n",
       "</table>\n",
       "</div>"
      ],
      "text/plain": [
       "                     chrom  intron_start  intron_stop strand intron_motif  \\\n",
       "intron_location                                                             \n",
       "chr1:14830-14969:-    chr1         14830        14969      -        GT/AG   \n",
       "chr1:15039-15795:-    chr1         15039        15795      -        GT/AG   \n",
       "chr1:228777-237053:-  chr1        228777       237053      -        GT/AG   \n",
       "chr1:320654-324287:+  chr1        320654       324287      +        GT/AG   \n",
       "chr1:320939-321031:+  chr1        320939       321031      +        GT/AG   \n",
       "\n",
       "                     annotated  \n",
       "intron_location                 \n",
       "chr1:14830-14969:-        True  \n",
       "chr1:15039-15795:-        True  \n",
       "chr1:228777-237053:-      True  \n",
       "chr1:320654-324287:+      True  \n",
       "chr1:320939-321031:+      True  "
      ]
     },
     "execution_count": 2,
     "metadata": {},
     "output_type": "execute_result"
    }
   ],
   "source": [
    "import pandas as pd\n",
    "import gffutils\n",
    "import pybedtools\n",
    "import re\n",
    "import numpy as np\n",
    "\n",
    "%load_ext autoreload\n",
    "%autoreload 2\n",
    "\n",
    "# from outrigger.junctions_to_events import make_junction_exon_triples\n",
    "\n",
    "v19db_filename = '/projects/ps-yeolab/genomes/hg19/gencode/v19/gencode.v19.annotation.gtf.db'\n",
    "v19db = gffutils.FeatureDB(v19db_filename)\n",
    "\n",
    "folder = '/home/obotvinnik/projects/singlecell_pnms/analysis/csvs_for_paper'\n",
    "\n",
    "sj_metadata = pd.read_csv('{}/sj_metadata.csv'.format(folder), index_col=0)\n",
    "sj_metadata.head()"
   ]
  },
  {
   "cell_type": "code",
   "execution_count": 1,
   "metadata": {
    "collapsed": true
   },
   "outputs": [],
   "source": [
    "import gffutils"
   ]
  },
  {
   "cell_type": "code",
   "execution_count": 3,
   "metadata": {
    "collapsed": true
   },
   "outputs": [],
   "source": [
    "gffutils.create_db?"
   ]
  },
  {
   "cell_type": "code",
   "execution_count": 2,
   "metadata": {
    "collapsed": false
   },
   "outputs": [
    {
     "ename": "ValueError",
     "evalue": "Database file asdf.db does not exist",
     "output_type": "error",
     "traceback": [
      "\u001b[1;31m---------------------------------------------------------------------------\u001b[0m",
      "\u001b[1;31mValueError\u001b[0m                                Traceback (most recent call last)",
      "\u001b[1;32m<ipython-input-2-af511cf8841a>\u001b[0m in \u001b[0;36m<module>\u001b[1;34m()\u001b[0m\n\u001b[1;32m----> 1\u001b[1;33m \u001b[0mgffutils\u001b[0m\u001b[1;33m.\u001b[0m\u001b[0mFeatureDB\u001b[0m\u001b[1;33m(\u001b[0m\u001b[1;34m'asdf.db'\u001b[0m\u001b[1;33m)\u001b[0m\u001b[1;33m\u001b[0m\u001b[0m\n\u001b[0m",
      "\u001b[1;32m/home/obotvinnik/anaconda/lib/python2.7/site-packages/gffutils/interface.pyc\u001b[0m in \u001b[0;36m__init__\u001b[1;34m(self, dbfn, default_encoding, keep_order, pragmas, sort_attribute_values, text_factory)\u001b[0m\n\u001b[0;32m    109\u001b[0m         \u001b[1;32melse\u001b[0m\u001b[1;33m:\u001b[0m\u001b[1;33m\u001b[0m\u001b[0m\n\u001b[0;32m    110\u001b[0m             \u001b[1;32mif\u001b[0m \u001b[1;32mnot\u001b[0m \u001b[0mos\u001b[0m\u001b[1;33m.\u001b[0m\u001b[0mpath\u001b[0m\u001b[1;33m.\u001b[0m\u001b[0mexists\u001b[0m\u001b[1;33m(\u001b[0m\u001b[0mdbfn\u001b[0m\u001b[1;33m)\u001b[0m\u001b[1;33m:\u001b[0m\u001b[1;33m\u001b[0m\u001b[0m\n\u001b[1;32m--> 111\u001b[1;33m                 \u001b[1;32mraise\u001b[0m \u001b[0mValueError\u001b[0m\u001b[1;33m(\u001b[0m\u001b[1;34m\"Database file %s does not exist\"\u001b[0m \u001b[1;33m%\u001b[0m \u001b[0mdbfn\u001b[0m\u001b[1;33m)\u001b[0m\u001b[1;33m\u001b[0m\u001b[0m\n\u001b[0m\u001b[0;32m    112\u001b[0m             \u001b[0mself\u001b[0m\u001b[1;33m.\u001b[0m\u001b[0mdbfn\u001b[0m \u001b[1;33m=\u001b[0m \u001b[0mdbfn\u001b[0m\u001b[1;33m\u001b[0m\u001b[0m\n\u001b[0;32m    113\u001b[0m             \u001b[0mself\u001b[0m\u001b[1;33m.\u001b[0m\u001b[0mconn\u001b[0m \u001b[1;33m=\u001b[0m \u001b[0msqlite3\u001b[0m\u001b[1;33m.\u001b[0m\u001b[0mconnect\u001b[0m\u001b[1;33m(\u001b[0m\u001b[0mself\u001b[0m\u001b[1;33m.\u001b[0m\u001b[0mdbfn\u001b[0m\u001b[1;33m)\u001b[0m\u001b[1;33m\u001b[0m\u001b[0m\n",
      "\u001b[1;31mValueError\u001b[0m: Database file asdf.db does not exist"
     ]
    }
   ],
   "source": [
    "gffutils.FeatureDB('asdf.db')"
   ]
  },
  {
   "cell_type": "markdown",
   "metadata": {},
   "source": [
    "`intron_start` and `intron_stop` are defined as absolute coordinates (1-based, like GFF files) in the genome, regardless of strand. Thus, `intron_start` is **always** smaller than `intron_stop`. We can test the converse here, which asks if `intron_start` is *ever* larger than `intron_stop`. The result of this is 0, as it should be."
   ]
  },
  {
   "cell_type": "code",
   "execution_count": 3,
   "metadata": {
    "collapsed": false
   },
   "outputs": [
    {
     "data": {
      "text/plain": [
       "0"
      ]
     },
     "execution_count": 3,
     "metadata": {},
     "output_type": "execute_result"
    }
   ],
   "source": [
    "(sj_metadata['intron_start'] > sj_metadata['intron_stop']).sum()"
   ]
  },
  {
   "cell_type": "markdown",
   "metadata": {},
   "source": [
    "To get exons adjacent to the introns, we need to have a column that maps to an exon coordinate. Subtracting one (1) from `intron_start` gets us the end of the exon (`exon_stop`) and adding one (1) to `intron_stop` gets us the beginning of the exon (`exon_start`)"
   ]
  },
  {
   "cell_type": "code",
   "execution_count": 4,
   "metadata": {
    "collapsed": false
   },
   "outputs": [
    {
     "data": {
      "text/html": [
       "<div>\n",
       "<table border=\"1\" class=\"dataframe\">\n",
       "  <thead>\n",
       "    <tr style=\"text-align: right;\">\n",
       "      <th></th>\n",
       "      <th>chrom</th>\n",
       "      <th>intron_start</th>\n",
       "      <th>intron_stop</th>\n",
       "      <th>strand</th>\n",
       "      <th>intron_motif</th>\n",
       "      <th>annotated</th>\n",
       "      <th>exon_stop</th>\n",
       "      <th>exon_start</th>\n",
       "    </tr>\n",
       "    <tr>\n",
       "      <th>intron_location</th>\n",
       "      <th></th>\n",
       "      <th></th>\n",
       "      <th></th>\n",
       "      <th></th>\n",
       "      <th></th>\n",
       "      <th></th>\n",
       "      <th></th>\n",
       "      <th></th>\n",
       "    </tr>\n",
       "  </thead>\n",
       "  <tbody>\n",
       "    <tr>\n",
       "      <th>chr1:14830-14969:-</th>\n",
       "      <td>chr1</td>\n",
       "      <td>14830</td>\n",
       "      <td>14969</td>\n",
       "      <td>-</td>\n",
       "      <td>GT/AG</td>\n",
       "      <td>True</td>\n",
       "      <td>14829</td>\n",
       "      <td>14970</td>\n",
       "    </tr>\n",
       "    <tr>\n",
       "      <th>chr1:15039-15795:-</th>\n",
       "      <td>chr1</td>\n",
       "      <td>15039</td>\n",
       "      <td>15795</td>\n",
       "      <td>-</td>\n",
       "      <td>GT/AG</td>\n",
       "      <td>True</td>\n",
       "      <td>15038</td>\n",
       "      <td>15796</td>\n",
       "    </tr>\n",
       "    <tr>\n",
       "      <th>chr1:228777-237053:-</th>\n",
       "      <td>chr1</td>\n",
       "      <td>228777</td>\n",
       "      <td>237053</td>\n",
       "      <td>-</td>\n",
       "      <td>GT/AG</td>\n",
       "      <td>True</td>\n",
       "      <td>228776</td>\n",
       "      <td>237054</td>\n",
       "    </tr>\n",
       "    <tr>\n",
       "      <th>chr1:320654-324287:+</th>\n",
       "      <td>chr1</td>\n",
       "      <td>320654</td>\n",
       "      <td>324287</td>\n",
       "      <td>+</td>\n",
       "      <td>GT/AG</td>\n",
       "      <td>True</td>\n",
       "      <td>320653</td>\n",
       "      <td>324288</td>\n",
       "    </tr>\n",
       "    <tr>\n",
       "      <th>chr1:320939-321031:+</th>\n",
       "      <td>chr1</td>\n",
       "      <td>320939</td>\n",
       "      <td>321031</td>\n",
       "      <td>+</td>\n",
       "      <td>GT/AG</td>\n",
       "      <td>True</td>\n",
       "      <td>320938</td>\n",
       "      <td>321032</td>\n",
       "    </tr>\n",
       "  </tbody>\n",
       "</table>\n",
       "</div>"
      ],
      "text/plain": [
       "                     chrom  intron_start  intron_stop strand intron_motif  \\\n",
       "intron_location                                                             \n",
       "chr1:14830-14969:-    chr1         14830        14969      -        GT/AG   \n",
       "chr1:15039-15795:-    chr1         15039        15795      -        GT/AG   \n",
       "chr1:228777-237053:-  chr1        228777       237053      -        GT/AG   \n",
       "chr1:320654-324287:+  chr1        320654       324287      +        GT/AG   \n",
       "chr1:320939-321031:+  chr1        320939       321031      +        GT/AG   \n",
       "\n",
       "                     annotated  exon_stop  exon_start  \n",
       "intron_location                                        \n",
       "chr1:14830-14969:-        True      14829       14970  \n",
       "chr1:15039-15795:-        True      15038       15796  \n",
       "chr1:228777-237053:-      True     228776      237054  \n",
       "chr1:320654-324287:+      True     320653      324288  \n",
       "chr1:320939-321031:+      True     320938      321032  "
      ]
     },
     "execution_count": 4,
     "metadata": {},
     "output_type": "execute_result"
    }
   ],
   "source": [
    "sj_metadata['exon_stop'] = sj_metadata['intron_start'] - 1\n",
    "sj_metadata['exon_start'] = sj_metadata['intron_stop'] + 1\n",
    "sj_metadata.head()"
   ]
  },
  {
   "cell_type": "code",
   "execution_count": 5,
   "metadata": {
    "collapsed": true
   },
   "outputs": [],
   "source": [
    "from joblib import Parallel, delayed\n",
    "from outrigger.junctions_to_events import adjacent_junctions"
   ]
  },
  {
   "cell_type": "markdown",
   "metadata": {},
   "source": [
    "Paralellization doesn't seem to be faster"
   ]
  },
  {
   "cell_type": "code",
   "execution_count": null,
   "metadata": {
    "collapsed": false
   },
   "outputs": [],
   "source": [
    "# %%time\n",
    "# dfs = Parallel(n_jobs=4)(delayed(adjacent_junctions)(\n",
    "#         x, sj_metadata, chrom='chrom')for x in v19db.features_of_type('exon')) "
   ]
  },
  {
   "cell_type": "code",
   "execution_count": null,
   "metadata": {
    "collapsed": true
   },
   "outputs": [],
   "source": [
    "juction_exon_triples = pd.concat(dfs, ignore_index=True)"
   ]
  },
  {
   "cell_type": "code",
   "execution_count": null,
   "metadata": {
    "collapsed": false
   },
   "outputs": [],
   "source": [
    "dfs = []\n",
    "for exon in v19db.features_of_type('exon'):\n",
    "    dfs.append(adjacent_junctions(exon, sj_metadata))"
   ]
  },
  {
   "cell_type": "code",
   "execution_count": 12,
   "metadata": {
    "collapsed": true
   },
   "outputs": [],
   "source": [
    "junction_exon_triples = pd.concat(dfs, ignore_index=True)"
   ]
  },
  {
   "cell_type": "code",
   "execution_count": 13,
   "metadata": {
    "collapsed": false
   },
   "outputs": [
    {
     "data": {
      "text/html": [
       "<div>\n",
       "<table border=\"1\" class=\"dataframe\">\n",
       "  <thead>\n",
       "    <tr style=\"text-align: right;\">\n",
       "      <th></th>\n",
       "      <th>exon</th>\n",
       "      <th>direction</th>\n",
       "      <th>junction</th>\n",
       "    </tr>\n",
       "  </thead>\n",
       "  <tbody>\n",
       "    <tr>\n",
       "      <th>0</th>\n",
       "      <td>exon:chr1:29321-29370:-</td>\n",
       "      <td>upstream</td>\n",
       "      <td>chr1:18367-29320:-</td>\n",
       "    </tr>\n",
       "    <tr>\n",
       "      <th>1</th>\n",
       "      <td>exon:chr1:29321-29370:-</td>\n",
       "      <td>upstream</td>\n",
       "      <td>chr1:24892-29320:-</td>\n",
       "    </tr>\n",
       "    <tr>\n",
       "      <th>2</th>\n",
       "      <td>exon:chr1:29321-29370:-</td>\n",
       "      <td>upstream</td>\n",
       "      <td>chr1:27186-29320:-</td>\n",
       "    </tr>\n",
       "    <tr>\n",
       "      <th>3</th>\n",
       "      <td>exon:chr1:29321-29370:-</td>\n",
       "      <td>upstream</td>\n",
       "      <td>chr1:18380-29320:-</td>\n",
       "    </tr>\n",
       "    <tr>\n",
       "      <th>4</th>\n",
       "      <td>exon:chr1:29321-29370:-</td>\n",
       "      <td>upstream</td>\n",
       "      <td>chr1:18370-29320:-</td>\n",
       "    </tr>\n",
       "  </tbody>\n",
       "</table>\n",
       "</div>"
      ],
      "text/plain": [
       "                      exon direction            junction\n",
       "0  exon:chr1:29321-29370:-  upstream  chr1:18367-29320:-\n",
       "1  exon:chr1:29321-29370:-  upstream  chr1:24892-29320:-\n",
       "2  exon:chr1:29321-29370:-  upstream  chr1:27186-29320:-\n",
       "3  exon:chr1:29321-29370:-  upstream  chr1:18380-29320:-\n",
       "4  exon:chr1:29321-29370:-  upstream  chr1:18370-29320:-"
      ]
     },
     "execution_count": 13,
     "metadata": {},
     "output_type": "execute_result"
    }
   ],
   "source": [
    "junction_exon_triples.head()"
   ]
  },
  {
   "cell_type": "code",
   "execution_count": 14,
   "metadata": {
    "collapsed": false
   },
   "outputs": [],
   "source": [
    "junction_exon_triples.to_csv('{}/junction_exon_triples.csv'.format(folder), index=False)"
   ]
  },
  {
   "cell_type": "code",
   "execution_count": null,
   "metadata": {
    "collapsed": true
   },
   "outputs": [],
   "source": []
  }
 ],
 "metadata": {
  "kernelspec": {
   "display_name": "Python 2",
   "language": "python",
   "name": "python2"
  },
  "language_info": {
   "codemirror_mode": {
    "name": "ipython",
    "version": 2
   },
   "file_extension": ".py",
   "mimetype": "text/x-python",
   "name": "python",
   "nbconvert_exporter": "python",
   "pygments_lexer": "ipython2",
   "version": "2.7.11"
  }
 },
 "nbformat": 4,
 "nbformat_minor": 0
}
