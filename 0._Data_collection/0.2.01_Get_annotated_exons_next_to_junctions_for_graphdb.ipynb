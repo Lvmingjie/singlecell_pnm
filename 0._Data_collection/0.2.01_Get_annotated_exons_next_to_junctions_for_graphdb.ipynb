{
 "cells": [
  {
   "cell_type": "code",
   "execution_count": 1,
   "metadata": {
    "collapsed": false
   },
   "outputs": [
    {
     "name": "stderr",
     "output_type": "stream",
     "text": [
      "/home/obotvinnik/anaconda/lib/python2.7/site-packages/matplotlib/__init__.py:784: UserWarning: Found matplotlib configuration in ~/.matplotlib/. To conform with the XDG base directory standard, this configuration location has been deprecated on Linux, and the new location is now /home/obotvinnik/.config/matplotlib/. Please move your configuration there to ensure that matplotlib will continue to find it in the future.\n",
      "  _get_xdg_config_dir())\n"
     ]
    },
    {
     "data": {
      "text/html": [
       "<div>\n",
       "<table border=\"1\" class=\"dataframe\">\n",
       "  <thead>\n",
       "    <tr style=\"text-align: right;\">\n",
       "      <th></th>\n",
       "      <th>chrom</th>\n",
       "      <th>intron_start</th>\n",
       "      <th>intron_stop</th>\n",
       "      <th>strand</th>\n",
       "      <th>intron_motif</th>\n",
       "      <th>annotated</th>\n",
       "    </tr>\n",
       "    <tr>\n",
       "      <th>intron_location</th>\n",
       "      <th></th>\n",
       "      <th></th>\n",
       "      <th></th>\n",
       "      <th></th>\n",
       "      <th></th>\n",
       "      <th></th>\n",
       "    </tr>\n",
       "  </thead>\n",
       "  <tbody>\n",
       "    <tr>\n",
       "      <th>chr1:14830-14969:-</th>\n",
       "      <td>chr1</td>\n",
       "      <td>14830</td>\n",
       "      <td>14969</td>\n",
       "      <td>-</td>\n",
       "      <td>GT/AG</td>\n",
       "      <td>True</td>\n",
       "    </tr>\n",
       "    <tr>\n",
       "      <th>chr1:15039-15795:-</th>\n",
       "      <td>chr1</td>\n",
       "      <td>15039</td>\n",
       "      <td>15795</td>\n",
       "      <td>-</td>\n",
       "      <td>GT/AG</td>\n",
       "      <td>True</td>\n",
       "    </tr>\n",
       "    <tr>\n",
       "      <th>chr1:228777-237053:-</th>\n",
       "      <td>chr1</td>\n",
       "      <td>228777</td>\n",
       "      <td>237053</td>\n",
       "      <td>-</td>\n",
       "      <td>GT/AG</td>\n",
       "      <td>True</td>\n",
       "    </tr>\n",
       "    <tr>\n",
       "      <th>chr1:320654-324287:+</th>\n",
       "      <td>chr1</td>\n",
       "      <td>320654</td>\n",
       "      <td>324287</td>\n",
       "      <td>+</td>\n",
       "      <td>GT/AG</td>\n",
       "      <td>True</td>\n",
       "    </tr>\n",
       "    <tr>\n",
       "      <th>chr1:320939-321031:+</th>\n",
       "      <td>chr1</td>\n",
       "      <td>320939</td>\n",
       "      <td>321031</td>\n",
       "      <td>+</td>\n",
       "      <td>GT/AG</td>\n",
       "      <td>True</td>\n",
       "    </tr>\n",
       "  </tbody>\n",
       "</table>\n",
       "</div>"
      ],
      "text/plain": [
       "                     chrom  intron_start  intron_stop strand intron_motif  \\\n",
       "intron_location                                                             \n",
       "chr1:14830-14969:-    chr1         14830        14969      -        GT/AG   \n",
       "chr1:15039-15795:-    chr1         15039        15795      -        GT/AG   \n",
       "chr1:228777-237053:-  chr1        228777       237053      -        GT/AG   \n",
       "chr1:320654-324287:+  chr1        320654       324287      +        GT/AG   \n",
       "chr1:320939-321031:+  chr1        320939       321031      +        GT/AG   \n",
       "\n",
       "                     annotated  \n",
       "intron_location                 \n",
       "chr1:14830-14969:-        True  \n",
       "chr1:15039-15795:-        True  \n",
       "chr1:228777-237053:-      True  \n",
       "chr1:320654-324287:+      True  \n",
       "chr1:320939-321031:+      True  "
      ]
     },
     "execution_count": 1,
     "metadata": {},
     "output_type": "execute_result"
    }
   ],
   "source": [
    "import pandas as pd\n",
    "import gffutils\n",
    "import pybedtools\n",
    "import re\n",
    "import numpy as np\n",
    "\n",
    "%load_ext autoreload\n",
    "%autoreload 2\n",
    "\n",
    "from poshsplice.junctions_to_events import make_junction_exon_triples\n",
    "\n",
    "v19db_filename = '/projects/ps-yeolab/genomes/hg19/gencode/v19/gencode.v19.annotation.gtf.db'\n",
    "v19db = gffutils.FeatureDB(v19db_filename)\n",
    "\n",
    "folder = '/home/obotvinnik/projects/singlecell_pnms/analysis/csvs_for_paper'\n",
    "\n",
    "sj_metadata = pd.read_csv('{}/sj_metadata.csv'.format(folder), index_col=0)\n",
    "sj_metadata.head()"
   ]
  },
  {
   "cell_type": "code",
   "execution_count": null,
   "metadata": {
    "collapsed": false
   },
   "outputs": [],
   "source": [
    "# sj_metadata['exon_stop'] = sj_metadata['intron_start'] - 1\n",
    "# sj_metadata['exon_start'] = sj_metadata['intron_stop'] + 1\n",
    "# sj_metadata.head()"
   ]
  },
  {
   "cell_type": "code",
   "execution_count": null,
   "metadata": {
    "collapsed": false
   },
   "outputs": [],
   "source": [
    "junction_exon_triples = make_junction_exon_triples(sj_metadata, v19db)"
   ]
  },
  {
   "cell_type": "code",
   "execution_count": null,
   "metadata": {
    "collapsed": false
   },
   "outputs": [],
   "source": [
    "range(3)"
   ]
  },
  {
   "cell_type": "code",
   "execution_count": 7,
   "metadata": {
    "collapsed": false
   },
   "outputs": [
    {
     "data": {
      "text/html": [
       "<div>\n",
       "<table border=\"1\" class=\"dataframe\">\n",
       "  <thead>\n",
       "    <tr style=\"text-align: right;\">\n",
       "      <th></th>\n",
       "      <th>exon</th>\n",
       "      <th>direction</th>\n",
       "      <th>junction</th>\n",
       "    </tr>\n",
       "  </thead>\n",
       "  <tbody>\n",
       "    <tr>\n",
       "      <th>0</th>\n",
       "      <td>exon:chr1:29321-29370:-</td>\n",
       "      <td>downstream</td>\n",
       "      <td>chr1:18367-29320:-</td>\n",
       "    </tr>\n",
       "    <tr>\n",
       "      <th>1</th>\n",
       "      <td>exon:chr1:29321-29370:-</td>\n",
       "      <td>downstream</td>\n",
       "      <td>chr1:24892-29320:-</td>\n",
       "    </tr>\n",
       "    <tr>\n",
       "      <th>2</th>\n",
       "      <td>exon:chr1:29321-29370:-</td>\n",
       "      <td>downstream</td>\n",
       "      <td>chr1:27186-29320:-</td>\n",
       "    </tr>\n",
       "    <tr>\n",
       "      <th>3</th>\n",
       "      <td>exon:chr1:29321-29370:-</td>\n",
       "      <td>downstream</td>\n",
       "      <td>chr1:18380-29320:-</td>\n",
       "    </tr>\n",
       "    <tr>\n",
       "      <th>4</th>\n",
       "      <td>exon:chr1:29321-29370:-</td>\n",
       "      <td>downstream</td>\n",
       "      <td>chr1:18370-29320:-</td>\n",
       "    </tr>\n",
       "  </tbody>\n",
       "</table>\n",
       "</div>"
      ],
      "text/plain": [
       "                      exon   direction            junction\n",
       "0  exon:chr1:29321-29370:-  downstream  chr1:18367-29320:-\n",
       "1  exon:chr1:29321-29370:-  downstream  chr1:24892-29320:-\n",
       "2  exon:chr1:29321-29370:-  downstream  chr1:27186-29320:-\n",
       "3  exon:chr1:29321-29370:-  downstream  chr1:18380-29320:-\n",
       "4  exon:chr1:29321-29370:-  downstream  chr1:18370-29320:-"
      ]
     },
     "execution_count": 7,
     "metadata": {},
     "output_type": "execute_result"
    }
   ],
   "source": [
    "junction_exon_triples.head()"
   ]
  },
  {
   "cell_type": "code",
   "execution_count": 9,
   "metadata": {
    "collapsed": false
   },
   "outputs": [],
   "source": [
    "junction_exon_triples.to_csv('{}/junction_exon_triples.csv'.format(folder), index=False)"
   ]
  },
  {
   "cell_type": "code",
   "execution_count": 10,
   "metadata": {
    "collapsed": true
   },
   "outputs": [],
   "source": [
    "import poshsplice"
   ]
  },
  {
   "cell_type": "code",
   "execution_count": 11,
   "metadata": {
    "collapsed": true
   },
   "outputs": [],
   "source": [
    "poshsplice.wannabe()"
   ]
  },
  {
   "cell_type": "markdown",
   "metadata": {},
   "source": [
    "### Convert `strand`, `intron_motif`, `chrom` to object"
   ]
  },
  {
   "cell_type": "code",
   "execution_count": 3,
   "metadata": {
    "collapsed": false
   },
   "outputs": [
    {
     "data": {
      "text/html": [
       "<div>\n",
       "<table border=\"1\" class=\"dataframe\">\n",
       "  <thead>\n",
       "    <tr style=\"text-align: right;\">\n",
       "      <th></th>\n",
       "      <th>chrom</th>\n",
       "      <th>intron_start</th>\n",
       "      <th>intron_stop</th>\n",
       "      <th>strand</th>\n",
       "      <th>intron_motif</th>\n",
       "      <th>annotated</th>\n",
       "      <th>exon_stop</th>\n",
       "      <th>exon_start</th>\n",
       "    </tr>\n",
       "    <tr>\n",
       "      <th>intron_location</th>\n",
       "      <th></th>\n",
       "      <th></th>\n",
       "      <th></th>\n",
       "      <th></th>\n",
       "      <th></th>\n",
       "      <th></th>\n",
       "      <th></th>\n",
       "      <th></th>\n",
       "    </tr>\n",
       "  </thead>\n",
       "  <tbody>\n",
       "    <tr>\n",
       "      <th>chr1:14830-14969:-</th>\n",
       "      <td>chr1</td>\n",
       "      <td>14830</td>\n",
       "      <td>14969</td>\n",
       "      <td>-</td>\n",
       "      <td>GT/AG</td>\n",
       "      <td>True</td>\n",
       "      <td>14829</td>\n",
       "      <td>14970</td>\n",
       "    </tr>\n",
       "    <tr>\n",
       "      <th>chr1:15039-15795:-</th>\n",
       "      <td>chr1</td>\n",
       "      <td>15039</td>\n",
       "      <td>15795</td>\n",
       "      <td>-</td>\n",
       "      <td>GT/AG</td>\n",
       "      <td>True</td>\n",
       "      <td>15038</td>\n",
       "      <td>15796</td>\n",
       "    </tr>\n",
       "    <tr>\n",
       "      <th>chr1:228777-237053:-</th>\n",
       "      <td>chr1</td>\n",
       "      <td>228777</td>\n",
       "      <td>237053</td>\n",
       "      <td>-</td>\n",
       "      <td>GT/AG</td>\n",
       "      <td>True</td>\n",
       "      <td>228776</td>\n",
       "      <td>237054</td>\n",
       "    </tr>\n",
       "    <tr>\n",
       "      <th>chr1:320654-324287:+</th>\n",
       "      <td>chr1</td>\n",
       "      <td>320654</td>\n",
       "      <td>324287</td>\n",
       "      <td>+</td>\n",
       "      <td>GT/AG</td>\n",
       "      <td>True</td>\n",
       "      <td>320653</td>\n",
       "      <td>324288</td>\n",
       "    </tr>\n",
       "    <tr>\n",
       "      <th>chr1:320939-321031:+</th>\n",
       "      <td>chr1</td>\n",
       "      <td>320939</td>\n",
       "      <td>321031</td>\n",
       "      <td>+</td>\n",
       "      <td>GT/AG</td>\n",
       "      <td>True</td>\n",
       "      <td>320938</td>\n",
       "      <td>321032</td>\n",
       "    </tr>\n",
       "  </tbody>\n",
       "</table>\n",
       "</div>"
      ],
      "text/plain": [
       "                     chrom  intron_start  intron_stop strand intron_motif  \\\n",
       "intron_location                                                             \n",
       "chr1:14830-14969:-    chr1         14830        14969      -        GT/AG   \n",
       "chr1:15039-15795:-    chr1         15039        15795      -        GT/AG   \n",
       "chr1:228777-237053:-  chr1        228777       237053      -        GT/AG   \n",
       "chr1:320654-324287:+  chr1        320654       324287      +        GT/AG   \n",
       "chr1:320939-321031:+  chr1        320939       321031      +        GT/AG   \n",
       "\n",
       "                     annotated  exon_stop  exon_start  \n",
       "intron_location                                        \n",
       "chr1:14830-14969:-        True      14829       14970  \n",
       "chr1:15039-15795:-        True      15038       15796  \n",
       "chr1:228777-237053:-      True     228776      237054  \n",
       "chr1:320654-324287:+      True     320653      324288  \n",
       "chr1:320939-321031:+      True     320938      321032  "
      ]
     },
     "execution_count": 3,
     "metadata": {},
     "output_type": "execute_result"
    }
   ],
   "source": [
    "sj_metadata.intron_motif = pd.Categorical(sj_metadata.intron_motif, categories=sj_metadata.intron_motif.unique())\n",
    "sj_metadata.strand = pd.Categorical(sj_metadata.strand, categories=['+', '-'], ordered=True)\n",
    "\n",
    "chrom_numbers = map(str, list(range(1, 23)) + ['X', 'Y', 'M'])\n",
    "chrom_categories = ['chr{}'.format(x) for x in chrom_numbers]\n",
    "sj_metadata.chrom = pd.Categorical(sj_metadata.chrom, categories=chrom_categories, ordered=True)\n",
    "sj_metadata.head()"
   ]
  },
  {
   "cell_type": "code",
   "execution_count": 4,
   "metadata": {
    "collapsed": false
   },
   "outputs": [
    {
     "name": "stdout",
     "output_type": "stream",
     "text": [
      "562680\n"
     ]
    }
   ],
   "source": [
    "n_exons = sum(1 for _ in v19db.features_of_type('exon'))\n",
    "print n_exons"
   ]
  },
  {
   "cell_type": "code",
   "execution_count": 13,
   "metadata": {
    "collapsed": false
   },
   "outputs": [
    {
     "name": "stdout",
     "output_type": "stream",
     "text": [
      "Starting annotation of all junctions with known exons...\n",
      "15 downstream\n",
      "intron_location\n",
      "chr1:18367-29320:-    True\n",
      "chr1:24892-29320:-    True\n",
      "chr1:27186-29320:-    True\n",
      "chr1:18380-29320:-    True\n",
      "chr1:18370-29320:-    True\n",
      "dtype: bool\n",
      "CPU times: user 1.22 s, sys: 2 ms, total: 1.22 s\n",
      "Wall time: 1.22 s\n"
     ]
    }
   ],
   "source": [
    "%%time\n",
    "\n",
    "# sj_metadata['upstream_exon'] = ''\n",
    "# sj_metadata['downstream_exon'] = ''\n",
    "\n",
    "data = []\n",
    "\n",
    "print 'Starting annotation of all junctions with known exons...'\n",
    "for i, exon in enumerate(v19db.features_of_type('exon')):\n",
    "    if i > 20:\n",
    "        break\n",
    "#     if (i+1) % 10000 == 0:\n",
    "#         print '\\t{}/{}'.format(i+1, n_exons)\n",
    "    chrom_ind = sj_metadata.chrom == exon.chrom\n",
    "    strand_ind = sj_metadata.strand == exon.strand\n",
    "    upstream_ind = chrom_ind & strand_ind & (sj_metadata.exon_stop == exon.stop)\n",
    "    downstream_ind = chrom_ind & strand_ind & (sj_metadata.exon_start == exon.start)\n",
    "    \n",
    "    exon_id = exon.id\n",
    "    \n",
    "    if upstream_ind.any():\n",
    "        print i, 'upstream'\n",
    "        print upstream_ind[upstream_ind]\n",
    "        break\n",
    "    if downstream_ind.any():\n",
    "        print i, 'downstream'\n",
    "        print downstream_ind[downstream_ind]\n",
    "        break\n",
    "\n",
    "#     upstream_df = pd.DataFrame([])\n",
    "    \n",
    "#     if upstream_ind.any():\n",
    "#         if exon.strand == '+':\n",
    "#             sj_metadata.loc[upstream_ind, 'upstream_exon'] = sj_metadata.loc[upstream_ind, 'upstream_exon'] + ',' + exon_id\n",
    "#         else:\n",
    "#             sj_metadata.loc[upstream_ind, 'downstream_exon'] = sj_metadata.loc[upstream_ind, 'downstream_exon'] + ',' + exon_id\n",
    "\n",
    "#     if downstream_ind.any():\n",
    "#         if exon.strand == '+':\n",
    "#             sj_metadata.loc[downstream_ind, 'downstream_exon'] = sj_metadata.loc[downstream_ind, 'downstream_exon'] + ',' + exon_id\n",
    "#         else:\n",
    "#             sj_metadata.loc[downstream_ind, 'upstream_exon'] = sj_metadata.loc[downstream_ind, 'upstream_exon'] + ',' + exon_id\n",
    "# print 'Done.'"
   ]
  },
  {
   "cell_type": "code",
   "execution_count": 14,
   "metadata": {
    "collapsed": false
   },
   "outputs": [
    {
     "data": {
      "text/plain": [
       "intron_location\n",
       "chr1:18367-29320:-    True\n",
       "chr1:24892-29320:-    True\n",
       "chr1:27186-29320:-    True\n",
       "chr1:18380-29320:-    True\n",
       "chr1:18370-29320:-    True\n",
       "dtype: bool"
      ]
     },
     "execution_count": 14,
     "metadata": {},
     "output_type": "execute_result"
    }
   ],
   "source": [
    "downstream_ind[downstream_ind]"
   ]
  },
  {
   "cell_type": "code",
   "execution_count": 20,
   "metadata": {
    "collapsed": false
   },
   "outputs": [
    {
     "data": {
      "text/plain": [
       "'exon:chr1:29321-29370:-'"
      ]
     },
     "execution_count": 20,
     "metadata": {},
     "output_type": "execute_result"
    }
   ],
   "source": [
    "exon_id"
   ]
  },
  {
   "cell_type": "code",
   "execution_count": 21,
   "metadata": {
    "collapsed": false
   },
   "outputs": [
    {
     "data": {
      "text/html": [
       "<div>\n",
       "<table border=\"1\" class=\"dataframe\">\n",
       "  <thead>\n",
       "    <tr style=\"text-align: right;\">\n",
       "      <th></th>\n",
       "      <th>junction</th>\n",
       "      <th>direction</th>\n",
       "      <th>exon</th>\n",
       "    </tr>\n",
       "  </thead>\n",
       "  <tbody>\n",
       "    <tr>\n",
       "      <th>0</th>\n",
       "      <td>chr1:18367-29320:-</td>\n",
       "      <td>downstream</td>\n",
       "      <td>exon:chr1:29321-29370:-</td>\n",
       "    </tr>\n",
       "    <tr>\n",
       "      <th>1</th>\n",
       "      <td>chr1:24892-29320:-</td>\n",
       "      <td>downstream</td>\n",
       "      <td>exon:chr1:29321-29370:-</td>\n",
       "    </tr>\n",
       "    <tr>\n",
       "      <th>2</th>\n",
       "      <td>chr1:27186-29320:-</td>\n",
       "      <td>downstream</td>\n",
       "      <td>exon:chr1:29321-29370:-</td>\n",
       "    </tr>\n",
       "    <tr>\n",
       "      <th>3</th>\n",
       "      <td>chr1:18380-29320:-</td>\n",
       "      <td>downstream</td>\n",
       "      <td>exon:chr1:29321-29370:-</td>\n",
       "    </tr>\n",
       "    <tr>\n",
       "      <th>4</th>\n",
       "      <td>chr1:18370-29320:-</td>\n",
       "      <td>downstream</td>\n",
       "      <td>exon:chr1:29321-29370:-</td>\n",
       "    </tr>\n",
       "  </tbody>\n",
       "</table>\n",
       "</div>"
      ],
      "text/plain": [
       "             junction   direction                     exon\n",
       "0  chr1:18367-29320:-  downstream  exon:chr1:29321-29370:-\n",
       "1  chr1:24892-29320:-  downstream  exon:chr1:29321-29370:-\n",
       "2  chr1:27186-29320:-  downstream  exon:chr1:29321-29370:-\n",
       "3  chr1:18380-29320:-  downstream  exon:chr1:29321-29370:-\n",
       "4  chr1:18370-29320:-  downstream  exon:chr1:29321-29370:-"
      ]
     },
     "execution_count": 21,
     "metadata": {},
     "output_type": "execute_result"
    }
   ],
   "source": [
    "import itertools\n",
    "pd.DataFrame(zip(itertools.cycle((exon_id,)),\n",
    "                 itertools.cycle(('downstream',)), \n",
    "                 downstream_ind[downstream_ind].index), \n",
    "             columns=['exon', 'direction', 'junction'])"
   ]
  },
  {
   "cell_type": "code",
   "execution_count": null,
   "metadata": {
    "collapsed": false
   },
   "outputs": [],
   "source": [
    "%%time\n",
    "\n",
    "sj_metadata['upstream_exon'] = ''\n",
    "sj_metadata['downstream_exon'] = ''\n",
    "\n",
    "print 'Starting annotation of all junctions with known exons...'\n",
    "for i, exon in enumerate(v19db.features_of_type('exon')):\n",
    "    if (i+1) % 10000 == 0:\n",
    "        print '\\t{}/{}'.format(i+1, n_exons)\n",
    "    chrom_ind = sj_metadata.chrom == exon.chrom\n",
    "    strand_ind = sj_metadata.strand == exon.strand\n",
    "    upstream_ind = chrom_ind & strand_ind & (sj_metadata.exon_stop == exon.stop)\n",
    "    downstream_ind = chrom_ind & strand_ind & (sj_metadata.exon_start == exon.start)\n",
    "    \n",
    "    exon_id = exon.id\n",
    "    if upstream_ind.any():\n",
    "        if exon.strand == '+':\n",
    "            sj_metadata.loc[upstream_ind, 'upstream_exon'] = sj_metadata.loc[upstream_ind, 'upstream_exon'] + ',' + exon_id\n",
    "        else:\n",
    "            sj_metadata.loc[upstream_ind, 'downstream_exon'] = sj_metadata.loc[upstream_ind, 'downstream_exon'] + ',' + exon_id\n",
    "\n",
    "    if downstream_ind.any():\n",
    "        if exon.strand == '+':\n",
    "            sj_metadata.loc[downstream_ind, 'downstream_exon'] = sj_metadata.loc[downstream_ind, 'downstream_exon'] + ',' + exon_id\n",
    "        else:\n",
    "            sj_metadata.loc[downstream_ind, 'upstream_exon'] = sj_metadata.loc[downstream_ind, 'upstream_exon'] + ',' + exon_id\n",
    "print 'Done.'"
   ]
  },
  {
   "cell_type": "code",
   "execution_count": null,
   "metadata": {
    "collapsed": false
   },
   "outputs": [],
   "source": [
    "sj_metadata.head()"
   ]
  },
  {
   "cell_type": "code",
   "execution_count": null,
   "metadata": {
    "collapsed": false
   },
   "outputs": [],
   "source": [
    "sj_metadata.tail()"
   ]
  },
  {
   "cell_type": "markdown",
   "metadata": {},
   "source": [
    "Intermediate saving"
   ]
  },
  {
   "cell_type": "code",
   "execution_count": null,
   "metadata": {
    "collapsed": false
   },
   "outputs": [],
   "source": [
    "mkdir /projects/ps-yeolab/obotvinnik/singlecell_pnms"
   ]
  },
  {
   "cell_type": "code",
   "execution_count": null,
   "metadata": {
    "collapsed": true
   },
   "outputs": [],
   "source": [
    "folder = '/projects/ps-yeolab/obotvinnik/singlecell_pnms'"
   ]
  },
  {
   "cell_type": "code",
   "execution_count": 16,
   "metadata": {
    "collapsed": true
   },
   "outputs": [],
   "source": [
    "sj_metadata.to_csv('{}/sj_metadata_exons.csv'.format(folder))"
   ]
  },
  {
   "cell_type": "markdown",
   "metadata": {},
   "source": [
    "## Create `(exon, direction, junction)` triples"
   ]
  },
  {
   "cell_type": "code",
   "execution_count": 2,
   "metadata": {
    "collapsed": false
   },
   "outputs": [
    {
     "data": {
      "text/html": [
       "<div>\n",
       "<table border=\"1\" class=\"dataframe\">\n",
       "  <thead>\n",
       "    <tr style=\"text-align: right;\">\n",
       "      <th></th>\n",
       "      <th>chrom</th>\n",
       "      <th>intron_start</th>\n",
       "      <th>intron_stop</th>\n",
       "      <th>strand</th>\n",
       "      <th>intron_motif</th>\n",
       "      <th>annotated</th>\n",
       "      <th>intron_location</th>\n",
       "      <th>exon_stop</th>\n",
       "      <th>exon_start</th>\n",
       "      <th>exon_5p</th>\n",
       "      <th>exon_3p</th>\n",
       "    </tr>\n",
       "  </thead>\n",
       "  <tbody>\n",
       "    <tr>\n",
       "      <th>0</th>\n",
       "      <td>chr1</td>\n",
       "      <td>1309283</td>\n",
       "      <td>1309379</td>\n",
       "      <td>-</td>\n",
       "      <td>GT/AG</td>\n",
       "      <td>True</td>\n",
       "      <td>chr1:1309283-1309379:-</td>\n",
       "      <td>1309282</td>\n",
       "      <td>1309380</td>\n",
       "      <td>exon:chr1:1309380-1309825:-</td>\n",
       "      <td>exon:chr1:1309110-1309282:-,exon:chr1:1309112-...</td>\n",
       "    </tr>\n",
       "    <tr>\n",
       "      <th>1</th>\n",
       "      <td>chr1</td>\n",
       "      <td>1309826</td>\n",
       "      <td>1310084</td>\n",
       "      <td>-</td>\n",
       "      <td>GT/AG</td>\n",
       "      <td>True</td>\n",
       "      <td>chr1:1309826-1310084:-</td>\n",
       "      <td>1309825</td>\n",
       "      <td>1310085</td>\n",
       "      <td>exon:chr1:1310085-1310537:-,exon:chr1:1310085-...</td>\n",
       "      <td>exon:chr1:1309380-1309825:-</td>\n",
       "    </tr>\n",
       "    <tr>\n",
       "      <th>2</th>\n",
       "      <td>chr1</td>\n",
       "      <td>1310171</td>\n",
       "      <td>1310533</td>\n",
       "      <td>-</td>\n",
       "      <td>GT/AG</td>\n",
       "      <td>True</td>\n",
       "      <td>chr1:1310171-1310533:-</td>\n",
       "      <td>1310170</td>\n",
       "      <td>1310534</td>\n",
       "      <td>exon:chr1:1310534-1310875:-</td>\n",
       "      <td>exon:chr1:1310085-1310170:-,exon:chr1:1309624-...</td>\n",
       "    </tr>\n",
       "    <tr>\n",
       "      <th>3</th>\n",
       "      <td>chr1</td>\n",
       "      <td>1337637</td>\n",
       "      <td>1341188</td>\n",
       "      <td>-</td>\n",
       "      <td>GT/AG</td>\n",
       "      <td>True</td>\n",
       "      <td>chr1:1337637-1341188:-</td>\n",
       "      <td>1337636</td>\n",
       "      <td>1341189</td>\n",
       "      <td>exon:chr1:1341189-1341266:-,exon:chr1:1341189-...</td>\n",
       "      <td>exon:chr1:1337288-1337636:-,exon:chr1:1337293-...</td>\n",
       "    </tr>\n",
       "    <tr>\n",
       "      <th>4</th>\n",
       "      <td>chr1</td>\n",
       "      <td>1341267</td>\n",
       "      <td>1342288</td>\n",
       "      <td>-</td>\n",
       "      <td>GT/AG</td>\n",
       "      <td>True</td>\n",
       "      <td>chr1:1341267-1342288:-</td>\n",
       "      <td>1341266</td>\n",
       "      <td>1342289</td>\n",
       "      <td>exon:chr1:1342289-1342399:-,exon:chr1:1342289-...</td>\n",
       "      <td>exon:chr1:1341189-1341266:-,exon:chr1:1340489-...</td>\n",
       "    </tr>\n",
       "  </tbody>\n",
       "</table>\n",
       "</div>"
      ],
      "text/plain": [
       "  chrom  intron_start  intron_stop strand intron_motif annotated  \\\n",
       "0  chr1       1309283      1309379      -        GT/AG      True   \n",
       "1  chr1       1309826      1310084      -        GT/AG      True   \n",
       "2  chr1       1310171      1310533      -        GT/AG      True   \n",
       "3  chr1       1337637      1341188      -        GT/AG      True   \n",
       "4  chr1       1341267      1342288      -        GT/AG      True   \n",
       "\n",
       "          intron_location  exon_stop  exon_start  \\\n",
       "0  chr1:1309283-1309379:-    1309282     1309380   \n",
       "1  chr1:1309826-1310084:-    1309825     1310085   \n",
       "2  chr1:1310171-1310533:-    1310170     1310534   \n",
       "3  chr1:1337637-1341188:-    1337636     1341189   \n",
       "4  chr1:1341267-1342288:-    1341266     1342289   \n",
       "\n",
       "                                             exon_5p  \\\n",
       "0                        exon:chr1:1309380-1309825:-   \n",
       "1  exon:chr1:1310085-1310537:-,exon:chr1:1310085-...   \n",
       "2                        exon:chr1:1310534-1310875:-   \n",
       "3  exon:chr1:1341189-1341266:-,exon:chr1:1341189-...   \n",
       "4  exon:chr1:1342289-1342399:-,exon:chr1:1342289-...   \n",
       "\n",
       "                                             exon_3p  \n",
       "0  exon:chr1:1309110-1309282:-,exon:chr1:1309112-...  \n",
       "1                        exon:chr1:1309380-1309825:-  \n",
       "2  exon:chr1:1310085-1310170:-,exon:chr1:1309624-...  \n",
       "3  exon:chr1:1337288-1337636:-,exon:chr1:1337293-...  \n",
       "4  exon:chr1:1341189-1341266:-,exon:chr1:1340489-...  "
      ]
     },
     "execution_count": 2,
     "metadata": {},
     "output_type": "execute_result"
    }
   ],
   "source": [
    "import pandas as pd\n",
    "import gffutils\n",
    "import pybedtools\n",
    "import re\n",
    "import numpy as np\n",
    "\n",
    "v19db_filename = '/projects/ps-yeolab/genomes/hg19/gencode/v19/gencode.v19.annotation.gtf.db'\n",
    "v19db = gffutils.FeatureDB(v19db_filename)\n",
    "\n",
    "folder = '/projects/ps-yeolab/obotvinnik/singlecell_pnms'\n",
    "\n",
    "sj_metadata = pd.read_csv('{}/sj_metadata_exons.csv'.format(folder), index_col=0)\n",
    "sj_metadata.head()"
   ]
  },
  {
   "cell_type": "code",
   "execution_count": 3,
   "metadata": {
    "collapsed": false
   },
   "outputs": [],
   "source": [
    "# sj_metadata.loc[sj_metadata.index.map(lambda x: x.endswith('5p')), 'exon_3p'] = np.nan\n",
    "# sj_metadata.loc[sj_metadata.index.map(lambda x: x.endswith('3p')), 'exon_5p'] = np.nan"
   ]
  },
  {
   "cell_type": "code",
   "execution_count": 4,
   "metadata": {
    "collapsed": false
   },
   "outputs": [
    {
     "data": {
      "text/html": [
       "<div>\n",
       "<table border=\"1\" class=\"dataframe\">\n",
       "  <thead>\n",
       "    <tr style=\"text-align: right;\">\n",
       "      <th></th>\n",
       "      <th>chrom</th>\n",
       "      <th>intron_start</th>\n",
       "      <th>intron_stop</th>\n",
       "      <th>strand</th>\n",
       "      <th>intron_motif</th>\n",
       "      <th>annotated</th>\n",
       "      <th>intron_location</th>\n",
       "      <th>exon_stop</th>\n",
       "      <th>exon_start</th>\n",
       "      <th>exon_5p</th>\n",
       "      <th>exon_3p</th>\n",
       "    </tr>\n",
       "  </thead>\n",
       "  <tbody>\n",
       "    <tr>\n",
       "      <th>0</th>\n",
       "      <td>chr1</td>\n",
       "      <td>1309283</td>\n",
       "      <td>1309379</td>\n",
       "      <td>-</td>\n",
       "      <td>GT/AG</td>\n",
       "      <td>True</td>\n",
       "      <td>chr1:1309283-1309379:-</td>\n",
       "      <td>1309282</td>\n",
       "      <td>1309380</td>\n",
       "      <td>exon:chr1:1309380-1309825:-</td>\n",
       "      <td>exon:chr1:1309110-1309282:-,exon:chr1:1309112-...</td>\n",
       "    </tr>\n",
       "    <tr>\n",
       "      <th>1</th>\n",
       "      <td>chr1</td>\n",
       "      <td>1309826</td>\n",
       "      <td>1310084</td>\n",
       "      <td>-</td>\n",
       "      <td>GT/AG</td>\n",
       "      <td>True</td>\n",
       "      <td>chr1:1309826-1310084:-</td>\n",
       "      <td>1309825</td>\n",
       "      <td>1310085</td>\n",
       "      <td>exon:chr1:1310085-1310537:-,exon:chr1:1310085-...</td>\n",
       "      <td>exon:chr1:1309380-1309825:-</td>\n",
       "    </tr>\n",
       "    <tr>\n",
       "      <th>2</th>\n",
       "      <td>chr1</td>\n",
       "      <td>1310171</td>\n",
       "      <td>1310533</td>\n",
       "      <td>-</td>\n",
       "      <td>GT/AG</td>\n",
       "      <td>True</td>\n",
       "      <td>chr1:1310171-1310533:-</td>\n",
       "      <td>1310170</td>\n",
       "      <td>1310534</td>\n",
       "      <td>exon:chr1:1310534-1310875:-</td>\n",
       "      <td>exon:chr1:1310085-1310170:-,exon:chr1:1309624-...</td>\n",
       "    </tr>\n",
       "    <tr>\n",
       "      <th>3</th>\n",
       "      <td>chr1</td>\n",
       "      <td>1337637</td>\n",
       "      <td>1341188</td>\n",
       "      <td>-</td>\n",
       "      <td>GT/AG</td>\n",
       "      <td>True</td>\n",
       "      <td>chr1:1337637-1341188:-</td>\n",
       "      <td>1337636</td>\n",
       "      <td>1341189</td>\n",
       "      <td>exon:chr1:1341189-1341266:-,exon:chr1:1341189-...</td>\n",
       "      <td>exon:chr1:1337288-1337636:-,exon:chr1:1337293-...</td>\n",
       "    </tr>\n",
       "    <tr>\n",
       "      <th>4</th>\n",
       "      <td>chr1</td>\n",
       "      <td>1341267</td>\n",
       "      <td>1342288</td>\n",
       "      <td>-</td>\n",
       "      <td>GT/AG</td>\n",
       "      <td>True</td>\n",
       "      <td>chr1:1341267-1342288:-</td>\n",
       "      <td>1341266</td>\n",
       "      <td>1342289</td>\n",
       "      <td>exon:chr1:1342289-1342399:-,exon:chr1:1342289-...</td>\n",
       "      <td>exon:chr1:1341189-1341266:-,exon:chr1:1340489-...</td>\n",
       "    </tr>\n",
       "  </tbody>\n",
       "</table>\n",
       "</div>"
      ],
      "text/plain": [
       "  chrom  intron_start  intron_stop strand intron_motif annotated  \\\n",
       "0  chr1       1309283      1309379      -        GT/AG      True   \n",
       "1  chr1       1309826      1310084      -        GT/AG      True   \n",
       "2  chr1       1310171      1310533      -        GT/AG      True   \n",
       "3  chr1       1337637      1341188      -        GT/AG      True   \n",
       "4  chr1       1341267      1342288      -        GT/AG      True   \n",
       "\n",
       "          intron_location  exon_stop  exon_start  \\\n",
       "0  chr1:1309283-1309379:-    1309282     1309380   \n",
       "1  chr1:1309826-1310084:-    1309825     1310085   \n",
       "2  chr1:1310171-1310533:-    1310170     1310534   \n",
       "3  chr1:1337637-1341188:-    1337636     1341189   \n",
       "4  chr1:1341267-1342288:-    1341266     1342289   \n",
       "\n",
       "                                             exon_5p  \\\n",
       "0                        exon:chr1:1309380-1309825:-   \n",
       "1  exon:chr1:1310085-1310537:-,exon:chr1:1310085-...   \n",
       "2                        exon:chr1:1310534-1310875:-   \n",
       "3  exon:chr1:1341189-1341266:-,exon:chr1:1341189-...   \n",
       "4  exon:chr1:1342289-1342399:-,exon:chr1:1342289-...   \n",
       "\n",
       "                                             exon_3p  \n",
       "0  exon:chr1:1309110-1309282:-,exon:chr1:1309112-...  \n",
       "1                        exon:chr1:1309380-1309825:-  \n",
       "2  exon:chr1:1310085-1310170:-,exon:chr1:1309624-...  \n",
       "3  exon:chr1:1337288-1337636:-,exon:chr1:1337293-...  \n",
       "4  exon:chr1:1341189-1341266:-,exon:chr1:1340489-...  "
      ]
     },
     "execution_count": 4,
     "metadata": {},
     "output_type": "execute_result"
    }
   ],
   "source": [
    "sj_metadata.head()"
   ]
  },
  {
   "cell_type": "markdown",
   "metadata": {},
   "source": [
    "### Get transcripts which contain these junctions"
   ]
  },
  {
   "cell_type": "code",
   "execution_count": 5,
   "metadata": {
    "collapsed": false
   },
   "outputs": [
    {
     "data": {
      "text/html": [
       "<div>\n",
       "<table border=\"1\" class=\"dataframe\">\n",
       "  <thead>\n",
       "    <tr style=\"text-align: right;\">\n",
       "      <th></th>\n",
       "      <th>chrom</th>\n",
       "      <th>intron_start</th>\n",
       "      <th>intron_stop</th>\n",
       "      <th>strand</th>\n",
       "      <th>intron_motif</th>\n",
       "      <th>annotated</th>\n",
       "      <th>intron_location</th>\n",
       "      <th>exon_stop</th>\n",
       "      <th>exon_start</th>\n",
       "      <th>exon_5p</th>\n",
       "      <th>exon_3p</th>\n",
       "    </tr>\n",
       "  </thead>\n",
       "  <tbody>\n",
       "    <tr>\n",
       "      <th>0</th>\n",
       "      <td>chr1</td>\n",
       "      <td>1309283</td>\n",
       "      <td>1309379</td>\n",
       "      <td>-</td>\n",
       "      <td>GT/AG</td>\n",
       "      <td>True</td>\n",
       "      <td>chr1:1309283-1309379:-</td>\n",
       "      <td>1309282</td>\n",
       "      <td>1309380</td>\n",
       "      <td>exon:chr1:1309380-1309825:-</td>\n",
       "      <td>exon:chr1:1309110-1309282:-,exon:chr1:1309112-...</td>\n",
       "    </tr>\n",
       "    <tr>\n",
       "      <th>1</th>\n",
       "      <td>chr1</td>\n",
       "      <td>1309826</td>\n",
       "      <td>1310084</td>\n",
       "      <td>-</td>\n",
       "      <td>GT/AG</td>\n",
       "      <td>True</td>\n",
       "      <td>chr1:1309826-1310084:-</td>\n",
       "      <td>1309825</td>\n",
       "      <td>1310085</td>\n",
       "      <td>exon:chr1:1310085-1310537:-,exon:chr1:1310085-...</td>\n",
       "      <td>exon:chr1:1309380-1309825:-</td>\n",
       "    </tr>\n",
       "    <tr>\n",
       "      <th>2</th>\n",
       "      <td>chr1</td>\n",
       "      <td>1310171</td>\n",
       "      <td>1310533</td>\n",
       "      <td>-</td>\n",
       "      <td>GT/AG</td>\n",
       "      <td>True</td>\n",
       "      <td>chr1:1310171-1310533:-</td>\n",
       "      <td>1310170</td>\n",
       "      <td>1310534</td>\n",
       "      <td>exon:chr1:1310534-1310875:-</td>\n",
       "      <td>exon:chr1:1310085-1310170:-,exon:chr1:1309624-...</td>\n",
       "    </tr>\n",
       "    <tr>\n",
       "      <th>3</th>\n",
       "      <td>chr1</td>\n",
       "      <td>1337637</td>\n",
       "      <td>1341188</td>\n",
       "      <td>-</td>\n",
       "      <td>GT/AG</td>\n",
       "      <td>True</td>\n",
       "      <td>chr1:1337637-1341188:-</td>\n",
       "      <td>1337636</td>\n",
       "      <td>1341189</td>\n",
       "      <td>exon:chr1:1341189-1341266:-,exon:chr1:1341189-...</td>\n",
       "      <td>exon:chr1:1337288-1337636:-,exon:chr1:1337293-...</td>\n",
       "    </tr>\n",
       "    <tr>\n",
       "      <th>4</th>\n",
       "      <td>chr1</td>\n",
       "      <td>1341267</td>\n",
       "      <td>1342288</td>\n",
       "      <td>-</td>\n",
       "      <td>GT/AG</td>\n",
       "      <td>True</td>\n",
       "      <td>chr1:1341267-1342288:-</td>\n",
       "      <td>1341266</td>\n",
       "      <td>1342289</td>\n",
       "      <td>exon:chr1:1342289-1342399:-,exon:chr1:1342289-...</td>\n",
       "      <td>exon:chr1:1341189-1341266:-,exon:chr1:1340489-...</td>\n",
       "    </tr>\n",
       "  </tbody>\n",
       "</table>\n",
       "</div>"
      ],
      "text/plain": [
       "  chrom  intron_start  intron_stop strand intron_motif annotated  \\\n",
       "0  chr1       1309283      1309379      -        GT/AG      True   \n",
       "1  chr1       1309826      1310084      -        GT/AG      True   \n",
       "2  chr1       1310171      1310533      -        GT/AG      True   \n",
       "3  chr1       1337637      1341188      -        GT/AG      True   \n",
       "4  chr1       1341267      1342288      -        GT/AG      True   \n",
       "\n",
       "          intron_location  exon_stop  exon_start  \\\n",
       "0  chr1:1309283-1309379:-    1309282     1309380   \n",
       "1  chr1:1309826-1310084:-    1309825     1310085   \n",
       "2  chr1:1310171-1310533:-    1310170     1310534   \n",
       "3  chr1:1337637-1341188:-    1337636     1341189   \n",
       "4  chr1:1341267-1342288:-    1341266     1342289   \n",
       "\n",
       "                                             exon_5p  \\\n",
       "0                        exon:chr1:1309380-1309825:-   \n",
       "1  exon:chr1:1310085-1310537:-,exon:chr1:1310085-...   \n",
       "2                        exon:chr1:1310534-1310875:-   \n",
       "3  exon:chr1:1341189-1341266:-,exon:chr1:1341189-...   \n",
       "4  exon:chr1:1342289-1342399:-,exon:chr1:1342289-...   \n",
       "\n",
       "                                             exon_3p  \n",
       "0  exon:chr1:1309110-1309282:-,exon:chr1:1309112-...  \n",
       "1                        exon:chr1:1309380-1309825:-  \n",
       "2  exon:chr1:1310085-1310170:-,exon:chr1:1309624-...  \n",
       "3  exon:chr1:1337288-1337636:-,exon:chr1:1337293-...  \n",
       "4  exon:chr1:1341189-1341266:-,exon:chr1:1340489-...  "
      ]
     },
     "execution_count": 5,
     "metadata": {},
     "output_type": "execute_result"
    }
   ],
   "source": [
    "sj_with_exons = sj_metadata.dropna(subset=['exon_5p', 'exon_3p'], how='all')\n",
    "sj_with_exons.head()"
   ]
  },
  {
   "cell_type": "code",
   "execution_count": 24,
   "metadata": {
    "collapsed": false
   },
   "outputs": [],
   "source": [
    "# sj_with_exons['junction_location'] = sj_with_exons.index.map(lambda x: x.split('|')[0])\n",
    "# sj_with_exons.head()"
   ]
  },
  {
   "cell_type": "code",
   "execution_count": 7,
   "metadata": {
    "collapsed": false
   },
   "outputs": [
    {
     "data": {
      "text/html": [
       "<div>\n",
       "<table border=\"1\" class=\"dataframe\">\n",
       "  <thead>\n",
       "    <tr style=\"text-align: right;\">\n",
       "      <th></th>\n",
       "      <th>junction_location</th>\n",
       "      <th>exon</th>\n",
       "      <th>direction</th>\n",
       "    </tr>\n",
       "  </thead>\n",
       "  <tbody>\n",
       "    <tr>\n",
       "      <th>0</th>\n",
       "      <td>chr2:74362786-74369398:-</td>\n",
       "      <td>exon:chr2:74362525-74362785:-</td>\n",
       "      <td>downstream</td>\n",
       "    </tr>\n",
       "    <tr>\n",
       "      <th>1</th>\n",
       "      <td>chr2:74362786-74369398:-</td>\n",
       "      <td>exon:chr2:74362528-74362785:-</td>\n",
       "      <td>downstream</td>\n",
       "    </tr>\n",
       "    <tr>\n",
       "      <th>2</th>\n",
       "      <td>chr2:74362786-74369398:-</td>\n",
       "      <td>exon:chr2:74362542-74362785:-</td>\n",
       "      <td>downstream</td>\n",
       "    </tr>\n",
       "    <tr>\n",
       "      <th>3</th>\n",
       "      <td>chr2:74369488-74372315:-</td>\n",
       "      <td>exon:chr2:74369399-74369487:-</td>\n",
       "      <td>downstream</td>\n",
       "    </tr>\n",
       "    <tr>\n",
       "      <th>4</th>\n",
       "      <td>chr2:74372431-74374947:-</td>\n",
       "      <td>exon:chr2:74372316-74372430:-</td>\n",
       "      <td>downstream</td>\n",
       "    </tr>\n",
       "  </tbody>\n",
       "</table>\n",
       "</div>"
      ],
      "text/plain": [
       "          junction_location                           exon   direction\n",
       "0  chr2:74362786-74369398:-  exon:chr2:74362525-74362785:-  downstream\n",
       "1  chr2:74362786-74369398:-  exon:chr2:74362528-74362785:-  downstream\n",
       "2  chr2:74362786-74369398:-  exon:chr2:74362542-74362785:-  downstream\n",
       "3  chr2:74369488-74372315:-  exon:chr2:74369399-74369487:-  downstream\n",
       "4  chr2:74372431-74374947:-  exon:chr2:74372316-74372430:-  downstream"
      ]
     },
     "execution_count": 7,
     "metadata": {},
     "output_type": "execute_result"
    }
   ],
   "source": [
    "# # %%time\n",
    "# sj_with_exons_subset_3p = sj_with_exons_subset.drop_duplicates('exon_3p')\n",
    "# grouped = sj_with_exons_subset_3p.groupby('intron_location')\n",
    "# downstream_exons_subset = grouped.apply(lambda x: x.exon_3p.dropna().str.split(',').apply(pd.Series, 1))\n",
    "# downstream_exons_subset = downstream_exons_subset.stack()\n",
    "# downstream_exons_subset.index = downstream_exons_subset.index.droplevel((-2, -1))\n",
    "# downstream_exons_subset = downstream_exons_subset.reset_index()\n",
    "# downstream_exons_subset = downstream_exons_subset.rename(columns={0: 'exon'})\n",
    "# downstream_exons_subset['direction'] = 'downstream'\n",
    "# downstream_exons_subset.head()"
   ]
  },
  {
   "cell_type": "code",
   "execution_count": 8,
   "metadata": {
    "collapsed": false
   },
   "outputs": [
    {
     "data": {
      "text/html": [
       "<div>\n",
       "<table border=\"1\" class=\"dataframe\">\n",
       "  <thead>\n",
       "    <tr style=\"text-align: right;\">\n",
       "      <th></th>\n",
       "      <th>junction_location</th>\n",
       "      <th>exon</th>\n",
       "      <th>direction</th>\n",
       "    </tr>\n",
       "  </thead>\n",
       "  <tbody>\n",
       "    <tr>\n",
       "      <th>0</th>\n",
       "      <td>chr2:74362786-74369398:-</td>\n",
       "      <td>exon:chr2:74369399-74369487:-</td>\n",
       "      <td>upstream</td>\n",
       "    </tr>\n",
       "    <tr>\n",
       "      <th>1</th>\n",
       "      <td>chr2:74362786-74372315:-</td>\n",
       "      <td>exon:chr2:74372316-74372430:-</td>\n",
       "      <td>upstream</td>\n",
       "    </tr>\n",
       "    <tr>\n",
       "      <th>2</th>\n",
       "      <td>chr2:74362786-74372315:-</td>\n",
       "      <td>exon:chr2:74372316-74372635:-</td>\n",
       "      <td>upstream</td>\n",
       "    </tr>\n",
       "    <tr>\n",
       "      <th>3</th>\n",
       "      <td>chr2:74362786-74372315:-</td>\n",
       "      <td>exon:chr2:74372316-74375039:-</td>\n",
       "      <td>upstream</td>\n",
       "    </tr>\n",
       "    <tr>\n",
       "      <th>4</th>\n",
       "      <td>chr2:74372431-74373368:-</td>\n",
       "      <td>exon:chr2:74373369-74374353:-</td>\n",
       "      <td>upstream</td>\n",
       "    </tr>\n",
       "  </tbody>\n",
       "</table>\n",
       "</div>"
      ],
      "text/plain": [
       "          junction_location                           exon direction\n",
       "0  chr2:74362786-74369398:-  exon:chr2:74369399-74369487:-  upstream\n",
       "1  chr2:74362786-74372315:-  exon:chr2:74372316-74372430:-  upstream\n",
       "2  chr2:74362786-74372315:-  exon:chr2:74372316-74372635:-  upstream\n",
       "3  chr2:74362786-74372315:-  exon:chr2:74372316-74375039:-  upstream\n",
       "4  chr2:74372431-74373368:-  exon:chr2:74373369-74374353:-  upstream"
      ]
     },
     "execution_count": 8,
     "metadata": {},
     "output_type": "execute_result"
    }
   ],
   "source": [
    "# # %%time\n",
    "# sj_with_exons_subset_5p = sj_with_exons_subset.drop_duplicates('exon_5p')\n",
    "# grouped = sj_with_exons_subset_5p.groupby('intron_location')\n",
    "# upstream_exons_subset = grouped.apply(lambda x: x.exon_5p.dropna().str.split(',').apply(pd.Series, 1))\n",
    "# upstream_exons_subset = upstream_exons_subset.stack()\n",
    "# upstream_exons_subset.index = upstream_exons_subset.index.droplevel((-2, -1))\n",
    "# upstream_exons_subset = upstream_exons_subset.reset_index()\n",
    "# upstream_exons_subset = upstream_exons_subset.rename(columns={0: 'exon'})\n",
    "# upstream_exons_subset['direction'] = 'upstream'\n",
    "# upstream_exons_subset.head()"
   ]
  },
  {
   "cell_type": "code",
   "execution_count": 6,
   "metadata": {
    "collapsed": false
   },
   "outputs": [
    {
     "name": "stdout",
     "output_type": "stream",
     "text": [
      "CPU times: user 10min 20s, sys: 3.04 s, total: 10min 23s\n",
      "Wall time: 10min 23s\n"
     ]
    }
   ],
   "source": [
    "%%time\n",
    "# sj_with_exons_5p = sj_with_exons.drop_duplicates('exon_5p')\n",
    "grouped = sj_with_exons.groupby('intron_location')\n",
    "upstream_exons = grouped.apply(lambda x: x.exon_5p.dropna().str.split(',').apply(pd.Series, 1))\n",
    "upstream_exons = upstream_exons.stack()\n",
    "upstream_exons.index = upstream_exons.index.droplevel((-2, -1))\n",
    "upstream_exons = upstream_exons.reset_index()\n",
    "upstream_exons = upstream_exons.rename(columns={0: 'exon'})\n",
    "upstream_exons['direction'] = 'upstream'\n"
   ]
  },
  {
   "cell_type": "code",
   "execution_count": 7,
   "metadata": {
    "collapsed": false
   },
   "outputs": [
    {
     "data": {
      "text/html": [
       "<div>\n",
       "<table border=\"1\" class=\"dataframe\">\n",
       "  <thead>\n",
       "    <tr style=\"text-align: right;\">\n",
       "      <th></th>\n",
       "      <th>intron_location</th>\n",
       "      <th>exon</th>\n",
       "      <th>direction</th>\n",
       "    </tr>\n",
       "  </thead>\n",
       "  <tbody>\n",
       "    <tr>\n",
       "      <th>0</th>\n",
       "      <td>chr10:100008749-100010821:-</td>\n",
       "      <td>exon:chr10:100010822-100010933:-</td>\n",
       "      <td>upstream</td>\n",
       "    </tr>\n",
       "    <tr>\n",
       "      <th>1</th>\n",
       "      <td>chr10:100010934-100011322:-</td>\n",
       "      <td>exon:chr10:100011323-100011459:-</td>\n",
       "      <td>upstream</td>\n",
       "    </tr>\n",
       "    <tr>\n",
       "      <th>2</th>\n",
       "      <td>chr10:100143626-100144703:-</td>\n",
       "      <td>exon:chr10:100144704-100144824:-</td>\n",
       "      <td>upstream</td>\n",
       "    </tr>\n",
       "    <tr>\n",
       "      <th>3</th>\n",
       "      <td>chr10:100144825-100146957:-</td>\n",
       "      <td>exon:chr10:100146958-100147064:-</td>\n",
       "      <td>upstream</td>\n",
       "    </tr>\n",
       "    <tr>\n",
       "      <th>4</th>\n",
       "      <td>chr10:100147065-100155147:-</td>\n",
       "      <td>exon:chr10:100155148-100155209:-</td>\n",
       "      <td>upstream</td>\n",
       "    </tr>\n",
       "  </tbody>\n",
       "</table>\n",
       "</div>"
      ],
      "text/plain": [
       "               intron_location                              exon direction\n",
       "0  chr10:100008749-100010821:-  exon:chr10:100010822-100010933:-  upstream\n",
       "1  chr10:100010934-100011322:-  exon:chr10:100011323-100011459:-  upstream\n",
       "2  chr10:100143626-100144703:-  exon:chr10:100144704-100144824:-  upstream\n",
       "3  chr10:100144825-100146957:-  exon:chr10:100146958-100147064:-  upstream\n",
       "4  chr10:100147065-100155147:-  exon:chr10:100155148-100155209:-  upstream"
      ]
     },
     "execution_count": 7,
     "metadata": {},
     "output_type": "execute_result"
    }
   ],
   "source": [
    "upstream_exons.head()"
   ]
  },
  {
   "cell_type": "code",
   "execution_count": 8,
   "metadata": {
    "collapsed": false
   },
   "outputs": [
    {
     "name": "stdout",
     "output_type": "stream",
     "text": [
      "CPU times: user 10min 38s, sys: 1.57 s, total: 10min 39s\n",
      "Wall time: 10min 40s\n"
     ]
    }
   ],
   "source": [
    "%%time\n",
    "# sj_with_exons_3p = sj_with_exons.drop_duplicates('exon_3p')\n",
    "grouped = sj_with_exons.groupby('intron_location')\n",
    "downstream_exons = grouped.apply(lambda x: x.exon_3p.dropna().str.split(',').apply(pd.Series, 1))\n",
    "downstream_exons = downstream_exons.stack()\n",
    "downstream_exons.index = downstream_exons.index.droplevel((-2, -1))\n",
    "downstream_exons = downstream_exons.reset_index()\n",
    "downstream_exons = downstream_exons.rename(columns={0: 'exon'})\n",
    "downstream_exons['direction'] = 'downstream'\n"
   ]
  },
  {
   "cell_type": "code",
   "execution_count": 9,
   "metadata": {
    "collapsed": false
   },
   "outputs": [
    {
     "data": {
      "text/html": [
       "<div>\n",
       "<table border=\"1\" class=\"dataframe\">\n",
       "  <thead>\n",
       "    <tr style=\"text-align: right;\">\n",
       "      <th></th>\n",
       "      <th>intron_location</th>\n",
       "      <th>exon</th>\n",
       "      <th>direction</th>\n",
       "    </tr>\n",
       "  </thead>\n",
       "  <tbody>\n",
       "    <tr>\n",
       "      <th>0</th>\n",
       "      <td>chr10:100008749-100010821:-</td>\n",
       "      <td>exon:chr10:100007447-100008748:-</td>\n",
       "      <td>downstream</td>\n",
       "    </tr>\n",
       "    <tr>\n",
       "      <th>1</th>\n",
       "      <td>chr10:100010934-100011322:-</td>\n",
       "      <td>exon:chr10:100010822-100010933:-</td>\n",
       "      <td>downstream</td>\n",
       "    </tr>\n",
       "    <tr>\n",
       "      <th>2</th>\n",
       "      <td>chr10:100143626-100144703:-</td>\n",
       "      <td>exon:chr10:100143322-100143625:-</td>\n",
       "      <td>downstream</td>\n",
       "    </tr>\n",
       "    <tr>\n",
       "      <th>3</th>\n",
       "      <td>chr10:100144825-100146957:-</td>\n",
       "      <td>exon:chr10:100144704-100144824:-</td>\n",
       "      <td>downstream</td>\n",
       "    </tr>\n",
       "    <tr>\n",
       "      <th>4</th>\n",
       "      <td>chr10:100147065-100155147:-</td>\n",
       "      <td>exon:chr10:100146958-100147064:-</td>\n",
       "      <td>downstream</td>\n",
       "    </tr>\n",
       "  </tbody>\n",
       "</table>\n",
       "</div>"
      ],
      "text/plain": [
       "               intron_location                              exon   direction\n",
       "0  chr10:100008749-100010821:-  exon:chr10:100007447-100008748:-  downstream\n",
       "1  chr10:100010934-100011322:-  exon:chr10:100010822-100010933:-  downstream\n",
       "2  chr10:100143626-100144703:-  exon:chr10:100143322-100143625:-  downstream\n",
       "3  chr10:100144825-100146957:-  exon:chr10:100144704-100144824:-  downstream\n",
       "4  chr10:100147065-100155147:-  exon:chr10:100146958-100147064:-  downstream"
      ]
     },
     "execution_count": 9,
     "metadata": {},
     "output_type": "execute_result"
    }
   ],
   "source": [
    "downstream_exons.head()"
   ]
  },
  {
   "cell_type": "code",
   "execution_count": 10,
   "metadata": {
    "collapsed": false
   },
   "outputs": [
    {
     "data": {
      "text/html": [
       "<div>\n",
       "<table border=\"1\" class=\"dataframe\">\n",
       "  <thead>\n",
       "    <tr style=\"text-align: right;\">\n",
       "      <th></th>\n",
       "      <th>intron_location</th>\n",
       "      <th>exon</th>\n",
       "      <th>direction</th>\n",
       "    </tr>\n",
       "  </thead>\n",
       "  <tbody>\n",
       "    <tr>\n",
       "      <th>34245</th>\n",
       "      <td>chr12:110937352-110939853:-</td>\n",
       "      <td>exon:chr12:110939854-110939922:-</td>\n",
       "      <td>upstream</td>\n",
       "    </tr>\n",
       "    <tr>\n",
       "      <th>34246</th>\n",
       "      <td>chr12:110937352-110939853:-</td>\n",
       "      <td>exon:chr12:110939854-110939904:-</td>\n",
       "      <td>upstream</td>\n",
       "    </tr>\n",
       "    <tr>\n",
       "      <th>34247</th>\n",
       "      <td>chr12:110937352-110939853:-</td>\n",
       "      <td>exon:chr12:110939854-110939883:-</td>\n",
       "      <td>upstream</td>\n",
       "    </tr>\n",
       "    <tr>\n",
       "      <th>34248</th>\n",
       "      <td>chr12:110937352-110939853:-</td>\n",
       "      <td>exon:chr12:110939854-110939897:-</td>\n",
       "      <td>upstream</td>\n",
       "    </tr>\n",
       "    <tr>\n",
       "      <th>34249</th>\n",
       "      <td>chr12:110937352-110939853:-</td>\n",
       "      <td>exon:chr12:110939854-110939916:-</td>\n",
       "      <td>upstream</td>\n",
       "    </tr>\n",
       "    <tr>\n",
       "      <th>34250</th>\n",
       "      <td>chr12:110937352-110939853:-</td>\n",
       "      <td>exon:chr12:110939854-110939913:-</td>\n",
       "      <td>upstream</td>\n",
       "    </tr>\n",
       "    <tr>\n",
       "      <th>34251</th>\n",
       "      <td>chr12:110937352-110939853:-</td>\n",
       "      <td>exon:chr12:110939854-110939912:-</td>\n",
       "      <td>upstream</td>\n",
       "    </tr>\n",
       "    <tr>\n",
       "      <th>34252</th>\n",
       "      <td>chr12:110937352-110939853:-</td>\n",
       "      <td>exon:chr12:110939854-110939914:-</td>\n",
       "      <td>upstream</td>\n",
       "    </tr>\n",
       "  </tbody>\n",
       "</table>\n",
       "</div>"
      ],
      "text/plain": [
       "                   intron_location                              exon direction\n",
       "34245  chr12:110937352-110939853:-  exon:chr12:110939854-110939922:-  upstream\n",
       "34246  chr12:110937352-110939853:-  exon:chr12:110939854-110939904:-  upstream\n",
       "34247  chr12:110937352-110939853:-  exon:chr12:110939854-110939883:-  upstream\n",
       "34248  chr12:110937352-110939853:-  exon:chr12:110939854-110939897:-  upstream\n",
       "34249  chr12:110937352-110939853:-  exon:chr12:110939854-110939916:-  upstream\n",
       "34250  chr12:110937352-110939853:-  exon:chr12:110939854-110939913:-  upstream\n",
       "34251  chr12:110937352-110939853:-  exon:chr12:110939854-110939912:-  upstream\n",
       "34252  chr12:110937352-110939853:-  exon:chr12:110939854-110939914:-  upstream"
      ]
     },
     "execution_count": 10,
     "metadata": {},
     "output_type": "execute_result"
    }
   ],
   "source": [
    "upstream_exons.loc[upstream_exons.intron_location == 'chr12:110937352-110939853:-']"
   ]
  },
  {
   "cell_type": "code",
   "execution_count": 11,
   "metadata": {
    "collapsed": false
   },
   "outputs": [
    {
     "data": {
      "text/html": [
       "<div>\n",
       "<table border=\"1\" class=\"dataframe\">\n",
       "  <thead>\n",
       "    <tr style=\"text-align: right;\">\n",
       "      <th></th>\n",
       "      <th>intron_location</th>\n",
       "      <th>exon</th>\n",
       "      <th>direction</th>\n",
       "    </tr>\n",
       "  </thead>\n",
       "  <tbody>\n",
       "    <tr>\n",
       "      <th>0</th>\n",
       "      <td>chr10:100008749-100010821:-</td>\n",
       "      <td>exon:chr10:100010822-100010933:-</td>\n",
       "      <td>upstream</td>\n",
       "    </tr>\n",
       "    <tr>\n",
       "      <th>1</th>\n",
       "      <td>chr10:100010934-100011322:-</td>\n",
       "      <td>exon:chr10:100011323-100011459:-</td>\n",
       "      <td>upstream</td>\n",
       "    </tr>\n",
       "    <tr>\n",
       "      <th>2</th>\n",
       "      <td>chr10:100143626-100144703:-</td>\n",
       "      <td>exon:chr10:100144704-100144824:-</td>\n",
       "      <td>upstream</td>\n",
       "    </tr>\n",
       "    <tr>\n",
       "      <th>3</th>\n",
       "      <td>chr10:100144825-100146957:-</td>\n",
       "      <td>exon:chr10:100146958-100147064:-</td>\n",
       "      <td>upstream</td>\n",
       "    </tr>\n",
       "    <tr>\n",
       "      <th>4</th>\n",
       "      <td>chr10:100147065-100155147:-</td>\n",
       "      <td>exon:chr10:100155148-100155209:-</td>\n",
       "      <td>upstream</td>\n",
       "    </tr>\n",
       "  </tbody>\n",
       "</table>\n",
       "</div>"
      ],
      "text/plain": [
       "               intron_location                              exon direction\n",
       "0  chr10:100008749-100010821:-  exon:chr10:100010822-100010933:-  upstream\n",
       "1  chr10:100010934-100011322:-  exon:chr10:100011323-100011459:-  upstream\n",
       "2  chr10:100143626-100144703:-  exon:chr10:100144704-100144824:-  upstream\n",
       "3  chr10:100144825-100146957:-  exon:chr10:100146958-100147064:-  upstream\n",
       "4  chr10:100147065-100155147:-  exon:chr10:100155148-100155209:-  upstream"
      ]
     },
     "execution_count": 11,
     "metadata": {},
     "output_type": "execute_result"
    }
   ],
   "source": [
    "junction_exons = pd.concat([upstream_exons, downstream_exons])\n",
    "junction_exons.head()"
   ]
  },
  {
   "cell_type": "code",
   "execution_count": 12,
   "metadata": {
    "collapsed": false
   },
   "outputs": [
    {
     "data": {
      "text/plain": [
       "(659005, 3)"
      ]
     },
     "execution_count": 12,
     "metadata": {},
     "output_type": "execute_result"
    }
   ],
   "source": [
    "junction_exons.shape"
   ]
  },
  {
   "cell_type": "code",
   "execution_count": 13,
   "metadata": {
    "collapsed": false
   },
   "outputs": [
    {
     "data": {
      "text/plain": [
       "(659005, 3)"
      ]
     },
     "execution_count": 13,
     "metadata": {},
     "output_type": "execute_result"
    }
   ],
   "source": [
    "junction_exons.drop_duplicates().shape"
   ]
  },
  {
   "cell_type": "code",
   "execution_count": 15,
   "metadata": {
    "collapsed": false
   },
   "outputs": [],
   "source": [
    "junction_exons = junction_exons.drop_duplicates()"
   ]
  },
  {
   "cell_type": "code",
   "execution_count": 16,
   "metadata": {
    "collapsed": false
   },
   "outputs": [
    {
     "data": {
      "text/plain": [
       "(659005, 3)"
      ]
     },
     "execution_count": 16,
     "metadata": {},
     "output_type": "execute_result"
    }
   ],
   "source": [
    "junction_exons.shape"
   ]
  },
  {
   "cell_type": "code",
   "execution_count": 17,
   "metadata": {
    "collapsed": false
   },
   "outputs": [],
   "source": [
    "junction_exons.to_csv('{}/junction_exon_triples.csv'.format(folder))"
   ]
  },
  {
   "cell_type": "code",
   "execution_count": null,
   "metadata": {
    "collapsed": true
   },
   "outputs": [],
   "source": []
  }
 ],
 "metadata": {
  "kernelspec": {
   "display_name": "Python 2",
   "language": "python",
   "name": "python2"
  },
  "language_info": {
   "codemirror_mode": {
    "name": "ipython",
    "version": 2
   },
   "file_extension": ".py",
   "mimetype": "text/x-python",
   "name": "python",
   "nbconvert_exporter": "python",
   "pygments_lexer": "ipython2",
   "version": "2.7.10"
  }
 },
 "nbformat": 4,
 "nbformat_minor": 0
}
