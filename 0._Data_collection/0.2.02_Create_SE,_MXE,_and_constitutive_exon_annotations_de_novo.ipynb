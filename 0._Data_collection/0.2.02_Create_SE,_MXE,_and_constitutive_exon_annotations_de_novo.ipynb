{
 "cells": [
  {
   "cell_type": "code",
   "execution_count": 1,
   "metadata": {
    "collapsed": false
   },
   "outputs": [
    {
     "name": "stdout",
     "output_type": "stream",
     "text": [
      "(706732, 3)\n"
     ]
    },
    {
     "name": "stderr",
     "output_type": "stream",
     "text": [
      "/home/obotvinnik/anaconda/lib/python2.7/site-packages/matplotlib/__init__.py:784: UserWarning: Found matplotlib configuration in ~/.matplotlib/. To conform with the XDG base directory standard, this configuration location has been deprecated on Linux, and the new location is now /home/obotvinnik/.config/matplotlib/. Please move your configuration there to ensure that matplotlib will continue to find it in the future.\n",
      "  _get_xdg_config_dir())\n"
     ]
    }
   ],
   "source": [
    "import pandas as pd\n",
    "import gffutils\n",
    "import pybedtools\n",
    "import re\n",
    "import numpy as np\n",
    "\n",
    "v19db_filename = '/projects/ps-yeolab/genomes/hg19/gencode/v19/gencode.v19.annotation.gtf.db'\n",
    "v19db = gffutils.FeatureDB(v19db_filename)\n",
    "\n",
    "folder = '/projects/ps-yeolab/obotvinnik/singlecell_pnms'\n",
    "\n",
    "junction_exons = pd.read_csv('{}/junction_exons.csv'.format(folder), index_col=0)\n",
    "print junction_exons.shape"
   ]
  },
  {
   "cell_type": "markdown",
   "metadata": {},
   "source": [
    "## Build graph database"
   ]
  },
  {
   "cell_type": "code",
   "execution_count": null,
   "metadata": {
    "collapsed": false
   },
   "outputs": [
    {
     "name": "stdout",
     "output_type": "stream",
     "text": [
      "CPU times: user 2min 32s, sys: 644 ms, total: 2min 33s\n",
      "Wall time: 2min 33s\n"
     ]
    }
   ],
   "source": [
    "from poshsplice.junctions_to_events import JunctionAggregator\n",
    "%time ja = JunctionAggregator(junction_exons, junction_col='junction_location')"
   ]
  },
  {
   "cell_type": "markdown",
   "metadata": {},
   "source": [
    "## SE Events"
   ]
  },
  {
   "cell_type": "code",
   "execution_count": 28,
   "metadata": {
    "collapsed": false
   },
   "outputs": [
    {
     "data": {
      "text/html": [
       "<div>\n",
       "<table border=\"1\" class=\"dataframe\">\n",
       "  <thead>\n",
       "    <tr style=\"text-align: right;\">\n",
       "      <th></th>\n",
       "      <th>exon1</th>\n",
       "      <th>exon2</th>\n",
       "      <th>exon3</th>\n",
       "      <th>junctions</th>\n",
       "      <th>junction_exon12</th>\n",
       "      <th>junction_exon23</th>\n",
       "      <th>junction_exon13</th>\n",
       "      <th>event_id</th>\n",
       "    </tr>\n",
       "  </thead>\n",
       "  <tbody>\n",
       "    <tr>\n",
       "      <th>0</th>\n",
       "      <td>exon:chr10:100190328-100190427:-</td>\n",
       "      <td>exon:chr10:100189548-100189646:-</td>\n",
       "      <td>exon:chr10:100188908-100189399:-</td>\n",
       "      <td>(chr10:100189647-100190327:-, chr10:100189400-...</td>\n",
       "      <td>chr10:100189647-100190327:-</td>\n",
       "      <td>chr10:100189400-100189547:-</td>\n",
       "      <td>chr10:100189400-100190327:-</td>\n",
       "      <td>exon:chr10:100190328-100190427:-@exon:chr10:10...</td>\n",
       "    </tr>\n",
       "    <tr>\n",
       "      <th>1</th>\n",
       "      <td>exon:chr10:100190328-100190427:-</td>\n",
       "      <td>exon:chr10:100189548-100189646:-</td>\n",
       "      <td>exon:chr10:100188913-100189399:-</td>\n",
       "      <td>(chr10:100189647-100190327:-, chr10:100189400-...</td>\n",
       "      <td>chr10:100189647-100190327:-</td>\n",
       "      <td>chr10:100189400-100189547:-</td>\n",
       "      <td>chr10:100189400-100190327:-</td>\n",
       "      <td>exon:chr10:100190328-100190427:-@exon:chr10:10...</td>\n",
       "    </tr>\n",
       "    <tr>\n",
       "      <th>2</th>\n",
       "      <td>exon:chr10:100190328-100190427:-</td>\n",
       "      <td>exon:chr10:100189548-100189646:-</td>\n",
       "      <td>exon:chr10:100189330-100189399:-</td>\n",
       "      <td>(chr10:100189647-100190327:-, chr10:100189400-...</td>\n",
       "      <td>chr10:100189647-100190327:-</td>\n",
       "      <td>chr10:100189400-100189547:-</td>\n",
       "      <td>chr10:100189400-100190327:-</td>\n",
       "      <td>exon:chr10:100190328-100190427:-@exon:chr10:10...</td>\n",
       "    </tr>\n",
       "    <tr>\n",
       "      <th>3</th>\n",
       "      <td>exon:chr10:100193697-100193848:-</td>\n",
       "      <td>exon:chr10:100190888-100191048:-</td>\n",
       "      <td>exon:chr10:100190328-100190427:-</td>\n",
       "      <td>(chr10:100191049-100193696:-, chr10:100190428-...</td>\n",
       "      <td>chr10:100191049-100193696:-</td>\n",
       "      <td>chr10:100190428-100190887:-</td>\n",
       "      <td>chr10:100190428-100193696:-</td>\n",
       "      <td>exon:chr10:100193697-100193848:-@exon:chr10:10...</td>\n",
       "    </tr>\n",
       "    <tr>\n",
       "      <th>4</th>\n",
       "      <td>exon:chr10:100195392-100195529:-</td>\n",
       "      <td>exon:chr10:100195029-100195171:-</td>\n",
       "      <td>exon:chr10:100193697-100193848:-</td>\n",
       "      <td>(chr10:100195172-100195391:-, chr10:100193849-...</td>\n",
       "      <td>chr10:100195172-100195391:-</td>\n",
       "      <td>chr10:100193849-100195028:-</td>\n",
       "      <td>chr10:100193849-100195391:-</td>\n",
       "      <td>exon:chr10:100195392-100195529:-@exon:chr10:10...</td>\n",
       "    </tr>\n",
       "  </tbody>\n",
       "</table>\n",
       "</div>"
      ],
      "text/plain": [
       "                              exon1                             exon2  \\\n",
       "0  exon:chr10:100190328-100190427:-  exon:chr10:100189548-100189646:-   \n",
       "1  exon:chr10:100190328-100190427:-  exon:chr10:100189548-100189646:-   \n",
       "2  exon:chr10:100190328-100190427:-  exon:chr10:100189548-100189646:-   \n",
       "3  exon:chr10:100193697-100193848:-  exon:chr10:100190888-100191048:-   \n",
       "4  exon:chr10:100195392-100195529:-  exon:chr10:100195029-100195171:-   \n",
       "\n",
       "                              exon3  \\\n",
       "0  exon:chr10:100188908-100189399:-   \n",
       "1  exon:chr10:100188913-100189399:-   \n",
       "2  exon:chr10:100189330-100189399:-   \n",
       "3  exon:chr10:100190328-100190427:-   \n",
       "4  exon:chr10:100193697-100193848:-   \n",
       "\n",
       "                                           junctions  \\\n",
       "0  (chr10:100189647-100190327:-, chr10:100189400-...   \n",
       "1  (chr10:100189647-100190327:-, chr10:100189400-...   \n",
       "2  (chr10:100189647-100190327:-, chr10:100189400-...   \n",
       "3  (chr10:100191049-100193696:-, chr10:100190428-...   \n",
       "4  (chr10:100195172-100195391:-, chr10:100193849-...   \n",
       "\n",
       "               junction_exon12              junction_exon23  \\\n",
       "0  chr10:100189647-100190327:-  chr10:100189400-100189547:-   \n",
       "1  chr10:100189647-100190327:-  chr10:100189400-100189547:-   \n",
       "2  chr10:100189647-100190327:-  chr10:100189400-100189547:-   \n",
       "3  chr10:100191049-100193696:-  chr10:100190428-100190887:-   \n",
       "4  chr10:100195172-100195391:-  chr10:100193849-100195028:-   \n",
       "\n",
       "               junction_exon13  \\\n",
       "0  chr10:100189400-100190327:-   \n",
       "1  chr10:100189400-100190327:-   \n",
       "2  chr10:100189400-100190327:-   \n",
       "3  chr10:100190428-100193696:-   \n",
       "4  chr10:100193849-100195391:-   \n",
       "\n",
       "                                            event_id  \n",
       "0  exon:chr10:100190328-100190427:-@exon:chr10:10...  \n",
       "1  exon:chr10:100190328-100190427:-@exon:chr10:10...  \n",
       "2  exon:chr10:100190328-100190427:-@exon:chr10:10...  \n",
       "3  exon:chr10:100193697-100193848:-@exon:chr10:10...  \n",
       "4  exon:chr10:100195392-100195529:-@exon:chr10:10...  "
      ]
     },
     "execution_count": 28,
     "metadata": {},
     "output_type": "execute_result"
    }
   ],
   "source": [
    "exons_to_junctions = pd.read_csv('{}/exons_to_junctions_se.csv'.format(folder), header=None)\n",
    "exons_to_junctions = exons_to_junctions.rename(columns={0: 'exon1', 1: 'exon2', 2: 'exon3', 3:'junctions'})\n",
    "exons_to_junctions['junctions'] = exons_to_junctions['junctions'].map(eval)\n",
    "junctions = exons_to_junctions['junctions'].apply(pd.Series).rename(\n",
    "    columns={0:'junction_exon12', 1:'junction_exon23', 2: 'junction_exon13'})\n",
    "exons_to_junctions = pd.concat([exons_to_junctions, junctions], axis=1)\n",
    "exons_to_junctions['event_id'] = exons_to_junctions['exon1'] + '@' \\\n",
    "    + exons_to_junctions['exon2'] + '@' + \\\n",
    "    exons_to_junctions['exon3']\n",
    "exons_to_junctions.head()"
   ]
  },
  {
   "cell_type": "code",
   "execution_count": 30,
   "metadata": {
    "collapsed": false
   },
   "outputs": [
    {
     "data": {
      "text/html": [
       "<div>\n",
       "<table border=\"1\" class=\"dataframe\">\n",
       "  <thead>\n",
       "    <tr style=\"text-align: right;\">\n",
       "      <th></th>\n",
       "      <th>exon1</th>\n",
       "      <th>exon2</th>\n",
       "      <th>exon3</th>\n",
       "      <th>junction_exon12</th>\n",
       "      <th>junction_exon23</th>\n",
       "      <th>junction_exon13</th>\n",
       "      <th>event_id</th>\n",
       "    </tr>\n",
       "  </thead>\n",
       "  <tbody>\n",
       "    <tr>\n",
       "      <th>0</th>\n",
       "      <td>exon:chr10:100190328-100190427:-</td>\n",
       "      <td>exon:chr10:100189548-100189646:-</td>\n",
       "      <td>exon:chr10:100188908-100189399:-</td>\n",
       "      <td>chr10:100189647-100190327:-</td>\n",
       "      <td>chr10:100189400-100189547:-</td>\n",
       "      <td>chr10:100189400-100190327:-</td>\n",
       "      <td>exon:chr10:100190328-100190427:-@exon:chr10:10...</td>\n",
       "    </tr>\n",
       "    <tr>\n",
       "      <th>1</th>\n",
       "      <td>exon:chr10:100190328-100190427:-</td>\n",
       "      <td>exon:chr10:100189548-100189646:-</td>\n",
       "      <td>exon:chr10:100188913-100189399:-</td>\n",
       "      <td>chr10:100189647-100190327:-</td>\n",
       "      <td>chr10:100189400-100189547:-</td>\n",
       "      <td>chr10:100189400-100190327:-</td>\n",
       "      <td>exon:chr10:100190328-100190427:-@exon:chr10:10...</td>\n",
       "    </tr>\n",
       "    <tr>\n",
       "      <th>2</th>\n",
       "      <td>exon:chr10:100190328-100190427:-</td>\n",
       "      <td>exon:chr10:100189548-100189646:-</td>\n",
       "      <td>exon:chr10:100189330-100189399:-</td>\n",
       "      <td>chr10:100189647-100190327:-</td>\n",
       "      <td>chr10:100189400-100189547:-</td>\n",
       "      <td>chr10:100189400-100190327:-</td>\n",
       "      <td>exon:chr10:100190328-100190427:-@exon:chr10:10...</td>\n",
       "    </tr>\n",
       "    <tr>\n",
       "      <th>3</th>\n",
       "      <td>exon:chr10:100193697-100193848:-</td>\n",
       "      <td>exon:chr10:100190888-100191048:-</td>\n",
       "      <td>exon:chr10:100190328-100190427:-</td>\n",
       "      <td>chr10:100191049-100193696:-</td>\n",
       "      <td>chr10:100190428-100190887:-</td>\n",
       "      <td>chr10:100190428-100193696:-</td>\n",
       "      <td>exon:chr10:100193697-100193848:-@exon:chr10:10...</td>\n",
       "    </tr>\n",
       "    <tr>\n",
       "      <th>4</th>\n",
       "      <td>exon:chr10:100195392-100195529:-</td>\n",
       "      <td>exon:chr10:100195029-100195171:-</td>\n",
       "      <td>exon:chr10:100193697-100193848:-</td>\n",
       "      <td>chr10:100195172-100195391:-</td>\n",
       "      <td>chr10:100193849-100195028:-</td>\n",
       "      <td>chr10:100193849-100195391:-</td>\n",
       "      <td>exon:chr10:100195392-100195529:-@exon:chr10:10...</td>\n",
       "    </tr>\n",
       "  </tbody>\n",
       "</table>\n",
       "</div>"
      ],
      "text/plain": [
       "                              exon1                             exon2  \\\n",
       "0  exon:chr10:100190328-100190427:-  exon:chr10:100189548-100189646:-   \n",
       "1  exon:chr10:100190328-100190427:-  exon:chr10:100189548-100189646:-   \n",
       "2  exon:chr10:100190328-100190427:-  exon:chr10:100189548-100189646:-   \n",
       "3  exon:chr10:100193697-100193848:-  exon:chr10:100190888-100191048:-   \n",
       "4  exon:chr10:100195392-100195529:-  exon:chr10:100195029-100195171:-   \n",
       "\n",
       "                              exon3              junction_exon12  \\\n",
       "0  exon:chr10:100188908-100189399:-  chr10:100189647-100190327:-   \n",
       "1  exon:chr10:100188913-100189399:-  chr10:100189647-100190327:-   \n",
       "2  exon:chr10:100189330-100189399:-  chr10:100189647-100190327:-   \n",
       "3  exon:chr10:100190328-100190427:-  chr10:100191049-100193696:-   \n",
       "4  exon:chr10:100193697-100193848:-  chr10:100195172-100195391:-   \n",
       "\n",
       "               junction_exon23              junction_exon13  \\\n",
       "0  chr10:100189400-100189547:-  chr10:100189400-100190327:-   \n",
       "1  chr10:100189400-100189547:-  chr10:100189400-100190327:-   \n",
       "2  chr10:100189400-100189547:-  chr10:100189400-100190327:-   \n",
       "3  chr10:100190428-100190887:-  chr10:100190428-100193696:-   \n",
       "4  chr10:100193849-100195028:-  chr10:100193849-100195391:-   \n",
       "\n",
       "                                            event_id  \n",
       "0  exon:chr10:100190328-100190427:-@exon:chr10:10...  \n",
       "1  exon:chr10:100190328-100190427:-@exon:chr10:10...  \n",
       "2  exon:chr10:100190328-100190427:-@exon:chr10:10...  \n",
       "3  exon:chr10:100193697-100193848:-@exon:chr10:10...  \n",
       "4  exon:chr10:100195392-100195529:-@exon:chr10:10...  "
      ]
     },
     "execution_count": 30,
     "metadata": {},
     "output_type": "execute_result"
    }
   ],
   "source": [
    "se_df = exons_to_junctions.drop('junctions', axis=1)\n",
    "se_df.head()"
   ]
  },
  {
   "cell_type": "code",
   "execution_count": 31,
   "metadata": {
    "collapsed": true
   },
   "outputs": [],
   "source": [
    "se_df.to_csv('{}/exons_to_junctions_se.csv'.format(folder))"
   ]
  },
  {
   "cell_type": "markdown",
   "metadata": {},
   "source": [
    "## MXE events"
   ]
  },
  {
   "cell_type": "code",
   "execution_count": null,
   "metadata": {
    "collapsed": false
   },
   "outputs": [],
   "source": [
    "%time mxe_events = ja.mutually_exclusive_exon()"
   ]
  },
  {
   "cell_type": "code",
   "execution_count": 18,
   "metadata": {
    "collapsed": true
   },
   "outputs": [],
   "source": [
    "pd.options.display.max_colwidth = 50"
   ]
  },
  {
   "cell_type": "code",
   "execution_count": 23,
   "metadata": {
    "collapsed": false
   },
   "outputs": [
    {
     "data": {
      "text/html": [
       "<div>\n",
       "<table border=\"1\" class=\"dataframe\">\n",
       "  <thead>\n",
       "    <tr style=\"text-align: right;\">\n",
       "      <th></th>\n",
       "      <th>exon1</th>\n",
       "      <th>exon2</th>\n",
       "      <th>exon3</th>\n",
       "      <th>exon4</th>\n",
       "      <th>junctions</th>\n",
       "      <th>junction13</th>\n",
       "      <th>junction34</th>\n",
       "      <th>junction12</th>\n",
       "      <th>junction24</th>\n",
       "      <th>event_id</th>\n",
       "    </tr>\n",
       "  </thead>\n",
       "  <tbody>\n",
       "    <tr>\n",
       "      <th>0</th>\n",
       "      <td>exon:chr10:102003455-102003529:-</td>\n",
       "      <td>exon:chr10:101997779-101997988:-</td>\n",
       "      <td>exon:chr10:101996607-101996726:-</td>\n",
       "      <td>exon:chr10:101995424-101995521:-</td>\n",
       "      <td>[chr10:101996727-102003454:-, chr10:101995522-...</td>\n",
       "      <td>chr10:101996727-102003454:-</td>\n",
       "      <td>chr10:101995522-101996606:-</td>\n",
       "      <td>chr10:101997989-102003454:-</td>\n",
       "      <td>chr10:101995522-101997778:-</td>\n",
       "      <td>exon:chr10:102003455-102003529:-@exon:chr10:10...</td>\n",
       "    </tr>\n",
       "    <tr>\n",
       "      <th>1</th>\n",
       "      <td>exon:chr10:102003455-102003534:-</td>\n",
       "      <td>exon:chr10:101997779-101997988:-</td>\n",
       "      <td>exon:chr10:101996607-101996726:-</td>\n",
       "      <td>exon:chr10:101995424-101995521:-</td>\n",
       "      <td>[chr10:101996727-102003454:-, chr10:101995522-...</td>\n",
       "      <td>chr10:101996727-102003454:-</td>\n",
       "      <td>chr10:101995522-101996606:-</td>\n",
       "      <td>chr10:101997989-102003454:-</td>\n",
       "      <td>chr10:101995522-101997778:-</td>\n",
       "      <td>exon:chr10:102003455-102003534:-@exon:chr10:10...</td>\n",
       "    </tr>\n",
       "    <tr>\n",
       "      <th>2</th>\n",
       "      <td>exon:chr10:102013178-102013296:-</td>\n",
       "      <td>exon:chr10:102010005-102010089:-</td>\n",
       "      <td>exon:chr10:102003455-102003534:-</td>\n",
       "      <td>exon:chr10:101997779-101997988:-</td>\n",
       "      <td>[chr10:102003535-102013177:-, chr10:101997989-...</td>\n",
       "      <td>chr10:102003535-102013177:-</td>\n",
       "      <td>chr10:101997989-102003454:-</td>\n",
       "      <td>chr10:102010090-102013177:-</td>\n",
       "      <td>chr10:101997989-102010004:-</td>\n",
       "      <td>exon:chr10:102013178-102013296:-@exon:chr10:10...</td>\n",
       "    </tr>\n",
       "    <tr>\n",
       "      <th>3</th>\n",
       "      <td>exon:chr10:102013178-102014376:-</td>\n",
       "      <td>exon:chr10:102010005-102010089:-</td>\n",
       "      <td>exon:chr10:102003455-102003534:-</td>\n",
       "      <td>exon:chr10:101997779-101997988:-</td>\n",
       "      <td>[chr10:102003535-102013177:-, chr10:101997989-...</td>\n",
       "      <td>chr10:102003535-102013177:-</td>\n",
       "      <td>chr10:101997989-102003454:-</td>\n",
       "      <td>chr10:102010090-102013177:-</td>\n",
       "      <td>chr10:101997989-102010004:-</td>\n",
       "      <td>exon:chr10:102013178-102014376:-@exon:chr10:10...</td>\n",
       "    </tr>\n",
       "    <tr>\n",
       "      <th>4</th>\n",
       "      <td>exon:chr10:102020723-102020785:-</td>\n",
       "      <td>exon:chr10:102019975-102020076:-</td>\n",
       "      <td>exon:chr10:102016019-102016233:-</td>\n",
       "      <td>exon:chr10:102013178-102013296:-</td>\n",
       "      <td>[chr10:102016234-102020722:-, chr10:102013297-...</td>\n",
       "      <td>chr10:102016234-102020722:-</td>\n",
       "      <td>chr10:102013297-102016018:-</td>\n",
       "      <td>chr10:102020077-102020722:-</td>\n",
       "      <td>chr10:102013297-102019974:-</td>\n",
       "      <td>exon:chr10:102020723-102020785:-@exon:chr10:10...</td>\n",
       "    </tr>\n",
       "  </tbody>\n",
       "</table>\n",
       "</div>"
      ],
      "text/plain": [
       "                              exon1                             exon2  \\\n",
       "0  exon:chr10:102003455-102003529:-  exon:chr10:101997779-101997988:-   \n",
       "1  exon:chr10:102003455-102003534:-  exon:chr10:101997779-101997988:-   \n",
       "2  exon:chr10:102013178-102013296:-  exon:chr10:102010005-102010089:-   \n",
       "3  exon:chr10:102013178-102014376:-  exon:chr10:102010005-102010089:-   \n",
       "4  exon:chr10:102020723-102020785:-  exon:chr10:102019975-102020076:-   \n",
       "\n",
       "                              exon3                             exon4  \\\n",
       "0  exon:chr10:101996607-101996726:-  exon:chr10:101995424-101995521:-   \n",
       "1  exon:chr10:101996607-101996726:-  exon:chr10:101995424-101995521:-   \n",
       "2  exon:chr10:102003455-102003534:-  exon:chr10:101997779-101997988:-   \n",
       "3  exon:chr10:102003455-102003534:-  exon:chr10:101997779-101997988:-   \n",
       "4  exon:chr10:102016019-102016233:-  exon:chr10:102013178-102013296:-   \n",
       "\n",
       "                                           junctions  \\\n",
       "0  [chr10:101996727-102003454:-, chr10:101995522-...   \n",
       "1  [chr10:101996727-102003454:-, chr10:101995522-...   \n",
       "2  [chr10:102003535-102013177:-, chr10:101997989-...   \n",
       "3  [chr10:102003535-102013177:-, chr10:101997989-...   \n",
       "4  [chr10:102016234-102020722:-, chr10:102013297-...   \n",
       "\n",
       "                    junction13                   junction34  \\\n",
       "0  chr10:101996727-102003454:-  chr10:101995522-101996606:-   \n",
       "1  chr10:101996727-102003454:-  chr10:101995522-101996606:-   \n",
       "2  chr10:102003535-102013177:-  chr10:101997989-102003454:-   \n",
       "3  chr10:102003535-102013177:-  chr10:101997989-102003454:-   \n",
       "4  chr10:102016234-102020722:-  chr10:102013297-102016018:-   \n",
       "\n",
       "                    junction12                   junction24  \\\n",
       "0  chr10:101997989-102003454:-  chr10:101995522-101997778:-   \n",
       "1  chr10:101997989-102003454:-  chr10:101995522-101997778:-   \n",
       "2  chr10:102010090-102013177:-  chr10:101997989-102010004:-   \n",
       "3  chr10:102010090-102013177:-  chr10:101997989-102010004:-   \n",
       "4  chr10:102020077-102020722:-  chr10:102013297-102019974:-   \n",
       "\n",
       "                                            event_id  \n",
       "0  exon:chr10:102003455-102003529:-@exon:chr10:10...  \n",
       "1  exon:chr10:102003455-102003534:-@exon:chr10:10...  \n",
       "2  exon:chr10:102013178-102013296:-@exon:chr10:10...  \n",
       "3  exon:chr10:102013178-102014376:-@exon:chr10:10...  \n",
       "4  exon:chr10:102020723-102020785:-@exon:chr10:10...  "
      ]
     },
     "execution_count": 23,
     "metadata": {},
     "output_type": "execute_result"
    }
   ],
   "source": [
    "mxe_df = pd.Series(mxe_events).reset_index()\n",
    "mxe_df = mxe_df.rename(columns=dict(('level_{}'.format(i), 'exon{}'.format(i+1)) for i in range(4)))\n",
    "mxe_df = mxe_df.rename(columns={0: 'junctions'})\n",
    "mxe_df['junction13'] = mxe_df.junctions.map(lambda x: x[0])\n",
    "mxe_df['junction34'] = mxe_df.junctions.map(lambda x: x[1])\n",
    "mxe_df['junction12'] = mxe_df.junctions.map(lambda x: x[2])\n",
    "mxe_df['junction24'] = mxe_df.junctions.map(lambda x: x[3])\n",
    "mxe_df['event_id'] = mxe_df.exon1 + '@' + mxe_df.exon2 + '@' \\\n",
    "    + mxe_df.exon3 + '@' + mxe_df.exon4\n",
    "mxe_df.head()"
   ]
  },
  {
   "cell_type": "code",
   "execution_count": 25,
   "metadata": {
    "collapsed": false
   },
   "outputs": [
    {
     "data": {
      "text/plain": [
       "(17748, 9)"
      ]
     },
     "execution_count": 25,
     "metadata": {},
     "output_type": "execute_result"
    }
   ],
   "source": [
    "mxe_df.shape"
   ]
  },
  {
   "cell_type": "code",
   "execution_count": 24,
   "metadata": {
    "collapsed": false
   },
   "outputs": [
    {
     "data": {
      "text/html": [
       "<div>\n",
       "<table border=\"1\" class=\"dataframe\">\n",
       "  <thead>\n",
       "    <tr style=\"text-align: right;\">\n",
       "      <th></th>\n",
       "      <th>exon1</th>\n",
       "      <th>exon2</th>\n",
       "      <th>exon3</th>\n",
       "      <th>exon4</th>\n",
       "      <th>junction13</th>\n",
       "      <th>junction34</th>\n",
       "      <th>junction12</th>\n",
       "      <th>junction24</th>\n",
       "      <th>event_id</th>\n",
       "    </tr>\n",
       "  </thead>\n",
       "  <tbody>\n",
       "    <tr>\n",
       "      <th>0</th>\n",
       "      <td>exon:chr10:102003455-102003529:-</td>\n",
       "      <td>exon:chr10:101997779-101997988:-</td>\n",
       "      <td>exon:chr10:101996607-101996726:-</td>\n",
       "      <td>exon:chr10:101995424-101995521:-</td>\n",
       "      <td>chr10:101996727-102003454:-</td>\n",
       "      <td>chr10:101995522-101996606:-</td>\n",
       "      <td>chr10:101997989-102003454:-</td>\n",
       "      <td>chr10:101995522-101997778:-</td>\n",
       "      <td>exon:chr10:102003455-102003529:-@exon:chr10:10...</td>\n",
       "    </tr>\n",
       "    <tr>\n",
       "      <th>1</th>\n",
       "      <td>exon:chr10:102003455-102003534:-</td>\n",
       "      <td>exon:chr10:101997779-101997988:-</td>\n",
       "      <td>exon:chr10:101996607-101996726:-</td>\n",
       "      <td>exon:chr10:101995424-101995521:-</td>\n",
       "      <td>chr10:101996727-102003454:-</td>\n",
       "      <td>chr10:101995522-101996606:-</td>\n",
       "      <td>chr10:101997989-102003454:-</td>\n",
       "      <td>chr10:101995522-101997778:-</td>\n",
       "      <td>exon:chr10:102003455-102003534:-@exon:chr10:10...</td>\n",
       "    </tr>\n",
       "    <tr>\n",
       "      <th>2</th>\n",
       "      <td>exon:chr10:102013178-102013296:-</td>\n",
       "      <td>exon:chr10:102010005-102010089:-</td>\n",
       "      <td>exon:chr10:102003455-102003534:-</td>\n",
       "      <td>exon:chr10:101997779-101997988:-</td>\n",
       "      <td>chr10:102003535-102013177:-</td>\n",
       "      <td>chr10:101997989-102003454:-</td>\n",
       "      <td>chr10:102010090-102013177:-</td>\n",
       "      <td>chr10:101997989-102010004:-</td>\n",
       "      <td>exon:chr10:102013178-102013296:-@exon:chr10:10...</td>\n",
       "    </tr>\n",
       "    <tr>\n",
       "      <th>3</th>\n",
       "      <td>exon:chr10:102013178-102014376:-</td>\n",
       "      <td>exon:chr10:102010005-102010089:-</td>\n",
       "      <td>exon:chr10:102003455-102003534:-</td>\n",
       "      <td>exon:chr10:101997779-101997988:-</td>\n",
       "      <td>chr10:102003535-102013177:-</td>\n",
       "      <td>chr10:101997989-102003454:-</td>\n",
       "      <td>chr10:102010090-102013177:-</td>\n",
       "      <td>chr10:101997989-102010004:-</td>\n",
       "      <td>exon:chr10:102013178-102014376:-@exon:chr10:10...</td>\n",
       "    </tr>\n",
       "    <tr>\n",
       "      <th>4</th>\n",
       "      <td>exon:chr10:102020723-102020785:-</td>\n",
       "      <td>exon:chr10:102019975-102020076:-</td>\n",
       "      <td>exon:chr10:102016019-102016233:-</td>\n",
       "      <td>exon:chr10:102013178-102013296:-</td>\n",
       "      <td>chr10:102016234-102020722:-</td>\n",
       "      <td>chr10:102013297-102016018:-</td>\n",
       "      <td>chr10:102020077-102020722:-</td>\n",
       "      <td>chr10:102013297-102019974:-</td>\n",
       "      <td>exon:chr10:102020723-102020785:-@exon:chr10:10...</td>\n",
       "    </tr>\n",
       "  </tbody>\n",
       "</table>\n",
       "</div>"
      ],
      "text/plain": [
       "                              exon1                             exon2  \\\n",
       "0  exon:chr10:102003455-102003529:-  exon:chr10:101997779-101997988:-   \n",
       "1  exon:chr10:102003455-102003534:-  exon:chr10:101997779-101997988:-   \n",
       "2  exon:chr10:102013178-102013296:-  exon:chr10:102010005-102010089:-   \n",
       "3  exon:chr10:102013178-102014376:-  exon:chr10:102010005-102010089:-   \n",
       "4  exon:chr10:102020723-102020785:-  exon:chr10:102019975-102020076:-   \n",
       "\n",
       "                              exon3                             exon4  \\\n",
       "0  exon:chr10:101996607-101996726:-  exon:chr10:101995424-101995521:-   \n",
       "1  exon:chr10:101996607-101996726:-  exon:chr10:101995424-101995521:-   \n",
       "2  exon:chr10:102003455-102003534:-  exon:chr10:101997779-101997988:-   \n",
       "3  exon:chr10:102003455-102003534:-  exon:chr10:101997779-101997988:-   \n",
       "4  exon:chr10:102016019-102016233:-  exon:chr10:102013178-102013296:-   \n",
       "\n",
       "                    junction13                   junction34  \\\n",
       "0  chr10:101996727-102003454:-  chr10:101995522-101996606:-   \n",
       "1  chr10:101996727-102003454:-  chr10:101995522-101996606:-   \n",
       "2  chr10:102003535-102013177:-  chr10:101997989-102003454:-   \n",
       "3  chr10:102003535-102013177:-  chr10:101997989-102003454:-   \n",
       "4  chr10:102016234-102020722:-  chr10:102013297-102016018:-   \n",
       "\n",
       "                    junction12                   junction24  \\\n",
       "0  chr10:101997989-102003454:-  chr10:101995522-101997778:-   \n",
       "1  chr10:101997989-102003454:-  chr10:101995522-101997778:-   \n",
       "2  chr10:102010090-102013177:-  chr10:101997989-102010004:-   \n",
       "3  chr10:102010090-102013177:-  chr10:101997989-102010004:-   \n",
       "4  chr10:102020077-102020722:-  chr10:102013297-102019974:-   \n",
       "\n",
       "                                            event_id  \n",
       "0  exon:chr10:102003455-102003529:-@exon:chr10:10...  \n",
       "1  exon:chr10:102003455-102003534:-@exon:chr10:10...  \n",
       "2  exon:chr10:102013178-102013296:-@exon:chr10:10...  \n",
       "3  exon:chr10:102013178-102014376:-@exon:chr10:10...  \n",
       "4  exon:chr10:102020723-102020785:-@exon:chr10:10...  "
      ]
     },
     "execution_count": 24,
     "metadata": {},
     "output_type": "execute_result"
    }
   ],
   "source": [
    "mxe_df = mxe_df.drop('junctions', axis=1)\n",
    "mxe_df.head()"
   ]
  },
  {
   "cell_type": "code",
   "execution_count": 26,
   "metadata": {
    "collapsed": true
   },
   "outputs": [],
   "source": [
    "mxe_df.to_csv('{}/exons_to_junctions_mxe.csv'.format(folder))"
   ]
  },
  {
   "cell_type": "code",
   "execution_count": null,
   "metadata": {
    "collapsed": true
   },
   "outputs": [],
   "source": [
    "# %time se_events = ja.skipped_exon()"
   ]
  },
  {
   "cell_type": "code",
   "execution_count": null,
   "metadata": {
    "collapsed": true
   },
   "outputs": [],
   "source": [
    "se_events"
   ]
  },
  {
   "cell_type": "code",
   "execution_count": null,
   "metadata": {
    "collapsed": true
   },
   "outputs": [],
   "source": [
    "mxe_events"
   ]
  },
  {
   "cell_type": "code",
   "execution_count": null,
   "metadata": {
    "collapsed": true
   },
   "outputs": [],
   "source": [
    "range(3)"
   ]
  },
  {
   "cell_type": "code",
   "execution_count": null,
   "metadata": {
    "collapsed": true
   },
   "outputs": [],
   "source": []
  }
 ],
 "metadata": {
  "kernelspec": {
   "display_name": "Python 2",
   "language": "python",
   "name": "python2"
  },
  "language_info": {
   "codemirror_mode": {
    "name": "ipython",
    "version": 2
   },
   "file_extension": ".py",
   "mimetype": "text/x-python",
   "name": "python",
   "nbconvert_exporter": "python",
   "pygments_lexer": "ipython2",
   "version": "2.7.10"
  }
 },
 "nbformat": 4,
 "nbformat_minor": 0
}
