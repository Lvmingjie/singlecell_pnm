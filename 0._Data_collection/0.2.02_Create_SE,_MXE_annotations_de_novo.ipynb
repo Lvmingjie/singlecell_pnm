{
 "cells": [
  {
   "cell_type": "code",
   "execution_count": 6,
   "metadata": {
    "collapsed": false
   },
   "outputs": [
    {
     "name": "stdout",
     "output_type": "stream",
     "text": [
      "(844056, 3)\n"
     ]
    },
    {
     "data": {
      "text/html": [
       "<div>\n",
       "<table border=\"1\" class=\"dataframe\">\n",
       "  <thead>\n",
       "    <tr style=\"text-align: right;\">\n",
       "      <th></th>\n",
       "      <th>exon</th>\n",
       "      <th>direction</th>\n",
       "      <th>junction</th>\n",
       "    </tr>\n",
       "  </thead>\n",
       "  <tbody>\n",
       "    <tr>\n",
       "      <th>0</th>\n",
       "      <td>exon:chr1:29321-29370:-</td>\n",
       "      <td>downstream</td>\n",
       "      <td>chr1:18367-29320:-</td>\n",
       "    </tr>\n",
       "    <tr>\n",
       "      <th>1</th>\n",
       "      <td>exon:chr1:29321-29370:-</td>\n",
       "      <td>downstream</td>\n",
       "      <td>chr1:24892-29320:-</td>\n",
       "    </tr>\n",
       "    <tr>\n",
       "      <th>2</th>\n",
       "      <td>exon:chr1:29321-29370:-</td>\n",
       "      <td>downstream</td>\n",
       "      <td>chr1:27186-29320:-</td>\n",
       "    </tr>\n",
       "    <tr>\n",
       "      <th>3</th>\n",
       "      <td>exon:chr1:29321-29370:-</td>\n",
       "      <td>downstream</td>\n",
       "      <td>chr1:18380-29320:-</td>\n",
       "    </tr>\n",
       "    <tr>\n",
       "      <th>4</th>\n",
       "      <td>exon:chr1:29321-29370:-</td>\n",
       "      <td>downstream</td>\n",
       "      <td>chr1:18370-29320:-</td>\n",
       "    </tr>\n",
       "  </tbody>\n",
       "</table>\n",
       "</div>"
      ],
      "text/plain": [
       "                      exon   direction            junction\n",
       "0  exon:chr1:29321-29370:-  downstream  chr1:18367-29320:-\n",
       "1  exon:chr1:29321-29370:-  downstream  chr1:24892-29320:-\n",
       "2  exon:chr1:29321-29370:-  downstream  chr1:27186-29320:-\n",
       "3  exon:chr1:29321-29370:-  downstream  chr1:18380-29320:-\n",
       "4  exon:chr1:29321-29370:-  downstream  chr1:18370-29320:-"
      ]
     },
     "execution_count": 6,
     "metadata": {},
     "output_type": "execute_result"
    }
   ],
   "source": [
    "import pandas as pd\n",
    "import gffutils\n",
    "import pybedtools\n",
    "import re\n",
    "import numpy as np\n",
    "\n",
    "v19db_filename = '/projects/ps-yeolab/genomes/hg19/gencode/v19/gencode.v19.annotation.gtf.db'\n",
    "v19db = gffutils.FeatureDB(v19db_filename)\n",
    "\n",
    "folder = '/home/obotvinnik/projects/singlecell_pnms/analysis/csvs_for_paper'\n",
    "\n",
    "junction_exons = pd.read_csv('{}/junction_exon_triples.csv'.format(folder))\n",
    "print junction_exons.shape\n",
    "junction_exons.head()"
   ]
  },
  {
   "cell_type": "code",
   "execution_count": 7,
   "metadata": {
    "collapsed": false
   },
   "outputs": [
    {
     "data": {
      "text/html": [
       "<div>\n",
       "<table border=\"1\" class=\"dataframe\">\n",
       "  <thead>\n",
       "    <tr style=\"text-align: right;\">\n",
       "      <th></th>\n",
       "      <th>exon</th>\n",
       "      <th>direction</th>\n",
       "      <th>junction</th>\n",
       "    </tr>\n",
       "  </thead>\n",
       "  <tbody>\n",
       "    <tr>\n",
       "      <th>844051</th>\n",
       "      <td>exon:chrY:28732789-28732913:-</td>\n",
       "      <td>upstream</td>\n",
       "      <td>chrY:28732914-28733544:-</td>\n",
       "    </tr>\n",
       "    <tr>\n",
       "      <th>844052</th>\n",
       "      <td>exon:chrY:28774418-28774584:-</td>\n",
       "      <td>downstream</td>\n",
       "      <td>chrY:28774170-28774417:-</td>\n",
       "    </tr>\n",
       "    <tr>\n",
       "      <th>844053</th>\n",
       "      <td>exon:chrY:28774090-28774169:-</td>\n",
       "      <td>upstream</td>\n",
       "      <td>chrY:28774170-28774417:-</td>\n",
       "    </tr>\n",
       "    <tr>\n",
       "      <th>844054</th>\n",
       "      <td>exon:chrY:28768659-28768755:-</td>\n",
       "      <td>downstream</td>\n",
       "      <td>chrY:28768043-28768658:-</td>\n",
       "    </tr>\n",
       "    <tr>\n",
       "      <th>844055</th>\n",
       "      <td>exon:chrY:28767920-28768042:-</td>\n",
       "      <td>upstream</td>\n",
       "      <td>chrY:28768043-28768658:-</td>\n",
       "    </tr>\n",
       "  </tbody>\n",
       "</table>\n",
       "</div>"
      ],
      "text/plain": [
       "                                 exon   direction                  junction\n",
       "844051  exon:chrY:28732789-28732913:-    upstream  chrY:28732914-28733544:-\n",
       "844052  exon:chrY:28774418-28774584:-  downstream  chrY:28774170-28774417:-\n",
       "844053  exon:chrY:28774090-28774169:-    upstream  chrY:28774170-28774417:-\n",
       "844054  exon:chrY:28768659-28768755:-  downstream  chrY:28768043-28768658:-\n",
       "844055  exon:chrY:28767920-28768042:-    upstream  chrY:28768043-28768658:-"
      ]
     },
     "execution_count": 7,
     "metadata": {},
     "output_type": "execute_result"
    }
   ],
   "source": [
    "junction_exons.tail()"
   ]
  },
  {
   "cell_type": "markdown",
   "metadata": {},
   "source": [
    "## Build graph database"
   ]
  },
  {
   "cell_type": "code",
   "execution_count": 2,
   "metadata": {
    "collapsed": false
   },
   "outputs": [
    {
     "name": "stdout",
     "output_type": "stream",
     "text": [
      "CPU times: user 3min 3s, sys: 1.18 s, total: 3min 4s\n",
      "Wall time: 3min 4s\n"
     ]
    }
   ],
   "source": [
    "from outrigger.junctions_to_events import JunctionAggregator\n",
    "junction_col = 'junction'\n",
    "\n",
    "%time ja = JunctionAggregator(junction_exons, junction_col=junction_col)"
   ]
  },
  {
   "cell_type": "markdown",
   "metadata": {},
   "source": [
    "## SE Events"
   ]
  },
  {
   "cell_type": "code",
   "execution_count": null,
   "metadata": {
    "collapsed": true
   },
   "outputs": [],
   "source": [
    "%time se_events = ja.skipped_exon()\n"
   ]
  },
  {
   "cell_type": "code",
   "execution_count": null,
   "metadata": {
    "collapsed": true
   },
   "outputs": [],
   "source": []
  },
  {
   "cell_type": "code",
   "execution_count": 8,
   "metadata": {
    "collapsed": false
   },
   "outputs": [],
   "source": [
    "se_events.to_csv('{}/se_events_with_stressed.csv'.format(folder), index=False)"
   ]
  },
  {
   "cell_type": "markdown",
   "metadata": {},
   "source": [
    "## MXE events"
   ]
  },
  {
   "cell_type": "code",
   "execution_count": null,
   "metadata": {
    "collapsed": true
   },
   "outputs": [],
   "source": [
    "%time mxe_events = ja.mutually_exclusive_exon()\n"
   ]
  },
  {
   "cell_type": "code",
   "execution_count": null,
   "metadata": {
    "collapsed": true
   },
   "outputs": [],
   "source": [
    "mxe_events"
   ]
  },
  {
   "cell_type": "code",
   "execution_count": 3,
   "metadata": {
    "collapsed": false
   },
   "outputs": [
    {
     "name": "stdout",
     "output_type": "stream",
     "text": [
      "/home/obotvinnik/projects/singlecell_pnms/analysis/csvs_for_paper/mxe_events_with_stressed.csv\r\n"
     ]
    }
   ],
   "source": [
    "ls $folder/mxe*"
   ]
  },
  {
   "cell_type": "code",
   "execution_count": null,
   "metadata": {
    "collapsed": true
   },
   "outputs": [],
   "source": [
    "mxe_events.to_csv('{}/mxe_events_with_stressed.csv'.format(folder), index=False)"
   ]
  },
  {
   "cell_type": "code",
   "execution_count": null,
   "metadata": {
    "collapsed": true
   },
   "outputs": [],
   "source": []
  }
 ],
 "metadata": {
  "kernelspec": {
   "display_name": "Python 2",
   "language": "python",
   "name": "python2"
  },
  "language_info": {
   "codemirror_mode": {
    "name": "ipython",
    "version": 2
   },
   "file_extension": ".py",
   "mimetype": "text/x-python",
   "name": "python",
   "nbconvert_exporter": "python",
   "pygments_lexer": "ipython2",
   "version": "2.7.10"
  }
 },
 "nbformat": 4,
 "nbformat_minor": 0
}
