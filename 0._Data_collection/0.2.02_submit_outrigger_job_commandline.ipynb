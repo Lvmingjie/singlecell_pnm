{
 "cells": [
  {
   "cell_type": "code",
   "execution_count": 1,
   "metadata": {
    "collapsed": false
   },
   "outputs": [
    {
     "name": "stdout",
     "output_type": "stream",
     "text": [
      "/projects/ps-yeolab/obotvinnik/singlecell_pnms/csvs_for_paper\n"
     ]
    }
   ],
   "source": [
    "cd /projects/ps-yeolab/obotvinnik/singlecell_pnms/csvs_for_paper/"
   ]
  },
  {
   "cell_type": "code",
   "execution_count": 2,
   "metadata": {
    "collapsed": false
   },
   "outputs": [
    {
     "name": "stdout",
     "output_type": "stream",
     "text": [
      "\u001b[0m\u001b[01;34mconservation\u001b[0m/\r\n",
      "constitutive_downstream400_pyrimidine_content.csv\r\n",
      "constitutive_exons.bed\r\n",
      "constitutive_feature_data.csv\r\n",
      "constitutive_upstream400_pyrimidine_content.csv\r\n",
      "exon2_downstream400_pyrimidine_content.csv\r\n",
      "exon2_upstream400_pyrimidine_content.csv\r\n",
      "expression.csv\r\n",
      "expression_stressed.csv\r\n",
      "junction_exon_triples.csv\r\n",
      "junction_reads_use_multimapping.csv\r\n",
      "mapping_stats.csv\r\n",
      "mapping_stats_stressed.csv\r\n",
      "metadata.csv\r\n",
      "metadata_stressed.csv\r\n",
      "mutually_exclusive_exon_consolidated_events.csv\r\n",
      "mutually_exclusive_exons_psi.csv\r\n",
      "mxe_events_with_stressed.csv\r\n",
      "\u001b[01;34mnucleotide_content\u001b[0m/\r\n",
      "\u001b[01;34moutrigger_output\u001b[0m/\r\n",
      "outrigger_singlecell.sh\r\n",
      "outrigger_singlecell.sh.err\r\n",
      "outrigger_singlecell.sh.out\r\n",
      "outrigger_singlecell.sh~\r\n",
      "psi.csv\r\n",
      "psi3.csv\r\n",
      "psi3_stressed.csv\r\n",
      "psi5.csv\r\n",
      "psi5_psi3_combined.csv\r\n",
      "psi5_psi3_combined.hdf\r\n",
      "psi5_psi3_combined_metadata.csv\r\n",
      "psi5_psi3_combined_metadata.hdf\r\n",
      "psi5_stressed.csv\r\n",
      "psi_constitutively0.csv\r\n",
      "psi_constitutively1.csv\r\n",
      "psi_unfiltered.csv\r\n",
      "se_events_with_stressed.csv\r\n",
      "sj_metadata.csv\r\n",
      "sj_raw.bak\r\n",
      "sj_raw.csv\r\n",
      "sj_raw.csv.bak\r\n",
      "skipped_exon_consolidated_events.csv\r\n",
      "skipped_exon_psi_from_junctions.csv\r\n",
      "splice_junction_metadata.csv\r\n",
      "splice_junctions_psi.csv\r\n",
      "splicing.csv\r\n",
      "\u001b[01;34msplicing_feature_data\u001b[0m/\r\n",
      "splicing_feature_data.csv\r\n",
      "splicing_stressed.csv\r\n",
      "\u001b[m"
     ]
    }
   ],
   "source": [
    "ls"
   ]
  },
  {
   "cell_type": "code",
   "execution_count": 6,
   "metadata": {
    "collapsed": false
   },
   "outputs": [
    {
     "name": "stdout",
     "output_type": "stream",
     "text": [
      "/home/obotvinnik/processing_scripts/singlecell_pnms\n"
     ]
    }
   ],
   "source": [
    "cd ~/projects/singlecell_pnms/scripts/"
   ]
  },
  {
   "cell_type": "code",
   "execution_count": 7,
   "metadata": {
    "collapsed": false
   },
   "outputs": [
    {
     "name": "stdout",
     "output_type": "stream",
     "text": [
      "==> singlecell_pnms_outrigger_index_v0.2.6.sh <==\n",
      "#PBS -l nodes=1:ppn=8\n",
      "#PBS -A yeo-group\n",
      "#PBS -q home-yeo\n",
      "\n",
      "# Go to the directory from which the script was called\n",
      "cd $PBS_O_WORKDIR\n",
      "source activate outrigger_v0.2.6\n",
      "cd /home/obotvinnik/projects/singlecell_pnms/analysis\n",
      "outrigger index --junction-reads-csv /projects/ps-yeolab/obotvinnik/singlecell_pnms/csvs_for_paper/junction_reads_use_multimapping.csv --output /home/obotvinnik/projects/singlecell_pnms/analysis/outrigger --gtf-filename /projects/ps-yeolab/genomes/hg19/gencode/v19/gencode.v19.annotation.gtf\n",
      "\n",
      "\n",
      "==> singlecell_pnms_outrigger_index_v0.2.6.sh.e6664432 <==\n",
      "/var/spool/torque/mom_priv/jobs/6664432.tscc-mgr.local.SC: line 1: syntax error near unexpected token `newline'\n",
      "/var/spool/torque/mom_priv/jobs/6664432.tscc-mgr.local.SC: line 1: `case '\n",
      "\n",
      "==> singlecell_pnms_outrigger_index_v0.2.6.sh.err <==\n",
      "INFO:gffutils.create:Committing changes\n",
      "2016-09-27 09:35:52,653 - INFO - Populating features table and first-order relations: 2619443 features\n",
      "INFO:gffutils.create:Populating features table and first-order relations: 2619443 features\n",
      "2016-09-27 09:35:52,658 - INFO - Creating relations(parent) index\n",
      "INFO:gffutils.create:Creating relations(parent) index\n",
      "2016-09-27 09:36:00,584 - INFO - Creating relations(child) index\n",
      "INFO:gffutils.create:Creating relations(child) index\n",
      "2016-09-27 09:36:10,594 - INFO - Creating features(featuretype) index\n",
      "INFO:gffutils.create:Creating features(featuretype) index\n",
      "/var/spool/torque/mom_priv/jobs/6669895.tscc-mgr.local.SC: line 15:  4297 Killed                  outrigger index --junction-reads-csv /projects/ps-yeolab/obotvinnik/singlecell_pnms/csvs_for_paper/junction_reads_use_multimapping.csv --output /home/obotvinnik/projects/singlecell_pnms/analysis/outrigger --gtf-filename /projects/ps-yeolab/genomes/hg19/gencode/v19/gencode.v19.annotation.gtf\n",
      "\n",
      "==> singlecell_pnms_outrigger_index_v0.2.6.sh.o6664432 <==\n",
      "Nodes:        tscc-2-56\n",
      "\n",
      "==> singlecell_pnms_outrigger_index_v0.2.6.sh.out <==\n",
      "2016-09-29 10:43:47\t\t228288/356662 exons tested (64.0%)\n",
      "2016-09-29 10:53:21\t\t231855/356662 exons tested (65.0%)\n",
      "2016-09-29 11:06:54\t\t235422/356662 exons tested (66.0%)\n",
      "2016-09-29 11:12:43\t\t238989/356662 exons tested (67.0%)\n",
      "2016-09-29 11:20:38\t\t242556/356662 exons tested (68.0%)\n",
      "2016-09-29 11:27:47\t\t246123/356662 exons tested (69.0%)\n",
      "2016-09-29 11:33:41\t\t249690/356662 exons tested (70.0%)\n",
      "2016-09-29 11:41:17\t\t253257/356662 exons tested (71.0%)\n",
      "2016-09-29 11:46:49\t\t256824/356662 exons tested (72.0%)\n",
      "2016-09-29 11:53:50\t\t260391/356662 exons tested (73.0%Nodes:        tscc-1-50\n",
      "\n",
      "==> singlecell_pnms_outrigger_index_v0.2.6.sh~ <==\n",
      "#PBS -V\n",
      "#PBS -l walltime=24:00:00\n",
      "#PBS -l nodes=1:ppn=4\n",
      "#PBS -A yeo-group\n",
      "#PBS -q home\n",
      "\n",
      "# Go to the directory from which the script was called\n",
      "source activate outrigger_v0.2.6\n",
      "cd /projects/singlecell_pnms/analysis/\n",
      "outrigger index --junction-reads-csv /projects/ps-yeolab/obotvinnik/singlecell_pnms/csvs_for_paper/junction_reads_use_multimapping.csv  --gtf-filename /projects/ps-yeolab/genomes/hg19/gencode/v19/gencode.v19.annotation.gtf"
     ]
    }
   ],
   "source": [
    "!tail singlecell_pnms_outrigger_index_v0.2.6.sh*"
   ]
  },
  {
   "cell_type": "code",
   "execution_count": 8,
   "metadata": {
    "collapsed": true
   },
   "outputs": [],
   "source": [
    "commands = ['source activate outrigger_smart_restart',\n",
    "            'cd /home/obotvinnik/projects/singlecell_pnms/analysis',\n",
    "            'outrigger index --junction-reads-csv '\n",
    "            '/projects/ps-yeolab/obotvinnik/singlecell_pnms/csvs_for_paper/junction_reads_use_multimapping.csv '\n",
    "            '--output /home/obotvinnik/projects/singlecell_pnms/analysis/outrigger '\n",
    "            '--gtf-filename /projects/ps-yeolab/genomes/hg19/gencode/v19/gencode.v19.annotation.gtf --resume'\n",
    "           ]"
   ]
  },
  {
   "cell_type": "code",
   "execution_count": 9,
   "metadata": {
    "collapsed": false
   },
   "outputs": [
    {
     "name": "stdout",
     "output_type": "stream",
     "text": [
      "source activate outrigger_smart_restart\n",
      "cd /home/obotvinnik/projects/singlecell_pnms/analysis\n",
      "outrigger index --junction-reads-csv /projects/ps-yeolab/obotvinnik/singlecell_pnms/csvs_for_paper/junction_reads_use_multimapping.csv --output /home/obotvinnik/projects/singlecell_pnms/analysis/outrigger --gtf-filename /projects/ps-yeolab/genomes/hg19/gencode/v19/gencode.v19.annotation.gtf --resume\n"
     ]
    }
   ],
   "source": [
    "for x in commands:\n",
    "    print x"
   ]
  },
  {
   "cell_type": "code",
   "execution_count": 10,
   "metadata": {
    "collapsed": false
   },
   "outputs": [
    {
     "name": "stderr",
     "output_type": "stream",
     "text": [
      "Wrote commands to singlecell_pnms_outrigger_index_smart_restart.sh.\n",
      "Submitted script to queue home-yeo.\n",
      " Job ID: 6703038\n"
     ]
    },
    {
     "data": {
      "text/plain": [
       "<qtools.submitter.Submitter at 0x2b5c6c0e9f50>"
      ]
     },
     "execution_count": 10,
     "metadata": {},
     "output_type": "execute_result"
    }
   ],
   "source": [
    "import qtools\n",
    "\n",
    "job_name = 'singlecell_pnms_outrigger_index_smart_restart'\n",
    "qtools.Submitter(commands, job_name, ppn=16, walltime='100:00:00', queue='home-yeo')"
   ]
  },
  {
   "cell_type": "code",
   "execution_count": 3,
   "metadata": {
    "collapsed": false
   },
   "outputs": [
    {
     "name": "stdout",
     "output_type": "stream",
     "text": [
      "ls: cannot access tail: No such file or directory\r\n",
      "-rw-r--r-- 1 obotvinnik yeo-group  751 Oct  3 09:40 singlecell_pnms_outrigger_index_smart_restart.sh\r\n",
      "-rw------- 1 obotvinnik yeo-group 2.6K Oct  2 18:14 singlecell_pnms_outrigger_index_smart_restart.sh.err\r\n",
      "-rw------- 1 obotvinnik yeo-group 7.8K Oct  2 18:15 singlecell_pnms_outrigger_index_smart_restart.sh.out\r\n"
     ]
    }
   ],
   "source": [
    "ls -lha tail singlecell_pnms_outrigger_index_smart_restart*"
   ]
  },
  {
   "cell_type": "code",
   "execution_count": 5,
   "metadata": {
    "collapsed": false
   },
   "outputs": [
    {
     "name": "stdout",
     "output_type": "stream",
     "text": [
      "2016-10-01 22:28:50\t\t249690/356662 exons tested (70.0%)\r\n",
      "2016-10-01 22:35:05\t\t253257/356662 exons tested (71.0%)\r\n",
      "2016-10-01 22:39:55\t\t256824/356662 exons tested (72.0%)\r\n",
      "2016-10-01 22:45:40\t\t260391/356662 exons tested (73.0%)\r\n",
      "2016-10-01 22:53:32\t\t263958/356662 exons tested (74.0%)\r\n",
      "2016-10-01 22:59:07\t\t267525/356662 exons tested (75.0%)\r\n",
      "2016-10-01 23:05:47\t\t271092/356662 exons tested (76.0%)\r\n",
      "2016-10-01 23:10:59\t\t274659/356662 exons tested (77.0%)\r\n",
      "2016-10-01 23:16:28\t\t278226/356662 exons tested (78.0%)\r\n",
      "2016-10-01 23:22:35\t\t281793/356662 exons tested (79.0%)\r\n",
      "2016-10-01 23:28:43\t\t285360/356662 exons tested (80.0%)\r\n",
      "2016-10-01 23:35:11\t\t288927/356662 exons tested (81.0%)\r\n",
      "2016-10-01 23:39:45\t\t292494/356662 exons tested (82.0%)\r\n",
      "2016-10-01 23:44:36\t\t296061/356662 exons tested (83.0%)\r\n",
      "2016-10-01 23:50:05\t\t299628/356662 exons tested (84.0%)\r\n",
      "2016-10-01 23:59:31\t\t303195/356662 exons tested (85.0%)\r\n",
      "2016-10-02 00:05:23\t\t306762/356662 exons tested (86.0%)\r\n",
      "2016-10-02 00:13:53\t\t310329/356662 exons tested (87.0%)\r\n",
      "2016-10-02 00:20:25\t\t313896/356662 exons tested (88.0%)\r\n",
      "2016-10-02 00:26:09\t\t317463/356662 exons tested (89.0%)\r\n",
      "2016-10-02 00:31:19\t\t321030/356662 exons tested (90.0%)\r\n",
      "2016-10-02 00:36:27\t\t324597/356662 exons tested (91.0%)\r\n",
      "2016-10-02 00:41:08\t\t328164/356662 exons tested (92.0%)\r\n",
      "2016-10-02 00:45:15\t\t331731/356662 exons tested (93.0%)\r\n",
      "2016-10-02 00:51:58\t\t335298/356662 exons tested (94.0%)\r\n",
      "2016-10-02 00:56:33\t\t338865/356662 exons tested (95.0%)\r\n",
      "2016-10-02 01:01:33\t\t342432/356662 exons tested (96.0%)\r\n",
      "2016-10-02 01:46:18\t\t345999/356662 exons tested (97.0%)\r\n",
      "2016-10-02 02:08:47\t\t349566/356662 exons tested (98.0%)\r\n",
      "2016-10-02 02:14:05\t\t353133/356662 exons tested (99.0%)\r\n",
      "2016-10-02 13:14:54\t\tDone.\r\n",
      "2016-10-02 13:14:54\tFound 32545 SE events.\r\n",
      "2016-10-02 13:14:54\tMaking metadata file of SE events, annotating them with GTF attributes ...\r\n",
      "2016-10-02 13:14:57\tMaking \".bed\" files for exons in each event ...\r\n",
      "2016-10-02 13:14:59\t\tDone.\r\n",
      "2016-10-02 18:13:08\t\tDone.\r\n",
      "2016-10-02 18:13:08\tGetting exon and intron lengths of alternative events ...\r\n",
      "2016-10-02 18:13:16\t\tDone.\r\n",
      "2016-10-02 18:13:16\tCombining lengths and attributes into one big dataframe ...\r\n",
      "Nodes:        tscc-1-55\r\n"
     ]
    }
   ],
   "source": [
    "! tail -n 40 singlecell_pnms_outrigger_index_smart_restart.sh.out"
   ]
  },
  {
   "cell_type": "code",
   "execution_count": 4,
   "metadata": {
    "collapsed": false
   },
   "outputs": [
    {
     "name": "stdout",
     "output_type": "stream",
     "text": [
      "==> singlecell_pnms_outrigger_index_smart_restart.sh <==\r\n",
      "#!/bin/bash\r\n",
      "#PBS -N singlecell_pnms_outrigger_index_smart_restart\r\n",
      "#PBS -o singlecell_pnms_outrigger_index_smart_restart.sh.out\r\n",
      "#PBS -e singlecell_pnms_outrigger_index_smart_restart.sh.err\r\n",
      "#PBS -V\r\n",
      "#PBS -l walltime=100:00:00\r\n",
      "#PBS -l nodes=1:ppn=16\r\n",
      "#PBS -A yeo-group\r\n",
      "#PBS -q home-yeo\r\n",
      "\r\n",
      "# Go to the directory from which the script was called\r\n",
      "cd $PBS_O_WORKDIR\r\n",
      "source activate outrigger_smart_restart\r\n",
      "cd /home/obotvinnik/projects/singlecell_pnms/analysis\r\n",
      "outrigger index --junction-reads-csv /projects/ps-yeolab/obotvinnik/singlecell_pnms/csvs_for_paper/junction_reads_use_multimapping.csv --output /home/obotvinnik/projects/singlecell_pnms/analysis/outrigger --gtf-filename /projects/ps-yeolab/genomes/hg19/gencode/v19/gencode.v19.annotation.gtf --resume\r\n",
      "\r\n",
      "\r\n",
      "==> singlecell_pnms_outrigger_index_smart_restart.sh.err <==\r\n",
      "    self.make_events_by_traversing_graph(event_maker, db)\r\n",
      "  File \"/home/obotvinnik/anaconda/envs/outrigger_smart_restart/lib/python2.7/site-packages/outrigger/commandline.py\", line 536, in make_events_by_traversing_graph\r\n",
      "    self.get_event_attributes(db, events_of_type, splice_abbrev)\r\n",
      "  File \"/home/obotvinnik/anaconda/envs/outrigger_smart_restart/lib/python2.7/site-packages/outrigger/commandline.py\", line 569, in get_event_attributes\r\n",
      "    lengths, attributes = lengths.align(attributes, axis=0, join='outer')\r\n",
      "  File \"/home/obotvinnik/anaconda/envs/outrigger_smart_restart/lib/python2.7/site-packages/pandas/core/frame.py\", line 2736, in align\r\n",
      "    broadcast_axis=broadcast_axis)\r\n",
      "  File \"/home/obotvinnik/anaconda/envs/outrigger_smart_restart/lib/python2.7/site-packages/pandas/core/generic.py\", line 4178, in align\r\n",
      "    fill_axis=fill_axis)\r\n",
      "  File \"/home/obotvinnik/anaconda/envs/outrigger_smart_restart/lib/python2.7/site-packages/pandas/core/generic.py\", line 4219, in _align_frame\r\n",
      "    allow_dups=True)\r\n",
      "  File \"/home/obotvinnik/anaconda/envs/outrigger_smart_restart/lib/python2.7/site-packages/pandas/core/generic.py\", line 2341, in _reindex_with_indexers\r\n",
      "    copy=copy)\r\n",
      "  File \"/home/obotvinnik/anaconda/envs/outrigger_smart_restart/lib/python2.7/site-packages/pandas/core/internals.py\", line 3597, in reindex_indexer\r\n",
      "    for blk in self.blocks]\r\n",
      "  File \"/home/obotvinnik/anaconda/envs/outrigger_smart_restart/lib/python2.7/site-packages/pandas/core/internals.py\", line 996, in take_nd\r\n",
      "    allow_fill=True, fill_value=fill_value)\r\n",
      "  File \"/home/obotvinnik/anaconda/envs/outrigger_smart_restart/lib/python2.7/site-packages/pandas/core/algorithms.py\", line 930, in take_nd\r\n",
      "    out = np.empty(out_shape, dtype=dtype)\r\n",
      "MemoryError\r\n",
      "\r\n",
      "==> singlecell_pnms_outrigger_index_smart_restart.sh.out <==\r\n",
      "2016-10-02 00:31:19\t\t321030/356662 exons tested (90.0%)\r\n",
      "2016-10-02 00:36:27\t\t324597/356662 exons tested (91.0%)\r\n",
      "2016-10-02 00:41:08\t\t328164/356662 exons tested (92.0%)\r\n",
      "2016-10-02 00:45:15\t\t331731/356662 exons tested (93.0%)\r\n",
      "2016-10-02 00:51:58\t\t335298/356662 exons tested (94.0%)\r\n",
      "2016-10-02 00:56:33\t\t338865/356662 exons tested (95.0%)\r\n",
      "2016-10-02 01:01:33\t\t342432/356662 exons tested (96.0%)\r\n",
      "2016-10-02 01:46:18\t\t345999/356662 exons tested (97.0%)\r\n",
      "2016-10-02 02:08:47\t\t349566/356662 exons tested (98.0%)\r\n",
      "2016-10-02 02:14:05\t\t353133/356662 exons tested (99.0%)\r\n",
      "2016-10-02 13:14:54\t\tDone.\r\n",
      "2016-10-02 13:14:54\tFound 32545 SE events.\r\n",
      "2016-10-02 13:14:54\tMaking metadata file of SE events, annotating them with GTF attributes ...\r\n",
      "2016-10-02 13:14:57\tMaking \".bed\" files for exons in each event ...\r\n",
      "2016-10-02 13:14:59\t\tDone.\r\n",
      "2016-10-02 18:13:08\t\tDone.\r\n",
      "2016-10-02 18:13:08\tGetting exon and intron lengths of alternative events ...\r\n",
      "2016-10-02 18:13:16\t\tDone.\r\n",
      "2016-10-02 18:13:16\tCombining lengths and attributes into one big dataframe ...\r\n",
      "Nodes:        tscc-1-55\r\n"
     ]
    }
   ],
   "source": [
    "! tail -n 20 singlecell_pnms_outrigger_index_smart_restart*"
   ]
  },
  {
   "cell_type": "code",
   "execution_count": 4,
   "metadata": {
    "collapsed": false
   },
   "outputs": [
    {
     "name": "stdout",
     "output_type": "stream",
     "text": [
      "chrom,intron_start,intron_stop,strand,intron_motif,annotated,unique_junction_reads,multimap_junction_reads,max_overhang,intron_location,sample_id\r\n",
      "chr1,14830.0,14969.0,-,GT/AG,True,0.0,1.0,35.0,chr1:14830-14969:-,CVN_09\r\n",
      "chr1,15039.0,15795.0,-,GT/AG,True,0.0,1.0,49.0,chr1:15039-15795:-,CVN_09\r\n",
      "chr1,228777.0,237053.0,-,GT/AG,True,2.0,12.0,48.0,chr1:228777-237053:-,CVN_09\r\n",
      "chr1,320654.0,324287.0,+,GT/AG,True,0.0,1.0,28.0,chr1:320654-324287:+,CVN_09\r\n",
      "chr1,320939.0,321031.0,+,GT/AG,True,0.0,3.0,39.0,chr1:320939-321031:+,CVN_09\r\n",
      "chr1,324061.0,324287.0,+,GT/AG,True,0.0,1.0,28.0,chr1:324061-324287:+,CVN_09\r\n",
      "chr1,462653.0,470906.0,+,GT/AG,False,0.0,21.0,45.0,chr1:462653-470906:+,CVN_09\r\n",
      "chr1,566511.0,567534.0,-,GT/AG,False,0.0,24.0,43.0,chr1:566511-567534:-,CVN_09\r\n",
      "chr1,1309283.0,1309379.0,-,GT/AG,True,37.0,0.0,49.0,chr1:1309283-1309379:-,CVN_09\r\n"
     ]
    }
   ],
   "source": [
    "! head csvs_for_paper/sj_raw.csv"
   ]
  },
  {
   "cell_type": "code",
   "execution_count": 6,
   "metadata": {
    "collapsed": false
   },
   "outputs": [
    {
     "name": "stdout",
     "output_type": "stream",
     "text": [
      "head: error reading `/projects/ps-yeolab/obotvinnik/singlecell_pnms/outrigger_index/events/': Is a directory\r\n"
     ]
    }
   ],
   "source": [
    "! head  /projects/ps-yeolab/obotvinnik/singlecell_pnms/outrigger_index/events/"
   ]
  },
  {
   "cell_type": "code",
   "execution_count": 7,
   "metadata": {
    "collapsed": true
   },
   "outputs": [],
   "source": [
    "commands = []\n",
    "commands.append('cd /projects/ps-yeolab/obotvinnik/singlecell_pnms/')\n",
    "commands.append('source activate outrigger')\n",
    "commands.append('''outrigger psi --index /projects/ps-yeolab/obotvinnik/singlecell_pnms/outrigger_index/ \\\n",
    "    --splice-junction-csv  /projects/ps-yeolab/obotvinnik/singlecell_pnms/csvs_for_paper/sj_raw.csv --reads-col unique_junction_reads \\\n",
    "    --junction-location-col intron_location --debug''')"
   ]
  },
  {
   "cell_type": "code",
   "execution_count": 8,
   "metadata": {
    "collapsed": false
   },
   "outputs": [
    {
     "name": "stderr",
     "output_type": "stream",
     "text": [
      "job ID: 4272862\n"
     ]
    }
   ],
   "source": [
    "from qtools import Submitter\n",
    "\n",
    "sub = Submitter(commands, 'outrigger_singlecell', walltime='24:00:00')"
   ]
  },
  {
   "cell_type": "code",
   "execution_count": 9,
   "metadata": {
    "collapsed": false
   },
   "outputs": [
    {
     "name": "stdout",
     "output_type": "stream",
     "text": [
      "cat: outrigger_singlecell.sh.err: No such file or directory\r\n"
     ]
    }
   ],
   "source": [
    "cat outrigger_singlecell.sh.err"
   ]
  },
  {
   "cell_type": "code",
   "execution_count": 30,
   "metadata": {
    "collapsed": false
   },
   "outputs": [
    {
     "name": "stdout",
     "output_type": "stream",
     "text": [
      "['psi', '--index', '../outrigger_index/', '--splice-junction-csv', 'sj_raw.csv', '--reads-col', 'unique_junction_reads', '--junction-location-col', 'intron_location']\r\n",
      "Namespace(debug=False, func=<bound method CommandLine.psi of <outrigger.commandline.CommandLine object at 0x2b8192c4af90>>, index='../outrigger_index/', junction_location_col='intron_location', min_reads=None, reads_col='unique_junction_reads', sample_id_col='sample_id', sj_out_tab=None, splice_junction_csv='sj_raw.csv')\r\n",
      "2016-01-25 12:08:51\tReading splice junction reads from sj_raw.csv ...\r\n",
      "2016-01-25 12:09:06\t\tDone.\r\n",
      "2016-01-25 12:09:26\tReading MXE events from ../outrigger_index/events/mxe.csv ...\r\n",
      "2016-01-25 12:09:26\t\tDone.\r\n",
      "2016-01-25 12:09:26\tCalculating percent spliced-in (Psi) scores on MXE events ...\r\n",
      "2016-01-25 15:59:44\t\tDone.\r\n",
      "2016-01-25 15:59:44\tReading SE events from ../outrigger_index/events/se.csv ...\r\n",
      "2016-01-25 15:59:44\t\tDone.\r\n",
      "2016-01-25 15:59:44\tCalculating percent spliced-in (Psi) scores on SE events ...\r\n",
      "2016-01-26 02:49:16\t\tDone.\r\n",
      "2016-01-26 02:49:16\tConcatenating all calculated psi scores into one big matrix...\r\n",
      "2016-01-26 02:49:16\tWriting a samples x features matrix of Psi scores to ../outrigger_index/psi.csv ...\r\n",
      "2016-01-26 02:49:16\t\tDone.\r\n",
      "Nodes:        tscc-2-51\r\n"
     ]
    }
   ],
   "source": [
    "cat outrigger_singlecell.sh.out"
   ]
  },
  {
   "cell_type": "code",
   "execution_count": 35,
   "metadata": {
    "collapsed": false
   },
   "outputs": [
    {
     "name": "stdout",
     "output_type": "stream",
     "text": [
      "chrom,intron_start,intron_stop,strand,intron_motif,annotated,unique_junction_reads,multimap_junction_reads,max_overhang,intron_location,sample_id\r\n",
      "chr1,14830.0,14969.0,-,GT/AG,True,0.0,1.0,35.0,chr1:14830-14969:-,CVN_09\r\n",
      "chr1,15039.0,15795.0,-,GT/AG,True,0.0,1.0,49.0,chr1:15039-15795:-,CVN_09\r\n",
      "chr1,228777.0,237053.0,-,GT/AG,True,2.0,12.0,48.0,chr1:228777-237053:-,CVN_09\r\n",
      "chr1,320654.0,324287.0,+,GT/AG,True,0.0,1.0,28.0,chr1:320654-324287:+,CVN_09\r\n",
      "chr1,320939.0,321031.0,+,GT/AG,True,0.0,3.0,39.0,chr1:320939-321031:+,CVN_09\r\n",
      "chr1,324061.0,324287.0,+,GT/AG,True,0.0,1.0,28.0,chr1:324061-324287:+,CVN_09\r\n",
      "chr1,462653.0,470906.0,+,GT/AG,False,0.0,21.0,45.0,chr1:462653-470906:+,CVN_09\r\n",
      "chr1,566511.0,567534.0,-,GT/AG,False,0.0,24.0,43.0,chr1:566511-567534:-,CVN_09\r\n",
      "chr1,1309283.0,1309379.0,-,GT/AG,True,37.0,0.0,49.0,chr1:1309283-1309379:-,CVN_09\r\n"
     ]
    }
   ],
   "source": [
    "! head /projects/ps-yeolab/obotvinnik/singlecell_pnms/csvs_for_paper/sj_raw.csv"
   ]
  },
  {
   "cell_type": "code",
   "execution_count": 37,
   "metadata": {
    "collapsed": false
   },
   "outputs": [
    {
     "data": {
      "text/html": [
       "<div>\n",
       "<table border=\"1\" class=\"dataframe\">\n",
       "  <thead>\n",
       "    <tr style=\"text-align: right;\">\n",
       "      <th></th>\n",
       "      <th>chrom</th>\n",
       "      <th>intron_start</th>\n",
       "      <th>intron_stop</th>\n",
       "      <th>strand</th>\n",
       "      <th>intron_motif</th>\n",
       "      <th>annotated</th>\n",
       "      <th>unique_junction_reads</th>\n",
       "      <th>multimap_junction_reads</th>\n",
       "      <th>max_overhang</th>\n",
       "      <th>intron_location</th>\n",
       "      <th>sample_id</th>\n",
       "    </tr>\n",
       "  </thead>\n",
       "  <tbody>\n",
       "    <tr>\n",
       "      <th>0</th>\n",
       "      <td>chr1</td>\n",
       "      <td>14830</td>\n",
       "      <td>14969</td>\n",
       "      <td>-</td>\n",
       "      <td>GT/AG</td>\n",
       "      <td>True</td>\n",
       "      <td>0</td>\n",
       "      <td>1</td>\n",
       "      <td>35</td>\n",
       "      <td>chr1:14830-14969:-</td>\n",
       "      <td>CVN_09</td>\n",
       "    </tr>\n",
       "    <tr>\n",
       "      <th>1</th>\n",
       "      <td>chr1</td>\n",
       "      <td>15039</td>\n",
       "      <td>15795</td>\n",
       "      <td>-</td>\n",
       "      <td>GT/AG</td>\n",
       "      <td>True</td>\n",
       "      <td>0</td>\n",
       "      <td>1</td>\n",
       "      <td>49</td>\n",
       "      <td>chr1:15039-15795:-</td>\n",
       "      <td>CVN_09</td>\n",
       "    </tr>\n",
       "    <tr>\n",
       "      <th>2</th>\n",
       "      <td>chr1</td>\n",
       "      <td>228777</td>\n",
       "      <td>237053</td>\n",
       "      <td>-</td>\n",
       "      <td>GT/AG</td>\n",
       "      <td>True</td>\n",
       "      <td>2</td>\n",
       "      <td>12</td>\n",
       "      <td>48</td>\n",
       "      <td>chr1:228777-237053:-</td>\n",
       "      <td>CVN_09</td>\n",
       "    </tr>\n",
       "    <tr>\n",
       "      <th>3</th>\n",
       "      <td>chr1</td>\n",
       "      <td>320654</td>\n",
       "      <td>324287</td>\n",
       "      <td>+</td>\n",
       "      <td>GT/AG</td>\n",
       "      <td>True</td>\n",
       "      <td>0</td>\n",
       "      <td>1</td>\n",
       "      <td>28</td>\n",
       "      <td>chr1:320654-324287:+</td>\n",
       "      <td>CVN_09</td>\n",
       "    </tr>\n",
       "    <tr>\n",
       "      <th>4</th>\n",
       "      <td>chr1</td>\n",
       "      <td>320939</td>\n",
       "      <td>321031</td>\n",
       "      <td>+</td>\n",
       "      <td>GT/AG</td>\n",
       "      <td>True</td>\n",
       "      <td>0</td>\n",
       "      <td>3</td>\n",
       "      <td>39</td>\n",
       "      <td>chr1:320939-321031:+</td>\n",
       "      <td>CVN_09</td>\n",
       "    </tr>\n",
       "  </tbody>\n",
       "</table>\n",
       "</div>"
      ],
      "text/plain": [
       "  chrom  intron_start  intron_stop strand intron_motif annotated  \\\n",
       "0  chr1         14830        14969      -        GT/AG      True   \n",
       "1  chr1         15039        15795      -        GT/AG      True   \n",
       "2  chr1        228777       237053      -        GT/AG      True   \n",
       "3  chr1        320654       324287      +        GT/AG      True   \n",
       "4  chr1        320939       321031      +        GT/AG      True   \n",
       "\n",
       "   unique_junction_reads  multimap_junction_reads  max_overhang  \\\n",
       "0                      0                        1            35   \n",
       "1                      0                        1            49   \n",
       "2                      2                       12            48   \n",
       "3                      0                        1            28   \n",
       "4                      0                        3            39   \n",
       "\n",
       "        intron_location sample_id  \n",
       "0    chr1:14830-14969:-    CVN_09  \n",
       "1    chr1:15039-15795:-    CVN_09  \n",
       "2  chr1:228777-237053:-    CVN_09  \n",
       "3  chr1:320654-324287:+    CVN_09  \n",
       "4  chr1:320939-321031:+    CVN_09  "
      ]
     },
     "execution_count": 37,
     "metadata": {},
     "output_type": "execute_result"
    }
   ],
   "source": [
    "se_index = pd.read_csv('/projects/ps-yeolab/obotvinnik/singlecell_pnms/outrigger_index/events/se.csv', index_col=0)\n",
    "splice_junctions = pd.read_csv('/projects/ps-yeolab/obotvinnik/singlecell_pnms/csvs_for_paper/sj_raw.csv')\n",
    "splice_junctions.head()"
   ]
  },
  {
   "cell_type": "code",
   "execution_count": 39,
   "metadata": {
    "collapsed": false
   },
   "outputs": [],
   "source": [
    "import sys\n",
    "sys.path.append('/home/obotvinnik/anaconda/envs/outrigger/lib/python2.7/site-packages/outrigger/')"
   ]
  },
  {
   "cell_type": "code",
   "execution_count": 40,
   "metadata": {
    "collapsed": true
   },
   "outputs": [],
   "source": [
    "import outrigger"
   ]
  },
  {
   "cell_type": "code",
   "execution_count": 41,
   "metadata": {
    "collapsed": false
   },
   "outputs": [
    {
     "data": {
      "text/plain": [
       "'/home/obotvinnik/workspace-git/outrigger/outrigger/__init__.pyc'"
      ]
     },
     "execution_count": 41,
     "metadata": {},
     "output_type": "execute_result"
    }
   ],
   "source": [
    "outrigger.__file__"
   ]
  },
  {
   "cell_type": "code",
   "execution_count": 42,
   "metadata": {
    "collapsed": true
   },
   "outputs": [],
   "source": [
    "from outrigger.psi import calculate_psi"
   ]
  },
  {
   "cell_type": "code",
   "execution_count": 43,
   "metadata": {
    "collapsed": true
   },
   "outputs": [],
   "source": [
    "splice_junctions = splice_junctions.set_index(['intron_location', 'sample_id']).sort_index()"
   ]
  },
  {
   "cell_type": "code",
   "execution_count": 1,
   "metadata": {
    "collapsed": false
   },
   "outputs": [
    {
     "ename": "NameError",
     "evalue": "name 'splice_junctions' is not defined",
     "output_type": "error",
     "traceback": [
      "\u001b[1;31m---------------------------------------------------------------------------\u001b[0m",
      "\u001b[1;31mNameError\u001b[0m                                 Traceback (most recent call last)",
      "\u001b[1;32m<ipython-input-1-38839330d5bc>\u001b[0m in \u001b[0;36m<module>\u001b[1;34m()\u001b[0m\n\u001b[1;32m----> 1\u001b[1;33m \u001b[0msplice_junctions\u001b[0m\u001b[1;33m.\u001b[0m\u001b[0mhead\u001b[0m\u001b[1;33m(\u001b[0m\u001b[1;33m)\u001b[0m\u001b[1;33m\u001b[0m\u001b[0m\n\u001b[0m",
      "\u001b[1;31mNameError\u001b[0m: name 'splice_junctions' is not defined"
     ]
    }
   ],
   "source": [
    "splice_junctions.head()"
   ]
  },
  {
   "cell_type": "code",
   "execution_count": 44,
   "metadata": {
    "collapsed": true
   },
   "outputs": [],
   "source": [
    "from outrigger.psi import ISOFORM_JUNCTIONS"
   ]
  },
  {
   "cell_type": "code",
   "execution_count": 47,
   "metadata": {
    "collapsed": false
   },
   "outputs": [
    {
     "data": {
      "text/plain": [
       "{'isoform1_junctions': ['junction13'],\n",
       " 'isoform2_junctions': ['junction12', 'junction23']}"
      ]
     },
     "execution_count": 47,
     "metadata": {},
     "output_type": "execute_result"
    }
   ],
   "source": [
    "isoform_junctions = ISOFORM_JUNCTIONS['se']\n",
    "isoform_junctions"
   ]
  },
  {
   "cell_type": "code",
   "execution_count": 50,
   "metadata": {
    "collapsed": false
   },
   "outputs": [
    {
     "name": "stdout",
     "output_type": "stream",
     "text": [
      "0 junction13                                   chr10:100189400-100190327:-\n",
      "junction12                                   chr10:100189647-100190327:-\n",
      "junction23                                   chr10:100189400-100189547:-\n",
      "criteria_full                                      best,appris_principal\n",
      "event_id               exon:chr10:100190328-100190427:-@exon:chr10:10...\n",
      "criteria                                                            best\n",
      "criteria_additional                                     appris_principal\n",
      "Name: 0, dtype: object\n",
      "1 junction13                                   chr10:100190428-100193696:-\n",
      "junction12                                   chr10:100191049-100193696:-\n",
      "junction23                                   chr10:100190428-100190887:-\n",
      "criteria_full                                                   only one\n",
      "event_id               exon:chr10:100193697-100193848:-@exon:chr10:10...\n",
      "criteria                                                        only one\n",
      "criteria_additional                                                  NaN\n",
      "Name: 1, dtype: object\n",
      "2 junction13                                   chr10:100193849-100195391:-\n",
      "junction12                                   chr10:100195172-100195391:-\n",
      "junction23                                   chr10:100193849-100195028:-\n",
      "criteria_full                                      best,appris_principal\n",
      "event_id               exon:chr10:100195392-100195529:-@exon:chr10:10...\n",
      "criteria                                                            best\n",
      "criteria_additional                                     appris_principal\n",
      "Name: 2, dtype: object\n",
      "3 junction13                                   chr10:101163392-101165512:-\n",
      "junction12                                   chr10:101163632-101165512:-\n",
      "junction23                                   chr10:101163392-101163480:-\n",
      "criteria_full                                                   only one\n",
      "event_id               exon:chr10:101165513-101165617:-@exon:chr10:10...\n",
      "criteria                                                        only one\n",
      "criteria_additional                                                  NaN\n",
      "Name: 3, dtype: object\n"
     ]
    }
   ],
   "source": [
    "# for z, (i, row) in zip(range(4), se_index.iterrows()):\n",
    "#     print i, row"
   ]
  },
  {
   "cell_type": "code",
   "execution_count": 51,
   "metadata": {
    "collapsed": false
   },
   "outputs": [
    {
     "data": {
      "text/plain": [
       "chrom                       object\n",
       "intron_start               float64\n",
       "intron_stop                float64\n",
       "strand                      object\n",
       "intron_motif                object\n",
       "annotated                     bool\n",
       "unique_junction_reads      float64\n",
       "multimap_junction_reads    float64\n",
       "max_overhang               float64\n",
       "dtype: object"
      ]
     },
     "execution_count": 51,
     "metadata": {},
     "output_type": "execute_result"
    }
   ],
   "source": [
    "splice_junctions.dtypes"
   ]
  },
  {
   "cell_type": "code",
   "execution_count": null,
   "metadata": {
    "collapsed": false
   },
   "outputs": [
    {
     "ename": "KeyboardInterrupt",
     "evalue": "",
     "output_type": "error",
     "traceback": [
      "\u001b[1;31m---------------------------------------------------------------------------\u001b[0m",
      "\u001b[1;31mKeyboardInterrupt\u001b[0m                         Traceback (most recent call last)",
      "\u001b[1;32m<ipython-input-52-e8014f578b0d>\u001b[0m in \u001b[0;36m<module>\u001b[1;34m()\u001b[0m\n\u001b[1;32m----> 1\u001b[1;33m \u001b[0mcalculate_psi\u001b[0m\u001b[1;33m(\u001b[0m\u001b[0mse_index\u001b[0m\u001b[1;33m,\u001b[0m \u001b[0msplice_junctions\u001b[0m\u001b[1;33m,\u001b[0m \u001b[0mreads_col\u001b[0m\u001b[1;33m=\u001b[0m\u001b[1;34m'unique_junction_reads'\u001b[0m\u001b[1;33m,\u001b[0m \u001b[0mdebug\u001b[0m\u001b[1;33m=\u001b[0m\u001b[0mTrue\u001b[0m\u001b[1;33m,\u001b[0m \u001b[1;33m**\u001b[0m\u001b[0misoform_junctions\u001b[0m\u001b[1;33m)\u001b[0m\u001b[1;33m\u001b[0m\u001b[0m\n\u001b[0m",
      "\u001b[1;32m/home/obotvinnik/workspace-git/outrigger/outrigger/psi.py\u001b[0m in \u001b[0;36mcalculate_psi\u001b[1;34m(event_annotation, splice_junction_reads, isoform1_junctions, isoform2_junctions, reads_col, min_reads, event_col, debug)\u001b[0m\n\u001b[0;32m    120\u001b[0m         \u001b[0mlog\u001b[0m\u001b[1;33m.\u001b[0m\u001b[0mdebug\u001b[0m\u001b[1;33m(\u001b[0m\u001b[1;34m'--- isoform2 ---\\n%s'\u001b[0m\u001b[1;33m,\u001b[0m \u001b[0mrepr\u001b[0m\u001b[1;33m(\u001b[0m\u001b[0misoform2\u001b[0m\u001b[1;33m)\u001b[0m\u001b[1;33m)\u001b[0m\u001b[1;33m\u001b[0m\u001b[0m\n\u001b[0;32m    121\u001b[0m \u001b[1;33m\u001b[0m\u001b[0m\n\u001b[1;32m--> 122\u001b[1;33m         \u001b[0misoform1\u001b[0m \u001b[1;33m=\u001b[0m \u001b[0mfilter_and_sum\u001b[0m\u001b[1;33m(\u001b[0m\u001b[0misoform1\u001b[0m\u001b[1;33m,\u001b[0m \u001b[0mmin_reads\u001b[0m\u001b[1;33m,\u001b[0m \u001b[0misoform1_junctions\u001b[0m\u001b[1;33m)\u001b[0m\u001b[1;33m\u001b[0m\u001b[0m\n\u001b[0m\u001b[0;32m    123\u001b[0m         \u001b[0misoform2\u001b[0m \u001b[1;33m=\u001b[0m \u001b[0mfilter_and_sum\u001b[0m\u001b[1;33m(\u001b[0m\u001b[0misoform2\u001b[0m\u001b[1;33m,\u001b[0m \u001b[0mmin_reads\u001b[0m\u001b[1;33m,\u001b[0m \u001b[0misoform2_junctions\u001b[0m\u001b[1;33m)\u001b[0m\u001b[1;33m\u001b[0m\u001b[0m\n\u001b[0;32m    124\u001b[0m \u001b[1;33m\u001b[0m\u001b[0m\n",
      "\u001b[1;32m/home/obotvinnik/workspace-git/outrigger/outrigger/psi.py\u001b[0m in \u001b[0;36mfilter_and_sum\u001b[1;34m(reads, min_reads, junctions)\u001b[0m\n\u001b[0;32m     28\u001b[0m \u001b[1;33m\u001b[0m\u001b[0m\n\u001b[0;32m     29\u001b[0m     \u001b[1;31m# Remove all samples that don't have enough reads in all required junctions\u001b[0m\u001b[1;33m\u001b[0m\u001b[1;33m\u001b[0m\u001b[0m\n\u001b[1;32m---> 30\u001b[1;33m     reads = reads.groupby(level=1).filter(\n\u001b[0m\u001b[0;32m     31\u001b[0m         lambda x: all(x >= min_reads) and len(x) == len(junctions))\n\u001b[0;32m     32\u001b[0m \u001b[1;33m\u001b[0m\u001b[0m\n",
      "\u001b[1;32m/home/obotvinnik/anaconda/lib/python2.7/site-packages/pandas/core/generic.pyc\u001b[0m in \u001b[0;36mgroupby\u001b[1;34m(self, by, axis, level, as_index, sort, group_keys, squeeze)\u001b[0m\n\u001b[0;32m   3434\u001b[0m         \u001b[0maxis\u001b[0m \u001b[1;33m=\u001b[0m \u001b[0mself\u001b[0m\u001b[1;33m.\u001b[0m\u001b[0m_get_axis_number\u001b[0m\u001b[1;33m(\u001b[0m\u001b[0maxis\u001b[0m\u001b[1;33m)\u001b[0m\u001b[1;33m\u001b[0m\u001b[0m\n\u001b[0;32m   3435\u001b[0m         return groupby(self, by=by, axis=axis, level=level, as_index=as_index,\n\u001b[1;32m-> 3436\u001b[1;33m                        sort=sort, group_keys=group_keys, squeeze=squeeze)\n\u001b[0m\u001b[0;32m   3437\u001b[0m \u001b[1;33m\u001b[0m\u001b[0m\n\u001b[0;32m   3438\u001b[0m     \u001b[1;32mdef\u001b[0m \u001b[0masfreq\u001b[0m\u001b[1;33m(\u001b[0m\u001b[0mself\u001b[0m\u001b[1;33m,\u001b[0m \u001b[0mfreq\u001b[0m\u001b[1;33m,\u001b[0m \u001b[0mmethod\u001b[0m\u001b[1;33m=\u001b[0m\u001b[0mNone\u001b[0m\u001b[1;33m,\u001b[0m \u001b[0mhow\u001b[0m\u001b[1;33m=\u001b[0m\u001b[0mNone\u001b[0m\u001b[1;33m,\u001b[0m \u001b[0mnormalize\u001b[0m\u001b[1;33m=\u001b[0m\u001b[0mFalse\u001b[0m\u001b[1;33m)\u001b[0m\u001b[1;33m:\u001b[0m\u001b[1;33m\u001b[0m\u001b[0m\n",
      "\u001b[1;32m/home/obotvinnik/anaconda/lib/python2.7/site-packages/pandas/core/groupby.pyc\u001b[0m in \u001b[0;36mgroupby\u001b[1;34m(obj, by, **kwds)\u001b[0m\n\u001b[0;32m   1309\u001b[0m         \u001b[1;32mraise\u001b[0m \u001b[0mTypeError\u001b[0m\u001b[1;33m(\u001b[0m\u001b[1;34m'invalid type: %s'\u001b[0m \u001b[1;33m%\u001b[0m \u001b[0mtype\u001b[0m\u001b[1;33m(\u001b[0m\u001b[0mobj\u001b[0m\u001b[1;33m)\u001b[0m\u001b[1;33m)\u001b[0m\u001b[1;33m\u001b[0m\u001b[0m\n\u001b[0;32m   1310\u001b[0m \u001b[1;33m\u001b[0m\u001b[0m\n\u001b[1;32m-> 1311\u001b[1;33m     \u001b[1;32mreturn\u001b[0m \u001b[0mklass\u001b[0m\u001b[1;33m(\u001b[0m\u001b[0mobj\u001b[0m\u001b[1;33m,\u001b[0m \u001b[0mby\u001b[0m\u001b[1;33m,\u001b[0m \u001b[1;33m**\u001b[0m\u001b[0mkwds\u001b[0m\u001b[1;33m)\u001b[0m\u001b[1;33m\u001b[0m\u001b[0m\n\u001b[0m\u001b[0;32m   1312\u001b[0m \u001b[1;33m\u001b[0m\u001b[0m\n\u001b[0;32m   1313\u001b[0m \u001b[1;33m\u001b[0m\u001b[0m\n",
      "\u001b[1;32m/home/obotvinnik/anaconda/lib/python2.7/site-packages/pandas/core/groupby.pyc\u001b[0m in \u001b[0;36m__init__\u001b[1;34m(self, obj, keys, axis, level, grouper, exclusions, selection, as_index, sort, group_keys, squeeze)\u001b[0m\n\u001b[0;32m    416\u001b[0m         \u001b[1;32mif\u001b[0m \u001b[0mgrouper\u001b[0m \u001b[1;32mis\u001b[0m \u001b[0mNone\u001b[0m\u001b[1;33m:\u001b[0m\u001b[1;33m\u001b[0m\u001b[0m\n\u001b[0;32m    417\u001b[0m             grouper, exclusions, obj = _get_grouper(obj, keys, axis=axis,\n\u001b[1;32m--> 418\u001b[1;33m                                                     level=level, sort=sort)\n\u001b[0m\u001b[0;32m    419\u001b[0m \u001b[1;33m\u001b[0m\u001b[0m\n\u001b[0;32m    420\u001b[0m         \u001b[0mself\u001b[0m\u001b[1;33m.\u001b[0m\u001b[0mobj\u001b[0m \u001b[1;33m=\u001b[0m \u001b[0mobj\u001b[0m\u001b[1;33m\u001b[0m\u001b[0m\n",
      "\u001b[1;32m/home/obotvinnik/anaconda/lib/python2.7/site-packages/pandas/core/groupby.pyc\u001b[0m in \u001b[0;36m_get_grouper\u001b[1;34m(obj, key, axis, level, sort)\u001b[0m\n\u001b[0;32m   2261\u001b[0m             \u001b[0mexclusions\u001b[0m\u001b[1;33m.\u001b[0m\u001b[0mappend\u001b[0m\u001b[1;33m(\u001b[0m\u001b[0mname\u001b[0m\u001b[1;33m)\u001b[0m\u001b[1;33m\u001b[0m\u001b[0m\n\u001b[0;32m   2262\u001b[0m \u001b[1;33m\u001b[0m\u001b[0m\n\u001b[1;32m-> 2263\u001b[1;33m         \u001b[1;32melif\u001b[0m \u001b[0mis_in_axis\u001b[0m\u001b[1;33m(\u001b[0m\u001b[0mgpr\u001b[0m\u001b[1;33m)\u001b[0m\u001b[1;33m:\u001b[0m  \u001b[1;31m# df.groupby('name')\u001b[0m\u001b[1;33m\u001b[0m\u001b[0m\n\u001b[0m\u001b[0;32m   2264\u001b[0m             \u001b[0min_axis\u001b[0m\u001b[1;33m,\u001b[0m \u001b[0mname\u001b[0m\u001b[1;33m,\u001b[0m \u001b[0mgpr\u001b[0m \u001b[1;33m=\u001b[0m \u001b[0mTrue\u001b[0m\u001b[1;33m,\u001b[0m \u001b[0mgpr\u001b[0m\u001b[1;33m,\u001b[0m \u001b[0mobj\u001b[0m\u001b[1;33m[\u001b[0m\u001b[0mgpr\u001b[0m\u001b[1;33m]\u001b[0m\u001b[1;33m\u001b[0m\u001b[0m\n\u001b[0;32m   2265\u001b[0m             \u001b[0mexclusions\u001b[0m\u001b[1;33m.\u001b[0m\u001b[0mappend\u001b[0m\u001b[1;33m(\u001b[0m\u001b[0mname\u001b[0m\u001b[1;33m)\u001b[0m\u001b[1;33m\u001b[0m\u001b[0m\n",
      "\u001b[1;32m/home/obotvinnik/anaconda/lib/python2.7/site-packages/pandas/core/groupby.pyc\u001b[0m in \u001b[0;36mis_in_axis\u001b[1;34m(key)\u001b[0m\n\u001b[0;32m   2242\u001b[0m         \u001b[1;32mif\u001b[0m \u001b[1;32mnot\u001b[0m \u001b[0m_is_label_like\u001b[0m\u001b[1;33m(\u001b[0m\u001b[0mkey\u001b[0m\u001b[1;33m)\u001b[0m\u001b[1;33m:\u001b[0m\u001b[1;33m\u001b[0m\u001b[0m\n\u001b[0;32m   2243\u001b[0m             \u001b[1;32mtry\u001b[0m\u001b[1;33m:\u001b[0m\u001b[1;33m\u001b[0m\u001b[0m\n\u001b[1;32m-> 2244\u001b[1;33m                 \u001b[0mobj\u001b[0m\u001b[1;33m.\u001b[0m\u001b[0m_data\u001b[0m\u001b[1;33m.\u001b[0m\u001b[0mitems\u001b[0m\u001b[1;33m.\u001b[0m\u001b[0mget_loc\u001b[0m\u001b[1;33m(\u001b[0m\u001b[0mkey\u001b[0m\u001b[1;33m)\u001b[0m\u001b[1;33m\u001b[0m\u001b[0m\n\u001b[0m\u001b[0;32m   2245\u001b[0m             \u001b[1;32mexcept\u001b[0m \u001b[0mException\u001b[0m\u001b[1;33m:\u001b[0m\u001b[1;33m\u001b[0m\u001b[0m\n\u001b[0;32m   2246\u001b[0m                 \u001b[1;32mreturn\u001b[0m \u001b[0mFalse\u001b[0m\u001b[1;33m\u001b[0m\u001b[0m\n",
      "\u001b[1;31mKeyboardInterrupt\u001b[0m: "
     ]
    },
    {
     "name": "stderr",
     "output_type": "stream",
     "text": [
      "ERROR:tornado.general:Uncaught exception, closing connection.\n",
      "Traceback (most recent call last):\n",
      "  File \"/home/obotvinnik/anaconda/lib/python2.7/site-packages/zmq/eventloop/zmqstream.py\", line 407, in _run_callback\n",
      "    callback(*args, **kwargs)\n",
      "  File \"/home/obotvinnik/anaconda/lib/python2.7/site-packages/tornado/stack_context.py\", line 275, in null_wrapper\n",
      "    return fn(*args, **kwargs)\n",
      "  File \"/home/obotvinnik/anaconda/lib/python2.7/site-packages/ipykernel/kernelbase.py\", line 252, in dispatcher\n",
      "    return self.dispatch_shell(stream, msg)\n",
      "  File \"/home/obotvinnik/anaconda/lib/python2.7/site-packages/ipykernel/kernelbase.py\", line 213, in dispatch_shell\n",
      "    handler(stream, idents, msg)\n",
      "  File \"/home/obotvinnik/anaconda/lib/python2.7/site-packages/ipykernel/kernelbase.py\", line 388, in execute_request\n",
      "    self._abort_queues()\n",
      "  File \"/home/obotvinnik/anaconda/lib/python2.7/site-packages/ipykernel/kernelbase.py\", line 588, in _abort_queues\n",
      "    self._abort_queue(stream)\n",
      "  File \"/home/obotvinnik/anaconda/lib/python2.7/site-packages/ipykernel/kernelbase.py\", line 611, in _abort_queue\n",
      "    poller.poll(50)\n",
      "  File \"/home/obotvinnik/anaconda/lib/python2.7/site-packages/zmq/sugar/poll.py\", line 101, in poll\n",
      "    return zmq_poll(self.sockets, timeout=timeout)\n",
      "  File \"zmq/backend/cython/_poll.pyx\", line 115, in zmq.backend.cython._poll.zmq_poll (zmq/backend/cython/_poll.c:1625)\n",
      "  File \"zmq/backend/cython/checkrc.pxd\", line 12, in zmq.backend.cython.checkrc._check_rc (zmq/backend/cython/_poll.c:1958)\n",
      "    PyErr_CheckSignals()\n",
      "KeyboardInterrupt\n",
      "ERROR:tornado.general:Uncaught exception, closing connection.\n",
      "Traceback (most recent call last):\n",
      "  File \"/home/obotvinnik/anaconda/lib/python2.7/site-packages/zmq/eventloop/zmqstream.py\", line 433, in _handle_events\n",
      "    self._handle_recv()\n",
      "  File \"/home/obotvinnik/anaconda/lib/python2.7/site-packages/zmq/eventloop/zmqstream.py\", line 465, in _handle_recv\n",
      "    self._run_callback(callback, msg)\n",
      "  File \"/home/obotvinnik/anaconda/lib/python2.7/site-packages/zmq/eventloop/zmqstream.py\", line 407, in _run_callback\n",
      "    callback(*args, **kwargs)\n",
      "  File \"/home/obotvinnik/anaconda/lib/python2.7/site-packages/tornado/stack_context.py\", line 275, in null_wrapper\n",
      "    return fn(*args, **kwargs)\n",
      "  File \"/home/obotvinnik/anaconda/lib/python2.7/site-packages/ipykernel/kernelbase.py\", line 252, in dispatcher\n",
      "    return self.dispatch_shell(stream, msg)\n",
      "  File \"/home/obotvinnik/anaconda/lib/python2.7/site-packages/ipykernel/kernelbase.py\", line 213, in dispatch_shell\n",
      "    handler(stream, idents, msg)\n",
      "  File \"/home/obotvinnik/anaconda/lib/python2.7/site-packages/ipykernel/kernelbase.py\", line 388, in execute_request\n",
      "    self._abort_queues()\n",
      "  File \"/home/obotvinnik/anaconda/lib/python2.7/site-packages/ipykernel/kernelbase.py\", line 588, in _abort_queues\n",
      "    self._abort_queue(stream)\n",
      "  File \"/home/obotvinnik/anaconda/lib/python2.7/site-packages/ipykernel/kernelbase.py\", line 611, in _abort_queue\n",
      "    poller.poll(50)\n",
      "  File \"/home/obotvinnik/anaconda/lib/python2.7/site-packages/zmq/sugar/poll.py\", line 101, in poll\n",
      "    return zmq_poll(self.sockets, timeout=timeout)\n",
      "  File \"zmq/backend/cython/_poll.pyx\", line 115, in zmq.backend.cython._poll.zmq_poll (zmq/backend/cython/_poll.c:1625)\n",
      "  File \"zmq/backend/cython/checkrc.pxd\", line 12, in zmq.backend.cython.checkrc._check_rc (zmq/backend/cython/_poll.c:1958)\n",
      "    PyErr_CheckSignals()\n",
      "KeyboardInterrupt\n"
     ]
    }
   ],
   "source": [
    "calculate_psi(se_index, splice_junctions, reads_col='unique_junction_reads', debug=True, **isoform_junctions)"
   ]
  },
  {
   "cell_type": "code",
   "execution_count": null,
   "metadata": {
    "collapsed": true
   },
   "outputs": [],
   "source": []
  }
 ],
 "metadata": {
  "kernelspec": {
   "display_name": "Python 2",
   "language": "python",
   "name": "python2"
  },
  "language_info": {
   "codemirror_mode": {
    "name": "ipython",
    "version": 2
   },
   "file_extension": ".py",
   "mimetype": "text/x-python",
   "name": "python",
   "nbconvert_exporter": "python",
   "pygments_lexer": "ipython2",
   "version": "2.7.11"
  }
 },
 "nbformat": 4,
 "nbformat_minor": 0
}
