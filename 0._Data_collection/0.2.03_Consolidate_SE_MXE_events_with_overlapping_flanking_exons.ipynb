{
 "cells": [
  {
   "cell_type": "code",
   "execution_count": 1,
   "metadata": {
    "collapsed": false
   },
   "outputs": [
    {
     "name": "stderr",
     "output_type": "stream",
     "text": [
      "/home/obotvinnik/anaconda/lib/python2.7/site-packages/matplotlib/__init__.py:784: UserWarning: Found matplotlib configuration in ~/.matplotlib/. To conform with the XDG base directory standard, this configuration location has been deprecated on Linux, and the new location is now /home/obotvinnik/.config/matplotlib/. Please move your configuration there to ensure that matplotlib will continue to find it in the future.\n",
      "  _get_xdg_config_dir())\n"
     ]
    },
    {
     "data": {
      "text/html": [
       "<div>\n",
       "<table border=\"1\" class=\"dataframe\">\n",
       "  <thead>\n",
       "    <tr style=\"text-align: right;\">\n",
       "      <th></th>\n",
       "      <th>exon1</th>\n",
       "      <th>exon2</th>\n",
       "      <th>exon3</th>\n",
       "      <th>junction12</th>\n",
       "      <th>junction23</th>\n",
       "      <th>junction13</th>\n",
       "      <th>event_id</th>\n",
       "      <th>isoform1_transcripts</th>\n",
       "      <th>isoform2_transcripts</th>\n",
       "    </tr>\n",
       "  </thead>\n",
       "  <tbody>\n",
       "    <tr>\n",
       "      <th>0</th>\n",
       "      <td>exon:chr10:51732523-51732902:+</td>\n",
       "      <td>exon:chr10:51740949-51741041:+</td>\n",
       "      <td>exon:chr10:51751436-51751504:+</td>\n",
       "      <td>chr10:51732903-51740948:+</td>\n",
       "      <td>chr10:51741042-51751435:+</td>\n",
       "      <td>chr10:51732903-51751435:+</td>\n",
       "      <td>exon:chr10:51732523-51732902:+@exon:chr10:5174...</td>\n",
       "      <td>[]</td>\n",
       "      <td>[]</td>\n",
       "    </tr>\n",
       "    <tr>\n",
       "      <th>1</th>\n",
       "      <td>exon:chr1:32669480-32669646:+</td>\n",
       "      <td>exon:chr1:32669787-32669980:+</td>\n",
       "      <td>exon:chr1:32670199-32670988:+</td>\n",
       "      <td>chr1:32669647-32669786:+</td>\n",
       "      <td>chr1:32669981-32670198:+</td>\n",
       "      <td>chr1:32669647-32670198:+</td>\n",
       "      <td>exon:chr1:32669480-32669646:+@exon:chr1:326697...</td>\n",
       "      <td>[]</td>\n",
       "      <td>['ENST00000421922.2']</td>\n",
       "    </tr>\n",
       "    <tr>\n",
       "      <th>2</th>\n",
       "      <td>exon:chr11:18425241-18425358:+</td>\n",
       "      <td>exon:chr11:18426996-18427119:+</td>\n",
       "      <td>exon:chr11:18428664-18429394:+</td>\n",
       "      <td>chr11:18425359-18426995:+</td>\n",
       "      <td>chr11:18427120-18428663:+</td>\n",
       "      <td>chr11:18425359-18428663:+</td>\n",
       "      <td>exon:chr11:18425241-18425358:+@exon:chr11:1842...</td>\n",
       "      <td>[]</td>\n",
       "      <td>['ENST00000379412.5']</td>\n",
       "    </tr>\n",
       "    <tr>\n",
       "      <th>3</th>\n",
       "      <td>exon:chr10:99213311-99213420:+</td>\n",
       "      <td>exon:chr10:99213556-99213603:+</td>\n",
       "      <td>exon:chr10:99214471-99214556:+</td>\n",
       "      <td>chr10:99213421-99213555:+</td>\n",
       "      <td>chr10:99213604-99214470:+</td>\n",
       "      <td>chr10:99213421-99214470:+</td>\n",
       "      <td>exon:chr10:99213311-99213420:+@exon:chr10:9921...</td>\n",
       "      <td>['ENST00000487315.1']</td>\n",
       "      <td>[]</td>\n",
       "    </tr>\n",
       "    <tr>\n",
       "      <th>4</th>\n",
       "      <td>exon:chr1:150464466-150464965:+</td>\n",
       "      <td>exon:chr1:150469286-150469384:+</td>\n",
       "      <td>exon:chr1:150470006-150470073:+</td>\n",
       "      <td>chr1:150464966-150469285:+</td>\n",
       "      <td>chr1:150469385-150470005:+</td>\n",
       "      <td>chr1:150464966-150470005:+</td>\n",
       "      <td>exon:chr1:150464466-150464965:+@exon:chr1:1504...</td>\n",
       "      <td>['ENST00000460794.1']</td>\n",
       "      <td>[]</td>\n",
       "    </tr>\n",
       "  </tbody>\n",
       "</table>\n",
       "</div>"
      ],
      "text/plain": [
       "                             exon1                            exon2  \\\n",
       "0   exon:chr10:51732523-51732902:+   exon:chr10:51740949-51741041:+   \n",
       "1    exon:chr1:32669480-32669646:+    exon:chr1:32669787-32669980:+   \n",
       "2   exon:chr11:18425241-18425358:+   exon:chr11:18426996-18427119:+   \n",
       "3   exon:chr10:99213311-99213420:+   exon:chr10:99213556-99213603:+   \n",
       "4  exon:chr1:150464466-150464965:+  exon:chr1:150469286-150469384:+   \n",
       "\n",
       "                             exon3                  junction12  \\\n",
       "0   exon:chr10:51751436-51751504:+   chr10:51732903-51740948:+   \n",
       "1    exon:chr1:32670199-32670988:+    chr1:32669647-32669786:+   \n",
       "2   exon:chr11:18428664-18429394:+   chr11:18425359-18426995:+   \n",
       "3   exon:chr10:99214471-99214556:+   chr10:99213421-99213555:+   \n",
       "4  exon:chr1:150470006-150470073:+  chr1:150464966-150469285:+   \n",
       "\n",
       "                   junction23                  junction13  \\\n",
       "0   chr10:51741042-51751435:+   chr10:51732903-51751435:+   \n",
       "1    chr1:32669981-32670198:+    chr1:32669647-32670198:+   \n",
       "2   chr11:18427120-18428663:+   chr11:18425359-18428663:+   \n",
       "3   chr10:99213604-99214470:+   chr10:99213421-99214470:+   \n",
       "4  chr1:150469385-150470005:+  chr1:150464966-150470005:+   \n",
       "\n",
       "                                            event_id   isoform1_transcripts  \\\n",
       "0  exon:chr10:51732523-51732902:+@exon:chr10:5174...                     []   \n",
       "1  exon:chr1:32669480-32669646:+@exon:chr1:326697...                     []   \n",
       "2  exon:chr11:18425241-18425358:+@exon:chr11:1842...                     []   \n",
       "3  exon:chr10:99213311-99213420:+@exon:chr10:9921...  ['ENST00000487315.1']   \n",
       "4  exon:chr1:150464466-150464965:+@exon:chr1:1504...  ['ENST00000460794.1']   \n",
       "\n",
       "    isoform2_transcripts  \n",
       "0                     []  \n",
       "1  ['ENST00000421922.2']  \n",
       "2  ['ENST00000379412.5']  \n",
       "3                     []  \n",
       "4                     []  "
      ]
     },
     "execution_count": 1,
     "metadata": {},
     "output_type": "execute_result"
    }
   ],
   "source": [
    "\n",
    "import pandas as pd\n",
    "import gffutils\n",
    "import pybedtools\n",
    "import re\n",
    "import numpy as np\n",
    "\n",
    "v19db_filename = '/projects/ps-yeolab/genomes/hg19/gencode/v19/gencode.v19.annotation.gtf.db'\n",
    "v19db = gffutils.FeatureDB(v19db_filename)\n",
    "\n",
    "folder = '/home/obotvinnik/projects/singlecell_pnms/analysis/csvs_for_paper'\n",
    "se_events = pd.read_csv('{}/se_events_with_stressed.csv'.format(folder))\n",
    "se_events.head()"
   ]
  },
  {
   "cell_type": "code",
   "execution_count": 2,
   "metadata": {
    "collapsed": false
   },
   "outputs": [
    {
     "data": {
      "text/plain": [
       "(101735, 9)"
      ]
     },
     "execution_count": 2,
     "metadata": {},
     "output_type": "execute_result"
    }
   ],
   "source": [
    "se_events.shape"
   ]
  },
  {
   "cell_type": "code",
   "execution_count": 3,
   "metadata": {
    "collapsed": false
   },
   "outputs": [
    {
     "data": {
      "text/plain": [
       "(101735, 9)"
      ]
     },
     "execution_count": 3,
     "metadata": {},
     "output_type": "execute_result"
    }
   ],
   "source": [
    "se_events = se_events.loc[~se_events['junction12'].str.startswith('exon')]\n",
    "se_events.shape"
   ]
  },
  {
   "cell_type": "markdown",
   "metadata": {},
   "source": [
    "Added this line before I fixed the bug in outrigger to only iterate over exons"
   ]
  },
  {
   "cell_type": "code",
   "execution_count": 4,
   "metadata": {
    "collapsed": true
   },
   "outputs": [],
   "source": [
    "se_events.to_csv('{}/se_events_with_stressed.csv'.format(folder), index=False)"
   ]
  },
  {
   "cell_type": "code",
   "execution_count": 5,
   "metadata": {
    "collapsed": false
   },
   "outputs": [
    {
     "data": {
      "text/html": [
       "<div>\n",
       "<table border=\"1\" class=\"dataframe\">\n",
       "  <thead>\n",
       "    <tr style=\"text-align: right;\">\n",
       "      <th></th>\n",
       "      <th>exon1</th>\n",
       "      <th>exon2</th>\n",
       "      <th>exon3</th>\n",
       "      <th>exon4</th>\n",
       "      <th>junction13</th>\n",
       "      <th>junction34</th>\n",
       "      <th>junction12</th>\n",
       "      <th>junction24</th>\n",
       "      <th>event_id</th>\n",
       "    </tr>\n",
       "  </thead>\n",
       "  <tbody>\n",
       "    <tr>\n",
       "      <th>0</th>\n",
       "      <td>exon:chr8:144663224-144663324:-</td>\n",
       "      <td>exon:chr8:144668389-144668460:-</td>\n",
       "      <td>exon:chr8:144663456-144663498:-</td>\n",
       "      <td>exon:chr8:144668899-144669019:-</td>\n",
       "      <td>chr8:144663325-144663455:-</td>\n",
       "      <td>chr8:144663499-144668898:-</td>\n",
       "      <td>chr8:144663325-144668388:-</td>\n",
       "      <td>chr8:144668461-144668898:-</td>\n",
       "      <td>exon:chr8:144663224-144663324:-@exon:chr8:1446...</td>\n",
       "    </tr>\n",
       "    <tr>\n",
       "      <th>1</th>\n",
       "      <td>exon:chr19:8376168-8376479:-</td>\n",
       "      <td>exon:chr19:8385741-8385790:-</td>\n",
       "      <td>exon:chr19:8381380-8381529:-</td>\n",
       "      <td>exon:chr19:8386192-8386259:-</td>\n",
       "      <td>chr19:8376480-8381379:-</td>\n",
       "      <td>chr19:8381530-8386191:-</td>\n",
       "      <td>chr19:8376480-8385740:-</td>\n",
       "      <td>chr19:8385791-8386191:-</td>\n",
       "      <td>exon:chr19:8376168-8376479:-@exon:chr19:838574...</td>\n",
       "    </tr>\n",
       "    <tr>\n",
       "      <th>2</th>\n",
       "      <td>exon:chr17:33307578-33307641:+</td>\n",
       "      <td>exon:chr17:33310021-33310571:+</td>\n",
       "      <td>exon:chr17:33313007-33313150:+</td>\n",
       "      <td>exon:chr17:33316485-33316899:+</td>\n",
       "      <td>chr17:33307642-33313006:+</td>\n",
       "      <td>chr17:33313151-33316484:+</td>\n",
       "      <td>chr17:33307642-33310020:+</td>\n",
       "      <td>chr17:33310572-33316484:+</td>\n",
       "      <td>exon:chr17:33307578-33307641:+@exon:chr17:3331...</td>\n",
       "    </tr>\n",
       "    <tr>\n",
       "      <th>3</th>\n",
       "      <td>exon:chr14:31091525-31091605:+</td>\n",
       "      <td>exon:chr14:31097415-31097485:+</td>\n",
       "      <td>exon:chr14:31099683-31099771:+</td>\n",
       "      <td>exon:chr14:31103153-31103243:+</td>\n",
       "      <td>chr14:31091606-31099682:+</td>\n",
       "      <td>chr14:31099772-31103152:+</td>\n",
       "      <td>chr14:31091606-31097414:+</td>\n",
       "      <td>chr14:31097486-31103152:+</td>\n",
       "      <td>exon:chr14:31091525-31091605:+@exon:chr14:3109...</td>\n",
       "    </tr>\n",
       "    <tr>\n",
       "      <th>4</th>\n",
       "      <td>exon:chr1:247002400-247004300:-</td>\n",
       "      <td>exon:chr1:247007097-247007230:-</td>\n",
       "      <td>exon:chr1:247005996-247006078:-</td>\n",
       "      <td>exon:chr1:247012917-247013151:-</td>\n",
       "      <td>chr1:247004301-247005995:-</td>\n",
       "      <td>chr1:247006079-247012916:-</td>\n",
       "      <td>chr1:247004301-247007096:-</td>\n",
       "      <td>chr1:247007231-247012916:-</td>\n",
       "      <td>exon:chr1:247002400-247004300:-@exon:chr1:2470...</td>\n",
       "    </tr>\n",
       "  </tbody>\n",
       "</table>\n",
       "</div>"
      ],
      "text/plain": [
       "                             exon1                            exon2  \\\n",
       "0  exon:chr8:144663224-144663324:-  exon:chr8:144668389-144668460:-   \n",
       "1     exon:chr19:8376168-8376479:-     exon:chr19:8385741-8385790:-   \n",
       "2   exon:chr17:33307578-33307641:+   exon:chr17:33310021-33310571:+   \n",
       "3   exon:chr14:31091525-31091605:+   exon:chr14:31097415-31097485:+   \n",
       "4  exon:chr1:247002400-247004300:-  exon:chr1:247007097-247007230:-   \n",
       "\n",
       "                             exon3                            exon4  \\\n",
       "0  exon:chr8:144663456-144663498:-  exon:chr8:144668899-144669019:-   \n",
       "1     exon:chr19:8381380-8381529:-     exon:chr19:8386192-8386259:-   \n",
       "2   exon:chr17:33313007-33313150:+   exon:chr17:33316485-33316899:+   \n",
       "3   exon:chr14:31099683-31099771:+   exon:chr14:31103153-31103243:+   \n",
       "4  exon:chr1:247005996-247006078:-  exon:chr1:247012917-247013151:-   \n",
       "\n",
       "                   junction13                  junction34  \\\n",
       "0  chr8:144663325-144663455:-  chr8:144663499-144668898:-   \n",
       "1     chr19:8376480-8381379:-     chr19:8381530-8386191:-   \n",
       "2   chr17:33307642-33313006:+   chr17:33313151-33316484:+   \n",
       "3   chr14:31091606-31099682:+   chr14:31099772-31103152:+   \n",
       "4  chr1:247004301-247005995:-  chr1:247006079-247012916:-   \n",
       "\n",
       "                   junction12                  junction24  \\\n",
       "0  chr8:144663325-144668388:-  chr8:144668461-144668898:-   \n",
       "1     chr19:8376480-8385740:-     chr19:8385791-8386191:-   \n",
       "2   chr17:33307642-33310020:+   chr17:33310572-33316484:+   \n",
       "3   chr14:31091606-31097414:+   chr14:31097486-31103152:+   \n",
       "4  chr1:247004301-247007096:-  chr1:247007231-247012916:-   \n",
       "\n",
       "                                            event_id  \n",
       "0  exon:chr8:144663224-144663324:-@exon:chr8:1446...  \n",
       "1  exon:chr19:8376168-8376479:-@exon:chr19:838574...  \n",
       "2  exon:chr17:33307578-33307641:+@exon:chr17:3331...  \n",
       "3  exon:chr14:31091525-31091605:+@exon:chr14:3109...  \n",
       "4  exon:chr1:247002400-247004300:-@exon:chr1:2470...  "
      ]
     },
     "execution_count": 5,
     "metadata": {},
     "output_type": "execute_result"
    }
   ],
   "source": [
    "mxe_events = pd.read_csv('{}/mxe_events_with_stressed.csv'.format(folder))\n",
    "mxe_events.head()"
   ]
  },
  {
   "cell_type": "markdown",
   "metadata": {},
   "source": [
    "## Skipped Exon (SE)"
   ]
  },
  {
   "cell_type": "code",
   "execution_count": 7,
   "metadata": {
    "collapsed": false
   },
   "outputs": [],
   "source": [
    "isoform1_exons = 'exon1', 'exon3'\n",
    "isoform2_exons = 'exon1', 'exon2','exon3'"
   ]
  },
  {
   "cell_type": "code",
   "execution_count": 8,
   "metadata": {
    "collapsed": false
   },
   "outputs": [
    {
     "name": "stdout",
     "output_type": "stream",
     "text": [
      "CPU times: user 6min 5s, sys: 2min 25s, total: 8min 30s\n",
      "Wall time: 29min 34s\n"
     ]
    }
   ],
   "source": [
    "%%time\n",
    "se_events['isoform1_transcripts'] = se_events.apply(\n",
    "    lambda row: map(lambda x: x.id, get_isoform_transcripts(row, exons=isoform1_exons, exclude_exons='exon2', db=v19db)), axis=1)"
   ]
  },
  {
   "cell_type": "code",
   "execution_count": 9,
   "metadata": {
    "collapsed": false
   },
   "outputs": [
    {
     "name": "stdout",
     "output_type": "stream",
     "text": [
      "CPU times: user 6min 10s, sys: 2min 26s, total: 8min 37s\n",
      "Wall time: 29min 5s\n"
     ]
    }
   ],
   "source": [
    "%%time\n",
    "se_events['isoform2_transcripts'] = se_events.apply(\n",
    "    lambda row: map(lambda x: x.id, get_isoform_transcripts(row, exons=isoform2_exons, db=v19db)), axis=1)"
   ]
  },
  {
   "cell_type": "code",
   "execution_count": 10,
   "metadata": {
    "collapsed": false
   },
   "outputs": [
    {
     "name": "stdout",
     "output_type": "stream",
     "text": [
      "CPU times: user 2min 32s, sys: 55 s, total: 3min 27s\n",
      "Wall time: 10min 32s\n"
     ]
    }
   ],
   "source": [
    "%%time\n",
    "mxe_events['isoform1_transcripts'] = mxe_events.apply(\n",
    "    lambda row: map(lambda x: x.id, get_isoform_transcripts(row, exons=['exon1', 'exon3', 'exon4'], \n",
    "                                                            exclude_exons='exon2', db=v19db)), axis=1)"
   ]
  },
  {
   "cell_type": "code",
   "execution_count": 11,
   "metadata": {
    "collapsed": false
   },
   "outputs": [
    {
     "name": "stdout",
     "output_type": "stream",
     "text": [
      "CPU times: user 2min 33s, sys: 56.9 s, total: 3min 30s\n",
      "Wall time: 10min 34s\n"
     ]
    }
   ],
   "source": [
    "%%time\n",
    "mxe_events['isoform2_transcripts'] = mxe_events.apply(\n",
    "    lambda row: map(lambda x: x.id, get_isoform_transcripts(row, exons=['exon1', 'exon2', 'exon4'], \n",
    "                                                            exclude_exons='exon3', db=v19db)), axis=1)"
   ]
  },
  {
   "cell_type": "code",
   "execution_count": 13,
   "metadata": {
    "collapsed": false
   },
   "outputs": [
    {
     "data": {
      "text/html": [
       "<div>\n",
       "<table border=\"1\" class=\"dataframe\">\n",
       "  <thead>\n",
       "    <tr style=\"text-align: right;\">\n",
       "      <th></th>\n",
       "      <th>exon1</th>\n",
       "      <th>exon2</th>\n",
       "      <th>exon3</th>\n",
       "      <th>exon4</th>\n",
       "      <th>junction13</th>\n",
       "      <th>junction34</th>\n",
       "      <th>junction12</th>\n",
       "      <th>junction24</th>\n",
       "      <th>event_id</th>\n",
       "      <th>isoform1_transcripts</th>\n",
       "      <th>isoform2_transcripts</th>\n",
       "    </tr>\n",
       "  </thead>\n",
       "  <tbody>\n",
       "    <tr>\n",
       "      <th>0</th>\n",
       "      <td>exon:chr8:144663224-144663324:-</td>\n",
       "      <td>exon:chr8:144668389-144668460:-</td>\n",
       "      <td>exon:chr8:144663456-144663498:-</td>\n",
       "      <td>exon:chr8:144668899-144669019:-</td>\n",
       "      <td>chr8:144663325-144663455:-</td>\n",
       "      <td>chr8:144663499-144668898:-</td>\n",
       "      <td>chr8:144663325-144668388:-</td>\n",
       "      <td>chr8:144668461-144668898:-</td>\n",
       "      <td>exon:chr8:144663224-144663324:-@exon:chr8:1446...</td>\n",
       "      <td>[]</td>\n",
       "      <td>[ENST00000419152.2, ENST00000534232.1, ENST000...</td>\n",
       "    </tr>\n",
       "    <tr>\n",
       "      <th>1</th>\n",
       "      <td>exon:chr19:8376168-8376479:-</td>\n",
       "      <td>exon:chr19:8385741-8385790:-</td>\n",
       "      <td>exon:chr19:8381380-8381529:-</td>\n",
       "      <td>exon:chr19:8386192-8386259:-</td>\n",
       "      <td>chr19:8376480-8381379:-</td>\n",
       "      <td>chr19:8381530-8386191:-</td>\n",
       "      <td>chr19:8376480-8385740:-</td>\n",
       "      <td>chr19:8385791-8386191:-</td>\n",
       "      <td>exon:chr19:8376168-8376479:-@exon:chr19:838574...</td>\n",
       "      <td>[]</td>\n",
       "      <td>[]</td>\n",
       "    </tr>\n",
       "    <tr>\n",
       "      <th>2</th>\n",
       "      <td>exon:chr17:33307578-33307641:+</td>\n",
       "      <td>exon:chr17:33310021-33310571:+</td>\n",
       "      <td>exon:chr17:33313007-33313150:+</td>\n",
       "      <td>exon:chr17:33316485-33316899:+</td>\n",
       "      <td>chr17:33307642-33313006:+</td>\n",
       "      <td>chr17:33313151-33316484:+</td>\n",
       "      <td>chr17:33307642-33310020:+</td>\n",
       "      <td>chr17:33310572-33316484:+</td>\n",
       "      <td>exon:chr17:33307578-33307641:+@exon:chr17:3331...</td>\n",
       "      <td>[]</td>\n",
       "      <td>[]</td>\n",
       "    </tr>\n",
       "    <tr>\n",
       "      <th>3</th>\n",
       "      <td>exon:chr14:31091525-31091605:+</td>\n",
       "      <td>exon:chr14:31097415-31097485:+</td>\n",
       "      <td>exon:chr14:31099683-31099771:+</td>\n",
       "      <td>exon:chr14:31103153-31103243:+</td>\n",
       "      <td>chr14:31091606-31099682:+</td>\n",
       "      <td>chr14:31099772-31103152:+</td>\n",
       "      <td>chr14:31091606-31097414:+</td>\n",
       "      <td>chr14:31097486-31103152:+</td>\n",
       "      <td>exon:chr14:31091525-31091605:+@exon:chr14:3109...</td>\n",
       "      <td>[ENST00000544052.2, ENST00000484733.2]</td>\n",
       "      <td>[ENST00000463622.2, ENST00000421551.3]</td>\n",
       "    </tr>\n",
       "    <tr>\n",
       "      <th>4</th>\n",
       "      <td>exon:chr1:247002400-247004300:-</td>\n",
       "      <td>exon:chr1:247007097-247007230:-</td>\n",
       "      <td>exon:chr1:247005996-247006078:-</td>\n",
       "      <td>exon:chr1:247012917-247013151:-</td>\n",
       "      <td>chr1:247004301-247005995:-</td>\n",
       "      <td>chr1:247006079-247012916:-</td>\n",
       "      <td>chr1:247004301-247007096:-</td>\n",
       "      <td>chr1:247007231-247012916:-</td>\n",
       "      <td>exon:chr1:247002400-247004300:-@exon:chr1:2470...</td>\n",
       "      <td>[]</td>\n",
       "      <td>[]</td>\n",
       "    </tr>\n",
       "  </tbody>\n",
       "</table>\n",
       "</div>"
      ],
      "text/plain": [
       "                             exon1                            exon2  \\\n",
       "0  exon:chr8:144663224-144663324:-  exon:chr8:144668389-144668460:-   \n",
       "1     exon:chr19:8376168-8376479:-     exon:chr19:8385741-8385790:-   \n",
       "2   exon:chr17:33307578-33307641:+   exon:chr17:33310021-33310571:+   \n",
       "3   exon:chr14:31091525-31091605:+   exon:chr14:31097415-31097485:+   \n",
       "4  exon:chr1:247002400-247004300:-  exon:chr1:247007097-247007230:-   \n",
       "\n",
       "                             exon3                            exon4  \\\n",
       "0  exon:chr8:144663456-144663498:-  exon:chr8:144668899-144669019:-   \n",
       "1     exon:chr19:8381380-8381529:-     exon:chr19:8386192-8386259:-   \n",
       "2   exon:chr17:33313007-33313150:+   exon:chr17:33316485-33316899:+   \n",
       "3   exon:chr14:31099683-31099771:+   exon:chr14:31103153-31103243:+   \n",
       "4  exon:chr1:247005996-247006078:-  exon:chr1:247012917-247013151:-   \n",
       "\n",
       "                   junction13                  junction34  \\\n",
       "0  chr8:144663325-144663455:-  chr8:144663499-144668898:-   \n",
       "1     chr19:8376480-8381379:-     chr19:8381530-8386191:-   \n",
       "2   chr17:33307642-33313006:+   chr17:33313151-33316484:+   \n",
       "3   chr14:31091606-31099682:+   chr14:31099772-31103152:+   \n",
       "4  chr1:247004301-247005995:-  chr1:247006079-247012916:-   \n",
       "\n",
       "                   junction12                  junction24  \\\n",
       "0  chr8:144663325-144668388:-  chr8:144668461-144668898:-   \n",
       "1     chr19:8376480-8385740:-     chr19:8385791-8386191:-   \n",
       "2   chr17:33307642-33310020:+   chr17:33310572-33316484:+   \n",
       "3   chr14:31091606-31097414:+   chr14:31097486-31103152:+   \n",
       "4  chr1:247004301-247007096:-  chr1:247007231-247012916:-   \n",
       "\n",
       "                                            event_id  \\\n",
       "0  exon:chr8:144663224-144663324:-@exon:chr8:1446...   \n",
       "1  exon:chr19:8376168-8376479:-@exon:chr19:838574...   \n",
       "2  exon:chr17:33307578-33307641:+@exon:chr17:3331...   \n",
       "3  exon:chr14:31091525-31091605:+@exon:chr14:3109...   \n",
       "4  exon:chr1:247002400-247004300:-@exon:chr1:2470...   \n",
       "\n",
       "                     isoform1_transcripts  \\\n",
       "0                                      []   \n",
       "1                                      []   \n",
       "2                                      []   \n",
       "3  [ENST00000544052.2, ENST00000484733.2]   \n",
       "4                                      []   \n",
       "\n",
       "                                isoform2_transcripts  \n",
       "0  [ENST00000419152.2, ENST00000534232.1, ENST000...  \n",
       "1                                                 []  \n",
       "2                                                 []  \n",
       "3             [ENST00000463622.2, ENST00000421551.3]  \n",
       "4                                                 []  "
      ]
     },
     "execution_count": 13,
     "metadata": {},
     "output_type": "execute_result"
    }
   ],
   "source": [
    "mxe_events.head()"
   ]
  },
  {
   "cell_type": "code",
   "execution_count": 12,
   "metadata": {
    "collapsed": true
   },
   "outputs": [],
   "source": [
    "%load_ext autoreload\n",
    "%autoreload"
   ]
  },
  {
   "cell_type": "code",
   "execution_count": 14,
   "metadata": {
    "collapsed": true
   },
   "outputs": [],
   "source": [
    "import outrigger"
   ]
  },
  {
   "cell_type": "code",
   "execution_count": 16,
   "metadata": {
    "collapsed": false
   },
   "outputs": [],
   "source": [
    "from outrigger.junctions_to_events import consolidate_junction_events"
   ]
  },
  {
   "cell_type": "code",
   "execution_count": 21,
   "metadata": {
    "collapsed": true
   },
   "outputs": [],
   "source": [
    "se_junctions = ['junction13', 'junction12',  'junction23']\n",
    "transcript_cols = ['isoform1_transcripts', 'isoform2_transcripts']\n",
    "\n",
    "se_consolidated = se_events.groupby(se_junctions).apply(\n",
    "    lambda x: consolidate_junction_events(x, v19db, event_col='event_id', transcript_cols=transcript_cols))"
   ]
  },
  {
   "cell_type": "code",
   "execution_count": 18,
   "metadata": {
    "collapsed": false
   },
   "outputs": [],
   "source": [
    "mxe_junctions = ['junction13', 'junction34', 'junction12',  'junction24']\n",
    "transcript_cols = ['isoform1_transcripts', 'isoform2_transcripts']\n",
    "\n",
    "\n",
    "mxe_consolidated = mxe_events.groupby(mxe_junctions).apply(\n",
    "    lambda x: consolidate_junction_events(x, v19db, event_col='event_id', transcript_cols=transcript_cols))"
   ]
  },
  {
   "cell_type": "code",
   "execution_count": 22,
   "metadata": {
    "collapsed": true
   },
   "outputs": [],
   "source": [
    "def consolidated_series_to_dataframe(series):\n",
    "    dataframe = series.reset_index()\n",
    "    dataframe['criteria_full'] = dataframe[0].map(lambda x: x[0])\n",
    "    dataframe['event_id'] = dataframe[0].map(lambda x: x[1])\n",
    "    dataframe['criteria'] = dataframe[0].map(lambda x: x[0].split(',')[0])\n",
    "    dataframe['criteria_additional'] = dataframe['criteria_full'].map(\n",
    "        lambda x: x.split(',')[1] if len(x.split(',')) > 1 else np.nan)\n",
    "    dataframe = dataframe.drop(0, axis=1)\n",
    "    return dataframe\n",
    "\n"
   ]
  },
  {
   "cell_type": "code",
   "execution_count": 23,
   "metadata": {
    "collapsed": false
   },
   "outputs": [
    {
     "name": "stdout",
     "output_type": "stream",
     "text": [
      "CPU times: user 119 ms, sys: 3 ms, total: 122 ms\n",
      "Wall time: 120 ms\n"
     ]
    }
   ],
   "source": [
    "%%time\n",
    "mxe_consolidated_df = consolidated_series_to_dataframe(mxe_consolidated)\n",
    "se_consolidated_df = consolidated_series_to_dataframe(se_consolidated)"
   ]
  },
  {
   "cell_type": "code",
   "execution_count": 24,
   "metadata": {
    "collapsed": true
   },
   "outputs": [],
   "source": [
    "figure_folder = '/home/obotvinnik/Dropbox/figures2/singlecell_pnm/figure0'\n",
    "! mkdir $figure_folder"
   ]
  },
  {
   "cell_type": "code",
   "execution_count": 30,
   "metadata": {
    "collapsed": false
   },
   "outputs": [
    {
     "data": {
      "image/png": "[encoded data removed]",
      "text/plain": [
       "<matplotlib.figure.Figure at 0x2ba301082ad0>"
      ]
     },
     "metadata": {},
     "output_type": "display_data"
    }
   ],
   "source": [
    "import seaborn as sns\n",
    "%matplotlib inline\n",
    "sns.set(style='ticks', context='talk')\n",
    "\n",
    "g = sns.factorplot(x='criteria_full', data=mxe_consolidated_df, kind='count', aspect=3.75)\n",
    "g.savefig('{}/mxe_consolidated_events_criteria.pdf'.format(figure_folder))"
   ]
  },
  {
   "cell_type": "code",
   "execution_count": 31,
   "metadata": {
    "collapsed": false
   },
   "outputs": [
    {
     "data": {
      "image/png": "[encoded data removed]",
      "text/plain": [
       "<matplotlib.figure.Figure at 0x2ba30130a2d0>"
      ]
     },
     "metadata": {},
     "output_type": "display_data"
    }
   ],
   "source": [
    "g = sns.factorplot(x='criteria_full', data=se_consolidated_df, kind='count', aspect=3.75)\n",
    "g.savefig('{}/se_consolidated_events_criteria.pdf'.format(figure_folder))"
   ]
  },
  {
   "cell_type": "code",
   "execution_count": 34,
   "metadata": {
    "collapsed": false
   },
   "outputs": [],
   "source": [
    "folder = '/projects/ps-yeolab2/obotvinnik/singlecell_pnm'"
   ]
  },
  {
   "cell_type": "code",
   "execution_count": 35,
   "metadata": {
    "collapsed": true
   },
   "outputs": [],
   "source": [
    "mxe_consolidated_df.to_csv('{}/mutually_exclusive_exon_consolidated_events.csv'.format(folder))\n",
    "se_consolidated_df.to_csv('{}/skipped_exon_consolidated_events.csv'.format(folder))"
   ]
  },
  {
   "cell_type": "code",
   "execution_count": null,
   "metadata": {
    "collapsed": true
   },
   "outputs": [],
   "source": []
  }
 ],
 "metadata": {
  "kernelspec": {
   "display_name": "Python 2",
   "language": "python",
   "name": "python2"
  },
  "language_info": {
   "codemirror_mode": {
    "name": "ipython",
    "version": 2
   },
   "file_extension": ".py",
   "mimetype": "text/x-python",
   "name": "python",
   "nbconvert_exporter": "python",
   "pygments_lexer": "ipython2",
   "version": "2.7.10"
  }
 },
 "nbformat": 4,
 "nbformat_minor": 0
}
