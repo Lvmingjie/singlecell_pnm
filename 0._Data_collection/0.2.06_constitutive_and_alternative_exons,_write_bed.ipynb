{
 "cells": [
  {
   "cell_type": "code",
   "execution_count": 62,
   "metadata": {
    "collapsed": false
   },
   "outputs": [
    {
     "data": {
      "text/html": [
       "<div>\n",
       "<table border=\"1\" class=\"dataframe\">\n",
       "  <thead>\n",
       "    <tr style=\"text-align: right;\">\n",
       "      <th></th>\n",
       "      <th>criteria</th>\n",
       "      <th>criteria_additional</th>\n",
       "      <th>criteria_full</th>\n",
       "      <th>ensembl_id</th>\n",
       "      <th>exon1</th>\n",
       "      <th>exon1_length</th>\n",
       "      <th>exon2</th>\n",
       "      <th>exon2_length</th>\n",
       "      <th>exon3</th>\n",
       "      <th>exon3_length</th>\n",
       "      <th>...</th>\n",
       "      <th>junction12</th>\n",
       "      <th>junction13</th>\n",
       "      <th>junction23</th>\n",
       "      <th>junction24</th>\n",
       "      <th>junction34</th>\n",
       "      <th>strand</th>\n",
       "      <th>transcript_id</th>\n",
       "      <th>exon2_divisible_by_3</th>\n",
       "      <th>one_ensembl_id</th>\n",
       "      <th>splice_type</th>\n",
       "    </tr>\n",
       "    <tr>\n",
       "      <th>event_id</th>\n",
       "      <th></th>\n",
       "      <th></th>\n",
       "      <th></th>\n",
       "      <th></th>\n",
       "      <th></th>\n",
       "      <th></th>\n",
       "      <th></th>\n",
       "      <th></th>\n",
       "      <th></th>\n",
       "      <th></th>\n",
       "      <th></th>\n",
       "      <th></th>\n",
       "      <th></th>\n",
       "      <th></th>\n",
       "      <th></th>\n",
       "      <th></th>\n",
       "      <th></th>\n",
       "      <th></th>\n",
       "      <th></th>\n",
       "      <th></th>\n",
       "      <th></th>\n",
       "    </tr>\n",
       "  </thead>\n",
       "  <tbody>\n",
       "    <tr>\n",
       "      <th>exon:chr10:100190328-100190427:-@exon:chr10:100189548-100189646:-@exon:chr10:100189330-100189399:-</th>\n",
       "      <td>best</td>\n",
       "      <td>appris_principal</td>\n",
       "      <td>best,appris_principal</td>\n",
       "      <td>ENSG00000107521</td>\n",
       "      <td>exon:chr10:100190328-100190427:-</td>\n",
       "      <td>100</td>\n",
       "      <td>exon:chr10:100189548-100189646:-</td>\n",
       "      <td>99</td>\n",
       "      <td>exon:chr10:100189330-100189399:-</td>\n",
       "      <td>70</td>\n",
       "      <td>...</td>\n",
       "      <td>chr10:100189647-100190327:-</td>\n",
       "      <td>chr10:100189400-100190327:-</td>\n",
       "      <td>chr10:100189400-100189547:-</td>\n",
       "      <td>NaN</td>\n",
       "      <td>NaN</td>\n",
       "      <td>-</td>\n",
       "      <td>ENST00000361490.4,ENST00000414009.1,ENST000003...</td>\n",
       "      <td>True</td>\n",
       "      <td>ENSG00000107521</td>\n",
       "      <td>SE</td>\n",
       "    </tr>\n",
       "    <tr>\n",
       "      <th>exon:chr10:100193697-100193848:-@exon:chr10:100190888-100191048:-@exon:chr10:100190328-100190427:-</th>\n",
       "      <td>only one</td>\n",
       "      <td>NaN</td>\n",
       "      <td>only one</td>\n",
       "      <td>ENSG00000107521</td>\n",
       "      <td>exon:chr10:100193697-100193848:-</td>\n",
       "      <td>152</td>\n",
       "      <td>exon:chr10:100190888-100191048:-</td>\n",
       "      <td>161</td>\n",
       "      <td>exon:chr10:100190328-100190427:-</td>\n",
       "      <td>100</td>\n",
       "      <td>...</td>\n",
       "      <td>chr10:100191049-100193696:-</td>\n",
       "      <td>chr10:100190428-100193696:-</td>\n",
       "      <td>chr10:100190428-100190887:-</td>\n",
       "      <td>NaN</td>\n",
       "      <td>NaN</td>\n",
       "      <td>-</td>\n",
       "      <td>ENST00000361490.4,ENST00000414009.1,ENST000003...</td>\n",
       "      <td>False</td>\n",
       "      <td>ENSG00000107521</td>\n",
       "      <td>SE</td>\n",
       "    </tr>\n",
       "    <tr>\n",
       "      <th>exon:chr10:100195392-100195529:-@exon:chr10:100195029-100195171:-@exon:chr10:100193697-100193848:-</th>\n",
       "      <td>best</td>\n",
       "      <td>appris_principal</td>\n",
       "      <td>best,appris_principal</td>\n",
       "      <td>ENSG00000107521</td>\n",
       "      <td>exon:chr10:100195392-100195529:-</td>\n",
       "      <td>138</td>\n",
       "      <td>exon:chr10:100195029-100195171:-</td>\n",
       "      <td>143</td>\n",
       "      <td>exon:chr10:100193697-100193848:-</td>\n",
       "      <td>152</td>\n",
       "      <td>...</td>\n",
       "      <td>chr10:100195172-100195391:-</td>\n",
       "      <td>chr10:100193849-100195391:-</td>\n",
       "      <td>chr10:100193849-100195028:-</td>\n",
       "      <td>NaN</td>\n",
       "      <td>NaN</td>\n",
       "      <td>-</td>\n",
       "      <td>ENST00000361490.4,ENST00000325103.6,ENST000004...</td>\n",
       "      <td>False</td>\n",
       "      <td>ENSG00000107521</td>\n",
       "      <td>SE</td>\n",
       "    </tr>\n",
       "    <tr>\n",
       "      <th>exon:chr10:101165513-101165617:-@exon:chr10:101163481-101163631:-@exon:chr10:101163226-101163391:-</th>\n",
       "      <td>only one</td>\n",
       "      <td>NaN</td>\n",
       "      <td>only one</td>\n",
       "      <td>ENSG00000120053</td>\n",
       "      <td>exon:chr10:101165513-101165617:-</td>\n",
       "      <td>105</td>\n",
       "      <td>exon:chr10:101163481-101163631:-</td>\n",
       "      <td>151</td>\n",
       "      <td>exon:chr10:101163226-101163391:-</td>\n",
       "      <td>166</td>\n",
       "      <td>...</td>\n",
       "      <td>chr10:101163632-101165512:-</td>\n",
       "      <td>chr10:101163392-101165512:-</td>\n",
       "      <td>chr10:101163392-101163480:-</td>\n",
       "      <td>NaN</td>\n",
       "      <td>NaN</td>\n",
       "      <td>-</td>\n",
       "      <td>ENST00000543866.1,ENST00000370508.5</td>\n",
       "      <td>False</td>\n",
       "      <td>ENSG00000120053</td>\n",
       "      <td>SE</td>\n",
       "    </tr>\n",
       "    <tr>\n",
       "      <th>exon:chr10:101419263-101419345:+@exon:chr10:101419619-101419721:+@exon:chr10:101421203-101421385:+</th>\n",
       "      <td>only one</td>\n",
       "      <td>NaN</td>\n",
       "      <td>only one</td>\n",
       "      <td>ENSG00000198018</td>\n",
       "      <td>exon:chr10:101419263-101419345:+</td>\n",
       "      <td>83</td>\n",
       "      <td>exon:chr10:101419619-101419721:+</td>\n",
       "      <td>103</td>\n",
       "      <td>exon:chr10:101421203-101421385:+</td>\n",
       "      <td>183</td>\n",
       "      <td>...</td>\n",
       "      <td>chr10:101419346-101419618:+</td>\n",
       "      <td>chr10:101419346-101421202:+</td>\n",
       "      <td>chr10:101419722-101421202:+</td>\n",
       "      <td>NaN</td>\n",
       "      <td>NaN</td>\n",
       "      <td>+</td>\n",
       "      <td>ENST00000370489.4</td>\n",
       "      <td>False</td>\n",
       "      <td>ENSG00000198018</td>\n",
       "      <td>SE</td>\n",
       "    </tr>\n",
       "  </tbody>\n",
       "</table>\n",
       "<p>5 rows × 25 columns</p>\n",
       "</div>"
      ],
      "text/plain": [
       "                                                    criteria  \\\n",
       "event_id                                                       \n",
       "exon:chr10:100190328-100190427:-@exon:chr10:100...      best   \n",
       "exon:chr10:100193697-100193848:-@exon:chr10:100...  only one   \n",
       "exon:chr10:100195392-100195529:-@exon:chr10:100...      best   \n",
       "exon:chr10:101165513-101165617:-@exon:chr10:101...  only one   \n",
       "exon:chr10:101419263-101419345:+@exon:chr10:101...  only one   \n",
       "\n",
       "                                                   criteria_additional  \\\n",
       "event_id                                                                 \n",
       "exon:chr10:100190328-100190427:-@exon:chr10:100...    appris_principal   \n",
       "exon:chr10:100193697-100193848:-@exon:chr10:100...                 NaN   \n",
       "exon:chr10:100195392-100195529:-@exon:chr10:100...    appris_principal   \n",
       "exon:chr10:101165513-101165617:-@exon:chr10:101...                 NaN   \n",
       "exon:chr10:101419263-101419345:+@exon:chr10:101...                 NaN   \n",
       "\n",
       "                                                            criteria_full  \\\n",
       "event_id                                                                    \n",
       "exon:chr10:100190328-100190427:-@exon:chr10:100...  best,appris_principal   \n",
       "exon:chr10:100193697-100193848:-@exon:chr10:100...               only one   \n",
       "exon:chr10:100195392-100195529:-@exon:chr10:100...  best,appris_principal   \n",
       "exon:chr10:101165513-101165617:-@exon:chr10:101...               only one   \n",
       "exon:chr10:101419263-101419345:+@exon:chr10:101...               only one   \n",
       "\n",
       "                                                         ensembl_id  \\\n",
       "event_id                                                              \n",
       "exon:chr10:100190328-100190427:-@exon:chr10:100...  ENSG00000107521   \n",
       "exon:chr10:100193697-100193848:-@exon:chr10:100...  ENSG00000107521   \n",
       "exon:chr10:100195392-100195529:-@exon:chr10:100...  ENSG00000107521   \n",
       "exon:chr10:101165513-101165617:-@exon:chr10:101...  ENSG00000120053   \n",
       "exon:chr10:101419263-101419345:+@exon:chr10:101...  ENSG00000198018   \n",
       "\n",
       "                                                                               exon1  \\\n",
       "event_id                                                                               \n",
       "exon:chr10:100190328-100190427:-@exon:chr10:100...  exon:chr10:100190328-100190427:-   \n",
       "exon:chr10:100193697-100193848:-@exon:chr10:100...  exon:chr10:100193697-100193848:-   \n",
       "exon:chr10:100195392-100195529:-@exon:chr10:100...  exon:chr10:100195392-100195529:-   \n",
       "exon:chr10:101165513-101165617:-@exon:chr10:101...  exon:chr10:101165513-101165617:-   \n",
       "exon:chr10:101419263-101419345:+@exon:chr10:101...  exon:chr10:101419263-101419345:+   \n",
       "\n",
       "                                                    exon1_length  \\\n",
       "event_id                                                           \n",
       "exon:chr10:100190328-100190427:-@exon:chr10:100...           100   \n",
       "exon:chr10:100193697-100193848:-@exon:chr10:100...           152   \n",
       "exon:chr10:100195392-100195529:-@exon:chr10:100...           138   \n",
       "exon:chr10:101165513-101165617:-@exon:chr10:101...           105   \n",
       "exon:chr10:101419263-101419345:+@exon:chr10:101...            83   \n",
       "\n",
       "                                                                               exon2  \\\n",
       "event_id                                                                               \n",
       "exon:chr10:100190328-100190427:-@exon:chr10:100...  exon:chr10:100189548-100189646:-   \n",
       "exon:chr10:100193697-100193848:-@exon:chr10:100...  exon:chr10:100190888-100191048:-   \n",
       "exon:chr10:100195392-100195529:-@exon:chr10:100...  exon:chr10:100195029-100195171:-   \n",
       "exon:chr10:101165513-101165617:-@exon:chr10:101...  exon:chr10:101163481-101163631:-   \n",
       "exon:chr10:101419263-101419345:+@exon:chr10:101...  exon:chr10:101419619-101419721:+   \n",
       "\n",
       "                                                    exon2_length  \\\n",
       "event_id                                                           \n",
       "exon:chr10:100190328-100190427:-@exon:chr10:100...            99   \n",
       "exon:chr10:100193697-100193848:-@exon:chr10:100...           161   \n",
       "exon:chr10:100195392-100195529:-@exon:chr10:100...           143   \n",
       "exon:chr10:101165513-101165617:-@exon:chr10:101...           151   \n",
       "exon:chr10:101419263-101419345:+@exon:chr10:101...           103   \n",
       "\n",
       "                                                                               exon3  \\\n",
       "event_id                                                                               \n",
       "exon:chr10:100190328-100190427:-@exon:chr10:100...  exon:chr10:100189330-100189399:-   \n",
       "exon:chr10:100193697-100193848:-@exon:chr10:100...  exon:chr10:100190328-100190427:-   \n",
       "exon:chr10:100195392-100195529:-@exon:chr10:100...  exon:chr10:100193697-100193848:-   \n",
       "exon:chr10:101165513-101165617:-@exon:chr10:101...  exon:chr10:101163226-101163391:-   \n",
       "exon:chr10:101419263-101419345:+@exon:chr10:101...  exon:chr10:101421203-101421385:+   \n",
       "\n",
       "                                                    exon3_length     ...      \\\n",
       "event_id                                                             ...       \n",
       "exon:chr10:100190328-100190427:-@exon:chr10:100...            70     ...       \n",
       "exon:chr10:100193697-100193848:-@exon:chr10:100...           100     ...       \n",
       "exon:chr10:100195392-100195529:-@exon:chr10:100...           152     ...       \n",
       "exon:chr10:101165513-101165617:-@exon:chr10:101...           166     ...       \n",
       "exon:chr10:101419263-101419345:+@exon:chr10:101...           183     ...       \n",
       "\n",
       "                                                                     junction12  \\\n",
       "event_id                                                                          \n",
       "exon:chr10:100190328-100190427:-@exon:chr10:100...  chr10:100189647-100190327:-   \n",
       "exon:chr10:100193697-100193848:-@exon:chr10:100...  chr10:100191049-100193696:-   \n",
       "exon:chr10:100195392-100195529:-@exon:chr10:100...  chr10:100195172-100195391:-   \n",
       "exon:chr10:101165513-101165617:-@exon:chr10:101...  chr10:101163632-101165512:-   \n",
       "exon:chr10:101419263-101419345:+@exon:chr10:101...  chr10:101419346-101419618:+   \n",
       "\n",
       "                                                                     junction13  \\\n",
       "event_id                                                                          \n",
       "exon:chr10:100190328-100190427:-@exon:chr10:100...  chr10:100189400-100190327:-   \n",
       "exon:chr10:100193697-100193848:-@exon:chr10:100...  chr10:100190428-100193696:-   \n",
       "exon:chr10:100195392-100195529:-@exon:chr10:100...  chr10:100193849-100195391:-   \n",
       "exon:chr10:101165513-101165617:-@exon:chr10:101...  chr10:101163392-101165512:-   \n",
       "exon:chr10:101419263-101419345:+@exon:chr10:101...  chr10:101419346-101421202:+   \n",
       "\n",
       "                                                                     junction23  \\\n",
       "event_id                                                                          \n",
       "exon:chr10:100190328-100190427:-@exon:chr10:100...  chr10:100189400-100189547:-   \n",
       "exon:chr10:100193697-100193848:-@exon:chr10:100...  chr10:100190428-100190887:-   \n",
       "exon:chr10:100195392-100195529:-@exon:chr10:100...  chr10:100193849-100195028:-   \n",
       "exon:chr10:101165513-101165617:-@exon:chr10:101...  chr10:101163392-101163480:-   \n",
       "exon:chr10:101419263-101419345:+@exon:chr10:101...  chr10:101419722-101421202:+   \n",
       "\n",
       "                                                   junction24  junction34  \\\n",
       "event_id                                                                    \n",
       "exon:chr10:100190328-100190427:-@exon:chr10:100...        NaN         NaN   \n",
       "exon:chr10:100193697-100193848:-@exon:chr10:100...        NaN         NaN   \n",
       "exon:chr10:100195392-100195529:-@exon:chr10:100...        NaN         NaN   \n",
       "exon:chr10:101165513-101165617:-@exon:chr10:101...        NaN         NaN   \n",
       "exon:chr10:101419263-101419345:+@exon:chr10:101...        NaN         NaN   \n",
       "\n",
       "                                                   strand  \\\n",
       "event_id                                                    \n",
       "exon:chr10:100190328-100190427:-@exon:chr10:100...      -   \n",
       "exon:chr10:100193697-100193848:-@exon:chr10:100...      -   \n",
       "exon:chr10:100195392-100195529:-@exon:chr10:100...      -   \n",
       "exon:chr10:101165513-101165617:-@exon:chr10:101...      -   \n",
       "exon:chr10:101419263-101419345:+@exon:chr10:101...      +   \n",
       "\n",
       "                                                                                        transcript_id  \\\n",
       "event_id                                                                                                \n",
       "exon:chr10:100190328-100190427:-@exon:chr10:100...  ENST00000361490.4,ENST00000414009.1,ENST000003...   \n",
       "exon:chr10:100193697-100193848:-@exon:chr10:100...  ENST00000361490.4,ENST00000414009.1,ENST000003...   \n",
       "exon:chr10:100195392-100195529:-@exon:chr10:100...  ENST00000361490.4,ENST00000325103.6,ENST000004...   \n",
       "exon:chr10:101165513-101165617:-@exon:chr10:101...                ENST00000543866.1,ENST00000370508.5   \n",
       "exon:chr10:101419263-101419345:+@exon:chr10:101...                                  ENST00000370489.4   \n",
       "\n",
       "                                                   exon2_divisible_by_3  \\\n",
       "event_id                                                                  \n",
       "exon:chr10:100190328-100190427:-@exon:chr10:100...                 True   \n",
       "exon:chr10:100193697-100193848:-@exon:chr10:100...                False   \n",
       "exon:chr10:100195392-100195529:-@exon:chr10:100...                False   \n",
       "exon:chr10:101165513-101165617:-@exon:chr10:101...                False   \n",
       "exon:chr10:101419263-101419345:+@exon:chr10:101...                False   \n",
       "\n",
       "                                                     one_ensembl_id  \\\n",
       "event_id                                                              \n",
       "exon:chr10:100190328-100190427:-@exon:chr10:100...  ENSG00000107521   \n",
       "exon:chr10:100193697-100193848:-@exon:chr10:100...  ENSG00000107521   \n",
       "exon:chr10:100195392-100195529:-@exon:chr10:100...  ENSG00000107521   \n",
       "exon:chr10:101165513-101165617:-@exon:chr10:101...  ENSG00000120053   \n",
       "exon:chr10:101419263-101419345:+@exon:chr10:101...  ENSG00000198018   \n",
       "\n",
       "                                                   splice_type  \n",
       "event_id                                                        \n",
       "exon:chr10:100190328-100190427:-@exon:chr10:100...          SE  \n",
       "exon:chr10:100193697-100193848:-@exon:chr10:100...          SE  \n",
       "exon:chr10:100195392-100195529:-@exon:chr10:100...          SE  \n",
       "exon:chr10:101165513-101165617:-@exon:chr10:101...          SE  \n",
       "exon:chr10:101419263-101419345:+@exon:chr10:101...          SE  \n",
       "\n",
       "[5 rows x 25 columns]"
      ]
     },
     "execution_count": 62,
     "metadata": {},
     "output_type": "execute_result"
    }
   ],
   "source": [
    "import six\n",
    "\n",
    "import pandas as pd\n",
    "import gffutils\n",
    "import pybedtools\n",
    "import re\n",
    "import numpy as np\n",
    "\n",
    "v19db_filename = '/projects/ps-yeolab/genomes/hg19/gencode/v19/gencode.v19.annotation.gtf.db'\n",
    "v19db = gffutils.FeatureDB(v19db_filename)\n",
    "\n",
    "folder = '/projects/ps-yeolab/obotvinnik/singlecell_pnms'\n",
    "outrigger_folder = '{}/outrigger_index'.format(folder)\n",
    "\n",
    "\n",
    "csv_folder = '/projects/ps-yeolab/obotvinnik/singlecell_pnms/csvs_for_paper'\n",
    "# folder2 = '/projects/ps-yeolab2/obotvinnik/singlecell_pnm'\n",
    "\n",
    "splicing_feature_data = pd.read_csv('{}/splicing_feature_data.csv'.format(csv_folder), index_col=0)\n",
    "splicing_feature_data.head()"
   ]
  },
  {
   "cell_type": "markdown",
   "metadata": {},
   "source": [
    "Get only psi scores for events found to actually be alternative in our data (see [0.2.04_Filter_out_non-alternative_splicing_events](0.2.04_Filter_out_non-alternative_splicing_events.ipynb))"
   ]
  },
  {
   "cell_type": "code",
   "execution_count": 70,
   "metadata": {
    "collapsed": false
   },
   "outputs": [
    {
     "name": "stdout",
     "output_type": "stream",
     "text": [
      "total 49370\r\n",
      "drwxr-xr-x 2 obotvinnik        4 Jan 24 11:03 \u001b[0m\u001b[01;34mevents\u001b[0m/\r\n",
      "-rw-r--r-- 1 obotvinnik  2891321 Jan 29 20:00 mxe_psi.csv\r\n",
      "-rw-r--r-- 1 obotvinnik 30323119 Jan 30 07:03 psi.csv\r\n",
      "-rw-r--r-- 1 obotvinnik 16917226 Jan 30 07:03 se_psi.csv\r\n",
      "\u001b[m"
     ]
    }
   ],
   "source": [
    "ll $outrigger_folder"
   ]
  },
  {
   "cell_type": "code",
   "execution_count": 72,
   "metadata": {
    "collapsed": false
   },
   "outputs": [
    {
     "name": "stdout",
     "output_type": "stream",
     "text": [
      "wc: /projects/ps-yeolab/obotvinnik/singlecell_pnms/outrigger_index/events: Is a directory\n",
      "       0 /projects/ps-yeolab/obotvinnik/singlecell_pnms/outrigger_index/events\n",
      "     240 /projects/ps-yeolab/obotvinnik/singlecell_pnms/outrigger_index/mxe_psi.csv\n",
      "   43904 /projects/ps-yeolab/obotvinnik/singlecell_pnms/outrigger_index/psi.csv\n",
      "     243 /projects/ps-yeolab/obotvinnik/singlecell_pnms/outrigger_index/se_psi.csv\n",
      "   44387 total\n"
     ]
    }
   ],
   "source": [
    "! wc -l $outrigger_folder/*"
   ]
  },
  {
   "cell_type": "code",
   "execution_count": 74,
   "metadata": {
    "collapsed": false
   },
   "outputs": [],
   "source": [
    "mxe = pd.read_csv('{}/mxe_psi.csv'.format(outrigger_folder), index_col=0)\n",
    "se = pd.read_csv('{}/se_psi.csv'.format(outrigger_folder), index_col=0)"
   ]
  },
  {
   "cell_type": "code",
   "execution_count": 77,
   "metadata": {
    "collapsed": false
   },
   "outputs": [
    {
     "name": "stdout",
     "output_type": "stream",
     "text": [
      "(242, 43903)\n"
     ]
    },
    {
     "data": {
      "text/html": [
       "<div>\n",
       "<table border=\"1\" class=\"dataframe\">\n",
       "  <thead>\n",
       "    <tr style=\"text-align: right;\">\n",
       "      <th></th>\n",
       "      <th>exon:chr10:102003455-102003534:-@exon:chr10:101997779-101997988:-@exon:chr10:101996607-101996726:-@exon:chr10:101995424-101995521:-</th>\n",
       "      <th>exon:chr10:102013178-102013296:-@exon:chr10:102010005-102010089:-@exon:chr10:102003455-102003534:-@exon:chr10:101997940-101997988:-</th>\n",
       "      <th>exon:chr10:102020723-102020801:-@exon:chr10:102019975-102020076:-@exon:chr10:102016019-102016233:-@exon:chr10:102013178-102013296:-</th>\n",
       "      <th>exon:chr10:102021736-102021820:-@exon:chr10:102019975-102020076:-@exon:chr10:102016019-102016233:-@exon:chr10:102013178-102013296:-</th>\n",
       "      <th>exon:chr10:102021736-102021820:-@exon:chr10:102020723-102020785:-@exon:chr10:102016019-102016233:-@exon:chr10:102013178-102013296:-</th>\n",
       "      <th>exon:chr10:102021736-102021820:-@exon:chr10:102020723-102020801:-@exon:chr10:102016019-102016233:-@exon:chr10:102013178-102013296:-</th>\n",
       "      <th>exon:chr10:102021736-102021820:-@exon:chr10:102020723-102020801:-@exon:chr10:102019975-102020076:-@exon:chr10:102013178-102013296:-</th>\n",
       "      <th>exon:chr10:102698352-102698493:+@exon:chr10:102703783-102703885:+@exon:chr10:102705087-102705263:+@exon:chr10:102706796-102706893:+</th>\n",
       "      <th>exon:chr10:102746847-102746953:-@exon:chr10:102746444-102746732:-@exon:chr10:102743705-102743831:-@exon:chr10:102743512-102743574:-</th>\n",
       "      <th>exon:chr10:102746847-102746953:-@exon:chr10:102746506-102746732:-@exon:chr10:102743705-102743831:-@exon:chr10:102743512-102743574:-</th>\n",
       "      <th>...</th>\n",
       "      <th>exon:chrY:2713687-2713784:+@exon:chrY:2722641-2722812:+@exon:chrY:2733129-2733286:+</th>\n",
       "      <th>exon:chrY:2713687-2713784:+@exon:chrY:2722641-2722812:+@exon:chrY:2734834-2735309:+</th>\n",
       "      <th>exon:chrY:2713687-2713784:+@exon:chrY:2733129-2733286:+@exon:chrY:2734834-2735309:+</th>\n",
       "      <th>exon:chrY:2722641-2722812:+@exon:chrY:2733129-2733286:+@exon:chrY:2734834-2734903:+</th>\n",
       "      <th>exon:chrY:2803322-2803487:+@exon:chrY:2821950-2822038:+@exon:chrY:2829115-2829687:+</th>\n",
       "      <th>exon:chrY:2803322-2803487:+@exon:chrY:2821950-2822038:+@exon:chrY:2843136-2843285:+</th>\n",
       "      <th>exon:chrY:2803546-2803810:+@exon:chrY:2821950-2822038:+@exon:chrY:2829115-2829327:+</th>\n",
       "      <th>exon:chrY:2821950-2822038:+@exon:chrY:2829115-2829687:+@exon:chrY:2843136-2843285:+</th>\n",
       "      <th>exon:chrY:2843552-2843695:+@exon:chrY:2844711-2844863:+@exon:chrY:2845981-2846121:+</th>\n",
       "      <th>exon:chrY:7193947-7194210:+@exon:chrY:7209156-7209275:+@exon:chrY:7224176-7224271:+</th>\n",
       "    </tr>\n",
       "  </thead>\n",
       "  <tbody>\n",
       "    <tr>\n",
       "      <th>CVN_01</th>\n",
       "      <td>NaN</td>\n",
       "      <td>NaN</td>\n",
       "      <td>NaN</td>\n",
       "      <td>NaN</td>\n",
       "      <td>NaN</td>\n",
       "      <td>NaN</td>\n",
       "      <td>NaN</td>\n",
       "      <td>NaN</td>\n",
       "      <td>NaN</td>\n",
       "      <td>NaN</td>\n",
       "      <td>...</td>\n",
       "      <td>1</td>\n",
       "      <td>NaN</td>\n",
       "      <td>NaN</td>\n",
       "      <td>1</td>\n",
       "      <td>NaN</td>\n",
       "      <td>NaN</td>\n",
       "      <td>NaN</td>\n",
       "      <td>NaN</td>\n",
       "      <td>NaN</td>\n",
       "      <td>NaN</td>\n",
       "    </tr>\n",
       "    <tr>\n",
       "      <th>CVN_02</th>\n",
       "      <td>NaN</td>\n",
       "      <td>NaN</td>\n",
       "      <td>NaN</td>\n",
       "      <td>NaN</td>\n",
       "      <td>NaN</td>\n",
       "      <td>NaN</td>\n",
       "      <td>NaN</td>\n",
       "      <td>NaN</td>\n",
       "      <td>NaN</td>\n",
       "      <td>NaN</td>\n",
       "      <td>...</td>\n",
       "      <td>NaN</td>\n",
       "      <td>NaN</td>\n",
       "      <td>NaN</td>\n",
       "      <td>NaN</td>\n",
       "      <td>NaN</td>\n",
       "      <td>NaN</td>\n",
       "      <td>NaN</td>\n",
       "      <td>NaN</td>\n",
       "      <td>NaN</td>\n",
       "      <td>NaN</td>\n",
       "    </tr>\n",
       "    <tr>\n",
       "      <th>CVN_03</th>\n",
       "      <td>NaN</td>\n",
       "      <td>NaN</td>\n",
       "      <td>NaN</td>\n",
       "      <td>NaN</td>\n",
       "      <td>NaN</td>\n",
       "      <td>NaN</td>\n",
       "      <td>NaN</td>\n",
       "      <td>NaN</td>\n",
       "      <td>NaN</td>\n",
       "      <td>NaN</td>\n",
       "      <td>...</td>\n",
       "      <td>NaN</td>\n",
       "      <td>NaN</td>\n",
       "      <td>NaN</td>\n",
       "      <td>NaN</td>\n",
       "      <td>NaN</td>\n",
       "      <td>NaN</td>\n",
       "      <td>NaN</td>\n",
       "      <td>NaN</td>\n",
       "      <td>NaN</td>\n",
       "      <td>NaN</td>\n",
       "    </tr>\n",
       "    <tr>\n",
       "      <th>CVN_04</th>\n",
       "      <td>NaN</td>\n",
       "      <td>NaN</td>\n",
       "      <td>NaN</td>\n",
       "      <td>NaN</td>\n",
       "      <td>NaN</td>\n",
       "      <td>NaN</td>\n",
       "      <td>NaN</td>\n",
       "      <td>NaN</td>\n",
       "      <td>NaN</td>\n",
       "      <td>NaN</td>\n",
       "      <td>...</td>\n",
       "      <td>1</td>\n",
       "      <td>NaN</td>\n",
       "      <td>NaN</td>\n",
       "      <td>1</td>\n",
       "      <td>NaN</td>\n",
       "      <td>NaN</td>\n",
       "      <td>NaN</td>\n",
       "      <td>NaN</td>\n",
       "      <td>NaN</td>\n",
       "      <td>NaN</td>\n",
       "    </tr>\n",
       "    <tr>\n",
       "      <th>CVN_05</th>\n",
       "      <td>NaN</td>\n",
       "      <td>NaN</td>\n",
       "      <td>NaN</td>\n",
       "      <td>NaN</td>\n",
       "      <td>NaN</td>\n",
       "      <td>NaN</td>\n",
       "      <td>NaN</td>\n",
       "      <td>NaN</td>\n",
       "      <td>NaN</td>\n",
       "      <td>NaN</td>\n",
       "      <td>...</td>\n",
       "      <td>1</td>\n",
       "      <td>NaN</td>\n",
       "      <td>NaN</td>\n",
       "      <td>1</td>\n",
       "      <td>NaN</td>\n",
       "      <td>NaN</td>\n",
       "      <td>NaN</td>\n",
       "      <td>NaN</td>\n",
       "      <td>NaN</td>\n",
       "      <td>NaN</td>\n",
       "    </tr>\n",
       "  </tbody>\n",
       "</table>\n",
       "<p>5 rows × 43903 columns</p>\n",
       "</div>"
      ],
      "text/plain": [
       "        exon:chr10:102003455-102003534:-@exon:chr10:101997779-101997988:-@exon:chr10:101996607-101996726:-@exon:chr10:101995424-101995521:-  \\\n",
       "CVN_01                                                NaN                                                                                     \n",
       "CVN_02                                                NaN                                                                                     \n",
       "CVN_03                                                NaN                                                                                     \n",
       "CVN_04                                                NaN                                                                                     \n",
       "CVN_05                                                NaN                                                                                     \n",
       "\n",
       "        exon:chr10:102013178-102013296:-@exon:chr10:102010005-102010089:-@exon:chr10:102003455-102003534:-@exon:chr10:101997940-101997988:-  \\\n",
       "CVN_01                                                NaN                                                                                     \n",
       "CVN_02                                                NaN                                                                                     \n",
       "CVN_03                                                NaN                                                                                     \n",
       "CVN_04                                                NaN                                                                                     \n",
       "CVN_05                                                NaN                                                                                     \n",
       "\n",
       "        exon:chr10:102020723-102020801:-@exon:chr10:102019975-102020076:-@exon:chr10:102016019-102016233:-@exon:chr10:102013178-102013296:-  \\\n",
       "CVN_01                                                NaN                                                                                     \n",
       "CVN_02                                                NaN                                                                                     \n",
       "CVN_03                                                NaN                                                                                     \n",
       "CVN_04                                                NaN                                                                                     \n",
       "CVN_05                                                NaN                                                                                     \n",
       "\n",
       "        exon:chr10:102021736-102021820:-@exon:chr10:102019975-102020076:-@exon:chr10:102016019-102016233:-@exon:chr10:102013178-102013296:-  \\\n",
       "CVN_01                                                NaN                                                                                     \n",
       "CVN_02                                                NaN                                                                                     \n",
       "CVN_03                                                NaN                                                                                     \n",
       "CVN_04                                                NaN                                                                                     \n",
       "CVN_05                                                NaN                                                                                     \n",
       "\n",
       "        exon:chr10:102021736-102021820:-@exon:chr10:102020723-102020785:-@exon:chr10:102016019-102016233:-@exon:chr10:102013178-102013296:-  \\\n",
       "CVN_01                                                NaN                                                                                     \n",
       "CVN_02                                                NaN                                                                                     \n",
       "CVN_03                                                NaN                                                                                     \n",
       "CVN_04                                                NaN                                                                                     \n",
       "CVN_05                                                NaN                                                                                     \n",
       "\n",
       "        exon:chr10:102021736-102021820:-@exon:chr10:102020723-102020801:-@exon:chr10:102016019-102016233:-@exon:chr10:102013178-102013296:-  \\\n",
       "CVN_01                                                NaN                                                                                     \n",
       "CVN_02                                                NaN                                                                                     \n",
       "CVN_03                                                NaN                                                                                     \n",
       "CVN_04                                                NaN                                                                                     \n",
       "CVN_05                                                NaN                                                                                     \n",
       "\n",
       "        exon:chr10:102021736-102021820:-@exon:chr10:102020723-102020801:-@exon:chr10:102019975-102020076:-@exon:chr10:102013178-102013296:-  \\\n",
       "CVN_01                                                NaN                                                                                     \n",
       "CVN_02                                                NaN                                                                                     \n",
       "CVN_03                                                NaN                                                                                     \n",
       "CVN_04                                                NaN                                                                                     \n",
       "CVN_05                                                NaN                                                                                     \n",
       "\n",
       "        exon:chr10:102698352-102698493:+@exon:chr10:102703783-102703885:+@exon:chr10:102705087-102705263:+@exon:chr10:102706796-102706893:+  \\\n",
       "CVN_01                                                NaN                                                                                     \n",
       "CVN_02                                                NaN                                                                                     \n",
       "CVN_03                                                NaN                                                                                     \n",
       "CVN_04                                                NaN                                                                                     \n",
       "CVN_05                                                NaN                                                                                     \n",
       "\n",
       "        exon:chr10:102746847-102746953:-@exon:chr10:102746444-102746732:-@exon:chr10:102743705-102743831:-@exon:chr10:102743512-102743574:-  \\\n",
       "CVN_01                                                NaN                                                                                     \n",
       "CVN_02                                                NaN                                                                                     \n",
       "CVN_03                                                NaN                                                                                     \n",
       "CVN_04                                                NaN                                                                                     \n",
       "CVN_05                                                NaN                                                                                     \n",
       "\n",
       "        exon:chr10:102746847-102746953:-@exon:chr10:102746506-102746732:-@exon:chr10:102743705-102743831:-@exon:chr10:102743512-102743574:-  \\\n",
       "CVN_01                                                NaN                                                                                     \n",
       "CVN_02                                                NaN                                                                                     \n",
       "CVN_03                                                NaN                                                                                     \n",
       "CVN_04                                                NaN                                                                                     \n",
       "CVN_05                                                NaN                                                                                     \n",
       "\n",
       "                                               ...                                           \\\n",
       "CVN_01                                         ...                                            \n",
       "CVN_02                                         ...                                            \n",
       "CVN_03                                         ...                                            \n",
       "CVN_04                                         ...                                            \n",
       "CVN_05                                         ...                                            \n",
       "\n",
       "        exon:chrY:2713687-2713784:+@exon:chrY:2722641-2722812:+@exon:chrY:2733129-2733286:+  \\\n",
       "CVN_01                                                  1                                     \n",
       "CVN_02                                                NaN                                     \n",
       "CVN_03                                                NaN                                     \n",
       "CVN_04                                                  1                                     \n",
       "CVN_05                                                  1                                     \n",
       "\n",
       "        exon:chrY:2713687-2713784:+@exon:chrY:2722641-2722812:+@exon:chrY:2734834-2735309:+  \\\n",
       "CVN_01                                                NaN                                     \n",
       "CVN_02                                                NaN                                     \n",
       "CVN_03                                                NaN                                     \n",
       "CVN_04                                                NaN                                     \n",
       "CVN_05                                                NaN                                     \n",
       "\n",
       "        exon:chrY:2713687-2713784:+@exon:chrY:2733129-2733286:+@exon:chrY:2734834-2735309:+  \\\n",
       "CVN_01                                                NaN                                     \n",
       "CVN_02                                                NaN                                     \n",
       "CVN_03                                                NaN                                     \n",
       "CVN_04                                                NaN                                     \n",
       "CVN_05                                                NaN                                     \n",
       "\n",
       "        exon:chrY:2722641-2722812:+@exon:chrY:2733129-2733286:+@exon:chrY:2734834-2734903:+  \\\n",
       "CVN_01                                                  1                                     \n",
       "CVN_02                                                NaN                                     \n",
       "CVN_03                                                NaN                                     \n",
       "CVN_04                                                  1                                     \n",
       "CVN_05                                                  1                                     \n",
       "\n",
       "        exon:chrY:2803322-2803487:+@exon:chrY:2821950-2822038:+@exon:chrY:2829115-2829687:+  \\\n",
       "CVN_01                                                NaN                                     \n",
       "CVN_02                                                NaN                                     \n",
       "CVN_03                                                NaN                                     \n",
       "CVN_04                                                NaN                                     \n",
       "CVN_05                                                NaN                                     \n",
       "\n",
       "        exon:chrY:2803322-2803487:+@exon:chrY:2821950-2822038:+@exon:chrY:2843136-2843285:+  \\\n",
       "CVN_01                                                NaN                                     \n",
       "CVN_02                                                NaN                                     \n",
       "CVN_03                                                NaN                                     \n",
       "CVN_04                                                NaN                                     \n",
       "CVN_05                                                NaN                                     \n",
       "\n",
       "        exon:chrY:2803546-2803810:+@exon:chrY:2821950-2822038:+@exon:chrY:2829115-2829327:+  \\\n",
       "CVN_01                                                NaN                                     \n",
       "CVN_02                                                NaN                                     \n",
       "CVN_03                                                NaN                                     \n",
       "CVN_04                                                NaN                                     \n",
       "CVN_05                                                NaN                                     \n",
       "\n",
       "        exon:chrY:2821950-2822038:+@exon:chrY:2829115-2829687:+@exon:chrY:2843136-2843285:+  \\\n",
       "CVN_01                                                NaN                                     \n",
       "CVN_02                                                NaN                                     \n",
       "CVN_03                                                NaN                                     \n",
       "CVN_04                                                NaN                                     \n",
       "CVN_05                                                NaN                                     \n",
       "\n",
       "        exon:chrY:2843552-2843695:+@exon:chrY:2844711-2844863:+@exon:chrY:2845981-2846121:+  \\\n",
       "CVN_01                                                NaN                                     \n",
       "CVN_02                                                NaN                                     \n",
       "CVN_03                                                NaN                                     \n",
       "CVN_04                                                NaN                                     \n",
       "CVN_05                                                NaN                                     \n",
       "\n",
       "        exon:chrY:7193947-7194210:+@exon:chrY:7209156-7209275:+@exon:chrY:7224176-7224271:+  \n",
       "CVN_01                                                NaN                                    \n",
       "CVN_02                                                NaN                                    \n",
       "CVN_03                                                NaN                                    \n",
       "CVN_04                                                NaN                                    \n",
       "CVN_05                                                NaN                                    \n",
       "\n",
       "[5 rows x 43903 columns]"
      ]
     },
     "execution_count": 77,
     "metadata": {},
     "output_type": "execute_result"
    }
   ],
   "source": [
    "psi = pd.concat([mxe, se], axis=1)\n",
    "six.print_(psi.shape)\n",
    "psi.head()"
   ]
  },
  {
   "cell_type": "code",
   "execution_count": 78,
   "metadata": {
    "collapsed": true
   },
   "outputs": [],
   "source": [
    "psi.to_csv('{}/psi.csv'.format(outrigger_folder))"
   ]
  },
  {
   "cell_type": "code",
   "execution_count": 87,
   "metadata": {
    "collapsed": false
   },
   "outputs": [
    {
     "name": "stdout",
     "output_type": "stream",
     "text": [
      "splicing.shape (242, 43903)\n"
     ]
    }
   ],
   "source": [
    "splicing = pd.read_csv('{}/psi.csv'.format(outrigger_folder), index_col=0)\n",
    "six.print_('splicing.shape', splicing.shape)"
   ]
  },
  {
   "cell_type": "code",
   "execution_count": 88,
   "metadata": {
    "collapsed": false
   },
   "outputs": [
    {
     "data": {
      "text/plain": [
       "False"
      ]
     },
     "execution_count": 88,
     "metadata": {},
     "output_type": "execute_result"
    }
   ],
   "source": [
    "'exon:chr10:102286732-102286831:-@exon:chr10:102286156-102286311:-@exon:chr10:102283497-102283686:-' in splicing"
   ]
  },
  {
   "cell_type": "code",
   "execution_count": 89,
   "metadata": {
    "collapsed": false
   },
   "outputs": [
    {
     "data": {
      "text/plain": [
       "False"
      ]
     },
     "execution_count": 89,
     "metadata": {},
     "output_type": "execute_result"
    }
   ],
   "source": [
    "'exon:chr10:102286732-102286831:-@exon:chr10:102286156-102286311:-@exon:chr10:102283497-102283686:-' in splicing_feature_data.index"
   ]
  },
  {
   "cell_type": "code",
   "execution_count": 90,
   "metadata": {
    "collapsed": true
   },
   "outputs": [],
   "source": [
    "bed_folder = '/projects/ps-yeolab/obotvinnik/singlecell_pnms/bed'"
   ]
  },
  {
   "cell_type": "code",
   "execution_count": 91,
   "metadata": {
    "collapsed": false
   },
   "outputs": [],
   "source": [
    "# junction_exons = pd.read_csv('{}/junction_exon_triples.csv'.format(folder))\n",
    "# print junction_exons.shape\n",
    "# junction_exons.head()"
   ]
  },
  {
   "cell_type": "markdown",
   "metadata": {},
   "source": [
    "## Get exon2 from SE and MXE events\n",
    "\n",
    "The `splicing` matrix includes both SE and MXE events. The second exon in each of them is \"exon2\", or the exon which is included when Psi=1."
   ]
  },
  {
   "cell_type": "code",
   "execution_count": 92,
   "metadata": {
    "collapsed": false
   },
   "outputs": [
    {
     "data": {
      "text/html": [
       "<div>\n",
       "<table border=\"1\" class=\"dataframe\">\n",
       "  <thead>\n",
       "    <tr style=\"text-align: right;\">\n",
       "      <th></th>\n",
       "      <th>exon:chr10:102003455-102003534:-@exon:chr10:101997779-101997988:-@exon:chr10:101996607-101996726:-@exon:chr10:101995424-101995521:-</th>\n",
       "      <th>exon:chr10:102013178-102013296:-@exon:chr10:102010005-102010089:-@exon:chr10:102003455-102003534:-@exon:chr10:101997940-101997988:-</th>\n",
       "      <th>exon:chr10:102020723-102020801:-@exon:chr10:102019975-102020076:-@exon:chr10:102016019-102016233:-@exon:chr10:102013178-102013296:-</th>\n",
       "      <th>exon:chr10:102021736-102021820:-@exon:chr10:102019975-102020076:-@exon:chr10:102016019-102016233:-@exon:chr10:102013178-102013296:-</th>\n",
       "      <th>exon:chr10:102021736-102021820:-@exon:chr10:102020723-102020785:-@exon:chr10:102016019-102016233:-@exon:chr10:102013178-102013296:-</th>\n",
       "      <th>exon:chr10:102021736-102021820:-@exon:chr10:102020723-102020801:-@exon:chr10:102016019-102016233:-@exon:chr10:102013178-102013296:-</th>\n",
       "      <th>exon:chr10:102021736-102021820:-@exon:chr10:102020723-102020801:-@exon:chr10:102019975-102020076:-@exon:chr10:102013178-102013296:-</th>\n",
       "      <th>exon:chr10:102698352-102698493:+@exon:chr10:102703783-102703885:+@exon:chr10:102705087-102705263:+@exon:chr10:102706796-102706893:+</th>\n",
       "      <th>exon:chr10:102746847-102746953:-@exon:chr10:102746444-102746732:-@exon:chr10:102743705-102743831:-@exon:chr10:102743512-102743574:-</th>\n",
       "      <th>exon:chr10:102746847-102746953:-@exon:chr10:102746506-102746732:-@exon:chr10:102743705-102743831:-@exon:chr10:102743512-102743574:-</th>\n",
       "      <th>...</th>\n",
       "      <th>exon:chrY:2713687-2713784:+@exon:chrY:2722641-2722812:+@exon:chrY:2733129-2733286:+</th>\n",
       "      <th>exon:chrY:2713687-2713784:+@exon:chrY:2722641-2722812:+@exon:chrY:2734834-2735309:+</th>\n",
       "      <th>exon:chrY:2713687-2713784:+@exon:chrY:2733129-2733286:+@exon:chrY:2734834-2735309:+</th>\n",
       "      <th>exon:chrY:2722641-2722812:+@exon:chrY:2733129-2733286:+@exon:chrY:2734834-2734903:+</th>\n",
       "      <th>exon:chrY:2803322-2803487:+@exon:chrY:2821950-2822038:+@exon:chrY:2829115-2829687:+</th>\n",
       "      <th>exon:chrY:2803322-2803487:+@exon:chrY:2821950-2822038:+@exon:chrY:2843136-2843285:+</th>\n",
       "      <th>exon:chrY:2803546-2803810:+@exon:chrY:2821950-2822038:+@exon:chrY:2829115-2829327:+</th>\n",
       "      <th>exon:chrY:2821950-2822038:+@exon:chrY:2829115-2829687:+@exon:chrY:2843136-2843285:+</th>\n",
       "      <th>exon:chrY:2843552-2843695:+@exon:chrY:2844711-2844863:+@exon:chrY:2845981-2846121:+</th>\n",
       "      <th>exon:chrY:7193947-7194210:+@exon:chrY:7209156-7209275:+@exon:chrY:7224176-7224271:+</th>\n",
       "    </tr>\n",
       "  </thead>\n",
       "  <tbody>\n",
       "    <tr>\n",
       "      <th>CVN_01</th>\n",
       "      <td>NaN</td>\n",
       "      <td>NaN</td>\n",
       "      <td>NaN</td>\n",
       "      <td>NaN</td>\n",
       "      <td>NaN</td>\n",
       "      <td>NaN</td>\n",
       "      <td>NaN</td>\n",
       "      <td>NaN</td>\n",
       "      <td>NaN</td>\n",
       "      <td>NaN</td>\n",
       "      <td>...</td>\n",
       "      <td>1</td>\n",
       "      <td>NaN</td>\n",
       "      <td>NaN</td>\n",
       "      <td>1</td>\n",
       "      <td>NaN</td>\n",
       "      <td>NaN</td>\n",
       "      <td>NaN</td>\n",
       "      <td>NaN</td>\n",
       "      <td>NaN</td>\n",
       "      <td>NaN</td>\n",
       "    </tr>\n",
       "    <tr>\n",
       "      <th>CVN_02</th>\n",
       "      <td>NaN</td>\n",
       "      <td>NaN</td>\n",
       "      <td>NaN</td>\n",
       "      <td>NaN</td>\n",
       "      <td>NaN</td>\n",
       "      <td>NaN</td>\n",
       "      <td>NaN</td>\n",
       "      <td>NaN</td>\n",
       "      <td>NaN</td>\n",
       "      <td>NaN</td>\n",
       "      <td>...</td>\n",
       "      <td>NaN</td>\n",
       "      <td>NaN</td>\n",
       "      <td>NaN</td>\n",
       "      <td>NaN</td>\n",
       "      <td>NaN</td>\n",
       "      <td>NaN</td>\n",
       "      <td>NaN</td>\n",
       "      <td>NaN</td>\n",
       "      <td>NaN</td>\n",
       "      <td>NaN</td>\n",
       "    </tr>\n",
       "    <tr>\n",
       "      <th>CVN_03</th>\n",
       "      <td>NaN</td>\n",
       "      <td>NaN</td>\n",
       "      <td>NaN</td>\n",
       "      <td>NaN</td>\n",
       "      <td>NaN</td>\n",
       "      <td>NaN</td>\n",
       "      <td>NaN</td>\n",
       "      <td>NaN</td>\n",
       "      <td>NaN</td>\n",
       "      <td>NaN</td>\n",
       "      <td>...</td>\n",
       "      <td>NaN</td>\n",
       "      <td>NaN</td>\n",
       "      <td>NaN</td>\n",
       "      <td>NaN</td>\n",
       "      <td>NaN</td>\n",
       "      <td>NaN</td>\n",
       "      <td>NaN</td>\n",
       "      <td>NaN</td>\n",
       "      <td>NaN</td>\n",
       "      <td>NaN</td>\n",
       "    </tr>\n",
       "    <tr>\n",
       "      <th>CVN_04</th>\n",
       "      <td>NaN</td>\n",
       "      <td>NaN</td>\n",
       "      <td>NaN</td>\n",
       "      <td>NaN</td>\n",
       "      <td>NaN</td>\n",
       "      <td>NaN</td>\n",
       "      <td>NaN</td>\n",
       "      <td>NaN</td>\n",
       "      <td>NaN</td>\n",
       "      <td>NaN</td>\n",
       "      <td>...</td>\n",
       "      <td>1</td>\n",
       "      <td>NaN</td>\n",
       "      <td>NaN</td>\n",
       "      <td>1</td>\n",
       "      <td>NaN</td>\n",
       "      <td>NaN</td>\n",
       "      <td>NaN</td>\n",
       "      <td>NaN</td>\n",
       "      <td>NaN</td>\n",
       "      <td>NaN</td>\n",
       "    </tr>\n",
       "    <tr>\n",
       "      <th>CVN_05</th>\n",
       "      <td>NaN</td>\n",
       "      <td>NaN</td>\n",
       "      <td>NaN</td>\n",
       "      <td>NaN</td>\n",
       "      <td>NaN</td>\n",
       "      <td>NaN</td>\n",
       "      <td>NaN</td>\n",
       "      <td>NaN</td>\n",
       "      <td>NaN</td>\n",
       "      <td>NaN</td>\n",
       "      <td>...</td>\n",
       "      <td>1</td>\n",
       "      <td>NaN</td>\n",
       "      <td>NaN</td>\n",
       "      <td>1</td>\n",
       "      <td>NaN</td>\n",
       "      <td>NaN</td>\n",
       "      <td>NaN</td>\n",
       "      <td>NaN</td>\n",
       "      <td>NaN</td>\n",
       "      <td>NaN</td>\n",
       "    </tr>\n",
       "  </tbody>\n",
       "</table>\n",
       "<p>5 rows × 43903 columns</p>\n",
       "</div>"
      ],
      "text/plain": [
       "        exon:chr10:102003455-102003534:-@exon:chr10:101997779-101997988:-@exon:chr10:101996607-101996726:-@exon:chr10:101995424-101995521:-  \\\n",
       "CVN_01                                                NaN                                                                                     \n",
       "CVN_02                                                NaN                                                                                     \n",
       "CVN_03                                                NaN                                                                                     \n",
       "CVN_04                                                NaN                                                                                     \n",
       "CVN_05                                                NaN                                                                                     \n",
       "\n",
       "        exon:chr10:102013178-102013296:-@exon:chr10:102010005-102010089:-@exon:chr10:102003455-102003534:-@exon:chr10:101997940-101997988:-  \\\n",
       "CVN_01                                                NaN                                                                                     \n",
       "CVN_02                                                NaN                                                                                     \n",
       "CVN_03                                                NaN                                                                                     \n",
       "CVN_04                                                NaN                                                                                     \n",
       "CVN_05                                                NaN                                                                                     \n",
       "\n",
       "        exon:chr10:102020723-102020801:-@exon:chr10:102019975-102020076:-@exon:chr10:102016019-102016233:-@exon:chr10:102013178-102013296:-  \\\n",
       "CVN_01                                                NaN                                                                                     \n",
       "CVN_02                                                NaN                                                                                     \n",
       "CVN_03                                                NaN                                                                                     \n",
       "CVN_04                                                NaN                                                                                     \n",
       "CVN_05                                                NaN                                                                                     \n",
       "\n",
       "        exon:chr10:102021736-102021820:-@exon:chr10:102019975-102020076:-@exon:chr10:102016019-102016233:-@exon:chr10:102013178-102013296:-  \\\n",
       "CVN_01                                                NaN                                                                                     \n",
       "CVN_02                                                NaN                                                                                     \n",
       "CVN_03                                                NaN                                                                                     \n",
       "CVN_04                                                NaN                                                                                     \n",
       "CVN_05                                                NaN                                                                                     \n",
       "\n",
       "        exon:chr10:102021736-102021820:-@exon:chr10:102020723-102020785:-@exon:chr10:102016019-102016233:-@exon:chr10:102013178-102013296:-  \\\n",
       "CVN_01                                                NaN                                                                                     \n",
       "CVN_02                                                NaN                                                                                     \n",
       "CVN_03                                                NaN                                                                                     \n",
       "CVN_04                                                NaN                                                                                     \n",
       "CVN_05                                                NaN                                                                                     \n",
       "\n",
       "        exon:chr10:102021736-102021820:-@exon:chr10:102020723-102020801:-@exon:chr10:102016019-102016233:-@exon:chr10:102013178-102013296:-  \\\n",
       "CVN_01                                                NaN                                                                                     \n",
       "CVN_02                                                NaN                                                                                     \n",
       "CVN_03                                                NaN                                                                                     \n",
       "CVN_04                                                NaN                                                                                     \n",
       "CVN_05                                                NaN                                                                                     \n",
       "\n",
       "        exon:chr10:102021736-102021820:-@exon:chr10:102020723-102020801:-@exon:chr10:102019975-102020076:-@exon:chr10:102013178-102013296:-  \\\n",
       "CVN_01                                                NaN                                                                                     \n",
       "CVN_02                                                NaN                                                                                     \n",
       "CVN_03                                                NaN                                                                                     \n",
       "CVN_04                                                NaN                                                                                     \n",
       "CVN_05                                                NaN                                                                                     \n",
       "\n",
       "        exon:chr10:102698352-102698493:+@exon:chr10:102703783-102703885:+@exon:chr10:102705087-102705263:+@exon:chr10:102706796-102706893:+  \\\n",
       "CVN_01                                                NaN                                                                                     \n",
       "CVN_02                                                NaN                                                                                     \n",
       "CVN_03                                                NaN                                                                                     \n",
       "CVN_04                                                NaN                                                                                     \n",
       "CVN_05                                                NaN                                                                                     \n",
       "\n",
       "        exon:chr10:102746847-102746953:-@exon:chr10:102746444-102746732:-@exon:chr10:102743705-102743831:-@exon:chr10:102743512-102743574:-  \\\n",
       "CVN_01                                                NaN                                                                                     \n",
       "CVN_02                                                NaN                                                                                     \n",
       "CVN_03                                                NaN                                                                                     \n",
       "CVN_04                                                NaN                                                                                     \n",
       "CVN_05                                                NaN                                                                                     \n",
       "\n",
       "        exon:chr10:102746847-102746953:-@exon:chr10:102746506-102746732:-@exon:chr10:102743705-102743831:-@exon:chr10:102743512-102743574:-  \\\n",
       "CVN_01                                                NaN                                                                                     \n",
       "CVN_02                                                NaN                                                                                     \n",
       "CVN_03                                                NaN                                                                                     \n",
       "CVN_04                                                NaN                                                                                     \n",
       "CVN_05                                                NaN                                                                                     \n",
       "\n",
       "                                               ...                                           \\\n",
       "CVN_01                                         ...                                            \n",
       "CVN_02                                         ...                                            \n",
       "CVN_03                                         ...                                            \n",
       "CVN_04                                         ...                                            \n",
       "CVN_05                                         ...                                            \n",
       "\n",
       "        exon:chrY:2713687-2713784:+@exon:chrY:2722641-2722812:+@exon:chrY:2733129-2733286:+  \\\n",
       "CVN_01                                                  1                                     \n",
       "CVN_02                                                NaN                                     \n",
       "CVN_03                                                NaN                                     \n",
       "CVN_04                                                  1                                     \n",
       "CVN_05                                                  1                                     \n",
       "\n",
       "        exon:chrY:2713687-2713784:+@exon:chrY:2722641-2722812:+@exon:chrY:2734834-2735309:+  \\\n",
       "CVN_01                                                NaN                                     \n",
       "CVN_02                                                NaN                                     \n",
       "CVN_03                                                NaN                                     \n",
       "CVN_04                                                NaN                                     \n",
       "CVN_05                                                NaN                                     \n",
       "\n",
       "        exon:chrY:2713687-2713784:+@exon:chrY:2733129-2733286:+@exon:chrY:2734834-2735309:+  \\\n",
       "CVN_01                                                NaN                                     \n",
       "CVN_02                                                NaN                                     \n",
       "CVN_03                                                NaN                                     \n",
       "CVN_04                                                NaN                                     \n",
       "CVN_05                                                NaN                                     \n",
       "\n",
       "        exon:chrY:2722641-2722812:+@exon:chrY:2733129-2733286:+@exon:chrY:2734834-2734903:+  \\\n",
       "CVN_01                                                  1                                     \n",
       "CVN_02                                                NaN                                     \n",
       "CVN_03                                                NaN                                     \n",
       "CVN_04                                                  1                                     \n",
       "CVN_05                                                  1                                     \n",
       "\n",
       "        exon:chrY:2803322-2803487:+@exon:chrY:2821950-2822038:+@exon:chrY:2829115-2829687:+  \\\n",
       "CVN_01                                                NaN                                     \n",
       "CVN_02                                                NaN                                     \n",
       "CVN_03                                                NaN                                     \n",
       "CVN_04                                                NaN                                     \n",
       "CVN_05                                                NaN                                     \n",
       "\n",
       "        exon:chrY:2803322-2803487:+@exon:chrY:2821950-2822038:+@exon:chrY:2843136-2843285:+  \\\n",
       "CVN_01                                                NaN                                     \n",
       "CVN_02                                                NaN                                     \n",
       "CVN_03                                                NaN                                     \n",
       "CVN_04                                                NaN                                     \n",
       "CVN_05                                                NaN                                     \n",
       "\n",
       "        exon:chrY:2803546-2803810:+@exon:chrY:2821950-2822038:+@exon:chrY:2829115-2829327:+  \\\n",
       "CVN_01                                                NaN                                     \n",
       "CVN_02                                                NaN                                     \n",
       "CVN_03                                                NaN                                     \n",
       "CVN_04                                                NaN                                     \n",
       "CVN_05                                                NaN                                     \n",
       "\n",
       "        exon:chrY:2821950-2822038:+@exon:chrY:2829115-2829687:+@exon:chrY:2843136-2843285:+  \\\n",
       "CVN_01                                                NaN                                     \n",
       "CVN_02                                                NaN                                     \n",
       "CVN_03                                                NaN                                     \n",
       "CVN_04                                                NaN                                     \n",
       "CVN_05                                                NaN                                     \n",
       "\n",
       "        exon:chrY:2843552-2843695:+@exon:chrY:2844711-2844863:+@exon:chrY:2845981-2846121:+  \\\n",
       "CVN_01                                                NaN                                     \n",
       "CVN_02                                                NaN                                     \n",
       "CVN_03                                                NaN                                     \n",
       "CVN_04                                                NaN                                     \n",
       "CVN_05                                                NaN                                     \n",
       "\n",
       "        exon:chrY:7193947-7194210:+@exon:chrY:7209156-7209275:+@exon:chrY:7224176-7224271:+  \n",
       "CVN_01                                                NaN                                    \n",
       "CVN_02                                                NaN                                    \n",
       "CVN_03                                                NaN                                    \n",
       "CVN_04                                                NaN                                    \n",
       "CVN_05                                                NaN                                    \n",
       "\n",
       "[5 rows x 43903 columns]"
      ]
     },
     "execution_count": 92,
     "metadata": {},
     "output_type": "execute_result"
    }
   ],
   "source": [
    "splicing.head()"
   ]
  },
  {
   "cell_type": "code",
   "execution_count": 93,
   "metadata": {
    "collapsed": false
   },
   "outputs": [
    {
     "data": {
      "text/plain": [
       "0    exon:chr10:101997779-101997988:-\n",
       "1    exon:chr10:102010005-102010089:-\n",
       "2    exon:chr10:102019975-102020076:-\n",
       "3    exon:chr10:102019975-102020076:-\n",
       "4    exon:chr10:102020723-102020785:-\n",
       "5    exon:chr10:102020723-102020801:-\n",
       "6    exon:chr10:102020723-102020801:-\n",
       "7    exon:chr10:102703783-102703885:+\n",
       "8    exon:chr10:102746444-102746732:-\n",
       "9    exon:chr10:102746506-102746732:-\n",
       "dtype: object"
      ]
     },
     "execution_count": 93,
     "metadata": {},
     "output_type": "execute_result"
    }
   ],
   "source": [
    "exon2s = pd.Series(splicing.columns.map(lambda x: x.split('@')[1]))\n",
    "len(exon2s)\n",
    "exon2s[:10]"
   ]
  },
  {
   "cell_type": "markdown",
   "metadata": {},
   "source": [
    "### Write Exon2 from SE and MXE to bed file"
   ]
  },
  {
   "cell_type": "code",
   "execution_count": 94,
   "metadata": {
    "collapsed": false
   },
   "outputs": [
    {
     "name": "stdout",
     "output_type": "stream",
     "text": [
      "(43903, 6)\n"
     ]
    },
    {
     "data": {
      "text/html": [
       "<div>\n",
       "<table border=\"1\" class=\"dataframe\">\n",
       "  <thead>\n",
       "    <tr style=\"text-align: right;\">\n",
       "      <th></th>\n",
       "      <th>chrom</th>\n",
       "      <th>start</th>\n",
       "      <th>stop</th>\n",
       "      <th>name</th>\n",
       "      <th>score</th>\n",
       "      <th>strand</th>\n",
       "    </tr>\n",
       "  </thead>\n",
       "  <tbody>\n",
       "    <tr>\n",
       "      <th>0</th>\n",
       "      <td>chr10</td>\n",
       "      <td>101997779</td>\n",
       "      <td>101997988</td>\n",
       "      <td>exon:chr10:102003455-102003534:-@exon:chr10:10...</td>\n",
       "      <td>1000</td>\n",
       "      <td>-</td>\n",
       "    </tr>\n",
       "    <tr>\n",
       "      <th>1</th>\n",
       "      <td>chr10</td>\n",
       "      <td>102010005</td>\n",
       "      <td>102010089</td>\n",
       "      <td>exon:chr10:102013178-102013296:-@exon:chr10:10...</td>\n",
       "      <td>1000</td>\n",
       "      <td>-</td>\n",
       "    </tr>\n",
       "    <tr>\n",
       "      <th>2</th>\n",
       "      <td>chr10</td>\n",
       "      <td>102019975</td>\n",
       "      <td>102020076</td>\n",
       "      <td>exon:chr10:102020723-102020801:-@exon:chr10:10...</td>\n",
       "      <td>1000</td>\n",
       "      <td>-</td>\n",
       "    </tr>\n",
       "    <tr>\n",
       "      <th>3</th>\n",
       "      <td>chr10</td>\n",
       "      <td>102019975</td>\n",
       "      <td>102020076</td>\n",
       "      <td>exon:chr10:102021736-102021820:-@exon:chr10:10...</td>\n",
       "      <td>1000</td>\n",
       "      <td>-</td>\n",
       "    </tr>\n",
       "    <tr>\n",
       "      <th>4</th>\n",
       "      <td>chr10</td>\n",
       "      <td>102020723</td>\n",
       "      <td>102020785</td>\n",
       "      <td>exon:chr10:102021736-102021820:-@exon:chr10:10...</td>\n",
       "      <td>1000</td>\n",
       "      <td>-</td>\n",
       "    </tr>\n",
       "  </tbody>\n",
       "</table>\n",
       "</div>"
      ],
      "text/plain": [
       "   chrom      start       stop  \\\n",
       "0  chr10  101997779  101997988   \n",
       "1  chr10  102010005  102010089   \n",
       "2  chr10  102019975  102020076   \n",
       "3  chr10  102019975  102020076   \n",
       "4  chr10  102020723  102020785   \n",
       "\n",
       "                                                name  score strand  \n",
       "0  exon:chr10:102003455-102003534:-@exon:chr10:10...   1000      -  \n",
       "1  exon:chr10:102013178-102013296:-@exon:chr10:10...   1000      -  \n",
       "2  exon:chr10:102020723-102020801:-@exon:chr10:10...   1000      -  \n",
       "3  exon:chr10:102021736-102021820:-@exon:chr10:10...   1000      -  \n",
       "4  exon:chr10:102021736-102021820:-@exon:chr10:10...   1000      -  "
      ]
     },
     "execution_count": 94,
     "metadata": {},
     "output_type": "execute_result"
    }
   ],
   "source": [
    "from outrigger.region import Region\n",
    "\n",
    "exon2_regions = exon2s.map(Region)\n",
    "\n",
    "exon2_bed = pd.DataFrame.from_records(exon2_regions.map(\n",
    "    lambda x: pd.Series(dict(chrom=x.chrom, start=x._start, stop=x._stop, strand=x.strand, score=1000))))\n",
    "\n",
    "exon2_bed['name'] = splicing.columns\n",
    "exon2_bed = exon2_bed.reindex(columns=['chrom', 'start', 'stop', 'name', 'score', 'strand'])\n",
    "\n",
    "print exon2_bed.shape\n",
    "exon2_bed.head()"
   ]
  },
  {
   "cell_type": "code",
   "execution_count": 95,
   "metadata": {
    "collapsed": true
   },
   "outputs": [],
   "source": [
    "event = 'exon:chr10:1043148-1043248:+@exon:chr10:1044943-1045035:+@exon:chr10:1046617-1046808:+'"
   ]
  },
  {
   "cell_type": "code",
   "execution_count": 96,
   "metadata": {
    "collapsed": false
   },
   "outputs": [
    {
     "data": {
      "text/plain": [
       "False"
      ]
     },
     "execution_count": 96,
     "metadata": {},
     "output_type": "execute_result"
    }
   ],
   "source": [
    "event in exon2_bed.name"
   ]
  },
  {
   "cell_type": "code",
   "execution_count": 97,
   "metadata": {
    "collapsed": true
   },
   "outputs": [],
   "source": [
    "exon2_bed.to_csv('{}/exons.bed'.format(alternative_feature_folder), index=False, header=False, sep='\\t')"
   ]
  },
  {
   "cell_type": "markdown",
   "metadata": {},
   "source": [
    "## Get constitutive exons\n",
    "\n",
    "### Use exons that are psi==1 in all celltypes"
   ]
  },
  {
   "cell_type": "code",
   "execution_count": 98,
   "metadata": {
    "collapsed": false
   },
   "outputs": [
    {
     "name": "stdout",
     "output_type": "stream",
     "text": [
      "constutitively1.shape (242, 9161)\n"
     ]
    },
    {
     "data": {
      "text/html": [
       "<div>\n",
       "<table border=\"1\" class=\"dataframe\">\n",
       "  <thead>\n",
       "    <tr style=\"text-align: right;\">\n",
       "      <th></th>\n",
       "      <th>exon:chr10:101979027-101979116:-@exon:chr10:101978765-101978889:-@exon:chr10:101978475-101978582:-</th>\n",
       "      <th>exon:chr10:102021736-102021820:-@exon:chr10:102020723-102020785:-@exon:chr10:102019975-102020076:-</th>\n",
       "      <th>exon:chr10:102021736-102021820:-@exon:chr10:102020723-102020801:-@exon:chr10:102019975-102020076:-</th>\n",
       "      <th>exon:chr10:102046362-102046430:-@exon:chr10:102045854-102045970:-@exon:chr10:102040691-102040810:-</th>\n",
       "      <th>exon:chr10:102046362-102046469:-@exon:chr10:102045854-102046089:-@exon:chr10:102040691-102040810:-</th>\n",
       "      <th>exon:chr10:103344359-103344676:-@exon:chr10:103343265-103343438:-@exon:chr10:103342520-103342648:-</th>\n",
       "      <th>exon:chr10:103347003-103347883:-@exon:chr10:103343265-103343438:-@exon:chr10:103342520-103342648:-</th>\n",
       "      <th>exon:chr10:103345619-103345913:-@exon:chr10:103345073-103345235:-@exon:chr10:103344368-103344676:-</th>\n",
       "      <th>exon:chr10:103354459-103354495:+@exon:chr10:103360495-103360619:+@exon:chr10:103360960-103361093:+</th>\n",
       "      <th>exon:chr10:103432672-103432804:-@exon:chr10:103427643-103427737:-@exon:chr10:103384502-103384567:-</th>\n",
       "      <th>...</th>\n",
       "      <th>exon:chrX:80377034-80377171:-@exon:chrX:80375287-80375316:-@exon:chrX:80374229-80374279:-@exon:chrX:80373931-80373984:-</th>\n",
       "      <th>exon:chrX:85302488-85302543:-@exon:chrX:85282495-85282561:-@exon:chrX:85236741-85236813:-@exon:chrX:85233771-85233895:-</th>\n",
       "      <th>exon:chrX:99888402-99888536:-@exon:chrX:99887482-99887565:-@exon:chrX:99885756-99885863:-@exon:chrX:99883667-99884983:-</th>\n",
       "      <th>exon:chrY:14774284-14774637:+@exon:chrY:14776571-14776617:+@exon:chrY:14798442-14798535:+@exon:chrY:14821321-14821476:+</th>\n",
       "      <th>exon:chrY:14798442-14798535:+@exon:chrY:14802255-14802370:+@exon:chrY:14820567-14820626:+@exon:chrY:14821321-14821476:+</th>\n",
       "      <th>exon:chrY:15024920-15024974:+@exon:chrY:15025630-15025765:+@exon:chrY:15026476-15026561:+@exon:chrY:15026979-15027139:+</th>\n",
       "      <th>exon:chrY:15024875-15024974:+@exon:chrY:15025630-15025765:+@exon:chrY:15026796-15026894:+@exon:chrY:15026979-15027139:+</th>\n",
       "      <th>exon:chrY:2712118-2712298:+@exon:chrY:2713687-2713784:+@exon:chrY:2722641-2722812:+@exon:chrY:2734834-2734903:+</th>\n",
       "      <th>exon:chrY:2803112-2803487:+@exon:chrY:2821950-2822038:+@exon:chrY:2829115-2829687:+@exon:chrY:2843136-2843285:+</th>\n",
       "      <th>exon:chrY:2803518-2803810:+@exon:chrY:2821950-2822038:+@exon:chrY:2829115-2829687:+@exon:chrY:2843136-2843285:+</th>\n",
       "    </tr>\n",
       "  </thead>\n",
       "  <tbody>\n",
       "    <tr>\n",
       "      <th>CVN_01</th>\n",
       "      <td>NaN</td>\n",
       "      <td>NaN</td>\n",
       "      <td>NaN</td>\n",
       "      <td>1</td>\n",
       "      <td>NaN</td>\n",
       "      <td>NaN</td>\n",
       "      <td>NaN</td>\n",
       "      <td>NaN</td>\n",
       "      <td>1</td>\n",
       "      <td>NaN</td>\n",
       "      <td>...</td>\n",
       "      <td>NaN</td>\n",
       "      <td>NaN</td>\n",
       "      <td>NaN</td>\n",
       "      <td>NaN</td>\n",
       "      <td>NaN</td>\n",
       "      <td>NaN</td>\n",
       "      <td>NaN</td>\n",
       "      <td>NaN</td>\n",
       "      <td>NaN</td>\n",
       "      <td>NaN</td>\n",
       "    </tr>\n",
       "    <tr>\n",
       "      <th>CVN_02</th>\n",
       "      <td>NaN</td>\n",
       "      <td>NaN</td>\n",
       "      <td>NaN</td>\n",
       "      <td>NaN</td>\n",
       "      <td>NaN</td>\n",
       "      <td>NaN</td>\n",
       "      <td>NaN</td>\n",
       "      <td>NaN</td>\n",
       "      <td>1</td>\n",
       "      <td>NaN</td>\n",
       "      <td>...</td>\n",
       "      <td>NaN</td>\n",
       "      <td>NaN</td>\n",
       "      <td>NaN</td>\n",
       "      <td>NaN</td>\n",
       "      <td>NaN</td>\n",
       "      <td>NaN</td>\n",
       "      <td>NaN</td>\n",
       "      <td>NaN</td>\n",
       "      <td>NaN</td>\n",
       "      <td>NaN</td>\n",
       "    </tr>\n",
       "    <tr>\n",
       "      <th>CVN_03</th>\n",
       "      <td>NaN</td>\n",
       "      <td>NaN</td>\n",
       "      <td>NaN</td>\n",
       "      <td>1</td>\n",
       "      <td>NaN</td>\n",
       "      <td>NaN</td>\n",
       "      <td>NaN</td>\n",
       "      <td>NaN</td>\n",
       "      <td>1</td>\n",
       "      <td>NaN</td>\n",
       "      <td>...</td>\n",
       "      <td>NaN</td>\n",
       "      <td>NaN</td>\n",
       "      <td>NaN</td>\n",
       "      <td>NaN</td>\n",
       "      <td>NaN</td>\n",
       "      <td>NaN</td>\n",
       "      <td>NaN</td>\n",
       "      <td>NaN</td>\n",
       "      <td>NaN</td>\n",
       "      <td>NaN</td>\n",
       "    </tr>\n",
       "    <tr>\n",
       "      <th>CVN_04</th>\n",
       "      <td>NaN</td>\n",
       "      <td>NaN</td>\n",
       "      <td>NaN</td>\n",
       "      <td>NaN</td>\n",
       "      <td>NaN</td>\n",
       "      <td>NaN</td>\n",
       "      <td>NaN</td>\n",
       "      <td>NaN</td>\n",
       "      <td>1</td>\n",
       "      <td>NaN</td>\n",
       "      <td>...</td>\n",
       "      <td>NaN</td>\n",
       "      <td>NaN</td>\n",
       "      <td>NaN</td>\n",
       "      <td>NaN</td>\n",
       "      <td>NaN</td>\n",
       "      <td>NaN</td>\n",
       "      <td>NaN</td>\n",
       "      <td>NaN</td>\n",
       "      <td>NaN</td>\n",
       "      <td>NaN</td>\n",
       "    </tr>\n",
       "    <tr>\n",
       "      <th>CVN_05</th>\n",
       "      <td>NaN</td>\n",
       "      <td>NaN</td>\n",
       "      <td>NaN</td>\n",
       "      <td>NaN</td>\n",
       "      <td>NaN</td>\n",
       "      <td>NaN</td>\n",
       "      <td>NaN</td>\n",
       "      <td>NaN</td>\n",
       "      <td>1</td>\n",
       "      <td>NaN</td>\n",
       "      <td>...</td>\n",
       "      <td>NaN</td>\n",
       "      <td>NaN</td>\n",
       "      <td>NaN</td>\n",
       "      <td>NaN</td>\n",
       "      <td>NaN</td>\n",
       "      <td>NaN</td>\n",
       "      <td>NaN</td>\n",
       "      <td>NaN</td>\n",
       "      <td>NaN</td>\n",
       "      <td>NaN</td>\n",
       "    </tr>\n",
       "  </tbody>\n",
       "</table>\n",
       "<p>5 rows × 9161 columns</p>\n",
       "</div>"
      ],
      "text/plain": [
       "        exon:chr10:101979027-101979116:-@exon:chr10:101978765-101978889:-@exon:chr10:101978475-101978582:-  \\\n",
       "CVN_01                                                NaN                                                    \n",
       "CVN_02                                                NaN                                                    \n",
       "CVN_03                                                NaN                                                    \n",
       "CVN_04                                                NaN                                                    \n",
       "CVN_05                                                NaN                                                    \n",
       "\n",
       "        exon:chr10:102021736-102021820:-@exon:chr10:102020723-102020785:-@exon:chr10:102019975-102020076:-  \\\n",
       "CVN_01                                                NaN                                                    \n",
       "CVN_02                                                NaN                                                    \n",
       "CVN_03                                                NaN                                                    \n",
       "CVN_04                                                NaN                                                    \n",
       "CVN_05                                                NaN                                                    \n",
       "\n",
       "        exon:chr10:102021736-102021820:-@exon:chr10:102020723-102020801:-@exon:chr10:102019975-102020076:-  \\\n",
       "CVN_01                                                NaN                                                    \n",
       "CVN_02                                                NaN                                                    \n",
       "CVN_03                                                NaN                                                    \n",
       "CVN_04                                                NaN                                                    \n",
       "CVN_05                                                NaN                                                    \n",
       "\n",
       "        exon:chr10:102046362-102046430:-@exon:chr10:102045854-102045970:-@exon:chr10:102040691-102040810:-  \\\n",
       "CVN_01                                                  1                                                    \n",
       "CVN_02                                                NaN                                                    \n",
       "CVN_03                                                  1                                                    \n",
       "CVN_04                                                NaN                                                    \n",
       "CVN_05                                                NaN                                                    \n",
       "\n",
       "        exon:chr10:102046362-102046469:-@exon:chr10:102045854-102046089:-@exon:chr10:102040691-102040810:-  \\\n",
       "CVN_01                                                NaN                                                    \n",
       "CVN_02                                                NaN                                                    \n",
       "CVN_03                                                NaN                                                    \n",
       "CVN_04                                                NaN                                                    \n",
       "CVN_05                                                NaN                                                    \n",
       "\n",
       "        exon:chr10:103344359-103344676:-@exon:chr10:103343265-103343438:-@exon:chr10:103342520-103342648:-  \\\n",
       "CVN_01                                                NaN                                                    \n",
       "CVN_02                                                NaN                                                    \n",
       "CVN_03                                                NaN                                                    \n",
       "CVN_04                                                NaN                                                    \n",
       "CVN_05                                                NaN                                                    \n",
       "\n",
       "        exon:chr10:103347003-103347883:-@exon:chr10:103343265-103343438:-@exon:chr10:103342520-103342648:-  \\\n",
       "CVN_01                                                NaN                                                    \n",
       "CVN_02                                                NaN                                                    \n",
       "CVN_03                                                NaN                                                    \n",
       "CVN_04                                                NaN                                                    \n",
       "CVN_05                                                NaN                                                    \n",
       "\n",
       "        exon:chr10:103345619-103345913:-@exon:chr10:103345073-103345235:-@exon:chr10:103344368-103344676:-  \\\n",
       "CVN_01                                                NaN                                                    \n",
       "CVN_02                                                NaN                                                    \n",
       "CVN_03                                                NaN                                                    \n",
       "CVN_04                                                NaN                                                    \n",
       "CVN_05                                                NaN                                                    \n",
       "\n",
       "        exon:chr10:103354459-103354495:+@exon:chr10:103360495-103360619:+@exon:chr10:103360960-103361093:+  \\\n",
       "CVN_01                                                  1                                                    \n",
       "CVN_02                                                  1                                                    \n",
       "CVN_03                                                  1                                                    \n",
       "CVN_04                                                  1                                                    \n",
       "CVN_05                                                  1                                                    \n",
       "\n",
       "        exon:chr10:103432672-103432804:-@exon:chr10:103427643-103427737:-@exon:chr10:103384502-103384567:-  \\\n",
       "CVN_01                                                NaN                                                    \n",
       "CVN_02                                                NaN                                                    \n",
       "CVN_03                                                NaN                                                    \n",
       "CVN_04                                                NaN                                                    \n",
       "CVN_05                                                NaN                                                    \n",
       "\n",
       "                                                             ...                                                         \\\n",
       "CVN_01                                                       ...                                                          \n",
       "CVN_02                                                       ...                                                          \n",
       "CVN_03                                                       ...                                                          \n",
       "CVN_04                                                       ...                                                          \n",
       "CVN_05                                                       ...                                                          \n",
       "\n",
       "        exon:chrX:80377034-80377171:-@exon:chrX:80375287-80375316:-@exon:chrX:80374229-80374279:-@exon:chrX:80373931-80373984:-  \\\n",
       "CVN_01                                                NaN                                                                         \n",
       "CVN_02                                                NaN                                                                         \n",
       "CVN_03                                                NaN                                                                         \n",
       "CVN_04                                                NaN                                                                         \n",
       "CVN_05                                                NaN                                                                         \n",
       "\n",
       "        exon:chrX:85302488-85302543:-@exon:chrX:85282495-85282561:-@exon:chrX:85236741-85236813:-@exon:chrX:85233771-85233895:-  \\\n",
       "CVN_01                                                NaN                                                                         \n",
       "CVN_02                                                NaN                                                                         \n",
       "CVN_03                                                NaN                                                                         \n",
       "CVN_04                                                NaN                                                                         \n",
       "CVN_05                                                NaN                                                                         \n",
       "\n",
       "        exon:chrX:99888402-99888536:-@exon:chrX:99887482-99887565:-@exon:chrX:99885756-99885863:-@exon:chrX:99883667-99884983:-  \\\n",
       "CVN_01                                                NaN                                                                         \n",
       "CVN_02                                                NaN                                                                         \n",
       "CVN_03                                                NaN                                                                         \n",
       "CVN_04                                                NaN                                                                         \n",
       "CVN_05                                                NaN                                                                         \n",
       "\n",
       "        exon:chrY:14774284-14774637:+@exon:chrY:14776571-14776617:+@exon:chrY:14798442-14798535:+@exon:chrY:14821321-14821476:+  \\\n",
       "CVN_01                                                NaN                                                                         \n",
       "CVN_02                                                NaN                                                                         \n",
       "CVN_03                                                NaN                                                                         \n",
       "CVN_04                                                NaN                                                                         \n",
       "CVN_05                                                NaN                                                                         \n",
       "\n",
       "        exon:chrY:14798442-14798535:+@exon:chrY:14802255-14802370:+@exon:chrY:14820567-14820626:+@exon:chrY:14821321-14821476:+  \\\n",
       "CVN_01                                                NaN                                                                         \n",
       "CVN_02                                                NaN                                                                         \n",
       "CVN_03                                                NaN                                                                         \n",
       "CVN_04                                                NaN                                                                         \n",
       "CVN_05                                                NaN                                                                         \n",
       "\n",
       "        exon:chrY:15024920-15024974:+@exon:chrY:15025630-15025765:+@exon:chrY:15026476-15026561:+@exon:chrY:15026979-15027139:+  \\\n",
       "CVN_01                                                NaN                                                                         \n",
       "CVN_02                                                NaN                                                                         \n",
       "CVN_03                                                NaN                                                                         \n",
       "CVN_04                                                NaN                                                                         \n",
       "CVN_05                                                NaN                                                                         \n",
       "\n",
       "        exon:chrY:15024875-15024974:+@exon:chrY:15025630-15025765:+@exon:chrY:15026796-15026894:+@exon:chrY:15026979-15027139:+  \\\n",
       "CVN_01                                                NaN                                                                         \n",
       "CVN_02                                                NaN                                                                         \n",
       "CVN_03                                                NaN                                                                         \n",
       "CVN_04                                                NaN                                                                         \n",
       "CVN_05                                                NaN                                                                         \n",
       "\n",
       "        exon:chrY:2712118-2712298:+@exon:chrY:2713687-2713784:+@exon:chrY:2722641-2722812:+@exon:chrY:2734834-2734903:+  \\\n",
       "CVN_01                                                NaN                                                                 \n",
       "CVN_02                                                NaN                                                                 \n",
       "CVN_03                                                NaN                                                                 \n",
       "CVN_04                                                NaN                                                                 \n",
       "CVN_05                                                NaN                                                                 \n",
       "\n",
       "        exon:chrY:2803112-2803487:+@exon:chrY:2821950-2822038:+@exon:chrY:2829115-2829687:+@exon:chrY:2843136-2843285:+  \\\n",
       "CVN_01                                                NaN                                                                 \n",
       "CVN_02                                                NaN                                                                 \n",
       "CVN_03                                                NaN                                                                 \n",
       "CVN_04                                                NaN                                                                 \n",
       "CVN_05                                                NaN                                                                 \n",
       "\n",
       "        exon:chrY:2803518-2803810:+@exon:chrY:2821950-2822038:+@exon:chrY:2829115-2829687:+@exon:chrY:2843136-2843285:+  \n",
       "CVN_01                                                NaN                                                                \n",
       "CVN_02                                                NaN                                                                \n",
       "CVN_03                                                NaN                                                                \n",
       "CVN_04                                                NaN                                                                \n",
       "CVN_05                                                NaN                                                                \n",
       "\n",
       "[5 rows x 9161 columns]"
      ]
     },
     "execution_count": 98,
     "metadata": {},
     "output_type": "execute_result"
    }
   ],
   "source": [
    "constutitively1 = pd.read_csv('{}/psi_constitutively1.csv'.format(csv_folder), index_col=0)\n",
    "six.print_('constutitively1.shape', constutitively1.shape)\n",
    "constutitively1.head()"
   ]
  },
  {
   "cell_type": "code",
   "execution_count": 99,
   "metadata": {
    "collapsed": false
   },
   "outputs": [
    {
     "data": {
      "text/html": [
       "<div>\n",
       "<table border=\"1\" class=\"dataframe\">\n",
       "  <thead>\n",
       "    <tr style=\"text-align: right;\">\n",
       "      <th></th>\n",
       "      <th>single</th>\n",
       "      <th>pooled</th>\n",
       "      <th>phenotype</th>\n",
       "      <th>neuron</th>\n",
       "      <th>progenitor</th>\n",
       "      <th>stressed</th>\n",
       "      <th>craig_venter</th>\n",
       "      <th>differentiation_batch</th>\n",
       "      <th>split</th>\n",
       "    </tr>\n",
       "  </thead>\n",
       "  <tbody>\n",
       "    <tr>\n",
       "      <th>CVN_01</th>\n",
       "      <td>True</td>\n",
       "      <td>False</td>\n",
       "      <td>NPC</td>\n",
       "      <td>False</td>\n",
       "      <td>True</td>\n",
       "      <td>False</td>\n",
       "      <td>True</td>\n",
       "      <td>NaN</td>\n",
       "      <td>NaN</td>\n",
       "    </tr>\n",
       "    <tr>\n",
       "      <th>CVN_02</th>\n",
       "      <td>True</td>\n",
       "      <td>False</td>\n",
       "      <td>NPC</td>\n",
       "      <td>False</td>\n",
       "      <td>True</td>\n",
       "      <td>False</td>\n",
       "      <td>True</td>\n",
       "      <td>NaN</td>\n",
       "      <td>NaN</td>\n",
       "    </tr>\n",
       "    <tr>\n",
       "      <th>CVN_03</th>\n",
       "      <td>True</td>\n",
       "      <td>False</td>\n",
       "      <td>NPC</td>\n",
       "      <td>False</td>\n",
       "      <td>True</td>\n",
       "      <td>False</td>\n",
       "      <td>True</td>\n",
       "      <td>NaN</td>\n",
       "      <td>NaN</td>\n",
       "    </tr>\n",
       "    <tr>\n",
       "      <th>CVN_04</th>\n",
       "      <td>True</td>\n",
       "      <td>False</td>\n",
       "      <td>NPC</td>\n",
       "      <td>False</td>\n",
       "      <td>True</td>\n",
       "      <td>False</td>\n",
       "      <td>True</td>\n",
       "      <td>NaN</td>\n",
       "      <td>NaN</td>\n",
       "    </tr>\n",
       "    <tr>\n",
       "      <th>CVN_05</th>\n",
       "      <td>True</td>\n",
       "      <td>False</td>\n",
       "      <td>NPC</td>\n",
       "      <td>False</td>\n",
       "      <td>True</td>\n",
       "      <td>False</td>\n",
       "      <td>True</td>\n",
       "      <td>NaN</td>\n",
       "      <td>NaN</td>\n",
       "    </tr>\n",
       "  </tbody>\n",
       "</table>\n",
       "</div>"
      ],
      "text/plain": [
       "       single pooled phenotype neuron progenitor stressed craig_venter  \\\n",
       "CVN_01   True  False       NPC  False       True    False         True   \n",
       "CVN_02   True  False       NPC  False       True    False         True   \n",
       "CVN_03   True  False       NPC  False       True    False         True   \n",
       "CVN_04   True  False       NPC  False       True    False         True   \n",
       "CVN_05   True  False       NPC  False       True    False         True   \n",
       "\n",
       "       differentiation_batch split  \n",
       "CVN_01                   NaN   NaN  \n",
       "CVN_02                   NaN   NaN  \n",
       "CVN_03                   NaN   NaN  \n",
       "CVN_04                   NaN   NaN  \n",
       "CVN_05                   NaN   NaN  "
      ]
     },
     "execution_count": 99,
     "metadata": {},
     "output_type": "execute_result"
    }
   ],
   "source": [
    "# This metadata only has iPSC, NPC, and MN (no sMN)\n",
    "\n",
    "metadata = pd.read_csv('{}/metadata.csv'.format(csv_folder), index_col=0)\n",
    "metadata.head()"
   ]
  },
  {
   "cell_type": "code",
   "execution_count": 100,
   "metadata": {
    "collapsed": false
   },
   "outputs": [
    {
     "data": {
      "text/html": [
       "<div>\n",
       "<table border=\"1\" class=\"dataframe\">\n",
       "  <thead>\n",
       "    <tr style=\"text-align: right;\">\n",
       "      <th></th>\n",
       "      <th>exon:chr10:101979027-101979116:-@exon:chr10:101978765-101978889:-@exon:chr10:101978475-101978582:-</th>\n",
       "      <th>exon:chr10:102021736-102021820:-@exon:chr10:102020723-102020785:-@exon:chr10:102019975-102020076:-</th>\n",
       "      <th>exon:chr10:102021736-102021820:-@exon:chr10:102020723-102020801:-@exon:chr10:102019975-102020076:-</th>\n",
       "      <th>exon:chr10:102046362-102046430:-@exon:chr10:102045854-102045970:-@exon:chr10:102040691-102040810:-</th>\n",
       "      <th>exon:chr10:102046362-102046469:-@exon:chr10:102045854-102046089:-@exon:chr10:102040691-102040810:-</th>\n",
       "      <th>exon:chr10:103344359-103344676:-@exon:chr10:103343265-103343438:-@exon:chr10:103342520-103342648:-</th>\n",
       "      <th>exon:chr10:103347003-103347883:-@exon:chr10:103343265-103343438:-@exon:chr10:103342520-103342648:-</th>\n",
       "      <th>exon:chr10:103345619-103345913:-@exon:chr10:103345073-103345235:-@exon:chr10:103344368-103344676:-</th>\n",
       "      <th>exon:chr10:103354459-103354495:+@exon:chr10:103360495-103360619:+@exon:chr10:103360960-103361093:+</th>\n",
       "      <th>exon:chr10:103432672-103432804:-@exon:chr10:103427643-103427737:-@exon:chr10:103384502-103384567:-</th>\n",
       "      <th>...</th>\n",
       "      <th>exon:chrX:80377034-80377171:-@exon:chrX:80375287-80375316:-@exon:chrX:80374229-80374279:-@exon:chrX:80373931-80373984:-</th>\n",
       "      <th>exon:chrX:85302488-85302543:-@exon:chrX:85282495-85282561:-@exon:chrX:85236741-85236813:-@exon:chrX:85233771-85233895:-</th>\n",
       "      <th>exon:chrX:99888402-99888536:-@exon:chrX:99887482-99887565:-@exon:chrX:99885756-99885863:-@exon:chrX:99883667-99884983:-</th>\n",
       "      <th>exon:chrY:14774284-14774637:+@exon:chrY:14776571-14776617:+@exon:chrY:14798442-14798535:+@exon:chrY:14821321-14821476:+</th>\n",
       "      <th>exon:chrY:14798442-14798535:+@exon:chrY:14802255-14802370:+@exon:chrY:14820567-14820626:+@exon:chrY:14821321-14821476:+</th>\n",
       "      <th>exon:chrY:15024920-15024974:+@exon:chrY:15025630-15025765:+@exon:chrY:15026476-15026561:+@exon:chrY:15026979-15027139:+</th>\n",
       "      <th>exon:chrY:15024875-15024974:+@exon:chrY:15025630-15025765:+@exon:chrY:15026796-15026894:+@exon:chrY:15026979-15027139:+</th>\n",
       "      <th>exon:chrY:2712118-2712298:+@exon:chrY:2713687-2713784:+@exon:chrY:2722641-2722812:+@exon:chrY:2734834-2734903:+</th>\n",
       "      <th>exon:chrY:2803112-2803487:+@exon:chrY:2821950-2822038:+@exon:chrY:2829115-2829687:+@exon:chrY:2843136-2843285:+</th>\n",
       "      <th>exon:chrY:2803518-2803810:+@exon:chrY:2821950-2822038:+@exon:chrY:2829115-2829687:+@exon:chrY:2843136-2843285:+</th>\n",
       "    </tr>\n",
       "    <tr>\n",
       "      <th>phenotype</th>\n",
       "      <th></th>\n",
       "      <th></th>\n",
       "      <th></th>\n",
       "      <th></th>\n",
       "      <th></th>\n",
       "      <th></th>\n",
       "      <th></th>\n",
       "      <th></th>\n",
       "      <th></th>\n",
       "      <th></th>\n",
       "      <th></th>\n",
       "      <th></th>\n",
       "      <th></th>\n",
       "      <th></th>\n",
       "      <th></th>\n",
       "      <th></th>\n",
       "      <th></th>\n",
       "      <th></th>\n",
       "      <th></th>\n",
       "      <th></th>\n",
       "      <th></th>\n",
       "    </tr>\n",
       "  </thead>\n",
       "  <tbody>\n",
       "    <tr>\n",
       "      <th>MN</th>\n",
       "      <td>0</td>\n",
       "      <td>2</td>\n",
       "      <td>10</td>\n",
       "      <td>35</td>\n",
       "      <td>5</td>\n",
       "      <td>3</td>\n",
       "      <td>1</td>\n",
       "      <td>3</td>\n",
       "      <td>29</td>\n",
       "      <td>0</td>\n",
       "      <td>...</td>\n",
       "      <td>0</td>\n",
       "      <td>0</td>\n",
       "      <td>0</td>\n",
       "      <td>3</td>\n",
       "      <td>0</td>\n",
       "      <td>1</td>\n",
       "      <td>1</td>\n",
       "      <td>0</td>\n",
       "      <td>0</td>\n",
       "      <td>0</td>\n",
       "    </tr>\n",
       "    <tr>\n",
       "      <th>NPC</th>\n",
       "      <td>1</td>\n",
       "      <td>1</td>\n",
       "      <td>12</td>\n",
       "      <td>41</td>\n",
       "      <td>3</td>\n",
       "      <td>1</td>\n",
       "      <td>0</td>\n",
       "      <td>0</td>\n",
       "      <td>42</td>\n",
       "      <td>1</td>\n",
       "      <td>...</td>\n",
       "      <td>1</td>\n",
       "      <td>1</td>\n",
       "      <td>1</td>\n",
       "      <td>0</td>\n",
       "      <td>1</td>\n",
       "      <td>0</td>\n",
       "      <td>0</td>\n",
       "      <td>0</td>\n",
       "      <td>0</td>\n",
       "      <td>0</td>\n",
       "    </tr>\n",
       "    <tr>\n",
       "      <th>iPSC</th>\n",
       "      <td>4</td>\n",
       "      <td>11</td>\n",
       "      <td>27</td>\n",
       "      <td>44</td>\n",
       "      <td>0</td>\n",
       "      <td>1</td>\n",
       "      <td>1</td>\n",
       "      <td>0</td>\n",
       "      <td>33</td>\n",
       "      <td>1</td>\n",
       "      <td>...</td>\n",
       "      <td>0</td>\n",
       "      <td>0</td>\n",
       "      <td>5</td>\n",
       "      <td>3</td>\n",
       "      <td>0</td>\n",
       "      <td>0</td>\n",
       "      <td>0</td>\n",
       "      <td>0</td>\n",
       "      <td>2</td>\n",
       "      <td>1</td>\n",
       "    </tr>\n",
       "  </tbody>\n",
       "</table>\n",
       "<p>3 rows × 9161 columns</p>\n",
       "</div>"
      ],
      "text/plain": [
       "           exon:chr10:101979027-101979116:-@exon:chr10:101978765-101978889:-@exon:chr10:101978475-101978582:-  \\\n",
       "phenotype                                                                                                       \n",
       "MN                                                         0                                                    \n",
       "NPC                                                        1                                                    \n",
       "iPSC                                                       4                                                    \n",
       "\n",
       "           exon:chr10:102021736-102021820:-@exon:chr10:102020723-102020785:-@exon:chr10:102019975-102020076:-  \\\n",
       "phenotype                                                                                                       \n",
       "MN                                                         2                                                    \n",
       "NPC                                                        1                                                    \n",
       "iPSC                                                      11                                                    \n",
       "\n",
       "           exon:chr10:102021736-102021820:-@exon:chr10:102020723-102020801:-@exon:chr10:102019975-102020076:-  \\\n",
       "phenotype                                                                                                       \n",
       "MN                                                        10                                                    \n",
       "NPC                                                       12                                                    \n",
       "iPSC                                                      27                                                    \n",
       "\n",
       "           exon:chr10:102046362-102046430:-@exon:chr10:102045854-102045970:-@exon:chr10:102040691-102040810:-  \\\n",
       "phenotype                                                                                                       \n",
       "MN                                                        35                                                    \n",
       "NPC                                                       41                                                    \n",
       "iPSC                                                      44                                                    \n",
       "\n",
       "           exon:chr10:102046362-102046469:-@exon:chr10:102045854-102046089:-@exon:chr10:102040691-102040810:-  \\\n",
       "phenotype                                                                                                       \n",
       "MN                                                         5                                                    \n",
       "NPC                                                        3                                                    \n",
       "iPSC                                                       0                                                    \n",
       "\n",
       "           exon:chr10:103344359-103344676:-@exon:chr10:103343265-103343438:-@exon:chr10:103342520-103342648:-  \\\n",
       "phenotype                                                                                                       \n",
       "MN                                                         3                                                    \n",
       "NPC                                                        1                                                    \n",
       "iPSC                                                       1                                                    \n",
       "\n",
       "           exon:chr10:103347003-103347883:-@exon:chr10:103343265-103343438:-@exon:chr10:103342520-103342648:-  \\\n",
       "phenotype                                                                                                       \n",
       "MN                                                         1                                                    \n",
       "NPC                                                        0                                                    \n",
       "iPSC                                                       1                                                    \n",
       "\n",
       "           exon:chr10:103345619-103345913:-@exon:chr10:103345073-103345235:-@exon:chr10:103344368-103344676:-  \\\n",
       "phenotype                                                                                                       \n",
       "MN                                                         3                                                    \n",
       "NPC                                                        0                                                    \n",
       "iPSC                                                       0                                                    \n",
       "\n",
       "           exon:chr10:103354459-103354495:+@exon:chr10:103360495-103360619:+@exon:chr10:103360960-103361093:+  \\\n",
       "phenotype                                                                                                       \n",
       "MN                                                        29                                                    \n",
       "NPC                                                       42                                                    \n",
       "iPSC                                                      33                                                    \n",
       "\n",
       "           exon:chr10:103432672-103432804:-@exon:chr10:103427643-103427737:-@exon:chr10:103384502-103384567:-  \\\n",
       "phenotype                                                                                                       \n",
       "MN                                                         0                                                    \n",
       "NPC                                                        1                                                    \n",
       "iPSC                                                       1                                                    \n",
       "\n",
       "                                                                ...                                                         \\\n",
       "phenotype                                                       ...                                                          \n",
       "MN                                                              ...                                                          \n",
       "NPC                                                             ...                                                          \n",
       "iPSC                                                            ...                                                          \n",
       "\n",
       "           exon:chrX:80377034-80377171:-@exon:chrX:80375287-80375316:-@exon:chrX:80374229-80374279:-@exon:chrX:80373931-80373984:-  \\\n",
       "phenotype                                                                                                                            \n",
       "MN                                                         0                                                                         \n",
       "NPC                                                        1                                                                         \n",
       "iPSC                                                       0                                                                         \n",
       "\n",
       "           exon:chrX:85302488-85302543:-@exon:chrX:85282495-85282561:-@exon:chrX:85236741-85236813:-@exon:chrX:85233771-85233895:-  \\\n",
       "phenotype                                                                                                                            \n",
       "MN                                                         0                                                                         \n",
       "NPC                                                        1                                                                         \n",
       "iPSC                                                       0                                                                         \n",
       "\n",
       "           exon:chrX:99888402-99888536:-@exon:chrX:99887482-99887565:-@exon:chrX:99885756-99885863:-@exon:chrX:99883667-99884983:-  \\\n",
       "phenotype                                                                                                                            \n",
       "MN                                                         0                                                                         \n",
       "NPC                                                        1                                                                         \n",
       "iPSC                                                       5                                                                         \n",
       "\n",
       "           exon:chrY:14774284-14774637:+@exon:chrY:14776571-14776617:+@exon:chrY:14798442-14798535:+@exon:chrY:14821321-14821476:+  \\\n",
       "phenotype                                                                                                                            \n",
       "MN                                                         3                                                                         \n",
       "NPC                                                        0                                                                         \n",
       "iPSC                                                       3                                                                         \n",
       "\n",
       "           exon:chrY:14798442-14798535:+@exon:chrY:14802255-14802370:+@exon:chrY:14820567-14820626:+@exon:chrY:14821321-14821476:+  \\\n",
       "phenotype                                                                                                                            \n",
       "MN                                                         0                                                                         \n",
       "NPC                                                        1                                                                         \n",
       "iPSC                                                       0                                                                         \n",
       "\n",
       "           exon:chrY:15024920-15024974:+@exon:chrY:15025630-15025765:+@exon:chrY:15026476-15026561:+@exon:chrY:15026979-15027139:+  \\\n",
       "phenotype                                                                                                                            \n",
       "MN                                                         1                                                                         \n",
       "NPC                                                        0                                                                         \n",
       "iPSC                                                       0                                                                         \n",
       "\n",
       "           exon:chrY:15024875-15024974:+@exon:chrY:15025630-15025765:+@exon:chrY:15026796-15026894:+@exon:chrY:15026979-15027139:+  \\\n",
       "phenotype                                                                                                                            \n",
       "MN                                                         1                                                                         \n",
       "NPC                                                        0                                                                         \n",
       "iPSC                                                       0                                                                         \n",
       "\n",
       "           exon:chrY:2712118-2712298:+@exon:chrY:2713687-2713784:+@exon:chrY:2722641-2722812:+@exon:chrY:2734834-2734903:+  \\\n",
       "phenotype                                                                                                                    \n",
       "MN                                                         0                                                                 \n",
       "NPC                                                        0                                                                 \n",
       "iPSC                                                       0                                                                 \n",
       "\n",
       "           exon:chrY:2803112-2803487:+@exon:chrY:2821950-2822038:+@exon:chrY:2829115-2829687:+@exon:chrY:2843136-2843285:+  \\\n",
       "phenotype                                                                                                                    \n",
       "MN                                                         0                                                                 \n",
       "NPC                                                        0                                                                 \n",
       "iPSC                                                       2                                                                 \n",
       "\n",
       "           exon:chrY:2803518-2803810:+@exon:chrY:2821950-2822038:+@exon:chrY:2829115-2829687:+@exon:chrY:2843136-2843285:+  \n",
       "phenotype                                                                                                                   \n",
       "MN                                                         0                                                                \n",
       "NPC                                                        0                                                                \n",
       "iPSC                                                       1                                                                \n",
       "\n",
       "[3 rows x 9161 columns]"
      ]
     },
     "execution_count": 100,
     "metadata": {},
     "output_type": "execute_result"
    }
   ],
   "source": [
    "counts = constutitively1.groupby(metadata.phenotype).count()\n",
    "counts"
   ]
  },
  {
   "cell_type": "code",
   "execution_count": 101,
   "metadata": {
    "collapsed": false
   },
   "outputs": [],
   "source": [
    "at_least_20 = (counts >= 20).all()\n",
    "constitutive_events = at_least_20.index[at_least_20]"
   ]
  },
  {
   "cell_type": "code",
   "execution_count": 102,
   "metadata": {
    "collapsed": false
   },
   "outputs": [
    {
     "data": {
      "text/plain": [
       "0    exon:chr10:102045854-102045970:-\n",
       "1    exon:chr10:103360495-103360619:+\n",
       "2    exon:chr10:103916776-103916831:+\n",
       "3        exon:chr10:1043148-1043248:+\n",
       "4    exon:chr10:104445573-104445758:-\n",
       "dtype: object"
      ]
     },
     "execution_count": 102,
     "metadata": {},
     "output_type": "execute_result"
    }
   ],
   "source": [
    "constitutive_exon2s = pd.Series(constitutive_events.map(lambda x: x.split('@')[1]))\n",
    "constitutive_exon2s.head()"
   ]
  },
  {
   "cell_type": "markdown",
   "metadata": {},
   "source": [
    "### Internal: have both downstream and upstream junctions"
   ]
  },
  {
   "cell_type": "code",
   "execution_count": 103,
   "metadata": {
    "collapsed": false
   },
   "outputs": [
    {
     "name": "stdout",
     "output_type": "stream",
     "text": [
      "(844056, 3)\n"
     ]
    },
    {
     "data": {
      "text/html": [
       "<div>\n",
       "<table border=\"1\" class=\"dataframe\">\n",
       "  <thead>\n",
       "    <tr style=\"text-align: right;\">\n",
       "      <th></th>\n",
       "      <th>exon</th>\n",
       "      <th>direction</th>\n",
       "      <th>junction</th>\n",
       "    </tr>\n",
       "  </thead>\n",
       "  <tbody>\n",
       "    <tr>\n",
       "      <th>0</th>\n",
       "      <td>exon:chr1:29321-29370:-</td>\n",
       "      <td>upstream</td>\n",
       "      <td>chr1:18367-29320:-</td>\n",
       "    </tr>\n",
       "    <tr>\n",
       "      <th>1</th>\n",
       "      <td>exon:chr1:29321-29370:-</td>\n",
       "      <td>upstream</td>\n",
       "      <td>chr1:24892-29320:-</td>\n",
       "    </tr>\n",
       "    <tr>\n",
       "      <th>2</th>\n",
       "      <td>exon:chr1:29321-29370:-</td>\n",
       "      <td>upstream</td>\n",
       "      <td>chr1:27186-29320:-</td>\n",
       "    </tr>\n",
       "    <tr>\n",
       "      <th>3</th>\n",
       "      <td>exon:chr1:29321-29370:-</td>\n",
       "      <td>upstream</td>\n",
       "      <td>chr1:18380-29320:-</td>\n",
       "    </tr>\n",
       "    <tr>\n",
       "      <th>4</th>\n",
       "      <td>exon:chr1:29321-29370:-</td>\n",
       "      <td>upstream</td>\n",
       "      <td>chr1:18370-29320:-</td>\n",
       "    </tr>\n",
       "  </tbody>\n",
       "</table>\n",
       "</div>"
      ],
      "text/plain": [
       "                      exon direction            junction\n",
       "0  exon:chr1:29321-29370:-  upstream  chr1:18367-29320:-\n",
       "1  exon:chr1:29321-29370:-  upstream  chr1:24892-29320:-\n",
       "2  exon:chr1:29321-29370:-  upstream  chr1:27186-29320:-\n",
       "3  exon:chr1:29321-29370:-  upstream  chr1:18380-29320:-\n",
       "4  exon:chr1:29321-29370:-  upstream  chr1:18370-29320:-"
      ]
     },
     "execution_count": 103,
     "metadata": {},
     "output_type": "execute_result"
    }
   ],
   "source": [
    "junction_exons = pd.read_csv('{}/junction_exon_triples.csv'.format(csv_folder))\n",
    "print junction_exons.shape\n",
    "junction_exons.head()"
   ]
  },
  {
   "cell_type": "code",
   "execution_count": 104,
   "metadata": {
    "collapsed": false
   },
   "outputs": [
    {
     "data": {
      "text/plain": [
       "exon                              direction \n",
       "exon:chr10:100003848-100004106:+  downstream    1\n",
       "exon:chr10:100003848-100004321:+  downstream    1\n",
       "exon:chr10:100003848-100004651:+  downstream    1\n",
       "exon:chr10:100003848-100004654:+  downstream    1\n",
       "exon:chr10:100007447-100008748:-  downstream    1\n",
       "dtype: int64"
      ]
     },
     "execution_count": 104,
     "metadata": {},
     "output_type": "execute_result"
    }
   ],
   "source": [
    "exon_direction = junction_exons.groupby(['exon', 'direction']).size()\n",
    "exon_direction.head()\n",
    "# constitutive = constitutive[constitutive == 2]"
   ]
  },
  {
   "cell_type": "markdown",
   "metadata": {},
   "source": [
    "Group on the number of \"direction\" items they have. Must have two to be internal (\"upstream\" and \"downstream\")"
   ]
  },
  {
   "cell_type": "code",
   "execution_count": 105,
   "metadata": {
    "collapsed": false
   },
   "outputs": [
    {
     "data": {
      "text/plain": [
       "exon\n",
       "exon:chr10:100010822-100010933:-    2\n",
       "exon:chr10:100144704-100144824:-    2\n",
       "exon:chr10:100146958-100147064:-    2\n",
       "exon:chr10:100150355-100150511:-    2\n",
       "exon:chr10:100155148-100155209:-    2\n",
       "dtype: int64"
      ]
     },
     "execution_count": 105,
     "metadata": {},
     "output_type": "execute_result"
    }
   ],
   "source": [
    "internal_exons = exon_direction.groupby(level=0).size()\n",
    "internal_exons = internal_exons[internal_exons == 2]\n",
    "internal_exons.head()"
   ]
  },
  {
   "cell_type": "code",
   "execution_count": 106,
   "metadata": {
    "collapsed": false
   },
   "outputs": [
    {
     "name": "stdout",
     "output_type": "stream",
     "text": [
      "(448078, 3)\n"
     ]
    },
    {
     "data": {
      "text/html": [
       "<div>\n",
       "<table border=\"1\" class=\"dataframe\">\n",
       "  <thead>\n",
       "    <tr style=\"text-align: right;\">\n",
       "      <th></th>\n",
       "      <th>exon</th>\n",
       "      <th>direction</th>\n",
       "      <th>junction</th>\n",
       "    </tr>\n",
       "  </thead>\n",
       "  <tbody>\n",
       "    <tr>\n",
       "      <th>5</th>\n",
       "      <td>exon:chr1:24738-24891:-</td>\n",
       "      <td>downstream</td>\n",
       "      <td>chr1:24892-29320:-</td>\n",
       "    </tr>\n",
       "    <tr>\n",
       "      <th>6</th>\n",
       "      <td>exon:chr1:24738-24891:-</td>\n",
       "      <td>downstream</td>\n",
       "      <td>chr1:24892-29533:-</td>\n",
       "    </tr>\n",
       "    <tr>\n",
       "      <th>7</th>\n",
       "      <td>exon:chr1:24738-24891:-</td>\n",
       "      <td>upstream</td>\n",
       "      <td>chr1:18062-24737:-</td>\n",
       "    </tr>\n",
       "    <tr>\n",
       "      <th>8</th>\n",
       "      <td>exon:chr1:24738-24891:-</td>\n",
       "      <td>upstream</td>\n",
       "      <td>chr1:18380-24737:-</td>\n",
       "    </tr>\n",
       "    <tr>\n",
       "      <th>9</th>\n",
       "      <td>exon:chr1:24738-24891:-</td>\n",
       "      <td>upstream</td>\n",
       "      <td>chr1:18555-24737:-</td>\n",
       "    </tr>\n",
       "  </tbody>\n",
       "</table>\n",
       "</div>"
      ],
      "text/plain": [
       "                      exon   direction            junction\n",
       "5  exon:chr1:24738-24891:-  downstream  chr1:24892-29320:-\n",
       "6  exon:chr1:24738-24891:-  downstream  chr1:24892-29533:-\n",
       "7  exon:chr1:24738-24891:-    upstream  chr1:18062-24737:-\n",
       "8  exon:chr1:24738-24891:-    upstream  chr1:18380-24737:-\n",
       "9  exon:chr1:24738-24891:-    upstream  chr1:18555-24737:-"
      ]
     },
     "execution_count": 106,
     "metadata": {},
     "output_type": "execute_result"
    }
   ],
   "source": [
    "exon_juction_direction_internal = junction_exons.loc[junction_exons.exon.isin(internal_exons.index)]\n",
    "print exon_juction_direction_internal.shape\n",
    "exon_juction_direction_internal.head()"
   ]
  },
  {
   "cell_type": "markdown",
   "metadata": {},
   "source": [
    "### Remove all exons that appear as exon2 in any alternative annotations, or exon3 for MXE"
   ]
  },
  {
   "cell_type": "code",
   "execution_count": 107,
   "metadata": {
    "collapsed": false
   },
   "outputs": [
    {
     "name": "stdout",
     "output_type": "stream",
     "text": [
      "(43903,)\n"
     ]
    },
    {
     "data": {
      "text/plain": [
       "exon:chr10:102003455-102003534:-@exon:chr10:101997779-101997988:-@exon:chr10:101996607-101996726:-@exon:chr10:101995424-101995521:-    MXE\n",
       "exon:chr10:102013178-102013296:-@exon:chr10:102010005-102010089:-@exon:chr10:102003455-102003534:-@exon:chr10:101997940-101997988:-    MXE\n",
       "exon:chr10:102020723-102020801:-@exon:chr10:102019975-102020076:-@exon:chr10:102016019-102016233:-@exon:chr10:102013178-102013296:-    MXE\n",
       "exon:chr10:102021736-102021820:-@exon:chr10:102019975-102020076:-@exon:chr10:102016019-102016233:-@exon:chr10:102013178-102013296:-    MXE\n",
       "exon:chr10:102021736-102021820:-@exon:chr10:102020723-102020785:-@exon:chr10:102016019-102016233:-@exon:chr10:102013178-102013296:-    MXE\n",
       "dtype: object"
      ]
     },
     "execution_count": 107,
     "metadata": {},
     "output_type": "execute_result"
    }
   ],
   "source": [
    "splicing_types = pd.Series(['MXE' if len(x.split('@')) == 4 else 'SE' for x in splicing.columns], index=splicing.columns)\n",
    "six.print_(splicing_types.shape)\n",
    "splicing_types.head()"
   ]
  },
  {
   "cell_type": "code",
   "execution_count": 108,
   "metadata": {
    "collapsed": false
   },
   "outputs": [
    {
     "data": {
      "text/plain": [
       "0       exon:chr10:101996607-101996726:-\n",
       "1       exon:chr10:102003455-102003534:-\n",
       "2       exon:chr10:102016019-102016233:-\n",
       "3       exon:chr10:102016019-102016233:-\n",
       "4       exon:chr10:102016019-102016233:-\n",
       "5       exon:chr10:102016019-102016233:-\n",
       "6       exon:chr10:102019975-102020076:-\n",
       "7       exon:chr10:102705087-102705263:+\n",
       "8       exon:chr10:102743705-102743831:-\n",
       "9       exon:chr10:102743705-102743831:-\n",
       "10      exon:chr10:102743791-102743831:-\n",
       "11      exon:chr10:102743791-102743831:-\n",
       "12      exon:chr10:102746444-102746732:-\n",
       "13      exon:chr10:102746506-102746732:-\n",
       "14      exon:chr10:103213258-103213313:+\n",
       "15      exon:chr10:103221738-103221815:+\n",
       "16      exon:chr10:103342520-103342648:-\n",
       "17      exon:chr10:103343265-103343438:-\n",
       "18      exon:chr10:103346879-103346957:-\n",
       "19      exon:chr10:103360495-103360619:+\n",
       "20      exon:chr10:103368592-103368694:+\n",
       "21      exon:chr10:103368624-103368694:+\n",
       "22      exon:chr10:103368624-103368801:+\n",
       "23          exon:chr10:1041869-1041972:+\n",
       "24      exon:chr10:103906429-103907149:+\n",
       "25      exon:chr10:103906429-103907149:+\n",
       "26      exon:chr10:104211847-104211944:+\n",
       "27          exon:chr10:1044943-1045035:+\n",
       "28      exon:chr10:104241758-104241932:-\n",
       "29      exon:chr10:104445573-104445758:-\n",
       "                      ...               \n",
       "7222       exon:chrX:80373931-80373984:-\n",
       "7223       exon:chrX:80373931-80373984:-\n",
       "7224       exon:chrX:80374229-80374258:-\n",
       "7225       exon:chrX:80374229-80374279:-\n",
       "7226       exon:chrX:83695540-83695593:-\n",
       "7227       exon:chrX:83730259-83730405:-\n",
       "7228       exon:chrX:83730259-83730405:-\n",
       "7229       exon:chrX:83743032-83743140:-\n",
       "7230       exon:chrX:85236741-85236813:-\n",
       "7231       exon:chrX:99885756-99885863:-\n",
       "7232       exon:chrX:99887482-99887565:-\n",
       "7233       exon:chrY:14798442-14798535:+\n",
       "7234       exon:chrY:14821321-14821476:+\n",
       "7235       exon:chrY:14820567-14820626:+\n",
       "7236       exon:chrY:14902340-14902465:+\n",
       "7237       exon:chrY:15026476-15026561:+\n",
       "7238       exon:chrY:15026796-15026894:+\n",
       "7239       exon:chrY:15470344-15470433:-\n",
       "7240       exon:chrY:15481136-15481229:-\n",
       "7241       exon:chrY:16831339-16831398:+\n",
       "7242       exon:chrY:21207128-21207177:-\n",
       "7243       exon:chrY:21753666-21753845:+\n",
       "7244       exon:chrY:21753666-21753845:+\n",
       "7245       exon:chrY:21901414-21901548:-\n",
       "7246         exon:chrY:2712118-2712298:+\n",
       "7247         exon:chrY:2713687-2713784:+\n",
       "7248         exon:chrY:2722641-2722812:+\n",
       "7249         exon:chrY:2733129-2733286:+\n",
       "7250         exon:chrY:2829115-2829687:+\n",
       "7251         exon:chrY:2829115-2829687:+\n",
       "dtype: object"
      ]
     },
     "execution_count": 108,
     "metadata": {},
     "output_type": "execute_result"
    }
   ],
   "source": [
    "mxe_exon3s = pd.Series([x.split('@')[2] for x in splicing.columns[splicing_types == 'MXE']])\n",
    "mxe_exon3s"
   ]
  },
  {
   "cell_type": "code",
   "execution_count": 109,
   "metadata": {
    "collapsed": false
   },
   "outputs": [
    {
     "name": "stdout",
     "output_type": "stream",
     "text": [
      "(51155,)\n",
      "(29394,)\n",
      "(338179, 3)\n"
     ]
    },
    {
     "data": {
      "text/html": [
       "<div>\n",
       "<table border=\"1\" class=\"dataframe\">\n",
       "  <thead>\n",
       "    <tr style=\"text-align: right;\">\n",
       "      <th></th>\n",
       "      <th>exon</th>\n",
       "      <th>direction</th>\n",
       "      <th>junction</th>\n",
       "    </tr>\n",
       "  </thead>\n",
       "  <tbody>\n",
       "    <tr>\n",
       "      <th>5</th>\n",
       "      <td>exon:chr1:24738-24891:-</td>\n",
       "      <td>downstream</td>\n",
       "      <td>chr1:24892-29320:-</td>\n",
       "    </tr>\n",
       "    <tr>\n",
       "      <th>6</th>\n",
       "      <td>exon:chr1:24738-24891:-</td>\n",
       "      <td>downstream</td>\n",
       "      <td>chr1:24892-29533:-</td>\n",
       "    </tr>\n",
       "    <tr>\n",
       "      <th>7</th>\n",
       "      <td>exon:chr1:24738-24891:-</td>\n",
       "      <td>upstream</td>\n",
       "      <td>chr1:18062-24737:-</td>\n",
       "    </tr>\n",
       "    <tr>\n",
       "      <th>8</th>\n",
       "      <td>exon:chr1:24738-24891:-</td>\n",
       "      <td>upstream</td>\n",
       "      <td>chr1:18380-24737:-</td>\n",
       "    </tr>\n",
       "    <tr>\n",
       "      <th>9</th>\n",
       "      <td>exon:chr1:24738-24891:-</td>\n",
       "      <td>upstream</td>\n",
       "      <td>chr1:18555-24737:-</td>\n",
       "    </tr>\n",
       "  </tbody>\n",
       "</table>\n",
       "</div>"
      ],
      "text/plain": [
       "                      exon   direction            junction\n",
       "5  exon:chr1:24738-24891:-  downstream  chr1:24892-29320:-\n",
       "6  exon:chr1:24738-24891:-  downstream  chr1:24892-29533:-\n",
       "7  exon:chr1:24738-24891:-    upstream  chr1:18062-24737:-\n",
       "8  exon:chr1:24738-24891:-    upstream  chr1:18380-24737:-\n",
       "9  exon:chr1:24738-24891:-    upstream  chr1:18555-24737:-"
      ]
     },
     "execution_count": 109,
     "metadata": {},
     "output_type": "execute_result"
    }
   ],
   "source": [
    "alt_exons = pd.concat([exon2s, mxe_exon3s], ignore_index=True)\n",
    "print alt_exons.shape\n",
    "alt_exons = alt_exons.drop_duplicates()\n",
    "print alt_exons.shape\n",
    "\n",
    "in_alt_exons = exon_juction_direction_internal.exon.isin(alt_exons.values)\n",
    "\n",
    "constitutive = exon_juction_direction_internal.loc[(~in_alt_exons)]\n",
    "print constitutive.shape\n",
    "constitutive.head()"
   ]
  },
  {
   "cell_type": "code",
   "execution_count": 110,
   "metadata": {
    "collapsed": false
   },
   "outputs": [
    {
     "name": "stdout",
     "output_type": "stream",
     "text": [
      "(120552,)\n"
     ]
    },
    {
     "data": {
      "text/plain": [
       "0    exon:chr1:24738-24891:-\n",
       "1    exon:chr1:18268-18379:-\n",
       "2    exon:chr1:17915-18061:-\n",
       "3    exon:chr1:16854-17055:-\n",
       "4    exon:chr1:16607-16765:-\n",
       "dtype: object"
      ]
     },
     "execution_count": 110,
     "metadata": {},
     "output_type": "execute_result"
    }
   ],
   "source": [
    "from outrigger.region import Region\n",
    "constitutive_regions = pd.Series(constitutive.exon.unique()).map(Region)\n",
    "print constitutive_regions.shape\n",
    "constitutive_regions.head()"
   ]
  },
  {
   "cell_type": "code",
   "execution_count": 111,
   "metadata": {
    "collapsed": false
   },
   "outputs": [
    {
     "data": {
      "text/plain": [
       "222439"
      ]
     },
     "execution_count": 111,
     "metadata": {},
     "output_type": "execute_result"
    }
   ],
   "source": [
    "constitutive_junctions = constitutive.junction.unique()\n",
    "len(constitutive_junctions)"
   ]
  },
  {
   "cell_type": "markdown",
   "metadata": {},
   "source": [
    "### Filter constitutive junctions for usage\n",
    "\n",
    "Check that the junctions for these exons are seen in 20+ single cells per celltype"
   ]
  },
  {
   "cell_type": "code",
   "execution_count": 112,
   "metadata": {
    "collapsed": false
   },
   "outputs": [
    {
     "name": "stdout",
     "output_type": "stream",
     "text": [
      "conservation\r\n",
      "constitutive_downstream400_pyrimidine_content.csv\r\n",
      "constitutive_exons.bed\r\n",
      "constitutive_feature_data.csv\r\n",
      "constitutive_upstream400_pyrimidine_content.csv\r\n",
      "exon2_downstream400_pyrimidine_content.csv\r\n",
      "exon2_upstream400_pyrimidine_content.csv\r\n",
      "expression.csv\r\n",
      "expression_stressed.csv\r\n",
      "junction_exon_triples.csv\r\n",
      "mapping_stats.csv\r\n",
      "mapping_stats_stressed.csv\r\n",
      "metadata.csv\r\n",
      "metadata_stressed.csv\r\n",
      "mutually_exclusive_exon_consolidated_events.csv\r\n",
      "mutually_exclusive_exons_psi.csv\r\n",
      "mxe_events_with_stressed.csv\r\n",
      "nucleotide_content\r\n",
      "outrigger_singlecell.sh\r\n",
      "outrigger_singlecell.sh.err\r\n",
      "outrigger_singlecell.sh.out\r\n",
      "outrigger_singlecell.sh~\r\n",
      "psi.csv\r\n",
      "psi3.csv\r\n",
      "psi3_stressed.csv\r\n",
      "psi5.csv\r\n",
      "psi5_psi3_combined.csv\r\n",
      "psi5_psi3_combined.hdf\r\n",
      "psi5_psi3_combined_metadata.csv\r\n",
      "psi5_psi3_combined_metadata.hdf\r\n",
      "psi5_stressed.csv\r\n",
      "psi_constitutively0.csv\r\n",
      "psi_constitutively1.csv\r\n",
      "psi_unfiltered.csv\r\n",
      "se_events_with_stressed.csv\r\n",
      "sj_metadata.csv\r\n",
      "sj_raw.csv\r\n",
      "skipped_exon_consolidated_events.csv\r\n",
      "skipped_exon_psi_from_junctions.csv\r\n",
      "splice_junction_metadata.csv\r\n",
      "splice_junctions_psi.csv\r\n",
      "splicing.csv\r\n",
      "splicing_feature_data\r\n",
      "splicing_feature_data.csv\r\n",
      "splicing_stressed.csv\r\n"
     ]
    }
   ],
   "source": [
    "! ls $csv_folder"
   ]
  },
  {
   "cell_type": "code",
   "execution_count": 113,
   "metadata": {
    "collapsed": false
   },
   "outputs": [
    {
     "data": {
      "text/html": [
       "<div>\n",
       "<table border=\"1\" class=\"dataframe\">\n",
       "  <thead>\n",
       "    <tr style=\"text-align: right;\">\n",
       "      <th></th>\n",
       "      <th>chrom</th>\n",
       "      <th>intron_start</th>\n",
       "      <th>intron_stop</th>\n",
       "      <th>strand</th>\n",
       "      <th>intron_motif</th>\n",
       "      <th>annotated</th>\n",
       "      <th>unique_junction_reads</th>\n",
       "      <th>multimap_junction_reads</th>\n",
       "      <th>max_overhang</th>\n",
       "      <th>intron_location</th>\n",
       "      <th>sample_id</th>\n",
       "    </tr>\n",
       "  </thead>\n",
       "  <tbody>\n",
       "    <tr>\n",
       "      <th>0</th>\n",
       "      <td>chr1</td>\n",
       "      <td>14830</td>\n",
       "      <td>14969</td>\n",
       "      <td>-</td>\n",
       "      <td>GT/AG</td>\n",
       "      <td>True</td>\n",
       "      <td>0</td>\n",
       "      <td>1</td>\n",
       "      <td>35</td>\n",
       "      <td>chr1:14830-14969:-</td>\n",
       "      <td>CVN_09</td>\n",
       "    </tr>\n",
       "    <tr>\n",
       "      <th>1</th>\n",
       "      <td>chr1</td>\n",
       "      <td>15039</td>\n",
       "      <td>15795</td>\n",
       "      <td>-</td>\n",
       "      <td>GT/AG</td>\n",
       "      <td>True</td>\n",
       "      <td>0</td>\n",
       "      <td>1</td>\n",
       "      <td>49</td>\n",
       "      <td>chr1:15039-15795:-</td>\n",
       "      <td>CVN_09</td>\n",
       "    </tr>\n",
       "    <tr>\n",
       "      <th>2</th>\n",
       "      <td>chr1</td>\n",
       "      <td>228777</td>\n",
       "      <td>237053</td>\n",
       "      <td>-</td>\n",
       "      <td>GT/AG</td>\n",
       "      <td>True</td>\n",
       "      <td>2</td>\n",
       "      <td>12</td>\n",
       "      <td>48</td>\n",
       "      <td>chr1:228777-237053:-</td>\n",
       "      <td>CVN_09</td>\n",
       "    </tr>\n",
       "    <tr>\n",
       "      <th>3</th>\n",
       "      <td>chr1</td>\n",
       "      <td>320654</td>\n",
       "      <td>324287</td>\n",
       "      <td>+</td>\n",
       "      <td>GT/AG</td>\n",
       "      <td>True</td>\n",
       "      <td>0</td>\n",
       "      <td>1</td>\n",
       "      <td>28</td>\n",
       "      <td>chr1:320654-324287:+</td>\n",
       "      <td>CVN_09</td>\n",
       "    </tr>\n",
       "    <tr>\n",
       "      <th>4</th>\n",
       "      <td>chr1</td>\n",
       "      <td>320939</td>\n",
       "      <td>321031</td>\n",
       "      <td>+</td>\n",
       "      <td>GT/AG</td>\n",
       "      <td>True</td>\n",
       "      <td>0</td>\n",
       "      <td>3</td>\n",
       "      <td>39</td>\n",
       "      <td>chr1:320939-321031:+</td>\n",
       "      <td>CVN_09</td>\n",
       "    </tr>\n",
       "  </tbody>\n",
       "</table>\n",
       "</div>"
      ],
      "text/plain": [
       "  chrom  intron_start  intron_stop strand intron_motif annotated  \\\n",
       "0  chr1         14830        14969      -        GT/AG      True   \n",
       "1  chr1         15039        15795      -        GT/AG      True   \n",
       "2  chr1        228777       237053      -        GT/AG      True   \n",
       "3  chr1        320654       324287      +        GT/AG      True   \n",
       "4  chr1        320939       321031      +        GT/AG      True   \n",
       "\n",
       "   unique_junction_reads  multimap_junction_reads  max_overhang  \\\n",
       "0                      0                        1            35   \n",
       "1                      0                        1            49   \n",
       "2                      2                       12            48   \n",
       "3                      0                        1            28   \n",
       "4                      0                        3            39   \n",
       "\n",
       "        intron_location sample_id  \n",
       "0    chr1:14830-14969:-    CVN_09  \n",
       "1    chr1:15039-15795:-    CVN_09  \n",
       "2  chr1:228777-237053:-    CVN_09  \n",
       "3  chr1:320654-324287:+    CVN_09  \n",
       "4  chr1:320939-321031:+    CVN_09  "
      ]
     },
     "execution_count": 113,
     "metadata": {},
     "output_type": "execute_result"
    }
   ],
   "source": [
    "sj = pd.read_csv('{}/sj_raw.csv'.format(csv_folder))\n",
    "\n",
    "sj.head()"
   ]
  },
  {
   "cell_type": "markdown",
   "metadata": {},
   "source": [
    "### Get just junctions associated with constitutive exons"
   ]
  },
  {
   "cell_type": "code",
   "execution_count": 114,
   "metadata": {
    "collapsed": false
   },
   "outputs": [
    {
     "name": "stdout",
     "output_type": "stream",
     "text": [
      "(5054625, 11)\n"
     ]
    },
    {
     "data": {
      "text/html": [
       "<div>\n",
       "<table border=\"1\" class=\"dataframe\">\n",
       "  <thead>\n",
       "    <tr style=\"text-align: right;\">\n",
       "      <th></th>\n",
       "      <th>chrom</th>\n",
       "      <th>intron_start</th>\n",
       "      <th>intron_stop</th>\n",
       "      <th>strand</th>\n",
       "      <th>intron_motif</th>\n",
       "      <th>annotated</th>\n",
       "      <th>unique_junction_reads</th>\n",
       "      <th>multimap_junction_reads</th>\n",
       "      <th>max_overhang</th>\n",
       "      <th>intron_location</th>\n",
       "      <th>sample_id</th>\n",
       "    </tr>\n",
       "  </thead>\n",
       "  <tbody>\n",
       "    <tr>\n",
       "      <th>1</th>\n",
       "      <td>chr1</td>\n",
       "      <td>15039</td>\n",
       "      <td>15795</td>\n",
       "      <td>-</td>\n",
       "      <td>GT/AG</td>\n",
       "      <td>True</td>\n",
       "      <td>0</td>\n",
       "      <td>1</td>\n",
       "      <td>49</td>\n",
       "      <td>chr1:15039-15795:-</td>\n",
       "      <td>CVN_09</td>\n",
       "    </tr>\n",
       "    <tr>\n",
       "      <th>2</th>\n",
       "      <td>chr1</td>\n",
       "      <td>228777</td>\n",
       "      <td>237053</td>\n",
       "      <td>-</td>\n",
       "      <td>GT/AG</td>\n",
       "      <td>True</td>\n",
       "      <td>2</td>\n",
       "      <td>12</td>\n",
       "      <td>48</td>\n",
       "      <td>chr1:228777-237053:-</td>\n",
       "      <td>CVN_09</td>\n",
       "    </tr>\n",
       "    <tr>\n",
       "      <th>8</th>\n",
       "      <td>chr1</td>\n",
       "      <td>1309283</td>\n",
       "      <td>1309379</td>\n",
       "      <td>-</td>\n",
       "      <td>GT/AG</td>\n",
       "      <td>True</td>\n",
       "      <td>37</td>\n",
       "      <td>0</td>\n",
       "      <td>49</td>\n",
       "      <td>chr1:1309283-1309379:-</td>\n",
       "      <td>CVN_09</td>\n",
       "    </tr>\n",
       "    <tr>\n",
       "      <th>9</th>\n",
       "      <td>chr1</td>\n",
       "      <td>1309826</td>\n",
       "      <td>1310084</td>\n",
       "      <td>-</td>\n",
       "      <td>GT/AG</td>\n",
       "      <td>True</td>\n",
       "      <td>43</td>\n",
       "      <td>0</td>\n",
       "      <td>49</td>\n",
       "      <td>chr1:1309826-1310084:-</td>\n",
       "      <td>CVN_09</td>\n",
       "    </tr>\n",
       "    <tr>\n",
       "      <th>11</th>\n",
       "      <td>chr1</td>\n",
       "      <td>1337637</td>\n",
       "      <td>1341188</td>\n",
       "      <td>-</td>\n",
       "      <td>GT/AG</td>\n",
       "      <td>True</td>\n",
       "      <td>409</td>\n",
       "      <td>0</td>\n",
       "      <td>50</td>\n",
       "      <td>chr1:1337637-1341188:-</td>\n",
       "      <td>CVN_09</td>\n",
       "    </tr>\n",
       "  </tbody>\n",
       "</table>\n",
       "</div>"
      ],
      "text/plain": [
       "   chrom  intron_start  intron_stop strand intron_motif annotated  \\\n",
       "1   chr1         15039        15795      -        GT/AG      True   \n",
       "2   chr1        228777       237053      -        GT/AG      True   \n",
       "8   chr1       1309283      1309379      -        GT/AG      True   \n",
       "9   chr1       1309826      1310084      -        GT/AG      True   \n",
       "11  chr1       1337637      1341188      -        GT/AG      True   \n",
       "\n",
       "    unique_junction_reads  multimap_junction_reads  max_overhang  \\\n",
       "1                       0                        1            49   \n",
       "2                       2                       12            48   \n",
       "8                      37                        0            49   \n",
       "9                      43                        0            49   \n",
       "11                    409                        0            50   \n",
       "\n",
       "           intron_location sample_id  \n",
       "1       chr1:15039-15795:-    CVN_09  \n",
       "2     chr1:228777-237053:-    CVN_09  \n",
       "8   chr1:1309283-1309379:-    CVN_09  \n",
       "9   chr1:1309826-1310084:-    CVN_09  \n",
       "11  chr1:1337637-1341188:-    CVN_09  "
      ]
     },
     "execution_count": 114,
     "metadata": {},
     "output_type": "execute_result"
    }
   ],
   "source": [
    "sj_constitutive = sj.loc[sj['intron_location'].isin(constitutive_junctions)]\n",
    "print sj_constitutive.shape\n",
    "sj_constitutive.head()"
   ]
  },
  {
   "cell_type": "code",
   "execution_count": 115,
   "metadata": {
    "collapsed": false
   },
   "outputs": [
    {
     "data": {
      "text/html": [
       "<div>\n",
       "<table border=\"1\" class=\"dataframe\">\n",
       "  <thead>\n",
       "    <tr style=\"text-align: right;\">\n",
       "      <th></th>\n",
       "      <th>single</th>\n",
       "      <th>pooled</th>\n",
       "      <th>phenotype</th>\n",
       "      <th>neuron</th>\n",
       "      <th>progenitor</th>\n",
       "      <th>stressed</th>\n",
       "      <th>craig_venter</th>\n",
       "      <th>differentiation_batch</th>\n",
       "      <th>split</th>\n",
       "    </tr>\n",
       "  </thead>\n",
       "  <tbody>\n",
       "    <tr>\n",
       "      <th>CVN_01</th>\n",
       "      <td>True</td>\n",
       "      <td>False</td>\n",
       "      <td>NPC</td>\n",
       "      <td>False</td>\n",
       "      <td>True</td>\n",
       "      <td>False</td>\n",
       "      <td>True</td>\n",
       "      <td>NaN</td>\n",
       "      <td>NaN</td>\n",
       "    </tr>\n",
       "    <tr>\n",
       "      <th>CVN_02</th>\n",
       "      <td>True</td>\n",
       "      <td>False</td>\n",
       "      <td>NPC</td>\n",
       "      <td>False</td>\n",
       "      <td>True</td>\n",
       "      <td>False</td>\n",
       "      <td>True</td>\n",
       "      <td>NaN</td>\n",
       "      <td>NaN</td>\n",
       "    </tr>\n",
       "    <tr>\n",
       "      <th>CVN_03</th>\n",
       "      <td>True</td>\n",
       "      <td>False</td>\n",
       "      <td>NPC</td>\n",
       "      <td>False</td>\n",
       "      <td>True</td>\n",
       "      <td>False</td>\n",
       "      <td>True</td>\n",
       "      <td>NaN</td>\n",
       "      <td>NaN</td>\n",
       "    </tr>\n",
       "    <tr>\n",
       "      <th>CVN_04</th>\n",
       "      <td>True</td>\n",
       "      <td>False</td>\n",
       "      <td>NPC</td>\n",
       "      <td>False</td>\n",
       "      <td>True</td>\n",
       "      <td>False</td>\n",
       "      <td>True</td>\n",
       "      <td>NaN</td>\n",
       "      <td>NaN</td>\n",
       "    </tr>\n",
       "    <tr>\n",
       "      <th>CVN_05</th>\n",
       "      <td>True</td>\n",
       "      <td>False</td>\n",
       "      <td>NPC</td>\n",
       "      <td>False</td>\n",
       "      <td>True</td>\n",
       "      <td>False</td>\n",
       "      <td>True</td>\n",
       "      <td>NaN</td>\n",
       "      <td>NaN</td>\n",
       "    </tr>\n",
       "  </tbody>\n",
       "</table>\n",
       "</div>"
      ],
      "text/plain": [
       "       single pooled phenotype neuron progenitor stressed craig_venter  \\\n",
       "CVN_01   True  False       NPC  False       True    False         True   \n",
       "CVN_02   True  False       NPC  False       True    False         True   \n",
       "CVN_03   True  False       NPC  False       True    False         True   \n",
       "CVN_04   True  False       NPC  False       True    False         True   \n",
       "CVN_05   True  False       NPC  False       True    False         True   \n",
       "\n",
       "       differentiation_batch split  \n",
       "CVN_01                   NaN   NaN  \n",
       "CVN_02                   NaN   NaN  \n",
       "CVN_03                   NaN   NaN  \n",
       "CVN_04                   NaN   NaN  \n",
       "CVN_05                   NaN   NaN  "
      ]
     },
     "execution_count": 115,
     "metadata": {},
     "output_type": "execute_result"
    }
   ],
   "source": [
    "# This metadata only has iPSC, NPC, and MN (no sMN)\n",
    "\n",
    "metadata = pd.read_csv('{}/metadata.csv'.format(csv_folder), index_col=0)\n",
    "metadata.head()"
   ]
  },
  {
   "cell_type": "code",
   "execution_count": 116,
   "metadata": {
    "collapsed": false
   },
   "outputs": [
    {
     "data": {
      "text/plain": [
       "phenotype\n",
       "MN      73\n",
       "NPC     76\n",
       "iPSC    65\n",
       "dtype: int64"
      ]
     },
     "execution_count": 116,
     "metadata": {},
     "output_type": "execute_result"
    }
   ],
   "source": [
    "metadata.groupby('phenotype').size()"
   ]
  },
  {
   "cell_type": "code",
   "execution_count": 117,
   "metadata": {
    "collapsed": false
   },
   "outputs": [
    {
     "name": "stdout",
     "output_type": "stream",
     "text": [
      "\u001b[0m\u001b[01;34mconservation\u001b[0m/\r\n",
      "constitutive_downstream400_pyrimidine_content.csv\r\n",
      "constitutive_exons.bed\r\n",
      "constitutive_feature_data.csv\r\n",
      "constitutive_upstream400_pyrimidine_content.csv\r\n",
      "exon2_downstream400_pyrimidine_content.csv\r\n",
      "exon2_upstream400_pyrimidine_content.csv\r\n",
      "expression.csv\r\n",
      "expression_stressed.csv\r\n",
      "junction_exon_triples.csv\r\n",
      "mapping_stats.csv\r\n",
      "mapping_stats_stressed.csv\r\n",
      "metadata.csv\r\n",
      "metadata_stressed.csv\r\n",
      "mutually_exclusive_exon_consolidated_events.csv\r\n",
      "mutually_exclusive_exons_psi.csv\r\n",
      "mxe_events_with_stressed.csv\r\n",
      "\u001b[01;34mnucleotide_content\u001b[0m/\r\n",
      "outrigger_singlecell.sh\r\n",
      "outrigger_singlecell.sh.err\r\n",
      "outrigger_singlecell.sh.out\r\n",
      "outrigger_singlecell.sh~\r\n",
      "psi.csv\r\n",
      "psi3.csv\r\n",
      "psi3_stressed.csv\r\n",
      "psi5.csv\r\n",
      "psi5_psi3_combined.csv\r\n",
      "psi5_psi3_combined.hdf\r\n",
      "psi5_psi3_combined_metadata.csv\r\n",
      "psi5_psi3_combined_metadata.hdf\r\n",
      "psi5_stressed.csv\r\n",
      "psi_constitutively0.csv\r\n",
      "psi_constitutively1.csv\r\n",
      "psi_unfiltered.csv\r\n",
      "se_events_with_stressed.csv\r\n",
      "sj_metadata.csv\r\n",
      "sj_raw.csv\r\n",
      "skipped_exon_consolidated_events.csv\r\n",
      "skipped_exon_psi_from_junctions.csv\r\n",
      "splice_junction_metadata.csv\r\n",
      "splice_junctions_psi.csv\r\n",
      "splicing.csv\r\n",
      "\u001b[01;34msplicing_feature_data\u001b[0m/\r\n",
      "splicing_feature_data.csv\r\n",
      "splicing_stressed.csv\r\n",
      "\u001b[m"
     ]
    }
   ],
   "source": [
    "ls $csv_folder"
   ]
  },
  {
   "cell_type": "markdown",
   "metadata": {},
   "source": [
    "Get only single cells for calculating junction usage (no pooled)"
   ]
  },
  {
   "cell_type": "code",
   "execution_count": 118,
   "metadata": {
    "collapsed": true
   },
   "outputs": [],
   "source": [
    "phenotype = metadata.phenotype[metadata.single]"
   ]
  },
  {
   "cell_type": "markdown",
   "metadata": {},
   "source": [
    "### Call an exon constitutive if its junction start/stop is detected in at least 20 cells per celltype"
   ]
  },
  {
   "cell_type": "code",
   "execution_count": 119,
   "metadata": {
    "collapsed": false
   },
   "outputs": [
    {
     "data": {
      "text/html": [
       "<div>\n",
       "<table border=\"1\" class=\"dataframe\">\n",
       "  <thead>\n",
       "    <tr style=\"text-align: right;\">\n",
       "      <th></th>\n",
       "      <th>chrom</th>\n",
       "      <th>intron_start</th>\n",
       "      <th>intron_stop</th>\n",
       "      <th>strand</th>\n",
       "      <th>intron_motif</th>\n",
       "      <th>annotated</th>\n",
       "      <th>unique_junction_reads</th>\n",
       "      <th>multimap_junction_reads</th>\n",
       "      <th>max_overhang</th>\n",
       "      <th>intron_location</th>\n",
       "      <th>phenotype</th>\n",
       "    </tr>\n",
       "  </thead>\n",
       "  <tbody>\n",
       "    <tr>\n",
       "      <th>CVN_01</th>\n",
       "      <td>chr1</td>\n",
       "      <td>1328184</td>\n",
       "      <td>1328775</td>\n",
       "      <td>-</td>\n",
       "      <td>GT/AG</td>\n",
       "      <td>True</td>\n",
       "      <td>20</td>\n",
       "      <td>0</td>\n",
       "      <td>50</td>\n",
       "      <td>chr1:1328184-1328775:-</td>\n",
       "      <td>NPC</td>\n",
       "    </tr>\n",
       "    <tr>\n",
       "      <th>CVN_01</th>\n",
       "      <td>chr1</td>\n",
       "      <td>1337637</td>\n",
       "      <td>1341188</td>\n",
       "      <td>-</td>\n",
       "      <td>GT/AG</td>\n",
       "      <td>True</td>\n",
       "      <td>362</td>\n",
       "      <td>0</td>\n",
       "      <td>50</td>\n",
       "      <td>chr1:1337637-1341188:-</td>\n",
       "      <td>NPC</td>\n",
       "    </tr>\n",
       "    <tr>\n",
       "      <th>CVN_01</th>\n",
       "      <td>chr1</td>\n",
       "      <td>1341267</td>\n",
       "      <td>1342288</td>\n",
       "      <td>-</td>\n",
       "      <td>GT/AG</td>\n",
       "      <td>True</td>\n",
       "      <td>312</td>\n",
       "      <td>0</td>\n",
       "      <td>50</td>\n",
       "      <td>chr1:1341267-1342288:-</td>\n",
       "      <td>NPC</td>\n",
       "    </tr>\n",
       "    <tr>\n",
       "      <th>CVN_01</th>\n",
       "      <td>chr1</td>\n",
       "      <td>1342400</td>\n",
       "      <td>1342510</td>\n",
       "      <td>-</td>\n",
       "      <td>GT/AG</td>\n",
       "      <td>True</td>\n",
       "      <td>246</td>\n",
       "      <td>0</td>\n",
       "      <td>48</td>\n",
       "      <td>chr1:1342400-1342510:-</td>\n",
       "      <td>NPC</td>\n",
       "    </tr>\n",
       "    <tr>\n",
       "      <th>CVN_01</th>\n",
       "      <td>chr1</td>\n",
       "      <td>1572367</td>\n",
       "      <td>1572442</td>\n",
       "      <td>-</td>\n",
       "      <td>GT/AG</td>\n",
       "      <td>True</td>\n",
       "      <td>0</td>\n",
       "      <td>2</td>\n",
       "      <td>8</td>\n",
       "      <td>chr1:1572367-1572442:-</td>\n",
       "      <td>NPC</td>\n",
       "    </tr>\n",
       "  </tbody>\n",
       "</table>\n",
       "</div>"
      ],
      "text/plain": [
       "       chrom  intron_start  intron_stop strand intron_motif annotated  \\\n",
       "CVN_01  chr1       1328184      1328775      -        GT/AG      True   \n",
       "CVN_01  chr1       1337637      1341188      -        GT/AG      True   \n",
       "CVN_01  chr1       1341267      1342288      -        GT/AG      True   \n",
       "CVN_01  chr1       1342400      1342510      -        GT/AG      True   \n",
       "CVN_01  chr1       1572367      1572442      -        GT/AG      True   \n",
       "\n",
       "        unique_junction_reads  multimap_junction_reads  max_overhang  \\\n",
       "CVN_01                     20                        0            50   \n",
       "CVN_01                    362                        0            50   \n",
       "CVN_01                    312                        0            50   \n",
       "CVN_01                    246                        0            48   \n",
       "CVN_01                      0                        2             8   \n",
       "\n",
       "               intron_location phenotype  \n",
       "CVN_01  chr1:1328184-1328775:-       NPC  \n",
       "CVN_01  chr1:1337637-1341188:-       NPC  \n",
       "CVN_01  chr1:1341267-1342288:-       NPC  \n",
       "CVN_01  chr1:1342400-1342510:-       NPC  \n",
       "CVN_01  chr1:1572367-1572442:-       NPC  "
      ]
     },
     "execution_count": 119,
     "metadata": {},
     "output_type": "execute_result"
    }
   ],
   "source": [
    "sj_constitutive = sj_constitutive.set_index('sample_id')\n",
    "sj_constitutive = sj_constitutive.join(phenotype)\n",
    "sj_constitutive.head()"
   ]
  },
  {
   "cell_type": "markdown",
   "metadata": {},
   "source": [
    "### Use at least 10 unique junction reads"
   ]
  },
  {
   "cell_type": "code",
   "execution_count": 120,
   "metadata": {
    "collapsed": false
   },
   "outputs": [
    {
     "name": "stdout",
     "output_type": "stream",
     "text": [
      "(5054625, 11)\n",
      "(3591047, 11)\n"
     ]
    }
   ],
   "source": [
    "print sj_constitutive.shape\n",
    "sj_constitutive = sj_constitutive.loc[sj_constitutive.unique_junction_reads >= 10]\n",
    "print sj_constitutive.shape\n"
   ]
  },
  {
   "cell_type": "code",
   "execution_count": 121,
   "metadata": {
    "collapsed": false
   },
   "outputs": [
    {
     "name": "stdout",
     "output_type": "stream",
     "text": [
      "CPU times: user 2min 8s, sys: 1 s, total: 2min 9s\n",
      "Wall time: 2min 9s\n"
     ]
    }
   ],
   "source": [
    "%%time\n",
    "\n",
    "min_samples = 20\n",
    "\n",
    "chrom = 'chrom'\n",
    "start = 'intron_start'\n",
    "stop = 'intron_stop'\n",
    "strand = 'strand'\n",
    "\n",
    "\n",
    "constitutive_starts = sj_constitutive.groupby('phenotype').apply(\n",
    "    lambda x: x.groupby([chrom, start, strand]).filter( lambda y: len(y.index.unique()) > min_samples ))\n",
    "    "
   ]
  },
  {
   "cell_type": "code",
   "execution_count": 122,
   "metadata": {
    "collapsed": false
   },
   "outputs": [
    {
     "name": "stdout",
     "output_type": "stream",
     "text": [
      "CPU times: user 2min 8s, sys: 905 ms, total: 2min 9s\n",
      "Wall time: 2min 9s\n"
     ]
    }
   ],
   "source": [
    "%%time \n",
    "\n",
    "constitutive_stops = sj_constitutive.groupby('phenotype').apply(\n",
    "    lambda x: x.groupby([chrom, stop, strand]).filter(lambda y: len(y.index.unique()) > min_samples ))\n"
   ]
  },
  {
   "cell_type": "markdown",
   "metadata": {},
   "source": [
    "### Filter for constitutive stops and starts that are in ALL phenotypes"
   ]
  },
  {
   "cell_type": "code",
   "execution_count": 123,
   "metadata": {
    "collapsed": false
   },
   "outputs": [
    {
     "data": {
      "text/plain": [
       "phenotype\n",
       "MN      268214\n",
       "NPC     468667\n",
       "iPSC    869063\n",
       "dtype: int64"
      ]
     },
     "execution_count": 123,
     "metadata": {},
     "output_type": "execute_result"
    }
   ],
   "source": [
    "constitutive_stops.groupby('phenotype').size()"
   ]
  },
  {
   "cell_type": "code",
   "execution_count": 124,
   "metadata": {
    "collapsed": false
   },
   "outputs": [
    {
     "name": "stdout",
     "output_type": "stream",
     "text": [
      "CPU times: user 25.9 s, sys: 42 ms, total: 25.9 s\n",
      "Wall time: 26 s\n"
     ]
    }
   ],
   "source": [
    "%%time \n",
    "constitutive_stops_all_phenotypes = constitutive_stops.groupby('intron_location').filter(\n",
    "    lambda x: len(x.groupby('phenotype')) == 3)"
   ]
  },
  {
   "cell_type": "code",
   "execution_count": 125,
   "metadata": {
    "collapsed": false
   },
   "outputs": [
    {
     "name": "stdout",
     "output_type": "stream",
     "text": [
      "CPU times: user 26.4 s, sys: 106 ms, total: 26.5 s\n",
      "Wall time: 26.6 s\n"
     ]
    }
   ],
   "source": [
    "%%time\n",
    "constitutive_starts_all_phenotypes = constitutive_starts.groupby('intron_location').filter(\n",
    "    lambda x: len(x.groupby('phenotype')) == 3)"
   ]
  },
  {
   "cell_type": "code",
   "execution_count": 126,
   "metadata": {
    "collapsed": false
   },
   "outputs": [
    {
     "data": {
      "text/html": [
       "<div>\n",
       "<table border=\"1\" class=\"dataframe\">\n",
       "  <thead>\n",
       "    <tr style=\"text-align: right;\">\n",
       "      <th></th>\n",
       "      <th></th>\n",
       "      <th>chrom</th>\n",
       "      <th>intron_start</th>\n",
       "      <th>intron_stop</th>\n",
       "      <th>strand</th>\n",
       "      <th>intron_motif</th>\n",
       "      <th>annotated</th>\n",
       "      <th>unique_junction_reads</th>\n",
       "      <th>multimap_junction_reads</th>\n",
       "      <th>max_overhang</th>\n",
       "      <th>intron_location</th>\n",
       "      <th>phenotype</th>\n",
       "    </tr>\n",
       "    <tr>\n",
       "      <th>phenotype</th>\n",
       "      <th></th>\n",
       "      <th></th>\n",
       "      <th></th>\n",
       "      <th></th>\n",
       "      <th></th>\n",
       "      <th></th>\n",
       "      <th></th>\n",
       "      <th></th>\n",
       "      <th></th>\n",
       "      <th></th>\n",
       "      <th></th>\n",
       "      <th></th>\n",
       "    </tr>\n",
       "  </thead>\n",
       "  <tbody>\n",
       "    <tr>\n",
       "      <th rowspan=\"5\" valign=\"top\">MN</th>\n",
       "      <th>M1_01</th>\n",
       "      <td>chr1</td>\n",
       "      <td>1337637</td>\n",
       "      <td>1341188</td>\n",
       "      <td>-</td>\n",
       "      <td>GT/AG</td>\n",
       "      <td>True</td>\n",
       "      <td>588</td>\n",
       "      <td>0</td>\n",
       "      <td>45</td>\n",
       "      <td>chr1:1337637-1341188:-</td>\n",
       "      <td>MN</td>\n",
       "    </tr>\n",
       "    <tr>\n",
       "      <th>M1_01</th>\n",
       "      <td>chr1</td>\n",
       "      <td>1341267</td>\n",
       "      <td>1342288</td>\n",
       "      <td>-</td>\n",
       "      <td>GT/AG</td>\n",
       "      <td>True</td>\n",
       "      <td>341</td>\n",
       "      <td>0</td>\n",
       "      <td>46</td>\n",
       "      <td>chr1:1341267-1342288:-</td>\n",
       "      <td>MN</td>\n",
       "    </tr>\n",
       "    <tr>\n",
       "      <th>M1_01</th>\n",
       "      <td>chr1</td>\n",
       "      <td>1342400</td>\n",
       "      <td>1342510</td>\n",
       "      <td>-</td>\n",
       "      <td>GT/AG</td>\n",
       "      <td>True</td>\n",
       "      <td>227</td>\n",
       "      <td>0</td>\n",
       "      <td>46</td>\n",
       "      <td>chr1:1342400-1342510:-</td>\n",
       "      <td>MN</td>\n",
       "    </tr>\n",
       "    <tr>\n",
       "      <th>M1_01</th>\n",
       "      <td>chr1</td>\n",
       "      <td>6253115</td>\n",
       "      <td>6257711</td>\n",
       "      <td>-</td>\n",
       "      <td>GT/AG</td>\n",
       "      <td>True</td>\n",
       "      <td>131</td>\n",
       "      <td>9</td>\n",
       "      <td>45</td>\n",
       "      <td>chr1:6253115-6257711:-</td>\n",
       "      <td>MN</td>\n",
       "    </tr>\n",
       "    <tr>\n",
       "      <th>M1_01</th>\n",
       "      <td>chr1</td>\n",
       "      <td>6257817</td>\n",
       "      <td>6259621</td>\n",
       "      <td>-</td>\n",
       "      <td>GT/AG</td>\n",
       "      <td>True</td>\n",
       "      <td>114</td>\n",
       "      <td>0</td>\n",
       "      <td>35</td>\n",
       "      <td>chr1:6257817-6259621:-</td>\n",
       "      <td>MN</td>\n",
       "    </tr>\n",
       "  </tbody>\n",
       "</table>\n",
       "</div>"
      ],
      "text/plain": [
       "                chrom  intron_start  intron_stop strand intron_motif  \\\n",
       "phenotype                                                              \n",
       "MN        M1_01  chr1       1337637      1341188      -        GT/AG   \n",
       "          M1_01  chr1       1341267      1342288      -        GT/AG   \n",
       "          M1_01  chr1       1342400      1342510      -        GT/AG   \n",
       "          M1_01  chr1       6253115      6257711      -        GT/AG   \n",
       "          M1_01  chr1       6257817      6259621      -        GT/AG   \n",
       "\n",
       "                annotated  unique_junction_reads  multimap_junction_reads  \\\n",
       "phenotype                                                                   \n",
       "MN        M1_01      True                    588                        0   \n",
       "          M1_01      True                    341                        0   \n",
       "          M1_01      True                    227                        0   \n",
       "          M1_01      True                    131                        9   \n",
       "          M1_01      True                    114                        0   \n",
       "\n",
       "                 max_overhang         intron_location phenotype  \n",
       "phenotype                                                        \n",
       "MN        M1_01            45  chr1:1337637-1341188:-        MN  \n",
       "          M1_01            46  chr1:1341267-1342288:-        MN  \n",
       "          M1_01            46  chr1:1342400-1342510:-        MN  \n",
       "          M1_01            45  chr1:6253115-6257711:-        MN  \n",
       "          M1_01            35  chr1:6257817-6259621:-        MN  "
      ]
     },
     "execution_count": 126,
     "metadata": {},
     "output_type": "execute_result"
    }
   ],
   "source": [
    "constitutive_stops_all_phenotypes.head()"
   ]
  },
  {
   "cell_type": "code",
   "execution_count": 127,
   "metadata": {
    "collapsed": false
   },
   "outputs": [],
   "source": [
    "constitutive_upstream_junctions = constitutive_stops_all_phenotypes.intron_location.unique()\n",
    "constitutive_downstream_junctions = constitutive_starts_all_phenotypes.intron_location.unique()"
   ]
  },
  {
   "cell_type": "code",
   "execution_count": 128,
   "metadata": {
    "collapsed": false
   },
   "outputs": [],
   "source": [
    "grouped = constitutive.groupby('direction')\n",
    "upstream = grouped.get_group('upstream')\n",
    "downstream = grouped.get_group('downstream')"
   ]
  },
  {
   "cell_type": "markdown",
   "metadata": {},
   "source": [
    "Get exons which have both junctions in the list of constitutive"
   ]
  },
  {
   "cell_type": "code",
   "execution_count": 129,
   "metadata": {
    "collapsed": false
   },
   "outputs": [
    {
     "name": "stdout",
     "output_type": "stream",
     "text": [
      "CPU times: user 4min 33s, sys: 609 ms, total: 4min 34s\n",
      "Wall time: 4min 34s\n"
     ]
    }
   ],
   "source": [
    "%%time\n",
    "constitutive_both_junctions = constitutive.groupby('exon').filter(\n",
    "    lambda x: bool(x['junction'].isin(constitutive_downstream_junctions).sum() \n",
    "                   & x['junction'].isin(constitutive_upstream_junctions).sum()))"
   ]
  },
  {
   "cell_type": "code",
   "execution_count": 130,
   "metadata": {
    "collapsed": false
   },
   "outputs": [
    {
     "data": {
      "text/html": [
       "<div>\n",
       "<table border=\"1\" class=\"dataframe\">\n",
       "  <thead>\n",
       "    <tr style=\"text-align: right;\">\n",
       "      <th></th>\n",
       "      <th>exon</th>\n",
       "      <th>direction</th>\n",
       "      <th>junction</th>\n",
       "    </tr>\n",
       "  </thead>\n",
       "  <tbody>\n",
       "    <tr>\n",
       "      <th>1525</th>\n",
       "      <td>exon:chr1:1341189-1341266:-</td>\n",
       "      <td>downstream</td>\n",
       "      <td>chr1:1341267-1342288:-</td>\n",
       "    </tr>\n",
       "    <tr>\n",
       "      <th>1526</th>\n",
       "      <td>exon:chr1:1341189-1341266:-</td>\n",
       "      <td>downstream</td>\n",
       "      <td>chr1:1341267-1341605:-</td>\n",
       "    </tr>\n",
       "    <tr>\n",
       "      <th>1527</th>\n",
       "      <td>exon:chr1:1341189-1341266:-</td>\n",
       "      <td>downstream</td>\n",
       "      <td>chr1:1341267-1342215:-</td>\n",
       "    </tr>\n",
       "    <tr>\n",
       "      <th>1528</th>\n",
       "      <td>exon:chr1:1341189-1341266:-</td>\n",
       "      <td>downstream</td>\n",
       "      <td>chr1:1341267-1342367:-</td>\n",
       "    </tr>\n",
       "    <tr>\n",
       "      <th>1529</th>\n",
       "      <td>exon:chr1:1341189-1341266:-</td>\n",
       "      <td>downstream</td>\n",
       "      <td>chr1:1341267-1342510:-</td>\n",
       "    </tr>\n",
       "  </tbody>\n",
       "</table>\n",
       "</div>"
      ],
      "text/plain": [
       "                             exon   direction                junction\n",
       "1525  exon:chr1:1341189-1341266:-  downstream  chr1:1341267-1342288:-\n",
       "1526  exon:chr1:1341189-1341266:-  downstream  chr1:1341267-1341605:-\n",
       "1527  exon:chr1:1341189-1341266:-  downstream  chr1:1341267-1342215:-\n",
       "1528  exon:chr1:1341189-1341266:-  downstream  chr1:1341267-1342367:-\n",
       "1529  exon:chr1:1341189-1341266:-  downstream  chr1:1341267-1342510:-"
      ]
     },
     "execution_count": 130,
     "metadata": {},
     "output_type": "execute_result"
    }
   ],
   "source": [
    "constitutive_both_junctions.head()"
   ]
  },
  {
   "cell_type": "code",
   "execution_count": 131,
   "metadata": {
    "collapsed": true
   },
   "outputs": [],
   "source": [
    "splicing_feature_folder = '{}/splicing_feature_data'.format(csv_folder)\n",
    "alternative_feature_folder = '{}/alternative'.format(splicing_feature_folder)\n",
    "constitutive_feature_folder = '{}/constitutive'.format(splicing_feature_folder)\n"
   ]
  },
  {
   "cell_type": "code",
   "execution_count": 132,
   "metadata": {
    "collapsed": false
   },
   "outputs": [],
   "source": [
    "constitutive_both_junctions.to_csv('{}/constitutive_junctions.csv'.format(constitutive_feature_folder), index=False)"
   ]
  },
  {
   "cell_type": "code",
   "execution_count": 133,
   "metadata": {
    "collapsed": false
   },
   "outputs": [
    {
     "data": {
      "text/plain": [
       "(21195, 3)"
      ]
     },
     "execution_count": 133,
     "metadata": {},
     "output_type": "execute_result"
    }
   ],
   "source": [
    "constitutive_both_junctions.shape"
   ]
  },
  {
   "cell_type": "code",
   "execution_count": 134,
   "metadata": {
    "collapsed": false
   },
   "outputs": [
    {
     "data": {
      "text/plain": [
       "5293"
      ]
     },
     "execution_count": 134,
     "metadata": {},
     "output_type": "execute_result"
    }
   ],
   "source": [
    "len(constitutive_both_junctions.exon.unique())"
   ]
  },
  {
   "cell_type": "markdown",
   "metadata": {},
   "source": [
    "#### Make \"constitutive_exons\""
   ]
  },
  {
   "cell_type": "code",
   "execution_count": 135,
   "metadata": {
    "collapsed": false
   },
   "outputs": [
    {
     "data": {
      "text/plain": [
       "1525    exon:chr1:1341189-1341266:-\n",
       "1526    exon:chr1:1341189-1341266:-\n",
       "1527    exon:chr1:1341189-1341266:-\n",
       "1528    exon:chr1:1341189-1341266:-\n",
       "1529    exon:chr1:1341189-1341266:-\n",
       "1530    exon:chr1:1341189-1341266:-\n",
       "1531    exon:chr1:1341189-1341266:-\n",
       "1532    exon:chr1:1341189-1341266:-\n",
       "1533    exon:chr1:1341189-1341266:-\n",
       "1534    exon:chr1:1341189-1341266:-\n",
       "Name: exon, dtype: object"
      ]
     },
     "execution_count": 135,
     "metadata": {},
     "output_type": "execute_result"
    }
   ],
   "source": [
    "constitutive_exons = constitutive_both_junctions.exon\n",
    "constitutive_exons[:10]"
   ]
  },
  {
   "cell_type": "code",
   "execution_count": 136,
   "metadata": {
    "collapsed": false
   },
   "outputs": [
    {
     "data": {
      "text/plain": [
       "(21195,)"
      ]
     },
     "execution_count": 136,
     "metadata": {},
     "output_type": "execute_result"
    }
   ],
   "source": [
    "constitutive_exons.shape"
   ]
  },
  {
   "cell_type": "code",
   "execution_count": 137,
   "metadata": {
    "collapsed": false
   },
   "outputs": [
    {
     "name": "stdout",
     "output_type": "stream",
     "text": [
      "(21195,)\n",
      "(5293,)\n"
     ]
    }
   ],
   "source": [
    "constitutive_exons_no_duplicates = pd.Series(constitutive_exons)\n",
    "six.print_(constitutive_exons_no_duplicates.shape)\n",
    "constitutive_exons_no_duplicates = constitutive_exons_no_duplicates.drop_duplicates()\n",
    "six.print_(constitutive_exons_no_duplicates.shape)"
   ]
  },
  {
   "cell_type": "markdown",
   "metadata": {},
   "source": [
    "### Add everything from psi_constitutively1"
   ]
  },
  {
   "cell_type": "code",
   "execution_count": 138,
   "metadata": {
    "collapsed": false
   },
   "outputs": [
    {
     "name": "stdout",
     "output_type": "stream",
     "text": [
      "(5897,)\n",
      "(5893,)\n"
     ]
    }
   ],
   "source": [
    "all_constitutive_exons = pd.concat([constitutive_exons_no_duplicates, constitutive_exon2s])\n",
    "six.print_(all_constitutive_exons.shape)\n",
    "all_constitutive_exons = all_constitutive_exons.drop_duplicates()\n",
    "six.print_(all_constitutive_exons.shape)"
   ]
  },
  {
   "cell_type": "markdown",
   "metadata": {},
   "source": [
    "### Make BED file of constitutive"
   ]
  },
  {
   "cell_type": "code",
   "execution_count": 139,
   "metadata": {
    "collapsed": false
   },
   "outputs": [
    {
     "name": "stdout",
     "output_type": "stream",
     "text": [
      "(5893, 6)\n"
     ]
    },
    {
     "data": {
      "text/html": [
       "<div>\n",
       "<table border=\"1\" class=\"dataframe\">\n",
       "  <thead>\n",
       "    <tr style=\"text-align: right;\">\n",
       "      <th></th>\n",
       "      <th>0</th>\n",
       "      <th>1</th>\n",
       "      <th>2</th>\n",
       "      <th>3</th>\n",
       "      <th>4</th>\n",
       "      <th>5</th>\n",
       "    </tr>\n",
       "  </thead>\n",
       "  <tbody>\n",
       "    <tr>\n",
       "      <th>2669</th>\n",
       "      <td>chr10</td>\n",
       "      <td>102039881</td>\n",
       "      <td>102039985</td>\n",
       "      <td>exon:chr10:102039881-102039985:-</td>\n",
       "      <td>1000</td>\n",
       "      <td>-</td>\n",
       "    </tr>\n",
       "    <tr>\n",
       "      <th>2668</th>\n",
       "      <td>chr10</td>\n",
       "      <td>102040691</td>\n",
       "      <td>102040810</td>\n",
       "      <td>exon:chr10:102040691-102040810:-</td>\n",
       "      <td>1000</td>\n",
       "      <td>-</td>\n",
       "    </tr>\n",
       "    <tr>\n",
       "      <th>5293</th>\n",
       "      <td>chr10</td>\n",
       "      <td>102045854</td>\n",
       "      <td>102045970</td>\n",
       "      <td>exon:chr10:102045854-102045970:-</td>\n",
       "      <td>1000</td>\n",
       "      <td>-</td>\n",
       "    </tr>\n",
       "    <tr>\n",
       "      <th>2671</th>\n",
       "      <td>chr10</td>\n",
       "      <td>102286732</td>\n",
       "      <td>102286831</td>\n",
       "      <td>exon:chr10:102286732-102286831:-</td>\n",
       "      <td>1000</td>\n",
       "      <td>-</td>\n",
       "    </tr>\n",
       "    <tr>\n",
       "      <th>2672</th>\n",
       "      <td>chr10</td>\n",
       "      <td>102289123</td>\n",
       "      <td>102289263</td>\n",
       "      <td>exon:chr10:102289123-102289263:-</td>\n",
       "      <td>1000</td>\n",
       "      <td>-</td>\n",
       "    </tr>\n",
       "  </tbody>\n",
       "</table>\n",
       "</div>"
      ],
      "text/plain": [
       "          0          1          2                                 3     4  5\n",
       "2669  chr10  102039881  102039985  exon:chr10:102039881-102039985:-  1000  -\n",
       "2668  chr10  102040691  102040810  exon:chr10:102040691-102040810:-  1000  -\n",
       "5293  chr10  102045854  102045970  exon:chr10:102045854-102045970:-  1000  -\n",
       "2671  chr10  102286732  102286831  exon:chr10:102286732-102286831:-  1000  -\n",
       "2672  chr10  102289123  102289263  exon:chr10:102289123-102289263:-  1000  -"
      ]
     },
     "execution_count": 139,
     "metadata": {},
     "output_type": "execute_result"
    }
   ],
   "source": [
    "constitutive_regions = all_constitutive_exons.map(Region)\n",
    "\n",
    "constitutive_bed_table = pd.DataFrame(\n",
    "    map(lambda x: [x.chrom, x._start, x._stop, x.name, 1000, x.strand], constitutive_regions))\n",
    "constitutive_bed_table[3] = map(str, constitutive_regions)\n",
    "constitutive_bed_table = constitutive_bed_table.sort_values(by=3)\n",
    "\n",
    "constitutive_bed_table = constitutive_bed_table.drop_duplicates()\n",
    "print constitutive_bed_table.shape\n",
    "constitutive_bed_table.head()"
   ]
  },
  {
   "cell_type": "code",
   "execution_count": 140,
   "metadata": {
    "collapsed": true
   },
   "outputs": [],
   "source": [
    "constitutive_bed_table.to_csv('{}/exons.bed'.format(bed_folder), sep='\\t', index=False, header=False)"
   ]
  },
  {
   "cell_type": "code",
   "execution_count": 144,
   "metadata": {
    "collapsed": true
   },
   "outputs": [],
   "source": [
    "constitutive_bed_table.to_csv('{}/exons.bed'.format(constitutive_feature_folder), sep='\\t', index=False, header=False)"
   ]
  },
  {
   "cell_type": "code",
   "execution_count": 145,
   "metadata": {
    "collapsed": false
   },
   "outputs": [
    {
     "name": "stdout",
     "output_type": "stream",
     "text": [
      "constitutive_exons_phastcons_placental_mammal.bed\r\n",
      "constitutive_exons_phastcons_placental_mammal.txt\r\n",
      "constitutive_junctions.csv\r\n",
      "downstream400_placental_mammal_conservation.csv\r\n",
      "exon2_merkin2012_ancient.csv\r\n",
      "exon_length.csv\r\n",
      "exons.bed\r\n",
      "exons.fasta\r\n",
      "exons_merkin2012_ancient_alt_exons.bed\r\n",
      "exons_rnahybrid_mirbase_results.txt\r\n",
      "first_last_internal.csv\r\n",
      "gc_content.csv\r\n",
      "genes.csv\r\n",
      "genes_expanded.csv\r\n",
      "intron_length.csv\r\n",
      "maxentscan.csv\r\n",
      "\u001b[0m\u001b[01;34mnucleotide_content\u001b[0m/\r\n",
      "\u001b[01;36mphastcons_placental_mammal.txt\u001b[0m@\r\n",
      "repetitive_element_overlap.csv\r\n",
      "upstream400_placental_mammal_conservation.csv\r\n",
      "\u001b[m"
     ]
    }
   ],
   "source": [
    "ls $constitutive_feature_folder"
   ]
  },
  {
   "cell_type": "code",
   "execution_count": null,
   "metadata": {
    "collapsed": true
   },
   "outputs": [],
   "source": []
  }
 ],
 "metadata": {
  "kernelspec": {
   "display_name": "Python 2",
   "language": "python",
   "name": "python2"
  },
  "language_info": {
   "codemirror_mode": {
    "name": "ipython",
    "version": 2
   },
   "file_extension": ".py",
   "mimetype": "text/x-python",
   "name": "python",
   "nbconvert_exporter": "python",
   "pygments_lexer": "ipython2",
   "version": "2.7.11"
  }
 },
 "nbformat": 4,
 "nbformat_minor": 0
}
