{
 "cells": [
  {
   "cell_type": "markdown",
   "metadata": {},
   "source": [
    "# Base-wise conservation of introns\n",
    "\n",
    "\n",
    "First, load the memory-mapped pickle file that was created in notebook [0.2.09]"
   ]
  },
  {
   "cell_type": "code",
   "execution_count": 22,
   "metadata": {
    "collapsed": false
   },
   "outputs": [],
   "source": [
    "folder = '/projects/ps-yeolab/obotvinnik/singlecell_pnms/'\n",
    "\n",
    "csv_folder = '{}/csvs_for_paper'.format(folder)\n",
    "conservation_folder = '{}/conservation'.format(csv_folder)\n",
    "\n",
    "splicing_feature_folder = '{}/splicing_feature_data'.format(csv_folder)\n",
    "alternative_feature_folder = '{}/alternative'.format(splicing_feature_folder)\n",
    "constitutive_feature_folder = '{}/constitutive'.format(splicing_feature_folder)\n",
    "\n",
    "alt_exons_bedfile = '{}/exons.bed'.format(alternative_feature_folder)\n",
    "constitutive_bedfile = '{}/exons.bed'.format(constitutive_feature_folder)\n"
   ]
  },
  {
   "cell_type": "code",
   "execution_count": 23,
   "metadata": {
    "collapsed": false
   },
   "outputs": [
    {
     "name": "stdout",
     "output_type": "stream",
     "text": [
      "/projects/ps-yeolab/obotvinnik/singlecell_pnms/csvs_for_paper/splicing_feature_data\n"
     ]
    }
   ],
   "source": [
    "cd $splicing_feature_folder"
   ]
  },
  {
   "cell_type": "code",
   "execution_count": 24,
   "metadata": {
    "collapsed": false
   },
   "outputs": [
    {
     "name": "stdout",
     "output_type": "stream",
     "text": [
      "total 12G\r\n",
      "-rw-r--r-- 1 obotvinnik yeo-group 79G Sep 26 07:33 hg19_phastcons_placental_mammal_htseq.pickle\r\n"
     ]
    }
   ],
   "source": [
    "ls -lh /home/obotvinnik/projects/singlecell_pnms/analysis/htseq_memmap"
   ]
  },
  {
   "cell_type": "code",
   "execution_count": 25,
   "metadata": {
    "collapsed": false
   },
   "outputs": [
    {
     "name": "stdout",
     "output_type": "stream",
     "text": [
      "Overwriting basewise_conservation.py\n"
     ]
    }
   ],
   "source": [
    "%%file basewise_conservation.py\n",
    "import glob\n",
    "import os\n",
    "import numpy as np\n",
    "import pandas as pd\n",
    "import pybedtools\n",
    "import HTSeq\n",
    "from flotilla.util import timestamp\n",
    "\n",
    "import cPickle as pickle\n",
    "\n",
    "\n",
    "\n",
    "folder = '/projects/ps-yeolab/obotvinnik/singlecell_pnms/'\n",
    "\n",
    "csv_folder = '{}/csvs_for_paper'.format(folder)\n",
    "conservation_folder = '{}/conservation'.format(csv_folder)\n",
    "\n",
    "splicing_feature_folder = '{}/splicing_feature_data'.format(csv_folder)\n",
    "alternative_feature_folder = '{}/alternative'.format(splicing_feature_folder)\n",
    "constitutive_feature_folder = '{}/constitutive'.format(splicing_feature_folder)\n",
    "\n",
    "alt_exons_bedfile = '{}/exons.bed'.format(alternative_feature_folder)\n",
    "constitutive_bedfile = '{}/exons.bed'.format(constitutive_feature_folder)\n",
    "\n",
    "\n",
    "memmap_dir = '/home/obotvinnik/projects/singlecell_pnms/analysis/htseq_memmap'\n",
    "filename = '{}/hg19_phastcons_placental_mammal_htseq.pickle'.format(memmap_dir)\n",
    "with open(filename) as f:\n",
    "    conservation = pickle.load(f)\n",
    "\n",
    "\n",
    "bedfiles = {'alternative': alt_exons_bedfile, 'constitutive': constitutive_bedfile}\n",
    "\n",
    "directions = 'upstream', 'downstream'\n",
    "\n",
    "nt = 400\n",
    "\n",
    "\n",
    "for exon_type, bedfile in bedfiles.items():\n",
    "    bed = pybedtools.BedTool(bedfile)\n",
    "\n",
    "    basename = os.path.basename(bedfile)\n",
    "    prefix = basename.split('.bed')[0]\n",
    "    \n",
    "    for direction in directions:\n",
    "        if direction == 'downstream':\n",
    "            # Get downstream intron\n",
    "            intron = bed.flank(l=0, r=nt, s=True, g=pybedtools.chromsizes('hg19'))\n",
    "        else:\n",
    "            intron = bed.flank(l=nt, r=0, s=True, g=pybedtools.chromsizes('hg19'))\n",
    "        \n",
    "        # Get just unique upstream,/downstream\n",
    "        intron = pybedtools.BedTool(list(set(x for x in intron)))\n",
    "        nrow = len(intron)\n",
    "        ncol = nt\n",
    "        array = np.zeros(shape=(nrow, ncol), dtype=float)\n",
    "        junction_ids = pd.Series(index=np.arange(nrow))\n",
    "\n",
    "        print 'Iterating over {} intervals in {} {}nt of {} ...'.format(nrow, direction, nt, basename)\n",
    "        for i, interval in enumerate(intron):\n",
    "            if (i+1) % 10000 == 0:\n",
    "                print '\\t{}\\t{}/{}'.format(timestamp(), i+1, nrow)\n",
    "            junction_ids[i] = interval.name\n",
    "            region = conservation[HTSeq.GenomicInterval(str(interval.chrom), interval.start, interval.stop)]\n",
    "            count = sum(1 for _ in region.values())\n",
    "            subset = np.fromiter(region.values(),\n",
    "                                 dtype=float, count=count)\n",
    "            if interval.strand == '-':\n",
    "                subset = subset[::-1]\n",
    "                j = nt - count\n",
    "                array[i][j:] = subset\n",
    "            else:\n",
    "                j = count\n",
    "                array[i][:j] = subset\n",
    "        intron_conservation = pd.DataFrame(array, index=junction_ids.values)\n",
    "        filename = '{}/{}/{}{}_placental_mammal_conservation.csv'.format(splicing_feature_folder, exon_type, direction, nt)\n",
    "        print '\\t', filename\n",
    "        intron_conservation.to_csv(filename)\n"
   ]
  },
  {
   "cell_type": "code",
   "execution_count": 26,
   "metadata": {
    "collapsed": false
   },
   "outputs": [
    {
     "data": {
      "text/plain": [
       "u'/projects/ps-yeolab/obotvinnik/singlecell_pnms/csvs_for_paper/splicing_feature_data'"
      ]
     },
     "execution_count": 26,
     "metadata": {},
     "output_type": "execute_result"
    }
   ],
   "source": [
    "pwd"
   ]
  },
  {
   "cell_type": "code",
   "execution_count": 27,
   "metadata": {
    "collapsed": true
   },
   "outputs": [],
   "source": [
    "command = 'python /projects/ps-yeolab/obotvinnik/singlecell_pnms/csvs_for_paper/splicing_feature_data/basewise_conservation.py'\n",
    "commands = [command]\n",
    "\n",
    "from qtools import Submitter\n",
    "\n",
    "Submitter(commands, 'basewise_conservation', walltime='48:00:00', ppn=16)"
   ]
  },
  {
   "cell_type": "code",
   "execution_count": 19,
   "metadata": {
    "collapsed": false
   },
   "outputs": [
    {
     "name": "stdout",
     "output_type": "stream",
     "text": [
      "==> basewise_conservation.py <==\n",
      "import glob\n",
      "import os\n",
      "import numpy as np\n",
      "import pandas as pd\n",
      "import pybedtools\n",
      "import HTSeq\n",
      "from flotilla.util import timestamp\n",
      "\n",
      "import cPickle as pickle\n",
      "\n",
      "\n",
      "==> basewise_conservation.sh <==\n",
      "#!/bin/bash\n",
      "#PBS -N basewise_conservation\n",
      "#PBS -o basewise_conservation.sh.out\n",
      "#PBS -e basewise_conservation.sh.err\n",
      "#PBS -V\n",
      "#PBS -l walltime=48:00:00\n",
      "#PBS -l nodes=1:ppn=1\n",
      "#PBS -A yeo-group\n",
      "#PBS -q home\n",
      "\n",
      "\n",
      "==> basewise_conservation.sh.err <==\n",
      "/home/obotvinnik/anaconda/lib/python2.7/site-packages/matplotlib/__init__.py:810: UserWarning: Found matplotlib configuration in ~/.matplotlib/. To conform with the XDG base directory standard, this configuration location has been deprecated on Linux, and the new location is now /home/obotvinnik/.config/matplotlib/. Please move your configuration there to ensure that matplotlib will continue to find it in the future.\n",
      "  _get_xdg_config_dir())\n",
      "Traceback (most recent call last):\n",
      "  File \"/projects/ps-yeolab/obotvinnik/singlecell_pnms/csvs_for_paper/splicing_feature_data/basewise_conservation.py\", line 26, in <module>\n",
      "    conservation = pickle.load(f)\n",
      "MemoryError\n",
      "\n",
      "==> basewise_conservation.sh.out <==\n",
      "Nodes:        tscc-2-50\n"
     ]
    }
   ],
   "source": [
    "! head basewise_conservation*"
   ]
  },
  {
   "cell_type": "code",
   "execution_count": null,
   "metadata": {
    "collapsed": true
   },
   "outputs": [],
   "source": []
  },
  {
   "cell_type": "code",
   "execution_count": null,
   "metadata": {
    "collapsed": true
   },
   "outputs": [],
   "source": []
  }
 ],
 "metadata": {
  "kernelspec": {
   "display_name": "Python 2",
   "language": "python",
   "name": "python2"
  },
  "language_info": {
   "codemirror_mode": {
    "name": "ipython",
    "version": 2
   },
   "file_extension": ".py",
   "mimetype": "text/x-python",
   "name": "python",
   "nbconvert_exporter": "python",
   "pygments_lexer": "ipython2",
   "version": "2.7.11"
  }
 },
 "nbformat": 4,
 "nbformat_minor": 0
}
