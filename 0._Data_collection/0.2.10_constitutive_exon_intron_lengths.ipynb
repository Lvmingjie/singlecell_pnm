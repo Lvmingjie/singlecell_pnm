{
 "cells": [
  {
   "cell_type": "code",
   "execution_count": 1,
   "metadata": {
    "collapsed": true
   },
   "outputs": [],
   "source": [
    "folder = '/projects/ps-yeolab/obotvinnik/singlecell_pnms'\n",
    "csv_folder = '{}/csvs_for_paper/'.format(folder)\n",
    "bed_folder = '{}/bed'.format(folder)\n",
    "\n",
    "\n",
    "\n",
    "splicing_feature_folder = '{}/splicing_feature_data'.format(csv_folder)\n",
    "alternative_feature_folder = '{}/alternative'.format(splicing_feature_folder)\n",
    "constitutive_feature_folder = '{}/constitutive'.format(splicing_feature_folder)"
   ]
  },
  {
   "cell_type": "code",
   "execution_count": 3,
   "metadata": {
    "collapsed": false
   },
   "outputs": [],
   "source": [
    "import pandas as pd\n",
    "import six"
   ]
  },
  {
   "cell_type": "code",
   "execution_count": 5,
   "metadata": {
    "collapsed": false
   },
   "outputs": [
    {
     "name": "stdout",
     "output_type": "stream",
     "text": [
      "(25004, 3)\n"
     ]
    },
    {
     "data": {
      "text/html": [
       "<div>\n",
       "<table border=\"1\" class=\"dataframe\">\n",
       "  <thead>\n",
       "    <tr style=\"text-align: right;\">\n",
       "      <th></th>\n",
       "      <th>exon</th>\n",
       "      <th>direction</th>\n",
       "      <th>junction</th>\n",
       "    </tr>\n",
       "  </thead>\n",
       "  <tbody>\n",
       "    <tr>\n",
       "      <th>0</th>\n",
       "      <td>exon:chr1:1341189-1341266:-</td>\n",
       "      <td>downstream</td>\n",
       "      <td>chr1:1341267-1342288:-</td>\n",
       "    </tr>\n",
       "    <tr>\n",
       "      <th>1</th>\n",
       "      <td>exon:chr1:1341189-1341266:-</td>\n",
       "      <td>downstream</td>\n",
       "      <td>chr1:1341267-1341605:-</td>\n",
       "    </tr>\n",
       "    <tr>\n",
       "      <th>2</th>\n",
       "      <td>exon:chr1:1341189-1341266:-</td>\n",
       "      <td>downstream</td>\n",
       "      <td>chr1:1341267-1342215:-</td>\n",
       "    </tr>\n",
       "    <tr>\n",
       "      <th>3</th>\n",
       "      <td>exon:chr1:1341189-1341266:-</td>\n",
       "      <td>downstream</td>\n",
       "      <td>chr1:1341267-1342367:-</td>\n",
       "    </tr>\n",
       "    <tr>\n",
       "      <th>4</th>\n",
       "      <td>exon:chr1:1341189-1341266:-</td>\n",
       "      <td>downstream</td>\n",
       "      <td>chr1:1341267-1342510:-</td>\n",
       "    </tr>\n",
       "  </tbody>\n",
       "</table>\n",
       "</div>"
      ],
      "text/plain": [
       "                          exon   direction                junction\n",
       "0  exon:chr1:1341189-1341266:-  downstream  chr1:1341267-1342288:-\n",
       "1  exon:chr1:1341189-1341266:-  downstream  chr1:1341267-1341605:-\n",
       "2  exon:chr1:1341189-1341266:-  downstream  chr1:1341267-1342215:-\n",
       "3  exon:chr1:1341189-1341266:-  downstream  chr1:1341267-1342367:-\n",
       "4  exon:chr1:1341189-1341266:-  downstream  chr1:1341267-1342510:-"
      ]
     },
     "execution_count": 5,
     "metadata": {},
     "output_type": "execute_result"
    }
   ],
   "source": [
    "constitutive_junctions = pd.read_csv('{}/constitutive_junctions.csv'.format(constitutive_feature_folder))\n",
    "six.print_(constitutive_junctions.shape)\n",
    "constitutive_junctions.head()"
   ]
  },
  {
   "cell_type": "code",
   "execution_count": 7,
   "metadata": {
    "collapsed": false
   },
   "outputs": [],
   "source": [
    "from outrigger.region import Region"
   ]
  },
  {
   "cell_type": "code",
   "execution_count": 8,
   "metadata": {
    "collapsed": false
   },
   "outputs": [
    {
     "data": {
      "text/html": [
       "<div>\n",
       "<table border=\"1\" class=\"dataframe\">\n",
       "  <thead>\n",
       "    <tr style=\"text-align: right;\">\n",
       "      <th></th>\n",
       "      <th>exon</th>\n",
       "      <th>direction</th>\n",
       "      <th>junction</th>\n",
       "      <th>exon_region</th>\n",
       "      <th>junction_region</th>\n",
       "    </tr>\n",
       "  </thead>\n",
       "  <tbody>\n",
       "    <tr>\n",
       "      <th>0</th>\n",
       "      <td>exon:chr1:1341189-1341266:-</td>\n",
       "      <td>downstream</td>\n",
       "      <td>chr1:1341267-1342288:-</td>\n",
       "      <td>exon:chr1:1341189-1341266:-</td>\n",
       "      <td>chr1:1341267-1342288:-</td>\n",
       "    </tr>\n",
       "    <tr>\n",
       "      <th>1</th>\n",
       "      <td>exon:chr1:1341189-1341266:-</td>\n",
       "      <td>downstream</td>\n",
       "      <td>chr1:1341267-1341605:-</td>\n",
       "      <td>exon:chr1:1341189-1341266:-</td>\n",
       "      <td>chr1:1341267-1341605:-</td>\n",
       "    </tr>\n",
       "    <tr>\n",
       "      <th>2</th>\n",
       "      <td>exon:chr1:1341189-1341266:-</td>\n",
       "      <td>downstream</td>\n",
       "      <td>chr1:1341267-1342215:-</td>\n",
       "      <td>exon:chr1:1341189-1341266:-</td>\n",
       "      <td>chr1:1341267-1342215:-</td>\n",
       "    </tr>\n",
       "    <tr>\n",
       "      <th>3</th>\n",
       "      <td>exon:chr1:1341189-1341266:-</td>\n",
       "      <td>downstream</td>\n",
       "      <td>chr1:1341267-1342367:-</td>\n",
       "      <td>exon:chr1:1341189-1341266:-</td>\n",
       "      <td>chr1:1341267-1342367:-</td>\n",
       "    </tr>\n",
       "    <tr>\n",
       "      <th>4</th>\n",
       "      <td>exon:chr1:1341189-1341266:-</td>\n",
       "      <td>downstream</td>\n",
       "      <td>chr1:1341267-1342510:-</td>\n",
       "      <td>exon:chr1:1341189-1341266:-</td>\n",
       "      <td>chr1:1341267-1342510:-</td>\n",
       "    </tr>\n",
       "  </tbody>\n",
       "</table>\n",
       "</div>"
      ],
      "text/plain": [
       "                          exon   direction                junction  \\\n",
       "0  exon:chr1:1341189-1341266:-  downstream  chr1:1341267-1342288:-   \n",
       "1  exon:chr1:1341189-1341266:-  downstream  chr1:1341267-1341605:-   \n",
       "2  exon:chr1:1341189-1341266:-  downstream  chr1:1341267-1342215:-   \n",
       "3  exon:chr1:1341189-1341266:-  downstream  chr1:1341267-1342367:-   \n",
       "4  exon:chr1:1341189-1341266:-  downstream  chr1:1341267-1342510:-   \n",
       "\n",
       "                   exon_region         junction_region  \n",
       "0  exon:chr1:1341189-1341266:-  chr1:1341267-1342288:-  \n",
       "1  exon:chr1:1341189-1341266:-  chr1:1341267-1341605:-  \n",
       "2  exon:chr1:1341189-1341266:-  chr1:1341267-1342215:-  \n",
       "3  exon:chr1:1341189-1341266:-  chr1:1341267-1342367:-  \n",
       "4  exon:chr1:1341189-1341266:-  chr1:1341267-1342510:-  "
      ]
     },
     "execution_count": 8,
     "metadata": {},
     "output_type": "execute_result"
    }
   ],
   "source": [
    "constitutive_junctions['exon_region'] = constitutive_junctions['exon'].map(Region)\n",
    "constitutive_junctions['junction_region'] = constitutive_junctions['junction'].map(Region)\n",
    "constitutive_junctions.head()"
   ]
  },
  {
   "cell_type": "code",
   "execution_count": 10,
   "metadata": {
    "collapsed": false
   },
   "outputs": [
    {
     "data": {
      "text/html": [
       "<div>\n",
       "<table border=\"1\" class=\"dataframe\">\n",
       "  <thead>\n",
       "    <tr style=\"text-align: right;\">\n",
       "      <th></th>\n",
       "      <th>exon</th>\n",
       "      <th>direction</th>\n",
       "      <th>junction</th>\n",
       "      <th>exon_region</th>\n",
       "      <th>junction_region</th>\n",
       "      <th>exon_length</th>\n",
       "      <th>junction_length</th>\n",
       "    </tr>\n",
       "  </thead>\n",
       "  <tbody>\n",
       "    <tr>\n",
       "      <th>0</th>\n",
       "      <td>exon:chr1:1341189-1341266:-</td>\n",
       "      <td>downstream</td>\n",
       "      <td>chr1:1341267-1342288:-</td>\n",
       "      <td>exon:chr1:1341189-1341266:-</td>\n",
       "      <td>chr1:1341267-1342288:-</td>\n",
       "      <td>78</td>\n",
       "      <td>1022</td>\n",
       "    </tr>\n",
       "    <tr>\n",
       "      <th>1</th>\n",
       "      <td>exon:chr1:1341189-1341266:-</td>\n",
       "      <td>downstream</td>\n",
       "      <td>chr1:1341267-1341605:-</td>\n",
       "      <td>exon:chr1:1341189-1341266:-</td>\n",
       "      <td>chr1:1341267-1341605:-</td>\n",
       "      <td>78</td>\n",
       "      <td>339</td>\n",
       "    </tr>\n",
       "    <tr>\n",
       "      <th>2</th>\n",
       "      <td>exon:chr1:1341189-1341266:-</td>\n",
       "      <td>downstream</td>\n",
       "      <td>chr1:1341267-1342215:-</td>\n",
       "      <td>exon:chr1:1341189-1341266:-</td>\n",
       "      <td>chr1:1341267-1342215:-</td>\n",
       "      <td>78</td>\n",
       "      <td>949</td>\n",
       "    </tr>\n",
       "    <tr>\n",
       "      <th>3</th>\n",
       "      <td>exon:chr1:1341189-1341266:-</td>\n",
       "      <td>downstream</td>\n",
       "      <td>chr1:1341267-1342367:-</td>\n",
       "      <td>exon:chr1:1341189-1341266:-</td>\n",
       "      <td>chr1:1341267-1342367:-</td>\n",
       "      <td>78</td>\n",
       "      <td>1101</td>\n",
       "    </tr>\n",
       "    <tr>\n",
       "      <th>4</th>\n",
       "      <td>exon:chr1:1341189-1341266:-</td>\n",
       "      <td>downstream</td>\n",
       "      <td>chr1:1341267-1342510:-</td>\n",
       "      <td>exon:chr1:1341189-1341266:-</td>\n",
       "      <td>chr1:1341267-1342510:-</td>\n",
       "      <td>78</td>\n",
       "      <td>1244</td>\n",
       "    </tr>\n",
       "  </tbody>\n",
       "</table>\n",
       "</div>"
      ],
      "text/plain": [
       "                          exon   direction                junction  \\\n",
       "0  exon:chr1:1341189-1341266:-  downstream  chr1:1341267-1342288:-   \n",
       "1  exon:chr1:1341189-1341266:-  downstream  chr1:1341267-1341605:-   \n",
       "2  exon:chr1:1341189-1341266:-  downstream  chr1:1341267-1342215:-   \n",
       "3  exon:chr1:1341189-1341266:-  downstream  chr1:1341267-1342367:-   \n",
       "4  exon:chr1:1341189-1341266:-  downstream  chr1:1341267-1342510:-   \n",
       "\n",
       "                   exon_region         junction_region  exon_length  \\\n",
       "0  exon:chr1:1341189-1341266:-  chr1:1341267-1342288:-           78   \n",
       "1  exon:chr1:1341189-1341266:-  chr1:1341267-1341605:-           78   \n",
       "2  exon:chr1:1341189-1341266:-  chr1:1341267-1342215:-           78   \n",
       "3  exon:chr1:1341189-1341266:-  chr1:1341267-1342367:-           78   \n",
       "4  exon:chr1:1341189-1341266:-  chr1:1341267-1342510:-           78   \n",
       "\n",
       "   junction_length  \n",
       "0             1022  \n",
       "1              339  \n",
       "2              949  \n",
       "3             1101  \n",
       "4             1244  "
      ]
     },
     "execution_count": 10,
     "metadata": {},
     "output_type": "execute_result"
    }
   ],
   "source": [
    "constitutive_junctions['exon_length'] = constitutive_junctions['exon_region'].map(len)\n",
    "constitutive_junctions['junction_length'] = constitutive_junctions['junction_region'].map(len)\n",
    "constitutive_junctions.head()"
   ]
  },
  {
   "cell_type": "code",
   "execution_count": 16,
   "metadata": {
    "collapsed": false
   },
   "outputs": [
    {
     "data": {
      "text/plain": [
       "exon\n",
       "exon:chr1:1341189-1341266:-      78\n",
       "exon:chr1:1341189-1342399:-    1211\n",
       "exon:chr1:1653035-1653150:-     116\n",
       "exon:chr1:1650767-1650894:-     128\n",
       "exon:chr1:1650797-1650894:-      98\n",
       "Name: exon_length, dtype: int64"
      ]
     },
     "execution_count": 16,
     "metadata": {},
     "output_type": "execute_result"
    }
   ],
   "source": [
    "exon_lengths = constitutive_junctions.set_index('exon')['exon_length']\n",
    "exon_lengths= exon_lengths[~exon_lengths.index.duplicated()]\n",
    "exon_lengths.head()"
   ]
  },
  {
   "cell_type": "code",
   "execution_count": 23,
   "metadata": {
    "collapsed": true
   },
   "outputs": [],
   "source": [
    "exon_lengths.to_csv('{}/exon_length.csv'.format(constitutive_feature_folder))"
   ]
  },
  {
   "cell_type": "markdown",
   "metadata": {},
   "source": [
    "## Intron lengths: Sum of junction and exon lengths"
   ]
  },
  {
   "cell_type": "code",
   "execution_count": 18,
   "metadata": {
    "collapsed": false
   },
   "outputs": [
    {
     "data": {
      "text/plain": [
       "exon                              direction \n",
       "exon:chr10:102039881-102039985:-  downstream     705.0\n",
       "                                  upstream      4631.5\n",
       "exon:chr10:102040691-102040810:-  downstream    3575.5\n",
       "                                  upstream       550.0\n",
       "exon:chr10:102045854-102045970:-  downstream     255.0\n",
       "Name: junction_length, dtype: float64"
      ]
     },
     "execution_count": 18,
     "metadata": {},
     "output_type": "execute_result"
    }
   ],
   "source": [
    "mean_junction_lengths = constitutive_junctions.groupby(['exon', 'direction'])['junction_length'].mean()\n",
    "mean_junction_lengths.head()"
   ]
  },
  {
   "cell_type": "code",
   "execution_count": 19,
   "metadata": {
    "collapsed": false
   },
   "outputs": [
    {
     "data": {
      "text/plain": [
       "exon\n",
       "exon:chr10:102039881-102039985:-     5336.500000\n",
       "exon:chr10:102040691-102040810:-     4125.500000\n",
       "exon:chr10:102045854-102045970:-    10974.666667\n",
       "exon:chr10:102045854-102046089:-    10991.666667\n",
       "exon:chr10:102286732-102286831:-     4030.500000\n",
       "Name: junction_length, dtype: float64"
      ]
     },
     "execution_count": 19,
     "metadata": {},
     "output_type": "execute_result"
    }
   ],
   "source": [
    "flanking_intron_lengths = mean_junction_lengths.groupby(level=0).sum()\n",
    "flanking_intron_lengths.head()"
   ]
  },
  {
   "cell_type": "code",
   "execution_count": 20,
   "metadata": {
    "collapsed": false
   },
   "outputs": [
    {
     "data": {
      "text/plain": [
       "exon\n",
       "exon:chr10:102039881-102039985:-     5441.500000\n",
       "exon:chr10:102040691-102040810:-     4245.500000\n",
       "exon:chr10:102045854-102045970:-    11091.666667\n",
       "exon:chr10:102045854-102046089:-    11227.666667\n",
       "exon:chr10:102286732-102286831:-     4130.500000\n",
       "dtype: float64"
      ]
     },
     "execution_count": 20,
     "metadata": {},
     "output_type": "execute_result"
    }
   ],
   "source": [
    "intron_lengths = flanking_intron_lengths + exon_lengths\n",
    "intron_lengths.head()"
   ]
  },
  {
   "cell_type": "code",
   "execution_count": 22,
   "metadata": {
    "collapsed": true
   },
   "outputs": [],
   "source": [
    "intron_lengths.to_csv('{}/intron_length.csv'.format(constitutive_feature_folder))"
   ]
  },
  {
   "cell_type": "code",
   "execution_count": null,
   "metadata": {
    "collapsed": true
   },
   "outputs": [],
   "source": []
  }
 ],
 "metadata": {
  "kernelspec": {
   "display_name": "Python 2",
   "language": "python",
   "name": "python2"
  },
  "language_info": {
   "codemirror_mode": {
    "name": "ipython",
    "version": 2
   },
   "file_extension": ".py",
   "mimetype": "text/x-python",
   "name": "python",
   "nbconvert_exporter": "python",
   "pygments_lexer": "ipython2",
   "version": "2.7.11"
  }
 },
 "nbformat": 4,
 "nbformat_minor": 0
}
