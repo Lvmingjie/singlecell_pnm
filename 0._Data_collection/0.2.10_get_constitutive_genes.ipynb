{
 "cells": [
  {
   "cell_type": "code",
   "execution_count": 2,
   "metadata": {
    "collapsed": false
   },
   "outputs": [
    {
     "name": "stdout",
     "output_type": "stream",
     "text": [
      "The autoreload extension is already loaded. To reload it, use:\n",
      "  %reload_ext autoreload\n"
     ]
    }
   ],
   "source": [
    "import pandas as pd\n",
    "import pybedtools\n",
    "import six\n",
    "\n",
    "%load_ext autoreload\n",
    "%autoreload 2\n",
    "\n",
    "folder = '/projects/ps-yeolab/obotvinnik/singlecell_pnms'\n",
    "csv_folder = '{}/csvs_for_paper'.format(folder)\n",
    "bed_folder = '{}/bed'.format(folder)\n",
    "\n",
    "constitutive_bedfile = '{}/constitutive_exons.bed'.format(bed_folder)\n",
    "\n",
    "splicing_feature_folder = '{}/splicing_feature_data'.format(csv_folder)\n",
    "alternative_feature_folder = '{}/alternative'.format(splicing_feature_folder)\n",
    "constitutive_feature_folder = '{}/constitutive'.format(splicing_feature_folder)"
   ]
  },
  {
   "cell_type": "code",
   "execution_count": 3,
   "metadata": {
    "collapsed": true
   },
   "outputs": [],
   "source": [
    "import gffutils\n",
    "v19db_filename = '/projects/ps-yeolab/genomes/hg19/gencode/v19/gencode.v19.annotation.gtf.db'\n",
    "v19db = gffutils.FeatureDB(v19db_filename)\n"
   ]
  },
  {
   "cell_type": "code",
   "execution_count": 14,
   "metadata": {
    "collapsed": false
   },
   "outputs": [
    {
     "data": {
      "text/html": [
       "<div>\n",
       "<table border=\"1\" class=\"dataframe\">\n",
       "  <thead>\n",
       "    <tr style=\"text-align: right;\">\n",
       "      <th></th>\n",
       "      <th>0</th>\n",
       "      <th>1</th>\n",
       "      <th>2</th>\n",
       "      <th>4</th>\n",
       "      <th>5</th>\n",
       "    </tr>\n",
       "    <tr>\n",
       "      <th>3</th>\n",
       "      <th></th>\n",
       "      <th></th>\n",
       "      <th></th>\n",
       "      <th></th>\n",
       "      <th></th>\n",
       "    </tr>\n",
       "  </thead>\n",
       "  <tbody>\n",
       "    <tr>\n",
       "      <th>exon:chr10:102039881-102039985:-</th>\n",
       "      <td>chr10</td>\n",
       "      <td>102039881</td>\n",
       "      <td>102039985</td>\n",
       "      <td>1000</td>\n",
       "      <td>-</td>\n",
       "    </tr>\n",
       "    <tr>\n",
       "      <th>exon:chr10:102040691-102040810:-</th>\n",
       "      <td>chr10</td>\n",
       "      <td>102040691</td>\n",
       "      <td>102040810</td>\n",
       "      <td>1000</td>\n",
       "      <td>-</td>\n",
       "    </tr>\n",
       "    <tr>\n",
       "      <th>exon:chr10:102045854-102045970:-</th>\n",
       "      <td>chr10</td>\n",
       "      <td>102045854</td>\n",
       "      <td>102045970</td>\n",
       "      <td>1000</td>\n",
       "      <td>-</td>\n",
       "    </tr>\n",
       "    <tr>\n",
       "      <th>exon:chr10:102045854-102046089:-</th>\n",
       "      <td>chr10</td>\n",
       "      <td>102045854</td>\n",
       "      <td>102046089</td>\n",
       "      <td>1000</td>\n",
       "      <td>-</td>\n",
       "    </tr>\n",
       "    <tr>\n",
       "      <th>exon:chr10:102286732-102286831:-</th>\n",
       "      <td>chr10</td>\n",
       "      <td>102286732</td>\n",
       "      <td>102286831</td>\n",
       "      <td>1000</td>\n",
       "      <td>-</td>\n",
       "    </tr>\n",
       "  </tbody>\n",
       "</table>\n",
       "</div>"
      ],
      "text/plain": [
       "                                      0          1          2     4  5\n",
       "3                                                                     \n",
       "exon:chr10:102039881-102039985:-  chr10  102039881  102039985  1000  -\n",
       "exon:chr10:102040691-102040810:-  chr10  102040691  102040810  1000  -\n",
       "exon:chr10:102045854-102045970:-  chr10  102045854  102045970  1000  -\n",
       "exon:chr10:102045854-102046089:-  chr10  102045854  102046089  1000  -\n",
       "exon:chr10:102286732-102286831:-  chr10  102286732  102286831  1000  -"
      ]
     },
     "execution_count": 14,
     "metadata": {},
     "output_type": "execute_result"
    }
   ],
   "source": [
    "constitutive = pd.read_table(constitutive_bedfile, header=None, index_col=3)\n",
    "constitutive.head()"
   ]
  },
  {
   "cell_type": "code",
   "execution_count": 15,
   "metadata": {
    "collapsed": false
   },
   "outputs": [],
   "source": [
    "exon = v19db['exon:chr10:102039881-102039985:-']"
   ]
  },
  {
   "cell_type": "code",
   "execution_count": 16,
   "metadata": {
    "collapsed": false
   },
   "outputs": [
    {
     "data": {
      "text/plain": [
       "[('gene_type', ['protein_coding']),\n",
       " ('gene_status', ['KNOWN']),\n",
       " ('exon_number', ['3', '4']),\n",
       " ('level', ['2']),\n",
       " ('transcript_status', ['KNOWN', 'PUTATIVE']),\n",
       " ('gene_id', ['ENSG00000196072.7']),\n",
       " ('exon_id', ['ENSE00001099863.1']),\n",
       " ('tag', ['CCDS', 'appris_principal', 'basic']),\n",
       " ('fancy_id', ['exon:chr10:102039881-102039985:-']),\n",
       " ('havana_transcript', ['OTTHUMT00000049861.2', 'OTTHUMT00000049860.2']),\n",
       " ('ccdsid', ['CCDS7490.1']),\n",
       " ('havana_gene', ['OTTHUMG00000018908.2']),\n",
       " ('transcript_id', ['ENST00000441611.1', 'ENST00000370372.2']),\n",
       " ('transcript_name', ['BLOC1S2-002', 'BLOC1S2-001']),\n",
       " ('transcript_type', ['protein_coding']),\n",
       " ('gene_name', ['BLOC1S2'])]"
      ]
     },
     "execution_count": 16,
     "metadata": {},
     "output_type": "execute_result"
    }
   ],
   "source": [
    "exon.attributes.items()"
   ]
  },
  {
   "cell_type": "code",
   "execution_count": 18,
   "metadata": {
    "collapsed": false
   },
   "outputs": [
    {
     "data": {
      "text/plain": [
       "3\n",
       "exon:chr10:102039881-102039985:-                                    ENSG00000196072\n",
       "exon:chr10:102040691-102040810:-                                    ENSG00000196072\n",
       "exon:chr10:102045854-102045970:-                                    ENSG00000196072\n",
       "exon:chr10:102045854-102046089:-                                    ENSG00000196072\n",
       "exon:chr10:102286732-102286831:-    ENSG00000075826,ENSG00000166136,ENSG00000255339\n",
       "dtype: object"
      ]
     },
     "execution_count": 18,
     "metadata": {},
     "output_type": "execute_result"
    }
   ],
   "source": [
    "genes_with_constitutive_exons = constitutive.index.map(\n",
    "    lambda x: ','.join(map(lambda y: y.split('.')[0], v19db[x].attributes['gene_id'])))\n",
    "genes_with_constitutive_exons = pd.Series(genes_with_constitutive_exons, index=constitutive.index)\n",
    "genes_with_constitutive_exons.head()"
   ]
  },
  {
   "cell_type": "code",
   "execution_count": 19,
   "metadata": {
    "collapsed": true
   },
   "outputs": [],
   "source": [
    "genes_with_constitutive_exons.to_csv('{}/genes.csv'.format(constitutive_feature_folder))"
   ]
  },
  {
   "cell_type": "code",
   "execution_count": null,
   "metadata": {
    "collapsed": true
   },
   "outputs": [],
   "source": [
    "\n"
   ]
  }
 ],
 "metadata": {
  "kernelspec": {
   "display_name": "Python 2",
   "language": "python",
   "name": "python2"
  },
  "language_info": {
   "codemirror_mode": {
    "name": "ipython",
    "version": 2
   },
   "file_extension": ".py",
   "mimetype": "text/x-python",
   "name": "python",
   "nbconvert_exporter": "python",
   "pygments_lexer": "ipython2",
   "version": "2.7.11"
  }
 },
 "nbformat": 4,
 "nbformat_minor": 0
}
