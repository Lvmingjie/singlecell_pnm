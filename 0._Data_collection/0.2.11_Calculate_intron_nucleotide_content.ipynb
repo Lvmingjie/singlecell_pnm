{
 "cells": [
  {
   "cell_type": "code",
   "execution_count": 1,
   "metadata": {
    "collapsed": false
   },
   "outputs": [
    {
     "name": "stderr",
     "output_type": "stream",
     "text": [
      "/home/obotvinnik/anaconda/lib/python2.7/site-packages/matplotlib/__init__.py:810: UserWarning: Found matplotlib configuration in ~/.matplotlib/. To conform with the XDG base directory standard, this configuration location has been deprecated on Linux, and the new location is now /home/obotvinnik/.config/matplotlib/. Please move your configuration there to ensure that matplotlib will continue to find it in the future.\n",
      "  _get_xdg_config_dir())\n"
     ]
    }
   ],
   "source": [
    "import pandas as pd\n",
    "\n",
    "%load_ext autoreload\n",
    "%autoreload 2\n",
    "\n",
    "folder = '/projects/ps-yeolab/obotvinnik/singlecell_pnms'\n",
    "csv_folder = '{}/csvs_for_paper'.format(folder)\n",
    "bed_folder = '{}/bed'.format(folder)\n",
    "# folder2 = '/projects/ps-yeolab2/obotvinnik/singlecell_pnm'\n",
    "\n",
    "splicing_feature_folder = '{}/splicing_feature_data'.format(csv_folder)\n",
    "alternative_feature_folder = '{}/alternative'.format(splicing_feature_folder)\n",
    "constitutive_feature_folder = '{}/constitutive'.format(splicing_feature_folder)\n",
    "\n",
    "alt_exons_bedfile = '{}/exons.bed'.format(alternative_feature_folder)\n",
    "constitutive_bedfile = '{}/exons.bed'.format(constitutive_feature_folder)\n",
    "\n",
    "\n",
    "# splicing_feature_data = pd.read_csv('{}/splicing_feature_data.csv'.format(csv_folder), index_col=0)\n",
    "# print(splicing_feature_data.shape)\n",
    "# splicing_feature_data.head()"
   ]
  },
  {
   "cell_type": "code",
   "execution_count": 2,
   "metadata": {
    "collapsed": true
   },
   "outputs": [],
   "source": [
    "import pybedtools"
   ]
  },
  {
   "cell_type": "code",
   "execution_count": 3,
   "metadata": {
    "collapsed": true
   },
   "outputs": [],
   "source": [
    "alt_exons = pybedtools.BedTool(alt_exons_bedfile)\n",
    "constitutive_exons = pybedtools.BedTool(constitutive_bedfile)"
   ]
  },
  {
   "cell_type": "code",
   "execution_count": 4,
   "metadata": {
    "collapsed": false
   },
   "outputs": [
    {
     "name": "stdout",
     "output_type": "stream",
     "text": [
      "(43903, 5893)\n"
     ]
    }
   ],
   "source": [
    "print(len(alt_exons), len(constitutive_exons))"
   ]
  },
  {
   "cell_type": "markdown",
   "metadata": {},
   "source": [
    "## Caclulate upstream nucleotide fraction"
   ]
  },
  {
   "cell_type": "code",
   "execution_count": 5,
   "metadata": {
    "collapsed": true
   },
   "outputs": [],
   "source": [
    "hg19_fasta = '/projects/ps-yeolab/genomes/hg19/chromosomes/all.fa'"
   ]
  },
  {
   "cell_type": "code",
   "execution_count": 14,
   "metadata": {
    "collapsed": false
   },
   "outputs": [],
   "source": [
    "from Bio import SeqIO\n",
    "\n",
    "def calculate_nucleotide_content(bed, window, nt, genome, fasta, nucleotide, context, intersect=None):\n",
    "    \"\"\"Count the percentage of nucleotides in windows flanking a bed file (e.g. exons)\n",
    "    \n",
    "    Parameters\n",
    "    ----------\n",
    "    bed : pybedtools.BedTool\n",
    "        BedTool object of exons whose flanking nucleotide content you want to measure\n",
    "    window : int\n",
    "        Size of the windows to use\n",
    "    nt : int\n",
    "        Size of the flanking region\n",
    "    genome : str\n",
    "        Unique name of the genome to look up chromosome sizes, or the chromosome sizes themselves\n",
    "    fasta : str\n",
    "        Location of the genome sequences as a fasta file\n",
    "    nucleotide : str\n",
    "        Which nucleotide you're counting\n",
    "    context : 'upstream' | 'downstream'\n",
    "        Relative to the strand, whether you want the upstream or downstream sequences\n",
    "    intersect = pybedtools.BedTool, optional\n",
    "        Another bed file to intersect with if you're only interested in a subset of regions (e.g. only conserved elemets)\n",
    "    \n",
    "    Returns\n",
    "    -------\n",
    "    nucleotide_fraction : pandas.DataFrame\n",
    "        \n",
    "    \n",
    "    \"\"\"\n",
    "    windows = nt/window\n",
    "\n",
    "    index = [x.name for x in bed]\n",
    "\n",
    "    nucleotide_fractions = []\n",
    "    if context.startswith('up'):\n",
    "        # Upstream - go left (upstream) the window size, and right zero\n",
    "        flank_kws = dict(l=window, r=0, s=True, genome=genome)\n",
    "    elif context.startswith('d'):\n",
    "        # downstream - go right (downstream) the window size, and right zero\n",
    "        flank_kws = dict(l=0, r=window, s=True, genome=genome)\n",
    "\n",
    "    for i in range(windows):\n",
    "        if i == 0:\n",
    "            subset = bed.flank(**flank_kws)\n",
    "        else:\n",
    "            subset = subset.flank(**flank_kws)\n",
    "            \n",
    "        if intersect is not None:\n",
    "            subset = subset.intersect(intersect)\n",
    "            import pdb; pdb.set_trace()\n",
    "            df = subset.to_dataframe()\n",
    "            index = df['name']\n",
    "\n",
    "        seqs = subset.sequence(fi=fasta, s=True)\n",
    "        with open(seqs.seqfn) as f:\n",
    "            records = list(SeqIO.parse(f, 'fasta'))\n",
    "        nucleotide_fraction = [sum(1 for x in s.seq if x == nucleotide)/float(window) for s in records]\n",
    "        nucleotide_fraction = pd.Series(nucleotide_fraction, index=index).reset_index()\n",
    "        nucleotide_fractions.append(nucleotide_fraction)\n",
    "    nucleotide_fraction_df = pd.concat(nucleotide_fractions, axis=1)\n",
    "    return nucleotide_fraction_df"
   ]
  },
  {
   "cell_type": "code",
   "execution_count": 15,
   "metadata": {
    "collapsed": true
   },
   "outputs": [],
   "source": [
    "csv_folder = '/projects/ps-yeolab/obotvinnik/singlecell_pnms/csvs_for_paper'"
   ]
  },
  {
   "cell_type": "code",
   "execution_count": null,
   "metadata": {
    "collapsed": true
   },
   "outputs": [],
   "source": []
  },
  {
   "cell_type": "code",
   "execution_count": 16,
   "metadata": {
    "collapsed": true
   },
   "outputs": [],
   "source": [
    "import six"
   ]
  },
  {
   "cell_type": "code",
   "execution_count": 17,
   "metadata": {
    "collapsed": false
   },
   "outputs": [],
   "source": [
    "splicing_feature_folder = '{}/splicing_feature_data'.format(csv_folder)"
   ]
  },
  {
   "cell_type": "code",
   "execution_count": 19,
   "metadata": {
    "collapsed": false
   },
   "outputs": [
    {
     "name": "stdout",
     "output_type": "stream",
     "text": [
      "Automatic pdb calling has been turned ON\n"
     ]
    }
   ],
   "source": [
    "%pdb"
   ]
  },
  {
   "cell_type": "code",
   "execution_count": 20,
   "metadata": {
    "collapsed": false
   },
   "outputs": [
    {
     "name": "stdout",
     "output_type": "stream",
     "text": [
      "(43903, 5893)\n",
      "A upstream alternative\n",
      "mkdir: cannot create directory `/projects/ps-yeolab/obotvinnik/singlecell_pnms/csvs_for_paper/splicing_feature_data/alternative/nucleotide_content': File exists\n",
      "> <ipython-input-14-5d1ee3189aac>(52)calculate_nucleotide_content()\n",
      "-> df = subset.to_dataframe()\n",
      "(Pdb) dir()\n",
      "['bed', 'context', 'fasta', 'flank_kws', 'genome', 'i', 'index', 'intersect', 'nt', 'nucleotide', 'nucleotide_fractions', 'pdb', 'subset', 'window', 'windows', 'x']\n",
      "(Pdb) subset\n",
      "<BedTool(/state/partition1/obotvinnik/4944699.tscc-mgr.local/pybedtools.6opDQG.tmp)>\n",
      "(Pdb) df\n",
      "*** NameError: name 'df' is not defined\n",
      "(Pdb) n\n",
      "> <ipython-input-14-5d1ee3189aac>(53)calculate_nucleotide_content()\n",
      "-> index = df['name']\n",
      "(Pdb) df.head()\n",
      "   chrom      start        end  \\\n",
      "0  chr10  101997988  101997990   \n",
      "1  chr10  102010089  102010091   \n",
      "2  chr10  102020076  102020078   \n",
      "3  chr10  102020085  102020086   \n",
      "4  chr10  102020076  102020078   \n",
      "\n",
      "                                                name  score strand  \n",
      "0  exon:chr10:102003455-102003534:-@exon:chr10:10...   1000      -  \n",
      "1  exon:chr10:102013178-102013296:-@exon:chr10:10...   1000      -  \n",
      "2  exon:chr10:102020723-102020801:-@exon:chr10:10...   1000      -  \n",
      "3  exon:chr10:102020723-102020801:-@exon:chr10:10...   1000      -  \n",
      "4  exon:chr10:102021736-102021820:-@exon:chr10:10...   1000      -  \n",
      "(Pdb) df.shape\n",
      "(31117, 6)\n",
      "(Pdb) q\n"
     ]
    },
    {
     "ename": "BdbQuit",
     "evalue": "",
     "output_type": "error",
     "traceback": [
      "\u001b[1;31m---------------------------------------------------------------------------\u001b[0m",
      "\u001b[1;31mBdbQuit\u001b[0m                                   Traceback (most recent call last)",
      "\u001b[1;32m<ipython-input-20-68fb6f8a0dd6>\u001b[0m in \u001b[0;36m<module>\u001b[1;34m()\u001b[0m\n\u001b[0;32m     18\u001b[0m             \u001b[0mget_ipython\u001b[0m\u001b[1;33m(\u001b[0m\u001b[1;33m)\u001b[0m\u001b[1;33m.\u001b[0m\u001b[0msystem\u001b[0m\u001b[1;33m(\u001b[0m\u001b[1;34mu' mkdir $nucleotide_folder'\u001b[0m\u001b[1;33m)\u001b[0m\u001b[1;33m\u001b[0m\u001b[0m\n\u001b[0;32m     19\u001b[0m             nucleotide_content = calculate_nucleotide_content(bed, window=10, nt=nt, genome='hg19', fasta=hg19_fasta, \n\u001b[1;32m---> 20\u001b[1;33m                                                              nucleotide=nucleotide, context=context, intersect=placental)\n\u001b[0m\u001b[0;32m     21\u001b[0m             nucleotide_content.to_csv('{}/{}{}_nucleotide_content_{}_placental_mammal.csv'.format(\n\u001b[0;32m     22\u001b[0m                     nucleotide_folder, context, nt, nucleotide), index=False)\n",
      "\u001b[1;32m<ipython-input-14-5d1ee3189aac>\u001b[0m in \u001b[0;36mcalculate_nucleotide_content\u001b[1;34m(bed, window, nt, genome, fasta, nucleotide, context, intersect)\u001b[0m\n\u001b[0;32m     51\u001b[0m             \u001b[1;32mimport\u001b[0m \u001b[0mpdb\u001b[0m\u001b[1;33m;\u001b[0m \u001b[0mpdb\u001b[0m\u001b[1;33m.\u001b[0m\u001b[0mset_trace\u001b[0m\u001b[1;33m(\u001b[0m\u001b[1;33m)\u001b[0m\u001b[1;33m\u001b[0m\u001b[0m\n\u001b[0;32m     52\u001b[0m             \u001b[0mdf\u001b[0m \u001b[1;33m=\u001b[0m \u001b[0msubset\u001b[0m\u001b[1;33m.\u001b[0m\u001b[0mto_dataframe\u001b[0m\u001b[1;33m(\u001b[0m\u001b[1;33m)\u001b[0m\u001b[1;33m\u001b[0m\u001b[0m\n\u001b[1;32m---> 53\u001b[1;33m             \u001b[0mindex\u001b[0m \u001b[1;33m=\u001b[0m \u001b[0mdf\u001b[0m\u001b[1;33m[\u001b[0m\u001b[1;34m'name'\u001b[0m\u001b[1;33m]\u001b[0m\u001b[1;33m\u001b[0m\u001b[0m\n\u001b[0m\u001b[0;32m     54\u001b[0m \u001b[1;33m\u001b[0m\u001b[0m\n\u001b[0;32m     55\u001b[0m         \u001b[0mseqs\u001b[0m \u001b[1;33m=\u001b[0m \u001b[0msubset\u001b[0m\u001b[1;33m.\u001b[0m\u001b[0msequence\u001b[0m\u001b[1;33m(\u001b[0m\u001b[0mfi\u001b[0m\u001b[1;33m=\u001b[0m\u001b[0mfasta\u001b[0m\u001b[1;33m,\u001b[0m \u001b[0ms\u001b[0m\u001b[1;33m=\u001b[0m\u001b[0mTrue\u001b[0m\u001b[1;33m)\u001b[0m\u001b[1;33m\u001b[0m\u001b[0m\n",
      "\u001b[1;32m<ipython-input-14-5d1ee3189aac>\u001b[0m in \u001b[0;36mcalculate_nucleotide_content\u001b[1;34m(bed, window, nt, genome, fasta, nucleotide, context, intersect)\u001b[0m\n\u001b[0;32m     51\u001b[0m             \u001b[1;32mimport\u001b[0m \u001b[0mpdb\u001b[0m\u001b[1;33m;\u001b[0m \u001b[0mpdb\u001b[0m\u001b[1;33m.\u001b[0m\u001b[0mset_trace\u001b[0m\u001b[1;33m(\u001b[0m\u001b[1;33m)\u001b[0m\u001b[1;33m\u001b[0m\u001b[0m\n\u001b[0;32m     52\u001b[0m             \u001b[0mdf\u001b[0m \u001b[1;33m=\u001b[0m \u001b[0msubset\u001b[0m\u001b[1;33m.\u001b[0m\u001b[0mto_dataframe\u001b[0m\u001b[1;33m(\u001b[0m\u001b[1;33m)\u001b[0m\u001b[1;33m\u001b[0m\u001b[0m\n\u001b[1;32m---> 53\u001b[1;33m             \u001b[0mindex\u001b[0m \u001b[1;33m=\u001b[0m \u001b[0mdf\u001b[0m\u001b[1;33m[\u001b[0m\u001b[1;34m'name'\u001b[0m\u001b[1;33m]\u001b[0m\u001b[1;33m\u001b[0m\u001b[0m\n\u001b[0m\u001b[0;32m     54\u001b[0m \u001b[1;33m\u001b[0m\u001b[0m\n\u001b[0;32m     55\u001b[0m         \u001b[0mseqs\u001b[0m \u001b[1;33m=\u001b[0m \u001b[0msubset\u001b[0m\u001b[1;33m.\u001b[0m\u001b[0msequence\u001b[0m\u001b[1;33m(\u001b[0m\u001b[0mfi\u001b[0m\u001b[1;33m=\u001b[0m\u001b[0mfasta\u001b[0m\u001b[1;33m,\u001b[0m \u001b[0ms\u001b[0m\u001b[1;33m=\u001b[0m\u001b[0mTrue\u001b[0m\u001b[1;33m)\u001b[0m\u001b[1;33m\u001b[0m\u001b[0m\n",
      "\u001b[1;32m/home/obotvinnik/anaconda/lib/python2.7/bdb.pyc\u001b[0m in \u001b[0;36mtrace_dispatch\u001b[1;34m(self, frame, event, arg)\u001b[0m\n\u001b[0;32m     47\u001b[0m             \u001b[1;32mreturn\u001b[0m \u001b[1;31m# None\u001b[0m\u001b[1;33m\u001b[0m\u001b[0m\n\u001b[0;32m     48\u001b[0m         \u001b[1;32mif\u001b[0m \u001b[0mevent\u001b[0m \u001b[1;33m==\u001b[0m \u001b[1;34m'line'\u001b[0m\u001b[1;33m:\u001b[0m\u001b[1;33m\u001b[0m\u001b[0m\n\u001b[1;32m---> 49\u001b[1;33m             \u001b[1;32mreturn\u001b[0m \u001b[0mself\u001b[0m\u001b[1;33m.\u001b[0m\u001b[0mdispatch_line\u001b[0m\u001b[1;33m(\u001b[0m\u001b[0mframe\u001b[0m\u001b[1;33m)\u001b[0m\u001b[1;33m\u001b[0m\u001b[0m\n\u001b[0m\u001b[0;32m     50\u001b[0m         \u001b[1;32mif\u001b[0m \u001b[0mevent\u001b[0m \u001b[1;33m==\u001b[0m \u001b[1;34m'call'\u001b[0m\u001b[1;33m:\u001b[0m\u001b[1;33m\u001b[0m\u001b[0m\n\u001b[0;32m     51\u001b[0m             \u001b[1;32mreturn\u001b[0m \u001b[0mself\u001b[0m\u001b[1;33m.\u001b[0m\u001b[0mdispatch_call\u001b[0m\u001b[1;33m(\u001b[0m\u001b[0mframe\u001b[0m\u001b[1;33m,\u001b[0m \u001b[0marg\u001b[0m\u001b[1;33m)\u001b[0m\u001b[1;33m\u001b[0m\u001b[0m\n",
      "\u001b[1;32m/home/obotvinnik/anaconda/lib/python2.7/bdb.pyc\u001b[0m in \u001b[0;36mdispatch_line\u001b[1;34m(self, frame)\u001b[0m\n\u001b[0;32m     66\u001b[0m         \u001b[1;32mif\u001b[0m \u001b[0mself\u001b[0m\u001b[1;33m.\u001b[0m\u001b[0mstop_here\u001b[0m\u001b[1;33m(\u001b[0m\u001b[0mframe\u001b[0m\u001b[1;33m)\u001b[0m \u001b[1;32mor\u001b[0m \u001b[0mself\u001b[0m\u001b[1;33m.\u001b[0m\u001b[0mbreak_here\u001b[0m\u001b[1;33m(\u001b[0m\u001b[0mframe\u001b[0m\u001b[1;33m)\u001b[0m\u001b[1;33m:\u001b[0m\u001b[1;33m\u001b[0m\u001b[0m\n\u001b[0;32m     67\u001b[0m             \u001b[0mself\u001b[0m\u001b[1;33m.\u001b[0m\u001b[0muser_line\u001b[0m\u001b[1;33m(\u001b[0m\u001b[0mframe\u001b[0m\u001b[1;33m)\u001b[0m\u001b[1;33m\u001b[0m\u001b[0m\n\u001b[1;32m---> 68\u001b[1;33m             \u001b[1;32mif\u001b[0m \u001b[0mself\u001b[0m\u001b[1;33m.\u001b[0m\u001b[0mquitting\u001b[0m\u001b[1;33m:\u001b[0m \u001b[1;32mraise\u001b[0m \u001b[0mBdbQuit\u001b[0m\u001b[1;33m\u001b[0m\u001b[0m\n\u001b[0m\u001b[0;32m     69\u001b[0m         \u001b[1;32mreturn\u001b[0m \u001b[0mself\u001b[0m\u001b[1;33m.\u001b[0m\u001b[0mtrace_dispatch\u001b[0m\u001b[1;33m\u001b[0m\u001b[0m\n\u001b[0;32m     70\u001b[0m \u001b[1;33m\u001b[0m\u001b[0m\n",
      "\u001b[1;31mBdbQuit\u001b[0m: "
     ]
    },
    {
     "name": "stdout",
     "output_type": "stream",
     "text": [
      "> \u001b[1;32m/home/obotvinnik/anaconda/lib/python2.7/bdb.py\u001b[0m(68)\u001b[0;36mdispatch_line\u001b[1;34m()\u001b[0m\n",
      "\u001b[1;32m     66 \u001b[1;33m        \u001b[1;32mif\u001b[0m \u001b[0mself\u001b[0m\u001b[1;33m.\u001b[0m\u001b[0mstop_here\u001b[0m\u001b[1;33m(\u001b[0m\u001b[0mframe\u001b[0m\u001b[1;33m)\u001b[0m \u001b[1;32mor\u001b[0m \u001b[0mself\u001b[0m\u001b[1;33m.\u001b[0m\u001b[0mbreak_here\u001b[0m\u001b[1;33m(\u001b[0m\u001b[0mframe\u001b[0m\u001b[1;33m)\u001b[0m\u001b[1;33m:\u001b[0m\u001b[1;33m\u001b[0m\u001b[0m\n",
      "\u001b[0m\u001b[1;32m     67 \u001b[1;33m            \u001b[0mself\u001b[0m\u001b[1;33m.\u001b[0m\u001b[0muser_line\u001b[0m\u001b[1;33m(\u001b[0m\u001b[0mframe\u001b[0m\u001b[1;33m)\u001b[0m\u001b[1;33m\u001b[0m\u001b[0m\n",
      "\u001b[0m\u001b[1;32m---> 68 \u001b[1;33m            \u001b[1;32mif\u001b[0m \u001b[0mself\u001b[0m\u001b[1;33m.\u001b[0m\u001b[0mquitting\u001b[0m\u001b[1;33m:\u001b[0m \u001b[1;32mraise\u001b[0m \u001b[0mBdbQuit\u001b[0m\u001b[1;33m\u001b[0m\u001b[0m\n",
      "\u001b[0m\u001b[1;32m     69 \u001b[1;33m        \u001b[1;32mreturn\u001b[0m \u001b[0mself\u001b[0m\u001b[1;33m.\u001b[0m\u001b[0mtrace_dispatch\u001b[0m\u001b[1;33m\u001b[0m\u001b[0m\n",
      "\u001b[0m\u001b[1;32m     70 \u001b[1;33m\u001b[1;33m\u001b[0m\u001b[0m\n",
      "\u001b[0m\n",
      "ipdb> q\n"
     ]
    }
   ],
   "source": [
    "placental = '/projects/ps-yeolab/genomes/hg19/database/phastConsElements46wayPlacental.bed'\n",
    "\n",
    "nucleotides = 'ACGT'\n",
    "contexts = 'upstream', 'downstream'\n",
    "nt = 200\n",
    "\n",
    "alt_exons = pybedtools.BedTool(alt_exons_bedfile)\n",
    "constitutive_exons = pybedtools.BedTool(constitutive_bedfile)\n",
    "print(len(alt_exons), len(constitutive_exons))\n",
    "\n",
    "beds = {'alternative': alt_exons, 'constitutive': constitutive_exons}\n",
    "\n",
    "for nucleotide in nucleotides:\n",
    "    for context in contexts:\n",
    "        for name, bed in beds.items():\n",
    "            six.print_(nucleotide, context, name)\n",
    "            nucleotide_folder = '{}/{}/nucleotide_content'.format(splicing_feature_folder, name)\n",
    "            ! mkdir $nucleotide_folder\n",
    "            nucleotide_content = calculate_nucleotide_content(bed, window=10, nt=nt, genome='hg19', fasta=hg19_fasta, \n",
    "                                                             nucleotide=nucleotide, context=context, intersect=placental)\n",
    "            nucleotide_content.to_csv('{}/{}{}_nucleotide_content_{}_placental_mammal.csv'.format(\n",
    "                    nucleotide_folder, context, nt, nucleotide), index=False)"
   ]
  },
  {
   "cell_type": "code",
   "execution_count": 12,
   "metadata": {
    "collapsed": false
   },
   "outputs": [
    {
     "name": "stdout",
     "output_type": "stream",
     "text": [
      "(43903, 5893)\n",
      "A upstream alternative\n",
      "mkdir: cannot create directory `/projects/ps-yeolab/obotvinnik/singlecell_pnms/csvs_for_paper/splicing_feature_data/alternative/nucleotide_content': File exists\n",
      "A upstream constitutive\n",
      "mkdir: cannot create directory `/projects/ps-yeolab/obotvinnik/singlecell_pnms/csvs_for_paper/splicing_feature_data/constitutive/nucleotide_content': File exists\n",
      "A downstream alternative\n",
      "mkdir: cannot create directory `/projects/ps-yeolab/obotvinnik/singlecell_pnms/csvs_for_paper/splicing_feature_data/alternative/nucleotide_content': File exists\n",
      "A downstream constitutive\n",
      "mkdir: cannot create directory `/projects/ps-yeolab/obotvinnik/singlecell_pnms/csvs_for_paper/splicing_feature_data/constitutive/nucleotide_content': File exists\n",
      "C upstream alternative\n",
      "mkdir: cannot create directory `/projects/ps-yeolab/obotvinnik/singlecell_pnms/csvs_for_paper/splicing_feature_data/alternative/nucleotide_content': File exists\n",
      "C upstream constitutive\n",
      "mkdir: cannot create directory `/projects/ps-yeolab/obotvinnik/singlecell_pnms/csvs_for_paper/splicing_feature_data/constitutive/nucleotide_content': File exists\n",
      "C downstream alternative\n",
      "mkdir: cannot create directory `/projects/ps-yeolab/obotvinnik/singlecell_pnms/csvs_for_paper/splicing_feature_data/alternative/nucleotide_content': File exists\n",
      "C downstream constitutive\n",
      "mkdir: cannot create directory `/projects/ps-yeolab/obotvinnik/singlecell_pnms/csvs_for_paper/splicing_feature_data/constitutive/nucleotide_content': File exists\n",
      "G upstream alternative\n",
      "mkdir: cannot create directory `/projects/ps-yeolab/obotvinnik/singlecell_pnms/csvs_for_paper/splicing_feature_data/alternative/nucleotide_content': File exists\n",
      "G upstream constitutive\n",
      "mkdir: cannot create directory `/projects/ps-yeolab/obotvinnik/singlecell_pnms/csvs_for_paper/splicing_feature_data/constitutive/nucleotide_content': File exists\n",
      "G downstream alternative\n",
      "mkdir: cannot create directory `/projects/ps-yeolab/obotvinnik/singlecell_pnms/csvs_for_paper/splicing_feature_data/alternative/nucleotide_content': File exists\n",
      "G downstream constitutive\n",
      "mkdir: cannot create directory `/projects/ps-yeolab/obotvinnik/singlecell_pnms/csvs_for_paper/splicing_feature_data/constitutive/nucleotide_content': File exists\n",
      "T upstream alternative\n",
      "mkdir: cannot create directory `/projects/ps-yeolab/obotvinnik/singlecell_pnms/csvs_for_paper/splicing_feature_data/alternative/nucleotide_content': File exists\n",
      "T upstream constitutive\n",
      "mkdir: cannot create directory `/projects/ps-yeolab/obotvinnik/singlecell_pnms/csvs_for_paper/splicing_feature_data/constitutive/nucleotide_content': File exists\n",
      "T downstream alternative\n",
      "mkdir: cannot create directory `/projects/ps-yeolab/obotvinnik/singlecell_pnms/csvs_for_paper/splicing_feature_data/alternative/nucleotide_content': File exists\n",
      "T downstream constitutive\n",
      "mkdir: cannot create directory `/projects/ps-yeolab/obotvinnik/singlecell_pnms/csvs_for_paper/splicing_feature_data/constitutive/nucleotide_content': File exists\n"
     ]
    }
   ],
   "source": [
    "nucleotides = 'ACGT'\n",
    "contexts = 'upstream', 'downstream'\n",
    "\n",
    "alt_exons = pybedtools.BedTool(alt_exons_bedfile)\n",
    "constitutive_exons = pybedtools.BedTool(constitutive_bedfile)\n",
    "print(len(alt_exons), len(constitutive_exons))\n",
    "\n",
    "beds = {'alternative': alt_exons, 'constitutive': constitutive_exons}\n",
    "\n",
    "for nucleotide in nucleotides:\n",
    "    for context in contexts:\n",
    "        for name, bed in beds.items():\n",
    "            six.print_(nucleotide, context, name)\n",
    "            nucleotide_folder = '{}/{}/nucleotide_content'.format(splicing_feature_folder, name)\n",
    "            ! mkdir $nucleotide_folder\n",
    "            nucleotide_content = calculate_nucleotide_content(bed, window=10, nt=nt, genome='hg19', fasta=hg19_fasta, \n",
    "                                                             nucleotide=nucleotide, context=context)\n",
    "            nucleotide_content.to_csv('{}/{}{}_nucleotide_content_{}.csv'.format(\n",
    "                    nucleotide_folder, context, nt, nucleotide))"
   ]
  },
  {
   "cell_type": "code",
   "execution_count": 13,
   "metadata": {
    "collapsed": false
   },
   "outputs": [
    {
     "data": {
      "text/html": [
       "<div>\n",
       "<table border=\"1\" class=\"dataframe\">\n",
       "  <thead>\n",
       "    <tr style=\"text-align: right;\">\n",
       "      <th></th>\n",
       "      <th>index</th>\n",
       "      <th>0</th>\n",
       "      <th>index</th>\n",
       "      <th>0</th>\n",
       "      <th>index</th>\n",
       "      <th>0</th>\n",
       "      <th>index</th>\n",
       "      <th>0</th>\n",
       "      <th>index</th>\n",
       "      <th>0</th>\n",
       "      <th>...</th>\n",
       "      <th>index</th>\n",
       "      <th>0</th>\n",
       "      <th>index</th>\n",
       "      <th>0</th>\n",
       "      <th>index</th>\n",
       "      <th>0</th>\n",
       "      <th>index</th>\n",
       "      <th>0</th>\n",
       "      <th>index</th>\n",
       "      <th>0</th>\n",
       "    </tr>\n",
       "  </thead>\n",
       "  <tbody>\n",
       "    <tr>\n",
       "      <th>0</th>\n",
       "      <td>exon:chr10:102039881-102039985:-</td>\n",
       "      <td>0.3</td>\n",
       "      <td>exon:chr10:102039881-102039985:-</td>\n",
       "      <td>0.6</td>\n",
       "      <td>exon:chr10:102039881-102039985:-</td>\n",
       "      <td>0.6</td>\n",
       "      <td>exon:chr10:102039881-102039985:-</td>\n",
       "      <td>0.2</td>\n",
       "      <td>exon:chr10:102039881-102039985:-</td>\n",
       "      <td>0.4</td>\n",
       "      <td>...</td>\n",
       "      <td>exon:chr10:102039881-102039985:-</td>\n",
       "      <td>0.0</td>\n",
       "      <td>exon:chr10:102039881-102039985:-</td>\n",
       "      <td>0.0</td>\n",
       "      <td>exon:chr10:102039881-102039985:-</td>\n",
       "      <td>0.0</td>\n",
       "      <td>exon:chr10:102039881-102039985:-</td>\n",
       "      <td>0.0</td>\n",
       "      <td>exon:chr10:102039881-102039985:-</td>\n",
       "      <td>0.0</td>\n",
       "    </tr>\n",
       "    <tr>\n",
       "      <th>1</th>\n",
       "      <td>exon:chr10:102040691-102040810:-</td>\n",
       "      <td>0.4</td>\n",
       "      <td>exon:chr10:102040691-102040810:-</td>\n",
       "      <td>0.5</td>\n",
       "      <td>exon:chr10:102040691-102040810:-</td>\n",
       "      <td>0.3</td>\n",
       "      <td>exon:chr10:102040691-102040810:-</td>\n",
       "      <td>0.7</td>\n",
       "      <td>exon:chr10:102040691-102040810:-</td>\n",
       "      <td>0.7</td>\n",
       "      <td>...</td>\n",
       "      <td>exon:chr10:102040691-102040810:-</td>\n",
       "      <td>0.4</td>\n",
       "      <td>exon:chr10:102040691-102040810:-</td>\n",
       "      <td>0.5</td>\n",
       "      <td>exon:chr10:102040691-102040810:-</td>\n",
       "      <td>0.6</td>\n",
       "      <td>exon:chr10:102040691-102040810:-</td>\n",
       "      <td>0.6</td>\n",
       "      <td>exon:chr10:102040691-102040810:-</td>\n",
       "      <td>0.4</td>\n",
       "    </tr>\n",
       "    <tr>\n",
       "      <th>2</th>\n",
       "      <td>exon:chr10:102045854-102045970:-</td>\n",
       "      <td>0.1</td>\n",
       "      <td>exon:chr10:102045854-102045970:-</td>\n",
       "      <td>0.4</td>\n",
       "      <td>exon:chr10:102045854-102045970:-</td>\n",
       "      <td>0.3</td>\n",
       "      <td>exon:chr10:102045854-102045970:-</td>\n",
       "      <td>0.3</td>\n",
       "      <td>exon:chr10:102045854-102045970:-</td>\n",
       "      <td>0.1</td>\n",
       "      <td>...</td>\n",
       "      <td>exon:chr10:102045854-102045970:-</td>\n",
       "      <td>0.1</td>\n",
       "      <td>exon:chr10:102045854-102045970:-</td>\n",
       "      <td>0.2</td>\n",
       "      <td>exon:chr10:102045854-102045970:-</td>\n",
       "      <td>0.3</td>\n",
       "      <td>exon:chr10:102045854-102045970:-</td>\n",
       "      <td>0.3</td>\n",
       "      <td>exon:chr10:102045854-102045970:-</td>\n",
       "      <td>0.1</td>\n",
       "    </tr>\n",
       "    <tr>\n",
       "      <th>3</th>\n",
       "      <td>exon:chr10:102286732-102286831:-</td>\n",
       "      <td>0.1</td>\n",
       "      <td>exon:chr10:102286732-102286831:-</td>\n",
       "      <td>0.3</td>\n",
       "      <td>exon:chr10:102286732-102286831:-</td>\n",
       "      <td>0.5</td>\n",
       "      <td>exon:chr10:102286732-102286831:-</td>\n",
       "      <td>0.6</td>\n",
       "      <td>exon:chr10:102286732-102286831:-</td>\n",
       "      <td>0.6</td>\n",
       "      <td>...</td>\n",
       "      <td>exon:chr10:102286732-102286831:-</td>\n",
       "      <td>0.1</td>\n",
       "      <td>exon:chr10:102286732-102286831:-</td>\n",
       "      <td>0.2</td>\n",
       "      <td>exon:chr10:102286732-102286831:-</td>\n",
       "      <td>0.3</td>\n",
       "      <td>exon:chr10:102286732-102286831:-</td>\n",
       "      <td>0.3</td>\n",
       "      <td>exon:chr10:102286732-102286831:-</td>\n",
       "      <td>0.2</td>\n",
       "    </tr>\n",
       "    <tr>\n",
       "      <th>4</th>\n",
       "      <td>exon:chr10:102289123-102289263:-</td>\n",
       "      <td>0.3</td>\n",
       "      <td>exon:chr10:102289123-102289263:-</td>\n",
       "      <td>0.1</td>\n",
       "      <td>exon:chr10:102289123-102289263:-</td>\n",
       "      <td>0.2</td>\n",
       "      <td>exon:chr10:102289123-102289263:-</td>\n",
       "      <td>0.1</td>\n",
       "      <td>exon:chr10:102289123-102289263:-</td>\n",
       "      <td>0.3</td>\n",
       "      <td>...</td>\n",
       "      <td>exon:chr10:102289123-102289263:-</td>\n",
       "      <td>0.1</td>\n",
       "      <td>exon:chr10:102289123-102289263:-</td>\n",
       "      <td>0.1</td>\n",
       "      <td>exon:chr10:102289123-102289263:-</td>\n",
       "      <td>0.6</td>\n",
       "      <td>exon:chr10:102289123-102289263:-</td>\n",
       "      <td>0.4</td>\n",
       "      <td>exon:chr10:102289123-102289263:-</td>\n",
       "      <td>0.4</td>\n",
       "    </tr>\n",
       "  </tbody>\n",
       "</table>\n",
       "<p>5 rows × 40 columns</p>\n",
       "</div>"
      ],
      "text/plain": [
       "                              index    0                             index  \\\n",
       "0  exon:chr10:102039881-102039985:-  0.3  exon:chr10:102039881-102039985:-   \n",
       "1  exon:chr10:102040691-102040810:-  0.4  exon:chr10:102040691-102040810:-   \n",
       "2  exon:chr10:102045854-102045970:-  0.1  exon:chr10:102045854-102045970:-   \n",
       "3  exon:chr10:102286732-102286831:-  0.1  exon:chr10:102286732-102286831:-   \n",
       "4  exon:chr10:102289123-102289263:-  0.3  exon:chr10:102289123-102289263:-   \n",
       "\n",
       "     0                             index    0  \\\n",
       "0  0.6  exon:chr10:102039881-102039985:-  0.6   \n",
       "1  0.5  exon:chr10:102040691-102040810:-  0.3   \n",
       "2  0.4  exon:chr10:102045854-102045970:-  0.3   \n",
       "3  0.3  exon:chr10:102286732-102286831:-  0.5   \n",
       "4  0.1  exon:chr10:102289123-102289263:-  0.2   \n",
       "\n",
       "                              index    0                             index  \\\n",
       "0  exon:chr10:102039881-102039985:-  0.2  exon:chr10:102039881-102039985:-   \n",
       "1  exon:chr10:102040691-102040810:-  0.7  exon:chr10:102040691-102040810:-   \n",
       "2  exon:chr10:102045854-102045970:-  0.3  exon:chr10:102045854-102045970:-   \n",
       "3  exon:chr10:102286732-102286831:-  0.6  exon:chr10:102286732-102286831:-   \n",
       "4  exon:chr10:102289123-102289263:-  0.1  exon:chr10:102289123-102289263:-   \n",
       "\n",
       "     0 ...                              index    0  \\\n",
       "0  0.4 ...   exon:chr10:102039881-102039985:-  0.0   \n",
       "1  0.7 ...   exon:chr10:102040691-102040810:-  0.4   \n",
       "2  0.1 ...   exon:chr10:102045854-102045970:-  0.1   \n",
       "3  0.6 ...   exon:chr10:102286732-102286831:-  0.1   \n",
       "4  0.3 ...   exon:chr10:102289123-102289263:-  0.1   \n",
       "\n",
       "                              index    0                             index  \\\n",
       "0  exon:chr10:102039881-102039985:-  0.0  exon:chr10:102039881-102039985:-   \n",
       "1  exon:chr10:102040691-102040810:-  0.5  exon:chr10:102040691-102040810:-   \n",
       "2  exon:chr10:102045854-102045970:-  0.2  exon:chr10:102045854-102045970:-   \n",
       "3  exon:chr10:102286732-102286831:-  0.2  exon:chr10:102286732-102286831:-   \n",
       "4  exon:chr10:102289123-102289263:-  0.1  exon:chr10:102289123-102289263:-   \n",
       "\n",
       "     0                             index    0  \\\n",
       "0  0.0  exon:chr10:102039881-102039985:-  0.0   \n",
       "1  0.6  exon:chr10:102040691-102040810:-  0.6   \n",
       "2  0.3  exon:chr10:102045854-102045970:-  0.3   \n",
       "3  0.3  exon:chr10:102286732-102286831:-  0.3   \n",
       "4  0.6  exon:chr10:102289123-102289263:-  0.4   \n",
       "\n",
       "                              index    0  \n",
       "0  exon:chr10:102039881-102039985:-  0.0  \n",
       "1  exon:chr10:102040691-102040810:-  0.4  \n",
       "2  exon:chr10:102045854-102045970:-  0.1  \n",
       "3  exon:chr10:102286732-102286831:-  0.2  \n",
       "4  exon:chr10:102289123-102289263:-  0.4  \n",
       "\n",
       "[5 rows x 40 columns]"
      ]
     },
     "execution_count": 13,
     "metadata": {},
     "output_type": "execute_result"
    }
   ],
   "source": [
    "nucleotide_content.head()"
   ]
  },
  {
   "cell_type": "code",
   "execution_count": null,
   "metadata": {
    "collapsed": true
   },
   "outputs": [],
   "source": []
  },
  {
   "cell_type": "code",
   "execution_count": null,
   "metadata": {
    "collapsed": true
   },
   "outputs": [],
   "source": []
  }
 ],
 "metadata": {
  "kernelspec": {
   "display_name": "Python 2",
   "language": "python",
   "name": "python2"
  },
  "language_info": {
   "codemirror_mode": {
    "name": "ipython",
    "version": 2
   },
   "file_extension": ".py",
   "mimetype": "text/x-python",
   "name": "python",
   "nbconvert_exporter": "python",
   "pygments_lexer": "ipython2",
   "version": "2.7.10"
  }
 },
 "nbformat": 4,
 "nbformat_minor": 0
}
