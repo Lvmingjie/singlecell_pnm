{
 "cells": [
  {
   "cell_type": "code",
   "execution_count": 1,
   "metadata": {
    "collapsed": false
   },
   "outputs": [
    {
     "name": "stderr",
     "output_type": "stream",
     "text": [
      "/home/obotvinnik/anaconda/lib/python2.7/site-packages/matplotlib/__init__.py:810: UserWarning: Found matplotlib configuration in ~/.matplotlib/. To conform with the XDG base directory standard, this configuration location has been deprecated on Linux, and the new location is now /home/obotvinnik/.config/matplotlib/. Please move your configuration there to ensure that matplotlib will continue to find it in the future.\n",
      "  _get_xdg_config_dir())\n"
     ]
    }
   ],
   "source": [
    "import pandas as pd\n",
    "\n",
    "%load_ext autoreload\n",
    "%autoreload 2\n",
    "\n",
    "folder = '/projects/ps-yeolab/obotvinnik/singlecell_pnms'\n",
    "csv_folder = '{}/csvs_for_paper'.format(folder)\n",
    "bed_folder = '{}/bed'.format(folder)\n",
    "# folder2 = '/projects/ps-yeolab2/obotvinnik/singlecell_pnm'\n",
    "\n",
    "splicing_feature_folder = '{}/splicing_feature_data'.format(csv_folder)\n",
    "alternative_feature_folder = '{}/alternative'.format(splicing_feature_folder)\n",
    "constitutive_feature_folder = '{}/constitutive'.format(splicing_feature_folder)\n",
    "\n",
    "alt_exons_bedfile = '{}/exons.bed'.format(alternative_feature_folder)\n",
    "constitutive_bedfile = '{}/exons.bed'.format(constitutive_feature_folder)\n",
    "\n",
    "\n",
    "# splicing_feature_data = pd.read_csv('{}/splicing_feature_data.csv'.format(csv_folder), index_col=0)\n",
    "# print(splicing_feature_data.shape)\n",
    "# splicing_feature_data.head()"
   ]
  },
  {
   "cell_type": "code",
   "execution_count": 2,
   "metadata": {
    "collapsed": true
   },
   "outputs": [],
   "source": [
    "import pybedtools"
   ]
  },
  {
   "cell_type": "code",
   "execution_count": 3,
   "metadata": {
    "collapsed": true
   },
   "outputs": [],
   "source": [
    "alt_exons = pybedtools.BedTool(alt_exons_bedfile)\n",
    "constitutive_exons = pybedtools.BedTool(constitutive_bedfile)"
   ]
  },
  {
   "cell_type": "code",
   "execution_count": 4,
   "metadata": {
    "collapsed": false
   },
   "outputs": [
    {
     "name": "stdout",
     "output_type": "stream",
     "text": [
      "(43903, 5893)\n"
     ]
    }
   ],
   "source": [
    "print(len(alt_exons), len(constitutive_exons))"
   ]
  },
  {
   "cell_type": "markdown",
   "metadata": {},
   "source": [
    "## Caclulate upstream nucleotide fraction"
   ]
  },
  {
   "cell_type": "code",
   "execution_count": 5,
   "metadata": {
    "collapsed": true
   },
   "outputs": [],
   "source": [
    "hg19_fasta = '/projects/ps-yeolab/genomes/hg19/chromosomes/all.fa'"
   ]
  },
  {
   "cell_type": "code",
   "execution_count": 18,
   "metadata": {
    "collapsed": false
   },
   "outputs": [],
   "source": [
    "from Bio import SeqIO\n",
    "\n",
    "def calculate_nucleotide_content(bed, window, nt, genome, fasta, nucleotide, context, intersect=None):\n",
    "    \"\"\"Count the percentage of nucleotides in windows flanking a bed file (e.g. exons)\n",
    "    \n",
    "    Parameters\n",
    "    ----------\n",
    "    bed : pybedtools.BedTool\n",
    "        BedTool object of exons whose flanking nucleotide content you want to measure\n",
    "    window : int\n",
    "        Size of the windows to use\n",
    "    nt : int\n",
    "        Size of the flanking region\n",
    "    genome : str\n",
    "        Unique name of the genome to look up chromosome sizes, or the chromosome sizes themselves\n",
    "    fasta : str\n",
    "        Location of the genome sequences as a fasta file\n",
    "    nucleotide : str\n",
    "        Which nucleotide you're counting\n",
    "    context : 'upstream' | 'downstream'\n",
    "        Relative to the strand, whether you want the upstream or downstream sequences\n",
    "    intersect = pybedtools.BedTool, optional\n",
    "        Another bed file to intersect with if you're only interested in a subset of regions (e.g. only conserved elemets)\n",
    "    \n",
    "    Returns\n",
    "    -------\n",
    "    nucleotide_fraction : pandas.DataFrame\n",
    "        \n",
    "    \n",
    "    \"\"\"\n",
    "    windows = nt/window\n",
    "\n",
    "    index = [x.name for x in bed]\n",
    "\n",
    "    nucleotide_fractions = []\n",
    "    if context.startswith('up'):\n",
    "        # Upstream - go left (upstream) the window size, and right zero\n",
    "        flank_kws = dict(l=window, r=0, s=True, genome=genome)\n",
    "    elif context.startswith('d'):\n",
    "        # downstream - go right (downstream) the window size, and right zero\n",
    "        flank_kws = dict(l=0, r=window, s=True, genome=genome)\n",
    "\n",
    "    for i in range(windows):\n",
    "        if i == 0:\n",
    "            subset = bed.flank(**flank_kws)\n",
    "        else:\n",
    "            subset = subset.flank(**flank_kws)\n",
    "            \n",
    "        if intersect is not None:\n",
    "            subset = subset.intersect(intersect)\n",
    "            df = subset.to_dataframe()\n",
    "            index = df['name']\n",
    "\n",
    "        seqs = subset.sequence(fi=fasta, s=True)\n",
    "        with open(seqs.seqfn) as f:\n",
    "            records = list(SeqIO.parse(f, 'fasta'))\n",
    "        nucleotide_fraction = [sum(1 for x in s.seq if x == nucleotide)/float(window) for s in records]\n",
    "        nucleotide_fraction = pd.Series(nucleotide_fraction, index=index).reset_index()\n",
    "        nucleotide_fractions.append(nucleotide_fraction)\n",
    "    nucleotide_fraction_df = pd.concat(nucleotide_fractions, axis=1)\n",
    "    return nucleotide_fraction_df"
   ]
  },
  {
   "cell_type": "code",
   "execution_count": 19,
   "metadata": {
    "collapsed": true
   },
   "outputs": [],
   "source": [
    "csv_folder = '/projects/ps-yeolab/obotvinnik/singlecell_pnms/csvs_for_paper'"
   ]
  },
  {
   "cell_type": "code",
   "execution_count": null,
   "metadata": {
    "collapsed": true
   },
   "outputs": [],
   "source": []
  },
  {
   "cell_type": "code",
   "execution_count": 20,
   "metadata": {
    "collapsed": true
   },
   "outputs": [],
   "source": [
    "import six"
   ]
  },
  {
   "cell_type": "code",
   "execution_count": 21,
   "metadata": {
    "collapsed": false
   },
   "outputs": [],
   "source": [
    "splicing_feature_folder = '{}/splicing_feature_data'.format(csv_folder)"
   ]
  },
  {
   "cell_type": "code",
   "execution_count": 22,
   "metadata": {
    "collapsed": false
   },
   "outputs": [
    {
     "name": "stdout",
     "output_type": "stream",
     "text": [
      "Automatic pdb calling has been turned ON\n"
     ]
    }
   ],
   "source": [
    "%pdb"
   ]
  },
  {
   "cell_type": "code",
   "execution_count": null,
   "metadata": {
    "collapsed": false
   },
   "outputs": [
    {
     "name": "stdout",
     "output_type": "stream",
     "text": [
      "(43903, 5893)\n",
      "A upstream alternative\n",
      "mkdir: cannot create directory `/projects/ps-yeolab/obotvinnik/singlecell_pnms/csvs_for_paper/splicing_feature_data/alternative/nucleotide_content': File exists\r\n"
     ]
    }
   ],
   "source": [
    "placental = '/projects/ps-yeolab/genomes/hg19/database/phastConsElements46wayPlacental.bed'\n",
    "\n",
    "nucleotides = 'ACGT'\n",
    "contexts = 'upstream', 'downstream'\n",
    "\n",
    "alt_exons = pybedtools.BedTool(alt_exons_bedfile)\n",
    "constitutive_exons = pybedtools.BedTool(constitutive_bedfile)\n",
    "print(len(alt_exons), len(constitutive_exons))\n",
    "\n",
    "beds = {'alternative': alt_exons, 'constitutive': constitutive_exons}\n",
    "\n",
    "for nucleotide in nucleotides:\n",
    "    for context in contexts:\n",
    "        for name, bed in beds.items():\n",
    "            six.print_(nucleotide, context, name)\n",
    "            nucleotide_folder = '{}/{}/nucleotide_content'.format(splicing_feature_folder, name)\n",
    "            ! mkdir $nucleotide_folder\n",
    "            nucleotide_content = calculate_nucleotide_content(bed, window=10, nt=400, genome='hg19', fasta=hg19_fasta, \n",
    "                                                             nucleotide=nucleotide, context=context, intersect=placental)\n",
    "            nucleotide_content.to_csv('{}/{}400_nucleotide_content_{}_placental_mammal.csv'.format(\n",
    "                    nucleotide_folder, context, nucleotide), index=False)"
   ]
  },
  {
   "cell_type": "code",
   "execution_count": null,
   "metadata": {
    "collapsed": false
   },
   "outputs": [],
   "source": [
    "nucleotides = 'ACGT'\n",
    "contexts = 'upstream', 'downstream'\n",
    "\n",
    "alt_exons = pybedtools.BedTool(alt_exons_bedfile)\n",
    "constitutive_exons = pybedtools.BedTool(constitutive_bedfile)\n",
    "print(len(alt_exons), len(constitutive_exons))\n",
    "\n",
    "beds = {'alternative': alt_exons, 'constitutive': constitutive_exons}\n",
    "\n",
    "for nucleotide in nucleotides:\n",
    "    for context in contexts:\n",
    "        for name, bed in beds.items():\n",
    "            six.print_(nucleotide, context, name)\n",
    "            nucleotide_folder = '{}/{}/nucleotide_content'.format(splicing_feature_folder, name)\n",
    "            ! mkdir $nucleotide_folder\n",
    "            nucleotide_content = calculate_nucleotide_content(bed, window=10, nt=400, genome='hg19', fasta=hg19_fasta, \n",
    "                                                             nucleotide=nucleotide, context=context)\n",
    "            nucleotide_content.to_csv('{}/{}400_nucleotide_content_{}.csv'.format(\n",
    "                    nucleotide_folder, context, nucleotide))"
   ]
  },
  {
   "cell_type": "code",
   "execution_count": null,
   "metadata": {
    "collapsed": true
   },
   "outputs": [],
   "source": []
  },
  {
   "cell_type": "code",
   "execution_count": null,
   "metadata": {
    "collapsed": true
   },
   "outputs": [],
   "source": []
  }
 ],
 "metadata": {
  "kernelspec": {
   "display_name": "Python 2",
   "language": "python",
   "name": "python2"
  },
  "language_info": {
   "codemirror_mode": {
    "name": "ipython",
    "version": 2
   },
   "file_extension": ".py",
   "mimetype": "text/x-python",
   "name": "python",
   "nbconvert_exporter": "python",
   "pygments_lexer": "ipython2",
   "version": "2.7.11"
  }
 },
 "nbformat": 4,
 "nbformat_minor": 0
}
