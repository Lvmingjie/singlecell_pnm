{
 "cells": [
  {
   "cell_type": "markdown",
   "metadata": {
    "collapsed": false
   },
   "source": [
    "## Calculate miRNA hybridization\n",
    "\n",
    "For RNA targets, James Broughton from the Pasquinelli lab recommends `RNAhybrid`, and to use just the first 17 nt of the mature miRNA. Wanted to use `fastx-trimmer` but it only takes DNA sequences  - `U`'s are illegal :("
   ]
  },
  {
   "cell_type": "code",
   "execution_count": 2,
   "metadata": {
    "collapsed": true
   },
   "outputs": [],
   "source": [
    "from Bio import SeqIO\n",
    "import sys\n",
    "import os\n",
    "\n",
    "result_seq = []\n",
    "filename = '/projects/ps-yeolab/genomes/mirbase/release_21/human_mature.fa'\n",
    "with open(filename) as infile:\n",
    "    for seq in SeqIO.parse(infile, 'fasta'):\n",
    "        result_seq.append(seq[:17])\n",
    "\n",
    "trimmed_filename = '/projects/ps-yeolab/genomes/mirbase/release_21/human_mature_17bp.fa'\n",
    "with open(trimmed_filename, 'w') as outfile:\n",
    "    SeqIO.write(result_seq, outfile, 'fasta')"
   ]
  },
  {
   "cell_type": "code",
   "execution_count": 3,
   "metadata": {
    "collapsed": true
   },
   "outputs": [],
   "source": [
    "import pybedtools\n",
    "\n",
    "folder = '/projects/ps-yeolab/obotvinnik/singlecell_pnms'\n",
    "csv_folder = '{}/csvs_for_paper/'.format(folder)\n",
    "bed_folder = '{}/bed'.format(folder)\n",
    "\n",
    "\n",
    "\n",
    "splicing_feature_folder = '{}/splicing_feature_data'.format(csv_folder)\n",
    "alternative_feature_folder = '{}/alternative'.format(splicing_feature_folder)\n",
    "constitutive_feature_folder = '{}/constitutive'.format(splicing_feature_folder)"
   ]
  },
  {
   "cell_type": "code",
   "execution_count": 4,
   "metadata": {
    "collapsed": true
   },
   "outputs": [],
   "source": [
    "alt_exons_bed = '{}/alt_exons_stop_plus1.bed'.format(bed_folder)\n",
    "constitutive_bed = '{}/constitutive_stop_plus1.bed'.format(bed_folder)"
   ]
  },
  {
   "cell_type": "code",
   "execution_count": 10,
   "metadata": {
    "collapsed": true
   },
   "outputs": [],
   "source": [
    "exon2s = pybedtools.BedTool(alt_exons_bed)\n",
    "constitutives = pybedtools.BedTool(constitutive_bed)\n",
    "\n",
    "beds = {'alternative': exon2s, 'constitutive': constitutives}"
   ]
  },
  {
   "cell_type": "code",
   "execution_count": 8,
   "metadata": {
    "collapsed": true
   },
   "outputs": [],
   "source": [
    "hg19_fasta = '/projects/ps-yeolab/genomes/hg19/gencode/v19/GRCh37.p13.genome.fa'"
   ]
  },
  {
   "cell_type": "code",
   "execution_count": 11,
   "metadata": {
    "collapsed": true
   },
   "outputs": [],
   "source": [
    "bed = constitutives"
   ]
  },
  {
   "cell_type": "code",
   "execution_count": 12,
   "metadata": {
    "collapsed": true
   },
   "outputs": [],
   "source": [
    "seqs = bed.sequence(fi=hg19_fasta, s=True)"
   ]
  },
  {
   "cell_type": "code",
   "execution_count": 13,
   "metadata": {
    "collapsed": false
   },
   "outputs": [
    {
     "data": {
      "text/plain": [
       "'/state/partition1/obotvinnik/4349309.tscc-mgr.local/pybedtools.wkY7tx.tmp'"
      ]
     },
     "execution_count": 13,
     "metadata": {},
     "output_type": "execute_result"
    }
   ],
   "source": [
    "seqs.seqfn"
   ]
  },
  {
   "cell_type": "code",
   "execution_count": 15,
   "metadata": {
    "collapsed": false
   },
   "outputs": [
    {
     "name": "stdout",
     "output_type": "stream",
     "text": [
      "12500 /state/partition1/obotvinnik/4349309.tscc-mgr.local/pybedtools.wkY7tx.tmp\r\n"
     ]
    }
   ],
   "source": [
    "! wc -l /state/partition1/obotvinnik/4349309.tscc-mgr.local/pybedtools.wkY7tx.tmp"
   ]
  },
  {
   "cell_type": "code",
   "execution_count": 17,
   "metadata": {
    "collapsed": false
   },
   "outputs": [
    {
     "data": {
      "text/plain": [
       "['RNAhybrid -c -s 3utr_human -e -28 -q /projects/ps-yeolab/genomes/mirbase/release_21/human_mature_17bp.fa -t /projects/ps-yeolab/obotvinnik/singlecell_pnms/csvs_for_paper//splicing_feature_data/alternative/exons.fasta > /projects/ps-yeolab/obotvinnik/singlecell_pnms/csvs_for_paper//splicing_feature_data/constitutive/exons_rnahybrid_mirbase_results.txt',\n",
       " 'RNAhybrid -c -s 3utr_human -e -28 -q /projects/ps-yeolab/genomes/mirbase/release_21/human_mature_17bp.fa -t /projects/ps-yeolab/obotvinnik/singlecell_pnms/csvs_for_paper//splicing_feature_data/constitutive/exons.fasta > /projects/ps-yeolab/obotvinnik/singlecell_pnms/csvs_for_paper//splicing_feature_data/constitutive/exons_rnahybrid_mirbase_results.txt']"
      ]
     },
     "execution_count": 17,
     "metadata": {},
     "output_type": "execute_result"
    }
   ],
   "source": [
    "commands = []\n",
    "\n",
    "for name, bed in beds.items():\n",
    "    seqs = bed.sequence(fi=hg19_fasta, s=True)\n",
    "    temp_fasta = seqs.seqfn\n",
    "    final_fasta = '{}/{}/exons.fasta'.format(splicing_feature_folder, name)\n",
    "    ! cp $temp_fasta $final_fasta\n",
    "    mirna_seqs = '/projects/ps-yeolab/genomes/mirbase/release_21/human_mature_17bp.fa'\n",
    "    rnahybrid_results = out_fasta.replace('.fasta', '_rnahybrid_mirbase_results.txt')\n",
    "    command = 'RNAhybrid -c -s 3utr_human -e -28 -q {} -t {} > {}'.format(mirna_seqs, final_fasta, rnahybrid_results)\n",
    "    commands.append(command)\n",
    "commands"
   ]
  },
  {
   "cell_type": "code",
   "execution_count": 18,
   "metadata": {
    "collapsed": false
   },
   "outputs": [
    {
     "name": "stderr",
     "output_type": "stream",
     "text": [
      "running 2 tasks as an array-job.\n",
      "job ID: 4356898\n"
     ]
    }
   ],
   "source": [
    "from qtools import Submitter\n",
    "\n",
    "sub = Submitter(commands, 'RNAhybrid', walltime='120:00:00', write_and_submit=True, array=True)"
   ]
  },
  {
   "cell_type": "markdown",
   "metadata": {},
   "source": [
    "Submit a compute job to calculate microRNA hybridization."
   ]
  },
  {
   "cell_type": "code",
   "execution_count": 4,
   "metadata": {
    "collapsed": false
   },
   "outputs": [],
   "source": [
    "folder = '/projects/ps-yeolab/obotvinnik/singlecell_pnms'\n",
    "prefix = 'exon2'\n",
    "transcribed_fasta = '{}/{}.fa'.format(folder, prefix)"
   ]
  },
  {
   "cell_type": "code",
   "execution_count": 5,
   "metadata": {
    "collapsed": false
   },
   "outputs": [
    {
     "name": "stderr",
     "output_type": "stream",
     "text": [
      "job ID: 3320888\n"
     ]
    }
   ],
   "source": [
    "from gscripts.qtools import Submitter\n",
    "\n",
    "mirna_seqs = '/projects/ps-yeolab/genomes/mirbase/release_21/human_mature_17bp.fa'\n",
    "rnahybrid_results = '/projects/ps-yeolab/obotvinnik/miso_helpers/hg19/se_exon2_RNAhybrid_mirbase_human_mature_17bp_mfe_cutoff.txt'\n",
    "command = 'RNAhybrid -c -s 3utr_human -e -28 -q {} -t {} > {}'.format(mirna_seqs, transcribed_fasta, rnahybrid_results)\n",
    "sub = Submitter([command], 'RNAhybrid', walltime='120:00:00', write_and_submit=True)"
   ]
  },
  {
   "cell_type": "markdown",
   "metadata": {},
   "source": [
    "Reading the output takes a LONG time"
   ]
  },
  {
   "cell_type": "code",
   "execution_count": null,
   "metadata": {
    "collapsed": true
   },
   "outputs": [],
   "source": [
    "%%time\n",
    "import pandas as pd\n",
    "from collections import Counter\n",
    "\n",
    "rnahybrid = pd.read_csv('/projects/ps-yeolab/obotvinnik/miso_helpers/hg19/se_exon2_RNAhybrid_mirbase_human_mature_17bp.txt', \n",
    "                        sep=':', \n",
    "#                         index_col=[0, 1, 3], \n",
    "                        header=None,\n",
    "                        names=['chrom', 'start-stop', 'exon_length', 'mirna', 'mirna_length',\n",
    "                                                                 'minimum_free_energy', 'p_value', 'target_bound_start', 'mirna_unbound',\n",
    "                                                                 'mirna_bound', 'exon_bound', 'exon_bound'])\n",
    "rnahybrid = rnahybrid.ix[rnahybrid.minimum_free_energy < -28]\n",
    "grouped = rnahybrid.groupby(['chrom', 'start-stop'])\n",
    "chrom_startstop_mirna = grouped.mirna.apply(lambda x: ','.join('{}[{}]'.format(k, v) for k,v in Counter(x).items()))\n",
    "chrom_startstop_mirna.head()"
   ]
  }
 ],
 "metadata": {
  "kernelspec": {
   "display_name": "Python 2",
   "language": "python",
   "name": "python2"
  },
  "language_info": {
   "codemirror_mode": {
    "name": "ipython",
    "version": 2
   },
   "file_extension": ".py",
   "mimetype": "text/x-python",
   "name": "python",
   "nbconvert_exporter": "python",
   "pygments_lexer": "ipython2",
   "version": "2.7.11"
  }
 },
 "nbformat": 4,
 "nbformat_minor": 0
}
