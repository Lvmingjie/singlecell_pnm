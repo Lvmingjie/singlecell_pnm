{
 "cells": [
  {
   "cell_type": "code",
   "execution_count": 1,
   "metadata": {
    "collapsed": false
   },
   "outputs": [
    {
     "name": "stderr",
     "output_type": "stream",
     "text": [
      "/home/obotvinnik/anaconda/lib/python2.7/site-packages/matplotlib/__init__.py:810: UserWarning: Found matplotlib configuration in ~/.matplotlib/. To conform with the XDG base directory standard, this configuration location has been deprecated on Linux, and the new location is now /home/obotvinnik/.config/matplotlib/. Please move your configuration there to ensure that matplotlib will continue to find it in the future.\n",
      "  _get_xdg_config_dir())\n",
      "/home/obotvinnik/anaconda/lib/python2.7/site-packages/IPython/core/interactiveshell.py:2902: DtypeWarning: Columns (19) have mixed types. Specify dtype option on import or set low_memory=False.\n",
      "  interactivity=interactivity, compiler=compiler, result=result)\n"
     ]
    },
    {
     "name": "stdout",
     "output_type": "stream",
     "text": [
      "(36531, 26)\n"
     ]
    },
    {
     "data": {
      "text/html": [
       "<div>\n",
       "<table border=\"1\" class=\"dataframe\">\n",
       "  <thead>\n",
       "    <tr style=\"text-align: right;\">\n",
       "      <th></th>\n",
       "      <th>Unnamed: 0</th>\n",
       "      <th>criteria</th>\n",
       "      <th>criteria_additional</th>\n",
       "      <th>criteria_full</th>\n",
       "      <th>ensembl_id</th>\n",
       "      <th>exon1</th>\n",
       "      <th>exon1_length</th>\n",
       "      <th>exon2</th>\n",
       "      <th>exon2_length</th>\n",
       "      <th>exon3</th>\n",
       "      <th>...</th>\n",
       "      <th>junction12</th>\n",
       "      <th>junction13</th>\n",
       "      <th>junction23</th>\n",
       "      <th>junction24</th>\n",
       "      <th>junction34</th>\n",
       "      <th>strand</th>\n",
       "      <th>transcript_id</th>\n",
       "      <th>exon2_divisible_by_3</th>\n",
       "      <th>one_ensembl_id</th>\n",
       "      <th>splice_type</th>\n",
       "    </tr>\n",
       "    <tr>\n",
       "      <th>event_id</th>\n",
       "      <th></th>\n",
       "      <th></th>\n",
       "      <th></th>\n",
       "      <th></th>\n",
       "      <th></th>\n",
       "      <th></th>\n",
       "      <th></th>\n",
       "      <th></th>\n",
       "      <th></th>\n",
       "      <th></th>\n",
       "      <th></th>\n",
       "      <th></th>\n",
       "      <th></th>\n",
       "      <th></th>\n",
       "      <th></th>\n",
       "      <th></th>\n",
       "      <th></th>\n",
       "      <th></th>\n",
       "      <th></th>\n",
       "      <th></th>\n",
       "      <th></th>\n",
       "    </tr>\n",
       "  </thead>\n",
       "  <tbody>\n",
       "    <tr>\n",
       "      <th>exon:chr10:100190328-100190427:-@exon:chr10:100189548-100189646:-@exon:chr10:100189330-100189399:-</th>\n",
       "      <td>NaN</td>\n",
       "      <td>best</td>\n",
       "      <td>appris_principal</td>\n",
       "      <td>best,appris_principal</td>\n",
       "      <td>ENSG00000107521</td>\n",
       "      <td>exon:chr10:100190328-100190427:-</td>\n",
       "      <td>100</td>\n",
       "      <td>exon:chr10:100189548-100189646:-</td>\n",
       "      <td>99</td>\n",
       "      <td>exon:chr10:100189330-100189399:-</td>\n",
       "      <td>...</td>\n",
       "      <td>chr10:100189647-100190327:-</td>\n",
       "      <td>chr10:100189400-100190327:-</td>\n",
       "      <td>chr10:100189400-100189547:-</td>\n",
       "      <td>NaN</td>\n",
       "      <td>NaN</td>\n",
       "      <td>-</td>\n",
       "      <td>ENST00000361490.4,ENST00000414009.1,ENST000003...</td>\n",
       "      <td>True</td>\n",
       "      <td>ENSG00000107521</td>\n",
       "      <td>SE</td>\n",
       "    </tr>\n",
       "    <tr>\n",
       "      <th>exon:chr10:100193697-100193848:-@exon:chr10:100190888-100191048:-@exon:chr10:100190328-100190427:-</th>\n",
       "      <td>NaN</td>\n",
       "      <td>only one</td>\n",
       "      <td>NaN</td>\n",
       "      <td>only one</td>\n",
       "      <td>ENSG00000107521</td>\n",
       "      <td>exon:chr10:100193697-100193848:-</td>\n",
       "      <td>152</td>\n",
       "      <td>exon:chr10:100190888-100191048:-</td>\n",
       "      <td>161</td>\n",
       "      <td>exon:chr10:100190328-100190427:-</td>\n",
       "      <td>...</td>\n",
       "      <td>chr10:100191049-100193696:-</td>\n",
       "      <td>chr10:100190428-100193696:-</td>\n",
       "      <td>chr10:100190428-100190887:-</td>\n",
       "      <td>NaN</td>\n",
       "      <td>NaN</td>\n",
       "      <td>-</td>\n",
       "      <td>ENST00000361490.4,ENST00000414009.1,ENST000003...</td>\n",
       "      <td>False</td>\n",
       "      <td>ENSG00000107521</td>\n",
       "      <td>SE</td>\n",
       "    </tr>\n",
       "    <tr>\n",
       "      <th>exon:chr10:100195392-100195529:-@exon:chr10:100195029-100195171:-@exon:chr10:100193697-100193848:-</th>\n",
       "      <td>NaN</td>\n",
       "      <td>best</td>\n",
       "      <td>appris_principal</td>\n",
       "      <td>best,appris_principal</td>\n",
       "      <td>ENSG00000107521</td>\n",
       "      <td>exon:chr10:100195392-100195529:-</td>\n",
       "      <td>138</td>\n",
       "      <td>exon:chr10:100195029-100195171:-</td>\n",
       "      <td>143</td>\n",
       "      <td>exon:chr10:100193697-100193848:-</td>\n",
       "      <td>...</td>\n",
       "      <td>chr10:100195172-100195391:-</td>\n",
       "      <td>chr10:100193849-100195391:-</td>\n",
       "      <td>chr10:100193849-100195028:-</td>\n",
       "      <td>NaN</td>\n",
       "      <td>NaN</td>\n",
       "      <td>-</td>\n",
       "      <td>ENST00000361490.4,ENST00000325103.6,ENST000004...</td>\n",
       "      <td>False</td>\n",
       "      <td>ENSG00000107521</td>\n",
       "      <td>SE</td>\n",
       "    </tr>\n",
       "    <tr>\n",
       "      <th>exon:chr10:101165513-101165617:-@exon:chr10:101163481-101163631:-@exon:chr10:101163226-101163391:-</th>\n",
       "      <td>NaN</td>\n",
       "      <td>only one</td>\n",
       "      <td>NaN</td>\n",
       "      <td>only one</td>\n",
       "      <td>ENSG00000120053</td>\n",
       "      <td>exon:chr10:101165513-101165617:-</td>\n",
       "      <td>105</td>\n",
       "      <td>exon:chr10:101163481-101163631:-</td>\n",
       "      <td>151</td>\n",
       "      <td>exon:chr10:101163226-101163391:-</td>\n",
       "      <td>...</td>\n",
       "      <td>chr10:101163632-101165512:-</td>\n",
       "      <td>chr10:101163392-101165512:-</td>\n",
       "      <td>chr10:101163392-101163480:-</td>\n",
       "      <td>NaN</td>\n",
       "      <td>NaN</td>\n",
       "      <td>-</td>\n",
       "      <td>ENST00000543866.1,ENST00000370508.5</td>\n",
       "      <td>False</td>\n",
       "      <td>ENSG00000120053</td>\n",
       "      <td>SE</td>\n",
       "    </tr>\n",
       "    <tr>\n",
       "      <th>exon:chr10:101419263-101419345:+@exon:chr10:101419619-101419721:+@exon:chr10:101421203-101421385:+</th>\n",
       "      <td>NaN</td>\n",
       "      <td>only one</td>\n",
       "      <td>NaN</td>\n",
       "      <td>only one</td>\n",
       "      <td>ENSG00000198018</td>\n",
       "      <td>exon:chr10:101419263-101419345:+</td>\n",
       "      <td>83</td>\n",
       "      <td>exon:chr10:101419619-101419721:+</td>\n",
       "      <td>103</td>\n",
       "      <td>exon:chr10:101421203-101421385:+</td>\n",
       "      <td>...</td>\n",
       "      <td>chr10:101419346-101419618:+</td>\n",
       "      <td>chr10:101419346-101421202:+</td>\n",
       "      <td>chr10:101419722-101421202:+</td>\n",
       "      <td>NaN</td>\n",
       "      <td>NaN</td>\n",
       "      <td>+</td>\n",
       "      <td>ENST00000370489.4</td>\n",
       "      <td>False</td>\n",
       "      <td>ENSG00000198018</td>\n",
       "      <td>SE</td>\n",
       "    </tr>\n",
       "  </tbody>\n",
       "</table>\n",
       "<p>5 rows × 26 columns</p>\n",
       "</div>"
      ],
      "text/plain": [
       "                                                    Unnamed: 0  criteria  \\\n",
       "event_id                                                                   \n",
       "exon:chr10:100190328-100190427:-@exon:chr10:100...         NaN      best   \n",
       "exon:chr10:100193697-100193848:-@exon:chr10:100...         NaN  only one   \n",
       "exon:chr10:100195392-100195529:-@exon:chr10:100...         NaN      best   \n",
       "exon:chr10:101165513-101165617:-@exon:chr10:101...         NaN  only one   \n",
       "exon:chr10:101419263-101419345:+@exon:chr10:101...         NaN  only one   \n",
       "\n",
       "                                                   criteria_additional  \\\n",
       "event_id                                                                 \n",
       "exon:chr10:100190328-100190427:-@exon:chr10:100...    appris_principal   \n",
       "exon:chr10:100193697-100193848:-@exon:chr10:100...                 NaN   \n",
       "exon:chr10:100195392-100195529:-@exon:chr10:100...    appris_principal   \n",
       "exon:chr10:101165513-101165617:-@exon:chr10:101...                 NaN   \n",
       "exon:chr10:101419263-101419345:+@exon:chr10:101...                 NaN   \n",
       "\n",
       "                                                            criteria_full  \\\n",
       "event_id                                                                    \n",
       "exon:chr10:100190328-100190427:-@exon:chr10:100...  best,appris_principal   \n",
       "exon:chr10:100193697-100193848:-@exon:chr10:100...               only one   \n",
       "exon:chr10:100195392-100195529:-@exon:chr10:100...  best,appris_principal   \n",
       "exon:chr10:101165513-101165617:-@exon:chr10:101...               only one   \n",
       "exon:chr10:101419263-101419345:+@exon:chr10:101...               only one   \n",
       "\n",
       "                                                         ensembl_id  \\\n",
       "event_id                                                              \n",
       "exon:chr10:100190328-100190427:-@exon:chr10:100...  ENSG00000107521   \n",
       "exon:chr10:100193697-100193848:-@exon:chr10:100...  ENSG00000107521   \n",
       "exon:chr10:100195392-100195529:-@exon:chr10:100...  ENSG00000107521   \n",
       "exon:chr10:101165513-101165617:-@exon:chr10:101...  ENSG00000120053   \n",
       "exon:chr10:101419263-101419345:+@exon:chr10:101...  ENSG00000198018   \n",
       "\n",
       "                                                                               exon1  \\\n",
       "event_id                                                                               \n",
       "exon:chr10:100190328-100190427:-@exon:chr10:100...  exon:chr10:100190328-100190427:-   \n",
       "exon:chr10:100193697-100193848:-@exon:chr10:100...  exon:chr10:100193697-100193848:-   \n",
       "exon:chr10:100195392-100195529:-@exon:chr10:100...  exon:chr10:100195392-100195529:-   \n",
       "exon:chr10:101165513-101165617:-@exon:chr10:101...  exon:chr10:101165513-101165617:-   \n",
       "exon:chr10:101419263-101419345:+@exon:chr10:101...  exon:chr10:101419263-101419345:+   \n",
       "\n",
       "                                                    exon1_length  \\\n",
       "event_id                                                           \n",
       "exon:chr10:100190328-100190427:-@exon:chr10:100...           100   \n",
       "exon:chr10:100193697-100193848:-@exon:chr10:100...           152   \n",
       "exon:chr10:100195392-100195529:-@exon:chr10:100...           138   \n",
       "exon:chr10:101165513-101165617:-@exon:chr10:101...           105   \n",
       "exon:chr10:101419263-101419345:+@exon:chr10:101...            83   \n",
       "\n",
       "                                                                               exon2  \\\n",
       "event_id                                                                               \n",
       "exon:chr10:100190328-100190427:-@exon:chr10:100...  exon:chr10:100189548-100189646:-   \n",
       "exon:chr10:100193697-100193848:-@exon:chr10:100...  exon:chr10:100190888-100191048:-   \n",
       "exon:chr10:100195392-100195529:-@exon:chr10:100...  exon:chr10:100195029-100195171:-   \n",
       "exon:chr10:101165513-101165617:-@exon:chr10:101...  exon:chr10:101163481-101163631:-   \n",
       "exon:chr10:101419263-101419345:+@exon:chr10:101...  exon:chr10:101419619-101419721:+   \n",
       "\n",
       "                                                    exon2_length  \\\n",
       "event_id                                                           \n",
       "exon:chr10:100190328-100190427:-@exon:chr10:100...            99   \n",
       "exon:chr10:100193697-100193848:-@exon:chr10:100...           161   \n",
       "exon:chr10:100195392-100195529:-@exon:chr10:100...           143   \n",
       "exon:chr10:101165513-101165617:-@exon:chr10:101...           151   \n",
       "exon:chr10:101419263-101419345:+@exon:chr10:101...           103   \n",
       "\n",
       "                                                                               exon3  \\\n",
       "event_id                                                                               \n",
       "exon:chr10:100190328-100190427:-@exon:chr10:100...  exon:chr10:100189330-100189399:-   \n",
       "exon:chr10:100193697-100193848:-@exon:chr10:100...  exon:chr10:100190328-100190427:-   \n",
       "exon:chr10:100195392-100195529:-@exon:chr10:100...  exon:chr10:100193697-100193848:-   \n",
       "exon:chr10:101165513-101165617:-@exon:chr10:101...  exon:chr10:101163226-101163391:-   \n",
       "exon:chr10:101419263-101419345:+@exon:chr10:101...  exon:chr10:101421203-101421385:+   \n",
       "\n",
       "                                                       ...      \\\n",
       "event_id                                               ...       \n",
       "exon:chr10:100190328-100190427:-@exon:chr10:100...     ...       \n",
       "exon:chr10:100193697-100193848:-@exon:chr10:100...     ...       \n",
       "exon:chr10:100195392-100195529:-@exon:chr10:100...     ...       \n",
       "exon:chr10:101165513-101165617:-@exon:chr10:101...     ...       \n",
       "exon:chr10:101419263-101419345:+@exon:chr10:101...     ...       \n",
       "\n",
       "                                                                     junction12  \\\n",
       "event_id                                                                          \n",
       "exon:chr10:100190328-100190427:-@exon:chr10:100...  chr10:100189647-100190327:-   \n",
       "exon:chr10:100193697-100193848:-@exon:chr10:100...  chr10:100191049-100193696:-   \n",
       "exon:chr10:100195392-100195529:-@exon:chr10:100...  chr10:100195172-100195391:-   \n",
       "exon:chr10:101165513-101165617:-@exon:chr10:101...  chr10:101163632-101165512:-   \n",
       "exon:chr10:101419263-101419345:+@exon:chr10:101...  chr10:101419346-101419618:+   \n",
       "\n",
       "                                                                     junction13  \\\n",
       "event_id                                                                          \n",
       "exon:chr10:100190328-100190427:-@exon:chr10:100...  chr10:100189400-100190327:-   \n",
       "exon:chr10:100193697-100193848:-@exon:chr10:100...  chr10:100190428-100193696:-   \n",
       "exon:chr10:100195392-100195529:-@exon:chr10:100...  chr10:100193849-100195391:-   \n",
       "exon:chr10:101165513-101165617:-@exon:chr10:101...  chr10:101163392-101165512:-   \n",
       "exon:chr10:101419263-101419345:+@exon:chr10:101...  chr10:101419346-101421202:+   \n",
       "\n",
       "                                                                     junction23  \\\n",
       "event_id                                                                          \n",
       "exon:chr10:100190328-100190427:-@exon:chr10:100...  chr10:100189400-100189547:-   \n",
       "exon:chr10:100193697-100193848:-@exon:chr10:100...  chr10:100190428-100190887:-   \n",
       "exon:chr10:100195392-100195529:-@exon:chr10:100...  chr10:100193849-100195028:-   \n",
       "exon:chr10:101165513-101165617:-@exon:chr10:101...  chr10:101163392-101163480:-   \n",
       "exon:chr10:101419263-101419345:+@exon:chr10:101...  chr10:101419722-101421202:+   \n",
       "\n",
       "                                                   junction24 junction34  \\\n",
       "event_id                                                                   \n",
       "exon:chr10:100190328-100190427:-@exon:chr10:100...        NaN        NaN   \n",
       "exon:chr10:100193697-100193848:-@exon:chr10:100...        NaN        NaN   \n",
       "exon:chr10:100195392-100195529:-@exon:chr10:100...        NaN        NaN   \n",
       "exon:chr10:101165513-101165617:-@exon:chr10:101...        NaN        NaN   \n",
       "exon:chr10:101419263-101419345:+@exon:chr10:101...        NaN        NaN   \n",
       "\n",
       "                                                    strand  \\\n",
       "event_id                                                     \n",
       "exon:chr10:100190328-100190427:-@exon:chr10:100...       -   \n",
       "exon:chr10:100193697-100193848:-@exon:chr10:100...       -   \n",
       "exon:chr10:100195392-100195529:-@exon:chr10:100...       -   \n",
       "exon:chr10:101165513-101165617:-@exon:chr10:101...       -   \n",
       "exon:chr10:101419263-101419345:+@exon:chr10:101...       +   \n",
       "\n",
       "                                                                                        transcript_id  \\\n",
       "event_id                                                                                                \n",
       "exon:chr10:100190328-100190427:-@exon:chr10:100...  ENST00000361490.4,ENST00000414009.1,ENST000003...   \n",
       "exon:chr10:100193697-100193848:-@exon:chr10:100...  ENST00000361490.4,ENST00000414009.1,ENST000003...   \n",
       "exon:chr10:100195392-100195529:-@exon:chr10:100...  ENST00000361490.4,ENST00000325103.6,ENST000004...   \n",
       "exon:chr10:101165513-101165617:-@exon:chr10:101...                ENST00000543866.1,ENST00000370508.5   \n",
       "exon:chr10:101419263-101419345:+@exon:chr10:101...                                  ENST00000370489.4   \n",
       "\n",
       "                                                   exon2_divisible_by_3  \\\n",
       "event_id                                                                  \n",
       "exon:chr10:100190328-100190427:-@exon:chr10:100...                 True   \n",
       "exon:chr10:100193697-100193848:-@exon:chr10:100...                False   \n",
       "exon:chr10:100195392-100195529:-@exon:chr10:100...                False   \n",
       "exon:chr10:101165513-101165617:-@exon:chr10:101...                False   \n",
       "exon:chr10:101419263-101419345:+@exon:chr10:101...                False   \n",
       "\n",
       "                                                     one_ensembl_id  \\\n",
       "event_id                                                              \n",
       "exon:chr10:100190328-100190427:-@exon:chr10:100...  ENSG00000107521   \n",
       "exon:chr10:100193697-100193848:-@exon:chr10:100...  ENSG00000107521   \n",
       "exon:chr10:100195392-100195529:-@exon:chr10:100...  ENSG00000107521   \n",
       "exon:chr10:101165513-101165617:-@exon:chr10:101...  ENSG00000120053   \n",
       "exon:chr10:101419263-101419345:+@exon:chr10:101...  ENSG00000198018   \n",
       "\n",
       "                                                   splice_type  \n",
       "event_id                                                        \n",
       "exon:chr10:100190328-100190427:-@exon:chr10:100...          SE  \n",
       "exon:chr10:100193697-100193848:-@exon:chr10:100...          SE  \n",
       "exon:chr10:100195392-100195529:-@exon:chr10:100...          SE  \n",
       "exon:chr10:101165513-101165617:-@exon:chr10:101...          SE  \n",
       "exon:chr10:101419263-101419345:+@exon:chr10:101...          SE  \n",
       "\n",
       "[5 rows x 26 columns]"
      ]
     },
     "execution_count": 1,
     "metadata": {},
     "output_type": "execute_result"
    }
   ],
   "source": [
    "import itertools\n",
    "import re\n",
    "\n",
    "import gffutils\n",
    "import numpy as np\n",
    "import pandas as pd\n",
    "import pybedtools\n",
    "import six\n",
    "\n",
    "v19db_filename = '/home/obotvinnik/scratch/genomes/hg19/gencode/v19/gencode.v19.annotation.gtf.db'\n",
    "v19db = gffutils.FeatureDB(v19db_filename)\n",
    "\n",
    "folder = '/projects/ps-yeolab/obotvinnik/singlecell_pnms'\n",
    "csv_folder = '{}/csvs_for_paper/'.format(folder)\n",
    "bed_folder = '{}/bed'.format(folder)\n",
    "\n",
    "\n",
    "\n",
    "splicing_feature_folder = '{}/splicing_feature_data'.format(csv_folder)\n",
    "alternative_feature_folder = '{}/alternative'.format(splicing_feature_folder)\n",
    "constitutive_feature_folder = '{}/constitutive'.format(splicing_feature_folder)\n",
    "\n",
    "alt_exons_bedfile = '{}/exons.bed'.format(alternative_feature_folder)\n",
    "constitutive_bedfile = '{}/exons.bed'.format(constitutive_feature_folder)\n",
    "\n",
    "splicing_feature_data = pd.read_csv('{}/splicing_feature_data.csv'.format(csv_folder), index_col=0)\n",
    "six.print_(splicing_feature_data.shape)\n",
    "splicing_feature_data.head()"
   ]
  },
  {
   "cell_type": "code",
   "execution_count": 2,
   "metadata": {
    "collapsed": false
   },
   "outputs": [
    {
     "data": {
      "text/plain": [
       "Index([u'Unnamed: 0', u'criteria', u'criteria_additional', u'criteria_full',\n",
       "       u'ensembl_id', u'exon1', u'exon1_length', u'exon2', u'exon2_length',\n",
       "       u'exon3', u'exon3_length', u'exon4', u'exon4_length', u'gencode_id',\n",
       "       u'gene_name', u'intron_length', u'junction12', u'junction13',\n",
       "       u'junction23', u'junction24', u'junction34', u'strand',\n",
       "       u'transcript_id', u'exon2_divisible_by_3', u'one_ensembl_id',\n",
       "       u'splice_type'],\n",
       "      dtype='object')"
      ]
     },
     "execution_count": 2,
     "metadata": {},
     "output_type": "execute_result"
    }
   ],
   "source": [
    "splicing_feature_data.columns"
   ]
  },
  {
   "cell_type": "code",
   "execution_count": 3,
   "metadata": {
    "collapsed": false
   },
   "outputs": [
    {
     "data": {
      "text/html": [
       "<div>\n",
       "<table border=\"1\" class=\"dataframe\">\n",
       "  <thead>\n",
       "    <tr style=\"text-align: right;\">\n",
       "      <th></th>\n",
       "      <th>0</th>\n",
       "      <th>1</th>\n",
       "      <th>2</th>\n",
       "      <th>3</th>\n",
       "      <th>4</th>\n",
       "      <th>5</th>\n",
       "    </tr>\n",
       "  </thead>\n",
       "  <tbody>\n",
       "    <tr>\n",
       "      <th>0</th>\n",
       "      <td>chr10</td>\n",
       "      <td>102039881</td>\n",
       "      <td>102039985</td>\n",
       "      <td>exon:chr10:102039881-102039985:-</td>\n",
       "      <td>1000</td>\n",
       "      <td>-</td>\n",
       "    </tr>\n",
       "    <tr>\n",
       "      <th>1</th>\n",
       "      <td>chr10</td>\n",
       "      <td>102040691</td>\n",
       "      <td>102040810</td>\n",
       "      <td>exon:chr10:102040691-102040810:-</td>\n",
       "      <td>1000</td>\n",
       "      <td>-</td>\n",
       "    </tr>\n",
       "    <tr>\n",
       "      <th>2</th>\n",
       "      <td>chr10</td>\n",
       "      <td>102045854</td>\n",
       "      <td>102045970</td>\n",
       "      <td>exon:chr10:102045854-102045970:-</td>\n",
       "      <td>1000</td>\n",
       "      <td>-</td>\n",
       "    </tr>\n",
       "    <tr>\n",
       "      <th>3</th>\n",
       "      <td>chr10</td>\n",
       "      <td>102286732</td>\n",
       "      <td>102286831</td>\n",
       "      <td>exon:chr10:102286732-102286831:-</td>\n",
       "      <td>1000</td>\n",
       "      <td>-</td>\n",
       "    </tr>\n",
       "    <tr>\n",
       "      <th>4</th>\n",
       "      <td>chr10</td>\n",
       "      <td>102289123</td>\n",
       "      <td>102289263</td>\n",
       "      <td>exon:chr10:102289123-102289263:-</td>\n",
       "      <td>1000</td>\n",
       "      <td>-</td>\n",
       "    </tr>\n",
       "  </tbody>\n",
       "</table>\n",
       "</div>"
      ],
      "text/plain": [
       "       0          1          2                                 3     4  5\n",
       "0  chr10  102039881  102039985  exon:chr10:102039881-102039985:-  1000  -\n",
       "1  chr10  102040691  102040810  exon:chr10:102040691-102040810:-  1000  -\n",
       "2  chr10  102045854  102045970  exon:chr10:102045854-102045970:-  1000  -\n",
       "3  chr10  102286732  102286831  exon:chr10:102286732-102286831:-  1000  -\n",
       "4  chr10  102289123  102289263  exon:chr10:102289123-102289263:-  1000  -"
      ]
     },
     "execution_count": 3,
     "metadata": {},
     "output_type": "execute_result"
    }
   ],
   "source": [
    "constitutive = pd.read_table(constitutive_bedfile, header=None)\n",
    "constitutive.head()"
   ]
  },
  {
   "cell_type": "code",
   "execution_count": 4,
   "metadata": {
    "collapsed": false
   },
   "outputs": [],
   "source": [
    "exon_i = None\n",
    "\n",
    "def get_first_last_internal(exon_id, db):\n",
    "    exon = db[exon_id]\n",
    "\n",
    "    first_internals = []\n",
    "    last_internals = []\n",
    "    for transcript in db.parents(exon, featuretype='transcript'):\n",
    "        children = db.children(transcript, featuretype='exon', \n",
    "                                  order_by='start', reverse=exon.strand=='-')\n",
    "        for i, child in enumerate(children):\n",
    "            if child == exon:\n",
    "                exon_i = i\n",
    "        first_internal = (exon_i == 1)\n",
    "        last_internal = (exon_i == (i - 1))\n",
    "        first_internals.append(first_internal)\n",
    "        last_internals.append(last_internal)\n",
    "#     return (('last_internal', any(last_internals)), ('first_internal', any(first_internals)))\n",
    "    return any(last_internals), any(first_internals)"
   ]
  },
  {
   "cell_type": "code",
   "execution_count": null,
   "metadata": {
    "collapsed": true
   },
   "outputs": [],
   "source": [
    "csv = 'first_last_internal.csv'"
   ]
  },
  {
   "cell_type": "markdown",
   "metadata": {},
   "source": [
    "## Constitutive"
   ]
  },
  {
   "cell_type": "code",
   "execution_count": null,
   "metadata": {
    "collapsed": false
   },
   "outputs": [],
   "source": [
    "%%time\n",
    "constitutive_first_last_internal = constitutive[3].map(lambda x: get_first_last_internal(x, db=v19db))"
   ]
  },
  {
   "cell_type": "code",
   "execution_count": null,
   "metadata": {
    "collapsed": false
   },
   "outputs": [],
   "source": [
    "constitutive_first_last_internal.index = constitutive[3]"
   ]
  },
  {
   "cell_type": "code",
   "execution_count": null,
   "metadata": {
    "collapsed": false
   },
   "outputs": [],
   "source": [
    "constitutive_first_last_internal.head()"
   ]
  },
  {
   "cell_type": "code",
   "execution_count": null,
   "metadata": {
    "collapsed": false
   },
   "outputs": [],
   "source": [
    "x = constitutive_first_last_internal.map(list).to_dict()\n",
    "constitutive_first_last_internal_df = pd.DataFrame(x).T"
   ]
  },
  {
   "cell_type": "code",
   "execution_count": null,
   "metadata": {
    "collapsed": true
   },
   "outputs": [],
   "source": [
    "\n",
    "constitutive_first_last_internal_df.to_csv('{}/{}'.format(constitutive_feature_folder, csv))"
   ]
  },
  {
   "cell_type": "markdown",
   "metadata": {},
   "source": [
    "## Alternative"
   ]
  },
  {
   "cell_type": "code",
   "execution_count": null,
   "metadata": {
    "collapsed": false
   },
   "outputs": [],
   "source": [
    "%%time\n",
    "first_last_internal = splicing_feature_data['exon2'].apply(get_first_last_internal, db=v19db)"
   ]
  },
  {
   "cell_type": "code",
   "execution_count": null,
   "metadata": {
    "collapsed": false,
    "scrolled": false
   },
   "outputs": [],
   "source": [
    "# first_last_internal.loc[first_last_internal.all(axis=1)]"
   ]
  },
  {
   "cell_type": "code",
   "execution_count": null,
   "metadata": {
    "collapsed": false
   },
   "outputs": [],
   "source": [
    "# range(3)"
   ]
  },
  {
   "cell_type": "code",
   "execution_count": null,
   "metadata": {
    "collapsed": false
   },
   "outputs": [],
   "source": [
    "x = first_last_internal.map(list).to_dict()\n",
    "first_last_internall_df = pd.DataFrame(x).T"
   ]
  },
  {
   "cell_type": "code",
   "execution_count": null,
   "metadata": {
    "collapsed": true
   },
   "outputs": [],
   "source": [
    "first_last_internal.to_csv('{}/first_last_internal.csv'.format(alternative_feature_folder))"
   ]
  },
  {
   "cell_type": "code",
   "execution_count": null,
   "metadata": {
    "collapsed": true
   },
   "outputs": [],
   "source": [
    "range(3)"
   ]
  },
  {
   "cell_type": "code",
   "execution_count": null,
   "metadata": {
    "collapsed": true
   },
   "outputs": [],
   "source": []
  }
 ],
 "metadata": {
  "kernelspec": {
   "display_name": "Python 2",
   "language": "python",
   "name": "python2"
  },
  "language_info": {
   "codemirror_mode": {
    "name": "ipython",
    "version": 2
   },
   "file_extension": ".py",
   "mimetype": "text/x-python",
   "name": "python",
   "nbconvert_exporter": "python",
   "pygments_lexer": "ipython2",
   "version": "2.7.11"
  }
 },
 "nbformat": 4,
 "nbformat_minor": 0
}
