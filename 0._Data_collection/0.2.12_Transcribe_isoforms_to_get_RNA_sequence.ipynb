{
 "cells": [
  {
   "cell_type": "markdown",
   "metadata": {},
   "source": [
    "# Transcribe isoforms to get RNA sequence\n"
   ]
  },
  {
   "cell_type": "code",
   "execution_count": 1,
   "metadata": {
    "collapsed": false
   },
   "outputs": [
    {
     "name": "stderr",
     "output_type": "stream",
     "text": [
      "/home/obotvinnik/anaconda/lib/python2.7/site-packages/matplotlib/__init__.py:810: UserWarning: Found matplotlib configuration in ~/.matplotlib/. To conform with the XDG base directory standard, this configuration location has been deprecated on Linux, and the new location is now /home/obotvinnik/.config/matplotlib/. Please move your configuration there to ensure that matplotlib will continue to find it in the future.\n",
      "  _get_xdg_config_dir())\n",
      "/home/obotvinnik/anaconda/lib/python2.7/site-packages/IPython/core/interactiveshell.py:2902: DtypeWarning: Columns (11,19,20) have mixed types. Specify dtype option on import or set low_memory=False.\n",
      "  interactivity=interactivity, compiler=compiler, result=result)\n"
     ]
    },
    {
     "name": "stdout",
     "output_type": "stream",
     "text": [
      "(46193, 25)\n"
     ]
    },
    {
     "data": {
      "text/html": [
       "<div>\n",
       "<table border=\"1\" class=\"dataframe\">\n",
       "  <thead>\n",
       "    <tr style=\"text-align: right;\">\n",
       "      <th></th>\n",
       "      <th>criteria</th>\n",
       "      <th>criteria_additional</th>\n",
       "      <th>criteria_full</th>\n",
       "      <th>ensembl_id</th>\n",
       "      <th>exon1</th>\n",
       "      <th>exon1_length</th>\n",
       "      <th>exon2</th>\n",
       "      <th>exon2_length</th>\n",
       "      <th>exon3</th>\n",
       "      <th>exon3_length</th>\n",
       "      <th>...</th>\n",
       "      <th>junction12</th>\n",
       "      <th>junction13</th>\n",
       "      <th>junction23</th>\n",
       "      <th>junction24</th>\n",
       "      <th>junction34</th>\n",
       "      <th>strand</th>\n",
       "      <th>transcript_id</th>\n",
       "      <th>exon2_divisible_by_3</th>\n",
       "      <th>one_ensembl_id</th>\n",
       "      <th>splice_type</th>\n",
       "    </tr>\n",
       "    <tr>\n",
       "      <th>event_id</th>\n",
       "      <th></th>\n",
       "      <th></th>\n",
       "      <th></th>\n",
       "      <th></th>\n",
       "      <th></th>\n",
       "      <th></th>\n",
       "      <th></th>\n",
       "      <th></th>\n",
       "      <th></th>\n",
       "      <th></th>\n",
       "      <th></th>\n",
       "      <th></th>\n",
       "      <th></th>\n",
       "      <th></th>\n",
       "      <th></th>\n",
       "      <th></th>\n",
       "      <th></th>\n",
       "      <th></th>\n",
       "      <th></th>\n",
       "      <th></th>\n",
       "      <th></th>\n",
       "    </tr>\n",
       "  </thead>\n",
       "  <tbody>\n",
       "    <tr>\n",
       "      <th>exon:chr10:100190328-100190427:-@exon:chr10:100189548-100189646:-@exon:chr10:100189330-100189399:-</th>\n",
       "      <td>best</td>\n",
       "      <td>appris_principal</td>\n",
       "      <td>best,appris_principal</td>\n",
       "      <td>ENSG00000107521</td>\n",
       "      <td>exon:chr10:100190328-100190427:-</td>\n",
       "      <td>100</td>\n",
       "      <td>exon:chr10:100189548-100189646:-</td>\n",
       "      <td>99</td>\n",
       "      <td>exon:chr10:100189330-100189399:-</td>\n",
       "      <td>70</td>\n",
       "      <td>...</td>\n",
       "      <td>chr10:100189647-100190327:-</td>\n",
       "      <td>chr10:100189400-100190327:-</td>\n",
       "      <td>chr10:100189400-100189547:-</td>\n",
       "      <td>NaN</td>\n",
       "      <td>NaN</td>\n",
       "      <td>-</td>\n",
       "      <td>ENST00000361490.4,ENST00000414009.1,ENST000003...</td>\n",
       "      <td>True</td>\n",
       "      <td>ENSG00000107521</td>\n",
       "      <td>SE</td>\n",
       "    </tr>\n",
       "    <tr>\n",
       "      <th>exon:chr10:100193697-100193848:-@exon:chr10:100190888-100191048:-@exon:chr10:100190328-100190427:-</th>\n",
       "      <td>only one</td>\n",
       "      <td>NaN</td>\n",
       "      <td>only one</td>\n",
       "      <td>ENSG00000107521</td>\n",
       "      <td>exon:chr10:100193697-100193848:-</td>\n",
       "      <td>152</td>\n",
       "      <td>exon:chr10:100190888-100191048:-</td>\n",
       "      <td>161</td>\n",
       "      <td>exon:chr10:100190328-100190427:-</td>\n",
       "      <td>100</td>\n",
       "      <td>...</td>\n",
       "      <td>chr10:100191049-100193696:-</td>\n",
       "      <td>chr10:100190428-100193696:-</td>\n",
       "      <td>chr10:100190428-100190887:-</td>\n",
       "      <td>NaN</td>\n",
       "      <td>NaN</td>\n",
       "      <td>-</td>\n",
       "      <td>ENST00000361490.4,ENST00000414009.1,ENST000003...</td>\n",
       "      <td>False</td>\n",
       "      <td>ENSG00000107521</td>\n",
       "      <td>SE</td>\n",
       "    </tr>\n",
       "    <tr>\n",
       "      <th>exon:chr10:100195392-100195529:-@exon:chr10:100195029-100195171:-@exon:chr10:100193697-100193848:-</th>\n",
       "      <td>best</td>\n",
       "      <td>appris_principal</td>\n",
       "      <td>best,appris_principal</td>\n",
       "      <td>ENSG00000107521</td>\n",
       "      <td>exon:chr10:100195392-100195529:-</td>\n",
       "      <td>138</td>\n",
       "      <td>exon:chr10:100195029-100195171:-</td>\n",
       "      <td>143</td>\n",
       "      <td>exon:chr10:100193697-100193848:-</td>\n",
       "      <td>152</td>\n",
       "      <td>...</td>\n",
       "      <td>chr10:100195172-100195391:-</td>\n",
       "      <td>chr10:100193849-100195391:-</td>\n",
       "      <td>chr10:100193849-100195028:-</td>\n",
       "      <td>NaN</td>\n",
       "      <td>NaN</td>\n",
       "      <td>-</td>\n",
       "      <td>ENST00000361490.4,ENST00000325103.6,ENST000004...</td>\n",
       "      <td>False</td>\n",
       "      <td>ENSG00000107521</td>\n",
       "      <td>SE</td>\n",
       "    </tr>\n",
       "    <tr>\n",
       "      <th>exon:chr10:101165513-101165617:-@exon:chr10:101163481-101163631:-@exon:chr10:101163226-101163391:-</th>\n",
       "      <td>only one</td>\n",
       "      <td>NaN</td>\n",
       "      <td>only one</td>\n",
       "      <td>ENSG00000120053</td>\n",
       "      <td>exon:chr10:101165513-101165617:-</td>\n",
       "      <td>105</td>\n",
       "      <td>exon:chr10:101163481-101163631:-</td>\n",
       "      <td>151</td>\n",
       "      <td>exon:chr10:101163226-101163391:-</td>\n",
       "      <td>166</td>\n",
       "      <td>...</td>\n",
       "      <td>chr10:101163632-101165512:-</td>\n",
       "      <td>chr10:101163392-101165512:-</td>\n",
       "      <td>chr10:101163392-101163480:-</td>\n",
       "      <td>NaN</td>\n",
       "      <td>NaN</td>\n",
       "      <td>-</td>\n",
       "      <td>ENST00000543866.1,ENST00000370508.5</td>\n",
       "      <td>False</td>\n",
       "      <td>ENSG00000120053</td>\n",
       "      <td>SE</td>\n",
       "    </tr>\n",
       "    <tr>\n",
       "      <th>exon:chr10:101419263-101419345:+@exon:chr10:101419619-101419721:+@exon:chr10:101421203-101421385:+</th>\n",
       "      <td>only one</td>\n",
       "      <td>NaN</td>\n",
       "      <td>only one</td>\n",
       "      <td>ENSG00000198018</td>\n",
       "      <td>exon:chr10:101419263-101419345:+</td>\n",
       "      <td>83</td>\n",
       "      <td>exon:chr10:101419619-101419721:+</td>\n",
       "      <td>103</td>\n",
       "      <td>exon:chr10:101421203-101421385:+</td>\n",
       "      <td>183</td>\n",
       "      <td>...</td>\n",
       "      <td>chr10:101419346-101419618:+</td>\n",
       "      <td>chr10:101419346-101421202:+</td>\n",
       "      <td>chr10:101419722-101421202:+</td>\n",
       "      <td>NaN</td>\n",
       "      <td>NaN</td>\n",
       "      <td>+</td>\n",
       "      <td>ENST00000370489.4</td>\n",
       "      <td>False</td>\n",
       "      <td>ENSG00000198018</td>\n",
       "      <td>SE</td>\n",
       "    </tr>\n",
       "  </tbody>\n",
       "</table>\n",
       "<p>5 rows × 25 columns</p>\n",
       "</div>"
      ],
      "text/plain": [
       "                                                    criteria  \\\n",
       "event_id                                                       \n",
       "exon:chr10:100190328-100190427:-@exon:chr10:100...      best   \n",
       "exon:chr10:100193697-100193848:-@exon:chr10:100...  only one   \n",
       "exon:chr10:100195392-100195529:-@exon:chr10:100...      best   \n",
       "exon:chr10:101165513-101165617:-@exon:chr10:101...  only one   \n",
       "exon:chr10:101419263-101419345:+@exon:chr10:101...  only one   \n",
       "\n",
       "                                                   criteria_additional  \\\n",
       "event_id                                                                 \n",
       "exon:chr10:100190328-100190427:-@exon:chr10:100...    appris_principal   \n",
       "exon:chr10:100193697-100193848:-@exon:chr10:100...                 NaN   \n",
       "exon:chr10:100195392-100195529:-@exon:chr10:100...    appris_principal   \n",
       "exon:chr10:101165513-101165617:-@exon:chr10:101...                 NaN   \n",
       "exon:chr10:101419263-101419345:+@exon:chr10:101...                 NaN   \n",
       "\n",
       "                                                            criteria_full  \\\n",
       "event_id                                                                    \n",
       "exon:chr10:100190328-100190427:-@exon:chr10:100...  best,appris_principal   \n",
       "exon:chr10:100193697-100193848:-@exon:chr10:100...               only one   \n",
       "exon:chr10:100195392-100195529:-@exon:chr10:100...  best,appris_principal   \n",
       "exon:chr10:101165513-101165617:-@exon:chr10:101...               only one   \n",
       "exon:chr10:101419263-101419345:+@exon:chr10:101...               only one   \n",
       "\n",
       "                                                         ensembl_id  \\\n",
       "event_id                                                              \n",
       "exon:chr10:100190328-100190427:-@exon:chr10:100...  ENSG00000107521   \n",
       "exon:chr10:100193697-100193848:-@exon:chr10:100...  ENSG00000107521   \n",
       "exon:chr10:100195392-100195529:-@exon:chr10:100...  ENSG00000107521   \n",
       "exon:chr10:101165513-101165617:-@exon:chr10:101...  ENSG00000120053   \n",
       "exon:chr10:101419263-101419345:+@exon:chr10:101...  ENSG00000198018   \n",
       "\n",
       "                                                                               exon1  \\\n",
       "event_id                                                                               \n",
       "exon:chr10:100190328-100190427:-@exon:chr10:100...  exon:chr10:100190328-100190427:-   \n",
       "exon:chr10:100193697-100193848:-@exon:chr10:100...  exon:chr10:100193697-100193848:-   \n",
       "exon:chr10:100195392-100195529:-@exon:chr10:100...  exon:chr10:100195392-100195529:-   \n",
       "exon:chr10:101165513-101165617:-@exon:chr10:101...  exon:chr10:101165513-101165617:-   \n",
       "exon:chr10:101419263-101419345:+@exon:chr10:101...  exon:chr10:101419263-101419345:+   \n",
       "\n",
       "                                                    exon1_length  \\\n",
       "event_id                                                           \n",
       "exon:chr10:100190328-100190427:-@exon:chr10:100...           100   \n",
       "exon:chr10:100193697-100193848:-@exon:chr10:100...           152   \n",
       "exon:chr10:100195392-100195529:-@exon:chr10:100...           138   \n",
       "exon:chr10:101165513-101165617:-@exon:chr10:101...           105   \n",
       "exon:chr10:101419263-101419345:+@exon:chr10:101...            83   \n",
       "\n",
       "                                                                               exon2  \\\n",
       "event_id                                                                               \n",
       "exon:chr10:100190328-100190427:-@exon:chr10:100...  exon:chr10:100189548-100189646:-   \n",
       "exon:chr10:100193697-100193848:-@exon:chr10:100...  exon:chr10:100190888-100191048:-   \n",
       "exon:chr10:100195392-100195529:-@exon:chr10:100...  exon:chr10:100195029-100195171:-   \n",
       "exon:chr10:101165513-101165617:-@exon:chr10:101...  exon:chr10:101163481-101163631:-   \n",
       "exon:chr10:101419263-101419345:+@exon:chr10:101...  exon:chr10:101419619-101419721:+   \n",
       "\n",
       "                                                    exon2_length  \\\n",
       "event_id                                                           \n",
       "exon:chr10:100190328-100190427:-@exon:chr10:100...            99   \n",
       "exon:chr10:100193697-100193848:-@exon:chr10:100...           161   \n",
       "exon:chr10:100195392-100195529:-@exon:chr10:100...           143   \n",
       "exon:chr10:101165513-101165617:-@exon:chr10:101...           151   \n",
       "exon:chr10:101419263-101419345:+@exon:chr10:101...           103   \n",
       "\n",
       "                                                                               exon3  \\\n",
       "event_id                                                                               \n",
       "exon:chr10:100190328-100190427:-@exon:chr10:100...  exon:chr10:100189330-100189399:-   \n",
       "exon:chr10:100193697-100193848:-@exon:chr10:100...  exon:chr10:100190328-100190427:-   \n",
       "exon:chr10:100195392-100195529:-@exon:chr10:100...  exon:chr10:100193697-100193848:-   \n",
       "exon:chr10:101165513-101165617:-@exon:chr10:101...  exon:chr10:101163226-101163391:-   \n",
       "exon:chr10:101419263-101419345:+@exon:chr10:101...  exon:chr10:101421203-101421385:+   \n",
       "\n",
       "                                                    exon3_length     ...      \\\n",
       "event_id                                                             ...       \n",
       "exon:chr10:100190328-100190427:-@exon:chr10:100...            70     ...       \n",
       "exon:chr10:100193697-100193848:-@exon:chr10:100...           100     ...       \n",
       "exon:chr10:100195392-100195529:-@exon:chr10:100...           152     ...       \n",
       "exon:chr10:101165513-101165617:-@exon:chr10:101...           166     ...       \n",
       "exon:chr10:101419263-101419345:+@exon:chr10:101...           183     ...       \n",
       "\n",
       "                                                                     junction12  \\\n",
       "event_id                                                                          \n",
       "exon:chr10:100190328-100190427:-@exon:chr10:100...  chr10:100189647-100190327:-   \n",
       "exon:chr10:100193697-100193848:-@exon:chr10:100...  chr10:100191049-100193696:-   \n",
       "exon:chr10:100195392-100195529:-@exon:chr10:100...  chr10:100195172-100195391:-   \n",
       "exon:chr10:101165513-101165617:-@exon:chr10:101...  chr10:101163632-101165512:-   \n",
       "exon:chr10:101419263-101419345:+@exon:chr10:101...  chr10:101419346-101419618:+   \n",
       "\n",
       "                                                                     junction13  \\\n",
       "event_id                                                                          \n",
       "exon:chr10:100190328-100190427:-@exon:chr10:100...  chr10:100189400-100190327:-   \n",
       "exon:chr10:100193697-100193848:-@exon:chr10:100...  chr10:100190428-100193696:-   \n",
       "exon:chr10:100195392-100195529:-@exon:chr10:100...  chr10:100193849-100195391:-   \n",
       "exon:chr10:101165513-101165617:-@exon:chr10:101...  chr10:101163392-101165512:-   \n",
       "exon:chr10:101419263-101419345:+@exon:chr10:101...  chr10:101419346-101421202:+   \n",
       "\n",
       "                                                                     junction23  \\\n",
       "event_id                                                                          \n",
       "exon:chr10:100190328-100190427:-@exon:chr10:100...  chr10:100189400-100189547:-   \n",
       "exon:chr10:100193697-100193848:-@exon:chr10:100...  chr10:100190428-100190887:-   \n",
       "exon:chr10:100195392-100195529:-@exon:chr10:100...  chr10:100193849-100195028:-   \n",
       "exon:chr10:101165513-101165617:-@exon:chr10:101...  chr10:101163392-101163480:-   \n",
       "exon:chr10:101419263-101419345:+@exon:chr10:101...  chr10:101419722-101421202:+   \n",
       "\n",
       "                                                   junction24  junction34  \\\n",
       "event_id                                                                    \n",
       "exon:chr10:100190328-100190427:-@exon:chr10:100...        NaN         NaN   \n",
       "exon:chr10:100193697-100193848:-@exon:chr10:100...        NaN         NaN   \n",
       "exon:chr10:100195392-100195529:-@exon:chr10:100...        NaN         NaN   \n",
       "exon:chr10:101165513-101165617:-@exon:chr10:101...        NaN         NaN   \n",
       "exon:chr10:101419263-101419345:+@exon:chr10:101...        NaN         NaN   \n",
       "\n",
       "                                                   strand  \\\n",
       "event_id                                                    \n",
       "exon:chr10:100190328-100190427:-@exon:chr10:100...      -   \n",
       "exon:chr10:100193697-100193848:-@exon:chr10:100...      -   \n",
       "exon:chr10:100195392-100195529:-@exon:chr10:100...      -   \n",
       "exon:chr10:101165513-101165617:-@exon:chr10:101...      -   \n",
       "exon:chr10:101419263-101419345:+@exon:chr10:101...      +   \n",
       "\n",
       "                                                                                        transcript_id  \\\n",
       "event_id                                                                                                \n",
       "exon:chr10:100190328-100190427:-@exon:chr10:100...  ENST00000361490.4,ENST00000414009.1,ENST000003...   \n",
       "exon:chr10:100193697-100193848:-@exon:chr10:100...  ENST00000361490.4,ENST00000414009.1,ENST000003...   \n",
       "exon:chr10:100195392-100195529:-@exon:chr10:100...  ENST00000361490.4,ENST00000325103.6,ENST000004...   \n",
       "exon:chr10:101165513-101165617:-@exon:chr10:101...                ENST00000543866.1,ENST00000370508.5   \n",
       "exon:chr10:101419263-101419345:+@exon:chr10:101...                                  ENST00000370489.4   \n",
       "\n",
       "                                                   exon2_divisible_by_3  \\\n",
       "event_id                                                                  \n",
       "exon:chr10:100190328-100190427:-@exon:chr10:100...                 True   \n",
       "exon:chr10:100193697-100193848:-@exon:chr10:100...                False   \n",
       "exon:chr10:100195392-100195529:-@exon:chr10:100...                False   \n",
       "exon:chr10:101165513-101165617:-@exon:chr10:101...                False   \n",
       "exon:chr10:101419263-101419345:+@exon:chr10:101...                False   \n",
       "\n",
       "                                                     one_ensembl_id  \\\n",
       "event_id                                                              \n",
       "exon:chr10:100190328-100190427:-@exon:chr10:100...  ENSG00000107521   \n",
       "exon:chr10:100193697-100193848:-@exon:chr10:100...  ENSG00000107521   \n",
       "exon:chr10:100195392-100195529:-@exon:chr10:100...  ENSG00000107521   \n",
       "exon:chr10:101165513-101165617:-@exon:chr10:101...  ENSG00000120053   \n",
       "exon:chr10:101419263-101419345:+@exon:chr10:101...  ENSG00000198018   \n",
       "\n",
       "                                                   splice_type  \n",
       "event_id                                                        \n",
       "exon:chr10:100190328-100190427:-@exon:chr10:100...          SE  \n",
       "exon:chr10:100193697-100193848:-@exon:chr10:100...          SE  \n",
       "exon:chr10:100195392-100195529:-@exon:chr10:100...          SE  \n",
       "exon:chr10:101165513-101165617:-@exon:chr10:101...          SE  \n",
       "exon:chr10:101419263-101419345:+@exon:chr10:101...          SE  \n",
       "\n",
       "[5 rows x 25 columns]"
      ]
     },
     "execution_count": 1,
     "metadata": {},
     "output_type": "execute_result"
    }
   ],
   "source": [
    "%load_ext autoreload\n",
    "%autoreload 2\n",
    "\n",
    "import itertools\n",
    "import re\n",
    "\n",
    "import gffutils\n",
    "import numpy as np\n",
    "import pandas as pd\n",
    "import pybedtools\n",
    "import six\n",
    "\n",
    "v19db_filename = '/projects/ps-yeolab/genomes/hg19/gencode/v19/gencode.v19.annotation.gtf.db'\n",
    "v19db = gffutils.FeatureDB(v19db_filename)\n",
    "\n",
    "folder = '/projects/ps-yeolab/obotvinnik/singlecell_pnms'\n",
    "csv_folder = '{}/csvs_for_paper/'.format(folder)\n",
    "bed_folder = '{}/bed'.format(folder)\n",
    "\n",
    "alt_exons_bedfile = '{}/exon2.bed'.format(bed_folder)\n",
    "constitutive_bedfile = '{}/constitutive_exons.bed'.format(bed_folder)\n",
    "\n",
    "\n",
    "splicing_feature_folder = '{}/splicing_feature_data'.format(csv_folder)\n",
    "alternative_feature_folder = '{}/alternative'.format(splicing_feature_folder)\n",
    "constitutive_feature_folder = '{}/constitutive'.format(splicing_feature_folder)\n",
    "\n",
    "\n",
    "\n",
    "splicing_feature_data = pd.read_csv('{}/splicing_feature_data.csv'.format(csv_folder), index_col=0)\n",
    "six.print_(splicing_feature_data.shape)\n",
    "splicing_feature_data.head()"
   ]
  },
  {
   "cell_type": "code",
   "execution_count": 2,
   "metadata": {
    "collapsed": false
   },
   "outputs": [
    {
     "name": "stdout",
     "output_type": "stream",
     "text": [
      "mkdir: cannot create directory `/home/obotvinnik/Dropbox/figures2/singlecell_pnms/isoform_rna_properties': File exists\r\n"
     ]
    }
   ],
   "source": [
    "figure_folder = '/home/obotvinnik/Dropbox/figures2/singlecell_pnms/isoform_rna_properties'\n",
    "! mkdir $figure_folder"
   ]
  },
  {
   "cell_type": "markdown",
   "metadata": {},
   "source": [
    "## Transcribe isoforms\n",
    "\n",
    "Get the RNA sequence form the DNA sequence"
   ]
  },
  {
   "cell_type": "code",
   "execution_count": null,
   "metadata": {
    "collapsed": true
   },
   "outputs": [],
   "source": [
    "prefix = 'isoform_transcriptions'\n",
    "transcribed_fasta = '{}/{}.fa'.format(alternative_feature_folder, prefix)"
   ]
  },
  {
   "cell_type": "code",
   "execution_count": null,
   "metadata": {
    "collapsed": false
   },
   "outputs": [],
   "source": [
    "%%time\n",
    "\n",
    "import itertools\n",
    "from Bio.Seq import Seq\n",
    "from Bio.SeqRecord import SeqRecord\n",
    "from Bio import SeqIO\n",
    "from Bio.Alphabet import generic_dna, generic_protein\n",
    "import six\n",
    "\n",
    "hg19_fasta = '/projects/ps-yeolab/genomes/hg19/gencode/v19/GRCh37.p13.genome.fa'\n",
    "\n",
    "def overlap(x, y):\n",
    "    return not ((x.start > y.stop) or (x.stop < y.start))\n",
    "\n",
    "seqrecords = []\n",
    "\n",
    "\n",
    "splice_type_isoform1_exons = {'SE': ('exon1', 'exon3'), 'MXE': ('exon1', 'exon3', 'exon4')}\n",
    "splice_type_isoform2_exons = {'SE': ('exon1', 'exon2','exon3'), 'MXE': ('exon1', 'exon2', 'exon4')}\n",
    "\n",
    "for i, (event_id, row) in enumerate(splicing_feature_data.iterrows()):\n",
    "    if (i+1) % 1000 == 0:\n",
    "        six.print_('\\t Features completed', i+1)\n",
    "        \n",
    "    isoform1_exons = splice_type_isoform1_exons[row.splice_type]\n",
    "    isoform2_exons = splice_type_isoform2_exons[row.splice_type]\n",
    "    \n",
    "    isoform_to_exons = {'isoform1': map(lambda x: v19db[row[x]], isoform1_exons),\n",
    "                        'isoform2': map(lambda x: v19db[row[x]], isoform2_exons)}\n",
    "        \n",
    "    isoform_to_seq = {'isoform1': [], 'isoform2': []}\n",
    "\n",
    "    reverse = isoform_to_exons['isoform1'][0].strand == '-'\n",
    "    \n",
    "    for isoform, exons in isoform_to_exons.items():\n",
    "        if reverse:\n",
    "            sequence = Seq(''.join(exon.sequence(hg19_fasta)[::-1] for exon in exons), generic_dna).complement()\n",
    "        else:\n",
    "            sequence = Seq(''.join(exon.sequence(hg19_fasta) for exon in exons), generic_dna)\n",
    "        transcribed = sequence.transcribe()\n",
    "        seqrecord = SeqRecord(transcribed, id='{0}|{1}'.format(event_id, isoform))\n",
    "        seqrecords.append(seqrecord)\n",
    "\n",
    "\n",
    "with open(transcribed_fasta, 'w') as f:\n",
    "    SeqIO.write(seqrecords, f, 'fasta')"
   ]
  },
  {
   "cell_type": "code",
   "execution_count": null,
   "metadata": {
    "collapsed": false
   },
   "outputs": [],
   "source": [
    "! wc -l $transcribed_fasta"
   ]
  },
  {
   "cell_type": "code",
   "execution_count": null,
   "metadata": {
    "collapsed": false
   },
   "outputs": [],
   "source": [
    "! head $transcribed_fasta"
   ]
  },
  {
   "cell_type": "code",
   "execution_count": null,
   "metadata": {
    "collapsed": true
   },
   "outputs": [],
   "source": [
    "import seaborn as sns\n",
    "%matplotlib inline"
   ]
  },
  {
   "cell_type": "code",
   "execution_count": null,
   "metadata": {
    "collapsed": true
   },
   "outputs": [],
   "source": [
    "sns.set(style='ticks', context='talk')"
   ]
  },
  {
   "cell_type": "markdown",
   "metadata": {
    "collapsed": false
   },
   "source": [
    "## Calculate miRNA hybridization\n",
    "\n",
    "For RNA targets, James Broughton from the Pasquinelli lab recommends `RNAhybrid`, and to use just the first 17 nt of the mature miRNA. Wanted to use `fastx-trimmer` but it only takes DNA sequences  - `U`'s are illegal :("
   ]
  },
  {
   "cell_type": "code",
   "execution_count": null,
   "metadata": {
    "collapsed": true
   },
   "outputs": [],
   "source": [
    "from Bio import SeqIO\n",
    "import sys\n",
    "import os\n",
    "\n",
    "result_seq = []\n",
    "filename = '/projects/ps-yeolab/genomes/mirbase/release_21/human_mature.fa'\n",
    "with open(filename) as infile:\n",
    "    for seq in SeqIO.parse(infile, 'fasta'):\n",
    "        result_seq.append(seq[:17])\n",
    "\n",
    "trimmed_filename = '/projects/ps-yeolab/genomes/mirbase/release_21/human_mature_17bp.fa'\n",
    "with open(trimmed_filename, 'w') as outfile:\n",
    "    SeqIO.write(result_seq, outfile, 'fasta')"
   ]
  },
  {
   "cell_type": "markdown",
   "metadata": {},
   "source": [
    "Submit a compute job to calculate microRNA hybridization."
   ]
  },
  {
   "cell_type": "code",
   "execution_count": null,
   "metadata": {
    "collapsed": false
   },
   "outputs": [],
   "source": [
    "from gscripts.qtools import Submitter\n",
    "\n",
    "mirna_seqs = '/projects/ps-yeolab/genomes/mirbase/release_21/human_mature_17bp.fa'\n",
    "rnahybrid_results = transcribed_fasta.replace('.fa', 'RNAhybrid_mirbase_human_mature_17bp.txt')\n",
    "command = 'RNAhybrid -e -27 -c -s 3utr_human -q {} -t {} > {}'.format(mirna_seqs, transcribed_fasta, rnahybrid_results)\n",
    "sub = Submitter([command], 'RNAhybrid', walltime='168:00:00', write_and_submit=True)"
   ]
  },
  {
   "cell_type": "code",
   "execution_count": null,
   "metadata": {
    "collapsed": false
   },
   "outputs": [],
   "source": [
    "ls -lha RNAhybrid*"
   ]
  },
  {
   "cell_type": "code",
   "execution_count": 15,
   "metadata": {
    "collapsed": false
   },
   "outputs": [
    {
     "name": "stdout",
     "output_type": "stream",
     "text": [
      "==> RNAhybrid.sh <==\r\n",
      "#PBS -V\r\n",
      "#PBS -l walltime=168:00:00\r\n",
      "#PBS -l nodes=1:ppn=1\r\n",
      "#PBS -A yeo-group\r\n",
      "#PBS -q home\r\n",
      "\r\n",
      "# Go to the directory from which the script was called\r\n",
      "cd $PBS_O_WORKDIR\r\n",
      "RNAhybrid -e -27 -c -s 3utr_human -q /projects/ps-yeolab/genomes/mirbase/release_21/human_mature_17bp.fa -t /projects/ps-yeolab/obotvinnik/singlecell_pnms/skipped_exon_isoform_transcriptions.fa > /projects/ps-yeolab/obotvinnik/miso_helpers/hg19/se_exon2_RNAhybrid_mirbase_human_mature_17bp.txt\r\n",
      "\r\n",
      "\r\n",
      "==> RNAhybrid.sh.err <==\r\n",
      "\r\n",
      "==> RNAhybrid.sh.out <==\r\n",
      "Nodes:        tscc-2-51\r\n"
     ]
    }
   ],
   "source": [
    "!tail RNAhybrid*"
   ]
  },
  {
   "cell_type": "markdown",
   "metadata": {},
   "source": [
    "Reading the output takes a LONG time"
   ]
  },
  {
   "cell_type": "code",
   "execution_count": 10,
   "metadata": {
    "collapsed": false
   },
   "outputs": [
    {
     "name": "stdout",
     "output_type": "stream",
     "text": [
      "CPU times: user 13.6 s, sys: 991 ms, total: 14.6 s\n",
      "Wall time: 15.3 s\n"
     ]
    }
   ],
   "source": [
    "%%time\n",
    "import pandas as pd\n",
    "from collections import Counter\n",
    "\n",
    "rnahybrid = pd.read_csv('/projects/ps-yeolab/obotvinnik/miso_helpers/hg19/se_exon2_RNAhybrid_mirbase_human_mature_17bp.txt', \n",
    "                        sep=':', \n",
    "#                         index_col=[0, 1, 3], \n",
    "                        header=None,\n",
    "                        names=['chrom', 'start-stop', 'exon_length', 'mirna', 'mirna_length',\n",
    "                                                                 'minimum_free_energy', 'p_value', 'target_bound_start', 'mirna_unbound',\n",
    "                                                                 'mirna_bound', 'exon_bound', 'exon_bound'])\n",
    "rnahybrid = rnahybrid.ix[rnahybrid.minimum_free_energy < -28]\n",
    "grouped = rnahybrid.groupby(['chrom', 'start-stop'])\n",
    "chrom_startstop_mirna = grouped.mirna.apply(lambda x: ','.join('{}[{}]'.format(k, v) for k,v in Counter(x).items()))\n",
    "chrom_startstop_mirna.head()"
   ]
  },
  {
   "cell_type": "code",
   "execution_count": 16,
   "metadata": {
    "collapsed": false
   },
   "outputs": [
    {
     "name": "stdout",
     "output_type": "stream",
     "text": [
      "target too long: exon:chr10:102114184-102114389:+@exon:chr10:102116289-102116521:+@exon:chr10:102120491-102124591:+|isoform2\r\n",
      "target too long: exon:chr10:102114184-102114389:+@exon:chr10:102116289-102116521:+@exon:chr10:102120491-102124591:+|isoform1\r\n",
      "target too long: exon:chr10:103298050-103298128:+@exon:chr10:103310456-103310648:+@exon:chr10:103312912-103317078:+|isoform2\r\n",
      "target too long: exon:chr10:103298050-103298128:+@exon:chr10:103310456-103310648:+@exon:chr10:103312912-103317078:+|isoform1\r\n",
      "exon:chr10:104140263-104140443:+@exon:chr10:104140884-104141012:+@exon:chr10:104141813-104142656:+|isoform2:1154:hsa-let-7a-5p:17:-27.0:0.102090:837:C                C: UGCAGCCU CUGCCUC : AUGUUGGA GAUGGAG :         U       U\r\n",
      "exon:chr10:104140263-104140443:+@exon:chr10:104140884-104141012:+@exon:chr10:104141813-104142656:+|isoform1:1025:hsa-let-7a-5p:17:-27.0:0.086480:708:C                C: UGCAGCCU CUGCCUC : AUGUUGGA GAUGGAG :         U       U\r\n",
      "target too long: exon:chr10:106037652-106037874:+@exon:chr10:106057336-106057442:+@exon:chr10:106058886-106064703:+|isoform2\r\n",
      "target too long: exon:chr10:106037652-106037874:+@exon:chr10:106057336-106057442:+@exon:chr10:106058886-106064703:+|isoform1\r\n",
      "target too long: exon:chr10:111890121-111890244:+@exon:chr10:111892063-111892158:+@exon:chr10:111893084-111895323:+|isoform2\r\n",
      "target too long: exon:chr10:111890121-111890244:+@exon:chr10:111892063-111892158:+@exon:chr10:111893084-111895323:+|isoform1\r\n"
     ]
    }
   ],
   "source": [
    "! head /projects/ps-yeolab/obotvinnik/miso_helpers/hg19/se_exon2_RNAhybrid_mirbase_human_mature_17bp.txt"
   ]
  },
  {
   "cell_type": "code",
   "execution_count": null,
   "metadata": {
    "collapsed": true
   },
   "outputs": [],
   "source": []
  }
 ],
 "metadata": {
  "kernelspec": {
   "display_name": "Python 2",
   "language": "python",
   "name": "python2"
  },
  "language_info": {
   "codemirror_mode": {
    "name": "ipython",
    "version": 2
   },
   "file_extension": ".py",
   "mimetype": "text/x-python",
   "name": "python",
   "nbconvert_exporter": "python",
   "pygments_lexer": "ipython2",
   "version": "2.7.11"
  }
 },
 "nbformat": 4,
 "nbformat_minor": 0
}
