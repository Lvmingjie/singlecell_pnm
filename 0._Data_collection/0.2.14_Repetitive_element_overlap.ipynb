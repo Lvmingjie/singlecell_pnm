{
 "cells": [
  {
   "cell_type": "markdown",
   "metadata": {},
   "source": [
    "# Overlap with repetitive elements\n",
    "\n"
   ]
  },
  {
   "cell_type": "code",
   "execution_count": 2,
   "metadata": {
    "collapsed": true
   },
   "outputs": [],
   "source": [
    "folder = '/projects/ps-yeolab/obotvinnik/singlecell_pnms'\n",
    "csv_folder = '{}/csvs_for_paper/'.format(folder)\n",
    "bed_folder = '{}/bed'.format(folder)\n",
    "\n",
    "splicing_feature_folder = '{}/splicing_feature_data'.format(csv_folder)\n",
    "alternative_feature_folder = '{}/alternative'.format(splicing_feature_folder)\n",
    "constitutive_feature_folder = '{}/constitutive'.format(splicing_feature_folder)\n"
   ]
  },
  {
   "cell_type": "code",
   "execution_count": 3,
   "metadata": {
    "collapsed": false
   },
   "outputs": [
    {
     "name": "stdout",
     "output_type": "stream",
     "text": [
      "total 315627124\r\n",
      "drwxrwx---  4 bkakarad                4 Sep  5  2013 \u001b[0m\u001b[01;34mASS_MISO\u001b[0m/\r\n",
      "-rw-r-----  1 shsathe          88383338 Jun  1  2015 All_3-UTR_Seqs.fasta\r\n",
      "-rw-r-----  1 shsathe         215135568 May 27  2015 Exons_From_All_Protein_Coding_Genes.fasta\r\n",
      "-rw-r--r--  1 gpratt              90174 Jan 30  2015 GO_hg19.txt.gz\r\n",
      "drwxr-xr-x  2 shsathe                13 Nov  9 11:31 \u001b[01;34mHERV\u001b[0m/\r\n",
      "drwxr-xr-x  3 wjin                    3 Apr  7  2015 \u001b[01;34mHomo_sapiens\u001b[0m/\r\n",
      "-rw-r--r--  1 wjin          29666884240 Apr  7  2015 Homo_sapiens_UCSC_hg19.tar.gz\r\n",
      "-rw-r--r--  1 bkakarad        474855615 Aug  8  2011 Human_hg19.zip\r\n",
      "-rwxrwx---  1 bkakarad            21140 Apr 29  2014 \u001b[01;32mLog.out\u001b[0m*\r\n",
      "-rwxrwx---  1 bkakarad              128 Feb 13  2014 \u001b[01;32mREADME\u001b[0m*\r\n",
      "-rwxr-xr-x  1 wjin                 5918 May 16  2012 \u001b[01;32mREADME.txt\u001b[0m*\r\n",
      "-rw-r--r--  1 elvannostrand   455943508 May 15  2015 RepeatMask\r\n",
      "drwxrwx--x  5 shsathe                17 Jan 26  2015 \u001b[01;34mRepeats\u001b[0m/\r\n",
      "drwxrwx---  6 bkakarad               66 Jan 29 09:29 \u001b[01;34mchromosomes\u001b[0m/\r\n",
      "drwxrwx---  3 bkakarad              640 Jun 28  2015 \u001b[01;34mdatabase\u001b[0m/\r\n",
      "-rw-r-----  1 shsathe          18478077 May 19  2015 ensembl_genes_attributes.txt\r\n",
      "drwxrwx---  2 bkakarad                4 Apr 28  2014 \u001b[01;34mgencode\u001b[0m/\r\n",
      "-rwxrwx---  1 bkakarad       2211100672 Jul  4  2014 \u001b[01;32mgencode.v17.annotation.gtf.db\u001b[0m*\r\n",
      "-rwxr-x---  1 gpratt         1753923584 Jul  4  2014 \u001b[01;32mgencode.v17.annotation.gtf.db.old\u001b[0m*\r\n",
      "-rwxrwx---  1 bkakarad          3849493 Jan 14  2014 \u001b[01;32mgencode.v17.gc.txt\u001b[0m*\r\n",
      "-rwxrwx---  1 bkakarad       1733891072 Aug 13  2013 \u001b[01;32mgencode.v7.annotation.gtf.db\u001b[0m*\r\n",
      "-rwxrwx---  1 bkakarad          2401671 Oct 30  2012 \u001b[01;32mgencode.v7.gc.txt\u001b[0m*\r\n",
      "drwxrwx---  2 bkakarad               19 Oct 20 14:02 \u001b[01;34mgencode_v17\u001b[0m/\r\n",
      "drwxrwx---  2 bkakarad               83 Jan 29 08:52 \u001b[01;34mgencode_v19\u001b[0m/\r\n",
      "drwxrwx---  2 bkakarad                4 Jun 26  2013 \u001b[01;34mgene_models\u001b[0m/\r\n",
      "-rw-r--r--  1 obotvinnik           7344 Apr 13  2015 gerstberger2014_rbps_ensembl_ids.txt\r\n",
      "drwxrwsr-x  2 obotvinnik             96 Feb 13  2015 \u001b[01;34mhg19.100way.phastCons\u001b[0m/\r\n",
      "-rw-r--r--  1 obotvinnik    53195893894 Feb 13  2015 hg19.100way.phastCons.bedGraph\r\n",
      "-rw-rw-r--  1 obotvinnik     5777277074 Feb  9  2014 hg19.100way.phastCons.bw\r\n",
      "-rw-rw-r--  1 obotvinnik           3251 Feb  9  2014 hg19.100way.phastCons.mod\r\n",
      "-rw-r--r--  1 obotvinnik    13063159815 Feb 13  2015 hg19.100way.phastCons.wig\r\n",
      "drwxrwsr-x  2 obotvinnik             95 Sep 19  2013 \u001b[01;34mhg19.100way.phyloP100way\u001b[0m/\r\n",
      "-rw-rw-r--  1 obotvinnik     9558040733 Feb 11  2014 hg19.100way.phyloP100way.bw\r\n",
      "-rw-rw-r--  1 obotvinnik           3220 Feb  9  2014 hg19.100way.phyloP100way.mod\r\n",
      "-rwxrwx---  1 bkakarad        816241703 Jun 26  2013 \u001b[01;32mhg19.2bit\u001b[0m*\r\n",
      "-rwxr-xr-x  1 gpratt           56525114 Oct  9 12:47 \u001b[01;32mhg19.ENSG_to_GO.txt.gz\u001b[0m*\r\n",
      "-rwxrwx---  1 bkakarad             1971 Feb 27  2015 \u001b[01;32mhg19.chrom.sizes\u001b[0m*\r\n",
      "-rwxrwx---  1 bkakarad             2404 Jun 26  2013 \u001b[01;32mhg19_chrM.gtf\u001b[0m*\r\n",
      "-rwxrwx---  1 bkakarad           405088 Jun 26  2013 \u001b[01;32mhg19_chrM_rRNA_tRNA.gtf\u001b[0m*\r\n",
      "-rw-r--r--  1 shsathe          13848996 Mar 13  2015 hg19_genes.bed\r\n",
      "-rw-r-----  1 shsathe          44489936 Mar 25  2015 hg19_introns.bed\r\n",
      "-rw-r--r--  1 shsathe          45262011 Mar 25  2015 hg19_introns.gtf\r\n",
      "-rw-r--r--  1 shsathe                 0 Aug 22  2014 hg19_phastcons.bedGraph\r\n",
      "-rwxrwx---  1 bkakarad      11439153373 Jun 26  2013 \u001b[01;32mhg19_phastcons.bw\u001b[0m*\r\n",
      "lrwxrwxrwx  1 obotvinnik             17 Mar 21  2015 \u001b[01;36mhg19_phastcons_placental_mammal.bw\u001b[0m -> \u001b[01;32mhg19_phastcons.bw\u001b[0m*\r\n",
      "-rw-r--r--  1 obotvinnik    39460659408 Jun 26  2015 hg19_phastcons_placental_mammal.wig\r\n",
      "-rw-r--r--  1 obotvinnik    77031126101 Aug 19 09:14 hg19_phastcons_placental_mammal_htseq.pickle\r\n",
      "-rw-r--r--  1 obotvinnik    39460659408 Jun 26  2015 hg19_phastcons_placental_mammal_space_separated.wig\r\n",
      "-rwxrwx---  1 bkakarad           402684 Jun 26  2013 \u001b[01;32mhg19_rRNA_tRNA.gtf\u001b[0m*\r\n",
      "drwxrwxrwx  2 bkakarad              551 Apr  9  2014 \u001b[34;42mhg19data4\u001b[0m/\r\n",
      "drwxr-xr-x  2 shsathe                10 Jul 21  2015 \u001b[01;34mhisat_index\u001b[0m/\r\n",
      "-rw-r--r--  1 bkakarad             1710 Feb 10  2015 index.html\r\n",
      "drwxrwx--x  2 obotvinnik              8 Nov 20 14:31 \u001b[01;34mkallisto\u001b[0m/\r\n",
      "-rwxrwx---  1 bkakarad        246544363 Jun 26  2013 \u001b[01;32mknownGene.gtf\u001b[0m*\r\n",
      "drwxr-xr-x  4 bkakarad                4 Feb 10  2015 \u001b[01;34mkrishna.gs.washington.edu\u001b[0m/\r\n",
      "-rw-rw-r--  1 obotvinnik            119 Feb 11  2014 md5sum.txt\r\n",
      "drwxr-xr-x  2 obotvinnik              3 Jan 21  2015 \u001b[01;34mmirbase\u001b[0m/\r\n",
      "lrwxrwxrwx  1 bkakarad               17 Feb 20  2014 \u001b[01;36mmiso\u001b[0m -> \u001b[01;34mmiso_annotations/\u001b[0m/\r\n",
      "drwxrwx--- 19 bkakarad              150 Nov 30 07:13 \u001b[01;34mmiso_annotations\u001b[0m/\r\n",
      "drwxrwsr-x  5 obotvinnik             12 Dec  1  2009 \u001b[01;34mphastCons46way\u001b[0m/\r\n",
      "drwxr-xr-x  3 obotvinnik              3 Feb 10  2015 \u001b[01;34mproteinatlas\u001b[0m/\r\n",
      "drwxrwx---  2 bkakarad               12 Jun 28  2013 \u001b[01;34mrRNA\u001b[0m/\r\n",
      "drwxr-xr-x  2 gpratt                  3 Mar 16  2015 \u001b[01;34mraser\u001b[0m/\r\n",
      "drwxrwx--- 17 obotvinnik             23 Aug  5  2014 \u001b[01;34msailfish\u001b[0m/\r\n",
      "drwxr-xr-x  2 bkakarad                6 Jul  6  2014 \u001b[01;34mseqgene_db\u001b[0m/\r\n",
      "drwxr-xr-x  5 shsathe                 8 Dec  5  2014 \u001b[01;34msnRNA\u001b[0m/\r\n",
      "-rw-rw----  1 bay001        10231744464 Jan 24  2014 snp137.txt\r\n",
      "drwxrwx---  2 bkakarad                9 Jun 26  2013 \u001b[01;34mstar\u001b[0m/\r\n",
      "-rwxrwx---  1 bkakarad      25433126031 Apr 25  2014 \u001b[01;32mstar.tar.gz\u001b[0m*\r\n",
      "drwxr-xr-x  2 jnussbac               14 Feb  1 16:28 \u001b[01;34mstar_index_ath_spikeins\u001b[0m/\r\n",
      "drwxrwx---  2 bkakarad               12 Sep 11  2013 \u001b[01;34mstar_sjdb\u001b[0m/\r\n",
      "drwxrwx---  2 bkakarad               12 Apr 29  2014 \u001b[01;34mstar_v19sjdb_ercc_fluidigm_spikeins\u001b[0m/\r\n",
      "-rwxrwx---  1 bkakarad                0 Apr 29  2014 \u001b[01;32mstar_v19sjdb_ercc_fluidigm_spikeins.err\u001b[0m*\r\n",
      "-rwxrwx---  1 bkakarad              660 Apr 29  2014 \u001b[01;32mstar_v19sjdb_ercc_fluidigm_spikeins.out\u001b[0m*\r\n",
      "-rwxrwx---  1 bkakarad              608 Apr 29  2014 \u001b[01;32mstar_v19sjdb_ercc_fluidigm_spikeins.sh\u001b[0m*\r\n",
      "drwxr-xr-x  3 shsathe                11 Mar 17  2015 \u001b[01;34msubread_index\u001b[0m/\r\n",
      "-rw-r-----  1 shsathe         385313120 May 18  2015 vega_gene_attributes.txt\r\n",
      "drwxrwsr-x  2 obotvinnik              2 Oct 30  2009 \u001b[01;34mvertebrate\u001b[0m/\r\n",
      "-rw-rw-r--  1 obotvinnik           1560 Nov 10  2009 vertebrate.chrX.mod\r\n",
      "-rw-rw-r--  1 obotvinnik           1560 Nov 10  2009 vertebrate.mod\r\n",
      "\u001b[m"
     ]
    }
   ],
   "source": [
    "ll /projects/ps-yeolab/genomes/hg19/"
   ]
  },
  {
   "cell_type": "code",
   "execution_count": 4,
   "metadata": {
    "collapsed": false
   },
   "outputs": [
    {
     "name": "stdout",
     "output_type": "stream",
     "text": [
      "-rwxrwx--- 1 bkakarad 193492882 Jun 26  2013 \u001b[0m\u001b[01;32m/projects/ps-yeolab/genomes/hg19/database/rmsk.BED\u001b[0m*\r\n",
      "\u001b[m"
     ]
    }
   ],
   "source": [
    "ll /projects/ps-yeolab/genomes/hg19/database/rmsk.BED"
   ]
  },
  {
   "cell_type": "code",
   "execution_count": 5,
   "metadata": {
    "collapsed": false
   },
   "outputs": [
    {
     "name": "stdout",
     "output_type": "stream",
     "text": [
      "chr1\t10000\t10468\t(CCCTAA)n\t1504\t+\r\n",
      "chr1\t10468\t11447\tTAR1\t3612\t-\r\n",
      "chr1\t11503\t11675\tL1MC\t437\t-\r\n",
      "chr1\t11677\t11780\tMER5B\t239\t-\r\n",
      "chr1\t15264\t15355\tMIR3\t318\t-\r\n",
      "chr1\t16712\t16749\t(TGG)n\t203\t+\r\n",
      "chr1\t18906\t19048\tL2a\t239\t+\r\n",
      "chr1\t19947\t20405\tL3\t652\t+\r\n",
      "chr1\t20530\t20679\tPlat_L3\t270\t+\r\n",
      "chr1\t21948\t22075\tMLT1K\t254\t+\r\n"
     ]
    }
   ],
   "source": [
    "!head /projects/ps-yeolab/genomes/hg19/database/rmsk.BED"
   ]
  },
  {
   "cell_type": "code",
   "execution_count": 6,
   "metadata": {
    "collapsed": false
   },
   "outputs": [
    {
     "name": "stderr",
     "output_type": "stream",
     "text": [
      "/home/obotvinnik/anaconda/lib/python2.7/site-packages/matplotlib/__init__.py:810: UserWarning: Found matplotlib configuration in ~/.matplotlib/. To conform with the XDG base directory standard, this configuration location has been deprecated on Linux, and the new location is now /home/obotvinnik/.config/matplotlib/. Please move your configuration there to ensure that matplotlib will continue to find it in the future.\n",
      "  _get_xdg_config_dir())\n"
     ]
    }
   ],
   "source": [
    "import pandas as pd\n",
    "\n",
    "%load_ext autoreload\n",
    "%autoreload 2\n",
    "\n",
    "folder = '/projects/ps-yeolab/obotvinnik/singlecell_pnms'\n",
    "csv_folder = '{}/csvs_for_paper'.format(folder)\n",
    "bed_folder = '{}/bed'.format(folder)\n",
    "# folder2 = '/projects/ps-yeolab2/obotvinnik/singlecell_pnm'\n",
    "\n",
    "alt_exons_bedfile = '{}/exon2.bed'.format(bed_folder)\n",
    "constitutive_bedfile = '{}/constitutive_exons.bed'.format(bed_folder)\n",
    "\n",
    "bedfiles = alt_exons_bedfile, constitutive_bedfile\n",
    "\n",
    "# splicing_feature_data = pd.read_csv('{}/splicing_feature_data.csv'.format(csv_folder), index_col=0)\n",
    "# print(splicing_feature_data.shape)\n",
    "# splicing_feature_data.head()"
   ]
  },
  {
   "cell_type": "code",
   "execution_count": 7,
   "metadata": {
    "collapsed": false
   },
   "outputs": [],
   "source": [
    "import pybedtools"
   ]
  },
  {
   "cell_type": "code",
   "execution_count": 8,
   "metadata": {
    "collapsed": false
   },
   "outputs": [],
   "source": [
    "alt_exons = pybedtools.BedTool(alt_exons_bedfile)\n",
    "constitutive_exons = pybedtools.BedTool(constitutive_bedfile)\n",
    "\n",
    "repetitive_elements = pybedtools.BedTool('/projects/ps-yeolab/genomes/hg19/database/rmsk.BED')"
   ]
  },
  {
   "cell_type": "code",
   "execution_count": 9,
   "metadata": {
    "collapsed": false
   },
   "outputs": [],
   "source": [
    "alt_exons_repetitive = alt_exons.intersect(repetitive_elements, wo=True)\n",
    "constitutive_repetitive = constitutive_exons.intersect(repetitive_elements, wo=True)"
   ]
  },
  {
   "cell_type": "code",
   "execution_count": 10,
   "metadata": {
    "collapsed": true
   },
   "outputs": [],
   "source": [
    "import six"
   ]
  },
  {
   "cell_type": "code",
   "execution_count": 11,
   "metadata": {
    "collapsed": false
   },
   "outputs": [
    {
     "data": {
      "text/html": [
       "<div>\n",
       "<table border=\"1\" class=\"dataframe\">\n",
       "  <thead>\n",
       "    <tr style=\"text-align: right;\">\n",
       "      <th></th>\n",
       "      <th>0</th>\n",
       "      <th>1</th>\n",
       "      <th>2</th>\n",
       "      <th>3</th>\n",
       "      <th>4</th>\n",
       "      <th>5</th>\n",
       "      <th>6</th>\n",
       "      <th>7</th>\n",
       "      <th>8</th>\n",
       "      <th>9</th>\n",
       "      <th>10</th>\n",
       "      <th>11</th>\n",
       "      <th>12</th>\n",
       "    </tr>\n",
       "  </thead>\n",
       "  <tbody>\n",
       "    <tr>\n",
       "      <th>0</th>\n",
       "      <td>chr10</td>\n",
       "      <td>103364897</td>\n",
       "      <td>103364969</td>\n",
       "      <td>exon:chr10:103360960-103361093:+@exon:chr10:10...</td>\n",
       "      <td>1000</td>\n",
       "      <td>+</td>\n",
       "      <td>chr10</td>\n",
       "      <td>103364945</td>\n",
       "      <td>103365011</td>\n",
       "      <td>MER91C</td>\n",
       "      <td>205</td>\n",
       "      <td>-</td>\n",
       "      <td>24</td>\n",
       "    </tr>\n",
       "    <tr>\n",
       "      <th>1</th>\n",
       "      <td>chr10</td>\n",
       "      <td>103364897</td>\n",
       "      <td>103364969</td>\n",
       "      <td>exon:chr10:103360960-103361093:+@exon:chr10:10...</td>\n",
       "      <td>1000</td>\n",
       "      <td>+</td>\n",
       "      <td>chr10</td>\n",
       "      <td>103364945</td>\n",
       "      <td>103365011</td>\n",
       "      <td>MER91C</td>\n",
       "      <td>205</td>\n",
       "      <td>-</td>\n",
       "      <td>24</td>\n",
       "    </tr>\n",
       "    <tr>\n",
       "      <th>2</th>\n",
       "      <td>chr10</td>\n",
       "      <td>103364897</td>\n",
       "      <td>103364969</td>\n",
       "      <td>exon:chr10:103360960-103361093:+@exon:chr10:10...</td>\n",
       "      <td>1000</td>\n",
       "      <td>+</td>\n",
       "      <td>chr10</td>\n",
       "      <td>103364945</td>\n",
       "      <td>103365011</td>\n",
       "      <td>MER91C</td>\n",
       "      <td>205</td>\n",
       "      <td>-</td>\n",
       "      <td>24</td>\n",
       "    </tr>\n",
       "    <tr>\n",
       "      <th>3</th>\n",
       "      <td>chr10</td>\n",
       "      <td>103918950</td>\n",
       "      <td>103919065</td>\n",
       "      <td>exon:chr10:103911933-103912287:+@exon:chr10:10...</td>\n",
       "      <td>1000</td>\n",
       "      <td>+</td>\n",
       "      <td>chr10</td>\n",
       "      <td>103918980</td>\n",
       "      <td>103919022</td>\n",
       "      <td>(CAG)n</td>\n",
       "      <td>266</td>\n",
       "      <td>+</td>\n",
       "      <td>42</td>\n",
       "    </tr>\n",
       "    <tr>\n",
       "      <th>4</th>\n",
       "      <td>chr10</td>\n",
       "      <td>103918950</td>\n",
       "      <td>103919095</td>\n",
       "      <td>exon:chr10:103912152-103912287:+@exon:chr10:10...</td>\n",
       "      <td>1000</td>\n",
       "      <td>+</td>\n",
       "      <td>chr10</td>\n",
       "      <td>103918980</td>\n",
       "      <td>103919022</td>\n",
       "      <td>(CAG)n</td>\n",
       "      <td>266</td>\n",
       "      <td>+</td>\n",
       "      <td>42</td>\n",
       "    </tr>\n",
       "  </tbody>\n",
       "</table>\n",
       "</div>"
      ],
      "text/plain": [
       "      0          1          2   \\\n",
       "0  chr10  103364897  103364969   \n",
       "1  chr10  103364897  103364969   \n",
       "2  chr10  103364897  103364969   \n",
       "3  chr10  103918950  103919065   \n",
       "4  chr10  103918950  103919095   \n",
       "\n",
       "                                                  3     4  5      6   \\\n",
       "0  exon:chr10:103360960-103361093:+@exon:chr10:10...  1000  +  chr10   \n",
       "1  exon:chr10:103360960-103361093:+@exon:chr10:10...  1000  +  chr10   \n",
       "2  exon:chr10:103360960-103361093:+@exon:chr10:10...  1000  +  chr10   \n",
       "3  exon:chr10:103911933-103912287:+@exon:chr10:10...  1000  +  chr10   \n",
       "4  exon:chr10:103912152-103912287:+@exon:chr10:10...  1000  +  chr10   \n",
       "\n",
       "          7          8       9    10 11  12  \n",
       "0  103364945  103365011  MER91C  205  -  24  \n",
       "1  103364945  103365011  MER91C  205  -  24  \n",
       "2  103364945  103365011  MER91C  205  -  24  \n",
       "3  103918980  103919022  (CAG)n  266  +  42  \n",
       "4  103918980  103919022  (CAG)n  266  +  42  "
      ]
     },
     "execution_count": 11,
     "metadata": {},
     "output_type": "execute_result"
    }
   ],
   "source": [
    "\n",
    "\n",
    "alt_exons_repetitive_df = pd.read_table(six.StringIO('\\n'.join(str(x) for x in alt_exons_repetitive)), header=None)\n",
    "alt_exons_repetitive_df.head()\n",
    "# constitutive_repetitive_df = constitutive_repetitive.to_dataframe()"
   ]
  },
  {
   "cell_type": "code",
   "execution_count": 12,
   "metadata": {
    "collapsed": false
   },
   "outputs": [
    {
     "data": {
      "text/plain": [
       "0.13506956290989044"
      ]
     },
     "execution_count": 12,
     "metadata": {},
     "output_type": "execute_result"
    }
   ],
   "source": [
    "len(alt_exons_repetitive)/float(len(alt_exons))"
   ]
  },
  {
   "cell_type": "markdown",
   "metadata": {},
   "source": [
    "the `rmsk.BED` file was created using [RepeatMasker](http://www.repeatmasker.org/) on the [Dfam](http://www.dfam.org/) database of repetitive DNA elements. So now to organize the exact elements into families of elements (which is easier to interpret and deal with than the exact elements), we'll need to use the Dfam database."
   ]
  },
  {
   "cell_type": "code",
   "execution_count": 13,
   "metadata": {
    "collapsed": false
   },
   "outputs": [
    {
     "data": {
      "text/html": [
       "<div>\n",
       "<table border=\"1\" class=\"dataframe\">\n",
       "  <thead>\n",
       "    <tr style=\"text-align: right;\">\n",
       "      <th></th>\n",
       "      <th>ID</th>\n",
       "      <th>Type</th>\n",
       "      <th>Class</th>\n",
       "      <th>Superfamily</th>\n",
       "    </tr>\n",
       "  </thead>\n",
       "  <tbody>\n",
       "    <tr>\n",
       "      <th>0</th>\n",
       "      <td>4.5SRNA</td>\n",
       "      <td>ncNRA</td>\n",
       "      <td>Undefined</td>\n",
       "      <td>Undefined</td>\n",
       "    </tr>\n",
       "    <tr>\n",
       "      <th>1</th>\n",
       "      <td>5S</td>\n",
       "      <td>ncRNA</td>\n",
       "      <td>rRNA</td>\n",
       "      <td>5S</td>\n",
       "    </tr>\n",
       "    <tr>\n",
       "      <th>2</th>\n",
       "      <td>5S_DM</td>\n",
       "      <td>ncNRA</td>\n",
       "      <td>Undefined</td>\n",
       "      <td>Undefined</td>\n",
       "    </tr>\n",
       "    <tr>\n",
       "      <th>3</th>\n",
       "      <td>7SK</td>\n",
       "      <td>ncRNA</td>\n",
       "      <td>snRNA</td>\n",
       "      <td>7SK</td>\n",
       "    </tr>\n",
       "    <tr>\n",
       "      <th>4</th>\n",
       "      <td>7SLRNA</td>\n",
       "      <td>ncRNA</td>\n",
       "      <td>scRNA</td>\n",
       "      <td>7SLRNA</td>\n",
       "    </tr>\n",
       "  </tbody>\n",
       "</table>\n",
       "</div>"
      ],
      "text/plain": [
       "        ID   Type      Class Superfamily\n",
       "0  4.5SRNA  ncNRA  Undefined   Undefined\n",
       "1       5S  ncRNA       rRNA          5S\n",
       "2    5S_DM  ncNRA  Undefined   Undefined\n",
       "3      7SK  ncRNA      snRNA         7SK\n",
       "4   7SLRNA  ncRNA      scRNA      7SLRNA"
      ]
     },
     "execution_count": 13,
     "metadata": {},
     "output_type": "execute_result"
    }
   ],
   "source": [
    "dfam_metadata = pd.read_csv('/projects/ps-yeolab/dfam/2.0/Dfam_metadata.csv')\n",
    "dfam_metadata.head()"
   ]
  },
  {
   "cell_type": "code",
   "execution_count": 14,
   "metadata": {
    "collapsed": false
   },
   "outputs": [
    {
     "data": {
      "text/html": [
       "<div>\n",
       "<table border=\"1\" class=\"dataframe\">\n",
       "  <thead>\n",
       "    <tr style=\"text-align: right;\">\n",
       "      <th></th>\n",
       "      <th>repetitive_element_dfam_id</th>\n",
       "      <th>repetitive_element_dfam_type</th>\n",
       "      <th>repetitive_element_dfam_class</th>\n",
       "      <th>repetitive_element_dfam_superfamily</th>\n",
       "    </tr>\n",
       "  </thead>\n",
       "  <tbody>\n",
       "    <tr>\n",
       "      <th>0</th>\n",
       "      <td>4.5SRNA</td>\n",
       "      <td>ncNRA</td>\n",
       "      <td>Undefined</td>\n",
       "      <td>Undefined</td>\n",
       "    </tr>\n",
       "    <tr>\n",
       "      <th>1</th>\n",
       "      <td>5S</td>\n",
       "      <td>ncRNA</td>\n",
       "      <td>rRNA</td>\n",
       "      <td>5S</td>\n",
       "    </tr>\n",
       "    <tr>\n",
       "      <th>2</th>\n",
       "      <td>5S_DM</td>\n",
       "      <td>ncNRA</td>\n",
       "      <td>Undefined</td>\n",
       "      <td>Undefined</td>\n",
       "    </tr>\n",
       "    <tr>\n",
       "      <th>3</th>\n",
       "      <td>7SK</td>\n",
       "      <td>ncRNA</td>\n",
       "      <td>snRNA</td>\n",
       "      <td>7SK</td>\n",
       "    </tr>\n",
       "    <tr>\n",
       "      <th>4</th>\n",
       "      <td>7SLRNA</td>\n",
       "      <td>ncRNA</td>\n",
       "      <td>scRNA</td>\n",
       "      <td>7SLRNA</td>\n",
       "    </tr>\n",
       "  </tbody>\n",
       "</table>\n",
       "</div>"
      ],
      "text/plain": [
       "  repetitive_element_dfam_id repetitive_element_dfam_type  \\\n",
       "0                    4.5SRNA                        ncNRA   \n",
       "1                         5S                        ncRNA   \n",
       "2                      5S_DM                        ncNRA   \n",
       "3                        7SK                        ncRNA   \n",
       "4                     7SLRNA                        ncRNA   \n",
       "\n",
       "  repetitive_element_dfam_class repetitive_element_dfam_superfamily  \n",
       "0                     Undefined                           Undefined  \n",
       "1                          rRNA                                  5S  \n",
       "2                     Undefined                           Undefined  \n",
       "3                         snRNA                                 7SK  \n",
       "4                         scRNA                              7SLRNA  "
      ]
     },
     "execution_count": 14,
     "metadata": {},
     "output_type": "execute_result"
    }
   ],
   "source": [
    "dfam_metadata.columns = ['repetitive_element_dfam_{}'.format(x.lower()) for x in dfam_metadata]\n",
    "dfam_metadata.head()"
   ]
  },
  {
   "cell_type": "code",
   "execution_count": 15,
   "metadata": {
    "collapsed": false
   },
   "outputs": [
    {
     "data": {
      "text/html": [
       "<div>\n",
       "<table border=\"1\" class=\"dataframe\">\n",
       "  <thead>\n",
       "    <tr style=\"text-align: right;\">\n",
       "      <th></th>\n",
       "      <th>0</th>\n",
       "      <th>1</th>\n",
       "      <th>2</th>\n",
       "      <th>3</th>\n",
       "      <th>4</th>\n",
       "      <th>5</th>\n",
       "      <th>6</th>\n",
       "      <th>7</th>\n",
       "      <th>8</th>\n",
       "      <th>9</th>\n",
       "      <th>10</th>\n",
       "      <th>11</th>\n",
       "      <th>12</th>\n",
       "      <th>repetitive_element_dfam_id</th>\n",
       "      <th>repetitive_element_dfam_type</th>\n",
       "      <th>repetitive_element_dfam_class</th>\n",
       "      <th>repetitive_element_dfam_superfamily</th>\n",
       "    </tr>\n",
       "  </thead>\n",
       "  <tbody>\n",
       "    <tr>\n",
       "      <th>0</th>\n",
       "      <td>chr10</td>\n",
       "      <td>103364897</td>\n",
       "      <td>103364969</td>\n",
       "      <td>exon:chr10:103360960-103361093:+@exon:chr10:10...</td>\n",
       "      <td>1000</td>\n",
       "      <td>+</td>\n",
       "      <td>chr10</td>\n",
       "      <td>103364945</td>\n",
       "      <td>103365011</td>\n",
       "      <td>MER91C</td>\n",
       "      <td>205</td>\n",
       "      <td>-</td>\n",
       "      <td>24</td>\n",
       "      <td>MER91C</td>\n",
       "      <td>DNA</td>\n",
       "      <td>Cut</td>\n",
       "      <td>hAT-Tip100</td>\n",
       "    </tr>\n",
       "    <tr>\n",
       "      <th>1</th>\n",
       "      <td>chr10</td>\n",
       "      <td>103364897</td>\n",
       "      <td>103364969</td>\n",
       "      <td>exon:chr10:103360960-103361093:+@exon:chr10:10...</td>\n",
       "      <td>1000</td>\n",
       "      <td>+</td>\n",
       "      <td>chr10</td>\n",
       "      <td>103364945</td>\n",
       "      <td>103365011</td>\n",
       "      <td>MER91C</td>\n",
       "      <td>205</td>\n",
       "      <td>-</td>\n",
       "      <td>24</td>\n",
       "      <td>MER91C</td>\n",
       "      <td>DNA</td>\n",
       "      <td>Cut</td>\n",
       "      <td>hAT-Tip100</td>\n",
       "    </tr>\n",
       "    <tr>\n",
       "      <th>2</th>\n",
       "      <td>chr10</td>\n",
       "      <td>103364897</td>\n",
       "      <td>103364969</td>\n",
       "      <td>exon:chr10:103360960-103361093:+@exon:chr10:10...</td>\n",
       "      <td>1000</td>\n",
       "      <td>+</td>\n",
       "      <td>chr10</td>\n",
       "      <td>103364945</td>\n",
       "      <td>103365011</td>\n",
       "      <td>MER91C</td>\n",
       "      <td>205</td>\n",
       "      <td>-</td>\n",
       "      <td>24</td>\n",
       "      <td>MER91C</td>\n",
       "      <td>DNA</td>\n",
       "      <td>Cut</td>\n",
       "      <td>hAT-Tip100</td>\n",
       "    </tr>\n",
       "    <tr>\n",
       "      <th>3</th>\n",
       "      <td>chr10</td>\n",
       "      <td>103364897</td>\n",
       "      <td>103364969</td>\n",
       "      <td>exon:chr10:103360960-103361093:+@exon:chr10:10...</td>\n",
       "      <td>1000</td>\n",
       "      <td>+</td>\n",
       "      <td>chr10</td>\n",
       "      <td>103364945</td>\n",
       "      <td>103365011</td>\n",
       "      <td>MER91C</td>\n",
       "      <td>205</td>\n",
       "      <td>-</td>\n",
       "      <td>24</td>\n",
       "      <td>MER91C</td>\n",
       "      <td>DNA</td>\n",
       "      <td>Cut</td>\n",
       "      <td>hAT-Tip100</td>\n",
       "    </tr>\n",
       "    <tr>\n",
       "      <th>4</th>\n",
       "      <td>chr10</td>\n",
       "      <td>103364897</td>\n",
       "      <td>103364969</td>\n",
       "      <td>exon:chr10:103360960-103361093:+@exon:chr10:10...</td>\n",
       "      <td>1000</td>\n",
       "      <td>+</td>\n",
       "      <td>chr10</td>\n",
       "      <td>103364945</td>\n",
       "      <td>103365011</td>\n",
       "      <td>MER91C</td>\n",
       "      <td>205</td>\n",
       "      <td>-</td>\n",
       "      <td>24</td>\n",
       "      <td>MER91C</td>\n",
       "      <td>DNA</td>\n",
       "      <td>Cut</td>\n",
       "      <td>hAT-Tip100</td>\n",
       "    </tr>\n",
       "  </tbody>\n",
       "</table>\n",
       "</div>"
      ],
      "text/plain": [
       "       0          1          2  \\\n",
       "0  chr10  103364897  103364969   \n",
       "1  chr10  103364897  103364969   \n",
       "2  chr10  103364897  103364969   \n",
       "3  chr10  103364897  103364969   \n",
       "4  chr10  103364897  103364969   \n",
       "\n",
       "                                                   3     4  5      6  \\\n",
       "0  exon:chr10:103360960-103361093:+@exon:chr10:10...  1000  +  chr10   \n",
       "1  exon:chr10:103360960-103361093:+@exon:chr10:10...  1000  +  chr10   \n",
       "2  exon:chr10:103360960-103361093:+@exon:chr10:10...  1000  +  chr10   \n",
       "3  exon:chr10:103360960-103361093:+@exon:chr10:10...  1000  +  chr10   \n",
       "4  exon:chr10:103360960-103361093:+@exon:chr10:10...  1000  +  chr10   \n",
       "\n",
       "           7          8       9   10 11  12 repetitive_element_dfam_id  \\\n",
       "0  103364945  103365011  MER91C  205  -  24                     MER91C   \n",
       "1  103364945  103365011  MER91C  205  -  24                     MER91C   \n",
       "2  103364945  103365011  MER91C  205  -  24                     MER91C   \n",
       "3  103364945  103365011  MER91C  205  -  24                     MER91C   \n",
       "4  103364945  103365011  MER91C  205  -  24                     MER91C   \n",
       "\n",
       "  repetitive_element_dfam_type repetitive_element_dfam_class  \\\n",
       "0                          DNA                           Cut   \n",
       "1                          DNA                           Cut   \n",
       "2                          DNA                           Cut   \n",
       "3                          DNA                           Cut   \n",
       "4                          DNA                           Cut   \n",
       "\n",
       "  repetitive_element_dfam_superfamily  \n",
       "0                          hAT-Tip100  \n",
       "1                          hAT-Tip100  \n",
       "2                          hAT-Tip100  \n",
       "3                          hAT-Tip100  \n",
       "4                          hAT-Tip100  "
      ]
     },
     "execution_count": 15,
     "metadata": {},
     "output_type": "execute_result"
    }
   ],
   "source": [
    "alt_exons_repetitive_df_families = alt_exons_repetitive_df.merge(\n",
    "    dfam_metadata, left_on=9, right_on='repetitive_element_dfam_id')\n",
    "alt_exons_repetitive_df_families.head()"
   ]
  },
  {
   "cell_type": "code",
   "execution_count": 16,
   "metadata": {
    "collapsed": false
   },
   "outputs": [
    {
     "data": {
      "text/plain": [
       "0"
      ]
     },
     "execution_count": 16,
     "metadata": {},
     "output_type": "execute_result"
    }
   ],
   "source": [
    "alt_exons_repetitive_df_families['repetitive_element_dfam_superfamily'].isnull().sum()"
   ]
  },
  {
   "cell_type": "code",
   "execution_count": 17,
   "metadata": {
    "collapsed": false
   },
   "outputs": [
    {
     "data": {
      "text/plain": [
       "repetitive_element_dfam_superfamily\n",
       "5S-derived          3\n",
       "7SK                 2\n",
       "Alu              1176\n",
       "CR1                59\n",
       "ERV1               93\n",
       "ERVK                8\n",
       "ERVL               55\n",
       "ERVL-MaLR         166\n",
       "ERVL?               3\n",
       "Gypsy?              1\n",
       "Helitron            3\n",
       "L1                 27\n",
       "L2                 53\n",
       "MIR               491\n",
       "Merlin              1\n",
       "TcMar-Mariner       8\n",
       "TcMar-Tc2           2\n",
       "TcMar-Tigger       85\n",
       "TcMar?              1\n",
       "Undefined           7\n",
       "hAT-Blackjack       5\n",
       "hAT-Charlie       214\n",
       "hAT-Tip100          8\n",
       "hAT?                1\n",
       "tRNA               14\n",
       "tRNA-derived        1\n",
       "dtype: int64"
      ]
     },
     "execution_count": 17,
     "metadata": {},
     "output_type": "execute_result"
    }
   ],
   "source": [
    "alt_exons_repetitive_df_families.groupby('repetitive_element_dfam_superfamily').size()"
   ]
  },
  {
   "cell_type": "code",
   "execution_count": 18,
   "metadata": {
    "collapsed": false
   },
   "outputs": [
    {
     "data": {
      "text/plain": [
       "repetitive_element_dfam_class\n",
       "Cut               326\n",
       "LINE              139\n",
       "LTR               329\n",
       "Minisatellite       1\n",
       "Rolling             3\n",
       "SINE             1685\n",
       "Unknown             1\n",
       "snRNA               2\n",
       "tRNA                1\n",
       "dtype: int64"
      ]
     },
     "execution_count": 18,
     "metadata": {},
     "output_type": "execute_result"
    }
   ],
   "source": [
    "alt_exons_repetitive_df_families.groupby('repetitive_element_dfam_class').size()"
   ]
  },
  {
   "cell_type": "code",
   "execution_count": 19,
   "metadata": {
    "collapsed": false
   },
   "outputs": [
    {
     "data": {
      "text/html": [
       "<div>\n",
       "<table border=\"1\" class=\"dataframe\">\n",
       "  <thead>\n",
       "    <tr style=\"text-align: right;\">\n",
       "      <th></th>\n",
       "      <th>0</th>\n",
       "      <th>1</th>\n",
       "      <th>2</th>\n",
       "      <th>3</th>\n",
       "      <th>4</th>\n",
       "      <th>5</th>\n",
       "      <th>6</th>\n",
       "      <th>7</th>\n",
       "      <th>8</th>\n",
       "      <th>9</th>\n",
       "      <th>10</th>\n",
       "      <th>11</th>\n",
       "      <th>12</th>\n",
       "      <th>repetitive_element_dfam_id</th>\n",
       "      <th>repetitive_element_dfam_type</th>\n",
       "      <th>repetitive_element_dfam_class</th>\n",
       "      <th>repetitive_element_dfam_superfamily</th>\n",
       "    </tr>\n",
       "  </thead>\n",
       "  <tbody>\n",
       "  </tbody>\n",
       "</table>\n",
       "</div>"
      ],
      "text/plain": [
       "Empty DataFrame\n",
       "Columns: [0, 1, 2, 3, 4, 5, 6, 7, 8, 9, 10, 11, 12, repetitive_element_dfam_id, repetitive_element_dfam_type, repetitive_element_dfam_class, repetitive_element_dfam_superfamily]\n",
       "Index: []"
      ]
     },
     "execution_count": 19,
     "metadata": {},
     "output_type": "execute_result"
    }
   ],
   "source": [
    "alt_exons_repetitive_df_families.loc[alt_exons_repetitive_df_families.repetitive_element_dfam_superfamily == 'PiggyBac']"
   ]
  },
  {
   "cell_type": "code",
   "execution_count": 20,
   "metadata": {
    "collapsed": false
   },
   "outputs": [
    {
     "data": {
      "text/plain": [
       "repetitive_element_dfam_type\n",
       "DNA                 329\n",
       "Retrotransposon    2153\n",
       "Satellite             1\n",
       "Unknown               1\n",
       "ncRNA                 3\n",
       "dtype: int64"
      ]
     },
     "execution_count": 20,
     "metadata": {},
     "output_type": "execute_result"
    }
   ],
   "source": [
    "alt_exons_repetitive_df_families.groupby('repetitive_element_dfam_type').size()"
   ]
  },
  {
   "cell_type": "code",
   "execution_count": 21,
   "metadata": {
    "collapsed": false
   },
   "outputs": [
    {
     "data": {
      "text/html": [
       "<div>\n",
       "<table border=\"1\" class=\"dataframe\">\n",
       "  <thead>\n",
       "    <tr style=\"text-align: right;\">\n",
       "      <th></th>\n",
       "      <th>0</th>\n",
       "      <th>1</th>\n",
       "      <th>2</th>\n",
       "      <th>4</th>\n",
       "      <th>5</th>\n",
       "      <th>6</th>\n",
       "      <th>7</th>\n",
       "      <th>8</th>\n",
       "      <th>9</th>\n",
       "      <th>10</th>\n",
       "      <th>11</th>\n",
       "      <th>12</th>\n",
       "      <th>repetitive_element_dfam_id</th>\n",
       "      <th>repetitive_element_dfam_type</th>\n",
       "      <th>repetitive_element_dfam_class</th>\n",
       "      <th>repetitive_element_dfam_superfamily</th>\n",
       "    </tr>\n",
       "    <tr>\n",
       "      <th>3</th>\n",
       "      <th></th>\n",
       "      <th></th>\n",
       "      <th></th>\n",
       "      <th></th>\n",
       "      <th></th>\n",
       "      <th></th>\n",
       "      <th></th>\n",
       "      <th></th>\n",
       "      <th></th>\n",
       "      <th></th>\n",
       "      <th></th>\n",
       "      <th></th>\n",
       "      <th></th>\n",
       "      <th></th>\n",
       "      <th></th>\n",
       "      <th></th>\n",
       "    </tr>\n",
       "  </thead>\n",
       "  <tbody>\n",
       "    <tr>\n",
       "      <th>exon:chr10:103360960-103361093:+@exon:chr10:103364897-103364969:+@exon:chr10:103368592-103368694:+</th>\n",
       "      <td>chr10</td>\n",
       "      <td>103364897</td>\n",
       "      <td>103364969</td>\n",
       "      <td>1000</td>\n",
       "      <td>+</td>\n",
       "      <td>chr10</td>\n",
       "      <td>103364945</td>\n",
       "      <td>103365011</td>\n",
       "      <td>MER91C</td>\n",
       "      <td>205</td>\n",
       "      <td>-</td>\n",
       "      <td>24</td>\n",
       "      <td>MER91C</td>\n",
       "      <td>DNA</td>\n",
       "      <td>Cut</td>\n",
       "      <td>hAT-Tip100</td>\n",
       "    </tr>\n",
       "    <tr>\n",
       "      <th>exon:chr10:103360960-103361093:+@exon:chr10:103364897-103364969:+@exon:chr10:103368624-103368659:+</th>\n",
       "      <td>chr10</td>\n",
       "      <td>103364897</td>\n",
       "      <td>103364969</td>\n",
       "      <td>1000</td>\n",
       "      <td>+</td>\n",
       "      <td>chr10</td>\n",
       "      <td>103364945</td>\n",
       "      <td>103365011</td>\n",
       "      <td>MER91C</td>\n",
       "      <td>205</td>\n",
       "      <td>-</td>\n",
       "      <td>24</td>\n",
       "      <td>MER91C</td>\n",
       "      <td>DNA</td>\n",
       "      <td>Cut</td>\n",
       "      <td>hAT-Tip100</td>\n",
       "    </tr>\n",
       "    <tr>\n",
       "      <th>exon:chr10:103360960-103361093:+@exon:chr10:103364897-103364969:+@exon:chr10:103369124-103369196:+</th>\n",
       "      <td>chr10</td>\n",
       "      <td>103364897</td>\n",
       "      <td>103364969</td>\n",
       "      <td>1000</td>\n",
       "      <td>+</td>\n",
       "      <td>chr10</td>\n",
       "      <td>103364945</td>\n",
       "      <td>103365011</td>\n",
       "      <td>MER91C</td>\n",
       "      <td>205</td>\n",
       "      <td>-</td>\n",
       "      <td>24</td>\n",
       "      <td>MER91C</td>\n",
       "      <td>DNA</td>\n",
       "      <td>Cut</td>\n",
       "      <td>hAT-Tip100</td>\n",
       "    </tr>\n",
       "    <tr>\n",
       "      <th>exon:chr10:103360960-103361093:+@exon:chr10:103364897-103364969:+@exon:chr10:103368592-103368694:+@exon:chr10:103369124-103369425:+</th>\n",
       "      <td>chr10</td>\n",
       "      <td>103364897</td>\n",
       "      <td>103364969</td>\n",
       "      <td>1000</td>\n",
       "      <td>+</td>\n",
       "      <td>chr10</td>\n",
       "      <td>103364945</td>\n",
       "      <td>103365011</td>\n",
       "      <td>MER91C</td>\n",
       "      <td>205</td>\n",
       "      <td>-</td>\n",
       "      <td>24</td>\n",
       "      <td>MER91C</td>\n",
       "      <td>DNA</td>\n",
       "      <td>Cut</td>\n",
       "      <td>hAT-Tip100</td>\n",
       "    </tr>\n",
       "    <tr>\n",
       "      <th>exon:chr10:103360960-103361093:+@exon:chr10:103364897-103364969:+@exon:chr10:103368624-103368694:+@exon:chr10:103369124-103369425:+</th>\n",
       "      <td>chr10</td>\n",
       "      <td>103364897</td>\n",
       "      <td>103364969</td>\n",
       "      <td>1000</td>\n",
       "      <td>+</td>\n",
       "      <td>chr10</td>\n",
       "      <td>103364945</td>\n",
       "      <td>103365011</td>\n",
       "      <td>MER91C</td>\n",
       "      <td>205</td>\n",
       "      <td>-</td>\n",
       "      <td>24</td>\n",
       "      <td>MER91C</td>\n",
       "      <td>DNA</td>\n",
       "      <td>Cut</td>\n",
       "      <td>hAT-Tip100</td>\n",
       "    </tr>\n",
       "  </tbody>\n",
       "</table>\n",
       "</div>"
      ],
      "text/plain": [
       "                                                        0          1  \\\n",
       "3                                                                      \n",
       "exon:chr10:103360960-103361093:+@exon:chr10:103...  chr10  103364897   \n",
       "exon:chr10:103360960-103361093:+@exon:chr10:103...  chr10  103364897   \n",
       "exon:chr10:103360960-103361093:+@exon:chr10:103...  chr10  103364897   \n",
       "exon:chr10:103360960-103361093:+@exon:chr10:103...  chr10  103364897   \n",
       "exon:chr10:103360960-103361093:+@exon:chr10:103...  chr10  103364897   \n",
       "\n",
       "                                                            2     4  5      6  \\\n",
       "3                                                                               \n",
       "exon:chr10:103360960-103361093:+@exon:chr10:103...  103364969  1000  +  chr10   \n",
       "exon:chr10:103360960-103361093:+@exon:chr10:103...  103364969  1000  +  chr10   \n",
       "exon:chr10:103360960-103361093:+@exon:chr10:103...  103364969  1000  +  chr10   \n",
       "exon:chr10:103360960-103361093:+@exon:chr10:103...  103364969  1000  +  chr10   \n",
       "exon:chr10:103360960-103361093:+@exon:chr10:103...  103364969  1000  +  chr10   \n",
       "\n",
       "                                                            7          8  \\\n",
       "3                                                                          \n",
       "exon:chr10:103360960-103361093:+@exon:chr10:103...  103364945  103365011   \n",
       "exon:chr10:103360960-103361093:+@exon:chr10:103...  103364945  103365011   \n",
       "exon:chr10:103360960-103361093:+@exon:chr10:103...  103364945  103365011   \n",
       "exon:chr10:103360960-103361093:+@exon:chr10:103...  103364945  103365011   \n",
       "exon:chr10:103360960-103361093:+@exon:chr10:103...  103364945  103365011   \n",
       "\n",
       "                                                         9   10 11  12  \\\n",
       "3                                                                        \n",
       "exon:chr10:103360960-103361093:+@exon:chr10:103...  MER91C  205  -  24   \n",
       "exon:chr10:103360960-103361093:+@exon:chr10:103...  MER91C  205  -  24   \n",
       "exon:chr10:103360960-103361093:+@exon:chr10:103...  MER91C  205  -  24   \n",
       "exon:chr10:103360960-103361093:+@exon:chr10:103...  MER91C  205  -  24   \n",
       "exon:chr10:103360960-103361093:+@exon:chr10:103...  MER91C  205  -  24   \n",
       "\n",
       "                                                   repetitive_element_dfam_id  \\\n",
       "3                                                                               \n",
       "exon:chr10:103360960-103361093:+@exon:chr10:103...                     MER91C   \n",
       "exon:chr10:103360960-103361093:+@exon:chr10:103...                     MER91C   \n",
       "exon:chr10:103360960-103361093:+@exon:chr10:103...                     MER91C   \n",
       "exon:chr10:103360960-103361093:+@exon:chr10:103...                     MER91C   \n",
       "exon:chr10:103360960-103361093:+@exon:chr10:103...                     MER91C   \n",
       "\n",
       "                                                   repetitive_element_dfam_type  \\\n",
       "3                                                                                 \n",
       "exon:chr10:103360960-103361093:+@exon:chr10:103...                          DNA   \n",
       "exon:chr10:103360960-103361093:+@exon:chr10:103...                          DNA   \n",
       "exon:chr10:103360960-103361093:+@exon:chr10:103...                          DNA   \n",
       "exon:chr10:103360960-103361093:+@exon:chr10:103...                          DNA   \n",
       "exon:chr10:103360960-103361093:+@exon:chr10:103...                          DNA   \n",
       "\n",
       "                                                   repetitive_element_dfam_class  \\\n",
       "3                                                                                  \n",
       "exon:chr10:103360960-103361093:+@exon:chr10:103...                           Cut   \n",
       "exon:chr10:103360960-103361093:+@exon:chr10:103...                           Cut   \n",
       "exon:chr10:103360960-103361093:+@exon:chr10:103...                           Cut   \n",
       "exon:chr10:103360960-103361093:+@exon:chr10:103...                           Cut   \n",
       "exon:chr10:103360960-103361093:+@exon:chr10:103...                           Cut   \n",
       "\n",
       "                                                   repetitive_element_dfam_superfamily  \n",
       "3                                                                                       \n",
       "exon:chr10:103360960-103361093:+@exon:chr10:103...                          hAT-Tip100  \n",
       "exon:chr10:103360960-103361093:+@exon:chr10:103...                          hAT-Tip100  \n",
       "exon:chr10:103360960-103361093:+@exon:chr10:103...                          hAT-Tip100  \n",
       "exon:chr10:103360960-103361093:+@exon:chr10:103...                          hAT-Tip100  \n",
       "exon:chr10:103360960-103361093:+@exon:chr10:103...                          hAT-Tip100  "
      ]
     },
     "execution_count": 21,
     "metadata": {},
     "output_type": "execute_result"
    }
   ],
   "source": [
    "alt_exons_repetitive_df_families_index = alt_exons_repetitive_df_families.set_index(3)\n",
    "alt_exons_repetitive_df_families_index.head()"
   ]
  },
  {
   "cell_type": "code",
   "execution_count": 22,
   "metadata": {
    "collapsed": true
   },
   "outputs": [],
   "source": [
    "alt_exons_repetitive_df_families_index.index.name = 'event_id'"
   ]
  },
  {
   "cell_type": "code",
   "execution_count": 23,
   "metadata": {
    "collapsed": false
   },
   "outputs": [
    {
     "data": {
      "text/html": [
       "<div>\n",
       "<table border=\"1\" class=\"dataframe\">\n",
       "  <thead>\n",
       "    <tr style=\"text-align: right;\">\n",
       "      <th></th>\n",
       "      <th>repetitive_element_dfam_id</th>\n",
       "      <th>repetitive_element_dfam_type</th>\n",
       "      <th>repetitive_element_dfam_class</th>\n",
       "      <th>repetitive_element_dfam_superfamily</th>\n",
       "    </tr>\n",
       "    <tr>\n",
       "      <th>event_id</th>\n",
       "      <th></th>\n",
       "      <th></th>\n",
       "      <th></th>\n",
       "      <th></th>\n",
       "    </tr>\n",
       "  </thead>\n",
       "  <tbody>\n",
       "    <tr>\n",
       "      <th>exon:chr10:103360960-103361093:+@exon:chr10:103364897-103364969:+@exon:chr10:103368592-103368694:+</th>\n",
       "      <td>MER91C</td>\n",
       "      <td>DNA</td>\n",
       "      <td>Cut</td>\n",
       "      <td>hAT-Tip100</td>\n",
       "    </tr>\n",
       "    <tr>\n",
       "      <th>exon:chr10:103360960-103361093:+@exon:chr10:103364897-103364969:+@exon:chr10:103368624-103368659:+</th>\n",
       "      <td>MER91C</td>\n",
       "      <td>DNA</td>\n",
       "      <td>Cut</td>\n",
       "      <td>hAT-Tip100</td>\n",
       "    </tr>\n",
       "    <tr>\n",
       "      <th>exon:chr10:103360960-103361093:+@exon:chr10:103364897-103364969:+@exon:chr10:103369124-103369196:+</th>\n",
       "      <td>MER91C</td>\n",
       "      <td>DNA</td>\n",
       "      <td>Cut</td>\n",
       "      <td>hAT-Tip100</td>\n",
       "    </tr>\n",
       "    <tr>\n",
       "      <th>exon:chr10:103360960-103361093:+@exon:chr10:103364897-103364969:+@exon:chr10:103368592-103368694:+@exon:chr10:103369124-103369425:+</th>\n",
       "      <td>MER91C</td>\n",
       "      <td>DNA</td>\n",
       "      <td>Cut</td>\n",
       "      <td>hAT-Tip100</td>\n",
       "    </tr>\n",
       "    <tr>\n",
       "      <th>exon:chr10:103360960-103361093:+@exon:chr10:103364897-103364969:+@exon:chr10:103368624-103368694:+@exon:chr10:103369124-103369425:+</th>\n",
       "      <td>MER91C</td>\n",
       "      <td>DNA</td>\n",
       "      <td>Cut</td>\n",
       "      <td>hAT-Tip100</td>\n",
       "    </tr>\n",
       "  </tbody>\n",
       "</table>\n",
       "</div>"
      ],
      "text/plain": [
       "                                                   repetitive_element_dfam_id  \\\n",
       "event_id                                                                        \n",
       "exon:chr10:103360960-103361093:+@exon:chr10:103...                     MER91C   \n",
       "exon:chr10:103360960-103361093:+@exon:chr10:103...                     MER91C   \n",
       "exon:chr10:103360960-103361093:+@exon:chr10:103...                     MER91C   \n",
       "exon:chr10:103360960-103361093:+@exon:chr10:103...                     MER91C   \n",
       "exon:chr10:103360960-103361093:+@exon:chr10:103...                     MER91C   \n",
       "\n",
       "                                                   repetitive_element_dfam_type  \\\n",
       "event_id                                                                          \n",
       "exon:chr10:103360960-103361093:+@exon:chr10:103...                          DNA   \n",
       "exon:chr10:103360960-103361093:+@exon:chr10:103...                          DNA   \n",
       "exon:chr10:103360960-103361093:+@exon:chr10:103...                          DNA   \n",
       "exon:chr10:103360960-103361093:+@exon:chr10:103...                          DNA   \n",
       "exon:chr10:103360960-103361093:+@exon:chr10:103...                          DNA   \n",
       "\n",
       "                                                   repetitive_element_dfam_class  \\\n",
       "event_id                                                                           \n",
       "exon:chr10:103360960-103361093:+@exon:chr10:103...                           Cut   \n",
       "exon:chr10:103360960-103361093:+@exon:chr10:103...                           Cut   \n",
       "exon:chr10:103360960-103361093:+@exon:chr10:103...                           Cut   \n",
       "exon:chr10:103360960-103361093:+@exon:chr10:103...                           Cut   \n",
       "exon:chr10:103360960-103361093:+@exon:chr10:103...                           Cut   \n",
       "\n",
       "                                                   repetitive_element_dfam_superfamily  \n",
       "event_id                                                                                \n",
       "exon:chr10:103360960-103361093:+@exon:chr10:103...                          hAT-Tip100  \n",
       "exon:chr10:103360960-103361093:+@exon:chr10:103...                          hAT-Tip100  \n",
       "exon:chr10:103360960-103361093:+@exon:chr10:103...                          hAT-Tip100  \n",
       "exon:chr10:103360960-103361093:+@exon:chr10:103...                          hAT-Tip100  \n",
       "exon:chr10:103360960-103361093:+@exon:chr10:103...                          hAT-Tip100  "
      ]
     },
     "execution_count": 23,
     "metadata": {},
     "output_type": "execute_result"
    }
   ],
   "source": [
    "alt_exons_repetitive_df_families_index_subset = alt_exons_repetitive_df_families_index[dfam_metadata.columns]\n",
    "alt_exons_repetitive_df_families_index_subset.head()"
   ]
  },
  {
   "cell_type": "code",
   "execution_count": 24,
   "metadata": {
    "collapsed": false
   },
   "outputs": [],
   "source": [
    "grouped = alt_exons_repetitive_df_families_index_subset.groupby(level=0)\n",
    "\n",
    "dfs = []\n",
    "\n",
    "for event_id, df in grouped:\n",
    "    if df.shape[0] == 1:\n",
    "        dfs.append(df)\n",
    "    else:\n",
    "        merged = pd.Series({k: ','.join(set(v)) for k, v in df.iteritems()})\n",
    "        merged.name = event_id\n",
    "        merged = merged.to_frame().T\n",
    "        dfs.append(merged)"
   ]
  },
  {
   "cell_type": "code",
   "execution_count": 25,
   "metadata": {
    "collapsed": false
   },
   "outputs": [
    {
     "data": {
      "text/html": [
       "<div>\n",
       "<table border=\"1\" class=\"dataframe\">\n",
       "  <thead>\n",
       "    <tr style=\"text-align: right;\">\n",
       "      <th></th>\n",
       "      <th>repetitive_element_dfam_class</th>\n",
       "      <th>repetitive_element_dfam_id</th>\n",
       "      <th>repetitive_element_dfam_superfamily</th>\n",
       "      <th>repetitive_element_dfam_type</th>\n",
       "    </tr>\n",
       "  </thead>\n",
       "  <tbody>\n",
       "    <tr>\n",
       "      <th>exon:chr9:88943255-88943407:-@exon:chr9:88941286-88941406:-@exon:chr9:88940249-88940429:-</th>\n",
       "      <td>SINE</td>\n",
       "      <td>MIR,MIRb</td>\n",
       "      <td>MIR</td>\n",
       "      <td>Retrotransposon</td>\n",
       "    </tr>\n",
       "  </tbody>\n",
       "</table>\n",
       "</div>"
      ],
      "text/plain": [
       "                                                   repetitive_element_dfam_class  \\\n",
       "exon:chr9:88943255-88943407:-@exon:chr9:8894128...                          SINE   \n",
       "\n",
       "                                                   repetitive_element_dfam_id  \\\n",
       "exon:chr9:88943255-88943407:-@exon:chr9:8894128...                   MIR,MIRb   \n",
       "\n",
       "                                                   repetitive_element_dfam_superfamily  \\\n",
       "exon:chr9:88943255-88943407:-@exon:chr9:8894128...                                 MIR   \n",
       "\n",
       "                                                   repetitive_element_dfam_type  \n",
       "exon:chr9:88943255-88943407:-@exon:chr9:8894128...              Retrotransposon  "
      ]
     },
     "execution_count": 25,
     "metadata": {},
     "output_type": "execute_result"
    }
   ],
   "source": [
    "merged"
   ]
  },
  {
   "cell_type": "code",
   "execution_count": 89,
   "metadata": {
    "collapsed": false
   },
   "outputs": [
    {
     "data": {
      "text/plain": [
       "repetitive_element_dfam_class                     SINE\n",
       "repetitive_element_dfam_id                      FLAM_A\n",
       "repetitive_element_dfam_superfamily                Alu\n",
       "repetitive_element_dfam_type           Retrotransposon\n",
       "dtype: object"
      ]
     },
     "execution_count": 89,
     "metadata": {},
     "output_type": "execute_result"
    }
   ],
   "source": [
    "pd.Series({k: ','.join(v) for k, v in df.iteritems()})"
   ]
  },
  {
   "cell_type": "code",
   "execution_count": 90,
   "metadata": {
    "collapsed": false
   },
   "outputs": [],
   "source": [
    "alt_exons_repetitive_df_families_index_merged = pd.concat(dfs)"
   ]
  },
  {
   "cell_type": "code",
   "execution_count": 91,
   "metadata": {
    "collapsed": false
   },
   "outputs": [
    {
     "data": {
      "text/html": [
       "<div>\n",
       "<table border=\"1\" class=\"dataframe\">\n",
       "  <thead>\n",
       "    <tr style=\"text-align: right;\">\n",
       "      <th></th>\n",
       "      <th>repetitive_element_dfam_class</th>\n",
       "      <th>repetitive_element_dfam_id</th>\n",
       "      <th>repetitive_element_dfam_superfamily</th>\n",
       "      <th>repetitive_element_dfam_type</th>\n",
       "    </tr>\n",
       "    <tr>\n",
       "      <th>event_id</th>\n",
       "      <th></th>\n",
       "      <th></th>\n",
       "      <th></th>\n",
       "      <th></th>\n",
       "    </tr>\n",
       "  </thead>\n",
       "  <tbody>\n",
       "    <tr>\n",
       "      <th>exon:chr10:103360960-103361093:+@exon:chr10:103364897-103364969:+@exon:chr10:103368592-103368694:+</th>\n",
       "      <td>Cut</td>\n",
       "      <td>MER91C</td>\n",
       "      <td>hAT-Tip100</td>\n",
       "      <td>DNA</td>\n",
       "    </tr>\n",
       "    <tr>\n",
       "      <th>exon:chr10:103360960-103361093:+@exon:chr10:103364897-103364969:+@exon:chr10:103368592-103368694:+@exon:chr10:103369124-103369425:+</th>\n",
       "      <td>Cut</td>\n",
       "      <td>MER91C</td>\n",
       "      <td>hAT-Tip100</td>\n",
       "      <td>DNA</td>\n",
       "    </tr>\n",
       "    <tr>\n",
       "      <th>exon:chr10:103360960-103361093:+@exon:chr10:103364897-103364969:+@exon:chr10:103368624-103368659:+</th>\n",
       "      <td>Cut</td>\n",
       "      <td>MER91C</td>\n",
       "      <td>hAT-Tip100</td>\n",
       "      <td>DNA</td>\n",
       "    </tr>\n",
       "    <tr>\n",
       "      <th>exon:chr10:103360960-103361093:+@exon:chr10:103364897-103364969:+@exon:chr10:103368624-103368694:+@exon:chr10:103369124-103369425:+</th>\n",
       "      <td>Cut</td>\n",
       "      <td>MER91C</td>\n",
       "      <td>hAT-Tip100</td>\n",
       "      <td>DNA</td>\n",
       "    </tr>\n",
       "    <tr>\n",
       "      <th>exon:chr10:103360960-103361093:+@exon:chr10:103364897-103364969:+@exon:chr10:103368624-103368801:+@exon:chr10:103369124-103369425:+</th>\n",
       "      <td>Cut</td>\n",
       "      <td>MER91C</td>\n",
       "      <td>hAT-Tip100</td>\n",
       "      <td>DNA</td>\n",
       "    </tr>\n",
       "  </tbody>\n",
       "</table>\n",
       "</div>"
      ],
      "text/plain": [
       "                                                   repetitive_element_dfam_class  \\\n",
       "event_id                                                                           \n",
       "exon:chr10:103360960-103361093:+@exon:chr10:103...                           Cut   \n",
       "exon:chr10:103360960-103361093:+@exon:chr10:103...                           Cut   \n",
       "exon:chr10:103360960-103361093:+@exon:chr10:103...                           Cut   \n",
       "exon:chr10:103360960-103361093:+@exon:chr10:103...                           Cut   \n",
       "exon:chr10:103360960-103361093:+@exon:chr10:103...                           Cut   \n",
       "\n",
       "                                                   repetitive_element_dfam_id  \\\n",
       "event_id                                                                        \n",
       "exon:chr10:103360960-103361093:+@exon:chr10:103...                     MER91C   \n",
       "exon:chr10:103360960-103361093:+@exon:chr10:103...                     MER91C   \n",
       "exon:chr10:103360960-103361093:+@exon:chr10:103...                     MER91C   \n",
       "exon:chr10:103360960-103361093:+@exon:chr10:103...                     MER91C   \n",
       "exon:chr10:103360960-103361093:+@exon:chr10:103...                     MER91C   \n",
       "\n",
       "                                                   repetitive_element_dfam_superfamily  \\\n",
       "event_id                                                                                 \n",
       "exon:chr10:103360960-103361093:+@exon:chr10:103...                          hAT-Tip100   \n",
       "exon:chr10:103360960-103361093:+@exon:chr10:103...                          hAT-Tip100   \n",
       "exon:chr10:103360960-103361093:+@exon:chr10:103...                          hAT-Tip100   \n",
       "exon:chr10:103360960-103361093:+@exon:chr10:103...                          hAT-Tip100   \n",
       "exon:chr10:103360960-103361093:+@exon:chr10:103...                          hAT-Tip100   \n",
       "\n",
       "                                                   repetitive_element_dfam_type  \n",
       "event_id                                                                         \n",
       "exon:chr10:103360960-103361093:+@exon:chr10:103...                          DNA  \n",
       "exon:chr10:103360960-103361093:+@exon:chr10:103...                          DNA  \n",
       "exon:chr10:103360960-103361093:+@exon:chr10:103...                          DNA  \n",
       "exon:chr10:103360960-103361093:+@exon:chr10:103...                          DNA  \n",
       "exon:chr10:103360960-103361093:+@exon:chr10:103...                          DNA  "
      ]
     },
     "execution_count": 91,
     "metadata": {},
     "output_type": "execute_result"
    }
   ],
   "source": [
    "alt_exons_repetitive_df_families_index_merged.head()"
   ]
  },
  {
   "cell_type": "code",
   "execution_count": 112,
   "metadata": {
    "collapsed": true
   },
   "outputs": [],
   "source": [
    "csv = 'repetitive_element_overlap.csv'\n",
    "alt_exons_repetitive_df_families_index_merged.to_csv('{}/{}'.format(alternative_feature_folder, csv))"
   ]
  },
  {
   "cell_type": "markdown",
   "metadata": {
    "collapsed": true
   },
   "source": [
    "## Same thing but for constitutive"
   ]
  },
  {
   "cell_type": "code",
   "execution_count": 103,
   "metadata": {
    "collapsed": false
   },
   "outputs": [
    {
     "name": "stdout",
     "output_type": "stream",
     "text": [
      "(76, 13)\n"
     ]
    },
    {
     "data": {
      "text/html": [
       "<div>\n",
       "<table border=\"1\" class=\"dataframe\">\n",
       "  <thead>\n",
       "    <tr style=\"text-align: right;\">\n",
       "      <th></th>\n",
       "      <th>0</th>\n",
       "      <th>1</th>\n",
       "      <th>2</th>\n",
       "      <th>3</th>\n",
       "      <th>4</th>\n",
       "      <th>5</th>\n",
       "      <th>6</th>\n",
       "      <th>7</th>\n",
       "      <th>8</th>\n",
       "      <th>9</th>\n",
       "      <th>10</th>\n",
       "      <th>11</th>\n",
       "      <th>12</th>\n",
       "    </tr>\n",
       "  </thead>\n",
       "  <tbody>\n",
       "    <tr>\n",
       "      <th>0</th>\n",
       "      <td>chr10</td>\n",
       "      <td>120797750</td>\n",
       "      <td>120797951</td>\n",
       "      <td>exon:chr10:120797750-120797951:-</td>\n",
       "      <td>1000</td>\n",
       "      <td>-</td>\n",
       "      <td>chr10</td>\n",
       "      <td>120797782</td>\n",
       "      <td>120797870</td>\n",
       "      <td>(TCTCTG)n</td>\n",
       "      <td>203</td>\n",
       "      <td>+</td>\n",
       "      <td>88</td>\n",
       "    </tr>\n",
       "    <tr>\n",
       "      <th>1</th>\n",
       "      <td>chr10</td>\n",
       "      <td>17277168</td>\n",
       "      <td>17278378</td>\n",
       "      <td>exon:chr10:17277168-17278378:+</td>\n",
       "      <td>1000</td>\n",
       "      <td>+</td>\n",
       "      <td>chr10</td>\n",
       "      <td>17277425</td>\n",
       "      <td>17277624</td>\n",
       "      <td>MIRb</td>\n",
       "      <td>500</td>\n",
       "      <td>-</td>\n",
       "      <td>199</td>\n",
       "    </tr>\n",
       "    <tr>\n",
       "      <th>2</th>\n",
       "      <td>chr11</td>\n",
       "      <td>57094177</td>\n",
       "      <td>57094988</td>\n",
       "      <td>exon:chr11:57094177-57094988:-</td>\n",
       "      <td>1000</td>\n",
       "      <td>-</td>\n",
       "      <td>chr11</td>\n",
       "      <td>57094513</td>\n",
       "      <td>57094778</td>\n",
       "      <td>Charlie16a</td>\n",
       "      <td>598</td>\n",
       "      <td>-</td>\n",
       "      <td>265</td>\n",
       "    </tr>\n",
       "    <tr>\n",
       "      <th>3</th>\n",
       "      <td>chr11</td>\n",
       "      <td>57095186</td>\n",
       "      <td>57095356</td>\n",
       "      <td>exon:chr11:57095186-57095356:-</td>\n",
       "      <td>1000</td>\n",
       "      <td>-</td>\n",
       "      <td>chr11</td>\n",
       "      <td>57095344</td>\n",
       "      <td>57095535</td>\n",
       "      <td>L2c</td>\n",
       "      <td>185</td>\n",
       "      <td>+</td>\n",
       "      <td>12</td>\n",
       "    </tr>\n",
       "    <tr>\n",
       "      <th>4</th>\n",
       "      <td>chr11</td>\n",
       "      <td>57095771</td>\n",
       "      <td>57097612</td>\n",
       "      <td>exon:chr11:57095771-57097612:-</td>\n",
       "      <td>1000</td>\n",
       "      <td>-</td>\n",
       "      <td>chr11</td>\n",
       "      <td>57096330</td>\n",
       "      <td>57096435</td>\n",
       "      <td>U13</td>\n",
       "      <td>743</td>\n",
       "      <td>-</td>\n",
       "      <td>105</td>\n",
       "    </tr>\n",
       "  </tbody>\n",
       "</table>\n",
       "</div>"
      ],
      "text/plain": [
       "      0          1          2                                 3     4  5   \\\n",
       "0  chr10  120797750  120797951  exon:chr10:120797750-120797951:-  1000  -   \n",
       "1  chr10   17277168   17278378    exon:chr10:17277168-17278378:+  1000  +   \n",
       "2  chr11   57094177   57094988    exon:chr11:57094177-57094988:-  1000  -   \n",
       "3  chr11   57095186   57095356    exon:chr11:57095186-57095356:-  1000  -   \n",
       "4  chr11   57095771   57097612    exon:chr11:57095771-57097612:-  1000  -   \n",
       "\n",
       "      6          7          8           9    10 11   12  \n",
       "0  chr10  120797782  120797870   (TCTCTG)n  203  +   88  \n",
       "1  chr10   17277425   17277624        MIRb  500  -  199  \n",
       "2  chr11   57094513   57094778  Charlie16a  598  -  265  \n",
       "3  chr11   57095344   57095535         L2c  185  +   12  \n",
       "4  chr11   57096330   57096435         U13  743  -  105  "
      ]
     },
     "execution_count": 103,
     "metadata": {},
     "output_type": "execute_result"
    }
   ],
   "source": [
    "constitutive_repetitive_df = pd.read_table(six.StringIO('\\n'.join(str(x) for x in constitutive_repetitive)), header=None)\n",
    "six.print_(constitutive_repetitive_df.shape)\n",
    "constitutive_repetitive_df.head()"
   ]
  },
  {
   "cell_type": "code",
   "execution_count": 104,
   "metadata": {
    "collapsed": false
   },
   "outputs": [
    {
     "data": {
      "text/plain": [
       "0.01216"
      ]
     },
     "execution_count": 104,
     "metadata": {},
     "output_type": "execute_result"
    }
   ],
   "source": [
    "len(constitutive_repetitive)/float(len(constitutive_exons))"
   ]
  },
  {
   "cell_type": "code",
   "execution_count": 105,
   "metadata": {
    "collapsed": false
   },
   "outputs": [
    {
     "data": {
      "text/html": [
       "<div>\n",
       "<table border=\"1\" class=\"dataframe\">\n",
       "  <thead>\n",
       "    <tr style=\"text-align: right;\">\n",
       "      <th></th>\n",
       "      <th>0</th>\n",
       "      <th>1</th>\n",
       "      <th>2</th>\n",
       "      <th>3</th>\n",
       "      <th>4</th>\n",
       "      <th>5</th>\n",
       "      <th>6</th>\n",
       "      <th>7</th>\n",
       "      <th>8</th>\n",
       "      <th>9</th>\n",
       "      <th>10</th>\n",
       "      <th>11</th>\n",
       "      <th>12</th>\n",
       "      <th>repetitive_element_dfam_id</th>\n",
       "      <th>repetitive_element_dfam_type</th>\n",
       "      <th>repetitive_element_dfam_class</th>\n",
       "      <th>repetitive_element_dfam_superfamily</th>\n",
       "    </tr>\n",
       "  </thead>\n",
       "  <tbody>\n",
       "    <tr>\n",
       "      <th>0</th>\n",
       "      <td>chr10</td>\n",
       "      <td>17277168</td>\n",
       "      <td>17278378</td>\n",
       "      <td>exon:chr10:17277168-17278378:+</td>\n",
       "      <td>1000</td>\n",
       "      <td>+</td>\n",
       "      <td>chr10</td>\n",
       "      <td>17277425</td>\n",
       "      <td>17277624</td>\n",
       "      <td>MIRb</td>\n",
       "      <td>500</td>\n",
       "      <td>-</td>\n",
       "      <td>199</td>\n",
       "      <td>MIRb</td>\n",
       "      <td>Retrotransposon</td>\n",
       "      <td>SINE</td>\n",
       "      <td>MIR</td>\n",
       "    </tr>\n",
       "    <tr>\n",
       "      <th>1</th>\n",
       "      <td>chr8</td>\n",
       "      <td>20070293</td>\n",
       "      <td>20074835</td>\n",
       "      <td>exon:chr8:20070293-20074835:+</td>\n",
       "      <td>1000</td>\n",
       "      <td>+</td>\n",
       "      <td>chr8</td>\n",
       "      <td>20071779</td>\n",
       "      <td>20071906</td>\n",
       "      <td>MIRb</td>\n",
       "      <td>481</td>\n",
       "      <td>+</td>\n",
       "      <td>127</td>\n",
       "      <td>MIRb</td>\n",
       "      <td>Retrotransposon</td>\n",
       "      <td>SINE</td>\n",
       "      <td>MIR</td>\n",
       "    </tr>\n",
       "    <tr>\n",
       "      <th>2</th>\n",
       "      <td>chr11</td>\n",
       "      <td>57094177</td>\n",
       "      <td>57094988</td>\n",
       "      <td>exon:chr11:57094177-57094988:-</td>\n",
       "      <td>1000</td>\n",
       "      <td>-</td>\n",
       "      <td>chr11</td>\n",
       "      <td>57094513</td>\n",
       "      <td>57094778</td>\n",
       "      <td>Charlie16a</td>\n",
       "      <td>598</td>\n",
       "      <td>-</td>\n",
       "      <td>265</td>\n",
       "      <td>Charlie16a</td>\n",
       "      <td>DNA</td>\n",
       "      <td>Cut</td>\n",
       "      <td>hAT-Charlie</td>\n",
       "    </tr>\n",
       "    <tr>\n",
       "      <th>3</th>\n",
       "      <td>chr11</td>\n",
       "      <td>57095771</td>\n",
       "      <td>57097612</td>\n",
       "      <td>exon:chr11:57095771-57097612:-</td>\n",
       "      <td>1000</td>\n",
       "      <td>-</td>\n",
       "      <td>chr11</td>\n",
       "      <td>57096330</td>\n",
       "      <td>57096435</td>\n",
       "      <td>U13</td>\n",
       "      <td>743</td>\n",
       "      <td>-</td>\n",
       "      <td>105</td>\n",
       "      <td>U13</td>\n",
       "      <td>ncRNA</td>\n",
       "      <td>snoRNA</td>\n",
       "      <td>U14</td>\n",
       "    </tr>\n",
       "    <tr>\n",
       "      <th>4</th>\n",
       "      <td>chr11</td>\n",
       "      <td>57095771</td>\n",
       "      <td>57097612</td>\n",
       "      <td>exon:chr11:57095771-57097612:-</td>\n",
       "      <td>1000</td>\n",
       "      <td>-</td>\n",
       "      <td>chr11</td>\n",
       "      <td>57096560</td>\n",
       "      <td>57096649</td>\n",
       "      <td>MIRc</td>\n",
       "      <td>240</td>\n",
       "      <td>-</td>\n",
       "      <td>89</td>\n",
       "      <td>MIRc</td>\n",
       "      <td>Retrotransposon</td>\n",
       "      <td>SINE</td>\n",
       "      <td>MIR</td>\n",
       "    </tr>\n",
       "  </tbody>\n",
       "</table>\n",
       "</div>"
      ],
      "text/plain": [
       "       0         1         2                               3     4  5      6  \\\n",
       "0  chr10  17277168  17278378  exon:chr10:17277168-17278378:+  1000  +  chr10   \n",
       "1   chr8  20070293  20074835   exon:chr8:20070293-20074835:+  1000  +   chr8   \n",
       "2  chr11  57094177  57094988  exon:chr11:57094177-57094988:-  1000  -  chr11   \n",
       "3  chr11  57095771  57097612  exon:chr11:57095771-57097612:-  1000  -  chr11   \n",
       "4  chr11  57095771  57097612  exon:chr11:57095771-57097612:-  1000  -  chr11   \n",
       "\n",
       "          7         8           9   10 11   12 repetitive_element_dfam_id  \\\n",
       "0  17277425  17277624        MIRb  500  -  199                       MIRb   \n",
       "1  20071779  20071906        MIRb  481  +  127                       MIRb   \n",
       "2  57094513  57094778  Charlie16a  598  -  265                 Charlie16a   \n",
       "3  57096330  57096435         U13  743  -  105                        U13   \n",
       "4  57096560  57096649        MIRc  240  -   89                       MIRc   \n",
       "\n",
       "  repetitive_element_dfam_type repetitive_element_dfam_class  \\\n",
       "0              Retrotransposon                          SINE   \n",
       "1              Retrotransposon                          SINE   \n",
       "2                          DNA                           Cut   \n",
       "3                        ncRNA                        snoRNA   \n",
       "4              Retrotransposon                          SINE   \n",
       "\n",
       "  repetitive_element_dfam_superfamily  \n",
       "0                                 MIR  \n",
       "1                                 MIR  \n",
       "2                         hAT-Charlie  \n",
       "3                                 U14  \n",
       "4                                 MIR  "
      ]
     },
     "execution_count": 105,
     "metadata": {},
     "output_type": "execute_result"
    }
   ],
   "source": [
    "constitutive_repetitive_df_families = constitutive_repetitive_df.merge(\n",
    "    dfam_metadata, left_on=9, right_on='repetitive_element_dfam_id')\n",
    "constitutive_repetitive_df_families.head()"
   ]
  },
  {
   "cell_type": "code",
   "execution_count": 110,
   "metadata": {
    "collapsed": false
   },
   "outputs": [
    {
     "data": {
      "text/html": [
       "<div>\n",
       "<table border=\"1\" class=\"dataframe\">\n",
       "  <thead>\n",
       "    <tr style=\"text-align: right;\">\n",
       "      <th></th>\n",
       "      <th>repetitive_element_dfam_id</th>\n",
       "      <th>repetitive_element_dfam_type</th>\n",
       "      <th>repetitive_element_dfam_class</th>\n",
       "      <th>repetitive_element_dfam_superfamily</th>\n",
       "    </tr>\n",
       "    <tr>\n",
       "      <th>event_id</th>\n",
       "      <th></th>\n",
       "      <th></th>\n",
       "      <th></th>\n",
       "      <th></th>\n",
       "    </tr>\n",
       "  </thead>\n",
       "  <tbody>\n",
       "    <tr>\n",
       "      <th>exon:chr10:17277168-17278378:+</th>\n",
       "      <td>MIRb</td>\n",
       "      <td>Retrotransposon</td>\n",
       "      <td>SINE</td>\n",
       "      <td>MIR</td>\n",
       "    </tr>\n",
       "    <tr>\n",
       "      <th>exon:chr8:20070293-20074835:+</th>\n",
       "      <td>MIRb</td>\n",
       "      <td>Retrotransposon</td>\n",
       "      <td>SINE</td>\n",
       "      <td>MIR</td>\n",
       "    </tr>\n",
       "    <tr>\n",
       "      <th>exon:chr11:57094177-57094988:-</th>\n",
       "      <td>Charlie16a</td>\n",
       "      <td>DNA</td>\n",
       "      <td>Cut</td>\n",
       "      <td>hAT-Charlie</td>\n",
       "    </tr>\n",
       "    <tr>\n",
       "      <th>exon:chr11:57095771-57097612:-</th>\n",
       "      <td>U13</td>\n",
       "      <td>ncRNA</td>\n",
       "      <td>snoRNA</td>\n",
       "      <td>U14</td>\n",
       "    </tr>\n",
       "    <tr>\n",
       "      <th>exon:chr11:57095771-57097612:-</th>\n",
       "      <td>MIRc</td>\n",
       "      <td>Retrotransposon</td>\n",
       "      <td>SINE</td>\n",
       "      <td>MIR</td>\n",
       "    </tr>\n",
       "  </tbody>\n",
       "</table>\n",
       "</div>"
      ],
      "text/plain": [
       "                               repetitive_element_dfam_id  \\\n",
       "event_id                                                    \n",
       "exon:chr10:17277168-17278378:+                       MIRb   \n",
       "exon:chr8:20070293-20074835:+                        MIRb   \n",
       "exon:chr11:57094177-57094988:-                 Charlie16a   \n",
       "exon:chr11:57095771-57097612:-                        U13   \n",
       "exon:chr11:57095771-57097612:-                       MIRc   \n",
       "\n",
       "                               repetitive_element_dfam_type  \\\n",
       "event_id                                                      \n",
       "exon:chr10:17277168-17278378:+              Retrotransposon   \n",
       "exon:chr8:20070293-20074835:+               Retrotransposon   \n",
       "exon:chr11:57094177-57094988:-                          DNA   \n",
       "exon:chr11:57095771-57097612:-                        ncRNA   \n",
       "exon:chr11:57095771-57097612:-              Retrotransposon   \n",
       "\n",
       "                               repetitive_element_dfam_class  \\\n",
       "event_id                                                       \n",
       "exon:chr10:17277168-17278378:+                          SINE   \n",
       "exon:chr8:20070293-20074835:+                           SINE   \n",
       "exon:chr11:57094177-57094988:-                           Cut   \n",
       "exon:chr11:57095771-57097612:-                        snoRNA   \n",
       "exon:chr11:57095771-57097612:-                          SINE   \n",
       "\n",
       "                               repetitive_element_dfam_superfamily  \n",
       "event_id                                                            \n",
       "exon:chr10:17277168-17278378:+                                 MIR  \n",
       "exon:chr8:20070293-20074835:+                                  MIR  \n",
       "exon:chr11:57094177-57094988:-                         hAT-Charlie  \n",
       "exon:chr11:57095771-57097612:-                                 U14  \n",
       "exon:chr11:57095771-57097612:-                                 MIR  "
      ]
     },
     "execution_count": 110,
     "metadata": {},
     "output_type": "execute_result"
    }
   ],
   "source": [
    "constitutive_repetitive_df_families_index = constitutive_repetitive_df_families.set_index(3)\n",
    "constitutive_repetitive_df_families_index.index.name = 'event_id'\n",
    "constitutive_repetitive_df_families_index_subset = constitutive_repetitive_df_families_index[dfam_metadata.columns]\n",
    "constitutive_repetitive_df_families_index_subset.head()"
   ]
  },
  {
   "cell_type": "code",
   "execution_count": 111,
   "metadata": {
    "collapsed": false
   },
   "outputs": [
    {
     "data": {
      "text/html": [
       "<div>\n",
       "<table border=\"1\" class=\"dataframe\">\n",
       "  <thead>\n",
       "    <tr style=\"text-align: right;\">\n",
       "      <th></th>\n",
       "      <th>repetitive_element_dfam_class</th>\n",
       "      <th>repetitive_element_dfam_id</th>\n",
       "      <th>repetitive_element_dfam_superfamily</th>\n",
       "      <th>repetitive_element_dfam_type</th>\n",
       "    </tr>\n",
       "    <tr>\n",
       "      <th>event_id</th>\n",
       "      <th></th>\n",
       "      <th></th>\n",
       "      <th></th>\n",
       "      <th></th>\n",
       "    </tr>\n",
       "  </thead>\n",
       "  <tbody>\n",
       "    <tr>\n",
       "      <th>exon:chr10:17277168-17278378:+</th>\n",
       "      <td>SINE</td>\n",
       "      <td>MIRb</td>\n",
       "      <td>MIR</td>\n",
       "      <td>Retrotransposon</td>\n",
       "    </tr>\n",
       "    <tr>\n",
       "      <th>exon:chr11:57094177-57094988:-</th>\n",
       "      <td>Cut</td>\n",
       "      <td>Charlie16a</td>\n",
       "      <td>hAT-Charlie</td>\n",
       "      <td>DNA</td>\n",
       "    </tr>\n",
       "    <tr>\n",
       "      <th>exon:chr11:57095771-57097612:-</th>\n",
       "      <td>snoRNA,SINE,LTR</td>\n",
       "      <td>U13,MLT1K,MIRc</td>\n",
       "      <td>ERVL-MaLR,MIR,U14</td>\n",
       "      <td>ncRNA,Retrotransposon</td>\n",
       "    </tr>\n",
       "    <tr>\n",
       "      <th>exon:chr14:24614588-24615449:-</th>\n",
       "      <td>SINE</td>\n",
       "      <td>MIR3</td>\n",
       "      <td>MIR</td>\n",
       "      <td>Retrotransposon</td>\n",
       "    </tr>\n",
       "    <tr>\n",
       "      <th>exon:chr14:94521342-94524243:-</th>\n",
       "      <td>LTR,Cut,SINE</td>\n",
       "      <td>MIR,MER117,MER21B</td>\n",
       "      <td>MIR,ERVL,hAT-Charlie</td>\n",
       "      <td>Retrotransposon,DNA</td>\n",
       "    </tr>\n",
       "  </tbody>\n",
       "</table>\n",
       "</div>"
      ],
      "text/plain": [
       "                               repetitive_element_dfam_class  \\\n",
       "event_id                                                       \n",
       "exon:chr10:17277168-17278378:+                          SINE   \n",
       "exon:chr11:57094177-57094988:-                           Cut   \n",
       "exon:chr11:57095771-57097612:-               snoRNA,SINE,LTR   \n",
       "exon:chr14:24614588-24615449:-                          SINE   \n",
       "exon:chr14:94521342-94524243:-                  LTR,Cut,SINE   \n",
       "\n",
       "                               repetitive_element_dfam_id  \\\n",
       "event_id                                                    \n",
       "exon:chr10:17277168-17278378:+                       MIRb   \n",
       "exon:chr11:57094177-57094988:-                 Charlie16a   \n",
       "exon:chr11:57095771-57097612:-             U13,MLT1K,MIRc   \n",
       "exon:chr14:24614588-24615449:-                       MIR3   \n",
       "exon:chr14:94521342-94524243:-          MIR,MER117,MER21B   \n",
       "\n",
       "                               repetitive_element_dfam_superfamily  \\\n",
       "event_id                                                             \n",
       "exon:chr10:17277168-17278378:+                                 MIR   \n",
       "exon:chr11:57094177-57094988:-                         hAT-Charlie   \n",
       "exon:chr11:57095771-57097612:-                   ERVL-MaLR,MIR,U14   \n",
       "exon:chr14:24614588-24615449:-                                 MIR   \n",
       "exon:chr14:94521342-94524243:-                MIR,ERVL,hAT-Charlie   \n",
       "\n",
       "                               repetitive_element_dfam_type  \n",
       "event_id                                                     \n",
       "exon:chr10:17277168-17278378:+              Retrotransposon  \n",
       "exon:chr11:57094177-57094988:-                          DNA  \n",
       "exon:chr11:57095771-57097612:-        ncRNA,Retrotransposon  \n",
       "exon:chr14:24614588-24615449:-              Retrotransposon  \n",
       "exon:chr14:94521342-94524243:-          Retrotransposon,DNA  "
      ]
     },
     "execution_count": 111,
     "metadata": {},
     "output_type": "execute_result"
    }
   ],
   "source": [
    "grouped = constitutive_repetitive_df_families_index_subset.groupby(level=0)\n",
    "\n",
    "dfs = []\n",
    "\n",
    "for event_id, df in grouped:\n",
    "    if df.shape[0] == 1:\n",
    "        dfs.append(df)\n",
    "    else:\n",
    "        merged = pd.Series({k: ','.join(set(v)) for k, v in df.iteritems()})\n",
    "        merged.name = event_id\n",
    "        merged = merged.to_frame().T\n",
    "        dfs.append(merged)\n",
    "constitutive_repetitive_df_families_index_merged = pd.concat(dfs)\n",
    "constitutive_repetitive_df_families_index_merged.head()"
   ]
  },
  {
   "cell_type": "code",
   "execution_count": 113,
   "metadata": {
    "collapsed": true
   },
   "outputs": [],
   "source": [
    "constitutive_repetitive_df_families_index_merged.to_csv('{}/{}'.format(constitutive_feature_folder, csv))"
   ]
  }
 ],
 "metadata": {
  "kernelspec": {
   "display_name": "Python 2",
   "language": "python",
   "name": "python2"
  },
  "language_info": {
   "codemirror_mode": {
    "name": "ipython",
    "version": 2
   },
   "file_extension": ".py",
   "mimetype": "text/x-python",
   "name": "python",
   "nbconvert_exporter": "python",
   "pygments_lexer": "ipython2",
   "version": "2.7.11"
  }
 },
 "nbformat": 4,
 "nbformat_minor": 0
}
