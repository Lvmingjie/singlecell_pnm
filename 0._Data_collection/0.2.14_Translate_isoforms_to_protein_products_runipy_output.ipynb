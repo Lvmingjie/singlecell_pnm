{
 "metadata": {
  "kernelspec": {
   "display_name": "Python 2",
   "language": "python",
   "name": "python2"
  },
  "language_info": {
   "codemirror_mode": {
    "name": "ipython",
    "version": 2
   },
   "file_extension": ".py",
   "mimetype": "text/x-python",
   "name": "python",
   "nbconvert_exporter": "python",
   "pygments_lexer": "ipython2",
   "version": "2.7.11"
  },
  "name": ""
 },
 "nbformat": 3,
 "nbformat_minor": 0,
 "worksheets": [
  {
   "cells": [
    {
     "cell_type": "heading",
     "level": 1,
     "metadata": {},
     "source": [
      "Translate isoforms to get protein products"
     ]
    },
    {
     "cell_type": "code",
     "collapsed": false,
     "input": [
      "%load_ext autoreload\n",
      "%autoreload 2\n",
      "\n",
      "import pandas as pd\n",
      "import gffutils\n",
      "import pybedtools\n",
      "import re\n",
      "import numpy as np\n",
      "\n",
      "v19db_filename = '/home/obotvinnik/scratch/genomes/hg19/gencode/v19/gencode.v19.annotation.gtf.db'\n",
      "v19db = gffutils.FeatureDB(v19db_filename)\n",
      "\n",
      "folder = '/projects/ps-yeolab/obotvinnik/singlecell_pnms'\n",
      "csv_folder = '{}/csvs_for_paper/'.format(folder)\n",
      "\n",
      "\n",
      "splicing_feature_folder = '{}/splicing_feature_data'.format(csv_folder)\n",
      "alternative_feature_folder = '{}/alternative'.format(splicing_feature_folder)\n",
      "constitutive_feature_folder = '{}/constitutive'.format(splicing_feature_folder)"
     ],
     "language": "python",
     "metadata": {},
     "outputs": [
      {
       "output_type": "stream",
       "stream": "stderr",
       "text": [
        "/home/obotvinnik/anaconda/lib/python2.7/site-packages/matplotlib/__init__.py:810: UserWarning: Found matplotlib configuration in ~/.matplotlib/. To conform with the XDG base directory standard, this configuration location has been deprecated on Linux, and the new location is now /home/obotvinnik/.config/matplotlib/. Please move your configuration there to ensure that matplotlib will continue to find it in the future.\n",
        "  _get_xdg_config_dir())\n"
       ]
      }
     ],
     "prompt_number": 1
    },
    {
     "cell_type": "code",
     "collapsed": false,
     "input": [
      "splicing_feature_data = pd.read_csv('{}/splicing_feature_data.csv'.format(csv_folder), index_col=0)"
     ],
     "language": "python",
     "metadata": {},
     "outputs": [
      {
       "output_type": "stream",
       "stream": "stderr",
       "text": [
        "/home/obotvinnik/anaconda/lib/python2.7/site-packages/IPython/core/interactiveshell.py:2723: DtypeWarning: Columns (19) have mixed types. Specify dtype option on import or set low_memory=False.\n",
        "  interactivity=interactivity, compiler=compiler, result=result)\n"
       ]
      }
     ],
     "prompt_number": 2
    },
    {
     "cell_type": "code",
     "collapsed": false,
     "input": [
      "splicing_feature_data.head()"
     ],
     "language": "python",
     "metadata": {},
     "outputs": [
      {
       "html": [
        "<div>\n",
        "<table border=\"1\" class=\"dataframe\">\n",
        "  <thead>\n",
        "    <tr style=\"text-align: right;\">\n",
        "      <th></th>\n",
        "      <th>Unnamed: 0</th>\n",
        "      <th>criteria</th>\n",
        "      <th>criteria_additional</th>\n",
        "      <th>criteria_full</th>\n",
        "      <th>ensembl_id</th>\n",
        "      <th>exon1</th>\n",
        "      <th>exon1_length</th>\n",
        "      <th>exon2</th>\n",
        "      <th>exon2_length</th>\n",
        "      <th>exon3</th>\n",
        "      <th>...</th>\n",
        "      <th>junction12</th>\n",
        "      <th>junction13</th>\n",
        "      <th>junction23</th>\n",
        "      <th>junction24</th>\n",
        "      <th>junction34</th>\n",
        "      <th>strand</th>\n",
        "      <th>transcript_id</th>\n",
        "      <th>exon2_divisible_by_3</th>\n",
        "      <th>one_ensembl_id</th>\n",
        "      <th>splice_type</th>\n",
        "    </tr>\n",
        "    <tr>\n",
        "      <th>event_id</th>\n",
        "      <th></th>\n",
        "      <th></th>\n",
        "      <th></th>\n",
        "      <th></th>\n",
        "      <th></th>\n",
        "      <th></th>\n",
        "      <th></th>\n",
        "      <th></th>\n",
        "      <th></th>\n",
        "      <th></th>\n",
        "      <th></th>\n",
        "      <th></th>\n",
        "      <th></th>\n",
        "      <th></th>\n",
        "      <th></th>\n",
        "      <th></th>\n",
        "      <th></th>\n",
        "      <th></th>\n",
        "      <th></th>\n",
        "      <th></th>\n",
        "      <th></th>\n",
        "    </tr>\n",
        "  </thead>\n",
        "  <tbody>\n",
        "    <tr>\n",
        "      <th>exon:chr10:100190328-100190427:-@exon:chr10:100189548-100189646:-@exon:chr10:100189330-100189399:-</th>\n",
        "      <td>NaN</td>\n",
        "      <td>best</td>\n",
        "      <td>appris_principal</td>\n",
        "      <td>best,appris_principal</td>\n",
        "      <td>ENSG00000107521</td>\n",
        "      <td>exon:chr10:100190328-100190427:-</td>\n",
        "      <td>100</td>\n",
        "      <td>exon:chr10:100189548-100189646:-</td>\n",
        "      <td>99</td>\n",
        "      <td>exon:chr10:100189330-100189399:-</td>\n",
        "      <td>...</td>\n",
        "      <td>chr10:100189647-100190327:-</td>\n",
        "      <td>chr10:100189400-100190327:-</td>\n",
        "      <td>chr10:100189400-100189547:-</td>\n",
        "      <td>NaN</td>\n",
        "      <td>NaN</td>\n",
        "      <td>-</td>\n",
        "      <td>ENST00000361490.4,ENST00000414009.1,ENST000003...</td>\n",
        "      <td>True</td>\n",
        "      <td>ENSG00000107521</td>\n",
        "      <td>SE</td>\n",
        "    </tr>\n",
        "    <tr>\n",
        "      <th>exon:chr10:100193697-100193848:-@exon:chr10:100190888-100191048:-@exon:chr10:100190328-100190427:-</th>\n",
        "      <td>NaN</td>\n",
        "      <td>only one</td>\n",
        "      <td>NaN</td>\n",
        "      <td>only one</td>\n",
        "      <td>ENSG00000107521</td>\n",
        "      <td>exon:chr10:100193697-100193848:-</td>\n",
        "      <td>152</td>\n",
        "      <td>exon:chr10:100190888-100191048:-</td>\n",
        "      <td>161</td>\n",
        "      <td>exon:chr10:100190328-100190427:-</td>\n",
        "      <td>...</td>\n",
        "      <td>chr10:100191049-100193696:-</td>\n",
        "      <td>chr10:100190428-100193696:-</td>\n",
        "      <td>chr10:100190428-100190887:-</td>\n",
        "      <td>NaN</td>\n",
        "      <td>NaN</td>\n",
        "      <td>-</td>\n",
        "      <td>ENST00000361490.4,ENST00000414009.1,ENST000003...</td>\n",
        "      <td>False</td>\n",
        "      <td>ENSG00000107521</td>\n",
        "      <td>SE</td>\n",
        "    </tr>\n",
        "    <tr>\n",
        "      <th>exon:chr10:100195392-100195529:-@exon:chr10:100195029-100195171:-@exon:chr10:100193697-100193848:-</th>\n",
        "      <td>NaN</td>\n",
        "      <td>best</td>\n",
        "      <td>appris_principal</td>\n",
        "      <td>best,appris_principal</td>\n",
        "      <td>ENSG00000107521</td>\n",
        "      <td>exon:chr10:100195392-100195529:-</td>\n",
        "      <td>138</td>\n",
        "      <td>exon:chr10:100195029-100195171:-</td>\n",
        "      <td>143</td>\n",
        "      <td>exon:chr10:100193697-100193848:-</td>\n",
        "      <td>...</td>\n",
        "      <td>chr10:100195172-100195391:-</td>\n",
        "      <td>chr10:100193849-100195391:-</td>\n",
        "      <td>chr10:100193849-100195028:-</td>\n",
        "      <td>NaN</td>\n",
        "      <td>NaN</td>\n",
        "      <td>-</td>\n",
        "      <td>ENST00000361490.4,ENST00000325103.6,ENST000004...</td>\n",
        "      <td>False</td>\n",
        "      <td>ENSG00000107521</td>\n",
        "      <td>SE</td>\n",
        "    </tr>\n",
        "    <tr>\n",
        "      <th>exon:chr10:101165513-101165617:-@exon:chr10:101163481-101163631:-@exon:chr10:101163226-101163391:-</th>\n",
        "      <td>NaN</td>\n",
        "      <td>only one</td>\n",
        "      <td>NaN</td>\n",
        "      <td>only one</td>\n",
        "      <td>ENSG00000120053</td>\n",
        "      <td>exon:chr10:101165513-101165617:-</td>\n",
        "      <td>105</td>\n",
        "      <td>exon:chr10:101163481-101163631:-</td>\n",
        "      <td>151</td>\n",
        "      <td>exon:chr10:101163226-101163391:-</td>\n",
        "      <td>...</td>\n",
        "      <td>chr10:101163632-101165512:-</td>\n",
        "      <td>chr10:101163392-101165512:-</td>\n",
        "      <td>chr10:101163392-101163480:-</td>\n",
        "      <td>NaN</td>\n",
        "      <td>NaN</td>\n",
        "      <td>-</td>\n",
        "      <td>ENST00000543866.1,ENST00000370508.5</td>\n",
        "      <td>False</td>\n",
        "      <td>ENSG00000120053</td>\n",
        "      <td>SE</td>\n",
        "    </tr>\n",
        "    <tr>\n",
        "      <th>exon:chr10:101419263-101419345:+@exon:chr10:101419619-101419721:+@exon:chr10:101421203-101421385:+</th>\n",
        "      <td>NaN</td>\n",
        "      <td>only one</td>\n",
        "      <td>NaN</td>\n",
        "      <td>only one</td>\n",
        "      <td>ENSG00000198018</td>\n",
        "      <td>exon:chr10:101419263-101419345:+</td>\n",
        "      <td>83</td>\n",
        "      <td>exon:chr10:101419619-101419721:+</td>\n",
        "      <td>103</td>\n",
        "      <td>exon:chr10:101421203-101421385:+</td>\n",
        "      <td>...</td>\n",
        "      <td>chr10:101419346-101419618:+</td>\n",
        "      <td>chr10:101419346-101421202:+</td>\n",
        "      <td>chr10:101419722-101421202:+</td>\n",
        "      <td>NaN</td>\n",
        "      <td>NaN</td>\n",
        "      <td>+</td>\n",
        "      <td>ENST00000370489.4</td>\n",
        "      <td>False</td>\n",
        "      <td>ENSG00000198018</td>\n",
        "      <td>SE</td>\n",
        "    </tr>\n",
        "  </tbody>\n",
        "</table>\n",
        "<p>5 rows \u00d7 26 columns</p>\n",
        "</div>"
       ],
       "output_type": "pyout",
       "prompt_number": 3,
       "text": [
        "                                                    Unnamed: 0  criteria  \\\n",
        "event_id                                                                   \n",
        "exon:chr10:100190328-100190427:-@exon:chr10:100...         NaN      best   \n",
        "exon:chr10:100193697-100193848:-@exon:chr10:100...         NaN  only one   \n",
        "exon:chr10:100195392-100195529:-@exon:chr10:100...         NaN      best   \n",
        "exon:chr10:101165513-101165617:-@exon:chr10:101...         NaN  only one   \n",
        "exon:chr10:101419263-101419345:+@exon:chr10:101...         NaN  only one   \n",
        "\n",
        "                                                   criteria_additional  \\\n",
        "event_id                                                                 \n",
        "exon:chr10:100190328-100190427:-@exon:chr10:100...    appris_principal   \n",
        "exon:chr10:100193697-100193848:-@exon:chr10:100...                 NaN   \n",
        "exon:chr10:100195392-100195529:-@exon:chr10:100...    appris_principal   \n",
        "exon:chr10:101165513-101165617:-@exon:chr10:101...                 NaN   \n",
        "exon:chr10:101419263-101419345:+@exon:chr10:101...                 NaN   \n",
        "\n",
        "                                                            criteria_full  \\\n",
        "event_id                                                                    \n",
        "exon:chr10:100190328-100190427:-@exon:chr10:100...  best,appris_principal   \n",
        "exon:chr10:100193697-100193848:-@exon:chr10:100...               only one   \n",
        "exon:chr10:100195392-100195529:-@exon:chr10:100...  best,appris_principal   \n",
        "exon:chr10:101165513-101165617:-@exon:chr10:101...               only one   \n",
        "exon:chr10:101419263-101419345:+@exon:chr10:101...               only one   \n",
        "\n",
        "                                                         ensembl_id  \\\n",
        "event_id                                                              \n",
        "exon:chr10:100190328-100190427:-@exon:chr10:100...  ENSG00000107521   \n",
        "exon:chr10:100193697-100193848:-@exon:chr10:100...  ENSG00000107521   \n",
        "exon:chr10:100195392-100195529:-@exon:chr10:100...  ENSG00000107521   \n",
        "exon:chr10:101165513-101165617:-@exon:chr10:101...  ENSG00000120053   \n",
        "exon:chr10:101419263-101419345:+@exon:chr10:101...  ENSG00000198018   \n",
        "\n",
        "                                                                               exon1  \\\n",
        "event_id                                                                               \n",
        "exon:chr10:100190328-100190427:-@exon:chr10:100...  exon:chr10:100190328-100190427:-   \n",
        "exon:chr10:100193697-100193848:-@exon:chr10:100...  exon:chr10:100193697-100193848:-   \n",
        "exon:chr10:100195392-100195529:-@exon:chr10:100...  exon:chr10:100195392-100195529:-   \n",
        "exon:chr10:101165513-101165617:-@exon:chr10:101...  exon:chr10:101165513-101165617:-   \n",
        "exon:chr10:101419263-101419345:+@exon:chr10:101...  exon:chr10:101419263-101419345:+   \n",
        "\n",
        "                                                    exon1_length  \\\n",
        "event_id                                                           \n",
        "exon:chr10:100190328-100190427:-@exon:chr10:100...           100   \n",
        "exon:chr10:100193697-100193848:-@exon:chr10:100...           152   \n",
        "exon:chr10:100195392-100195529:-@exon:chr10:100...           138   \n",
        "exon:chr10:101165513-101165617:-@exon:chr10:101...           105   \n",
        "exon:chr10:101419263-101419345:+@exon:chr10:101...            83   \n",
        "\n",
        "                                                                               exon2  \\\n",
        "event_id                                                                               \n",
        "exon:chr10:100190328-100190427:-@exon:chr10:100...  exon:chr10:100189548-100189646:-   \n",
        "exon:chr10:100193697-100193848:-@exon:chr10:100...  exon:chr10:100190888-100191048:-   \n",
        "exon:chr10:100195392-100195529:-@exon:chr10:100...  exon:chr10:100195029-100195171:-   \n",
        "exon:chr10:101165513-101165617:-@exon:chr10:101...  exon:chr10:101163481-101163631:-   \n",
        "exon:chr10:101419263-101419345:+@exon:chr10:101...  exon:chr10:101419619-101419721:+   \n",
        "\n",
        "                                                    exon2_length  \\\n",
        "event_id                                                           \n",
        "exon:chr10:100190328-100190427:-@exon:chr10:100...            99   \n",
        "exon:chr10:100193697-100193848:-@exon:chr10:100...           161   \n",
        "exon:chr10:100195392-100195529:-@exon:chr10:100...           143   \n",
        "exon:chr10:101165513-101165617:-@exon:chr10:101...           151   \n",
        "exon:chr10:101419263-101419345:+@exon:chr10:101...           103   \n",
        "\n",
        "                                                                               exon3  \\\n",
        "event_id                                                                               \n",
        "exon:chr10:100190328-100190427:-@exon:chr10:100...  exon:chr10:100189330-100189399:-   \n",
        "exon:chr10:100193697-100193848:-@exon:chr10:100...  exon:chr10:100190328-100190427:-   \n",
        "exon:chr10:100195392-100195529:-@exon:chr10:100...  exon:chr10:100193697-100193848:-   \n",
        "exon:chr10:101165513-101165617:-@exon:chr10:101...  exon:chr10:101163226-101163391:-   \n",
        "exon:chr10:101419263-101419345:+@exon:chr10:101...  exon:chr10:101421203-101421385:+   \n",
        "\n",
        "                                                       ...      \\\n",
        "event_id                                               ...       \n",
        "exon:chr10:100190328-100190427:-@exon:chr10:100...     ...       \n",
        "exon:chr10:100193697-100193848:-@exon:chr10:100...     ...       \n",
        "exon:chr10:100195392-100195529:-@exon:chr10:100...     ...       \n",
        "exon:chr10:101165513-101165617:-@exon:chr10:101...     ...       \n",
        "exon:chr10:101419263-101419345:+@exon:chr10:101...     ...       \n",
        "\n",
        "                                                                     junction12  \\\n",
        "event_id                                                                          \n",
        "exon:chr10:100190328-100190427:-@exon:chr10:100...  chr10:100189647-100190327:-   \n",
        "exon:chr10:100193697-100193848:-@exon:chr10:100...  chr10:100191049-100193696:-   \n",
        "exon:chr10:100195392-100195529:-@exon:chr10:100...  chr10:100195172-100195391:-   \n",
        "exon:chr10:101165513-101165617:-@exon:chr10:101...  chr10:101163632-101165512:-   \n",
        "exon:chr10:101419263-101419345:+@exon:chr10:101...  chr10:101419346-101419618:+   \n",
        "\n",
        "                                                                     junction13  \\\n",
        "event_id                                                                          \n",
        "exon:chr10:100190328-100190427:-@exon:chr10:100...  chr10:100189400-100190327:-   \n",
        "exon:chr10:100193697-100193848:-@exon:chr10:100...  chr10:100190428-100193696:-   \n",
        "exon:chr10:100195392-100195529:-@exon:chr10:100...  chr10:100193849-100195391:-   \n",
        "exon:chr10:101165513-101165617:-@exon:chr10:101...  chr10:101163392-101165512:-   \n",
        "exon:chr10:101419263-101419345:+@exon:chr10:101...  chr10:101419346-101421202:+   \n",
        "\n",
        "                                                                     junction23  \\\n",
        "event_id                                                                          \n",
        "exon:chr10:100190328-100190427:-@exon:chr10:100...  chr10:100189400-100189547:-   \n",
        "exon:chr10:100193697-100193848:-@exon:chr10:100...  chr10:100190428-100190887:-   \n",
        "exon:chr10:100195392-100195529:-@exon:chr10:100...  chr10:100193849-100195028:-   \n",
        "exon:chr10:101165513-101165617:-@exon:chr10:101...  chr10:101163392-101163480:-   \n",
        "exon:chr10:101419263-101419345:+@exon:chr10:101...  chr10:101419722-101421202:+   \n",
        "\n",
        "                                                   junction24 junction34  \\\n",
        "event_id                                                                   \n",
        "exon:chr10:100190328-100190427:-@exon:chr10:100...        NaN        NaN   \n",
        "exon:chr10:100193697-100193848:-@exon:chr10:100...        NaN        NaN   \n",
        "exon:chr10:100195392-100195529:-@exon:chr10:100...        NaN        NaN   \n",
        "exon:chr10:101165513-101165617:-@exon:chr10:101...        NaN        NaN   \n",
        "exon:chr10:101419263-101419345:+@exon:chr10:101...        NaN        NaN   \n",
        "\n",
        "                                                    strand  \\\n",
        "event_id                                                     \n",
        "exon:chr10:100190328-100190427:-@exon:chr10:100...       -   \n",
        "exon:chr10:100193697-100193848:-@exon:chr10:100...       -   \n",
        "exon:chr10:100195392-100195529:-@exon:chr10:100...       -   \n",
        "exon:chr10:101165513-101165617:-@exon:chr10:101...       -   \n",
        "exon:chr10:101419263-101419345:+@exon:chr10:101...       +   \n",
        "\n",
        "                                                                                        transcript_id  \\\n",
        "event_id                                                                                                \n",
        "exon:chr10:100190328-100190427:-@exon:chr10:100...  ENST00000361490.4,ENST00000414009.1,ENST000003...   \n",
        "exon:chr10:100193697-100193848:-@exon:chr10:100...  ENST00000361490.4,ENST00000414009.1,ENST000003...   \n",
        "exon:chr10:100195392-100195529:-@exon:chr10:100...  ENST00000361490.4,ENST00000325103.6,ENST000004...   \n",
        "exon:chr10:101165513-101165617:-@exon:chr10:101...                ENST00000543866.1,ENST00000370508.5   \n",
        "exon:chr10:101419263-101419345:+@exon:chr10:101...                                  ENST00000370489.4   \n",
        "\n",
        "                                                   exon2_divisible_by_3  \\\n",
        "event_id                                                                  \n",
        "exon:chr10:100190328-100190427:-@exon:chr10:100...                 True   \n",
        "exon:chr10:100193697-100193848:-@exon:chr10:100...                False   \n",
        "exon:chr10:100195392-100195529:-@exon:chr10:100...                False   \n",
        "exon:chr10:101165513-101165617:-@exon:chr10:101...                False   \n",
        "exon:chr10:101419263-101419345:+@exon:chr10:101...                False   \n",
        "\n",
        "                                                     one_ensembl_id  \\\n",
        "event_id                                                              \n",
        "exon:chr10:100190328-100190427:-@exon:chr10:100...  ENSG00000107521   \n",
        "exon:chr10:100193697-100193848:-@exon:chr10:100...  ENSG00000107521   \n",
        "exon:chr10:100195392-100195529:-@exon:chr10:100...  ENSG00000107521   \n",
        "exon:chr10:101165513-101165617:-@exon:chr10:101...  ENSG00000120053   \n",
        "exon:chr10:101419263-101419345:+@exon:chr10:101...  ENSG00000198018   \n",
        "\n",
        "                                                   splice_type  \n",
        "event_id                                                        \n",
        "exon:chr10:100190328-100190427:-@exon:chr10:100...          SE  \n",
        "exon:chr10:100193697-100193848:-@exon:chr10:100...          SE  \n",
        "exon:chr10:100195392-100195529:-@exon:chr10:100...          SE  \n",
        "exon:chr10:101165513-101165617:-@exon:chr10:101...          SE  \n",
        "exon:chr10:101419263-101419345:+@exon:chr10:101...          SE  \n",
        "\n",
        "[5 rows x 26 columns]"
       ]
      }
     ],
     "prompt_number": 3
    },
    {
     "cell_type": "heading",
     "level": 2,
     "metadata": {},
     "source": [
      "Translate isoform"
     ]
    },
    {
     "cell_type": "code",
     "collapsed": false,
     "input": [
      "prefix = 'isoform_translations'\n",
      "translated_fasta = '{}/{}.fa'.format(alternative_feature_folder, prefix)"
     ],
     "language": "python",
     "metadata": {},
     "outputs": [],
     "prompt_number": 4
    },
    {
     "cell_type": "code",
     "collapsed": false,
     "input": [
      "# %%time\n",
      "\n",
      "import itertools\n",
      "from Bio.Seq import Seq\n",
      "from Bio.SeqRecord import SeqRecord\n",
      "from Bio import SeqIO\n",
      "from Bio.Alphabet import generic_dna, generic_protein\n",
      "\n",
      "hg19_fasta = '/projects/ps-yeolab/genomes/hg19/gencode/v19/GRCh37.p13.genome.fa'\n",
      "\n",
      "splice_type_isoform_exons = {'SE': {'isoform1': ('exon1', 'exon3'),\n",
      "                                    'isoform2': ('exon1', 'exon2', 'exon3')},\n",
      "                             'MXE': {'isoform1': ('exon1', 'exon3', 'exon4'),\n",
      "                                     'isoform2': ('exon1', 'exon2', 'exon4')}\n",
      "                            }\n",
      "\n",
      "# splice_type_isoform1_exons = {'SE': ('exon1', 'exon3'), \n",
      "#                               'MXE': ('exon1', 'exon3', 'exon4')}\n",
      "# splice_type_isoform2_exons = {'SE': ('exon1', 'exon2','exon3'), \n",
      "#                               'MXE': ('exon1', 'exon2', 'exon4')}\n",
      "\n",
      "best_tags = 'appris_principal', 'appris_candidate', 'CCDS', 'exp_conf', 'basic'\n",
      "\n",
      "def overlap(x, y):\n",
      "    return not ((x.start > y.stop) or (x.stop < y.start))\n",
      "\n",
      "\n",
      "def filter_on_tags(features, tags):\n",
      "    if len(features) == 0:\n",
      "        return None\n",
      "    \n",
      "    if len(features) == 1:\n",
      "        return features.pop()\n",
      "    \n",
      "    feature_tags = map(lambda x: (x, tuple(x.attributes['tag'])) \n",
      "                    if 'tag' in x.attributes else (x, ()), features)\n",
      "#     print 'feature_tags', feature_tags\n",
      "    for tag in tags:\n",
      "        for feature, feature_tag in feature_tags:\n",
      "            if tag in feature_tag:\n",
      "                return feature\n",
      "    # If none of the tags are there, return a random feature\n",
      "#     print features\n",
      "    return np.random.choice(list(features))\n",
      "\n",
      "seqrecords = []\n",
      "\n",
      "for i, (event_id, row) in enumerate(splicing_feature_data.iterrows()):\n",
      "#     if i > 10:\n",
      "#         break\n",
      "    \n",
      "    if (i+1) % 1000 == 0:\n",
      "        print i+1\n",
      "#     exon1 = v19db[row.exon1]\n",
      "#     exon2 = v19db[row.exon2]\n",
      "#     exon3 = v19db[row.exon3]\n",
      "#     print event_id\n",
      "    \n",
      "#     exon_trio = exon1, exon2, exon3\n",
      "\n",
      "    isoform1_exons = splice_type_isoform_exons[row.splice_type]['isoform1']\n",
      "    isoform2_exons = splice_type_isoform_exons[row.splice_type]['isoform2']\n",
      "    \n",
      "    isoform_to_exons = {'isoform1': map(lambda x: v19db[row[x]], isoform1_exons),\n",
      "                        'isoform2': map(lambda x: v19db[row[x]], isoform2_exons)}\n",
      "    \n",
      "    isoform_to_transcripts = dict((k, set.intersection(*map(lambda x: set(v19db.parents(x, featuretype='transcript')), v)))\n",
      "                                  for k, v in isoform_to_exons.items())\n",
      "    \n",
      "#     isoform_to_exons = {'isoform1': (exon1, exon3), 'isoform2': exon_trio}\n",
      "    \n",
      "    \n",
      "    # Make sure isoform1 transcripts are distinct from isoform2\n",
      "    isoform1_transcripts = isoform_to_transcripts['isoform1'] - isoform_to_transcripts['isoform2']\n",
      "#     print '\\tisoform1_transcripts', ','.join(map(lambda x: x.id, isoform1_transcripts))\n",
      "#     print '\\t', '\\t'.join(map(lambda x: str(list(x.attributes['tag'])) if 'tag' in x.attributes else '-', isoform1_transcripts))\n",
      "    \n",
      "    # Make sure isoform2 transcripts are distinct from isoform1\n",
      "    isoform2_transcripts = isoform_to_transcripts['isoform2']\n",
      "    if row.splice_type == 'MXE':\n",
      "        isoform2_transcripts = isoform2_transcripts - isoform1_transcripts\n",
      "#     print '\\tisoform2_transcripts', ','.join(map(lambda x: x.id, isoform2_transcripts))\n",
      "#     print '\\t', '\\t'.join(map(lambda x: str(list(x.attributes['tag'])) if 'tag' in x.attributes else '-', isoform2_transcripts))\n",
      "    \n",
      "    isoform1_transcript = filter_on_tags(isoform1_transcripts, best_tags)\n",
      "    isoform2_transcript = filter_on_tags(isoform2_transcripts, best_tags)\n",
      "    \n",
      "#     if isoform1_transcript is not None:\n",
      "#         print '\\t--isoform1', isoform1_transcript.id,\n",
      "#         if 'tag' in isoform1_transcript.attributes:\n",
      "#             print isoform1_transcript.attributes['tag']\n",
      "#         else:\n",
      "#             print\n",
      "#     if isoform2_transcript is not None:\n",
      "#         print '\\t--isoform2', isoform2_transcript.id,\n",
      "#         if 'tag' in isoform2_transcript.attributes:\n",
      "#             print isoform2_transcript.attributes['tag']\n",
      "#         else:\n",
      "#             print\n",
      "    \n",
      "#     isoforms = {'isoform1': isoform1_transcripts, \n",
      "#                 'isoform2': isoform2_transcripts}\n",
      "    isoforms = {'isoform1': isoform1_transcript, \n",
      "                'isoform2': isoform2_transcript}\n",
      "    \n",
      "    \n",
      "#     isoform_to_cds = {'isoform1': [], 'isoform2': []}\n",
      "    for isoform, transcript in isoforms.items():\n",
      "        if transcript is None:\n",
      "#             print '\\t\\t', isoform, 'is None'\n",
      "            continue\n",
      "        exons = isoform_to_exons[isoform]\n",
      "#         print '\\t', '\\t'.join(map(lambda x: str(list(x.attributes['tag'])) if 'tag' in x.attributes else '-', exons))\n",
      "        \n",
      "#         for transcript in transcripts:\n",
      "\n",
      "\n",
      "        reverse = transcript.strand == '-'\n",
      "        cdss = v19db.children(transcript, featuretype='CDS', order_by='start', \n",
      "                              reverse=reverse)\n",
      "\n",
      "        cdss = filter(lambda cds: any(map(lambda exon: overlap(cds, exon), exons)), cdss)\n",
      "#         print cdss\n",
      "        if len(cdss) == len(exons):\n",
      "            cds_str = '@'.join(map(lambda x: x.id, cdss))\n",
      "#                 if cds_str in isoform_to_cds[isoform]:\n",
      "#                     continue\n",
      "\n",
      "#                 isoform_to_cds[isoform].append(cds_str)\n",
      "\n",
      "#                 print '\\t\\t', '\\t'.join(map(lambda x: x.id, exons))\n",
      "#                 print '\\t\\t\\t', '\\t'.join(map(lambda x: x.id, cdss))\n",
      "#                 if 'tag' in transcript.attributes:\n",
      "#                     print '\\t\\t\\t', transcript.attributes['tag']\n",
      "#                 else:\n",
      "#                     print '\\t\\t\\t-'\n",
      "\n",
      "            if reverse:\n",
      "                coding_sequence = Seq(''.join(cds.sequence(hg19_fasta)[::-1] for cds in cdss), generic_dna).complement()\n",
      "            else:\n",
      "                coding_sequence = Seq(''.join(cds.sequence(hg19_fasta) for cds in cdss), generic_dna)\n",
      "#                 print len(coding_sequence)\n",
      "            coding_sequence = coding_sequence[int(cdss[0].frame):]\n",
      "            translated = coding_sequence.translate()\n",
      "            seqrecord = SeqRecord(translated, id='{0}|{1}|{2}'.format(event_id, cds_str, isoform))\n",
      "#             print '\\t\\t', translated\n",
      "            seqrecords.append(seqrecord)\n",
      "#     pprint(isoform_to_cds)\n",
      "\n",
      "\n"
     ],
     "language": "python",
     "metadata": {
      "scrolled": false
     },
     "outputs": [
      {
       "output_type": "stream",
       "stream": "stdout",
       "text": [
        "1000\n",
        "2000"
       ]
      },
      {
       "output_type": "stream",
       "stream": "stdout",
       "text": [
        "\n",
        "3000"
       ]
      },
      {
       "output_type": "stream",
       "stream": "stdout",
       "text": [
        "\n",
        "4000"
       ]
      },
      {
       "output_type": "stream",
       "stream": "stdout",
       "text": [
        "\n",
        "5000"
       ]
      },
      {
       "output_type": "stream",
       "stream": "stdout",
       "text": [
        "\n",
        "6000"
       ]
      },
      {
       "output_type": "stream",
       "stream": "stdout",
       "text": [
        "\n",
        "7000"
       ]
      },
      {
       "output_type": "stream",
       "stream": "stdout",
       "text": [
        "\n",
        "8000"
       ]
      },
      {
       "output_type": "stream",
       "stream": "stdout",
       "text": [
        "\n",
        "9000"
       ]
      },
      {
       "output_type": "stream",
       "stream": "stdout",
       "text": [
        "\n",
        "10000"
       ]
      },
      {
       "output_type": "stream",
       "stream": "stdout",
       "text": [
        "\n",
        "11000"
       ]
      },
      {
       "output_type": "stream",
       "stream": "stdout",
       "text": [
        "\n",
        "12000"
       ]
      },
      {
       "output_type": "stream",
       "stream": "stdout",
       "text": [
        "\n",
        "13000"
       ]
      },
      {
       "output_type": "stream",
       "stream": "stdout",
       "text": [
        "\n",
        "14000"
       ]
      },
      {
       "output_type": "stream",
       "stream": "stdout",
       "text": [
        "\n",
        "15000"
       ]
      },
      {
       "output_type": "stream",
       "stream": "stdout",
       "text": [
        "\n",
        "16000"
       ]
      },
      {
       "output_type": "stream",
       "stream": "stdout",
       "text": [
        "\n",
        "17000"
       ]
      },
      {
       "output_type": "stream",
       "stream": "stdout",
       "text": [
        "\n",
        "18000"
       ]
      },
      {
       "output_type": "stream",
       "stream": "stdout",
       "text": [
        "\n",
        "19000"
       ]
      },
      {
       "output_type": "stream",
       "stream": "stdout",
       "text": [
        "\n",
        "20000"
       ]
      },
      {
       "output_type": "stream",
       "stream": "stdout",
       "text": [
        "\n",
        "21000"
       ]
      },
      {
       "output_type": "stream",
       "stream": "stdout",
       "text": [
        "\n",
        "22000"
       ]
      },
      {
       "output_type": "stream",
       "stream": "stdout",
       "text": [
        "\n",
        "23000"
       ]
      },
      {
       "output_type": "stream",
       "stream": "stdout",
       "text": [
        "\n",
        "24000"
       ]
      },
      {
       "output_type": "stream",
       "stream": "stdout",
       "text": [
        "\n",
        "25000"
       ]
      },
      {
       "output_type": "stream",
       "stream": "stdout",
       "text": [
        "\n",
        "26000"
       ]
      },
      {
       "output_type": "stream",
       "stream": "stdout",
       "text": [
        "\n",
        "27000"
       ]
      },
      {
       "output_type": "stream",
       "stream": "stdout",
       "text": [
        "\n",
        "28000"
       ]
      },
      {
       "output_type": "stream",
       "stream": "stdout",
       "text": [
        "\n",
        "29000"
       ]
      },
      {
       "output_type": "stream",
       "stream": "stdout",
       "text": [
        "\n",
        "30000"
       ]
      },
      {
       "output_type": "stream",
       "stream": "stdout",
       "text": [
        "\n",
        "31000"
       ]
      },
      {
       "output_type": "stream",
       "stream": "stdout",
       "text": [
        "\n",
        "32000"
       ]
      },
      {
       "output_type": "stream",
       "stream": "stdout",
       "text": [
        "\n",
        "33000"
       ]
      },
      {
       "output_type": "stream",
       "stream": "stdout",
       "text": [
        "\n",
        "34000"
       ]
      },
      {
       "output_type": "stream",
       "stream": "stdout",
       "text": [
        "\n",
        "35000"
       ]
      },
      {
       "output_type": "stream",
       "stream": "stdout",
       "text": [
        "\n",
        "36000"
       ]
      },
      {
       "output_type": "stream",
       "stream": "stdout",
       "text": [
        "\n"
       ]
      },
      {
       "output_type": "stream",
       "stream": "stderr",
       "text": [
        "/home/obotvinnik/anaconda/lib/python2.7/site-packages/Bio/Seq.py:2041: BiopythonWarning: Partial codon, len(sequence) not a multiple of three. Explicitly trim the sequence or add trailing N before translation. This may become an error in future.\n",
        "  BiopythonWarning)\n"
       ]
      }
     ],
     "prompt_number": 5
    },
    {
     "cell_type": "code",
     "collapsed": false,
     "input": [
      "len(seqrecords)"
     ],
     "language": "python",
     "metadata": {},
     "outputs": [
      {
       "output_type": "pyout",
       "prompt_number": 6,
       "text": [
        "25969"
       ]
      }
     ],
     "prompt_number": 6
    },
    {
     "cell_type": "code",
     "collapsed": false,
     "input": [
      "translated_fasta"
     ],
     "language": "python",
     "metadata": {},
     "outputs": [
      {
       "output_type": "pyout",
       "prompt_number": 7,
       "text": [
        "'/projects/ps-yeolab/obotvinnik/singlecell_pnms/csvs_for_paper//splicing_feature_data/alternative/isoform_translations.fa'"
       ]
      }
     ],
     "prompt_number": 7
    },
    {
     "cell_type": "code",
     "collapsed": true,
     "input": [
      "with open(translated_fasta, 'w') as f:\n",
      "    SeqIO.write(seqrecords, f, 'fasta')"
     ],
     "language": "python",
     "metadata": {},
     "outputs": [],
     "prompt_number": 8
    },
    {
     "cell_type": "code",
     "collapsed": false,
     "input": [
      "! wc -l $translated_fasta"
     ],
     "language": "python",
     "metadata": {},
     "outputs": [
      {
       "output_type": "stream",
       "stream": "stdout",
       "text": [
        "85723 /projects/ps-yeolab/obotvinnik/singlecell_pnms/csvs_for_paper//splicing_feature_data/alternative/isoform_translations.fa\r\n"
       ]
      }
     ],
     "prompt_number": 9
    },
    {
     "cell_type": "code",
     "collapsed": false,
     "input": [
      "import itertools\n",
      "from Bio.Seq import Seq\n",
      "from Bio.SeqRecord import SeqRecord\n",
      "from Bio import SeqIO\n",
      "import pandas as pd\n",
      "\n",
      "translated_df = pd.DataFrame(columns=['isoform1', 'isoform2'])"
     ],
     "language": "python",
     "metadata": {},
     "outputs": [],
     "prompt_number": 10
    },
    {
     "cell_type": "code",
     "collapsed": false,
     "input": [
      "! wc -l $translated_fasta"
     ],
     "language": "python",
     "metadata": {},
     "outputs": [
      {
       "output_type": "stream",
       "stream": "stdout",
       "text": [
        "85723 /projects/ps-yeolab/obotvinnik/singlecell_pnms/csvs_for_paper//splicing_feature_data/alternative/isoform_translations.fa\r\n"
       ]
      }
     ],
     "prompt_number": 11
    },
    {
     "cell_type": "code",
     "collapsed": false,
     "input": [
      "with open(translated_fasta) as f:\n",
      "    for record in SeqIO.parse(f, 'fasta'):\n",
      "        event_id, cds_str, isoform = record.id.split('|')\n",
      "        translated_df.loc[event_id, isoform] = str(record.seq)"
     ],
     "language": "python",
     "metadata": {},
     "outputs": [],
     "prompt_number": 12
    },
    {
     "cell_type": "code",
     "collapsed": false,
     "input": [
      "translated_df.shape"
     ],
     "language": "python",
     "metadata": {},
     "outputs": [
      {
       "output_type": "pyout",
       "prompt_number": 13,
       "text": [
        "(22152, 2)"
       ]
      }
     ],
     "prompt_number": 13
    },
    {
     "cell_type": "code",
     "collapsed": false,
     "input": [
      "translated_df.head()"
     ],
     "language": "python",
     "metadata": {},
     "outputs": [
      {
       "html": [
        "<div>\n",
        "<table border=\"1\" class=\"dataframe\">\n",
        "  <thead>\n",
        "    <tr style=\"text-align: right;\">\n",
        "      <th></th>\n",
        "      <th>isoform1</th>\n",
        "      <th>isoform2</th>\n",
        "    </tr>\n",
        "  </thead>\n",
        "  <tbody>\n",
        "    <tr>\n",
        "      <th>exon:chr10:100190328-100190427:-@exon:chr10:100189548-100189646:-@exon:chr10:100189330-100189399:-</th>\n",
        "      <td>NaN</td>\n",
        "      <td>HSASSLRPADLLALILLVQDLYPSESTAEDDIQPSPRRARSSQNIP...</td>\n",
        "    </tr>\n",
        "    <tr>\n",
        "      <th>exon:chr10:101165513-101165617:-@exon:chr10:101163481-101163631:-@exon:chr10:101163226-101163391:-</th>\n",
        "      <td>NaN</td>\n",
        "      <td>NAPEFSIVVLHACAHNPTGIDPTPEQWKQIASVMKHRFLFPFFDSA...</td>\n",
        "    </tr>\n",
        "    <tr>\n",
        "      <th>exon:chr10:101421203-101421385:+@exon:chr10:101439018-101439223:+@exon:chr10:101439482-101439632:+</th>\n",
        "      <td>NaN</td>\n",
        "      <td>ISFSYLCPASWYFTVPTVSPFLRQRVAFLGLFFISCLLLLMLIIDF...</td>\n",
        "    </tr>\n",
        "    <tr>\n",
        "      <th>exon:chr10:101480744-101480825:-@exon:chr10:101478103-101478257:-@exon:chr10:101476105-101476218:-</th>\n",
        "      <td>NaN</td>\n",
        "      <td>LPETHQLLQLRRFAHGTAGLVFLTALSGAFVAGLDAGLVYNSFPKM...</td>\n",
        "    </tr>\n",
        "    <tr>\n",
        "      <th>exon:chr10:101507014-101507147:+@exon:chr10:101510126-101510153:+@exon:chr10:101514286-101514391:+</th>\n",
        "      <td>FDMVHDPMAALETLLTLGFERVLTSGCDSSALEGLPLIKRLIEQEVV</td>\n",
        "      <td>FDMVHDPMAALETLLTLGFERVLTSGCDSSALEGLPLIKRLIEQAK...</td>\n",
        "    </tr>\n",
        "  </tbody>\n",
        "</table>\n",
        "</div>"
       ],
       "output_type": "pyout",
       "prompt_number": 14,
       "text": [
        "                                                                                           isoform1  \\\n",
        "exon:chr10:100190328-100190427:-@exon:chr10:100...                                              NaN   \n",
        "exon:chr10:101165513-101165617:-@exon:chr10:101...                                              NaN   \n",
        "exon:chr10:101421203-101421385:+@exon:chr10:101...                                              NaN   \n",
        "exon:chr10:101480744-101480825:-@exon:chr10:101...                                              NaN   \n",
        "exon:chr10:101507014-101507147:+@exon:chr10:101...  FDMVHDPMAALETLLTLGFERVLTSGCDSSALEGLPLIKRLIEQEVV   \n",
        "\n",
        "                                                                                             isoform2  \n",
        "exon:chr10:100190328-100190427:-@exon:chr10:100...  HSASSLRPADLLALILLVQDLYPSESTAEDDIQPSPRRARSSQNIP...  \n",
        "exon:chr10:101165513-101165617:-@exon:chr10:101...  NAPEFSIVVLHACAHNPTGIDPTPEQWKQIASVMKHRFLFPFFDSA...  \n",
        "exon:chr10:101421203-101421385:+@exon:chr10:101...  ISFSYLCPASWYFTVPTVSPFLRQRVAFLGLFFISCLLLLMLIIDF...  \n",
        "exon:chr10:101480744-101480825:-@exon:chr10:101...  LPETHQLLQLRRFAHGTAGLVFLTALSGAFVAGLDAGLVYNSFPKM...  \n",
        "exon:chr10:101507014-101507147:+@exon:chr10:101...  FDMVHDPMAALETLLTLGFERVLTSGCDSSALEGLPLIKRLIEQAK...  "
       ]
      }
     ],
     "prompt_number": 14
    },
    {
     "cell_type": "code",
     "collapsed": false,
     "input": [
      "range(3)"
     ],
     "language": "python",
     "metadata": {},
     "outputs": [
      {
       "output_type": "pyout",
       "prompt_number": 15,
       "text": [
        "[0, 1, 2]"
       ]
      }
     ],
     "prompt_number": 15
    },
    {
     "cell_type": "code",
     "collapsed": false,
     "input": [
      "translated_df.dropna().shape"
     ],
     "language": "python",
     "metadata": {},
     "outputs": [
      {
       "output_type": "pyout",
       "prompt_number": 16,
       "text": [
        "(3817, 2)"
       ]
      }
     ],
     "prompt_number": 16
    },
    {
     "cell_type": "code",
     "collapsed": true,
     "input": [
      "translated_df.columns = [x + '_translation' for x in translated_df]\n",
      "\n",
      "translated_df.to_csv('{}/protein_translations.csv'.format(alternative_feature_folder))"
     ],
     "language": "python",
     "metadata": {},
     "outputs": [],
     "prompt_number": 17
    }
   ],
   "metadata": {}
  }
 ]
}