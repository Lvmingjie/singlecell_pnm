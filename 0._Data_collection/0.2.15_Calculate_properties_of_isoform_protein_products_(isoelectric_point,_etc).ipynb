{
 "cells": [
  {
   "cell_type": "markdown",
   "metadata": {},
   "source": [
    "# Calculate protein properties of translated isoform sequences\n",
    "\n",
    "And calculate disordered protein scores of the proteins."
   ]
  },
  {
   "cell_type": "code",
   "execution_count": 1,
   "metadata": {
    "collapsed": false
   },
   "outputs": [
    {
     "name": "stderr",
     "output_type": "stream",
     "text": [
      "/home/obotvinnik/anaconda/lib/python2.7/site-packages/matplotlib/__init__.py:810: UserWarning: Found matplotlib configuration in ~/.matplotlib/. To conform with the XDG base directory standard, this configuration location has been deprecated on Linux, and the new location is now /home/obotvinnik/.config/matplotlib/. Please move your configuration there to ensure that matplotlib will continue to find it in the future.\n",
      "  _get_xdg_config_dir())\n"
     ]
    }
   ],
   "source": [
    "%load_ext autoreload\n",
    "%autoreload 2\n",
    "\n",
    "import pandas as pd\n",
    "import gffutils\n",
    "import pybedtools\n",
    "import re\n",
    "import numpy as np\n",
    "import seaborn as sns\n",
    "sns.set(style='ticks', context='talk')\n",
    "%matplotlib inline\n",
    "\n",
    "v19db_filename = '/projects/ps-yeolab/genomes/hg19/gencode/v19/gencode.v19.annotation.gtf.db'\n",
    "v19db = gffutils.FeatureDB(v19db_filename)\n",
    "\n",
    "folder = '/projects/ps-yeolab/obotvinnik/singlecell_pnms'\n",
    "\n",
    "folder = '/projects/ps-yeolab/obotvinnik/singlecell_pnms'\n",
    "csv_folder = '{}/csvs_for_paper/'.format(folder)\n",
    "\n",
    "\n",
    "splicing_feature_folder = '{}/splicing_feature_data'.format(csv_folder)\n",
    "alternative_feature_folder = '{}/alternative'.format(splicing_feature_folder)\n",
    "constitutive_feature_folder = '{}/constitutive'.format(splicing_feature_folder)\n",
    "\n",
    "prefix = 'isoform_translations'\n",
    "translated_fasta = '{}/{}.fa'.format(folder, prefix)\n",
    "\n",
    "# folder = '/projects/ps-yeolab/obotvinnik/singlecell_pnms'\n",
    "\n",
    "# splicing_feature_data = pd.read_csv('{}/splicing_feature_data.csv'.format(folder), index_col=0)\n",
    "# splicing_feature_data.head()"
   ]
  },
  {
   "cell_type": "code",
   "execution_count": 2,
   "metadata": {
    "collapsed": false
   },
   "outputs": [
    {
     "name": "stdout",
     "output_type": "stream",
     "text": [
      "mkdir: cannot create directory `/projects/ps-yeolab/obotvinnik/singlecell_pnms/csvs_for_paper//splicing_feature_data/alternative/isoform_protein_properties': File exists\r\n"
     ]
    }
   ],
   "source": [
    "figure_folder = '{}/isoform_protein_properties'.format(alternative_feature_folder)\n",
    "! mkdir $figure_folder"
   ]
  },
  {
   "cell_type": "code",
   "execution_count": 3,
   "metadata": {
    "collapsed": false
   },
   "outputs": [
    {
     "name": "stdout",
     "output_type": "stream",
     "text": [
      "downstream400_placental_mammal_conservation.csv\r\n",
      "exon2_merkin2012_ancient.csv\r\n",
      "exon2_phastcons_placental_mammal.bed\r\n",
      "exon2_phastcons_placental_mammal.txt\r\n",
      "exons.bed\r\n",
      "exons.fasta\r\n",
      "exons_downstream200nt.bed\r\n",
      "exons_downstream200nt_kmers.csv\r\n",
      "exons_kmers.csv\r\n",
      "exons_merkin2012_ancient_alt_exons.bed\r\n",
      "exons_phastcons_placental_mammal.bed\r\n",
      "exons_phastcons_placental_mammal.txt\r\n",
      "exons_stop_plus1.bed\r\n",
      "exons_upstream200_foreground.bed\r\n",
      "exons_upstream200_placental_foreground.bed\r\n",
      "exons_upstream200nt.bed\r\n",
      "exons_upstream200nt_kmers.csv\r\n",
      "gc_content.csv\r\n",
      "genes_expanded.csv\r\n",
      "isoform_domain_effects.csv\r\n",
      "isoform_domain_pfam_accession.csv\r\n",
      "isoform_domain_pfam_go_id.csv\r\n",
      "isoform_domain_pfam_go_name.csv\r\n",
      "isoform_domain_pfam_name.csv\r\n",
      "\u001b[0m\u001b[01;34misoform_protein_properties\u001b[0m/\r\n",
      "\u001b[01;36misoform_translations.csv\u001b[0m@\r\n",
      "isoform_translations.fa\r\n",
      "isoform_translations.fa_iupred_out\r\n",
      "isoform_translations.fa_iupred_tmp\r\n",
      "isoform_translations_hmmscan_pfamA.txt\r\n",
      "isoform_translations_hmmscan_pfamA.txt.err\r\n",
      "isoform_translations_hmmscan_pfamA.txt.out\r\n",
      "maxentscan.csv\r\n",
      "\u001b[01;34mnucleotide_content\u001b[0m/\r\n",
      "\u001b[01;36mphastcons_placental_mammal.txt\u001b[0m@\r\n",
      "protein_translations.csv\r\n",
      "repetitive_element_overlap.csv\r\n",
      "test.bed\r\n",
      "upstream400_placental_mammal_conservation.csv\r\n",
      "\u001b[m"
     ]
    }
   ],
   "source": [
    "ls $alternative_feature_folder"
   ]
  },
  {
   "cell_type": "code",
   "execution_count": 4,
   "metadata": {
    "collapsed": false
   },
   "outputs": [
    {
     "name": "stdout",
     "output_type": "stream",
     "text": [
      "total 1041\r\n",
      "-rw-r--r-- 1 obotvinnik 429814 Apr  8 09:15 isoelectric_point.pdf\r\n",
      "-rw-r--r-- 1 obotvinnik 452256 Apr  8 09:15 molecular_weight_log10.pdf\r\n"
     ]
    }
   ],
   "source": [
    "ll $alternative_feature_folder/isoform_protein_properties/"
   ]
  },
  {
   "cell_type": "code",
   "execution_count": 5,
   "metadata": {
    "collapsed": false
   },
   "outputs": [
    {
     "data": {
      "text/html": [
       "<div>\n",
       "<table border=\"1\" class=\"dataframe\">\n",
       "  <thead>\n",
       "    <tr style=\"text-align: right;\">\n",
       "      <th></th>\n",
       "      <th>isoform1_translation</th>\n",
       "      <th>isoform2_translation</th>\n",
       "    </tr>\n",
       "  </thead>\n",
       "  <tbody>\n",
       "    <tr>\n",
       "      <th>exon:chr10:100190328-100190427:-@exon:chr10:100189548-100189646:-@exon:chr10:100189330-100189399:-</th>\n",
       "      <td>NaN</td>\n",
       "      <td>HSASSLRPADLLALILLVQDLYPSESTAEDDIQPSPRRARSSQNIP...</td>\n",
       "    </tr>\n",
       "    <tr>\n",
       "      <th>exon:chr10:101165513-101165617:-@exon:chr10:101163481-101163631:-@exon:chr10:101163226-101163391:-</th>\n",
       "      <td>NaN</td>\n",
       "      <td>NAPEFSIVVLHACAHNPTGIDPTPEQWKQIASVMKHRFLFPFFDSA...</td>\n",
       "    </tr>\n",
       "    <tr>\n",
       "      <th>exon:chr10:101421203-101421385:+@exon:chr10:101439018-101439223:+@exon:chr10:101439482-101439632:+</th>\n",
       "      <td>NaN</td>\n",
       "      <td>ISFSYLCPASWYFTVPTVSPFLRQRVAFLGLFFISCLLLLMLIIDF...</td>\n",
       "    </tr>\n",
       "    <tr>\n",
       "      <th>exon:chr10:101480744-101480825:-@exon:chr10:101478103-101478257:-@exon:chr10:101476105-101476218:-</th>\n",
       "      <td>NaN</td>\n",
       "      <td>LPETHQLLQLRRFAHGTAGLVFLTALSGAFVAGLDAGLVYNSFPKM...</td>\n",
       "    </tr>\n",
       "    <tr>\n",
       "      <th>exon:chr10:101507014-101507147:+@exon:chr10:101510126-101510153:+@exon:chr10:101514286-101514391:+</th>\n",
       "      <td>FDMVHDPMAALETLLTLGFERVLTSGCDSSALEGLPLIKRLIEQEVV</td>\n",
       "      <td>FDMVHDPMAALETLLTLGFERVLTSGCDSSALEGLPLIKRLIEQAK...</td>\n",
       "    </tr>\n",
       "  </tbody>\n",
       "</table>\n",
       "</div>"
      ],
      "text/plain": [
       "                                                                               isoform1_translation  \\\n",
       "exon:chr10:100190328-100190427:-@exon:chr10:100...                                              NaN   \n",
       "exon:chr10:101165513-101165617:-@exon:chr10:101...                                              NaN   \n",
       "exon:chr10:101421203-101421385:+@exon:chr10:101...                                              NaN   \n",
       "exon:chr10:101480744-101480825:-@exon:chr10:101...                                              NaN   \n",
       "exon:chr10:101507014-101507147:+@exon:chr10:101...  FDMVHDPMAALETLLTLGFERVLTSGCDSSALEGLPLIKRLIEQEVV   \n",
       "\n",
       "                                                                                 isoform2_translation  \n",
       "exon:chr10:100190328-100190427:-@exon:chr10:100...  HSASSLRPADLLALILLVQDLYPSESTAEDDIQPSPRRARSSQNIP...  \n",
       "exon:chr10:101165513-101165617:-@exon:chr10:101...  NAPEFSIVVLHACAHNPTGIDPTPEQWKQIASVMKHRFLFPFFDSA...  \n",
       "exon:chr10:101421203-101421385:+@exon:chr10:101...  ISFSYLCPASWYFTVPTVSPFLRQRVAFLGLFFISCLLLLMLIIDF...  \n",
       "exon:chr10:101480744-101480825:-@exon:chr10:101...  LPETHQLLQLRRFAHGTAGLVFLTALSGAFVAGLDAGLVYNSFPKM...  \n",
       "exon:chr10:101507014-101507147:+@exon:chr10:101...  FDMVHDPMAALETLLTLGFERVLTSGCDSSALEGLPLIKRLIEQAK...  "
      ]
     },
     "execution_count": 5,
     "metadata": {},
     "output_type": "execute_result"
    }
   ],
   "source": [
    "isoform_translations = pd.read_csv('{}/protein_translations.csv'.format(alternative_feature_folder), index_col=0)\n",
    "isoform_translations.head()"
   ]
  },
  {
   "cell_type": "markdown",
   "metadata": {},
   "source": [
    "Don't use protein sequences with stop codons"
   ]
  },
  {
   "cell_type": "code",
   "execution_count": 6,
   "metadata": {
    "collapsed": false
   },
   "outputs": [
    {
     "name": "stdout",
     "output_type": "stream",
     "text": [
      "(18929, 2)\n"
     ]
    },
    {
     "data": {
      "text/html": [
       "<div>\n",
       "<table border=\"1\" class=\"dataframe\">\n",
       "  <thead>\n",
       "    <tr style=\"text-align: right;\">\n",
       "      <th></th>\n",
       "      <th>isoform1_translation</th>\n",
       "      <th>isoform2_translation</th>\n",
       "    </tr>\n",
       "  </thead>\n",
       "  <tbody>\n",
       "    <tr>\n",
       "      <th>exon:chr10:100190328-100190427:-@exon:chr10:100189548-100189646:-@exon:chr10:100189330-100189399:-</th>\n",
       "      <td>NaN</td>\n",
       "      <td>HSASSLRPADLLALILLVQDLYPSESTAEDDIQPSPRRARSSQNIP...</td>\n",
       "    </tr>\n",
       "    <tr>\n",
       "      <th>exon:chr10:101165513-101165617:-@exon:chr10:101163481-101163631:-@exon:chr10:101163226-101163391:-</th>\n",
       "      <td>NaN</td>\n",
       "      <td>NAPEFSIVVLHACAHNPTGIDPTPEQWKQIASVMKHRFLFPFFDSA...</td>\n",
       "    </tr>\n",
       "    <tr>\n",
       "      <th>exon:chr10:101421203-101421385:+@exon:chr10:101439018-101439223:+@exon:chr10:101439482-101439632:+</th>\n",
       "      <td>NaN</td>\n",
       "      <td>ISFSYLCPASWYFTVPTVSPFLRQRVAFLGLFFISCLLLLMLIIDF...</td>\n",
       "    </tr>\n",
       "    <tr>\n",
       "      <th>exon:chr10:101480744-101480825:-@exon:chr10:101478103-101478257:-@exon:chr10:101476105-101476218:-</th>\n",
       "      <td>NaN</td>\n",
       "      <td>LPETHQLLQLRRFAHGTAGLVFLTALSGAFVAGLDAGLVYNSFPKM...</td>\n",
       "    </tr>\n",
       "    <tr>\n",
       "      <th>exon:chr10:101507014-101507147:+@exon:chr10:101510126-101510153:+@exon:chr10:101514286-101514391:+</th>\n",
       "      <td>FDMVHDPMAALETLLTLGFERVLTSGCDSSALEGLPLIKRLIEQEVV</td>\n",
       "      <td>FDMVHDPMAALETLLTLGFERVLTSGCDSSALEGLPLIKRLIEQAK...</td>\n",
       "    </tr>\n",
       "  </tbody>\n",
       "</table>\n",
       "</div>"
      ],
      "text/plain": [
       "                                                                               isoform1_translation  \\\n",
       "exon:chr10:100190328-100190427:-@exon:chr10:100...                                              NaN   \n",
       "exon:chr10:101165513-101165617:-@exon:chr10:101...                                              NaN   \n",
       "exon:chr10:101421203-101421385:+@exon:chr10:101...                                              NaN   \n",
       "exon:chr10:101480744-101480825:-@exon:chr10:101...                                              NaN   \n",
       "exon:chr10:101507014-101507147:+@exon:chr10:101...  FDMVHDPMAALETLLTLGFERVLTSGCDSSALEGLPLIKRLIEQEVV   \n",
       "\n",
       "                                                                                 isoform2_translation  \n",
       "exon:chr10:100190328-100190427:-@exon:chr10:100...  HSASSLRPADLLALILLVQDLYPSESTAEDDIQPSPRRARSSQNIP...  \n",
       "exon:chr10:101165513-101165617:-@exon:chr10:101...  NAPEFSIVVLHACAHNPTGIDPTPEQWKQIASVMKHRFLFPFFDSA...  \n",
       "exon:chr10:101421203-101421385:+@exon:chr10:101...  ISFSYLCPASWYFTVPTVSPFLRQRVAFLGLFFISCLLLLMLIIDF...  \n",
       "exon:chr10:101480744-101480825:-@exon:chr10:101...  LPETHQLLQLRRFAHGTAGLVFLTALSGAFVAGLDAGLVYNSFPKM...  \n",
       "exon:chr10:101507014-101507147:+@exon:chr10:101...  FDMVHDPMAALETLLTLGFERVLTSGCDSSALEGLPLIKRLIEQAK...  "
      ]
     },
     "execution_count": 6,
     "metadata": {},
     "output_type": "execute_result"
    }
   ],
   "source": [
    "no_stop_codon = isoform_translations[isoform_translations.applymap(\n",
    "        lambda x: False if not isinstance(x, str) else '*' not in x)].dropna(how='all')\n",
    "print no_stop_codon.shape\n",
    "no_stop_codon.head()"
   ]
  },
  {
   "cell_type": "markdown",
   "metadata": {},
   "source": [
    "### Create a dataframe for `ProteinAnalysis` objects to calculate properties"
   ]
  },
  {
   "cell_type": "code",
   "execution_count": 7,
   "metadata": {
    "collapsed": false
   },
   "outputs": [
    {
     "data": {
      "text/html": [
       "<div>\n",
       "<table border=\"1\" class=\"dataframe\">\n",
       "  <thead>\n",
       "    <tr style=\"text-align: right;\">\n",
       "      <th></th>\n",
       "      <th>isoform1_translation</th>\n",
       "      <th>isoform2_translation</th>\n",
       "    </tr>\n",
       "  </thead>\n",
       "  <tbody>\n",
       "    <tr>\n",
       "      <th>exon:chr10:100190328-100190427:-@exon:chr10:100189548-100189646:-@exon:chr10:100189330-100189399:-</th>\n",
       "      <td>NaN</td>\n",
       "      <td>&lt;Bio.SeqUtils.ProtParam.ProteinAnalysis object...</td>\n",
       "    </tr>\n",
       "    <tr>\n",
       "      <th>exon:chr10:101165513-101165617:-@exon:chr10:101163481-101163631:-@exon:chr10:101163226-101163391:-</th>\n",
       "      <td>NaN</td>\n",
       "      <td>&lt;Bio.SeqUtils.ProtParam.ProteinAnalysis object...</td>\n",
       "    </tr>\n",
       "    <tr>\n",
       "      <th>exon:chr10:101421203-101421385:+@exon:chr10:101439018-101439223:+@exon:chr10:101439482-101439632:+</th>\n",
       "      <td>NaN</td>\n",
       "      <td>&lt;Bio.SeqUtils.ProtParam.ProteinAnalysis object...</td>\n",
       "    </tr>\n",
       "    <tr>\n",
       "      <th>exon:chr10:101480744-101480825:-@exon:chr10:101478103-101478257:-@exon:chr10:101476105-101476218:-</th>\n",
       "      <td>NaN</td>\n",
       "      <td>&lt;Bio.SeqUtils.ProtParam.ProteinAnalysis object...</td>\n",
       "    </tr>\n",
       "    <tr>\n",
       "      <th>exon:chr10:101507014-101507147:+@exon:chr10:101510126-101510153:+@exon:chr10:101514286-101514391:+</th>\n",
       "      <td>&lt;Bio.SeqUtils.ProtParam.ProteinAnalysis object...</td>\n",
       "      <td>&lt;Bio.SeqUtils.ProtParam.ProteinAnalysis object...</td>\n",
       "    </tr>\n",
       "  </tbody>\n",
       "</table>\n",
       "</div>"
      ],
      "text/plain": [
       "                                                                                 isoform1_translation  \\\n",
       "exon:chr10:100190328-100190427:-@exon:chr10:100...                                                NaN   \n",
       "exon:chr10:101165513-101165617:-@exon:chr10:101...                                                NaN   \n",
       "exon:chr10:101421203-101421385:+@exon:chr10:101...                                                NaN   \n",
       "exon:chr10:101480744-101480825:-@exon:chr10:101...                                                NaN   \n",
       "exon:chr10:101507014-101507147:+@exon:chr10:101...  <Bio.SeqUtils.ProtParam.ProteinAnalysis object...   \n",
       "\n",
       "                                                                                 isoform2_translation  \n",
       "exon:chr10:100190328-100190427:-@exon:chr10:100...  <Bio.SeqUtils.ProtParam.ProteinAnalysis object...  \n",
       "exon:chr10:101165513-101165617:-@exon:chr10:101...  <Bio.SeqUtils.ProtParam.ProteinAnalysis object...  \n",
       "exon:chr10:101421203-101421385:+@exon:chr10:101...  <Bio.SeqUtils.ProtParam.ProteinAnalysis object...  \n",
       "exon:chr10:101480744-101480825:-@exon:chr10:101...  <Bio.SeqUtils.ProtParam.ProteinAnalysis object...  \n",
       "exon:chr10:101507014-101507147:+@exon:chr10:101...  <Bio.SeqUtils.ProtParam.ProteinAnalysis object...  "
      ]
     },
     "execution_count": 7,
     "metadata": {},
     "output_type": "execute_result"
    }
   ],
   "source": [
    "from Bio.SeqUtils.ProtParam import ProteinAnalysis\n",
    "\n",
    "\n",
    "protein_analysis = no_stop_codon.applymap(\n",
    "    lambda x: ProteinAnalysis(x) if isinstance(x, str) else x)\n",
    "protein_analysis.head()"
   ]
  },
  {
   "cell_type": "markdown",
   "metadata": {},
   "source": [
    "## Molecular weight"
   ]
  },
  {
   "cell_type": "code",
   "execution_count": 8,
   "metadata": {
    "collapsed": true
   },
   "outputs": [],
   "source": [
    "from Bio import SeqUtils"
   ]
  },
  {
   "cell_type": "code",
   "execution_count": 18,
   "metadata": {
    "collapsed": true
   },
   "outputs": [],
   "source": [
    "from Bio.SeqUtils import ProtParam"
   ]
  },
  {
   "cell_type": "code",
   "execution_count": 9,
   "metadata": {
    "collapsed": true
   },
   "outputs": [],
   "source": [
    "rps24_event = 'exon:chr10:79796952-79797062:+@exon:chr10:79799962-79799983:+@exon:chr10:79800373-79800471:+'"
   ]
  },
  {
   "cell_type": "code",
   "execution_count": 10,
   "metadata": {
    "collapsed": false
   },
   "outputs": [
    {
     "data": {
      "text/html": [
       "<div>\n",
       "<table border=\"1\" class=\"dataframe\">\n",
       "  <thead>\n",
       "    <tr style=\"text-align: right;\">\n",
       "      <th></th>\n",
       "      <th>isoform1_translation</th>\n",
       "      <th>isoform2_translation</th>\n",
       "    </tr>\n",
       "  </thead>\n",
       "  <tbody>\n",
       "    <tr>\n",
       "      <th>exon:chr10:100190328-100190427:-@exon:chr10:100189548-100189646:-@exon:chr10:100189330-100189399:-</th>\n",
       "      <td>NaN</td>\n",
       "      <td>9467.0555</td>\n",
       "    </tr>\n",
       "    <tr>\n",
       "      <th>exon:chr10:101165513-101165617:-@exon:chr10:101163481-101163631:-@exon:chr10:101163226-101163391:-</th>\n",
       "      <td>NaN</td>\n",
       "      <td>15790.6691</td>\n",
       "    </tr>\n",
       "    <tr>\n",
       "      <th>exon:chr10:101421203-101421385:+@exon:chr10:101439018-101439223:+@exon:chr10:101439482-101439632:+</th>\n",
       "      <td>NaN</td>\n",
       "      <td>20486.5337</td>\n",
       "    </tr>\n",
       "    <tr>\n",
       "      <th>exon:chr10:101480744-101480825:-@exon:chr10:101478103-101478257:-@exon:chr10:101476105-101476218:-</th>\n",
       "      <td>NaN</td>\n",
       "      <td>13050.1474</td>\n",
       "    </tr>\n",
       "    <tr>\n",
       "      <th>exon:chr10:101507014-101507147:+@exon:chr10:101510126-101510153:+@exon:chr10:101514286-101514391:+</th>\n",
       "      <td>5158.9614</td>\n",
       "      <td>9521.8938</td>\n",
       "    </tr>\n",
       "  </tbody>\n",
       "</table>\n",
       "</div>"
      ],
      "text/plain": [
       "                                                    isoform1_translation  \\\n",
       "exon:chr10:100190328-100190427:-@exon:chr10:100...                   NaN   \n",
       "exon:chr10:101165513-101165617:-@exon:chr10:101...                   NaN   \n",
       "exon:chr10:101421203-101421385:+@exon:chr10:101...                   NaN   \n",
       "exon:chr10:101480744-101480825:-@exon:chr10:101...                   NaN   \n",
       "exon:chr10:101507014-101507147:+@exon:chr10:101...             5158.9614   \n",
       "\n",
       "                                                    isoform2_translation  \n",
       "exon:chr10:100190328-100190427:-@exon:chr10:100...             9467.0555  \n",
       "exon:chr10:101165513-101165617:-@exon:chr10:101...            15790.6691  \n",
       "exon:chr10:101421203-101421385:+@exon:chr10:101...            20486.5337  \n",
       "exon:chr10:101480744-101480825:-@exon:chr10:101...            13050.1474  \n",
       "exon:chr10:101507014-101507147:+@exon:chr10:101...             9521.8938  "
      ]
     },
     "execution_count": 10,
     "metadata": {},
     "output_type": "execute_result"
    }
   ],
   "source": [
    "molecular_weight = protein_analysis.applymap(\n",
    "    lambda x: x.molecular_weight() if isinstance(x, ProteinAnalysis) else np.nan)\n",
    "molecular_weight.head()"
   ]
  },
  {
   "cell_type": "code",
   "execution_count": 11,
   "metadata": {
    "collapsed": false
   },
   "outputs": [
    {
     "ename": "KeyError",
     "evalue": "'the label [exon:chr10:79796952-79797062:+@exon:chr10:79799962-79799983:+@exon:chr10:79800373-79800471:+] is not in the [index]'",
     "output_type": "error",
     "traceback": [
      "\u001b[1;31m---------------------------------------------------------------------------\u001b[0m",
      "\u001b[1;31mKeyError\u001b[0m                                  Traceback (most recent call last)",
      "\u001b[1;32m<ipython-input-11-6f939c40cc1f>\u001b[0m in \u001b[0;36m<module>\u001b[1;34m()\u001b[0m\n\u001b[1;32m----> 1\u001b[1;33m \u001b[0mmolecular_weight\u001b[0m\u001b[1;33m.\u001b[0m\u001b[0mloc\u001b[0m\u001b[1;33m[\u001b[0m\u001b[0mrps24_event\u001b[0m\u001b[1;33m]\u001b[0m\u001b[1;33m\u001b[0m\u001b[0m\n\u001b[0m",
      "\u001b[1;32m/home/obotvinnik/anaconda/lib/python2.7/site-packages/pandas/core/indexing.pyc\u001b[0m in \u001b[0;36m__getitem__\u001b[1;34m(self, key)\u001b[0m\n\u001b[0;32m   1225\u001b[0m             \u001b[1;32mreturn\u001b[0m \u001b[0mself\u001b[0m\u001b[1;33m.\u001b[0m\u001b[0m_getitem_tuple\u001b[0m\u001b[1;33m(\u001b[0m\u001b[0mkey\u001b[0m\u001b[1;33m)\u001b[0m\u001b[1;33m\u001b[0m\u001b[0m\n\u001b[0;32m   1226\u001b[0m         \u001b[1;32melse\u001b[0m\u001b[1;33m:\u001b[0m\u001b[1;33m\u001b[0m\u001b[0m\n\u001b[1;32m-> 1227\u001b[1;33m             \u001b[1;32mreturn\u001b[0m \u001b[0mself\u001b[0m\u001b[1;33m.\u001b[0m\u001b[0m_getitem_axis\u001b[0m\u001b[1;33m(\u001b[0m\u001b[0mkey\u001b[0m\u001b[1;33m,\u001b[0m \u001b[0maxis\u001b[0m\u001b[1;33m=\u001b[0m\u001b[1;36m0\u001b[0m\u001b[1;33m)\u001b[0m\u001b[1;33m\u001b[0m\u001b[0m\n\u001b[0m\u001b[0;32m   1228\u001b[0m \u001b[1;33m\u001b[0m\u001b[0m\n\u001b[0;32m   1229\u001b[0m     \u001b[1;32mdef\u001b[0m \u001b[0m_getitem_axis\u001b[0m\u001b[1;33m(\u001b[0m\u001b[0mself\u001b[0m\u001b[1;33m,\u001b[0m \u001b[0mkey\u001b[0m\u001b[1;33m,\u001b[0m \u001b[0maxis\u001b[0m\u001b[1;33m=\u001b[0m\u001b[1;36m0\u001b[0m\u001b[1;33m)\u001b[0m\u001b[1;33m:\u001b[0m\u001b[1;33m\u001b[0m\u001b[0m\n",
      "\u001b[1;32m/home/obotvinnik/anaconda/lib/python2.7/site-packages/pandas/core/indexing.pyc\u001b[0m in \u001b[0;36m_getitem_axis\u001b[1;34m(self, key, axis)\u001b[0m\n\u001b[0;32m   1369\u001b[0m \u001b[1;33m\u001b[0m\u001b[0m\n\u001b[0;32m   1370\u001b[0m         \u001b[1;31m# fall thru to straight lookup\u001b[0m\u001b[1;33m\u001b[0m\u001b[1;33m\u001b[0m\u001b[0m\n\u001b[1;32m-> 1371\u001b[1;33m         \u001b[0mself\u001b[0m\u001b[1;33m.\u001b[0m\u001b[0m_has_valid_type\u001b[0m\u001b[1;33m(\u001b[0m\u001b[0mkey\u001b[0m\u001b[1;33m,\u001b[0m \u001b[0maxis\u001b[0m\u001b[1;33m)\u001b[0m\u001b[1;33m\u001b[0m\u001b[0m\n\u001b[0m\u001b[0;32m   1372\u001b[0m         \u001b[1;32mreturn\u001b[0m \u001b[0mself\u001b[0m\u001b[1;33m.\u001b[0m\u001b[0m_get_label\u001b[0m\u001b[1;33m(\u001b[0m\u001b[0mkey\u001b[0m\u001b[1;33m,\u001b[0m \u001b[0maxis\u001b[0m\u001b[1;33m=\u001b[0m\u001b[0maxis\u001b[0m\u001b[1;33m)\u001b[0m\u001b[1;33m\u001b[0m\u001b[0m\n\u001b[0;32m   1373\u001b[0m \u001b[1;33m\u001b[0m\u001b[0m\n",
      "\u001b[1;32m/home/obotvinnik/anaconda/lib/python2.7/site-packages/pandas/core/indexing.pyc\u001b[0m in \u001b[0;36m_has_valid_type\u001b[1;34m(self, key, axis)\u001b[0m\n\u001b[0;32m   1331\u001b[0m                 \u001b[1;32mraise\u001b[0m\u001b[1;33m\u001b[0m\u001b[0m\n\u001b[0;32m   1332\u001b[0m             \u001b[1;32mexcept\u001b[0m\u001b[1;33m:\u001b[0m\u001b[1;33m\u001b[0m\u001b[0m\n\u001b[1;32m-> 1333\u001b[1;33m                 \u001b[0merror\u001b[0m\u001b[1;33m(\u001b[0m\u001b[1;33m)\u001b[0m\u001b[1;33m\u001b[0m\u001b[0m\n\u001b[0m\u001b[0;32m   1334\u001b[0m \u001b[1;33m\u001b[0m\u001b[0m\n\u001b[0;32m   1335\u001b[0m         \u001b[1;32mreturn\u001b[0m \u001b[0mTrue\u001b[0m\u001b[1;33m\u001b[0m\u001b[0m\n",
      "\u001b[1;32m/home/obotvinnik/anaconda/lib/python2.7/site-packages/pandas/core/indexing.pyc\u001b[0m in \u001b[0;36merror\u001b[1;34m()\u001b[0m\n\u001b[0;32m   1318\u001b[0m                         \"cannot use label indexing with a null key\")\n\u001b[0;32m   1319\u001b[0m                 raise KeyError(\"the label [%s] is not in the [%s]\" %\n\u001b[1;32m-> 1320\u001b[1;33m                                (key, self.obj._get_axis_name(axis)))\n\u001b[0m\u001b[0;32m   1321\u001b[0m \u001b[1;33m\u001b[0m\u001b[0m\n\u001b[0;32m   1322\u001b[0m             \u001b[1;32mtry\u001b[0m\u001b[1;33m:\u001b[0m\u001b[1;33m\u001b[0m\u001b[0m\n",
      "\u001b[1;31mKeyError\u001b[0m: 'the label [exon:chr10:79796952-79797062:+@exon:chr10:79799962-79799983:+@exon:chr10:79800373-79800471:+] is not in the [index]'"
     ]
    }
   ],
   "source": [
    "molecular_weight.loc[rps24_event]"
   ]
  },
  {
   "cell_type": "code",
   "execution_count": 20,
   "metadata": {
    "collapsed": false
   },
   "outputs": [
    {
     "data": {
      "image/png": "[encoded data removed]",
      "text/plain": [
       "<matplotlib.figure.Figure at 0x2b32ff3fec50>"
      ]
     },
     "metadata": {},
     "output_type": "display_data"
    }
   ],
   "source": [
    "data = molecular_weight[molecular_weight.applymap(lambda x: isinstance(x, float))]\n",
    "data = data.astype(float) \n",
    "data = np.log10(data)\n",
    "\n",
    "g = sns.jointplot('isoform1_translation', 'isoform2_translation', data, \n",
    "                  kind='hex', joint_kws=dict(mincnt=1), color='black', size=4)\n",
    "label = r'$\\log_{{10}}$ Isoform{} molecular weight'\n",
    "g.ax_joint.set(xlabel=label.format(1), ylabel=label.format(2))\n",
    "g.ax_joint.locator_params(nbins=5)\n",
    "g.savefig('{}/molecular_weight_log10.pdf'.format(figure_folder))"
   ]
  },
  {
   "cell_type": "markdown",
   "metadata": {},
   "source": [
    "#### Isoelectric point (pI) \n",
    "\n",
    "Uses the module IsoelectricPoint to calculate the [pI](https://en.wikipedia.org/wiki/Isoelectric_point) of a protein. "
   ]
  },
  {
   "cell_type": "code",
   "execution_count": 21,
   "metadata": {
    "collapsed": false
   },
   "outputs": [
    {
     "data": {
      "text/html": [
       "<div>\n",
       "<table border=\"1\" class=\"dataframe\">\n",
       "  <thead>\n",
       "    <tr style=\"text-align: right;\">\n",
       "      <th></th>\n",
       "      <th>isoform1_translation</th>\n",
       "      <th>isoform2_translation</th>\n",
       "    </tr>\n",
       "  </thead>\n",
       "  <tbody>\n",
       "    <tr>\n",
       "      <th>exon:chr10:100190328-100190427:-@exon:chr10:100189548-100189646:-@exon:chr10:100189330-100189399:-</th>\n",
       "      <td>NaN</td>\n",
       "      <td>4.268616</td>\n",
       "    </tr>\n",
       "    <tr>\n",
       "      <th>exon:chr10:101165513-101165617:-@exon:chr10:101163481-101163631:-@exon:chr10:101163226-101163391:-</th>\n",
       "      <td>NaN</td>\n",
       "      <td>5.374329</td>\n",
       "    </tr>\n",
       "    <tr>\n",
       "      <th>exon:chr10:101421203-101421385:+@exon:chr10:101439018-101439223:+@exon:chr10:101439482-101439632:+</th>\n",
       "      <td>NaN</td>\n",
       "      <td>8.703552</td>\n",
       "    </tr>\n",
       "    <tr>\n",
       "      <th>exon:chr10:101480744-101480825:-@exon:chr10:101478103-101478257:-@exon:chr10:101476105-101476218:-</th>\n",
       "      <td>NaN</td>\n",
       "      <td>9.807312</td>\n",
       "    </tr>\n",
       "    <tr>\n",
       "      <th>exon:chr10:101507014-101507147:+@exon:chr10:101510126-101510153:+@exon:chr10:101514286-101514391:+</th>\n",
       "      <td>4.329041</td>\n",
       "      <td>6.099915</td>\n",
       "    </tr>\n",
       "  </tbody>\n",
       "</table>\n",
       "</div>"
      ],
      "text/plain": [
       "                                                    isoform1_translation  \\\n",
       "exon:chr10:100190328-100190427:-@exon:chr10:100...                   NaN   \n",
       "exon:chr10:101165513-101165617:-@exon:chr10:101...                   NaN   \n",
       "exon:chr10:101421203-101421385:+@exon:chr10:101...                   NaN   \n",
       "exon:chr10:101480744-101480825:-@exon:chr10:101...                   NaN   \n",
       "exon:chr10:101507014-101507147:+@exon:chr10:101...              4.329041   \n",
       "\n",
       "                                                    isoform2_translation  \n",
       "exon:chr10:100190328-100190427:-@exon:chr10:100...              4.268616  \n",
       "exon:chr10:101165513-101165617:-@exon:chr10:101...              5.374329  \n",
       "exon:chr10:101421203-101421385:+@exon:chr10:101...              8.703552  \n",
       "exon:chr10:101480744-101480825:-@exon:chr10:101...              9.807312  \n",
       "exon:chr10:101507014-101507147:+@exon:chr10:101...              6.099915  "
      ]
     },
     "execution_count": 21,
     "metadata": {},
     "output_type": "execute_result"
    }
   ],
   "source": [
    "isoelectric_point = protein_analysis.applymap(\n",
    "    lambda x: x.isoelectric_point() if isinstance(x, ProteinAnalysis) else np.nan) \n",
    "isoelectric_point.head()"
   ]
  },
  {
   "cell_type": "code",
   "execution_count": 22,
   "metadata": {
    "collapsed": false
   },
   "outputs": [
    {
     "data": {
      "text/plain": [
       "isoform1_translation    3.060120\n",
       "isoform2_translation    3.173767\n",
       "dtype: float64"
      ]
     },
     "execution_count": 22,
     "metadata": {},
     "output_type": "execute_result"
    }
   ],
   "source": [
    "isoelectric_point.min()"
   ]
  },
  {
   "cell_type": "code",
   "execution_count": 23,
   "metadata": {
    "collapsed": false
   },
   "outputs": [
    {
     "data": {
      "text/plain": [
       "isoform1_translation    13.519470\n",
       "isoform2_translation    12.957947\n",
       "dtype: float64"
      ]
     },
     "execution_count": 23,
     "metadata": {},
     "output_type": "execute_result"
    }
   ],
   "source": [
    "isoelectric_point.max()"
   ]
  },
  {
   "cell_type": "code",
   "execution_count": 24,
   "metadata": {
    "collapsed": false
   },
   "outputs": [
    {
     "name": "stdout",
     "output_type": "stream",
     "text": [
      "isoform1_translation    3.060120\n",
      "isoform2_translation    3.173767\n",
      "dtype: float64\n",
      "isoform1_translation    13.519470\n",
      "isoform2_translation    12.957947\n",
      "dtype: float64\n"
     ]
    },
    {
     "data": {
      "image/png": "[encoded data removed]",
      "text/plain": [
       "<matplotlib.figure.Figure at 0x2b3301b0c750>"
      ]
     },
     "metadata": {},
     "output_type": "display_data"
    }
   ],
   "source": [
    "data = isoelectric_point\n",
    "data = data[data.applymap(lambda x: isinstance(x, float))]\n",
    "print data.min()\n",
    "print data.max()\n",
    "\n",
    "g = sns.jointplot('isoform1_translation', 'isoform2_translation', \n",
    "              data,\n",
    "                  kind='hex', joint_kws=dict(mincnt=1), color='black', size=4)\n",
    "label = r'Isoform{} Isoelectric point'\n",
    "ticks = [1, 7.5, 14]\n",
    "g.ax_joint.set(xlabel=label.format(1), ylabel=label.format(2),\n",
    "               xticks=ticks, yticks=ticks)\n",
    "g.savefig('{}/isoelectric_point.pdf'.format(figure_folder))"
   ]
  },
  {
   "cell_type": "markdown",
   "metadata": {},
   "source": [
    "#### Aromaticity\n",
    "\n",
    "Calculates the aromaticity value of a protein according to [Lobry, 1994](http://www.ncbi.nlm.nih.gov/pubmed/8065933). It is simply the relative frequency of Phe+Trp+Tyr. "
   ]
  },
  {
   "cell_type": "code",
   "execution_count": 25,
   "metadata": {
    "collapsed": false
   },
   "outputs": [
    {
     "data": {
      "text/html": [
       "<div>\n",
       "<table border=\"1\" class=\"dataframe\">\n",
       "  <thead>\n",
       "    <tr style=\"text-align: right;\">\n",
       "      <th></th>\n",
       "      <th>isoform1_translation</th>\n",
       "      <th>isoform2_translation</th>\n",
       "    </tr>\n",
       "  </thead>\n",
       "  <tbody>\n",
       "    <tr>\n",
       "      <th>exon:chr10:100190328-100190427:-@exon:chr10:100189548-100189646:-@exon:chr10:100189330-100189399:-</th>\n",
       "      <td>NaN</td>\n",
       "      <td>0.056180</td>\n",
       "    </tr>\n",
       "    <tr>\n",
       "      <th>exon:chr10:101165513-101165617:-@exon:chr10:101163481-101163631:-@exon:chr10:101163226-101163391:-</th>\n",
       "      <td>NaN</td>\n",
       "      <td>0.135714</td>\n",
       "    </tr>\n",
       "    <tr>\n",
       "      <th>exon:chr10:101421203-101421385:+@exon:chr10:101439018-101439223:+@exon:chr10:101439482-101439632:+</th>\n",
       "      <td>NaN</td>\n",
       "      <td>0.117318</td>\n",
       "    </tr>\n",
       "    <tr>\n",
       "      <th>exon:chr10:101480744-101480825:-@exon:chr10:101478103-101478257:-@exon:chr10:101476105-101476218:-</th>\n",
       "      <td>NaN</td>\n",
       "      <td>0.111111</td>\n",
       "    </tr>\n",
       "    <tr>\n",
       "      <th>exon:chr10:101507014-101507147:+@exon:chr10:101510126-101510153:+@exon:chr10:101514286-101514391:+</th>\n",
       "      <td>0.042553</td>\n",
       "      <td>0.045455</td>\n",
       "    </tr>\n",
       "  </tbody>\n",
       "</table>\n",
       "</div>"
      ],
      "text/plain": [
       "                                                    isoform1_translation  \\\n",
       "exon:chr10:100190328-100190427:-@exon:chr10:100...                   NaN   \n",
       "exon:chr10:101165513-101165617:-@exon:chr10:101...                   NaN   \n",
       "exon:chr10:101421203-101421385:+@exon:chr10:101...                   NaN   \n",
       "exon:chr10:101480744-101480825:-@exon:chr10:101...                   NaN   \n",
       "exon:chr10:101507014-101507147:+@exon:chr10:101...              0.042553   \n",
       "\n",
       "                                                    isoform2_translation  \n",
       "exon:chr10:100190328-100190427:-@exon:chr10:100...              0.056180  \n",
       "exon:chr10:101165513-101165617:-@exon:chr10:101...              0.135714  \n",
       "exon:chr10:101421203-101421385:+@exon:chr10:101...              0.117318  \n",
       "exon:chr10:101480744-101480825:-@exon:chr10:101...              0.111111  \n",
       "exon:chr10:101507014-101507147:+@exon:chr10:101...              0.045455  "
      ]
     },
     "execution_count": 25,
     "metadata": {},
     "output_type": "execute_result"
    }
   ],
   "source": [
    "aromaticity = protein_analysis.applymap(\n",
    "    lambda x: x.aromaticity() if isinstance(x, ProteinAnalysis) else np.nan) \n",
    "aromaticity.head()"
   ]
  },
  {
   "cell_type": "code",
   "execution_count": 26,
   "metadata": {
    "collapsed": false
   },
   "outputs": [
    {
     "data": {
      "image/png": "[encoded data removed]",
      "text/plain": [
       "<matplotlib.figure.Figure at 0x2b330196d050>"
      ]
     },
     "metadata": {},
     "output_type": "display_data"
    }
   ],
   "source": [
    "data = aromaticity\n",
    "\n",
    "g = sns.jointplot('isoform1_translation', 'isoform2_translation', \n",
    "              data[data.applymap(lambda x: isinstance(x, float))], \n",
    "                  kind='hex', color='black', joint_kws=dict(mincnt=1), size=4)\n",
    "label = r'Isoform{} Aromaticity'\n",
    "xmin, xmax, ymin, ymax = g.ax_joint.axis()\n",
    "vlim = min(xmin, ymin), max(xmax, ymax)\n",
    "\n",
    "g.ax_joint.set(xlabel=label.format(1), ylabel=label.format(2), ylim=vlim, xlim=vlim)\n",
    "g.ax_joint.locator_params(nbins=4)\n",
    "g.savefig('{}/aromaticity.pdf'.format(folder))"
   ]
  },
  {
   "cell_type": "markdown",
   "metadata": {},
   "source": [
    "#### Instability index\n",
    "\n",
    "Implementation of the method of [Guruprasad et al. 1990](http://www.ncbi.nlm.nih.gov/pubmed/2075190) to test a protein for stability. Any value above 40 means the protein is unstable (has a short half life). "
   ]
  },
  {
   "cell_type": "code",
   "execution_count": 27,
   "metadata": {
    "collapsed": false
   },
   "outputs": [
    {
     "data": {
      "text/html": [
       "<div>\n",
       "<table border=\"1\" class=\"dataframe\">\n",
       "  <thead>\n",
       "    <tr style=\"text-align: right;\">\n",
       "      <th></th>\n",
       "      <th>isoform1_translation</th>\n",
       "      <th>isoform2_translation</th>\n",
       "    </tr>\n",
       "  </thead>\n",
       "  <tbody>\n",
       "    <tr>\n",
       "      <th>exon:chr10:100190328-100190427:-@exon:chr10:100189548-100189646:-@exon:chr10:100189330-100189399:-</th>\n",
       "      <td>NaN</td>\n",
       "      <td>102.239326</td>\n",
       "    </tr>\n",
       "    <tr>\n",
       "      <th>exon:chr10:101165513-101165617:-@exon:chr10:101163481-101163631:-@exon:chr10:101163226-101163391:-</th>\n",
       "      <td>NaN</td>\n",
       "      <td>33.800000</td>\n",
       "    </tr>\n",
       "    <tr>\n",
       "      <th>exon:chr10:101421203-101421385:+@exon:chr10:101439018-101439223:+@exon:chr10:101439482-101439632:+</th>\n",
       "      <td>NaN</td>\n",
       "      <td>34.983799</td>\n",
       "    </tr>\n",
       "    <tr>\n",
       "      <th>exon:chr10:101480744-101480825:-@exon:chr10:101478103-101478257:-@exon:chr10:101476105-101476218:-</th>\n",
       "      <td>NaN</td>\n",
       "      <td>50.441026</td>\n",
       "    </tr>\n",
       "    <tr>\n",
       "      <th>exon:chr10:101507014-101507147:+@exon:chr10:101510126-101510153:+@exon:chr10:101514286-101514391:+</th>\n",
       "      <td>52.5</td>\n",
       "      <td>50.257955</td>\n",
       "    </tr>\n",
       "  </tbody>\n",
       "</table>\n",
       "</div>"
      ],
      "text/plain": [
       "                                                    isoform1_translation  \\\n",
       "exon:chr10:100190328-100190427:-@exon:chr10:100...                   NaN   \n",
       "exon:chr10:101165513-101165617:-@exon:chr10:101...                   NaN   \n",
       "exon:chr10:101421203-101421385:+@exon:chr10:101...                   NaN   \n",
       "exon:chr10:101480744-101480825:-@exon:chr10:101...                   NaN   \n",
       "exon:chr10:101507014-101507147:+@exon:chr10:101...                  52.5   \n",
       "\n",
       "                                                    isoform2_translation  \n",
       "exon:chr10:100190328-100190427:-@exon:chr10:100...            102.239326  \n",
       "exon:chr10:101165513-101165617:-@exon:chr10:101...             33.800000  \n",
       "exon:chr10:101421203-101421385:+@exon:chr10:101...             34.983799  \n",
       "exon:chr10:101480744-101480825:-@exon:chr10:101...             50.441026  \n",
       "exon:chr10:101507014-101507147:+@exon:chr10:101...             50.257955  "
      ]
     },
     "execution_count": 27,
     "metadata": {},
     "output_type": "execute_result"
    }
   ],
   "source": [
    "instability_index = protein_analysis.applymap(\n",
    "    lambda x: x.instability_index() if isinstance(x, ProteinAnalysis) else np.nan) \n",
    "instability_index.head()"
   ]
  },
  {
   "cell_type": "code",
   "execution_count": 28,
   "metadata": {
    "collapsed": false
   },
   "outputs": [
    {
     "data": {
      "image/png": "[encoded data removed]",
      "text/plain": [
       "<matplotlib.figure.Figure at 0x2b33059b2050>"
      ]
     },
     "metadata": {},
     "output_type": "display_data"
    }
   ],
   "source": [
    "data = instability_index\n",
    "\n",
    "g = sns.jointplot('isoform1_translation', 'isoform2_translation', \n",
    "              data[data.applymap(lambda x: isinstance(x, float))], \n",
    "                  kind='hex', color='black', joint_kws=dict(mincnt=1), size=4)\n",
    "label = r'Isoform{} Instability Index'\n",
    "g.ax_joint.set(xlabel=label.format(1), ylabel=label.format(2))\n",
    "g.ax_joint.locator_params(nbins=5)\n",
    "g.savefig('{}/instability_index.pdf'.format(folder))"
   ]
  },
  {
   "cell_type": "markdown",
   "metadata": {},
   "source": [
    "#### Grand average of hydropathy (GRAVY)\n",
    "\n",
    "From [GRAVY website](http://www.bioinformatics.org/sms2/protein_gravy.html): \n",
    "\n",
    "> Protein GRAVY returns the GRAVY (grand average of hydropathy) value for the protein sequences you enter. The GRAVY value is calculated by adding the hydropathy value for each residue and dividing by the length of the sequence ([Kyte and Doolittle; 1982](http://www.ncbi.nlm.nih.gov/pubmed/7108955?dopt=Abstract))."
   ]
  },
  {
   "cell_type": "code",
   "execution_count": 29,
   "metadata": {
    "collapsed": false
   },
   "outputs": [
    {
     "data": {
      "text/html": [
       "<div>\n",
       "<table border=\"1\" class=\"dataframe\">\n",
       "  <thead>\n",
       "    <tr style=\"text-align: right;\">\n",
       "      <th></th>\n",
       "      <th>isoform1_translation</th>\n",
       "      <th>isoform2_translation</th>\n",
       "    </tr>\n",
       "  </thead>\n",
       "  <tbody>\n",
       "    <tr>\n",
       "      <th>exon:chr10:100190328-100190427:-@exon:chr10:100189548-100189646:-@exon:chr10:100189330-100189399:-</th>\n",
       "      <td>NaN</td>\n",
       "      <td>-0.664045</td>\n",
       "    </tr>\n",
       "    <tr>\n",
       "      <th>exon:chr10:101165513-101165617:-@exon:chr10:101163481-101163631:-@exon:chr10:101163226-101163391:-</th>\n",
       "      <td>NaN</td>\n",
       "      <td>-0.138571</td>\n",
       "    </tr>\n",
       "    <tr>\n",
       "      <th>exon:chr10:101421203-101421385:+@exon:chr10:101439018-101439223:+@exon:chr10:101439482-101439632:+</th>\n",
       "      <td>NaN</td>\n",
       "      <td>-0.053073</td>\n",
       "    </tr>\n",
       "    <tr>\n",
       "      <th>exon:chr10:101480744-101480825:-@exon:chr10:101478103-101478257:-@exon:chr10:101476105-101476218:-</th>\n",
       "      <td>NaN</td>\n",
       "      <td>0.393162</td>\n",
       "    </tr>\n",
       "    <tr>\n",
       "      <th>exon:chr10:101507014-101507147:+@exon:chr10:101510126-101510153:+@exon:chr10:101514286-101514391:+</th>\n",
       "      <td>0.442553</td>\n",
       "      <td>-0.017045</td>\n",
       "    </tr>\n",
       "  </tbody>\n",
       "</table>\n",
       "</div>"
      ],
      "text/plain": [
       "                                                    isoform1_translation  \\\n",
       "exon:chr10:100190328-100190427:-@exon:chr10:100...                   NaN   \n",
       "exon:chr10:101165513-101165617:-@exon:chr10:101...                   NaN   \n",
       "exon:chr10:101421203-101421385:+@exon:chr10:101...                   NaN   \n",
       "exon:chr10:101480744-101480825:-@exon:chr10:101...                   NaN   \n",
       "exon:chr10:101507014-101507147:+@exon:chr10:101...              0.442553   \n",
       "\n",
       "                                                    isoform2_translation  \n",
       "exon:chr10:100190328-100190427:-@exon:chr10:100...             -0.664045  \n",
       "exon:chr10:101165513-101165617:-@exon:chr10:101...             -0.138571  \n",
       "exon:chr10:101421203-101421385:+@exon:chr10:101...             -0.053073  \n",
       "exon:chr10:101480744-101480825:-@exon:chr10:101...              0.393162  \n",
       "exon:chr10:101507014-101507147:+@exon:chr10:101...             -0.017045  "
      ]
     },
     "execution_count": 29,
     "metadata": {},
     "output_type": "execute_result"
    }
   ],
   "source": [
    "gravy = protein_analysis.applymap(\n",
    "    lambda x: x.gravy() if isinstance(x, ProteinAnalysis) else np.nan) \n",
    "gravy.head()"
   ]
  },
  {
   "cell_type": "code",
   "execution_count": 30,
   "metadata": {
    "collapsed": false
   },
   "outputs": [
    {
     "data": {
      "image/png": "[encoded data removed]",
      "text/plain": [
       "<matplotlib.figure.Figure at 0x2b3301a1d910>"
      ]
     },
     "metadata": {},
     "output_type": "display_data"
    }
   ],
   "source": [
    "data = gravy\n",
    "\n",
    "g = sns.jointplot('isoform1_translation', 'isoform2_translation', \n",
    "              data[data.applymap(lambda x: isinstance(x, float))], \n",
    "                  kind='hex', color='black', joint_kws=dict(mincnt=1), size=4)\n",
    "label = r'Isoform{} GRAVY'\n",
    "g.ax_joint.set(xlabel=label.format(1), ylabel=label.format(2))\n",
    "# g.ax_joint.locator_params(nbins=4)\n",
    "g.savefig('{}/gravy.pdf'.format(folder))"
   ]
  },
  {
   "cell_type": "code",
   "execution_count": 31,
   "metadata": {
    "collapsed": false
   },
   "outputs": [
    {
     "data": {
      "text/html": [
       "<div>\n",
       "<table border=\"1\" class=\"dataframe\">\n",
       "  <thead>\n",
       "    <tr style=\"text-align: right;\">\n",
       "      <th></th>\n",
       "      <th>isoform1_translation</th>\n",
       "      <th>isoform2_translation</th>\n",
       "    </tr>\n",
       "  </thead>\n",
       "  <tbody>\n",
       "    <tr>\n",
       "      <th>exon:chr10:100190328-100190427:-@exon:chr10:100189548-100189646:-@exon:chr10:100189330-100189399:-</th>\n",
       "      <td>Series([], dtype: float64)</td>\n",
       "      <td>helix    0.202247\n",
       "turn     0.370787\n",
       "sheet    0...</td>\n",
       "    </tr>\n",
       "    <tr>\n",
       "      <th>exon:chr10:101165513-101165617:-@exon:chr10:101163481-101163631:-@exon:chr10:101163226-101163391:-</th>\n",
       "      <td>Series([], dtype: float64)</td>\n",
       "      <td>helix    0.328571\n",
       "turn     0.264286\n",
       "sheet    0...</td>\n",
       "    </tr>\n",
       "    <tr>\n",
       "      <th>exon:chr10:101421203-101421385:+@exon:chr10:101439018-101439223:+@exon:chr10:101439482-101439632:+</th>\n",
       "      <td>Series([], dtype: float64)</td>\n",
       "      <td>helix    0.357542\n",
       "turn     0.229050\n",
       "sheet    0...</td>\n",
       "    </tr>\n",
       "    <tr>\n",
       "      <th>exon:chr10:101480744-101480825:-@exon:chr10:101478103-101478257:-@exon:chr10:101476105-101476218:-</th>\n",
       "      <td>Series([], dtype: float64)</td>\n",
       "      <td>helix    0.384615\n",
       "turn     0.196581\n",
       "sheet    0...</td>\n",
       "    </tr>\n",
       "    <tr>\n",
       "      <th>exon:chr10:101507014-101507147:+@exon:chr10:101510126-101510153:+@exon:chr10:101514286-101514391:+</th>\n",
       "      <td>helix    0.361702\n",
       "turn     0.170213\n",
       "sheet    0...</td>\n",
       "      <td>helix    0.272727\n",
       "turn     0.238636\n",
       "sheet    0...</td>\n",
       "    </tr>\n",
       "  </tbody>\n",
       "</table>\n",
       "</div>"
      ],
      "text/plain": [
       "                                                                                 isoform1_translation  \\\n",
       "exon:chr10:100190328-100190427:-@exon:chr10:100...                         Series([], dtype: float64)   \n",
       "exon:chr10:101165513-101165617:-@exon:chr10:101...                         Series([], dtype: float64)   \n",
       "exon:chr10:101421203-101421385:+@exon:chr10:101...                         Series([], dtype: float64)   \n",
       "exon:chr10:101480744-101480825:-@exon:chr10:101...                         Series([], dtype: float64)   \n",
       "exon:chr10:101507014-101507147:+@exon:chr10:101...  helix    0.361702\n",
       "turn     0.170213\n",
       "sheet    0...   \n",
       "\n",
       "                                                                                 isoform2_translation  \n",
       "exon:chr10:100190328-100190427:-@exon:chr10:100...  helix    0.202247\n",
       "turn     0.370787\n",
       "sheet    0...  \n",
       "exon:chr10:101165513-101165617:-@exon:chr10:101...  helix    0.328571\n",
       "turn     0.264286\n",
       "sheet    0...  \n",
       "exon:chr10:101421203-101421385:+@exon:chr10:101...  helix    0.357542\n",
       "turn     0.229050\n",
       "sheet    0...  \n",
       "exon:chr10:101480744-101480825:-@exon:chr10:101...  helix    0.384615\n",
       "turn     0.196581\n",
       "sheet    0...  \n",
       "exon:chr10:101507014-101507147:+@exon:chr10:101...  helix    0.272727\n",
       "turn     0.238636\n",
       "sheet    0...  "
      ]
     },
     "execution_count": 31,
     "metadata": {},
     "output_type": "execute_result"
    }
   ],
   "source": [
    "secondary_structure_fraction = protein_analysis.applymap(\n",
    "    lambda x: pd.Series(x.secondary_structure_fraction(), index=['helix', 'turn', 'sheet']) \n",
    "    if isinstance(x, ProteinAnalysis) else pd.Series()) \n",
    "secondary_structure_fraction.head()"
   ]
  },
  {
   "cell_type": "code",
   "execution_count": 32,
   "metadata": {
    "collapsed": false
   },
   "outputs": [
    {
     "data": {
      "text/html": [
       "<div>\n",
       "<table border=\"1\" class=\"dataframe\">\n",
       "  <thead>\n",
       "    <tr style=\"text-align: right;\">\n",
       "      <th></th>\n",
       "      <th>isoform</th>\n",
       "      <th>event_name</th>\n",
       "      <th>secondary_structure</th>\n",
       "      <th>percent</th>\n",
       "    </tr>\n",
       "  </thead>\n",
       "  <tbody>\n",
       "    <tr>\n",
       "      <th>0</th>\n",
       "      <td>isoform1_translation</td>\n",
       "      <td>exon:chr10:100190328-100190427:-@exon:chr10:10...</td>\n",
       "      <td>helix</td>\n",
       "      <td>NaN</td>\n",
       "    </tr>\n",
       "    <tr>\n",
       "      <th>1</th>\n",
       "      <td>isoform1_translation</td>\n",
       "      <td>exon:chr10:100190328-100190427:-@exon:chr10:10...</td>\n",
       "      <td>sheet</td>\n",
       "      <td>NaN</td>\n",
       "    </tr>\n",
       "    <tr>\n",
       "      <th>2</th>\n",
       "      <td>isoform1_translation</td>\n",
       "      <td>exon:chr10:100190328-100190427:-@exon:chr10:10...</td>\n",
       "      <td>turn</td>\n",
       "      <td>NaN</td>\n",
       "    </tr>\n",
       "    <tr>\n",
       "      <th>3</th>\n",
       "      <td>isoform1_translation</td>\n",
       "      <td>exon:chr10:101165513-101165617:-@exon:chr10:10...</td>\n",
       "      <td>helix</td>\n",
       "      <td>NaN</td>\n",
       "    </tr>\n",
       "    <tr>\n",
       "      <th>4</th>\n",
       "      <td>isoform1_translation</td>\n",
       "      <td>exon:chr10:101165513-101165617:-@exon:chr10:10...</td>\n",
       "      <td>sheet</td>\n",
       "      <td>NaN</td>\n",
       "    </tr>\n",
       "  </tbody>\n",
       "</table>\n",
       "</div>"
      ],
      "text/plain": [
       "                isoform                                         event_name  \\\n",
       "0  isoform1_translation  exon:chr10:100190328-100190427:-@exon:chr10:10...   \n",
       "1  isoform1_translation  exon:chr10:100190328-100190427:-@exon:chr10:10...   \n",
       "2  isoform1_translation  exon:chr10:100190328-100190427:-@exon:chr10:10...   \n",
       "3  isoform1_translation  exon:chr10:101165513-101165617:-@exon:chr10:10...   \n",
       "4  isoform1_translation  exon:chr10:101165513-101165617:-@exon:chr10:10...   \n",
       "\n",
       "  secondary_structure  percent  \n",
       "0               helix      NaN  \n",
       "1               sheet      NaN  \n",
       "2                turn      NaN  \n",
       "3               helix      NaN  \n",
       "4               sheet      NaN  "
      ]
     },
     "execution_count": 32,
     "metadata": {},
     "output_type": "execute_result"
    }
   ],
   "source": [
    "secondary_structure_tidy = pd.DataFrame(secondary_structure_fraction.unstack().to_dict()).unstack().reset_index()\n",
    "secondary_structure_tidy = secondary_structure_tidy.rename(\n",
    "    columns={'level_0': 'isoform', 'level_1': 'event_name', 'level_2': 'secondary_structure', 0: 'percent'})\n",
    "secondary_structure_tidy.head()"
   ]
  },
  {
   "cell_type": "code",
   "execution_count": 33,
   "metadata": {
    "collapsed": false
   },
   "outputs": [
    {
     "data": {
      "text/html": [
       "<div>\n",
       "<table border=\"1\" class=\"dataframe\">\n",
       "  <thead>\n",
       "    <tr style=\"text-align: right;\">\n",
       "      <th></th>\n",
       "      <th>isoform</th>\n",
       "      <th>event_name</th>\n",
       "      <th>secondary_structure</th>\n",
       "      <th>percent</th>\n",
       "      <th>isoform_structure</th>\n",
       "    </tr>\n",
       "  </thead>\n",
       "  <tbody>\n",
       "    <tr>\n",
       "      <th>0</th>\n",
       "      <td>isoform1_translation</td>\n",
       "      <td>exon:chr10:100190328-100190427:-@exon:chr10:10...</td>\n",
       "      <td>helix</td>\n",
       "      <td>NaN</td>\n",
       "      <td>isoform1_protein_secondary_structure_helix</td>\n",
       "    </tr>\n",
       "    <tr>\n",
       "      <th>1</th>\n",
       "      <td>isoform1_translation</td>\n",
       "      <td>exon:chr10:100190328-100190427:-@exon:chr10:10...</td>\n",
       "      <td>sheet</td>\n",
       "      <td>NaN</td>\n",
       "      <td>isoform1_protein_secondary_structure_sheet</td>\n",
       "    </tr>\n",
       "    <tr>\n",
       "      <th>2</th>\n",
       "      <td>isoform1_translation</td>\n",
       "      <td>exon:chr10:100190328-100190427:-@exon:chr10:10...</td>\n",
       "      <td>turn</td>\n",
       "      <td>NaN</td>\n",
       "      <td>isoform1_protein_secondary_structure_turn</td>\n",
       "    </tr>\n",
       "    <tr>\n",
       "      <th>3</th>\n",
       "      <td>isoform1_translation</td>\n",
       "      <td>exon:chr10:101165513-101165617:-@exon:chr10:10...</td>\n",
       "      <td>helix</td>\n",
       "      <td>NaN</td>\n",
       "      <td>isoform1_protein_secondary_structure_helix</td>\n",
       "    </tr>\n",
       "    <tr>\n",
       "      <th>4</th>\n",
       "      <td>isoform1_translation</td>\n",
       "      <td>exon:chr10:101165513-101165617:-@exon:chr10:10...</td>\n",
       "      <td>sheet</td>\n",
       "      <td>NaN</td>\n",
       "      <td>isoform1_protein_secondary_structure_sheet</td>\n",
       "    </tr>\n",
       "  </tbody>\n",
       "</table>\n",
       "</div>"
      ],
      "text/plain": [
       "                isoform                                         event_name  \\\n",
       "0  isoform1_translation  exon:chr10:100190328-100190427:-@exon:chr10:10...   \n",
       "1  isoform1_translation  exon:chr10:100190328-100190427:-@exon:chr10:10...   \n",
       "2  isoform1_translation  exon:chr10:100190328-100190427:-@exon:chr10:10...   \n",
       "3  isoform1_translation  exon:chr10:101165513-101165617:-@exon:chr10:10...   \n",
       "4  isoform1_translation  exon:chr10:101165513-101165617:-@exon:chr10:10...   \n",
       "\n",
       "  secondary_structure  percent                           isoform_structure  \n",
       "0               helix      NaN  isoform1_protein_secondary_structure_helix  \n",
       "1               sheet      NaN  isoform1_protein_secondary_structure_sheet  \n",
       "2                turn      NaN   isoform1_protein_secondary_structure_turn  \n",
       "3               helix      NaN  isoform1_protein_secondary_structure_helix  \n",
       "4               sheet      NaN  isoform1_protein_secondary_structure_sheet  "
      ]
     },
     "execution_count": 33,
     "metadata": {},
     "output_type": "execute_result"
    }
   ],
   "source": [
    "secondary_structure_tidy['isoform_structure'] = secondary_structure_tidy.isoform.str.split('_').str[0] \\\n",
    "    + '_protein_secondary_structure_' + secondary_structure_tidy.secondary_structure\n",
    "secondary_structure_tidy.head()"
   ]
  },
  {
   "cell_type": "code",
   "execution_count": 34,
   "metadata": {
    "collapsed": false
   },
   "outputs": [
    {
     "data": {
      "text/html": [
       "<div>\n",
       "<table border=\"1\" class=\"dataframe\">\n",
       "  <thead>\n",
       "    <tr style=\"text-align: right;\">\n",
       "      <th>isoform_structure</th>\n",
       "      <th>isoform1_protein_secondary_structure_helix</th>\n",
       "      <th>isoform1_protein_secondary_structure_sheet</th>\n",
       "      <th>isoform1_protein_secondary_structure_turn</th>\n",
       "      <th>isoform2_protein_secondary_structure_helix</th>\n",
       "      <th>isoform2_protein_secondary_structure_sheet</th>\n",
       "      <th>isoform2_protein_secondary_structure_turn</th>\n",
       "    </tr>\n",
       "    <tr>\n",
       "      <th>event_name</th>\n",
       "      <th></th>\n",
       "      <th></th>\n",
       "      <th></th>\n",
       "      <th></th>\n",
       "      <th></th>\n",
       "      <th></th>\n",
       "    </tr>\n",
       "  </thead>\n",
       "  <tbody>\n",
       "    <tr>\n",
       "      <th>exon:chr10:100190328-100190427:-@exon:chr10:100189548-100189646:-@exon:chr10:100189330-100189399:-</th>\n",
       "      <td>NaN</td>\n",
       "      <td>NaN</td>\n",
       "      <td>NaN</td>\n",
       "      <td>0.202247</td>\n",
       "      <td>0.247191</td>\n",
       "      <td>0.370787</td>\n",
       "    </tr>\n",
       "    <tr>\n",
       "      <th>exon:chr10:101165513-101165617:-@exon:chr10:101163481-101163631:-@exon:chr10:101163226-101163391:-</th>\n",
       "      <td>NaN</td>\n",
       "      <td>NaN</td>\n",
       "      <td>NaN</td>\n",
       "      <td>0.328571</td>\n",
       "      <td>0.250000</td>\n",
       "      <td>0.264286</td>\n",
       "    </tr>\n",
       "    <tr>\n",
       "      <th>exon:chr10:101421203-101421385:+@exon:chr10:101439018-101439223:+@exon:chr10:101439482-101439632:+</th>\n",
       "      <td>NaN</td>\n",
       "      <td>NaN</td>\n",
       "      <td>NaN</td>\n",
       "      <td>0.357542</td>\n",
       "      <td>0.256983</td>\n",
       "      <td>0.229050</td>\n",
       "    </tr>\n",
       "    <tr>\n",
       "      <th>exon:chr10:101480744-101480825:-@exon:chr10:101478103-101478257:-@exon:chr10:101476105-101476218:-</th>\n",
       "      <td>NaN</td>\n",
       "      <td>NaN</td>\n",
       "      <td>NaN</td>\n",
       "      <td>0.384615</td>\n",
       "      <td>0.307692</td>\n",
       "      <td>0.196581</td>\n",
       "    </tr>\n",
       "    <tr>\n",
       "      <th>exon:chr10:101507014-101507147:+@exon:chr10:101510126-101510153:+@exon:chr10:101514286-101514391:+</th>\n",
       "      <td>0.361702</td>\n",
       "      <td>0.404255</td>\n",
       "      <td>0.170213</td>\n",
       "      <td>0.272727</td>\n",
       "      <td>0.306818</td>\n",
       "      <td>0.238636</td>\n",
       "    </tr>\n",
       "  </tbody>\n",
       "</table>\n",
       "</div>"
      ],
      "text/plain": [
       "isoform_structure                                   isoform1_protein_secondary_structure_helix  \\\n",
       "event_name                                                                                       \n",
       "exon:chr10:100190328-100190427:-@exon:chr10:100...                                         NaN   \n",
       "exon:chr10:101165513-101165617:-@exon:chr10:101...                                         NaN   \n",
       "exon:chr10:101421203-101421385:+@exon:chr10:101...                                         NaN   \n",
       "exon:chr10:101480744-101480825:-@exon:chr10:101...                                         NaN   \n",
       "exon:chr10:101507014-101507147:+@exon:chr10:101...                                    0.361702   \n",
       "\n",
       "isoform_structure                                   isoform1_protein_secondary_structure_sheet  \\\n",
       "event_name                                                                                       \n",
       "exon:chr10:100190328-100190427:-@exon:chr10:100...                                         NaN   \n",
       "exon:chr10:101165513-101165617:-@exon:chr10:101...                                         NaN   \n",
       "exon:chr10:101421203-101421385:+@exon:chr10:101...                                         NaN   \n",
       "exon:chr10:101480744-101480825:-@exon:chr10:101...                                         NaN   \n",
       "exon:chr10:101507014-101507147:+@exon:chr10:101...                                    0.404255   \n",
       "\n",
       "isoform_structure                                   isoform1_protein_secondary_structure_turn  \\\n",
       "event_name                                                                                      \n",
       "exon:chr10:100190328-100190427:-@exon:chr10:100...                                        NaN   \n",
       "exon:chr10:101165513-101165617:-@exon:chr10:101...                                        NaN   \n",
       "exon:chr10:101421203-101421385:+@exon:chr10:101...                                        NaN   \n",
       "exon:chr10:101480744-101480825:-@exon:chr10:101...                                        NaN   \n",
       "exon:chr10:101507014-101507147:+@exon:chr10:101...                                   0.170213   \n",
       "\n",
       "isoform_structure                                   isoform2_protein_secondary_structure_helix  \\\n",
       "event_name                                                                                       \n",
       "exon:chr10:100190328-100190427:-@exon:chr10:100...                                    0.202247   \n",
       "exon:chr10:101165513-101165617:-@exon:chr10:101...                                    0.328571   \n",
       "exon:chr10:101421203-101421385:+@exon:chr10:101...                                    0.357542   \n",
       "exon:chr10:101480744-101480825:-@exon:chr10:101...                                    0.384615   \n",
       "exon:chr10:101507014-101507147:+@exon:chr10:101...                                    0.272727   \n",
       "\n",
       "isoform_structure                                   isoform2_protein_secondary_structure_sheet  \\\n",
       "event_name                                                                                       \n",
       "exon:chr10:100190328-100190427:-@exon:chr10:100...                                    0.247191   \n",
       "exon:chr10:101165513-101165617:-@exon:chr10:101...                                    0.250000   \n",
       "exon:chr10:101421203-101421385:+@exon:chr10:101...                                    0.256983   \n",
       "exon:chr10:101480744-101480825:-@exon:chr10:101...                                    0.307692   \n",
       "exon:chr10:101507014-101507147:+@exon:chr10:101...                                    0.306818   \n",
       "\n",
       "isoform_structure                                   isoform2_protein_secondary_structure_turn  \n",
       "event_name                                                                                     \n",
       "exon:chr10:100190328-100190427:-@exon:chr10:100...                                   0.370787  \n",
       "exon:chr10:101165513-101165617:-@exon:chr10:101...                                   0.264286  \n",
       "exon:chr10:101421203-101421385:+@exon:chr10:101...                                   0.229050  \n",
       "exon:chr10:101480744-101480825:-@exon:chr10:101...                                   0.196581  \n",
       "exon:chr10:101507014-101507147:+@exon:chr10:101...                                   0.238636  "
      ]
     },
     "execution_count": 34,
     "metadata": {},
     "output_type": "execute_result"
    }
   ],
   "source": [
    "secondary_structure_2d = secondary_structure_tidy.pivot(columns='isoform_structure', index='event_name', values='percent')\n",
    "secondary_structure_2d.head()"
   ]
  },
  {
   "cell_type": "markdown",
   "metadata": {},
   "source": [
    "## Join to splicing data"
   ]
  },
  {
   "cell_type": "code",
   "execution_count": 35,
   "metadata": {
    "collapsed": false
   },
   "outputs": [
    {
     "ename": "IOError",
     "evalue": "File /projects/ps-yeolab/obotvinnik/singlecell_pnms/splicing_feature_data.csv does not exist",
     "output_type": "error",
     "traceback": [
      "\u001b[1;31m---------------------------------------------------------------------------\u001b[0m",
      "\u001b[1;31mIOError\u001b[0m                                   Traceback (most recent call last)",
      "\u001b[1;32m<ipython-input-35-9733f6f89a57>\u001b[0m in \u001b[0;36m<module>\u001b[1;34m()\u001b[0m\n\u001b[1;32m----> 1\u001b[1;33m \u001b[0msplicing_feature_data\u001b[0m \u001b[1;33m=\u001b[0m \u001b[0mpd\u001b[0m\u001b[1;33m.\u001b[0m\u001b[0mread_csv\u001b[0m\u001b[1;33m(\u001b[0m\u001b[1;34m'{}/splicing_feature_data.csv'\u001b[0m\u001b[1;33m.\u001b[0m\u001b[0mformat\u001b[0m\u001b[1;33m(\u001b[0m\u001b[0mfolder\u001b[0m\u001b[1;33m)\u001b[0m\u001b[1;33m,\u001b[0m \u001b[0mindex_col\u001b[0m\u001b[1;33m=\u001b[0m\u001b[1;36m0\u001b[0m\u001b[1;33m)\u001b[0m\u001b[1;33m\u001b[0m\u001b[0m\n\u001b[0m\u001b[0;32m      2\u001b[0m \u001b[1;32mprint\u001b[0m \u001b[0msplicing_feature_data\u001b[0m\u001b[1;33m.\u001b[0m\u001b[0mshape\u001b[0m\u001b[1;33m\u001b[0m\u001b[0m\n\u001b[0;32m      3\u001b[0m \u001b[0msplicing_feature_data\u001b[0m\u001b[1;33m.\u001b[0m\u001b[0mhead\u001b[0m\u001b[1;33m(\u001b[0m\u001b[1;33m)\u001b[0m\u001b[1;33m\u001b[0m\u001b[0m\n",
      "\u001b[1;32m/home/obotvinnik/anaconda/lib/python2.7/site-packages/pandas/io/parsers.pyc\u001b[0m in \u001b[0;36mparser_f\u001b[1;34m(filepath_or_buffer, sep, dialect, compression, doublequote, escapechar, quotechar, quoting, skipinitialspace, lineterminator, header, index_col, names, prefix, skiprows, skipfooter, skip_footer, na_values, true_values, false_values, delimiter, converters, dtype, usecols, engine, delim_whitespace, as_recarray, na_filter, compact_ints, use_unsigned, low_memory, buffer_lines, warn_bad_lines, error_bad_lines, keep_default_na, thousands, comment, decimal, parse_dates, keep_date_col, dayfirst, date_parser, memory_map, float_precision, nrows, iterator, chunksize, verbose, encoding, squeeze, mangle_dupe_cols, tupleize_cols, infer_datetime_format, skip_blank_lines)\u001b[0m\n\u001b[0;32m    496\u001b[0m                     skip_blank_lines=skip_blank_lines)\n\u001b[0;32m    497\u001b[0m \u001b[1;33m\u001b[0m\u001b[0m\n\u001b[1;32m--> 498\u001b[1;33m         \u001b[1;32mreturn\u001b[0m \u001b[0m_read\u001b[0m\u001b[1;33m(\u001b[0m\u001b[0mfilepath_or_buffer\u001b[0m\u001b[1;33m,\u001b[0m \u001b[0mkwds\u001b[0m\u001b[1;33m)\u001b[0m\u001b[1;33m\u001b[0m\u001b[0m\n\u001b[0m\u001b[0;32m    499\u001b[0m \u001b[1;33m\u001b[0m\u001b[0m\n\u001b[0;32m    500\u001b[0m     \u001b[0mparser_f\u001b[0m\u001b[1;33m.\u001b[0m\u001b[0m__name__\u001b[0m \u001b[1;33m=\u001b[0m \u001b[0mname\u001b[0m\u001b[1;33m\u001b[0m\u001b[0m\n",
      "\u001b[1;32m/home/obotvinnik/anaconda/lib/python2.7/site-packages/pandas/io/parsers.pyc\u001b[0m in \u001b[0;36m_read\u001b[1;34m(filepath_or_buffer, kwds)\u001b[0m\n\u001b[0;32m    273\u001b[0m \u001b[1;33m\u001b[0m\u001b[0m\n\u001b[0;32m    274\u001b[0m     \u001b[1;31m# Create the parser.\u001b[0m\u001b[1;33m\u001b[0m\u001b[1;33m\u001b[0m\u001b[0m\n\u001b[1;32m--> 275\u001b[1;33m     \u001b[0mparser\u001b[0m \u001b[1;33m=\u001b[0m \u001b[0mTextFileReader\u001b[0m\u001b[1;33m(\u001b[0m\u001b[0mfilepath_or_buffer\u001b[0m\u001b[1;33m,\u001b[0m \u001b[1;33m**\u001b[0m\u001b[0mkwds\u001b[0m\u001b[1;33m)\u001b[0m\u001b[1;33m\u001b[0m\u001b[0m\n\u001b[0m\u001b[0;32m    276\u001b[0m \u001b[1;33m\u001b[0m\u001b[0m\n\u001b[0;32m    277\u001b[0m     \u001b[1;32mif\u001b[0m \u001b[1;33m(\u001b[0m\u001b[0mnrows\u001b[0m \u001b[1;32mis\u001b[0m \u001b[1;32mnot\u001b[0m \u001b[0mNone\u001b[0m\u001b[1;33m)\u001b[0m \u001b[1;32mand\u001b[0m \u001b[1;33m(\u001b[0m\u001b[0mchunksize\u001b[0m \u001b[1;32mis\u001b[0m \u001b[1;32mnot\u001b[0m \u001b[0mNone\u001b[0m\u001b[1;33m)\u001b[0m\u001b[1;33m:\u001b[0m\u001b[1;33m\u001b[0m\u001b[0m\n",
      "\u001b[1;32m/home/obotvinnik/anaconda/lib/python2.7/site-packages/pandas/io/parsers.pyc\u001b[0m in \u001b[0;36m__init__\u001b[1;34m(self, f, engine, **kwds)\u001b[0m\n\u001b[0;32m    588\u001b[0m             \u001b[0mself\u001b[0m\u001b[1;33m.\u001b[0m\u001b[0moptions\u001b[0m\u001b[1;33m[\u001b[0m\u001b[1;34m'has_index_names'\u001b[0m\u001b[1;33m]\u001b[0m \u001b[1;33m=\u001b[0m \u001b[0mkwds\u001b[0m\u001b[1;33m[\u001b[0m\u001b[1;34m'has_index_names'\u001b[0m\u001b[1;33m]\u001b[0m\u001b[1;33m\u001b[0m\u001b[0m\n\u001b[0;32m    589\u001b[0m \u001b[1;33m\u001b[0m\u001b[0m\n\u001b[1;32m--> 590\u001b[1;33m         \u001b[0mself\u001b[0m\u001b[1;33m.\u001b[0m\u001b[0m_make_engine\u001b[0m\u001b[1;33m(\u001b[0m\u001b[0mself\u001b[0m\u001b[1;33m.\u001b[0m\u001b[0mengine\u001b[0m\u001b[1;33m)\u001b[0m\u001b[1;33m\u001b[0m\u001b[0m\n\u001b[0m\u001b[0;32m    591\u001b[0m \u001b[1;33m\u001b[0m\u001b[0m\n\u001b[0;32m    592\u001b[0m     \u001b[1;32mdef\u001b[0m \u001b[0m_get_options_with_defaults\u001b[0m\u001b[1;33m(\u001b[0m\u001b[0mself\u001b[0m\u001b[1;33m,\u001b[0m \u001b[0mengine\u001b[0m\u001b[1;33m)\u001b[0m\u001b[1;33m:\u001b[0m\u001b[1;33m\u001b[0m\u001b[0m\n",
      "\u001b[1;32m/home/obotvinnik/anaconda/lib/python2.7/site-packages/pandas/io/parsers.pyc\u001b[0m in \u001b[0;36m_make_engine\u001b[1;34m(self, engine)\u001b[0m\n\u001b[0;32m    729\u001b[0m     \u001b[1;32mdef\u001b[0m \u001b[0m_make_engine\u001b[0m\u001b[1;33m(\u001b[0m\u001b[0mself\u001b[0m\u001b[1;33m,\u001b[0m \u001b[0mengine\u001b[0m\u001b[1;33m=\u001b[0m\u001b[1;34m'c'\u001b[0m\u001b[1;33m)\u001b[0m\u001b[1;33m:\u001b[0m\u001b[1;33m\u001b[0m\u001b[0m\n\u001b[0;32m    730\u001b[0m         \u001b[1;32mif\u001b[0m \u001b[0mengine\u001b[0m \u001b[1;33m==\u001b[0m \u001b[1;34m'c'\u001b[0m\u001b[1;33m:\u001b[0m\u001b[1;33m\u001b[0m\u001b[0m\n\u001b[1;32m--> 731\u001b[1;33m             \u001b[0mself\u001b[0m\u001b[1;33m.\u001b[0m\u001b[0m_engine\u001b[0m \u001b[1;33m=\u001b[0m \u001b[0mCParserWrapper\u001b[0m\u001b[1;33m(\u001b[0m\u001b[0mself\u001b[0m\u001b[1;33m.\u001b[0m\u001b[0mf\u001b[0m\u001b[1;33m,\u001b[0m \u001b[1;33m**\u001b[0m\u001b[0mself\u001b[0m\u001b[1;33m.\u001b[0m\u001b[0moptions\u001b[0m\u001b[1;33m)\u001b[0m\u001b[1;33m\u001b[0m\u001b[0m\n\u001b[0m\u001b[0;32m    732\u001b[0m         \u001b[1;32melse\u001b[0m\u001b[1;33m:\u001b[0m\u001b[1;33m\u001b[0m\u001b[0m\n\u001b[0;32m    733\u001b[0m             \u001b[1;32mif\u001b[0m \u001b[0mengine\u001b[0m \u001b[1;33m==\u001b[0m \u001b[1;34m'python'\u001b[0m\u001b[1;33m:\u001b[0m\u001b[1;33m\u001b[0m\u001b[0m\n",
      "\u001b[1;32m/home/obotvinnik/anaconda/lib/python2.7/site-packages/pandas/io/parsers.pyc\u001b[0m in \u001b[0;36m__init__\u001b[1;34m(self, src, **kwds)\u001b[0m\n\u001b[0;32m   1101\u001b[0m         \u001b[0mkwds\u001b[0m\u001b[1;33m[\u001b[0m\u001b[1;34m'allow_leading_cols'\u001b[0m\u001b[1;33m]\u001b[0m \u001b[1;33m=\u001b[0m \u001b[0mself\u001b[0m\u001b[1;33m.\u001b[0m\u001b[0mindex_col\u001b[0m \u001b[1;32mis\u001b[0m \u001b[1;32mnot\u001b[0m \u001b[0mFalse\u001b[0m\u001b[1;33m\u001b[0m\u001b[0m\n\u001b[0;32m   1102\u001b[0m \u001b[1;33m\u001b[0m\u001b[0m\n\u001b[1;32m-> 1103\u001b[1;33m         \u001b[0mself\u001b[0m\u001b[1;33m.\u001b[0m\u001b[0m_reader\u001b[0m \u001b[1;33m=\u001b[0m \u001b[0m_parser\u001b[0m\u001b[1;33m.\u001b[0m\u001b[0mTextReader\u001b[0m\u001b[1;33m(\u001b[0m\u001b[0msrc\u001b[0m\u001b[1;33m,\u001b[0m \u001b[1;33m**\u001b[0m\u001b[0mkwds\u001b[0m\u001b[1;33m)\u001b[0m\u001b[1;33m\u001b[0m\u001b[0m\n\u001b[0m\u001b[0;32m   1104\u001b[0m \u001b[1;33m\u001b[0m\u001b[0m\n\u001b[0;32m   1105\u001b[0m         \u001b[1;31m# XXX\u001b[0m\u001b[1;33m\u001b[0m\u001b[1;33m\u001b[0m\u001b[0m\n",
      "\u001b[1;32mpandas/parser.pyx\u001b[0m in \u001b[0;36mpandas.parser.TextReader.__cinit__ (pandas/parser.c:3246)\u001b[1;34m()\u001b[0m\n",
      "\u001b[1;32mpandas/parser.pyx\u001b[0m in \u001b[0;36mpandas.parser.TextReader._setup_parser_source (pandas/parser.c:6111)\u001b[1;34m()\u001b[0m\n",
      "\u001b[1;31mIOError\u001b[0m: File /projects/ps-yeolab/obotvinnik/singlecell_pnms/splicing_feature_data.csv does not exist"
     ]
    }
   ],
   "source": [
    "# splicing_feature_data = pd.read_csv('{}/splicing_feature_data.csv'.format(folder), index_col=0)\n",
    "# print splicing_feature_data.shape\n",
    "# splicing_feature_data.head()"
   ]
  },
  {
   "cell_type": "markdown",
   "metadata": {},
   "source": [
    "### Join on all created dataframes"
   ]
  },
  {
   "cell_type": "code",
   "execution_count": 24,
   "metadata": {
    "collapsed": false
   },
   "outputs": [
    {
     "data": {
      "text/html": [
       "<div>\n",
       "<table border=\"1\" class=\"dataframe\">\n",
       "  <thead>\n",
       "    <tr style=\"text-align: right;\">\n",
       "      <th></th>\n",
       "      <th>criteria</th>\n",
       "      <th>criteria_additional</th>\n",
       "      <th>criteria_full</th>\n",
       "      <th>ensembl_id</th>\n",
       "      <th>exon1</th>\n",
       "      <th>exon1_length</th>\n",
       "      <th>exon2</th>\n",
       "      <th>exon2_length</th>\n",
       "      <th>exon3</th>\n",
       "      <th>exon3_length</th>\n",
       "      <th>...</th>\n",
       "      <th>isoform1_molecular_weight</th>\n",
       "      <th>isoform2_molecular_weight</th>\n",
       "      <th>isoform1_protein_secondary_structure_helix</th>\n",
       "      <th>isoform1_protein_secondary_structure_sheet</th>\n",
       "      <th>isoform1_protein_secondary_structure_turn</th>\n",
       "      <th>isoform2_protein_secondary_structure_helix</th>\n",
       "      <th>isoform2_protein_secondary_structure_sheet</th>\n",
       "      <th>isoform2_protein_secondary_structure_turn</th>\n",
       "      <th>isoform1_aromaticity</th>\n",
       "      <th>isoform2_aromaticity</th>\n",
       "    </tr>\n",
       "    <tr>\n",
       "      <th>event_id</th>\n",
       "      <th></th>\n",
       "      <th></th>\n",
       "      <th></th>\n",
       "      <th></th>\n",
       "      <th></th>\n",
       "      <th></th>\n",
       "      <th></th>\n",
       "      <th></th>\n",
       "      <th></th>\n",
       "      <th></th>\n",
       "      <th></th>\n",
       "      <th></th>\n",
       "      <th></th>\n",
       "      <th></th>\n",
       "      <th></th>\n",
       "      <th></th>\n",
       "      <th></th>\n",
       "      <th></th>\n",
       "      <th></th>\n",
       "      <th></th>\n",
       "      <th></th>\n",
       "    </tr>\n",
       "  </thead>\n",
       "  <tbody>\n",
       "    <tr>\n",
       "      <th>exon:chr10:100190328-100190427:-@exon:chr10:100189548-100189646:-@exon:chr10:100189330-100189399:-</th>\n",
       "      <td>best</td>\n",
       "      <td>appris_principal</td>\n",
       "      <td>best,appris_principal</td>\n",
       "      <td>ENSG00000107521</td>\n",
       "      <td>exon:chr10:100190328-100190427:-</td>\n",
       "      <td>100</td>\n",
       "      <td>exon:chr10:100189548-100189646:-</td>\n",
       "      <td>99</td>\n",
       "      <td>exon:chr10:100189330-100189399:-</td>\n",
       "      <td>70</td>\n",
       "      <td>...</td>\n",
       "      <td>NaN</td>\n",
       "      <td>9467.0555</td>\n",
       "      <td>NaN</td>\n",
       "      <td>NaN</td>\n",
       "      <td>NaN</td>\n",
       "      <td>0.202247</td>\n",
       "      <td>0.247191</td>\n",
       "      <td>0.370787</td>\n",
       "      <td>NaN</td>\n",
       "      <td>0.056180</td>\n",
       "    </tr>\n",
       "    <tr>\n",
       "      <th>exon:chr10:100193697-100193848:-@exon:chr10:100190888-100191048:-@exon:chr10:100190328-100190427:-</th>\n",
       "      <td>only one</td>\n",
       "      <td>NaN</td>\n",
       "      <td>only one</td>\n",
       "      <td>ENSG00000107521</td>\n",
       "      <td>exon:chr10:100193697-100193848:-</td>\n",
       "      <td>152</td>\n",
       "      <td>exon:chr10:100190888-100191048:-</td>\n",
       "      <td>161</td>\n",
       "      <td>exon:chr10:100190328-100190427:-</td>\n",
       "      <td>100</td>\n",
       "      <td>...</td>\n",
       "      <td>NaN</td>\n",
       "      <td>NaN</td>\n",
       "      <td>NaN</td>\n",
       "      <td>NaN</td>\n",
       "      <td>NaN</td>\n",
       "      <td>NaN</td>\n",
       "      <td>NaN</td>\n",
       "      <td>NaN</td>\n",
       "      <td>NaN</td>\n",
       "      <td>NaN</td>\n",
       "    </tr>\n",
       "    <tr>\n",
       "      <th>exon:chr10:100195392-100195529:-@exon:chr10:100195029-100195171:-@exon:chr10:100193697-100193848:-</th>\n",
       "      <td>best</td>\n",
       "      <td>appris_principal</td>\n",
       "      <td>best,appris_principal</td>\n",
       "      <td>ENSG00000107521</td>\n",
       "      <td>exon:chr10:100195392-100195529:-</td>\n",
       "      <td>138</td>\n",
       "      <td>exon:chr10:100195029-100195171:-</td>\n",
       "      <td>143</td>\n",
       "      <td>exon:chr10:100193697-100193848:-</td>\n",
       "      <td>152</td>\n",
       "      <td>...</td>\n",
       "      <td>NaN</td>\n",
       "      <td>NaN</td>\n",
       "      <td>NaN</td>\n",
       "      <td>NaN</td>\n",
       "      <td>NaN</td>\n",
       "      <td>NaN</td>\n",
       "      <td>NaN</td>\n",
       "      <td>NaN</td>\n",
       "      <td>NaN</td>\n",
       "      <td>NaN</td>\n",
       "    </tr>\n",
       "    <tr>\n",
       "      <th>exon:chr10:101165513-101165617:-@exon:chr10:101163481-101163631:-@exon:chr10:101163226-101163391:-</th>\n",
       "      <td>only one</td>\n",
       "      <td>NaN</td>\n",
       "      <td>only one</td>\n",
       "      <td>ENSG00000120053</td>\n",
       "      <td>exon:chr10:101165513-101165617:-</td>\n",
       "      <td>105</td>\n",
       "      <td>exon:chr10:101163481-101163631:-</td>\n",
       "      <td>151</td>\n",
       "      <td>exon:chr10:101163226-101163391:-</td>\n",
       "      <td>166</td>\n",
       "      <td>...</td>\n",
       "      <td>NaN</td>\n",
       "      <td>15790.6691</td>\n",
       "      <td>NaN</td>\n",
       "      <td>NaN</td>\n",
       "      <td>NaN</td>\n",
       "      <td>0.328571</td>\n",
       "      <td>0.250000</td>\n",
       "      <td>0.264286</td>\n",
       "      <td>NaN</td>\n",
       "      <td>0.135714</td>\n",
       "    </tr>\n",
       "    <tr>\n",
       "      <th>exon:chr10:101419263-101419345:+@exon:chr10:101419619-101419721:+@exon:chr10:101421203-101421385:+</th>\n",
       "      <td>only one</td>\n",
       "      <td>NaN</td>\n",
       "      <td>only one</td>\n",
       "      <td>ENSG00000198018</td>\n",
       "      <td>exon:chr10:101419263-101419345:+</td>\n",
       "      <td>83</td>\n",
       "      <td>exon:chr10:101419619-101419721:+</td>\n",
       "      <td>103</td>\n",
       "      <td>exon:chr10:101421203-101421385:+</td>\n",
       "      <td>183</td>\n",
       "      <td>...</td>\n",
       "      <td>NaN</td>\n",
       "      <td>NaN</td>\n",
       "      <td>NaN</td>\n",
       "      <td>NaN</td>\n",
       "      <td>NaN</td>\n",
       "      <td>NaN</td>\n",
       "      <td>NaN</td>\n",
       "      <td>NaN</td>\n",
       "      <td>NaN</td>\n",
       "      <td>NaN</td>\n",
       "    </tr>\n",
       "  </tbody>\n",
       "</table>\n",
       "<p>5 rows × 51 columns</p>\n",
       "</div>"
      ],
      "text/plain": [
       "                                                    criteria  \\\n",
       "event_id                                                       \n",
       "exon:chr10:100190328-100190427:-@exon:chr10:100...      best   \n",
       "exon:chr10:100193697-100193848:-@exon:chr10:100...  only one   \n",
       "exon:chr10:100195392-100195529:-@exon:chr10:100...      best   \n",
       "exon:chr10:101165513-101165617:-@exon:chr10:101...  only one   \n",
       "exon:chr10:101419263-101419345:+@exon:chr10:101...  only one   \n",
       "\n",
       "                                                   criteria_additional  \\\n",
       "event_id                                                                 \n",
       "exon:chr10:100190328-100190427:-@exon:chr10:100...    appris_principal   \n",
       "exon:chr10:100193697-100193848:-@exon:chr10:100...                 NaN   \n",
       "exon:chr10:100195392-100195529:-@exon:chr10:100...    appris_principal   \n",
       "exon:chr10:101165513-101165617:-@exon:chr10:101...                 NaN   \n",
       "exon:chr10:101419263-101419345:+@exon:chr10:101...                 NaN   \n",
       "\n",
       "                                                            criteria_full  \\\n",
       "event_id                                                                    \n",
       "exon:chr10:100190328-100190427:-@exon:chr10:100...  best,appris_principal   \n",
       "exon:chr10:100193697-100193848:-@exon:chr10:100...               only one   \n",
       "exon:chr10:100195392-100195529:-@exon:chr10:100...  best,appris_principal   \n",
       "exon:chr10:101165513-101165617:-@exon:chr10:101...               only one   \n",
       "exon:chr10:101419263-101419345:+@exon:chr10:101...               only one   \n",
       "\n",
       "                                                         ensembl_id  \\\n",
       "event_id                                                              \n",
       "exon:chr10:100190328-100190427:-@exon:chr10:100...  ENSG00000107521   \n",
       "exon:chr10:100193697-100193848:-@exon:chr10:100...  ENSG00000107521   \n",
       "exon:chr10:100195392-100195529:-@exon:chr10:100...  ENSG00000107521   \n",
       "exon:chr10:101165513-101165617:-@exon:chr10:101...  ENSG00000120053   \n",
       "exon:chr10:101419263-101419345:+@exon:chr10:101...  ENSG00000198018   \n",
       "\n",
       "                                                                               exon1  \\\n",
       "event_id                                                                               \n",
       "exon:chr10:100190328-100190427:-@exon:chr10:100...  exon:chr10:100190328-100190427:-   \n",
       "exon:chr10:100193697-100193848:-@exon:chr10:100...  exon:chr10:100193697-100193848:-   \n",
       "exon:chr10:100195392-100195529:-@exon:chr10:100...  exon:chr10:100195392-100195529:-   \n",
       "exon:chr10:101165513-101165617:-@exon:chr10:101...  exon:chr10:101165513-101165617:-   \n",
       "exon:chr10:101419263-101419345:+@exon:chr10:101...  exon:chr10:101419263-101419345:+   \n",
       "\n",
       "                                                    exon1_length  \\\n",
       "event_id                                                           \n",
       "exon:chr10:100190328-100190427:-@exon:chr10:100...           100   \n",
       "exon:chr10:100193697-100193848:-@exon:chr10:100...           152   \n",
       "exon:chr10:100195392-100195529:-@exon:chr10:100...           138   \n",
       "exon:chr10:101165513-101165617:-@exon:chr10:101...           105   \n",
       "exon:chr10:101419263-101419345:+@exon:chr10:101...            83   \n",
       "\n",
       "                                                                               exon2  \\\n",
       "event_id                                                                               \n",
       "exon:chr10:100190328-100190427:-@exon:chr10:100...  exon:chr10:100189548-100189646:-   \n",
       "exon:chr10:100193697-100193848:-@exon:chr10:100...  exon:chr10:100190888-100191048:-   \n",
       "exon:chr10:100195392-100195529:-@exon:chr10:100...  exon:chr10:100195029-100195171:-   \n",
       "exon:chr10:101165513-101165617:-@exon:chr10:101...  exon:chr10:101163481-101163631:-   \n",
       "exon:chr10:101419263-101419345:+@exon:chr10:101...  exon:chr10:101419619-101419721:+   \n",
       "\n",
       "                                                    exon2_length  \\\n",
       "event_id                                                           \n",
       "exon:chr10:100190328-100190427:-@exon:chr10:100...            99   \n",
       "exon:chr10:100193697-100193848:-@exon:chr10:100...           161   \n",
       "exon:chr10:100195392-100195529:-@exon:chr10:100...           143   \n",
       "exon:chr10:101165513-101165617:-@exon:chr10:101...           151   \n",
       "exon:chr10:101419263-101419345:+@exon:chr10:101...           103   \n",
       "\n",
       "                                                                               exon3  \\\n",
       "event_id                                                                               \n",
       "exon:chr10:100190328-100190427:-@exon:chr10:100...  exon:chr10:100189330-100189399:-   \n",
       "exon:chr10:100193697-100193848:-@exon:chr10:100...  exon:chr10:100190328-100190427:-   \n",
       "exon:chr10:100195392-100195529:-@exon:chr10:100...  exon:chr10:100193697-100193848:-   \n",
       "exon:chr10:101165513-101165617:-@exon:chr10:101...  exon:chr10:101163226-101163391:-   \n",
       "exon:chr10:101419263-101419345:+@exon:chr10:101...  exon:chr10:101421203-101421385:+   \n",
       "\n",
       "                                                    exon3_length  \\\n",
       "event_id                                                           \n",
       "exon:chr10:100190328-100190427:-@exon:chr10:100...            70   \n",
       "exon:chr10:100193697-100193848:-@exon:chr10:100...           100   \n",
       "exon:chr10:100195392-100195529:-@exon:chr10:100...           152   \n",
       "exon:chr10:101165513-101165617:-@exon:chr10:101...           166   \n",
       "exon:chr10:101419263-101419345:+@exon:chr10:101...           183   \n",
       "\n",
       "                                                           ...           \\\n",
       "event_id                                                   ...            \n",
       "exon:chr10:100190328-100190427:-@exon:chr10:100...         ...            \n",
       "exon:chr10:100193697-100193848:-@exon:chr10:100...         ...            \n",
       "exon:chr10:100195392-100195529:-@exon:chr10:100...         ...            \n",
       "exon:chr10:101165513-101165617:-@exon:chr10:101...         ...            \n",
       "exon:chr10:101419263-101419345:+@exon:chr10:101...         ...            \n",
       "\n",
       "                                                   isoform1_molecular_weight  \\\n",
       "event_id                                                                       \n",
       "exon:chr10:100190328-100190427:-@exon:chr10:100...                       NaN   \n",
       "exon:chr10:100193697-100193848:-@exon:chr10:100...                       NaN   \n",
       "exon:chr10:100195392-100195529:-@exon:chr10:100...                       NaN   \n",
       "exon:chr10:101165513-101165617:-@exon:chr10:101...                       NaN   \n",
       "exon:chr10:101419263-101419345:+@exon:chr10:101...                       NaN   \n",
       "\n",
       "                                                    isoform2_molecular_weight  \\\n",
       "event_id                                                                        \n",
       "exon:chr10:100190328-100190427:-@exon:chr10:100...                  9467.0555   \n",
       "exon:chr10:100193697-100193848:-@exon:chr10:100...                        NaN   \n",
       "exon:chr10:100195392-100195529:-@exon:chr10:100...                        NaN   \n",
       "exon:chr10:101165513-101165617:-@exon:chr10:101...                 15790.6691   \n",
       "exon:chr10:101419263-101419345:+@exon:chr10:101...                        NaN   \n",
       "\n",
       "                                                   isoform1_protein_secondary_structure_helix  \\\n",
       "event_id                                                                                        \n",
       "exon:chr10:100190328-100190427:-@exon:chr10:100...                                        NaN   \n",
       "exon:chr10:100193697-100193848:-@exon:chr10:100...                                        NaN   \n",
       "exon:chr10:100195392-100195529:-@exon:chr10:100...                                        NaN   \n",
       "exon:chr10:101165513-101165617:-@exon:chr10:101...                                        NaN   \n",
       "exon:chr10:101419263-101419345:+@exon:chr10:101...                                        NaN   \n",
       "\n",
       "                                                   isoform1_protein_secondary_structure_sheet  \\\n",
       "event_id                                                                                        \n",
       "exon:chr10:100190328-100190427:-@exon:chr10:100...                                        NaN   \n",
       "exon:chr10:100193697-100193848:-@exon:chr10:100...                                        NaN   \n",
       "exon:chr10:100195392-100195529:-@exon:chr10:100...                                        NaN   \n",
       "exon:chr10:101165513-101165617:-@exon:chr10:101...                                        NaN   \n",
       "exon:chr10:101419263-101419345:+@exon:chr10:101...                                        NaN   \n",
       "\n",
       "                                                    isoform1_protein_secondary_structure_turn  \\\n",
       "event_id                                                                                        \n",
       "exon:chr10:100190328-100190427:-@exon:chr10:100...                                        NaN   \n",
       "exon:chr10:100193697-100193848:-@exon:chr10:100...                                        NaN   \n",
       "exon:chr10:100195392-100195529:-@exon:chr10:100...                                        NaN   \n",
       "exon:chr10:101165513-101165617:-@exon:chr10:101...                                        NaN   \n",
       "exon:chr10:101419263-101419345:+@exon:chr10:101...                                        NaN   \n",
       "\n",
       "                                                   isoform2_protein_secondary_structure_helix  \\\n",
       "event_id                                                                                        \n",
       "exon:chr10:100190328-100190427:-@exon:chr10:100...                                   0.202247   \n",
       "exon:chr10:100193697-100193848:-@exon:chr10:100...                                        NaN   \n",
       "exon:chr10:100195392-100195529:-@exon:chr10:100...                                        NaN   \n",
       "exon:chr10:101165513-101165617:-@exon:chr10:101...                                   0.328571   \n",
       "exon:chr10:101419263-101419345:+@exon:chr10:101...                                        NaN   \n",
       "\n",
       "                                                   isoform2_protein_secondary_structure_sheet  \\\n",
       "event_id                                                                                        \n",
       "exon:chr10:100190328-100190427:-@exon:chr10:100...                                   0.247191   \n",
       "exon:chr10:100193697-100193848:-@exon:chr10:100...                                        NaN   \n",
       "exon:chr10:100195392-100195529:-@exon:chr10:100...                                        NaN   \n",
       "exon:chr10:101165513-101165617:-@exon:chr10:101...                                   0.250000   \n",
       "exon:chr10:101419263-101419345:+@exon:chr10:101...                                        NaN   \n",
       "\n",
       "                                                   isoform2_protein_secondary_structure_turn  \\\n",
       "event_id                                                                                       \n",
       "exon:chr10:100190328-100190427:-@exon:chr10:100...                                  0.370787   \n",
       "exon:chr10:100193697-100193848:-@exon:chr10:100...                                       NaN   \n",
       "exon:chr10:100195392-100195529:-@exon:chr10:100...                                       NaN   \n",
       "exon:chr10:101165513-101165617:-@exon:chr10:101...                                  0.264286   \n",
       "exon:chr10:101419263-101419345:+@exon:chr10:101...                                       NaN   \n",
       "\n",
       "                                                   isoform1_aromaticity  \\\n",
       "event_id                                                                  \n",
       "exon:chr10:100190328-100190427:-@exon:chr10:100...                  NaN   \n",
       "exon:chr10:100193697-100193848:-@exon:chr10:100...                  NaN   \n",
       "exon:chr10:100195392-100195529:-@exon:chr10:100...                  NaN   \n",
       "exon:chr10:101165513-101165617:-@exon:chr10:101...                  NaN   \n",
       "exon:chr10:101419263-101419345:+@exon:chr10:101...                  NaN   \n",
       "\n",
       "                                                   isoform2_aromaticity  \n",
       "event_id                                                                 \n",
       "exon:chr10:100190328-100190427:-@exon:chr10:100...             0.056180  \n",
       "exon:chr10:100193697-100193848:-@exon:chr10:100...                  NaN  \n",
       "exon:chr10:100195392-100195529:-@exon:chr10:100...                  NaN  \n",
       "exon:chr10:101165513-101165617:-@exon:chr10:101...             0.135714  \n",
       "exon:chr10:101419263-101419345:+@exon:chr10:101...                  NaN  \n",
       "\n",
       "[5 rows x 51 columns]"
      ]
     },
     "execution_count": 24,
     "metadata": {},
     "output_type": "execute_result"
    }
   ],
   "source": [
    "join_dfs = {'gravy': gravy, 'instability_index': instability_index,\n",
    "            'aromaticity': aromaticity, 'isoelectric_point': isoelectric_point,\n",
    "            'molecular_weight': molecular_weight, 'secondary_structure': secondary_structure_2d}\n",
    "\n",
    "for name, df in join_dfs.items():\n",
    "    # If \"translation\" is in the column name, then it hasn't been renamed to its property\n",
    "    if df.columns.map(lambda x: 'translation' in x).sum() > 0:\n",
    "        df.columns = df.columns.map(lambda x: x.replace('translation', name))\n",
    "    join_cols = df.columns.difference(splicing_feature_data.columns)\n",
    "    if len(join_cols) > 0:\n",
    "        splicing_feature_data = splicing_feature_data.join(df[join_cols])\n",
    "    else:\n",
    "        splicing_feature_data[df.columns] = df\n",
    "splicing_feature_data.head()"
   ]
  },
  {
   "cell_type": "code",
   "execution_count": 25,
   "metadata": {
    "collapsed": false
   },
   "outputs": [
    {
     "data": {
      "text/plain": [
       "(33693, 51)"
      ]
     },
     "execution_count": 25,
     "metadata": {},
     "output_type": "execute_result"
    }
   ],
   "source": [
    "splicing_feature_data.shape"
   ]
  },
  {
   "cell_type": "code",
   "execution_count": 27,
   "metadata": {
    "collapsed": true
   },
   "outputs": [],
   "source": [
    "pd.options.display.max_columns = 50"
   ]
  },
  {
   "cell_type": "code",
   "execution_count": 28,
   "metadata": {
    "collapsed": false
   },
   "outputs": [
    {
     "name": "stdout",
     "output_type": "stream",
     "text": [
      "26\n"
     ]
    },
    {
     "data": {
      "text/html": [
       "<div>\n",
       "<table border=\"1\" class=\"dataframe\">\n",
       "  <thead>\n",
       "    <tr style=\"text-align: right;\">\n",
       "      <th></th>\n",
       "      <th>isoform1_gc</th>\n",
       "      <th>isoform1_gc_position1</th>\n",
       "      <th>isoform1_gc_position2</th>\n",
       "      <th>isoform1_gc_position3</th>\n",
       "      <th>isoform2_gc</th>\n",
       "      <th>isoform2_gc_position1</th>\n",
       "      <th>isoform2_gc_position2</th>\n",
       "      <th>isoform2_gc_position3</th>\n",
       "      <th>isoform1_translation</th>\n",
       "      <th>isoform2_translation</th>\n",
       "      <th>isoform1_gravy</th>\n",
       "      <th>isoform2_gravy</th>\n",
       "      <th>isoform1_isoelectric_point</th>\n",
       "      <th>isoform2_isoelectric_point</th>\n",
       "      <th>isoform1_instability_index</th>\n",
       "      <th>isoform2_instability_index</th>\n",
       "      <th>isoform1_molecular_weight</th>\n",
       "      <th>isoform2_molecular_weight</th>\n",
       "      <th>isoform1_protein_secondary_structure_helix</th>\n",
       "      <th>isoform1_protein_secondary_structure_sheet</th>\n",
       "      <th>isoform1_protein_secondary_structure_turn</th>\n",
       "      <th>isoform2_protein_secondary_structure_helix</th>\n",
       "      <th>isoform2_protein_secondary_structure_sheet</th>\n",
       "      <th>isoform2_protein_secondary_structure_turn</th>\n",
       "      <th>isoform1_aromaticity</th>\n",
       "      <th>isoform2_aromaticity</th>\n",
       "    </tr>\n",
       "    <tr>\n",
       "      <th>event_id</th>\n",
       "      <th></th>\n",
       "      <th></th>\n",
       "      <th></th>\n",
       "      <th></th>\n",
       "      <th></th>\n",
       "      <th></th>\n",
       "      <th></th>\n",
       "      <th></th>\n",
       "      <th></th>\n",
       "      <th></th>\n",
       "      <th></th>\n",
       "      <th></th>\n",
       "      <th></th>\n",
       "      <th></th>\n",
       "      <th></th>\n",
       "      <th></th>\n",
       "      <th></th>\n",
       "      <th></th>\n",
       "      <th></th>\n",
       "      <th></th>\n",
       "      <th></th>\n",
       "      <th></th>\n",
       "      <th></th>\n",
       "      <th></th>\n",
       "      <th></th>\n",
       "      <th></th>\n",
       "    </tr>\n",
       "  </thead>\n",
       "  <tbody>\n",
       "    <tr>\n",
       "      <th>exon:chr10:100190328-100190427:-@exon:chr10:100189548-100189646:-@exon:chr10:100189330-100189399:-</th>\n",
       "      <td>75.714286</td>\n",
       "      <td>87.500000</td>\n",
       "      <td>77.551020</td>\n",
       "      <td>60.465116</td>\n",
       "      <td>77.292576</td>\n",
       "      <td>89.610390</td>\n",
       "      <td>73.076923</td>\n",
       "      <td>68.918919</td>\n",
       "      <td>NaN</td>\n",
       "      <td>HSASSLRPADLLALILLVQDLYPSESTAEDDIQPSPRRARSSQNIP...</td>\n",
       "      <td>NaN</td>\n",
       "      <td>-0.664045</td>\n",
       "      <td>NaN</td>\n",
       "      <td>4.268616</td>\n",
       "      <td>NaN</td>\n",
       "      <td>102.239326</td>\n",
       "      <td>NaN</td>\n",
       "      <td>9467.0555</td>\n",
       "      <td>NaN</td>\n",
       "      <td>NaN</td>\n",
       "      <td>NaN</td>\n",
       "      <td>0.202247</td>\n",
       "      <td>0.247191</td>\n",
       "      <td>0.370787</td>\n",
       "      <td>NaN</td>\n",
       "      <td>0.056180</td>\n",
       "    </tr>\n",
       "    <tr>\n",
       "      <th>exon:chr10:100193697-100193848:-@exon:chr10:100190888-100191048:-@exon:chr10:100190328-100190427:-</th>\n",
       "      <td>79.523810</td>\n",
       "      <td>88.311688</td>\n",
       "      <td>74.242424</td>\n",
       "      <td>74.626866</td>\n",
       "      <td>79.178886</td>\n",
       "      <td>73.333333</td>\n",
       "      <td>89.256198</td>\n",
       "      <td>73.913043</td>\n",
       "      <td>NaN</td>\n",
       "      <td>NaN</td>\n",
       "      <td>NaN</td>\n",
       "      <td>NaN</td>\n",
       "      <td>NaN</td>\n",
       "      <td>NaN</td>\n",
       "      <td>NaN</td>\n",
       "      <td>NaN</td>\n",
       "      <td>NaN</td>\n",
       "      <td>NaN</td>\n",
       "      <td>NaN</td>\n",
       "      <td>NaN</td>\n",
       "      <td>NaN</td>\n",
       "      <td>NaN</td>\n",
       "      <td>NaN</td>\n",
       "      <td>NaN</td>\n",
       "      <td>NaN</td>\n",
       "      <td>NaN</td>\n",
       "    </tr>\n",
       "    <tr>\n",
       "      <th>exon:chr10:100195392-100195529:-@exon:chr10:100195029-100195171:-@exon:chr10:100193697-100193848:-</th>\n",
       "      <td>78.111588</td>\n",
       "      <td>81.927711</td>\n",
       "      <td>73.239437</td>\n",
       "      <td>78.481013</td>\n",
       "      <td>75.882353</td>\n",
       "      <td>75.206612</td>\n",
       "      <td>53.684211</td>\n",
       "      <td>93.548387</td>\n",
       "      <td>NaN</td>\n",
       "      <td>NaN</td>\n",
       "      <td>NaN</td>\n",
       "      <td>NaN</td>\n",
       "      <td>NaN</td>\n",
       "      <td>NaN</td>\n",
       "      <td>NaN</td>\n",
       "      <td>NaN</td>\n",
       "      <td>NaN</td>\n",
       "      <td>NaN</td>\n",
       "      <td>NaN</td>\n",
       "      <td>NaN</td>\n",
       "      <td>NaN</td>\n",
       "      <td>NaN</td>\n",
       "      <td>NaN</td>\n",
       "      <td>NaN</td>\n",
       "      <td>NaN</td>\n",
       "      <td>NaN</td>\n",
       "    </tr>\n",
       "    <tr>\n",
       "      <th>exon:chr10:101165513-101165617:-@exon:chr10:101163481-101163631:-@exon:chr10:101163226-101163391:-</th>\n",
       "      <td>68.899522</td>\n",
       "      <td>62.318841</td>\n",
       "      <td>70.588235</td>\n",
       "      <td>73.611111</td>\n",
       "      <td>71.246006</td>\n",
       "      <td>70.642202</td>\n",
       "      <td>58.585859</td>\n",
       "      <td>83.809524</td>\n",
       "      <td>NaN</td>\n",
       "      <td>NAPEFSIVVLHACAHNPTGIDPTPEQWKQIASVMKHRFLFPFFDSA...</td>\n",
       "      <td>NaN</td>\n",
       "      <td>-0.138571</td>\n",
       "      <td>NaN</td>\n",
       "      <td>5.374329</td>\n",
       "      <td>NaN</td>\n",
       "      <td>33.800000</td>\n",
       "      <td>NaN</td>\n",
       "      <td>15790.6691</td>\n",
       "      <td>NaN</td>\n",
       "      <td>NaN</td>\n",
       "      <td>NaN</td>\n",
       "      <td>0.328571</td>\n",
       "      <td>0.250000</td>\n",
       "      <td>0.264286</td>\n",
       "      <td>NaN</td>\n",
       "      <td>0.135714</td>\n",
       "    </tr>\n",
       "    <tr>\n",
       "      <th>exon:chr10:101419263-101419345:+@exon:chr10:101419619-101419721:+@exon:chr10:101421203-101421385:+</th>\n",
       "      <td>74.111675</td>\n",
       "      <td>74.242424</td>\n",
       "      <td>76.271186</td>\n",
       "      <td>72.222222</td>\n",
       "      <td>70.833333</td>\n",
       "      <td>66.666667</td>\n",
       "      <td>71.276596</td>\n",
       "      <td>75.000000</td>\n",
       "      <td>NaN</td>\n",
       "      <td>NaN</td>\n",
       "      <td>NaN</td>\n",
       "      <td>NaN</td>\n",
       "      <td>NaN</td>\n",
       "      <td>NaN</td>\n",
       "      <td>NaN</td>\n",
       "      <td>NaN</td>\n",
       "      <td>NaN</td>\n",
       "      <td>NaN</td>\n",
       "      <td>NaN</td>\n",
       "      <td>NaN</td>\n",
       "      <td>NaN</td>\n",
       "      <td>NaN</td>\n",
       "      <td>NaN</td>\n",
       "      <td>NaN</td>\n",
       "      <td>NaN</td>\n",
       "      <td>NaN</td>\n",
       "    </tr>\n",
       "  </tbody>\n",
       "</table>\n",
       "</div>"
      ],
      "text/plain": [
       "                                                    isoform1_gc  \\\n",
       "event_id                                                          \n",
       "exon:chr10:100190328-100190427:-@exon:chr10:100...    75.714286   \n",
       "exon:chr10:100193697-100193848:-@exon:chr10:100...    79.523810   \n",
       "exon:chr10:100195392-100195529:-@exon:chr10:100...    78.111588   \n",
       "exon:chr10:101165513-101165617:-@exon:chr10:101...    68.899522   \n",
       "exon:chr10:101419263-101419345:+@exon:chr10:101...    74.111675   \n",
       "\n",
       "                                                    isoform1_gc_position1  \\\n",
       "event_id                                                                    \n",
       "exon:chr10:100190328-100190427:-@exon:chr10:100...              87.500000   \n",
       "exon:chr10:100193697-100193848:-@exon:chr10:100...              88.311688   \n",
       "exon:chr10:100195392-100195529:-@exon:chr10:100...              81.927711   \n",
       "exon:chr10:101165513-101165617:-@exon:chr10:101...              62.318841   \n",
       "exon:chr10:101419263-101419345:+@exon:chr10:101...              74.242424   \n",
       "\n",
       "                                                    isoform1_gc_position2  \\\n",
       "event_id                                                                    \n",
       "exon:chr10:100190328-100190427:-@exon:chr10:100...              77.551020   \n",
       "exon:chr10:100193697-100193848:-@exon:chr10:100...              74.242424   \n",
       "exon:chr10:100195392-100195529:-@exon:chr10:100...              73.239437   \n",
       "exon:chr10:101165513-101165617:-@exon:chr10:101...              70.588235   \n",
       "exon:chr10:101419263-101419345:+@exon:chr10:101...              76.271186   \n",
       "\n",
       "                                                    isoform1_gc_position3  \\\n",
       "event_id                                                                    \n",
       "exon:chr10:100190328-100190427:-@exon:chr10:100...              60.465116   \n",
       "exon:chr10:100193697-100193848:-@exon:chr10:100...              74.626866   \n",
       "exon:chr10:100195392-100195529:-@exon:chr10:100...              78.481013   \n",
       "exon:chr10:101165513-101165617:-@exon:chr10:101...              73.611111   \n",
       "exon:chr10:101419263-101419345:+@exon:chr10:101...              72.222222   \n",
       "\n",
       "                                                    isoform2_gc  \\\n",
       "event_id                                                          \n",
       "exon:chr10:100190328-100190427:-@exon:chr10:100...    77.292576   \n",
       "exon:chr10:100193697-100193848:-@exon:chr10:100...    79.178886   \n",
       "exon:chr10:100195392-100195529:-@exon:chr10:100...    75.882353   \n",
       "exon:chr10:101165513-101165617:-@exon:chr10:101...    71.246006   \n",
       "exon:chr10:101419263-101419345:+@exon:chr10:101...    70.833333   \n",
       "\n",
       "                                                    isoform2_gc_position1  \\\n",
       "event_id                                                                    \n",
       "exon:chr10:100190328-100190427:-@exon:chr10:100...              89.610390   \n",
       "exon:chr10:100193697-100193848:-@exon:chr10:100...              73.333333   \n",
       "exon:chr10:100195392-100195529:-@exon:chr10:100...              75.206612   \n",
       "exon:chr10:101165513-101165617:-@exon:chr10:101...              70.642202   \n",
       "exon:chr10:101419263-101419345:+@exon:chr10:101...              66.666667   \n",
       "\n",
       "                                                    isoform2_gc_position2  \\\n",
       "event_id                                                                    \n",
       "exon:chr10:100190328-100190427:-@exon:chr10:100...              73.076923   \n",
       "exon:chr10:100193697-100193848:-@exon:chr10:100...              89.256198   \n",
       "exon:chr10:100195392-100195529:-@exon:chr10:100...              53.684211   \n",
       "exon:chr10:101165513-101165617:-@exon:chr10:101...              58.585859   \n",
       "exon:chr10:101419263-101419345:+@exon:chr10:101...              71.276596   \n",
       "\n",
       "                                                    isoform2_gc_position3  \\\n",
       "event_id                                                                    \n",
       "exon:chr10:100190328-100190427:-@exon:chr10:100...              68.918919   \n",
       "exon:chr10:100193697-100193848:-@exon:chr10:100...              73.913043   \n",
       "exon:chr10:100195392-100195529:-@exon:chr10:100...              93.548387   \n",
       "exon:chr10:101165513-101165617:-@exon:chr10:101...              83.809524   \n",
       "exon:chr10:101419263-101419345:+@exon:chr10:101...              75.000000   \n",
       "\n",
       "                                                   isoform1_translation  \\\n",
       "event_id                                                                  \n",
       "exon:chr10:100190328-100190427:-@exon:chr10:100...                  NaN   \n",
       "exon:chr10:100193697-100193848:-@exon:chr10:100...                  NaN   \n",
       "exon:chr10:100195392-100195529:-@exon:chr10:100...                  NaN   \n",
       "exon:chr10:101165513-101165617:-@exon:chr10:101...                  NaN   \n",
       "exon:chr10:101419263-101419345:+@exon:chr10:101...                  NaN   \n",
       "\n",
       "                                                                                 isoform2_translation  \\\n",
       "event_id                                                                                                \n",
       "exon:chr10:100190328-100190427:-@exon:chr10:100...  HSASSLRPADLLALILLVQDLYPSESTAEDDIQPSPRRARSSQNIP...   \n",
       "exon:chr10:100193697-100193848:-@exon:chr10:100...                                                NaN   \n",
       "exon:chr10:100195392-100195529:-@exon:chr10:100...                                                NaN   \n",
       "exon:chr10:101165513-101165617:-@exon:chr10:101...  NAPEFSIVVLHACAHNPTGIDPTPEQWKQIASVMKHRFLFPFFDSA...   \n",
       "exon:chr10:101419263-101419345:+@exon:chr10:101...                                                NaN   \n",
       "\n",
       "                                                    isoform1_gravy  \\\n",
       "event_id                                                             \n",
       "exon:chr10:100190328-100190427:-@exon:chr10:100...             NaN   \n",
       "exon:chr10:100193697-100193848:-@exon:chr10:100...             NaN   \n",
       "exon:chr10:100195392-100195529:-@exon:chr10:100...             NaN   \n",
       "exon:chr10:101165513-101165617:-@exon:chr10:101...             NaN   \n",
       "exon:chr10:101419263-101419345:+@exon:chr10:101...             NaN   \n",
       "\n",
       "                                                    isoform2_gravy  \\\n",
       "event_id                                                             \n",
       "exon:chr10:100190328-100190427:-@exon:chr10:100...       -0.664045   \n",
       "exon:chr10:100193697-100193848:-@exon:chr10:100...             NaN   \n",
       "exon:chr10:100195392-100195529:-@exon:chr10:100...             NaN   \n",
       "exon:chr10:101165513-101165617:-@exon:chr10:101...       -0.138571   \n",
       "exon:chr10:101419263-101419345:+@exon:chr10:101...             NaN   \n",
       "\n",
       "                                                    isoform1_isoelectric_point  \\\n",
       "event_id                                                                         \n",
       "exon:chr10:100190328-100190427:-@exon:chr10:100...                         NaN   \n",
       "exon:chr10:100193697-100193848:-@exon:chr10:100...                         NaN   \n",
       "exon:chr10:100195392-100195529:-@exon:chr10:100...                         NaN   \n",
       "exon:chr10:101165513-101165617:-@exon:chr10:101...                         NaN   \n",
       "exon:chr10:101419263-101419345:+@exon:chr10:101...                         NaN   \n",
       "\n",
       "                                                    isoform2_isoelectric_point  \\\n",
       "event_id                                                                         \n",
       "exon:chr10:100190328-100190427:-@exon:chr10:100...                    4.268616   \n",
       "exon:chr10:100193697-100193848:-@exon:chr10:100...                         NaN   \n",
       "exon:chr10:100195392-100195529:-@exon:chr10:100...                         NaN   \n",
       "exon:chr10:101165513-101165617:-@exon:chr10:101...                    5.374329   \n",
       "exon:chr10:101419263-101419345:+@exon:chr10:101...                         NaN   \n",
       "\n",
       "                                                    isoform1_instability_index  \\\n",
       "event_id                                                                         \n",
       "exon:chr10:100190328-100190427:-@exon:chr10:100...                         NaN   \n",
       "exon:chr10:100193697-100193848:-@exon:chr10:100...                         NaN   \n",
       "exon:chr10:100195392-100195529:-@exon:chr10:100...                         NaN   \n",
       "exon:chr10:101165513-101165617:-@exon:chr10:101...                         NaN   \n",
       "exon:chr10:101419263-101419345:+@exon:chr10:101...                         NaN   \n",
       "\n",
       "                                                    isoform2_instability_index  \\\n",
       "event_id                                                                         \n",
       "exon:chr10:100190328-100190427:-@exon:chr10:100...                  102.239326   \n",
       "exon:chr10:100193697-100193848:-@exon:chr10:100...                         NaN   \n",
       "exon:chr10:100195392-100195529:-@exon:chr10:100...                         NaN   \n",
       "exon:chr10:101165513-101165617:-@exon:chr10:101...                   33.800000   \n",
       "exon:chr10:101419263-101419345:+@exon:chr10:101...                         NaN   \n",
       "\n",
       "                                                    isoform1_molecular_weight  \\\n",
       "event_id                                                                        \n",
       "exon:chr10:100190328-100190427:-@exon:chr10:100...                        NaN   \n",
       "exon:chr10:100193697-100193848:-@exon:chr10:100...                        NaN   \n",
       "exon:chr10:100195392-100195529:-@exon:chr10:100...                        NaN   \n",
       "exon:chr10:101165513-101165617:-@exon:chr10:101...                        NaN   \n",
       "exon:chr10:101419263-101419345:+@exon:chr10:101...                        NaN   \n",
       "\n",
       "                                                    isoform2_molecular_weight  \\\n",
       "event_id                                                                        \n",
       "exon:chr10:100190328-100190427:-@exon:chr10:100...                  9467.0555   \n",
       "exon:chr10:100193697-100193848:-@exon:chr10:100...                        NaN   \n",
       "exon:chr10:100195392-100195529:-@exon:chr10:100...                        NaN   \n",
       "exon:chr10:101165513-101165617:-@exon:chr10:101...                 15790.6691   \n",
       "exon:chr10:101419263-101419345:+@exon:chr10:101...                        NaN   \n",
       "\n",
       "                                                    isoform1_protein_secondary_structure_helix  \\\n",
       "event_id                                                                                         \n",
       "exon:chr10:100190328-100190427:-@exon:chr10:100...                                         NaN   \n",
       "exon:chr10:100193697-100193848:-@exon:chr10:100...                                         NaN   \n",
       "exon:chr10:100195392-100195529:-@exon:chr10:100...                                         NaN   \n",
       "exon:chr10:101165513-101165617:-@exon:chr10:101...                                         NaN   \n",
       "exon:chr10:101419263-101419345:+@exon:chr10:101...                                         NaN   \n",
       "\n",
       "                                                    isoform1_protein_secondary_structure_sheet  \\\n",
       "event_id                                                                                         \n",
       "exon:chr10:100190328-100190427:-@exon:chr10:100...                                         NaN   \n",
       "exon:chr10:100193697-100193848:-@exon:chr10:100...                                         NaN   \n",
       "exon:chr10:100195392-100195529:-@exon:chr10:100...                                         NaN   \n",
       "exon:chr10:101165513-101165617:-@exon:chr10:101...                                         NaN   \n",
       "exon:chr10:101419263-101419345:+@exon:chr10:101...                                         NaN   \n",
       "\n",
       "                                                    isoform1_protein_secondary_structure_turn  \\\n",
       "event_id                                                                                        \n",
       "exon:chr10:100190328-100190427:-@exon:chr10:100...                                        NaN   \n",
       "exon:chr10:100193697-100193848:-@exon:chr10:100...                                        NaN   \n",
       "exon:chr10:100195392-100195529:-@exon:chr10:100...                                        NaN   \n",
       "exon:chr10:101165513-101165617:-@exon:chr10:101...                                        NaN   \n",
       "exon:chr10:101419263-101419345:+@exon:chr10:101...                                        NaN   \n",
       "\n",
       "                                                    isoform2_protein_secondary_structure_helix  \\\n",
       "event_id                                                                                         \n",
       "exon:chr10:100190328-100190427:-@exon:chr10:100...                                    0.202247   \n",
       "exon:chr10:100193697-100193848:-@exon:chr10:100...                                         NaN   \n",
       "exon:chr10:100195392-100195529:-@exon:chr10:100...                                         NaN   \n",
       "exon:chr10:101165513-101165617:-@exon:chr10:101...                                    0.328571   \n",
       "exon:chr10:101419263-101419345:+@exon:chr10:101...                                         NaN   \n",
       "\n",
       "                                                    isoform2_protein_secondary_structure_sheet  \\\n",
       "event_id                                                                                         \n",
       "exon:chr10:100190328-100190427:-@exon:chr10:100...                                    0.247191   \n",
       "exon:chr10:100193697-100193848:-@exon:chr10:100...                                         NaN   \n",
       "exon:chr10:100195392-100195529:-@exon:chr10:100...                                         NaN   \n",
       "exon:chr10:101165513-101165617:-@exon:chr10:101...                                    0.250000   \n",
       "exon:chr10:101419263-101419345:+@exon:chr10:101...                                         NaN   \n",
       "\n",
       "                                                    isoform2_protein_secondary_structure_turn  \\\n",
       "event_id                                                                                        \n",
       "exon:chr10:100190328-100190427:-@exon:chr10:100...                                   0.370787   \n",
       "exon:chr10:100193697-100193848:-@exon:chr10:100...                                        NaN   \n",
       "exon:chr10:100195392-100195529:-@exon:chr10:100...                                        NaN   \n",
       "exon:chr10:101165513-101165617:-@exon:chr10:101...                                   0.264286   \n",
       "exon:chr10:101419263-101419345:+@exon:chr10:101...                                        NaN   \n",
       "\n",
       "                                                    isoform1_aromaticity  \\\n",
       "event_id                                                                   \n",
       "exon:chr10:100190328-100190427:-@exon:chr10:100...                   NaN   \n",
       "exon:chr10:100193697-100193848:-@exon:chr10:100...                   NaN   \n",
       "exon:chr10:100195392-100195529:-@exon:chr10:100...                   NaN   \n",
       "exon:chr10:101165513-101165617:-@exon:chr10:101...                   NaN   \n",
       "exon:chr10:101419263-101419345:+@exon:chr10:101...                   NaN   \n",
       "\n",
       "                                                    isoform2_aromaticity  \n",
       "event_id                                                                  \n",
       "exon:chr10:100190328-100190427:-@exon:chr10:100...              0.056180  \n",
       "exon:chr10:100193697-100193848:-@exon:chr10:100...                   NaN  \n",
       "exon:chr10:100195392-100195529:-@exon:chr10:100...                   NaN  \n",
       "exon:chr10:101165513-101165617:-@exon:chr10:101...              0.135714  \n",
       "exon:chr10:101419263-101419345:+@exon:chr10:101...                   NaN  "
      ]
     },
     "execution_count": 28,
     "metadata": {},
     "output_type": "execute_result"
    }
   ],
   "source": [
    "isoform_cols = [x for x in splicing_feature_data.columns if 'isoform' in x]\n",
    "print len(isoform_cols)\n",
    "splicing_feature_data[isoform_cols].head()"
   ]
  },
  {
   "cell_type": "markdown",
   "metadata": {},
   "source": [
    "### Save the data!"
   ]
  },
  {
   "cell_type": "code",
   "execution_count": 29,
   "metadata": {
    "collapsed": true
   },
   "outputs": [],
   "source": [
    "splicing_feature_data.to_csv('/projects/ps-yeolab/obotvinnik/singlecell_pnms/splicing_feature_data.csv')"
   ]
  },
  {
   "cell_type": "code",
   "execution_count": 30,
   "metadata": {
    "collapsed": false
   },
   "outputs": [
    {
     "data": {
      "text/plain": [
       "(33693, 51)"
      ]
     },
     "execution_count": 30,
     "metadata": {},
     "output_type": "execute_result"
    }
   ],
   "source": [
    "splicing_feature_data.shape"
   ]
  },
  {
   "cell_type": "code",
   "execution_count": null,
   "metadata": {
    "collapsed": true
   },
   "outputs": [],
   "source": []
  }
 ],
 "metadata": {
  "kernelspec": {
   "display_name": "Python 2",
   "language": "python",
   "name": "python2"
  },
  "language_info": {
   "codemirror_mode": {
    "name": "ipython",
    "version": 2
   },
   "file_extension": ".py",
   "mimetype": "text/x-python",
   "name": "python",
   "nbconvert_exporter": "python",
   "pygments_lexer": "ipython2",
   "version": "2.7.10"
  }
 },
 "nbformat": 4,
 "nbformat_minor": 0
}
