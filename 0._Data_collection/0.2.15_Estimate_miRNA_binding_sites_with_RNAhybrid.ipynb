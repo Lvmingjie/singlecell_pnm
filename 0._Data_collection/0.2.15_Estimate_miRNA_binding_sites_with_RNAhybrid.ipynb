{
 "cells": [
  {
   "cell_type": "markdown",
   "metadata": {},
   "source": [
    "# Transcribe isoforms to get RNA sequence\n"
   ]
  },
  {
   "cell_type": "code",
   "execution_count": 5,
   "metadata": {
    "collapsed": false
   },
   "outputs": [
    {
     "name": "stdout",
     "output_type": "stream",
     "text": [
      "The autoreload extension is already loaded. To reload it, use:\n",
      "  %reload_ext autoreload\n"
     ]
    }
   ],
   "source": [
    "%load_ext autoreload\n",
    "%autoreload 2\n",
    "\n",
    "import itertools\n",
    "import re\n",
    "\n",
    "import gffutils\n",
    "import numpy as np\n",
    "import pandas as pd\n",
    "import pybedtools\n",
    "import six\n",
    "\n",
    "v19db_filename = '/projects/ps-yeolab/genomes/hg19/gencode/v19/gencode.v19.annotation.gtf.db'\n",
    "v19db = gffutils.FeatureDB(v19db_filename)\n",
    "\n",
    "folder = '/projects/ps-yeolab/obotvinnik/singlecell_pnms'\n",
    "csv_folder = '{}/csvs_for_paper/'.format(folder)\n",
    "bed_folder = '{}/bed'.format(folder)\n",
    "\n",
    "alt_exons_bedfile = '{}/exon2.bed'.format(bed_folder)\n",
    "constitutive_bedfile = '{}/constitutive_exons.bed'.format(bed_folder)\n",
    "\n",
    "\n",
    "splicing_feature_folder = '{}/splicing_feature_data'.format(csv_folder)\n",
    "alternative_feature_folder = '{}/alternative'.format(splicing_feature_folder)\n",
    "constitutive_feature_folder = '{}/constitutive'.format(splicing_feature_folder)"
   ]
  },
  {
   "cell_type": "code",
   "execution_count": 6,
   "metadata": {
    "collapsed": false
   },
   "outputs": [
    {
     "name": "stdout",
     "output_type": "stream",
     "text": [
      "mkdir: cannot create directory `/home/obotvinnik/Dropbox/figures2/singlecell_pnms/isoform_rna_properties': File exists\r\n"
     ]
    }
   ],
   "source": [
    "figure_folder = '/home/obotvinnik/Dropbox/figures2/singlecell_pnms/isoform_rna_properties'\n",
    "! mkdir $figure_folder"
   ]
  },
  {
   "cell_type": "markdown",
   "metadata": {},
   "source": [
    "## Transcribe isoforms\n",
    "\n",
    "Get the RNA sequence form the DNA sequence"
   ]
  },
  {
   "cell_type": "code",
   "execution_count": 7,
   "metadata": {
    "collapsed": false
   },
   "outputs": [],
   "source": [
    "prefix = 'isoform_transcriptions'\n",
    "transcribed_fasta = '{}/{}.fa'.format(folder, prefix)"
   ]
  },
  {
   "cell_type": "markdown",
   "metadata": {
    "collapsed": false
   },
   "source": [
    "## Calculate miRNA hybridization\n",
    "\n",
    "For RNA targets, James Broughton from the Pasquinelli lab recommends `RNAhybrid`, and to use just the first 17 nt of the mature miRNA. Wanted to use `fastx-trimmer` but it only takes DNA sequences  - `U`'s are illegal :("
   ]
  },
  {
   "cell_type": "code",
   "execution_count": 8,
   "metadata": {
    "collapsed": true
   },
   "outputs": [],
   "source": [
    "from Bio import SeqIO\n",
    "import sys\n",
    "import os\n",
    "\n",
    "result_seq = []\n",
    "filename = '/projects/ps-yeolab/genomes/mirbase/release_21/human_mature.fa'\n",
    "with open(filename) as infile:\n",
    "    for seq in SeqIO.parse(infile, 'fasta'):\n",
    "        result_seq.append(seq[:17])\n",
    "\n",
    "trimmed_filename = '/projects/ps-yeolab/genomes/mirbase/release_21/human_mature_17bp.fa'\n",
    "with open(trimmed_filename, 'w') as outfile:\n",
    "    SeqIO.write(result_seq, outfile, 'fasta')"
   ]
  },
  {
   "cell_type": "markdown",
   "metadata": {},
   "source": [
    "Submit a compute job to calculate microRNA hybridization."
   ]
  },
  {
   "cell_type": "code",
   "execution_count": 14,
   "metadata": {
    "collapsed": false
   },
   "outputs": [
    {
     "name": "stderr",
     "output_type": "stream",
     "text": [
      "job ID: 4320901\n"
     ]
    }
   ],
   "source": [
    "from gscripts.qtools import Submitter\n",
    "\n",
    "mirna_seqs = '/projects/ps-yeolab/genomes/mirbase/release_21/human_mature_17bp.fa'\n",
    "rnahybrid_results = transcribed_fasta.replace('.fa', '_mirbase_human.txt')\n",
    "command = 'RNAhybrid -e -27 -c -s 3utr_human -q {} -t {} > {}'.format(mirna_seqs, transcribed_fasta, rnahybrid_results)\n",
    "sub = Submitter([command], 'RNAhybrid', walltime='168:00:00', write_and_submit=True)"
   ]
  },
  {
   "cell_type": "code",
   "execution_count": 12,
   "metadata": {
    "collapsed": false
   },
   "outputs": [
    {
     "name": "stdout",
     "output_type": "stream",
     "text": [
      "-rw-r--r-- 1 obotvinnik yeo-group 524 Feb  4 15:06 RNAhybrid.sh\r\n",
      "-rw------- 1 obotvinnik yeo-group   0 Oct 16 12:17 RNAhybrid.sh.err\r\n",
      "-rw------- 1 obotvinnik yeo-group  24 Oct 19 11:47 RNAhybrid.sh.out\r\n"
     ]
    }
   ],
   "source": [
    "ls -lha RNAhybrid*"
   ]
  },
  {
   "cell_type": "code",
   "execution_count": 13,
   "metadata": {
    "collapsed": false
   },
   "outputs": [
    {
     "name": "stdout",
     "output_type": "stream",
     "text": [
      "==> RNAhybrid.sh <==\r\n",
      "#PBS -V\r\n",
      "#PBS -l walltime=168:00:00\r\n",
      "#PBS -l nodes=1:ppn=1\r\n",
      "#PBS -A yeo-group\r\n",
      "#PBS -q home\r\n",
      "\r\n",
      "# Go to the directory from which the script was called\r\n",
      "cd $PBS_O_WORKDIR\r\n",
      "RNAhybrid -e -27 -c -s 3utr_human -q /projects/ps-yeolab/genomes/mirbase/release_21/human_mature_17bp.fa -t /projects/ps-yeolab/obotvinnik/singlecell_pnms/isoform_transcriptions.fa > /projects/ps-yeolab/obotvinnik/miso_helpers/hg19/se_exon2_RNAhybrid_mirbase_human_mature_17bp.txt\r\n",
      "\r\n",
      "\r\n",
      "==> RNAhybrid.sh.err <==\r\n",
      "\r\n",
      "==> RNAhybrid.sh.out <==\r\n",
      "Nodes:        tscc-2-51\r\n"
     ]
    }
   ],
   "source": [
    "!tail RNAhybrid*"
   ]
  },
  {
   "cell_type": "markdown",
   "metadata": {},
   "source": [
    "Reading the output takes a LONG time"
   ]
  }
 ],
 "metadata": {
  "kernelspec": {
   "display_name": "Python 2",
   "language": "python",
   "name": "python2"
  },
  "language_info": {
   "codemirror_mode": {
    "name": "ipython",
    "version": 2
   },
   "file_extension": ".py",
   "mimetype": "text/x-python",
   "name": "python",
   "nbconvert_exporter": "python",
   "pygments_lexer": "ipython2",
   "version": "2.7.11"
  }
 },
 "nbformat": 4,
 "nbformat_minor": 0
}
