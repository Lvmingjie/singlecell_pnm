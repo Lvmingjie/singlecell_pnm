{
 "cells": [
  {
   "cell_type": "code",
   "execution_count": 1,
   "metadata": {
    "collapsed": false
   },
   "outputs": [
    {
     "name": "stderr",
     "output_type": "stream",
     "text": [
      "/home/obotvinnik/anaconda/lib/python2.7/site-packages/matplotlib/__init__.py:810: UserWarning: Found matplotlib configuration in ~/.matplotlib/. To conform with the XDG base directory standard, this configuration location has been deprecated on Linux, and the new location is now /home/obotvinnik/.config/matplotlib/. Please move your configuration there to ensure that matplotlib will continue to find it in the future.\n",
      "  _get_xdg_config_dir())\n"
     ]
    }
   ],
   "source": [
    "import itertools\n",
    "from Bio.Seq import Seq\n",
    "from Bio.SeqRecord import SeqRecord\n",
    "from Bio import SeqIO\n",
    "import pandas as pd\n",
    "\n",
    "translated_df = pd.DataFrame(columns=['isoform1', 'isoform2'])"
   ]
  },
  {
   "cell_type": "code",
   "execution_count": 2,
   "metadata": {
    "collapsed": true
   },
   "outputs": [],
   "source": [
    "folder = '/projects/ps-yeolab/obotvinnik/singlecell_pnms'"
   ]
  },
  {
   "cell_type": "code",
   "execution_count": 3,
   "metadata": {
    "collapsed": false
   },
   "outputs": [],
   "source": [
    "prefix = 'isoform_translations'\n",
    "translated_fasta = '{}/{}.fa'.format(folder, prefix)"
   ]
  },
  {
   "cell_type": "code",
   "execution_count": 4,
   "metadata": {
    "collapsed": false
   },
   "outputs": [
    {
     "name": "stdout",
     "output_type": "stream",
     "text": [
      "75638 /projects/ps-yeolab/obotvinnik/singlecell_pnms/isoform_translations.fa\r\n"
     ]
    }
   ],
   "source": [
    "! wc -l $translated_fasta"
   ]
  },
  {
   "cell_type": "code",
   "execution_count": 5,
   "metadata": {
    "collapsed": false
   },
   "outputs": [],
   "source": [
    "with open(translated_fasta) as f:\n",
    "    for record in SeqIO.parse(f, 'fasta'):\n",
    "        event_id, cds_str, isoform = record.id.split('|')\n",
    "        translated_df.loc[event_id, isoform] = str(record.seq)"
   ]
  },
  {
   "cell_type": "code",
   "execution_count": 6,
   "metadata": {
    "collapsed": false
   },
   "outputs": [
    {
     "data": {
      "text/plain": [
       "(18767, 2)"
      ]
     },
     "execution_count": 6,
     "metadata": {},
     "output_type": "execute_result"
    }
   ],
   "source": [
    "translated_df.shape"
   ]
  },
  {
   "cell_type": "code",
   "execution_count": 7,
   "metadata": {
    "collapsed": false
   },
   "outputs": [
    {
     "data": {
      "text/html": [
       "<div>\n",
       "<table border=\"1\" class=\"dataframe\">\n",
       "  <thead>\n",
       "    <tr style=\"text-align: right;\">\n",
       "      <th></th>\n",
       "      <th>isoform1</th>\n",
       "      <th>isoform2</th>\n",
       "    </tr>\n",
       "  </thead>\n",
       "  <tbody>\n",
       "    <tr>\n",
       "      <th>exon:chr10:100190328-100190427:-@exon:chr10:100189548-100189646:-@exon:chr10:100189330-100189399:-</th>\n",
       "      <td>NaN</td>\n",
       "      <td>HSASSLRPADLLALILLVQDLYPSESTAEDDIQPSPRRARSSQNIP...</td>\n",
       "    </tr>\n",
       "    <tr>\n",
       "      <th>exon:chr10:101165513-101165617:-@exon:chr10:101163481-101163631:-@exon:chr10:101163226-101163391:-</th>\n",
       "      <td>NaN</td>\n",
       "      <td>NAPEFSIVVLHACAHNPTGIDPTPEQWKQIASVMKHRFLFPFFDSA...</td>\n",
       "    </tr>\n",
       "    <tr>\n",
       "      <th>exon:chr10:101421203-101421385:+@exon:chr10:101439018-101439223:+@exon:chr10:101439482-101439632:+</th>\n",
       "      <td>NaN</td>\n",
       "      <td>ISFSYLCPASWYFTVPTVSPFLRQRVAFLGLFFISCLLLLMLIIDF...</td>\n",
       "    </tr>\n",
       "    <tr>\n",
       "      <th>exon:chr10:101480744-101480825:-@exon:chr10:101478103-101478257:-@exon:chr10:101476105-101476218:-</th>\n",
       "      <td>NaN</td>\n",
       "      <td>LPETHQLLQLRRFAHGTAGLVFLTALSGAFVAGLDAGLVYNSFPKM...</td>\n",
       "    </tr>\n",
       "    <tr>\n",
       "      <th>exon:chr10:101507014-101507147:+@exon:chr10:101510126-101510153:+@exon:chr10:101514286-101514391:+</th>\n",
       "      <td>FDMVHDPMAALETLLTLGFERVLTSGCDSSALEGLPLIKRLIEQEVV</td>\n",
       "      <td>FDMVHDPMAALETLLTLGFERVLTSGCDSSALEGLPLIKRLIEQAK...</td>\n",
       "    </tr>\n",
       "  </tbody>\n",
       "</table>\n",
       "</div>"
      ],
      "text/plain": [
       "                                                                                           isoform1  \\\n",
       "exon:chr10:100190328-100190427:-@exon:chr10:100...                                              NaN   \n",
       "exon:chr10:101165513-101165617:-@exon:chr10:101...                                              NaN   \n",
       "exon:chr10:101421203-101421385:+@exon:chr10:101...                                              NaN   \n",
       "exon:chr10:101480744-101480825:-@exon:chr10:101...                                              NaN   \n",
       "exon:chr10:101507014-101507147:+@exon:chr10:101...  FDMVHDPMAALETLLTLGFERVLTSGCDSSALEGLPLIKRLIEQEVV   \n",
       "\n",
       "                                                                                             isoform2  \n",
       "exon:chr10:100190328-100190427:-@exon:chr10:100...  HSASSLRPADLLALILLVQDLYPSESTAEDDIQPSPRRARSSQNIP...  \n",
       "exon:chr10:101165513-101165617:-@exon:chr10:101...  NAPEFSIVVLHACAHNPTGIDPTPEQWKQIASVMKHRFLFPFFDSA...  \n",
       "exon:chr10:101421203-101421385:+@exon:chr10:101...  ISFSYLCPASWYFTVPTVSPFLRQRVAFLGLFFISCLLLLMLIIDF...  \n",
       "exon:chr10:101480744-101480825:-@exon:chr10:101...  LPETHQLLQLRRFAHGTAGLVFLTALSGAFVAGLDAGLVYNSFPKM...  \n",
       "exon:chr10:101507014-101507147:+@exon:chr10:101...  FDMVHDPMAALETLLTLGFERVLTSGCDSSALEGLPLIKRLIEQAK...  "
      ]
     },
     "execution_count": 7,
     "metadata": {},
     "output_type": "execute_result"
    }
   ],
   "source": [
    "translated_df.head()"
   ]
  },
  {
   "cell_type": "code",
   "execution_count": 8,
   "metadata": {
    "collapsed": false
   },
   "outputs": [
    {
     "data": {
      "text/plain": [
       "(3641, 2)"
      ]
     },
     "execution_count": 8,
     "metadata": {},
     "output_type": "execute_result"
    }
   ],
   "source": [
    "translated_df.dropna().shape"
   ]
  },
  {
   "cell_type": "code",
   "execution_count": 9,
   "metadata": {
    "collapsed": true
   },
   "outputs": [],
   "source": [
    "translated_df.columns = [x + '_translation' for x in translated_df]"
   ]
  },
  {
   "cell_type": "code",
   "execution_count": 10,
   "metadata": {
    "collapsed": false
   },
   "outputs": [
    {
     "ename": "NameError",
     "evalue": "name 'csv_folder' is not defined",
     "output_type": "error",
     "traceback": [
      "\u001b[1;31m---------------------------------------------------------------------------\u001b[0m",
      "\u001b[1;31mNameError\u001b[0m                                 Traceback (most recent call last)",
      "\u001b[1;32m<ipython-input-10-7f39f529ffd9>\u001b[0m in \u001b[0;36m<module>\u001b[1;34m()\u001b[0m\n\u001b[1;32m----> 1\u001b[1;33m \u001b[0msplicing_feature_folder\u001b[0m \u001b[1;33m=\u001b[0m \u001b[1;34m'{}/splicing_feature_data'\u001b[0m\u001b[1;33m.\u001b[0m\u001b[0mformat\u001b[0m\u001b[1;33m(\u001b[0m\u001b[0mcsv_folder\u001b[0m\u001b[1;33m)\u001b[0m\u001b[1;33m\u001b[0m\u001b[0m\n\u001b[0m\u001b[0;32m      2\u001b[0m \u001b[0malternative_feature_folder\u001b[0m \u001b[1;33m=\u001b[0m \u001b[1;34m'{}/alternative'\u001b[0m\u001b[1;33m.\u001b[0m\u001b[0mformat\u001b[0m\u001b[1;33m(\u001b[0m\u001b[0msplicing_feature_folder\u001b[0m\u001b[1;33m)\u001b[0m\u001b[1;33m\u001b[0m\u001b[0m\n\u001b[0;32m      3\u001b[0m \u001b[0mconstitutive_feature_folder\u001b[0m \u001b[1;33m=\u001b[0m \u001b[1;34m'{}/constitutive'\u001b[0m\u001b[1;33m.\u001b[0m\u001b[0mformat\u001b[0m\u001b[1;33m(\u001b[0m\u001b[0msplicing_feature_folder\u001b[0m\u001b[1;33m)\u001b[0m\u001b[1;33m\u001b[0m\u001b[0m\n",
      "\u001b[1;31mNameError\u001b[0m: name 'csv_folder' is not defined"
     ]
    }
   ],
   "source": [
    "splicing_feature_folder = '{}/splicing_feature_data'.format(csv_folder)\n",
    "alternative_feature_folder = '{}/alternative'.format(splicing_feature_folder)\n",
    "constitutive_feature_folder = '{}/constitutive'.format(splicing_feature_folder)"
   ]
  },
  {
   "cell_type": "code",
   "execution_count": null,
   "metadata": {
    "collapsed": true
   },
   "outputs": [],
   "source": [
    "translated_df.to_csv('{}/protein_translations.csv'.format(alternative_feature_folder))"
   ]
  },
  {
   "cell_type": "code",
   "execution_count": 15,
   "metadata": {
    "collapsed": false
   },
   "outputs": [
    {
     "data": {
      "text/html": [
       "<div>\n",
       "<table border=\"1\" class=\"dataframe\">\n",
       "  <thead>\n",
       "    <tr style=\"text-align: right;\">\n",
       "      <th></th>\n",
       "      <th>criteria</th>\n",
       "      <th>criteria_additional</th>\n",
       "      <th>criteria_full</th>\n",
       "      <th>ensembl_id</th>\n",
       "      <th>exon1</th>\n",
       "      <th>exon1_length</th>\n",
       "      <th>exon2</th>\n",
       "      <th>exon2_length</th>\n",
       "      <th>exon3</th>\n",
       "      <th>exon3_length</th>\n",
       "      <th>...</th>\n",
       "      <th>isoform1_gc</th>\n",
       "      <th>isoform1_gc_position1</th>\n",
       "      <th>isoform1_gc_position2</th>\n",
       "      <th>isoform1_gc_position3</th>\n",
       "      <th>isoform2_gc</th>\n",
       "      <th>isoform2_gc_position1</th>\n",
       "      <th>isoform2_gc_position2</th>\n",
       "      <th>isoform2_gc_position3</th>\n",
       "      <th>isoform1_translation</th>\n",
       "      <th>isoform2_translation</th>\n",
       "    </tr>\n",
       "    <tr>\n",
       "      <th>event_id</th>\n",
       "      <th></th>\n",
       "      <th></th>\n",
       "      <th></th>\n",
       "      <th></th>\n",
       "      <th></th>\n",
       "      <th></th>\n",
       "      <th></th>\n",
       "      <th></th>\n",
       "      <th></th>\n",
       "      <th></th>\n",
       "      <th></th>\n",
       "      <th></th>\n",
       "      <th></th>\n",
       "      <th></th>\n",
       "      <th></th>\n",
       "      <th></th>\n",
       "      <th></th>\n",
       "      <th></th>\n",
       "      <th></th>\n",
       "      <th></th>\n",
       "      <th></th>\n",
       "    </tr>\n",
       "  </thead>\n",
       "  <tbody>\n",
       "    <tr>\n",
       "      <th>exon:chr10:100190328-100190427:-@exon:chr10:100189548-100189646:-@exon:chr10:100189330-100189399:-</th>\n",
       "      <td>best</td>\n",
       "      <td>appris_principal</td>\n",
       "      <td>best,appris_principal</td>\n",
       "      <td>ENSG00000107521</td>\n",
       "      <td>exon:chr10:100190328-100190427:-</td>\n",
       "      <td>100</td>\n",
       "      <td>exon:chr10:100189548-100189646:-</td>\n",
       "      <td>99</td>\n",
       "      <td>exon:chr10:100189330-100189399:-</td>\n",
       "      <td>70</td>\n",
       "      <td>...</td>\n",
       "      <td>75.714286</td>\n",
       "      <td>87.500000</td>\n",
       "      <td>77.551020</td>\n",
       "      <td>60.465116</td>\n",
       "      <td>77.292576</td>\n",
       "      <td>89.610390</td>\n",
       "      <td>73.076923</td>\n",
       "      <td>68.918919</td>\n",
       "      <td>NaN</td>\n",
       "      <td>HSASSLRPADLLALILLVQDLYPSESTAEDDIQPSPRRARSSQNIP...</td>\n",
       "    </tr>\n",
       "    <tr>\n",
       "      <th>exon:chr10:100193697-100193848:-@exon:chr10:100190888-100191048:-@exon:chr10:100190328-100190427:-</th>\n",
       "      <td>only one</td>\n",
       "      <td>NaN</td>\n",
       "      <td>only one</td>\n",
       "      <td>ENSG00000107521</td>\n",
       "      <td>exon:chr10:100193697-100193848:-</td>\n",
       "      <td>152</td>\n",
       "      <td>exon:chr10:100190888-100191048:-</td>\n",
       "      <td>161</td>\n",
       "      <td>exon:chr10:100190328-100190427:-</td>\n",
       "      <td>100</td>\n",
       "      <td>...</td>\n",
       "      <td>79.523810</td>\n",
       "      <td>88.311688</td>\n",
       "      <td>74.242424</td>\n",
       "      <td>74.626866</td>\n",
       "      <td>79.178886</td>\n",
       "      <td>73.333333</td>\n",
       "      <td>89.256198</td>\n",
       "      <td>73.913043</td>\n",
       "      <td>NaN</td>\n",
       "      <td>NaN</td>\n",
       "    </tr>\n",
       "    <tr>\n",
       "      <th>exon:chr10:100195392-100195529:-@exon:chr10:100195029-100195171:-@exon:chr10:100193697-100193848:-</th>\n",
       "      <td>best</td>\n",
       "      <td>appris_principal</td>\n",
       "      <td>best,appris_principal</td>\n",
       "      <td>ENSG00000107521</td>\n",
       "      <td>exon:chr10:100195392-100195529:-</td>\n",
       "      <td>138</td>\n",
       "      <td>exon:chr10:100195029-100195171:-</td>\n",
       "      <td>143</td>\n",
       "      <td>exon:chr10:100193697-100193848:-</td>\n",
       "      <td>152</td>\n",
       "      <td>...</td>\n",
       "      <td>78.111588</td>\n",
       "      <td>81.927711</td>\n",
       "      <td>73.239437</td>\n",
       "      <td>78.481013</td>\n",
       "      <td>75.882353</td>\n",
       "      <td>75.206612</td>\n",
       "      <td>53.684211</td>\n",
       "      <td>93.548387</td>\n",
       "      <td>NaN</td>\n",
       "      <td>NaN</td>\n",
       "    </tr>\n",
       "    <tr>\n",
       "      <th>exon:chr10:101165513-101165617:-@exon:chr10:101163481-101163631:-@exon:chr10:101163226-101163391:-</th>\n",
       "      <td>only one</td>\n",
       "      <td>NaN</td>\n",
       "      <td>only one</td>\n",
       "      <td>ENSG00000120053</td>\n",
       "      <td>exon:chr10:101165513-101165617:-</td>\n",
       "      <td>105</td>\n",
       "      <td>exon:chr10:101163481-101163631:-</td>\n",
       "      <td>151</td>\n",
       "      <td>exon:chr10:101163226-101163391:-</td>\n",
       "      <td>166</td>\n",
       "      <td>...</td>\n",
       "      <td>68.899522</td>\n",
       "      <td>62.318841</td>\n",
       "      <td>70.588235</td>\n",
       "      <td>73.611111</td>\n",
       "      <td>71.246006</td>\n",
       "      <td>70.642202</td>\n",
       "      <td>58.585859</td>\n",
       "      <td>83.809524</td>\n",
       "      <td>NaN</td>\n",
       "      <td>NAPEFSIVVLHACAHNPTGIDPTPEQWKQIASVMKHRFLFPFFDSA...</td>\n",
       "    </tr>\n",
       "    <tr>\n",
       "      <th>exon:chr10:101419263-101419345:+@exon:chr10:101419619-101419721:+@exon:chr10:101421203-101421385:+</th>\n",
       "      <td>only one</td>\n",
       "      <td>NaN</td>\n",
       "      <td>only one</td>\n",
       "      <td>ENSG00000198018</td>\n",
       "      <td>exon:chr10:101419263-101419345:+</td>\n",
       "      <td>83</td>\n",
       "      <td>exon:chr10:101419619-101419721:+</td>\n",
       "      <td>103</td>\n",
       "      <td>exon:chr10:101421203-101421385:+</td>\n",
       "      <td>183</td>\n",
       "      <td>...</td>\n",
       "      <td>74.111675</td>\n",
       "      <td>74.242424</td>\n",
       "      <td>76.271186</td>\n",
       "      <td>72.222222</td>\n",
       "      <td>70.833333</td>\n",
       "      <td>66.666667</td>\n",
       "      <td>71.276596</td>\n",
       "      <td>75.000000</td>\n",
       "      <td>NaN</td>\n",
       "      <td>NaN</td>\n",
       "    </tr>\n",
       "  </tbody>\n",
       "</table>\n",
       "<p>5 rows × 35 columns</p>\n",
       "</div>"
      ],
      "text/plain": [
       "                                                    criteria  \\\n",
       "event_id                                                       \n",
       "exon:chr10:100190328-100190427:-@exon:chr10:100...      best   \n",
       "exon:chr10:100193697-100193848:-@exon:chr10:100...  only one   \n",
       "exon:chr10:100195392-100195529:-@exon:chr10:100...      best   \n",
       "exon:chr10:101165513-101165617:-@exon:chr10:101...  only one   \n",
       "exon:chr10:101419263-101419345:+@exon:chr10:101...  only one   \n",
       "\n",
       "                                                   criteria_additional  \\\n",
       "event_id                                                                 \n",
       "exon:chr10:100190328-100190427:-@exon:chr10:100...    appris_principal   \n",
       "exon:chr10:100193697-100193848:-@exon:chr10:100...                 NaN   \n",
       "exon:chr10:100195392-100195529:-@exon:chr10:100...    appris_principal   \n",
       "exon:chr10:101165513-101165617:-@exon:chr10:101...                 NaN   \n",
       "exon:chr10:101419263-101419345:+@exon:chr10:101...                 NaN   \n",
       "\n",
       "                                                            criteria_full  \\\n",
       "event_id                                                                    \n",
       "exon:chr10:100190328-100190427:-@exon:chr10:100...  best,appris_principal   \n",
       "exon:chr10:100193697-100193848:-@exon:chr10:100...               only one   \n",
       "exon:chr10:100195392-100195529:-@exon:chr10:100...  best,appris_principal   \n",
       "exon:chr10:101165513-101165617:-@exon:chr10:101...               only one   \n",
       "exon:chr10:101419263-101419345:+@exon:chr10:101...               only one   \n",
       "\n",
       "                                                         ensembl_id  \\\n",
       "event_id                                                              \n",
       "exon:chr10:100190328-100190427:-@exon:chr10:100...  ENSG00000107521   \n",
       "exon:chr10:100193697-100193848:-@exon:chr10:100...  ENSG00000107521   \n",
       "exon:chr10:100195392-100195529:-@exon:chr10:100...  ENSG00000107521   \n",
       "exon:chr10:101165513-101165617:-@exon:chr10:101...  ENSG00000120053   \n",
       "exon:chr10:101419263-101419345:+@exon:chr10:101...  ENSG00000198018   \n",
       "\n",
       "                                                                               exon1  \\\n",
       "event_id                                                                               \n",
       "exon:chr10:100190328-100190427:-@exon:chr10:100...  exon:chr10:100190328-100190427:-   \n",
       "exon:chr10:100193697-100193848:-@exon:chr10:100...  exon:chr10:100193697-100193848:-   \n",
       "exon:chr10:100195392-100195529:-@exon:chr10:100...  exon:chr10:100195392-100195529:-   \n",
       "exon:chr10:101165513-101165617:-@exon:chr10:101...  exon:chr10:101165513-101165617:-   \n",
       "exon:chr10:101419263-101419345:+@exon:chr10:101...  exon:chr10:101419263-101419345:+   \n",
       "\n",
       "                                                    exon1_length  \\\n",
       "event_id                                                           \n",
       "exon:chr10:100190328-100190427:-@exon:chr10:100...           100   \n",
       "exon:chr10:100193697-100193848:-@exon:chr10:100...           152   \n",
       "exon:chr10:100195392-100195529:-@exon:chr10:100...           138   \n",
       "exon:chr10:101165513-101165617:-@exon:chr10:101...           105   \n",
       "exon:chr10:101419263-101419345:+@exon:chr10:101...            83   \n",
       "\n",
       "                                                                               exon2  \\\n",
       "event_id                                                                               \n",
       "exon:chr10:100190328-100190427:-@exon:chr10:100...  exon:chr10:100189548-100189646:-   \n",
       "exon:chr10:100193697-100193848:-@exon:chr10:100...  exon:chr10:100190888-100191048:-   \n",
       "exon:chr10:100195392-100195529:-@exon:chr10:100...  exon:chr10:100195029-100195171:-   \n",
       "exon:chr10:101165513-101165617:-@exon:chr10:101...  exon:chr10:101163481-101163631:-   \n",
       "exon:chr10:101419263-101419345:+@exon:chr10:101...  exon:chr10:101419619-101419721:+   \n",
       "\n",
       "                                                    exon2_length  \\\n",
       "event_id                                                           \n",
       "exon:chr10:100190328-100190427:-@exon:chr10:100...            99   \n",
       "exon:chr10:100193697-100193848:-@exon:chr10:100...           161   \n",
       "exon:chr10:100195392-100195529:-@exon:chr10:100...           143   \n",
       "exon:chr10:101165513-101165617:-@exon:chr10:101...           151   \n",
       "exon:chr10:101419263-101419345:+@exon:chr10:101...           103   \n",
       "\n",
       "                                                                               exon3  \\\n",
       "event_id                                                                               \n",
       "exon:chr10:100190328-100190427:-@exon:chr10:100...  exon:chr10:100189330-100189399:-   \n",
       "exon:chr10:100193697-100193848:-@exon:chr10:100...  exon:chr10:100190328-100190427:-   \n",
       "exon:chr10:100195392-100195529:-@exon:chr10:100...  exon:chr10:100193697-100193848:-   \n",
       "exon:chr10:101165513-101165617:-@exon:chr10:101...  exon:chr10:101163226-101163391:-   \n",
       "exon:chr10:101419263-101419345:+@exon:chr10:101...  exon:chr10:101421203-101421385:+   \n",
       "\n",
       "                                                    exon3_length  \\\n",
       "event_id                                                           \n",
       "exon:chr10:100190328-100190427:-@exon:chr10:100...            70   \n",
       "exon:chr10:100193697-100193848:-@exon:chr10:100...           100   \n",
       "exon:chr10:100195392-100195529:-@exon:chr10:100...           152   \n",
       "exon:chr10:101165513-101165617:-@exon:chr10:101...           166   \n",
       "exon:chr10:101419263-101419345:+@exon:chr10:101...           183   \n",
       "\n",
       "                                                                          ...                          \\\n",
       "event_id                                                                  ...                           \n",
       "exon:chr10:100190328-100190427:-@exon:chr10:100...                        ...                           \n",
       "exon:chr10:100193697-100193848:-@exon:chr10:100...                        ...                           \n",
       "exon:chr10:100195392-100195529:-@exon:chr10:100...                        ...                           \n",
       "exon:chr10:101165513-101165617:-@exon:chr10:101...                        ...                           \n",
       "exon:chr10:101419263-101419345:+@exon:chr10:101...                        ...                           \n",
       "\n",
       "                                                   isoform1_gc  \\\n",
       "event_id                                                         \n",
       "exon:chr10:100190328-100190427:-@exon:chr10:100...   75.714286   \n",
       "exon:chr10:100193697-100193848:-@exon:chr10:100...   79.523810   \n",
       "exon:chr10:100195392-100195529:-@exon:chr10:100...   78.111588   \n",
       "exon:chr10:101165513-101165617:-@exon:chr10:101...   68.899522   \n",
       "exon:chr10:101419263-101419345:+@exon:chr10:101...   74.111675   \n",
       "\n",
       "                                                    isoform1_gc_position1  \\\n",
       "event_id                                                                    \n",
       "exon:chr10:100190328-100190427:-@exon:chr10:100...              87.500000   \n",
       "exon:chr10:100193697-100193848:-@exon:chr10:100...              88.311688   \n",
       "exon:chr10:100195392-100195529:-@exon:chr10:100...              81.927711   \n",
       "exon:chr10:101165513-101165617:-@exon:chr10:101...              62.318841   \n",
       "exon:chr10:101419263-101419345:+@exon:chr10:101...              74.242424   \n",
       "\n",
       "                                                   isoform1_gc_position2  \\\n",
       "event_id                                                                   \n",
       "exon:chr10:100190328-100190427:-@exon:chr10:100...             77.551020   \n",
       "exon:chr10:100193697-100193848:-@exon:chr10:100...             74.242424   \n",
       "exon:chr10:100195392-100195529:-@exon:chr10:100...             73.239437   \n",
       "exon:chr10:101165513-101165617:-@exon:chr10:101...             70.588235   \n",
       "exon:chr10:101419263-101419345:+@exon:chr10:101...             76.271186   \n",
       "\n",
       "                                                   isoform1_gc_position3  \\\n",
       "event_id                                                                   \n",
       "exon:chr10:100190328-100190427:-@exon:chr10:100...             60.465116   \n",
       "exon:chr10:100193697-100193848:-@exon:chr10:100...             74.626866   \n",
       "exon:chr10:100195392-100195529:-@exon:chr10:100...             78.481013   \n",
       "exon:chr10:101165513-101165617:-@exon:chr10:101...             73.611111   \n",
       "exon:chr10:101419263-101419345:+@exon:chr10:101...             72.222222   \n",
       "\n",
       "                                                    isoform2_gc  \\\n",
       "event_id                                                          \n",
       "exon:chr10:100190328-100190427:-@exon:chr10:100...    77.292576   \n",
       "exon:chr10:100193697-100193848:-@exon:chr10:100...    79.178886   \n",
       "exon:chr10:100195392-100195529:-@exon:chr10:100...    75.882353   \n",
       "exon:chr10:101165513-101165617:-@exon:chr10:101...    71.246006   \n",
       "exon:chr10:101419263-101419345:+@exon:chr10:101...    70.833333   \n",
       "\n",
       "                                                   isoform2_gc_position1  \\\n",
       "event_id                                                                   \n",
       "exon:chr10:100190328-100190427:-@exon:chr10:100...             89.610390   \n",
       "exon:chr10:100193697-100193848:-@exon:chr10:100...             73.333333   \n",
       "exon:chr10:100195392-100195529:-@exon:chr10:100...             75.206612   \n",
       "exon:chr10:101165513-101165617:-@exon:chr10:101...             70.642202   \n",
       "exon:chr10:101419263-101419345:+@exon:chr10:101...             66.666667   \n",
       "\n",
       "                                                   isoform2_gc_position2  \\\n",
       "event_id                                                                   \n",
       "exon:chr10:100190328-100190427:-@exon:chr10:100...             73.076923   \n",
       "exon:chr10:100193697-100193848:-@exon:chr10:100...             89.256198   \n",
       "exon:chr10:100195392-100195529:-@exon:chr10:100...             53.684211   \n",
       "exon:chr10:101165513-101165617:-@exon:chr10:101...             58.585859   \n",
       "exon:chr10:101419263-101419345:+@exon:chr10:101...             71.276596   \n",
       "\n",
       "                                                   isoform2_gc_position3  \\\n",
       "event_id                                                                   \n",
       "exon:chr10:100190328-100190427:-@exon:chr10:100...             68.918919   \n",
       "exon:chr10:100193697-100193848:-@exon:chr10:100...             73.913043   \n",
       "exon:chr10:100195392-100195529:-@exon:chr10:100...             93.548387   \n",
       "exon:chr10:101165513-101165617:-@exon:chr10:101...             83.809524   \n",
       "exon:chr10:101419263-101419345:+@exon:chr10:101...             75.000000   \n",
       "\n",
       "                                                   isoform1_translation  \\\n",
       "event_id                                                                  \n",
       "exon:chr10:100190328-100190427:-@exon:chr10:100...                  NaN   \n",
       "exon:chr10:100193697-100193848:-@exon:chr10:100...                  NaN   \n",
       "exon:chr10:100195392-100195529:-@exon:chr10:100...                  NaN   \n",
       "exon:chr10:101165513-101165617:-@exon:chr10:101...                  NaN   \n",
       "exon:chr10:101419263-101419345:+@exon:chr10:101...                  NaN   \n",
       "\n",
       "                                                                                 isoform2_translation  \n",
       "event_id                                                                                               \n",
       "exon:chr10:100190328-100190427:-@exon:chr10:100...  HSASSLRPADLLALILLVQDLYPSESTAEDDIQPSPRRARSSQNIP...  \n",
       "exon:chr10:100193697-100193848:-@exon:chr10:100...                                                NaN  \n",
       "exon:chr10:100195392-100195529:-@exon:chr10:100...                                                NaN  \n",
       "exon:chr10:101165513-101165617:-@exon:chr10:101...  NAPEFSIVVLHACAHNPTGIDPTPEQWKQIASVMKHRFLFPFFDSA...  \n",
       "exon:chr10:101419263-101419345:+@exon:chr10:101...                                                NaN  \n",
       "\n",
       "[5 rows x 35 columns]"
      ]
     },
     "execution_count": 15,
     "metadata": {},
     "output_type": "execute_result"
    }
   ],
   "source": [
    "# if len(splicing_feature_data.columns.intersection(translated_df.columns)) == 0:\n",
    "#     splicing_feature_data = splicing_feature_data.join(translated_df)\n",
    "# splicing_feature_data.head()"
   ]
  },
  {
   "cell_type": "code",
   "execution_count": 16,
   "metadata": {
    "collapsed": true
   },
   "outputs": [],
   "source": [
    "# splicing_feature_data.to_csv('{}/splicing_feature_data.csv'.format(folder))"
   ]
  },
  {
   "cell_type": "code",
   "execution_count": 109,
   "metadata": {
    "collapsed": false
   },
   "outputs": [
    {
     "data": {
      "text/plain": [
       "(3641, 2)"
      ]
     },
     "execution_count": 109,
     "metadata": {},
     "output_type": "execute_result"
    }
   ],
   "source": []
  },
  {
   "cell_type": "code",
   "execution_count": null,
   "metadata": {
    "collapsed": true
   },
   "outputs": [],
   "source": []
  }
 ],
 "metadata": {
  "kernelspec": {
   "display_name": "Python 2",
   "language": "python",
   "name": "python2"
  },
  "language_info": {
   "codemirror_mode": {
    "name": "ipython",
    "version": 2
   },
   "file_extension": ".py",
   "mimetype": "text/x-python",
   "name": "python",
   "nbconvert_exporter": "python",
   "pygments_lexer": "ipython2",
   "version": "2.7.11"
  }
 },
 "nbformat": 4,
 "nbformat_minor": 0
}
