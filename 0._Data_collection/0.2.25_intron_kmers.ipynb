{
 "cells": [
  {
   "cell_type": "code",
   "execution_count": 1,
   "metadata": {
    "collapsed": false
   },
   "outputs": [
    {
     "name": "stderr",
     "output_type": "stream",
     "text": [
      "/home/obotvinnik/anaconda/lib/python2.7/site-packages/matplotlib/__init__.py:810: UserWarning: Found matplotlib configuration in ~/.matplotlib/. To conform with the XDG base directory standard, this configuration location has been deprecated on Linux, and the new location is now /home/obotvinnik/.config/matplotlib/. Please move your configuration there to ensure that matplotlib will continue to find it in the future.\n",
      "  _get_xdg_config_dir())\n"
     ]
    }
   ],
   "source": [
    "import pandas as pd\n",
    "\n",
    "%load_ext autoreload\n",
    "%autoreload 2\n",
    "\n",
    "folder = '/projects/ps-yeolab/obotvinnik/singlecell_pnms'\n",
    "csv_folder = '{}/csvs_for_paper'.format(folder)\n",
    "bed_folder = '{}/bed'.format(folder)\n",
    "# folder2 = '/projects/ps-yeolab2/obotvinnik/singlecell_pnm'\n",
    "\n",
    "splicing_feature_folder = '{}/splicing_feature_data'.format(csv_folder)\n",
    "alternative_feature_folder = '{}/alternative'.format(splicing_feature_folder)\n",
    "constitutive_feature_folder = '{}/constitutive'.format(splicing_feature_folder)\n",
    "\n",
    "alt_exons_bedfile = '{}/exons.bed'.format(alternative_feature_folder)\n",
    "constitutive_bedfile = '{}/exons.bed'.format(constitutive_feature_folder)\n",
    "\n",
    "\n",
    "# splicing_feature_data = pd.read_csv('{}/splicing_feature_data.csv'.format(csv_folder), index_col=0)\n",
    "# print(splicing_feature_data.shape)\n",
    "# splicing_feature_data.head()"
   ]
  },
  {
   "cell_type": "code",
   "execution_count": 2,
   "metadata": {
    "collapsed": true
   },
   "outputs": [],
   "source": [
    "import pybedtools"
   ]
  },
  {
   "cell_type": "code",
   "execution_count": 3,
   "metadata": {
    "collapsed": true
   },
   "outputs": [],
   "source": [
    "alt_exons = pybedtools.BedTool(alt_exons_bedfile)\n",
    "constitutive = pybedtools.BedTool(constitutive_bedfile)"
   ]
  },
  {
   "cell_type": "code",
   "execution_count": 11,
   "metadata": {
    "collapsed": false
   },
   "outputs": [],
   "source": [
    "from Bio import SeqIO\n",
    "import kvector\n",
    "import pybedtools\n",
    "import pyhomer\n",
    "\n",
    "DIRECTIONS = 'upstream', 'downstream'\n",
    "\n",
    "placental_filename = '/projects/ps-yeolab/genomes/hg19/database/phastConsElements46wayPlacental.bed'\n",
    "conservation_bed = pybedtools.BedTool(placental_filename)\n",
    "\n",
    "genome = 'hg19'\n",
    "\n",
    "nt = 200\n",
    "\n",
    "genome_fasta = '/projects/ps-yeolab/genomes/hg19/chromosomes/all.fa'\n",
    "\n",
    "pair = pyhomer.ForegroundBackgroundPair(alt_exons, constitutive)\n",
    "# #         print '\\n', pair \n",
    "\n",
    "# for direction in DIRECTIONS:\n",
    "#     print '\\n\\t', direction\n",
    "#     intron_pair = pair.flanking_intron(direction, 'hg19', nt)\n",
    "\n",
    "#     conserved_introns = intron_pair.intersect(conservation_bed, 'placental')\n",
    "# #             print '\\n', conserved_introns\n",
    "# #     break\n",
    "#     %time seqs = conserved_introns.foreground.sequence(fi=genome_fasta, s=True)\n",
    "#     break\n",
    "#     %time foreground_kmers = kvector.count_kmers(seqs.seqfn)\n",
    "\n",
    "#     %time seqs = conserved_introns.background.sequence(fi=genome_fasta, s=True)\n",
    "#     %time background_kmers = kvector.count_kmers(seqs.seqfn)\n",
    "    \n",
    "    \n",
    "# #     kmer_zscore = (foreground_kmers.mean() - background_kmers.mean())/background_kmers.std()\n",
    "#     kmer_zscore.name = '{}{}nt_{}_{}_placental'.format(direction, nt, phenotype, modality)\n",
    "#     kmer_zscores.append(kmer_zscore)\n",
    "# kmer_zscores_all = pd.concat(kmer_zscores, axis=1)\n",
    "# kmer_zscores_all.head()"
   ]
  },
  {
   "cell_type": "code",
   "execution_count": 14,
   "metadata": {
    "collapsed": true
   },
   "outputs": [],
   "source": [
    "pyhomer.pyhomer.get_flanking_intron??"
   ]
  },
  {
   "cell_type": "code",
   "execution_count": 13,
   "metadata": {
    "collapsed": true
   },
   "outputs": [],
   "source": [
    "pair.flanking_intron??"
   ]
  },
  {
   "cell_type": "code",
   "execution_count": 24,
   "metadata": {
    "collapsed": true
   },
   "outputs": [],
   "source": [
    "import six"
   ]
  },
  {
   "cell_type": "code",
   "execution_count": null,
   "metadata": {
    "collapsed": false
   },
   "outputs": [],
   "source": [
    "%%time\n",
    "\n",
    "genome = 'hg19'\n",
    "\n",
    "kmers = {'upstream': [], 'downstream': []}\n",
    "\n",
    "for interval in alt_exons:\n",
    "    bed = pybedtools.BedTool([interval])\n",
    "    for direction in DIRECTIONS:\n",
    "#         print '\\n\\t', direction\n",
    "        if direction == 'downstream':\n",
    "            intron = bed.flank(l=0, r=nt, s=True, genome=genome)\n",
    "        elif direction == 'upstream':\n",
    "            intron = bed.flank(l=nt, r=0, s=True, genome=genome)\n",
    "        \n",
    "        conserved_intron = intron.intersect(conservation_bed)\n",
    "        seqs = conserved_intron.sequence(fi=genome_fasta, s=True)\n",
    "        k = kvector.count_kmers(seqs.seqfn).sum()\n",
    "#         six.print_(k[k > 0])\n",
    "        k.name = interval.name\n",
    "        kmers[direction].append(k)\n",
    "#     break"
   ]
  },
  {
   "cell_type": "code",
   "execution_count": 18,
   "metadata": {
    "collapsed": false
   },
   "outputs": [
    {
     "name": "stdout",
     "output_type": "stream",
     "text": [
      "chr10\t101997776\t101997779\texon:chr10:102003455-102003534:-@exon:chr10:101997779-101997988:-@exon:chr10:101996607-101996726:-@exon:chr10:101995424-101995521:-\t1000\t-\n",
      "\n"
     ]
    }
   ],
   "source": [
    "for direction, counts in kmers.items():\n",
    "    df = pd.concat([counts])\n",
    "    six.print_(df.head())\n",
    "    df.to_csv('{}/kmers_{}{}nt_placental.csv'.format(alternative_feature_folder, direction, nt)"
   ]
  },
  {
   "cell_type": "code",
   "execution_count": 22,
   "metadata": {
    "collapsed": false
   },
   "outputs": [
    {
     "data": {
      "text/plain": [
       "Series([], dtype: int64)"
      ]
     },
     "execution_count": 22,
     "metadata": {},
     "output_type": "execute_result"
    }
   ],
   "source": [
    "def count_intron_kmers(bed, genome, nt, genome_fasta, folder, suffix='', intersect=None):\n",
    "    genome = 'hg19'\n",
    "\n",
    "    kmers = {'upstream': [], 'downstream': []}\n",
    "\n",
    "    for interval in bed:\n",
    "        minibed = pybedtools.BedTool([interval])\n",
    "        for direction in DIRECTIONS:\n",
    "    #         print '\\n\\t', direction\n",
    "            if direction == 'downstream':\n",
    "                intron = minibed.flank(l=0, r=nt, s=True, genome=genome)\n",
    "            elif direction == 'upstream':\n",
    "                intron = minibed.flank(l=nt, r=0, s=True, genome=genome)\n",
    "\n",
    "            conserved_intron = intron.intersect(conservation_bed)\n",
    "            seqs = conserved_intron.sequence(fi=genome_fasta, s=True)\n",
    "            k = kvector.count_kmers(seqs.seqfn).sum()\n",
    "    #         six.print_(k[k > 0])\n",
    "            k.name = interval.name\n",
    "            kmers[direction].append(k)\n",
    "    for direction, counts in kmers.items():\n",
    "        df = pd.concat([counts])\n",
    "        six.print_(df.head())\n",
    "        df.to_csv('{}/kmers_{}{}nt{}.csv'.format(folder, direction, nt, suffix)\n",
    "    #     break"
   ]
  },
  {
   "cell_type": "code",
   "execution_count": null,
   "metadata": {
    "collapsed": true
   },
   "outputs": [],
   "source": []
  }
 ],
 "metadata": {
  "kernelspec": {
   "display_name": "Python 2",
   "language": "python",
   "name": "python2"
  },
  "language_info": {
   "codemirror_mode": {
    "name": "ipython",
    "version": 2
   },
   "file_extension": ".py",
   "mimetype": "text/x-python",
   "name": "python",
   "nbconvert_exporter": "python",
   "pygments_lexer": "ipython2",
   "version": "2.7.10"
  }
 },
 "nbformat": 4,
 "nbformat_minor": 0
}
