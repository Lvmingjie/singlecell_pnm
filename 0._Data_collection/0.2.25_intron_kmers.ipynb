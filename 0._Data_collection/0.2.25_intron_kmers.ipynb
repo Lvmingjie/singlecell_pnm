{
 "cells": [
  {
   "cell_type": "code",
   "execution_count": 2,
   "metadata": {
    "collapsed": false
   },
   "outputs": [],
   "source": [
    "import pandas as pd\n",
    "\n",
    "%load_ext autoreload\n",
    "%autoreload 2\n",
    "\n",
    "folder = '/projects/ps-yeolab/obotvinnik/singlecell_pnms'\n",
    "csv_folder = '{}/csvs_for_paper'.format(folder)\n",
    "bed_folder = '{}/bed'.format(folder)\n",
    "# folder2 = '/projects/ps-yeolab2/obotvinnik/singlecell_pnm'\n",
    "\n",
    "splicing_feature_folder = '{}/splicing_feature_data'.format(csv_folder)\n",
    "alternative_feature_folder = '{}/alternative'.format(splicing_feature_folder)\n",
    "constitutive_feature_folder = '{}/constitutive'.format(splicing_feature_folder)\n",
    "\n",
    "alt_exons_bedfile = '{}/exons.bed'.format(alternative_feature_folder)\n",
    "constitutive_bedfile = '{}/exons.bed'.format(constitutive_feature_folder)\n",
    "\n",
    "\n",
    "# splicing_feature_data = pd.read_csv('{}/splicing_feature_data.csv'.format(csv_folder), index_col=0)\n",
    "# print(splicing_feature_data.shape)\n",
    "# splicing_feature_data.head()"
   ]
  },
  {
   "cell_type": "code",
   "execution_count": 3,
   "metadata": {
    "collapsed": true
   },
   "outputs": [],
   "source": [
    "import pybedtools"
   ]
  },
  {
   "cell_type": "code",
   "execution_count": 4,
   "metadata": {
    "collapsed": true
   },
   "outputs": [],
   "source": [
    "alt_exons = pybedtools.BedTool(alt_exons_bedfile)\n",
    "constitutive = pybedtools.BedTool(constitutive_bedfile)"
   ]
  },
  {
   "cell_type": "code",
   "execution_count": 5,
   "metadata": {
    "collapsed": false
   },
   "outputs": [
    {
     "name": "stdout",
     "output_type": "stream",
     "text": [
      "\n",
      "\tupstream\n",
      "CPU times: user 2 ms, sys: 9 ms, total: 11 ms\n",
      "Wall time: 53.2 s\n"
     ]
    }
   ],
   "source": [
    "from Bio import SeqIO\n",
    "import kvector\n",
    "import pybedtools\n",
    "import pyhomer\n",
    "\n",
    "DIRECTIONS = 'upstream', 'downstream'\n",
    "\n",
    "placental_filename = '/projects/ps-yeolab/genomes/hg19/database/phastConsElements46wayPlacental.bed'\n",
    "conservation_bed = pybedtools.BedTool(placental_filename)\n",
    "\n",
    "genome = 'hg19'\n",
    "\n",
    "nt = 200\n",
    "\n",
    "genome_fasta = '/projects/ps-yeolab/genomes/hg19/chromosomes/all.fa'\n",
    "\n",
    "pair = pyhomer.ForegroundBackgroundPair(alt_exons, constitutive)\n",
    "#         print '\\n', pair \n",
    "\n",
    "for direction in DIRECTIONS:\n",
    "    print '\\n\\t', direction\n",
    "    intron_pair = pair.flanking_intron(direction, 'hg19', nt)\n",
    "\n",
    "    conserved_introns = intron_pair.intersect(conservation_bed, 'placental')\n",
    "#             print '\\n', conserved_introns\n",
    "#     break\n",
    "    %time seqs = conserved_introns.foreground.sequence(fi=genome_fasta, s=True)\n",
    "    break\n",
    "#     %time foreground_kmers = kvector.count_kmers(seqs.seqfn)\n",
    "\n",
    "#     %time seqs = conserved_introns.background.sequence(fi=genome_fasta, s=True)\n",
    "#     %time background_kmers = kvector.count_kmers(seqs.seqfn)\n",
    "    \n",
    "    \n",
    "# #     kmer_zscore = (foreground_kmers.mean() - background_kmers.mean())/background_kmers.std()\n",
    "#     kmer_zscore.name = '{}{}nt_{}_{}_placental'.format(direction, nt, phenotype, modality)\n",
    "#     kmer_zscores.append(kmer_zscore)\n",
    "# kmer_zscores_all = pd.concat(kmer_zscores, axis=1)\n",
    "# kmer_zscores_all.head()"
   ]
  },
  {
   "cell_type": "code",
   "execution_count": 7,
   "metadata": {
    "collapsed": false
   },
   "outputs": [],
   "source": [
    "\n",
    "with open(seqs.seqfn) as f:\n",
    "    records = list(SeqIO.parse(f, 'fasta'))[:100]"
   ]
  },
  {
   "cell_type": "code",
   "execution_count": 8,
   "metadata": {
    "collapsed": false
   },
   "outputs": [
    {
     "data": {
      "text/plain": [
       "[SeqRecord(seq=Seq('CTATAGG', SingleLetterAlphabet()), id='chr11:93490475-93490482(+)', name='chr11:93490475-93490482(+)', description='chr11:93490475-93490482(+)', dbxrefs=[]),\n",
       " SeqRecord(seq=Seq('TTGGAACAGG', SingleLetterAlphabet()), id='chr20:3193805-3193815(+)', name='chr20:3193805-3193815(+)', description='chr20:3193805-3193815(+)', dbxrefs=[]),\n",
       " SeqRecord(seq=Seq('AGTCAGCAGA', SingleLetterAlphabet()), id='chr2:204231597-204231607(+)', name='chr2:204231597-204231607(+)', description='chr2:204231597-204231607(+)', dbxrefs=[]),\n",
       " SeqRecord(seq=Seq('TTAGA', SingleLetterAlphabet()), id='chr1:179883128-179883133(+)', name='chr1:179883128-179883133(+)', description='chr1:179883128-179883133(+)', dbxrefs=[]),\n",
       " SeqRecord(seq=Seq('TTGCAGA', SingleLetterAlphabet()), id='chr15:74920304-74920311(+)', name='chr15:74920304-74920311(+)', description='chr15:74920304-74920311(+)', dbxrefs=[]),\n",
       " SeqRecord(seq=Seq('GAGTATGTCAGGTAAG', SingleLetterAlphabet()), id='chr3:184019435-184019451(+)', name='chr3:184019435-184019451(+)', description='chr3:184019435-184019451(+)', dbxrefs=[]),\n",
       " SeqRecord(seq=Seq('AGG', SingleLetterAlphabet()), id='chr3:184019632-184019635(+)', name='chr3:184019632-184019635(+)', description='chr3:184019632-184019635(+)', dbxrefs=[]),\n",
       " SeqRecord(seq=Seq('GGATGGATT', SingleLetterAlphabet()), id='chr12:51447492-51447501(+)', name='chr12:51447492-51447501(+)', description='chr12:51447492-51447501(+)', dbxrefs=[]),\n",
       " SeqRecord(seq=Seq('TTAAAACTGCATCTGTGTTTATTTCTGCTTAGTTCCGCCAAGA', SingleLetterAlphabet()), id='chr12:51447528-51447571(+)', name='chr12:51447528-51447571(+)', description='chr12:51447528-51447571(+)', dbxrefs=[]),\n",
       " SeqRecord(seq=Seq('TCACCAAGTGTCTTTTCCTAGG', SingleLetterAlphabet()), id='chr12:51447573-51447595(+)', name='chr12:51447573-51447595(+)', description='chr12:51447573-51447595(+)', dbxrefs=[]),\n",
       " SeqRecord(seq=Seq('GCCCCGCCCT', SingleLetterAlphabet()), id='chr18:29672577-29672587(+)', name='chr18:29672577-29672587(+)', description='chr18:29672577-29672587(+)', dbxrefs=[]),\n",
       " SeqRecord(seq=Seq('GCCCCGCCCCCTTCCTGGC', SingleLetterAlphabet()), id='chr18:29672594-29672613(+)', name='chr18:29672594-29672613(+)', description='chr18:29672594-29672613(+)', dbxrefs=[]),\n",
       " SeqRecord(seq=Seq('GTATCCTGATGCGATCCCCCTCCCCCC', SingleLetterAlphabet()), id='chr18:29672620-29672647(+)', name='chr18:29672620-29672647(+)', description='chr18:29672620-29672647(+)', dbxrefs=[]),\n",
       " SeqRecord(seq=Seq('GG', SingleLetterAlphabet()), id='chr18:29672661-29672663(+)', name='chr18:29672661-29672663(+)', description='chr18:29672661-29672663(+)', dbxrefs=[]),\n",
       " SeqRecord(seq=Seq('CAGA', SingleLetterAlphabet()), id='chr15:75630399-75630403(+)', name='chr15:75630399-75630403(+)', description='chr15:75630399-75630403(+)', dbxrefs=[]),\n",
       " SeqRecord(seq=Seq('TTCCAGG', SingleLetterAlphabet()), id='chr22:29693810-29693817(+)', name='chr22:29693810-29693817(+)', description='chr22:29693810-29693817(+)', dbxrefs=[]),\n",
       " SeqRecord(seq=Seq('GAAGATGCTAAACTCC', SingleLetterAlphabet()), id='chrX:144903344-144903360(+)', name='chrX:144903344-144903360(+)', description='chrX:144903344-144903360(+)', dbxrefs=[]),\n",
       " SeqRecord(seq=Seq('GTCTTCTCCTGATGTGTGAGTAACCCC', SingleLetterAlphabet()), id='chrX:144903387-144903414(+)', name='chrX:144903387-144903414(+)', description='chrX:144903387-144903414(+)', dbxrefs=[]),\n",
       " SeqRecord(seq=Seq('TTTTCCCACCCCCTTTTTGCGCTTTTT', SingleLetterAlphabet()), id='chrX:144903480-144903507(+)', name='chrX:144903480-144903507(+)', description='chrX:144903480-144903507(+)', dbxrefs=[]),\n",
       " SeqRecord(seq=Seq('TTTTCTGTTGCTTCTAGA', SingleLetterAlphabet()), id='chr22:24709263-24709281(+)', name='chr22:24709263-24709281(+)', description='chr22:24709263-24709281(+)', dbxrefs=[]),\n",
       " SeqRecord(seq=Seq('GTCAGGGGAACCTAGAACCTAGCTTATGCCCCCTTCCCAGATGTGACACTCAGT...AGT', SingleLetterAlphabet()), id='chr17:6920188-6920269(+)', name='chr17:6920188-6920269(+)', description='chr17:6920188-6920269(+)', dbxrefs=[]),\n",
       " SeqRecord(seq=Seq('AATGTTTGTTTA', SingleLetterAlphabet()), id='chr15:83861120-83861132(-)', name='chr15:83861120-83861132(-)', description='chr15:83861120-83861132(-)', dbxrefs=[]),\n",
       " SeqRecord(seq=Seq('TTTTCTTC', SingleLetterAlphabet()), id='chr15:83861155-83861163(-)', name='chr15:83861155-83861163(-)', description='chr15:83861155-83861163(-)', dbxrefs=[]),\n",
       " SeqRecord(seq=Seq('TGATTTACCAG', SingleLetterAlphabet()), id='chr10:51612988-51612999(-)', name='chr10:51612988-51612999(-)', description='chr10:51612988-51612999(-)', dbxrefs=[]),\n",
       " SeqRecord(seq=Seq('AGG', SingleLetterAlphabet()), id='chr2:203160394-203160397(+)', name='chr2:203160394-203160397(+)', description='chr2:203160394-203160397(+)', dbxrefs=[]),\n",
       " SeqRecord(seq=Seq('AG', SingleLetterAlphabet()), id='chr15:76576166-76576168(-)', name='chr15:76576166-76576168(-)', description='chr15:76576166-76576168(-)', dbxrefs=[]),\n",
       " SeqRecord(seq=Seq('GATCAGCCCCTGGATGGTGTGGGCTTGGTCCTTTCACACTTACTATTTTAATTT...TAG', SingleLetterAlphabet()), id='chr17:15990659-15990752(-)', name='chr17:15990659-15990752(-)', description='chr17:15990659-15990752(-)', dbxrefs=[]),\n",
       " SeqRecord(seq=Seq('TTCCTCTGCCTC', SingleLetterAlphabet()), id='chr9:100840222-100840234(+)', name='chr9:100840222-100840234(+)', description='chr9:100840222-100840234(+)', dbxrefs=[]),\n",
       " SeqRecord(seq=Seq('TTTAGA', SingleLetterAlphabet()), id='chr14:67567491-67567497(+)', name='chr14:67567491-67567497(+)', description='chr14:67567491-67567497(+)', dbxrefs=[]),\n",
       " SeqRecord(seq=Seq('TGATGTTTGTTCTTGGCTCTGTTCCATCTCACAGC', SingleLetterAlphabet()), id='chr14:67567538-67567573(+)', name='chr14:67567538-67567573(+)', description='chr14:67567538-67567573(+)', dbxrefs=[]),\n",
       " SeqRecord(seq=Seq('GAGCATGCCCCTT', SingleLetterAlphabet()), id='chr1:62299171-62299184(+)', name='chr1:62299171-62299184(+)', description='chr1:62299171-62299184(+)', dbxrefs=[]),\n",
       " SeqRecord(seq=Seq('GCATGCCAAAGAGA', SingleLetterAlphabet()), id='chr1:62299210-62299224(+)', name='chr1:62299210-62299224(+)', description='chr1:62299210-62299224(+)', dbxrefs=[]),\n",
       " SeqRecord(seq=Seq('TTCTTTTCA', SingleLetterAlphabet()), id='chr1:62299267-62299276(+)', name='chr1:62299267-62299276(+)', description='chr1:62299267-62299276(+)', dbxrefs=[]),\n",
       " SeqRecord(seq=Seq('TCTTTG', SingleLetterAlphabet()), id='chr1:62299310-62299316(+)', name='chr1:62299310-62299316(+)', description='chr1:62299310-62299316(+)', dbxrefs=[]),\n",
       " SeqRecord(seq=Seq('TTTCAGG', SingleLetterAlphabet()), id='chr1:62299319-62299326(+)', name='chr1:62299319-62299326(+)', description='chr1:62299319-62299326(+)', dbxrefs=[]),\n",
       " SeqRecord(seq=Seq('CAG', SingleLetterAlphabet()), id='chr13:33111164-33111167(-)', name='chr13:33111164-33111167(-)', description='chr13:33111164-33111167(-)', dbxrefs=[]),\n",
       " SeqRecord(seq=Seq('AG', SingleLetterAlphabet()), id='chr1:227922517-227922519(-)', name='chr1:227922517-227922519(-)', description='chr1:227922517-227922519(-)', dbxrefs=[]),\n",
       " SeqRecord(seq=Seq('TTTTATTTC', SingleLetterAlphabet()), id='chr7:128394218-128394227(+)', name='chr7:128394218-128394227(+)', description='chr7:128394218-128394227(+)', dbxrefs=[]),\n",
       " SeqRecord(seq=Seq('GCACACACCTGGC', SingleLetterAlphabet()), id='chr7:128394243-128394256(+)', name='chr7:128394243-128394256(+)', description='chr7:128394243-128394256(+)', dbxrefs=[]),\n",
       " SeqRecord(seq=Seq('CCAGAGTTCTGTGTCTTTTTAACCTTTTGCTGGATTTCTCTGCATTTTCTACAGA', SingleLetterAlphabet()), id='chr7:128394261-128394316(+)', name='chr7:128394261-128394316(+)', description='chr7:128394261-128394316(+)', dbxrefs=[]),\n",
       " SeqRecord(seq=Seq('CCTCCAG', SingleLetterAlphabet()), id='chr12:112602079-112602086(-)', name='chr12:112602079-112602086(-)', description='chr12:112602079-112602086(-)', dbxrefs=[]),\n",
       " SeqRecord(seq=Seq('AAAGTTAATTATCTTTTCTTTTAAAAATTGAAGT', SingleLetterAlphabet()), id='chr12:70739926-70739960(+)', name='chr12:70739926-70739960(+)', description='chr12:70739926-70739960(+)', dbxrefs=[]),\n",
       " SeqRecord(seq=Seq('AGA', SingleLetterAlphabet()), id='chr11:75112681-75112684(+)', name='chr11:75112681-75112684(+)', description='chr11:75112681-75112684(+)', dbxrefs=[]),\n",
       " SeqRecord(seq=Seq('CTCAAGGACACTGTCATAGTGA', SingleLetterAlphabet()), id='chr9:70459210-70459232(-)', name='chr9:70459210-70459232(-)', description='chr9:70459210-70459232(-)', dbxrefs=[]),\n",
       " SeqRecord(seq=Seq('TTATTTCACAGA', SingleLetterAlphabet()), id='chr12:70206546-70206558(+)', name='chr12:70206546-70206558(+)', description='chr12:70206546-70206558(+)', dbxrefs=[]),\n",
       " SeqRecord(seq=Seq('TTTTCCAATTGAATTTTTTTCTGCTAATAATTGG', SingleLetterAlphabet()), id='chr16:82184963-82184997(-)', name='chr16:82184963-82184997(-)', description='chr16:82184963-82184997(-)', dbxrefs=[]),\n",
       " SeqRecord(seq=Seq('TGTGAAGATCTTCTCTATGGAAGAATGTCATTCAGAGGATTTAATCCTGAGGTT...AAT', SingleLetterAlphabet()), id='chr16:82185004-82185085(-)', name='chr16:82185004-82185085(-)', description='chr16:82185004-82185085(-)', dbxrefs=[]),\n",
       " SeqRecord(seq=Seq('TAGGAGTTTCATAATAGAAGAGCAGAGTTTCT', SingleLetterAlphabet()), id='chr16:82185090-82185122(-)', name='chr16:82185090-82185122(-)', description='chr16:82185090-82185122(-)', dbxrefs=[]),\n",
       " SeqRecord(seq=Seq('CAG', SingleLetterAlphabet()), id='chr6:30676134-30676137(-)', name='chr6:30676134-30676137(-)', description='chr6:30676134-30676137(-)', dbxrefs=[]),\n",
       " SeqRecord(seq=Seq('tttctca', SingleLetterAlphabet()), id='chr6:30676230-30676237(-)', name='chr6:30676230-30676237(-)', description='chr6:30676230-30676237(-)', dbxrefs=[]),\n",
       " SeqRecord(seq=Seq('CCCAGGCCCTCCCTCAGCCAGGCTCTGTTGCAG', SingleLetterAlphabet()), id='chr5:138738382-138738415(-)', name='chr5:138738382-138738415(-)', description='chr5:138738382-138738415(-)', dbxrefs=[]),\n",
       " SeqRecord(seq=Seq('AG', SingleLetterAlphabet()), id='chr12:108135037-108135039(-)', name='chr12:108135037-108135039(-)', description='chr12:108135037-108135039(-)', dbxrefs=[]),\n",
       " SeqRecord(seq=Seq('GTCCTGAG', SingleLetterAlphabet()), id='chr2:190531722-190531730(+)', name='chr2:190531722-190531730(+)', description='chr2:190531722-190531730(+)', dbxrefs=[]),\n",
       " SeqRecord(seq=Seq('CAGTCAAGAAACGTGTCTTGTGTTT', SingleLetterAlphabet()), id='chr2:190531735-190531760(+)', name='chr2:190531735-190531760(+)', description='chr2:190531735-190531760(+)', dbxrefs=[]),\n",
       " SeqRecord(seq=Seq('GAAAGCAAATGTTGCAATCCTGTTTTCTGGGGGCATTGATTCCATGGTTATTGC...AGC', SingleLetterAlphabet()), id='chr2:190531811-190531922(+)', name='chr2:190531811-190531922(+)', description='chr2:190531811-190531922(+)', dbxrefs=[]),\n",
       " SeqRecord(seq=Seq('AGTAATGAACTGTTTCACTATTTTACAGA', SingleLetterAlphabet()), id='chr9:91041268-91041297(+)', name='chr9:91041268-91041297(+)', description='chr9:91041268-91041297(+)', dbxrefs=[]),\n",
       " SeqRecord(seq=Seq('GTAAGT', SingleLetterAlphabet()), id='chr14:50114004-50114010(-)', name='chr14:50114004-50114010(-)', description='chr14:50114004-50114010(-)', dbxrefs=[]),\n",
       " SeqRecord(seq=Seq('CTATATGCAAATAAATTTTGTTATTCTTTGCAGTGTCTTCTAAAGAGAAACTCT...CAG', SingleLetterAlphabet()), id='chr5:54569205-54569287(-)', name='chr5:54569205-54569287(-)', description='chr5:54569205-54569287(-)', dbxrefs=[]),\n",
       " SeqRecord(seq=Seq('ttttcatagtaaa', SingleLetterAlphabet()), id='chr5:54569305-54569318(-)', name='chr5:54569305-54569318(-)', description='chr5:54569305-54569318(-)', dbxrefs=[]),\n",
       " SeqRecord(seq=Seq('TCAGCCTGTTCTCTTTGATTCTTAGG', SingleLetterAlphabet()), id='chr1:110037739-110037765(+)', name='chr1:110037739-110037765(+)', description='chr1:110037739-110037765(+)', dbxrefs=[]),\n",
       " SeqRecord(seq=Seq('TTCAGATTTG', SingleLetterAlphabet()), id='chr3:107360575-107360585(+)', name='chr3:107360575-107360585(+)', description='chr3:107360575-107360585(+)', dbxrefs=[]),\n",
       " SeqRecord(seq=Seq('TGGCAGG', SingleLetterAlphabet()), id='chr14:24707445-24707452(+)', name='chr14:24707445-24707452(+)', description='chr14:24707445-24707452(+)', dbxrefs=[]),\n",
       " SeqRecord(seq=Seq('CGGTGA', SingleLetterAlphabet()), id='chr7:91874932-91874938(-)', name='chr7:91874932-91874938(-)', description='chr7:91874932-91874938(-)', dbxrefs=[]),\n",
       " SeqRecord(seq=Seq('TTCTGCCACAGGAAGCTGGGCC', SingleLetterAlphabet()), id='chr7:91874979-91875001(-)', name='chr7:91874979-91875001(-)', description='chr7:91874979-91875001(-)', dbxrefs=[]),\n",
       " SeqRecord(seq=Seq('AAAATTT', SingleLetterAlphabet()), id='chr16:57212870-57212877(-)', name='chr16:57212870-57212877(-)', description='chr16:57212870-57212877(-)', dbxrefs=[]),\n",
       " SeqRecord(seq=Seq('TTTGATTTGTTTT', SingleLetterAlphabet()), id='chr16:57212919-57212932(-)', name='chr16:57212919-57212932(-)', description='chr16:57212919-57212932(-)', dbxrefs=[]),\n",
       " SeqRecord(seq=Seq('AG', SingleLetterAlphabet()), id='chr12:95443009-95443011(-)', name='chr12:95443009-95443011(-)', description='chr12:95443009-95443011(-)', dbxrefs=[]),\n",
       " SeqRecord(seq=Seq('TTATTGCGGTGTTTGGTCAAGCTCATAGCTTCTGAT', SingleLetterAlphabet()), id='chr12:95443021-95443057(-)', name='chr12:95443021-95443057(-)', description='chr12:95443021-95443057(-)', dbxrefs=[]),\n",
       " SeqRecord(seq=Seq('TTTTCTCTTCACAGT', SingleLetterAlphabet()), id='chr18:71822365-71822380(+)', name='chr18:71822365-71822380(+)', description='chr18:71822365-71822380(+)', dbxrefs=[]),\n",
       " SeqRecord(seq=Seq('AAGCTT', SingleLetterAlphabet()), id='chr3:180692901-180692907(+)', name='chr3:180692901-180692907(+)', description='chr3:180692901-180692907(+)', dbxrefs=[]),\n",
       " SeqRecord(seq=Seq('TTTTTAA', SingleLetterAlphabet()), id='chr3:180692940-180692947(+)', name='chr3:180692940-180692947(+)', description='chr3:180692940-180692947(+)', dbxrefs=[]),\n",
       " SeqRecord(seq=Seq('TTTTGGTTGGAGGTGATACCCAGCTTAAGAAAATTTTGACACTGGGTGACCCAC...AGT', SingleLetterAlphabet()), id='chr3:180692955-180693101(+)', name='chr3:180692955-180693101(+)', description='chr3:180692955-180693101(+)', dbxrefs=[]),\n",
       " SeqRecord(seq=Seq('GTTTGTTTTAG', SingleLetterAlphabet()), id='chr15:85214013-85214024(-)', name='chr15:85214013-85214024(-)', description='chr15:85214013-85214024(-)', dbxrefs=[]),\n",
       " SeqRecord(seq=Seq('cctaactt', SingleLetterAlphabet()), id='chr15:85214178-85214186(-)', name='chr15:85214178-85214186(-)', description='chr15:85214178-85214186(-)', dbxrefs=[]),\n",
       " SeqRecord(seq=Seq('tttcctcatctctaaaatgg', SingleLetterAlphabet()), id='chr15:85214193-85214213(-)', name='chr15:85214193-85214213(-)', description='chr15:85214193-85214213(-)', dbxrefs=[]),\n",
       " SeqRecord(seq=Seq('CTCTAG', SingleLetterAlphabet()), id='chr22:32923992-32923998(-)', name='chr22:32923992-32923998(-)', description='chr22:32923992-32923998(-)', dbxrefs=[]),\n",
       " SeqRecord(seq=Seq('CTCAG', SingleLetterAlphabet()), id='chr15:34439631-34439636(-)', name='chr15:34439631-34439636(-)', description='chr15:34439631-34439636(-)', dbxrefs=[]),\n",
       " SeqRecord(seq=Seq('GGTTTGTCTCTTGTCTCTTTCAG', SingleLetterAlphabet()), id='chr2:128735663-128735686(-)', name='chr2:128735663-128735686(-)', description='chr2:128735663-128735686(-)', dbxrefs=[]),\n",
       " SeqRecord(seq=Seq('GTGGGAGGGACG', SingleLetterAlphabet()), id='chr6:31697105-31697117(-)', name='chr6:31697105-31697117(-)', description='chr6:31697105-31697117(-)', dbxrefs=[]),\n",
       " SeqRecord(seq=Seq('GGTCTGGAGTGGGTGGGG', SingleLetterAlphabet()), id='chr6:31697121-31697139(-)', name='chr6:31697121-31697139(-)', description='chr6:31697121-31697139(-)', dbxrefs=[]),\n",
       " SeqRecord(seq=Seq('CAG', SingleLetterAlphabet()), id='chrX:19055754-19055757(-)', name='chrX:19055754-19055757(-)', description='chrX:19055754-19055757(-)', dbxrefs=[]),\n",
       " SeqRecord(seq=Seq('ttttaG', SingleLetterAlphabet()), id='chr2:48046003-48046009(-)', name='chr2:48046003-48046009(-)', description='chr2:48046003-48046009(-)', dbxrefs=[]),\n",
       " SeqRecord(seq=Seq('GTAATAGAAGAGAATGAAGTTTATAGTAACACTCTAGCTGGAGTCTGGGTGACA...GAT', SingleLetterAlphabet()), id='chr2:48046087-48046199(-)', name='chr2:48046087-48046199(-)', description='chr2:48046087-48046199(-)', dbxrefs=[]),\n",
       " SeqRecord(seq=Seq('AGG', SingleLetterAlphabet()), id='chr2:48046200-48046203(-)', name='chr2:48046200-48046203(-)', description='chr2:48046200-48046203(-)', dbxrefs=[]),\n",
       " SeqRecord(seq=Seq('CCACAACAG', SingleLetterAlphabet()), id='chr17:7530111-7530120(-)', name='chr17:7530111-7530120(-)', description='chr17:7530111-7530120(-)', dbxrefs=[]),\n",
       " SeqRecord(seq=Seq('AATATCGGGGTA', SingleLetterAlphabet()), id='chr17:7530257-7530269(-)', name='chr17:7530257-7530269(-)', description='chr17:7530257-7530269(-)', dbxrefs=[]),\n",
       " SeqRecord(seq=Seq('TTTATCTGGAGGATATCTATGTGATGCC', SingleLetterAlphabet()), id='chr17:7530271-7530299(-)', name='chr17:7530271-7530299(-)', description='chr17:7530271-7530299(-)', dbxrefs=[]),\n",
       " SeqRecord(seq=Seq('TGCAG', SingleLetterAlphabet()), id='chr5:114620605-114620610(-)', name='chr5:114620605-114620610(-)', description='chr5:114620605-114620610(-)', dbxrefs=[]),\n",
       " SeqRecord(seq=Seq('ATTTTAAG', SingleLetterAlphabet()), id='chr5:114620790-114620798(-)', name='chr5:114620790-114620798(-)', description='chr5:114620790-114620798(-)', dbxrefs=[]),\n",
       " SeqRecord(seq=Seq('TGCTTTCCTCTGCAGGCTCC', SingleLetterAlphabet()), id='chr15:25219442-25219462(+)', name='chr15:25219442-25219462(+)', description='chr15:25219442-25219462(+)', dbxrefs=[]),\n",
       " SeqRecord(seq=Seq('CTCTTTGAAGCTTCTGCCCAGCTTGCATT', SingleLetterAlphabet()), id='chr15:25219467-25219496(+)', name='chr15:25219467-25219496(+)', description='chr15:25219467-25219496(+)', dbxrefs=[]),\n",
       " SeqRecord(seq=Seq('CATACCTTTATCTATAGC', SingleLetterAlphabet()), id='chr15:25219516-25219534(+)', name='chr15:25219516-25219534(+)', description='chr15:25219516-25219534(+)', dbxrefs=[]),\n",
       " SeqRecord(seq=Seq('TTAG', SingleLetterAlphabet()), id='chr12:110931036-110931040(-)', name='chr12:110931036-110931040(-)', description='chr12:110931036-110931040(-)', dbxrefs=[]),\n",
       " SeqRecord(seq=Seq('CTAACTTCTGTTTGTATTTCTGTCTAG', SingleLetterAlphabet()), id='chr15:76797315-76797342(-)', name='chr15:76797315-76797342(-)', description='chr15:76797315-76797342(-)', dbxrefs=[]),\n",
       " SeqRecord(seq=Seq('CTGG', SingleLetterAlphabet()), id='chr15:76797351-76797355(-)', name='chr15:76797351-76797355(-)', description='chr15:76797351-76797355(-)', dbxrefs=[]),\n",
       " SeqRecord(seq=Seq('GTTTTCATTGCAG', SingleLetterAlphabet()), id='chr1:169293707-169293720(-)', name='chr1:169293707-169293720(-)', description='chr1:169293707-169293720(-)', dbxrefs=[]),\n",
       " SeqRecord(seq=Seq('TCTTTGCAGA', SingleLetterAlphabet()), id='chr1:169293737-169293747(-)', name='chr1:169293737-169293747(-)', description='chr1:169293737-169293747(-)', dbxrefs=[]),\n",
       " SeqRecord(seq=Seq('AG', SingleLetterAlphabet()), id='chr5:179271227-179271229(-)', name='chr5:179271227-179271229(-)', description='chr5:179271227-179271229(-)', dbxrefs=[]),\n",
       " SeqRecord(seq=Seq('CCTGGTCATTT', SingleLetterAlphabet()), id='chr5:179271259-179271270(-)', name='chr5:179271259-179271270(-)', description='chr5:179271259-179271270(-)', dbxrefs=[]),\n",
       " SeqRecord(seq=Seq('CAG', SingleLetterAlphabet()), id='chr1:224505632-224505635(-)', name='chr1:224505632-224505635(-)', description='chr1:224505632-224505635(-)', dbxrefs=[])]"
      ]
     },
     "execution_count": 8,
     "metadata": {},
     "output_type": "execute_result"
    }
   ],
   "source": [
    "records"
   ]
  },
  {
   "cell_type": "code",
   "execution_count": null,
   "metadata": {
    "collapsed": true
   },
   "outputs": [],
   "source": []
  }
 ],
 "metadata": {
  "kernelspec": {
   "display_name": "Python 2",
   "language": "python",
   "name": "python2"
  },
  "language_info": {
   "codemirror_mode": {
    "name": "ipython",
    "version": 2
   },
   "file_extension": ".py",
   "mimetype": "text/x-python",
   "name": "python",
   "nbconvert_exporter": "python",
   "pygments_lexer": "ipython2",
   "version": "2.7.10"
  }
 },
 "nbformat": 4,
 "nbformat_minor": 0
}
