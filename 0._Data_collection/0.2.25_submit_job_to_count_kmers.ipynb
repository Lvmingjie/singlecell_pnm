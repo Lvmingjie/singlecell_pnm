{
 "cells": [
  {
   "cell_type": "code",
   "execution_count": 12,
   "metadata": {
    "collapsed": false
   },
   "outputs": [
    {
     "name": "stdout",
     "output_type": "stream",
     "text": [
      "The autoreload extension is already loaded. To reload it, use:\n",
      "  %reload_ext autoreload\n"
     ]
    }
   ],
   "source": [
    "import pandas as pd\n",
    "\n",
    "%load_ext autoreload\n",
    "%autoreload 2\n",
    "\n",
    "folder = '/projects/ps-yeolab/obotvinnik/singlecell_pnms'\n",
    "csv_folder = '{}/csvs_for_paper'.format(folder)\n",
    "bed_folder = '{}/bed'.format(folder)\n",
    "# folder2 = '/projects/ps-yeolab2/obotvinnik/singlecell_pnm'\n",
    "\n",
    "splicing_feature_folder = '{}/splicing_feature_data'.format(csv_folder)\n",
    "alternative_feature_folder = '{}/alternative'.format(splicing_feature_folder)\n",
    "constitutive_feature_folder = '{}/constitutive'.format(splicing_feature_folder)\n",
    "\n",
    "alt_exons_bedfile = '{}/exons.bed'.format(alternative_feature_folder)\n",
    "constitutive_bedfile = '{}/exons.bed'.format(constitutive_feature_folder)\n",
    "\n",
    "\n",
    "import pybedtools\n",
    "\n",
    "alt_exons = pybedtools.BedTool(alt_exons_bedfile)\n",
    "constitutive = pybedtools.BedTool(constitutive_bedfile)\n",
    "\n",
    "from Bio import SeqIO\n",
    "import kvector\n",
    "import pybedtools\n",
    "import pyhomer\n",
    "\n",
    "DIRECTIONS = 'upstream', 'downstream'\n",
    "\n",
    "placental_filename = '/projects/ps-yeolab/genomes/hg19/database/phastConsElements46wayPlacental.bed'\n",
    "conservation_bed = pybedtools.BedTool(placental_filename)\n",
    "\n",
    "genome = 'hg19'\n",
    "\n",
    "nt = 200\n",
    "\n",
    "genome_fasta = '/projects/ps-yeolab/genomes/hg19/chromosomes/all.fa'\n",
    "\n",
    "pair = pyhomer.ForegroundBackgroundPair(alt_exons, constitutive)\n"
   ]
  },
  {
   "cell_type": "code",
   "execution_count": 21,
   "metadata": {
    "collapsed": false
   },
   "outputs": [
    {
     "name": "stdout",
     "output_type": "stream",
     "text": [
      "/projects/ps-yeolab/obotvinnik/singlecell_pnms/csvs_for_paper/splicing_feature_data/alternative/exon2_phastcons_placental_mammal.bed\r\n",
      "/projects/ps-yeolab/obotvinnik/singlecell_pnms/csvs_for_paper/splicing_feature_data/alternative/exons.bed\r\n",
      "/projects/ps-yeolab/obotvinnik/singlecell_pnms/csvs_for_paper/splicing_feature_data/alternative/exons_merkin2012_ancient_alt_exons.bed\r\n",
      "/projects/ps-yeolab/obotvinnik/singlecell_pnms/csvs_for_paper/splicing_feature_data/alternative/exons_phastcons_placental_mammal.bed\r\n",
      "/projects/ps-yeolab/obotvinnik/singlecell_pnms/csvs_for_paper/splicing_feature_data/alternative/exons_stop_plus1.bed\r\n",
      "/projects/ps-yeolab/obotvinnik/singlecell_pnms/csvs_for_paper/splicing_feature_data/alternative/exons_upstream200_foreground.bed\r\n",
      "/projects/ps-yeolab/obotvinnik/singlecell_pnms/csvs_for_paper/splicing_feature_data/alternative/exons_upstream200_placental_foreground.bed\r\n",
      "/projects/ps-yeolab/obotvinnik/singlecell_pnms/csvs_for_paper/splicing_feature_data/alternative/test.bed\r\n"
     ]
    }
   ],
   "source": [
    "ls $alternative_feature_folder/*.bed"
   ]
  },
  {
   "cell_type": "code",
   "execution_count": null,
   "metadata": {
    "collapsed": true
   },
   "outputs": [],
   "source": [
    "! head $alt_exons_bedfile > $alternative_feature_folder/test.bed"
   ]
  },
  {
   "cell_type": "markdown",
   "metadata": {},
   "source": [
    "Cacluate the time needed for 10 intervals"
   ]
  },
  {
   "cell_type": "code",
   "execution_count": 22,
   "metadata": {
    "collapsed": false
   },
   "outputs": [
    {
     "name": "stdout",
     "output_type": "stream",
     "text": [
      "CPU times: user 1.52 s, sys: 103 ms, total: 1.62 s\n",
      "Wall time: 3min 32s\n"
     ]
    }
   ],
   "source": [
    "%%time\n",
    "\n",
    "import kvector\n",
    "\n",
    "kmers = kvector.kmer.per_interval_kmers('{}/test.bed'.format(alternative_feature_folder), genome_fasta, conservation_bed)"
   ]
  },
  {
   "cell_type": "markdown",
   "metadata": {},
   "source": [
    "```\n",
    "CPU times: user 1.52 s, sys: 103 ms, total: 1.62 s\n",
    "Wall time: 3min 32s\n",
    "```\n",
    "\n",
    "wow, rounded 4 min per 10 intervals! that's so much! so"
   ]
  },
  {
   "cell_type": "code",
   "execution_count": 34,
   "metadata": {
    "collapsed": false
   },
   "outputs": [
    {
     "name": "stdout",
     "output_type": "stream",
     "text": [
      "Overwriting /home/obotvinnik/count_interval_kmers.py\n"
     ]
    }
   ],
   "source": [
    "%%file ~/count_interval_kmers.py\n",
    "\n",
    "import sys\n",
    "import kvector\n",
    "\n",
    "bedfile = sys.argv[1]\n",
    "genome_fasta = sys.argv[2]\n",
    "other = sys.argv[3]\n",
    "\n",
    "kmers = kvector.kmer.per_interval_kmers(bedfile, genome_fasta, other)\n",
    "csv = bedfile.replace('.bed', '_kmers.csv')\n",
    "kmers.to_csv(csv)"
   ]
  },
  {
   "cell_type": "code",
   "execution_count": 35,
   "metadata": {
    "collapsed": false
   },
   "outputs": [
    {
     "data": {
      "text/plain": [
       "4390"
      ]
     },
     "execution_count": 35,
     "metadata": {},
     "output_type": "execute_result"
    }
   ],
   "source": [
    "n_lines = ! wc -l $alt_exons_bedfile\n",
    "n_lines = int(n_lines[0].split()[0])/10\n",
    "n_lines"
   ]
  },
  {
   "cell_type": "code",
   "execution_count": 36,
   "metadata": {
    "collapsed": false
   },
   "outputs": [
    {
     "name": "stdout",
     "output_type": "stream",
     "text": [
      "/home/obotvinnik/anaconda/lib/python2.7/site-packages/matplotlib/__init__.py:810: UserWarning: Found matplotlib configuration in ~/.matplotlib/. To conform with the XDG base directory standard, this configuration location has been deprecated on Linux, and the new location is now /home/obotvinnik/.config/matplotlib/. Please move your configuration there to ensure that matplotlib will continue to find it in the future.\n",
      "  _get_xdg_config_dir())\n",
      "^CTraceback (most recent call last):\n",
      "  File \"/home/obotvinnik/count_interval_kmers.py\", line 9, in <module>\n",
      "    kmers = kvector.kmer.per_interval_kmers(bedfile, genome_fasta, other)\n",
      "  File \"/home/obotvinnik/workspace-git/kvector/kvector/kmer.py\", line 159, in per_interval_kmers\n",
      "    residues=residues).sum()\n",
      "  File \"/home/obotvinnik/workspace-git/kvector/kvector/kmer.py\", line 90, in count_kmers\n",
      "    kmer = str(record[i:(i+k)].seq).upper()\n",
      "  File \"/home/obotvinnik/anaconda/lib/python2.7/site-packages/Bio/SeqRecord.py\", line 433, in __getitem__\n",
      "    description=self.description)\n",
      "  File \"/home/obotvinnik/anaconda/lib/python2.7/site-packages/Bio/SeqRecord.py\", line 185, in __init__\n",
      "    if id is not None and not isinstance(id, basestring):\n",
      "KeyboardInterrupt\n",
      "\n"
     ]
    }
   ],
   "source": [
    "! python ~/count_interval_kmers.py \\\n",
    "    /projects/ps-yeolab/obotvinnik/singlecell_pnms/csvs_for_paper/splicing_feature_data/alternative/exons.bed \\\n",
    "    /projects/ps-yeolab/genomes/hg19/chromosomes/all.fa /projects/ps-yeolab/genomes/hg19/database/phastConsElements46wayPlacental.bed"
   ]
  },
  {
   "cell_type": "code",
   "execution_count": 37,
   "metadata": {
    "collapsed": true
   },
   "outputs": [],
   "source": [
    "import qtools"
   ]
  },
  {
   "cell_type": "code",
   "execution_count": 38,
   "metadata": {
    "collapsed": false
   },
   "outputs": [
    {
     "name": "stderr",
     "output_type": "stream",
     "text": [
      "running 3 tasks as an array-job.\n",
      "Wrote commands to alternative_kmers.sh.\n",
      "Submitted script to queue home.\n",
      " Job ID: 5029323\n",
      "running 3 tasks as an array-job.\n",
      "Wrote commands to constitutive_kmers.sh.\n",
      "Submitted script to queue home.\n",
      " Job ID: 5029324\n"
     ]
    }
   ],
   "source": [
    "def kmer_command(bedfile, genome_fasta, other):\n",
    "    return 'python ~/count_interval_kmers.py {} {} {}'.format(bedfile, genome_fasta, other)\n",
    "\n",
    "bedfiles = alt_exons_bedfile, constitutive_bedfile\n",
    "\n",
    "for bedfile in bedfiles:\n",
    "    jobname = bedfile.split('/')[-2] + '_kmers'\n",
    "    \n",
    "    commands = []\n",
    "    \n",
    "    n_lines = ! wc -l $bedfile\n",
    "    n_lines = int(n_lines[0].split()[0])\n",
    "    n_minutes = 4 * n_lines / 10\n",
    "    \n",
    "    commands.append(kmer_command(bedfile, genome_fasta, placental_filename))\n",
    "    \n",
    "    for direction in DIRECTIONS:\n",
    "        bed = pybedtools.BedTool(bedfile)\n",
    "        if direction == 'downstream':\n",
    "            intron = bed.flank(l=0, r=nt, s=True, genome=genome)\n",
    "        elif direction == 'upstream':\n",
    "            intron = bed.flank(l=nt, r=0, s=True, genome=genome)\n",
    "        intron_filename = bedfile.replace('.bed', '_{}{}nt.bed'.format(direction, nt))\n",
    "        intron.saveas(intron_filename)\n",
    "        commands.append(kmer_command(intron_filename, genome_fasta, placental_filename))\n",
    "#     print commands\n",
    "    qtools.Submitter(commands, jobname, walltime='0:{}:00'.format(n_minutes), array=True)"
   ]
  },
  {
   "cell_type": "code",
   "execution_count": null,
   "metadata": {
    "collapsed": true
   },
   "outputs": [],
   "source": []
  }
 ],
 "metadata": {
  "kernelspec": {
   "display_name": "Python 2",
   "language": "python",
   "name": "python2"
  },
  "language_info": {
   "codemirror_mode": {
    "name": "ipython",
    "version": 2
   },
   "file_extension": ".py",
   "mimetype": "text/x-python",
   "name": "python",
   "nbconvert_exporter": "python",
   "pygments_lexer": "ipython2",
   "version": "2.7.10"
  }
 },
 "nbformat": 4,
 "nbformat_minor": 0
}
