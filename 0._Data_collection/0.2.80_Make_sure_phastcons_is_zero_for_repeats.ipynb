{
 "cells": [
  {
   "cell_type": "markdown",
   "metadata": {},
   "source": [
    "# Create memory-mapped HTSeq genomic Array\n",
    "\n",
    "Get chromosome sizes to use memory mapped mode of HTSeq so it's faster"
   ]
  },
  {
   "cell_type": "code",
   "execution_count": 2,
   "metadata": {
    "collapsed": false
   },
   "outputs": [
    {
     "name": "stdout",
     "output_type": "stream",
     "text": [
      "/oasis/tscc/scratch/obotvinnik/projects/singlecell_pnms/analysis/htseq_memmap\n"
     ]
    }
   ],
   "source": [
    "cd /home/obotvinnik/projects/singlecell_pnms/analysis/htseq_memmap"
   ]
  },
  {
   "cell_type": "code",
   "execution_count": 4,
   "metadata": {
    "collapsed": false
   },
   "outputs": [
    {
     "name": "stdout",
     "output_type": "stream",
     "text": [
      "total 12G\r\n",
      "drwxr-xr-x  2 obotvinnik yeo-group 33K Jan 28 21:14 \u001b[0m\u001b[01;34m.\u001b[0m/\r\n",
      "drwxr-xr-x 16 obotvinnik yeo-group 33K Jan 27 19:41 \u001b[01;34m..\u001b[0m/\r\n",
      "-rw-r--r--  1 obotvinnik yeo-group 79G Sep 26  2015 hg19_phastcons_placental_mammal_htseq.pickle\r\n",
      "\u001b[m"
     ]
    }
   ],
   "source": [
    "ls -lha"
   ]
  },
  {
   "cell_type": "code",
   "execution_count": 6,
   "metadata": {
    "collapsed": false
   },
   "outputs": [],
   "source": [
    "! touch *"
   ]
  },
  {
   "cell_type": "code",
   "execution_count": 7,
   "metadata": {
    "collapsed": false
   },
   "outputs": [
    {
     "name": "stdout",
     "output_type": "stream",
     "text": [
      "total 12G\r\n",
      "drwxr-xr-x  2 obotvinnik yeo-group 33K Jan 28 21:14 \u001b[0m\u001b[01;34m.\u001b[0m/\r\n",
      "drwxr-xr-x 16 obotvinnik yeo-group 33K Jan 27 19:41 \u001b[01;34m..\u001b[0m/\r\n",
      "-rw-r--r--  1 obotvinnik yeo-group 79G Jun 13 06:18 hg19_phastcons_placental_mammal_htseq.pickle\r\n",
      "\u001b[m"
     ]
    }
   ],
   "source": [
    "ls -lha"
   ]
  },
  {
   "cell_type": "code",
   "execution_count": 9,
   "metadata": {
    "collapsed": false
   },
   "outputs": [
    {
     "name": "stdout",
     "output_type": "stream",
     "text": [
      "cHTSeq._HTSeq\r\n",
      "_GenomicArray_unpickle\r\n",
      "p1\r\n",
      "(I00\r\n",
      "S'd'\r\n",
      "(dp2\r\n",
      "S'chrY'\r\n",
      "p3\r\n",
      "(dp4\r\n",
      "S'.'\r\n"
     ]
    }
   ],
   "source": [
    "!head hg19_phastcons_placental_mammal_htseq.pickle"
   ]
  },
  {
   "cell_type": "code",
   "execution_count": 11,
   "metadata": {
    "collapsed": false
   },
   "outputs": [],
   "source": [
    "import cPickle as pickle\n",
    "memmap_dir = '/home/obotvinnik/projects/singlecell_pnms/analysis/htseq_memmap'\n",
    "\n",
    "filename = '{}/hg19_phastcons_placental_mammal_htseq.pickle'.format(memmap_dir)\n",
    "with open(filename) as f:\n",
    "    conservation = pickle.load(f)"
   ]
  },
  {
   "cell_type": "code",
   "execution_count": null,
   "metadata": {
    "collapsed": true
   },
   "outputs": [],
   "source": [
    "interval = 'chr17:41,198,123-41,198,198'"
   ]
  },
  {
   "cell_type": "code",
   "execution_count": 13,
   "metadata": {
    "collapsed": true
   },
   "outputs": [],
   "source": [
    "import HTSeq"
   ]
  },
  {
   "cell_type": "code",
   "execution_count": 15,
   "metadata": {
    "collapsed": false
   },
   "outputs": [],
   "source": [
    "chromvector = conservation[HTSeq.GenomicInterval('chr17', 41198123, 41198198)]\n",
    "\n",
    "import numpy as np\n",
    "\n",
    "np.array([x for x in chromvector.values()])"
   ]
  },
  {
   "cell_type": "code",
   "execution_count": null,
   "metadata": {
    "collapsed": true
   },
   "outputs": [],
   "source": [
    "interval= 'chr10:79,797,655-79,797,710'"
   ]
  },
  {
   "cell_type": "code",
   "execution_count": 23,
   "metadata": {
    "collapsed": false
   },
   "outputs": [
    {
     "data": {
      "text/plain": [
       "array([ 0.991,  0.997,  0.997,  0.996,  0.983,  0.939,  0.939,  0.94 ,\n",
       "        0.94 ,  0.936,  0.925,  0.921,  0.921,  0.922,  0.914,  0.91 ,\n",
       "        0.906,  0.874,  0.857,  0.836,  0.844,  0.844,  0.928,  0.959,\n",
       "        0.991,  0.996,  1.   ,  0.999,  0.994,  0.994,  0.988,  0.947,\n",
       "        0.941,  0.948,  0.935,  0.924,  0.925,  0.922,  0.941,  0.945,\n",
       "        0.936,  0.73 ,  0.679,  0.654,  0.493,  0.458,  0.489,  0.971,\n",
       "        0.992,  1.   ,  1.   ,  1.   ,  1.   ,  1.   ,  1.   ])"
      ]
     },
     "execution_count": 23,
     "metadata": {},
     "output_type": "execute_result"
    }
   ],
   "source": [
    "chromvector = conservation[HTSeq.GenomicInterval('chr10', 79797655, 79797710)]\n",
    "\n",
    "np.array([x for x in chromvector.values()])"
   ]
  },
  {
   "cell_type": "code",
   "execution_count": 1,
   "metadata": {
    "collapsed": false
   },
   "outputs": [
    {
     "data": {
      "text/plain": [
       "{'chr1': 249250621,\n",
       " 'chr10': 135534747,\n",
       " 'chr11': 135006516,\n",
       " 'chr12': 133851895,\n",
       " 'chr13': 115169878,\n",
       " 'chr14': 107349540,\n",
       " 'chr15': 102531392,\n",
       " 'chr16': 90354753,\n",
       " 'chr17': 81195210,\n",
       " 'chr18': 78077248,\n",
       " 'chr19': 59128983,\n",
       " 'chr2': 243199373,\n",
       " 'chr20': 63025520,\n",
       " 'chr21': 48129895,\n",
       " 'chr22': 51304566,\n",
       " 'chr3': 198022430,\n",
       " 'chr4': 191154276,\n",
       " 'chr5': 180915260,\n",
       " 'chr6': 171115067,\n",
       " 'chr7': 159138663,\n",
       " 'chr8': 146364022,\n",
       " 'chr9': 141213431,\n",
       " 'chrM': 16571,\n",
       " 'chrX': 155270560,\n",
       " 'chrY': 59373566}"
      ]
     },
     "execution_count": 1,
     "metadata": {},
     "output_type": "execute_result"
    }
   ],
   "source": [
    "import pandas as pd\n",
    "chromsizes = pd.read_table('/projects/ps-yeolab/genomes/hg19/hg19.chrom.sizes', header=None, index_col=0, squeeze=True)\n",
    "\n",
    "# Remove all haplotype chromosomes\n",
    "chromsizes = chromsizes[chromsizes.index.map(lambda x: '_' not in x)]\n",
    "chromsizes = chromsizes.to_dict()\n",
    "chromsizes"
   ]
  },
  {
   "cell_type": "markdown",
   "metadata": {},
   "source": [
    "Populating `HTSeq.GenomicArray` took overnight so plan accordingly"
   ]
  },
  {
   "cell_type": "code",
   "execution_count": null,
   "metadata": {
    "collapsed": true
   },
   "outputs": [],
   "source": [
    "%%time\n",
    "import HTSeq\n",
    "\n",
    "wiggle_filename = '/projects/ps-yeolab/genomes/hg19/hg19_phastcons_placental_mammal_space_separated.wig'\n",
    "wig = HTSeq.WiggleReader(wiggle_filename)\n",
    "\n",
    "conservation = HTSeq.GenomicArray(chromsizes, stranded=False, typecode='d', storage='memmap', \n",
    "                                  memmap_dir='/home/obotvinnik/projects/singlecell_pnms/analysis/htseq_memmap')\n",
    "for location, score in wig:\n",
    "    conservation[location] += score"
   ]
  },
  {
   "cell_type": "code",
   "execution_count": null,
   "metadata": {
    "collapsed": true
   },
   "outputs": [],
   "source": [
    "%%time\n",
    "\n",
    "import cPickle as pickle\n",
    "memmap_dir = '/home/obotvinnik/projects/singlecell_pnms/analysis/htseq_memmap'\n",
    "with open('{}/hg19_phastcons_placental_mammal_htseq.pickle'.format(memmap_dir), 'wb') as f:\n",
    "    pickle.dump(conservation, f)"
   ]
  },
  {
   "cell_type": "code",
   "execution_count": null,
   "metadata": {
    "collapsed": true
   },
   "outputs": [],
   "source": []
  }
 ],
 "metadata": {
  "kernelspec": {
   "display_name": "Python 2",
   "language": "python",
   "name": "python2"
  },
  "language_info": {
   "codemirror_mode": {
    "name": "ipython",
    "version": 2
   },
   "file_extension": ".py",
   "mimetype": "text/x-python",
   "name": "python",
   "nbconvert_exporter": "python",
   "pygments_lexer": "ipython2",
   "version": "2.7.10"
  }
 },
 "nbformat": 4,
 "nbformat_minor": 0
}
