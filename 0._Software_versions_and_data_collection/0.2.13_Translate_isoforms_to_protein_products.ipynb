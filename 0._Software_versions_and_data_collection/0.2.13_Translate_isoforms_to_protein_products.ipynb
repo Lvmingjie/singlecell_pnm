{
 "cells": [
  {
   "cell_type": "markdown",
   "metadata": {},
   "source": [
    "# Get translated protein product of isoforms"
   ]
  },
  {
   "cell_type": "code",
   "execution_count": 2,
   "metadata": {
    "collapsed": true
   },
   "outputs": [],
   "source": [
    "%load_ext autoreload\n",
    "%autoreload 2\n",
    "\n",
    "import pandas as pd\n",
    "import gffutils\n",
    "import pybedtools\n",
    "import re\n",
    "import numpy as np\n",
    "\n",
    "v19db_filename = '/projects/ps-yeolab/genomes/hg19/gencode/v19/gencode.v19.annotation.gtf.db'\n",
    "v19db = gffutils.FeatureDB(v19db_filename)\n",
    "\n",
    "folder = '/projects/ps-yeolab/obotvinnik/singlecell_pnms'"
   ]
  },
  {
   "cell_type": "code",
   "execution_count": 94,
   "metadata": {
    "collapsed": false
   },
   "outputs": [],
   "source": [
    "figure_folder = '/home/obotvinnik/Dropbox/figures2/singlecell_pnms/isoform_protein_properties'\n",
    "! mkdir $figure_folder"
   ]
  },
  {
   "cell_type": "code",
   "execution_count": 3,
   "metadata": {
    "collapsed": true
   },
   "outputs": [],
   "source": [
    "splicing_feature_data = pd.read_csv('{}/splicing_feature_data.csv'.format(folder), index_col=0)"
   ]
  },
  {
   "cell_type": "code",
   "execution_count": 4,
   "metadata": {
    "collapsed": false
   },
   "outputs": [
    {
     "data": {
      "text/html": [
       "<div>\n",
       "<table border=\"1\" class=\"dataframe\">\n",
       "  <thead>\n",
       "    <tr style=\"text-align: right;\">\n",
       "      <th></th>\n",
       "      <th>exon1</th>\n",
       "      <th>exon2</th>\n",
       "      <th>exon3</th>\n",
       "      <th>junctions</th>\n",
       "    </tr>\n",
       "  </thead>\n",
       "  <tbody>\n",
       "    <tr>\n",
       "      <th>0</th>\n",
       "      <td>exon:chr10:100190328-100190427:-</td>\n",
       "      <td>exon:chr10:100189548-100189646:-</td>\n",
       "      <td>exon:chr10:100188908-100189399:-</td>\n",
       "      <td>('chr10:100189647-100190327:-', 'chr10:1001894...</td>\n",
       "    </tr>\n",
       "    <tr>\n",
       "      <th>1</th>\n",
       "      <td>exon:chr10:100190328-100190427:-</td>\n",
       "      <td>exon:chr10:100189548-100189646:-</td>\n",
       "      <td>exon:chr10:100188913-100189399:-</td>\n",
       "      <td>('chr10:100189647-100190327:-', 'chr10:1001894...</td>\n",
       "    </tr>\n",
       "    <tr>\n",
       "      <th>2</th>\n",
       "      <td>exon:chr10:100190328-100190427:-</td>\n",
       "      <td>exon:chr10:100189548-100189646:-</td>\n",
       "      <td>exon:chr10:100189330-100189399:-</td>\n",
       "      <td>('chr10:100189647-100190327:-', 'chr10:1001894...</td>\n",
       "    </tr>\n",
       "    <tr>\n",
       "      <th>3</th>\n",
       "      <td>exon:chr10:100193697-100193848:-</td>\n",
       "      <td>exon:chr10:100190888-100191048:-</td>\n",
       "      <td>exon:chr10:100190328-100190427:-</td>\n",
       "      <td>('chr10:100191049-100193696:-', 'chr10:1001904...</td>\n",
       "    </tr>\n",
       "    <tr>\n",
       "      <th>4</th>\n",
       "      <td>exon:chr10:100195392-100195529:-</td>\n",
       "      <td>exon:chr10:100195029-100195171:-</td>\n",
       "      <td>exon:chr10:100193697-100193848:-</td>\n",
       "      <td>('chr10:100195172-100195391:-', 'chr10:1001938...</td>\n",
       "    </tr>\n",
       "  </tbody>\n",
       "</table>\n",
       "</div>"
      ],
      "text/plain": [
       "                              exon1                             exon2  \\\n",
       "0  exon:chr10:100190328-100190427:-  exon:chr10:100189548-100189646:-   \n",
       "1  exon:chr10:100190328-100190427:-  exon:chr10:100189548-100189646:-   \n",
       "2  exon:chr10:100190328-100190427:-  exon:chr10:100189548-100189646:-   \n",
       "3  exon:chr10:100193697-100193848:-  exon:chr10:100190888-100191048:-   \n",
       "4  exon:chr10:100195392-100195529:-  exon:chr10:100195029-100195171:-   \n",
       "\n",
       "                              exon3  \\\n",
       "0  exon:chr10:100188908-100189399:-   \n",
       "1  exon:chr10:100188913-100189399:-   \n",
       "2  exon:chr10:100189330-100189399:-   \n",
       "3  exon:chr10:100190328-100190427:-   \n",
       "4  exon:chr10:100193697-100193848:-   \n",
       "\n",
       "                                           junctions  \n",
       "0  ('chr10:100189647-100190327:-', 'chr10:1001894...  \n",
       "1  ('chr10:100189647-100190327:-', 'chr10:1001894...  \n",
       "2  ('chr10:100189647-100190327:-', 'chr10:1001894...  \n",
       "3  ('chr10:100191049-100193696:-', 'chr10:1001904...  \n",
       "4  ('chr10:100195172-100195391:-', 'chr10:1001938...  "
      ]
     },
     "execution_count": 4,
     "metadata": {},
     "output_type": "execute_result"
    }
   ],
   "source": [
    "exons_to_junctions = pd.read_csv('{}/exons_to_junctions_se.csv'.format(folder), index_col=[0, 1, 2], squeeze=True, header=None)\n",
    "exons_to_junctions = exons_to_junctions.reset_index()\n",
    "exons_to_junctions = exons_to_junctions.rename(columns={0: 'exon1', 1: 'exon2', 2: 'exon3', 3:'junctions'})\n",
    "exons_to_junctions.head()"
   ]
  },
  {
   "cell_type": "code",
   "execution_count": 5,
   "metadata": {
    "collapsed": false
   },
   "outputs": [
    {
     "data": {
      "text/html": [
       "<div>\n",
       "<table border=\"1\" class=\"dataframe\">\n",
       "  <thead>\n",
       "    <tr style=\"text-align: right;\">\n",
       "      <th></th>\n",
       "      <th>exon1</th>\n",
       "      <th>exon2</th>\n",
       "      <th>exon3</th>\n",
       "      <th>junctions</th>\n",
       "    </tr>\n",
       "  </thead>\n",
       "  <tbody>\n",
       "    <tr>\n",
       "      <th>0</th>\n",
       "      <td>exon:chr10:100190328-100190427:-</td>\n",
       "      <td>exon:chr10:100189548-100189646:-</td>\n",
       "      <td>exon:chr10:100188908-100189399:-</td>\n",
       "      <td>(chr10:100189647-100190327:-, chr10:100189400-...</td>\n",
       "    </tr>\n",
       "    <tr>\n",
       "      <th>1</th>\n",
       "      <td>exon:chr10:100190328-100190427:-</td>\n",
       "      <td>exon:chr10:100189548-100189646:-</td>\n",
       "      <td>exon:chr10:100188913-100189399:-</td>\n",
       "      <td>(chr10:100189647-100190327:-, chr10:100189400-...</td>\n",
       "    </tr>\n",
       "    <tr>\n",
       "      <th>2</th>\n",
       "      <td>exon:chr10:100190328-100190427:-</td>\n",
       "      <td>exon:chr10:100189548-100189646:-</td>\n",
       "      <td>exon:chr10:100189330-100189399:-</td>\n",
       "      <td>(chr10:100189647-100190327:-, chr10:100189400-...</td>\n",
       "    </tr>\n",
       "    <tr>\n",
       "      <th>3</th>\n",
       "      <td>exon:chr10:100193697-100193848:-</td>\n",
       "      <td>exon:chr10:100190888-100191048:-</td>\n",
       "      <td>exon:chr10:100190328-100190427:-</td>\n",
       "      <td>(chr10:100191049-100193696:-, chr10:100190428-...</td>\n",
       "    </tr>\n",
       "    <tr>\n",
       "      <th>4</th>\n",
       "      <td>exon:chr10:100195392-100195529:-</td>\n",
       "      <td>exon:chr10:100195029-100195171:-</td>\n",
       "      <td>exon:chr10:100193697-100193848:-</td>\n",
       "      <td>(chr10:100195172-100195391:-, chr10:100193849-...</td>\n",
       "    </tr>\n",
       "  </tbody>\n",
       "</table>\n",
       "</div>"
      ],
      "text/plain": [
       "                              exon1                             exon2  \\\n",
       "0  exon:chr10:100190328-100190427:-  exon:chr10:100189548-100189646:-   \n",
       "1  exon:chr10:100190328-100190427:-  exon:chr10:100189548-100189646:-   \n",
       "2  exon:chr10:100190328-100190427:-  exon:chr10:100189548-100189646:-   \n",
       "3  exon:chr10:100193697-100193848:-  exon:chr10:100190888-100191048:-   \n",
       "4  exon:chr10:100195392-100195529:-  exon:chr10:100195029-100195171:-   \n",
       "\n",
       "                              exon3  \\\n",
       "0  exon:chr10:100188908-100189399:-   \n",
       "1  exon:chr10:100188913-100189399:-   \n",
       "2  exon:chr10:100189330-100189399:-   \n",
       "3  exon:chr10:100190328-100190427:-   \n",
       "4  exon:chr10:100193697-100193848:-   \n",
       "\n",
       "                                           junctions  \n",
       "0  (chr10:100189647-100190327:-, chr10:100189400-...  \n",
       "1  (chr10:100189647-100190327:-, chr10:100189400-...  \n",
       "2  (chr10:100189647-100190327:-, chr10:100189400-...  \n",
       "3  (chr10:100191049-100193696:-, chr10:100190428-...  \n",
       "4  (chr10:100195172-100195391:-, chr10:100193849-...  "
      ]
     },
     "execution_count": 5,
     "metadata": {},
     "output_type": "execute_result"
    }
   ],
   "source": [
    "exons_to_junctions['junctions'] = exons_to_junctions['junctions'].map(eval)\n",
    "exons_to_junctions.head()"
   ]
  },
  {
   "cell_type": "markdown",
   "metadata": {},
   "source": [
    "## Translate isoform"
   ]
  },
  {
   "cell_type": "code",
   "execution_count": 6,
   "metadata": {
    "collapsed": false
   },
   "outputs": [],
   "source": [
    "prefix = 'skipped_exon_isoform_translations'\n",
    "translated_fasta = '{}/{}.fa'.format(folder, prefix)"
   ]
  },
  {
   "cell_type": "code",
   "execution_count": 1,
   "metadata": {
    "collapsed": false
   },
   "outputs": [
    {
     "ename": "NameError",
     "evalue": "name 'exons_to_junctions' is not defined",
     "output_type": "error",
     "traceback": [
      "\u001b[1;31m---------------------------------------------------------------------------\u001b[0m",
      "\u001b[1;31mNameError\u001b[0m                                 Traceback (most recent call last)",
      "\u001b[1;32m<ipython-input-1-b9e865e7031f>\u001b[0m in \u001b[0;36m<module>\u001b[1;34m()\u001b[0m\n\u001b[0;32m     12\u001b[0m \u001b[0mseqrecords\u001b[0m \u001b[1;33m=\u001b[0m \u001b[1;33m[\u001b[0m\u001b[1;33m]\u001b[0m\u001b[1;33m\u001b[0m\u001b[0m\n\u001b[0;32m     13\u001b[0m \u001b[1;33m\u001b[0m\u001b[0m\n\u001b[1;32m---> 14\u001b[1;33m \u001b[1;32mfor\u001b[0m \u001b[0mi\u001b[0m\u001b[1;33m,\u001b[0m \u001b[0mrow\u001b[0m \u001b[1;32min\u001b[0m \u001b[0mexons_to_junctions\u001b[0m\u001b[1;33m.\u001b[0m\u001b[0miterrows\u001b[0m\u001b[1;33m(\u001b[0m\u001b[1;33m)\u001b[0m\u001b[1;33m:\u001b[0m\u001b[1;33m\u001b[0m\u001b[0m\n\u001b[0m\u001b[0;32m     15\u001b[0m     \u001b[1;32mif\u001b[0m \u001b[1;33m(\u001b[0m\u001b[0mi\u001b[0m\u001b[1;33m+\u001b[0m\u001b[1;36m1\u001b[0m\u001b[1;33m)\u001b[0m \u001b[1;33m%\u001b[0m \u001b[1;36m1000\u001b[0m \u001b[1;33m==\u001b[0m \u001b[1;36m0\u001b[0m\u001b[1;33m:\u001b[0m\u001b[1;33m\u001b[0m\u001b[0m\n\u001b[0;32m     16\u001b[0m         \u001b[1;32mprint\u001b[0m \u001b[0mi\u001b[0m\u001b[1;33m+\u001b[0m\u001b[1;36m1\u001b[0m\u001b[1;33m\u001b[0m\u001b[0m\n",
      "\u001b[1;31mNameError\u001b[0m: name 'exons_to_junctions' is not defined"
     ]
    }
   ],
   "source": [
    "import itertools\n",
    "from Bio.Seq import Seq\n",
    "from Bio.SeqRecord import SeqRecord\n",
    "from Bio import SeqIO\n",
    "from Bio.Alphabet import generic_dna, generic_protein\n",
    "\n",
    "hg19_fasta = '/projects/ps-yeolab/genomes/hg19/gencode/v19/GRCh37.p13.genome.fa'\n",
    "\n",
    "def overlap(x, y):\n",
    "    return not ((x.start > y.stop) or (x.stop < y.start))\n",
    "\n",
    "seqrecords = []\n",
    "\n",
    "for i, row in exons_to_junctions.iterrows():\n",
    "    if (i+1) % 1000 == 0:\n",
    "        print i+1\n",
    "    exon1 = v19db[row.exon1]\n",
    "    exon2 = v19db[row.exon2]\n",
    "    exon3 = v19db[row.exon3]\n",
    "#     print row.junctions\n",
    "    \n",
    "    exon_trio = exon1, exon2, exon3\n",
    "    event_id = '@'.join(map(lambda x: x.id, exon_trio))\n",
    "    \n",
    "    isoform_to_exons = {'isoform1': (exon1, exon3), 'isoform2': exon_trio}\n",
    "    \n",
    "    transcripts = map(lambda x: set(v19db.parents(x, featuretype='transcript')), exon_trio)\n",
    "    \n",
    "    # Isoform 1: exclusion of exon2, so all transcripts that have exon1 and exon3 but not exon2\n",
    "    isoform1_transcripts = (transcripts[0] & transcripts[2]) - transcripts[1]\n",
    "    \n",
    "    # Isoform 2: inclusion of exon2, so all transcripts that have exon1, exon2, and exon3\n",
    "    isoform2_transcripts = set(itertools.chain(*transcripts))\n",
    "    \n",
    "    isoforms = {'isoform1': isoform1_transcripts, \n",
    "                'isoform2': isoform2_transcripts}\n",
    "    \n",
    "    isoform_to_cds = {'isoform1': [], 'isoform2': []}\n",
    "    for isoform, transcripts in isoforms.items():\n",
    "        exons = isoform_to_exons[isoform]\n",
    "        for transcript in transcripts:\n",
    "            reverse = transcript.strand == '-'\n",
    "            cdss = v19db.children(transcript, featuretype='CDS', order_by='start', reverse=reverse)\n",
    "            \n",
    "            cdss = filter(lambda cds: any(map(lambda exon: overlap(cds, exon), exons)), cdss)\n",
    "            if len(cdss) == len(exons):\n",
    "                cds_str = '@'.join(map(lambda x: x.id, cdss))\n",
    "                if cds_str in isoform_to_cds[isoform]:\n",
    "                    continue\n",
    "                \n",
    "                isoform_to_cds[isoform].append(cds_str)\n",
    "                    \n",
    "#                 print '\\t', ' '.join(map(lambda x: x.id, es))\n",
    "#                 print '\\t', ' '.join(map(lambda x: x.id, cdss))\n",
    "\n",
    "                if reverse:\n",
    "                    coding_sequence = Seq(''.join(cds.sequence(hg19_fasta)[::-1] for cds in cdss), generic_dna).complement()\n",
    "                else:\n",
    "                    coding_sequence = Seq(''.join(cds.sequence(hg19_fasta) for cds in cdss), generic_dna)\n",
    "#                 print len(coding_sequence)\n",
    "                coding_sequence = coding_sequence[int(cdss[0].frame):]\n",
    "                translated = coding_sequence.translate()\n",
    "                seqrecord = SeqRecord(translated, id='{0}|{1}|{2}'.format(event_id, cds_str, isoform))\n",
    "                seqrecords.append(seqrecord)\n",
    "#     pprint(isoform_to_cds)\n",
    "\n",
    "\n",
    "with open(translated_fasta, 'w') as f:\n",
    "    SeqIO.write(seqrecords, f, 'fasta')"
   ]
  }
 ],
 "metadata": {
  "kernelspec": {
   "display_name": "Python 2",
   "language": "python",
   "name": "python2"
  },
  "language_info": {
   "codemirror_mode": {
    "name": "ipython",
    "version": 2
   },
   "file_extension": ".py",
   "mimetype": "text/x-python",
   "name": "python",
   "nbconvert_exporter": "python",
   "pygments_lexer": "ipython2",
   "version": "2.7.10"
  }
 },
 "nbformat": 4,
 "nbformat_minor": 0
}
