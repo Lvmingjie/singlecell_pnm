{
 "cells": [
  {
   "cell_type": "code",
   "execution_count": 46,
   "metadata": {
    "collapsed": false
   },
   "outputs": [
    {
     "data": {
      "text/plain": [
       "'/home/obotvinnik/projects/singlecell_pnms/analysis/bams_from_aws/M2_02_R1.fastq.gz.polyATrim.adapterTrim.rmRep.sorted.rg.bam'"
      ]
     },
     "execution_count": 46,
     "metadata": {},
     "output_type": "execute_result"
    }
   ],
   "source": [
    "from __future__ import print_function\n",
    "\n",
    "import glob\n",
    "bam_filenames = glob.glob('/home/obotvinnik/projects/singlecell_pnms/analysis/bams_from_aws/*.bam')\n",
    "\n",
    "sample_id = 'M2_02'\n",
    "\n",
    "bam_filename = [x for x in bam_filenames if sample_id in x][0]\n",
    "bam_filename"
   ]
  },
  {
   "cell_type": "code",
   "execution_count": 47,
   "metadata": {
    "collapsed": false
   },
   "outputs": [],
   "source": [
    "# figwidth = 4\n",
    "# figheight = len(bam_filenames) * 1\n",
    "# figsize = figwidth, figheight\n",
    "# print figsize"
   ]
  },
  {
   "cell_type": "code",
   "execution_count": 48,
   "metadata": {
    "collapsed": true
   },
   "outputs": [],
   "source": [
    "import pysam\n",
    "import matplotlib.pyplot as plt\n",
    "import seaborn as sns\n",
    "sns.set(context='talk')\n",
    "\n",
    "%matplotlib inline"
   ]
  },
  {
   "cell_type": "code",
   "execution_count": 50,
   "metadata": {
    "collapsed": false
   },
   "outputs": [
    {
     "data": {
      "text/plain": [
       "HTSeq._HTSeq.SAM_Alignment"
      ]
     },
     "execution_count": 50,
     "metadata": {},
     "output_type": "execute_result"
    }
   ],
   "source": [
    "type(read)"
   ]
  },
  {
   "cell_type": "code",
   "execution_count": 6,
   "metadata": {
    "collapsed": false
   },
   "outputs": [
    {
     "data": {
      "text/plain": [
       "'0.8.3'"
      ]
     },
     "execution_count": 6,
     "metadata": {},
     "output_type": "execute_result"
    }
   ],
   "source": [
    "pysam.__version__"
   ]
  },
  {
   "cell_type": "code",
   "execution_count": 7,
   "metadata": {
    "collapsed": false
   },
   "outputs": [],
   "source": [
    "from outrigger.region import Region\n",
    "\n",
    "snap25_mxe_event = 'exon:chr20:10265372-10265420:+@exon:chr20:10273530-10273647:+@exon:chr20:10273809-10273926:+@exon:chr20:10277573-10277698:+'\n",
    "\n",
    "snap25_exons = snap25_mxe_event.split('@')\n",
    "snap25_regions = map(Region, snap25_exons)\n",
    "snap25_regions"
   ]
  },
  {
   "cell_type": "code",
   "execution_count": 9,
   "metadata": {
    "collapsed": true
   },
   "outputs": [],
   "source": [
    "import HTSeq"
   ]
  },
  {
   "cell_type": "code",
   "execution_count": 10,
   "metadata": {
    "collapsed": true
   },
   "outputs": [],
   "source": [
    "bam_htseq = HTSeq.BAM_Reader(bam_filename)"
   ]
  },
  {
   "cell_type": "code",
   "execution_count": 11,
   "metadata": {
    "collapsed": false
   },
   "outputs": [],
   "source": [
    "bam_htseq?"
   ]
  },
  {
   "cell_type": "code",
   "execution_count": 12,
   "metadata": {
    "collapsed": false
   },
   "outputs": [],
   "source": [
    "!samtools index $bam_filename"
   ]
  },
  {
   "cell_type": "code",
   "execution_count": 13,
   "metadata": {
    "collapsed": false
   },
   "outputs": [],
   "source": [
    "# exon1 = snap25_regions[0]\n",
    "\n",
    "# list(bam_htseq[HTSeq.GenomicInterval(snap25_regions[0].chrom, snap25_regions[0].start, \n",
    "#                                      snap25_regions[-1].stop, snap25_regions[0].strand)])"
   ]
  },
  {
   "cell_type": "code",
   "execution_count": 14,
   "metadata": {
    "collapsed": true
   },
   "outputs": [],
   "source": [
    "import numpy as np"
   ]
  },
  {
   "cell_type": "code",
   "execution_count": 15,
   "metadata": {
    "collapsed": false
   },
   "outputs": [
    {
     "data": {
      "text/plain": [
       "{'D': 'deleted',\n",
       " 'H': 'hard-clipped',\n",
       " 'I': 'inserted',\n",
       " 'M': 'matched',\n",
       " 'N': 'skipped',\n",
       " 'P': 'padded',\n",
       " 'S': 'soft-clipped'}"
      ]
     },
     "execution_count": 15,
     "metadata": {},
     "output_type": "execute_result"
    }
   ],
   "source": [
    "HTSeq.cigar_operation_names"
   ]
  },
  {
   "cell_type": "code",
   "execution_count": 16,
   "metadata": {
    "collapsed": true
   },
   "outputs": [],
   "source": [
    "INSERTION_DELETIONS = ('I', 'D')\n",
    "\n",
    "\n",
    "def skip_bad_cigar(read, bam_filename, bad_cigar=INSERTION_DELETIONS):\n",
    "    # Skip reads with no CIGAR string\n",
    "    if read.cigar is None:\n",
    "        print(\"Skipping read with no CIGAR string: {read_name} (from {bam})\".format(\n",
    "                read_name=read.read.name, bam=bam_filename))\n",
    "        return\n",
    "\n",
    "    # Check if the read contains an insertion (I)\n",
    "    # or deletion (D) -- if so, skip it\n",
    "    for cigar_operation in read.cigar:\n",
    "        cigar = cigar_operation.type\n",
    "        if cigar in bad_cigar:\n",
    "            print(\"Skipping read with CIGAR string {abbrev} (a base in the read was {full}): {read_name} (from {bam})\".format(\n",
    "                read_name=read.read.name, bam=bam_filename, abbrev=cigar, \n",
    "                    full=HTSeq.cigar_operation_names[cigar]))\n",
    "            return\n",
    "    return read\n"
   ]
  },
  {
   "cell_type": "code",
   "execution_count": 17,
   "metadata": {
    "collapsed": false,
    "scrolled": false
   },
   "outputs": [
    {
     "name": "stdout",
     "output_type": "stream",
     "text": [
      "start: 10265372\n",
      "Skipping read with CIGAR string D (a base in the read was deleted): HWI-ST1001:211:C1PUCACXX:8:2204:7788:53829 (from /home/obotvinnik/projects/singlecell_pnms/analysis/bams_from_aws/M2_02_R1.fastq.gz.polyATrim.adapterTrim.rmRep.sorted.rg.bam)\n"
     ]
    },
    {
     "data": {
      "text/plain": [
       "array([80, 80, 80, ..., 89, 87,  5])"
      ]
     },
     "execution_count": 17,
     "metadata": {},
     "output_type": "execute_result"
    }
   ],
   "source": [
    "\n",
    "\n",
    "def count_region_reads(bam_htseq, bam_filename, chrom, start, stop, strand,\n",
    "                       allowed_cigar=('M'), bad_cigar=('I', 'D'), offset=True):\n",
    "    \"\"\"Get the number of reads that matched to the reference sequence\n",
    "    \n",
    "    Parameters\n",
    "    ----------\n",
    "    bam_htseq : HTSeq.BAM_Reader\n",
    "        Bam file object to get reads from\n",
    "    bam_filename : str\n",
    "        Name of the bam filename for logging purposes\n",
    "    chrom : str\n",
    "        Name of the reference chromosome\n",
    "    start, stop : int\n",
    "        Genome-based locations of the start and stop regions\n",
    "    pad : int, optional\n",
    "        Add a few nucleotides to the left and right of the array for\n",
    "        visually pleasing padding. (default=10)\n",
    "    allowed_cigar : tuple of str, optional\n",
    "        Which CIGAR string flags are allowed. (default=('M') aka match)\n",
    "    bad_cigar : tuple of str, optional\n",
    "        Which CIGAR string flags are not allowed. (default=('I', 'D') aka \n",
    "        insertion and deletion)\n",
    "    offset : bool, optional\n",
    "        If True, offset the region counts so that the array starts at zero \n",
    "        and not the whole chromosome. Useful for plotting just the one region.\n",
    "        (default=True)\n",
    "    \n",
    "    Returns\n",
    "    -------\n",
    "    counts : numpy.array\n",
    "        Number of reads that matched to the genome at every location\n",
    "    \"\"\"\n",
    "\n",
    "    # Add a small amount of nucleotides to left and right for making the plot look nice\n",
    "#     start = start - pad\n",
    "#     stop = stop + pad\n",
    "    \n",
    "    length = stop - start + 1 if offset else stop\n",
    "\n",
    "    counts = np.zeros(shape=(length), dtype=int)\n",
    "    \n",
    "    region_reads = bam_htseq[HTSeq.GenomicInterval(chrom, start, stop, strand)]\n",
    "\n",
    "    print('start:', start)\n",
    "    \n",
    "    for read in region_reads:\n",
    "        read = skip_bad_cigar(read, bam_filename, bad_cigar)\n",
    "        if read is None:\n",
    "            continue\n",
    "        for cigar_operation in read.cigar:\n",
    "            # Only count where the read matched to the genome\n",
    "            if cigar_operation.type not in allowed_cigar:\n",
    "                continue\n",
    "            match_start = cigar_operation.ref_iv.start\n",
    "            match_stop = cigar_operation.ref_iv.end\n",
    "            \n",
    "            if offset:\n",
    "                match_start = match_start - start\n",
    "                match_stop = match_stop - start\n",
    "                \n",
    "            if match_stop < 0:\n",
    "                # If the match_stop is negative, that means we have the other read of the paired end read\n",
    "                # that mapped to somewhere else in the genome\n",
    "                continue\n",
    "            match_start = max(match_start, 0)\n",
    "            match_stop = min(match_stop, length)\n",
    "\n",
    "            counts[match_start:match_stop] += 1\n",
    "    return counts\n",
    "\n",
    "\n",
    "chrom = snap25_regions[0].chrom\n",
    "start = snap25_regions[0].start\n",
    "stop = snap25_regions[-1].stop\n",
    "strand = snap25_regions[0].strand\n",
    "\n",
    "snap25_counts = count_region_reads(bam_htseq, bam_filename, chrom, start, stop, strand)\n",
    "snap25_counts"
   ]
  },
  {
   "cell_type": "code",
   "execution_count": 18,
   "metadata": {
    "collapsed": false
   },
   "outputs": [
    {
     "data": {
      "text/plain": [
       "[(0, 12327)]"
      ]
     },
     "execution_count": 18,
     "metadata": {},
     "output_type": "execute_result"
    },
    {
     "data": {
      "image/png": "[encoded data removed]",
      "text/plain": [
       "<matplotlib.figure.Figure at 0x2b8e24b134d0>"
      ]
     },
     "metadata": {},
     "output_type": "display_data"
    }
   ],
   "source": [
    "fig, ax = plt.subplots(figsize=(12, 1))\n",
    "\n",
    "xmax = snap25_counts.shape[0]\n",
    "xvalues = np.arange(0, xmax)\n",
    "\n",
    "ax.fill_between(xvalues, snap25_counts, y2=0, linewidth=0);\n",
    "ax.set(xlim=(0, xmax))"
   ]
  },
  {
   "cell_type": "code",
   "execution_count": 19,
   "metadata": {
    "collapsed": true
   },
   "outputs": [],
   "source": [
    "from collections import defaultdict, Counter"
   ]
  },
  {
   "cell_type": "code",
   "execution_count": 20,
   "metadata": {
    "collapsed": true
   },
   "outputs": [],
   "source": [
    "def pad_location(start, stop, pad):\n",
    "    start = start - pad\n",
    "    stop = stop + pad\n",
    "    return start, stop"
   ]
  },
  {
   "cell_type": "code",
   "execution_count": 21,
   "metadata": {
    "collapsed": false
   },
   "outputs": [
    {
     "data": {
      "text/plain": [
       "Counter({(48, 8157): 78, (48, 8436): 2, (8275, 12200): 82, (8554, 12200): 2})"
      ]
     },
     "execution_count": 21,
     "metadata": {},
     "output_type": "execute_result"
    }
   ],
   "source": [
    "region_reads = bam_htseq[HTSeq.GenomicInterval(chrom, start, stop, strand)]\n",
    "bad_cigar = INSERTION_DELETIONS\n",
    "\n",
    "junctions = Counter()\n",
    "\n",
    "# pad = 10\n",
    "# start, stop = pad_location(start, stop, pad)\n",
    "\n",
    "length = stop - start + 1\n",
    "\n",
    "for read in region_reads:\n",
    "#     read = skip_bad_cigar(read, bam_filename, bad_cigar)\n",
    "    if read is None:\n",
    "        continue\n",
    "    for cigar_operation in read.cigar:\n",
    "        # N = did not match to genome and is an insertion\n",
    "        if cigar_operation.type == 'N':\n",
    "            junction_start = cigar_operation.ref_iv.start - start\n",
    "            junction_stop = junction_start + cigar_operation.ref_iv.length #- start\n",
    "            if (junction_stop < 0) or (junction_stop > length):\n",
    "                continue\n",
    "            \n",
    "#             print(junction_start, junction_stop, cigar_operation.ref_iv.length, \n",
    "#                   cigar_operation.ref_iv.start,\n",
    "#                   cigar_operation.ref_iv.end)\n",
    "            junctions[(junction_start, junction_stop)] += 1\n",
    "junctions"
   ]
  },
  {
   "cell_type": "code",
   "execution_count": 22,
   "metadata": {
    "collapsed": true
   },
   "outputs": [],
   "source": [
    "def count_junctions(bam, chrom, start, stop, strand, bad_cigar=INSERTION_DELETIONS, offset=True):\n",
    "    region_reads = bam[HTSeq.GenomicInterval(chrom, start, stop, strand)]\n",
    "    junctions = Counter()\n",
    "\n",
    "    length = stop - start + 1\n",
    "\n",
    "    for read in region_reads:\n",
    "        if read is None:\n",
    "            continue\n",
    "        for cigar_operation in read.cigar:\n",
    "            # N = did not match to genome and is an insertion\n",
    "            if cigar_operation.type == 'N':\n",
    "                junction_start = cigar_operation.ref_iv.start\n",
    "                \n",
    "                if offset:\n",
    "                    junction_start -= start\n",
    "                    \n",
    "                junction_stop = junction_start + cigar_operation.ref_iv.length\n",
    "                \n",
    "                if (junction_stop < 0) or (junction_stop > length):\n",
    "                    # If any of the junctions start or end outside of the region, skip it\n",
    "                    continue\n",
    "                junctions[(junction_start, junction_stop)] += 1\n",
    "    return junctions"
   ]
  },
  {
   "cell_type": "code",
   "execution_count": 23,
   "metadata": {
    "collapsed": true
   },
   "outputs": [],
   "source": [
    "\n",
    "def cubic_bezier(points, t):\n",
    "    \"\"\"\n",
    "    Get points in a cubic bezier.\n",
    "    \"\"\"\n",
    "    p0, p1, p2, p3 = points\n",
    "    p0 = np.array(p0)\n",
    "    p1 = np.array(p1)\n",
    "    p2 = np.array(p2)\n",
    "    p3 = np.array(p3)\n",
    "    return p0 * (1 - t)**3 + 3 * t * p1 * (1 - t) ** 2 + \\\n",
    "        3 * t**2 * (1 - t) * p2 + t**3 * p3"
   ]
  },
  {
   "cell_type": "code",
   "execution_count": 24,
   "metadata": {
    "collapsed": true
   },
   "outputs": [],
   "source": [
    "import matplotlib as mpl"
   ]
  },
  {
   "cell_type": "code",
   "execution_count": 25,
   "metadata": {
    "collapsed": false
   },
   "outputs": [
    {
     "data": {
      "text/plain": [
       "matplotlib.path.Path"
      ]
     },
     "execution_count": 25,
     "metadata": {},
     "output_type": "execute_result"
    }
   ],
   "source": [
    "mpl.artist.Path"
   ]
  },
  {
   "cell_type": "code",
   "execution_count": 26,
   "metadata": {
    "collapsed": true
   },
   "outputs": [],
   "source": [
    "ymin = 1"
   ]
  },
  {
   "cell_type": "markdown",
   "metadata": {},
   "source": [
    "A bezier curve is specified by four points:\n",
    "\n",
    "![](http://matplotlib.org/_images/path_tutorial-2.png)"
   ]
  },
  {
   "cell_type": "code",
   "execution_count": 27,
   "metadata": {
    "collapsed": false,
    "scrolled": false
   },
   "outputs": [
    {
     "name": "stdout",
     "output_type": "stream",
     "text": [
      "8275 12200\n",
      "\t 83 88\n",
      "\t\t [(8275, 83), (8275, 93), (12200, 98), (12200, 88)]\n",
      "8554 12200\n",
      "\t 2 88\n",
      "\t\t [(8554, 2), (8554, 12), (12200, 98), (12200, 88)]\n",
      "48 8157\n",
      "\t 84 77\n",
      "\t\t [(48, 84), (48, 94), (8157, 87), (8157, 77)]\n",
      "48 8436\n",
      "\t 84 2\n",
      "\t\t [(48, 84), (48, 94), (8436, 12), (8436, 2)]\n"
     ]
    },
    {
     "data": {
      "image/png": "[encoded data removed]",
      "text/plain": [
       "<matplotlib.figure.Figure at 0x2b8e26f4fb10>"
      ]
     },
     "metadata": {},
     "output_type": "display_data"
    }
   ],
   "source": [
    "from matplotlib.artist import Path\n",
    "from matplotlib.patches import PathPatch\n",
    "\n",
    "fig, ax = plt.subplots()\n",
    "xmax = snap25_counts.shape[0]\n",
    "xvalues = np.arange(0, xmax)\n",
    "\n",
    "ax.fill_between(xvalues, snap25_counts, y2=0, linewidth=0);\n",
    "ax.set(xlim=(0, xmax))\n",
    "\n",
    "\n",
    "for (left, right), n_junction_reads in junctions.items():\n",
    "    print(left, right)\n",
    "#     midpoint = (right - left)/2\n",
    "    curve_height = 10 # 3 * float(ymin) / 4\n",
    "    \n",
    "    \n",
    "    left_height = snap25_counts[left-1]\n",
    "    right_height = snap25_counts[right+1]\n",
    "    print('\\t', left_height, right_height)\n",
    "    vertices = [(left, left_height), \n",
    "                (left, left_height + curve_height), \n",
    "                (right, right_height + curve_height), \n",
    "                (right, right_height)]\n",
    "    print('\\t\\t', vertices)\n",
    "    codes = [Path.MOVETO, Path.CURVE4, Path.CURVE4, Path.CURVE4]\n",
    "    midpoint = cubic_bezier(vertices, 0.5)\n",
    "    \n",
    "    if n_junction_reads:\n",
    "        plt.text(midpoint[0], midpoint[1], '{}'.format(n_junction_reads),\n",
    "             fontsize=6, ha='center', va='center', backgroundcolor='w')\n",
    "\n",
    "    path = Path(vertices, codes)\n",
    "    patch = PathPatch(path, ec='black', lw=np.log10(n_junction_reads + 1), fc='none')\n",
    "    ax.add_patch(patch)\n",
    "    \n",
    "#     xs, ys = zip(*vertices)\n",
    "#     ax.plot(xs, ys, 'x--', lw=2, color='black', ms=10)\n",
    "\n",
    "#     for i, (x, y) in enumerate(zip(xs, ys)):\n",
    "#         ax.text(x, y, 'P{}'.format(i))\n",
    "#     ax.text(0.15, 1.05, 'P1')\n",
    "#     ax.text(1.05, 0.85, 'P2')\n",
    "#     ax.text(0.85, -0.05, 'P3')\n"
   ]
  },
  {
   "cell_type": "code",
   "execution_count": 28,
   "metadata": {
    "collapsed": true
   },
   "outputs": [],
   "source": [
    "def junctionplot(left, right, n_junction_reads, read_counts, curve_height_multiplier=0.1, #curve_height=10, \n",
    "                 color=None,\n",
    "                 text_kws=dict(fontsize=6, horizontalalignment='center', verticalalignment='center', backgroundcolor='w'),\n",
    "                 linewidth_function=lambda x: np.log10(x + 1),\n",
    "                 patch_kws=dict(facecolor='none',)):\n",
    "    \"\"\"\n",
    "    \n",
    "    Uses the y-axis limits to determine the curve height so make sure to use this function AFTER \n",
    "    \n",
    "    Parameters\n",
    "    ----------\n",
    "    \n",
    "    patch_kws : dict\n",
    "        To change the color of the line, use the \"edgecolor\" keyword, e.g. dict(edgecolor=\"black\")\n",
    "    \"\"\"\n",
    "    ymin, ymax = ax.get_ylim()\n",
    "    yrange = ymax - ymin\n",
    "    curve_height = yrange * curve_height_multiplier\n",
    "    \n",
    "    left_height = read_counts[left-1]\n",
    "    right_height = read_counts[right+1]\n",
    "#     print('\\t', left_height, right_height)\n",
    "    vertices = [(left, left_height), \n",
    "                (left, left_height + curve_height), \n",
    "                (right, right_height + curve_height), \n",
    "                (right, right_height)]\n",
    "#     print('\\t\\t', vertices)\n",
    "    codes = [Path.MOVETO, Path.CURVE4, Path.CURVE4, Path.CURVE4]\n",
    "    midpoint = cubic_bezier(vertices, 0.5)\n",
    "    \n",
    "    if n_junction_reads:\n",
    "        plt.text(midpoint[0], midpoint[1], '{}'.format(n_junction_reads), **text_kws)\n",
    "\n",
    "    path = Path(vertices, codes)\n",
    "    \n",
    "    patch_kws['linewidth'] = linewidth_function(n_junction_reads)\n",
    "    if color is not None:\n",
    "        patch_kws['edgecolor'] = color\n",
    "    patch = PathPatch(path, **patch_kws)\n",
    "    return ax.add_patch(patch)\n"
   ]
  },
  {
   "cell_type": "code",
   "execution_count": 29,
   "metadata": {
    "collapsed": true
   },
   "outputs": [],
   "source": [
    "color = 'steelblue'"
   ]
  },
  {
   "cell_type": "code",
   "execution_count": 30,
   "metadata": {
    "collapsed": false
   },
   "outputs": [
    {
     "data": {
      "text/plain": [
       "array([ 1.90848502,  1.90848502,  1.90848502, ...,  1.95424251,\n",
       "        1.94448267,  0.77815125])"
      ]
     },
     "execution_count": 30,
     "metadata": {},
     "output_type": "execute_result"
    }
   ],
   "source": [
    "snap25_counts_log = np.log10(snap25_counts+1)\n",
    "snap25_counts_log"
   ]
  },
  {
   "cell_type": "code",
   "execution_count": 40,
   "metadata": {
    "collapsed": true
   },
   "outputs": [],
   "source": [
    "def coverageplot(counts, color, ax=None, **kwargs):\n",
    "    if ax is None:\n",
    "        ax = plt.gca()\n",
    "    xmax = counts.shape[0]\n",
    "    xvalues = np.arange(0, xmax)\n",
    "#     ax.set(xlim=(0, xmax))\n",
    "    \n",
    "    return ax.fill_between(xvalues, counts, y2=0, linewidth=0, color=color, **kwargs)"
   ]
  },
  {
   "cell_type": "code",
   "execution_count": 31,
   "metadata": {
    "collapsed": false
   },
   "outputs": [
    {
     "data": {
      "text/plain": [
       "[[<matplotlib.axis.YTick at 0x2b8e27320990>,\n",
       "  <matplotlib.axis.YTick at 0x2b8e26f66310>,\n",
       "  <matplotlib.axis.YTick at 0x2b8e273b1390>,\n",
       "  <matplotlib.axis.YTick at 0x2b8e273b1a10>,\n",
       "  <matplotlib.axis.YTick at 0x2b8e273bb1d0>,\n",
       "  <matplotlib.axis.YTick at 0x2b8e273bb950>],\n",
       " [<matplotlib.text.Text at 0x2b8e26fc8b10>,\n",
       "  <matplotlib.text.Text at 0x2b8e2734b310>,\n",
       "  <matplotlib.text.Text at 0x2b8e273b1890>,\n",
       "  <matplotlib.text.Text at 0x2b8e273bb050>,\n",
       "  <matplotlib.text.Text at 0x2b8e273bb7d0>,\n",
       "  <matplotlib.text.Text at 0x2b8e273bbf50>],\n",
       " <matplotlib.text.Text at 0x2b8e272c5410>]"
      ]
     },
     "execution_count": 31,
     "metadata": {},
     "output_type": "execute_result"
    },
    {
     "data": {
      "image/png": "[encoded data removed]",
      "text/plain": [
       "<matplotlib.figure.Figure at 0x2b8e272591d0>"
      ]
     },
     "metadata": {},
     "output_type": "display_data"
    }
   ],
   "source": [
    "fig, ax = plt.subplots()\n",
    "xmax = snap25_counts.shape[0]\n",
    "xvalues = np.arange(0, xmax)\n",
    "\n",
    "ax.fill_between(xvalues, snap25_counts_log, y2=0, linewidth=0, color=color);\n",
    "ax.set(xlim=(0, xmax))\n",
    "\n",
    "ymin, ymax = ax.get_ylim()\n",
    "yrange = ymax - ymin\n",
    "\n",
    "for (left, right), n_junction_reads in junctions.items():\n",
    "    junctionplot(left, right, n_junction_reads, snap25_counts_log, color=color, curve_height_multiplier=0.2)\n",
    "yticks = map(int, ax.get_yticks())\n",
    "yticklabels = ('$10^{}$'.format(y) for y in yticks)\n",
    "ax.set(yticks=yticks, yticklabels=yticklabels, ylabel='reads')"
   ]
  },
  {
   "cell_type": "code",
   "execution_count": 41,
   "metadata": {
    "collapsed": false
   },
   "outputs": [],
   "source": [
    "# class WasabiPlotter(object):\n",
    "    \n",
    "#     def __init__(bam_filename, chrom, start, stop, log_base, ax):\n",
    "#         self.\n",
    "\n",
    "def wasabiplot(bam_filename, chrom, start, stop, strand, log_base=10, ax=None):\n",
    "    bam = HTSeq.BAM_Reader(bam_filename)\n",
    "    counts = count_region_reads(bam, bam_filename, chrom, start, stop, strand)\n",
    "    counts = np.log(counts)/np.log(log_base)\n",
    "    \n",
    "    if ax is None:\n",
    "        ax = plt.gca()\n",
    "        \n",
    "    coverageplot(counts, color, ax)\n",
    "\n",
    "    ymin, ymax = ax.get_ylim()\n",
    "    yrange = ymax - ymin\n",
    "\n",
    "    junctions = count_junctions(bam, chrom, start, stop, strand)\n",
    "    \n",
    "    for (left, right), n_junction_reads in junctions.items():\n",
    "        junctionplot(left, right, n_junction_reads, counts, color=color, curve_height_multiplier=0.2)\n",
    "    yticks = map(int, ax.get_yticks())\n",
    "    yticklabels = ('$10^{}$'.format(y) for y in yticks)\n",
    "    ax.set(yticks=yticks, yticklabels=yticklabels, ylabel='reads')"
   ]
  },
  {
   "cell_type": "code",
   "execution_count": 42,
   "metadata": {
    "collapsed": true
   },
   "outputs": [],
   "source": [
    "bam_filename2 = [x for x in bam_filenames if 'M2_03' in x][0]"
   ]
  },
  {
   "cell_type": "code",
   "execution_count": 43,
   "metadata": {
    "collapsed": false
   },
   "outputs": [
    {
     "name": "stdout",
     "output_type": "stream",
     "text": [
      "/home/obotvinnik/projects/singlecell_pnms/analysis/bams_from_aws/M2_03_R1.fastq.gz.polyATrim.adapterTrim.rmRep.sorted.rg.bam\r\n",
      "/home/obotvinnik/projects/singlecell_pnms/analysis/bams_from_aws/M2_03_R1.fastq.gz.polyATrim.adapterTrim.rmRep.sorted.rg.bam.bai\r\n"
     ]
    }
   ],
   "source": [
    "! ls $bam_filename2*"
   ]
  },
  {
   "cell_type": "code",
   "execution_count": 45,
   "metadata": {
    "collapsed": false
   },
   "outputs": [
    {
     "name": "stdout",
     "output_type": "stream",
     "text": [
      "start: 10265372\n",
      "Skipping read with CIGAR string I (a base in the read was inserted): HWI-ST1001:211:C1PUCACXX:8:2302:5344:69707 (from /home/obotvinnik/projects/singlecell_pnms/analysis/bams_from_aws/M2_03_R1.fastq.gz.polyATrim.adapterTrim.rmRep.sorted.rg.bam)\n",
      "Skipping read with CIGAR string D (a base in the read was deleted): HWI-ST1001:211:C1PUCACXX:8:2312:7987:8949 (from /home/obotvinnik/projects/singlecell_pnms/analysis/bams_from_aws/M2_03_R1.fastq.gz.polyATrim.adapterTrim.rmRep.sorted.rg.bam)\n",
      "Skipping read with CIGAR string D (a base in the read was deleted): HWI-ST1001:211:C1PUCACXX:8:2205:8970:2276 (from /home/obotvinnik/projects/singlecell_pnms/analysis/bams_from_aws/M2_03_R1.fastq.gz.polyATrim.adapterTrim.rmRep.sorted.rg.bam)\n"
     ]
    },
    {
     "name": "stderr",
     "output_type": "stream",
     "text": [
      "/home/obotvinnik/anaconda/lib/python2.7/site-packages/ipykernel/__main__.py:9: RuntimeWarning: divide by zero encountered in log\n"
     ]
    },
    {
     "data": {
      "image/png": "[encoded data removed]",
      "text/plain": [
       "<matplotlib.figure.Figure at 0x2b8e275eaa10>"
      ]
     },
     "metadata": {},
     "output_type": "display_data"
    }
   ],
   "source": [
    "wasabiplot(bam_filename2, chrom, start, stop, strand)"
   ]
  },
  {
   "cell_type": "code",
   "execution_count": null,
   "metadata": {
    "collapsed": true
   },
   "outputs": [],
   "source": [
    "cigar_operation.ref_iv.start"
   ]
  },
  {
   "cell_type": "code",
   "execution_count": null,
   "metadata": {
    "collapsed": false
   },
   "outputs": [],
   "source": [
    "cigar_operation = read.cigar[1]\n",
    "cigar_operation"
   ]
  },
  {
   "cell_type": "code",
   "execution_count": null,
   "metadata": {
    "collapsed": false
   },
   "outputs": [],
   "source": [
    "cigar_operation.ref_iv.start"
   ]
  },
  {
   "cell_type": "code",
   "execution_count": null,
   "metadata": {
    "collapsed": false
   },
   "outputs": [],
   "source": [
    "cigar_operation.ref_iv.length"
   ]
  },
  {
   "cell_type": "code",
   "execution_count": null,
   "metadata": {
    "collapsed": false
   },
   "outputs": [],
   "source": [
    "cigar_operation.ref_iv.end"
   ]
  },
  {
   "cell_type": "code",
   "execution_count": null,
   "metadata": {
    "collapsed": true
   },
   "outputs": [],
   "source": []
  },
  {
   "cell_type": "code",
   "execution_count": null,
   "metadata": {
    "collapsed": false
   },
   "outputs": [],
   "source": [
    "stop"
   ]
  },
  {
   "cell_type": "code",
   "execution_count": null,
   "metadata": {
    "collapsed": false
   },
   "outputs": [],
   "source": [
    "cigar_operation.ref_iv.end_d"
   ]
  },
  {
   "cell_type": "code",
   "execution_count": null,
   "metadata": {
    "collapsed": false
   },
   "outputs": [],
   "source": [
    "cigar_operation.ref_iv.end"
   ]
  },
  {
   "cell_type": "code",
   "execution_count": null,
   "metadata": {
    "collapsed": false
   },
   "outputs": [],
   "source": [
    "cigar_operation.ref_iv.start"
   ]
  },
  {
   "cell_type": "code",
   "execution_count": null,
   "metadata": {
    "collapsed": false
   },
   "outputs": [],
   "source": [
    "cigar_operation.check()"
   ]
  },
  {
   "cell_type": "code",
   "execution_count": null,
   "metadata": {
    "collapsed": false
   },
   "outputs": [],
   "source": [
    "read.iv.start"
   ]
  },
  {
   "cell_type": "code",
   "execution_count": null,
   "metadata": {
    "collapsed": false
   },
   "outputs": [],
   "source": [
    "# subset_reads = bam.fetch(reference=exon1.chrom, start=snap25_regions[0].start, end=snap25_regions[-1].stop)\n",
    "# subset_reads"
   ]
  },
  {
   "cell_type": "markdown",
   "metadata": {},
   "source": [
    "Junction plotting code:\n",
    "\n",
    "```python\n",
    "for jxn in jxns:\n",
    "    leftss, rightss = map(int, jxn.split(\":\"))\n",
    "\n",
    "    ss1, ss2 = [graphcoords[leftss - tx_start - 1],\\\n",
    "        graphcoords[rightss - tx_start]]\n",
    "\n",
    "    mid = (ss1 + ss2) / 2\n",
    "    h = -3 * ymin / 4\n",
    "\n",
    "    numisoforms = 0\n",
    "    for i in range(len(mRNAs)):\n",
    "        if leftss in sslists[i] and \\\n",
    "            rightss in sslists[i]:\n",
    "            numisoforms += 1\n",
    "    if numisoforms > 0:\n",
    "        if numisoforms % 2 == 0: # put on bottom \n",
    "            pts = [(ss1, 0), (ss1, -h), (ss2, -h), (ss2, 0)]\n",
    "            midpt = cubic_bezier(pts, .5)\n",
    "        else:                         # put on top \n",
    "            leftdens = wiggle[leftss - tx_start - 1]\n",
    "            rightdens = wiggle[rightss - tx_start]\n",
    "\n",
    "            pts = [(ss1, leftdens),\n",
    "                   (ss1, leftdens + h),\n",
    "                   (ss2, rightdens + h),\n",
    "                   (ss2, rightdens)]\n",
    "            midpt = cubic_bezier(pts, .5)\n",
    "\n",
    "        if number_junctions:\n",
    "            text(midpt[0], midpt[1], '%s'%(jxns[jxn]),\n",
    "                 fontsize=6, ha='center', va='center', backgroundcolor='w')\n",
    "\n",
    "        a = Path(pts, [Path.MOVETO, Path.CURVE4, Path.CURVE4, Path.CURVE4])\n",
    "        p = PathPatch(a, ec=color, lw=log(jxns[jxn] + 1) /\\\n",
    "            log(junction_log_base), fc='none')\n",
    "        axvar.add_patch(p) \n",
    "```"
   ]
  },
  {
   "cell_type": "markdown",
   "metadata": {
    "collapsed": true
   },
   "source": [
    "Code to get read counts and junctions\n",
    "\n",
    "```python\n",
    "def readsToWiggle_pysam(reads, tx_start, tx_end):\n",
    "    \"\"\"\n",
    "    Convert reads to wiggles; uses pysam.\n",
    "    \"\"\"\n",
    "    wiggle = zeros((tx_end - tx_start + 1), dtype='f')\n",
    "    jxns = {}\n",
    "    for read in reads:\n",
    "        # Skip reads with no CIGAR string\n",
    "        if read.cigar is None:\n",
    "            print \"Skipping read with no CIGAR string: %s\" %(read.cigar)\n",
    "            continue\n",
    "        cigar_str = sam_utils.sam_cigar_to_str(read.cigar)\n",
    "\n",
    "        if (\"N\" in cigar_str) and (cigar_str.count(\"N\") > 1):\n",
    "            print \"Skipping read with multiple junctions crossed: %s\" \\\n",
    "                  %(cigar_str)\n",
    "            continue\n",
    "\n",
    "        # Check if the read contains an insertion (I)\n",
    "        # or deletion (D) -- if so, skip it\n",
    "        for cigar_part in read.cigar:\n",
    "            if cigar_part[0] == 1 or \\\n",
    "               cigar_part[1] == 2:\n",
    "                print \"Skipping read with CIGAR %s\" \\\n",
    "                      %(cigar_str)\n",
    "        aligned_positions = read.positions\n",
    "        for i, pos in enumerate(aligned_positions):\n",
    "            if pos < tx_start or pos > tx_end:\n",
    "#                print \"=>\",pos\n",
    "                continue\n",
    "            wig_index = pos-tx_start\n",
    "            wiggle[wig_index] += 1./read.qlen\n",
    "            try:\n",
    "                # if there is a junction coming up                \n",
    "                if aligned_positions[i+1] > pos + 1: \n",
    "                    leftss = pos+1\n",
    "                    rightss= aligned_positions[i+1]+1\n",
    "                    if leftss > tx_start and leftss < tx_end \\\n",
    "                           and rightss > tx_start and rightss < tx_end:                      \n",
    "                        jxn = \":\".join(map(str, [leftss, rightss]))\n",
    "                        try:\n",
    "                            jxns[jxn] += 1 \n",
    "                        except:\n",
    "                            jxns[jxn] = 1\n",
    "            except:\n",
    "                pass\n",
    "    return wiggle, jxns\n",
    "```"
   ]
  },
  {
   "cell_type": "code",
   "execution_count": null,
   "metadata": {
    "collapsed": true
   },
   "outputs": [],
   "source": []
  }
 ],
 "metadata": {
  "kernelspec": {
   "display_name": "Python 2",
   "language": "python",
   "name": "python2"
  },
  "language_info": {
   "codemirror_mode": {
    "name": "ipython",
    "version": 2
   },
   "file_extension": ".py",
   "mimetype": "text/x-python",
   "name": "python",
   "nbconvert_exporter": "python",
   "pygments_lexer": "ipython2",
   "version": "2.7.11"
  }
 },
 "nbformat": 4,
 "nbformat_minor": 0
}
