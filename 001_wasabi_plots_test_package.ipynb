{
 "cells": [
  {
   "cell_type": "code",
   "execution_count": 1,
   "metadata": {
    "collapsed": false
   },
   "outputs": [
    {
     "data": {
      "text/plain": [
       "[0, 1, 2]"
      ]
     },
     "execution_count": 1,
     "metadata": {},
     "output_type": "execute_result"
    }
   ],
   "source": [
    "range(3)"
   ]
  },
  {
   "cell_type": "code",
   "execution_count": 2,
   "metadata": {
    "collapsed": true
   },
   "outputs": [],
   "source": [
    "import wasabiplot as wp"
   ]
  },
  {
   "cell_type": "code",
   "execution_count": 3,
   "metadata": {
    "collapsed": false
   },
   "outputs": [],
   "source": [
    "%load_ext autoreload\n",
    "%autoreload 2"
   ]
  },
  {
   "cell_type": "code",
   "execution_count": 4,
   "metadata": {
    "collapsed": false
   },
   "outputs": [
    {
     "data": {
      "text/plain": [
       "'/home/obotvinnik/projects/singlecell_pnms/analysis/bams_from_aws/M2_02_R1.fastq.gz.polyATrim.adapterTrim.rmRep.sorted.rg.bam'"
      ]
     },
     "execution_count": 4,
     "metadata": {},
     "output_type": "execute_result"
    }
   ],
   "source": [
    "from __future__ import print_function\n",
    "\n",
    "import glob\n",
    "bam_filenames = glob.glob('/home/obotvinnik/projects/singlecell_pnms/analysis/bams_from_aws/*.bam')\n",
    "\n",
    "sample_id = 'M2_02'\n",
    "\n",
    "bam_filename = [x for x in bam_filenames if sample_id in x][0]\n",
    "bam_filename"
   ]
  },
  {
   "cell_type": "code",
   "execution_count": 5,
   "metadata": {
    "collapsed": true
   },
   "outputs": [],
   "source": [
    "import matplotlib.pyplot as plt\n",
    "import seaborn as sns\n",
    "sns.set(context='paper', style='white')\n",
    "\n",
    "%matplotlib inline"
   ]
  },
  {
   "cell_type": "code",
   "execution_count": 6,
   "metadata": {
    "collapsed": false
   },
   "outputs": [
    {
     "data": {
      "text/plain": [
       "[outrigger.Region (exon:chr20:10265372-10265420:+),\n",
       " outrigger.Region (exon:chr20:10273530-10273647:+),\n",
       " outrigger.Region (exon:chr20:10273809-10273926:+),\n",
       " outrigger.Region (exon:chr20:10277573-10277698:+)]"
      ]
     },
     "execution_count": 6,
     "metadata": {},
     "output_type": "execute_result"
    }
   ],
   "source": [
    "from outrigger.region import Region\n",
    "\n",
    "snap25_mxe_event = 'exon:chr20:10265372-10265420:+@exon:chr20:10273530-10273647:+@exon:chr20:10273809-10273926:+@exon:chr20:10277573-10277698:+'\n",
    "\n",
    "snap25_exons = snap25_mxe_event.split('@')\n",
    "snap25_regions = map(Region, snap25_exons)\n",
    "snap25_regions"
   ]
  },
  {
   "cell_type": "code",
   "execution_count": 7,
   "metadata": {
    "collapsed": true
   },
   "outputs": [],
   "source": [
    "chrom = snap25_regions[0].chrom\n",
    "start = snap25_regions[0].start\n",
    "stop = snap25_regions[-1].stop\n",
    "strand = snap25_regions[0].strand\n"
   ]
  },
  {
   "cell_type": "code",
   "execution_count": null,
   "metadata": {
    "collapsed": true
   },
   "outputs": [],
   "source": []
  },
  {
   "cell_type": "code",
   "execution_count": 8,
   "metadata": {
    "collapsed": false,
    "scrolled": false
   },
   "outputs": [
    {
     "name": "stderr",
     "output_type": "stream",
     "text": [
      "/home/obotvinnik/workspace-git/wasabiplot/wasabiplot/visualize.py:79: UserWarning: Skipping read with CIGAR string D (a base in the read was deleted): HWI-ST1001:211:C1PUCACXX:8:2204:7788:53829 (from /home/obotvinnik/projects/singlecell_pnms/analysis/bams_from_aws/M2_02_R1.fastq.gz.polyATrim.adapterTrim.rmRep.sorted.rg.bam)\n",
      "  full=HTSeq.cigar_operation_names[cigar]))\n"
     ]
    },
    {
     "data": {
      "text/plain": [
       "[(0, 100)]"
      ]
     },
     "execution_count": 8,
     "metadata": {},
     "output_type": "execute_result"
    },
    {
     "data": {
      "image/png": "[encoded data removed]",
      "text/plain": [
       "<matplotlib.figure.Figure at 0x2b3e61841750>"
      ]
     },
     "metadata": {},
     "output_type": "display_data"
    }
   ],
   "source": [
    "fig, ax = plt.subplots(figsize=(2, 1))\n",
    "wp.wasabiplot(bam_filename, chrom, start, stop, strand, color='black', ax=ax)\n",
    "ax.set(ylim=(0, 100))"
   ]
  },
  {
   "cell_type": "code",
   "execution_count": 9,
   "metadata": {
    "collapsed": false
   },
   "outputs": [
    {
     "name": "stdout",
     "output_type": "stream",
     "text": [
      "The autoreload extension is already loaded. To reload it, use:\n",
      "  %reload_ext autoreload\n",
      "2017-01-03 16:55:23\tReading datapackage from /projects/ps-yeolab/obotvinnik/flotilla_projects/singlecell_pnm_figure2_modalities_bayesian/datapackage.json\n"
     ]
    },
    {
     "name": "stderr",
     "output_type": "stream",
     "text": [
      "/home/obotvinnik/anaconda/lib/python2.7/site-packages/sklearn/cross_validation.py:44: DeprecationWarning: This module was deprecated in version 0.18 in favor of the model_selection module into which all the refactored classes and functions are moved. Also note that the interface of the new CV iterators are different from that of this module. This module will be removed in 0.20.\n",
      "  \"This module will be removed in 0.20.\", DeprecationWarning)\n",
      "/home/obotvinnik/workspace-git/flotilla/flotilla/__init__.py:65: DtypeWarning: Columns (19) have mixed types. Specify dtype option on import or set low_memory=False.\n",
      "  load_species_data=load_species_data)\n"
     ]
    },
    {
     "name": "stdout",
     "output_type": "stream",
     "text": [
      "2017-01-03 16:55:23\tParsing datapackage to create a Study object\n",
      "https://s3-us-west-2.amazonaws.com/flotilla-projects/ercc/ERCC_Controls.txt has not been downloaded before.\n",
      "\tDownloading now to /home/obotvinnik/flotilla_projects/hg19/ERCC_Controls.txt\n",
      "2017-01-03 16:55:46 \tInitializing Study\n",
      "2017-01-03 16:55:46 \tInitializing Predictor configuration manager for Study\n",
      "2017-01-03 16:55:46\tPredictor ExtraTreesClassifier is of type <class 'sklearn.ensemble.forest.ExtraTreesClassifier'>\n",
      "2017-01-03 16:55:46\tAdded ExtraTreesClassifier to default predictors\n",
      "2017-01-03 16:55:46\tPredictor ExtraTreesRegressor is of type <class 'sklearn.ensemble.forest.ExtraTreesRegressor'>\n",
      "2017-01-03 16:55:46\tAdded ExtraTreesRegressor to default predictors\n",
      "2017-01-03 16:55:46\tPredictor GradientBoostingClassifier is of type <class 'sklearn.ensemble.gradient_boosting.GradientBoostingClassifier'>\n",
      "2017-01-03 16:55:46\tAdded GradientBoostingClassifier to default predictors\n",
      "2017-01-03 16:55:46\tPredictor GradientBoostingRegressor is of type <class 'sklearn.ensemble.gradient_boosting.GradientBoostingRegressor'>\n",
      "2017-01-03 16:55:46\tAdded GradientBoostingRegressor to default predictors\n",
      "2017-01-03 16:55:50 \tBuilding Gene Ontology database...\n",
      "2017-01-03 16:55:58 \t\tDone\n",
      "2017-01-03 16:55:59 \tLoading metadata\n",
      "2017-01-03 16:55:59\tLoading expression data\n",
      "2017-01-03 16:55:59\tInitializing expression\n",
      "2017-01-03 16:55:59\tDone initializing expression\n",
      "2017-01-03 16:56:02\tLoading splicing data\n",
      "2017-01-03 16:56:02\tInitializing splicing\n",
      "2017-01-03 16:56:02\tDone initializing splicing\n",
      "2017-01-03 16:56:02\tSuccessfully initialized a Study object!\n"
     ]
    },
    {
     "name": "stderr",
     "output_type": "stream",
     "text": [
      "Error loading species hg19 data: HTTP Error 404: Not Found"
     ]
    }
   ],
   "source": [
    "%load_ext autoreload\n",
    "%autoreload 2\n",
    "\n",
    "import matplotlib.pyplot as plt\n",
    "import seaborn as sns\n",
    "import numpy as np\n",
    "import pandas as pd\n",
    "\n",
    "sns.set(style='white', context='paper', rc={'font.sans-serif':'Arial', 'pdf.fonttype': 42})\n",
    "\n",
    "%matplotlib inline\n",
    "\n",
    "import flotilla\n",
    "\n",
    "\n",
    "flotilla_dir = '/projects/ps-yeolab/obotvinnik/flotilla_projects'\n",
    "\n",
    "study = flotilla.embark('singlecell_pnm_figure2_modalities_bayesian', flotilla_dir=flotilla_dir)\n",
    "\n",
    "# not_outliers = study.splicing.singles.index.difference(study.splicing.outliers.index)\n"
   ]
  },
  {
   "cell_type": "code",
   "execution_count": 10,
   "metadata": {
    "collapsed": false
   },
   "outputs": [
    {
     "data": {
      "text/html": [
       "<div>\n",
       "<table border=\"1\" class=\"dataframe\">\n",
       "  <thead>\n",
       "    <tr style=\"text-align: right;\">\n",
       "      <th></th>\n",
       "      <th>bam</th>\n",
       "      <th>phenotype</th>\n",
       "      <th>pooled</th>\n",
       "      <th>outlier</th>\n",
       "    </tr>\n",
       "    <tr>\n",
       "      <th>sample_id</th>\n",
       "      <th></th>\n",
       "      <th></th>\n",
       "      <th></th>\n",
       "      <th></th>\n",
       "    </tr>\n",
       "  </thead>\n",
       "  <tbody>\n",
       "    <tr>\n",
       "      <th>CVN_01</th>\n",
       "      <td>/home/obotvinnik/projects/singlecell_pnms/anal...</td>\n",
       "      <td>NPC</td>\n",
       "      <td>False</td>\n",
       "      <td>False</td>\n",
       "    </tr>\n",
       "    <tr>\n",
       "      <th>CVN_02</th>\n",
       "      <td>/home/obotvinnik/projects/singlecell_pnms/anal...</td>\n",
       "      <td>NPC</td>\n",
       "      <td>False</td>\n",
       "      <td>False</td>\n",
       "    </tr>\n",
       "    <tr>\n",
       "      <th>CVN_03</th>\n",
       "      <td>/home/obotvinnik/projects/singlecell_pnms/anal...</td>\n",
       "      <td>NPC</td>\n",
       "      <td>False</td>\n",
       "      <td>False</td>\n",
       "    </tr>\n",
       "    <tr>\n",
       "      <th>CVN_04</th>\n",
       "      <td>/home/obotvinnik/projects/singlecell_pnms/anal...</td>\n",
       "      <td>NPC</td>\n",
       "      <td>False</td>\n",
       "      <td>False</td>\n",
       "    </tr>\n",
       "    <tr>\n",
       "      <th>CVN_05</th>\n",
       "      <td>/home/obotvinnik/projects/singlecell_pnms/anal...</td>\n",
       "      <td>NPC</td>\n",
       "      <td>False</td>\n",
       "      <td>False</td>\n",
       "    </tr>\n",
       "  </tbody>\n",
       "</table>\n",
       "</div>"
      ],
      "text/plain": [
       "                                                         bam phenotype pooled  \\\n",
       "sample_id                                                                       \n",
       "CVN_01     /home/obotvinnik/projects/singlecell_pnms/anal...       NPC  False   \n",
       "CVN_02     /home/obotvinnik/projects/singlecell_pnms/anal...       NPC  False   \n",
       "CVN_03     /home/obotvinnik/projects/singlecell_pnms/anal...       NPC  False   \n",
       "CVN_04     /home/obotvinnik/projects/singlecell_pnms/anal...       NPC  False   \n",
       "CVN_05     /home/obotvinnik/projects/singlecell_pnms/anal...       NPC  False   \n",
       "\n",
       "          outlier  \n",
       "sample_id          \n",
       "CVN_01      False  \n",
       "CVN_02      False  \n",
       "CVN_03      False  \n",
       "CVN_04      False  \n",
       "CVN_05      False  "
      ]
     },
     "execution_count": 10,
     "metadata": {},
     "output_type": "execute_result"
    }
   ],
   "source": [
    "import pandas as pd\n",
    "import os\n",
    "\n",
    "bam_df = pd.Series(sorted(bam_filenames), name='bam').to_frame()\n",
    "bam_df['sample_id'] = bam_df['bam'].map(lambda x: '_'.join(os.path.basename(x).split('.')[0].split('_')[:2]))\n",
    "bam_df = bam_df.set_index('sample_id')\n",
    "bam_df['phenotype'] = study.sample_id_to_phenotype\n",
    "bam_df['pooled'] = study.metadata.data['pooled']\n",
    "bam_df['outlier'] = study.metadata.data['outlier']\n",
    "bam_df.head()"
   ]
  },
  {
   "cell_type": "code",
   "execution_count": 11,
   "metadata": {
    "collapsed": false
   },
   "outputs": [
    {
     "name": "stdout",
     "output_type": "stream",
     "text": [
      "Automatic pdb calling has been turned ON\n"
     ]
    }
   ],
   "source": [
    "%pdb"
   ]
  },
  {
   "cell_type": "code",
   "execution_count": null,
   "metadata": {
    "collapsed": true
   },
   "outputs": [],
   "source": [
    "def wasabifacet(x, **kwargs):\n",
    "    return wp.wasabiplot(x.iloc[0], **kwargs)"
   ]
  },
  {
   "cell_type": "code",
   "execution_count": null,
   "metadata": {
    "collapsed": false,
    "scrolled": false
   },
   "outputs": [],
   "source": [
    "g = sns.FacetGrid(bam_df, row='bam', hue='phenotype', size=1.5, aspect=8)\n",
    "g.map(wasabifacet, 'bam', chrom=chrom, start=start, stop=stop, strand=strand, warn_skipped=False)"
   ]
  },
  {
   "cell_type": "code",
   "execution_count": null,
   "metadata": {
    "collapsed": true
   },
   "outputs": [],
   "source": []
  }
 ],
 "metadata": {
  "kernelspec": {
   "display_name": "Python 2",
   "language": "python",
   "name": "python2"
  },
  "language_info": {
   "codemirror_mode": {
    "name": "ipython",
    "version": 2
   },
   "file_extension": ".py",
   "mimetype": "text/x-python",
   "name": "python",
   "nbconvert_exporter": "python",
   "pygments_lexer": "ipython2",
   "version": "2.7.11"
  }
 },
 "nbformat": 4,
 "nbformat_minor": 0
}
