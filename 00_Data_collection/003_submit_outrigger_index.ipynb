{
 "cells": [
  {
   "cell_type": "code",
   "execution_count": 24,
   "metadata": {
    "collapsed": true
   },
   "outputs": [],
   "source": [
    "from __future__ import print_function"
   ]
  },
  {
   "cell_type": "code",
   "execution_count": 25,
   "metadata": {
    "collapsed": true
   },
   "outputs": [],
   "source": [
    "commands = ['source activate outrigger_v1.0.0rc1',\n",
    "            'cd /home/obotvinnik/projects/singlecell_pnms/analysis',\n",
    "            'time outrigger index --resume --junction-reads-csv '\n",
    "            '/home/obotvinnik/projects/singlecell_pnms/analysis/outrigger_v2/junctions/reads.csv '\n",
    "#             '/projects/ps-yeolab/obotvinnik/singlecell_pnms/csvs_for_paper/junction_reads_use_multimapping.csv '\n",
    "            '--output /home/obotvinnik/projects/singlecell_pnms/analysis/outrigger_v2 '\n",
    "            '--gtf-filename /projects/ps-yeolab/genomes/hg19/gencode/v19/gencode.v19.annotation.gtf'\n",
    "           ]"
   ]
  },
  {
   "cell_type": "code",
   "execution_count": 26,
   "metadata": {
    "collapsed": false,
    "scrolled": false
   },
   "outputs": [
    {
     "name": "stdout",
     "output_type": "stream",
     "text": [
      "source activate outrigger_v1.0.0rc1\n",
      "cd /home/obotvinnik/projects/singlecell_pnms/analysis\n",
      "time outrigger index --resume --junction-reads-csv /home/obotvinnik/projects/singlecell_pnms/analysis/outrigger_v2/junctions/reads.csv --output /home/obotvinnik/projects/singlecell_pnms/analysis/outrigger_v2 --gtf-filename /projects/ps-yeolab/genomes/hg19/gencode/v19/gencode.v19.annotation.gtf\n"
     ]
    }
   ],
   "source": [
    "for command in commands:\n",
    "    print(command)"
   ]
  },
  {
   "cell_type": "code",
   "execution_count": 27,
   "metadata": {
    "collapsed": true
   },
   "outputs": [],
   "source": [
    "project = 'singlecell_pnms'"
   ]
  },
  {
   "cell_type": "code",
   "execution_count": 28,
   "metadata": {
    "collapsed": false
   },
   "outputs": [
    {
     "name": "stdout",
     "output_type": "stream",
     "text": [
      "/home/obotvinnik/processing_scripts/singlecell_pnms\n"
     ]
    }
   ],
   "source": [
    "cd ~/projects/$project/scripts"
   ]
  },
  {
   "cell_type": "code",
   "execution_count": 29,
   "metadata": {
    "collapsed": false
   },
   "outputs": [
    {
     "name": "stderr",
     "output_type": "stream",
     "text": [
      "Wrote commands to singlecell_pnms_outrigger_index_v1.0.0rc1.sh.\n",
      "Submitted script to queue home-yeo.\n",
      " Job ID: 7285594\n"
     ]
    },
    {
     "data": {
      "text/plain": [
       "<qtools.submitter.Submitter at 0x2b8ea032ecd0>"
      ]
     },
     "execution_count": 29,
     "metadata": {},
     "output_type": "execute_result"
    }
   ],
   "source": [
    "import qtools\n",
    "\n",
    "job_name = 'singlecell_pnms_outrigger_index_v1.0.0rc1'\n",
    "qtools.Submitter(commands, job_name, ppn=8, walltime='100:00:00', queue='home-yeo')"
   ]
  },
  {
   "cell_type": "code",
   "execution_count": 30,
   "metadata": {
    "collapsed": false
   },
   "outputs": [
    {
     "name": "stdout",
     "output_type": "stream",
     "text": [
      "==> singlecell_pnms_outrigger_index_v1.0.0rc1.sh <==\r\n",
      "#PBS -l nodes=1:ppn=8\r\n",
      "#PBS -A yeo-group\r\n",
      "#PBS -q home-yeo\r\n",
      "\r\n",
      "# Go to the directory from which the script was called\r\n",
      "cd $PBS_O_WORKDIR\r\n",
      "source activate outrigger_v1.0.0rc1\r\n",
      "cd /home/obotvinnik/projects/singlecell_pnms/analysis\r\n",
      "time outrigger index --resume --junction-reads-csv /home/obotvinnik/projects/singlecell_pnms/analysis/outrigger_v2/junctions/reads.csv --output /home/obotvinnik/projects/singlecell_pnms/analysis/outrigger_v2 --gtf-filename /projects/ps-yeolab/genomes/hg19/gencode/v19/gencode.v19.annotation.gtf\r\n",
      "\r\n",
      "\r\n",
      "==> singlecell_pnms_outrigger_index_v1.0.0rc1.sh.err <==\r\n",
      "    index.execute()\r\n",
      "  File \"/home/obotvinnik/anaconda/lib/python2.7/site-packages/outrigger/commandline.py\", line 732, in execute\r\n",
      "    metadata, db)\r\n",
      "  File \"/home/obotvinnik/anaconda/lib/python2.7/site-packages/outrigger/commandline.py\", line 637, in make_exon_junction_adjacencies\r\n",
      "    \".\".format(csv=csv))\r\n",
      "ValueError: Found existing junction-exon-triples file (/home/obotvinnik/projects/singlecell_pnms/analysis/outrigger_v2/index/junction_exon_direction_triples.csv) but don't know whether you want me to continue where I stopped ('--resume') or force restart from scratch ('--force')! Exiting..\r\n",
      "\r\n",
      "real\t56m45.808s\r\n",
      "user\t39m44.963s\r\n",
      "sys\t1m22.540s\r\n",
      "\r\n",
      "==> singlecell_pnms_outrigger_index_v1.0.0rc1.sh.out <==\r\n",
      "2016-12-20 12:57:48\tCreating splice junction metadata of merely where junctions start and stop\r\n",
      "2016-12-20 12:57:49\t\tDone.\r\n",
      "2016-12-20 12:57:49\tFound GTF file in /projects/ps-yeolab/genomes/hg19/gencode/v19/gencode.v19.annotation.gtf\r\n",
      "2016-12-20 12:57:49\tCreating a \"gffutils\" database /home/obotvinnik/projects/singlecell_pnms/analysis/outrigger_v2/index/gtf/gencode.v19.annotation.gtf.db ...\r\n",
      "2016-12-20 13:53:25\t\tDone.\r\n",
      "2016-12-20 13:53:26\t\tLooking up which exons are already defined ...\r\n",
      "2016-12-20 13:53:49\t\t\tDone.\r\n",
      "2016-12-20 13:53:49\tWriting 0 novel exons to /home/obotvinnik/projects/singlecell_pnms/analysis/outrigger_v2/index/gtf/novel_exons.gtf ...\r\n",
      "2016-12-20 13:53:49\t\tDone.\r\n",
      "Nodes:        tscc-1-49\r\n"
     ]
    }
   ],
   "source": [
    "! tail $job_name*"
   ]
  },
  {
   "cell_type": "code",
   "execution_count": null,
   "metadata": {
    "collapsed": true
   },
   "outputs": [],
   "source": []
  }
 ],
 "metadata": {
  "kernelspec": {
   "display_name": "Python 2",
   "language": "python",
   "name": "python2"
  },
  "language_info": {
   "codemirror_mode": {
    "name": "ipython",
    "version": 2
   },
   "file_extension": ".py",
   "mimetype": "text/x-python",
   "name": "python",
   "nbconvert_exporter": "python",
   "pygments_lexer": "ipython2",
   "version": "2.7.11"
  }
 },
 "nbformat": 4,
 "nbformat_minor": 0
}
