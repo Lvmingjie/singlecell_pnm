{
 "cells": [
  {
   "cell_type": "code",
   "execution_count": 1,
   "metadata": {
    "collapsed": true
   },
   "outputs": [],
   "source": [
    "from __future__ import print_function"
   ]
  },
  {
   "cell_type": "code",
   "execution_count": 2,
   "metadata": {
    "collapsed": true
   },
   "outputs": [],
   "source": [
    "import pandas as pd"
   ]
  },
  {
   "cell_type": "code",
   "execution_count": 3,
   "metadata": {
    "collapsed": true
   },
   "outputs": [],
   "source": [
    "folder = '/home/obotvinnik/projects/singlecell_pnms/analysis/outrigger_v2/index/mxe'"
   ]
  },
  {
   "cell_type": "code",
   "execution_count": 4,
   "metadata": {
    "collapsed": false
   },
   "outputs": [
    {
     "name": "stdout",
     "output_type": "stream",
     "text": [
      "(403768, 46)\n"
     ]
    },
    {
     "name": "stderr",
     "output_type": "stream",
     "text": [
      "/home/obotvinnik/anaconda/lib/python2.7/site-packages/IPython/core/interactiveshell.py:2723: DtypeWarning: Columns (2,9,12,13,14,15,16,17,18,19,20,21,22,23,24,25,26,27,28,29,30,31,32,33,34,35,36,37,38,39,40,41,42,43,44,45) have mixed types. Specify dtype option on import or set low_memory=False.\n",
      "  interactivity=interactivity, compiler=compiler, result=result)\n"
     ]
    },
    {
     "data": {
      "text/html": [
       "<div>\n",
       "<table border=\"1\" class=\"dataframe\">\n",
       "  <thead>\n",
       "    <tr style=\"text-align: right;\">\n",
       "      <th></th>\n",
       "      <th>event_id</th>\n",
       "      <th>event_length</th>\n",
       "      <th>event_location</th>\n",
       "      <th>exon1</th>\n",
       "      <th>exon1_length</th>\n",
       "      <th>exon2</th>\n",
       "      <th>exon2_length</th>\n",
       "      <th>exon3</th>\n",
       "      <th>exon3_length</th>\n",
       "      <th>exons</th>\n",
       "      <th>...</th>\n",
       "      <th>isoform2_tag</th>\n",
       "      <th>isoform2_transcript_id</th>\n",
       "      <th>isoform2_transcript_name</th>\n",
       "      <th>isoform2_transcript_status</th>\n",
       "      <th>isoform2_transcript_type</th>\n",
       "      <th>junction12</th>\n",
       "      <th>junction13</th>\n",
       "      <th>junction23</th>\n",
       "      <th>junctions</th>\n",
       "      <th>strand</th>\n",
       "    </tr>\n",
       "  </thead>\n",
       "  <tbody>\n",
       "    <tr>\n",
       "      <th>0</th>\n",
       "      <td>isoform1=junction:chr12:53689424-53690237:+|is...</td>\n",
       "      <td>970.0</td>\n",
       "      <td>event:chr12:53689366-53690335:+</td>\n",
       "      <td>exon:chr12:53689366-53689423:+</td>\n",
       "      <td>58.0</td>\n",
       "      <td>exon:chr12:53689623-53689725:+</td>\n",
       "      <td>103.0</td>\n",
       "      <td>exon:chr12:53690238-53690335:+</td>\n",
       "      <td>98.0</td>\n",
       "      <td>exon:chr12:53689366-53689423:+@exon:chr12:5368...</td>\n",
       "      <td>...</td>\n",
       "      <td>NaN</td>\n",
       "      <td>NaN</td>\n",
       "      <td>NaN</td>\n",
       "      <td>NaN</td>\n",
       "      <td>NaN</td>\n",
       "      <td>junction:chr12:53689424-53689622:+</td>\n",
       "      <td>junction:chr12:53689424-53690237:+</td>\n",
       "      <td>junction:chr12:53689726-53690237:+</td>\n",
       "      <td>junction:chr12:53689424-53689622:+@junction:ch...</td>\n",
       "      <td>+</td>\n",
       "    </tr>\n",
       "    <tr>\n",
       "      <th>1</th>\n",
       "      <td>isoform1=junction:chr1:32669647-32670198:+|iso...</td>\n",
       "      <td>1509.0</td>\n",
       "      <td>event:chr1:32669480-32670988:+</td>\n",
       "      <td>exon:chr1:32669480-32669646:+</td>\n",
       "      <td>167.0</td>\n",
       "      <td>exon:chr1:32669787-32669980:+</td>\n",
       "      <td>194.0</td>\n",
       "      <td>exon:chr1:32670199-32670988:+</td>\n",
       "      <td>790.0</td>\n",
       "      <td>exon:chr1:32669480-32669646:+@exon:chr1:326697...</td>\n",
       "      <td>...</td>\n",
       "      <td>NaN</td>\n",
       "      <td>NaN</td>\n",
       "      <td>NaN</td>\n",
       "      <td>NaN</td>\n",
       "      <td>NaN</td>\n",
       "      <td>junction:chr1:32669647-32669786:+</td>\n",
       "      <td>junction:chr1:32669647-32670198:+</td>\n",
       "      <td>junction:chr1:32669981-32670198:+</td>\n",
       "      <td>junction:chr1:32669647-32669786:+@junction:chr...</td>\n",
       "      <td>+</td>\n",
       "    </tr>\n",
       "    <tr>\n",
       "      <th>2</th>\n",
       "      <td>isoform1=junction:chrX:102931980-102940098:-|i...</td>\n",
       "      <td>9727.0</td>\n",
       "      <td>event:chrX:102931423-102941149:-</td>\n",
       "      <td>exon:chrX:102940099-102941149:-</td>\n",
       "      <td>1051.0</td>\n",
       "      <td>exon:chrX:102933427-102933548:-</td>\n",
       "      <td>122.0</td>\n",
       "      <td>exon:chrX:102931423-102931979:-</td>\n",
       "      <td>557.0</td>\n",
       "      <td>exon:chrX:102940099-102941149:-@exon:chrX:1029...</td>\n",
       "      <td>...</td>\n",
       "      <td>NaN</td>\n",
       "      <td>NaN</td>\n",
       "      <td>NaN</td>\n",
       "      <td>NaN</td>\n",
       "      <td>NaN</td>\n",
       "      <td>junction:chrX:102933549-102940098:-</td>\n",
       "      <td>junction:chrX:102931980-102940098:-</td>\n",
       "      <td>junction:chrX:102931980-102933426:-</td>\n",
       "      <td>junction:chrX:102933549-102940098:-@junction:c...</td>\n",
       "      <td>-</td>\n",
       "    </tr>\n",
       "    <tr>\n",
       "      <th>3</th>\n",
       "      <td>isoform1=junction:chr11:118968008-118968564:-|...</td>\n",
       "      <td>1409.0</td>\n",
       "      <td>event:chr11:118967345-118968753:-</td>\n",
       "      <td>exon:chr11:118968565-118968753:-</td>\n",
       "      <td>189.0</td>\n",
       "      <td>exon:chr11:118968174-118968261:-</td>\n",
       "      <td>88.0</td>\n",
       "      <td>exon:chr11:118967345-118968007:-</td>\n",
       "      <td>663.0</td>\n",
       "      <td>exon:chr11:118968565-118968753:-@exon:chr11:11...</td>\n",
       "      <td>...</td>\n",
       "      <td>NaN</td>\n",
       "      <td>NaN</td>\n",
       "      <td>NaN</td>\n",
       "      <td>NaN</td>\n",
       "      <td>NaN</td>\n",
       "      <td>junction:chr11:118968262-118968564:-</td>\n",
       "      <td>junction:chr11:118968008-118968564:-</td>\n",
       "      <td>junction:chr11:118968008-118968173:-</td>\n",
       "      <td>junction:chr11:118968262-118968564:-@junction:...</td>\n",
       "      <td>-</td>\n",
       "    </tr>\n",
       "    <tr>\n",
       "      <th>4</th>\n",
       "      <td>isoform1=junction:chr10:99213421-99214470:+|is...</td>\n",
       "      <td>1246.0</td>\n",
       "      <td>event:chr10:99213311-99214556:+</td>\n",
       "      <td>exon:chr10:99213311-99213420:+</td>\n",
       "      <td>110.0</td>\n",
       "      <td>exon:chr10:99213556-99213603:+</td>\n",
       "      <td>48.0</td>\n",
       "      <td>exon:chr10:99214471-99214556:+</td>\n",
       "      <td>86.0</td>\n",
       "      <td>exon:chr10:99213311-99213420:+@exon:chr10:9921...</td>\n",
       "      <td>...</td>\n",
       "      <td>NaN</td>\n",
       "      <td>NaN</td>\n",
       "      <td>NaN</td>\n",
       "      <td>NaN</td>\n",
       "      <td>NaN</td>\n",
       "      <td>junction:chr10:99213421-99213555:+</td>\n",
       "      <td>junction:chr10:99213421-99214470:+</td>\n",
       "      <td>junction:chr10:99213604-99214470:+</td>\n",
       "      <td>junction:chr10:99213421-99213555:+@junction:ch...</td>\n",
       "      <td>+</td>\n",
       "    </tr>\n",
       "  </tbody>\n",
       "</table>\n",
       "<p>5 rows × 46 columns</p>\n",
       "</div>"
      ],
      "text/plain": [
       "                                            event_id  event_length  \\\n",
       "0  isoform1=junction:chr12:53689424-53690237:+|is...         970.0   \n",
       "1  isoform1=junction:chr1:32669647-32670198:+|iso...        1509.0   \n",
       "2  isoform1=junction:chrX:102931980-102940098:-|i...        9727.0   \n",
       "3  isoform1=junction:chr11:118968008-118968564:-|...        1409.0   \n",
       "4  isoform1=junction:chr10:99213421-99214470:+|is...        1246.0   \n",
       "\n",
       "                      event_location                             exon1  \\\n",
       "0    event:chr12:53689366-53690335:+    exon:chr12:53689366-53689423:+   \n",
       "1     event:chr1:32669480-32670988:+     exon:chr1:32669480-32669646:+   \n",
       "2   event:chrX:102931423-102941149:-   exon:chrX:102940099-102941149:-   \n",
       "3  event:chr11:118967345-118968753:-  exon:chr11:118968565-118968753:-   \n",
       "4    event:chr10:99213311-99214556:+    exon:chr10:99213311-99213420:+   \n",
       "\n",
       "   exon1_length                             exon2  exon2_length  \\\n",
       "0          58.0    exon:chr12:53689623-53689725:+         103.0   \n",
       "1         167.0     exon:chr1:32669787-32669980:+         194.0   \n",
       "2        1051.0   exon:chrX:102933427-102933548:-         122.0   \n",
       "3         189.0  exon:chr11:118968174-118968261:-          88.0   \n",
       "4         110.0    exon:chr10:99213556-99213603:+          48.0   \n",
       "\n",
       "                              exon3  exon3_length  \\\n",
       "0    exon:chr12:53690238-53690335:+          98.0   \n",
       "1     exon:chr1:32670199-32670988:+         790.0   \n",
       "2   exon:chrX:102931423-102931979:-         557.0   \n",
       "3  exon:chr11:118967345-118968007:-         663.0   \n",
       "4    exon:chr10:99214471-99214556:+          86.0   \n",
       "\n",
       "                                               exons  ...    isoform2_tag  \\\n",
       "0  exon:chr12:53689366-53689423:+@exon:chr12:5368...  ...             NaN   \n",
       "1  exon:chr1:32669480-32669646:+@exon:chr1:326697...  ...             NaN   \n",
       "2  exon:chrX:102940099-102941149:-@exon:chrX:1029...  ...             NaN   \n",
       "3  exon:chr11:118968565-118968753:-@exon:chr11:11...  ...             NaN   \n",
       "4  exon:chr10:99213311-99213420:+@exon:chr10:9921...  ...             NaN   \n",
       "\n",
       "   isoform2_transcript_id isoform2_transcript_name isoform2_transcript_status  \\\n",
       "0                     NaN                      NaN                        NaN   \n",
       "1                     NaN                      NaN                        NaN   \n",
       "2                     NaN                      NaN                        NaN   \n",
       "3                     NaN                      NaN                        NaN   \n",
       "4                     NaN                      NaN                        NaN   \n",
       "\n",
       "  isoform2_transcript_type                            junction12  \\\n",
       "0                      NaN    junction:chr12:53689424-53689622:+   \n",
       "1                      NaN     junction:chr1:32669647-32669786:+   \n",
       "2                      NaN   junction:chrX:102933549-102940098:-   \n",
       "3                      NaN  junction:chr11:118968262-118968564:-   \n",
       "4                      NaN    junction:chr10:99213421-99213555:+   \n",
       "\n",
       "                             junction13                            junction23  \\\n",
       "0    junction:chr12:53689424-53690237:+    junction:chr12:53689726-53690237:+   \n",
       "1     junction:chr1:32669647-32670198:+     junction:chr1:32669981-32670198:+   \n",
       "2   junction:chrX:102931980-102940098:-   junction:chrX:102931980-102933426:-   \n",
       "3  junction:chr11:118968008-118968564:-  junction:chr11:118968008-118968173:-   \n",
       "4    junction:chr10:99213421-99214470:+    junction:chr10:99213604-99214470:+   \n",
       "\n",
       "                                           junctions strand  \n",
       "0  junction:chr12:53689424-53689622:+@junction:ch...      +  \n",
       "1  junction:chr1:32669647-32669786:+@junction:chr...      +  \n",
       "2  junction:chrX:102933549-102940098:-@junction:c...      -  \n",
       "3  junction:chr11:118968262-118968564:-@junction:...      -  \n",
       "4  junction:chr10:99213421-99213555:+@junction:ch...      +  \n",
       "\n",
       "[5 rows x 46 columns]"
      ]
     },
     "execution_count": 4,
     "metadata": {},
     "output_type": "execute_result"
    }
   ],
   "source": [
    "se = pd.read_csv('/home/obotvinnik/projects/singlecell_pnms/analysis/outrigger_v2/index/se/events.csv')\n",
    "print(se.shape)\n",
    "se.head()"
   ]
  },
  {
   "cell_type": "code",
   "execution_count": 5,
   "metadata": {
    "collapsed": true
   },
   "outputs": [],
   "source": [
    "# se.to_csv('/home/obotvinnik/projects/singlecell_pnms/analysis/outrigger_v2/index/se/events.csv', index=False)"
   ]
  },
  {
   "cell_type": "code",
   "execution_count": 6,
   "metadata": {
    "collapsed": true
   },
   "outputs": [],
   "source": [
    "pd.options.display.max_colwidth = 500"
   ]
  },
  {
   "cell_type": "code",
   "execution_count": 7,
   "metadata": {
    "collapsed": false
   },
   "outputs": [
    {
     "name": "stdout",
     "output_type": "stream",
     "text": [
      "(325347, 6)\n"
     ]
    },
    {
     "data": {
      "text/html": [
       "<div>\n",
       "<table border=\"1\" class=\"dataframe\">\n",
       "  <thead>\n",
       "    <tr style=\"text-align: right;\">\n",
       "      <th></th>\n",
       "      <th>0</th>\n",
       "      <th>1</th>\n",
       "      <th>2</th>\n",
       "      <th>3</th>\n",
       "      <th>4</th>\n",
       "      <th>5</th>\n",
       "    </tr>\n",
       "  </thead>\n",
       "  <tbody>\n",
       "    <tr>\n",
       "      <th>0</th>\n",
       "      <td>chr17</td>\n",
       "      <td>75211926</td>\n",
       "      <td>75212352</td>\n",
       "      <td>isoform1=junction:chr17:75212018-75212222:+@novel_exon:chr17:75212223-75212300:+@junction:chr17:75212301-75212326:+|isoform2=junction:chr17:75212018-75212131:+@novel_exon:chr17:75212132-75212144:+@junction:chr17:75212145-75212326:+</td>\n",
       "      <td>.</td>\n",
       "      <td>+</td>\n",
       "    </tr>\n",
       "    <tr>\n",
       "      <th>1</th>\n",
       "      <td>chr17</td>\n",
       "      <td>75211939</td>\n",
       "      <td>75212417</td>\n",
       "      <td>isoform1=junction:chr17:75212018-75212222:+@novel_exon:chr17:75212223-75212287:+@junction:chr17:75212288-75212326:+|isoform2=junction:chr17:75212018-75212079:+@novel_exon:chr17:75212080-75212144:+@junction:chr17:75212145-75212326:+</td>\n",
       "      <td>.</td>\n",
       "      <td>+</td>\n",
       "    </tr>\n",
       "    <tr>\n",
       "      <th>2</th>\n",
       "      <td>chr17</td>\n",
       "      <td>75212004</td>\n",
       "      <td>75212391</td>\n",
       "      <td>isoform1=junction:chr17:75212080-75212209:+@novel_exon:chr17:75212210-75212300:+@junction:chr17:75212301-75212378:+|isoform2=junction:chr17:75212080-75212170:+@novel_exon:chr17:75212171-75212209:+@junction:chr17:75212210-75212378:+</td>\n",
       "      <td>.</td>\n",
       "      <td>+</td>\n",
       "    </tr>\n",
       "    <tr>\n",
       "      <th>3</th>\n",
       "      <td>chr17</td>\n",
       "      <td>75211978</td>\n",
       "      <td>75212300</td>\n",
       "      <td>isoform1=junction:chr17:75212018-75212157:+@novel_exon:chr17:75212158-75212222:+@junction:chr17:75212223-75212274:+|isoform2=junction:chr17:75212018-75212131:+@novel_exon:chr17:75212132-75212157:+@junction:chr17:75212158-75212274:+</td>\n",
       "      <td>.</td>\n",
       "      <td>+</td>\n",
       "    </tr>\n",
       "    <tr>\n",
       "      <th>4</th>\n",
       "      <td>chr5</td>\n",
       "      <td>180666516</td>\n",
       "      <td>180670872</td>\n",
       "      <td>isoform1=junction:chr5:180668640-180670691:-@exon:chr5:180668492-180668639:-@junction:chr5:180666583-180668491:-|isoform2=junction:chr5:180669235-180670691:-@novel_exon:chr5:180669170-180669234:-@junction:chr5:180666583-180669169:-</td>\n",
       "      <td>.</td>\n",
       "      <td>-</td>\n",
       "    </tr>\n",
       "  </tbody>\n",
       "</table>\n",
       "</div>"
      ],
      "text/plain": [
       "       0          1          2  \\\n",
       "0  chr17   75211926   75212352   \n",
       "1  chr17   75211939   75212417   \n",
       "2  chr17   75212004   75212391   \n",
       "3  chr17   75211978   75212300   \n",
       "4   chr5  180666516  180670872   \n",
       "\n",
       "                                                                                                                                                                                                                                         3  \\\n",
       "0  isoform1=junction:chr17:75212018-75212222:+@novel_exon:chr17:75212223-75212300:+@junction:chr17:75212301-75212326:+|isoform2=junction:chr17:75212018-75212131:+@novel_exon:chr17:75212132-75212144:+@junction:chr17:75212145-75212326:+   \n",
       "1  isoform1=junction:chr17:75212018-75212222:+@novel_exon:chr17:75212223-75212287:+@junction:chr17:75212288-75212326:+|isoform2=junction:chr17:75212018-75212079:+@novel_exon:chr17:75212080-75212144:+@junction:chr17:75212145-75212326:+   \n",
       "2  isoform1=junction:chr17:75212080-75212209:+@novel_exon:chr17:75212210-75212300:+@junction:chr17:75212301-75212378:+|isoform2=junction:chr17:75212080-75212170:+@novel_exon:chr17:75212171-75212209:+@junction:chr17:75212210-75212378:+   \n",
       "3  isoform1=junction:chr17:75212018-75212157:+@novel_exon:chr17:75212158-75212222:+@junction:chr17:75212223-75212274:+|isoform2=junction:chr17:75212018-75212131:+@novel_exon:chr17:75212132-75212157:+@junction:chr17:75212158-75212274:+   \n",
       "4  isoform1=junction:chr5:180668640-180670691:-@exon:chr5:180668492-180668639:-@junction:chr5:180666583-180668491:-|isoform2=junction:chr5:180669235-180670691:-@novel_exon:chr5:180669170-180669234:-@junction:chr5:180666583-180669169:-   \n",
       "\n",
       "   4  5  \n",
       "0  .  +  \n",
       "1  .  +  \n",
       "2  .  +  \n",
       "3  .  +  \n",
       "4  .  -  "
      ]
     },
     "execution_count": 7,
     "metadata": {},
     "output_type": "execute_result"
    }
   ],
   "source": [
    "mxe_bed = pd.read_table('{}/event.bed'.format(folder), header=None)\n",
    "print(mxe_bed.shape)\n",
    "mxe_bed.head()"
   ]
  },
  {
   "cell_type": "code",
   "execution_count": 8,
   "metadata": {
    "collapsed": false
   },
   "outputs": [
    {
     "data": {
      "text/html": [
       "<div>\n",
       "<table border=\"1\" class=\"dataframe\">\n",
       "  <thead>\n",
       "    <tr style=\"text-align: right;\">\n",
       "      <th></th>\n",
       "      <th>0</th>\n",
       "      <th>1</th>\n",
       "      <th>2</th>\n",
       "      <th>event_id</th>\n",
       "      <th>4</th>\n",
       "      <th>5</th>\n",
       "    </tr>\n",
       "  </thead>\n",
       "  <tbody>\n",
       "    <tr>\n",
       "      <th>0</th>\n",
       "      <td>chr17</td>\n",
       "      <td>75211926</td>\n",
       "      <td>75212352</td>\n",
       "      <td>isoform1=junction:chr17:75212018-75212222:+@novel_exon:chr17:75212223-75212300:+@junction:chr17:75212301-75212326:+|isoform2=junction:chr17:75212018-75212131:+@novel_exon:chr17:75212132-75212144:+@junction:chr17:75212145-75212326:+</td>\n",
       "      <td>.</td>\n",
       "      <td>+</td>\n",
       "    </tr>\n",
       "    <tr>\n",
       "      <th>1</th>\n",
       "      <td>chr17</td>\n",
       "      <td>75211939</td>\n",
       "      <td>75212417</td>\n",
       "      <td>isoform1=junction:chr17:75212018-75212222:+@novel_exon:chr17:75212223-75212287:+@junction:chr17:75212288-75212326:+|isoform2=junction:chr17:75212018-75212079:+@novel_exon:chr17:75212080-75212144:+@junction:chr17:75212145-75212326:+</td>\n",
       "      <td>.</td>\n",
       "      <td>+</td>\n",
       "    </tr>\n",
       "    <tr>\n",
       "      <th>2</th>\n",
       "      <td>chr17</td>\n",
       "      <td>75212004</td>\n",
       "      <td>75212391</td>\n",
       "      <td>isoform1=junction:chr17:75212080-75212209:+@novel_exon:chr17:75212210-75212300:+@junction:chr17:75212301-75212378:+|isoform2=junction:chr17:75212080-75212170:+@novel_exon:chr17:75212171-75212209:+@junction:chr17:75212210-75212378:+</td>\n",
       "      <td>.</td>\n",
       "      <td>+</td>\n",
       "    </tr>\n",
       "    <tr>\n",
       "      <th>3</th>\n",
       "      <td>chr17</td>\n",
       "      <td>75211978</td>\n",
       "      <td>75212300</td>\n",
       "      <td>isoform1=junction:chr17:75212018-75212157:+@novel_exon:chr17:75212158-75212222:+@junction:chr17:75212223-75212274:+|isoform2=junction:chr17:75212018-75212131:+@novel_exon:chr17:75212132-75212157:+@junction:chr17:75212158-75212274:+</td>\n",
       "      <td>.</td>\n",
       "      <td>+</td>\n",
       "    </tr>\n",
       "    <tr>\n",
       "      <th>4</th>\n",
       "      <td>chr5</td>\n",
       "      <td>180666516</td>\n",
       "      <td>180670872</td>\n",
       "      <td>isoform1=junction:chr5:180668640-180670691:-@exon:chr5:180668492-180668639:-@junction:chr5:180666583-180668491:-|isoform2=junction:chr5:180669235-180670691:-@novel_exon:chr5:180669170-180669234:-@junction:chr5:180666583-180669169:-</td>\n",
       "      <td>.</td>\n",
       "      <td>-</td>\n",
       "    </tr>\n",
       "  </tbody>\n",
       "</table>\n",
       "</div>"
      ],
      "text/plain": [
       "       0          1          2  \\\n",
       "0  chr17   75211926   75212352   \n",
       "1  chr17   75211939   75212417   \n",
       "2  chr17   75212004   75212391   \n",
       "3  chr17   75211978   75212300   \n",
       "4   chr5  180666516  180670872   \n",
       "\n",
       "                                                                                                                                                                                                                                  event_id  \\\n",
       "0  isoform1=junction:chr17:75212018-75212222:+@novel_exon:chr17:75212223-75212300:+@junction:chr17:75212301-75212326:+|isoform2=junction:chr17:75212018-75212131:+@novel_exon:chr17:75212132-75212144:+@junction:chr17:75212145-75212326:+   \n",
       "1  isoform1=junction:chr17:75212018-75212222:+@novel_exon:chr17:75212223-75212287:+@junction:chr17:75212288-75212326:+|isoform2=junction:chr17:75212018-75212079:+@novel_exon:chr17:75212080-75212144:+@junction:chr17:75212145-75212326:+   \n",
       "2  isoform1=junction:chr17:75212080-75212209:+@novel_exon:chr17:75212210-75212300:+@junction:chr17:75212301-75212378:+|isoform2=junction:chr17:75212080-75212170:+@novel_exon:chr17:75212171-75212209:+@junction:chr17:75212210-75212378:+   \n",
       "3  isoform1=junction:chr17:75212018-75212157:+@novel_exon:chr17:75212158-75212222:+@junction:chr17:75212223-75212274:+|isoform2=junction:chr17:75212018-75212131:+@novel_exon:chr17:75212132-75212157:+@junction:chr17:75212158-75212274:+   \n",
       "4  isoform1=junction:chr5:180668640-180670691:-@exon:chr5:180668492-180668639:-@junction:chr5:180666583-180668491:-|isoform2=junction:chr5:180669235-180670691:-@novel_exon:chr5:180669170-180669234:-@junction:chr5:180666583-180669169:-   \n",
       "\n",
       "   4  5  \n",
       "0  .  +  \n",
       "1  .  +  \n",
       "2  .  +  \n",
       "3  .  +  \n",
       "4  .  -  "
      ]
     },
     "execution_count": 8,
     "metadata": {},
     "output_type": "execute_result"
    }
   ],
   "source": [
    "mxe_bed = mxe_bed.rename(columns={3: 'event_id'})\n",
    "mxe_bed.head()"
   ]
  },
  {
   "cell_type": "code",
   "execution_count": 9,
   "metadata": {
    "collapsed": true
   },
   "outputs": [],
   "source": [
    "import re"
   ]
  },
  {
   "cell_type": "code",
   "execution_count": 10,
   "metadata": {
    "collapsed": false
   },
   "outputs": [
    {
     "data": {
      "text/plain": [
       "[]"
      ]
     },
     "execution_count": 10,
     "metadata": {},
     "output_type": "execute_result"
    }
   ],
   "source": [
    "s = 'isoform1=junction:chr17:75212018-75212157:+@novel_exon:chr17:75212158-75212222:+@junction:chr17:75212223-75212274:+|isoform2=junction:chr17:75212018-75212131:+@novel_exon:chr17:75212132-75212157:+@junction:chr17:75212158-75212274:+'\n",
    "re.findall('(junction:chr[\\d+XYM]:\\d+-\\d+:[+-])', s)"
   ]
  },
  {
   "cell_type": "code",
   "execution_count": 11,
   "metadata": {
    "collapsed": true
   },
   "outputs": [],
   "source": [
    "pattern = '(junction:chr[\\dXYM]+:\\d+-\\d+:[+-])'"
   ]
  },
  {
   "cell_type": "code",
   "execution_count": null,
   "metadata": {
    "collapsed": true
   },
   "outputs": [],
   "source": [
    "junction_numbers = ['junction13', 'junction34', 'junction12', 'junction24']"
   ]
  },
  {
   "cell_type": "code",
   "execution_count": null,
   "metadata": {
    "collapsed": false
   },
   "outputs": [],
   "source": [
    "mxe_junctions = pd.DataFrame.from_records(mxe_bed['event_id'].map(lambda x: pd.Series(dict(zip(junction_numbers, re.findall(pattern, x))))))\n",
    "print(mxe_junctions.shape)\n",
    "mxe_junctions.head()"
   ]
  },
  {
   "cell_type": "code",
   "execution_count": null,
   "metadata": {
    "collapsed": true
   },
   "outputs": [],
   "source": [
    "from outrigger.region import Region"
   ]
  },
  {
   "cell_type": "code",
   "execution_count": null,
   "metadata": {
    "collapsed": false
   },
   "outputs": [],
   "source": [
    "mxe_junctions.isnull().any(axis=1).sum()"
   ]
  },
  {
   "cell_type": "code",
   "execution_count": null,
   "metadata": {
    "collapsed": false
   },
   "outputs": [],
   "source": [
    "mxe_bed.loc[mxe_junctions.isnull().any(axis=1)].head()"
   ]
  },
  {
   "cell_type": "code",
   "execution_count": null,
   "metadata": {
    "collapsed": false
   },
   "outputs": [],
   "source": [
    "mxe_junctions_regions = mxe_junctions.applymap(Region)"
   ]
  },
  {
   "cell_type": "code",
   "execution_count": 24,
   "metadata": {
    "collapsed": false
   },
   "outputs": [
    {
     "name": "stdout",
     "output_type": "stream",
     "text": [
      "CPU times: user 46.9 s, sys: 49 ms, total: 47 s\n",
      "Wall time: 46.9 s\n"
     ]
    }
   ],
   "source": [
    "def get_incompatible_junctions(row):\n",
    "    chrom = row['junction12'].chrom\n",
    "    strand = row['junction12'].strand\n",
    "    \n",
    "    if strand == '+':\n",
    "        junction14_kws = dict(start=row['junction12'].start, stop=row['junction34'].stop)\n",
    "        junction23_kws = dict(start=row['junction24'].start, stop=row['junction13'].stop)\n",
    "    elif strand == '-':\n",
    "        junction14_kws = dict(start=row['junction34'].start, stop=row['junction12'].stop)\n",
    "        junction23_kws = dict(start=row['junction13'].start, stop=row['junction24'].stop)\n",
    "    junction14 = 'junction:{chrom}:{start}-{stop}:{strand}'.format(chrom=chrom, strand=strand, **junction14_kws)\n",
    "    junction23 = 'junction:{chrom}:{start}-{stop}:{strand}'.format(chrom=chrom, strand=strand, **junction23_kws)\n",
    "    return junction14 + '|' + junction23\n",
    "\n",
    "%time incompatible_junctions = mxe_junctions_regions.apply(get_incompatible_junctions, axis=1)"
   ]
  },
  {
   "cell_type": "code",
   "execution_count": 27,
   "metadata": {
    "collapsed": true
   },
   "outputs": [],
   "source": [
    "from outrigger.common import INCOMPATIBLE_JUNCTIONS"
   ]
  },
  {
   "cell_type": "code",
   "execution_count": 28,
   "metadata": {
    "collapsed": true
   },
   "outputs": [],
   "source": [
    "incompatible_junctions.name = INCOMPATIBLE_JUNCTIONS"
   ]
  },
  {
   "cell_type": "code",
   "execution_count": 31,
   "metadata": {
    "collapsed": false
   },
   "outputs": [
    {
     "data": {
      "text/plain": [
       "(325347,)"
      ]
     },
     "execution_count": 31,
     "metadata": {},
     "output_type": "execute_result"
    }
   ],
   "source": [
    "incompatible_junctions.shape"
   ]
  },
  {
   "cell_type": "code",
   "execution_count": 29,
   "metadata": {
    "collapsed": false
   },
   "outputs": [
    {
     "data": {
      "text/plain": [
       "0      junction:chr17:75212018-75212326:+|junction:chr17:75212145-75212222:+\n",
       "1      junction:chr17:75212018-75212326:+|junction:chr17:75212145-75212222:+\n",
       "2      junction:chr17:75212080-75212378:+|junction:chr17:75212210-75212209:+\n",
       "3      junction:chr17:75212018-75212274:+|junction:chr17:75212158-75212157:+\n",
       "4    junction:chr5:180666583-180670691:-|junction:chr5:180668640-180669169:-\n",
       "Name: incompatible_junctions, dtype: object"
      ]
     },
     "execution_count": 29,
     "metadata": {},
     "output_type": "execute_result"
    }
   ],
   "source": [
    "incompatible_junctions.head()"
   ]
  },
  {
   "cell_type": "code",
   "execution_count": 30,
   "metadata": {
    "collapsed": false
   },
   "outputs": [
    {
     "name": "stdout",
     "output_type": "stream",
     "text": [
      "(325347, 6)\n"
     ]
    },
    {
     "data": {
      "text/html": [
       "<div>\n",
       "<table border=\"1\" class=\"dataframe\">\n",
       "  <thead>\n",
       "    <tr style=\"text-align: right;\">\n",
       "      <th></th>\n",
       "      <th>event_id</th>\n",
       "      <th>junction12</th>\n",
       "      <th>junction13</th>\n",
       "      <th>junction24</th>\n",
       "      <th>junction34</th>\n",
       "      <th>incompatible_junctions</th>\n",
       "    </tr>\n",
       "  </thead>\n",
       "  <tbody>\n",
       "    <tr>\n",
       "      <th>0</th>\n",
       "      <td>isoform1=junction:chr17:75212018-75212222:+@novel_exon:chr17:75212223-75212300:+@junction:chr17:75212301-75212326:+|isoform2=junction:chr17:75212018-75212131:+@novel_exon:chr17:75212132-75212144:+@junction:chr17:75212145-75212326:+</td>\n",
       "      <td>junction:chr17:75212018-75212131:+</td>\n",
       "      <td>junction:chr17:75212018-75212222:+</td>\n",
       "      <td>junction:chr17:75212145-75212326:+</td>\n",
       "      <td>junction:chr17:75212301-75212326:+</td>\n",
       "      <td>junction:chr17:75212018-75212326:+|junction:chr17:75212145-75212222:+</td>\n",
       "    </tr>\n",
       "    <tr>\n",
       "      <th>1</th>\n",
       "      <td>isoform1=junction:chr17:75212018-75212222:+@novel_exon:chr17:75212223-75212287:+@junction:chr17:75212288-75212326:+|isoform2=junction:chr17:75212018-75212079:+@novel_exon:chr17:75212080-75212144:+@junction:chr17:75212145-75212326:+</td>\n",
       "      <td>junction:chr17:75212018-75212079:+</td>\n",
       "      <td>junction:chr17:75212018-75212222:+</td>\n",
       "      <td>junction:chr17:75212145-75212326:+</td>\n",
       "      <td>junction:chr17:75212288-75212326:+</td>\n",
       "      <td>junction:chr17:75212018-75212326:+|junction:chr17:75212145-75212222:+</td>\n",
       "    </tr>\n",
       "    <tr>\n",
       "      <th>2</th>\n",
       "      <td>isoform1=junction:chr17:75212080-75212209:+@novel_exon:chr17:75212210-75212300:+@junction:chr17:75212301-75212378:+|isoform2=junction:chr17:75212080-75212170:+@novel_exon:chr17:75212171-75212209:+@junction:chr17:75212210-75212378:+</td>\n",
       "      <td>junction:chr17:75212080-75212170:+</td>\n",
       "      <td>junction:chr17:75212080-75212209:+</td>\n",
       "      <td>junction:chr17:75212210-75212378:+</td>\n",
       "      <td>junction:chr17:75212301-75212378:+</td>\n",
       "      <td>junction:chr17:75212080-75212378:+|junction:chr17:75212210-75212209:+</td>\n",
       "    </tr>\n",
       "    <tr>\n",
       "      <th>3</th>\n",
       "      <td>isoform1=junction:chr17:75212018-75212157:+@novel_exon:chr17:75212158-75212222:+@junction:chr17:75212223-75212274:+|isoform2=junction:chr17:75212018-75212131:+@novel_exon:chr17:75212132-75212157:+@junction:chr17:75212158-75212274:+</td>\n",
       "      <td>junction:chr17:75212018-75212131:+</td>\n",
       "      <td>junction:chr17:75212018-75212157:+</td>\n",
       "      <td>junction:chr17:75212158-75212274:+</td>\n",
       "      <td>junction:chr17:75212223-75212274:+</td>\n",
       "      <td>junction:chr17:75212018-75212274:+|junction:chr17:75212158-75212157:+</td>\n",
       "    </tr>\n",
       "    <tr>\n",
       "      <th>4</th>\n",
       "      <td>isoform1=junction:chr5:180668640-180670691:-@exon:chr5:180668492-180668639:-@junction:chr5:180666583-180668491:-|isoform2=junction:chr5:180669235-180670691:-@novel_exon:chr5:180669170-180669234:-@junction:chr5:180666583-180669169:-</td>\n",
       "      <td>junction:chr5:180669235-180670691:-</td>\n",
       "      <td>junction:chr5:180668640-180670691:-</td>\n",
       "      <td>junction:chr5:180666583-180669169:-</td>\n",
       "      <td>junction:chr5:180666583-180668491:-</td>\n",
       "      <td>junction:chr5:180666583-180670691:-|junction:chr5:180668640-180669169:-</td>\n",
       "    </tr>\n",
       "  </tbody>\n",
       "</table>\n",
       "</div>"
      ],
      "text/plain": [
       "                                                                                                                                                                                                                                  event_id  \\\n",
       "0  isoform1=junction:chr17:75212018-75212222:+@novel_exon:chr17:75212223-75212300:+@junction:chr17:75212301-75212326:+|isoform2=junction:chr17:75212018-75212131:+@novel_exon:chr17:75212132-75212144:+@junction:chr17:75212145-75212326:+   \n",
       "1  isoform1=junction:chr17:75212018-75212222:+@novel_exon:chr17:75212223-75212287:+@junction:chr17:75212288-75212326:+|isoform2=junction:chr17:75212018-75212079:+@novel_exon:chr17:75212080-75212144:+@junction:chr17:75212145-75212326:+   \n",
       "2  isoform1=junction:chr17:75212080-75212209:+@novel_exon:chr17:75212210-75212300:+@junction:chr17:75212301-75212378:+|isoform2=junction:chr17:75212080-75212170:+@novel_exon:chr17:75212171-75212209:+@junction:chr17:75212210-75212378:+   \n",
       "3  isoform1=junction:chr17:75212018-75212157:+@novel_exon:chr17:75212158-75212222:+@junction:chr17:75212223-75212274:+|isoform2=junction:chr17:75212018-75212131:+@novel_exon:chr17:75212132-75212157:+@junction:chr17:75212158-75212274:+   \n",
       "4  isoform1=junction:chr5:180668640-180670691:-@exon:chr5:180668492-180668639:-@junction:chr5:180666583-180668491:-|isoform2=junction:chr5:180669235-180670691:-@novel_exon:chr5:180669170-180669234:-@junction:chr5:180666583-180669169:-   \n",
       "\n",
       "                            junction12                           junction13  \\\n",
       "0   junction:chr17:75212018-75212131:+   junction:chr17:75212018-75212222:+   \n",
       "1   junction:chr17:75212018-75212079:+   junction:chr17:75212018-75212222:+   \n",
       "2   junction:chr17:75212080-75212170:+   junction:chr17:75212080-75212209:+   \n",
       "3   junction:chr17:75212018-75212131:+   junction:chr17:75212018-75212157:+   \n",
       "4  junction:chr5:180669235-180670691:-  junction:chr5:180668640-180670691:-   \n",
       "\n",
       "                            junction24                           junction34  \\\n",
       "0   junction:chr17:75212145-75212326:+   junction:chr17:75212301-75212326:+   \n",
       "1   junction:chr17:75212145-75212326:+   junction:chr17:75212288-75212326:+   \n",
       "2   junction:chr17:75212210-75212378:+   junction:chr17:75212301-75212378:+   \n",
       "3   junction:chr17:75212158-75212274:+   junction:chr17:75212223-75212274:+   \n",
       "4  junction:chr5:180666583-180669169:-  junction:chr5:180666583-180668491:-   \n",
       "\n",
       "                                                    incompatible_junctions  \n",
       "0    junction:chr17:75212018-75212326:+|junction:chr17:75212145-75212222:+  \n",
       "1    junction:chr17:75212018-75212326:+|junction:chr17:75212145-75212222:+  \n",
       "2    junction:chr17:75212080-75212378:+|junction:chr17:75212210-75212209:+  \n",
       "3    junction:chr17:75212018-75212274:+|junction:chr17:75212158-75212157:+  \n",
       "4  junction:chr5:180666583-180670691:-|junction:chr5:180668640-180669169:-  "
      ]
     },
     "execution_count": 30,
     "metadata": {},
     "output_type": "execute_result"
    }
   ],
   "source": [
    "mxe_events = pd.concat([mxe_bed['event_id'].to_frame(), mxe_junctions, incompatible_junctions.to_frame()], axis=1)\n",
    "print(mxe_events.shape)\n",
    "mxe_events.head()"
   ]
  },
  {
   "cell_type": "code",
   "execution_count": 33,
   "metadata": {
    "collapsed": true
   },
   "outputs": [],
   "source": [
    "mxe_events.to_csv('/home/obotvinnik/projects/singlecell_pnms/analysis/outrigger_v2/index/mxe/events.csv', index=False)"
   ]
  },
  {
   "cell_type": "code",
   "execution_count": null,
   "metadata": {
    "collapsed": true
   },
   "outputs": [],
   "source": []
  }
 ],
 "metadata": {
  "kernelspec": {
   "display_name": "Python 2",
   "language": "python",
   "name": "python2"
  },
  "language_info": {
   "codemirror_mode": {
    "name": "ipython",
    "version": 2
   },
   "file_extension": ".py",
   "mimetype": "text/x-python",
   "name": "python",
   "nbconvert_exporter": "python",
   "pygments_lexer": "ipython2",
   "version": "2.7.11"
  }
 },
 "nbformat": 4,
 "nbformat_minor": 0
}
