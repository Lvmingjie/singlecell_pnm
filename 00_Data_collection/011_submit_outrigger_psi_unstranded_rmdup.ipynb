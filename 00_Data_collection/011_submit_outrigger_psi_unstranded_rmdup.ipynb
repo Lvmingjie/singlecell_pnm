{
 "cells": [
  {
   "cell_type": "code",
   "execution_count": 17,
   "metadata": {
    "collapsed": false
   },
   "outputs": [
    {
     "name": "stdout",
     "output_type": "stream",
     "text": [
      "source activate outrigger_strandedness\n",
      "cd /home/obotvinnik/projects/singlecell_pnms/analysis\n",
      "time outrigger psi --output outrigger_v2_rmdup_unstranded --index outrigger_v2/index --junction-reads-csv outrigger_v2_rmdup/junctions/reads.csv --low-memory\n"
     ]
    }
   ],
   "source": [
    "from __future__ import print_function\n",
    "\n",
    "commands = ['source activate outrigger_strandedness',\n",
    "            'cd /home/obotvinnik/projects/singlecell_pnms/analysis',\n",
    "            'time outrigger psi --output outrigger_v2_rmdup_unstranded --index outrigger_v2/index '\n",
    "            '--junction-reads-csv outrigger_v2_rmdup/junctions/reads.csv --low-memory'\n",
    "           ]\n",
    "\n",
    "for command in commands:\n",
    "    print(command)"
   ]
  },
  {
   "cell_type": "code",
   "execution_count": 18,
   "metadata": {
    "collapsed": false
   },
   "outputs": [
    {
     "name": "stdout",
     "output_type": "stream",
     "text": [
      "/oasis/tscc/scratch/obotvinnik/projects/singlecell_pnms/analysis\n"
     ]
    }
   ],
   "source": [
    "cd /home/obotvinnik/projects/singlecell_pnms/analysis/"
   ]
  },
  {
   "cell_type": "code",
   "execution_count": 19,
   "metadata": {
    "collapsed": false
   },
   "outputs": [
    {
     "name": "stdout",
     "output_type": "stream",
     "text": [
      "-rw-r--r-- 1 obotvinnik yeo-group 984M Dec 15 10:48 outrigger_v2/junctions/reads.csv\r\n",
      "-rw-r--r-- 1 obotvinnik yeo-group 1.1G Jan  4 18:45 outrigger_v2_bam/junctions/reads.csv\r\n",
      "-rw-r--r-- 1 obotvinnik yeo-group 3.5K Jan  7 10:07 outrigger_v2_pkm/junctions/reads.csv\r\n",
      "-rw-r--r-- 1 obotvinnik yeo-group 1.1G Jan  3 19:02 outrigger_v2_rmdup/junctions/reads.csv\r\n"
     ]
    }
   ],
   "source": [
    "! ls -lh outrigger*/junctions/reads.csv"
   ]
  },
  {
   "cell_type": "code",
   "execution_count": 20,
   "metadata": {
    "collapsed": false
   },
   "outputs": [
    {
     "name": "stdout",
     "output_type": "stream",
     "text": [
      "\u001b[0m\u001b[01;34mjunctions\u001b[0m/  \u001b[01;34mpsi\u001b[0m/\r\n",
      "\u001b[m"
     ]
    }
   ],
   "source": [
    "ls /home/obotvinnik/projects/singlecell_pnms/analysis/outrigger_v2_rmdup/"
   ]
  },
  {
   "cell_type": "code",
   "execution_count": 21,
   "metadata": {
    "collapsed": true
   },
   "outputs": [],
   "source": [
    "project = 'singlecell_pnms'"
   ]
  },
  {
   "cell_type": "code",
   "execution_count": 22,
   "metadata": {
    "collapsed": false
   },
   "outputs": [
    {
     "name": "stdout",
     "output_type": "stream",
     "text": [
      "/home/obotvinnik/processing_scripts/singlecell_pnms\n"
     ]
    }
   ],
   "source": [
    "cd ~/projects/$project/scripts"
   ]
  },
  {
   "cell_type": "code",
   "execution_count": 23,
   "metadata": {
    "collapsed": false
   },
   "outputs": [
    {
     "name": "stderr",
     "output_type": "stream",
     "text": [
      "Wrote commands to singlecell_pnms_outrigger_psi_unstranded_rmdup.sh.\n",
      "Submitted script to queue home-yeo.\n",
      " Job ID: 7397291\n"
     ]
    },
    {
     "data": {
      "text/plain": [
       "<qtools.submitter.Submitter at 0x2aba5c32fcd0>"
      ]
     },
     "execution_count": 23,
     "metadata": {},
     "output_type": "execute_result"
    }
   ],
   "source": [
    "import qtools\n",
    "\n",
    "job_name = 'singlecell_pnms_outrigger_psi_unstranded_rmdup'\n",
    "qtools.Submitter(commands, job_name, ppn=12, walltime='20:00:00', queue='home-yeo')"
   ]
  },
  {
   "cell_type": "code",
   "execution_count": 13,
   "metadata": {
    "collapsed": false
   },
   "outputs": [
    {
     "name": "stdout",
     "output_type": "stream",
     "text": [
      "==> singlecell_pnms_outrigger_psi_unstranded_rmdup.sh <==\r\n",
      "#PBS -l nodes=1:ppn=12\r\n",
      "#PBS -A yeo-group\r\n",
      "#PBS -q home-yeo\r\n",
      "\r\n",
      "# Go to the directory from which the script was called\r\n",
      "cd $PBS_O_WORKDIR\r\n",
      "source activate outrigger_strandedness\r\n",
      "cd /home/obotvinnik/projects/singlecell_pnms/analysis\r\n",
      "time outrigger psi --output outrigger_v2_rmdup_unstranded --index outrigger_v2/index --junction-reads-csv outrigger_v2_rmdup/junctions/reads.csv\r\n",
      "\r\n",
      "\r\n",
      "==> singlecell_pnms_outrigger_psi_unstranded_rmdup.sh.err <==\r\n",
      "    data = self._reader.read(nrows)\r\n",
      "  File \"pandas/parser.pyx\", line 851, in pandas.parser.TextReader.read (pandas/parser.c:10438)\r\n",
      "  File \"pandas/parser.pyx\", line 939, in pandas.parser.TextReader._read_rows (pandas/parser.c:11607)\r\n",
      "  File \"pandas/parser.pyx\", line 2024, in pandas.parser.raise_parser_error (pandas/parser.c:27037)\r\n",
      "pandas.io.common.CParserError: Error tokenizing data. C error: out of memory\r\n",
      "/var/spool/torque/mom_priv/jobs/7397283.tscc-mgr.local.SC: line 15: 18901 Segmentation fault      outrigger psi --output outrigger_v2_rmdup_unstranded --index outrigger_v2/index --junction-reads-csv outrigger_v2_rmdup/junctions/reads.csv\r\n",
      "\r\n",
      "real\t0m13.333s\r\n",
      "user\t0m8.798s\r\n",
      "sys\t0m2.502s\r\n",
      "\r\n",
      "==> singlecell_pnms_outrigger_psi_unstranded_rmdup.sh.out <==\r\n",
      "2017-01-08 09:54:17\tCreating folder outrigger_v2_rmdup_unstranded ...\r\n",
      "2017-01-08 09:54:17\t\tDone.\r\n",
      "2017-01-08 09:54:17\tCreating folder outrigger_v2_rmdup_unstranded/psi ...\r\n",
      "2017-01-08 09:54:17\t\tDone.\r\n",
      "2017-01-08 09:54:17\tFound compiled junction reads file in outrigger_v2_rmdup/junctions/reads.csv and reading it in ...\r\n",
      "Nodes:        tscc-1-43\r\n"
     ]
    }
   ],
   "source": [
    "! tail $job_name*"
   ]
  },
  {
   "cell_type": "code",
   "execution_count": 18,
   "metadata": {
    "collapsed": false
   },
   "outputs": [
    {
     "data": {
      "text/plain": [
       "16"
      ]
     },
     "execution_count": 18,
     "metadata": {},
     "output_type": "execute_result"
    }
   ],
   "source": [
    "980/60"
   ]
  },
  {
   "cell_type": "code",
   "execution_count": 4,
   "metadata": {
    "collapsed": false
   },
   "outputs": [
    {
     "data": {
      "text/plain": [
       "16.666666666666668"
      ]
     },
     "execution_count": 4,
     "metadata": {},
     "output_type": "execute_result"
    }
   ],
   "source": [
    "\n",
    "1000/60."
   ]
  },
  {
   "cell_type": "code",
   "execution_count": null,
   "metadata": {
    "collapsed": true
   },
   "outputs": [],
   "source": []
  }
 ],
 "metadata": {
  "kernelspec": {
   "display_name": "Python 2",
   "language": "python",
   "name": "python2"
  },
  "language_info": {
   "codemirror_mode": {
    "name": "ipython",
    "version": 2
   },
   "file_extension": ".py",
   "mimetype": "text/x-python",
   "name": "python",
   "nbconvert_exporter": "python",
   "pygments_lexer": "ipython2",
   "version": "2.7.11"
  }
 },
 "nbformat": 4,
 "nbformat_minor": 0
}
