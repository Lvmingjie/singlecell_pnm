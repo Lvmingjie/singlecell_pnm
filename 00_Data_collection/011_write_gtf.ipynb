{
 "cells": [
  {
   "cell_type": "code",
   "execution_count": 2,
   "metadata": {
    "collapsed": false
   },
   "outputs": [
    {
     "data": {
      "text/plain": [
       "[0, 1, 2]"
      ]
     },
     "execution_count": 2,
     "metadata": {},
     "output_type": "execute_result"
    }
   ],
   "source": [
    "range(3)"
   ]
  },
  {
   "cell_type": "code",
   "execution_count": 3,
   "metadata": {
    "collapsed": true
   },
   "outputs": [],
   "source": [
    "outrigger_folder = '/home/obotvinnik/projects/singlecell_pnms/analysis/outrigger_v2'"
   ]
  },
  {
   "cell_type": "code",
   "execution_count": 4,
   "metadata": {
    "collapsed": false
   },
   "outputs": [
    {
     "name": "stdout",
     "output_type": "stream",
     "text": [
      "gencode.v19.annotation.gtf     gencode.v19.annotation.sorted.gtf\r\n",
      "gencode.v19.annotation.gtf.db  novel_exons.gtf\r\n"
     ]
    }
   ],
   "source": [
    "ls $outrigger_folder/index/gtf"
   ]
  },
  {
   "cell_type": "code",
   "execution_count": 5,
   "metadata": {
    "collapsed": true
   },
   "outputs": [],
   "source": [
    "gtf_db = '{}/index/gtf/gencode.v19.annotation.gtf.db'.format(outrigger_folder)"
   ]
  },
  {
   "cell_type": "code",
   "execution_count": 6,
   "metadata": {
    "collapsed": true
   },
   "outputs": [],
   "source": [
    "import gffutils"
   ]
  },
  {
   "cell_type": "code",
   "execution_count": 7,
   "metadata": {
    "collapsed": false
   },
   "outputs": [],
   "source": [
    "db = gffutils.FeatureDB(gtf_db)"
   ]
  },
  {
   "cell_type": "code",
   "execution_count": 8,
   "metadata": {
    "collapsed": true
   },
   "outputs": [],
   "source": [
    "gtf = '{}/index/gtf/gencode.v19.annotation.gtf'.format(outrigger_folder)"
   ]
  },
  {
   "cell_type": "code",
   "execution_count": 9,
   "metadata": {
    "collapsed": false
   },
   "outputs": [],
   "source": [
    "with open(gtf, 'w') as f:\n",
    "    for feature in db.all_features():\n",
    "        f.write(str(feature) + '\\n')"
   ]
  },
  {
   "cell_type": "code",
   "execution_count": 10,
   "metadata": {
    "collapsed": false
   },
   "outputs": [
    {
     "name": "stdout",
     "output_type": "stream",
     "text": [
      "total 604M\r\n",
      "drwxr-xr-x 2 obotvinnik yeo-group  33K Dec 29 11:15 \u001b[0m\u001b[01;34m.\u001b[0m/\r\n",
      "drwxr-xr-x 5 obotvinnik yeo-group  33K Dec 22 04:02 \u001b[01;34m..\u001b[0m/\r\n",
      "-rw-r--r-- 1 obotvinnik yeo-group 675M Dec 29 12:05 gencode.v19.annotation.gtf\r\n",
      "-rw-r--r-- 1 obotvinnik yeo-group 1.8G Dec 20 13:53 gencode.v19.annotation.gtf.db\r\n",
      "-rw-r--r-- 1 obotvinnik yeo-group    0 Dec 29 11:23 gencode.v19.annotation.sorted.gtf\r\n",
      "-rw-r--r-- 1 obotvinnik yeo-group    0 Dec 20 15:50 novel_exons.gtf\r\n",
      "\u001b[m"
     ]
    }
   ],
   "source": [
    "ls -lha $outrigger_folder/index/gtf"
   ]
  },
  {
   "cell_type": "code",
   "execution_count": 11,
   "metadata": {
    "collapsed": false
   },
   "outputs": [
    {
     "name": "stdout",
     "output_type": "stream",
     "text": [
      "1375159 /home/obotvinnik/projects/singlecell_pnms/analysis/outrigger_v2/index/gtf/gencode.v19.annotation.gtf\r\n"
     ]
    }
   ],
   "source": [
    "! wc -l $gtf"
   ]
  },
  {
   "cell_type": "code",
   "execution_count": 13,
   "metadata": {
    "collapsed": false
   },
   "outputs": [
    {
     "name": "stdout",
     "output_type": "stream",
     "text": [
      "chr1\tHAVANA\tgene\t11869\t14412\t.\t+\t.\tgene_status \"KNOWN\"; havana_gene \"OTTHUMG00000000961.2\"; level \"2\"; transcript_status \"KNOWN\"; gene_id \"ENSG00000223972.4\"; transcript_id \"ENSG00000223972.4\"; transcript_name \"DDX11L1\"; gene_type \"pseudogene\"; transcript_type \"pseudogene\"; gene_name \"DDX11L1\";\r\n",
      "chr1\tHAVANA\ttranscript\t11869\t14409\t.\t+\t.\tgene_status \"KNOWN\"; havana_gene \"OTTHUMG00000000961.2\"; level \"2\"; transcript_name \"DDX11L1-002\"; transcript_status \"KNOWN\"; gene_id \"ENSG00000223972.4\"; tag \"basic\"; havana_transcript \"OTTHUMT00000362751.1\"; transcript_id \"ENST00000456328.2\"; gene_type \"pseudogene\"; transcript_type \"processed_transcript\"; gene_name \"DDX11L1\";\r\n"
     ]
    }
   ],
   "source": [
    "! head -n 2 $gtf"
   ]
  },
  {
   "cell_type": "code",
   "execution_count": 14,
   "metadata": {
    "collapsed": false
   },
   "outputs": [
    {
     "data": {
      "text/plain": [
       "'0.8.7.1'"
      ]
     },
     "execution_count": 14,
     "metadata": {},
     "output_type": "execute_result"
    }
   ],
   "source": [
    "db.version"
   ]
  },
  {
   "cell_type": "code",
   "execution_count": null,
   "metadata": {
    "collapsed": true
   },
   "outputs": [],
   "source": []
  }
 ],
 "metadata": {
  "kernelspec": {
   "display_name": "Python 2",
   "language": "python",
   "name": "python2"
  },
  "language_info": {
   "codemirror_mode": {
    "name": "ipython",
    "version": 2
   },
   "file_extension": ".py",
   "mimetype": "text/x-python",
   "name": "python",
   "nbconvert_exporter": "python",
   "pygments_lexer": "ipython2",
   "version": "2.7.11"
  }
 },
 "nbformat": 4,
 "nbformat_minor": 0
}
