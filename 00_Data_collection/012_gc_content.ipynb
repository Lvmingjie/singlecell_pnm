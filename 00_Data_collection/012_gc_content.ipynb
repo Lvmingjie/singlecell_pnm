{
 "cells": [
  {
   "cell_type": "code",
   "execution_count": 1,
   "metadata": {
    "collapsed": false
   },
   "outputs": [
    {
     "name": "stderr",
     "output_type": "stream",
     "text": [
      "/home/obotvinnik/anaconda/lib/python2.7/site-packages/matplotlib/__init__.py:810: UserWarning: Found matplotlib configuration in ~/.matplotlib/. To conform with the XDG base directory standard, this configuration location has been deprecated on Linux, and the new location is now /home/obotvinnik/.config/matplotlib/. Please move your configuration there to ensure that matplotlib will continue to find it in the future.\n",
      "  _get_xdg_config_dir())\n"
     ]
    }
   ],
   "source": [
    "import pandas as pd\n",
    "import pybedtools\n",
    "\n",
    "%load_ext autoreload\n",
    "%autoreload 2\n",
    "\n",
    "\n",
    "folder = '/projects/ps-yeolab/obotvinnik/singlecell_pnms'\n",
    "csv_folder = '{}/csvs_for_paper/'.format(folder)\n",
    "\n",
    "splicing_feature_folder = '{}/splicing_feature_data'.format(csv_folder)\n",
    "alternative_feature_folder = '{}/alternative'.format(splicing_feature_folder)\n",
    "constitutive_feature_folder = '{}/constitutive'.format(splicing_feature_folder)\n",
    "\n",
    "alt_exons_bedfile = '{}/exons.bed'.format(alternative_feature_folder)\n",
    "constitutive_bedfile = '{}/exons.bed'.format(constitutive_feature_folder)\n",
    "bedfiles = alt_exons_bedfile, constitutive_bedfile\n"
   ]
  },
  {
   "cell_type": "code",
   "execution_count": 2,
   "metadata": {
    "collapsed": true
   },
   "outputs": [],
   "source": [
    "! grep 'exon:chr10:102286732-102286831:-@exon:chr10:102286156-102286311:-@exon:chr10:102283497-102283686:-' $alt_exons_bedfile"
   ]
  },
  {
   "cell_type": "code",
   "execution_count": 3,
   "metadata": {
    "collapsed": false
   },
   "outputs": [
    {
     "name": "stdout",
     "output_type": "stream",
     "text": [
      "43903 /projects/ps-yeolab/obotvinnik/singlecell_pnms/csvs_for_paper//splicing_feature_data/alternative/exons.bed\r\n"
     ]
    }
   ],
   "source": [
    "! wc -l $alt_exons_bedfile"
   ]
  },
  {
   "cell_type": "code",
   "execution_count": 4,
   "metadata": {
    "collapsed": false
   },
   "outputs": [],
   "source": [
    "constitutive_bed = pybedtools.BedTool(constitutive_bedfile)\n",
    "names = [x.name for x in constitutive_bed]"
   ]
  },
  {
   "cell_type": "markdown",
   "metadata": {},
   "source": [
    "## Get GC content for each exon"
   ]
  },
  {
   "cell_type": "code",
   "execution_count": 5,
   "metadata": {
    "collapsed": true
   },
   "outputs": [],
   "source": [
    "\n",
    "hg19_fasta = '/projects/ps-yeolab/genomes/hg19/gencode/v19/GRCh37.p13.genome.fa'"
   ]
  },
  {
   "cell_type": "code",
   "execution_count": 6,
   "metadata": {
    "collapsed": false
   },
   "outputs": [
    {
     "name": "stdout",
     "output_type": "stream",
     "text": [
      "(5893, 6)\n"
     ]
    },
    {
     "data": {
      "text/html": [
       "<div>\n",
       "<table border=\"1\" class=\"dataframe\">\n",
       "  <thead>\n",
       "    <tr style=\"text-align: right;\">\n",
       "      <th></th>\n",
       "      <th>0</th>\n",
       "      <th>1</th>\n",
       "      <th>2</th>\n",
       "      <th>3</th>\n",
       "      <th>4</th>\n",
       "      <th>5</th>\n",
       "    </tr>\n",
       "  </thead>\n",
       "  <tbody>\n",
       "    <tr>\n",
       "      <th>0</th>\n",
       "      <td>chr10</td>\n",
       "      <td>102039881</td>\n",
       "      <td>102039986</td>\n",
       "      <td>exon:chr10:102039881-102039985:-</td>\n",
       "      <td>1000</td>\n",
       "      <td>-</td>\n",
       "    </tr>\n",
       "    <tr>\n",
       "      <th>1</th>\n",
       "      <td>chr10</td>\n",
       "      <td>102040691</td>\n",
       "      <td>102040811</td>\n",
       "      <td>exon:chr10:102040691-102040810:-</td>\n",
       "      <td>1000</td>\n",
       "      <td>-</td>\n",
       "    </tr>\n",
       "    <tr>\n",
       "      <th>2</th>\n",
       "      <td>chr10</td>\n",
       "      <td>102045854</td>\n",
       "      <td>102045971</td>\n",
       "      <td>exon:chr10:102045854-102045970:-</td>\n",
       "      <td>1000</td>\n",
       "      <td>-</td>\n",
       "    </tr>\n",
       "    <tr>\n",
       "      <th>3</th>\n",
       "      <td>chr10</td>\n",
       "      <td>102286732</td>\n",
       "      <td>102286832</td>\n",
       "      <td>exon:chr10:102286732-102286831:-</td>\n",
       "      <td>1000</td>\n",
       "      <td>-</td>\n",
       "    </tr>\n",
       "    <tr>\n",
       "      <th>4</th>\n",
       "      <td>chr10</td>\n",
       "      <td>102289123</td>\n",
       "      <td>102289264</td>\n",
       "      <td>exon:chr10:102289123-102289263:-</td>\n",
       "      <td>1000</td>\n",
       "      <td>-</td>\n",
       "    </tr>\n",
       "  </tbody>\n",
       "</table>\n",
       "</div>"
      ],
      "text/plain": [
       "       0          1          2                                 3     4  5\n",
       "0  chr10  102039881  102039986  exon:chr10:102039881-102039985:-  1000  -\n",
       "1  chr10  102040691  102040811  exon:chr10:102040691-102040810:-  1000  -\n",
       "2  chr10  102045854  102045971  exon:chr10:102045854-102045970:-  1000  -\n",
       "3  chr10  102286732  102286832  exon:chr10:102286732-102286831:-  1000  -\n",
       "4  chr10  102289123  102289264  exon:chr10:102289123-102289263:-  1000  -"
      ]
     },
     "execution_count": 6,
     "metadata": {},
     "output_type": "execute_result"
    }
   ],
   "source": [
    "constitutive_df = pd.read_table(constitutive_bedfile, header=None)\n",
    "constitutive_df[2] += 1\n",
    "constitutive_df.to_csv('{}/exons_stop_plus1.bed'.format(constitutive_feature_folder), sep='\\t', index=False, header=False)\n",
    "print(constitutive_df.shape)\n",
    "constitutive_df.head()"
   ]
  },
  {
   "cell_type": "code",
   "execution_count": 7,
   "metadata": {
    "collapsed": false
   },
   "outputs": [
    {
     "name": "stdout",
     "output_type": "stream",
     "text": [
      "(43903, 6)\n"
     ]
    },
    {
     "data": {
      "text/html": [
       "<div>\n",
       "<table border=\"1\" class=\"dataframe\">\n",
       "  <thead>\n",
       "    <tr style=\"text-align: right;\">\n",
       "      <th></th>\n",
       "      <th>0</th>\n",
       "      <th>1</th>\n",
       "      <th>2</th>\n",
       "      <th>3</th>\n",
       "      <th>4</th>\n",
       "      <th>5</th>\n",
       "    </tr>\n",
       "  </thead>\n",
       "  <tbody>\n",
       "    <tr>\n",
       "      <th>0</th>\n",
       "      <td>chr10</td>\n",
       "      <td>101997779</td>\n",
       "      <td>101997989</td>\n",
       "      <td>exon:chr10:102003455-102003534:-@exon:chr10:10...</td>\n",
       "      <td>1000</td>\n",
       "      <td>-</td>\n",
       "    </tr>\n",
       "    <tr>\n",
       "      <th>1</th>\n",
       "      <td>chr10</td>\n",
       "      <td>102010005</td>\n",
       "      <td>102010090</td>\n",
       "      <td>exon:chr10:102013178-102013296:-@exon:chr10:10...</td>\n",
       "      <td>1000</td>\n",
       "      <td>-</td>\n",
       "    </tr>\n",
       "    <tr>\n",
       "      <th>2</th>\n",
       "      <td>chr10</td>\n",
       "      <td>102019975</td>\n",
       "      <td>102020077</td>\n",
       "      <td>exon:chr10:102020723-102020801:-@exon:chr10:10...</td>\n",
       "      <td>1000</td>\n",
       "      <td>-</td>\n",
       "    </tr>\n",
       "    <tr>\n",
       "      <th>3</th>\n",
       "      <td>chr10</td>\n",
       "      <td>102019975</td>\n",
       "      <td>102020077</td>\n",
       "      <td>exon:chr10:102021736-102021820:-@exon:chr10:10...</td>\n",
       "      <td>1000</td>\n",
       "      <td>-</td>\n",
       "    </tr>\n",
       "    <tr>\n",
       "      <th>4</th>\n",
       "      <td>chr10</td>\n",
       "      <td>102020723</td>\n",
       "      <td>102020786</td>\n",
       "      <td>exon:chr10:102021736-102021820:-@exon:chr10:10...</td>\n",
       "      <td>1000</td>\n",
       "      <td>-</td>\n",
       "    </tr>\n",
       "  </tbody>\n",
       "</table>\n",
       "</div>"
      ],
      "text/plain": [
       "       0          1          2  \\\n",
       "0  chr10  101997779  101997989   \n",
       "1  chr10  102010005  102010090   \n",
       "2  chr10  102019975  102020077   \n",
       "3  chr10  102019975  102020077   \n",
       "4  chr10  102020723  102020786   \n",
       "\n",
       "                                                   3     4  5  \n",
       "0  exon:chr10:102003455-102003534:-@exon:chr10:10...  1000  -  \n",
       "1  exon:chr10:102013178-102013296:-@exon:chr10:10...  1000  -  \n",
       "2  exon:chr10:102020723-102020801:-@exon:chr10:10...  1000  -  \n",
       "3  exon:chr10:102021736-102021820:-@exon:chr10:10...  1000  -  \n",
       "4  exon:chr10:102021736-102021820:-@exon:chr10:10...  1000  -  "
      ]
     },
     "execution_count": 7,
     "metadata": {},
     "output_type": "execute_result"
    }
   ],
   "source": [
    "alt_exons_df = pd.read_table(alt_exons_bedfile, header=None)\n",
    "alt_exons_df.head()\n",
    "alt_exons_df[2] += 1\n",
    "alt_exons_df.to_csv('{}/exons_stop_plus1.bed'.format(alternative_feature_folder), sep='\\t', index=False, header=False)\n",
    "print(alt_exons_df.shape)\n",
    "alt_exons_df.head()\n",
    "# alt_exons = pybedtools.BedTool(alt_exons_bedfile)\n",
    "\n",
    "# exon2_seq = alt_exons.sequence(fi=hg19_fasta)\n",
    "# exon2_seq"
   ]
  },
  {
   "cell_type": "code",
   "execution_count": 8,
   "metadata": {
    "collapsed": false
   },
   "outputs": [],
   "source": [
    "filename = '{}/exons_stop_plus1.bed'.format(alternative_feature_folder)"
   ]
  },
  {
   "cell_type": "code",
   "execution_count": 9,
   "metadata": {
    "collapsed": false
   },
   "outputs": [
    {
     "name": "stdout",
     "output_type": "stream",
     "text": [
      "chr10\t101997779\t101997989\texon:chr10:102003455-102003534:-@exon:chr10:101997779-101997988:-@exon:chr10:101996607-101996726:-@exon:chr10:101995424-101995521:-\t1000\t-\r\n",
      "chr10\t102010005\t102010090\texon:chr10:102013178-102013296:-@exon:chr10:102010005-102010089:-@exon:chr10:102003455-102003534:-@exon:chr10:101997940-101997988:-\t1000\t-\r\n",
      "chr10\t102019975\t102020077\texon:chr10:102020723-102020801:-@exon:chr10:102019975-102020076:-@exon:chr10:102016019-102016233:-@exon:chr10:102013178-102013296:-\t1000\t-\r\n",
      "chr10\t102019975\t102020077\texon:chr10:102021736-102021820:-@exon:chr10:102019975-102020076:-@exon:chr10:102016019-102016233:-@exon:chr10:102013178-102013296:-\t1000\t-\r\n",
      "chr10\t102020723\t102020786\texon:chr10:102021736-102021820:-@exon:chr10:102020723-102020785:-@exon:chr10:102016019-102016233:-@exon:chr10:102013178-102013296:-\t1000\t-\r\n",
      "chr10\t102020723\t102020802\texon:chr10:102021736-102021820:-@exon:chr10:102020723-102020801:-@exon:chr10:102016019-102016233:-@exon:chr10:102013178-102013296:-\t1000\t-\r\n",
      "chr10\t102020723\t102020802\texon:chr10:102021736-102021820:-@exon:chr10:102020723-102020801:-@exon:chr10:102019975-102020076:-@exon:chr10:102013178-102013296:-\t1000\t-\r\n",
      "chr10\t102703783\t102703886\texon:chr10:102698352-102698493:+@exon:chr10:102703783-102703885:+@exon:chr10:102705087-102705263:+@exon:chr10:102706796-102706893:+\t1000\t+\r\n",
      "chr10\t102746444\t102746733\texon:chr10:102746847-102746953:-@exon:chr10:102746444-102746732:-@exon:chr10:102743705-102743831:-@exon:chr10:102743512-102743574:-\t1000\t-\r\n",
      "chr10\t102746506\t102746733\texon:chr10:102746847-102746953:-@exon:chr10:102746506-102746732:-@exon:chr10:102743705-102743831:-@exon:chr10:102743512-102743574:-\t1000\t-\r\n"
     ]
    }
   ],
   "source": [
    "! head $filename"
   ]
  },
  {
   "cell_type": "code",
   "execution_count": 10,
   "metadata": {
    "collapsed": true
   },
   "outputs": [],
   "source": [
    "from Bio import SeqIO\n",
    "from Bio.SeqUtils import GC"
   ]
  },
  {
   "cell_type": "code",
   "execution_count": 11,
   "metadata": {
    "collapsed": false
   },
   "outputs": [
    {
     "name": "stdout",
     "output_type": "stream",
     "text": [
      "(43903,)\n"
     ]
    },
    {
     "data": {
      "text/plain": [
       "3\n",
       "exon:chr10:102003455-102003534:-@exon:chr10:101997779-101997988:-@exon:chr10:101996607-101996726:-@exon:chr10:101995424-101995521:-    48.571429\n",
       "exon:chr10:102013178-102013296:-@exon:chr10:102010005-102010089:-@exon:chr10:102003455-102003534:-@exon:chr10:101997940-101997988:-    40.000000\n",
       "exon:chr10:102020723-102020801:-@exon:chr10:102019975-102020076:-@exon:chr10:102016019-102016233:-@exon:chr10:102013178-102013296:-    37.254902\n",
       "exon:chr10:102021736-102021820:-@exon:chr10:102019975-102020076:-@exon:chr10:102016019-102016233:-@exon:chr10:102013178-102013296:-    37.254902\n",
       "exon:chr10:102021736-102021820:-@exon:chr10:102020723-102020785:-@exon:chr10:102016019-102016233:-@exon:chr10:102013178-102013296:-    44.444444\n",
       "Name: exon2_gc_content, dtype: float64"
      ]
     },
     "execution_count": 11,
     "metadata": {},
     "output_type": "execute_result"
    }
   ],
   "source": [
    "alt_exons = pybedtools.BedTool('{}/exons_stop_plus1.bed'.format(alternative_feature_folder))\n",
    "\n",
    "exon2_seq = alt_exons.sequence(fi=hg19_fasta)\n",
    "\n",
    "\n",
    "with open(exon2_seq.seqfn) as f:\n",
    "    records = SeqIO.parse(f, 'fasta')\n",
    "    records = pd.Series([str(x.seq) for x in records], index=alt_exons_df[3])\n",
    "exon2_gc = records.apply(GC)\n",
    "exon2_gc.name = 'exon2_gc_content'\n",
    "print(exon2_gc.shape)\n",
    "exon2_gc.head()"
   ]
  },
  {
   "cell_type": "code",
   "execution_count": 12,
   "metadata": {
    "collapsed": false
   },
   "outputs": [
    {
     "data": {
      "text/plain": [
       "(43903,)"
      ]
     },
     "execution_count": 12,
     "metadata": {},
     "output_type": "execute_result"
    }
   ],
   "source": [
    "exon2_gc.shape"
   ]
  },
  {
   "cell_type": "code",
   "execution_count": 13,
   "metadata": {
    "collapsed": false
   },
   "outputs": [
    {
     "name": "stdout",
     "output_type": "stream",
     "text": [
      "(5893,)\n"
     ]
    },
    {
     "data": {
      "text/plain": [
       "3\n",
       "exon:chr10:102039881-102039985:-    44.761905\n",
       "exon:chr10:102040691-102040810:-    34.166667\n",
       "exon:chr10:102045854-102045970:-    57.264957\n",
       "exon:chr10:102286732-102286831:-    60.000000\n",
       "exon:chr10:102289123-102289263:-    58.156028\n",
       "Name: gc_content, dtype: float64"
      ]
     },
     "execution_count": 13,
     "metadata": {},
     "output_type": "execute_result"
    }
   ],
   "source": [
    "constitutive_exons = pybedtools.BedTool('{}/exons_stop_plus1.bed'.format(constitutive_feature_folder))\n",
    " \n",
    "constitutive_seq = constitutive_exons.sequence(fi=hg19_fasta)\n",
    "\n",
    "\n",
    "with open(constitutive_seq.seqfn) as f:\n",
    "    records = SeqIO.parse(f, 'fasta')\n",
    "    records = pd.Series([str(x.seq) for x in records], index=constitutive_df[3])\n",
    "constitutive_gc = records.apply(GC)\n",
    "constitutive_gc.name = 'gc_content'\n",
    "print(constitutive_gc.shape)\n",
    "constitutive_gc.head()"
   ]
  },
  {
   "cell_type": "code",
   "execution_count": 14,
   "metadata": {
    "collapsed": true
   },
   "outputs": [],
   "source": [
    "csv = 'gc_content.csv'"
   ]
  },
  {
   "cell_type": "code",
   "execution_count": 15,
   "metadata": {
    "collapsed": false
   },
   "outputs": [],
   "source": [
    "constitutive_gc.to_csv('{}/{}'.format(constitutive_feature_folder, csv))"
   ]
  },
  {
   "cell_type": "code",
   "execution_count": 16,
   "metadata": {
    "collapsed": true
   },
   "outputs": [],
   "source": [
    "exon2_gc.to_csv('{}/{}'.format(alternative_feature_folder, csv))"
   ]
  },
  {
   "cell_type": "code",
   "execution_count": 17,
   "metadata": {
    "collapsed": false
   },
   "outputs": [],
   "source": [
    "# if constitutive_gc.name not in constitutive_feature_data:\n",
    "#     constitutive_feature_data = constitutive_feature_data.join(constitutive_gc)\n",
    "# constitutive_feature_data.to_csv('{}/constitutive_feature_data.csv'.format(csv_folder))"
   ]
  },
  {
   "cell_type": "code",
   "execution_count": 18,
   "metadata": {
    "collapsed": false
   },
   "outputs": [],
   "source": [
    "# if exon2_gc.name not in splicing_feature_data:\n",
    "#     splicing_feature_data = splicing_feature_data.join(exon2_gc)"
   ]
  },
  {
   "cell_type": "code",
   "execution_count": 19,
   "metadata": {
    "collapsed": true
   },
   "outputs": [],
   "source": [
    "# splicing_feature_data.to_csv('{}/splicing_feature_data.csv'.format(csv_folder))"
   ]
  },
  {
   "cell_type": "code",
   "execution_count": null,
   "metadata": {
    "collapsed": true
   },
   "outputs": [],
   "source": []
  }
 ],
 "metadata": {
  "kernelspec": {
   "display_name": "Python 2",
   "language": "python",
   "name": "python2"
  },
  "language_info": {
   "codemirror_mode": {
    "name": "ipython",
    "version": 2
   },
   "file_extension": ".py",
   "mimetype": "text/x-python",
   "name": "python",
   "nbconvert_exporter": "python",
   "pygments_lexer": "ipython2",
   "version": "2.7.11"
  }
 },
 "nbformat": 4,
 "nbformat_minor": 0
}
