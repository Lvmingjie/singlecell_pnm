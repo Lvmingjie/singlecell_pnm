{
 "cells": [
  {
   "cell_type": "code",
   "execution_count": 42,
   "metadata": {
    "collapsed": true
   },
   "outputs": [],
   "source": [
    "outrigger_folder = '/home/obotvinnik/projects/singlecell_pnms/analysis/outrigger_v2'"
   ]
  },
  {
   "cell_type": "code",
   "execution_count": 43,
   "metadata": {
    "collapsed": false
   },
   "outputs": [
    {
     "name": "stdout",
     "output_type": "stream",
     "text": [
      "gencode.v19.annotation.gene.gtf  gencode.v19.annotation.sorted.gtf\r\n",
      "gencode.v19.annotation.gtf       novel_exons.gtf\r\n",
      "gencode.v19.annotation.gtf.db\r\n"
     ]
    }
   ],
   "source": [
    "ls $outrigger_folder/index/gtf"
   ]
  },
  {
   "cell_type": "code",
   "execution_count": 44,
   "metadata": {
    "collapsed": true
   },
   "outputs": [],
   "source": [
    "gtf = '{}/index/gtf/gencode.v19.annotation.gtf'.format(outrigger_folder)"
   ]
  },
  {
   "cell_type": "code",
   "execution_count": 45,
   "metadata": {
    "collapsed": false
   },
   "outputs": [
    {
     "name": "stdout",
     "output_type": "stream",
     "text": [
      "total 609M\r\n",
      "drwxr-xr-x 2 obotvinnik yeo-group  33K Dec 29 14:57 \u001b[0m\u001b[01;34m.\u001b[0m/\r\n",
      "drwxr-xr-x 5 obotvinnik yeo-group  33K Dec 22 04:02 \u001b[01;34m..\u001b[0m/\r\n",
      "-rw-r--r-- 1 obotvinnik yeo-group    0 Dec 29 14:57 gencode.v19.annotation.gene.gtf\r\n",
      "-rw-r--r-- 1 obotvinnik yeo-group 675M Dec 29 12:05 gencode.v19.annotation.gtf\r\n",
      "-rw-r--r-- 1 obotvinnik yeo-group 1.8G Dec 20 13:53 gencode.v19.annotation.gtf.db\r\n",
      "-rw-r--r-- 1 obotvinnik yeo-group    0 Dec 29 11:23 gencode.v19.annotation.sorted.gtf\r\n",
      "-rw-r--r-- 1 obotvinnik yeo-group    0 Dec 20 15:50 novel_exons.gtf\r\n",
      "\u001b[m"
     ]
    }
   ],
   "source": [
    "ls -lha $outrigger_folder/index/gtf"
   ]
  },
  {
   "cell_type": "code",
   "execution_count": 46,
   "metadata": {
    "collapsed": false
   },
   "outputs": [
    {
     "name": "stdout",
     "output_type": "stream",
     "text": [
      "^C\r\n"
     ]
    }
   ],
   "source": [
    "! bedtools sort -h"
   ]
  },
  {
   "cell_type": "code",
   "execution_count": 47,
   "metadata": {
    "collapsed": false
   },
   "outputs": [],
   "source": [
    "# sorted_gtf = '{}/index/gtf/gencode.v19.annotation.sorted.gtf'.format(outrigger_folder)"
   ]
  },
  {
   "cell_type": "code",
   "execution_count": 48,
   "metadata": {
    "collapsed": true
   },
   "outputs": [],
   "source": [
    "# ! bedtools sort -i $gtf > $sorted_gtf"
   ]
  },
  {
   "cell_type": "code",
   "execution_count": 49,
   "metadata": {
    "collapsed": false
   },
   "outputs": [
    {
     "name": "stdout",
     "output_type": "stream",
     "text": [
      "total 609M\r\n",
      "drwxr-xr-x 2 obotvinnik yeo-group  33K Dec 29 14:57 \u001b[0m\u001b[01;34m.\u001b[0m/\r\n",
      "drwxr-xr-x 5 obotvinnik yeo-group  33K Dec 22 04:02 \u001b[01;34m..\u001b[0m/\r\n",
      "-rw-r--r-- 1 obotvinnik yeo-group    0 Dec 29 14:57 gencode.v19.annotation.gene.gtf\r\n",
      "-rw-r--r-- 1 obotvinnik yeo-group 675M Dec 29 12:05 gencode.v19.annotation.gtf\r\n",
      "-rw-r--r-- 1 obotvinnik yeo-group 1.8G Dec 20 13:53 gencode.v19.annotation.gtf.db\r\n",
      "-rw-r--r-- 1 obotvinnik yeo-group    0 Dec 29 11:23 gencode.v19.annotation.sorted.gtf\r\n",
      "-rw-r--r-- 1 obotvinnik yeo-group    0 Dec 20 15:50 novel_exons.gtf\r\n",
      "\u001b[m"
     ]
    }
   ],
   "source": [
    "ls -lha $outrigger_folder/index/gtf"
   ]
  },
  {
   "cell_type": "code",
   "execution_count": 23,
   "metadata": {
    "collapsed": true
   },
   "outputs": [],
   "source": [
    "to_sort = ! ls $outrigger_folder/index/*/*.bed"
   ]
  },
  {
   "cell_type": "code",
   "execution_count": 24,
   "metadata": {
    "collapsed": false
   },
   "outputs": [
    {
     "data": {
      "text/plain": [
       "['/home/obotvinnik/projects/singlecell_pnms/analysis/outrigger_v2/index/mxe/event.bed',\n",
       " '/home/obotvinnik/projects/singlecell_pnms/analysis/outrigger_v2/index/mxe/event.sorted.bed',\n",
       " '/home/obotvinnik/projects/singlecell_pnms/analysis/outrigger_v2/index/mxe/exon1.bed',\n",
       " '/home/obotvinnik/projects/singlecell_pnms/analysis/outrigger_v2/index/mxe/exon1.sorted.bed',\n",
       " '/home/obotvinnik/projects/singlecell_pnms/analysis/outrigger_v2/index/mxe/exon2.bed',\n",
       " '/home/obotvinnik/projects/singlecell_pnms/analysis/outrigger_v2/index/mxe/exon2.sorted.bed',\n",
       " '/home/obotvinnik/projects/singlecell_pnms/analysis/outrigger_v2/index/mxe/exon3.bed',\n",
       " '/home/obotvinnik/projects/singlecell_pnms/analysis/outrigger_v2/index/mxe/exon3.sorted.bed',\n",
       " '/home/obotvinnik/projects/singlecell_pnms/analysis/outrigger_v2/index/mxe/exon4.bed',\n",
       " '/home/obotvinnik/projects/singlecell_pnms/analysis/outrigger_v2/index/mxe/exon4.sorted.bed',\n",
       " '/home/obotvinnik/projects/singlecell_pnms/analysis/outrigger_v2/index/mxe/intron.bed',\n",
       " '/home/obotvinnik/projects/singlecell_pnms/analysis/outrigger_v2/index/mxe/intron.sorted.bed',\n",
       " '/home/obotvinnik/projects/singlecell_pnms/analysis/outrigger_v2/index/se/event.bed',\n",
       " '/home/obotvinnik/projects/singlecell_pnms/analysis/outrigger_v2/index/se/event.sorted.bed',\n",
       " '/home/obotvinnik/projects/singlecell_pnms/analysis/outrigger_v2/index/se/exon1.bed',\n",
       " '/home/obotvinnik/projects/singlecell_pnms/analysis/outrigger_v2/index/se/exon1.sorted.bed',\n",
       " '/home/obotvinnik/projects/singlecell_pnms/analysis/outrigger_v2/index/se/exon2.bed',\n",
       " '/home/obotvinnik/projects/singlecell_pnms/analysis/outrigger_v2/index/se/exon2.sorted.bed',\n",
       " '/home/obotvinnik/projects/singlecell_pnms/analysis/outrigger_v2/index/se/exon3.bed',\n",
       " '/home/obotvinnik/projects/singlecell_pnms/analysis/outrigger_v2/index/se/exon3.sorted.bed',\n",
       " '/home/obotvinnik/projects/singlecell_pnms/analysis/outrigger_v2/index/se/intron.bed',\n",
       " '/home/obotvinnik/projects/singlecell_pnms/analysis/outrigger_v2/index/se/intron.sorted.bed']"
      ]
     },
     "execution_count": 24,
     "metadata": {},
     "output_type": "execute_result"
    }
   ],
   "source": [
    "to_sort"
   ]
  },
  {
   "cell_type": "code",
   "execution_count": 25,
   "metadata": {
    "collapsed": true
   },
   "outputs": [],
   "source": [
    "from __future__ import print_function"
   ]
  },
  {
   "cell_type": "code",
   "execution_count": 26,
   "metadata": {
    "collapsed": false
   },
   "outputs": [
    {
     "name": "stdout",
     "output_type": "stream",
     "text": [
      "/home/obotvinnik/projects/singlecell_pnms/analysis/outrigger_v2/index/mxe/event.sorted.bed\n",
      "/home/obotvinnik/projects/singlecell_pnms/analysis/outrigger_v2/index/mxe/exon1.sorted.bed\n",
      "/home/obotvinnik/projects/singlecell_pnms/analysis/outrigger_v2/index/mxe/exon2.sorted.bed\n",
      "/home/obotvinnik/projects/singlecell_pnms/analysis/outrigger_v2/index/mxe/exon3.sorted.bed\n",
      "/home/obotvinnik/projects/singlecell_pnms/analysis/outrigger_v2/index/mxe/exon4.sorted.bed\n",
      "/home/obotvinnik/projects/singlecell_pnms/analysis/outrigger_v2/index/mxe/intron.sorted.bed\n",
      "/home/obotvinnik/projects/singlecell_pnms/analysis/outrigger_v2/index/se/event.sorted.bed\n",
      "/home/obotvinnik/projects/singlecell_pnms/analysis/outrigger_v2/index/se/exon1.sorted.bed\n",
      "/home/obotvinnik/projects/singlecell_pnms/analysis/outrigger_v2/index/se/exon2.sorted.bed\n",
      "/home/obotvinnik/projects/singlecell_pnms/analysis/outrigger_v2/index/se/exon3.sorted.bed\n",
      "/home/obotvinnik/projects/singlecell_pnms/analysis/outrigger_v2/index/se/intron.sorted.bed\n"
     ]
    }
   ],
   "source": [
    "for bed in to_sort:\n",
    "    if bed.endswith('.sorted.bed'):\n",
    "        continue\n",
    "    sorted_bed = bed.replace('.bed', '.sorted.bed')\n",
    "    print(sorted_bed)\n",
    "    ! bedtools sort -i $bed > $sorted_bed"
   ]
  },
  {
   "cell_type": "code",
   "execution_count": 27,
   "metadata": {
    "collapsed": false
   },
   "outputs": [
    {
     "name": "stdout",
     "output_type": "stream",
     "text": [
      "-rw-r--r-- 1 obotvinnik yeo-group 81M Dec 29 14:52 /home/obotvinnik/projects/singlecell_pnms/analysis/outrigger_v2/index/mxe/event.sorted.bed\r\n",
      "-rw-r--r-- 1 obotvinnik yeo-group 36M Dec 29 14:52 /home/obotvinnik/projects/singlecell_pnms/analysis/outrigger_v2/index/se/event.sorted.bed\r\n"
     ]
    }
   ],
   "source": [
    "ls -lha $outrigger_folder/index/*/event.sorted.bed"
   ]
  },
  {
   "cell_type": "code",
   "execution_count": 28,
   "metadata": {
    "collapsed": true
   },
   "outputs": [],
   "source": [
    "sorted_bed = ! ls $outrigger_folder/index/*/event.sorted.bed"
   ]
  },
  {
   "cell_type": "code",
   "execution_count": 29,
   "metadata": {
    "collapsed": false
   },
   "outputs": [
    {
     "name": "stdout",
     "output_type": "stream",
     "text": [
      "\r\n",
      "Tool:    bedtools intersect (aka intersectBed)\r\n",
      "Version: v2.22.0-27-g6ae9016\r\n",
      "Summary: Report overlaps between two feature files.\r\n",
      "\r\n",
      "Usage:   bedtools intersect [OPTIONS] -a <bed/gff/vcf> -b <bed/gff/vcf>\r\n",
      "\r\n",
      "\t\tNote: -b may be followed with multiple databases and/or \r\n",
      "\t\twildcard (*) character(s). \r\n",
      "Options: \r\n",
      "\t-abam\tThe A input file is in BAM format.  Output will be BAM as well.\r\n",
      "\r\n",
      "\t-ubam\tWrite uncompressed BAM output. Default writes compressed BAM.\r\n",
      "\r\n",
      "\t-bed\tWhen using BAM input (-abam), write output as BED. The default\r\n",
      "\t\tis to write output in BAM when using -abam.\r\n",
      "\r\n",
      "\t-wa\tWrite the original entry in A for each overlap.\r\n",
      "\r\n",
      "\t-wb\tWrite the original entry in B for each overlap.\r\n",
      "\t\t- Useful for knowing _what_ A overlaps. Restricted by -f and -r.\r\n",
      "\r\n",
      "\t-loj\tPerform a \"left outer join\". That is, for each feature in A\r\n",
      "\t\treport each overlap with B.  If no overlaps are found, \r\n",
      "\t\treport a NULL feature for B.\r\n",
      "\r\n",
      "\t-wo\tWrite the original A and B entries plus the number of base\r\n",
      "\t\tpairs of overlap between the two features.\r\n",
      "\t\t- Overlaps restricted by -f and -r.\r\n",
      "\t\t  Only A features with overlap are reported.\r\n",
      "\r\n",
      "\t-wao\tWrite the original A and B entries plus the number of base\r\n",
      "\t\tpairs of overlap between the two features.\r\n",
      "\t\t- Overlapping features restricted by -f and -r.\r\n",
      "\t\t  However, A features w/o overlap are also reported\r\n",
      "\t\t  with a NULL B feature and overlap = 0.\r\n",
      "\r\n",
      "\t-u\tWrite the original A entry _once_ if _any_ overlaps found in B.\r\n",
      "\t\t- In other words, just report the fact >=1 hit was found.\r\n",
      "\t\t- Overlaps restricted by -f and -r.\r\n",
      "\r\n",
      "\t-c\tFor each entry in A, report the number of overlaps with B.\r\n",
      "\t\t- Reports 0 for A entries that have no overlap with B.\r\n",
      "\t\t- Overlaps restricted by -f and -r.\r\n",
      "\r\n",
      "\t-v\tOnly report those entries in A that have _no overlaps_ with B.\r\n",
      "\t\t- Similar to \"grep -v\" (an homage).\r\n",
      "\r\n",
      "\t-f\tMinimum overlap required as a fraction of A.\r\n",
      "\t\t- Default is 1E-9 (i.e., 1bp).\r\n",
      "\t\t- FLOAT (e.g. 0.50)\r\n",
      "\r\n",
      "\t-r\tRequire that the fraction overlap be reciprocal for A and B.\r\n",
      "\t\t- In other words, if -f is 0.90 and -r is used, this requires\r\n",
      "\t\t  that B overlap 90% of A and A _also_ overlaps 90% of B.\r\n",
      "\r\n",
      "\t-s\tRequire same strandedness.  That is, only report hits in B\r\n",
      "\t\tthat overlap A on the _same_ strand.\r\n",
      "\t\t- By default, overlaps are reported without respect to strand.\r\n",
      "\r\n",
      "\t-S\tRequire different strandedness.  That is, only report hits in B\r\n",
      "\t\tthat overlap A on the _opposite_ strand.\r\n",
      "\t\t- By default, overlaps are reported without respect to strand.\r\n",
      "\r\n",
      "\t-split\tTreat \"split\" BAM or BED12 entries as distinct BED intervals.\r\n",
      "\r\n",
      "\t-sorted\tUse the \"chromsweep\" algorithm for sorted (-k1,1 -k2,2n) input.\r\n",
      "\r\n",
      "\t-g\tProvide a genome file to enforce consistent chromosome sort order\r\n",
      "\t\tacross input files. Only applies when used with -sorted option.\r\n",
      "\r\n",
      "\t-header\tPrint the header from the A file prior to results.\r\n",
      "\r\n",
      "\t-nobuf\tDisable buffered output. Using this option will cause each line\r\n",
      "\t\tof output to be printed as it is generated, rather than saved\r\n",
      "\t\tin a buffer. This will make printing large output files \r\n",
      "\t\tnoticeably slower, but can be useful in conjunction with\r\n",
      "\t\tother software tools and scripts that need to process one\r\n",
      "\t\tline of bedtools output at a time.\r\n",
      "\r\n",
      "\t-names\tWhen using multiple databases, provide an alias for each that\r\n",
      "\t\twill appear instead of a fileId when also printing the DB record.\r\n",
      "\r\n",
      "\t-filenames\tWhen using multiple databases, show each complete filename\r\n",
      "\t\t\tinstead of a fileId when also printing the DB record.\r\n",
      "\r\n",
      "\t-sortout\tWhen using multiple databases, sort the output DB hits\r\n",
      "\t\t\tfor each record.\r\n",
      "\r\n",
      "\t-iobuf\tFollow with desired integer size of read buffer.\r\n",
      "\t\tOptional suffixes K/M/G supported.\r\n",
      "\t\tNote: currently has no effect with compressed files.\r\n",
      "\r\n",
      "Notes: \r\n",
      "\t(1) When a BAM file is used for the A file, the alignment is retained if overlaps exist,\r\n",
      "\tand exlcuded if an overlap cannot be found.  If multiple overlaps exist, they are not\r\n",
      "\treported, as we are only testing for one or more overlaps.\r\n",
      "\r\n"
     ]
    }
   ],
   "source": [
    "! bedtools intersect -h"
   ]
  },
  {
   "cell_type": "code",
   "execution_count": 38,
   "metadata": {
    "collapsed": false
   },
   "outputs": [
    {
     "data": {
      "text/plain": [
       "'/home/obotvinnik/projects/singlecell_pnms/analysis/outrigger_v2/index/gtf/gencode.v19.annotation.gene.gtf'"
      ]
     },
     "execution_count": 38,
     "metadata": {},
     "output_type": "execute_result"
    }
   ],
   "source": [
    "gtf_gene = '{}/index/gtf/gencode.v19.annotation.gene.gtf'.format(outrigger_folder)\n",
    "gtf_gene"
   ]
  },
  {
   "cell_type": "code",
   "execution_count": 3,
   "metadata": {
    "collapsed": false
   },
   "outputs": [
    {
     "data": {
      "text/plain": [
       "[0, 1, 2]"
      ]
     },
     "execution_count": 3,
     "metadata": {},
     "output_type": "execute_result"
    }
   ],
   "source": [
    "range(3)"
   ]
  },
  {
   "cell_type": "code",
   "execution_count": 8,
   "metadata": {
    "collapsed": false
   },
   "outputs": [],
   "source": [
    "# ! cat $gtf | awk '$3 == \"gene\" { print $0 }'  > /home/obotvinnik/projects/singlecell_pnms/analysis/outrigger_v2/index/gtf/gencode.v19.annotation.gene.gtf"
   ]
  },
  {
   "cell_type": "code",
   "execution_count": 9,
   "metadata": {
    "collapsed": false
   },
   "outputs": [
    {
     "name": "stdout",
     "output_type": "stream",
     "text": [
      "total 614M\r\n",
      "drwxr-xr-x 2 obotvinnik yeo-group  33K Dec 29 14:57 \u001b[0m\u001b[01;34m.\u001b[0m/\r\n",
      "drwxr-xr-x 5 obotvinnik yeo-group  33K Dec 22 04:02 \u001b[01;34m..\u001b[0m/\r\n",
      "-rw-r--r-- 1 obotvinnik yeo-group  17M Jan  5 13:21 gencode.v19.annotation.gene.gtf\r\n",
      "-rw-r--r-- 1 obotvinnik yeo-group 675M Dec 29 12:05 gencode.v19.annotation.gtf\r\n",
      "-rw-r--r-- 1 obotvinnik yeo-group 1.8G Dec 20 13:53 gencode.v19.annotation.gtf.db\r\n",
      "-rw-r--r-- 1 obotvinnik yeo-group    0 Dec 29 11:23 gencode.v19.annotation.sorted.gtf\r\n",
      "-rw-r--r-- 1 obotvinnik yeo-group    0 Dec 20 15:50 novel_exons.gtf\r\n",
      "\u001b[m"
     ]
    }
   ],
   "source": [
    "ls -lha /home/obotvinnik/projects/singlecell_pnms/analysis/outrigger_v2/index/gtf"
   ]
  },
  {
   "cell_type": "code",
   "execution_count": 10,
   "metadata": {
    "collapsed": false
   },
   "outputs": [
    {
     "name": "stdout",
     "output_type": "stream",
     "text": [
      "^C"
     ]
    }
   ],
   "source": [
    "# ! wc -l $gtf_gene"
   ]
  },
  {
   "cell_type": "code",
   "execution_count": null,
   "metadata": {
    "collapsed": false
   },
   "outputs": [],
   "source": [
    "! head $gtf_gene"
   ]
  },
  {
   "cell_type": "code",
   "execution_count": null,
   "metadata": {
    "collapsed": false
   },
   "outputs": [],
   "source": [
    "! bedtools intersect -wo -a /home/obotvinnik/projects/singlecell_pnms/analysis/outrigger_v2/index/mxe/event.sorted.bed \\\n",
    "    -b $gtf_gene > /home/obotvinnik/projects/singlecell_pnms/analysis/outrigger_v2/index/mxe/event.sorted.gencode.v19.bed"
   ]
  },
  {
   "cell_type": "code",
   "execution_count": null,
   "metadata": {
    "collapsed": true
   },
   "outputs": [],
   "source": [
    "# for bed in sorted_bed:\n",
    "#     intersected = bed.replace('.bed', '.intersected.gencode.v19.bed')\n",
    "#     ! bedtools"
   ]
  }
 ],
 "metadata": {
  "kernelspec": {
   "display_name": "Python 2",
   "language": "python",
   "name": "python2"
  },
  "language_info": {
   "codemirror_mode": {
    "name": "ipython",
    "version": 2
   },
   "file_extension": ".py",
   "mimetype": "text/x-python",
   "name": "python",
   "nbconvert_exporter": "python",
   "pygments_lexer": "ipython2",
   "version": "2.7.11"
  }
 },
 "nbformat": 4,
 "nbformat_minor": 0
}
