{
 "cells": [
  {
   "cell_type": "code",
   "execution_count": 1,
   "metadata": {
    "collapsed": false
   },
   "outputs": [],
   "source": [
    "import pandas as pd\n",
    "\n",
    "miso_junctions = pd.read_csv('/projects/ps-yeolab/obotvinnik/singlecell_pnms/csvs_for_paper/miso_junctions_names.csv', \n",
    "                             index_col=0)"
   ]
  },
  {
   "cell_type": "code",
   "execution_count": 2,
   "metadata": {
    "collapsed": false
   },
   "outputs": [
    {
     "name": "stdout",
     "output_type": "stream",
     "text": [
      "(39292, 6)\n"
     ]
    },
    {
     "data": {
      "text/html": [
       "<div>\n",
       "<table border=\"1\" class=\"dataframe\">\n",
       "  <thead>\n",
       "    <tr style=\"text-align: right;\">\n",
       "      <th></th>\n",
       "      <th>junction_12</th>\n",
       "      <th>junction_13</th>\n",
       "      <th>junction_14</th>\n",
       "      <th>junction_23</th>\n",
       "      <th>junction_24</th>\n",
       "      <th>junction_34</th>\n",
       "    </tr>\n",
       "    <tr>\n",
       "      <th>miso_id</th>\n",
       "      <th></th>\n",
       "      <th></th>\n",
       "      <th></th>\n",
       "      <th></th>\n",
       "      <th></th>\n",
       "      <th></th>\n",
       "    </tr>\n",
       "  </thead>\n",
       "  <tbody>\n",
       "    <tr>\n",
       "      <th>chr10:100148111:100148265:-@chr10:100147622:100147841:-@chr10:100146958:100147064:-</th>\n",
       "      <td>junction:chr10:100147842-100148110:-</td>\n",
       "      <td>junction:chr10:100147065-100148110:-</td>\n",
       "      <td>NaN</td>\n",
       "      <td>junction:chr10:100147065-100147621:-</td>\n",
       "      <td>NaN</td>\n",
       "      <td>NaN</td>\n",
       "    </tr>\n",
       "    <tr>\n",
       "      <th>chr10:100150355:100150511:-@chr10:100148111:100148265:-@chr10:100146958:100147064:-</th>\n",
       "      <td>junction:chr10:100148266-100150354:-</td>\n",
       "      <td>junction:chr10:100147065-100150354:-</td>\n",
       "      <td>NaN</td>\n",
       "      <td>junction:chr10:100147065-100148110:-</td>\n",
       "      <td>NaN</td>\n",
       "      <td>NaN</td>\n",
       "    </tr>\n",
       "    <tr>\n",
       "      <th>chr10:100174766:100174978:-@chr10:100174489:100174591:-@chr10:100173705:100174052:-</th>\n",
       "      <td>junction:chr10:100174592-100174765:-</td>\n",
       "      <td>junction:chr10:100174053-100174765:-</td>\n",
       "      <td>NaN</td>\n",
       "      <td>junction:chr10:100174053-100174488:-</td>\n",
       "      <td>NaN</td>\n",
       "      <td>NaN</td>\n",
       "    </tr>\n",
       "    <tr>\n",
       "      <th>chr10:100186972:100187021:-@chr10:100185575:100185742:-@chr10:100185298:100185477:-</th>\n",
       "      <td>junction:chr10:100185743-100186971:-</td>\n",
       "      <td>junction:chr10:100185478-100186971:-</td>\n",
       "      <td>NaN</td>\n",
       "      <td>junction:chr10:100185478-100185574:-</td>\n",
       "      <td>NaN</td>\n",
       "      <td>NaN</td>\n",
       "    </tr>\n",
       "    <tr>\n",
       "      <th>chr10:100190328:100190427:-@chr10:100189548:100189646:-@chr10:100189330:100189399:-</th>\n",
       "      <td>junction:chr10:100189647-100190327:-</td>\n",
       "      <td>junction:chr10:100189400-100190327:-</td>\n",
       "      <td>NaN</td>\n",
       "      <td>junction:chr10:100189400-100189547:-</td>\n",
       "      <td>NaN</td>\n",
       "      <td>NaN</td>\n",
       "    </tr>\n",
       "  </tbody>\n",
       "</table>\n",
       "</div>"
      ],
      "text/plain": [
       "                                                                             junction_12  \\\n",
       "miso_id                                                                                    \n",
       "chr10:100148111:100148265:-@chr10:100147622:100...  junction:chr10:100147842-100148110:-   \n",
       "chr10:100150355:100150511:-@chr10:100148111:100...  junction:chr10:100148266-100150354:-   \n",
       "chr10:100174766:100174978:-@chr10:100174489:100...  junction:chr10:100174592-100174765:-   \n",
       "chr10:100186972:100187021:-@chr10:100185575:100...  junction:chr10:100185743-100186971:-   \n",
       "chr10:100190328:100190427:-@chr10:100189548:100...  junction:chr10:100189647-100190327:-   \n",
       "\n",
       "                                                                             junction_13  \\\n",
       "miso_id                                                                                    \n",
       "chr10:100148111:100148265:-@chr10:100147622:100...  junction:chr10:100147065-100148110:-   \n",
       "chr10:100150355:100150511:-@chr10:100148111:100...  junction:chr10:100147065-100150354:-   \n",
       "chr10:100174766:100174978:-@chr10:100174489:100...  junction:chr10:100174053-100174765:-   \n",
       "chr10:100186972:100187021:-@chr10:100185575:100...  junction:chr10:100185478-100186971:-   \n",
       "chr10:100190328:100190427:-@chr10:100189548:100...  junction:chr10:100189400-100190327:-   \n",
       "\n",
       "                                                   junction_14  \\\n",
       "miso_id                                                          \n",
       "chr10:100148111:100148265:-@chr10:100147622:100...         NaN   \n",
       "chr10:100150355:100150511:-@chr10:100148111:100...         NaN   \n",
       "chr10:100174766:100174978:-@chr10:100174489:100...         NaN   \n",
       "chr10:100186972:100187021:-@chr10:100185575:100...         NaN   \n",
       "chr10:100190328:100190427:-@chr10:100189548:100...         NaN   \n",
       "\n",
       "                                                                             junction_23  \\\n",
       "miso_id                                                                                    \n",
       "chr10:100148111:100148265:-@chr10:100147622:100...  junction:chr10:100147065-100147621:-   \n",
       "chr10:100150355:100150511:-@chr10:100148111:100...  junction:chr10:100147065-100148110:-   \n",
       "chr10:100174766:100174978:-@chr10:100174489:100...  junction:chr10:100174053-100174488:-   \n",
       "chr10:100186972:100187021:-@chr10:100185575:100...  junction:chr10:100185478-100185574:-   \n",
       "chr10:100190328:100190427:-@chr10:100189548:100...  junction:chr10:100189400-100189547:-   \n",
       "\n",
       "                                                   junction_24 junction_34  \n",
       "miso_id                                                                     \n",
       "chr10:100148111:100148265:-@chr10:100147622:100...         NaN         NaN  \n",
       "chr10:100150355:100150511:-@chr10:100148111:100...         NaN         NaN  \n",
       "chr10:100174766:100174978:-@chr10:100174489:100...         NaN         NaN  \n",
       "chr10:100186972:100187021:-@chr10:100185575:100...         NaN         NaN  \n",
       "chr10:100190328:100190427:-@chr10:100189548:100...         NaN         NaN  "
      ]
     },
     "execution_count": 2,
     "metadata": {},
     "output_type": "execute_result"
    }
   ],
   "source": [
    "print(miso_junctions.shape)\n",
    "miso_junctions.head()"
   ]
  },
  {
   "cell_type": "markdown",
   "metadata": {},
   "source": [
    "## Remove strand from miso junctions"
   ]
  },
  {
   "cell_type": "code",
   "execution_count": 3,
   "metadata": {
    "collapsed": false
   },
   "outputs": [
    {
     "name": "stdout",
     "output_type": "stream",
     "text": [
      "(39292, 6)\n"
     ]
    },
    {
     "data": {
      "text/html": [
       "<div>\n",
       "<table border=\"1\" class=\"dataframe\">\n",
       "  <thead>\n",
       "    <tr style=\"text-align: right;\">\n",
       "      <th></th>\n",
       "      <th>junction_12</th>\n",
       "      <th>junction_13</th>\n",
       "      <th>junction_14</th>\n",
       "      <th>junction_23</th>\n",
       "      <th>junction_24</th>\n",
       "      <th>junction_34</th>\n",
       "    </tr>\n",
       "    <tr>\n",
       "      <th>miso_id</th>\n",
       "      <th></th>\n",
       "      <th></th>\n",
       "      <th></th>\n",
       "      <th></th>\n",
       "      <th></th>\n",
       "      <th></th>\n",
       "    </tr>\n",
       "  </thead>\n",
       "  <tbody>\n",
       "    <tr>\n",
       "      <th>chr10:100148111:100148265:-@chr10:100147622:100147841:-@chr10:100146958:100147064:-</th>\n",
       "      <td>junction:chr10:100147842-100148110</td>\n",
       "      <td>junction:chr10:100147065-100148110</td>\n",
       "      <td>NaN</td>\n",
       "      <td>junction:chr10:100147065-100147621</td>\n",
       "      <td>NaN</td>\n",
       "      <td>NaN</td>\n",
       "    </tr>\n",
       "    <tr>\n",
       "      <th>chr10:100150355:100150511:-@chr10:100148111:100148265:-@chr10:100146958:100147064:-</th>\n",
       "      <td>junction:chr10:100148266-100150354</td>\n",
       "      <td>junction:chr10:100147065-100150354</td>\n",
       "      <td>NaN</td>\n",
       "      <td>junction:chr10:100147065-100148110</td>\n",
       "      <td>NaN</td>\n",
       "      <td>NaN</td>\n",
       "    </tr>\n",
       "    <tr>\n",
       "      <th>chr10:100174766:100174978:-@chr10:100174489:100174591:-@chr10:100173705:100174052:-</th>\n",
       "      <td>junction:chr10:100174592-100174765</td>\n",
       "      <td>junction:chr10:100174053-100174765</td>\n",
       "      <td>NaN</td>\n",
       "      <td>junction:chr10:100174053-100174488</td>\n",
       "      <td>NaN</td>\n",
       "      <td>NaN</td>\n",
       "    </tr>\n",
       "    <tr>\n",
       "      <th>chr10:100186972:100187021:-@chr10:100185575:100185742:-@chr10:100185298:100185477:-</th>\n",
       "      <td>junction:chr10:100185743-100186971</td>\n",
       "      <td>junction:chr10:100185478-100186971</td>\n",
       "      <td>NaN</td>\n",
       "      <td>junction:chr10:100185478-100185574</td>\n",
       "      <td>NaN</td>\n",
       "      <td>NaN</td>\n",
       "    </tr>\n",
       "    <tr>\n",
       "      <th>chr10:100190328:100190427:-@chr10:100189548:100189646:-@chr10:100189330:100189399:-</th>\n",
       "      <td>junction:chr10:100189647-100190327</td>\n",
       "      <td>junction:chr10:100189400-100190327</td>\n",
       "      <td>NaN</td>\n",
       "      <td>junction:chr10:100189400-100189547</td>\n",
       "      <td>NaN</td>\n",
       "      <td>NaN</td>\n",
       "    </tr>\n",
       "  </tbody>\n",
       "</table>\n",
       "</div>"
      ],
      "text/plain": [
       "                                                                           junction_12  \\\n",
       "miso_id                                                                                  \n",
       "chr10:100148111:100148265:-@chr10:100147622:100...  junction:chr10:100147842-100148110   \n",
       "chr10:100150355:100150511:-@chr10:100148111:100...  junction:chr10:100148266-100150354   \n",
       "chr10:100174766:100174978:-@chr10:100174489:100...  junction:chr10:100174592-100174765   \n",
       "chr10:100186972:100187021:-@chr10:100185575:100...  junction:chr10:100185743-100186971   \n",
       "chr10:100190328:100190427:-@chr10:100189548:100...  junction:chr10:100189647-100190327   \n",
       "\n",
       "                                                                           junction_13  \\\n",
       "miso_id                                                                                  \n",
       "chr10:100148111:100148265:-@chr10:100147622:100...  junction:chr10:100147065-100148110   \n",
       "chr10:100150355:100150511:-@chr10:100148111:100...  junction:chr10:100147065-100150354   \n",
       "chr10:100174766:100174978:-@chr10:100174489:100...  junction:chr10:100174053-100174765   \n",
       "chr10:100186972:100187021:-@chr10:100185575:100...  junction:chr10:100185478-100186971   \n",
       "chr10:100190328:100190427:-@chr10:100189548:100...  junction:chr10:100189400-100190327   \n",
       "\n",
       "                                                   junction_14  \\\n",
       "miso_id                                                          \n",
       "chr10:100148111:100148265:-@chr10:100147622:100...         NaN   \n",
       "chr10:100150355:100150511:-@chr10:100148111:100...         NaN   \n",
       "chr10:100174766:100174978:-@chr10:100174489:100...         NaN   \n",
       "chr10:100186972:100187021:-@chr10:100185575:100...         NaN   \n",
       "chr10:100190328:100190427:-@chr10:100189548:100...         NaN   \n",
       "\n",
       "                                                                           junction_23  \\\n",
       "miso_id                                                                                  \n",
       "chr10:100148111:100148265:-@chr10:100147622:100...  junction:chr10:100147065-100147621   \n",
       "chr10:100150355:100150511:-@chr10:100148111:100...  junction:chr10:100147065-100148110   \n",
       "chr10:100174766:100174978:-@chr10:100174489:100...  junction:chr10:100174053-100174488   \n",
       "chr10:100186972:100187021:-@chr10:100185575:100...  junction:chr10:100185478-100185574   \n",
       "chr10:100190328:100190427:-@chr10:100189548:100...  junction:chr10:100189400-100189547   \n",
       "\n",
       "                                                   junction_24 junction_34  \n",
       "miso_id                                                                     \n",
       "chr10:100148111:100148265:-@chr10:100147622:100...         NaN         NaN  \n",
       "chr10:100150355:100150511:-@chr10:100148111:100...         NaN         NaN  \n",
       "chr10:100174766:100174978:-@chr10:100174489:100...         NaN         NaN  \n",
       "chr10:100186972:100187021:-@chr10:100185575:100...         NaN         NaN  \n",
       "chr10:100190328:100190427:-@chr10:100189548:100...         NaN         NaN  "
      ]
     },
     "execution_count": 3,
     "metadata": {},
     "output_type": "execute_result"
    }
   ],
   "source": [
    "miso_junctions = miso_junctions.applymap(lambda x: x.rstrip(':-').rstrip(':+') if isinstance(x, str) else x)\n",
    "print(miso_junctions.shape)\n",
    "miso_junctions.head()"
   ]
  },
  {
   "cell_type": "code",
   "execution_count": 4,
   "metadata": {
    "collapsed": false
   },
   "outputs": [
    {
     "name": "stdout",
     "output_type": "stream",
     "text": [
      "(235752, 3)\n"
     ]
    },
    {
     "data": {
      "text/html": [
       "<div>\n",
       "<table border=\"1\" class=\"dataframe\">\n",
       "  <thead>\n",
       "    <tr style=\"text-align: right;\">\n",
       "      <th></th>\n",
       "      <th>junction_numbers</th>\n",
       "      <th>miso_id</th>\n",
       "      <th>junction_id</th>\n",
       "    </tr>\n",
       "  </thead>\n",
       "  <tbody>\n",
       "    <tr>\n",
       "      <th>0</th>\n",
       "      <td>junction_12</td>\n",
       "      <td>chr10:100148111:100148265:-@chr10:100147622:10...</td>\n",
       "      <td>junction:chr10:100147842-100148110</td>\n",
       "    </tr>\n",
       "    <tr>\n",
       "      <th>1</th>\n",
       "      <td>junction_12</td>\n",
       "      <td>chr10:100150355:100150511:-@chr10:100148111:10...</td>\n",
       "      <td>junction:chr10:100148266-100150354</td>\n",
       "    </tr>\n",
       "    <tr>\n",
       "      <th>2</th>\n",
       "      <td>junction_12</td>\n",
       "      <td>chr10:100174766:100174978:-@chr10:100174489:10...</td>\n",
       "      <td>junction:chr10:100174592-100174765</td>\n",
       "    </tr>\n",
       "    <tr>\n",
       "      <th>3</th>\n",
       "      <td>junction_12</td>\n",
       "      <td>chr10:100186972:100187021:-@chr10:100185575:10...</td>\n",
       "      <td>junction:chr10:100185743-100186971</td>\n",
       "    </tr>\n",
       "    <tr>\n",
       "      <th>4</th>\n",
       "      <td>junction_12</td>\n",
       "      <td>chr10:100190328:100190427:-@chr10:100189548:10...</td>\n",
       "      <td>junction:chr10:100189647-100190327</td>\n",
       "    </tr>\n",
       "  </tbody>\n",
       "</table>\n",
       "</div>"
      ],
      "text/plain": [
       "  junction_numbers                                            miso_id  \\\n",
       "0      junction_12  chr10:100148111:100148265:-@chr10:100147622:10...   \n",
       "1      junction_12  chr10:100150355:100150511:-@chr10:100148111:10...   \n",
       "2      junction_12  chr10:100174766:100174978:-@chr10:100174489:10...   \n",
       "3      junction_12  chr10:100186972:100187021:-@chr10:100185575:10...   \n",
       "4      junction_12  chr10:100190328:100190427:-@chr10:100189548:10...   \n",
       "\n",
       "                          junction_id  \n",
       "0  junction:chr10:100147842-100148110  \n",
       "1  junction:chr10:100148266-100150354  \n",
       "2  junction:chr10:100174592-100174765  \n",
       "3  junction:chr10:100185743-100186971  \n",
       "4  junction:chr10:100189647-100190327  "
      ]
     },
     "execution_count": 4,
     "metadata": {},
     "output_type": "execute_result"
    }
   ],
   "source": [
    "miso_junctions_tidy = miso_junctions.unstack().reset_index()\n",
    "miso_junctions_tidy = miso_junctions_tidy.rename(columns={'level_0': 'junction_numbers', 0:'junction_id'})\n",
    "print(miso_junctions_tidy.shape)\n",
    "miso_junctions_tidy.head()"
   ]
  },
  {
   "cell_type": "code",
   "execution_count": 6,
   "metadata": {
    "collapsed": true
   },
   "outputs": [],
   "source": [
    "figure_folder = 'figures/014_Join_miso_junctions_with_reads_and_calculate_psi_unstranded'\n",
    "! mkdir -p $figure_folder"
   ]
  },
  {
   "cell_type": "code",
   "execution_count": 7,
   "metadata": {
    "collapsed": false
   },
   "outputs": [],
   "source": [
    "from __future__ import print_function"
   ]
  },
  {
   "cell_type": "code",
   "execution_count": 8,
   "metadata": {
    "collapsed": false
   },
   "outputs": [
    {
     "name": "stdout",
     "output_type": "stream",
     "text": [
      "(6882315, 15)\n"
     ]
    },
    {
     "data": {
      "text/html": [
       "<div>\n",
       "<table border=\"1\" class=\"dataframe\">\n",
       "  <thead>\n",
       "    <tr style=\"text-align: right;\">\n",
       "      <th></th>\n",
       "      <th>chrom</th>\n",
       "      <th>junction_start</th>\n",
       "      <th>junction_stop</th>\n",
       "      <th>strand</th>\n",
       "      <th>junction_motif</th>\n",
       "      <th>annotated</th>\n",
       "      <th>unique_junction_reads</th>\n",
       "      <th>multimap_junction_reads</th>\n",
       "      <th>max_overhang</th>\n",
       "      <th>junction_location</th>\n",
       "      <th>sample_id</th>\n",
       "      <th>junction_id</th>\n",
       "      <th>exon_start</th>\n",
       "      <th>exon_stop</th>\n",
       "      <th>reads</th>\n",
       "    </tr>\n",
       "  </thead>\n",
       "  <tbody>\n",
       "    <tr>\n",
       "      <th>0</th>\n",
       "      <td>chr1</td>\n",
       "      <td>14830.0</td>\n",
       "      <td>14969.0</td>\n",
       "      <td>-</td>\n",
       "      <td>GT/AG</td>\n",
       "      <td>True</td>\n",
       "      <td>0.0</td>\n",
       "      <td>1.0</td>\n",
       "      <td>35.0</td>\n",
       "      <td>chr1:14830-14969:-</td>\n",
       "      <td>CVN_09</td>\n",
       "      <td>junction:chr1:14830-14969:-</td>\n",
       "      <td>14970.0</td>\n",
       "      <td>14829.0</td>\n",
       "      <td>1.0</td>\n",
       "    </tr>\n",
       "    <tr>\n",
       "      <th>1</th>\n",
       "      <td>chr1</td>\n",
       "      <td>15039.0</td>\n",
       "      <td>15795.0</td>\n",
       "      <td>-</td>\n",
       "      <td>GT/AG</td>\n",
       "      <td>True</td>\n",
       "      <td>0.0</td>\n",
       "      <td>1.0</td>\n",
       "      <td>49.0</td>\n",
       "      <td>chr1:15039-15795:-</td>\n",
       "      <td>CVN_09</td>\n",
       "      <td>junction:chr1:15039-15795:-</td>\n",
       "      <td>15796.0</td>\n",
       "      <td>15038.0</td>\n",
       "      <td>1.0</td>\n",
       "    </tr>\n",
       "    <tr>\n",
       "      <th>2</th>\n",
       "      <td>chr1</td>\n",
       "      <td>228777.0</td>\n",
       "      <td>237053.0</td>\n",
       "      <td>-</td>\n",
       "      <td>GT/AG</td>\n",
       "      <td>True</td>\n",
       "      <td>2.0</td>\n",
       "      <td>12.0</td>\n",
       "      <td>48.0</td>\n",
       "      <td>chr1:228777-237053:-</td>\n",
       "      <td>CVN_09</td>\n",
       "      <td>junction:chr1:228777-237053:-</td>\n",
       "      <td>237054.0</td>\n",
       "      <td>228776.0</td>\n",
       "      <td>14.0</td>\n",
       "    </tr>\n",
       "    <tr>\n",
       "      <th>3</th>\n",
       "      <td>chr1</td>\n",
       "      <td>320654.0</td>\n",
       "      <td>324287.0</td>\n",
       "      <td>+</td>\n",
       "      <td>GT/AG</td>\n",
       "      <td>True</td>\n",
       "      <td>0.0</td>\n",
       "      <td>1.0</td>\n",
       "      <td>28.0</td>\n",
       "      <td>chr1:320654-324287:+</td>\n",
       "      <td>CVN_09</td>\n",
       "      <td>junction:chr1:320654-324287:+</td>\n",
       "      <td>324288.0</td>\n",
       "      <td>320653.0</td>\n",
       "      <td>1.0</td>\n",
       "    </tr>\n",
       "    <tr>\n",
       "      <th>4</th>\n",
       "      <td>chr1</td>\n",
       "      <td>320939.0</td>\n",
       "      <td>321031.0</td>\n",
       "      <td>+</td>\n",
       "      <td>GT/AG</td>\n",
       "      <td>True</td>\n",
       "      <td>0.0</td>\n",
       "      <td>3.0</td>\n",
       "      <td>39.0</td>\n",
       "      <td>chr1:320939-321031:+</td>\n",
       "      <td>CVN_09</td>\n",
       "      <td>junction:chr1:320939-321031:+</td>\n",
       "      <td>321032.0</td>\n",
       "      <td>320938.0</td>\n",
       "      <td>3.0</td>\n",
       "    </tr>\n",
       "  </tbody>\n",
       "</table>\n",
       "</div>"
      ],
      "text/plain": [
       "  chrom  junction_start  junction_stop strand junction_motif annotated  \\\n",
       "0  chr1         14830.0        14969.0      -          GT/AG      True   \n",
       "1  chr1         15039.0        15795.0      -          GT/AG      True   \n",
       "2  chr1        228777.0       237053.0      -          GT/AG      True   \n",
       "3  chr1        320654.0       324287.0      +          GT/AG      True   \n",
       "4  chr1        320939.0       321031.0      +          GT/AG      True   \n",
       "\n",
       "   unique_junction_reads  multimap_junction_reads  max_overhang  \\\n",
       "0                    0.0                      1.0          35.0   \n",
       "1                    0.0                      1.0          49.0   \n",
       "2                    2.0                     12.0          48.0   \n",
       "3                    0.0                      1.0          28.0   \n",
       "4                    0.0                      3.0          39.0   \n",
       "\n",
       "      junction_location sample_id                    junction_id  exon_start  \\\n",
       "0    chr1:14830-14969:-    CVN_09    junction:chr1:14830-14969:-     14970.0   \n",
       "1    chr1:15039-15795:-    CVN_09    junction:chr1:15039-15795:-     15796.0   \n",
       "2  chr1:228777-237053:-    CVN_09  junction:chr1:228777-237053:-    237054.0   \n",
       "3  chr1:320654-324287:+    CVN_09  junction:chr1:320654-324287:+    324288.0   \n",
       "4  chr1:320939-321031:+    CVN_09  junction:chr1:320939-321031:+    321032.0   \n",
       "\n",
       "   exon_stop  reads  \n",
       "0    14829.0    1.0  \n",
       "1    15038.0    1.0  \n",
       "2   228776.0   14.0  \n",
       "3   320653.0    1.0  \n",
       "4   320938.0    3.0  "
      ]
     },
     "execution_count": 8,
     "metadata": {},
     "output_type": "execute_result"
    }
   ],
   "source": [
    "junction_reads = pd.read_csv('/projects/ps-yeolab/obotvinnik/singlecell_pnms/csvs_for_paper/junction_reads_use_multimapping.csv')\n",
    "print(junction_reads.shape)\n",
    "junction_reads.head()"
   ]
  },
  {
   "cell_type": "code",
   "execution_count": 9,
   "metadata": {
    "collapsed": false
   },
   "outputs": [
    {
     "data": {
      "text/plain": [
       "array(['-', '+', '0'], dtype=object)"
      ]
     },
     "execution_count": 9,
     "metadata": {},
     "output_type": "execute_result"
    }
   ],
   "source": [
    "junction_reads['junction_id'].str.split(':').str[-1].unique()"
   ]
  },
  {
   "cell_type": "code",
   "execution_count": 10,
   "metadata": {
    "collapsed": false
   },
   "outputs": [
    {
     "data": {
      "text/html": [
       "<div>\n",
       "<table border=\"1\" class=\"dataframe\">\n",
       "  <thead>\n",
       "    <tr style=\"text-align: right;\">\n",
       "      <th></th>\n",
       "      <th>chrom</th>\n",
       "      <th>junction_start</th>\n",
       "      <th>junction_stop</th>\n",
       "      <th>strand</th>\n",
       "      <th>junction_motif</th>\n",
       "      <th>annotated</th>\n",
       "      <th>unique_junction_reads</th>\n",
       "      <th>multimap_junction_reads</th>\n",
       "      <th>max_overhang</th>\n",
       "      <th>junction_location</th>\n",
       "      <th>sample_id</th>\n",
       "      <th>junction_id</th>\n",
       "      <th>exon_start</th>\n",
       "      <th>exon_stop</th>\n",
       "      <th>reads</th>\n",
       "    </tr>\n",
       "  </thead>\n",
       "  <tbody>\n",
       "    <tr>\n",
       "      <th>0</th>\n",
       "      <td>chr1</td>\n",
       "      <td>14830.0</td>\n",
       "      <td>14969.0</td>\n",
       "      <td>-</td>\n",
       "      <td>GT/AG</td>\n",
       "      <td>True</td>\n",
       "      <td>0.0</td>\n",
       "      <td>1.0</td>\n",
       "      <td>35.0</td>\n",
       "      <td>chr1:14830-14969:-</td>\n",
       "      <td>CVN_09</td>\n",
       "      <td>junction:chr1:14830-14969</td>\n",
       "      <td>14970.0</td>\n",
       "      <td>14829.0</td>\n",
       "      <td>1.0</td>\n",
       "    </tr>\n",
       "    <tr>\n",
       "      <th>1</th>\n",
       "      <td>chr1</td>\n",
       "      <td>15039.0</td>\n",
       "      <td>15795.0</td>\n",
       "      <td>-</td>\n",
       "      <td>GT/AG</td>\n",
       "      <td>True</td>\n",
       "      <td>0.0</td>\n",
       "      <td>1.0</td>\n",
       "      <td>49.0</td>\n",
       "      <td>chr1:15039-15795:-</td>\n",
       "      <td>CVN_09</td>\n",
       "      <td>junction:chr1:15039-15795</td>\n",
       "      <td>15796.0</td>\n",
       "      <td>15038.0</td>\n",
       "      <td>1.0</td>\n",
       "    </tr>\n",
       "    <tr>\n",
       "      <th>2</th>\n",
       "      <td>chr1</td>\n",
       "      <td>228777.0</td>\n",
       "      <td>237053.0</td>\n",
       "      <td>-</td>\n",
       "      <td>GT/AG</td>\n",
       "      <td>True</td>\n",
       "      <td>2.0</td>\n",
       "      <td>12.0</td>\n",
       "      <td>48.0</td>\n",
       "      <td>chr1:228777-237053:-</td>\n",
       "      <td>CVN_09</td>\n",
       "      <td>junction:chr1:228777-237053</td>\n",
       "      <td>237054.0</td>\n",
       "      <td>228776.0</td>\n",
       "      <td>14.0</td>\n",
       "    </tr>\n",
       "    <tr>\n",
       "      <th>3</th>\n",
       "      <td>chr1</td>\n",
       "      <td>320654.0</td>\n",
       "      <td>324287.0</td>\n",
       "      <td>+</td>\n",
       "      <td>GT/AG</td>\n",
       "      <td>True</td>\n",
       "      <td>0.0</td>\n",
       "      <td>1.0</td>\n",
       "      <td>28.0</td>\n",
       "      <td>chr1:320654-324287:+</td>\n",
       "      <td>CVN_09</td>\n",
       "      <td>junction:chr1:320654-324287</td>\n",
       "      <td>324288.0</td>\n",
       "      <td>320653.0</td>\n",
       "      <td>1.0</td>\n",
       "    </tr>\n",
       "    <tr>\n",
       "      <th>4</th>\n",
       "      <td>chr1</td>\n",
       "      <td>320939.0</td>\n",
       "      <td>321031.0</td>\n",
       "      <td>+</td>\n",
       "      <td>GT/AG</td>\n",
       "      <td>True</td>\n",
       "      <td>0.0</td>\n",
       "      <td>3.0</td>\n",
       "      <td>39.0</td>\n",
       "      <td>chr1:320939-321031:+</td>\n",
       "      <td>CVN_09</td>\n",
       "      <td>junction:chr1:320939-321031</td>\n",
       "      <td>321032.0</td>\n",
       "      <td>320938.0</td>\n",
       "      <td>3.0</td>\n",
       "    </tr>\n",
       "  </tbody>\n",
       "</table>\n",
       "</div>"
      ],
      "text/plain": [
       "  chrom  junction_start  junction_stop strand junction_motif annotated  \\\n",
       "0  chr1         14830.0        14969.0      -          GT/AG      True   \n",
       "1  chr1         15039.0        15795.0      -          GT/AG      True   \n",
       "2  chr1        228777.0       237053.0      -          GT/AG      True   \n",
       "3  chr1        320654.0       324287.0      +          GT/AG      True   \n",
       "4  chr1        320939.0       321031.0      +          GT/AG      True   \n",
       "\n",
       "   unique_junction_reads  multimap_junction_reads  max_overhang  \\\n",
       "0                    0.0                      1.0          35.0   \n",
       "1                    0.0                      1.0          49.0   \n",
       "2                    2.0                     12.0          48.0   \n",
       "3                    0.0                      1.0          28.0   \n",
       "4                    0.0                      3.0          39.0   \n",
       "\n",
       "      junction_location sample_id                  junction_id  exon_start  \\\n",
       "0    chr1:14830-14969:-    CVN_09    junction:chr1:14830-14969     14970.0   \n",
       "1    chr1:15039-15795:-    CVN_09    junction:chr1:15039-15795     15796.0   \n",
       "2  chr1:228777-237053:-    CVN_09  junction:chr1:228777-237053    237054.0   \n",
       "3  chr1:320654-324287:+    CVN_09  junction:chr1:320654-324287    324288.0   \n",
       "4  chr1:320939-321031:+    CVN_09  junction:chr1:320939-321031    321032.0   \n",
       "\n",
       "   exon_stop  reads  \n",
       "0    14829.0    1.0  \n",
       "1    15038.0    1.0  \n",
       "2   228776.0   14.0  \n",
       "3   320653.0    1.0  \n",
       "4   320938.0    3.0  "
      ]
     },
     "execution_count": 10,
     "metadata": {},
     "output_type": "execute_result"
    }
   ],
   "source": [
    "junction_reads['junction_id'] = junction_reads['junction_id'].map(lambda x: x.rstrip(':-').rstrip(':+').rstrip(':0'))\n",
    "junction_reads.head()"
   ]
  },
  {
   "cell_type": "code",
   "execution_count": 11,
   "metadata": {
    "collapsed": false
   },
   "outputs": [
    {
     "data": {
      "text/html": [
       "<div>\n",
       "<table border=\"1\" class=\"dataframe\">\n",
       "  <thead>\n",
       "    <tr style=\"text-align: right;\">\n",
       "      <th></th>\n",
       "      <th>sample_id</th>\n",
       "      <th>reads</th>\n",
       "    </tr>\n",
       "    <tr>\n",
       "      <th>junction_id</th>\n",
       "      <th></th>\n",
       "      <th></th>\n",
       "    </tr>\n",
       "  </thead>\n",
       "  <tbody>\n",
       "    <tr>\n",
       "      <th>junction:chr1:14830-14969</th>\n",
       "      <td>CVN_09</td>\n",
       "      <td>1.0</td>\n",
       "    </tr>\n",
       "    <tr>\n",
       "      <th>junction:chr1:15039-15795</th>\n",
       "      <td>CVN_09</td>\n",
       "      <td>1.0</td>\n",
       "    </tr>\n",
       "    <tr>\n",
       "      <th>junction:chr1:228777-237053</th>\n",
       "      <td>CVN_09</td>\n",
       "      <td>14.0</td>\n",
       "    </tr>\n",
       "    <tr>\n",
       "      <th>junction:chr1:320654-324287</th>\n",
       "      <td>CVN_09</td>\n",
       "      <td>1.0</td>\n",
       "    </tr>\n",
       "    <tr>\n",
       "      <th>junction:chr1:320939-321031</th>\n",
       "      <td>CVN_09</td>\n",
       "      <td>3.0</td>\n",
       "    </tr>\n",
       "  </tbody>\n",
       "</table>\n",
       "</div>"
      ],
      "text/plain": [
       "                            sample_id  reads\n",
       "junction_id                                 \n",
       "junction:chr1:14830-14969      CVN_09    1.0\n",
       "junction:chr1:15039-15795      CVN_09    1.0\n",
       "junction:chr1:228777-237053    CVN_09   14.0\n",
       "junction:chr1:320654-324287    CVN_09    1.0\n",
       "junction:chr1:320939-321031    CVN_09    3.0"
      ]
     },
     "execution_count": 11,
     "metadata": {},
     "output_type": "execute_result"
    }
   ],
   "source": [
    "reads = junction_reads.set_index('junction_id')[['sample_id', 'reads']]\n",
    "reads.head()"
   ]
  },
  {
   "cell_type": "code",
   "execution_count": 12,
   "metadata": {
    "collapsed": false
   },
   "outputs": [
    {
     "name": "stdout",
     "output_type": "stream",
     "text": [
      "(2862818, 5)\n"
     ]
    },
    {
     "data": {
      "text/html": [
       "<div>\n",
       "<table border=\"1\" class=\"dataframe\">\n",
       "  <thead>\n",
       "    <tr style=\"text-align: right;\">\n",
       "      <th></th>\n",
       "      <th>junction_numbers</th>\n",
       "      <th>miso_id</th>\n",
       "      <th>junction_id</th>\n",
       "      <th>sample_id</th>\n",
       "      <th>reads</th>\n",
       "    </tr>\n",
       "  </thead>\n",
       "  <tbody>\n",
       "    <tr>\n",
       "      <th>0</th>\n",
       "      <td>junction_12</td>\n",
       "      <td>chr10:100148111:100148265:-@chr10:100147622:10...</td>\n",
       "      <td>junction:chr10:100147842-100148110</td>\n",
       "      <td>NaN</td>\n",
       "      <td>NaN</td>\n",
       "    </tr>\n",
       "    <tr>\n",
       "      <th>1</th>\n",
       "      <td>junction_12</td>\n",
       "      <td>chr10:100150355:100150511:-@chr10:100148111:10...</td>\n",
       "      <td>junction:chr10:100148266-100150354</td>\n",
       "      <td>NaN</td>\n",
       "      <td>NaN</td>\n",
       "    </tr>\n",
       "    <tr>\n",
       "      <th>2</th>\n",
       "      <td>junction_12</td>\n",
       "      <td>chr10:100174766:100174978:-@chr10:100174489:10...</td>\n",
       "      <td>junction:chr10:100174592-100174765</td>\n",
       "      <td>NaN</td>\n",
       "      <td>NaN</td>\n",
       "    </tr>\n",
       "    <tr>\n",
       "      <th>3</th>\n",
       "      <td>junction_12</td>\n",
       "      <td>chr10:100186972:100187021:-@chr10:100185575:10...</td>\n",
       "      <td>junction:chr10:100185743-100186971</td>\n",
       "      <td>M4_05</td>\n",
       "      <td>10.0</td>\n",
       "    </tr>\n",
       "    <tr>\n",
       "      <th>3</th>\n",
       "      <td>junction_12</td>\n",
       "      <td>chr10:100186972:100187021:-@chr10:100185575:10...</td>\n",
       "      <td>junction:chr10:100185743-100186971</td>\n",
       "      <td>P2_13</td>\n",
       "      <td>60.0</td>\n",
       "    </tr>\n",
       "  </tbody>\n",
       "</table>\n",
       "</div>"
      ],
      "text/plain": [
       "  junction_numbers                                            miso_id  \\\n",
       "0      junction_12  chr10:100148111:100148265:-@chr10:100147622:10...   \n",
       "1      junction_12  chr10:100150355:100150511:-@chr10:100148111:10...   \n",
       "2      junction_12  chr10:100174766:100174978:-@chr10:100174489:10...   \n",
       "3      junction_12  chr10:100186972:100187021:-@chr10:100185575:10...   \n",
       "3      junction_12  chr10:100186972:100187021:-@chr10:100185575:10...   \n",
       "\n",
       "                          junction_id sample_id  reads  \n",
       "0  junction:chr10:100147842-100148110       NaN    NaN  \n",
       "1  junction:chr10:100148266-100150354       NaN    NaN  \n",
       "2  junction:chr10:100174592-100174765       NaN    NaN  \n",
       "3  junction:chr10:100185743-100186971     M4_05   10.0  \n",
       "3  junction:chr10:100185743-100186971     P2_13   60.0  "
      ]
     },
     "execution_count": 12,
     "metadata": {},
     "output_type": "execute_result"
    }
   ],
   "source": [
    "miso_junctions_reads = miso_junctions_tidy.join(reads, on='junction_id')\n",
    "print(miso_junctions_reads.shape)\n",
    "miso_junctions_reads.head()"
   ]
  },
  {
   "cell_type": "code",
   "execution_count": 13,
   "metadata": {
    "collapsed": false
   },
   "outputs": [
    {
     "name": "stdout",
     "output_type": "stream",
     "text": [
      "(39292,)\n"
     ]
    },
    {
     "data": {
      "text/plain": [
       "miso_id\n",
       "chr10:100148111:100148265:-@chr10:100147622:100147841:-@chr10:100146958:100147064:-    False\n",
       "chr10:100150355:100150511:-@chr10:100148111:100148265:-@chr10:100146958:100147064:-    False\n",
       "chr10:100174766:100174978:-@chr10:100174489:100174591:-@chr10:100173705:100174052:-    False\n",
       "chr10:100186972:100187021:-@chr10:100185575:100185742:-@chr10:100185298:100185477:-    False\n",
       "chr10:100190328:100190427:-@chr10:100189548:100189646:-@chr10:100189330:100189399:-    False\n",
       "Name: 0, dtype: bool"
      ]
     },
     "execution_count": 13,
     "metadata": {},
     "output_type": "execute_result"
    }
   ],
   "source": [
    "invalid_mxe = pd.read_csv('/projects/ps-yeolab/obotvinnik/singlecell_pnms/csvs_for_paper/miso_junctions_invalid_mxe.csv', \n",
    "                          squeeze=True, index_col=0)\n",
    "print(invalid_mxe.shape)\n",
    "invalid_mxe.head()"
   ]
  },
  {
   "cell_type": "code",
   "execution_count": 14,
   "metadata": {
    "collapsed": false
   },
   "outputs": [
    {
     "data": {
      "text/plain": [
       "Index([u'chr11:409868:410027:-@chr11:408894:409101:-@chr11:408695:408893:-@chr11:408073:408206:-',\n",
       "       u'chr11:62529267:62529376:+@chr11:62530014:62530338:+@chr11:62530339:62530498:+@chr11:62532654:62532704:+',\n",
       "       u'chr12:122710512:122711200:-@chr12:122709192:122709295:-@chr12:122709059:122709191:-@chr12:122701306:122701416:-',\n",
       "       u'chr12:122710512:122711200:-@chr12:122709192:122709295:-@chr12:122709059:122709191:-@chr12:122702813:122702944:-',\n",
       "       u'chr12:49406845:49406893:-@chr12:49399526:49399635:-@chr12:49399451:49399525:-@chr12:49399245:49399326:-',\n",
       "       u'chr12:49406845:49406893:-@chr12:49399526:49399664:-@chr12:49399451:49399525:-@chr12:49399245:49399326:-',\n",
       "       u'chr12:56552468:56552495:+@chr12:56553282:56553406:+@chr12:56553407:56553514:+@chr12:56553759:56553932:+',\n",
       "       u'chr12:56552468:56552495:+@chr12:56553371:56553406:+@chr12:56553407:56553514:+@chr12:56553759:56553932:+',\n",
       "       u'chr14:35579731:35579835:-@chr14:35579054:35579137:-@chr14:35579025:35579053:-@chr14:35577345:35577442:-',\n",
       "       u'chr16:21875104:21875424:-@chr16:21868980:21869077:-@chr16:21868901:21868979:-@chr16:21868580:21868737:-',\n",
       "       u'chr16:22518495:22518720:+@chr16:22524745:22524842:+@chr16:22524843:22524921:+@chr16:22525085:22525242:+',\n",
       "       u'chr16:22518495:22518720:+@chr16:22524745:22524842:+@chr16:22524843:22524931:+@chr16:22525085:22525242:+',\n",
       "       u'chr19:1095258:1095391:-@chr19:1093903:1094077:-@chr19:1093755:1093902:-@chr19:1091791:1091906:-',\n",
       "       u'chr19:50168888:50169132:-@chr19:50167931:50168103:-@chr19:50167700:50167930:-@chr19:50166600:50166771:-',\n",
       "       u'chr1:101538216:101538386:+@chr1:101540832:101540950:+@chr1:101540951:101541272:+@chr1:101542919:101543064:+',\n",
       "       u'chr20:44443023:44443109:+@chr20:44444029:44444179:+@chr20:44444180:44444384:+@chr20:44444493:44444552:+',\n",
       "       u'chr20:62496581:62496737:+@chr20:62500649:62500717:+@chr20:62500718:62500794:+@chr20:62505021:62505169:+',\n",
       "       u'chr22:24963952:24964144:+@chr22:24967884:24967985:+@chr22:24967986:24968029:+@chr22:24979650:24979776:+',\n",
       "       u'chr2:242212176:242212246:-@chr2:242208369:242208710:-@chr2:242208244:242208368:-@chr2:242207892:242207956:-',\n",
       "       u'chr3:10028595:10028948:+@chr3:10029499:10029589:+@chr3:10029590:10029691:+@chr3:10030396:10030431:+',\n",
       "       u'chr3:195925660:195925745:-@chr3:195925323:195925461:-@chr3:195925147:195925322:-@chr3:195924323:195924596:-',\n",
       "       u'chr5:180661174:180661349:+@chr5:180661932:180661995:+@chr5:180661996:180662079:+@chr5:180662354:180662808:+',\n",
       "       u'chr6:31506924:31507051:-@chr6:31506717:31506836:-@chr6:31506707:31506716:-@chr6:31506540:31506632:-',\n",
       "       u'chr6:31729249:31729392:+@chr6:31729527:31729642:+@chr6:31729643:31729732:+@chr6:31729889:31729962:+',\n",
       "       u'chr6:31729249:31729392:+@chr6:31729595:31729642:+@chr6:31729643:31729732:+@chr6:31729889:31729962:+',\n",
       "       u'chr6:34803933:34804125:+@chr6:34823394:34823480:+@chr6:34823481:34823647:+@chr6:34824016:34824186:+',\n",
       "       u'chr7:150725510:150725697:+@chr7:150730530:150730691:+@chr7:150730692:150731004:+@chr7:150731360:150731515:+',\n",
       "       u'chr7:72420385:72420500:-@chr7:72419642:72420030:-@chr7:72419592:72419641:-@chr7:72419431:72419519:-',\n",
       "       u'chr9:98685542:98685661:+@chr9:98690361:98690432:+@chr9:98690433:98690559:+@chr9:98691001:98691146:+',\n",
       "       u'chrX:110924346:110924527:+@chrX:110925360:110925463:+@chrX:110925464:110925522:+@chrX:110928193:110928331:+',\n",
       "       u'chrX:110924398:110924652:+@chrX:110925360:110925463:+@chrX:110925464:110925522:+@chrX:110928193:110928331:+',\n",
       "       u'chrX:16870872:16870998:-@chrX:16870674:16870751:-@chrX:16870539:16870673:-@chrX:16870169:16870245:-'],\n",
       "      dtype='object', name=u'miso_id')"
      ]
     },
     "execution_count": 14,
     "metadata": {},
     "output_type": "execute_result"
    }
   ],
   "source": [
    "invalid_ids = invalid_mxe[invalid_mxe].index\n",
    "invalid_ids"
   ]
  },
  {
   "cell_type": "code",
   "execution_count": 15,
   "metadata": {
    "collapsed": false
   },
   "outputs": [
    {
     "data": {
      "text/plain": [
       "(2862818, 5)"
      ]
     },
     "execution_count": 15,
     "metadata": {},
     "output_type": "execute_result"
    }
   ],
   "source": [
    "miso_junctions_reads.shape"
   ]
  },
  {
   "cell_type": "code",
   "execution_count": 16,
   "metadata": {
    "collapsed": false
   },
   "outputs": [
    {
     "name": "stdout",
     "output_type": "stream",
     "text": [
      "(2857508, 5)\n"
     ]
    },
    {
     "data": {
      "text/html": [
       "<div>\n",
       "<table border=\"1\" class=\"dataframe\">\n",
       "  <thead>\n",
       "    <tr style=\"text-align: right;\">\n",
       "      <th></th>\n",
       "      <th>junction_numbers</th>\n",
       "      <th>miso_id</th>\n",
       "      <th>junction_id</th>\n",
       "      <th>sample_id</th>\n",
       "      <th>reads</th>\n",
       "    </tr>\n",
       "  </thead>\n",
       "  <tbody>\n",
       "    <tr>\n",
       "      <th>0</th>\n",
       "      <td>junction_12</td>\n",
       "      <td>chr10:100148111:100148265:-@chr10:100147622:10...</td>\n",
       "      <td>junction:chr10:100147842-100148110</td>\n",
       "      <td>NaN</td>\n",
       "      <td>NaN</td>\n",
       "    </tr>\n",
       "    <tr>\n",
       "      <th>1</th>\n",
       "      <td>junction_12</td>\n",
       "      <td>chr10:100150355:100150511:-@chr10:100148111:10...</td>\n",
       "      <td>junction:chr10:100148266-100150354</td>\n",
       "      <td>NaN</td>\n",
       "      <td>NaN</td>\n",
       "    </tr>\n",
       "    <tr>\n",
       "      <th>2</th>\n",
       "      <td>junction_12</td>\n",
       "      <td>chr10:100174766:100174978:-@chr10:100174489:10...</td>\n",
       "      <td>junction:chr10:100174592-100174765</td>\n",
       "      <td>NaN</td>\n",
       "      <td>NaN</td>\n",
       "    </tr>\n",
       "    <tr>\n",
       "      <th>3</th>\n",
       "      <td>junction_12</td>\n",
       "      <td>chr10:100186972:100187021:-@chr10:100185575:10...</td>\n",
       "      <td>junction:chr10:100185743-100186971</td>\n",
       "      <td>M4_05</td>\n",
       "      <td>10.0</td>\n",
       "    </tr>\n",
       "    <tr>\n",
       "      <th>3</th>\n",
       "      <td>junction_12</td>\n",
       "      <td>chr10:100186972:100187021:-@chr10:100185575:10...</td>\n",
       "      <td>junction:chr10:100185743-100186971</td>\n",
       "      <td>P2_13</td>\n",
       "      <td>60.0</td>\n",
       "    </tr>\n",
       "  </tbody>\n",
       "</table>\n",
       "</div>"
      ],
      "text/plain": [
       "  junction_numbers                                            miso_id  \\\n",
       "0      junction_12  chr10:100148111:100148265:-@chr10:100147622:10...   \n",
       "1      junction_12  chr10:100150355:100150511:-@chr10:100148111:10...   \n",
       "2      junction_12  chr10:100174766:100174978:-@chr10:100174489:10...   \n",
       "3      junction_12  chr10:100186972:100187021:-@chr10:100185575:10...   \n",
       "3      junction_12  chr10:100186972:100187021:-@chr10:100185575:10...   \n",
       "\n",
       "                          junction_id sample_id  reads  \n",
       "0  junction:chr10:100147842-100148110       NaN    NaN  \n",
       "1  junction:chr10:100148266-100150354       NaN    NaN  \n",
       "2  junction:chr10:100174592-100174765       NaN    NaN  \n",
       "3  junction:chr10:100185743-100186971     M4_05   10.0  \n",
       "3  junction:chr10:100185743-100186971     P2_13   60.0  "
      ]
     },
     "execution_count": 16,
     "metadata": {},
     "output_type": "execute_result"
    }
   ],
   "source": [
    "miso_junctions_valid = miso_junctions_reads.query('miso_id not in @invalid_ids')\n",
    "print(miso_junctions_valid.shape)\n",
    "miso_junctions_valid.head()"
   ]
  },
  {
   "cell_type": "code",
   "execution_count": 17,
   "metadata": {
    "collapsed": false
   },
   "outputs": [
    {
     "data": {
      "text/html": [
       "<div>\n",
       "<table border=\"1\" class=\"dataframe\">\n",
       "  <thead>\n",
       "    <tr style=\"text-align: right;\">\n",
       "      <th></th>\n",
       "      <th>junction_12</th>\n",
       "      <th>junction_13</th>\n",
       "      <th>junction_14</th>\n",
       "      <th>junction_23</th>\n",
       "      <th>junction_24</th>\n",
       "      <th>junction_34</th>\n",
       "    </tr>\n",
       "    <tr>\n",
       "      <th>miso_id</th>\n",
       "      <th></th>\n",
       "      <th></th>\n",
       "      <th></th>\n",
       "      <th></th>\n",
       "      <th></th>\n",
       "      <th></th>\n",
       "    </tr>\n",
       "  </thead>\n",
       "  <tbody>\n",
       "    <tr>\n",
       "      <th>chr10:100148111:100148265:-@chr10:100147622:100147841:-@chr10:100146958:100147064:-</th>\n",
       "      <td>junction:chr10:100147842-100148110</td>\n",
       "      <td>junction:chr10:100147065-100148110</td>\n",
       "      <td>NaN</td>\n",
       "      <td>junction:chr10:100147065-100147621</td>\n",
       "      <td>NaN</td>\n",
       "      <td>NaN</td>\n",
       "    </tr>\n",
       "    <tr>\n",
       "      <th>chr10:100150355:100150511:-@chr10:100148111:100148265:-@chr10:100146958:100147064:-</th>\n",
       "      <td>junction:chr10:100148266-100150354</td>\n",
       "      <td>junction:chr10:100147065-100150354</td>\n",
       "      <td>NaN</td>\n",
       "      <td>junction:chr10:100147065-100148110</td>\n",
       "      <td>NaN</td>\n",
       "      <td>NaN</td>\n",
       "    </tr>\n",
       "    <tr>\n",
       "      <th>chr10:100174766:100174978:-@chr10:100174489:100174591:-@chr10:100173705:100174052:-</th>\n",
       "      <td>junction:chr10:100174592-100174765</td>\n",
       "      <td>junction:chr10:100174053-100174765</td>\n",
       "      <td>NaN</td>\n",
       "      <td>junction:chr10:100174053-100174488</td>\n",
       "      <td>NaN</td>\n",
       "      <td>NaN</td>\n",
       "    </tr>\n",
       "    <tr>\n",
       "      <th>chr10:100186972:100187021:-@chr10:100185575:100185742:-@chr10:100185298:100185477:-</th>\n",
       "      <td>junction:chr10:100185743-100186971</td>\n",
       "      <td>junction:chr10:100185478-100186971</td>\n",
       "      <td>NaN</td>\n",
       "      <td>junction:chr10:100185478-100185574</td>\n",
       "      <td>NaN</td>\n",
       "      <td>NaN</td>\n",
       "    </tr>\n",
       "    <tr>\n",
       "      <th>chr10:100190328:100190427:-@chr10:100189548:100189646:-@chr10:100189330:100189399:-</th>\n",
       "      <td>junction:chr10:100189647-100190327</td>\n",
       "      <td>junction:chr10:100189400-100190327</td>\n",
       "      <td>NaN</td>\n",
       "      <td>junction:chr10:100189400-100189547</td>\n",
       "      <td>NaN</td>\n",
       "      <td>NaN</td>\n",
       "    </tr>\n",
       "  </tbody>\n",
       "</table>\n",
       "</div>"
      ],
      "text/plain": [
       "                                                                           junction_12  \\\n",
       "miso_id                                                                                  \n",
       "chr10:100148111:100148265:-@chr10:100147622:100...  junction:chr10:100147842-100148110   \n",
       "chr10:100150355:100150511:-@chr10:100148111:100...  junction:chr10:100148266-100150354   \n",
       "chr10:100174766:100174978:-@chr10:100174489:100...  junction:chr10:100174592-100174765   \n",
       "chr10:100186972:100187021:-@chr10:100185575:100...  junction:chr10:100185743-100186971   \n",
       "chr10:100190328:100190427:-@chr10:100189548:100...  junction:chr10:100189647-100190327   \n",
       "\n",
       "                                                                           junction_13  \\\n",
       "miso_id                                                                                  \n",
       "chr10:100148111:100148265:-@chr10:100147622:100...  junction:chr10:100147065-100148110   \n",
       "chr10:100150355:100150511:-@chr10:100148111:100...  junction:chr10:100147065-100150354   \n",
       "chr10:100174766:100174978:-@chr10:100174489:100...  junction:chr10:100174053-100174765   \n",
       "chr10:100186972:100187021:-@chr10:100185575:100...  junction:chr10:100185478-100186971   \n",
       "chr10:100190328:100190427:-@chr10:100189548:100...  junction:chr10:100189400-100190327   \n",
       "\n",
       "                                                   junction_14  \\\n",
       "miso_id                                                          \n",
       "chr10:100148111:100148265:-@chr10:100147622:100...         NaN   \n",
       "chr10:100150355:100150511:-@chr10:100148111:100...         NaN   \n",
       "chr10:100174766:100174978:-@chr10:100174489:100...         NaN   \n",
       "chr10:100186972:100187021:-@chr10:100185575:100...         NaN   \n",
       "chr10:100190328:100190427:-@chr10:100189548:100...         NaN   \n",
       "\n",
       "                                                                           junction_23  \\\n",
       "miso_id                                                                                  \n",
       "chr10:100148111:100148265:-@chr10:100147622:100...  junction:chr10:100147065-100147621   \n",
       "chr10:100150355:100150511:-@chr10:100148111:100...  junction:chr10:100147065-100148110   \n",
       "chr10:100174766:100174978:-@chr10:100174489:100...  junction:chr10:100174053-100174488   \n",
       "chr10:100186972:100187021:-@chr10:100185575:100...  junction:chr10:100185478-100185574   \n",
       "chr10:100190328:100190427:-@chr10:100189548:100...  junction:chr10:100189400-100189547   \n",
       "\n",
       "                                                   junction_24 junction_34  \n",
       "miso_id                                                                     \n",
       "chr10:100148111:100148265:-@chr10:100147622:100...         NaN         NaN  \n",
       "chr10:100150355:100150511:-@chr10:100148111:100...         NaN         NaN  \n",
       "chr10:100174766:100174978:-@chr10:100174489:100...         NaN         NaN  \n",
       "chr10:100186972:100187021:-@chr10:100185575:100...         NaN         NaN  \n",
       "chr10:100190328:100190427:-@chr10:100189548:100...         NaN         NaN  "
      ]
     },
     "execution_count": 17,
     "metadata": {},
     "output_type": "execute_result"
    }
   ],
   "source": [
    "miso_junctions.head()"
   ]
  },
  {
   "cell_type": "code",
   "execution_count": 18,
   "metadata": {
    "collapsed": false
   },
   "outputs": [
    {
     "data": {
      "text/plain": [
       "miso_id\n",
       "chr10:100148111:100148265:-@chr10:100147622:100147841:-@chr10:100146958:100147064:-    SE\n",
       "chr10:100150355:100150511:-@chr10:100148111:100148265:-@chr10:100146958:100147064:-    SE\n",
       "chr10:100174766:100174978:-@chr10:100174489:100174591:-@chr10:100173705:100174052:-    SE\n",
       "chr10:100186972:100187021:-@chr10:100185575:100185742:-@chr10:100185298:100185477:-    SE\n",
       "chr10:100190328:100190427:-@chr10:100189548:100189646:-@chr10:100189330:100189399:-    SE\n",
       "dtype: object"
      ]
     },
     "execution_count": 18,
     "metadata": {},
     "output_type": "execute_result"
    }
   ],
   "source": [
    "splice_type = miso_junctions.apply(lambda x: 'SE' if x.notnull().sum() == 3 else 'MXE', axis=1)\n",
    "splice_type.head()"
   ]
  },
  {
   "cell_type": "code",
   "execution_count": 19,
   "metadata": {
    "collapsed": false
   },
   "outputs": [
    {
     "data": {
      "text/plain": [
       "miso_id\n",
       "chr10:101379802:101380221:-@chr10:101373453:101373681:-@chr10:101372300:101372356:-@chr10:101370642:101371215:-    MXE\n",
       "chr10:102013178:102013296:-@chr10:102010005:102010089:-@chr10:102009867:102009935:-@chr10:102006552:102006692:-    MXE\n",
       "chr10:102020723:102020801:-@chr10:102019975:102020076:-@chr10:102016019:102016233:-@chr10:102013178:102013296:-    MXE\n",
       "chr10:102746847:102746953:-@chr10:102746506:102746732:-@chr10:102743705:102743831:-@chr10:102743512:102743574:-    MXE\n",
       "chr10:102746847:102746953:-@chr10:102746506:102746732:-@chr10:102743791:102743831:-@chr10:102743512:102743574:-    MXE\n",
       "dtype: object"
      ]
     },
     "execution_count": 19,
     "metadata": {},
     "output_type": "execute_result"
    }
   ],
   "source": [
    "splice_type[splice_type == 'MXE'].head()"
   ]
  },
  {
   "cell_type": "code",
   "execution_count": 20,
   "metadata": {
    "collapsed": true
   },
   "outputs": [],
   "source": [
    "splice_type.name = 'splice_type'"
   ]
  },
  {
   "cell_type": "code",
   "execution_count": 21,
   "metadata": {
    "collapsed": false
   },
   "outputs": [],
   "source": [
    "# splice_type = pd.Categorical(splice_type)\n",
    "# splice_type"
   ]
  },
  {
   "cell_type": "code",
   "execution_count": 22,
   "metadata": {
    "collapsed": false
   },
   "outputs": [],
   "source": [
    "miso_junction_reads2d = miso_junctions_valid.pivot_table(index=['miso_id', 'sample_id'],\n",
    "                                                         columns='junction_numbers', values='reads')"
   ]
  },
  {
   "cell_type": "code",
   "execution_count": 23,
   "metadata": {
    "collapsed": false
   },
   "outputs": [
    {
     "data": {
      "text/html": [
       "<div>\n",
       "<table border=\"1\" class=\"dataframe\">\n",
       "  <thead>\n",
       "    <tr style=\"text-align: right;\">\n",
       "      <th></th>\n",
       "      <th>junction_numbers</th>\n",
       "      <th>junction_12</th>\n",
       "      <th>junction_13</th>\n",
       "      <th>junction_14</th>\n",
       "      <th>junction_23</th>\n",
       "      <th>junction_24</th>\n",
       "      <th>junction_34</th>\n",
       "    </tr>\n",
       "    <tr>\n",
       "      <th>miso_id</th>\n",
       "      <th>sample_id</th>\n",
       "      <th></th>\n",
       "      <th></th>\n",
       "      <th></th>\n",
       "      <th></th>\n",
       "      <th></th>\n",
       "      <th></th>\n",
       "    </tr>\n",
       "  </thead>\n",
       "  <tbody>\n",
       "    <tr>\n",
       "      <th>chr10:100150355:100150511:-@chr10:100148111:100148265:-@chr10:100146958:100147064:-</th>\n",
       "      <th>CVN_35</th>\n",
       "      <td>NaN</td>\n",
       "      <td>9.0</td>\n",
       "      <td>NaN</td>\n",
       "      <td>NaN</td>\n",
       "      <td>NaN</td>\n",
       "      <td>NaN</td>\n",
       "    </tr>\n",
       "    <tr>\n",
       "      <th rowspan=\"4\" valign=\"top\">chr10:100174766:100174978:-@chr10:100174489:100174591:-@chr10:100173705:100174052:-</th>\n",
       "      <th>CVN_17</th>\n",
       "      <td>NaN</td>\n",
       "      <td>7.0</td>\n",
       "      <td>NaN</td>\n",
       "      <td>NaN</td>\n",
       "      <td>NaN</td>\n",
       "      <td>NaN</td>\n",
       "    </tr>\n",
       "    <tr>\n",
       "      <th>CVN_35</th>\n",
       "      <td>NaN</td>\n",
       "      <td>8.0</td>\n",
       "      <td>NaN</td>\n",
       "      <td>NaN</td>\n",
       "      <td>NaN</td>\n",
       "      <td>NaN</td>\n",
       "    </tr>\n",
       "    <tr>\n",
       "      <th>M2nd_33</th>\n",
       "      <td>NaN</td>\n",
       "      <td>2.0</td>\n",
       "      <td>NaN</td>\n",
       "      <td>NaN</td>\n",
       "      <td>NaN</td>\n",
       "      <td>NaN</td>\n",
       "    </tr>\n",
       "    <tr>\n",
       "      <th>M2nd_34</th>\n",
       "      <td>NaN</td>\n",
       "      <td>4.0</td>\n",
       "      <td>NaN</td>\n",
       "      <td>NaN</td>\n",
       "      <td>NaN</td>\n",
       "      <td>NaN</td>\n",
       "    </tr>\n",
       "  </tbody>\n",
       "</table>\n",
       "</div>"
      ],
      "text/plain": [
       "junction_numbers                                              junction_12  \\\n",
       "miso_id                                            sample_id                \n",
       "chr10:100150355:100150511:-@chr10:100148111:100... CVN_35             NaN   \n",
       "chr10:100174766:100174978:-@chr10:100174489:100... CVN_17             NaN   \n",
       "                                                   CVN_35             NaN   \n",
       "                                                   M2nd_33            NaN   \n",
       "                                                   M2nd_34            NaN   \n",
       "\n",
       "junction_numbers                                              junction_13  \\\n",
       "miso_id                                            sample_id                \n",
       "chr10:100150355:100150511:-@chr10:100148111:100... CVN_35             9.0   \n",
       "chr10:100174766:100174978:-@chr10:100174489:100... CVN_17             7.0   \n",
       "                                                   CVN_35             8.0   \n",
       "                                                   M2nd_33            2.0   \n",
       "                                                   M2nd_34            4.0   \n",
       "\n",
       "junction_numbers                                              junction_14  \\\n",
       "miso_id                                            sample_id                \n",
       "chr10:100150355:100150511:-@chr10:100148111:100... CVN_35             NaN   \n",
       "chr10:100174766:100174978:-@chr10:100174489:100... CVN_17             NaN   \n",
       "                                                   CVN_35             NaN   \n",
       "                                                   M2nd_33            NaN   \n",
       "                                                   M2nd_34            NaN   \n",
       "\n",
       "junction_numbers                                              junction_23  \\\n",
       "miso_id                                            sample_id                \n",
       "chr10:100150355:100150511:-@chr10:100148111:100... CVN_35             NaN   \n",
       "chr10:100174766:100174978:-@chr10:100174489:100... CVN_17             NaN   \n",
       "                                                   CVN_35             NaN   \n",
       "                                                   M2nd_33            NaN   \n",
       "                                                   M2nd_34            NaN   \n",
       "\n",
       "junction_numbers                                              junction_24  \\\n",
       "miso_id                                            sample_id                \n",
       "chr10:100150355:100150511:-@chr10:100148111:100... CVN_35             NaN   \n",
       "chr10:100174766:100174978:-@chr10:100174489:100... CVN_17             NaN   \n",
       "                                                   CVN_35             NaN   \n",
       "                                                   M2nd_33            NaN   \n",
       "                                                   M2nd_34            NaN   \n",
       "\n",
       "junction_numbers                                              junction_34  \n",
       "miso_id                                            sample_id               \n",
       "chr10:100150355:100150511:-@chr10:100148111:100... CVN_35             NaN  \n",
       "chr10:100174766:100174978:-@chr10:100174489:100... CVN_17             NaN  \n",
       "                                                   CVN_35             NaN  \n",
       "                                                   M2nd_33            NaN  \n",
       "                                                   M2nd_34            NaN  "
      ]
     },
     "execution_count": 23,
     "metadata": {},
     "output_type": "execute_result"
    }
   ],
   "source": [
    "miso_junction_reads2d.head()"
   ]
  },
  {
   "cell_type": "code",
   "execution_count": 24,
   "metadata": {
    "collapsed": false
   },
   "outputs": [
    {
     "name": "stdout",
     "output_type": "stream",
     "text": [
      "(1807125, 7)\n"
     ]
    },
    {
     "data": {
      "text/html": [
       "<div>\n",
       "<table border=\"1\" class=\"dataframe\">\n",
       "  <thead>\n",
       "    <tr style=\"text-align: right;\">\n",
       "      <th>junction_numbers</th>\n",
       "      <th>miso_id</th>\n",
       "      <th>junction_12</th>\n",
       "      <th>junction_13</th>\n",
       "      <th>junction_14</th>\n",
       "      <th>junction_23</th>\n",
       "      <th>junction_24</th>\n",
       "      <th>junction_34</th>\n",
       "    </tr>\n",
       "    <tr>\n",
       "      <th>sample_id</th>\n",
       "      <th></th>\n",
       "      <th></th>\n",
       "      <th></th>\n",
       "      <th></th>\n",
       "      <th></th>\n",
       "      <th></th>\n",
       "      <th></th>\n",
       "    </tr>\n",
       "  </thead>\n",
       "  <tbody>\n",
       "    <tr>\n",
       "      <th>CVN_35</th>\n",
       "      <td>chr10:100150355:100150511:-@chr10:100148111:10...</td>\n",
       "      <td>NaN</td>\n",
       "      <td>9.0</td>\n",
       "      <td>NaN</td>\n",
       "      <td>NaN</td>\n",
       "      <td>NaN</td>\n",
       "      <td>NaN</td>\n",
       "    </tr>\n",
       "    <tr>\n",
       "      <th>CVN_17</th>\n",
       "      <td>chr10:100174766:100174978:-@chr10:100174489:10...</td>\n",
       "      <td>NaN</td>\n",
       "      <td>7.0</td>\n",
       "      <td>NaN</td>\n",
       "      <td>NaN</td>\n",
       "      <td>NaN</td>\n",
       "      <td>NaN</td>\n",
       "    </tr>\n",
       "    <tr>\n",
       "      <th>CVN_35</th>\n",
       "      <td>chr10:100174766:100174978:-@chr10:100174489:10...</td>\n",
       "      <td>NaN</td>\n",
       "      <td>8.0</td>\n",
       "      <td>NaN</td>\n",
       "      <td>NaN</td>\n",
       "      <td>NaN</td>\n",
       "      <td>NaN</td>\n",
       "    </tr>\n",
       "    <tr>\n",
       "      <th>M2nd_33</th>\n",
       "      <td>chr10:100174766:100174978:-@chr10:100174489:10...</td>\n",
       "      <td>NaN</td>\n",
       "      <td>2.0</td>\n",
       "      <td>NaN</td>\n",
       "      <td>NaN</td>\n",
       "      <td>NaN</td>\n",
       "      <td>NaN</td>\n",
       "    </tr>\n",
       "    <tr>\n",
       "      <th>M2nd_34</th>\n",
       "      <td>chr10:100174766:100174978:-@chr10:100174489:10...</td>\n",
       "      <td>NaN</td>\n",
       "      <td>4.0</td>\n",
       "      <td>NaN</td>\n",
       "      <td>NaN</td>\n",
       "      <td>NaN</td>\n",
       "      <td>NaN</td>\n",
       "    </tr>\n",
       "  </tbody>\n",
       "</table>\n",
       "</div>"
      ],
      "text/plain": [
       "junction_numbers                                            miso_id  \\\n",
       "sample_id                                                             \n",
       "CVN_35            chr10:100150355:100150511:-@chr10:100148111:10...   \n",
       "CVN_17            chr10:100174766:100174978:-@chr10:100174489:10...   \n",
       "CVN_35            chr10:100174766:100174978:-@chr10:100174489:10...   \n",
       "M2nd_33           chr10:100174766:100174978:-@chr10:100174489:10...   \n",
       "M2nd_34           chr10:100174766:100174978:-@chr10:100174489:10...   \n",
       "\n",
       "junction_numbers  junction_12  junction_13  junction_14  junction_23  \\\n",
       "sample_id                                                              \n",
       "CVN_35                    NaN          9.0          NaN          NaN   \n",
       "CVN_17                    NaN          7.0          NaN          NaN   \n",
       "CVN_35                    NaN          8.0          NaN          NaN   \n",
       "M2nd_33                   NaN          2.0          NaN          NaN   \n",
       "M2nd_34                   NaN          4.0          NaN          NaN   \n",
       "\n",
       "junction_numbers  junction_24  junction_34  \n",
       "sample_id                                   \n",
       "CVN_35                    NaN          NaN  \n",
       "CVN_17                    NaN          NaN  \n",
       "CVN_35                    NaN          NaN  \n",
       "M2nd_33                   NaN          NaN  \n",
       "M2nd_34                   NaN          NaN  "
      ]
     },
     "execution_count": 24,
     "metadata": {},
     "output_type": "execute_result"
    }
   ],
   "source": [
    "miso_junction_reads2d_miso_id = miso_junction_reads2d.reset_index(level=0)\n",
    "print(miso_junction_reads2d_miso_id.shape)\n",
    "miso_junction_reads2d_miso_id.head()"
   ]
  },
  {
   "cell_type": "code",
   "execution_count": 25,
   "metadata": {
    "collapsed": false
   },
   "outputs": [
    {
     "data": {
      "text/html": [
       "<div>\n",
       "<table border=\"1\" class=\"dataframe\">\n",
       "  <thead>\n",
       "    <tr style=\"text-align: right;\">\n",
       "      <th></th>\n",
       "      <th>miso_id</th>\n",
       "      <th>junction_12</th>\n",
       "      <th>junction_13</th>\n",
       "      <th>junction_14</th>\n",
       "      <th>junction_23</th>\n",
       "      <th>junction_24</th>\n",
       "      <th>junction_34</th>\n",
       "      <th>splice_type</th>\n",
       "    </tr>\n",
       "    <tr>\n",
       "      <th>sample_id</th>\n",
       "      <th></th>\n",
       "      <th></th>\n",
       "      <th></th>\n",
       "      <th></th>\n",
       "      <th></th>\n",
       "      <th></th>\n",
       "      <th></th>\n",
       "      <th></th>\n",
       "    </tr>\n",
       "  </thead>\n",
       "  <tbody>\n",
       "    <tr>\n",
       "      <th>CVN_35</th>\n",
       "      <td>chr10:100150355:100150511:-@chr10:100148111:10...</td>\n",
       "      <td>NaN</td>\n",
       "      <td>9.0</td>\n",
       "      <td>NaN</td>\n",
       "      <td>NaN</td>\n",
       "      <td>NaN</td>\n",
       "      <td>NaN</td>\n",
       "      <td>SE</td>\n",
       "    </tr>\n",
       "    <tr>\n",
       "      <th>CVN_17</th>\n",
       "      <td>chr10:100174766:100174978:-@chr10:100174489:10...</td>\n",
       "      <td>NaN</td>\n",
       "      <td>7.0</td>\n",
       "      <td>NaN</td>\n",
       "      <td>NaN</td>\n",
       "      <td>NaN</td>\n",
       "      <td>NaN</td>\n",
       "      <td>SE</td>\n",
       "    </tr>\n",
       "    <tr>\n",
       "      <th>CVN_35</th>\n",
       "      <td>chr10:100174766:100174978:-@chr10:100174489:10...</td>\n",
       "      <td>NaN</td>\n",
       "      <td>8.0</td>\n",
       "      <td>NaN</td>\n",
       "      <td>NaN</td>\n",
       "      <td>NaN</td>\n",
       "      <td>NaN</td>\n",
       "      <td>SE</td>\n",
       "    </tr>\n",
       "    <tr>\n",
       "      <th>M2nd_33</th>\n",
       "      <td>chr10:100174766:100174978:-@chr10:100174489:10...</td>\n",
       "      <td>NaN</td>\n",
       "      <td>2.0</td>\n",
       "      <td>NaN</td>\n",
       "      <td>NaN</td>\n",
       "      <td>NaN</td>\n",
       "      <td>NaN</td>\n",
       "      <td>SE</td>\n",
       "    </tr>\n",
       "    <tr>\n",
       "      <th>M2nd_34</th>\n",
       "      <td>chr10:100174766:100174978:-@chr10:100174489:10...</td>\n",
       "      <td>NaN</td>\n",
       "      <td>4.0</td>\n",
       "      <td>NaN</td>\n",
       "      <td>NaN</td>\n",
       "      <td>NaN</td>\n",
       "      <td>NaN</td>\n",
       "      <td>SE</td>\n",
       "    </tr>\n",
       "  </tbody>\n",
       "</table>\n",
       "</div>"
      ],
      "text/plain": [
       "                                                     miso_id  junction_12  \\\n",
       "sample_id                                                                   \n",
       "CVN_35     chr10:100150355:100150511:-@chr10:100148111:10...          NaN   \n",
       "CVN_17     chr10:100174766:100174978:-@chr10:100174489:10...          NaN   \n",
       "CVN_35     chr10:100174766:100174978:-@chr10:100174489:10...          NaN   \n",
       "M2nd_33    chr10:100174766:100174978:-@chr10:100174489:10...          NaN   \n",
       "M2nd_34    chr10:100174766:100174978:-@chr10:100174489:10...          NaN   \n",
       "\n",
       "           junction_13  junction_14  junction_23  junction_24  junction_34  \\\n",
       "sample_id                                                                    \n",
       "CVN_35             9.0          NaN          NaN          NaN          NaN   \n",
       "CVN_17             7.0          NaN          NaN          NaN          NaN   \n",
       "CVN_35             8.0          NaN          NaN          NaN          NaN   \n",
       "M2nd_33            2.0          NaN          NaN          NaN          NaN   \n",
       "M2nd_34            4.0          NaN          NaN          NaN          NaN   \n",
       "\n",
       "          splice_type  \n",
       "sample_id              \n",
       "CVN_35             SE  \n",
       "CVN_17             SE  \n",
       "CVN_35             SE  \n",
       "M2nd_33            SE  \n",
       "M2nd_34            SE  "
      ]
     },
     "execution_count": 25,
     "metadata": {},
     "output_type": "execute_result"
    }
   ],
   "source": [
    "miso_junction_reads2d_splice_type = miso_junction_reads2d_miso_id.join(splice_type, on=['miso_id'])\n",
    "miso_junction_reads2d_splice_type.head()"
   ]
  },
  {
   "cell_type": "code",
   "execution_count": 26,
   "metadata": {
    "collapsed": false
   },
   "outputs": [
    {
     "name": "stdout",
     "output_type": "stream",
     "text": [
      "(1807125, 7)\n"
     ]
    },
    {
     "data": {
      "text/html": [
       "<div>\n",
       "<table border=\"1\" class=\"dataframe\">\n",
       "  <thead>\n",
       "    <tr style=\"text-align: right;\">\n",
       "      <th></th>\n",
       "      <th></th>\n",
       "      <th>junction_12</th>\n",
       "      <th>junction_13</th>\n",
       "      <th>junction_14</th>\n",
       "      <th>junction_23</th>\n",
       "      <th>junction_24</th>\n",
       "      <th>junction_34</th>\n",
       "      <th>splice_type</th>\n",
       "    </tr>\n",
       "    <tr>\n",
       "      <th>sample_id</th>\n",
       "      <th>miso_id</th>\n",
       "      <th></th>\n",
       "      <th></th>\n",
       "      <th></th>\n",
       "      <th></th>\n",
       "      <th></th>\n",
       "      <th></th>\n",
       "      <th></th>\n",
       "    </tr>\n",
       "  </thead>\n",
       "  <tbody>\n",
       "    <tr>\n",
       "      <th>CVN_35</th>\n",
       "      <th>chr10:100150355:100150511:-@chr10:100148111:100148265:-@chr10:100146958:100147064:-</th>\n",
       "      <td>NaN</td>\n",
       "      <td>9.0</td>\n",
       "      <td>NaN</td>\n",
       "      <td>NaN</td>\n",
       "      <td>NaN</td>\n",
       "      <td>NaN</td>\n",
       "      <td>SE</td>\n",
       "    </tr>\n",
       "    <tr>\n",
       "      <th>CVN_17</th>\n",
       "      <th>chr10:100174766:100174978:-@chr10:100174489:100174591:-@chr10:100173705:100174052:-</th>\n",
       "      <td>NaN</td>\n",
       "      <td>7.0</td>\n",
       "      <td>NaN</td>\n",
       "      <td>NaN</td>\n",
       "      <td>NaN</td>\n",
       "      <td>NaN</td>\n",
       "      <td>SE</td>\n",
       "    </tr>\n",
       "    <tr>\n",
       "      <th>CVN_35</th>\n",
       "      <th>chr10:100174766:100174978:-@chr10:100174489:100174591:-@chr10:100173705:100174052:-</th>\n",
       "      <td>NaN</td>\n",
       "      <td>8.0</td>\n",
       "      <td>NaN</td>\n",
       "      <td>NaN</td>\n",
       "      <td>NaN</td>\n",
       "      <td>NaN</td>\n",
       "      <td>SE</td>\n",
       "    </tr>\n",
       "    <tr>\n",
       "      <th>M2nd_33</th>\n",
       "      <th>chr10:100174766:100174978:-@chr10:100174489:100174591:-@chr10:100173705:100174052:-</th>\n",
       "      <td>NaN</td>\n",
       "      <td>2.0</td>\n",
       "      <td>NaN</td>\n",
       "      <td>NaN</td>\n",
       "      <td>NaN</td>\n",
       "      <td>NaN</td>\n",
       "      <td>SE</td>\n",
       "    </tr>\n",
       "    <tr>\n",
       "      <th>M2nd_34</th>\n",
       "      <th>chr10:100174766:100174978:-@chr10:100174489:100174591:-@chr10:100173705:100174052:-</th>\n",
       "      <td>NaN</td>\n",
       "      <td>4.0</td>\n",
       "      <td>NaN</td>\n",
       "      <td>NaN</td>\n",
       "      <td>NaN</td>\n",
       "      <td>NaN</td>\n",
       "      <td>SE</td>\n",
       "    </tr>\n",
       "  </tbody>\n",
       "</table>\n",
       "</div>"
      ],
      "text/plain": [
       "                                                              junction_12  \\\n",
       "sample_id miso_id                                                           \n",
       "CVN_35    chr10:100150355:100150511:-@chr10:100148111:100...          NaN   \n",
       "CVN_17    chr10:100174766:100174978:-@chr10:100174489:100...          NaN   \n",
       "CVN_35    chr10:100174766:100174978:-@chr10:100174489:100...          NaN   \n",
       "M2nd_33   chr10:100174766:100174978:-@chr10:100174489:100...          NaN   \n",
       "M2nd_34   chr10:100174766:100174978:-@chr10:100174489:100...          NaN   \n",
       "\n",
       "                                                              junction_13  \\\n",
       "sample_id miso_id                                                           \n",
       "CVN_35    chr10:100150355:100150511:-@chr10:100148111:100...          9.0   \n",
       "CVN_17    chr10:100174766:100174978:-@chr10:100174489:100...          7.0   \n",
       "CVN_35    chr10:100174766:100174978:-@chr10:100174489:100...          8.0   \n",
       "M2nd_33   chr10:100174766:100174978:-@chr10:100174489:100...          2.0   \n",
       "M2nd_34   chr10:100174766:100174978:-@chr10:100174489:100...          4.0   \n",
       "\n",
       "                                                              junction_14  \\\n",
       "sample_id miso_id                                                           \n",
       "CVN_35    chr10:100150355:100150511:-@chr10:100148111:100...          NaN   \n",
       "CVN_17    chr10:100174766:100174978:-@chr10:100174489:100...          NaN   \n",
       "CVN_35    chr10:100174766:100174978:-@chr10:100174489:100...          NaN   \n",
       "M2nd_33   chr10:100174766:100174978:-@chr10:100174489:100...          NaN   \n",
       "M2nd_34   chr10:100174766:100174978:-@chr10:100174489:100...          NaN   \n",
       "\n",
       "                                                              junction_23  \\\n",
       "sample_id miso_id                                                           \n",
       "CVN_35    chr10:100150355:100150511:-@chr10:100148111:100...          NaN   \n",
       "CVN_17    chr10:100174766:100174978:-@chr10:100174489:100...          NaN   \n",
       "CVN_35    chr10:100174766:100174978:-@chr10:100174489:100...          NaN   \n",
       "M2nd_33   chr10:100174766:100174978:-@chr10:100174489:100...          NaN   \n",
       "M2nd_34   chr10:100174766:100174978:-@chr10:100174489:100...          NaN   \n",
       "\n",
       "                                                              junction_24  \\\n",
       "sample_id miso_id                                                           \n",
       "CVN_35    chr10:100150355:100150511:-@chr10:100148111:100...          NaN   \n",
       "CVN_17    chr10:100174766:100174978:-@chr10:100174489:100...          NaN   \n",
       "CVN_35    chr10:100174766:100174978:-@chr10:100174489:100...          NaN   \n",
       "M2nd_33   chr10:100174766:100174978:-@chr10:100174489:100...          NaN   \n",
       "M2nd_34   chr10:100174766:100174978:-@chr10:100174489:100...          NaN   \n",
       "\n",
       "                                                              junction_34  \\\n",
       "sample_id miso_id                                                           \n",
       "CVN_35    chr10:100150355:100150511:-@chr10:100148111:100...          NaN   \n",
       "CVN_17    chr10:100174766:100174978:-@chr10:100174489:100...          NaN   \n",
       "CVN_35    chr10:100174766:100174978:-@chr10:100174489:100...          NaN   \n",
       "M2nd_33   chr10:100174766:100174978:-@chr10:100174489:100...          NaN   \n",
       "M2nd_34   chr10:100174766:100174978:-@chr10:100174489:100...          NaN   \n",
       "\n",
       "                                                             splice_type  \n",
       "sample_id miso_id                                                         \n",
       "CVN_35    chr10:100150355:100150511:-@chr10:100148111:100...          SE  \n",
       "CVN_17    chr10:100174766:100174978:-@chr10:100174489:100...          SE  \n",
       "CVN_35    chr10:100174766:100174978:-@chr10:100174489:100...          SE  \n",
       "M2nd_33   chr10:100174766:100174978:-@chr10:100174489:100...          SE  \n",
       "M2nd_34   chr10:100174766:100174978:-@chr10:100174489:100...          SE  "
      ]
     },
     "execution_count": 26,
     "metadata": {},
     "output_type": "execute_result"
    }
   ],
   "source": [
    "miso_junction_reads2d_splice_type_miso_id = miso_junction_reads2d_splice_type.set_index('miso_id', append=True)\n",
    "print(miso_junction_reads2d_splice_type_miso_id.shape)\n",
    "miso_junction_reads2d_splice_type_miso_id.head()"
   ]
  },
  {
   "cell_type": "code",
   "execution_count": 27,
   "metadata": {
    "collapsed": true
   },
   "outputs": [],
   "source": [
    "miso_junction_reads2d_splice_type_miso_id.to_csv(\n",
    "    '/projects/ps-yeolab/obotvinnik/singlecell_pnms/csvs_for_paper/miso_junction_reads2d_unstranded.csv')"
   ]
  },
  {
   "cell_type": "code",
   "execution_count": 28,
   "metadata": {
    "collapsed": false
   },
   "outputs": [],
   "source": [
    "row = miso_junction_reads2d_splice_type_miso_id.iloc[0]\n",
    "# row.iloc[:int(row['n_exons']-1)]"
   ]
  },
  {
   "cell_type": "code",
   "execution_count": 29,
   "metadata": {
    "collapsed": false
   },
   "outputs": [],
   "source": [
    "from outrigger.psi.compute import _maybe_reject, _scale, _summarize_event\n",
    "\n",
    "MIN_READS = 10\n",
    "METHOD = 'mean'\n",
    "UNEVEN_COVERAGE_MULTIPLIER = 10\n",
    "\n",
    "def calculate_psi(reads2d):\n",
    "    n_exons = 3 if reads2d.iloc[0]['splice_type'] == 'SE' else 4\n",
    "    \n",
    "#     reads = reads2d.iloc[:, :n_exons]\n",
    "    reads = reads2d.fillna(0)\n",
    "    \n",
    "    n_junctions = n_exons\n",
    "    if n_junctions == 3:\n",
    "        n_junctions1 = 1\n",
    "        n_junctions2 = 2\n",
    "        isoform1_junction_ids = ['junction_13']\n",
    "        isoform2_junction_ids = ['junction_12', 'junction_23']\n",
    "        incompatible_junctions = None\n",
    "    else:\n",
    "        n_junctions1 = 2\n",
    "        n_junctions2 = 2\n",
    "        isoform1_junction_ids = ['junction_13', 'junction_34']\n",
    "        isoform2_junction_ids = ['junction_12', 'junction_24']\n",
    "        incompatible_junctions = ['junction_14', 'junction_23']\n",
    "\n",
    "    maybe_rejected = _maybe_reject(\n",
    "        reads, isoform1_junction_ids, isoform2_junction_ids,\n",
    "        incompatible_ids=incompatible_junctions, n_junctions=n_junctions, \n",
    "        min_reads=MIN_READS,\n",
    "        uneven_coverage_multiplier=UNEVEN_COVERAGE_MULTIPLIER)\n",
    "\n",
    "    isoform1 = maybe_rejected[isoform1_junction_ids].apply(\n",
    "        _scale, n_junctions=n_junctions1, method=METHOD, axis=1)\n",
    "    isoform2 = maybe_rejected[isoform2_junction_ids].apply(\n",
    "        _scale, n_junctions=n_junctions2, method=METHOD, axis=1)\n",
    "\n",
    "    psi = isoform2 / (isoform2 + isoform1)\n",
    "    psi.name = 'psi'\n",
    "    \n",
    "#     print(maybe_rejected.head())\n",
    "    \n",
    "    summary = pd.concat([psi, maybe_rejected['notes']], axis=1)\n",
    "    return summary\n"
   ]
  },
  {
   "cell_type": "code",
   "execution_count": 30,
   "metadata": {
    "collapsed": false
   },
   "outputs": [
    {
     "data": {
      "text/html": [
       "<div>\n",
       "<table border=\"1\" class=\"dataframe\">\n",
       "  <thead>\n",
       "    <tr style=\"text-align: right;\">\n",
       "      <th></th>\n",
       "      <th></th>\n",
       "      <th>junction_12</th>\n",
       "      <th>junction_13</th>\n",
       "      <th>junction_14</th>\n",
       "      <th>junction_23</th>\n",
       "      <th>junction_24</th>\n",
       "      <th>junction_34</th>\n",
       "      <th>splice_type</th>\n",
       "    </tr>\n",
       "    <tr>\n",
       "      <th>sample_id</th>\n",
       "      <th>miso_id</th>\n",
       "      <th></th>\n",
       "      <th></th>\n",
       "      <th></th>\n",
       "      <th></th>\n",
       "      <th></th>\n",
       "      <th></th>\n",
       "      <th></th>\n",
       "    </tr>\n",
       "  </thead>\n",
       "  <tbody>\n",
       "    <tr>\n",
       "      <th>P7_09</th>\n",
       "      <th>chrY:59233167:59233257:+@chrY:59252483:59252550:+@chrY:59272371:59272463:+</th>\n",
       "      <td>62.0</td>\n",
       "      <td>NaN</td>\n",
       "      <td>NaN</td>\n",
       "      <td>NaN</td>\n",
       "      <td>NaN</td>\n",
       "      <td>NaN</td>\n",
       "      <td>SE</td>\n",
       "    </tr>\n",
       "    <tr>\n",
       "      <th>P9_03</th>\n",
       "      <th>chrY:59233167:59233257:+@chrY:59252483:59252550:+@chrY:59272371:59272463:+</th>\n",
       "      <td>62.0</td>\n",
       "      <td>NaN</td>\n",
       "      <td>NaN</td>\n",
       "      <td>NaN</td>\n",
       "      <td>NaN</td>\n",
       "      <td>NaN</td>\n",
       "      <td>SE</td>\n",
       "    </tr>\n",
       "    <tr>\n",
       "      <th>P1_09</th>\n",
       "      <th>chrY:6780129:6780213:+@chrY:6846254:6846284:+@chrY:6863845:6863939:+@chrY:6889490:6889578:+</th>\n",
       "      <td>29.0</td>\n",
       "      <td>NaN</td>\n",
       "      <td>NaN</td>\n",
       "      <td>NaN</td>\n",
       "      <td>38.0</td>\n",
       "      <td>NaN</td>\n",
       "      <td>MXE</td>\n",
       "    </tr>\n",
       "    <tr>\n",
       "      <th>P4_06</th>\n",
       "      <th>chrY:6780129:6780213:+@chrY:6846254:6846284:+@chrY:6863845:6863939:+@chrY:6889490:6889578:+</th>\n",
       "      <td>NaN</td>\n",
       "      <td>NaN</td>\n",
       "      <td>NaN</td>\n",
       "      <td>NaN</td>\n",
       "      <td>NaN</td>\n",
       "      <td>16.0</td>\n",
       "      <td>MXE</td>\n",
       "    </tr>\n",
       "    <tr>\n",
       "      <th>P1_09</th>\n",
       "      <th>chrY:6846254:6846284:+@chrY:6863845:6863939:+@chrY:6889490:6889578:+</th>\n",
       "      <td>NaN</td>\n",
       "      <td>38.0</td>\n",
       "      <td>NaN</td>\n",
       "      <td>NaN</td>\n",
       "      <td>NaN</td>\n",
       "      <td>NaN</td>\n",
       "      <td>SE</td>\n",
       "    </tr>\n",
       "    <tr>\n",
       "      <th>P4_06</th>\n",
       "      <th>chrY:6846254:6846284:+@chrY:6863845:6863939:+@chrY:6889490:6889578:+</th>\n",
       "      <td>NaN</td>\n",
       "      <td>NaN</td>\n",
       "      <td>NaN</td>\n",
       "      <td>16.0</td>\n",
       "      <td>NaN</td>\n",
       "      <td>NaN</td>\n",
       "      <td>SE</td>\n",
       "    </tr>\n",
       "    <tr>\n",
       "      <th>P1_09</th>\n",
       "      <th>chrY:6889490:6889578:+@chrY:6893076:6893183:+@chrY:6911021:6911166:+</th>\n",
       "      <td>24.0</td>\n",
       "      <td>NaN</td>\n",
       "      <td>NaN</td>\n",
       "      <td>NaN</td>\n",
       "      <td>NaN</td>\n",
       "      <td>NaN</td>\n",
       "      <td>SE</td>\n",
       "    </tr>\n",
       "    <tr>\n",
       "      <th>P4_06</th>\n",
       "      <th>chrY:6889490:6889578:+@chrY:6893076:6893183:+@chrY:6911021:6911166:+</th>\n",
       "      <td>17.0</td>\n",
       "      <td>NaN</td>\n",
       "      <td>NaN</td>\n",
       "      <td>NaN</td>\n",
       "      <td>NaN</td>\n",
       "      <td>NaN</td>\n",
       "      <td>SE</td>\n",
       "    </tr>\n",
       "    <tr>\n",
       "      <th>P1_04</th>\n",
       "      <th>chrY:6931938:6932190:+@chrY:6934736:6934869:+@chrY:6938237:6938369:+</th>\n",
       "      <td>NaN</td>\n",
       "      <td>58.0</td>\n",
       "      <td>NaN</td>\n",
       "      <td>NaN</td>\n",
       "      <td>NaN</td>\n",
       "      <td>NaN</td>\n",
       "      <td>SE</td>\n",
       "    </tr>\n",
       "    <tr>\n",
       "      <th>P7_07</th>\n",
       "      <th>chrY:6931938:6932190:+@chrY:6934736:6934869:+@chrY:6938237:6938369:+</th>\n",
       "      <td>NaN</td>\n",
       "      <td>47.0</td>\n",
       "      <td>NaN</td>\n",
       "      <td>NaN</td>\n",
       "      <td>NaN</td>\n",
       "      <td>NaN</td>\n",
       "      <td>SE</td>\n",
       "    </tr>\n",
       "  </tbody>\n",
       "</table>\n",
       "</div>"
      ],
      "text/plain": [
       "                                                              junction_12  \\\n",
       "sample_id miso_id                                                           \n",
       "P7_09     chrY:59233167:59233257:+@chrY:59252483:59252550...         62.0   \n",
       "P9_03     chrY:59233167:59233257:+@chrY:59252483:59252550...         62.0   \n",
       "P1_09     chrY:6780129:6780213:+@chrY:6846254:6846284:+@c...         29.0   \n",
       "P4_06     chrY:6780129:6780213:+@chrY:6846254:6846284:+@c...          NaN   \n",
       "P1_09     chrY:6846254:6846284:+@chrY:6863845:6863939:+@c...          NaN   \n",
       "P4_06     chrY:6846254:6846284:+@chrY:6863845:6863939:+@c...          NaN   \n",
       "P1_09     chrY:6889490:6889578:+@chrY:6893076:6893183:+@c...         24.0   \n",
       "P4_06     chrY:6889490:6889578:+@chrY:6893076:6893183:+@c...         17.0   \n",
       "P1_04     chrY:6931938:6932190:+@chrY:6934736:6934869:+@c...          NaN   \n",
       "P7_07     chrY:6931938:6932190:+@chrY:6934736:6934869:+@c...          NaN   \n",
       "\n",
       "                                                              junction_13  \\\n",
       "sample_id miso_id                                                           \n",
       "P7_09     chrY:59233167:59233257:+@chrY:59252483:59252550...          NaN   \n",
       "P9_03     chrY:59233167:59233257:+@chrY:59252483:59252550...          NaN   \n",
       "P1_09     chrY:6780129:6780213:+@chrY:6846254:6846284:+@c...          NaN   \n",
       "P4_06     chrY:6780129:6780213:+@chrY:6846254:6846284:+@c...          NaN   \n",
       "P1_09     chrY:6846254:6846284:+@chrY:6863845:6863939:+@c...         38.0   \n",
       "P4_06     chrY:6846254:6846284:+@chrY:6863845:6863939:+@c...          NaN   \n",
       "P1_09     chrY:6889490:6889578:+@chrY:6893076:6893183:+@c...          NaN   \n",
       "P4_06     chrY:6889490:6889578:+@chrY:6893076:6893183:+@c...          NaN   \n",
       "P1_04     chrY:6931938:6932190:+@chrY:6934736:6934869:+@c...         58.0   \n",
       "P7_07     chrY:6931938:6932190:+@chrY:6934736:6934869:+@c...         47.0   \n",
       "\n",
       "                                                              junction_14  \\\n",
       "sample_id miso_id                                                           \n",
       "P7_09     chrY:59233167:59233257:+@chrY:59252483:59252550...          NaN   \n",
       "P9_03     chrY:59233167:59233257:+@chrY:59252483:59252550...          NaN   \n",
       "P1_09     chrY:6780129:6780213:+@chrY:6846254:6846284:+@c...          NaN   \n",
       "P4_06     chrY:6780129:6780213:+@chrY:6846254:6846284:+@c...          NaN   \n",
       "P1_09     chrY:6846254:6846284:+@chrY:6863845:6863939:+@c...          NaN   \n",
       "P4_06     chrY:6846254:6846284:+@chrY:6863845:6863939:+@c...          NaN   \n",
       "P1_09     chrY:6889490:6889578:+@chrY:6893076:6893183:+@c...          NaN   \n",
       "P4_06     chrY:6889490:6889578:+@chrY:6893076:6893183:+@c...          NaN   \n",
       "P1_04     chrY:6931938:6932190:+@chrY:6934736:6934869:+@c...          NaN   \n",
       "P7_07     chrY:6931938:6932190:+@chrY:6934736:6934869:+@c...          NaN   \n",
       "\n",
       "                                                              junction_23  \\\n",
       "sample_id miso_id                                                           \n",
       "P7_09     chrY:59233167:59233257:+@chrY:59252483:59252550...          NaN   \n",
       "P9_03     chrY:59233167:59233257:+@chrY:59252483:59252550...          NaN   \n",
       "P1_09     chrY:6780129:6780213:+@chrY:6846254:6846284:+@c...          NaN   \n",
       "P4_06     chrY:6780129:6780213:+@chrY:6846254:6846284:+@c...          NaN   \n",
       "P1_09     chrY:6846254:6846284:+@chrY:6863845:6863939:+@c...          NaN   \n",
       "P4_06     chrY:6846254:6846284:+@chrY:6863845:6863939:+@c...         16.0   \n",
       "P1_09     chrY:6889490:6889578:+@chrY:6893076:6893183:+@c...          NaN   \n",
       "P4_06     chrY:6889490:6889578:+@chrY:6893076:6893183:+@c...          NaN   \n",
       "P1_04     chrY:6931938:6932190:+@chrY:6934736:6934869:+@c...          NaN   \n",
       "P7_07     chrY:6931938:6932190:+@chrY:6934736:6934869:+@c...          NaN   \n",
       "\n",
       "                                                              junction_24  \\\n",
       "sample_id miso_id                                                           \n",
       "P7_09     chrY:59233167:59233257:+@chrY:59252483:59252550...          NaN   \n",
       "P9_03     chrY:59233167:59233257:+@chrY:59252483:59252550...          NaN   \n",
       "P1_09     chrY:6780129:6780213:+@chrY:6846254:6846284:+@c...         38.0   \n",
       "P4_06     chrY:6780129:6780213:+@chrY:6846254:6846284:+@c...          NaN   \n",
       "P1_09     chrY:6846254:6846284:+@chrY:6863845:6863939:+@c...          NaN   \n",
       "P4_06     chrY:6846254:6846284:+@chrY:6863845:6863939:+@c...          NaN   \n",
       "P1_09     chrY:6889490:6889578:+@chrY:6893076:6893183:+@c...          NaN   \n",
       "P4_06     chrY:6889490:6889578:+@chrY:6893076:6893183:+@c...          NaN   \n",
       "P1_04     chrY:6931938:6932190:+@chrY:6934736:6934869:+@c...          NaN   \n",
       "P7_07     chrY:6931938:6932190:+@chrY:6934736:6934869:+@c...          NaN   \n",
       "\n",
       "                                                              junction_34  \\\n",
       "sample_id miso_id                                                           \n",
       "P7_09     chrY:59233167:59233257:+@chrY:59252483:59252550...          NaN   \n",
       "P9_03     chrY:59233167:59233257:+@chrY:59252483:59252550...          NaN   \n",
       "P1_09     chrY:6780129:6780213:+@chrY:6846254:6846284:+@c...          NaN   \n",
       "P4_06     chrY:6780129:6780213:+@chrY:6846254:6846284:+@c...         16.0   \n",
       "P1_09     chrY:6846254:6846284:+@chrY:6863845:6863939:+@c...          NaN   \n",
       "P4_06     chrY:6846254:6846284:+@chrY:6863845:6863939:+@c...          NaN   \n",
       "P1_09     chrY:6889490:6889578:+@chrY:6893076:6893183:+@c...          NaN   \n",
       "P4_06     chrY:6889490:6889578:+@chrY:6893076:6893183:+@c...          NaN   \n",
       "P1_04     chrY:6931938:6932190:+@chrY:6934736:6934869:+@c...          NaN   \n",
       "P7_07     chrY:6931938:6932190:+@chrY:6934736:6934869:+@c...          NaN   \n",
       "\n",
       "                                                             splice_type  \n",
       "sample_id miso_id                                                         \n",
       "P7_09     chrY:59233167:59233257:+@chrY:59252483:59252550...          SE  \n",
       "P9_03     chrY:59233167:59233257:+@chrY:59252483:59252550...          SE  \n",
       "P1_09     chrY:6780129:6780213:+@chrY:6846254:6846284:+@c...         MXE  \n",
       "P4_06     chrY:6780129:6780213:+@chrY:6846254:6846284:+@c...         MXE  \n",
       "P1_09     chrY:6846254:6846284:+@chrY:6863845:6863939:+@c...          SE  \n",
       "P4_06     chrY:6846254:6846284:+@chrY:6863845:6863939:+@c...          SE  \n",
       "P1_09     chrY:6889490:6889578:+@chrY:6893076:6893183:+@c...          SE  \n",
       "P4_06     chrY:6889490:6889578:+@chrY:6893076:6893183:+@c...          SE  \n",
       "P1_04     chrY:6931938:6932190:+@chrY:6934736:6934869:+@c...          SE  \n",
       "P7_07     chrY:6931938:6932190:+@chrY:6934736:6934869:+@c...          SE  "
      ]
     },
     "execution_count": 30,
     "metadata": {},
     "output_type": "execute_result"
    }
   ],
   "source": [
    "miso_junction_reads2d_splice_type_miso_id.tail(10)"
   ]
  },
  {
   "cell_type": "code",
   "execution_count": 31,
   "metadata": {
    "collapsed": false
   },
   "outputs": [
    {
     "name": "stdout",
     "output_type": "stream",
     "text": [
      "CPU times: user 395 ms, sys: 0 ns, total: 395 ms\n",
      "Wall time: 783 ms\n"
     ]
    }
   ],
   "source": [
    "%time miso_calculated_psi = miso_junction_reads2d_splice_type_miso_id.tail(100).groupby('splice_type').apply(calculate_psi)"
   ]
  },
  {
   "cell_type": "code",
   "execution_count": 32,
   "metadata": {
    "collapsed": false
   },
   "outputs": [
    {
     "data": {
      "text/plain": [
       "(1807125, 7)"
      ]
     },
     "execution_count": 32,
     "metadata": {},
     "output_type": "execute_result"
    }
   ],
   "source": [
    "miso_junction_reads2d_splice_type_miso_id.shape"
   ]
  },
  {
   "cell_type": "code",
   "execution_count": 38,
   "metadata": {
    "collapsed": false
   },
   "outputs": [
    {
     "data": {
      "text/plain": [
       "7.83"
      ]
     },
     "execution_count": 38,
     "metadata": {},
     "output_type": "execute_result"
    }
   ],
   "source": [
    "783./100"
   ]
  },
  {
   "cell_type": "code",
   "execution_count": 39,
   "metadata": {
    "collapsed": false
   },
   "outputs": [
    {
     "data": {
      "text/plain": [
       "14333245.65"
      ]
     },
     "execution_count": 39,
     "metadata": {},
     "output_type": "execute_result"
    }
   ],
   "source": [
    "(783./100) * 1830555"
   ]
  },
  {
   "cell_type": "markdown",
   "metadata": {},
   "source": [
    "14333245.65 milliseconds to complete on all samples"
   ]
  },
  {
   "cell_type": "code",
   "execution_count": 41,
   "metadata": {
    "collapsed": false
   },
   "outputs": [
    {
     "data": {
      "text/plain": [
       "14333.24565"
      ]
     },
     "execution_count": 41,
     "metadata": {},
     "output_type": "execute_result"
    }
   ],
   "source": [
    "((783./100) * 1830555)/1e3"
   ]
  },
  {
   "cell_type": "markdown",
   "metadata": {},
   "source": [
    "14333.24565 seconds"
   ]
  },
  {
   "cell_type": "code",
   "execution_count": 42,
   "metadata": {
    "collapsed": false
   },
   "outputs": [
    {
     "data": {
      "text/plain": [
       "238.8874275"
      ]
     },
     "execution_count": 42,
     "metadata": {},
     "output_type": "execute_result"
    }
   ],
   "source": [
    "(((783./100) * 1830555)/1e3)/60"
   ]
  },
  {
   "cell_type": "markdown",
   "metadata": {},
   "source": [
    "238.8874275 minutes"
   ]
  },
  {
   "cell_type": "code",
   "execution_count": 43,
   "metadata": {
    "collapsed": false
   },
   "outputs": [
    {
     "data": {
      "text/plain": [
       "3.981457125"
      ]
     },
     "execution_count": 43,
     "metadata": {},
     "output_type": "execute_result"
    }
   ],
   "source": [
    "((((783./100) * 1830555)/1e3)/60)/60"
   ]
  },
  {
   "cell_type": "markdown",
   "metadata": {},
   "source": [
    "~4 hours total\n",
    "\n",
    "started at: ~10:49am"
   ]
  },
  {
   "cell_type": "code",
   "execution_count": 44,
   "metadata": {
    "collapsed": false
   },
   "outputs": [
    {
     "name": "stdout",
     "output_type": "stream",
     "text": [
      "(1807125, 2)\n",
      "CPU times: user 1h 43min 10s, sys: 9.48 s, total: 1h 43min 20s\n",
      "Wall time: 2h 40min 25s\n"
     ]
    }
   ],
   "source": [
    "%%time\n",
    "\n",
    "miso_calculated_psi = miso_junction_reads2d_splice_type_miso_id.groupby('splice_type').apply(calculate_psi)\n",
    "print(miso_calculated_psi.shape)\n"
   ]
  },
  {
   "cell_type": "code",
   "execution_count": 45,
   "metadata": {
    "collapsed": false
   },
   "outputs": [
    {
     "data": {
      "text/html": [
       "<div>\n",
       "<table border=\"1\" class=\"dataframe\">\n",
       "  <thead>\n",
       "    <tr style=\"text-align: right;\">\n",
       "      <th></th>\n",
       "      <th></th>\n",
       "      <th>psi</th>\n",
       "      <th>notes</th>\n",
       "    </tr>\n",
       "    <tr>\n",
       "      <th>sample_id</th>\n",
       "      <th>miso_id</th>\n",
       "      <th></th>\n",
       "      <th></th>\n",
       "    </tr>\n",
       "  </thead>\n",
       "  <tbody>\n",
       "    <tr>\n",
       "      <th>CVN_35</th>\n",
       "      <th>chr10:100150355:100150511:-@chr10:100148111:100148265:-@chr10:100146958:100147064:-</th>\n",
       "      <td>NaN</td>\n",
       "      <td>Case 3: All junctions with insufficient reads</td>\n",
       "    </tr>\n",
       "    <tr>\n",
       "      <th>CVN_17</th>\n",
       "      <th>chr10:100174766:100174978:-@chr10:100174489:100174591:-@chr10:100173705:100174052:-</th>\n",
       "      <td>NaN</td>\n",
       "      <td>Case 3: All junctions with insufficient reads</td>\n",
       "    </tr>\n",
       "    <tr>\n",
       "      <th>CVN_35</th>\n",
       "      <th>chr10:100174766:100174978:-@chr10:100174489:100174591:-@chr10:100173705:100174052:-</th>\n",
       "      <td>NaN</td>\n",
       "      <td>Case 3: All junctions with insufficient reads</td>\n",
       "    </tr>\n",
       "    <tr>\n",
       "      <th>M2nd_33</th>\n",
       "      <th>chr10:100174766:100174978:-@chr10:100174489:100174591:-@chr10:100173705:100174052:-</th>\n",
       "      <td>NaN</td>\n",
       "      <td>Case 3: All junctions with insufficient reads</td>\n",
       "    </tr>\n",
       "    <tr>\n",
       "      <th>M2nd_34</th>\n",
       "      <th>chr10:100174766:100174978:-@chr10:100174489:100174591:-@chr10:100173705:100174052:-</th>\n",
       "      <td>NaN</td>\n",
       "      <td>Case 3: All junctions with insufficient reads</td>\n",
       "    </tr>\n",
       "  </tbody>\n",
       "</table>\n",
       "</div>"
      ],
      "text/plain": [
       "                                                              psi  \\\n",
       "sample_id miso_id                                                   \n",
       "CVN_35    chr10:100150355:100150511:-@chr10:100148111:100...  NaN   \n",
       "CVN_17    chr10:100174766:100174978:-@chr10:100174489:100...  NaN   \n",
       "CVN_35    chr10:100174766:100174978:-@chr10:100174489:100...  NaN   \n",
       "M2nd_33   chr10:100174766:100174978:-@chr10:100174489:100...  NaN   \n",
       "M2nd_34   chr10:100174766:100174978:-@chr10:100174489:100...  NaN   \n",
       "\n",
       "                                                                                                      notes  \n",
       "sample_id miso_id                                                                                            \n",
       "CVN_35    chr10:100150355:100150511:-@chr10:100148111:100...  Case 3: All junctions with insufficient reads  \n",
       "CVN_17    chr10:100174766:100174978:-@chr10:100174489:100...  Case 3: All junctions with insufficient reads  \n",
       "CVN_35    chr10:100174766:100174978:-@chr10:100174489:100...  Case 3: All junctions with insufficient reads  \n",
       "M2nd_33   chr10:100174766:100174978:-@chr10:100174489:100...  Case 3: All junctions with insufficient reads  \n",
       "M2nd_34   chr10:100174766:100174978:-@chr10:100174489:100...  Case 3: All junctions with insufficient reads  "
      ]
     },
     "execution_count": 45,
     "metadata": {},
     "output_type": "execute_result"
    }
   ],
   "source": [
    "miso_calculated_psi.head()"
   ]
  },
  {
   "cell_type": "code",
   "execution_count": 46,
   "metadata": {
    "collapsed": false
   },
   "outputs": [
    {
     "name": "stdout",
     "output_type": "stream",
     "text": [
      "(1807125, 4)\n"
     ]
    },
    {
     "data": {
      "text/html": [
       "<div>\n",
       "<table border=\"1\" class=\"dataframe\">\n",
       "  <thead>\n",
       "    <tr style=\"text-align: right;\">\n",
       "      <th></th>\n",
       "      <th>sample_id</th>\n",
       "      <th>miso_id</th>\n",
       "      <th>psi</th>\n",
       "      <th>notes</th>\n",
       "    </tr>\n",
       "  </thead>\n",
       "  <tbody>\n",
       "    <tr>\n",
       "      <th>0</th>\n",
       "      <td>CVN_35</td>\n",
       "      <td>chr10:100150355:100150511:-@chr10:100148111:10...</td>\n",
       "      <td>NaN</td>\n",
       "      <td>Case 3: All junctions with insufficient reads</td>\n",
       "    </tr>\n",
       "    <tr>\n",
       "      <th>1</th>\n",
       "      <td>CVN_17</td>\n",
       "      <td>chr10:100174766:100174978:-@chr10:100174489:10...</td>\n",
       "      <td>NaN</td>\n",
       "      <td>Case 3: All junctions with insufficient reads</td>\n",
       "    </tr>\n",
       "    <tr>\n",
       "      <th>2</th>\n",
       "      <td>CVN_35</td>\n",
       "      <td>chr10:100174766:100174978:-@chr10:100174489:10...</td>\n",
       "      <td>NaN</td>\n",
       "      <td>Case 3: All junctions with insufficient reads</td>\n",
       "    </tr>\n",
       "    <tr>\n",
       "      <th>3</th>\n",
       "      <td>M2nd_33</td>\n",
       "      <td>chr10:100174766:100174978:-@chr10:100174489:10...</td>\n",
       "      <td>NaN</td>\n",
       "      <td>Case 3: All junctions with insufficient reads</td>\n",
       "    </tr>\n",
       "    <tr>\n",
       "      <th>4</th>\n",
       "      <td>M2nd_34</td>\n",
       "      <td>chr10:100174766:100174978:-@chr10:100174489:10...</td>\n",
       "      <td>NaN</td>\n",
       "      <td>Case 3: All junctions with insufficient reads</td>\n",
       "    </tr>\n",
       "  </tbody>\n",
       "</table>\n",
       "</div>"
      ],
      "text/plain": [
       "  sample_id                                            miso_id  psi  \\\n",
       "0    CVN_35  chr10:100150355:100150511:-@chr10:100148111:10...  NaN   \n",
       "1    CVN_17  chr10:100174766:100174978:-@chr10:100174489:10...  NaN   \n",
       "2    CVN_35  chr10:100174766:100174978:-@chr10:100174489:10...  NaN   \n",
       "3   M2nd_33  chr10:100174766:100174978:-@chr10:100174489:10...  NaN   \n",
       "4   M2nd_34  chr10:100174766:100174978:-@chr10:100174489:10...  NaN   \n",
       "\n",
       "                                           notes  \n",
       "0  Case 3: All junctions with insufficient reads  \n",
       "1  Case 3: All junctions with insufficient reads  \n",
       "2  Case 3: All junctions with insufficient reads  \n",
       "3  Case 3: All junctions with insufficient reads  \n",
       "4  Case 3: All junctions with insufficient reads  "
      ]
     },
     "execution_count": 46,
     "metadata": {},
     "output_type": "execute_result"
    }
   ],
   "source": [
    "miso_calculated_psi_tidy = miso_calculated_psi.reset_index()\n",
    "print(miso_calculated_psi_tidy.shape)\n",
    "miso_calculated_psi_tidy.head()"
   ]
  },
  {
   "cell_type": "code",
   "execution_count": 53,
   "metadata": {
    "collapsed": true
   },
   "outputs": [],
   "source": [
    "csv = '/projects/ps-yeolab/obotvinnik/singlecell_pnms/csvs_for_paper/miso_ids_outrigger_calculated_psi_unstranded.csv'"
   ]
  },
  {
   "cell_type": "code",
   "execution_count": 54,
   "metadata": {
    "collapsed": true
   },
   "outputs": [],
   "source": [
    "miso_calculated_psi_tidy.to_csv(csv, index=False)"
   ]
  },
  {
   "cell_type": "code",
   "execution_count": 55,
   "metadata": {
    "collapsed": true
   },
   "outputs": [],
   "source": [
    "# miso_calculated_psi_tidy = pd.read_csv('/projects/ps-yeolab/obotvinnik/singlecell_pnms/csvs_for_paper/miso_ids_outrigger_calculated_psi.csv')"
   ]
  },
  {
   "cell_type": "code",
   "execution_count": 56,
   "metadata": {
    "collapsed": false
   },
   "outputs": [
    {
     "data": {
      "text/plain": [
       "notes\n",
       "Case 10a: Isoform1 with sufficient reads but Isoform2 has 1+ junctions with insufficient reads: There are sufficient junction reads       34439\n",
       "Case 10b: Isoform1 with sufficient reads but Isoform2 has 1+ junctions with insufficient reads: There are insufficient junction reads      5134\n",
       "Case 11a: Isoform1 has 1+ junction with insufficient reads but Isoform2 with sufficient reads: There are sufficient junction reads        27821\n",
       "Case 11b: Isoform1 has 1+ junction with insufficient reads but Isoform2 with sufficient reads: There are insufficient junction reads        368\n",
       "Case 12a: Isoform1 and Isoform2 each have both sufficient and insufficient junctions: There are sufficient junction reads                    14\n",
       "Case 12b: Isoform1 and Isoform2 each have both sufficient and insufficient junctions: There are insufficient junction reads                  14\n",
       "Case 1: >= 10 reads on junctions that are incompatible with the annotation                                                               175509\n",
       "Case 2: Zero observed reads                                                                                                               25592\n",
       "Case 3: All junctions with insufficient reads                                                                                            381859\n",
       "Case 4: Only one junction with sufficient reads                                                                                          421201\n",
       "Case 6: Unequal read coverage (one side has at least 10x more reads)                                                                      48264\n",
       "Case 7: Exclusion                                                                                                                        361682\n",
       "Case 8: Inclusion                                                                                                                        293917\n",
       "Case 9: Sufficient reads on all junctions                                                                                                 31311\n",
       "dtype: int64"
      ]
     },
     "execution_count": 56,
     "metadata": {},
     "output_type": "execute_result"
    }
   ],
   "source": [
    "miso_calculated_psi_tidy.groupby('notes').size()"
   ]
  },
  {
   "cell_type": "markdown",
   "metadata": {},
   "source": [
    "The \"Xb\" cases aren't correctly taken care of - the ones with insufficient reads should be \"10b\" not \"10a\""
   ]
  },
  {
   "cell_type": "code",
   "execution_count": 57,
   "metadata": {
    "collapsed": true
   },
   "outputs": [],
   "source": [
    "replacer = {'notes': {'Case 10a: Isoform1 with sufficient reads but Isoform2 has 1+ junctions with insufficient reads: There are insufficient junction reads': \n",
    "            'Case 10b: Isoform1 with sufficient reads but Isoform2 has 1+ junctions with insufficient reads: There are insufficient junction reads',\n",
    "           'Case 11a: Isoform1 has 1+ junction with insufficient reads but Isoform2 with sufficient reads: There are insufficient junction reads':\n",
    "           'Case 11b: Isoform1 has 1+ junction with insufficient reads but Isoform2 with sufficient reads: There are insufficient junction reads',\n",
    "           'Case 12a: Isoform1 and Isoform2 each have both sufficient and insufficient junctions: There are insufficient junction reads':\n",
    "           'Case 12b: Isoform1 and Isoform2 each have both sufficient and insufficient junctions: There are insufficient junction reads'}}"
   ]
  },
  {
   "cell_type": "code",
   "execution_count": 58,
   "metadata": {
    "collapsed": false
   },
   "outputs": [
    {
     "data": {
      "text/plain": [
       "notes\n",
       "Case 10a: Isoform1 with sufficient reads but Isoform2 has 1+ junctions with insufficient reads: There are sufficient junction reads       34439\n",
       "Case 10b: Isoform1 with sufficient reads but Isoform2 has 1+ junctions with insufficient reads: There are insufficient junction reads      5134\n",
       "Case 11a: Isoform1 has 1+ junction with insufficient reads but Isoform2 with sufficient reads: There are sufficient junction reads        27821\n",
       "Case 11b: Isoform1 has 1+ junction with insufficient reads but Isoform2 with sufficient reads: There are insufficient junction reads        368\n",
       "Case 12a: Isoform1 and Isoform2 each have both sufficient and insufficient junctions: There are sufficient junction reads                    14\n",
       "Case 12b: Isoform1 and Isoform2 each have both sufficient and insufficient junctions: There are insufficient junction reads                  14\n",
       "Case 1: >= 10 reads on junctions that are incompatible with the annotation                                                               175509\n",
       "Case 2: Zero observed reads                                                                                                               25592\n",
       "Case 3: All junctions with insufficient reads                                                                                            381859\n",
       "Case 4: Only one junction with sufficient reads                                                                                          421201\n",
       "Case 6: Unequal read coverage (one side has at least 10x more reads)                                                                      48264\n",
       "Case 7: Exclusion                                                                                                                        361682\n",
       "Case 8: Inclusion                                                                                                                        293917\n",
       "Case 9: Sufficient reads on all junctions                                                                                                 31311\n",
       "dtype: int64"
      ]
     },
     "execution_count": 58,
     "metadata": {},
     "output_type": "execute_result"
    }
   ],
   "source": [
    "miso_calculated_psi_tidy = miso_calculated_psi_tidy.replace(replacer)\n",
    "miso_calculated_psi_tidy.groupby('notes').size()"
   ]
  },
  {
   "cell_type": "markdown",
   "metadata": {},
   "source": [
    "Compared to when I ran outrigger, the cases don't match up to what I have now so I have to rename them"
   ]
  },
  {
   "cell_type": "code",
   "execution_count": 69,
   "metadata": {
    "collapsed": true
   },
   "outputs": [],
   "source": [
    "miso_calculated_psi_tidy['notes_copy'] = miso_calculated_psi_tidy['notes'].copy()"
   ]
  },
  {
   "cell_type": "code",
   "execution_count": 70,
   "metadata": {
    "collapsed": false
   },
   "outputs": [
    {
     "name": "stdout",
     "output_type": "stream",
     "text": [
      "Case 6 Case 5\n",
      "Case 7 Case 6\n",
      "Case 8 Case 7\n",
      "Case 9 Case 8\n",
      "Case 10a Case 9a\n",
      "Case 10b Case 9b\n",
      "Case 11a Case 10a\n",
      "Case 11b Case 10b\n",
      "Case 12a Case 11a\n",
      "Case 12b Case 11b\n"
     ]
    },
    {
     "data": {
      "text/plain": [
       "notes_copy\n",
       "Case 10a: Isoform1 has 1+ junction with insufficient reads but Isoform2 with sufficient reads: There are sufficient junction reads       27821\n",
       "Case 10b: Isoform1 has 1+ junction with insufficient reads but Isoform2 with sufficient reads: There are insufficient junction reads       368\n",
       "Case 11a: Isoform1 and Isoform2 each have both sufficient and insufficient junctions: There are sufficient junction reads                   14\n",
       "Case 11b: Isoform1 and Isoform2 each have both sufficient and insufficient junctions: There are insufficient junction reads                 14\n",
       "Case 1: >= 10 reads on junctions that are incompatible with the annotation                                                              175509\n",
       "Case 2: Zero observed reads                                                                                                              25592\n",
       "Case 3: All junctions with insufficient reads                                                                                           381859\n",
       "Case 4: Only one junction with sufficient reads                                                                                         421201\n",
       "Case 5: Unequal read coverage (one side has at least 10x more reads)                                                                     48264\n",
       "Case 6: Exclusion                                                                                                                       361682\n",
       "Case 7: Inclusion                                                                                                                       293917\n",
       "Case 8: Sufficient reads on all junctions                                                                                                31311\n",
       "Case 9a: Isoform1 with sufficient reads but Isoform2 has 1+ junctions with insufficient reads: There are sufficient junction reads       34439\n",
       "Case 9b: Isoform1 with sufficient reads but Isoform2 has 1+ junctions with insufficient reads: There are insufficient junction reads      5134\n",
       "dtype: int64"
      ]
     },
     "execution_count": 70,
     "metadata": {},
     "output_type": "execute_result"
    }
   ],
   "source": [
    "notes_abbrev_renamer = (('Case 6', 'Case 5'),\n",
    "                                         ('Case 7', 'Case 6'), \n",
    "                                         ('Case 8', 'Case 7'), \n",
    "                                         ('Case 9', 'Case 8'), \n",
    "                                         ('Case 10a', 'Case 9a'), \n",
    "                                         ('Case 10b', 'Case 9b'), \n",
    "                                         ('Case 11a', 'Case 10a'), \n",
    "                                         ('Case 11b', 'Case 10b'),\n",
    "                                         ('Case 12a', 'Case 11a'),\n",
    "                                         ('Case 12b', \"Case 11b\"))\n",
    "\n",
    "for pattern, replace in notes_abbrev_renamer:\n",
    "    print(pattern, replace)\n",
    "    miso_calculated_psi_tidy['notes_copy'] = miso_calculated_psi_tidy['notes_copy'].str.replace(pattern, replace)\n",
    "miso_calculated_psi_tidy.groupby('notes_copy').size()"
   ]
  },
  {
   "cell_type": "code",
   "execution_count": 71,
   "metadata": {
    "collapsed": false
   },
   "outputs": [
    {
     "data": {
      "text/html": [
       "<div>\n",
       "<table border=\"1\" class=\"dataframe\">\n",
       "  <thead>\n",
       "    <tr style=\"text-align: right;\">\n",
       "      <th></th>\n",
       "      <th>sample_id</th>\n",
       "      <th>miso_id</th>\n",
       "      <th>outrigger_psi</th>\n",
       "      <th>notes_abbrev</th>\n",
       "      <th>notes_copy</th>\n",
       "    </tr>\n",
       "  </thead>\n",
       "  <tbody>\n",
       "    <tr>\n",
       "      <th>0</th>\n",
       "      <td>CVN_35</td>\n",
       "      <td>chr10:100150355:100150511:-@chr10:100148111:10...</td>\n",
       "      <td>NaN</td>\n",
       "      <td>Case 3</td>\n",
       "      <td>Case 3: All junctions with insufficient reads</td>\n",
       "    </tr>\n",
       "    <tr>\n",
       "      <th>1</th>\n",
       "      <td>CVN_17</td>\n",
       "      <td>chr10:100174766:100174978:-@chr10:100174489:10...</td>\n",
       "      <td>NaN</td>\n",
       "      <td>Case 3</td>\n",
       "      <td>Case 3: All junctions with insufficient reads</td>\n",
       "    </tr>\n",
       "    <tr>\n",
       "      <th>2</th>\n",
       "      <td>CVN_35</td>\n",
       "      <td>chr10:100174766:100174978:-@chr10:100174489:10...</td>\n",
       "      <td>NaN</td>\n",
       "      <td>Case 3</td>\n",
       "      <td>Case 3: All junctions with insufficient reads</td>\n",
       "    </tr>\n",
       "    <tr>\n",
       "      <th>3</th>\n",
       "      <td>M2nd_33</td>\n",
       "      <td>chr10:100174766:100174978:-@chr10:100174489:10...</td>\n",
       "      <td>NaN</td>\n",
       "      <td>Case 3</td>\n",
       "      <td>Case 3: All junctions with insufficient reads</td>\n",
       "    </tr>\n",
       "    <tr>\n",
       "      <th>4</th>\n",
       "      <td>M2nd_34</td>\n",
       "      <td>chr10:100174766:100174978:-@chr10:100174489:10...</td>\n",
       "      <td>NaN</td>\n",
       "      <td>Case 3</td>\n",
       "      <td>Case 3: All junctions with insufficient reads</td>\n",
       "    </tr>\n",
       "  </tbody>\n",
       "</table>\n",
       "</div>"
      ],
      "text/plain": [
       "  sample_id                                            miso_id  outrigger_psi  \\\n",
       "0    CVN_35  chr10:100150355:100150511:-@chr10:100148111:10...            NaN   \n",
       "1    CVN_17  chr10:100174766:100174978:-@chr10:100174489:10...            NaN   \n",
       "2    CVN_35  chr10:100174766:100174978:-@chr10:100174489:10...            NaN   \n",
       "3   M2nd_33  chr10:100174766:100174978:-@chr10:100174489:10...            NaN   \n",
       "4   M2nd_34  chr10:100174766:100174978:-@chr10:100174489:10...            NaN   \n",
       "\n",
       "  notes_abbrev                                     notes_copy  \n",
       "0       Case 3  Case 3: All junctions with insufficient reads  \n",
       "1       Case 3  Case 3: All junctions with insufficient reads  \n",
       "2       Case 3  Case 3: All junctions with insufficient reads  \n",
       "3       Case 3  Case 3: All junctions with insufficient reads  \n",
       "4       Case 3  Case 3: All junctions with insufficient reads  "
      ]
     },
     "execution_count": 71,
     "metadata": {},
     "output_type": "execute_result"
    }
   ],
   "source": [
    "miso_calculated_psi_tidy = miso_calculated_psi_tidy.drop('notes', axis=1)\n",
    "miso_calculated_psi_tidy.head()"
   ]
  },
  {
   "cell_type": "code",
   "execution_count": 72,
   "metadata": {
    "collapsed": true
   },
   "outputs": [],
   "source": [
    "miso_calculated_psi_tidy = miso_calculated_psi_tidy.rename(columns={'notes_copy': 'notes', 'psi':'outrigger_psi'})"
   ]
  },
  {
   "cell_type": "code",
   "execution_count": 73,
   "metadata": {
    "collapsed": false
   },
   "outputs": [
    {
     "data": {
      "text/html": [
       "<div>\n",
       "<table border=\"1\" class=\"dataframe\">\n",
       "  <thead>\n",
       "    <tr style=\"text-align: right;\">\n",
       "      <th></th>\n",
       "      <th>sample_id</th>\n",
       "      <th>miso_id</th>\n",
       "      <th>outrigger_psi</th>\n",
       "      <th>notes_abbrev</th>\n",
       "      <th>notes</th>\n",
       "    </tr>\n",
       "  </thead>\n",
       "  <tbody>\n",
       "    <tr>\n",
       "      <th>0</th>\n",
       "      <td>CVN_35</td>\n",
       "      <td>chr10:100150355:100150511:-@chr10:100148111:10...</td>\n",
       "      <td>NaN</td>\n",
       "      <td>Case 3</td>\n",
       "      <td>Case 3: All junctions with insufficient reads</td>\n",
       "    </tr>\n",
       "    <tr>\n",
       "      <th>1</th>\n",
       "      <td>CVN_17</td>\n",
       "      <td>chr10:100174766:100174978:-@chr10:100174489:10...</td>\n",
       "      <td>NaN</td>\n",
       "      <td>Case 3</td>\n",
       "      <td>Case 3: All junctions with insufficient reads</td>\n",
       "    </tr>\n",
       "    <tr>\n",
       "      <th>2</th>\n",
       "      <td>CVN_35</td>\n",
       "      <td>chr10:100174766:100174978:-@chr10:100174489:10...</td>\n",
       "      <td>NaN</td>\n",
       "      <td>Case 3</td>\n",
       "      <td>Case 3: All junctions with insufficient reads</td>\n",
       "    </tr>\n",
       "    <tr>\n",
       "      <th>3</th>\n",
       "      <td>M2nd_33</td>\n",
       "      <td>chr10:100174766:100174978:-@chr10:100174489:10...</td>\n",
       "      <td>NaN</td>\n",
       "      <td>Case 3</td>\n",
       "      <td>Case 3: All junctions with insufficient reads</td>\n",
       "    </tr>\n",
       "    <tr>\n",
       "      <th>4</th>\n",
       "      <td>M2nd_34</td>\n",
       "      <td>chr10:100174766:100174978:-@chr10:100174489:10...</td>\n",
       "      <td>NaN</td>\n",
       "      <td>Case 3</td>\n",
       "      <td>Case 3: All junctions with insufficient reads</td>\n",
       "    </tr>\n",
       "  </tbody>\n",
       "</table>\n",
       "</div>"
      ],
      "text/plain": [
       "  sample_id                                            miso_id  outrigger_psi  \\\n",
       "0    CVN_35  chr10:100150355:100150511:-@chr10:100148111:10...            NaN   \n",
       "1    CVN_17  chr10:100174766:100174978:-@chr10:100174489:10...            NaN   \n",
       "2    CVN_35  chr10:100174766:100174978:-@chr10:100174489:10...            NaN   \n",
       "3   M2nd_33  chr10:100174766:100174978:-@chr10:100174489:10...            NaN   \n",
       "4   M2nd_34  chr10:100174766:100174978:-@chr10:100174489:10...            NaN   \n",
       "\n",
       "  notes_abbrev                                          notes  \n",
       "0       Case 3  Case 3: All junctions with insufficient reads  \n",
       "1       Case 3  Case 3: All junctions with insufficient reads  \n",
       "2       Case 3  Case 3: All junctions with insufficient reads  \n",
       "3       Case 3  Case 3: All junctions with insufficient reads  \n",
       "4       Case 3  Case 3: All junctions with insufficient reads  "
      ]
     },
     "execution_count": 73,
     "metadata": {},
     "output_type": "execute_result"
    }
   ],
   "source": [
    "miso_calculated_psi_tidy['notes_abbrev'] = miso_calculated_psi_tidy['notes'].str.split(':').str[0]\n",
    "miso_calculated_psi_tidy.head()"
   ]
  },
  {
   "cell_type": "code",
   "execution_count": 74,
   "metadata": {
    "collapsed": true
   },
   "outputs": [],
   "source": [
    "miso_calculated_psi_tidy.to_csv(csv, index=False)"
   ]
  },
  {
   "cell_type": "code",
   "execution_count": 77,
   "metadata": {
    "collapsed": false
   },
   "outputs": [
    {
     "data": {
      "text/html": [
       "<div>\n",
       "<table border=\"1\" class=\"dataframe\">\n",
       "  <thead>\n",
       "    <tr style=\"text-align: right;\">\n",
       "      <th></th>\n",
       "      <th>sample_id</th>\n",
       "      <th>miso_id</th>\n",
       "      <th>outrigger_psi</th>\n",
       "      <th>notes_abbrev</th>\n",
       "      <th>notes</th>\n",
       "    </tr>\n",
       "  </thead>\n",
       "  <tbody>\n",
       "    <tr>\n",
       "      <th>9</th>\n",
       "      <td>P2_13</td>\n",
       "      <td>chr10:100186972:100187021:-@chr10:100185575:10...</td>\n",
       "      <td>1.0</td>\n",
       "      <td>Case 7</td>\n",
       "      <td>Case 7: Inclusion</td>\n",
       "    </tr>\n",
       "  </tbody>\n",
       "</table>\n",
       "</div>"
      ],
      "text/plain": [
       "  sample_id                                            miso_id  outrigger_psi  \\\n",
       "9     P2_13  chr10:100186972:100187021:-@chr10:100185575:10...            1.0   \n",
       "\n",
       "  notes_abbrev              notes  \n",
       "9       Case 7  Case 7: Inclusion  "
      ]
     },
     "execution_count": 77,
     "metadata": {},
     "output_type": "execute_result"
    }
   ],
   "source": [
    "miso_calculated_psi_tidy.query('(sample_id == \"P2_13\") & (miso_id == \"chr10:100186972:100187021:-@chr10:100185575:100185742:-@chr10:100185298:100185477:-\")')"
   ]
  },
  {
   "cell_type": "code",
   "execution_count": 75,
   "metadata": {
    "collapsed": false
   },
   "outputs": [
    {
     "data": {
      "text/plain": [
       "junction_12     60\n",
       "junction_13    NaN\n",
       "junction_14    NaN\n",
       "junction_23     48\n",
       "junction_24    NaN\n",
       "junction_34    NaN\n",
       "splice_type     SE\n",
       "Name: (P2_13, chr10:100186972:100187021:-@chr10:100185575:100185742:-@chr10:100185298:100185477:-), dtype: object"
      ]
     },
     "execution_count": 75,
     "metadata": {},
     "output_type": "execute_result"
    }
   ],
   "source": [
    "miso_junction_reads2d_splice_type_miso_id.loc[('P2_13', 'chr10:100186972:100187021:-@chr10:100185575:100185742:-@chr10:100185298:100185477:-')]"
   ]
  },
  {
   "cell_type": "code",
   "execution_count": null,
   "metadata": {
    "collapsed": true
   },
   "outputs": [],
   "source": []
  }
 ],
 "metadata": {
  "kernelspec": {
   "display_name": "Python 2",
   "language": "python",
   "name": "python2"
  },
  "language_info": {
   "codemirror_mode": {
    "name": "ipython",
    "version": 2
   },
   "file_extension": ".py",
   "mimetype": "text/x-python",
   "name": "python",
   "nbconvert_exporter": "python",
   "pygments_lexer": "ipython2",
   "version": "2.7.11"
  }
 },
 "nbformat": 4,
 "nbformat_minor": 0
}
