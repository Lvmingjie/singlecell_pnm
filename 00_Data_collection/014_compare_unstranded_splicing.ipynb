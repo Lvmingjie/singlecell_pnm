{
 "cells": [
  {
   "cell_type": "code",
   "execution_count": 29,
   "metadata": {
    "collapsed": false
   },
   "outputs": [
    {
     "name": "stdout",
     "output_type": "stream",
     "text": [
      "{\n",
      "  \"stdin_port\": 41393, \n",
      "  \"ip\": \"127.0.0.1\", \n",
      "  \"control_port\": 49714, \n",
      "  \"hb_port\": 55932, \n",
      "  \"signature_scheme\": \"hmac-sha256\", \n",
      "  \"key\": \"b3fdf7d2-2b0e-4043-bab9-f32f58fe6482\", \n",
      "  \"shell_port\": 57709, \n",
      "  \"transport\": \"tcp\", \n",
      "  \"iopub_port\": 45087\n",
      "}\n",
      "\n",
      "Paste the above JSON into a file, and connect with:\n",
      "    $> ipython <app> --existing <file>\n",
      "or, if you are local, you can connect with just:\n",
      "    $> ipython <app> --existing /home/obotvinnik/.local/share/jupyter/runtime/kernel-8711ba68-c7ce-49a6-8d33-e6d9799e7b54.json \n",
      "or even just:\n",
      "    $> ipython <app> --existing \n",
      "if this is the most recent IPython session you have started.\n"
     ]
    }
   ],
   "source": [
    "%connect_info  #prints connection information\n",
    "%qtconsole  "
   ]
  },
  {
   "cell_type": "code",
   "execution_count": 30,
   "metadata": {
    "collapsed": false
   },
   "outputs": [
    {
     "data": {
      "application/javascript": [
       "IPython.notebook.kernel.execute(\"theNotebook = \" +     \"'\"+IPython.notebook.notebook_name+\"'\");"
      ],
      "text/plain": [
       "<IPython.core.display.Javascript object>"
      ]
     },
     "metadata": {},
     "output_type": "display_data"
    }
   ],
   "source": [
    "from IPython.core.display import display, Javascript\n",
    "\n",
    "def getname():\n",
    "    display(Javascript('IPython.notebook.kernel.execute(\"theNotebook = \" + \\\n",
    "    \"\\'\"+IPython.notebook.notebook_name+\"\\'\");'))\n",
    "    return theNotebook\n",
    "\n",
    "# Jakob\n",
    "notebook_name = getname()"
   ]
  },
  {
   "cell_type": "code",
   "execution_count": 36,
   "metadata": {
    "collapsed": false
   },
   "outputs": [
    {
     "data": {
      "text/plain": [
       "'figures/014_compare_unstranded_splicing'"
      ]
     },
     "execution_count": 36,
     "metadata": {},
     "output_type": "execute_result"
    }
   ],
   "source": [
    "figure_folder = 'figures/{}'.format(notebook_name.split('.ipynb')[0])\n",
    "! mkdir -p $figure_folder\n",
    "figure_folder"
   ]
  },
  {
   "cell_type": "code",
   "execution_count": 37,
   "metadata": {
    "collapsed": true
   },
   "outputs": [],
   "source": [
    "from __future__ import print_function"
   ]
  },
  {
   "cell_type": "code",
   "execution_count": 38,
   "metadata": {
    "collapsed": false
   },
   "outputs": [],
   "source": [
    "import pandas as pd\n",
    "import matplotlib.pyplot as plt\n",
    "import seaborn as sns\n",
    "\n",
    "%matplotlib inline\n",
    "\n",
    "sns.set(style='white', context='paper', rc={'font.sans-serif':'Arial', 'pdf.fonttype': 42})"
   ]
  },
  {
   "cell_type": "code",
   "execution_count": 39,
   "metadata": {
    "collapsed": false
   },
   "outputs": [
    {
     "name": "stdout",
     "output_type": "stream",
     "text": [
      "/oasis/tscc/scratch/obotvinnik/projects/singlecell_pnms/analysis\n"
     ]
    }
   ],
   "source": [
    "cd /home/obotvinnik/projects/singlecell_pnms/analysis/"
   ]
  },
  {
   "cell_type": "code",
   "execution_count": 40,
   "metadata": {
    "collapsed": false
   },
   "outputs": [
    {
     "name": "stdout",
     "output_type": "stream",
     "text": [
      "outrigger_v2_bam_unstranded\r\n",
      "|-- junctions\r\n",
      "|   `-- metadata.csv\r\n",
      "`-- psi\r\n",
      "    |-- mxe\r\n",
      "    |   |-- psi.csv\r\n",
      "    |   `-- summary.csv\r\n",
      "    |-- outrigger_psi.csv\r\n",
      "    `-- se\r\n",
      "        |-- psi.csv\r\n",
      "        `-- summary.csv\r\n",
      "\r\n",
      "4 directories, 6 files\r\n"
     ]
    }
   ],
   "source": [
    "! tree outrigger_v2_bam_unstranded"
   ]
  },
  {
   "cell_type": "code",
   "execution_count": 41,
   "metadata": {
    "collapsed": false
   },
   "outputs": [
    {
     "name": "stdout",
     "output_type": "stream",
     "text": [
      "7395283 outrigger_v2_bam/junctions/reads.csv\r\n"
     ]
    }
   ],
   "source": [
    "! wc -l outrigger_v2_bam/junctions/reads.csv"
   ]
  },
  {
   "cell_type": "code",
   "execution_count": 42,
   "metadata": {
    "collapsed": false
   },
   "outputs": [
    {
     "name": "stdout",
     "output_type": "stream",
     "text": [
      "6882316 outrigger_v2/junctions/reads.csv\r\n"
     ]
    }
   ],
   "source": [
    "! wc -l outrigger_v2/junctions/reads.csv"
   ]
  },
  {
   "cell_type": "markdown",
   "metadata": {},
   "source": [
    "Why are these different?"
   ]
  },
  {
   "cell_type": "code",
   "execution_count": 43,
   "metadata": {
    "collapsed": true
   },
   "outputs": [],
   "source": [
    "names_to_directories = {'unstranded': 'outrigger_v2_bam_unstranded', \n",
    "                        'stranded_bam': 'outrigger_v2_bam', \n",
    "                        'stranded': 'outrigger_v2',\n",
    "                        'stranded_rmdup': 'outrigger_v2_rmdup',\n",
    "                        'unstranded_rmdup': 'outrigger_v2_rmdup_unstranded'}"
   ]
  },
  {
   "cell_type": "code",
   "execution_count": 44,
   "metadata": {
    "collapsed": true
   },
   "outputs": [],
   "source": [
    "psis = {}\n",
    "\n",
    "for name, directory in names_to_directories.items():\n",
    "    psis[name] = pd.read_csv('{}/psi/outrigger_psi.csv'.format(directory), index_col=0)\n"
   ]
  },
  {
   "cell_type": "code",
   "execution_count": 45,
   "metadata": {
    "collapsed": false
   },
   "outputs": [
    {
     "name": "stdout",
     "output_type": "stream",
     "text": [
      "unstranded_rmdup outrigger_v2_rmdup_unstranded\n",
      "\t (11121006, 11)\n",
      "stranded_bam outrigger_v2_bam\n",
      "\t (7820345, 11)\n",
      "stranded outrigger_v2\n",
      "\t (12567319, 11)\n",
      "unstranded outrigger_v2_bam_unstranded\n",
      "\t (12567319, 11)\n",
      "stranded_rmdup outrigger_v2_rmdup\n",
      "\t (7909447, 11)\n",
      "(51985436, 12)\n"
     ]
    },
    {
     "data": {
      "text/html": [
       "<div>\n",
       "<table border=\"1\" class=\"dataframe\">\n",
       "  <thead>\n",
       "    <tr style=\"text-align: right;\">\n",
       "      <th></th>\n",
       "      <th>event_id</th>\n",
       "      <th>incompatible_junction0</th>\n",
       "      <th>incompatible_junction1</th>\n",
       "      <th>isoform1_junction13</th>\n",
       "      <th>isoform1_junction34</th>\n",
       "      <th>isoform2_junction12</th>\n",
       "      <th>isoform2_junction23</th>\n",
       "      <th>isoform2_junction24</th>\n",
       "      <th>notes</th>\n",
       "      <th>psi</th>\n",
       "      <th>sample_id</th>\n",
       "      <th>dataset</th>\n",
       "    </tr>\n",
       "  </thead>\n",
       "  <tbody>\n",
       "    <tr>\n",
       "      <th>0</th>\n",
       "      <td>isoform1=junction:chr10:100189400-100190327:-|...</td>\n",
       "      <td>NaN</td>\n",
       "      <td>NaN</td>\n",
       "      <td>0.0</td>\n",
       "      <td>NaN</td>\n",
       "      <td>0.0</td>\n",
       "      <td>0.0</td>\n",
       "      <td>NaN</td>\n",
       "      <td>Case 2: Zero observed reads</td>\n",
       "      <td>NaN</td>\n",
       "      <td>CVN_01</td>\n",
       "      <td>unstranded_rmdup</td>\n",
       "    </tr>\n",
       "    <tr>\n",
       "      <th>1</th>\n",
       "      <td>isoform1=junction:chr10:100189400-100190327:-|...</td>\n",
       "      <td>NaN</td>\n",
       "      <td>NaN</td>\n",
       "      <td>0.0</td>\n",
       "      <td>NaN</td>\n",
       "      <td>0.0</td>\n",
       "      <td>0.0</td>\n",
       "      <td>NaN</td>\n",
       "      <td>Case 2: Zero observed reads</td>\n",
       "      <td>NaN</td>\n",
       "      <td>CVN_02</td>\n",
       "      <td>unstranded_rmdup</td>\n",
       "    </tr>\n",
       "    <tr>\n",
       "      <th>2</th>\n",
       "      <td>isoform1=junction:chr10:100189400-100190327:-|...</td>\n",
       "      <td>NaN</td>\n",
       "      <td>NaN</td>\n",
       "      <td>0.0</td>\n",
       "      <td>NaN</td>\n",
       "      <td>0.0</td>\n",
       "      <td>0.0</td>\n",
       "      <td>NaN</td>\n",
       "      <td>Case 2: Zero observed reads</td>\n",
       "      <td>NaN</td>\n",
       "      <td>CVN_03</td>\n",
       "      <td>unstranded_rmdup</td>\n",
       "    </tr>\n",
       "    <tr>\n",
       "      <th>3</th>\n",
       "      <td>isoform1=junction:chr10:100189400-100190327:-|...</td>\n",
       "      <td>NaN</td>\n",
       "      <td>NaN</td>\n",
       "      <td>0.0</td>\n",
       "      <td>NaN</td>\n",
       "      <td>0.0</td>\n",
       "      <td>0.0</td>\n",
       "      <td>NaN</td>\n",
       "      <td>Case 2: Zero observed reads</td>\n",
       "      <td>NaN</td>\n",
       "      <td>CVN_04</td>\n",
       "      <td>unstranded_rmdup</td>\n",
       "    </tr>\n",
       "    <tr>\n",
       "      <th>4</th>\n",
       "      <td>isoform1=junction:chr10:100189400-100190327:-|...</td>\n",
       "      <td>NaN</td>\n",
       "      <td>NaN</td>\n",
       "      <td>0.0</td>\n",
       "      <td>NaN</td>\n",
       "      <td>0.0</td>\n",
       "      <td>0.0</td>\n",
       "      <td>NaN</td>\n",
       "      <td>Case 2: Zero observed reads</td>\n",
       "      <td>NaN</td>\n",
       "      <td>CVN_05</td>\n",
       "      <td>unstranded_rmdup</td>\n",
       "    </tr>\n",
       "  </tbody>\n",
       "</table>\n",
       "</div>"
      ],
      "text/plain": [
       "                                            event_id  incompatible_junction0  \\\n",
       "0  isoform1=junction:chr10:100189400-100190327:-|...                     NaN   \n",
       "1  isoform1=junction:chr10:100189400-100190327:-|...                     NaN   \n",
       "2  isoform1=junction:chr10:100189400-100190327:-|...                     NaN   \n",
       "3  isoform1=junction:chr10:100189400-100190327:-|...                     NaN   \n",
       "4  isoform1=junction:chr10:100189400-100190327:-|...                     NaN   \n",
       "\n",
       "   incompatible_junction1  isoform1_junction13  isoform1_junction34  \\\n",
       "0                     NaN                  0.0                  NaN   \n",
       "1                     NaN                  0.0                  NaN   \n",
       "2                     NaN                  0.0                  NaN   \n",
       "3                     NaN                  0.0                  NaN   \n",
       "4                     NaN                  0.0                  NaN   \n",
       "\n",
       "   isoform2_junction12  isoform2_junction23  isoform2_junction24  \\\n",
       "0                  0.0                  0.0                  NaN   \n",
       "1                  0.0                  0.0                  NaN   \n",
       "2                  0.0                  0.0                  NaN   \n",
       "3                  0.0                  0.0                  NaN   \n",
       "4                  0.0                  0.0                  NaN   \n",
       "\n",
       "                         notes  psi sample_id           dataset  \n",
       "0  Case 2: Zero observed reads  NaN    CVN_01  unstranded_rmdup  \n",
       "1  Case 2: Zero observed reads  NaN    CVN_02  unstranded_rmdup  \n",
       "2  Case 2: Zero observed reads  NaN    CVN_03  unstranded_rmdup  \n",
       "3  Case 2: Zero observed reads  NaN    CVN_04  unstranded_rmdup  \n",
       "4  Case 2: Zero observed reads  NaN    CVN_05  unstranded_rmdup  "
      ]
     },
     "execution_count": 45,
     "metadata": {},
     "output_type": "execute_result"
    }
   ],
   "source": [
    "dfs = []\n",
    "\n",
    "for name, directory in names_to_directories.items():\n",
    "    print(name, directory)\n",
    "    se = pd.read_csv('{}/psi/se/summary.csv'.format(directory))\n",
    "    mxe = pd.read_csv('{}/psi/mxe/summary.csv'.format(directory))\n",
    "    df = pd.concat([se, mxe], ignore_index=True)\n",
    "    print('\\t', df.shape)\n",
    "    df['sample_id'] = df['sample_id'].map(lambda x: '_'.join(x.split('_')[:2]))\n",
    "    df['dataset'] = name\n",
    "    dfs.append(df)\n",
    "summary = pd.concat(dfs, ignore_index=True)\n",
    "#     summaries[name] = summary\n",
    "\n",
    "print(summary.shape)\n",
    "summary.head()"
   ]
  },
  {
   "cell_type": "code",
   "execution_count": 46,
   "metadata": {
    "collapsed": false
   },
   "outputs": [
    {
     "name": "stdout",
     "output_type": "stream",
     "text": [
      "CPU times: user 6min 8s, sys: 6.51 s, total: 6min 15s\n",
      "Wall time: 14min 11s\n",
      "(5274006, 12)\n"
     ]
    },
    {
     "data": {
      "text/html": [
       "<div>\n",
       "<table border=\"1\" class=\"dataframe\">\n",
       "  <thead>\n",
       "    <tr style=\"text-align: right;\">\n",
       "      <th></th>\n",
       "      <th></th>\n",
       "      <th></th>\n",
       "      <th>event_id</th>\n",
       "      <th>incompatible_junction0</th>\n",
       "      <th>incompatible_junction1</th>\n",
       "      <th>isoform1_junction13</th>\n",
       "      <th>isoform1_junction34</th>\n",
       "      <th>isoform2_junction12</th>\n",
       "      <th>isoform2_junction23</th>\n",
       "      <th>isoform2_junction24</th>\n",
       "      <th>notes</th>\n",
       "      <th>psi</th>\n",
       "      <th>sample_id</th>\n",
       "      <th>dataset</th>\n",
       "    </tr>\n",
       "    <tr>\n",
       "      <th>dataset</th>\n",
       "      <th>event_id</th>\n",
       "      <th></th>\n",
       "      <th></th>\n",
       "      <th></th>\n",
       "      <th></th>\n",
       "      <th></th>\n",
       "      <th></th>\n",
       "      <th></th>\n",
       "      <th></th>\n",
       "      <th></th>\n",
       "      <th></th>\n",
       "      <th></th>\n",
       "      <th></th>\n",
       "      <th></th>\n",
       "    </tr>\n",
       "  </thead>\n",
       "  <tbody>\n",
       "    <tr>\n",
       "      <th rowspan=\"5\" valign=\"top\">stranded</th>\n",
       "      <th rowspan=\"5\" valign=\"top\">isoform1=junction:chr10:100189400-100190327:-|isoform2=junction:chr10:100189647-100190327:-@exon:chr10:100189548-100189646:-@junction:chr10:100189400-100189547:-</th>\n",
       "      <th>18941384</th>\n",
       "      <td>isoform1=junction:chr10:100189400-100190327:-|...</td>\n",
       "      <td>NaN</td>\n",
       "      <td>NaN</td>\n",
       "      <td>7.0</td>\n",
       "      <td>NaN</td>\n",
       "      <td>15.0</td>\n",
       "      <td>13.0</td>\n",
       "      <td>NaN</td>\n",
       "      <td>Case 11a: Isoform1 has 1+ junction with insuff...</td>\n",
       "      <td>0.666667</td>\n",
       "      <td>CVN_35</td>\n",
       "      <td>stranded</td>\n",
       "    </tr>\n",
       "    <tr>\n",
       "      <th>18941483</th>\n",
       "      <td>isoform1=junction:chr10:100189400-100190327:-|...</td>\n",
       "      <td>NaN</td>\n",
       "      <td>NaN</td>\n",
       "      <td>0.0</td>\n",
       "      <td>NaN</td>\n",
       "      <td>65.0</td>\n",
       "      <td>52.0</td>\n",
       "      <td>NaN</td>\n",
       "      <td>Case 8: Inclusion</td>\n",
       "      <td>1.000000</td>\n",
       "      <td>MSA_24</td>\n",
       "      <td>stranded</td>\n",
       "    </tr>\n",
       "    <tr>\n",
       "      <th>18941543</th>\n",
       "      <td>isoform1=junction:chr10:100189400-100190327:-|...</td>\n",
       "      <td>NaN</td>\n",
       "      <td>NaN</td>\n",
       "      <td>0.0</td>\n",
       "      <td>NaN</td>\n",
       "      <td>12.0</td>\n",
       "      <td>11.0</td>\n",
       "      <td>NaN</td>\n",
       "      <td>Case 8: Inclusion</td>\n",
       "      <td>1.000000</td>\n",
       "      <td>P1_06</td>\n",
       "      <td>stranded</td>\n",
       "    </tr>\n",
       "    <tr>\n",
       "      <th>18941547</th>\n",
       "      <td>isoform1=junction:chr10:100189400-100190327:-|...</td>\n",
       "      <td>NaN</td>\n",
       "      <td>NaN</td>\n",
       "      <td>43.0</td>\n",
       "      <td>NaN</td>\n",
       "      <td>0.0</td>\n",
       "      <td>0.0</td>\n",
       "      <td>NaN</td>\n",
       "      <td>Case 7: Exclusion</td>\n",
       "      <td>0.000000</td>\n",
       "      <td>P1_10</td>\n",
       "      <td>stranded</td>\n",
       "    </tr>\n",
       "    <tr>\n",
       "      <th>18941552</th>\n",
       "      <td>isoform1=junction:chr10:100189400-100190327:-|...</td>\n",
       "      <td>NaN</td>\n",
       "      <td>NaN</td>\n",
       "      <td>103.0</td>\n",
       "      <td>NaN</td>\n",
       "      <td>0.0</td>\n",
       "      <td>0.0</td>\n",
       "      <td>NaN</td>\n",
       "      <td>Case 7: Exclusion</td>\n",
       "      <td>0.000000</td>\n",
       "      <td>P2_03</td>\n",
       "      <td>stranded</td>\n",
       "    </tr>\n",
       "  </tbody>\n",
       "</table>\n",
       "</div>"
      ],
      "text/plain": [
       "                                                                                                               event_id  \\\n",
       "dataset  event_id                                                                                                         \n",
       "stranded isoform1=junction:chr10:100189400-100190327:-|i... 18941384  isoform1=junction:chr10:100189400-100190327:-|...   \n",
       "                                                            18941483  isoform1=junction:chr10:100189400-100190327:-|...   \n",
       "                                                            18941543  isoform1=junction:chr10:100189400-100190327:-|...   \n",
       "                                                            18941547  isoform1=junction:chr10:100189400-100190327:-|...   \n",
       "                                                            18941552  isoform1=junction:chr10:100189400-100190327:-|...   \n",
       "\n",
       "                                                                      incompatible_junction0  \\\n",
       "dataset  event_id                                                                              \n",
       "stranded isoform1=junction:chr10:100189400-100190327:-|i... 18941384                     NaN   \n",
       "                                                            18941483                     NaN   \n",
       "                                                            18941543                     NaN   \n",
       "                                                            18941547                     NaN   \n",
       "                                                            18941552                     NaN   \n",
       "\n",
       "                                                                      incompatible_junction1  \\\n",
       "dataset  event_id                                                                              \n",
       "stranded isoform1=junction:chr10:100189400-100190327:-|i... 18941384                     NaN   \n",
       "                                                            18941483                     NaN   \n",
       "                                                            18941543                     NaN   \n",
       "                                                            18941547                     NaN   \n",
       "                                                            18941552                     NaN   \n",
       "\n",
       "                                                                      isoform1_junction13  \\\n",
       "dataset  event_id                                                                           \n",
       "stranded isoform1=junction:chr10:100189400-100190327:-|i... 18941384                  7.0   \n",
       "                                                            18941483                  0.0   \n",
       "                                                            18941543                  0.0   \n",
       "                                                            18941547                 43.0   \n",
       "                                                            18941552                103.0   \n",
       "\n",
       "                                                                      isoform1_junction34  \\\n",
       "dataset  event_id                                                                           \n",
       "stranded isoform1=junction:chr10:100189400-100190327:-|i... 18941384                  NaN   \n",
       "                                                            18941483                  NaN   \n",
       "                                                            18941543                  NaN   \n",
       "                                                            18941547                  NaN   \n",
       "                                                            18941552                  NaN   \n",
       "\n",
       "                                                                      isoform2_junction12  \\\n",
       "dataset  event_id                                                                           \n",
       "stranded isoform1=junction:chr10:100189400-100190327:-|i... 18941384                 15.0   \n",
       "                                                            18941483                 65.0   \n",
       "                                                            18941543                 12.0   \n",
       "                                                            18941547                  0.0   \n",
       "                                                            18941552                  0.0   \n",
       "\n",
       "                                                                      isoform2_junction23  \\\n",
       "dataset  event_id                                                                           \n",
       "stranded isoform1=junction:chr10:100189400-100190327:-|i... 18941384                 13.0   \n",
       "                                                            18941483                 52.0   \n",
       "                                                            18941543                 11.0   \n",
       "                                                            18941547                  0.0   \n",
       "                                                            18941552                  0.0   \n",
       "\n",
       "                                                                      isoform2_junction24  \\\n",
       "dataset  event_id                                                                           \n",
       "stranded isoform1=junction:chr10:100189400-100190327:-|i... 18941384                  NaN   \n",
       "                                                            18941483                  NaN   \n",
       "                                                            18941543                  NaN   \n",
       "                                                            18941547                  NaN   \n",
       "                                                            18941552                  NaN   \n",
       "\n",
       "                                                                                                                  notes  \\\n",
       "dataset  event_id                                                                                                         \n",
       "stranded isoform1=junction:chr10:100189400-100190327:-|i... 18941384  Case 11a: Isoform1 has 1+ junction with insuff...   \n",
       "                                                            18941483                                  Case 8: Inclusion   \n",
       "                                                            18941543                                  Case 8: Inclusion   \n",
       "                                                            18941547                                  Case 7: Exclusion   \n",
       "                                                            18941552                                  Case 7: Exclusion   \n",
       "\n",
       "                                                                           psi  \\\n",
       "dataset  event_id                                                                \n",
       "stranded isoform1=junction:chr10:100189400-100190327:-|i... 18941384  0.666667   \n",
       "                                                            18941483  1.000000   \n",
       "                                                            18941543  1.000000   \n",
       "                                                            18941547  0.000000   \n",
       "                                                            18941552  0.000000   \n",
       "\n",
       "                                                                     sample_id  \\\n",
       "dataset  event_id                                                                \n",
       "stranded isoform1=junction:chr10:100189400-100190327:-|i... 18941384    CVN_35   \n",
       "                                                            18941483    MSA_24   \n",
       "                                                            18941543     P1_06   \n",
       "                                                            18941547     P1_10   \n",
       "                                                            18941552     P2_03   \n",
       "\n",
       "                                                                       dataset  \n",
       "dataset  event_id                                                               \n",
       "stranded isoform1=junction:chr10:100189400-100190327:-|i... 18941384  stranded  \n",
       "                                                            18941483  stranded  \n",
       "                                                            18941543  stranded  \n",
       "                                                            18941547  stranded  \n",
       "                                                            18941552  stranded  "
      ]
     },
     "execution_count": 46,
     "metadata": {},
     "output_type": "execute_result"
    }
   ],
   "source": [
    "%time summary_dropna = summary.groupby(['dataset', 'event_id']).apply(lambda x: x.dropna(subset=['psi'], how='all'))\n",
    "print(summary_dropna.shape)\n",
    "summary_dropna.head()"
   ]
  },
  {
   "cell_type": "code",
   "execution_count": 48,
   "metadata": {
    "collapsed": false
   },
   "outputs": [],
   "source": [
    "# %time summary_dropna = summary.groupby(['dataset', 'sample_id', 'event_id']).apply(lambda x: x.dropna(subset=['psi'], how='all'))\n",
    "# print(summary_dropna.shape)\n",
    "# summary_dropna.head()"
   ]
  },
  {
   "cell_type": "code",
   "execution_count": 49,
   "metadata": {
    "collapsed": false
   },
   "outputs": [
    {
     "name": "stdout",
     "output_type": "stream",
     "text": [
      "(1543408, 5)\n",
      "(1543408, 5)\n"
     ]
    },
    {
     "data": {
      "text/html": [
       "<div>\n",
       "<table border=\"1\" class=\"dataframe\">\n",
       "  <thead>\n",
       "    <tr style=\"text-align: right;\">\n",
       "      <th></th>\n",
       "      <th>dataset</th>\n",
       "      <th>stranded</th>\n",
       "      <th>stranded_bam</th>\n",
       "      <th>stranded_rmdup</th>\n",
       "      <th>unstranded</th>\n",
       "      <th>unstranded_rmdup</th>\n",
       "    </tr>\n",
       "    <tr>\n",
       "      <th>sample_id</th>\n",
       "      <th>event_id</th>\n",
       "      <th></th>\n",
       "      <th></th>\n",
       "      <th></th>\n",
       "      <th></th>\n",
       "      <th></th>\n",
       "    </tr>\n",
       "  </thead>\n",
       "  <tbody>\n",
       "    <tr>\n",
       "      <th rowspan=\"5\" valign=\"top\">CVN_01</th>\n",
       "      <th>isoform1=junction:chr10:101163392-101165512:-|isoform2=junction:chr10:101163632-101165512:-@exon:chr10:101163481-101163631:-@junction:chr10:101163392-101163480:-</th>\n",
       "      <td>1.000000</td>\n",
       "      <td>NaN</td>\n",
       "      <td>NaN</td>\n",
       "      <td>1.000000</td>\n",
       "      <td>1.0</td>\n",
       "    </tr>\n",
       "    <tr>\n",
       "      <th>isoform1=junction:chr10:101421386-101439481:+|isoform2=junction:chr10:101421386-101439017:+@exon:chr10:101439018-101439223:+@junction:chr10:101439224-101439481:+</th>\n",
       "      <td>1.000000</td>\n",
       "      <td>NaN</td>\n",
       "      <td>NaN</td>\n",
       "      <td>1.000000</td>\n",
       "      <td>NaN</td>\n",
       "    </tr>\n",
       "    <tr>\n",
       "      <th>isoform1=junction:chr10:101507148-101514285:+|isoform2=junction:chr10:101507148-101510125:+@exon:chr10:101510126-101510153:+@junction:chr10:101510154-101514285:+</th>\n",
       "      <td>0.994118</td>\n",
       "      <td>NaN</td>\n",
       "      <td>1.0</td>\n",
       "      <td>0.994118</td>\n",
       "      <td>1.0</td>\n",
       "    </tr>\n",
       "    <tr>\n",
       "      <th>isoform1=junction:chr10:101510154-101514285:+|isoform2=junction:chr10:101510154-101513352:+@novel_exon:chr10:101513353-101513445:+@junction:chr10:101513446-101514285:+</th>\n",
       "      <td>0.000000</td>\n",
       "      <td>NaN</td>\n",
       "      <td>NaN</td>\n",
       "      <td>0.000000</td>\n",
       "      <td>0.0</td>\n",
       "    </tr>\n",
       "    <tr>\n",
       "      <th>isoform1=junction:chr10:102114390-102120490:+|isoform2=junction:chr10:102114390-102116288:+@exon:chr10:102116289-102116521:+@junction:chr10:102116522-102120490:+</th>\n",
       "      <td>1.000000</td>\n",
       "      <td>1.0</td>\n",
       "      <td>1.0</td>\n",
       "      <td>1.000000</td>\n",
       "      <td>1.0</td>\n",
       "    </tr>\n",
       "  </tbody>\n",
       "</table>\n",
       "</div>"
      ],
      "text/plain": [
       "dataset                                                       stranded  \\\n",
       "sample_id event_id                                                       \n",
       "CVN_01    isoform1=junction:chr10:101163392-101165512:-|i...  1.000000   \n",
       "          isoform1=junction:chr10:101421386-101439481:+|i...  1.000000   \n",
       "          isoform1=junction:chr10:101507148-101514285:+|i...  0.994118   \n",
       "          isoform1=junction:chr10:101510154-101514285:+|i...  0.000000   \n",
       "          isoform1=junction:chr10:102114390-102120490:+|i...  1.000000   \n",
       "\n",
       "dataset                                                       stranded_bam  \\\n",
       "sample_id event_id                                                           \n",
       "CVN_01    isoform1=junction:chr10:101163392-101165512:-|i...           NaN   \n",
       "          isoform1=junction:chr10:101421386-101439481:+|i...           NaN   \n",
       "          isoform1=junction:chr10:101507148-101514285:+|i...           NaN   \n",
       "          isoform1=junction:chr10:101510154-101514285:+|i...           NaN   \n",
       "          isoform1=junction:chr10:102114390-102120490:+|i...           1.0   \n",
       "\n",
       "dataset                                                       stranded_rmdup  \\\n",
       "sample_id event_id                                                             \n",
       "CVN_01    isoform1=junction:chr10:101163392-101165512:-|i...             NaN   \n",
       "          isoform1=junction:chr10:101421386-101439481:+|i...             NaN   \n",
       "          isoform1=junction:chr10:101507148-101514285:+|i...             1.0   \n",
       "          isoform1=junction:chr10:101510154-101514285:+|i...             NaN   \n",
       "          isoform1=junction:chr10:102114390-102120490:+|i...             1.0   \n",
       "\n",
       "dataset                                                       unstranded  \\\n",
       "sample_id event_id                                                         \n",
       "CVN_01    isoform1=junction:chr10:101163392-101165512:-|i...    1.000000   \n",
       "          isoform1=junction:chr10:101421386-101439481:+|i...    1.000000   \n",
       "          isoform1=junction:chr10:101507148-101514285:+|i...    0.994118   \n",
       "          isoform1=junction:chr10:101510154-101514285:+|i...    0.000000   \n",
       "          isoform1=junction:chr10:102114390-102120490:+|i...    1.000000   \n",
       "\n",
       "dataset                                                       unstranded_rmdup  \n",
       "sample_id event_id                                                              \n",
       "CVN_01    isoform1=junction:chr10:101163392-101165512:-|i...               1.0  \n",
       "          isoform1=junction:chr10:101421386-101439481:+|i...               NaN  \n",
       "          isoform1=junction:chr10:101507148-101514285:+|i...               1.0  \n",
       "          isoform1=junction:chr10:101510154-101514285:+|i...               0.0  \n",
       "          isoform1=junction:chr10:102114390-102120490:+|i...               1.0  "
      ]
     },
     "execution_count": 49,
     "metadata": {},
     "output_type": "execute_result"
    }
   ],
   "source": [
    "wide_psi = summary_dropna.pivot_table(index=['sample_id', 'event_id'], columns='dataset', values='psi')\n",
    "print(wide_psi.shape)\n",
    "wide_psi = wide_psi.dropna(how='all')\n",
    "print(wide_psi.shape)\n",
    "wide_psi.head()"
   ]
  },
  {
   "cell_type": "code",
   "execution_count": 50,
   "metadata": {
    "collapsed": false
   },
   "outputs": [
    {
     "data": {
      "text/plain": [
       "'isoform1=junction:chr10:79797063-79800372:+|isoform2=junction:chr10:79797063-79799961:+@exon:chr10:79799962-79799983:+@junction:chr10:79799984-79800372:+'"
      ]
     },
     "execution_count": 50,
     "metadata": {},
     "output_type": "execute_result"
    }
   ],
   "source": [
    "rps24_event = 'isoform1=junction:chr10:79797063-79800372:+|'\\\n",
    "'isoform2=junction:chr10:79797063-79799961:+@exon:chr10:79799962-79799983:+@junction:chr10:79799984-79800372:+'\n",
    "rps24_event"
   ]
  },
  {
   "cell_type": "code",
   "execution_count": 51,
   "metadata": {
    "collapsed": false
   },
   "outputs": [
    {
     "data": {
      "text/plain": [
       "u'isoform1=junction:chr15:72494962-72499068:-@exon:chr15:72494795-72494961:-@junction:chr15:72492997-72494794:-|isoform2=junction:chr15:72495530-72499068:-@exon:chr15:72495363-72495529:-@junction:chr15:72492997-72495362:-'"
      ]
     },
     "execution_count": 51,
     "metadata": {},
     "output_type": "execute_result"
    }
   ],
   "source": [
    "pkm_mxe_event = u'isoform1=junction:chr15:72494962-72499068:-@exon:chr15:72494795-72494961:-@junction:chr15:72492997-72494794:-'\\\n",
    "'|isoform2=junction:chr15:72495530-72499068:-@exon:chr15:72495363-72495529:-@junction:chr15:72492997-72495362:-'\n",
    "pkm_mxe_event"
   ]
  },
  {
   "cell_type": "code",
   "execution_count": 52,
   "metadata": {
    "collapsed": true
   },
   "outputs": [],
   "source": [
    "idx = pd.IndexSlice"
   ]
  },
  {
   "cell_type": "code",
   "execution_count": 53,
   "metadata": {
    "collapsed": true
   },
   "outputs": [],
   "source": [
    "sample_ids = ['M6_04', 'P1_03']"
   ]
  },
  {
   "cell_type": "code",
   "execution_count": 54,
   "metadata": {
    "collapsed": false
   },
   "outputs": [
    {
     "data": {
      "text/html": [
       "<div>\n",
       "<table border=\"1\" class=\"dataframe\">\n",
       "  <thead>\n",
       "    <tr style=\"text-align: right;\">\n",
       "      <th></th>\n",
       "      <th>dataset</th>\n",
       "      <th>stranded</th>\n",
       "      <th>stranded_bam</th>\n",
       "      <th>stranded_rmdup</th>\n",
       "      <th>unstranded</th>\n",
       "      <th>unstranded_rmdup</th>\n",
       "    </tr>\n",
       "    <tr>\n",
       "      <th>sample_id</th>\n",
       "      <th>event_id</th>\n",
       "      <th></th>\n",
       "      <th></th>\n",
       "      <th></th>\n",
       "      <th></th>\n",
       "      <th></th>\n",
       "    </tr>\n",
       "  </thead>\n",
       "  <tbody>\n",
       "    <tr>\n",
       "      <th>CVN_01</th>\n",
       "      <th>isoform1=junction:chr10:79797063-79800372:+|isoform2=junction:chr10:79797063-79799961:+@exon:chr10:79799962-79799983:+@junction:chr10:79799984-79800372:+</th>\n",
       "      <td>1.0</td>\n",
       "      <td>NaN</td>\n",
       "      <td>NaN</td>\n",
       "      <td>1.0</td>\n",
       "      <td>1.0</td>\n",
       "    </tr>\n",
       "    <tr>\n",
       "      <th>CVN_02</th>\n",
       "      <th>isoform1=junction:chr10:79797063-79800372:+|isoform2=junction:chr10:79797063-79799961:+@exon:chr10:79799962-79799983:+@junction:chr10:79799984-79800372:+</th>\n",
       "      <td>1.0</td>\n",
       "      <td>NaN</td>\n",
       "      <td>NaN</td>\n",
       "      <td>1.0</td>\n",
       "      <td>1.0</td>\n",
       "    </tr>\n",
       "    <tr>\n",
       "      <th>CVN_03</th>\n",
       "      <th>isoform1=junction:chr10:79797063-79800372:+|isoform2=junction:chr10:79797063-79799961:+@exon:chr10:79799962-79799983:+@junction:chr10:79799984-79800372:+</th>\n",
       "      <td>1.0</td>\n",
       "      <td>NaN</td>\n",
       "      <td>NaN</td>\n",
       "      <td>1.0</td>\n",
       "      <td>1.0</td>\n",
       "    </tr>\n",
       "    <tr>\n",
       "      <th>CVN_04</th>\n",
       "      <th>isoform1=junction:chr10:79797063-79800372:+|isoform2=junction:chr10:79797063-79799961:+@exon:chr10:79799962-79799983:+@junction:chr10:79799984-79800372:+</th>\n",
       "      <td>1.0</td>\n",
       "      <td>NaN</td>\n",
       "      <td>NaN</td>\n",
       "      <td>1.0</td>\n",
       "      <td>1.0</td>\n",
       "    </tr>\n",
       "    <tr>\n",
       "      <th>CVN_05</th>\n",
       "      <th>isoform1=junction:chr10:79797063-79800372:+|isoform2=junction:chr10:79797063-79799961:+@exon:chr10:79799962-79799983:+@junction:chr10:79799984-79800372:+</th>\n",
       "      <td>1.0</td>\n",
       "      <td>NaN</td>\n",
       "      <td>NaN</td>\n",
       "      <td>1.0</td>\n",
       "      <td>1.0</td>\n",
       "    </tr>\n",
       "  </tbody>\n",
       "</table>\n",
       "</div>"
      ],
      "text/plain": [
       "dataset                                                       stranded  \\\n",
       "sample_id event_id                                                       \n",
       "CVN_01    isoform1=junction:chr10:79797063-79800372:+|iso...       1.0   \n",
       "CVN_02    isoform1=junction:chr10:79797063-79800372:+|iso...       1.0   \n",
       "CVN_03    isoform1=junction:chr10:79797063-79800372:+|iso...       1.0   \n",
       "CVN_04    isoform1=junction:chr10:79797063-79800372:+|iso...       1.0   \n",
       "CVN_05    isoform1=junction:chr10:79797063-79800372:+|iso...       1.0   \n",
       "\n",
       "dataset                                                       stranded_bam  \\\n",
       "sample_id event_id                                                           \n",
       "CVN_01    isoform1=junction:chr10:79797063-79800372:+|iso...           NaN   \n",
       "CVN_02    isoform1=junction:chr10:79797063-79800372:+|iso...           NaN   \n",
       "CVN_03    isoform1=junction:chr10:79797063-79800372:+|iso...           NaN   \n",
       "CVN_04    isoform1=junction:chr10:79797063-79800372:+|iso...           NaN   \n",
       "CVN_05    isoform1=junction:chr10:79797063-79800372:+|iso...           NaN   \n",
       "\n",
       "dataset                                                       stranded_rmdup  \\\n",
       "sample_id event_id                                                             \n",
       "CVN_01    isoform1=junction:chr10:79797063-79800372:+|iso...             NaN   \n",
       "CVN_02    isoform1=junction:chr10:79797063-79800372:+|iso...             NaN   \n",
       "CVN_03    isoform1=junction:chr10:79797063-79800372:+|iso...             NaN   \n",
       "CVN_04    isoform1=junction:chr10:79797063-79800372:+|iso...             NaN   \n",
       "CVN_05    isoform1=junction:chr10:79797063-79800372:+|iso...             NaN   \n",
       "\n",
       "dataset                                                       unstranded  \\\n",
       "sample_id event_id                                                         \n",
       "CVN_01    isoform1=junction:chr10:79797063-79800372:+|iso...         1.0   \n",
       "CVN_02    isoform1=junction:chr10:79797063-79800372:+|iso...         1.0   \n",
       "CVN_03    isoform1=junction:chr10:79797063-79800372:+|iso...         1.0   \n",
       "CVN_04    isoform1=junction:chr10:79797063-79800372:+|iso...         1.0   \n",
       "CVN_05    isoform1=junction:chr10:79797063-79800372:+|iso...         1.0   \n",
       "\n",
       "dataset                                                       unstranded_rmdup  \n",
       "sample_id event_id                                                              \n",
       "CVN_01    isoform1=junction:chr10:79797063-79800372:+|iso...               1.0  \n",
       "CVN_02    isoform1=junction:chr10:79797063-79800372:+|iso...               1.0  \n",
       "CVN_03    isoform1=junction:chr10:79797063-79800372:+|iso...               1.0  \n",
       "CVN_04    isoform1=junction:chr10:79797063-79800372:+|iso...               1.0  \n",
       "CVN_05    isoform1=junction:chr10:79797063-79800372:+|iso...               1.0  "
      ]
     },
     "execution_count": 54,
     "metadata": {},
     "output_type": "execute_result"
    }
   ],
   "source": [
    "wide_psi.loc[idx[:, rps24_event], :].head()"
   ]
  },
  {
   "cell_type": "code",
   "execution_count": 55,
   "metadata": {
    "collapsed": false,
    "scrolled": false
   },
   "outputs": [
    {
     "data": {
      "text/html": [
       "<div>\n",
       "<table border=\"1\" class=\"dataframe\">\n",
       "  <thead>\n",
       "    <tr style=\"text-align: right;\">\n",
       "      <th></th>\n",
       "      <th>dataset</th>\n",
       "      <th>stranded</th>\n",
       "      <th>stranded_bam</th>\n",
       "      <th>stranded_rmdup</th>\n",
       "      <th>unstranded</th>\n",
       "      <th>unstranded_rmdup</th>\n",
       "    </tr>\n",
       "    <tr>\n",
       "      <th>sample_id</th>\n",
       "      <th>event_id</th>\n",
       "      <th></th>\n",
       "      <th></th>\n",
       "      <th></th>\n",
       "      <th></th>\n",
       "      <th></th>\n",
       "    </tr>\n",
       "  </thead>\n",
       "  <tbody>\n",
       "    <tr>\n",
       "      <th>M6_04</th>\n",
       "      <th>isoform1=junction:chr10:79797063-79800372:+|isoform2=junction:chr10:79797063-79799961:+@exon:chr10:79799962-79799983:+@junction:chr10:79799984-79800372:+</th>\n",
       "      <td>1.000000</td>\n",
       "      <td>NaN</td>\n",
       "      <td>NaN</td>\n",
       "      <td>1.000000</td>\n",
       "      <td>1.00000</td>\n",
       "    </tr>\n",
       "    <tr>\n",
       "      <th>P1_03</th>\n",
       "      <th>isoform1=junction:chr10:79797063-79800372:+|isoform2=junction:chr10:79797063-79799961:+@exon:chr10:79799962-79799983:+@junction:chr10:79799984-79800372:+</th>\n",
       "      <td>0.379856</td>\n",
       "      <td>NaN</td>\n",
       "      <td>NaN</td>\n",
       "      <td>0.379856</td>\n",
       "      <td>0.38006</td>\n",
       "    </tr>\n",
       "  </tbody>\n",
       "</table>\n",
       "</div>"
      ],
      "text/plain": [
       "dataset                                                       stranded  \\\n",
       "sample_id event_id                                                       \n",
       "M6_04     isoform1=junction:chr10:79797063-79800372:+|iso...  1.000000   \n",
       "P1_03     isoform1=junction:chr10:79797063-79800372:+|iso...  0.379856   \n",
       "\n",
       "dataset                                                       stranded_bam  \\\n",
       "sample_id event_id                                                           \n",
       "M6_04     isoform1=junction:chr10:79797063-79800372:+|iso...           NaN   \n",
       "P1_03     isoform1=junction:chr10:79797063-79800372:+|iso...           NaN   \n",
       "\n",
       "dataset                                                       stranded_rmdup  \\\n",
       "sample_id event_id                                                             \n",
       "M6_04     isoform1=junction:chr10:79797063-79800372:+|iso...             NaN   \n",
       "P1_03     isoform1=junction:chr10:79797063-79800372:+|iso...             NaN   \n",
       "\n",
       "dataset                                                       unstranded  \\\n",
       "sample_id event_id                                                         \n",
       "M6_04     isoform1=junction:chr10:79797063-79800372:+|iso...    1.000000   \n",
       "P1_03     isoform1=junction:chr10:79797063-79800372:+|iso...    0.379856   \n",
       "\n",
       "dataset                                                       unstranded_rmdup  \n",
       "sample_id event_id                                                              \n",
       "M6_04     isoform1=junction:chr10:79797063-79800372:+|iso...           1.00000  \n",
       "P1_03     isoform1=junction:chr10:79797063-79800372:+|iso...           0.38006  "
      ]
     },
     "execution_count": 55,
     "metadata": {},
     "output_type": "execute_result"
    }
   ],
   "source": [
    "wide_psi.loc[idx[sample_ids, rps24_event], :]"
   ]
  },
  {
   "cell_type": "code",
   "execution_count": 56,
   "metadata": {
    "collapsed": false
   },
   "outputs": [
    {
     "data": {
      "text/html": [
       "<div>\n",
       "<table border=\"1\" class=\"dataframe\">\n",
       "  <thead>\n",
       "    <tr style=\"text-align: right;\">\n",
       "      <th></th>\n",
       "      <th>event_id</th>\n",
       "      <th>incompatible_junction0</th>\n",
       "      <th>incompatible_junction1</th>\n",
       "      <th>isoform1_junction13</th>\n",
       "      <th>isoform1_junction34</th>\n",
       "      <th>isoform2_junction12</th>\n",
       "      <th>isoform2_junction23</th>\n",
       "      <th>isoform2_junction24</th>\n",
       "      <th>notes</th>\n",
       "      <th>psi</th>\n",
       "      <th>sample_id</th>\n",
       "      <th>dataset</th>\n",
       "    </tr>\n",
       "  </thead>\n",
       "  <tbody>\n",
       "    <tr>\n",
       "      <th>310789</th>\n",
       "      <td>isoform1=junction:chr10:79797063-79800372:+|is...</td>\n",
       "      <td>NaN</td>\n",
       "      <td>NaN</td>\n",
       "      <td>0.0</td>\n",
       "      <td>NaN</td>\n",
       "      <td>2207.0</td>\n",
       "      <td>2030.0</td>\n",
       "      <td>NaN</td>\n",
       "      <td>Case 7: Inclusion</td>\n",
       "      <td>1.000000</td>\n",
       "      <td>M6_04</td>\n",
       "      <td>unstranded_rmdup</td>\n",
       "    </tr>\n",
       "    <tr>\n",
       "      <th>310896</th>\n",
       "      <td>isoform1=junction:chr10:79797063-79800372:+|is...</td>\n",
       "      <td>NaN</td>\n",
       "      <td>NaN</td>\n",
       "      <td>1026.0</td>\n",
       "      <td>NaN</td>\n",
       "      <td>570.0</td>\n",
       "      <td>688.0</td>\n",
       "      <td>NaN</td>\n",
       "      <td>Case 8: Sufficient reads on all junctions</td>\n",
       "      <td>0.380060</td>\n",
       "      <td>P1_03</td>\n",
       "      <td>unstranded_rmdup</td>\n",
       "    </tr>\n",
       "    <tr>\n",
       "      <th>19219062</th>\n",
       "      <td>isoform1=junction:chr10:79797063-79800372:+|is...</td>\n",
       "      <td>NaN</td>\n",
       "      <td>NaN</td>\n",
       "      <td>0.0</td>\n",
       "      <td>NaN</td>\n",
       "      <td>7107.0</td>\n",
       "      <td>6613.0</td>\n",
       "      <td>NaN</td>\n",
       "      <td>Case 8: Inclusion</td>\n",
       "      <td>1.000000</td>\n",
       "      <td>M6_04</td>\n",
       "      <td>stranded</td>\n",
       "    </tr>\n",
       "    <tr>\n",
       "      <th>19219146</th>\n",
       "      <td>isoform1=junction:chr10:79797063-79800372:+|is...</td>\n",
       "      <td>NaN</td>\n",
       "      <td>NaN</td>\n",
       "      <td>1253.0</td>\n",
       "      <td>NaN</td>\n",
       "      <td>687.0</td>\n",
       "      <td>848.0</td>\n",
       "      <td>NaN</td>\n",
       "      <td>Case 9: Sufficient reads on all junctions</td>\n",
       "      <td>0.379856</td>\n",
       "      <td>P1_03</td>\n",
       "      <td>stranded</td>\n",
       "    </tr>\n",
       "    <tr>\n",
       "      <th>31786381</th>\n",
       "      <td>isoform1=junction:chr10:79797063-79800372:+|is...</td>\n",
       "      <td>NaN</td>\n",
       "      <td>NaN</td>\n",
       "      <td>0.0</td>\n",
       "      <td>NaN</td>\n",
       "      <td>7107.0</td>\n",
       "      <td>6613.0</td>\n",
       "      <td>NaN</td>\n",
       "      <td>Case 7: Inclusion</td>\n",
       "      <td>1.000000</td>\n",
       "      <td>M6_04</td>\n",
       "      <td>unstranded</td>\n",
       "    </tr>\n",
       "    <tr>\n",
       "      <th>31786465</th>\n",
       "      <td>isoform1=junction:chr10:79797063-79800372:+|is...</td>\n",
       "      <td>NaN</td>\n",
       "      <td>NaN</td>\n",
       "      <td>1253.0</td>\n",
       "      <td>NaN</td>\n",
       "      <td>687.0</td>\n",
       "      <td>848.0</td>\n",
       "      <td>NaN</td>\n",
       "      <td>Case 8: Sufficient reads on all junctions</td>\n",
       "      <td>0.379856</td>\n",
       "      <td>P1_03</td>\n",
       "      <td>unstranded</td>\n",
       "    </tr>\n",
       "  </tbody>\n",
       "</table>\n",
       "</div>"
      ],
      "text/plain": [
       "                                                   event_id  \\\n",
       "310789    isoform1=junction:chr10:79797063-79800372:+|is...   \n",
       "310896    isoform1=junction:chr10:79797063-79800372:+|is...   \n",
       "19219062  isoform1=junction:chr10:79797063-79800372:+|is...   \n",
       "19219146  isoform1=junction:chr10:79797063-79800372:+|is...   \n",
       "31786381  isoform1=junction:chr10:79797063-79800372:+|is...   \n",
       "31786465  isoform1=junction:chr10:79797063-79800372:+|is...   \n",
       "\n",
       "          incompatible_junction0  incompatible_junction1  isoform1_junction13  \\\n",
       "310789                       NaN                     NaN                  0.0   \n",
       "310896                       NaN                     NaN               1026.0   \n",
       "19219062                     NaN                     NaN                  0.0   \n",
       "19219146                     NaN                     NaN               1253.0   \n",
       "31786381                     NaN                     NaN                  0.0   \n",
       "31786465                     NaN                     NaN               1253.0   \n",
       "\n",
       "          isoform1_junction34  isoform2_junction12  isoform2_junction23  \\\n",
       "310789                    NaN               2207.0               2030.0   \n",
       "310896                    NaN                570.0                688.0   \n",
       "19219062                  NaN               7107.0               6613.0   \n",
       "19219146                  NaN                687.0                848.0   \n",
       "31786381                  NaN               7107.0               6613.0   \n",
       "31786465                  NaN                687.0                848.0   \n",
       "\n",
       "          isoform2_junction24                                      notes  \\\n",
       "310789                    NaN                          Case 7: Inclusion   \n",
       "310896                    NaN  Case 8: Sufficient reads on all junctions   \n",
       "19219062                  NaN                          Case 8: Inclusion   \n",
       "19219146                  NaN  Case 9: Sufficient reads on all junctions   \n",
       "31786381                  NaN                          Case 7: Inclusion   \n",
       "31786465                  NaN  Case 8: Sufficient reads on all junctions   \n",
       "\n",
       "               psi sample_id           dataset  \n",
       "310789    1.000000     M6_04  unstranded_rmdup  \n",
       "310896    0.380060     P1_03  unstranded_rmdup  \n",
       "19219062  1.000000     M6_04          stranded  \n",
       "19219146  0.379856     P1_03          stranded  \n",
       "31786381  1.000000     M6_04        unstranded  \n",
       "31786465  0.379856     P1_03        unstranded  "
      ]
     },
     "execution_count": 56,
     "metadata": {},
     "output_type": "execute_result"
    }
   ],
   "source": [
    "summary.query('(sample_id in @sample_ids) & (event_id == @rps24_event)')"
   ]
  },
  {
   "cell_type": "code",
   "execution_count": 57,
   "metadata": {
    "collapsed": false
   },
   "outputs": [
    {
     "data": {
      "text/html": [
       "<div>\n",
       "<table border=\"1\" class=\"dataframe\">\n",
       "  <thead>\n",
       "    <tr style=\"text-align: right;\">\n",
       "      <th></th>\n",
       "      <th>dataset</th>\n",
       "      <th>stranded</th>\n",
       "      <th>stranded_bam</th>\n",
       "      <th>stranded_rmdup</th>\n",
       "      <th>unstranded</th>\n",
       "      <th>unstranded_rmdup</th>\n",
       "    </tr>\n",
       "    <tr>\n",
       "      <th>sample_id</th>\n",
       "      <th>event_id</th>\n",
       "      <th></th>\n",
       "      <th></th>\n",
       "      <th></th>\n",
       "      <th></th>\n",
       "      <th></th>\n",
       "    </tr>\n",
       "  </thead>\n",
       "  <tbody>\n",
       "    <tr>\n",
       "      <th>CVN_01</th>\n",
       "      <th>isoform1=junction:chr15:72494962-72499068:-@exon:chr15:72494795-72494961:-@junction:chr15:72492997-72494794:-|isoform2=junction:chr15:72495530-72499068:-@exon:chr15:72495363-72495529:-@junction:chr15:72492997-72495362:-</th>\n",
       "      <td>NaN</td>\n",
       "      <td>NaN</td>\n",
       "      <td>0.0</td>\n",
       "      <td>NaN</td>\n",
       "      <td>0.000</td>\n",
       "    </tr>\n",
       "    <tr>\n",
       "      <th>CVN_02</th>\n",
       "      <th>isoform1=junction:chr15:72494962-72499068:-@exon:chr15:72494795-72494961:-@junction:chr15:72492997-72494794:-|isoform2=junction:chr15:72495530-72499068:-@exon:chr15:72495363-72495529:-@junction:chr15:72492997-72495362:-</th>\n",
       "      <td>NaN</td>\n",
       "      <td>NaN</td>\n",
       "      <td>NaN</td>\n",
       "      <td>NaN</td>\n",
       "      <td>0.000</td>\n",
       "    </tr>\n",
       "    <tr>\n",
       "      <th>CVN_03</th>\n",
       "      <th>isoform1=junction:chr15:72494962-72499068:-@exon:chr15:72494795-72494961:-@junction:chr15:72492997-72494794:-|isoform2=junction:chr15:72495530-72499068:-@exon:chr15:72495363-72495529:-@junction:chr15:72492997-72495362:-</th>\n",
       "      <td>NaN</td>\n",
       "      <td>NaN</td>\n",
       "      <td>NaN</td>\n",
       "      <td>NaN</td>\n",
       "      <td>0.000</td>\n",
       "    </tr>\n",
       "    <tr>\n",
       "      <th>CVN_04</th>\n",
       "      <th>isoform1=junction:chr15:72494962-72499068:-@exon:chr15:72494795-72494961:-@junction:chr15:72492997-72494794:-|isoform2=junction:chr15:72495530-72499068:-@exon:chr15:72495363-72495529:-@junction:chr15:72492997-72495362:-</th>\n",
       "      <td>NaN</td>\n",
       "      <td>NaN</td>\n",
       "      <td>0.0</td>\n",
       "      <td>NaN</td>\n",
       "      <td>0.000</td>\n",
       "    </tr>\n",
       "    <tr>\n",
       "      <th>CVN_05</th>\n",
       "      <th>isoform1=junction:chr15:72494962-72499068:-@exon:chr15:72494795-72494961:-@junction:chr15:72492997-72494794:-|isoform2=junction:chr15:72495530-72499068:-@exon:chr15:72495363-72495529:-@junction:chr15:72492997-72495362:-</th>\n",
       "      <td>0.36478</td>\n",
       "      <td>NaN</td>\n",
       "      <td>NaN</td>\n",
       "      <td>0.36478</td>\n",
       "      <td>0.376</td>\n",
       "    </tr>\n",
       "  </tbody>\n",
       "</table>\n",
       "</div>"
      ],
      "text/plain": [
       "dataset                                                       stranded  \\\n",
       "sample_id event_id                                                       \n",
       "CVN_01    isoform1=junction:chr15:72494962-72499068:-@exo...       NaN   \n",
       "CVN_02    isoform1=junction:chr15:72494962-72499068:-@exo...       NaN   \n",
       "CVN_03    isoform1=junction:chr15:72494962-72499068:-@exo...       NaN   \n",
       "CVN_04    isoform1=junction:chr15:72494962-72499068:-@exo...       NaN   \n",
       "CVN_05    isoform1=junction:chr15:72494962-72499068:-@exo...   0.36478   \n",
       "\n",
       "dataset                                                       stranded_bam  \\\n",
       "sample_id event_id                                                           \n",
       "CVN_01    isoform1=junction:chr15:72494962-72499068:-@exo...           NaN   \n",
       "CVN_02    isoform1=junction:chr15:72494962-72499068:-@exo...           NaN   \n",
       "CVN_03    isoform1=junction:chr15:72494962-72499068:-@exo...           NaN   \n",
       "CVN_04    isoform1=junction:chr15:72494962-72499068:-@exo...           NaN   \n",
       "CVN_05    isoform1=junction:chr15:72494962-72499068:-@exo...           NaN   \n",
       "\n",
       "dataset                                                       stranded_rmdup  \\\n",
       "sample_id event_id                                                             \n",
       "CVN_01    isoform1=junction:chr15:72494962-72499068:-@exo...             0.0   \n",
       "CVN_02    isoform1=junction:chr15:72494962-72499068:-@exo...             NaN   \n",
       "CVN_03    isoform1=junction:chr15:72494962-72499068:-@exo...             NaN   \n",
       "CVN_04    isoform1=junction:chr15:72494962-72499068:-@exo...             0.0   \n",
       "CVN_05    isoform1=junction:chr15:72494962-72499068:-@exo...             NaN   \n",
       "\n",
       "dataset                                                       unstranded  \\\n",
       "sample_id event_id                                                         \n",
       "CVN_01    isoform1=junction:chr15:72494962-72499068:-@exo...         NaN   \n",
       "CVN_02    isoform1=junction:chr15:72494962-72499068:-@exo...         NaN   \n",
       "CVN_03    isoform1=junction:chr15:72494962-72499068:-@exo...         NaN   \n",
       "CVN_04    isoform1=junction:chr15:72494962-72499068:-@exo...         NaN   \n",
       "CVN_05    isoform1=junction:chr15:72494962-72499068:-@exo...     0.36478   \n",
       "\n",
       "dataset                                                       unstranded_rmdup  \n",
       "sample_id event_id                                                              \n",
       "CVN_01    isoform1=junction:chr15:72494962-72499068:-@exo...             0.000  \n",
       "CVN_02    isoform1=junction:chr15:72494962-72499068:-@exo...             0.000  \n",
       "CVN_03    isoform1=junction:chr15:72494962-72499068:-@exo...             0.000  \n",
       "CVN_04    isoform1=junction:chr15:72494962-72499068:-@exo...             0.000  \n",
       "CVN_05    isoform1=junction:chr15:72494962-72499068:-@exo...             0.376  "
      ]
     },
     "execution_count": 57,
     "metadata": {},
     "output_type": "execute_result"
    }
   ],
   "source": [
    "wide_psi.loc[idx[:, pkm_mxe_event], :].head()"
   ]
  },
  {
   "cell_type": "code",
   "execution_count": 58,
   "metadata": {
    "collapsed": false
   },
   "outputs": [
    {
     "data": {
      "text/html": [
       "<div>\n",
       "<table border=\"1\" class=\"dataframe\">\n",
       "  <thead>\n",
       "    <tr style=\"text-align: right;\">\n",
       "      <th></th>\n",
       "      <th>dataset</th>\n",
       "      <th>stranded</th>\n",
       "      <th>stranded_bam</th>\n",
       "      <th>stranded_rmdup</th>\n",
       "      <th>unstranded</th>\n",
       "      <th>unstranded_rmdup</th>\n",
       "    </tr>\n",
       "    <tr>\n",
       "      <th>sample_id</th>\n",
       "      <th>event_id</th>\n",
       "      <th></th>\n",
       "      <th></th>\n",
       "      <th></th>\n",
       "      <th></th>\n",
       "      <th></th>\n",
       "    </tr>\n",
       "  </thead>\n",
       "  <tbody>\n",
       "    <tr>\n",
       "      <th>M6_04</th>\n",
       "      <th>isoform1=junction:chr15:72494962-72499068:-@exon:chr15:72494795-72494961:-@junction:chr15:72492997-72494794:-|isoform2=junction:chr15:72495530-72499068:-@exon:chr15:72495363-72495529:-@junction:chr15:72492997-72495362:-</th>\n",
       "      <td>0.619425</td>\n",
       "      <td>NaN</td>\n",
       "      <td>NaN</td>\n",
       "      <td>0.619425</td>\n",
       "      <td>0.616249</td>\n",
       "    </tr>\n",
       "    <tr>\n",
       "      <th>P1_03</th>\n",
       "      <th>isoform1=junction:chr15:72494962-72499068:-@exon:chr15:72494795-72494961:-@junction:chr15:72492997-72494794:-|isoform2=junction:chr15:72495530-72499068:-@exon:chr15:72495363-72495529:-@junction:chr15:72492997-72495362:-</th>\n",
       "      <td>0.186158</td>\n",
       "      <td>NaN</td>\n",
       "      <td>NaN</td>\n",
       "      <td>0.186158</td>\n",
       "      <td>0.193182</td>\n",
       "    </tr>\n",
       "  </tbody>\n",
       "</table>\n",
       "</div>"
      ],
      "text/plain": [
       "dataset                                                       stranded  \\\n",
       "sample_id event_id                                                       \n",
       "M6_04     isoform1=junction:chr15:72494962-72499068:-@exo...  0.619425   \n",
       "P1_03     isoform1=junction:chr15:72494962-72499068:-@exo...  0.186158   \n",
       "\n",
       "dataset                                                       stranded_bam  \\\n",
       "sample_id event_id                                                           \n",
       "M6_04     isoform1=junction:chr15:72494962-72499068:-@exo...           NaN   \n",
       "P1_03     isoform1=junction:chr15:72494962-72499068:-@exo...           NaN   \n",
       "\n",
       "dataset                                                       stranded_rmdup  \\\n",
       "sample_id event_id                                                             \n",
       "M6_04     isoform1=junction:chr15:72494962-72499068:-@exo...             NaN   \n",
       "P1_03     isoform1=junction:chr15:72494962-72499068:-@exo...             NaN   \n",
       "\n",
       "dataset                                                       unstranded  \\\n",
       "sample_id event_id                                                         \n",
       "M6_04     isoform1=junction:chr15:72494962-72499068:-@exo...    0.619425   \n",
       "P1_03     isoform1=junction:chr15:72494962-72499068:-@exo...    0.186158   \n",
       "\n",
       "dataset                                                       unstranded_rmdup  \n",
       "sample_id event_id                                                              \n",
       "M6_04     isoform1=junction:chr15:72494962-72499068:-@exo...          0.616249  \n",
       "P1_03     isoform1=junction:chr15:72494962-72499068:-@exo...          0.193182  "
      ]
     },
     "execution_count": 58,
     "metadata": {},
     "output_type": "execute_result"
    }
   ],
   "source": [
    "wide_psi.loc[idx[sample_ids, pkm_mxe_event], :]"
   ]
  },
  {
   "cell_type": "code",
   "execution_count": 59,
   "metadata": {
    "collapsed": false
   },
   "outputs": [
    {
     "data": {
      "text/html": [
       "<div>\n",
       "<table border=\"1\" class=\"dataframe\">\n",
       "  <thead>\n",
       "    <tr style=\"text-align: right;\">\n",
       "      <th></th>\n",
       "      <th>event_id</th>\n",
       "      <th>incompatible_junction0</th>\n",
       "      <th>incompatible_junction1</th>\n",
       "      <th>isoform1_junction13</th>\n",
       "      <th>isoform1_junction34</th>\n",
       "      <th>isoform2_junction12</th>\n",
       "      <th>isoform2_junction23</th>\n",
       "      <th>isoform2_junction24</th>\n",
       "      <th>notes</th>\n",
       "      <th>psi</th>\n",
       "      <th>sample_id</th>\n",
       "      <th>dataset</th>\n",
       "    </tr>\n",
       "  </thead>\n",
       "  <tbody>\n",
       "    <tr>\n",
       "      <th>9511019</th>\n",
       "      <td>isoform1=junction:chr15:72494962-72499068:-@ex...</td>\n",
       "      <td>0.0</td>\n",
       "      <td>0.0</td>\n",
       "      <td>387.0</td>\n",
       "      <td>364.0</td>\n",
       "      <td>697.0</td>\n",
       "      <td>NaN</td>\n",
       "      <td>509.0</td>\n",
       "      <td>Case 8: Sufficient reads on all junctions</td>\n",
       "      <td>0.616249</td>\n",
       "      <td>M6_04</td>\n",
       "      <td>unstranded_rmdup</td>\n",
       "    </tr>\n",
       "    <tr>\n",
       "      <th>9511126</th>\n",
       "      <td>isoform1=junction:chr15:72494962-72499068:-@ex...</td>\n",
       "      <td>0.0</td>\n",
       "      <td>0.0</td>\n",
       "      <td>199.0</td>\n",
       "      <td>156.0</td>\n",
       "      <td>45.0</td>\n",
       "      <td>NaN</td>\n",
       "      <td>40.0</td>\n",
       "      <td>Case 8: Sufficient reads on all junctions</td>\n",
       "      <td>0.193182</td>\n",
       "      <td>P1_03</td>\n",
       "      <td>unstranded_rmdup</td>\n",
       "    </tr>\n",
       "    <tr>\n",
       "      <th>17999629</th>\n",
       "      <td>isoform1=junction:chr15:72494962-72499068:-@ex...</td>\n",
       "      <td>0.0</td>\n",
       "      <td>0.0</td>\n",
       "      <td>879.0</td>\n",
       "      <td>0.0</td>\n",
       "      <td>1603.0</td>\n",
       "      <td>NaN</td>\n",
       "      <td>0.0</td>\n",
       "      <td>Case 5: Unequal read coverage (one side has at...</td>\n",
       "      <td>NaN</td>\n",
       "      <td>M6_04</td>\n",
       "      <td>stranded_bam</td>\n",
       "    </tr>\n",
       "    <tr>\n",
       "      <th>17999736</th>\n",
       "      <td>isoform1=junction:chr15:72494962-72499068:-@ex...</td>\n",
       "      <td>0.0</td>\n",
       "      <td>0.0</td>\n",
       "      <td>266.0</td>\n",
       "      <td>0.0</td>\n",
       "      <td>56.0</td>\n",
       "      <td>NaN</td>\n",
       "      <td>0.0</td>\n",
       "      <td>Case 5: Unequal read coverage (one side has at...</td>\n",
       "      <td>NaN</td>\n",
       "      <td>P1_03</td>\n",
       "      <td>stranded_bam</td>\n",
       "    </tr>\n",
       "    <tr>\n",
       "      <th>27435798</th>\n",
       "      <td>isoform1=junction:chr15:72494962-72499068:-@ex...</td>\n",
       "      <td>0.0</td>\n",
       "      <td>NaN</td>\n",
       "      <td>783.0</td>\n",
       "      <td>753.0</td>\n",
       "      <td>1376.0</td>\n",
       "      <td>NaN</td>\n",
       "      <td>1124.0</td>\n",
       "      <td>Case 9: Sufficient reads on all junctions</td>\n",
       "      <td>0.619425</td>\n",
       "      <td>M6_04</td>\n",
       "      <td>stranded</td>\n",
       "    </tr>\n",
       "    <tr>\n",
       "      <th>27435882</th>\n",
       "      <td>isoform1=junction:chr15:72494962-72499068:-@ex...</td>\n",
       "      <td>0.0</td>\n",
       "      <td>NaN</td>\n",
       "      <td>181.0</td>\n",
       "      <td>160.0</td>\n",
       "      <td>42.0</td>\n",
       "      <td>NaN</td>\n",
       "      <td>36.0</td>\n",
       "      <td>Case 9: Sufficient reads on all junctions</td>\n",
       "      <td>0.186158</td>\n",
       "      <td>P1_03</td>\n",
       "      <td>stranded</td>\n",
       "    </tr>\n",
       "    <tr>\n",
       "      <th>40003117</th>\n",
       "      <td>isoform1=junction:chr15:72494962-72499068:-@ex...</td>\n",
       "      <td>0.0</td>\n",
       "      <td>NaN</td>\n",
       "      <td>783.0</td>\n",
       "      <td>753.0</td>\n",
       "      <td>1376.0</td>\n",
       "      <td>NaN</td>\n",
       "      <td>1124.0</td>\n",
       "      <td>Case 8: Sufficient reads on all junctions</td>\n",
       "      <td>0.619425</td>\n",
       "      <td>M6_04</td>\n",
       "      <td>unstranded</td>\n",
       "    </tr>\n",
       "    <tr>\n",
       "      <th>40003201</th>\n",
       "      <td>isoform1=junction:chr15:72494962-72499068:-@ex...</td>\n",
       "      <td>0.0</td>\n",
       "      <td>NaN</td>\n",
       "      <td>181.0</td>\n",
       "      <td>160.0</td>\n",
       "      <td>42.0</td>\n",
       "      <td>NaN</td>\n",
       "      <td>36.0</td>\n",
       "      <td>Case 8: Sufficient reads on all junctions</td>\n",
       "      <td>0.186158</td>\n",
       "      <td>P1_03</td>\n",
       "      <td>unstranded</td>\n",
       "    </tr>\n",
       "    <tr>\n",
       "      <th>51038332</th>\n",
       "      <td>isoform1=junction:chr15:72494962-72499068:-@ex...</td>\n",
       "      <td>0.0</td>\n",
       "      <td>0.0</td>\n",
       "      <td>387.0</td>\n",
       "      <td>0.0</td>\n",
       "      <td>697.0</td>\n",
       "      <td>NaN</td>\n",
       "      <td>0.0</td>\n",
       "      <td>Case 5: Unequal read coverage (one side has at...</td>\n",
       "      <td>NaN</td>\n",
       "      <td>M6_04</td>\n",
       "      <td>stranded_rmdup</td>\n",
       "    </tr>\n",
       "    <tr>\n",
       "      <th>51038439</th>\n",
       "      <td>isoform1=junction:chr15:72494962-72499068:-@ex...</td>\n",
       "      <td>0.0</td>\n",
       "      <td>0.0</td>\n",
       "      <td>199.0</td>\n",
       "      <td>0.0</td>\n",
       "      <td>45.0</td>\n",
       "      <td>NaN</td>\n",
       "      <td>40.0</td>\n",
       "      <td>Case 5: Unequal read coverage (one side has at...</td>\n",
       "      <td>NaN</td>\n",
       "      <td>P1_03</td>\n",
       "      <td>stranded_rmdup</td>\n",
       "    </tr>\n",
       "  </tbody>\n",
       "</table>\n",
       "</div>"
      ],
      "text/plain": [
       "                                                   event_id  \\\n",
       "9511019   isoform1=junction:chr15:72494962-72499068:-@ex...   \n",
       "9511126   isoform1=junction:chr15:72494962-72499068:-@ex...   \n",
       "17999629  isoform1=junction:chr15:72494962-72499068:-@ex...   \n",
       "17999736  isoform1=junction:chr15:72494962-72499068:-@ex...   \n",
       "27435798  isoform1=junction:chr15:72494962-72499068:-@ex...   \n",
       "27435882  isoform1=junction:chr15:72494962-72499068:-@ex...   \n",
       "40003117  isoform1=junction:chr15:72494962-72499068:-@ex...   \n",
       "40003201  isoform1=junction:chr15:72494962-72499068:-@ex...   \n",
       "51038332  isoform1=junction:chr15:72494962-72499068:-@ex...   \n",
       "51038439  isoform1=junction:chr15:72494962-72499068:-@ex...   \n",
       "\n",
       "          incompatible_junction0  incompatible_junction1  isoform1_junction13  \\\n",
       "9511019                      0.0                     0.0                387.0   \n",
       "9511126                      0.0                     0.0                199.0   \n",
       "17999629                     0.0                     0.0                879.0   \n",
       "17999736                     0.0                     0.0                266.0   \n",
       "27435798                     0.0                     NaN                783.0   \n",
       "27435882                     0.0                     NaN                181.0   \n",
       "40003117                     0.0                     NaN                783.0   \n",
       "40003201                     0.0                     NaN                181.0   \n",
       "51038332                     0.0                     0.0                387.0   \n",
       "51038439                     0.0                     0.0                199.0   \n",
       "\n",
       "          isoform1_junction34  isoform2_junction12  isoform2_junction23  \\\n",
       "9511019                 364.0                697.0                  NaN   \n",
       "9511126                 156.0                 45.0                  NaN   \n",
       "17999629                  0.0               1603.0                  NaN   \n",
       "17999736                  0.0                 56.0                  NaN   \n",
       "27435798                753.0               1376.0                  NaN   \n",
       "27435882                160.0                 42.0                  NaN   \n",
       "40003117                753.0               1376.0                  NaN   \n",
       "40003201                160.0                 42.0                  NaN   \n",
       "51038332                  0.0                697.0                  NaN   \n",
       "51038439                  0.0                 45.0                  NaN   \n",
       "\n",
       "          isoform2_junction24  \\\n",
       "9511019                 509.0   \n",
       "9511126                  40.0   \n",
       "17999629                  0.0   \n",
       "17999736                  0.0   \n",
       "27435798               1124.0   \n",
       "27435882                 36.0   \n",
       "40003117               1124.0   \n",
       "40003201                 36.0   \n",
       "51038332                  0.0   \n",
       "51038439                 40.0   \n",
       "\n",
       "                                                      notes       psi  \\\n",
       "9511019           Case 8: Sufficient reads on all junctions  0.616249   \n",
       "9511126           Case 8: Sufficient reads on all junctions  0.193182   \n",
       "17999629  Case 5: Unequal read coverage (one side has at...       NaN   \n",
       "17999736  Case 5: Unequal read coverage (one side has at...       NaN   \n",
       "27435798          Case 9: Sufficient reads on all junctions  0.619425   \n",
       "27435882          Case 9: Sufficient reads on all junctions  0.186158   \n",
       "40003117          Case 8: Sufficient reads on all junctions  0.619425   \n",
       "40003201          Case 8: Sufficient reads on all junctions  0.186158   \n",
       "51038332  Case 5: Unequal read coverage (one side has at...       NaN   \n",
       "51038439  Case 5: Unequal read coverage (one side has at...       NaN   \n",
       "\n",
       "         sample_id           dataset  \n",
       "9511019      M6_04  unstranded_rmdup  \n",
       "9511126      P1_03  unstranded_rmdup  \n",
       "17999629     M6_04      stranded_bam  \n",
       "17999736     P1_03      stranded_bam  \n",
       "27435798     M6_04          stranded  \n",
       "27435882     P1_03          stranded  \n",
       "40003117     M6_04        unstranded  \n",
       "40003201     P1_03        unstranded  \n",
       "51038332     M6_04    stranded_rmdup  \n",
       "51038439     P1_03    stranded_rmdup  "
      ]
     },
     "execution_count": 59,
     "metadata": {},
     "output_type": "execute_result"
    }
   ],
   "source": [
    "summary.query('(sample_id in @sample_ids) & (event_id == @pkm_mxe_event)')"
   ]
  },
  {
   "cell_type": "markdown",
   "metadata": {},
   "source": [
    "## "
   ]
  },
  {
   "cell_type": "code",
   "execution_count": 60,
   "metadata": {
    "collapsed": true
   },
   "outputs": [],
   "source": [
    "import matplotlib.pyplot as plt\n",
    "import seaborn as sns\n",
    "\n",
    "%matplotlib inline"
   ]
  },
  {
   "cell_type": "code",
   "execution_count": 64,
   "metadata": {
    "collapsed": false
   },
   "outputs": [
    {
     "data": {
      "text/plain": [
       "'figures/014_compare_unstranded_splicing'"
      ]
     },
     "execution_count": 64,
     "metadata": {},
     "output_type": "execute_result"
    }
   ],
   "source": [
    "figure_folder"
   ]
  },
  {
   "cell_type": "code",
   "execution_count": 67,
   "metadata": {
    "collapsed": true
   },
   "outputs": [],
   "source": [
    "! mkdir -p $figure_folder"
   ]
  },
  {
   "cell_type": "code",
   "execution_count": null,
   "metadata": {
    "collapsed": false
   },
   "outputs": [],
   "source": [
    "g = sns.pairplot(wide_psi.fillna(-0.2), size=2, plot_kws=dict(alpha=0.5, rasterized=True))\n",
    "g.savefig('{}/stranded_unstranded_rmdup_psi_pairplot.pdf'.format(figure_folder), dpi=300)\n"
   ]
  },
  {
   "cell_type": "code",
   "execution_count": 62,
   "metadata": {
    "collapsed": false
   },
   "outputs": [
    {
     "data": {
      "text/plain": [
       "<seaborn.axisgrid.JointGrid at 0x2ba2d8d65850>"
      ]
     },
     "execution_count": 62,
     "metadata": {},
     "output_type": "execute_result"
    },
    {
     "data": {
      "image/png": "[encoded data removed]",
      "text/plain": [
       "<matplotlib.figure.Figure at 0x2ba2d8d658d0>"
      ]
     },
     "metadata": {},
     "output_type": "display_data"
    }
   ],
   "source": [
    "sns.jointplot('unstranded', 'unstranded_rmdup', wide_psi.fillna(-0.2), size=3)"
   ]
  },
  {
   "cell_type": "code",
   "execution_count": 63,
   "metadata": {
    "collapsed": false
   },
   "outputs": [
    {
     "data": {
      "text/plain": [
       "<seaborn.axisgrid.JointGrid at 0x2ba2dc4977d0>"
      ]
     },
     "execution_count": 63,
     "metadata": {},
     "output_type": "execute_result"
    },
    {
     "data": {
      "image/png": "[encoded data removed]",
      "text/plain": [
       "<matplotlib.figure.Figure at 0x2ba2dc497610>"
      ]
     },
     "metadata": {},
     "output_type": "display_data"
    }
   ],
   "source": [
    "sns.jointplot('unstranded', 'unstranded_rmdup', wide_psi, size=3)"
   ]
  },
  {
   "cell_type": "markdown",
   "metadata": {},
   "source": [
    "## Why is stranded bam messed up?"
   ]
  },
  {
   "cell_type": "markdown",
   "metadata": {},
   "source": [
    "This event is Psi=1 in all"
   ]
  },
  {
   "cell_type": "code",
   "execution_count": 38,
   "metadata": {
    "collapsed": false
   },
   "outputs": [
    {
     "data": {
      "text/html": [
       "<div>\n",
       "<table border=\"1\" class=\"dataframe\">\n",
       "  <thead>\n",
       "    <tr style=\"text-align: right;\">\n",
       "      <th></th>\n",
       "      <th>event_id</th>\n",
       "      <th>incompatible_junction0</th>\n",
       "      <th>incompatible_junction1</th>\n",
       "      <th>isoform1_junction13</th>\n",
       "      <th>isoform1_junction34</th>\n",
       "      <th>isoform2_junction12</th>\n",
       "      <th>isoform2_junction23</th>\n",
       "      <th>isoform2_junction24</th>\n",
       "      <th>notes</th>\n",
       "      <th>psi</th>\n",
       "      <th>sample_id</th>\n",
       "      <th>dataset</th>\n",
       "    </tr>\n",
       "  </thead>\n",
       "  <tbody>\n",
       "    <tr>\n",
       "      <th>9269</th>\n",
       "      <td>isoform1=junction:chr10:102114390-102120490:+|...</td>\n",
       "      <td>NaN</td>\n",
       "      <td>NaN</td>\n",
       "      <td>0.0</td>\n",
       "      <td>NaN</td>\n",
       "      <td>46.0</td>\n",
       "      <td>96.0</td>\n",
       "      <td>NaN</td>\n",
       "      <td>Case 7: Inclusion</td>\n",
       "      <td>1.0</td>\n",
       "      <td>CVN_01</td>\n",
       "      <td>unstranded_rmdup</td>\n",
       "    </tr>\n",
       "    <tr>\n",
       "      <th>11127584</th>\n",
       "      <td>isoform1=junction:chr10:102114390-102120490:+|...</td>\n",
       "      <td>NaN</td>\n",
       "      <td>NaN</td>\n",
       "      <td>0.0</td>\n",
       "      <td>NaN</td>\n",
       "      <td>273.0</td>\n",
       "      <td>453.0</td>\n",
       "      <td>NaN</td>\n",
       "      <td>Case 7: Inclusion</td>\n",
       "      <td>1.0</td>\n",
       "      <td>CVN_01</td>\n",
       "      <td>stranded_bam</td>\n",
       "    </tr>\n",
       "    <tr>\n",
       "      <th>18949132</th>\n",
       "      <td>isoform1=junction:chr10:102114390-102120490:+|...</td>\n",
       "      <td>NaN</td>\n",
       "      <td>NaN</td>\n",
       "      <td>0.0</td>\n",
       "      <td>NaN</td>\n",
       "      <td>273.0</td>\n",
       "      <td>453.0</td>\n",
       "      <td>NaN</td>\n",
       "      <td>Case 8: Inclusion</td>\n",
       "      <td>1.0</td>\n",
       "      <td>CVN_01</td>\n",
       "      <td>stranded</td>\n",
       "    </tr>\n",
       "    <tr>\n",
       "      <th>31516451</th>\n",
       "      <td>isoform1=junction:chr10:102114390-102120490:+|...</td>\n",
       "      <td>NaN</td>\n",
       "      <td>NaN</td>\n",
       "      <td>0.0</td>\n",
       "      <td>NaN</td>\n",
       "      <td>273.0</td>\n",
       "      <td>453.0</td>\n",
       "      <td>NaN</td>\n",
       "      <td>Case 7: Inclusion</td>\n",
       "      <td>1.0</td>\n",
       "      <td>CVN_01</td>\n",
       "      <td>unstranded</td>\n",
       "    </tr>\n",
       "    <tr>\n",
       "      <th>44082567</th>\n",
       "      <td>isoform1=junction:chr10:102114390-102120490:+|...</td>\n",
       "      <td>NaN</td>\n",
       "      <td>NaN</td>\n",
       "      <td>0.0</td>\n",
       "      <td>NaN</td>\n",
       "      <td>46.0</td>\n",
       "      <td>96.0</td>\n",
       "      <td>NaN</td>\n",
       "      <td>Case 7: Inclusion</td>\n",
       "      <td>1.0</td>\n",
       "      <td>CVN_01</td>\n",
       "      <td>stranded_rmdup</td>\n",
       "    </tr>\n",
       "  </tbody>\n",
       "</table>\n",
       "</div>"
      ],
      "text/plain": [
       "                                                   event_id  \\\n",
       "9269      isoform1=junction:chr10:102114390-102120490:+|...   \n",
       "11127584  isoform1=junction:chr10:102114390-102120490:+|...   \n",
       "18949132  isoform1=junction:chr10:102114390-102120490:+|...   \n",
       "31516451  isoform1=junction:chr10:102114390-102120490:+|...   \n",
       "44082567  isoform1=junction:chr10:102114390-102120490:+|...   \n",
       "\n",
       "          incompatible_junction0  incompatible_junction1  isoform1_junction13  \\\n",
       "9269                         NaN                     NaN                  0.0   \n",
       "11127584                     NaN                     NaN                  0.0   \n",
       "18949132                     NaN                     NaN                  0.0   \n",
       "31516451                     NaN                     NaN                  0.0   \n",
       "44082567                     NaN                     NaN                  0.0   \n",
       "\n",
       "          isoform1_junction34  isoform2_junction12  isoform2_junction23  \\\n",
       "9269                      NaN                 46.0                 96.0   \n",
       "11127584                  NaN                273.0                453.0   \n",
       "18949132                  NaN                273.0                453.0   \n",
       "31516451                  NaN                273.0                453.0   \n",
       "44082567                  NaN                 46.0                 96.0   \n",
       "\n",
       "          isoform2_junction24              notes  psi sample_id  \\\n",
       "9269                      NaN  Case 7: Inclusion  1.0    CVN_01   \n",
       "11127584                  NaN  Case 7: Inclusion  1.0    CVN_01   \n",
       "18949132                  NaN  Case 8: Inclusion  1.0    CVN_01   \n",
       "31516451                  NaN  Case 7: Inclusion  1.0    CVN_01   \n",
       "44082567                  NaN  Case 7: Inclusion  1.0    CVN_01   \n",
       "\n",
       "                   dataset  \n",
       "9269      unstranded_rmdup  \n",
       "11127584      stranded_bam  \n",
       "18949132          stranded  \n",
       "31516451        unstranded  \n",
       "44082567    stranded_rmdup  "
      ]
     },
     "execution_count": 38,
     "metadata": {},
     "output_type": "execute_result"
    }
   ],
   "source": [
    "sample_id, event_id = 'CVN_01', 'isoform1=junction:chr10:102114390-102120490:+|isoform2=junction:chr10:102114390-102116288:+@exon:chr10:102116289-102116521:+@junction:chr10:102116522-102120490:+'\n",
    "\n",
    "summary.query('(sample_id == @sample_id) & (event_id == @event_id)')"
   ]
  },
  {
   "cell_type": "code",
   "execution_count": 40,
   "metadata": {
    "collapsed": false
   },
   "outputs": [
    {
     "data": {
      "text/html": [
       "<div>\n",
       "<table border=\"1\" class=\"dataframe\">\n",
       "  <thead>\n",
       "    <tr style=\"text-align: right;\">\n",
       "      <th></th>\n",
       "      <th>event_id</th>\n",
       "      <th>incompatible_junction0</th>\n",
       "      <th>incompatible_junction1</th>\n",
       "      <th>isoform1_junction13</th>\n",
       "      <th>isoform1_junction34</th>\n",
       "      <th>isoform2_junction12</th>\n",
       "      <th>isoform2_junction23</th>\n",
       "      <th>isoform2_junction24</th>\n",
       "      <th>notes</th>\n",
       "      <th>psi</th>\n",
       "      <th>sample_id</th>\n",
       "      <th>dataset</th>\n",
       "    </tr>\n",
       "  </thead>\n",
       "  <tbody>\n",
       "    <tr>\n",
       "      <th>9510891</th>\n",
       "      <td>isoform1=junction:chr15:72494962-72499068:-@ex...</td>\n",
       "      <td>0.0</td>\n",
       "      <td>0.0</td>\n",
       "      <td>51.0</td>\n",
       "      <td>53.0</td>\n",
       "      <td>0.0</td>\n",
       "      <td>NaN</td>\n",
       "      <td>0.0</td>\n",
       "      <td>Case 6: Exclusion</td>\n",
       "      <td>0.0</td>\n",
       "      <td>CVN_01</td>\n",
       "      <td>unstranded_rmdup</td>\n",
       "    </tr>\n",
       "    <tr>\n",
       "      <th>17999501</th>\n",
       "      <td>isoform1=junction:chr15:72494962-72499068:-@ex...</td>\n",
       "      <td>0.0</td>\n",
       "      <td>0.0</td>\n",
       "      <td>158.0</td>\n",
       "      <td>0.0</td>\n",
       "      <td>0.0</td>\n",
       "      <td>NaN</td>\n",
       "      <td>0.0</td>\n",
       "      <td>Case 4: Only one junction with sufficient reads</td>\n",
       "      <td>NaN</td>\n",
       "      <td>CVN_01</td>\n",
       "      <td>stranded_bam</td>\n",
       "    </tr>\n",
       "    <tr>\n",
       "      <th>27435693</th>\n",
       "      <td>isoform1=junction:chr15:72494962-72499068:-@ex...</td>\n",
       "      <td>0.0</td>\n",
       "      <td>NaN</td>\n",
       "      <td>158.0</td>\n",
       "      <td>124.0</td>\n",
       "      <td>0.0</td>\n",
       "      <td>NaN</td>\n",
       "      <td>19.0</td>\n",
       "      <td>Case 6: Unequal read coverage (one side has at...</td>\n",
       "      <td>NaN</td>\n",
       "      <td>CVN_01</td>\n",
       "      <td>stranded</td>\n",
       "    </tr>\n",
       "    <tr>\n",
       "      <th>40003012</th>\n",
       "      <td>isoform1=junction:chr15:72494962-72499068:-@ex...</td>\n",
       "      <td>0.0</td>\n",
       "      <td>NaN</td>\n",
       "      <td>158.0</td>\n",
       "      <td>124.0</td>\n",
       "      <td>0.0</td>\n",
       "      <td>NaN</td>\n",
       "      <td>19.0</td>\n",
       "      <td>Case 5: Unequal read coverage (one side has at...</td>\n",
       "      <td>NaN</td>\n",
       "      <td>CVN_01</td>\n",
       "      <td>unstranded</td>\n",
       "    </tr>\n",
       "    <tr>\n",
       "      <th>51038204</th>\n",
       "      <td>isoform1=junction:chr15:72494962-72499068:-@ex...</td>\n",
       "      <td>0.0</td>\n",
       "      <td>0.0</td>\n",
       "      <td>51.0</td>\n",
       "      <td>53.0</td>\n",
       "      <td>0.0</td>\n",
       "      <td>NaN</td>\n",
       "      <td>0.0</td>\n",
       "      <td>Case 6: Exclusion</td>\n",
       "      <td>0.0</td>\n",
       "      <td>CVN_01</td>\n",
       "      <td>stranded_rmdup</td>\n",
       "    </tr>\n",
       "  </tbody>\n",
       "</table>\n",
       "</div>"
      ],
      "text/plain": [
       "                                                   event_id  \\\n",
       "9510891   isoform1=junction:chr15:72494962-72499068:-@ex...   \n",
       "17999501  isoform1=junction:chr15:72494962-72499068:-@ex...   \n",
       "27435693  isoform1=junction:chr15:72494962-72499068:-@ex...   \n",
       "40003012  isoform1=junction:chr15:72494962-72499068:-@ex...   \n",
       "51038204  isoform1=junction:chr15:72494962-72499068:-@ex...   \n",
       "\n",
       "          incompatible_junction0  incompatible_junction1  isoform1_junction13  \\\n",
       "9510891                      0.0                     0.0                 51.0   \n",
       "17999501                     0.0                     0.0                158.0   \n",
       "27435693                     0.0                     NaN                158.0   \n",
       "40003012                     0.0                     NaN                158.0   \n",
       "51038204                     0.0                     0.0                 51.0   \n",
       "\n",
       "          isoform1_junction34  isoform2_junction12  isoform2_junction23  \\\n",
       "9510891                  53.0                  0.0                  NaN   \n",
       "17999501                  0.0                  0.0                  NaN   \n",
       "27435693                124.0                  0.0                  NaN   \n",
       "40003012                124.0                  0.0                  NaN   \n",
       "51038204                 53.0                  0.0                  NaN   \n",
       "\n",
       "          isoform2_junction24  \\\n",
       "9510891                   0.0   \n",
       "17999501                  0.0   \n",
       "27435693                 19.0   \n",
       "40003012                 19.0   \n",
       "51038204                  0.0   \n",
       "\n",
       "                                                      notes  psi sample_id  \\\n",
       "9510891                                   Case 6: Exclusion  0.0    CVN_01   \n",
       "17999501    Case 4: Only one junction with sufficient reads  NaN    CVN_01   \n",
       "27435693  Case 6: Unequal read coverage (one side has at...  NaN    CVN_01   \n",
       "40003012  Case 5: Unequal read coverage (one side has at...  NaN    CVN_01   \n",
       "51038204                                  Case 6: Exclusion  0.0    CVN_01   \n",
       "\n",
       "                   dataset  \n",
       "9510891   unstranded_rmdup  \n",
       "17999501      stranded_bam  \n",
       "27435693          stranded  \n",
       "40003012        unstranded  \n",
       "51038204    stranded_rmdup  "
      ]
     },
     "execution_count": 40,
     "metadata": {},
     "output_type": "execute_result"
    }
   ],
   "source": [
    "\n",
    "summary.query('(sample_id == @sample_id) & (event_id == @pkm_mxe_event)')"
   ]
  },
  {
   "cell_type": "markdown",
   "metadata": {},
   "source": [
    "This event is Psi~1 in all but stranded_bam and stranded_rmdup"
   ]
  },
  {
   "cell_type": "code",
   "execution_count": 33,
   "metadata": {
    "collapsed": false
   },
   "outputs": [
    {
     "data": {
      "text/html": [
       "<div>\n",
       "<table border=\"1\" class=\"dataframe\">\n",
       "  <thead>\n",
       "    <tr style=\"text-align: right;\">\n",
       "      <th></th>\n",
       "      <th>event_id</th>\n",
       "      <th>incompatible_junction0</th>\n",
       "      <th>incompatible_junction1</th>\n",
       "      <th>isoform1_junction13</th>\n",
       "      <th>isoform1_junction34</th>\n",
       "      <th>isoform2_junction12</th>\n",
       "      <th>isoform2_junction23</th>\n",
       "      <th>isoform2_junction24</th>\n",
       "      <th>notes</th>\n",
       "      <th>psi</th>\n",
       "      <th>sample_id</th>\n",
       "      <th>dataset</th>\n",
       "    </tr>\n",
       "  </thead>\n",
       "  <tbody>\n",
       "    <tr>\n",
       "      <th>2691</th>\n",
       "      <td>isoform1=junction:chr10:101507148-101514285:+|...</td>\n",
       "      <td>NaN</td>\n",
       "      <td>NaN</td>\n",
       "      <td>0.0</td>\n",
       "      <td>NaN</td>\n",
       "      <td>54.0</td>\n",
       "      <td>54.0</td>\n",
       "      <td>NaN</td>\n",
       "      <td>Case 7: Inclusion</td>\n",
       "      <td>1.000000</td>\n",
       "      <td>CVN_01</td>\n",
       "      <td>unstranded_rmdup</td>\n",
       "    </tr>\n",
       "    <tr>\n",
       "      <th>11123697</th>\n",
       "      <td>isoform1=junction:chr10:101507148-101514285:+|...</td>\n",
       "      <td>NaN</td>\n",
       "      <td>NaN</td>\n",
       "      <td>0.0</td>\n",
       "      <td>NaN</td>\n",
       "      <td>157.0</td>\n",
       "      <td>0.0</td>\n",
       "      <td>NaN</td>\n",
       "      <td>Case 4: Only one junction with sufficient reads</td>\n",
       "      <td>NaN</td>\n",
       "      <td>CVN_01</td>\n",
       "      <td>stranded_bam</td>\n",
       "    </tr>\n",
       "    <tr>\n",
       "      <th>18943610</th>\n",
       "      <td>isoform1=junction:chr10:101507148-101514285:+|...</td>\n",
       "      <td>NaN</td>\n",
       "      <td>NaN</td>\n",
       "      <td>1.0</td>\n",
       "      <td>NaN</td>\n",
       "      <td>157.0</td>\n",
       "      <td>181.0</td>\n",
       "      <td>NaN</td>\n",
       "      <td>Case 11a: Isoform1 has 1+ junction with insuff...</td>\n",
       "      <td>0.994118</td>\n",
       "      <td>CVN_01</td>\n",
       "      <td>stranded</td>\n",
       "    </tr>\n",
       "    <tr>\n",
       "      <th>31510929</th>\n",
       "      <td>isoform1=junction:chr10:101507148-101514285:+|...</td>\n",
       "      <td>NaN</td>\n",
       "      <td>NaN</td>\n",
       "      <td>1.0</td>\n",
       "      <td>NaN</td>\n",
       "      <td>157.0</td>\n",
       "      <td>181.0</td>\n",
       "      <td>NaN</td>\n",
       "      <td>Case 19a: Isoform1 has 1+ junction with insuff...</td>\n",
       "      <td>0.994118</td>\n",
       "      <td>CVN_01</td>\n",
       "      <td>unstranded</td>\n",
       "    </tr>\n",
       "    <tr>\n",
       "      <th>44078680</th>\n",
       "      <td>isoform1=junction:chr10:101507148-101514285:+|...</td>\n",
       "      <td>NaN</td>\n",
       "      <td>NaN</td>\n",
       "      <td>0.0</td>\n",
       "      <td>NaN</td>\n",
       "      <td>54.0</td>\n",
       "      <td>54.0</td>\n",
       "      <td>NaN</td>\n",
       "      <td>Case 7: Inclusion</td>\n",
       "      <td>1.000000</td>\n",
       "      <td>CVN_01</td>\n",
       "      <td>stranded_rmdup</td>\n",
       "    </tr>\n",
       "  </tbody>\n",
       "</table>\n",
       "</div>"
      ],
      "text/plain": [
       "                                                   event_id  \\\n",
       "2691      isoform1=junction:chr10:101507148-101514285:+|...   \n",
       "11123697  isoform1=junction:chr10:101507148-101514285:+|...   \n",
       "18943610  isoform1=junction:chr10:101507148-101514285:+|...   \n",
       "31510929  isoform1=junction:chr10:101507148-101514285:+|...   \n",
       "44078680  isoform1=junction:chr10:101507148-101514285:+|...   \n",
       "\n",
       "          incompatible_junction0  incompatible_junction1  isoform1_junction13  \\\n",
       "2691                         NaN                     NaN                  0.0   \n",
       "11123697                     NaN                     NaN                  0.0   \n",
       "18943610                     NaN                     NaN                  1.0   \n",
       "31510929                     NaN                     NaN                  1.0   \n",
       "44078680                     NaN                     NaN                  0.0   \n",
       "\n",
       "          isoform1_junction34  isoform2_junction12  isoform2_junction23  \\\n",
       "2691                      NaN                 54.0                 54.0   \n",
       "11123697                  NaN                157.0                  0.0   \n",
       "18943610                  NaN                157.0                181.0   \n",
       "31510929                  NaN                157.0                181.0   \n",
       "44078680                  NaN                 54.0                 54.0   \n",
       "\n",
       "          isoform2_junction24  \\\n",
       "2691                      NaN   \n",
       "11123697                  NaN   \n",
       "18943610                  NaN   \n",
       "31510929                  NaN   \n",
       "44078680                  NaN   \n",
       "\n",
       "                                                      notes       psi  \\\n",
       "2691                                      Case 7: Inclusion  1.000000   \n",
       "11123697    Case 4: Only one junction with sufficient reads       NaN   \n",
       "18943610  Case 11a: Isoform1 has 1+ junction with insuff...  0.994118   \n",
       "31510929  Case 19a: Isoform1 has 1+ junction with insuff...  0.994118   \n",
       "44078680                                  Case 7: Inclusion  1.000000   \n",
       "\n",
       "         sample_id           dataset  \n",
       "2691        CVN_01  unstranded_rmdup  \n",
       "11123697    CVN_01      stranded_bam  \n",
       "18943610    CVN_01          stranded  \n",
       "31510929    CVN_01        unstranded  \n",
       "44078680    CVN_01    stranded_rmdup  "
      ]
     },
     "execution_count": 33,
     "metadata": {},
     "output_type": "execute_result"
    }
   ],
   "source": [
    "sample_id, event_id = 'CVN_01', 'isoform1=junction:chr10:101507148-101514285:+|isoform2=junction:chr10:101507148-101510125:+@exon:chr10:101510126-101510153:+@junction:chr10:101510154-101514285:+'\n",
    "summary.query('(sample_id == @sample_id) & (event_id == @event_id)')"
   ]
  },
  {
   "cell_type": "markdown",
   "metadata": {},
   "source": [
    "Something must have gone wrong when making the junction read file from the `stranded_bam` data for getting the strands because some junctions are NA when they shouldn't be "
   ]
  },
  {
   "cell_type": "markdown",
   "metadata": {},
   "source": [
    "## Make Wasabiplots"
   ]
  },
  {
   "cell_type": "code",
   "execution_count": null,
   "metadata": {
    "collapsed": false
   },
   "outputs": [],
   "source": [
    "from __future__ import print_function\n",
    "\n",
    "import glob\n",
    "bam_filenames = glob.glob('/home/obotvinnik/projects/singlecell_pnms/analysis/bams_from_aws/*.bam')\n",
    "\n",
    "sample_id = 'M2_02'\n",
    "\n",
    "bam_filename = [x for x in bam_filenames if sample_id in x][0]\n",
    "bam_filename"
   ]
  },
  {
   "cell_type": "code",
   "execution_count": null,
   "metadata": {
    "collapsed": false
   },
   "outputs": [],
   "source": [
    "mxe_events = pd.read_csv('outrigger_v2/index/mxe/events.csv')\n",
    "print(mxe_events.shape)\n",
    "mxe_events.head()"
   ]
  },
  {
   "cell_type": "code",
   "execution_count": null,
   "metadata": {
    "collapsed": false
   },
   "outputs": [],
   "source": [
    "mxe_event_bed = pd.read_table('outrigger_v2/index/mxe/event.bed', index_col=3, header=None)\n",
    "print(mxe_event_bed.shape)\n",
    "mxe_event_bed.head()"
   ]
  },
  {
   "cell_type": "code",
   "execution_count": null,
   "metadata": {
    "collapsed": false
   },
   "outputs": [],
   "source": [
    "pkm_mxe_event_bed = mxe_event_bed.loc[pkm_mxe_event]"
   ]
  },
  {
   "cell_type": "code",
   "execution_count": null,
   "metadata": {
    "collapsed": false
   },
   "outputs": [],
   "source": [
    "pkm_mxe_event_bed.max()"
   ]
  },
  {
   "cell_type": "code",
   "execution_count": null,
   "metadata": {
    "collapsed": false
   },
   "outputs": [],
   "source": [
    "pkm_mxe_event_bed.min()"
   ]
  },
  {
   "cell_type": "code",
   "execution_count": null,
   "metadata": {
    "collapsed": false
   },
   "outputs": [],
   "source": [
    "chrom = pkm_mxe_event_bed.iloc[0, 0]\n",
    "start = pkm_mxe_event_bed.min()[1]\n",
    "stop = pkm_mxe_event_bed.max()[2]\n",
    "strand = '-'\n"
   ]
  },
  {
   "cell_type": "code",
   "execution_count": null,
   "metadata": {
    "collapsed": false
   },
   "outputs": [],
   "source": [
    "%load_ext autoreload\n",
    "%autoreload 2\n",
    "\n",
    "import matplotlib.pyplot as plt\n",
    "import seaborn as sns\n",
    "import numpy as np\n",
    "import pandas as pd\n",
    "\n",
    "\n",
    "%matplotlib inline\n",
    "\n",
    "import flotilla\n",
    "\n",
    "\n",
    "flotilla_dir = '/projects/ps-yeolab/obotvinnik/flotilla_projects'\n",
    "\n",
    "study = flotilla.embark('singlecell_pnm_figure2_modalities_bayesian', flotilla_dir=flotilla_dir)\n",
    "\n",
    "# not_outliers = study.splicing.singles.index.difference(study.splicing.outliers.index)\n"
   ]
  },
  {
   "cell_type": "code",
   "execution_count": null,
   "metadata": {
    "collapsed": false
   },
   "outputs": [],
   "source": [
    "import pandas as pd\n",
    "import os\n",
    "\n",
    "bam_df = pd.Series(sorted(bam_filenames), name='bam').to_frame()\n",
    "bam_df['sample_id'] = bam_df['bam'].map(lambda x: '_'.join(os.path.basename(x).split('.')[0].split('_')[:2]))\n",
    "bam_df = bam_df.set_index('sample_id')\n",
    "bam_df['phenotype'] = study.sample_id_to_phenotype\n",
    "bam_df['pooled'] = study.metadata.data['pooled']\n",
    "bam_df['outlier'] = study.metadata.data['outlier']\n",
    "bam_df.head()"
   ]
  },
  {
   "cell_type": "code",
   "execution_count": null,
   "metadata": {
    "collapsed": true
   },
   "outputs": [],
   "source": [
    "import wasabiplot as wp\n",
    "\n",
    "def wasabifacet(x, **kwargs):\n",
    "    return wp.wasabiplot(x.iloc[0], **kwargs)"
   ]
  },
  {
   "cell_type": "code",
   "execution_count": null,
   "metadata": {
    "collapsed": false
   },
   "outputs": [],
   "source": [
    "bam_df_samples = bam_df.loc[sample_ids]\n",
    "print(bam_df_samples.shape)\n",
    "bam_df_samples.head()"
   ]
  },
  {
   "cell_type": "code",
   "execution_count": null,
   "metadata": {
    "collapsed": false
   },
   "outputs": [],
   "source": [
    "%pdb"
   ]
  },
  {
   "cell_type": "code",
   "execution_count": null,
   "metadata": {
    "collapsed": false
   },
   "outputs": [],
   "source": [
    "g = sns.FacetGrid(bam_df_samples, row='bam', hue='phenotype', size=1.5, aspect=8)\n",
    "g.map(wasabifacet, 'bam', chrom=chrom, start=start, stop=stop, strand=strand, warn_skipped=False)"
   ]
  },
  {
   "cell_type": "code",
   "execution_count": null,
   "metadata": {
    "collapsed": true
   },
   "outputs": [],
   "source": []
  }
 ],
 "metadata": {
  "kernelspec": {
   "display_name": "Python 2",
   "language": "python",
   "name": "python2"
  },
  "language_info": {
   "codemirror_mode": {
    "name": "ipython",
    "version": 2
   },
   "file_extension": ".py",
   "mimetype": "text/x-python",
   "name": "python",
   "nbconvert_exporter": "python",
   "pygments_lexer": "ipython2",
   "version": "2.7.11"
  }
 },
 "nbformat": 4,
 "nbformat_minor": 0
}
