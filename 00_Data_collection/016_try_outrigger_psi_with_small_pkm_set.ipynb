{
 "cells": [
  {
   "cell_type": "code",
   "execution_count": 1,
   "metadata": {
    "collapsed": true
   },
   "outputs": [],
   "source": [
    "sample_ids = ['M6_04', 'P1_03']"
   ]
  },
  {
   "cell_type": "code",
   "execution_count": 2,
   "metadata": {
    "collapsed": true
   },
   "outputs": [],
   "source": [
    "rmdup_bam_folder = '/home/obotvinnik/projects/singlecell_pnms/analysis/bams_from_aws/rmdup/'"
   ]
  },
  {
   "cell_type": "code",
   "execution_count": 3,
   "metadata": {
    "collapsed": true
   },
   "outputs": [],
   "source": [
    "pkm_coords = 'chr15:72,492,347-72,499,311'"
   ]
  },
  {
   "cell_type": "code",
   "execution_count": 6,
   "metadata": {
    "collapsed": false
   },
   "outputs": [
    {
     "name": "stdout",
     "output_type": "stream",
     "text": [
      "(6612086, 7)\n"
     ]
    },
    {
     "data": {
      "text/html": [
       "<div>\n",
       "<table border=\"1\" class=\"dataframe\">\n",
       "  <thead>\n",
       "    <tr style=\"text-align: right;\">\n",
       "      <th></th>\n",
       "      <th>sample_id</th>\n",
       "      <th>event_id</th>\n",
       "      <th>isoform1_junction13</th>\n",
       "      <th>isoform2_junction12</th>\n",
       "      <th>isoform2_junction23</th>\n",
       "      <th>psi</th>\n",
       "      <th>notes</th>\n",
       "    </tr>\n",
       "  </thead>\n",
       "  <tbody>\n",
       "    <tr>\n",
       "      <th>0</th>\n",
       "      <td>CVN_01_R1.fastq.gz.polyATrim.adapterTrim.rmRep...</td>\n",
       "      <td>isoform1=junction:chr10:100189400-100190327:-|...</td>\n",
       "      <td>0.0</td>\n",
       "      <td>0.0</td>\n",
       "      <td>0.0</td>\n",
       "      <td>NaN</td>\n",
       "      <td>Case 2: Zero observed reads</td>\n",
       "    </tr>\n",
       "    <tr>\n",
       "      <th>1</th>\n",
       "      <td>CVN_02_R1.fastq.gz.polyATrim.adapterTrim.rmRep...</td>\n",
       "      <td>isoform1=junction:chr10:100189400-100190327:-|...</td>\n",
       "      <td>0.0</td>\n",
       "      <td>0.0</td>\n",
       "      <td>0.0</td>\n",
       "      <td>NaN</td>\n",
       "      <td>Case 2: Zero observed reads</td>\n",
       "    </tr>\n",
       "    <tr>\n",
       "      <th>2</th>\n",
       "      <td>CVN_03_R1.fastq.gz.polyATrim.adapterTrim.rmRep...</td>\n",
       "      <td>isoform1=junction:chr10:100189400-100190327:-|...</td>\n",
       "      <td>0.0</td>\n",
       "      <td>0.0</td>\n",
       "      <td>0.0</td>\n",
       "      <td>NaN</td>\n",
       "      <td>Case 2: Zero observed reads</td>\n",
       "    </tr>\n",
       "    <tr>\n",
       "      <th>3</th>\n",
       "      <td>CVN_04_R1.fastq.gz.polyATrim.adapterTrim.rmRep...</td>\n",
       "      <td>isoform1=junction:chr10:100189400-100190327:-|...</td>\n",
       "      <td>0.0</td>\n",
       "      <td>0.0</td>\n",
       "      <td>0.0</td>\n",
       "      <td>NaN</td>\n",
       "      <td>Case 2: Zero observed reads</td>\n",
       "    </tr>\n",
       "    <tr>\n",
       "      <th>4</th>\n",
       "      <td>CVN_05_R1.fastq.gz.polyATrim.adapterTrim.rmRep...</td>\n",
       "      <td>isoform1=junction:chr10:100189400-100190327:-|...</td>\n",
       "      <td>0.0</td>\n",
       "      <td>0.0</td>\n",
       "      <td>0.0</td>\n",
       "      <td>NaN</td>\n",
       "      <td>Case 2: Zero observed reads</td>\n",
       "    </tr>\n",
       "  </tbody>\n",
       "</table>\n",
       "</div>"
      ],
      "text/plain": [
       "                                           sample_id  \\\n",
       "0  CVN_01_R1.fastq.gz.polyATrim.adapterTrim.rmRep...   \n",
       "1  CVN_02_R1.fastq.gz.polyATrim.adapterTrim.rmRep...   \n",
       "2  CVN_03_R1.fastq.gz.polyATrim.adapterTrim.rmRep...   \n",
       "3  CVN_04_R1.fastq.gz.polyATrim.adapterTrim.rmRep...   \n",
       "4  CVN_05_R1.fastq.gz.polyATrim.adapterTrim.rmRep...   \n",
       "\n",
       "                                            event_id  isoform1_junction13  \\\n",
       "0  isoform1=junction:chr10:100189400-100190327:-|...                  0.0   \n",
       "1  isoform1=junction:chr10:100189400-100190327:-|...                  0.0   \n",
       "2  isoform1=junction:chr10:100189400-100190327:-|...                  0.0   \n",
       "3  isoform1=junction:chr10:100189400-100190327:-|...                  0.0   \n",
       "4  isoform1=junction:chr10:100189400-100190327:-|...                  0.0   \n",
       "\n",
       "   isoform2_junction12  isoform2_junction23  psi                        notes  \n",
       "0                  0.0                  0.0  NaN  Case 2: Zero observed reads  \n",
       "1                  0.0                  0.0  NaN  Case 2: Zero observed reads  \n",
       "2                  0.0                  0.0  NaN  Case 2: Zero observed reads  \n",
       "3                  0.0                  0.0  NaN  Case 2: Zero observed reads  \n",
       "4                  0.0                  0.0  NaN  Case 2: Zero observed reads  "
      ]
     },
     "execution_count": 6,
     "metadata": {},
     "output_type": "execute_result"
    }
   ],
   "source": [
    "import pandas as pd\n",
    "\n",
    "se_summary_rmdup = pd.read_csv('/home/obotvinnik/projects/singlecell_pnms/analysis/outrigger_v2_rmdup/psi/se/summary.csv')\n",
    "print(se_summary_rmdup.shape)\n",
    "se_summary_rmdup.head()"
   ]
  },
  {
   "cell_type": "code",
   "execution_count": 8,
   "metadata": {
    "collapsed": false
   },
   "outputs": [
    {
     "data": {
      "text/plain": [
       "CVN_01    CVN_01_R1.fastq.gz.polyATrim.adapterTrim.rmRep...\n",
       "CVN_02    CVN_02_R1.fastq.gz.polyATrim.adapterTrim.rmRep...\n",
       "CVN_03    CVN_03_R1.fastq.gz.polyATrim.adapterTrim.rmRep...\n",
       "CVN_04    CVN_04_R1.fastq.gz.polyATrim.adapterTrim.rmRep...\n",
       "CVN_05    CVN_05_R1.fastq.gz.polyATrim.adapterTrim.rmRep...\n",
       "dtype: object"
      ]
     },
     "execution_count": 8,
     "metadata": {},
     "output_type": "execute_result"
    }
   ],
   "source": [
    "bams = pd.Series(se_summary_rmdup['sample_id'].unique())\n",
    "bams.index = bams.map(lambda x: '_'.join(x.split('_')[:2]))\n",
    "bams.head()"
   ]
  },
  {
   "cell_type": "code",
   "execution_count": 9,
   "metadata": {
    "collapsed": false
   },
   "outputs": [
    {
     "data": {
      "text/plain": [
       "'M6_04_R1.fastq.gz.polyATrim.adapterTrim.rmRep.sorted.bam'"
      ]
     },
     "execution_count": 9,
     "metadata": {},
     "output_type": "execute_result"
    }
   ],
   "source": [
    "bam = bams[sample_ids[0]]\n",
    "bam"
   ]
  },
  {
   "cell_type": "code",
   "execution_count": 12,
   "metadata": {
    "collapsed": false
   },
   "outputs": [
    {
     "name": "stdout",
     "output_type": "stream",
     "text": [
      "\r\n",
      "Usage:   samtools view [options] <in.bam>|<in.sam> [region1 [...]]\r\n",
      "\r\n",
      "Options: -b       output BAM\r\n",
      "         -h       print header for the SAM output\r\n",
      "         -H       print header only (no alignments)\r\n",
      "         -S       input is SAM\r\n",
      "         -u       uncompressed BAM output (force -b)\r\n",
      "         -1       fast compression (force -b)\r\n",
      "         -x       output FLAG in HEX (samtools-C specific)\r\n",
      "         -X       output FLAG in string (samtools-C specific)\r\n",
      "         -c       print only the count of matching records\r\n",
      "         -B       collapse the backward CIGAR operation\r\n",
      "         -@ INT   number of BAM compression threads [0]\r\n",
      "         -L FILE  output alignments overlapping the input BED FILE [null]\r\n",
      "         -t FILE  list of reference names and lengths (force -S) [null]\r\n",
      "         -T FILE  reference sequence file (force -S) [null]\r\n",
      "         -o FILE  output file name [stdout]\r\n",
      "         -R FILE  list of read groups to be outputted [null]\r\n",
      "         -f INT   required flag, 0 for unset [0]\r\n",
      "         -F INT   filtering flag, 0 for unset [0]\r\n",
      "         -q INT   minimum mapping quality [0]\r\n",
      "         -l STR   only output reads in library STR [null]\r\n",
      "         -r STR   only output reads in read group STR [null]\r\n",
      "         -s FLOAT fraction of templates to subsample; integer part as seed [-1]\r\n",
      "         -?       longer help\r\n",
      "\r\n"
     ]
    }
   ],
   "source": [
    "! samtools view -h"
   ]
  },
  {
   "cell_type": "code",
   "execution_count": 14,
   "metadata": {
    "collapsed": true
   },
   "outputs": [],
   "source": [
    "pkm_folder = '{}/pkm'.format(rmdup_bam_folder)\n",
    "! mkdir -p $pkm_folder"
   ]
  },
  {
   "cell_type": "code",
   "execution_count": null,
   "metadata": {
    "collapsed": false
   },
   "outputs": [],
   "source": [
    "! samtools view -bh $rmdup_bam_folder/$bam $pkm_coords > $pkm_folder/$bam"
   ]
  },
  {
   "cell_type": "code",
   "execution_count": null,
   "metadata": {
    "collapsed": true
   },
   "outputs": [],
   "source": [
    "ls $pkm_folder"
   ]
  },
  {
   "cell_type": "code",
   "execution_count": null,
   "metadata": {
    "collapsed": true
   },
   "outputs": [],
   "source": []
  }
 ],
 "metadata": {
  "kernelspec": {
   "display_name": "Python 2",
   "language": "python",
   "name": "python2"
  },
  "language_info": {
   "codemirror_mode": {
    "name": "ipython",
    "version": 2
   },
   "file_extension": ".py",
   "mimetype": "text/x-python",
   "name": "python",
   "nbconvert_exporter": "python",
   "pygments_lexer": "ipython2",
   "version": "2.7.11"
  }
 },
 "nbformat": 4,
 "nbformat_minor": 0
}
