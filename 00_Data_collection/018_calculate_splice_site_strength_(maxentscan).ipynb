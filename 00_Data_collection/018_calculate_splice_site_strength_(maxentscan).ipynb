{
 "cells": [
  {
   "cell_type": "code",
   "execution_count": 1,
   "metadata": {
    "collapsed": false
   },
   "outputs": [],
   "source": [
    "import pandas as pd\n",
    "\n",
    "%load_ext autoreload\n",
    "%autoreload 2\n",
    "\n",
    "folder = '/projects/ps-yeolab/obotvinnik/singlecell_pnms'\n",
    "csv_folder = '{}/csvs_for_paper'.format(folder)\n",
    "bed_folder = '{}/bed'.format(folder)\n",
    "\n",
    "\n",
    "splicing_feature_folder = '{}/splicing_feature_data'.format(csv_folder)\n",
    "alternative_feature_folder = '{}/alternative'.format(splicing_feature_folder)\n",
    "constitutive_feature_folder = '{}/constitutive'.format(splicing_feature_folder)\n",
    "\n",
    "alt_exons_bedfile = '{}/exons.bed'.format(alternative_feature_folder)\n",
    "constitutive_bedfile = '{}/exons.bed'.format(constitutive_feature_folder)\n",
    "\n",
    "bedfiles = alt_exons_bedfile, constitutive_bedfile\n",
    "\n",
    "# splicing_feature_data = pd.read_csv('{}/splicing_feature_data.csv'.format(csv_folder), index_col=0)\n",
    "# print(splicing_feature_data.shape)\n",
    "# splicing_feature_data.head()"
   ]
  },
  {
   "cell_type": "code",
   "execution_count": 2,
   "metadata": {
    "collapsed": false
   },
   "outputs": [],
   "source": [
    "import pybedtools\n",
    "constitutive_bed = pybedtools.BedTool(constitutive_bedfile)\n",
    "names = [x.name for x in constitutive_bed]\n",
    "\n",
    "constitutive_feature_data = pd.DataFrame(index=names)"
   ]
  },
  {
   "cell_type": "code",
   "execution_count": 3,
   "metadata": {
    "collapsed": false
   },
   "outputs": [
    {
     "data": {
      "text/plain": [
       "17541"
      ]
     },
     "execution_count": 3,
     "metadata": {},
     "output_type": "execute_result"
    }
   ],
   "source": [
    "len(constitutive_bed)"
   ]
  },
  {
   "cell_type": "code",
   "execution_count": 4,
   "metadata": {
    "collapsed": true
   },
   "outputs": [],
   "source": [
    "hg19_fasta = '/projects/ps-yeolab/genomes/hg19/gencode/v19/GRCh37.p13.genome.fa'"
   ]
  },
  {
   "cell_type": "markdown",
   "metadata": {},
   "source": [
    "## Splice site strength"
   ]
  },
  {
   "cell_type": "code",
   "execution_count": 5,
   "metadata": {
    "collapsed": true
   },
   "outputs": [],
   "source": [
    "chromsizes = '/projects/ps-yeolab/genomes/hg19/hg19.chrom.sizes'"
   ]
  },
  {
   "cell_type": "code",
   "execution_count": 6,
   "metadata": {
    "collapsed": true
   },
   "outputs": [],
   "source": [
    "import poshsplice.splicestrength"
   ]
  },
  {
   "cell_type": "code",
   "execution_count": 8,
   "metadata": {
    "collapsed": false
   },
   "outputs": [
    {
     "name": "stdout",
     "output_type": "stream",
     "text": [
      "chr10\t101162337\t101162479\texon:chr10:101162337-101162479:-\t1000\t-\r\n",
      "chr10\t101163226\t101163391\texon:chr10:101163226-101163391:-\t1000\t-\r\n",
      "chr10\t101165513\t101165617\texon:chr10:101165513-101165617:-\t1000\t-\r\n",
      "chr10\t101165894\t101166006\texon:chr10:101165894-101166006:-\t1000\t-\r\n",
      "chr10\t101166483\t101166606\texon:chr10:101166483-101166606:-\t1000\t-\r\n",
      "chr10\t101180381\t101180562\texon:chr10:101180381-101180562:-\t1000\t-\r\n",
      "chr10\t101480744\t101480825\texon:chr10:101480744-101480825:-\t1000\t-\r\n",
      "chr10\t101483713\t101483880\texon:chr10:101483713-101483880:-\t1000\t-\r\n",
      "chr10\t101486725\t101486911\texon:chr10:101486725-101486911:-\t1000\t-\r\n",
      "chr10\t101487198\t101487320\texon:chr10:101487198-101487320:-\t1000\t-\r\n"
     ]
    }
   ],
   "source": [
    "! head $constitutive_bedfile"
   ]
  },
  {
   "cell_type": "code",
   "execution_count": 10,
   "metadata": {
    "collapsed": true
   },
   "outputs": [],
   "source": [
    "poshsplice.splicestrength??"
   ]
  },
  {
   "cell_type": "code",
   "execution_count": 23,
   "metadata": {
    "collapsed": false
   },
   "outputs": [
    {
     "name": "stdout",
     "output_type": "stream",
     "text": [
      "+\n",
      "-\n",
      "+\n",
      "-\n"
     ]
    },
    {
     "data": {
      "text/html": [
       "<div>\n",
       "<table border=\"1\" class=\"dataframe\">\n",
       "  <thead>\n",
       "    <tr style=\"text-align: right;\">\n",
       "      <th></th>\n",
       "      <th>splice_site_3p_score</th>\n",
       "      <th>splice_site_3p_seq</th>\n",
       "      <th>splice_site_5p_score</th>\n",
       "      <th>splice_site_5p_seq</th>\n",
       "    </tr>\n",
       "  </thead>\n",
       "  <tbody>\n",
       "    <tr>\n",
       "      <th>exon:chr10:101162337-101162479:-</th>\n",
       "      <td>6.29</td>\n",
       "      <td>CGTCACTGTCCATGCTTCAGGAC</td>\n",
       "      <td>10.43</td>\n",
       "      <td>ACCGTAAGT</td>\n",
       "    </tr>\n",
       "    <tr>\n",
       "      <th>exon:chr10:101163226-101163391:-</th>\n",
       "      <td>9.48</td>\n",
       "      <td>ATTCTGGTCCCTCTCTTTAGATG</td>\n",
       "      <td>9.33</td>\n",
       "      <td>ATGGTAAGG</td>\n",
       "    </tr>\n",
       "    <tr>\n",
       "      <th>exon:chr10:101165513-101165617:-</th>\n",
       "      <td>7.94</td>\n",
       "      <td>CATAGCTTCCTTCTCCTCAGAAT</td>\n",
       "      <td>9.01</td>\n",
       "      <td>AAGGTAACT</td>\n",
       "    </tr>\n",
       "    <tr>\n",
       "      <th>exon:chr10:101165894-101166006:-</th>\n",
       "      <td>7.97</td>\n",
       "      <td>TTTTACTTCTTTGCATGCAGAGA</td>\n",
       "      <td>7.07</td>\n",
       "      <td>GAGGTGGGT</td>\n",
       "    </tr>\n",
       "    <tr>\n",
       "      <th>exon:chr10:101166483-101166606:-</th>\n",
       "      <td>13.81</td>\n",
       "      <td>CCCTGTTTCTTCTCTTTCAGGTA</td>\n",
       "      <td>7.93</td>\n",
       "      <td>GGGGTGAGT</td>\n",
       "    </tr>\n",
       "    <tr>\n",
       "      <th>exon:chr10:101180381-101180562:-</th>\n",
       "      <td>6.65</td>\n",
       "      <td>AACTCTTTTCCATTCTCCAGCAT</td>\n",
       "      <td>10.75</td>\n",
       "      <td>CGGGTAAGT</td>\n",
       "    </tr>\n",
       "    <tr>\n",
       "      <th>exon:chr10:101480744-101480825:-</th>\n",
       "      <td>8.06</td>\n",
       "      <td>TGATTTTTTTTCATATTTAGTTG</td>\n",
       "      <td>9.79</td>\n",
       "      <td>CAGGTAGGA</td>\n",
       "    </tr>\n",
       "    <tr>\n",
       "      <th>exon:chr10:101483713-101483880:-</th>\n",
       "      <td>5.75</td>\n",
       "      <td>TCATCTCTTGGGGGTTCTAGGGT</td>\n",
       "      <td>10.57</td>\n",
       "      <td>AAGGTAAGA</td>\n",
       "    </tr>\n",
       "    <tr>\n",
       "      <th>exon:chr10:101486725-101486911:-</th>\n",
       "      <td>5.29</td>\n",
       "      <td>TGACTTTCCATTTCACCCAGCTT</td>\n",
       "      <td>10.77</td>\n",
       "      <td>CAGGTAAGA</td>\n",
       "    </tr>\n",
       "    <tr>\n",
       "      <th>exon:chr10:101487198-101487320:-</th>\n",
       "      <td>8.05</td>\n",
       "      <td>AATTTCTTTCCTATCCTAAGGTT</td>\n",
       "      <td>8.62</td>\n",
       "      <td>AATGTAAGT</td>\n",
       "    </tr>\n",
       "  </tbody>\n",
       "</table>\n",
       "</div>"
      ],
      "text/plain": [
       "                                  splice_site_3p_score  \\\n",
       "exon:chr10:101162337-101162479:-                  6.29   \n",
       "exon:chr10:101163226-101163391:-                  9.48   \n",
       "exon:chr10:101165513-101165617:-                  7.94   \n",
       "exon:chr10:101165894-101166006:-                  7.97   \n",
       "exon:chr10:101166483-101166606:-                 13.81   \n",
       "exon:chr10:101180381-101180562:-                  6.65   \n",
       "exon:chr10:101480744-101480825:-                  8.06   \n",
       "exon:chr10:101483713-101483880:-                  5.75   \n",
       "exon:chr10:101486725-101486911:-                  5.29   \n",
       "exon:chr10:101487198-101487320:-                  8.05   \n",
       "\n",
       "                                       splice_site_3p_seq  \\\n",
       "exon:chr10:101162337-101162479:-  CGTCACTGTCCATGCTTCAGGAC   \n",
       "exon:chr10:101163226-101163391:-  ATTCTGGTCCCTCTCTTTAGATG   \n",
       "exon:chr10:101165513-101165617:-  CATAGCTTCCTTCTCCTCAGAAT   \n",
       "exon:chr10:101165894-101166006:-  TTTTACTTCTTTGCATGCAGAGA   \n",
       "exon:chr10:101166483-101166606:-  CCCTGTTTCTTCTCTTTCAGGTA   \n",
       "exon:chr10:101180381-101180562:-  AACTCTTTTCCATTCTCCAGCAT   \n",
       "exon:chr10:101480744-101480825:-  TGATTTTTTTTCATATTTAGTTG   \n",
       "exon:chr10:101483713-101483880:-  TCATCTCTTGGGGGTTCTAGGGT   \n",
       "exon:chr10:101486725-101486911:-  TGACTTTCCATTTCACCCAGCTT   \n",
       "exon:chr10:101487198-101487320:-  AATTTCTTTCCTATCCTAAGGTT   \n",
       "\n",
       "                                  splice_site_5p_score splice_site_5p_seq  \n",
       "exon:chr10:101162337-101162479:-                 10.43          ACCGTAAGT  \n",
       "exon:chr10:101163226-101163391:-                  9.33          ATGGTAAGG  \n",
       "exon:chr10:101165513-101165617:-                  9.01          AAGGTAACT  \n",
       "exon:chr10:101165894-101166006:-                  7.07          GAGGTGGGT  \n",
       "exon:chr10:101166483-101166606:-                  7.93          GGGGTGAGT  \n",
       "exon:chr10:101180381-101180562:-                 10.75          CGGGTAAGT  \n",
       "exon:chr10:101480744-101480825:-                  9.79          CAGGTAGGA  \n",
       "exon:chr10:101483713-101483880:-                 10.57          AAGGTAAGA  \n",
       "exon:chr10:101486725-101486911:-                 10.77          CAGGTAAGA  \n",
       "exon:chr10:101487198-101487320:-                  8.62          AATGTAAGT  "
      ]
     },
     "execution_count": 23,
     "metadata": {},
     "output_type": "execute_result"
    }
   ],
   "source": [
    "from poshsplice.splicestrength import score_exons\n",
    "\n",
    "constitutive_scores = score_exons(constitutive_bedfile, fasta=hg19_fasta, genome='hg19')\n",
    "constitutive_scores.head(10)"
   ]
  },
  {
   "cell_type": "code",
   "execution_count": 16,
   "metadata": {
    "collapsed": false
   },
   "outputs": [
    {
     "data": {
      "text/plain": [
       "17541"
      ]
     },
     "execution_count": 16,
     "metadata": {},
     "output_type": "execute_result"
    }
   ],
   "source": [
    "len(ss_seqs)"
   ]
  },
  {
   "cell_type": "code",
   "execution_count": 19,
   "metadata": {
    "collapsed": false
   },
   "outputs": [
    {
     "data": {
      "text/plain": [
       "1"
      ]
     },
     "execution_count": 19,
     "metadata": {},
     "output_type": "execute_result"
    }
   ],
   "source": [
    "lengths = pd.Series([len(x) for x in ss_seqs])\n",
    "(lengths != 23).sum()"
   ]
  },
  {
   "cell_type": "code",
   "execution_count": 20,
   "metadata": {
    "collapsed": false
   },
   "outputs": [
    {
     "data": {
      "text/plain": [
       "15202    21\n",
       "dtype: int64"
      ]
     },
     "execution_count": 20,
     "metadata": {},
     "output_type": "execute_result"
    }
   ],
   "source": [
    "lengths[lengths != 23]"
   ]
  },
  {
   "cell_type": "code",
   "execution_count": 22,
   "metadata": {
    "collapsed": false
   },
   "outputs": [
    {
     "data": {
      "text/plain": [
       "u'novel_exon:chr13:31714446-31714446:-'"
      ]
     },
     "execution_count": 22,
     "metadata": {},
     "output_type": "execute_result"
    }
   ],
   "source": [
    "names = [x.name for x in bed]\n",
    "names[15202]"
   ]
  },
  {
   "cell_type": "code",
   "execution_count": 27,
   "metadata": {
    "collapsed": false
   },
   "outputs": [
    {
     "data": {
      "text/plain": [
       "16823    1\n",
       "dtype: int64"
      ]
     },
     "execution_count": 27,
     "metadata": {},
     "output_type": "execute_result"
    }
   ],
   "source": [
    "bed_lengths = pd.Series([len(x) for x in bed])\n",
    "bed_lengths[bed_lengths <= 1]"
   ]
  },
  {
   "cell_type": "code",
   "execution_count": 28,
   "metadata": {
    "collapsed": false
   },
   "outputs": [
    {
     "data": {
      "text/plain": [
       "(17540, 4)"
      ]
     },
     "execution_count": 28,
     "metadata": {},
     "output_type": "execute_result"
    }
   ],
   "source": [
    "constitutive_scores.shape"
   ]
  },
  {
   "cell_type": "code",
   "execution_count": 29,
   "metadata": {
    "collapsed": true
   },
   "outputs": [],
   "source": [
    "import seaborn as sns\n",
    "\n",
    "%matplotlib inline"
   ]
  },
  {
   "cell_type": "code",
   "execution_count": 39,
   "metadata": {
    "collapsed": true
   },
   "outputs": [],
   "source": [
    "figure_folder = 'figures/018_calculate_splice_site_strength'\n",
    "! mkdir -p $figure_folder"
   ]
  },
  {
   "cell_type": "code",
   "execution_count": 40,
   "metadata": {
    "collapsed": false
   },
   "outputs": [
    {
     "data": {
      "image/png": "[encoded data removed]",
      "text/plain": [
       "<matplotlib.figure.Figure at 0x2aea86804e10>"
      ]
     },
     "metadata": {},
     "output_type": "display_data"
    }
   ],
   "source": [
    "g = sns.jointplot('splice_site_5p_score', 'splice_site_3p_score', \n",
    "                  constitutive_scores, joint_kws=dict(rasterized=True, s=3), size=3)\n",
    "g.savefig('{}/constitutive_5p_vs_3p_scores.pdf'.format(figure_folder), dpi=300)"
   ]
  },
  {
   "cell_type": "code",
   "execution_count": 41,
   "metadata": {
    "collapsed": false
   },
   "outputs": [
    {
     "data": {
      "text/plain": [
       "(17540, 4)"
      ]
     },
     "execution_count": 41,
     "metadata": {},
     "output_type": "execute_result"
    }
   ],
   "source": [
    "constitutive_scores.shape"
   ]
  },
  {
   "cell_type": "code",
   "execution_count": 42,
   "metadata": {
    "collapsed": false
   },
   "outputs": [
    {
     "name": "stdout",
     "output_type": "stream",
     "text": [
      "/projects/ps-yeolab/obotvinnik/singlecell_pnms/csvs_for_paper/constitutive_downstream400_pyrimidine_content.csv\r\n",
      "/projects/ps-yeolab/obotvinnik/singlecell_pnms/csvs_for_paper/constitutive_exons.bed\r\n",
      "/projects/ps-yeolab/obotvinnik/singlecell_pnms/csvs_for_paper/constitutive_feature_data.csv\r\n",
      "/projects/ps-yeolab/obotvinnik/singlecell_pnms/csvs_for_paper/constitutive_upstream400_pyrimidine_content.csv\r\n"
     ]
    }
   ],
   "source": [
    "ls $csv_folder/constitutive*"
   ]
  },
  {
   "cell_type": "markdown",
   "metadata": {},
   "source": [
    "### Write constitutive data"
   ]
  },
  {
   "cell_type": "code",
   "execution_count": 43,
   "metadata": {
    "collapsed": false
   },
   "outputs": [],
   "source": [
    "constitutive_scores.to_csv('{}/maxentscan.csv'.format(constitutive_feature_folder))"
   ]
  },
  {
   "cell_type": "markdown",
   "metadata": {},
   "source": [
    "## Alternative scores"
   ]
  },
  {
   "cell_type": "code",
   "execution_count": 44,
   "metadata": {
    "collapsed": false
   },
   "outputs": [
    {
     "name": "stdout",
     "output_type": "stream",
     "text": [
      "-rw-r--r-- 1 obotvinnik yeo-group 6.8M Jan  5 12:37 /projects/ps-yeolab/obotvinnik/singlecell_pnms/csvs_for_paper/splicing_feature_data/alternative/exons.bed\r\n"
     ]
    }
   ],
   "source": [
    "! ls -lha $alt_exons_bedfile"
   ]
  },
  {
   "cell_type": "code",
   "execution_count": 45,
   "metadata": {
    "collapsed": false
   },
   "outputs": [
    {
     "name": "stdout",
     "output_type": "stream",
     "text": [
      "Automatic pdb calling has been turned ON\n"
     ]
    }
   ],
   "source": [
    "%pdb"
   ]
  },
  {
   "cell_type": "code",
   "execution_count": 47,
   "metadata": {
    "collapsed": true
   },
   "outputs": [],
   "source": [
    "# alt_bed = pybedtools"
   ]
  },
  {
   "cell_type": "code",
   "execution_count": 48,
   "metadata": {
    "collapsed": false
   },
   "outputs": [
    {
     "name": "stdout",
     "output_type": "stream",
     "text": [
      "+\n",
      "-\n",
      "+\n",
      "-\n"
     ]
    },
    {
     "data": {
      "text/html": [
       "<div>\n",
       "<table border=\"1\" class=\"dataframe\">\n",
       "  <thead>\n",
       "    <tr style=\"text-align: right;\">\n",
       "      <th></th>\n",
       "      <th>splice_site_3p_score</th>\n",
       "      <th>splice_site_3p_seq</th>\n",
       "      <th>splice_site_5p_score</th>\n",
       "      <th>splice_site_5p_seq</th>\n",
       "    </tr>\n",
       "  </thead>\n",
       "  <tbody>\n",
       "    <tr>\n",
       "      <th>isoform1=junction:chr10:100189400-100190327:-|isoform2=junction:chr10:100189647-100190327:-@exon:chr10:100189548-100189646:-@junction:chr10:100189400-100189547:-</th>\n",
       "      <td>7.77</td>\n",
       "      <td>CTCTCCCCTGCCCTGCACAGCCT</td>\n",
       "      <td>6.96</td>\n",
       "      <td>ACGGTGTGT</td>\n",
       "    </tr>\n",
       "    <tr>\n",
       "      <th>isoform1=junction:chr10:100190428-100193696:-|isoform2=junction:chr10:100191049-100193696:-@exon:chr10:100190888-100191048:-@junction:chr10:100190428-100190887:-</th>\n",
       "      <td>9.08</td>\n",
       "      <td>TCCCTTCCTGCCCTGGCTAGGCC</td>\n",
       "      <td>7.96</td>\n",
       "      <td>TAGGTGAGC</td>\n",
       "    </tr>\n",
       "    <tr>\n",
       "      <th>isoform1=junction:chr10:100193849-100195391:-|isoform2=junction:chr10:100195172-100195391:-@exon:chr10:100195029-100195171:-@junction:chr10:100193849-100195028:-</th>\n",
       "      <td>7.92</td>\n",
       "      <td>TGGCCTGCCTGTGCCTGCAGTTT</td>\n",
       "      <td>6.05</td>\n",
       "      <td>GGAGTGAGT</td>\n",
       "    </tr>\n",
       "    <tr>\n",
       "      <th>isoform1=junction:chr10:101163392-101165512:-|isoform2=junction:chr10:101163632-101165512:-@exon:chr10:101163481-101163631:-@junction:chr10:101163392-101163480:-</th>\n",
       "      <td>10.79</td>\n",
       "      <td>CTCACTTTGCTTCCCCGCAGCAC</td>\n",
       "      <td>8.34</td>\n",
       "      <td>ACAGTGAGT</td>\n",
       "    </tr>\n",
       "    <tr>\n",
       "      <th>isoform1=junction:chr10:101191023-101193302:+|isoform2=junction:chr10:101191023-101191686:+@novel_exon:chr10:101191687-101191705:+@junction:chr10:101191706-101193302:+</th>\n",
       "      <td>11.50</td>\n",
       "      <td>TTTTTTTACTTTTATTTTAGGTT</td>\n",
       "      <td>7.44</td>\n",
       "      <td>CAGGTTTGT</td>\n",
       "    </tr>\n",
       "  </tbody>\n",
       "</table>\n",
       "</div>"
      ],
      "text/plain": [
       "                                                    splice_site_3p_score  \\\n",
       "isoform1=junction:chr10:100189400-100190327:-|i...                  7.77   \n",
       "isoform1=junction:chr10:100190428-100193696:-|i...                  9.08   \n",
       "isoform1=junction:chr10:100193849-100195391:-|i...                  7.92   \n",
       "isoform1=junction:chr10:101163392-101165512:-|i...                 10.79   \n",
       "isoform1=junction:chr10:101191023-101193302:+|i...                 11.50   \n",
       "\n",
       "                                                         splice_site_3p_seq  \\\n",
       "isoform1=junction:chr10:100189400-100190327:-|i...  CTCTCCCCTGCCCTGCACAGCCT   \n",
       "isoform1=junction:chr10:100190428-100193696:-|i...  TCCCTTCCTGCCCTGGCTAGGCC   \n",
       "isoform1=junction:chr10:100193849-100195391:-|i...  TGGCCTGCCTGTGCCTGCAGTTT   \n",
       "isoform1=junction:chr10:101163392-101165512:-|i...  CTCACTTTGCTTCCCCGCAGCAC   \n",
       "isoform1=junction:chr10:101191023-101193302:+|i...  TTTTTTTACTTTTATTTTAGGTT   \n",
       "\n",
       "                                                    splice_site_5p_score  \\\n",
       "isoform1=junction:chr10:100189400-100190327:-|i...                  6.96   \n",
       "isoform1=junction:chr10:100190428-100193696:-|i...                  7.96   \n",
       "isoform1=junction:chr10:100193849-100195391:-|i...                  6.05   \n",
       "isoform1=junction:chr10:101163392-101165512:-|i...                  8.34   \n",
       "isoform1=junction:chr10:101191023-101193302:+|i...                  7.44   \n",
       "\n",
       "                                                   splice_site_5p_seq  \n",
       "isoform1=junction:chr10:100189400-100190327:-|i...          ACGGTGTGT  \n",
       "isoform1=junction:chr10:100190428-100193696:-|i...          TAGGTGAGC  \n",
       "isoform1=junction:chr10:100193849-100195391:-|i...          GGAGTGAGT  \n",
       "isoform1=junction:chr10:101163392-101165512:-|i...          ACAGTGAGT  \n",
       "isoform1=junction:chr10:101191023-101193302:+|i...          CAGGTTTGT  "
      ]
     },
     "execution_count": 48,
     "metadata": {},
     "output_type": "execute_result"
    }
   ],
   "source": [
    "from poshsplice.splicestrength import score_exons\n",
    "\n",
    "alt_exons_scores = score_exons(alt_exons_bedfile, genome='hg19', fasta=hg19_fasta)\n",
    "alt_exons_scores.head()"
   ]
  },
  {
   "cell_type": "code",
   "execution_count": 51,
   "metadata": {
    "collapsed": false
   },
   "outputs": [
    {
     "data": {
      "image/png": "[encoded data removed]",
      "text/plain": [
       "<matplotlib.figure.Figure at 0x2aea8aa14390>"
      ]
     },
     "metadata": {},
     "output_type": "display_data"
    }
   ],
   "source": [
    "g = sns.jointplot('splice_site_5p_score', 'splice_site_3p_score', \n",
    "                  alt_exons_scores, joint_kws=dict(rasterized=True, s=3), size=3)\n",
    "g.ax_joint.set(xlim=(-40, 20), ylim=(-40, 20))\n",
    "g.savefig('{}/alternative_5p_vs_3p_scores.pdf'.format(figure_folder), dpi=300)"
   ]
  },
  {
   "cell_type": "code",
   "execution_count": 52,
   "metadata": {
    "collapsed": false
   },
   "outputs": [
    {
     "name": "stdout",
     "output_type": "stream",
     "text": [
      "34979 /projects/ps-yeolab/obotvinnik/singlecell_pnms/csvs_for_paper/splicing_feature_data/alternative/exons.bed\r\n"
     ]
    }
   ],
   "source": [
    "! wc -l $alt_exons_bedfile"
   ]
  },
  {
   "cell_type": "code",
   "execution_count": 53,
   "metadata": {
    "collapsed": false
   },
   "outputs": [
    {
     "data": {
      "text/plain": [
       "(34979, 4)"
      ]
     },
     "execution_count": 53,
     "metadata": {},
     "output_type": "execute_result"
    }
   ],
   "source": [
    "alt_exons_scores.shape"
   ]
  },
  {
   "cell_type": "code",
   "execution_count": 54,
   "metadata": {
    "collapsed": true
   },
   "outputs": [],
   "source": [
    "alt_exons_scores.to_csv('{}/maxentscan.csv'.format(alternative_feature_folder))"
   ]
  },
  {
   "cell_type": "markdown",
   "metadata": {},
   "source": [
    "##  Compare alt and constitutve"
   ]
  },
  {
   "cell_type": "code",
   "execution_count": 55,
   "metadata": {
    "collapsed": false
   },
   "outputs": [
    {
     "data": {
      "text/html": [
       "<div>\n",
       "<table border=\"1\" class=\"dataframe\">\n",
       "  <thead>\n",
       "    <tr style=\"text-align: right;\">\n",
       "      <th></th>\n",
       "      <th>splice_site_3p_score</th>\n",
       "      <th>splice_site_3p_seq</th>\n",
       "      <th>splice_site_5p_score</th>\n",
       "      <th>splice_site_5p_seq</th>\n",
       "      <th>exon_type</th>\n",
       "    </tr>\n",
       "  </thead>\n",
       "  <tbody>\n",
       "    <tr>\n",
       "      <th>isoform1=junction:chr10:100189400-100190327:-|isoform2=junction:chr10:100189647-100190327:-@exon:chr10:100189548-100189646:-@junction:chr10:100189400-100189547:-</th>\n",
       "      <td>7.77</td>\n",
       "      <td>CTCTCCCCTGCCCTGCACAGCCT</td>\n",
       "      <td>6.96</td>\n",
       "      <td>ACGGTGTGT</td>\n",
       "      <td>alternative</td>\n",
       "    </tr>\n",
       "    <tr>\n",
       "      <th>isoform1=junction:chr10:100190428-100193696:-|isoform2=junction:chr10:100191049-100193696:-@exon:chr10:100190888-100191048:-@junction:chr10:100190428-100190887:-</th>\n",
       "      <td>9.08</td>\n",
       "      <td>TCCCTTCCTGCCCTGGCTAGGCC</td>\n",
       "      <td>7.96</td>\n",
       "      <td>TAGGTGAGC</td>\n",
       "      <td>alternative</td>\n",
       "    </tr>\n",
       "    <tr>\n",
       "      <th>isoform1=junction:chr10:100193849-100195391:-|isoform2=junction:chr10:100195172-100195391:-@exon:chr10:100195029-100195171:-@junction:chr10:100193849-100195028:-</th>\n",
       "      <td>7.92</td>\n",
       "      <td>TGGCCTGCCTGTGCCTGCAGTTT</td>\n",
       "      <td>6.05</td>\n",
       "      <td>GGAGTGAGT</td>\n",
       "      <td>alternative</td>\n",
       "    </tr>\n",
       "    <tr>\n",
       "      <th>isoform1=junction:chr10:101163392-101165512:-|isoform2=junction:chr10:101163632-101165512:-@exon:chr10:101163481-101163631:-@junction:chr10:101163392-101163480:-</th>\n",
       "      <td>10.79</td>\n",
       "      <td>CTCACTTTGCTTCCCCGCAGCAC</td>\n",
       "      <td>8.34</td>\n",
       "      <td>ACAGTGAGT</td>\n",
       "      <td>alternative</td>\n",
       "    </tr>\n",
       "    <tr>\n",
       "      <th>isoform1=junction:chr10:101191023-101193302:+|isoform2=junction:chr10:101191023-101191686:+@novel_exon:chr10:101191687-101191705:+@junction:chr10:101191706-101193302:+</th>\n",
       "      <td>11.50</td>\n",
       "      <td>TTTTTTTACTTTTATTTTAGGTT</td>\n",
       "      <td>7.44</td>\n",
       "      <td>CAGGTTTGT</td>\n",
       "      <td>alternative</td>\n",
       "    </tr>\n",
       "  </tbody>\n",
       "</table>\n",
       "</div>"
      ],
      "text/plain": [
       "                                                    splice_site_3p_score  \\\n",
       "isoform1=junction:chr10:100189400-100190327:-|i...                  7.77   \n",
       "isoform1=junction:chr10:100190428-100193696:-|i...                  9.08   \n",
       "isoform1=junction:chr10:100193849-100195391:-|i...                  7.92   \n",
       "isoform1=junction:chr10:101163392-101165512:-|i...                 10.79   \n",
       "isoform1=junction:chr10:101191023-101193302:+|i...                 11.50   \n",
       "\n",
       "                                                         splice_site_3p_seq  \\\n",
       "isoform1=junction:chr10:100189400-100190327:-|i...  CTCTCCCCTGCCCTGCACAGCCT   \n",
       "isoform1=junction:chr10:100190428-100193696:-|i...  TCCCTTCCTGCCCTGGCTAGGCC   \n",
       "isoform1=junction:chr10:100193849-100195391:-|i...  TGGCCTGCCTGTGCCTGCAGTTT   \n",
       "isoform1=junction:chr10:101163392-101165512:-|i...  CTCACTTTGCTTCCCCGCAGCAC   \n",
       "isoform1=junction:chr10:101191023-101193302:+|i...  TTTTTTTACTTTTATTTTAGGTT   \n",
       "\n",
       "                                                    splice_site_5p_score  \\\n",
       "isoform1=junction:chr10:100189400-100190327:-|i...                  6.96   \n",
       "isoform1=junction:chr10:100190428-100193696:-|i...                  7.96   \n",
       "isoform1=junction:chr10:100193849-100195391:-|i...                  6.05   \n",
       "isoform1=junction:chr10:101163392-101165512:-|i...                  8.34   \n",
       "isoform1=junction:chr10:101191023-101193302:+|i...                  7.44   \n",
       "\n",
       "                                                   splice_site_5p_seq  \\\n",
       "isoform1=junction:chr10:100189400-100190327:-|i...          ACGGTGTGT   \n",
       "isoform1=junction:chr10:100190428-100193696:-|i...          TAGGTGAGC   \n",
       "isoform1=junction:chr10:100193849-100195391:-|i...          GGAGTGAGT   \n",
       "isoform1=junction:chr10:101163392-101165512:-|i...          ACAGTGAGT   \n",
       "isoform1=junction:chr10:101191023-101193302:+|i...          CAGGTTTGT   \n",
       "\n",
       "                                                      exon_type  \n",
       "isoform1=junction:chr10:100189400-100190327:-|i...  alternative  \n",
       "isoform1=junction:chr10:100190428-100193696:-|i...  alternative  \n",
       "isoform1=junction:chr10:100193849-100195391:-|i...  alternative  \n",
       "isoform1=junction:chr10:101163392-101165512:-|i...  alternative  \n",
       "isoform1=junction:chr10:101191023-101193302:+|i...  alternative  "
      ]
     },
     "execution_count": 55,
     "metadata": {},
     "output_type": "execute_result"
    }
   ],
   "source": [
    "alt_exons_scores['exon_type'] = 'alternative'\n",
    "constitutive_scores['exon_type'] = 'constitutive'\n",
    "\n",
    "\n",
    "splice_site_scores = pd.concat([alt_exons_scores, constitutive_scores])\n",
    "splice_site_scores.head()"
   ]
  },
  {
   "cell_type": "code",
   "execution_count": 56,
   "metadata": {
    "collapsed": false
   },
   "outputs": [
    {
     "data": {
      "text/html": [
       "<div>\n",
       "<table border=\"1\" class=\"dataframe\">\n",
       "  <thead>\n",
       "    <tr style=\"text-align: right;\">\n",
       "      <th></th>\n",
       "      <th>splice_site_3p_score</th>\n",
       "      <th>splice_site_3p_seq</th>\n",
       "      <th>splice_site_5p_score</th>\n",
       "      <th>splice_site_5p_seq</th>\n",
       "      <th>exon_type</th>\n",
       "    </tr>\n",
       "  </thead>\n",
       "  <tbody>\n",
       "    <tr>\n",
       "      <th>isoform1=junction:chr10:100189400-100190327:-|isoform2=junction:chr10:100189647-100190327:-@exon:chr10:100189548-100189646:-@junction:chr10:100189400-100189547:-</th>\n",
       "      <td>7.77</td>\n",
       "      <td>CTCTCCCCTGCCCTGCACAGCCT</td>\n",
       "      <td>6.96</td>\n",
       "      <td>ACGGTGTGT</td>\n",
       "      <td>alternative</td>\n",
       "    </tr>\n",
       "    <tr>\n",
       "      <th>isoform1=junction:chr10:100190428-100193696:-|isoform2=junction:chr10:100191049-100193696:-@exon:chr10:100190888-100191048:-@junction:chr10:100190428-100190887:-</th>\n",
       "      <td>9.08</td>\n",
       "      <td>TCCCTTCCTGCCCTGGCTAGGCC</td>\n",
       "      <td>7.96</td>\n",
       "      <td>TAGGTGAGC</td>\n",
       "      <td>alternative</td>\n",
       "    </tr>\n",
       "    <tr>\n",
       "      <th>isoform1=junction:chr10:100193849-100195391:-|isoform2=junction:chr10:100195172-100195391:-@exon:chr10:100195029-100195171:-@junction:chr10:100193849-100195028:-</th>\n",
       "      <td>7.92</td>\n",
       "      <td>TGGCCTGCCTGTGCCTGCAGTTT</td>\n",
       "      <td>6.05</td>\n",
       "      <td>GGAGTGAGT</td>\n",
       "      <td>alternative</td>\n",
       "    </tr>\n",
       "    <tr>\n",
       "      <th>isoform1=junction:chr10:101163392-101165512:-|isoform2=junction:chr10:101163632-101165512:-@exon:chr10:101163481-101163631:-@junction:chr10:101163392-101163480:-</th>\n",
       "      <td>10.79</td>\n",
       "      <td>CTCACTTTGCTTCCCCGCAGCAC</td>\n",
       "      <td>8.34</td>\n",
       "      <td>ACAGTGAGT</td>\n",
       "      <td>alternative</td>\n",
       "    </tr>\n",
       "    <tr>\n",
       "      <th>isoform1=junction:chr10:101191023-101193302:+|isoform2=junction:chr10:101191023-101191686:+@novel_exon:chr10:101191687-101191705:+@junction:chr10:101191706-101193302:+</th>\n",
       "      <td>11.50</td>\n",
       "      <td>TTTTTTTACTTTTATTTTAGGTT</td>\n",
       "      <td>7.44</td>\n",
       "      <td>CAGGTTTGT</td>\n",
       "      <td>alternative</td>\n",
       "    </tr>\n",
       "  </tbody>\n",
       "</table>\n",
       "</div>"
      ],
      "text/plain": [
       "                                                    splice_site_3p_score  \\\n",
       "isoform1=junction:chr10:100189400-100190327:-|i...                  7.77   \n",
       "isoform1=junction:chr10:100190428-100193696:-|i...                  9.08   \n",
       "isoform1=junction:chr10:100193849-100195391:-|i...                  7.92   \n",
       "isoform1=junction:chr10:101163392-101165512:-|i...                 10.79   \n",
       "isoform1=junction:chr10:101191023-101193302:+|i...                 11.50   \n",
       "\n",
       "                                                         splice_site_3p_seq  \\\n",
       "isoform1=junction:chr10:100189400-100190327:-|i...  CTCTCCCCTGCCCTGCACAGCCT   \n",
       "isoform1=junction:chr10:100190428-100193696:-|i...  TCCCTTCCTGCCCTGGCTAGGCC   \n",
       "isoform1=junction:chr10:100193849-100195391:-|i...  TGGCCTGCCTGTGCCTGCAGTTT   \n",
       "isoform1=junction:chr10:101163392-101165512:-|i...  CTCACTTTGCTTCCCCGCAGCAC   \n",
       "isoform1=junction:chr10:101191023-101193302:+|i...  TTTTTTTACTTTTATTTTAGGTT   \n",
       "\n",
       "                                                    splice_site_5p_score  \\\n",
       "isoform1=junction:chr10:100189400-100190327:-|i...                  6.96   \n",
       "isoform1=junction:chr10:100190428-100193696:-|i...                  7.96   \n",
       "isoform1=junction:chr10:100193849-100195391:-|i...                  6.05   \n",
       "isoform1=junction:chr10:101163392-101165512:-|i...                  8.34   \n",
       "isoform1=junction:chr10:101191023-101193302:+|i...                  7.44   \n",
       "\n",
       "                                                   splice_site_5p_seq  \\\n",
       "isoform1=junction:chr10:100189400-100190327:-|i...          ACGGTGTGT   \n",
       "isoform1=junction:chr10:100190428-100193696:-|i...          TAGGTGAGC   \n",
       "isoform1=junction:chr10:100193849-100195391:-|i...          GGAGTGAGT   \n",
       "isoform1=junction:chr10:101163392-101165512:-|i...          ACAGTGAGT   \n",
       "isoform1=junction:chr10:101191023-101193302:+|i...          CAGGTTTGT   \n",
       "\n",
       "                                                      exon_type  \n",
       "isoform1=junction:chr10:100189400-100190327:-|i...  alternative  \n",
       "isoform1=junction:chr10:100190428-100193696:-|i...  alternative  \n",
       "isoform1=junction:chr10:100193849-100195391:-|i...  alternative  \n",
       "isoform1=junction:chr10:101163392-101165512:-|i...  alternative  \n",
       "isoform1=junction:chr10:101191023-101193302:+|i...  alternative  "
      ]
     },
     "execution_count": 56,
     "metadata": {},
     "output_type": "execute_result"
    }
   ],
   "source": [
    "splice_site_scores = splice_site_scores.rename(columns={'index': 'event_name'})\n",
    "splice_site_scores.head()"
   ]
  },
  {
   "cell_type": "code",
   "execution_count": 57,
   "metadata": {
    "collapsed": false
   },
   "outputs": [
    {
     "data": {
      "text/html": [
       "<div>\n",
       "<table border=\"1\" class=\"dataframe\">\n",
       "  <thead>\n",
       "    <tr style=\"text-align: right;\">\n",
       "      <th></th>\n",
       "      <th>score</th>\n",
       "      <th>seq</th>\n",
       "      <th>exon_type</th>\n",
       "      <th>splice_site</th>\n",
       "    </tr>\n",
       "  </thead>\n",
       "  <tbody>\n",
       "    <tr>\n",
       "      <th>isoform1=junction:chr10:100189400-100190327:-|isoform2=junction:chr10:100189647-100190327:-@exon:chr10:100189548-100189646:-@junction:chr10:100189400-100189547:-</th>\n",
       "      <td>7.77</td>\n",
       "      <td>CTCTCCCCTGCCCTGCACAGCCT</td>\n",
       "      <td>alternative</td>\n",
       "      <td>3'</td>\n",
       "    </tr>\n",
       "    <tr>\n",
       "      <th>isoform1=junction:chr10:100190428-100193696:-|isoform2=junction:chr10:100191049-100193696:-@exon:chr10:100190888-100191048:-@junction:chr10:100190428-100190887:-</th>\n",
       "      <td>9.08</td>\n",
       "      <td>TCCCTTCCTGCCCTGGCTAGGCC</td>\n",
       "      <td>alternative</td>\n",
       "      <td>3'</td>\n",
       "    </tr>\n",
       "    <tr>\n",
       "      <th>isoform1=junction:chr10:100193849-100195391:-|isoform2=junction:chr10:100195172-100195391:-@exon:chr10:100195029-100195171:-@junction:chr10:100193849-100195028:-</th>\n",
       "      <td>7.92</td>\n",
       "      <td>TGGCCTGCCTGTGCCTGCAGTTT</td>\n",
       "      <td>alternative</td>\n",
       "      <td>3'</td>\n",
       "    </tr>\n",
       "    <tr>\n",
       "      <th>isoform1=junction:chr10:101163392-101165512:-|isoform2=junction:chr10:101163632-101165512:-@exon:chr10:101163481-101163631:-@junction:chr10:101163392-101163480:-</th>\n",
       "      <td>10.79</td>\n",
       "      <td>CTCACTTTGCTTCCCCGCAGCAC</td>\n",
       "      <td>alternative</td>\n",
       "      <td>3'</td>\n",
       "    </tr>\n",
       "    <tr>\n",
       "      <th>isoform1=junction:chr10:101191023-101193302:+|isoform2=junction:chr10:101191023-101191686:+@novel_exon:chr10:101191687-101191705:+@junction:chr10:101191706-101193302:+</th>\n",
       "      <td>11.50</td>\n",
       "      <td>TTTTTTTACTTTTATTTTAGGTT</td>\n",
       "      <td>alternative</td>\n",
       "      <td>3'</td>\n",
       "    </tr>\n",
       "  </tbody>\n",
       "</table>\n",
       "</div>"
      ],
      "text/plain": [
       "                                                    score  \\\n",
       "isoform1=junction:chr10:100189400-100190327:-|i...   7.77   \n",
       "isoform1=junction:chr10:100190428-100193696:-|i...   9.08   \n",
       "isoform1=junction:chr10:100193849-100195391:-|i...   7.92   \n",
       "isoform1=junction:chr10:101163392-101165512:-|i...  10.79   \n",
       "isoform1=junction:chr10:101191023-101193302:+|i...  11.50   \n",
       "\n",
       "                                                                        seq  \\\n",
       "isoform1=junction:chr10:100189400-100190327:-|i...  CTCTCCCCTGCCCTGCACAGCCT   \n",
       "isoform1=junction:chr10:100190428-100193696:-|i...  TCCCTTCCTGCCCTGGCTAGGCC   \n",
       "isoform1=junction:chr10:100193849-100195391:-|i...  TGGCCTGCCTGTGCCTGCAGTTT   \n",
       "isoform1=junction:chr10:101163392-101165512:-|i...  CTCACTTTGCTTCCCCGCAGCAC   \n",
       "isoform1=junction:chr10:101191023-101193302:+|i...  TTTTTTTACTTTTATTTTAGGTT   \n",
       "\n",
       "                                                      exon_type splice_site  \n",
       "isoform1=junction:chr10:100189400-100190327:-|i...  alternative          3'  \n",
       "isoform1=junction:chr10:100190428-100193696:-|i...  alternative          3'  \n",
       "isoform1=junction:chr10:100193849-100195391:-|i...  alternative          3'  \n",
       "isoform1=junction:chr10:101163392-101165512:-|i...  alternative          3'  \n",
       "isoform1=junction:chr10:101191023-101193302:+|i...  alternative          3'  "
      ]
     },
     "execution_count": 57,
     "metadata": {},
     "output_type": "execute_result"
    }
   ],
   "source": [
    "three_prime = splice_site_scores[['splice_site_3p_score', 'splice_site_3p_seq', 'exon_type']]\n",
    "three_prime = three_prime.rename(columns={'splice_site_3p_score': 'score', 'splice_site_3p_seq': 'seq'})\n",
    "three_prime['splice_site'] = \"3'\"\n",
    "three_prime.head()"
   ]
  },
  {
   "cell_type": "code",
   "execution_count": 58,
   "metadata": {
    "collapsed": false
   },
   "outputs": [
    {
     "data": {
      "text/html": [
       "<div>\n",
       "<table border=\"1\" class=\"dataframe\">\n",
       "  <thead>\n",
       "    <tr style=\"text-align: right;\">\n",
       "      <th></th>\n",
       "      <th>score</th>\n",
       "      <th>seq</th>\n",
       "      <th>exon_type</th>\n",
       "      <th>splice_site</th>\n",
       "    </tr>\n",
       "  </thead>\n",
       "  <tbody>\n",
       "    <tr>\n",
       "      <th>isoform1=junction:chr10:100189400-100190327:-|isoform2=junction:chr10:100189647-100190327:-@exon:chr10:100189548-100189646:-@junction:chr10:100189400-100189547:-</th>\n",
       "      <td>6.96</td>\n",
       "      <td>ACGGTGTGT</td>\n",
       "      <td>alternative</td>\n",
       "      <td>5'</td>\n",
       "    </tr>\n",
       "    <tr>\n",
       "      <th>isoform1=junction:chr10:100190428-100193696:-|isoform2=junction:chr10:100191049-100193696:-@exon:chr10:100190888-100191048:-@junction:chr10:100190428-100190887:-</th>\n",
       "      <td>7.96</td>\n",
       "      <td>TAGGTGAGC</td>\n",
       "      <td>alternative</td>\n",
       "      <td>5'</td>\n",
       "    </tr>\n",
       "    <tr>\n",
       "      <th>isoform1=junction:chr10:100193849-100195391:-|isoform2=junction:chr10:100195172-100195391:-@exon:chr10:100195029-100195171:-@junction:chr10:100193849-100195028:-</th>\n",
       "      <td>6.05</td>\n",
       "      <td>GGAGTGAGT</td>\n",
       "      <td>alternative</td>\n",
       "      <td>5'</td>\n",
       "    </tr>\n",
       "    <tr>\n",
       "      <th>isoform1=junction:chr10:101163392-101165512:-|isoform2=junction:chr10:101163632-101165512:-@exon:chr10:101163481-101163631:-@junction:chr10:101163392-101163480:-</th>\n",
       "      <td>8.34</td>\n",
       "      <td>ACAGTGAGT</td>\n",
       "      <td>alternative</td>\n",
       "      <td>5'</td>\n",
       "    </tr>\n",
       "    <tr>\n",
       "      <th>isoform1=junction:chr10:101191023-101193302:+|isoform2=junction:chr10:101191023-101191686:+@novel_exon:chr10:101191687-101191705:+@junction:chr10:101191706-101193302:+</th>\n",
       "      <td>7.44</td>\n",
       "      <td>CAGGTTTGT</td>\n",
       "      <td>alternative</td>\n",
       "      <td>5'</td>\n",
       "    </tr>\n",
       "  </tbody>\n",
       "</table>\n",
       "</div>"
      ],
      "text/plain": [
       "                                                    score        seq  \\\n",
       "isoform1=junction:chr10:100189400-100190327:-|i...   6.96  ACGGTGTGT   \n",
       "isoform1=junction:chr10:100190428-100193696:-|i...   7.96  TAGGTGAGC   \n",
       "isoform1=junction:chr10:100193849-100195391:-|i...   6.05  GGAGTGAGT   \n",
       "isoform1=junction:chr10:101163392-101165512:-|i...   8.34  ACAGTGAGT   \n",
       "isoform1=junction:chr10:101191023-101193302:+|i...   7.44  CAGGTTTGT   \n",
       "\n",
       "                                                      exon_type splice_site  \n",
       "isoform1=junction:chr10:100189400-100190327:-|i...  alternative          5'  \n",
       "isoform1=junction:chr10:100190428-100193696:-|i...  alternative          5'  \n",
       "isoform1=junction:chr10:100193849-100195391:-|i...  alternative          5'  \n",
       "isoform1=junction:chr10:101163392-101165512:-|i...  alternative          5'  \n",
       "isoform1=junction:chr10:101191023-101193302:+|i...  alternative          5'  "
      ]
     },
     "execution_count": 58,
     "metadata": {},
     "output_type": "execute_result"
    }
   ],
   "source": [
    "five_prime = splice_site_scores[['splice_site_5p_score', 'splice_site_5p_seq', 'exon_type']]\n",
    "five_prime = five_prime.rename(columns={'splice_site_5p_score': 'score', 'splice_site_5p_seq': 'seq'})\n",
    "five_prime['splice_site'] = \"5'\"\n",
    "five_prime.head()"
   ]
  },
  {
   "cell_type": "code",
   "execution_count": 59,
   "metadata": {
    "collapsed": false
   },
   "outputs": [
    {
     "data": {
      "text/html": [
       "<div>\n",
       "<table border=\"1\" class=\"dataframe\">\n",
       "  <thead>\n",
       "    <tr style=\"text-align: right;\">\n",
       "      <th></th>\n",
       "      <th>index</th>\n",
       "      <th>score</th>\n",
       "      <th>seq</th>\n",
       "      <th>exon_type</th>\n",
       "      <th>splice_site</th>\n",
       "    </tr>\n",
       "  </thead>\n",
       "  <tbody>\n",
       "    <tr>\n",
       "      <th>0</th>\n",
       "      <td>isoform1=junction:chr10:100189400-100190327:-|...</td>\n",
       "      <td>6.96</td>\n",
       "      <td>ACGGTGTGT</td>\n",
       "      <td>alternative</td>\n",
       "      <td>5'</td>\n",
       "    </tr>\n",
       "    <tr>\n",
       "      <th>1</th>\n",
       "      <td>isoform1=junction:chr10:100190428-100193696:-|...</td>\n",
       "      <td>7.96</td>\n",
       "      <td>TAGGTGAGC</td>\n",
       "      <td>alternative</td>\n",
       "      <td>5'</td>\n",
       "    </tr>\n",
       "    <tr>\n",
       "      <th>2</th>\n",
       "      <td>isoform1=junction:chr10:100193849-100195391:-|...</td>\n",
       "      <td>6.05</td>\n",
       "      <td>GGAGTGAGT</td>\n",
       "      <td>alternative</td>\n",
       "      <td>5'</td>\n",
       "    </tr>\n",
       "    <tr>\n",
       "      <th>3</th>\n",
       "      <td>isoform1=junction:chr10:101163392-101165512:-|...</td>\n",
       "      <td>8.34</td>\n",
       "      <td>ACAGTGAGT</td>\n",
       "      <td>alternative</td>\n",
       "      <td>5'</td>\n",
       "    </tr>\n",
       "    <tr>\n",
       "      <th>4</th>\n",
       "      <td>isoform1=junction:chr10:101191023-101193302:+|...</td>\n",
       "      <td>7.44</td>\n",
       "      <td>CAGGTTTGT</td>\n",
       "      <td>alternative</td>\n",
       "      <td>5'</td>\n",
       "    </tr>\n",
       "  </tbody>\n",
       "</table>\n",
       "</div>"
      ],
      "text/plain": [
       "                                               index  score        seq  \\\n",
       "0  isoform1=junction:chr10:100189400-100190327:-|...   6.96  ACGGTGTGT   \n",
       "1  isoform1=junction:chr10:100190428-100193696:-|...   7.96  TAGGTGAGC   \n",
       "2  isoform1=junction:chr10:100193849-100195391:-|...   6.05  GGAGTGAGT   \n",
       "3  isoform1=junction:chr10:101163392-101165512:-|...   8.34  ACAGTGAGT   \n",
       "4  isoform1=junction:chr10:101191023-101193302:+|...   7.44  CAGGTTTGT   \n",
       "\n",
       "     exon_type splice_site  \n",
       "0  alternative          5'  \n",
       "1  alternative          5'  \n",
       "2  alternative          5'  \n",
       "3  alternative          5'  \n",
       "4  alternative          5'  "
      ]
     },
     "execution_count": 59,
     "metadata": {},
     "output_type": "execute_result"
    }
   ],
   "source": [
    "splice_site_scores_tidy = pd.concat([five_prime.reset_index(), three_prime.reset_index()], ignore_index=True)\n",
    "splice_site_scores_tidy.head()"
   ]
  },
  {
   "cell_type": "code",
   "execution_count": 60,
   "metadata": {
    "collapsed": false
   },
   "outputs": [
    {
     "data": {
      "text/html": [
       "<div>\n",
       "<table border=\"1\" class=\"dataframe\">\n",
       "  <thead>\n",
       "    <tr style=\"text-align: right;\">\n",
       "      <th></th>\n",
       "      <th>splice_site_3p_score</th>\n",
       "      <th>splice_site_3p_seq</th>\n",
       "      <th>splice_site_5p_score</th>\n",
       "      <th>splice_site_5p_seq</th>\n",
       "      <th>exon_type</th>\n",
       "    </tr>\n",
       "  </thead>\n",
       "  <tbody>\n",
       "    <tr>\n",
       "      <th>isoform1=junction:chr10:100189400-100190327:-|isoform2=junction:chr10:100189647-100190327:-@exon:chr10:100189548-100189646:-@junction:chr10:100189400-100189547:-</th>\n",
       "      <td>7.77</td>\n",
       "      <td>CTCTCCCCTGCCCTGCACAGCCT</td>\n",
       "      <td>6.96</td>\n",
       "      <td>ACGGTGTGT</td>\n",
       "      <td>alternative</td>\n",
       "    </tr>\n",
       "    <tr>\n",
       "      <th>isoform1=junction:chr10:100190428-100193696:-|isoform2=junction:chr10:100191049-100193696:-@exon:chr10:100190888-100191048:-@junction:chr10:100190428-100190887:-</th>\n",
       "      <td>9.08</td>\n",
       "      <td>TCCCTTCCTGCCCTGGCTAGGCC</td>\n",
       "      <td>7.96</td>\n",
       "      <td>TAGGTGAGC</td>\n",
       "      <td>alternative</td>\n",
       "    </tr>\n",
       "    <tr>\n",
       "      <th>isoform1=junction:chr10:100193849-100195391:-|isoform2=junction:chr10:100195172-100195391:-@exon:chr10:100195029-100195171:-@junction:chr10:100193849-100195028:-</th>\n",
       "      <td>7.92</td>\n",
       "      <td>TGGCCTGCCTGTGCCTGCAGTTT</td>\n",
       "      <td>6.05</td>\n",
       "      <td>GGAGTGAGT</td>\n",
       "      <td>alternative</td>\n",
       "    </tr>\n",
       "    <tr>\n",
       "      <th>isoform1=junction:chr10:101163392-101165512:-|isoform2=junction:chr10:101163632-101165512:-@exon:chr10:101163481-101163631:-@junction:chr10:101163392-101163480:-</th>\n",
       "      <td>10.79</td>\n",
       "      <td>CTCACTTTGCTTCCCCGCAGCAC</td>\n",
       "      <td>8.34</td>\n",
       "      <td>ACAGTGAGT</td>\n",
       "      <td>alternative</td>\n",
       "    </tr>\n",
       "    <tr>\n",
       "      <th>isoform1=junction:chr10:101191023-101193302:+|isoform2=junction:chr10:101191023-101191686:+@novel_exon:chr10:101191687-101191705:+@junction:chr10:101191706-101193302:+</th>\n",
       "      <td>11.50</td>\n",
       "      <td>TTTTTTTACTTTTATTTTAGGTT</td>\n",
       "      <td>7.44</td>\n",
       "      <td>CAGGTTTGT</td>\n",
       "      <td>alternative</td>\n",
       "    </tr>\n",
       "    <tr>\n",
       "      <th>isoform1=junction:chr10:101419346-101421202:+|isoform2=junction:chr10:101419346-101419618:+@exon:chr10:101419619-101419721:+@junction:chr10:101419722-101421202:+</th>\n",
       "      <td>5.04</td>\n",
       "      <td>CTGAAATCAAATCTTTCTAGGCT</td>\n",
       "      <td>9.31</td>\n",
       "      <td>TAGGTAAGG</td>\n",
       "      <td>alternative</td>\n",
       "    </tr>\n",
       "    <tr>\n",
       "      <th>isoform1=junction:chr10:101421386-101439481:+|isoform2=junction:chr10:101421386-101439017:+@exon:chr10:101439018-101439223:+@junction:chr10:101439224-101439481:+</th>\n",
       "      <td>8.79</td>\n",
       "      <td>TCTCTTTTTGCCTGACTTAGGTA</td>\n",
       "      <td>7.64</td>\n",
       "      <td>CAGGTACTA</td>\n",
       "      <td>alternative</td>\n",
       "    </tr>\n",
       "    <tr>\n",
       "      <th>isoform1=junction:chr10:101476219-101480743:-|isoform2=junction:chr10:101478258-101480743:-@exon:chr10:101478103-101478257:-@junction:chr10:101476219-101478102:-</th>\n",
       "      <td>2.71</td>\n",
       "      <td>CCATTTACCTTGGAATACAGGGG</td>\n",
       "      <td>10.65</td>\n",
       "      <td>CTGGTAAGT</td>\n",
       "      <td>alternative</td>\n",
       "    </tr>\n",
       "    <tr>\n",
       "      <th>isoform1=junction:chr10:101507148-101514285:+|isoform2=junction:chr10:101507148-101510125:+@exon:chr10:101510126-101510153:+@junction:chr10:101510154-101514285:+</th>\n",
       "      <td>12.11</td>\n",
       "      <td>TTTTTTTTTTCTTTTTTCAGGCA</td>\n",
       "      <td>7.51</td>\n",
       "      <td>CAGGTATTT</td>\n",
       "      <td>alternative</td>\n",
       "    </tr>\n",
       "    <tr>\n",
       "      <th>isoform1=junction:chr10:101507148-101515381:+|isoform2=junction:chr10:101507148-101514285:+@exon:chr10:101514286-101514391:+@junction:chr10:101514392-101515381:+</th>\n",
       "      <td>8.25</td>\n",
       "      <td>TTACTTATTCTTTGCAACAGGAG</td>\n",
       "      <td>5.48</td>\n",
       "      <td>TCGGTAAAA</td>\n",
       "      <td>alternative</td>\n",
       "    </tr>\n",
       "    <tr>\n",
       "      <th>isoform1=junction:chr10:101507148-101515381:+|isoform2=junction:chr10:101507148-101514285:+@novel_exon:chr10:101514286-101514333:+@junction:chr10:101514334-101515381:+</th>\n",
       "      <td>8.25</td>\n",
       "      <td>TTACTTATTCTTTGCAACAGGAG</td>\n",
       "      <td>2.93</td>\n",
       "      <td>CAGGTGCTA</td>\n",
       "      <td>alternative</td>\n",
       "    </tr>\n",
       "    <tr>\n",
       "      <th>isoform1=junction:chr10:101510154-101514285:+|isoform2=junction:chr10:101510154-101513352:+@novel_exon:chr10:101513353-101513445:+@junction:chr10:101513446-101514285:+</th>\n",
       "      <td>7.83</td>\n",
       "      <td>ATTTTTGTATGTTTTTGTAGAGA</td>\n",
       "      <td>6.71</td>\n",
       "      <td>CAGGTGGGA</td>\n",
       "      <td>alternative</td>\n",
       "    </tr>\n",
       "    <tr>\n",
       "      <th>isoform1=junction:chr10:101640119-101643767:-|isoform2=junction:chr10:101640958-101643767:-@novel_exon:chr10:101640860-101640957:-@junction:chr10:101640119-101640859:-</th>\n",
       "      <td>6.87</td>\n",
       "      <td>GTTTCGTTCTTGTTGCCCAGGTT</td>\n",
       "      <td>9.10</td>\n",
       "      <td>CAGGTGCGC</td>\n",
       "      <td>alternative</td>\n",
       "    </tr>\n",
       "    <tr>\n",
       "      <th>isoform1=junction:chr10:101731892-101769594:-|isoform2=junction:chr10:101762781-101769594:-@novel_exon:chr10:101762699-101762780:-@junction:chr10:101731892-101762698:-</th>\n",
       "      <td>11.73</td>\n",
       "      <td>TCATTTTTCTTTCCTTACAGCAT</td>\n",
       "      <td>7.36</td>\n",
       "      <td>AGAGTGAGT</td>\n",
       "      <td>alternative</td>\n",
       "    </tr>\n",
       "    <tr>\n",
       "      <th>isoform1=junction:chr10:101960538-101964262:-|isoform2=junction:chr10:101961907-101964262:-@exon:chr10:101961845-101961906:-@junction:chr10:101960538-101961844:-</th>\n",
       "      <td>4.34</td>\n",
       "      <td>AATTTAGACTTTTCTTTTAGCTT</td>\n",
       "      <td>7.30</td>\n",
       "      <td>GAGGTAAAA</td>\n",
       "      <td>alternative</td>\n",
       "    </tr>\n",
       "    <tr>\n",
       "      <th>isoform1=junction:chr10:101964957-101969351:-|isoform2=junction:chr10:101967090-101969351:-@exon:chr10:101966987-101967089:-@junction:chr10:101964957-101966986:-</th>\n",
       "      <td>11.49</td>\n",
       "      <td>ACTGTTTGTTTCTTTTTCAGAGA</td>\n",
       "      <td>10.47</td>\n",
       "      <td>TTGGTAAGT</td>\n",
       "      <td>alternative</td>\n",
       "    </tr>\n",
       "    <tr>\n",
       "      <th>isoform1=junction:chr10:101964957-101977751:-|isoform2=junction:chr10:101969547-101977751:-@exon:chr10:101969352-101969546:-@junction:chr10:101964957-101969351:-</th>\n",
       "      <td>9.32</td>\n",
       "      <td>TTTTTTTCTTATTTATACAGATA</td>\n",
       "      <td>3.54</td>\n",
       "      <td>GTTGTAAGA</td>\n",
       "      <td>alternative</td>\n",
       "    </tr>\n",
       "    <tr>\n",
       "      <th>isoform1=junction:chr10:101995522-101997778:-|isoform2=junction:chr10:101996727-101997778:-@exon:chr10:101996607-101996726:-@junction:chr10:101995522-101996606:-</th>\n",
       "      <td>10.60</td>\n",
       "      <td>CCTGTCTCCCCAACCCCCAGGTC</td>\n",
       "      <td>5.07</td>\n",
       "      <td>CAGGTGAAA</td>\n",
       "      <td>alternative</td>\n",
       "    </tr>\n",
       "    <tr>\n",
       "      <th>isoform1=junction:chr10:101996727-102003454:-|isoform2=junction:chr10:101997989-102003454:-@exon:chr10:101997779-101997988:-@junction:chr10:101996727-101997778:-</th>\n",
       "      <td>7.84</td>\n",
       "      <td>TCTGTGTGCTGCTTCTTCAGTGC</td>\n",
       "      <td>10.28</td>\n",
       "      <td>CAGGTAGGT</td>\n",
       "      <td>alternative</td>\n",
       "    </tr>\n",
       "    <tr>\n",
       "      <th>isoform1=junction:chr10:102006693-102013177:-|isoform2=junction:chr10:102010071-102013177:-@novel_exon:chr10:102010005-102010070:-@junction:chr10:102006693-102010004:-</th>\n",
       "      <td>6.01</td>\n",
       "      <td>GAAACCATATCATTCTACAGGAA</td>\n",
       "      <td>9.06</td>\n",
       "      <td>AAGGTAAAG</td>\n",
       "      <td>alternative</td>\n",
       "    </tr>\n",
       "    <tr>\n",
       "      <th>isoform1=junction:chr10:102006693-102013177:-|isoform2=junction:chr10:102010090-102013177:-@exon:chr10:102010005-102010089:-@junction:chr10:102006693-102010004:-</th>\n",
       "      <td>6.56</td>\n",
       "      <td>GTCTCTCAAATATGTTGTAGAAA</td>\n",
       "      <td>9.06</td>\n",
       "      <td>AAGGTAAAG</td>\n",
       "      <td>alternative</td>\n",
       "    </tr>\n",
       "    <tr>\n",
       "      <th>isoform1=junction:chr10:102010090-102013177:-|isoform2=junction:chr10:102010678-102013177:-@novel_exon:chr10:102010580-102010677:-@junction:chr10:102010090-102010579:-</th>\n",
       "      <td>8.73</td>\n",
       "      <td>GATCTCATTCTGTCTTCCAGGCT</td>\n",
       "      <td>7.53</td>\n",
       "      <td>TAGGTATGC</td>\n",
       "      <td>alternative</td>\n",
       "    </tr>\n",
       "    <tr>\n",
       "      <th>isoform1=junction:chr10:102013297-102019974:-|isoform2=junction:chr10:102016234-102019974:-@exon:chr10:102016019-102016233:-@junction:chr10:102013297-102016018:-</th>\n",
       "      <td>7.57</td>\n",
       "      <td>TCATTTTTCTTTGAACCCAGGTC</td>\n",
       "      <td>7.00</td>\n",
       "      <td>TCTGTGAGT</td>\n",
       "      <td>alternative</td>\n",
       "    </tr>\n",
       "    <tr>\n",
       "      <th>isoform1=junction:chr10:102013297-102020722:-|isoform2=junction:chr10:102016234-102020722:-@exon:chr10:102016019-102016233:-@junction:chr10:102013297-102016018:-</th>\n",
       "      <td>7.57</td>\n",
       "      <td>TCATTTTTCTTTGAACCCAGGTC</td>\n",
       "      <td>7.00</td>\n",
       "      <td>TCTGTGAGT</td>\n",
       "      <td>alternative</td>\n",
       "    </tr>\n",
       "    <tr>\n",
       "      <th>isoform1=junction:chr10:102013297-102027327:-|isoform2=junction:chr10:102016234-102027327:-@exon:chr10:102016019-102016233:-@junction:chr10:102013297-102016018:-</th>\n",
       "      <td>7.57</td>\n",
       "      <td>TCATTTTTCTTTGAACCCAGGTC</td>\n",
       "      <td>7.00</td>\n",
       "      <td>TCTGTGAGT</td>\n",
       "      <td>alternative</td>\n",
       "    </tr>\n",
       "    <tr>\n",
       "      <th>isoform1=junction:chr10:102016234-102020722:-|isoform2=junction:chr10:102020077-102020722:-@exon:chr10:102019975-102020076:-@junction:chr10:102016234-102019974:-</th>\n",
       "      <td>8.47</td>\n",
       "      <td>ATGTCTGTTTCCCTCACTAGCTC</td>\n",
       "      <td>8.84</td>\n",
       "      <td>TGGGTAAGC</td>\n",
       "      <td>alternative</td>\n",
       "    </tr>\n",
       "    <tr>\n",
       "      <th>isoform1=junction:chr10:102016234-102021735:-|isoform2=junction:chr10:102020786-102021735:-@exon:chr10:102020723-102020785:-@junction:chr10:102016234-102020722:-</th>\n",
       "      <td>7.14</td>\n",
       "      <td>TTAGCTGCTGTTGTGTGTAGGAA</td>\n",
       "      <td>7.98</td>\n",
       "      <td>AAGGTATAG</td>\n",
       "      <td>alternative</td>\n",
       "    </tr>\n",
       "    <tr>\n",
       "      <th>isoform1=junction:chr10:102016234-102027327:-|isoform2=junction:chr10:102021821-102027327:-@exon:chr10:102021736-102021820:-@junction:chr10:102016234-102021735:-</th>\n",
       "      <td>9.15</td>\n",
       "      <td>GTTTATCTCTTTGTTTGCAGCTT</td>\n",
       "      <td>5.46</td>\n",
       "      <td>GATGTAAGA</td>\n",
       "      <td>alternative</td>\n",
       "    </tr>\n",
       "    <tr>\n",
       "      <th>isoform1=junction:chr10:102114390-102120490:+|isoform2=junction:chr10:102114390-102116288:+@exon:chr10:102116289-102116521:+@junction:chr10:102116522-102120490:+</th>\n",
       "      <td>7.55</td>\n",
       "      <td>TGTCTGGTCTGTCAATGTAGGTA</td>\n",
       "      <td>10.24</td>\n",
       "      <td>TGGGTAAGT</td>\n",
       "      <td>alternative</td>\n",
       "    </tr>\n",
       "    <tr>\n",
       "      <th>isoform1=junction:chr10:102256189-102257423:-|isoform2=junction:chr10:102257038-102257423:-@exon:chr10:102256892-102257037:-@junction:chr10:102256189-102256891:-</th>\n",
       "      <td>9.71</td>\n",
       "      <td>AAATTACCCTCTCTCTGCAGACA</td>\n",
       "      <td>8.63</td>\n",
       "      <td>CAGGTACCC</td>\n",
       "      <td>alternative</td>\n",
       "    </tr>\n",
       "    <tr>\n",
       "      <th>...</th>\n",
       "      <td>...</td>\n",
       "      <td>...</td>\n",
       "      <td>...</td>\n",
       "      <td>...</td>\n",
       "      <td>...</td>\n",
       "    </tr>\n",
       "    <tr>\n",
       "      <th>novel_exon:chrX:53561075-53561158:-</th>\n",
       "      <td>10.20</td>\n",
       "      <td>TCATGGGTCCCTTCCTACAGATC</td>\n",
       "      <td>9.16</td>\n",
       "      <td>AAGGTACCC</td>\n",
       "      <td>constitutive</td>\n",
       "    </tr>\n",
       "    <tr>\n",
       "      <th>novel_exon:chrX:53564517-53564532:-</th>\n",
       "      <td>-0.72</td>\n",
       "      <td>GCATCGCAAATCCCCCGAAGAAA</td>\n",
       "      <td>4.89</td>\n",
       "      <td>ATTGTAAGG</td>\n",
       "      <td>constitutive</td>\n",
       "    </tr>\n",
       "    <tr>\n",
       "      <th>novel_exon:chrX:54467123-54467172:+</th>\n",
       "      <td>7.02</td>\n",
       "      <td>GCTTGGACCTGTGTTTACAGATC</td>\n",
       "      <td>-4.18</td>\n",
       "      <td>CAAGTGGCT</td>\n",
       "      <td>constitutive</td>\n",
       "    </tr>\n",
       "    <tr>\n",
       "      <th>novel_exon:chrX:54467123-54467188:+</th>\n",
       "      <td>7.02</td>\n",
       "      <td>GCTTGGACCTGTGTTTACAGATC</td>\n",
       "      <td>-15.32</td>\n",
       "      <td>GCAGTGGAG</td>\n",
       "      <td>constitutive</td>\n",
       "    </tr>\n",
       "    <tr>\n",
       "      <th>novel_exon:chrX:54469833-54469852:+</th>\n",
       "      <td>8.00</td>\n",
       "      <td>CCCTGTCCTTTTCTACTTAGCTG</td>\n",
       "      <td>-1.38</td>\n",
       "      <td>GAGGTGGAA</td>\n",
       "      <td>constitutive</td>\n",
       "    </tr>\n",
       "    <tr>\n",
       "      <th>novel_exon:chrX:54470582-54470617:+</th>\n",
       "      <td>-22.47</td>\n",
       "      <td>CAGCTAGAGAGACTGATGAGGAT</td>\n",
       "      <td>4.41</td>\n",
       "      <td>GAGGTGAAG</td>\n",
       "      <td>constitutive</td>\n",
       "    </tr>\n",
       "    <tr>\n",
       "      <th>novel_exon:chrX:54835736-54835751:+</th>\n",
       "      <td>8.23</td>\n",
       "      <td>CCAGGCCTTCTCCCCTTCAGGCT</td>\n",
       "      <td>-5.31</td>\n",
       "      <td>CAGGCCAAA</td>\n",
       "      <td>constitutive</td>\n",
       "    </tr>\n",
       "    <tr>\n",
       "      <th>novel_exon:chrX:54836155-54836198:+</th>\n",
       "      <td>12.62</td>\n",
       "      <td>TTCCCTGCTTCCTCTTGCAGGCT</td>\n",
       "      <td>-27.47</td>\n",
       "      <td>TCTGTTGAC</td>\n",
       "      <td>constitutive</td>\n",
       "    </tr>\n",
       "    <tr>\n",
       "      <th>novel_exon:chrX:54842073-54842123:+</th>\n",
       "      <td>-5.18</td>\n",
       "      <td>CTTGGTGGAGCTGGTGCCAGCAC</td>\n",
       "      <td>4.28</td>\n",
       "      <td>TAGGTATCT</td>\n",
       "      <td>constitutive</td>\n",
       "    </tr>\n",
       "    <tr>\n",
       "      <th>novel_exon:chrX:69366665-69366678:+</th>\n",
       "      <td>-30.12</td>\n",
       "      <td>AAAGATCCTGAGAGAAAGAGACT</td>\n",
       "      <td>9.85</td>\n",
       "      <td>GAGGTAAGC</td>\n",
       "      <td>constitutive</td>\n",
       "    </tr>\n",
       "    <tr>\n",
       "      <th>novel_exon:chrX:69368611-69368694:+</th>\n",
       "      <td>7.31</td>\n",
       "      <td>ATAATTAATTTCCTTCTTAGGCA</td>\n",
       "      <td>3.02</td>\n",
       "      <td>TAGGTAGTA</td>\n",
       "      <td>constitutive</td>\n",
       "    </tr>\n",
       "    <tr>\n",
       "      <th>novel_exon:chrX:69370060-69370099:+</th>\n",
       "      <td>3.51</td>\n",
       "      <td>ATGCAGCGTAATTTTTGCAGAGT</td>\n",
       "      <td>11.45</td>\n",
       "      <td>ACGGTGAGT</td>\n",
       "      <td>constitutive</td>\n",
       "    </tr>\n",
       "    <tr>\n",
       "      <th>novel_exon:chrX:71401614-71401678:+</th>\n",
       "      <td>-6.50</td>\n",
       "      <td>CGGCAACTGGAGCGGTTCAGCGT</td>\n",
       "      <td>6.38</td>\n",
       "      <td>AAGGTAGAG</td>\n",
       "      <td>constitutive</td>\n",
       "    </tr>\n",
       "    <tr>\n",
       "      <th>novel_exon:chrX:71496007-71496066:-</th>\n",
       "      <td>-4.11</td>\n",
       "      <td>AGGCTCGTGGTCCCAAGAAGCAT</td>\n",
       "      <td>7.40</td>\n",
       "      <td>TTTGTAAGT</td>\n",
       "      <td>constitutive</td>\n",
       "    </tr>\n",
       "    <tr>\n",
       "      <th>novel_exon:chrX:76890099-76890194:-</th>\n",
       "      <td>4.72</td>\n",
       "      <td>AATGAAGCTGTTATTTTTAGGTG</td>\n",
       "      <td>8.85</td>\n",
       "      <td>TTGGTAAGA</td>\n",
       "      <td>constitutive</td>\n",
       "    </tr>\n",
       "    <tr>\n",
       "      <th>novel_exon:chrX:76912050-76912136:-</th>\n",
       "      <td>-6.10</td>\n",
       "      <td>TTTAAAATTCAAGTGAGCAGTGA</td>\n",
       "      <td>7.04</td>\n",
       "      <td>AAGGTATTA</td>\n",
       "      <td>constitutive</td>\n",
       "    </tr>\n",
       "    <tr>\n",
       "      <th>novel_exon:chrX:76952172-76952192:-</th>\n",
       "      <td>7.50</td>\n",
       "      <td>TGAACTTAATTCTTTCATAGGAA</td>\n",
       "      <td>6.93</td>\n",
       "      <td>AAAGTATGT</td>\n",
       "      <td>constitutive</td>\n",
       "    </tr>\n",
       "    <tr>\n",
       "      <th>novel_exon:chrX:77378332-77378399:+</th>\n",
       "      <td>9.97</td>\n",
       "      <td>ATTCTTGCTTTCTCTTGTAGAGC</td>\n",
       "      <td>-7.31</td>\n",
       "      <td>TTGGTGGTG</td>\n",
       "      <td>constitutive</td>\n",
       "    </tr>\n",
       "    <tr>\n",
       "      <th>novel_exon:chrX:80373961-80373984:-</th>\n",
       "      <td>1.09</td>\n",
       "      <td>TTTCCCACAACTTGAAGCAGATG</td>\n",
       "      <td>4.41</td>\n",
       "      <td>GAGGTGAAG</td>\n",
       "      <td>constitutive</td>\n",
       "    </tr>\n",
       "    <tr>\n",
       "      <th>novel_exon:chrX:99888994-99889026:-</th>\n",
       "      <td>9.32</td>\n",
       "      <td>ATTGTGTTTCTTTGCTATAGATT</td>\n",
       "      <td>-6.20</td>\n",
       "      <td>AAGGCTTTG</td>\n",
       "      <td>constitutive</td>\n",
       "    </tr>\n",
       "    <tr>\n",
       "      <th>novel_exon:chrX:99890175-99890194:-</th>\n",
       "      <td>5.27</td>\n",
       "      <td>ACTGGTCGCTGCCATCGTAGGAT</td>\n",
       "      <td>9.85</td>\n",
       "      <td>GAGGTAAGC</td>\n",
       "      <td>constitutive</td>\n",
       "    </tr>\n",
       "    <tr>\n",
       "      <th>novel_exon:chrY:15021274-15021318:+</th>\n",
       "      <td>3.72</td>\n",
       "      <td>TACATTTTCTCTTTTAGAAGGGC</td>\n",
       "      <td>10.75</td>\n",
       "      <td>AAGGTACGT</td>\n",
       "      <td>constitutive</td>\n",
       "    </tr>\n",
       "    <tr>\n",
       "      <th>novel_exon:chrY:15023751-15023774:+</th>\n",
       "      <td>7.76</td>\n",
       "      <td>TTTTTGCTTTTTTATTGAAGGAT</td>\n",
       "      <td>5.59</td>\n",
       "      <td>CAGGTTGGA</td>\n",
       "      <td>constitutive</td>\n",
       "    </tr>\n",
       "    <tr>\n",
       "      <th>novel_exon:chrY:15024877-15024974:+</th>\n",
       "      <td>-3.78</td>\n",
       "      <td>ATAATTGTTTGATTTCAGAGAAC</td>\n",
       "      <td>8.62</td>\n",
       "      <td>AATGTAAGT</td>\n",
       "      <td>constitutive</td>\n",
       "    </tr>\n",
       "    <tr>\n",
       "      <th>novel_exon:chrY:15027610-15027686:+</th>\n",
       "      <td>-0.59</td>\n",
       "      <td>ACCTCAGATACGTCGTATAGTTG</td>\n",
       "      <td>9.04</td>\n",
       "      <td>CAGGTACTG</td>\n",
       "      <td>constitutive</td>\n",
       "    </tr>\n",
       "    <tr>\n",
       "      <th>novel_exon:chrY:15027841-15027939:+</th>\n",
       "      <td>6.85</td>\n",
       "      <td>ATATATCTTTTTGGCTGTAGGCA</td>\n",
       "      <td>8.76</td>\n",
       "      <td>CAGGTAAAT</td>\n",
       "      <td>constitutive</td>\n",
       "    </tr>\n",
       "    <tr>\n",
       "      <th>novel_exon:chrY:15027883-15027939:+</th>\n",
       "      <td>-11.38</td>\n",
       "      <td>GAACATCACACAGAAAGTAGTTT</td>\n",
       "      <td>8.76</td>\n",
       "      <td>CAGGTAAAT</td>\n",
       "      <td>constitutive</td>\n",
       "    </tr>\n",
       "    <tr>\n",
       "      <th>novel_exon:chrY:15028429-15028458:+</th>\n",
       "      <td>3.14</td>\n",
       "      <td>AAAAGAAGTTAATTTTTCAGGTG</td>\n",
       "      <td>3.37</td>\n",
       "      <td>AATGTGAGA</td>\n",
       "      <td>constitutive</td>\n",
       "    </tr>\n",
       "    <tr>\n",
       "      <th>novel_exon:chrY:22744476-22744486:+</th>\n",
       "      <td>11.20</td>\n",
       "      <td>TTTTTATCTCCTCTCCTCAGAGT</td>\n",
       "      <td>6.99</td>\n",
       "      <td>CAGGTAATC</td>\n",
       "      <td>constitutive</td>\n",
       "    </tr>\n",
       "    <tr>\n",
       "      <th>novel_exon:chrY:22749937-22749991:+</th>\n",
       "      <td>0.33</td>\n",
       "      <td>AAGCTGATGTAATTTTAAAGTAC</td>\n",
       "      <td>9.48</td>\n",
       "      <td>ATGGTAAGA</td>\n",
       "      <td>constitutive</td>\n",
       "    </tr>\n",
       "  </tbody>\n",
       "</table>\n",
       "<p>52519 rows × 5 columns</p>\n",
       "</div>"
      ],
      "text/plain": [
       "                                                    splice_site_3p_score  \\\n",
       "isoform1=junction:chr10:100189400-100190327:-|i...                  7.77   \n",
       "isoform1=junction:chr10:100190428-100193696:-|i...                  9.08   \n",
       "isoform1=junction:chr10:100193849-100195391:-|i...                  7.92   \n",
       "isoform1=junction:chr10:101163392-101165512:-|i...                 10.79   \n",
       "isoform1=junction:chr10:101191023-101193302:+|i...                 11.50   \n",
       "isoform1=junction:chr10:101419346-101421202:+|i...                  5.04   \n",
       "isoform1=junction:chr10:101421386-101439481:+|i...                  8.79   \n",
       "isoform1=junction:chr10:101476219-101480743:-|i...                  2.71   \n",
       "isoform1=junction:chr10:101507148-101514285:+|i...                 12.11   \n",
       "isoform1=junction:chr10:101507148-101515381:+|i...                  8.25   \n",
       "isoform1=junction:chr10:101507148-101515381:+|i...                  8.25   \n",
       "isoform1=junction:chr10:101510154-101514285:+|i...                  7.83   \n",
       "isoform1=junction:chr10:101640119-101643767:-|i...                  6.87   \n",
       "isoform1=junction:chr10:101731892-101769594:-|i...                 11.73   \n",
       "isoform1=junction:chr10:101960538-101964262:-|i...                  4.34   \n",
       "isoform1=junction:chr10:101964957-101969351:-|i...                 11.49   \n",
       "isoform1=junction:chr10:101964957-101977751:-|i...                  9.32   \n",
       "isoform1=junction:chr10:101995522-101997778:-|i...                 10.60   \n",
       "isoform1=junction:chr10:101996727-102003454:-|i...                  7.84   \n",
       "isoform1=junction:chr10:102006693-102013177:-|i...                  6.01   \n",
       "isoform1=junction:chr10:102006693-102013177:-|i...                  6.56   \n",
       "isoform1=junction:chr10:102010090-102013177:-|i...                  8.73   \n",
       "isoform1=junction:chr10:102013297-102019974:-|i...                  7.57   \n",
       "isoform1=junction:chr10:102013297-102020722:-|i...                  7.57   \n",
       "isoform1=junction:chr10:102013297-102027327:-|i...                  7.57   \n",
       "isoform1=junction:chr10:102016234-102020722:-|i...                  8.47   \n",
       "isoform1=junction:chr10:102016234-102021735:-|i...                  7.14   \n",
       "isoform1=junction:chr10:102016234-102027327:-|i...                  9.15   \n",
       "isoform1=junction:chr10:102114390-102120490:+|i...                  7.55   \n",
       "isoform1=junction:chr10:102256189-102257423:-|i...                  9.71   \n",
       "...                                                                  ...   \n",
       "novel_exon:chrX:53561075-53561158:-                                10.20   \n",
       "novel_exon:chrX:53564517-53564532:-                                -0.72   \n",
       "novel_exon:chrX:54467123-54467172:+                                 7.02   \n",
       "novel_exon:chrX:54467123-54467188:+                                 7.02   \n",
       "novel_exon:chrX:54469833-54469852:+                                 8.00   \n",
       "novel_exon:chrX:54470582-54470617:+                               -22.47   \n",
       "novel_exon:chrX:54835736-54835751:+                                 8.23   \n",
       "novel_exon:chrX:54836155-54836198:+                                12.62   \n",
       "novel_exon:chrX:54842073-54842123:+                                -5.18   \n",
       "novel_exon:chrX:69366665-69366678:+                               -30.12   \n",
       "novel_exon:chrX:69368611-69368694:+                                 7.31   \n",
       "novel_exon:chrX:69370060-69370099:+                                 3.51   \n",
       "novel_exon:chrX:71401614-71401678:+                                -6.50   \n",
       "novel_exon:chrX:71496007-71496066:-                                -4.11   \n",
       "novel_exon:chrX:76890099-76890194:-                                 4.72   \n",
       "novel_exon:chrX:76912050-76912136:-                                -6.10   \n",
       "novel_exon:chrX:76952172-76952192:-                                 7.50   \n",
       "novel_exon:chrX:77378332-77378399:+                                 9.97   \n",
       "novel_exon:chrX:80373961-80373984:-                                 1.09   \n",
       "novel_exon:chrX:99888994-99889026:-                                 9.32   \n",
       "novel_exon:chrX:99890175-99890194:-                                 5.27   \n",
       "novel_exon:chrY:15021274-15021318:+                                 3.72   \n",
       "novel_exon:chrY:15023751-15023774:+                                 7.76   \n",
       "novel_exon:chrY:15024877-15024974:+                                -3.78   \n",
       "novel_exon:chrY:15027610-15027686:+                                -0.59   \n",
       "novel_exon:chrY:15027841-15027939:+                                 6.85   \n",
       "novel_exon:chrY:15027883-15027939:+                               -11.38   \n",
       "novel_exon:chrY:15028429-15028458:+                                 3.14   \n",
       "novel_exon:chrY:22744476-22744486:+                                11.20   \n",
       "novel_exon:chrY:22749937-22749991:+                                 0.33   \n",
       "\n",
       "                                                         splice_site_3p_seq  \\\n",
       "isoform1=junction:chr10:100189400-100190327:-|i...  CTCTCCCCTGCCCTGCACAGCCT   \n",
       "isoform1=junction:chr10:100190428-100193696:-|i...  TCCCTTCCTGCCCTGGCTAGGCC   \n",
       "isoform1=junction:chr10:100193849-100195391:-|i...  TGGCCTGCCTGTGCCTGCAGTTT   \n",
       "isoform1=junction:chr10:101163392-101165512:-|i...  CTCACTTTGCTTCCCCGCAGCAC   \n",
       "isoform1=junction:chr10:101191023-101193302:+|i...  TTTTTTTACTTTTATTTTAGGTT   \n",
       "isoform1=junction:chr10:101419346-101421202:+|i...  CTGAAATCAAATCTTTCTAGGCT   \n",
       "isoform1=junction:chr10:101421386-101439481:+|i...  TCTCTTTTTGCCTGACTTAGGTA   \n",
       "isoform1=junction:chr10:101476219-101480743:-|i...  CCATTTACCTTGGAATACAGGGG   \n",
       "isoform1=junction:chr10:101507148-101514285:+|i...  TTTTTTTTTTCTTTTTTCAGGCA   \n",
       "isoform1=junction:chr10:101507148-101515381:+|i...  TTACTTATTCTTTGCAACAGGAG   \n",
       "isoform1=junction:chr10:101507148-101515381:+|i...  TTACTTATTCTTTGCAACAGGAG   \n",
       "isoform1=junction:chr10:101510154-101514285:+|i...  ATTTTTGTATGTTTTTGTAGAGA   \n",
       "isoform1=junction:chr10:101640119-101643767:-|i...  GTTTCGTTCTTGTTGCCCAGGTT   \n",
       "isoform1=junction:chr10:101731892-101769594:-|i...  TCATTTTTCTTTCCTTACAGCAT   \n",
       "isoform1=junction:chr10:101960538-101964262:-|i...  AATTTAGACTTTTCTTTTAGCTT   \n",
       "isoform1=junction:chr10:101964957-101969351:-|i...  ACTGTTTGTTTCTTTTTCAGAGA   \n",
       "isoform1=junction:chr10:101964957-101977751:-|i...  TTTTTTTCTTATTTATACAGATA   \n",
       "isoform1=junction:chr10:101995522-101997778:-|i...  CCTGTCTCCCCAACCCCCAGGTC   \n",
       "isoform1=junction:chr10:101996727-102003454:-|i...  TCTGTGTGCTGCTTCTTCAGTGC   \n",
       "isoform1=junction:chr10:102006693-102013177:-|i...  GAAACCATATCATTCTACAGGAA   \n",
       "isoform1=junction:chr10:102006693-102013177:-|i...  GTCTCTCAAATATGTTGTAGAAA   \n",
       "isoform1=junction:chr10:102010090-102013177:-|i...  GATCTCATTCTGTCTTCCAGGCT   \n",
       "isoform1=junction:chr10:102013297-102019974:-|i...  TCATTTTTCTTTGAACCCAGGTC   \n",
       "isoform1=junction:chr10:102013297-102020722:-|i...  TCATTTTTCTTTGAACCCAGGTC   \n",
       "isoform1=junction:chr10:102013297-102027327:-|i...  TCATTTTTCTTTGAACCCAGGTC   \n",
       "isoform1=junction:chr10:102016234-102020722:-|i...  ATGTCTGTTTCCCTCACTAGCTC   \n",
       "isoform1=junction:chr10:102016234-102021735:-|i...  TTAGCTGCTGTTGTGTGTAGGAA   \n",
       "isoform1=junction:chr10:102016234-102027327:-|i...  GTTTATCTCTTTGTTTGCAGCTT   \n",
       "isoform1=junction:chr10:102114390-102120490:+|i...  TGTCTGGTCTGTCAATGTAGGTA   \n",
       "isoform1=junction:chr10:102256189-102257423:-|i...  AAATTACCCTCTCTCTGCAGACA   \n",
       "...                                                                     ...   \n",
       "novel_exon:chrX:53561075-53561158:-                 TCATGGGTCCCTTCCTACAGATC   \n",
       "novel_exon:chrX:53564517-53564532:-                 GCATCGCAAATCCCCCGAAGAAA   \n",
       "novel_exon:chrX:54467123-54467172:+                 GCTTGGACCTGTGTTTACAGATC   \n",
       "novel_exon:chrX:54467123-54467188:+                 GCTTGGACCTGTGTTTACAGATC   \n",
       "novel_exon:chrX:54469833-54469852:+                 CCCTGTCCTTTTCTACTTAGCTG   \n",
       "novel_exon:chrX:54470582-54470617:+                 CAGCTAGAGAGACTGATGAGGAT   \n",
       "novel_exon:chrX:54835736-54835751:+                 CCAGGCCTTCTCCCCTTCAGGCT   \n",
       "novel_exon:chrX:54836155-54836198:+                 TTCCCTGCTTCCTCTTGCAGGCT   \n",
       "novel_exon:chrX:54842073-54842123:+                 CTTGGTGGAGCTGGTGCCAGCAC   \n",
       "novel_exon:chrX:69366665-69366678:+                 AAAGATCCTGAGAGAAAGAGACT   \n",
       "novel_exon:chrX:69368611-69368694:+                 ATAATTAATTTCCTTCTTAGGCA   \n",
       "novel_exon:chrX:69370060-69370099:+                 ATGCAGCGTAATTTTTGCAGAGT   \n",
       "novel_exon:chrX:71401614-71401678:+                 CGGCAACTGGAGCGGTTCAGCGT   \n",
       "novel_exon:chrX:71496007-71496066:-                 AGGCTCGTGGTCCCAAGAAGCAT   \n",
       "novel_exon:chrX:76890099-76890194:-                 AATGAAGCTGTTATTTTTAGGTG   \n",
       "novel_exon:chrX:76912050-76912136:-                 TTTAAAATTCAAGTGAGCAGTGA   \n",
       "novel_exon:chrX:76952172-76952192:-                 TGAACTTAATTCTTTCATAGGAA   \n",
       "novel_exon:chrX:77378332-77378399:+                 ATTCTTGCTTTCTCTTGTAGAGC   \n",
       "novel_exon:chrX:80373961-80373984:-                 TTTCCCACAACTTGAAGCAGATG   \n",
       "novel_exon:chrX:99888994-99889026:-                 ATTGTGTTTCTTTGCTATAGATT   \n",
       "novel_exon:chrX:99890175-99890194:-                 ACTGGTCGCTGCCATCGTAGGAT   \n",
       "novel_exon:chrY:15021274-15021318:+                 TACATTTTCTCTTTTAGAAGGGC   \n",
       "novel_exon:chrY:15023751-15023774:+                 TTTTTGCTTTTTTATTGAAGGAT   \n",
       "novel_exon:chrY:15024877-15024974:+                 ATAATTGTTTGATTTCAGAGAAC   \n",
       "novel_exon:chrY:15027610-15027686:+                 ACCTCAGATACGTCGTATAGTTG   \n",
       "novel_exon:chrY:15027841-15027939:+                 ATATATCTTTTTGGCTGTAGGCA   \n",
       "novel_exon:chrY:15027883-15027939:+                 GAACATCACACAGAAAGTAGTTT   \n",
       "novel_exon:chrY:15028429-15028458:+                 AAAAGAAGTTAATTTTTCAGGTG   \n",
       "novel_exon:chrY:22744476-22744486:+                 TTTTTATCTCCTCTCCTCAGAGT   \n",
       "novel_exon:chrY:22749937-22749991:+                 AAGCTGATGTAATTTTAAAGTAC   \n",
       "\n",
       "                                                    splice_site_5p_score  \\\n",
       "isoform1=junction:chr10:100189400-100190327:-|i...                  6.96   \n",
       "isoform1=junction:chr10:100190428-100193696:-|i...                  7.96   \n",
       "isoform1=junction:chr10:100193849-100195391:-|i...                  6.05   \n",
       "isoform1=junction:chr10:101163392-101165512:-|i...                  8.34   \n",
       "isoform1=junction:chr10:101191023-101193302:+|i...                  7.44   \n",
       "isoform1=junction:chr10:101419346-101421202:+|i...                  9.31   \n",
       "isoform1=junction:chr10:101421386-101439481:+|i...                  7.64   \n",
       "isoform1=junction:chr10:101476219-101480743:-|i...                 10.65   \n",
       "isoform1=junction:chr10:101507148-101514285:+|i...                  7.51   \n",
       "isoform1=junction:chr10:101507148-101515381:+|i...                  5.48   \n",
       "isoform1=junction:chr10:101507148-101515381:+|i...                  2.93   \n",
       "isoform1=junction:chr10:101510154-101514285:+|i...                  6.71   \n",
       "isoform1=junction:chr10:101640119-101643767:-|i...                  9.10   \n",
       "isoform1=junction:chr10:101731892-101769594:-|i...                  7.36   \n",
       "isoform1=junction:chr10:101960538-101964262:-|i...                  7.30   \n",
       "isoform1=junction:chr10:101964957-101969351:-|i...                 10.47   \n",
       "isoform1=junction:chr10:101964957-101977751:-|i...                  3.54   \n",
       "isoform1=junction:chr10:101995522-101997778:-|i...                  5.07   \n",
       "isoform1=junction:chr10:101996727-102003454:-|i...                 10.28   \n",
       "isoform1=junction:chr10:102006693-102013177:-|i...                  9.06   \n",
       "isoform1=junction:chr10:102006693-102013177:-|i...                  9.06   \n",
       "isoform1=junction:chr10:102010090-102013177:-|i...                  7.53   \n",
       "isoform1=junction:chr10:102013297-102019974:-|i...                  7.00   \n",
       "isoform1=junction:chr10:102013297-102020722:-|i...                  7.00   \n",
       "isoform1=junction:chr10:102013297-102027327:-|i...                  7.00   \n",
       "isoform1=junction:chr10:102016234-102020722:-|i...                  8.84   \n",
       "isoform1=junction:chr10:102016234-102021735:-|i...                  7.98   \n",
       "isoform1=junction:chr10:102016234-102027327:-|i...                  5.46   \n",
       "isoform1=junction:chr10:102114390-102120490:+|i...                 10.24   \n",
       "isoform1=junction:chr10:102256189-102257423:-|i...                  8.63   \n",
       "...                                                                  ...   \n",
       "novel_exon:chrX:53561075-53561158:-                                 9.16   \n",
       "novel_exon:chrX:53564517-53564532:-                                 4.89   \n",
       "novel_exon:chrX:54467123-54467172:+                                -4.18   \n",
       "novel_exon:chrX:54467123-54467188:+                               -15.32   \n",
       "novel_exon:chrX:54469833-54469852:+                                -1.38   \n",
       "novel_exon:chrX:54470582-54470617:+                                 4.41   \n",
       "novel_exon:chrX:54835736-54835751:+                                -5.31   \n",
       "novel_exon:chrX:54836155-54836198:+                               -27.47   \n",
       "novel_exon:chrX:54842073-54842123:+                                 4.28   \n",
       "novel_exon:chrX:69366665-69366678:+                                 9.85   \n",
       "novel_exon:chrX:69368611-69368694:+                                 3.02   \n",
       "novel_exon:chrX:69370060-69370099:+                                11.45   \n",
       "novel_exon:chrX:71401614-71401678:+                                 6.38   \n",
       "novel_exon:chrX:71496007-71496066:-                                 7.40   \n",
       "novel_exon:chrX:76890099-76890194:-                                 8.85   \n",
       "novel_exon:chrX:76912050-76912136:-                                 7.04   \n",
       "novel_exon:chrX:76952172-76952192:-                                 6.93   \n",
       "novel_exon:chrX:77378332-77378399:+                                -7.31   \n",
       "novel_exon:chrX:80373961-80373984:-                                 4.41   \n",
       "novel_exon:chrX:99888994-99889026:-                                -6.20   \n",
       "novel_exon:chrX:99890175-99890194:-                                 9.85   \n",
       "novel_exon:chrY:15021274-15021318:+                                10.75   \n",
       "novel_exon:chrY:15023751-15023774:+                                 5.59   \n",
       "novel_exon:chrY:15024877-15024974:+                                 8.62   \n",
       "novel_exon:chrY:15027610-15027686:+                                 9.04   \n",
       "novel_exon:chrY:15027841-15027939:+                                 8.76   \n",
       "novel_exon:chrY:15027883-15027939:+                                 8.76   \n",
       "novel_exon:chrY:15028429-15028458:+                                 3.37   \n",
       "novel_exon:chrY:22744476-22744486:+                                 6.99   \n",
       "novel_exon:chrY:22749937-22749991:+                                 9.48   \n",
       "\n",
       "                                                   splice_site_5p_seq  \\\n",
       "isoform1=junction:chr10:100189400-100190327:-|i...          ACGGTGTGT   \n",
       "isoform1=junction:chr10:100190428-100193696:-|i...          TAGGTGAGC   \n",
       "isoform1=junction:chr10:100193849-100195391:-|i...          GGAGTGAGT   \n",
       "isoform1=junction:chr10:101163392-101165512:-|i...          ACAGTGAGT   \n",
       "isoform1=junction:chr10:101191023-101193302:+|i...          CAGGTTTGT   \n",
       "isoform1=junction:chr10:101419346-101421202:+|i...          TAGGTAAGG   \n",
       "isoform1=junction:chr10:101421386-101439481:+|i...          CAGGTACTA   \n",
       "isoform1=junction:chr10:101476219-101480743:-|i...          CTGGTAAGT   \n",
       "isoform1=junction:chr10:101507148-101514285:+|i...          CAGGTATTT   \n",
       "isoform1=junction:chr10:101507148-101515381:+|i...          TCGGTAAAA   \n",
       "isoform1=junction:chr10:101507148-101515381:+|i...          CAGGTGCTA   \n",
       "isoform1=junction:chr10:101510154-101514285:+|i...          CAGGTGGGA   \n",
       "isoform1=junction:chr10:101640119-101643767:-|i...          CAGGTGCGC   \n",
       "isoform1=junction:chr10:101731892-101769594:-|i...          AGAGTGAGT   \n",
       "isoform1=junction:chr10:101960538-101964262:-|i...          GAGGTAAAA   \n",
       "isoform1=junction:chr10:101964957-101969351:-|i...          TTGGTAAGT   \n",
       "isoform1=junction:chr10:101964957-101977751:-|i...          GTTGTAAGA   \n",
       "isoform1=junction:chr10:101995522-101997778:-|i...          CAGGTGAAA   \n",
       "isoform1=junction:chr10:101996727-102003454:-|i...          CAGGTAGGT   \n",
       "isoform1=junction:chr10:102006693-102013177:-|i...          AAGGTAAAG   \n",
       "isoform1=junction:chr10:102006693-102013177:-|i...          AAGGTAAAG   \n",
       "isoform1=junction:chr10:102010090-102013177:-|i...          TAGGTATGC   \n",
       "isoform1=junction:chr10:102013297-102019974:-|i...          TCTGTGAGT   \n",
       "isoform1=junction:chr10:102013297-102020722:-|i...          TCTGTGAGT   \n",
       "isoform1=junction:chr10:102013297-102027327:-|i...          TCTGTGAGT   \n",
       "isoform1=junction:chr10:102016234-102020722:-|i...          TGGGTAAGC   \n",
       "isoform1=junction:chr10:102016234-102021735:-|i...          AAGGTATAG   \n",
       "isoform1=junction:chr10:102016234-102027327:-|i...          GATGTAAGA   \n",
       "isoform1=junction:chr10:102114390-102120490:+|i...          TGGGTAAGT   \n",
       "isoform1=junction:chr10:102256189-102257423:-|i...          CAGGTACCC   \n",
       "...                                                               ...   \n",
       "novel_exon:chrX:53561075-53561158:-                         AAGGTACCC   \n",
       "novel_exon:chrX:53564517-53564532:-                         ATTGTAAGG   \n",
       "novel_exon:chrX:54467123-54467172:+                         CAAGTGGCT   \n",
       "novel_exon:chrX:54467123-54467188:+                         GCAGTGGAG   \n",
       "novel_exon:chrX:54469833-54469852:+                         GAGGTGGAA   \n",
       "novel_exon:chrX:54470582-54470617:+                         GAGGTGAAG   \n",
       "novel_exon:chrX:54835736-54835751:+                         CAGGCCAAA   \n",
       "novel_exon:chrX:54836155-54836198:+                         TCTGTTGAC   \n",
       "novel_exon:chrX:54842073-54842123:+                         TAGGTATCT   \n",
       "novel_exon:chrX:69366665-69366678:+                         GAGGTAAGC   \n",
       "novel_exon:chrX:69368611-69368694:+                         TAGGTAGTA   \n",
       "novel_exon:chrX:69370060-69370099:+                         ACGGTGAGT   \n",
       "novel_exon:chrX:71401614-71401678:+                         AAGGTAGAG   \n",
       "novel_exon:chrX:71496007-71496066:-                         TTTGTAAGT   \n",
       "novel_exon:chrX:76890099-76890194:-                         TTGGTAAGA   \n",
       "novel_exon:chrX:76912050-76912136:-                         AAGGTATTA   \n",
       "novel_exon:chrX:76952172-76952192:-                         AAAGTATGT   \n",
       "novel_exon:chrX:77378332-77378399:+                         TTGGTGGTG   \n",
       "novel_exon:chrX:80373961-80373984:-                         GAGGTGAAG   \n",
       "novel_exon:chrX:99888994-99889026:-                         AAGGCTTTG   \n",
       "novel_exon:chrX:99890175-99890194:-                         GAGGTAAGC   \n",
       "novel_exon:chrY:15021274-15021318:+                         AAGGTACGT   \n",
       "novel_exon:chrY:15023751-15023774:+                         CAGGTTGGA   \n",
       "novel_exon:chrY:15024877-15024974:+                         AATGTAAGT   \n",
       "novel_exon:chrY:15027610-15027686:+                         CAGGTACTG   \n",
       "novel_exon:chrY:15027841-15027939:+                         CAGGTAAAT   \n",
       "novel_exon:chrY:15027883-15027939:+                         CAGGTAAAT   \n",
       "novel_exon:chrY:15028429-15028458:+                         AATGTGAGA   \n",
       "novel_exon:chrY:22744476-22744486:+                         CAGGTAATC   \n",
       "novel_exon:chrY:22749937-22749991:+                         ATGGTAAGA   \n",
       "\n",
       "                                                       exon_type  \n",
       "isoform1=junction:chr10:100189400-100190327:-|i...   alternative  \n",
       "isoform1=junction:chr10:100190428-100193696:-|i...   alternative  \n",
       "isoform1=junction:chr10:100193849-100195391:-|i...   alternative  \n",
       "isoform1=junction:chr10:101163392-101165512:-|i...   alternative  \n",
       "isoform1=junction:chr10:101191023-101193302:+|i...   alternative  \n",
       "isoform1=junction:chr10:101419346-101421202:+|i...   alternative  \n",
       "isoform1=junction:chr10:101421386-101439481:+|i...   alternative  \n",
       "isoform1=junction:chr10:101476219-101480743:-|i...   alternative  \n",
       "isoform1=junction:chr10:101507148-101514285:+|i...   alternative  \n",
       "isoform1=junction:chr10:101507148-101515381:+|i...   alternative  \n",
       "isoform1=junction:chr10:101507148-101515381:+|i...   alternative  \n",
       "isoform1=junction:chr10:101510154-101514285:+|i...   alternative  \n",
       "isoform1=junction:chr10:101640119-101643767:-|i...   alternative  \n",
       "isoform1=junction:chr10:101731892-101769594:-|i...   alternative  \n",
       "isoform1=junction:chr10:101960538-101964262:-|i...   alternative  \n",
       "isoform1=junction:chr10:101964957-101969351:-|i...   alternative  \n",
       "isoform1=junction:chr10:101964957-101977751:-|i...   alternative  \n",
       "isoform1=junction:chr10:101995522-101997778:-|i...   alternative  \n",
       "isoform1=junction:chr10:101996727-102003454:-|i...   alternative  \n",
       "isoform1=junction:chr10:102006693-102013177:-|i...   alternative  \n",
       "isoform1=junction:chr10:102006693-102013177:-|i...   alternative  \n",
       "isoform1=junction:chr10:102010090-102013177:-|i...   alternative  \n",
       "isoform1=junction:chr10:102013297-102019974:-|i...   alternative  \n",
       "isoform1=junction:chr10:102013297-102020722:-|i...   alternative  \n",
       "isoform1=junction:chr10:102013297-102027327:-|i...   alternative  \n",
       "isoform1=junction:chr10:102016234-102020722:-|i...   alternative  \n",
       "isoform1=junction:chr10:102016234-102021735:-|i...   alternative  \n",
       "isoform1=junction:chr10:102016234-102027327:-|i...   alternative  \n",
       "isoform1=junction:chr10:102114390-102120490:+|i...   alternative  \n",
       "isoform1=junction:chr10:102256189-102257423:-|i...   alternative  \n",
       "...                                                          ...  \n",
       "novel_exon:chrX:53561075-53561158:-                 constitutive  \n",
       "novel_exon:chrX:53564517-53564532:-                 constitutive  \n",
       "novel_exon:chrX:54467123-54467172:+                 constitutive  \n",
       "novel_exon:chrX:54467123-54467188:+                 constitutive  \n",
       "novel_exon:chrX:54469833-54469852:+                 constitutive  \n",
       "novel_exon:chrX:54470582-54470617:+                 constitutive  \n",
       "novel_exon:chrX:54835736-54835751:+                 constitutive  \n",
       "novel_exon:chrX:54836155-54836198:+                 constitutive  \n",
       "novel_exon:chrX:54842073-54842123:+                 constitutive  \n",
       "novel_exon:chrX:69366665-69366678:+                 constitutive  \n",
       "novel_exon:chrX:69368611-69368694:+                 constitutive  \n",
       "novel_exon:chrX:69370060-69370099:+                 constitutive  \n",
       "novel_exon:chrX:71401614-71401678:+                 constitutive  \n",
       "novel_exon:chrX:71496007-71496066:-                 constitutive  \n",
       "novel_exon:chrX:76890099-76890194:-                 constitutive  \n",
       "novel_exon:chrX:76912050-76912136:-                 constitutive  \n",
       "novel_exon:chrX:76952172-76952192:-                 constitutive  \n",
       "novel_exon:chrX:77378332-77378399:+                 constitutive  \n",
       "novel_exon:chrX:80373961-80373984:-                 constitutive  \n",
       "novel_exon:chrX:99888994-99889026:-                 constitutive  \n",
       "novel_exon:chrX:99890175-99890194:-                 constitutive  \n",
       "novel_exon:chrY:15021274-15021318:+                 constitutive  \n",
       "novel_exon:chrY:15023751-15023774:+                 constitutive  \n",
       "novel_exon:chrY:15024877-15024974:+                 constitutive  \n",
       "novel_exon:chrY:15027610-15027686:+                 constitutive  \n",
       "novel_exon:chrY:15027841-15027939:+                 constitutive  \n",
       "novel_exon:chrY:15027883-15027939:+                 constitutive  \n",
       "novel_exon:chrY:15028429-15028458:+                 constitutive  \n",
       "novel_exon:chrY:22744476-22744486:+                 constitutive  \n",
       "novel_exon:chrY:22749937-22749991:+                 constitutive  \n",
       "\n",
       "[52519 rows x 5 columns]"
      ]
     },
     "execution_count": 60,
     "metadata": {},
     "output_type": "execute_result"
    }
   ],
   "source": [
    "splice_site_scores"
   ]
  },
  {
   "cell_type": "code",
   "execution_count": 62,
   "metadata": {
    "collapsed": false
   },
   "outputs": [
    {
     "data": {
      "image/png": "[encoded data removed]",
      "text/plain": [
       "<matplotlib.figure.Figure at 0x2aea86706790>"
      ]
     },
     "metadata": {},
     "output_type": "display_data"
    }
   ],
   "source": [
    "import matplotlib.pyplot as plt\n",
    "import seaborn as sns\n",
    "\n",
    "sns.set(style='ticks', context='notebook')\n",
    "\n",
    "%matplotlib inline\n",
    "\n",
    "fig, ax = plt.subplots(figsize=(2, 2))\n",
    "sns.boxplot(hue='exon_type', y='score', data=splice_site_scores_tidy, x='splice_site', \n",
    "            linewidth=1, fliersize=2, order=[\"3'\", \"5'\"])\n",
    "sns.despine()\n",
    "fig.savefig('{}/splice_site_scores_boxplots.pdf'.format(figure_folder))"
   ]
  },
  {
   "cell_type": "code",
   "execution_count": 64,
   "metadata": {
    "collapsed": false
   },
   "outputs": [
    {
     "data": {
      "image/png": "[encoded data removed]",
      "text/plain": [
       "<matplotlib.figure.Figure at 0x2aea69d94150>"
      ]
     },
     "metadata": {},
     "output_type": "display_data"
    }
   ],
   "source": [
    "import matplotlib.pyplot as plt\n",
    "import seaborn as sns\n",
    "\n",
    "sns.set(style='ticks', context='notebook')\n",
    "\n",
    "%matplotlib inline\n",
    "\n",
    "fig, ax = plt.subplots(figsize=(2, 2))\n",
    "sns.violinplot(hue='exon_type', y='score', data=splice_site_scores_tidy, x='splice_site', \n",
    "            linewidth=1, order=[\"3'\", \"5'\"], cut=True)\n",
    "sns.despine()\n",
    "fig.savefig('{}/splice_site_scores_violinplots.pdf'.format(figure_folder))"
   ]
  },
  {
   "cell_type": "code",
   "execution_count": null,
   "metadata": {
    "collapsed": true
   },
   "outputs": [],
   "source": []
  }
 ],
 "metadata": {
  "kernelspec": {
   "display_name": "Python 2",
   "language": "python",
   "name": "python2"
  },
  "language_info": {
   "codemirror_mode": {
    "name": "ipython",
    "version": 2
   },
   "file_extension": ".py",
   "mimetype": "text/x-python",
   "name": "python",
   "nbconvert_exporter": "python",
   "pygments_lexer": "ipython2",
   "version": "2.7.11"
  }
 },
 "nbformat": 4,
 "nbformat_minor": 0
}
