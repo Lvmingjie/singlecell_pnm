{
 "cells": [
  {
   "cell_type": "code",
   "execution_count": 72,
   "metadata": {
    "collapsed": false
   },
   "outputs": [],
   "source": [
    "import six\n",
    "\n",
    "import pandas as pd\n",
    "import gffutils\n",
    "import pybedtools\n",
    "import re\n",
    "import numpy as np\n",
    "\n",
    "v19db_filename = '/projects/ps-yeolab/genomes/hg19/gencode/v19/gencode.v19.annotation.gtf.db'\n",
    "v19db = gffutils.FeatureDB(v19db_filename)\n",
    "\n",
    "folder = '/projects/ps-yeolab/obotvinnik/singlecell_pnms'\n",
    "outrigger_folder = '{}/outrigger_v2'.format(folder)\n",
    "\n",
    "\n",
    "csv_folder = '/projects/ps-yeolab/obotvinnik/singlecell_pnms/csvs_for_paper'\n",
    "# folder2 = '/projects/ps-yeolab2/obotvinnik/singlecell_pnm'"
   ]
  },
  {
   "cell_type": "code",
   "execution_count": 73,
   "metadata": {
    "collapsed": true
   },
   "outputs": [],
   "source": [
    "splicing_feature_folder = '{}/splicing_feature_data'.format(csv_folder)\n",
    "alternative_feature_folder = '{}/alternative'.format(splicing_feature_folder)\n",
    "constitutive_feature_folder = '{}/constitutive'.format(splicing_feature_folder)\n"
   ]
  },
  {
   "cell_type": "markdown",
   "metadata": {},
   "source": [
    "Get only psi scores for events found to actually be alternative in our data (see [0.2.04_Filter_out_non-alternative_splicing_events](0.2.04_Filter_out_non-alternative_splicing_events.ipynb))"
   ]
  },
  {
   "cell_type": "code",
   "execution_count": 74,
   "metadata": {
    "collapsed": false
   },
   "outputs": [
    {
     "name": "stdout",
     "output_type": "stream",
     "text": [
      "total 26\r\n",
      "drwxr-xr-x 5 obotvinnik 6 Dec 29 10:14 \u001b[0m\u001b[01;34mindex\u001b[0m/\r\n",
      "drwxr-xr-x 2 obotvinnik 4 Dec 29 10:15 \u001b[01;34mjunctions\u001b[0m/\r\n",
      "drwxr-xr-x 4 obotvinnik 6 Jan  5 11:04 \u001b[01;34mpsi\u001b[0m/\r\n",
      "\u001b[m"
     ]
    }
   ],
   "source": [
    "ll $outrigger_folder"
   ]
  },
  {
   "cell_type": "code",
   "execution_count": 75,
   "metadata": {
    "collapsed": false
   },
   "outputs": [
    {
     "name": "stdout",
     "output_type": "stream",
     "text": [
      "wc: /projects/ps-yeolab/obotvinnik/singlecell_pnms/outrigger_v2/psi/mxe: Is a directory\n",
      "         0 /projects/ps-yeolab/obotvinnik/singlecell_pnms/outrigger_v2/psi/mxe\n",
      "     50070 /projects/ps-yeolab/obotvinnik/singlecell_pnms/outrigger_v2/psi/outrigger_psi.csv\n",
      "wc: /projects/ps-yeolab/obotvinnik/singlecell_pnms/outrigger_v2/psi/se: Is a directory\n",
      "         0 /projects/ps-yeolab/obotvinnik/singlecell_pnms/outrigger_v2/psi/se\n",
      "  12567320 /projects/ps-yeolab/obotvinnik/singlecell_pnms/outrigger_v2/psi/summary_formatted.csv\n",
      "  12617390 total\n"
     ]
    }
   ],
   "source": [
    "! wc -l $outrigger_folder/psi/*"
   ]
  },
  {
   "cell_type": "code",
   "execution_count": 76,
   "metadata": {
    "collapsed": false
   },
   "outputs": [
    {
     "name": "stdout",
     "output_type": "stream",
     "text": [
      "   2987610 /projects/ps-yeolab/obotvinnik/singlecell_pnms/outrigger_v2/index/gtf/gencode.v19.annotation.gtf.db\n",
      "         0 /projects/ps-yeolab/obotvinnik/singlecell_pnms/outrigger_v2/index/gtf/novel_exons.gtf\n",
      "    325347 /projects/ps-yeolab/obotvinnik/singlecell_pnms/outrigger_v2/index/mxe/event.bed\n",
      "    325348 /projects/ps-yeolab/obotvinnik/singlecell_pnms/outrigger_v2/index/mxe/events.csv\n",
      "    325347 /projects/ps-yeolab/obotvinnik/singlecell_pnms/outrigger_v2/index/mxe/exon1.bed\n",
      "    325347 /projects/ps-yeolab/obotvinnik/singlecell_pnms/outrigger_v2/index/mxe/exon2.bed\n",
      "    325347 /projects/ps-yeolab/obotvinnik/singlecell_pnms/outrigger_v2/index/mxe/exon3.bed\n",
      "    325347 /projects/ps-yeolab/obotvinnik/singlecell_pnms/outrigger_v2/index/mxe/exon4.bed\n",
      "    325347 /projects/ps-yeolab/obotvinnik/singlecell_pnms/outrigger_v2/index/mxe/intron.bed\n",
      "    325348 /projects/ps-yeolab/obotvinnik/singlecell_pnms/outrigger_v2/index/mxe/manual_metadata.csv\n",
      "    325348 /projects/ps-yeolab/obotvinnik/singlecell_pnms/outrigger_v2/index/mxe/splice_sites.csv\n",
      "wc: /projects/ps-yeolab/obotvinnik/singlecell_pnms/outrigger_v2/index/mxe/validated: Is a directory\n",
      "         0 /projects/ps-yeolab/obotvinnik/singlecell_pnms/outrigger_v2/index/mxe/validated\n",
      "    201884 /projects/ps-yeolab/obotvinnik/singlecell_pnms/outrigger_v2/index/se/event.bed\n",
      "    403769 /projects/ps-yeolab/obotvinnik/singlecell_pnms/outrigger_v2/index/se/events.csv\n",
      "    201884 /projects/ps-yeolab/obotvinnik/singlecell_pnms/outrigger_v2/index/se/exon1.bed\n",
      "    201884 /projects/ps-yeolab/obotvinnik/singlecell_pnms/outrigger_v2/index/se/exon2.bed\n",
      "    201884 /projects/ps-yeolab/obotvinnik/singlecell_pnms/outrigger_v2/index/se/exon3.bed\n",
      "    201884 /projects/ps-yeolab/obotvinnik/singlecell_pnms/outrigger_v2/index/se/intron.bed\n",
      "   5496431 /projects/ps-yeolab/obotvinnik/singlecell_pnms/outrigger_v2/index/se/manual_metadata.csv\n",
      "    201885 /projects/ps-yeolab/obotvinnik/singlecell_pnms/outrigger_v2/index/se/splice_sites.csv\n",
      "wc: /projects/ps-yeolab/obotvinnik/singlecell_pnms/outrigger_v2/index/se/validated: Is a directory\n",
      "         0 /projects/ps-yeolab/obotvinnik/singlecell_pnms/outrigger_v2/index/se/validated\n",
      "  13027241 total\n"
     ]
    }
   ],
   "source": [
    "! wc -l $outrigger_folder/index/*/*"
   ]
  },
  {
   "cell_type": "markdown",
   "metadata": {},
   "source": [
    "## Use psi.csv created in [007_Filter_out_non-alternative_splicing_events](007_Filter_out_non-alternative_splicing_events.ipynb)\n",
    "\n",
    "This has only events that were not equal to 0 or 1 in all cells"
   ]
  },
  {
   "cell_type": "code",
   "execution_count": 77,
   "metadata": {
    "collapsed": false
   },
   "outputs": [
    {
     "name": "stdout",
     "output_type": "stream",
     "text": [
      "(299, 26987)\n"
     ]
    },
    {
     "data": {
      "text/html": [
       "<div>\n",
       "<table border=\"1\" class=\"dataframe\">\n",
       "  <thead>\n",
       "    <tr style=\"text-align: right;\">\n",
       "      <th></th>\n",
       "      <th>isoform1=junction:chr10:100189400-100190327:-|isoform2=junction:chr10:100189647-100190327:-@exon:chr10:100189548-100189646:-@junction:chr10:100189400-100189547:-</th>\n",
       "      <th>isoform1=junction:chr10:100190428-100193696:-|isoform2=junction:chr10:100191049-100193696:-@exon:chr10:100190888-100191048:-@junction:chr10:100190428-100190887:-</th>\n",
       "      <th>isoform1=junction:chr10:100193849-100195391:-|isoform2=junction:chr10:100195172-100195391:-@exon:chr10:100195029-100195171:-@junction:chr10:100193849-100195028:-</th>\n",
       "      <th>isoform1=junction:chr10:101163392-101165512:-|isoform2=junction:chr10:101163632-101165512:-@exon:chr10:101163481-101163631:-@junction:chr10:101163392-101163480:-</th>\n",
       "      <th>isoform1=junction:chr10:101191023-101193302:+|isoform2=junction:chr10:101191023-101191686:+@novel_exon:chr10:101191687-101191705:+@junction:chr10:101191706-101193302:+</th>\n",
       "      <th>isoform1=junction:chr10:101419346-101421202:+|isoform2=junction:chr10:101419346-101419618:+@exon:chr10:101419619-101419721:+@junction:chr10:101419722-101421202:+</th>\n",
       "      <th>isoform1=junction:chr10:101476219-101480743:-|isoform2=junction:chr10:101478258-101480743:-@exon:chr10:101478103-101478257:-@junction:chr10:101476219-101478102:-</th>\n",
       "      <th>isoform1=junction:chr10:101507148-101514285:+|isoform2=junction:chr10:101507148-101510125:+@exon:chr10:101510126-101510153:+@junction:chr10:101510154-101514285:+</th>\n",
       "      <th>isoform1=junction:chr10:101507148-101515381:+|isoform2=junction:chr10:101507148-101514285:+@exon:chr10:101514286-101514391:+@junction:chr10:101514392-101515381:+</th>\n",
       "      <th>isoform1=junction:chr10:101507148-101515381:+|isoform2=junction:chr10:101507148-101514285:+@novel_exon:chr10:101514286-101514333:+@junction:chr10:101514334-101515381:+</th>\n",
       "      <th>...</th>\n",
       "      <th>isoform1=junction:chrY:14798536-14821320:+@exon:chrY:14821321-14821476:+@junction:chrY:14821477-14832521:+|isoform2=junction:chrY:14798536-14813938:+@novel_exon:chrY:14813939-14813984:+@junction:chrY:14813985-14832521:+</th>\n",
       "      <th>isoform1=junction:chrY:14802371-14820566:+@exon:chrY:14820567-14820626:+@junction:chrY:14820627-14820885:+|isoform2=junction:chrY:14802371-14813938:+@novel_exon:chrY:14813939-14813984:+@junction:chrY:14813985-14820885:+</th>\n",
       "      <th>isoform1=junction:chrY:14802371-14820566:+@exon:chrY:14820567-14820626:+@junction:chrY:14820627-14821320:+|isoform2=junction:chrY:14802371-14813938:+@novel_exon:chrY:14813939-14813984:+@junction:chrY:14813985-14821320:+</th>\n",
       "      <th>isoform1=junction:chrY:14813985-14820885:+@novel_exon:chrY:14820886-14820960:+@junction:chrY:14820961-14821320:+|isoform2=junction:chrY:14813985-14820566:+@exon:chrY:14820567-14820626:+@junction:chrY:14820627-14821320:+</th>\n",
       "      <th>isoform1=junction:chrY:14891581-14902339:+@exon:chrY:14902340-14902465:+@junction:chrY:14902466-14903431:+|isoform2=junction:chrY:14891581-14898454:+@exon:chrY:14898455-14898733:+@junction:chrY:14898734-14903431:+</th>\n",
       "      <th>isoform1=junction:chrY:15470434-15471646:-@exon:chrY:15470344-15470433:-@junction:chrY:15469850-15470343:-|isoform2=junction:chrY:15471103-15471646:-@exon:chrY:15470968-15471102:-@junction:chrY:15469850-15470967:-</th>\n",
       "      <th>isoform1=junction:chrY:16634822-16831338:+@exon:chrY:16831339-16831398:+@junction:chrY:16831399-16834996:+|isoform2=junction:chrY:16634822-16733888:+@exon:chrY:16733889-16734471:+@junction:chrY:16734472-16834996:+</th>\n",
       "      <th>isoform1=junction:chrY:21207178-21237826:-@exon:chrY:21207128-21207177:-@junction:chrY:21206582-21207127:-|isoform2=junction:chrY:21230685-21237826:-@exon:chrY:21230610-21230684:-@junction:chrY:21206582-21230609:-</th>\n",
       "      <th>isoform1=junction:chrY:21749394-21753665:+@exon:chrY:21753666-21753845:+@junction:chrY:21753846-21755284:+|isoform2=junction:chrY:21749394-21751406:+@exon:chrY:21751407-21751498:+@junction:chrY:21751499-21755284:+</th>\n",
       "      <th>isoform1=junction:chrY:21901549-21903620:-@exon:chrY:21901414-21901548:-@junction:chrY:21897637-21901413:-|isoform2=junction:chrY:21903375-21903620:-@exon:chrY:21903204-21903374:-@junction:chrY:21897637-21903203:-</th>\n",
       "    </tr>\n",
       "  </thead>\n",
       "  <tbody>\n",
       "    <tr>\n",
       "      <th>CVN_01_R1.fastq.gz.polyATrim.adapterTrim.rmRep.sorted.rg.bam</th>\n",
       "      <td>NaN</td>\n",
       "      <td>NaN</td>\n",
       "      <td>NaN</td>\n",
       "      <td>1.0</td>\n",
       "      <td>NaN</td>\n",
       "      <td>NaN</td>\n",
       "      <td>NaN</td>\n",
       "      <td>1.0</td>\n",
       "      <td>NaN</td>\n",
       "      <td>NaN</td>\n",
       "      <td>...</td>\n",
       "      <td>NaN</td>\n",
       "      <td>NaN</td>\n",
       "      <td>NaN</td>\n",
       "      <td>NaN</td>\n",
       "      <td>NaN</td>\n",
       "      <td>NaN</td>\n",
       "      <td>1.0</td>\n",
       "      <td>NaN</td>\n",
       "      <td>NaN</td>\n",
       "      <td>NaN</td>\n",
       "    </tr>\n",
       "    <tr>\n",
       "      <th>CVN_02_R1.fastq.gz.polyATrim.adapterTrim.rmRep.sorted.rg.bam</th>\n",
       "      <td>NaN</td>\n",
       "      <td>NaN</td>\n",
       "      <td>NaN</td>\n",
       "      <td>1.0</td>\n",
       "      <td>NaN</td>\n",
       "      <td>NaN</td>\n",
       "      <td>NaN</td>\n",
       "      <td>NaN</td>\n",
       "      <td>NaN</td>\n",
       "      <td>NaN</td>\n",
       "      <td>...</td>\n",
       "      <td>NaN</td>\n",
       "      <td>NaN</td>\n",
       "      <td>NaN</td>\n",
       "      <td>NaN</td>\n",
       "      <td>NaN</td>\n",
       "      <td>NaN</td>\n",
       "      <td>NaN</td>\n",
       "      <td>NaN</td>\n",
       "      <td>NaN</td>\n",
       "      <td>NaN</td>\n",
       "    </tr>\n",
       "    <tr>\n",
       "      <th>CVN_03_R1.fastq.gz.polyATrim.adapterTrim.rmRep.sorted.rg.bam</th>\n",
       "      <td>NaN</td>\n",
       "      <td>NaN</td>\n",
       "      <td>NaN</td>\n",
       "      <td>1.0</td>\n",
       "      <td>NaN</td>\n",
       "      <td>NaN</td>\n",
       "      <td>NaN</td>\n",
       "      <td>NaN</td>\n",
       "      <td>NaN</td>\n",
       "      <td>NaN</td>\n",
       "      <td>...</td>\n",
       "      <td>NaN</td>\n",
       "      <td>NaN</td>\n",
       "      <td>NaN</td>\n",
       "      <td>NaN</td>\n",
       "      <td>NaN</td>\n",
       "      <td>NaN</td>\n",
       "      <td>NaN</td>\n",
       "      <td>NaN</td>\n",
       "      <td>NaN</td>\n",
       "      <td>NaN</td>\n",
       "    </tr>\n",
       "    <tr>\n",
       "      <th>CVN_04_R1.fastq.gz.polyATrim.adapterTrim.rmRep.sorted.rg.bam</th>\n",
       "      <td>NaN</td>\n",
       "      <td>NaN</td>\n",
       "      <td>NaN</td>\n",
       "      <td>NaN</td>\n",
       "      <td>NaN</td>\n",
       "      <td>NaN</td>\n",
       "      <td>NaN</td>\n",
       "      <td>NaN</td>\n",
       "      <td>NaN</td>\n",
       "      <td>NaN</td>\n",
       "      <td>...</td>\n",
       "      <td>NaN</td>\n",
       "      <td>NaN</td>\n",
       "      <td>NaN</td>\n",
       "      <td>NaN</td>\n",
       "      <td>NaN</td>\n",
       "      <td>NaN</td>\n",
       "      <td>NaN</td>\n",
       "      <td>NaN</td>\n",
       "      <td>NaN</td>\n",
       "      <td>NaN</td>\n",
       "    </tr>\n",
       "    <tr>\n",
       "      <th>CVN_05_R1.fastq.gz.polyATrim.adapterTrim.rmRep.sorted.rg.bam</th>\n",
       "      <td>NaN</td>\n",
       "      <td>NaN</td>\n",
       "      <td>NaN</td>\n",
       "      <td>1.0</td>\n",
       "      <td>NaN</td>\n",
       "      <td>NaN</td>\n",
       "      <td>1.0</td>\n",
       "      <td>NaN</td>\n",
       "      <td>NaN</td>\n",
       "      <td>NaN</td>\n",
       "      <td>...</td>\n",
       "      <td>NaN</td>\n",
       "      <td>NaN</td>\n",
       "      <td>NaN</td>\n",
       "      <td>NaN</td>\n",
       "      <td>NaN</td>\n",
       "      <td>NaN</td>\n",
       "      <td>NaN</td>\n",
       "      <td>NaN</td>\n",
       "      <td>NaN</td>\n",
       "      <td>NaN</td>\n",
       "    </tr>\n",
       "  </tbody>\n",
       "</table>\n",
       "<p>5 rows × 26987 columns</p>\n",
       "</div>"
      ],
      "text/plain": [
       "                                                    isoform1=junction:chr10:100189400-100190327:-|isoform2=junction:chr10:100189647-100190327:-@exon:chr10:100189548-100189646:-@junction:chr10:100189400-100189547:-  \\\n",
       "CVN_01_R1.fastq.gz.polyATrim.adapterTrim.rmRep....                                                NaN                                                                                                                   \n",
       "CVN_02_R1.fastq.gz.polyATrim.adapterTrim.rmRep....                                                NaN                                                                                                                   \n",
       "CVN_03_R1.fastq.gz.polyATrim.adapterTrim.rmRep....                                                NaN                                                                                                                   \n",
       "CVN_04_R1.fastq.gz.polyATrim.adapterTrim.rmRep....                                                NaN                                                                                                                   \n",
       "CVN_05_R1.fastq.gz.polyATrim.adapterTrim.rmRep....                                                NaN                                                                                                                   \n",
       "\n",
       "                                                    isoform1=junction:chr10:100190428-100193696:-|isoform2=junction:chr10:100191049-100193696:-@exon:chr10:100190888-100191048:-@junction:chr10:100190428-100190887:-  \\\n",
       "CVN_01_R1.fastq.gz.polyATrim.adapterTrim.rmRep....                                                NaN                                                                                                                   \n",
       "CVN_02_R1.fastq.gz.polyATrim.adapterTrim.rmRep....                                                NaN                                                                                                                   \n",
       "CVN_03_R1.fastq.gz.polyATrim.adapterTrim.rmRep....                                                NaN                                                                                                                   \n",
       "CVN_04_R1.fastq.gz.polyATrim.adapterTrim.rmRep....                                                NaN                                                                                                                   \n",
       "CVN_05_R1.fastq.gz.polyATrim.adapterTrim.rmRep....                                                NaN                                                                                                                   \n",
       "\n",
       "                                                    isoform1=junction:chr10:100193849-100195391:-|isoform2=junction:chr10:100195172-100195391:-@exon:chr10:100195029-100195171:-@junction:chr10:100193849-100195028:-  \\\n",
       "CVN_01_R1.fastq.gz.polyATrim.adapterTrim.rmRep....                                                NaN                                                                                                                   \n",
       "CVN_02_R1.fastq.gz.polyATrim.adapterTrim.rmRep....                                                NaN                                                                                                                   \n",
       "CVN_03_R1.fastq.gz.polyATrim.adapterTrim.rmRep....                                                NaN                                                                                                                   \n",
       "CVN_04_R1.fastq.gz.polyATrim.adapterTrim.rmRep....                                                NaN                                                                                                                   \n",
       "CVN_05_R1.fastq.gz.polyATrim.adapterTrim.rmRep....                                                NaN                                                                                                                   \n",
       "\n",
       "                                                    isoform1=junction:chr10:101163392-101165512:-|isoform2=junction:chr10:101163632-101165512:-@exon:chr10:101163481-101163631:-@junction:chr10:101163392-101163480:-  \\\n",
       "CVN_01_R1.fastq.gz.polyATrim.adapterTrim.rmRep....                                                1.0                                                                                                                   \n",
       "CVN_02_R1.fastq.gz.polyATrim.adapterTrim.rmRep....                                                1.0                                                                                                                   \n",
       "CVN_03_R1.fastq.gz.polyATrim.adapterTrim.rmRep....                                                1.0                                                                                                                   \n",
       "CVN_04_R1.fastq.gz.polyATrim.adapterTrim.rmRep....                                                NaN                                                                                                                   \n",
       "CVN_05_R1.fastq.gz.polyATrim.adapterTrim.rmRep....                                                1.0                                                                                                                   \n",
       "\n",
       "                                                    isoform1=junction:chr10:101191023-101193302:+|isoform2=junction:chr10:101191023-101191686:+@novel_exon:chr10:101191687-101191705:+@junction:chr10:101191706-101193302:+  \\\n",
       "CVN_01_R1.fastq.gz.polyATrim.adapterTrim.rmRep....                                                NaN                                                                                                                         \n",
       "CVN_02_R1.fastq.gz.polyATrim.adapterTrim.rmRep....                                                NaN                                                                                                                         \n",
       "CVN_03_R1.fastq.gz.polyATrim.adapterTrim.rmRep....                                                NaN                                                                                                                         \n",
       "CVN_04_R1.fastq.gz.polyATrim.adapterTrim.rmRep....                                                NaN                                                                                                                         \n",
       "CVN_05_R1.fastq.gz.polyATrim.adapterTrim.rmRep....                                                NaN                                                                                                                         \n",
       "\n",
       "                                                    isoform1=junction:chr10:101419346-101421202:+|isoform2=junction:chr10:101419346-101419618:+@exon:chr10:101419619-101419721:+@junction:chr10:101419722-101421202:+  \\\n",
       "CVN_01_R1.fastq.gz.polyATrim.adapterTrim.rmRep....                                                NaN                                                                                                                   \n",
       "CVN_02_R1.fastq.gz.polyATrim.adapterTrim.rmRep....                                                NaN                                                                                                                   \n",
       "CVN_03_R1.fastq.gz.polyATrim.adapterTrim.rmRep....                                                NaN                                                                                                                   \n",
       "CVN_04_R1.fastq.gz.polyATrim.adapterTrim.rmRep....                                                NaN                                                                                                                   \n",
       "CVN_05_R1.fastq.gz.polyATrim.adapterTrim.rmRep....                                                NaN                                                                                                                   \n",
       "\n",
       "                                                    isoform1=junction:chr10:101476219-101480743:-|isoform2=junction:chr10:101478258-101480743:-@exon:chr10:101478103-101478257:-@junction:chr10:101476219-101478102:-  \\\n",
       "CVN_01_R1.fastq.gz.polyATrim.adapterTrim.rmRep....                                                NaN                                                                                                                   \n",
       "CVN_02_R1.fastq.gz.polyATrim.adapterTrim.rmRep....                                                NaN                                                                                                                   \n",
       "CVN_03_R1.fastq.gz.polyATrim.adapterTrim.rmRep....                                                NaN                                                                                                                   \n",
       "CVN_04_R1.fastq.gz.polyATrim.adapterTrim.rmRep....                                                NaN                                                                                                                   \n",
       "CVN_05_R1.fastq.gz.polyATrim.adapterTrim.rmRep....                                                1.0                                                                                                                   \n",
       "\n",
       "                                                    isoform1=junction:chr10:101507148-101514285:+|isoform2=junction:chr10:101507148-101510125:+@exon:chr10:101510126-101510153:+@junction:chr10:101510154-101514285:+  \\\n",
       "CVN_01_R1.fastq.gz.polyATrim.adapterTrim.rmRep....                                                1.0                                                                                                                   \n",
       "CVN_02_R1.fastq.gz.polyATrim.adapterTrim.rmRep....                                                NaN                                                                                                                   \n",
       "CVN_03_R1.fastq.gz.polyATrim.adapterTrim.rmRep....                                                NaN                                                                                                                   \n",
       "CVN_04_R1.fastq.gz.polyATrim.adapterTrim.rmRep....                                                NaN                                                                                                                   \n",
       "CVN_05_R1.fastq.gz.polyATrim.adapterTrim.rmRep....                                                NaN                                                                                                                   \n",
       "\n",
       "                                                    isoform1=junction:chr10:101507148-101515381:+|isoform2=junction:chr10:101507148-101514285:+@exon:chr10:101514286-101514391:+@junction:chr10:101514392-101515381:+  \\\n",
       "CVN_01_R1.fastq.gz.polyATrim.adapterTrim.rmRep....                                                NaN                                                                                                                   \n",
       "CVN_02_R1.fastq.gz.polyATrim.adapterTrim.rmRep....                                                NaN                                                                                                                   \n",
       "CVN_03_R1.fastq.gz.polyATrim.adapterTrim.rmRep....                                                NaN                                                                                                                   \n",
       "CVN_04_R1.fastq.gz.polyATrim.adapterTrim.rmRep....                                                NaN                                                                                                                   \n",
       "CVN_05_R1.fastq.gz.polyATrim.adapterTrim.rmRep....                                                NaN                                                                                                                   \n",
       "\n",
       "                                                    isoform1=junction:chr10:101507148-101515381:+|isoform2=junction:chr10:101507148-101514285:+@novel_exon:chr10:101514286-101514333:+@junction:chr10:101514334-101515381:+  \\\n",
       "CVN_01_R1.fastq.gz.polyATrim.adapterTrim.rmRep....                                                NaN                                                                                                                         \n",
       "CVN_02_R1.fastq.gz.polyATrim.adapterTrim.rmRep....                                                NaN                                                                                                                         \n",
       "CVN_03_R1.fastq.gz.polyATrim.adapterTrim.rmRep....                                                NaN                                                                                                                         \n",
       "CVN_04_R1.fastq.gz.polyATrim.adapterTrim.rmRep....                                                NaN                                                                                                                         \n",
       "CVN_05_R1.fastq.gz.polyATrim.adapterTrim.rmRep....                                                NaN                                                                                                                         \n",
       "\n",
       "                                                                                                                                                            ...                                                                                                            \\\n",
       "CVN_01_R1.fastq.gz.polyATrim.adapterTrim.rmRep....                                                                                                          ...                                                                                                             \n",
       "CVN_02_R1.fastq.gz.polyATrim.adapterTrim.rmRep....                                                                                                          ...                                                                                                             \n",
       "CVN_03_R1.fastq.gz.polyATrim.adapterTrim.rmRep....                                                                                                          ...                                                                                                             \n",
       "CVN_04_R1.fastq.gz.polyATrim.adapterTrim.rmRep....                                                                                                          ...                                                                                                             \n",
       "CVN_05_R1.fastq.gz.polyATrim.adapterTrim.rmRep....                                                                                                          ...                                                                                                             \n",
       "\n",
       "                                                    isoform1=junction:chrY:14798536-14821320:+@exon:chrY:14821321-14821476:+@junction:chrY:14821477-14832521:+|isoform2=junction:chrY:14798536-14813938:+@novel_exon:chrY:14813939-14813984:+@junction:chrY:14813985-14832521:+  \\\n",
       "CVN_01_R1.fastq.gz.polyATrim.adapterTrim.rmRep....                                                NaN                                                                                                                                                                             \n",
       "CVN_02_R1.fastq.gz.polyATrim.adapterTrim.rmRep....                                                NaN                                                                                                                                                                             \n",
       "CVN_03_R1.fastq.gz.polyATrim.adapterTrim.rmRep....                                                NaN                                                                                                                                                                             \n",
       "CVN_04_R1.fastq.gz.polyATrim.adapterTrim.rmRep....                                                NaN                                                                                                                                                                             \n",
       "CVN_05_R1.fastq.gz.polyATrim.adapterTrim.rmRep....                                                NaN                                                                                                                                                                             \n",
       "\n",
       "                                                    isoform1=junction:chrY:14802371-14820566:+@exon:chrY:14820567-14820626:+@junction:chrY:14820627-14820885:+|isoform2=junction:chrY:14802371-14813938:+@novel_exon:chrY:14813939-14813984:+@junction:chrY:14813985-14820885:+  \\\n",
       "CVN_01_R1.fastq.gz.polyATrim.adapterTrim.rmRep....                                                NaN                                                                                                                                                                             \n",
       "CVN_02_R1.fastq.gz.polyATrim.adapterTrim.rmRep....                                                NaN                                                                                                                                                                             \n",
       "CVN_03_R1.fastq.gz.polyATrim.adapterTrim.rmRep....                                                NaN                                                                                                                                                                             \n",
       "CVN_04_R1.fastq.gz.polyATrim.adapterTrim.rmRep....                                                NaN                                                                                                                                                                             \n",
       "CVN_05_R1.fastq.gz.polyATrim.adapterTrim.rmRep....                                                NaN                                                                                                                                                                             \n",
       "\n",
       "                                                    isoform1=junction:chrY:14802371-14820566:+@exon:chrY:14820567-14820626:+@junction:chrY:14820627-14821320:+|isoform2=junction:chrY:14802371-14813938:+@novel_exon:chrY:14813939-14813984:+@junction:chrY:14813985-14821320:+  \\\n",
       "CVN_01_R1.fastq.gz.polyATrim.adapterTrim.rmRep....                                                NaN                                                                                                                                                                             \n",
       "CVN_02_R1.fastq.gz.polyATrim.adapterTrim.rmRep....                                                NaN                                                                                                                                                                             \n",
       "CVN_03_R1.fastq.gz.polyATrim.adapterTrim.rmRep....                                                NaN                                                                                                                                                                             \n",
       "CVN_04_R1.fastq.gz.polyATrim.adapterTrim.rmRep....                                                NaN                                                                                                                                                                             \n",
       "CVN_05_R1.fastq.gz.polyATrim.adapterTrim.rmRep....                                                NaN                                                                                                                                                                             \n",
       "\n",
       "                                                    isoform1=junction:chrY:14813985-14820885:+@novel_exon:chrY:14820886-14820960:+@junction:chrY:14820961-14821320:+|isoform2=junction:chrY:14813985-14820566:+@exon:chrY:14820567-14820626:+@junction:chrY:14820627-14821320:+  \\\n",
       "CVN_01_R1.fastq.gz.polyATrim.adapterTrim.rmRep....                                                NaN                                                                                                                                                                             \n",
       "CVN_02_R1.fastq.gz.polyATrim.adapterTrim.rmRep....                                                NaN                                                                                                                                                                             \n",
       "CVN_03_R1.fastq.gz.polyATrim.adapterTrim.rmRep....                                                NaN                                                                                                                                                                             \n",
       "CVN_04_R1.fastq.gz.polyATrim.adapterTrim.rmRep....                                                NaN                                                                                                                                                                             \n",
       "CVN_05_R1.fastq.gz.polyATrim.adapterTrim.rmRep....                                                NaN                                                                                                                                                                             \n",
       "\n",
       "                                                    isoform1=junction:chrY:14891581-14902339:+@exon:chrY:14902340-14902465:+@junction:chrY:14902466-14903431:+|isoform2=junction:chrY:14891581-14898454:+@exon:chrY:14898455-14898733:+@junction:chrY:14898734-14903431:+  \\\n",
       "CVN_01_R1.fastq.gz.polyATrim.adapterTrim.rmRep....                                                NaN                                                                                                                                                                       \n",
       "CVN_02_R1.fastq.gz.polyATrim.adapterTrim.rmRep....                                                NaN                                                                                                                                                                       \n",
       "CVN_03_R1.fastq.gz.polyATrim.adapterTrim.rmRep....                                                NaN                                                                                                                                                                       \n",
       "CVN_04_R1.fastq.gz.polyATrim.adapterTrim.rmRep....                                                NaN                                                                                                                                                                       \n",
       "CVN_05_R1.fastq.gz.polyATrim.adapterTrim.rmRep....                                                NaN                                                                                                                                                                       \n",
       "\n",
       "                                                    isoform1=junction:chrY:15470434-15471646:-@exon:chrY:15470344-15470433:-@junction:chrY:15469850-15470343:-|isoform2=junction:chrY:15471103-15471646:-@exon:chrY:15470968-15471102:-@junction:chrY:15469850-15470967:-  \\\n",
       "CVN_01_R1.fastq.gz.polyATrim.adapterTrim.rmRep....                                                NaN                                                                                                                                                                       \n",
       "CVN_02_R1.fastq.gz.polyATrim.adapterTrim.rmRep....                                                NaN                                                                                                                                                                       \n",
       "CVN_03_R1.fastq.gz.polyATrim.adapterTrim.rmRep....                                                NaN                                                                                                                                                                       \n",
       "CVN_04_R1.fastq.gz.polyATrim.adapterTrim.rmRep....                                                NaN                                                                                                                                                                       \n",
       "CVN_05_R1.fastq.gz.polyATrim.adapterTrim.rmRep....                                                NaN                                                                                                                                                                       \n",
       "\n",
       "                                                    isoform1=junction:chrY:16634822-16831338:+@exon:chrY:16831339-16831398:+@junction:chrY:16831399-16834996:+|isoform2=junction:chrY:16634822-16733888:+@exon:chrY:16733889-16734471:+@junction:chrY:16734472-16834996:+  \\\n",
       "CVN_01_R1.fastq.gz.polyATrim.adapterTrim.rmRep....                                                1.0                                                                                                                                                                       \n",
       "CVN_02_R1.fastq.gz.polyATrim.adapterTrim.rmRep....                                                NaN                                                                                                                                                                       \n",
       "CVN_03_R1.fastq.gz.polyATrim.adapterTrim.rmRep....                                                NaN                                                                                                                                                                       \n",
       "CVN_04_R1.fastq.gz.polyATrim.adapterTrim.rmRep....                                                NaN                                                                                                                                                                       \n",
       "CVN_05_R1.fastq.gz.polyATrim.adapterTrim.rmRep....                                                NaN                                                                                                                                                                       \n",
       "\n",
       "                                                    isoform1=junction:chrY:21207178-21237826:-@exon:chrY:21207128-21207177:-@junction:chrY:21206582-21207127:-|isoform2=junction:chrY:21230685-21237826:-@exon:chrY:21230610-21230684:-@junction:chrY:21206582-21230609:-  \\\n",
       "CVN_01_R1.fastq.gz.polyATrim.adapterTrim.rmRep....                                                NaN                                                                                                                                                                       \n",
       "CVN_02_R1.fastq.gz.polyATrim.adapterTrim.rmRep....                                                NaN                                                                                                                                                                       \n",
       "CVN_03_R1.fastq.gz.polyATrim.adapterTrim.rmRep....                                                NaN                                                                                                                                                                       \n",
       "CVN_04_R1.fastq.gz.polyATrim.adapterTrim.rmRep....                                                NaN                                                                                                                                                                       \n",
       "CVN_05_R1.fastq.gz.polyATrim.adapterTrim.rmRep....                                                NaN                                                                                                                                                                       \n",
       "\n",
       "                                                    isoform1=junction:chrY:21749394-21753665:+@exon:chrY:21753666-21753845:+@junction:chrY:21753846-21755284:+|isoform2=junction:chrY:21749394-21751406:+@exon:chrY:21751407-21751498:+@junction:chrY:21751499-21755284:+  \\\n",
       "CVN_01_R1.fastq.gz.polyATrim.adapterTrim.rmRep....                                                NaN                                                                                                                                                                       \n",
       "CVN_02_R1.fastq.gz.polyATrim.adapterTrim.rmRep....                                                NaN                                                                                                                                                                       \n",
       "CVN_03_R1.fastq.gz.polyATrim.adapterTrim.rmRep....                                                NaN                                                                                                                                                                       \n",
       "CVN_04_R1.fastq.gz.polyATrim.adapterTrim.rmRep....                                                NaN                                                                                                                                                                       \n",
       "CVN_05_R1.fastq.gz.polyATrim.adapterTrim.rmRep....                                                NaN                                                                                                                                                                       \n",
       "\n",
       "                                                    isoform1=junction:chrY:21901549-21903620:-@exon:chrY:21901414-21901548:-@junction:chrY:21897637-21901413:-|isoform2=junction:chrY:21903375-21903620:-@exon:chrY:21903204-21903374:-@junction:chrY:21897637-21903203:-  \n",
       "CVN_01_R1.fastq.gz.polyATrim.adapterTrim.rmRep....                                                NaN                                                                                                                                                                      \n",
       "CVN_02_R1.fastq.gz.polyATrim.adapterTrim.rmRep....                                                NaN                                                                                                                                                                      \n",
       "CVN_03_R1.fastq.gz.polyATrim.adapterTrim.rmRep....                                                NaN                                                                                                                                                                      \n",
       "CVN_04_R1.fastq.gz.polyATrim.adapterTrim.rmRep....                                                NaN                                                                                                                                                                      \n",
       "CVN_05_R1.fastq.gz.polyATrim.adapterTrim.rmRep....                                                NaN                                                                                                                                                                      \n",
       "\n",
       "[5 rows x 26987 columns]"
      ]
     },
     "execution_count": 77,
     "metadata": {},
     "output_type": "execute_result"
    }
   ],
   "source": [
    "psi = pd.read_csv('{}/psi.csv'.format(csv_folder), index_col=0)\n",
    "print(psi.shape)\n",
    "psi.head()"
   ]
  },
  {
   "cell_type": "code",
   "execution_count": 78,
   "metadata": {
    "collapsed": true
   },
   "outputs": [],
   "source": [
    "# bed_folder = '/projects/ps-yeolab/obotvinnik/singlecell_pnms/bed'"
   ]
  },
  {
   "cell_type": "code",
   "execution_count": 79,
   "metadata": {
    "collapsed": false
   },
   "outputs": [],
   "source": [
    "# junction_exons = pd.read_csv('{}/junction_exon_triples.csv'.format(folder))\n",
    "# print junction_exons.shape\n",
    "# junction_exons.head()"
   ]
  },
  {
   "cell_type": "markdown",
   "metadata": {},
   "source": [
    "## Get exon2 from SE and MXE events\n",
    "\n",
    "The `splicing` matrix includes both SE and MXE events. The second exon in each of them is \"exon2\", or the exon which is included when Psi=1."
   ]
  },
  {
   "cell_type": "code",
   "execution_count": 80,
   "metadata": {
    "collapsed": true
   },
   "outputs": [],
   "source": [
    "import re"
   ]
  },
  {
   "cell_type": "code",
   "execution_count": 81,
   "metadata": {
    "collapsed": true
   },
   "outputs": [],
   "source": [
    "se_event_id = 'isoform1=junction:chr10:100189400-100190327:-|isoform2=junction:chr10:100189647-100190327:-@exon:chr10:100189548-100189646:-@junction:chr10:100189400-100189547:-'\n",
    "mxe_event_id = 'isoform1=junction:chrY:14802371-14820566:+@exon:chrY:14820567-14820626:+@junction:chrY:14820627-14820885:+|isoform2=junction:chrY:14802371-14813938:+@novel_exon:chrY:14813939-14813984:+@junction:chrY:14813985-14820885:+'\n",
    "pattern = 'isoform2=[a-z0-9:-]@(exon[a-z0-9:-])@'\n",
    "\n",
    "re.match(pattern, se_event_id)"
   ]
  },
  {
   "cell_type": "code",
   "execution_count": 82,
   "metadata": {
    "collapsed": false
   },
   "outputs": [
    {
     "data": {
      "text/plain": [
       "'exon:chr10:100189548-100189646:-'"
      ]
     },
     "execution_count": 82,
     "metadata": {},
     "output_type": "execute_result"
    }
   ],
   "source": [
    "def extract_exon(event_id):\n",
    "    return event_id.split('|')[1].split('@')[1]\n",
    "\n",
    "extract_exon(se_event_id)"
   ]
  },
  {
   "cell_type": "code",
   "execution_count": 83,
   "metadata": {
    "collapsed": false
   },
   "outputs": [
    {
     "data": {
      "text/plain": [
       "'novel_exon:chrY:14813939-14813984:+'"
      ]
     },
     "execution_count": 83,
     "metadata": {},
     "output_type": "execute_result"
    }
   ],
   "source": [
    "extract_exon(mxe_event_id)"
   ]
  },
  {
   "cell_type": "code",
   "execution_count": 84,
   "metadata": {
    "collapsed": false
   },
   "outputs": [
    {
     "name": "stdout",
     "output_type": "stream",
     "text": [
      "26987\n"
     ]
    },
    {
     "data": {
      "text/plain": [
       "0          exon:chr10:100189548-100189646:-\n",
       "1          exon:chr10:100190888-100191048:-\n",
       "2          exon:chr10:100195029-100195171:-\n",
       "3          exon:chr10:101163481-101163631:-\n",
       "4    novel_exon:chr10:101191687-101191705:+\n",
       "5          exon:chr10:101419619-101419721:+\n",
       "6          exon:chr10:101478103-101478257:-\n",
       "7          exon:chr10:101510126-101510153:+\n",
       "8          exon:chr10:101514286-101514391:+\n",
       "9    novel_exon:chr10:101514286-101514333:+\n",
       "dtype: object"
      ]
     },
     "execution_count": 84,
     "metadata": {},
     "output_type": "execute_result"
    }
   ],
   "source": [
    "import re\n",
    "\n",
    "exon2s = pd.Series(psi.columns.map(extract_exon))\n",
    "print(len(exon2s))\n",
    "exon2s[:10]"
   ]
  },
  {
   "cell_type": "markdown",
   "metadata": {},
   "source": [
    "### Write Exon2 from SE and MXE to bed file"
   ]
  },
  {
   "cell_type": "code",
   "execution_count": 85,
   "metadata": {
    "collapsed": false
   },
   "outputs": [
    {
     "name": "stdout",
     "output_type": "stream",
     "text": [
      "(26987, 6)\n"
     ]
    },
    {
     "data": {
      "text/html": [
       "<div>\n",
       "<table border=\"1\" class=\"dataframe\">\n",
       "  <thead>\n",
       "    <tr style=\"text-align: right;\">\n",
       "      <th></th>\n",
       "      <th>chrom</th>\n",
       "      <th>start</th>\n",
       "      <th>stop</th>\n",
       "      <th>name</th>\n",
       "      <th>score</th>\n",
       "      <th>strand</th>\n",
       "    </tr>\n",
       "  </thead>\n",
       "  <tbody>\n",
       "    <tr>\n",
       "      <th>0</th>\n",
       "      <td>chr10</td>\n",
       "      <td>100189548</td>\n",
       "      <td>100189646</td>\n",
       "      <td>isoform1=junction:chr10:100189400-100190327:-|...</td>\n",
       "      <td>1000</td>\n",
       "      <td>-</td>\n",
       "    </tr>\n",
       "    <tr>\n",
       "      <th>1</th>\n",
       "      <td>chr10</td>\n",
       "      <td>100190888</td>\n",
       "      <td>100191048</td>\n",
       "      <td>isoform1=junction:chr10:100190428-100193696:-|...</td>\n",
       "      <td>1000</td>\n",
       "      <td>-</td>\n",
       "    </tr>\n",
       "    <tr>\n",
       "      <th>2</th>\n",
       "      <td>chr10</td>\n",
       "      <td>100195029</td>\n",
       "      <td>100195171</td>\n",
       "      <td>isoform1=junction:chr10:100193849-100195391:-|...</td>\n",
       "      <td>1000</td>\n",
       "      <td>-</td>\n",
       "    </tr>\n",
       "    <tr>\n",
       "      <th>3</th>\n",
       "      <td>chr10</td>\n",
       "      <td>101163481</td>\n",
       "      <td>101163631</td>\n",
       "      <td>isoform1=junction:chr10:101163392-101165512:-|...</td>\n",
       "      <td>1000</td>\n",
       "      <td>-</td>\n",
       "    </tr>\n",
       "    <tr>\n",
       "      <th>4</th>\n",
       "      <td>chr10</td>\n",
       "      <td>101191687</td>\n",
       "      <td>101191705</td>\n",
       "      <td>isoform1=junction:chr10:101191023-101193302:+|...</td>\n",
       "      <td>1000</td>\n",
       "      <td>+</td>\n",
       "    </tr>\n",
       "  </tbody>\n",
       "</table>\n",
       "</div>"
      ],
      "text/plain": [
       "   chrom      start       stop  \\\n",
       "0  chr10  100189548  100189646   \n",
       "1  chr10  100190888  100191048   \n",
       "2  chr10  100195029  100195171   \n",
       "3  chr10  101163481  101163631   \n",
       "4  chr10  101191687  101191705   \n",
       "\n",
       "                                                name  score strand  \n",
       "0  isoform1=junction:chr10:100189400-100190327:-|...   1000      -  \n",
       "1  isoform1=junction:chr10:100190428-100193696:-|...   1000      -  \n",
       "2  isoform1=junction:chr10:100193849-100195391:-|...   1000      -  \n",
       "3  isoform1=junction:chr10:101163392-101165512:-|...   1000      -  \n",
       "4  isoform1=junction:chr10:101191023-101193302:+|...   1000      +  "
      ]
     },
     "execution_count": 85,
     "metadata": {},
     "output_type": "execute_result"
    }
   ],
   "source": [
    "from outrigger.region import Region\n",
    "\n",
    "exon2_regions = exon2s.map(Region)\n",
    "\n",
    "exon2_bed = pd.DataFrame.from_records(exon2_regions.map(\n",
    "    lambda x: pd.Series(dict(chrom=x.chrom, start=x.start, stop=x.stop, strand=x.strand, score=1000))))\n",
    "\n",
    "exon2_bed['name'] = psi.columns\n",
    "exon2_bed = exon2_bed.reindex(columns=['chrom', 'start', 'stop', 'name', 'score', 'strand'])\n",
    "\n",
    "print exon2_bed.shape\n",
    "exon2_bed.head()"
   ]
  },
  {
   "cell_type": "code",
   "execution_count": 86,
   "metadata": {
    "collapsed": false
   },
   "outputs": [
    {
     "data": {
      "text/plain": [
       "name\n",
       "isoform1=junction:chr10:100189400-100190327:-|isoform2=junction:chr10:100189647-100190327:-@exon:chr10:100189548-100189646:-@junction:chr10:100189400-100189547:-           99\n",
       "isoform1=junction:chr10:100190428-100193696:-|isoform2=junction:chr10:100191049-100193696:-@exon:chr10:100190888-100191048:-@junction:chr10:100190428-100190887:-          161\n",
       "isoform1=junction:chr10:100193849-100195391:-|isoform2=junction:chr10:100195172-100195391:-@exon:chr10:100195029-100195171:-@junction:chr10:100193849-100195028:-          143\n",
       "isoform1=junction:chr10:101163392-101165512:-|isoform2=junction:chr10:101163632-101165512:-@exon:chr10:101163481-101163631:-@junction:chr10:101163392-101163480:-          151\n",
       "isoform1=junction:chr10:101191023-101193302:+|isoform2=junction:chr10:101191023-101191686:+@novel_exon:chr10:101191687-101191705:+@junction:chr10:101191706-101193302:+     19\n",
       "dtype: int64"
      ]
     },
     "execution_count": 86,
     "metadata": {},
     "output_type": "execute_result"
    }
   ],
   "source": [
    "exon2_lengths = exon2_regions.map(len)\n",
    "exon2_lengths.index = exon2_bed.name\n",
    "exon2_lengths.head()"
   ]
  },
  {
   "cell_type": "markdown",
   "metadata": {},
   "source": [
    "## Remove the length=1 exons from the dataset"
   ]
  },
  {
   "cell_type": "code",
   "execution_count": 87,
   "metadata": {
    "collapsed": false
   },
   "outputs": [
    {
     "data": {
      "text/plain": [
       "name\n",
       "isoform1=junction:chr1:156264357-156265316:-|isoform2=junction:chr1:156264551-156265316:-@novel_exon:chr1:156264550-156264550:-@junction:chr1:156264357-156264549:-    1\n",
       "isoform1=junction:chr7:44161709-44163109:-|isoform2=junction:chr7:44161882-44163109:-@novel_exon:chr7:44161881-44161881:-@junction:chr7:44161709-44161880:-            1\n",
       "isoform1=junction:chr7:44161795-44163109:-|isoform2=junction:chr7:44161882-44163109:-@novel_exon:chr7:44161881-44161881:-@junction:chr7:44161795-44161880:-            1\n",
       "dtype: int64"
      ]
     },
     "execution_count": 87,
     "metadata": {},
     "output_type": "execute_result"
    }
   ],
   "source": [
    "length1_exons = exon2_lengths[exon2_lengths < 2]\n",
    "length1_exons"
   ]
  },
  {
   "cell_type": "code",
   "execution_count": 88,
   "metadata": {
    "collapsed": false
   },
   "outputs": [
    {
     "data": {
      "text/plain": [
       "(299, 26987)"
      ]
     },
     "execution_count": 88,
     "metadata": {},
     "output_type": "execute_result"
    }
   ],
   "source": [
    "psi.shape"
   ]
  },
  {
   "cell_type": "code",
   "execution_count": 89,
   "metadata": {
    "collapsed": false
   },
   "outputs": [
    {
     "data": {
      "text/plain": [
       "(292, 26984)"
      ]
     },
     "execution_count": 89,
     "metadata": {},
     "output_type": "execute_result"
    }
   ],
   "source": [
    "psi.loc[:, exon2_lengths > 1].dropna(how='all').shape"
   ]
  },
  {
   "cell_type": "code",
   "execution_count": 90,
   "metadata": {
    "collapsed": true
   },
   "outputs": [],
   "source": [
    "psi.to_csv('{}/psi.csv'.format(csv_folder))\n",
    "psi.to_csv('{}/splicing.csv'.format(csv_folder))"
   ]
  },
  {
   "cell_type": "code",
   "execution_count": 91,
   "metadata": {
    "collapsed": false
   },
   "outputs": [
    {
     "name": "stdout",
     "output_type": "stream",
     "text": [
      "(26987, 6)\n",
      "(26984, 6)\n"
     ]
    }
   ],
   "source": [
    "print(exon2_bed.shape)\n",
    "exon2_bed = exon2_bed.query('stop > start')\n",
    "print(exon2_bed.shape)"
   ]
  },
  {
   "cell_type": "code",
   "execution_count": 92,
   "metadata": {
    "collapsed": true
   },
   "outputs": [],
   "source": [
    "figure_folder = 'figures/009_constitutive_and_alternative_exons,_write_bed'\n",
    "! mkdir -p $figure_folder"
   ]
  },
  {
   "cell_type": "code",
   "execution_count": 93,
   "metadata": {
    "collapsed": false
   },
   "outputs": [
    {
     "data": {
      "image/png": "[encoded data removed]",
      "text/plain": [
       "<matplotlib.figure.Figure at 0x2aac6eda61d0>"
      ]
     },
     "metadata": {},
     "output_type": "display_data"
    }
   ],
   "source": [
    "import seaborn as sns\n",
    "import matplotlib.pyplot as plt\n",
    "%matplotlib inline\n",
    "\n",
    "fig, ax = plt.subplots(figsize=(3, 2))\n",
    "sns.distplot(np.log10(exon2_lengths), kde=False)\n",
    "xticks = [int(x) for x in ax.get_xticks()]\n",
    "xticklabels = ['$10^{x}$'.format(x=x) for x in xticks]\n",
    "ax.set(xticks=xticks, xticklabels=xticklabels, title='Alternative exon lengths');\n",
    "fig.savefig('{}/exon2_length_distribution.pdf'.format(figure_folder))"
   ]
  },
  {
   "cell_type": "code",
   "execution_count": 94,
   "metadata": {
    "collapsed": true
   },
   "outputs": [],
   "source": [
    "exon2_bed.to_csv('{}/exons.bed'.format(alternative_feature_folder), index=False, header=False, sep='\\t')"
   ]
  },
  {
   "cell_type": "markdown",
   "metadata": {},
   "source": [
    "## Get constitutive exons\n",
    "\n",
    "### Use exons that are psi==1 in all celltypes"
   ]
  },
  {
   "cell_type": "code",
   "execution_count": 95,
   "metadata": {
    "collapsed": false
   },
   "outputs": [
    {
     "name": "stdout",
     "output_type": "stream",
     "text": [
      "constutitively1.shape (299, 6872)\n"
     ]
    },
    {
     "data": {
      "text/html": [
       "<div>\n",
       "<table border=\"1\" class=\"dataframe\">\n",
       "  <thead>\n",
       "    <tr style=\"text-align: right;\">\n",
       "      <th></th>\n",
       "      <th>isoform1=junction:chr10:101421386-101439481:+|isoform2=junction:chr10:101421386-101439017:+@exon:chr10:101439018-101439223:+@junction:chr10:101439224-101439481:+</th>\n",
       "      <th>isoform1=junction:chr10:102013297-102020722:-|isoform2=junction:chr10:102020077-102020722:-@exon:chr10:102019975-102020076:-@junction:chr10:102013297-102019974:-</th>\n",
       "      <th>isoform1=junction:chr10:102703886-102706795:+|isoform2=junction:chr10:102703886-102705086:+@exon:chr10:102705087-102705263:+@junction:chr10:102705264-102706795:+</th>\n",
       "      <th>isoform1=junction:chr10:103904848-103908128:+|isoform2=junction:chr10:103904848-103906428:+@exon:chr10:103906429-103907149:+@junction:chr10:103907150-103908128:+</th>\n",
       "      <th>isoform1=junction:chr10:103912288-103917805:+|isoform2=junction:chr10:103912288-103916775:+@exon:chr10:103916776-103916831:+@junction:chr10:103916832-103917805:+</th>\n",
       "      <th>isoform1=junction:chr10:103912288-103919189:+|isoform2=junction:chr10:103912288-103918949:+@exon:chr10:103918950-103919065:+@junction:chr10:103919066-103919189:+</th>\n",
       "      <th>isoform1=junction:chr10:103912288-103919189:+|isoform2=junction:chr10:103912288-103918949:+@exon:chr10:103918950-103919095:+@junction:chr10:103919096-103919189:+</th>\n",
       "      <th>isoform1=junction:chr10:104111709-104113356:+|isoform2=junction:chr10:104111709-104112214:+@exon:chr10:104112215-104112275:+@junction:chr10:104112276-104113356:+</th>\n",
       "      <th>isoform1=junction:chr10:104240930-104241757:-|isoform2=junction:chr10:104241656-104241757:-@exon:chr10:104241594-104241655:-@junction:chr10:104240930-104241593:-</th>\n",
       "      <th>isoform1=junction:chr10:104240930-104241757:-|isoform2=junction:chr10:104241677-104241757:-@novel_exon:chr10:104241594-104241676:-@junction:chr10:104240930-104241593:-</th>\n",
       "      <th>...</th>\n",
       "      <th>isoform1=junction:chrY:14813985-14820881:+@novel_exon:chrY:14820882-14820960:+@junction:chrY:14820961-14821320:+|isoform2=junction:chrY:14813985-14820566:+@exon:chrY:14820567-14820626:+@junction:chrY:14820627-14821320:+</th>\n",
       "      <th>isoform1=junction:chrY:15024975-15026475:+@exon:chrY:15026476-15026561:+@junction:chrY:15026562-15026978:+|isoform2=junction:chrY:15024975-15025629:+@exon:chrY:15025630-15025765:+@junction:chrY:15025766-15026978:+</th>\n",
       "      <th>isoform1=junction:chrY:21094728-21206547:-@novel_exon:chrY:21094629-21094727:-@junction:chrY:21039092-21094628:-|isoform2=junction:chrY:21205233-21206547:-@exon:chrY:21205049-21205232:-@junction:chrY:21039092-21205048:-</th>\n",
       "      <th>isoform1=junction:chrY:21749394-21750428:+@exon:chrY:21750429-21750536:+@junction:chrY:21750537-21751406:+|isoform2=junction:chrY:21749394-21750255:+@novel_exon:chrY:21750256-21750297:+@junction:chrY:21750298-21751406:+</th>\n",
       "      <th>isoform1=junction:chrY:21749394-21753665:+@exon:chrY:21753666-21753845:+@junction:chrY:21753846-21755284:+|isoform2=junction:chrY:21749394-21750255:+@exon:chrY:21750256-21751498:+@junction:chrY:21751499-21755284:+</th>\n",
       "      <th>isoform1=junction:chrY:2709669-2712117:+@exon:chrY:2712118-2712298:+@junction:chrY:2712299-2713686:+|isoform2=junction:chrY:2709669-2710205:+@exon:chrY:2710206-2710283:+@junction:chrY:2710284-2713686:+</th>\n",
       "      <th>isoform1=junction:chrY:2710284-2713686:+@exon:chrY:2713687-2713784:+@junction:chrY:2713785-2722640:+|isoform2=junction:chrY:2710284-2712117:+@exon:chrY:2712118-2712298:+@junction:chrY:2712299-2722640:+</th>\n",
       "      <th>isoform1=junction:chrY:2712299-2722640:+@exon:chrY:2722641-2722812:+@junction:chrY:2722813-2733128:+|isoform2=junction:chrY:2712299-2713686:+@exon:chrY:2713687-2713784:+@junction:chrY:2713785-2733128:+</th>\n",
       "      <th>isoform1=junction:chrY:2712299-2722640:+@exon:chrY:2722641-2722812:+@junction:chrY:2722813-2734833:+|isoform2=junction:chrY:2712299-2713686:+@exon:chrY:2713687-2713784:+@junction:chrY:2713785-2734833:+</th>\n",
       "      <th>isoform1=junction:chrY:2713785-2733128:+@exon:chrY:2733129-2733286:+@junction:chrY:2733287-2734833:+|isoform2=junction:chrY:2713785-2722640:+@exon:chrY:2722641-2722812:+@junction:chrY:2722813-2734833:+</th>\n",
       "    </tr>\n",
       "  </thead>\n",
       "  <tbody>\n",
       "    <tr>\n",
       "      <th>CVN_01_R1.fastq.gz.polyATrim.adapterTrim.rmRep.sorted.rg.bam</th>\n",
       "      <td>NaN</td>\n",
       "      <td>NaN</td>\n",
       "      <td>NaN</td>\n",
       "      <td>NaN</td>\n",
       "      <td>NaN</td>\n",
       "      <td>NaN</td>\n",
       "      <td>NaN</td>\n",
       "      <td>NaN</td>\n",
       "      <td>1.0</td>\n",
       "      <td>NaN</td>\n",
       "      <td>...</td>\n",
       "      <td>NaN</td>\n",
       "      <td>NaN</td>\n",
       "      <td>NaN</td>\n",
       "      <td>NaN</td>\n",
       "      <td>NaN</td>\n",
       "      <td>NaN</td>\n",
       "      <td>NaN</td>\n",
       "      <td>NaN</td>\n",
       "      <td>NaN</td>\n",
       "      <td>NaN</td>\n",
       "    </tr>\n",
       "    <tr>\n",
       "      <th>CVN_02_R1.fastq.gz.polyATrim.adapterTrim.rmRep.sorted.rg.bam</th>\n",
       "      <td>NaN</td>\n",
       "      <td>NaN</td>\n",
       "      <td>NaN</td>\n",
       "      <td>NaN</td>\n",
       "      <td>NaN</td>\n",
       "      <td>NaN</td>\n",
       "      <td>NaN</td>\n",
       "      <td>NaN</td>\n",
       "      <td>NaN</td>\n",
       "      <td>NaN</td>\n",
       "      <td>...</td>\n",
       "      <td>NaN</td>\n",
       "      <td>NaN</td>\n",
       "      <td>NaN</td>\n",
       "      <td>NaN</td>\n",
       "      <td>NaN</td>\n",
       "      <td>NaN</td>\n",
       "      <td>NaN</td>\n",
       "      <td>NaN</td>\n",
       "      <td>NaN</td>\n",
       "      <td>NaN</td>\n",
       "    </tr>\n",
       "    <tr>\n",
       "      <th>CVN_03_R1.fastq.gz.polyATrim.adapterTrim.rmRep.sorted.rg.bam</th>\n",
       "      <td>NaN</td>\n",
       "      <td>NaN</td>\n",
       "      <td>NaN</td>\n",
       "      <td>NaN</td>\n",
       "      <td>NaN</td>\n",
       "      <td>NaN</td>\n",
       "      <td>NaN</td>\n",
       "      <td>NaN</td>\n",
       "      <td>NaN</td>\n",
       "      <td>NaN</td>\n",
       "      <td>...</td>\n",
       "      <td>NaN</td>\n",
       "      <td>NaN</td>\n",
       "      <td>NaN</td>\n",
       "      <td>NaN</td>\n",
       "      <td>NaN</td>\n",
       "      <td>NaN</td>\n",
       "      <td>NaN</td>\n",
       "      <td>NaN</td>\n",
       "      <td>NaN</td>\n",
       "      <td>NaN</td>\n",
       "    </tr>\n",
       "    <tr>\n",
       "      <th>CVN_04_R1.fastq.gz.polyATrim.adapterTrim.rmRep.sorted.rg.bam</th>\n",
       "      <td>NaN</td>\n",
       "      <td>NaN</td>\n",
       "      <td>NaN</td>\n",
       "      <td>NaN</td>\n",
       "      <td>NaN</td>\n",
       "      <td>NaN</td>\n",
       "      <td>NaN</td>\n",
       "      <td>NaN</td>\n",
       "      <td>NaN</td>\n",
       "      <td>NaN</td>\n",
       "      <td>...</td>\n",
       "      <td>NaN</td>\n",
       "      <td>NaN</td>\n",
       "      <td>NaN</td>\n",
       "      <td>NaN</td>\n",
       "      <td>NaN</td>\n",
       "      <td>NaN</td>\n",
       "      <td>NaN</td>\n",
       "      <td>NaN</td>\n",
       "      <td>NaN</td>\n",
       "      <td>NaN</td>\n",
       "    </tr>\n",
       "    <tr>\n",
       "      <th>CVN_05_R1.fastq.gz.polyATrim.adapterTrim.rmRep.sorted.rg.bam</th>\n",
       "      <td>NaN</td>\n",
       "      <td>NaN</td>\n",
       "      <td>NaN</td>\n",
       "      <td>NaN</td>\n",
       "      <td>NaN</td>\n",
       "      <td>NaN</td>\n",
       "      <td>NaN</td>\n",
       "      <td>NaN</td>\n",
       "      <td>NaN</td>\n",
       "      <td>NaN</td>\n",
       "      <td>...</td>\n",
       "      <td>NaN</td>\n",
       "      <td>NaN</td>\n",
       "      <td>NaN</td>\n",
       "      <td>NaN</td>\n",
       "      <td>NaN</td>\n",
       "      <td>NaN</td>\n",
       "      <td>NaN</td>\n",
       "      <td>NaN</td>\n",
       "      <td>NaN</td>\n",
       "      <td>NaN</td>\n",
       "    </tr>\n",
       "  </tbody>\n",
       "</table>\n",
       "<p>5 rows × 6872 columns</p>\n",
       "</div>"
      ],
      "text/plain": [
       "                                                    isoform1=junction:chr10:101421386-101439481:+|isoform2=junction:chr10:101421386-101439017:+@exon:chr10:101439018-101439223:+@junction:chr10:101439224-101439481:+  \\\n",
       "CVN_01_R1.fastq.gz.polyATrim.adapterTrim.rmRep....                                                NaN                                                                                                                   \n",
       "CVN_02_R1.fastq.gz.polyATrim.adapterTrim.rmRep....                                                NaN                                                                                                                   \n",
       "CVN_03_R1.fastq.gz.polyATrim.adapterTrim.rmRep....                                                NaN                                                                                                                   \n",
       "CVN_04_R1.fastq.gz.polyATrim.adapterTrim.rmRep....                                                NaN                                                                                                                   \n",
       "CVN_05_R1.fastq.gz.polyATrim.adapterTrim.rmRep....                                                NaN                                                                                                                   \n",
       "\n",
       "                                                    isoform1=junction:chr10:102013297-102020722:-|isoform2=junction:chr10:102020077-102020722:-@exon:chr10:102019975-102020076:-@junction:chr10:102013297-102019974:-  \\\n",
       "CVN_01_R1.fastq.gz.polyATrim.adapterTrim.rmRep....                                                NaN                                                                                                                   \n",
       "CVN_02_R1.fastq.gz.polyATrim.adapterTrim.rmRep....                                                NaN                                                                                                                   \n",
       "CVN_03_R1.fastq.gz.polyATrim.adapterTrim.rmRep....                                                NaN                                                                                                                   \n",
       "CVN_04_R1.fastq.gz.polyATrim.adapterTrim.rmRep....                                                NaN                                                                                                                   \n",
       "CVN_05_R1.fastq.gz.polyATrim.adapterTrim.rmRep....                                                NaN                                                                                                                   \n",
       "\n",
       "                                                    isoform1=junction:chr10:102703886-102706795:+|isoform2=junction:chr10:102703886-102705086:+@exon:chr10:102705087-102705263:+@junction:chr10:102705264-102706795:+  \\\n",
       "CVN_01_R1.fastq.gz.polyATrim.adapterTrim.rmRep....                                                NaN                                                                                                                   \n",
       "CVN_02_R1.fastq.gz.polyATrim.adapterTrim.rmRep....                                                NaN                                                                                                                   \n",
       "CVN_03_R1.fastq.gz.polyATrim.adapterTrim.rmRep....                                                NaN                                                                                                                   \n",
       "CVN_04_R1.fastq.gz.polyATrim.adapterTrim.rmRep....                                                NaN                                                                                                                   \n",
       "CVN_05_R1.fastq.gz.polyATrim.adapterTrim.rmRep....                                                NaN                                                                                                                   \n",
       "\n",
       "                                                    isoform1=junction:chr10:103904848-103908128:+|isoform2=junction:chr10:103904848-103906428:+@exon:chr10:103906429-103907149:+@junction:chr10:103907150-103908128:+  \\\n",
       "CVN_01_R1.fastq.gz.polyATrim.adapterTrim.rmRep....                                                NaN                                                                                                                   \n",
       "CVN_02_R1.fastq.gz.polyATrim.adapterTrim.rmRep....                                                NaN                                                                                                                   \n",
       "CVN_03_R1.fastq.gz.polyATrim.adapterTrim.rmRep....                                                NaN                                                                                                                   \n",
       "CVN_04_R1.fastq.gz.polyATrim.adapterTrim.rmRep....                                                NaN                                                                                                                   \n",
       "CVN_05_R1.fastq.gz.polyATrim.adapterTrim.rmRep....                                                NaN                                                                                                                   \n",
       "\n",
       "                                                    isoform1=junction:chr10:103912288-103917805:+|isoform2=junction:chr10:103912288-103916775:+@exon:chr10:103916776-103916831:+@junction:chr10:103916832-103917805:+  \\\n",
       "CVN_01_R1.fastq.gz.polyATrim.adapterTrim.rmRep....                                                NaN                                                                                                                   \n",
       "CVN_02_R1.fastq.gz.polyATrim.adapterTrim.rmRep....                                                NaN                                                                                                                   \n",
       "CVN_03_R1.fastq.gz.polyATrim.adapterTrim.rmRep....                                                NaN                                                                                                                   \n",
       "CVN_04_R1.fastq.gz.polyATrim.adapterTrim.rmRep....                                                NaN                                                                                                                   \n",
       "CVN_05_R1.fastq.gz.polyATrim.adapterTrim.rmRep....                                                NaN                                                                                                                   \n",
       "\n",
       "                                                    isoform1=junction:chr10:103912288-103919189:+|isoform2=junction:chr10:103912288-103918949:+@exon:chr10:103918950-103919065:+@junction:chr10:103919066-103919189:+  \\\n",
       "CVN_01_R1.fastq.gz.polyATrim.adapterTrim.rmRep....                                                NaN                                                                                                                   \n",
       "CVN_02_R1.fastq.gz.polyATrim.adapterTrim.rmRep....                                                NaN                                                                                                                   \n",
       "CVN_03_R1.fastq.gz.polyATrim.adapterTrim.rmRep....                                                NaN                                                                                                                   \n",
       "CVN_04_R1.fastq.gz.polyATrim.adapterTrim.rmRep....                                                NaN                                                                                                                   \n",
       "CVN_05_R1.fastq.gz.polyATrim.adapterTrim.rmRep....                                                NaN                                                                                                                   \n",
       "\n",
       "                                                    isoform1=junction:chr10:103912288-103919189:+|isoform2=junction:chr10:103912288-103918949:+@exon:chr10:103918950-103919095:+@junction:chr10:103919096-103919189:+  \\\n",
       "CVN_01_R1.fastq.gz.polyATrim.adapterTrim.rmRep....                                                NaN                                                                                                                   \n",
       "CVN_02_R1.fastq.gz.polyATrim.adapterTrim.rmRep....                                                NaN                                                                                                                   \n",
       "CVN_03_R1.fastq.gz.polyATrim.adapterTrim.rmRep....                                                NaN                                                                                                                   \n",
       "CVN_04_R1.fastq.gz.polyATrim.adapterTrim.rmRep....                                                NaN                                                                                                                   \n",
       "CVN_05_R1.fastq.gz.polyATrim.adapterTrim.rmRep....                                                NaN                                                                                                                   \n",
       "\n",
       "                                                    isoform1=junction:chr10:104111709-104113356:+|isoform2=junction:chr10:104111709-104112214:+@exon:chr10:104112215-104112275:+@junction:chr10:104112276-104113356:+  \\\n",
       "CVN_01_R1.fastq.gz.polyATrim.adapterTrim.rmRep....                                                NaN                                                                                                                   \n",
       "CVN_02_R1.fastq.gz.polyATrim.adapterTrim.rmRep....                                                NaN                                                                                                                   \n",
       "CVN_03_R1.fastq.gz.polyATrim.adapterTrim.rmRep....                                                NaN                                                                                                                   \n",
       "CVN_04_R1.fastq.gz.polyATrim.adapterTrim.rmRep....                                                NaN                                                                                                                   \n",
       "CVN_05_R1.fastq.gz.polyATrim.adapterTrim.rmRep....                                                NaN                                                                                                                   \n",
       "\n",
       "                                                    isoform1=junction:chr10:104240930-104241757:-|isoform2=junction:chr10:104241656-104241757:-@exon:chr10:104241594-104241655:-@junction:chr10:104240930-104241593:-  \\\n",
       "CVN_01_R1.fastq.gz.polyATrim.adapterTrim.rmRep....                                                1.0                                                                                                                   \n",
       "CVN_02_R1.fastq.gz.polyATrim.adapterTrim.rmRep....                                                NaN                                                                                                                   \n",
       "CVN_03_R1.fastq.gz.polyATrim.adapterTrim.rmRep....                                                NaN                                                                                                                   \n",
       "CVN_04_R1.fastq.gz.polyATrim.adapterTrim.rmRep....                                                NaN                                                                                                                   \n",
       "CVN_05_R1.fastq.gz.polyATrim.adapterTrim.rmRep....                                                NaN                                                                                                                   \n",
       "\n",
       "                                                    isoform1=junction:chr10:104240930-104241757:-|isoform2=junction:chr10:104241677-104241757:-@novel_exon:chr10:104241594-104241676:-@junction:chr10:104240930-104241593:-  \\\n",
       "CVN_01_R1.fastq.gz.polyATrim.adapterTrim.rmRep....                                                NaN                                                                                                                         \n",
       "CVN_02_R1.fastq.gz.polyATrim.adapterTrim.rmRep....                                                NaN                                                                                                                         \n",
       "CVN_03_R1.fastq.gz.polyATrim.adapterTrim.rmRep....                                                NaN                                                                                                                         \n",
       "CVN_04_R1.fastq.gz.polyATrim.adapterTrim.rmRep....                                                NaN                                                                                                                         \n",
       "CVN_05_R1.fastq.gz.polyATrim.adapterTrim.rmRep....                                                NaN                                                                                                                         \n",
       "\n",
       "                                                                                                                                                      ...                                                                                                      \\\n",
       "CVN_01_R1.fastq.gz.polyATrim.adapterTrim.rmRep....                                                                                                    ...                                                                                                       \n",
       "CVN_02_R1.fastq.gz.polyATrim.adapterTrim.rmRep....                                                                                                    ...                                                                                                       \n",
       "CVN_03_R1.fastq.gz.polyATrim.adapterTrim.rmRep....                                                                                                    ...                                                                                                       \n",
       "CVN_04_R1.fastq.gz.polyATrim.adapterTrim.rmRep....                                                                                                    ...                                                                                                       \n",
       "CVN_05_R1.fastq.gz.polyATrim.adapterTrim.rmRep....                                                                                                    ...                                                                                                       \n",
       "\n",
       "                                                    isoform1=junction:chrY:14813985-14820881:+@novel_exon:chrY:14820882-14820960:+@junction:chrY:14820961-14821320:+|isoform2=junction:chrY:14813985-14820566:+@exon:chrY:14820567-14820626:+@junction:chrY:14820627-14821320:+  \\\n",
       "CVN_01_R1.fastq.gz.polyATrim.adapterTrim.rmRep....                                                NaN                                                                                                                                                                             \n",
       "CVN_02_R1.fastq.gz.polyATrim.adapterTrim.rmRep....                                                NaN                                                                                                                                                                             \n",
       "CVN_03_R1.fastq.gz.polyATrim.adapterTrim.rmRep....                                                NaN                                                                                                                                                                             \n",
       "CVN_04_R1.fastq.gz.polyATrim.adapterTrim.rmRep....                                                NaN                                                                                                                                                                             \n",
       "CVN_05_R1.fastq.gz.polyATrim.adapterTrim.rmRep....                                                NaN                                                                                                                                                                             \n",
       "\n",
       "                                                    isoform1=junction:chrY:15024975-15026475:+@exon:chrY:15026476-15026561:+@junction:chrY:15026562-15026978:+|isoform2=junction:chrY:15024975-15025629:+@exon:chrY:15025630-15025765:+@junction:chrY:15025766-15026978:+  \\\n",
       "CVN_01_R1.fastq.gz.polyATrim.adapterTrim.rmRep....                                                NaN                                                                                                                                                                       \n",
       "CVN_02_R1.fastq.gz.polyATrim.adapterTrim.rmRep....                                                NaN                                                                                                                                                                       \n",
       "CVN_03_R1.fastq.gz.polyATrim.adapterTrim.rmRep....                                                NaN                                                                                                                                                                       \n",
       "CVN_04_R1.fastq.gz.polyATrim.adapterTrim.rmRep....                                                NaN                                                                                                                                                                       \n",
       "CVN_05_R1.fastq.gz.polyATrim.adapterTrim.rmRep....                                                NaN                                                                                                                                                                       \n",
       "\n",
       "                                                    isoform1=junction:chrY:21094728-21206547:-@novel_exon:chrY:21094629-21094727:-@junction:chrY:21039092-21094628:-|isoform2=junction:chrY:21205233-21206547:-@exon:chrY:21205049-21205232:-@junction:chrY:21039092-21205048:-  \\\n",
       "CVN_01_R1.fastq.gz.polyATrim.adapterTrim.rmRep....                                                NaN                                                                                                                                                                             \n",
       "CVN_02_R1.fastq.gz.polyATrim.adapterTrim.rmRep....                                                NaN                                                                                                                                                                             \n",
       "CVN_03_R1.fastq.gz.polyATrim.adapterTrim.rmRep....                                                NaN                                                                                                                                                                             \n",
       "CVN_04_R1.fastq.gz.polyATrim.adapterTrim.rmRep....                                                NaN                                                                                                                                                                             \n",
       "CVN_05_R1.fastq.gz.polyATrim.adapterTrim.rmRep....                                                NaN                                                                                                                                                                             \n",
       "\n",
       "                                                    isoform1=junction:chrY:21749394-21750428:+@exon:chrY:21750429-21750536:+@junction:chrY:21750537-21751406:+|isoform2=junction:chrY:21749394-21750255:+@novel_exon:chrY:21750256-21750297:+@junction:chrY:21750298-21751406:+  \\\n",
       "CVN_01_R1.fastq.gz.polyATrim.adapterTrim.rmRep....                                                NaN                                                                                                                                                                             \n",
       "CVN_02_R1.fastq.gz.polyATrim.adapterTrim.rmRep....                                                NaN                                                                                                                                                                             \n",
       "CVN_03_R1.fastq.gz.polyATrim.adapterTrim.rmRep....                                                NaN                                                                                                                                                                             \n",
       "CVN_04_R1.fastq.gz.polyATrim.adapterTrim.rmRep....                                                NaN                                                                                                                                                                             \n",
       "CVN_05_R1.fastq.gz.polyATrim.adapterTrim.rmRep....                                                NaN                                                                                                                                                                             \n",
       "\n",
       "                                                    isoform1=junction:chrY:21749394-21753665:+@exon:chrY:21753666-21753845:+@junction:chrY:21753846-21755284:+|isoform2=junction:chrY:21749394-21750255:+@exon:chrY:21750256-21751498:+@junction:chrY:21751499-21755284:+  \\\n",
       "CVN_01_R1.fastq.gz.polyATrim.adapterTrim.rmRep....                                                NaN                                                                                                                                                                       \n",
       "CVN_02_R1.fastq.gz.polyATrim.adapterTrim.rmRep....                                                NaN                                                                                                                                                                       \n",
       "CVN_03_R1.fastq.gz.polyATrim.adapterTrim.rmRep....                                                NaN                                                                                                                                                                       \n",
       "CVN_04_R1.fastq.gz.polyATrim.adapterTrim.rmRep....                                                NaN                                                                                                                                                                       \n",
       "CVN_05_R1.fastq.gz.polyATrim.adapterTrim.rmRep....                                                NaN                                                                                                                                                                       \n",
       "\n",
       "                                                    isoform1=junction:chrY:2709669-2712117:+@exon:chrY:2712118-2712298:+@junction:chrY:2712299-2713686:+|isoform2=junction:chrY:2709669-2710205:+@exon:chrY:2710206-2710283:+@junction:chrY:2710284-2713686:+  \\\n",
       "CVN_01_R1.fastq.gz.polyATrim.adapterTrim.rmRep....                                                NaN                                                                                                                                                           \n",
       "CVN_02_R1.fastq.gz.polyATrim.adapterTrim.rmRep....                                                NaN                                                                                                                                                           \n",
       "CVN_03_R1.fastq.gz.polyATrim.adapterTrim.rmRep....                                                NaN                                                                                                                                                           \n",
       "CVN_04_R1.fastq.gz.polyATrim.adapterTrim.rmRep....                                                NaN                                                                                                                                                           \n",
       "CVN_05_R1.fastq.gz.polyATrim.adapterTrim.rmRep....                                                NaN                                                                                                                                                           \n",
       "\n",
       "                                                    isoform1=junction:chrY:2710284-2713686:+@exon:chrY:2713687-2713784:+@junction:chrY:2713785-2722640:+|isoform2=junction:chrY:2710284-2712117:+@exon:chrY:2712118-2712298:+@junction:chrY:2712299-2722640:+  \\\n",
       "CVN_01_R1.fastq.gz.polyATrim.adapterTrim.rmRep....                                                NaN                                                                                                                                                           \n",
       "CVN_02_R1.fastq.gz.polyATrim.adapterTrim.rmRep....                                                NaN                                                                                                                                                           \n",
       "CVN_03_R1.fastq.gz.polyATrim.adapterTrim.rmRep....                                                NaN                                                                                                                                                           \n",
       "CVN_04_R1.fastq.gz.polyATrim.adapterTrim.rmRep....                                                NaN                                                                                                                                                           \n",
       "CVN_05_R1.fastq.gz.polyATrim.adapterTrim.rmRep....                                                NaN                                                                                                                                                           \n",
       "\n",
       "                                                    isoform1=junction:chrY:2712299-2722640:+@exon:chrY:2722641-2722812:+@junction:chrY:2722813-2733128:+|isoform2=junction:chrY:2712299-2713686:+@exon:chrY:2713687-2713784:+@junction:chrY:2713785-2733128:+  \\\n",
       "CVN_01_R1.fastq.gz.polyATrim.adapterTrim.rmRep....                                                NaN                                                                                                                                                           \n",
       "CVN_02_R1.fastq.gz.polyATrim.adapterTrim.rmRep....                                                NaN                                                                                                                                                           \n",
       "CVN_03_R1.fastq.gz.polyATrim.adapterTrim.rmRep....                                                NaN                                                                                                                                                           \n",
       "CVN_04_R1.fastq.gz.polyATrim.adapterTrim.rmRep....                                                NaN                                                                                                                                                           \n",
       "CVN_05_R1.fastq.gz.polyATrim.adapterTrim.rmRep....                                                NaN                                                                                                                                                           \n",
       "\n",
       "                                                    isoform1=junction:chrY:2712299-2722640:+@exon:chrY:2722641-2722812:+@junction:chrY:2722813-2734833:+|isoform2=junction:chrY:2712299-2713686:+@exon:chrY:2713687-2713784:+@junction:chrY:2713785-2734833:+  \\\n",
       "CVN_01_R1.fastq.gz.polyATrim.adapterTrim.rmRep....                                                NaN                                                                                                                                                           \n",
       "CVN_02_R1.fastq.gz.polyATrim.adapterTrim.rmRep....                                                NaN                                                                                                                                                           \n",
       "CVN_03_R1.fastq.gz.polyATrim.adapterTrim.rmRep....                                                NaN                                                                                                                                                           \n",
       "CVN_04_R1.fastq.gz.polyATrim.adapterTrim.rmRep....                                                NaN                                                                                                                                                           \n",
       "CVN_05_R1.fastq.gz.polyATrim.adapterTrim.rmRep....                                                NaN                                                                                                                                                           \n",
       "\n",
       "                                                    isoform1=junction:chrY:2713785-2733128:+@exon:chrY:2733129-2733286:+@junction:chrY:2733287-2734833:+|isoform2=junction:chrY:2713785-2722640:+@exon:chrY:2722641-2722812:+@junction:chrY:2722813-2734833:+  \n",
       "CVN_01_R1.fastq.gz.polyATrim.adapterTrim.rmRep....                                                NaN                                                                                                                                                          \n",
       "CVN_02_R1.fastq.gz.polyATrim.adapterTrim.rmRep....                                                NaN                                                                                                                                                          \n",
       "CVN_03_R1.fastq.gz.polyATrim.adapterTrim.rmRep....                                                NaN                                                                                                                                                          \n",
       "CVN_04_R1.fastq.gz.polyATrim.adapterTrim.rmRep....                                                NaN                                                                                                                                                          \n",
       "CVN_05_R1.fastq.gz.polyATrim.adapterTrim.rmRep....                                                NaN                                                                                                                                                          \n",
       "\n",
       "[5 rows x 6872 columns]"
      ]
     },
     "execution_count": 95,
     "metadata": {},
     "output_type": "execute_result"
    }
   ],
   "source": [
    "constutitively1 = pd.read_csv('{}/psi_constitutively1.csv'.format(csv_folder), index_col=0)\n",
    "six.print_('constutitively1.shape', constutitively1.shape)\n",
    "constutitively1.head()"
   ]
  },
  {
   "cell_type": "code",
   "execution_count": 96,
   "metadata": {
    "collapsed": false
   },
   "outputs": [
    {
     "data": {
      "text/html": [
       "<div>\n",
       "<table border=\"1\" class=\"dataframe\">\n",
       "  <thead>\n",
       "    <tr style=\"text-align: right;\">\n",
       "      <th></th>\n",
       "      <th>single</th>\n",
       "      <th>pooled</th>\n",
       "      <th>phenotype</th>\n",
       "      <th>neuron</th>\n",
       "      <th>progenitor</th>\n",
       "      <th>stressed</th>\n",
       "      <th>craig_venter</th>\n",
       "      <th>differentiation_batch</th>\n",
       "      <th>split</th>\n",
       "    </tr>\n",
       "  </thead>\n",
       "  <tbody>\n",
       "    <tr>\n",
       "      <th>CVN_01</th>\n",
       "      <td>True</td>\n",
       "      <td>False</td>\n",
       "      <td>NPC</td>\n",
       "      <td>False</td>\n",
       "      <td>True</td>\n",
       "      <td>False</td>\n",
       "      <td>True</td>\n",
       "      <td>NaN</td>\n",
       "      <td>NaN</td>\n",
       "    </tr>\n",
       "    <tr>\n",
       "      <th>CVN_02</th>\n",
       "      <td>True</td>\n",
       "      <td>False</td>\n",
       "      <td>NPC</td>\n",
       "      <td>False</td>\n",
       "      <td>True</td>\n",
       "      <td>False</td>\n",
       "      <td>True</td>\n",
       "      <td>NaN</td>\n",
       "      <td>NaN</td>\n",
       "    </tr>\n",
       "    <tr>\n",
       "      <th>CVN_03</th>\n",
       "      <td>True</td>\n",
       "      <td>False</td>\n",
       "      <td>NPC</td>\n",
       "      <td>False</td>\n",
       "      <td>True</td>\n",
       "      <td>False</td>\n",
       "      <td>True</td>\n",
       "      <td>NaN</td>\n",
       "      <td>NaN</td>\n",
       "    </tr>\n",
       "    <tr>\n",
       "      <th>CVN_04</th>\n",
       "      <td>True</td>\n",
       "      <td>False</td>\n",
       "      <td>NPC</td>\n",
       "      <td>False</td>\n",
       "      <td>True</td>\n",
       "      <td>False</td>\n",
       "      <td>True</td>\n",
       "      <td>NaN</td>\n",
       "      <td>NaN</td>\n",
       "    </tr>\n",
       "    <tr>\n",
       "      <th>CVN_05</th>\n",
       "      <td>True</td>\n",
       "      <td>False</td>\n",
       "      <td>NPC</td>\n",
       "      <td>False</td>\n",
       "      <td>True</td>\n",
       "      <td>False</td>\n",
       "      <td>True</td>\n",
       "      <td>NaN</td>\n",
       "      <td>NaN</td>\n",
       "    </tr>\n",
       "  </tbody>\n",
       "</table>\n",
       "</div>"
      ],
      "text/plain": [
       "       single pooled phenotype neuron progenitor stressed craig_venter  \\\n",
       "CVN_01   True  False       NPC  False       True    False         True   \n",
       "CVN_02   True  False       NPC  False       True    False         True   \n",
       "CVN_03   True  False       NPC  False       True    False         True   \n",
       "CVN_04   True  False       NPC  False       True    False         True   \n",
       "CVN_05   True  False       NPC  False       True    False         True   \n",
       "\n",
       "       differentiation_batch split  \n",
       "CVN_01                   NaN   NaN  \n",
       "CVN_02                   NaN   NaN  \n",
       "CVN_03                   NaN   NaN  \n",
       "CVN_04                   NaN   NaN  \n",
       "CVN_05                   NaN   NaN  "
      ]
     },
     "execution_count": 96,
     "metadata": {},
     "output_type": "execute_result"
    }
   ],
   "source": [
    "# This metadata only has iPSC, NPC, and MN (no sMN)\n",
    "\n",
    "metadata = pd.read_csv('{}/metadata.csv'.format(csv_folder), index_col=0)\n",
    "metadata.head()"
   ]
  },
  {
   "cell_type": "code",
   "execution_count": 97,
   "metadata": {
    "collapsed": false
   },
   "outputs": [
    {
     "data": {
      "text/html": [
       "<div>\n",
       "<table border=\"1\" class=\"dataframe\">\n",
       "  <thead>\n",
       "    <tr style=\"text-align: right;\">\n",
       "      <th></th>\n",
       "      <th>isoform1=junction:chr10:101421386-101439481:+|isoform2=junction:chr10:101421386-101439017:+@exon:chr10:101439018-101439223:+@junction:chr10:101439224-101439481:+</th>\n",
       "      <th>isoform1=junction:chr10:102013297-102020722:-|isoform2=junction:chr10:102020077-102020722:-@exon:chr10:102019975-102020076:-@junction:chr10:102013297-102019974:-</th>\n",
       "      <th>isoform1=junction:chr10:102703886-102706795:+|isoform2=junction:chr10:102703886-102705086:+@exon:chr10:102705087-102705263:+@junction:chr10:102705264-102706795:+</th>\n",
       "      <th>isoform1=junction:chr10:103904848-103908128:+|isoform2=junction:chr10:103904848-103906428:+@exon:chr10:103906429-103907149:+@junction:chr10:103907150-103908128:+</th>\n",
       "      <th>isoform1=junction:chr10:103912288-103917805:+|isoform2=junction:chr10:103912288-103916775:+@exon:chr10:103916776-103916831:+@junction:chr10:103916832-103917805:+</th>\n",
       "      <th>isoform1=junction:chr10:103912288-103919189:+|isoform2=junction:chr10:103912288-103918949:+@exon:chr10:103918950-103919065:+@junction:chr10:103919066-103919189:+</th>\n",
       "      <th>isoform1=junction:chr10:103912288-103919189:+|isoform2=junction:chr10:103912288-103918949:+@exon:chr10:103918950-103919095:+@junction:chr10:103919096-103919189:+</th>\n",
       "      <th>isoform1=junction:chr10:104111709-104113356:+|isoform2=junction:chr10:104111709-104112214:+@exon:chr10:104112215-104112275:+@junction:chr10:104112276-104113356:+</th>\n",
       "      <th>isoform1=junction:chr10:104240930-104241757:-|isoform2=junction:chr10:104241656-104241757:-@exon:chr10:104241594-104241655:-@junction:chr10:104240930-104241593:-</th>\n",
       "      <th>isoform1=junction:chr10:104240930-104241757:-|isoform2=junction:chr10:104241677-104241757:-@novel_exon:chr10:104241594-104241676:-@junction:chr10:104240930-104241593:-</th>\n",
       "      <th>...</th>\n",
       "      <th>isoform1=junction:chrY:14813985-14820881:+@novel_exon:chrY:14820882-14820960:+@junction:chrY:14820961-14821320:+|isoform2=junction:chrY:14813985-14820566:+@exon:chrY:14820567-14820626:+@junction:chrY:14820627-14821320:+</th>\n",
       "      <th>isoform1=junction:chrY:15024975-15026475:+@exon:chrY:15026476-15026561:+@junction:chrY:15026562-15026978:+|isoform2=junction:chrY:15024975-15025629:+@exon:chrY:15025630-15025765:+@junction:chrY:15025766-15026978:+</th>\n",
       "      <th>isoform1=junction:chrY:21094728-21206547:-@novel_exon:chrY:21094629-21094727:-@junction:chrY:21039092-21094628:-|isoform2=junction:chrY:21205233-21206547:-@exon:chrY:21205049-21205232:-@junction:chrY:21039092-21205048:-</th>\n",
       "      <th>isoform1=junction:chrY:21749394-21750428:+@exon:chrY:21750429-21750536:+@junction:chrY:21750537-21751406:+|isoform2=junction:chrY:21749394-21750255:+@novel_exon:chrY:21750256-21750297:+@junction:chrY:21750298-21751406:+</th>\n",
       "      <th>isoform1=junction:chrY:21749394-21753665:+@exon:chrY:21753666-21753845:+@junction:chrY:21753846-21755284:+|isoform2=junction:chrY:21749394-21750255:+@exon:chrY:21750256-21751498:+@junction:chrY:21751499-21755284:+</th>\n",
       "      <th>isoform1=junction:chrY:2709669-2712117:+@exon:chrY:2712118-2712298:+@junction:chrY:2712299-2713686:+|isoform2=junction:chrY:2709669-2710205:+@exon:chrY:2710206-2710283:+@junction:chrY:2710284-2713686:+</th>\n",
       "      <th>isoform1=junction:chrY:2710284-2713686:+@exon:chrY:2713687-2713784:+@junction:chrY:2713785-2722640:+|isoform2=junction:chrY:2710284-2712117:+@exon:chrY:2712118-2712298:+@junction:chrY:2712299-2722640:+</th>\n",
       "      <th>isoform1=junction:chrY:2712299-2722640:+@exon:chrY:2722641-2722812:+@junction:chrY:2722813-2733128:+|isoform2=junction:chrY:2712299-2713686:+@exon:chrY:2713687-2713784:+@junction:chrY:2713785-2733128:+</th>\n",
       "      <th>isoform1=junction:chrY:2712299-2722640:+@exon:chrY:2722641-2722812:+@junction:chrY:2722813-2734833:+|isoform2=junction:chrY:2712299-2713686:+@exon:chrY:2713687-2713784:+@junction:chrY:2713785-2734833:+</th>\n",
       "      <th>isoform1=junction:chrY:2713785-2733128:+@exon:chrY:2733129-2733286:+@junction:chrY:2733287-2734833:+|isoform2=junction:chrY:2713785-2722640:+@exon:chrY:2722641-2722812:+@junction:chrY:2722813-2734833:+</th>\n",
       "    </tr>\n",
       "    <tr>\n",
       "      <th>phenotype</th>\n",
       "      <th></th>\n",
       "      <th></th>\n",
       "      <th></th>\n",
       "      <th></th>\n",
       "      <th></th>\n",
       "      <th></th>\n",
       "      <th></th>\n",
       "      <th></th>\n",
       "      <th></th>\n",
       "      <th></th>\n",
       "      <th></th>\n",
       "      <th></th>\n",
       "      <th></th>\n",
       "      <th></th>\n",
       "      <th></th>\n",
       "      <th></th>\n",
       "      <th></th>\n",
       "      <th></th>\n",
       "      <th></th>\n",
       "      <th></th>\n",
       "      <th></th>\n",
       "    </tr>\n",
       "  </thead>\n",
       "  <tbody>\n",
       "  </tbody>\n",
       "</table>\n",
       "<p>0 rows × 6872 columns</p>\n",
       "</div>"
      ],
      "text/plain": [
       "Empty DataFrame\n",
       "Columns: [isoform1=junction:chr10:101421386-101439481:+|isoform2=junction:chr10:101421386-101439017:+@exon:chr10:101439018-101439223:+@junction:chr10:101439224-101439481:+, isoform1=junction:chr10:102013297-102020722:-|isoform2=junction:chr10:102020077-102020722:-@exon:chr10:102019975-102020076:-@junction:chr10:102013297-102019974:-, isoform1=junction:chr10:102703886-102706795:+|isoform2=junction:chr10:102703886-102705086:+@exon:chr10:102705087-102705263:+@junction:chr10:102705264-102706795:+, isoform1=junction:chr10:103904848-103908128:+|isoform2=junction:chr10:103904848-103906428:+@exon:chr10:103906429-103907149:+@junction:chr10:103907150-103908128:+, isoform1=junction:chr10:103912288-103917805:+|isoform2=junction:chr10:103912288-103916775:+@exon:chr10:103916776-103916831:+@junction:chr10:103916832-103917805:+, isoform1=junction:chr10:103912288-103919189:+|isoform2=junction:chr10:103912288-103918949:+@exon:chr10:103918950-103919065:+@junction:chr10:103919066-103919189:+, isoform1=junction:chr10:103912288-103919189:+|isoform2=junction:chr10:103912288-103918949:+@exon:chr10:103918950-103919095:+@junction:chr10:103919096-103919189:+, isoform1=junction:chr10:104111709-104113356:+|isoform2=junction:chr10:104111709-104112214:+@exon:chr10:104112215-104112275:+@junction:chr10:104112276-104113356:+, isoform1=junction:chr10:104240930-104241757:-|isoform2=junction:chr10:104241656-104241757:-@exon:chr10:104241594-104241655:-@junction:chr10:104240930-104241593:-, isoform1=junction:chr10:104240930-104241757:-|isoform2=junction:chr10:104241677-104241757:-@novel_exon:chr10:104241594-104241676:-@junction:chr10:104240930-104241593:-, isoform1=junction:chr10:104445759-104459129:-|isoform2=junction:chr10:104449701-104459129:-@novel_exon:chr10:104449655-104449700:-@junction:chr10:104445759-104449654:-, isoform1=junction:chr10:104449701-104474029:-|isoform2=junction:chr10:104459247-104474029:-@exon:chr10:104459130-104459246:-@junction:chr10:104449701-104459129:-, isoform1=junction:chr10:104449701-104474029:-|isoform2=junction:chr10:104465247-104474029:-@exon:chr10:104465103-104465246:-@junction:chr10:104449701-104465102:-, isoform1=junction:chr10:104486555-104488187:+|isoform2=junction:chr10:104486555-104486743:+@exon:chr10:104486744-104486914:+@junction:chr10:104486915-104488187:+, isoform1=junction:chr10:104855738-104858687:-|isoform2=junction:chr10:104857132-104858687:-@exon:chr10:104857048-104857131:-@junction:chr10:104855738-104857047:-, isoform1=junction:chr10:105891955-105893377:-|isoform2=junction:chr10:105892590-105893377:-@novel_exon:chr10:105892531-105892589:-@junction:chr10:105891955-105892530:-, isoform1=junction:chr10:112328772-112337178:+|isoform2=junction:chr10:112328772-112335093:+@exon:chr10:112335094-112335161:+@junction:chr10:112335162-112337178:+, isoform1=junction:chr10:112328772-112337178:+|isoform2=junction:chr10:112328772-112335101:+@novel_exon:chr10:112335102-112335161:+@junction:chr10:112335162-112337178:+, isoform1=junction:chr10:11356222-11370888:+|isoform2=junction:chr10:11356222-11363169:+@exon:chr10:11363170-11363349:+@junction:chr10:11363350-11370888:+, isoform1=junction:chr10:113933604-113940230:-|isoform2=junction:chr10:113935472-113940230:-@exon:chr10:113935358-113935471:-@junction:chr10:113933604-113935357:-, isoform1=junction:chr10:114202110-114204927:-|isoform2=junction:chr10:114203353-114204927:-@exon:chr10:114203273-114203352:-@junction:chr10:114202110-114203272:-, isoform1=junction:chr10:116247776-116286418:-|isoform2=junction:chr10:116251638-116286418:-@exon:chr10:116251550-116251637:-@junction:chr10:116247776-116251549:-, isoform1=junction:chr10:12071524-12084753:-|isoform2=junction:chr10:12077441-12084753:-@exon:chr10:12077058-12077440:-@junction:chr10:12071524-12077057:-, isoform1=junction:chr10:120820357-120828957:-|isoform2=junction:chr10:120820841-120828957:-@exon:chr10:120820736-120820840:-@junction:chr10:120820357-120820735:-, isoform1=junction:chr10:120820357-120828957:-|isoform2=junction:chr10:120825083-120828957:-@exon:chr10:120824911-120825082:-@junction:chr10:120820357-120824910:-, isoform1=junction:chr10:120877180-120889026:+|isoform2=junction:chr10:120877180-120882980:+@exon:chr10:120882981-120883081:+@junction:chr10:120883082-120889026:+, isoform1=junction:chr10:120934105-120938266:-|isoform2=junction:chr10:120936666-120938266:-@novel_exon:chr10:120936654-120936665:-@junction:chr10:120934105-120936653:-, isoform1=junction:chr10:12252024-12257738:+|isoform2=junction:chr10:12252024-12252288:+@novel_exon:chr10:12252289-12252373:+@junction:chr10:12252374-12257738:+, isoform1=junction:chr10:12252322-12272946:+|isoform2=junction:chr10:12252322-12259359:+@exon:chr10:12259360-12259466:+@junction:chr10:12259467-12272946:+, isoform1=junction:chr10:123670667-123683780:-|isoform2=junction:chr10:123673409-123683780:-@exon:chr10:123673305-123673408:-@junction:chr10:123670667-123673304:-, isoform1=junction:chr10:124610037-124639000:-|isoform2=junction:chr10:124615303-124639000:-@exon:chr10:124615161-124615302:-@junction:chr10:124610037-124615160:-, isoform1=junction:chr10:124917397-124924562:+|isoform2=junction:chr10:124917397-124922127:+@exon:chr10:124922128-124922344:+@junction:chr10:124922345-124924562:+, isoform1=junction:chr10:126094133-126097309:-|isoform2=junction:chr10:126097204-126097309:-@novel_exon:chr10:126097111-126097203:-@junction:chr10:126094133-126097110:-, isoform1=junction:chr10:127418049-127421972:+|isoform2=junction:chr10:127418049-127418856:+@exon:chr10:127418857-127418968:+@junction:chr10:127418969-127421972:+, isoform1=junction:chr10:127585225-127668729:+|isoform2=junction:chr10:127585225-127661941:+@exon:chr10:127661942-127662064:+@junction:chr10:127662065-127668729:+, isoform1=junction:chr10:13151289-13154452:+|isoform2=junction:chr10:13151289-13152179:+@exon:chr10:13152180-13152476:+@junction:chr10:13152477-13154452:+, isoform1=junction:chr10:13233400-13234450:+|isoform2=junction:chr10:13233400-13234254:+@exon:chr10:13234255-13234365:+@junction:chr10:13234366-13234450:+, isoform1=junction:chr10:135207837-135211938:+|isoform2=junction:chr10:135207837-135209699:+@novel_exon:chr10:135209700-135209771:+@junction:chr10:135209772-135211938:+, isoform1=junction:chr10:13653684-13658397:+|isoform2=junction:chr10:13653684-13656014:+@exon:chr10:13656015-13656086:+@junction:chr10:13656087-13658397:+, isoform1=junction:chr10:14891811-14896123:+|isoform2=junction:chr10:14891811-14894368:+@exon:chr10:14894369-14894530:+@junction:chr10:14894531-14896123:+, isoform1=junction:chr10:17196734-17243569:-|isoform2=junction:chr10:17216660-17243569:-@exon:chr10:17216550-17216659:-@junction:chr10:17196734-17216549:-, isoform1=junction:chr10:17277389-17279228:+|isoform2=junction:chr10:17277389-17277844:+@exon:chr10:17277845-17277888:+@junction:chr10:17277889-17279228:+, isoform1=junction:chr10:17277389-17279228:+|isoform2=junction:chr10:17277389-17278292:+@exon:chr10:17278293-17278378:+@junction:chr10:17278379-17279228:+, isoform1=junction:chr10:17686379-17730025:+|isoform2=junction:chr10:17686379-17702462:+@exon:chr10:17702463-17702547:+@junction:chr10:17702548-17730025:+, isoform1=junction:chr10:21157695-21169722:-|isoform2=junction:chr10:21158771-21169722:-@exon:chr10:21158669-21158770:-@junction:chr10:21157695-21158668:-, isoform1=junction:chr10:21823734-21840744:+|isoform2=junction:chr10:21823734-21827761:+@exon:chr10:21827762-21827841:+@junction:chr10:21827842-21840744:+, isoform1=junction:chr10:22208859-22217968:-|isoform2=junction:chr10:22209893-22217968:-@exon:chr10:22209727-22209892:-@junction:chr10:22208859-22209726:-, isoform1=junction:chr10:24884120-24884816:-|isoform2=junction:chr10:24884725-24884816:-@exon:chr10:24884646-24884724:-@junction:chr10:24884120-24884645:-, isoform1=junction:chr10:24889718-24893240:-|isoform2=junction:chr10:24891033-24893240:-@exon:chr10:24890907-24891032:-@junction:chr10:24889718-24890906:-, isoform1=junction:chr10:25226297-25241456:-|isoform2=junction:chr10:25231315-25241456:-@novel_exon:chr10:25231259-25231314:-@junction:chr10:25226297-25231258:-, isoform1=junction:chr10:25226297-25241456:-|isoform2=junction:chr10:25231366-25241456:-@exon:chr10:25231259-25231365:-@junction:chr10:25226297-25231258:-, isoform1=junction:chr10:27403537-27406504:-|isoform2=junction:chr10:27405275-27406504:-@exon:chr10:27405148-27405274:-@junction:chr10:27403537-27405147:-, isoform1=junction:chr10:285466-286832:+|isoform2=junction:chr10:285466-285995:+@exon:chr10:285996-286051:+@junction:chr10:286052-286832:+, isoform1=junction:chr10:285466-286832:+|isoform2=junction:chr10:285466-285998:+@exon:chr10:285999-286051:+@junction:chr10:286052-286832:+, isoform1=junction:chr10:28900852-28905101:+|isoform2=junction:chr10:28900852-28903495:+@exon:chr10:28903496-28903614:+@junction:chr10:28903615-28905101:+, isoform1=junction:chr10:28903615-28906585:+|isoform2=junction:chr10:28903615-28905101:+@exon:chr10:28905102-28905291:+@junction:chr10:28905292-28906585:+, isoform1=junction:chr10:30605140-30625731:-|isoform2=junction:chr10:30615565-30625731:-@exon:chr10:30615353-30615564:-@junction:chr10:30605140-30615352:-, isoform1=junction:chr10:31750167-31799600:+|isoform2=junction:chr10:31750167-31791275:+@exon:chr10:31791276-31791437:+@junction:chr10:31791438-31799600:+, isoform1=junction:chr10:32975009-33000547:+|isoform2=junction:chr10:32975009-32977980:+@exon:chr10:32977981-32978091:+@junction:chr10:32978092-33000547:+, isoform1=junction:chr10:33123827-33134803:+|isoform2=junction:chr10:33123827-33134470:+@exon:chr10:33134471-33134554:+@junction:chr10:33134555-33134803:+, isoform1=junction:chr10:34420512-34573062:-|isoform2=junction:chr10:34558828-34573062:-@exon:chr10:34558585-34558827:-@junction:chr10:34420512-34558584:-, isoform1=junction:chr10:34620273-34626205:-|isoform2=junction:chr10:34625172-34626205:-@exon:chr10:34625127-34625171:-@junction:chr10:34620273-34625126:-, isoform1=junction:chr10:43078572-43109729:-|isoform2=junction:chr10:43090148-43109729:-@exon:chr10:43090043-43090147:-@junction:chr10:43078572-43090042:-, isoform1=junction:chr10:46233494-46238837:+|isoform2=junction:chr10:46233494-46235520:+@exon:chr10:46235521-46235694:+@junction:chr10:46235695-46238837:+, isoform1=junction:chr10:47942085-47943487:+|isoform2=junction:chr10:47942085-47943064:+@exon:chr10:47943065-47943127:+@junction:chr10:47943128-47943487:+, isoform1=junction:chr10:4879774-4883976:+|isoform2=junction:chr10:4879774-4881920:+@exon:chr10:4881921-4882018:+@junction:chr10:4882019-4883976:+, isoform1=junction:chr10:49514865-49533939:+|isoform2=junction:chr10:49514865-49516137:+@exon:chr10:49516138-49516331:+@junction:chr10:49516332-49533939:+, isoform1=junction:chr10:5005721-5009118:+|isoform2=junction:chr10:5005721-5008201:+@exon:chr10:5008202-5008273:+@junction:chr10:5008274-5009118:+, isoform1=junction:chr10:51246375-51247904:-|isoform2=junction:chr10:51247017-51247904:-@exon:chr10:51246922-51247016:-@junction:chr10:51246375-51246921:-, isoform1=junction:chr10:51372703-51381438:+|isoform2=junction:chr10:51372703-51374369:+@exon:chr10:51374370-51374428:+@junction:chr10:51374429-51381438:+, isoform1=junction:chr10:51582940-51586270:+|isoform2=junction:chr10:51582940-51584615:+@exon:chr10:51584616-51585599:+@junction:chr10:51585600-51586270:+, isoform1=junction:chr10:51592620-51612903:-|isoform2=junction:chr10:51607099-51612903:-@exon:chr10:51606988-51607098:-@junction:chr10:51592620-51606987:-, isoform1=junction:chr10:51952473-51958810:-|isoform2=junction:chr10:51956680-51958810:-@exon:chr10:51956533-51956679:-@junction:chr10:51952473-51956532:-, isoform1=junction:chr10:5488822-5494320:+|isoform2=junction:chr10:5488822-5493792:+@exon:chr10:5493793-5493900:+@junction:chr10:5493901-5494320:+, isoform1=junction:chr10:64950869-64954045:-|isoform2=junction:chr10:64952858-64954045:-@exon:chr10:64952698-64952857:-@junction:chr10:64950869-64952697:-, isoform1=junction:chr10:64968996-65024410:-|isoform2=junction:chr10:64977092-65024410:-@exon:chr10:64976967-64977091:-@junction:chr10:64968996-64976966:-, isoform1=junction:chr10:64975216-65024410:-|isoform2=junction:chr10:64977092-65024410:-@exon:chr10:64976967-64977091:-@junction:chr10:64975216-64976966:-, isoform1=junction:chr10:64975216-65028422:-|isoform2=junction:chr10:65024525-65028422:-@exon:chr10:65024411-65024524:-@junction:chr10:64975216-65024410:-, isoform1=junction:chr10:64977092-65021215:-|isoform2=junction:chr10:64979744-65021215:-@exon:chr10:64979638-64979743:-@junction:chr10:64977092-64979637:-, isoform1=junction:chr10:64977092-65028422:-|isoform2=junction:chr10:64979744-65028422:-@exon:chr10:64979638-64979743:-@junction:chr10:64977092-64979637:-, isoform1=junction:chr10:64977092-65028422:-|isoform2=junction:chr10:65024525-65028422:-@exon:chr10:65024411-65024524:-@junction:chr10:64977092-65024410:-, isoform1=junction:chr10:65359044-65379414:+|isoform2=junction:chr10:65359044-65369946:+@exon:chr10:65369947-65370094:+@junction:chr10:65370095-65379414:+, isoform1=junction:chr10:70182648-70191613:-|isoform2=junction:chr10:70190418-70191613:-@exon:chr10:70190193-70190417:-@junction:chr10:70182648-70190192:-, isoform1=junction:chr10:70441246-70446112:+|isoform2=junction:chr10:70441246-70442592:+@exon:chr10:70442593-70442730:+@junction:chr10:70442731-70446112:+, isoform1=junction:chr10:70496806-70502132:+|isoform2=junction:chr10:70496806-70500385:+@exon:chr10:70500386-70500418:+@junction:chr10:70500419-70502132:+, isoform1=junction:chr10:70497647-70506917:+|isoform2=junction:chr10:70497647-70500385:+@exon:chr10:70500386-70500418:+@junction:chr10:70500419-70506917:+, isoform1=junction:chr10:70497647-70506917:+|isoform2=junction:chr10:70497647-70500391:+@novel_exon:chr10:70500392-70500418:+@junction:chr10:70500419-70506917:+, isoform1=junction:chr10:70517135-70525644:+|isoform2=junction:chr10:70517135-70520850:+@novel_exon:chr10:70520851-70520949:+@junction:chr10:70520950-70525644:+, isoform1=junction:chr10:71920826-71930168:-|isoform2=junction:chr10:71921459-71930168:-@exon:chr10:71921375-71921458:-@junction:chr10:71920826-71921374:-, isoform1=junction:chr10:71920826-71930168:-|isoform2=junction:chr10:71921495-71930168:-@exon:chr10:71921375-71921494:-@junction:chr10:71920826-71921374:-, isoform1=junction:chr10:71921495-71930168:-|isoform2=junction:chr10:71921654-71930168:-@novel_exon:chr10:71921614-71921653:-@junction:chr10:71921495-71921613:-, isoform1=junction:chr10:71921495-71930168:-|isoform2=junction:chr10:71921684-71930168:-@novel_exon:chr10:71921614-71921683:-@junction:chr10:71921495-71921613:-, isoform1=junction:chr10:71962943-71968960:-|isoform2=junction:chr10:71964672-71968960:-@exon:chr10:71964629-71964671:-@junction:chr10:71962943-71964628:-, isoform1=junction:chr10:71962943-71968960:-|isoform2=junction:chr10:71966090-71968960:-@exon:chr10:71966020-71966089:-@junction:chr10:71962943-71966019:-, isoform1=junction:chr10:71973346-71990096:-|isoform2=junction:chr10:71974343-71990096:-@exon:chr10:71974256-71974342:-@junction:chr10:71973346-71974255:-, isoform1=junction:chr10:73104049-73115837:+|isoform2=junction:chr10:73104049-73111318:+@exon:chr10:73111319-73111545:+@junction:chr10:73111546-73115837:+, isoform1=junction:chr10:73862171-73887839:-|isoform2=junction:chr10:73862726-73887839:-@exon:chr10:73862608-73862725:-@junction:chr10:73862171-73862607:-, isoform1=junction:chr10:75260597-75265080:-|isoform2=junction:chr10:75264749-75265080:-@exon:chr10:75264608-75264748:-@junction:chr10:75260597-75264607:-, isoform1=junction:chr10:75454563-75457290:-|isoform2=junction:chr10:75456922-75457290:-@exon:chr10:75456853-75456921:-@junction:chr10:75454563-75456852:-, isoform1=junction:chr10:76972057-76977645:+|isoform2=junction:chr10:76972057-76973778:+@exon:chr10:76973779-76973828:+@junction:chr10:76973829-76977645:+, ...]\n",
       "Index: []\n",
       "\n",
       "[0 rows x 6872 columns]"
      ]
     },
     "execution_count": 97,
     "metadata": {},
     "output_type": "execute_result"
    }
   ],
   "source": [
    "counts = constutitively1.groupby(metadata.phenotype).count()\n",
    "counts"
   ]
  },
  {
   "cell_type": "code",
   "execution_count": 98,
   "metadata": {
    "collapsed": false
   },
   "outputs": [],
   "source": [
    "at_least_20 = (counts >= 20).all()\n",
    "constitutive_events = at_least_20.index[at_least_20]"
   ]
  },
  {
   "cell_type": "code",
   "execution_count": 99,
   "metadata": {
    "collapsed": false
   },
   "outputs": [
    {
     "data": {
      "text/plain": [
       "0    exon:chr10:101439018-101439223:+\n",
       "1    exon:chr10:102019975-102020076:-\n",
       "2    exon:chr10:102705087-102705263:+\n",
       "3    exon:chr10:103906429-103907149:+\n",
       "4    exon:chr10:103916776-103916831:+\n",
       "dtype: object"
      ]
     },
     "execution_count": 99,
     "metadata": {},
     "output_type": "execute_result"
    }
   ],
   "source": [
    "constitutive_exon2s = pd.Series(constitutive_events.map(lambda x: x.split('@')[1]))\n",
    "constitutive_exon2s.head()"
   ]
  },
  {
   "cell_type": "markdown",
   "metadata": {},
   "source": [
    "### Internal: have both downstream and upstream junctions"
   ]
  },
  {
   "cell_type": "code",
   "execution_count": 100,
   "metadata": {
    "collapsed": false
   },
   "outputs": [
    {
     "name": "stdout",
     "output_type": "stream",
     "text": [
      "/projects/ps-yeolab/obotvinnik/singlecell_pnms/outrigger_v2\r\n",
      "|-- index\r\n",
      "|   |-- gtf\r\n",
      "|   |   |-- gencode.v19.annotation.gtf.db\r\n",
      "|   |   `-- novel_exons.gtf\r\n",
      "|   |-- junction_exon_direction_triples.csv\r\n",
      "|   |-- mxe\r\n",
      "|   |   |-- event.bed\r\n",
      "|   |   |-- events.csv\r\n",
      "|   |   |-- exon1.bed\r\n",
      "|   |   |-- exon2.bed\r\n",
      "|   |   |-- exon3.bed\r\n",
      "|   |   |-- exon4.bed\r\n",
      "|   |   |-- intron.bed\r\n",
      "|   |   |-- manual_metadata.csv\r\n",
      "|   |   |-- splice_sites.csv\r\n",
      "|   |   `-- validated\r\n",
      "|   |       `-- events.csv\r\n",
      "|   `-- se\r\n",
      "|       |-- event.bed\r\n",
      "|       |-- events.csv\r\n",
      "|       |-- exon1.bed\r\n",
      "|       |-- exon2.bed\r\n",
      "|       |-- exon3.bed\r\n",
      "|       |-- intron.bed\r\n",
      "|       |-- manual_metadata.csv\r\n",
      "|       |-- splice_sites.csv\r\n",
      "|       `-- validated\r\n",
      "|           |-- events.csv\r\n",
      "|           `-- events.csv.bak\r\n",
      "|-- junctions\r\n",
      "|   |-- metadata.csv\r\n",
      "|   `-- reads.csv\r\n",
      "`-- psi\r\n",
      "    |-- mxe\r\n",
      "    |   |-- psi.csv\r\n",
      "    |   `-- summary.csv\r\n",
      "    |-- outrigger_psi.csv\r\n",
      "    |-- se\r\n",
      "    |   |-- psi.csv\r\n",
      "    |   `-- summary.csv\r\n",
      "    `-- summary_formatted.csv\r\n",
      "\r\n",
      "10 directories, 31 files\r\n"
     ]
    }
   ],
   "source": [
    "! tree $outrigger_folder"
   ]
  },
  {
   "cell_type": "code",
   "execution_count": 101,
   "metadata": {
    "collapsed": false
   },
   "outputs": [
    {
     "name": "stdout",
     "output_type": "stream",
     "text": [
      "(734351, 3)\n"
     ]
    },
    {
     "data": {
      "text/html": [
       "<div>\n",
       "<table border=\"1\" class=\"dataframe\">\n",
       "  <thead>\n",
       "    <tr style=\"text-align: right;\">\n",
       "      <th></th>\n",
       "      <th>exon</th>\n",
       "      <th>direction</th>\n",
       "      <th>junction</th>\n",
       "    </tr>\n",
       "  </thead>\n",
       "  <tbody>\n",
       "    <tr>\n",
       "      <th>0</th>\n",
       "      <td>exon:chr1:29321-29370:-</td>\n",
       "      <td>upstream</td>\n",
       "      <td>junction:chr1:18367-29320:-</td>\n",
       "    </tr>\n",
       "    <tr>\n",
       "      <th>1</th>\n",
       "      <td>exon:chr1:29321-29370:-</td>\n",
       "      <td>upstream</td>\n",
       "      <td>junction:chr1:24892-29320:-</td>\n",
       "    </tr>\n",
       "    <tr>\n",
       "      <th>2</th>\n",
       "      <td>exon:chr1:24738-24891:-</td>\n",
       "      <td>downstream</td>\n",
       "      <td>junction:chr1:24892-29320:-</td>\n",
       "    </tr>\n",
       "    <tr>\n",
       "      <th>3</th>\n",
       "      <td>exon:chr1:24738-24891:-</td>\n",
       "      <td>upstream</td>\n",
       "      <td>junction:chr1:18062-24737:-</td>\n",
       "    </tr>\n",
       "    <tr>\n",
       "      <th>4</th>\n",
       "      <td>exon:chr1:24738-24891:-</td>\n",
       "      <td>upstream</td>\n",
       "      <td>junction:chr1:18367-24737:-</td>\n",
       "    </tr>\n",
       "  </tbody>\n",
       "</table>\n",
       "</div>"
      ],
      "text/plain": [
       "                      exon   direction                     junction\n",
       "0  exon:chr1:29321-29370:-    upstream  junction:chr1:18367-29320:-\n",
       "1  exon:chr1:29321-29370:-    upstream  junction:chr1:24892-29320:-\n",
       "2  exon:chr1:24738-24891:-  downstream  junction:chr1:24892-29320:-\n",
       "3  exon:chr1:24738-24891:-    upstream  junction:chr1:18062-24737:-\n",
       "4  exon:chr1:24738-24891:-    upstream  junction:chr1:18367-24737:-"
      ]
     },
     "execution_count": 101,
     "metadata": {},
     "output_type": "execute_result"
    }
   ],
   "source": [
    "junction_exons = pd.read_csv('{}/index/junction_exon_direction_triples.csv'.format(outrigger_folder))\n",
    "print junction_exons.shape\n",
    "junction_exons.head()"
   ]
  },
  {
   "cell_type": "code",
   "execution_count": 102,
   "metadata": {
    "collapsed": false
   },
   "outputs": [
    {
     "data": {
      "text/plain": [
       "exon                              direction \n",
       "exon:chr10:100003848-100004106:+  downstream    1\n",
       "exon:chr10:100003848-100004321:+  downstream    1\n",
       "exon:chr10:100003848-100004651:+  downstream    1\n",
       "exon:chr10:100003848-100004654:+  downstream    1\n",
       "exon:chr10:100007447-100008748:-  downstream    1\n",
       "dtype: int64"
      ]
     },
     "execution_count": 102,
     "metadata": {},
     "output_type": "execute_result"
    }
   ],
   "source": [
    "exon_direction = junction_exons.groupby(['exon', 'direction']).size()\n",
    "exon_direction.head()\n",
    "# constitutive = constitutive[constitutive == 2]"
   ]
  },
  {
   "cell_type": "markdown",
   "metadata": {},
   "source": [
    "Group on the number of \"direction\" items they have. Must have two to be internal (\"upstream\" and \"downstream\")"
   ]
  },
  {
   "cell_type": "code",
   "execution_count": 103,
   "metadata": {
    "collapsed": false
   },
   "outputs": [
    {
     "data": {
      "text/plain": [
       "exon\n",
       "exon:chr10:100010822-100010933:-    2\n",
       "exon:chr10:100144704-100144824:-    2\n",
       "exon:chr10:100146958-100147064:-    2\n",
       "exon:chr10:100155148-100155209:-    2\n",
       "exon:chr10:100157102-100157255:-    2\n",
       "dtype: int64"
      ]
     },
     "execution_count": 103,
     "metadata": {},
     "output_type": "execute_result"
    }
   ],
   "source": [
    "internal_exons = exon_direction.groupby(level=0).size()\n",
    "internal_exons = internal_exons[internal_exons == 2]\n",
    "internal_exons.head()"
   ]
  },
  {
   "cell_type": "code",
   "execution_count": 104,
   "metadata": {
    "collapsed": false
   },
   "outputs": [
    {
     "name": "stdout",
     "output_type": "stream",
     "text": [
      "(415559, 3)\n"
     ]
    },
    {
     "data": {
      "text/html": [
       "<div>\n",
       "<table border=\"1\" class=\"dataframe\">\n",
       "  <thead>\n",
       "    <tr style=\"text-align: right;\">\n",
       "      <th></th>\n",
       "      <th>exon</th>\n",
       "      <th>direction</th>\n",
       "      <th>junction</th>\n",
       "    </tr>\n",
       "  </thead>\n",
       "  <tbody>\n",
       "    <tr>\n",
       "      <th>2</th>\n",
       "      <td>exon:chr1:24738-24891:-</td>\n",
       "      <td>downstream</td>\n",
       "      <td>junction:chr1:24892-29320:-</td>\n",
       "    </tr>\n",
       "    <tr>\n",
       "      <th>3</th>\n",
       "      <td>exon:chr1:24738-24891:-</td>\n",
       "      <td>upstream</td>\n",
       "      <td>junction:chr1:18062-24737:-</td>\n",
       "    </tr>\n",
       "    <tr>\n",
       "      <th>4</th>\n",
       "      <td>exon:chr1:24738-24891:-</td>\n",
       "      <td>upstream</td>\n",
       "      <td>junction:chr1:18367-24737:-</td>\n",
       "    </tr>\n",
       "    <tr>\n",
       "      <th>5</th>\n",
       "      <td>exon:chr1:24738-24891:-</td>\n",
       "      <td>upstream</td>\n",
       "      <td>junction:chr1:18380-24737:-</td>\n",
       "    </tr>\n",
       "    <tr>\n",
       "      <th>6</th>\n",
       "      <td>exon:chr1:24738-24891:-</td>\n",
       "      <td>upstream</td>\n",
       "      <td>junction:chr1:24440-24737:-</td>\n",
       "    </tr>\n",
       "  </tbody>\n",
       "</table>\n",
       "</div>"
      ],
      "text/plain": [
       "                      exon   direction                     junction\n",
       "2  exon:chr1:24738-24891:-  downstream  junction:chr1:24892-29320:-\n",
       "3  exon:chr1:24738-24891:-    upstream  junction:chr1:18062-24737:-\n",
       "4  exon:chr1:24738-24891:-    upstream  junction:chr1:18367-24737:-\n",
       "5  exon:chr1:24738-24891:-    upstream  junction:chr1:18380-24737:-\n",
       "6  exon:chr1:24738-24891:-    upstream  junction:chr1:24440-24737:-"
      ]
     },
     "execution_count": 104,
     "metadata": {},
     "output_type": "execute_result"
    }
   ],
   "source": [
    "exon_juction_direction_internal = junction_exons.loc[junction_exons.exon.isin(internal_exons.index)]\n",
    "print exon_juction_direction_internal.shape\n",
    "exon_juction_direction_internal.head()"
   ]
  },
  {
   "cell_type": "markdown",
   "metadata": {},
   "source": [
    "### Remove all exons that appear as exon2 in any alternative annotations, or exon3 for MXE"
   ]
  },
  {
   "cell_type": "code",
   "execution_count": 105,
   "metadata": {
    "collapsed": false
   },
   "outputs": [
    {
     "name": "stdout",
     "output_type": "stream",
     "text": [
      "(26987,)\n"
     ]
    },
    {
     "data": {
      "text/plain": [
       "isoform1=junction:chr10:100189400-100190327:-|isoform2=junction:chr10:100189647-100190327:-@exon:chr10:100189548-100189646:-@junction:chr10:100189400-100189547:-          SE\n",
       "isoform1=junction:chr10:100190428-100193696:-|isoform2=junction:chr10:100191049-100193696:-@exon:chr10:100190888-100191048:-@junction:chr10:100190428-100190887:-          SE\n",
       "isoform1=junction:chr10:100193849-100195391:-|isoform2=junction:chr10:100195172-100195391:-@exon:chr10:100195029-100195171:-@junction:chr10:100193849-100195028:-          SE\n",
       "isoform1=junction:chr10:101163392-101165512:-|isoform2=junction:chr10:101163632-101165512:-@exon:chr10:101163481-101163631:-@junction:chr10:101163392-101163480:-          SE\n",
       "isoform1=junction:chr10:101191023-101193302:+|isoform2=junction:chr10:101191023-101191686:+@novel_exon:chr10:101191687-101191705:+@junction:chr10:101191706-101193302:+    SE\n",
       "dtype: object"
      ]
     },
     "execution_count": 105,
     "metadata": {},
     "output_type": "execute_result"
    }
   ],
   "source": [
    "splicing_types = pd.Series(['MXE' if len(x.split('@')) == 5 else 'SE' for x in psi.columns], index=psi.columns)\n",
    "six.print_(splicing_types.shape)\n",
    "splicing_types.head()"
   ]
  },
  {
   "cell_type": "code",
   "execution_count": 106,
   "metadata": {
    "collapsed": false
   },
   "outputs": [
    {
     "data": {
      "text/plain": [
       "0    exon:chr10:101996607-101996726:-\n",
       "1    exon:chr10:102016019-102016233:-\n",
       "2    exon:chr10:102743705-102743831:-\n",
       "3    exon:chr10:102743705-102743831:-\n",
       "4    exon:chr10:102746444-102746732:-\n",
       "dtype: object"
      ]
     },
     "execution_count": 106,
     "metadata": {},
     "output_type": "execute_result"
    }
   ],
   "source": [
    "mxe_exon3s = pd.Series([x.split('|')[0].split('@')[1] for x in psi.columns[splicing_types == 'MXE']])\n",
    "mxe_exon3s.head()"
   ]
  },
  {
   "cell_type": "code",
   "execution_count": 107,
   "metadata": {
    "collapsed": false
   },
   "outputs": [
    {
     "name": "stdout",
     "output_type": "stream",
     "text": [
      "(29429,)\n",
      "(22113,)\n",
      "(346022, 3)\n"
     ]
    },
    {
     "data": {
      "text/html": [
       "<div>\n",
       "<table border=\"1\" class=\"dataframe\">\n",
       "  <thead>\n",
       "    <tr style=\"text-align: right;\">\n",
       "      <th></th>\n",
       "      <th>exon</th>\n",
       "      <th>direction</th>\n",
       "      <th>junction</th>\n",
       "    </tr>\n",
       "  </thead>\n",
       "  <tbody>\n",
       "    <tr>\n",
       "      <th>2</th>\n",
       "      <td>exon:chr1:24738-24891:-</td>\n",
       "      <td>downstream</td>\n",
       "      <td>junction:chr1:24892-29320:-</td>\n",
       "    </tr>\n",
       "    <tr>\n",
       "      <th>3</th>\n",
       "      <td>exon:chr1:24738-24891:-</td>\n",
       "      <td>upstream</td>\n",
       "      <td>junction:chr1:18062-24737:-</td>\n",
       "    </tr>\n",
       "    <tr>\n",
       "      <th>4</th>\n",
       "      <td>exon:chr1:24738-24891:-</td>\n",
       "      <td>upstream</td>\n",
       "      <td>junction:chr1:18367-24737:-</td>\n",
       "    </tr>\n",
       "    <tr>\n",
       "      <th>5</th>\n",
       "      <td>exon:chr1:24738-24891:-</td>\n",
       "      <td>upstream</td>\n",
       "      <td>junction:chr1:18380-24737:-</td>\n",
       "    </tr>\n",
       "    <tr>\n",
       "      <th>6</th>\n",
       "      <td>exon:chr1:24738-24891:-</td>\n",
       "      <td>upstream</td>\n",
       "      <td>junction:chr1:24440-24737:-</td>\n",
       "    </tr>\n",
       "  </tbody>\n",
       "</table>\n",
       "</div>"
      ],
      "text/plain": [
       "                      exon   direction                     junction\n",
       "2  exon:chr1:24738-24891:-  downstream  junction:chr1:24892-29320:-\n",
       "3  exon:chr1:24738-24891:-    upstream  junction:chr1:18062-24737:-\n",
       "4  exon:chr1:24738-24891:-    upstream  junction:chr1:18367-24737:-\n",
       "5  exon:chr1:24738-24891:-    upstream  junction:chr1:18380-24737:-\n",
       "6  exon:chr1:24738-24891:-    upstream  junction:chr1:24440-24737:-"
      ]
     },
     "execution_count": 107,
     "metadata": {},
     "output_type": "execute_result"
    }
   ],
   "source": [
    "alt_exons = pd.concat([exon2s, mxe_exon3s], ignore_index=True)\n",
    "print alt_exons.shape\n",
    "alt_exons = alt_exons.drop_duplicates()\n",
    "print alt_exons.shape\n",
    "\n",
    "in_alt_exons = exon_juction_direction_internal.exon.isin(alt_exons.values)\n",
    "\n",
    "constitutive = exon_juction_direction_internal.loc[(~in_alt_exons)]\n",
    "print constitutive.shape\n",
    "constitutive.head()"
   ]
  },
  {
   "cell_type": "code",
   "execution_count": 108,
   "metadata": {
    "collapsed": false
   },
   "outputs": [
    {
     "name": "stdout",
     "output_type": "stream",
     "text": [
      "(131071,)\n"
     ]
    },
    {
     "data": {
      "text/plain": [
       "0    outrigger.Region (exon:chr1:24738-24891:-)\n",
       "1    outrigger.Region (exon:chr1:18268-18379:-)\n",
       "2    outrigger.Region (exon:chr1:17915-18061:-)\n",
       "3    outrigger.Region (exon:chr1:16607-16765:-)\n",
       "4    outrigger.Region (exon:chr1:17606-17742:-)\n",
       "dtype: object"
      ]
     },
     "execution_count": 108,
     "metadata": {},
     "output_type": "execute_result"
    }
   ],
   "source": [
    "from outrigger.region import Region\n",
    "constitutive_regions = pd.Series(constitutive.exon.unique()).map(Region)\n",
    "print constitutive_regions.shape\n",
    "constitutive_regions.head()"
   ]
  },
  {
   "cell_type": "code",
   "execution_count": 109,
   "metadata": {
    "collapsed": false
   },
   "outputs": [
    {
     "data": {
      "text/plain": [
       "211227"
      ]
     },
     "execution_count": 109,
     "metadata": {},
     "output_type": "execute_result"
    }
   ],
   "source": [
    "constitutive_junctions = constitutive.junction.unique()\n",
    "len(constitutive_junctions)"
   ]
  },
  {
   "cell_type": "code",
   "execution_count": 110,
   "metadata": {
    "collapsed": false
   },
   "outputs": [
    {
     "data": {
      "text/plain": [
       "array(['junction:chr1:24892-29320:-', 'junction:chr1:18062-24737:-',\n",
       "       'junction:chr1:18367-24737:-', 'junction:chr1:18380-24737:-',\n",
       "       'junction:chr1:24440-24737:-', 'junction:chr1:18062-18267:-',\n",
       "       'junction:chr1:17056-17914:-', 'junction:chr1:17743-17914:-',\n",
       "       'junction:chr1:16766-16857:-', 'junction:chr1:16028-16606:-',\n",
       "       'junction:chr1:17369-17605:-', 'junction:chr1:17056-17232:-',\n",
       "       'junction:chr1:18367-29320:-', 'junction:chr1:29728-30563:+',\n",
       "       'junction:chr1:30040-30563:+', 'junction:chr1:30668-30975:+',\n",
       "       'junction:chr1:92241-112699:-', 'junction:chr1:91630-92090:-',\n",
       "       'junction:chr1:139848-140074:-', 'junction:chr1:139848-142946:-'], dtype=object)"
      ]
     },
     "execution_count": 110,
     "metadata": {},
     "output_type": "execute_result"
    }
   ],
   "source": [
    "constitutive_junctions[:20]"
   ]
  },
  {
   "cell_type": "markdown",
   "metadata": {},
   "source": [
    "### Filter constitutive junctions for usage\n",
    "\n",
    "Check that the junctions for these exons are seen in 20+ single cells per celltype"
   ]
  },
  {
   "cell_type": "code",
   "execution_count": 111,
   "metadata": {
    "collapsed": false
   },
   "outputs": [
    {
     "name": "stdout",
     "output_type": "stream",
     "text": [
      "bimodal_metadata_sequences.csv\r\n",
      "conservation\r\n",
      "constitutive_downstream400_pyrimidine_content.csv\r\n",
      "constitutive_exons.bed\r\n",
      "constitutive_feature_data.csv\r\n",
      "constitutive_upstream400_pyrimidine_content.csv\r\n",
      "exon2_downstream400_pyrimidine_content.csv\r\n",
      "exon2_upstream400_pyrimidine_content.csv\r\n",
      "expression.csv\r\n",
      "expression_stressed.csv\r\n",
      "junction_exon_triples.csv\r\n",
      "junction_reads_use_multimapping.csv\r\n",
      "mapping_stats.csv\r\n",
      "mapping_stats_stressed.csv\r\n",
      "metadata.csv\r\n",
      "metadata_stressed.csv\r\n",
      "miso_exons_names.csv\r\n",
      "miso_ids_outrigger_calculated_psi.csv\r\n",
      "miso_ids_outrigger_calculated_psi_unstranded.csv\r\n",
      "miso_junction_reads2d.csv\r\n",
      "miso_junction_reads2d_unstranded.csv\r\n",
      "miso_junctions_invalid_mxe.csv\r\n",
      "miso_junctions_names.csv\r\n",
      "miso_psi_comparison_junction_reads2d.csv\r\n",
      "mutually_exclusive_exon_consolidated_events.csv\r\n",
      "mutually_exclusive_exons_psi.csv\r\n",
      "mxe_events_with_stressed.csv\r\n",
      "nucleotide_content\r\n",
      "outrigger_output\r\n",
      "outrigger_singlecell.sh\r\n",
      "outrigger_singlecell.sh.err\r\n",
      "outrigger_singlecell.sh.out\r\n",
      "outrigger_singlecell.sh~\r\n",
      "outrigger_v2\r\n",
      "outrigger_v2_rmdup\r\n",
      "psi.csv\r\n",
      "psi3.csv\r\n",
      "psi3_stressed.csv\r\n",
      "psi5.csv\r\n",
      "psi5_psi3_combined.csv\r\n",
      "psi5_psi3_combined.hdf\r\n",
      "psi5_psi3_combined_metadata.csv\r\n",
      "psi5_psi3_combined_metadata.hdf\r\n",
      "psi5_stressed.csv\r\n",
      "psi_constitutively0.csv\r\n",
      "psi_constitutively1.csv\r\n",
      "psi_unfiltered.csv\r\n",
      "se_events_with_stressed.csv\r\n",
      "sj_metadata.csv\r\n",
      "sj_raw.bak\r\n",
      "sj_raw.csv\r\n",
      "sj_raw.csv.bak\r\n",
      "skipped_exon_consolidated_events.csv\r\n",
      "skipped_exon_psi_from_junctions.csv\r\n",
      "splice_junction_metadata.csv\r\n",
      "splice_junctions_psi.csv\r\n",
      "splicing.csv\r\n",
      "splicing_feature_data\r\n",
      "splicing_feature_data.csv\r\n",
      "splicing_stressed.csv\r\n"
     ]
    }
   ],
   "source": [
    "! ls $csv_folder"
   ]
  },
  {
   "cell_type": "code",
   "execution_count": 112,
   "metadata": {
    "collapsed": false
   },
   "outputs": [
    {
     "data": {
      "text/html": [
       "<div>\n",
       "<table border=\"1\" class=\"dataframe\">\n",
       "  <thead>\n",
       "    <tr style=\"text-align: right;\">\n",
       "      <th></th>\n",
       "      <th>chrom</th>\n",
       "      <th>intron_start</th>\n",
       "      <th>intron_stop</th>\n",
       "      <th>strand</th>\n",
       "      <th>intron_motif</th>\n",
       "      <th>annotated</th>\n",
       "      <th>unique_junction_reads</th>\n",
       "      <th>multimap_junction_reads</th>\n",
       "      <th>max_overhang</th>\n",
       "      <th>intron_location</th>\n",
       "      <th>sample_id</th>\n",
       "    </tr>\n",
       "  </thead>\n",
       "  <tbody>\n",
       "    <tr>\n",
       "      <th>0</th>\n",
       "      <td>chr1</td>\n",
       "      <td>14830.0</td>\n",
       "      <td>14969.0</td>\n",
       "      <td>-</td>\n",
       "      <td>GT/AG</td>\n",
       "      <td>True</td>\n",
       "      <td>0.0</td>\n",
       "      <td>1.0</td>\n",
       "      <td>35.0</td>\n",
       "      <td>chr1:14830-14969:-</td>\n",
       "      <td>CVN_09</td>\n",
       "    </tr>\n",
       "    <tr>\n",
       "      <th>1</th>\n",
       "      <td>chr1</td>\n",
       "      <td>15039.0</td>\n",
       "      <td>15795.0</td>\n",
       "      <td>-</td>\n",
       "      <td>GT/AG</td>\n",
       "      <td>True</td>\n",
       "      <td>0.0</td>\n",
       "      <td>1.0</td>\n",
       "      <td>49.0</td>\n",
       "      <td>chr1:15039-15795:-</td>\n",
       "      <td>CVN_09</td>\n",
       "    </tr>\n",
       "    <tr>\n",
       "      <th>2</th>\n",
       "      <td>chr1</td>\n",
       "      <td>228777.0</td>\n",
       "      <td>237053.0</td>\n",
       "      <td>-</td>\n",
       "      <td>GT/AG</td>\n",
       "      <td>True</td>\n",
       "      <td>2.0</td>\n",
       "      <td>12.0</td>\n",
       "      <td>48.0</td>\n",
       "      <td>chr1:228777-237053:-</td>\n",
       "      <td>CVN_09</td>\n",
       "    </tr>\n",
       "    <tr>\n",
       "      <th>3</th>\n",
       "      <td>chr1</td>\n",
       "      <td>320654.0</td>\n",
       "      <td>324287.0</td>\n",
       "      <td>+</td>\n",
       "      <td>GT/AG</td>\n",
       "      <td>True</td>\n",
       "      <td>0.0</td>\n",
       "      <td>1.0</td>\n",
       "      <td>28.0</td>\n",
       "      <td>chr1:320654-324287:+</td>\n",
       "      <td>CVN_09</td>\n",
       "    </tr>\n",
       "    <tr>\n",
       "      <th>4</th>\n",
       "      <td>chr1</td>\n",
       "      <td>320939.0</td>\n",
       "      <td>321031.0</td>\n",
       "      <td>+</td>\n",
       "      <td>GT/AG</td>\n",
       "      <td>True</td>\n",
       "      <td>0.0</td>\n",
       "      <td>3.0</td>\n",
       "      <td>39.0</td>\n",
       "      <td>chr1:320939-321031:+</td>\n",
       "      <td>CVN_09</td>\n",
       "    </tr>\n",
       "  </tbody>\n",
       "</table>\n",
       "</div>"
      ],
      "text/plain": [
       "  chrom  intron_start  intron_stop strand intron_motif annotated  \\\n",
       "0  chr1       14830.0      14969.0      -        GT/AG      True   \n",
       "1  chr1       15039.0      15795.0      -        GT/AG      True   \n",
       "2  chr1      228777.0     237053.0      -        GT/AG      True   \n",
       "3  chr1      320654.0     324287.0      +        GT/AG      True   \n",
       "4  chr1      320939.0     321031.0      +        GT/AG      True   \n",
       "\n",
       "   unique_junction_reads  multimap_junction_reads  max_overhang  \\\n",
       "0                    0.0                      1.0          35.0   \n",
       "1                    0.0                      1.0          49.0   \n",
       "2                    2.0                     12.0          48.0   \n",
       "3                    0.0                      1.0          28.0   \n",
       "4                    0.0                      3.0          39.0   \n",
       "\n",
       "        intron_location sample_id  \n",
       "0    chr1:14830-14969:-    CVN_09  \n",
       "1    chr1:15039-15795:-    CVN_09  \n",
       "2  chr1:228777-237053:-    CVN_09  \n",
       "3  chr1:320654-324287:+    CVN_09  \n",
       "4  chr1:320939-321031:+    CVN_09  "
      ]
     },
     "execution_count": 112,
     "metadata": {},
     "output_type": "execute_result"
    }
   ],
   "source": [
    "sj = pd.read_csv('{}/sj_raw.csv'.format(csv_folder))\n",
    "\n",
    "sj.head()"
   ]
  },
  {
   "cell_type": "markdown",
   "metadata": {},
   "source": [
    "### Get just junctions associated with constitutive exons"
   ]
  },
  {
   "cell_type": "code",
   "execution_count": 113,
   "metadata": {
    "collapsed": false
   },
   "outputs": [
    {
     "data": {
      "text/html": [
       "<div>\n",
       "<table border=\"1\" class=\"dataframe\">\n",
       "  <thead>\n",
       "    <tr style=\"text-align: right;\">\n",
       "      <th></th>\n",
       "      <th>chrom</th>\n",
       "      <th>intron_start</th>\n",
       "      <th>intron_stop</th>\n",
       "      <th>strand</th>\n",
       "      <th>intron_motif</th>\n",
       "      <th>annotated</th>\n",
       "      <th>unique_junction_reads</th>\n",
       "      <th>multimap_junction_reads</th>\n",
       "      <th>max_overhang</th>\n",
       "      <th>intron_location</th>\n",
       "      <th>sample_id</th>\n",
       "      <th>junction_location</th>\n",
       "    </tr>\n",
       "  </thead>\n",
       "  <tbody>\n",
       "    <tr>\n",
       "      <th>0</th>\n",
       "      <td>chr1</td>\n",
       "      <td>14830.0</td>\n",
       "      <td>14969.0</td>\n",
       "      <td>-</td>\n",
       "      <td>GT/AG</td>\n",
       "      <td>True</td>\n",
       "      <td>0.0</td>\n",
       "      <td>1.0</td>\n",
       "      <td>35.0</td>\n",
       "      <td>chr1:14830-14969:-</td>\n",
       "      <td>CVN_09</td>\n",
       "      <td>junction:chr1:14830-14969:-</td>\n",
       "    </tr>\n",
       "    <tr>\n",
       "      <th>1</th>\n",
       "      <td>chr1</td>\n",
       "      <td>15039.0</td>\n",
       "      <td>15795.0</td>\n",
       "      <td>-</td>\n",
       "      <td>GT/AG</td>\n",
       "      <td>True</td>\n",
       "      <td>0.0</td>\n",
       "      <td>1.0</td>\n",
       "      <td>49.0</td>\n",
       "      <td>chr1:15039-15795:-</td>\n",
       "      <td>CVN_09</td>\n",
       "      <td>junction:chr1:15039-15795:-</td>\n",
       "    </tr>\n",
       "    <tr>\n",
       "      <th>2</th>\n",
       "      <td>chr1</td>\n",
       "      <td>228777.0</td>\n",
       "      <td>237053.0</td>\n",
       "      <td>-</td>\n",
       "      <td>GT/AG</td>\n",
       "      <td>True</td>\n",
       "      <td>2.0</td>\n",
       "      <td>12.0</td>\n",
       "      <td>48.0</td>\n",
       "      <td>chr1:228777-237053:-</td>\n",
       "      <td>CVN_09</td>\n",
       "      <td>junction:chr1:228777-237053:-</td>\n",
       "    </tr>\n",
       "    <tr>\n",
       "      <th>3</th>\n",
       "      <td>chr1</td>\n",
       "      <td>320654.0</td>\n",
       "      <td>324287.0</td>\n",
       "      <td>+</td>\n",
       "      <td>GT/AG</td>\n",
       "      <td>True</td>\n",
       "      <td>0.0</td>\n",
       "      <td>1.0</td>\n",
       "      <td>28.0</td>\n",
       "      <td>chr1:320654-324287:+</td>\n",
       "      <td>CVN_09</td>\n",
       "      <td>junction:chr1:320654-324287:+</td>\n",
       "    </tr>\n",
       "    <tr>\n",
       "      <th>4</th>\n",
       "      <td>chr1</td>\n",
       "      <td>320939.0</td>\n",
       "      <td>321031.0</td>\n",
       "      <td>+</td>\n",
       "      <td>GT/AG</td>\n",
       "      <td>True</td>\n",
       "      <td>0.0</td>\n",
       "      <td>3.0</td>\n",
       "      <td>39.0</td>\n",
       "      <td>chr1:320939-321031:+</td>\n",
       "      <td>CVN_09</td>\n",
       "      <td>junction:chr1:320939-321031:+</td>\n",
       "    </tr>\n",
       "  </tbody>\n",
       "</table>\n",
       "</div>"
      ],
      "text/plain": [
       "  chrom  intron_start  intron_stop strand intron_motif annotated  \\\n",
       "0  chr1       14830.0      14969.0      -        GT/AG      True   \n",
       "1  chr1       15039.0      15795.0      -        GT/AG      True   \n",
       "2  chr1      228777.0     237053.0      -        GT/AG      True   \n",
       "3  chr1      320654.0     324287.0      +        GT/AG      True   \n",
       "4  chr1      320939.0     321031.0      +        GT/AG      True   \n",
       "\n",
       "   unique_junction_reads  multimap_junction_reads  max_overhang  \\\n",
       "0                    0.0                      1.0          35.0   \n",
       "1                    0.0                      1.0          49.0   \n",
       "2                    2.0                     12.0          48.0   \n",
       "3                    0.0                      1.0          28.0   \n",
       "4                    0.0                      3.0          39.0   \n",
       "\n",
       "        intron_location sample_id              junction_location  \n",
       "0    chr1:14830-14969:-    CVN_09    junction:chr1:14830-14969:-  \n",
       "1    chr1:15039-15795:-    CVN_09    junction:chr1:15039-15795:-  \n",
       "2  chr1:228777-237053:-    CVN_09  junction:chr1:228777-237053:-  \n",
       "3  chr1:320654-324287:+    CVN_09  junction:chr1:320654-324287:+  \n",
       "4  chr1:320939-321031:+    CVN_09  junction:chr1:320939-321031:+  "
      ]
     },
     "execution_count": 113,
     "metadata": {},
     "output_type": "execute_result"
    }
   ],
   "source": [
    "sj['junction_location'] = 'junction:' + sj['intron_location']\n",
    "sj.head()"
   ]
  },
  {
   "cell_type": "code",
   "execution_count": 114,
   "metadata": {
    "collapsed": false
   },
   "outputs": [
    {
     "name": "stdout",
     "output_type": "stream",
     "text": [
      "(5618543, 12)\n"
     ]
    },
    {
     "data": {
      "text/html": [
       "<div>\n",
       "<table border=\"1\" class=\"dataframe\">\n",
       "  <thead>\n",
       "    <tr style=\"text-align: right;\">\n",
       "      <th></th>\n",
       "      <th>chrom</th>\n",
       "      <th>intron_start</th>\n",
       "      <th>intron_stop</th>\n",
       "      <th>strand</th>\n",
       "      <th>intron_motif</th>\n",
       "      <th>annotated</th>\n",
       "      <th>unique_junction_reads</th>\n",
       "      <th>multimap_junction_reads</th>\n",
       "      <th>max_overhang</th>\n",
       "      <th>intron_location</th>\n",
       "      <th>sample_id</th>\n",
       "      <th>junction_location</th>\n",
       "    </tr>\n",
       "  </thead>\n",
       "  <tbody>\n",
       "    <tr>\n",
       "      <th>2</th>\n",
       "      <td>chr1</td>\n",
       "      <td>228777.0</td>\n",
       "      <td>237053.0</td>\n",
       "      <td>-</td>\n",
       "      <td>GT/AG</td>\n",
       "      <td>True</td>\n",
       "      <td>2.0</td>\n",
       "      <td>12.0</td>\n",
       "      <td>48.0</td>\n",
       "      <td>chr1:228777-237053:-</td>\n",
       "      <td>CVN_09</td>\n",
       "      <td>junction:chr1:228777-237053:-</td>\n",
       "    </tr>\n",
       "    <tr>\n",
       "      <th>3</th>\n",
       "      <td>chr1</td>\n",
       "      <td>320654.0</td>\n",
       "      <td>324287.0</td>\n",
       "      <td>+</td>\n",
       "      <td>GT/AG</td>\n",
       "      <td>True</td>\n",
       "      <td>0.0</td>\n",
       "      <td>1.0</td>\n",
       "      <td>28.0</td>\n",
       "      <td>chr1:320654-324287:+</td>\n",
       "      <td>CVN_09</td>\n",
       "      <td>junction:chr1:320654-324287:+</td>\n",
       "    </tr>\n",
       "    <tr>\n",
       "      <th>4</th>\n",
       "      <td>chr1</td>\n",
       "      <td>320939.0</td>\n",
       "      <td>321031.0</td>\n",
       "      <td>+</td>\n",
       "      <td>GT/AG</td>\n",
       "      <td>True</td>\n",
       "      <td>0.0</td>\n",
       "      <td>3.0</td>\n",
       "      <td>39.0</td>\n",
       "      <td>chr1:320939-321031:+</td>\n",
       "      <td>CVN_09</td>\n",
       "      <td>junction:chr1:320939-321031:+</td>\n",
       "    </tr>\n",
       "    <tr>\n",
       "      <th>5</th>\n",
       "      <td>chr1</td>\n",
       "      <td>324061.0</td>\n",
       "      <td>324287.0</td>\n",
       "      <td>+</td>\n",
       "      <td>GT/AG</td>\n",
       "      <td>True</td>\n",
       "      <td>0.0</td>\n",
       "      <td>1.0</td>\n",
       "      <td>28.0</td>\n",
       "      <td>chr1:324061-324287:+</td>\n",
       "      <td>CVN_09</td>\n",
       "      <td>junction:chr1:324061-324287:+</td>\n",
       "    </tr>\n",
       "    <tr>\n",
       "      <th>7</th>\n",
       "      <td>chr1</td>\n",
       "      <td>566511.0</td>\n",
       "      <td>567534.0</td>\n",
       "      <td>-</td>\n",
       "      <td>GT/AG</td>\n",
       "      <td>False</td>\n",
       "      <td>0.0</td>\n",
       "      <td>24.0</td>\n",
       "      <td>43.0</td>\n",
       "      <td>chr1:566511-567534:-</td>\n",
       "      <td>CVN_09</td>\n",
       "      <td>junction:chr1:566511-567534:-</td>\n",
       "    </tr>\n",
       "  </tbody>\n",
       "</table>\n",
       "</div>"
      ],
      "text/plain": [
       "  chrom  intron_start  intron_stop strand intron_motif annotated  \\\n",
       "2  chr1      228777.0     237053.0      -        GT/AG      True   \n",
       "3  chr1      320654.0     324287.0      +        GT/AG      True   \n",
       "4  chr1      320939.0     321031.0      +        GT/AG      True   \n",
       "5  chr1      324061.0     324287.0      +        GT/AG      True   \n",
       "7  chr1      566511.0     567534.0      -        GT/AG     False   \n",
       "\n",
       "   unique_junction_reads  multimap_junction_reads  max_overhang  \\\n",
       "2                    2.0                     12.0          48.0   \n",
       "3                    0.0                      1.0          28.0   \n",
       "4                    0.0                      3.0          39.0   \n",
       "5                    0.0                      1.0          28.0   \n",
       "7                    0.0                     24.0          43.0   \n",
       "\n",
       "        intron_location sample_id              junction_location  \n",
       "2  chr1:228777-237053:-    CVN_09  junction:chr1:228777-237053:-  \n",
       "3  chr1:320654-324287:+    CVN_09  junction:chr1:320654-324287:+  \n",
       "4  chr1:320939-321031:+    CVN_09  junction:chr1:320939-321031:+  \n",
       "5  chr1:324061-324287:+    CVN_09  junction:chr1:324061-324287:+  \n",
       "7  chr1:566511-567534:-    CVN_09  junction:chr1:566511-567534:-  "
      ]
     },
     "execution_count": 114,
     "metadata": {},
     "output_type": "execute_result"
    }
   ],
   "source": [
    "sj_constitutive = sj.loc[sj['junction_location'].isin(constitutive_junctions)]\n",
    "print sj_constitutive.shape\n",
    "sj_constitutive.head()"
   ]
  },
  {
   "cell_type": "code",
   "execution_count": 115,
   "metadata": {
    "collapsed": false
   },
   "outputs": [
    {
     "data": {
      "text/html": [
       "<div>\n",
       "<table border=\"1\" class=\"dataframe\">\n",
       "  <thead>\n",
       "    <tr style=\"text-align: right;\">\n",
       "      <th></th>\n",
       "      <th>single</th>\n",
       "      <th>pooled</th>\n",
       "      <th>phenotype</th>\n",
       "      <th>neuron</th>\n",
       "      <th>progenitor</th>\n",
       "      <th>stressed</th>\n",
       "      <th>craig_venter</th>\n",
       "      <th>differentiation_batch</th>\n",
       "      <th>split</th>\n",
       "    </tr>\n",
       "  </thead>\n",
       "  <tbody>\n",
       "    <tr>\n",
       "      <th>CVN_01</th>\n",
       "      <td>True</td>\n",
       "      <td>False</td>\n",
       "      <td>NPC</td>\n",
       "      <td>False</td>\n",
       "      <td>True</td>\n",
       "      <td>False</td>\n",
       "      <td>True</td>\n",
       "      <td>NaN</td>\n",
       "      <td>NaN</td>\n",
       "    </tr>\n",
       "    <tr>\n",
       "      <th>CVN_02</th>\n",
       "      <td>True</td>\n",
       "      <td>False</td>\n",
       "      <td>NPC</td>\n",
       "      <td>False</td>\n",
       "      <td>True</td>\n",
       "      <td>False</td>\n",
       "      <td>True</td>\n",
       "      <td>NaN</td>\n",
       "      <td>NaN</td>\n",
       "    </tr>\n",
       "    <tr>\n",
       "      <th>CVN_03</th>\n",
       "      <td>True</td>\n",
       "      <td>False</td>\n",
       "      <td>NPC</td>\n",
       "      <td>False</td>\n",
       "      <td>True</td>\n",
       "      <td>False</td>\n",
       "      <td>True</td>\n",
       "      <td>NaN</td>\n",
       "      <td>NaN</td>\n",
       "    </tr>\n",
       "    <tr>\n",
       "      <th>CVN_04</th>\n",
       "      <td>True</td>\n",
       "      <td>False</td>\n",
       "      <td>NPC</td>\n",
       "      <td>False</td>\n",
       "      <td>True</td>\n",
       "      <td>False</td>\n",
       "      <td>True</td>\n",
       "      <td>NaN</td>\n",
       "      <td>NaN</td>\n",
       "    </tr>\n",
       "    <tr>\n",
       "      <th>CVN_05</th>\n",
       "      <td>True</td>\n",
       "      <td>False</td>\n",
       "      <td>NPC</td>\n",
       "      <td>False</td>\n",
       "      <td>True</td>\n",
       "      <td>False</td>\n",
       "      <td>True</td>\n",
       "      <td>NaN</td>\n",
       "      <td>NaN</td>\n",
       "    </tr>\n",
       "  </tbody>\n",
       "</table>\n",
       "</div>"
      ],
      "text/plain": [
       "       single pooled phenotype neuron progenitor stressed craig_venter  \\\n",
       "CVN_01   True  False       NPC  False       True    False         True   \n",
       "CVN_02   True  False       NPC  False       True    False         True   \n",
       "CVN_03   True  False       NPC  False       True    False         True   \n",
       "CVN_04   True  False       NPC  False       True    False         True   \n",
       "CVN_05   True  False       NPC  False       True    False         True   \n",
       "\n",
       "       differentiation_batch split  \n",
       "CVN_01                   NaN   NaN  \n",
       "CVN_02                   NaN   NaN  \n",
       "CVN_03                   NaN   NaN  \n",
       "CVN_04                   NaN   NaN  \n",
       "CVN_05                   NaN   NaN  "
      ]
     },
     "execution_count": 115,
     "metadata": {},
     "output_type": "execute_result"
    }
   ],
   "source": [
    "# This metadata only has iPSC, NPC, and MN (no sMN)\n",
    "\n",
    "metadata = pd.read_csv('{}/metadata.csv'.format(csv_folder), index_col=0)\n",
    "metadata.head()"
   ]
  },
  {
   "cell_type": "code",
   "execution_count": 116,
   "metadata": {
    "collapsed": false
   },
   "outputs": [
    {
     "data": {
      "text/plain": [
       "phenotype\n",
       "MN      73\n",
       "NPC     76\n",
       "iPSC    65\n",
       "dtype: int64"
      ]
     },
     "execution_count": 116,
     "metadata": {},
     "output_type": "execute_result"
    }
   ],
   "source": [
    "metadata.groupby('phenotype').size()"
   ]
  },
  {
   "cell_type": "markdown",
   "metadata": {},
   "source": [
    "Get only single cells for calculating junction usage (no pooled)"
   ]
  },
  {
   "cell_type": "code",
   "execution_count": 117,
   "metadata": {
    "collapsed": true
   },
   "outputs": [],
   "source": [
    "phenotype = metadata.phenotype[metadata.single]"
   ]
  },
  {
   "cell_type": "markdown",
   "metadata": {},
   "source": [
    "### Call an exon constitutive if its junction start/stop is detected in at least MIN_CELLS (10) cells per celltype"
   ]
  },
  {
   "cell_type": "code",
   "execution_count": 118,
   "metadata": {
    "collapsed": false
   },
   "outputs": [
    {
     "data": {
      "text/html": [
       "<div>\n",
       "<table border=\"1\" class=\"dataframe\">\n",
       "  <thead>\n",
       "    <tr style=\"text-align: right;\">\n",
       "      <th></th>\n",
       "      <th>chrom</th>\n",
       "      <th>intron_start</th>\n",
       "      <th>intron_stop</th>\n",
       "      <th>strand</th>\n",
       "      <th>intron_motif</th>\n",
       "      <th>annotated</th>\n",
       "      <th>unique_junction_reads</th>\n",
       "      <th>multimap_junction_reads</th>\n",
       "      <th>max_overhang</th>\n",
       "      <th>intron_location</th>\n",
       "      <th>junction_location</th>\n",
       "      <th>phenotype</th>\n",
       "    </tr>\n",
       "  </thead>\n",
       "  <tbody>\n",
       "    <tr>\n",
       "      <th>CVN_01</th>\n",
       "      <td>chr1</td>\n",
       "      <td>1328184.0</td>\n",
       "      <td>1328775.0</td>\n",
       "      <td>-</td>\n",
       "      <td>GT/AG</td>\n",
       "      <td>True</td>\n",
       "      <td>20.0</td>\n",
       "      <td>0.0</td>\n",
       "      <td>50.0</td>\n",
       "      <td>chr1:1328184-1328775:-</td>\n",
       "      <td>junction:chr1:1328184-1328775:-</td>\n",
       "      <td>NPC</td>\n",
       "    </tr>\n",
       "    <tr>\n",
       "      <th>CVN_01</th>\n",
       "      <td>chr1</td>\n",
       "      <td>1337637.0</td>\n",
       "      <td>1341188.0</td>\n",
       "      <td>-</td>\n",
       "      <td>GT/AG</td>\n",
       "      <td>True</td>\n",
       "      <td>362.0</td>\n",
       "      <td>0.0</td>\n",
       "      <td>50.0</td>\n",
       "      <td>chr1:1337637-1341188:-</td>\n",
       "      <td>junction:chr1:1337637-1341188:-</td>\n",
       "      <td>NPC</td>\n",
       "    </tr>\n",
       "    <tr>\n",
       "      <th>CVN_01</th>\n",
       "      <td>chr1</td>\n",
       "      <td>1341267.0</td>\n",
       "      <td>1342288.0</td>\n",
       "      <td>-</td>\n",
       "      <td>GT/AG</td>\n",
       "      <td>True</td>\n",
       "      <td>312.0</td>\n",
       "      <td>0.0</td>\n",
       "      <td>50.0</td>\n",
       "      <td>chr1:1341267-1342288:-</td>\n",
       "      <td>junction:chr1:1341267-1342288:-</td>\n",
       "      <td>NPC</td>\n",
       "    </tr>\n",
       "    <tr>\n",
       "      <th>CVN_01</th>\n",
       "      <td>chr1</td>\n",
       "      <td>1342400.0</td>\n",
       "      <td>1342510.0</td>\n",
       "      <td>-</td>\n",
       "      <td>GT/AG</td>\n",
       "      <td>True</td>\n",
       "      <td>246.0</td>\n",
       "      <td>0.0</td>\n",
       "      <td>48.0</td>\n",
       "      <td>chr1:1342400-1342510:-</td>\n",
       "      <td>junction:chr1:1342400-1342510:-</td>\n",
       "      <td>NPC</td>\n",
       "    </tr>\n",
       "    <tr>\n",
       "      <th>CVN_01</th>\n",
       "      <td>chr1</td>\n",
       "      <td>1572367.0</td>\n",
       "      <td>1572442.0</td>\n",
       "      <td>-</td>\n",
       "      <td>GT/AG</td>\n",
       "      <td>True</td>\n",
       "      <td>0.0</td>\n",
       "      <td>2.0</td>\n",
       "      <td>8.0</td>\n",
       "      <td>chr1:1572367-1572442:-</td>\n",
       "      <td>junction:chr1:1572367-1572442:-</td>\n",
       "      <td>NPC</td>\n",
       "    </tr>\n",
       "  </tbody>\n",
       "</table>\n",
       "</div>"
      ],
      "text/plain": [
       "       chrom  intron_start  intron_stop strand intron_motif annotated  \\\n",
       "CVN_01  chr1     1328184.0    1328775.0      -        GT/AG      True   \n",
       "CVN_01  chr1     1337637.0    1341188.0      -        GT/AG      True   \n",
       "CVN_01  chr1     1341267.0    1342288.0      -        GT/AG      True   \n",
       "CVN_01  chr1     1342400.0    1342510.0      -        GT/AG      True   \n",
       "CVN_01  chr1     1572367.0    1572442.0      -        GT/AG      True   \n",
       "\n",
       "        unique_junction_reads  multimap_junction_reads  max_overhang  \\\n",
       "CVN_01                   20.0                      0.0          50.0   \n",
       "CVN_01                  362.0                      0.0          50.0   \n",
       "CVN_01                  312.0                      0.0          50.0   \n",
       "CVN_01                  246.0                      0.0          48.0   \n",
       "CVN_01                    0.0                      2.0           8.0   \n",
       "\n",
       "               intron_location                junction_location phenotype  \n",
       "CVN_01  chr1:1328184-1328775:-  junction:chr1:1328184-1328775:-       NPC  \n",
       "CVN_01  chr1:1337637-1341188:-  junction:chr1:1337637-1341188:-       NPC  \n",
       "CVN_01  chr1:1341267-1342288:-  junction:chr1:1341267-1342288:-       NPC  \n",
       "CVN_01  chr1:1342400-1342510:-  junction:chr1:1342400-1342510:-       NPC  \n",
       "CVN_01  chr1:1572367-1572442:-  junction:chr1:1572367-1572442:-       NPC  "
      ]
     },
     "execution_count": 118,
     "metadata": {},
     "output_type": "execute_result"
    }
   ],
   "source": [
    "sj_constitutive = sj_constitutive.set_index('sample_id')\n",
    "sj_constitutive = sj_constitutive.join(phenotype)\n",
    "sj_constitutive.head()"
   ]
  },
  {
   "cell_type": "markdown",
   "metadata": {},
   "source": [
    "### Use at least 10 unique junction reads"
   ]
  },
  {
   "cell_type": "code",
   "execution_count": 119,
   "metadata": {
    "collapsed": false
   },
   "outputs": [
    {
     "name": "stdout",
     "output_type": "stream",
     "text": [
      "(5618543, 12)\n",
      "(4049717, 12)\n"
     ]
    }
   ],
   "source": [
    "print sj_constitutive.shape\n",
    "sj_constitutive = sj_constitutive.loc[sj_constitutive.unique_junction_reads >= 10]\n",
    "print sj_constitutive.shape\n"
   ]
  },
  {
   "cell_type": "code",
   "execution_count": 120,
   "metadata": {
    "collapsed": false
   },
   "outputs": [
    {
     "name": "stdout",
     "output_type": "stream",
     "text": [
      "CPU times: user 1min 42s, sys: 485 ms, total: 1min 43s\n",
      "Wall time: 2min 47s\n"
     ]
    }
   ],
   "source": [
    "%%time\n",
    "\n",
    "min_samples = 10\n",
    "\n",
    "chrom = 'chrom'\n",
    "start = 'intron_start'\n",
    "stop = 'intron_stop'\n",
    "strand = 'strand'\n",
    "\n",
    "\n",
    "constitutive_starts = sj_constitutive.groupby('phenotype').apply(\n",
    "    lambda x: x.groupby([chrom, start, strand]).filter( lambda y: len(y.index.unique()) > min_samples ))\n",
    "    "
   ]
  },
  {
   "cell_type": "code",
   "execution_count": 121,
   "metadata": {
    "collapsed": false
   },
   "outputs": [
    {
     "name": "stdout",
     "output_type": "stream",
     "text": [
      "CPU times: user 1min 40s, sys: 449 ms, total: 1min 41s\n",
      "Wall time: 1min 42s\n"
     ]
    }
   ],
   "source": [
    "%%time \n",
    "\n",
    "constitutive_stops = sj_constitutive.groupby('phenotype').apply(\n",
    "    lambda x: x.groupby([chrom, stop, strand]).filter(lambda y: len(y.index.unique()) > min_samples ))\n"
   ]
  },
  {
   "cell_type": "markdown",
   "metadata": {},
   "source": [
    "### Filter for constitutive stops and starts that are in ALL phenotypes"
   ]
  },
  {
   "cell_type": "code",
   "execution_count": 122,
   "metadata": {
    "collapsed": false
   },
   "outputs": [
    {
     "data": {
      "text/plain": [
       "phenotype\n",
       "MN       509366\n",
       "NPC      762259\n",
       "iPSC    1257841\n",
       "dtype: int64"
      ]
     },
     "execution_count": 122,
     "metadata": {},
     "output_type": "execute_result"
    }
   ],
   "source": [
    "constitutive_stops.groupby('phenotype').size()"
   ]
  },
  {
   "cell_type": "code",
   "execution_count": 123,
   "metadata": {
    "collapsed": false
   },
   "outputs": [
    {
     "name": "stdout",
     "output_type": "stream",
     "text": [
      "CPU times: user 57.5 s, sys: 102 ms, total: 57.6 s\n",
      "Wall time: 57.9 s\n"
     ]
    }
   ],
   "source": [
    "%%time \n",
    "constitutive_stops_all_phenotypes = constitutive_stops.groupby('intron_location').filter(\n",
    "    lambda x: len(x.groupby('phenotype')) == 3)"
   ]
  },
  {
   "cell_type": "code",
   "execution_count": 124,
   "metadata": {
    "collapsed": false
   },
   "outputs": [
    {
     "name": "stdout",
     "output_type": "stream",
     "text": [
      "CPU times: user 58.1 s, sys: 294 ms, total: 58.4 s\n",
      "Wall time: 59.6 s\n"
     ]
    }
   ],
   "source": [
    "%%time\n",
    "constitutive_starts_all_phenotypes = constitutive_starts.groupby('intron_location').filter(\n",
    "    lambda x: len(x.groupby('phenotype')) == 3)"
   ]
  },
  {
   "cell_type": "code",
   "execution_count": 125,
   "metadata": {
    "collapsed": false
   },
   "outputs": [
    {
     "data": {
      "text/html": [
       "<div>\n",
       "<table border=\"1\" class=\"dataframe\">\n",
       "  <thead>\n",
       "    <tr style=\"text-align: right;\">\n",
       "      <th></th>\n",
       "      <th></th>\n",
       "      <th>chrom</th>\n",
       "      <th>intron_start</th>\n",
       "      <th>intron_stop</th>\n",
       "      <th>strand</th>\n",
       "      <th>intron_motif</th>\n",
       "      <th>annotated</th>\n",
       "      <th>unique_junction_reads</th>\n",
       "      <th>multimap_junction_reads</th>\n",
       "      <th>max_overhang</th>\n",
       "      <th>intron_location</th>\n",
       "      <th>junction_location</th>\n",
       "      <th>phenotype</th>\n",
       "    </tr>\n",
       "    <tr>\n",
       "      <th>phenotype</th>\n",
       "      <th></th>\n",
       "      <th></th>\n",
       "      <th></th>\n",
       "      <th></th>\n",
       "      <th></th>\n",
       "      <th></th>\n",
       "      <th></th>\n",
       "      <th></th>\n",
       "      <th></th>\n",
       "      <th></th>\n",
       "      <th></th>\n",
       "      <th></th>\n",
       "      <th></th>\n",
       "    </tr>\n",
       "  </thead>\n",
       "  <tbody>\n",
       "    <tr>\n",
       "      <th rowspan=\"5\" valign=\"top\">MN</th>\n",
       "      <th>M1_01</th>\n",
       "      <td>chr1</td>\n",
       "      <td>1337637.0</td>\n",
       "      <td>1341188.0</td>\n",
       "      <td>-</td>\n",
       "      <td>GT/AG</td>\n",
       "      <td>True</td>\n",
       "      <td>588.0</td>\n",
       "      <td>0.0</td>\n",
       "      <td>45.0</td>\n",
       "      <td>chr1:1337637-1341188:-</td>\n",
       "      <td>junction:chr1:1337637-1341188:-</td>\n",
       "      <td>MN</td>\n",
       "    </tr>\n",
       "    <tr>\n",
       "      <th>M1_01</th>\n",
       "      <td>chr1</td>\n",
       "      <td>1341267.0</td>\n",
       "      <td>1342288.0</td>\n",
       "      <td>-</td>\n",
       "      <td>GT/AG</td>\n",
       "      <td>True</td>\n",
       "      <td>341.0</td>\n",
       "      <td>0.0</td>\n",
       "      <td>46.0</td>\n",
       "      <td>chr1:1341267-1342288:-</td>\n",
       "      <td>junction:chr1:1341267-1342288:-</td>\n",
       "      <td>MN</td>\n",
       "    </tr>\n",
       "    <tr>\n",
       "      <th>M1_01</th>\n",
       "      <td>chr1</td>\n",
       "      <td>1342400.0</td>\n",
       "      <td>1342510.0</td>\n",
       "      <td>-</td>\n",
       "      <td>GT/AG</td>\n",
       "      <td>True</td>\n",
       "      <td>227.0</td>\n",
       "      <td>0.0</td>\n",
       "      <td>46.0</td>\n",
       "      <td>chr1:1342400-1342510:-</td>\n",
       "      <td>junction:chr1:1342400-1342510:-</td>\n",
       "      <td>MN</td>\n",
       "    </tr>\n",
       "    <tr>\n",
       "      <th>M1_01</th>\n",
       "      <td>chr1</td>\n",
       "      <td>1477548.0</td>\n",
       "      <td>1479248.0</td>\n",
       "      <td>-</td>\n",
       "      <td>GT/AG</td>\n",
       "      <td>True</td>\n",
       "      <td>504.0</td>\n",
       "      <td>0.0</td>\n",
       "      <td>45.0</td>\n",
       "      <td>chr1:1477548-1479248:-</td>\n",
       "      <td>junction:chr1:1477548-1479248:-</td>\n",
       "      <td>MN</td>\n",
       "    </tr>\n",
       "    <tr>\n",
       "      <th>M1_01</th>\n",
       "      <td>chr1</td>\n",
       "      <td>1479368.0</td>\n",
       "      <td>1480242.0</td>\n",
       "      <td>-</td>\n",
       "      <td>GT/AG</td>\n",
       "      <td>True</td>\n",
       "      <td>421.0</td>\n",
       "      <td>0.0</td>\n",
       "      <td>45.0</td>\n",
       "      <td>chr1:1479368-1480242:-</td>\n",
       "      <td>junction:chr1:1479368-1480242:-</td>\n",
       "      <td>MN</td>\n",
       "    </tr>\n",
       "  </tbody>\n",
       "</table>\n",
       "</div>"
      ],
      "text/plain": [
       "                chrom  intron_start  intron_stop strand intron_motif  \\\n",
       "phenotype                                                              \n",
       "MN        M1_01  chr1     1337637.0    1341188.0      -        GT/AG   \n",
       "          M1_01  chr1     1341267.0    1342288.0      -        GT/AG   \n",
       "          M1_01  chr1     1342400.0    1342510.0      -        GT/AG   \n",
       "          M1_01  chr1     1477548.0    1479248.0      -        GT/AG   \n",
       "          M1_01  chr1     1479368.0    1480242.0      -        GT/AG   \n",
       "\n",
       "                annotated  unique_junction_reads  multimap_junction_reads  \\\n",
       "phenotype                                                                   \n",
       "MN        M1_01      True                  588.0                      0.0   \n",
       "          M1_01      True                  341.0                      0.0   \n",
       "          M1_01      True                  227.0                      0.0   \n",
       "          M1_01      True                  504.0                      0.0   \n",
       "          M1_01      True                  421.0                      0.0   \n",
       "\n",
       "                 max_overhang         intron_location  \\\n",
       "phenotype                                               \n",
       "MN        M1_01          45.0  chr1:1337637-1341188:-   \n",
       "          M1_01          46.0  chr1:1341267-1342288:-   \n",
       "          M1_01          46.0  chr1:1342400-1342510:-   \n",
       "          M1_01          45.0  chr1:1477548-1479248:-   \n",
       "          M1_01          45.0  chr1:1479368-1480242:-   \n",
       "\n",
       "                               junction_location phenotype  \n",
       "phenotype                                                   \n",
       "MN        M1_01  junction:chr1:1337637-1341188:-        MN  \n",
       "          M1_01  junction:chr1:1341267-1342288:-        MN  \n",
       "          M1_01  junction:chr1:1342400-1342510:-        MN  \n",
       "          M1_01  junction:chr1:1477548-1479248:-        MN  \n",
       "          M1_01  junction:chr1:1479368-1480242:-        MN  "
      ]
     },
     "execution_count": 125,
     "metadata": {},
     "output_type": "execute_result"
    }
   ],
   "source": [
    "constitutive_stops_all_phenotypes.head()"
   ]
  },
  {
   "cell_type": "code",
   "execution_count": 126,
   "metadata": {
    "collapsed": false
   },
   "outputs": [],
   "source": [
    "constitutive_upstream_junctions = constitutive_stops_all_phenotypes.junction_location.unique()\n",
    "constitutive_downstream_junctions = constitutive_starts_all_phenotypes.junction_location.unique()"
   ]
  },
  {
   "cell_type": "code",
   "execution_count": 127,
   "metadata": {
    "collapsed": false
   },
   "outputs": [],
   "source": [
    "grouped = constitutive.groupby('direction')\n",
    "upstream = grouped.get_group('upstream')\n",
    "downstream = grouped.get_group('downstream')"
   ]
  },
  {
   "cell_type": "markdown",
   "metadata": {},
   "source": [
    "Get exons which have both junctions in the list of constitutive"
   ]
  },
  {
   "cell_type": "code",
   "execution_count": 128,
   "metadata": {
    "collapsed": false
   },
   "outputs": [
    {
     "name": "stdout",
     "output_type": "stream",
     "text": [
      "CPU times: user 6min 28s, sys: 107 ms, total: 6min 28s\n",
      "Wall time: 6min 36s\n"
     ]
    }
   ],
   "source": [
    "%%time\n",
    "constitutive_both_junctions = constitutive.groupby('exon').filter(\n",
    "    lambda x: bool(x['junction'].isin(constitutive_downstream_junctions).sum() \n",
    "                   & x['junction'].isin(constitutive_upstream_junctions).sum()))"
   ]
  },
  {
   "cell_type": "code",
   "execution_count": 129,
   "metadata": {
    "collapsed": false
   },
   "outputs": [
    {
     "data": {
      "text/html": [
       "<div>\n",
       "<table border=\"1\" class=\"dataframe\">\n",
       "  <thead>\n",
       "    <tr style=\"text-align: right;\">\n",
       "      <th></th>\n",
       "      <th>exon</th>\n",
       "      <th>direction</th>\n",
       "      <th>junction</th>\n",
       "    </tr>\n",
       "  </thead>\n",
       "  <tbody>\n",
       "    <tr>\n",
       "      <th>753</th>\n",
       "      <td>exon:chr1:1247398-1247527:-</td>\n",
       "      <td>downstream</td>\n",
       "      <td>junction:chr1:1247528-1247605:-</td>\n",
       "    </tr>\n",
       "    <tr>\n",
       "      <th>754</th>\n",
       "      <td>exon:chr1:1247398-1247527:-</td>\n",
       "      <td>upstream</td>\n",
       "      <td>junction:chr1:1247305-1247397:-</td>\n",
       "    </tr>\n",
       "    <tr>\n",
       "      <th>929</th>\n",
       "      <td>exon:chr1:1309380-1309825:-</td>\n",
       "      <td>downstream</td>\n",
       "      <td>junction:chr1:1309826-1310084:-</td>\n",
       "    </tr>\n",
       "    <tr>\n",
       "      <th>930</th>\n",
       "      <td>exon:chr1:1309380-1309825:-</td>\n",
       "      <td>downstream</td>\n",
       "      <td>junction:chr1:1309826-1310533:-</td>\n",
       "    </tr>\n",
       "    <tr>\n",
       "      <th>931</th>\n",
       "      <td>exon:chr1:1309380-1309825:-</td>\n",
       "      <td>upstream</td>\n",
       "      <td>junction:chr1:1309283-1309379:-</td>\n",
       "    </tr>\n",
       "  </tbody>\n",
       "</table>\n",
       "</div>"
      ],
      "text/plain": [
       "                            exon   direction                         junction\n",
       "753  exon:chr1:1247398-1247527:-  downstream  junction:chr1:1247528-1247605:-\n",
       "754  exon:chr1:1247398-1247527:-    upstream  junction:chr1:1247305-1247397:-\n",
       "929  exon:chr1:1309380-1309825:-  downstream  junction:chr1:1309826-1310084:-\n",
       "930  exon:chr1:1309380-1309825:-  downstream  junction:chr1:1309826-1310533:-\n",
       "931  exon:chr1:1309380-1309825:-    upstream  junction:chr1:1309283-1309379:-"
      ]
     },
     "execution_count": 129,
     "metadata": {},
     "output_type": "execute_result"
    }
   ],
   "source": [
    "constitutive_both_junctions.head()"
   ]
  },
  {
   "cell_type": "code",
   "execution_count": 130,
   "metadata": {
    "collapsed": true
   },
   "outputs": [],
   "source": [
    "splicing_feature_folder = '{}/splicing_feature_data'.format(csv_folder)\n",
    "alternative_feature_folder = '{}/alternative'.format(splicing_feature_folder)\n",
    "constitutive_feature_folder = '{}/constitutive'.format(splicing_feature_folder)\n"
   ]
  },
  {
   "cell_type": "code",
   "execution_count": 131,
   "metadata": {
    "collapsed": false
   },
   "outputs": [],
   "source": [
    "constitutive_both_junctions.to_csv('{}/constitutive_junctions.csv'.format(constitutive_feature_folder), index=False)"
   ]
  },
  {
   "cell_type": "code",
   "execution_count": 132,
   "metadata": {
    "collapsed": false
   },
   "outputs": [
    {
     "data": {
      "text/plain": [
       "(56845, 3)"
      ]
     },
     "execution_count": 132,
     "metadata": {},
     "output_type": "execute_result"
    }
   ],
   "source": [
    "constitutive_both_junctions.shape"
   ]
  },
  {
   "cell_type": "code",
   "execution_count": 133,
   "metadata": {
    "collapsed": false
   },
   "outputs": [
    {
     "data": {
      "text/plain": [
       "17613"
      ]
     },
     "execution_count": 133,
     "metadata": {},
     "output_type": "execute_result"
    }
   ],
   "source": [
    "len(constitutive_both_junctions.exon.unique())"
   ]
  },
  {
   "cell_type": "markdown",
   "metadata": {},
   "source": [
    "#### Make \"constitutive_exons\""
   ]
  },
  {
   "cell_type": "code",
   "execution_count": 134,
   "metadata": {
    "collapsed": false
   },
   "outputs": [
    {
     "data": {
      "text/plain": [
       "753     exon:chr1:1247398-1247527:-\n",
       "754     exon:chr1:1247398-1247527:-\n",
       "929     exon:chr1:1309380-1309825:-\n",
       "930     exon:chr1:1309380-1309825:-\n",
       "931     exon:chr1:1309380-1309825:-\n",
       "1051    exon:chr1:1341189-1341266:-\n",
       "1052    exon:chr1:1341189-1341266:-\n",
       "1053    exon:chr1:1341189-1341266:-\n",
       "1054    exon:chr1:1341189-1341266:-\n",
       "1055    exon:chr1:1341189-1341266:-\n",
       "Name: exon, dtype: object"
      ]
     },
     "execution_count": 134,
     "metadata": {},
     "output_type": "execute_result"
    }
   ],
   "source": [
    "constitutive_exons = constitutive_both_junctions.exon\n",
    "constitutive_exons[:10]"
   ]
  },
  {
   "cell_type": "code",
   "execution_count": 135,
   "metadata": {
    "collapsed": false
   },
   "outputs": [
    {
     "data": {
      "text/plain": [
       "(56845,)"
      ]
     },
     "execution_count": 135,
     "metadata": {},
     "output_type": "execute_result"
    }
   ],
   "source": [
    "constitutive_exons.shape"
   ]
  },
  {
   "cell_type": "code",
   "execution_count": 136,
   "metadata": {
    "collapsed": false
   },
   "outputs": [
    {
     "name": "stdout",
     "output_type": "stream",
     "text": [
      "(56845,)\n",
      "(17613,)\n"
     ]
    }
   ],
   "source": [
    "constitutive_exons_no_duplicates = pd.Series(constitutive_exons)\n",
    "six.print_(constitutive_exons_no_duplicates.shape)\n",
    "constitutive_exons_no_duplicates = constitutive_exons_no_duplicates.drop_duplicates()\n",
    "six.print_(constitutive_exons_no_duplicates.shape)"
   ]
  },
  {
   "cell_type": "markdown",
   "metadata": {},
   "source": [
    "### Add everything from psi_constitutively1"
   ]
  },
  {
   "cell_type": "code",
   "execution_count": 137,
   "metadata": {
    "collapsed": false
   },
   "outputs": [
    {
     "name": "stdout",
     "output_type": "stream",
     "text": [
      "(24485,)\n",
      "(21481,)\n"
     ]
    }
   ],
   "source": [
    "all_constitutive_exons = pd.concat([constitutive_exons_no_duplicates, constitutive_exon2s])\n",
    "six.print_(all_constitutive_exons.shape)\n",
    "all_constitutive_exons = all_constitutive_exons.drop_duplicates()\n",
    "six.print_(all_constitutive_exons.shape)"
   ]
  },
  {
   "cell_type": "markdown",
   "metadata": {},
   "source": [
    "### Make BED file of constitutive"
   ]
  },
  {
   "cell_type": "code",
   "execution_count": 138,
   "metadata": {
    "collapsed": false
   },
   "outputs": [],
   "source": [
    "Region.__len__??"
   ]
  },
  {
   "cell_type": "code",
   "execution_count": 139,
   "metadata": {
    "collapsed": false
   },
   "outputs": [
    {
     "name": "stdout",
     "output_type": "stream",
     "text": [
      "21481\n",
      "21480\n",
      "(21480, 6)\n"
     ]
    },
    {
     "data": {
      "text/html": [
       "<div>\n",
       "<table border=\"1\" class=\"dataframe\">\n",
       "  <thead>\n",
       "    <tr style=\"text-align: right;\">\n",
       "      <th></th>\n",
       "      <th>0</th>\n",
       "      <th>1</th>\n",
       "      <th>2</th>\n",
       "      <th>3</th>\n",
       "      <th>4</th>\n",
       "      <th>5</th>\n",
       "    </tr>\n",
       "  </thead>\n",
       "  <tbody>\n",
       "    <tr>\n",
       "      <th>7924</th>\n",
       "      <td>chr10</td>\n",
       "      <td>101162337</td>\n",
       "      <td>101162479</td>\n",
       "      <td>exon:chr10:101162337-101162479:-</td>\n",
       "      <td>1000</td>\n",
       "      <td>-</td>\n",
       "    </tr>\n",
       "    <tr>\n",
       "      <th>7923</th>\n",
       "      <td>chr10</td>\n",
       "      <td>101163226</td>\n",
       "      <td>101163391</td>\n",
       "      <td>exon:chr10:101163226-101163391:-</td>\n",
       "      <td>1000</td>\n",
       "      <td>-</td>\n",
       "    </tr>\n",
       "    <tr>\n",
       "      <th>7922</th>\n",
       "      <td>chr10</td>\n",
       "      <td>101165513</td>\n",
       "      <td>101165617</td>\n",
       "      <td>exon:chr10:101165513-101165617:-</td>\n",
       "      <td>1000</td>\n",
       "      <td>-</td>\n",
       "    </tr>\n",
       "    <tr>\n",
       "      <th>7921</th>\n",
       "      <td>chr10</td>\n",
       "      <td>101165894</td>\n",
       "      <td>101166006</td>\n",
       "      <td>exon:chr10:101165894-101166006:-</td>\n",
       "      <td>1000</td>\n",
       "      <td>-</td>\n",
       "    </tr>\n",
       "    <tr>\n",
       "      <th>7920</th>\n",
       "      <td>chr10</td>\n",
       "      <td>101166483</td>\n",
       "      <td>101166606</td>\n",
       "      <td>exon:chr10:101166483-101166606:-</td>\n",
       "      <td>1000</td>\n",
       "      <td>-</td>\n",
       "    </tr>\n",
       "  </tbody>\n",
       "</table>\n",
       "</div>"
      ],
      "text/plain": [
       "          0          1          2                                 3     4  5\n",
       "7924  chr10  101162337  101162479  exon:chr10:101162337-101162479:-  1000  -\n",
       "7923  chr10  101163226  101163391  exon:chr10:101163226-101163391:-  1000  -\n",
       "7922  chr10  101165513  101165617  exon:chr10:101165513-101165617:-  1000  -\n",
       "7921  chr10  101165894  101166006  exon:chr10:101165894-101166006:-  1000  -\n",
       "7920  chr10  101166483  101166606  exon:chr10:101166483-101166606:-  1000  -"
      ]
     },
     "execution_count": 139,
     "metadata": {},
     "output_type": "execute_result"
    }
   ],
   "source": [
    "constitutive_regions = all_constitutive_exons.map(Region)\n",
    "print(len(constitutive_regions))\n",
    "constitutive_regions = pd.Series([x for x in constitutive_regions if len(x) > 1])\n",
    "print(len(constitutive_regions))\n",
    "\n",
    "constitutive_bed_table = pd.DataFrame(\n",
    "    map(lambda x: [x.chrom, x.start, x.stop, x.name, 1000, x.strand], constitutive_regions))\n",
    "constitutive_bed_table[3] = map(lambda x: x.name, constitutive_regions)\n",
    "constitutive_bed_table = constitutive_bed_table.sort_values(by=3)\n",
    "\n",
    "constitutive_bed_table = constitutive_bed_table.drop_duplicates()\n",
    "print constitutive_bed_table.shape\n",
    "constitutive_bed_table.head()"
   ]
  },
  {
   "cell_type": "code",
   "execution_count": 140,
   "metadata": {
    "collapsed": true
   },
   "outputs": [],
   "source": [
    "constitutive_bed_table.to_csv('{}/exons.bed'.format(constitutive_feature_folder), sep='\\t', index=False, header=False)"
   ]
  },
  {
   "cell_type": "code",
   "execution_count": 141,
   "metadata": {
    "collapsed": false
   },
   "outputs": [
    {
     "name": "stdout",
     "output_type": "stream",
     "text": [
      "chr10\t101162337\t101162479\texon:chr10:101162337-101162479:-\t1000\t-\r\n",
      "chr10\t101163226\t101163391\texon:chr10:101163226-101163391:-\t1000\t-\r\n",
      "chr10\t101165513\t101165617\texon:chr10:101165513-101165617:-\t1000\t-\r\n",
      "chr10\t101165894\t101166006\texon:chr10:101165894-101166006:-\t1000\t-\r\n",
      "chr10\t101166483\t101166606\texon:chr10:101166483-101166606:-\t1000\t-\r\n",
      "chr10\t101180381\t101180562\texon:chr10:101180381-101180562:-\t1000\t-\r\n",
      "chr10\t101439018\t101439223\texon:chr10:101439018-101439223:+\t1000\t+\r\n",
      "chr10\t101480744\t101480825\texon:chr10:101480744-101480825:-\t1000\t-\r\n",
      "chr10\t101483713\t101483880\texon:chr10:101483713-101483880:-\t1000\t-\r\n",
      "chr10\t101486725\t101486911\texon:chr10:101486725-101486911:-\t1000\t-\r\n"
     ]
    }
   ],
   "source": [
    "! head $constitutive_feature_folder/exons.bed"
   ]
  },
  {
   "cell_type": "code",
   "execution_count": 142,
   "metadata": {
    "collapsed": false
   },
   "outputs": [
    {
     "name": "stdout",
     "output_type": "stream",
     "text": [
      "constitutive_exons_phastcons_placental_mammal.bed\r\n",
      "constitutive_exons_phastcons_placental_mammal.txt\r\n",
      "constitutive_junctions.csv\r\n",
      "downstream400_placental_mammal_conservation.csv\r\n",
      "exon2_merkin2012_ancient.csv\r\n",
      "exon_length.csv\r\n",
      "exons.bed\r\n",
      "exons.fasta\r\n",
      "exons.hg19.100way.phastCons.txt\r\n",
      "exons_downstream200nt.bed\r\n",
      "exons_downstream200nt_kmers.csv\r\n",
      "exons_kmers.csv\r\n",
      "exons_merkin2012_ancient_alt_exons.bed\r\n",
      "exons_phastcons_placental_mammal.bed\r\n",
      "exons_phastcons_placental_mammal.txt\r\n",
      "exons_rnahybrid_mirbase_results.txt\r\n",
      "exons_stop_plus1.bed\r\n",
      "exons_upstream200_background.bed\r\n",
      "exons_upstream200_placental_background.bed\r\n",
      "exons_upstream200nt.bed\r\n",
      "exons_upstream200nt_kmers.csv\r\n",
      "first_last_internal.csv\r\n",
      "gc_content.csv\r\n",
      "genes.csv\r\n",
      "genes_expanded.csv\r\n",
      "intron_length.csv\r\n",
      "maxentscan.csv\r\n",
      "\u001b[0m\u001b[01;34mnucleotide_content\u001b[0m/\r\n",
      "\u001b[01;36mphastcons_placental_mammal.txt\u001b[0m@\r\n",
      "repetitive_element_overlap.csv\r\n",
      "upstream400_placental_mammal_conservation.csv\r\n",
      "\u001b[m"
     ]
    }
   ],
   "source": [
    "ls $constitutive_feature_folder"
   ]
  },
  {
   "cell_type": "code",
   "execution_count": null,
   "metadata": {
    "collapsed": true
   },
   "outputs": [],
   "source": []
  },
  {
   "cell_type": "code",
   "execution_count": null,
   "metadata": {
    "collapsed": true
   },
   "outputs": [],
   "source": []
  },
  {
   "cell_type": "code",
   "execution_count": null,
   "metadata": {
    "collapsed": true
   },
   "outputs": [],
   "source": []
  }
 ],
 "metadata": {
  "kernelspec": {
   "display_name": "Python 2",
   "language": "python",
   "name": "python2"
  },
  "language_info": {
   "codemirror_mode": {
    "name": "ipython",
    "version": 2
   },
   "file_extension": ".py",
   "mimetype": "text/x-python",
   "name": "python",
   "nbconvert_exporter": "python",
   "pygments_lexer": "ipython2",
   "version": "2.7.11"
  }
 },
 "nbformat": 4,
 "nbformat_minor": 0
}
