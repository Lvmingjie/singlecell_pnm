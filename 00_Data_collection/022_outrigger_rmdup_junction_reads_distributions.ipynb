{
 "cells": [
  {
   "cell_type": "code",
   "execution_count": 1,
   "metadata": {
    "collapsed": true
   },
   "outputs": [],
   "source": [
    "from __future__ import print_function"
   ]
  },
  {
   "cell_type": "code",
   "execution_count": 2,
   "metadata": {
    "collapsed": false
   },
   "outputs": [
    {
     "name": "stdout",
     "output_type": "stream",
     "text": [
      "2017-01-07 09:12:49\tReading datapackage from /projects/ps-yeolab/obotvinnik/flotilla_projects/singlecell_pnm/datapackage.json\n",
      "2017-01-07 09:12:49\tParsing datapackage to create a Study object\n",
      "https://s3-us-west-2.amazonaws.com/flotilla-projects/ercc/ERCC_Controls.txt has not been downloaded before.\n",
      "\tDownloading now to /home/obotvinnik/flotilla_projects/hg19/ERCC_Controls.txt\n"
     ]
    },
    {
     "name": "stderr",
     "output_type": "stream",
     "text": [
      "/home/obotvinnik/anaconda/lib/python2.7/site-packages/sklearn/cross_validation.py:44: DeprecationWarning: This module was deprecated in version 0.18 in favor of the model_selection module into which all the refactored classes and functions are moved. Also note that the interface of the new CV iterators are different from that of this module. This module will be removed in 0.20.\n",
      "  \"This module will be removed in 0.20.\", DeprecationWarning)\n",
      "Error loading species hg19 data: HTTP Error 404: Not Found"
     ]
    },
    {
     "name": "stdout",
     "output_type": "stream",
     "text": [
      "2017-01-07 09:13:04 \tInitializing Study\n",
      "2017-01-07 09:13:04 \tInitializing Predictor configuration manager for Study\n",
      "2017-01-07 09:13:04\tPredictor ExtraTreesClassifier is of type <class 'sklearn.ensemble.forest.ExtraTreesClassifier'>\n",
      "2017-01-07 09:13:04\tAdded ExtraTreesClassifier to default predictors\n",
      "2017-01-07 09:13:04\tPredictor ExtraTreesRegressor is of type <class 'sklearn.ensemble.forest.ExtraTreesRegressor'>\n",
      "2017-01-07 09:13:04\tAdded ExtraTreesRegressor to default predictors\n",
      "2017-01-07 09:13:04\tPredictor GradientBoostingClassifier is of type <class 'sklearn.ensemble.gradient_boosting.GradientBoostingClassifier'>\n",
      "2017-01-07 09:13:04\tAdded GradientBoostingClassifier to default predictors\n",
      "2017-01-07 09:13:04\tPredictor GradientBoostingRegressor is of type <class 'sklearn.ensemble.gradient_boosting.GradientBoostingRegressor'>\n",
      "2017-01-07 09:13:04\tAdded GradientBoostingRegressor to default predictors\n",
      "2017-01-07 09:13:04 \tLoading metadata\n",
      "2017-01-07 09:13:04\tLoading expression data\n",
      "2017-01-07 09:13:04\tInitializing expression\n",
      "2017-01-07 09:13:05\tDone initializing expression\n",
      "2017-01-07 09:13:07\tLoading splicing data\n",
      "2017-01-07 09:13:07\tInitializing splicing\n",
      "2017-01-07 09:13:07\tDone initializing splicing\n",
      "2017-01-07 09:13:07\tSuccessfully initialized a Study object!\n"
     ]
    }
   ],
   "source": [
    "from collections import defaultdict\n",
    "\n",
    "import matplotlib as mpl\n",
    "import matplotlib.pyplot as plt\n",
    "import numpy as np\n",
    "import pandas as pd\n",
    "import seaborn as sns\n",
    "\n",
    "import six\n",
    "\n",
    "%matplotlib inline\n",
    "\n",
    "\n",
    "import flotilla\n",
    "\n",
    "\n",
    "flotilla_dir = '/projects/ps-yeolab/obotvinnik/flotilla_projects/'\n",
    "study = flotilla.embark('singlecell_pnm', flotilla_dir=flotilla_dir)"
   ]
  },
  {
   "cell_type": "code",
   "execution_count": 3,
   "metadata": {
    "collapsed": true
   },
   "outputs": [],
   "source": [
    "sns.set(style='whitegrid', context='paper')"
   ]
  },
  {
   "cell_type": "code",
   "execution_count": 4,
   "metadata": {
    "collapsed": true
   },
   "outputs": [],
   "source": [
    "figure_folder = 'figures/020_outrigger_rmdup_comparison'\n",
    "! mkdir -p $figure_folder"
   ]
  },
  {
   "cell_type": "code",
   "execution_count": 5,
   "metadata": {
    "collapsed": true
   },
   "outputs": [],
   "source": [
    "folder = '/projects/ps-yeolab/obotvinnik/singlecell_pnms'\n",
    "original_folder = '{}/outrigger_v2/psi'.format(folder)\n",
    "rmdup_folder = '{}/csvs_for_paper/outrigger_v2_rmdup/psi'.format(folder)"
   ]
  },
  {
   "cell_type": "code",
   "execution_count": 6,
   "metadata": {
    "collapsed": false
   },
   "outputs": [
    {
     "name": "stderr",
     "output_type": "stream",
     "text": [
      "/home/obotvinnik/anaconda/lib/python2.7/site-packages/IPython/core/interactiveshell.py:2723: DtypeWarning: Columns (1) have mixed types. Specify dtype option on import or set low_memory=False.\n",
      "  interactivity=interactivity, compiler=compiler, result=result)\n"
     ]
    }
   ],
   "source": [
    "summary_tidy = pd.read_csv('{}/outrigger_summary_original_rmdup_combined_tidy.csv'.format(folder))"
   ]
  },
  {
   "cell_type": "code",
   "execution_count": 7,
   "metadata": {
    "collapsed": false
   },
   "outputs": [
    {
     "data": {
      "text/plain": [
       "['isoform1_junction13',\n",
       " 'isoform1_junction34',\n",
       " 'isoform2_junction12',\n",
       " 'isoform2_junction23',\n",
       " 'isoform2_junction24']"
      ]
     },
     "execution_count": 7,
     "metadata": {},
     "output_type": "execute_result"
    }
   ],
   "source": [
    "compatible_junction_cols = [x for x in summary_tidy if x.startswith('isoform') and 'junction' in x]\n",
    "compatible_junction_cols"
   ]
  },
  {
   "cell_type": "code",
   "execution_count": 8,
   "metadata": {
    "collapsed": false
   },
   "outputs": [
    {
     "data": {
      "text/plain": [
       "['incompatible_junction0', 'incompatible_junction1']"
      ]
     },
     "execution_count": 8,
     "metadata": {},
     "output_type": "execute_result"
    }
   ],
   "source": [
    "incompatible_junction_cols = [x for x in summary_tidy if x.startswith('incompatible') and 'junction' in x]\n",
    "incompatible_junction_cols"
   ]
  },
  {
   "cell_type": "code",
   "execution_count": 9,
   "metadata": {
    "collapsed": false
   },
   "outputs": [
    {
     "data": {
      "text/plain": [
       "['incompatible_junction0',\n",
       " 'incompatible_junction1',\n",
       " 'isoform1_junction13',\n",
       " 'isoform1_junction34',\n",
       " 'isoform2_junction12',\n",
       " 'isoform2_junction23',\n",
       " 'isoform2_junction24']"
      ]
     },
     "execution_count": 9,
     "metadata": {},
     "output_type": "execute_result"
    }
   ],
   "source": [
    "junction_cols = incompatible_junction_cols + compatible_junction_cols\n",
    "junction_cols"
   ]
  },
  {
   "cell_type": "code",
   "execution_count": 10,
   "metadata": {
    "collapsed": false
   },
   "outputs": [
    {
     "data": {
      "text/html": [
       "<div>\n",
       "<table border=\"1\" class=\"dataframe\">\n",
       "  <thead>\n",
       "    <tr style=\"text-align: right;\">\n",
       "      <th></th>\n",
       "      <th>Unnamed: 0</th>\n",
       "      <th>bam</th>\n",
       "      <th>dataset</th>\n",
       "      <th>event_id</th>\n",
       "      <th>incompatible_junction0</th>\n",
       "      <th>incompatible_junction1</th>\n",
       "      <th>isoform1_junction13</th>\n",
       "      <th>isoform1_junction34</th>\n",
       "      <th>isoform2_junction12</th>\n",
       "      <th>isoform2_junction23</th>\n",
       "      <th>isoform2_junction24</th>\n",
       "      <th>notes</th>\n",
       "      <th>notes_abbrev</th>\n",
       "      <th>psi</th>\n",
       "      <th>sample_id</th>\n",
       "    </tr>\n",
       "  </thead>\n",
       "  <tbody>\n",
       "    <tr>\n",
       "      <th>0</th>\n",
       "      <td>0</td>\n",
       "      <td>CVN_01_R1.fastq.gz.polyATrim.adapterTrim.rmRep...</td>\n",
       "      <td>rmdup</td>\n",
       "      <td>isoform1=junction:chr10:100189400-100190327:-|...</td>\n",
       "      <td>NaN</td>\n",
       "      <td>NaN</td>\n",
       "      <td>NaN</td>\n",
       "      <td>NaN</td>\n",
       "      <td>NaN</td>\n",
       "      <td>NaN</td>\n",
       "      <td>NaN</td>\n",
       "      <td>Case 2: Zero observed reads</td>\n",
       "      <td>Case 2</td>\n",
       "      <td>NaN</td>\n",
       "      <td>CVN_01</td>\n",
       "    </tr>\n",
       "    <tr>\n",
       "      <th>1</th>\n",
       "      <td>1</td>\n",
       "      <td>CVN_02_R1.fastq.gz.polyATrim.adapterTrim.rmRep...</td>\n",
       "      <td>rmdup</td>\n",
       "      <td>isoform1=junction:chr10:100189400-100190327:-|...</td>\n",
       "      <td>NaN</td>\n",
       "      <td>NaN</td>\n",
       "      <td>NaN</td>\n",
       "      <td>NaN</td>\n",
       "      <td>NaN</td>\n",
       "      <td>NaN</td>\n",
       "      <td>NaN</td>\n",
       "      <td>Case 2: Zero observed reads</td>\n",
       "      <td>Case 2</td>\n",
       "      <td>NaN</td>\n",
       "      <td>CVN_02</td>\n",
       "    </tr>\n",
       "    <tr>\n",
       "      <th>2</th>\n",
       "      <td>2</td>\n",
       "      <td>CVN_03_R1.fastq.gz.polyATrim.adapterTrim.rmRep...</td>\n",
       "      <td>rmdup</td>\n",
       "      <td>isoform1=junction:chr10:100189400-100190327:-|...</td>\n",
       "      <td>NaN</td>\n",
       "      <td>NaN</td>\n",
       "      <td>NaN</td>\n",
       "      <td>NaN</td>\n",
       "      <td>NaN</td>\n",
       "      <td>NaN</td>\n",
       "      <td>NaN</td>\n",
       "      <td>Case 2: Zero observed reads</td>\n",
       "      <td>Case 2</td>\n",
       "      <td>NaN</td>\n",
       "      <td>CVN_03</td>\n",
       "    </tr>\n",
       "    <tr>\n",
       "      <th>3</th>\n",
       "      <td>3</td>\n",
       "      <td>CVN_04_R1.fastq.gz.polyATrim.adapterTrim.rmRep...</td>\n",
       "      <td>rmdup</td>\n",
       "      <td>isoform1=junction:chr10:100189400-100190327:-|...</td>\n",
       "      <td>NaN</td>\n",
       "      <td>NaN</td>\n",
       "      <td>NaN</td>\n",
       "      <td>NaN</td>\n",
       "      <td>NaN</td>\n",
       "      <td>NaN</td>\n",
       "      <td>NaN</td>\n",
       "      <td>Case 2: Zero observed reads</td>\n",
       "      <td>Case 2</td>\n",
       "      <td>NaN</td>\n",
       "      <td>CVN_04</td>\n",
       "    </tr>\n",
       "    <tr>\n",
       "      <th>4</th>\n",
       "      <td>4</td>\n",
       "      <td>CVN_05_R1.fastq.gz.polyATrim.adapterTrim.rmRep...</td>\n",
       "      <td>rmdup</td>\n",
       "      <td>isoform1=junction:chr10:100189400-100190327:-|...</td>\n",
       "      <td>NaN</td>\n",
       "      <td>NaN</td>\n",
       "      <td>NaN</td>\n",
       "      <td>NaN</td>\n",
       "      <td>NaN</td>\n",
       "      <td>NaN</td>\n",
       "      <td>NaN</td>\n",
       "      <td>Case 2: Zero observed reads</td>\n",
       "      <td>Case 2</td>\n",
       "      <td>NaN</td>\n",
       "      <td>CVN_05</td>\n",
       "    </tr>\n",
       "  </tbody>\n",
       "</table>\n",
       "</div>"
      ],
      "text/plain": [
       "   Unnamed: 0                                                bam dataset  \\\n",
       "0           0  CVN_01_R1.fastq.gz.polyATrim.adapterTrim.rmRep...   rmdup   \n",
       "1           1  CVN_02_R1.fastq.gz.polyATrim.adapterTrim.rmRep...   rmdup   \n",
       "2           2  CVN_03_R1.fastq.gz.polyATrim.adapterTrim.rmRep...   rmdup   \n",
       "3           3  CVN_04_R1.fastq.gz.polyATrim.adapterTrim.rmRep...   rmdup   \n",
       "4           4  CVN_05_R1.fastq.gz.polyATrim.adapterTrim.rmRep...   rmdup   \n",
       "\n",
       "                                            event_id  incompatible_junction0  \\\n",
       "0  isoform1=junction:chr10:100189400-100190327:-|...                     NaN   \n",
       "1  isoform1=junction:chr10:100189400-100190327:-|...                     NaN   \n",
       "2  isoform1=junction:chr10:100189400-100190327:-|...                     NaN   \n",
       "3  isoform1=junction:chr10:100189400-100190327:-|...                     NaN   \n",
       "4  isoform1=junction:chr10:100189400-100190327:-|...                     NaN   \n",
       "\n",
       "   incompatible_junction1  isoform1_junction13  isoform1_junction34  \\\n",
       "0                     NaN                  NaN                  NaN   \n",
       "1                     NaN                  NaN                  NaN   \n",
       "2                     NaN                  NaN                  NaN   \n",
       "3                     NaN                  NaN                  NaN   \n",
       "4                     NaN                  NaN                  NaN   \n",
       "\n",
       "   isoform2_junction12  isoform2_junction23  isoform2_junction24  \\\n",
       "0                  NaN                  NaN                  NaN   \n",
       "1                  NaN                  NaN                  NaN   \n",
       "2                  NaN                  NaN                  NaN   \n",
       "3                  NaN                  NaN                  NaN   \n",
       "4                  NaN                  NaN                  NaN   \n",
       "\n",
       "                         notes notes_abbrev  psi sample_id  \n",
       "0  Case 2: Zero observed reads       Case 2  NaN    CVN_01  \n",
       "1  Case 2: Zero observed reads       Case 2  NaN    CVN_02  \n",
       "2  Case 2: Zero observed reads       Case 2  NaN    CVN_03  \n",
       "3  Case 2: Zero observed reads       Case 2  NaN    CVN_04  \n",
       "4  Case 2: Zero observed reads       Case 2  NaN    CVN_05  "
      ]
     },
     "execution_count": 10,
     "metadata": {},
     "output_type": "execute_result"
    }
   ],
   "source": [
    "summary_tidy_zero_na = summary_tidy.copy()\n",
    "\n",
    "mask = summary_tidy_zero_na[junction_cols] > 0\n",
    "summary_tidy_zero_na[junction_cols] = summary_tidy_zero_na[junction_cols][mask]\n",
    "summary_tidy_zero_na.head()"
   ]
  },
  {
   "cell_type": "code",
   "execution_count": 11,
   "metadata": {
    "collapsed": false
   },
   "outputs": [
    {
     "name": "stdout",
     "output_type": "stream",
     "text": [
      "(9016793, 5)\n"
     ]
    },
    {
     "data": {
      "text/html": [
       "<div>\n",
       "<table border=\"1\" class=\"dataframe\">\n",
       "  <thead>\n",
       "    <tr style=\"text-align: right;\">\n",
       "      <th></th>\n",
       "      <th>sample_id</th>\n",
       "      <th>event_id</th>\n",
       "      <th>dataset</th>\n",
       "      <th>variable</th>\n",
       "      <th>value</th>\n",
       "    </tr>\n",
       "  </thead>\n",
       "  <tbody>\n",
       "    <tr>\n",
       "      <th>6612097</th>\n",
       "      <td>CVN_12</td>\n",
       "      <td>isoform1=junction:chr10:101996727-102003454:-@...</td>\n",
       "      <td>rmdup</td>\n",
       "      <td>incompatible_junction0</td>\n",
       "      <td>42.0</td>\n",
       "    </tr>\n",
       "    <tr>\n",
       "      <th>6612104</th>\n",
       "      <td>CVN_19</td>\n",
       "      <td>isoform1=junction:chr10:101996727-102003454:-@...</td>\n",
       "      <td>rmdup</td>\n",
       "      <td>incompatible_junction0</td>\n",
       "      <td>26.0</td>\n",
       "    </tr>\n",
       "    <tr>\n",
       "      <th>6612112</th>\n",
       "      <td>CVN_27</td>\n",
       "      <td>isoform1=junction:chr10:101996727-102003454:-@...</td>\n",
       "      <td>rmdup</td>\n",
       "      <td>incompatible_junction0</td>\n",
       "      <td>10.0</td>\n",
       "    </tr>\n",
       "    <tr>\n",
       "      <th>6612157</th>\n",
       "      <td>M2nd_13</td>\n",
       "      <td>isoform1=junction:chr10:101996727-102003454:-@...</td>\n",
       "      <td>rmdup</td>\n",
       "      <td>incompatible_junction0</td>\n",
       "      <td>60.0</td>\n",
       "    </tr>\n",
       "    <tr>\n",
       "      <th>6612165</th>\n",
       "      <td>M2nd_21</td>\n",
       "      <td>isoform1=junction:chr10:101996727-102003454:-@...</td>\n",
       "      <td>rmdup</td>\n",
       "      <td>incompatible_junction0</td>\n",
       "      <td>48.0</td>\n",
       "    </tr>\n",
       "  </tbody>\n",
       "</table>\n",
       "</div>"
      ],
      "text/plain": [
       "        sample_id                                           event_id dataset  \\\n",
       "6612097    CVN_12  isoform1=junction:chr10:101996727-102003454:-@...   rmdup   \n",
       "6612104    CVN_19  isoform1=junction:chr10:101996727-102003454:-@...   rmdup   \n",
       "6612112    CVN_27  isoform1=junction:chr10:101996727-102003454:-@...   rmdup   \n",
       "6612157   M2nd_13  isoform1=junction:chr10:101996727-102003454:-@...   rmdup   \n",
       "6612165   M2nd_21  isoform1=junction:chr10:101996727-102003454:-@...   rmdup   \n",
       "\n",
       "                       variable  value  \n",
       "6612097  incompatible_junction0   42.0  \n",
       "6612104  incompatible_junction0   26.0  \n",
       "6612112  incompatible_junction0   10.0  \n",
       "6612157  incompatible_junction0   60.0  \n",
       "6612165  incompatible_junction0   48.0  "
      ]
     },
     "execution_count": 11,
     "metadata": {},
     "output_type": "execute_result"
    }
   ],
   "source": [
    "junction_reads_tidy = pd.melt(summary_tidy_zero_na, id_vars=['sample_id', 'event_id', 'dataset'], \n",
    "        value_vars=junction_cols).dropna()\n",
    "print(junction_reads_tidy.shape)\n",
    "junction_reads_tidy.head()"
   ]
  },
  {
   "cell_type": "code",
   "execution_count": null,
   "metadata": {
    "collapsed": false
   },
   "outputs": [
    {
     "ename": "KeyboardInterrupt",
     "evalue": "",
     "output_type": "error",
     "traceback": [
      "\u001b[1;31m---------------------------------------------------------------------------\u001b[0m",
      "\u001b[1;31mKeyboardInterrupt\u001b[0m                         Traceback (most recent call last)",
      "\u001b[1;32m<ipython-input-53-bc8a3840c12c>\u001b[0m in \u001b[0;36m<module>\u001b[1;34m()\u001b[0m\n\u001b[1;32m----> 1\u001b[1;33m \u001b[0mg\u001b[0m \u001b[1;33m=\u001b[0m \u001b[0msns\u001b[0m\u001b[1;33m.\u001b[0m\u001b[0mFacetGrid\u001b[0m\u001b[1;33m(\u001b[0m\u001b[0mjunction_reads_tidy\u001b[0m\u001b[1;33m,\u001b[0m \u001b[0mhue\u001b[0m\u001b[1;33m=\u001b[0m\u001b[1;34m'dataset'\u001b[0m\u001b[1;33m,\u001b[0m \u001b[0mcol\u001b[0m\u001b[1;33m=\u001b[0m\u001b[1;34m'variable'\u001b[0m\u001b[1;33m,\u001b[0m \u001b[0msharex\u001b[0m\u001b[1;33m=\u001b[0m\u001b[0mFalse\u001b[0m\u001b[1;33m,\u001b[0m \u001b[0msharey\u001b[0m\u001b[1;33m=\u001b[0m\u001b[0mFalse\u001b[0m\u001b[1;33m)\u001b[0m\u001b[1;33m\u001b[0m\u001b[0m\n\u001b[0m\u001b[0;32m      2\u001b[0m \u001b[0mg\u001b[0m\u001b[1;33m.\u001b[0m\u001b[0mmap\u001b[0m\u001b[1;33m(\u001b[0m\u001b[0msns\u001b[0m\u001b[1;33m.\u001b[0m\u001b[0mdistplot\u001b[0m\u001b[1;33m,\u001b[0m \u001b[1;34m'value'\u001b[0m\u001b[1;33m,\u001b[0m \u001b[0mkde\u001b[0m\u001b[1;33m=\u001b[0m\u001b[0mFalse\u001b[0m\u001b[1;33m)\u001b[0m\u001b[1;33m\u001b[0m\u001b[0m\n",
      "\u001b[1;32m/home/obotvinnik/anaconda/lib/python2.7/site-packages/seaborn/axisgrid.pyc\u001b[0m in \u001b[0;36m__init__\u001b[1;34m(self, data, row, col, hue, col_wrap, sharex, sharey, size, aspect, palette, row_order, col_order, hue_order, hue_kws, dropna, legend_out, despine, margin_titles, xlim, ylim, subplot_kws, gridspec_kws)\u001b[0m\n\u001b[0;32m    232\u001b[0m             \u001b[0mhue_names\u001b[0m \u001b[1;33m=\u001b[0m \u001b[0mNone\u001b[0m\u001b[1;33m\u001b[0m\u001b[0m\n\u001b[0;32m    233\u001b[0m         \u001b[1;32melse\u001b[0m\u001b[1;33m:\u001b[0m\u001b[1;33m\u001b[0m\u001b[0m\n\u001b[1;32m--> 234\u001b[1;33m             \u001b[0mhue_names\u001b[0m \u001b[1;33m=\u001b[0m \u001b[0mutils\u001b[0m\u001b[1;33m.\u001b[0m\u001b[0mcategorical_order\u001b[0m\u001b[1;33m(\u001b[0m\u001b[0mdata\u001b[0m\u001b[1;33m[\u001b[0m\u001b[0mhue\u001b[0m\u001b[1;33m]\u001b[0m\u001b[1;33m,\u001b[0m \u001b[0mhue_order\u001b[0m\u001b[1;33m)\u001b[0m\u001b[1;33m\u001b[0m\u001b[0m\n\u001b[0m\u001b[0;32m    235\u001b[0m \u001b[1;33m\u001b[0m\u001b[0m\n\u001b[0;32m    236\u001b[0m         \u001b[0mcolors\u001b[0m \u001b[1;33m=\u001b[0m \u001b[0mself\u001b[0m\u001b[1;33m.\u001b[0m\u001b[0m_get_palette\u001b[0m\u001b[1;33m(\u001b[0m\u001b[0mdata\u001b[0m\u001b[1;33m,\u001b[0m \u001b[0mhue\u001b[0m\u001b[1;33m,\u001b[0m \u001b[0mhue_order\u001b[0m\u001b[1;33m,\u001b[0m \u001b[0mpalette\u001b[0m\u001b[1;33m)\u001b[0m\u001b[1;33m\u001b[0m\u001b[0m\n",
      "\u001b[1;32m/home/obotvinnik/anaconda/lib/python2.7/site-packages/seaborn/utils.pyc\u001b[0m in \u001b[0;36mcategorical_order\u001b[1;34m(values, order)\u001b[0m\n\u001b[0;32m    523\u001b[0m             \u001b[1;32mexcept\u001b[0m \u001b[1;33m(\u001b[0m\u001b[0mTypeError\u001b[0m\u001b[1;33m,\u001b[0m \u001b[0mAttributeError\u001b[0m\u001b[1;33m)\u001b[0m\u001b[1;33m:\u001b[0m\u001b[1;33m\u001b[0m\u001b[0m\n\u001b[0;32m    524\u001b[0m                 \u001b[1;32mtry\u001b[0m\u001b[1;33m:\u001b[0m\u001b[1;33m\u001b[0m\u001b[0m\n\u001b[1;32m--> 525\u001b[1;33m                     \u001b[0morder\u001b[0m \u001b[1;33m=\u001b[0m \u001b[0mvalues\u001b[0m\u001b[1;33m.\u001b[0m\u001b[0munique\u001b[0m\u001b[1;33m(\u001b[0m\u001b[1;33m)\u001b[0m\u001b[1;33m\u001b[0m\u001b[0m\n\u001b[0m\u001b[0;32m    526\u001b[0m                 \u001b[1;32mexcept\u001b[0m \u001b[0mAttributeError\u001b[0m\u001b[1;33m:\u001b[0m\u001b[1;33m\u001b[0m\u001b[0m\n\u001b[0;32m    527\u001b[0m                     \u001b[0morder\u001b[0m \u001b[1;33m=\u001b[0m \u001b[0mpd\u001b[0m\u001b[1;33m.\u001b[0m\u001b[0munique\u001b[0m\u001b[1;33m(\u001b[0m\u001b[0mvalues\u001b[0m\u001b[1;33m)\u001b[0m\u001b[1;33m\u001b[0m\u001b[0m\n",
      "\u001b[1;32m/home/obotvinnik/anaconda/lib/python2.7/site-packages/pandas/core/series.pyc\u001b[0m in \u001b[0;36munique\u001b[1;34m(self)\u001b[0m\n\u001b[0;32m   1237\u001b[0m     \u001b[1;33m@\u001b[0m\u001b[0mAppender\u001b[0m\u001b[1;33m(\u001b[0m\u001b[0mbase\u001b[0m\u001b[1;33m.\u001b[0m\u001b[0m_shared_docs\u001b[0m\u001b[1;33m[\u001b[0m\u001b[1;34m'unique'\u001b[0m\u001b[1;33m]\u001b[0m \u001b[1;33m%\u001b[0m \u001b[0m_shared_doc_kwargs\u001b[0m\u001b[1;33m)\u001b[0m\u001b[1;33m\u001b[0m\u001b[0m\n\u001b[0;32m   1238\u001b[0m     \u001b[1;32mdef\u001b[0m \u001b[0munique\u001b[0m\u001b[1;33m(\u001b[0m\u001b[0mself\u001b[0m\u001b[1;33m)\u001b[0m\u001b[1;33m:\u001b[0m\u001b[1;33m\u001b[0m\u001b[0m\n\u001b[1;32m-> 1239\u001b[1;33m         \u001b[0mresult\u001b[0m \u001b[1;33m=\u001b[0m \u001b[0msuper\u001b[0m\u001b[1;33m(\u001b[0m\u001b[0mSeries\u001b[0m\u001b[1;33m,\u001b[0m \u001b[0mself\u001b[0m\u001b[1;33m)\u001b[0m\u001b[1;33m.\u001b[0m\u001b[0munique\u001b[0m\u001b[1;33m(\u001b[0m\u001b[1;33m)\u001b[0m\u001b[1;33m\u001b[0m\u001b[0m\n\u001b[0m\u001b[0;32m   1240\u001b[0m         \u001b[1;32mif\u001b[0m \u001b[0mis_datetime64tz_dtype\u001b[0m\u001b[1;33m(\u001b[0m\u001b[0mself\u001b[0m\u001b[1;33m.\u001b[0m\u001b[0mdtype\u001b[0m\u001b[1;33m)\u001b[0m\u001b[1;33m:\u001b[0m\u001b[1;33m\u001b[0m\u001b[0m\n\u001b[0;32m   1241\u001b[0m             \u001b[1;31m# to return array of Timestamp with tz\u001b[0m\u001b[1;33m\u001b[0m\u001b[1;33m\u001b[0m\u001b[0m\n",
      "\u001b[1;32m/home/obotvinnik/anaconda/lib/python2.7/site-packages/pandas/core/base.pyc\u001b[0m in \u001b[0;36munique\u001b[1;34m(self)\u001b[0m\n\u001b[0;32m    971\u001b[0m         \u001b[1;32melse\u001b[0m\u001b[1;33m:\u001b[0m\u001b[1;33m\u001b[0m\u001b[0m\n\u001b[0;32m    972\u001b[0m             \u001b[1;32mfrom\u001b[0m \u001b[0mpandas\u001b[0m\u001b[1;33m.\u001b[0m\u001b[0mcore\u001b[0m\u001b[1;33m.\u001b[0m\u001b[0mnanops\u001b[0m \u001b[1;32mimport\u001b[0m \u001b[0munique1d\u001b[0m\u001b[1;33m\u001b[0m\u001b[0m\n\u001b[1;32m--> 973\u001b[1;33m             \u001b[0mresult\u001b[0m \u001b[1;33m=\u001b[0m \u001b[0munique1d\u001b[0m\u001b[1;33m(\u001b[0m\u001b[0mvalues\u001b[0m\u001b[1;33m)\u001b[0m\u001b[1;33m\u001b[0m\u001b[0m\n\u001b[0m\u001b[0;32m    974\u001b[0m         \u001b[1;32mreturn\u001b[0m \u001b[0mresult\u001b[0m\u001b[1;33m\u001b[0m\u001b[0m\n\u001b[0;32m    975\u001b[0m \u001b[1;33m\u001b[0m\u001b[0m\n",
      "\u001b[1;32m/home/obotvinnik/anaconda/lib/python2.7/site-packages/pandas/core/nanops.pyc\u001b[0m in \u001b[0;36munique1d\u001b[1;34m(values)\u001b[0m\n\u001b[0;32m    809\u001b[0m     \u001b[1;32melse\u001b[0m\u001b[1;33m:\u001b[0m\u001b[1;33m\u001b[0m\u001b[0m\n\u001b[0;32m    810\u001b[0m         \u001b[0mtable\u001b[0m \u001b[1;33m=\u001b[0m \u001b[0m_hash\u001b[0m\u001b[1;33m.\u001b[0m\u001b[0mPyObjectHashTable\u001b[0m\u001b[1;33m(\u001b[0m\u001b[0mlen\u001b[0m\u001b[1;33m(\u001b[0m\u001b[0mvalues\u001b[0m\u001b[1;33m)\u001b[0m\u001b[1;33m)\u001b[0m\u001b[1;33m\u001b[0m\u001b[0m\n\u001b[1;32m--> 811\u001b[1;33m         \u001b[0muniques\u001b[0m \u001b[1;33m=\u001b[0m \u001b[0mtable\u001b[0m\u001b[1;33m.\u001b[0m\u001b[0munique\u001b[0m\u001b[1;33m(\u001b[0m\u001b[0m_ensure_object\u001b[0m\u001b[1;33m(\u001b[0m\u001b[0mvalues\u001b[0m\u001b[1;33m)\u001b[0m\u001b[1;33m)\u001b[0m\u001b[1;33m\u001b[0m\u001b[0m\n\u001b[0m\u001b[0;32m    812\u001b[0m     \u001b[1;32mreturn\u001b[0m \u001b[0muniques\u001b[0m\u001b[1;33m\u001b[0m\u001b[0m\n\u001b[0;32m    813\u001b[0m \u001b[1;33m\u001b[0m\u001b[0m\n",
      "\u001b[1;31mKeyboardInterrupt\u001b[0m: "
     ]
    },
    {
     "name": "stderr",
     "output_type": "stream",
     "text": [
      "ERROR:tornado.general:Uncaught exception, closing connection.\n",
      "Traceback (most recent call last):\n",
      "  File \"/home/obotvinnik/anaconda/lib/python2.7/site-packages/zmq/eventloop/zmqstream.py\", line 414, in _run_callback\n",
      "    callback(*args, **kwargs)\n",
      "  File \"/home/obotvinnik/anaconda/lib/python2.7/site-packages/tornado/stack_context.py\", line 275, in null_wrapper\n",
      "    return fn(*args, **kwargs)\n",
      "  File \"/home/obotvinnik/anaconda/lib/python2.7/site-packages/ipykernel/kernelbase.py\", line 260, in dispatcher\n",
      "    return self.dispatch_shell(stream, msg)\n",
      "  File \"/home/obotvinnik/anaconda/lib/python2.7/site-packages/ipykernel/kernelbase.py\", line 212, in dispatch_shell\n",
      "    handler(stream, idents, msg)\n",
      "  File \"/home/obotvinnik/anaconda/lib/python2.7/site-packages/ipykernel/kernelbase.py\", line 396, in execute_request\n",
      "    self._abort_queues()\n",
      "  File \"/home/obotvinnik/anaconda/lib/python2.7/site-packages/ipykernel/kernelbase.py\", line 614, in _abort_queues\n",
      "    self._abort_queue(stream)\n",
      "  File \"/home/obotvinnik/anaconda/lib/python2.7/site-packages/ipykernel/kernelbase.py\", line 637, in _abort_queue\n",
      "    poller.poll(50)\n",
      "  File \"/home/obotvinnik/anaconda/lib/python2.7/site-packages/zmq/sugar/poll.py\", line 99, in poll\n",
      "    return zmq_poll(self.sockets, timeout=timeout)\n",
      "  File \"zmq/backend/cython/_poll.pyx\", line 115, in zmq.backend.cython._poll.zmq_poll (zmq/backend/cython/_poll.c:1705)\n",
      "  File \"zmq/backend/cython/checkrc.pxd\", line 12, in zmq.backend.cython.checkrc._check_rc (zmq/backend/cython/_poll.c:2084)\n",
      "    PyErr_CheckSignals()\n",
      "KeyboardInterrupt\n",
      "ERROR:tornado.general:Uncaught exception, closing connection.\n",
      "Traceback (most recent call last):\n",
      "  File \"/home/obotvinnik/anaconda/lib/python2.7/site-packages/zmq/eventloop/zmqstream.py\", line 440, in _handle_events\n",
      "    self._handle_recv()\n",
      "  File \"/home/obotvinnik/anaconda/lib/python2.7/site-packages/zmq/eventloop/zmqstream.py\", line 472, in _handle_recv\n",
      "    self._run_callback(callback, msg)\n",
      "  File \"/home/obotvinnik/anaconda/lib/python2.7/site-packages/zmq/eventloop/zmqstream.py\", line 414, in _run_callback\n",
      "    callback(*args, **kwargs)\n",
      "  File \"/home/obotvinnik/anaconda/lib/python2.7/site-packages/tornado/stack_context.py\", line 275, in null_wrapper\n",
      "    return fn(*args, **kwargs)\n",
      "  File \"/home/obotvinnik/anaconda/lib/python2.7/site-packages/ipykernel/kernelbase.py\", line 260, in dispatcher\n",
      "    return self.dispatch_shell(stream, msg)\n",
      "  File \"/home/obotvinnik/anaconda/lib/python2.7/site-packages/ipykernel/kernelbase.py\", line 212, in dispatch_shell\n",
      "    handler(stream, idents, msg)\n",
      "  File \"/home/obotvinnik/anaconda/lib/python2.7/site-packages/ipykernel/kernelbase.py\", line 396, in execute_request\n",
      "    self._abort_queues()\n",
      "  File \"/home/obotvinnik/anaconda/lib/python2.7/site-packages/ipykernel/kernelbase.py\", line 614, in _abort_queues\n",
      "    self._abort_queue(stream)\n",
      "  File \"/home/obotvinnik/anaconda/lib/python2.7/site-packages/ipykernel/kernelbase.py\", line 637, in _abort_queue\n",
      "    poller.poll(50)\n",
      "  File \"/home/obotvinnik/anaconda/lib/python2.7/site-packages/zmq/sugar/poll.py\", line 99, in poll\n",
      "    return zmq_poll(self.sockets, timeout=timeout)\n",
      "  File \"zmq/backend/cython/_poll.pyx\", line 115, in zmq.backend.cython._poll.zmq_poll (zmq/backend/cython/_poll.c:1705)\n",
      "  File \"zmq/backend/cython/checkrc.pxd\", line 12, in zmq.backend.cython.checkrc._check_rc (zmq/backend/cython/_poll.c:2084)\n",
      "    PyErr_CheckSignals()\n",
      "KeyboardInterrupt\n"
     ]
    }
   ],
   "source": [
    "g = sns.FacetGrid(junction_reads_tidy, hue='dataset', col='variable', sharex=False, sharey=False)\n",
    "g.map(sns.distplot, 'value', kde=False)"
   ]
  },
  {
   "cell_type": "code",
   "execution_count": null,
   "metadata": {
    "collapsed": true
   },
   "outputs": [],
   "source": []
  }
 ],
 "metadata": {
  "kernelspec": {
   "display_name": "Python 2",
   "language": "python",
   "name": "python2"
  },
  "language_info": {
   "codemirror_mode": {
    "name": "ipython",
    "version": 2
   },
   "file_extension": ".py",
   "mimetype": "text/x-python",
   "name": "python",
   "nbconvert_exporter": "python",
   "pygments_lexer": "ipython2",
   "version": "2.7.11"
  }
 },
 "nbformat": 4,
 "nbformat_minor": 0
}
