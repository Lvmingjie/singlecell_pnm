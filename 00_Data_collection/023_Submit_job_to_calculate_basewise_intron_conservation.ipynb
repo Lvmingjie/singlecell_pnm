{
 "cells": [
  {
   "cell_type": "markdown",
   "metadata": {},
   "source": [
    "# Base-wise conservation of introns\n",
    "\n",
    "\n",
    "First, load the memory-mapped pickle file that was created in notebook [0.2.09]"
   ]
  },
  {
   "cell_type": "code",
   "execution_count": 2,
   "metadata": {
    "collapsed": false
   },
   "outputs": [],
   "source": [
    "folder = '/projects/ps-yeolab/obotvinnik/singlecell_pnms/'\n",
    "\n",
    "csv_folder = '{}/csvs_for_paper'.format(folder)\n",
    "conservation_folder = '{}/conservation'.format(csv_folder)\n",
    "\n",
    "splicing_feature_folder = '{}/splicing_feature_data'.format(csv_folder)\n",
    "alternative_feature_folder = '{}/alternative'.format(splicing_feature_folder)\n",
    "constitutive_feature_folder = '{}/constitutive'.format(splicing_feature_folder)\n",
    "\n",
    "alt_exons_bedfile = '{}/exons.bed'.format(alternative_feature_folder)\n",
    "constitutive_bedfile = '{}/exons.bed'.format(constitutive_feature_folder)\n"
   ]
  },
  {
   "cell_type": "code",
   "execution_count": 3,
   "metadata": {
    "collapsed": false
   },
   "outputs": [
    {
     "name": "stdout",
     "output_type": "stream",
     "text": [
      "/projects/ps-yeolab/obotvinnik/singlecell_pnms/csvs_for_paper/splicing_feature_data\n"
     ]
    }
   ],
   "source": [
    "cd $splicing_feature_folder"
   ]
  },
  {
   "cell_type": "code",
   "execution_count": 4,
   "metadata": {
    "collapsed": false
   },
   "outputs": [
    {
     "name": "stdout",
     "output_type": "stream",
     "text": [
      "ls: cannot access /home/obotvinnik/projects/singlecell_pnms/analysis/htseq_memmap: No such file or directory\r\n"
     ]
    }
   ],
   "source": [
    "ls -lh /home/obotvinnik/projects/singlecell_pnms/analysis/htseq_memmap"
   ]
  },
  {
   "cell_type": "code",
   "execution_count": 5,
   "metadata": {
    "collapsed": false
   },
   "outputs": [
    {
     "name": "stdout",
     "output_type": "stream",
     "text": [
      "Overwriting basewise_conservation.py\n"
     ]
    }
   ],
   "source": [
    "%%file basewise_conservation.py\n",
    "import glob\n",
    "import os\n",
    "import numpy as np\n",
    "import pandas as pd\n",
    "import pybedtools\n",
    "import HTSeq\n",
    "from flotilla.util import timestamp\n",
    "\n",
    "import cPickle as pickle\n",
    "\n",
    "\n",
    "\n",
    "folder = '/projects/ps-yeolab/obotvinnik/singlecell_pnms/'\n",
    "\n",
    "csv_folder = '{}/csvs_for_paper'.format(folder)\n",
    "conservation_folder = '{}/conservation'.format(csv_folder)\n",
    "\n",
    "splicing_feature_folder = '{}/splicing_feature_data'.format(csv_folder)\n",
    "alternative_feature_folder = '{}/alternative'.format(splicing_feature_folder)\n",
    "constitutive_feature_folder = '{}/constitutive'.format(splicing_feature_folder)\n",
    "\n",
    "alt_exons_bedfile = '{}/exons.bed'.format(alternative_feature_folder)\n",
    "constitutive_bedfile = '{}/exons.bed'.format(constitutive_feature_folder)\n",
    "\n",
    "\n",
    "memmap_dir = '/home/obotvinnik/projects/singlecell_pnms/analysis/htseq_memmap'\n",
    "filename = '{}/hg19_phastcons_placental_mammal_htseq.pickle'.format(memmap_dir)\n",
    "with open(filename) as f:\n",
    "    conservation = pickle.load(f)\n",
    "\n",
    "\n",
    "bedfiles = {'alternative': alt_exons_bedfile, 'constitutive': constitutive_bedfile}\n",
    "\n",
    "directions = 'upstream', 'downstream'\n",
    "\n",
    "nt = 400\n",
    "\n",
    "\n",
    "for exon_type, bedfile in bedfiles.items():\n",
    "    bed = pybedtools.BedTool(bedfile)\n",
    "\n",
    "    basename = os.path.basename(bedfile)\n",
    "    prefix = basename.split('.bed')[0]\n",
    "    \n",
    "    for direction in directions:\n",
    "        if direction == 'downstream':\n",
    "            # Get downstream intron\n",
    "            intron = bed.flank(l=0, r=nt, s=True, g=pybedtools.chromsizes('hg19'))\n",
    "        else:\n",
    "            intron = bed.flank(l=nt, r=0, s=True, g=pybedtools.chromsizes('hg19'))\n",
    "        \n",
    "        # Get just unique upstream,/downstream\n",
    "        intron = pybedtools.BedTool(list(set(x for x in intron)))\n",
    "        nrow = len(intron)\n",
    "        ncol = nt\n",
    "        array = np.zeros(shape=(nrow, ncol), dtype=float)\n",
    "        junction_ids = pd.Series(index=np.arange(nrow))\n",
    "\n",
    "        print 'Iterating over {} intervals in {} {}nt of {} ...'.format(nrow, direction, nt, basename)\n",
    "        for i, interval in enumerate(intron):\n",
    "            if (i+1) % 10000 == 0:\n",
    "                print '\\t{}\\t{}/{}'.format(timestamp(), i+1, nrow)\n",
    "            junction_ids[i] = interval.name\n",
    "            region = conservation[HTSeq.GenomicInterval(str(interval.chrom), interval.start, interval.stop)]\n",
    "            count = sum(1 for _ in region.values())\n",
    "            subset = np.fromiter(region.values(),\n",
    "                                 dtype=float, count=count)\n",
    "            if interval.strand == '-':\n",
    "                subset = subset[::-1]\n",
    "                j = nt - count\n",
    "                array[i][j:] = subset\n",
    "            else:\n",
    "                j = count\n",
    "                array[i][:j] = subset\n",
    "        intron_conservation = pd.DataFrame(array, index=junction_ids.values)\n",
    "        filename = '{}/{}/{}{}_placental_mammal_conservation.csv'.format(splicing_feature_folder, exon_type, direction, nt)\n",
    "        print '\\t', filename\n",
    "        intron_conservation.to_csv(filename)\n"
   ]
  },
  {
   "cell_type": "code",
   "execution_count": 6,
   "metadata": {
    "collapsed": false
   },
   "outputs": [
    {
     "data": {
      "text/plain": [
       "u'/projects/ps-yeolab/obotvinnik/singlecell_pnms/csvs_for_paper/splicing_feature_data'"
      ]
     },
     "execution_count": 6,
     "metadata": {},
     "output_type": "execute_result"
    }
   ],
   "source": [
    "pwd"
   ]
  },
  {
   "cell_type": "code",
   "execution_count": 7,
   "metadata": {
    "collapsed": false
   },
   "outputs": [
    {
     "name": "stderr",
     "output_type": "stream",
     "text": [
      "Wrote commands to basewise_conservation.sh.\n",
      "Submitted script to queue home.\n",
      " Job ID: 7387135\n"
     ]
    },
    {
     "data": {
      "text/plain": [
       "<qtools.submitter.Submitter at 0x2af6c4058c90>"
      ]
     },
     "execution_count": 7,
     "metadata": {},
     "output_type": "execute_result"
    }
   ],
   "source": [
    "command = 'python /projects/ps-yeolab/obotvinnik/singlecell_pnms/csvs_for_paper/splicing_feature_data/basewise_conservation.py'\n",
    "commands = [command]\n",
    "\n",
    "from qtools import Submitter\n",
    "\n",
    "Submitter(commands, 'basewise_conservation', walltime='48:00:00', ppn=16)"
   ]
  },
  {
   "cell_type": "code",
   "execution_count": 10,
   "metadata": {
    "collapsed": false
   },
   "outputs": [
    {
     "name": "stdout",
     "output_type": "stream",
     "text": [
      "-rw-r--r-- 1 obotvinnik yeo-group 2.8K Jan  5 12:37 basewise_conservation.py\r\n",
      "-rw-r--r-- 1 obotvinnik yeo-group  395 Jan  5 12:37 basewise_conservation.sh\r\n",
      "-rw------- 1 obotvinnik yeo-group  446 Feb 21  2016 basewise_conservation.sh.err\r\n",
      "-rw------- 1 obotvinnik yeo-group 1.2K Feb 21  2016 basewise_conservation.sh.out\r\n"
     ]
    }
   ],
   "source": [
    "! ls -lha basewise_conservation*"
   ]
  },
  {
   "cell_type": "code",
   "execution_count": 8,
   "metadata": {
    "collapsed": false
   },
   "outputs": [
    {
     "name": "stdout",
     "output_type": "stream",
     "text": [
      "==> basewise_conservation.py <==\r\n",
      "                subset = subset[::-1]\r\n",
      "                j = nt - count\r\n",
      "                array[i][j:] = subset\r\n",
      "            else:\r\n",
      "                j = count\r\n",
      "                array[i][:j] = subset\r\n",
      "        intron_conservation = pd.DataFrame(array, index=junction_ids.values)\r\n",
      "        filename = '{}/{}/{}{}_placental_mammal_conservation.csv'.format(splicing_feature_folder, exon_type, direction, nt)\r\n",
      "        print '\\t', filename\r\n",
      "        intron_conservation.to_csv(filename)\r\n",
      "==> basewise_conservation.sh <==\r\n",
      "#PBS -V\r\n",
      "#PBS -l walltime=48:00:00\r\n",
      "#PBS -l nodes=1:ppn=16\r\n",
      "#PBS -A yeo-group\r\n",
      "#PBS -q home\r\n",
      "\r\n",
      "# Go to the directory from which the script was called\r\n",
      "cd $PBS_O_WORKDIR\r\n",
      "python /projects/ps-yeolab/obotvinnik/singlecell_pnms/csvs_for_paper/splicing_feature_data/basewise_conservation.py\r\n",
      "\r\n",
      "\r\n",
      "==> basewise_conservation.sh.err <==\r\n",
      "/home/obotvinnik/anaconda/lib/python2.7/site-packages/matplotlib/__init__.py:810: UserWarning: Found matplotlib configuration in ~/.matplotlib/. To conform with the XDG base directory standard, this configuration location has been deprecated on Linux, and the new location is now /home/obotvinnik/.config/matplotlib/. Please move your configuration there to ensure that matplotlib will continue to find it in the future.\r\n",
      "  _get_xdg_config_dir())\r\n",
      "\r\n",
      "==> basewise_conservation.sh.out <==\r\n",
      "\t2016-02-21 17:45:25\t10000/43903\r\n",
      "\t2016-02-21 17:45:30\t20000/43903\r\n",
      "\t2016-02-21 17:45:34\t30000/43903\r\n",
      "\t2016-02-21 17:45:38\t40000/43903\r\n",
      "\t/projects/ps-yeolab/obotvinnik/singlecell_pnms//csvs_for_paper/splicing_feature_data/alternative/downstream400_placental_mammal_conservation.csv\r\n",
      "Iterating over 5893 intervals in upstream 400nt of exons.bed ...\r\n",
      "\t/projects/ps-yeolab/obotvinnik/singlecell_pnms//csvs_for_paper/splicing_feature_data/constitutive/upstream400_placental_mammal_conservation.csv\r\n",
      "Iterating over 5893 intervals in downstream 400nt of exons.bed ...\r\n",
      "\t/projects/ps-yeolab/obotvinnik/singlecell_pnms//csvs_for_paper/splicing_feature_data/constitutive/downstream400_placental_mammal_conservation.csv\r\n",
      "Nodes:        tscc-2-48\r\n"
     ]
    }
   ],
   "source": [
    "! tail basewise_conservation*"
   ]
  },
  {
   "cell_type": "code",
   "execution_count": null,
   "metadata": {
    "collapsed": true
   },
   "outputs": [],
   "source": []
  },
  {
   "cell_type": "code",
   "execution_count": null,
   "metadata": {
    "collapsed": true
   },
   "outputs": [],
   "source": []
  }
 ],
 "metadata": {
  "kernelspec": {
   "display_name": "Python 2",
   "language": "python",
   "name": "python2"
  },
  "language_info": {
   "codemirror_mode": {
    "name": "ipython",
    "version": 2
   },
   "file_extension": ".py",
   "mimetype": "text/x-python",
   "name": "python",
   "nbconvert_exporter": "python",
   "pygments_lexer": "ipython2",
   "version": "2.7.11"
  }
 },
 "nbformat": 4,
 "nbformat_minor": 0
}
