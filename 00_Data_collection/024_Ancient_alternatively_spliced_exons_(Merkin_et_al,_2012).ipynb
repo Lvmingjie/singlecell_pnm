{
 "cells": [
  {
   "cell_type": "markdown",
   "metadata": {},
   "source": [
    "## Ancient alternatively spliced exons \n",
    "\n",
    "From Merkin 2012\n",
    "\n",
    "\"Ancient\" is relative here - the authors compared tissue-specific splicing across several mammals (cow, rhesus, mouse, rat) with chicken as the outgroup (estimated as ~300 million years apart in evolutionary time by fossil record), and exons that were alternatively spliced in all species were deemed \"ancient\" alternatively spliced exons"
   ]
  },
  {
   "cell_type": "code",
   "execution_count": 34,
   "metadata": {
    "collapsed": false
   },
   "outputs": [
    {
     "name": "stdout",
     "output_type": "stream",
     "text": [
      "(36531, 26)\n"
     ]
    },
    {
     "data": {
      "text/html": [
       "<div>\n",
       "<table border=\"1\" class=\"dataframe\">\n",
       "  <thead>\n",
       "    <tr style=\"text-align: right;\">\n",
       "      <th></th>\n",
       "      <th>Unnamed: 0</th>\n",
       "      <th>criteria</th>\n",
       "      <th>criteria_additional</th>\n",
       "      <th>criteria_full</th>\n",
       "      <th>ensembl_id</th>\n",
       "      <th>exon1</th>\n",
       "      <th>exon1_length</th>\n",
       "      <th>exon2</th>\n",
       "      <th>exon2_length</th>\n",
       "      <th>exon3</th>\n",
       "      <th>...</th>\n",
       "      <th>junction12</th>\n",
       "      <th>junction13</th>\n",
       "      <th>junction23</th>\n",
       "      <th>junction24</th>\n",
       "      <th>junction34</th>\n",
       "      <th>strand</th>\n",
       "      <th>transcript_id</th>\n",
       "      <th>exon2_divisible_by_3</th>\n",
       "      <th>one_ensembl_id</th>\n",
       "      <th>splice_type</th>\n",
       "    </tr>\n",
       "    <tr>\n",
       "      <th>event_id</th>\n",
       "      <th></th>\n",
       "      <th></th>\n",
       "      <th></th>\n",
       "      <th></th>\n",
       "      <th></th>\n",
       "      <th></th>\n",
       "      <th></th>\n",
       "      <th></th>\n",
       "      <th></th>\n",
       "      <th></th>\n",
       "      <th></th>\n",
       "      <th></th>\n",
       "      <th></th>\n",
       "      <th></th>\n",
       "      <th></th>\n",
       "      <th></th>\n",
       "      <th></th>\n",
       "      <th></th>\n",
       "      <th></th>\n",
       "      <th></th>\n",
       "      <th></th>\n",
       "    </tr>\n",
       "  </thead>\n",
       "  <tbody>\n",
       "    <tr>\n",
       "      <th>exon:chr10:100190328-100190427:-@exon:chr10:100189548-100189646:-@exon:chr10:100189330-100189399:-</th>\n",
       "      <td>NaN</td>\n",
       "      <td>best</td>\n",
       "      <td>appris_principal</td>\n",
       "      <td>best,appris_principal</td>\n",
       "      <td>ENSG00000107521</td>\n",
       "      <td>exon:chr10:100190328-100190427:-</td>\n",
       "      <td>100</td>\n",
       "      <td>exon:chr10:100189548-100189646:-</td>\n",
       "      <td>99</td>\n",
       "      <td>exon:chr10:100189330-100189399:-</td>\n",
       "      <td>...</td>\n",
       "      <td>chr10:100189647-100190327:-</td>\n",
       "      <td>chr10:100189400-100190327:-</td>\n",
       "      <td>chr10:100189400-100189547:-</td>\n",
       "      <td>NaN</td>\n",
       "      <td>NaN</td>\n",
       "      <td>-</td>\n",
       "      <td>ENST00000361490.4,ENST00000414009.1,ENST000003...</td>\n",
       "      <td>True</td>\n",
       "      <td>ENSG00000107521</td>\n",
       "      <td>SE</td>\n",
       "    </tr>\n",
       "    <tr>\n",
       "      <th>exon:chr10:100193697-100193848:-@exon:chr10:100190888-100191048:-@exon:chr10:100190328-100190427:-</th>\n",
       "      <td>NaN</td>\n",
       "      <td>only one</td>\n",
       "      <td>NaN</td>\n",
       "      <td>only one</td>\n",
       "      <td>ENSG00000107521</td>\n",
       "      <td>exon:chr10:100193697-100193848:-</td>\n",
       "      <td>152</td>\n",
       "      <td>exon:chr10:100190888-100191048:-</td>\n",
       "      <td>161</td>\n",
       "      <td>exon:chr10:100190328-100190427:-</td>\n",
       "      <td>...</td>\n",
       "      <td>chr10:100191049-100193696:-</td>\n",
       "      <td>chr10:100190428-100193696:-</td>\n",
       "      <td>chr10:100190428-100190887:-</td>\n",
       "      <td>NaN</td>\n",
       "      <td>NaN</td>\n",
       "      <td>-</td>\n",
       "      <td>ENST00000361490.4,ENST00000414009.1,ENST000003...</td>\n",
       "      <td>False</td>\n",
       "      <td>ENSG00000107521</td>\n",
       "      <td>SE</td>\n",
       "    </tr>\n",
       "    <tr>\n",
       "      <th>exon:chr10:100195392-100195529:-@exon:chr10:100195029-100195171:-@exon:chr10:100193697-100193848:-</th>\n",
       "      <td>NaN</td>\n",
       "      <td>best</td>\n",
       "      <td>appris_principal</td>\n",
       "      <td>best,appris_principal</td>\n",
       "      <td>ENSG00000107521</td>\n",
       "      <td>exon:chr10:100195392-100195529:-</td>\n",
       "      <td>138</td>\n",
       "      <td>exon:chr10:100195029-100195171:-</td>\n",
       "      <td>143</td>\n",
       "      <td>exon:chr10:100193697-100193848:-</td>\n",
       "      <td>...</td>\n",
       "      <td>chr10:100195172-100195391:-</td>\n",
       "      <td>chr10:100193849-100195391:-</td>\n",
       "      <td>chr10:100193849-100195028:-</td>\n",
       "      <td>NaN</td>\n",
       "      <td>NaN</td>\n",
       "      <td>-</td>\n",
       "      <td>ENST00000361490.4,ENST00000325103.6,ENST000004...</td>\n",
       "      <td>False</td>\n",
       "      <td>ENSG00000107521</td>\n",
       "      <td>SE</td>\n",
       "    </tr>\n",
       "    <tr>\n",
       "      <th>exon:chr10:101165513-101165617:-@exon:chr10:101163481-101163631:-@exon:chr10:101163226-101163391:-</th>\n",
       "      <td>NaN</td>\n",
       "      <td>only one</td>\n",
       "      <td>NaN</td>\n",
       "      <td>only one</td>\n",
       "      <td>ENSG00000120053</td>\n",
       "      <td>exon:chr10:101165513-101165617:-</td>\n",
       "      <td>105</td>\n",
       "      <td>exon:chr10:101163481-101163631:-</td>\n",
       "      <td>151</td>\n",
       "      <td>exon:chr10:101163226-101163391:-</td>\n",
       "      <td>...</td>\n",
       "      <td>chr10:101163632-101165512:-</td>\n",
       "      <td>chr10:101163392-101165512:-</td>\n",
       "      <td>chr10:101163392-101163480:-</td>\n",
       "      <td>NaN</td>\n",
       "      <td>NaN</td>\n",
       "      <td>-</td>\n",
       "      <td>ENST00000543866.1,ENST00000370508.5</td>\n",
       "      <td>False</td>\n",
       "      <td>ENSG00000120053</td>\n",
       "      <td>SE</td>\n",
       "    </tr>\n",
       "    <tr>\n",
       "      <th>exon:chr10:101419263-101419345:+@exon:chr10:101419619-101419721:+@exon:chr10:101421203-101421385:+</th>\n",
       "      <td>NaN</td>\n",
       "      <td>only one</td>\n",
       "      <td>NaN</td>\n",
       "      <td>only one</td>\n",
       "      <td>ENSG00000198018</td>\n",
       "      <td>exon:chr10:101419263-101419345:+</td>\n",
       "      <td>83</td>\n",
       "      <td>exon:chr10:101419619-101419721:+</td>\n",
       "      <td>103</td>\n",
       "      <td>exon:chr10:101421203-101421385:+</td>\n",
       "      <td>...</td>\n",
       "      <td>chr10:101419346-101419618:+</td>\n",
       "      <td>chr10:101419346-101421202:+</td>\n",
       "      <td>chr10:101419722-101421202:+</td>\n",
       "      <td>NaN</td>\n",
       "      <td>NaN</td>\n",
       "      <td>+</td>\n",
       "      <td>ENST00000370489.4</td>\n",
       "      <td>False</td>\n",
       "      <td>ENSG00000198018</td>\n",
       "      <td>SE</td>\n",
       "    </tr>\n",
       "  </tbody>\n",
       "</table>\n",
       "<p>5 rows × 26 columns</p>\n",
       "</div>"
      ],
      "text/plain": [
       "                                                    Unnamed: 0  criteria  \\\n",
       "event_id                                                                   \n",
       "exon:chr10:100190328-100190427:-@exon:chr10:100...         NaN      best   \n",
       "exon:chr10:100193697-100193848:-@exon:chr10:100...         NaN  only one   \n",
       "exon:chr10:100195392-100195529:-@exon:chr10:100...         NaN      best   \n",
       "exon:chr10:101165513-101165617:-@exon:chr10:101...         NaN  only one   \n",
       "exon:chr10:101419263-101419345:+@exon:chr10:101...         NaN  only one   \n",
       "\n",
       "                                                   criteria_additional  \\\n",
       "event_id                                                                 \n",
       "exon:chr10:100190328-100190427:-@exon:chr10:100...    appris_principal   \n",
       "exon:chr10:100193697-100193848:-@exon:chr10:100...                 NaN   \n",
       "exon:chr10:100195392-100195529:-@exon:chr10:100...    appris_principal   \n",
       "exon:chr10:101165513-101165617:-@exon:chr10:101...                 NaN   \n",
       "exon:chr10:101419263-101419345:+@exon:chr10:101...                 NaN   \n",
       "\n",
       "                                                            criteria_full  \\\n",
       "event_id                                                                    \n",
       "exon:chr10:100190328-100190427:-@exon:chr10:100...  best,appris_principal   \n",
       "exon:chr10:100193697-100193848:-@exon:chr10:100...               only one   \n",
       "exon:chr10:100195392-100195529:-@exon:chr10:100...  best,appris_principal   \n",
       "exon:chr10:101165513-101165617:-@exon:chr10:101...               only one   \n",
       "exon:chr10:101419263-101419345:+@exon:chr10:101...               only one   \n",
       "\n",
       "                                                         ensembl_id  \\\n",
       "event_id                                                              \n",
       "exon:chr10:100190328-100190427:-@exon:chr10:100...  ENSG00000107521   \n",
       "exon:chr10:100193697-100193848:-@exon:chr10:100...  ENSG00000107521   \n",
       "exon:chr10:100195392-100195529:-@exon:chr10:100...  ENSG00000107521   \n",
       "exon:chr10:101165513-101165617:-@exon:chr10:101...  ENSG00000120053   \n",
       "exon:chr10:101419263-101419345:+@exon:chr10:101...  ENSG00000198018   \n",
       "\n",
       "                                                                               exon1  \\\n",
       "event_id                                                                               \n",
       "exon:chr10:100190328-100190427:-@exon:chr10:100...  exon:chr10:100190328-100190427:-   \n",
       "exon:chr10:100193697-100193848:-@exon:chr10:100...  exon:chr10:100193697-100193848:-   \n",
       "exon:chr10:100195392-100195529:-@exon:chr10:100...  exon:chr10:100195392-100195529:-   \n",
       "exon:chr10:101165513-101165617:-@exon:chr10:101...  exon:chr10:101165513-101165617:-   \n",
       "exon:chr10:101419263-101419345:+@exon:chr10:101...  exon:chr10:101419263-101419345:+   \n",
       "\n",
       "                                                    exon1_length  \\\n",
       "event_id                                                           \n",
       "exon:chr10:100190328-100190427:-@exon:chr10:100...           100   \n",
       "exon:chr10:100193697-100193848:-@exon:chr10:100...           152   \n",
       "exon:chr10:100195392-100195529:-@exon:chr10:100...           138   \n",
       "exon:chr10:101165513-101165617:-@exon:chr10:101...           105   \n",
       "exon:chr10:101419263-101419345:+@exon:chr10:101...            83   \n",
       "\n",
       "                                                                               exon2  \\\n",
       "event_id                                                                               \n",
       "exon:chr10:100190328-100190427:-@exon:chr10:100...  exon:chr10:100189548-100189646:-   \n",
       "exon:chr10:100193697-100193848:-@exon:chr10:100...  exon:chr10:100190888-100191048:-   \n",
       "exon:chr10:100195392-100195529:-@exon:chr10:100...  exon:chr10:100195029-100195171:-   \n",
       "exon:chr10:101165513-101165617:-@exon:chr10:101...  exon:chr10:101163481-101163631:-   \n",
       "exon:chr10:101419263-101419345:+@exon:chr10:101...  exon:chr10:101419619-101419721:+   \n",
       "\n",
       "                                                    exon2_length  \\\n",
       "event_id                                                           \n",
       "exon:chr10:100190328-100190427:-@exon:chr10:100...            99   \n",
       "exon:chr10:100193697-100193848:-@exon:chr10:100...           161   \n",
       "exon:chr10:100195392-100195529:-@exon:chr10:100...           143   \n",
       "exon:chr10:101165513-101165617:-@exon:chr10:101...           151   \n",
       "exon:chr10:101419263-101419345:+@exon:chr10:101...           103   \n",
       "\n",
       "                                                                               exon3  \\\n",
       "event_id                                                                               \n",
       "exon:chr10:100190328-100190427:-@exon:chr10:100...  exon:chr10:100189330-100189399:-   \n",
       "exon:chr10:100193697-100193848:-@exon:chr10:100...  exon:chr10:100190328-100190427:-   \n",
       "exon:chr10:100195392-100195529:-@exon:chr10:100...  exon:chr10:100193697-100193848:-   \n",
       "exon:chr10:101165513-101165617:-@exon:chr10:101...  exon:chr10:101163226-101163391:-   \n",
       "exon:chr10:101419263-101419345:+@exon:chr10:101...  exon:chr10:101421203-101421385:+   \n",
       "\n",
       "                                                       ...      \\\n",
       "event_id                                               ...       \n",
       "exon:chr10:100190328-100190427:-@exon:chr10:100...     ...       \n",
       "exon:chr10:100193697-100193848:-@exon:chr10:100...     ...       \n",
       "exon:chr10:100195392-100195529:-@exon:chr10:100...     ...       \n",
       "exon:chr10:101165513-101165617:-@exon:chr10:101...     ...       \n",
       "exon:chr10:101419263-101419345:+@exon:chr10:101...     ...       \n",
       "\n",
       "                                                                     junction12  \\\n",
       "event_id                                                                          \n",
       "exon:chr10:100190328-100190427:-@exon:chr10:100...  chr10:100189647-100190327:-   \n",
       "exon:chr10:100193697-100193848:-@exon:chr10:100...  chr10:100191049-100193696:-   \n",
       "exon:chr10:100195392-100195529:-@exon:chr10:100...  chr10:100195172-100195391:-   \n",
       "exon:chr10:101165513-101165617:-@exon:chr10:101...  chr10:101163632-101165512:-   \n",
       "exon:chr10:101419263-101419345:+@exon:chr10:101...  chr10:101419346-101419618:+   \n",
       "\n",
       "                                                                     junction13  \\\n",
       "event_id                                                                          \n",
       "exon:chr10:100190328-100190427:-@exon:chr10:100...  chr10:100189400-100190327:-   \n",
       "exon:chr10:100193697-100193848:-@exon:chr10:100...  chr10:100190428-100193696:-   \n",
       "exon:chr10:100195392-100195529:-@exon:chr10:100...  chr10:100193849-100195391:-   \n",
       "exon:chr10:101165513-101165617:-@exon:chr10:101...  chr10:101163392-101165512:-   \n",
       "exon:chr10:101419263-101419345:+@exon:chr10:101...  chr10:101419346-101421202:+   \n",
       "\n",
       "                                                                     junction23  \\\n",
       "event_id                                                                          \n",
       "exon:chr10:100190328-100190427:-@exon:chr10:100...  chr10:100189400-100189547:-   \n",
       "exon:chr10:100193697-100193848:-@exon:chr10:100...  chr10:100190428-100190887:-   \n",
       "exon:chr10:100195392-100195529:-@exon:chr10:100...  chr10:100193849-100195028:-   \n",
       "exon:chr10:101165513-101165617:-@exon:chr10:101...  chr10:101163392-101163480:-   \n",
       "exon:chr10:101419263-101419345:+@exon:chr10:101...  chr10:101419722-101421202:+   \n",
       "\n",
       "                                                   junction24 junction34  \\\n",
       "event_id                                                                   \n",
       "exon:chr10:100190328-100190427:-@exon:chr10:100...        NaN        NaN   \n",
       "exon:chr10:100193697-100193848:-@exon:chr10:100...        NaN        NaN   \n",
       "exon:chr10:100195392-100195529:-@exon:chr10:100...        NaN        NaN   \n",
       "exon:chr10:101165513-101165617:-@exon:chr10:101...        NaN        NaN   \n",
       "exon:chr10:101419263-101419345:+@exon:chr10:101...        NaN        NaN   \n",
       "\n",
       "                                                    strand  \\\n",
       "event_id                                                     \n",
       "exon:chr10:100190328-100190427:-@exon:chr10:100...       -   \n",
       "exon:chr10:100193697-100193848:-@exon:chr10:100...       -   \n",
       "exon:chr10:100195392-100195529:-@exon:chr10:100...       -   \n",
       "exon:chr10:101165513-101165617:-@exon:chr10:101...       -   \n",
       "exon:chr10:101419263-101419345:+@exon:chr10:101...       +   \n",
       "\n",
       "                                                                                        transcript_id  \\\n",
       "event_id                                                                                                \n",
       "exon:chr10:100190328-100190427:-@exon:chr10:100...  ENST00000361490.4,ENST00000414009.1,ENST000003...   \n",
       "exon:chr10:100193697-100193848:-@exon:chr10:100...  ENST00000361490.4,ENST00000414009.1,ENST000003...   \n",
       "exon:chr10:100195392-100195529:-@exon:chr10:100...  ENST00000361490.4,ENST00000325103.6,ENST000004...   \n",
       "exon:chr10:101165513-101165617:-@exon:chr10:101...                ENST00000543866.1,ENST00000370508.5   \n",
       "exon:chr10:101419263-101419345:+@exon:chr10:101...                                  ENST00000370489.4   \n",
       "\n",
       "                                                   exon2_divisible_by_3  \\\n",
       "event_id                                                                  \n",
       "exon:chr10:100190328-100190427:-@exon:chr10:100...                 True   \n",
       "exon:chr10:100193697-100193848:-@exon:chr10:100...                False   \n",
       "exon:chr10:100195392-100195529:-@exon:chr10:100...                False   \n",
       "exon:chr10:101165513-101165617:-@exon:chr10:101...                False   \n",
       "exon:chr10:101419263-101419345:+@exon:chr10:101...                False   \n",
       "\n",
       "                                                     one_ensembl_id  \\\n",
       "event_id                                                              \n",
       "exon:chr10:100190328-100190427:-@exon:chr10:100...  ENSG00000107521   \n",
       "exon:chr10:100193697-100193848:-@exon:chr10:100...  ENSG00000107521   \n",
       "exon:chr10:100195392-100195529:-@exon:chr10:100...  ENSG00000107521   \n",
       "exon:chr10:101165513-101165617:-@exon:chr10:101...  ENSG00000120053   \n",
       "exon:chr10:101419263-101419345:+@exon:chr10:101...  ENSG00000198018   \n",
       "\n",
       "                                                   splice_type  \n",
       "event_id                                                        \n",
       "exon:chr10:100190328-100190427:-@exon:chr10:100...          SE  \n",
       "exon:chr10:100193697-100193848:-@exon:chr10:100...          SE  \n",
       "exon:chr10:100195392-100195529:-@exon:chr10:100...          SE  \n",
       "exon:chr10:101165513-101165617:-@exon:chr10:101...          SE  \n",
       "exon:chr10:101419263-101419345:+@exon:chr10:101...          SE  \n",
       "\n",
       "[5 rows x 26 columns]"
      ]
     },
     "execution_count": 34,
     "metadata": {},
     "output_type": "execute_result"
    }
   ],
   "source": [
    "import itertools\n",
    "import six\n",
    "\n",
    "import pandas as pd\n",
    "import gffutils\n",
    "import pybedtools\n",
    "import re\n",
    "import numpy as np\n",
    "\n",
    "v19db_filename = '/projects/ps-yeolab/genomes/hg19/gencode/v19/gencode.v19.annotation.gtf.db'\n",
    "v19db = gffutils.FeatureDB(v19db_filename)\n",
    "\n",
    "folder = '/projects/ps-yeolab/obotvinnik/singlecell_pnms'\n",
    "csv_folder = '{}/csvs_for_paper/'.format(folder)\n",
    "\n",
    "splicing_feature_folder = '{}/splicing_feature_data'.format(csv_folder)\n",
    "alternative_feature_folder = '{}/alternative'.format(splicing_feature_folder)\n",
    "constitutive_feature_folder = '{}/constitutive'.format(splicing_feature_folder)\n",
    "\n",
    "alt_exons_bedfile = '{}/exons.bed'.format(alternative_feature_folder)\n",
    "constitutive_bedfile = '{}/exons.bed'.format(constitutive_feature_folder)\n",
    "\n",
    "splicing_feature_data = pd.read_csv('{}/splicing_feature_data.csv'.format(csv_folder), index_col=0)\n",
    "six.print_(splicing_feature_data.shape)\n",
    "splicing_feature_data.head()"
   ]
  },
  {
   "cell_type": "code",
   "execution_count": 35,
   "metadata": {
    "collapsed": true
   },
   "outputs": [],
   "source": [
    "# ! mkdir -p $constitutive_feature_folder\n",
    "# ! mkdir -p $alternative_feature_folder"
   ]
  },
  {
   "cell_type": "code",
   "execution_count": 36,
   "metadata": {
    "collapsed": false
   },
   "outputs": [
    {
     "name": "stdout",
     "output_type": "stream",
     "text": [
      "/projects/ps-yeolab/obotvinnik/merkin2012\n"
     ]
    }
   ],
   "source": [
    "cd /projects/ps-yeolab/obotvinnik/merkin2012/"
   ]
  },
  {
   "cell_type": "code",
   "execution_count": 37,
   "metadata": {
    "collapsed": false
   },
   "outputs": [
    {
     "data": {
      "text/html": [
       "<div>\n",
       "<table border=\"1\" class=\"dataframe\">\n",
       "  <thead>\n",
       "    <tr style=\"text-align: right;\">\n",
       "      <th></th>\n",
       "      <th>0</th>\n",
       "      <th>1</th>\n",
       "      <th>2</th>\n",
       "      <th>3</th>\n",
       "    </tr>\n",
       "  </thead>\n",
       "  <tbody>\n",
       "    <tr>\n",
       "      <th>0</th>\n",
       "      <td>PTPRD:ENSBTAG00000010178:8:38452684:38452989:+</td>\n",
       "      <td>PTPRD:ENSMMUG00000006952:15:68642301:68642606:+</td>\n",
       "      <td>Ptprd:ENSMUSG00000028399:4:75746351:75746657:-</td>\n",
       "      <td>Q62990_RAT:ENSRNOG00000005711:5:94111899:94112...</td>\n",
       "    </tr>\n",
       "    <tr>\n",
       "      <th>1</th>\n",
       "      <td>UCKL1:ENSBTAG00000015798:13:54576868:54576887:+</td>\n",
       "      <td>UCKL1:ENSMMUG00000015551:10:402713:402732:+</td>\n",
       "      <td>Uckl1:ENSMUSG00000089917:2:181305943:181305962:-</td>\n",
       "      <td>NaN</td>\n",
       "    </tr>\n",
       "    <tr>\n",
       "      <th>2</th>\n",
       "      <td>KANK1:ENSBTAG00000010976:8:45921894:45922136:-</td>\n",
       "      <td>KANK1:ENSMMUG00000019862:15:76468463:76468702:-</td>\n",
       "      <td>Kank1:ENSMUSG00000032702:19:25498628:25498873:+</td>\n",
       "      <td>Kank1:ENSRNOG00000016023:1:228857621:228858097:+</td>\n",
       "    </tr>\n",
       "    <tr>\n",
       "      <th>3</th>\n",
       "      <td>Q29RZ7_BOVIN:ENSBTAG00000014786:22:49256956:49...</td>\n",
       "      <td>Pbrm1:ENSMUSG00000042323:14:31858516:31858611:+</td>\n",
       "      <td>Pbrm1:ENSRNOG00000028227:16:6478444:6478539:+</td>\n",
       "      <td>NaN</td>\n",
       "    </tr>\n",
       "    <tr>\n",
       "      <th>4</th>\n",
       "      <td>FAM179B:ENSBTAG00000039117:21:55239625:55239777:+</td>\n",
       "      <td>Fam179b:ENSMUSG00000035614:12:66091928:66092077:+</td>\n",
       "      <td>Fam179b:ENSRNOG00000004415:6:86344755:86344904:+</td>\n",
       "      <td>NaN</td>\n",
       "    </tr>\n",
       "  </tbody>\n",
       "</table>\n",
       "</div>"
      ],
      "text/plain": [
       "                                                   0  \\\n",
       "0     PTPRD:ENSBTAG00000010178:8:38452684:38452989:+   \n",
       "1    UCKL1:ENSBTAG00000015798:13:54576868:54576887:+   \n",
       "2     KANK1:ENSBTAG00000010976:8:45921894:45922136:-   \n",
       "3  Q29RZ7_BOVIN:ENSBTAG00000014786:22:49256956:49...   \n",
       "4  FAM179B:ENSBTAG00000039117:21:55239625:55239777:+   \n",
       "\n",
       "                                                   1  \\\n",
       "0    PTPRD:ENSMMUG00000006952:15:68642301:68642606:+   \n",
       "1        UCKL1:ENSMMUG00000015551:10:402713:402732:+   \n",
       "2    KANK1:ENSMMUG00000019862:15:76468463:76468702:-   \n",
       "3    Pbrm1:ENSMUSG00000042323:14:31858516:31858611:+   \n",
       "4  Fam179b:ENSMUSG00000035614:12:66091928:66092077:+   \n",
       "\n",
       "                                                  2  \\\n",
       "0    Ptprd:ENSMUSG00000028399:4:75746351:75746657:-   \n",
       "1  Uckl1:ENSMUSG00000089917:2:181305943:181305962:-   \n",
       "2   Kank1:ENSMUSG00000032702:19:25498628:25498873:+   \n",
       "3     Pbrm1:ENSRNOG00000028227:16:6478444:6478539:+   \n",
       "4  Fam179b:ENSRNOG00000004415:6:86344755:86344904:+   \n",
       "\n",
       "                                                   3  \n",
       "0  Q62990_RAT:ENSRNOG00000005711:5:94111899:94112...  \n",
       "1                                                NaN  \n",
       "2   Kank1:ENSRNOG00000016023:1:228857621:228858097:+  \n",
       "3                                                NaN  \n",
       "4                                                NaN  "
      ]
     },
     "execution_count": 37,
     "metadata": {},
     "output_type": "execute_result"
    }
   ],
   "source": [
    "import pandas as pd\n",
    "\n",
    "df = pd.read_excel('1228186stable4.xls', header=None)\n",
    "df.head()"
   ]
  },
  {
   "cell_type": "code",
   "execution_count": 38,
   "metadata": {
    "collapsed": false
   },
   "outputs": [],
   "source": [
    "import numpy as np\n",
    "\n",
    "df = df.replace('-', np.nan)"
   ]
  },
  {
   "cell_type": "markdown",
   "metadata": {},
   "source": [
    "Get macaque to human liftover"
   ]
  },
  {
   "cell_type": "code",
   "execution_count": 39,
   "metadata": {
    "collapsed": false
   },
   "outputs": [
    {
     "name": "stdout",
     "output_type": "stream",
     "text": [
      "/projects/ps-yeolab/genomes/rheMac\n"
     ]
    }
   ],
   "source": [
    "cd /projects/ps-yeolab/genomes/rheMac/"
   ]
  },
  {
   "cell_type": "code",
   "execution_count": 40,
   "metadata": {
    "collapsed": false
   },
   "outputs": [
    {
     "name": "stdout",
     "output_type": "stream",
     "text": [
      "mkdir: cannot create directory `rheMac2': File exists\r\n"
     ]
    }
   ],
   "source": [
    "mkdir rheMac2"
   ]
  },
  {
   "cell_type": "code",
   "execution_count": 41,
   "metadata": {
    "collapsed": false
   },
   "outputs": [
    {
     "name": "stdout",
     "output_type": "stream",
     "text": [
      "/projects/ps-yeolab/genomes/rheMac/rheMac2\n"
     ]
    }
   ],
   "source": [
    "cd rheMac2/"
   ]
  },
  {
   "cell_type": "code",
   "execution_count": 42,
   "metadata": {
    "collapsed": false
   },
   "outputs": [
    {
     "name": "stdout",
     "output_type": "stream",
     "text": [
      "--2017-01-05 12:39:53--  http://hgdownload.cse.ucsc.edu/goldenPath/rheMac2/liftOver/rheMac2ToHg19.over.chain.gz\n",
      "Resolving hgdownload.cse.ucsc.edu... 128.114.119.163\n",
      "Connecting to hgdownload.cse.ucsc.edu|128.114.119.163|:80... connected.\n",
      "HTTP request sent, awaiting response... 200 OK\n",
      "Length: 34213302 (33M) [application/x-gzip]\n",
      "Saving to: `rheMac2ToHg19.over.chain.gz.9'\n",
      "\n",
      "100%[======================================>] 34,213,302   105M/s   in 0.3s    \n",
      "\n",
      "2017-01-05 12:39:54 (105 MB/s) - `rheMac2ToHg19.over.chain.gz.9' saved [34213302/34213302]\n",
      "\n"
     ]
    }
   ],
   "source": [
    "! wget http://hgdownload.cse.ucsc.edu/goldenPath/rheMac2/liftOver/rheMac2ToHg19.over.chain.gz"
   ]
  },
  {
   "cell_type": "code",
   "execution_count": 43,
   "metadata": {
    "collapsed": true
   },
   "outputs": [],
   "source": [
    "rheMac_series = df[1]"
   ]
  },
  {
   "cell_type": "code",
   "execution_count": 44,
   "metadata": {
    "collapsed": false
   },
   "outputs": [],
   "source": [
    "rhemac_df = rheMac_series.str.split(':').apply(pd.Series)"
   ]
  },
  {
   "cell_type": "code",
   "execution_count": 45,
   "metadata": {
    "collapsed": false
   },
   "outputs": [
    {
     "data": {
      "text/html": [
       "<div>\n",
       "<table border=\"1\" class=\"dataframe\">\n",
       "  <thead>\n",
       "    <tr style=\"text-align: right;\">\n",
       "      <th></th>\n",
       "      <th>0</th>\n",
       "      <th>1</th>\n",
       "      <th>2</th>\n",
       "      <th>3</th>\n",
       "      <th>4</th>\n",
       "      <th>5</th>\n",
       "    </tr>\n",
       "  </thead>\n",
       "  <tbody>\n",
       "    <tr>\n",
       "      <th>0</th>\n",
       "      <td>PTPRD</td>\n",
       "      <td>ENSMMUG00000006952</td>\n",
       "      <td>15</td>\n",
       "      <td>68642301</td>\n",
       "      <td>68642606</td>\n",
       "      <td>+</td>\n",
       "    </tr>\n",
       "    <tr>\n",
       "      <th>1</th>\n",
       "      <td>UCKL1</td>\n",
       "      <td>ENSMMUG00000015551</td>\n",
       "      <td>10</td>\n",
       "      <td>402713</td>\n",
       "      <td>402732</td>\n",
       "      <td>+</td>\n",
       "    </tr>\n",
       "    <tr>\n",
       "      <th>2</th>\n",
       "      <td>KANK1</td>\n",
       "      <td>ENSMMUG00000019862</td>\n",
       "      <td>15</td>\n",
       "      <td>76468463</td>\n",
       "      <td>76468702</td>\n",
       "      <td>-</td>\n",
       "    </tr>\n",
       "    <tr>\n",
       "      <th>3</th>\n",
       "      <td>Pbrm1</td>\n",
       "      <td>ENSMUSG00000042323</td>\n",
       "      <td>14</td>\n",
       "      <td>31858516</td>\n",
       "      <td>31858611</td>\n",
       "      <td>+</td>\n",
       "    </tr>\n",
       "    <tr>\n",
       "      <th>4</th>\n",
       "      <td>Fam179b</td>\n",
       "      <td>ENSMUSG00000035614</td>\n",
       "      <td>12</td>\n",
       "      <td>66091928</td>\n",
       "      <td>66092077</td>\n",
       "      <td>+</td>\n",
       "    </tr>\n",
       "    <tr>\n",
       "      <th>5</th>\n",
       "      <td>ANK3</td>\n",
       "      <td>ENSMMUG00000003589</td>\n",
       "      <td>9</td>\n",
       "      <td>77118005</td>\n",
       "      <td>77118311</td>\n",
       "      <td>+</td>\n",
       "    </tr>\n",
       "    <tr>\n",
       "      <th>6</th>\n",
       "      <td>LOC723356</td>\n",
       "      <td>ENSMMUG00000003302</td>\n",
       "      <td>18</td>\n",
       "      <td>27874327</td>\n",
       "      <td>27874375</td>\n",
       "      <td>+</td>\n",
       "    </tr>\n",
       "    <tr>\n",
       "      <th>7</th>\n",
       "      <td>EFHA1</td>\n",
       "      <td>ENSMMUG00000011252</td>\n",
       "      <td>17</td>\n",
       "      <td>2170139</td>\n",
       "      <td>2170174</td>\n",
       "      <td>-</td>\n",
       "    </tr>\n",
       "    <tr>\n",
       "      <th>8</th>\n",
       "      <td>SYNJ2</td>\n",
       "      <td>ENSMMUG00000007153</td>\n",
       "      <td>4</td>\n",
       "      <td>104843020</td>\n",
       "      <td>104843154</td>\n",
       "      <td>-</td>\n",
       "    </tr>\n",
       "    <tr>\n",
       "      <th>9</th>\n",
       "      <td>KTN1</td>\n",
       "      <td>ENSMMUG00000006650</td>\n",
       "      <td>7</td>\n",
       "      <td>118677507</td>\n",
       "      <td>118677596</td>\n",
       "      <td>+</td>\n",
       "    </tr>\n",
       "    <tr>\n",
       "      <th>10</th>\n",
       "      <td>Bptf</td>\n",
       "      <td>ENSMUSG00000040481</td>\n",
       "      <td>11</td>\n",
       "      <td>106956316</td>\n",
       "      <td>106956504</td>\n",
       "      <td>-</td>\n",
       "    </tr>\n",
       "    <tr>\n",
       "      <th>11</th>\n",
       "      <td>Epb4.1l3</td>\n",
       "      <td>ENSMUSG00000024044</td>\n",
       "      <td>17</td>\n",
       "      <td>69623441</td>\n",
       "      <td>69623506</td>\n",
       "      <td>+</td>\n",
       "    </tr>\n",
       "    <tr>\n",
       "      <th>12</th>\n",
       "      <td>STXBP5</td>\n",
       "      <td>ENSMMUG00000017082</td>\n",
       "      <td>4</td>\n",
       "      <td>116002128</td>\n",
       "      <td>116002187</td>\n",
       "      <td>-</td>\n",
       "    </tr>\n",
       "    <tr>\n",
       "      <th>13</th>\n",
       "      <td>PPP1R12A</td>\n",
       "      <td>ENSMMUG00000019214</td>\n",
       "      <td>11</td>\n",
       "      <td>76756990</td>\n",
       "      <td>76757020</td>\n",
       "      <td>-</td>\n",
       "    </tr>\n",
       "    <tr>\n",
       "      <th>14</th>\n",
       "      <td>EDEM3</td>\n",
       "      <td>ENSMMUG00000005410</td>\n",
       "      <td>1</td>\n",
       "      <td>185977189</td>\n",
       "      <td>185977236</td>\n",
       "      <td>+</td>\n",
       "    </tr>\n",
       "    <tr>\n",
       "      <th>15</th>\n",
       "      <td>MTDH</td>\n",
       "      <td>ENSMMUG00000014210</td>\n",
       "      <td>8</td>\n",
       "      <td>100229414</td>\n",
       "      <td>100229512</td>\n",
       "      <td>+</td>\n",
       "    </tr>\n",
       "    <tr>\n",
       "      <th>16</th>\n",
       "      <td>SEMA6A</td>\n",
       "      <td>ENSMMUG00000012265</td>\n",
       "      <td>6</td>\n",
       "      <td>112974872</td>\n",
       "      <td>112974922</td>\n",
       "      <td>-</td>\n",
       "    </tr>\n",
       "    <tr>\n",
       "      <th>17</th>\n",
       "      <td>ACSS2</td>\n",
       "      <td>ENSMMUG00000017932</td>\n",
       "      <td>10</td>\n",
       "      <td>29644669</td>\n",
       "      <td>29645429</td>\n",
       "      <td>-</td>\n",
       "    </tr>\n",
       "    <tr>\n",
       "      <th>18</th>\n",
       "      <td>TP53INP1</td>\n",
       "      <td>ENSMMUG00000005360</td>\n",
       "      <td>8</td>\n",
       "      <td>97506088</td>\n",
       "      <td>97506125</td>\n",
       "      <td>-</td>\n",
       "    </tr>\n",
       "    <tr>\n",
       "      <th>19</th>\n",
       "      <td>PTPRM</td>\n",
       "      <td>ENSMMUG00000000768</td>\n",
       "      <td>18</td>\n",
       "      <td>6109310</td>\n",
       "      <td>6109336</td>\n",
       "      <td>-</td>\n",
       "    </tr>\n",
       "    <tr>\n",
       "      <th>20</th>\n",
       "      <td>PTPRM</td>\n",
       "      <td>ENSMMUG00000000768</td>\n",
       "      <td>18</td>\n",
       "      <td>6235336</td>\n",
       "      <td>6235410</td>\n",
       "      <td>-</td>\n",
       "    </tr>\n",
       "    <tr>\n",
       "      <th>21</th>\n",
       "      <td>PI4KB</td>\n",
       "      <td>ENSMMUG00000013170</td>\n",
       "      <td>1</td>\n",
       "      <td>129745837</td>\n",
       "      <td>129745881</td>\n",
       "      <td>-</td>\n",
       "    </tr>\n",
       "    <tr>\n",
       "      <th>22</th>\n",
       "      <td>HERC4</td>\n",
       "      <td>ENSMMUG00000010105</td>\n",
       "      <td>9</td>\n",
       "      <td>69290426</td>\n",
       "      <td>69290925</td>\n",
       "      <td>+</td>\n",
       "    </tr>\n",
       "    <tr>\n",
       "      <th>23</th>\n",
       "      <td>LOC723689</td>\n",
       "      <td>ENSMMUG00000010767</td>\n",
       "      <td>7</td>\n",
       "      <td>131988881</td>\n",
       "      <td>131988965</td>\n",
       "      <td>-</td>\n",
       "    </tr>\n",
       "    <tr>\n",
       "      <th>24</th>\n",
       "      <td>LOC723689</td>\n",
       "      <td>ENSMMUG00000010767</td>\n",
       "      <td>7</td>\n",
       "      <td>131988351</td>\n",
       "      <td>131988416</td>\n",
       "      <td>-</td>\n",
       "    </tr>\n",
       "    <tr>\n",
       "      <th>25</th>\n",
       "      <td>Q3YAN5_MACMU</td>\n",
       "      <td>ENSMMUG00000008379</td>\n",
       "      <td>1</td>\n",
       "      <td>1036668</td>\n",
       "      <td>1036760</td>\n",
       "      <td>-</td>\n",
       "    </tr>\n",
       "    <tr>\n",
       "      <th>26</th>\n",
       "      <td>SLC25A3</td>\n",
       "      <td>ENSMMUG00000023036</td>\n",
       "      <td>11</td>\n",
       "      <td>99781096</td>\n",
       "      <td>99781220</td>\n",
       "      <td>+</td>\n",
       "    </tr>\n",
       "    <tr>\n",
       "      <th>27</th>\n",
       "      <td>OGDH</td>\n",
       "      <td>ENSMMUG00000002651</td>\n",
       "      <td>3</td>\n",
       "      <td>81696427</td>\n",
       "      <td>81696529</td>\n",
       "      <td>-</td>\n",
       "    </tr>\n",
       "    <tr>\n",
       "      <th>28</th>\n",
       "      <td>LOC714322</td>\n",
       "      <td>ENSMMUG00000019672</td>\n",
       "      <td>14</td>\n",
       "      <td>25457187</td>\n",
       "      <td>25457331</td>\n",
       "      <td>-</td>\n",
       "    </tr>\n",
       "    <tr>\n",
       "      <th>29</th>\n",
       "      <td>BAT2L1</td>\n",
       "      <td>ENSMMUG00000009973</td>\n",
       "      <td>15</td>\n",
       "      <td>7197573</td>\n",
       "      <td>7197661</td>\n",
       "      <td>-</td>\n",
       "    </tr>\n",
       "    <tr>\n",
       "      <th>...</th>\n",
       "      <td>...</td>\n",
       "      <td>...</td>\n",
       "      <td>...</td>\n",
       "      <td>...</td>\n",
       "      <td>...</td>\n",
       "      <td>...</td>\n",
       "    </tr>\n",
       "    <tr>\n",
       "      <th>508</th>\n",
       "      <td>USP28</td>\n",
       "      <td>ENSMMUG00000023773</td>\n",
       "      <td>14</td>\n",
       "      <td>112282959</td>\n",
       "      <td>112283144</td>\n",
       "      <td>-</td>\n",
       "    </tr>\n",
       "    <tr>\n",
       "      <th>509</th>\n",
       "      <td>NEO1</td>\n",
       "      <td>ENSMMUG00000009584</td>\n",
       "      <td>7</td>\n",
       "      <td>51965738</td>\n",
       "      <td>51965770</td>\n",
       "      <td>+</td>\n",
       "    </tr>\n",
       "    <tr>\n",
       "      <th>510</th>\n",
       "      <td>EPB41</td>\n",
       "      <td>ENSMMUG00000011377</td>\n",
       "      <td>1</td>\n",
       "      <td>31796471</td>\n",
       "      <td>31796527</td>\n",
       "      <td>+</td>\n",
       "    </tr>\n",
       "    <tr>\n",
       "      <th>511</th>\n",
       "      <td>Epb4.1</td>\n",
       "      <td>ENSMUSG00000028906</td>\n",
       "      <td>4</td>\n",
       "      <td>131519844</td>\n",
       "      <td>131519885</td>\n",
       "      <td>-</td>\n",
       "    </tr>\n",
       "    <tr>\n",
       "      <th>512</th>\n",
       "      <td>EML1</td>\n",
       "      <td>ENSMMUG00000011706</td>\n",
       "      <td>7</td>\n",
       "      <td>163157051</td>\n",
       "      <td>163157107</td>\n",
       "      <td>+</td>\n",
       "    </tr>\n",
       "    <tr>\n",
       "      <th>513</th>\n",
       "      <td>ARHGAP26</td>\n",
       "      <td>ENSMMUG00000000419</td>\n",
       "      <td>6</td>\n",
       "      <td>139638260</td>\n",
       "      <td>139647215</td>\n",
       "      <td>+</td>\n",
       "    </tr>\n",
       "    <tr>\n",
       "      <th>514</th>\n",
       "      <td>R3HDM2</td>\n",
       "      <td>ENSMMUG00000021789</td>\n",
       "      <td>11</td>\n",
       "      <td>54361203</td>\n",
       "      <td>54361256</td>\n",
       "      <td>-</td>\n",
       "    </tr>\n",
       "    <tr>\n",
       "      <th>515</th>\n",
       "      <td>CROP</td>\n",
       "      <td>ENSMMUG00000010117</td>\n",
       "      <td>16</td>\n",
       "      <td>34993947</td>\n",
       "      <td>34994012</td>\n",
       "      <td>+</td>\n",
       "    </tr>\n",
       "    <tr>\n",
       "      <th>516</th>\n",
       "      <td>NEBL</td>\n",
       "      <td>ENSMMUG00000010589</td>\n",
       "      <td>9</td>\n",
       "      <td>21041885</td>\n",
       "      <td>21041977</td>\n",
       "      <td>-</td>\n",
       "    </tr>\n",
       "    <tr>\n",
       "      <th>517</th>\n",
       "      <td>NEBL</td>\n",
       "      <td>ENSMMUG00000010589</td>\n",
       "      <td>9</td>\n",
       "      <td>21040683</td>\n",
       "      <td>21040745</td>\n",
       "      <td>-</td>\n",
       "    </tr>\n",
       "    <tr>\n",
       "      <th>518</th>\n",
       "      <td>TJP1</td>\n",
       "      <td>ENSMMUG00000017878</td>\n",
       "      <td>7</td>\n",
       "      <td>8806624</td>\n",
       "      <td>8806863</td>\n",
       "      <td>-</td>\n",
       "    </tr>\n",
       "    <tr>\n",
       "      <th>519</th>\n",
       "      <td>NEBL</td>\n",
       "      <td>ENSMMUG00000010589</td>\n",
       "      <td>9</td>\n",
       "      <td>21086655</td>\n",
       "      <td>21086759</td>\n",
       "      <td>-</td>\n",
       "    </tr>\n",
       "    <tr>\n",
       "      <th>520</th>\n",
       "      <td>ATXN2</td>\n",
       "      <td>ENSMMUG00000002226</td>\n",
       "      <td>11</td>\n",
       "      <td>112405606</td>\n",
       "      <td>112405696</td>\n",
       "      <td>-</td>\n",
       "    </tr>\n",
       "    <tr>\n",
       "      <th>521</th>\n",
       "      <td>RBM5</td>\n",
       "      <td>ENSMMUG00000004921</td>\n",
       "      <td>2</td>\n",
       "      <td>86319462</td>\n",
       "      <td>86319535</td>\n",
       "      <td>-</td>\n",
       "    </tr>\n",
       "    <tr>\n",
       "      <th>522</th>\n",
       "      <td>RALGAPB</td>\n",
       "      <td>ENSMMUG00000017350</td>\n",
       "      <td>10</td>\n",
       "      <td>25926587</td>\n",
       "      <td>25926622</td>\n",
       "      <td>-</td>\n",
       "    </tr>\n",
       "    <tr>\n",
       "      <th>523</th>\n",
       "      <td>FNBP1</td>\n",
       "      <td>ENSMMUG00000003799</td>\n",
       "      <td>15</td>\n",
       "      <td>8917701</td>\n",
       "      <td>8922201</td>\n",
       "      <td>+</td>\n",
       "    </tr>\n",
       "    <tr>\n",
       "      <th>524</th>\n",
       "      <td>RUFY3</td>\n",
       "      <td>ENSMMUG00000004465</td>\n",
       "      <td>5</td>\n",
       "      <td>58897337</td>\n",
       "      <td>58897390</td>\n",
       "      <td>-</td>\n",
       "    </tr>\n",
       "    <tr>\n",
       "      <th>525</th>\n",
       "      <td>Q9BDP7_MACMU</td>\n",
       "      <td>ENSMMUG00000004577</td>\n",
       "      <td>4</td>\n",
       "      <td>43691711</td>\n",
       "      <td>43693053</td>\n",
       "      <td>+</td>\n",
       "    </tr>\n",
       "    <tr>\n",
       "      <th>526</th>\n",
       "      <td>Crim1</td>\n",
       "      <td>ENSMUSG00000024074</td>\n",
       "      <td>17</td>\n",
       "      <td>78679313</td>\n",
       "      <td>78679555</td>\n",
       "      <td>+</td>\n",
       "    </tr>\n",
       "    <tr>\n",
       "      <th>527</th>\n",
       "      <td>LOC721513</td>\n",
       "      <td>ENSMMUG00000009658</td>\n",
       "      <td>10</td>\n",
       "      <td>49701799</td>\n",
       "      <td>49701831</td>\n",
       "      <td>-</td>\n",
       "    </tr>\n",
       "    <tr>\n",
       "      <th>528</th>\n",
       "      <td>CLTA</td>\n",
       "      <td>ENSMMUG00000006132</td>\n",
       "      <td>15</td>\n",
       "      <td>41260865</td>\n",
       "      <td>41260918</td>\n",
       "      <td>-</td>\n",
       "    </tr>\n",
       "    <tr>\n",
       "      <th>529</th>\n",
       "      <td>CLTA</td>\n",
       "      <td>ENSMMUG00000006132</td>\n",
       "      <td>15</td>\n",
       "      <td>41259546</td>\n",
       "      <td>41259581</td>\n",
       "      <td>-</td>\n",
       "    </tr>\n",
       "    <tr>\n",
       "      <th>530</th>\n",
       "      <td>DMD</td>\n",
       "      <td>ENSMMUG00000019345</td>\n",
       "      <td>X</td>\n",
       "      <td>29054887</td>\n",
       "      <td>29054925</td>\n",
       "      <td>-</td>\n",
       "    </tr>\n",
       "    <tr>\n",
       "      <th>531</th>\n",
       "      <td>A2D6D3_MACMU</td>\n",
       "      <td>ENSMMUG00000016917</td>\n",
       "      <td>2</td>\n",
       "      <td>175891056</td>\n",
       "      <td>175891163</td>\n",
       "      <td>-</td>\n",
       "    </tr>\n",
       "    <tr>\n",
       "      <th>532</th>\n",
       "      <td>MYO9B</td>\n",
       "      <td>ENSMMUG00000011588</td>\n",
       "      <td>19</td>\n",
       "      <td>16724861</td>\n",
       "      <td>16725489</td>\n",
       "      <td>+</td>\n",
       "    </tr>\n",
       "    <tr>\n",
       "      <th>533</th>\n",
       "      <td>SSBP3</td>\n",
       "      <td>ENSMMUG00000020976</td>\n",
       "      <td>1</td>\n",
       "      <td>57134755</td>\n",
       "      <td>57134835</td>\n",
       "      <td>-</td>\n",
       "    </tr>\n",
       "    <tr>\n",
       "      <th>534</th>\n",
       "      <td>SH3KBP1</td>\n",
       "      <td>ENSMMUG00000004744</td>\n",
       "      <td>X</td>\n",
       "      <td>17435360</td>\n",
       "      <td>17435434</td>\n",
       "      <td>-</td>\n",
       "    </tr>\n",
       "    <tr>\n",
       "      <th>535</th>\n",
       "      <td>MYO9B</td>\n",
       "      <td>ENSMMUG00000011588</td>\n",
       "      <td>19</td>\n",
       "      <td>16759109</td>\n",
       "      <td>16759156</td>\n",
       "      <td>+</td>\n",
       "    </tr>\n",
       "    <tr>\n",
       "      <th>536</th>\n",
       "      <td>ARHGEF11</td>\n",
       "      <td>ENSMMUG00000012436</td>\n",
       "      <td>1</td>\n",
       "      <td>135565221</td>\n",
       "      <td>135565250</td>\n",
       "      <td>-</td>\n",
       "    </tr>\n",
       "    <tr>\n",
       "      <th>537</th>\n",
       "      <td>DTX2</td>\n",
       "      <td>ENSMMUG00000017570</td>\n",
       "      <td>3</td>\n",
       "      <td>49873216</td>\n",
       "      <td>49874395</td>\n",
       "      <td>-</td>\n",
       "    </tr>\n",
       "  </tbody>\n",
       "</table>\n",
       "<p>538 rows × 6 columns</p>\n",
       "</div>"
      ],
      "text/plain": [
       "                0                   1   2          3          4  5\n",
       "0           PTPRD  ENSMMUG00000006952  15   68642301   68642606  +\n",
       "1           UCKL1  ENSMMUG00000015551  10     402713     402732  +\n",
       "2           KANK1  ENSMMUG00000019862  15   76468463   76468702  -\n",
       "3           Pbrm1  ENSMUSG00000042323  14   31858516   31858611  +\n",
       "4         Fam179b  ENSMUSG00000035614  12   66091928   66092077  +\n",
       "5            ANK3  ENSMMUG00000003589   9   77118005   77118311  +\n",
       "6       LOC723356  ENSMMUG00000003302  18   27874327   27874375  +\n",
       "7           EFHA1  ENSMMUG00000011252  17    2170139    2170174  -\n",
       "8           SYNJ2  ENSMMUG00000007153   4  104843020  104843154  -\n",
       "9            KTN1  ENSMMUG00000006650   7  118677507  118677596  +\n",
       "10           Bptf  ENSMUSG00000040481  11  106956316  106956504  -\n",
       "11       Epb4.1l3  ENSMUSG00000024044  17   69623441   69623506  +\n",
       "12         STXBP5  ENSMMUG00000017082   4  116002128  116002187  -\n",
       "13       PPP1R12A  ENSMMUG00000019214  11   76756990   76757020  -\n",
       "14          EDEM3  ENSMMUG00000005410   1  185977189  185977236  +\n",
       "15           MTDH  ENSMMUG00000014210   8  100229414  100229512  +\n",
       "16         SEMA6A  ENSMMUG00000012265   6  112974872  112974922  -\n",
       "17          ACSS2  ENSMMUG00000017932  10   29644669   29645429  -\n",
       "18       TP53INP1  ENSMMUG00000005360   8   97506088   97506125  -\n",
       "19          PTPRM  ENSMMUG00000000768  18    6109310    6109336  -\n",
       "20          PTPRM  ENSMMUG00000000768  18    6235336    6235410  -\n",
       "21          PI4KB  ENSMMUG00000013170   1  129745837  129745881  -\n",
       "22          HERC4  ENSMMUG00000010105   9   69290426   69290925  +\n",
       "23      LOC723689  ENSMMUG00000010767   7  131988881  131988965  -\n",
       "24      LOC723689  ENSMMUG00000010767   7  131988351  131988416  -\n",
       "25   Q3YAN5_MACMU  ENSMMUG00000008379   1    1036668    1036760  -\n",
       "26        SLC25A3  ENSMMUG00000023036  11   99781096   99781220  +\n",
       "27           OGDH  ENSMMUG00000002651   3   81696427   81696529  -\n",
       "28      LOC714322  ENSMMUG00000019672  14   25457187   25457331  -\n",
       "29         BAT2L1  ENSMMUG00000009973  15    7197573    7197661  -\n",
       "..            ...                 ...  ..        ...        ... ..\n",
       "508         USP28  ENSMMUG00000023773  14  112282959  112283144  -\n",
       "509          NEO1  ENSMMUG00000009584   7   51965738   51965770  +\n",
       "510         EPB41  ENSMMUG00000011377   1   31796471   31796527  +\n",
       "511        Epb4.1  ENSMUSG00000028906   4  131519844  131519885  -\n",
       "512          EML1  ENSMMUG00000011706   7  163157051  163157107  +\n",
       "513      ARHGAP26  ENSMMUG00000000419   6  139638260  139647215  +\n",
       "514        R3HDM2  ENSMMUG00000021789  11   54361203   54361256  -\n",
       "515          CROP  ENSMMUG00000010117  16   34993947   34994012  +\n",
       "516          NEBL  ENSMMUG00000010589   9   21041885   21041977  -\n",
       "517          NEBL  ENSMMUG00000010589   9   21040683   21040745  -\n",
       "518          TJP1  ENSMMUG00000017878   7    8806624    8806863  -\n",
       "519          NEBL  ENSMMUG00000010589   9   21086655   21086759  -\n",
       "520         ATXN2  ENSMMUG00000002226  11  112405606  112405696  -\n",
       "521          RBM5  ENSMMUG00000004921   2   86319462   86319535  -\n",
       "522       RALGAPB  ENSMMUG00000017350  10   25926587   25926622  -\n",
       "523         FNBP1  ENSMMUG00000003799  15    8917701    8922201  +\n",
       "524         RUFY3  ENSMMUG00000004465   5   58897337   58897390  -\n",
       "525  Q9BDP7_MACMU  ENSMMUG00000004577   4   43691711   43693053  +\n",
       "526         Crim1  ENSMUSG00000024074  17   78679313   78679555  +\n",
       "527     LOC721513  ENSMMUG00000009658  10   49701799   49701831  -\n",
       "528          CLTA  ENSMMUG00000006132  15   41260865   41260918  -\n",
       "529          CLTA  ENSMMUG00000006132  15   41259546   41259581  -\n",
       "530           DMD  ENSMMUG00000019345   X   29054887   29054925  -\n",
       "531  A2D6D3_MACMU  ENSMMUG00000016917   2  175891056  175891163  -\n",
       "532         MYO9B  ENSMMUG00000011588  19   16724861   16725489  +\n",
       "533         SSBP3  ENSMMUG00000020976   1   57134755   57134835  -\n",
       "534       SH3KBP1  ENSMMUG00000004744   X   17435360   17435434  -\n",
       "535         MYO9B  ENSMMUG00000011588  19   16759109   16759156  +\n",
       "536      ARHGEF11  ENSMMUG00000012436   1  135565221  135565250  -\n",
       "537          DTX2  ENSMMUG00000017570   3   49873216   49874395  -\n",
       "\n",
       "[538 rows x 6 columns]"
      ]
     },
     "execution_count": 45,
     "metadata": {},
     "output_type": "execute_result"
    }
   ],
   "source": [
    "rhemac_df = rhemac_df.dropna()\n",
    "rhemac_df"
   ]
  },
  {
   "cell_type": "code",
   "execution_count": 46,
   "metadata": {
    "collapsed": false
   },
   "outputs": [
    {
     "data": {
      "text/html": [
       "<div>\n",
       "<table border=\"1\" class=\"dataframe\">\n",
       "  <thead>\n",
       "    <tr style=\"text-align: right;\">\n",
       "      <th></th>\n",
       "      <th>0</th>\n",
       "      <th>1</th>\n",
       "      <th>2</th>\n",
       "      <th>3</th>\n",
       "      <th>4</th>\n",
       "      <th>5</th>\n",
       "      <th>chrom</th>\n",
       "    </tr>\n",
       "  </thead>\n",
       "  <tbody>\n",
       "    <tr>\n",
       "      <th>0</th>\n",
       "      <td>PTPRD</td>\n",
       "      <td>ENSMMUG00000006952</td>\n",
       "      <td>15</td>\n",
       "      <td>68642301</td>\n",
       "      <td>68642606</td>\n",
       "      <td>+</td>\n",
       "      <td>chr15</td>\n",
       "    </tr>\n",
       "    <tr>\n",
       "      <th>1</th>\n",
       "      <td>UCKL1</td>\n",
       "      <td>ENSMMUG00000015551</td>\n",
       "      <td>10</td>\n",
       "      <td>402713</td>\n",
       "      <td>402732</td>\n",
       "      <td>+</td>\n",
       "      <td>chr10</td>\n",
       "    </tr>\n",
       "    <tr>\n",
       "      <th>2</th>\n",
       "      <td>KANK1</td>\n",
       "      <td>ENSMMUG00000019862</td>\n",
       "      <td>15</td>\n",
       "      <td>76468463</td>\n",
       "      <td>76468702</td>\n",
       "      <td>-</td>\n",
       "      <td>chr15</td>\n",
       "    </tr>\n",
       "    <tr>\n",
       "      <th>3</th>\n",
       "      <td>Pbrm1</td>\n",
       "      <td>ENSMUSG00000042323</td>\n",
       "      <td>14</td>\n",
       "      <td>31858516</td>\n",
       "      <td>31858611</td>\n",
       "      <td>+</td>\n",
       "      <td>chr14</td>\n",
       "    </tr>\n",
       "    <tr>\n",
       "      <th>4</th>\n",
       "      <td>Fam179b</td>\n",
       "      <td>ENSMUSG00000035614</td>\n",
       "      <td>12</td>\n",
       "      <td>66091928</td>\n",
       "      <td>66092077</td>\n",
       "      <td>+</td>\n",
       "      <td>chr12</td>\n",
       "    </tr>\n",
       "  </tbody>\n",
       "</table>\n",
       "</div>"
      ],
      "text/plain": [
       "         0                   1   2         3         4  5  chrom\n",
       "0    PTPRD  ENSMMUG00000006952  15  68642301  68642606  +  chr15\n",
       "1    UCKL1  ENSMMUG00000015551  10    402713    402732  +  chr10\n",
       "2    KANK1  ENSMMUG00000019862  15  76468463  76468702  -  chr15\n",
       "3    Pbrm1  ENSMUSG00000042323  14  31858516  31858611  +  chr14\n",
       "4  Fam179b  ENSMUSG00000035614  12  66091928  66092077  +  chr12"
      ]
     },
     "execution_count": 46,
     "metadata": {},
     "output_type": "execute_result"
    }
   ],
   "source": [
    "rhemac_df['chrom'] = 'chr' + rhemac_df[2]\n",
    "rhemac_df.head()"
   ]
  },
  {
   "cell_type": "code",
   "execution_count": 47,
   "metadata": {
    "collapsed": false
   },
   "outputs": [],
   "source": [
    "rhemac_df['strand'] = '+'\n",
    "rhemac_df['score'] = 1000"
   ]
  },
  {
   "cell_type": "code",
   "execution_count": 48,
   "metadata": {
    "collapsed": false
   },
   "outputs": [],
   "source": [
    "rhemac_df['name'] = rhemac_df[0] + '_' + rhemac_df[1]"
   ]
  },
  {
   "cell_type": "code",
   "execution_count": 49,
   "metadata": {
    "collapsed": false
   },
   "outputs": [
    {
     "data": {
      "text/html": [
       "<div>\n",
       "<table border=\"1\" class=\"dataframe\">\n",
       "  <thead>\n",
       "    <tr style=\"text-align: right;\">\n",
       "      <th></th>\n",
       "      <th>0</th>\n",
       "      <th>1</th>\n",
       "      <th>2</th>\n",
       "      <th>3</th>\n",
       "      <th>4</th>\n",
       "      <th>5</th>\n",
       "      <th>chrom</th>\n",
       "      <th>strand</th>\n",
       "      <th>score</th>\n",
       "      <th>name</th>\n",
       "    </tr>\n",
       "  </thead>\n",
       "  <tbody>\n",
       "    <tr>\n",
       "      <th>0</th>\n",
       "      <td>PTPRD</td>\n",
       "      <td>ENSMMUG00000006952</td>\n",
       "      <td>15</td>\n",
       "      <td>68642301</td>\n",
       "      <td>68642606</td>\n",
       "      <td>+</td>\n",
       "      <td>chr15</td>\n",
       "      <td>+</td>\n",
       "      <td>1000</td>\n",
       "      <td>PTPRD_ENSMMUG00000006952</td>\n",
       "    </tr>\n",
       "    <tr>\n",
       "      <th>1</th>\n",
       "      <td>UCKL1</td>\n",
       "      <td>ENSMMUG00000015551</td>\n",
       "      <td>10</td>\n",
       "      <td>402713</td>\n",
       "      <td>402732</td>\n",
       "      <td>+</td>\n",
       "      <td>chr10</td>\n",
       "      <td>+</td>\n",
       "      <td>1000</td>\n",
       "      <td>UCKL1_ENSMMUG00000015551</td>\n",
       "    </tr>\n",
       "    <tr>\n",
       "      <th>2</th>\n",
       "      <td>KANK1</td>\n",
       "      <td>ENSMMUG00000019862</td>\n",
       "      <td>15</td>\n",
       "      <td>76468463</td>\n",
       "      <td>76468702</td>\n",
       "      <td>-</td>\n",
       "      <td>chr15</td>\n",
       "      <td>+</td>\n",
       "      <td>1000</td>\n",
       "      <td>KANK1_ENSMMUG00000019862</td>\n",
       "    </tr>\n",
       "    <tr>\n",
       "      <th>3</th>\n",
       "      <td>Pbrm1</td>\n",
       "      <td>ENSMUSG00000042323</td>\n",
       "      <td>14</td>\n",
       "      <td>31858516</td>\n",
       "      <td>31858611</td>\n",
       "      <td>+</td>\n",
       "      <td>chr14</td>\n",
       "      <td>+</td>\n",
       "      <td>1000</td>\n",
       "      <td>Pbrm1_ENSMUSG00000042323</td>\n",
       "    </tr>\n",
       "    <tr>\n",
       "      <th>4</th>\n",
       "      <td>Fam179b</td>\n",
       "      <td>ENSMUSG00000035614</td>\n",
       "      <td>12</td>\n",
       "      <td>66091928</td>\n",
       "      <td>66092077</td>\n",
       "      <td>+</td>\n",
       "      <td>chr12</td>\n",
       "      <td>+</td>\n",
       "      <td>1000</td>\n",
       "      <td>Fam179b_ENSMUSG00000035614</td>\n",
       "    </tr>\n",
       "  </tbody>\n",
       "</table>\n",
       "</div>"
      ],
      "text/plain": [
       "         0                   1   2         3         4  5  chrom strand  \\\n",
       "0    PTPRD  ENSMMUG00000006952  15  68642301  68642606  +  chr15      +   \n",
       "1    UCKL1  ENSMMUG00000015551  10    402713    402732  +  chr10      +   \n",
       "2    KANK1  ENSMMUG00000019862  15  76468463  76468702  -  chr15      +   \n",
       "3    Pbrm1  ENSMUSG00000042323  14  31858516  31858611  +  chr14      +   \n",
       "4  Fam179b  ENSMUSG00000035614  12  66091928  66092077  +  chr12      +   \n",
       "\n",
       "   score                        name  \n",
       "0   1000    PTPRD_ENSMMUG00000006952  \n",
       "1   1000    UCKL1_ENSMMUG00000015551  \n",
       "2   1000    KANK1_ENSMMUG00000019862  \n",
       "3   1000    Pbrm1_ENSMUSG00000042323  \n",
       "4   1000  Fam179b_ENSMUSG00000035614  "
      ]
     },
     "execution_count": 49,
     "metadata": {},
     "output_type": "execute_result"
    }
   ],
   "source": [
    "rhemac_df.head()"
   ]
  },
  {
   "cell_type": "code",
   "execution_count": 50,
   "metadata": {
    "collapsed": false
   },
   "outputs": [
    {
     "data": {
      "text/html": [
       "<div>\n",
       "<table border=\"1\" class=\"dataframe\">\n",
       "  <thead>\n",
       "    <tr style=\"text-align: right;\">\n",
       "      <th></th>\n",
       "      <th>chrom</th>\n",
       "      <th>3</th>\n",
       "      <th>4</th>\n",
       "      <th>name</th>\n",
       "      <th>score</th>\n",
       "      <th>strand</th>\n",
       "    </tr>\n",
       "  </thead>\n",
       "  <tbody>\n",
       "    <tr>\n",
       "      <th>0</th>\n",
       "      <td>chr15</td>\n",
       "      <td>68642301</td>\n",
       "      <td>68642606</td>\n",
       "      <td>PTPRD_ENSMMUG00000006952</td>\n",
       "      <td>1000</td>\n",
       "      <td>+</td>\n",
       "    </tr>\n",
       "    <tr>\n",
       "      <th>1</th>\n",
       "      <td>chr10</td>\n",
       "      <td>402713</td>\n",
       "      <td>402732</td>\n",
       "      <td>UCKL1_ENSMMUG00000015551</td>\n",
       "      <td>1000</td>\n",
       "      <td>+</td>\n",
       "    </tr>\n",
       "    <tr>\n",
       "      <th>2</th>\n",
       "      <td>chr15</td>\n",
       "      <td>76468463</td>\n",
       "      <td>76468702</td>\n",
       "      <td>KANK1_ENSMMUG00000019862</td>\n",
       "      <td>1000</td>\n",
       "      <td>+</td>\n",
       "    </tr>\n",
       "    <tr>\n",
       "      <th>3</th>\n",
       "      <td>chr14</td>\n",
       "      <td>31858516</td>\n",
       "      <td>31858611</td>\n",
       "      <td>Pbrm1_ENSMUSG00000042323</td>\n",
       "      <td>1000</td>\n",
       "      <td>+</td>\n",
       "    </tr>\n",
       "    <tr>\n",
       "      <th>4</th>\n",
       "      <td>chr12</td>\n",
       "      <td>66091928</td>\n",
       "      <td>66092077</td>\n",
       "      <td>Fam179b_ENSMUSG00000035614</td>\n",
       "      <td>1000</td>\n",
       "      <td>+</td>\n",
       "    </tr>\n",
       "  </tbody>\n",
       "</table>\n",
       "</div>"
      ],
      "text/plain": [
       "   chrom         3         4                        name  score strand\n",
       "0  chr15  68642301  68642606    PTPRD_ENSMMUG00000006952   1000      +\n",
       "1  chr10    402713    402732    UCKL1_ENSMMUG00000015551   1000      +\n",
       "2  chr15  76468463  76468702    KANK1_ENSMMUG00000019862   1000      +\n",
       "3  chr14  31858516  31858611    Pbrm1_ENSMUSG00000042323   1000      +\n",
       "4  chr12  66091928  66092077  Fam179b_ENSMUSG00000035614   1000      +"
      ]
     },
     "execution_count": 50,
     "metadata": {},
     "output_type": "execute_result"
    }
   ],
   "source": [
    "rhemac_bed = rhemac_df.reindex(columns=['chrom', 3, 4, 'name', 'score', 'strand'])\n",
    "rhemac_bed.head()"
   ]
  },
  {
   "cell_type": "code",
   "execution_count": 51,
   "metadata": {
    "collapsed": true
   },
   "outputs": [],
   "source": [
    "rhemac_bed.to_csv('/projects/ps-yeolab/obotvinnik/merkin2012/merkin2012_rhemac_ancient_alt_exons.bed', \n",
    "                  sep='\\t', index=False, header=False)"
   ]
  },
  {
   "cell_type": "code",
   "execution_count": 52,
   "metadata": {
    "collapsed": false
   },
   "outputs": [
    {
     "name": "stdout",
     "output_type": "stream",
     "text": [
      "chr16\t55027280\t55043304\tKIF18B_ENSMMUG00000013113\t1000\t+\r\n",
      "chr14\t24791110\t24849594\tLOC713613_ENSMMUG00000015602\t1000\t+\r\n",
      "chr7\t126179652\t126283622\tRHOJ_ENSMMUG00000008203\t1000\t+\r\n",
      "chr7\t92490280\t92873651\tPRKD1_ENSMMUG00000022550\t1000\t+\r\n",
      "chr6\t6532824\t6570828\tSRD5A1_ENSMMUG00000013186\t1000\t+\r\n",
      "chr7\t57472232\t57536686\tIREB2_ENSMMUG00000023474\t1000\t+\r\n",
      "chr2\t43274902\t43438002\tADCY5_ENSMMUG00000002230\t1000\t+\r\n",
      "chr5\t74655913\t74744542\tKIT_ENSMMUG00000003057\t1000\t+\r\n",
      "chr5\t53378257\t53434251\tSCARB2_ENSMMUG00000020913\t1000\t+\r\n",
      "chr1\t144408757\t144417306\tC1orf55_ENSMMUG00000017148\t1000\t+\r\n"
     ]
    }
   ],
   "source": [
    "! head merkin2012_rhemac_ancient_alt_exons.bed"
   ]
  },
  {
   "cell_type": "code",
   "execution_count": 53,
   "metadata": {
    "collapsed": false
   },
   "outputs": [
    {
     "name": "stdout",
     "output_type": "stream",
     "text": [
      "/bin/sh: liftover: command not found\r\n"
     ]
    }
   ],
   "source": [
    "! liftover -h"
   ]
  },
  {
   "cell_type": "code",
   "execution_count": 54,
   "metadata": {
    "collapsed": false
   },
   "outputs": [
    {
     "name": "stdout",
     "output_type": "stream",
     "text": [
      "liftOver - Move annotations from one assembly to another\r\n",
      "usage:\r\n",
      "   liftOver oldFile map.chain newFile unMapped\r\n",
      "oldFile and newFile are in bed format by default, but can be in GFF and\r\n",
      "maybe eventually others with the appropriate flags below.\r\n",
      "The map.chain file has the old genome as the target and the new genome\r\n",
      "as the query.\r\n",
      "\r\n",
      "***********************************************************************\r\n",
      "WARNING: liftOver was only designed to work between different\r\n",
      "         assemblies of the same organism. It may not do what you want\r\n",
      "         if you are lifting between different organisms. If there has\r\n",
      "         been a rearrangement in one of the species, the size of the\r\n",
      "         region being mapped may change dramatically after mapping.\r\n",
      "***********************************************************************\r\n",
      "\r\n",
      "options:\r\n",
      "   -minMatch=0.N Minimum ratio of bases that must remap. Default 0.95\r\n",
      "   -gff  File is in gff/gtf format.  Note that the gff lines are converted\r\n",
      "         separately.  It would be good to have a separate check after this\r\n",
      "         that the lines that make up a gene model still make a plausible gene\r\n",
      "         after liftOver\r\n",
      "   -genePred - File is in genePred format\r\n",
      "   -sample - File is in sample format\r\n",
      "   -bedPlus=N - File is bed N+ format\r\n",
      "   -positions - File is in browser \"position\" format\r\n",
      "   -hasBin - File has bin value (used only with -bedPlus)\r\n",
      "   -tab - Separate by tabs rather than space (used only with -bedPlus)\r\n",
      "   -pslT - File is in psl format, map target side only\r\n",
      "   -ends=N - Lift the first and last N bases of each record and combine the\r\n",
      "             result. This is useful for lifting large regions like BAC end pairs.\r\n",
      "   -minBlocks=0.N Minimum ratio of alignment blocks or exons that must map\r\n",
      "                  (default 1.00)\r\n",
      "   -fudgeThick    (bed 12 or 12+ only) If thickStart/thickEnd is not mapped,\r\n",
      "                  use the closest mapped base.  Recommended if using \r\n",
      "                  -minBlocks.\r\n",
      "   -multiple               Allow multiple output regions\r\n",
      "   -minChainT, -minChainQ  Minimum chain size in target/query, when mapping\r\n",
      "                           to multiple output regions (default 0, 0)\r\n",
      "   -minSizeT               deprecated synonym for -minChainT (ENCODE compat.)\r\n",
      "   -minSizeQ               Min matching region size in query with -multiple.\r\n",
      "   -chainTable             Used with -multiple, format is db.tablename,\r\n",
      "                               to extend chains from net (preserves dups)\r\n",
      "   -errorHelp              Explain error messages\r\n",
      "\r\n"
     ]
    }
   ],
   "source": [
    "! /projects/ps-yeolab/software/bin/liftOver"
   ]
  },
  {
   "cell_type": "code",
   "execution_count": 55,
   "metadata": {
    "collapsed": false
   },
   "outputs": [],
   "source": [
    "# ! gunzip -v rheMac2ToHg19.over.chain.gz"
   ]
  },
  {
   "cell_type": "code",
   "execution_count": 56,
   "metadata": {
    "collapsed": false
   },
   "outputs": [
    {
     "data": {
      "text/plain": [
       "u'/projects/ps-yeolab/genomes/rheMac/rheMac2'"
      ]
     },
     "execution_count": 56,
     "metadata": {},
     "output_type": "execute_result"
    }
   ],
   "source": [
    "pwd"
   ]
  },
  {
   "cell_type": "code",
   "execution_count": 57,
   "metadata": {
    "collapsed": true
   },
   "outputs": [],
   "source": [
    "!touch /projects/ps-yeolab/obotvinnik/merkin2012/merkin2012_rhemac_ancient_alt_exons_hg19.unmapped"
   ]
  },
  {
   "cell_type": "code",
   "execution_count": 58,
   "metadata": {
    "collapsed": true
   },
   "outputs": [],
   "source": [
    "!chmod ug+rwx /projects/ps-yeolab/obotvinnik/merkin2012/merkin2012_rhemac_ancient_alt_exons_hg19.unmapped"
   ]
  },
  {
   "cell_type": "code",
   "execution_count": 59,
   "metadata": {
    "collapsed": false
   },
   "outputs": [
    {
     "name": "stdout",
     "output_type": "stream",
     "text": [
      "-rwxrwxr-- 1 obotvinnik yeo-group 0 Jan  5 12:39 /projects/ps-yeolab/obotvinnik/merkin2012/merkin2012_rhemac_ancient_alt_exons_hg19.unmapped\r\n"
     ]
    }
   ],
   "source": [
    "! ls -lha /projects/ps-yeolab/obotvinnik/merkin2012/merkin2012_rhemac_ancient_alt_exons_hg19.unmapped"
   ]
  },
  {
   "cell_type": "code",
   "execution_count": 60,
   "metadata": {
    "collapsed": false
   },
   "outputs": [
    {
     "name": "stderr",
     "output_type": "stream",
     "text": [
      "Reading liftover chains\n",
      "Mapping coordinates\n"
     ]
    }
   ],
   "source": [
    "%%bash\n",
    "\n",
    "/projects/ps-yeolab/software/bin/liftOver \\\n",
    "    /projects/ps-yeolab/obotvinnik/merkin2012/merkin2012_rhemac_ancient_alt_exons.bed \\\n",
    "    /projects/ps-yeolab/genomes/rheMac/rheMac2/rheMac2ToHg19.over.chain \\\n",
    "    /projects/ps-yeolab/obotvinnik/merkin2012/merkin2012_rhemac_ancient_alt_exons_hg19.bed \\ \n",
    "    /projects/ps-yeolab/obotvinnik/merkin2012/merkin2012_rhemac_ancient_alt_exons_hg19.unmapped"
   ]
  },
  {
   "cell_type": "code",
   "execution_count": 61,
   "metadata": {
    "collapsed": false
   },
   "outputs": [
    {
     "name": "stdout",
     "output_type": "stream",
     "text": [
      "-rw-r--r-- 1 obotvinnik yeo-group 29K Jan  5 12:40 /projects/ps-yeolab/obotvinnik/merkin2012/merkin2012_rhemac_ancient_alt_exons_hg19.bed\r\n",
      "-rwxrwxr-- 1 obotvinnik yeo-group   0 Jan  5 12:39 /projects/ps-yeolab/obotvinnik/merkin2012/merkin2012_rhemac_ancient_alt_exons_hg19.unmapped\r\n"
     ]
    }
   ],
   "source": [
    "!ls -lha /projects/ps-yeolab/obotvinnik/merkin2012/merkin2012_rhemac_ancient_alt_exons_hg19.*"
   ]
  },
  {
   "cell_type": "markdown",
   "metadata": {
    "collapsed": true
   },
   "source": [
    "## Intersect with alt exons and add to Splicing feature data"
   ]
  },
  {
   "cell_type": "code",
   "execution_count": 62,
   "metadata": {
    "collapsed": false
   },
   "outputs": [
    {
     "name": "stdout",
     "output_type": "stream",
     "text": [
      "/projects/ps-yeolab/obotvinnik/singlecell_pnms/csvs_for_paper//splicing_feature_data/alternative/exons_merkin2012_ancient_alt_exons.bed\n",
      "/projects/ps-yeolab/obotvinnik/singlecell_pnms/csvs_for_paper//splicing_feature_data/constitutive/exons_merkin2012_ancient_alt_exons.bed\n"
     ]
    }
   ],
   "source": [
    "alt_exons_bedfile_intersect = alt_exons_bedfile.replace('.bed', '_merkin2012_ancient_alt_exons.bed')\n",
    "constitutive_bedfile_intersect = constitutive_bedfile.replace('.bed', '_merkin2012_ancient_alt_exons.bed')\n",
    "print alt_exons_bedfile_intersect\n",
    "print constitutive_bedfile_intersect"
   ]
  },
  {
   "cell_type": "code",
   "execution_count": 63,
   "metadata": {
    "collapsed": false
   },
   "outputs": [
    {
     "name": "stdout",
     "output_type": "stream",
     "text": [
      "34982 /projects/ps-yeolab/obotvinnik/singlecell_pnms/csvs_for_paper//splicing_feature_data/alternative/exons.bed\r\n"
     ]
    }
   ],
   "source": [
    "! wc -l $alt_exons_bedfile"
   ]
  },
  {
   "cell_type": "code",
   "execution_count": 64,
   "metadata": {
    "collapsed": false
   },
   "outputs": [
    {
     "name": "stdout",
     "output_type": "stream",
     "text": [
      "41 /projects/ps-yeolab/obotvinnik/singlecell_pnms/csvs_for_paper//splicing_feature_data/constitutive/exons.bed\r\n"
     ]
    }
   ],
   "source": [
    "! wc -l $constitutive_bedfile"
   ]
  },
  {
   "cell_type": "markdown",
   "metadata": {},
   "source": [
    "### Intersection"
   ]
  },
  {
   "cell_type": "code",
   "execution_count": 65,
   "metadata": {
    "collapsed": false
   },
   "outputs": [],
   "source": [
    "! bedtools intersect \\\n",
    "    -b /projects/ps-yeolab/obotvinnik/merkin2012/merkin2012_rhemac_ancient_alt_exons_hg19.bed \\\n",
    "    -a $alt_exons_bedfile -s -f 0.9 \\\n",
    "    -wo > $alt_exons_bedfile_intersect\n",
    "\n",
    "! bedtools intersect \\\n",
    "    -b /projects/ps-yeolab/obotvinnik/merkin2012/merkin2012_rhemac_ancient_alt_exons_hg19.bed \\\n",
    "    -a $constitutive_bedfile -s -f 0.9 \\\n",
    "    -wo > $constitutive_bedfile_intersect"
   ]
  },
  {
   "cell_type": "code",
   "execution_count": 66,
   "metadata": {
    "collapsed": false
   },
   "outputs": [
    {
     "name": "stdout",
     "output_type": "stream",
     "text": [
      "chr10\t100189548\t100189646\tisoform1=junction:chr10:100189400-100190327:-|isoform2=junction:chr10:100189647-100190327:-@exon:chr10:100189548-100189646:-@junction:chr10:100189400-100189547:-\t1000\t-\r\n",
      "chr10\t100190888\t100191048\tisoform1=junction:chr10:100190428-100193696:-|isoform2=junction:chr10:100191049-100193696:-@exon:chr10:100190888-100191048:-@junction:chr10:100190428-100190887:-\t1000\t-\r\n",
      "chr10\t100195029\t100195171\tisoform1=junction:chr10:100193849-100195391:-|isoform2=junction:chr10:100195172-100195391:-@exon:chr10:100195029-100195171:-@junction:chr10:100193849-100195028:-\t1000\t-\r\n",
      "chr10\t101163481\t101163631\tisoform1=junction:chr10:101163392-101165512:-|isoform2=junction:chr10:101163632-101165512:-@exon:chr10:101163481-101163631:-@junction:chr10:101163392-101163480:-\t1000\t-\r\n",
      "chr10\t101191687\t101191705\tisoform1=junction:chr10:101191023-101193302:+|isoform2=junction:chr10:101191023-101191686:+@novel_exon:chr10:101191687-101191705:+@junction:chr10:101191706-101193302:+\t1000\t+\r\n",
      "chr10\t101419619\t101419721\tisoform1=junction:chr10:101419346-101421202:+|isoform2=junction:chr10:101419346-101419618:+@exon:chr10:101419619-101419721:+@junction:chr10:101419722-101421202:+\t1000\t+\r\n",
      "chr10\t101439018\t101439223\tisoform1=junction:chr10:101421386-101439481:+|isoform2=junction:chr10:101421386-101439017:+@exon:chr10:101439018-101439223:+@junction:chr10:101439224-101439481:+\t1000\t+\r\n",
      "chr10\t101478103\t101478257\tisoform1=junction:chr10:101476219-101480743:-|isoform2=junction:chr10:101478258-101480743:-@exon:chr10:101478103-101478257:-@junction:chr10:101476219-101478102:-\t1000\t-\r\n",
      "chr10\t101510126\t101510153\tisoform1=junction:chr10:101507148-101514285:+|isoform2=junction:chr10:101507148-101510125:+@exon:chr10:101510126-101510153:+@junction:chr10:101510154-101514285:+\t1000\t+\r\n",
      "chr10\t101514286\t101514391\tisoform1=junction:chr10:101507148-101515381:+|isoform2=junction:chr10:101507148-101514285:+@exon:chr10:101514286-101514391:+@junction:chr10:101514392-101515381:+\t1000\t+\r\n"
     ]
    }
   ],
   "source": [
    "! head /projects/ps-yeolab/obotvinnik/singlecell_pnms/csvs_for_paper//splicing_feature_data/alternative/exons.bed"
   ]
  },
  {
   "cell_type": "code",
   "execution_count": 67,
   "metadata": {
    "collapsed": false
   },
   "outputs": [
    {
     "name": "stdout",
     "output_type": "stream",
     "text": [
      "177 /projects/ps-yeolab/obotvinnik/singlecell_pnms/csvs_for_paper//splicing_feature_data/alternative/exons_merkin2012_ancient_alt_exons.bed\r\n"
     ]
    }
   ],
   "source": [
    "! wc -l $alt_exons_bedfile_intersect"
   ]
  },
  {
   "cell_type": "code",
   "execution_count": 68,
   "metadata": {
    "collapsed": false
   },
   "outputs": [
    {
     "name": "stdout",
     "output_type": "stream",
     "text": [
      "0 /projects/ps-yeolab/obotvinnik/singlecell_pnms/csvs_for_paper//splicing_feature_data/constitutive/exons_merkin2012_ancient_alt_exons.bed\r\n"
     ]
    }
   ],
   "source": [
    "! wc -l $constitutive_bedfile_intersect"
   ]
  },
  {
   "cell_type": "code",
   "execution_count": 69,
   "metadata": {
    "collapsed": false
   },
   "outputs": [
    {
     "data": {
      "text/html": [
       "<div>\n",
       "<table border=\"1\" class=\"dataframe\">\n",
       "  <thead>\n",
       "    <tr style=\"text-align: right;\">\n",
       "      <th></th>\n",
       "      <th>0</th>\n",
       "      <th>1</th>\n",
       "      <th>2</th>\n",
       "      <th>3</th>\n",
       "      <th>4</th>\n",
       "      <th>5</th>\n",
       "      <th>6</th>\n",
       "      <th>7</th>\n",
       "      <th>8</th>\n",
       "      <th>9</th>\n",
       "      <th>10</th>\n",
       "      <th>11</th>\n",
       "      <th>12</th>\n",
       "    </tr>\n",
       "  </thead>\n",
       "  <tbody>\n",
       "    <tr>\n",
       "      <th>0</th>\n",
       "      <td>chr10</td>\n",
       "      <td>123972857</td>\n",
       "      <td>123972892</td>\n",
       "      <td>isoform1=junction:chr10:123971224-123974905:+|...</td>\n",
       "      <td>1000</td>\n",
       "      <td>+</td>\n",
       "      <td>chr10</td>\n",
       "      <td>123972857</td>\n",
       "      <td>123972892</td>\n",
       "      <td>TACC2_ENSMMUG00000013033</td>\n",
       "      <td>1000</td>\n",
       "      <td>+</td>\n",
       "      <td>35</td>\n",
       "    </tr>\n",
       "    <tr>\n",
       "      <th>1</th>\n",
       "      <td>chr10</td>\n",
       "      <td>28884662</td>\n",
       "      <td>28884970</td>\n",
       "      <td>isoform1=junction:chr10:28879762-28897114:+|is...</td>\n",
       "      <td>1000</td>\n",
       "      <td>+</td>\n",
       "      <td>chr10</td>\n",
       "      <td>28884662</td>\n",
       "      <td>28884970</td>\n",
       "      <td>WAC_ENSMMUG00000008268</td>\n",
       "      <td>1000</td>\n",
       "      <td>+</td>\n",
       "      <td>308</td>\n",
       "    </tr>\n",
       "    <tr>\n",
       "      <th>2</th>\n",
       "      <td>chr10</td>\n",
       "      <td>61841908</td>\n",
       "      <td>61841934</td>\n",
       "      <td>isoform1=junction:chr10:61840377-61842372:-|is...</td>\n",
       "      <td>1000</td>\n",
       "      <td>-</td>\n",
       "      <td>chr10</td>\n",
       "      <td>61841907</td>\n",
       "      <td>61841939</td>\n",
       "      <td>ANK3_ENSMMUG00000003589</td>\n",
       "      <td>1000</td>\n",
       "      <td>-</td>\n",
       "      <td>26</td>\n",
       "    </tr>\n",
       "    <tr>\n",
       "      <th>3</th>\n",
       "      <td>chr10</td>\n",
       "      <td>61926349</td>\n",
       "      <td>61926411</td>\n",
       "      <td>isoform1=junction:chr10:61898846-61926581:-|is...</td>\n",
       "      <td>1000</td>\n",
       "      <td>-</td>\n",
       "      <td>chr10</td>\n",
       "      <td>61926266</td>\n",
       "      <td>61926571</td>\n",
       "      <td>ANK3_ENSMMUG00000003589</td>\n",
       "      <td>1000</td>\n",
       "      <td>-</td>\n",
       "      <td>62</td>\n",
       "    </tr>\n",
       "    <tr>\n",
       "      <th>4</th>\n",
       "      <td>chr10</td>\n",
       "      <td>69718870</td>\n",
       "      <td>69718893</td>\n",
       "      <td>isoform1=junction:chr10:69716734-69726439:-|is...</td>\n",
       "      <td>1000</td>\n",
       "      <td>-</td>\n",
       "      <td>chr10</td>\n",
       "      <td>69718869</td>\n",
       "      <td>69719364</td>\n",
       "      <td>HERC4_ENSMMUG00000010105</td>\n",
       "      <td>1000</td>\n",
       "      <td>-</td>\n",
       "      <td>23</td>\n",
       "    </tr>\n",
       "  </tbody>\n",
       "</table>\n",
       "</div>"
      ],
      "text/plain": [
       "      0          1          2   \\\n",
       "0  chr10  123972857  123972892   \n",
       "1  chr10   28884662   28884970   \n",
       "2  chr10   61841908   61841934   \n",
       "3  chr10   61926349   61926411   \n",
       "4  chr10   69718870   69718893   \n",
       "\n",
       "                                                  3     4  5      6   \\\n",
       "0  isoform1=junction:chr10:123971224-123974905:+|...  1000  +  chr10   \n",
       "1  isoform1=junction:chr10:28879762-28897114:+|is...  1000  +  chr10   \n",
       "2  isoform1=junction:chr10:61840377-61842372:-|is...  1000  -  chr10   \n",
       "3  isoform1=junction:chr10:61898846-61926581:-|is...  1000  -  chr10   \n",
       "4  isoform1=junction:chr10:69716734-69726439:-|is...  1000  -  chr10   \n",
       "\n",
       "          7          8                         9     10 11   12  \n",
       "0  123972857  123972892  TACC2_ENSMMUG00000013033  1000  +   35  \n",
       "1   28884662   28884970    WAC_ENSMMUG00000008268  1000  +  308  \n",
       "2   61841907   61841939   ANK3_ENSMMUG00000003589  1000  -   26  \n",
       "3   61926266   61926571   ANK3_ENSMMUG00000003589  1000  -   62  \n",
       "4   69718869   69719364  HERC4_ENSMMUG00000010105  1000  -   23  "
      ]
     },
     "execution_count": 69,
     "metadata": {},
     "output_type": "execute_result"
    }
   ],
   "source": [
    "import pandas as pd\n",
    "\n",
    "df = pd.read_table(alt_exons_bedfile_intersect, header=None)\n",
    "df.head()"
   ]
  },
  {
   "cell_type": "code",
   "execution_count": 70,
   "metadata": {
    "collapsed": false
   },
   "outputs": [
    {
     "name": "stdout",
     "output_type": "stream",
     "text": [
      "(36531,)\n"
     ]
    },
    {
     "data": {
      "text/plain": [
       "event_id\n",
       "exon:chr10:100190328-100190427:-@exon:chr10:100189548-100189646:-@exon:chr10:100189330-100189399:-    False\n",
       "exon:chr10:100193697-100193848:-@exon:chr10:100190888-100191048:-@exon:chr10:100190328-100190427:-    False\n",
       "exon:chr10:100195392-100195529:-@exon:chr10:100195029-100195171:-@exon:chr10:100193697-100193848:-    False\n",
       "exon:chr10:101165513-101165617:-@exon:chr10:101163481-101163631:-@exon:chr10:101163226-101163391:-    False\n",
       "exon:chr10:101419263-101419345:+@exon:chr10:101419619-101419721:+@exon:chr10:101421203-101421385:+    False\n",
       "dtype: bool"
      ]
     },
     "execution_count": 70,
     "metadata": {},
     "output_type": "execute_result"
    }
   ],
   "source": [
    "exon2_merkin2012_ancient = pd.Series(splicing_feature_data.index.isin(df[3]), index=splicing_feature_data.index)\n",
    "six.print_(exon2_merkin2012_ancient.shape)\n",
    "exon2_merkin2012_ancient.head()"
   ]
  },
  {
   "cell_type": "code",
   "execution_count": 71,
   "metadata": {
    "collapsed": false
   },
   "outputs": [],
   "source": [
    "exon2_merkin2012_ancient.to_csv('{}/exon2_merkin2012_ancient.csv'.format(alternative_feature_folder))"
   ]
  },
  {
   "cell_type": "code",
   "execution_count": 72,
   "metadata": {
    "collapsed": false
   },
   "outputs": [
    {
     "name": "stdout",
     "output_type": "stream",
     "text": [
      "exon:chr10:100190328-100190427:-@exon:chr10:100189548-100189646:-@exon:chr10:100189330-100189399:-,False\r\n",
      "exon:chr10:100193697-100193848:-@exon:chr10:100190888-100191048:-@exon:chr10:100190328-100190427:-,False\r\n",
      "exon:chr10:100195392-100195529:-@exon:chr10:100195029-100195171:-@exon:chr10:100193697-100193848:-,False\r\n",
      "exon:chr10:101165513-101165617:-@exon:chr10:101163481-101163631:-@exon:chr10:101163226-101163391:-,False\r\n",
      "exon:chr10:101419263-101419345:+@exon:chr10:101419619-101419721:+@exon:chr10:101421203-101421385:+,False\r\n",
      "exon:chr10:101421203-101421385:+@exon:chr10:101439018-101439223:+@exon:chr10:101439482-101439632:+,False\r\n",
      "exon:chr10:101480744-101480825:-@exon:chr10:101478103-101478257:-@exon:chr10:101476105-101476218:-,False\r\n",
      "exon:chr10:101507014-101507147:+@exon:chr10:101510126-101510153:+@exon:chr10:101514286-101514391:+,False\r\n",
      "exon:chr10:101507014-101507147:+@exon:chr10:101514286-101514391:+@exon:chr10:101515382-101515465:+,False\r\n",
      "exon:chr10:101964263-101964414:-@exon:chr10:101961845-101961906:-@exon:chr10:101960428-101960537:-,False\r\n"
     ]
    }
   ],
   "source": [
    "! head $alternative_feature_folder/exon2_merkin2012_ancient.csv"
   ]
  },
  {
   "cell_type": "markdown",
   "metadata": {},
   "source": [
    "## Constitutive - no ancient spliced alt exons (as expected)\n",
    "\n",
    "Write a series of all False so there's still a column with the same name in the constitutive data but it will all be \"`False`\"s"
   ]
  },
  {
   "cell_type": "code",
   "execution_count": 73,
   "metadata": {
    "collapsed": false
   },
   "outputs": [
    {
     "data": {
      "text/html": [
       "<div>\n",
       "<table border=\"1\" class=\"dataframe\">\n",
       "  <thead>\n",
       "    <tr style=\"text-align: right;\">\n",
       "      <th></th>\n",
       "      <th>0</th>\n",
       "      <th>1</th>\n",
       "      <th>2</th>\n",
       "      <th>3</th>\n",
       "      <th>4</th>\n",
       "      <th>5</th>\n",
       "    </tr>\n",
       "  </thead>\n",
       "  <tbody>\n",
       "    <tr>\n",
       "      <th>0</th>\n",
       "      <td>chr11</td>\n",
       "      <td>17323291</td>\n",
       "      <td>17323417</td>\n",
       "      <td>outrigger.Region (exon:chr11:17323291-17323417:+)</td>\n",
       "      <td>1000</td>\n",
       "      <td>+</td>\n",
       "    </tr>\n",
       "    <tr>\n",
       "      <th>1</th>\n",
       "      <td>chr11</td>\n",
       "      <td>82985682</td>\n",
       "      <td>82985783</td>\n",
       "      <td>outrigger.Region (exon:chr11:82985682-82985783:-)</td>\n",
       "      <td>1000</td>\n",
       "      <td>-</td>\n",
       "    </tr>\n",
       "    <tr>\n",
       "      <th>2</th>\n",
       "      <td>chr12</td>\n",
       "      <td>121013595</td>\n",
       "      <td>121013753</td>\n",
       "      <td>outrigger.Region (exon:chr12:121013595-1210137...</td>\n",
       "      <td>1000</td>\n",
       "      <td>+</td>\n",
       "    </tr>\n",
       "    <tr>\n",
       "      <th>3</th>\n",
       "      <td>chr12</td>\n",
       "      <td>95676089</td>\n",
       "      <td>95676420</td>\n",
       "      <td>outrigger.Region (exon:chr12:95676089-95676420:+)</td>\n",
       "      <td>1000</td>\n",
       "      <td>+</td>\n",
       "    </tr>\n",
       "    <tr>\n",
       "      <th>4</th>\n",
       "      <td>chr12</td>\n",
       "      <td>95879655</td>\n",
       "      <td>95879757</td>\n",
       "      <td>outrigger.Region (exon:chr12:95879655-95879757:+)</td>\n",
       "      <td>1000</td>\n",
       "      <td>+</td>\n",
       "    </tr>\n",
       "  </tbody>\n",
       "</table>\n",
       "</div>"
      ],
      "text/plain": [
       "       0          1          2  \\\n",
       "0  chr11   17323291   17323417   \n",
       "1  chr11   82985682   82985783   \n",
       "2  chr12  121013595  121013753   \n",
       "3  chr12   95676089   95676420   \n",
       "4  chr12   95879655   95879757   \n",
       "\n",
       "                                                   3     4  5  \n",
       "0  outrigger.Region (exon:chr11:17323291-17323417:+)  1000  +  \n",
       "1  outrigger.Region (exon:chr11:82985682-82985783:-)  1000  -  \n",
       "2  outrigger.Region (exon:chr12:121013595-1210137...  1000  +  \n",
       "3  outrigger.Region (exon:chr12:95676089-95676420:+)  1000  +  \n",
       "4  outrigger.Region (exon:chr12:95879655-95879757:+)  1000  +  "
      ]
     },
     "execution_count": 73,
     "metadata": {},
     "output_type": "execute_result"
    }
   ],
   "source": [
    "constitutive_df = pd.read_table(constitutive_bedfile, header=None)\n",
    "constitutive_df.head()"
   ]
  },
  {
   "cell_type": "code",
   "execution_count": 74,
   "metadata": {
    "collapsed": false
   },
   "outputs": [
    {
     "data": {
      "text/plain": [
       "3\n",
       "outrigger.Region (exon:chr11:17323291-17323417:+)      False\n",
       "outrigger.Region (exon:chr11:82985682-82985783:-)      False\n",
       "outrigger.Region (exon:chr12:121013595-121013753:+)    False\n",
       "outrigger.Region (exon:chr12:95676089-95676420:+)      False\n",
       "outrigger.Region (exon:chr12:95879655-95879757:+)      False\n",
       "dtype: bool"
      ]
     },
     "execution_count": 74,
     "metadata": {},
     "output_type": "execute_result"
    }
   ],
   "source": [
    "constitutive_exon_ancient = pd.Series(False, index=constitutive_df[3])\n",
    "constitutive_exon_ancient.head()"
   ]
  },
  {
   "cell_type": "code",
   "execution_count": 75,
   "metadata": {
    "collapsed": true
   },
   "outputs": [],
   "source": [
    "constitutive_exon_ancient.to_csv('{}/exon2_merkin2012_ancient.csv'.format(constitutive_feature_folder))"
   ]
  }
 ],
 "metadata": {
  "kernelspec": {
   "display_name": "Python 2",
   "language": "python",
   "name": "python2"
  },
  "language_info": {
   "codemirror_mode": {
    "name": "ipython",
    "version": 2
   },
   "file_extension": ".py",
   "mimetype": "text/x-python",
   "name": "python",
   "nbconvert_exporter": "python",
   "pygments_lexer": "ipython2",
   "version": "2.7.11"
  }
 },
 "nbformat": 4,
 "nbformat_minor": 0
}
