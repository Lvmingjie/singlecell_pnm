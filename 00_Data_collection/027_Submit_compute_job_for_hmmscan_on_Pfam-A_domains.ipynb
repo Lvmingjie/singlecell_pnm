{
 "cells": [
  {
   "cell_type": "markdown",
   "metadata": {},
   "source": [
    "# Get translated protein product of isoforms"
   ]
  },
  {
   "cell_type": "code",
   "execution_count": 1,
   "metadata": {
    "collapsed": false
   },
   "outputs": [
    {
     "name": "stderr",
     "output_type": "stream",
     "text": [
      "/home/obotvinnik/anaconda/lib/python2.7/site-packages/matplotlib/__init__.py:810: UserWarning: Found matplotlib configuration in ~/.matplotlib/. To conform with the XDG base directory standard, this configuration location has been deprecated on Linux, and the new location is now /home/obotvinnik/.config/matplotlib/. Please move your configuration there to ensure that matplotlib will continue to find it in the future.\n",
      "  _get_xdg_config_dir())\n"
     ]
    }
   ],
   "source": [
    "%load_ext autoreload\n",
    "%autoreload 2\n",
    "\n",
    "import pandas as pd\n",
    "import gffutils\n",
    "import pybedtools\n",
    "import re\n",
    "import numpy as np\n",
    "\n",
    "v19db_filename = '/projects/ps-yeolab/genomes/hg19/gencode/v19/gencode.v19.annotation.gtf.db'\n",
    "v19db = gffutils.FeatureDB(v19db_filename)\n"
   ]
  },
  {
   "cell_type": "code",
   "execution_count": 2,
   "metadata": {
    "collapsed": true
   },
   "outputs": [],
   "source": [
    "folder = '/projects/ps-yeolab/obotvinnik/singlecell_pnms'\n",
    "csv_folder = '{}/csvs_for_paper/'.format(folder)\n",
    "\n",
    "\n",
    "splicing_feature_folder = '{}/splicing_feature_data'.format(csv_folder)\n",
    "alternative_feature_folder = '{}/alternative'.format(splicing_feature_folder)\n",
    "constitutive_feature_folder = '{}/constitutive'.format(splicing_feature_folder)"
   ]
  },
  {
   "cell_type": "code",
   "execution_count": 3,
   "metadata": {
    "collapsed": false
   },
   "outputs": [],
   "source": [
    "figure_folder = '{}/isoform_protein_properties'.format(alternative_feature_folder)\n",
    "! mkdir $figure_folder"
   ]
  },
  {
   "cell_type": "markdown",
   "metadata": {},
   "source": [
    "## Translate isoform"
   ]
  },
  {
   "cell_type": "code",
   "execution_count": 4,
   "metadata": {
    "collapsed": false
   },
   "outputs": [],
   "source": [
    "prefix = 'isoform_translations'\n",
    "translated_fasta = '{}/{}.fa'.format(alternative_feature_folder, prefix)"
   ]
  },
  {
   "cell_type": "code",
   "execution_count": 5,
   "metadata": {
    "collapsed": false
   },
   "outputs": [
    {
     "name": "stdout",
     "output_type": "stream",
     "text": [
      "-rw-r--r-- 1 obotvinnik 8610952 Mar 29 03:01 /projects/ps-yeolab/obotvinnik/singlecell_pnms/csvs_for_paper//splicing_feature_data/alternative/isoform_translations.fa\r\n"
     ]
    }
   ],
   "source": [
    "ll $translated_fasta"
   ]
  },
  {
   "cell_type": "code",
   "execution_count": 7,
   "metadata": {
    "collapsed": false
   },
   "outputs": [
    {
     "name": "stdout",
     "output_type": "stream",
     "text": [
      "85723 /projects/ps-yeolab/obotvinnik/singlecell_pnms/csvs_for_paper//splicing_feature_data/alternative/isoform_translations.fa\r\n"
     ]
    }
   ],
   "source": [
    "!wc -l $translated_fasta"
   ]
  },
  {
   "cell_type": "markdown",
   "metadata": {},
   "source": [
    "## Find protein domains using `hmmscan`"
   ]
  },
  {
   "cell_type": "markdown",
   "metadata": {},
   "source": [
    "Submit a compute cluster job using our in-house tool which writes and submits a bash script"
   ]
  },
  {
   "cell_type": "code",
   "execution_count": 8,
   "metadata": {
    "collapsed": false
   },
   "outputs": [
    {
     "name": "stderr",
     "output_type": "stream",
     "text": [
      "job ID: 4678196\n"
     ]
    }
   ],
   "source": [
    "from gscripts.qtools import Submitter\n",
    "\n",
    "n_processors = 16\n",
    "pfam_a = '/projects/ps-yeolab/genomes/pfam/release_27/ftp.sanger.ac.uk/pub/databases/Pfam/releases/Pfam27.0/Pfam-A.hmm'\n",
    "commands = []\n",
    "# for isoform_number in (1, 2):\n",
    "hmmscan_out = '{}/{}_hmmscan_pfamA.txt'.format(alternative_feature_folder, prefix)\n",
    "command = 'hmmscan --domtblout {} --cpu {} --noali --notextw {} {}'.format(hmmscan_out, n_processors, pfam_a, translated_fasta)\n",
    "commands.append(command)\n",
    "sub = Submitter(commands, 'hmmscan', walltime='24:00:00', ppn=n_processors, write_and_submit=True,\n",
    "                err_filename=hmmscan_out+'.err', out_filename=hmmscan_out+'.out')"
   ]
  },
  {
   "cell_type": "code",
   "execution_count": 3,
   "metadata": {
    "collapsed": true
   },
   "outputs": [],
   "source": [
    "! qdel 3610818"
   ]
  },
  {
   "cell_type": "code",
   "execution_count": 2,
   "metadata": {
    "collapsed": false
   },
   "outputs": [
    {
     "name": "stdout",
     "output_type": "stream",
     "text": [
      "#!/bin/bash\r\n",
      "#PBS -N hmmscan\r\n",
      "#PBS -o /projects/ps-yeolab/obotvinnik/singlecell_pnms/csvs_for_paper//splicing_feature_data/alternative/isoform_translations_hmmscan_pfamA.txt.out\r\n",
      "#PBS -e /projects/ps-yeolab/obotvinnik/singlecell_pnms/csvs_for_paper//splicing_feature_data/alternative/isoform_translations_hmmscan_pfamA.txt.err\r\n",
      "#PBS -V\r\n",
      "#PBS -l walltime=24:00:00\r\n",
      "#PBS -l nodes=1:ppn=16\r\n",
      "#PBS -A yeo-group\r\n",
      "#PBS -q home\r\n",
      "\r\n",
      "# Go to the directory from which the script was called\r\n",
      "cd $PBS_O_WORKDIR\r\n",
      "hmmscan --domtblout /projects/ps-yeolab/obotvinnik/singlecell_pnms/csvs_for_paper//splicing_feature_data/alternative/isoform_translations_hmmscan_pfamA.txt --cpu 16 --noali --notextw /projects/ps-yeolab/genomes/pfam/release_27/ftp.sanger.ac.uk/pub/databases/Pfam/releases/Pfam27.0/Pfam-A.hmm /projects/ps-yeolab/obotvinnik/singlecell_pnms/csvs_for_paper//splicing_feature_data/alternative/isoform_translations.fa\r\n",
      "\r\n"
     ]
    }
   ],
   "source": [
    "! cat hmmscan.sh*"
   ]
  },
  {
   "cell_type": "code",
   "execution_count": 3,
   "metadata": {
    "collapsed": false
   },
   "outputs": [
    {
     "name": "stdout",
     "output_type": "stream",
     "text": [
      "==> /projects/ps-yeolab/obotvinnik/singlecell_pnms/csvs_for_paper//splicing_feature_data/alternative/isoform_translations_hmmscan_pfamA.txt <==\n",
      "#                                                                                                                                                                                                                                                                         --- full sequence --- -------------- this domain -------------   hmm coord   ali coord   env coord\n",
      "# target name        accession   tlen query name                                                                                                                                                                                                        accession   qlen   E-value  score  bias   #  of  c-Evalue  i-Evalue  score  bias  from    to  from    to  from    to  acc description of target\n",
      "#------------------- ---------- -----                                                                                                                                                                                              -------------------- ---------- ----- --------- ------ ----- --- --- --------- --------- ------ ----- ----- ----- ----- ----- ----- ----- ---- ---------------------\n",
      "Aminotran_1_2        PF00155.16   363 exon:chr10:101165513-101165617:-@exon:chr10:101163481-101163631:-@exon:chr10:101163226-101163391:-|CDS:chr10:101165513-101165617:-:0@CDS:chr10:101163481-101163631:-:0@CDS:chr10:101163226-101163391:-:2|isoform2 -            140   1.6e-37  129.3   0.0   1   1   1.2e-41   1.7e-37  129.2   0.0   142   270     2   138     1   140 0.96 Aminotransferase class I and II\n",
      "GDA1_CD39            PF01150.12   436 exon:chr10:101421203-101421385:+@exon:chr10:101439018-101439223:+@exon:chr10:101439482-101439632:+|CDS:chr10:101421203-101421385:+:1@CDS:chr10:101439018-101439223:+:1@CDS:chr10:101439482-101439632:+:2|isoform2 -            179   1.8e-27   95.9   0.0   1   1   2.8e-31   2.1e-27   95.7   0.0     4   104    75   179    72   179 0.90 GDA1/CD39 (nucleoside phosphatase) family\n",
      "OppC_N               PF12911.2     56 exon:chr10:101421203-101421385:+@exon:chr10:101439018-101439223:+@exon:chr10:101439482-101439632:+|CDS:chr10:101421203-101421385:+:1@CDS:chr10:101439018-101439223:+:1@CDS:chr10:101439482-101439632:+:2|isoform2 -            179     0.085   12.2   0.2   1   1   2.2e-05      0.16   11.3   0.2    12    37    21    46    17    56 0.92 N-terminal TM domain of oligopeptide transport permease C\n",
      "COX15-CtaA           PF02628.10   302 exon:chr10:101480744-101480825:-@exon:chr10:101478103-101478257:-@exon:chr10:101476105-101476218:-|CDS:chr10:101480744-101480825:-:0@CDS:chr10:101478103-101478257:-:2@CDS:chr10:101476105-101476218:-:0|isoform2 -            117   8.1e-23   80.7   0.2   1   1   6.3e-27   9.3e-23   80.5   0.2   165   270     7   117     2   117 0.85 Cytochrome oxidase assembly protein\n",
      "CutC                 PF03932.9    202 exon:chr10:101507014-101507147:+@exon:chr10:101510126-101510153:+@exon:chr10:101514286-101514391:+|CDS:chr10:101507014-101507147:+:2@CDS:chr10:101510126-101510153:+:0@CDS:chr10:101514286-101514391:+:2|isoform2 -             88   8.5e-24   83.9   0.0   1   1   6.4e-28   9.5e-24   83.7   0.0   123   201     1    79     1    80 0.99 CutC family\n",
      "CutC                 PF03932.9    202 exon:chr10:101507014-101507147:+@exon:chr10:101510126-101510153:+@exon:chr10:101514286-101514391:+|CDS:chr10:101507014-101507147:+:2@CDS:chr10:101514286-101514294:+:0|isoform1 -             47   1.7e-11   43.7   0.0   1   1   1.3e-15   1.9e-11   43.6   0.0   123   166     1    44     1    46 0.98 CutC family\n",
      "ubiquitin            PF00240.18    69 exon:chr10:101969352-101969546:-@exon:chr10:101966987-101967089:-@exon:chr10:101964833-101964956:-|CDS:chr10:101969352-101969546:-:0@CDS:chr10:101966987-101967089:-:0@CDS:chr10:101964833-101964956:-:2|isoform2 -            140     0.042   13.2   0.0   1   1   5.5e-06     0.082   12.3   0.0     6    40    11    45     6    62 0.87 Ubiquitin family\n",
      "\n",
      "==> /projects/ps-yeolab/obotvinnik/singlecell_pnms/csvs_for_paper//splicing_feature_data/alternative/isoform_translations_hmmscan_pfamA.txt.err <==\n",
      "\n",
      "==> /projects/ps-yeolab/obotvinnik/singlecell_pnms/csvs_for_paper//splicing_feature_data/alternative/isoform_translations_hmmscan_pfamA.txt.out <==\n",
      "# hmmscan :: search sequence(s) against a profile database\n",
      "# HMMER 3.1b1 (May 2013); http://hmmer.org/\n",
      "# Copyright (C) 2013 Howard Hughes Medical Institute.\n",
      "# Freely distributed under the GNU General Public License (GPLv3).\n",
      "# - - - - - - - - - - - - - - - - - - - - - - - - - - - - - - - - - - - -\n",
      "# query sequence file:             /projects/ps-yeolab/obotvinnik/singlecell_pnms/csvs_for_paper//splicing_feature_data/alternative/isoform_translations.fa\n",
      "# target HMM database:             /projects/ps-yeolab/genomes/pfam/release_27/ftp.sanger.ac.uk/pub/databases/Pfam/releases/Pfam27.0/Pfam-A.hmm\n",
      "# per-dom hits tabular output:     /projects/ps-yeolab/obotvinnik/singlecell_pnms/csvs_for_paper//splicing_feature_data/alternative/isoform_translations_hmmscan_pfamA.txt\n",
      "# show alignments in output:       no\n",
      "# max ASCII text line length:      unlimited\n"
     ]
    }
   ],
   "source": [
    "! head /projects/ps-yeolab/obotvinnik/singlecell_pnms/csvs_for_paper//splicing_feature_data/alternative/isoform_translations_hmmscan_pfamA.txt*"
   ]
  },
  {
   "cell_type": "code",
   "execution_count": null,
   "metadata": {
    "collapsed": true
   },
   "outputs": [],
   "source": []
  }
 ],
 "metadata": {
  "kernelspec": {
   "display_name": "Python 2",
   "language": "python",
   "name": "python2"
  },
  "language_info": {
   "codemirror_mode": {
    "name": "ipython",
    "version": 2
   },
   "file_extension": ".py",
   "mimetype": "text/x-python",
   "name": "python",
   "nbconvert_exporter": "python",
   "pygments_lexer": "ipython2",
   "version": "2.7.11"
  }
 },
 "nbformat": 4,
 "nbformat_minor": 0
}
