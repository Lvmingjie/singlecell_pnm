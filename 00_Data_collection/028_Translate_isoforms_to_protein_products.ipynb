{
 "cells": [
  {
   "cell_type": "markdown",
   "metadata": {},
   "source": [
    "# Translate isoforms to get protein products"
   ]
  },
  {
   "cell_type": "code",
   "execution_count": 4,
   "metadata": {
    "collapsed": false
   },
   "outputs": [
    {
     "name": "stdout",
     "output_type": "stream",
     "text": [
      "The autoreload extension is already loaded. To reload it, use:\n",
      "  %reload_ext autoreload\n"
     ]
    }
   ],
   "source": [
    "%load_ext autoreload\n",
    "%autoreload 2\n",
    "\n",
    "import pandas as pd\n",
    "import gffutils\n",
    "import pybedtools\n",
    "import re\n",
    "import numpy as np\n",
    "\n",
    "v19db_filename = '/projects/ps-yeolab/genomes/hg19/gencode/v19/gencode.v19.annotation.gtf.db'\n",
    "v19db = gffutils.FeatureDB(v19db_filename)\n",
    "\n",
    "folder = '/projects/ps-yeolab/obotvinnik/singlecell_pnms'\n",
    "csv_folder = '{}/csvs_for_paper/'.format(folder)\n",
    "\n",
    "\n",
    "splicing_feature_folder = '{}/splicing_feature_data'.format(csv_folder)\n",
    "alternative_feature_folder = '{}/alternative'.format(splicing_feature_folder)\n",
    "constitutive_feature_folder = '{}/constitutive'.format(splicing_feature_folder)"
   ]
  },
  {
   "cell_type": "code",
   "execution_count": 5,
   "metadata": {
    "collapsed": false
   },
   "outputs": [],
   "source": [
    "# splicing_feature_data = pd.read_csv('{}/splicing_feature_data.csv'.format(csv_folder), index_col=0)"
   ]
  },
  {
   "cell_type": "code",
   "execution_count": 6,
   "metadata": {
    "collapsed": false
   },
   "outputs": [],
   "source": [
    "# splicing_feature_data.head()"
   ]
  },
  {
   "cell_type": "markdown",
   "metadata": {},
   "source": [
    "## Translate isoform"
   ]
  },
  {
   "cell_type": "code",
   "execution_count": 7,
   "metadata": {
    "collapsed": false
   },
   "outputs": [],
   "source": [
    "prefix = 'isoform_translations'\n",
    "translated_fasta = '{}/{}.fa'.format(alternative_feature_folder, prefix)"
   ]
  },
  {
   "cell_type": "code",
   "execution_count": 8,
   "metadata": {
    "collapsed": false
   },
   "outputs": [
    {
     "name": "stdout",
     "output_type": "stream",
     "text": [
      "/projects/ps-yeolab/obotvinnik/singlecell_pnms/outrigger_v2\n",
      "|-- index\n",
      "|   |-- gtf\n",
      "|   |   |-- gencode.v19.annotation.gtf.db\n",
      "|   |   `-- novel_exons.gtf\n",
      "|   |-- junction_exon_direction_triples.csv\n",
      "|   |-- mxe\n",
      "|   |   |-- event.bed\n",
      "|   |   |-- events.csv\n",
      "|   |   |-- exon1.bed\n",
      "|   |   |-- exon2.bed\n",
      "|   |   |-- exon3.bed\n",
      "|   |   |-- exon4.bed\n",
      "|   |   |-- intron.bed\n",
      "|   |   |-- splice_sites.csv\n",
      "|   |   `-- validated\n",
      "|   |       `-- events.csv\n",
      "|   `-- se\n",
      "|       |-- event.bed\n",
      "|       |-- events.csv\n",
      "|       |-- exon1.bed\n",
      "|       |-- exon2.bed\n",
      "|       |-- exon3.bed\n",
      "|       |-- intron.bed\n",
      "|       |-- splice_sites.csv\n",
      "|       `-- validated\n",
      "|           |-- events.csv\n",
      "|           `-- events.csv.bak\n",
      "|-- junctions\n",
      "|   |-- metadata.csv\n",
      "|   `-- reads.csv\n",
      "`-- psi\n",
      "    |-- mxe\n",
      "    |   |-- psi.csv\n",
      "    |   `-- summary.csv\n",
      "    |-- outrigger_psi.csv\n",
      "    |-- se\n",
      "    |   |-- psi.csv\n",
      "    |   `-- summary.csv\n",
      "    `-- summary_formatted.csv\n",
      "\n",
      "10 directories, 29 files\n"
     ]
    }
   ],
   "source": [
    "outrigger_folder = '{}/outrigger_v2'.format(folder)\n",
    "! tree $outrigger_folder"
   ]
  },
  {
   "cell_type": "code",
   "execution_count": 9,
   "metadata": {
    "collapsed": true
   },
   "outputs": [],
   "source": [
    "from outrigger.common import SPLICE_TYPE_ISOFORM_EXONS"
   ]
  },
  {
   "cell_type": "code",
   "execution_count": null,
   "metadata": {
    "collapsed": false,
    "scrolled": false
   },
   "outputs": [],
   "source": [
    "# %%time\n",
    "\n",
    "import itertools\n",
    "from Bio.Seq import Seq\n",
    "from Bio.SeqRecord import SeqRecord\n",
    "from Bio import SeqIO\n",
    "from Bio.Alphabet import generic_dna, generic_protein\n",
    "\n",
    "hg19_fasta = '/projects/ps-yeolab/genomes/hg19/gencode/v19/GRCh37.p13.genome.fa'\n",
    "\n",
    "splice_type_isoform_exons = {'SE': {'isoform1': ('exon1', 'exon3'),\n",
    "                                    'isoform2': ('exon1', 'exon2', 'exon3')},\n",
    "                             'MXE': {'isoform1': ('exon1', 'exon3', 'exon4'),\n",
    "                                     'isoform2': ('exon1', 'exon2', 'exon4')}\n",
    "                            }\n",
    "\n",
    "# splice_type_isoform1_exons = {'SE': ('exon1', 'exon3'), \n",
    "#                               'MXE': ('exon1', 'exon3', 'exon4')}\n",
    "# splice_type_isoform2_exons = {'SE': ('exon1', 'exon2','exon3'), \n",
    "#                               'MXE': ('exon1', 'exon2', 'exon4')}\n",
    "\n",
    "best_tags = 'appris_principal', 'appris_candidate', 'CCDS', 'exp_conf', 'basic'\n",
    "\n",
    "def overlap(x, y):\n",
    "    return not ((x.start > y.stop) or (x.stop < y.start))\n",
    "\n",
    "\n",
    "def filter_on_tags(features, tags):\n",
    "    if len(features) == 0:\n",
    "        return None\n",
    "    \n",
    "    if len(features) == 1:\n",
    "        return features.pop()\n",
    "    \n",
    "    feature_tags = map(lambda x: (x, tuple(x.attributes['tag'])) \n",
    "                    if 'tag' in x.attributes else (x, ()), features)\n",
    "#     print 'feature_tags', feature_tags\n",
    "    for tag in tags:\n",
    "        for feature, feature_tag in feature_tags:\n",
    "            if tag in feature_tag:\n",
    "                return feature\n",
    "    # If none of the tags are there, return a random feature\n",
    "#     print features\n",
    "    return np.random.choice(list(features))\n",
    "\n",
    "seqrecords = []\n",
    "\n",
    "for i, (event_id, row) in enumerate(splicing_feature_data.iterrows()):\n",
    "#     if i > 10:\n",
    "#         break\n",
    "    \n",
    "    if (i+1) % 1000 == 0:\n",
    "        print i+1\n",
    "#     exon1 = v19db[row.exon1]\n",
    "#     exon2 = v19db[row.exon2]\n",
    "#     exon3 = v19db[row.exon3]\n",
    "#     print event_id\n",
    "    \n",
    "#     exon_trio = exon1, exon2, exon3\n",
    "\n",
    "    isoform1_exons = splice_type_isoform_exons[row.splice_type]['isoform1']\n",
    "    isoform2_exons = splice_type_isoform_exons[row.splice_type]['isoform2']\n",
    "    \n",
    "    isoform_to_exons = {'isoform1': map(lambda x: v19db[row[x]], isoform1_exons),\n",
    "                        'isoform2': map(lambda x: v19db[row[x]], isoform2_exons)}\n",
    "    \n",
    "    isoform_to_transcripts = dict((k, set.intersection(*map(lambda x: set(v19db.parents(x, featuretype='transcript')), v)))\n",
    "                                  for k, v in isoform_to_exons.items())\n",
    "    \n",
    "#     isoform_to_exons = {'isoform1': (exon1, exon3), 'isoform2': exon_trio}\n",
    "    \n",
    "    \n",
    "    # Make sure isoform1 transcripts are distinct from isoform2\n",
    "    isoform1_transcripts = isoform_to_transcripts['isoform1'] - isoform_to_transcripts['isoform2']\n",
    "#     print '\\tisoform1_transcripts', ','.join(map(lambda x: x.id, isoform1_transcripts))\n",
    "#     print '\\t', '\\t'.join(map(lambda x: str(list(x.attributes['tag'])) if 'tag' in x.attributes else '-', isoform1_transcripts))\n",
    "    \n",
    "    # Make sure isoform2 transcripts are distinct from isoform1\n",
    "    isoform2_transcripts = isoform_to_transcripts['isoform2']\n",
    "    if row.splice_type == 'MXE':\n",
    "        isoform2_transcripts = isoform2_transcripts - isoform1_transcripts\n",
    "#     print '\\tisoform2_transcripts', ','.join(map(lambda x: x.id, isoform2_transcripts))\n",
    "#     print '\\t', '\\t'.join(map(lambda x: str(list(x.attributes['tag'])) if 'tag' in x.attributes else '-', isoform2_transcripts))\n",
    "    \n",
    "    isoform1_transcript = filter_on_tags(isoform1_transcripts, best_tags)\n",
    "    isoform2_transcript = filter_on_tags(isoform2_transcripts, best_tags)\n",
    "    \n",
    "#     if isoform1_transcript is not None:\n",
    "#         print '\\t--isoform1', isoform1_transcript.id,\n",
    "#         if 'tag' in isoform1_transcript.attributes:\n",
    "#             print isoform1_transcript.attributes['tag']\n",
    "#         else:\n",
    "#             print\n",
    "#     if isoform2_transcript is not None:\n",
    "#         print '\\t--isoform2', isoform2_transcript.id,\n",
    "#         if 'tag' in isoform2_transcript.attributes:\n",
    "#             print isoform2_transcript.attributes['tag']\n",
    "#         else:\n",
    "#             print\n",
    "    \n",
    "#     isoforms = {'isoform1': isoform1_transcripts, \n",
    "#                 'isoform2': isoform2_transcripts}\n",
    "    isoforms = {'isoform1': isoform1_transcript, \n",
    "                'isoform2': isoform2_transcript}\n",
    "    \n",
    "    \n",
    "#     isoform_to_cds = {'isoform1': [], 'isoform2': []}\n",
    "    for isoform, transcript in isoforms.items():\n",
    "        if transcript is None:\n",
    "#             print '\\t\\t', isoform, 'is None'\n",
    "            continue\n",
    "        exons = isoform_to_exons[isoform]\n",
    "#         print '\\t', '\\t'.join(map(lambda x: str(list(x.attributes['tag'])) if 'tag' in x.attributes else '-', exons))\n",
    "        \n",
    "#         for transcript in transcripts:\n",
    "\n",
    "\n",
    "        reverse = transcript.strand == '-'\n",
    "        cdss = v19db.children(transcript, featuretype='CDS', order_by='start', \n",
    "                              reverse=reverse)\n",
    "\n",
    "        cdss = filter(lambda cds: any(map(lambda exon: overlap(cds, exon), exons)), cdss)\n",
    "#         print cdss\n",
    "        if len(cdss) == len(exons):\n",
    "            cds_str = '@'.join(map(lambda x: x.id, cdss))\n",
    "#                 if cds_str in isoform_to_cds[isoform]:\n",
    "#                     continue\n",
    "\n",
    "#                 isoform_to_cds[isoform].append(cds_str)\n",
    "\n",
    "#                 print '\\t\\t', '\\t'.join(map(lambda x: x.id, exons))\n",
    "#                 print '\\t\\t\\t', '\\t'.join(map(lambda x: x.id, cdss))\n",
    "#                 if 'tag' in transcript.attributes:\n",
    "#                     print '\\t\\t\\t', transcript.attributes['tag']\n",
    "#                 else:\n",
    "#                     print '\\t\\t\\t-'\n",
    "\n",
    "            if reverse:\n",
    "                coding_sequence = Seq(''.join(cds.sequence(hg19_fasta)[::-1] for cds in cdss), generic_dna).complement()\n",
    "            else:\n",
    "                coding_sequence = Seq(''.join(cds.sequence(hg19_fasta) for cds in cdss), generic_dna)\n",
    "#                 print len(coding_sequence)\n",
    "            coding_sequence = coding_sequence[int(cdss[0].frame):]\n",
    "            translated = coding_sequence.translate()\n",
    "            seqrecord = SeqRecord(translated, id='{0}|{1}|{2}'.format(event_id, cds_str, isoform))\n",
    "#             print '\\t\\t', translated\n",
    "            seqrecords.append(seqrecord)\n",
    "#     pprint(isoform_to_cds)\n",
    "\n",
    "\n"
   ]
  },
  {
   "cell_type": "code",
   "execution_count": 8,
   "metadata": {
    "collapsed": false
   },
   "outputs": [
    {
     "data": {
      "text/plain": [
       "1193"
      ]
     },
     "execution_count": 8,
     "metadata": {},
     "output_type": "execute_result"
    }
   ],
   "source": [
    "len(seqrecords)"
   ]
  },
  {
   "cell_type": "code",
   "execution_count": 9,
   "metadata": {
    "collapsed": false
   },
   "outputs": [
    {
     "data": {
      "text/plain": [
       "'/projects/ps-yeolab/obotvinnik/singlecell_pnms/csvs_for_paper//splicing_feature_data/alternative/isoform_translations.fa'"
      ]
     },
     "execution_count": 9,
     "metadata": {},
     "output_type": "execute_result"
    }
   ],
   "source": [
    "translated_fasta"
   ]
  },
  {
   "cell_type": "code",
   "execution_count": 10,
   "metadata": {
    "collapsed": true
   },
   "outputs": [],
   "source": [
    "with open(translated_fasta, 'w') as f:\n",
    "    SeqIO.write(seqrecords, f, 'fasta')"
   ]
  },
  {
   "cell_type": "code",
   "execution_count": 11,
   "metadata": {
    "collapsed": false
   },
   "outputs": [
    {
     "name": "stdout",
     "output_type": "stream",
     "text": [
      "4049 /projects/ps-yeolab/obotvinnik/singlecell_pnms/csvs_for_paper//splicing_feature_data/alternative/isoform_translations.fa\r\n"
     ]
    }
   ],
   "source": [
    "! wc -l $translated_fasta"
   ]
  },
  {
   "cell_type": "code",
   "execution_count": 12,
   "metadata": {
    "collapsed": false
   },
   "outputs": [],
   "source": [
    "import itertools\n",
    "from Bio.Seq import Seq\n",
    "from Bio.SeqRecord import SeqRecord\n",
    "from Bio import SeqIO\n",
    "import pandas as pd\n",
    "\n",
    "translated_df = pd.DataFrame(columns=['isoform1', 'isoform2'])"
   ]
  },
  {
   "cell_type": "code",
   "execution_count": 13,
   "metadata": {
    "collapsed": false
   },
   "outputs": [
    {
     "name": "stdout",
     "output_type": "stream",
     "text": [
      "4049 /projects/ps-yeolab/obotvinnik/singlecell_pnms/csvs_for_paper//splicing_feature_data/alternative/isoform_translations.fa\r\n"
     ]
    }
   ],
   "source": [
    "! wc -l $translated_fasta"
   ]
  },
  {
   "cell_type": "code",
   "execution_count": 14,
   "metadata": {
    "collapsed": false
   },
   "outputs": [],
   "source": [
    "with open(translated_fasta) as f:\n",
    "    for record in SeqIO.parse(f, 'fasta'):\n",
    "        event_id, cds_str, isoform = record.id.split('|')\n",
    "        translated_df.loc[event_id, isoform] = str(record.seq)"
   ]
  },
  {
   "cell_type": "code",
   "execution_count": 15,
   "metadata": {
    "collapsed": false
   },
   "outputs": [
    {
     "data": {
      "text/plain": [
       "(977, 2)"
      ]
     },
     "execution_count": 15,
     "metadata": {},
     "output_type": "execute_result"
    }
   ],
   "source": [
    "translated_df.shape"
   ]
  },
  {
   "cell_type": "code",
   "execution_count": 16,
   "metadata": {
    "collapsed": false
   },
   "outputs": [
    {
     "data": {
      "text/html": [
       "<div>\n",
       "<table border=\"1\" class=\"dataframe\">\n",
       "  <thead>\n",
       "    <tr style=\"text-align: right;\">\n",
       "      <th></th>\n",
       "      <th>isoform1</th>\n",
       "      <th>isoform2</th>\n",
       "    </tr>\n",
       "  </thead>\n",
       "  <tbody>\n",
       "    <tr>\n",
       "      <th>exon:chr10:100190328-100190427:-@exon:chr10:100189548-100189646:-@exon:chr10:100189330-100189399:-</th>\n",
       "      <td>NaN</td>\n",
       "      <td>HSASSLRPADLLALILLVQDLYPSESTAEDDIQPSPRRARSSQNIP...</td>\n",
       "    </tr>\n",
       "    <tr>\n",
       "      <th>exon:chr10:101165513-101165617:-@exon:chr10:101163481-101163631:-@exon:chr10:101163226-101163391:-</th>\n",
       "      <td>NaN</td>\n",
       "      <td>NAPEFSIVVLHACAHNPTGIDPTPEQWKQIASVMKHRFLFPFFDSA...</td>\n",
       "    </tr>\n",
       "    <tr>\n",
       "      <th>exon:chr10:101421203-101421385:+@exon:chr10:101439018-101439223:+@exon:chr10:101439482-101439632:+</th>\n",
       "      <td>NaN</td>\n",
       "      <td>ISFSYLCPASWYFTVPTVSPFLRQRVAFLGLFFISCLLLLMLIIDF...</td>\n",
       "    </tr>\n",
       "    <tr>\n",
       "      <th>exon:chr10:101480744-101480825:-@exon:chr10:101478103-101478257:-@exon:chr10:101476105-101476218:-</th>\n",
       "      <td>NaN</td>\n",
       "      <td>LPETHQLLQLRRFAHGTAGLVFLTALSGAFVAGLDAGLVYNSFPKM...</td>\n",
       "    </tr>\n",
       "    <tr>\n",
       "      <th>exon:chr10:101507014-101507147:+@exon:chr10:101510126-101510153:+@exon:chr10:101514286-101514391:+</th>\n",
       "      <td>FDMVHDPMAALETLLTLGFERVLTSGCDSSALEGLPLIKRLIEQEVV</td>\n",
       "      <td>FDMVHDPMAALETLLTLGFERVLTSGCDSSALEGLPLIKRLIEQAK...</td>\n",
       "    </tr>\n",
       "  </tbody>\n",
       "</table>\n",
       "</div>"
      ],
      "text/plain": [
       "                                                                                           isoform1  \\\n",
       "exon:chr10:100190328-100190427:-@exon:chr10:100...                                              NaN   \n",
       "exon:chr10:101165513-101165617:-@exon:chr10:101...                                              NaN   \n",
       "exon:chr10:101421203-101421385:+@exon:chr10:101...                                              NaN   \n",
       "exon:chr10:101480744-101480825:-@exon:chr10:101...                                              NaN   \n",
       "exon:chr10:101507014-101507147:+@exon:chr10:101...  FDMVHDPMAALETLLTLGFERVLTSGCDSSALEGLPLIKRLIEQEVV   \n",
       "\n",
       "                                                                                             isoform2  \n",
       "exon:chr10:100190328-100190427:-@exon:chr10:100...  HSASSLRPADLLALILLVQDLYPSESTAEDDIQPSPRRARSSQNIP...  \n",
       "exon:chr10:101165513-101165617:-@exon:chr10:101...  NAPEFSIVVLHACAHNPTGIDPTPEQWKQIASVMKHRFLFPFFDSA...  \n",
       "exon:chr10:101421203-101421385:+@exon:chr10:101...  ISFSYLCPASWYFTVPTVSPFLRQRVAFLGLFFISCLLLLMLIIDF...  \n",
       "exon:chr10:101480744-101480825:-@exon:chr10:101...  LPETHQLLQLRRFAHGTAGLVFLTALSGAFVAGLDAGLVYNSFPKM...  \n",
       "exon:chr10:101507014-101507147:+@exon:chr10:101...  FDMVHDPMAALETLLTLGFERVLTSGCDSSALEGLPLIKRLIEQAK...  "
      ]
     },
     "execution_count": 16,
     "metadata": {},
     "output_type": "execute_result"
    }
   ],
   "source": [
    "translated_df.head()"
   ]
  },
  {
   "cell_type": "code",
   "execution_count": 6,
   "metadata": {
    "collapsed": false
   },
   "outputs": [
    {
     "data": {
      "text/plain": [
       "[0, 1, 2]"
      ]
     },
     "execution_count": 6,
     "metadata": {},
     "output_type": "execute_result"
    }
   ],
   "source": [
    "range(3)"
   ]
  },
  {
   "cell_type": "code",
   "execution_count": 7,
   "metadata": {
    "collapsed": false
   },
   "outputs": [
    {
     "ename": "NameError",
     "evalue": "name 'translated_df' is not defined",
     "output_type": "error",
     "traceback": [
      "\u001b[1;31m---------------------------------------------------------------------------\u001b[0m",
      "\u001b[1;31mNameError\u001b[0m                                 Traceback (most recent call last)",
      "\u001b[1;32m<ipython-input-7-f6f69317ef44>\u001b[0m in \u001b[0;36m<module>\u001b[1;34m()\u001b[0m\n\u001b[1;32m----> 1\u001b[1;33m \u001b[0mtranslated_df\u001b[0m\u001b[1;33m.\u001b[0m\u001b[0mdropna\u001b[0m\u001b[1;33m(\u001b[0m\u001b[1;33m)\u001b[0m\u001b[1;33m.\u001b[0m\u001b[0mshape\u001b[0m\u001b[1;33m\u001b[0m\u001b[0m\n\u001b[0m",
      "\u001b[1;31mNameError\u001b[0m: name 'translated_df' is not defined"
     ]
    }
   ],
   "source": [
    "translated_df.dropna().shape"
   ]
  },
  {
   "cell_type": "code",
   "execution_count": null,
   "metadata": {
    "collapsed": true
   },
   "outputs": [],
   "source": [
    "translated_df.columns = [x + '_translation' for x in translated_df]\n",
    "\n",
    "translated_df.to_csv('{}/protein_translations.csv'.format(alternative_feature_folder))"
   ]
  }
 ],
 "metadata": {
  "kernelspec": {
   "display_name": "Python 2",
   "language": "python",
   "name": "python2"
  },
  "language_info": {
   "codemirror_mode": {
    "name": "ipython",
    "version": 2
   },
   "file_extension": ".py",
   "mimetype": "text/x-python",
   "name": "python",
   "nbconvert_exporter": "python",
   "pygments_lexer": "ipython2",
   "version": "2.7.11"
  }
 },
 "nbformat": 4,
 "nbformat_minor": 0
}
