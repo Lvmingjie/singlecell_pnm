{
 "cells": [
  {
   "cell_type": "code",
   "execution_count": 1,
   "metadata": {
    "collapsed": true
   },
   "outputs": [],
   "source": [
    "from __future__ import print_function"
   ]
  },
  {
   "cell_type": "code",
   "execution_count": 16,
   "metadata": {
    "collapsed": true
   },
   "outputs": [],
   "source": [
    "commands = ['source activate outrigger_v1.0.0rc1',\n",
    "            'cd /home/obotvinnik/projects/singlecell_pnms/analysis',\n",
    "            'time outrigger validate --output outrigger_v2 '\n",
    "            '--genome /projects/ps-yeolab/genomes/hg19/hg19.chrom.sizes '\n",
    "            '--fasta /projects/ps-yeolab/genomes/hg19/gencode/v19/GRCh37.p13.genome.fa'\n",
    "           ]"
   ]
  },
  {
   "cell_type": "code",
   "execution_count": 17,
   "metadata": {
    "collapsed": false,
    "scrolled": false
   },
   "outputs": [
    {
     "name": "stdout",
     "output_type": "stream",
     "text": [
      "source activate outrigger_v1.0.0rc1\n",
      "cd /home/obotvinnik/projects/singlecell_pnms/analysis\n",
      "time outrigger validate --output outrigger_v2 --genome /projects/ps-yeolab/genomes/hg19/hg19.chrom.sizes --fasta /projects/ps-yeolab/genomes/hg19/gencode/v19/GRCh37.p13.genome.fa\n"
     ]
    }
   ],
   "source": [
    "for command in commands:\n",
    "    print(command)"
   ]
  },
  {
   "cell_type": "code",
   "execution_count": 18,
   "metadata": {
    "collapsed": true
   },
   "outputs": [],
   "source": [
    "project = 'singlecell_pnms'"
   ]
  },
  {
   "cell_type": "code",
   "execution_count": 19,
   "metadata": {
    "collapsed": false
   },
   "outputs": [
    {
     "name": "stdout",
     "output_type": "stream",
     "text": [
      "/home/obotvinnik/processing_scripts/singlecell_pnms\n"
     ]
    }
   ],
   "source": [
    "cd ~/projects/$project/scripts"
   ]
  },
  {
   "cell_type": "code",
   "execution_count": 20,
   "metadata": {
    "collapsed": false
   },
   "outputs": [
    {
     "name": "stderr",
     "output_type": "stream",
     "text": [
      "Wrote commands to singlecell_pnms_outrigger_validate_v1.0.0rc1.sh.\n",
      "Submitted script to queue home-yeo.\n",
      " Job ID: 7323865\n"
     ]
    },
    {
     "data": {
      "text/plain": [
       "<qtools.submitter.Submitter at 0x2b2b2432ccd0>"
      ]
     },
     "execution_count": 20,
     "metadata": {},
     "output_type": "execute_result"
    }
   ],
   "source": [
    "import qtools\n",
    "\n",
    "job_name = 'singlecell_pnms_outrigger_validate_v1.0.0rc1'\n",
    "qtools.Submitter(commands, job_name, ppn=8, walltime='100:00:00', queue='home-yeo')"
   ]
  },
  {
   "cell_type": "code",
   "execution_count": 22,
   "metadata": {
    "collapsed": false
   },
   "outputs": [
    {
     "name": "stdout",
     "output_type": "stream",
     "text": [
      "==> singlecell_pnms_outrigger_validate_v1.0.0rc1.sh <==\r\n",
      "#PBS -l nodes=1:ppn=8\r\n",
      "#PBS -A yeo-group\r\n",
      "#PBS -q home-yeo\r\n",
      "\r\n",
      "# Go to the directory from which the script was called\r\n",
      "cd $PBS_O_WORKDIR\r\n",
      "source activate outrigger_v1.0.0rc1\r\n",
      "cd /home/obotvinnik/projects/singlecell_pnms/analysis\r\n",
      "time outrigger validate --output outrigger_v2 --genome /projects/ps-yeolab/genomes/hg19/hg19.chrom.sizes --fasta /projects/ps-yeolab/genomes/hg19/gencode/v19/GRCh37.p13.genome.fa\r\n",
      "\r\n",
      "\r\n",
      "==> singlecell_pnms_outrigger_validate_v1.0.0rc1.sh.err <==\r\n",
      "\r\n",
      "real\t2m52.089s\r\n",
      "user\t2m9.702s\r\n",
      "sys\t0m26.670s\r\n",
      "\r\n",
      "==> singlecell_pnms_outrigger_validate_v1.0.0rc1.sh.out <==\r\n",
      "2016-12-26 15:58:54\t\t\t\tDone.\r\n",
      "2016-12-26 15:58:54\t\t\tFinding splice sites for exon3 and exon4 ...\r\n",
      "2016-12-26 15:59:18\t\t\t\tDone.\r\n",
      "2016-12-26 15:59:18\t\t\tDone.\r\n",
      "2016-12-26 15:59:19\t\tWriting splice sites to outrigger_v2/index/mxe/splice_sites.csv ...\r\n",
      "2016-12-26 15:59:20\t\t\tDone.\r\n",
      "2016-12-26 15:59:21\t\tValidated 18091/18257 Mutually Exclusive Exon (MXE) events. \r\n",
      "2016-12-26 15:59:21\t\tWriting validated events to outrigger_v2/index/mxe/validated/events.csv ...\r\n",
      "2016-12-26 15:59:24\t\t\tDone.\r\n",
      "Nodes:        tscc-1-36\r\n"
     ]
    }
   ],
   "source": [
    "! tail $job_name*"
   ]
  },
  {
   "cell_type": "code",
   "execution_count": null,
   "metadata": {
    "collapsed": true
   },
   "outputs": [],
   "source": []
  }
 ],
 "metadata": {
  "kernelspec": {
   "display_name": "Python 2",
   "language": "python",
   "name": "python2"
  },
  "language_info": {
   "codemirror_mode": {
    "name": "ipython",
    "version": 2
   },
   "file_extension": ".py",
   "mimetype": "text/x-python",
   "name": "python",
   "nbconvert_exporter": "python",
   "pygments_lexer": "ipython2",
   "version": "2.7.11"
  }
 },
 "nbformat": 4,
 "nbformat_minor": 0
}
