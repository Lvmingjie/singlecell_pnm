{
 "cells": [
  {
   "cell_type": "code",
   "execution_count": 1,
   "metadata": {
    "collapsed": false
   },
   "outputs": [],
   "source": [
    "import pandas as pd\n",
    "\n",
    "%load_ext autoreload\n",
    "%autoreload 2\n",
    "\n",
    "folder = '/projects/ps-yeolab/obotvinnik/singlecell_pnms'\n",
    "csv_folder = '{}/csvs_for_paper'.format(folder)\n",
    "bed_folder = '{}/bed'.format(folder)\n",
    "# folder2 = '/projects/ps-yeolab2/obotvinnik/singlecell_pnm'\n",
    "\n",
    "splicing_feature_folder = '{}/splicing_feature_data'.format(csv_folder)\n",
    "alternative_feature_folder = '{}/alternative'.format(splicing_feature_folder)\n",
    "constitutive_feature_folder = '{}/constitutive'.format(splicing_feature_folder)\n",
    "\n",
    "alt_exons_bedfile = '{}/exons.bed'.format(alternative_feature_folder)\n",
    "constitutive_bedfile = '{}/exons.bed'.format(constitutive_feature_folder)\n",
    "\n",
    "\n",
    "import pybedtools\n",
    "\n",
    "alt_exons = pybedtools.BedTool(alt_exons_bedfile)\n",
    "constitutive = pybedtools.BedTool(constitutive_bedfile)\n",
    "\n",
    "from Bio import SeqIO\n",
    "import kvector\n",
    "import pybedtools\n",
    "import pyhomer\n",
    "\n",
    "DIRECTIONS = 'upstream', 'downstream'\n",
    "\n",
    "placental_filename = '/projects/ps-yeolab/genomes/hg19/database/phastConsElements46wayPlacental.bed'\n",
    "conservation_bed = pybedtools.BedTool(placental_filename)\n",
    "\n",
    "genome = 'hg19'\n",
    "\n",
    "nt = 200\n",
    "\n",
    "genome_fasta = '/projects/ps-yeolab/genomes/hg19/chromosomes/all.fa'\n",
    "\n",
    "pair = pyhomer.ForegroundBackgroundPair(alt_exons, constitutive)\n"
   ]
  },
  {
   "cell_type": "code",
   "execution_count": 2,
   "metadata": {
    "collapsed": false
   },
   "outputs": [
    {
     "data": {
      "text/plain": [
       "'/projects/ps-yeolab/obotvinnik/singlecell_pnms/csvs_for_paper/splicing_feature_data/alternative'"
      ]
     },
     "execution_count": 2,
     "metadata": {},
     "output_type": "execute_result"
    }
   ],
   "source": [
    "alternative_feature_folder"
   ]
  },
  {
   "cell_type": "code",
   "execution_count": 3,
   "metadata": {
    "collapsed": false
   },
   "outputs": [
    {
     "data": {
      "text/plain": [
       "'/projects/ps-yeolab/obotvinnik/singlecell_pnms/csvs_for_paper/splicing_feature_data/constitutive'"
      ]
     },
     "execution_count": 3,
     "metadata": {},
     "output_type": "execute_result"
    }
   ],
   "source": [
    "constitutive_feature_folder"
   ]
  },
  {
   "cell_type": "code",
   "execution_count": 4,
   "metadata": {
    "collapsed": false
   },
   "outputs": [
    {
     "name": "stdout",
     "output_type": "stream",
     "text": [
      "/projects/ps-yeolab/obotvinnik/singlecell_pnms/csvs_for_paper/splicing_feature_data/alternative/exon2_phastcons_placental_mammal.bed\r\n",
      "/projects/ps-yeolab/obotvinnik/singlecell_pnms/csvs_for_paper/splicing_feature_data/alternative/exons.bed\r\n",
      "/projects/ps-yeolab/obotvinnik/singlecell_pnms/csvs_for_paper/splicing_feature_data/alternative/exons_downstream200nt.bed\r\n",
      "/projects/ps-yeolab/obotvinnik/singlecell_pnms/csvs_for_paper/splicing_feature_data/alternative/exons_merkin2012_ancient_alt_exons.bed\r\n",
      "/projects/ps-yeolab/obotvinnik/singlecell_pnms/csvs_for_paper/splicing_feature_data/alternative/exons_phastcons_placental_mammal.bed\r\n",
      "/projects/ps-yeolab/obotvinnik/singlecell_pnms/csvs_for_paper/splicing_feature_data/alternative/exons_stop_plus1.bed\r\n",
      "/projects/ps-yeolab/obotvinnik/singlecell_pnms/csvs_for_paper/splicing_feature_data/alternative/exons_upstream200_foreground.bed\r\n",
      "/projects/ps-yeolab/obotvinnik/singlecell_pnms/csvs_for_paper/splicing_feature_data/alternative/exons_upstream200_placental_foreground.bed\r\n",
      "/projects/ps-yeolab/obotvinnik/singlecell_pnms/csvs_for_paper/splicing_feature_data/alternative/exons_upstream200nt.bed\r\n",
      "/projects/ps-yeolab/obotvinnik/singlecell_pnms/csvs_for_paper/splicing_feature_data/alternative/test.bed\r\n"
     ]
    }
   ],
   "source": [
    "ls $alternative_feature_folder/*.bed"
   ]
  },
  {
   "cell_type": "code",
   "execution_count": 10,
   "metadata": {
    "collapsed": false
   },
   "outputs": [
    {
     "name": "stdout",
     "output_type": "stream",
     "text": [
      "   26379 /projects/ps-yeolab/obotvinnik/singlecell_pnms/csvs_for_paper/splicing_feature_data/alternative/exon2_phastcons_placental_mammal.bed\n",
      "   34982 /projects/ps-yeolab/obotvinnik/singlecell_pnms/csvs_for_paper/splicing_feature_data/alternative/exons.bed\n",
      "   43903 /projects/ps-yeolab/obotvinnik/singlecell_pnms/csvs_for_paper/splicing_feature_data/alternative/exons_downstream200nt.bed\n",
      "     177 /projects/ps-yeolab/obotvinnik/singlecell_pnms/csvs_for_paper/splicing_feature_data/alternative/exons_merkin2012_ancient_alt_exons.bed\n",
      "   43903 /projects/ps-yeolab/obotvinnik/singlecell_pnms/csvs_for_paper/splicing_feature_data/alternative/exons_phastcons_placental_mammal.bed\n",
      "   43903 /projects/ps-yeolab/obotvinnik/singlecell_pnms/csvs_for_paper/splicing_feature_data/alternative/exons_stop_plus1.bed\n",
      "   43903 /projects/ps-yeolab/obotvinnik/singlecell_pnms/csvs_for_paper/splicing_feature_data/alternative/exons_upstream200_foreground.bed\n",
      "   53712 /projects/ps-yeolab/obotvinnik/singlecell_pnms/csvs_for_paper/splicing_feature_data/alternative/exons_upstream200_placental_foreground.bed\n",
      "   43903 /projects/ps-yeolab/obotvinnik/singlecell_pnms/csvs_for_paper/splicing_feature_data/alternative/exons_upstream200nt.bed\n",
      "      10 /projects/ps-yeolab/obotvinnik/singlecell_pnms/csvs_for_paper/splicing_feature_data/alternative/test.bed\n",
      "  334775 total\n"
     ]
    }
   ],
   "source": [
    "! wc -l $alternative_feature_folder/*.bed"
   ]
  },
  {
   "cell_type": "code",
   "execution_count": 5,
   "metadata": {
    "collapsed": true
   },
   "outputs": [],
   "source": [
    "! head $alt_exons_bedfile > $alternative_feature_folder/test.bed"
   ]
  },
  {
   "cell_type": "markdown",
   "metadata": {},
   "source": [
    "Cacluate the time needed for 10 intervals"
   ]
  },
  {
   "cell_type": "code",
   "execution_count": 6,
   "metadata": {
    "collapsed": false
   },
   "outputs": [
    {
     "name": "stdout",
     "output_type": "stream",
     "text": [
      "CPU times: user 178 ms, sys: 109 ms, total: 287 ms\n",
      "Wall time: 35.8 s\n"
     ]
    }
   ],
   "source": [
    "%%time\n",
    "\n",
    "import kvector\n",
    "\n",
    "kmers = kvector.kmer.per_interval_kmers('{}/test.bed'.format(alternative_feature_folder), genome_fasta, conservation_bed)"
   ]
  },
  {
   "cell_type": "markdown",
   "metadata": {},
   "source": [
    "Total time per 10 exons\n",
    "\n",
    "```\n",
    "CPU times: user 178 ms, sys: 109 ms, total: 287 ms\n",
    "Wall time: 35.8 s\n",
    "```\n"
   ]
  },
  {
   "cell_type": "code",
   "execution_count": 20,
   "metadata": {
    "collapsed": false
   },
   "outputs": [
    {
     "name": "stdout",
     "output_type": "stream",
     "text": [
      "/home/obotvinnik/processing_scripts/singlecell_pnms\n"
     ]
    }
   ],
   "source": [
    "cd ~/projects/singlecell_pnms/scripts/"
   ]
  },
  {
   "cell_type": "code",
   "execution_count": 21,
   "metadata": {
    "collapsed": false
   },
   "outputs": [
    {
     "name": "stdout",
     "output_type": "stream",
     "text": [
      "Overwriting /home/obotvinnik/count_interval_kmers.py\n"
     ]
    }
   ],
   "source": [
    "%%file ~/count_interval_kmers.py\n",
    "\n",
    "import sys\n",
    "import kvector\n",
    "\n",
    "bedfile = sys.argv[1]\n",
    "genome_fasta = sys.argv[2]\n",
    "other = sys.argv[3]\n",
    "threads = int(sys.argv[4])\n",
    "\n",
    "kmers = kvector.kmer.per_interval_kmers(bedfile, genome_fasta, other, threads=threads)\n",
    "kmers = kmers.astype(int)\n",
    "csv = bedfile.replace('.bed', '_kmers.csv')\n",
    "kmers.to_csv(csv)"
   ]
  },
  {
   "cell_type": "code",
   "execution_count": 32,
   "metadata": {
    "collapsed": true
   },
   "outputs": [],
   "source": [
    "n_threads = 8"
   ]
  },
  {
   "cell_type": "code",
   "execution_count": 35,
   "metadata": {
    "collapsed": false
   },
   "outputs": [
    {
     "data": {
      "text/plain": [
       "4372.75"
      ]
     },
     "execution_count": 35,
     "metadata": {},
     "output_type": "execute_result"
    }
   ],
   "source": [
    "n_lines = ! wc -l $alt_exons_bedfile\n",
    "\n",
    "multipler = int(n_lines[0].split()[0])/float(n_threads)\n",
    "multipler"
   ]
  },
  {
   "cell_type": "markdown",
   "metadata": {},
   "source": [
    "35.8s for 10 exons -- divide by 60 twice to get the number of hours"
   ]
  },
  {
   "cell_type": "code",
   "execution_count": 36,
   "metadata": {
    "collapsed": false
   },
   "outputs": [
    {
     "data": {
      "text/plain": [
       "43.48456944444444"
      ]
     },
     "execution_count": 36,
     "metadata": {},
     "output_type": "execute_result"
    }
   ],
   "source": [
    "(multipler * 35.8)/60/60"
   ]
  },
  {
   "cell_type": "markdown",
   "metadata": {},
   "source": [
    "what about for constitutive exons?"
   ]
  },
  {
   "cell_type": "code",
   "execution_count": 34,
   "metadata": {
    "collapsed": false
   },
   "outputs": [
    {
     "data": {
      "text/plain": [
       "2192.625"
      ]
     },
     "execution_count": 34,
     "metadata": {},
     "output_type": "execute_result"
    }
   ],
   "source": [
    "n_lines = ! wc -l $constitutive_bedfile\n",
    "multipler = int(n_lines[0].split()[0])/float(n_threads)\n",
    "multipler"
   ]
  },
  {
   "cell_type": "markdown",
   "metadata": {},
   "source": [
    "Even less -- so 48 hours will work for both"
   ]
  },
  {
   "cell_type": "code",
   "execution_count": 37,
   "metadata": {
    "collapsed": false,
    "scrolled": true
   },
   "outputs": [
    {
     "name": "stderr",
     "output_type": "stream",
     "text": [
      "Writing 3 tasks as an array-job.\n",
      "Wrote commands to alternative_kmers.sh.\n",
      "Submitted script to queue home.\n",
      " Job ID: 7388244\n",
      "Writing 3 tasks as an array-job.\n",
      "Wrote commands to constitutive_kmers.sh.\n",
      "Submitted script to queue home.\n",
      " Job ID: 7388245\n"
     ]
    }
   ],
   "source": [
    "import qtools\n",
    "\n",
    "def kmer_command(bedfile, genome_fasta, other, threads):\n",
    "    return 'time python ~/count_interval_kmers.py {} {} {} {}'.format(bedfile, genome_fasta, other, threads)\n",
    "\n",
    "bedfiles = alt_exons_bedfile, constitutive_bedfile\n",
    "threads = 8\n",
    "\n",
    "for bedfile in bedfiles:\n",
    "    jobname = bedfile.split('/')[-2] + '_kmers'\n",
    "    \n",
    "    commands = []\n",
    "    \n",
    "    n_lines = ! wc -l $bedfile\n",
    "    n_lines = int(n_lines[0].split()[0])\n",
    "    n_minutes = 4 * n_lines / 10\n",
    "    \n",
    "    commands.append(kmer_command(bedfile, genome_fasta, placental_filename, threads))\n",
    "    \n",
    "    for direction in DIRECTIONS:\n",
    "        bed = pybedtools.BedTool(bedfile)\n",
    "        if direction == 'downstream':\n",
    "            intron = bed.flank(l=0, r=nt, s=True, genome=genome)\n",
    "        elif direction == 'upstream':\n",
    "            intron = bed.flank(l=nt, r=0, s=True, genome=genome)\n",
    "        intron_filename = bedfile.replace('.bed', '_{}{}nt.bed'.format(direction, nt))\n",
    "        intron.saveas(intron_filename)\n",
    "        commands.append(kmer_command(intron_filename, genome_fasta, placental_filename, threads))\n",
    "#     print commands\n",
    "    qtools.Submitter(commands, jobname, walltime='48:00:00'.format(n_minutes), array=True, ppn=threads)"
   ]
  },
  {
   "cell_type": "code",
   "execution_count": 38,
   "metadata": {
    "collapsed": false
   },
   "outputs": [
    {
     "name": "stdout",
     "output_type": "stream",
     "text": [
      "alternative_kmers.sh  constitutive_kmers.sh\r\n"
     ]
    }
   ],
   "source": [
    "ls *kmers*"
   ]
  },
  {
   "cell_type": "code",
   "execution_count": 39,
   "metadata": {
    "collapsed": false
   },
   "outputs": [
    {
     "name": "stdout",
     "output_type": "stream",
     "text": [
      "tail: cannot open `*kmers*.out*' for reading: No such file or directory\r\n"
     ]
    }
   ],
   "source": [
    "! tail *kmers*.out*"
   ]
  },
  {
   "cell_type": "code",
   "execution_count": 41,
   "metadata": {
    "collapsed": false
   },
   "outputs": [
    {
     "name": "stdout",
     "output_type": "stream",
     "text": [
      "-rw-r--r-- 1 obotvinnik yeo-group 455M May 21  2016 /projects/ps-yeolab/obotvinnik/singlecell_pnms/csvs_for_paper/splicing_feature_data/alternative/exons_downstream200nt_kmers.csv\r\n",
      "-rw-r--r-- 1 obotvinnik yeo-group 455M May 21  2016 /projects/ps-yeolab/obotvinnik/singlecell_pnms/csvs_for_paper/splicing_feature_data/alternative/exons_kmers.csv\r\n",
      "-rw-r--r-- 1 obotvinnik yeo-group 455M May 21  2016 /projects/ps-yeolab/obotvinnik/singlecell_pnms/csvs_for_paper/splicing_feature_data/alternative/exons_upstream200nt_kmers.csv\r\n"
     ]
    }
   ],
   "source": [
    "! ls -lh $alternative_feature_folder/*kmers*"
   ]
  },
  {
   "cell_type": "code",
   "execution_count": 9,
   "metadata": {
    "collapsed": false
   },
   "outputs": [
    {
     "name": "stdout",
     "output_type": "stream",
     "text": [
      "/projects/ps-yeolab/obotvinnik/singlecell_pnms/csvs_for_paper/splicing_feature_data/constitutive/exons_downstream200nt_kmers.csv\r\n",
      "/projects/ps-yeolab/obotvinnik/singlecell_pnms/csvs_for_paper/splicing_feature_data/constitutive/exons_kmers.csv\r\n",
      "/projects/ps-yeolab/obotvinnik/singlecell_pnms/csvs_for_paper/splicing_feature_data/constitutive/exons_upstream200nt_kmers.csv\r\n"
     ]
    }
   ],
   "source": [
    "! ls $constitutive_feature_folder/*kmers*"
   ]
  },
  {
   "cell_type": "code",
   "execution_count": 3,
   "metadata": {
    "collapsed": false
   },
   "outputs": [
    {
     "name": "stdout",
     "output_type": "stream",
     "text": [
      "==> alternative_kmers.sh.err-1 <==\n",
      "/home/obotvinnik/anaconda/lib/python2.7/site-packages/matplotlib/__init__.py:810: UserWarning: Found matplotlib configuration in ~/.matplotlib/. To conform with the XDG base directory standard, this configuration location has been deprecated on Linux, and the new location is now /home/obotvinnik/.config/matplotlib/. Please move your configuration there to ensure that matplotlib will continue to find it in the future.\n",
      "  _get_xdg_config_dir())\n",
      "\n",
      "==> alternative_kmers.sh.err-2 <==\n",
      "/home/obotvinnik/anaconda/lib/python2.7/site-packages/matplotlib/__init__.py:810: UserWarning: Found matplotlib configuration in ~/.matplotlib/. To conform with the XDG base directory standard, this configuration location has been deprecated on Linux, and the new location is now /home/obotvinnik/.config/matplotlib/. Please move your configuration there to ensure that matplotlib will continue to find it in the future.\n",
      "  _get_xdg_config_dir())\n",
      "\n",
      "==> alternative_kmers.sh.err-3 <==\n",
      "/home/obotvinnik/anaconda/lib/python2.7/site-packages/matplotlib/__init__.py:810: UserWarning: Found matplotlib configuration in ~/.matplotlib/. To conform with the XDG base directory standard, this configuration location has been deprecated on Linux, and the new location is now /home/obotvinnik/.config/matplotlib/. Please move your configuration there to ensure that matplotlib will continue to find it in the future.\n",
      "  _get_xdg_config_dir())\n",
      "\n",
      "==> constitutive_kmers.sh.err-1 <==\n",
      "/home/obotvinnik/anaconda/lib/python2.7/site-packages/matplotlib/__init__.py:810: UserWarning: Found matplotlib configuration in ~/.matplotlib/. To conform with the XDG base directory standard, this configuration location has been deprecated on Linux, and the new location is now /home/obotvinnik/.config/matplotlib/. Please move your configuration there to ensure that matplotlib will continue to find it in the future.\n",
      "  _get_xdg_config_dir())\n",
      "\n",
      "==> constitutive_kmers.sh.err-2 <==\n",
      "/home/obotvinnik/anaconda/lib/python2.7/site-packages/matplotlib/__init__.py:810: UserWarning: Found matplotlib configuration in ~/.matplotlib/. To conform with the XDG base directory standard, this configuration location has been deprecated on Linux, and the new location is now /home/obotvinnik/.config/matplotlib/. Please move your configuration there to ensure that matplotlib will continue to find it in the future.\n",
      "  _get_xdg_config_dir())\n",
      "\n",
      "==> constitutive_kmers.sh.err-3 <==\n",
      "/home/obotvinnik/anaconda/lib/python2.7/site-packages/matplotlib/__init__.py:810: UserWarning: Found matplotlib configuration in ~/.matplotlib/. To conform with the XDG base directory standard, this configuration location has been deprecated on Linux, and the new location is now /home/obotvinnik/.config/matplotlib/. Please move your configuration there to ensure that matplotlib will continue to find it in the future.\n",
      "  _get_xdg_config_dir())\n",
      "\n",
      "==> count_kmers.sh.err <==\n",
      "02/23/2016 06:50:45 PM INFO: Running cell:\n",
      "study.save('singlecell_pnm_figure2_modalities_bayesian_kmers', flotilla_dir=flotilla_dir)\n",
      "\n",
      "02/23/2016 06:51:51 PM INFO: Cell returned\n",
      "02/23/2016 06:51:51 PM INFO: Saving to /home/obotvinnik/ipython_notebook/singlecell/manuscript/2._Figure_2/2.7_Figure_2,_part_7_-_count_kmers_in_modality_introns_runipy_output.ipynb\n",
      "02/23/2016 06:51:51 PM INFO: Shutdown kernel\n",
      "\n",
      "real\t189m14.692s\n",
      "user\t185m22.553s\n",
      "sys\t2m21.730s\n"
     ]
    }
   ],
   "source": [
    "! tail *kmers*.err*"
   ]
  },
  {
   "cell_type": "code",
   "execution_count": null,
   "metadata": {
    "collapsed": true
   },
   "outputs": [],
   "source": []
  }
 ],
 "metadata": {
  "kernelspec": {
   "display_name": "Python 2",
   "language": "python",
   "name": "python2"
  },
  "language_info": {
   "codemirror_mode": {
    "name": "ipython",
    "version": 2
   },
   "file_extension": ".py",
   "mimetype": "text/x-python",
   "name": "python",
   "nbconvert_exporter": "python",
   "pygments_lexer": "ipython2",
   "version": "2.7.11"
  }
 },
 "nbformat": 4,
 "nbformat_minor": 0
}
