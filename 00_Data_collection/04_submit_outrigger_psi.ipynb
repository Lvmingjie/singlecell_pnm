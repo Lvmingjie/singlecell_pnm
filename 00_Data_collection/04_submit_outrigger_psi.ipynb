{
 "cells": [
  {
   "cell_type": "code",
   "execution_count": 11,
   "metadata": {
    "collapsed": true
   },
   "outputs": [],
   "source": [
    "from __future__ import print_function"
   ]
  },
  {
   "cell_type": "code",
   "execution_count": 12,
   "metadata": {
    "collapsed": true
   },
   "outputs": [],
   "source": [
    "commands = ['source activate outrigger_v1.0.0rc1',\n",
    "            'cd /home/obotvinnik/projects/singlecell_pnms/analysis',\n",
    "            'time outrigger psi --output outrigger_v2'\n",
    "           ]"
   ]
  },
  {
   "cell_type": "code",
   "execution_count": 13,
   "metadata": {
    "collapsed": false,
    "scrolled": false
   },
   "outputs": [
    {
     "name": "stdout",
     "output_type": "stream",
     "text": [
      "source activate outrigger_v1.0.0rc1\n",
      "cd /home/obotvinnik/projects/singlecell_pnms/analysis\n",
      "time outrigger psi --output outrigger_v2\n"
     ]
    }
   ],
   "source": [
    "for command in commands:\n",
    "    print(command)"
   ]
  },
  {
   "cell_type": "code",
   "execution_count": 14,
   "metadata": {
    "collapsed": true
   },
   "outputs": [],
   "source": [
    "project = 'singlecell_pnms'"
   ]
  },
  {
   "cell_type": "code",
   "execution_count": 15,
   "metadata": {
    "collapsed": false
   },
   "outputs": [
    {
     "name": "stdout",
     "output_type": "stream",
     "text": [
      "/home/obotvinnik/processing_scripts/singlecell_pnms\n"
     ]
    }
   ],
   "source": [
    "cd ~/projects/$project/scripts"
   ]
  },
  {
   "cell_type": "code",
   "execution_count": 16,
   "metadata": {
    "collapsed": false
   },
   "outputs": [
    {
     "name": "stderr",
     "output_type": "stream",
     "text": [
      "Wrote commands to singlecell_pnms_outrigger_psi_v1.0.0rc1.sh.\n",
      "Submitted script to queue home-yeo.\n",
      " Job ID: 7323966\n"
     ]
    },
    {
     "data": {
      "text/plain": [
       "<qtools.submitter.Submitter at 0x2b5b8832bcd0>"
      ]
     },
     "execution_count": 16,
     "metadata": {},
     "output_type": "execute_result"
    }
   ],
   "source": [
    "import qtools\n",
    "\n",
    "job_name = 'singlecell_pnms_outrigger_psi_v1.0.0rc1'\n",
    "qtools.Submitter(commands, job_name, ppn=8, walltime='100:00:00', queue='home-yeo')"
   ]
  },
  {
   "cell_type": "code",
   "execution_count": 17,
   "metadata": {
    "collapsed": false
   },
   "outputs": [
    {
     "name": "stdout",
     "output_type": "stream",
     "text": [
      "==> singlecell_pnms_outrigger_psi_v1.0.0rc1.sh <==\r\n",
      "#PBS -l nodes=1:ppn=8\r\n",
      "#PBS -A yeo-group\r\n",
      "#PBS -q home-yeo\r\n",
      "\r\n",
      "# Go to the directory from which the script was called\r\n",
      "cd $PBS_O_WORKDIR\r\n",
      "source activate outrigger_v1.0.0rc1\r\n",
      "cd /home/obotvinnik/projects/singlecell_pnms/analysis\r\n",
      "time outrigger psi --output outrigger_v2\r\n",
      "\r\n",
      "\r\n",
      "==> singlecell_pnms_outrigger_psi_v1.0.0rc1.sh.err <==\r\n",
      "    self.args.func()\r\n",
      "  File \"/home/obotvinnik/anaconda/lib/python2.7/site-packages/outrigger/commandline.py\", line 345, in psi\r\n",
      "    psi = Psi(**vars(self.args))\r\n",
      "  File \"/home/obotvinnik/anaconda/lib/python2.7/site-packages/outrigger/commandline.py\", line 895, in __init__\r\n",
      "    splice_name, splice_folder))\r\n",
      "OSError: The splicing index of mutually_exclusive_exon (./outrigger_output/index/mxe) splice types doesn't exist! Cowardly exiting because I don't know how to define events :(\r\n",
      "\r\n",
      "real\t0m4.602s\r\n",
      "user\t0m1.550s\r\n",
      "sys\t0m1.211s\r\n",
      "\r\n",
      "==> singlecell_pnms_outrigger_psi_v1.0.0rc1.sh.out <==\r\n",
      "Nodes:        tscc-1-37\r\n"
     ]
    }
   ],
   "source": [
    "! tail $job_name*"
   ]
  },
  {
   "cell_type": "code",
   "execution_count": null,
   "metadata": {
    "collapsed": true
   },
   "outputs": [],
   "source": []
  }
 ],
 "metadata": {
  "kernelspec": {
   "display_name": "Python 2",
   "language": "python",
   "name": "python2"
  },
  "language_info": {
   "codemirror_mode": {
    "name": "ipython",
    "version": 2
   },
   "file_extension": ".py",
   "mimetype": "text/x-python",
   "name": "python",
   "nbconvert_exporter": "python",
   "pygments_lexer": "ipython2",
   "version": "2.7.11"
  }
 },
 "nbformat": 4,
 "nbformat_minor": 0
}
