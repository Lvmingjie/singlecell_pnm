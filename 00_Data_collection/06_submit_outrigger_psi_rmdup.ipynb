{
 "cells": [
  {
   "cell_type": "code",
   "execution_count": 36,
   "metadata": {
    "collapsed": true
   },
   "outputs": [],
   "source": [
    "from __future__ import print_function"
   ]
  },
  {
   "cell_type": "code",
   "execution_count": 37,
   "metadata": {
    "collapsed": true
   },
   "outputs": [],
   "source": [
    "commands = ['source activate outrigger_v1.0.0rc1_v3',\n",
    "            'cd /home/obotvinnik/projects/singlecell_pnms/analysis',\n",
    "            'time outrigger psi --output outrigger_v2_rmdup --index outrigger_v2/index '\n",
    "            '--bam /oasis/tscc/scratch/obotvinnik/projects/singlecell_pnms/analysis/bams_from_aws/rmdup/*.bam'\n",
    "           ]"
   ]
  },
  {
   "cell_type": "code",
   "execution_count": 38,
   "metadata": {
    "collapsed": false,
    "scrolled": false
   },
   "outputs": [
    {
     "name": "stdout",
     "output_type": "stream",
     "text": [
      "source activate outrigger_v1.0.0rc1_v3\n",
      "cd /home/obotvinnik/projects/singlecell_pnms/analysis\n",
      "time outrigger psi --output outrigger_v2_rmdup --index outrigger_v2/index --bam /oasis/tscc/scratch/obotvinnik/projects/singlecell_pnms/analysis/bams_from_aws/rmdup/*.bam\n"
     ]
    }
   ],
   "source": [
    "for command in commands:\n",
    "    print(command)"
   ]
  },
  {
   "cell_type": "code",
   "execution_count": 39,
   "metadata": {
    "collapsed": true
   },
   "outputs": [],
   "source": [
    "project = 'singlecell_pnms'"
   ]
  },
  {
   "cell_type": "code",
   "execution_count": 40,
   "metadata": {
    "collapsed": false
   },
   "outputs": [
    {
     "name": "stdout",
     "output_type": "stream",
     "text": [
      "/home/obotvinnik/processing_scripts/singlecell_pnms\n"
     ]
    }
   ],
   "source": [
    "cd ~/projects/$project/scripts"
   ]
  },
  {
   "cell_type": "code",
   "execution_count": 41,
   "metadata": {
    "collapsed": false
   },
   "outputs": [
    {
     "name": "stderr",
     "output_type": "stream",
     "text": [
      "Wrote commands to singlecell_pnms_outrigger_psi_v1.0.0rc1_rmdup.sh.\n",
      "Submitted script to queue home-yeo.\n",
      " Job ID: 7347083\n"
     ]
    },
    {
     "data": {
      "text/plain": [
       "<qtools.submitter.Submitter at 0x2b3a1832cc90>"
      ]
     },
     "execution_count": 41,
     "metadata": {},
     "output_type": "execute_result"
    }
   ],
   "source": [
    "import qtools\n",
    "\n",
    "job_name = 'singlecell_pnms_outrigger_psi_v1.0.0rc1_rmdup'\n",
    "qtools.Submitter(commands, job_name, ppn=8, walltime='100:00:00', queue='home-yeo')"
   ]
  },
  {
   "cell_type": "code",
   "execution_count": 42,
   "metadata": {
    "collapsed": false
   },
   "outputs": [
    {
     "name": "stdout",
     "output_type": "stream",
     "text": [
      "==> singlecell_pnms_outrigger_psi_v1.0.0rc1_rmdup.sh <==\r\n",
      "#PBS -l nodes=1:ppn=8\r\n",
      "#PBS -A yeo-group\r\n",
      "#PBS -q home-yeo\r\n",
      "\r\n",
      "# Go to the directory from which the script was called\r\n",
      "cd $PBS_O_WORKDIR\r\n",
      "source activate outrigger_v1.0.0rc1_v3\r\n",
      "cd /home/obotvinnik/projects/singlecell_pnms/analysis\r\n",
      "time outrigger psi --output outrigger_v2_rmdup --index outrigger_v2/index --bam /oasis/tscc/scratch/obotvinnik/projects/singlecell_pnms/analysis/bams_from_aws/rmdup/*.bam\r\n",
      "\r\n",
      "\r\n",
      "==> singlecell_pnms_outrigger_psi_v1.0.0rc1_rmdup.sh.err <==\r\n",
      "    junction_reads = self.csv()\r\n",
      "  File \"/home/obotvinnik/anaconda/lib/python2.7/site-packages/outrigger/commandline.py\", line 465, in csv\r\n",
      "    splice_junctions = self.make_junction_reads_file()\r\n",
      "  File \"/home/obotvinnik/anaconda/lib/python2.7/site-packages/outrigger/commandline.py\", line 452, in make_junction_reads_file\r\n",
      "    splice_junctions = bam.read_multiple_bam(\r\n",
      "AttributeError: 'module' object has no attribute 'read_multiple_bam'\r\n",
      "\r\n",
      "real\t0m5.580s\r\n",
      "user\t0m1.539s\r\n",
      "sys\t0m1.251s\r\n",
      "\r\n",
      "==> singlecell_pnms_outrigger_psi_v1.0.0rc1_rmdup.sh.out <==\r\n",
      "2016-12-29 11:36:03\tCreating folder outrigger_v2_rmdup ...\r\n",
      "2016-12-29 11:36:03\t\tDone.\r\n",
      "2016-12-29 11:36:03\tCreating folder outrigger_v2_rmdup/psi ...\r\n",
      "2016-12-29 11:36:03\t\tDone.\r\n",
      "2016-12-29 11:36:03\tReading bam files and creating a big splice junction table of reads spanning exon-exon junctions\r\n",
      "Nodes:        tscc-1-49\r\n"
     ]
    }
   ],
   "source": [
    "! tail $job_name*"
   ]
  },
  {
   "cell_type": "code",
   "execution_count": null,
   "metadata": {
    "collapsed": true
   },
   "outputs": [],
   "source": []
  }
 ],
 "metadata": {
  "kernelspec": {
   "display_name": "Python 2",
   "language": "python",
   "name": "python2"
  },
  "language_info": {
   "codemirror_mode": {
    "name": "ipython",
    "version": 2
   },
   "file_extension": ".py",
   "mimetype": "text/x-python",
   "name": "python",
   "nbconvert_exporter": "python",
   "pygments_lexer": "ipython2",
   "version": "2.7.11"
  }
 },
 "nbformat": 4,
 "nbformat_minor": 0
}
