{
 "cells": [
  {
   "cell_type": "code",
   "execution_count": 2,
   "metadata": {
    "collapsed": true
   },
   "outputs": [],
   "source": [
    "import pandas as pd"
   ]
  },
  {
   "cell_type": "code",
   "execution_count": 3,
   "metadata": {
    "collapsed": true
   },
   "outputs": [],
   "source": [
    "figure_folder = 'figures/015_what_happened_to_rps24_and_pkm'\n",
    "! mkdir -p $figure_folder"
   ]
  },
  {
   "cell_type": "code",
   "execution_count": 4,
   "metadata": {
    "collapsed": true
   },
   "outputs": [],
   "source": [
    "from __future__ import print_function"
   ]
  },
  {
   "cell_type": "code",
   "execution_count": 5,
   "metadata": {
    "collapsed": false
   },
   "outputs": [],
   "source": [
    "%load_ext autoreload\n",
    "%autoreload 2"
   ]
  },
  {
   "cell_type": "code",
   "execution_count": 6,
   "metadata": {
    "collapsed": true
   },
   "outputs": [],
   "source": [
    "folder = '/projects/ps-yeolab/obotvinnik/singlecell_pnms'\n",
    "original_folder = '{}/outrigger_v2/psi'.format(folder)\n",
    "rmdup_folder = '{}/csvs_for_paper/outrigger_v2_rmdup/psi'.format(folder)"
   ]
  },
  {
   "cell_type": "code",
   "execution_count": 7,
   "metadata": {
    "collapsed": true
   },
   "outputs": [],
   "source": [
    "figure_folder = 'figures/015_what_happened_to_rps24_and_pkm'"
   ]
  },
  {
   "cell_type": "code",
   "execution_count": 8,
   "metadata": {
    "collapsed": false
   },
   "outputs": [],
   "source": [
    "rps24_events = pd.Index([u'isoform1=junction:chr10:79797063-79800372:+|isoform2=junction:chr10:79797063-79797196:+@novel_exon:chr10:79797197-79797199:+@junction:chr10:79797200-79800372:+',\n",
    "       u'isoform1=junction:chr10:79797063-79799961:+|isoform2=junction:chr10:79797063-79797196:+@novel_exon:chr10:79797197-79797199:+@junction:chr10:79797200-79799961:+',\n",
    "       u'isoform1=junction:chr10:79797063-79800372:+|isoform2=junction:chr10:79797063-79799961:+@exon:chr10:79799962-79799983:+@junction:chr10:79799984-79800372:+',\n",
    "       u'isoform1=junction:chr10:79797200-79800372:+|isoform2=junction:chr10:79797200-79797722:+@novel_exon:chr10:79797723-79797751:+@junction:chr10:79797752-79800372:+',\n",
    "       u'isoform1=junction:chr10:79797063-79800372:+|isoform2=junction:chr10:79797063-79797722:+@exon:chr10:79797723-79797740:+@junction:chr10:79797741-79800372:+',\n",
    "       u'isoform1=junction:chr10:79797200-79800372:+|isoform2=junction:chr10:79797200-79797722:+@exon:chr10:79797723-79797740:+@junction:chr10:79797741-79800372:+',\n",
    "       u'isoform1=junction:chr10:79797200-79800372:+|isoform2=junction:chr10:79797200-79799961:+@exon:chr10:79799962-79799983:+@junction:chr10:79799984-79800372:+',\n",
    "       u'isoform1=junction:chr10:79797063-79800372:+|isoform2=junction:chr10:79797063-79797722:+@novel_exon:chr10:79797723-79797751:+@junction:chr10:79797752-79800372:+',\n",
    "       u'isoform1=junction:chr10:79797200-79799961:+|isoform2=junction:chr10:79797200-79797722:+@exon:chr10:79797723-79797740:+@junction:chr10:79797741-79799961:+',\n",
    "       u'isoform1=junction:chr10:79797063-79797722:+|isoform2=junction:chr10:79797063-79797196:+@novel_exon:chr10:79797197-79797199:+@junction:chr10:79797200-79797722:+',\n",
    "       u'isoform1=junction:chr10:79797063-79799961:+|isoform2=junction:chr10:79797063-79797722:+@exon:chr10:79797723-79797740:+@junction:chr10:79797741-79799961:+',\n",
    "       u'isoform1=junction:chr10:79797741-79800372:+|isoform2=junction:chr10:79797741-79799961:+@exon:chr10:79799962-79799983:+@junction:chr10:79799984-79800372:+'],\n",
    "      dtype='object', name=u'event_id')"
   ]
  },
  {
   "cell_type": "code",
   "execution_count": 9,
   "metadata": {
    "collapsed": true
   },
   "outputs": [],
   "source": [
    "alternative_exon = 'exon:chr10:79799962-79799983'"
   ]
  },
  {
   "cell_type": "code",
   "execution_count": 10,
   "metadata": {
    "collapsed": false
   },
   "outputs": [
    {
     "data": {
      "text/plain": [
       "[u'isoform1=junction:chr10:79797063-79800372:+|isoform2=junction:chr10:79797063-79799961:+@exon:chr10:79799962-79799983:+@junction:chr10:79799984-79800372:+',\n",
       " u'isoform1=junction:chr10:79797200-79800372:+|isoform2=junction:chr10:79797200-79799961:+@exon:chr10:79799962-79799983:+@junction:chr10:79799984-79800372:+',\n",
       " u'isoform1=junction:chr10:79797741-79800372:+|isoform2=junction:chr10:79797741-79799961:+@exon:chr10:79799962-79799983:+@junction:chr10:79799984-79800372:+']"
      ]
     },
     "execution_count": 10,
     "metadata": {},
     "output_type": "execute_result"
    }
   ],
   "source": [
    "rps24_events = [x for x in rps24_events if alternative_exon in x]\n",
    "rps24_events"
   ]
  },
  {
   "cell_type": "code",
   "execution_count": 11,
   "metadata": {
    "collapsed": false
   },
   "outputs": [
    {
     "data": {
      "text/plain": [
       "'isoform1=junction:chr10:79797063-79800372:+|isoform2=junction:chr10:79797063-79799961:+@exon:chr10:79799962-79799983:+@junction:chr10:79799984-79800372:+'"
      ]
     },
     "execution_count": 11,
     "metadata": {},
     "output_type": "execute_result"
    }
   ],
   "source": [
    "rps24_event = 'isoform1=junction:chr10:79797063-79800372:+|'\\\n",
    "'isoform2=junction:chr10:79797063-79799961:+@exon:chr10:79799962-79799983:+@junction:chr10:79799984-79800372:+'\n",
    "rps24_event"
   ]
  },
  {
   "cell_type": "code",
   "execution_count": 12,
   "metadata": {
    "collapsed": false
   },
   "outputs": [
    {
     "data": {
      "text/plain": [
       "u'isoform1=junction:chr15:72494962-72499068:-@exon:chr15:72494795-72494961:-@junction:chr15:72492997-72494794:-|isoform2=junction:chr15:72495530-72499068:-@exon:chr15:72495363-72495529:-@junction:chr15:72492997-72495362:-'"
      ]
     },
     "execution_count": 12,
     "metadata": {},
     "output_type": "execute_result"
    }
   ],
   "source": [
    "pkm_mxe_event = u'isoform1=junction:chr15:72494962-72499068:-@exon:chr15:72494795-72494961:-@junction:chr15:72492997-72494794:-'\\\n",
    "'|isoform2=junction:chr15:72495530-72499068:-@exon:chr15:72495363-72495529:-@junction:chr15:72492997-72495362:-'\n",
    "pkm_mxe_event"
   ]
  },
  {
   "cell_type": "code",
   "execution_count": 13,
   "metadata": {
    "collapsed": false
   },
   "outputs": [
    {
     "name": "stdout",
     "output_type": "stream",
     "text": [
      "(12567319, 26)\n"
     ]
    },
    {
     "name": "stderr",
     "output_type": "stream",
     "text": [
      "/home/obotvinnik/anaconda/lib/python2.7/site-packages/IPython/core/interactiveshell.py:2723: DtypeWarning: Columns (21,23,24,25) have mixed types. Specify dtype option on import or set low_memory=False.\n",
      "  interactivity=interactivity, compiler=compiler, result=result)\n"
     ]
    }
   ],
   "source": [
    "summary = pd.read_csv('{}/outrigger_summary_original_rmdup_combined.csv'.format(folder))\n",
    "print(summary.shape)"
   ]
  },
  {
   "cell_type": "code",
   "execution_count": 14,
   "metadata": {
    "collapsed": false
   },
   "outputs": [
    {
     "name": "stdout",
     "output_type": "stream",
     "text": [
      "(251, 26)\n"
     ]
    },
    {
     "data": {
      "text/html": [
       "<div>\n",
       "<table border=\"1\" class=\"dataframe\">\n",
       "  <thead>\n",
       "    <tr style=\"text-align: right;\">\n",
       "      <th></th>\n",
       "      <th>sample_id</th>\n",
       "      <th>event_id</th>\n",
       "      <th>incompatible_junction0_original</th>\n",
       "      <th>incompatible_junction1_original</th>\n",
       "      <th>isoform1_junction13_original</th>\n",
       "      <th>isoform1_junction34_original</th>\n",
       "      <th>isoform2_junction12_original</th>\n",
       "      <th>isoform2_junction23_original</th>\n",
       "      <th>isoform2_junction24_original</th>\n",
       "      <th>notes_original</th>\n",
       "      <th>...</th>\n",
       "      <th>isoform1_junction13_rmdup</th>\n",
       "      <th>isoform1_junction34_rmdup</th>\n",
       "      <th>isoform2_junction12_rmdup</th>\n",
       "      <th>isoform2_junction23_rmdup</th>\n",
       "      <th>isoform2_junction24_rmdup</th>\n",
       "      <th>notes_rmdup</th>\n",
       "      <th>psi_rmdup</th>\n",
       "      <th>bam</th>\n",
       "      <th>notes_abbrev_rmdup</th>\n",
       "      <th>dataset_rmdup</th>\n",
       "    </tr>\n",
       "  </thead>\n",
       "  <tbody>\n",
       "    <tr>\n",
       "      <th>277606</th>\n",
       "      <td>CVN_01</td>\n",
       "      <td>isoform1=junction:chr10:79797063-79800372:+|is...</td>\n",
       "      <td>NaN</td>\n",
       "      <td>NaN</td>\n",
       "      <td>0</td>\n",
       "      <td>NaN</td>\n",
       "      <td>729</td>\n",
       "      <td>677.0</td>\n",
       "      <td>NaN</td>\n",
       "      <td>Case 8: Inclusion</td>\n",
       "      <td>...</td>\n",
       "      <td>NaN</td>\n",
       "      <td>NaN</td>\n",
       "      <td>NaN</td>\n",
       "      <td>NaN</td>\n",
       "      <td>NaN</td>\n",
       "      <td>NaN</td>\n",
       "      <td>NaN</td>\n",
       "      <td>NaN</td>\n",
       "      <td>NaN</td>\n",
       "      <td>NaN</td>\n",
       "    </tr>\n",
       "    <tr>\n",
       "      <th>277607</th>\n",
       "      <td>CVN_02</td>\n",
       "      <td>isoform1=junction:chr10:79797063-79800372:+|is...</td>\n",
       "      <td>NaN</td>\n",
       "      <td>NaN</td>\n",
       "      <td>0</td>\n",
       "      <td>NaN</td>\n",
       "      <td>451</td>\n",
       "      <td>419.0</td>\n",
       "      <td>NaN</td>\n",
       "      <td>Case 8: Inclusion</td>\n",
       "      <td>...</td>\n",
       "      <td>NaN</td>\n",
       "      <td>NaN</td>\n",
       "      <td>NaN</td>\n",
       "      <td>NaN</td>\n",
       "      <td>NaN</td>\n",
       "      <td>NaN</td>\n",
       "      <td>NaN</td>\n",
       "      <td>NaN</td>\n",
       "      <td>NaN</td>\n",
       "      <td>NaN</td>\n",
       "    </tr>\n",
       "    <tr>\n",
       "      <th>277608</th>\n",
       "      <td>CVN_03</td>\n",
       "      <td>isoform1=junction:chr10:79797063-79800372:+|is...</td>\n",
       "      <td>NaN</td>\n",
       "      <td>NaN</td>\n",
       "      <td>0</td>\n",
       "      <td>NaN</td>\n",
       "      <td>345</td>\n",
       "      <td>330.0</td>\n",
       "      <td>NaN</td>\n",
       "      <td>Case 8: Inclusion</td>\n",
       "      <td>...</td>\n",
       "      <td>NaN</td>\n",
       "      <td>NaN</td>\n",
       "      <td>NaN</td>\n",
       "      <td>NaN</td>\n",
       "      <td>NaN</td>\n",
       "      <td>NaN</td>\n",
       "      <td>NaN</td>\n",
       "      <td>NaN</td>\n",
       "      <td>NaN</td>\n",
       "      <td>NaN</td>\n",
       "    </tr>\n",
       "    <tr>\n",
       "      <th>277609</th>\n",
       "      <td>CVN_04</td>\n",
       "      <td>isoform1=junction:chr10:79797063-79800372:+|is...</td>\n",
       "      <td>NaN</td>\n",
       "      <td>NaN</td>\n",
       "      <td>0</td>\n",
       "      <td>NaN</td>\n",
       "      <td>402</td>\n",
       "      <td>417.0</td>\n",
       "      <td>NaN</td>\n",
       "      <td>Case 8: Inclusion</td>\n",
       "      <td>...</td>\n",
       "      <td>NaN</td>\n",
       "      <td>NaN</td>\n",
       "      <td>NaN</td>\n",
       "      <td>NaN</td>\n",
       "      <td>NaN</td>\n",
       "      <td>NaN</td>\n",
       "      <td>NaN</td>\n",
       "      <td>NaN</td>\n",
       "      <td>NaN</td>\n",
       "      <td>NaN</td>\n",
       "    </tr>\n",
       "    <tr>\n",
       "      <th>277610</th>\n",
       "      <td>CVN_05</td>\n",
       "      <td>isoform1=junction:chr10:79797063-79800372:+|is...</td>\n",
       "      <td>NaN</td>\n",
       "      <td>NaN</td>\n",
       "      <td>0</td>\n",
       "      <td>NaN</td>\n",
       "      <td>580</td>\n",
       "      <td>541.0</td>\n",
       "      <td>NaN</td>\n",
       "      <td>Case 8: Inclusion</td>\n",
       "      <td>...</td>\n",
       "      <td>NaN</td>\n",
       "      <td>NaN</td>\n",
       "      <td>NaN</td>\n",
       "      <td>NaN</td>\n",
       "      <td>NaN</td>\n",
       "      <td>NaN</td>\n",
       "      <td>NaN</td>\n",
       "      <td>NaN</td>\n",
       "      <td>NaN</td>\n",
       "      <td>NaN</td>\n",
       "    </tr>\n",
       "  </tbody>\n",
       "</table>\n",
       "<p>5 rows × 26 columns</p>\n",
       "</div>"
      ],
      "text/plain": [
       "       sample_id                                           event_id  \\\n",
       "277606    CVN_01  isoform1=junction:chr10:79797063-79800372:+|is...   \n",
       "277607    CVN_02  isoform1=junction:chr10:79797063-79800372:+|is...   \n",
       "277608    CVN_03  isoform1=junction:chr10:79797063-79800372:+|is...   \n",
       "277609    CVN_04  isoform1=junction:chr10:79797063-79800372:+|is...   \n",
       "277610    CVN_05  isoform1=junction:chr10:79797063-79800372:+|is...   \n",
       "\n",
       "        incompatible_junction0_original  incompatible_junction1_original  \\\n",
       "277606                              NaN                              NaN   \n",
       "277607                              NaN                              NaN   \n",
       "277608                              NaN                              NaN   \n",
       "277609                              NaN                              NaN   \n",
       "277610                              NaN                              NaN   \n",
       "\n",
       "        isoform1_junction13_original  isoform1_junction34_original  \\\n",
       "277606                             0                           NaN   \n",
       "277607                             0                           NaN   \n",
       "277608                             0                           NaN   \n",
       "277609                             0                           NaN   \n",
       "277610                             0                           NaN   \n",
       "\n",
       "        isoform2_junction12_original  isoform2_junction23_original  \\\n",
       "277606                           729                         677.0   \n",
       "277607                           451                         419.0   \n",
       "277608                           345                         330.0   \n",
       "277609                           402                         417.0   \n",
       "277610                           580                         541.0   \n",
       "\n",
       "        isoform2_junction24_original     notes_original      ...        \\\n",
       "277606                           NaN  Case 8: Inclusion      ...         \n",
       "277607                           NaN  Case 8: Inclusion      ...         \n",
       "277608                           NaN  Case 8: Inclusion      ...         \n",
       "277609                           NaN  Case 8: Inclusion      ...         \n",
       "277610                           NaN  Case 8: Inclusion      ...         \n",
       "\n",
       "        isoform1_junction13_rmdup isoform1_junction34_rmdup  \\\n",
       "277606                        NaN                       NaN   \n",
       "277607                        NaN                       NaN   \n",
       "277608                        NaN                       NaN   \n",
       "277609                        NaN                       NaN   \n",
       "277610                        NaN                       NaN   \n",
       "\n",
       "       isoform2_junction12_rmdup isoform2_junction23_rmdup  \\\n",
       "277606                       NaN                       NaN   \n",
       "277607                       NaN                       NaN   \n",
       "277608                       NaN                       NaN   \n",
       "277609                       NaN                       NaN   \n",
       "277610                       NaN                       NaN   \n",
       "\n",
       "        isoform2_junction24_rmdup  notes_rmdup  psi_rmdup  bam  \\\n",
       "277606                        NaN          NaN        NaN  NaN   \n",
       "277607                        NaN          NaN        NaN  NaN   \n",
       "277608                        NaN          NaN        NaN  NaN   \n",
       "277609                        NaN          NaN        NaN  NaN   \n",
       "277610                        NaN          NaN        NaN  NaN   \n",
       "\n",
       "        notes_abbrev_rmdup  dataset_rmdup  \n",
       "277606                 NaN            NaN  \n",
       "277607                 NaN            NaN  \n",
       "277608                 NaN            NaN  \n",
       "277609                 NaN            NaN  \n",
       "277610                 NaN            NaN  \n",
       "\n",
       "[5 rows x 26 columns]"
      ]
     },
     "execution_count": 14,
     "metadata": {},
     "output_type": "execute_result"
    }
   ],
   "source": [
    "rps24_summary = summary.query('event_id == @rps24_event')\n",
    "print(rps24_summary.shape)\n",
    "rps24_summary.head()"
   ]
  },
  {
   "cell_type": "code",
   "execution_count": 15,
   "metadata": {
    "collapsed": false
   },
   "outputs": [
    {
     "name": "stdout",
     "output_type": "stream",
     "text": [
      "(251, 25)\n"
     ]
    },
    {
     "data": {
      "text/html": [
       "<div>\n",
       "<table border=\"1\" class=\"dataframe\">\n",
       "  <thead>\n",
       "    <tr style=\"text-align: right;\">\n",
       "      <th></th>\n",
       "      <th>event_id</th>\n",
       "      <th>incompatible_junction0_original</th>\n",
       "      <th>incompatible_junction1_original</th>\n",
       "      <th>isoform1_junction13_original</th>\n",
       "      <th>isoform1_junction34_original</th>\n",
       "      <th>isoform2_junction12_original</th>\n",
       "      <th>isoform2_junction23_original</th>\n",
       "      <th>isoform2_junction24_original</th>\n",
       "      <th>notes_original</th>\n",
       "      <th>psi_original</th>\n",
       "      <th>...</th>\n",
       "      <th>isoform1_junction13_rmdup</th>\n",
       "      <th>isoform1_junction34_rmdup</th>\n",
       "      <th>isoform2_junction12_rmdup</th>\n",
       "      <th>isoform2_junction23_rmdup</th>\n",
       "      <th>isoform2_junction24_rmdup</th>\n",
       "      <th>notes_rmdup</th>\n",
       "      <th>psi_rmdup</th>\n",
       "      <th>bam</th>\n",
       "      <th>notes_abbrev_rmdup</th>\n",
       "      <th>dataset_rmdup</th>\n",
       "    </tr>\n",
       "    <tr>\n",
       "      <th>sample_id</th>\n",
       "      <th></th>\n",
       "      <th></th>\n",
       "      <th></th>\n",
       "      <th></th>\n",
       "      <th></th>\n",
       "      <th></th>\n",
       "      <th></th>\n",
       "      <th></th>\n",
       "      <th></th>\n",
       "      <th></th>\n",
       "      <th></th>\n",
       "      <th></th>\n",
       "      <th></th>\n",
       "      <th></th>\n",
       "      <th></th>\n",
       "      <th></th>\n",
       "      <th></th>\n",
       "      <th></th>\n",
       "      <th></th>\n",
       "      <th></th>\n",
       "      <th></th>\n",
       "    </tr>\n",
       "  </thead>\n",
       "  <tbody>\n",
       "    <tr>\n",
       "      <th>CVN_01</th>\n",
       "      <td>isoform1=junction:chr15:72494962-72499068:-@ex...</td>\n",
       "      <td>0.0</td>\n",
       "      <td>NaN</td>\n",
       "      <td>158</td>\n",
       "      <td>124.0</td>\n",
       "      <td>0</td>\n",
       "      <td>NaN</td>\n",
       "      <td>19.0</td>\n",
       "      <td>Case 6: Unequal read coverage (one side has at...</td>\n",
       "      <td>NaN</td>\n",
       "      <td>...</td>\n",
       "      <td>51.0</td>\n",
       "      <td>53.0</td>\n",
       "      <td>0.0</td>\n",
       "      <td>NaN</td>\n",
       "      <td>0.0</td>\n",
       "      <td>Case 6: Exclusion</td>\n",
       "      <td>0.0</td>\n",
       "      <td>CVN_01_R1.fastq.gz.polyATrim.adapterTrim.rmRep...</td>\n",
       "      <td>Case 6</td>\n",
       "      <td>rmdup</td>\n",
       "    </tr>\n",
       "    <tr>\n",
       "      <th>CVN_02</th>\n",
       "      <td>isoform1=junction:chr15:72494962-72499068:-@ex...</td>\n",
       "      <td>0.0</td>\n",
       "      <td>NaN</td>\n",
       "      <td>44</td>\n",
       "      <td>40.0</td>\n",
       "      <td>0</td>\n",
       "      <td>NaN</td>\n",
       "      <td>10.0</td>\n",
       "      <td>Case 6: Unequal read coverage (one side has at...</td>\n",
       "      <td>NaN</td>\n",
       "      <td>...</td>\n",
       "      <td>24.0</td>\n",
       "      <td>0.0</td>\n",
       "      <td>0.0</td>\n",
       "      <td>NaN</td>\n",
       "      <td>0.0</td>\n",
       "      <td>Case 4: Only one junction with sufficient reads</td>\n",
       "      <td>NaN</td>\n",
       "      <td>CVN_02_R1.fastq.gz.polyATrim.adapterTrim.rmRep...</td>\n",
       "      <td>Case 4</td>\n",
       "      <td>rmdup</td>\n",
       "    </tr>\n",
       "    <tr>\n",
       "      <th>CVN_03</th>\n",
       "      <td>isoform1=junction:chr15:72494962-72499068:-@ex...</td>\n",
       "      <td>0.0</td>\n",
       "      <td>NaN</td>\n",
       "      <td>100</td>\n",
       "      <td>64.0</td>\n",
       "      <td>0</td>\n",
       "      <td>NaN</td>\n",
       "      <td>14.0</td>\n",
       "      <td>Case 6: Unequal read coverage (one side has at...</td>\n",
       "      <td>NaN</td>\n",
       "      <td>...</td>\n",
       "      <td>39.0</td>\n",
       "      <td>0.0</td>\n",
       "      <td>0.0</td>\n",
       "      <td>NaN</td>\n",
       "      <td>0.0</td>\n",
       "      <td>Case 4: Only one junction with sufficient reads</td>\n",
       "      <td>NaN</td>\n",
       "      <td>CVN_03_R1.fastq.gz.polyATrim.adapterTrim.rmRep...</td>\n",
       "      <td>Case 4</td>\n",
       "      <td>rmdup</td>\n",
       "    </tr>\n",
       "    <tr>\n",
       "      <th>CVN_04</th>\n",
       "      <td>isoform1=junction:chr15:72494962-72499068:-@ex...</td>\n",
       "      <td>0.0</td>\n",
       "      <td>NaN</td>\n",
       "      <td>183</td>\n",
       "      <td>160.0</td>\n",
       "      <td>0</td>\n",
       "      <td>NaN</td>\n",
       "      <td>26.0</td>\n",
       "      <td>Case 6: Unequal read coverage (one side has at...</td>\n",
       "      <td>NaN</td>\n",
       "      <td>...</td>\n",
       "      <td>56.0</td>\n",
       "      <td>50.0</td>\n",
       "      <td>0.0</td>\n",
       "      <td>NaN</td>\n",
       "      <td>0.0</td>\n",
       "      <td>Case 6: Exclusion</td>\n",
       "      <td>0.0</td>\n",
       "      <td>CVN_04_R1.fastq.gz.polyATrim.adapterTrim.rmRep...</td>\n",
       "      <td>Case 6</td>\n",
       "      <td>rmdup</td>\n",
       "    </tr>\n",
       "    <tr>\n",
       "      <th>CVN_05</th>\n",
       "      <td>isoform1=junction:chr15:72494962-72499068:-@ex...</td>\n",
       "      <td>0.0</td>\n",
       "      <td>NaN</td>\n",
       "      <td>110</td>\n",
       "      <td>92.0</td>\n",
       "      <td>61</td>\n",
       "      <td>NaN</td>\n",
       "      <td>55.0</td>\n",
       "      <td>Case 9: Sufficient reads on all junctions</td>\n",
       "      <td>0.36478</td>\n",
       "      <td>...</td>\n",
       "      <td>39.0</td>\n",
       "      <td>39.0</td>\n",
       "      <td>0.0</td>\n",
       "      <td>NaN</td>\n",
       "      <td>23.0</td>\n",
       "      <td>Case 5: Unequal read coverage (one side has at...</td>\n",
       "      <td>NaN</td>\n",
       "      <td>CVN_05_R1.fastq.gz.polyATrim.adapterTrim.rmRep...</td>\n",
       "      <td>Case 5</td>\n",
       "      <td>rmdup</td>\n",
       "    </tr>\n",
       "  </tbody>\n",
       "</table>\n",
       "<p>5 rows × 25 columns</p>\n",
       "</div>"
      ],
      "text/plain": [
       "                                                    event_id  \\\n",
       "sample_id                                                      \n",
       "CVN_01     isoform1=junction:chr15:72494962-72499068:-@ex...   \n",
       "CVN_02     isoform1=junction:chr15:72494962-72499068:-@ex...   \n",
       "CVN_03     isoform1=junction:chr15:72494962-72499068:-@ex...   \n",
       "CVN_04     isoform1=junction:chr15:72494962-72499068:-@ex...   \n",
       "CVN_05     isoform1=junction:chr15:72494962-72499068:-@ex...   \n",
       "\n",
       "           incompatible_junction0_original  incompatible_junction1_original  \\\n",
       "sample_id                                                                     \n",
       "CVN_01                                 0.0                              NaN   \n",
       "CVN_02                                 0.0                              NaN   \n",
       "CVN_03                                 0.0                              NaN   \n",
       "CVN_04                                 0.0                              NaN   \n",
       "CVN_05                                 0.0                              NaN   \n",
       "\n",
       "           isoform1_junction13_original  isoform1_junction34_original  \\\n",
       "sample_id                                                               \n",
       "CVN_01                              158                         124.0   \n",
       "CVN_02                               44                          40.0   \n",
       "CVN_03                              100                          64.0   \n",
       "CVN_04                              183                         160.0   \n",
       "CVN_05                              110                          92.0   \n",
       "\n",
       "           isoform2_junction12_original  isoform2_junction23_original  \\\n",
       "sample_id                                                               \n",
       "CVN_01                                0                           NaN   \n",
       "CVN_02                                0                           NaN   \n",
       "CVN_03                                0                           NaN   \n",
       "CVN_04                                0                           NaN   \n",
       "CVN_05                               61                           NaN   \n",
       "\n",
       "           isoform2_junction24_original  \\\n",
       "sample_id                                 \n",
       "CVN_01                             19.0   \n",
       "CVN_02                             10.0   \n",
       "CVN_03                             14.0   \n",
       "CVN_04                             26.0   \n",
       "CVN_05                             55.0   \n",
       "\n",
       "                                              notes_original  psi_original  \\\n",
       "sample_id                                                                    \n",
       "CVN_01     Case 6: Unequal read coverage (one side has at...           NaN   \n",
       "CVN_02     Case 6: Unequal read coverage (one side has at...           NaN   \n",
       "CVN_03     Case 6: Unequal read coverage (one side has at...           NaN   \n",
       "CVN_04     Case 6: Unequal read coverage (one side has at...           NaN   \n",
       "CVN_05             Case 9: Sufficient reads on all junctions       0.36478   \n",
       "\n",
       "               ...       isoform1_junction13_rmdup isoform1_junction34_rmdup  \\\n",
       "sample_id      ...                                                             \n",
       "CVN_01         ...                            51.0                      53.0   \n",
       "CVN_02         ...                            24.0                       0.0   \n",
       "CVN_03         ...                            39.0                       0.0   \n",
       "CVN_04         ...                            56.0                      50.0   \n",
       "CVN_05         ...                            39.0                      39.0   \n",
       "\n",
       "          isoform2_junction12_rmdup  isoform2_junction23_rmdup  \\\n",
       "sample_id                                                        \n",
       "CVN_01                          0.0                        NaN   \n",
       "CVN_02                          0.0                        NaN   \n",
       "CVN_03                          0.0                        NaN   \n",
       "CVN_04                          0.0                        NaN   \n",
       "CVN_05                          0.0                        NaN   \n",
       "\n",
       "           isoform2_junction24_rmdup  \\\n",
       "sample_id                              \n",
       "CVN_01                           0.0   \n",
       "CVN_02                           0.0   \n",
       "CVN_03                           0.0   \n",
       "CVN_04                           0.0   \n",
       "CVN_05                          23.0   \n",
       "\n",
       "                                                 notes_rmdup  psi_rmdup  \\\n",
       "sample_id                                                                 \n",
       "CVN_01                                     Case 6: Exclusion        0.0   \n",
       "CVN_02       Case 4: Only one junction with sufficient reads        NaN   \n",
       "CVN_03       Case 4: Only one junction with sufficient reads        NaN   \n",
       "CVN_04                                     Case 6: Exclusion        0.0   \n",
       "CVN_05     Case 5: Unequal read coverage (one side has at...        NaN   \n",
       "\n",
       "                                                         bam  \\\n",
       "sample_id                                                      \n",
       "CVN_01     CVN_01_R1.fastq.gz.polyATrim.adapterTrim.rmRep...   \n",
       "CVN_02     CVN_02_R1.fastq.gz.polyATrim.adapterTrim.rmRep...   \n",
       "CVN_03     CVN_03_R1.fastq.gz.polyATrim.adapterTrim.rmRep...   \n",
       "CVN_04     CVN_04_R1.fastq.gz.polyATrim.adapterTrim.rmRep...   \n",
       "CVN_05     CVN_05_R1.fastq.gz.polyATrim.adapterTrim.rmRep...   \n",
       "\n",
       "           notes_abbrev_rmdup  dataset_rmdup  \n",
       "sample_id                                     \n",
       "CVN_01                 Case 6          rmdup  \n",
       "CVN_02                 Case 4          rmdup  \n",
       "CVN_03                 Case 4          rmdup  \n",
       "CVN_04                 Case 6          rmdup  \n",
       "CVN_05                 Case 5          rmdup  \n",
       "\n",
       "[5 rows x 25 columns]"
      ]
     },
     "execution_count": 15,
     "metadata": {},
     "output_type": "execute_result"
    }
   ],
   "source": [
    "pkm_summary = summary.query('event_id == @pkm_mxe_event').set_index('sample_id')\n",
    "print(pkm_summary.shape)\n",
    "pkm_summary.head()"
   ]
  },
  {
   "cell_type": "code",
   "execution_count": 16,
   "metadata": {
    "collapsed": false
   },
   "outputs": [
    {
     "data": {
      "text/plain": [
       "['Case 1',\n",
       " 'Case 2',\n",
       " 'Case 3',\n",
       " 'Case 4',\n",
       " 'Case 5',\n",
       " 'Case 6',\n",
       " 'Case 7',\n",
       " 'Case 8',\n",
       " 'Case 9a',\n",
       " 'Case 9b',\n",
       " 'Case 10a',\n",
       " 'Case 10b',\n",
       " 'Case 11a',\n",
       " 'Case 11b']"
      ]
     },
     "execution_count": 16,
     "metadata": {},
     "output_type": "execute_result"
    }
   ],
   "source": [
    "case_order = ['Case {}'.format(i+1) for i in range(8)] + ['Case {}{}'.format(i+1, x) for i in range(8, 11) for x in 'ab']\n",
    "case_order"
   ]
  },
  {
   "cell_type": "code",
   "execution_count": 17,
   "metadata": {
    "collapsed": false
   },
   "outputs": [
    {
     "ename": "NameError",
     "evalue": "name 'sns' is not defined",
     "output_type": "error",
     "traceback": [
      "\u001b[1;31m---------------------------------------------------------------------------\u001b[0m",
      "\u001b[1;31mNameError\u001b[0m                                 Traceback (most recent call last)",
      "\u001b[1;32m<ipython-input-17-a3a6f17ffcd9>\u001b[0m in \u001b[0;36m<module>\u001b[1;34m()\u001b[0m\n\u001b[1;32m----> 1\u001b[1;33m \u001b[0mg\u001b[0m \u001b[1;33m=\u001b[0m \u001b[0msns\u001b[0m\u001b[1;33m.\u001b[0m\u001b[0mFacetGrid\u001b[0m\u001b[1;33m(\u001b[0m\u001b[0mpkm_summary\u001b[0m\u001b[1;33m.\u001b[0m\u001b[0mfillna\u001b[0m\u001b[1;33m(\u001b[0m\u001b[1;33m-\u001b[0m\u001b[1;36m0.1\u001b[0m\u001b[1;33m)\u001b[0m\u001b[1;33m,\u001b[0m \u001b[0mhue\u001b[0m\u001b[1;33m=\u001b[0m\u001b[1;34m'notes_abbrev_original'\u001b[0m\u001b[1;33m,\u001b[0m \u001b[0mhue_order\u001b[0m\u001b[1;33m=\u001b[0m\u001b[0mcase_order\u001b[0m\u001b[1;33m)\u001b[0m\u001b[1;33m\u001b[0m\u001b[0m\n\u001b[0m\u001b[0;32m      2\u001b[0m \u001b[0mg\u001b[0m\u001b[1;33m.\u001b[0m\u001b[0mmap\u001b[0m\u001b[1;33m(\u001b[0m\u001b[0mplt\u001b[0m\u001b[1;33m.\u001b[0m\u001b[0mscatter\u001b[0m\u001b[1;33m,\u001b[0m \u001b[1;34m'psi_original'\u001b[0m\u001b[1;33m,\u001b[0m \u001b[1;34m'psi_rmdup'\u001b[0m\u001b[1;33m)\u001b[0m\u001b[1;33m\u001b[0m\u001b[0m\n\u001b[0;32m      3\u001b[0m \u001b[0mg\u001b[0m\u001b[1;33m.\u001b[0m\u001b[0madd_legend\u001b[0m\u001b[1;33m(\u001b[0m\u001b[1;33m)\u001b[0m\u001b[1;33m\u001b[0m\u001b[0m\n\u001b[0;32m      4\u001b[0m \u001b[0mg\u001b[0m\u001b[1;33m.\u001b[0m\u001b[0msavefig\u001b[0m\u001b[1;33m(\u001b[0m\u001b[1;34m'{}/psi_original_vs_rmdup_hue_by_original_case.pdf'\u001b[0m\u001b[1;33m.\u001b[0m\u001b[0mformat\u001b[0m\u001b[1;33m(\u001b[0m\u001b[0mfigure_folder\u001b[0m\u001b[1;33m)\u001b[0m\u001b[1;33m)\u001b[0m\u001b[1;33m\u001b[0m\u001b[0m\n",
      "\u001b[1;31mNameError\u001b[0m: name 'sns' is not defined"
     ]
    }
   ],
   "source": [
    "g = sns.FacetGrid(pkm_summary.fillna(-0.1), hue='notes_abbrev_original', hue_order=case_order)\n",
    "g.map(plt.scatter, 'psi_original', 'psi_rmdup')\n",
    "g.add_legend()\n",
    "g.savefig('{}/psi_original_vs_rmdup_hue_by_original_case.pdf'.format(figure_folder))"
   ]
  },
  {
   "cell_type": "code",
   "execution_count": null,
   "metadata": {
    "collapsed": false
   },
   "outputs": [],
   "source": [
    "g = sns.FacetGrid(pkm_summary.fillna(-0.1), hue='notes_abbrev_rmdup', hue_order=case_order)\n",
    "g.map(plt.scatter, 'psi_original', 'psi_rmdup')\n",
    "g.add_legend()\n",
    "g.savefig('{}/psi_original_vs_rmdup_hue_by_rmdup_case.pdf'.format(figure_folder))"
   ]
  },
  {
   "cell_type": "code",
   "execution_count": null,
   "metadata": {
    "collapsed": false
   },
   "outputs": [],
   "source": [
    "original_compatible_junctions = [x for x in pkm_summary if x.startswith('isoform') & x.endswith('original')]\n",
    "original_compatible_reads = pkm_summary[original_compatible_junctions]\n",
    "original_compatible_reads.head()"
   ]
  },
  {
   "cell_type": "code",
   "execution_count": null,
   "metadata": {
    "collapsed": false
   },
   "outputs": [],
   "source": [
    "rmdup_compatible_junctions = [x for x in pkm_summary if x.startswith('isoform') & x.endswith('rmdup')]\n",
    "rmdup_compatible_reads = pkm_summary[rmdup_compatible_junctions]\n",
    "rmdup_compatible_reads.head()"
   ]
  },
  {
   "cell_type": "code",
   "execution_count": null,
   "metadata": {
    "collapsed": false
   },
   "outputs": [],
   "source": [
    "original_compatible_reads.max().max()"
   ]
  },
  {
   "cell_type": "code",
   "execution_count": null,
   "metadata": {
    "collapsed": false
   },
   "outputs": [],
   "source": [
    "np.log10(original_compatible_reads.max().max())"
   ]
  },
  {
   "cell_type": "code",
   "execution_count": null,
   "metadata": {
    "collapsed": false
   },
   "outputs": [],
   "source": [
    "fig, ax = plt.subplots(figsize=(2, 1.5))\n",
    "\n",
    "bins = np.linspace(0, 4, 20)\n",
    "\n",
    "sns.distplot(np.log10(original_compatible_reads).values.flat, bins=bins, hist_kws=dict(range=(0, max(bins))), label='original')\n",
    "sns.distplot(np.log10(rmdup_compatible_reads).values.flat, bins=bins, hist_kws=dict(range=(0, max(bins))), label='rmdup')\n",
    "sns.despine()\n",
    "\n",
    "ax.legend()\n",
    "ax.set(xlabel='Junction Reads', xlim=(0, max(bins)))\n",
    "\n",
    "xticks = ax.get_xticks()\n",
    "xticklabels = ['$10^{{{x}}}$'.format(x=int(x)) for x in xticks]\n",
    "ax.set(xticklabels=xticklabels)\n",
    "\n",
    "fig.savefig('{}/junction_reads_pkm_histogram.pdf'.format(figure_folder))"
   ]
  },
  {
   "cell_type": "markdown",
   "metadata": {},
   "source": [
    "original_incompatible_junctions = [x for x in pkm_summary if x.startswith('incompatible') & x.endswith('original')]\n",
    "original_incompatible_reads = pkm_summary[original_incompatible_junctions]\n",
    "original_incompatible_reads = original_incompatible_reads[original_incompatible_reads > 0].dropna(how='all')\n",
    "original_incompatible_reads.head()"
   ]
  },
  {
   "cell_type": "code",
   "execution_count": null,
   "metadata": {
    "collapsed": false
   },
   "outputs": [],
   "source": [
    "rmdup_incompatible_junctions = [x for x in pkm_summary if x.startswith('incompatible') & x.endswith('rmdup')]\n",
    "rmdup_incompatible_reads = pkm_summary[rmdup_incompatible_junctions]\n",
    "rmdup_incompatible_reads = rmdup_incompatible_reads[rmdup_incompatible_reads > 0].dropna(how='all')\n",
    "rmdup_incompatible_reads.head()"
   ]
  },
  {
   "cell_type": "code",
   "execution_count": null,
   "metadata": {
    "collapsed": false
   },
   "outputs": [],
   "source": [
    "original_incompatible_reads.max().max()"
   ]
  },
  {
   "cell_type": "code",
   "execution_count": null,
   "metadata": {
    "collapsed": true
   },
   "outputs": [],
   "source": []
  },
  {
   "cell_type": "code",
   "execution_count": null,
   "metadata": {
    "collapsed": false
   },
   "outputs": [],
   "source": [
    "fig, ax = plt.subplots(figsize=(2, 1.5))\n",
    "\n",
    "bins = np.linspace(0, 100, 20)\n",
    "\n",
    "sns.distplot(original_incompatible_reads.values.flat, bins=bins, hist_kws=dict(range=(0, max(bins))), \n",
    "             kde=False, label='original')\n",
    "sns.distplot(rmdup_incompatible_reads.values.flat, bins=bins, hist_kws=dict(range=(0, max(bins))), \n",
    "             kde=False, label='rmdup')\n",
    "ax.legend()\n",
    "ax.set(xlabel='Incompatible Reads')\n",
    "fig.savefig('{}/incompatible_reads_pkm_histogram.pdf'.format(figure_folder))"
   ]
  },
  {
   "cell_type": "code",
   "execution_count": null,
   "metadata": {
    "collapsed": true
   },
   "outputs": [],
   "source": [
    "g = sns.FacetGrid(pkm_summary, hue='notes_rmdup')\n",
    "g.map(plt.scatter, 'psi_original', 'psi_rmdup')"
   ]
  },
  {
   "cell_type": "code",
   "execution_count": null,
   "metadata": {
    "collapsed": false
   },
   "outputs": [],
   "source": [
    "pkm_summary.groupby('notes_original').size()"
   ]
  },
  {
   "cell_type": "code",
   "execution_count": null,
   "metadata": {
    "collapsed": false
   },
   "outputs": [],
   "source": [
    "pkm_summary.groupby('notes_rmdup').size()"
   ]
  },
  {
   "cell_type": "code",
   "execution_count": null,
   "metadata": {
    "collapsed": false
   },
   "outputs": [],
   "source": [
    "pkm_cases = pkm_summary.groupby(['notes_abbrev_original', 'notes_abbrev_rmdup']).size().unstack()\n",
    "pkm_cases = pkm_cases.loc[case_order, case_order]\n",
    "sns.heatmap(pkm_cases, annot=True, linewidth=0.5, linecolor='lightgrey')"
   ]
  },
  {
   "cell_type": "code",
   "execution_count": null,
   "metadata": {
    "collapsed": false,
    "scrolled": false
   },
   "outputs": [],
   "source": [
    "# pkm_summary.query('notes == \"Case 5: Unequal read coverage (one side has at least 10x more reads)\"')"
   ]
  },
  {
   "cell_type": "code",
   "execution_count": null,
   "metadata": {
    "collapsed": false
   },
   "outputs": [],
   "source": [
    "%load_ext autoreload\n",
    "%autoreload 2\n",
    "\n",
    "import matplotlib.pyplot as plt\n",
    "import seaborn as sns\n",
    "import numpy as np\n",
    "import pandas as pd\n",
    "\n",
    "sns.set(style='white', context='paper', rc={'font.sans-serif':'Arial', 'pdf.fonttype': 42})\n",
    "\n",
    "%matplotlib inline\n",
    "\n",
    "import flotilla\n",
    "\n",
    "\n",
    "flotilla_dir = '/projects/ps-yeolab/obotvinnik/flotilla_projects'\n",
    "\n",
    "study = flotilla.embark('singlecell_pnm_figure2_modalities_bayesian', flotilla_dir=flotilla_dir)\n",
    "\n",
    "# not_outliers = study.splicing.singles.index.difference(study.splicing.outliers.index)\n"
   ]
  },
  {
   "cell_type": "markdown",
   "metadata": {},
   "source": [
    "## Make sample order"
   ]
  },
  {
   "cell_type": "code",
   "execution_count": null,
   "metadata": {
    "collapsed": false
   },
   "outputs": [],
   "source": [
    "study.metadata.data['phenotype'] = pd.Categorical(study.metadata.data['phenotype'], \n",
    "                                                  categories=study.phenotype_order, ordered=True)\n",
    "study.metadata.data['phenotype']"
   ]
  },
  {
   "cell_type": "code",
   "execution_count": null,
   "metadata": {
    "collapsed": false
   },
   "outputs": [],
   "source": [
    "metadata_sorted = study.metadata.data.sort_values(['phenotype', 'single', 'outlier'])\n",
    "metadata_sorted.head()"
   ]
  },
  {
   "cell_type": "code",
   "execution_count": null,
   "metadata": {
    "collapsed": false
   },
   "outputs": [],
   "source": [
    "def assign_colors(row):\n",
    "    if row.single:\n",
    "        if row.outlier:\n",
    "            return 'outlier', 'grey'\n",
    "        else:\n",
    "            return 'single {}'.format(row.phenotype), study.phenotype_to_color[row.phenotype]\n",
    "    else:\n",
    "        return 'pooled', 'black'\n",
    "\n",
    "color_labels = metadata_sorted.apply(assign_colors, axis=1).apply(pd.Series)\n",
    "color_labels.columns = ['label', 'color']\n",
    "# metadata_sorted.head()\n",
    "color_labels.head()"
   ]
  },
  {
   "cell_type": "code",
   "execution_count": null,
   "metadata": {
    "collapsed": false
   },
   "outputs": [],
   "source": [
    "palette = dict(zip(color_labels['label'], color_labels['color']))\n",
    "palette"
   ]
  },
  {
   "cell_type": "code",
   "execution_count": null,
   "metadata": {
    "collapsed": false
   },
   "outputs": [],
   "source": [
    "pkm_summary['sample_id_short'] = pkm_summary['sample_id'].map(lambda x: '_'.join(x.split('_')[:2]))\n",
    "pkm_summary.head()"
   ]
  },
  {
   "cell_type": "code",
   "execution_count": null,
   "metadata": {
    "collapsed": false
   },
   "outputs": [],
   "source": [
    "pkm_summary_ids = pkm_summary.join(metadata_sorted, on='sample_id_short').join(color_labels, on='sample_id_short')\n",
    "print(pkm_summary_ids.shape)\n",
    "pkm_summary_ids.head()"
   ]
  },
  {
   "cell_type": "code",
   "execution_count": null,
   "metadata": {
    "collapsed": false
   },
   "outputs": [],
   "source": [
    "pkm_summary_ids = pkm_summary_ids.sort_values(['phenotype', 'single', 'outlier'])\n",
    "print(pkm_summary_ids.shape)\n",
    "pkm_summary_ids.head()"
   ]
  },
  {
   "cell_type": "code",
   "execution_count": null,
   "metadata": {
    "collapsed": true
   },
   "outputs": [],
   "source": [
    "rmdup_bam_folder = '/home/obotvinnik/projects/singlecell_pnms/analysis/bams_from_aws/rmdup/'\n",
    "\n",
    "original_bam_folder = '/home/obotvinnik/projects/singlecell_pnms/analysis/bams_from_aws/'"
   ]
  },
  {
   "cell_type": "code",
   "execution_count": null,
   "metadata": {
    "collapsed": false
   },
   "outputs": [],
   "source": [
    "pkm_summary_ids['bam_rmdup'] = rmdup_bam_folder + pkm_summary_ids['sample_id']\n",
    "pkm_summary_ids['bam_original'] = original_bam_folder + pkm_summary_ids['sample_id']\n",
    "pkm_summary_ids.head()"
   ]
  },
  {
   "cell_type": "code",
   "execution_count": null,
   "metadata": {
    "collapsed": false,
    "scrolled": false
   },
   "outputs": [],
   "source": [
    "import wasabiplot as wp\n",
    "\n",
    "# def wasabifacet(x, **kwargs):\n",
    "# #     print(type(x))\n",
    "#     return wp.wasabiplot(x.iloc[0], **kwargs)"
   ]
  },
  {
   "cell_type": "code",
   "execution_count": null,
   "metadata": {
    "collapsed": true
   },
   "outputs": [],
   "source": [
    "# PKM MXE event area (from IGV): chr15:72,492,347-72,499,311\n",
    "\n",
    "chrom = 'chr15'\n",
    "start = 72492347\n",
    "stop = 72499311\n",
    "strand = '-'"
   ]
  },
  {
   "cell_type": "code",
   "execution_count": null,
   "metadata": {
    "collapsed": true
   },
   "outputs": [],
   "source": [
    "sns.set(style='white', context='paper', rc={'font.sans-serif':'Arial', 'pdf.fonttype': 42})\n",
    "\n",
    "%matplotlib inline\n",
    "\n"
   ]
  },
  {
   "cell_type": "code",
   "execution_count": null,
   "metadata": {
    "collapsed": true
   },
   "outputs": [],
   "source": [
    "case8 = 'Case 8: Sufficient reads on all junctions'\n",
    "case5 = \"Case 5: Unequal read coverage (one side has at least 10x more reads)\""
   ]
  },
  {
   "cell_type": "code",
   "execution_count": null,
   "metadata": {
    "collapsed": true
   },
   "outputs": [],
   "source": [
    "xlabel = '{chrom}:{start}-{stop}:{strand}'.format(\n",
    "    chrom=chrom, start=start, stop=stop, strand=strand)\n"
   ]
  },
  {
   "cell_type": "code",
   "execution_count": null,
   "metadata": {
    "collapsed": false,
    "scrolled": false
   },
   "outputs": [],
   "source": [
    "import os\n",
    "\n",
    "\n",
    "g = sns.FacetGrid(pkm_summary_ids.query('notes == @case8'), \n",
    "                  row='bam_rmdup', hue='label', size=1, aspect=8, palette=palette)\n",
    "g.map(wp.wasabiplot, 'bam_rmdup', chrom=chrom, start=start, stop=stop, strand=strand, warn_skipped=False)\n",
    "g.set_titles('{row_name}')\n",
    "for ax in g.axes.flat:\n",
    "    title = ax.get_title()\n",
    "    sample_id = '_'.join(os.path.basename(title).split('_')[:2])\n",
    "    ax.set(title=sample_id)\n",
    "    if ax.is_last_row():\n",
    "        ax.set(xlabel=xlabel)\n",
    "#     ax.grid('x', color='white', zorder=500)\n",
    "ax.locator_params(nbins=4, axis='y')\n",
    "yticks = [int(ytick) for ytick in ax.get_yticks() if ytick >= 0]\n",
    "yticklabels = ['$10^{{{ytick}}}$'.format(ytick=ytick) for ytick in yticks]\n",
    "ax.set(yticks=yticks, yticklabels=yticklabels);\n",
    "#     ax.locator_params(nbins=3, axis='y')"
   ]
  },
  {
   "cell_type": "code",
   "execution_count": null,
   "metadata": {
    "collapsed": false
   },
   "outputs": [],
   "source": [
    "import os\n",
    "\n",
    "\n",
    "g = sns.FacetGrid(pkm_summary_ids.query('notes == @case8'), \n",
    "                  row='bam_original', hue='label', size=1, aspect=8, palette=palette)\n",
    "g.map(wp.wasabiplot, 'bam_original', chrom=chrom, start=start, stop=stop, strand=strand, warn_skipped=False)\n",
    "g.set_titles('{row_name}')\n",
    "for ax in g.axes.flat:\n",
    "    title = ax.get_title()\n",
    "    sample_id = '_'.join(os.path.basename(title).split('_')[:2])\n",
    "    ax.set(title=sample_id)\n",
    "    if ax.is_last_row():\n",
    "        ax.set(xlabel=xlabel)\n",
    "#     ax.grid('x', color='white', zorder=500)\n",
    "ax.locator_params(nbins=4, axis='y')\n",
    "yticks = [int(ytick) for ytick in ax.get_yticks() if ytick >= 0]\n",
    "yticklabels = ['$10^{{{ytick}}}$'.format(ytick=ytick) for ytick in yticks]\n",
    "ax.set(yticks=yticks, yticklabels=yticklabels);\n",
    "#     ax.locator_params(nbins=3, axis='y')"
   ]
  },
  {
   "cell_type": "code",
   "execution_count": null,
   "metadata": {
    "collapsed": false,
    "scrolled": false
   },
   "outputs": [],
   "source": [
    "import os\n",
    "\n",
    "data = pkm_summary_ids.query('notes == @case5')\n",
    "\n",
    "g = sns.FacetGrid(data, row='bam_rmdup', hue='label', size=1, aspect=8, \n",
    "                  row_order=data['bam_rmdup'], \n",
    "                  palette=palette)\n",
    "g.map(wp.wasabiplot, 'bam_rmdup', chrom=chrom, start=start, stop=stop, strand=strand, warn_skipped=False)\n",
    "g.set_titles('{row_name}')\n",
    "for ax in g.axes.flat:\n",
    "    title = ax.get_title()\n",
    "    sample_id = '_'.join(os.path.basename(title).split('_')[:2])\n",
    "    ax.set(title=sample_id)\n",
    "    if ax.is_last_row():\n",
    "        ax.set(xlabel=xlabel)\n",
    "#     ax.grid('x', color='white', zorder=500)\n",
    "    ymin, ymax = ax.get_ylim()\n",
    "g.set(ylim=(ymin, 10))\n",
    "ax.locator_params(nbins=4, axis='y')\n",
    "yticks = [int(ytick) for ytick in ax.get_yticks() if ytick >= 0]\n",
    "yticklabels = ['$10^{{{ytick}}}$'.format(ytick=ytick) for ytick in yticks]\n",
    "g.set(yticks=yticks, yticklabels=yticklabels);\n",
    "#     ax.locator_params(nbins=3, axis='y')\n",
    "g.savefig('{}/pkm_rmdup_case5_rmdup.pdf'.format(figure_folder))"
   ]
  },
  {
   "cell_type": "code",
   "execution_count": null,
   "metadata": {
    "collapsed": false,
    "scrolled": false
   },
   "outputs": [],
   "source": [
    "import os\n",
    "\n",
    "data = pkm_summary_ids.query('notes == @case5')\n",
    "\n",
    "g = sns.FacetGrid(data, row='bam_original', hue='label', size=1, aspect=8, \n",
    "                  row_order=data['bam_original'], palette=palette)\n",
    "g.map(wp.wasabiplot, 'bam_original', chrom=chrom, start=start, stop=stop, strand=strand, warn_skipped=False)\n",
    "g.set_titles('{row_name}')\n",
    "for ax in g.axes.flat:\n",
    "    title = ax.get_title()\n",
    "    sample_id = '_'.join(os.path.basename(title).split('_')[:2])\n",
    "    ax.set(title=sample_id)\n",
    "    if ax.is_last_row():\n",
    "        ax.set(xlabel=xlabel)\n",
    "#     ax.grid('x', color='white', zorder=500)\n",
    "    ymin, ymax = ax.get_ylim()\n",
    "g.set(ylim=(ymin, 10))\n",
    "ax.locator_params(nbins=4, axis='y')\n",
    "yticks = [int(ytick) for ytick in ax.get_yticks() if ytick >= 0]\n",
    "yticklabels = ['$10^{{{ytick}}}$'.format(ytick=ytick) for ytick in yticks]\n",
    "g.set(yticks=yticks, yticklabels=yticklabels);\n",
    "#     ax.locator_params(nbins=3, axis='y')\n",
    "g.savefig('{}/pkm_rmdup_case5_original.pdf'.format(figure_folder))"
   ]
  },
  {
   "cell_type": "markdown",
   "metadata": {},
   "source": [
    "## RPS24"
   ]
  },
  {
   "cell_type": "code",
   "execution_count": null,
   "metadata": {
    "collapsed": true
   },
   "outputs": [],
   "source": [
    "rps24_coords = 'chr10:79796952-79800455'"
   ]
  },
  {
   "cell_type": "code",
   "execution_count": null,
   "metadata": {
    "collapsed": false
   },
   "outputs": [],
   "source": [
    "rps24_cases = rps24_summary.groupby(['notes_original', 'notes_rmdup']).size().unstack()\n",
    "rps24_cases\n",
    "# rps24_cases = rps24_cases.loc[case_order, case_order]\n",
    "# sns.heatmap(rps24_cases, annot=True, linewidth=0.5, linecolor='lightgrey')"
   ]
  },
  {
   "cell_type": "code",
   "execution_count": null,
   "metadata": {
    "collapsed": false
   },
   "outputs": [],
   "source": [
    "rps24_summary.groupby('notes_original').size()"
   ]
  },
  {
   "cell_type": "code",
   "execution_count": null,
   "metadata": {
    "collapsed": false
   },
   "outputs": [],
   "source": [
    "rps24_summary.groupby('notes_rmdup').size()"
   ]
  },
  {
   "cell_type": "code",
   "execution_count": null,
   "metadata": {
    "collapsed": false
   },
   "outputs": [],
   "source": [
    "rps24_summary_metadata = rps24_summary.join(metadata_sorted, on='sample_id').join(color_labels, on='sample_id')\n",
    "rps24_summary_metadata = rps24_summary_metadata.drop('bam', axis=1)\n",
    "rps24_summary_metadata = rps24_summary_metadata.join(pkm_summary['bam'], on='sample_id')\n",
    "rps24_summary_metadata.head()"
   ]
  },
  {
   "cell_type": "code",
   "execution_count": null,
   "metadata": {
    "collapsed": false
   },
   "outputs": [],
   "source": [
    "rps24_summary_metadata['bam_original'] = original_bam_folder + rps24_summary_metadata['bam']\n",
    "rps24_summary_metadata['bam_rmdup'] = rmdup_bam_folder + rps24_summary_metadata['bam']\n",
    "rps24_summary_metadata.head()"
   ]
  },
  {
   "cell_type": "code",
   "execution_count": null,
   "metadata": {
    "collapsed": true
   },
   "outputs": [],
   "source": [
    "case9 = 'Case 9: Sufficient reads on all junctions'"
   ]
  },
  {
   "cell_type": "code",
   "execution_count": null,
   "metadata": {
    "collapsed": false
   },
   "outputs": [],
   "source": [
    "rps24_coords = 'chr10:79796952-79800455'\n",
    "chrom = rps24_coords.split(':')[0]\n",
    "start, stop = map(int, rps24_coords.split(':')[1].split('-'))\n",
    "chrom, start, stop\n",
    "strand = '+'"
   ]
  },
  {
   "cell_type": "code",
   "execution_count": null,
   "metadata": {
    "collapsed": false,
    "scrolled": false
   },
   "outputs": [],
   "source": [
    "import os\n",
    "\n",
    "data = rps24_summary_metadata.query('notes_original == @case9')\n",
    "\n",
    "g = sns.FacetGrid(data, row='bam_original', hue='label', size=1, aspect=8, \n",
    "                  row_order=data['bam_original'], palette=palette)\n",
    "g.map(wp.wasabiplot, 'bam_original', chrom=chrom, start=start, stop=stop, strand=strand, warn_skipped=False)\n",
    "g.set_titles('{row_name}')\n",
    "for ax in g.axes.flat:\n",
    "    title = ax.get_title()\n",
    "    sample_id = '_'.join(os.path.basename(title).split('_')[:2])\n",
    "    ax.set(title=sample_id)\n",
    "    if ax.is_last_row():\n",
    "        ax.set(xlabel=xlabel)\n",
    "#     ax.grid('x', color='white', zorder=500)\n",
    "    ymin, ymax = ax.get_ylim()\n",
    "# g.set(ylim=(-2, 10))\n",
    "ax.locator_params(nbins=4, axis='y')\n",
    "yticks = [int(ytick) for ytick in ax.get_yticks() if ytick >= 0]\n",
    "yticklabels = ['$10^{{{ytick}}}$'.format(ytick=ytick) for ytick in yticks]\n",
    "g.set(yticks=yticks, yticklabels=yticklabels);\n",
    "#     ax.locator_params(nbins=3, axis='y')\n",
    "g.savefig('{}/rps24_rmdup_case9_original.pdf'.format(figure_folder))"
   ]
  },
  {
   "cell_type": "code",
   "execution_count": null,
   "metadata": {
    "collapsed": true
   },
   "outputs": [],
   "source": []
  }
 ],
 "metadata": {
  "kernelspec": {
   "display_name": "Python 2",
   "language": "python",
   "name": "python2"
  },
  "language_info": {
   "codemirror_mode": {
    "name": "ipython",
    "version": 2
   },
   "file_extension": ".py",
   "mimetype": "text/x-python",
   "name": "python",
   "nbconvert_exporter": "python",
   "pygments_lexer": "ipython2",
   "version": "2.7.11"
  }
 },
 "nbformat": 4,
 "nbformat_minor": 0
}
