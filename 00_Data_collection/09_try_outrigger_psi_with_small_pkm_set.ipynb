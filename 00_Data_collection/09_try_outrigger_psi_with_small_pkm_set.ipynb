{
 "cells": [
  {
   "cell_type": "code",
   "execution_count": 1,
   "metadata": {
    "collapsed": true
   },
   "outputs": [],
   "source": [
    "sample_ids = ['M6_04', 'P1_03']"
   ]
  },
  {
   "cell_type": "code",
   "execution_count": 57,
   "metadata": {
    "collapsed": true
   },
   "outputs": [],
   "source": [
    "rmdup_bam_folder = '/home/obotvinnik/projects/singlecell_pnms/analysis/bams_from_aws/rmdup'"
   ]
  },
  {
   "cell_type": "code",
   "execution_count": 58,
   "metadata": {
    "collapsed": true
   },
   "outputs": [],
   "source": [
    "pkm_coords = 'chr15:72,492,347-72,499,311'"
   ]
  },
  {
   "cell_type": "code",
   "execution_count": 59,
   "metadata": {
    "collapsed": false
   },
   "outputs": [
    {
     "name": "stdout",
     "output_type": "stream",
     "text": [
      "(6612086, 7)\n"
     ]
    },
    {
     "data": {
      "text/html": [
       "<div>\n",
       "<table border=\"1\" class=\"dataframe\">\n",
       "  <thead>\n",
       "    <tr style=\"text-align: right;\">\n",
       "      <th></th>\n",
       "      <th>sample_id</th>\n",
       "      <th>event_id</th>\n",
       "      <th>isoform1_junction13</th>\n",
       "      <th>isoform2_junction12</th>\n",
       "      <th>isoform2_junction23</th>\n",
       "      <th>psi</th>\n",
       "      <th>notes</th>\n",
       "    </tr>\n",
       "  </thead>\n",
       "  <tbody>\n",
       "    <tr>\n",
       "      <th>0</th>\n",
       "      <td>CVN_01_R1.fastq.gz.polyATrim.adapterTrim.rmRep...</td>\n",
       "      <td>isoform1=junction:chr10:100189400-100190327:-|...</td>\n",
       "      <td>0.0</td>\n",
       "      <td>0.0</td>\n",
       "      <td>0.0</td>\n",
       "      <td>NaN</td>\n",
       "      <td>Case 2: Zero observed reads</td>\n",
       "    </tr>\n",
       "    <tr>\n",
       "      <th>1</th>\n",
       "      <td>CVN_02_R1.fastq.gz.polyATrim.adapterTrim.rmRep...</td>\n",
       "      <td>isoform1=junction:chr10:100189400-100190327:-|...</td>\n",
       "      <td>0.0</td>\n",
       "      <td>0.0</td>\n",
       "      <td>0.0</td>\n",
       "      <td>NaN</td>\n",
       "      <td>Case 2: Zero observed reads</td>\n",
       "    </tr>\n",
       "    <tr>\n",
       "      <th>2</th>\n",
       "      <td>CVN_03_R1.fastq.gz.polyATrim.adapterTrim.rmRep...</td>\n",
       "      <td>isoform1=junction:chr10:100189400-100190327:-|...</td>\n",
       "      <td>0.0</td>\n",
       "      <td>0.0</td>\n",
       "      <td>0.0</td>\n",
       "      <td>NaN</td>\n",
       "      <td>Case 2: Zero observed reads</td>\n",
       "    </tr>\n",
       "    <tr>\n",
       "      <th>3</th>\n",
       "      <td>CVN_04_R1.fastq.gz.polyATrim.adapterTrim.rmRep...</td>\n",
       "      <td>isoform1=junction:chr10:100189400-100190327:-|...</td>\n",
       "      <td>0.0</td>\n",
       "      <td>0.0</td>\n",
       "      <td>0.0</td>\n",
       "      <td>NaN</td>\n",
       "      <td>Case 2: Zero observed reads</td>\n",
       "    </tr>\n",
       "    <tr>\n",
       "      <th>4</th>\n",
       "      <td>CVN_05_R1.fastq.gz.polyATrim.adapterTrim.rmRep...</td>\n",
       "      <td>isoform1=junction:chr10:100189400-100190327:-|...</td>\n",
       "      <td>0.0</td>\n",
       "      <td>0.0</td>\n",
       "      <td>0.0</td>\n",
       "      <td>NaN</td>\n",
       "      <td>Case 2: Zero observed reads</td>\n",
       "    </tr>\n",
       "  </tbody>\n",
       "</table>\n",
       "</div>"
      ],
      "text/plain": [
       "                                           sample_id  \\\n",
       "0  CVN_01_R1.fastq.gz.polyATrim.adapterTrim.rmRep...   \n",
       "1  CVN_02_R1.fastq.gz.polyATrim.adapterTrim.rmRep...   \n",
       "2  CVN_03_R1.fastq.gz.polyATrim.adapterTrim.rmRep...   \n",
       "3  CVN_04_R1.fastq.gz.polyATrim.adapterTrim.rmRep...   \n",
       "4  CVN_05_R1.fastq.gz.polyATrim.adapterTrim.rmRep...   \n",
       "\n",
       "                                            event_id  isoform1_junction13  \\\n",
       "0  isoform1=junction:chr10:100189400-100190327:-|...                  0.0   \n",
       "1  isoform1=junction:chr10:100189400-100190327:-|...                  0.0   \n",
       "2  isoform1=junction:chr10:100189400-100190327:-|...                  0.0   \n",
       "3  isoform1=junction:chr10:100189400-100190327:-|...                  0.0   \n",
       "4  isoform1=junction:chr10:100189400-100190327:-|...                  0.0   \n",
       "\n",
       "   isoform2_junction12  isoform2_junction23  psi                        notes  \n",
       "0                  0.0                  0.0  NaN  Case 2: Zero observed reads  \n",
       "1                  0.0                  0.0  NaN  Case 2: Zero observed reads  \n",
       "2                  0.0                  0.0  NaN  Case 2: Zero observed reads  \n",
       "3                  0.0                  0.0  NaN  Case 2: Zero observed reads  \n",
       "4                  0.0                  0.0  NaN  Case 2: Zero observed reads  "
      ]
     },
     "execution_count": 59,
     "metadata": {},
     "output_type": "execute_result"
    }
   ],
   "source": [
    "import pandas as pd\n",
    "\n",
    "se_summary_rmdup = pd.read_csv('/home/obotvinnik/projects/singlecell_pnms/analysis/outrigger_v2_rmdup/psi/se/summary.csv')\n",
    "print(se_summary_rmdup.shape)\n",
    "se_summary_rmdup.head()"
   ]
  },
  {
   "cell_type": "code",
   "execution_count": 60,
   "metadata": {
    "collapsed": false
   },
   "outputs": [
    {
     "data": {
      "text/plain": [
       "CVN_01    CVN_01_R1.fastq.gz.polyATrim.adapterTrim.rmRep...\n",
       "CVN_02    CVN_02_R1.fastq.gz.polyATrim.adapterTrim.rmRep...\n",
       "CVN_03    CVN_03_R1.fastq.gz.polyATrim.adapterTrim.rmRep...\n",
       "CVN_04    CVN_04_R1.fastq.gz.polyATrim.adapterTrim.rmRep...\n",
       "CVN_05    CVN_05_R1.fastq.gz.polyATrim.adapterTrim.rmRep...\n",
       "dtype: object"
      ]
     },
     "execution_count": 60,
     "metadata": {},
     "output_type": "execute_result"
    }
   ],
   "source": [
    "bams = pd.Series(se_summary_rmdup['sample_id'].unique())\n",
    "bams.index = bams.map(lambda x: '_'.join(x.split('_')[:2]))\n",
    "bams.head()"
   ]
  },
  {
   "cell_type": "code",
   "execution_count": 61,
   "metadata": {
    "collapsed": false
   },
   "outputs": [
    {
     "data": {
      "text/plain": [
       "'M6_04_R1.fastq.gz.polyATrim.adapterTrim.rmRep.sorted.bam'"
      ]
     },
     "execution_count": 61,
     "metadata": {},
     "output_type": "execute_result"
    }
   ],
   "source": [
    "bam = bams[sample_ids[0]]\n",
    "bam"
   ]
  },
  {
   "cell_type": "code",
   "execution_count": 62,
   "metadata": {
    "collapsed": false
   },
   "outputs": [
    {
     "name": "stdout",
     "output_type": "stream",
     "text": [
      "\r\n",
      "Usage:   samtools view [options] <in.bam>|<in.sam> [region1 [...]]\r\n",
      "\r\n",
      "Options: -b       output BAM\r\n",
      "         -h       print header for the SAM output\r\n",
      "         -H       print header only (no alignments)\r\n",
      "         -S       input is SAM\r\n",
      "         -u       uncompressed BAM output (force -b)\r\n",
      "         -1       fast compression (force -b)\r\n",
      "         -x       output FLAG in HEX (samtools-C specific)\r\n",
      "         -X       output FLAG in string (samtools-C specific)\r\n",
      "         -c       print only the count of matching records\r\n",
      "         -B       collapse the backward CIGAR operation\r\n",
      "         -@ INT   number of BAM compression threads [0]\r\n",
      "         -L FILE  output alignments overlapping the input BED FILE [null]\r\n",
      "         -t FILE  list of reference names and lengths (force -S) [null]\r\n",
      "         -T FILE  reference sequence file (force -S) [null]\r\n",
      "         -o FILE  output file name [stdout]\r\n",
      "         -R FILE  list of read groups to be outputted [null]\r\n",
      "         -f INT   required flag, 0 for unset [0]\r\n",
      "         -F INT   filtering flag, 0 for unset [0]\r\n",
      "         -q INT   minimum mapping quality [0]\r\n",
      "         -l STR   only output reads in library STR [null]\r\n",
      "         -r STR   only output reads in read group STR [null]\r\n",
      "         -s FLOAT fraction of templates to subsample; integer part as seed [-1]\r\n",
      "         -?       longer help\r\n",
      "\r\n"
     ]
    }
   ],
   "source": [
    "! samtools view -h"
   ]
  },
  {
   "cell_type": "code",
   "execution_count": 63,
   "metadata": {
    "collapsed": true
   },
   "outputs": [],
   "source": [
    "subset_folder = '{}/subset'.format(rmdup_bam_folder)\n",
    "! mkdir -p $subset_folder"
   ]
  },
  {
   "cell_type": "code",
   "execution_count": 64,
   "metadata": {
    "collapsed": false
   },
   "outputs": [
    {
     "name": "stdout",
     "output_type": "stream",
     "text": [
      "M6_04_R1.fastq.gz.polyATrim.adapterTrim.rmRep.sorted.bam\r\n",
      "P1_03_R1.fastq.gz.polyATrim.adapterTrim.rmRep.sorted.rg.bam\r\n"
     ]
    }
   ],
   "source": [
    "ls $pkm_folder/"
   ]
  },
  {
   "cell_type": "code",
   "execution_count": 65,
   "metadata": {
    "collapsed": false
   },
   "outputs": [],
   "source": [
    "! samtools view -bh $rmdup_bam_folder/$bam $pkm_coords > $pkm_folder/$bam"
   ]
  },
  {
   "cell_type": "code",
   "execution_count": 20,
   "metadata": {
    "collapsed": false
   },
   "outputs": [
    {
     "name": "stdout",
     "output_type": "stream",
     "text": [
      "M6_04_R1.fastq.gz.polyATrim.adapterTrim.rmRep.sorted.bam\r\n"
     ]
    }
   ],
   "source": [
    "ls $pkm_folder"
   ]
  },
  {
   "cell_type": "code",
   "execution_count": 40,
   "metadata": {
    "collapsed": true
   },
   "outputs": [],
   "source": [
    "rps24_coords = 'chr10:79796952-79800455'"
   ]
  },
  {
   "cell_type": "code",
   "execution_count": 43,
   "metadata": {
    "collapsed": false
   },
   "outputs": [
    {
     "name": "stdout",
     "output_type": "stream",
     "text": [
      "M6_04_R1.fastq.gz.polyATrim.adapterTrim.rmRep.sorted.bam.pkm.bam\r\n",
      "M6_04_R1.fastq.gz.polyATrim.adapterTrim.rmRep.sorted.bam.rps24.bam\r\n",
      "P1_03_R1.fastq.gz.polyATrim.adapterTrim.rmRep.sorted.rg.bam.pkm.bam\r\n",
      "P1_03_R1.fastq.gz.polyATrim.adapterTrim.rmRep.sorted.rg.bam.rps24.bam\r\n"
     ]
    }
   ],
   "source": [
    "for sample_id in sample_ids:\n",
    "    bam = bams[sample_id]\n",
    "    ! samtools view -bh $rmdup_bam_folder/$bam $pkm_coords > $subset_folder/$bam\\.pkm\\.bam\n",
    "    ! samtools view -bh $rmdup_bam_folder/$bam $pkm_coords > $subset_folder/$bam\\.rps24\\.bam\n",
    "! ls $subset_folder"
   ]
  },
  {
   "cell_type": "code",
   "execution_count": 54,
   "metadata": {
    "collapsed": false
   },
   "outputs": [],
   "source": [
    "! rm $subset_folder/M6_04_R1.fastq.gz.polyATrim.adapterTrim.rmRep.sorted.bam.rps24.bam"
   ]
  },
  {
   "cell_type": "code",
   "execution_count": 56,
   "metadata": {
    "collapsed": false
   },
   "outputs": [
    {
     "name": "stdout",
     "output_type": "stream",
     "text": [
      "/home/obotvinnik/projects/singlecell_pnms/analysis/bams_from_aws/rmdup//subset/M6_04_R1.fastq.gz.polyATrim.adapterTrim.rmRep.sorted.bam.pkm.bam\n",
      "open: No such file or directory\n",
      "[bam_index_build2] fail to open the BAM file.\n",
      "/home/obotvinnik/projects/singlecell_pnms/analysis/bams_from_aws/rmdup//subset/P1_03_R1.fastq.gz.polyATrim.adapterTrim.rmRep.sorted.rg.bam.pkm.bam\n",
      "open: No such file or directory\n",
      "[bam_index_build2] fail to open the BAM file.\n",
      "/home/obotvinnik/projects/singlecell_pnms/analysis/bams_from_aws/rmdup//subset/P1_03_R1.fastq.gz.polyATrim.adapterTrim.rmRep.sorted.rg.bam.rps24.bam\n",
      "open: No such file or directory\n",
      "[bam_index_build2] fail to open the BAM file.\n"
     ]
    }
   ],
   "source": [
    "bamfiles = ! ls $subset_folder/*bam\n",
    "\n",
    "for bam in bamfiles:\n",
    "    print bam\n",
    "    ! samtools index $subset_folder/$bam"
   ]
  },
  {
   "cell_type": "code",
   "execution_count": 77,
   "metadata": {
    "collapsed": false
   },
   "outputs": [
    {
     "name": "stdout",
     "output_type": "stream",
     "text": [
      "total 904K\r\n",
      "drwxr-xr-x 2 obotvinnik yeo-group  33K Jan  7 10:01 \u001b[0m\u001b[01;34m.\u001b[0m/\r\n",
      "drwxr-xr-x 4 obotvinnik yeo-group 153K Jan  7 09:41 \u001b[01;34m..\u001b[0m/\r\n",
      "-rw-r--r-- 1 obotvinnik yeo-group 404K Jan  7 09:43 M6_04_R1.fastq.gz.polyATrim.adapterTrim.rmRep.sorted.bam.pkm.bam\r\n",
      "-rw-r--r-- 1 obotvinnik yeo-group  35K Jan  7 10:01 M6_04_R1.fastq.gz.polyATrim.adapterTrim.rmRep.sorted.bam.pkm.bam.bai\r\n",
      "-rw-r--r-- 1 obotvinnik yeo-group 118K Jan  7 09:43 P1_03_R1.fastq.gz.polyATrim.adapterTrim.rmRep.sorted.rg.bam.pkm.bam\r\n",
      "-rw-r--r-- 1 obotvinnik yeo-group  35K Jan  7 10:01 P1_03_R1.fastq.gz.polyATrim.adapterTrim.rmRep.sorted.rg.bam.pkm.bam.bai\r\n",
      "-rw-r--r-- 1 obotvinnik yeo-group 118K Jan  7 09:43 P1_03_R1.fastq.gz.polyATrim.adapterTrim.rmRep.sorted.rg.bam.rps24.bam\r\n",
      "-rw-r--r-- 1 obotvinnik yeo-group  35K Jan  7 10:01 P1_03_R1.fastq.gz.polyATrim.adapterTrim.rmRep.sorted.rg.bam.rps24.bam.bai\r\n",
      "\u001b[m"
     ]
    }
   ],
   "source": [
    "ls -lha $subset_folder"
   ]
  },
  {
   "cell_type": "code",
   "execution_count": 23,
   "metadata": {
    "collapsed": false
   },
   "outputs": [
    {
     "name": "stdout",
     "output_type": "stream",
     "text": [
      "/oasis/tscc/scratch/obotvinnik/projects/singlecell_pnms/analysis\n"
     ]
    }
   ],
   "source": [
    "cd ~/projects/singlecell_pnms/analysis/"
   ]
  },
  {
   "cell_type": "code",
   "execution_count": 25,
   "metadata": {
    "collapsed": false
   },
   "outputs": [],
   "source": [
    "mkdir outrigger_v2_pkm"
   ]
  },
  {
   "cell_type": "code",
   "execution_count": 30,
   "metadata": {
    "collapsed": true
   },
   "outputs": [],
   "source": [
    "cp -r outrigger_v2/index/ outrigger_v2_pkm/"
   ]
  },
  {
   "cell_type": "code",
   "execution_count": 66,
   "metadata": {
    "collapsed": true
   },
   "outputs": [],
   "source": [
    "rm -rf outrigger_v2_pkm/index/*/validated"
   ]
  },
  {
   "cell_type": "code",
   "execution_count": 80,
   "metadata": {
    "collapsed": true
   },
   "outputs": [],
   "source": [
    "rm -rf outrigger_v2_pkm/index/*/*bed"
   ]
  },
  {
   "cell_type": "code",
   "execution_count": 81,
   "metadata": {
    "collapsed": true
   },
   "outputs": [],
   "source": [
    "rm -rf outrigger_v2_pkm/index/gtf"
   ]
  },
  {
   "cell_type": "code",
   "execution_count": 82,
   "metadata": {
    "collapsed": true
   },
   "outputs": [],
   "source": [
    "rm -rf outrigger_v2_pkm/index/junction_exon_direction_triples.csv"
   ]
  },
  {
   "cell_type": "code",
   "execution_count": 28,
   "metadata": {
    "collapsed": false
   },
   "outputs": [
    {
     "data": {
      "text/plain": [
       "'isoform1=junction:chr10:79797063-79800372:+|isoform2=junction:chr10:79797063-79799961:+@exon:chr10:79799962-79799983:+@junction:chr10:79799984-79800372:+'"
      ]
     },
     "execution_count": 28,
     "metadata": {},
     "output_type": "execute_result"
    }
   ],
   "source": [
    "rps24_event = 'isoform1=junction:chr10:79797063-79800372:+|'\\\n",
    "'isoform2=junction:chr10:79797063-79799961:+@exon:chr10:79799962-79799983:+@junction:chr10:79799984-79800372:+'\n",
    "rps24_event"
   ]
  },
  {
   "cell_type": "code",
   "execution_count": 29,
   "metadata": {
    "collapsed": false
   },
   "outputs": [
    {
     "data": {
      "text/plain": [
       "u'isoform1=junction:chr15:72494962-72499068:-@exon:chr15:72494795-72494961:-@junction:chr15:72492997-72494794:-|isoform2=junction:chr15:72495530-72499068:-@exon:chr15:72495363-72495529:-@junction:chr15:72492997-72495362:-'"
      ]
     },
     "execution_count": 29,
     "metadata": {},
     "output_type": "execute_result"
    }
   ],
   "source": [
    "pkm_mxe_event = u'isoform1=junction:chr15:72494962-72499068:-@exon:chr15:72494795-72494961:-@junction:chr15:72492997-72494794:-'\\\n",
    "'|isoform2=junction:chr15:72495530-72499068:-@exon:chr15:72495363-72495529:-@junction:chr15:72492997-72495362:-'\n",
    "pkm_mxe_event"
   ]
  },
  {
   "cell_type": "code",
   "execution_count": 31,
   "metadata": {
    "collapsed": true
   },
   "outputs": [],
   "source": [
    "mxe_events = pd.read_csv('outrigger_v2_pkm/index/mxe/events.csv', index_col=0)\n",
    "mxe_events.loc[pkm_mxe_event].to_csv('outrigger_v2_pkm/index/mxe/events.csv')"
   ]
  },
  {
   "cell_type": "code",
   "execution_count": 68,
   "metadata": {
    "collapsed": false
   },
   "outputs": [],
   "source": [
    "se_events = pd.read_csv('outrigger_v2_pkm/index/se/events.csv', index_col=0)\n",
    "se_events['incompatible_junctions'] = None\n",
    "se_events.loc[rps24_event].to_csv('outrigger_v2_pkm/index/se/events.csv')"
   ]
  },
  {
   "cell_type": "code",
   "execution_count": 69,
   "metadata": {
    "collapsed": false
   },
   "outputs": [
    {
     "data": {
      "text/html": [
       "<div>\n",
       "<table border=\"1\" class=\"dataframe\">\n",
       "  <thead>\n",
       "    <tr style=\"text-align: right;\">\n",
       "      <th></th>\n",
       "      <th>event_length</th>\n",
       "      <th>event_location</th>\n",
       "      <th>exon1</th>\n",
       "      <th>exon1_length</th>\n",
       "      <th>exon2</th>\n",
       "      <th>exon2_length</th>\n",
       "      <th>exon3</th>\n",
       "      <th>exon3_length</th>\n",
       "      <th>exons</th>\n",
       "      <th>illegal_junctions</th>\n",
       "      <th>...</th>\n",
       "      <th>isoform2_transcript_id</th>\n",
       "      <th>isoform2_transcript_name</th>\n",
       "      <th>isoform2_transcript_status</th>\n",
       "      <th>isoform2_transcript_type</th>\n",
       "      <th>junction12</th>\n",
       "      <th>junction13</th>\n",
       "      <th>junction23</th>\n",
       "      <th>junctions</th>\n",
       "      <th>strand</th>\n",
       "      <th>incompatible_junctions</th>\n",
       "    </tr>\n",
       "    <tr>\n",
       "      <th>event_id</th>\n",
       "      <th></th>\n",
       "      <th></th>\n",
       "      <th></th>\n",
       "      <th></th>\n",
       "      <th></th>\n",
       "      <th></th>\n",
       "      <th></th>\n",
       "      <th></th>\n",
       "      <th></th>\n",
       "      <th></th>\n",
       "      <th></th>\n",
       "      <th></th>\n",
       "      <th></th>\n",
       "      <th></th>\n",
       "      <th></th>\n",
       "      <th></th>\n",
       "      <th></th>\n",
       "      <th></th>\n",
       "      <th></th>\n",
       "      <th></th>\n",
       "      <th></th>\n",
       "    </tr>\n",
       "  </thead>\n",
       "  <tbody>\n",
       "    <tr>\n",
       "      <th>isoform1=junction:chr10:79797063-79800372:+|isoform2=junction:chr10:79797063-79799961:+@exon:chr10:79799962-79799983:+@junction:chr10:79799984-79800372:+</th>\n",
       "      <td>3504.0</td>\n",
       "      <td>event:chr10:79796952-79800455:+</td>\n",
       "      <td>exon:chr10:79796952-79797062:+</td>\n",
       "      <td>111.0</td>\n",
       "      <td>exon:chr10:79799962-79799983:+</td>\n",
       "      <td>22.0</td>\n",
       "      <td>exon:chr10:79800373-79800455:+</td>\n",
       "      <td>83.0</td>\n",
       "      <td>exon:chr10:79796952-79797062:+@exon:chr10:7979...</td>\n",
       "      <td>NaN</td>\n",
       "      <td>...</td>\n",
       "      <td>NaN</td>\n",
       "      <td>NaN</td>\n",
       "      <td>NaN</td>\n",
       "      <td>NaN</td>\n",
       "      <td>junction:chr10:79797063-79799961:+</td>\n",
       "      <td>junction:chr10:79797063-79800372:+</td>\n",
       "      <td>junction:chr10:79799984-79800372:+</td>\n",
       "      <td>junction:chr10:79797063-79799961:+@junction:ch...</td>\n",
       "      <td>+</td>\n",
       "      <td>None</td>\n",
       "    </tr>\n",
       "    <tr>\n",
       "      <th>isoform1=junction:chr10:79797063-79800372:+|isoform2=junction:chr10:79797063-79799961:+@exon:chr10:79799962-79799983:+@junction:chr10:79799984-79800372:+</th>\n",
       "      <td>3477.0</td>\n",
       "      <td>event:chr10:79796952-79800428:+</td>\n",
       "      <td>exon:chr10:79796952-79797062:+</td>\n",
       "      <td>111.0</td>\n",
       "      <td>exon:chr10:79799962-79799983:+</td>\n",
       "      <td>22.0</td>\n",
       "      <td>exon:chr10:79800373-79800428:+</td>\n",
       "      <td>56.0</td>\n",
       "      <td>exon:chr10:79796952-79797062:+@exon:chr10:7979...</td>\n",
       "      <td>NaN</td>\n",
       "      <td>...</td>\n",
       "      <td>NaN</td>\n",
       "      <td>NaN</td>\n",
       "      <td>NaN</td>\n",
       "      <td>NaN</td>\n",
       "      <td>junction:chr10:79797063-79799961:+</td>\n",
       "      <td>junction:chr10:79797063-79800372:+</td>\n",
       "      <td>junction:chr10:79799984-79800372:+</td>\n",
       "      <td>junction:chr10:79797063-79799961:+@junction:ch...</td>\n",
       "      <td>+</td>\n",
       "      <td>None</td>\n",
       "    </tr>\n",
       "    <tr>\n",
       "      <th>isoform1=junction:chr10:79797063-79800372:+|isoform2=junction:chr10:79797063-79799961:+@exon:chr10:79799962-79799983:+@junction:chr10:79799984-79800372:+</th>\n",
       "      <td>3503.0</td>\n",
       "      <td>event:chr10:79796952-79800454:+</td>\n",
       "      <td>exon:chr10:79796952-79797062:+</td>\n",
       "      <td>111.0</td>\n",
       "      <td>exon:chr10:79799962-79799983:+</td>\n",
       "      <td>22.0</td>\n",
       "      <td>exon:chr10:79800373-79800454:+</td>\n",
       "      <td>82.0</td>\n",
       "      <td>exon:chr10:79796952-79797062:+@exon:chr10:7979...</td>\n",
       "      <td>NaN</td>\n",
       "      <td>...</td>\n",
       "      <td>NaN</td>\n",
       "      <td>NaN</td>\n",
       "      <td>NaN</td>\n",
       "      <td>NaN</td>\n",
       "      <td>junction:chr10:79797063-79799961:+</td>\n",
       "      <td>junction:chr10:79797063-79800372:+</td>\n",
       "      <td>junction:chr10:79799984-79800372:+</td>\n",
       "      <td>junction:chr10:79797063-79799961:+@junction:ch...</td>\n",
       "      <td>+</td>\n",
       "      <td>None</td>\n",
       "    </tr>\n",
       "    <tr>\n",
       "      <th>isoform1=junction:chr10:79797063-79800372:+|isoform2=junction:chr10:79797063-79799961:+@exon:chr10:79799962-79799983:+@junction:chr10:79799984-79800372:+</th>\n",
       "      <td>3520.0</td>\n",
       "      <td>event:chr10:79796952-79800471:+</td>\n",
       "      <td>exon:chr10:79796952-79797062:+</td>\n",
       "      <td>111.0</td>\n",
       "      <td>exon:chr10:79799962-79799983:+</td>\n",
       "      <td>22.0</td>\n",
       "      <td>exon:chr10:79800373-79800471:+</td>\n",
       "      <td>99.0</td>\n",
       "      <td>exon:chr10:79796952-79797062:+@exon:chr10:7979...</td>\n",
       "      <td>NaN</td>\n",
       "      <td>...</td>\n",
       "      <td>NaN</td>\n",
       "      <td>NaN</td>\n",
       "      <td>NaN</td>\n",
       "      <td>NaN</td>\n",
       "      <td>junction:chr10:79797063-79799961:+</td>\n",
       "      <td>junction:chr10:79797063-79800372:+</td>\n",
       "      <td>junction:chr10:79799984-79800372:+</td>\n",
       "      <td>junction:chr10:79797063-79799961:+@junction:ch...</td>\n",
       "      <td>+</td>\n",
       "      <td>None</td>\n",
       "    </tr>\n",
       "    <tr>\n",
       "      <th>isoform1=junction:chr10:79797063-79800372:+|isoform2=junction:chr10:79797063-79799961:+@exon:chr10:79799962-79799983:+@junction:chr10:79799984-79800372:+</th>\n",
       "      <td>NaN</td>\n",
       "      <td>NaN</td>\n",
       "      <td>exon:chr10:79796952-79797062:+</td>\n",
       "      <td>NaN</td>\n",
       "      <td>exon:chr10:79799962-79799983:+</td>\n",
       "      <td>NaN</td>\n",
       "      <td>exon:chr10:79800373-79800455:+</td>\n",
       "      <td>NaN</td>\n",
       "      <td>NaN</td>\n",
       "      <td>NaN</td>\n",
       "      <td>...</td>\n",
       "      <td>ENST00000360830.4</td>\n",
       "      <td>RPS24-003</td>\n",
       "      <td>KNOWN,NOVEL</td>\n",
       "      <td>protein_coding</td>\n",
       "      <td>NaN</td>\n",
       "      <td>NaN</td>\n",
       "      <td>NaN</td>\n",
       "      <td>NaN</td>\n",
       "      <td>NaN</td>\n",
       "      <td>None</td>\n",
       "    </tr>\n",
       "    <tr>\n",
       "      <th>isoform1=junction:chr10:79797063-79800372:+|isoform2=junction:chr10:79797063-79799961:+@exon:chr10:79799962-79799983:+@junction:chr10:79799984-79800372:+</th>\n",
       "      <td>NaN</td>\n",
       "      <td>NaN</td>\n",
       "      <td>exon:chr10:79796952-79797062:+</td>\n",
       "      <td>NaN</td>\n",
       "      <td>exon:chr10:79799962-79799983:+</td>\n",
       "      <td>NaN</td>\n",
       "      <td>exon:chr10:79800373-79800428:+</td>\n",
       "      <td>NaN</td>\n",
       "      <td>NaN</td>\n",
       "      <td>NaN</td>\n",
       "      <td>...</td>\n",
       "      <td>ENST00000485708.2</td>\n",
       "      <td>RPS24-002</td>\n",
       "      <td>KNOWN</td>\n",
       "      <td>processed_transcript</td>\n",
       "      <td>NaN</td>\n",
       "      <td>NaN</td>\n",
       "      <td>NaN</td>\n",
       "      <td>NaN</td>\n",
       "      <td>NaN</td>\n",
       "      <td>None</td>\n",
       "    </tr>\n",
       "    <tr>\n",
       "      <th>isoform1=junction:chr10:79797063-79800372:+|isoform2=junction:chr10:79797063-79799961:+@exon:chr10:79799962-79799983:+@junction:chr10:79799984-79800372:+</th>\n",
       "      <td>NaN</td>\n",
       "      <td>NaN</td>\n",
       "      <td>exon:chr10:79796952-79797062:+</td>\n",
       "      <td>NaN</td>\n",
       "      <td>exon:chr10:79799962-79799983:+</td>\n",
       "      <td>NaN</td>\n",
       "      <td>exon:chr10:79800373-79800454:+</td>\n",
       "      <td>NaN</td>\n",
       "      <td>NaN</td>\n",
       "      <td>NaN</td>\n",
       "      <td>...</td>\n",
       "      <td>NaN</td>\n",
       "      <td>NaN</td>\n",
       "      <td>KNOWN</td>\n",
       "      <td>processed_transcript</td>\n",
       "      <td>NaN</td>\n",
       "      <td>NaN</td>\n",
       "      <td>NaN</td>\n",
       "      <td>NaN</td>\n",
       "      <td>NaN</td>\n",
       "      <td>None</td>\n",
       "    </tr>\n",
       "    <tr>\n",
       "      <th>isoform1=junction:chr10:79797063-79800372:+|isoform2=junction:chr10:79797063-79799961:+@exon:chr10:79799962-79799983:+@junction:chr10:79799984-79800372:+</th>\n",
       "      <td>NaN</td>\n",
       "      <td>NaN</td>\n",
       "      <td>exon:chr10:79796952-79797062:+</td>\n",
       "      <td>NaN</td>\n",
       "      <td>exon:chr10:79799962-79799983:+</td>\n",
       "      <td>NaN</td>\n",
       "      <td>exon:chr10:79800373-79800471:+</td>\n",
       "      <td>NaN</td>\n",
       "      <td>NaN</td>\n",
       "      <td>NaN</td>\n",
       "      <td>...</td>\n",
       "      <td>NaN</td>\n",
       "      <td>NaN</td>\n",
       "      <td>KNOWN</td>\n",
       "      <td>protein_coding</td>\n",
       "      <td>NaN</td>\n",
       "      <td>NaN</td>\n",
       "      <td>NaN</td>\n",
       "      <td>NaN</td>\n",
       "      <td>NaN</td>\n",
       "      <td>None</td>\n",
       "    </tr>\n",
       "  </tbody>\n",
       "</table>\n",
       "<p>8 rows × 46 columns</p>\n",
       "</div>"
      ],
      "text/plain": [
       "                                                    event_length  \\\n",
       "event_id                                                           \n",
       "isoform1=junction:chr10:79797063-79800372:+|iso...        3504.0   \n",
       "isoform1=junction:chr10:79797063-79800372:+|iso...        3477.0   \n",
       "isoform1=junction:chr10:79797063-79800372:+|iso...        3503.0   \n",
       "isoform1=junction:chr10:79797063-79800372:+|iso...        3520.0   \n",
       "isoform1=junction:chr10:79797063-79800372:+|iso...           NaN   \n",
       "isoform1=junction:chr10:79797063-79800372:+|iso...           NaN   \n",
       "isoform1=junction:chr10:79797063-79800372:+|iso...           NaN   \n",
       "isoform1=junction:chr10:79797063-79800372:+|iso...           NaN   \n",
       "\n",
       "                                                                     event_location  \\\n",
       "event_id                                                                              \n",
       "isoform1=junction:chr10:79797063-79800372:+|iso...  event:chr10:79796952-79800455:+   \n",
       "isoform1=junction:chr10:79797063-79800372:+|iso...  event:chr10:79796952-79800428:+   \n",
       "isoform1=junction:chr10:79797063-79800372:+|iso...  event:chr10:79796952-79800454:+   \n",
       "isoform1=junction:chr10:79797063-79800372:+|iso...  event:chr10:79796952-79800471:+   \n",
       "isoform1=junction:chr10:79797063-79800372:+|iso...                              NaN   \n",
       "isoform1=junction:chr10:79797063-79800372:+|iso...                              NaN   \n",
       "isoform1=junction:chr10:79797063-79800372:+|iso...                              NaN   \n",
       "isoform1=junction:chr10:79797063-79800372:+|iso...                              NaN   \n",
       "\n",
       "                                                                             exon1  \\\n",
       "event_id                                                                             \n",
       "isoform1=junction:chr10:79797063-79800372:+|iso...  exon:chr10:79796952-79797062:+   \n",
       "isoform1=junction:chr10:79797063-79800372:+|iso...  exon:chr10:79796952-79797062:+   \n",
       "isoform1=junction:chr10:79797063-79800372:+|iso...  exon:chr10:79796952-79797062:+   \n",
       "isoform1=junction:chr10:79797063-79800372:+|iso...  exon:chr10:79796952-79797062:+   \n",
       "isoform1=junction:chr10:79797063-79800372:+|iso...  exon:chr10:79796952-79797062:+   \n",
       "isoform1=junction:chr10:79797063-79800372:+|iso...  exon:chr10:79796952-79797062:+   \n",
       "isoform1=junction:chr10:79797063-79800372:+|iso...  exon:chr10:79796952-79797062:+   \n",
       "isoform1=junction:chr10:79797063-79800372:+|iso...  exon:chr10:79796952-79797062:+   \n",
       "\n",
       "                                                    exon1_length  \\\n",
       "event_id                                                           \n",
       "isoform1=junction:chr10:79797063-79800372:+|iso...         111.0   \n",
       "isoform1=junction:chr10:79797063-79800372:+|iso...         111.0   \n",
       "isoform1=junction:chr10:79797063-79800372:+|iso...         111.0   \n",
       "isoform1=junction:chr10:79797063-79800372:+|iso...         111.0   \n",
       "isoform1=junction:chr10:79797063-79800372:+|iso...           NaN   \n",
       "isoform1=junction:chr10:79797063-79800372:+|iso...           NaN   \n",
       "isoform1=junction:chr10:79797063-79800372:+|iso...           NaN   \n",
       "isoform1=junction:chr10:79797063-79800372:+|iso...           NaN   \n",
       "\n",
       "                                                                             exon2  \\\n",
       "event_id                                                                             \n",
       "isoform1=junction:chr10:79797063-79800372:+|iso...  exon:chr10:79799962-79799983:+   \n",
       "isoform1=junction:chr10:79797063-79800372:+|iso...  exon:chr10:79799962-79799983:+   \n",
       "isoform1=junction:chr10:79797063-79800372:+|iso...  exon:chr10:79799962-79799983:+   \n",
       "isoform1=junction:chr10:79797063-79800372:+|iso...  exon:chr10:79799962-79799983:+   \n",
       "isoform1=junction:chr10:79797063-79800372:+|iso...  exon:chr10:79799962-79799983:+   \n",
       "isoform1=junction:chr10:79797063-79800372:+|iso...  exon:chr10:79799962-79799983:+   \n",
       "isoform1=junction:chr10:79797063-79800372:+|iso...  exon:chr10:79799962-79799983:+   \n",
       "isoform1=junction:chr10:79797063-79800372:+|iso...  exon:chr10:79799962-79799983:+   \n",
       "\n",
       "                                                    exon2_length  \\\n",
       "event_id                                                           \n",
       "isoform1=junction:chr10:79797063-79800372:+|iso...          22.0   \n",
       "isoform1=junction:chr10:79797063-79800372:+|iso...          22.0   \n",
       "isoform1=junction:chr10:79797063-79800372:+|iso...          22.0   \n",
       "isoform1=junction:chr10:79797063-79800372:+|iso...          22.0   \n",
       "isoform1=junction:chr10:79797063-79800372:+|iso...           NaN   \n",
       "isoform1=junction:chr10:79797063-79800372:+|iso...           NaN   \n",
       "isoform1=junction:chr10:79797063-79800372:+|iso...           NaN   \n",
       "isoform1=junction:chr10:79797063-79800372:+|iso...           NaN   \n",
       "\n",
       "                                                                             exon3  \\\n",
       "event_id                                                                             \n",
       "isoform1=junction:chr10:79797063-79800372:+|iso...  exon:chr10:79800373-79800455:+   \n",
       "isoform1=junction:chr10:79797063-79800372:+|iso...  exon:chr10:79800373-79800428:+   \n",
       "isoform1=junction:chr10:79797063-79800372:+|iso...  exon:chr10:79800373-79800454:+   \n",
       "isoform1=junction:chr10:79797063-79800372:+|iso...  exon:chr10:79800373-79800471:+   \n",
       "isoform1=junction:chr10:79797063-79800372:+|iso...  exon:chr10:79800373-79800455:+   \n",
       "isoform1=junction:chr10:79797063-79800372:+|iso...  exon:chr10:79800373-79800428:+   \n",
       "isoform1=junction:chr10:79797063-79800372:+|iso...  exon:chr10:79800373-79800454:+   \n",
       "isoform1=junction:chr10:79797063-79800372:+|iso...  exon:chr10:79800373-79800471:+   \n",
       "\n",
       "                                                    exon3_length  \\\n",
       "event_id                                                           \n",
       "isoform1=junction:chr10:79797063-79800372:+|iso...          83.0   \n",
       "isoform1=junction:chr10:79797063-79800372:+|iso...          56.0   \n",
       "isoform1=junction:chr10:79797063-79800372:+|iso...          82.0   \n",
       "isoform1=junction:chr10:79797063-79800372:+|iso...          99.0   \n",
       "isoform1=junction:chr10:79797063-79800372:+|iso...           NaN   \n",
       "isoform1=junction:chr10:79797063-79800372:+|iso...           NaN   \n",
       "isoform1=junction:chr10:79797063-79800372:+|iso...           NaN   \n",
       "isoform1=junction:chr10:79797063-79800372:+|iso...           NaN   \n",
       "\n",
       "                                                                                                exons  \\\n",
       "event_id                                                                                                \n",
       "isoform1=junction:chr10:79797063-79800372:+|iso...  exon:chr10:79796952-79797062:+@exon:chr10:7979...   \n",
       "isoform1=junction:chr10:79797063-79800372:+|iso...  exon:chr10:79796952-79797062:+@exon:chr10:7979...   \n",
       "isoform1=junction:chr10:79797063-79800372:+|iso...  exon:chr10:79796952-79797062:+@exon:chr10:7979...   \n",
       "isoform1=junction:chr10:79797063-79800372:+|iso...  exon:chr10:79796952-79797062:+@exon:chr10:7979...   \n",
       "isoform1=junction:chr10:79797063-79800372:+|iso...                                                NaN   \n",
       "isoform1=junction:chr10:79797063-79800372:+|iso...                                                NaN   \n",
       "isoform1=junction:chr10:79797063-79800372:+|iso...                                                NaN   \n",
       "isoform1=junction:chr10:79797063-79800372:+|iso...                                                NaN   \n",
       "\n",
       "                                                    illegal_junctions  \\\n",
       "event_id                                                                \n",
       "isoform1=junction:chr10:79797063-79800372:+|iso...                NaN   \n",
       "isoform1=junction:chr10:79797063-79800372:+|iso...                NaN   \n",
       "isoform1=junction:chr10:79797063-79800372:+|iso...                NaN   \n",
       "isoform1=junction:chr10:79797063-79800372:+|iso...                NaN   \n",
       "isoform1=junction:chr10:79797063-79800372:+|iso...                NaN   \n",
       "isoform1=junction:chr10:79797063-79800372:+|iso...                NaN   \n",
       "isoform1=junction:chr10:79797063-79800372:+|iso...                NaN   \n",
       "isoform1=junction:chr10:79797063-79800372:+|iso...                NaN   \n",
       "\n",
       "                                                             ...            \\\n",
       "event_id                                                     ...             \n",
       "isoform1=junction:chr10:79797063-79800372:+|iso...           ...             \n",
       "isoform1=junction:chr10:79797063-79800372:+|iso...           ...             \n",
       "isoform1=junction:chr10:79797063-79800372:+|iso...           ...             \n",
       "isoform1=junction:chr10:79797063-79800372:+|iso...           ...             \n",
       "isoform1=junction:chr10:79797063-79800372:+|iso...           ...             \n",
       "isoform1=junction:chr10:79797063-79800372:+|iso...           ...             \n",
       "isoform1=junction:chr10:79797063-79800372:+|iso...           ...             \n",
       "isoform1=junction:chr10:79797063-79800372:+|iso...           ...             \n",
       "\n",
       "                                                    isoform2_transcript_id  \\\n",
       "event_id                                                                     \n",
       "isoform1=junction:chr10:79797063-79800372:+|iso...                     NaN   \n",
       "isoform1=junction:chr10:79797063-79800372:+|iso...                     NaN   \n",
       "isoform1=junction:chr10:79797063-79800372:+|iso...                     NaN   \n",
       "isoform1=junction:chr10:79797063-79800372:+|iso...                     NaN   \n",
       "isoform1=junction:chr10:79797063-79800372:+|iso...       ENST00000360830.4   \n",
       "isoform1=junction:chr10:79797063-79800372:+|iso...       ENST00000485708.2   \n",
       "isoform1=junction:chr10:79797063-79800372:+|iso...                     NaN   \n",
       "isoform1=junction:chr10:79797063-79800372:+|iso...                     NaN   \n",
       "\n",
       "                                                   isoform2_transcript_name  \\\n",
       "event_id                                                                      \n",
       "isoform1=junction:chr10:79797063-79800372:+|iso...                      NaN   \n",
       "isoform1=junction:chr10:79797063-79800372:+|iso...                      NaN   \n",
       "isoform1=junction:chr10:79797063-79800372:+|iso...                      NaN   \n",
       "isoform1=junction:chr10:79797063-79800372:+|iso...                      NaN   \n",
       "isoform1=junction:chr10:79797063-79800372:+|iso...                RPS24-003   \n",
       "isoform1=junction:chr10:79797063-79800372:+|iso...                RPS24-002   \n",
       "isoform1=junction:chr10:79797063-79800372:+|iso...                      NaN   \n",
       "isoform1=junction:chr10:79797063-79800372:+|iso...                      NaN   \n",
       "\n",
       "                                                   isoform2_transcript_status  \\\n",
       "event_id                                                                        \n",
       "isoform1=junction:chr10:79797063-79800372:+|iso...                        NaN   \n",
       "isoform1=junction:chr10:79797063-79800372:+|iso...                        NaN   \n",
       "isoform1=junction:chr10:79797063-79800372:+|iso...                        NaN   \n",
       "isoform1=junction:chr10:79797063-79800372:+|iso...                        NaN   \n",
       "isoform1=junction:chr10:79797063-79800372:+|iso...                KNOWN,NOVEL   \n",
       "isoform1=junction:chr10:79797063-79800372:+|iso...                      KNOWN   \n",
       "isoform1=junction:chr10:79797063-79800372:+|iso...                      KNOWN   \n",
       "isoform1=junction:chr10:79797063-79800372:+|iso...                      KNOWN   \n",
       "\n",
       "                                                   isoform2_transcript_type  \\\n",
       "event_id                                                                      \n",
       "isoform1=junction:chr10:79797063-79800372:+|iso...                      NaN   \n",
       "isoform1=junction:chr10:79797063-79800372:+|iso...                      NaN   \n",
       "isoform1=junction:chr10:79797063-79800372:+|iso...                      NaN   \n",
       "isoform1=junction:chr10:79797063-79800372:+|iso...                      NaN   \n",
       "isoform1=junction:chr10:79797063-79800372:+|iso...           protein_coding   \n",
       "isoform1=junction:chr10:79797063-79800372:+|iso...     processed_transcript   \n",
       "isoform1=junction:chr10:79797063-79800372:+|iso...     processed_transcript   \n",
       "isoform1=junction:chr10:79797063-79800372:+|iso...           protein_coding   \n",
       "\n",
       "                                                                            junction12  \\\n",
       "event_id                                                                                 \n",
       "isoform1=junction:chr10:79797063-79800372:+|iso...  junction:chr10:79797063-79799961:+   \n",
       "isoform1=junction:chr10:79797063-79800372:+|iso...  junction:chr10:79797063-79799961:+   \n",
       "isoform1=junction:chr10:79797063-79800372:+|iso...  junction:chr10:79797063-79799961:+   \n",
       "isoform1=junction:chr10:79797063-79800372:+|iso...  junction:chr10:79797063-79799961:+   \n",
       "isoform1=junction:chr10:79797063-79800372:+|iso...                                 NaN   \n",
       "isoform1=junction:chr10:79797063-79800372:+|iso...                                 NaN   \n",
       "isoform1=junction:chr10:79797063-79800372:+|iso...                                 NaN   \n",
       "isoform1=junction:chr10:79797063-79800372:+|iso...                                 NaN   \n",
       "\n",
       "                                                                            junction13  \\\n",
       "event_id                                                                                 \n",
       "isoform1=junction:chr10:79797063-79800372:+|iso...  junction:chr10:79797063-79800372:+   \n",
       "isoform1=junction:chr10:79797063-79800372:+|iso...  junction:chr10:79797063-79800372:+   \n",
       "isoform1=junction:chr10:79797063-79800372:+|iso...  junction:chr10:79797063-79800372:+   \n",
       "isoform1=junction:chr10:79797063-79800372:+|iso...  junction:chr10:79797063-79800372:+   \n",
       "isoform1=junction:chr10:79797063-79800372:+|iso...                                 NaN   \n",
       "isoform1=junction:chr10:79797063-79800372:+|iso...                                 NaN   \n",
       "isoform1=junction:chr10:79797063-79800372:+|iso...                                 NaN   \n",
       "isoform1=junction:chr10:79797063-79800372:+|iso...                                 NaN   \n",
       "\n",
       "                                                                            junction23  \\\n",
       "event_id                                                                                 \n",
       "isoform1=junction:chr10:79797063-79800372:+|iso...  junction:chr10:79799984-79800372:+   \n",
       "isoform1=junction:chr10:79797063-79800372:+|iso...  junction:chr10:79799984-79800372:+   \n",
       "isoform1=junction:chr10:79797063-79800372:+|iso...  junction:chr10:79799984-79800372:+   \n",
       "isoform1=junction:chr10:79797063-79800372:+|iso...  junction:chr10:79799984-79800372:+   \n",
       "isoform1=junction:chr10:79797063-79800372:+|iso...                                 NaN   \n",
       "isoform1=junction:chr10:79797063-79800372:+|iso...                                 NaN   \n",
       "isoform1=junction:chr10:79797063-79800372:+|iso...                                 NaN   \n",
       "isoform1=junction:chr10:79797063-79800372:+|iso...                                 NaN   \n",
       "\n",
       "                                                                                            junctions  \\\n",
       "event_id                                                                                                \n",
       "isoform1=junction:chr10:79797063-79800372:+|iso...  junction:chr10:79797063-79799961:+@junction:ch...   \n",
       "isoform1=junction:chr10:79797063-79800372:+|iso...  junction:chr10:79797063-79799961:+@junction:ch...   \n",
       "isoform1=junction:chr10:79797063-79800372:+|iso...  junction:chr10:79797063-79799961:+@junction:ch...   \n",
       "isoform1=junction:chr10:79797063-79800372:+|iso...  junction:chr10:79797063-79799961:+@junction:ch...   \n",
       "isoform1=junction:chr10:79797063-79800372:+|iso...                                                NaN   \n",
       "isoform1=junction:chr10:79797063-79800372:+|iso...                                                NaN   \n",
       "isoform1=junction:chr10:79797063-79800372:+|iso...                                                NaN   \n",
       "isoform1=junction:chr10:79797063-79800372:+|iso...                                                NaN   \n",
       "\n",
       "                                                   strand  \\\n",
       "event_id                                                    \n",
       "isoform1=junction:chr10:79797063-79800372:+|iso...      +   \n",
       "isoform1=junction:chr10:79797063-79800372:+|iso...      +   \n",
       "isoform1=junction:chr10:79797063-79800372:+|iso...      +   \n",
       "isoform1=junction:chr10:79797063-79800372:+|iso...      +   \n",
       "isoform1=junction:chr10:79797063-79800372:+|iso...    NaN   \n",
       "isoform1=junction:chr10:79797063-79800372:+|iso...    NaN   \n",
       "isoform1=junction:chr10:79797063-79800372:+|iso...    NaN   \n",
       "isoform1=junction:chr10:79797063-79800372:+|iso...    NaN   \n",
       "\n",
       "                                                    incompatible_junctions  \n",
       "event_id                                                                    \n",
       "isoform1=junction:chr10:79797063-79800372:+|iso...                    None  \n",
       "isoform1=junction:chr10:79797063-79800372:+|iso...                    None  \n",
       "isoform1=junction:chr10:79797063-79800372:+|iso...                    None  \n",
       "isoform1=junction:chr10:79797063-79800372:+|iso...                    None  \n",
       "isoform1=junction:chr10:79797063-79800372:+|iso...                    None  \n",
       "isoform1=junction:chr10:79797063-79800372:+|iso...                    None  \n",
       "isoform1=junction:chr10:79797063-79800372:+|iso...                    None  \n",
       "isoform1=junction:chr10:79797063-79800372:+|iso...                    None  \n",
       "\n",
       "[8 rows x 46 columns]"
      ]
     },
     "execution_count": 69,
     "metadata": {},
     "output_type": "execute_result"
    }
   ],
   "source": [
    "se_events.loc[rps24_event]"
   ]
  },
  {
   "cell_type": "code",
   "execution_count": null,
   "metadata": {
    "collapsed": true
   },
   "outputs": [],
   "source": [
    "se_events."
   ]
  },
  {
   "cell_type": "code",
   "execution_count": 33,
   "metadata": {
    "collapsed": false
   },
   "outputs": [
    {
     "name": "stdout",
     "output_type": "stream",
     "text": [
      "-rw-r--r-- 1 obotvinnik yeo-group 3.9K Jan  7 09:36 outrigger_v2_pkm/index/mxe/events.csv\r\n",
      "-rw-r--r-- 1 obotvinnik yeo-group  79M Jan  7 09:36 outrigger_v2_pkm/index/mxe/splice_sites.csv\r\n",
      "-rw-r--r-- 1 obotvinnik yeo-group 5.7K Jan  7 09:37 outrigger_v2_pkm/index/se/events.csv\r\n",
      "-rw-r--r-- 1 obotvinnik yeo-group  34M Jan  7 09:36 outrigger_v2_pkm/index/se/splice_sites.csv\r\n"
     ]
    }
   ],
   "source": [
    "ls -lh outrigger_v2_pkm/index/*/*.csv"
   ]
  },
  {
   "cell_type": "code",
   "execution_count": 34,
   "metadata": {
    "collapsed": false
   },
   "outputs": [
    {
     "data": {
      "text/plain": [
       "u'/oasis/tscc/scratch/obotvinnik/projects/singlecell_pnms/analysis'"
      ]
     },
     "execution_count": 34,
     "metadata": {},
     "output_type": "execute_result"
    }
   ],
   "source": [
    "pwd\n"
   ]
  },
  {
   "cell_type": "code",
   "execution_count": 35,
   "metadata": {
    "collapsed": false
   },
   "outputs": [
    {
     "data": {
      "text/plain": [
       "'/home/obotvinnik/projects/singlecell_pnms/analysis/bams_from_aws/rmdup//pkm'"
      ]
     },
     "execution_count": 35,
     "metadata": {},
     "output_type": "execute_result"
    }
   ],
   "source": [
    "pkm_folder"
   ]
  },
  {
   "cell_type": "code",
   "execution_count": 51,
   "metadata": {
    "collapsed": true
   },
   "outputs": [],
   "source": [
    "commands = ['source activate outrigger_v1.0.0rc1_v3',\n",
    "            'time outrigger psi --output /oasis/tscc/scratch/obotvinnik/projects/singlecell_pnms/analysis/outrigger_v2_pkm '\n",
    "            '--bam /home/obotvinnik/projects/singlecell_pnms/analysis/bams_from_aws/rmdup/subset/*bam']\n"
   ]
  },
  {
   "cell_type": "code",
   "execution_count": 52,
   "metadata": {
    "collapsed": false
   },
   "outputs": [
    {
     "name": "stdout",
     "output_type": "stream",
     "text": [
      "source activate outrigger_v1.0.0rc1_v3\n",
      "time outrigger psi --output /oasis/tscc/scratch/obotvinnik/projects/singlecell_pnms/analysis/outrigger_v2_pkm --bam /home/obotvinnik/projects/singlecell_pnms/analysis/bams_from_aws/rmdup/subset/*bam\n"
     ]
    }
   ],
   "source": [
    "for command in commands:\n",
    "    print command"
   ]
  },
  {
   "cell_type": "markdown",
   "metadata": {},
   "source": [
    "Performed the commands separately"
   ]
  },
  {
   "cell_type": "markdown",
   "metadata": {},
   "source": [
    "## Read the output"
   ]
  },
  {
   "cell_type": "code",
   "execution_count": 70,
   "metadata": {
    "collapsed": true
   },
   "outputs": [],
   "source": [
    "outrigger_psi_output = '/oasis/tscc/scratch/obotvinnik/projects/singlecell_pnms/analysis/outrigger_v2_pkm/psi'"
   ]
  },
  {
   "cell_type": "code",
   "execution_count": 73,
   "metadata": {
    "collapsed": false
   },
   "outputs": [
    {
     "name": "stdout",
     "output_type": "stream",
     "text": [
      "/oasis/tscc/scratch/obotvinnik/projects/singlecell_pnms/analysis/outrigger_v2_pkm/psi/se/summary.csv\n",
      "/oasis/tscc/scratch/obotvinnik/projects/singlecell_pnms/analysis/outrigger_v2_pkm/psi/mxe/summary.csv\n",
      "(0, 9)\n"
     ]
    },
    {
     "data": {
      "text/html": [
       "<div>\n",
       "<table border=\"1\" class=\"dataframe\">\n",
       "  <thead>\n",
       "    <tr style=\"text-align: right;\">\n",
       "      <th></th>\n",
       "      <th>event_id</th>\n",
       "      <th>isoform1_junction13</th>\n",
       "      <th>isoform1_junction34</th>\n",
       "      <th>isoform2_junction12</th>\n",
       "      <th>isoform2_junction23</th>\n",
       "      <th>isoform2_junction24</th>\n",
       "      <th>notes</th>\n",
       "      <th>psi</th>\n",
       "      <th>sample_id</th>\n",
       "    </tr>\n",
       "  </thead>\n",
       "  <tbody>\n",
       "  </tbody>\n",
       "</table>\n",
       "</div>"
      ],
      "text/plain": [
       "Empty DataFrame\n",
       "Columns: [event_id, isoform1_junction13, isoform1_junction34, isoform2_junction12, isoform2_junction23, isoform2_junction24, notes, psi, sample_id]\n",
       "Index: []"
      ]
     },
     "execution_count": 73,
     "metadata": {},
     "output_type": "execute_result"
    }
   ],
   "source": [
    "import os\n",
    "import glob\n",
    "\n",
    "dfs = []\n",
    "\n",
    "for filename in glob.glob('{}/*/summary.csv'.format(outrigger_psi_output)):\n",
    "    print(filename)\n",
    "    dfs.append(pd.read_csv(filename))\n",
    "summary = pd.concat(dfs)\n",
    "print(summary.shape)\n",
    "summary.head()"
   ]
  },
  {
   "cell_type": "code",
   "execution_count": 74,
   "metadata": {
    "collapsed": false
   },
   "outputs": [
    {
     "data": {
      "text/html": [
       "<div>\n",
       "<table border=\"1\" class=\"dataframe\">\n",
       "  <thead>\n",
       "    <tr style=\"text-align: right;\">\n",
       "      <th></th>\n",
       "      <th>event_id</th>\n",
       "    </tr>\n",
       "  </thead>\n",
       "  <tbody>\n",
       "  </tbody>\n",
       "</table>\n",
       "</div>"
      ],
      "text/plain": [
       "Empty DataFrame\n",
       "Columns: [event_id]\n",
       "Index: []"
      ]
     },
     "execution_count": 74,
     "metadata": {},
     "output_type": "execute_result"
    }
   ],
   "source": [
    "psi = pd.read_csv('{}/outrigger_psi.csv'.format(outrigger_psi_output))\n",
    "psi.head()"
   ]
  },
  {
   "cell_type": "code",
   "execution_count": 76,
   "metadata": {
    "collapsed": false
   },
   "outputs": [
    {
     "name": "stdout",
     "output_type": "stream",
     "text": [
      "(22, 11)\n"
     ]
    },
    {
     "data": {
      "text/html": [
       "<div>\n",
       "<table border=\"1\" class=\"dataframe\">\n",
       "  <thead>\n",
       "    <tr style=\"text-align: right;\">\n",
       "      <th></th>\n",
       "      <th>chrom</th>\n",
       "      <th>junction_start</th>\n",
       "      <th>junction_stop</th>\n",
       "      <th>strand</th>\n",
       "      <th>unique_junction_reads</th>\n",
       "      <th>multimap_junction_reads</th>\n",
       "      <th>reads</th>\n",
       "      <th>sample_id</th>\n",
       "      <th>exon_start</th>\n",
       "      <th>exon_stop</th>\n",
       "      <th>junction_id</th>\n",
       "    </tr>\n",
       "  </thead>\n",
       "  <tbody>\n",
       "    <tr>\n",
       "      <th>0</th>\n",
       "      <td>chr15</td>\n",
       "      <td>72492098</td>\n",
       "      <td>72492814</td>\n",
       "      <td>+</td>\n",
       "      <td>901</td>\n",
       "      <td>8</td>\n",
       "      <td>909</td>\n",
       "      <td>M6_04_R1.fastq.gz.polyATrim.adapterTrim.rmRep....</td>\n",
       "      <td>72492815</td>\n",
       "      <td>72492097</td>\n",
       "      <td>junction:chr15:72492098-72492814:+</td>\n",
       "    </tr>\n",
       "    <tr>\n",
       "      <th>1</th>\n",
       "      <td>chr15</td>\n",
       "      <td>72492997</td>\n",
       "      <td>72494794</td>\n",
       "      <td>+</td>\n",
       "      <td>309</td>\n",
       "      <td>55</td>\n",
       "      <td>364</td>\n",
       "      <td>M6_04_R1.fastq.gz.polyATrim.adapterTrim.rmRep....</td>\n",
       "      <td>72494795</td>\n",
       "      <td>72492996</td>\n",
       "      <td>junction:chr15:72492997-72494794:+</td>\n",
       "    </tr>\n",
       "    <tr>\n",
       "      <th>2</th>\n",
       "      <td>chr15</td>\n",
       "      <td>72492997</td>\n",
       "      <td>72495362</td>\n",
       "      <td>+</td>\n",
       "      <td>509</td>\n",
       "      <td>0</td>\n",
       "      <td>509</td>\n",
       "      <td>M6_04_R1.fastq.gz.polyATrim.adapterTrim.rmRep....</td>\n",
       "      <td>72495363</td>\n",
       "      <td>72492996</td>\n",
       "      <td>junction:chr15:72492997-72495362:+</td>\n",
       "    </tr>\n",
       "    <tr>\n",
       "      <th>3</th>\n",
       "      <td>chr15</td>\n",
       "      <td>72494962</td>\n",
       "      <td>72499068</td>\n",
       "      <td>-</td>\n",
       "      <td>387</td>\n",
       "      <td>0</td>\n",
       "      <td>387</td>\n",
       "      <td>M6_04_R1.fastq.gz.polyATrim.adapterTrim.rmRep....</td>\n",
       "      <td>72499069</td>\n",
       "      <td>72494961</td>\n",
       "      <td>junction:chr15:72494962-72499068:-</td>\n",
       "    </tr>\n",
       "    <tr>\n",
       "      <th>4</th>\n",
       "      <td>chr15</td>\n",
       "      <td>72495530</td>\n",
       "      <td>72499068</td>\n",
       "      <td>-</td>\n",
       "      <td>654</td>\n",
       "      <td>43</td>\n",
       "      <td>697</td>\n",
       "      <td>M6_04_R1.fastq.gz.polyATrim.adapterTrim.rmRep....</td>\n",
       "      <td>72499069</td>\n",
       "      <td>72495529</td>\n",
       "      <td>junction:chr15:72495530-72499068:-</td>\n",
       "    </tr>\n",
       "    <tr>\n",
       "      <th>5</th>\n",
       "      <td>chr15</td>\n",
       "      <td>72499222</td>\n",
       "      <td>72499467</td>\n",
       "      <td>-</td>\n",
       "      <td>887</td>\n",
       "      <td>22</td>\n",
       "      <td>909</td>\n",
       "      <td>M6_04_R1.fastq.gz.polyATrim.adapterTrim.rmRep....</td>\n",
       "      <td>72499468</td>\n",
       "      <td>72499221</td>\n",
       "      <td>junction:chr15:72499222-72499467:-</td>\n",
       "    </tr>\n",
       "    <tr>\n",
       "      <th>6</th>\n",
       "      <td>chr15</td>\n",
       "      <td>72491910</td>\n",
       "      <td>72511305</td>\n",
       "      <td>-</td>\n",
       "      <td>2</td>\n",
       "      <td>0</td>\n",
       "      <td>2</td>\n",
       "      <td>P1_03_R1.fastq.gz.polyATrim.adapterTrim.rmRep....</td>\n",
       "      <td>72511306</td>\n",
       "      <td>72491909</td>\n",
       "      <td>junction:chr15:72491910-72511305:-</td>\n",
       "    </tr>\n",
       "    <tr>\n",
       "      <th>7</th>\n",
       "      <td>chr15</td>\n",
       "      <td>72492078</td>\n",
       "      <td>72492080</td>\n",
       "      <td>-</td>\n",
       "      <td>1</td>\n",
       "      <td>0</td>\n",
       "      <td>1</td>\n",
       "      <td>P1_03_R1.fastq.gz.polyATrim.adapterTrim.rmRep....</td>\n",
       "      <td>72492081</td>\n",
       "      <td>72492077</td>\n",
       "      <td>junction:chr15:72492078-72492080:-</td>\n",
       "    </tr>\n",
       "    <tr>\n",
       "      <th>8</th>\n",
       "      <td>chr15</td>\n",
       "      <td>72492098</td>\n",
       "      <td>72492814</td>\n",
       "      <td>+</td>\n",
       "      <td>199</td>\n",
       "      <td>2</td>\n",
       "      <td>201</td>\n",
       "      <td>P1_03_R1.fastq.gz.polyATrim.adapterTrim.rmRep....</td>\n",
       "      <td>72492815</td>\n",
       "      <td>72492097</td>\n",
       "      <td>junction:chr15:72492098-72492814:+</td>\n",
       "    </tr>\n",
       "    <tr>\n",
       "      <th>9</th>\n",
       "      <td>chr15</td>\n",
       "      <td>72492997</td>\n",
       "      <td>72494794</td>\n",
       "      <td>+</td>\n",
       "      <td>156</td>\n",
       "      <td>0</td>\n",
       "      <td>156</td>\n",
       "      <td>P1_03_R1.fastq.gz.polyATrim.adapterTrim.rmRep....</td>\n",
       "      <td>72494795</td>\n",
       "      <td>72492996</td>\n",
       "      <td>junction:chr15:72492997-72494794:+</td>\n",
       "    </tr>\n",
       "    <tr>\n",
       "      <th>10</th>\n",
       "      <td>chr15</td>\n",
       "      <td>72492997</td>\n",
       "      <td>72495362</td>\n",
       "      <td>-</td>\n",
       "      <td>34</td>\n",
       "      <td>6</td>\n",
       "      <td>40</td>\n",
       "      <td>P1_03_R1.fastq.gz.polyATrim.adapterTrim.rmRep....</td>\n",
       "      <td>72495363</td>\n",
       "      <td>72492996</td>\n",
       "      <td>junction:chr15:72492997-72495362:-</td>\n",
       "    </tr>\n",
       "    <tr>\n",
       "      <th>11</th>\n",
       "      <td>chr15</td>\n",
       "      <td>72494962</td>\n",
       "      <td>72499068</td>\n",
       "      <td>-</td>\n",
       "      <td>199</td>\n",
       "      <td>0</td>\n",
       "      <td>199</td>\n",
       "      <td>P1_03_R1.fastq.gz.polyATrim.adapterTrim.rmRep....</td>\n",
       "      <td>72499069</td>\n",
       "      <td>72494961</td>\n",
       "      <td>junction:chr15:72494962-72499068:-</td>\n",
       "    </tr>\n",
       "    <tr>\n",
       "      <th>12</th>\n",
       "      <td>chr15</td>\n",
       "      <td>72495530</td>\n",
       "      <td>72499068</td>\n",
       "      <td>-</td>\n",
       "      <td>45</td>\n",
       "      <td>0</td>\n",
       "      <td>45</td>\n",
       "      <td>P1_03_R1.fastq.gz.polyATrim.adapterTrim.rmRep....</td>\n",
       "      <td>72499069</td>\n",
       "      <td>72495529</td>\n",
       "      <td>junction:chr15:72495530-72499068:-</td>\n",
       "    </tr>\n",
       "    <tr>\n",
       "      <th>13</th>\n",
       "      <td>chr15</td>\n",
       "      <td>72499222</td>\n",
       "      <td>72499467</td>\n",
       "      <td>-</td>\n",
       "      <td>244</td>\n",
       "      <td>1</td>\n",
       "      <td>245</td>\n",
       "      <td>P1_03_R1.fastq.gz.polyATrim.adapterTrim.rmRep....</td>\n",
       "      <td>72499468</td>\n",
       "      <td>72499221</td>\n",
       "      <td>junction:chr15:72499222-72499467:-</td>\n",
       "    </tr>\n",
       "    <tr>\n",
       "      <th>14</th>\n",
       "      <td>chr15</td>\n",
       "      <td>72491910</td>\n",
       "      <td>72511305</td>\n",
       "      <td>-</td>\n",
       "      <td>2</td>\n",
       "      <td>0</td>\n",
       "      <td>2</td>\n",
       "      <td>P1_03_R1.fastq.gz.polyATrim.adapterTrim.rmRep....</td>\n",
       "      <td>72511306</td>\n",
       "      <td>72491909</td>\n",
       "      <td>junction:chr15:72491910-72511305:-</td>\n",
       "    </tr>\n",
       "    <tr>\n",
       "      <th>15</th>\n",
       "      <td>chr15</td>\n",
       "      <td>72492078</td>\n",
       "      <td>72492080</td>\n",
       "      <td>-</td>\n",
       "      <td>1</td>\n",
       "      <td>0</td>\n",
       "      <td>1</td>\n",
       "      <td>P1_03_R1.fastq.gz.polyATrim.adapterTrim.rmRep....</td>\n",
       "      <td>72492081</td>\n",
       "      <td>72492077</td>\n",
       "      <td>junction:chr15:72492078-72492080:-</td>\n",
       "    </tr>\n",
       "    <tr>\n",
       "      <th>16</th>\n",
       "      <td>chr15</td>\n",
       "      <td>72492098</td>\n",
       "      <td>72492814</td>\n",
       "      <td>+</td>\n",
       "      <td>199</td>\n",
       "      <td>2</td>\n",
       "      <td>201</td>\n",
       "      <td>P1_03_R1.fastq.gz.polyATrim.adapterTrim.rmRep....</td>\n",
       "      <td>72492815</td>\n",
       "      <td>72492097</td>\n",
       "      <td>junction:chr15:72492098-72492814:+</td>\n",
       "    </tr>\n",
       "    <tr>\n",
       "      <th>17</th>\n",
       "      <td>chr15</td>\n",
       "      <td>72492997</td>\n",
       "      <td>72494794</td>\n",
       "      <td>+</td>\n",
       "      <td>156</td>\n",
       "      <td>0</td>\n",
       "      <td>156</td>\n",
       "      <td>P1_03_R1.fastq.gz.polyATrim.adapterTrim.rmRep....</td>\n",
       "      <td>72494795</td>\n",
       "      <td>72492996</td>\n",
       "      <td>junction:chr15:72492997-72494794:+</td>\n",
       "    </tr>\n",
       "    <tr>\n",
       "      <th>18</th>\n",
       "      <td>chr15</td>\n",
       "      <td>72492997</td>\n",
       "      <td>72495362</td>\n",
       "      <td>-</td>\n",
       "      <td>34</td>\n",
       "      <td>6</td>\n",
       "      <td>40</td>\n",
       "      <td>P1_03_R1.fastq.gz.polyATrim.adapterTrim.rmRep....</td>\n",
       "      <td>72495363</td>\n",
       "      <td>72492996</td>\n",
       "      <td>junction:chr15:72492997-72495362:-</td>\n",
       "    </tr>\n",
       "    <tr>\n",
       "      <th>19</th>\n",
       "      <td>chr15</td>\n",
       "      <td>72494962</td>\n",
       "      <td>72499068</td>\n",
       "      <td>-</td>\n",
       "      <td>199</td>\n",
       "      <td>0</td>\n",
       "      <td>199</td>\n",
       "      <td>P1_03_R1.fastq.gz.polyATrim.adapterTrim.rmRep....</td>\n",
       "      <td>72499069</td>\n",
       "      <td>72494961</td>\n",
       "      <td>junction:chr15:72494962-72499068:-</td>\n",
       "    </tr>\n",
       "    <tr>\n",
       "      <th>20</th>\n",
       "      <td>chr15</td>\n",
       "      <td>72495530</td>\n",
       "      <td>72499068</td>\n",
       "      <td>-</td>\n",
       "      <td>45</td>\n",
       "      <td>0</td>\n",
       "      <td>45</td>\n",
       "      <td>P1_03_R1.fastq.gz.polyATrim.adapterTrim.rmRep....</td>\n",
       "      <td>72499069</td>\n",
       "      <td>72495529</td>\n",
       "      <td>junction:chr15:72495530-72499068:-</td>\n",
       "    </tr>\n",
       "    <tr>\n",
       "      <th>21</th>\n",
       "      <td>chr15</td>\n",
       "      <td>72499222</td>\n",
       "      <td>72499467</td>\n",
       "      <td>-</td>\n",
       "      <td>244</td>\n",
       "      <td>1</td>\n",
       "      <td>245</td>\n",
       "      <td>P1_03_R1.fastq.gz.polyATrim.adapterTrim.rmRep....</td>\n",
       "      <td>72499468</td>\n",
       "      <td>72499221</td>\n",
       "      <td>junction:chr15:72499222-72499467:-</td>\n",
       "    </tr>\n",
       "  </tbody>\n",
       "</table>\n",
       "</div>"
      ],
      "text/plain": [
       "    chrom  junction_start  junction_stop strand  unique_junction_reads  \\\n",
       "0   chr15        72492098       72492814      +                    901   \n",
       "1   chr15        72492997       72494794      +                    309   \n",
       "2   chr15        72492997       72495362      +                    509   \n",
       "3   chr15        72494962       72499068      -                    387   \n",
       "4   chr15        72495530       72499068      -                    654   \n",
       "5   chr15        72499222       72499467      -                    887   \n",
       "6   chr15        72491910       72511305      -                      2   \n",
       "7   chr15        72492078       72492080      -                      1   \n",
       "8   chr15        72492098       72492814      +                    199   \n",
       "9   chr15        72492997       72494794      +                    156   \n",
       "10  chr15        72492997       72495362      -                     34   \n",
       "11  chr15        72494962       72499068      -                    199   \n",
       "12  chr15        72495530       72499068      -                     45   \n",
       "13  chr15        72499222       72499467      -                    244   \n",
       "14  chr15        72491910       72511305      -                      2   \n",
       "15  chr15        72492078       72492080      -                      1   \n",
       "16  chr15        72492098       72492814      +                    199   \n",
       "17  chr15        72492997       72494794      +                    156   \n",
       "18  chr15        72492997       72495362      -                     34   \n",
       "19  chr15        72494962       72499068      -                    199   \n",
       "20  chr15        72495530       72499068      -                     45   \n",
       "21  chr15        72499222       72499467      -                    244   \n",
       "\n",
       "    multimap_junction_reads  reads  \\\n",
       "0                         8    909   \n",
       "1                        55    364   \n",
       "2                         0    509   \n",
       "3                         0    387   \n",
       "4                        43    697   \n",
       "5                        22    909   \n",
       "6                         0      2   \n",
       "7                         0      1   \n",
       "8                         2    201   \n",
       "9                         0    156   \n",
       "10                        6     40   \n",
       "11                        0    199   \n",
       "12                        0     45   \n",
       "13                        1    245   \n",
       "14                        0      2   \n",
       "15                        0      1   \n",
       "16                        2    201   \n",
       "17                        0    156   \n",
       "18                        6     40   \n",
       "19                        0    199   \n",
       "20                        0     45   \n",
       "21                        1    245   \n",
       "\n",
       "                                            sample_id  exon_start  exon_stop  \\\n",
       "0   M6_04_R1.fastq.gz.polyATrim.adapterTrim.rmRep....    72492815   72492097   \n",
       "1   M6_04_R1.fastq.gz.polyATrim.adapterTrim.rmRep....    72494795   72492996   \n",
       "2   M6_04_R1.fastq.gz.polyATrim.adapterTrim.rmRep....    72495363   72492996   \n",
       "3   M6_04_R1.fastq.gz.polyATrim.adapterTrim.rmRep....    72499069   72494961   \n",
       "4   M6_04_R1.fastq.gz.polyATrim.adapterTrim.rmRep....    72499069   72495529   \n",
       "5   M6_04_R1.fastq.gz.polyATrim.adapterTrim.rmRep....    72499468   72499221   \n",
       "6   P1_03_R1.fastq.gz.polyATrim.adapterTrim.rmRep....    72511306   72491909   \n",
       "7   P1_03_R1.fastq.gz.polyATrim.adapterTrim.rmRep....    72492081   72492077   \n",
       "8   P1_03_R1.fastq.gz.polyATrim.adapterTrim.rmRep....    72492815   72492097   \n",
       "9   P1_03_R1.fastq.gz.polyATrim.adapterTrim.rmRep....    72494795   72492996   \n",
       "10  P1_03_R1.fastq.gz.polyATrim.adapterTrim.rmRep....    72495363   72492996   \n",
       "11  P1_03_R1.fastq.gz.polyATrim.adapterTrim.rmRep....    72499069   72494961   \n",
       "12  P1_03_R1.fastq.gz.polyATrim.adapterTrim.rmRep....    72499069   72495529   \n",
       "13  P1_03_R1.fastq.gz.polyATrim.adapterTrim.rmRep....    72499468   72499221   \n",
       "14  P1_03_R1.fastq.gz.polyATrim.adapterTrim.rmRep....    72511306   72491909   \n",
       "15  P1_03_R1.fastq.gz.polyATrim.adapterTrim.rmRep....    72492081   72492077   \n",
       "16  P1_03_R1.fastq.gz.polyATrim.adapterTrim.rmRep....    72492815   72492097   \n",
       "17  P1_03_R1.fastq.gz.polyATrim.adapterTrim.rmRep....    72494795   72492996   \n",
       "18  P1_03_R1.fastq.gz.polyATrim.adapterTrim.rmRep....    72495363   72492996   \n",
       "19  P1_03_R1.fastq.gz.polyATrim.adapterTrim.rmRep....    72499069   72494961   \n",
       "20  P1_03_R1.fastq.gz.polyATrim.adapterTrim.rmRep....    72499069   72495529   \n",
       "21  P1_03_R1.fastq.gz.polyATrim.adapterTrim.rmRep....    72499468   72499221   \n",
       "\n",
       "                           junction_id  \n",
       "0   junction:chr15:72492098-72492814:+  \n",
       "1   junction:chr15:72492997-72494794:+  \n",
       "2   junction:chr15:72492997-72495362:+  \n",
       "3   junction:chr15:72494962-72499068:-  \n",
       "4   junction:chr15:72495530-72499068:-  \n",
       "5   junction:chr15:72499222-72499467:-  \n",
       "6   junction:chr15:72491910-72511305:-  \n",
       "7   junction:chr15:72492078-72492080:-  \n",
       "8   junction:chr15:72492098-72492814:+  \n",
       "9   junction:chr15:72492997-72494794:+  \n",
       "10  junction:chr15:72492997-72495362:-  \n",
       "11  junction:chr15:72494962-72499068:-  \n",
       "12  junction:chr15:72495530-72499068:-  \n",
       "13  junction:chr15:72499222-72499467:-  \n",
       "14  junction:chr15:72491910-72511305:-  \n",
       "15  junction:chr15:72492078-72492080:-  \n",
       "16  junction:chr15:72492098-72492814:+  \n",
       "17  junction:chr15:72492997-72494794:+  \n",
       "18  junction:chr15:72492997-72495362:-  \n",
       "19  junction:chr15:72494962-72499068:-  \n",
       "20  junction:chr15:72495530-72499068:-  \n",
       "21  junction:chr15:72499222-72499467:-  "
      ]
     },
     "execution_count": 76,
     "metadata": {},
     "output_type": "execute_result"
    }
   ],
   "source": [
    "reads = pd.read_csv('/oasis/tscc/scratch/obotvinnik/projects/singlecell_pnms/analysis/outrigger_v2_pkm/junctions/reads.csv')\n",
    "print(reads.shape)\n",
    "reads"
   ]
  },
  {
   "cell_type": "code",
   "execution_count": null,
   "metadata": {
    "collapsed": true
   },
   "outputs": [],
   "source": []
  }
 ],
 "metadata": {
  "kernelspec": {
   "display_name": "Python 2",
   "language": "python",
   "name": "python2"
  },
  "language_info": {
   "codemirror_mode": {
    "name": "ipython",
    "version": 2
   },
   "file_extension": ".py",
   "mimetype": "text/x-python",
   "name": "python",
   "nbconvert_exporter": "python",
   "pygments_lexer": "ipython2",
   "version": "2.7.11"
  }
 },
 "nbformat": 4,
 "nbformat_minor": 0
}
