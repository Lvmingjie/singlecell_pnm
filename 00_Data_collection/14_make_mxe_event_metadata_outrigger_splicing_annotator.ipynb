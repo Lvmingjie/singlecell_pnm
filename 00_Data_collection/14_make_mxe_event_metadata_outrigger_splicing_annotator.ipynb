{
 "cells": [
  {
   "cell_type": "code",
   "execution_count": 1,
   "metadata": {
    "collapsed": true
   },
   "outputs": [],
   "source": [
    "import pandas as pd\n",
    "from outrigger.region import Region\n",
    "from outrigger.io.gtf import SplicingAnnotator\n",
    "\n",
    "import gffutils\n",
    "\n",
    "%load_ext autoreload\n",
    "%autoreload 2 "
   ]
  },
  {
   "cell_type": "code",
   "execution_count": 2,
   "metadata": {
    "collapsed": true
   },
   "outputs": [],
   "source": [
    "import outrigger"
   ]
  },
  {
   "cell_type": "code",
   "execution_count": 3,
   "metadata": {
    "collapsed": false
   },
   "outputs": [
    {
     "data": {
      "text/plain": [
       "'/home/obotvinnik/workspace-git/outrigger/outrigger/__init__.pyc'"
      ]
     },
     "execution_count": 3,
     "metadata": {},
     "output_type": "execute_result"
    }
   ],
   "source": [
    "outrigger.__file__"
   ]
  },
  {
   "cell_type": "code",
   "execution_count": 4,
   "metadata": {
    "collapsed": false
   },
   "outputs": [
    {
     "name": "stdout",
     "output_type": "stream",
     "text": [
      "(325347, 5)\n"
     ]
    },
    {
     "data": {
      "text/html": [
       "<div>\n",
       "<table border=\"1\" class=\"dataframe\">\n",
       "  <thead>\n",
       "    <tr style=\"text-align: right;\">\n",
       "      <th></th>\n",
       "      <th>junction12</th>\n",
       "      <th>junction13</th>\n",
       "      <th>junction24</th>\n",
       "      <th>junction34</th>\n",
       "      <th>incompatible_junctions</th>\n",
       "    </tr>\n",
       "    <tr>\n",
       "      <th>event_id</th>\n",
       "      <th></th>\n",
       "      <th></th>\n",
       "      <th></th>\n",
       "      <th></th>\n",
       "      <th></th>\n",
       "    </tr>\n",
       "  </thead>\n",
       "  <tbody>\n",
       "    <tr>\n",
       "      <th>isoform1=junction:chr17:75212018-75212222:+@novel_exon:chr17:75212223-75212300:+@junction:chr17:75212301-75212326:+|isoform2=junction:chr17:75212018-75212131:+@novel_exon:chr17:75212132-75212144:+@junction:chr17:75212145-75212326:+</th>\n",
       "      <td>junction:chr17:75212018-75212131:+</td>\n",
       "      <td>junction:chr17:75212018-75212222:+</td>\n",
       "      <td>junction:chr17:75212145-75212326:+</td>\n",
       "      <td>junction:chr17:75212301-75212326:+</td>\n",
       "      <td>junction:chr17:75212018-75212326:+|junction:ch...</td>\n",
       "    </tr>\n",
       "    <tr>\n",
       "      <th>isoform1=junction:chr17:75212018-75212222:+@novel_exon:chr17:75212223-75212287:+@junction:chr17:75212288-75212326:+|isoform2=junction:chr17:75212018-75212079:+@novel_exon:chr17:75212080-75212144:+@junction:chr17:75212145-75212326:+</th>\n",
       "      <td>junction:chr17:75212018-75212079:+</td>\n",
       "      <td>junction:chr17:75212018-75212222:+</td>\n",
       "      <td>junction:chr17:75212145-75212326:+</td>\n",
       "      <td>junction:chr17:75212288-75212326:+</td>\n",
       "      <td>junction:chr17:75212018-75212326:+|junction:ch...</td>\n",
       "    </tr>\n",
       "  </tbody>\n",
       "</table>\n",
       "</div>"
      ],
      "text/plain": [
       "                                                                            junction12  \\\n",
       "event_id                                                                                 \n",
       "isoform1=junction:chr17:75212018-75212222:+@nov...  junction:chr17:75212018-75212131:+   \n",
       "isoform1=junction:chr17:75212018-75212222:+@nov...  junction:chr17:75212018-75212079:+   \n",
       "\n",
       "                                                                            junction13  \\\n",
       "event_id                                                                                 \n",
       "isoform1=junction:chr17:75212018-75212222:+@nov...  junction:chr17:75212018-75212222:+   \n",
       "isoform1=junction:chr17:75212018-75212222:+@nov...  junction:chr17:75212018-75212222:+   \n",
       "\n",
       "                                                                            junction24  \\\n",
       "event_id                                                                                 \n",
       "isoform1=junction:chr17:75212018-75212222:+@nov...  junction:chr17:75212145-75212326:+   \n",
       "isoform1=junction:chr17:75212018-75212222:+@nov...  junction:chr17:75212145-75212326:+   \n",
       "\n",
       "                                                                            junction34  \\\n",
       "event_id                                                                                 \n",
       "isoform1=junction:chr17:75212018-75212222:+@nov...  junction:chr17:75212301-75212326:+   \n",
       "isoform1=junction:chr17:75212018-75212222:+@nov...  junction:chr17:75212288-75212326:+   \n",
       "\n",
       "                                                                               incompatible_junctions  \n",
       "event_id                                                                                               \n",
       "isoform1=junction:chr17:75212018-75212222:+@nov...  junction:chr17:75212018-75212326:+|junction:ch...  \n",
       "isoform1=junction:chr17:75212018-75212222:+@nov...  junction:chr17:75212018-75212326:+|junction:ch...  "
      ]
     },
     "execution_count": 4,
     "metadata": {},
     "output_type": "execute_result"
    }
   ],
   "source": [
    "mxe_events = pd.read_csv('/home/obotvinnik/projects/singlecell_pnms/analysis/outrigger_v2/index/mxe/events.csv', index_col=0)\n",
    "print(mxe_events.shape)\n",
    "mxe_events.head(2)"
   ]
  },
  {
   "cell_type": "code",
   "execution_count": 5,
   "metadata": {
    "collapsed": false
   },
   "outputs": [
    {
     "name": "stdout",
     "output_type": "stream",
     "text": [
      "(18257, 5)\n"
     ]
    },
    {
     "data": {
      "text/html": [
       "<div>\n",
       "<table border=\"1\" class=\"dataframe\">\n",
       "  <thead>\n",
       "    <tr style=\"text-align: right;\">\n",
       "      <th></th>\n",
       "      <th>junction12</th>\n",
       "      <th>junction13</th>\n",
       "      <th>junction24</th>\n",
       "      <th>junction34</th>\n",
       "      <th>incompatible_junctions</th>\n",
       "    </tr>\n",
       "    <tr>\n",
       "      <th>event_id</th>\n",
       "      <th></th>\n",
       "      <th></th>\n",
       "      <th></th>\n",
       "      <th></th>\n",
       "      <th></th>\n",
       "    </tr>\n",
       "  </thead>\n",
       "  <tbody>\n",
       "    <tr>\n",
       "      <th>isoform1=junction:chr17:75212018-75212222:+@novel_exon:chr17:75212223-75212300:+@junction:chr17:75212301-75212326:+|isoform2=junction:chr17:75212018-75212131:+@novel_exon:chr17:75212132-75212144:+@junction:chr17:75212145-75212326:+</th>\n",
       "      <td>junction:chr17:75212018-75212131:+</td>\n",
       "      <td>junction:chr17:75212018-75212222:+</td>\n",
       "      <td>junction:chr17:75212145-75212326:+</td>\n",
       "      <td>junction:chr17:75212301-75212326:+</td>\n",
       "      <td>junction:chr17:75212018-75212326:+|junction:ch...</td>\n",
       "    </tr>\n",
       "    <tr>\n",
       "      <th>isoform1=junction:chr17:75212018-75212222:+@novel_exon:chr17:75212223-75212287:+@junction:chr17:75212288-75212326:+|isoform2=junction:chr17:75212018-75212079:+@novel_exon:chr17:75212080-75212144:+@junction:chr17:75212145-75212326:+</th>\n",
       "      <td>junction:chr17:75212018-75212079:+</td>\n",
       "      <td>junction:chr17:75212018-75212222:+</td>\n",
       "      <td>junction:chr17:75212145-75212326:+</td>\n",
       "      <td>junction:chr17:75212288-75212326:+</td>\n",
       "      <td>junction:chr17:75212018-75212326:+|junction:ch...</td>\n",
       "    </tr>\n",
       "  </tbody>\n",
       "</table>\n",
       "</div>"
      ],
      "text/plain": [
       "                                                                            junction12  \\\n",
       "event_id                                                                                 \n",
       "isoform1=junction:chr17:75212018-75212222:+@nov...  junction:chr17:75212018-75212131:+   \n",
       "isoform1=junction:chr17:75212018-75212222:+@nov...  junction:chr17:75212018-75212079:+   \n",
       "\n",
       "                                                                            junction13  \\\n",
       "event_id                                                                                 \n",
       "isoform1=junction:chr17:75212018-75212222:+@nov...  junction:chr17:75212018-75212222:+   \n",
       "isoform1=junction:chr17:75212018-75212222:+@nov...  junction:chr17:75212018-75212222:+   \n",
       "\n",
       "                                                                            junction24  \\\n",
       "event_id                                                                                 \n",
       "isoform1=junction:chr17:75212018-75212222:+@nov...  junction:chr17:75212145-75212326:+   \n",
       "isoform1=junction:chr17:75212018-75212222:+@nov...  junction:chr17:75212145-75212326:+   \n",
       "\n",
       "                                                                            junction34  \\\n",
       "event_id                                                                                 \n",
       "isoform1=junction:chr17:75212018-75212222:+@nov...  junction:chr17:75212301-75212326:+   \n",
       "isoform1=junction:chr17:75212018-75212222:+@nov...  junction:chr17:75212288-75212326:+   \n",
       "\n",
       "                                                                               incompatible_junctions  \n",
       "event_id                                                                                               \n",
       "isoform1=junction:chr17:75212018-75212222:+@nov...  junction:chr17:75212018-75212326:+|junction:ch...  \n",
       "isoform1=junction:chr17:75212018-75212222:+@nov...  junction:chr17:75212018-75212326:+|junction:ch...  "
      ]
     },
     "execution_count": 5,
     "metadata": {},
     "output_type": "execute_result"
    }
   ],
   "source": [
    "# mxe_events_not_duplicated = mxe_events.drop_duplicates()\n",
    "# print(mxe_events_not_duplicated.shape)\n",
    "# mxe_events_not_duplicated.head(2)"
   ]
  },
  {
   "cell_type": "code",
   "execution_count": 5,
   "metadata": {
    "collapsed": false
   },
   "outputs": [
    {
     "name": "stdout",
     "output_type": "stream",
     "text": [
      "(325347, 4)\n",
      "CPU times: user 2min 43s, sys: 913 ms, total: 2min 44s\n",
      "Wall time: 2min 45s\n"
     ]
    }
   ],
   "source": [
    "%%time\n",
    "mxe_exon_bed_template = '/home/obotvinnik/projects/singlecell_pnms/analysis/outrigger_v2/index/mxe/exon{}.bed'\n",
    "\n",
    "exons = {}\n",
    "\n",
    "for i in range(1, 5):\n",
    "    exon = 'exon{}'.format(i)\n",
    "    bed = mxe_exon_bed_template.format(i)\n",
    "    exon_df = pd.read_table(bed, names=['chrom', 'start', 'stop', 'name', 'score', 'strand'])\n",
    "    exon_regions = exon_df.apply(lambda row: Region('exon:{chrom}:{start}-{stop}:{strand}'.format(\n",
    "                chrom=row.chrom, start=row.start+1, stop=row.stop, strand=row.strand)), axis=1)\n",
    "    exons[exon] = exon_regions\n",
    "exon_regions_df = pd.DataFrame(exons)\n",
    "print(exon_regions_df.shape)\n",
    "exon_regions_df.head()"
   ]
  },
  {
   "cell_type": "code",
   "execution_count": 6,
   "metadata": {
    "collapsed": false
   },
   "outputs": [
    {
     "name": "stdout",
     "output_type": "stream",
     "text": [
      "(325347, 4)\n"
     ]
    },
    {
     "data": {
      "text/html": [
       "<div>\n",
       "<table border=\"1\" class=\"dataframe\">\n",
       "  <thead>\n",
       "    <tr style=\"text-align: right;\">\n",
       "      <th></th>\n",
       "      <th>exon1</th>\n",
       "      <th>exon2</th>\n",
       "      <th>exon3</th>\n",
       "      <th>exon4</th>\n",
       "    </tr>\n",
       "  </thead>\n",
       "  <tbody>\n",
       "    <tr>\n",
       "      <th>0</th>\n",
       "      <td>exon:chr17:75211927-75212017:+</td>\n",
       "      <td>exon:chr17:75212132-75212144:+</td>\n",
       "      <td>exon:chr17:75212223-75212300:+</td>\n",
       "      <td>exon:chr17:75212327-75212352:+</td>\n",
       "    </tr>\n",
       "    <tr>\n",
       "      <th>1</th>\n",
       "      <td>exon:chr17:75211940-75212017:+</td>\n",
       "      <td>exon:chr17:75212080-75212144:+</td>\n",
       "      <td>exon:chr17:75212223-75212287:+</td>\n",
       "      <td>exon:chr17:75212327-75212417:+</td>\n",
       "    </tr>\n",
       "    <tr>\n",
       "      <th>2</th>\n",
       "      <td>exon:chr17:75212005-75212079:+</td>\n",
       "      <td>exon:chr17:75212171-75212209:+</td>\n",
       "      <td>exon:chr17:75212210-75212300:+</td>\n",
       "      <td>exon:chr17:75212379-75212391:+</td>\n",
       "    </tr>\n",
       "    <tr>\n",
       "      <th>3</th>\n",
       "      <td>exon:chr17:75211979-75212017:+</td>\n",
       "      <td>exon:chr17:75212132-75212157:+</td>\n",
       "      <td>exon:chr17:75212158-75212222:+</td>\n",
       "      <td>exon:chr17:75212275-75212300:+</td>\n",
       "    </tr>\n",
       "    <tr>\n",
       "      <th>4</th>\n",
       "      <td>exon:chr5:180670692-180670872:-</td>\n",
       "      <td>exon:chr5:180669170-180669234:-</td>\n",
       "      <td>exon:chr5:180668492-180668639:-</td>\n",
       "      <td>exon:chr5:180666517-180666582:-</td>\n",
       "    </tr>\n",
       "  </tbody>\n",
       "</table>\n",
       "</div>"
      ],
      "text/plain": [
       "                             exon1                            exon2  \\\n",
       "0   exon:chr17:75211927-75212017:+   exon:chr17:75212132-75212144:+   \n",
       "1   exon:chr17:75211940-75212017:+   exon:chr17:75212080-75212144:+   \n",
       "2   exon:chr17:75212005-75212079:+   exon:chr17:75212171-75212209:+   \n",
       "3   exon:chr17:75211979-75212017:+   exon:chr17:75212132-75212157:+   \n",
       "4  exon:chr5:180670692-180670872:-  exon:chr5:180669170-180669234:-   \n",
       "\n",
       "                             exon3                            exon4  \n",
       "0   exon:chr17:75212223-75212300:+   exon:chr17:75212327-75212352:+  \n",
       "1   exon:chr17:75212223-75212287:+   exon:chr17:75212327-75212417:+  \n",
       "2   exon:chr17:75212210-75212300:+   exon:chr17:75212379-75212391:+  \n",
       "3   exon:chr17:75212158-75212222:+   exon:chr17:75212275-75212300:+  \n",
       "4  exon:chr5:180668492-180668639:-  exon:chr5:180666517-180666582:-  "
      ]
     },
     "execution_count": 6,
     "metadata": {},
     "output_type": "execute_result"
    }
   ],
   "source": [
    "exon_str = exon_regions_df.applymap(lambda x: x.name)\n",
    "print(exon_str.shape)\n",
    "exon_str.head()"
   ]
  },
  {
   "cell_type": "code",
   "execution_count": 7,
   "metadata": {
    "collapsed": false
   },
   "outputs": [
    {
     "name": "stdout",
     "output_type": "stream",
     "text": [
      "(325347, 4)\n"
     ]
    },
    {
     "data": {
      "text/html": [
       "<div>\n",
       "<table border=\"1\" class=\"dataframe\">\n",
       "  <thead>\n",
       "    <tr style=\"text-align: right;\">\n",
       "      <th></th>\n",
       "      <th>exon1</th>\n",
       "      <th>exon2</th>\n",
       "      <th>exon3</th>\n",
       "      <th>exon4</th>\n",
       "    </tr>\n",
       "  </thead>\n",
       "  <tbody>\n",
       "    <tr>\n",
       "      <th>0</th>\n",
       "      <td>exon:chr17:75211927-75212017:+</td>\n",
       "      <td>exon:chr17:75212132-75212144:+</td>\n",
       "      <td>exon:chr17:75212223-75212300:+</td>\n",
       "      <td>exon:chr17:75212327-75212352:+</td>\n",
       "    </tr>\n",
       "    <tr>\n",
       "      <th>1</th>\n",
       "      <td>exon:chr17:75211940-75212017:+</td>\n",
       "      <td>exon:chr17:75212080-75212144:+</td>\n",
       "      <td>exon:chr17:75212223-75212287:+</td>\n",
       "      <td>exon:chr17:75212327-75212417:+</td>\n",
       "    </tr>\n",
       "    <tr>\n",
       "      <th>2</th>\n",
       "      <td>exon:chr17:75212005-75212079:+</td>\n",
       "      <td>exon:chr17:75212171-75212209:+</td>\n",
       "      <td>exon:chr17:75212210-75212300:+</td>\n",
       "      <td>exon:chr17:75212379-75212391:+</td>\n",
       "    </tr>\n",
       "    <tr>\n",
       "      <th>3</th>\n",
       "      <td>exon:chr17:75211979-75212017:+</td>\n",
       "      <td>exon:chr17:75212132-75212157:+</td>\n",
       "      <td>exon:chr17:75212158-75212222:+</td>\n",
       "      <td>exon:chr17:75212275-75212300:+</td>\n",
       "    </tr>\n",
       "    <tr>\n",
       "      <th>4</th>\n",
       "      <td>exon:chr5:180670692-180670872:-</td>\n",
       "      <td>exon:chr5:180669170-180669234:-</td>\n",
       "      <td>exon:chr5:180668492-180668639:-</td>\n",
       "      <td>exon:chr5:180666517-180666582:-</td>\n",
       "    </tr>\n",
       "  </tbody>\n",
       "</table>\n",
       "</div>"
      ],
      "text/plain": [
       "                             exon1                            exon2  \\\n",
       "0   exon:chr17:75211927-75212017:+   exon:chr17:75212132-75212144:+   \n",
       "1   exon:chr17:75211940-75212017:+   exon:chr17:75212080-75212144:+   \n",
       "2   exon:chr17:75212005-75212079:+   exon:chr17:75212171-75212209:+   \n",
       "3   exon:chr17:75211979-75212017:+   exon:chr17:75212132-75212157:+   \n",
       "4  exon:chr5:180670692-180670872:-  exon:chr5:180669170-180669234:-   \n",
       "\n",
       "                             exon3                            exon4  \n",
       "0   exon:chr17:75212223-75212300:+   exon:chr17:75212327-75212352:+  \n",
       "1   exon:chr17:75212223-75212287:+   exon:chr17:75212327-75212417:+  \n",
       "2   exon:chr17:75212210-75212300:+   exon:chr17:75212379-75212391:+  \n",
       "3   exon:chr17:75212158-75212222:+   exon:chr17:75212275-75212300:+  \n",
       "4  exon:chr5:180668492-180668639:-  exon:chr5:180666517-180666582:-  "
      ]
     },
     "execution_count": 7,
     "metadata": {},
     "output_type": "execute_result"
    }
   ],
   "source": [
    "exon_str_not_duplicated = exon_str.drop_duplicates()\n",
    "print(exon_str_not_duplicated.shape)\n",
    "exon_str_not_duplicated.head()"
   ]
  },
  {
   "cell_type": "code",
   "execution_count": 8,
   "metadata": {
    "collapsed": false
   },
   "outputs": [
    {
     "name": "stdout",
     "output_type": "stream",
     "text": [
      "(325347, 4)\n"
     ]
    },
    {
     "data": {
      "text/html": [
       "<div>\n",
       "<table border=\"1\" class=\"dataframe\">\n",
       "  <thead>\n",
       "    <tr style=\"text-align: right;\">\n",
       "      <th></th>\n",
       "      <th>exon1</th>\n",
       "      <th>exon2</th>\n",
       "      <th>exon3</th>\n",
       "      <th>exon4</th>\n",
       "    </tr>\n",
       "    <tr>\n",
       "      <th>event_id</th>\n",
       "      <th></th>\n",
       "      <th></th>\n",
       "      <th></th>\n",
       "      <th></th>\n",
       "    </tr>\n",
       "  </thead>\n",
       "  <tbody>\n",
       "    <tr>\n",
       "      <th>isoform1=junction:chr17:75212018-75212222:+@novel_exon:chr17:75212223-75212300:+@junction:chr17:75212301-75212326:+|isoform2=junction:chr17:75212018-75212131:+@novel_exon:chr17:75212132-75212144:+@junction:chr17:75212145-75212326:+</th>\n",
       "      <td>exon:chr17:75211927-75212017:+</td>\n",
       "      <td>exon:chr17:75212132-75212144:+</td>\n",
       "      <td>exon:chr17:75212223-75212300:+</td>\n",
       "      <td>exon:chr17:75212327-75212352:+</td>\n",
       "    </tr>\n",
       "    <tr>\n",
       "      <th>isoform1=junction:chr17:75212018-75212222:+@novel_exon:chr17:75212223-75212287:+@junction:chr17:75212288-75212326:+|isoform2=junction:chr17:75212018-75212079:+@novel_exon:chr17:75212080-75212144:+@junction:chr17:75212145-75212326:+</th>\n",
       "      <td>exon:chr17:75211940-75212017:+</td>\n",
       "      <td>exon:chr17:75212080-75212144:+</td>\n",
       "      <td>exon:chr17:75212223-75212287:+</td>\n",
       "      <td>exon:chr17:75212327-75212417:+</td>\n",
       "    </tr>\n",
       "  </tbody>\n",
       "</table>\n",
       "</div>"
      ],
      "text/plain": [
       "                                                                             exon1  \\\n",
       "event_id                                                                             \n",
       "isoform1=junction:chr17:75212018-75212222:+@nov...  exon:chr17:75211927-75212017:+   \n",
       "isoform1=junction:chr17:75212018-75212222:+@nov...  exon:chr17:75211940-75212017:+   \n",
       "\n",
       "                                                                             exon2  \\\n",
       "event_id                                                                             \n",
       "isoform1=junction:chr17:75212018-75212222:+@nov...  exon:chr17:75212132-75212144:+   \n",
       "isoform1=junction:chr17:75212018-75212222:+@nov...  exon:chr17:75212080-75212144:+   \n",
       "\n",
       "                                                                             exon3  \\\n",
       "event_id                                                                             \n",
       "isoform1=junction:chr17:75212018-75212222:+@nov...  exon:chr17:75212223-75212300:+   \n",
       "isoform1=junction:chr17:75212018-75212222:+@nov...  exon:chr17:75212223-75212287:+   \n",
       "\n",
       "                                                                             exon4  \n",
       "event_id                                                                            \n",
       "isoform1=junction:chr17:75212018-75212222:+@nov...  exon:chr17:75212327-75212352:+  \n",
       "isoform1=junction:chr17:75212018-75212222:+@nov...  exon:chr17:75212327-75212417:+  "
      ]
     },
     "execution_count": 8,
     "metadata": {},
     "output_type": "execute_result"
    }
   ],
   "source": [
    "exon_str.index = mxe_events.index\n",
    "print(exon_str.shape)\n",
    "exon_str.head(2)"
   ]
  },
  {
   "cell_type": "markdown",
   "metadata": {
    "collapsed": true
   },
   "source": [
    "## Use outrigger's `SplicingAnnotator`\n"
   ]
  },
  {
   "cell_type": "code",
   "execution_count": 9,
   "metadata": {
    "collapsed": true
   },
   "outputs": [],
   "source": [
    "\n",
    "outrigger_folder = '/projects/ps-yeolab/obotvinnik/singlecell_pnms/outrigger_v2'\n",
    "\n",
    "db_filename = '{}/index/gtf/gencode.v19.annotation.gtf.db'.format(outrigger_folder)\n",
    "\n",
    "db = gffutils.FeatureDB(db_filename)"
   ]
  },
  {
   "cell_type": "code",
   "execution_count": 10,
   "metadata": {
    "collapsed": false
   },
   "outputs": [],
   "source": [
    "splicing_annotator = SplicingAnnotator(db, events=exon_str, splice_type='mxe')"
   ]
  },
  {
   "cell_type": "code",
   "execution_count": 12,
   "metadata": {
    "collapsed": false
   },
   "outputs": [
    {
     "data": {
      "text/plain": [
       "[0, 1, 2]"
      ]
     },
     "execution_count": 12,
     "metadata": {},
     "output_type": "execute_result"
    }
   ],
   "source": [
    "range(3)"
   ]
  },
  {
   "cell_type": "code",
   "execution_count": 13,
   "metadata": {
    "collapsed": false
   },
   "outputs": [
    {
     "data": {
      "text/plain": [
       "6"
      ]
     },
     "execution_count": 13,
     "metadata": {},
     "output_type": "execute_result"
    }
   ],
   "source": [
    "3+3"
   ]
  },
  {
   "cell_type": "code",
   "execution_count": null,
   "metadata": {
    "collapsed": false
   },
   "outputs": [],
   "source": [
    "attributes = splicing_annotator.attributes()"
   ]
  },
  {
   "cell_type": "code",
   "execution_count": null,
   "metadata": {
    "collapsed": false
   },
   "outputs": [],
   "source": [
    "list(db.region('chr17:75211927-75212017', featuretype='exon'))"
   ]
  },
  {
   "cell_type": "code",
   "execution_count": null,
   "metadata": {
    "collapsed": false
   },
   "outputs": [],
   "source": [
    "list(db.region('chr17:75211927-75212017', featuretype='gene'))"
   ]
  },
  {
   "cell_type": "code",
   "execution_count": null,
   "metadata": {
    "collapsed": true
   },
   "outputs": [],
   "source": []
  }
 ],
 "metadata": {
  "kernelspec": {
   "display_name": "Python 2",
   "language": "python",
   "name": "python2"
  },
  "language_info": {
   "codemirror_mode": {
    "name": "ipython",
    "version": 2
   },
   "file_extension": ".py",
   "mimetype": "text/x-python",
   "name": "python",
   "nbconvert_exporter": "python",
   "pygments_lexer": "ipython2",
   "version": "2.7.11"
  }
 },
 "nbformat": 4,
 "nbformat_minor": 0
}
