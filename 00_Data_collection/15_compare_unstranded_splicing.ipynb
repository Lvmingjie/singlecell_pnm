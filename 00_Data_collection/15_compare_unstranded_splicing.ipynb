{
 "cells": [
  {
   "cell_type": "code",
   "execution_count": 2,
   "metadata": {
    "collapsed": false
   },
   "outputs": [
    {
     "name": "stdout",
     "output_type": "stream",
     "text": [
      "{\n",
      "  \"stdin_port\": 41393, \n",
      "  \"ip\": \"127.0.0.1\", \n",
      "  \"control_port\": 49714, \n",
      "  \"hb_port\": 55932, \n",
      "  \"signature_scheme\": \"hmac-sha256\", \n",
      "  \"key\": \"b3fdf7d2-2b0e-4043-bab9-f32f58fe6482\", \n",
      "  \"shell_port\": 57709, \n",
      "  \"transport\": \"tcp\", \n",
      "  \"iopub_port\": 45087\n",
      "}\n",
      "\n",
      "Paste the above JSON into a file, and connect with:\n",
      "    $> ipython <app> --existing <file>\n",
      "or, if you are local, you can connect with just:\n",
      "    $> ipython <app> --existing /home/obotvinnik/.local/share/jupyter/runtime/kernel-8711ba68-c7ce-49a6-8d33-e6d9799e7b54.json \n",
      "or even just:\n",
      "    $> ipython <app> --existing \n",
      "if this is the most recent IPython session you have started.\n"
     ]
    }
   ],
   "source": [
    "%connect_info  #prints connection information\n",
    "%qtconsole  "
   ]
  },
  {
   "cell_type": "code",
   "execution_count": 3,
   "metadata": {
    "collapsed": false
   },
   "outputs": [
    {
     "data": {
      "application/javascript": [
       "IPython.notebook.kernel.execute(\"theNotebook = \" +     \"'\"+IPython.notebook.notebook_name+\"'\");"
      ],
      "text/plain": [
       "<IPython.core.display.Javascript object>"
      ]
     },
     "metadata": {},
     "output_type": "display_data"
    },
    {
     "ename": "NameError",
     "evalue": "global name 'theNotebook' is not defined",
     "output_type": "error",
     "traceback": [
      "\u001b[1;31m---------------------------------------------------------------------------\u001b[0m",
      "\u001b[1;31mNameError\u001b[0m                                 Traceback (most recent call last)",
      "\u001b[1;32m<ipython-input-3-7899833c81ec>\u001b[0m in \u001b[0;36m<module>\u001b[1;34m()\u001b[0m\n\u001b[0;32m      7\u001b[0m \u001b[1;33m\u001b[0m\u001b[0m\n\u001b[0;32m      8\u001b[0m \u001b[1;31m# Jakob\u001b[0m\u001b[1;33m\u001b[0m\u001b[1;33m\u001b[0m\u001b[0m\n\u001b[1;32m----> 9\u001b[1;33m \u001b[0mnotebook_name\u001b[0m \u001b[1;33m=\u001b[0m \u001b[0mgetname\u001b[0m\u001b[1;33m(\u001b[0m\u001b[1;33m)\u001b[0m\u001b[1;33m\u001b[0m\u001b[0m\n\u001b[0m",
      "\u001b[1;32m<ipython-input-3-7899833c81ec>\u001b[0m in \u001b[0;36mgetname\u001b[1;34m()\u001b[0m\n\u001b[0;32m      4\u001b[0m \u001b[1;32mdef\u001b[0m \u001b[0mgetname\u001b[0m\u001b[1;33m(\u001b[0m\u001b[1;33m)\u001b[0m\u001b[1;33m:\u001b[0m\u001b[1;33m\u001b[0m\u001b[0m\n\u001b[0;32m      5\u001b[0m     \u001b[0mdisplay\u001b[0m\u001b[1;33m(\u001b[0m\u001b[0mJavascript\u001b[0m\u001b[1;33m(\u001b[0m\u001b[1;34m'IPython.notebook.kernel.execute(\"theNotebook = \" +     \"\\'\"+IPython.notebook.notebook_name+\"\\'\");'\u001b[0m\u001b[1;33m)\u001b[0m\u001b[1;33m)\u001b[0m\u001b[1;33m\u001b[0m\u001b[0m\n\u001b[1;32m----> 6\u001b[1;33m     \u001b[1;32mreturn\u001b[0m \u001b[0mtheNotebook\u001b[0m\u001b[1;33m\u001b[0m\u001b[0m\n\u001b[0m\u001b[0;32m      7\u001b[0m \u001b[1;33m\u001b[0m\u001b[0m\n\u001b[0;32m      8\u001b[0m \u001b[1;31m# Jakob\u001b[0m\u001b[1;33m\u001b[0m\u001b[1;33m\u001b[0m\u001b[0m\n",
      "\u001b[1;31mNameError\u001b[0m: global name 'theNotebook' is not defined"
     ]
    }
   ],
   "source": [
    "from IPython.core.display import Javascript\n",
    "from IPython.display import display\n",
    "\n",
    "def getname():\n",
    "    display(Javascript('IPython.notebook.kernel.execute(\"theNotebook = \" + \\\n",
    "    \"\\'\"+IPython.notebook.notebook_name+\"\\'\");'))\n",
    "    return theNotebook\n",
    "\n",
    "# Jakob\n",
    "notebook_name = getname()"
   ]
  },
  {
   "cell_type": "code",
   "execution_count": null,
   "metadata": {
    "collapsed": false
   },
   "outputs": [],
   "source": [
    "figure_folder = 'figures/{}'.format(notebook_name.split('.ipynb')[0])\n",
    "! mkdir -p $figure_folder\n",
    "figure_folder"
   ]
  },
  {
   "cell_type": "code",
   "execution_count": null,
   "metadata": {
    "collapsed": true
   },
   "outputs": [],
   "source": [
    "from __future__ import print_function"
   ]
  },
  {
   "cell_type": "code",
   "execution_count": null,
   "metadata": {
    "collapsed": false
   },
   "outputs": [],
   "source": [
    "import pandas as pd\n",
    "import matplotlib.pyplot as plt\n",
    "import seaborn as sns\n",
    "\n",
    "%matplotlib inline\n",
    "\n",
    "sns.set(style='white', context='paper', rc={'font.sans-serif':'Arial', 'pdf.fonttype': 42})"
   ]
  },
  {
   "cell_type": "code",
   "execution_count": null,
   "metadata": {
    "collapsed": false
   },
   "outputs": [],
   "source": [
    "cd /home/obotvinnik/projects/singlecell_pnms/analysis/"
   ]
  },
  {
   "cell_type": "code",
   "execution_count": null,
   "metadata": {
    "collapsed": false
   },
   "outputs": [],
   "source": [
    "! tree outrigger_v2_bam_unstranded"
   ]
  },
  {
   "cell_type": "code",
   "execution_count": null,
   "metadata": {
    "collapsed": false
   },
   "outputs": [],
   "source": [
    "! wc -l outrigger_v2_bam/junctions/reads.csv"
   ]
  },
  {
   "cell_type": "code",
   "execution_count": null,
   "metadata": {
    "collapsed": false
   },
   "outputs": [],
   "source": [
    "! wc -l outrigger_v2/junctions/reads.csv"
   ]
  },
  {
   "cell_type": "markdown",
   "metadata": {},
   "source": [
    "Why are these different?"
   ]
  },
  {
   "cell_type": "code",
   "execution_count": null,
   "metadata": {
    "collapsed": true
   },
   "outputs": [],
   "source": [
    "names_to_directories = {'unstranded': 'outrigger_v2_bam_unstranded', \n",
    "                        'stranded_bam': 'outrigger_v2_bam', \n",
    "                        'stranded': 'outrigger_v2',\n",
    "                        'stranded_rmdup': 'outrigger_v2_rmdup',\n",
    "                        'unstranded_rmdup': 'outrigger_v2_rmdup_unstranded'}"
   ]
  },
  {
   "cell_type": "code",
   "execution_count": null,
   "metadata": {
    "collapsed": true
   },
   "outputs": [],
   "source": [
    "psis = {}\n",
    "\n",
    "for name, directory in names_to_directories.items():\n",
    "    psis[name] = pd.read_csv('{}/psi/outrigger_psi.csv'.format(directory), index_col=0)\n"
   ]
  },
  {
   "cell_type": "code",
   "execution_count": null,
   "metadata": {
    "collapsed": false
   },
   "outputs": [],
   "source": [
    "dfs = []\n",
    "\n",
    "for name, directory in names_to_directories.items():\n",
    "    print(name, directory)\n",
    "    se = pd.read_csv('{}/psi/se/summary.csv'.format(directory))\n",
    "    mxe = pd.read_csv('{}/psi/mxe/summary.csv'.format(directory))\n",
    "    df = pd.concat([se, mxe], ignore_index=True)\n",
    "    print('\\t', df.shape)\n",
    "    df['sample_id'] = df['sample_id'].map(lambda x: '_'.join(x.split('_')[:2]))\n",
    "    df['dataset'] = name\n",
    "    dfs.append(df)\n",
    "summary = pd.concat(dfs, ignore_index=True)\n",
    "#     summaries[name] = summary\n",
    "\n",
    "print(summary.shape)\n",
    "summary.head()"
   ]
  },
  {
   "cell_type": "code",
   "execution_count": null,
   "metadata": {
    "collapsed": false
   },
   "outputs": [],
   "source": [
    "%time summary_dropna = summary.groupby(['dataset', 'event_id']).apply(lambda x: x.dropna(subset=['psi'], how='all'))\n",
    "print(summary_dropna.shape)\n",
    "summary_dropna.head()"
   ]
  },
  {
   "cell_type": "code",
   "execution_count": null,
   "metadata": {
    "collapsed": false
   },
   "outputs": [],
   "source": [
    "# %time summary_dropna = summary.groupby(['dataset', 'sample_id', 'event_id']).apply(lambda x: x.dropna(subset=['psi'], how='all'))\n",
    "# print(summary_dropna.shape)\n",
    "# summary_dropna.head()"
   ]
  },
  {
   "cell_type": "code",
   "execution_count": null,
   "metadata": {
    "collapsed": false
   },
   "outputs": [],
   "source": [
    "wide_psi = summary_dropna.pivot_table(index=['sample_id', 'event_id'], columns='dataset', values='psi')\n",
    "print(wide_psi.shape)\n",
    "wide_psi = wide_psi.dropna(how='all')\n",
    "print(wide_psi.shape)\n",
    "wide_psi.head()"
   ]
  },
  {
   "cell_type": "code",
   "execution_count": null,
   "metadata": {
    "collapsed": false
   },
   "outputs": [],
   "source": [
    "rps24_event = 'isoform1=junction:chr10:79797063-79800372:+|'\\\n",
    "'isoform2=junction:chr10:79797063-79799961:+@exon:chr10:79799962-79799983:+@junction:chr10:79799984-79800372:+'\n",
    "rps24_event"
   ]
  },
  {
   "cell_type": "code",
   "execution_count": null,
   "metadata": {
    "collapsed": false
   },
   "outputs": [],
   "source": [
    "pkm_mxe_event = u'isoform1=junction:chr15:72494962-72499068:-@exon:chr15:72494795-72494961:-@junction:chr15:72492997-72494794:-'\\\n",
    "'|isoform2=junction:chr15:72495530-72499068:-@exon:chr15:72495363-72495529:-@junction:chr15:72492997-72495362:-'\n",
    "pkm_mxe_event"
   ]
  },
  {
   "cell_type": "code",
   "execution_count": null,
   "metadata": {
    "collapsed": true
   },
   "outputs": [],
   "source": [
    "idx = pd.IndexSlice"
   ]
  },
  {
   "cell_type": "code",
   "execution_count": null,
   "metadata": {
    "collapsed": true
   },
   "outputs": [],
   "source": [
    "sample_ids = ['M6_04', 'P1_03']"
   ]
  },
  {
   "cell_type": "code",
   "execution_count": null,
   "metadata": {
    "collapsed": false
   },
   "outputs": [],
   "source": [
    "wide_psi.loc[idx[:, rps24_event], :].head()"
   ]
  },
  {
   "cell_type": "code",
   "execution_count": null,
   "metadata": {
    "collapsed": false,
    "scrolled": false
   },
   "outputs": [],
   "source": [
    "wide_psi.loc[idx[sample_ids, rps24_event], :]"
   ]
  },
  {
   "cell_type": "code",
   "execution_count": null,
   "metadata": {
    "collapsed": false
   },
   "outputs": [],
   "source": [
    "summary.query('(sample_id in @sample_ids) & (event_id == @rps24_event)')"
   ]
  },
  {
   "cell_type": "code",
   "execution_count": null,
   "metadata": {
    "collapsed": false
   },
   "outputs": [],
   "source": [
    "wide_psi.loc[idx[:, pkm_mxe_event], :].head()"
   ]
  },
  {
   "cell_type": "code",
   "execution_count": null,
   "metadata": {
    "collapsed": false
   },
   "outputs": [],
   "source": [
    "wide_psi.loc[idx[sample_ids, pkm_mxe_event], :]"
   ]
  },
  {
   "cell_type": "code",
   "execution_count": null,
   "metadata": {
    "collapsed": false
   },
   "outputs": [],
   "source": [
    "summary.query('(sample_id in @sample_ids) & (event_id == @pkm_mxe_event)')"
   ]
  },
  {
   "cell_type": "markdown",
   "metadata": {},
   "source": [
    "## "
   ]
  },
  {
   "cell_type": "code",
   "execution_count": null,
   "metadata": {
    "collapsed": true
   },
   "outputs": [],
   "source": [
    "import matplotlib.pyplot as plt\n",
    "import seaborn as sns\n",
    "\n",
    "%matplotlib inline"
   ]
  },
  {
   "cell_type": "code",
   "execution_count": null,
   "metadata": {
    "collapsed": false
   },
   "outputs": [],
   "source": [
    "figure_folder"
   ]
  },
  {
   "cell_type": "code",
   "execution_count": null,
   "metadata": {
    "collapsed": false
   },
   "outputs": [],
   "source": [
    "! mkdir -p $figure_folder"
   ]
  },
  {
   "cell_type": "code",
   "execution_count": null,
   "metadata": {
    "collapsed": false
   },
   "outputs": [],
   "source": [
    "g = sns.pairplot(wide_psi.fillna(-0.2), size=2, plot_kws=dict(alpha=0.5, rasterized=True))\n",
    "g.savefig('{}/stranded_unstranded_rmdup_psi_pairplot.pdf'.format(figure_folder), dpi=300)\n"
   ]
  },
  {
   "cell_type": "code",
   "execution_count": null,
   "metadata": {
    "collapsed": false
   },
   "outputs": [],
   "source": [
    "sns.jointplot('unstranded', 'unstranded_rmdup', wide_psi.fillna(-0.2), size=3)"
   ]
  },
  {
   "cell_type": "code",
   "execution_count": null,
   "metadata": {
    "collapsed": false
   },
   "outputs": [],
   "source": [
    "sns.jointplot('unstranded', 'unstranded_rmdup', wide_psi, size=3)"
   ]
  },
  {
   "cell_type": "markdown",
   "metadata": {},
   "source": [
    "## Why is stranded bam messed up?"
   ]
  },
  {
   "cell_type": "markdown",
   "metadata": {},
   "source": [
    "This event is Psi=1 in all"
   ]
  },
  {
   "cell_type": "code",
   "execution_count": null,
   "metadata": {
    "collapsed": false
   },
   "outputs": [],
   "source": [
    "sample_id, event_id = 'CVN_01', 'isoform1=junction:chr10:102114390-102120490:+|isoform2=junction:chr10:102114390-102116288:+@exon:chr10:102116289-102116521:+@junction:chr10:102116522-102120490:+'\n",
    "\n",
    "summary.query('(sample_id == @sample_id) & (event_id == @event_id)')"
   ]
  },
  {
   "cell_type": "code",
   "execution_count": null,
   "metadata": {
    "collapsed": false
   },
   "outputs": [],
   "source": [
    "\n",
    "summary.query('(sample_id == @sample_id) & (event_id == @pkm_mxe_event)')"
   ]
  },
  {
   "cell_type": "markdown",
   "metadata": {},
   "source": [
    "This event is Psi~1 in all but stranded_bam and stranded_rmdup"
   ]
  },
  {
   "cell_type": "code",
   "execution_count": null,
   "metadata": {
    "collapsed": false
   },
   "outputs": [],
   "source": [
    "sample_id, event_id = 'CVN_01', 'isoform1=junction:chr10:101507148-101514285:+|isoform2=junction:chr10:101507148-101510125:+@exon:chr10:101510126-101510153:+@junction:chr10:101510154-101514285:+'\n",
    "summary.query('(sample_id == @sample_id) & (event_id == @event_id)')"
   ]
  },
  {
   "cell_type": "markdown",
   "metadata": {},
   "source": [
    "Something must have gone wrong when making the junction read file from the `stranded_bam` data for getting the strands because some junctions are NA when they shouldn't be "
   ]
  },
  {
   "cell_type": "markdown",
   "metadata": {},
   "source": [
    "## Make Wasabiplots"
   ]
  },
  {
   "cell_type": "code",
   "execution_count": null,
   "metadata": {
    "collapsed": false
   },
   "outputs": [],
   "source": [
    "from __future__ import print_function\n",
    "\n",
    "import glob\n",
    "bam_filenames = glob.glob('/home/obotvinnik/projects/singlecell_pnms/analysis/bams_from_aws/*.bam')\n",
    "\n",
    "sample_id = 'M2_02'\n",
    "\n",
    "bam_filename = [x for x in bam_filenames if sample_id in x][0]\n",
    "bam_filename"
   ]
  },
  {
   "cell_type": "code",
   "execution_count": null,
   "metadata": {
    "collapsed": false
   },
   "outputs": [],
   "source": [
    "mxe_events = pd.read_csv('outrigger_v2/index/mxe/events.csv')\n",
    "print(mxe_events.shape)\n",
    "mxe_events.head()"
   ]
  },
  {
   "cell_type": "code",
   "execution_count": null,
   "metadata": {
    "collapsed": false
   },
   "outputs": [],
   "source": [
    "mxe_event_bed = pd.read_table('outrigger_v2/index/mxe/event.bed', index_col=3, header=None)\n",
    "print(mxe_event_bed.shape)\n",
    "mxe_event_bed.head()"
   ]
  },
  {
   "cell_type": "code",
   "execution_count": null,
   "metadata": {
    "collapsed": false
   },
   "outputs": [],
   "source": [
    "pkm_mxe_event_bed = mxe_event_bed.loc[pkm_mxe_event]"
   ]
  },
  {
   "cell_type": "code",
   "execution_count": null,
   "metadata": {
    "collapsed": false
   },
   "outputs": [],
   "source": [
    "pkm_mxe_event_bed.max()"
   ]
  },
  {
   "cell_type": "code",
   "execution_count": null,
   "metadata": {
    "collapsed": false
   },
   "outputs": [],
   "source": [
    "pkm_mxe_event_bed.min()"
   ]
  },
  {
   "cell_type": "code",
   "execution_count": null,
   "metadata": {
    "collapsed": false
   },
   "outputs": [],
   "source": [
    "chrom = pkm_mxe_event_bed.iloc[0, 0]\n",
    "start = pkm_mxe_event_bed.min()[1]\n",
    "stop = pkm_mxe_event_bed.max()[2]\n",
    "strand = '-'\n"
   ]
  },
  {
   "cell_type": "code",
   "execution_count": null,
   "metadata": {
    "collapsed": false
   },
   "outputs": [],
   "source": [
    "%load_ext autoreload\n",
    "%autoreload 2\n",
    "\n",
    "import matplotlib.pyplot as plt\n",
    "import seaborn as sns\n",
    "import numpy as np\n",
    "import pandas as pd\n",
    "\n",
    "\n",
    "%matplotlib inline\n",
    "\n",
    "import flotilla\n",
    "\n",
    "\n",
    "flotilla_dir = '/projects/ps-yeolab/obotvinnik/flotilla_projects'\n",
    "\n",
    "study = flotilla.embark('singlecell_pnm_figure2_modalities_bayesian', flotilla_dir=flotilla_dir)\n",
    "\n",
    "# not_outliers = study.splicing.singles.index.difference(study.splicing.outliers.index)\n"
   ]
  },
  {
   "cell_type": "code",
   "execution_count": null,
   "metadata": {
    "collapsed": false
   },
   "outputs": [],
   "source": [
    "import pandas as pd\n",
    "import os\n",
    "\n",
    "bam_df = pd.Series(sorted(bam_filenames), name='bam').to_frame()\n",
    "bam_df['sample_id'] = bam_df['bam'].map(lambda x: '_'.join(os.path.basename(x).split('.')[0].split('_')[:2]))\n",
    "bam_df = bam_df.set_index('sample_id')\n",
    "bam_df['phenotype'] = study.sample_id_to_phenotype\n",
    "bam_df['pooled'] = study.metadata.data['pooled']\n",
    "bam_df['outlier'] = study.metadata.data['outlier']\n",
    "bam_df.head()"
   ]
  },
  {
   "cell_type": "code",
   "execution_count": null,
   "metadata": {
    "collapsed": true
   },
   "outputs": [],
   "source": [
    "import wasabiplot as wp\n",
    "\n",
    "def wasabifacet(x, **kwargs):\n",
    "    return wp.wasabiplot(x.iloc[0], **kwargs)"
   ]
  },
  {
   "cell_type": "code",
   "execution_count": null,
   "metadata": {
    "collapsed": false
   },
   "outputs": [],
   "source": [
    "bam_df_samples = bam_df.loc[sample_ids]\n",
    "print(bam_df_samples.shape)\n",
    "bam_df_samples.head()"
   ]
  },
  {
   "cell_type": "code",
   "execution_count": null,
   "metadata": {
    "collapsed": false
   },
   "outputs": [],
   "source": [
    "%pdb"
   ]
  },
  {
   "cell_type": "code",
   "execution_count": null,
   "metadata": {
    "collapsed": false
   },
   "outputs": [],
   "source": [
    "g = sns.FacetGrid(bam_df_samples, row='bam', hue='phenotype', size=1.5, aspect=8)\n",
    "g.map(wasabifacet, 'bam', chrom=chrom, start=start, stop=stop, strand=strand, warn_skipped=False)"
   ]
  },
  {
   "cell_type": "code",
   "execution_count": null,
   "metadata": {
    "collapsed": true
   },
   "outputs": [],
   "source": []
  }
 ],
 "metadata": {
  "kernelspec": {
   "display_name": "Python 2",
   "language": "python",
   "name": "python2"
  },
  "language_info": {
   "codemirror_mode": {
    "name": "ipython",
    "version": 2
   },
   "file_extension": ".py",
   "mimetype": "text/x-python",
   "name": "python",
   "nbconvert_exporter": "python",
   "pygments_lexer": "ipython2",
   "version": "2.7.11"
  }
 },
 "nbformat": 4,
 "nbformat_minor": 0
}
