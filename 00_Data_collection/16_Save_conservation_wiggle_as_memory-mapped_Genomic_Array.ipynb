{
 "cells": [
  {
   "cell_type": "markdown",
   "metadata": {},
   "source": [
    "# Create memory-mapped HTSeq genomic Array\n",
    "\n",
    "Get chromosome sizes to use memory mapped mode of HTSeq so it's faster"
   ]
  },
  {
   "cell_type": "code",
   "execution_count": 3,
   "metadata": {
    "collapsed": false
   },
   "outputs": [
    {
     "name": "stdout",
     "output_type": "stream",
     "text": [
      "/home/obotvinnik/processing_scripts/singlecell_pnms\n"
     ]
    }
   ],
   "source": [
    "cd ~/projects/singlecell_pnms/scripts"
   ]
  },
  {
   "cell_type": "code",
   "execution_count": 4,
   "metadata": {
    "collapsed": false
   },
   "outputs": [
    {
     "name": "stdout",
     "output_type": "stream",
     "text": [
      "mkdir: cannot create directory `/home/obotvinnik/projects/singlecell_pnms/analysis/htseq_memmap': File exists\r\n"
     ]
    }
   ],
   "source": [
    " mkdir /home/obotvinnik/projects/singlecell_pnms/analysis/htseq_memmap"
   ]
  },
  {
   "cell_type": "code",
   "execution_count": 6,
   "metadata": {
    "collapsed": false
   },
   "outputs": [
    {
     "name": "stdout",
     "output_type": "stream",
     "text": [
      "Overwriting memory_mapped_htseq_genomic_array_conservation.py\n"
     ]
    }
   ],
   "source": [
    "%%file memory_mapped_htseq_genomic_array_conservation.py\n",
    "\n",
    "import pandas as pd\n",
    "import HTSeq\n",
    "import cPickle as pickle\n",
    "\n",
    "chromsizes = pd.read_table('/projects/ps-yeolab/genomes/hg19/hg19.chrom.sizes', header=None, index_col=0, squeeze=True)\n",
    "\n",
    "# Remove all haplotype chromosomes\n",
    "chromsizes = chromsizes[chromsizes.index.map(lambda x: '_' not in x)]\n",
    "chromsizes = chromsizes.to_dict()\n",
    "\n",
    "wiggle_filename = '/projects/ps-yeolab/genomes/hg19/hg19_phastcons_placental_mammal_space_separated.wig'\n",
    "wig = HTSeq.WiggleReader(wiggle_filename)\n",
    "\n",
    "conservation = HTSeq.GenomicArray(chromsizes, stranded=False, typecode='d', storage='memmap', \n",
    "                                  memmap_dir='/home/obotvinnik/projects/singlecell_pnms/analysis/htseq_memmap')\n",
    "for location, score in wig:\n",
    "    conservation[location] += score\n",
    "    \n",
    "memmap_dir = '/home/obotvinnik/projects/singlecell_pnms/analysis/htseq_memmap'\n",
    "with open('{}/hg19_phastcons_placental_mammal_htseq.pickle'.format(memmap_dir), 'wb') as f:\n",
    "    pickle.dump(conservation, f)"
   ]
  },
  {
   "cell_type": "markdown",
   "metadata": {},
   "source": [
    "Populating `HTSeq.GenomicArray` took overnight so plan accordingly"
   ]
  },
  {
   "cell_type": "code",
   "execution_count": 7,
   "metadata": {
    "collapsed": false
   },
   "outputs": [
    {
     "name": "stderr",
     "output_type": "stream",
     "text": [
      "Wrote commands to memory_mapped_htseq_genomic_array_conservation.sh.\n",
      "Submitted script to queue home-scrm.\n",
      " Job ID: 7492452\n"
     ]
    },
    {
     "data": {
      "text/plain": [
       "<qtools.submitter.Submitter at 0x2ad0980ede50>"
      ]
     },
     "execution_count": 7,
     "metadata": {},
     "output_type": "execute_result"
    }
   ],
   "source": [
    "import qtools\n",
    "\n",
    "commands = [\n",
    "    # Need the step of changing to the analysis directory so a bunch of \n",
    "    # .nmm files don't get created in your home directory\n",
    "    'cd /home/obotvinnik/projects/singlecell_pnms/analysis/htseq_memmap'\n",
    "    'time python /home/obotvinnik/projects/singlecell_pnms/scripts/memory_mapped_htseq_genomic_array_conservation.py']\n",
    "\n",
    "qtools.Submitter(commands, 'memory_mapped_htseq_genomic_array_conservation', walltime='36:00:00', queue='home-scrm')"
   ]
  },
  {
   "cell_type": "code",
   "execution_count": 5,
   "metadata": {
    "collapsed": false
   },
   "outputs": [
    {
     "name": "stdout",
     "output_type": "stream",
     "text": [
      "==> memory_mapped_htseq_genomic_array_conservation.py <==\r\n",
      "wig = HTSeq.WiggleReader(wiggle_filename)\r\n",
      "\r\n",
      "conservation = HTSeq.GenomicArray(chromsizes, stranded=False, typecode='d', storage='memmap', \r\n",
      "                                  memmap_dir='/home/obotvinnik/projects/singlecell_pnms/analysis/htseq_memmap')\r\n",
      "for location, score in wig:\r\n",
      "    conservation[location] += score\r\n",
      "    \r\n",
      "memmap_dir = '/home/obotvinnik/projects/singlecell_pnms/analysis/htseq_memmap'\r\n",
      "with open('{}/hg19_phastcons_placental_mammal_htseq.pickle'.format(memmap_dir), 'wb') as f:\r\n",
      "    pickle.dump(conservation, f)\r\n",
      "==> memory_mapped_htseq_genomic_array_conservation.sh <==\r\n",
      "#PBS -V\r\n",
      "#PBS -l walltime=36:00:00\r\n",
      "#PBS -l nodes=1:ppn=1\r\n",
      "#PBS -A yeo-group\r\n",
      "#PBS -q home-scrm\r\n",
      "\r\n",
      "# Go to the directory from which the script was called\r\n",
      "cd $PBS_O_WORKDIR\r\n",
      "time python /home/obotvinnik/projects/singlecell_pnms/scripts/memory_mapped_htseq_genomic_array_conservation.py\r\n",
      "\r\n",
      "\r\n",
      "==> memory_mapped_htseq_genomic_array_conservation.sh.err <==\r\n",
      "\r\n",
      "==> memory_mapped_htseq_genomic_array_conservation.sh.out <==\r\n"
     ]
    }
   ],
   "source": [
    "! tail memory_mapped_htseq_genomic_array_conservation*"
   ]
  },
  {
   "cell_type": "code",
   "execution_count": null,
   "metadata": {
    "collapsed": true
   },
   "outputs": [],
   "source": []
  },
  {
   "cell_type": "code",
   "execution_count": null,
   "metadata": {
    "collapsed": true
   },
   "outputs": [],
   "source": []
  }
 ],
 "metadata": {
  "kernelspec": {
   "display_name": "Python 2",
   "language": "python",
   "name": "python2"
  },
  "language_info": {
   "codemirror_mode": {
    "name": "ipython",
    "version": 2
   },
   "file_extension": ".py",
   "mimetype": "text/x-python",
   "name": "python",
   "nbconvert_exporter": "python",
   "pygments_lexer": "ipython2",
   "version": "2.7.11"
  }
 },
 "nbformat": 4,
 "nbformat_minor": 0
}
