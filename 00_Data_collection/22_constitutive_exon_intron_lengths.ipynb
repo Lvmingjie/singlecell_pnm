{
 "cells": [
  {
   "cell_type": "code",
   "execution_count": 3,
   "metadata": {
    "collapsed": true
   },
   "outputs": [],
   "source": [
    "folder = '/projects/ps-yeolab/obotvinnik/singlecell_pnms'\n",
    "csv_folder = '{}/csvs_for_paper/'.format(folder)\n",
    "bed_folder = '{}/bed'.format(folder)\n",
    "\n",
    "\n",
    "\n",
    "splicing_feature_folder = '{}/splicing_feature_data'.format(csv_folder)\n",
    "alternative_feature_folder = '{}/alternative'.format(splicing_feature_folder)\n",
    "constitutive_feature_folder = '{}/constitutive'.format(splicing_feature_folder)"
   ]
  },
  {
   "cell_type": "code",
   "execution_count": 4,
   "metadata": {
    "collapsed": false
   },
   "outputs": [],
   "source": [
    "import pandas as pd\n",
    "import six"
   ]
  },
  {
   "cell_type": "code",
   "execution_count": 17,
   "metadata": {
    "collapsed": false
   },
   "outputs": [
    {
     "name": "stdout",
     "output_type": "stream",
     "text": [
      "-rw-r--r-- 1 obotvinnik yeo-group 4.2M Jan 16 09:31 /projects/ps-yeolab/obotvinnik/singlecell_pnms/csvs_for_paper//splicing_feature_data/constitutive/constitutive_junctions.csv\r\n"
     ]
    }
   ],
   "source": [
    "ls -lha $constitutive_feature_folder/constitutive_junctions.csv"
   ]
  },
  {
   "cell_type": "code",
   "execution_count": 5,
   "metadata": {
    "collapsed": false
   },
   "outputs": [
    {
     "name": "stdout",
     "output_type": "stream",
     "text": [
      "(56491, 3)\n"
     ]
    },
    {
     "data": {
      "text/html": [
       "<div>\n",
       "<table border=\"1\" class=\"dataframe\">\n",
       "  <thead>\n",
       "    <tr style=\"text-align: right;\">\n",
       "      <th></th>\n",
       "      <th>exon</th>\n",
       "      <th>direction</th>\n",
       "      <th>junction</th>\n",
       "    </tr>\n",
       "  </thead>\n",
       "  <tbody>\n",
       "    <tr>\n",
       "      <th>0</th>\n",
       "      <td>exon:chr1:1247398-1247527:-</td>\n",
       "      <td>downstream</td>\n",
       "      <td>junction:chr1:1247528-1247605:-</td>\n",
       "    </tr>\n",
       "    <tr>\n",
       "      <th>1</th>\n",
       "      <td>exon:chr1:1247398-1247527:-</td>\n",
       "      <td>upstream</td>\n",
       "      <td>junction:chr1:1247305-1247397:-</td>\n",
       "    </tr>\n",
       "    <tr>\n",
       "      <th>2</th>\n",
       "      <td>exon:chr1:1309380-1309825:-</td>\n",
       "      <td>downstream</td>\n",
       "      <td>junction:chr1:1309826-1310084:-</td>\n",
       "    </tr>\n",
       "    <tr>\n",
       "      <th>3</th>\n",
       "      <td>exon:chr1:1309380-1309825:-</td>\n",
       "      <td>downstream</td>\n",
       "      <td>junction:chr1:1309826-1310533:-</td>\n",
       "    </tr>\n",
       "    <tr>\n",
       "      <th>4</th>\n",
       "      <td>exon:chr1:1309380-1309825:-</td>\n",
       "      <td>upstream</td>\n",
       "      <td>junction:chr1:1309283-1309379:-</td>\n",
       "    </tr>\n",
       "  </tbody>\n",
       "</table>\n",
       "</div>"
      ],
      "text/plain": [
       "                          exon   direction                         junction\n",
       "0  exon:chr1:1247398-1247527:-  downstream  junction:chr1:1247528-1247605:-\n",
       "1  exon:chr1:1247398-1247527:-    upstream  junction:chr1:1247305-1247397:-\n",
       "2  exon:chr1:1309380-1309825:-  downstream  junction:chr1:1309826-1310084:-\n",
       "3  exon:chr1:1309380-1309825:-  downstream  junction:chr1:1309826-1310533:-\n",
       "4  exon:chr1:1309380-1309825:-    upstream  junction:chr1:1309283-1309379:-"
      ]
     },
     "execution_count": 5,
     "metadata": {},
     "output_type": "execute_result"
    }
   ],
   "source": [
    "constitutive_junctions = pd.read_csv('{}/constitutive_junctions.csv'.format(constitutive_feature_folder))\n",
    "six.print_(constitutive_junctions.shape)\n",
    "constitutive_junctions.head()"
   ]
  },
  {
   "cell_type": "code",
   "execution_count": 6,
   "metadata": {
    "collapsed": false
   },
   "outputs": [
    {
     "name": "stdout",
     "output_type": "stream",
     "text": [
      "-rw-r--r-- 1 obotvinnik yeo-group 6.8M Jan 16 09:11 /projects/ps-yeolab/obotvinnik/singlecell_pnms/csvs_for_paper//splicing_feature_data/alternative/exons.bed\r\n"
     ]
    }
   ],
   "source": [
    "ls -lha $alternative_feature_folder/exons.bed"
   ]
  },
  {
   "cell_type": "code",
   "execution_count": 7,
   "metadata": {
    "collapsed": false
   },
   "outputs": [
    {
     "name": "stdout",
     "output_type": "stream",
     "text": [
      "-rw-r--r-- 1 obotvinnik yeo-group 1.1M Jan 16 09:31 /projects/ps-yeolab/obotvinnik/singlecell_pnms/csvs_for_paper//splicing_feature_data/constitutive/exons.bed\r\n"
     ]
    }
   ],
   "source": [
    "ls -lha $constitutive_feature_folder/exons.bed"
   ]
  },
  {
   "cell_type": "code",
   "execution_count": 8,
   "metadata": {
    "collapsed": false
   },
   "outputs": [],
   "source": [
    "from outrigger.region import Region"
   ]
  },
  {
   "cell_type": "code",
   "execution_count": 9,
   "metadata": {
    "collapsed": false
   },
   "outputs": [
    {
     "data": {
      "text/html": [
       "<div>\n",
       "<table border=\"1\" class=\"dataframe\">\n",
       "  <thead>\n",
       "    <tr style=\"text-align: right;\">\n",
       "      <th></th>\n",
       "      <th>exon</th>\n",
       "      <th>direction</th>\n",
       "      <th>junction</th>\n",
       "      <th>exon_region</th>\n",
       "      <th>junction_region</th>\n",
       "    </tr>\n",
       "  </thead>\n",
       "  <tbody>\n",
       "    <tr>\n",
       "      <th>0</th>\n",
       "      <td>exon:chr1:1247398-1247527:-</td>\n",
       "      <td>downstream</td>\n",
       "      <td>junction:chr1:1247528-1247605:-</td>\n",
       "      <td>outrigger.Region (exon:chr1:1247398-1247527:-)</td>\n",
       "      <td>outrigger.Region (junction:chr1:1247528-124760...</td>\n",
       "    </tr>\n",
       "    <tr>\n",
       "      <th>1</th>\n",
       "      <td>exon:chr1:1247398-1247527:-</td>\n",
       "      <td>upstream</td>\n",
       "      <td>junction:chr1:1247305-1247397:-</td>\n",
       "      <td>outrigger.Region (exon:chr1:1247398-1247527:-)</td>\n",
       "      <td>outrigger.Region (junction:chr1:1247305-124739...</td>\n",
       "    </tr>\n",
       "    <tr>\n",
       "      <th>2</th>\n",
       "      <td>exon:chr1:1309380-1309825:-</td>\n",
       "      <td>downstream</td>\n",
       "      <td>junction:chr1:1309826-1310084:-</td>\n",
       "      <td>outrigger.Region (exon:chr1:1309380-1309825:-)</td>\n",
       "      <td>outrigger.Region (junction:chr1:1309826-131008...</td>\n",
       "    </tr>\n",
       "    <tr>\n",
       "      <th>3</th>\n",
       "      <td>exon:chr1:1309380-1309825:-</td>\n",
       "      <td>downstream</td>\n",
       "      <td>junction:chr1:1309826-1310533:-</td>\n",
       "      <td>outrigger.Region (exon:chr1:1309380-1309825:-)</td>\n",
       "      <td>outrigger.Region (junction:chr1:1309826-131053...</td>\n",
       "    </tr>\n",
       "    <tr>\n",
       "      <th>4</th>\n",
       "      <td>exon:chr1:1309380-1309825:-</td>\n",
       "      <td>upstream</td>\n",
       "      <td>junction:chr1:1309283-1309379:-</td>\n",
       "      <td>outrigger.Region (exon:chr1:1309380-1309825:-)</td>\n",
       "      <td>outrigger.Region (junction:chr1:1309283-130937...</td>\n",
       "    </tr>\n",
       "  </tbody>\n",
       "</table>\n",
       "</div>"
      ],
      "text/plain": [
       "                          exon   direction                         junction  \\\n",
       "0  exon:chr1:1247398-1247527:-  downstream  junction:chr1:1247528-1247605:-   \n",
       "1  exon:chr1:1247398-1247527:-    upstream  junction:chr1:1247305-1247397:-   \n",
       "2  exon:chr1:1309380-1309825:-  downstream  junction:chr1:1309826-1310084:-   \n",
       "3  exon:chr1:1309380-1309825:-  downstream  junction:chr1:1309826-1310533:-   \n",
       "4  exon:chr1:1309380-1309825:-    upstream  junction:chr1:1309283-1309379:-   \n",
       "\n",
       "                                      exon_region  \\\n",
       "0  outrigger.Region (exon:chr1:1247398-1247527:-)   \n",
       "1  outrigger.Region (exon:chr1:1247398-1247527:-)   \n",
       "2  outrigger.Region (exon:chr1:1309380-1309825:-)   \n",
       "3  outrigger.Region (exon:chr1:1309380-1309825:-)   \n",
       "4  outrigger.Region (exon:chr1:1309380-1309825:-)   \n",
       "\n",
       "                                     junction_region  \n",
       "0  outrigger.Region (junction:chr1:1247528-124760...  \n",
       "1  outrigger.Region (junction:chr1:1247305-124739...  \n",
       "2  outrigger.Region (junction:chr1:1309826-131008...  \n",
       "3  outrigger.Region (junction:chr1:1309826-131053...  \n",
       "4  outrigger.Region (junction:chr1:1309283-130937...  "
      ]
     },
     "execution_count": 9,
     "metadata": {},
     "output_type": "execute_result"
    }
   ],
   "source": [
    "constitutive_junctions['exon_region'] = constitutive_junctions['exon'].map(Region)\n",
    "constitutive_junctions['junction_region'] = constitutive_junctions['junction'].map(Region)\n",
    "constitutive_junctions.head()"
   ]
  },
  {
   "cell_type": "code",
   "execution_count": 10,
   "metadata": {
    "collapsed": false
   },
   "outputs": [
    {
     "data": {
      "text/html": [
       "<div>\n",
       "<table border=\"1\" class=\"dataframe\">\n",
       "  <thead>\n",
       "    <tr style=\"text-align: right;\">\n",
       "      <th></th>\n",
       "      <th>exon</th>\n",
       "      <th>direction</th>\n",
       "      <th>junction</th>\n",
       "      <th>exon_region</th>\n",
       "      <th>junction_region</th>\n",
       "      <th>exon_length</th>\n",
       "      <th>junction_length</th>\n",
       "    </tr>\n",
       "  </thead>\n",
       "  <tbody>\n",
       "    <tr>\n",
       "      <th>0</th>\n",
       "      <td>exon:chr1:1247398-1247527:-</td>\n",
       "      <td>downstream</td>\n",
       "      <td>junction:chr1:1247528-1247605:-</td>\n",
       "      <td>outrigger.Region (exon:chr1:1247398-1247527:-)</td>\n",
       "      <td>outrigger.Region (junction:chr1:1247528-124760...</td>\n",
       "      <td>130</td>\n",
       "      <td>78</td>\n",
       "    </tr>\n",
       "    <tr>\n",
       "      <th>1</th>\n",
       "      <td>exon:chr1:1247398-1247527:-</td>\n",
       "      <td>upstream</td>\n",
       "      <td>junction:chr1:1247305-1247397:-</td>\n",
       "      <td>outrigger.Region (exon:chr1:1247398-1247527:-)</td>\n",
       "      <td>outrigger.Region (junction:chr1:1247305-124739...</td>\n",
       "      <td>130</td>\n",
       "      <td>93</td>\n",
       "    </tr>\n",
       "    <tr>\n",
       "      <th>2</th>\n",
       "      <td>exon:chr1:1309380-1309825:-</td>\n",
       "      <td>downstream</td>\n",
       "      <td>junction:chr1:1309826-1310084:-</td>\n",
       "      <td>outrigger.Region (exon:chr1:1309380-1309825:-)</td>\n",
       "      <td>outrigger.Region (junction:chr1:1309826-131008...</td>\n",
       "      <td>446</td>\n",
       "      <td>259</td>\n",
       "    </tr>\n",
       "    <tr>\n",
       "      <th>3</th>\n",
       "      <td>exon:chr1:1309380-1309825:-</td>\n",
       "      <td>downstream</td>\n",
       "      <td>junction:chr1:1309826-1310533:-</td>\n",
       "      <td>outrigger.Region (exon:chr1:1309380-1309825:-)</td>\n",
       "      <td>outrigger.Region (junction:chr1:1309826-131053...</td>\n",
       "      <td>446</td>\n",
       "      <td>708</td>\n",
       "    </tr>\n",
       "    <tr>\n",
       "      <th>4</th>\n",
       "      <td>exon:chr1:1309380-1309825:-</td>\n",
       "      <td>upstream</td>\n",
       "      <td>junction:chr1:1309283-1309379:-</td>\n",
       "      <td>outrigger.Region (exon:chr1:1309380-1309825:-)</td>\n",
       "      <td>outrigger.Region (junction:chr1:1309283-130937...</td>\n",
       "      <td>446</td>\n",
       "      <td>97</td>\n",
       "    </tr>\n",
       "  </tbody>\n",
       "</table>\n",
       "</div>"
      ],
      "text/plain": [
       "                          exon   direction                         junction  \\\n",
       "0  exon:chr1:1247398-1247527:-  downstream  junction:chr1:1247528-1247605:-   \n",
       "1  exon:chr1:1247398-1247527:-    upstream  junction:chr1:1247305-1247397:-   \n",
       "2  exon:chr1:1309380-1309825:-  downstream  junction:chr1:1309826-1310084:-   \n",
       "3  exon:chr1:1309380-1309825:-  downstream  junction:chr1:1309826-1310533:-   \n",
       "4  exon:chr1:1309380-1309825:-    upstream  junction:chr1:1309283-1309379:-   \n",
       "\n",
       "                                      exon_region  \\\n",
       "0  outrigger.Region (exon:chr1:1247398-1247527:-)   \n",
       "1  outrigger.Region (exon:chr1:1247398-1247527:-)   \n",
       "2  outrigger.Region (exon:chr1:1309380-1309825:-)   \n",
       "3  outrigger.Region (exon:chr1:1309380-1309825:-)   \n",
       "4  outrigger.Region (exon:chr1:1309380-1309825:-)   \n",
       "\n",
       "                                     junction_region  exon_length  \\\n",
       "0  outrigger.Region (junction:chr1:1247528-124760...          130   \n",
       "1  outrigger.Region (junction:chr1:1247305-124739...          130   \n",
       "2  outrigger.Region (junction:chr1:1309826-131008...          446   \n",
       "3  outrigger.Region (junction:chr1:1309826-131053...          446   \n",
       "4  outrigger.Region (junction:chr1:1309283-130937...          446   \n",
       "\n",
       "   junction_length  \n",
       "0               78  \n",
       "1               93  \n",
       "2              259  \n",
       "3              708  \n",
       "4               97  "
      ]
     },
     "execution_count": 10,
     "metadata": {},
     "output_type": "execute_result"
    }
   ],
   "source": [
    "constitutive_junctions['exon_length'] = constitutive_junctions['exon_region'].map(len)\n",
    "constitutive_junctions['junction_length'] = constitutive_junctions['junction_region'].map(len)\n",
    "constitutive_junctions.head()"
   ]
  },
  {
   "cell_type": "code",
   "execution_count": 11,
   "metadata": {
    "collapsed": false
   },
   "outputs": [
    {
     "data": {
      "text/plain": [
       "exon\n",
       "exon:chr1:1247398-1247527:-     130\n",
       "exon:chr1:1309380-1309825:-     446\n",
       "exon:chr1:1341189-1341266:-      78\n",
       "exon:chr1:1341189-1342399:-    1211\n",
       "exon:chr1:1500153-1500296:-     144\n",
       "Name: exon_length, dtype: int64"
      ]
     },
     "execution_count": 11,
     "metadata": {},
     "output_type": "execute_result"
    }
   ],
   "source": [
    "exon_lengths = constitutive_junctions.set_index('exon')['exon_length']\n",
    "exon_lengths= exon_lengths[~exon_lengths.index.duplicated()]\n",
    "exon_lengths.head()"
   ]
  },
  {
   "cell_type": "code",
   "execution_count": 12,
   "metadata": {
    "collapsed": true
   },
   "outputs": [],
   "source": [
    "exon_lengths.to_csv('{}/exon_length.csv'.format(constitutive_feature_folder))"
   ]
  },
  {
   "cell_type": "markdown",
   "metadata": {},
   "source": [
    "## Intron lengths: Sum of junction and exon lengths"
   ]
  },
  {
   "cell_type": "code",
   "execution_count": 13,
   "metadata": {
    "collapsed": false
   },
   "outputs": [
    {
     "data": {
      "text/plain": [
       "exon                              direction \n",
       "exon:chr10:101162337-101162479:-  downstream     746.0\n",
       "                                  upstream      4893.0\n",
       "exon:chr10:101163226-101163391:-  downstream    1105.0\n",
       "                                  upstream       746.0\n",
       "exon:chr10:101165513-101165617:-  downstream     276.0\n",
       "Name: junction_length, dtype: float64"
      ]
     },
     "execution_count": 13,
     "metadata": {},
     "output_type": "execute_result"
    }
   ],
   "source": [
    "mean_junction_lengths = constitutive_junctions.groupby(['exon', 'direction'])['junction_length'].mean()\n",
    "mean_junction_lengths.head()"
   ]
  },
  {
   "cell_type": "code",
   "execution_count": 14,
   "metadata": {
    "collapsed": false
   },
   "outputs": [
    {
     "data": {
      "text/plain": [
       "exon\n",
       "exon:chr10:101162337-101162479:-     5639.0\n",
       "exon:chr10:101163226-101163391:-     1851.0\n",
       "exon:chr10:101165513-101165617:-     2277.0\n",
       "exon:chr10:101165894-101166006:-      752.0\n",
       "exon:chr10:101166483-101166606:-    14250.0\n",
       "Name: junction_length, dtype: float64"
      ]
     },
     "execution_count": 14,
     "metadata": {},
     "output_type": "execute_result"
    }
   ],
   "source": [
    "flanking_intron_lengths = mean_junction_lengths.groupby(level=0).sum()\n",
    "flanking_intron_lengths.head()"
   ]
  },
  {
   "cell_type": "code",
   "execution_count": 15,
   "metadata": {
    "collapsed": false
   },
   "outputs": [
    {
     "data": {
      "text/plain": [
       "exon\n",
       "exon:chr10:101162337-101162479:-     5782.0\n",
       "exon:chr10:101163226-101163391:-     2017.0\n",
       "exon:chr10:101165513-101165617:-     2382.0\n",
       "exon:chr10:101165894-101166006:-      865.0\n",
       "exon:chr10:101166483-101166606:-    14374.0\n",
       "dtype: float64"
      ]
     },
     "execution_count": 15,
     "metadata": {},
     "output_type": "execute_result"
    }
   ],
   "source": [
    "intron_lengths = flanking_intron_lengths + exon_lengths\n",
    "intron_lengths.head()"
   ]
  },
  {
   "cell_type": "code",
   "execution_count": 16,
   "metadata": {
    "collapsed": true
   },
   "outputs": [],
   "source": [
    "intron_lengths.to_csv('{}/intron_length.csv'.format(constitutive_feature_folder))"
   ]
  },
  {
   "cell_type": "code",
   "execution_count": null,
   "metadata": {
    "collapsed": true
   },
   "outputs": [],
   "source": []
  }
 ],
 "metadata": {
  "kernelspec": {
   "display_name": "Python 2",
   "language": "python",
   "name": "python2"
  },
  "language_info": {
   "codemirror_mode": {
    "name": "ipython",
    "version": 2
   },
   "file_extension": ".py",
   "mimetype": "text/x-python",
   "name": "python",
   "nbconvert_exporter": "python",
   "pygments_lexer": "ipython2",
   "version": "2.7.11"
  }
 },
 "nbformat": 4,
 "nbformat_minor": 0
}
