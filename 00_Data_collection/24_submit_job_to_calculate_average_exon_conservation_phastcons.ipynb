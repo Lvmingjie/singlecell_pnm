{
 "cells": [
  {
   "cell_type": "markdown",
   "metadata": {},
   "source": [
    "## Submit a job to calculate conservation"
   ]
  },
  {
   "cell_type": "code",
   "execution_count": 4,
   "metadata": {
    "collapsed": false
   },
   "outputs": [
    {
     "name": "stdout",
     "output_type": "stream",
     "text": [
      "mkdir: cannot create directory `/projects/ps-yeolab/obotvinnik/singlecell_pnms/csvs_for_paper/conservation': File exists\r\n"
     ]
    }
   ],
   "source": [
    "import os\n",
    "import glob\n",
    "\n",
    "from qtools import Submitter\n",
    "\n",
    "\n",
    "folder = '/projects/ps-yeolab/obotvinnik/singlecell_pnms'\n",
    "bed_folder = '{}/bed'.format(folder)\n",
    "\n",
    "csv_folder = '{}/csvs_for_paper'.format(folder)\n",
    "conservation_folder = '{}/conservation'.format(csv_folder)\n",
    "!mkdir $conservation_folder\n",
    "\n",
    "splicing_feature_folder = '{}/splicing_feature_data'.format(csv_folder)\n",
    "alternative_feature_folder = '{}/alternative'.format(splicing_feature_folder)\n",
    "constitutive_feature_folder = '{}/constitutive'.format(splicing_feature_folder)\n",
    "\n",
    "\n",
    "alt_exons_bedfile = '{}/exons.bed'.format(alternative_feature_folder)\n",
    "constitutive_bedfile = '{}/exons.bed'.format(constitutive_feature_folder)\n",
    "\n",
    "bedfiles = {'alternative': alt_exons_bedfile, 'constitutive': constitutive_bedfile}\n",
    "\n",
    "bw = '/projects/ps-yeolab/genomes/hg19/hg19_phastcons_placental_mammal.bw'"
   ]
  },
  {
   "cell_type": "code",
   "execution_count": 5,
   "metadata": {
    "collapsed": false
   },
   "outputs": [
    {
     "name": "stdout",
     "output_type": "stream",
     "text": [
      "/projects/ps-yeolab/obotvinnik/singlecell_pnms/csvs_for_paper/splicing_feature_data\n"
     ]
    }
   ],
   "source": [
    "cd $splicing_feature_folder"
   ]
  },
  {
   "cell_type": "code",
   "execution_count": 7,
   "metadata": {
    "collapsed": false
   },
   "outputs": [
    {
     "name": "stdout",
     "output_type": "stream",
     "text": [
      "bigWigAverageOverBed /projects/ps-yeolab/genomes/hg19/hg19_phastcons_placental_mammal.bw /projects/ps-yeolab/obotvinnik/singlecell_pnms/csvs_for_paper/splicing_feature_data/alternative/exons.bed /projects/ps-yeolab/obotvinnik/singlecell_pnms/csvs_for_paper/splicing_feature_data/alternative/exons_phastcons_placental_mammal.txt -bedOut=/projects/ps-yeolab/obotvinnik/singlecell_pnms/csvs_for_paper/splicing_feature_data/alternative/exons_phastcons_placental_mammal.bed\n",
      "bigWigAverageOverBed /projects/ps-yeolab/genomes/hg19/hg19_phastcons_placental_mammal.bw /projects/ps-yeolab/obotvinnik/singlecell_pnms/csvs_for_paper/splicing_feature_data/constitutive/exons.bed /projects/ps-yeolab/obotvinnik/singlecell_pnms/csvs_for_paper/splicing_feature_data/constitutive/exons_phastcons_placental_mammal.txt -bedOut=/projects/ps-yeolab/obotvinnik/singlecell_pnms/csvs_for_paper/splicing_feature_data/constitutive/exons_phastcons_placental_mammal.bed\n"
     ]
    },
    {
     "name": "stderr",
     "output_type": "stream",
     "text": [
      "Writing 2 tasks as an array-job.\n",
      "Wrote commands to exonbody_conservation.sh.\n",
      "Submitted script to queue home.\n",
      " Job ID: 7492467\n"
     ]
    },
    {
     "data": {
      "text/plain": [
       "<qtools.submitter.Submitter at 0x2ad6883aad50>"
      ]
     },
     "execution_count": 7,
     "metadata": {},
     "output_type": "execute_result"
    }
   ],
   "source": [
    "commands = []\n",
    "\n",
    "for exon_type, bedfile in bedfiles.items():\n",
    "    basename = os.path.basename(bedfile)\n",
    "    \n",
    "    prefix = basename.split('.bed')[0]\n",
    "    \n",
    "    prefix += '_phastcons_placental_mammal'\n",
    "    out_folder = '{}/{}'.format(splicing_feature_folder, exon_type)\n",
    "    bedout = '{}/{}'.format(out_folder, prefix + '.bed')\n",
    "    outtab = '{}/{}'.format(out_folder, prefix + '.txt')\n",
    "    command = 'bigWigAverageOverBed {} {} {} -bedOut={}'.format(bw, bedfile, outtab, bedout)\n",
    "    print command\n",
    "    commands.append(command)\n",
    "\n",
    "jobname = 'exonbody_conservation'\n",
    "Submitter(commands, jobname, array=True, walltime='2:00:00')"
   ]
  },
  {
   "cell_type": "code",
   "execution_count": 4,
   "metadata": {
    "collapsed": false
   },
   "outputs": [
    {
     "name": "stderr",
     "output_type": "stream",
     "text": [
      "processing chromosomes\n"
     ]
    }
   ],
   "source": [
    "%%bash\n",
    "\n",
    "bigWigAverageOverBed /projects/ps-yeolab/genomes/hg19/hg19_phastcons_placental_mammal.bw /projects/ps-yeolab/obotvinnik/singlecell_pnms/bed/constitutive_exons.bed /projects/ps-yeolab/obotvinnik/singlecell_pnms/csvs_for_paper/splicing_feature_data/constitutive/constitutive_exons_phastcons_placental_mammal.txt -bedOut=/projects/ps-yeolab/obotvinnik/singlecell_pnms/csvs_for_paper/splicing_feature_data/constitutive/constitutive_exons_phastcons_placental_mammal.bed"
   ]
  },
  {
   "cell_type": "code",
   "execution_count": 5,
   "metadata": {
    "collapsed": false
   },
   "outputs": [
    {
     "name": "stdout",
     "output_type": "stream",
     "text": [
      "\r\n",
      "tscc-mgr.local: \r\n",
      "                                                                                  Req'd    Req'd       Elap\r\n",
      "Job ID                  Username    Queue    Jobname          SessID  NDS   TSK   Memory   Time    S   Time\r\n",
      "----------------------- ----------- -------- ---------------- ------ ----- ------ ------ --------- - ---------\r\n",
      "4375491.tscc-mgr.local  obotvinnik  home-yeo STDIN              3279     1      8    --  168:00:00 R  97:53:02\r\n",
      "4383137.tscc-mgr.local  obotvinnik  home-scr basewise_conserv  17745     1     16    --   48:00:00 R  00:29:23\r\n",
      "4383203.tscc-mgr.local  obotvinnik  home-scr first_last_inter  32692     1      1    --   96:00:00 R  00:29:18\r\n",
      "4383206.tscc-mgr.local  obotvinnik  home-scr translate_isofor    399     1      1    --   96:00:00 R  00:29:09\r\n",
      "4383567[].tscc-mgr.loc  obotvinnik  home-scr exonbody_conserv    --      1      1    --   02:00:00 R  02:00:00\r\n"
     ]
    }
   ],
   "source": [
    "!qstat -u $USER"
   ]
  },
  {
   "cell_type": "code",
   "execution_count": null,
   "metadata": {
    "collapsed": true
   },
   "outputs": [],
   "source": []
  }
 ],
 "metadata": {
  "kernelspec": {
   "display_name": "Python 2",
   "language": "python",
   "name": "python2"
  },
  "language_info": {
   "codemirror_mode": {
    "name": "ipython",
    "version": 2
   },
   "file_extension": ".py",
   "mimetype": "text/x-python",
   "name": "python",
   "nbconvert_exporter": "python",
   "pygments_lexer": "ipython2",
   "version": "2.7.11"
  }
 },
 "nbformat": 4,
 "nbformat_minor": 0
}
