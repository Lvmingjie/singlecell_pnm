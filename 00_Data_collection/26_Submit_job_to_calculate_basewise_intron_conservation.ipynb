{
 "cells": [
  {
   "cell_type": "code",
   "execution_count": 1,
   "metadata": {
    "collapsed": false
   },
   "outputs": [],
   "source": [
    "folder = '/projects/ps-yeolab/obotvinnik/singlecell_pnms/'\n",
    "\n",
    "csv_folder = '{}/csvs_for_paper'.format(folder)\n",
    "conservation_folder = '{}/conservation'.format(csv_folder)\n",
    "\n",
    "splicing_feature_folder = '{}/splicing_feature_data'.format(csv_folder)\n",
    "alternative_feature_folder = '{}/alternative'.format(splicing_feature_folder)\n",
    "constitutive_feature_folder = '{}/constitutive'.format(splicing_feature_folder)\n",
    "\n",
    "alt_exons_bedfile = '{}/exons.bed'.format(alternative_feature_folder)\n",
    "constitutive_bedfile = '{}/exons.bed'.format(constitutive_feature_folder)\n",
    "memmap_dir = '/home/obotvinnik/projects/singlecell_pnms/analysis/htseq_memmap'\n",
    "filename = '{}/hg19_phastcons_placental_mammal_htseq.pickle'.format(memmap_dir)\n",
    "\n",
    "\n",
    "__depends__ = [alt_exons_bedfile, constitutive_bedfile, filename]\n",
    "__dest__ = \"../results/stats.json\""
   ]
  },
  {
   "cell_type": "markdown",
   "metadata": {},
   "source": [
    "# Base-wise conservation of introns\n",
    "\n",
    "\n",
    "First, load the memory-mapped pickle file that was created in notebook [0.2.09]"
   ]
  },
  {
   "cell_type": "code",
   "execution_count": 2,
   "metadata": {
    "collapsed": false
   },
   "outputs": [
    {
     "name": "stdout",
     "output_type": "stream",
     "text": [
      "/projects/ps-yeolab/obotvinnik/singlecell_pnms/csvs_for_paper/splicing_feature_data\n"
     ]
    }
   ],
   "source": [
    "cd $splicing_feature_folder"
   ]
  },
  {
   "cell_type": "code",
   "execution_count": 3,
   "metadata": {
    "collapsed": false
   },
   "outputs": [
    {
     "name": "stdout",
     "output_type": "stream",
     "text": [
      "ls: cannot access /home/obotvinnik/projects/singlecell_pnms/analysis/htseq_memmap: No such file or directory\r\n"
     ]
    }
   ],
   "source": [
    "ls -lh /home/obotvinnik/projects/singlecell_pnms/analysis/htseq_memmap"
   ]
  },
  {
   "cell_type": "code",
   "execution_count": 4,
   "metadata": {
    "collapsed": false
   },
   "outputs": [
    {
     "name": "stdout",
     "output_type": "stream",
     "text": [
      "/home/obotvinnik/processing_scripts/singlecell_pnms\n"
     ]
    }
   ],
   "source": [
    "cd ~/projects/singlecell_pnms/scripts"
   ]
  },
  {
   "cell_type": "code",
   "execution_count": 5,
   "metadata": {
    "collapsed": false
   },
   "outputs": [
    {
     "name": "stdout",
     "output_type": "stream",
     "text": [
      "Overwriting basewise_conservation.py\n"
     ]
    }
   ],
   "source": [
    "%%file basewise_conservation.py\n",
    "import glob\n",
    "import os\n",
    "import numpy as np\n",
    "import pandas as pd\n",
    "import pybedtools\n",
    "import HTSeq\n",
    "from flotilla.util import timestamp\n",
    "\n",
    "import cPickle as pickle\n",
    "\n",
    "\n",
    "\n",
    "folder = '/projects/ps-yeolab/obotvinnik/singlecell_pnms/'\n",
    "\n",
    "csv_folder = '{}/csvs_for_paper'.format(folder)\n",
    "conservation_folder = '{}/conservation'.format(csv_folder)\n",
    "\n",
    "splicing_feature_folder = '{}/splicing_feature_data'.format(csv_folder)\n",
    "alternative_feature_folder = '{}/alternative'.format(splicing_feature_folder)\n",
    "constitutive_feature_folder = '{}/constitutive'.format(splicing_feature_folder)\n",
    "\n",
    "alt_exons_bedfile = '{}/exons.bed'.format(alternative_feature_folder)\n",
    "constitutive_bedfile = '{}/exons.bed'.format(constitutive_feature_folder)\n",
    "\n",
    "\n",
    "memmap_dir = '/home/obotvinnik/projects/singlecell_pnms/analysis/htseq_memmap'\n",
    "filename = '{}/hg19_phastcons_placental_mammal_htseq.pickle'.format(memmap_dir)\n",
    "with open(filename) as f:\n",
    "    conservation = pickle.load(f)\n",
    "\n",
    "\n",
    "bedfiles = {'alternative': alt_exons_bedfile, 'constitutive': constitutive_bedfile}\n",
    "\n",
    "directions = 'upstream', 'downstream'\n",
    "\n",
    "nt = 200\n",
    "\n",
    "\n",
    "for exon_type, bedfile in bedfiles.items():\n",
    "    bed = pybedtools.BedTool(bedfile)\n",
    "\n",
    "    basename = os.path.basename(bedfile)\n",
    "    prefix = basename.split('.bed')[0]\n",
    "    \n",
    "    for direction in directions:\n",
    "        if direction == 'downstream':\n",
    "            # Get downstream intron\n",
    "            intron = bed.flank(l=0, r=nt, s=True, g=pybedtools.chromsizes('hg19'))\n",
    "        else:\n",
    "            intron = bed.flank(l=nt, r=0, s=True, g=pybedtools.chromsizes('hg19'))\n",
    "        \n",
    "        # Get just unique upstream,/downstream\n",
    "        intron = pybedtools.BedTool(list(set(x for x in intron)))\n",
    "        nrow = len(intron)\n",
    "        ncol = nt\n",
    "        array = np.zeros(shape=(nrow, ncol), dtype=float)\n",
    "        junction_ids = pd.Series(index=np.arange(nrow))\n",
    "\n",
    "        print 'Iterating over {} intervals in {} {}nt of {} ...'.format(nrow, direction, nt, basename)\n",
    "        for i, interval in enumerate(intron):\n",
    "            if (i+1) % 10000 == 0:\n",
    "                print '\\t{}\\t{}/{}'.format(timestamp(), i+1, nrow)\n",
    "            junction_ids[i] = interval.name\n",
    "            region = conservation[HTSeq.GenomicInterval(str(interval.chrom), interval.start, interval.stop)]\n",
    "            count = sum(1 for _ in region.values())\n",
    "            subset = np.fromiter(region.values(),\n",
    "                                 dtype=float, count=count)\n",
    "            if interval.strand == '-':\n",
    "                subset = subset[::-1]\n",
    "                j = nt - count\n",
    "                array[i][j:] = subset\n",
    "            else:\n",
    "                j = count\n",
    "                array[i][:j] = subset\n",
    "        intron_conservation = pd.DataFrame(array, index=junction_ids.values)\n",
    "        filename = '{}/{}/{}{}_placental_mammal_conservation.csv'.format(splicing_feature_folder, exon_type, direction, nt)\n",
    "        print '\\t', filename\n",
    "        intron_conservation.to_csv(filename)\n"
   ]
  },
  {
   "cell_type": "code",
   "execution_count": 6,
   "metadata": {
    "collapsed": false
   },
   "outputs": [
    {
     "name": "stderr",
     "output_type": "stream",
     "text": [
      "Wrote commands to basewise_conservation.sh.\n",
      "Submitted script to queue home.\n",
      " Job ID: 7481446\n"
     ]
    },
    {
     "data": {
      "text/plain": [
       "<qtools.submitter.Submitter at 0x2b099c0edc10>"
      ]
     },
     "execution_count": 6,
     "metadata": {},
     "output_type": "execute_result"
    }
   ],
   "source": [
    "command = 'time python /projects/ps-yeolab/obotvinnik/singlecell_pnms/csvs_for_paper/splicing_feature_data/basewise_conservation.py'\n",
    "commands = [command]\n",
    "\n",
    "from qtools import Submitter\n",
    "\n",
    "Submitter(commands, 'basewise_conservation', walltime='72:00:00', ppn=8)"
   ]
  },
  {
   "cell_type": "code",
   "execution_count": 7,
   "metadata": {
    "collapsed": false
   },
   "outputs": [
    {
     "name": "stdout",
     "output_type": "stream",
     "text": [
      "-rw-r--r-- 1 obotvinnik yeo-group 2.8K Jan 16 08:13 basewise_conservation.py\r\n",
      "-rw-r--r-- 1 obotvinnik yeo-group  399 Jan 16 08:13 basewise_conservation.sh\r\n",
      "-rw------- 1 obotvinnik yeo-group  848 Jan 10 17:12 basewise_conservation.sh.err\r\n",
      "-rw------- 1 obotvinnik yeo-group   24 Jan 10 17:12 basewise_conservation.sh.out\r\n"
     ]
    }
   ],
   "source": [
    "! ls -lha basewise_conservation*"
   ]
  },
  {
   "cell_type": "code",
   "execution_count": 9,
   "metadata": {
    "collapsed": false
   },
   "outputs": [
    {
     "name": "stdout",
     "output_type": "stream",
     "text": [
      "==> basewise_conservation.py <==\r\n",
      "                subset = subset[::-1]\r\n",
      "                j = nt - count\r\n",
      "                array[i][j:] = subset\r\n",
      "            else:\r\n",
      "                j = count\r\n",
      "                array[i][:j] = subset\r\n",
      "        intron_conservation = pd.DataFrame(array, index=junction_ids.values)\r\n",
      "        filename = '{}/{}/{}{}_placental_mammal_conservation.csv'.format(splicing_feature_folder, exon_type, direction, nt)\r\n",
      "        print '\\t', filename\r\n",
      "        intron_conservation.to_csv(filename)\r\n",
      "==> basewise_conservation.sh <==\r\n",
      "#PBS -V\r\n",
      "#PBS -l walltime=72:00:00\r\n",
      "#PBS -l nodes=1:ppn=8\r\n",
      "#PBS -A yeo-group\r\n",
      "#PBS -q home\r\n",
      "\r\n",
      "# Go to the directory from which the script was called\r\n",
      "cd $PBS_O_WORKDIR\r\n",
      "time python /projects/ps-yeolab/obotvinnik/singlecell_pnms/csvs_for_paper/splicing_feature_data/basewise_conservation.py\r\n",
      "\r\n",
      "\r\n",
      "==> basewise_conservation.sh.err <==\r\n",
      "/home/obotvinnik/anaconda/lib/python2.7/site-packages/sklearn/cross_validation.py:44: DeprecationWarning: This module was deprecated in version 0.18 in favor of the model_selection module into which all the refactored classes and functions are moved. Also note that the interface of the new CV iterators are different from that of this module. This module will be removed in 0.20.\r\n",
      "  \"This module will be removed in 0.20.\", DeprecationWarning)\r\n",
      "Traceback (most recent call last):\r\n",
      "  File \"/projects/ps-yeolab/obotvinnik/singlecell_pnms/csvs_for_paper/splicing_feature_data/basewise_conservation.py\", line 28, in <module>\r\n",
      "    with open(filename) as f:\r\n",
      "IOError: [Errno 2] No such file or directory: '/home/obotvinnik/projects/singlecell_pnms/analysis/htseq_memmap/hg19_phastcons_placental_mammal_htseq.pickle'\r\n",
      "\r\n",
      "real\t0m20.248s\r\n",
      "user\t0m1.654s\r\n",
      "sys\t0m1.069s\r\n",
      "\r\n",
      "==> basewise_conservation.sh.out <==\r\n",
      "Nodes:        tscc-2-51\r\n"
     ]
    }
   ],
   "source": [
    "! tail basewise_conservation*"
   ]
  },
  {
   "cell_type": "code",
   "execution_count": null,
   "metadata": {
    "collapsed": true
   },
   "outputs": [],
   "source": []
  },
  {
   "cell_type": "code",
   "execution_count": null,
   "metadata": {
    "collapsed": true
   },
   "outputs": [],
   "source": []
  }
 ],
 "metadata": {
  "kernelspec": {
   "display_name": "Python 2",
   "language": "python",
   "name": "python2"
  },
  "language_info": {
   "codemirror_mode": {
    "name": "ipython",
    "version": 2
   },
   "file_extension": ".py",
   "mimetype": "text/x-python",
   "name": "python",
   "nbconvert_exporter": "python",
   "pygments_lexer": "ipython2",
   "version": "2.7.11"
  }
 },
 "nbformat": 4,
 "nbformat_minor": 0
}
