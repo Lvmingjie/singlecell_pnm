{
 "cells": [
  {
   "cell_type": "markdown",
   "metadata": {},
   "source": [
    "### Age of gene\n",
    "\n",
    "Downloaded from from Domazet-Loso & Tautz, *Mol Biol Evol* (2008) [doi: 10.1093/molbev/msn214]"
   ]
  },
  {
   "cell_type": "code",
   "execution_count": 1,
   "metadata": {
    "collapsed": false
   },
   "outputs": [
    {
     "name": "stdout",
     "output_type": "stream",
     "text": [
      "--2017-01-17 10:25:27--  http://mbe.oxfordjournals.org/content/suppl/2008/09/25/msn214.DC1/mbe-08-0522-File008_msn214.xls\n",
      "Resolving mbe.oxfordjournals.org... 104.232.27.198\n",
      "Connecting to mbe.oxfordjournals.org|104.232.27.198|:80... connected.\n",
      "HTTP request sent, awaiting response... 200 OK\n",
      "Length: 2783232 (2.7M) [application/vnd.ms-excel]\n",
      "Saving to: `mbe-08-0522-File008_msn214.xls'\n",
      "\n",
      "100%[======================================>] 2,783,232   5.01M/s   in 0.5s    \n",
      "\n",
      "2017-01-17 10:25:29 (5.01 MB/s) - `mbe-08-0522-File008_msn214.xls' saved [2783232/2783232]\n",
      "\n"
     ]
    }
   ],
   "source": [
    "! wget http://mbe.oxfordjournals.org/content/suppl/2008/09/25/msn214.DC1/mbe-08-0522-File008_msn214.xls"
   ]
  },
  {
   "cell_type": "code",
   "execution_count": 2,
   "metadata": {
    "collapsed": false
   },
   "outputs": [
    {
     "data": {
      "text/html": [
       "<div>\n",
       "<table border=\"1\" class=\"dataframe\">\n",
       "  <thead>\n",
       "    <tr style=\"text-align: right;\">\n",
       "      <th></th>\n",
       "      <th>Protein_ID</th>\n",
       "      <th>Gene_ID</th>\n",
       "      <th>Phylostratum</th>\n",
       "      <th>Phylogenetic_Internode</th>\n",
       "    </tr>\n",
       "  </thead>\n",
       "  <tbody>\n",
       "    <tr>\n",
       "      <th>0</th>\n",
       "      <td>ENSP00000215855</td>\n",
       "      <td>ENSG00000100053</td>\n",
       "      <td>1</td>\n",
       "      <td>Life before LCA of Cellular_organisms - Cellul...</td>\n",
       "    </tr>\n",
       "    <tr>\n",
       "      <th>1</th>\n",
       "      <td>ENSP00000215861</td>\n",
       "      <td>ENSG00000100058</td>\n",
       "      <td>1</td>\n",
       "      <td>Life before LCA of Cellular_organisms - Cellul...</td>\n",
       "    </tr>\n",
       "    <tr>\n",
       "      <th>2</th>\n",
       "      <td>ENSP00000372186</td>\n",
       "      <td>ENSG00000206066</td>\n",
       "      <td>1</td>\n",
       "      <td>Life before LCA of Cellular_organisms - Cellul...</td>\n",
       "    </tr>\n",
       "    <tr>\n",
       "      <th>3</th>\n",
       "      <td>ENSP00000215872</td>\n",
       "      <td>ENSG00000100068</td>\n",
       "      <td>1</td>\n",
       "      <td>Life before LCA of Cellular_organisms - Cellul...</td>\n",
       "    </tr>\n",
       "    <tr>\n",
       "      <th>4</th>\n",
       "      <td>ENSP00000317578</td>\n",
       "      <td>ENSG00000100077</td>\n",
       "      <td>1</td>\n",
       "      <td>Life before LCA of Cellular_organisms - Cellul...</td>\n",
       "    </tr>\n",
       "  </tbody>\n",
       "</table>\n",
       "</div>"
      ],
      "text/plain": [
       "        Protein_ID          Gene_ID  Phylostratum  \\\n",
       "0  ENSP00000215855  ENSG00000100053             1   \n",
       "1  ENSP00000215861  ENSG00000100058             1   \n",
       "2  ENSP00000372186  ENSG00000206066             1   \n",
       "3  ENSP00000215872  ENSG00000100068             1   \n",
       "4  ENSP00000317578  ENSG00000100077             1   \n",
       "\n",
       "                              Phylogenetic_Internode  \n",
       "0  Life before LCA of Cellular_organisms - Cellul...  \n",
       "1  Life before LCA of Cellular_organisms - Cellul...  \n",
       "2  Life before LCA of Cellular_organisms - Cellul...  \n",
       "3  Life before LCA of Cellular_organisms - Cellul...  \n",
       "4  Life before LCA of Cellular_organisms - Cellul...  "
      ]
     },
     "execution_count": 2,
     "metadata": {},
     "output_type": "execute_result"
    }
   ],
   "source": [
    "import pandas as pd\n",
    "\n",
    "gene_age = pd.read_excel('mbe-08-0522-File008_msn214.xls', sheetname='Table S3a', skiprows=1)\n",
    "gene_age.head()"
   ]
  },
  {
   "cell_type": "code",
   "execution_count": 3,
   "metadata": {
    "collapsed": false
   },
   "outputs": [
    {
     "data": {
      "text/html": [
       "<div>\n",
       "<table border=\"1\" class=\"dataframe\">\n",
       "  <thead>\n",
       "    <tr style=\"text-align: right;\">\n",
       "      <th></th>\n",
       "      <th>Protein_ID</th>\n",
       "      <th>domazetloso2008_phylostratum</th>\n",
       "      <th>Phylogenetic_Internode</th>\n",
       "    </tr>\n",
       "    <tr>\n",
       "      <th>Gene_ID</th>\n",
       "      <th></th>\n",
       "      <th></th>\n",
       "      <th></th>\n",
       "    </tr>\n",
       "  </thead>\n",
       "  <tbody>\n",
       "    <tr>\n",
       "      <th>ENSG00000100053</th>\n",
       "      <td>ENSP00000215855</td>\n",
       "      <td>1</td>\n",
       "      <td>Life before LCA of Cellular_organisms - Cellul...</td>\n",
       "    </tr>\n",
       "    <tr>\n",
       "      <th>ENSG00000100058</th>\n",
       "      <td>ENSP00000215861</td>\n",
       "      <td>1</td>\n",
       "      <td>Life before LCA of Cellular_organisms - Cellul...</td>\n",
       "    </tr>\n",
       "    <tr>\n",
       "      <th>ENSG00000206066</th>\n",
       "      <td>ENSP00000372186</td>\n",
       "      <td>1</td>\n",
       "      <td>Life before LCA of Cellular_organisms - Cellul...</td>\n",
       "    </tr>\n",
       "    <tr>\n",
       "      <th>ENSG00000100068</th>\n",
       "      <td>ENSP00000215872</td>\n",
       "      <td>1</td>\n",
       "      <td>Life before LCA of Cellular_organisms - Cellul...</td>\n",
       "    </tr>\n",
       "    <tr>\n",
       "      <th>ENSG00000100077</th>\n",
       "      <td>ENSP00000317578</td>\n",
       "      <td>1</td>\n",
       "      <td>Life before LCA of Cellular_organisms - Cellul...</td>\n",
       "    </tr>\n",
       "  </tbody>\n",
       "</table>\n",
       "</div>"
      ],
      "text/plain": [
       "                      Protein_ID  domazetloso2008_phylostratum  \\\n",
       "Gene_ID                                                          \n",
       "ENSG00000100053  ENSP00000215855                             1   \n",
       "ENSG00000100058  ENSP00000215861                             1   \n",
       "ENSG00000206066  ENSP00000372186                             1   \n",
       "ENSG00000100068  ENSP00000215872                             1   \n",
       "ENSG00000100077  ENSP00000317578                             1   \n",
       "\n",
       "                                            Phylogenetic_Internode  \n",
       "Gene_ID                                                             \n",
       "ENSG00000100053  Life before LCA of Cellular_organisms - Cellul...  \n",
       "ENSG00000100058  Life before LCA of Cellular_organisms - Cellul...  \n",
       "ENSG00000206066  Life before LCA of Cellular_organisms - Cellul...  \n",
       "ENSG00000100068  Life before LCA of Cellular_organisms - Cellul...  \n",
       "ENSG00000100077  Life before LCA of Cellular_organisms - Cellul...  "
      ]
     },
     "execution_count": 3,
     "metadata": {},
     "output_type": "execute_result"
    }
   ],
   "source": [
    "gene_age = gene_age.set_index('Gene_ID')\n",
    "gene_age = gene_age.rename(columns={'Phylostratum': 'domazetloso2008_phylostratum'})\n",
    "gene_age.head()"
   ]
  },
  {
   "cell_type": "code",
   "execution_count": null,
   "metadata": {
    "collapsed": true
   },
   "outputs": [],
   "source": [
    "gene_age.to_csv('')"
   ]
  }
 ],
 "metadata": {
  "kernelspec": {
   "display_name": "Python 2",
   "language": "python",
   "name": "python2"
  },
  "language_info": {
   "codemirror_mode": {
    "name": "ipython",
    "version": 2
   },
   "file_extension": ".py",
   "mimetype": "text/x-python",
   "name": "python",
   "nbconvert_exporter": "python",
   "pygments_lexer": "ipython2",
   "version": "2.7.11"
  }
 },
 "nbformat": 4,
 "nbformat_minor": 0
}
