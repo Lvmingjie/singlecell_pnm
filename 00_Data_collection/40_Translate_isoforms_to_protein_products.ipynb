{
 "cells": [
  {
   "cell_type": "markdown",
   "metadata": {},
   "source": [
    "# Translate isoforms to get protein products"
   ]
  },
  {
   "cell_type": "code",
   "execution_count": 1,
   "metadata": {
    "collapsed": false
   },
   "outputs": [],
   "source": [
    "%load_ext autoreload\n",
    "%autoreload 2\n",
    "\n",
    "import pandas as pd\n",
    "import gffutils\n",
    "import pybedtools\n",
    "import re\n",
    "import numpy as np\n",
    "\n",
    "v19db_filename = '/projects/ps-yeolab/genomes/hg19/gencode/v19/gencode.v19.annotation.gtf.db'\n",
    "v19db = gffutils.FeatureDB(v19db_filename)\n",
    "\n",
    "folder = '/projects/ps-yeolab/obotvinnik/singlecell_pnms'\n",
    "csv_folder = '{}/csvs_for_paper/'.format(folder)\n",
    "\n",
    "\n",
    "splicing_feature_folder = '{}/splicing_feature_data'.format(csv_folder)\n",
    "alternative_feature_folder = '{}/alternative'.format(splicing_feature_folder)\n",
    "constitutive_feature_folder = '{}/constitutive'.format(splicing_feature_folder)"
   ]
  },
  {
   "cell_type": "code",
   "execution_count": 2,
   "metadata": {
    "collapsed": false
   },
   "outputs": [],
   "source": [
    "# splicing_feature_data = pd.read_csv('{}/splicing_feature_data.csv'.format(csv_folder), index_col=0)"
   ]
  },
  {
   "cell_type": "code",
   "execution_count": 3,
   "metadata": {
    "collapsed": false
   },
   "outputs": [],
   "source": [
    "# splicing_feature_data.head()"
   ]
  },
  {
   "cell_type": "markdown",
   "metadata": {},
   "source": [
    "## Translate isoform"
   ]
  },
  {
   "cell_type": "code",
   "execution_count": 4,
   "metadata": {
    "collapsed": false
   },
   "outputs": [],
   "source": [
    "prefix = 'isoform_translations'\n",
    "translated_fasta = '{}/{}.fa'.format(alternative_feature_folder, prefix)"
   ]
  },
  {
   "cell_type": "code",
   "execution_count": 5,
   "metadata": {
    "collapsed": false
   },
   "outputs": [
    {
     "name": "stdout",
     "output_type": "stream",
     "text": [
      "/projects/ps-yeolab/obotvinnik/singlecell_pnms/outrigger_v2\n",
      "|-- index\n",
      "|   |-- gtf\n",
      "|   |   |-- gencode.v19.annotation.gtf.db\n",
      "|   |   `-- novel_exons.gtf\n",
      "|   |-- junction_exon_direction_triples.csv\n",
      "|   |-- mxe\n",
      "|   |   |-- event.bed\n",
      "|   |   |-- events.csv\n",
      "|   |   |-- exon1.bed\n",
      "|   |   |-- exon2.bed\n",
      "|   |   |-- exon3.bed\n",
      "|   |   |-- exon4.bed\n",
      "|   |   |-- intron.bed\n",
      "|   |   |-- manual_metadata.csv\n",
      "|   |   |-- splice_sites.csv\n",
      "|   |   `-- validated\n",
      "|   |       `-- events.csv\n",
      "|   `-- se\n",
      "|       |-- event.bed\n",
      "|       |-- events.csv\n",
      "|       |-- exon1.bed\n",
      "|       |-- exon2.bed\n",
      "|       |-- exon3.bed\n",
      "|       |-- intron.bed\n",
      "|       |-- manual_metadata.csv\n",
      "|       |-- splice_sites.csv\n",
      "|       `-- validated\n",
      "|           |-- events.csv\n",
      "|           `-- events.csv.bak\n",
      "|-- junctions\n",
      "|   |-- metadata.csv\n",
      "|   `-- reads.csv\n",
      "`-- psi\n",
      "    |-- mxe\n",
      "    |   |-- psi.csv\n",
      "    |   `-- summary.csv\n",
      "    |-- outrigger_psi.csv\n",
      "    |-- se\n",
      "    |   |-- psi.csv\n",
      "    |   `-- summary.csv\n",
      "    `-- summary_formatted.csv\n",
      "\n",
      "10 directories, 31 files\n"
     ]
    }
   ],
   "source": [
    "outrigger_folder = '{}/outrigger_v2'.format(folder)\n",
    "! tree $outrigger_folder"
   ]
  },
  {
   "cell_type": "code",
   "execution_count": 6,
   "metadata": {
    "collapsed": true
   },
   "outputs": [],
   "source": [
    "from outrigger.common import SPLICE_TYPE_ISOFORM_EXONS"
   ]
  },
  {
   "cell_type": "code",
   "execution_count": 7,
   "metadata": {
    "collapsed": false
   },
   "outputs": [
    {
     "name": "stdout",
     "output_type": "stream",
     "text": [
      "(5496430, 28)\n"
     ]
    },
    {
     "name": "stderr",
     "output_type": "stream",
     "text": [
      "/home/obotvinnik/anaconda/lib/python2.7/site-packages/IPython/core/interactiveshell.py:2723: DtypeWarning: Columns (22,23) have mixed types. Specify dtype option on import or set low_memory=False.\n",
      "  interactivity=interactivity, compiler=compiler, result=result)\n"
     ]
    },
    {
     "data": {
      "text/html": [
       "<div>\n",
       "<table border=\"1\" class=\"dataframe\">\n",
       "  <thead>\n",
       "    <tr style=\"text-align: right;\">\n",
       "      <th></th>\n",
       "      <th>exon1</th>\n",
       "      <th>exon2</th>\n",
       "      <th>exon3</th>\n",
       "      <th>event_length</th>\n",
       "      <th>event_location</th>\n",
       "      <th>exon1_length</th>\n",
       "      <th>exon2_length</th>\n",
       "      <th>exon3_length</th>\n",
       "      <th>illegal_junctions</th>\n",
       "      <th>intron_length</th>\n",
       "      <th>...</th>\n",
       "      <th>gene_status</th>\n",
       "      <th>gene_type</th>\n",
       "      <th>havana_gene</th>\n",
       "      <th>level</th>\n",
       "      <th>tag</th>\n",
       "      <th>transcript_id</th>\n",
       "      <th>transcript_name</th>\n",
       "      <th>transcript_status</th>\n",
       "      <th>transcript_type</th>\n",
       "      <th>ensembl_id</th>\n",
       "    </tr>\n",
       "  </thead>\n",
       "  <tbody>\n",
       "    <tr>\n",
       "      <th>isoform1=junction:chr10:100189400-100190327:-|isoform2=junction:chr10:100189647-100190327:-@exon:chr10:100189548-100189646:-@junction:chr10:100189400-100189547:-</th>\n",
       "      <td>exon:chr10:100190328-100190427:-</td>\n",
       "      <td>exon:chr10:100189548-100189646:-</td>\n",
       "      <td>exon:chr10:100188908-100189399:-</td>\n",
       "      <td>1520.0</td>\n",
       "      <td>event:chr10:100188908-100190427:-</td>\n",
       "      <td>100.0</td>\n",
       "      <td>99.0</td>\n",
       "      <td>492.0</td>\n",
       "      <td>NaN</td>\n",
       "      <td>930.0</td>\n",
       "      <td>...</td>\n",
       "      <td>KNOWN</td>\n",
       "      <td>protein_coding</td>\n",
       "      <td>OTTHUMG00000018876.1</td>\n",
       "      <td>2</td>\n",
       "      <td>ncRNA_host</td>\n",
       "      <td>ENSG00000107521.14</td>\n",
       "      <td>HPS1</td>\n",
       "      <td>KNOWN</td>\n",
       "      <td>protein_coding</td>\n",
       "      <td>ENSG00000107521</td>\n",
       "    </tr>\n",
       "    <tr>\n",
       "      <th>isoform1=junction:chr10:100189400-100190327:-|isoform2=junction:chr10:100189647-100190327:-@exon:chr10:100189548-100189646:-@junction:chr10:100189400-100189547:-</th>\n",
       "      <td>exon:chr10:100190328-100190427:-</td>\n",
       "      <td>exon:chr10:100189548-100189646:-</td>\n",
       "      <td>exon:chr10:100188908-100189399:-</td>\n",
       "      <td>1515.0</td>\n",
       "      <td>event:chr10:100188913-100190427:-</td>\n",
       "      <td>100.0</td>\n",
       "      <td>99.0</td>\n",
       "      <td>487.0</td>\n",
       "      <td>NaN</td>\n",
       "      <td>930.0</td>\n",
       "      <td>...</td>\n",
       "      <td>KNOWN</td>\n",
       "      <td>protein_coding</td>\n",
       "      <td>OTTHUMG00000018876.1</td>\n",
       "      <td>2</td>\n",
       "      <td>ncRNA_host</td>\n",
       "      <td>ENSG00000107521.14</td>\n",
       "      <td>HPS1</td>\n",
       "      <td>KNOWN</td>\n",
       "      <td>protein_coding</td>\n",
       "      <td>ENSG00000107521</td>\n",
       "    </tr>\n",
       "    <tr>\n",
       "      <th>isoform1=junction:chr10:100189400-100190327:-|isoform2=junction:chr10:100189647-100190327:-@exon:chr10:100189548-100189646:-@junction:chr10:100189400-100189547:-</th>\n",
       "      <td>exon:chr10:100190328-100190427:-</td>\n",
       "      <td>exon:chr10:100189548-100189646:-</td>\n",
       "      <td>exon:chr10:100188908-100189399:-</td>\n",
       "      <td>1098.0</td>\n",
       "      <td>event:chr10:100189330-100190427:-</td>\n",
       "      <td>100.0</td>\n",
       "      <td>99.0</td>\n",
       "      <td>70.0</td>\n",
       "      <td>NaN</td>\n",
       "      <td>930.0</td>\n",
       "      <td>...</td>\n",
       "      <td>KNOWN</td>\n",
       "      <td>protein_coding</td>\n",
       "      <td>OTTHUMG00000018876.1</td>\n",
       "      <td>2</td>\n",
       "      <td>ncRNA_host</td>\n",
       "      <td>ENSG00000107521.14</td>\n",
       "      <td>HPS1</td>\n",
       "      <td>KNOWN</td>\n",
       "      <td>protein_coding</td>\n",
       "      <td>ENSG00000107521</td>\n",
       "    </tr>\n",
       "    <tr>\n",
       "      <th>isoform1=junction:chr10:100189400-100190327:-|isoform2=junction:chr10:100189647-100190327:-@exon:chr10:100189548-100189646:-@junction:chr10:100189400-100189547:-</th>\n",
       "      <td>exon:chr10:100190328-100190427:-</td>\n",
       "      <td>exon:chr10:100189548-100189646:-</td>\n",
       "      <td>exon:chr10:100188913-100189399:-</td>\n",
       "      <td>1520.0</td>\n",
       "      <td>event:chr10:100188908-100190427:-</td>\n",
       "      <td>100.0</td>\n",
       "      <td>99.0</td>\n",
       "      <td>492.0</td>\n",
       "      <td>NaN</td>\n",
       "      <td>930.0</td>\n",
       "      <td>...</td>\n",
       "      <td>KNOWN</td>\n",
       "      <td>protein_coding</td>\n",
       "      <td>OTTHUMG00000018876.1</td>\n",
       "      <td>2</td>\n",
       "      <td>ncRNA_host</td>\n",
       "      <td>ENSG00000107521.14</td>\n",
       "      <td>HPS1</td>\n",
       "      <td>KNOWN</td>\n",
       "      <td>protein_coding</td>\n",
       "      <td>ENSG00000107521</td>\n",
       "    </tr>\n",
       "    <tr>\n",
       "      <th>isoform1=junction:chr10:100189400-100190327:-|isoform2=junction:chr10:100189647-100190327:-@exon:chr10:100189548-100189646:-@junction:chr10:100189400-100189547:-</th>\n",
       "      <td>exon:chr10:100190328-100190427:-</td>\n",
       "      <td>exon:chr10:100189548-100189646:-</td>\n",
       "      <td>exon:chr10:100188913-100189399:-</td>\n",
       "      <td>1515.0</td>\n",
       "      <td>event:chr10:100188913-100190427:-</td>\n",
       "      <td>100.0</td>\n",
       "      <td>99.0</td>\n",
       "      <td>487.0</td>\n",
       "      <td>NaN</td>\n",
       "      <td>930.0</td>\n",
       "      <td>...</td>\n",
       "      <td>KNOWN</td>\n",
       "      <td>protein_coding</td>\n",
       "      <td>OTTHUMG00000018876.1</td>\n",
       "      <td>2</td>\n",
       "      <td>ncRNA_host</td>\n",
       "      <td>ENSG00000107521.14</td>\n",
       "      <td>HPS1</td>\n",
       "      <td>KNOWN</td>\n",
       "      <td>protein_coding</td>\n",
       "      <td>ENSG00000107521</td>\n",
       "    </tr>\n",
       "  </tbody>\n",
       "</table>\n",
       "<p>5 rows × 28 columns</p>\n",
       "</div>"
      ],
      "text/plain": [
       "                                                                               exon1  \\\n",
       "isoform1=junction:chr10:100189400-100190327:-|i...  exon:chr10:100190328-100190427:-   \n",
       "isoform1=junction:chr10:100189400-100190327:-|i...  exon:chr10:100190328-100190427:-   \n",
       "isoform1=junction:chr10:100189400-100190327:-|i...  exon:chr10:100190328-100190427:-   \n",
       "isoform1=junction:chr10:100189400-100190327:-|i...  exon:chr10:100190328-100190427:-   \n",
       "isoform1=junction:chr10:100189400-100190327:-|i...  exon:chr10:100190328-100190427:-   \n",
       "\n",
       "                                                                               exon2  \\\n",
       "isoform1=junction:chr10:100189400-100190327:-|i...  exon:chr10:100189548-100189646:-   \n",
       "isoform1=junction:chr10:100189400-100190327:-|i...  exon:chr10:100189548-100189646:-   \n",
       "isoform1=junction:chr10:100189400-100190327:-|i...  exon:chr10:100189548-100189646:-   \n",
       "isoform1=junction:chr10:100189400-100190327:-|i...  exon:chr10:100189548-100189646:-   \n",
       "isoform1=junction:chr10:100189400-100190327:-|i...  exon:chr10:100189548-100189646:-   \n",
       "\n",
       "                                                                               exon3  \\\n",
       "isoform1=junction:chr10:100189400-100190327:-|i...  exon:chr10:100188908-100189399:-   \n",
       "isoform1=junction:chr10:100189400-100190327:-|i...  exon:chr10:100188908-100189399:-   \n",
       "isoform1=junction:chr10:100189400-100190327:-|i...  exon:chr10:100188908-100189399:-   \n",
       "isoform1=junction:chr10:100189400-100190327:-|i...  exon:chr10:100188913-100189399:-   \n",
       "isoform1=junction:chr10:100189400-100190327:-|i...  exon:chr10:100188913-100189399:-   \n",
       "\n",
       "                                                    event_length  \\\n",
       "isoform1=junction:chr10:100189400-100190327:-|i...        1520.0   \n",
       "isoform1=junction:chr10:100189400-100190327:-|i...        1515.0   \n",
       "isoform1=junction:chr10:100189400-100190327:-|i...        1098.0   \n",
       "isoform1=junction:chr10:100189400-100190327:-|i...        1520.0   \n",
       "isoform1=junction:chr10:100189400-100190327:-|i...        1515.0   \n",
       "\n",
       "                                                                       event_location  \\\n",
       "isoform1=junction:chr10:100189400-100190327:-|i...  event:chr10:100188908-100190427:-   \n",
       "isoform1=junction:chr10:100189400-100190327:-|i...  event:chr10:100188913-100190427:-   \n",
       "isoform1=junction:chr10:100189400-100190327:-|i...  event:chr10:100189330-100190427:-   \n",
       "isoform1=junction:chr10:100189400-100190327:-|i...  event:chr10:100188908-100190427:-   \n",
       "isoform1=junction:chr10:100189400-100190327:-|i...  event:chr10:100188913-100190427:-   \n",
       "\n",
       "                                                    exon1_length  \\\n",
       "isoform1=junction:chr10:100189400-100190327:-|i...         100.0   \n",
       "isoform1=junction:chr10:100189400-100190327:-|i...         100.0   \n",
       "isoform1=junction:chr10:100189400-100190327:-|i...         100.0   \n",
       "isoform1=junction:chr10:100189400-100190327:-|i...         100.0   \n",
       "isoform1=junction:chr10:100189400-100190327:-|i...         100.0   \n",
       "\n",
       "                                                    exon2_length  \\\n",
       "isoform1=junction:chr10:100189400-100190327:-|i...          99.0   \n",
       "isoform1=junction:chr10:100189400-100190327:-|i...          99.0   \n",
       "isoform1=junction:chr10:100189400-100190327:-|i...          99.0   \n",
       "isoform1=junction:chr10:100189400-100190327:-|i...          99.0   \n",
       "isoform1=junction:chr10:100189400-100190327:-|i...          99.0   \n",
       "\n",
       "                                                    exon3_length  \\\n",
       "isoform1=junction:chr10:100189400-100190327:-|i...         492.0   \n",
       "isoform1=junction:chr10:100189400-100190327:-|i...         487.0   \n",
       "isoform1=junction:chr10:100189400-100190327:-|i...          70.0   \n",
       "isoform1=junction:chr10:100189400-100190327:-|i...         492.0   \n",
       "isoform1=junction:chr10:100189400-100190327:-|i...         487.0   \n",
       "\n",
       "                                                    illegal_junctions  \\\n",
       "isoform1=junction:chr10:100189400-100190327:-|i...                NaN   \n",
       "isoform1=junction:chr10:100189400-100190327:-|i...                NaN   \n",
       "isoform1=junction:chr10:100189400-100190327:-|i...                NaN   \n",
       "isoform1=junction:chr10:100189400-100190327:-|i...                NaN   \n",
       "isoform1=junction:chr10:100189400-100190327:-|i...                NaN   \n",
       "\n",
       "                                                    intron_length  \\\n",
       "isoform1=junction:chr10:100189400-100190327:-|i...          930.0   \n",
       "isoform1=junction:chr10:100189400-100190327:-|i...          930.0   \n",
       "isoform1=junction:chr10:100189400-100190327:-|i...          930.0   \n",
       "isoform1=junction:chr10:100189400-100190327:-|i...          930.0   \n",
       "isoform1=junction:chr10:100189400-100190327:-|i...          930.0   \n",
       "\n",
       "                                                         ...         \\\n",
       "isoform1=junction:chr10:100189400-100190327:-|i...       ...          \n",
       "isoform1=junction:chr10:100189400-100190327:-|i...       ...          \n",
       "isoform1=junction:chr10:100189400-100190327:-|i...       ...          \n",
       "isoform1=junction:chr10:100189400-100190327:-|i...       ...          \n",
       "isoform1=junction:chr10:100189400-100190327:-|i...       ...          \n",
       "\n",
       "                                                   gene_status  \\\n",
       "isoform1=junction:chr10:100189400-100190327:-|i...       KNOWN   \n",
       "isoform1=junction:chr10:100189400-100190327:-|i...       KNOWN   \n",
       "isoform1=junction:chr10:100189400-100190327:-|i...       KNOWN   \n",
       "isoform1=junction:chr10:100189400-100190327:-|i...       KNOWN   \n",
       "isoform1=junction:chr10:100189400-100190327:-|i...       KNOWN   \n",
       "\n",
       "                                                         gene_type  \\\n",
       "isoform1=junction:chr10:100189400-100190327:-|i...  protein_coding   \n",
       "isoform1=junction:chr10:100189400-100190327:-|i...  protein_coding   \n",
       "isoform1=junction:chr10:100189400-100190327:-|i...  protein_coding   \n",
       "isoform1=junction:chr10:100189400-100190327:-|i...  protein_coding   \n",
       "isoform1=junction:chr10:100189400-100190327:-|i...  protein_coding   \n",
       "\n",
       "                                                             havana_gene  \\\n",
       "isoform1=junction:chr10:100189400-100190327:-|i...  OTTHUMG00000018876.1   \n",
       "isoform1=junction:chr10:100189400-100190327:-|i...  OTTHUMG00000018876.1   \n",
       "isoform1=junction:chr10:100189400-100190327:-|i...  OTTHUMG00000018876.1   \n",
       "isoform1=junction:chr10:100189400-100190327:-|i...  OTTHUMG00000018876.1   \n",
       "isoform1=junction:chr10:100189400-100190327:-|i...  OTTHUMG00000018876.1   \n",
       "\n",
       "                                                   level         tag  \\\n",
       "isoform1=junction:chr10:100189400-100190327:-|i...     2  ncRNA_host   \n",
       "isoform1=junction:chr10:100189400-100190327:-|i...     2  ncRNA_host   \n",
       "isoform1=junction:chr10:100189400-100190327:-|i...     2  ncRNA_host   \n",
       "isoform1=junction:chr10:100189400-100190327:-|i...     2  ncRNA_host   \n",
       "isoform1=junction:chr10:100189400-100190327:-|i...     2  ncRNA_host   \n",
       "\n",
       "                                                         transcript_id  \\\n",
       "isoform1=junction:chr10:100189400-100190327:-|i...  ENSG00000107521.14   \n",
       "isoform1=junction:chr10:100189400-100190327:-|i...  ENSG00000107521.14   \n",
       "isoform1=junction:chr10:100189400-100190327:-|i...  ENSG00000107521.14   \n",
       "isoform1=junction:chr10:100189400-100190327:-|i...  ENSG00000107521.14   \n",
       "isoform1=junction:chr10:100189400-100190327:-|i...  ENSG00000107521.14   \n",
       "\n",
       "                                                   transcript_name  \\\n",
       "isoform1=junction:chr10:100189400-100190327:-|i...            HPS1   \n",
       "isoform1=junction:chr10:100189400-100190327:-|i...            HPS1   \n",
       "isoform1=junction:chr10:100189400-100190327:-|i...            HPS1   \n",
       "isoform1=junction:chr10:100189400-100190327:-|i...            HPS1   \n",
       "isoform1=junction:chr10:100189400-100190327:-|i...            HPS1   \n",
       "\n",
       "                                                   transcript_status  \\\n",
       "isoform1=junction:chr10:100189400-100190327:-|i...             KNOWN   \n",
       "isoform1=junction:chr10:100189400-100190327:-|i...             KNOWN   \n",
       "isoform1=junction:chr10:100189400-100190327:-|i...             KNOWN   \n",
       "isoform1=junction:chr10:100189400-100190327:-|i...             KNOWN   \n",
       "isoform1=junction:chr10:100189400-100190327:-|i...             KNOWN   \n",
       "\n",
       "                                                   transcript_type  \\\n",
       "isoform1=junction:chr10:100189400-100190327:-|i...  protein_coding   \n",
       "isoform1=junction:chr10:100189400-100190327:-|i...  protein_coding   \n",
       "isoform1=junction:chr10:100189400-100190327:-|i...  protein_coding   \n",
       "isoform1=junction:chr10:100189400-100190327:-|i...  protein_coding   \n",
       "isoform1=junction:chr10:100189400-100190327:-|i...  protein_coding   \n",
       "\n",
       "                                                         ensembl_id  \n",
       "isoform1=junction:chr10:100189400-100190327:-|i...  ENSG00000107521  \n",
       "isoform1=junction:chr10:100189400-100190327:-|i...  ENSG00000107521  \n",
       "isoform1=junction:chr10:100189400-100190327:-|i...  ENSG00000107521  \n",
       "isoform1=junction:chr10:100189400-100190327:-|i...  ENSG00000107521  \n",
       "isoform1=junction:chr10:100189400-100190327:-|i...  ENSG00000107521  \n",
       "\n",
       "[5 rows x 28 columns]"
      ]
     },
     "execution_count": 7,
     "metadata": {},
     "output_type": "execute_result"
    }
   ],
   "source": [
    "se_metadata = pd.read_csv('{}/index/se/manual_metadata.csv'.format(outrigger_folder), index_col=0)\n",
    "print(se_metadata.shape)\n",
    "se_metadata.head()"
   ]
  },
  {
   "cell_type": "code",
   "execution_count": 8,
   "metadata": {
    "collapsed": true
   },
   "outputs": [],
   "source": [
    "# mxe_metadata = pd.read_csv('{}/index/mxe/manual_metadata.csv'.format(outrigger_folder), index_col=0)\n",
    "# print(mxe_metadata.shape)\n",
    "# mxe_metadata.head()"
   ]
  },
  {
   "cell_type": "code",
   "execution_count": 9,
   "metadata": {
    "collapsed": false
   },
   "outputs": [
    {
     "data": {
      "text/plain": [
       "isoform1=junction:chr10:100189400-100190327:-|isoform2=junction:chr10:100189647-100190327:-@exon:chr10:100189548-100189646:-@junction:chr10:100189400-100189547:-          9\n",
       "isoform1=junction:chr10:100190428-100193696:-|isoform2=junction:chr10:100191049-100193696:-@exon:chr10:100190888-100191048:-@junction:chr10:100190428-100190887:-          1\n",
       "isoform1=junction:chr10:100193849-100195391:-|isoform2=junction:chr10:100195172-100195391:-@exon:chr10:100195029-100195171:-@junction:chr10:100193849-100195028:-          4\n",
       "isoform1=junction:chr10:100193849-100195391:-|isoform2=junction:chr10:100195172-100195391:-@novel_exon:chr10:100195101-100195171:-@junction:chr10:100193849-100195100:-    4\n",
       "isoform1=junction:chr10:101163392-101165512:-|isoform2=junction:chr10:101163632-101165512:-@exon:chr10:101163481-101163631:-@junction:chr10:101163392-101163480:-          1\n",
       "isoform1=junction:chr10:101191023-101193302:+|isoform2=junction:chr10:101191023-101191686:+@novel_exon:chr10:101191687-101191705:+@junction:chr10:101191706-101193302:+    1\n",
       "dtype: int64"
      ]
     },
     "execution_count": 9,
     "metadata": {},
     "output_type": "execute_result"
    }
   ],
   "source": [
    "se_metadata.head(20).groupby(level=0, axis=0).size()"
   ]
  },
  {
   "cell_type": "code",
   "execution_count": 10,
   "metadata": {
    "collapsed": false
   },
   "outputs": [],
   "source": [
    "db_filename = '{}/index/gtf/gencode.v19.annotation.gtf.db'.format(outrigger_folder)\n",
    "\n",
    "db = gffutils.FeatureDB(db_filename)"
   ]
  },
  {
   "cell_type": "code",
   "execution_count": 11,
   "metadata": {
    "collapsed": false
   },
   "outputs": [
    {
     "data": {
      "text/plain": [
       "{'mxe': {'isoform1': ['exon1', 'exon3', 'exon4'],\n",
       "  'isoform2': ['exon1', 'exon2', 'exon4']},\n",
       " 'se': {'isoform1': ['exon1', 'exon3'],\n",
       "  'isoform2': ['exon1', 'exon2', 'exon3']}}"
      ]
     },
     "execution_count": 11,
     "metadata": {},
     "output_type": "execute_result"
    }
   ],
   "source": [
    "SPLICE_TYPE_ISOFORM_EXONS"
   ]
  },
  {
   "cell_type": "code",
   "execution_count": 12,
   "metadata": {
    "collapsed": true
   },
   "outputs": [],
   "source": [
    "from __future__ import print_function"
   ]
  },
  {
   "cell_type": "code",
   "execution_count": 13,
   "metadata": {
    "collapsed": false
   },
   "outputs": [],
   "source": [
    "import pyfaidx\n",
    "\n",
    "hg19_fasta = '/projects/ps-yeolab/genomes/hg19/gencode/v19/GRCh37.p13.genome.fa'\n",
    "\n",
    "\n",
    "genome = pyfaidx.Fasta(hg19_fasta)"
   ]
  },
  {
   "cell_type": "code",
   "execution_count": 14,
   "metadata": {
    "collapsed": false
   },
   "outputs": [
    {
     "name": "stdout",
     "output_type": "stream",
     "text": [
      "Automatic pdb calling has been turned ON\n"
     ]
    }
   ],
   "source": [
    "%pdb"
   ]
  },
  {
   "cell_type": "code",
   "execution_count": 15,
   "metadata": {
    "collapsed": false,
    "scrolled": false
   },
   "outputs": [],
   "source": [
    "import itertools\n",
    "from Bio.Seq import Seq\n",
    "from Bio.SeqRecord import SeqRecord\n",
    "from Bio import SeqIO\n",
    "from Bio.Alphabet import generic_dna, generic_protein\n",
    "from collections import defaultdict\n",
    "\n",
    "from outrigger.region import Region\n",
    "\n",
    "\n",
    "def maybe_get_feature(db, feature_id):\n",
    "    try:\n",
    "        return db[feature_id]\n",
    "    except gffutils.FeatureNotFoundError:\n",
    "        return feature_id\n",
    "    \n",
    "def maybe_get_children(db, feature_id, **kwargs):\n",
    "    try:\n",
    "        return list(db.children(feature_id, **kwargs))\n",
    "    except gffutils.FeatureNotFoundError:\n",
    "        return []\n",
    "    \n",
    "    \n",
    "def maybe_get_parents(db, feature_id, **kwargs):\n",
    "    try:\n",
    "        return list(db.parents(feature_id, **kwargs))\n",
    "    except gffutils.FeatureNotFoundError:\n",
    "        return []\n",
    "    \n",
    "def maybe_get_sequence(features, fasta, genome, reverse=False):\n",
    "#     sequences = []\n",
    "    for feature in features:\n",
    "        if isinstance(feature, gffutils.Feature):\n",
    "            sequence = feature.sequence(fasta)\n",
    "        else:\n",
    "            sequence = genome[feature.chrom][feature.start:feature.stop].seq\n",
    "        if reverse:\n",
    "            sequence = sequence[::-1]\n",
    "        yield sequence\n",
    "#     return sequences\n",
    "\n",
    "\n",
    "def maybe_transcribe(features, fasta, genome, reverse=False):\n",
    "    sequences = maybe_get_sequence(features, reverse=reverse, fasta=fasta, genome=genome)\n",
    "    sequence = Seq(''.join(sequences), generic_dna)\n",
    "    if reverse:\n",
    "        sequence = sequence.complement()\n",
    "    return sequence\n",
    "    \n",
    "    \n",
    "def maybe_translate(features, fasta, genome, reverse=False):\n",
    "    transcribed = maybe_transcribe(features, fasta, genome, reverse=reverse)\n",
    "    transcribed = transcribed[int(features[0].frame):]\n",
    "    translated = transcribed.translate()\n",
    "    return str(translated)\n",
    "    \n",
    "            \n",
    "def translate_event(row, splice_type):\n",
    "#     print(row.name)\n",
    "    translations = []\n",
    "    \n",
    "    event_limit = ':'.join(row['event_location'].split(':')[1:3])\n",
    "    for isoform, exons in SPLICE_TYPE_ISOFORM_EXONS[splice_type].items():\n",
    "#         print('\\t', isoform)\n",
    "\n",
    "        reverse = row['strand'] == '-'\n",
    "\n",
    "        exon_features = [maybe_get_feature(db, row[e]) for e in exons]\n",
    "        exon_ids = [e.id if isinstance(e, gffutils.Feature) else e for e in exon_features]\n",
    "#         print('\\t\\t', exon_ids)\n",
    "\n",
    "        # Have to get parents of all exons because CDSs are the children of transcripts, not exons\n",
    "        transcripts = [set(maybe_get_parents(db, exon_feature, featuretype='transcript')) \n",
    "                       for exon_feature in exon_features]\n",
    "        transcripts_overlapping = set.intersection(*transcripts)\n",
    "#         print('\\t\\t\\toverlapping transcripts:', [t.id for t in transcripts_overlapping])\n",
    "\n",
    "        transcript_cds_features = [maybe_get_children(db, transcript, featuretype='CDS', \n",
    "                                                      order_by='start', reverse=reverse, \n",
    "                                                      limit=event_limit)\n",
    "                        for transcript in transcripts_overlapping]\n",
    "\n",
    "        for transcript, cds_features in zip(transcripts_overlapping, transcript_cds_features):\n",
    "            if len(cds_features) == 0:\n",
    "                continue\n",
    "            cds_features = [cds if cds.id.replace('CDS', 'exon').startswith(exon_id) else Region(exon_id)\n",
    "                            for cds, exon_id in zip(cds_features, exon_ids)]\n",
    "#             print('\\t\\t\\tcds:', cds_features)\n",
    "\n",
    "            translated = maybe_translate(cds_features, hg19_fasta, genome, reverse)\n",
    "#             yield [row.name, isoform, translated, transcript.id]\n",
    "            translations.append([row.name, isoform, translated, transcript.id])\n",
    "    return translations\n",
    "#     return pd.DataFrame(translations, columns=['event_id', 'isoform', 'translation', 'transcript'])\n",
    "            \n",
    "            \n"
   ]
  },
  {
   "cell_type": "markdown",
   "metadata": {},
   "source": [
    "Try with joblib"
   ]
  },
  {
   "cell_type": "code",
   "execution_count": null,
   "metadata": {
    "collapsed": true
   },
   "outputs": [],
   "source": [
    "import joblib"
   ]
  },
  {
   "cell_type": "code",
   "execution_count": null,
   "metadata": {
    "collapsed": false
   },
   "outputs": [],
   "source": [
    "%%time\n",
    "translations = joblib.Parallel(n_jobs=-1)(joblib.delayed(translate_event)(row, 'se') \n",
    "                                          for i, row in se_metadata.head(20).iterrows())\n",
    "# translations_df = pd.DataFrame(list(itertools.chain(*translations)))\n",
    "# print(translations_df.shape)"
   ]
  },
  {
   "cell_type": "markdown",
   "metadata": {},
   "source": [
    "Try with yields instead"
   ]
  },
  {
   "cell_type": "code",
   "execution_count": 64,
   "metadata": {
    "collapsed": false
   },
   "outputs": [],
   "source": [
    "# se_metadata.loc['isoform1=junction:chr10:101191023-101193302:+|isoform2=junction:chr10:101191023-101191686:+@novel_exon:chr10:101191687-101191705:+@junction:chr10:101191706-101193302:+']"
   ]
  },
  {
   "cell_type": "code",
   "execution_count": 65,
   "metadata": {
    "collapsed": false
   },
   "outputs": [
    {
     "name": "stdout",
     "output_type": "stream",
     "text": [
      "isoform1=junction:chr10:101191023-101193302:+|isoform2=junction:chr10:101191023-101191686:+@novel_exon:chr10:101191687-101191705:+@junction:chr10:101191706-101193302:+\n"
     ]
    },
    {
     "ename": "AttributeError",
     "evalue": "'NoneType' object has no attribute 'split'",
     "output_type": "error",
     "traceback": [
      "\u001b[1;31m---------------------------------------------------------------------------\u001b[0m",
      "\u001b[1;31mAttributeError\u001b[0m                            Traceback (most recent call last)",
      "\u001b[1;32m<ipython-input-65-f4fe3e13ec56>\u001b[0m in \u001b[0;36m<module>\u001b[1;34m()\u001b[0m\n\u001b[0;32m      1\u001b[0m \u001b[1;31m# %%time\u001b[0m\u001b[1;33m\u001b[0m\u001b[1;33m\u001b[0m\u001b[0m\n\u001b[0;32m      2\u001b[0m \u001b[0mtranslations\u001b[0m \u001b[1;33m=\u001b[0m \u001b[0mse_metadata\u001b[0m\u001b[1;33m.\u001b[0m\u001b[0mhead\u001b[0m\u001b[1;33m(\u001b[0m\u001b[1;36m20\u001b[0m\u001b[1;33m)\u001b[0m\u001b[1;33m.\u001b[0m\u001b[0mapply\u001b[0m\u001b[1;33m(\u001b[0m\u001b[0mtranslate_event\u001b[0m\u001b[1;33m,\u001b[0m \u001b[0maxis\u001b[0m\u001b[1;33m=\u001b[0m\u001b[1;36m1\u001b[0m\u001b[1;33m,\u001b[0m \u001b[0mraw\u001b[0m\u001b[1;33m=\u001b[0m\u001b[0mTrue\u001b[0m\u001b[1;33m)\u001b[0m\u001b[1;33m\u001b[0m\u001b[0m\n\u001b[1;32m----> 3\u001b[1;33m \u001b[0mtranslations_df\u001b[0m \u001b[1;33m=\u001b[0m \u001b[0mpd\u001b[0m\u001b[1;33m.\u001b[0m\u001b[0mDataFrame\u001b[0m\u001b[1;33m(\u001b[0m\u001b[0mlist\u001b[0m\u001b[1;33m(\u001b[0m\u001b[0mitertools\u001b[0m\u001b[1;33m.\u001b[0m\u001b[0mchain\u001b[0m\u001b[1;33m(\u001b[0m\u001b[1;33m*\u001b[0m\u001b[0mtranslations\u001b[0m\u001b[1;33m)\u001b[0m\u001b[1;33m)\u001b[0m\u001b[1;33m)\u001b[0m\u001b[1;33m\u001b[0m\u001b[0m\n\u001b[0m\u001b[0;32m      4\u001b[0m \u001b[1;32mprint\u001b[0m\u001b[1;33m(\u001b[0m\u001b[0mtranslations_df\u001b[0m\u001b[1;33m.\u001b[0m\u001b[0mshape\u001b[0m\u001b[1;33m)\u001b[0m\u001b[1;33m\u001b[0m\u001b[0m\n",
      "\u001b[1;32m<ipython-input-63-d35ab502651b>\u001b[0m in \u001b[0;36mtranslate_event\u001b[1;34m(row)\u001b[0m\n\u001b[0;32m     60\u001b[0m     \u001b[0mtranslations\u001b[0m \u001b[1;33m=\u001b[0m \u001b[1;33m[\u001b[0m\u001b[1;33m]\u001b[0m\u001b[1;33m\u001b[0m\u001b[0m\n\u001b[0;32m     61\u001b[0m \u001b[1;33m\u001b[0m\u001b[0m\n\u001b[1;32m---> 62\u001b[1;33m     \u001b[0mevent_limit\u001b[0m \u001b[1;33m=\u001b[0m \u001b[1;34m':'\u001b[0m\u001b[1;33m.\u001b[0m\u001b[0mjoin\u001b[0m\u001b[1;33m(\u001b[0m\u001b[0mrow\u001b[0m\u001b[1;33m[\u001b[0m\u001b[1;34m'event_location'\u001b[0m\u001b[1;33m]\u001b[0m\u001b[1;33m.\u001b[0m\u001b[0msplit\u001b[0m\u001b[1;33m(\u001b[0m\u001b[1;34m':'\u001b[0m\u001b[1;33m)\u001b[0m\u001b[1;33m[\u001b[0m\u001b[1;36m1\u001b[0m\u001b[1;33m:\u001b[0m\u001b[1;36m3\u001b[0m\u001b[1;33m]\u001b[0m\u001b[1;33m)\u001b[0m\u001b[1;33m\u001b[0m\u001b[0m\n\u001b[0m\u001b[0;32m     63\u001b[0m     \u001b[1;32mfor\u001b[0m \u001b[0misoform\u001b[0m\u001b[1;33m,\u001b[0m \u001b[0mexons\u001b[0m \u001b[1;32min\u001b[0m \u001b[0mSPLICE_TYPE_ISOFORM_EXONS\u001b[0m\u001b[1;33m[\u001b[0m\u001b[1;34m'se'\u001b[0m\u001b[1;33m]\u001b[0m\u001b[1;33m.\u001b[0m\u001b[0mitems\u001b[0m\u001b[1;33m(\u001b[0m\u001b[1;33m)\u001b[0m\u001b[1;33m:\u001b[0m\u001b[1;33m\u001b[0m\u001b[0m\n\u001b[0;32m     64\u001b[0m \u001b[1;31m#         print('\\t', isoform)\u001b[0m\u001b[1;33m\u001b[0m\u001b[1;33m\u001b[0m\u001b[0m\n",
      "\u001b[1;31mAttributeError\u001b[0m: 'NoneType' object has no attribute 'split'"
     ]
    },
    {
     "name": "stdout",
     "output_type": "stream",
     "text": [
      "> \u001b[1;32m<ipython-input-63-d35ab502651b>\u001b[0m(62)\u001b[0;36mtranslate_event\u001b[1;34m()\u001b[0m\n",
      "\u001b[1;32m     60 \u001b[1;33m    \u001b[0mtranslations\u001b[0m \u001b[1;33m=\u001b[0m \u001b[1;33m[\u001b[0m\u001b[1;33m]\u001b[0m\u001b[1;33m\u001b[0m\u001b[0m\n",
      "\u001b[0m\u001b[1;32m     61 \u001b[1;33m\u001b[1;33m\u001b[0m\u001b[0m\n",
      "\u001b[0m\u001b[1;32m---> 62 \u001b[1;33m    \u001b[0mevent_limit\u001b[0m \u001b[1;33m=\u001b[0m \u001b[1;34m':'\u001b[0m\u001b[1;33m.\u001b[0m\u001b[0mjoin\u001b[0m\u001b[1;33m(\u001b[0m\u001b[0mrow\u001b[0m\u001b[1;33m[\u001b[0m\u001b[1;34m'event_location'\u001b[0m\u001b[1;33m]\u001b[0m\u001b[1;33m.\u001b[0m\u001b[0msplit\u001b[0m\u001b[1;33m(\u001b[0m\u001b[1;34m':'\u001b[0m\u001b[1;33m)\u001b[0m\u001b[1;33m[\u001b[0m\u001b[1;36m1\u001b[0m\u001b[1;33m:\u001b[0m\u001b[1;36m3\u001b[0m\u001b[1;33m]\u001b[0m\u001b[1;33m)\u001b[0m\u001b[1;33m\u001b[0m\u001b[0m\n",
      "\u001b[0m\u001b[1;32m     63 \u001b[1;33m    \u001b[1;32mfor\u001b[0m \u001b[0misoform\u001b[0m\u001b[1;33m,\u001b[0m \u001b[0mexons\u001b[0m \u001b[1;32min\u001b[0m \u001b[0mSPLICE_TYPE_ISOFORM_EXONS\u001b[0m\u001b[1;33m[\u001b[0m\u001b[1;34m'se'\u001b[0m\u001b[1;33m]\u001b[0m\u001b[1;33m.\u001b[0m\u001b[0mitems\u001b[0m\u001b[1;33m(\u001b[0m\u001b[1;33m)\u001b[0m\u001b[1;33m:\u001b[0m\u001b[1;33m\u001b[0m\u001b[0m\n",
      "\u001b[0m\u001b[1;32m     64 \u001b[1;33m\u001b[1;31m#         print('\\t', isoform)\u001b[0m\u001b[1;33m\u001b[0m\u001b[1;33m\u001b[0m\u001b[0m\n",
      "\u001b[0m\n",
      "ipdb> q\n"
     ]
    }
   ],
   "source": [
    "# # %%time \n",
    "# translations = se_metadata.head(20).apply(translate_event, axis=1, raw=True)\n",
    "# translations_df = pd.DataFrame(list(itertools.chain(*translations)))\n",
    "# print(translations_df.shape)"
   ]
  },
  {
   "cell_type": "code",
   "execution_count": 72,
   "metadata": {
    "collapsed": false
   },
   "outputs": [
    {
     "name": "stdout",
     "output_type": "stream",
     "text": [
      "CPU times: user 638 ms, sys: 112 ms, total: 750 ms\n",
      "Wall time: 1.38 s\n",
      "(46, 4)\n"
     ]
    }
   ],
   "source": [
    "%time translations = se_metadata.head(20).apply(translate_event, axis=1, raw=True)\n",
    "translations_df = pd.DataFrame(list(itertools.chain(*translations)))\n",
    "print(translations_df.shape)"
   ]
  },
  {
   "cell_type": "markdown",
   "metadata": {},
   "source": [
    "1.38s for 20 rows ...\n"
   ]
  },
  {
   "cell_type": "code",
   "execution_count": 73,
   "metadata": {
    "collapsed": false
   },
   "outputs": [
    {
     "data": {
      "text/plain": [
       "379253.67"
      ]
     },
     "execution_count": 73,
     "metadata": {},
     "output_type": "execute_result"
    }
   ],
   "source": [
    "(1.38/20) * se_metadata.shape[0]"
   ]
  },
  {
   "cell_type": "markdown",
   "metadata": {},
   "source": [
    "1099286.0 seconds for all the data"
   ]
  },
  {
   "cell_type": "code",
   "execution_count": 74,
   "metadata": {
    "collapsed": false
   },
   "outputs": [
    {
     "data": {
      "text/plain": [
       "105.34824166666665"
      ]
     },
     "execution_count": 74,
     "metadata": {},
     "output_type": "execute_result"
    }
   ],
   "source": [
    "((1.38/20) *se_metadata.shape[0]) /60/60"
   ]
  },
  {
   "cell_type": "markdown",
   "metadata": {},
   "source": [
    "105 hours!!"
   ]
  },
  {
   "cell_type": "code",
   "execution_count": 46,
   "metadata": {
    "collapsed": false
   },
   "outputs": [
    {
     "data": {
      "text/plain": [
       "(5496430, 28)"
      ]
     },
     "execution_count": 46,
     "metadata": {},
     "output_type": "execute_result"
    }
   ],
   "source": [
    "se_metadata.shape"
   ]
  },
  {
   "cell_type": "code",
   "execution_count": 38,
   "metadata": {
    "collapsed": false,
    "scrolled": false
   },
   "outputs": [
    {
     "name": "stdout",
     "output_type": "stream",
     "text": [
      "(46, 4)\n"
     ]
    },
    {
     "data": {
      "text/html": [
       "<div>\n",
       "<table border=\"1\" class=\"dataframe\">\n",
       "  <thead>\n",
       "    <tr style=\"text-align: right;\">\n",
       "      <th></th>\n",
       "      <th>0</th>\n",
       "      <th>1</th>\n",
       "      <th>2</th>\n",
       "      <th>3</th>\n",
       "    </tr>\n",
       "  </thead>\n",
       "  <tbody>\n",
       "    <tr>\n",
       "      <th>0</th>\n",
       "      <td>isoform1=junction:chr10:100189400-100190327:-|...</td>\n",
       "      <td>isoform2</td>\n",
       "      <td>HSASSLRPADLLALILLVQDLYPSESTAEDDIQPSPRRARSSQNIP...</td>\n",
       "      <td>ENST00000338546.5</td>\n",
       "    </tr>\n",
       "    <tr>\n",
       "      <th>1</th>\n",
       "      <td>isoform1=junction:chr10:100189400-100190327:-|...</td>\n",
       "      <td>isoform1</td>\n",
       "      <td>HSASSLRPADLLALILLVQDLYPSESTAEDDIQETDSFSLPEEYFT...</td>\n",
       "      <td>ENST00000338546.5</td>\n",
       "    </tr>\n",
       "    <tr>\n",
       "      <th>2</th>\n",
       "      <td>isoform1=junction:chr10:100189400-100190327:-|...</td>\n",
       "      <td>isoform2</td>\n",
       "      <td>HSASSLRPADLLALILLVQDLYPSESTAEDDIQPSPRRARSSQNIP...</td>\n",
       "      <td>ENST00000338546.5</td>\n",
       "    </tr>\n",
       "    <tr>\n",
       "      <th>3</th>\n",
       "      <td>isoform1=junction:chr10:100189400-100190327:-|...</td>\n",
       "      <td>isoform1</td>\n",
       "      <td>HSASSLRPADLLALILLVQDLYPSESTAEDDIQETDSFSLPEEYFT...</td>\n",
       "      <td>ENST00000338546.5</td>\n",
       "    </tr>\n",
       "    <tr>\n",
       "      <th>4</th>\n",
       "      <td>isoform1=junction:chr10:100189400-100190327:-|...</td>\n",
       "      <td>isoform2</td>\n",
       "      <td>HSASSLRPADLLALILLVQDLYPSESTAEDDIQPSPRRARSSQNIP...</td>\n",
       "      <td>ENST00000338546.5</td>\n",
       "    </tr>\n",
       "  </tbody>\n",
       "</table>\n",
       "</div>"
      ],
      "text/plain": [
       "                                                   0         1  \\\n",
       "0  isoform1=junction:chr10:100189400-100190327:-|...  isoform2   \n",
       "1  isoform1=junction:chr10:100189400-100190327:-|...  isoform1   \n",
       "2  isoform1=junction:chr10:100189400-100190327:-|...  isoform2   \n",
       "3  isoform1=junction:chr10:100189400-100190327:-|...  isoform1   \n",
       "4  isoform1=junction:chr10:100189400-100190327:-|...  isoform2   \n",
       "\n",
       "                                                   2                  3  \n",
       "0  HSASSLRPADLLALILLVQDLYPSESTAEDDIQPSPRRARSSQNIP...  ENST00000338546.5  \n",
       "1  HSASSLRPADLLALILLVQDLYPSESTAEDDIQETDSFSLPEEYFT...  ENST00000338546.5  \n",
       "2  HSASSLRPADLLALILLVQDLYPSESTAEDDIQPSPRRARSSQNIP...  ENST00000338546.5  \n",
       "3  HSASSLRPADLLALILLVQDLYPSESTAEDDIQETDSFSLPEEYFT...  ENST00000338546.5  \n",
       "4  HSASSLRPADLLALILLVQDLYPSESTAEDDIQPSPRRARSSQNIP...  ENST00000338546.5  "
      ]
     },
     "execution_count": 38,
     "metadata": {},
     "output_type": "execute_result"
    }
   ],
   "source": []
  },
  {
   "cell_type": "code",
   "execution_count": 45,
   "metadata": {
    "collapsed": false
   },
   "outputs": [
    {
     "data": {
      "text/plain": [
       "4"
      ]
     },
     "execution_count": 45,
     "metadata": {},
     "output_type": "execute_result"
    }
   ],
   "source": [
    "len(translations_df[0].unique())"
   ]
  },
  {
   "cell_type": "code",
   "execution_count": 42,
   "metadata": {
    "collapsed": false
   },
   "outputs": [
    {
     "data": {
      "text/html": [
       "<div>\n",
       "<table border=\"1\" class=\"dataframe\">\n",
       "  <thead>\n",
       "    <tr style=\"text-align: right;\">\n",
       "      <th></th>\n",
       "      <th>0</th>\n",
       "      <th>1</th>\n",
       "      <th>2</th>\n",
       "      <th>3</th>\n",
       "    </tr>\n",
       "  </thead>\n",
       "  <tbody>\n",
       "    <tr>\n",
       "      <th>2</th>\n",
       "      <td>isoform1=junction:chr10:100189400-100190327:-|...</td>\n",
       "      <td>isoform2</td>\n",
       "      <td>HSASSLRPADLLALILLVQDLYPSESTAEDDIQPSPRRARSSQNIP...</td>\n",
       "      <td>ENST00000338546.5</td>\n",
       "    </tr>\n",
       "    <tr>\n",
       "      <th>3</th>\n",
       "      <td>isoform1=junction:chr10:100189400-100190327:-|...</td>\n",
       "      <td>isoform1</td>\n",
       "      <td>HSASSLRPADLLALILLVQDLYPSESTAEDDIQETDSFSLPEEYFT...</td>\n",
       "      <td>ENST00000338546.5</td>\n",
       "    </tr>\n",
       "    <tr>\n",
       "      <th>4</th>\n",
       "      <td>isoform1=junction:chr10:100189400-100190327:-|...</td>\n",
       "      <td>isoform2</td>\n",
       "      <td>HSASSLRPADLLALILLVQDLYPSESTAEDDIQPSPRRARSSQNIP...</td>\n",
       "      <td>ENST00000338546.5</td>\n",
       "    </tr>\n",
       "    <tr>\n",
       "      <th>5</th>\n",
       "      <td>isoform1=junction:chr10:100189400-100190327:-|...</td>\n",
       "      <td>isoform1</td>\n",
       "      <td>HSASSLRPADLLALILLVQDLYPSESTAEDDIQETDSFSLPEEYFT...</td>\n",
       "      <td>ENST00000338546.5</td>\n",
       "    </tr>\n",
       "    <tr>\n",
       "      <th>7</th>\n",
       "      <td>isoform1=junction:chr10:100189400-100190327:-|...</td>\n",
       "      <td>isoform1</td>\n",
       "      <td>HSASSLRPADLLALILLVQDLYPSESTAEDDIQETDSFSLPEEYFT...</td>\n",
       "      <td>ENST00000414009.1</td>\n",
       "    </tr>\n",
       "    <tr>\n",
       "      <th>8</th>\n",
       "      <td>isoform1=junction:chr10:100189400-100190327:-|...</td>\n",
       "      <td>isoform1</td>\n",
       "      <td>HSASSLRPADLLALILLVQDLYPSESTAEDDIQETDSFSLPEEYFT...</td>\n",
       "      <td>ENST00000414009.1</td>\n",
       "    </tr>\n",
       "    <tr>\n",
       "      <th>14</th>\n",
       "      <td>isoform1=junction:chr10:100189400-100190327:-|...</td>\n",
       "      <td>isoform2</td>\n",
       "      <td>HSASSLRPADLLALILLVQDLYPSESTAEDDIQPSPRRARSSQNIP...</td>\n",
       "      <td>ENST00000361490.4</td>\n",
       "    </tr>\n",
       "    <tr>\n",
       "      <th>15</th>\n",
       "      <td>isoform1=junction:chr10:100189400-100190327:-|...</td>\n",
       "      <td>isoform2</td>\n",
       "      <td>HSASSLRPADLLALILLVQDLYPSESTAEDDIQPSPRRARSSQNIP...</td>\n",
       "      <td>ENST00000325103.6</td>\n",
       "    </tr>\n",
       "    <tr>\n",
       "      <th>16</th>\n",
       "      <td>isoform1=junction:chr10:100189400-100190327:-|...</td>\n",
       "      <td>isoform1</td>\n",
       "      <td>HSASSLRPADLLALILLVQDLYPSESTAEDDIQETDSFSLPEEYFT...</td>\n",
       "      <td>ENST00000359632.3</td>\n",
       "    </tr>\n",
       "    <tr>\n",
       "      <th>17</th>\n",
       "      <td>isoform1=junction:chr10:100189400-100190327:-|...</td>\n",
       "      <td>isoform1</td>\n",
       "      <td>HSASSLRPADLLALILLVQDLYPSESTAEDDIQETDSFSLPEEYFT...</td>\n",
       "      <td>ENST00000361490.4</td>\n",
       "    </tr>\n",
       "    <tr>\n",
       "      <th>18</th>\n",
       "      <td>isoform1=junction:chr10:100189400-100190327:-|...</td>\n",
       "      <td>isoform1</td>\n",
       "      <td>HSASSLRPADLLALILLVQDLYPSESTAEDDIQETDSFSLPEEYFT...</td>\n",
       "      <td>ENST00000325103.6</td>\n",
       "    </tr>\n",
       "    <tr>\n",
       "      <th>19</th>\n",
       "      <td>isoform1=junction:chr10:100189400-100190327:-|...</td>\n",
       "      <td>isoform2</td>\n",
       "      <td>HSASSLRPADLLALILLVQDLYPSESTAEDDIQPSPRRARSSQNIP...</td>\n",
       "      <td>ENST00000361490.4</td>\n",
       "    </tr>\n",
       "    <tr>\n",
       "      <th>20</th>\n",
       "      <td>isoform1=junction:chr10:100189400-100190327:-|...</td>\n",
       "      <td>isoform2</td>\n",
       "      <td>HSASSLRPADLLALILLVQDLYPSESTAEDDIQPSPRRARSSQNIP...</td>\n",
       "      <td>ENST00000325103.6</td>\n",
       "    </tr>\n",
       "    <tr>\n",
       "      <th>21</th>\n",
       "      <td>isoform1=junction:chr10:100189400-100190327:-|...</td>\n",
       "      <td>isoform1</td>\n",
       "      <td>HSASSLRPADLLALILLVQDLYPSESTAEDDIQETDSFSLPEEYFT...</td>\n",
       "      <td>ENST00000359632.3</td>\n",
       "    </tr>\n",
       "    <tr>\n",
       "      <th>22</th>\n",
       "      <td>isoform1=junction:chr10:100189400-100190327:-|...</td>\n",
       "      <td>isoform1</td>\n",
       "      <td>HSASSLRPADLLALILLVQDLYPSESTAEDDIQETDSFSLPEEYFT...</td>\n",
       "      <td>ENST00000361490.4</td>\n",
       "    </tr>\n",
       "    <tr>\n",
       "      <th>23</th>\n",
       "      <td>isoform1=junction:chr10:100189400-100190327:-|...</td>\n",
       "      <td>isoform1</td>\n",
       "      <td>HSASSLRPADLLALILLVQDLYPSESTAEDDIQETDSFSLPEEYFT...</td>\n",
       "      <td>ENST00000325103.6</td>\n",
       "    </tr>\n",
       "    <tr>\n",
       "      <th>30</th>\n",
       "      <td>isoform1=junction:chr10:100193849-100195391:-|...</td>\n",
       "      <td>isoform2</td>\n",
       "      <td>LPALEDQLSTLLAPVIISSMTMLEKLSDTYTCFSTENGNFLYVLHL...</td>\n",
       "      <td>ENST00000361490.4</td>\n",
       "    </tr>\n",
       "    <tr>\n",
       "      <th>31</th>\n",
       "      <td>isoform1=junction:chr10:100193849-100195391:-|...</td>\n",
       "      <td>isoform2</td>\n",
       "      <td>LPALEDQLSTLLAPVIISSMTMLEKLSDTYTCFSTENGNFLYVLHL...</td>\n",
       "      <td>ENST00000325103.6</td>\n",
       "    </tr>\n",
       "    <tr>\n",
       "      <th>32</th>\n",
       "      <td>isoform1=junction:chr10:100193849-100195391:-|...</td>\n",
       "      <td>isoform2</td>\n",
       "      <td>LPALEDQLSTLLAPVIISSMTMLEKLSDTYTCFSTENGNFLYVLHL...</td>\n",
       "      <td>ENST00000338546.5</td>\n",
       "    </tr>\n",
       "    <tr>\n",
       "      <th>33</th>\n",
       "      <td>isoform1=junction:chr10:100193849-100195391:-|...</td>\n",
       "      <td>isoform1</td>\n",
       "      <td>LPALEDQLSTLLAPVIISSMTMLEKLSDTYTCFSTENGNFLYVLHL...</td>\n",
       "      <td>ENST00000361490.4</td>\n",
       "    </tr>\n",
       "    <tr>\n",
       "      <th>34</th>\n",
       "      <td>isoform1=junction:chr10:100193849-100195391:-|...</td>\n",
       "      <td>isoform1</td>\n",
       "      <td>LPALEDQLSTLLAPVIISSMTMLEKLSDTYTCFSTENGNFLYVLHL...</td>\n",
       "      <td>ENST00000325103.6</td>\n",
       "    </tr>\n",
       "    <tr>\n",
       "      <th>35</th>\n",
       "      <td>isoform1=junction:chr10:100193849-100195391:-|...</td>\n",
       "      <td>isoform1</td>\n",
       "      <td>LPALEDQLSTLLAPVIISSMTMLEKLSDTYTCFSTENGNFLYVLHL...</td>\n",
       "      <td>ENST00000338546.5</td>\n",
       "    </tr>\n",
       "    <tr>\n",
       "      <th>39</th>\n",
       "      <td>isoform1=junction:chr10:100193849-100195391:-|...</td>\n",
       "      <td>isoform1</td>\n",
       "      <td>LPALEDQLSTLLAPVIISSMTMLEKLSDTYTCFSTENGNFLYVLHL...</td>\n",
       "      <td>ENST00000361490.4</td>\n",
       "    </tr>\n",
       "    <tr>\n",
       "      <th>40</th>\n",
       "      <td>isoform1=junction:chr10:100193849-100195391:-|...</td>\n",
       "      <td>isoform1</td>\n",
       "      <td>LPALEDQLSTLLAPVIISSMTMLEKLSDTYTCFSTENGNFLYVLHL...</td>\n",
       "      <td>ENST00000325103.6</td>\n",
       "    </tr>\n",
       "    <tr>\n",
       "      <th>41</th>\n",
       "      <td>isoform1=junction:chr10:100193849-100195391:-|...</td>\n",
       "      <td>isoform1</td>\n",
       "      <td>LPALEDQLSTLLAPVIISSMTMLEKLSDTYTCFSTENGNFLYVLHL...</td>\n",
       "      <td>ENST00000338546.5</td>\n",
       "    </tr>\n",
       "  </tbody>\n",
       "</table>\n",
       "</div>"
      ],
      "text/plain": [
       "                                                    0         1  \\\n",
       "2   isoform1=junction:chr10:100189400-100190327:-|...  isoform2   \n",
       "3   isoform1=junction:chr10:100189400-100190327:-|...  isoform1   \n",
       "4   isoform1=junction:chr10:100189400-100190327:-|...  isoform2   \n",
       "5   isoform1=junction:chr10:100189400-100190327:-|...  isoform1   \n",
       "7   isoform1=junction:chr10:100189400-100190327:-|...  isoform1   \n",
       "8   isoform1=junction:chr10:100189400-100190327:-|...  isoform1   \n",
       "14  isoform1=junction:chr10:100189400-100190327:-|...  isoform2   \n",
       "15  isoform1=junction:chr10:100189400-100190327:-|...  isoform2   \n",
       "16  isoform1=junction:chr10:100189400-100190327:-|...  isoform1   \n",
       "17  isoform1=junction:chr10:100189400-100190327:-|...  isoform1   \n",
       "18  isoform1=junction:chr10:100189400-100190327:-|...  isoform1   \n",
       "19  isoform1=junction:chr10:100189400-100190327:-|...  isoform2   \n",
       "20  isoform1=junction:chr10:100189400-100190327:-|...  isoform2   \n",
       "21  isoform1=junction:chr10:100189400-100190327:-|...  isoform1   \n",
       "22  isoform1=junction:chr10:100189400-100190327:-|...  isoform1   \n",
       "23  isoform1=junction:chr10:100189400-100190327:-|...  isoform1   \n",
       "30  isoform1=junction:chr10:100193849-100195391:-|...  isoform2   \n",
       "31  isoform1=junction:chr10:100193849-100195391:-|...  isoform2   \n",
       "32  isoform1=junction:chr10:100193849-100195391:-|...  isoform2   \n",
       "33  isoform1=junction:chr10:100193849-100195391:-|...  isoform1   \n",
       "34  isoform1=junction:chr10:100193849-100195391:-|...  isoform1   \n",
       "35  isoform1=junction:chr10:100193849-100195391:-|...  isoform1   \n",
       "39  isoform1=junction:chr10:100193849-100195391:-|...  isoform1   \n",
       "40  isoform1=junction:chr10:100193849-100195391:-|...  isoform1   \n",
       "41  isoform1=junction:chr10:100193849-100195391:-|...  isoform1   \n",
       "\n",
       "                                                    2                  3  \n",
       "2   HSASSLRPADLLALILLVQDLYPSESTAEDDIQPSPRRARSSQNIP...  ENST00000338546.5  \n",
       "3   HSASSLRPADLLALILLVQDLYPSESTAEDDIQETDSFSLPEEYFT...  ENST00000338546.5  \n",
       "4   HSASSLRPADLLALILLVQDLYPSESTAEDDIQPSPRRARSSQNIP...  ENST00000338546.5  \n",
       "5   HSASSLRPADLLALILLVQDLYPSESTAEDDIQETDSFSLPEEYFT...  ENST00000338546.5  \n",
       "7   HSASSLRPADLLALILLVQDLYPSESTAEDDIQETDSFSLPEEYFT...  ENST00000414009.1  \n",
       "8   HSASSLRPADLLALILLVQDLYPSESTAEDDIQETDSFSLPEEYFT...  ENST00000414009.1  \n",
       "14  HSASSLRPADLLALILLVQDLYPSESTAEDDIQPSPRRARSSQNIP...  ENST00000361490.4  \n",
       "15  HSASSLRPADLLALILLVQDLYPSESTAEDDIQPSPRRARSSQNIP...  ENST00000325103.6  \n",
       "16  HSASSLRPADLLALILLVQDLYPSESTAEDDIQETDSFSLPEEYFT...  ENST00000359632.3  \n",
       "17  HSASSLRPADLLALILLVQDLYPSESTAEDDIQETDSFSLPEEYFT...  ENST00000361490.4  \n",
       "18  HSASSLRPADLLALILLVQDLYPSESTAEDDIQETDSFSLPEEYFT...  ENST00000325103.6  \n",
       "19  HSASSLRPADLLALILLVQDLYPSESTAEDDIQPSPRRARSSQNIP...  ENST00000361490.4  \n",
       "20  HSASSLRPADLLALILLVQDLYPSESTAEDDIQPSPRRARSSQNIP...  ENST00000325103.6  \n",
       "21  HSASSLRPADLLALILLVQDLYPSESTAEDDIQETDSFSLPEEYFT...  ENST00000359632.3  \n",
       "22  HSASSLRPADLLALILLVQDLYPSESTAEDDIQETDSFSLPEEYFT...  ENST00000361490.4  \n",
       "23  HSASSLRPADLLALILLVQDLYPSESTAEDDIQETDSFSLPEEYFT...  ENST00000325103.6  \n",
       "30  LPALEDQLSTLLAPVIISSMTMLEKLSDTYTCFSTENGNFLYVLHL...  ENST00000361490.4  \n",
       "31  LPALEDQLSTLLAPVIISSMTMLEKLSDTYTCFSTENGNFLYVLHL...  ENST00000325103.6  \n",
       "32  LPALEDQLSTLLAPVIISSMTMLEKLSDTYTCFSTENGNFLYVLHL...  ENST00000338546.5  \n",
       "33  LPALEDQLSTLLAPVIISSMTMLEKLSDTYTCFSTENGNFLYVLHL...  ENST00000361490.4  \n",
       "34  LPALEDQLSTLLAPVIISSMTMLEKLSDTYTCFSTENGNFLYVLHL...  ENST00000325103.6  \n",
       "35  LPALEDQLSTLLAPVIISSMTMLEKLSDTYTCFSTENGNFLYVLHL...  ENST00000338546.5  \n",
       "39  LPALEDQLSTLLAPVIISSMTMLEKLSDTYTCFSTENGNFLYVLHL...  ENST00000361490.4  \n",
       "40  LPALEDQLSTLLAPVIISSMTMLEKLSDTYTCFSTENGNFLYVLHL...  ENST00000325103.6  \n",
       "41  LPALEDQLSTLLAPVIISSMTMLEKLSDTYTCFSTENGNFLYVLHL...  ENST00000338546.5  "
      ]
     },
     "execution_count": 42,
     "metadata": {},
     "output_type": "execute_result"
    }
   ],
   "source": [
    "translations_df.loc[translations_df.duplicated()]"
   ]
  },
  {
   "cell_type": "code",
   "execution_count": 40,
   "metadata": {
    "collapsed": false
   },
   "outputs": [
    {
     "data": {
      "text/plain": [
       "(21, 4)"
      ]
     },
     "execution_count": 40,
     "metadata": {},
     "output_type": "execute_result"
    }
   ],
   "source": [
    "translations_df.drop_duplicates().shape"
   ]
  },
  {
   "cell_type": "markdown",
   "metadata": {
    "collapsed": false
   },
   "source": [
    "translations['isoform1=junction:chr10:100189400-100190327:-|isoform2=junction:chr10:100189647-100190327:-@exon:chr10:100189548-100189646:-@junction:chr10:100189400-100189547:-'].values"
   ]
  },
  {
   "cell_type": "code",
   "execution_count": 100,
   "metadata": {
    "collapsed": true
   },
   "outputs": [],
   "source": [
    "isoform2 = 'HSASSLRPADLLALILLVQDLYPSESTAEDDIQPSPRRARSSQNIPVQQAWSPHSTGPTGGSSAETFGECLFIAINGDHTESEGDLRRKLYVLKYLFEVHFGLVTVDGHLIRK'\n",
    "isoform1 = 'HSASSLRPADLLALILLVQDLYPSESTAEDDIQFGECLFIAINGDHTESEGDLRRKLYVLKYLFEVHFGLVTVDGHLIRK'"
   ]
  },
  {
   "cell_type": "code",
   "execution_count": 84,
   "metadata": {
    "collapsed": false
   },
   "outputs": [
    {
     "data": {
      "text/plain": [
       "[<Feature CDS (chr10:100190328-100190427[-]) at 0x2b5bc077b650>,\n",
       " <Feature CDS (chr10:100189548-100189646[-]) at 0x2b5bbf811f90>,\n",
       " outrigger.Region (exon:chr10:100188908-100189399:-)]"
      ]
     },
     "execution_count": 84,
     "metadata": {},
     "output_type": "execute_result"
    }
   ],
   "source": [
    "cds_features"
   ]
  },
  {
   "cell_type": "code",
   "execution_count": 43,
   "metadata": {
    "collapsed": false
   },
   "outputs": [
    {
     "data": {
      "text/plain": [
       "['ENST00000361490.4',\n",
       " 'ENSG00000107521.14',\n",
       " 'ENST00000325103.6',\n",
       " 'ENST00000467246.1',\n",
       " 'ENST00000359632.3',\n",
       " 'ENST00000478087.1',\n",
       " 'ENST00000470095.1',\n",
       " 'ENST00000498219.1',\n",
       " 'ENST00000338546.5',\n",
       " 'ENST00000414009.1',\n",
       " 'ENST00000480020.1']"
      ]
     },
     "execution_count": 43,
     "metadata": {},
     "output_type": "execute_result"
    }
   ],
   "source": [
    "exon = db['exon:chr10:100190328-100190427:-']\n",
    "[x.id for x in db.parents(exon)]"
   ]
  },
  {
   "cell_type": "code",
   "execution_count": 45,
   "metadata": {
    "collapsed": false
   },
   "outputs": [
    {
     "data": {
      "text/plain": [
       "[<Feature CDS (chr10:100177324-100177483[-]) at 0x2b5bbc6dd5d0>,\n",
       " <Feature CDS (chr10:100177932-100178014[-]) at 0x2b5bbf763cd0>,\n",
       " <Feature CDS (chr10:100179802-100179915[-]) at 0x2b5bbf176690>,\n",
       " <Feature CDS (chr10:100182126-100182270[-]) at 0x2b5bbf762610>,\n",
       " <Feature CDS (chr10:100183360-100183425[-]) at 0x2b5bbf7626d0>,\n",
       " <Feature CDS (chr10:100183510-100183644[-]) at 0x2b5bbf7627d0>,\n",
       " <Feature CDS (chr10:100184070-100184131[-]) at 0x2b5bbf762950>,\n",
       " <Feature CDS (chr10:100185298-100185477[-]) at 0x2b5bbf762ad0>,\n",
       " <Feature CDS (chr10:100185575-100185742[-]) at 0x2b5bbf762c50>,\n",
       " <Feature CDS (chr10:100186972-100187021[-]) at 0x2b5bbf762dd0>,\n",
       " <Feature CDS (chr10:100189330-100189399[-]) at 0x2b5bbf762f50>,\n",
       " <Feature CDS (chr10:100189548-100189646[-]) at 0x2b5bbf716110>,\n",
       " <Feature CDS (chr10:100190328-100190427[-]) at 0x2b5bbf716290>,\n",
       " <Feature CDS (chr10:100190888-100191048[-]) at 0x2b5bbf716490>,\n",
       " <Feature CDS (chr10:100193740-100193848[-]) at 0x2b5bbf716650>,\n",
       " <Feature CDS (chr10:100195029-100195171[-]) at 0x2b5bbf716810>,\n",
       " <Feature CDS (chr10:100195392-100195529[-]) at 0x2b5bbf716990>,\n",
       " <Feature CDS (chr10:100202881-100202997[-]) at 0x2b5bbf716b10>,\n",
       " <Feature transcript (chr10:100175955-100206683[-]) at 0x2b5bbf716c90>,\n",
       " <Feature UTR (chr10:100175955-100177323[-]) at 0x2b5bbf255390>,\n",
       " <Feature UTR (chr10:100205057-100205170[-]) at 0x2b5bbf716d50>,\n",
       " <Feature UTR (chr10:100206564-100206683[-]) at 0x2b5bbf716e90>,\n",
       " <Feature exon (chr10:100175955-100177483[-]) at 0x2b5bbf716f90>,\n",
       " <Feature exon (chr10:100177932-100178014[-]) at 0x2b5bbf722110>,\n",
       " <Feature exon (chr10:100179802-100179915[-]) at 0x2b5bbf7222d0>,\n",
       " <Feature exon (chr10:100182126-100182270[-]) at 0x2b5bbf722490>,\n",
       " <Feature exon (chr10:100183360-100183425[-]) at 0x2b5bbf722650>,\n",
       " <Feature exon (chr10:100183510-100183644[-]) at 0x2b5bbf722810>,\n",
       " <Feature exon (chr10:100184070-100184131[-]) at 0x2b5bbf722a90>,\n",
       " <Feature exon (chr10:100185298-100185477[-]) at 0x2b5bbf722d50>,\n",
       " <Feature exon (chr10:100185575-100185742[-]) at 0x2b5bbf6e7050>,\n",
       " <Feature exon (chr10:100186972-100187021[-]) at 0x2b5bbf6e7250>,\n",
       " <Feature exon (chr10:100189330-100189399[-]) at 0x2b5bbf6e7510>,\n",
       " <Feature exon (chr10:100189548-100189646[-]) at 0x2b5bbf6e77d0>,\n",
       " <Feature exon (chr10:100190328-100190427[-]) at 0x2b5bbf6e7950>,\n",
       " <Feature exon (chr10:100190888-100191048[-]) at 0x2b5bbf6e7cd0>,\n",
       " <Feature exon (chr10:100193740-100193848[-]) at 0x2b5bbf6e7f90>,\n",
       " <Feature exon (chr10:100195029-100195171[-]) at 0x2b5bbf6f1250>,\n",
       " <Feature exon (chr10:100195392-100195529[-]) at 0x2b5bbf6f1450>,\n",
       " <Feature exon (chr10:100202881-100202997[-]) at 0x2b5bbf6f1710>,\n",
       " <Feature exon (chr10:100205057-100205170[-]) at 0x2b5bbf6f1a10>,\n",
       " <Feature exon (chr10:100206564-100206683[-]) at 0x2b5bbf6f1cd0>,\n",
       " <Feature start_codon (chr10:100202995-100202997[-]) at 0x2b5bbf6f1dd0>,\n",
       " <Feature stop_codon (chr10:100177321-100177323[-]) at 0x2b5bbf6f1f50>]"
      ]
     },
     "execution_count": 45,
     "metadata": {},
     "output_type": "execute_result"
    }
   ],
   "source": [
    "list(db.children('ENST00000325103.6'))"
   ]
  },
  {
   "cell_type": "code",
   "execution_count": 36,
   "metadata": {
    "collapsed": false
   },
   "outputs": [
    {
     "data": {
      "text/plain": [
       "[[], [], []]"
      ]
     },
     "execution_count": 36,
     "metadata": {},
     "output_type": "execute_result"
    }
   ],
   "source": [
    "cds_features"
   ]
  },
  {
   "cell_type": "code",
   "execution_count": 22,
   "metadata": {
    "collapsed": false
   },
   "outputs": [
    {
     "data": {
      "text/plain": [
       "[<Feature gene (chr10:100175955-100206684[-]) at 0x2b5bbc6d7750>,\n",
       " <Feature transcript (chr10:100175955-100206667[-]) at 0x2b5bbc6d7b50>,\n",
       " <Feature exon (chr10:100195029-100195171[-]) at 0x2b5bbc6dd710>,\n",
       " <Feature CDS (chr10:100195029-100195171[-]) at 0x2b5bbc6dd9d0>,\n",
       " <Feature transcript (chr10:100175955-100206683[-]) at 0x2b5bbc6ddc50>,\n",
       " <Feature transcript (chr10:100176772-100206644[-]) at 0x2b5bbc6dde10>,\n",
       " <Feature transcript (chr10:100185663-100206630[-]) at 0x2b5bbc6ddd10>,\n",
       " <Feature transcript (chr10:100188908-100206670[-]) at 0x2b5bbc6dd390>,\n",
       " <Feature transcript (chr10:100190328-100206619[-]) at 0x2b5bbc6dd810>,\n",
       " <Feature transcript (chr10:100194843-100205170[-]) at 0x2b5bbc6d5110>,\n",
       " <Feature exon (chr10:100194843-100195171[-]) at 0x2b5bbc6d5610>]"
      ]
     },
     "execution_count": 22,
     "metadata": {},
     "output_type": "execute_result"
    }
   ],
   "source": [
    "list(db.region('chr10:100195101-100195171'))"
   ]
  },
  {
   "cell_type": "code",
   "execution_count": null,
   "metadata": {
    "collapsed": false,
    "scrolled": false
   },
   "outputs": [],
   "source": [
    "# %%time\n",
    "\n",
    "import itertools\n",
    "from Bio.Seq import Seq\n",
    "from Bio.SeqRecord import SeqRecord\n",
    "from Bio import SeqIO\n",
    "from Bio.Alphabet import generic_dna, generic_protein\n",
    "\n",
    "\n",
    "splice_type_isoform_exons = {'SE': {'isoform1': ('exon1', 'exon3'),\n",
    "                                    'isoform2': ('exon1', 'exon2', 'exon3')},\n",
    "                             'MXE': {'isoform1': ('exon1', 'exon3', 'exon4'),\n",
    "                                     'isoform2': ('exon1', 'exon2', 'exon4')}\n",
    "                            }\n",
    "\n",
    "# splice_type_isoform1_exons = {'SE': ('exon1', 'exon3'), \n",
    "#                               'MXE': ('exon1', 'exon3', 'exon4')}\n",
    "# splice_type_isoform2_exons = {'SE': ('exon1', 'exon2','exon3'), \n",
    "#                               'MXE': ('exon1', 'exon2', 'exon4')}\n",
    "\n",
    "best_tags = 'appris_principal', 'appris_candidate', 'CCDS', 'exp_conf', 'basic'\n",
    "\n",
    "def overlap(x, y):\n",
    "    return not ((x.start > y.stop) or (x.stop < y.start))\n",
    "\n",
    "\n",
    "def filter_on_tags(features, tags):\n",
    "    if len(features) == 0:\n",
    "        return None\n",
    "    \n",
    "    if len(features) == 1:\n",
    "        return features.pop()\n",
    "    \n",
    "    feature_tags = map(lambda x: (x, tuple(x.attributes['tag'])) \n",
    "                    if 'tag' in x.attributes else (x, ()), features)\n",
    "#     print 'feature_tags', feature_tags\n",
    "    for tag in tags:\n",
    "        for feature, feature_tag in feature_tags:\n",
    "            if tag in feature_tag:\n",
    "                return feature\n",
    "    # If none of the tags are there, return a random feature\n",
    "#     print features\n",
    "    return np.random.choice(list(features))\n",
    "\n",
    "seqrecords = []\n",
    "\n",
    "for i, (event_id, row) in enumerate(splicing_feature_data.iterrows()):\n",
    "#     if i > 10:\n",
    "#         break\n",
    "    \n",
    "    if (i+1) % 1000 == 0:\n",
    "        print i+1\n",
    "#     exon1 = v19db[row.exon1]\n",
    "#     exon2 = v19db[row.exon2]\n",
    "#     exon3 = v19db[row.exon3]\n",
    "#     print event_id\n",
    "    \n",
    "#     exon_trio = exon1, exon2, exon3\n",
    "\n",
    "    isoform1_exons = splice_type_isoform_exons[row.splice_type]['isoform1']\n",
    "    isoform2_exons = splice_type_isoform_exons[row.splice_type]['isoform2']\n",
    "    \n",
    "    isoform_to_exons = {'isoform1': map(lambda x: v19db[row[x]], isoform1_exons),\n",
    "                        'isoform2': map(lambda x: v19db[row[x]], isoform2_exons)}\n",
    "    \n",
    "    isoform_to_transcripts = dict((k, set.intersection(*map(lambda x: set(v19db.parents(x, featuretype='transcript')), v)))\n",
    "                                  for k, v in isoform_to_exons.items())\n",
    "    \n",
    "#     isoform_to_exons = {'isoform1': (exon1, exon3), 'isoform2': exon_trio}\n",
    "    \n",
    "    \n",
    "    # Make sure isoform1 transcripts are distinct from isoform2\n",
    "    isoform1_transcripts = isoform_to_transcripts['isoform1'] - isoform_to_transcripts['isoform2']\n",
    "#     print '\\tisoform1_transcripts', ','.join(map(lambda x: x.id, isoform1_transcripts))\n",
    "#     print '\\t', '\\t'.join(map(lambda x: str(list(x.attributes['tag'])) if 'tag' in x.attributes else '-', isoform1_transcripts))\n",
    "    \n",
    "    # Make sure isoform2 transcripts are distinct from isoform1\n",
    "    isoform2_transcripts = isoform_to_transcripts['isoform2']\n",
    "    if row.splice_type == 'MXE':\n",
    "        isoform2_transcripts = isoform2_transcripts - isoform1_transcripts\n",
    "#     print '\\tisoform2_transcripts', ','.join(map(lambda x: x.id, isoform2_transcripts))\n",
    "#     print '\\t', '\\t'.join(map(lambda x: str(list(x.attributes['tag'])) if 'tag' in x.attributes else '-', isoform2_transcripts))\n",
    "    \n",
    "    isoform1_transcript = filter_on_tags(isoform1_transcripts, best_tags)\n",
    "    isoform2_transcript = filter_on_tags(isoform2_transcripts, best_tags)\n",
    "    \n",
    "#     if isoform1_transcript is not None:\n",
    "#         print '\\t--isoform1', isoform1_transcript.id,\n",
    "#         if 'tag' in isoform1_transcript.attributes:\n",
    "#             print isoform1_transcript.attributes['tag']\n",
    "#         else:\n",
    "#             print\n",
    "#     if isoform2_transcript is not None:\n",
    "#         print '\\t--isoform2', isoform2_transcript.id,\n",
    "#         if 'tag' in isoform2_transcript.attributes:\n",
    "#             print isoform2_transcript.attributes['tag']\n",
    "#         else:\n",
    "#             print\n",
    "    \n",
    "#     isoforms = {'isoform1': isoform1_transcripts, \n",
    "#                 'isoform2': isoform2_transcripts}\n",
    "    isoforms = {'isoform1': isoform1_transcript, \n",
    "                'isoform2': isoform2_transcript}\n",
    "    \n",
    "    \n",
    "#     isoform_to_cds = {'isoform1': [], 'isoform2': []}\n",
    "    for isoform, transcript in isoforms.items():\n",
    "        if transcript is None:\n",
    "#             print '\\t\\t', isoform, 'is None'\n",
    "            continue\n",
    "        exons = isoform_to_exons[isoform]\n",
    "#         print '\\t', '\\t'.join(map(lambda x: str(list(x.attributes['tag'])) if 'tag' in x.attributes else '-', exons))\n",
    "        \n",
    "#         for transcript in transcripts:\n",
    "\n",
    "\n",
    "        reverse = transcript.strand == '-'\n",
    "        cdss = v19db.children(transcript, featuretype='CDS', order_by='start', \n",
    "                              reverse=reverse)\n",
    "\n",
    "        cdss = filter(lambda cds: any(map(lambda exon: overlap(cds, exon), exons)), cdss)\n",
    "#         print cdss\n",
    "        if len(cdss) == len(exons):\n",
    "            cds_str = '@'.join(map(lambda x: x.id, cdss))\n",
    "#                 if cds_str in isoform_to_cds[isoform]:\n",
    "#                     continue\n",
    "\n",
    "#                 isoform_to_cds[isoform].append(cds_str)\n",
    "\n",
    "#                 print '\\t\\t', '\\t'.join(map(lambda x: x.id, exons))\n",
    "#                 print '\\t\\t\\t', '\\t'.join(map(lambda x: x.id, cdss))\n",
    "#                 if 'tag' in transcript.attributes:\n",
    "#                     print '\\t\\t\\t', transcript.attributes['tag']\n",
    "#                 else:\n",
    "#                     print '\\t\\t\\t-'\n",
    "\n",
    "            if reverse:\n",
    "                coding_sequence = Seq(''.join(cds.sequence(hg19_fasta)[::-1] for cds in cdss), generic_dna).complement()\n",
    "            else:\n",
    "                coding_sequence = Seq(''.join(cds.sequence(hg19_fasta) for cds in cdss), generic_dna)\n",
    "#                 print len(coding_sequence)\n",
    "            coding_sequence = coding_sequence[int(cdss[0].frame):]\n",
    "            translated = coding_sequence.translate()\n",
    "            seqrecord = SeqRecord(translated, id='{0}|{1}|{2}'.format(event_id, cds_str, isoform))\n",
    "#             print '\\t\\t', translated\n",
    "            seqrecords.append(seqrecord)\n",
    "#     pprint(isoform_to_cds)\n",
    "\n",
    "\n"
   ]
  },
  {
   "cell_type": "code",
   "execution_count": 8,
   "metadata": {
    "collapsed": false
   },
   "outputs": [
    {
     "data": {
      "text/plain": [
       "1193"
      ]
     },
     "execution_count": 8,
     "metadata": {},
     "output_type": "execute_result"
    }
   ],
   "source": [
    "len(seqrecords)"
   ]
  },
  {
   "cell_type": "code",
   "execution_count": 9,
   "metadata": {
    "collapsed": false
   },
   "outputs": [
    {
     "data": {
      "text/plain": [
       "'/projects/ps-yeolab/obotvinnik/singlecell_pnms/csvs_for_paper//splicing_feature_data/alternative/isoform_translations.fa'"
      ]
     },
     "execution_count": 9,
     "metadata": {},
     "output_type": "execute_result"
    }
   ],
   "source": [
    "translated_fasta"
   ]
  },
  {
   "cell_type": "code",
   "execution_count": 10,
   "metadata": {
    "collapsed": true
   },
   "outputs": [],
   "source": [
    "with open(translated_fasta, 'w') as f:\n",
    "    SeqIO.write(seqrecords, f, 'fasta')"
   ]
  },
  {
   "cell_type": "code",
   "execution_count": 11,
   "metadata": {
    "collapsed": false
   },
   "outputs": [
    {
     "name": "stdout",
     "output_type": "stream",
     "text": [
      "4049 /projects/ps-yeolab/obotvinnik/singlecell_pnms/csvs_for_paper//splicing_feature_data/alternative/isoform_translations.fa\r\n"
     ]
    }
   ],
   "source": [
    "! wc -l $translated_fasta"
   ]
  },
  {
   "cell_type": "code",
   "execution_count": 12,
   "metadata": {
    "collapsed": false
   },
   "outputs": [],
   "source": [
    "import itertools\n",
    "from Bio.Seq import Seq\n",
    "from Bio.SeqRecord import SeqRecord\n",
    "from Bio import SeqIO\n",
    "import pandas as pd\n",
    "\n",
    "translated_df = pd.DataFrame(columns=['isoform1', 'isoform2'])"
   ]
  },
  {
   "cell_type": "code",
   "execution_count": 13,
   "metadata": {
    "collapsed": false
   },
   "outputs": [
    {
     "name": "stdout",
     "output_type": "stream",
     "text": [
      "4049 /projects/ps-yeolab/obotvinnik/singlecell_pnms/csvs_for_paper//splicing_feature_data/alternative/isoform_translations.fa\r\n"
     ]
    }
   ],
   "source": [
    "! wc -l $translated_fasta"
   ]
  },
  {
   "cell_type": "code",
   "execution_count": 14,
   "metadata": {
    "collapsed": false
   },
   "outputs": [],
   "source": [
    "with open(translated_fasta) as f:\n",
    "    for record in SeqIO.parse(f, 'fasta'):\n",
    "        event_id, cds_str, isoform = record.id.split('|')\n",
    "        translated_df.loc[event_id, isoform] = str(record.seq)"
   ]
  },
  {
   "cell_type": "code",
   "execution_count": 15,
   "metadata": {
    "collapsed": false
   },
   "outputs": [
    {
     "data": {
      "text/plain": [
       "(977, 2)"
      ]
     },
     "execution_count": 15,
     "metadata": {},
     "output_type": "execute_result"
    }
   ],
   "source": [
    "translated_df.shape"
   ]
  },
  {
   "cell_type": "code",
   "execution_count": 16,
   "metadata": {
    "collapsed": false
   },
   "outputs": [
    {
     "data": {
      "text/html": [
       "<div>\n",
       "<table border=\"1\" class=\"dataframe\">\n",
       "  <thead>\n",
       "    <tr style=\"text-align: right;\">\n",
       "      <th></th>\n",
       "      <th>isoform1</th>\n",
       "      <th>isoform2</th>\n",
       "    </tr>\n",
       "  </thead>\n",
       "  <tbody>\n",
       "    <tr>\n",
       "      <th>exon:chr10:100190328-100190427:-@exon:chr10:100189548-100189646:-@exon:chr10:100189330-100189399:-</th>\n",
       "      <td>NaN</td>\n",
       "      <td>HSASSLRPADLLALILLVQDLYPSESTAEDDIQPSPRRARSSQNIP...</td>\n",
       "    </tr>\n",
       "    <tr>\n",
       "      <th>exon:chr10:101165513-101165617:-@exon:chr10:101163481-101163631:-@exon:chr10:101163226-101163391:-</th>\n",
       "      <td>NaN</td>\n",
       "      <td>NAPEFSIVVLHACAHNPTGIDPTPEQWKQIASVMKHRFLFPFFDSA...</td>\n",
       "    </tr>\n",
       "    <tr>\n",
       "      <th>exon:chr10:101421203-101421385:+@exon:chr10:101439018-101439223:+@exon:chr10:101439482-101439632:+</th>\n",
       "      <td>NaN</td>\n",
       "      <td>ISFSYLCPASWYFTVPTVSPFLRQRVAFLGLFFISCLLLLMLIIDF...</td>\n",
       "    </tr>\n",
       "    <tr>\n",
       "      <th>exon:chr10:101480744-101480825:-@exon:chr10:101478103-101478257:-@exon:chr10:101476105-101476218:-</th>\n",
       "      <td>NaN</td>\n",
       "      <td>LPETHQLLQLRRFAHGTAGLVFLTALSGAFVAGLDAGLVYNSFPKM...</td>\n",
       "    </tr>\n",
       "    <tr>\n",
       "      <th>exon:chr10:101507014-101507147:+@exon:chr10:101510126-101510153:+@exon:chr10:101514286-101514391:+</th>\n",
       "      <td>FDMVHDPMAALETLLTLGFERVLTSGCDSSALEGLPLIKRLIEQEVV</td>\n",
       "      <td>FDMVHDPMAALETLLTLGFERVLTSGCDSSALEGLPLIKRLIEQAK...</td>\n",
       "    </tr>\n",
       "  </tbody>\n",
       "</table>\n",
       "</div>"
      ],
      "text/plain": [
       "                                                                                           isoform1  \\\n",
       "exon:chr10:100190328-100190427:-@exon:chr10:100...                                              NaN   \n",
       "exon:chr10:101165513-101165617:-@exon:chr10:101...                                              NaN   \n",
       "exon:chr10:101421203-101421385:+@exon:chr10:101...                                              NaN   \n",
       "exon:chr10:101480744-101480825:-@exon:chr10:101...                                              NaN   \n",
       "exon:chr10:101507014-101507147:+@exon:chr10:101...  FDMVHDPMAALETLLTLGFERVLTSGCDSSALEGLPLIKRLIEQEVV   \n",
       "\n",
       "                                                                                             isoform2  \n",
       "exon:chr10:100190328-100190427:-@exon:chr10:100...  HSASSLRPADLLALILLVQDLYPSESTAEDDIQPSPRRARSSQNIP...  \n",
       "exon:chr10:101165513-101165617:-@exon:chr10:101...  NAPEFSIVVLHACAHNPTGIDPTPEQWKQIASVMKHRFLFPFFDSA...  \n",
       "exon:chr10:101421203-101421385:+@exon:chr10:101...  ISFSYLCPASWYFTVPTVSPFLRQRVAFLGLFFISCLLLLMLIIDF...  \n",
       "exon:chr10:101480744-101480825:-@exon:chr10:101...  LPETHQLLQLRRFAHGTAGLVFLTALSGAFVAGLDAGLVYNSFPKM...  \n",
       "exon:chr10:101507014-101507147:+@exon:chr10:101...  FDMVHDPMAALETLLTLGFERVLTSGCDSSALEGLPLIKRLIEQAK...  "
      ]
     },
     "execution_count": 16,
     "metadata": {},
     "output_type": "execute_result"
    }
   ],
   "source": [
    "translated_df.head()"
   ]
  },
  {
   "cell_type": "code",
   "execution_count": 6,
   "metadata": {
    "collapsed": false
   },
   "outputs": [
    {
     "data": {
      "text/plain": [
       "[0, 1, 2]"
      ]
     },
     "execution_count": 6,
     "metadata": {},
     "output_type": "execute_result"
    }
   ],
   "source": [
    "range(3)"
   ]
  },
  {
   "cell_type": "code",
   "execution_count": 7,
   "metadata": {
    "collapsed": false
   },
   "outputs": [
    {
     "ename": "NameError",
     "evalue": "name 'translated_df' is not defined",
     "output_type": "error",
     "traceback": [
      "\u001b[1;31m---------------------------------------------------------------------------\u001b[0m",
      "\u001b[1;31mNameError\u001b[0m                                 Traceback (most recent call last)",
      "\u001b[1;32m<ipython-input-7-f6f69317ef44>\u001b[0m in \u001b[0;36m<module>\u001b[1;34m()\u001b[0m\n\u001b[1;32m----> 1\u001b[1;33m \u001b[0mtranslated_df\u001b[0m\u001b[1;33m.\u001b[0m\u001b[0mdropna\u001b[0m\u001b[1;33m(\u001b[0m\u001b[1;33m)\u001b[0m\u001b[1;33m.\u001b[0m\u001b[0mshape\u001b[0m\u001b[1;33m\u001b[0m\u001b[0m\n\u001b[0m",
      "\u001b[1;31mNameError\u001b[0m: name 'translated_df' is not defined"
     ]
    }
   ],
   "source": [
    "translated_df.dropna().shape"
   ]
  },
  {
   "cell_type": "code",
   "execution_count": null,
   "metadata": {
    "collapsed": true
   },
   "outputs": [],
   "source": [
    "translated_df.columns = [x + '_translation' for x in translated_df]\n",
    "\n",
    "translated_df.to_csv('{}/protein_translations.csv'.format(alternative_feature_folder))"
   ]
  }
 ],
 "metadata": {
  "kernelspec": {
   "display_name": "Python 2",
   "language": "python",
   "name": "python2"
  },
  "language_info": {
   "codemirror_mode": {
    "name": "ipython",
    "version": 2
   },
   "file_extension": ".py",
   "mimetype": "text/x-python",
   "name": "python",
   "nbconvert_exporter": "python",
   "pygments_lexer": "ipython2",
   "version": "2.7.11"
  }
 },
 "nbformat": 4,
 "nbformat_minor": 0
}
