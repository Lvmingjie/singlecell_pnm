{
 "cells": [
  {
   "cell_type": "code",
   "execution_count": 3,
   "metadata": {
    "collapsed": false
   },
   "outputs": [
    {
     "name": "stderr",
     "output_type": "stream",
     "text": [
      "/home/obotvinnik/anaconda/lib/python2.7/site-packages/matplotlib/__init__.py:810: UserWarning: Found matplotlib configuration in ~/.matplotlib/. To conform with the XDG base directory standard, this configuration location has been deprecated on Linux, and the new location is now /home/obotvinnik/.config/matplotlib/. Please move your configuration there to ensure that matplotlib will continue to find it in the future.\n",
      "  _get_xdg_config_dir())\n"
     ]
    }
   ],
   "source": [
    "import pandas as pd\n",
    "\n",
    "%load_ext autoreload\n",
    "%autoreload 2\n",
    "\n",
    "folder = '/projects/ps-yeolab/obotvinnik/singlecell_pnms'\n",
    "csv_folder = '{}/csvs_for_paper'.format(folder)\n",
    "bed_folder = '{}/bed'.format(folder)\n",
    "# folder2 = '/projects/ps-yeolab2/obotvinnik/singlecell_pnm'\n",
    "\n",
    "splicing_feature_folder = '{}/splicing_feature_data'.format(csv_folder)\n",
    "alternative_feature_folder = '{}/alternative'.format(splicing_feature_folder)\n",
    "constitutive_feature_folder = '{}/constitutive'.format(splicing_feature_folder)\n",
    "\n",
    "alt_exons_bedfile = '{}/exons.bed'.format(alternative_feature_folder)\n",
    "constitutive_bedfile = '{}/exons.bed'.format(constitutive_feature_folder)\n",
    "\n",
    " \n",
    "# splicing_feature_data = pd.read_csv('{}/splicing_feature_data.csv'.format(csv_folder), index_col=0)\n",
    "# print(splicing_feature_data.shape)\n",
    "# splicing_feature_data.head()"
   ]
  },
  {
   "cell_type": "code",
   "execution_count": 4,
   "metadata": {
    "collapsed": true
   },
   "outputs": [],
   "source": [
    "import pybedtools"
   ]
  },
  {
   "cell_type": "code",
   "execution_count": 5,
   "metadata": {
    "collapsed": true
   },
   "outputs": [],
   "source": [
    "alt_exons = pybedtools.BedTool(alt_exons_bedfile)\n",
    "constitutive = pybedtools.BedTool(constitutive_bedfile)"
   ]
  },
  {
   "cell_type": "code",
   "execution_count": 6,
   "metadata": {
    "collapsed": false
   },
   "outputs": [],
   "source": [
    "from Bio import SeqIO\n",
    "import kvector\n",
    "import pybedtools\n",
    "import pyhomer\n",
    "\n",
    "DIRECTIONS = 'upstream', 'downstream'\n",
    "\n",
    "placental_filename = '/projects/ps-yeolab/genomes/hg19/database/phastConsElements46wayPlacental.bed'\n",
    "conservation_bed = pybedtools.BedTool(placental_filename)\n",
    "\n",
    "genome = 'hg19'\n",
    "\n",
    "nt = 200\n",
    "\n",
    "genome_fasta = '/projects/ps-yeolab/genomes/hg19/chromosomes/all.fa'\n",
    "\n",
    "pair = pyhomer.ForegroundBackgroundPair(alt_exons, constitutive)\n",
    "# #         print '\\n', pair \n",
    "\n",
    "# for direction in DIRECTIONS:\n",
    "#     print '\\n\\t', direction\n",
    "#     intron_pair = pair.flanking_intron(direction, 'hg19', nt)\n",
    "\n",
    "#     conserved_introns = intron_pair.intersect(conservation_bed, 'placental')\n",
    "# #             print '\\n', conserved_introns\n",
    "# #     break\n",
    "#     %time seqs = conserved_introns.foreground.sequence(fi=genome_fasta, s=True)\n",
    "#     break\n",
    "#     %time foreground_kmers = kvector.count_kmers(seqs.seqfn)\n",
    "\n",
    "#     %time seqs = conserved_introns.background.sequence(fi=genome_fasta, s=True)\n",
    "#     %time background_kmers = kvector.count_kmers(seqs.seqfn)\n",
    "    \n",
    "    \n",
    "# #     kmer_zscore = (foreground_kmers.mean() - background_kmers.mean())/background_kmers.std()\n",
    "#     kmer_zscore.name = '{}{}nt_{}_{}_placental'.format(direction, nt, phenotype, modality)\n",
    "#     kmer_zscores.append(kmer_zscore)\n",
    "# kmer_zscores_all = pd.concat(kmer_zscores, axis=1)\n",
    "# kmer_zscores_all.head()"
   ]
  },
  {
   "cell_type": "code",
   "execution_count": 7,
   "metadata": {
    "collapsed": true
   },
   "outputs": [],
   "source": [
    "pyhomer.pyhomer.get_flanking_intron??"
   ]
  },
  {
   "cell_type": "code",
   "execution_count": 8,
   "metadata": {
    "collapsed": true
   },
   "outputs": [],
   "source": [
    "pair.flanking_intron??"
   ]
  },
  {
   "cell_type": "code",
   "execution_count": 9,
   "metadata": {
    "collapsed": true
   },
   "outputs": [],
   "source": [
    "import six"
   ]
  },
  {
   "cell_type": "code",
   "execution_count": 10,
   "metadata": {
    "collapsed": false
   },
   "outputs": [],
   "source": [
    "# %%time\n",
    "\n",
    "# genome = 'hg19'\n",
    "\n",
    "# kmers = {'upstream': [], 'downstream': []}\n",
    "\n",
    "# for interval in alt_exons:\n",
    "#     bed = pybedtools.BedTool([interval])\n",
    "#     for direction in DIRECTIONS:\n",
    "# #         print '\\n\\t', direction\n",
    "#         if direction == 'downstream':\n",
    "#             intron = bed.flank(l=0, r=nt, s=True, genome=genome)\n",
    "#         elif direction == 'upstream':\n",
    "#             intron = bed.flank(l=nt, r=0, s=True, genome=genome)\n",
    "        \n",
    "#         conserved_intron = intron.intersect(conservation_bed)\n",
    "#         seqs = conserved_intron.sequence(fi=genome_fasta, s=True)\n",
    "#         k = kvector.count_kmers(seqs.seqfn).sum()\n",
    "# #         six.print_(k[k > 0])\n",
    "#         k.name = interval.name\n",
    "#         kmers[direction].append(k)\n",
    "# #     break"
   ]
  },
  {
   "cell_type": "code",
   "execution_count": 11,
   "metadata": {
    "collapsed": false
   },
   "outputs": [],
   "source": [
    "# for direction, counts in kmers.items():\n",
    "#     df = pd.concat([counts])\n",
    "#     six.print_(df.head())\n",
    "#     df.to_csv('{}/kmers_{}{}nt_placental.csv'.format(alternative_feature_folder, direction, nt)"
   ]
  },
  {
   "cell_type": "code",
   "execution_count": 12,
   "metadata": {
    "collapsed": false
   },
   "outputs": [
    {
     "data": {
      "text/plain": [
       "[0, 1, 2]"
      ]
     },
     "execution_count": 12,
     "metadata": {},
     "output_type": "execute_result"
    }
   ],
   "source": [
    "range(3)"
   ]
  },
  {
   "cell_type": "code",
   "execution_count": 14,
   "metadata": {
    "collapsed": false
   },
   "outputs": [],
   "source": [
    "def count_intron_kmers(bed, genome, nt, genome_fasta, folder, suffix='', intersect=None):\n",
    "    genome = 'hg19'\n",
    "\n",
    "    kmers = {'upstream': [], 'downstream': []}\n",
    "\n",
    "    for interval in bed:\n",
    "        minibed = pybedtools.BedTool([interval])\n",
    "        for direction in DIRECTIONS:\n",
    "    #         print '\\n\\t', direction\n",
    "            if direction == 'downstream':\n",
    "                intron = minibed.flank(l=0, r=nt, s=True, genome=genome)\n",
    "            elif direction == 'upstream':\n",
    "                intron = minibed.flank(l=nt, r=0, s=True, genome=genome)\n",
    "\n",
    "            if intersect is not None:\n",
    "                intron = intron.intersect(intersect)\n",
    "            seqs = intron.sequence(fi=genome_fasta, s=True)\n",
    "            k = kvector.count_kmers(seqs.seqfn).sum()\n",
    "    #         six.print_(k[k > 0])\n",
    "            k.name = interval.name\n",
    "            kmers[direction].append(k)\n",
    "    for direction, counts in kmers.items():\n",
    "        df = pd.concat([counts])\n",
    "        six.print_(df.head())\n",
    "        df.to_csv('{}/kmers_{}{}nt{}.csv'.format(folder, direction, nt, suffix))"
   ]
  },
  {
   "cell_type": "markdown",
   "metadata": {
    "collapsed": true
   },
   "source": [
    "## Try to parallelize"
   ]
  },
  {
   "cell_type": "code",
   "execution_count": 2,
   "metadata": {
    "collapsed": false
   },
   "outputs": [],
   "source": [
    "DNA = \"ACGT\"\n",
    "\n",
    "def per_interval_kmers(bed, genome_fasta, intersect=None,\n",
    "                       kmer_lengths=(4, 5, 6), residues=DNA):\n",
    "    \"\"\"Create a matrix of k-mer observations for each genomic region\n",
    "\n",
    "    Parameters\n",
    "    ----------\n",
    "    bed : str or pybedtools.BedTool\n",
    "        Either a filepath or pybedtools.BedTool of the genomic intervals whose\n",
    "        kmers you want to count\n",
    "    genome_fasta : str\n",
    "        Path to the genome fasta file\n",
    "    intersect : str or pybedtools.BedTool\n",
    "        Either a filepath or pybedtools.BedTool of another region location,\n",
    "        e.g. conserved elements, that you want to intersect with when\n",
    "        searching for k-mers\n",
    "\n",
    "    Returns\n",
    "    -------\n",
    "    kmers : pandas.DataFrame\n",
    "        A (n_intervals, n_kmers) matrix of the number of DNA words observed in\n",
    "        each interval, possibly filtered on only the regions that intersect\n",
    "        with the original intervals\n",
    "    \"\"\"\n",
    "    if not isinstance(bed, pybedtools.BedTool):\n",
    "        bed = pybedtools.BedTool(bed)\n",
    "\n",
    "    if intersect is not None and not isinstance(intersect, pybedtools.BedTool):\n",
    "        intersect = pybedtools.BedTool(intersect)\n",
    "\n",
    "    kmers = []\n",
    "\n",
    "    for interval in bed:\n",
    "        minibed = pybedtools.BedTool([interval])\n",
    "        if intersect is not None:\n",
    "            minibed = minibed.intersect(intersect)\n",
    "        seqs = minibed.sequence(fi=genome_fasta, s=True)\n",
    "        k = count_kmers(seqs.seqfn, kmer_lengths=kmer_lengths,\n",
    "                        residues=residues).sum()\n",
    "        k.name = interval.name\n",
    "        kmers.append(k)\n",
    "    return pd.concat(kmers, axis=1).T"
   ]
  },
  {
   "cell_type": "code",
   "execution_count": 31,
   "metadata": {
    "collapsed": true
   },
   "outputs": [],
   "source": [
    "! head -n 100 $alt_exons_bedfile > $alternative_feature_folder/test.bed"
   ]
  },
  {
   "cell_type": "code",
   "execution_count": 32,
   "metadata": {
    "collapsed": true
   },
   "outputs": [],
   "source": [
    "bed = pybedtools.BedTool('{}/test.bed'.format(alternative_feature_folder))"
   ]
  },
  {
   "cell_type": "code",
   "execution_count": 33,
   "metadata": {
    "collapsed": false
   },
   "outputs": [
    {
     "name": "stdout",
     "output_type": "stream",
     "text": [
      "CPU times: user 23.7 s, sys: 449 ms, total: 24.1 s\n",
      "Wall time: 25.2 s\n"
     ]
    }
   ],
   "source": [
    "%%time\n",
    "intersect = None\n",
    "kmer_lengths = 4, 5, 6\n",
    "residues = DNA\n",
    "\n",
    "counts = []\n",
    "\n",
    "for interval in bed:\n",
    "    minibed = pybedtools.BedTool([interval])\n",
    "    if intersect is not None:\n",
    "        minibed = minibed.intersect(intersect)\n",
    "    seqs = minibed.sequence(fi=genome_fasta, s=True)\n",
    "    k = kvector.count_kmers(seqs.seqfn, kmer_lengths=kmer_lengths,\n",
    "                    residues=residues).sum()\n",
    "    k.name = interval.name\n",
    "    counts.append(k)\n",
    "true_kmers = pd.concat(counts, axis=1).T"
   ]
  },
  {
   "cell_type": "code",
   "execution_count": 34,
   "metadata": {
    "collapsed": false
   },
   "outputs": [],
   "source": [
    "intersect = None\n",
    "kmer_lengths = 4, 5, 6\n",
    "residues = DNA\n",
    "\n",
    "counts = []\n",
    "\n",
    "def _count_kmers_single_interval(interval, genome_fasta, intersect, kmer_lengths, residues):\n",
    "    minibed = pybedtools.BedTool([interval])\n",
    "    if intersect is not None:\n",
    "        minibed = minibed.intersect(intersect)\n",
    "    seqs = minibed.sequence(fi=genome_fasta, s=True)\n",
    "    k = kvector.count_kmers(seqs.seqfn, kmer_lengths=kmer_lengths,\n",
    "                    residues=residues).sum()\n",
    "    k.name = interval.name\n",
    "    return k\n"
   ]
  },
  {
   "cell_type": "code",
   "execution_count": 35,
   "metadata": {
    "collapsed": true
   },
   "outputs": [],
   "source": [
    "import joblib"
   ]
  },
  {
   "cell_type": "code",
   "execution_count": 36,
   "metadata": {
    "collapsed": false
   },
   "outputs": [
    {
     "name": "stdout",
     "output_type": "stream",
     "text": [
      "CPU times: user 358 ms, sys: 79 ms, total: 437 ms\n",
      "Wall time: 6.89 s\n"
     ]
    }
   ],
   "source": [
    "%%time\n",
    "counts = joblib.Parallel(n_jobs=4)(\n",
    "    joblib.delayed(_count_kmers_single_interval)(interval, genome_fasta, intersect, kmer_lengths, residues) for interval in bed)"
   ]
  },
  {
   "cell_type": "code",
   "execution_count": 37,
   "metadata": {
    "collapsed": true
   },
   "outputs": [],
   "source": [
    "test_kmers = pd.concat(counts, axis=1).T"
   ]
  },
  {
   "cell_type": "code",
   "execution_count": 38,
   "metadata": {
    "collapsed": true
   },
   "outputs": [],
   "source": [
    "import pandas.util.testing as pdt"
   ]
  },
  {
   "cell_type": "code",
   "execution_count": 39,
   "metadata": {
    "collapsed": true
   },
   "outputs": [],
   "source": [
    "pdt.assert_frame_equal(test_kmers, true_kmers)"
   ]
  },
  {
   "cell_type": "markdown",
   "metadata": {},
   "source": [
    "## Try with an intersection"
   ]
  },
  {
   "cell_type": "code",
   "execution_count": 40,
   "metadata": {
    "collapsed": true
   },
   "outputs": [],
   "source": [
    "intersect = conservation_bed"
   ]
  },
  {
   "cell_type": "code",
   "execution_count": 41,
   "metadata": {
    "collapsed": false
   },
   "outputs": [
    {
     "name": "stdout",
     "output_type": "stream",
     "text": [
      "CPU times: user 556 ms, sys: 150 ms, total: 706 ms\n",
      "Wall time: 3min 20s\n"
     ]
    }
   ],
   "source": [
    "%%time\n",
    "counts = joblib.Parallel(n_jobs=4)(\n",
    "    joblib.delayed(_count_kmers_single_interval)(interval, genome_fasta, intersect, kmer_lengths, residues) for interval in bed)"
   ]
  },
  {
   "cell_type": "code",
   "execution_count": 43,
   "metadata": {
    "collapsed": true
   },
   "outputs": [],
   "source": [
    "test_kmers = pd.concat(counts, axis=1).T"
   ]
  },
  {
   "cell_type": "code",
   "execution_count": 42,
   "metadata": {
    "collapsed": false
   },
   "outputs": [
    {
     "name": "stdout",
     "output_type": "stream",
     "text": [
      "CPU times: user 23.8 s, sys: 514 ms, total: 24.3 s\n",
      "Wall time: 25.4 s\n"
     ]
    }
   ],
   "source": [
    "%%time\n",
    "intersect = None\n",
    "kmer_lengths = 4, 5, 6\n",
    "residues = DNA\n",
    "\n",
    "counts = []\n",
    "\n",
    "for interval in bed:\n",
    "    minibed = pybedtools.BedTool([interval])\n",
    "    if intersect is not None:\n",
    "        minibed = minibed.intersect(intersect)\n",
    "    seqs = minibed.sequence(fi=genome_fasta, s=True)\n",
    "    k = kvector.count_kmers(seqs.seqfn, kmer_lengths=kmer_lengths,\n",
    "                    residues=residues).sum()\n",
    "    k.name = interval.name\n",
    "    counts.append(k)\n",
    "true_kmers = pd.concat(counts, axis=1).T"
   ]
  },
  {
   "cell_type": "code",
   "execution_count": 44,
   "metadata": {
    "collapsed": true
   },
   "outputs": [],
   "source": [
    "pdt.assert_frame_equal(test_kmers, true_kmers)"
   ]
  },
  {
   "cell_type": "code",
   "execution_count": null,
   "metadata": {
    "collapsed": true
   },
   "outputs": [],
   "source": []
  }
 ],
 "metadata": {
  "kernelspec": {
   "display_name": "Python 2",
   "language": "python",
   "name": "python2"
  },
  "language_info": {
   "codemirror_mode": {
    "name": "ipython",
    "version": 2
   },
   "file_extension": ".py",
   "mimetype": "text/x-python",
   "name": "python",
   "nbconvert_exporter": "python",
   "pygments_lexer": "ipython2",
   "version": "2.7.11"
  }
 },
 "nbformat": 4,
 "nbformat_minor": 0
}
