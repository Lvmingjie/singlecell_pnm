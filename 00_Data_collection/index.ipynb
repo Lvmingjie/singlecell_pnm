{
 "cells": [
  {
   "cell_type": "markdown",
   "metadata": {},
   "source": [
    "\n",
    "\n",
    "# 0. Data Collection\n",
    "\n",
    "## 1. Combine data\n",
    "\n",
    "## 2. Annotate alternative splicing events\n",
    "\n",
    "0. Overview\n",
    "\n",
    "\n",
    "1. Create outrigger index\n",
    "2. \n",
    "\n",
    "# Overview of splicing annotations\n",
    "\n",
    "A key aspect of this study is the annotation of alternative splicing events. We calcluate alternative splicing of skipped exon and mutually exclusive exons, based on read which uniquely mapped to a junction between exons. These annotation steps can be broken down as such:\n",
    "\n",
    "##### Create a de novo splicing index\n",
    "1. Create outrigger index\n",
    "    1. Identify all annotated (Gencode v19 - all levels) exons which are exactly upstream and downstream of all junctions.\n",
    "    2. Aggregate exons and junctions into *de novo* splicing annotations of skipped exon (SE) and mutually exclusive exon (MXE) events. \n",
    "        1. If multiple flanking exons are available, use the shortest CDS sequence. If no CDS, the shortest sequence.\n",
    "2. Calculate percent spliced-in (Psi/$\\Psi$) of SE and MXE events, based on junction reads.\n",
    "3. Filter out non-alternative events and create the `splicing.csv` file.\n",
    "\n",
    "    ***Annotate alternative events with gene ids and names***\n",
    "3. Start a splicing event annotation table.\n",
    "    1. Get gene ids corresponding to SE and MXE event annotations using GENCODE data\n",
    "    2. Use these ids to intersect with previously created gene annotations.\n",
    "    3. Get intron lengths\n",
    "\n",
    "   ***Annotate Alternative exon bodies***\n",
    "4. Create bed files of alternative and constitutive exons.\n",
    "5. Submit a compute job to calculate mean placental mammal conservation of exon bodies (`bigWigAverageOverBed`).\n",
    "6. Submit a compute job to save the bigWig file of intronic (relative to the alternative and constitutive bed files produced in (4)) Placental Mammal PhastCons scores as a memory-mapped HTSeq GenomicArray for future use\n",
    "7. Calculate splice site strength of alternative and constitutive exons from (4)\n",
    "8. Read exon body conservation from (5)\n",
    "9. Calculate GC content of exons from (4)\n",
    "10. Ancient alternatively spliced exons (Merkin et al, 2012) of exons from (4)\n",
    "    1. Obtain ancient alternatively spliced exon table from Merkin 2012\n",
    "    2. Use `liftOver` to convert rhesus macaque (`rheMac2`) coordinates to human (`hg19`) coordinates\n",
    "    3. Overlap with \"Ancient\" alternatively spliced exons (Merkin et al, *Science* 2012).\n",
    "11. Overlap with repetitive elements (RepeatMasker/Dfam)\n",
    "\n",
    "    ***Annotate Introns***\n",
    "12. Get base-wise conservation of introns flanking alternative and constitutive exons. This will be used in Figure 2 when describing intron conservation of alternative splicing modalities.\n",
    "13. Get base-wise nucelotide content in flanking introns.\n",
    "\n",
    "    ***Annotate transcribed RNA sequence***\n",
    "14. Transcribe RNA sequence of each isoform of SE and MXE events\n",
    "15. Submit a compute job to estimate predicted miRNA binding sites with `RNAhybrid`\n",
    "16. Read `RNAhybrid` output\n",
    "17. Submit a compute job to estimate RNA structure (single or double stranded) with `RNAfold`\n",
    "18. Read `RNAfold` output\n",
    "\n",
    "    ***Annotate protein products***\n",
    "19. Computationally translate SE and MXE event isoforms to the protein product\n",
    "20. Calculate protein properties such as isoelectric point, and other things built into BioPython\n",
    "21. Calculate protein disorder using `IUPred`\n",
    "22. Submit a job to find protein domains in the translated protein products of the isoforms using `hmmscan` and the Pfam-A protein family database\n",
    "23. Read `hmmscan` output and use Pfam clan annotation to get higher order \"protein function switching\" events (vs Kinase domain switching to a tyrosine kinase domain - they're largely the same.)"
   ]
  },
  {
   "cell_type": "markdown",
   "metadata": {},
   "source": [
    "## 2. Annotate genes\n",
    "\n",
    "1. Get Gene Age from Domazet-Loso 2008\n"
   ]
  },
  {
   "cell_type": "code",
   "execution_count": 1,
   "metadata": {
    "collapsed": false
   },
   "outputs": [
    {
     "name": "stdout",
     "output_type": "stream",
     "text": [
      "Writing README.md\n"
     ]
    }
   ],
   "source": [
    "%%file README.md\n",
    "\n",
    "# Overview of splicing annotations\n",
    "\n",
    "A key aspect of this study is the annotation of alternative splicing events. We calcluate alternative splicing of skipped exon and mutually exclusive exons, based on read which uniquely mapped to a junction between exons. These annotation steps can be broken down as such:\n",
    "\n",
    "1. Identify all annotated (Gencode v19 - all levels) exons which are exactly upstream and downstream of all junctions.\n",
    "2. Aggregate exons and junctions into *de novo* splicing annotations of skipped exon (SE) and mutually exclusive exon (MXE) events. \n",
    "    1. If multiple flanking exons are available, use the shortest CDS sequence. If no CDS, the shortest sequence.\n",
    "3. Calculate percent spliced-in (Psi/$\\Psi$) of SE and MXE events, based on junction reads.\n",
    "4. Start a splicing event annotation table.\n",
    "    1. Get gene ids corresponding to SE and MXE event annotations\n",
    "    2. Use these ids to intersect with previously created gene annotations.\n",
    "5. Create bed files of alternative and constitutive exons.\n",
    "    1. Submit a compute job to calculate mean placental mammal conservation of exon bodies (`bigWigAverageOverBed`).\n",
    "6. Use bed files of exons and calculated conservation from (5) to ...\n",
    "    1. Calculate splice site strength\n",
    "    2. Read calcualted conservation from (5)\n",
    "    3. Add this information back to the splicing event annotation table.\n",
    "7. Ancient alternatively spliced exons (Merkin et al, 2012)\n",
    "    1. Obtain ancient alternatively spliced exon table from Merkin 2012\n",
    "    2. Use `liftOver` to convert rhesus macaque (`rheMac2`) coordinates to human (`hg19`) coordinates\n",
    "    2. Overlap with \"Ancient\" alternatively spliced exons (Merkin et al, *Science* 2012).\n",
    "    3. Add this information back to the splicing event annotation table.\n",
    "8. Save conservation wiggle as a memory-mapped Genomic Array\n",
    "    1. Get base-wise conservation of introns flanking alternative and constitutive exons. This will be used in Figure 2 when describing intron conservation of alternative splicing modalities.\n",
    "8. Get RNA sequence of each isoform of SE and MXE events, and ...\n",
    "    1. Estimate predicted miRNA binding sites \n",
    "    2. Estiamte RNA structure (single or double stranded)\n",
    "    3. Add this information back to the splicing event annotation table.\n",
    "9. Get protein sequence of each isoform of SE and MXE events, and ...\n",
    "    1. Use `hmmscan` to estimate Pfam-A protein domains within protein sequences\n",
    "        1. Use `pfam2go` to get gene ontology annotations of pfam domains (Higher order structure)\n",
    "    2. Estimate protein disordered scores using `IUPred`\n",
    "    3. Add this information back to the splicing event annotation table.\n",
    "\n"
   ]
  },
  {
   "cell_type": "code",
   "execution_count": null,
   "metadata": {
    "collapsed": true
   },
   "outputs": [],
   "source": []
  }
 ],
 "metadata": {
  "kernelspec": {
   "display_name": "Python 2",
   "language": "python",
   "name": "python2"
  },
  "language_info": {
   "codemirror_mode": {
    "name": "ipython",
    "version": 2
   },
   "file_extension": ".py",
   "mimetype": "text/x-python",
   "name": "python",
   "nbconvert_exporter": "python",
   "pygments_lexer": "ipython2",
   "version": "2.7.11"
  }
 },
 "nbformat": 4,
 "nbformat_minor": 0
}
