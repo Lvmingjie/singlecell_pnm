{
 "cells": [
  {
   "cell_type": "code",
   "execution_count": 2,
   "metadata": {
    "collapsed": true
   },
   "outputs": [],
   "source": [
    "import qtools"
   ]
  },
  {
   "cell_type": "code",
   "execution_count": 6,
   "metadata": {
    "collapsed": false
   },
   "outputs": [
    {
     "data": {
      "text/plain": [
       "u'/home/obotvinnik/ipython_notebook/singlecell/manuscript/0._Data_collection'"
      ]
     },
     "execution_count": 6,
     "metadata": {},
     "output_type": "execute_result"
    }
   ],
   "source": [
    "pwd"
   ]
  },
  {
   "cell_type": "code",
   "execution_count": 11,
   "metadata": {
    "collapsed": false
   },
   "outputs": [
    {
     "name": "stderr",
     "output_type": "stream",
     "text": [
      "Wrote commands to translate_isoforms.sh\n",
      ".Submitted script to queue home-scrm. Job ID: 4554262\n"
     ]
    },
    {
     "data": {
      "text/plain": [
       "<qtools.submitter.Submitter at 0x2ba4d439c810>"
      ]
     },
     "execution_count": 11,
     "metadata": {},
     "output_type": "execute_result"
    }
   ],
   "source": [
    "filename = '/home/obotvinnik/ipython_notebook/singlecell/manuscript/0._Data_collection/0.2.14_Translate_isoforms_to_protein_products.ipynb'\n",
    "output_filename = filename.replace('.ipynb', '_runipy_output.ipynb')\n",
    "command = 'time runipy {} {}'.format(filename, output_filename)\n",
    "qtools.Submitter([command], 'translate_isoforms', walltime='168:00:00', queue='home-scrm')"
   ]
  },
  {
   "cell_type": "code",
   "execution_count": 8,
   "metadata": {
    "collapsed": false
   },
   "outputs": [
    {
     "name": "stdout",
     "output_type": "stream",
     "text": [
      "==> translate_isoforms.sh <==\r\n",
      "#!/bin/bash\r\n",
      "#PBS -N translate_isoforms\r\n",
      "#PBS -o translate_isoforms.sh.out\r\n",
      "#PBS -e translate_isoforms.sh.err\r\n",
      "#PBS -V\r\n",
      "#PBS -l walltime=96:00:00\r\n",
      "#PBS -l nodes=1:ppn=1\r\n",
      "#PBS -A yeo-group\r\n",
      "#PBS -q home-scrm\r\n",
      "\r\n",
      "# Go to the directory from which the script was called\r\n",
      "cd $PBS_O_WORKDIR\r\n",
      "time runipy /home/obotvinnik/ipython_notebook/singlecell/manuscript/0._Data_collection/0.2.14_Translate_isoforms_to_protein_products.ipynb /home/obotvinnik/ipython_notebook/singlecell/manuscript/0._Data_collection/0.2.14_Translate_isoforms_to_protein_products_runipy_output.ipynb\r\n",
      "\r\n",
      "\r\n",
      "==> translate_isoforms.sh.err <==\r\n",
      "#                     print '\\t\\t\\t-'\r\n",
      "\r\n",
      "            if reverse:\r\n",
      "                coding_sequence = Seq(''.join(cds.sequence(hg19_fasta)[::-1] for cds in cdss), generic_dna).complement()\r\n",
      "            else:\r\n",
      "                coding_sequence = Seq(''.join(cds.sequence(hg19_fasta) for cds in cdss), generic_dna)\r\n",
      "#                 print len(coding_sequence)\r\n",
      "            coding_sequence = coding_sequence[int(cdss[0].frame):]\r\n",
      "            translated = coding_sequence.translate()\r\n",
      "            seqrecord = SeqRecord(translated, id='{0}|{1}|{2}'.format(event_id, cds_str, isoform))\r\n",
      "#             print '\\t\\t', translated\r\n",
      "            seqrecords.append(seqrecord)\r\n",
      "#     pprint(isoform_to_cds)\r\n",
      "\r\n",
      "\r\n",
      "\r\n",
      "\r\n",
      "=>> PBS: job killed: walltime 604814 exceeded limit 604800\r\n",
      "/usr/bin/ipcrm: invalid id (235569152)\r\n",
      "/usr/bin/ipcrm: invalid id (251658241)\r\n",
      "\r\n",
      "==> translate_isoforms.sh.out <==\r\n",
      "Nodes:        tscc-2-50\r\n"
     ]
    }
   ],
   "source": [
    "! tail -n 20 translate_isoforms.sh*"
   ]
  },
  {
   "cell_type": "code",
   "execution_count": 3,
   "metadata": {
    "collapsed": false
   },
   "outputs": [
    {
     "name": "stderr",
     "output_type": "stream",
     "text": [
      "Wrote commands to first_last_internal_exon.sh\n",
      ".Submitted script to queue home-scrm. Job ID: 4591801\n"
     ]
    },
    {
     "data": {
      "text/plain": [
       "<qtools.submitter.Submitter at 0x2ae0e85cee90>"
      ]
     },
     "execution_count": 3,
     "metadata": {},
     "output_type": "execute_result"
    }
   ],
   "source": [
    "filename = '/home/obotvinnik/ipython_notebook/singlecell/manuscript/0._Data_collection/0.2.11_first_or_last_internal_exon.ipynb'\n",
    "output_filename = filename.replace('.ipynb', '_runipy_output.ipynb')\n",
    "command = 'time runipy {} {}'.format(filename, output_filename)\n",
    "qtools.Submitter([command], 'first_last_internal_exon', walltime='96:00:00', queue='home-scrm')"
   ]
  },
  {
   "cell_type": "code",
   "execution_count": null,
   "metadata": {
    "collapsed": true
   },
   "outputs": [],
   "source": []
  },
  {
   "cell_type": "code",
   "execution_count": 10,
   "metadata": {
    "collapsed": false
   },
   "outputs": [
    {
     "name": "stdout",
     "output_type": "stream",
     "text": [
      "==> first_last_internal_exon.sh <==\r\n",
      "#!/bin/bash\r\n",
      "#PBS -N first_last_internal_exon\r\n",
      "#PBS -o first_last_internal_exon.sh.out\r\n",
      "#PBS -e first_last_internal_exon.sh.err\r\n",
      "#PBS -V\r\n",
      "#PBS -l walltime=96:00:00\r\n",
      "#PBS -l nodes=1:ppn=1\r\n",
      "#PBS -A yeo-group\r\n",
      "#PBS -q home-scrm\r\n",
      "\r\n",
      "# Go to the directory from which the script was called\r\n",
      "cd $PBS_O_WORKDIR\r\n",
      "time runipy /home/obotvinnik/ipython_notebook/singlecell/manuscript/0._Data_collection/0.2.11_first_or_last_internal_exon.ipynb /home/obotvinnik/ipython_notebook/singlecell/manuscript/0._Data_collection/0.2.11_first_or_last_internal_exon_runipy_output.ipynb\r\n",
      "\r\n",
      "\r\n",
      "==> first_last_internal_exon.sh.err <==\r\n",
      "03/05/2016 07:09:19 AM INFO: Cell returned\r\n",
      "03/05/2016 07:09:19 AM INFO: Running cell:\r\n",
      "constitutive_first_last_internal.head()\r\n",
      "\r\n",
      "03/05/2016 07:09:20 AM INFO: Cell returned\r\n",
      "03/05/2016 07:09:20 AM INFO: Running cell:\r\n",
      "x = constitutive_first_last_internal.map(list).to_dict()\r\n",
      "constitutive_first_last_internal_df = pd.DataFrame(x).T\r\n",
      "\r\n",
      "03/05/2016 07:09:20 AM INFO: Cell returned\r\n",
      "03/05/2016 07:09:20 AM INFO: Running cell:\r\n",
      "\r\n",
      "constitutive_first_last_internal_df.to_csv('{}/{}'.format(constitutive_feature_folder, csv))\r\n",
      "\r\n",
      "03/05/2016 07:09:20 AM INFO: Cell returned\r\n",
      "03/05/2016 07:09:20 AM INFO: Running cell:\r\n",
      "%%time\r\n",
      "first_last_internal = splicing_feature_data['exon2'].apply(get_first_last_internal, db=v19db)\r\n",
      "\r\n",
      "=>> PBS: job killed: walltime 604817 exceeded limit 604800\r\n",
      "\r\n",
      "==> first_last_internal_exon.sh.out <==\r\n",
      "Nodes:        tscc-2-50\r\n"
     ]
    }
   ],
   "source": [
    "! tail -n 20 first_last_internal_exon.sh*"
   ]
  },
  {
   "cell_type": "code",
   "execution_count": 12,
   "metadata": {
    "collapsed": false
   },
   "outputs": [
    {
     "name": "stderr",
     "output_type": "stream",
     "text": [
      "job ID: 4391044\n"
     ]
    },
    {
     "data": {
      "text/plain": [
       "<qtools.submitter.Submitter at 0x2b0a34317dd0>"
      ]
     },
     "execution_count": 12,
     "metadata": {},
     "output_type": "execute_result"
    }
   ],
   "source": [
    "manuscript_dir = '$HOME/ipython_notebook/singlecell/manuscript'\n",
    "filename = '{}/2._Figure_2/2.7_Figure_2,_part_7_-_count_kmers_in_modality_introns.ipynb'.format(manuscript_dir)\n",
    "output_filename = filename.replace('.ipynb', '_runipy_output.ipynb')\n",
    "command = 'time runipy {} {}'.format(filename, output_filename)\n",
    "qtools.Submitter([command], 'count_kmers', walltime='48:00:00', queue='home-scrm')"
   ]
  },
  {
   "cell_type": "code",
   "execution_count": 1,
   "metadata": {
    "collapsed": false
   },
   "outputs": [
    {
     "name": "stdout",
     "output_type": "stream",
     "text": [
      "==> count_kmers.sh <==\n",
      "#!/bin/bash\n",
      "#PBS -N count_kmers\n",
      "#PBS -o count_kmers.sh.out\n",
      "#PBS -e count_kmers.sh.err\n",
      "#PBS -V\n",
      "#PBS -l walltime=48:00:00\n",
      "#PBS -l nodes=1:ppn=1\n",
      "#PBS -A yeo-group\n",
      "#PBS -q home-scrm\n",
      "\n",
      "# Go to the directory from which the script was called\n",
      "cd $PBS_O_WORKDIR\n",
      "time runipy $HOME/ipython_notebook/singlecell/manuscript/2._Figure_2/2.7_Figure_2,_part_7_-_count_kmers_in_modality_introns.ipynb $HOME/ipython_notebook/singlecell/manuscript/2._Figure_2/2.7_Figure_2,_part_7_-_count_kmers_in_modality_introns_runipy_output.ipynb\n",
      "\n",
      "\n",
      "==> count_kmers.sh.err <==\n",
      "02/23/2016 06:50:45 PM INFO: Running cell:\n",
      "kmer_zscores_metadata = pd.DataFrame.from_records(\n",
      "    study.supplemental.kmer_zscores.columns.map(lambda x: pd.Series(x.split('_'))), \n",
      "    index=study.supplemental.kmer_zscores.columns)\n",
      "kmer_zscores_metadata.columns = ['direction', 'phenotype', 'modality', 'clade']\n",
      "study.supplemental.kmer_zscores_metadata = kmer_zscores_metadata\n",
      "\n",
      "kmer_zscores_metadata.head()\n",
      "\n",
      "02/23/2016 06:50:45 PM INFO: Cell returned\n",
      "02/23/2016 06:50:45 PM INFO: Running cell:\n",
      "study.save('singlecell_pnm_figure2_modalities_bayesian_kmers', flotilla_dir=flotilla_dir)\n",
      "\n",
      "02/23/2016 06:51:51 PM INFO: Cell returned\n",
      "02/23/2016 06:51:51 PM INFO: Saving to /home/obotvinnik/ipython_notebook/singlecell/manuscript/2._Figure_2/2.7_Figure_2,_part_7_-_count_kmers_in_modality_introns_runipy_output.ipynb\n",
      "02/23/2016 06:51:51 PM INFO: Shutdown kernel\n",
      "\n",
      "real\t189m14.692s\n",
      "user\t185m22.553s\n",
      "sys\t2m21.730s\n",
      "\n",
      "==> count_kmers.sh.out <==\n",
      "Nodes:        tscc-2-49\n"
     ]
    }
   ],
   "source": [
    "! tail -n 20 count_kmers*"
   ]
  },
  {
   "cell_type": "code",
   "execution_count": null,
   "metadata": {
    "collapsed": true
   },
   "outputs": [],
   "source": []
  }
 ],
 "metadata": {
  "kernelspec": {
   "display_name": "Python 2",
   "language": "python",
   "name": "python2"
  },
  "language_info": {
   "codemirror_mode": {
    "name": "ipython",
    "version": 2
   },
   "file_extension": ".py",
   "mimetype": "text/x-python",
   "name": "python",
   "nbconvert_exporter": "python",
   "pygments_lexer": "ipython2",
   "version": "2.7.10"
  }
 },
 "nbformat": 4,
 "nbformat_minor": 0
}
