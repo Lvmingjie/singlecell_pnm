{
 "cells": [
  {
   "cell_type": "code",
   "execution_count": 1,
   "metadata": {
    "collapsed": false
   },
   "outputs": [
    {
     "name": "stdout",
     "output_type": "stream",
     "text": [
      "2017-01-12 22:35:54\tReading datapackage from /projects/ps-yeolab/obotvinnik/flotilla_projects/singlecell_pnm/datapackage.json\n",
      "2017-01-12 22:35:54\tParsing datapackage to create a Study object\n",
      "https://s3-us-west-2.amazonaws.com/flotilla-projects/ercc/ERCC_Controls.txt has not been downloaded before.\n",
      "\tDownloading now to /home/obotvinnik/flotilla_projects/hg19/ERCC_Controls.txt\n"
     ]
    },
    {
     "name": "stderr",
     "output_type": "stream",
     "text": [
      "/home/obotvinnik/anaconda/lib/python2.7/site-packages/sklearn/cross_validation.py:44: DeprecationWarning: This module was deprecated in version 0.18 in favor of the model_selection module into which all the refactored classes and functions are moved. Also note that the interface of the new CV iterators are different from that of this module. This module will be removed in 0.20.\n",
      "  \"This module will be removed in 0.20.\", DeprecationWarning)\n",
      "Error loading species hg19 data: HTTP Error 404: Not Found"
     ]
    },
    {
     "name": "stdout",
     "output_type": "stream",
     "text": [
      "2017-01-12 22:38:18 \tInitializing Study\n",
      "2017-01-12 22:38:18 \tInitializing Predictor configuration manager for Study\n",
      "2017-01-12 22:38:18\tPredictor ExtraTreesClassifier is of type <class 'sklearn.ensemble.forest.ExtraTreesClassifier'>\n",
      "2017-01-12 22:38:18\tAdded ExtraTreesClassifier to default predictors\n",
      "2017-01-12 22:38:18\tPredictor ExtraTreesRegressor is of type <class 'sklearn.ensemble.forest.ExtraTreesRegressor'>\n",
      "2017-01-12 22:38:18\tAdded ExtraTreesRegressor to default predictors\n",
      "2017-01-12 22:38:18\tPredictor GradientBoostingClassifier is of type <class 'sklearn.ensemble.gradient_boosting.GradientBoostingClassifier'>\n",
      "2017-01-12 22:38:18\tAdded GradientBoostingClassifier to default predictors\n",
      "2017-01-12 22:38:18\tPredictor GradientBoostingRegressor is of type <class 'sklearn.ensemble.gradient_boosting.GradientBoostingRegressor'>\n",
      "2017-01-12 22:38:18\tAdded GradientBoostingRegressor to default predictors\n",
      "2017-01-12 22:38:18 \tLoading metadata\n",
      "2017-01-12 22:38:18\tLoading expression data\n",
      "2017-01-12 22:38:18\tInitializing expression\n",
      "2017-01-12 22:38:20\tDone initializing expression\n",
      "2017-01-12 22:38:30\tLoading splicing data\n"
     ]
    },
    {
     "ename": "TypeError",
     "evalue": "__init__() got an unexpected keyword argument 'feature_shortener_col'",
     "output_type": "error",
     "traceback": [
      "\u001b[1;31m---------------------------------------------------------------------------\u001b[0m",
      "\u001b[1;31mTypeError\u001b[0m                                 Traceback (most recent call last)",
      "\u001b[1;32m<ipython-input-1-23c6ae209556>\u001b[0m in \u001b[0;36m<module>\u001b[1;34m()\u001b[0m\n\u001b[0;32m     18\u001b[0m \u001b[1;33m\u001b[0m\u001b[0m\n\u001b[0;32m     19\u001b[0m \u001b[0mflotilla_dir\u001b[0m \u001b[1;33m=\u001b[0m \u001b[1;34m'/projects/ps-yeolab/obotvinnik/flotilla_projects/'\u001b[0m\u001b[1;33m\u001b[0m\u001b[0m\n\u001b[1;32m---> 20\u001b[1;33m \u001b[0mstudy\u001b[0m \u001b[1;33m=\u001b[0m \u001b[0mflotilla\u001b[0m\u001b[1;33m.\u001b[0m\u001b[0membark\u001b[0m\u001b[1;33m(\u001b[0m\u001b[1;34m'singlecell_pnm'\u001b[0m\u001b[1;33m,\u001b[0m \u001b[0mflotilla_dir\u001b[0m\u001b[1;33m=\u001b[0m\u001b[0mflotilla_dir\u001b[0m\u001b[1;33m)\u001b[0m\u001b[1;33m\u001b[0m\u001b[0m\n\u001b[0m",
      "\u001b[1;32m/home/obotvinnik/workspace-git/flotilla/flotilla/__init__.pyc\u001b[0m in \u001b[0;36membark\u001b[1;34m(study_name, load_species_data, flotilla_dir)\u001b[0m\n\u001b[0;32m     63\u001b[0m                                             study_name)))\n\u001b[0;32m     64\u001b[0m         return Study.from_datapackage_file(filename,\n\u001b[1;32m---> 65\u001b[1;33m                                            load_species_data=load_species_data)\n\u001b[0m\u001b[0;32m     66\u001b[0m     \u001b[1;32mexcept\u001b[0m \u001b[0mIOError\u001b[0m\u001b[1;33m:\u001b[0m\u001b[1;33m\u001b[0m\u001b[0m\n\u001b[0;32m     67\u001b[0m         return Study.from_datapackage_url(study_name,\n",
      "\u001b[1;32m/home/obotvinnik/workspace-git/flotilla/flotilla/study.pyc\u001b[0m in \u001b[0;36mfrom_datapackage_file\u001b[1;34m(cls, datapackage_filename, load_species_data, species_datapackage_base_url)\u001b[0m\n\u001b[0;32m    485\u001b[0m             \u001b[0mdatapackage\u001b[0m\u001b[1;33m,\u001b[0m \u001b[0mdatapackage_dir\u001b[0m\u001b[1;33m=\u001b[0m\u001b[0mdatapackage_dir\u001b[0m\u001b[1;33m,\u001b[0m\u001b[1;33m\u001b[0m\u001b[0m\n\u001b[0;32m    486\u001b[0m             \u001b[0mload_species_data\u001b[0m\u001b[1;33m=\u001b[0m\u001b[0mload_species_data\u001b[0m\u001b[1;33m,\u001b[0m\u001b[1;33m\u001b[0m\u001b[0m\n\u001b[1;32m--> 487\u001b[1;33m             species_datapackage_base_url=species_datapackage_base_url)\n\u001b[0m\u001b[0;32m    488\u001b[0m \u001b[1;33m\u001b[0m\u001b[0m\n\u001b[0;32m    489\u001b[0m     \u001b[1;33m@\u001b[0m\u001b[0mstaticmethod\u001b[0m\u001b[1;33m\u001b[0m\u001b[0m\n",
      "\u001b[1;32m/home/obotvinnik/workspace-git/flotilla/flotilla/study.pyc\u001b[0m in \u001b[0;36mfrom_datapackage\u001b[1;34m(cls, datapackage, datapackage_dir, load_species_data, species_datapackage_base_url)\u001b[0m\n\u001b[0;32m    619\u001b[0m                       \u001b[0mlicense\u001b[0m\u001b[1;33m=\u001b[0m\u001b[0mlicense\u001b[0m\u001b[1;33m,\u001b[0m \u001b[0mtitle\u001b[0m\u001b[1;33m=\u001b[0m\u001b[0mtitle\u001b[0m\u001b[1;33m,\u001b[0m \u001b[0msources\u001b[0m\u001b[1;33m=\u001b[0m\u001b[0msources\u001b[0m\u001b[1;33m,\u001b[0m\u001b[1;33m\u001b[0m\u001b[0m\n\u001b[0;32m    620\u001b[0m                       \u001b[0mversion\u001b[0m\u001b[1;33m=\u001b[0m\u001b[0mversion\u001b[0m\u001b[1;33m,\u001b[0m \u001b[0msupplemental_data\u001b[0m\u001b[1;33m=\u001b[0m\u001b[0msupplemental_data\u001b[0m\u001b[1;33m,\u001b[0m\u001b[1;33m\u001b[0m\u001b[0m\n\u001b[1;32m--> 621\u001b[1;33m                       **kwargs)\n\u001b[0m\u001b[0;32m    622\u001b[0m         \u001b[1;32mreturn\u001b[0m \u001b[0mstudy\u001b[0m\u001b[1;33m\u001b[0m\u001b[0m\n\u001b[0;32m    623\u001b[0m \u001b[1;33m\u001b[0m\u001b[0m\n",
      "\u001b[1;32m/home/obotvinnik/workspace-git/flotilla/flotilla/study.pyc\u001b[0m in \u001b[0;36m__init__\u001b[1;34m(self, sample_metadata, version, metadata_pooled_col, metadata_minimum_samples, metadata_phenotype_col, metadata_phenotype_order, metadata_phenotype_to_color, metadata_phenotype_to_marker, metadata_outlier_col, metadata_ignore_subset_cols, metadata_batch_cols, metadata_batch_min_samples, expression_data, expression_feature_data, expression_feature_rename_col, expression_feature_ignore_subset_cols, expression_log_base, expression_thresh, expression_plus_one, splicing_data, splicing_feature_data, splicing_feature_rename_col, splicing_feature_ignore_subset_cols, splicing_feature_expression_id_col, splicing_feature_shortener_col, mapping_stats_data, mapping_stats_number_mapped_col, mapping_stats_min_reads, drop_outliers, species, gene_ontology_data, predictor_config_manager, license, title, sources, default_sample_subset, default_feature_subset, supplemental_data)\u001b[0m\n\u001b[0;32m    366\u001b[0m                 \u001b[0mfeature_ignore_subset_cols\u001b[0m\u001b[1;33m=\u001b[0m\u001b[0msplicing_feature_ignore_subset_cols\u001b[0m\u001b[1;33m,\u001b[0m\u001b[1;33m\u001b[0m\u001b[0m\n\u001b[0;32m    367\u001b[0m                 \u001b[0mfeature_expression_id_col\u001b[0m\u001b[1;33m=\u001b[0m\u001b[0msplicing_feature_expression_id_col\u001b[0m\u001b[1;33m,\u001b[0m\u001b[1;33m\u001b[0m\u001b[0m\n\u001b[1;32m--> 368\u001b[1;33m                 feature_shortener_col=splicing_feature_shortener_col)\n\u001b[0m\u001b[0;32m    369\u001b[0m         \u001b[1;32melse\u001b[0m\u001b[1;33m:\u001b[0m\u001b[1;33m\u001b[0m\u001b[0m\n\u001b[0;32m    370\u001b[0m             \u001b[0mself\u001b[0m\u001b[1;33m.\u001b[0m\u001b[0msplicing\u001b[0m \u001b[1;33m=\u001b[0m \u001b[0mNone\u001b[0m\u001b[1;33m\u001b[0m\u001b[0m\n",
      "\u001b[1;31mTypeError\u001b[0m: __init__() got an unexpected keyword argument 'feature_shortener_col'"
     ]
    }
   ],
   "source": [
    "from collections import defaultdict\n",
    "\n",
    "import matplotlib as mpl\n",
    "import matplotlib.pyplot as plt\n",
    "import numpy as np\n",
    "import pandas as pd\n",
    "import seaborn as sns\n",
    "\n",
    "import six\n",
    "\n",
    "%matplotlib inline\n",
    "\n",
    "\n",
    "import flotilla\n",
    "sns.set(style='ticks', context='paper')\n",
    "\n",
    "folder = 'figures'\n",
    "\n",
    "flotilla_dir = '/projects/ps-yeolab/obotvinnik/flotilla_projects/'\n",
    "study = flotilla.embark('singlecell_pnm', flotilla_dir=flotilla_dir)"
   ]
  },
  {
   "cell_type": "code",
   "execution_count": null,
   "metadata": {
    "collapsed": false
   },
   "outputs": [],
   "source": [
    "study.splicing.minimum_samples"
   ]
  },
  {
   "cell_type": "code",
   "execution_count": null,
   "metadata": {
    "collapsed": false
   },
   "outputs": [],
   "source": [
    "mkdir $folder"
   ]
  },
  {
   "cell_type": "markdown",
   "metadata": {},
   "source": [
    "## Predict outliers of celltype using $k$-means outliers"
   ]
  },
  {
   "cell_type": "code",
   "execution_count": null,
   "metadata": {
    "collapsed": false
   },
   "outputs": [],
   "source": [
    "%%time\n",
    "from sklearn.cluster import KMeans\n",
    "\n",
    "#\n",
    "expression_singles = study.expression.singles.dropna(axis=0, how='all')\n",
    "\n",
    "# run k-means clustering\n",
    "km = KMeans(init='k-means++', n_clusters=3, n_init=1000, random_state=0)\n",
    "km.fit(expression_singles)\n"
   ]
  },
  {
   "cell_type": "markdown",
   "metadata": {},
   "source": [
    "### Determine group membership"
   ]
  },
  {
   "cell_type": "code",
   "execution_count": null,
   "metadata": {
    "collapsed": false
   },
   "outputs": [],
   "source": [
    "from collections import defaultdict\n",
    "\n",
    "# determine group membership\n",
    " \n",
    "km_membership = dict(zip(expression_singles.index, km.labels_))\n",
    " \n",
    "km_groups = defaultdict(list)\n",
    "for sample in km_membership:\n",
    "    km_groups[km_membership[sample]].append(study.sample_id_to_phenotype[sample])\n",
    "    \n",
    "# determine group outliers based on majority membership of cell type\n",
    "km_outliers = []\n",
    " \n",
    "km_colors = []\n",
    "group_to_color = {}\n",
    "for label in km_groups:\n",
    "    lst = km_groups[label]\n",
    "    most_common =  max(set(lst), key=lst.count)\n",
    "    for sample in km_membership:\n",
    "        sample_phenotype = study.sample_id_to_phenotype[sample]\n",
    "        if sample_phenotype != most_common and km_membership[sample] == label:\n",
    "            km_outliers.append(sample)\n",
    "\n",
    "for x in sorted(km_outliers):\n",
    "    six.print_(x)"
   ]
  },
  {
   "cell_type": "markdown",
   "metadata": {},
   "source": [
    "Remove the outliers"
   ]
  },
  {
   "cell_type": "code",
   "execution_count": null,
   "metadata": {
    "collapsed": false
   },
   "outputs": [],
   "source": [
    "study.metadata.data['outlier'] = study.metadata.data.index.isin(km_outliers)\n",
    "study.drop_outliers()\n",
    "\n",
    "flotilla_dir = '/projects/ps-yeolab/obotvinnik/flotilla_projects/'\n",
    "\n",
    "study.save('singlecell_pnm_figure1_post_kmeans_outliers', flotilla_dir)"
   ]
  },
  {
   "cell_type": "markdown",
   "metadata": {},
   "source": [
    "Visually look at the outliers on PCA"
   ]
  },
  {
   "cell_type": "code",
   "execution_count": null,
   "metadata": {
    "collapsed": false,
    "scrolled": false
   },
   "outputs": [],
   "source": [
    "with sns.axes_style('dark'):\n",
    "    viz = study.plot_pca(show_vectors=False, scale_by_variance=False, markersize=18)\n",
    "    xmin, xmax, ymin, ymax = viz.ax_components.axis()\n",
    "    vmin = min(xmin, ymin)\n",
    "    vmax = max(xmax, ymax)\n",
    "    viz.ax_components.set(xlim=(vmin, vmax), ylim=(vmin, vmax))\n",
    "    viz.fig_reduced.savefig('{}/expression_pca.pdf'.format(folder))"
   ]
  },
  {
   "cell_type": "code",
   "execution_count": null,
   "metadata": {
    "collapsed": true
   },
   "outputs": [],
   "source": []
  }
 ],
 "metadata": {
  "kernelspec": {
   "display_name": "Python 2",
   "language": "python",
   "name": "python2"
  },
  "language_info": {
   "codemirror_mode": {
    "name": "ipython",
    "version": 2
   },
   "file_extension": ".py",
   "mimetype": "text/x-python",
   "name": "python",
   "nbconvert_exporter": "python",
   "pygments_lexer": "ipython2",
   "version": "2.7.11"
  }
 },
 "nbformat": 4,
 "nbformat_minor": 0
}
