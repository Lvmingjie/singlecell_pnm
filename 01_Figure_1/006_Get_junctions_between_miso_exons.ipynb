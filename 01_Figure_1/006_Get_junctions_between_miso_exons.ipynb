{
 "cells": [
  {
   "cell_type": "code",
   "execution_count": 1,
   "metadata": {
    "collapsed": false
   },
   "outputs": [
    {
     "name": "stderr",
     "output_type": "stream",
     "text": [
      "/home/obotvinnik/anaconda/lib/python2.7/site-packages/sklearn/cross_validation.py:44: DeprecationWarning: This module was deprecated in version 0.18 in favor of the model_selection module into which all the refactored classes and functions are moved. Also note that the interface of the new CV iterators are different from that of this module. This module will be removed in 0.20.\n",
      "  \"This module will be removed in 0.20.\", DeprecationWarning)\n",
      "/home/obotvinnik/workspace-git/flotilla/flotilla/__init__.py:65: DtypeWarning: Columns (19) have mixed types. Specify dtype option on import or set low_memory=False.\n",
      "  load_species_data=load_species_data)\n"
     ]
    },
    {
     "name": "stdout",
     "output_type": "stream",
     "text": [
      "2016-12-19 12:08:21\tReading datapackage from /projects/ps-yeolab/obotvinnik/flotilla_projects/singlecell_pnm_figure1_supplementary_post_splicing_filtering/datapackage.json\n",
      "2016-12-19 12:08:21\tParsing datapackage to create a Study object\n",
      "https://s3-us-west-2.amazonaws.com/flotilla-projects/ercc/ERCC_Controls.txt has not been downloaded before.\n",
      "\tDownloading now to /home/obotvinnik/flotilla_projects/hg19/ERCC_Controls.txt\n",
      "2016-12-19 12:08:58 \tInitializing Study\n",
      "2016-12-19 12:08:58 \tInitializing Predictor configuration manager for Study\n",
      "2016-12-19 12:08:58\tPredictor ExtraTreesClassifier is of type <class 'sklearn.ensemble.forest.ExtraTreesClassifier'>\n",
      "2016-12-19 12:08:58\tAdded ExtraTreesClassifier to default predictors\n",
      "2016-12-19 12:08:58\tPredictor ExtraTreesRegressor is of type <class 'sklearn.ensemble.forest.ExtraTreesRegressor'>\n",
      "2016-12-19 12:08:58\tAdded ExtraTreesRegressor to default predictors\n",
      "2016-12-19 12:08:58\tPredictor GradientBoostingClassifier is of type <class 'sklearn.ensemble.gradient_boosting.GradientBoostingClassifier'>\n",
      "2016-12-19 12:08:58\tAdded GradientBoostingClassifier to default predictors\n",
      "2016-12-19 12:08:58\tPredictor GradientBoostingRegressor is of type <class 'sklearn.ensemble.gradient_boosting.GradientBoostingRegressor'>\n",
      "2016-12-19 12:08:58\tAdded GradientBoostingRegressor to default predictors\n",
      "2016-12-19 12:09:04 \tBuilding Gene Ontology database...\n",
      "2016-12-19 12:09:15 \t\tDone\n",
      "2016-12-19 12:09:16 \tLoading metadata\n",
      "2016-12-19 12:09:16\tLoading expression data\n",
      "2016-12-19 12:09:16\tInitializing expression\n",
      "2016-12-19 12:09:16\tDone initializing expression\n",
      "2016-12-19 12:09:20\tLoading splicing data\n",
      "2016-12-19 12:09:20\tInitializing splicing\n",
      "2016-12-19 12:09:20\tDone initializing splicing\n",
      "2016-12-19 12:09:20\tSuccessfully initialized a Study object!\n"
     ]
    },
    {
     "name": "stderr",
     "output_type": "stream",
     "text": [
      "Error loading species hg19 data: HTTP Error 404: Not Found"
     ]
    }
   ],
   "source": [
    "from collections import defaultdict\n",
    "\n",
    "import matplotlib as mpl\n",
    "import matplotlib.pyplot as plt\n",
    "import numpy as np\n",
    "import pandas as pd\n",
    "import seaborn as sns\n",
    "\n",
    "%matplotlib inline\n",
    "\n",
    "\n",
    "import flotilla\n",
    "sns.set(style='ticks', context='talk')\n",
    "\n",
    "folder = 'figures'\n",
    "\n",
    "flotilla_dir = '/projects/ps-yeolab/obotvinnik/flotilla_projects/'\n",
    "\n",
    "study = flotilla.embark('singlecell_pnm_figure1_supplementary_post_splicing_filtering', flotilla_dir=flotilla_dir)"
   ]
  },
  {
   "cell_type": "code",
   "execution_count": 34,
   "metadata": {
    "collapsed": true
   },
   "outputs": [],
   "source": [
    "figure_folder = 'figures/004_Comparison_to_miso'\n",
    "! mkdir -p $figure_folder"
   ]
  },
  {
   "cell_type": "code",
   "execution_count": 3,
   "metadata": {
    "collapsed": false
   },
   "outputs": [],
   "source": [
    "from __future__ import print_function"
   ]
  },
  {
   "cell_type": "code",
   "execution_count": 4,
   "metadata": {
    "collapsed": false
   },
   "outputs": [
    {
     "data": {
      "text/plain": [
       "Index([u'exon:chr15:72499069-72499221:-@exon:chr15:72494795-72494961:-@exon:chr15:72492849-72492996:-',\n",
       "       u'exon:chr15:72499069-72499221:-@exon:chr15:72495363-72495529:-@exon:chr15:72492815-72492996:-',\n",
       "       u'exon:chr15:72523457-72523547:-@exon:chr15:72513509-72513625:-@exon:chr15:72511285-72511451:-',\n",
       "       u'exon:chr15:72499069-72499221:-@exon:chr15:72495363-72495529:-@exon:chr15:72494795-72494961:-@exon:chr15:72492815-72492996:-'],\n",
       "      dtype='object')"
      ]
     },
     "execution_count": 4,
     "metadata": {},
     "output_type": "execute_result"
    }
   ],
   "source": [
    "study.splicing.maybe_renamed_to_feature_id(\"PKM\")"
   ]
  },
  {
   "cell_type": "code",
   "execution_count": 6,
   "metadata": {
    "collapsed": false
   },
   "outputs": [],
   "source": [
    "# miso_psi_filename = '/projects/ps-yeolab/obotvinnik/flotilla_projects/singlecell_pnms/splicing.csv.gz'\n",
    "# miso_psi = pd.read_csv(miso_psi_filename, index_col=0, compression='gzip')\n",
    "# print(miso_psi.shape)\n",
    "# miso_psi.head()"
   ]
  },
  {
   "cell_type": "code",
   "execution_count": null,
   "metadata": {
    "collapsed": false
   },
   "outputs": [],
   "source": [
    "# miso_psi_tidy = miso_psi.unstack().reset_index()\n",
    "# miso_psi_tidy = miso_psi_tidy.rename(columns={'level_0':'miso_id', 'level_1':'sample_id', 0:'miso_psi'})\n",
    "# print(miso_psi_tidy.shape)\n",
    "# miso_psi_tidy = miso_psi_tidy.dropna()\n",
    "# print(miso_psi_tidy.shape)\n",
    "# miso_psi_tidy.head()"
   ]
  },
  {
   "cell_type": "code",
   "execution_count": null,
   "metadata": {
    "collapsed": false
   },
   "outputs": [],
   "source": [
    "# miso_psi_tidy['n_exons'] = miso_psi_tidy['miso_id'].map(lambda x: len(x.split('@')))\n",
    "# miso_psi_tidy.head()"
   ]
  },
  {
   "cell_type": "markdown",
   "metadata": {},
   "source": [
    "Use only SE and MXE events"
   ]
  },
  {
   "cell_type": "code",
   "execution_count": null,
   "metadata": {
    "collapsed": false
   },
   "outputs": [],
   "source": [
    "# miso_psi_tidy = miso_psi_tidy.loc[miso_psi_tidy['n_exons'] >= 3]\n",
    "# miso_psi_tidy.shape"
   ]
  },
  {
   "cell_type": "markdown",
   "metadata": {},
   "source": [
    "### Get junctions of MISO events"
   ]
  },
  {
   "cell_type": "code",
   "execution_count": 7,
   "metadata": {
    "collapsed": false
   },
   "outputs": [],
   "source": [
    "# junction_reads = pd.read_csv('/projects/ps-yeolab/obotvinnik/singlecell_pnms/csvs_for_paper/junction_reads_use_multimapping.csv')\n",
    "# print(junction_reads.shape)\n",
    "# junction_reads.head()"
   ]
  },
  {
   "cell_type": "code",
   "execution_count": 8,
   "metadata": {
    "collapsed": false
   },
   "outputs": [
    {
     "name": "stdout",
     "output_type": "stream",
     "text": [
      "(39292, 4)\n"
     ]
    },
    {
     "data": {
      "text/html": [
       "<div>\n",
       "<table border=\"1\" class=\"dataframe\">\n",
       "  <thead>\n",
       "    <tr style=\"text-align: right;\">\n",
       "      <th></th>\n",
       "      <th>exon_1</th>\n",
       "      <th>exon_2</th>\n",
       "      <th>exon_3</th>\n",
       "      <th>exon_4</th>\n",
       "    </tr>\n",
       "    <tr>\n",
       "      <th>miso_id</th>\n",
       "      <th></th>\n",
       "      <th></th>\n",
       "      <th></th>\n",
       "      <th></th>\n",
       "    </tr>\n",
       "  </thead>\n",
       "  <tbody>\n",
       "    <tr>\n",
       "      <th>chr10:100148111:100148265:-@chr10:100147622:100147841:-@chr10:100146958:100147064:-</th>\n",
       "      <td>exon:chr10:100148111-100148265:-</td>\n",
       "      <td>exon:chr10:100147622-100147841:-</td>\n",
       "      <td>exon:chr10:100146958-100147064:-</td>\n",
       "      <td>NaN</td>\n",
       "    </tr>\n",
       "    <tr>\n",
       "      <th>chr10:100150355:100150511:-@chr10:100148111:100148265:-@chr10:100146958:100147064:-</th>\n",
       "      <td>exon:chr10:100150355-100150511:-</td>\n",
       "      <td>exon:chr10:100148111-100148265:-</td>\n",
       "      <td>exon:chr10:100146958-100147064:-</td>\n",
       "      <td>NaN</td>\n",
       "    </tr>\n",
       "    <tr>\n",
       "      <th>chr10:100174766:100174978:-@chr10:100174489:100174591:-@chr10:100173705:100174052:-</th>\n",
       "      <td>exon:chr10:100174766-100174978:-</td>\n",
       "      <td>exon:chr10:100174489-100174591:-</td>\n",
       "      <td>exon:chr10:100173705-100174052:-</td>\n",
       "      <td>NaN</td>\n",
       "    </tr>\n",
       "    <tr>\n",
       "      <th>chr10:100186972:100187021:-@chr10:100185575:100185742:-@chr10:100185298:100185477:-</th>\n",
       "      <td>exon:chr10:100186972-100187021:-</td>\n",
       "      <td>exon:chr10:100185575-100185742:-</td>\n",
       "      <td>exon:chr10:100185298-100185477:-</td>\n",
       "      <td>NaN</td>\n",
       "    </tr>\n",
       "    <tr>\n",
       "      <th>chr10:100190328:100190427:-@chr10:100189548:100189646:-@chr10:100189330:100189399:-</th>\n",
       "      <td>exon:chr10:100190328-100190427:-</td>\n",
       "      <td>exon:chr10:100189548-100189646:-</td>\n",
       "      <td>exon:chr10:100189330-100189399:-</td>\n",
       "      <td>NaN</td>\n",
       "    </tr>\n",
       "  </tbody>\n",
       "</table>\n",
       "</div>"
      ],
      "text/plain": [
       "                                                                              exon_1  \\\n",
       "miso_id                                                                                \n",
       "chr10:100148111:100148265:-@chr10:100147622:100...  exon:chr10:100148111-100148265:-   \n",
       "chr10:100150355:100150511:-@chr10:100148111:100...  exon:chr10:100150355-100150511:-   \n",
       "chr10:100174766:100174978:-@chr10:100174489:100...  exon:chr10:100174766-100174978:-   \n",
       "chr10:100186972:100187021:-@chr10:100185575:100...  exon:chr10:100186972-100187021:-   \n",
       "chr10:100190328:100190427:-@chr10:100189548:100...  exon:chr10:100190328-100190427:-   \n",
       "\n",
       "                                                                              exon_2  \\\n",
       "miso_id                                                                                \n",
       "chr10:100148111:100148265:-@chr10:100147622:100...  exon:chr10:100147622-100147841:-   \n",
       "chr10:100150355:100150511:-@chr10:100148111:100...  exon:chr10:100148111-100148265:-   \n",
       "chr10:100174766:100174978:-@chr10:100174489:100...  exon:chr10:100174489-100174591:-   \n",
       "chr10:100186972:100187021:-@chr10:100185575:100...  exon:chr10:100185575-100185742:-   \n",
       "chr10:100190328:100190427:-@chr10:100189548:100...  exon:chr10:100189548-100189646:-   \n",
       "\n",
       "                                                                              exon_3  \\\n",
       "miso_id                                                                                \n",
       "chr10:100148111:100148265:-@chr10:100147622:100...  exon:chr10:100146958-100147064:-   \n",
       "chr10:100150355:100150511:-@chr10:100148111:100...  exon:chr10:100146958-100147064:-   \n",
       "chr10:100174766:100174978:-@chr10:100174489:100...  exon:chr10:100173705-100174052:-   \n",
       "chr10:100186972:100187021:-@chr10:100185575:100...  exon:chr10:100185298-100185477:-   \n",
       "chr10:100190328:100190427:-@chr10:100189548:100...  exon:chr10:100189330-100189399:-   \n",
       "\n",
       "                                                   exon_4  \n",
       "miso_id                                                    \n",
       "chr10:100148111:100148265:-@chr10:100147622:100...    NaN  \n",
       "chr10:100150355:100150511:-@chr10:100148111:100...    NaN  \n",
       "chr10:100174766:100174978:-@chr10:100174489:100...    NaN  \n",
       "chr10:100186972:100187021:-@chr10:100185575:100...    NaN  \n",
       "chr10:100190328:100190427:-@chr10:100189548:100...    NaN  "
      ]
     },
     "execution_count": 8,
     "metadata": {},
     "output_type": "execute_result"
    }
   ],
   "source": [
    "miso_exons_names = pd.read_csv('/projects/ps-yeolab/obotvinnik/singlecell_pnms/csvs_for_paper/miso_exons_names.csv', index_col=0)\n",
    "print(miso_exons_names.shape)\n",
    "miso_exons_names.head()"
   ]
  },
  {
   "cell_type": "code",
   "execution_count": 10,
   "metadata": {
    "collapsed": false
   },
   "outputs": [],
   "source": [
    "from outrigger.region import Region"
   ]
  },
  {
   "cell_type": "code",
   "execution_count": 11,
   "metadata": {
    "collapsed": false
   },
   "outputs": [
    {
     "name": "stdout",
     "output_type": "stream",
     "text": [
      "(39292, 4)\n",
      "CPU times: user 1.24 s, sys: 11 ms, total: 1.25 s\n",
      "Wall time: 1.25 s\n"
     ]
    }
   ],
   "source": [
    "%%time\n",
    "miso_exons = miso_exons_names.applymap(lambda x: Region(x) if not isinstance(x, float) else x)\n",
    "print(miso_exons.shape)\n",
    "# miso_exons.head()"
   ]
  },
  {
   "cell_type": "code",
   "execution_count": 12,
   "metadata": {
    "collapsed": false
   },
   "outputs": [
    {
     "name": "stdout",
     "output_type": "stream",
     "text": [
      "(39292, 4)\n"
     ]
    },
    {
     "data": {
      "text/html": [
       "<div>\n",
       "<table border=\"1\" class=\"dataframe\">\n",
       "  <thead>\n",
       "    <tr style=\"text-align: right;\">\n",
       "      <th></th>\n",
       "      <th>exon_1</th>\n",
       "      <th>exon_2</th>\n",
       "      <th>exon_3</th>\n",
       "      <th>exon_4</th>\n",
       "    </tr>\n",
       "    <tr>\n",
       "      <th>miso_id</th>\n",
       "      <th></th>\n",
       "      <th></th>\n",
       "      <th></th>\n",
       "      <th></th>\n",
       "    </tr>\n",
       "  </thead>\n",
       "  <tbody>\n",
       "    <tr>\n",
       "      <th>chr10:100148111:100148265:-@chr10:100147622:100147841:-@chr10:100146958:100147064:-</th>\n",
       "      <td>outrigger.Region (exon:chr10:100148111-1001482...</td>\n",
       "      <td>outrigger.Region (exon:chr10:100147622-1001478...</td>\n",
       "      <td>outrigger.Region (exon:chr10:100146958-1001470...</td>\n",
       "      <td>NaN</td>\n",
       "    </tr>\n",
       "    <tr>\n",
       "      <th>chr10:100150355:100150511:-@chr10:100148111:100148265:-@chr10:100146958:100147064:-</th>\n",
       "      <td>outrigger.Region (exon:chr10:100150355-1001505...</td>\n",
       "      <td>outrigger.Region (exon:chr10:100148111-1001482...</td>\n",
       "      <td>outrigger.Region (exon:chr10:100146958-1001470...</td>\n",
       "      <td>NaN</td>\n",
       "    </tr>\n",
       "    <tr>\n",
       "      <th>chr10:100174766:100174978:-@chr10:100174489:100174591:-@chr10:100173705:100174052:-</th>\n",
       "      <td>outrigger.Region (exon:chr10:100174766-1001749...</td>\n",
       "      <td>outrigger.Region (exon:chr10:100174489-1001745...</td>\n",
       "      <td>outrigger.Region (exon:chr10:100173705-1001740...</td>\n",
       "      <td>NaN</td>\n",
       "    </tr>\n",
       "    <tr>\n",
       "      <th>chr10:100186972:100187021:-@chr10:100185575:100185742:-@chr10:100185298:100185477:-</th>\n",
       "      <td>outrigger.Region (exon:chr10:100186972-1001870...</td>\n",
       "      <td>outrigger.Region (exon:chr10:100185575-1001857...</td>\n",
       "      <td>outrigger.Region (exon:chr10:100185298-1001854...</td>\n",
       "      <td>NaN</td>\n",
       "    </tr>\n",
       "    <tr>\n",
       "      <th>chr10:100190328:100190427:-@chr10:100189548:100189646:-@chr10:100189330:100189399:-</th>\n",
       "      <td>outrigger.Region (exon:chr10:100190328-1001904...</td>\n",
       "      <td>outrigger.Region (exon:chr10:100189548-1001896...</td>\n",
       "      <td>outrigger.Region (exon:chr10:100189330-1001893...</td>\n",
       "      <td>NaN</td>\n",
       "    </tr>\n",
       "  </tbody>\n",
       "</table>\n",
       "</div>"
      ],
      "text/plain": [
       "                                                                                               exon_1  \\\n",
       "miso_id                                                                                                 \n",
       "chr10:100148111:100148265:-@chr10:100147622:100...  outrigger.Region (exon:chr10:100148111-1001482...   \n",
       "chr10:100150355:100150511:-@chr10:100148111:100...  outrigger.Region (exon:chr10:100150355-1001505...   \n",
       "chr10:100174766:100174978:-@chr10:100174489:100...  outrigger.Region (exon:chr10:100174766-1001749...   \n",
       "chr10:100186972:100187021:-@chr10:100185575:100...  outrigger.Region (exon:chr10:100186972-1001870...   \n",
       "chr10:100190328:100190427:-@chr10:100189548:100...  outrigger.Region (exon:chr10:100190328-1001904...   \n",
       "\n",
       "                                                                                               exon_2  \\\n",
       "miso_id                                                                                                 \n",
       "chr10:100148111:100148265:-@chr10:100147622:100...  outrigger.Region (exon:chr10:100147622-1001478...   \n",
       "chr10:100150355:100150511:-@chr10:100148111:100...  outrigger.Region (exon:chr10:100148111-1001482...   \n",
       "chr10:100174766:100174978:-@chr10:100174489:100...  outrigger.Region (exon:chr10:100174489-1001745...   \n",
       "chr10:100186972:100187021:-@chr10:100185575:100...  outrigger.Region (exon:chr10:100185575-1001857...   \n",
       "chr10:100190328:100190427:-@chr10:100189548:100...  outrigger.Region (exon:chr10:100189548-1001896...   \n",
       "\n",
       "                                                                                               exon_3  \\\n",
       "miso_id                                                                                                 \n",
       "chr10:100148111:100148265:-@chr10:100147622:100...  outrigger.Region (exon:chr10:100146958-1001470...   \n",
       "chr10:100150355:100150511:-@chr10:100148111:100...  outrigger.Region (exon:chr10:100146958-1001470...   \n",
       "chr10:100174766:100174978:-@chr10:100174489:100...  outrigger.Region (exon:chr10:100173705-1001740...   \n",
       "chr10:100186972:100187021:-@chr10:100185575:100...  outrigger.Region (exon:chr10:100185298-1001854...   \n",
       "chr10:100190328:100190427:-@chr10:100189548:100...  outrigger.Region (exon:chr10:100189330-1001893...   \n",
       "\n",
       "                                                   exon_4  \n",
       "miso_id                                                    \n",
       "chr10:100148111:100148265:-@chr10:100147622:100...    NaN  \n",
       "chr10:100150355:100150511:-@chr10:100148111:100...    NaN  \n",
       "chr10:100174766:100174978:-@chr10:100174489:100...    NaN  \n",
       "chr10:100186972:100187021:-@chr10:100185575:100...    NaN  \n",
       "chr10:100190328:100190427:-@chr10:100189548:100...    NaN  "
      ]
     },
     "execution_count": 12,
     "metadata": {},
     "output_type": "execute_result"
    }
   ],
   "source": [
    "print(miso_exons.shape)\n",
    "miso_exons.head()"
   ]
  },
  {
   "cell_type": "code",
   "execution_count": 13,
   "metadata": {
    "collapsed": false
   },
   "outputs": [
    {
     "name": "stdout",
     "output_type": "stream",
     "text": [
      "Automatic pdb calling has been turned ON\n"
     ]
    }
   ],
   "source": [
    "%pdb"
   ]
  },
  {
   "cell_type": "code",
   "execution_count": 38,
   "metadata": {
    "collapsed": false
   },
   "outputs": [
    {
     "name": "stdout",
     "output_type": "stream",
     "text": [
      "CPU times: user 93 ms, sys: 5 ms, total: 98 ms\n",
      "Wall time: 93.9 ms\n",
      "(100, 6)\n"
     ]
    },
    {
     "data": {
      "text/html": [
       "<div>\n",
       "<table border=\"1\" class=\"dataframe\">\n",
       "  <thead>\n",
       "    <tr style=\"text-align: right;\">\n",
       "      <th></th>\n",
       "      <th>junction_12</th>\n",
       "      <th>junction_13</th>\n",
       "      <th>junction_14</th>\n",
       "      <th>junction_23</th>\n",
       "      <th>junction_24</th>\n",
       "      <th>junction_34</th>\n",
       "    </tr>\n",
       "    <tr>\n",
       "      <th>miso_id</th>\n",
       "      <th></th>\n",
       "      <th></th>\n",
       "      <th></th>\n",
       "      <th></th>\n",
       "      <th></th>\n",
       "      <th></th>\n",
       "    </tr>\n",
       "  </thead>\n",
       "  <tbody>\n",
       "    <tr>\n",
       "      <th>chrY:15467803:15467898:-@chrY:15467518:15467583:-@chrY:15467255:15467408:-</th>\n",
       "      <td>outrigger.Region (junction:chrY:15467584-15467...</td>\n",
       "      <td>outrigger.Region (junction:chrY:15467409-15467...</td>\n",
       "      <td>NaN</td>\n",
       "      <td>outrigger.Region (junction:chrY:15467409-15467...</td>\n",
       "      <td>NaN</td>\n",
       "      <td>NaN</td>\n",
       "    </tr>\n",
       "    <tr>\n",
       "      <th>chrY:15470344:15470499:-@chrY:15470191:15470258:-@chrY:15469757:15469849:-</th>\n",
       "      <td>outrigger.Region (junction:chrY:15470259-15470...</td>\n",
       "      <td>outrigger.Region (junction:chrY:15469850-15470...</td>\n",
       "      <td>NaN</td>\n",
       "      <td>outrigger.Region (junction:chrY:15469850-15470...</td>\n",
       "      <td>NaN</td>\n",
       "      <td>NaN</td>\n",
       "    </tr>\n",
       "    <tr>\n",
       "      <th>chrY:15470968:15471102:-@chrY:15470191:15470401:-@chrY:15469757:15469849:-</th>\n",
       "      <td>outrigger.Region (junction:chrY:15470402-15470...</td>\n",
       "      <td>outrigger.Region (junction:chrY:15469850-15470...</td>\n",
       "      <td>NaN</td>\n",
       "      <td>outrigger.Region (junction:chrY:15469850-15470...</td>\n",
       "      <td>NaN</td>\n",
       "      <td>NaN</td>\n",
       "    </tr>\n",
       "    <tr>\n",
       "      <th>chrY:15470968:15471102:-@chrY:15470344:15470401:-@chrY:15469757:15469849:-</th>\n",
       "      <td>outrigger.Region (junction:chrY:15470402-15470...</td>\n",
       "      <td>outrigger.Region (junction:chrY:15469850-15470...</td>\n",
       "      <td>NaN</td>\n",
       "      <td>outrigger.Region (junction:chrY:15469850-15470...</td>\n",
       "      <td>NaN</td>\n",
       "      <td>NaN</td>\n",
       "    </tr>\n",
       "    <tr>\n",
       "      <th>chrY:15470968:15471102:-@chrY:15470344:15470433:-@chrY:15469757:15469849:-</th>\n",
       "      <td>outrigger.Region (junction:chrY:15470434-15470...</td>\n",
       "      <td>outrigger.Region (junction:chrY:15469850-15470...</td>\n",
       "      <td>NaN</td>\n",
       "      <td>outrigger.Region (junction:chrY:15469850-15470...</td>\n",
       "      <td>NaN</td>\n",
       "      <td>NaN</td>\n",
       "    </tr>\n",
       "  </tbody>\n",
       "</table>\n",
       "</div>"
      ],
      "text/plain": [
       "                                                                                          junction_12  \\\n",
       "miso_id                                                                                                 \n",
       "chrY:15467803:15467898:-@chrY:15467518:15467583...  outrigger.Region (junction:chrY:15467584-15467...   \n",
       "chrY:15470344:15470499:-@chrY:15470191:15470258...  outrigger.Region (junction:chrY:15470259-15470...   \n",
       "chrY:15470968:15471102:-@chrY:15470191:15470401...  outrigger.Region (junction:chrY:15470402-15470...   \n",
       "chrY:15470968:15471102:-@chrY:15470344:15470401...  outrigger.Region (junction:chrY:15470402-15470...   \n",
       "chrY:15470968:15471102:-@chrY:15470344:15470433...  outrigger.Region (junction:chrY:15470434-15470...   \n",
       "\n",
       "                                                                                          junction_13  \\\n",
       "miso_id                                                                                                 \n",
       "chrY:15467803:15467898:-@chrY:15467518:15467583...  outrigger.Region (junction:chrY:15467409-15467...   \n",
       "chrY:15470344:15470499:-@chrY:15470191:15470258...  outrigger.Region (junction:chrY:15469850-15470...   \n",
       "chrY:15470968:15471102:-@chrY:15470191:15470401...  outrigger.Region (junction:chrY:15469850-15470...   \n",
       "chrY:15470968:15471102:-@chrY:15470344:15470401...  outrigger.Region (junction:chrY:15469850-15470...   \n",
       "chrY:15470968:15471102:-@chrY:15470344:15470433...  outrigger.Region (junction:chrY:15469850-15470...   \n",
       "\n",
       "                                                   junction_14  \\\n",
       "miso_id                                                          \n",
       "chrY:15467803:15467898:-@chrY:15467518:15467583...         NaN   \n",
       "chrY:15470344:15470499:-@chrY:15470191:15470258...         NaN   \n",
       "chrY:15470968:15471102:-@chrY:15470191:15470401...         NaN   \n",
       "chrY:15470968:15471102:-@chrY:15470344:15470401...         NaN   \n",
       "chrY:15470968:15471102:-@chrY:15470344:15470433...         NaN   \n",
       "\n",
       "                                                                                          junction_23  \\\n",
       "miso_id                                                                                                 \n",
       "chrY:15467803:15467898:-@chrY:15467518:15467583...  outrigger.Region (junction:chrY:15467409-15467...   \n",
       "chrY:15470344:15470499:-@chrY:15470191:15470258...  outrigger.Region (junction:chrY:15469850-15470...   \n",
       "chrY:15470968:15471102:-@chrY:15470191:15470401...  outrigger.Region (junction:chrY:15469850-15470...   \n",
       "chrY:15470968:15471102:-@chrY:15470344:15470401...  outrigger.Region (junction:chrY:15469850-15470...   \n",
       "chrY:15470968:15471102:-@chrY:15470344:15470433...  outrigger.Region (junction:chrY:15469850-15470...   \n",
       "\n",
       "                                                   junction_24 junction_34  \n",
       "miso_id                                                                     \n",
       "chrY:15467803:15467898:-@chrY:15467518:15467583...         NaN         NaN  \n",
       "chrY:15470344:15470499:-@chrY:15470191:15470258...         NaN         NaN  \n",
       "chrY:15470968:15471102:-@chrY:15470191:15470401...         NaN         NaN  \n",
       "chrY:15470968:15471102:-@chrY:15470344:15470401...         NaN         NaN  \n",
       "chrY:15470968:15471102:-@chrY:15470344:15470433...         NaN         NaN  "
      ]
     },
     "execution_count": 38,
     "metadata": {},
     "output_type": "execute_result"
    }
   ],
   "source": [
    "import itertools\n",
    "\n",
    "FIRST_EXON = ['exon_1']\n",
    "\n",
    "SE_MIDDLE_EXON = ['exon_2']\n",
    "SE_LAST_EXON = ['exon_3']\n",
    "SE_NOT_FIRST_EXONS = SE_MIDDLE_EXON + SE_LAST_EXON\n",
    "\n",
    "MXE_MIDDLE_EXONS = ['exon_2', 'exon_3']\n",
    "MXE_LAST_EXON = ['exon_4']\n",
    "\n",
    "def make_junction_regions(exons):\n",
    "    chrom = exons.iloc[0].chrom\n",
    "    strand = exons.iloc[0].strand\n",
    "    junctions = {}\n",
    "\n",
    "    iterator = itertools.chain(itertools.combinations(exons.iteritems(), 2))\n",
    "    \n",
    "    for ((exon_i, exon_i_region), (exon_j, exon_j_region)) in iterator:\n",
    "        i = exon_i.split('_')[-1]\n",
    "        j = exon_j.split('_')[-1]\n",
    "        name = 'junction_{i}{j}'.format(i=i, j=j)\n",
    "        try:            \n",
    "            if strand == '+':\n",
    "                start = exon_i_region.stop + 1\n",
    "                stop = exon_j_region.start - 1\n",
    "            else:\n",
    "                start = exon_j_region.stop + 1\n",
    "                stop = exon_i_region.start - 1\n",
    "        except AttributeError:\n",
    "            # Got to NA exon\n",
    "            continue\n",
    "\n",
    "        location = 'junction:{chrom}:{start}-{stop}:{strand}'.format(chrom=chrom, start=start, stop=stop, strand=strand)\n",
    "\n",
    "        try:\n",
    "            junction = Region(location)\n",
    "        except ValueError:\n",
    "            junction = 'Invalid'\n",
    "        junctions[name] = junction\n",
    "\n",
    "    return pd.Series(junctions)\n",
    "\n",
    "\n",
    "%time miso_junction_regions = miso_exons.tail(100).apply(make_junction_regions, axis=1)\n",
    "print(miso_junction_regions.shape)\n",
    "miso_junction_regions.head()"
   ]
  },
  {
   "cell_type": "code",
   "execution_count": 39,
   "metadata": {
    "collapsed": false
   },
   "outputs": [
    {
     "name": "stdout",
     "output_type": "stream",
     "text": [
      "CPU times: user 36.4 s, sys: 156 ms, total: 36.6 s\n",
      "Wall time: 36.6 s\n",
      "(39292, 6)\n"
     ]
    },
    {
     "data": {
      "text/html": [
       "<div>\n",
       "<table border=\"1\" class=\"dataframe\">\n",
       "  <thead>\n",
       "    <tr style=\"text-align: right;\">\n",
       "      <th></th>\n",
       "      <th>junction_12</th>\n",
       "      <th>junction_13</th>\n",
       "      <th>junction_14</th>\n",
       "      <th>junction_23</th>\n",
       "      <th>junction_24</th>\n",
       "      <th>junction_34</th>\n",
       "    </tr>\n",
       "    <tr>\n",
       "      <th>miso_id</th>\n",
       "      <th></th>\n",
       "      <th></th>\n",
       "      <th></th>\n",
       "      <th></th>\n",
       "      <th></th>\n",
       "      <th></th>\n",
       "    </tr>\n",
       "  </thead>\n",
       "  <tbody>\n",
       "    <tr>\n",
       "      <th>chr10:100148111:100148265:-@chr10:100147622:100147841:-@chr10:100146958:100147064:-</th>\n",
       "      <td>outrigger.Region (junction:chr10:100147842-100...</td>\n",
       "      <td>outrigger.Region (junction:chr10:100147065-100...</td>\n",
       "      <td>NaN</td>\n",
       "      <td>outrigger.Region (junction:chr10:100147065-100...</td>\n",
       "      <td>NaN</td>\n",
       "      <td>NaN</td>\n",
       "    </tr>\n",
       "    <tr>\n",
       "      <th>chr10:100150355:100150511:-@chr10:100148111:100148265:-@chr10:100146958:100147064:-</th>\n",
       "      <td>outrigger.Region (junction:chr10:100148266-100...</td>\n",
       "      <td>outrigger.Region (junction:chr10:100147065-100...</td>\n",
       "      <td>NaN</td>\n",
       "      <td>outrigger.Region (junction:chr10:100147065-100...</td>\n",
       "      <td>NaN</td>\n",
       "      <td>NaN</td>\n",
       "    </tr>\n",
       "    <tr>\n",
       "      <th>chr10:100174766:100174978:-@chr10:100174489:100174591:-@chr10:100173705:100174052:-</th>\n",
       "      <td>outrigger.Region (junction:chr10:100174592-100...</td>\n",
       "      <td>outrigger.Region (junction:chr10:100174053-100...</td>\n",
       "      <td>NaN</td>\n",
       "      <td>outrigger.Region (junction:chr10:100174053-100...</td>\n",
       "      <td>NaN</td>\n",
       "      <td>NaN</td>\n",
       "    </tr>\n",
       "    <tr>\n",
       "      <th>chr10:100186972:100187021:-@chr10:100185575:100185742:-@chr10:100185298:100185477:-</th>\n",
       "      <td>outrigger.Region (junction:chr10:100185743-100...</td>\n",
       "      <td>outrigger.Region (junction:chr10:100185478-100...</td>\n",
       "      <td>NaN</td>\n",
       "      <td>outrigger.Region (junction:chr10:100185478-100...</td>\n",
       "      <td>NaN</td>\n",
       "      <td>NaN</td>\n",
       "    </tr>\n",
       "    <tr>\n",
       "      <th>chr10:100190328:100190427:-@chr10:100189548:100189646:-@chr10:100189330:100189399:-</th>\n",
       "      <td>outrigger.Region (junction:chr10:100189647-100...</td>\n",
       "      <td>outrigger.Region (junction:chr10:100189400-100...</td>\n",
       "      <td>NaN</td>\n",
       "      <td>outrigger.Region (junction:chr10:100189400-100...</td>\n",
       "      <td>NaN</td>\n",
       "      <td>NaN</td>\n",
       "    </tr>\n",
       "  </tbody>\n",
       "</table>\n",
       "</div>"
      ],
      "text/plain": [
       "                                                                                          junction_12  \\\n",
       "miso_id                                                                                                 \n",
       "chr10:100148111:100148265:-@chr10:100147622:100...  outrigger.Region (junction:chr10:100147842-100...   \n",
       "chr10:100150355:100150511:-@chr10:100148111:100...  outrigger.Region (junction:chr10:100148266-100...   \n",
       "chr10:100174766:100174978:-@chr10:100174489:100...  outrigger.Region (junction:chr10:100174592-100...   \n",
       "chr10:100186972:100187021:-@chr10:100185575:100...  outrigger.Region (junction:chr10:100185743-100...   \n",
       "chr10:100190328:100190427:-@chr10:100189548:100...  outrigger.Region (junction:chr10:100189647-100...   \n",
       "\n",
       "                                                                                          junction_13  \\\n",
       "miso_id                                                                                                 \n",
       "chr10:100148111:100148265:-@chr10:100147622:100...  outrigger.Region (junction:chr10:100147065-100...   \n",
       "chr10:100150355:100150511:-@chr10:100148111:100...  outrigger.Region (junction:chr10:100147065-100...   \n",
       "chr10:100174766:100174978:-@chr10:100174489:100...  outrigger.Region (junction:chr10:100174053-100...   \n",
       "chr10:100186972:100187021:-@chr10:100185575:100...  outrigger.Region (junction:chr10:100185478-100...   \n",
       "chr10:100190328:100190427:-@chr10:100189548:100...  outrigger.Region (junction:chr10:100189400-100...   \n",
       "\n",
       "                                                   junction_14  \\\n",
       "miso_id                                                          \n",
       "chr10:100148111:100148265:-@chr10:100147622:100...         NaN   \n",
       "chr10:100150355:100150511:-@chr10:100148111:100...         NaN   \n",
       "chr10:100174766:100174978:-@chr10:100174489:100...         NaN   \n",
       "chr10:100186972:100187021:-@chr10:100185575:100...         NaN   \n",
       "chr10:100190328:100190427:-@chr10:100189548:100...         NaN   \n",
       "\n",
       "                                                                                          junction_23  \\\n",
       "miso_id                                                                                                 \n",
       "chr10:100148111:100148265:-@chr10:100147622:100...  outrigger.Region (junction:chr10:100147065-100...   \n",
       "chr10:100150355:100150511:-@chr10:100148111:100...  outrigger.Region (junction:chr10:100147065-100...   \n",
       "chr10:100174766:100174978:-@chr10:100174489:100...  outrigger.Region (junction:chr10:100174053-100...   \n",
       "chr10:100186972:100187021:-@chr10:100185575:100...  outrigger.Region (junction:chr10:100185478-100...   \n",
       "chr10:100190328:100190427:-@chr10:100189548:100...  outrigger.Region (junction:chr10:100189400-100...   \n",
       "\n",
       "                                                   junction_24 junction_34  \n",
       "miso_id                                                                     \n",
       "chr10:100148111:100148265:-@chr10:100147622:100...         NaN         NaN  \n",
       "chr10:100150355:100150511:-@chr10:100148111:100...         NaN         NaN  \n",
       "chr10:100174766:100174978:-@chr10:100174489:100...         NaN         NaN  \n",
       "chr10:100186972:100187021:-@chr10:100185575:100...         NaN         NaN  \n",
       "chr10:100190328:100190427:-@chr10:100189548:100...         NaN         NaN  "
      ]
     },
     "execution_count": 39,
     "metadata": {},
     "output_type": "execute_result"
    }
   ],
   "source": [
    "%time miso_junction_regions = miso_exons.apply(make_junction_regions, axis=1)\n",
    "print(miso_junction_regions.shape)\n",
    "miso_junction_regions.head()"
   ]
  },
  {
   "cell_type": "markdown",
   "metadata": {},
   "source": [
    "## Find MXE events where exon3 starts one nucleotide after exon2"
   ]
  },
  {
   "cell_type": "code",
   "execution_count": 40,
   "metadata": {
    "collapsed": false
   },
   "outputs": [
    {
     "name": "stdout",
     "output_type": "stream",
     "text": [
      "CPU times: user 34.8 s, sys: 12 ms, total: 34.8 s\n",
      "Wall time: 34.8 s\n"
     ]
    }
   ],
   "source": [
    "def mxe_bad_exon2_exon3(exons):\n",
    "    if pd.isnull(exons[MXE_LAST_EXON]).any():\n",
    "        return False\n",
    "    \n",
    "    strand = exons.iloc[0].strand\n",
    "    \n",
    "    if strand == '+':\n",
    "        start = exons['exon_2'].stop + 1\n",
    "        stop = exons['exon_3'].start - 1\n",
    "    else:\n",
    "        start = exons['exon_3'].stop + 1\n",
    "        stop = exons['exon_2'].start - 1\n",
    "        \n",
    "    if start > stop:\n",
    "        return True\n",
    "    return False\n",
    "    \n",
    "\n",
    "%time invalid_mxe_events = miso_exons.apply(mxe_bad_exon2_exon3, axis=1)"
   ]
  },
  {
   "cell_type": "markdown",
   "metadata": {},
   "source": [
    "This is a good false positive because exon3 of the event starts 1 nucleotide after exon2 (???!?!?):\n",
    "\n",
    "    'chr11:409868:410027:-@chr11:408894:409101:-@chr11:408695:408893:-@chr11:408073:408206:-'"
   ]
  },
  {
   "cell_type": "code",
   "execution_count": 41,
   "metadata": {
    "collapsed": false
   },
   "outputs": [],
   "source": [
    "invalid_mxe_events.to_csv('/projects/ps-yeolab/obotvinnik/singlecell_pnms/csvs_for_paper/miso_junctions_invalid_mxe.csv', \n",
    "                          header=True)"
   ]
  },
  {
   "cell_type": "code",
   "execution_count": 43,
   "metadata": {
    "collapsed": false
   },
   "outputs": [
    {
     "data": {
      "text/plain": [
       "miso_id\n",
       "chr11:409868:410027:-@chr11:408894:409101:-@chr11:408695:408893:-@chr11:408073:408206:-                            True\n",
       "chr11:62529267:62529376:+@chr11:62530014:62530338:+@chr11:62530339:62530498:+@chr11:62532654:62532704:+            True\n",
       "chr12:122710512:122711200:-@chr12:122709192:122709295:-@chr12:122709059:122709191:-@chr12:122701306:122701416:-    True\n",
       "chr12:122710512:122711200:-@chr12:122709192:122709295:-@chr12:122709059:122709191:-@chr12:122702813:122702944:-    True\n",
       "chr12:49406845:49406893:-@chr12:49399526:49399635:-@chr12:49399451:49399525:-@chr12:49399245:49399326:-            True\n",
       "chr12:49406845:49406893:-@chr12:49399526:49399664:-@chr12:49399451:49399525:-@chr12:49399245:49399326:-            True\n",
       "chr12:56552468:56552495:+@chr12:56553282:56553406:+@chr12:56553407:56553514:+@chr12:56553759:56553932:+            True\n",
       "chr12:56552468:56552495:+@chr12:56553371:56553406:+@chr12:56553407:56553514:+@chr12:56553759:56553932:+            True\n",
       "chr14:35579731:35579835:-@chr14:35579054:35579137:-@chr14:35579025:35579053:-@chr14:35577345:35577442:-            True\n",
       "chr16:21875104:21875424:-@chr16:21868980:21869077:-@chr16:21868901:21868979:-@chr16:21868580:21868737:-            True\n",
       "chr16:22518495:22518720:+@chr16:22524745:22524842:+@chr16:22524843:22524921:+@chr16:22525085:22525242:+            True\n",
       "chr16:22518495:22518720:+@chr16:22524745:22524842:+@chr16:22524843:22524931:+@chr16:22525085:22525242:+            True\n",
       "chr19:1095258:1095391:-@chr19:1093903:1094077:-@chr19:1093755:1093902:-@chr19:1091791:1091906:-                    True\n",
       "chr19:50168888:50169132:-@chr19:50167931:50168103:-@chr19:50167700:50167930:-@chr19:50166600:50166771:-            True\n",
       "chr1:101538216:101538386:+@chr1:101540832:101540950:+@chr1:101540951:101541272:+@chr1:101542919:101543064:+        True\n",
       "chr20:44443023:44443109:+@chr20:44444029:44444179:+@chr20:44444180:44444384:+@chr20:44444493:44444552:+            True\n",
       "chr20:62496581:62496737:+@chr20:62500649:62500717:+@chr20:62500718:62500794:+@chr20:62505021:62505169:+            True\n",
       "chr22:24963952:24964144:+@chr22:24967884:24967985:+@chr22:24967986:24968029:+@chr22:24979650:24979776:+            True\n",
       "chr2:242212176:242212246:-@chr2:242208369:242208710:-@chr2:242208244:242208368:-@chr2:242207892:242207956:-        True\n",
       "chr3:10028595:10028948:+@chr3:10029499:10029589:+@chr3:10029590:10029691:+@chr3:10030396:10030431:+                True\n",
       "chr3:195925660:195925745:-@chr3:195925323:195925461:-@chr3:195925147:195925322:-@chr3:195924323:195924596:-        True\n",
       "chr5:180661174:180661349:+@chr5:180661932:180661995:+@chr5:180661996:180662079:+@chr5:180662354:180662808:+        True\n",
       "chr6:31506924:31507051:-@chr6:31506717:31506836:-@chr6:31506707:31506716:-@chr6:31506540:31506632:-                True\n",
       "chr6:31729249:31729392:+@chr6:31729527:31729642:+@chr6:31729643:31729732:+@chr6:31729889:31729962:+                True\n",
       "chr6:31729249:31729392:+@chr6:31729595:31729642:+@chr6:31729643:31729732:+@chr6:31729889:31729962:+                True\n",
       "chr6:34803933:34804125:+@chr6:34823394:34823480:+@chr6:34823481:34823647:+@chr6:34824016:34824186:+                True\n",
       "chr7:150725510:150725697:+@chr7:150730530:150730691:+@chr7:150730692:150731004:+@chr7:150731360:150731515:+        True\n",
       "chr7:72420385:72420500:-@chr7:72419642:72420030:-@chr7:72419592:72419641:-@chr7:72419431:72419519:-                True\n",
       "chr9:98685542:98685661:+@chr9:98690361:98690432:+@chr9:98690433:98690559:+@chr9:98691001:98691146:+                True\n",
       "chrX:110924346:110924527:+@chrX:110925360:110925463:+@chrX:110925464:110925522:+@chrX:110928193:110928331:+        True\n",
       "chrX:110924398:110924652:+@chrX:110925360:110925463:+@chrX:110925464:110925522:+@chrX:110928193:110928331:+        True\n",
       "chrX:16870872:16870998:-@chrX:16870674:16870751:-@chrX:16870539:16870673:-@chrX:16870169:16870245:-                True\n",
       "dtype: bool"
      ]
     },
     "execution_count": 43,
     "metadata": {},
     "output_type": "execute_result"
    }
   ],
   "source": [
    "invalid_mxe_events[invalid_mxe_events]"
   ]
  },
  {
   "cell_type": "code",
   "execution_count": 44,
   "metadata": {
    "collapsed": false
   },
   "outputs": [
    {
     "name": "stdout",
     "output_type": "stream",
     "text": [
      "CPU times: user 531 ms, sys: 2 ms, total: 533 ms\n",
      "Wall time: 529 ms\n",
      "(39292, 6)\n"
     ]
    },
    {
     "data": {
      "text/html": [
       "<div>\n",
       "<table border=\"1\" class=\"dataframe\">\n",
       "  <thead>\n",
       "    <tr style=\"text-align: right;\">\n",
       "      <th></th>\n",
       "      <th>junction_12</th>\n",
       "      <th>junction_13</th>\n",
       "      <th>junction_14</th>\n",
       "      <th>junction_23</th>\n",
       "      <th>junction_24</th>\n",
       "      <th>junction_34</th>\n",
       "    </tr>\n",
       "    <tr>\n",
       "      <th>miso_id</th>\n",
       "      <th></th>\n",
       "      <th></th>\n",
       "      <th></th>\n",
       "      <th></th>\n",
       "      <th></th>\n",
       "      <th></th>\n",
       "    </tr>\n",
       "  </thead>\n",
       "  <tbody>\n",
       "    <tr>\n",
       "      <th>chr10:100148111:100148265:-@chr10:100147622:100147841:-@chr10:100146958:100147064:-</th>\n",
       "      <td>junction:chr10:100147842-100148110:-</td>\n",
       "      <td>junction:chr10:100147065-100148110:-</td>\n",
       "      <td>NaN</td>\n",
       "      <td>junction:chr10:100147065-100147621:-</td>\n",
       "      <td>NaN</td>\n",
       "      <td>NaN</td>\n",
       "    </tr>\n",
       "    <tr>\n",
       "      <th>chr10:100150355:100150511:-@chr10:100148111:100148265:-@chr10:100146958:100147064:-</th>\n",
       "      <td>junction:chr10:100148266-100150354:-</td>\n",
       "      <td>junction:chr10:100147065-100150354:-</td>\n",
       "      <td>NaN</td>\n",
       "      <td>junction:chr10:100147065-100148110:-</td>\n",
       "      <td>NaN</td>\n",
       "      <td>NaN</td>\n",
       "    </tr>\n",
       "    <tr>\n",
       "      <th>chr10:100174766:100174978:-@chr10:100174489:100174591:-@chr10:100173705:100174052:-</th>\n",
       "      <td>junction:chr10:100174592-100174765:-</td>\n",
       "      <td>junction:chr10:100174053-100174765:-</td>\n",
       "      <td>NaN</td>\n",
       "      <td>junction:chr10:100174053-100174488:-</td>\n",
       "      <td>NaN</td>\n",
       "      <td>NaN</td>\n",
       "    </tr>\n",
       "    <tr>\n",
       "      <th>chr10:100186972:100187021:-@chr10:100185575:100185742:-@chr10:100185298:100185477:-</th>\n",
       "      <td>junction:chr10:100185743-100186971:-</td>\n",
       "      <td>junction:chr10:100185478-100186971:-</td>\n",
       "      <td>NaN</td>\n",
       "      <td>junction:chr10:100185478-100185574:-</td>\n",
       "      <td>NaN</td>\n",
       "      <td>NaN</td>\n",
       "    </tr>\n",
       "    <tr>\n",
       "      <th>chr10:100190328:100190427:-@chr10:100189548:100189646:-@chr10:100189330:100189399:-</th>\n",
       "      <td>junction:chr10:100189647-100190327:-</td>\n",
       "      <td>junction:chr10:100189400-100190327:-</td>\n",
       "      <td>NaN</td>\n",
       "      <td>junction:chr10:100189400-100189547:-</td>\n",
       "      <td>NaN</td>\n",
       "      <td>NaN</td>\n",
       "    </tr>\n",
       "  </tbody>\n",
       "</table>\n",
       "</div>"
      ],
      "text/plain": [
       "                                                                             junction_12  \\\n",
       "miso_id                                                                                    \n",
       "chr10:100148111:100148265:-@chr10:100147622:100...  junction:chr10:100147842-100148110:-   \n",
       "chr10:100150355:100150511:-@chr10:100148111:100...  junction:chr10:100148266-100150354:-   \n",
       "chr10:100174766:100174978:-@chr10:100174489:100...  junction:chr10:100174592-100174765:-   \n",
       "chr10:100186972:100187021:-@chr10:100185575:100...  junction:chr10:100185743-100186971:-   \n",
       "chr10:100190328:100190427:-@chr10:100189548:100...  junction:chr10:100189647-100190327:-   \n",
       "\n",
       "                                                                             junction_13  \\\n",
       "miso_id                                                                                    \n",
       "chr10:100148111:100148265:-@chr10:100147622:100...  junction:chr10:100147065-100148110:-   \n",
       "chr10:100150355:100150511:-@chr10:100148111:100...  junction:chr10:100147065-100150354:-   \n",
       "chr10:100174766:100174978:-@chr10:100174489:100...  junction:chr10:100174053-100174765:-   \n",
       "chr10:100186972:100187021:-@chr10:100185575:100...  junction:chr10:100185478-100186971:-   \n",
       "chr10:100190328:100190427:-@chr10:100189548:100...  junction:chr10:100189400-100190327:-   \n",
       "\n",
       "                                                   junction_14  \\\n",
       "miso_id                                                          \n",
       "chr10:100148111:100148265:-@chr10:100147622:100...         NaN   \n",
       "chr10:100150355:100150511:-@chr10:100148111:100...         NaN   \n",
       "chr10:100174766:100174978:-@chr10:100174489:100...         NaN   \n",
       "chr10:100186972:100187021:-@chr10:100185575:100...         NaN   \n",
       "chr10:100190328:100190427:-@chr10:100189548:100...         NaN   \n",
       "\n",
       "                                                                             junction_23  \\\n",
       "miso_id                                                                                    \n",
       "chr10:100148111:100148265:-@chr10:100147622:100...  junction:chr10:100147065-100147621:-   \n",
       "chr10:100150355:100150511:-@chr10:100148111:100...  junction:chr10:100147065-100148110:-   \n",
       "chr10:100174766:100174978:-@chr10:100174489:100...  junction:chr10:100174053-100174488:-   \n",
       "chr10:100186972:100187021:-@chr10:100185575:100...  junction:chr10:100185478-100185574:-   \n",
       "chr10:100190328:100190427:-@chr10:100189548:100...  junction:chr10:100189400-100189547:-   \n",
       "\n",
       "                                                   junction_24 junction_34  \n",
       "miso_id                                                                     \n",
       "chr10:100148111:100148265:-@chr10:100147622:100...         NaN         NaN  \n",
       "chr10:100150355:100150511:-@chr10:100148111:100...         NaN         NaN  \n",
       "chr10:100174766:100174978:-@chr10:100174489:100...         NaN         NaN  \n",
       "chr10:100186972:100187021:-@chr10:100185575:100...         NaN         NaN  \n",
       "chr10:100190328:100190427:-@chr10:100189548:100...         NaN         NaN  "
      ]
     },
     "execution_count": 44,
     "metadata": {},
     "output_type": "execute_result"
    }
   ],
   "source": [
    "%time miso_junctions = miso_junction_regions.applymap(lambda x: x.name if isinstance(x, Region) else x)\n",
    "print(miso_junctions.shape)\n",
    "miso_junctions.head()"
   ]
  },
  {
   "cell_type": "code",
   "execution_count": 45,
   "metadata": {
    "collapsed": true
   },
   "outputs": [],
   "source": [
    "miso_junctions.to_csv('/projects/ps-yeolab/obotvinnik/singlecell_pnms/csvs_for_paper/miso_junctions_names.csv')"
   ]
  },
  {
   "cell_type": "code",
   "execution_count": null,
   "metadata": {
    "collapsed": true
   },
   "outputs": [],
   "source": []
  }
 ],
 "metadata": {
  "kernelspec": {
   "display_name": "Python 2",
   "language": "python",
   "name": "python2"
  },
  "language_info": {
   "codemirror_mode": {
    "name": "ipython",
    "version": 2
   },
   "file_extension": ".py",
   "mimetype": "text/x-python",
   "name": "python",
   "nbconvert_exporter": "python",
   "pygments_lexer": "ipython2",
   "version": "2.7.11"
  }
 },
 "nbformat": 4,
 "nbformat_minor": 0
}
