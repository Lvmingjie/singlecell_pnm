{
 "cells": [
  {
   "cell_type": "code",
   "execution_count": 53,
   "metadata": {
    "collapsed": false
   },
   "outputs": [],
   "source": [
    "from collections import defaultdict\n",
    "\n",
    "import matplotlib as mpl\n",
    "import matplotlib.pyplot as plt\n",
    "import numpy as np\n",
    "import pandas as pd\n",
    "import seaborn as sns\n",
    "\n",
    "%matplotlib inline\n",
    "\n",
    "\n",
    "import flotilla\n",
    "sns.set(style='ticks', context='talk')\n",
    "\n",
    "folder = 'figures'\n",
    "\n",
    "flotilla_dir = '/projects/ps-yeolab/obotvinnik/flotilla_projects/'\n",
    "\n",
    "# study = flotilla.embark('singlecell_pnm_figure1_supplementary_post_splicing_filtering', flotilla_dir=flotilla_dir)"
   ]
  },
  {
   "cell_type": "code",
   "execution_count": 54,
   "metadata": {
    "collapsed": false
   },
   "outputs": [
    {
     "name": "stdout",
     "output_type": "stream",
     "text": [
      "(1926274, 5)\n"
     ]
    },
    {
     "data": {
      "text/html": [
       "<div>\n",
       "<table border=\"1\" class=\"dataframe\">\n",
       "  <thead>\n",
       "    <tr style=\"text-align: right;\">\n",
       "      <th></th>\n",
       "      <th>sample_id</th>\n",
       "      <th>miso_id</th>\n",
       "      <th>outrigger_psi</th>\n",
       "      <th>notes</th>\n",
       "      <th>notes_abbrev</th>\n",
       "    </tr>\n",
       "  </thead>\n",
       "  <tbody>\n",
       "    <tr>\n",
       "      <th>0</th>\n",
       "      <td>CVN_35</td>\n",
       "      <td>chr10:100150355:100150511:-@chr10:100148111:10...</td>\n",
       "      <td>NaN</td>\n",
       "      <td>Case 3: All junctions with insufficient reads</td>\n",
       "      <td>Case 3</td>\n",
       "    </tr>\n",
       "    <tr>\n",
       "      <th>1</th>\n",
       "      <td>CVN_17</td>\n",
       "      <td>chr10:100174766:100174978:-@chr10:100174489:10...</td>\n",
       "      <td>NaN</td>\n",
       "      <td>Case 3: All junctions with insufficient reads</td>\n",
       "      <td>Case 3</td>\n",
       "    </tr>\n",
       "    <tr>\n",
       "      <th>2</th>\n",
       "      <td>CVN_35</td>\n",
       "      <td>chr10:100174766:100174978:-@chr10:100174489:10...</td>\n",
       "      <td>NaN</td>\n",
       "      <td>Case 3: All junctions with insufficient reads</td>\n",
       "      <td>Case 3</td>\n",
       "    </tr>\n",
       "    <tr>\n",
       "      <th>3</th>\n",
       "      <td>M2nd_33</td>\n",
       "      <td>chr10:100174766:100174978:-@chr10:100174489:10...</td>\n",
       "      <td>NaN</td>\n",
       "      <td>Case 3: All junctions with insufficient reads</td>\n",
       "      <td>Case 3</td>\n",
       "    </tr>\n",
       "    <tr>\n",
       "      <th>4</th>\n",
       "      <td>M2nd_34</td>\n",
       "      <td>chr10:100174766:100174978:-@chr10:100174489:10...</td>\n",
       "      <td>NaN</td>\n",
       "      <td>Case 3: All junctions with insufficient reads</td>\n",
       "      <td>Case 3</td>\n",
       "    </tr>\n",
       "  </tbody>\n",
       "</table>\n",
       "</div>"
      ],
      "text/plain": [
       "  sample_id                                            miso_id  outrigger_psi  \\\n",
       "0    CVN_35  chr10:100150355:100150511:-@chr10:100148111:10...            NaN   \n",
       "1    CVN_17  chr10:100174766:100174978:-@chr10:100174489:10...            NaN   \n",
       "2    CVN_35  chr10:100174766:100174978:-@chr10:100174489:10...            NaN   \n",
       "3   M2nd_33  chr10:100174766:100174978:-@chr10:100174489:10...            NaN   \n",
       "4   M2nd_34  chr10:100174766:100174978:-@chr10:100174489:10...            NaN   \n",
       "\n",
       "                                           notes notes_abbrev  \n",
       "0  Case 3: All junctions with insufficient reads       Case 3  \n",
       "1  Case 3: All junctions with insufficient reads       Case 3  \n",
       "2  Case 3: All junctions with insufficient reads       Case 3  \n",
       "3  Case 3: All junctions with insufficient reads       Case 3  \n",
       "4  Case 3: All junctions with insufficient reads       Case 3  "
      ]
     },
     "execution_count": 54,
     "metadata": {},
     "output_type": "execute_result"
    }
   ],
   "source": [
    "miso_calculated_psi = pd.read_csv('/projects/ps-yeolab/obotvinnik/singlecell_pnms/csvs_for_paper/miso_ids_outrigger_calculated_psi.csv')\n",
    "print(miso_calculated_psi.shape)\n",
    "miso_calculated_psi.head()"
   ]
  },
  {
   "cell_type": "code",
   "execution_count": 55,
   "metadata": {
    "collapsed": false
   },
   "outputs": [
    {
     "name": "stdout",
     "output_type": "stream",
     "text": [
      "(275, 63201)\n"
     ]
    },
    {
     "data": {
      "text/html": [
       "<div>\n",
       "<table border=\"1\" class=\"dataframe\">\n",
       "  <thead>\n",
       "    <tr style=\"text-align: right;\">\n",
       "      <th></th>\n",
       "      <th>chr10:100148111:100148265:-@chr10:100147622:100147841:-@chr10:100146958:100147064:-</th>\n",
       "      <th>chr10:100150355:100150511:-@chr10:100148111:100148265:-@chr10:100146958:100147064:-</th>\n",
       "      <th>chr10:100150839:100150628|100150767:-@chr10:100150355:100150511:-</th>\n",
       "      <th>chr10:100170715:100170370|100170696:-@chr10:100167661:100167754:-</th>\n",
       "      <th>chr10:100174766:100174978:-@chr10:100174489:100174591:-@chr10:100173705:100174052:-</th>\n",
       "      <th>chr10:100185575:100185742:-@chr10:100185441|100185477:100185298:-</th>\n",
       "      <th>chr10:100186972:100187021:-@chr10:100185575:100185742:-@chr10:100185298:100185477:-</th>\n",
       "      <th>chr10:100190328:100190427:-@chr10:100189548:100189646:-@chr10:100189330:100189399:-</th>\n",
       "      <th>chr10:100193697:100193848:-@chr10:100190888:100191048:-@chr10:100190328:100190427:-</th>\n",
       "      <th>chr10:100193740:100193848:-@chr10:100190888:100191048:-@chr10:100190328:100190427:-</th>\n",
       "      <th>...</th>\n",
       "      <th>chrY:59222127:59222216|59222281:+@chrY:59230782:59230919:+</th>\n",
       "      <th>chrY:59222127:59222277|59222281:+@chrY:59230782:59230919:+</th>\n",
       "      <th>chrY:59222127:59222281:+@chrY:59228292:59228349:+@chrY:59230782:59230919:+</th>\n",
       "      <th>chrY:59233167:59233257:+@chrY:59252483:59252550:+@chrY:59272371:59272463:+</th>\n",
       "      <th>chrY:6780129:6780213:+@chrY:6846254:6846284:+@chrY:6863845:6863939:+@chrY:6889490:6889578:+</th>\n",
       "      <th>chrY:6846254:6846284:+@chrY:6863845:6863939:+@chrY:6889490:6889578:+</th>\n",
       "      <th>chrY:6889490:6889578:+@chrY:6893076:6893183:+@chrY:6911021:6911166:+</th>\n",
       "      <th>chrY:6931938:6932190:+@chrY:6934736:6934869:+@chrY:6938237:6938369:+</th>\n",
       "      <th>chrY:9236076-9236162:+@chrY:9236424-9236561:+</th>\n",
       "      <th>chrY:9365535-9365621:+@chrY:9365883-9366020:+</th>\n",
       "    </tr>\n",
       "  </thead>\n",
       "  <tbody>\n",
       "    <tr>\n",
       "      <th>M1_01</th>\n",
       "      <td>NaN</td>\n",
       "      <td>NaN</td>\n",
       "      <td>NaN</td>\n",
       "      <td>NaN</td>\n",
       "      <td>NaN</td>\n",
       "      <td>NaN</td>\n",
       "      <td>NaN</td>\n",
       "      <td>NaN</td>\n",
       "      <td>NaN</td>\n",
       "      <td>NaN</td>\n",
       "      <td>...</td>\n",
       "      <td>NaN</td>\n",
       "      <td>NaN</td>\n",
       "      <td>NaN</td>\n",
       "      <td>NaN</td>\n",
       "      <td>NaN</td>\n",
       "      <td>NaN</td>\n",
       "      <td>NaN</td>\n",
       "      <td>NaN</td>\n",
       "      <td>NaN</td>\n",
       "      <td>NaN</td>\n",
       "    </tr>\n",
       "    <tr>\n",
       "      <th>M1_02</th>\n",
       "      <td>NaN</td>\n",
       "      <td>NaN</td>\n",
       "      <td>NaN</td>\n",
       "      <td>NaN</td>\n",
       "      <td>NaN</td>\n",
       "      <td>NaN</td>\n",
       "      <td>NaN</td>\n",
       "      <td>NaN</td>\n",
       "      <td>NaN</td>\n",
       "      <td>NaN</td>\n",
       "      <td>...</td>\n",
       "      <td>NaN</td>\n",
       "      <td>NaN</td>\n",
       "      <td>NaN</td>\n",
       "      <td>NaN</td>\n",
       "      <td>NaN</td>\n",
       "      <td>NaN</td>\n",
       "      <td>NaN</td>\n",
       "      <td>NaN</td>\n",
       "      <td>NaN</td>\n",
       "      <td>NaN</td>\n",
       "    </tr>\n",
       "    <tr>\n",
       "      <th>M1_03</th>\n",
       "      <td>NaN</td>\n",
       "      <td>NaN</td>\n",
       "      <td>NaN</td>\n",
       "      <td>NaN</td>\n",
       "      <td>NaN</td>\n",
       "      <td>NaN</td>\n",
       "      <td>NaN</td>\n",
       "      <td>NaN</td>\n",
       "      <td>NaN</td>\n",
       "      <td>NaN</td>\n",
       "      <td>...</td>\n",
       "      <td>0.87</td>\n",
       "      <td>0.82</td>\n",
       "      <td>0.94</td>\n",
       "      <td>0.97</td>\n",
       "      <td>NaN</td>\n",
       "      <td>NaN</td>\n",
       "      <td>NaN</td>\n",
       "      <td>NaN</td>\n",
       "      <td>NaN</td>\n",
       "      <td>NaN</td>\n",
       "    </tr>\n",
       "    <tr>\n",
       "      <th>M1_04</th>\n",
       "      <td>NaN</td>\n",
       "      <td>NaN</td>\n",
       "      <td>NaN</td>\n",
       "      <td>NaN</td>\n",
       "      <td>NaN</td>\n",
       "      <td>NaN</td>\n",
       "      <td>NaN</td>\n",
       "      <td>NaN</td>\n",
       "      <td>NaN</td>\n",
       "      <td>NaN</td>\n",
       "      <td>...</td>\n",
       "      <td>NaN</td>\n",
       "      <td>NaN</td>\n",
       "      <td>NaN</td>\n",
       "      <td>NaN</td>\n",
       "      <td>NaN</td>\n",
       "      <td>NaN</td>\n",
       "      <td>NaN</td>\n",
       "      <td>NaN</td>\n",
       "      <td>NaN</td>\n",
       "      <td>NaN</td>\n",
       "    </tr>\n",
       "    <tr>\n",
       "      <th>M1_05</th>\n",
       "      <td>NaN</td>\n",
       "      <td>NaN</td>\n",
       "      <td>NaN</td>\n",
       "      <td>NaN</td>\n",
       "      <td>NaN</td>\n",
       "      <td>NaN</td>\n",
       "      <td>NaN</td>\n",
       "      <td>NaN</td>\n",
       "      <td>NaN</td>\n",
       "      <td>NaN</td>\n",
       "      <td>...</td>\n",
       "      <td>NaN</td>\n",
       "      <td>NaN</td>\n",
       "      <td>NaN</td>\n",
       "      <td>NaN</td>\n",
       "      <td>NaN</td>\n",
       "      <td>NaN</td>\n",
       "      <td>NaN</td>\n",
       "      <td>NaN</td>\n",
       "      <td>NaN</td>\n",
       "      <td>NaN</td>\n",
       "    </tr>\n",
       "  </tbody>\n",
       "</table>\n",
       "<p>5 rows × 63201 columns</p>\n",
       "</div>"
      ],
      "text/plain": [
       "       chr10:100148111:100148265:-@chr10:100147622:100147841:-@chr10:100146958:100147064:-  \\\n",
       "M1_01                                                NaN                                     \n",
       "M1_02                                                NaN                                     \n",
       "M1_03                                                NaN                                     \n",
       "M1_04                                                NaN                                     \n",
       "M1_05                                                NaN                                     \n",
       "\n",
       "       chr10:100150355:100150511:-@chr10:100148111:100148265:-@chr10:100146958:100147064:-  \\\n",
       "M1_01                                                NaN                                     \n",
       "M1_02                                                NaN                                     \n",
       "M1_03                                                NaN                                     \n",
       "M1_04                                                NaN                                     \n",
       "M1_05                                                NaN                                     \n",
       "\n",
       "       chr10:100150839:100150628|100150767:-@chr10:100150355:100150511:-  \\\n",
       "M1_01                                                NaN                   \n",
       "M1_02                                                NaN                   \n",
       "M1_03                                                NaN                   \n",
       "M1_04                                                NaN                   \n",
       "M1_05                                                NaN                   \n",
       "\n",
       "       chr10:100170715:100170370|100170696:-@chr10:100167661:100167754:-  \\\n",
       "M1_01                                                NaN                   \n",
       "M1_02                                                NaN                   \n",
       "M1_03                                                NaN                   \n",
       "M1_04                                                NaN                   \n",
       "M1_05                                                NaN                   \n",
       "\n",
       "       chr10:100174766:100174978:-@chr10:100174489:100174591:-@chr10:100173705:100174052:-  \\\n",
       "M1_01                                                NaN                                     \n",
       "M1_02                                                NaN                                     \n",
       "M1_03                                                NaN                                     \n",
       "M1_04                                                NaN                                     \n",
       "M1_05                                                NaN                                     \n",
       "\n",
       "       chr10:100185575:100185742:-@chr10:100185441|100185477:100185298:-  \\\n",
       "M1_01                                                NaN                   \n",
       "M1_02                                                NaN                   \n",
       "M1_03                                                NaN                   \n",
       "M1_04                                                NaN                   \n",
       "M1_05                                                NaN                   \n",
       "\n",
       "       chr10:100186972:100187021:-@chr10:100185575:100185742:-@chr10:100185298:100185477:-  \\\n",
       "M1_01                                                NaN                                     \n",
       "M1_02                                                NaN                                     \n",
       "M1_03                                                NaN                                     \n",
       "M1_04                                                NaN                                     \n",
       "M1_05                                                NaN                                     \n",
       "\n",
       "       chr10:100190328:100190427:-@chr10:100189548:100189646:-@chr10:100189330:100189399:-  \\\n",
       "M1_01                                                NaN                                     \n",
       "M1_02                                                NaN                                     \n",
       "M1_03                                                NaN                                     \n",
       "M1_04                                                NaN                                     \n",
       "M1_05                                                NaN                                     \n",
       "\n",
       "       chr10:100193697:100193848:-@chr10:100190888:100191048:-@chr10:100190328:100190427:-  \\\n",
       "M1_01                                                NaN                                     \n",
       "M1_02                                                NaN                                     \n",
       "M1_03                                                NaN                                     \n",
       "M1_04                                                NaN                                     \n",
       "M1_05                                                NaN                                     \n",
       "\n",
       "       chr10:100193740:100193848:-@chr10:100190888:100191048:-@chr10:100190328:100190427:-  \\\n",
       "M1_01                                                NaN                                     \n",
       "M1_02                                                NaN                                     \n",
       "M1_03                                                NaN                                     \n",
       "M1_04                                                NaN                                     \n",
       "M1_05                                                NaN                                     \n",
       "\n",
       "                           ...                        \\\n",
       "M1_01                      ...                         \n",
       "M1_02                      ...                         \n",
       "M1_03                      ...                         \n",
       "M1_04                      ...                         \n",
       "M1_05                      ...                         \n",
       "\n",
       "       chrY:59222127:59222216|59222281:+@chrY:59230782:59230919:+  \\\n",
       "M1_01                                                NaN            \n",
       "M1_02                                                NaN            \n",
       "M1_03                                               0.87            \n",
       "M1_04                                                NaN            \n",
       "M1_05                                                NaN            \n",
       "\n",
       "       chrY:59222127:59222277|59222281:+@chrY:59230782:59230919:+  \\\n",
       "M1_01                                                NaN            \n",
       "M1_02                                                NaN            \n",
       "M1_03                                               0.82            \n",
       "M1_04                                                NaN            \n",
       "M1_05                                                NaN            \n",
       "\n",
       "       chrY:59222127:59222281:+@chrY:59228292:59228349:+@chrY:59230782:59230919:+  \\\n",
       "M1_01                                                NaN                            \n",
       "M1_02                                                NaN                            \n",
       "M1_03                                               0.94                            \n",
       "M1_04                                                NaN                            \n",
       "M1_05                                                NaN                            \n",
       "\n",
       "       chrY:59233167:59233257:+@chrY:59252483:59252550:+@chrY:59272371:59272463:+  \\\n",
       "M1_01                                                NaN                            \n",
       "M1_02                                                NaN                            \n",
       "M1_03                                               0.97                            \n",
       "M1_04                                                NaN                            \n",
       "M1_05                                                NaN                            \n",
       "\n",
       "       chrY:6780129:6780213:+@chrY:6846254:6846284:+@chrY:6863845:6863939:+@chrY:6889490:6889578:+  \\\n",
       "M1_01                                                NaN                                             \n",
       "M1_02                                                NaN                                             \n",
       "M1_03                                                NaN                                             \n",
       "M1_04                                                NaN                                             \n",
       "M1_05                                                NaN                                             \n",
       "\n",
       "       chrY:6846254:6846284:+@chrY:6863845:6863939:+@chrY:6889490:6889578:+  \\\n",
       "M1_01                                                NaN                      \n",
       "M1_02                                                NaN                      \n",
       "M1_03                                                NaN                      \n",
       "M1_04                                                NaN                      \n",
       "M1_05                                                NaN                      \n",
       "\n",
       "       chrY:6889490:6889578:+@chrY:6893076:6893183:+@chrY:6911021:6911166:+  \\\n",
       "M1_01                                                NaN                      \n",
       "M1_02                                                NaN                      \n",
       "M1_03                                                NaN                      \n",
       "M1_04                                                NaN                      \n",
       "M1_05                                                NaN                      \n",
       "\n",
       "       chrY:6931938:6932190:+@chrY:6934736:6934869:+@chrY:6938237:6938369:+  \\\n",
       "M1_01                                                NaN                      \n",
       "M1_02                                                NaN                      \n",
       "M1_03                                                NaN                      \n",
       "M1_04                                                NaN                      \n",
       "M1_05                                                NaN                      \n",
       "\n",
       "       chrY:9236076-9236162:+@chrY:9236424-9236561:+  \\\n",
       "M1_01                                            NaN   \n",
       "M1_02                                            NaN   \n",
       "M1_03                                            NaN   \n",
       "M1_04                                            NaN   \n",
       "M1_05                                            NaN   \n",
       "\n",
       "       chrY:9365535-9365621:+@chrY:9365883-9366020:+  \n",
       "M1_01                                            NaN  \n",
       "M1_02                                            NaN  \n",
       "M1_03                                            NaN  \n",
       "M1_04                                            NaN  \n",
       "M1_05                                            NaN  \n",
       "\n",
       "[5 rows x 63201 columns]"
      ]
     },
     "execution_count": 55,
     "metadata": {},
     "output_type": "execute_result"
    }
   ],
   "source": [
    "miso_psi_filename = '/projects/ps-yeolab/obotvinnik/flotilla_projects/singlecell_pnms/splicing.csv.gz'\n",
    "miso_psi = pd.read_csv(miso_psi_filename, index_col=0, compression='gzip')\n",
    "print(miso_psi.shape)\n",
    "miso_psi.head()"
   ]
  },
  {
   "cell_type": "code",
   "execution_count": 56,
   "metadata": {
    "collapsed": false
   },
   "outputs": [
    {
     "name": "stdout",
     "output_type": "stream",
     "text": [
      "(17380275, 3)\n",
      "(17380275, 3)\n"
     ]
    },
    {
     "data": {
      "text/html": [
       "<div>\n",
       "<table border=\"1\" class=\"dataframe\">\n",
       "  <thead>\n",
       "    <tr style=\"text-align: right;\">\n",
       "      <th></th>\n",
       "      <th>miso_id</th>\n",
       "      <th>sample_id</th>\n",
       "      <th>miso_psi</th>\n",
       "    </tr>\n",
       "  </thead>\n",
       "  <tbody>\n",
       "    <tr>\n",
       "      <th>0</th>\n",
       "      <td>chr10:100148111:100148265:-@chr10:100147622:10...</td>\n",
       "      <td>M1_01</td>\n",
       "      <td>NaN</td>\n",
       "    </tr>\n",
       "    <tr>\n",
       "      <th>1</th>\n",
       "      <td>chr10:100148111:100148265:-@chr10:100147622:10...</td>\n",
       "      <td>M1_02</td>\n",
       "      <td>NaN</td>\n",
       "    </tr>\n",
       "    <tr>\n",
       "      <th>2</th>\n",
       "      <td>chr10:100148111:100148265:-@chr10:100147622:10...</td>\n",
       "      <td>M1_03</td>\n",
       "      <td>NaN</td>\n",
       "    </tr>\n",
       "    <tr>\n",
       "      <th>3</th>\n",
       "      <td>chr10:100148111:100148265:-@chr10:100147622:10...</td>\n",
       "      <td>M1_04</td>\n",
       "      <td>NaN</td>\n",
       "    </tr>\n",
       "    <tr>\n",
       "      <th>4</th>\n",
       "      <td>chr10:100148111:100148265:-@chr10:100147622:10...</td>\n",
       "      <td>M1_05</td>\n",
       "      <td>NaN</td>\n",
       "    </tr>\n",
       "  </tbody>\n",
       "</table>\n",
       "</div>"
      ],
      "text/plain": [
       "                                             miso_id sample_id  miso_psi\n",
       "0  chr10:100148111:100148265:-@chr10:100147622:10...     M1_01       NaN\n",
       "1  chr10:100148111:100148265:-@chr10:100147622:10...     M1_02       NaN\n",
       "2  chr10:100148111:100148265:-@chr10:100147622:10...     M1_03       NaN\n",
       "3  chr10:100148111:100148265:-@chr10:100147622:10...     M1_04       NaN\n",
       "4  chr10:100148111:100148265:-@chr10:100147622:10...     M1_05       NaN"
      ]
     },
     "execution_count": 56,
     "metadata": {},
     "output_type": "execute_result"
    }
   ],
   "source": [
    "miso_psi_tidy = miso_psi.unstack().reset_index()\n",
    "miso_psi_tidy = miso_psi_tidy.rename(columns={'level_0':'miso_id', 'level_1':'sample_id', 0:'miso_psi'})\n",
    "print(miso_psi_tidy.shape)\n",
    "# miso_psi_tidy = miso_psi_tidy.dropna()\n",
    "print(miso_psi_tidy.shape)\n",
    "miso_psi_tidy.head()"
   ]
  },
  {
   "cell_type": "code",
   "execution_count": 57,
   "metadata": {
    "collapsed": true
   },
   "outputs": [],
   "source": [
    "figure_folder = 'figures/008_get_miso_false_positive_psi'\n",
    "! mkdir -p $figure_folder"
   ]
  },
  {
   "cell_type": "code",
   "execution_count": 58,
   "metadata": {
    "collapsed": false
   },
   "outputs": [],
   "source": [
    "from __future__ import print_function"
   ]
  },
  {
   "cell_type": "code",
   "execution_count": 59,
   "metadata": {
    "collapsed": false
   },
   "outputs": [
    {
     "data": {
      "text/plain": [
       "(1926274, 5)"
      ]
     },
     "execution_count": 59,
     "metadata": {},
     "output_type": "execute_result"
    }
   ],
   "source": [
    "miso_calculated_psi.shape"
   ]
  },
  {
   "cell_type": "code",
   "execution_count": 60,
   "metadata": {
    "collapsed": false
   },
   "outputs": [
    {
     "data": {
      "text/plain": [
       "(17380275, 3)"
      ]
     },
     "execution_count": 60,
     "metadata": {},
     "output_type": "execute_result"
    }
   ],
   "source": [
    "miso_psi_tidy.shape"
   ]
  },
  {
   "cell_type": "code",
   "execution_count": 61,
   "metadata": {
    "collapsed": false
   },
   "outputs": [
    {
     "name": "stdout",
     "output_type": "stream",
     "text": [
      "(1925988, 6)\n"
     ]
    },
    {
     "data": {
      "text/html": [
       "<div>\n",
       "<table border=\"1\" class=\"dataframe\">\n",
       "  <thead>\n",
       "    <tr style=\"text-align: right;\">\n",
       "      <th></th>\n",
       "      <th>miso_id</th>\n",
       "      <th>sample_id</th>\n",
       "      <th>miso_psi</th>\n",
       "      <th>outrigger_psi</th>\n",
       "      <th>notes</th>\n",
       "      <th>notes_abbrev</th>\n",
       "    </tr>\n",
       "  </thead>\n",
       "  <tbody>\n",
       "    <tr>\n",
       "      <th>0</th>\n",
       "      <td>chr10:100150355:100150511:-@chr10:100148111:10...</td>\n",
       "      <td>CVN_35</td>\n",
       "      <td>0.15</td>\n",
       "      <td>NaN</td>\n",
       "      <td>Case 3: All junctions with insufficient reads</td>\n",
       "      <td>Case 3</td>\n",
       "    </tr>\n",
       "    <tr>\n",
       "      <th>1</th>\n",
       "      <td>chr10:100174766:100174978:-@chr10:100174489:10...</td>\n",
       "      <td>M2nd_34</td>\n",
       "      <td>NaN</td>\n",
       "      <td>NaN</td>\n",
       "      <td>Case 3: All junctions with insufficient reads</td>\n",
       "      <td>Case 3</td>\n",
       "    </tr>\n",
       "    <tr>\n",
       "      <th>2</th>\n",
       "      <td>chr10:100174766:100174978:-@chr10:100174489:10...</td>\n",
       "      <td>M2nd_33</td>\n",
       "      <td>NaN</td>\n",
       "      <td>NaN</td>\n",
       "      <td>Case 3: All junctions with insufficient reads</td>\n",
       "      <td>Case 3</td>\n",
       "    </tr>\n",
       "    <tr>\n",
       "      <th>3</th>\n",
       "      <td>chr10:100174766:100174978:-@chr10:100174489:10...</td>\n",
       "      <td>CVN_17</td>\n",
       "      <td>0.09</td>\n",
       "      <td>NaN</td>\n",
       "      <td>Case 3: All junctions with insufficient reads</td>\n",
       "      <td>Case 3</td>\n",
       "    </tr>\n",
       "    <tr>\n",
       "      <th>4</th>\n",
       "      <td>chr10:100174766:100174978:-@chr10:100174489:10...</td>\n",
       "      <td>CVN_35</td>\n",
       "      <td>NaN</td>\n",
       "      <td>NaN</td>\n",
       "      <td>Case 3: All junctions with insufficient reads</td>\n",
       "      <td>Case 3</td>\n",
       "    </tr>\n",
       "  </tbody>\n",
       "</table>\n",
       "</div>"
      ],
      "text/plain": [
       "                                             miso_id sample_id  miso_psi  \\\n",
       "0  chr10:100150355:100150511:-@chr10:100148111:10...    CVN_35      0.15   \n",
       "1  chr10:100174766:100174978:-@chr10:100174489:10...   M2nd_34       NaN   \n",
       "2  chr10:100174766:100174978:-@chr10:100174489:10...   M2nd_33       NaN   \n",
       "3  chr10:100174766:100174978:-@chr10:100174489:10...    CVN_17      0.09   \n",
       "4  chr10:100174766:100174978:-@chr10:100174489:10...    CVN_35       NaN   \n",
       "\n",
       "   outrigger_psi                                          notes notes_abbrev  \n",
       "0            NaN  Case 3: All junctions with insufficient reads       Case 3  \n",
       "1            NaN  Case 3: All junctions with insufficient reads       Case 3  \n",
       "2            NaN  Case 3: All junctions with insufficient reads       Case 3  \n",
       "3            NaN  Case 3: All junctions with insufficient reads       Case 3  \n",
       "4            NaN  Case 3: All junctions with insufficient reads       Case 3  "
      ]
     },
     "execution_count": 61,
     "metadata": {},
     "output_type": "execute_result"
    }
   ],
   "source": [
    "cols = ['miso_id', 'sample_id']\n",
    "\n",
    "miso_psi_comparison = miso_psi_tidy.merge(miso_calculated_psi, left_on=cols, right_on=cols)\n",
    "print(miso_psi_comparison.shape)\n",
    "miso_psi_comparison.head()"
   ]
  },
  {
   "cell_type": "code",
   "execution_count": 62,
   "metadata": {
    "collapsed": false
   },
   "outputs": [
    {
     "name": "stdout",
     "output_type": "stream",
     "text": [
      "(1445316, 6)\n"
     ]
    },
    {
     "data": {
      "text/html": [
       "<div>\n",
       "<table border=\"1\" class=\"dataframe\">\n",
       "  <thead>\n",
       "    <tr style=\"text-align: right;\">\n",
       "      <th></th>\n",
       "      <th>miso_id</th>\n",
       "      <th>sample_id</th>\n",
       "      <th>miso_psi</th>\n",
       "      <th>outrigger_psi</th>\n",
       "      <th>notes</th>\n",
       "      <th>notes_abbrev</th>\n",
       "    </tr>\n",
       "  </thead>\n",
       "  <tbody>\n",
       "    <tr>\n",
       "      <th>0</th>\n",
       "      <td>chr10:100150355:100150511:-@chr10:100148111:10...</td>\n",
       "      <td>CVN_35</td>\n",
       "      <td>0.15</td>\n",
       "      <td>NaN</td>\n",
       "      <td>Case 3: All junctions with insufficient reads</td>\n",
       "      <td>Case 3</td>\n",
       "    </tr>\n",
       "    <tr>\n",
       "      <th>3</th>\n",
       "      <td>chr10:100174766:100174978:-@chr10:100174489:10...</td>\n",
       "      <td>CVN_17</td>\n",
       "      <td>0.09</td>\n",
       "      <td>NaN</td>\n",
       "      <td>Case 3: All junctions with insufficient reads</td>\n",
       "      <td>Case 3</td>\n",
       "    </tr>\n",
       "    <tr>\n",
       "      <th>5</th>\n",
       "      <td>chr10:100186972:100187021:-@chr10:100185575:10...</td>\n",
       "      <td>M2_05</td>\n",
       "      <td>0.94</td>\n",
       "      <td>NaN</td>\n",
       "      <td>Case 4: Only one junction with sufficient reads</td>\n",
       "      <td>Case 4</td>\n",
       "    </tr>\n",
       "    <tr>\n",
       "      <th>6</th>\n",
       "      <td>chr10:100186972:100187021:-@chr10:100185575:10...</td>\n",
       "      <td>MSA_31</td>\n",
       "      <td>0.85</td>\n",
       "      <td>NaN</td>\n",
       "      <td>Case 3: All junctions with insufficient reads</td>\n",
       "      <td>Case 3</td>\n",
       "    </tr>\n",
       "    <tr>\n",
       "      <th>7</th>\n",
       "      <td>chr10:100186972:100187021:-@chr10:100185575:10...</td>\n",
       "      <td>P2_12</td>\n",
       "      <td>0.98</td>\n",
       "      <td>1.0</td>\n",
       "      <td>Case 7: Inclusion</td>\n",
       "      <td>Case 7</td>\n",
       "    </tr>\n",
       "  </tbody>\n",
       "</table>\n",
       "</div>"
      ],
      "text/plain": [
       "                                             miso_id sample_id  miso_psi  \\\n",
       "0  chr10:100150355:100150511:-@chr10:100148111:10...    CVN_35      0.15   \n",
       "3  chr10:100174766:100174978:-@chr10:100174489:10...    CVN_17      0.09   \n",
       "5  chr10:100186972:100187021:-@chr10:100185575:10...     M2_05      0.94   \n",
       "6  chr10:100186972:100187021:-@chr10:100185575:10...    MSA_31      0.85   \n",
       "7  chr10:100186972:100187021:-@chr10:100185575:10...     P2_12      0.98   \n",
       "\n",
       "   outrigger_psi                                            notes notes_abbrev  \n",
       "0            NaN    Case 3: All junctions with insufficient reads       Case 3  \n",
       "3            NaN    Case 3: All junctions with insufficient reads       Case 3  \n",
       "5            NaN  Case 4: Only one junction with sufficient reads       Case 4  \n",
       "6            NaN    Case 3: All junctions with insufficient reads       Case 3  \n",
       "7            1.0                                Case 7: Inclusion       Case 7  "
      ]
     },
     "execution_count": 62,
     "metadata": {},
     "output_type": "execute_result"
    }
   ],
   "source": [
    "miso_psi_comparison_dropna = miso_psi_comparison.dropna(subset=['miso_psi', 'outrigger_psi'], how='all')\n",
    "print(miso_psi_comparison_dropna.shape)\n",
    "miso_psi_comparison_dropna.head()"
   ]
  },
  {
   "cell_type": "code",
   "execution_count": 63,
   "metadata": {
    "collapsed": false
   },
   "outputs": [
    {
     "data": {
      "text/plain": [
       "notes\n",
       "Case 10a: Isoform1 has 1+ junction with insufficient reads but Isoform2 with sufficient reads: There are sufficient junction reads       34533\n",
       "Case 10b: Isoform1 has 1+ junction with insufficient reads but Isoform2 with sufficient reads: There are insufficient junction reads       357\n",
       "Case 11a: Isoform1 and Isoform2 each have both sufficient and insufficient junctions: There are sufficient junction reads                   25\n",
       "Case 11b: Isoform1 and Isoform2 each have both sufficient and insufficient junctions: There are insufficient junction reads                 17\n",
       "Case 1: >= 10 reads on junctions that are incompatible with the annotation                                                              117367\n",
       "Case 2: Zero observed reads                                                                                                               2834\n",
       "Case 3: All junctions with insufficient reads                                                                                           130427\n",
       "Case 4: Only one junction with sufficient reads                                                                                         280720\n",
       "Case 5: Unequal read coverage (one side has at least 10x more reads)                                                                     36916\n",
       "Case 6: Exclusion                                                                                                                       398045\n",
       "Case 7: Inclusion                                                                                                                       360310\n",
       "Case 8: Sufficient reads on all junctions                                                                                                39073\n",
       "Case 9a: Isoform1 with sufficient reads but Isoform2 has 1+ junctions with insufficient reads: There are sufficient junction reads       40357\n",
       "Case 9b: Isoform1 with sufficient reads but Isoform2 has 1+ junctions with insufficient reads: There are insufficient junction reads      4335\n",
       "dtype: int64"
      ]
     },
     "execution_count": 63,
     "metadata": {},
     "output_type": "execute_result"
    }
   ],
   "source": [
    "miso_psi_comparison_dropna.groupby('notes').size()"
   ]
  },
  {
   "cell_type": "code",
   "execution_count": 64,
   "metadata": {
    "collapsed": false
   },
   "outputs": [
    {
     "data": {
      "text/plain": [
       "['Case 1',\n",
       " 'Case 2',\n",
       " 'Case 3',\n",
       " 'Case 4',\n",
       " 'Case 5',\n",
       " 'Case 6',\n",
       " 'Case 7',\n",
       " 'Case 8',\n",
       " 'Case 9a',\n",
       " 'Case 9b',\n",
       " 'Case 10a',\n",
       " 'Case 10b',\n",
       " 'Case 11a',\n",
       " 'Case 11b']"
      ]
     },
     "execution_count": 64,
     "metadata": {},
     "output_type": "execute_result"
    }
   ],
   "source": [
    "case_order = ['Case {}'.format(i+1) for i in range(8)] + ['Case {}{}'.format(i+1, x) for i in range(8, 11) for x in 'ab']\n",
    "case_order"
   ]
  },
  {
   "cell_type": "code",
   "execution_count": 65,
   "metadata": {
    "collapsed": false
   },
   "outputs": [
    {
     "data": {
      "text/plain": [
       "(1445316, 6)"
      ]
     },
     "execution_count": 65,
     "metadata": {},
     "output_type": "execute_result"
    }
   ],
   "source": [
    "miso_psi_comparison_dropna.shape"
   ]
  },
  {
   "cell_type": "code",
   "execution_count": 66,
   "metadata": {
    "collapsed": false
   },
   "outputs": [
    {
     "name": "stdout",
     "output_type": "stream",
     "text": [
      "(1926274, 9)\n"
     ]
    },
    {
     "data": {
      "text/html": [
       "<div>\n",
       "<table border=\"1\" class=\"dataframe\">\n",
       "  <thead>\n",
       "    <tr style=\"text-align: right;\">\n",
       "      <th></th>\n",
       "      <th>sample_id</th>\n",
       "      <th>miso_id</th>\n",
       "      <th>junction_12</th>\n",
       "      <th>junction_13</th>\n",
       "      <th>junction_14</th>\n",
       "      <th>junction_23</th>\n",
       "      <th>junction_24</th>\n",
       "      <th>junction_34</th>\n",
       "      <th>splice_type</th>\n",
       "    </tr>\n",
       "  </thead>\n",
       "  <tbody>\n",
       "    <tr>\n",
       "      <th>0</th>\n",
       "      <td>CVN_35</td>\n",
       "      <td>chr10:100150355:100150511:-@chr10:100148111:10...</td>\n",
       "      <td>NaN</td>\n",
       "      <td>9.0</td>\n",
       "      <td>NaN</td>\n",
       "      <td>NaN</td>\n",
       "      <td>NaN</td>\n",
       "      <td>NaN</td>\n",
       "      <td>SE</td>\n",
       "    </tr>\n",
       "    <tr>\n",
       "      <th>1</th>\n",
       "      <td>CVN_17</td>\n",
       "      <td>chr10:100174766:100174978:-@chr10:100174489:10...</td>\n",
       "      <td>NaN</td>\n",
       "      <td>7.0</td>\n",
       "      <td>NaN</td>\n",
       "      <td>NaN</td>\n",
       "      <td>NaN</td>\n",
       "      <td>NaN</td>\n",
       "      <td>SE</td>\n",
       "    </tr>\n",
       "    <tr>\n",
       "      <th>2</th>\n",
       "      <td>CVN_35</td>\n",
       "      <td>chr10:100174766:100174978:-@chr10:100174489:10...</td>\n",
       "      <td>NaN</td>\n",
       "      <td>8.0</td>\n",
       "      <td>NaN</td>\n",
       "      <td>NaN</td>\n",
       "      <td>NaN</td>\n",
       "      <td>NaN</td>\n",
       "      <td>SE</td>\n",
       "    </tr>\n",
       "    <tr>\n",
       "      <th>3</th>\n",
       "      <td>M2nd_33</td>\n",
       "      <td>chr10:100174766:100174978:-@chr10:100174489:10...</td>\n",
       "      <td>NaN</td>\n",
       "      <td>2.0</td>\n",
       "      <td>NaN</td>\n",
       "      <td>NaN</td>\n",
       "      <td>NaN</td>\n",
       "      <td>NaN</td>\n",
       "      <td>SE</td>\n",
       "    </tr>\n",
       "    <tr>\n",
       "      <th>4</th>\n",
       "      <td>M2nd_34</td>\n",
       "      <td>chr10:100174766:100174978:-@chr10:100174489:10...</td>\n",
       "      <td>NaN</td>\n",
       "      <td>4.0</td>\n",
       "      <td>NaN</td>\n",
       "      <td>NaN</td>\n",
       "      <td>NaN</td>\n",
       "      <td>NaN</td>\n",
       "      <td>SE</td>\n",
       "    </tr>\n",
       "  </tbody>\n",
       "</table>\n",
       "</div>"
      ],
      "text/plain": [
       "  sample_id                                            miso_id  junction_12  \\\n",
       "0    CVN_35  chr10:100150355:100150511:-@chr10:100148111:10...          NaN   \n",
       "1    CVN_17  chr10:100174766:100174978:-@chr10:100174489:10...          NaN   \n",
       "2    CVN_35  chr10:100174766:100174978:-@chr10:100174489:10...          NaN   \n",
       "3   M2nd_33  chr10:100174766:100174978:-@chr10:100174489:10...          NaN   \n",
       "4   M2nd_34  chr10:100174766:100174978:-@chr10:100174489:10...          NaN   \n",
       "\n",
       "   junction_13  junction_14  junction_23  junction_24  junction_34 splice_type  \n",
       "0          9.0          NaN          NaN          NaN          NaN          SE  \n",
       "1          7.0          NaN          NaN          NaN          NaN          SE  \n",
       "2          8.0          NaN          NaN          NaN          NaN          SE  \n",
       "3          2.0          NaN          NaN          NaN          NaN          SE  \n",
       "4          4.0          NaN          NaN          NaN          NaN          SE  "
      ]
     },
     "execution_count": 66,
     "metadata": {},
     "output_type": "execute_result"
    }
   ],
   "source": [
    "miso_junction_reads2d = pd.read_csv('/projects/ps-yeolab/obotvinnik/singlecell_pnms/csvs_for_paper/miso_junction_reads2d.csv')\n",
    "print(miso_junction_reads2d.shape)\n",
    "miso_junction_reads2d.head()"
   ]
  },
  {
   "cell_type": "code",
   "execution_count": 67,
   "metadata": {
    "collapsed": false
   },
   "outputs": [
    {
     "name": "stdout",
     "output_type": "stream",
     "text": [
      "(1445316, 13)\n"
     ]
    },
    {
     "data": {
      "text/html": [
       "<div>\n",
       "<table border=\"1\" class=\"dataframe\">\n",
       "  <thead>\n",
       "    <tr style=\"text-align: right;\">\n",
       "      <th></th>\n",
       "      <th>miso_id</th>\n",
       "      <th>sample_id</th>\n",
       "      <th>miso_psi</th>\n",
       "      <th>outrigger_psi</th>\n",
       "      <th>notes</th>\n",
       "      <th>notes_abbrev</th>\n",
       "      <th>junction_12</th>\n",
       "      <th>junction_13</th>\n",
       "      <th>junction_14</th>\n",
       "      <th>junction_23</th>\n",
       "      <th>junction_24</th>\n",
       "      <th>junction_34</th>\n",
       "      <th>splice_type</th>\n",
       "    </tr>\n",
       "  </thead>\n",
       "  <tbody>\n",
       "    <tr>\n",
       "      <th>0</th>\n",
       "      <td>chr10:100150355:100150511:-@chr10:100148111:10...</td>\n",
       "      <td>CVN_35</td>\n",
       "      <td>0.15</td>\n",
       "      <td>NaN</td>\n",
       "      <td>Case 3: All junctions with insufficient reads</td>\n",
       "      <td>Case 3</td>\n",
       "      <td>NaN</td>\n",
       "      <td>9.0</td>\n",
       "      <td>NaN</td>\n",
       "      <td>NaN</td>\n",
       "      <td>NaN</td>\n",
       "      <td>NaN</td>\n",
       "      <td>SE</td>\n",
       "    </tr>\n",
       "    <tr>\n",
       "      <th>1</th>\n",
       "      <td>chr10:100174766:100174978:-@chr10:100174489:10...</td>\n",
       "      <td>CVN_17</td>\n",
       "      <td>0.09</td>\n",
       "      <td>NaN</td>\n",
       "      <td>Case 3: All junctions with insufficient reads</td>\n",
       "      <td>Case 3</td>\n",
       "      <td>NaN</td>\n",
       "      <td>7.0</td>\n",
       "      <td>NaN</td>\n",
       "      <td>NaN</td>\n",
       "      <td>NaN</td>\n",
       "      <td>NaN</td>\n",
       "      <td>SE</td>\n",
       "    </tr>\n",
       "    <tr>\n",
       "      <th>2</th>\n",
       "      <td>chr10:100186972:100187021:-@chr10:100185575:10...</td>\n",
       "      <td>M2_05</td>\n",
       "      <td>0.94</td>\n",
       "      <td>NaN</td>\n",
       "      <td>Case 4: Only one junction with sufficient reads</td>\n",
       "      <td>Case 4</td>\n",
       "      <td>NaN</td>\n",
       "      <td>NaN</td>\n",
       "      <td>NaN</td>\n",
       "      <td>23.0</td>\n",
       "      <td>NaN</td>\n",
       "      <td>NaN</td>\n",
       "      <td>SE</td>\n",
       "    </tr>\n",
       "    <tr>\n",
       "      <th>3</th>\n",
       "      <td>chr10:100186972:100187021:-@chr10:100185575:10...</td>\n",
       "      <td>MSA_31</td>\n",
       "      <td>0.85</td>\n",
       "      <td>NaN</td>\n",
       "      <td>Case 3: All junctions with insufficient reads</td>\n",
       "      <td>Case 3</td>\n",
       "      <td>5.0</td>\n",
       "      <td>NaN</td>\n",
       "      <td>NaN</td>\n",
       "      <td>NaN</td>\n",
       "      <td>NaN</td>\n",
       "      <td>NaN</td>\n",
       "      <td>SE</td>\n",
       "    </tr>\n",
       "    <tr>\n",
       "      <th>4</th>\n",
       "      <td>chr10:100186972:100187021:-@chr10:100185575:10...</td>\n",
       "      <td>P2_12</td>\n",
       "      <td>0.98</td>\n",
       "      <td>1.0</td>\n",
       "      <td>Case 7: Inclusion</td>\n",
       "      <td>Case 7</td>\n",
       "      <td>32.0</td>\n",
       "      <td>NaN</td>\n",
       "      <td>NaN</td>\n",
       "      <td>46.0</td>\n",
       "      <td>NaN</td>\n",
       "      <td>NaN</td>\n",
       "      <td>SE</td>\n",
       "    </tr>\n",
       "  </tbody>\n",
       "</table>\n",
       "</div>"
      ],
      "text/plain": [
       "                                             miso_id sample_id  miso_psi  \\\n",
       "0  chr10:100150355:100150511:-@chr10:100148111:10...    CVN_35      0.15   \n",
       "1  chr10:100174766:100174978:-@chr10:100174489:10...    CVN_17      0.09   \n",
       "2  chr10:100186972:100187021:-@chr10:100185575:10...     M2_05      0.94   \n",
       "3  chr10:100186972:100187021:-@chr10:100185575:10...    MSA_31      0.85   \n",
       "4  chr10:100186972:100187021:-@chr10:100185575:10...     P2_12      0.98   \n",
       "\n",
       "   outrigger_psi                                            notes  \\\n",
       "0            NaN    Case 3: All junctions with insufficient reads   \n",
       "1            NaN    Case 3: All junctions with insufficient reads   \n",
       "2            NaN  Case 4: Only one junction with sufficient reads   \n",
       "3            NaN    Case 3: All junctions with insufficient reads   \n",
       "4            1.0                                Case 7: Inclusion   \n",
       "\n",
       "  notes_abbrev  junction_12  junction_13  junction_14  junction_23  \\\n",
       "0       Case 3          NaN          9.0          NaN          NaN   \n",
       "1       Case 3          NaN          7.0          NaN          NaN   \n",
       "2       Case 4          NaN          NaN          NaN         23.0   \n",
       "3       Case 3          5.0          NaN          NaN          NaN   \n",
       "4       Case 7         32.0          NaN          NaN         46.0   \n",
       "\n",
       "   junction_24  junction_34 splice_type  \n",
       "0          NaN          NaN          SE  \n",
       "1          NaN          NaN          SE  \n",
       "2          NaN          NaN          SE  \n",
       "3          NaN          NaN          SE  \n",
       "4          NaN          NaN          SE  "
      ]
     },
     "execution_count": 67,
     "metadata": {},
     "output_type": "execute_result"
    }
   ],
   "source": [
    "cols = ['miso_id', 'sample_id']\n",
    "miso_psi_comparison_dropna_junctions = miso_psi_comparison_dropna.merge(miso_junction_reads2d, left_on=cols, right_on=cols)\n",
    "print(miso_psi_comparison_dropna_junctions.shape)\n",
    "miso_psi_comparison_dropna_junctions.head()"
   ]
  },
  {
   "cell_type": "code",
   "execution_count": 68,
   "metadata": {
    "collapsed": true
   },
   "outputs": [],
   "source": [
    "miso_psi_comparison_dropna_junctions.to_csv('/projects/ps-yeolab/obotvinnik/singlecell_pnms/csvs_for_paper/miso_psi_comparison_junction_reads2d.csv', \n",
    "                                            index=False)"
   ]
  },
  {
   "cell_type": "code",
   "execution_count": 69,
   "metadata": {
    "collapsed": false
   },
   "outputs": [
    {
     "name": "stdout",
     "output_type": "stream",
     "text": [
      "(572973, 13)\n"
     ]
    },
    {
     "data": {
      "text/html": [
       "<div>\n",
       "<table border=\"1\" class=\"dataframe\">\n",
       "  <thead>\n",
       "    <tr style=\"text-align: right;\">\n",
       "      <th></th>\n",
       "      <th>miso_id</th>\n",
       "      <th>sample_id</th>\n",
       "      <th>miso_psi</th>\n",
       "      <th>outrigger_psi</th>\n",
       "      <th>notes</th>\n",
       "      <th>notes_abbrev</th>\n",
       "      <th>junction_12</th>\n",
       "      <th>junction_13</th>\n",
       "      <th>junction_14</th>\n",
       "      <th>junction_23</th>\n",
       "      <th>junction_24</th>\n",
       "      <th>junction_34</th>\n",
       "      <th>splice_type</th>\n",
       "    </tr>\n",
       "  </thead>\n",
       "  <tbody>\n",
       "    <tr>\n",
       "      <th>0</th>\n",
       "      <td>chr10:100150355:100150511:-@chr10:100148111:10...</td>\n",
       "      <td>CVN_35</td>\n",
       "      <td>0.15</td>\n",
       "      <td>NaN</td>\n",
       "      <td>Case 3: All junctions with insufficient reads</td>\n",
       "      <td>Case 3</td>\n",
       "      <td>NaN</td>\n",
       "      <td>9.0</td>\n",
       "      <td>NaN</td>\n",
       "      <td>NaN</td>\n",
       "      <td>NaN</td>\n",
       "      <td>NaN</td>\n",
       "      <td>SE</td>\n",
       "    </tr>\n",
       "    <tr>\n",
       "      <th>1</th>\n",
       "      <td>chr10:100174766:100174978:-@chr10:100174489:10...</td>\n",
       "      <td>CVN_17</td>\n",
       "      <td>0.09</td>\n",
       "      <td>NaN</td>\n",
       "      <td>Case 3: All junctions with insufficient reads</td>\n",
       "      <td>Case 3</td>\n",
       "      <td>NaN</td>\n",
       "      <td>7.0</td>\n",
       "      <td>NaN</td>\n",
       "      <td>NaN</td>\n",
       "      <td>NaN</td>\n",
       "      <td>NaN</td>\n",
       "      <td>SE</td>\n",
       "    </tr>\n",
       "    <tr>\n",
       "      <th>2</th>\n",
       "      <td>chr10:100186972:100187021:-@chr10:100185575:10...</td>\n",
       "      <td>M2_05</td>\n",
       "      <td>0.94</td>\n",
       "      <td>NaN</td>\n",
       "      <td>Case 4: Only one junction with sufficient reads</td>\n",
       "      <td>Case 4</td>\n",
       "      <td>NaN</td>\n",
       "      <td>NaN</td>\n",
       "      <td>NaN</td>\n",
       "      <td>23.0</td>\n",
       "      <td>NaN</td>\n",
       "      <td>NaN</td>\n",
       "      <td>SE</td>\n",
       "    </tr>\n",
       "    <tr>\n",
       "      <th>3</th>\n",
       "      <td>chr10:100186972:100187021:-@chr10:100185575:10...</td>\n",
       "      <td>MSA_31</td>\n",
       "      <td>0.85</td>\n",
       "      <td>NaN</td>\n",
       "      <td>Case 3: All junctions with insufficient reads</td>\n",
       "      <td>Case 3</td>\n",
       "      <td>5.0</td>\n",
       "      <td>NaN</td>\n",
       "      <td>NaN</td>\n",
       "      <td>NaN</td>\n",
       "      <td>NaN</td>\n",
       "      <td>NaN</td>\n",
       "      <td>SE</td>\n",
       "    </tr>\n",
       "    <tr>\n",
       "      <th>6</th>\n",
       "      <td>chr10:100186972:100187021:-@chr10:100185575:10...</td>\n",
       "      <td>M4_05</td>\n",
       "      <td>0.82</td>\n",
       "      <td>NaN</td>\n",
       "      <td>Case 4: Only one junction with sufficient reads</td>\n",
       "      <td>Case 4</td>\n",
       "      <td>10.0</td>\n",
       "      <td>NaN</td>\n",
       "      <td>NaN</td>\n",
       "      <td>7.0</td>\n",
       "      <td>NaN</td>\n",
       "      <td>NaN</td>\n",
       "      <td>SE</td>\n",
       "    </tr>\n",
       "  </tbody>\n",
       "</table>\n",
       "</div>"
      ],
      "text/plain": [
       "                                             miso_id sample_id  miso_psi  \\\n",
       "0  chr10:100150355:100150511:-@chr10:100148111:10...    CVN_35      0.15   \n",
       "1  chr10:100174766:100174978:-@chr10:100174489:10...    CVN_17      0.09   \n",
       "2  chr10:100186972:100187021:-@chr10:100185575:10...     M2_05      0.94   \n",
       "3  chr10:100186972:100187021:-@chr10:100185575:10...    MSA_31      0.85   \n",
       "6  chr10:100186972:100187021:-@chr10:100185575:10...     M4_05      0.82   \n",
       "\n",
       "   outrigger_psi                                            notes  \\\n",
       "0            NaN    Case 3: All junctions with insufficient reads   \n",
       "1            NaN    Case 3: All junctions with insufficient reads   \n",
       "2            NaN  Case 4: Only one junction with sufficient reads   \n",
       "3            NaN    Case 3: All junctions with insufficient reads   \n",
       "6            NaN  Case 4: Only one junction with sufficient reads   \n",
       "\n",
       "  notes_abbrev  junction_12  junction_13  junction_14  junction_23  \\\n",
       "0       Case 3          NaN          9.0          NaN          NaN   \n",
       "1       Case 3          NaN          7.0          NaN          NaN   \n",
       "2       Case 4          NaN          NaN          NaN         23.0   \n",
       "3       Case 3          5.0          NaN          NaN          NaN   \n",
       "6       Case 4         10.0          NaN          NaN          7.0   \n",
       "\n",
       "   junction_24  junction_34 splice_type  \n",
       "0          NaN          NaN          SE  \n",
       "1          NaN          NaN          SE  \n",
       "2          NaN          NaN          SE  \n",
       "3          NaN          NaN          SE  \n",
       "6          NaN          NaN          SE  "
      ]
     },
     "execution_count": 69,
     "metadata": {},
     "output_type": "execute_result"
    }
   ],
   "source": [
    "miso_psi_outrigger_na = miso_psi_comparison_dropna_junctions.loc[miso_psi_comparison_dropna_junctions['outrigger_psi'].isnull()]\n",
    "print(miso_psi_outrigger_na.shape)\n",
    "miso_psi_outrigger_na.head()"
   ]
  },
  {
   "cell_type": "code",
   "execution_count": 70,
   "metadata": {
    "collapsed": false
   },
   "outputs": [
    {
     "data": {
      "text/plain": [
       "45.719554368936684"
      ]
     },
     "execution_count": 70,
     "metadata": {},
     "output_type": "execute_result"
    }
   ],
   "source": [
    "miso_false_positive_percent = 100 * float(miso_psi_outrigger_na.shape[0])/miso_psi_comparison_dropna_junctions['miso_psi'].notnull().sum()\n",
    "miso_false_positive_percent"
   ]
  },
  {
   "cell_type": "code",
   "execution_count": 71,
   "metadata": {
    "collapsed": true
   },
   "outputs": [],
   "source": [
    "sns.set(context='paper', style='white')"
   ]
  },
  {
   "cell_type": "code",
   "execution_count": 95,
   "metadata": {
    "collapsed": false
   },
   "outputs": [
    {
     "data": {
      "image/png": "[encoded data removed]",
      "text/plain": [
       "<matplotlib.figure.Figure at 0x2b1adf45ef10>"
      ]
     },
     "metadata": {},
     "output_type": "display_data"
    }
   ],
   "source": [
    "set2 = sns.color_palette('Set2')\n",
    "sns.palplot(set2)\n",
    "false_positive_color = set2[1]\n",
    "false_negative_color = set2[0]"
   ]
  },
  {
   "cell_type": "code",
   "execution_count": 106,
   "metadata": {
    "collapsed": false
   },
   "outputs": [
    {
     "data": {
      "image/png": "[encoded data removed]",
      "text/plain": [
       "<matplotlib.figure.Figure at 0x2b1adf0fb690>"
      ]
     },
     "metadata": {},
     "output_type": "display_data"
    }
   ],
   "source": [
    "dark2 = sns.color_palette('Dark2')\n",
    "sns.palplot(dark2)\n",
    "\n",
    "false_positive_label = dark2[1]\n",
    "false_negative_label = dark2[0]"
   ]
  },
  {
   "cell_type": "code",
   "execution_count": 103,
   "metadata": {
    "collapsed": false
   },
   "outputs": [
    {
     "data": {
      "image/png": "[encoded data removed]",
      "text/plain": [
       "<matplotlib.figure.Figure at 0x2b1b29cd8e10>"
      ]
     },
     "metadata": {},
     "output_type": "display_data"
    }
   ],
   "source": [
    "fig, ax = plt.subplots(figsize=(1, 1))\n",
    "plt.pie([miso_false_positive_percent, 100-miso_false_positive_percent], startangle=90, \n",
    "        colors=[false_positive_color, 'grey'], \n",
    "        labels=['False Positives', 'True Positives'], autopct='%.0f%%')\n",
    "ax.set(title='MISO SE and MXE events')\n",
    "fig.savefig('{}/miso_false_positives_pie.pdf'.format(figure_folder))"
   ]
  },
  {
   "cell_type": "code",
   "execution_count": 73,
   "metadata": {
    "collapsed": false
   },
   "outputs": [
    {
     "data": {
      "text/plain": [
       "notes\n",
       "Case 10b: Isoform1 has 1+ junction with insufficient reads but Isoform2 with sufficient reads: There are insufficient junction reads       357\n",
       "Case 11b: Isoform1 and Isoform2 each have both sufficient and insufficient junctions: There are insufficient junction reads                 17\n",
       "Case 1: >= 10 reads on junctions that are incompatible with the annotation                                                              117367\n",
       "Case 2: Zero observed reads                                                                                                               2834\n",
       "Case 3: All junctions with insufficient reads                                                                                           130427\n",
       "Case 4: Only one junction with sufficient reads                                                                                         280720\n",
       "Case 5: Unequal read coverage (one side has at least 10x more reads)                                                                     36916\n",
       "Case 9b: Isoform1 with sufficient reads but Isoform2 has 1+ junctions with insufficient reads: There are insufficient junction reads      4335\n",
       "dtype: int64"
      ]
     },
     "execution_count": 73,
     "metadata": {},
     "output_type": "execute_result"
    }
   ],
   "source": [
    "miso_psi_outrigger_na.groupby('notes').size()"
   ]
  },
  {
   "cell_type": "code",
   "execution_count": 74,
   "metadata": {
    "collapsed": true
   },
   "outputs": [],
   "source": [
    "sns.set(context='paper', style='whitegrid')"
   ]
  },
  {
   "cell_type": "code",
   "execution_count": 97,
   "metadata": {
    "collapsed": false
   },
   "outputs": [
    {
     "data": {
      "image/png": "[encoded data removed]",
      "text/plain": [
       "<matplotlib.figure.Figure at 0x2b1accec6c90>"
      ]
     },
     "metadata": {},
     "output_type": "display_data"
    }
   ],
   "source": [
    "fig, ax = plt.subplots(figsize=(2, 2))\n",
    "\n",
    "# outrigger_na_case_order = ['Case 3', 'Case 4', 'Case 6', 'Case 10b', 'Case 11b', 'Case 12b']\n",
    "\n",
    "sns.countplot(x='notes_abbrev', data=miso_psi_outrigger_na, color=false_positive_color, order=case_order)\n",
    "\n",
    "miso_psi_outrigger_na_sizes = miso_psi_outrigger_na.groupby('notes_abbrev').size()\n",
    "ymin, ymax = ax.get_ylim()\n",
    "yrange = ymax - ymin\n",
    "yoffset = 0.025 * ymax\n",
    "\n",
    "for i, case in enumerate(case_order):\n",
    "    if case in miso_psi_outrigger_na_sizes:\n",
    "        y = miso_psi_outrigger_na_sizes[case]\n",
    "        ax.annotate(\"{:,}\".format(y), (i+0.2, y + yoffset), rotation=90, fontsize=8, \n",
    "                    va='bottom', ha='center', color=false_positive_label)\n",
    "plt.setp(ax.get_xticklabels(), rotation=90);\n",
    "ax.set(xlabel='', ylabel='MISO False Positives')\n",
    "fig.savefig('{}/outrigger_na_cases.pdf'.format(figure_folder))"
   ]
  },
  {
   "cell_type": "code",
   "execution_count": 76,
   "metadata": {
    "collapsed": false
   },
   "outputs": [
    {
     "name": "stdout",
     "output_type": "stream",
     "text": [
      "(192082, 13)\n"
     ]
    },
    {
     "data": {
      "text/html": [
       "<div>\n",
       "<table border=\"1\" class=\"dataframe\">\n",
       "  <thead>\n",
       "    <tr style=\"text-align: right;\">\n",
       "      <th></th>\n",
       "      <th>miso_id</th>\n",
       "      <th>sample_id</th>\n",
       "      <th>miso_psi</th>\n",
       "      <th>outrigger_psi</th>\n",
       "      <th>notes</th>\n",
       "      <th>notes_abbrev</th>\n",
       "      <th>junction_12</th>\n",
       "      <th>junction_13</th>\n",
       "      <th>junction_14</th>\n",
       "      <th>junction_23</th>\n",
       "      <th>junction_24</th>\n",
       "      <th>junction_34</th>\n",
       "      <th>splice_type</th>\n",
       "    </tr>\n",
       "  </thead>\n",
       "  <tbody>\n",
       "    <tr>\n",
       "      <th>9</th>\n",
       "      <td>chr10:100190328:100190427:-@chr10:100189548:10...</td>\n",
       "      <td>P1_06</td>\n",
       "      <td>NaN</td>\n",
       "      <td>1.0</td>\n",
       "      <td>Case 7: Inclusion</td>\n",
       "      <td>Case 7</td>\n",
       "      <td>12.0</td>\n",
       "      <td>NaN</td>\n",
       "      <td>NaN</td>\n",
       "      <td>11.0</td>\n",
       "      <td>NaN</td>\n",
       "      <td>NaN</td>\n",
       "      <td>SE</td>\n",
       "    </tr>\n",
       "    <tr>\n",
       "      <th>15</th>\n",
       "      <td>chr10:100190328:100190427:-@chr10:100189548:10...</td>\n",
       "      <td>P2_11</td>\n",
       "      <td>NaN</td>\n",
       "      <td>0.0</td>\n",
       "      <td>Case 6: Exclusion</td>\n",
       "      <td>Case 6</td>\n",
       "      <td>NaN</td>\n",
       "      <td>123.0</td>\n",
       "      <td>NaN</td>\n",
       "      <td>NaN</td>\n",
       "      <td>NaN</td>\n",
       "      <td>NaN</td>\n",
       "      <td>SE</td>\n",
       "    </tr>\n",
       "    <tr>\n",
       "      <th>19</th>\n",
       "      <td>chr10:100190328:100190427:-@chr10:100189548:10...</td>\n",
       "      <td>P7_11</td>\n",
       "      <td>NaN</td>\n",
       "      <td>0.0</td>\n",
       "      <td>Case 6: Exclusion</td>\n",
       "      <td>Case 6</td>\n",
       "      <td>NaN</td>\n",
       "      <td>12.0</td>\n",
       "      <td>NaN</td>\n",
       "      <td>NaN</td>\n",
       "      <td>NaN</td>\n",
       "      <td>NaN</td>\n",
       "      <td>SE</td>\n",
       "    </tr>\n",
       "    <tr>\n",
       "      <th>24</th>\n",
       "      <td>chr10:100190328:100190427:-@chr10:100189548:10...</td>\n",
       "      <td>P4_01</td>\n",
       "      <td>NaN</td>\n",
       "      <td>0.0</td>\n",
       "      <td>Case 6: Exclusion</td>\n",
       "      <td>Case 6</td>\n",
       "      <td>NaN</td>\n",
       "      <td>29.0</td>\n",
       "      <td>NaN</td>\n",
       "      <td>NaN</td>\n",
       "      <td>NaN</td>\n",
       "      <td>NaN</td>\n",
       "      <td>SE</td>\n",
       "    </tr>\n",
       "    <tr>\n",
       "      <th>38</th>\n",
       "      <td>chr10:100193697:100193848:-@chr10:100190888:10...</td>\n",
       "      <td>P2_10</td>\n",
       "      <td>NaN</td>\n",
       "      <td>1.0</td>\n",
       "      <td>Case 7: Inclusion</td>\n",
       "      <td>Case 7</td>\n",
       "      <td>228.0</td>\n",
       "      <td>NaN</td>\n",
       "      <td>NaN</td>\n",
       "      <td>300.0</td>\n",
       "      <td>NaN</td>\n",
       "      <td>NaN</td>\n",
       "      <td>SE</td>\n",
       "    </tr>\n",
       "  </tbody>\n",
       "</table>\n",
       "</div>"
      ],
      "text/plain": [
       "                                              miso_id sample_id  miso_psi  \\\n",
       "9   chr10:100190328:100190427:-@chr10:100189548:10...     P1_06       NaN   \n",
       "15  chr10:100190328:100190427:-@chr10:100189548:10...     P2_11       NaN   \n",
       "19  chr10:100190328:100190427:-@chr10:100189548:10...     P7_11       NaN   \n",
       "24  chr10:100190328:100190427:-@chr10:100189548:10...     P4_01       NaN   \n",
       "38  chr10:100193697:100193848:-@chr10:100190888:10...     P2_10       NaN   \n",
       "\n",
       "    outrigger_psi              notes notes_abbrev  junction_12  junction_13  \\\n",
       "9             1.0  Case 7: Inclusion       Case 7         12.0          NaN   \n",
       "15            0.0  Case 6: Exclusion       Case 6          NaN        123.0   \n",
       "19            0.0  Case 6: Exclusion       Case 6          NaN         12.0   \n",
       "24            0.0  Case 6: Exclusion       Case 6          NaN         29.0   \n",
       "38            1.0  Case 7: Inclusion       Case 7        228.0          NaN   \n",
       "\n",
       "    junction_14  junction_23  junction_24  junction_34 splice_type  \n",
       "9           NaN         11.0          NaN          NaN          SE  \n",
       "15          NaN          NaN          NaN          NaN          SE  \n",
       "19          NaN          NaN          NaN          NaN          SE  \n",
       "24          NaN          NaN          NaN          NaN          SE  \n",
       "38          NaN        300.0          NaN          NaN          SE  "
      ]
     },
     "execution_count": 76,
     "metadata": {},
     "output_type": "execute_result"
    }
   ],
   "source": [
    "rows = miso_psi_comparison_dropna_junctions['miso_psi'].isnull() & miso_psi_comparison_dropna_junctions['outrigger_psi'].notnull()\n",
    "miso_na_outrigger_psi = miso_psi_comparison_dropna_junctions.loc[rows]\n",
    "print(miso_na_outrigger_psi.shape)\n",
    "miso_na_outrigger_psi.head()"
   ]
  },
  {
   "cell_type": "code",
   "execution_count": 77,
   "metadata": {
    "collapsed": false
   },
   "outputs": [
    {
     "data": {
      "text/plain": [
       "notes\n",
       "Case 10a: Isoform1 has 1+ junction with insufficient reads but Isoform2 with sufficient reads: There are sufficient junction reads     7030\n",
       "Case 11a: Isoform1 and Isoform2 each have both sufficient and insufficient junctions: There are sufficient junction reads                 4\n",
       "Case 6: Exclusion                                                                                                                     92329\n",
       "Case 7: Inclusion                                                                                                                     76035\n",
       "Case 8: Sufficient reads on all junctions                                                                                              8036\n",
       "Case 9a: Isoform1 with sufficient reads but Isoform2 has 1+ junctions with insufficient reads: There are sufficient junction reads     8648\n",
       "dtype: int64"
      ]
     },
     "execution_count": 77,
     "metadata": {},
     "output_type": "execute_result"
    }
   ],
   "source": [
    "miso_na_outrigger_psi.groupby('notes').size()"
   ]
  },
  {
   "cell_type": "code",
   "execution_count": 78,
   "metadata": {
    "collapsed": false
   },
   "outputs": [
    {
     "data": {
      "text/plain": [
       "22.01909111438964"
      ]
     },
     "execution_count": 78,
     "metadata": {},
     "output_type": "execute_result"
    }
   ],
   "source": [
    "miso_false_negative_percent = 100 * float(miso_na_outrigger_psi.shape[0])/miso_psi_comparison_dropna['outrigger_psi'].notnull().sum()\n",
    "miso_false_negative_percent"
   ]
  },
  {
   "cell_type": "code",
   "execution_count": 102,
   "metadata": {
    "collapsed": false
   },
   "outputs": [
    {
     "data": {
      "image/png": "[encoded data removed]",
      "text/plain": [
       "<matplotlib.figure.Figure at 0x2b1adf85eb10>"
      ]
     },
     "metadata": {},
     "output_type": "display_data"
    }
   ],
   "source": [
    "fig, ax = plt.subplots(figsize=(1, 1))\n",
    "plt.pie([miso_false_negative_percent, 100-miso_false_positive_percent], startangle=90, \n",
    "        colors=[false_negative_color, 'grey'], \n",
    "        labels=['MISO False Negatives', 'MISO True Positives'], autopct='%.0f%%')\n",
    "ax.set(title='Outrigger SE and MXE events')\n",
    "fig.savefig('{}/miso_false_negatives_pie.pdf'.format(figure_folder))"
   ]
  },
  {
   "cell_type": "code",
   "execution_count": 108,
   "metadata": {
    "collapsed": false
   },
   "outputs": [
    {
     "data": {
      "image/png": "[encoded data removed]",
      "text/plain": [
       "<matplotlib.figure.Figure at 0x2b1accf91450>"
      ]
     },
     "metadata": {},
     "output_type": "display_data"
    }
   ],
   "source": [
    "fig, ax = plt.subplots(figsize=(2, 2))\n",
    "\n",
    "miso_na_case_order = ['Case 7', 'Case 8', 'Case 9', 'Case 10a', 'Case 11a', 'Case 12a']\n",
    "\n",
    "sns.countplot(x='notes_abbrev', data=miso_na_outrigger_psi, color=false_negative_color, order=case_order)\n",
    "\n",
    "miso_na_outrigger_psi_sizes = miso_na_outrigger_psi.groupby('notes_abbrev').size()\n",
    "ymin, ymax = ax.get_ylim()\n",
    "yrange = ymax - ymin\n",
    "yoffset = 0.025 * ymax\n",
    "\n",
    "for i, case in enumerate(case_order):\n",
    "    if case in miso_na_outrigger_psi_sizes:\n",
    "        y = miso_na_outrigger_psi_sizes[case]\n",
    "        ax.annotate(\"{:,}\".format(y), (i+0.2, y + yoffset), rotation=90, fontsize=8, \n",
    "                    va='bottom', ha='center', color=false_negative_label)\n",
    "plt.setp(ax.get_xticklabels(), rotation=90);\n",
    "ax.set(xlabel='', ylabel='MISO False Negatives')\n",
    "fig.savefig('{}/miso_na_cases.pdf'.format(figure_folder))"
   ]
  },
  {
   "cell_type": "code",
   "execution_count": 107,
   "metadata": {
    "collapsed": false
   },
   "outputs": [
    {
     "data": {
      "image/png": "[encoded data removed]",
      "text/plain": [
       "<matplotlib.figure.Figure at 0x2b1adf29cd10>"
      ]
     },
     "metadata": {},
     "output_type": "display_data"
    }
   ],
   "source": [
    "fig, ax = plt.subplots(figsize=(2, 2))\n",
    "\n",
    "# outrigger_na_case_order = ['Case 3', 'Case 4', 'Case 6', 'Case 10b', 'Case 11b', 'Case 12b']\n",
    "\n",
    "sns.countplot(x='notes_abbrev', data=miso_psi_outrigger_na, color=false_positive_color, order=case_order)\n",
    "sns.countplot(x='notes_abbrev', data=miso_na_outrigger_psi, color=false_negative_color, order=case_order)\n",
    "\n",
    "ymin, ymax = ax.get_ylim()\n",
    "yrange = ymax - ymin\n",
    "yoffset = 0.025 * ymax\n",
    "\n",
    "\n",
    "for i, case in enumerate(case_order):\n",
    "    if case in miso_na_outrigger_psi_sizes:\n",
    "        y = miso_na_outrigger_psi_sizes[case]\n",
    "        ax.annotate(\"{:,}\".format(y), (i+0.2, y + yoffset), rotation=90, fontsize=8, \n",
    "                    va='bottom', ha='center', color=false_negative_label)\n",
    "\n",
    "for i, case in enumerate(case_order):\n",
    "    if case in miso_psi_outrigger_na_sizes:\n",
    "        y = miso_psi_outrigger_na_sizes[case]\n",
    "        ax.annotate(\"{:,}\".format(y), (i+0.1, y + yoffset), rotation=90, fontsize=8, \n",
    "                    va='bottom', ha='center', color=false_positive_label)\n",
    "plt.setp(ax.get_xticklabels(), rotation=90);\n",
    "ax.set(xlabel='', ylabel='MISO False Positives')\n",
    "fig.savefig('{}/miso_outrigger_na_cases.pdf'.format(figure_folder))"
   ]
  },
  {
   "cell_type": "code",
   "execution_count": 82,
   "metadata": {
    "collapsed": false
   },
   "outputs": [
    {
     "data": {
      "image/png": "[encoded data removed]",
      "text/plain": [
       "<matplotlib.figure.Figure at 0x2b1adf05efd0>"
      ]
     },
     "metadata": {},
     "output_type": "display_data"
    }
   ],
   "source": [
    "g = sns.jointplot('outrigger_psi', 'miso_psi', miso_psi_comparison_dropna, color='#262626', \n",
    "                  joint_kws=dict(alpha=0.5, rasterized=True, s=1), size=2)\n",
    "g.savefig('{}/outrigger_vs_miso_psi.pdf'.format(figure_folder), dpi=300)"
   ]
  },
  {
   "cell_type": "code",
   "execution_count": 83,
   "metadata": {
    "collapsed": false
   },
   "outputs": [
    {
     "data": {
      "image/png": "[encoded data removed]",
      "text/plain": [
       "<matplotlib.figure.Figure at 0x2b1adf088190>"
      ]
     },
     "metadata": {},
     "output_type": "display_data"
    }
   ],
   "source": [
    "g = sns.jointplot('outrigger_psi', 'miso_psi', miso_psi_comparison_dropna.fillna(-0.1))"
   ]
  },
  {
   "cell_type": "code",
   "execution_count": null,
   "metadata": {
    "collapsed": false
   },
   "outputs": [
    {
     "name": "stdout",
     "output_type": "stream",
     "text": [
      "(1445316, 6)\n"
     ]
    },
    {
     "data": {
      "text/html": [
       "<div>\n",
       "<table border=\"1\" class=\"dataframe\">\n",
       "  <thead>\n",
       "    <tr style=\"text-align: right;\">\n",
       "      <th></th>\n",
       "      <th>miso_id</th>\n",
       "      <th>sample_id</th>\n",
       "      <th>miso_psi</th>\n",
       "      <th>outrigger_psi</th>\n",
       "      <th>notes</th>\n",
       "      <th>notes_abbrev</th>\n",
       "    </tr>\n",
       "  </thead>\n",
       "  <tbody>\n",
       "    <tr>\n",
       "      <th>0</th>\n",
       "      <td>chr10:100150355:100150511:-@chr10:100148111:10...</td>\n",
       "      <td>CVN_35</td>\n",
       "      <td>0.15</td>\n",
       "      <td>-0.1</td>\n",
       "      <td>Case 3: All junctions with insufficient reads</td>\n",
       "      <td>Case 3</td>\n",
       "    </tr>\n",
       "    <tr>\n",
       "      <th>3</th>\n",
       "      <td>chr10:100174766:100174978:-@chr10:100174489:10...</td>\n",
       "      <td>CVN_17</td>\n",
       "      <td>0.09</td>\n",
       "      <td>-0.1</td>\n",
       "      <td>Case 3: All junctions with insufficient reads</td>\n",
       "      <td>Case 3</td>\n",
       "    </tr>\n",
       "    <tr>\n",
       "      <th>5</th>\n",
       "      <td>chr10:100186972:100187021:-@chr10:100185575:10...</td>\n",
       "      <td>M2_05</td>\n",
       "      <td>0.94</td>\n",
       "      <td>-0.1</td>\n",
       "      <td>Case 4: Only one junction with sufficient reads</td>\n",
       "      <td>Case 4</td>\n",
       "    </tr>\n",
       "    <tr>\n",
       "      <th>6</th>\n",
       "      <td>chr10:100186972:100187021:-@chr10:100185575:10...</td>\n",
       "      <td>MSA_31</td>\n",
       "      <td>0.85</td>\n",
       "      <td>-0.1</td>\n",
       "      <td>Case 3: All junctions with insufficient reads</td>\n",
       "      <td>Case 3</td>\n",
       "    </tr>\n",
       "    <tr>\n",
       "      <th>7</th>\n",
       "      <td>chr10:100186972:100187021:-@chr10:100185575:10...</td>\n",
       "      <td>P2_12</td>\n",
       "      <td>0.98</td>\n",
       "      <td>1.0</td>\n",
       "      <td>Case 7: Inclusion</td>\n",
       "      <td>Case 7</td>\n",
       "    </tr>\n",
       "  </tbody>\n",
       "</table>\n",
       "</div>"
      ],
      "text/plain": [
       "                                             miso_id sample_id  miso_psi  \\\n",
       "0  chr10:100150355:100150511:-@chr10:100148111:10...    CVN_35      0.15   \n",
       "3  chr10:100174766:100174978:-@chr10:100174489:10...    CVN_17      0.09   \n",
       "5  chr10:100186972:100187021:-@chr10:100185575:10...     M2_05      0.94   \n",
       "6  chr10:100186972:100187021:-@chr10:100185575:10...    MSA_31      0.85   \n",
       "7  chr10:100186972:100187021:-@chr10:100185575:10...     P2_12      0.98   \n",
       "\n",
       "   outrigger_psi                                            notes notes_abbrev  \n",
       "0           -0.1    Case 3: All junctions with insufficient reads       Case 3  \n",
       "3           -0.1    Case 3: All junctions with insufficient reads       Case 3  \n",
       "5           -0.1  Case 4: Only one junction with sufficient reads       Case 4  \n",
       "6           -0.1    Case 3: All junctions with insufficient reads       Case 3  \n",
       "7            1.0                                Case 7: Inclusion       Case 7  "
      ]
     },
     "execution_count": 112,
     "metadata": {},
     "output_type": "execute_result"
    }
   ],
   "source": [
    "miso_psi_comparison_dropna_fillna = miso_psi_comparison_dropna.fillna(-0.1)\n",
    "print(miso_psi_comparison_dropna_fillna.shape)\n",
    "miso_psi_comparison_dropna_fillna.head()"
   ]
  },
  {
   "cell_type": "code",
   "execution_count": null,
   "metadata": {
    "collapsed": false
   },
   "outputs": [
    {
     "data": {
      "text/plain": [
       "['Case 1',\n",
       " 'Case 2',\n",
       " 'Case 3',\n",
       " 'Case 4',\n",
       " 'Case 5',\n",
       " 'Case 6',\n",
       " 'Case 7',\n",
       " 'Case 8',\n",
       " 'Case 9a',\n",
       " 'Case 9b',\n",
       " 'Case 10a',\n",
       " 'Case 10b',\n",
       " 'Case 11a',\n",
       " 'Case 11b']"
      ]
     },
     "execution_count": 113,
     "metadata": {},
     "output_type": "execute_result"
    }
   ],
   "source": [
    "case_order"
   ]
  },
  {
   "cell_type": "code",
   "execution_count": null,
   "metadata": {
    "collapsed": false
   },
   "outputs": [],
   "source": [
    "g = sns.FacetGrid(miso_psi_comparison_dropna_fillna, col='notes_abbrev', col_wrap=4, col_order=case_order, size=1.5)\n",
    "g.map(plt.scatter, 'outrigger_psi', 'miso_psi', alpha=0.5, color='#262626', rasterized=True, s=1)\n",
    "g.set_titles('{col_name}')\n",
    "g.set(xticks=[0, 0.5, 1], yticks=[0, 0.5, 1])\n",
    "g.savefig('{}/outrigger_vs_miso_psi_faceted.pdf'.format(figure_folder), dpi=300)"
   ]
  },
  {
   "cell_type": "code",
   "execution_count": null,
   "metadata": {
    "collapsed": false
   },
   "outputs": [],
   "source": [
    "miso_psi_comparison_dropna_fillna['either_na'] = \"True Positive\"\n",
    "miso_psi_comparison_dropna_fillna.loc[miso_outrigger_comparison['outrigger_psi'].isnull(), 'either_na'] = 'False Positive'\n",
    "miso_psi_comparison_dropna_fillna.loc[miso_outrigger_comparison['miso_psi'].isnull(), 'either_na'] = 'False Negative'\n",
    "miso_psi_comparison_dropna_fillna.head()"
   ]
  },
  {
   "cell_type": "code",
   "execution_count": null,
   "metadata": {
    "collapsed": true
   },
   "outputs": [],
   "source": [
    "g = sns.FacetGrid(miso_psi_comparison_dropna_fillna, col='notes_abbrev', \n",
    "                  col_wrap=4, col_order=case_order, size=1.5, hue='either_na', \n",
    "                  hue_order=['False Positive', 'False Negative', 'True Positive'],\n",
    "                  palette=[false_positive_color, false_negative_color, '#262626'])\n",
    "g.map(plt.scatter, 'outrigger_psi', 'miso_psi', alpha=0.5, rasterized=True, s=1)\n",
    "g.set_titles('{col_name}')\n",
    "g.set(xticks=[0, 0.5, 1], yticks=[0, 0.5, 1])\n",
    "g.savefig('{}/outrigger_vs_miso_psi_faceted_na_hue.pdf'.format(figure_folder), dpi=300)"
   ]
  },
  {
   "cell_type": "code",
   "execution_count": null,
   "metadata": {
    "collapsed": true
   },
   "outputs": [],
   "source": []
  },
  {
   "cell_type": "code",
   "execution_count": null,
   "metadata": {
    "collapsed": true
   },
   "outputs": [],
   "source": []
  }
 ],
 "metadata": {
  "kernelspec": {
   "display_name": "Python 2",
   "language": "python",
   "name": "python2"
  },
  "language_info": {
   "codemirror_mode": {
    "name": "ipython",
    "version": 2
   },
   "file_extension": ".py",
   "mimetype": "text/x-python",
   "name": "python",
   "nbconvert_exporter": "python",
   "pygments_lexer": "ipython2",
   "version": "2.7.11"
  }
 },
 "nbformat": 4,
 "nbformat_minor": 0
}
