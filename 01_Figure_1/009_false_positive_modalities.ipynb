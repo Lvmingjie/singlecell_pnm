{
 "cells": [
  {
   "cell_type": "code",
   "execution_count": 1,
   "metadata": {
    "collapsed": false
   },
   "outputs": [],
   "source": [
    "from __future__ import print_function\n",
    "\n",
    "figure_folder = 'figures/009_false_positive_modalities'\n",
    "! mkdir -p $figure_folder"
   ]
  },
  {
   "cell_type": "code",
   "execution_count": 2,
   "metadata": {
    "collapsed": false
   },
   "outputs": [
    {
     "name": "stdout",
     "output_type": "stream",
     "text": [
      "2016-12-28 12:16:21\tReading datapackage from /projects/ps-yeolab/obotvinnik/flotilla_projects/singlecell_pnm_miso_modalities/datapackage.json\n",
      "2016-12-28 12:16:21\tParsing datapackage to create a Study object\n",
      "https://s3-us-west-2.amazonaws.com/flotilla-projects/ercc/ERCC_Controls.txt has not been downloaded before.\n",
      "\tDownloading now to /home/obotvinnik/flotilla_projects/hg19/ERCC_Controls.txt\n"
     ]
    },
    {
     "name": "stderr",
     "output_type": "stream",
     "text": [
      "/home/obotvinnik/anaconda/lib/python2.7/site-packages/sklearn/cross_validation.py:44: DeprecationWarning: This module was deprecated in version 0.18 in favor of the model_selection module into which all the refactored classes and functions are moved. Also note that the interface of the new CV iterators are different from that of this module. This module will be removed in 0.20.\n",
      "  \"This module will be removed in 0.20.\", DeprecationWarning)\n",
      "Error loading species hg19 data: HTTP Error 404: Not Found"
     ]
    },
    {
     "name": "stdout",
     "output_type": "stream",
     "text": [
      "2016-12-28 12:16:55 \tInitializing Study\n",
      "2016-12-28 12:16:55 \tInitializing Predictor configuration manager for Study\n",
      "2016-12-28 12:16:55\tPredictor ExtraTreesClassifier is of type <class 'sklearn.ensemble.forest.ExtraTreesClassifier'>\n",
      "2016-12-28 12:16:55\tAdded ExtraTreesClassifier to default predictors\n",
      "2016-12-28 12:16:55\tPredictor ExtraTreesRegressor is of type <class 'sklearn.ensemble.forest.ExtraTreesRegressor'>\n",
      "2016-12-28 12:16:55\tAdded ExtraTreesRegressor to default predictors\n",
      "2016-12-28 12:16:55\tPredictor GradientBoostingClassifier is of type <class 'sklearn.ensemble.gradient_boosting.GradientBoostingClassifier'>\n",
      "2016-12-28 12:16:55\tAdded GradientBoostingClassifier to default predictors\n",
      "2016-12-28 12:16:55\tPredictor GradientBoostingRegressor is of type <class 'sklearn.ensemble.gradient_boosting.GradientBoostingRegressor'>\n",
      "2016-12-28 12:16:55\tAdded GradientBoostingRegressor to default predictors\n",
      "2016-12-28 12:16:59 \tBuilding Gene Ontology database...\n",
      "2016-12-28 12:17:07 \t\tDone\n",
      "2016-12-28 12:17:07 \tLoading metadata\n",
      "2016-12-28 12:17:07\tLoading expression data\n",
      "2016-12-28 12:17:07\tInitializing expression\n",
      "2016-12-28 12:17:08\tDone initializing expression\n",
      "2016-12-28 12:17:10\tLoading splicing data\n",
      "2016-12-28 12:17:10\tInitializing splicing\n",
      "2016-12-28 12:17:10\tDone initializing splicing\n",
      "2016-12-28 12:17:10\tSuccessfully initialized a Study object!\n"
     ]
    }
   ],
   "source": [
    "from collections import defaultdict\n",
    "\n",
    "import matplotlib as mpl\n",
    "import matplotlib.pyplot as plt\n",
    "import numpy as np\n",
    "import pandas as pd\n",
    "import seaborn as sns\n",
    "\n",
    "%matplotlib inline\n",
    "\n",
    "\n",
    "import flotilla\n",
    "sns.set(style='ticks', context='talk')\n",
    "\n",
    "folder = 'figures'\n",
    "\n",
    "flotilla_dir = '/projects/ps-yeolab/obotvinnik/flotilla_projects/'\n",
    "\n",
    "study = flotilla.embark('singlecell_pnm_miso_modalities', flotilla_dir=flotilla_dir)"
   ]
  },
  {
   "cell_type": "code",
   "execution_count": 3,
   "metadata": {
    "collapsed": false
   },
   "outputs": [
    {
     "data": {
      "text/plain": [
       "(206, 37964)"
      ]
     },
     "execution_count": 3,
     "metadata": {},
     "output_type": "execute_result"
    }
   ],
   "source": [
    "study.splicing.data_original.shape"
   ]
  },
  {
   "cell_type": "code",
   "execution_count": 4,
   "metadata": {
    "collapsed": false
   },
   "outputs": [
    {
     "name": "stdout",
     "output_type": "stream",
     "text": [
      "(1445316, 13)\n"
     ]
    },
    {
     "data": {
      "text/html": [
       "<div>\n",
       "<table border=\"1\" class=\"dataframe\">\n",
       "  <thead>\n",
       "    <tr style=\"text-align: right;\">\n",
       "      <th></th>\n",
       "      <th>miso_id</th>\n",
       "      <th>sample_id</th>\n",
       "      <th>miso_psi</th>\n",
       "      <th>outrigger_psi</th>\n",
       "      <th>notes</th>\n",
       "      <th>notes_abbrev</th>\n",
       "      <th>junction_12</th>\n",
       "      <th>junction_13</th>\n",
       "      <th>junction_14</th>\n",
       "      <th>junction_23</th>\n",
       "      <th>junction_24</th>\n",
       "      <th>junction_34</th>\n",
       "      <th>splice_type</th>\n",
       "    </tr>\n",
       "  </thead>\n",
       "  <tbody>\n",
       "    <tr>\n",
       "      <th>0</th>\n",
       "      <td>chr10:100150355:100150511:-@chr10:100148111:10...</td>\n",
       "      <td>CVN_35</td>\n",
       "      <td>0.15</td>\n",
       "      <td>NaN</td>\n",
       "      <td>Case 3: All junctions with insufficient reads</td>\n",
       "      <td>Case 3</td>\n",
       "      <td>NaN</td>\n",
       "      <td>9.0</td>\n",
       "      <td>NaN</td>\n",
       "      <td>NaN</td>\n",
       "      <td>NaN</td>\n",
       "      <td>NaN</td>\n",
       "      <td>SE</td>\n",
       "    </tr>\n",
       "    <tr>\n",
       "      <th>1</th>\n",
       "      <td>chr10:100174766:100174978:-@chr10:100174489:10...</td>\n",
       "      <td>CVN_17</td>\n",
       "      <td>0.09</td>\n",
       "      <td>NaN</td>\n",
       "      <td>Case 3: All junctions with insufficient reads</td>\n",
       "      <td>Case 3</td>\n",
       "      <td>NaN</td>\n",
       "      <td>7.0</td>\n",
       "      <td>NaN</td>\n",
       "      <td>NaN</td>\n",
       "      <td>NaN</td>\n",
       "      <td>NaN</td>\n",
       "      <td>SE</td>\n",
       "    </tr>\n",
       "    <tr>\n",
       "      <th>2</th>\n",
       "      <td>chr10:100186972:100187021:-@chr10:100185575:10...</td>\n",
       "      <td>M2_05</td>\n",
       "      <td>0.94</td>\n",
       "      <td>NaN</td>\n",
       "      <td>Case 4: Only one junction with sufficient reads</td>\n",
       "      <td>Case 4</td>\n",
       "      <td>NaN</td>\n",
       "      <td>NaN</td>\n",
       "      <td>NaN</td>\n",
       "      <td>23.0</td>\n",
       "      <td>NaN</td>\n",
       "      <td>NaN</td>\n",
       "      <td>SE</td>\n",
       "    </tr>\n",
       "    <tr>\n",
       "      <th>3</th>\n",
       "      <td>chr10:100186972:100187021:-@chr10:100185575:10...</td>\n",
       "      <td>MSA_31</td>\n",
       "      <td>0.85</td>\n",
       "      <td>NaN</td>\n",
       "      <td>Case 3: All junctions with insufficient reads</td>\n",
       "      <td>Case 3</td>\n",
       "      <td>5.0</td>\n",
       "      <td>NaN</td>\n",
       "      <td>NaN</td>\n",
       "      <td>NaN</td>\n",
       "      <td>NaN</td>\n",
       "      <td>NaN</td>\n",
       "      <td>SE</td>\n",
       "    </tr>\n",
       "    <tr>\n",
       "      <th>4</th>\n",
       "      <td>chr10:100186972:100187021:-@chr10:100185575:10...</td>\n",
       "      <td>P2_12</td>\n",
       "      <td>0.98</td>\n",
       "      <td>1.0</td>\n",
       "      <td>Case 7: Inclusion</td>\n",
       "      <td>Case 7</td>\n",
       "      <td>32.0</td>\n",
       "      <td>NaN</td>\n",
       "      <td>NaN</td>\n",
       "      <td>46.0</td>\n",
       "      <td>NaN</td>\n",
       "      <td>NaN</td>\n",
       "      <td>SE</td>\n",
       "    </tr>\n",
       "  </tbody>\n",
       "</table>\n",
       "</div>"
      ],
      "text/plain": [
       "                                             miso_id sample_id  miso_psi  \\\n",
       "0  chr10:100150355:100150511:-@chr10:100148111:10...    CVN_35      0.15   \n",
       "1  chr10:100174766:100174978:-@chr10:100174489:10...    CVN_17      0.09   \n",
       "2  chr10:100186972:100187021:-@chr10:100185575:10...     M2_05      0.94   \n",
       "3  chr10:100186972:100187021:-@chr10:100185575:10...    MSA_31      0.85   \n",
       "4  chr10:100186972:100187021:-@chr10:100185575:10...     P2_12      0.98   \n",
       "\n",
       "   outrigger_psi                                            notes  \\\n",
       "0            NaN    Case 3: All junctions with insufficient reads   \n",
       "1            NaN    Case 3: All junctions with insufficient reads   \n",
       "2            NaN  Case 4: Only one junction with sufficient reads   \n",
       "3            NaN    Case 3: All junctions with insufficient reads   \n",
       "4            1.0                                Case 7: Inclusion   \n",
       "\n",
       "  notes_abbrev  junction_12  junction_13  junction_14  junction_23  \\\n",
       "0       Case 3          NaN          9.0          NaN          NaN   \n",
       "1       Case 3          NaN          7.0          NaN          NaN   \n",
       "2       Case 4          NaN          NaN          NaN         23.0   \n",
       "3       Case 3          5.0          NaN          NaN          NaN   \n",
       "4       Case 7         32.0          NaN          NaN         46.0   \n",
       "\n",
       "   junction_24  junction_34 splice_type  \n",
       "0          NaN          NaN          SE  \n",
       "1          NaN          NaN          SE  \n",
       "2          NaN          NaN          SE  \n",
       "3          NaN          NaN          SE  \n",
       "4          NaN          NaN          SE  "
      ]
     },
     "execution_count": 4,
     "metadata": {},
     "output_type": "execute_result"
    }
   ],
   "source": [
    "miso_psi_comparison_dropna_junctions = pd.read_csv(\n",
    "    '/projects/ps-yeolab/obotvinnik/singlecell_pnms/csvs_for_paper/miso_psi_comparison_junction_reads2d.csv')\n",
    "print(miso_psi_comparison_dropna_junctions.shape)\n",
    "miso_psi_comparison_dropna_junctions.head()"
   ]
  },
  {
   "cell_type": "code",
   "execution_count": 5,
   "metadata": {
    "collapsed": false
   },
   "outputs": [
    {
     "name": "stdout",
     "output_type": "stream",
     "text": [
      "(1445316, 14)\n"
     ]
    },
    {
     "data": {
      "text/html": [
       "<div>\n",
       "<table border=\"1\" class=\"dataframe\">\n",
       "  <thead>\n",
       "    <tr style=\"text-align: right;\">\n",
       "      <th></th>\n",
       "      <th>miso_id</th>\n",
       "      <th>sample_id</th>\n",
       "      <th>miso_psi</th>\n",
       "      <th>outrigger_psi</th>\n",
       "      <th>notes</th>\n",
       "      <th>notes_abbrev</th>\n",
       "      <th>junction_12</th>\n",
       "      <th>junction_13</th>\n",
       "      <th>junction_14</th>\n",
       "      <th>junction_23</th>\n",
       "      <th>junction_24</th>\n",
       "      <th>junction_34</th>\n",
       "      <th>splice_type</th>\n",
       "      <th>phenotype</th>\n",
       "    </tr>\n",
       "  </thead>\n",
       "  <tbody>\n",
       "    <tr>\n",
       "      <th>0</th>\n",
       "      <td>chr10:100150355:100150511:-@chr10:100148111:10...</td>\n",
       "      <td>CVN_35</td>\n",
       "      <td>0.15</td>\n",
       "      <td>NaN</td>\n",
       "      <td>Case 3: All junctions with insufficient reads</td>\n",
       "      <td>Case 3</td>\n",
       "      <td>NaN</td>\n",
       "      <td>9.0</td>\n",
       "      <td>NaN</td>\n",
       "      <td>NaN</td>\n",
       "      <td>NaN</td>\n",
       "      <td>NaN</td>\n",
       "      <td>SE</td>\n",
       "      <td>NPC</td>\n",
       "    </tr>\n",
       "    <tr>\n",
       "      <th>1</th>\n",
       "      <td>chr10:100174766:100174978:-@chr10:100174489:10...</td>\n",
       "      <td>CVN_17</td>\n",
       "      <td>0.09</td>\n",
       "      <td>NaN</td>\n",
       "      <td>Case 3: All junctions with insufficient reads</td>\n",
       "      <td>Case 3</td>\n",
       "      <td>NaN</td>\n",
       "      <td>7.0</td>\n",
       "      <td>NaN</td>\n",
       "      <td>NaN</td>\n",
       "      <td>NaN</td>\n",
       "      <td>NaN</td>\n",
       "      <td>SE</td>\n",
       "      <td>NPC</td>\n",
       "    </tr>\n",
       "    <tr>\n",
       "      <th>2</th>\n",
       "      <td>chr10:100186972:100187021:-@chr10:100185575:10...</td>\n",
       "      <td>M2_05</td>\n",
       "      <td>0.94</td>\n",
       "      <td>NaN</td>\n",
       "      <td>Case 4: Only one junction with sufficient reads</td>\n",
       "      <td>Case 4</td>\n",
       "      <td>NaN</td>\n",
       "      <td>NaN</td>\n",
       "      <td>NaN</td>\n",
       "      <td>23.0</td>\n",
       "      <td>NaN</td>\n",
       "      <td>NaN</td>\n",
       "      <td>SE</td>\n",
       "      <td>MN</td>\n",
       "    </tr>\n",
       "    <tr>\n",
       "      <th>3</th>\n",
       "      <td>chr10:100186972:100187021:-@chr10:100185575:10...</td>\n",
       "      <td>MSA_31</td>\n",
       "      <td>0.85</td>\n",
       "      <td>NaN</td>\n",
       "      <td>Case 3: All junctions with insufficient reads</td>\n",
       "      <td>Case 3</td>\n",
       "      <td>5.0</td>\n",
       "      <td>NaN</td>\n",
       "      <td>NaN</td>\n",
       "      <td>NaN</td>\n",
       "      <td>NaN</td>\n",
       "      <td>NaN</td>\n",
       "      <td>SE</td>\n",
       "      <td>NaN</td>\n",
       "    </tr>\n",
       "    <tr>\n",
       "      <th>4</th>\n",
       "      <td>chr10:100186972:100187021:-@chr10:100185575:10...</td>\n",
       "      <td>P2_12</td>\n",
       "      <td>0.98</td>\n",
       "      <td>1.0</td>\n",
       "      <td>Case 7: Inclusion</td>\n",
       "      <td>Case 7</td>\n",
       "      <td>32.0</td>\n",
       "      <td>NaN</td>\n",
       "      <td>NaN</td>\n",
       "      <td>46.0</td>\n",
       "      <td>NaN</td>\n",
       "      <td>NaN</td>\n",
       "      <td>SE</td>\n",
       "      <td>iPSC</td>\n",
       "    </tr>\n",
       "  </tbody>\n",
       "</table>\n",
       "</div>"
      ],
      "text/plain": [
       "                                             miso_id sample_id  miso_psi  \\\n",
       "0  chr10:100150355:100150511:-@chr10:100148111:10...    CVN_35      0.15   \n",
       "1  chr10:100174766:100174978:-@chr10:100174489:10...    CVN_17      0.09   \n",
       "2  chr10:100186972:100187021:-@chr10:100185575:10...     M2_05      0.94   \n",
       "3  chr10:100186972:100187021:-@chr10:100185575:10...    MSA_31      0.85   \n",
       "4  chr10:100186972:100187021:-@chr10:100185575:10...     P2_12      0.98   \n",
       "\n",
       "   outrigger_psi                                            notes  \\\n",
       "0            NaN    Case 3: All junctions with insufficient reads   \n",
       "1            NaN    Case 3: All junctions with insufficient reads   \n",
       "2            NaN  Case 4: Only one junction with sufficient reads   \n",
       "3            NaN    Case 3: All junctions with insufficient reads   \n",
       "4            1.0                                Case 7: Inclusion   \n",
       "\n",
       "  notes_abbrev  junction_12  junction_13  junction_14  junction_23  \\\n",
       "0       Case 3          NaN          9.0          NaN          NaN   \n",
       "1       Case 3          NaN          7.0          NaN          NaN   \n",
       "2       Case 4          NaN          NaN          NaN         23.0   \n",
       "3       Case 3          5.0          NaN          NaN          NaN   \n",
       "4       Case 7         32.0          NaN          NaN         46.0   \n",
       "\n",
       "   junction_24  junction_34 splice_type phenotype  \n",
       "0          NaN          NaN          SE       NPC  \n",
       "1          NaN          NaN          SE       NPC  \n",
       "2          NaN          NaN          SE        MN  \n",
       "3          NaN          NaN          SE       NaN  \n",
       "4          NaN          NaN          SE      iPSC  "
      ]
     },
     "execution_count": 5,
     "metadata": {},
     "output_type": "execute_result"
    }
   ],
   "source": [
    "miso_psi_comparison_dropna_junctions_phenotype = miso_psi_comparison_dropna_junctions.join(study.sample_id_to_phenotype, \n",
    "                                                                                           on='sample_id')\n",
    "print(miso_psi_comparison_dropna_junctions_phenotype.shape)\n",
    "miso_psi_comparison_dropna_junctions_phenotype.head()"
   ]
  },
  {
   "cell_type": "code",
   "execution_count": 6,
   "metadata": {
    "collapsed": false
   },
   "outputs": [
    {
     "data": {
      "text/plain": [
       "36526"
      ]
     },
     "execution_count": 6,
     "metadata": {},
     "output_type": "execute_result"
    }
   ],
   "source": [
    "len(miso_psi_comparison_dropna_junctions_phenotype.groupby(['miso_id']).size())"
   ]
  },
  {
   "cell_type": "code",
   "execution_count": 7,
   "metadata": {
    "collapsed": false
   },
   "outputs": [
    {
     "name": "stdout",
     "output_type": "stream",
     "text": [
      "(572973, 14)\n"
     ]
    },
    {
     "data": {
      "text/html": [
       "<div>\n",
       "<table border=\"1\" class=\"dataframe\">\n",
       "  <thead>\n",
       "    <tr style=\"text-align: right;\">\n",
       "      <th></th>\n",
       "      <th>miso_id</th>\n",
       "      <th>sample_id</th>\n",
       "      <th>miso_psi</th>\n",
       "      <th>outrigger_psi</th>\n",
       "      <th>notes</th>\n",
       "      <th>notes_abbrev</th>\n",
       "      <th>junction_12</th>\n",
       "      <th>junction_13</th>\n",
       "      <th>junction_14</th>\n",
       "      <th>junction_23</th>\n",
       "      <th>junction_24</th>\n",
       "      <th>junction_34</th>\n",
       "      <th>splice_type</th>\n",
       "      <th>phenotype</th>\n",
       "    </tr>\n",
       "  </thead>\n",
       "  <tbody>\n",
       "    <tr>\n",
       "      <th>0</th>\n",
       "      <td>chr10:100150355:100150511:-@chr10:100148111:10...</td>\n",
       "      <td>CVN_35</td>\n",
       "      <td>0.15</td>\n",
       "      <td>NaN</td>\n",
       "      <td>Case 3: All junctions with insufficient reads</td>\n",
       "      <td>Case 3</td>\n",
       "      <td>NaN</td>\n",
       "      <td>9.0</td>\n",
       "      <td>NaN</td>\n",
       "      <td>NaN</td>\n",
       "      <td>NaN</td>\n",
       "      <td>NaN</td>\n",
       "      <td>SE</td>\n",
       "      <td>NPC</td>\n",
       "    </tr>\n",
       "    <tr>\n",
       "      <th>1</th>\n",
       "      <td>chr10:100174766:100174978:-@chr10:100174489:10...</td>\n",
       "      <td>CVN_17</td>\n",
       "      <td>0.09</td>\n",
       "      <td>NaN</td>\n",
       "      <td>Case 3: All junctions with insufficient reads</td>\n",
       "      <td>Case 3</td>\n",
       "      <td>NaN</td>\n",
       "      <td>7.0</td>\n",
       "      <td>NaN</td>\n",
       "      <td>NaN</td>\n",
       "      <td>NaN</td>\n",
       "      <td>NaN</td>\n",
       "      <td>SE</td>\n",
       "      <td>NPC</td>\n",
       "    </tr>\n",
       "    <tr>\n",
       "      <th>2</th>\n",
       "      <td>chr10:100186972:100187021:-@chr10:100185575:10...</td>\n",
       "      <td>M2_05</td>\n",
       "      <td>0.94</td>\n",
       "      <td>NaN</td>\n",
       "      <td>Case 4: Only one junction with sufficient reads</td>\n",
       "      <td>Case 4</td>\n",
       "      <td>NaN</td>\n",
       "      <td>NaN</td>\n",
       "      <td>NaN</td>\n",
       "      <td>23.0</td>\n",
       "      <td>NaN</td>\n",
       "      <td>NaN</td>\n",
       "      <td>SE</td>\n",
       "      <td>MN</td>\n",
       "    </tr>\n",
       "    <tr>\n",
       "      <th>3</th>\n",
       "      <td>chr10:100186972:100187021:-@chr10:100185575:10...</td>\n",
       "      <td>MSA_31</td>\n",
       "      <td>0.85</td>\n",
       "      <td>NaN</td>\n",
       "      <td>Case 3: All junctions with insufficient reads</td>\n",
       "      <td>Case 3</td>\n",
       "      <td>5.0</td>\n",
       "      <td>NaN</td>\n",
       "      <td>NaN</td>\n",
       "      <td>NaN</td>\n",
       "      <td>NaN</td>\n",
       "      <td>NaN</td>\n",
       "      <td>SE</td>\n",
       "      <td>NaN</td>\n",
       "    </tr>\n",
       "    <tr>\n",
       "      <th>6</th>\n",
       "      <td>chr10:100186972:100187021:-@chr10:100185575:10...</td>\n",
       "      <td>M4_05</td>\n",
       "      <td>0.82</td>\n",
       "      <td>NaN</td>\n",
       "      <td>Case 4: Only one junction with sufficient reads</td>\n",
       "      <td>Case 4</td>\n",
       "      <td>10.0</td>\n",
       "      <td>NaN</td>\n",
       "      <td>NaN</td>\n",
       "      <td>7.0</td>\n",
       "      <td>NaN</td>\n",
       "      <td>NaN</td>\n",
       "      <td>SE</td>\n",
       "      <td>MN</td>\n",
       "    </tr>\n",
       "  </tbody>\n",
       "</table>\n",
       "</div>"
      ],
      "text/plain": [
       "                                             miso_id sample_id  miso_psi  \\\n",
       "0  chr10:100150355:100150511:-@chr10:100148111:10...    CVN_35      0.15   \n",
       "1  chr10:100174766:100174978:-@chr10:100174489:10...    CVN_17      0.09   \n",
       "2  chr10:100186972:100187021:-@chr10:100185575:10...     M2_05      0.94   \n",
       "3  chr10:100186972:100187021:-@chr10:100185575:10...    MSA_31      0.85   \n",
       "6  chr10:100186972:100187021:-@chr10:100185575:10...     M4_05      0.82   \n",
       "\n",
       "   outrigger_psi                                            notes  \\\n",
       "0            NaN    Case 3: All junctions with insufficient reads   \n",
       "1            NaN    Case 3: All junctions with insufficient reads   \n",
       "2            NaN  Case 4: Only one junction with sufficient reads   \n",
       "3            NaN    Case 3: All junctions with insufficient reads   \n",
       "6            NaN  Case 4: Only one junction with sufficient reads   \n",
       "\n",
       "  notes_abbrev  junction_12  junction_13  junction_14  junction_23  \\\n",
       "0       Case 3          NaN          9.0          NaN          NaN   \n",
       "1       Case 3          NaN          7.0          NaN          NaN   \n",
       "2       Case 4          NaN          NaN          NaN         23.0   \n",
       "3       Case 3          5.0          NaN          NaN          NaN   \n",
       "6       Case 4         10.0          NaN          NaN          7.0   \n",
       "\n",
       "   junction_24  junction_34 splice_type phenotype  \n",
       "0          NaN          NaN          SE       NPC  \n",
       "1          NaN          NaN          SE       NPC  \n",
       "2          NaN          NaN          SE        MN  \n",
       "3          NaN          NaN          SE       NaN  \n",
       "6          NaN          NaN          SE        MN  "
      ]
     },
     "execution_count": 7,
     "metadata": {},
     "output_type": "execute_result"
    }
   ],
   "source": [
    "outrigger_na = miso_psi_comparison_dropna_junctions_phenotype.loc[miso_psi_comparison_dropna_junctions_phenotype['outrigger_psi'].isnull()]\n",
    "print(outrigger_na.shape)\n",
    "outrigger_na.head()"
   ]
  },
  {
   "cell_type": "code",
   "execution_count": 8,
   "metadata": {
    "collapsed": false
   },
   "outputs": [
    {
     "data": {
      "text/plain": [
       "33332"
      ]
     },
     "execution_count": 8,
     "metadata": {},
     "output_type": "execute_result"
    }
   ],
   "source": [
    "len(outrigger_na.groupby('miso_id').size())"
   ]
  },
  {
   "cell_type": "code",
   "execution_count": 9,
   "metadata": {
    "collapsed": false
   },
   "outputs": [
    {
     "data": {
      "image/png": "[encoded data removed]",
      "text/plain": [
       "<matplotlib.figure.Figure at 0x2b8919160850>"
      ]
     },
     "metadata": {},
     "output_type": "display_data"
    }
   ],
   "source": [
    "fig, ax = plt.subplots(figsize=(1.5, 1.5))\n",
    "sns.distplot(outrigger_na.groupby(['miso_id']).size(), color='crimson', kde=False)\n",
    "fig.savefig('{}/outrigger_na_distplot.pdf'.format(figure_folder))"
   ]
  },
  {
   "cell_type": "code",
   "execution_count": 10,
   "metadata": {
    "collapsed": false
   },
   "outputs": [
    {
     "name": "stdout",
     "output_type": "stream",
     "text": [
      "(74406, 4)\n"
     ]
    },
    {
     "data": {
      "text/html": [
       "<div>\n",
       "<table border=\"1\" class=\"dataframe\">\n",
       "  <thead>\n",
       "    <tr style=\"text-align: right;\">\n",
       "      <th></th>\n",
       "      <th>miso_id</th>\n",
       "      <th>phenotype</th>\n",
       "      <th>splice_type</th>\n",
       "      <th>n_samples</th>\n",
       "    </tr>\n",
       "  </thead>\n",
       "  <tbody>\n",
       "    <tr>\n",
       "      <th>0</th>\n",
       "      <td>chr10:100150355:100150511:-@chr10:100148111:10...</td>\n",
       "      <td>NPC</td>\n",
       "      <td>SE</td>\n",
       "      <td>1</td>\n",
       "    </tr>\n",
       "    <tr>\n",
       "      <th>1</th>\n",
       "      <td>chr10:100174766:100174978:-@chr10:100174489:10...</td>\n",
       "      <td>NPC</td>\n",
       "      <td>SE</td>\n",
       "      <td>1</td>\n",
       "    </tr>\n",
       "    <tr>\n",
       "      <th>2</th>\n",
       "      <td>chr10:100186972:100187021:-@chr10:100185575:10...</td>\n",
       "      <td>MN</td>\n",
       "      <td>SE</td>\n",
       "      <td>2</td>\n",
       "    </tr>\n",
       "    <tr>\n",
       "      <th>3</th>\n",
       "      <td>chr10:100190328:100190427:-@chr10:100189548:10...</td>\n",
       "      <td>NPC</td>\n",
       "      <td>SE</td>\n",
       "      <td>1</td>\n",
       "    </tr>\n",
       "    <tr>\n",
       "      <th>4</th>\n",
       "      <td>chr10:100190328:100190427:-@chr10:100189548:10...</td>\n",
       "      <td>iPSC</td>\n",
       "      <td>SE</td>\n",
       "      <td>1</td>\n",
       "    </tr>\n",
       "  </tbody>\n",
       "</table>\n",
       "</div>"
      ],
      "text/plain": [
       "                                             miso_id phenotype splice_type  \\\n",
       "0  chr10:100150355:100150511:-@chr10:100148111:10...       NPC          SE   \n",
       "1  chr10:100174766:100174978:-@chr10:100174489:10...       NPC          SE   \n",
       "2  chr10:100186972:100187021:-@chr10:100185575:10...        MN          SE   \n",
       "3  chr10:100190328:100190427:-@chr10:100189548:10...       NPC          SE   \n",
       "4  chr10:100190328:100190427:-@chr10:100189548:10...      iPSC          SE   \n",
       "\n",
       "   n_samples  \n",
       "0          1  \n",
       "1          1  \n",
       "2          2  \n",
       "3          1  \n",
       "4          1  "
      ]
     },
     "execution_count": 10,
     "metadata": {},
     "output_type": "execute_result"
    }
   ],
   "source": [
    "outrigger_na_phenotype_id = outrigger_na.groupby(['miso_id', 'phenotype', 'splice_type']).size().reset_index()\n",
    "outrigger_na_phenotype_id = outrigger_na_phenotype_id.rename(columns={0: 'n_samples'})\n",
    "print(outrigger_na_phenotype_id.shape)\n",
    "outrigger_na_phenotype_id.head()"
   ]
  },
  {
   "cell_type": "code",
   "execution_count": 11,
   "metadata": {
    "collapsed": false
   },
   "outputs": [
    {
     "name": "stdout",
     "output_type": "stream",
     "text": [
      "(36545, 6)\n"
     ]
    },
    {
     "data": {
      "text/html": [
       "<div>\n",
       "<table border=\"1\" class=\"dataframe\">\n",
       "  <thead>\n",
       "    <tr style=\"text-align: right;\">\n",
       "      <th></th>\n",
       "      <th>miso_id</th>\n",
       "      <th>phenotype</th>\n",
       "      <th>splice_type</th>\n",
       "      <th>n_samples</th>\n",
       "      <th>event_id</th>\n",
       "      <th>modality</th>\n",
       "    </tr>\n",
       "  </thead>\n",
       "  <tbody>\n",
       "    <tr>\n",
       "      <th>0</th>\n",
       "      <td>chr10:100190328:100190427:-@chr10:100189548:10...</td>\n",
       "      <td>iPSC</td>\n",
       "      <td>SE</td>\n",
       "      <td>1</td>\n",
       "      <td>chr10:100190328:100190427:-@chr10:100189548:10...</td>\n",
       "      <td>bimodal</td>\n",
       "    </tr>\n",
       "    <tr>\n",
       "      <th>1</th>\n",
       "      <td>chr10:100193697:100193848:-@chr10:100190888:10...</td>\n",
       "      <td>iPSC</td>\n",
       "      <td>SE</td>\n",
       "      <td>8</td>\n",
       "      <td>chr10:100193697:100193848:-@chr10:100190888:10...</td>\n",
       "      <td>uncategorized</td>\n",
       "    </tr>\n",
       "    <tr>\n",
       "      <th>2</th>\n",
       "      <td>chr10:100193740:100193848:-@chr10:100190888:10...</td>\n",
       "      <td>iPSC</td>\n",
       "      <td>SE</td>\n",
       "      <td>4</td>\n",
       "      <td>chr10:100193740:100193848:-@chr10:100190888:10...</td>\n",
       "      <td>uncategorized</td>\n",
       "    </tr>\n",
       "    <tr>\n",
       "      <th>3</th>\n",
       "      <td>chr10:100195392:100195529:-@chr10:100195029:10...</td>\n",
       "      <td>iPSC</td>\n",
       "      <td>SE</td>\n",
       "      <td>2</td>\n",
       "      <td>chr10:100195392:100195529:-@chr10:100195029:10...</td>\n",
       "      <td>uncategorized</td>\n",
       "    </tr>\n",
       "    <tr>\n",
       "      <th>4</th>\n",
       "      <td>chr10:101507014:101507147:+@chr10:101510126:10...</td>\n",
       "      <td>NPC</td>\n",
       "      <td>SE</td>\n",
       "      <td>1</td>\n",
       "      <td>chr10:101507014:101507147:+@chr10:101510126:10...</td>\n",
       "      <td>uncategorized</td>\n",
       "    </tr>\n",
       "  </tbody>\n",
       "</table>\n",
       "</div>"
      ],
      "text/plain": [
       "                                             miso_id phenotype splice_type  \\\n",
       "0  chr10:100190328:100190427:-@chr10:100189548:10...      iPSC          SE   \n",
       "1  chr10:100193697:100193848:-@chr10:100190888:10...      iPSC          SE   \n",
       "2  chr10:100193740:100193848:-@chr10:100190888:10...      iPSC          SE   \n",
       "3  chr10:100195392:100195529:-@chr10:100195029:10...      iPSC          SE   \n",
       "4  chr10:101507014:101507147:+@chr10:101510126:10...       NPC          SE   \n",
       "\n",
       "   n_samples                                           event_id       modality  \n",
       "0          1  chr10:100190328:100190427:-@chr10:100189548:10...        bimodal  \n",
       "1          8  chr10:100193697:100193848:-@chr10:100190888:10...  uncategorized  \n",
       "2          4  chr10:100193740:100193848:-@chr10:100190888:10...  uncategorized  \n",
       "3          2  chr10:100195392:100195529:-@chr10:100195029:10...  uncategorized  \n",
       "4          1  chr10:101507014:101507147:+@chr10:101510126:10...  uncategorized  "
      ]
     },
     "execution_count": 11,
     "metadata": {},
     "output_type": "execute_result"
    }
   ],
   "source": [
    "left_cols = ['miso_id', 'phenotype']\n",
    "right_cols = ['event_id', 'phenotype']\n",
    "\n",
    "outrigger_na_phenotype_id_modalities = outrigger_na_phenotype_id.merge(study.supplemental.modalities_tidy, \n",
    "                                                                       left_on=left_cols, right_on=right_cols)\n",
    "print(outrigger_na_phenotype_id_modalities.shape)\n",
    "outrigger_na_phenotype_id_modalities.head()"
   ]
  },
  {
   "cell_type": "code",
   "execution_count": 12,
   "metadata": {
    "collapsed": false
   },
   "outputs": [
    {
     "data": {
      "text/html": [
       "<div>\n",
       "<table border=\"1\" class=\"dataframe\">\n",
       "  <thead>\n",
       "    <tr style=\"text-align: right;\">\n",
       "      <th></th>\n",
       "      <th>phenotype</th>\n",
       "      <th>modality</th>\n",
       "      <th>miso_id</th>\n",
       "      <th>splice_type</th>\n",
       "      <th>n_samples</th>\n",
       "      <th># AS events</th>\n",
       "    </tr>\n",
       "  </thead>\n",
       "  <tbody>\n",
       "    <tr>\n",
       "      <th>0</th>\n",
       "      <td>MN</td>\n",
       "      <td>bimodal</td>\n",
       "      <td>996</td>\n",
       "      <td>996</td>\n",
       "      <td>996</td>\n",
       "      <td>996</td>\n",
       "    </tr>\n",
       "    <tr>\n",
       "      <th>1</th>\n",
       "      <td>MN</td>\n",
       "      <td>excluded</td>\n",
       "      <td>2207</td>\n",
       "      <td>2207</td>\n",
       "      <td>2207</td>\n",
       "      <td>2207</td>\n",
       "    </tr>\n",
       "    <tr>\n",
       "      <th>2</th>\n",
       "      <td>MN</td>\n",
       "      <td>included</td>\n",
       "      <td>2332</td>\n",
       "      <td>2332</td>\n",
       "      <td>2332</td>\n",
       "      <td>2332</td>\n",
       "    </tr>\n",
       "    <tr>\n",
       "      <th>3</th>\n",
       "      <td>MN</td>\n",
       "      <td>middle</td>\n",
       "      <td>26</td>\n",
       "      <td>26</td>\n",
       "      <td>26</td>\n",
       "      <td>26</td>\n",
       "    </tr>\n",
       "    <tr>\n",
       "      <th>4</th>\n",
       "      <td>MN</td>\n",
       "      <td>uncategorized</td>\n",
       "      <td>2679</td>\n",
       "      <td>2679</td>\n",
       "      <td>2679</td>\n",
       "      <td>2679</td>\n",
       "    </tr>\n",
       "  </tbody>\n",
       "</table>\n",
       "</div>"
      ],
      "text/plain": [
       "  phenotype       modality  miso_id  splice_type  n_samples  # AS events\n",
       "0        MN        bimodal      996          996        996          996\n",
       "1        MN       excluded     2207         2207       2207         2207\n",
       "2        MN       included     2332         2332       2332         2332\n",
       "3        MN         middle       26           26         26           26\n",
       "4        MN  uncategorized     2679         2679       2679         2679"
      ]
     },
     "execution_count": 12,
     "metadata": {},
     "output_type": "execute_result"
    }
   ],
   "source": [
    "modalities_counts = outrigger_na_phenotype_id_modalities.groupby(['phenotype', 'modality',]).count().reset_index()\n",
    "modalities_counts = modalities_counts.rename(columns={'event_id': '# AS events'})\n",
    "modalities_counts.head()"
   ]
  },
  {
   "cell_type": "code",
   "execution_count": 13,
   "metadata": {
    "collapsed": true
   },
   "outputs": [],
   "source": [
    "from anchor import MODALITY_ORDER, MODALITY_PALETTE, MODALITY_TO_COLOR"
   ]
  },
  {
   "cell_type": "code",
   "execution_count": 14,
   "metadata": {
    "collapsed": false
   },
   "outputs": [
    {
     "data": {
      "text/html": [
       "<div>\n",
       "<table border=\"1\" class=\"dataframe\">\n",
       "  <thead>\n",
       "    <tr style=\"text-align: right;\">\n",
       "      <th>phenotype</th>\n",
       "      <th>iPSC</th>\n",
       "      <th>NPC</th>\n",
       "      <th>MN</th>\n",
       "    </tr>\n",
       "    <tr>\n",
       "      <th>modality</th>\n",
       "      <th></th>\n",
       "      <th></th>\n",
       "      <th></th>\n",
       "    </tr>\n",
       "  </thead>\n",
       "  <tbody>\n",
       "    <tr>\n",
       "      <th>excluded</th>\n",
       "      <td>4264</td>\n",
       "      <td>3090</td>\n",
       "      <td>2207</td>\n",
       "    </tr>\n",
       "    <tr>\n",
       "      <th>bimodal</th>\n",
       "      <td>778</td>\n",
       "      <td>740</td>\n",
       "      <td>996</td>\n",
       "    </tr>\n",
       "    <tr>\n",
       "      <th>included</th>\n",
       "      <td>5398</td>\n",
       "      <td>3699</td>\n",
       "      <td>2332</td>\n",
       "    </tr>\n",
       "    <tr>\n",
       "      <th>middle</th>\n",
       "      <td>107</td>\n",
       "      <td>53</td>\n",
       "      <td>26</td>\n",
       "    </tr>\n",
       "    <tr>\n",
       "      <th>uncategorized</th>\n",
       "      <td>5629</td>\n",
       "      <td>4547</td>\n",
       "      <td>2679</td>\n",
       "    </tr>\n",
       "  </tbody>\n",
       "</table>\n",
       "</div>"
      ],
      "text/plain": [
       "phenotype      iPSC   NPC    MN\n",
       "modality                       \n",
       "excluded       4264  3090  2207\n",
       "bimodal         778   740   996\n",
       "included       5398  3699  2332\n",
       "middle          107    53    26\n",
       "uncategorized  5629  4547  2679"
      ]
     },
     "execution_count": 14,
     "metadata": {},
     "output_type": "execute_result"
    }
   ],
   "source": [
    "modalities_counts_2d = modalities_counts.pivot(index='phenotype', columns='modality', values='# AS events')\n",
    "modalities_counts_2d = modalities_counts_2d.reindex(columns=MODALITY_ORDER, index=study.phenotype_order)\n",
    "modalities_counts_2d = modalities_counts_2d.T\n",
    "modalities_counts_2d"
   ]
  },
  {
   "cell_type": "code",
   "execution_count": 15,
   "metadata": {
    "collapsed": false
   },
   "outputs": [
    {
     "data": {
      "image/png": "[encoded data removed]",
      "text/plain": [
       "<matplotlib.figure.Figure at 0x2b88cbd72050>"
      ]
     },
     "metadata": {},
     "output_type": "display_data"
    }
   ],
   "source": [
    "sns.set(style='ticks', context='paper')\n",
    "fig, ax= plt.subplots(figsize=(2.75, 1.5))\n",
    "mask = modalities_counts_2d.isnull()\n",
    "sns.heatmap(modalities_counts_2d, annot=True, mask=mask, fmt='g', annot_kws=dict(size=9), \n",
    "            cmap='Greys', linewidth=1, linecolor='grey')\n",
    "fig.tight_layout()\n",
    "fig.savefig('{}/modalities_counts_heatmap.pdf'.format(figure_folder))"
   ]
  },
  {
   "cell_type": "code",
   "execution_count": 16,
   "metadata": {
    "collapsed": false
   },
   "outputs": [
    {
     "data": {
      "text/html": [
       "<div>\n",
       "<table border=\"1\" class=\"dataframe\">\n",
       "  <thead>\n",
       "    <tr style=\"text-align: right;\">\n",
       "      <th></th>\n",
       "      <th>phenotype</th>\n",
       "      <th>modality</th>\n",
       "      <th>miso_id</th>\n",
       "      <th>splice_type</th>\n",
       "      <th>n_samples</th>\n",
       "      <th># AS events</th>\n",
       "      <th>percentage</th>\n",
       "    </tr>\n",
       "  </thead>\n",
       "  <tbody>\n",
       "    <tr>\n",
       "      <th>0</th>\n",
       "      <td>MN</td>\n",
       "      <td>bimodal</td>\n",
       "      <td>996</td>\n",
       "      <td>996</td>\n",
       "      <td>996</td>\n",
       "      <td>996</td>\n",
       "      <td>12.087379</td>\n",
       "    </tr>\n",
       "    <tr>\n",
       "      <th>1</th>\n",
       "      <td>MN</td>\n",
       "      <td>excluded</td>\n",
       "      <td>2207</td>\n",
       "      <td>2207</td>\n",
       "      <td>2207</td>\n",
       "      <td>2207</td>\n",
       "      <td>26.783981</td>\n",
       "    </tr>\n",
       "    <tr>\n",
       "      <th>2</th>\n",
       "      <td>MN</td>\n",
       "      <td>included</td>\n",
       "      <td>2332</td>\n",
       "      <td>2332</td>\n",
       "      <td>2332</td>\n",
       "      <td>2332</td>\n",
       "      <td>28.300971</td>\n",
       "    </tr>\n",
       "    <tr>\n",
       "      <th>3</th>\n",
       "      <td>MN</td>\n",
       "      <td>middle</td>\n",
       "      <td>26</td>\n",
       "      <td>26</td>\n",
       "      <td>26</td>\n",
       "      <td>26</td>\n",
       "      <td>0.315534</td>\n",
       "    </tr>\n",
       "    <tr>\n",
       "      <th>4</th>\n",
       "      <td>MN</td>\n",
       "      <td>uncategorized</td>\n",
       "      <td>2679</td>\n",
       "      <td>2679</td>\n",
       "      <td>2679</td>\n",
       "      <td>2679</td>\n",
       "      <td>32.512136</td>\n",
       "    </tr>\n",
       "    <tr>\n",
       "      <th>5</th>\n",
       "      <td>NPC</td>\n",
       "      <td>bimodal</td>\n",
       "      <td>740</td>\n",
       "      <td>740</td>\n",
       "      <td>740</td>\n",
       "      <td>740</td>\n",
       "      <td>6.101080</td>\n",
       "    </tr>\n",
       "    <tr>\n",
       "      <th>6</th>\n",
       "      <td>NPC</td>\n",
       "      <td>excluded</td>\n",
       "      <td>3090</td>\n",
       "      <td>3090</td>\n",
       "      <td>3090</td>\n",
       "      <td>3090</td>\n",
       "      <td>25.476132</td>\n",
       "    </tr>\n",
       "    <tr>\n",
       "      <th>7</th>\n",
       "      <td>NPC</td>\n",
       "      <td>included</td>\n",
       "      <td>3699</td>\n",
       "      <td>3699</td>\n",
       "      <td>3699</td>\n",
       "      <td>3699</td>\n",
       "      <td>30.497156</td>\n",
       "    </tr>\n",
       "    <tr>\n",
       "      <th>8</th>\n",
       "      <td>NPC</td>\n",
       "      <td>middle</td>\n",
       "      <td>53</td>\n",
       "      <td>53</td>\n",
       "      <td>53</td>\n",
       "      <td>53</td>\n",
       "      <td>0.436969</td>\n",
       "    </tr>\n",
       "    <tr>\n",
       "      <th>9</th>\n",
       "      <td>NPC</td>\n",
       "      <td>uncategorized</td>\n",
       "      <td>4547</td>\n",
       "      <td>4547</td>\n",
       "      <td>4547</td>\n",
       "      <td>4547</td>\n",
       "      <td>37.488664</td>\n",
       "    </tr>\n",
       "    <tr>\n",
       "      <th>10</th>\n",
       "      <td>iPSC</td>\n",
       "      <td>bimodal</td>\n",
       "      <td>778</td>\n",
       "      <td>778</td>\n",
       "      <td>778</td>\n",
       "      <td>778</td>\n",
       "      <td>4.809594</td>\n",
       "    </tr>\n",
       "    <tr>\n",
       "      <th>11</th>\n",
       "      <td>iPSC</td>\n",
       "      <td>excluded</td>\n",
       "      <td>4264</td>\n",
       "      <td>4264</td>\n",
       "      <td>4264</td>\n",
       "      <td>4264</td>\n",
       "      <td>26.360040</td>\n",
       "    </tr>\n",
       "    <tr>\n",
       "      <th>12</th>\n",
       "      <td>iPSC</td>\n",
       "      <td>included</td>\n",
       "      <td>5398</td>\n",
       "      <td>5398</td>\n",
       "      <td>5398</td>\n",
       "      <td>5398</td>\n",
       "      <td>33.370425</td>\n",
       "    </tr>\n",
       "    <tr>\n",
       "      <th>13</th>\n",
       "      <td>iPSC</td>\n",
       "      <td>middle</td>\n",
       "      <td>107</td>\n",
       "      <td>107</td>\n",
       "      <td>107</td>\n",
       "      <td>107</td>\n",
       "      <td>0.661474</td>\n",
       "    </tr>\n",
       "    <tr>\n",
       "      <th>14</th>\n",
       "      <td>iPSC</td>\n",
       "      <td>uncategorized</td>\n",
       "      <td>5629</td>\n",
       "      <td>5629</td>\n",
       "      <td>5629</td>\n",
       "      <td>5629</td>\n",
       "      <td>34.798467</td>\n",
       "    </tr>\n",
       "  </tbody>\n",
       "</table>\n",
       "</div>"
      ],
      "text/plain": [
       "   phenotype       modality  miso_id  splice_type  n_samples  # AS events  \\\n",
       "0         MN        bimodal      996          996        996          996   \n",
       "1         MN       excluded     2207         2207       2207         2207   \n",
       "2         MN       included     2332         2332       2332         2332   \n",
       "3         MN         middle       26           26         26           26   \n",
       "4         MN  uncategorized     2679         2679       2679         2679   \n",
       "5        NPC        bimodal      740          740        740          740   \n",
       "6        NPC       excluded     3090         3090       3090         3090   \n",
       "7        NPC       included     3699         3699       3699         3699   \n",
       "8        NPC         middle       53           53         53           53   \n",
       "9        NPC  uncategorized     4547         4547       4547         4547   \n",
       "10      iPSC        bimodal      778          778        778          778   \n",
       "11      iPSC       excluded     4264         4264       4264         4264   \n",
       "12      iPSC       included     5398         5398       5398         5398   \n",
       "13      iPSC         middle      107          107        107          107   \n",
       "14      iPSC  uncategorized     5629         5629       5629         5629   \n",
       "\n",
       "    percentage  \n",
       "0    12.087379  \n",
       "1    26.783981  \n",
       "2    28.300971  \n",
       "3     0.315534  \n",
       "4    32.512136  \n",
       "5     6.101080  \n",
       "6    25.476132  \n",
       "7    30.497156  \n",
       "8     0.436969  \n",
       "9    37.488664  \n",
       "10    4.809594  \n",
       "11   26.360040  \n",
       "12   33.370425  \n",
       "13    0.661474  \n",
       "14   34.798467  "
      ]
     },
     "execution_count": 16,
     "metadata": {},
     "output_type": "execute_result"
    }
   ],
   "source": [
    "modalities_counts['percentage'] = 100*modalities_counts.groupby('phenotype')['# AS events'].apply(lambda x: x/x.sum())\n",
    "modalities_counts"
   ]
  },
  {
   "cell_type": "code",
   "execution_count": 17,
   "metadata": {
    "collapsed": false
   },
   "outputs": [
    {
     "name": "stderr",
     "output_type": "stream",
     "text": [
      "/home/obotvinnik/anaconda/lib/python2.7/site-packages/seaborn/categorical.py:2894: UserWarning: The `x_order` parameter has been renamed `order`\n",
      "  UserWarning)\n"
     ]
    },
    {
     "data": {
      "image/png": "[encoded data removed]",
      "text/plain": [
       "<matplotlib.figure.Figure at 0x2b8918578a50>"
      ]
     },
     "metadata": {},
     "output_type": "display_data"
    }
   ],
   "source": [
    "\n",
    "fig, ax = plt.subplots(figsize=(2, 1.5))\n",
    "\n",
    "# ax = axes[0]\n",
    "sns.barplot(x='phenotype', hue='modality', y='percentage', data=modalities_counts, ax=ax,\n",
    "            hue_order=MODALITY_ORDER, palette=MODALITY_PALETTE, x_order=study.phenotype_order, zorder=-1)\n",
    "ax.legend_.set_visible(False)\n",
    "ax.locator_params('y', nbins=4)\n",
    "ax.set(ylabel='% False Positive AS Exons')\n",
    "ax.grid(axis='y', color='white', zorder=100)\n",
    "sns.despine()\n",
    "fig.savefig('{}/modalities_barplot.pdf'.format(folder))\n",
    "\n",
    "# ax.set(ylim=(0, 1))\n",
    "# # ax.grid(axis='y', color='grey', zorder=np.inf)\n",
    "# fig.savefig('{}/modalities_barplot_zoom.pdf'.format(folder))\n"
   ]
  },
  {
   "cell_type": "code",
   "execution_count": 18,
   "metadata": {
    "collapsed": false
   },
   "outputs": [
    {
     "data": {
      "text/html": [
       "<div>\n",
       "<table border=\"1\" class=\"dataframe\">\n",
       "  <thead>\n",
       "    <tr style=\"text-align: right;\">\n",
       "      <th></th>\n",
       "      <th>phenotype</th>\n",
       "      <th>modality</th>\n",
       "      <th>splice_type</th>\n",
       "      <th>miso_id</th>\n",
       "      <th>n_samples</th>\n",
       "      <th># AS events</th>\n",
       "    </tr>\n",
       "  </thead>\n",
       "  <tbody>\n",
       "    <tr>\n",
       "      <th>0</th>\n",
       "      <td>MN</td>\n",
       "      <td>bimodal</td>\n",
       "      <td>MXE</td>\n",
       "      <td>105</td>\n",
       "      <td>105</td>\n",
       "      <td>105</td>\n",
       "    </tr>\n",
       "    <tr>\n",
       "      <th>1</th>\n",
       "      <td>MN</td>\n",
       "      <td>bimodal</td>\n",
       "      <td>SE</td>\n",
       "      <td>891</td>\n",
       "      <td>891</td>\n",
       "      <td>891</td>\n",
       "    </tr>\n",
       "    <tr>\n",
       "      <th>2</th>\n",
       "      <td>MN</td>\n",
       "      <td>excluded</td>\n",
       "      <td>MXE</td>\n",
       "      <td>353</td>\n",
       "      <td>353</td>\n",
       "      <td>353</td>\n",
       "    </tr>\n",
       "    <tr>\n",
       "      <th>3</th>\n",
       "      <td>MN</td>\n",
       "      <td>excluded</td>\n",
       "      <td>SE</td>\n",
       "      <td>1854</td>\n",
       "      <td>1854</td>\n",
       "      <td>1854</td>\n",
       "    </tr>\n",
       "    <tr>\n",
       "      <th>4</th>\n",
       "      <td>MN</td>\n",
       "      <td>included</td>\n",
       "      <td>MXE</td>\n",
       "      <td>238</td>\n",
       "      <td>238</td>\n",
       "      <td>238</td>\n",
       "    </tr>\n",
       "  </tbody>\n",
       "</table>\n",
       "</div>"
      ],
      "text/plain": [
       "  phenotype  modality splice_type  miso_id  n_samples  # AS events\n",
       "0        MN   bimodal         MXE      105        105          105\n",
       "1        MN   bimodal          SE      891        891          891\n",
       "2        MN  excluded         MXE      353        353          353\n",
       "3        MN  excluded          SE     1854       1854         1854\n",
       "4        MN  included         MXE      238        238          238"
      ]
     },
     "execution_count": 18,
     "metadata": {},
     "output_type": "execute_result"
    }
   ],
   "source": [
    "modalities_counts_splice_types = outrigger_na_phenotype_id_modalities.groupby(['phenotype', 'modality', 'splice_type']).count().reset_index()\n",
    "modalities_counts_splice_types = modalities_counts_splice_types.rename(columns={'event_id': '# AS events'})\n",
    "modalities_counts_splice_types.head()"
   ]
  },
  {
   "cell_type": "code",
   "execution_count": 19,
   "metadata": {
    "collapsed": false
   },
   "outputs": [
    {
     "data": {
      "text/html": [
       "<div>\n",
       "<table border=\"1\" class=\"dataframe\">\n",
       "  <thead>\n",
       "    <tr style=\"text-align: right;\">\n",
       "      <th></th>\n",
       "      <th>phenotype</th>\n",
       "      <th>modality</th>\n",
       "      <th>splice_type</th>\n",
       "      <th>miso_id</th>\n",
       "      <th>n_samples</th>\n",
       "      <th># AS events</th>\n",
       "      <th>percentage</th>\n",
       "    </tr>\n",
       "  </thead>\n",
       "  <tbody>\n",
       "    <tr>\n",
       "      <th>0</th>\n",
       "      <td>MN</td>\n",
       "      <td>bimodal</td>\n",
       "      <td>MXE</td>\n",
       "      <td>105</td>\n",
       "      <td>105</td>\n",
       "      <td>105</td>\n",
       "      <td>1.652762</td>\n",
       "    </tr>\n",
       "    <tr>\n",
       "      <th>1</th>\n",
       "      <td>MN</td>\n",
       "      <td>bimodal</td>\n",
       "      <td>SE</td>\n",
       "      <td>891</td>\n",
       "      <td>891</td>\n",
       "      <td>891</td>\n",
       "      <td>2.951113</td>\n",
       "    </tr>\n",
       "    <tr>\n",
       "      <th>2</th>\n",
       "      <td>MN</td>\n",
       "      <td>excluded</td>\n",
       "      <td>MXE</td>\n",
       "      <td>353</td>\n",
       "      <td>353</td>\n",
       "      <td>353</td>\n",
       "      <td>5.556430</td>\n",
       "    </tr>\n",
       "    <tr>\n",
       "      <th>3</th>\n",
       "      <td>MN</td>\n",
       "      <td>excluded</td>\n",
       "      <td>SE</td>\n",
       "      <td>1854</td>\n",
       "      <td>1854</td>\n",
       "      <td>1854</td>\n",
       "      <td>6.140700</td>\n",
       "    </tr>\n",
       "    <tr>\n",
       "      <th>4</th>\n",
       "      <td>MN</td>\n",
       "      <td>included</td>\n",
       "      <td>MXE</td>\n",
       "      <td>238</td>\n",
       "      <td>238</td>\n",
       "      <td>238</td>\n",
       "      <td>3.746262</td>\n",
       "    </tr>\n",
       "  </tbody>\n",
       "</table>\n",
       "</div>"
      ],
      "text/plain": [
       "  phenotype  modality splice_type  miso_id  n_samples  # AS events  percentage\n",
       "0        MN   bimodal         MXE      105        105          105    1.652762\n",
       "1        MN   bimodal          SE      891        891          891    2.951113\n",
       "2        MN  excluded         MXE      353        353          353    5.556430\n",
       "3        MN  excluded          SE     1854       1854         1854    6.140700\n",
       "4        MN  included         MXE      238        238          238    3.746262"
      ]
     },
     "execution_count": 19,
     "metadata": {},
     "output_type": "execute_result"
    }
   ],
   "source": [
    "modalities_counts_splice_types['percentage'] = 100*modalities_counts_splice_types.groupby('splice_type')['# AS events'].apply(lambda x: x/x.sum())\n",
    "modalities_counts_splice_types.head()"
   ]
  },
  {
   "cell_type": "code",
   "execution_count": 20,
   "metadata": {
    "collapsed": false
   },
   "outputs": [
    {
     "data": {
      "image/png": "[encoded data removed]",
      "text/plain": [
       "<matplotlib.figure.Figure at 0x2b89155435d0>"
      ]
     },
     "metadata": {},
     "output_type": "display_data"
    }
   ],
   "source": [
    "\n",
    "fig, ax = plt.subplots(figsize=(2, 1.5))\n",
    "\n",
    "# ax = axes[0]\n",
    "sns.barplot(x='splice_type', hue='modality', y='percentage', data=modalities_counts_splice_types, ax=ax,\n",
    "            hue_order=MODALITY_ORDER, palette=MODALITY_PALETTE, #x_order=study.phenotype_order, \n",
    "            zorder=-1)\n",
    "ax.legend_.set_visible(False)\n",
    "ax.locator_params('y', nbins=4)\n",
    "ax.set(ylabel='% False Positive AS Exons')\n",
    "ax.grid(axis='y', color='white', zorder=100)\n",
    "sns.despine()\n",
    "fig.savefig('{}/modalities_barplot_splice_types.pdf'.format(folder))\n",
    "\n",
    "# ax.set(ylim=(0, 1))\n",
    "# # ax.grid(axis='y', color='grey', zorder=np.inf)\n",
    "# fig.savefig('{}/modalities_barplot_zoom.pdf'.format(folder))\n"
   ]
  },
  {
   "cell_type": "code",
   "execution_count": null,
   "metadata": {
    "collapsed": true
   },
   "outputs": [],
   "source": []
  }
 ],
 "metadata": {
  "kernelspec": {
   "display_name": "Python 2",
   "language": "python",
   "name": "python2"
  },
  "language_info": {
   "codemirror_mode": {
    "name": "ipython",
    "version": 2
   },
   "file_extension": ".py",
   "mimetype": "text/x-python",
   "name": "python",
   "nbconvert_exporter": "python",
   "pygments_lexer": "ipython2",
   "version": "2.7.11"
  }
 },
 "nbformat": 4,
 "nbformat_minor": 0
}
