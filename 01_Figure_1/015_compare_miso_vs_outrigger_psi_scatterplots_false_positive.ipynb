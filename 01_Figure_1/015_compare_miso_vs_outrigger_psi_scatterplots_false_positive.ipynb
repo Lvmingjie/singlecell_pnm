{
 "cells": [
  {
   "cell_type": "code",
   "execution_count": 1,
   "metadata": {
    "collapsed": false
   },
   "outputs": [
    {
     "name": "stderr",
     "output_type": "stream",
     "text": [
      "/home/obotvinnik/anaconda/lib/python2.7/site-packages/sklearn/cross_validation.py:44: DeprecationWarning: This module was deprecated in version 0.18 in favor of the model_selection module into which all the refactored classes and functions are moved. Also note that the interface of the new CV iterators are different from that of this module. This module will be removed in 0.20.\n",
      "  \"This module will be removed in 0.20.\", DeprecationWarning)\n"
     ]
    }
   ],
   "source": [
    "from collections import defaultdict\n",
    "\n",
    "import matplotlib as mpl\n",
    "import matplotlib.pyplot as plt\n",
    "import numpy as np\n",
    "import pandas as pd\n",
    "import seaborn as sns\n",
    "\n",
    "%matplotlib inline\n",
    "\n",
    "\n",
    "import flotilla\n",
    "sns.set(style='white', context='paper', rc={'font.sans-serif':'Arial', 'pdf.fonttype': 42})\n",
    "\n",
    "folder = 'figures'\n",
    "\n",
    "flotilla_dir = '/projects/ps-yeolab/obotvinnik/flotilla_projects/'\n",
    "\n",
    "# study = flotilla.embark('singlecell_pnm_figure1_supplementary_post_splicing_filtering', flotilla_dir=flotilla_dir)"
   ]
  },
  {
   "cell_type": "code",
   "execution_count": 2,
   "metadata": {
    "collapsed": true
   },
   "outputs": [],
   "source": [
    "csv = '/projects/ps-yeolab/obotvinnik/singlecell_pnms/csvs_for_paper/miso_ids_outrigger_calculated_psi_unstranded.csv'"
   ]
  },
  {
   "cell_type": "code",
   "execution_count": 3,
   "metadata": {
    "collapsed": false
   },
   "outputs": [
    {
     "name": "stdout",
     "output_type": "stream",
     "text": [
      "(1807125, 5)\n"
     ]
    },
    {
     "data": {
      "text/html": [
       "<div>\n",
       "<table border=\"1\" class=\"dataframe\">\n",
       "  <thead>\n",
       "    <tr style=\"text-align: right;\">\n",
       "      <th></th>\n",
       "      <th>sample_id</th>\n",
       "      <th>miso_id</th>\n",
       "      <th>outrigger_psi</th>\n",
       "      <th>notes_abbrev</th>\n",
       "      <th>notes</th>\n",
       "    </tr>\n",
       "  </thead>\n",
       "  <tbody>\n",
       "    <tr>\n",
       "      <th>0</th>\n",
       "      <td>CVN_35</td>\n",
       "      <td>chr10:100150355:100150511:-@chr10:100148111:10...</td>\n",
       "      <td>NaN</td>\n",
       "      <td>Case 3</td>\n",
       "      <td>Case 3: All junctions with insufficient reads</td>\n",
       "    </tr>\n",
       "    <tr>\n",
       "      <th>1</th>\n",
       "      <td>CVN_17</td>\n",
       "      <td>chr10:100174766:100174978:-@chr10:100174489:10...</td>\n",
       "      <td>NaN</td>\n",
       "      <td>Case 3</td>\n",
       "      <td>Case 3: All junctions with insufficient reads</td>\n",
       "    </tr>\n",
       "    <tr>\n",
       "      <th>2</th>\n",
       "      <td>CVN_35</td>\n",
       "      <td>chr10:100174766:100174978:-@chr10:100174489:10...</td>\n",
       "      <td>NaN</td>\n",
       "      <td>Case 3</td>\n",
       "      <td>Case 3: All junctions with insufficient reads</td>\n",
       "    </tr>\n",
       "    <tr>\n",
       "      <th>3</th>\n",
       "      <td>M2nd_33</td>\n",
       "      <td>chr10:100174766:100174978:-@chr10:100174489:10...</td>\n",
       "      <td>NaN</td>\n",
       "      <td>Case 3</td>\n",
       "      <td>Case 3: All junctions with insufficient reads</td>\n",
       "    </tr>\n",
       "    <tr>\n",
       "      <th>4</th>\n",
       "      <td>M2nd_34</td>\n",
       "      <td>chr10:100174766:100174978:-@chr10:100174489:10...</td>\n",
       "      <td>NaN</td>\n",
       "      <td>Case 3</td>\n",
       "      <td>Case 3: All junctions with insufficient reads</td>\n",
       "    </tr>\n",
       "  </tbody>\n",
       "</table>\n",
       "</div>"
      ],
      "text/plain": [
       "  sample_id                                            miso_id  outrigger_psi  \\\n",
       "0    CVN_35  chr10:100150355:100150511:-@chr10:100148111:10...            NaN   \n",
       "1    CVN_17  chr10:100174766:100174978:-@chr10:100174489:10...            NaN   \n",
       "2    CVN_35  chr10:100174766:100174978:-@chr10:100174489:10...            NaN   \n",
       "3   M2nd_33  chr10:100174766:100174978:-@chr10:100174489:10...            NaN   \n",
       "4   M2nd_34  chr10:100174766:100174978:-@chr10:100174489:10...            NaN   \n",
       "\n",
       "  notes_abbrev                                          notes  \n",
       "0       Case 3  Case 3: All junctions with insufficient reads  \n",
       "1       Case 3  Case 3: All junctions with insufficient reads  \n",
       "2       Case 3  Case 3: All junctions with insufficient reads  \n",
       "3       Case 3  Case 3: All junctions with insufficient reads  \n",
       "4       Case 3  Case 3: All junctions with insufficient reads  "
      ]
     },
     "execution_count": 3,
     "metadata": {},
     "output_type": "execute_result"
    }
   ],
   "source": [
    "miso_calculated_psi = pd.read_csv(csv)\n",
    "print(miso_calculated_psi.shape)\n",
    "miso_calculated_psi.head()"
   ]
  },
  {
   "cell_type": "code",
   "execution_count": 4,
   "metadata": {
    "collapsed": false
   },
   "outputs": [
    {
     "name": "stdout",
     "output_type": "stream",
     "text": [
      "(275, 63201)\n"
     ]
    },
    {
     "data": {
      "text/html": [
       "<div>\n",
       "<table border=\"1\" class=\"dataframe\">\n",
       "  <thead>\n",
       "    <tr style=\"text-align: right;\">\n",
       "      <th></th>\n",
       "      <th>chr10:100148111:100148265:-@chr10:100147622:100147841:-@chr10:100146958:100147064:-</th>\n",
       "      <th>chr10:100150355:100150511:-@chr10:100148111:100148265:-@chr10:100146958:100147064:-</th>\n",
       "      <th>chr10:100150839:100150628|100150767:-@chr10:100150355:100150511:-</th>\n",
       "      <th>chr10:100170715:100170370|100170696:-@chr10:100167661:100167754:-</th>\n",
       "      <th>chr10:100174766:100174978:-@chr10:100174489:100174591:-@chr10:100173705:100174052:-</th>\n",
       "      <th>chr10:100185575:100185742:-@chr10:100185441|100185477:100185298:-</th>\n",
       "      <th>chr10:100186972:100187021:-@chr10:100185575:100185742:-@chr10:100185298:100185477:-</th>\n",
       "      <th>chr10:100190328:100190427:-@chr10:100189548:100189646:-@chr10:100189330:100189399:-</th>\n",
       "      <th>chr10:100193697:100193848:-@chr10:100190888:100191048:-@chr10:100190328:100190427:-</th>\n",
       "      <th>chr10:100193740:100193848:-@chr10:100190888:100191048:-@chr10:100190328:100190427:-</th>\n",
       "      <th>...</th>\n",
       "      <th>chrY:59222127:59222216|59222281:+@chrY:59230782:59230919:+</th>\n",
       "      <th>chrY:59222127:59222277|59222281:+@chrY:59230782:59230919:+</th>\n",
       "      <th>chrY:59222127:59222281:+@chrY:59228292:59228349:+@chrY:59230782:59230919:+</th>\n",
       "      <th>chrY:59233167:59233257:+@chrY:59252483:59252550:+@chrY:59272371:59272463:+</th>\n",
       "      <th>chrY:6780129:6780213:+@chrY:6846254:6846284:+@chrY:6863845:6863939:+@chrY:6889490:6889578:+</th>\n",
       "      <th>chrY:6846254:6846284:+@chrY:6863845:6863939:+@chrY:6889490:6889578:+</th>\n",
       "      <th>chrY:6889490:6889578:+@chrY:6893076:6893183:+@chrY:6911021:6911166:+</th>\n",
       "      <th>chrY:6931938:6932190:+@chrY:6934736:6934869:+@chrY:6938237:6938369:+</th>\n",
       "      <th>chrY:9236076-9236162:+@chrY:9236424-9236561:+</th>\n",
       "      <th>chrY:9365535-9365621:+@chrY:9365883-9366020:+</th>\n",
       "    </tr>\n",
       "  </thead>\n",
       "  <tbody>\n",
       "    <tr>\n",
       "      <th>M1_01</th>\n",
       "      <td>NaN</td>\n",
       "      <td>NaN</td>\n",
       "      <td>NaN</td>\n",
       "      <td>NaN</td>\n",
       "      <td>NaN</td>\n",
       "      <td>NaN</td>\n",
       "      <td>NaN</td>\n",
       "      <td>NaN</td>\n",
       "      <td>NaN</td>\n",
       "      <td>NaN</td>\n",
       "      <td>...</td>\n",
       "      <td>NaN</td>\n",
       "      <td>NaN</td>\n",
       "      <td>NaN</td>\n",
       "      <td>NaN</td>\n",
       "      <td>NaN</td>\n",
       "      <td>NaN</td>\n",
       "      <td>NaN</td>\n",
       "      <td>NaN</td>\n",
       "      <td>NaN</td>\n",
       "      <td>NaN</td>\n",
       "    </tr>\n",
       "    <tr>\n",
       "      <th>M1_02</th>\n",
       "      <td>NaN</td>\n",
       "      <td>NaN</td>\n",
       "      <td>NaN</td>\n",
       "      <td>NaN</td>\n",
       "      <td>NaN</td>\n",
       "      <td>NaN</td>\n",
       "      <td>NaN</td>\n",
       "      <td>NaN</td>\n",
       "      <td>NaN</td>\n",
       "      <td>NaN</td>\n",
       "      <td>...</td>\n",
       "      <td>NaN</td>\n",
       "      <td>NaN</td>\n",
       "      <td>NaN</td>\n",
       "      <td>NaN</td>\n",
       "      <td>NaN</td>\n",
       "      <td>NaN</td>\n",
       "      <td>NaN</td>\n",
       "      <td>NaN</td>\n",
       "      <td>NaN</td>\n",
       "      <td>NaN</td>\n",
       "    </tr>\n",
       "    <tr>\n",
       "      <th>M1_03</th>\n",
       "      <td>NaN</td>\n",
       "      <td>NaN</td>\n",
       "      <td>NaN</td>\n",
       "      <td>NaN</td>\n",
       "      <td>NaN</td>\n",
       "      <td>NaN</td>\n",
       "      <td>NaN</td>\n",
       "      <td>NaN</td>\n",
       "      <td>NaN</td>\n",
       "      <td>NaN</td>\n",
       "      <td>...</td>\n",
       "      <td>0.87</td>\n",
       "      <td>0.82</td>\n",
       "      <td>0.94</td>\n",
       "      <td>0.97</td>\n",
       "      <td>NaN</td>\n",
       "      <td>NaN</td>\n",
       "      <td>NaN</td>\n",
       "      <td>NaN</td>\n",
       "      <td>NaN</td>\n",
       "      <td>NaN</td>\n",
       "    </tr>\n",
       "    <tr>\n",
       "      <th>M1_04</th>\n",
       "      <td>NaN</td>\n",
       "      <td>NaN</td>\n",
       "      <td>NaN</td>\n",
       "      <td>NaN</td>\n",
       "      <td>NaN</td>\n",
       "      <td>NaN</td>\n",
       "      <td>NaN</td>\n",
       "      <td>NaN</td>\n",
       "      <td>NaN</td>\n",
       "      <td>NaN</td>\n",
       "      <td>...</td>\n",
       "      <td>NaN</td>\n",
       "      <td>NaN</td>\n",
       "      <td>NaN</td>\n",
       "      <td>NaN</td>\n",
       "      <td>NaN</td>\n",
       "      <td>NaN</td>\n",
       "      <td>NaN</td>\n",
       "      <td>NaN</td>\n",
       "      <td>NaN</td>\n",
       "      <td>NaN</td>\n",
       "    </tr>\n",
       "    <tr>\n",
       "      <th>M1_05</th>\n",
       "      <td>NaN</td>\n",
       "      <td>NaN</td>\n",
       "      <td>NaN</td>\n",
       "      <td>NaN</td>\n",
       "      <td>NaN</td>\n",
       "      <td>NaN</td>\n",
       "      <td>NaN</td>\n",
       "      <td>NaN</td>\n",
       "      <td>NaN</td>\n",
       "      <td>NaN</td>\n",
       "      <td>...</td>\n",
       "      <td>NaN</td>\n",
       "      <td>NaN</td>\n",
       "      <td>NaN</td>\n",
       "      <td>NaN</td>\n",
       "      <td>NaN</td>\n",
       "      <td>NaN</td>\n",
       "      <td>NaN</td>\n",
       "      <td>NaN</td>\n",
       "      <td>NaN</td>\n",
       "      <td>NaN</td>\n",
       "    </tr>\n",
       "  </tbody>\n",
       "</table>\n",
       "<p>5 rows × 63201 columns</p>\n",
       "</div>"
      ],
      "text/plain": [
       "       chr10:100148111:100148265:-@chr10:100147622:100147841:-@chr10:100146958:100147064:-  \\\n",
       "M1_01                                                NaN                                     \n",
       "M1_02                                                NaN                                     \n",
       "M1_03                                                NaN                                     \n",
       "M1_04                                                NaN                                     \n",
       "M1_05                                                NaN                                     \n",
       "\n",
       "       chr10:100150355:100150511:-@chr10:100148111:100148265:-@chr10:100146958:100147064:-  \\\n",
       "M1_01                                                NaN                                     \n",
       "M1_02                                                NaN                                     \n",
       "M1_03                                                NaN                                     \n",
       "M1_04                                                NaN                                     \n",
       "M1_05                                                NaN                                     \n",
       "\n",
       "       chr10:100150839:100150628|100150767:-@chr10:100150355:100150511:-  \\\n",
       "M1_01                                                NaN                   \n",
       "M1_02                                                NaN                   \n",
       "M1_03                                                NaN                   \n",
       "M1_04                                                NaN                   \n",
       "M1_05                                                NaN                   \n",
       "\n",
       "       chr10:100170715:100170370|100170696:-@chr10:100167661:100167754:-  \\\n",
       "M1_01                                                NaN                   \n",
       "M1_02                                                NaN                   \n",
       "M1_03                                                NaN                   \n",
       "M1_04                                                NaN                   \n",
       "M1_05                                                NaN                   \n",
       "\n",
       "       chr10:100174766:100174978:-@chr10:100174489:100174591:-@chr10:100173705:100174052:-  \\\n",
       "M1_01                                                NaN                                     \n",
       "M1_02                                                NaN                                     \n",
       "M1_03                                                NaN                                     \n",
       "M1_04                                                NaN                                     \n",
       "M1_05                                                NaN                                     \n",
       "\n",
       "       chr10:100185575:100185742:-@chr10:100185441|100185477:100185298:-  \\\n",
       "M1_01                                                NaN                   \n",
       "M1_02                                                NaN                   \n",
       "M1_03                                                NaN                   \n",
       "M1_04                                                NaN                   \n",
       "M1_05                                                NaN                   \n",
       "\n",
       "       chr10:100186972:100187021:-@chr10:100185575:100185742:-@chr10:100185298:100185477:-  \\\n",
       "M1_01                                                NaN                                     \n",
       "M1_02                                                NaN                                     \n",
       "M1_03                                                NaN                                     \n",
       "M1_04                                                NaN                                     \n",
       "M1_05                                                NaN                                     \n",
       "\n",
       "       chr10:100190328:100190427:-@chr10:100189548:100189646:-@chr10:100189330:100189399:-  \\\n",
       "M1_01                                                NaN                                     \n",
       "M1_02                                                NaN                                     \n",
       "M1_03                                                NaN                                     \n",
       "M1_04                                                NaN                                     \n",
       "M1_05                                                NaN                                     \n",
       "\n",
       "       chr10:100193697:100193848:-@chr10:100190888:100191048:-@chr10:100190328:100190427:-  \\\n",
       "M1_01                                                NaN                                     \n",
       "M1_02                                                NaN                                     \n",
       "M1_03                                                NaN                                     \n",
       "M1_04                                                NaN                                     \n",
       "M1_05                                                NaN                                     \n",
       "\n",
       "       chr10:100193740:100193848:-@chr10:100190888:100191048:-@chr10:100190328:100190427:-  \\\n",
       "M1_01                                                NaN                                     \n",
       "M1_02                                                NaN                                     \n",
       "M1_03                                                NaN                                     \n",
       "M1_04                                                NaN                                     \n",
       "M1_05                                                NaN                                     \n",
       "\n",
       "                           ...                        \\\n",
       "M1_01                      ...                         \n",
       "M1_02                      ...                         \n",
       "M1_03                      ...                         \n",
       "M1_04                      ...                         \n",
       "M1_05                      ...                         \n",
       "\n",
       "       chrY:59222127:59222216|59222281:+@chrY:59230782:59230919:+  \\\n",
       "M1_01                                                NaN            \n",
       "M1_02                                                NaN            \n",
       "M1_03                                               0.87            \n",
       "M1_04                                                NaN            \n",
       "M1_05                                                NaN            \n",
       "\n",
       "       chrY:59222127:59222277|59222281:+@chrY:59230782:59230919:+  \\\n",
       "M1_01                                                NaN            \n",
       "M1_02                                                NaN            \n",
       "M1_03                                               0.82            \n",
       "M1_04                                                NaN            \n",
       "M1_05                                                NaN            \n",
       "\n",
       "       chrY:59222127:59222281:+@chrY:59228292:59228349:+@chrY:59230782:59230919:+  \\\n",
       "M1_01                                                NaN                            \n",
       "M1_02                                                NaN                            \n",
       "M1_03                                               0.94                            \n",
       "M1_04                                                NaN                            \n",
       "M1_05                                                NaN                            \n",
       "\n",
       "       chrY:59233167:59233257:+@chrY:59252483:59252550:+@chrY:59272371:59272463:+  \\\n",
       "M1_01                                                NaN                            \n",
       "M1_02                                                NaN                            \n",
       "M1_03                                               0.97                            \n",
       "M1_04                                                NaN                            \n",
       "M1_05                                                NaN                            \n",
       "\n",
       "       chrY:6780129:6780213:+@chrY:6846254:6846284:+@chrY:6863845:6863939:+@chrY:6889490:6889578:+  \\\n",
       "M1_01                                                NaN                                             \n",
       "M1_02                                                NaN                                             \n",
       "M1_03                                                NaN                                             \n",
       "M1_04                                                NaN                                             \n",
       "M1_05                                                NaN                                             \n",
       "\n",
       "       chrY:6846254:6846284:+@chrY:6863845:6863939:+@chrY:6889490:6889578:+  \\\n",
       "M1_01                                                NaN                      \n",
       "M1_02                                                NaN                      \n",
       "M1_03                                                NaN                      \n",
       "M1_04                                                NaN                      \n",
       "M1_05                                                NaN                      \n",
       "\n",
       "       chrY:6889490:6889578:+@chrY:6893076:6893183:+@chrY:6911021:6911166:+  \\\n",
       "M1_01                                                NaN                      \n",
       "M1_02                                                NaN                      \n",
       "M1_03                                                NaN                      \n",
       "M1_04                                                NaN                      \n",
       "M1_05                                                NaN                      \n",
       "\n",
       "       chrY:6931938:6932190:+@chrY:6934736:6934869:+@chrY:6938237:6938369:+  \\\n",
       "M1_01                                                NaN                      \n",
       "M1_02                                                NaN                      \n",
       "M1_03                                                NaN                      \n",
       "M1_04                                                NaN                      \n",
       "M1_05                                                NaN                      \n",
       "\n",
       "       chrY:9236076-9236162:+@chrY:9236424-9236561:+  \\\n",
       "M1_01                                            NaN   \n",
       "M1_02                                            NaN   \n",
       "M1_03                                            NaN   \n",
       "M1_04                                            NaN   \n",
       "M1_05                                            NaN   \n",
       "\n",
       "       chrY:9365535-9365621:+@chrY:9365883-9366020:+  \n",
       "M1_01                                            NaN  \n",
       "M1_02                                            NaN  \n",
       "M1_03                                            NaN  \n",
       "M1_04                                            NaN  \n",
       "M1_05                                            NaN  \n",
       "\n",
       "[5 rows x 63201 columns]"
      ]
     },
     "execution_count": 4,
     "metadata": {},
     "output_type": "execute_result"
    }
   ],
   "source": [
    "miso_psi_filename = '/projects/ps-yeolab/obotvinnik/flotilla_projects/singlecell_pnms/splicing.csv.gz'\n",
    "miso_psi = pd.read_csv(miso_psi_filename, index_col=0, compression='gzip')\n",
    "print(miso_psi.shape)\n",
    "miso_psi.head()"
   ]
  },
  {
   "cell_type": "code",
   "execution_count": 5,
   "metadata": {
    "collapsed": false
   },
   "outputs": [
    {
     "name": "stdout",
     "output_type": "stream",
     "text": [
      "(275, 41750)\n"
     ]
    }
   ],
   "source": [
    "miso_psi_min_cells = miso_psi.loc[:, miso_psi.notnull().sum() >= 10]\n",
    "print(miso_psi_min_cells.shape)"
   ]
  },
  {
   "cell_type": "code",
   "execution_count": 6,
   "metadata": {
    "collapsed": false
   },
   "outputs": [
    {
     "name": "stdout",
     "output_type": "stream",
     "text": [
      "(17380275, 3)\n",
      "(17380275, 3)\n"
     ]
    },
    {
     "data": {
      "text/html": [
       "<div>\n",
       "<table border=\"1\" class=\"dataframe\">\n",
       "  <thead>\n",
       "    <tr style=\"text-align: right;\">\n",
       "      <th></th>\n",
       "      <th>miso_id</th>\n",
       "      <th>sample_id</th>\n",
       "      <th>miso_psi</th>\n",
       "    </tr>\n",
       "  </thead>\n",
       "  <tbody>\n",
       "    <tr>\n",
       "      <th>0</th>\n",
       "      <td>chr10:100148111:100148265:-@chr10:100147622:10...</td>\n",
       "      <td>M1_01</td>\n",
       "      <td>NaN</td>\n",
       "    </tr>\n",
       "    <tr>\n",
       "      <th>1</th>\n",
       "      <td>chr10:100148111:100148265:-@chr10:100147622:10...</td>\n",
       "      <td>M1_02</td>\n",
       "      <td>NaN</td>\n",
       "    </tr>\n",
       "    <tr>\n",
       "      <th>2</th>\n",
       "      <td>chr10:100148111:100148265:-@chr10:100147622:10...</td>\n",
       "      <td>M1_03</td>\n",
       "      <td>NaN</td>\n",
       "    </tr>\n",
       "    <tr>\n",
       "      <th>3</th>\n",
       "      <td>chr10:100148111:100148265:-@chr10:100147622:10...</td>\n",
       "      <td>M1_04</td>\n",
       "      <td>NaN</td>\n",
       "    </tr>\n",
       "    <tr>\n",
       "      <th>4</th>\n",
       "      <td>chr10:100148111:100148265:-@chr10:100147622:10...</td>\n",
       "      <td>M1_05</td>\n",
       "      <td>NaN</td>\n",
       "    </tr>\n",
       "  </tbody>\n",
       "</table>\n",
       "</div>"
      ],
      "text/plain": [
       "                                             miso_id sample_id  miso_psi\n",
       "0  chr10:100148111:100148265:-@chr10:100147622:10...     M1_01       NaN\n",
       "1  chr10:100148111:100148265:-@chr10:100147622:10...     M1_02       NaN\n",
       "2  chr10:100148111:100148265:-@chr10:100147622:10...     M1_03       NaN\n",
       "3  chr10:100148111:100148265:-@chr10:100147622:10...     M1_04       NaN\n",
       "4  chr10:100148111:100148265:-@chr10:100147622:10...     M1_05       NaN"
      ]
     },
     "execution_count": 6,
     "metadata": {},
     "output_type": "execute_result"
    }
   ],
   "source": [
    "miso_psi_tidy = miso_psi.unstack().reset_index()\n",
    "miso_psi_tidy = miso_psi_tidy.rename(columns={'level_0':'miso_id', 'level_1':'sample_id', 0:'miso_psi'})\n",
    "print(miso_psi_tidy.shape)\n",
    "# miso_psi_tidy = miso_psi_tidy.dropna()\n",
    "print(miso_psi_tidy.shape)\n",
    "miso_psi_tidy.head()"
   ]
  },
  {
   "cell_type": "code",
   "execution_count": 7,
   "metadata": {
    "collapsed": true
   },
   "outputs": [],
   "source": [
    "figure_folder = 'figures/015_compare_miso_vs_outrigger_psi_scatterplots_false_positive'\n",
    "! mkdir -p $figure_folder"
   ]
  },
  {
   "cell_type": "code",
   "execution_count": 8,
   "metadata": {
    "collapsed": false
   },
   "outputs": [],
   "source": [
    "from __future__ import print_function"
   ]
  },
  {
   "cell_type": "code",
   "execution_count": 9,
   "metadata": {
    "collapsed": false
   },
   "outputs": [
    {
     "data": {
      "text/plain": [
       "(1807125, 5)"
      ]
     },
     "execution_count": 9,
     "metadata": {},
     "output_type": "execute_result"
    }
   ],
   "source": [
    "miso_calculated_psi.shape"
   ]
  },
  {
   "cell_type": "code",
   "execution_count": 10,
   "metadata": {
    "collapsed": false
   },
   "outputs": [
    {
     "data": {
      "text/plain": [
       "(17380275, 3)"
      ]
     },
     "execution_count": 10,
     "metadata": {},
     "output_type": "execute_result"
    }
   ],
   "source": [
    "miso_psi_tidy.shape"
   ]
  },
  {
   "cell_type": "code",
   "execution_count": 11,
   "metadata": {
    "collapsed": false
   },
   "outputs": [
    {
     "name": "stdout",
     "output_type": "stream",
     "text": [
      "(1806872, 6)\n"
     ]
    },
    {
     "data": {
      "text/html": [
       "<div>\n",
       "<table border=\"1\" class=\"dataframe\">\n",
       "  <thead>\n",
       "    <tr style=\"text-align: right;\">\n",
       "      <th></th>\n",
       "      <th>miso_id</th>\n",
       "      <th>sample_id</th>\n",
       "      <th>miso_psi</th>\n",
       "      <th>outrigger_psi</th>\n",
       "      <th>notes_abbrev</th>\n",
       "      <th>notes</th>\n",
       "    </tr>\n",
       "  </thead>\n",
       "  <tbody>\n",
       "    <tr>\n",
       "      <th>0</th>\n",
       "      <td>chr10:100150355:100150511:-@chr10:100148111:10...</td>\n",
       "      <td>CVN_35</td>\n",
       "      <td>0.15</td>\n",
       "      <td>NaN</td>\n",
       "      <td>Case 3</td>\n",
       "      <td>Case 3: All junctions with insufficient reads</td>\n",
       "    </tr>\n",
       "    <tr>\n",
       "      <th>1</th>\n",
       "      <td>chr10:100174766:100174978:-@chr10:100174489:10...</td>\n",
       "      <td>M2nd_34</td>\n",
       "      <td>NaN</td>\n",
       "      <td>NaN</td>\n",
       "      <td>Case 3</td>\n",
       "      <td>Case 3: All junctions with insufficient reads</td>\n",
       "    </tr>\n",
       "    <tr>\n",
       "      <th>2</th>\n",
       "      <td>chr10:100174766:100174978:-@chr10:100174489:10...</td>\n",
       "      <td>M2nd_33</td>\n",
       "      <td>NaN</td>\n",
       "      <td>NaN</td>\n",
       "      <td>Case 3</td>\n",
       "      <td>Case 3: All junctions with insufficient reads</td>\n",
       "    </tr>\n",
       "    <tr>\n",
       "      <th>3</th>\n",
       "      <td>chr10:100174766:100174978:-@chr10:100174489:10...</td>\n",
       "      <td>CVN_17</td>\n",
       "      <td>0.09</td>\n",
       "      <td>NaN</td>\n",
       "      <td>Case 3</td>\n",
       "      <td>Case 3: All junctions with insufficient reads</td>\n",
       "    </tr>\n",
       "    <tr>\n",
       "      <th>4</th>\n",
       "      <td>chr10:100174766:100174978:-@chr10:100174489:10...</td>\n",
       "      <td>CVN_35</td>\n",
       "      <td>NaN</td>\n",
       "      <td>NaN</td>\n",
       "      <td>Case 3</td>\n",
       "      <td>Case 3: All junctions with insufficient reads</td>\n",
       "    </tr>\n",
       "  </tbody>\n",
       "</table>\n",
       "</div>"
      ],
      "text/plain": [
       "                                             miso_id sample_id  miso_psi  \\\n",
       "0  chr10:100150355:100150511:-@chr10:100148111:10...    CVN_35      0.15   \n",
       "1  chr10:100174766:100174978:-@chr10:100174489:10...   M2nd_34       NaN   \n",
       "2  chr10:100174766:100174978:-@chr10:100174489:10...   M2nd_33       NaN   \n",
       "3  chr10:100174766:100174978:-@chr10:100174489:10...    CVN_17      0.09   \n",
       "4  chr10:100174766:100174978:-@chr10:100174489:10...    CVN_35       NaN   \n",
       "\n",
       "   outrigger_psi notes_abbrev                                          notes  \n",
       "0            NaN       Case 3  Case 3: All junctions with insufficient reads  \n",
       "1            NaN       Case 3  Case 3: All junctions with insufficient reads  \n",
       "2            NaN       Case 3  Case 3: All junctions with insufficient reads  \n",
       "3            NaN       Case 3  Case 3: All junctions with insufficient reads  \n",
       "4            NaN       Case 3  Case 3: All junctions with insufficient reads  "
      ]
     },
     "execution_count": 11,
     "metadata": {},
     "output_type": "execute_result"
    }
   ],
   "source": [
    "cols = ['miso_id', 'sample_id']\n",
    "\n",
    "miso_psi_comparison = miso_psi_tidy.merge(miso_calculated_psi, left_on=cols, right_on=cols)\n",
    "print(miso_psi_comparison.shape)\n",
    "miso_psi_comparison.head()"
   ]
  },
  {
   "cell_type": "code",
   "execution_count": 12,
   "metadata": {
    "collapsed": false
   },
   "outputs": [
    {
     "name": "stdout",
     "output_type": "stream",
     "text": [
      "(1347828, 6)\n"
     ]
    },
    {
     "data": {
      "text/html": [
       "<div>\n",
       "<table border=\"1\" class=\"dataframe\">\n",
       "  <thead>\n",
       "    <tr style=\"text-align: right;\">\n",
       "      <th></th>\n",
       "      <th>miso_id</th>\n",
       "      <th>sample_id</th>\n",
       "      <th>miso_psi</th>\n",
       "      <th>outrigger_psi</th>\n",
       "      <th>notes_abbrev</th>\n",
       "      <th>notes</th>\n",
       "    </tr>\n",
       "  </thead>\n",
       "  <tbody>\n",
       "    <tr>\n",
       "      <th>0</th>\n",
       "      <td>chr10:100150355:100150511:-@chr10:100148111:10...</td>\n",
       "      <td>CVN_35</td>\n",
       "      <td>0.15</td>\n",
       "      <td>NaN</td>\n",
       "      <td>Case 3</td>\n",
       "      <td>Case 3: All junctions with insufficient reads</td>\n",
       "    </tr>\n",
       "    <tr>\n",
       "      <th>3</th>\n",
       "      <td>chr10:100174766:100174978:-@chr10:100174489:10...</td>\n",
       "      <td>CVN_17</td>\n",
       "      <td>0.09</td>\n",
       "      <td>NaN</td>\n",
       "      <td>Case 3</td>\n",
       "      <td>Case 3: All junctions with insufficient reads</td>\n",
       "    </tr>\n",
       "    <tr>\n",
       "      <th>5</th>\n",
       "      <td>chr10:100186972:100187021:-@chr10:100185575:10...</td>\n",
       "      <td>M2_05</td>\n",
       "      <td>0.94</td>\n",
       "      <td>NaN</td>\n",
       "      <td>Case 4</td>\n",
       "      <td>Case 4: Only one junction with sufficient reads</td>\n",
       "    </tr>\n",
       "    <tr>\n",
       "      <th>6</th>\n",
       "      <td>chr10:100186972:100187021:-@chr10:100185575:10...</td>\n",
       "      <td>MSA_31</td>\n",
       "      <td>0.85</td>\n",
       "      <td>NaN</td>\n",
       "      <td>Case 3</td>\n",
       "      <td>Case 3: All junctions with insufficient reads</td>\n",
       "    </tr>\n",
       "    <tr>\n",
       "      <th>7</th>\n",
       "      <td>chr10:100186972:100187021:-@chr10:100185575:10...</td>\n",
       "      <td>P2_12</td>\n",
       "      <td>0.98</td>\n",
       "      <td>1.0</td>\n",
       "      <td>Case 7</td>\n",
       "      <td>Case 7: Inclusion</td>\n",
       "    </tr>\n",
       "  </tbody>\n",
       "</table>\n",
       "</div>"
      ],
      "text/plain": [
       "                                             miso_id sample_id  miso_psi  \\\n",
       "0  chr10:100150355:100150511:-@chr10:100148111:10...    CVN_35      0.15   \n",
       "3  chr10:100174766:100174978:-@chr10:100174489:10...    CVN_17      0.09   \n",
       "5  chr10:100186972:100187021:-@chr10:100185575:10...     M2_05      0.94   \n",
       "6  chr10:100186972:100187021:-@chr10:100185575:10...    MSA_31      0.85   \n",
       "7  chr10:100186972:100187021:-@chr10:100185575:10...     P2_12      0.98   \n",
       "\n",
       "   outrigger_psi notes_abbrev                                            notes  \n",
       "0            NaN       Case 3    Case 3: All junctions with insufficient reads  \n",
       "3            NaN       Case 3    Case 3: All junctions with insufficient reads  \n",
       "5            NaN       Case 4  Case 4: Only one junction with sufficient reads  \n",
       "6            NaN       Case 3    Case 3: All junctions with insufficient reads  \n",
       "7            1.0       Case 7                                Case 7: Inclusion  "
      ]
     },
     "execution_count": 12,
     "metadata": {},
     "output_type": "execute_result"
    }
   ],
   "source": [
    "miso_psi_comparison_dropna = miso_psi_comparison.dropna(subset=['miso_psi', 'outrigger_psi'], how='all')\n",
    "print(miso_psi_comparison_dropna.shape)\n",
    "miso_psi_comparison_dropna.head()"
   ]
  },
  {
   "cell_type": "code",
   "execution_count": 13,
   "metadata": {
    "collapsed": false
   },
   "outputs": [
    {
     "data": {
      "text/plain": [
       "35229"
      ]
     },
     "execution_count": 13,
     "metadata": {},
     "output_type": "execute_result"
    }
   ],
   "source": [
    "len(miso_psi_comparison_dropna.groupby(['miso_id']).size())"
   ]
  },
  {
   "cell_type": "code",
   "execution_count": 14,
   "metadata": {
    "collapsed": false
   },
   "outputs": [
    {
     "data": {
      "text/plain": [
       "notes\n",
       "Case 10a: Isoform1 has 1+ junction with insufficient reads but Isoform2 with sufficient reads: There are sufficient junction reads       27821\n",
       "Case 10b: Isoform1 has 1+ junction with insufficient reads but Isoform2 with sufficient reads: There are insufficient junction reads       279\n",
       "Case 11a: Isoform1 and Isoform2 each have both sufficient and insufficient junctions: There are sufficient junction reads                   14\n",
       "Case 11b: Isoform1 and Isoform2 each have both sufficient and insufficient junctions: There are insufficient junction reads                  9\n",
       "Case 1: >= 10 reads on junctions that are incompatible with the annotation                                                              107471\n",
       "Case 2: Zero observed reads                                                                                                               3126\n",
       "Case 3: All junctions with insufficient reads                                                                                           127662\n",
       "Case 4: Only one junction with sufficient reads                                                                                         318434\n",
       "Case 5: Unequal read coverage (one side has at least 10x more reads)                                                                     37908\n",
       "Case 6: Exclusion                                                                                                                       361682\n",
       "Case 7: Inclusion                                                                                                                       293917\n",
       "Case 8: Sufficient reads on all junctions                                                                                                31311\n",
       "Case 9a: Isoform1 with sufficient reads but Isoform2 has 1+ junctions with insufficient reads: There are sufficient junction reads       34439\n",
       "Case 9b: Isoform1 with sufficient reads but Isoform2 has 1+ junctions with insufficient reads: There are insufficient junction reads      3755\n",
       "dtype: int64"
      ]
     },
     "execution_count": 14,
     "metadata": {},
     "output_type": "execute_result"
    }
   ],
   "source": [
    "miso_psi_comparison_dropna.groupby('notes').size()"
   ]
  },
  {
   "cell_type": "code",
   "execution_count": 15,
   "metadata": {
    "collapsed": false
   },
   "outputs": [
    {
     "name": "stdout",
     "output_type": "stream",
     "text": [
      "(1298728, 6)\n"
     ]
    },
    {
     "data": {
      "text/html": [
       "<div>\n",
       "<table border=\"1\" class=\"dataframe\">\n",
       "  <thead>\n",
       "    <tr style=\"text-align: right;\">\n",
       "      <th></th>\n",
       "      <th>miso_id</th>\n",
       "      <th>sample_id</th>\n",
       "      <th>miso_psi</th>\n",
       "      <th>outrigger_psi</th>\n",
       "      <th>notes_abbrev</th>\n",
       "      <th>notes</th>\n",
       "    </tr>\n",
       "  </thead>\n",
       "  <tbody>\n",
       "    <tr>\n",
       "      <th>12</th>\n",
       "      <td>chr10:100190328:100190427:-@chr10:100189548:10...</td>\n",
       "      <td>MSA_18</td>\n",
       "      <td>0.08</td>\n",
       "      <td>NaN</td>\n",
       "      <td>Case 3</td>\n",
       "      <td>Case 3: All junctions with insufficient reads</td>\n",
       "    </tr>\n",
       "    <tr>\n",
       "      <th>13</th>\n",
       "      <td>chr10:100190328:100190427:-@chr10:100189548:10...</td>\n",
       "      <td>MSA_24</td>\n",
       "      <td>1.00</td>\n",
       "      <td>1.0</td>\n",
       "      <td>Case 7</td>\n",
       "      <td>Case 7: Inclusion</td>\n",
       "    </tr>\n",
       "    <tr>\n",
       "      <th>15</th>\n",
       "      <td>chr10:100190328:100190427:-@chr10:100189548:10...</td>\n",
       "      <td>P1_06</td>\n",
       "      <td>NaN</td>\n",
       "      <td>1.0</td>\n",
       "      <td>Case 7</td>\n",
       "      <td>Case 7: Inclusion</td>\n",
       "    </tr>\n",
       "    <tr>\n",
       "      <th>16</th>\n",
       "      <td>chr10:100190328:100190427:-@chr10:100189548:10...</td>\n",
       "      <td>P1_08</td>\n",
       "      <td>0.88</td>\n",
       "      <td>NaN</td>\n",
       "      <td>Case 4</td>\n",
       "      <td>Case 4: Only one junction with sufficient reads</td>\n",
       "    </tr>\n",
       "    <tr>\n",
       "      <th>18</th>\n",
       "      <td>chr10:100190328:100190427:-@chr10:100189548:10...</td>\n",
       "      <td>P1_10</td>\n",
       "      <td>0.03</td>\n",
       "      <td>0.0</td>\n",
       "      <td>Case 6</td>\n",
       "      <td>Case 6: Exclusion</td>\n",
       "    </tr>\n",
       "  </tbody>\n",
       "</table>\n",
       "</div>"
      ],
      "text/plain": [
       "                                              miso_id sample_id  miso_psi  \\\n",
       "12  chr10:100190328:100190427:-@chr10:100189548:10...    MSA_18      0.08   \n",
       "13  chr10:100190328:100190427:-@chr10:100189548:10...    MSA_24      1.00   \n",
       "15  chr10:100190328:100190427:-@chr10:100189548:10...     P1_06       NaN   \n",
       "16  chr10:100190328:100190427:-@chr10:100189548:10...     P1_08      0.88   \n",
       "18  chr10:100190328:100190427:-@chr10:100189548:10...     P1_10      0.03   \n",
       "\n",
       "    outrigger_psi notes_abbrev  \\\n",
       "12            NaN       Case 3   \n",
       "13            1.0       Case 7   \n",
       "15            1.0       Case 7   \n",
       "16            NaN       Case 4   \n",
       "18            0.0       Case 6   \n",
       "\n",
       "                                              notes  \n",
       "12    Case 3: All junctions with insufficient reads  \n",
       "13                                Case 7: Inclusion  \n",
       "15                                Case 7: Inclusion  \n",
       "16  Case 4: Only one junction with sufficient reads  \n",
       "18                                Case 6: Exclusion  "
      ]
     },
     "execution_count": 15,
     "metadata": {},
     "output_type": "execute_result"
    }
   ],
   "source": [
    "miso_psi_comparison_dropna_min_cells = miso_psi_comparison_dropna.groupby('miso_id').filter(lambda x: len(x) >= 10)\n",
    "print(miso_psi_comparison_dropna_min_cells.shape)\n",
    "miso_psi_comparison_dropna_min_cells.head()"
   ]
  },
  {
   "cell_type": "code",
   "execution_count": 16,
   "metadata": {
    "collapsed": false
   },
   "outputs": [
    {
     "data": {
      "text/plain": [
       "22168"
      ]
     },
     "execution_count": 16,
     "metadata": {},
     "output_type": "execute_result"
    }
   ],
   "source": [
    "len(miso_psi_comparison_dropna_min_cells.groupby('miso_id').size())"
   ]
  },
  {
   "cell_type": "code",
   "execution_count": 17,
   "metadata": {
    "collapsed": false
   },
   "outputs": [
    {
     "data": {
      "text/plain": [
       "notes\n",
       "Case 10a: Isoform1 has 1+ junction with insufficient reads but Isoform2 with sufficient reads: There are sufficient junction reads       27462\n",
       "Case 10b: Isoform1 has 1+ junction with insufficient reads but Isoform2 with sufficient reads: There are insufficient junction reads       264\n",
       "Case 11a: Isoform1 and Isoform2 each have both sufficient and insufficient junctions: There are sufficient junction reads                   14\n",
       "Case 11b: Isoform1 and Isoform2 each have both sufficient and insufficient junctions: There are insufficient junction reads                  9\n",
       "Case 1: >= 10 reads on junctions that are incompatible with the annotation                                                              104926\n",
       "Case 2: Zero observed reads                                                                                                               2839\n",
       "Case 3: All junctions with insufficient reads                                                                                           116698\n",
       "Case 4: Only one junction with sufficient reads                                                                                         303250\n",
       "Case 5: Unequal read coverage (one side has at least 10x more reads)                                                                     37525\n",
       "Case 6: Exclusion                                                                                                                       349620\n",
       "Case 7: Inclusion                                                                                                                       287390\n",
       "Case 8: Sufficient reads on all junctions                                                                                                31214\n",
       "Case 9a: Isoform1 with sufficient reads but Isoform2 has 1+ junctions with insufficient reads: There are sufficient junction reads       33884\n",
       "Case 9b: Isoform1 with sufficient reads but Isoform2 has 1+ junctions with insufficient reads: There are insufficient junction reads      3633\n",
       "dtype: int64"
      ]
     },
     "execution_count": 17,
     "metadata": {},
     "output_type": "execute_result"
    }
   ],
   "source": [
    "miso_psi_comparison_dropna_min_cells.groupby('notes').size()"
   ]
  },
  {
   "cell_type": "code",
   "execution_count": 18,
   "metadata": {
    "collapsed": false
   },
   "outputs": [
    {
     "data": {
      "text/plain": [
       "['Case 1',\n",
       " 'Case 2',\n",
       " 'Case 3',\n",
       " 'Case 4',\n",
       " 'Case 5',\n",
       " 'Case 6',\n",
       " 'Case 7',\n",
       " 'Case 8',\n",
       " 'Case 9a',\n",
       " 'Case 9b',\n",
       " 'Case 10a',\n",
       " 'Case 10b',\n",
       " 'Case 11a',\n",
       " 'Case 11b']"
      ]
     },
     "execution_count": 18,
     "metadata": {},
     "output_type": "execute_result"
    }
   ],
   "source": [
    "case_order = ['Case {}'.format(i+1) for i in range(8)] + ['Case {}{}'.format(i+1, x) for i in range(8, 11) for x in 'ab']\n",
    "case_order"
   ]
  },
  {
   "cell_type": "code",
   "execution_count": 19,
   "metadata": {
    "collapsed": false
   },
   "outputs": [
    {
     "data": {
      "text/plain": [
       "(1347828, 6)"
      ]
     },
     "execution_count": 19,
     "metadata": {},
     "output_type": "execute_result"
    }
   ],
   "source": [
    "miso_psi_comparison_dropna.shape"
   ]
  },
  {
   "cell_type": "code",
   "execution_count": 20,
   "metadata": {
    "collapsed": false
   },
   "outputs": [
    {
     "name": "stdout",
     "output_type": "stream",
     "text": [
      "(1926274, 9)\n"
     ]
    },
    {
     "data": {
      "text/html": [
       "<div>\n",
       "<table border=\"1\" class=\"dataframe\">\n",
       "  <thead>\n",
       "    <tr style=\"text-align: right;\">\n",
       "      <th></th>\n",
       "      <th>sample_id</th>\n",
       "      <th>miso_id</th>\n",
       "      <th>junction_12</th>\n",
       "      <th>junction_13</th>\n",
       "      <th>junction_14</th>\n",
       "      <th>junction_23</th>\n",
       "      <th>junction_24</th>\n",
       "      <th>junction_34</th>\n",
       "      <th>splice_type</th>\n",
       "    </tr>\n",
       "  </thead>\n",
       "  <tbody>\n",
       "    <tr>\n",
       "      <th>0</th>\n",
       "      <td>CVN_35</td>\n",
       "      <td>chr10:100150355:100150511:-@chr10:100148111:10...</td>\n",
       "      <td>NaN</td>\n",
       "      <td>9.0</td>\n",
       "      <td>NaN</td>\n",
       "      <td>NaN</td>\n",
       "      <td>NaN</td>\n",
       "      <td>NaN</td>\n",
       "      <td>SE</td>\n",
       "    </tr>\n",
       "    <tr>\n",
       "      <th>1</th>\n",
       "      <td>CVN_17</td>\n",
       "      <td>chr10:100174766:100174978:-@chr10:100174489:10...</td>\n",
       "      <td>NaN</td>\n",
       "      <td>7.0</td>\n",
       "      <td>NaN</td>\n",
       "      <td>NaN</td>\n",
       "      <td>NaN</td>\n",
       "      <td>NaN</td>\n",
       "      <td>SE</td>\n",
       "    </tr>\n",
       "    <tr>\n",
       "      <th>2</th>\n",
       "      <td>CVN_35</td>\n",
       "      <td>chr10:100174766:100174978:-@chr10:100174489:10...</td>\n",
       "      <td>NaN</td>\n",
       "      <td>8.0</td>\n",
       "      <td>NaN</td>\n",
       "      <td>NaN</td>\n",
       "      <td>NaN</td>\n",
       "      <td>NaN</td>\n",
       "      <td>SE</td>\n",
       "    </tr>\n",
       "    <tr>\n",
       "      <th>3</th>\n",
       "      <td>M2nd_33</td>\n",
       "      <td>chr10:100174766:100174978:-@chr10:100174489:10...</td>\n",
       "      <td>NaN</td>\n",
       "      <td>2.0</td>\n",
       "      <td>NaN</td>\n",
       "      <td>NaN</td>\n",
       "      <td>NaN</td>\n",
       "      <td>NaN</td>\n",
       "      <td>SE</td>\n",
       "    </tr>\n",
       "    <tr>\n",
       "      <th>4</th>\n",
       "      <td>M2nd_34</td>\n",
       "      <td>chr10:100174766:100174978:-@chr10:100174489:10...</td>\n",
       "      <td>NaN</td>\n",
       "      <td>4.0</td>\n",
       "      <td>NaN</td>\n",
       "      <td>NaN</td>\n",
       "      <td>NaN</td>\n",
       "      <td>NaN</td>\n",
       "      <td>SE</td>\n",
       "    </tr>\n",
       "  </tbody>\n",
       "</table>\n",
       "</div>"
      ],
      "text/plain": [
       "  sample_id                                            miso_id  junction_12  \\\n",
       "0    CVN_35  chr10:100150355:100150511:-@chr10:100148111:10...          NaN   \n",
       "1    CVN_17  chr10:100174766:100174978:-@chr10:100174489:10...          NaN   \n",
       "2    CVN_35  chr10:100174766:100174978:-@chr10:100174489:10...          NaN   \n",
       "3   M2nd_33  chr10:100174766:100174978:-@chr10:100174489:10...          NaN   \n",
       "4   M2nd_34  chr10:100174766:100174978:-@chr10:100174489:10...          NaN   \n",
       "\n",
       "   junction_13  junction_14  junction_23  junction_24  junction_34 splice_type  \n",
       "0          9.0          NaN          NaN          NaN          NaN          SE  \n",
       "1          7.0          NaN          NaN          NaN          NaN          SE  \n",
       "2          8.0          NaN          NaN          NaN          NaN          SE  \n",
       "3          2.0          NaN          NaN          NaN          NaN          SE  \n",
       "4          4.0          NaN          NaN          NaN          NaN          SE  "
      ]
     },
     "execution_count": 20,
     "metadata": {},
     "output_type": "execute_result"
    }
   ],
   "source": [
    "miso_junction_reads2d = pd.read_csv('/projects/ps-yeolab/obotvinnik/singlecell_pnms/csvs_for_paper/miso_junction_reads2d.csv')\n",
    "print(miso_junction_reads2d.shape)\n",
    "miso_junction_reads2d.head()"
   ]
  },
  {
   "cell_type": "code",
   "execution_count": 21,
   "metadata": {
    "collapsed": false
   },
   "outputs": [
    {
     "name": "stdout",
     "output_type": "stream",
     "text": [
      "(1298643, 13)\n"
     ]
    },
    {
     "data": {
      "text/html": [
       "<div>\n",
       "<table border=\"1\" class=\"dataframe\">\n",
       "  <thead>\n",
       "    <tr style=\"text-align: right;\">\n",
       "      <th></th>\n",
       "      <th>miso_id</th>\n",
       "      <th>sample_id</th>\n",
       "      <th>miso_psi</th>\n",
       "      <th>outrigger_psi</th>\n",
       "      <th>notes_abbrev</th>\n",
       "      <th>notes</th>\n",
       "      <th>junction_12</th>\n",
       "      <th>junction_13</th>\n",
       "      <th>junction_14</th>\n",
       "      <th>junction_23</th>\n",
       "      <th>junction_24</th>\n",
       "      <th>junction_34</th>\n",
       "      <th>splice_type</th>\n",
       "    </tr>\n",
       "  </thead>\n",
       "  <tbody>\n",
       "    <tr>\n",
       "      <th>0</th>\n",
       "      <td>chr10:100190328:100190427:-@chr10:100189548:10...</td>\n",
       "      <td>MSA_18</td>\n",
       "      <td>0.08</td>\n",
       "      <td>NaN</td>\n",
       "      <td>Case 3</td>\n",
       "      <td>Case 3: All junctions with insufficient reads</td>\n",
       "      <td>NaN</td>\n",
       "      <td>8.0</td>\n",
       "      <td>NaN</td>\n",
       "      <td>NaN</td>\n",
       "      <td>NaN</td>\n",
       "      <td>NaN</td>\n",
       "      <td>SE</td>\n",
       "    </tr>\n",
       "    <tr>\n",
       "      <th>1</th>\n",
       "      <td>chr10:100190328:100190427:-@chr10:100189548:10...</td>\n",
       "      <td>MSA_24</td>\n",
       "      <td>1.00</td>\n",
       "      <td>1.0</td>\n",
       "      <td>Case 7</td>\n",
       "      <td>Case 7: Inclusion</td>\n",
       "      <td>65.0</td>\n",
       "      <td>NaN</td>\n",
       "      <td>NaN</td>\n",
       "      <td>52.0</td>\n",
       "      <td>NaN</td>\n",
       "      <td>NaN</td>\n",
       "      <td>SE</td>\n",
       "    </tr>\n",
       "    <tr>\n",
       "      <th>2</th>\n",
       "      <td>chr10:100190328:100190427:-@chr10:100189548:10...</td>\n",
       "      <td>P1_06</td>\n",
       "      <td>NaN</td>\n",
       "      <td>1.0</td>\n",
       "      <td>Case 7</td>\n",
       "      <td>Case 7: Inclusion</td>\n",
       "      <td>12.0</td>\n",
       "      <td>NaN</td>\n",
       "      <td>NaN</td>\n",
       "      <td>11.0</td>\n",
       "      <td>NaN</td>\n",
       "      <td>NaN</td>\n",
       "      <td>SE</td>\n",
       "    </tr>\n",
       "    <tr>\n",
       "      <th>3</th>\n",
       "      <td>chr10:100190328:100190427:-@chr10:100189548:10...</td>\n",
       "      <td>P1_08</td>\n",
       "      <td>0.88</td>\n",
       "      <td>NaN</td>\n",
       "      <td>Case 4</td>\n",
       "      <td>Case 4: Only one junction with sufficient reads</td>\n",
       "      <td>22.0</td>\n",
       "      <td>NaN</td>\n",
       "      <td>NaN</td>\n",
       "      <td>NaN</td>\n",
       "      <td>NaN</td>\n",
       "      <td>NaN</td>\n",
       "      <td>SE</td>\n",
       "    </tr>\n",
       "    <tr>\n",
       "      <th>4</th>\n",
       "      <td>chr10:100190328:100190427:-@chr10:100189548:10...</td>\n",
       "      <td>P1_10</td>\n",
       "      <td>0.03</td>\n",
       "      <td>0.0</td>\n",
       "      <td>Case 6</td>\n",
       "      <td>Case 6: Exclusion</td>\n",
       "      <td>NaN</td>\n",
       "      <td>43.0</td>\n",
       "      <td>NaN</td>\n",
       "      <td>NaN</td>\n",
       "      <td>NaN</td>\n",
       "      <td>NaN</td>\n",
       "      <td>SE</td>\n",
       "    </tr>\n",
       "  </tbody>\n",
       "</table>\n",
       "</div>"
      ],
      "text/plain": [
       "                                             miso_id sample_id  miso_psi  \\\n",
       "0  chr10:100190328:100190427:-@chr10:100189548:10...    MSA_18      0.08   \n",
       "1  chr10:100190328:100190427:-@chr10:100189548:10...    MSA_24      1.00   \n",
       "2  chr10:100190328:100190427:-@chr10:100189548:10...     P1_06       NaN   \n",
       "3  chr10:100190328:100190427:-@chr10:100189548:10...     P1_08      0.88   \n",
       "4  chr10:100190328:100190427:-@chr10:100189548:10...     P1_10      0.03   \n",
       "\n",
       "   outrigger_psi notes_abbrev  \\\n",
       "0            NaN       Case 3   \n",
       "1            1.0       Case 7   \n",
       "2            1.0       Case 7   \n",
       "3            NaN       Case 4   \n",
       "4            0.0       Case 6   \n",
       "\n",
       "                                             notes  junction_12  junction_13  \\\n",
       "0    Case 3: All junctions with insufficient reads          NaN          8.0   \n",
       "1                                Case 7: Inclusion         65.0          NaN   \n",
       "2                                Case 7: Inclusion         12.0          NaN   \n",
       "3  Case 4: Only one junction with sufficient reads         22.0          NaN   \n",
       "4                                Case 6: Exclusion          NaN         43.0   \n",
       "\n",
       "   junction_14  junction_23  junction_24  junction_34 splice_type  \n",
       "0          NaN          NaN          NaN          NaN          SE  \n",
       "1          NaN         52.0          NaN          NaN          SE  \n",
       "2          NaN         11.0          NaN          NaN          SE  \n",
       "3          NaN          NaN          NaN          NaN          SE  \n",
       "4          NaN          NaN          NaN          NaN          SE  "
      ]
     },
     "execution_count": 21,
     "metadata": {},
     "output_type": "execute_result"
    }
   ],
   "source": [
    "cols = ['miso_id', 'sample_id']\n",
    "miso_psi_comparison_dropna_junctions = miso_psi_comparison_dropna_min_cells.merge(miso_junction_reads2d, left_on=cols, right_on=cols)\n",
    "print(miso_psi_comparison_dropna_junctions.shape)\n",
    "miso_psi_comparison_dropna_junctions.head()"
   ]
  },
  {
   "cell_type": "code",
   "execution_count": 22,
   "metadata": {
    "collapsed": true
   },
   "outputs": [],
   "source": [
    "miso_psi_comparison_dropna_junctions.to_csv('/projects/ps-yeolab/obotvinnik/singlecell_pnms/csvs_for_paper/miso_psi_comparison_junction_reads2d.csv', \n",
    "                                            index=False)"
   ]
  },
  {
   "cell_type": "code",
   "execution_count": 23,
   "metadata": {
    "collapsed": false
   },
   "outputs": [
    {
     "name": "stdout",
     "output_type": "stream",
     "text": [
      "(569101, 13)\n"
     ]
    },
    {
     "data": {
      "text/html": [
       "<div>\n",
       "<table border=\"1\" class=\"dataframe\">\n",
       "  <thead>\n",
       "    <tr style=\"text-align: right;\">\n",
       "      <th></th>\n",
       "      <th>miso_id</th>\n",
       "      <th>sample_id</th>\n",
       "      <th>miso_psi</th>\n",
       "      <th>outrigger_psi</th>\n",
       "      <th>notes_abbrev</th>\n",
       "      <th>notes</th>\n",
       "      <th>junction_12</th>\n",
       "      <th>junction_13</th>\n",
       "      <th>junction_14</th>\n",
       "      <th>junction_23</th>\n",
       "      <th>junction_24</th>\n",
       "      <th>junction_34</th>\n",
       "      <th>splice_type</th>\n",
       "    </tr>\n",
       "  </thead>\n",
       "  <tbody>\n",
       "    <tr>\n",
       "      <th>0</th>\n",
       "      <td>chr10:100190328:100190427:-@chr10:100189548:10...</td>\n",
       "      <td>MSA_18</td>\n",
       "      <td>0.08</td>\n",
       "      <td>NaN</td>\n",
       "      <td>Case 3</td>\n",
       "      <td>Case 3: All junctions with insufficient reads</td>\n",
       "      <td>NaN</td>\n",
       "      <td>8.0</td>\n",
       "      <td>NaN</td>\n",
       "      <td>NaN</td>\n",
       "      <td>NaN</td>\n",
       "      <td>NaN</td>\n",
       "      <td>SE</td>\n",
       "    </tr>\n",
       "    <tr>\n",
       "      <th>3</th>\n",
       "      <td>chr10:100190328:100190427:-@chr10:100189548:10...</td>\n",
       "      <td>P1_08</td>\n",
       "      <td>0.88</td>\n",
       "      <td>NaN</td>\n",
       "      <td>Case 4</td>\n",
       "      <td>Case 4: Only one junction with sufficient reads</td>\n",
       "      <td>22.0</td>\n",
       "      <td>NaN</td>\n",
       "      <td>NaN</td>\n",
       "      <td>NaN</td>\n",
       "      <td>NaN</td>\n",
       "      <td>NaN</td>\n",
       "      <td>SE</td>\n",
       "    </tr>\n",
       "    <tr>\n",
       "      <th>22</th>\n",
       "      <td>chr10:100190328:100190427:-@chr10:100189548:10...</td>\n",
       "      <td>CVN_17</td>\n",
       "      <td>0.92</td>\n",
       "      <td>NaN</td>\n",
       "      <td>Case 4</td>\n",
       "      <td>Case 4: Only one junction with sufficient reads</td>\n",
       "      <td>12.0</td>\n",
       "      <td>NaN</td>\n",
       "      <td>NaN</td>\n",
       "      <td>3.0</td>\n",
       "      <td>NaN</td>\n",
       "      <td>NaN</td>\n",
       "      <td>SE</td>\n",
       "    </tr>\n",
       "    <tr>\n",
       "      <th>24</th>\n",
       "      <td>chr10:100193697:100193848:-@chr10:100190888:10...</td>\n",
       "      <td>MSA_18</td>\n",
       "      <td>0.90</td>\n",
       "      <td>NaN</td>\n",
       "      <td>Case 3</td>\n",
       "      <td>Case 3: All junctions with insufficient reads</td>\n",
       "      <td>NaN</td>\n",
       "      <td>NaN</td>\n",
       "      <td>NaN</td>\n",
       "      <td>3.0</td>\n",
       "      <td>NaN</td>\n",
       "      <td>NaN</td>\n",
       "      <td>SE</td>\n",
       "    </tr>\n",
       "    <tr>\n",
       "      <th>25</th>\n",
       "      <td>chr10:100193697:100193848:-@chr10:100190888:10...</td>\n",
       "      <td>MSA_24</td>\n",
       "      <td>0.99</td>\n",
       "      <td>NaN</td>\n",
       "      <td>Case 4</td>\n",
       "      <td>Case 4: Only one junction with sufficient reads</td>\n",
       "      <td>NaN</td>\n",
       "      <td>NaN</td>\n",
       "      <td>NaN</td>\n",
       "      <td>47.0</td>\n",
       "      <td>NaN</td>\n",
       "      <td>NaN</td>\n",
       "      <td>SE</td>\n",
       "    </tr>\n",
       "  </tbody>\n",
       "</table>\n",
       "</div>"
      ],
      "text/plain": [
       "                                              miso_id sample_id  miso_psi  \\\n",
       "0   chr10:100190328:100190427:-@chr10:100189548:10...    MSA_18      0.08   \n",
       "3   chr10:100190328:100190427:-@chr10:100189548:10...     P1_08      0.88   \n",
       "22  chr10:100190328:100190427:-@chr10:100189548:10...    CVN_17      0.92   \n",
       "24  chr10:100193697:100193848:-@chr10:100190888:10...    MSA_18      0.90   \n",
       "25  chr10:100193697:100193848:-@chr10:100190888:10...    MSA_24      0.99   \n",
       "\n",
       "    outrigger_psi notes_abbrev  \\\n",
       "0             NaN       Case 3   \n",
       "3             NaN       Case 4   \n",
       "22            NaN       Case 4   \n",
       "24            NaN       Case 3   \n",
       "25            NaN       Case 4   \n",
       "\n",
       "                                              notes  junction_12  junction_13  \\\n",
       "0     Case 3: All junctions with insufficient reads          NaN          8.0   \n",
       "3   Case 4: Only one junction with sufficient reads         22.0          NaN   \n",
       "22  Case 4: Only one junction with sufficient reads         12.0          NaN   \n",
       "24    Case 3: All junctions with insufficient reads          NaN          NaN   \n",
       "25  Case 4: Only one junction with sufficient reads          NaN          NaN   \n",
       "\n",
       "    junction_14  junction_23  junction_24  junction_34 splice_type  \n",
       "0           NaN          NaN          NaN          NaN          SE  \n",
       "3           NaN          NaN          NaN          NaN          SE  \n",
       "22          NaN          3.0          NaN          NaN          SE  \n",
       "24          NaN          3.0          NaN          NaN          SE  \n",
       "25          NaN         47.0          NaN          NaN          SE  "
      ]
     },
     "execution_count": 23,
     "metadata": {},
     "output_type": "execute_result"
    }
   ],
   "source": [
    "miso_outrigger_psi_na = miso_psi_comparison_dropna_junctions.loc[miso_psi_comparison_dropna_junctions['outrigger_psi'].isnull()]\n",
    "print(miso_outrigger_psi_na.shape)\n",
    "miso_outrigger_psi_na.head()"
   ]
  },
  {
   "cell_type": "code",
   "execution_count": 24,
   "metadata": {
    "collapsed": false
   },
   "outputs": [
    {
     "data": {
      "text/plain": [
       "50.00505233782655"
      ]
     },
     "execution_count": 24,
     "metadata": {},
     "output_type": "execute_result"
    }
   ],
   "source": [
    "miso_false_positive_percent = 100 * float(miso_outrigger_psi_na.shape[0])/miso_psi_comparison_dropna_junctions['miso_psi'].notnull().sum()\n",
    "miso_false_positive_percent"
   ]
  },
  {
   "cell_type": "code",
   "execution_count": 25,
   "metadata": {
    "collapsed": true
   },
   "outputs": [],
   "source": [
    "sns.set(context='paper', style='white')"
   ]
  },
  {
   "cell_type": "code",
   "execution_count": 26,
   "metadata": {
    "collapsed": false
   },
   "outputs": [
    {
     "data": {
      "image/png": "[encoded data removed]",
      "text/plain": [
       "<matplotlib.figure.Figure at 0x2b409f55b350>"
      ]
     },
     "metadata": {},
     "output_type": "display_data"
    }
   ],
   "source": [
    "set2 = sns.color_palette('Set2')\n",
    "sns.palplot(set2)\n",
    "false_positive_color = set2[1]\n",
    "false_negative_color = set2[0]"
   ]
  },
  {
   "cell_type": "code",
   "execution_count": 27,
   "metadata": {
    "collapsed": false
   },
   "outputs": [
    {
     "data": {
      "image/png": "[encoded data removed]",
      "text/plain": [
       "<matplotlib.figure.Figure at 0x2b40b3b380d0>"
      ]
     },
     "metadata": {},
     "output_type": "display_data"
    }
   ],
   "source": [
    "dark2 = sns.color_palette('Dark2')\n",
    "sns.palplot(dark2)\n",
    "\n",
    "false_positive_label = dark2[1]\n",
    "false_negative_label = dark2[0]"
   ]
  },
  {
   "cell_type": "code",
   "execution_count": 28,
   "metadata": {
    "collapsed": false
   },
   "outputs": [
    {
     "data": {
      "text/plain": [
       "notes\n",
       "Case 10b: Isoform1 has 1+ junction with insufficient reads but Isoform2 with sufficient reads: There are insufficient junction reads       264\n",
       "Case 11b: Isoform1 and Isoform2 each have both sufficient and insufficient junctions: There are insufficient junction reads                  9\n",
       "Case 1: >= 10 reads on junctions that are incompatible with the annotation                                                              104926\n",
       "Case 2: Zero observed reads                                                                                                               2839\n",
       "Case 3: All junctions with insufficient reads                                                                                           116666\n",
       "Case 4: Only one junction with sufficient reads                                                                                         303239\n",
       "Case 5: Unequal read coverage (one side has at least 10x more reads)                                                                     37525\n",
       "Case 9b: Isoform1 with sufficient reads but Isoform2 has 1+ junctions with insufficient reads: There are insufficient junction reads      3633\n",
       "dtype: int64"
      ]
     },
     "execution_count": 28,
     "metadata": {},
     "output_type": "execute_result"
    }
   ],
   "source": [
    "miso_outrigger_psi_na.groupby('notes').size()"
   ]
  },
  {
   "cell_type": "code",
   "execution_count": 29,
   "metadata": {
    "collapsed": true
   },
   "outputs": [],
   "source": [
    "sns.set(context='paper', style='whitegrid')"
   ]
  },
  {
   "cell_type": "code",
   "execution_count": 30,
   "metadata": {
    "collapsed": false
   },
   "outputs": [
    {
     "data": {
      "image/png": "[encoded data removed]",
      "text/plain": [
       "<matplotlib.figure.Figure at 0x2b40b3b91b10>"
      ]
     },
     "metadata": {},
     "output_type": "display_data"
    }
   ],
   "source": [
    "fig, ax = plt.subplots(figsize=(2, 2))\n",
    "\n",
    "# outrigger_na_case_order = ['Case 3', 'Case 4', 'Case 6', 'Case 10b', 'Case 11b', 'Case 12b']\n",
    "\n",
    "sns.countplot(x='notes_abbrev', data=miso_outrigger_psi_na, color=false_positive_color, order=case_order)\n",
    "\n",
    "miso_outrigger_psi_na_sizes = miso_outrigger_psi_na.groupby('notes_abbrev').size()\n",
    "ymin, ymax = ax.get_ylim()\n",
    "yrange = ymax - ymin\n",
    "yoffset = 0.025 * ymax\n",
    "\n",
    "for i, case in enumerate(case_order):\n",
    "    if case in miso_outrigger_psi_na_sizes:\n",
    "        y = miso_outrigger_psi_na_sizes[case]\n",
    "        ax.annotate(\"{:,}\".format(y), (i+0.2, y + yoffset), rotation=90, fontsize=8, \n",
    "                    va='bottom', ha='center', color=false_positive_label)\n",
    "plt.setp(ax.get_xticklabels(), rotation=90);\n",
    "ax.set(xlabel='', ylabel='MISO False Positives')\n",
    "fig.savefig('{}/outrigger_na_cases.pdf'.format(figure_folder))"
   ]
  },
  {
   "cell_type": "code",
   "execution_count": 31,
   "metadata": {
    "collapsed": true
   },
   "outputs": [],
   "source": [
    "pd.options.display.max_colwidth = 200"
   ]
  },
  {
   "cell_type": "code",
   "execution_count": 32,
   "metadata": {
    "collapsed": false
   },
   "outputs": [
    {
     "name": "stdout",
     "output_type": "stream",
     "text": [
      "(160556, 13)\n"
     ]
    },
    {
     "data": {
      "text/html": [
       "<div>\n",
       "<table border=\"1\" class=\"dataframe\">\n",
       "  <thead>\n",
       "    <tr style=\"text-align: right;\">\n",
       "      <th></th>\n",
       "      <th>miso_id</th>\n",
       "      <th>sample_id</th>\n",
       "      <th>miso_psi</th>\n",
       "      <th>outrigger_psi</th>\n",
       "      <th>notes_abbrev</th>\n",
       "      <th>notes</th>\n",
       "      <th>junction_12</th>\n",
       "      <th>junction_13</th>\n",
       "      <th>junction_14</th>\n",
       "      <th>junction_23</th>\n",
       "      <th>junction_24</th>\n",
       "      <th>junction_34</th>\n",
       "      <th>splice_type</th>\n",
       "    </tr>\n",
       "  </thead>\n",
       "  <tbody>\n",
       "    <tr>\n",
       "      <th>2</th>\n",
       "      <td>chr10:100190328:100190427:-@chr10:100189548:100189646:-@chr10:100189330:100189399:-</td>\n",
       "      <td>P1_06</td>\n",
       "      <td>NaN</td>\n",
       "      <td>1.0</td>\n",
       "      <td>Case 7</td>\n",
       "      <td>Case 7: Inclusion</td>\n",
       "      <td>12.0</td>\n",
       "      <td>NaN</td>\n",
       "      <td>NaN</td>\n",
       "      <td>11.0</td>\n",
       "      <td>NaN</td>\n",
       "      <td>NaN</td>\n",
       "      <td>SE</td>\n",
       "    </tr>\n",
       "    <tr>\n",
       "      <th>8</th>\n",
       "      <td>chr10:100190328:100190427:-@chr10:100189548:100189646:-@chr10:100189330:100189399:-</td>\n",
       "      <td>P2_11</td>\n",
       "      <td>NaN</td>\n",
       "      <td>0.0</td>\n",
       "      <td>Case 6</td>\n",
       "      <td>Case 6: Exclusion</td>\n",
       "      <td>NaN</td>\n",
       "      <td>123.0</td>\n",
       "      <td>NaN</td>\n",
       "      <td>NaN</td>\n",
       "      <td>NaN</td>\n",
       "      <td>NaN</td>\n",
       "      <td>SE</td>\n",
       "    </tr>\n",
       "    <tr>\n",
       "      <th>12</th>\n",
       "      <td>chr10:100190328:100190427:-@chr10:100189548:100189646:-@chr10:100189330:100189399:-</td>\n",
       "      <td>P7_11</td>\n",
       "      <td>NaN</td>\n",
       "      <td>0.0</td>\n",
       "      <td>Case 6</td>\n",
       "      <td>Case 6: Exclusion</td>\n",
       "      <td>NaN</td>\n",
       "      <td>12.0</td>\n",
       "      <td>NaN</td>\n",
       "      <td>NaN</td>\n",
       "      <td>NaN</td>\n",
       "      <td>NaN</td>\n",
       "      <td>SE</td>\n",
       "    </tr>\n",
       "    <tr>\n",
       "      <th>17</th>\n",
       "      <td>chr10:100190328:100190427:-@chr10:100189548:100189646:-@chr10:100189330:100189399:-</td>\n",
       "      <td>P4_01</td>\n",
       "      <td>NaN</td>\n",
       "      <td>0.0</td>\n",
       "      <td>Case 6</td>\n",
       "      <td>Case 6: Exclusion</td>\n",
       "      <td>NaN</td>\n",
       "      <td>29.0</td>\n",
       "      <td>NaN</td>\n",
       "      <td>NaN</td>\n",
       "      <td>NaN</td>\n",
       "      <td>NaN</td>\n",
       "      <td>SE</td>\n",
       "    </tr>\n",
       "    <tr>\n",
       "      <th>31</th>\n",
       "      <td>chr10:100193697:100193848:-@chr10:100190888:100191048:-@chr10:100190328:100190427:-</td>\n",
       "      <td>P2_10</td>\n",
       "      <td>NaN</td>\n",
       "      <td>1.0</td>\n",
       "      <td>Case 7</td>\n",
       "      <td>Case 7: Inclusion</td>\n",
       "      <td>228.0</td>\n",
       "      <td>NaN</td>\n",
       "      <td>NaN</td>\n",
       "      <td>300.0</td>\n",
       "      <td>NaN</td>\n",
       "      <td>NaN</td>\n",
       "      <td>SE</td>\n",
       "    </tr>\n",
       "  </tbody>\n",
       "</table>\n",
       "</div>"
      ],
      "text/plain": [
       "                                                                                miso_id  \\\n",
       "2   chr10:100190328:100190427:-@chr10:100189548:100189646:-@chr10:100189330:100189399:-   \n",
       "8   chr10:100190328:100190427:-@chr10:100189548:100189646:-@chr10:100189330:100189399:-   \n",
       "12  chr10:100190328:100190427:-@chr10:100189548:100189646:-@chr10:100189330:100189399:-   \n",
       "17  chr10:100190328:100190427:-@chr10:100189548:100189646:-@chr10:100189330:100189399:-   \n",
       "31  chr10:100193697:100193848:-@chr10:100190888:100191048:-@chr10:100190328:100190427:-   \n",
       "\n",
       "   sample_id  miso_psi  outrigger_psi notes_abbrev              notes  \\\n",
       "2      P1_06       NaN            1.0       Case 7  Case 7: Inclusion   \n",
       "8      P2_11       NaN            0.0       Case 6  Case 6: Exclusion   \n",
       "12     P7_11       NaN            0.0       Case 6  Case 6: Exclusion   \n",
       "17     P4_01       NaN            0.0       Case 6  Case 6: Exclusion   \n",
       "31     P2_10       NaN            1.0       Case 7  Case 7: Inclusion   \n",
       "\n",
       "    junction_12  junction_13  junction_14  junction_23  junction_24  \\\n",
       "2          12.0          NaN          NaN         11.0          NaN   \n",
       "8           NaN        123.0          NaN          NaN          NaN   \n",
       "12          NaN         12.0          NaN          NaN          NaN   \n",
       "17          NaN         29.0          NaN          NaN          NaN   \n",
       "31        228.0          NaN          NaN        300.0          NaN   \n",
       "\n",
       "    junction_34 splice_type  \n",
       "2           NaN          SE  \n",
       "8           NaN          SE  \n",
       "12          NaN          SE  \n",
       "17          NaN          SE  \n",
       "31          NaN          SE  "
      ]
     },
     "execution_count": 32,
     "metadata": {},
     "output_type": "execute_result"
    }
   ],
   "source": [
    "rows = miso_psi_comparison_dropna_junctions['miso_psi'].isnull() & miso_psi_comparison_dropna_junctions['outrigger_psi'].notnull()\n",
    "miso_na_outrigger_psi = miso_psi_comparison_dropna_junctions.loc[rows]\n",
    "print(miso_na_outrigger_psi.shape)\n",
    "miso_na_outrigger_psi.head()"
   ]
  },
  {
   "cell_type": "code",
   "execution_count": 33,
   "metadata": {
    "collapsed": false
   },
   "outputs": [
    {
     "data": {
      "text/html": [
       "<div>\n",
       "<table border=\"1\" class=\"dataframe\">\n",
       "  <thead>\n",
       "    <tr style=\"text-align: right;\">\n",
       "      <th></th>\n",
       "      <th>miso_id</th>\n",
       "      <th>sample_id</th>\n",
       "      <th>miso_psi</th>\n",
       "      <th>outrigger_psi</th>\n",
       "      <th>notes_abbrev</th>\n",
       "      <th>notes</th>\n",
       "      <th>junction_12</th>\n",
       "      <th>junction_13</th>\n",
       "      <th>junction_14</th>\n",
       "      <th>junction_23</th>\n",
       "      <th>junction_24</th>\n",
       "      <th>junction_34</th>\n",
       "      <th>splice_type</th>\n",
       "    </tr>\n",
       "  </thead>\n",
       "  <tbody>\n",
       "    <tr>\n",
       "      <th>1298586</th>\n",
       "      <td>chrY:59222127:59222281:+@chrY:59228292:59228349:+@chrY:59230782:59230919:+</td>\n",
       "      <td>N1_11</td>\n",
       "      <td>NaN</td>\n",
       "      <td>1.0</td>\n",
       "      <td>Case 7</td>\n",
       "      <td>Case 7: Inclusion</td>\n",
       "      <td>412.0</td>\n",
       "      <td>NaN</td>\n",
       "      <td>NaN</td>\n",
       "      <td>349.0</td>\n",
       "      <td>NaN</td>\n",
       "      <td>NaN</td>\n",
       "      <td>SE</td>\n",
       "    </tr>\n",
       "    <tr>\n",
       "      <th>1298587</th>\n",
       "      <td>chrY:59222127:59222281:+@chrY:59228292:59228349:+@chrY:59230782:59230919:+</td>\n",
       "      <td>N2_02</td>\n",
       "      <td>NaN</td>\n",
       "      <td>1.0</td>\n",
       "      <td>Case 7</td>\n",
       "      <td>Case 7: Inclusion</td>\n",
       "      <td>21.0</td>\n",
       "      <td>NaN</td>\n",
       "      <td>NaN</td>\n",
       "      <td>24.0</td>\n",
       "      <td>NaN</td>\n",
       "      <td>NaN</td>\n",
       "      <td>SE</td>\n",
       "    </tr>\n",
       "    <tr>\n",
       "      <th>1298593</th>\n",
       "      <td>chrY:59222127:59222281:+@chrY:59228292:59228349:+@chrY:59230782:59230919:+</td>\n",
       "      <td>P2_02</td>\n",
       "      <td>NaN</td>\n",
       "      <td>1.0</td>\n",
       "      <td>Case 7</td>\n",
       "      <td>Case 7: Inclusion</td>\n",
       "      <td>17.0</td>\n",
       "      <td>NaN</td>\n",
       "      <td>NaN</td>\n",
       "      <td>13.0</td>\n",
       "      <td>NaN</td>\n",
       "      <td>NaN</td>\n",
       "      <td>SE</td>\n",
       "    </tr>\n",
       "    <tr>\n",
       "      <th>1298603</th>\n",
       "      <td>chrY:59222127:59222281:+@chrY:59228292:59228349:+@chrY:59230782:59230919:+</td>\n",
       "      <td>N4_05</td>\n",
       "      <td>NaN</td>\n",
       "      <td>1.0</td>\n",
       "      <td>Case 7</td>\n",
       "      <td>Case 7: Inclusion</td>\n",
       "      <td>11.0</td>\n",
       "      <td>NaN</td>\n",
       "      <td>NaN</td>\n",
       "      <td>17.0</td>\n",
       "      <td>NaN</td>\n",
       "      <td>NaN</td>\n",
       "      <td>SE</td>\n",
       "    </tr>\n",
       "    <tr>\n",
       "      <th>1298605</th>\n",
       "      <td>chrY:59222127:59222281:+@chrY:59228292:59228349:+@chrY:59230782:59230919:+</td>\n",
       "      <td>P3_01</td>\n",
       "      <td>NaN</td>\n",
       "      <td>1.0</td>\n",
       "      <td>Case 7</td>\n",
       "      <td>Case 7: Inclusion</td>\n",
       "      <td>78.0</td>\n",
       "      <td>NaN</td>\n",
       "      <td>NaN</td>\n",
       "      <td>75.0</td>\n",
       "      <td>NaN</td>\n",
       "      <td>NaN</td>\n",
       "      <td>SE</td>\n",
       "    </tr>\n",
       "  </tbody>\n",
       "</table>\n",
       "</div>"
      ],
      "text/plain": [
       "                                                                            miso_id  \\\n",
       "1298586  chrY:59222127:59222281:+@chrY:59228292:59228349:+@chrY:59230782:59230919:+   \n",
       "1298587  chrY:59222127:59222281:+@chrY:59228292:59228349:+@chrY:59230782:59230919:+   \n",
       "1298593  chrY:59222127:59222281:+@chrY:59228292:59228349:+@chrY:59230782:59230919:+   \n",
       "1298603  chrY:59222127:59222281:+@chrY:59228292:59228349:+@chrY:59230782:59230919:+   \n",
       "1298605  chrY:59222127:59222281:+@chrY:59228292:59228349:+@chrY:59230782:59230919:+   \n",
       "\n",
       "        sample_id  miso_psi  outrigger_psi notes_abbrev              notes  \\\n",
       "1298586     N1_11       NaN            1.0       Case 7  Case 7: Inclusion   \n",
       "1298587     N2_02       NaN            1.0       Case 7  Case 7: Inclusion   \n",
       "1298593     P2_02       NaN            1.0       Case 7  Case 7: Inclusion   \n",
       "1298603     N4_05       NaN            1.0       Case 7  Case 7: Inclusion   \n",
       "1298605     P3_01       NaN            1.0       Case 7  Case 7: Inclusion   \n",
       "\n",
       "         junction_12  junction_13  junction_14  junction_23  junction_24  \\\n",
       "1298586        412.0          NaN          NaN        349.0          NaN   \n",
       "1298587         21.0          NaN          NaN         24.0          NaN   \n",
       "1298593         17.0          NaN          NaN         13.0          NaN   \n",
       "1298603         11.0          NaN          NaN         17.0          NaN   \n",
       "1298605         78.0          NaN          NaN         75.0          NaN   \n",
       "\n",
       "         junction_34 splice_type  \n",
       "1298586          NaN          SE  \n",
       "1298587          NaN          SE  \n",
       "1298593          NaN          SE  \n",
       "1298603          NaN          SE  \n",
       "1298605          NaN          SE  "
      ]
     },
     "execution_count": 33,
     "metadata": {},
     "output_type": "execute_result"
    }
   ],
   "source": [
    "miso_na_outrigger_psi.tail()"
   ]
  },
  {
   "cell_type": "code",
   "execution_count": 34,
   "metadata": {
    "collapsed": false
   },
   "outputs": [
    {
     "data": {
      "text/plain": [
       "notes\n",
       "Case 10a: Isoform1 has 1+ junction with insufficient reads but Isoform2 with sufficient reads: There are sufficient junction reads     5614\n",
       "Case 11a: Isoform1 and Isoform2 each have both sufficient and insufficient junctions: There are sufficient junction reads                 3\n",
       "Case 6: Exclusion                                                                                                                     80699\n",
       "Case 7: Inclusion                                                                                                                     60605\n",
       "Case 8: Sufficient reads on all junctions                                                                                              6385\n",
       "Case 9a: Isoform1 with sufficient reads but Isoform2 has 1+ junctions with insufficient reads: There are sufficient junction reads     7250\n",
       "dtype: int64"
      ]
     },
     "execution_count": 34,
     "metadata": {},
     "output_type": "execute_result"
    }
   ],
   "source": [
    "miso_na_outrigger_psi.groupby('notes').size()"
   ]
  },
  {
   "cell_type": "code",
   "execution_count": 35,
   "metadata": {
    "collapsed": false
   },
   "outputs": [
    {
     "data": {
      "text/plain": [
       "(6385, 13)"
      ]
     },
     "execution_count": 35,
     "metadata": {},
     "output_type": "execute_result"
    }
   ],
   "source": [
    "miso_na_outrigger_psi.query(\"notes == 'Case 8: Sufficient reads on all junctions'\").shape"
   ]
  },
  {
   "cell_type": "code",
   "execution_count": 36,
   "metadata": {
    "collapsed": false
   },
   "outputs": [
    {
     "data": {
      "text/plain": [
       "21.430783358961218"
      ]
     },
     "execution_count": 36,
     "metadata": {},
     "output_type": "execute_result"
    }
   ],
   "source": [
    "miso_false_negative_percent = 100 * float(miso_na_outrigger_psi.shape[0])/miso_psi_comparison_dropna['outrigger_psi'].notnull().sum()\n",
    "miso_false_negative_percent"
   ]
  },
  {
   "cell_type": "code",
   "execution_count": 37,
   "metadata": {
    "collapsed": false,
    "scrolled": false
   },
   "outputs": [],
   "source": [
    "# fig, ax = plt.subplots(figsize=(2, 2))\n",
    "\n",
    "# miso_na_case_order = ['Case 7', 'Case 8', 'Case 9', 'Case 10a', 'Case 11a', 'Case 12a']\n",
    "\n",
    "# sns.countplot(x='notes_abbrev', data=miso_na_outrigger_psi, color=false_negative_color, order=case_order)\n",
    "\n",
    "# miso_na_outrigger_psi_sizes = miso_na_outrigger_psi.groupby('notes_abbrev').size()\n",
    "# ymin, ymax = ax.get_ylim()\n",
    "# yrange = ymax - ymin\n",
    "# yoffset = 0.025 * ymax\n",
    "\n",
    "# for i, case in enumerate(case_order):\n",
    "#     if case in miso_na_outrigger_psi_sizes:\n",
    "#         y = miso_na_outrigger_psi_sizes[case]\n",
    "#         ax.annotate(\"{:,}\".format(y), (i+0.2, y + yoffset), rotation=90, fontsize=8, \n",
    "#                     va='bottom', ha='center', color=false_negative_label)\n",
    "# plt.setp(ax.get_xticklabels(), rotation=90);\n",
    "# ax.set(xlabel='', ylabel='MISO False Negatives')\n",
    "# fig.savefig('{}/miso_na_cases.pdf'.format(figure_folder))"
   ]
  },
  {
   "cell_type": "code",
   "execution_count": 38,
   "metadata": {
    "collapsed": false
   },
   "outputs": [
    {
     "data": {
      "text/plain": [
       "notes_abbrev\n",
       "Case 10a     5614\n",
       "Case 11a        3\n",
       "Case 6      80699\n",
       "Case 7      60605\n",
       "Case 8       6385\n",
       "Case 9a      7250\n",
       "dtype: int64"
      ]
     },
     "execution_count": 38,
     "metadata": {},
     "output_type": "execute_result"
    }
   ],
   "source": [
    "miso_na_outrigger_psi_sizes = miso_na_outrigger_psi.groupby('notes_abbrev').size()\n",
    "miso_na_outrigger_psi_sizes"
   ]
  },
  {
   "cell_type": "code",
   "execution_count": 39,
   "metadata": {
    "collapsed": false
   },
   "outputs": [
    {
     "data": {
      "text/plain": [
       "notes_abbrev\n",
       "Case 1      104926\n",
       "Case 10b       264\n",
       "Case 11b         9\n",
       "Case 2        2839\n",
       "Case 3      116666\n",
       "Case 4      303239\n",
       "Case 5       37525\n",
       "Case 9b       3633\n",
       "dtype: int64"
      ]
     },
     "execution_count": 39,
     "metadata": {},
     "output_type": "execute_result"
    }
   ],
   "source": [
    "miso_outrigger_psi_na_sizes"
   ]
  },
  {
   "cell_type": "code",
   "execution_count": 60,
   "metadata": {
    "collapsed": false
   },
   "outputs": [
    {
     "data": {
      "image/png": "[encoded data removed]",
      "text/plain": [
       "<matplotlib.figure.Figure at 0x2b4100183dd0>"
      ]
     },
     "metadata": {},
     "output_type": "display_data"
    }
   ],
   "source": [
    "fig, ax = plt.subplots(figsize=(2, 2))\n",
    "\n",
    "# outrigger_na_case_order = ['Case 3', 'Case 4', 'Case 6', 'Case 10b', 'Case 11b', 'Case 12b']\n",
    "\n",
    "sns.countplot(x='notes_abbrev', data=miso_outrigger_psi_na, color=false_positive_color, order=case_order)\n",
    "sns.countplot(x='notes_abbrev', data=miso_na_outrigger_psi, color=false_negative_color, order=case_order)\n",
    "\n",
    "ymin, ymax = ax.get_ylim()\n",
    "yrange = ymax - ymin\n",
    "yoffset = 0.025 * ymax\n",
    "\n",
    "\n",
    "for i, case in enumerate(case_order):\n",
    "    if case in miso_na_outrigger_psi_sizes:\n",
    "        y = miso_na_outrigger_psi_sizes[case]\n",
    "        ax.annotate(\"{:,}\".format(y), (i+0.2, y + yoffset), rotation=90, fontsize=8, \n",
    "                    va='bottom', ha='center', color=false_negative_label)\n",
    "\n",
    "for i, case in enumerate(case_order):\n",
    "    if case in miso_outrigger_psi_na_sizes:\n",
    "        y = miso_outrigger_psi_na_sizes[case]\n",
    "        ax.annotate(\"{:,}\".format(y), (i+0.1, y + yoffset), rotation=90, fontsize=8, \n",
    "                    va='bottom', ha='center', color=false_positive_label)\n",
    "        \n",
    "plt.setp(ax.get_xticklabels(), rotation=90);\n",
    "ax.set(xlabel='', ylabel='MISO Cases in Outrigger')\n",
    "fig.savefig('{}/miso_outrigger_na_cases.pdf'.format(figure_folder))"
   ]
  },
  {
   "cell_type": "code",
   "execution_count": 55,
   "metadata": {
    "collapsed": false
   },
   "outputs": [
    {
     "data": {
      "image/png": "[encoded data removed]",
      "text/plain": [
       "<matplotlib.figure.Figure at 0x2b40fde95dd0>"
      ]
     },
     "metadata": {},
     "output_type": "display_data"
    }
   ],
   "source": [
    "g = sns.jointplot('outrigger_psi', 'miso_psi', miso_psi_comparison_dropna, color='#262626', \n",
    "                  joint_kws=dict(alpha=0.5, rasterized=True, s=1), size=2)\n",
    "g.ax_joint.set(xticks=(0, 0.5, 1), yticks=(0, 0.5, 1))\n",
    "g.savefig('{}/outrigger_vs_miso_psi_jointplot.pdf'.format(figure_folder), dpi=300)"
   ]
  },
  {
   "cell_type": "code",
   "execution_count": 42,
   "metadata": {
    "collapsed": false
   },
   "outputs": [
    {
     "data": {
      "image/png": "[encoded data removed]",
      "text/plain": [
       "<matplotlib.figure.Figure at 0x2b40b3b91690>"
      ]
     },
     "metadata": {},
     "output_type": "display_data"
    }
   ],
   "source": [
    "g = sns.jointplot('outrigger_psi', 'miso_psi', miso_psi_comparison_dropna.fillna(-0.1))"
   ]
  },
  {
   "cell_type": "markdown",
   "metadata": {
    "collapsed": true
   },
   "source": [
    "## Use finer categories of NA"
   ]
  },
  {
   "cell_type": "code",
   "execution_count": 43,
   "metadata": {
    "collapsed": false
   },
   "outputs": [
    {
     "name": "stderr",
     "output_type": "stream",
     "text": [
      "/home/obotvinnik/anaconda/lib/python2.7/site-packages/ipykernel/__main__.py:5: SettingWithCopyWarning: \n",
      "A value is trying to be set on a copy of a slice from a DataFrame.\n",
      "Try using .loc[row_indexer,col_indexer] = value instead\n",
      "\n",
      "See the caveats in the documentation: http://pandas.pydata.org/pandas-docs/stable/indexing.html#indexing-view-versus-copy\n",
      "/home/obotvinnik/anaconda/lib/python2.7/site-packages/pandas/core/indexing.py:476: SettingWithCopyWarning: \n",
      "A value is trying to be set on a copy of a slice from a DataFrame.\n",
      "Try using .loc[row_indexer,col_indexer] = value instead\n",
      "\n",
      "See the caveats in the documentation: http://pandas.pydata.org/pandas-docs/stable/indexing.html#indexing-view-versus-copy\n",
      "  self.obj[item] = s\n"
     ]
    },
    {
     "data": {
      "text/plain": [
       "comparison_categories\n",
       "Other                               5742\n",
       "Within $|\\Delta\\Psi| \\leq 0.2$    563150\n",
       "miso NA, outrigger Psi            164977\n",
       "miso Psi, outrigger 0               7312\n",
       "miso Psi, outrigger 1               8003\n",
       "miso Psi, outrigger NA            598644\n",
       "dtype: int64"
      ]
     },
     "execution_count": 43,
     "metadata": {},
     "output_type": "execute_result"
    }
   ],
   "source": [
    "col = 'comparison_categories'\n",
    "\n",
    "max_delta_psi = 0.2\n",
    "\n",
    "miso_psi_comparison_dropna[col] = 'Other'\n",
    "miso_psi_comparison_dropna.loc[miso_psi_comparison_dropna['miso_psi'].isnull() & miso_psi_comparison_dropna['outrigger_psi'].isnull(), col] = 'miso NA, outrigger NA'\n",
    "miso_psi_comparison_dropna.loc[(miso_psi_comparison_dropna['miso_psi'] - miso_psi_comparison_dropna['outrigger_psi']).abs() <= max_delta_psi, col] = \\\n",
    "    'Within $|\\Delta\\Psi| \\leq {}$'.format(max_delta_psi)\n",
    "miso_psi_comparison_dropna.loc[miso_psi_comparison_dropna['miso_psi'].notnull() & miso_psi_comparison_dropna['outrigger_psi'].isnull(), col] = 'miso Psi, outrigger NA'\n",
    "miso_psi_comparison_dropna.loc[miso_psi_comparison_dropna['miso_psi'].isnull() & miso_psi_comparison_dropna['outrigger_psi'].notnull(), col] = 'miso NA, outrigger Psi'\n",
    "miso_psi_comparison_dropna.loc[(miso_psi_comparison_dropna['outrigger_psi'] == 0) & (miso_psi_comparison_dropna['miso_psi'] > max_delta_psi), col] = 'miso Psi, outrigger 0'\n",
    "miso_psi_comparison_dropna.loc[(miso_psi_comparison_dropna['outrigger_psi'] == 1) & (miso_psi_comparison_dropna['miso_psi'] < (1 - max_delta_psi)), col] = 'miso Psi, outrigger 1'\n",
    "category_sizes = miso_psi_comparison_dropna.groupby(col).size()\n",
    "category_sizes"
   ]
  },
  {
   "cell_type": "code",
   "execution_count": 44,
   "metadata": {
    "collapsed": false
   },
   "outputs": [
    {
     "name": "stdout",
     "output_type": "stream",
     "text": [
      "(1347828, 7)\n"
     ]
    },
    {
     "data": {
      "text/html": [
       "<div>\n",
       "<table border=\"1\" class=\"dataframe\">\n",
       "  <thead>\n",
       "    <tr style=\"text-align: right;\">\n",
       "      <th></th>\n",
       "      <th>miso_id</th>\n",
       "      <th>sample_id</th>\n",
       "      <th>miso_psi</th>\n",
       "      <th>outrigger_psi</th>\n",
       "      <th>notes_abbrev</th>\n",
       "      <th>notes</th>\n",
       "      <th>comparison_categories</th>\n",
       "    </tr>\n",
       "  </thead>\n",
       "  <tbody>\n",
       "    <tr>\n",
       "      <th>0</th>\n",
       "      <td>chr10:100150355:100150511:-@chr10:100148111:100148265:-@chr10:100146958:100147064:-</td>\n",
       "      <td>CVN_35</td>\n",
       "      <td>0.15</td>\n",
       "      <td>-0.1</td>\n",
       "      <td>Case 3</td>\n",
       "      <td>Case 3: All junctions with insufficient reads</td>\n",
       "      <td>miso Psi, outrigger NA</td>\n",
       "    </tr>\n",
       "    <tr>\n",
       "      <th>3</th>\n",
       "      <td>chr10:100174766:100174978:-@chr10:100174489:100174591:-@chr10:100173705:100174052:-</td>\n",
       "      <td>CVN_17</td>\n",
       "      <td>0.09</td>\n",
       "      <td>-0.1</td>\n",
       "      <td>Case 3</td>\n",
       "      <td>Case 3: All junctions with insufficient reads</td>\n",
       "      <td>miso Psi, outrigger NA</td>\n",
       "    </tr>\n",
       "    <tr>\n",
       "      <th>5</th>\n",
       "      <td>chr10:100186972:100187021:-@chr10:100185575:100185742:-@chr10:100185298:100185477:-</td>\n",
       "      <td>M2_05</td>\n",
       "      <td>0.94</td>\n",
       "      <td>-0.1</td>\n",
       "      <td>Case 4</td>\n",
       "      <td>Case 4: Only one junction with sufficient reads</td>\n",
       "      <td>miso Psi, outrigger NA</td>\n",
       "    </tr>\n",
       "    <tr>\n",
       "      <th>6</th>\n",
       "      <td>chr10:100186972:100187021:-@chr10:100185575:100185742:-@chr10:100185298:100185477:-</td>\n",
       "      <td>MSA_31</td>\n",
       "      <td>0.85</td>\n",
       "      <td>-0.1</td>\n",
       "      <td>Case 3</td>\n",
       "      <td>Case 3: All junctions with insufficient reads</td>\n",
       "      <td>miso Psi, outrigger NA</td>\n",
       "    </tr>\n",
       "    <tr>\n",
       "      <th>7</th>\n",
       "      <td>chr10:100186972:100187021:-@chr10:100185575:100185742:-@chr10:100185298:100185477:-</td>\n",
       "      <td>P2_12</td>\n",
       "      <td>0.98</td>\n",
       "      <td>1.0</td>\n",
       "      <td>Case 7</td>\n",
       "      <td>Case 7: Inclusion</td>\n",
       "      <td>Within $|\\Delta\\Psi| \\leq 0.2$</td>\n",
       "    </tr>\n",
       "  </tbody>\n",
       "</table>\n",
       "</div>"
      ],
      "text/plain": [
       "                                                                               miso_id  \\\n",
       "0  chr10:100150355:100150511:-@chr10:100148111:100148265:-@chr10:100146958:100147064:-   \n",
       "3  chr10:100174766:100174978:-@chr10:100174489:100174591:-@chr10:100173705:100174052:-   \n",
       "5  chr10:100186972:100187021:-@chr10:100185575:100185742:-@chr10:100185298:100185477:-   \n",
       "6  chr10:100186972:100187021:-@chr10:100185575:100185742:-@chr10:100185298:100185477:-   \n",
       "7  chr10:100186972:100187021:-@chr10:100185575:100185742:-@chr10:100185298:100185477:-   \n",
       "\n",
       "  sample_id  miso_psi  outrigger_psi notes_abbrev  \\\n",
       "0    CVN_35      0.15           -0.1       Case 3   \n",
       "3    CVN_17      0.09           -0.1       Case 3   \n",
       "5     M2_05      0.94           -0.1       Case 4   \n",
       "6    MSA_31      0.85           -0.1       Case 3   \n",
       "7     P2_12      0.98            1.0       Case 7   \n",
       "\n",
       "                                             notes  \\\n",
       "0    Case 3: All junctions with insufficient reads   \n",
       "3    Case 3: All junctions with insufficient reads   \n",
       "5  Case 4: Only one junction with sufficient reads   \n",
       "6    Case 3: All junctions with insufficient reads   \n",
       "7                                Case 7: Inclusion   \n",
       "\n",
       "            comparison_categories  \n",
       "0          miso Psi, outrigger NA  \n",
       "3          miso Psi, outrigger NA  \n",
       "5          miso Psi, outrigger NA  \n",
       "6          miso Psi, outrigger NA  \n",
       "7  Within $|\\Delta\\Psi| \\leq 0.2$  "
      ]
     },
     "execution_count": 44,
     "metadata": {},
     "output_type": "execute_result"
    }
   ],
   "source": [
    "miso_psi_comparison_dropna_fillna = miso_psi_comparison_dropna.fillna(-0.1)\n",
    "print(miso_psi_comparison_dropna_fillna.shape)\n",
    "miso_psi_comparison_dropna_fillna.head()"
   ]
  },
  {
   "cell_type": "code",
   "execution_count": 45,
   "metadata": {
    "collapsed": false
   },
   "outputs": [
    {
     "data": {
      "text/plain": [
       "['Case 1',\n",
       " 'Case 2',\n",
       " 'Case 3',\n",
       " 'Case 4',\n",
       " 'Case 5',\n",
       " 'Case 6',\n",
       " 'Case 7',\n",
       " 'Case 8',\n",
       " 'Case 9a',\n",
       " 'Case 9b',\n",
       " 'Case 10a',\n",
       " 'Case 10b',\n",
       " 'Case 11a',\n",
       " 'Case 11b']"
      ]
     },
     "execution_count": 45,
     "metadata": {},
     "output_type": "execute_result"
    }
   ],
   "source": [
    "case_order"
   ]
  },
  {
   "cell_type": "code",
   "execution_count": 46,
   "metadata": {
    "collapsed": false
   },
   "outputs": [
    {
     "data": {
      "image/png": "[encoded data removed]",
      "text/plain": [
       "<matplotlib.figure.Figure at 0x2b40fc7b8190>"
      ]
     },
     "metadata": {},
     "output_type": "display_data"
    }
   ],
   "source": [
    "g = sns.FacetGrid(miso_psi_comparison_dropna_fillna, col='notes_abbrev', col_wrap=4, col_order=case_order, size=1.5)\n",
    "g.map(plt.scatter, 'outrigger_psi', 'miso_psi', alpha=0.5, color='#262626', rasterized=True, s=1)\n",
    "g.set_titles('{col_name}')\n",
    "g.set(xticks=[0, 0.5, 1], yticks=[0, 0.5, 1])\n",
    "g.savefig('{}/outrigger_vs_miso_psi_faceted.pdf'.format(figure_folder), dpi=300)"
   ]
  },
  {
   "cell_type": "code",
   "execution_count": 47,
   "metadata": {
    "collapsed": false
   },
   "outputs": [
    {
     "data": {
      "text/html": [
       "<div>\n",
       "<table border=\"1\" class=\"dataframe\">\n",
       "  <thead>\n",
       "    <tr style=\"text-align: right;\">\n",
       "      <th></th>\n",
       "      <th>miso_id</th>\n",
       "      <th>sample_id</th>\n",
       "      <th>miso_psi</th>\n",
       "      <th>outrigger_psi</th>\n",
       "      <th>notes_abbrev</th>\n",
       "      <th>notes</th>\n",
       "      <th>comparison_categories</th>\n",
       "      <th>either_na</th>\n",
       "    </tr>\n",
       "  </thead>\n",
       "  <tbody>\n",
       "    <tr>\n",
       "      <th>0</th>\n",
       "      <td>chr10:100150355:100150511:-@chr10:100148111:100148265:-@chr10:100146958:100147064:-</td>\n",
       "      <td>CVN_35</td>\n",
       "      <td>0.15</td>\n",
       "      <td>-0.1</td>\n",
       "      <td>Case 3</td>\n",
       "      <td>Case 3: All junctions with insufficient reads</td>\n",
       "      <td>miso Psi, outrigger NA</td>\n",
       "      <td>False Positive</td>\n",
       "    </tr>\n",
       "    <tr>\n",
       "      <th>3</th>\n",
       "      <td>chr10:100174766:100174978:-@chr10:100174489:100174591:-@chr10:100173705:100174052:-</td>\n",
       "      <td>CVN_17</td>\n",
       "      <td>0.09</td>\n",
       "      <td>-0.1</td>\n",
       "      <td>Case 3</td>\n",
       "      <td>Case 3: All junctions with insufficient reads</td>\n",
       "      <td>miso Psi, outrigger NA</td>\n",
       "      <td>False Positive</td>\n",
       "    </tr>\n",
       "    <tr>\n",
       "      <th>5</th>\n",
       "      <td>chr10:100186972:100187021:-@chr10:100185575:100185742:-@chr10:100185298:100185477:-</td>\n",
       "      <td>M2_05</td>\n",
       "      <td>0.94</td>\n",
       "      <td>-0.1</td>\n",
       "      <td>Case 4</td>\n",
       "      <td>Case 4: Only one junction with sufficient reads</td>\n",
       "      <td>miso Psi, outrigger NA</td>\n",
       "      <td>False Positive</td>\n",
       "    </tr>\n",
       "    <tr>\n",
       "      <th>6</th>\n",
       "      <td>chr10:100186972:100187021:-@chr10:100185575:100185742:-@chr10:100185298:100185477:-</td>\n",
       "      <td>MSA_31</td>\n",
       "      <td>0.85</td>\n",
       "      <td>-0.1</td>\n",
       "      <td>Case 3</td>\n",
       "      <td>Case 3: All junctions with insufficient reads</td>\n",
       "      <td>miso Psi, outrigger NA</td>\n",
       "      <td>False Positive</td>\n",
       "    </tr>\n",
       "    <tr>\n",
       "      <th>7</th>\n",
       "      <td>chr10:100186972:100187021:-@chr10:100185575:100185742:-@chr10:100185298:100185477:-</td>\n",
       "      <td>P2_12</td>\n",
       "      <td>0.98</td>\n",
       "      <td>1.0</td>\n",
       "      <td>Case 7</td>\n",
       "      <td>Case 7: Inclusion</td>\n",
       "      <td>Within $|\\Delta\\Psi| \\leq 0.2$</td>\n",
       "      <td>True Positive</td>\n",
       "    </tr>\n",
       "  </tbody>\n",
       "</table>\n",
       "</div>"
      ],
      "text/plain": [
       "                                                                               miso_id  \\\n",
       "0  chr10:100150355:100150511:-@chr10:100148111:100148265:-@chr10:100146958:100147064:-   \n",
       "3  chr10:100174766:100174978:-@chr10:100174489:100174591:-@chr10:100173705:100174052:-   \n",
       "5  chr10:100186972:100187021:-@chr10:100185575:100185742:-@chr10:100185298:100185477:-   \n",
       "6  chr10:100186972:100187021:-@chr10:100185575:100185742:-@chr10:100185298:100185477:-   \n",
       "7  chr10:100186972:100187021:-@chr10:100185575:100185742:-@chr10:100185298:100185477:-   \n",
       "\n",
       "  sample_id  miso_psi  outrigger_psi notes_abbrev  \\\n",
       "0    CVN_35      0.15           -0.1       Case 3   \n",
       "3    CVN_17      0.09           -0.1       Case 3   \n",
       "5     M2_05      0.94           -0.1       Case 4   \n",
       "6    MSA_31      0.85           -0.1       Case 3   \n",
       "7     P2_12      0.98            1.0       Case 7   \n",
       "\n",
       "                                             notes  \\\n",
       "0    Case 3: All junctions with insufficient reads   \n",
       "3    Case 3: All junctions with insufficient reads   \n",
       "5  Case 4: Only one junction with sufficient reads   \n",
       "6    Case 3: All junctions with insufficient reads   \n",
       "7                                Case 7: Inclusion   \n",
       "\n",
       "            comparison_categories       either_na  \n",
       "0          miso Psi, outrigger NA  False Positive  \n",
       "3          miso Psi, outrigger NA  False Positive  \n",
       "5          miso Psi, outrigger NA  False Positive  \n",
       "6          miso Psi, outrigger NA  False Positive  \n",
       "7  Within $|\\Delta\\Psi| \\leq 0.2$   True Positive  "
      ]
     },
     "execution_count": 47,
     "metadata": {},
     "output_type": "execute_result"
    }
   ],
   "source": [
    "miso_psi_comparison_dropna_fillna['either_na'] = \"True Positive\"\n",
    "miso_psi_comparison_dropna_fillna.loc[miso_psi_comparison_dropna['outrigger_psi'].isnull(), 'either_na'] = 'False Positive'\n",
    "miso_psi_comparison_dropna_fillna.loc[miso_psi_comparison_dropna['miso_psi'].isnull(), 'either_na'] = 'False Negative'\n",
    "miso_psi_comparison_dropna_fillna.head()"
   ]
  },
  {
   "cell_type": "code",
   "execution_count": 48,
   "metadata": {
    "collapsed": false
   },
   "outputs": [
    {
     "data": {
      "image/png": "[encoded data removed]",
      "text/plain": [
       "<matplotlib.figure.Figure at 0x2b40fdb8e6d0>"
      ]
     },
     "metadata": {},
     "output_type": "display_data"
    }
   ],
   "source": [
    "g = sns.FacetGrid(miso_psi_comparison_dropna_fillna, col='notes_abbrev', \n",
    "                  col_wrap=4, col_order=case_order, size=1.5, hue='either_na', \n",
    "                  hue_order=['False Positive', 'False Negative', 'True Positive'],\n",
    "                  palette=[false_positive_color, false_negative_color, '#262626'])\n",
    "g.map(plt.scatter, 'outrigger_psi', 'miso_psi', alpha=0.5, rasterized=True, s=1)\n",
    "g.set_titles('{col_name}')\n",
    "g.set(xticks=[0, 0.5, 1], yticks=[0, 0.5, 1])\n",
    "g.savefig('{}/outrigger_vs_miso_psi_faceted_na_hue.pdf'.format(figure_folder), dpi=300)"
   ]
  },
  {
   "cell_type": "code",
   "execution_count": 49,
   "metadata": {
    "collapsed": false
   },
   "outputs": [
    {
     "data": {
      "text/plain": [
       "['Other',\n",
       " 'miso NA, outrigger Psi',\n",
       " 'miso Psi, outrigger 0',\n",
       " 'miso Psi, outrigger 1',\n",
       " 'miso Psi, outrigger NA']"
      ]
     },
     "execution_count": 49,
     "metadata": {},
     "output_type": "execute_result"
    }
   ],
   "source": [
    "not_within = [x for x in category_sizes.index if 'Within' not in x]\n",
    "not_within"
   ]
  },
  {
   "cell_type": "code",
   "execution_count": 50,
   "metadata": {
    "collapsed": false
   },
   "outputs": [
    {
     "data": {
      "text/plain": [
       "[<matplotlib.text.Text at 0x2b41020e8e50>,\n",
       " <matplotlib.text.Text at 0x2b410210cc90>,\n",
       " <matplotlib.text.Text at 0x2b40fc6a8250>,\n",
       " <matplotlib.text.Text at 0x2b40fc6a89d0>,\n",
       " <matplotlib.text.Text at 0x2b40fc6c9190>,\n",
       " <matplotlib.text.Text at 0x2b40fc6c9910>]"
      ]
     },
     "execution_count": 50,
     "metadata": {},
     "output_type": "execute_result"
    },
    {
     "data": {
      "image/png": "[encoded data removed]",
      "text/plain": [
       "<matplotlib.figure.Figure at 0x2b40fef425d0>"
      ]
     },
     "metadata": {},
     "output_type": "display_data"
    }
   ],
   "source": [
    "palette = dict(zip(not_within, map(mpl.colors.rgb2hex, sns.color_palette('Set2'))))\n",
    "palette['Within $|\\Delta\\Psi| \\leq 0.2$'] = '#262626'\n",
    "palette_series = pd.Series(palette)\n",
    "sns.palplot(palette_series)\n",
    "\n",
    "ax = plt.gca()\n",
    "ax.set(xticks=np.arange(len(palette_series))-0.2)\n",
    "ax.set_xticklabels(palette_series.index, rotation=30)"
   ]
  },
  {
   "cell_type": "code",
   "execution_count": 51,
   "metadata": {
    "collapsed": false
   },
   "outputs": [
    {
     "data": {
      "text/plain": [
       "comparison_categories\n",
       "Other                              0.426019\n",
       "Within $|\\Delta\\Psi| \\leq 0.2$    41.782037\n",
       "miso NA, outrigger Psi            12.240212\n",
       "miso Psi, outrigger 0              0.542502\n",
       "miso Psi, outrigger 1              0.593770\n",
       "miso Psi, outrigger NA            44.415460\n",
       "dtype: float64"
      ]
     },
     "execution_count": 51,
     "metadata": {},
     "output_type": "execute_result"
    }
   ],
   "source": [
    "category_percentages = 100 * category_sizes/category_sizes.sum()\n",
    "category_percentages"
   ]
  },
  {
   "cell_type": "code",
   "execution_count": 52,
   "metadata": {
    "collapsed": false
   },
   "outputs": [
    {
     "data": {
      "text/plain": [
       "comparison_categories\n",
       "Other                              0.766434\n",
       "Within $|\\Delta\\Psi| \\leq 0.2$    75.168450\n",
       "miso NA, outrigger Psi            22.020892\n",
       "miso Psi, outrigger 0              0.975995\n",
       "miso Psi, outrigger 1              1.068229\n",
       "Name: outrigger, dtype: float64"
      ]
     },
     "execution_count": 52,
     "metadata": {},
     "output_type": "execute_result"
    }
   ],
   "source": [
    "outrigger_not_na = [x for x in category_sizes.index if 'outrigger NA' not in x]\n",
    "\n",
    "category_sizes_percent_outrigger = 100 * category_sizes[outrigger_not_na]/miso_psi_comparison_dropna['outrigger_psi'].notnull().sum()\n",
    "category_sizes_percent_outrigger.name = 'outrigger'\n",
    "category_sizes_percent_outrigger"
   ]
  },
  {
   "cell_type": "code",
   "execution_count": 56,
   "metadata": {
    "collapsed": false
   },
   "outputs": [
    {
     "data": {
      "image/png": "[encoded data removed]",
      "text/plain": [
       "<matplotlib.figure.Figure at 0x2b40fc234f90>"
      ]
     },
     "metadata": {},
     "output_type": "display_data"
    }
   ],
   "source": [
    "fig, ax = plt.subplots(figsize=(1, 1))\n",
    "miso_na_percent = category_sizes_percent_outrigger['miso NA, outrigger Psi']\n",
    "plt.pie([miso_na_percent, 100-miso_na_percent], startangle=90, \n",
    "        colors=[false_negative_color, '#262626'], \n",
    "        labels=['MISO NA, Outrigger Psi', 'MISO Psi, Outrigger Psi'], autopct='%.0f%%')\n",
    "ax.set(title='Outrigger SE and MXE events')\n",
    "fig.savefig('{}/miso_na_outrigger_psi_pie.pdf'.format(figure_folder))"
   ]
  },
  {
   "cell_type": "code",
   "execution_count": 57,
   "metadata": {
    "collapsed": false
   },
   "outputs": [
    {
     "data": {
      "text/plain": [
       "comparison_categories\n",
       "Other                              0.485437\n",
       "Within $|\\Delta\\Psi| \\leq 0.2$    47.609547\n",
       "miso Psi, outrigger 0              0.618167\n",
       "miso Psi, outrigger 1              0.676586\n",
       "miso Psi, outrigger NA            50.610263\n",
       "Name: miso, dtype: float64"
      ]
     },
     "execution_count": 57,
     "metadata": {},
     "output_type": "execute_result"
    }
   ],
   "source": [
    "miso_not_na = [x for x in category_sizes.index if 'miso NA' not in x]\n",
    "\n",
    "category_sizes_percent_miso = 100 * category_sizes[miso_not_na]/miso_psi_comparison_dropna['miso_psi'].notnull().sum()\n",
    "category_sizes_percent_miso.name = 'miso'\n",
    "category_sizes_percent_miso"
   ]
  },
  {
   "cell_type": "code",
   "execution_count": 59,
   "metadata": {
    "collapsed": false
   },
   "outputs": [
    {
     "data": {
      "image/png": "[encoded data removed]",
      "text/plain": [
       "<matplotlib.figure.Figure at 0x2b40fc4b2d10>"
      ]
     },
     "metadata": {},
     "output_type": "display_data"
    }
   ],
   "source": [
    "fig, ax = plt.subplots(figsize=(1, 1))\n",
    "outrigger_na_percent = category_sizes_percent_miso['miso Psi, outrigger NA']\n",
    "\n",
    "\n",
    "plt.pie([outrigger_na_percent, 100-outrigger_na_percent], startangle=90, \n",
    "        colors=[false_positive_color, '#262626'], \n",
    "        labels=['Miso Psi, Outrigger NA', 'Miso Psi, Outrigger Psi'], autopct='%.0f%%')\n",
    "ax.set(title='MISO SE and MXE events')\n",
    "fig.savefig('{}/miso_false_positives_pie.pdf'.format(figure_folder))"
   ]
  },
  {
   "cell_type": "code",
   "execution_count": null,
   "metadata": {
    "collapsed": false
   },
   "outputs": [],
   "source": [
    "category_percentages_df = category_sizes_percent_outrigger.to_frame().join(category_sizes_percent_miso, how='outer')\n",
    "category_percentages_df"
   ]
  },
  {
   "cell_type": "code",
   "execution_count": null,
   "metadata": {
    "collapsed": false
   },
   "outputs": [],
   "source": [
    "fig, ax = plt.subplots(figsize=(2, 1.5))\n",
    "sns.heatmap(category_percentages_df, annot=True, vmin=0, vmax=100, cbar_kws=dict(label='% of dataset'))\n",
    "fig.savefig('{}/comparison_categories_percentages_heatmap.pdf'.format(figure_folder))"
   ]
  },
  {
   "cell_type": "markdown",
   "metadata": {},
   "source": [
    "### Barplot"
   ]
  },
  {
   "cell_type": "code",
   "execution_count": null,
   "metadata": {
    "collapsed": false
   },
   "outputs": [],
   "source": [
    "category_percentages_tidy = category_percentages.reset_index()\n",
    "category_percentages_tidy = category_percentages_tidy.rename(columns={0: 'Percentage'})\n",
    "category_percentages_tidy"
   ]
  },
  {
   "cell_type": "code",
   "execution_count": null,
   "metadata": {
    "collapsed": false
   },
   "outputs": [],
   "source": [
    "fig, ax = plt.subplots(figsize=(2, 1.5))\n",
    "\n",
    "sns.barplot(y='comparison_categories', x='Percentage', \n",
    "            data=category_percentages_tidy, palette=palette)\n",
    "sns.despine()\n",
    "ax.set(xlabel='Percentage')\n",
    "xmin, xmax = ax.get_xlim()\n",
    "x_value_range = xmax - xmin\n",
    "xoffset = 0.025 * xmax\n",
    "\n",
    "for i, (case, x) in enumerate(category_percentages.iteritems()):\n",
    "#     x = category_sizes_not_both_na[case]\n",
    "    coords = (x + xoffset, i+0.2)\n",
    "    print(coords)\n",
    "    ax.annotate(\"{:.2f}\".format(x), coords, fontsize=8, \n",
    "                va='bottom', ha='left', color='black')\n",
    "\n",
    "fig.savefig('{}/comparison_categories_percentages_barplots_fullsize.pdf'.format(figure_folder))\n",
    "\n",
    "\n",
    "# ax.set(xlim=(0, 2))\n",
    "# fig.savefig('{}/comparison_categories_percentages_barplots_zoomed.pdf'.format(figure_folder))"
   ]
  },
  {
   "cell_type": "markdown",
   "metadata": {},
   "source": [
    "## Colored scatterplot"
   ]
  },
  {
   "cell_type": "code",
   "execution_count": null,
   "metadata": {
    "collapsed": true
   },
   "outputs": [],
   "source": [
    "vlim = (-0.15, 1.05)"
   ]
  },
  {
   "cell_type": "code",
   "execution_count": null,
   "metadata": {
    "collapsed": false
   },
   "outputs": [],
   "source": [
    "g = sns.FacetGrid(miso_psi_comparison_dropna_fillna,\n",
    "                  hue=col, palette=palette, \n",
    "#                   subplot_kws=dict(#ncols=2, nrows=7, wspace=0.01),\n",
    "#                   hue_order=['0 <= Psi <= 1', 'rmdup NA', 'original NA'],\n",
    "#                   palette=['#262626', original_na_color, rmdup_na_color],\n",
    "                  col_order=case_order, size=2, aspect=1.1)\n",
    "g.map(plt.scatter, 'outrigger_psi', 'miso_psi', alpha=0.5, rasterized=True, s=5)\n",
    "g.set_titles('{col_name}')\n",
    "g.set(xticks=[0, 0.5, 1], yticks=[0, 0.5, 1], xlim=vlim, ylim=vlim)\n",
    "g.add_legend()\n",
    "# g.fig.tight_layout(w_pad=0.1)\n",
    "g.savefig('{}/outrigger_vs_miso_psi.pdf'.format(figure_folder), dpi=300)"
   ]
  },
  {
   "cell_type": "code",
   "execution_count": null,
   "metadata": {
    "collapsed": false
   },
   "outputs": [],
   "source": [
    "g = sns.FacetGrid(miso_psi_comparison_dropna_fillna,\n",
    "                  hue=col, palette=palette, \n",
    "                  col='notes_abbrev', col_wrap=2,\n",
    "#                   subplot_kws=dict(#ncols=2, nrows=7, wspace=0.01),\n",
    "#                   hue_order=['0 <= Psi <= 1', 'rmdup NA', 'original NA'],\n",
    "#                   palette=['#262626', original_na_color, rmdup_na_color],\n",
    "                  col_order=case_order, size=2, aspect=1.1)\n",
    "g.map(plt.scatter, 'outrigger_psi', 'miso_psi', alpha=0.5, rasterized=True, s=5)\n",
    "g.set_titles('{col_name}')\n",
    "g.set(xticks=[0, 0.5, 1], yticks=[0, 0.5, 1], xlim=vlim, ylim=vlim)\n",
    "g.add_legend()\n",
    "# g.fig.tight_layout(w_pad=0.1)\n",
    "g.savefig('{}/outrigger_vs_miso_psi_faceted_case.pdf'.format(figure_folder), dpi=300)"
   ]
  },
  {
   "cell_type": "code",
   "execution_count": null,
   "metadata": {
    "collapsed": true
   },
   "outputs": [],
   "source": []
  }
 ],
 "metadata": {
  "kernelspec": {
   "display_name": "Python 2",
   "language": "python",
   "name": "python2"
  },
  "language_info": {
   "codemirror_mode": {
    "name": "ipython",
    "version": 2
   },
   "file_extension": ".py",
   "mimetype": "text/x-python",
   "name": "python",
   "nbconvert_exporter": "python",
   "pygments_lexer": "ipython2",
   "version": "2.7.11"
  }
 },
 "nbformat": 4,
 "nbformat_minor": 0
}
