{
 "cells": [
  {
   "cell_type": "code",
   "execution_count": 1,
   "metadata": {
    "collapsed": false
   },
   "outputs": [
    {
     "name": "stdout",
     "output_type": "stream",
     "text": [
      "2017-01-12 17:17:56\tReading datapackage from /projects/ps-yeolab/obotvinnik/flotilla_projects/singlecell_pnm/datapackage.json\n",
      "2017-01-12 17:17:56\tParsing datapackage to create a Study object\n",
      "https://s3-us-west-2.amazonaws.com/flotilla-projects/ercc/ERCC_Controls.txt has not been downloaded before.\n",
      "\tDownloading now to /home/obotvinnik/flotilla_projects/hg19/ERCC_Controls.txt\n"
     ]
    },
    {
     "name": "stderr",
     "output_type": "stream",
     "text": [
      "/home/obotvinnik/anaconda/lib/python2.7/site-packages/sklearn/cross_validation.py:44: DeprecationWarning: This module was deprecated in version 0.18 in favor of the model_selection module into which all the refactored classes and functions are moved. Also note that the interface of the new CV iterators are different from that of this module. This module will be removed in 0.20.\n",
      "  \"This module will be removed in 0.20.\", DeprecationWarning)\n",
      "Error loading species hg19 data: HTTP Error 404: Not Found"
     ]
    },
    {
     "name": "stdout",
     "output_type": "stream",
     "text": [
      "2017-01-12 17:18:34 \tInitializing Study\n",
      "2017-01-12 17:18:34 \tInitializing Predictor configuration manager for Study\n",
      "2017-01-12 17:18:34\tPredictor ExtraTreesClassifier is of type <class 'sklearn.ensemble.forest.ExtraTreesClassifier'>\n",
      "2017-01-12 17:18:34\tAdded ExtraTreesClassifier to default predictors\n",
      "2017-01-12 17:18:34\tPredictor ExtraTreesRegressor is of type <class 'sklearn.ensemble.forest.ExtraTreesRegressor'>\n",
      "2017-01-12 17:18:34\tAdded ExtraTreesRegressor to default predictors\n",
      "2017-01-12 17:18:34\tPredictor GradientBoostingClassifier is of type <class 'sklearn.ensemble.gradient_boosting.GradientBoostingClassifier'>\n",
      "2017-01-12 17:18:34\tAdded GradientBoostingClassifier to default predictors\n",
      "2017-01-12 17:18:34\tPredictor GradientBoostingRegressor is of type <class 'sklearn.ensemble.gradient_boosting.GradientBoostingRegressor'>\n",
      "2017-01-12 17:18:34\tAdded GradientBoostingRegressor to default predictors\n",
      "2017-01-12 17:18:34 \tLoading metadata\n",
      "2017-01-12 17:18:34\tLoading expression data\n",
      "2017-01-12 17:18:34\tInitializing expression\n",
      "2017-01-12 17:18:34\tDone initializing expression\n",
      "2017-01-12 17:18:38\tLoading splicing data\n",
      "2017-01-12 17:18:38\tInitializing splicing\n",
      "2017-01-12 17:18:38\tDone initializing splicing\n",
      "2017-01-12 17:18:38\tSuccessfully initialized a Study object!\n"
     ]
    }
   ],
   "source": [
    "from __future__ import print_function\n",
    "\n",
    "from collections import defaultdict\n",
    "\n",
    "import matplotlib as mpl\n",
    "import matplotlib.pyplot as plt\n",
    "import numpy as np\n",
    "import pandas as pd\n",
    "import seaborn as sns\n",
    "\n",
    "import six\n",
    "\n",
    "%matplotlib inline\n",
    "\n",
    "\n",
    "import flotilla\n",
    "\n",
    "\n",
    "flotilla_dir = '/projects/ps-yeolab/obotvinnik/flotilla_projects/'\n",
    "study = flotilla.embark('singlecell_pnm', flotilla_dir=flotilla_dir)"
   ]
  },
  {
   "cell_type": "code",
   "execution_count": 2,
   "metadata": {
    "collapsed": true
   },
   "outputs": [],
   "source": [
    "sns.set(style='white', context='paper', rc={'font.sans-serif':'Arial', 'pdf.fonttype': 42})"
   ]
  },
  {
   "cell_type": "code",
   "execution_count": 3,
   "metadata": {
    "collapsed": true
   },
   "outputs": [],
   "source": [
    "figure_folder = 'figures/021_outrigger_vs_rmdup_percentages'\n",
    "! mkdir -p $figure_folder"
   ]
  },
  {
   "cell_type": "code",
   "execution_count": 4,
   "metadata": {
    "collapsed": true
   },
   "outputs": [],
   "source": [
    "folder = '/projects/ps-yeolab/obotvinnik/singlecell_pnms'\n",
    "original_folder = '{}/outrigger_v2_bam_unstranded/psi'.format(folder)\n",
    "rmdup_folder = '{}/csvs_for_paper/outrigger_v2_rmdup_unstranded/psi'.format(folder)"
   ]
  },
  {
   "cell_type": "code",
   "execution_count": 5,
   "metadata": {
    "collapsed": false
   },
   "outputs": [
    {
     "data": {
      "text/plain": [
       "['Case 1',\n",
       " 'Case 2',\n",
       " 'Case 3',\n",
       " 'Case 4',\n",
       " 'Case 5',\n",
       " 'Case 6',\n",
       " 'Case 7',\n",
       " 'Case 8',\n",
       " 'Case 9a',\n",
       " 'Case 9b',\n",
       " 'Case 10a',\n",
       " 'Case 10b',\n",
       " 'Case 11a',\n",
       " 'Case 11b']"
      ]
     },
     "execution_count": 5,
     "metadata": {},
     "output_type": "execute_result"
    }
   ],
   "source": [
    "case_order = ['Case {}'.format(i+1) for i in range(8)] + ['Case {}{}'.format(i+1, x) for i in range(8, 11) for x in 'ab']\n",
    "case_order"
   ]
  },
  {
   "cell_type": "code",
   "execution_count": 6,
   "metadata": {
    "collapsed": false
   },
   "outputs": [
    {
     "data": {
      "text/plain": [
       "14"
      ]
     },
     "execution_count": 6,
     "metadata": {},
     "output_type": "execute_result"
    }
   ],
   "source": [
    "len(case_order)"
   ]
  },
  {
   "cell_type": "code",
   "execution_count": 7,
   "metadata": {
    "collapsed": false
   },
   "outputs": [
    {
     "name": "stdout",
     "output_type": "stream",
     "text": [
      "-rw-r--r-- 1 obotvinnik yeo-group 6.9G Jan 12 16:24 /projects/ps-yeolab/obotvinnik/singlecell_pnms/outrigger_summary_original_rmdup_combined_tidy.csv\r\n"
     ]
    }
   ],
   "source": [
    "! ls -lha $folder/outrigger_summary_original_rmdup_combined_tidy.csv"
   ]
  },
  {
   "cell_type": "code",
   "execution_count": 8,
   "metadata": {
    "collapsed": false
   },
   "outputs": [
    {
     "name": "stdout",
     "output_type": "stream",
     "text": [
      "(12567319, 27)\n"
     ]
    },
    {
     "name": "stderr",
     "output_type": "stream",
     "text": [
      "/home/obotvinnik/anaconda/lib/python2.7/site-packages/IPython/core/interactiveshell.py:2723: DtypeWarning: Columns (20,22,23,24,25,26) have mixed types. Specify dtype option on import or set low_memory=False.\n",
      "  interactivity=interactivity, compiler=compiler, result=result)\n"
     ]
    },
    {
     "data": {
      "text/html": [
       "<div>\n",
       "<table border=\"1\" class=\"dataframe\">\n",
       "  <thead>\n",
       "    <tr style=\"text-align: right;\">\n",
       "      <th></th>\n",
       "      <th>sample_id</th>\n",
       "      <th>event_id</th>\n",
       "      <th>incompatible_junction0_original</th>\n",
       "      <th>incompatible_junction1_original</th>\n",
       "      <th>isoform1_junction13_original</th>\n",
       "      <th>isoform1_junction34_original</th>\n",
       "      <th>isoform2_junction12_original</th>\n",
       "      <th>isoform2_junction23_original</th>\n",
       "      <th>isoform2_junction24_original</th>\n",
       "      <th>notes_original</th>\n",
       "      <th>...</th>\n",
       "      <th>isoform2_junction12_rmdup</th>\n",
       "      <th>isoform2_junction23_rmdup</th>\n",
       "      <th>isoform2_junction24_rmdup</th>\n",
       "      <th>notes_rmdup</th>\n",
       "      <th>psi_rmdup</th>\n",
       "      <th>bam</th>\n",
       "      <th>notes_copy</th>\n",
       "      <th>note_copy</th>\n",
       "      <th>notes_abbrev_rmdup</th>\n",
       "      <th>dataset_rmdup</th>\n",
       "    </tr>\n",
       "  </thead>\n",
       "  <tbody>\n",
       "    <tr>\n",
       "      <th>0</th>\n",
       "      <td>CVN_01</td>\n",
       "      <td>isoform1=junction:chr10:100189400-100190327:-|...</td>\n",
       "      <td>NaN</td>\n",
       "      <td>NaN</td>\n",
       "      <td>0.0</td>\n",
       "      <td>NaN</td>\n",
       "      <td>0.0</td>\n",
       "      <td>0.0</td>\n",
       "      <td>NaN</td>\n",
       "      <td>Case 2: Zero observed reads</td>\n",
       "      <td>...</td>\n",
       "      <td>0.0</td>\n",
       "      <td>0.0</td>\n",
       "      <td>NaN</td>\n",
       "      <td>Case 2: Zero observed reads</td>\n",
       "      <td>NaN</td>\n",
       "      <td>CVN_01_R1.fastq.gz.polyATrim.adapterTrim.rmRep...</td>\n",
       "      <td>Case 2: Zero observed reads</td>\n",
       "      <td>Case 2: Zero observed reads</td>\n",
       "      <td>Case 2</td>\n",
       "      <td>rmdup</td>\n",
       "    </tr>\n",
       "    <tr>\n",
       "      <th>1</th>\n",
       "      <td>CVN_02</td>\n",
       "      <td>isoform1=junction:chr10:100189400-100190327:-|...</td>\n",
       "      <td>NaN</td>\n",
       "      <td>NaN</td>\n",
       "      <td>0.0</td>\n",
       "      <td>NaN</td>\n",
       "      <td>0.0</td>\n",
       "      <td>0.0</td>\n",
       "      <td>NaN</td>\n",
       "      <td>Case 2: Zero observed reads</td>\n",
       "      <td>...</td>\n",
       "      <td>0.0</td>\n",
       "      <td>0.0</td>\n",
       "      <td>NaN</td>\n",
       "      <td>Case 2: Zero observed reads</td>\n",
       "      <td>NaN</td>\n",
       "      <td>CVN_02_R1.fastq.gz.polyATrim.adapterTrim.rmRep...</td>\n",
       "      <td>Case 2: Zero observed reads</td>\n",
       "      <td>Case 2: Zero observed reads</td>\n",
       "      <td>Case 2</td>\n",
       "      <td>rmdup</td>\n",
       "    </tr>\n",
       "    <tr>\n",
       "      <th>2</th>\n",
       "      <td>CVN_03</td>\n",
       "      <td>isoform1=junction:chr10:100189400-100190327:-|...</td>\n",
       "      <td>NaN</td>\n",
       "      <td>NaN</td>\n",
       "      <td>0.0</td>\n",
       "      <td>NaN</td>\n",
       "      <td>0.0</td>\n",
       "      <td>0.0</td>\n",
       "      <td>NaN</td>\n",
       "      <td>Case 2: Zero observed reads</td>\n",
       "      <td>...</td>\n",
       "      <td>0.0</td>\n",
       "      <td>0.0</td>\n",
       "      <td>NaN</td>\n",
       "      <td>Case 2: Zero observed reads</td>\n",
       "      <td>NaN</td>\n",
       "      <td>CVN_03_R1.fastq.gz.polyATrim.adapterTrim.rmRep...</td>\n",
       "      <td>Case 2: Zero observed reads</td>\n",
       "      <td>Case 2: Zero observed reads</td>\n",
       "      <td>Case 2</td>\n",
       "      <td>rmdup</td>\n",
       "    </tr>\n",
       "    <tr>\n",
       "      <th>3</th>\n",
       "      <td>CVN_04</td>\n",
       "      <td>isoform1=junction:chr10:100189400-100190327:-|...</td>\n",
       "      <td>NaN</td>\n",
       "      <td>NaN</td>\n",
       "      <td>0.0</td>\n",
       "      <td>NaN</td>\n",
       "      <td>0.0</td>\n",
       "      <td>0.0</td>\n",
       "      <td>NaN</td>\n",
       "      <td>Case 2: Zero observed reads</td>\n",
       "      <td>...</td>\n",
       "      <td>0.0</td>\n",
       "      <td>0.0</td>\n",
       "      <td>NaN</td>\n",
       "      <td>Case 2: Zero observed reads</td>\n",
       "      <td>NaN</td>\n",
       "      <td>CVN_04_R1.fastq.gz.polyATrim.adapterTrim.rmRep...</td>\n",
       "      <td>Case 2: Zero observed reads</td>\n",
       "      <td>Case 2: Zero observed reads</td>\n",
       "      <td>Case 2</td>\n",
       "      <td>rmdup</td>\n",
       "    </tr>\n",
       "    <tr>\n",
       "      <th>4</th>\n",
       "      <td>CVN_05</td>\n",
       "      <td>isoform1=junction:chr10:100189400-100190327:-|...</td>\n",
       "      <td>NaN</td>\n",
       "      <td>NaN</td>\n",
       "      <td>0.0</td>\n",
       "      <td>NaN</td>\n",
       "      <td>0.0</td>\n",
       "      <td>0.0</td>\n",
       "      <td>NaN</td>\n",
       "      <td>Case 2: Zero observed reads</td>\n",
       "      <td>...</td>\n",
       "      <td>0.0</td>\n",
       "      <td>0.0</td>\n",
       "      <td>NaN</td>\n",
       "      <td>Case 2: Zero observed reads</td>\n",
       "      <td>NaN</td>\n",
       "      <td>CVN_05_R1.fastq.gz.polyATrim.adapterTrim.rmRep...</td>\n",
       "      <td>Case 2: Zero observed reads</td>\n",
       "      <td>Case 2: Zero observed reads</td>\n",
       "      <td>Case 2</td>\n",
       "      <td>rmdup</td>\n",
       "    </tr>\n",
       "  </tbody>\n",
       "</table>\n",
       "<p>5 rows × 27 columns</p>\n",
       "</div>"
      ],
      "text/plain": [
       "  sample_id                                           event_id  \\\n",
       "0    CVN_01  isoform1=junction:chr10:100189400-100190327:-|...   \n",
       "1    CVN_02  isoform1=junction:chr10:100189400-100190327:-|...   \n",
       "2    CVN_03  isoform1=junction:chr10:100189400-100190327:-|...   \n",
       "3    CVN_04  isoform1=junction:chr10:100189400-100190327:-|...   \n",
       "4    CVN_05  isoform1=junction:chr10:100189400-100190327:-|...   \n",
       "\n",
       "   incompatible_junction0_original  incompatible_junction1_original  \\\n",
       "0                              NaN                              NaN   \n",
       "1                              NaN                              NaN   \n",
       "2                              NaN                              NaN   \n",
       "3                              NaN                              NaN   \n",
       "4                              NaN                              NaN   \n",
       "\n",
       "   isoform1_junction13_original  isoform1_junction34_original  \\\n",
       "0                           0.0                           NaN   \n",
       "1                           0.0                           NaN   \n",
       "2                           0.0                           NaN   \n",
       "3                           0.0                           NaN   \n",
       "4                           0.0                           NaN   \n",
       "\n",
       "   isoform2_junction12_original  isoform2_junction23_original  \\\n",
       "0                           0.0                           0.0   \n",
       "1                           0.0                           0.0   \n",
       "2                           0.0                           0.0   \n",
       "3                           0.0                           0.0   \n",
       "4                           0.0                           0.0   \n",
       "\n",
       "   isoform2_junction24_original               notes_original      ...        \\\n",
       "0                           NaN  Case 2: Zero observed reads      ...         \n",
       "1                           NaN  Case 2: Zero observed reads      ...         \n",
       "2                           NaN  Case 2: Zero observed reads      ...         \n",
       "3                           NaN  Case 2: Zero observed reads      ...         \n",
       "4                           NaN  Case 2: Zero observed reads      ...         \n",
       "\n",
       "   isoform2_junction12_rmdup isoform2_junction23_rmdup  \\\n",
       "0                        0.0                       0.0   \n",
       "1                        0.0                       0.0   \n",
       "2                        0.0                       0.0   \n",
       "3                        0.0                       0.0   \n",
       "4                        0.0                       0.0   \n",
       "\n",
       "  isoform2_junction24_rmdup                  notes_rmdup  psi_rmdup  \\\n",
       "0                       NaN  Case 2: Zero observed reads        NaN   \n",
       "1                       NaN  Case 2: Zero observed reads        NaN   \n",
       "2                       NaN  Case 2: Zero observed reads        NaN   \n",
       "3                       NaN  Case 2: Zero observed reads        NaN   \n",
       "4                       NaN  Case 2: Zero observed reads        NaN   \n",
       "\n",
       "                                                 bam  \\\n",
       "0  CVN_01_R1.fastq.gz.polyATrim.adapterTrim.rmRep...   \n",
       "1  CVN_02_R1.fastq.gz.polyATrim.adapterTrim.rmRep...   \n",
       "2  CVN_03_R1.fastq.gz.polyATrim.adapterTrim.rmRep...   \n",
       "3  CVN_04_R1.fastq.gz.polyATrim.adapterTrim.rmRep...   \n",
       "4  CVN_05_R1.fastq.gz.polyATrim.adapterTrim.rmRep...   \n",
       "\n",
       "                    notes_copy                    note_copy  \\\n",
       "0  Case 2: Zero observed reads  Case 2: Zero observed reads   \n",
       "1  Case 2: Zero observed reads  Case 2: Zero observed reads   \n",
       "2  Case 2: Zero observed reads  Case 2: Zero observed reads   \n",
       "3  Case 2: Zero observed reads  Case 2: Zero observed reads   \n",
       "4  Case 2: Zero observed reads  Case 2: Zero observed reads   \n",
       "\n",
       "   notes_abbrev_rmdup  dataset_rmdup  \n",
       "0              Case 2          rmdup  \n",
       "1              Case 2          rmdup  \n",
       "2              Case 2          rmdup  \n",
       "3              Case 2          rmdup  \n",
       "4              Case 2          rmdup  \n",
       "\n",
       "[5 rows x 27 columns]"
      ]
     },
     "execution_count": 8,
     "metadata": {},
     "output_type": "execute_result"
    }
   ],
   "source": [
    "summary = pd.read_csv('{}/outrigger_summary_original_rmdup_combined_wide.csv'.format(folder))\n",
    "print(summary.shape)\n",
    "\n",
    "summary.head()"
   ]
  },
  {
   "cell_type": "code",
   "execution_count": 9,
   "metadata": {
    "collapsed": false
   },
   "outputs": [
    {
     "data": {
      "text/plain": [
       "notes_abbrev_rmdup\n",
       "Case 1       442948\n",
       "Case 11a         25\n",
       "Case 11b         11\n",
       "Case 19a      21960\n",
       "Case 19b        636\n",
       "Case 2      6046981\n",
       "Case 3       544090\n",
       "Case 4       855718\n",
       "Case 5       106747\n",
       "Case 6       460537\n",
       "Case 7       708422\n",
       "Case 8        42960\n",
       "Case 9a       23733\n",
       "Case 9b        6538\n",
       "dtype: int64"
      ]
     },
     "execution_count": 9,
     "metadata": {},
     "output_type": "execute_result"
    }
   ],
   "source": [
    "summary.groupby('notes_abbrev_rmdup').size()"
   ]
  },
  {
   "cell_type": "code",
   "execution_count": 10,
   "metadata": {
    "collapsed": false
   },
   "outputs": [
    {
     "data": {
      "text/plain": [
       "notes_abbrev_original\n",
       "Case 1       480351\n",
       "Case 10a      41958\n",
       "Case 10b       1284\n",
       "Case 11a       1327\n",
       "Case 11b       1378\n",
       "Case 2      8920535\n",
       "Case 3       727246\n",
       "Case 4       951333\n",
       "Case 5       145599\n",
       "Case 6       468539\n",
       "Case 7       720021\n",
       "Case 8        56288\n",
       "Case 9a       42871\n",
       "Case 9b        8589\n",
       "dtype: int64"
      ]
     },
     "execution_count": 10,
     "metadata": {},
     "output_type": "execute_result"
    }
   ],
   "source": [
    "summary.groupby('notes_abbrev_original').size()"
   ]
  },
  {
   "cell_type": "markdown",
   "metadata": {},
   "source": [
    "## Percent of events in each category"
   ]
  },
  {
   "cell_type": "code",
   "execution_count": 11,
   "metadata": {
    "collapsed": true
   },
   "outputs": [],
   "source": [
    "max_delta_psi = 0.2"
   ]
  },
  {
   "cell_type": "code",
   "execution_count": 12,
   "metadata": {
    "collapsed": false
   },
   "outputs": [
    {
     "data": {
      "text/plain": [
       "comparison_categories\n",
       "Other                                  334\n",
       "Within $|\\Delta\\Psi| \\leq 0.2$     1234946\n",
       "rmdup 0, original Psi                   76\n",
       "rmdup 1, original Psi                  231\n",
       "rmdup NA, original NA             11214265\n",
       "rmdup NA, original Psi               95417\n",
       "rmdup Psi, original NA               22050\n",
       "dtype: int64"
      ]
     },
     "execution_count": 12,
     "metadata": {},
     "output_type": "execute_result"
    }
   ],
   "source": [
    "col = 'comparison_categories'\n",
    "\n",
    "summary[col] = 'Other'\n",
    "summary.loc[summary['psi_rmdup'].isnull() & summary['psi_original'].isnull(), col] = 'rmdup NA, original NA'\n",
    "summary.loc[(summary['psi_rmdup'] - summary['psi_original']).abs() <= max_delta_psi, col] = \\\n",
    "    'Within $|\\Delta\\Psi| \\leq {}$'.format(max_delta_psi)\n",
    "summary.loc[summary['psi_rmdup'].notnull() & summary['psi_original'].isnull(), col] = 'rmdup Psi, original NA'\n",
    "summary.loc[summary['psi_rmdup'].isnull() & summary['psi_original'].notnull(), col] = 'rmdup NA, original Psi'\n",
    "summary.loc[(summary['psi_rmdup'] == 0) & (summary['psi_original'] > max_delta_psi), col] = 'rmdup 0, original Psi'\n",
    "summary.loc[(summary['psi_rmdup'] == 1) & (summary['psi_original'] < (1 - max_delta_psi)), col] = 'rmdup 1, original Psi'\n",
    "category_sizes = summary.groupby(col).size()\n",
    "category_sizes"
   ]
  },
  {
   "cell_type": "code",
   "execution_count": 13,
   "metadata": {
    "collapsed": false
   },
   "outputs": [
    {
     "data": {
      "text/plain": [
       "comparison_categories\n",
       "Other                              0.002658\n",
       "Within $|\\Delta\\Psi| \\leq 0.2$     9.826646\n",
       "rmdup 0, original Psi              0.000605\n",
       "rmdup 1, original Psi              0.001838\n",
       "rmdup NA, original NA             89.233551\n",
       "rmdup NA, original Psi             0.759247\n",
       "rmdup Psi, original NA             0.175455\n",
       "dtype: float64"
      ]
     },
     "execution_count": 13,
     "metadata": {},
     "output_type": "execute_result"
    }
   ],
   "source": [
    "category_percentages = 100 * category_sizes/category_sizes.sum()\n",
    "category_percentages"
   ]
  },
  {
   "cell_type": "code",
   "execution_count": 14,
   "metadata": {
    "collapsed": false
   },
   "outputs": [
    {
     "data": {
      "text/plain": [
       "comparison_categories\n",
       "Other                                 334\n",
       "Within $|\\Delta\\Psi| \\leq 0.2$    1234946\n",
       "rmdup 0, original Psi                  76\n",
       "rmdup 1, original Psi                 231\n",
       "rmdup NA, original Psi              95417\n",
       "rmdup Psi, original NA              22050\n",
       "dtype: int64"
      ]
     },
     "execution_count": 14,
     "metadata": {},
     "output_type": "execute_result"
    }
   ],
   "source": [
    "category_sizes_not_both_na = category_sizes[(category_sizes.index != \"rmdup NA, original NA\")]\n",
    "category_sizes_not_both_na"
   ]
  },
  {
   "cell_type": "code",
   "execution_count": 15,
   "metadata": {
    "collapsed": false
   },
   "outputs": [
    {
     "data": {
      "text/plain": [
       "1353054"
      ]
     },
     "execution_count": 15,
     "metadata": {},
     "output_type": "execute_result"
    }
   ],
   "source": [
    "category_sizes_not_both_na.sum()"
   ]
  },
  {
   "cell_type": "code",
   "execution_count": 16,
   "metadata": {
    "collapsed": false
   },
   "outputs": [
    {
     "data": {
      "text/plain": [
       "comparison_categories\n",
       "Other                              0.025094\n",
       "Within $|\\Delta\\Psi| \\leq 0.2$    92.783042\n",
       "rmdup 0, original Psi              0.005710\n",
       "rmdup 1, original Psi              0.017355\n",
       "rmdup NA, original Psi             7.168799\n",
       "Name: original, dtype: float64"
      ]
     },
     "execution_count": 16,
     "metadata": {},
     "output_type": "execute_result"
    }
   ],
   "source": [
    "original_not_na = [x for x in category_sizes_not_both_na.index if 'original NA' not in x]\n",
    "\n",
    "category_sizes_percent_original = 100 * category_sizes_not_both_na[original_not_na]/summary['psi_original'].notnull().sum()\n",
    "category_sizes_percent_original.name = 'original'\n",
    "category_sizes_percent_original"
   ]
  },
  {
   "cell_type": "code",
   "execution_count": 17,
   "metadata": {
    "collapsed": false
   },
   "outputs": [
    {
     "data": {
      "text/plain": [
       "comparison_categories\n",
       "Other                              0.026558\n",
       "Within $|\\Delta\\Psi| \\leq 0.2$    98.195743\n",
       "rmdup 0, original Psi              0.006043\n",
       "rmdup 1, original Psi              0.018368\n",
       "rmdup Psi, original NA             1.753288\n",
       "Name: rmdup, dtype: float64"
      ]
     },
     "execution_count": 17,
     "metadata": {},
     "output_type": "execute_result"
    }
   ],
   "source": [
    "rmdup_not_na = [x for x in category_sizes_not_both_na.index if 'rmdup NA' not in x]\n",
    "\n",
    "category_sizes_percent_rmdup = 100 * category_sizes_not_both_na[rmdup_not_na]/summary['psi_rmdup'].notnull().sum()\n",
    "category_sizes_percent_rmdup.name = 'rmdup'\n",
    "category_sizes_percent_rmdup"
   ]
  },
  {
   "cell_type": "code",
   "execution_count": 18,
   "metadata": {
    "collapsed": false
   },
   "outputs": [
    {
     "data": {
      "text/html": [
       "<div>\n",
       "<table border=\"1\" class=\"dataframe\">\n",
       "  <thead>\n",
       "    <tr style=\"text-align: right;\">\n",
       "      <th></th>\n",
       "      <th>original</th>\n",
       "      <th>rmdup</th>\n",
       "    </tr>\n",
       "    <tr>\n",
       "      <th>comparison_categories</th>\n",
       "      <th></th>\n",
       "      <th></th>\n",
       "    </tr>\n",
       "  </thead>\n",
       "  <tbody>\n",
       "    <tr>\n",
       "      <th>Other</th>\n",
       "      <td>0.025094</td>\n",
       "      <td>0.026558</td>\n",
       "    </tr>\n",
       "    <tr>\n",
       "      <th>Within $|\\Delta\\Psi| \\leq 0.2$</th>\n",
       "      <td>92.783042</td>\n",
       "      <td>98.195743</td>\n",
       "    </tr>\n",
       "    <tr>\n",
       "      <th>rmdup 0, original Psi</th>\n",
       "      <td>0.005710</td>\n",
       "      <td>0.006043</td>\n",
       "    </tr>\n",
       "    <tr>\n",
       "      <th>rmdup 1, original Psi</th>\n",
       "      <td>0.017355</td>\n",
       "      <td>0.018368</td>\n",
       "    </tr>\n",
       "    <tr>\n",
       "      <th>rmdup NA, original Psi</th>\n",
       "      <td>7.168799</td>\n",
       "      <td>NaN</td>\n",
       "    </tr>\n",
       "    <tr>\n",
       "      <th>rmdup Psi, original NA</th>\n",
       "      <td>NaN</td>\n",
       "      <td>1.753288</td>\n",
       "    </tr>\n",
       "  </tbody>\n",
       "</table>\n",
       "</div>"
      ],
      "text/plain": [
       "                                 original      rmdup\n",
       "comparison_categories                               \n",
       "Other                            0.025094   0.026558\n",
       "Within $|\\Delta\\Psi| \\leq 0.2$  92.783042  98.195743\n",
       "rmdup 0, original Psi            0.005710   0.006043\n",
       "rmdup 1, original Psi            0.017355   0.018368\n",
       "rmdup NA, original Psi           7.168799        NaN\n",
       "rmdup Psi, original NA                NaN   1.753288"
      ]
     },
     "execution_count": 18,
     "metadata": {},
     "output_type": "execute_result"
    }
   ],
   "source": [
    "category_percentages_df = category_sizes_percent_original.to_frame().join(category_sizes_percent_rmdup, how='outer')\n",
    "category_percentages_df"
   ]
  },
  {
   "cell_type": "code",
   "execution_count": 19,
   "metadata": {
    "collapsed": false
   },
   "outputs": [
    {
     "data": {
      "image/png": "[encoded data removed]",
      "text/plain": [
       "<matplotlib.figure.Figure at 0x2b1d60fcc2d0>"
      ]
     },
     "metadata": {},
     "output_type": "display_data"
    }
   ],
   "source": [
    "fig, ax = plt.subplots(figsize=(2, 1.5))\n",
    "sns.heatmap(category_percentages_df, annot=True, vmin=0, vmax=100, cbar_kws=dict(label='% of dataset'))\n",
    "fig.savefig('{}/comparison_categories_percentages_heatmap.pdf'.format(figure_folder))"
   ]
  },
  {
   "cell_type": "code",
   "execution_count": 20,
   "metadata": {
    "collapsed": false
   },
   "outputs": [
    {
     "data": {
      "text/plain": [
       "comparison_categories\n",
       "Other                              0.024685\n",
       "Within $|\\Delta\\Psi| \\leq 0.2$    91.271006\n",
       "rmdup 0, original Psi              0.005617\n",
       "rmdup 1, original Psi              0.017072\n",
       "rmdup NA, original Psi             7.051973\n",
       "rmdup Psi, original NA             1.629647\n",
       "dtype: float64"
      ]
     },
     "execution_count": 20,
     "metadata": {},
     "output_type": "execute_result"
    }
   ],
   "source": [
    "category_sizes_not_both_na_percentage = 100 * category_sizes_not_both_na/category_sizes_not_both_na.sum()\n",
    "category_sizes_not_both_na_percentage"
   ]
  },
  {
   "cell_type": "code",
   "execution_count": 21,
   "metadata": {
    "collapsed": false
   },
   "outputs": [
    {
     "data": {
      "text/html": [
       "<div>\n",
       "<table border=\"1\" class=\"dataframe\">\n",
       "  <thead>\n",
       "    <tr style=\"text-align: right;\">\n",
       "      <th></th>\n",
       "      <th>comparison_categories</th>\n",
       "      <th>Percentage</th>\n",
       "    </tr>\n",
       "  </thead>\n",
       "  <tbody>\n",
       "    <tr>\n",
       "      <th>0</th>\n",
       "      <td>Other</td>\n",
       "      <td>0.024685</td>\n",
       "    </tr>\n",
       "    <tr>\n",
       "      <th>1</th>\n",
       "      <td>Within $|\\Delta\\Psi| \\leq 0.2$</td>\n",
       "      <td>91.271006</td>\n",
       "    </tr>\n",
       "    <tr>\n",
       "      <th>2</th>\n",
       "      <td>rmdup 0, original Psi</td>\n",
       "      <td>0.005617</td>\n",
       "    </tr>\n",
       "    <tr>\n",
       "      <th>3</th>\n",
       "      <td>rmdup 1, original Psi</td>\n",
       "      <td>0.017072</td>\n",
       "    </tr>\n",
       "    <tr>\n",
       "      <th>4</th>\n",
       "      <td>rmdup NA, original Psi</td>\n",
       "      <td>7.051973</td>\n",
       "    </tr>\n",
       "    <tr>\n",
       "      <th>5</th>\n",
       "      <td>rmdup Psi, original NA</td>\n",
       "      <td>1.629647</td>\n",
       "    </tr>\n",
       "  </tbody>\n",
       "</table>\n",
       "</div>"
      ],
      "text/plain": [
       "            comparison_categories  Percentage\n",
       "0                           Other    0.024685\n",
       "1  Within $|\\Delta\\Psi| \\leq 0.2$   91.271006\n",
       "2           rmdup 0, original Psi    0.005617\n",
       "3           rmdup 1, original Psi    0.017072\n",
       "4          rmdup NA, original Psi    7.051973\n",
       "5          rmdup Psi, original NA    1.629647"
      ]
     },
     "execution_count": 21,
     "metadata": {},
     "output_type": "execute_result"
    }
   ],
   "source": [
    "category_sizes_not_both_na_percentage_tidy = category_sizes_not_both_na_percentage.reset_index()\n",
    "category_sizes_not_both_na_percentage_tidy = category_sizes_not_both_na_percentage_tidy.rename(columns={0: 'Percentage'})\n",
    "category_sizes_not_both_na_percentage_tidy"
   ]
  },
  {
   "cell_type": "code",
   "execution_count": 22,
   "metadata": {
    "collapsed": false
   },
   "outputs": [
    {
     "data": {
      "text/plain": [
       "'figures/021_outrigger_vs_rmdup_percentages'"
      ]
     },
     "execution_count": 22,
     "metadata": {},
     "output_type": "execute_result"
    }
   ],
   "source": [
    "figure_folder"
   ]
  },
  {
   "cell_type": "code",
   "execution_count": 23,
   "metadata": {
    "collapsed": true
   },
   "outputs": [],
   "source": [
    "import matplotlib as mpl"
   ]
  },
  {
   "cell_type": "code",
   "execution_count": 24,
   "metadata": {
    "collapsed": false
   },
   "outputs": [
    {
     "data": {
      "text/plain": [
       "['Other',\n",
       " 'rmdup 0, original Psi',\n",
       " 'rmdup 1, original Psi',\n",
       " 'rmdup NA, original Psi',\n",
       " 'rmdup Psi, original NA']"
      ]
     },
     "execution_count": 24,
     "metadata": {},
     "output_type": "execute_result"
    }
   ],
   "source": [
    "not_within = [x for x in category_sizes_not_both_na.index if 'Within' not in x]\n",
    "not_within"
   ]
  },
  {
   "cell_type": "code",
   "execution_count": 25,
   "metadata": {
    "collapsed": false
   },
   "outputs": [
    {
     "data": {
      "text/plain": [
       "[<matplotlib.text.Text at 0x2b1d234bde50>,\n",
       " <matplotlib.text.Text at 0x2b1d234f5450>,\n",
       " <matplotlib.text.Text at 0x2b1d34a22d90>,\n",
       " <matplotlib.text.Text at 0x2b1d34a10510>,\n",
       " <matplotlib.text.Text at 0x2b1d34a10c50>,\n",
       " <matplotlib.text.Text at 0x2b1d195b33d0>]"
      ]
     },
     "execution_count": 25,
     "metadata": {},
     "output_type": "execute_result"
    },
    {
     "data": {
      "image/png": "[encoded data removed]",
      "text/plain": [
       "<matplotlib.figure.Figure at 0x2b1d25952f90>"
      ]
     },
     "metadata": {},
     "output_type": "display_data"
    }
   ],
   "source": [
    "palette = dict(zip(not_within, map(mpl.colors.rgb2hex, sns.color_palette('Set2'))))\n",
    "palette['Within $|\\Delta\\Psi| \\leq 0.2$'] = '#262626'\n",
    "palette_series = pd.Series(palette)\n",
    "sns.palplot(palette_series)\n",
    "\n",
    "ax = plt.gca()\n",
    "ax.set(xticks=np.arange(len(palette_series))-0.2)\n",
    "ax.set_xticklabels(palette_series.index, rotation=30)"
   ]
  },
  {
   "cell_type": "code",
   "execution_count": 26,
   "metadata": {
    "collapsed": false
   },
   "outputs": [
    {
     "name": "stdout",
     "output_type": "stream",
     "text": [
      "(2.524684898015896, 0.2)\n",
      "(93.771006183049607, 1.2)\n",
      "(2.5056169229018206, 2.2)\n",
      "(2.5170724893463232, 3.2)\n",
      "(9.5519727963555034, 4.2)\n",
      "(4.1296467103308512, 5.2)\n"
     ]
    },
    {
     "data": {
      "image/png": "[encoded data removed]",
      "text/plain": [
       "<matplotlib.figure.Figure at 0x2b1d2d10de90>"
      ]
     },
     "metadata": {},
     "output_type": "display_data"
    }
   ],
   "source": [
    "fig, ax = plt.subplots(figsize=(2, 1.5))\n",
    "\n",
    "sns.barplot(y='comparison_categories', x='Percentage', \n",
    "            data=category_sizes_not_both_na_percentage_tidy, palette=palette)\n",
    "sns.despine()\n",
    "ax.set(xlabel='Percentage')\n",
    "xmin, xmax = ax.get_xlim()\n",
    "x_value_range = xmax - xmin\n",
    "xoffset = 0.025 * xmax\n",
    "\n",
    "for i, (case, x) in enumerate(category_sizes_not_both_na_percentage.iteritems()):\n",
    "#     x = category_sizes_not_both_na[case]\n",
    "    coords = (x + xoffset, i+0.2)\n",
    "    print(coords)\n",
    "    ax.annotate(\"{:.2f}\".format(x), coords, fontsize=8, \n",
    "                va='bottom', ha='left', color='black')\n",
    "\n",
    "fig.savefig('{}/comparison_categories_percentages_barplots_fullsize.pdf'.format(figure_folder))\n",
    "\n",
    "\n",
    "# ax.set(xlim=(0, 2))\n",
    "# fig.savefig('{}/comparison_categories_percentages_barplots_zoomed.pdf'.format(figure_folder))"
   ]
  },
  {
   "cell_type": "markdown",
   "metadata": {},
   "source": [
    "## Percentage of cases"
   ]
  },
  {
   "cell_type": "code",
   "execution_count": 27,
   "metadata": {
    "collapsed": false
   },
   "outputs": [
    {
     "data": {
      "text/html": [
       "<div>\n",
       "<table border=\"1\" class=\"dataframe\">\n",
       "  <thead>\n",
       "    <tr style=\"text-align: right;\">\n",
       "      <th>notes_abbrev_rmdup</th>\n",
       "      <th>Case 1</th>\n",
       "      <th>Case 2</th>\n",
       "      <th>Case 3</th>\n",
       "      <th>Case 4</th>\n",
       "      <th>Case 5</th>\n",
       "      <th>Case 6</th>\n",
       "      <th>Case 7</th>\n",
       "      <th>Case 8</th>\n",
       "      <th>Case 9a</th>\n",
       "      <th>Case 9b</th>\n",
       "      <th>Case 10a</th>\n",
       "      <th>Case 10b</th>\n",
       "      <th>Case 11a</th>\n",
       "      <th>Case 11b</th>\n",
       "    </tr>\n",
       "    <tr>\n",
       "      <th>notes_abbrev_original</th>\n",
       "      <th></th>\n",
       "      <th></th>\n",
       "      <th></th>\n",
       "      <th></th>\n",
       "      <th></th>\n",
       "      <th></th>\n",
       "      <th></th>\n",
       "      <th></th>\n",
       "      <th></th>\n",
       "      <th></th>\n",
       "      <th></th>\n",
       "      <th></th>\n",
       "      <th></th>\n",
       "      <th></th>\n",
       "    </tr>\n",
       "  </thead>\n",
       "  <tbody>\n",
       "    <tr>\n",
       "      <th>Case 1</th>\n",
       "      <td>439367.0</td>\n",
       "      <td>5294.0</td>\n",
       "      <td>3569.0</td>\n",
       "      <td>4055.0</td>\n",
       "      <td>1395.0</td>\n",
       "      <td>353.0</td>\n",
       "      <td>280.0</td>\n",
       "      <td>19.0</td>\n",
       "      <td>139.0</td>\n",
       "      <td>15.0</td>\n",
       "      <td>NaN</td>\n",
       "      <td>NaN</td>\n",
       "      <td>5.0</td>\n",
       "      <td>4.0</td>\n",
       "    </tr>\n",
       "    <tr>\n",
       "      <th>Case 2</th>\n",
       "      <td>1103.0</td>\n",
       "      <td>5969976.0</td>\n",
       "      <td>2328.0</td>\n",
       "      <td>46.0</td>\n",
       "      <td>NaN</td>\n",
       "      <td>8.0</td>\n",
       "      <td>28.0</td>\n",
       "      <td>NaN</td>\n",
       "      <td>NaN</td>\n",
       "      <td>NaN</td>\n",
       "      <td>NaN</td>\n",
       "      <td>NaN</td>\n",
       "      <td>NaN</td>\n",
       "      <td>NaN</td>\n",
       "    </tr>\n",
       "    <tr>\n",
       "      <th>Case 3</th>\n",
       "      <td>1371.0</td>\n",
       "      <td>51976.0</td>\n",
       "      <td>465299.0</td>\n",
       "      <td>11997.0</td>\n",
       "      <td>209.0</td>\n",
       "      <td>5068.0</td>\n",
       "      <td>2811.0</td>\n",
       "      <td>51.0</td>\n",
       "      <td>47.0</td>\n",
       "      <td>207.0</td>\n",
       "      <td>NaN</td>\n",
       "      <td>NaN</td>\n",
       "      <td>NaN</td>\n",
       "      <td>NaN</td>\n",
       "    </tr>\n",
       "    <tr>\n",
       "      <th>Case 4</th>\n",
       "      <td>776.0</td>\n",
       "      <td>9410.0</td>\n",
       "      <td>45014.0</td>\n",
       "      <td>801935.0</td>\n",
       "      <td>1040.0</td>\n",
       "      <td>188.0</td>\n",
       "      <td>4495.0</td>\n",
       "      <td>42.0</td>\n",
       "      <td>27.0</td>\n",
       "      <td>34.0</td>\n",
       "      <td>NaN</td>\n",
       "      <td>NaN</td>\n",
       "      <td>2.0</td>\n",
       "      <td>1.0</td>\n",
       "    </tr>\n",
       "    <tr>\n",
       "      <th>Case 5</th>\n",
       "      <td>210.0</td>\n",
       "      <td>774.0</td>\n",
       "      <td>1157.0</td>\n",
       "      <td>14255.0</td>\n",
       "      <td>102611.0</td>\n",
       "      <td>2830.0</td>\n",
       "      <td>1464.0</td>\n",
       "      <td>129.0</td>\n",
       "      <td>2000.0</td>\n",
       "      <td>482.0</td>\n",
       "      <td>NaN</td>\n",
       "      <td>NaN</td>\n",
       "      <td>4.0</td>\n",
       "      <td>NaN</td>\n",
       "    </tr>\n",
       "    <tr>\n",
       "      <th>Case 6</th>\n",
       "      <td>47.0</td>\n",
       "      <td>4928.0</td>\n",
       "      <td>17423.0</td>\n",
       "      <td>914.0</td>\n",
       "      <td>17.0</td>\n",
       "      <td>434767.0</td>\n",
       "      <td>NaN</td>\n",
       "      <td>NaN</td>\n",
       "      <td>74.0</td>\n",
       "      <td>12.0</td>\n",
       "      <td>NaN</td>\n",
       "      <td>NaN</td>\n",
       "      <td>NaN</td>\n",
       "      <td>NaN</td>\n",
       "    </tr>\n",
       "    <tr>\n",
       "      <th>Case 7</th>\n",
       "      <td>30.0</td>\n",
       "      <td>3442.0</td>\n",
       "      <td>6024.0</td>\n",
       "      <td>20234.0</td>\n",
       "      <td>608.0</td>\n",
       "      <td>NaN</td>\n",
       "      <td>678362.0</td>\n",
       "      <td>1.0</td>\n",
       "      <td>NaN</td>\n",
       "      <td>NaN</td>\n",
       "      <td>NaN</td>\n",
       "      <td>NaN</td>\n",
       "      <td>NaN</td>\n",
       "      <td>NaN</td>\n",
       "    </tr>\n",
       "    <tr>\n",
       "      <th>Case 8</th>\n",
       "      <td>NaN</td>\n",
       "      <td>252.0</td>\n",
       "      <td>273.0</td>\n",
       "      <td>556.0</td>\n",
       "      <td>278.0</td>\n",
       "      <td>90.0</td>\n",
       "      <td>2709.0</td>\n",
       "      <td>42089.0</td>\n",
       "      <td>2089.0</td>\n",
       "      <td>141.0</td>\n",
       "      <td>NaN</td>\n",
       "      <td>NaN</td>\n",
       "      <td>4.0</td>\n",
       "      <td>2.0</td>\n",
       "    </tr>\n",
       "    <tr>\n",
       "      <th>Case 9a</th>\n",
       "      <td>23.0</td>\n",
       "      <td>412.0</td>\n",
       "      <td>632.0</td>\n",
       "      <td>310.0</td>\n",
       "      <td>433.0</td>\n",
       "      <td>16023.0</td>\n",
       "      <td>5.0</td>\n",
       "      <td>236.0</td>\n",
       "      <td>19112.0</td>\n",
       "      <td>2254.0</td>\n",
       "      <td>NaN</td>\n",
       "      <td>NaN</td>\n",
       "      <td>1.0</td>\n",
       "      <td>NaN</td>\n",
       "    </tr>\n",
       "    <tr>\n",
       "      <th>Case 9b</th>\n",
       "      <td>3.0</td>\n",
       "      <td>218.0</td>\n",
       "      <td>1910.0</td>\n",
       "      <td>75.0</td>\n",
       "      <td>59.0</td>\n",
       "      <td>1209.0</td>\n",
       "      <td>2.0</td>\n",
       "      <td>22.0</td>\n",
       "      <td>238.0</td>\n",
       "      <td>3392.0</td>\n",
       "      <td>NaN</td>\n",
       "      <td>NaN</td>\n",
       "      <td>NaN</td>\n",
       "      <td>NaN</td>\n",
       "    </tr>\n",
       "    <tr>\n",
       "      <th>Case 10a</th>\n",
       "      <td>18.0</td>\n",
       "      <td>274.0</td>\n",
       "      <td>293.0</td>\n",
       "      <td>1150.0</td>\n",
       "      <td>83.0</td>\n",
       "      <td>1.0</td>\n",
       "      <td>18189.0</td>\n",
       "      <td>370.0</td>\n",
       "      <td>5.0</td>\n",
       "      <td>NaN</td>\n",
       "      <td>NaN</td>\n",
       "      <td>NaN</td>\n",
       "      <td>4.0</td>\n",
       "      <td>1.0</td>\n",
       "    </tr>\n",
       "    <tr>\n",
       "      <th>Case 10b</th>\n",
       "      <td>NaN</td>\n",
       "      <td>4.0</td>\n",
       "      <td>136.0</td>\n",
       "      <td>169.0</td>\n",
       "      <td>1.0</td>\n",
       "      <td>NaN</td>\n",
       "      <td>76.0</td>\n",
       "      <td>1.0</td>\n",
       "      <td>1.0</td>\n",
       "      <td>1.0</td>\n",
       "      <td>NaN</td>\n",
       "      <td>NaN</td>\n",
       "      <td>NaN</td>\n",
       "      <td>NaN</td>\n",
       "    </tr>\n",
       "    <tr>\n",
       "      <th>Case 11a</th>\n",
       "      <td>NaN</td>\n",
       "      <td>15.0</td>\n",
       "      <td>26.0</td>\n",
       "      <td>11.0</td>\n",
       "      <td>8.0</td>\n",
       "      <td>NaN</td>\n",
       "      <td>NaN</td>\n",
       "      <td>NaN</td>\n",
       "      <td>1.0</td>\n",
       "      <td>NaN</td>\n",
       "      <td>NaN</td>\n",
       "      <td>NaN</td>\n",
       "      <td>5.0</td>\n",
       "      <td>2.0</td>\n",
       "    </tr>\n",
       "    <tr>\n",
       "      <th>Case 11b</th>\n",
       "      <td>NaN</td>\n",
       "      <td>6.0</td>\n",
       "      <td>6.0</td>\n",
       "      <td>11.0</td>\n",
       "      <td>5.0</td>\n",
       "      <td>NaN</td>\n",
       "      <td>1.0</td>\n",
       "      <td>NaN</td>\n",
       "      <td>NaN</td>\n",
       "      <td>NaN</td>\n",
       "      <td>NaN</td>\n",
       "      <td>NaN</td>\n",
       "      <td>NaN</td>\n",
       "      <td>1.0</td>\n",
       "    </tr>\n",
       "  </tbody>\n",
       "</table>\n",
       "</div>"
      ],
      "text/plain": [
       "notes_abbrev_rmdup       Case 1     Case 2    Case 3    Case 4    Case 5  \\\n",
       "notes_abbrev_original                                                      \n",
       "Case 1                 439367.0     5294.0    3569.0    4055.0    1395.0   \n",
       "Case 2                   1103.0  5969976.0    2328.0      46.0       NaN   \n",
       "Case 3                   1371.0    51976.0  465299.0   11997.0     209.0   \n",
       "Case 4                    776.0     9410.0   45014.0  801935.0    1040.0   \n",
       "Case 5                    210.0      774.0    1157.0   14255.0  102611.0   \n",
       "Case 6                     47.0     4928.0   17423.0     914.0      17.0   \n",
       "Case 7                     30.0     3442.0    6024.0   20234.0     608.0   \n",
       "Case 8                      NaN      252.0     273.0     556.0     278.0   \n",
       "Case 9a                    23.0      412.0     632.0     310.0     433.0   \n",
       "Case 9b                     3.0      218.0    1910.0      75.0      59.0   \n",
       "Case 10a                   18.0      274.0     293.0    1150.0      83.0   \n",
       "Case 10b                    NaN        4.0     136.0     169.0       1.0   \n",
       "Case 11a                    NaN       15.0      26.0      11.0       8.0   \n",
       "Case 11b                    NaN        6.0       6.0      11.0       5.0   \n",
       "\n",
       "notes_abbrev_rmdup       Case 6    Case 7   Case 8  Case 9a  Case 9b  \\\n",
       "notes_abbrev_original                                                  \n",
       "Case 1                    353.0     280.0     19.0    139.0     15.0   \n",
       "Case 2                      8.0      28.0      NaN      NaN      NaN   \n",
       "Case 3                   5068.0    2811.0     51.0     47.0    207.0   \n",
       "Case 4                    188.0    4495.0     42.0     27.0     34.0   \n",
       "Case 5                   2830.0    1464.0    129.0   2000.0    482.0   \n",
       "Case 6                 434767.0       NaN      NaN     74.0     12.0   \n",
       "Case 7                      NaN  678362.0      1.0      NaN      NaN   \n",
       "Case 8                     90.0    2709.0  42089.0   2089.0    141.0   \n",
       "Case 9a                 16023.0       5.0    236.0  19112.0   2254.0   \n",
       "Case 9b                  1209.0       2.0     22.0    238.0   3392.0   \n",
       "Case 10a                    1.0   18189.0    370.0      5.0      NaN   \n",
       "Case 10b                    NaN      76.0      1.0      1.0      1.0   \n",
       "Case 11a                    NaN       NaN      NaN      1.0      NaN   \n",
       "Case 11b                    NaN       1.0      NaN      NaN      NaN   \n",
       "\n",
       "notes_abbrev_rmdup     Case 10a  Case 10b  Case 11a  Case 11b  \n",
       "notes_abbrev_original                                          \n",
       "Case 1                      NaN       NaN       5.0       4.0  \n",
       "Case 2                      NaN       NaN       NaN       NaN  \n",
       "Case 3                      NaN       NaN       NaN       NaN  \n",
       "Case 4                      NaN       NaN       2.0       1.0  \n",
       "Case 5                      NaN       NaN       4.0       NaN  \n",
       "Case 6                      NaN       NaN       NaN       NaN  \n",
       "Case 7                      NaN       NaN       NaN       NaN  \n",
       "Case 8                      NaN       NaN       4.0       2.0  \n",
       "Case 9a                     NaN       NaN       1.0       NaN  \n",
       "Case 9b                     NaN       NaN       NaN       NaN  \n",
       "Case 10a                    NaN       NaN       4.0       1.0  \n",
       "Case 10b                    NaN       NaN       NaN       NaN  \n",
       "Case 11a                    NaN       NaN       5.0       2.0  \n",
       "Case 11b                    NaN       NaN       NaN       1.0  "
      ]
     },
     "execution_count": 27,
     "metadata": {},
     "output_type": "execute_result"
    }
   ],
   "source": [
    "cases_counts = summary.groupby(['notes_abbrev_original', 'notes_abbrev_rmdup']).size().unstack()\n",
    "cases_counts = cases_counts.loc[case_order, case_order]\n",
    "cases_counts"
   ]
  },
  {
   "cell_type": "code",
   "execution_count": 28,
   "metadata": {
    "collapsed": false
   },
   "outputs": [
    {
     "data": {
      "text/plain": [
       "<matplotlib.axes._subplots.AxesSubplot at 0x2b1d234e9490>"
      ]
     },
     "execution_count": 28,
     "metadata": {},
     "output_type": "execute_result"
    },
    {
     "data": {
      "image/png": "[encoded data removed]",
      "text/plain": [
       "<matplotlib.figure.Figure at 0x2b1d234f6f50>"
      ]
     },
     "metadata": {},
     "output_type": "display_data"
    }
   ],
   "source": [
    "sns.heatmap(cases_counts)"
   ]
  },
  {
   "cell_type": "code",
   "execution_count": 29,
   "metadata": {
    "collapsed": false
   },
   "outputs": [
    {
     "data": {
      "text/plain": [
       "notes_abbrev_original\n",
       "Case 1       439367.0\n",
       "Case 2      5969976.0\n",
       "Case 3       465299.0\n",
       "Case 4       801935.0\n",
       "Case 5       102611.0\n",
       "Case 6       434767.0\n",
       "Case 7       678362.0\n",
       "Case 8        42089.0\n",
       "Case 9a       19112.0\n",
       "Case 9b        3392.0\n",
       "Case 10a      18189.0\n",
       "Case 10b        169.0\n",
       "Case 11a         26.0\n",
       "Case 11b         11.0\n",
       "dtype: float64"
      ]
     },
     "execution_count": 29,
     "metadata": {},
     "output_type": "execute_result"
    }
   ],
   "source": [
    "cases_counts.max(axis=1)"
   ]
  },
  {
   "cell_type": "code",
   "execution_count": 30,
   "metadata": {
    "collapsed": false
   },
   "outputs": [
    {
     "data": {
      "text/plain": [
       "<matplotlib.axes._subplots.AxesSubplot at 0x2b1d34a3c1d0>"
      ]
     },
     "execution_count": 30,
     "metadata": {},
     "output_type": "execute_result"
    },
    {
     "data": {
      "image/png": "[encoded data removed]",
      "text/plain": [
       "<matplotlib.figure.Figure at 0x2b1d4cf67510>"
      ]
     },
     "metadata": {},
     "output_type": "display_data"
    }
   ],
   "source": [
    "sns.heatmap(cases_counts, vmax=356904)"
   ]
  },
  {
   "cell_type": "code",
   "execution_count": 31,
   "metadata": {
    "collapsed": false
   },
   "outputs": [
    {
     "data": {
      "text/html": [
       "<div>\n",
       "<table border=\"1\" class=\"dataframe\">\n",
       "  <thead>\n",
       "    <tr style=\"text-align: right;\">\n",
       "      <th>notes_abbrev_rmdup</th>\n",
       "      <th>Case 1</th>\n",
       "      <th>Case 2</th>\n",
       "      <th>Case 3</th>\n",
       "      <th>Case 4</th>\n",
       "      <th>Case 5</th>\n",
       "      <th>Case 6</th>\n",
       "      <th>Case 7</th>\n",
       "      <th>Case 8</th>\n",
       "      <th>Case 9a</th>\n",
       "      <th>Case 9b</th>\n",
       "      <th>Case 10a</th>\n",
       "      <th>Case 10b</th>\n",
       "      <th>Case 11a</th>\n",
       "      <th>Case 11b</th>\n",
       "    </tr>\n",
       "    <tr>\n",
       "      <th>notes_abbrev_original</th>\n",
       "      <th></th>\n",
       "      <th></th>\n",
       "      <th></th>\n",
       "      <th></th>\n",
       "      <th></th>\n",
       "      <th></th>\n",
       "      <th></th>\n",
       "      <th></th>\n",
       "      <th></th>\n",
       "      <th></th>\n",
       "      <th></th>\n",
       "      <th></th>\n",
       "      <th></th>\n",
       "      <th></th>\n",
       "    </tr>\n",
       "  </thead>\n",
       "  <tbody>\n",
       "    <tr>\n",
       "      <th>Case 1</th>\n",
       "      <td>439367.0</td>\n",
       "      <td>5294.0</td>\n",
       "      <td>3569.0</td>\n",
       "      <td>4055.0</td>\n",
       "      <td>1395.0</td>\n",
       "      <td>353.0</td>\n",
       "      <td>280.0</td>\n",
       "      <td>19.0</td>\n",
       "      <td>139.0</td>\n",
       "      <td>15.0</td>\n",
       "      <td>NaN</td>\n",
       "      <td>NaN</td>\n",
       "      <td>5.0</td>\n",
       "      <td>4.0</td>\n",
       "    </tr>\n",
       "    <tr>\n",
       "      <th>Case 2</th>\n",
       "      <td>1103.0</td>\n",
       "      <td>NaN</td>\n",
       "      <td>2328.0</td>\n",
       "      <td>46.0</td>\n",
       "      <td>NaN</td>\n",
       "      <td>8.0</td>\n",
       "      <td>28.0</td>\n",
       "      <td>NaN</td>\n",
       "      <td>NaN</td>\n",
       "      <td>NaN</td>\n",
       "      <td>NaN</td>\n",
       "      <td>NaN</td>\n",
       "      <td>NaN</td>\n",
       "      <td>NaN</td>\n",
       "    </tr>\n",
       "    <tr>\n",
       "      <th>Case 3</th>\n",
       "      <td>1371.0</td>\n",
       "      <td>51976.0</td>\n",
       "      <td>465299.0</td>\n",
       "      <td>11997.0</td>\n",
       "      <td>209.0</td>\n",
       "      <td>5068.0</td>\n",
       "      <td>2811.0</td>\n",
       "      <td>51.0</td>\n",
       "      <td>47.0</td>\n",
       "      <td>207.0</td>\n",
       "      <td>NaN</td>\n",
       "      <td>NaN</td>\n",
       "      <td>NaN</td>\n",
       "      <td>NaN</td>\n",
       "    </tr>\n",
       "    <tr>\n",
       "      <th>Case 4</th>\n",
       "      <td>776.0</td>\n",
       "      <td>9410.0</td>\n",
       "      <td>45014.0</td>\n",
       "      <td>801935.0</td>\n",
       "      <td>1040.0</td>\n",
       "      <td>188.0</td>\n",
       "      <td>4495.0</td>\n",
       "      <td>42.0</td>\n",
       "      <td>27.0</td>\n",
       "      <td>34.0</td>\n",
       "      <td>NaN</td>\n",
       "      <td>NaN</td>\n",
       "      <td>2.0</td>\n",
       "      <td>1.0</td>\n",
       "    </tr>\n",
       "    <tr>\n",
       "      <th>Case 5</th>\n",
       "      <td>210.0</td>\n",
       "      <td>774.0</td>\n",
       "      <td>1157.0</td>\n",
       "      <td>14255.0</td>\n",
       "      <td>102611.0</td>\n",
       "      <td>2830.0</td>\n",
       "      <td>1464.0</td>\n",
       "      <td>129.0</td>\n",
       "      <td>2000.0</td>\n",
       "      <td>482.0</td>\n",
       "      <td>NaN</td>\n",
       "      <td>NaN</td>\n",
       "      <td>4.0</td>\n",
       "      <td>NaN</td>\n",
       "    </tr>\n",
       "    <tr>\n",
       "      <th>Case 6</th>\n",
       "      <td>47.0</td>\n",
       "      <td>4928.0</td>\n",
       "      <td>17423.0</td>\n",
       "      <td>914.0</td>\n",
       "      <td>17.0</td>\n",
       "      <td>434767.0</td>\n",
       "      <td>NaN</td>\n",
       "      <td>NaN</td>\n",
       "      <td>74.0</td>\n",
       "      <td>12.0</td>\n",
       "      <td>NaN</td>\n",
       "      <td>NaN</td>\n",
       "      <td>NaN</td>\n",
       "      <td>NaN</td>\n",
       "    </tr>\n",
       "    <tr>\n",
       "      <th>Case 7</th>\n",
       "      <td>30.0</td>\n",
       "      <td>3442.0</td>\n",
       "      <td>6024.0</td>\n",
       "      <td>20234.0</td>\n",
       "      <td>608.0</td>\n",
       "      <td>NaN</td>\n",
       "      <td>678362.0</td>\n",
       "      <td>1.0</td>\n",
       "      <td>NaN</td>\n",
       "      <td>NaN</td>\n",
       "      <td>NaN</td>\n",
       "      <td>NaN</td>\n",
       "      <td>NaN</td>\n",
       "      <td>NaN</td>\n",
       "    </tr>\n",
       "    <tr>\n",
       "      <th>Case 8</th>\n",
       "      <td>NaN</td>\n",
       "      <td>252.0</td>\n",
       "      <td>273.0</td>\n",
       "      <td>556.0</td>\n",
       "      <td>278.0</td>\n",
       "      <td>90.0</td>\n",
       "      <td>2709.0</td>\n",
       "      <td>42089.0</td>\n",
       "      <td>2089.0</td>\n",
       "      <td>141.0</td>\n",
       "      <td>NaN</td>\n",
       "      <td>NaN</td>\n",
       "      <td>4.0</td>\n",
       "      <td>2.0</td>\n",
       "    </tr>\n",
       "    <tr>\n",
       "      <th>Case 9a</th>\n",
       "      <td>23.0</td>\n",
       "      <td>412.0</td>\n",
       "      <td>632.0</td>\n",
       "      <td>310.0</td>\n",
       "      <td>433.0</td>\n",
       "      <td>16023.0</td>\n",
       "      <td>5.0</td>\n",
       "      <td>236.0</td>\n",
       "      <td>19112.0</td>\n",
       "      <td>2254.0</td>\n",
       "      <td>NaN</td>\n",
       "      <td>NaN</td>\n",
       "      <td>1.0</td>\n",
       "      <td>NaN</td>\n",
       "    </tr>\n",
       "    <tr>\n",
       "      <th>Case 9b</th>\n",
       "      <td>3.0</td>\n",
       "      <td>218.0</td>\n",
       "      <td>1910.0</td>\n",
       "      <td>75.0</td>\n",
       "      <td>59.0</td>\n",
       "      <td>1209.0</td>\n",
       "      <td>2.0</td>\n",
       "      <td>22.0</td>\n",
       "      <td>238.0</td>\n",
       "      <td>3392.0</td>\n",
       "      <td>NaN</td>\n",
       "      <td>NaN</td>\n",
       "      <td>NaN</td>\n",
       "      <td>NaN</td>\n",
       "    </tr>\n",
       "    <tr>\n",
       "      <th>Case 10a</th>\n",
       "      <td>18.0</td>\n",
       "      <td>274.0</td>\n",
       "      <td>293.0</td>\n",
       "      <td>1150.0</td>\n",
       "      <td>83.0</td>\n",
       "      <td>1.0</td>\n",
       "      <td>18189.0</td>\n",
       "      <td>370.0</td>\n",
       "      <td>5.0</td>\n",
       "      <td>NaN</td>\n",
       "      <td>NaN</td>\n",
       "      <td>NaN</td>\n",
       "      <td>4.0</td>\n",
       "      <td>1.0</td>\n",
       "    </tr>\n",
       "    <tr>\n",
       "      <th>Case 10b</th>\n",
       "      <td>NaN</td>\n",
       "      <td>4.0</td>\n",
       "      <td>136.0</td>\n",
       "      <td>169.0</td>\n",
       "      <td>1.0</td>\n",
       "      <td>NaN</td>\n",
       "      <td>76.0</td>\n",
       "      <td>1.0</td>\n",
       "      <td>1.0</td>\n",
       "      <td>1.0</td>\n",
       "      <td>NaN</td>\n",
       "      <td>NaN</td>\n",
       "      <td>NaN</td>\n",
       "      <td>NaN</td>\n",
       "    </tr>\n",
       "    <tr>\n",
       "      <th>Case 11a</th>\n",
       "      <td>NaN</td>\n",
       "      <td>15.0</td>\n",
       "      <td>26.0</td>\n",
       "      <td>11.0</td>\n",
       "      <td>8.0</td>\n",
       "      <td>NaN</td>\n",
       "      <td>NaN</td>\n",
       "      <td>NaN</td>\n",
       "      <td>1.0</td>\n",
       "      <td>NaN</td>\n",
       "      <td>NaN</td>\n",
       "      <td>NaN</td>\n",
       "      <td>5.0</td>\n",
       "      <td>2.0</td>\n",
       "    </tr>\n",
       "    <tr>\n",
       "      <th>Case 11b</th>\n",
       "      <td>NaN</td>\n",
       "      <td>6.0</td>\n",
       "      <td>6.0</td>\n",
       "      <td>11.0</td>\n",
       "      <td>5.0</td>\n",
       "      <td>NaN</td>\n",
       "      <td>1.0</td>\n",
       "      <td>NaN</td>\n",
       "      <td>NaN</td>\n",
       "      <td>NaN</td>\n",
       "      <td>NaN</td>\n",
       "      <td>NaN</td>\n",
       "      <td>NaN</td>\n",
       "      <td>1.0</td>\n",
       "    </tr>\n",
       "  </tbody>\n",
       "</table>\n",
       "</div>"
      ],
      "text/plain": [
       "notes_abbrev_rmdup       Case 1   Case 2    Case 3    Case 4    Case 5  \\\n",
       "notes_abbrev_original                                                    \n",
       "Case 1                 439367.0   5294.0    3569.0    4055.0    1395.0   \n",
       "Case 2                   1103.0      NaN    2328.0      46.0       NaN   \n",
       "Case 3                   1371.0  51976.0  465299.0   11997.0     209.0   \n",
       "Case 4                    776.0   9410.0   45014.0  801935.0    1040.0   \n",
       "Case 5                    210.0    774.0    1157.0   14255.0  102611.0   \n",
       "Case 6                     47.0   4928.0   17423.0     914.0      17.0   \n",
       "Case 7                     30.0   3442.0    6024.0   20234.0     608.0   \n",
       "Case 8                      NaN    252.0     273.0     556.0     278.0   \n",
       "Case 9a                    23.0    412.0     632.0     310.0     433.0   \n",
       "Case 9b                     3.0    218.0    1910.0      75.0      59.0   \n",
       "Case 10a                   18.0    274.0     293.0    1150.0      83.0   \n",
       "Case 10b                    NaN      4.0     136.0     169.0       1.0   \n",
       "Case 11a                    NaN     15.0      26.0      11.0       8.0   \n",
       "Case 11b                    NaN      6.0       6.0      11.0       5.0   \n",
       "\n",
       "notes_abbrev_rmdup       Case 6    Case 7   Case 8  Case 9a  Case 9b  \\\n",
       "notes_abbrev_original                                                  \n",
       "Case 1                    353.0     280.0     19.0    139.0     15.0   \n",
       "Case 2                      8.0      28.0      NaN      NaN      NaN   \n",
       "Case 3                   5068.0    2811.0     51.0     47.0    207.0   \n",
       "Case 4                    188.0    4495.0     42.0     27.0     34.0   \n",
       "Case 5                   2830.0    1464.0    129.0   2000.0    482.0   \n",
       "Case 6                 434767.0       NaN      NaN     74.0     12.0   \n",
       "Case 7                      NaN  678362.0      1.0      NaN      NaN   \n",
       "Case 8                     90.0    2709.0  42089.0   2089.0    141.0   \n",
       "Case 9a                 16023.0       5.0    236.0  19112.0   2254.0   \n",
       "Case 9b                  1209.0       2.0     22.0    238.0   3392.0   \n",
       "Case 10a                    1.0   18189.0    370.0      5.0      NaN   \n",
       "Case 10b                    NaN      76.0      1.0      1.0      1.0   \n",
       "Case 11a                    NaN       NaN      NaN      1.0      NaN   \n",
       "Case 11b                    NaN       1.0      NaN      NaN      NaN   \n",
       "\n",
       "notes_abbrev_rmdup     Case 10a  Case 10b  Case 11a  Case 11b  \n",
       "notes_abbrev_original                                          \n",
       "Case 1                      NaN       NaN       5.0       4.0  \n",
       "Case 2                      NaN       NaN       NaN       NaN  \n",
       "Case 3                      NaN       NaN       NaN       NaN  \n",
       "Case 4                      NaN       NaN       2.0       1.0  \n",
       "Case 5                      NaN       NaN       4.0       NaN  \n",
       "Case 6                      NaN       NaN       NaN       NaN  \n",
       "Case 7                      NaN       NaN       NaN       NaN  \n",
       "Case 8                      NaN       NaN       4.0       2.0  \n",
       "Case 9a                     NaN       NaN       1.0       NaN  \n",
       "Case 9b                     NaN       NaN       NaN       NaN  \n",
       "Case 10a                    NaN       NaN       4.0       1.0  \n",
       "Case 10b                    NaN       NaN       NaN       NaN  \n",
       "Case 11a                    NaN       NaN       5.0       2.0  \n",
       "Case 11b                    NaN       NaN       NaN       1.0  "
      ]
     },
     "execution_count": 31,
     "metadata": {},
     "output_type": "execute_result"
    }
   ],
   "source": [
    "cases_counts_no_case22 = cases_counts.copy()\n",
    "cases_counts_no_case22.loc['Case 2', 'Case 2'] = np.nan\n",
    "cases_counts_no_case22"
   ]
  },
  {
   "cell_type": "code",
   "execution_count": 32,
   "metadata": {
    "collapsed": false
   },
   "outputs": [
    {
     "data": {
      "text/plain": [
       "<matplotlib.axes._subplots.AxesSubplot at 0x2b1d2e5d2690>"
      ]
     },
     "execution_count": 32,
     "metadata": {},
     "output_type": "execute_result"
    },
    {
     "data": {
      "image/png": "[encoded data removed]",
      "text/plain": [
       "<matplotlib.figure.Figure at 0x2b1d26c63e10>"
      ]
     },
     "metadata": {},
     "output_type": "display_data"
    }
   ],
   "source": [
    "sns.heatmap(cases_counts_no_case22)"
   ]
  },
  {
   "cell_type": "code",
   "execution_count": 33,
   "metadata": {
    "collapsed": false
   },
   "outputs": [
    {
     "data": {
      "text/html": [
       "<div>\n",
       "<table border=\"1\" class=\"dataframe\">\n",
       "  <thead>\n",
       "    <tr style=\"text-align: right;\">\n",
       "      <th>notes_abbrev_rmdup</th>\n",
       "      <th>Case 1</th>\n",
       "      <th>Case 2</th>\n",
       "      <th>Case 3</th>\n",
       "      <th>Case 4</th>\n",
       "      <th>Case 5</th>\n",
       "      <th>Case 6</th>\n",
       "      <th>Case 7</th>\n",
       "      <th>Case 8</th>\n",
       "      <th>Case 9a</th>\n",
       "      <th>Case 9b</th>\n",
       "      <th>Case 10a</th>\n",
       "      <th>Case 10b</th>\n",
       "      <th>Case 11a</th>\n",
       "      <th>Case 11b</th>\n",
       "    </tr>\n",
       "    <tr>\n",
       "      <th>notes_abbrev_original</th>\n",
       "      <th></th>\n",
       "      <th></th>\n",
       "      <th></th>\n",
       "      <th></th>\n",
       "      <th></th>\n",
       "      <th></th>\n",
       "      <th></th>\n",
       "      <th></th>\n",
       "      <th></th>\n",
       "      <th></th>\n",
       "      <th></th>\n",
       "      <th></th>\n",
       "      <th></th>\n",
       "      <th></th>\n",
       "    </tr>\n",
       "  </thead>\n",
       "  <tbody>\n",
       "    <tr>\n",
       "      <th>Case 1</th>\n",
       "      <td>96.671471</td>\n",
       "      <td>150.697410</td>\n",
       "      <td>0.662108</td>\n",
       "      <td>0.469892</td>\n",
       "      <td>1.107881</td>\n",
       "      <td>0.077044</td>\n",
       "      <td>0.039509</td>\n",
       "      <td>0.039189</td>\n",
       "      <td>0.352425</td>\n",
       "      <td>0.210438</td>\n",
       "      <td>NaN</td>\n",
       "      <td>NaN</td>\n",
       "      <td>7.352941</td>\n",
       "      <td>13.333333</td>\n",
       "    </tr>\n",
       "    <tr>\n",
       "      <th>Case 2</th>\n",
       "      <td>0.242687</td>\n",
       "      <td>NaN</td>\n",
       "      <td>0.431882</td>\n",
       "      <td>0.005330</td>\n",
       "      <td>NaN</td>\n",
       "      <td>0.001746</td>\n",
       "      <td>0.003951</td>\n",
       "      <td>NaN</td>\n",
       "      <td>NaN</td>\n",
       "      <td>NaN</td>\n",
       "      <td>NaN</td>\n",
       "      <td>NaN</td>\n",
       "      <td>NaN</td>\n",
       "      <td>NaN</td>\n",
       "    </tr>\n",
       "    <tr>\n",
       "      <th>Case 3</th>\n",
       "      <td>0.301653</td>\n",
       "      <td>1479.533163</td>\n",
       "      <td>86.320580</td>\n",
       "      <td>1.390209</td>\n",
       "      <td>0.165984</td>\n",
       "      <td>1.106111</td>\n",
       "      <td>0.396641</td>\n",
       "      <td>0.105192</td>\n",
       "      <td>0.119165</td>\n",
       "      <td>2.904040</td>\n",
       "      <td>NaN</td>\n",
       "      <td>NaN</td>\n",
       "      <td>NaN</td>\n",
       "      <td>NaN</td>\n",
       "    </tr>\n",
       "    <tr>\n",
       "      <th>Case 4</th>\n",
       "      <td>0.170739</td>\n",
       "      <td>267.862226</td>\n",
       "      <td>8.350834</td>\n",
       "      <td>92.927978</td>\n",
       "      <td>0.825947</td>\n",
       "      <td>0.041032</td>\n",
       "      <td>0.634259</td>\n",
       "      <td>0.086628</td>\n",
       "      <td>0.068457</td>\n",
       "      <td>0.476992</td>\n",
       "      <td>NaN</td>\n",
       "      <td>NaN</td>\n",
       "      <td>2.941176</td>\n",
       "      <td>3.333333</td>\n",
       "    </tr>\n",
       "    <tr>\n",
       "      <th>Case 5</th>\n",
       "      <td>0.046205</td>\n",
       "      <td>22.032451</td>\n",
       "      <td>0.214642</td>\n",
       "      <td>1.651865</td>\n",
       "      <td>81.491629</td>\n",
       "      <td>0.617658</td>\n",
       "      <td>0.206575</td>\n",
       "      <td>0.266073</td>\n",
       "      <td>5.070865</td>\n",
       "      <td>6.762065</td>\n",
       "      <td>NaN</td>\n",
       "      <td>NaN</td>\n",
       "      <td>5.882353</td>\n",
       "      <td>NaN</td>\n",
       "    </tr>\n",
       "    <tr>\n",
       "      <th>Case 6</th>\n",
       "      <td>0.010341</td>\n",
       "      <td>140.278964</td>\n",
       "      <td>3.232252</td>\n",
       "      <td>0.105914</td>\n",
       "      <td>0.013501</td>\n",
       "      <td>94.889585</td>\n",
       "      <td>NaN</td>\n",
       "      <td>NaN</td>\n",
       "      <td>0.187622</td>\n",
       "      <td>0.168350</td>\n",
       "      <td>NaN</td>\n",
       "      <td>NaN</td>\n",
       "      <td>NaN</td>\n",
       "      <td>NaN</td>\n",
       "    </tr>\n",
       "    <tr>\n",
       "      <th>Case 7</th>\n",
       "      <td>0.006601</td>\n",
       "      <td>97.978935</td>\n",
       "      <td>1.117551</td>\n",
       "      <td>2.344710</td>\n",
       "      <td>0.482862</td>\n",
       "      <td>NaN</td>\n",
       "      <td>95.719069</td>\n",
       "      <td>0.002063</td>\n",
       "      <td>NaN</td>\n",
       "      <td>NaN</td>\n",
       "      <td>NaN</td>\n",
       "      <td>NaN</td>\n",
       "      <td>NaN</td>\n",
       "      <td>NaN</td>\n",
       "    </tr>\n",
       "    <tr>\n",
       "      <th>Case 8</th>\n",
       "      <td>NaN</td>\n",
       "      <td>7.173356</td>\n",
       "      <td>0.050646</td>\n",
       "      <td>0.064429</td>\n",
       "      <td>0.220782</td>\n",
       "      <td>0.019643</td>\n",
       "      <td>0.382249</td>\n",
       "      <td>86.811872</td>\n",
       "      <td>5.296519</td>\n",
       "      <td>1.978114</td>\n",
       "      <td>NaN</td>\n",
       "      <td>NaN</td>\n",
       "      <td>5.882353</td>\n",
       "      <td>6.666667</td>\n",
       "    </tr>\n",
       "    <tr>\n",
       "      <th>Case 9a</th>\n",
       "      <td>0.005061</td>\n",
       "      <td>11.727868</td>\n",
       "      <td>0.117246</td>\n",
       "      <td>0.035923</td>\n",
       "      <td>0.343880</td>\n",
       "      <td>3.497082</td>\n",
       "      <td>0.000706</td>\n",
       "      <td>0.486769</td>\n",
       "      <td>48.457189</td>\n",
       "      <td>31.621773</td>\n",
       "      <td>NaN</td>\n",
       "      <td>NaN</td>\n",
       "      <td>1.470588</td>\n",
       "      <td>NaN</td>\n",
       "    </tr>\n",
       "    <tr>\n",
       "      <th>Case 9b</th>\n",
       "      <td>0.000660</td>\n",
       "      <td>6.205522</td>\n",
       "      <td>0.354336</td>\n",
       "      <td>0.008691</td>\n",
       "      <td>0.046857</td>\n",
       "      <td>0.263869</td>\n",
       "      <td>0.000282</td>\n",
       "      <td>0.045377</td>\n",
       "      <td>0.603433</td>\n",
       "      <td>47.586981</td>\n",
       "      <td>NaN</td>\n",
       "      <td>NaN</td>\n",
       "      <td>NaN</td>\n",
       "      <td>NaN</td>\n",
       "    </tr>\n",
       "    <tr>\n",
       "      <th>Case 10a</th>\n",
       "      <td>0.003960</td>\n",
       "      <td>7.799601</td>\n",
       "      <td>0.054356</td>\n",
       "      <td>0.133262</td>\n",
       "      <td>0.065917</td>\n",
       "      <td>0.000218</td>\n",
       "      <td>2.566527</td>\n",
       "      <td>0.763154</td>\n",
       "      <td>0.012677</td>\n",
       "      <td>NaN</td>\n",
       "      <td>NaN</td>\n",
       "      <td>NaN</td>\n",
       "      <td>5.882353</td>\n",
       "      <td>3.333333</td>\n",
       "    </tr>\n",
       "    <tr>\n",
       "      <th>Case 10b</th>\n",
       "      <td>NaN</td>\n",
       "      <td>0.113863</td>\n",
       "      <td>0.025230</td>\n",
       "      <td>0.019584</td>\n",
       "      <td>0.000794</td>\n",
       "      <td>NaN</td>\n",
       "      <td>0.010724</td>\n",
       "      <td>0.002063</td>\n",
       "      <td>0.002535</td>\n",
       "      <td>0.014029</td>\n",
       "      <td>NaN</td>\n",
       "      <td>NaN</td>\n",
       "      <td>NaN</td>\n",
       "      <td>NaN</td>\n",
       "    </tr>\n",
       "    <tr>\n",
       "      <th>Case 11a</th>\n",
       "      <td>NaN</td>\n",
       "      <td>0.426985</td>\n",
       "      <td>0.004823</td>\n",
       "      <td>0.001275</td>\n",
       "      <td>0.006353</td>\n",
       "      <td>NaN</td>\n",
       "      <td>NaN</td>\n",
       "      <td>NaN</td>\n",
       "      <td>0.002535</td>\n",
       "      <td>NaN</td>\n",
       "      <td>NaN</td>\n",
       "      <td>NaN</td>\n",
       "      <td>7.352941</td>\n",
       "      <td>6.666667</td>\n",
       "    </tr>\n",
       "    <tr>\n",
       "      <th>Case 11b</th>\n",
       "      <td>NaN</td>\n",
       "      <td>0.170794</td>\n",
       "      <td>0.001113</td>\n",
       "      <td>0.001275</td>\n",
       "      <td>0.003971</td>\n",
       "      <td>NaN</td>\n",
       "      <td>0.000141</td>\n",
       "      <td>NaN</td>\n",
       "      <td>NaN</td>\n",
       "      <td>NaN</td>\n",
       "      <td>NaN</td>\n",
       "      <td>NaN</td>\n",
       "      <td>NaN</td>\n",
       "      <td>3.333333</td>\n",
       "    </tr>\n",
       "  </tbody>\n",
       "</table>\n",
       "</div>"
      ],
      "text/plain": [
       "notes_abbrev_rmdup        Case 1       Case 2     Case 3     Case 4  \\\n",
       "notes_abbrev_original                                                 \n",
       "Case 1                 96.671471   150.697410   0.662108   0.469892   \n",
       "Case 2                  0.242687          NaN   0.431882   0.005330   \n",
       "Case 3                  0.301653  1479.533163  86.320580   1.390209   \n",
       "Case 4                  0.170739   267.862226   8.350834  92.927978   \n",
       "Case 5                  0.046205    22.032451   0.214642   1.651865   \n",
       "Case 6                  0.010341   140.278964   3.232252   0.105914   \n",
       "Case 7                  0.006601    97.978935   1.117551   2.344710   \n",
       "Case 8                       NaN     7.173356   0.050646   0.064429   \n",
       "Case 9a                 0.005061    11.727868   0.117246   0.035923   \n",
       "Case 9b                 0.000660     6.205522   0.354336   0.008691   \n",
       "Case 10a                0.003960     7.799601   0.054356   0.133262   \n",
       "Case 10b                     NaN     0.113863   0.025230   0.019584   \n",
       "Case 11a                     NaN     0.426985   0.004823   0.001275   \n",
       "Case 11b                     NaN     0.170794   0.001113   0.001275   \n",
       "\n",
       "notes_abbrev_rmdup        Case 5     Case 6     Case 7     Case 8    Case 9a  \\\n",
       "notes_abbrev_original                                                          \n",
       "Case 1                  1.107881   0.077044   0.039509   0.039189   0.352425   \n",
       "Case 2                       NaN   0.001746   0.003951        NaN        NaN   \n",
       "Case 3                  0.165984   1.106111   0.396641   0.105192   0.119165   \n",
       "Case 4                  0.825947   0.041032   0.634259   0.086628   0.068457   \n",
       "Case 5                 81.491629   0.617658   0.206575   0.266073   5.070865   \n",
       "Case 6                  0.013501  94.889585        NaN        NaN   0.187622   \n",
       "Case 7                  0.482862        NaN  95.719069   0.002063        NaN   \n",
       "Case 8                  0.220782   0.019643   0.382249  86.811872   5.296519   \n",
       "Case 9a                 0.343880   3.497082   0.000706   0.486769  48.457189   \n",
       "Case 9b                 0.046857   0.263869   0.000282   0.045377   0.603433   \n",
       "Case 10a                0.065917   0.000218   2.566527   0.763154   0.012677   \n",
       "Case 10b                0.000794        NaN   0.010724   0.002063   0.002535   \n",
       "Case 11a                0.006353        NaN        NaN        NaN   0.002535   \n",
       "Case 11b                0.003971        NaN   0.000141        NaN        NaN   \n",
       "\n",
       "notes_abbrev_rmdup       Case 9b  Case 10a  Case 10b  Case 11a   Case 11b  \n",
       "notes_abbrev_original                                                      \n",
       "Case 1                  0.210438       NaN       NaN  7.352941  13.333333  \n",
       "Case 2                       NaN       NaN       NaN       NaN        NaN  \n",
       "Case 3                  2.904040       NaN       NaN       NaN        NaN  \n",
       "Case 4                  0.476992       NaN       NaN  2.941176   3.333333  \n",
       "Case 5                  6.762065       NaN       NaN  5.882353        NaN  \n",
       "Case 6                  0.168350       NaN       NaN       NaN        NaN  \n",
       "Case 7                       NaN       NaN       NaN       NaN        NaN  \n",
       "Case 8                  1.978114       NaN       NaN  5.882353   6.666667  \n",
       "Case 9a                31.621773       NaN       NaN  1.470588        NaN  \n",
       "Case 9b                47.586981       NaN       NaN       NaN        NaN  \n",
       "Case 10a                     NaN       NaN       NaN  5.882353   3.333333  \n",
       "Case 10b                0.014029       NaN       NaN       NaN        NaN  \n",
       "Case 11a                     NaN       NaN       NaN  7.352941   6.666667  \n",
       "Case 11b                     NaN       NaN       NaN       NaN   3.333333  "
      ]
     },
     "execution_count": 33,
     "metadata": {},
     "output_type": "execute_result"
    }
   ],
   "source": [
    "cases_counts_no_case22_percent_original = 100 * cases_counts_no_case22/cases_counts_no_case22.sum(axis=1)\n",
    "cases_counts_no_case22_percent_original"
   ]
  },
  {
   "cell_type": "code",
   "execution_count": 34,
   "metadata": {
    "collapsed": false
   },
   "outputs": [
    {
     "data": {
      "text/plain": [
       "<matplotlib.axes._subplots.AxesSubplot at 0x2b1d60fcc1d0>"
      ]
     },
     "execution_count": 34,
     "metadata": {},
     "output_type": "execute_result"
    },
    {
     "data": {
      "image/png": "[encoded data removed]",
      "text/plain": [
       "<matplotlib.figure.Figure at 0x2b1d2023af90>"
      ]
     },
     "metadata": {},
     "output_type": "display_data"
    }
   ],
   "source": [
    "sns.heatmap(cases_counts_no_case22_percent_original, vmax=100)"
   ]
  },
  {
   "cell_type": "code",
   "execution_count": 35,
   "metadata": {
    "collapsed": false
   },
   "outputs": [
    {
     "data": {
      "text/html": [
       "<div>\n",
       "<table border=\"1\" class=\"dataframe\">\n",
       "  <thead>\n",
       "    <tr style=\"text-align: right;\">\n",
       "      <th>notes_abbrev_rmdup</th>\n",
       "      <th>Case 1</th>\n",
       "      <th>Case 2</th>\n",
       "      <th>Case 3</th>\n",
       "      <th>Case 4</th>\n",
       "      <th>Case 5</th>\n",
       "      <th>Case 6</th>\n",
       "      <th>Case 7</th>\n",
       "      <th>Case 8</th>\n",
       "      <th>Case 9a</th>\n",
       "      <th>Case 9b</th>\n",
       "      <th>Case 10a</th>\n",
       "      <th>Case 10b</th>\n",
       "      <th>Case 11a</th>\n",
       "      <th>Case 11b</th>\n",
       "    </tr>\n",
       "    <tr>\n",
       "      <th>notes_abbrev_original</th>\n",
       "      <th></th>\n",
       "      <th></th>\n",
       "      <th></th>\n",
       "      <th></th>\n",
       "      <th></th>\n",
       "      <th></th>\n",
       "      <th></th>\n",
       "      <th></th>\n",
       "      <th></th>\n",
       "      <th></th>\n",
       "      <th></th>\n",
       "      <th></th>\n",
       "      <th></th>\n",
       "      <th></th>\n",
       "    </tr>\n",
       "  </thead>\n",
       "  <tbody>\n",
       "    <tr>\n",
       "      <th>Case 1</th>\n",
       "      <td>99.191553</td>\n",
       "      <td>6.874878</td>\n",
       "      <td>0.655958</td>\n",
       "      <td>0.473871</td>\n",
       "      <td>1.306828</td>\n",
       "      <td>0.076650</td>\n",
       "      <td>0.039524</td>\n",
       "      <td>0.044227</td>\n",
       "      <td>0.585682</td>\n",
       "      <td>0.229428</td>\n",
       "      <td>NaN</td>\n",
       "      <td>NaN</td>\n",
       "      <td>20.0</td>\n",
       "      <td>36.363636</td>\n",
       "    </tr>\n",
       "    <tr>\n",
       "      <th>Case 2</th>\n",
       "      <td>0.249013</td>\n",
       "      <td>NaN</td>\n",
       "      <td>0.427870</td>\n",
       "      <td>0.005376</td>\n",
       "      <td>NaN</td>\n",
       "      <td>0.001737</td>\n",
       "      <td>0.003952</td>\n",
       "      <td>NaN</td>\n",
       "      <td>NaN</td>\n",
       "      <td>NaN</td>\n",
       "      <td>NaN</td>\n",
       "      <td>NaN</td>\n",
       "      <td>NaN</td>\n",
       "      <td>NaN</td>\n",
       "    </tr>\n",
       "    <tr>\n",
       "      <th>Case 3</th>\n",
       "      <td>0.309517</td>\n",
       "      <td>67.496916</td>\n",
       "      <td>85.518756</td>\n",
       "      <td>1.401981</td>\n",
       "      <td>0.195790</td>\n",
       "      <td>1.100454</td>\n",
       "      <td>0.396797</td>\n",
       "      <td>0.118715</td>\n",
       "      <td>0.198036</td>\n",
       "      <td>3.166106</td>\n",
       "      <td>NaN</td>\n",
       "      <td>NaN</td>\n",
       "      <td>NaN</td>\n",
       "      <td>NaN</td>\n",
       "    </tr>\n",
       "    <tr>\n",
       "      <th>Case 4</th>\n",
       "      <td>0.175190</td>\n",
       "      <td>12.219986</td>\n",
       "      <td>8.273264</td>\n",
       "      <td>93.714869</td>\n",
       "      <td>0.974266</td>\n",
       "      <td>0.040822</td>\n",
       "      <td>0.634509</td>\n",
       "      <td>0.097765</td>\n",
       "      <td>0.113766</td>\n",
       "      <td>0.520037</td>\n",
       "      <td>NaN</td>\n",
       "      <td>NaN</td>\n",
       "      <td>8.0</td>\n",
       "      <td>9.090909</td>\n",
       "    </tr>\n",
       "    <tr>\n",
       "      <th>Case 5</th>\n",
       "      <td>0.047410</td>\n",
       "      <td>1.005130</td>\n",
       "      <td>0.212649</td>\n",
       "      <td>1.665853</td>\n",
       "      <td>96.125418</td>\n",
       "      <td>0.614500</td>\n",
       "      <td>0.206656</td>\n",
       "      <td>0.300279</td>\n",
       "      <td>8.427085</td>\n",
       "      <td>7.372285</td>\n",
       "      <td>NaN</td>\n",
       "      <td>NaN</td>\n",
       "      <td>16.0</td>\n",
       "      <td>NaN</td>\n",
       "    </tr>\n",
       "    <tr>\n",
       "      <th>Case 6</th>\n",
       "      <td>0.010611</td>\n",
       "      <td>6.399584</td>\n",
       "      <td>3.202228</td>\n",
       "      <td>0.106811</td>\n",
       "      <td>0.015926</td>\n",
       "      <td>94.404358</td>\n",
       "      <td>NaN</td>\n",
       "      <td>NaN</td>\n",
       "      <td>0.311802</td>\n",
       "      <td>0.183542</td>\n",
       "      <td>NaN</td>\n",
       "      <td>NaN</td>\n",
       "      <td>NaN</td>\n",
       "      <td>NaN</td>\n",
       "    </tr>\n",
       "    <tr>\n",
       "      <th>Case 7</th>\n",
       "      <td>0.006773</td>\n",
       "      <td>4.469840</td>\n",
       "      <td>1.107170</td>\n",
       "      <td>2.364564</td>\n",
       "      <td>0.569571</td>\n",
       "      <td>NaN</td>\n",
       "      <td>95.756766</td>\n",
       "      <td>0.002328</td>\n",
       "      <td>NaN</td>\n",
       "      <td>NaN</td>\n",
       "      <td>NaN</td>\n",
       "      <td>NaN</td>\n",
       "      <td>NaN</td>\n",
       "      <td>NaN</td>\n",
       "    </tr>\n",
       "    <tr>\n",
       "      <th>Case 8</th>\n",
       "      <td>NaN</td>\n",
       "      <td>0.327251</td>\n",
       "      <td>0.050176</td>\n",
       "      <td>0.064975</td>\n",
       "      <td>0.260429</td>\n",
       "      <td>0.019542</td>\n",
       "      <td>0.382399</td>\n",
       "      <td>97.972533</td>\n",
       "      <td>8.802090</td>\n",
       "      <td>2.156623</td>\n",
       "      <td>NaN</td>\n",
       "      <td>NaN</td>\n",
       "      <td>16.0</td>\n",
       "      <td>18.181818</td>\n",
       "    </tr>\n",
       "    <tr>\n",
       "      <th>Case 9a</th>\n",
       "      <td>0.005192</td>\n",
       "      <td>0.535030</td>\n",
       "      <td>0.116157</td>\n",
       "      <td>0.036227</td>\n",
       "      <td>0.405632</td>\n",
       "      <td>3.479199</td>\n",
       "      <td>0.000706</td>\n",
       "      <td>0.549348</td>\n",
       "      <td>80.529221</td>\n",
       "      <td>34.475375</td>\n",
       "      <td>NaN</td>\n",
       "      <td>NaN</td>\n",
       "      <td>4.0</td>\n",
       "      <td>NaN</td>\n",
       "    </tr>\n",
       "    <tr>\n",
       "      <th>Case 9b</th>\n",
       "      <td>0.000677</td>\n",
       "      <td>0.283099</td>\n",
       "      <td>0.351045</td>\n",
       "      <td>0.008765</td>\n",
       "      <td>0.055271</td>\n",
       "      <td>0.262520</td>\n",
       "      <td>0.000282</td>\n",
       "      <td>0.051210</td>\n",
       "      <td>1.002823</td>\n",
       "      <td>51.881309</td>\n",
       "      <td>NaN</td>\n",
       "      <td>NaN</td>\n",
       "      <td>NaN</td>\n",
       "      <td>NaN</td>\n",
       "    </tr>\n",
       "    <tr>\n",
       "      <th>Case 10a</th>\n",
       "      <td>0.004064</td>\n",
       "      <td>0.355821</td>\n",
       "      <td>0.053851</td>\n",
       "      <td>0.134390</td>\n",
       "      <td>0.077754</td>\n",
       "      <td>0.000217</td>\n",
       "      <td>2.567537</td>\n",
       "      <td>0.861266</td>\n",
       "      <td>0.021068</td>\n",
       "      <td>NaN</td>\n",
       "      <td>NaN</td>\n",
       "      <td>NaN</td>\n",
       "      <td>16.0</td>\n",
       "      <td>9.090909</td>\n",
       "    </tr>\n",
       "    <tr>\n",
       "      <th>Case 10b</th>\n",
       "      <td>NaN</td>\n",
       "      <td>0.005194</td>\n",
       "      <td>0.024996</td>\n",
       "      <td>0.019749</td>\n",
       "      <td>0.000937</td>\n",
       "      <td>NaN</td>\n",
       "      <td>0.010728</td>\n",
       "      <td>0.002328</td>\n",
       "      <td>0.004214</td>\n",
       "      <td>0.015295</td>\n",
       "      <td>NaN</td>\n",
       "      <td>NaN</td>\n",
       "      <td>NaN</td>\n",
       "      <td>NaN</td>\n",
       "    </tr>\n",
       "    <tr>\n",
       "      <th>Case 11a</th>\n",
       "      <td>NaN</td>\n",
       "      <td>0.019479</td>\n",
       "      <td>0.004779</td>\n",
       "      <td>0.001285</td>\n",
       "      <td>0.007494</td>\n",
       "      <td>NaN</td>\n",
       "      <td>NaN</td>\n",
       "      <td>NaN</td>\n",
       "      <td>0.004214</td>\n",
       "      <td>NaN</td>\n",
       "      <td>NaN</td>\n",
       "      <td>NaN</td>\n",
       "      <td>20.0</td>\n",
       "      <td>18.181818</td>\n",
       "    </tr>\n",
       "    <tr>\n",
       "      <th>Case 11b</th>\n",
       "      <td>NaN</td>\n",
       "      <td>0.007792</td>\n",
       "      <td>0.001103</td>\n",
       "      <td>0.001285</td>\n",
       "      <td>0.004684</td>\n",
       "      <td>NaN</td>\n",
       "      <td>0.000141</td>\n",
       "      <td>NaN</td>\n",
       "      <td>NaN</td>\n",
       "      <td>NaN</td>\n",
       "      <td>NaN</td>\n",
       "      <td>NaN</td>\n",
       "      <td>NaN</td>\n",
       "      <td>9.090909</td>\n",
       "    </tr>\n",
       "  </tbody>\n",
       "</table>\n",
       "</div>"
      ],
      "text/plain": [
       "notes_abbrev_rmdup        Case 1     Case 2     Case 3     Case 4     Case 5  \\\n",
       "notes_abbrev_original                                                          \n",
       "Case 1                 99.191553   6.874878   0.655958   0.473871   1.306828   \n",
       "Case 2                  0.249013        NaN   0.427870   0.005376        NaN   \n",
       "Case 3                  0.309517  67.496916  85.518756   1.401981   0.195790   \n",
       "Case 4                  0.175190  12.219986   8.273264  93.714869   0.974266   \n",
       "Case 5                  0.047410   1.005130   0.212649   1.665853  96.125418   \n",
       "Case 6                  0.010611   6.399584   3.202228   0.106811   0.015926   \n",
       "Case 7                  0.006773   4.469840   1.107170   2.364564   0.569571   \n",
       "Case 8                       NaN   0.327251   0.050176   0.064975   0.260429   \n",
       "Case 9a                 0.005192   0.535030   0.116157   0.036227   0.405632   \n",
       "Case 9b                 0.000677   0.283099   0.351045   0.008765   0.055271   \n",
       "Case 10a                0.004064   0.355821   0.053851   0.134390   0.077754   \n",
       "Case 10b                     NaN   0.005194   0.024996   0.019749   0.000937   \n",
       "Case 11a                     NaN   0.019479   0.004779   0.001285   0.007494   \n",
       "Case 11b                     NaN   0.007792   0.001103   0.001285   0.004684   \n",
       "\n",
       "notes_abbrev_rmdup        Case 6     Case 7     Case 8    Case 9a    Case 9b  \\\n",
       "notes_abbrev_original                                                          \n",
       "Case 1                  0.076650   0.039524   0.044227   0.585682   0.229428   \n",
       "Case 2                  0.001737   0.003952        NaN        NaN        NaN   \n",
       "Case 3                  1.100454   0.396797   0.118715   0.198036   3.166106   \n",
       "Case 4                  0.040822   0.634509   0.097765   0.113766   0.520037   \n",
       "Case 5                  0.614500   0.206656   0.300279   8.427085   7.372285   \n",
       "Case 6                 94.404358        NaN        NaN   0.311802   0.183542   \n",
       "Case 7                       NaN  95.756766   0.002328        NaN        NaN   \n",
       "Case 8                  0.019542   0.382399  97.972533   8.802090   2.156623   \n",
       "Case 9a                 3.479199   0.000706   0.549348  80.529221  34.475375   \n",
       "Case 9b                 0.262520   0.000282   0.051210   1.002823  51.881309   \n",
       "Case 10a                0.000217   2.567537   0.861266   0.021068        NaN   \n",
       "Case 10b                     NaN   0.010728   0.002328   0.004214   0.015295   \n",
       "Case 11a                     NaN        NaN        NaN   0.004214        NaN   \n",
       "Case 11b                     NaN   0.000141        NaN        NaN        NaN   \n",
       "\n",
       "notes_abbrev_rmdup     Case 10a  Case 10b  Case 11a   Case 11b  \n",
       "notes_abbrev_original                                           \n",
       "Case 1                      NaN       NaN      20.0  36.363636  \n",
       "Case 2                      NaN       NaN       NaN        NaN  \n",
       "Case 3                      NaN       NaN       NaN        NaN  \n",
       "Case 4                      NaN       NaN       8.0   9.090909  \n",
       "Case 5                      NaN       NaN      16.0        NaN  \n",
       "Case 6                      NaN       NaN       NaN        NaN  \n",
       "Case 7                      NaN       NaN       NaN        NaN  \n",
       "Case 8                      NaN       NaN      16.0  18.181818  \n",
       "Case 9a                     NaN       NaN       4.0        NaN  \n",
       "Case 9b                     NaN       NaN       NaN        NaN  \n",
       "Case 10a                    NaN       NaN      16.0   9.090909  \n",
       "Case 10b                    NaN       NaN       NaN        NaN  \n",
       "Case 11a                    NaN       NaN      20.0  18.181818  \n",
       "Case 11b                    NaN       NaN       NaN   9.090909  "
      ]
     },
     "execution_count": 35,
     "metadata": {},
     "output_type": "execute_result"
    }
   ],
   "source": [
    "cases_counts_no_case22_percent_rmdup = 100 * cases_counts_no_case22/cases_counts_no_case22.sum()\n",
    "cases_counts_no_case22_percent_rmdup"
   ]
  },
  {
   "cell_type": "code",
   "execution_count": 36,
   "metadata": {
    "collapsed": false
   },
   "outputs": [
    {
     "data": {
      "text/plain": [
       "<matplotlib.axes._subplots.AxesSubplot at 0x2b1d16ec9910>"
      ]
     },
     "execution_count": 36,
     "metadata": {},
     "output_type": "execute_result"
    },
    {
     "data": {
      "image/png": "[encoded data removed]",
      "text/plain": [
       "<matplotlib.figure.Figure at 0x2b1d18c63e10>"
      ]
     },
     "metadata": {},
     "output_type": "display_data"
    }
   ],
   "source": [
    "sns.heatmap(cases_counts_no_case22_percent_rmdup, vmax=100)"
   ]
  },
  {
   "cell_type": "markdown",
   "metadata": {},
   "source": [
    "## Make scatterplots"
   ]
  },
  {
   "cell_type": "code",
   "execution_count": 37,
   "metadata": {
    "collapsed": false
   },
   "outputs": [
    {
     "data": {
      "text/plain": [
       "(12567319, 28)"
      ]
     },
     "execution_count": 37,
     "metadata": {},
     "output_type": "execute_result"
    }
   ],
   "source": [
    "summary.shape"
   ]
  },
  {
   "cell_type": "code",
   "execution_count": 38,
   "metadata": {
    "collapsed": false
   },
   "outputs": [
    {
     "name": "stdout",
     "output_type": "stream",
     "text": [
      "(1353054, 28)\n"
     ]
    },
    {
     "data": {
      "text/html": [
       "<div>\n",
       "<table border=\"1\" class=\"dataframe\">\n",
       "  <thead>\n",
       "    <tr style=\"text-align: right;\">\n",
       "      <th></th>\n",
       "      <th>sample_id</th>\n",
       "      <th>event_id</th>\n",
       "      <th>incompatible_junction0_original</th>\n",
       "      <th>incompatible_junction1_original</th>\n",
       "      <th>isoform1_junction13_original</th>\n",
       "      <th>isoform1_junction34_original</th>\n",
       "      <th>isoform2_junction12_original</th>\n",
       "      <th>isoform2_junction23_original</th>\n",
       "      <th>isoform2_junction24_original</th>\n",
       "      <th>notes_original</th>\n",
       "      <th>...</th>\n",
       "      <th>isoform2_junction23_rmdup</th>\n",
       "      <th>isoform2_junction24_rmdup</th>\n",
       "      <th>notes_rmdup</th>\n",
       "      <th>psi_rmdup</th>\n",
       "      <th>bam</th>\n",
       "      <th>notes_copy</th>\n",
       "      <th>note_copy</th>\n",
       "      <th>notes_abbrev_rmdup</th>\n",
       "      <th>dataset_rmdup</th>\n",
       "      <th>comparison_categories</th>\n",
       "    </tr>\n",
       "  </thead>\n",
       "  <tbody>\n",
       "    <tr>\n",
       "      <th>33</th>\n",
       "      <td>CVN_35</td>\n",
       "      <td>isoform1=junction:chr10:100189400-100190327:-|...</td>\n",
       "      <td>NaN</td>\n",
       "      <td>NaN</td>\n",
       "      <td>7.0</td>\n",
       "      <td>NaN</td>\n",
       "      <td>15.0</td>\n",
       "      <td>13.0</td>\n",
       "      <td>NaN</td>\n",
       "      <td>Case 10a: Isoform1 has 1+ junction with insuff...</td>\n",
       "      <td>...</td>\n",
       "      <td>7.0</td>\n",
       "      <td>NaN</td>\n",
       "      <td>Case 3: All junctions with insufficient reads</td>\n",
       "      <td>NaN</td>\n",
       "      <td>CVN_35_R1.fastq.gz.polyATrim.adapterTrim.rmRep...</td>\n",
       "      <td>Case 3: All junctions with insufficient reads</td>\n",
       "      <td>Case 3: All junctions with insufficient reads</td>\n",
       "      <td>Case 3</td>\n",
       "      <td>rmdup</td>\n",
       "      <td>rmdup NA, original Psi</td>\n",
       "    </tr>\n",
       "    <tr>\n",
       "      <th>94</th>\n",
       "      <td>M3_03</td>\n",
       "      <td>isoform1=junction:chr10:100189400-100190327:-|...</td>\n",
       "      <td>NaN</td>\n",
       "      <td>NaN</td>\n",
       "      <td>8.0</td>\n",
       "      <td>NaN</td>\n",
       "      <td>0.0</td>\n",
       "      <td>0.0</td>\n",
       "      <td>NaN</td>\n",
       "      <td>Case 3: All junctions with insufficient reads</td>\n",
       "      <td>...</td>\n",
       "      <td>0.0</td>\n",
       "      <td>NaN</td>\n",
       "      <td>Case 6: Exclusion</td>\n",
       "      <td>0.0</td>\n",
       "      <td>M3_03_R1.fastq.gz.polyATrim.adapterTrim.rmRep....</td>\n",
       "      <td>Case 6: Exclusion</td>\n",
       "      <td>Case 6: Exclusion</td>\n",
       "      <td>Case 6</td>\n",
       "      <td>rmdup</td>\n",
       "      <td>rmdup Psi, original NA</td>\n",
       "    </tr>\n",
       "    <tr>\n",
       "      <th>132</th>\n",
       "      <td>MSA_24</td>\n",
       "      <td>isoform1=junction:chr10:100189400-100190327:-|...</td>\n",
       "      <td>NaN</td>\n",
       "      <td>NaN</td>\n",
       "      <td>0.0</td>\n",
       "      <td>NaN</td>\n",
       "      <td>65.0</td>\n",
       "      <td>52.0</td>\n",
       "      <td>NaN</td>\n",
       "      <td>Case 7: Inclusion</td>\n",
       "      <td>...</td>\n",
       "      <td>47.0</td>\n",
       "      <td>NaN</td>\n",
       "      <td>Case 7: Inclusion</td>\n",
       "      <td>1.0</td>\n",
       "      <td>MSA_24_R1.fastq.gz.polyATrim.adapterTrim.rmRep...</td>\n",
       "      <td>Case 7: Inclusion</td>\n",
       "      <td>Case 7: Inclusion</td>\n",
       "      <td>Case 7</td>\n",
       "      <td>rmdup</td>\n",
       "      <td>Within $|\\Delta\\Psi| \\leq 0.2$</td>\n",
       "    </tr>\n",
       "    <tr>\n",
       "      <th>192</th>\n",
       "      <td>P1_06</td>\n",
       "      <td>isoform1=junction:chr10:100189400-100190327:-|...</td>\n",
       "      <td>NaN</td>\n",
       "      <td>NaN</td>\n",
       "      <td>0.0</td>\n",
       "      <td>NaN</td>\n",
       "      <td>12.0</td>\n",
       "      <td>11.0</td>\n",
       "      <td>NaN</td>\n",
       "      <td>Case 7: Inclusion</td>\n",
       "      <td>...</td>\n",
       "      <td>9.0</td>\n",
       "      <td>NaN</td>\n",
       "      <td>Case 4: Only one junction with sufficient reads</td>\n",
       "      <td>NaN</td>\n",
       "      <td>P1_06_R1.fastq.gz.polyATrim.adapterTrim.rmRep....</td>\n",
       "      <td>Case 4: Only one junction with sufficient reads</td>\n",
       "      <td>Case 4: Only one junction with sufficient reads</td>\n",
       "      <td>Case 4</td>\n",
       "      <td>rmdup</td>\n",
       "      <td>rmdup NA, original Psi</td>\n",
       "    </tr>\n",
       "    <tr>\n",
       "      <th>196</th>\n",
       "      <td>P1_10</td>\n",
       "      <td>isoform1=junction:chr10:100189400-100190327:-|...</td>\n",
       "      <td>NaN</td>\n",
       "      <td>NaN</td>\n",
       "      <td>43.0</td>\n",
       "      <td>NaN</td>\n",
       "      <td>0.0</td>\n",
       "      <td>0.0</td>\n",
       "      <td>NaN</td>\n",
       "      <td>Case 6: Exclusion</td>\n",
       "      <td>...</td>\n",
       "      <td>0.0</td>\n",
       "      <td>NaN</td>\n",
       "      <td>Case 6: Exclusion</td>\n",
       "      <td>0.0</td>\n",
       "      <td>P1_10_R1.fastq.gz.polyATrim.adapterTrim.rmRep....</td>\n",
       "      <td>Case 6: Exclusion</td>\n",
       "      <td>Case 6: Exclusion</td>\n",
       "      <td>Case 6</td>\n",
       "      <td>rmdup</td>\n",
       "      <td>Within $|\\Delta\\Psi| \\leq 0.2$</td>\n",
       "    </tr>\n",
       "  </tbody>\n",
       "</table>\n",
       "<p>5 rows × 28 columns</p>\n",
       "</div>"
      ],
      "text/plain": [
       "    sample_id                                           event_id  \\\n",
       "33     CVN_35  isoform1=junction:chr10:100189400-100190327:-|...   \n",
       "94      M3_03  isoform1=junction:chr10:100189400-100190327:-|...   \n",
       "132    MSA_24  isoform1=junction:chr10:100189400-100190327:-|...   \n",
       "192     P1_06  isoform1=junction:chr10:100189400-100190327:-|...   \n",
       "196     P1_10  isoform1=junction:chr10:100189400-100190327:-|...   \n",
       "\n",
       "     incompatible_junction0_original  incompatible_junction1_original  \\\n",
       "33                               NaN                              NaN   \n",
       "94                               NaN                              NaN   \n",
       "132                              NaN                              NaN   \n",
       "192                              NaN                              NaN   \n",
       "196                              NaN                              NaN   \n",
       "\n",
       "     isoform1_junction13_original  isoform1_junction34_original  \\\n",
       "33                            7.0                           NaN   \n",
       "94                            8.0                           NaN   \n",
       "132                           0.0                           NaN   \n",
       "192                           0.0                           NaN   \n",
       "196                          43.0                           NaN   \n",
       "\n",
       "     isoform2_junction12_original  isoform2_junction23_original  \\\n",
       "33                           15.0                          13.0   \n",
       "94                            0.0                           0.0   \n",
       "132                          65.0                          52.0   \n",
       "192                          12.0                          11.0   \n",
       "196                           0.0                           0.0   \n",
       "\n",
       "     isoform2_junction24_original  \\\n",
       "33                            NaN   \n",
       "94                            NaN   \n",
       "132                           NaN   \n",
       "192                           NaN   \n",
       "196                           NaN   \n",
       "\n",
       "                                        notes_original  \\\n",
       "33   Case 10a: Isoform1 has 1+ junction with insuff...   \n",
       "94       Case 3: All junctions with insufficient reads   \n",
       "132                                  Case 7: Inclusion   \n",
       "192                                  Case 7: Inclusion   \n",
       "196                                  Case 6: Exclusion   \n",
       "\n",
       "                  ...                isoform2_junction23_rmdup  \\\n",
       "33                ...                                      7.0   \n",
       "94                ...                                      0.0   \n",
       "132               ...                                     47.0   \n",
       "192               ...                                      9.0   \n",
       "196               ...                                      0.0   \n",
       "\n",
       "    isoform2_junction24_rmdup  \\\n",
       "33                        NaN   \n",
       "94                        NaN   \n",
       "132                       NaN   \n",
       "192                       NaN   \n",
       "196                       NaN   \n",
       "\n",
       "                                         notes_rmdup  psi_rmdup  \\\n",
       "33     Case 3: All junctions with insufficient reads        NaN   \n",
       "94                                 Case 6: Exclusion        0.0   \n",
       "132                                Case 7: Inclusion        1.0   \n",
       "192  Case 4: Only one junction with sufficient reads        NaN   \n",
       "196                                Case 6: Exclusion        0.0   \n",
       "\n",
       "                                                   bam  \\\n",
       "33   CVN_35_R1.fastq.gz.polyATrim.adapterTrim.rmRep...   \n",
       "94   M3_03_R1.fastq.gz.polyATrim.adapterTrim.rmRep....   \n",
       "132  MSA_24_R1.fastq.gz.polyATrim.adapterTrim.rmRep...   \n",
       "192  P1_06_R1.fastq.gz.polyATrim.adapterTrim.rmRep....   \n",
       "196  P1_10_R1.fastq.gz.polyATrim.adapterTrim.rmRep....   \n",
       "\n",
       "                                          notes_copy  \\\n",
       "33     Case 3: All junctions with insufficient reads   \n",
       "94                                 Case 6: Exclusion   \n",
       "132                                Case 7: Inclusion   \n",
       "192  Case 4: Only one junction with sufficient reads   \n",
       "196                                Case 6: Exclusion   \n",
       "\n",
       "                                           note_copy  notes_abbrev_rmdup  \\\n",
       "33     Case 3: All junctions with insufficient reads              Case 3   \n",
       "94                                 Case 6: Exclusion              Case 6   \n",
       "132                                Case 7: Inclusion              Case 7   \n",
       "192  Case 4: Only one junction with sufficient reads              Case 4   \n",
       "196                                Case 6: Exclusion              Case 6   \n",
       "\n",
       "     dataset_rmdup           comparison_categories  \n",
       "33           rmdup          rmdup NA, original Psi  \n",
       "94           rmdup          rmdup Psi, original NA  \n",
       "132          rmdup  Within $|\\Delta\\Psi| \\leq 0.2$  \n",
       "192          rmdup          rmdup NA, original Psi  \n",
       "196          rmdup  Within $|\\Delta\\Psi| \\leq 0.2$  \n",
       "\n",
       "[5 rows x 28 columns]"
      ]
     },
     "execution_count": 38,
     "metadata": {},
     "output_type": "execute_result"
    }
   ],
   "source": [
    "summary_not_both_na = summary.loc[summary['psi_original'].notnull() | summary['psi_rmdup'].notnull()]\n",
    "print(summary_not_both_na.shape)\n",
    "summary_not_both_na.head()"
   ]
  },
  {
   "cell_type": "code",
   "execution_count": 39,
   "metadata": {
    "collapsed": false
   },
   "outputs": [
    {
     "data": {
      "text/html": [
       "<div>\n",
       "<table border=\"1\" class=\"dataframe\">\n",
       "  <thead>\n",
       "    <tr style=\"text-align: right;\">\n",
       "      <th></th>\n",
       "      <th>sample_id</th>\n",
       "      <th>event_id</th>\n",
       "      <th>incompatible_junction0_original</th>\n",
       "      <th>incompatible_junction1_original</th>\n",
       "      <th>isoform1_junction13_original</th>\n",
       "      <th>isoform1_junction34_original</th>\n",
       "      <th>isoform2_junction12_original</th>\n",
       "      <th>isoform2_junction23_original</th>\n",
       "      <th>isoform2_junction24_original</th>\n",
       "      <th>notes_original</th>\n",
       "      <th>...</th>\n",
       "      <th>isoform2_junction23_rmdup</th>\n",
       "      <th>isoform2_junction24_rmdup</th>\n",
       "      <th>notes_rmdup</th>\n",
       "      <th>psi_rmdup</th>\n",
       "      <th>bam</th>\n",
       "      <th>notes_copy</th>\n",
       "      <th>note_copy</th>\n",
       "      <th>notes_abbrev_rmdup</th>\n",
       "      <th>dataset_rmdup</th>\n",
       "      <th>comparison_categories</th>\n",
       "    </tr>\n",
       "  </thead>\n",
       "  <tbody>\n",
       "    <tr>\n",
       "      <th>33</th>\n",
       "      <td>CVN_35</td>\n",
       "      <td>isoform1=junction:chr10:100189400-100190327:-|...</td>\n",
       "      <td>NaN</td>\n",
       "      <td>NaN</td>\n",
       "      <td>7.0</td>\n",
       "      <td>NaN</td>\n",
       "      <td>15.0</td>\n",
       "      <td>13.0</td>\n",
       "      <td>NaN</td>\n",
       "      <td>Case 10a: Isoform1 has 1+ junction with insuff...</td>\n",
       "      <td>...</td>\n",
       "      <td>7.0</td>\n",
       "      <td>NaN</td>\n",
       "      <td>Case 3: All junctions with insufficient reads</td>\n",
       "      <td>-0.1</td>\n",
       "      <td>CVN_35_R1.fastq.gz.polyATrim.adapterTrim.rmRep...</td>\n",
       "      <td>Case 3: All junctions with insufficient reads</td>\n",
       "      <td>Case 3: All junctions with insufficient reads</td>\n",
       "      <td>Case 3</td>\n",
       "      <td>rmdup</td>\n",
       "      <td>rmdup NA, original Psi</td>\n",
       "    </tr>\n",
       "    <tr>\n",
       "      <th>94</th>\n",
       "      <td>M3_03</td>\n",
       "      <td>isoform1=junction:chr10:100189400-100190327:-|...</td>\n",
       "      <td>NaN</td>\n",
       "      <td>NaN</td>\n",
       "      <td>8.0</td>\n",
       "      <td>NaN</td>\n",
       "      <td>0.0</td>\n",
       "      <td>0.0</td>\n",
       "      <td>NaN</td>\n",
       "      <td>Case 3: All junctions with insufficient reads</td>\n",
       "      <td>...</td>\n",
       "      <td>0.0</td>\n",
       "      <td>NaN</td>\n",
       "      <td>Case 6: Exclusion</td>\n",
       "      <td>0.0</td>\n",
       "      <td>M3_03_R1.fastq.gz.polyATrim.adapterTrim.rmRep....</td>\n",
       "      <td>Case 6: Exclusion</td>\n",
       "      <td>Case 6: Exclusion</td>\n",
       "      <td>Case 6</td>\n",
       "      <td>rmdup</td>\n",
       "      <td>rmdup Psi, original NA</td>\n",
       "    </tr>\n",
       "    <tr>\n",
       "      <th>132</th>\n",
       "      <td>MSA_24</td>\n",
       "      <td>isoform1=junction:chr10:100189400-100190327:-|...</td>\n",
       "      <td>NaN</td>\n",
       "      <td>NaN</td>\n",
       "      <td>0.0</td>\n",
       "      <td>NaN</td>\n",
       "      <td>65.0</td>\n",
       "      <td>52.0</td>\n",
       "      <td>NaN</td>\n",
       "      <td>Case 7: Inclusion</td>\n",
       "      <td>...</td>\n",
       "      <td>47.0</td>\n",
       "      <td>NaN</td>\n",
       "      <td>Case 7: Inclusion</td>\n",
       "      <td>1.0</td>\n",
       "      <td>MSA_24_R1.fastq.gz.polyATrim.adapterTrim.rmRep...</td>\n",
       "      <td>Case 7: Inclusion</td>\n",
       "      <td>Case 7: Inclusion</td>\n",
       "      <td>Case 7</td>\n",
       "      <td>rmdup</td>\n",
       "      <td>Within $|\\Delta\\Psi| \\leq 0.2$</td>\n",
       "    </tr>\n",
       "    <tr>\n",
       "      <th>192</th>\n",
       "      <td>P1_06</td>\n",
       "      <td>isoform1=junction:chr10:100189400-100190327:-|...</td>\n",
       "      <td>NaN</td>\n",
       "      <td>NaN</td>\n",
       "      <td>0.0</td>\n",
       "      <td>NaN</td>\n",
       "      <td>12.0</td>\n",
       "      <td>11.0</td>\n",
       "      <td>NaN</td>\n",
       "      <td>Case 7: Inclusion</td>\n",
       "      <td>...</td>\n",
       "      <td>9.0</td>\n",
       "      <td>NaN</td>\n",
       "      <td>Case 4: Only one junction with sufficient reads</td>\n",
       "      <td>-0.1</td>\n",
       "      <td>P1_06_R1.fastq.gz.polyATrim.adapterTrim.rmRep....</td>\n",
       "      <td>Case 4: Only one junction with sufficient reads</td>\n",
       "      <td>Case 4: Only one junction with sufficient reads</td>\n",
       "      <td>Case 4</td>\n",
       "      <td>rmdup</td>\n",
       "      <td>rmdup NA, original Psi</td>\n",
       "    </tr>\n",
       "    <tr>\n",
       "      <th>196</th>\n",
       "      <td>P1_10</td>\n",
       "      <td>isoform1=junction:chr10:100189400-100190327:-|...</td>\n",
       "      <td>NaN</td>\n",
       "      <td>NaN</td>\n",
       "      <td>43.0</td>\n",
       "      <td>NaN</td>\n",
       "      <td>0.0</td>\n",
       "      <td>0.0</td>\n",
       "      <td>NaN</td>\n",
       "      <td>Case 6: Exclusion</td>\n",
       "      <td>...</td>\n",
       "      <td>0.0</td>\n",
       "      <td>NaN</td>\n",
       "      <td>Case 6: Exclusion</td>\n",
       "      <td>0.0</td>\n",
       "      <td>P1_10_R1.fastq.gz.polyATrim.adapterTrim.rmRep....</td>\n",
       "      <td>Case 6: Exclusion</td>\n",
       "      <td>Case 6: Exclusion</td>\n",
       "      <td>Case 6</td>\n",
       "      <td>rmdup</td>\n",
       "      <td>Within $|\\Delta\\Psi| \\leq 0.2$</td>\n",
       "    </tr>\n",
       "  </tbody>\n",
       "</table>\n",
       "<p>5 rows × 28 columns</p>\n",
       "</div>"
      ],
      "text/plain": [
       "    sample_id                                           event_id  \\\n",
       "33     CVN_35  isoform1=junction:chr10:100189400-100190327:-|...   \n",
       "94      M3_03  isoform1=junction:chr10:100189400-100190327:-|...   \n",
       "132    MSA_24  isoform1=junction:chr10:100189400-100190327:-|...   \n",
       "192     P1_06  isoform1=junction:chr10:100189400-100190327:-|...   \n",
       "196     P1_10  isoform1=junction:chr10:100189400-100190327:-|...   \n",
       "\n",
       "     incompatible_junction0_original  incompatible_junction1_original  \\\n",
       "33                               NaN                              NaN   \n",
       "94                               NaN                              NaN   \n",
       "132                              NaN                              NaN   \n",
       "192                              NaN                              NaN   \n",
       "196                              NaN                              NaN   \n",
       "\n",
       "     isoform1_junction13_original  isoform1_junction34_original  \\\n",
       "33                            7.0                           NaN   \n",
       "94                            8.0                           NaN   \n",
       "132                           0.0                           NaN   \n",
       "192                           0.0                           NaN   \n",
       "196                          43.0                           NaN   \n",
       "\n",
       "     isoform2_junction12_original  isoform2_junction23_original  \\\n",
       "33                           15.0                          13.0   \n",
       "94                            0.0                           0.0   \n",
       "132                          65.0                          52.0   \n",
       "192                          12.0                          11.0   \n",
       "196                           0.0                           0.0   \n",
       "\n",
       "     isoform2_junction24_original  \\\n",
       "33                            NaN   \n",
       "94                            NaN   \n",
       "132                           NaN   \n",
       "192                           NaN   \n",
       "196                           NaN   \n",
       "\n",
       "                                        notes_original  \\\n",
       "33   Case 10a: Isoform1 has 1+ junction with insuff...   \n",
       "94       Case 3: All junctions with insufficient reads   \n",
       "132                                  Case 7: Inclusion   \n",
       "192                                  Case 7: Inclusion   \n",
       "196                                  Case 6: Exclusion   \n",
       "\n",
       "                  ...                isoform2_junction23_rmdup  \\\n",
       "33                ...                                      7.0   \n",
       "94                ...                                      0.0   \n",
       "132               ...                                     47.0   \n",
       "192               ...                                      9.0   \n",
       "196               ...                                      0.0   \n",
       "\n",
       "    isoform2_junction24_rmdup  \\\n",
       "33                        NaN   \n",
       "94                        NaN   \n",
       "132                       NaN   \n",
       "192                       NaN   \n",
       "196                       NaN   \n",
       "\n",
       "                                         notes_rmdup  psi_rmdup  \\\n",
       "33     Case 3: All junctions with insufficient reads       -0.1   \n",
       "94                                 Case 6: Exclusion        0.0   \n",
       "132                                Case 7: Inclusion        1.0   \n",
       "192  Case 4: Only one junction with sufficient reads       -0.1   \n",
       "196                                Case 6: Exclusion        0.0   \n",
       "\n",
       "                                                   bam  \\\n",
       "33   CVN_35_R1.fastq.gz.polyATrim.adapterTrim.rmRep...   \n",
       "94   M3_03_R1.fastq.gz.polyATrim.adapterTrim.rmRep....   \n",
       "132  MSA_24_R1.fastq.gz.polyATrim.adapterTrim.rmRep...   \n",
       "192  P1_06_R1.fastq.gz.polyATrim.adapterTrim.rmRep....   \n",
       "196  P1_10_R1.fastq.gz.polyATrim.adapterTrim.rmRep....   \n",
       "\n",
       "                                          notes_copy  \\\n",
       "33     Case 3: All junctions with insufficient reads   \n",
       "94                                 Case 6: Exclusion   \n",
       "132                                Case 7: Inclusion   \n",
       "192  Case 4: Only one junction with sufficient reads   \n",
       "196                                Case 6: Exclusion   \n",
       "\n",
       "                                           note_copy  notes_abbrev_rmdup  \\\n",
       "33     Case 3: All junctions with insufficient reads              Case 3   \n",
       "94                                 Case 6: Exclusion              Case 6   \n",
       "132                                Case 7: Inclusion              Case 7   \n",
       "192  Case 4: Only one junction with sufficient reads              Case 4   \n",
       "196                                Case 6: Exclusion              Case 6   \n",
       "\n",
       "     dataset_rmdup           comparison_categories  \n",
       "33           rmdup          rmdup NA, original Psi  \n",
       "94           rmdup          rmdup Psi, original NA  \n",
       "132          rmdup  Within $|\\Delta\\Psi| \\leq 0.2$  \n",
       "192          rmdup          rmdup NA, original Psi  \n",
       "196          rmdup  Within $|\\Delta\\Psi| \\leq 0.2$  \n",
       "\n",
       "[5 rows x 28 columns]"
      ]
     },
     "execution_count": 39,
     "metadata": {},
     "output_type": "execute_result"
    }
   ],
   "source": [
    "summary_fillna = summary_not_both_na.fillna({'psi_original': -0.1, 'psi_rmdup': -0.1})\n",
    "summary_fillna.head()"
   ]
  },
  {
   "cell_type": "code",
   "execution_count": 40,
   "metadata": {
    "collapsed": true
   },
   "outputs": [],
   "source": [
    "# sns.FacetGrid?"
   ]
  },
  {
   "cell_type": "code",
   "execution_count": 41,
   "metadata": {
    "collapsed": true
   },
   "outputs": [],
   "source": [
    "vlim = -0.2, 1.05\n"
   ]
  },
  {
   "cell_type": "code",
   "execution_count": 42,
   "metadata": {
    "collapsed": false
   },
   "outputs": [
    {
     "data": {
      "image/png": "[encoded data removed]",
      "text/plain": [
       "<matplotlib.figure.Figure at 0x2b1d2d103490>"
      ]
     },
     "metadata": {},
     "output_type": "display_data"
    }
   ],
   "source": [
    "g = sns.FacetGrid(summary_fillna,\n",
    "                  hue=col, palette=palette, \n",
    "#                   subplot_kws=dict(#ncols=2, nrows=7, wspace=0.01),\n",
    "#                   hue_order=['0 <= Psi <= 1', 'rmdup NA', 'original NA'],\n",
    "#                   palette=['#262626', original_na_color, rmdup_na_color],\n",
    "                  col_order=case_order, size=2, aspect=1.1)\n",
    "g.map(plt.scatter, 'psi_original', 'psi_rmdup', alpha=0.5, rasterized=True, s=5)\n",
    "g.set_titles('{col_name}')\n",
    "g.set(xticks=[0, 0.5, 1], yticks=[0, 0.5, 1], xlim=vlim, ylim=vlim)\n",
    "g.add_legend()\n",
    "# g.fig.tight_layout(w_pad=0.1)\n",
    "g.savefig('{}/outrigger_vs_rmdup_psi.pdf'.format(figure_folder), dpi=300)\n"
   ]
  },
  {
   "cell_type": "code",
   "execution_count": 58,
   "metadata": {
    "collapsed": false
   },
   "outputs": [
    {
     "data": {
      "text/plain": [
       "'figures/021_outrigger_vs_rmdup_percentages'"
      ]
     },
     "execution_count": 58,
     "metadata": {},
     "output_type": "execute_result"
    }
   ],
   "source": [
    "figure_folder"
   ]
  },
  {
   "cell_type": "code",
   "execution_count": 43,
   "metadata": {
    "collapsed": false
   },
   "outputs": [
    {
     "data": {
      "image/png": "[encoded data removed]",
      "text/plain": [
       "<matplotlib.figure.Figure at 0x2b1d255b3190>"
      ]
     },
     "metadata": {},
     "output_type": "display_data"
    }
   ],
   "source": [
    "g = sns.FacetGrid(summary_fillna, col='notes_abbrev_rmdup', \n",
    "                  col_wrap=2,\n",
    "                  hue=col, palette=palette, \n",
    "#                   subplot_kws=dict(#ncols=2, nrows=7, wspace=0.01),\n",
    "#                   hue_order=['0 <= Psi <= 1', 'rmdup NA', 'original NA'],\n",
    "#                   palette=['#262626', original_na_color, rmdup_na_color],\n",
    "                  col_order=case_order, size=2)\n",
    "g.map(plt.scatter, 'psi_original', 'psi_rmdup', alpha=0.5, rasterized=True, s=5)\n",
    "g.set_titles('{col_name}')\n",
    "g.set(xticks=[0, 0.5, 1], yticks=[0, 0.5, 1], xlim=vlim, ylim=vlim)\n",
    "g.add_legend()\n",
    "# g.fig.tight_layout(w_pad=0.1)\n",
    "g.savefig('{}/outrigger_vs_rmdup_psi_faceted_by_rmdup_case_hue_na.pdf'.format(figure_folder), dpi=300)\n"
   ]
  },
  {
   "cell_type": "code",
   "execution_count": 44,
   "metadata": {
    "collapsed": false
   },
   "outputs": [
    {
     "data": {
      "image/png": "[encoded data removed]",
      "text/plain": [
       "<matplotlib.figure.Figure at 0x2b1d33f21310>"
      ]
     },
     "metadata": {},
     "output_type": "display_data"
    }
   ],
   "source": [
    "g = sns.FacetGrid(summary_fillna, col='notes_abbrev_original', \n",
    "                  col_wrap=2,\n",
    "                  hue=col, palette=palette, \n",
    "#                   subplot_kws=dict(#ncols=2, nrows=7, wspace=0.01),\n",
    "#                   hue_order=['0 <= Psi <= 1', 'rmdup NA', 'original NA'],\n",
    "#                   palette=['#262626', original_na_color, rmdup_na_color],\n",
    "                  col_order=case_order, size=2)\n",
    "g.map(plt.scatter, 'psi_original', 'psi_rmdup', alpha=0.5, rasterized=True, s=5)\n",
    "g.set_titles('{col_name}')\n",
    "\n",
    "g.set(xticks=[0, 0.5, 1], yticks=[0, 0.5, 1], ylim=vlim, xlim=vlim)\n",
    "g.add_legend()\n",
    "# g.fig.tight_layout(w_pad=0.1)\n",
    "g.savefig('{}/outrigger_vs_rmdup_psi_faceted_by_original_case_hue_na.pdf'.format(figure_folder), dpi=300)\n"
   ]
  },
  {
   "cell_type": "code",
   "execution_count": 45,
   "metadata": {
    "collapsed": false
   },
   "outputs": [
    {
     "data": {
      "image/png": "[encoded data removed]",
      "text/plain": [
       "<matplotlib.figure.Figure at 0x2b1d255b3850>"
      ]
     },
     "metadata": {},
     "output_type": "display_data"
    }
   ],
   "source": [
    "g = sns.jointplot('psi_original', 'psi_rmdup', summary_fillna, color='grey', \n",
    "                  joint_kws=dict(rasterized=True), size=3, alpha=0.5)\n",
    "g.ax_joint.set(xlim=vlim, ylim=vlim)\n",
    "g.savefig('{}/outrigger_vs_rmdup_psi_jointplot.pdf'.format(figure_folder), dpi=300)"
   ]
  },
  {
   "cell_type": "markdown",
   "metadata": {},
   "source": [
    "## Number of events per cell"
   ]
  },
  {
   "cell_type": "code",
   "execution_count": 46,
   "metadata": {
    "collapsed": false
   },
   "outputs": [
    {
     "name": "stdout",
     "output_type": "stream",
     "text": [
      "(243, 2)\n"
     ]
    },
    {
     "data": {
      "text/html": [
       "<div>\n",
       "<table border=\"1\" class=\"dataframe\">\n",
       "  <thead>\n",
       "    <tr style=\"text-align: right;\">\n",
       "      <th></th>\n",
       "      <th>psi_rmdup</th>\n",
       "      <th>psi_original</th>\n",
       "    </tr>\n",
       "    <tr>\n",
       "      <th>sample_id</th>\n",
       "      <th></th>\n",
       "      <th></th>\n",
       "    </tr>\n",
       "  </thead>\n",
       "  <tbody>\n",
       "    <tr>\n",
       "      <th>CVN_01</th>\n",
       "      <td>5280</td>\n",
       "      <td>5831</td>\n",
       "    </tr>\n",
       "    <tr>\n",
       "      <th>CVN_02</th>\n",
       "      <td>4093</td>\n",
       "      <td>4562</td>\n",
       "    </tr>\n",
       "    <tr>\n",
       "      <th>CVN_03</th>\n",
       "      <td>3444</td>\n",
       "      <td>3768</td>\n",
       "    </tr>\n",
       "    <tr>\n",
       "      <th>CVN_04</th>\n",
       "      <td>5193</td>\n",
       "      <td>5898</td>\n",
       "    </tr>\n",
       "    <tr>\n",
       "      <th>CVN_05</th>\n",
       "      <td>5573</td>\n",
       "      <td>6375</td>\n",
       "    </tr>\n",
       "  </tbody>\n",
       "</table>\n",
       "</div>"
      ],
      "text/plain": [
       "           psi_rmdup  psi_original\n",
       "sample_id                         \n",
       "CVN_01          5280          5831\n",
       "CVN_02          4093          4562\n",
       "CVN_03          3444          3768\n",
       "CVN_04          5193          5898\n",
       "CVN_05          5573          6375"
      ]
     },
     "execution_count": 46,
     "metadata": {},
     "output_type": "execute_result"
    }
   ],
   "source": [
    "events_per_sample = summary_not_both_na.groupby(['sample_id'], group_keys=True).apply(lambda df: df[['psi_rmdup', 'psi_original']].notnull().sum())\n",
    "print(events_per_sample.shape)\n",
    "events_per_sample.head()"
   ]
  },
  {
   "cell_type": "code",
   "execution_count": 47,
   "metadata": {
    "collapsed": false
   },
   "outputs": [
    {
     "data": {
      "text/html": [
       "<div>\n",
       "<table border=\"1\" class=\"dataframe\">\n",
       "  <thead>\n",
       "    <tr style=\"text-align: right;\">\n",
       "      <th></th>\n",
       "      <th>dataset</th>\n",
       "      <th>sample_id</th>\n",
       "      <th>Number of events</th>\n",
       "    </tr>\n",
       "  </thead>\n",
       "  <tbody>\n",
       "    <tr>\n",
       "      <th>0</th>\n",
       "      <td>psi_rmdup</td>\n",
       "      <td>CVN_01</td>\n",
       "      <td>5280</td>\n",
       "    </tr>\n",
       "    <tr>\n",
       "      <th>1</th>\n",
       "      <td>psi_rmdup</td>\n",
       "      <td>CVN_02</td>\n",
       "      <td>4093</td>\n",
       "    </tr>\n",
       "    <tr>\n",
       "      <th>2</th>\n",
       "      <td>psi_rmdup</td>\n",
       "      <td>CVN_03</td>\n",
       "      <td>3444</td>\n",
       "    </tr>\n",
       "    <tr>\n",
       "      <th>3</th>\n",
       "      <td>psi_rmdup</td>\n",
       "      <td>CVN_04</td>\n",
       "      <td>5193</td>\n",
       "    </tr>\n",
       "    <tr>\n",
       "      <th>4</th>\n",
       "      <td>psi_rmdup</td>\n",
       "      <td>CVN_05</td>\n",
       "      <td>5573</td>\n",
       "    </tr>\n",
       "  </tbody>\n",
       "</table>\n",
       "</div>"
      ],
      "text/plain": [
       "     dataset sample_id  Number of events\n",
       "0  psi_rmdup    CVN_01              5280\n",
       "1  psi_rmdup    CVN_02              4093\n",
       "2  psi_rmdup    CVN_03              3444\n",
       "3  psi_rmdup    CVN_04              5193\n",
       "4  psi_rmdup    CVN_05              5573"
      ]
     },
     "execution_count": 47,
     "metadata": {},
     "output_type": "execute_result"
    }
   ],
   "source": [
    "events_per_sample_tidy = events_per_sample.unstack().reset_index()\n",
    "events_per_sample_tidy = events_per_sample_tidy.rename(columns={'level_0': 'dataset', 0: 'Number of events'})\n",
    "events_per_sample_tidy.head()"
   ]
  },
  {
   "cell_type": "code",
   "execution_count": 48,
   "metadata": {
    "collapsed": false
   },
   "outputs": [
    {
     "name": "stdout",
     "output_type": "stream",
     "text": [
      "(486, 13)\n"
     ]
    },
    {
     "data": {
      "text/html": [
       "<div>\n",
       "<table border=\"1\" class=\"dataframe\">\n",
       "  <thead>\n",
       "    <tr style=\"text-align: right;\">\n",
       "      <th></th>\n",
       "      <th>dataset</th>\n",
       "      <th>sample_id</th>\n",
       "      <th>Number of events</th>\n",
       "      <th>single</th>\n",
       "      <th>pooled</th>\n",
       "      <th>phenotype</th>\n",
       "      <th>neuron</th>\n",
       "      <th>progenitor</th>\n",
       "      <th>stressed</th>\n",
       "      <th>craig_venter</th>\n",
       "      <th>differentiation_batch</th>\n",
       "      <th>split</th>\n",
       "      <th>outlier</th>\n",
       "    </tr>\n",
       "  </thead>\n",
       "  <tbody>\n",
       "    <tr>\n",
       "      <th>0</th>\n",
       "      <td>psi_rmdup</td>\n",
       "      <td>CVN_01</td>\n",
       "      <td>5280</td>\n",
       "      <td>True</td>\n",
       "      <td>False</td>\n",
       "      <td>NPC</td>\n",
       "      <td>False</td>\n",
       "      <td>True</td>\n",
       "      <td>False</td>\n",
       "      <td>True</td>\n",
       "      <td>NaN</td>\n",
       "      <td>NaN</td>\n",
       "      <td>False</td>\n",
       "    </tr>\n",
       "    <tr>\n",
       "      <th>1</th>\n",
       "      <td>psi_rmdup</td>\n",
       "      <td>CVN_02</td>\n",
       "      <td>4093</td>\n",
       "      <td>True</td>\n",
       "      <td>False</td>\n",
       "      <td>NPC</td>\n",
       "      <td>False</td>\n",
       "      <td>True</td>\n",
       "      <td>False</td>\n",
       "      <td>True</td>\n",
       "      <td>NaN</td>\n",
       "      <td>NaN</td>\n",
       "      <td>False</td>\n",
       "    </tr>\n",
       "    <tr>\n",
       "      <th>2</th>\n",
       "      <td>psi_rmdup</td>\n",
       "      <td>CVN_03</td>\n",
       "      <td>3444</td>\n",
       "      <td>True</td>\n",
       "      <td>False</td>\n",
       "      <td>NPC</td>\n",
       "      <td>False</td>\n",
       "      <td>True</td>\n",
       "      <td>False</td>\n",
       "      <td>True</td>\n",
       "      <td>NaN</td>\n",
       "      <td>NaN</td>\n",
       "      <td>False</td>\n",
       "    </tr>\n",
       "    <tr>\n",
       "      <th>3</th>\n",
       "      <td>psi_rmdup</td>\n",
       "      <td>CVN_04</td>\n",
       "      <td>5193</td>\n",
       "      <td>True</td>\n",
       "      <td>False</td>\n",
       "      <td>NPC</td>\n",
       "      <td>False</td>\n",
       "      <td>True</td>\n",
       "      <td>False</td>\n",
       "      <td>True</td>\n",
       "      <td>NaN</td>\n",
       "      <td>NaN</td>\n",
       "      <td>False</td>\n",
       "    </tr>\n",
       "    <tr>\n",
       "      <th>4</th>\n",
       "      <td>psi_rmdup</td>\n",
       "      <td>CVN_05</td>\n",
       "      <td>5573</td>\n",
       "      <td>True</td>\n",
       "      <td>False</td>\n",
       "      <td>NPC</td>\n",
       "      <td>False</td>\n",
       "      <td>True</td>\n",
       "      <td>False</td>\n",
       "      <td>True</td>\n",
       "      <td>NaN</td>\n",
       "      <td>NaN</td>\n",
       "      <td>False</td>\n",
       "    </tr>\n",
       "  </tbody>\n",
       "</table>\n",
       "</div>"
      ],
      "text/plain": [
       "     dataset sample_id  Number of events single pooled phenotype neuron  \\\n",
       "0  psi_rmdup    CVN_01              5280   True  False       NPC  False   \n",
       "1  psi_rmdup    CVN_02              4093   True  False       NPC  False   \n",
       "2  psi_rmdup    CVN_03              3444   True  False       NPC  False   \n",
       "3  psi_rmdup    CVN_04              5193   True  False       NPC  False   \n",
       "4  psi_rmdup    CVN_05              5573   True  False       NPC  False   \n",
       "\n",
       "  progenitor stressed craig_venter differentiation_batch split outlier  \n",
       "0       True    False         True                   NaN   NaN   False  \n",
       "1       True    False         True                   NaN   NaN   False  \n",
       "2       True    False         True                   NaN   NaN   False  \n",
       "3       True    False         True                   NaN   NaN   False  \n",
       "4       True    False         True                   NaN   NaN   False  "
      ]
     },
     "execution_count": 48,
     "metadata": {},
     "output_type": "execute_result"
    }
   ],
   "source": [
    "events_per_sample_metadata = events_per_sample_tidy.join(study.metadata.data, on='sample_id')\n",
    "print(events_per_sample_metadata.shape)\n",
    "events_per_sample_metadata.head()"
   ]
  },
  {
   "cell_type": "code",
   "execution_count": 49,
   "metadata": {
    "collapsed": false
   },
   "outputs": [
    {
     "data": {
      "image/png": "[encoded data removed]",
      "text/plain": [
       "<matplotlib.figure.Figure at 0x2b1d5fb6db50>"
      ]
     },
     "metadata": {},
     "output_type": "display_data"
    }
   ],
   "source": [
    "fig, ax = plt.subplots(figsize=(2, 1.5))\n",
    "\n",
    "sns.violinplot(x='phenotype', y='Number of events', hue='dataset', data=events_per_sample_metadata, cut=True, \n",
    "               order=study.phenotype_order)\n",
    "sns.despine()\n",
    "fig.savefig('{}/number_of_events_per_sample_violinplots.pdf'.format(figure_folder))"
   ]
  },
  {
   "cell_type": "code",
   "execution_count": 50,
   "metadata": {
    "collapsed": false
   },
   "outputs": [
    {
     "data": {
      "image/png": "[encoded data removed]",
      "text/plain": [
       "<matplotlib.figure.Figure at 0x2b1d21cd0f50>"
      ]
     },
     "metadata": {},
     "output_type": "display_data"
    }
   ],
   "source": [
    "fig, ax = plt.subplots(figsize=(2, 1.5))\n",
    "\n",
    "sns.boxplot(x='phenotype', y='Number of events', hue='dataset', data=events_per_sample_metadata, order=study.phenotype_order)\n",
    "sns.despine()\n",
    "fig.savefig('{}/number_of_events_per_sample_boxplots.pdf'.format(figure_folder))"
   ]
  },
  {
   "cell_type": "code",
   "execution_count": 51,
   "metadata": {
    "collapsed": false
   },
   "outputs": [
    {
     "data": {
      "image/png": "[encoded data removed]",
      "text/plain": [
       "<matplotlib.figure.Figure at 0x2b1d224ada50>"
      ]
     },
     "metadata": {},
     "output_type": "display_data"
    }
   ],
   "source": [
    "# fig, ax = plt.subplots(figsize=(2, 1.5))\n",
    "\n",
    "sns.factorplot(x='phenotype', y='Number of events', hue='dataset', \n",
    "               data=events_per_sample_metadata, order=study.phenotype_order, \n",
    "               kind='box', size=1.5, aspect=1.33)\n",
    "sns.despine()\n",
    "fig.savefig('{}/number_of_events_per_sample_boxplots_faceted.pdf'.format(figure_folder))"
   ]
  },
  {
   "cell_type": "code",
   "execution_count": 52,
   "metadata": {
    "collapsed": false
   },
   "outputs": [],
   "source": [
    "# summary_fillna['either_na'] = \"0 <= Psi <= 1\"\n",
    "# summary_fillna.loc[summary['psi_rmdup'].isnull(), 'either_na'] = 'rmdup NA'\n",
    "# summary_fillna.loc[summary['psi_original'].isnull(), 'either_na'] = 'original NA'\n",
    "# summary_fillna.head()"
   ]
  },
  {
   "cell_type": "code",
   "execution_count": 53,
   "metadata": {
    "collapsed": false
   },
   "outputs": [
    {
     "data": {
      "text/plain": [
       "(1353054, 28)"
      ]
     },
     "execution_count": 53,
     "metadata": {},
     "output_type": "execute_result"
    }
   ],
   "source": [
    "summary_fillna.shape"
   ]
  },
  {
   "cell_type": "code",
   "execution_count": 54,
   "metadata": {
    "collapsed": false
   },
   "outputs": [
    {
     "data": {
      "image/png": "[encoded data removed]",
      "text/plain": [
       "<matplotlib.figure.Figure at 0x2b1d217f9fd0>"
      ]
     },
     "metadata": {},
     "output_type": "display_data"
    }
   ],
   "source": [
    "g = sns.FacetGrid(summary_fillna, col='notes_abbrev_rmdup', col_wrap=4, \n",
    "#                   hue_order=['0 <= Psi <= 1', 'rmdup NA', 'original NA']\n",
    "#                   palette=['#262626', ''],\n",
    "                  col_order=case_order, size=1.5)\n",
    "g.map(plt.scatter, 'psi_original', 'psi_rmdup', alpha=0.5, color='#262626', rasterized=True, s=1)\n",
    "g.set_titles('{col_name}')\n",
    "g.set(xticks=[0, 0.5, 1], yticks=[0, 0.5, 1])\n",
    "g.savefig('{}/psi_original_vs_rmdup_faceted_by_rmdup_case.pdf'.format(figure_folder), dpi=300)"
   ]
  },
  {
   "cell_type": "markdown",
   "metadata": {},
   "source": [
    "## Add color for which is NA"
   ]
  },
  {
   "cell_type": "code",
   "execution_count": 55,
   "metadata": {
    "collapsed": false
   },
   "outputs": [
    {
     "data": {
      "image/png": "[encoded data removed]",
      "text/plain": [
       "<matplotlib.figure.Figure at 0x2b1d27822c90>"
      ]
     },
     "metadata": {},
     "output_type": "display_data"
    }
   ],
   "source": [
    "set2 = sns.color_palette('Set2')\n",
    "sns.palplot(set2)\n",
    "original_na_color = set2[1]\n",
    "rmdup_na_color = set2[2]"
   ]
  },
  {
   "cell_type": "code",
   "execution_count": 56,
   "metadata": {
    "collapsed": true
   },
   "outputs": [],
   "source": [
    "gridspec_kws = dict(wspace=0.01, hspace=0.05)"
   ]
  },
  {
   "cell_type": "code",
   "execution_count": 57,
   "metadata": {
    "collapsed": false
   },
   "outputs": [
    {
     "ename": "KeyError",
     "evalue": "'either_na'",
     "output_type": "error",
     "traceback": [
      "\u001b[1;31m---------------------------------------------------------------------------\u001b[0m",
      "\u001b[1;31mKeyError\u001b[0m                                  Traceback (most recent call last)",
      "\u001b[1;32m<ipython-input-57-0a8f005cb689>\u001b[0m in \u001b[0;36m<module>\u001b[1;34m()\u001b[0m\n\u001b[0;32m      2\u001b[0m                   \u001b[0mhue_order\u001b[0m\u001b[1;33m=\u001b[0m\u001b[1;33m[\u001b[0m\u001b[1;34m'0 <= Psi <= 1'\u001b[0m\u001b[1;33m,\u001b[0m \u001b[1;34m'rmdup NA'\u001b[0m\u001b[1;33m,\u001b[0m \u001b[1;34m'original NA'\u001b[0m\u001b[1;33m]\u001b[0m\u001b[1;33m,\u001b[0m\u001b[1;33m\u001b[0m\u001b[0m\n\u001b[0;32m      3\u001b[0m                   \u001b[0mpalette\u001b[0m\u001b[1;33m=\u001b[0m\u001b[1;33m[\u001b[0m\u001b[1;34m'#262626'\u001b[0m\u001b[1;33m,\u001b[0m \u001b[0moriginal_na_color\u001b[0m\u001b[1;33m,\u001b[0m \u001b[0mrmdup_na_color\u001b[0m\u001b[1;33m]\u001b[0m\u001b[1;33m,\u001b[0m\u001b[1;33m\u001b[0m\u001b[0m\n\u001b[1;32m----> 4\u001b[1;33m                   col_order=case_order, size=1.5, gridspec_kws=gridspec_kws)\n\u001b[0m\u001b[0;32m      5\u001b[0m \u001b[0mg\u001b[0m\u001b[1;33m.\u001b[0m\u001b[0mmap\u001b[0m\u001b[1;33m(\u001b[0m\u001b[0mplt\u001b[0m\u001b[1;33m.\u001b[0m\u001b[0mscatter\u001b[0m\u001b[1;33m,\u001b[0m \u001b[1;34m'psi_original'\u001b[0m\u001b[1;33m,\u001b[0m \u001b[1;34m'psi_rmdup'\u001b[0m\u001b[1;33m,\u001b[0m \u001b[0malpha\u001b[0m\u001b[1;33m=\u001b[0m\u001b[1;36m0.5\u001b[0m\u001b[1;33m,\u001b[0m \u001b[0mrasterized\u001b[0m\u001b[1;33m=\u001b[0m\u001b[0mTrue\u001b[0m\u001b[1;33m,\u001b[0m \u001b[0ms\u001b[0m\u001b[1;33m=\u001b[0m\u001b[1;36m1\u001b[0m\u001b[1;33m)\u001b[0m\u001b[1;33m\u001b[0m\u001b[0m\n\u001b[0;32m      6\u001b[0m \u001b[0mg\u001b[0m\u001b[1;33m.\u001b[0m\u001b[0mset_titles\u001b[0m\u001b[1;33m(\u001b[0m\u001b[1;34m'{col_name}'\u001b[0m\u001b[1;33m)\u001b[0m\u001b[1;33m\u001b[0m\u001b[0m\n",
      "\u001b[1;32m/home/obotvinnik/anaconda/lib/python2.7/site-packages/seaborn/axisgrid.pyc\u001b[0m in \u001b[0;36m__init__\u001b[1;34m(self, data, row, col, hue, col_wrap, sharex, sharey, size, aspect, palette, row_order, col_order, hue_order, hue_kws, dropna, legend_out, despine, margin_titles, xlim, ylim, subplot_kws, gridspec_kws)\u001b[0m\n\u001b[0;32m    232\u001b[0m             \u001b[0mhue_names\u001b[0m \u001b[1;33m=\u001b[0m \u001b[0mNone\u001b[0m\u001b[1;33m\u001b[0m\u001b[0m\n\u001b[0;32m    233\u001b[0m         \u001b[1;32melse\u001b[0m\u001b[1;33m:\u001b[0m\u001b[1;33m\u001b[0m\u001b[0m\n\u001b[1;32m--> 234\u001b[1;33m             \u001b[0mhue_names\u001b[0m \u001b[1;33m=\u001b[0m \u001b[0mutils\u001b[0m\u001b[1;33m.\u001b[0m\u001b[0mcategorical_order\u001b[0m\u001b[1;33m(\u001b[0m\u001b[0mdata\u001b[0m\u001b[1;33m[\u001b[0m\u001b[0mhue\u001b[0m\u001b[1;33m]\u001b[0m\u001b[1;33m,\u001b[0m \u001b[0mhue_order\u001b[0m\u001b[1;33m)\u001b[0m\u001b[1;33m\u001b[0m\u001b[0m\n\u001b[0m\u001b[0;32m    235\u001b[0m \u001b[1;33m\u001b[0m\u001b[0m\n\u001b[0;32m    236\u001b[0m         \u001b[0mcolors\u001b[0m \u001b[1;33m=\u001b[0m \u001b[0mself\u001b[0m\u001b[1;33m.\u001b[0m\u001b[0m_get_palette\u001b[0m\u001b[1;33m(\u001b[0m\u001b[0mdata\u001b[0m\u001b[1;33m,\u001b[0m \u001b[0mhue\u001b[0m\u001b[1;33m,\u001b[0m \u001b[0mhue_order\u001b[0m\u001b[1;33m,\u001b[0m \u001b[0mpalette\u001b[0m\u001b[1;33m)\u001b[0m\u001b[1;33m\u001b[0m\u001b[0m\n",
      "\u001b[1;32m/home/obotvinnik/anaconda/lib/python2.7/site-packages/pandas/core/frame.pyc\u001b[0m in \u001b[0;36m__getitem__\u001b[1;34m(self, key)\u001b[0m\n\u001b[0;32m   2057\u001b[0m             \u001b[1;32mreturn\u001b[0m \u001b[0mself\u001b[0m\u001b[1;33m.\u001b[0m\u001b[0m_getitem_multilevel\u001b[0m\u001b[1;33m(\u001b[0m\u001b[0mkey\u001b[0m\u001b[1;33m)\u001b[0m\u001b[1;33m\u001b[0m\u001b[0m\n\u001b[0;32m   2058\u001b[0m         \u001b[1;32melse\u001b[0m\u001b[1;33m:\u001b[0m\u001b[1;33m\u001b[0m\u001b[0m\n\u001b[1;32m-> 2059\u001b[1;33m             \u001b[1;32mreturn\u001b[0m \u001b[0mself\u001b[0m\u001b[1;33m.\u001b[0m\u001b[0m_getitem_column\u001b[0m\u001b[1;33m(\u001b[0m\u001b[0mkey\u001b[0m\u001b[1;33m)\u001b[0m\u001b[1;33m\u001b[0m\u001b[0m\n\u001b[0m\u001b[0;32m   2060\u001b[0m \u001b[1;33m\u001b[0m\u001b[0m\n\u001b[0;32m   2061\u001b[0m     \u001b[1;32mdef\u001b[0m \u001b[0m_getitem_column\u001b[0m\u001b[1;33m(\u001b[0m\u001b[0mself\u001b[0m\u001b[1;33m,\u001b[0m \u001b[0mkey\u001b[0m\u001b[1;33m)\u001b[0m\u001b[1;33m:\u001b[0m\u001b[1;33m\u001b[0m\u001b[0m\n",
      "\u001b[1;32m/home/obotvinnik/anaconda/lib/python2.7/site-packages/pandas/core/frame.pyc\u001b[0m in \u001b[0;36m_getitem_column\u001b[1;34m(self, key)\u001b[0m\n\u001b[0;32m   2064\u001b[0m         \u001b[1;31m# get column\u001b[0m\u001b[1;33m\u001b[0m\u001b[1;33m\u001b[0m\u001b[0m\n\u001b[0;32m   2065\u001b[0m         \u001b[1;32mif\u001b[0m \u001b[0mself\u001b[0m\u001b[1;33m.\u001b[0m\u001b[0mcolumns\u001b[0m\u001b[1;33m.\u001b[0m\u001b[0mis_unique\u001b[0m\u001b[1;33m:\u001b[0m\u001b[1;33m\u001b[0m\u001b[0m\n\u001b[1;32m-> 2066\u001b[1;33m             \u001b[1;32mreturn\u001b[0m \u001b[0mself\u001b[0m\u001b[1;33m.\u001b[0m\u001b[0m_get_item_cache\u001b[0m\u001b[1;33m(\u001b[0m\u001b[0mkey\u001b[0m\u001b[1;33m)\u001b[0m\u001b[1;33m\u001b[0m\u001b[0m\n\u001b[0m\u001b[0;32m   2067\u001b[0m \u001b[1;33m\u001b[0m\u001b[0m\n\u001b[0;32m   2068\u001b[0m         \u001b[1;31m# duplicate columns & possible reduce dimensionality\u001b[0m\u001b[1;33m\u001b[0m\u001b[1;33m\u001b[0m\u001b[0m\n",
      "\u001b[1;32m/home/obotvinnik/anaconda/lib/python2.7/site-packages/pandas/core/generic.pyc\u001b[0m in \u001b[0;36m_get_item_cache\u001b[1;34m(self, item)\u001b[0m\n\u001b[0;32m   1384\u001b[0m         \u001b[0mres\u001b[0m \u001b[1;33m=\u001b[0m \u001b[0mcache\u001b[0m\u001b[1;33m.\u001b[0m\u001b[0mget\u001b[0m\u001b[1;33m(\u001b[0m\u001b[0mitem\u001b[0m\u001b[1;33m)\u001b[0m\u001b[1;33m\u001b[0m\u001b[0m\n\u001b[0;32m   1385\u001b[0m         \u001b[1;32mif\u001b[0m \u001b[0mres\u001b[0m \u001b[1;32mis\u001b[0m \u001b[0mNone\u001b[0m\u001b[1;33m:\u001b[0m\u001b[1;33m\u001b[0m\u001b[0m\n\u001b[1;32m-> 1386\u001b[1;33m             \u001b[0mvalues\u001b[0m \u001b[1;33m=\u001b[0m \u001b[0mself\u001b[0m\u001b[1;33m.\u001b[0m\u001b[0m_data\u001b[0m\u001b[1;33m.\u001b[0m\u001b[0mget\u001b[0m\u001b[1;33m(\u001b[0m\u001b[0mitem\u001b[0m\u001b[1;33m)\u001b[0m\u001b[1;33m\u001b[0m\u001b[0m\n\u001b[0m\u001b[0;32m   1387\u001b[0m             \u001b[0mres\u001b[0m \u001b[1;33m=\u001b[0m \u001b[0mself\u001b[0m\u001b[1;33m.\u001b[0m\u001b[0m_box_item_values\u001b[0m\u001b[1;33m(\u001b[0m\u001b[0mitem\u001b[0m\u001b[1;33m,\u001b[0m \u001b[0mvalues\u001b[0m\u001b[1;33m)\u001b[0m\u001b[1;33m\u001b[0m\u001b[0m\n\u001b[0;32m   1388\u001b[0m             \u001b[0mcache\u001b[0m\u001b[1;33m[\u001b[0m\u001b[0mitem\u001b[0m\u001b[1;33m]\u001b[0m \u001b[1;33m=\u001b[0m \u001b[0mres\u001b[0m\u001b[1;33m\u001b[0m\u001b[0m\n",
      "\u001b[1;32m/home/obotvinnik/anaconda/lib/python2.7/site-packages/pandas/core/internals.pyc\u001b[0m in \u001b[0;36mget\u001b[1;34m(self, item, fastpath)\u001b[0m\n\u001b[0;32m   3539\u001b[0m \u001b[1;33m\u001b[0m\u001b[0m\n\u001b[0;32m   3540\u001b[0m             \u001b[1;32mif\u001b[0m \u001b[1;32mnot\u001b[0m \u001b[0misnull\u001b[0m\u001b[1;33m(\u001b[0m\u001b[0mitem\u001b[0m\u001b[1;33m)\u001b[0m\u001b[1;33m:\u001b[0m\u001b[1;33m\u001b[0m\u001b[0m\n\u001b[1;32m-> 3541\u001b[1;33m                 \u001b[0mloc\u001b[0m \u001b[1;33m=\u001b[0m \u001b[0mself\u001b[0m\u001b[1;33m.\u001b[0m\u001b[0mitems\u001b[0m\u001b[1;33m.\u001b[0m\u001b[0mget_loc\u001b[0m\u001b[1;33m(\u001b[0m\u001b[0mitem\u001b[0m\u001b[1;33m)\u001b[0m\u001b[1;33m\u001b[0m\u001b[0m\n\u001b[0m\u001b[0;32m   3542\u001b[0m             \u001b[1;32melse\u001b[0m\u001b[1;33m:\u001b[0m\u001b[1;33m\u001b[0m\u001b[0m\n\u001b[0;32m   3543\u001b[0m                 \u001b[0mindexer\u001b[0m \u001b[1;33m=\u001b[0m \u001b[0mnp\u001b[0m\u001b[1;33m.\u001b[0m\u001b[0marange\u001b[0m\u001b[1;33m(\u001b[0m\u001b[0mlen\u001b[0m\u001b[1;33m(\u001b[0m\u001b[0mself\u001b[0m\u001b[1;33m.\u001b[0m\u001b[0mitems\u001b[0m\u001b[1;33m)\u001b[0m\u001b[1;33m)\u001b[0m\u001b[1;33m[\u001b[0m\u001b[0misnull\u001b[0m\u001b[1;33m(\u001b[0m\u001b[0mself\u001b[0m\u001b[1;33m.\u001b[0m\u001b[0mitems\u001b[0m\u001b[1;33m)\u001b[0m\u001b[1;33m]\u001b[0m\u001b[1;33m\u001b[0m\u001b[0m\n",
      "\u001b[1;32m/home/obotvinnik/anaconda/lib/python2.7/site-packages/pandas/indexes/base.pyc\u001b[0m in \u001b[0;36mget_loc\u001b[1;34m(self, key, method, tolerance)\u001b[0m\n\u001b[0;32m   2134\u001b[0m                 \u001b[1;32mreturn\u001b[0m \u001b[0mself\u001b[0m\u001b[1;33m.\u001b[0m\u001b[0m_engine\u001b[0m\u001b[1;33m.\u001b[0m\u001b[0mget_loc\u001b[0m\u001b[1;33m(\u001b[0m\u001b[0mkey\u001b[0m\u001b[1;33m)\u001b[0m\u001b[1;33m\u001b[0m\u001b[0m\n\u001b[0;32m   2135\u001b[0m             \u001b[1;32mexcept\u001b[0m \u001b[0mKeyError\u001b[0m\u001b[1;33m:\u001b[0m\u001b[1;33m\u001b[0m\u001b[0m\n\u001b[1;32m-> 2136\u001b[1;33m                 \u001b[1;32mreturn\u001b[0m \u001b[0mself\u001b[0m\u001b[1;33m.\u001b[0m\u001b[0m_engine\u001b[0m\u001b[1;33m.\u001b[0m\u001b[0mget_loc\u001b[0m\u001b[1;33m(\u001b[0m\u001b[0mself\u001b[0m\u001b[1;33m.\u001b[0m\u001b[0m_maybe_cast_indexer\u001b[0m\u001b[1;33m(\u001b[0m\u001b[0mkey\u001b[0m\u001b[1;33m)\u001b[0m\u001b[1;33m)\u001b[0m\u001b[1;33m\u001b[0m\u001b[0m\n\u001b[0m\u001b[0;32m   2137\u001b[0m \u001b[1;33m\u001b[0m\u001b[0m\n\u001b[0;32m   2138\u001b[0m         \u001b[0mindexer\u001b[0m \u001b[1;33m=\u001b[0m \u001b[0mself\u001b[0m\u001b[1;33m.\u001b[0m\u001b[0mget_indexer\u001b[0m\u001b[1;33m(\u001b[0m\u001b[1;33m[\u001b[0m\u001b[0mkey\u001b[0m\u001b[1;33m]\u001b[0m\u001b[1;33m,\u001b[0m \u001b[0mmethod\u001b[0m\u001b[1;33m=\u001b[0m\u001b[0mmethod\u001b[0m\u001b[1;33m,\u001b[0m \u001b[0mtolerance\u001b[0m\u001b[1;33m=\u001b[0m\u001b[0mtolerance\u001b[0m\u001b[1;33m)\u001b[0m\u001b[1;33m\u001b[0m\u001b[0m\n",
      "\u001b[1;32mpandas/index.pyx\u001b[0m in \u001b[0;36mpandas.index.IndexEngine.get_loc (pandas/index.c:4443)\u001b[1;34m()\u001b[0m\n",
      "\u001b[1;32mpandas/index.pyx\u001b[0m in \u001b[0;36mpandas.index.IndexEngine.get_loc (pandas/index.c:4289)\u001b[1;34m()\u001b[0m\n",
      "\u001b[1;32mpandas/src/hashtable_class_helper.pxi\u001b[0m in \u001b[0;36mpandas.hashtable.PyObjectHashTable.get_item (pandas/hashtable.c:13733)\u001b[1;34m()\u001b[0m\n",
      "\u001b[1;32mpandas/src/hashtable_class_helper.pxi\u001b[0m in \u001b[0;36mpandas.hashtable.PyObjectHashTable.get_item (pandas/hashtable.c:13687)\u001b[1;34m()\u001b[0m\n",
      "\u001b[1;31mKeyError\u001b[0m: 'either_na'"
     ]
    }
   ],
   "source": [
    "g = sns.FacetGrid(summary_fillna, col='notes_abbrev_rmdup', col_wrap=4, hue='either_na', \n",
    "                  hue_order=['0 <= Psi <= 1', 'rmdup NA', 'original NA'],\n",
    "                  palette=['#262626', original_na_color, rmdup_na_color],\n",
    "                  col_order=case_order, size=1.5, gridspec_kws=gridspec_kws)\n",
    "g.map(plt.scatter, 'psi_original', 'psi_rmdup', alpha=0.5, rasterized=True, s=1)\n",
    "g.set_titles('{col_name}')\n",
    "g.set(xticks=[0, 0.5, 1], yticks=[0, 0.5, 1])\n",
    "# g.savefig('{}/outrigger_vs_miso_psi_faceted_by_rmdup_case_hue_na.pdf'.format(figure_folder), dpi=300)"
   ]
  },
  {
   "cell_type": "code",
   "execution_count": null,
   "metadata": {
    "collapsed": false
   },
   "outputs": [],
   "source": [
    "g = sns.FacetGrid(summary_fillna, col='notes_abbrev_original', col_wrap=4, hue='either_na', \n",
    "                  hue_order=['0 <= Psi <= 1', 'rmdup NA', 'original NA'],\n",
    "                  palette=['#262626', original_na_color, rmdup_na_color],\n",
    "                  col_order=case_order, size=1.5, gridspec_kws=gridspec_kws)\n",
    "g.map(plt.scatter, 'psi_original', 'psi_rmdup', alpha=0.5, rasterized=True, s=1)\n",
    "g.set_titles('{col_name}')\n",
    "g.set(xticks=[0, 0.5, 1], yticks=[0, 0.5, 1])\n",
    "# g.savefig('{}/outrigger_vs_miso_psi_faceted_by_original_case_hue_na.pdf'.format(figure_folder), dpi=300)"
   ]
  },
  {
   "cell_type": "code",
   "execution_count": null,
   "metadata": {
    "collapsed": true
   },
   "outputs": [],
   "source": [
    "from flotilla.visualize.splicing import lavalamp"
   ]
  },
  {
   "cell_type": "code",
   "execution_count": null,
   "metadata": {
    "collapsed": false
   },
   "outputs": [],
   "source": [
    "rmdup_psi.shape"
   ]
  },
  {
   "cell_type": "code",
   "execution_count": null,
   "metadata": {
    "collapsed": false
   },
   "outputs": [],
   "source": [
    "def extract_alternative_constitutive(psi):\n",
    "    \"\"\"Separate percent spliced-in matrix to exons that are actually alterantive vs constitutive\n",
    "    \n",
    "    Parameters\n",
    "    ----------\n",
    "    psi : pandas.DataFrame\n",
    "        This is a (samples, features) shaped dataframe\n",
    "    \n",
    "    Returns\n",
    "    -------\n",
    "    alternative, constitutively0, constitutively1 : pandas.DataFrame\n",
    "        Slices of the input dataframe that are alternative or constitutive\n",
    "    \"\"\"\n",
    "\n",
    "    notnull = psi.notnull()\n",
    "\n",
    "    constitutively0 = (psi == 0)[notnull].all()\n",
    "    constitutively1 = (psi == 1)[notnull].all()\n",
    "    print(constitutively1.sum())\n",
    "    alternative = psi.columns[~constitutively0 & ~constitutively1]\n",
    "\n",
    "    constitutively0 = constitutively0[constitutively0].index\n",
    "    constitutively1 = constitutively1[constitutively1].index\n",
    "\n",
    "    return psi[alternative], psi[constitutively0], psi[constitutively1]\n",
    "\n",
    "\n",
    "rmdup_alternative, rmdup_constitutively0, rmdup_constitutively1 = extract_alternative_constitutive(rmdup_psi.T)\n",
    "print(rmdup_alternative.shape)\n",
    "print(rmdup_constitutively0.shape)\n",
    "print(rmdup_constitutively1.shape)"
   ]
  },
  {
   "cell_type": "code",
   "execution_count": null,
   "metadata": {
    "collapsed": false
   },
   "outputs": [],
   "source": [
    "fig, ax = plt.subplots(figsize=(6, 2))\n",
    "lavalamp(rmdup_alternative, ax=ax, markersize=1, color='#262626')\n",
    "# fig.savefig('{}/lavalamp_rmdup.pdf'.format(figure_folder), dpi=300)"
   ]
  },
  {
   "cell_type": "code",
   "execution_count": null,
   "metadata": {
    "collapsed": false
   },
   "outputs": [],
   "source": [
    "original_alternative, original_constitutively0, original_constitutively1 = extract_alternative_constitutive(original_psi.T)\n",
    "print(original_alternative.shape)\n",
    "print(original_constitutively0.shape)\n",
    "print(original_constitutively1.shape)"
   ]
  },
  {
   "cell_type": "code",
   "execution_count": null,
   "metadata": {
    "collapsed": false
   },
   "outputs": [],
   "source": [
    "fig, ax = plt.subplots(figsize=(6, 2))\n",
    "lavalamp(original_alternative, ax=ax, markersize=1, color='#262626')\n",
    "# fig.savefig('{}/lavalamp_original.pdf'.format(figure_folder), dpi=300)"
   ]
  },
  {
   "cell_type": "markdown",
   "metadata": {
    "collapsed": true
   },
   "source": [
    "## Look at PKM"
   ]
  },
  {
   "cell_type": "code",
   "execution_count": null,
   "metadata": {
    "collapsed": false
   },
   "outputs": [],
   "source": [
    "pkm_mxe_event = u'isoform1=junction:chr15:72494962-72499068:-@exon:chr15:72494795-72494961:-@junction:chr15:72492997-72494794:-'\\\n",
    "'|isoform2=junction:chr15:72495530-72499068:-@exon:chr15:72495363-72495529:-@junction:chr15:72492997-72495362:-'\n",
    "pkm_mxe_event"
   ]
  },
  {
   "cell_type": "code",
   "execution_count": null,
   "metadata": {
    "collapsed": true
   },
   "outputs": [],
   "source": []
  }
 ],
 "metadata": {
  "kernelspec": {
   "display_name": "Python 2",
   "language": "python",
   "name": "python2"
  },
  "language_info": {
   "codemirror_mode": {
    "name": "ipython",
    "version": 2
   },
   "file_extension": ".py",
   "mimetype": "text/x-python",
   "name": "python",
   "nbconvert_exporter": "python",
   "pygments_lexer": "ipython2",
   "version": "2.7.11"
  }
 },
 "nbformat": 4,
 "nbformat_minor": 0
}
