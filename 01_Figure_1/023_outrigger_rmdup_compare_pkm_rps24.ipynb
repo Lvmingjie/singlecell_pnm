{
 "cells": [
  {
   "cell_type": "code",
   "execution_count": 5,
   "metadata": {
    "collapsed": true
   },
   "outputs": [],
   "source": [
    "from __future__ import print_function"
   ]
  },
  {
   "cell_type": "code",
   "execution_count": 8,
   "metadata": {
    "collapsed": false
   },
   "outputs": [],
   "source": [
    "from collections import defaultdict\n",
    "\n",
    "import matplotlib as mpl\n",
    "import matplotlib.pyplot as plt\n",
    "import numpy as np\n",
    "import pandas as pd\n",
    "import seaborn as sns\n",
    "\n",
    "import six\n",
    "\n",
    "%matplotlib inline\n",
    "\n",
    "\n",
    "# import flotilla\n",
    "\n",
    "\n",
    "# flotilla_dir = '/projects/ps-yeolab/obotvinnik/flotilla_projects/'\n",
    "# study = flotilla.embark('singlecell_pnm', flotilla_dir=flotilla_dir)"
   ]
  },
  {
   "cell_type": "code",
   "execution_count": 9,
   "metadata": {
    "collapsed": true
   },
   "outputs": [],
   "source": [
    "sns.set(style='whitegrid', context='paper')"
   ]
  },
  {
   "cell_type": "code",
   "execution_count": 10,
   "metadata": {
    "collapsed": true
   },
   "outputs": [],
   "source": [
    "figure_folder = 'figures/023_outrigger_rmdup_compare_pkm'\n",
    "! mkdir -p $figure_folder"
   ]
  },
  {
   "cell_type": "code",
   "execution_count": 11,
   "metadata": {
    "collapsed": true
   },
   "outputs": [],
   "source": [
    "# cp -r /home/obotvinnik/projects/singlecell_pnms/analysis/outrigger_v2_bam_unstranded/ /projects/ps-yeolab/obotvinnik/singlecell_pnms/"
   ]
  },
  {
   "cell_type": "code",
   "execution_count": 12,
   "metadata": {
    "collapsed": true
   },
   "outputs": [],
   "source": [
    "# cp -r /home/obotvinnik/projects/singlecell_pnms/analysis/outrigger_v2_rmdup_unstranded/ /projects/ps-yeolab/obotvinnik/singlecell_pnms/"
   ]
  },
  {
   "cell_type": "code",
   "execution_count": 13,
   "metadata": {
    "collapsed": true
   },
   "outputs": [],
   "source": [
    "folder = '/projects/ps-yeolab/obotvinnik/singlecell_pnms'\n",
    "original_folder = '{}/outrigger_v2_bam_unstranded/psi'.format(folder)\n",
    "rmdup_folder = '{}/outrigger_v2_rmdup_unstranded/psi'.format(folder)"
   ]
  },
  {
   "cell_type": "code",
   "execution_count": 14,
   "metadata": {
    "collapsed": false
   },
   "outputs": [
    {
     "name": "stderr",
     "output_type": "stream",
     "text": [
      "/home/obotvinnik/anaconda/lib/python2.7/site-packages/IPython/core/interactiveshell.py:2723: DtypeWarning: Columns (20,22,23,24,25,26) have mixed types. Specify dtype option on import or set low_memory=False.\n",
      "  interactivity=interactivity, compiler=compiler, result=result)\n"
     ]
    }
   ],
   "source": [
    "summary = pd.read_csv('{}/outrigger_summary_original_rmdup_combined_wide.csv'.format(folder))"
   ]
  },
  {
   "cell_type": "code",
   "execution_count": 16,
   "metadata": {
    "collapsed": true
   },
   "outputs": [],
   "source": [
    "pkm_event = 'isoform1=junction:chr15:72494962-72499068:-@exon:chr15:72494795-72494961:-@junction:chr15:72492997-72494794:-|isoform2=junction:chr15:72495530-72499068:-@exon:chr15:72495363-72495529:-@junction:chr15:72492997-72495362:-'"
   ]
  },
  {
   "cell_type": "code",
   "execution_count": 17,
   "metadata": {
    "collapsed": false
   },
   "outputs": [
    {
     "name": "stdout",
     "output_type": "stream",
     "text": [
      "(251, 27)\n"
     ]
    },
    {
     "data": {
      "text/html": [
       "<div>\n",
       "<table border=\"1\" class=\"dataframe\">\n",
       "  <thead>\n",
       "    <tr style=\"text-align: right;\">\n",
       "      <th></th>\n",
       "      <th>sample_id</th>\n",
       "      <th>event_id</th>\n",
       "      <th>incompatible_junction0_original</th>\n",
       "      <th>incompatible_junction1_original</th>\n",
       "      <th>isoform1_junction13_original</th>\n",
       "      <th>isoform1_junction34_original</th>\n",
       "      <th>isoform2_junction12_original</th>\n",
       "      <th>isoform2_junction23_original</th>\n",
       "      <th>isoform2_junction24_original</th>\n",
       "      <th>notes_original</th>\n",
       "      <th>...</th>\n",
       "      <th>isoform2_junction12_rmdup</th>\n",
       "      <th>isoform2_junction23_rmdup</th>\n",
       "      <th>isoform2_junction24_rmdup</th>\n",
       "      <th>notes_rmdup</th>\n",
       "      <th>psi_rmdup</th>\n",
       "      <th>bam</th>\n",
       "      <th>notes_copy</th>\n",
       "      <th>note_copy</th>\n",
       "      <th>notes_abbrev_rmdup</th>\n",
       "      <th>dataset_rmdup</th>\n",
       "    </tr>\n",
       "  </thead>\n",
       "  <tbody>\n",
       "    <tr>\n",
       "      <th>8494342</th>\n",
       "      <td>CVN_01</td>\n",
       "      <td>isoform1=junction:chr15:72494962-72499068:-@ex...</td>\n",
       "      <td>0.0</td>\n",
       "      <td>NaN</td>\n",
       "      <td>158.0</td>\n",
       "      <td>124.0</td>\n",
       "      <td>0.0</td>\n",
       "      <td>NaN</td>\n",
       "      <td>19.0</td>\n",
       "      <td>Case 5: Unequal read coverage (one side has at...</td>\n",
       "      <td>...</td>\n",
       "      <td>0.0</td>\n",
       "      <td>NaN</td>\n",
       "      <td>0.0</td>\n",
       "      <td>Case 6: Exclusion</td>\n",
       "      <td>0.000</td>\n",
       "      <td>CVN_01_R1.fastq.gz.polyATrim.adapterTrim.rmRep...</td>\n",
       "      <td>Case 6: Exclusion</td>\n",
       "      <td>Case 6: Exclusion</td>\n",
       "      <td>Case 6</td>\n",
       "      <td>rmdup</td>\n",
       "    </tr>\n",
       "    <tr>\n",
       "      <th>8494343</th>\n",
       "      <td>CVN_02</td>\n",
       "      <td>isoform1=junction:chr15:72494962-72499068:-@ex...</td>\n",
       "      <td>0.0</td>\n",
       "      <td>NaN</td>\n",
       "      <td>44.0</td>\n",
       "      <td>40.0</td>\n",
       "      <td>0.0</td>\n",
       "      <td>NaN</td>\n",
       "      <td>10.0</td>\n",
       "      <td>Case 5: Unequal read coverage (one side has at...</td>\n",
       "      <td>...</td>\n",
       "      <td>0.0</td>\n",
       "      <td>NaN</td>\n",
       "      <td>0.0</td>\n",
       "      <td>Case 6: Exclusion</td>\n",
       "      <td>0.000</td>\n",
       "      <td>CVN_02_R1.fastq.gz.polyATrim.adapterTrim.rmRep...</td>\n",
       "      <td>Case 6: Exclusion</td>\n",
       "      <td>Case 6: Exclusion</td>\n",
       "      <td>Case 6</td>\n",
       "      <td>rmdup</td>\n",
       "    </tr>\n",
       "    <tr>\n",
       "      <th>8494344</th>\n",
       "      <td>CVN_03</td>\n",
       "      <td>isoform1=junction:chr15:72494962-72499068:-@ex...</td>\n",
       "      <td>0.0</td>\n",
       "      <td>NaN</td>\n",
       "      <td>100.0</td>\n",
       "      <td>64.0</td>\n",
       "      <td>0.0</td>\n",
       "      <td>NaN</td>\n",
       "      <td>14.0</td>\n",
       "      <td>Case 5: Unequal read coverage (one side has at...</td>\n",
       "      <td>...</td>\n",
       "      <td>0.0</td>\n",
       "      <td>NaN</td>\n",
       "      <td>0.0</td>\n",
       "      <td>Case 6: Exclusion</td>\n",
       "      <td>0.000</td>\n",
       "      <td>CVN_03_R1.fastq.gz.polyATrim.adapterTrim.rmRep...</td>\n",
       "      <td>Case 6: Exclusion</td>\n",
       "      <td>Case 6: Exclusion</td>\n",
       "      <td>Case 6</td>\n",
       "      <td>rmdup</td>\n",
       "    </tr>\n",
       "    <tr>\n",
       "      <th>8494345</th>\n",
       "      <td>CVN_04</td>\n",
       "      <td>isoform1=junction:chr15:72494962-72499068:-@ex...</td>\n",
       "      <td>0.0</td>\n",
       "      <td>NaN</td>\n",
       "      <td>183.0</td>\n",
       "      <td>160.0</td>\n",
       "      <td>0.0</td>\n",
       "      <td>NaN</td>\n",
       "      <td>26.0</td>\n",
       "      <td>Case 5: Unequal read coverage (one side has at...</td>\n",
       "      <td>...</td>\n",
       "      <td>0.0</td>\n",
       "      <td>NaN</td>\n",
       "      <td>0.0</td>\n",
       "      <td>Case 6: Exclusion</td>\n",
       "      <td>0.000</td>\n",
       "      <td>CVN_04_R1.fastq.gz.polyATrim.adapterTrim.rmRep...</td>\n",
       "      <td>Case 6: Exclusion</td>\n",
       "      <td>Case 6: Exclusion</td>\n",
       "      <td>Case 6</td>\n",
       "      <td>rmdup</td>\n",
       "    </tr>\n",
       "    <tr>\n",
       "      <th>8494346</th>\n",
       "      <td>CVN_05</td>\n",
       "      <td>isoform1=junction:chr15:72494962-72499068:-@ex...</td>\n",
       "      <td>0.0</td>\n",
       "      <td>NaN</td>\n",
       "      <td>110.0</td>\n",
       "      <td>92.0</td>\n",
       "      <td>61.0</td>\n",
       "      <td>NaN</td>\n",
       "      <td>55.0</td>\n",
       "      <td>Case 8: Sufficient reads on all junctions</td>\n",
       "      <td>...</td>\n",
       "      <td>24.0</td>\n",
       "      <td>NaN</td>\n",
       "      <td>23.0</td>\n",
       "      <td>Case 8: Sufficient reads on all junctions</td>\n",
       "      <td>0.376</td>\n",
       "      <td>CVN_05_R1.fastq.gz.polyATrim.adapterTrim.rmRep...</td>\n",
       "      <td>Case 8: Sufficient reads on all junctions</td>\n",
       "      <td>Case 8: Sufficient reads on all junctions</td>\n",
       "      <td>Case 8</td>\n",
       "      <td>rmdup</td>\n",
       "    </tr>\n",
       "  </tbody>\n",
       "</table>\n",
       "<p>5 rows × 27 columns</p>\n",
       "</div>"
      ],
      "text/plain": [
       "        sample_id                                           event_id  \\\n",
       "8494342    CVN_01  isoform1=junction:chr15:72494962-72499068:-@ex...   \n",
       "8494343    CVN_02  isoform1=junction:chr15:72494962-72499068:-@ex...   \n",
       "8494344    CVN_03  isoform1=junction:chr15:72494962-72499068:-@ex...   \n",
       "8494345    CVN_04  isoform1=junction:chr15:72494962-72499068:-@ex...   \n",
       "8494346    CVN_05  isoform1=junction:chr15:72494962-72499068:-@ex...   \n",
       "\n",
       "         incompatible_junction0_original  incompatible_junction1_original  \\\n",
       "8494342                              0.0                              NaN   \n",
       "8494343                              0.0                              NaN   \n",
       "8494344                              0.0                              NaN   \n",
       "8494345                              0.0                              NaN   \n",
       "8494346                              0.0                              NaN   \n",
       "\n",
       "         isoform1_junction13_original  isoform1_junction34_original  \\\n",
       "8494342                         158.0                         124.0   \n",
       "8494343                          44.0                          40.0   \n",
       "8494344                         100.0                          64.0   \n",
       "8494345                         183.0                         160.0   \n",
       "8494346                         110.0                          92.0   \n",
       "\n",
       "         isoform2_junction12_original  isoform2_junction23_original  \\\n",
       "8494342                           0.0                           NaN   \n",
       "8494343                           0.0                           NaN   \n",
       "8494344                           0.0                           NaN   \n",
       "8494345                           0.0                           NaN   \n",
       "8494346                          61.0                           NaN   \n",
       "\n",
       "         isoform2_junction24_original  \\\n",
       "8494342                          19.0   \n",
       "8494343                          10.0   \n",
       "8494344                          14.0   \n",
       "8494345                          26.0   \n",
       "8494346                          55.0   \n",
       "\n",
       "                                            notes_original      ...        \\\n",
       "8494342  Case 5: Unequal read coverage (one side has at...      ...         \n",
       "8494343  Case 5: Unequal read coverage (one side has at...      ...         \n",
       "8494344  Case 5: Unequal read coverage (one side has at...      ...         \n",
       "8494345  Case 5: Unequal read coverage (one side has at...      ...         \n",
       "8494346          Case 8: Sufficient reads on all junctions      ...         \n",
       "\n",
       "         isoform2_junction12_rmdup isoform2_junction23_rmdup  \\\n",
       "8494342                        0.0                       NaN   \n",
       "8494343                        0.0                       NaN   \n",
       "8494344                        0.0                       NaN   \n",
       "8494345                        0.0                       NaN   \n",
       "8494346                       24.0                       NaN   \n",
       "\n",
       "        isoform2_junction24_rmdup                                notes_rmdup  \\\n",
       "8494342                       0.0                          Case 6: Exclusion   \n",
       "8494343                       0.0                          Case 6: Exclusion   \n",
       "8494344                       0.0                          Case 6: Exclusion   \n",
       "8494345                       0.0                          Case 6: Exclusion   \n",
       "8494346                      23.0  Case 8: Sufficient reads on all junctions   \n",
       "\n",
       "         psi_rmdup                                                bam  \\\n",
       "8494342      0.000  CVN_01_R1.fastq.gz.polyATrim.adapterTrim.rmRep...   \n",
       "8494343      0.000  CVN_02_R1.fastq.gz.polyATrim.adapterTrim.rmRep...   \n",
       "8494344      0.000  CVN_03_R1.fastq.gz.polyATrim.adapterTrim.rmRep...   \n",
       "8494345      0.000  CVN_04_R1.fastq.gz.polyATrim.adapterTrim.rmRep...   \n",
       "8494346      0.376  CVN_05_R1.fastq.gz.polyATrim.adapterTrim.rmRep...   \n",
       "\n",
       "                                        notes_copy  \\\n",
       "8494342                          Case 6: Exclusion   \n",
       "8494343                          Case 6: Exclusion   \n",
       "8494344                          Case 6: Exclusion   \n",
       "8494345                          Case 6: Exclusion   \n",
       "8494346  Case 8: Sufficient reads on all junctions   \n",
       "\n",
       "                                         note_copy  notes_abbrev_rmdup  \\\n",
       "8494342                          Case 6: Exclusion              Case 6   \n",
       "8494343                          Case 6: Exclusion              Case 6   \n",
       "8494344                          Case 6: Exclusion              Case 6   \n",
       "8494345                          Case 6: Exclusion              Case 6   \n",
       "8494346  Case 8: Sufficient reads on all junctions              Case 8   \n",
       "\n",
       "         dataset_rmdup  \n",
       "8494342          rmdup  \n",
       "8494343          rmdup  \n",
       "8494344          rmdup  \n",
       "8494345          rmdup  \n",
       "8494346          rmdup  \n",
       "\n",
       "[5 rows x 27 columns]"
      ]
     },
     "execution_count": 17,
     "metadata": {},
     "output_type": "execute_result"
    }
   ],
   "source": [
    "pkm_summary = summary.query('event_id == @pkm_event')\n",
    "print(pkm_summary.shape)\n",
    "pkm_summary.head()"
   ]
  },
  {
   "cell_type": "code",
   "execution_count": 18,
   "metadata": {
    "collapsed": false
   },
   "outputs": [
    {
     "data": {
      "text/plain": [
       "'isoform1=junction:chr10:79797063-79800372:+|isoform2=junction:chr10:79797063-79799961:+@exon:chr10:79799962-79799983:+@junction:chr10:79799984-79800372:+'"
      ]
     },
     "execution_count": 18,
     "metadata": {},
     "output_type": "execute_result"
    }
   ],
   "source": [
    "rps24_event = 'isoform1=junction:chr10:79797063-79800372:+|'\\\n",
    "'isoform2=junction:chr10:79797063-79799961:+@exon:chr10:79799962-79799983:+@junction:chr10:79799984-79800372:+'\n",
    "rps24_event"
   ]
  },
  {
   "cell_type": "code",
   "execution_count": null,
   "metadata": {
    "collapsed": true
   },
   "outputs": [],
   "source": []
  }
 ],
 "metadata": {
  "kernelspec": {
   "display_name": "Python 2",
   "language": "python",
   "name": "python2"
  },
  "language_info": {
   "codemirror_mode": {
    "name": "ipython",
    "version": 2
   },
   "file_extension": ".py",
   "mimetype": "text/x-python",
   "name": "python",
   "nbconvert_exporter": "python",
   "pygments_lexer": "ipython2",
   "version": "2.7.11"
  }
 },
 "nbformat": 4,
 "nbformat_minor": 0
}
