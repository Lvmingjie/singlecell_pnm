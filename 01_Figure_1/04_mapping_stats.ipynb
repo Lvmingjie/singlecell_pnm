{
 "cells": [
  {
   "cell_type": "code",
   "execution_count": 8,
   "metadata": {
    "collapsed": false
   },
   "outputs": [
    {
     "name": "stdout",
     "output_type": "stream",
     "text": [
      "The autoreload extension is already loaded. To reload it, use:\n",
      "  %reload_ext autoreload\n",
      "2016-12-29 12:54:48\tReading datapackage from /projects/ps-yeolab/obotvinnik/flotilla_projects/singlecell_pnm_figure1_post_kmeans_outliers/datapackage.json\n",
      "2016-12-29 12:54:48\tParsing datapackage to create a Study object\n",
      "https://s3-us-west-2.amazonaws.com/flotilla-projects/ercc/ERCC_Controls.txt has not been downloaded before.\n",
      "\tDownloading now to /home/obotvinnik/flotilla_projects/hg19/ERCC_Controls.txt\n",
      "2016-12-29 12:55:02 \tInitializing Study\n",
      "2016-12-29 12:55:02 \tInitializing Predictor configuration manager for Study\n",
      "2016-12-29 12:55:02\tPredictor ExtraTreesClassifier is of type <class 'sklearn.ensemble.forest.ExtraTreesClassifier'>\n",
      "2016-12-29 12:55:02\tAdded ExtraTreesClassifier to default predictors\n",
      "2016-12-29 12:55:02\tPredictor ExtraTreesRegressor is of type <class 'sklearn.ensemble.forest.ExtraTreesRegressor'>\n",
      "2016-12-29 12:55:02\tAdded ExtraTreesRegressor to default predictors\n",
      "2016-12-29 12:55:02\tPredictor GradientBoostingClassifier is of type <class 'sklearn.ensemble.gradient_boosting.GradientBoostingClassifier'>\n",
      "2016-12-29 12:55:02\tAdded GradientBoostingClassifier to default predictors\n",
      "2016-12-29 12:55:02\tPredictor GradientBoostingRegressor is of type <class 'sklearn.ensemble.gradient_boosting.GradientBoostingRegressor'>\n",
      "2016-12-29 12:55:02\tAdded GradientBoostingRegressor to default predictors\n",
      "2016-12-29 12:55:02 \tLoading metadata\n",
      "2016-12-29 12:55:02\tLoading expression data\n",
      "2016-12-29 12:55:02\tInitializing expression\n",
      "2016-12-29 12:55:03\tDone initializing expression\n",
      "2016-12-29 12:55:05\tLoading splicing data\n",
      "2016-12-29 12:55:05\tInitializing splicing\n",
      "2016-12-29 12:55:05\tDone initializing splicing\n",
      "2016-12-29 12:55:05\tSuccessfully initialized a Study object!\n"
     ]
    },
    {
     "name": "stderr",
     "output_type": "stream",
     "text": [
      "Error loading species hg19 data: HTTP Error 404: Not Found"
     ]
    }
   ],
   "source": [
    "import six\n",
    "\n",
    "import matplotlib as mpl\n",
    "import matplotlib.pyplot as plt\n",
    "import matplotlib_venn\n",
    "import numpy as np\n",
    "import pandas as pd\n",
    "import seaborn as sns\n",
    "sns.set(style='ticks', context='paper')\n",
    "\n",
    "%matplotlib inline\n",
    "import flotilla\n",
    "\n",
    "%load_ext autoreload\n",
    "%autoreload 2\n",
    "\n",
    "folder = 'figures'\n",
    "\n",
    "flotilla_dir = '/projects/ps-yeolab/obotvinnik/flotilla_projects/'\n",
    "study = flotilla.embark('singlecell_pnm_figure1_post_kmeans_outliers', flotilla_dir=flotilla_dir)"
   ]
  },
  {
   "cell_type": "code",
   "execution_count": 9,
   "metadata": {
    "collapsed": false
   },
   "outputs": [
    {
     "data": {
      "text/plain": [
       "10"
      ]
     },
     "execution_count": 9,
     "metadata": {},
     "output_type": "execute_result"
    }
   ],
   "source": [
    "study.splicing.minimum_samples"
   ]
  },
  {
   "cell_type": "code",
   "execution_count": 10,
   "metadata": {
    "collapsed": true
   },
   "outputs": [],
   "source": [
    "figure_folder = 'figures/005_mapping_stats'\n",
    "! mkdir -p $figure_folder"
   ]
  },
  {
   "cell_type": "code",
   "execution_count": 11,
   "metadata": {
    "collapsed": false
   },
   "outputs": [
    {
     "name": "stdout",
     "output_type": "stream",
     "text": [
      "mkdir: cannot create directory `figures': File exists\r\n"
     ]
    }
   ],
   "source": [
    "mkdir $folder"
   ]
  },
  {
   "cell_type": "markdown",
   "metadata": {},
   "source": [
    "### Mapped reads"
   ]
  },
  {
   "cell_type": "code",
   "execution_count": 12,
   "metadata": {
    "collapsed": false
   },
   "outputs": [
    {
     "data": {
      "text/html": [
       "<div>\n",
       "<table border=\"1\" class=\"dataframe\">\n",
       "  <thead>\n",
       "    <tr style=\"text-align: right;\">\n",
       "      <th></th>\n",
       "      <th>Started job on</th>\n",
       "      <th>Started mapping on</th>\n",
       "      <th>Finished on</th>\n",
       "      <th>Mapping speed, Million of reads per hour</th>\n",
       "      <th>Number of input reads</th>\n",
       "      <th>Average input read length</th>\n",
       "      <th>UNIQUE READS</th>\n",
       "      <th>Uniquely mapped reads number</th>\n",
       "      <th>Uniquely mapped reads %</th>\n",
       "      <th>Average mapped length</th>\n",
       "      <th>...</th>\n",
       "      <th>% of reads mapped to too many loci</th>\n",
       "      <th>UNMAPPED READS</th>\n",
       "      <th>% of reads unmapped: too many mismatches</th>\n",
       "      <th>% of reads unmapped: too short</th>\n",
       "      <th>% of reads unmapped: other</th>\n",
       "      <th>% splices: Annotated (sjdb)</th>\n",
       "      <th>% splices: GT/AG</th>\n",
       "      <th>% splices: GC/AG</th>\n",
       "      <th>% splices: AT/AC</th>\n",
       "      <th>% splices: Non-canonical</th>\n",
       "    </tr>\n",
       "  </thead>\n",
       "  <tbody>\n",
       "    <tr>\n",
       "      <th>CVN_01</th>\n",
       "      <td>Feb 21 15:54:22</td>\n",
       "      <td>Feb 21 15:55:44</td>\n",
       "      <td>Feb 21 15:57:19</td>\n",
       "      <td>459.82</td>\n",
       "      <td>12134131.0</td>\n",
       "      <td>99.0</td>\n",
       "      <td>NaN</td>\n",
       "      <td>11128688.0</td>\n",
       "      <td>91.71</td>\n",
       "      <td>98.27</td>\n",
       "      <td>...</td>\n",
       "      <td>0.03</td>\n",
       "      <td>NaN</td>\n",
       "      <td>0.0</td>\n",
       "      <td>3.10</td>\n",
       "      <td>0.02</td>\n",
       "      <td>98.841858</td>\n",
       "      <td>99.126387</td>\n",
       "      <td>0.652647</td>\n",
       "      <td>0.134704</td>\n",
       "      <td>0.086261</td>\n",
       "    </tr>\n",
       "    <tr>\n",
       "      <th>CVN_02</th>\n",
       "      <td>Feb 21 15:55:43</td>\n",
       "      <td>Feb 21 15:57:11</td>\n",
       "      <td>Feb 21 15:58:51</td>\n",
       "      <td>480.66</td>\n",
       "      <td>13351539.0</td>\n",
       "      <td>99.0</td>\n",
       "      <td>NaN</td>\n",
       "      <td>12219037.0</td>\n",
       "      <td>91.52</td>\n",
       "      <td>98.13</td>\n",
       "      <td>...</td>\n",
       "      <td>0.04</td>\n",
       "      <td>NaN</td>\n",
       "      <td>0.0</td>\n",
       "      <td>3.96</td>\n",
       "      <td>0.02</td>\n",
       "      <td>98.614629</td>\n",
       "      <td>99.020137</td>\n",
       "      <td>0.801086</td>\n",
       "      <td>0.097722</td>\n",
       "      <td>0.081054</td>\n",
       "    </tr>\n",
       "    <tr>\n",
       "      <th>CVN_03</th>\n",
       "      <td>Feb 21 16:51:58</td>\n",
       "      <td>Feb 21 16:53:51</td>\n",
       "      <td>Feb 21 16:55:31</td>\n",
       "      <td>484.15</td>\n",
       "      <td>13448587.0</td>\n",
       "      <td>99.0</td>\n",
       "      <td>NaN</td>\n",
       "      <td>12210025.0</td>\n",
       "      <td>90.79</td>\n",
       "      <td>98.07</td>\n",
       "      <td>...</td>\n",
       "      <td>0.03</td>\n",
       "      <td>NaN</td>\n",
       "      <td>0.0</td>\n",
       "      <td>4.99</td>\n",
       "      <td>0.02</td>\n",
       "      <td>98.596403</td>\n",
       "      <td>99.028733</td>\n",
       "      <td>0.796140</td>\n",
       "      <td>0.101854</td>\n",
       "      <td>0.073272</td>\n",
       "    </tr>\n",
       "    <tr>\n",
       "      <th>CVN_04</th>\n",
       "      <td>Feb 21 16:45:53</td>\n",
       "      <td>Feb 21 16:47:23</td>\n",
       "      <td>Feb 21 16:48:59</td>\n",
       "      <td>474.71</td>\n",
       "      <td>12658833.0</td>\n",
       "      <td>99.0</td>\n",
       "      <td>NaN</td>\n",
       "      <td>11805790.0</td>\n",
       "      <td>93.26</td>\n",
       "      <td>98.33</td>\n",
       "      <td>...</td>\n",
       "      <td>0.04</td>\n",
       "      <td>NaN</td>\n",
       "      <td>0.0</td>\n",
       "      <td>2.89</td>\n",
       "      <td>0.02</td>\n",
       "      <td>98.831275</td>\n",
       "      <td>99.120483</td>\n",
       "      <td>0.711286</td>\n",
       "      <td>0.084708</td>\n",
       "      <td>0.083523</td>\n",
       "    </tr>\n",
       "    <tr>\n",
       "      <th>CVN_05</th>\n",
       "      <td>Feb 21 16:50:26</td>\n",
       "      <td>Feb 21 16:52:19</td>\n",
       "      <td>Feb 21 16:54:01</td>\n",
       "      <td>486.68</td>\n",
       "      <td>13789345.0</td>\n",
       "      <td>99.0</td>\n",
       "      <td>NaN</td>\n",
       "      <td>12894337.0</td>\n",
       "      <td>93.51</td>\n",
       "      <td>98.44</td>\n",
       "      <td>...</td>\n",
       "      <td>0.03</td>\n",
       "      <td>NaN</td>\n",
       "      <td>0.0</td>\n",
       "      <td>2.49</td>\n",
       "      <td>0.02</td>\n",
       "      <td>98.605923</td>\n",
       "      <td>99.083942</td>\n",
       "      <td>0.761804</td>\n",
       "      <td>0.089186</td>\n",
       "      <td>0.065069</td>\n",
       "    </tr>\n",
       "  </tbody>\n",
       "</table>\n",
       "<p>5 rows × 35 columns</p>\n",
       "</div>"
      ],
      "text/plain": [
       "         Started job on Started mapping on      Finished on  \\\n",
       "CVN_01  Feb 21 15:54:22    Feb 21 15:55:44  Feb 21 15:57:19   \n",
       "CVN_02  Feb 21 15:55:43    Feb 21 15:57:11  Feb 21 15:58:51   \n",
       "CVN_03  Feb 21 16:51:58    Feb 21 16:53:51  Feb 21 16:55:31   \n",
       "CVN_04  Feb 21 16:45:53    Feb 21 16:47:23  Feb 21 16:48:59   \n",
       "CVN_05  Feb 21 16:50:26    Feb 21 16:52:19  Feb 21 16:54:01   \n",
       "\n",
       "        Mapping speed, Million of reads per hour  Number of input reads  \\\n",
       "CVN_01                                    459.82             12134131.0   \n",
       "CVN_02                                    480.66             13351539.0   \n",
       "CVN_03                                    484.15             13448587.0   \n",
       "CVN_04                                    474.71             12658833.0   \n",
       "CVN_05                                    486.68             13789345.0   \n",
       "\n",
       "        Average input read length  UNIQUE READS  Uniquely mapped reads number  \\\n",
       "CVN_01                       99.0           NaN                    11128688.0   \n",
       "CVN_02                       99.0           NaN                    12219037.0   \n",
       "CVN_03                       99.0           NaN                    12210025.0   \n",
       "CVN_04                       99.0           NaN                    11805790.0   \n",
       "CVN_05                       99.0           NaN                    12894337.0   \n",
       "\n",
       "        Uniquely mapped reads %  Average mapped length  \\\n",
       "CVN_01                    91.71                  98.27   \n",
       "CVN_02                    91.52                  98.13   \n",
       "CVN_03                    90.79                  98.07   \n",
       "CVN_04                    93.26                  98.33   \n",
       "CVN_05                    93.51                  98.44   \n",
       "\n",
       "                  ...             % of reads mapped to too many loci  \\\n",
       "CVN_01            ...                                           0.03   \n",
       "CVN_02            ...                                           0.04   \n",
       "CVN_03            ...                                           0.03   \n",
       "CVN_04            ...                                           0.04   \n",
       "CVN_05            ...                                           0.03   \n",
       "\n",
       "        UNMAPPED READS  % of reads unmapped: too many mismatches  \\\n",
       "CVN_01             NaN                                       0.0   \n",
       "CVN_02             NaN                                       0.0   \n",
       "CVN_03             NaN                                       0.0   \n",
       "CVN_04             NaN                                       0.0   \n",
       "CVN_05             NaN                                       0.0   \n",
       "\n",
       "        % of reads unmapped: too short  % of reads unmapped: other  \\\n",
       "CVN_01                            3.10                        0.02   \n",
       "CVN_02                            3.96                        0.02   \n",
       "CVN_03                            4.99                        0.02   \n",
       "CVN_04                            2.89                        0.02   \n",
       "CVN_05                            2.49                        0.02   \n",
       "\n",
       "        % splices: Annotated (sjdb)  % splices: GT/AG  % splices: GC/AG  \\\n",
       "CVN_01                    98.841858         99.126387          0.652647   \n",
       "CVN_02                    98.614629         99.020137          0.801086   \n",
       "CVN_03                    98.596403         99.028733          0.796140   \n",
       "CVN_04                    98.831275         99.120483          0.711286   \n",
       "CVN_05                    98.605923         99.083942          0.761804   \n",
       "\n",
       "        % splices: AT/AC  % splices: Non-canonical  \n",
       "CVN_01          0.134704                  0.086261  \n",
       "CVN_02          0.097722                  0.081054  \n",
       "CVN_03          0.101854                  0.073272  \n",
       "CVN_04          0.084708                  0.083523  \n",
       "CVN_05          0.089186                  0.065069  \n",
       "\n",
       "[5 rows x 35 columns]"
      ]
     },
     "execution_count": 12,
     "metadata": {},
     "output_type": "execute_result"
    }
   ],
   "source": [
    "study.mapping_stats.data.head()"
   ]
  },
  {
   "cell_type": "code",
   "execution_count": 13,
   "metadata": {
    "collapsed": false
   },
   "outputs": [
    {
     "data": {
      "image/png": "[encoded data removed]",
      "text/plain": [
       "<matplotlib.figure.Figure at 0x2b15a9e174d0>"
      ]
     },
     "metadata": {},
     "output_type": "display_data"
    }
   ],
   "source": [
    "# sns.set(context='paper', style='ticks')\n",
    "reads_col = 'Uniquely mapped reads number'\n",
    "mapped_reads = study.mapping_stats.data[reads_col]/1e6\n",
    "\n",
    "\n",
    "mapped_reads = mapped_reads.to_frame().join(study.metadata.data[['pooled', 'phenotype']])\n",
    "mapped_reads = mapped_reads.rename(columns={0: 'Millions of reads'})\n",
    "\n",
    "mapped_reads_pooled = mapped_reads.ix[mapped_reads.pooled]\n",
    "mapped_reads_single = mapped_reads.ix[~mapped_reads.pooled]\n",
    "\n",
    "fig, ax = plt.subplots(figsize=(2.5, 2))\n",
    "sns.boxplot(x='phenotype', y=reads_col, order=study.phenotype_order, linewidth=1, \n",
    "               data=mapped_reads_single, palette=study.phenotype_color_ordered, fliersize=0)\n",
    "sns.stripplot(x='phenotype', y=reads_col, order=study.phenotype_order, linewidth=1,edgecolor='white', #size=2,\n",
    "               data=mapped_reads_single, palette=study.phenotype_color_ordered, jitter=True)\n",
    "sns.stripplot(x='phenotype', y=reads_col, order=study.phenotype_order, linewidth=1,edgecolor='white',\n",
    "              data=mapped_reads_pooled, color='k', size=5, jitter=True)\n",
    "sns.despine()\n",
    "ax.set_xlabel('')\n",
    "\n",
    "ax.set_ylabel('Millions of reads')\n",
    "\n",
    "ymin, ymax = ax.get_ylim()\n",
    "ax.set_ylim(0, ymax)\n",
    "\n",
    "# Reduce number of ticks\n",
    "yloc = plt.MaxNLocator(5)\n",
    "ax.yaxis.set_major_locator(yloc)\n",
    "\n",
    "sns.despine()\n",
    "fig.tight_layout()\n",
    "fig.savefig('{}/mapped_reads.pdf'.format(figure_folder))"
   ]
  },
  {
   "cell_type": "code",
   "execution_count": null,
   "metadata": {
    "collapsed": true
   },
   "outputs": [],
   "source": []
  },
  {
   "cell_type": "code",
   "execution_count": null,
   "metadata": {
    "collapsed": true
   },
   "outputs": [],
   "source": []
  },
  {
   "cell_type": "code",
   "execution_count": null,
   "metadata": {
    "collapsed": true
   },
   "outputs": [],
   "source": []
  }
 ],
 "metadata": {
  "kernelspec": {
   "display_name": "Python 2",
   "language": "python",
   "name": "python2"
  },
  "language_info": {
   "codemirror_mode": {
    "name": "ipython",
    "version": 2
   },
   "file_extension": ".py",
   "mimetype": "text/x-python",
   "name": "python",
   "nbconvert_exporter": "python",
   "pygments_lexer": "ipython2",
   "version": "2.7.11"
  }
 },
 "nbformat": 4,
 "nbformat_minor": 0
}
