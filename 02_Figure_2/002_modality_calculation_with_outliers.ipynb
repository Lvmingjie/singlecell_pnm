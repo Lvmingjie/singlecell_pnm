{
 "cells": [
  {
   "cell_type": "code",
   "execution_count": 4,
   "metadata": {
    "collapsed": false
   },
   "outputs": [
    {
     "name": "stdout",
     "output_type": "stream",
     "text": [
      "The autoreload extension is already loaded. To reload it, use:\n",
      "  %reload_ext autoreload\n",
      "2017-01-13 08:42:48\tReading datapackage from /projects/ps-yeolab/obotvinnik/flotilla_projects/singlecell_pnm_figure2_modalities_bayesian/datapackage.json\n",
      "2017-01-13 08:42:48\tParsing datapackage to create a Study object\n",
      "https://s3-us-west-2.amazonaws.com/flotilla-projects/ercc/ERCC_Controls.txt has not been downloaded before.\n",
      "\tDownloading now to /home/obotvinnik/flotilla_projects/hg19/ERCC_Controls.txt\n",
      "2017-01-13 08:43:29 \tInitializing Study\n",
      "2017-01-13 08:43:29 \tInitializing Predictor configuration manager for Study\n",
      "2017-01-13 08:43:29\tPredictor ExtraTreesClassifier is of type <class 'sklearn.ensemble.forest.ExtraTreesClassifier'>\n",
      "2017-01-13 08:43:29\tAdded ExtraTreesClassifier to default predictors\n",
      "2017-01-13 08:43:29\tPredictor ExtraTreesRegressor is of type <class 'sklearn.ensemble.forest.ExtraTreesRegressor'>\n",
      "2017-01-13 08:43:29\tAdded ExtraTreesRegressor to default predictors\n",
      "2017-01-13 08:43:29\tPredictor GradientBoostingClassifier is of type <class 'sklearn.ensemble.gradient_boosting.GradientBoostingClassifier'>\n",
      "2017-01-13 08:43:29\tAdded GradientBoostingClassifier to default predictors\n",
      "2017-01-13 08:43:29\tPredictor GradientBoostingRegressor is of type <class 'sklearn.ensemble.gradient_boosting.GradientBoostingRegressor'>\n",
      "2017-01-13 08:43:29\tAdded GradientBoostingRegressor to default predictors\n",
      "2017-01-13 08:43:29 \tLoading metadata\n",
      "2017-01-13 08:43:29\tLoading expression data\n",
      "2017-01-13 08:43:29\tInitializing expression\n",
      "2017-01-13 08:43:30\tDone initializing expression\n",
      "2017-01-13 08:43:33\tLoading splicing data\n",
      "2017-01-13 08:43:33\tInitializing splicing\n",
      "2017-01-13 08:43:33\tDone initializing splicing\n",
      "2017-01-13 08:43:33\tSuccessfully initialized a Study object!\n"
     ]
    },
    {
     "name": "stderr",
     "output_type": "stream",
     "text": [
      "Error loading species hg19 data: HTTP Error 404: Not Found"
     ]
    }
   ],
   "source": [
    "%load_ext autoreload\n",
    "%autoreload 2\n",
    "\n",
    "import matplotlib.pyplot as plt\n",
    "import seaborn as sns\n",
    "import numpy as np\n",
    "import pandas as pd\n",
    "\n",
    "sns.set(style='ticks', context='paper', rc={'font.sans-serif':'Arial', 'pdf.fonttype': 42})\n",
    "\n",
    "%matplotlib inline\n",
    "\n",
    "import flotilla\n",
    "\n",
    "\n",
    "flotilla_dir = '/projects/ps-yeolab/obotvinnik/flotilla_projects'\n",
    "\n",
    "study = flotilla.embark('singlecell_pnm_figure2_modalities_bayesian', flotilla_dir=flotilla_dir)\n",
    "\n",
    "# not_outliers = study.splicing.singles.index.difference(study.splicing.outliers.index)\n"
   ]
  },
  {
   "cell_type": "code",
   "execution_count": 5,
   "metadata": {
    "collapsed": false
   },
   "outputs": [
    {
     "name": "stdout",
     "output_type": "stream",
     "text": [
      "mkdir: cannot create directory `figures/002_modality_calculation_with_outliers': File exists\r\n"
     ]
    }
   ],
   "source": [
    "folder = 'figures/002_modality_calculation_with_outliers'\n",
    "! mkdir $folder"
   ]
  },
  {
   "cell_type": "markdown",
   "metadata": {},
   "source": [
    "## Estimate modalities\n",
    "\n",
    "### Initialize the modality estimator"
   ]
  },
  {
   "cell_type": "code",
   "execution_count": 6,
   "metadata": {
    "collapsed": false
   },
   "outputs": [],
   "source": [
    "import anchor\n",
    "\n",
    "bayesian = anchor.BayesianModalities()\n",
    "# binned = anchor.BinnedModalities()\n",
    "# monte_carlo = anchor.MonteCarloModalities()"
   ]
  },
  {
   "cell_type": "markdown",
   "metadata": {},
   "source": [
    "## Calculate/Estimate modalities only on single cells, with no outliers\n",
    "\n",
    "And at least 10 cells per splicing event, per celltype/phenotype"
   ]
  },
  {
   "cell_type": "code",
   "execution_count": 7,
   "metadata": {
    "collapsed": false
   },
   "outputs": [
    {
     "data": {
      "text/plain": [
       "10"
      ]
     },
     "execution_count": 7,
     "metadata": {},
     "output_type": "execute_result"
    }
   ],
   "source": [
    "study.splicing.minimum_samples"
   ]
  },
  {
   "cell_type": "code",
   "execution_count": 8,
   "metadata": {
    "collapsed": false
   },
   "outputs": [
    {
     "name": "stdout",
     "output_type": "stream",
     "text": [
      "(291, 17978)\n",
      "(291, 13966)\n"
     ]
    }
   ],
   "source": [
    "print(study.splicing.singles.shape)\n",
    "splicing_singles = study.splicing.singles.groupby(\n",
    "    study.sample_id_to_phenotype).apply(lambda x: x.dropna(thresh=study.splicing.minimum_samples, axis=1))\n",
    "print splicing_singles.shape"
   ]
  },
  {
   "cell_type": "code",
   "execution_count": 9,
   "metadata": {
    "collapsed": false
   },
   "outputs": [],
   "source": [
    "pkm_events = study.splicing.maybe_renamed_to_feature_id('PKM')"
   ]
  },
  {
   "cell_type": "code",
   "execution_count": 10,
   "metadata": {
    "collapsed": false
   },
   "outputs": [
    {
     "name": "stdout",
     "output_type": "stream",
     "text": [
      "CPU times: user 40min 59s, sys: 2.61 s, total: 41min 2s\n",
      "Wall time: 1h 25min 34s\n"
     ]
    }
   ],
   "source": [
    "%time modality_assignments = splicing_singles.groupby(study.sample_id_to_phenotype).apply(bayesian.fit_predict)"
   ]
  },
  {
   "cell_type": "code",
   "execution_count": 11,
   "metadata": {
    "collapsed": false
   },
   "outputs": [
    {
     "data": {
      "text/html": [
       "<div>\n",
       "<table border=\"1\" class=\"dataframe\">\n",
       "  <thead>\n",
       "    <tr style=\"text-align: right;\">\n",
       "      <th></th>\n",
       "      <th>isoform1=junction:chr10:100189400-100190327:-|isoform2=junction:chr10:100189647-100190327:-@exon:chr10:100189548-100189646:-@junction:chr10:100189400-100189547:-</th>\n",
       "      <th>isoform1=junction:chr10:100193849-100195391:-|isoform2=junction:chr10:100195172-100195391:-@exon:chr10:100195029-100195171:-@junction:chr10:100193849-100195028:-</th>\n",
       "      <th>isoform1=junction:chr10:101163392-101165512:-|isoform2=junction:chr10:101163632-101165512:-@exon:chr10:101163481-101163631:-@junction:chr10:101163392-101163480:-</th>\n",
       "      <th>isoform1=junction:chr10:101476219-101480743:-|isoform2=junction:chr10:101478258-101480743:-@exon:chr10:101478103-101478257:-@junction:chr10:101476219-101478102:-</th>\n",
       "      <th>isoform1=junction:chr10:101507148-101514285:+|isoform2=junction:chr10:101507148-101510125:+@exon:chr10:101510126-101510153:+@junction:chr10:101510154-101514285:+</th>\n",
       "      <th>isoform1=junction:chr10:101507148-101515381:+|isoform2=junction:chr10:101507148-101514285:+@exon:chr10:101514286-101514391:+@junction:chr10:101514392-101515381:+</th>\n",
       "      <th>isoform1=junction:chr10:101510154-101514285:+|isoform2=junction:chr10:101510154-101513352:+@novel_exon:chr10:101513353-101513445:+@junction:chr10:101513446-101514285:+</th>\n",
       "      <th>isoform1=junction:chr10:101995522-101997778:-|isoform2=junction:chr10:101996727-101997778:-@exon:chr10:101996607-101996726:-@junction:chr10:101995522-101996606:-</th>\n",
       "      <th>isoform1=junction:chr10:101996727-102003454:-|isoform2=junction:chr10:101997989-102003454:-@exon:chr10:101997779-101997988:-@junction:chr10:101996727-101997778:-</th>\n",
       "      <th>isoform1=junction:chr10:102006693-102013177:-|isoform2=junction:chr10:102010090-102013177:-@exon:chr10:102010005-102010089:-@junction:chr10:102006693-102010004:-</th>\n",
       "      <th>...</th>\n",
       "      <th>isoform1=junction:chrY:21897637-21903203:-|isoform2=junction:chrY:21901549-21903203:-@exon:chrY:21901414-21901548:-@junction:chrY:21897637-21901413:-</th>\n",
       "      <th>isoform1=junction:chrY:21901549-21903620:-|isoform2=junction:chrY:21903375-21903620:-@exon:chrY:21903204-21903374:-@junction:chrY:21901549-21903203:-</th>\n",
       "      <th>isoform1=junction:chrY:22744580-22749909:+|isoform2=junction:chrY:22744580-22746359:+@exon:chrY:22746360-22746410:+@junction:chrY:22746411-22749909:+</th>\n",
       "      <th>isoform1=junction:chrY:2709669-2712117:+|isoform2=junction:chrY:2709669-2710205:+@exon:chrY:2710206-2710283:+@junction:chrY:2710284-2712117:+</th>\n",
       "      <th>isoform1=junction:chrY:2710284-2713686:+|isoform2=junction:chrY:2710284-2712117:+@exon:chrY:2712118-2712298:+@junction:chrY:2712299-2713686:+</th>\n",
       "      <th>isoform1=junction:chrY:2712299-2722640:+|isoform2=junction:chrY:2712299-2713686:+@exon:chrY:2713687-2713784:+@junction:chrY:2713785-2722640:+</th>\n",
       "      <th>isoform1=junction:chrY:2713785-2722640:+|isoform2=junction:chrY:2713785-2721709:+@novel_exon:chrY:2721710-2721732:+@junction:chrY:2721733-2722640:+</th>\n",
       "      <th>isoform1=junction:chrY:2713785-2733128:+|isoform2=junction:chrY:2713785-2722640:+@exon:chrY:2722641-2722812:+@junction:chrY:2722813-2733128:+</th>\n",
       "      <th>isoform1=junction:chrY:2722813-2734833:+|isoform2=junction:chrY:2722813-2733128:+@exon:chrY:2733129-2733286:+@junction:chrY:2733287-2734833:+</th>\n",
       "      <th>isoform1=junction:chrY:2822039-2843135:+|isoform2=junction:chrY:2822039-2829114:+@exon:chrY:2829115-2829687:+@junction:chrY:2829688-2843135:+</th>\n",
       "    </tr>\n",
       "    <tr>\n",
       "      <th>phenotype</th>\n",
       "      <th></th>\n",
       "      <th></th>\n",
       "      <th></th>\n",
       "      <th></th>\n",
       "      <th></th>\n",
       "      <th></th>\n",
       "      <th></th>\n",
       "      <th></th>\n",
       "      <th></th>\n",
       "      <th></th>\n",
       "      <th></th>\n",
       "      <th></th>\n",
       "      <th></th>\n",
       "      <th></th>\n",
       "      <th></th>\n",
       "      <th></th>\n",
       "      <th></th>\n",
       "      <th></th>\n",
       "      <th></th>\n",
       "      <th></th>\n",
       "      <th></th>\n",
       "    </tr>\n",
       "  </thead>\n",
       "  <tbody>\n",
       "    <tr>\n",
       "      <th>MN</th>\n",
       "      <td>NaN</td>\n",
       "      <td>NaN</td>\n",
       "      <td>included</td>\n",
       "      <td>bimodal</td>\n",
       "      <td>bimodal</td>\n",
       "      <td>NaN</td>\n",
       "      <td>excluded</td>\n",
       "      <td>NaN</td>\n",
       "      <td>NaN</td>\n",
       "      <td>NaN</td>\n",
       "      <td>...</td>\n",
       "      <td>NaN</td>\n",
       "      <td>NaN</td>\n",
       "      <td>included</td>\n",
       "      <td>included</td>\n",
       "      <td>included</td>\n",
       "      <td>included</td>\n",
       "      <td>excluded</td>\n",
       "      <td>included</td>\n",
       "      <td>included</td>\n",
       "      <td>NaN</td>\n",
       "    </tr>\n",
       "    <tr>\n",
       "      <th>NPC</th>\n",
       "      <td>NaN</td>\n",
       "      <td>NaN</td>\n",
       "      <td>included</td>\n",
       "      <td>bimodal</td>\n",
       "      <td>bimodal</td>\n",
       "      <td>NaN</td>\n",
       "      <td>excluded</td>\n",
       "      <td>bimodal</td>\n",
       "      <td>NaN</td>\n",
       "      <td>NaN</td>\n",
       "      <td>...</td>\n",
       "      <td>NaN</td>\n",
       "      <td>NaN</td>\n",
       "      <td>included</td>\n",
       "      <td>included</td>\n",
       "      <td>included</td>\n",
       "      <td>included</td>\n",
       "      <td>excluded</td>\n",
       "      <td>included</td>\n",
       "      <td>included</td>\n",
       "      <td>NaN</td>\n",
       "    </tr>\n",
       "    <tr>\n",
       "      <th>iPSC</th>\n",
       "      <td>bimodal</td>\n",
       "      <td>bimodal</td>\n",
       "      <td>included</td>\n",
       "      <td>included</td>\n",
       "      <td>bimodal</td>\n",
       "      <td>included</td>\n",
       "      <td>excluded</td>\n",
       "      <td>included</td>\n",
       "      <td>included</td>\n",
       "      <td>included</td>\n",
       "      <td>...</td>\n",
       "      <td>bimodal</td>\n",
       "      <td>bimodal</td>\n",
       "      <td>included</td>\n",
       "      <td>included</td>\n",
       "      <td>included</td>\n",
       "      <td>included</td>\n",
       "      <td>excluded</td>\n",
       "      <td>included</td>\n",
       "      <td>included</td>\n",
       "      <td>bimodal</td>\n",
       "    </tr>\n",
       "  </tbody>\n",
       "</table>\n",
       "<p>3 rows × 13966 columns</p>\n",
       "</div>"
      ],
      "text/plain": [
       "          isoform1=junction:chr10:100189400-100190327:-|isoform2=junction:chr10:100189647-100190327:-@exon:chr10:100189548-100189646:-@junction:chr10:100189400-100189547:-  \\\n",
       "phenotype                                                                                                                                                                     \n",
       "MN                                                       NaN                                                                                                                  \n",
       "NPC                                                      NaN                                                                                                                  \n",
       "iPSC                                                 bimodal                                                                                                                  \n",
       "\n",
       "          isoform1=junction:chr10:100193849-100195391:-|isoform2=junction:chr10:100195172-100195391:-@exon:chr10:100195029-100195171:-@junction:chr10:100193849-100195028:-  \\\n",
       "phenotype                                                                                                                                                                     \n",
       "MN                                                       NaN                                                                                                                  \n",
       "NPC                                                      NaN                                                                                                                  \n",
       "iPSC                                                 bimodal                                                                                                                  \n",
       "\n",
       "          isoform1=junction:chr10:101163392-101165512:-|isoform2=junction:chr10:101163632-101165512:-@exon:chr10:101163481-101163631:-@junction:chr10:101163392-101163480:-  \\\n",
       "phenotype                                                                                                                                                                     \n",
       "MN                                                  included                                                                                                                  \n",
       "NPC                                                 included                                                                                                                  \n",
       "iPSC                                                included                                                                                                                  \n",
       "\n",
       "          isoform1=junction:chr10:101476219-101480743:-|isoform2=junction:chr10:101478258-101480743:-@exon:chr10:101478103-101478257:-@junction:chr10:101476219-101478102:-  \\\n",
       "phenotype                                                                                                                                                                     \n",
       "MN                                                   bimodal                                                                                                                  \n",
       "NPC                                                  bimodal                                                                                                                  \n",
       "iPSC                                                included                                                                                                                  \n",
       "\n",
       "          isoform1=junction:chr10:101507148-101514285:+|isoform2=junction:chr10:101507148-101510125:+@exon:chr10:101510126-101510153:+@junction:chr10:101510154-101514285:+  \\\n",
       "phenotype                                                                                                                                                                     \n",
       "MN                                                   bimodal                                                                                                                  \n",
       "NPC                                                  bimodal                                                                                                                  \n",
       "iPSC                                                 bimodal                                                                                                                  \n",
       "\n",
       "          isoform1=junction:chr10:101507148-101515381:+|isoform2=junction:chr10:101507148-101514285:+@exon:chr10:101514286-101514391:+@junction:chr10:101514392-101515381:+  \\\n",
       "phenotype                                                                                                                                                                     \n",
       "MN                                                       NaN                                                                                                                  \n",
       "NPC                                                      NaN                                                                                                                  \n",
       "iPSC                                                included                                                                                                                  \n",
       "\n",
       "          isoform1=junction:chr10:101510154-101514285:+|isoform2=junction:chr10:101510154-101513352:+@novel_exon:chr10:101513353-101513445:+@junction:chr10:101513446-101514285:+  \\\n",
       "phenotype                                                                                                                                                                           \n",
       "MN                                                  excluded                                                                                                                        \n",
       "NPC                                                 excluded                                                                                                                        \n",
       "iPSC                                                excluded                                                                                                                        \n",
       "\n",
       "          isoform1=junction:chr10:101995522-101997778:-|isoform2=junction:chr10:101996727-101997778:-@exon:chr10:101996607-101996726:-@junction:chr10:101995522-101996606:-  \\\n",
       "phenotype                                                                                                                                                                     \n",
       "MN                                                       NaN                                                                                                                  \n",
       "NPC                                                  bimodal                                                                                                                  \n",
       "iPSC                                                included                                                                                                                  \n",
       "\n",
       "          isoform1=junction:chr10:101996727-102003454:-|isoform2=junction:chr10:101997989-102003454:-@exon:chr10:101997779-101997988:-@junction:chr10:101996727-101997778:-  \\\n",
       "phenotype                                                                                                                                                                     \n",
       "MN                                                       NaN                                                                                                                  \n",
       "NPC                                                      NaN                                                                                                                  \n",
       "iPSC                                                included                                                                                                                  \n",
       "\n",
       "          isoform1=junction:chr10:102006693-102013177:-|isoform2=junction:chr10:102010090-102013177:-@exon:chr10:102010005-102010089:-@junction:chr10:102006693-102010004:-  \\\n",
       "phenotype                                                                                                                                                                     \n",
       "MN                                                       NaN                                                                                                                  \n",
       "NPC                                                      NaN                                                                                                                  \n",
       "iPSC                                                included                                                                                                                  \n",
       "\n",
       "                                                                               ...                                                                       \\\n",
       "phenotype                                                                      ...                                                                        \n",
       "MN                                                                             ...                                                                        \n",
       "NPC                                                                            ...                                                                        \n",
       "iPSC                                                                           ...                                                                        \n",
       "\n",
       "          isoform1=junction:chrY:21897637-21903203:-|isoform2=junction:chrY:21901549-21903203:-@exon:chrY:21901414-21901548:-@junction:chrY:21897637-21901413:-  \\\n",
       "phenotype                                                                                                                                                         \n",
       "MN                                                       NaN                                                                                                      \n",
       "NPC                                                      NaN                                                                                                      \n",
       "iPSC                                                 bimodal                                                                                                      \n",
       "\n",
       "          isoform1=junction:chrY:21901549-21903620:-|isoform2=junction:chrY:21903375-21903620:-@exon:chrY:21903204-21903374:-@junction:chrY:21901549-21903203:-  \\\n",
       "phenotype                                                                                                                                                         \n",
       "MN                                                       NaN                                                                                                      \n",
       "NPC                                                      NaN                                                                                                      \n",
       "iPSC                                                 bimodal                                                                                                      \n",
       "\n",
       "          isoform1=junction:chrY:22744580-22749909:+|isoform2=junction:chrY:22744580-22746359:+@exon:chrY:22746360-22746410:+@junction:chrY:22746411-22749909:+  \\\n",
       "phenotype                                                                                                                                                         \n",
       "MN                                                  included                                                                                                      \n",
       "NPC                                                 included                                                                                                      \n",
       "iPSC                                                included                                                                                                      \n",
       "\n",
       "          isoform1=junction:chrY:2709669-2712117:+|isoform2=junction:chrY:2709669-2710205:+@exon:chrY:2710206-2710283:+@junction:chrY:2710284-2712117:+  \\\n",
       "phenotype                                                                                                                                                 \n",
       "MN                                                  included                                                                                              \n",
       "NPC                                                 included                                                                                              \n",
       "iPSC                                                included                                                                                              \n",
       "\n",
       "          isoform1=junction:chrY:2710284-2713686:+|isoform2=junction:chrY:2710284-2712117:+@exon:chrY:2712118-2712298:+@junction:chrY:2712299-2713686:+  \\\n",
       "phenotype                                                                                                                                                 \n",
       "MN                                                  included                                                                                              \n",
       "NPC                                                 included                                                                                              \n",
       "iPSC                                                included                                                                                              \n",
       "\n",
       "          isoform1=junction:chrY:2712299-2722640:+|isoform2=junction:chrY:2712299-2713686:+@exon:chrY:2713687-2713784:+@junction:chrY:2713785-2722640:+  \\\n",
       "phenotype                                                                                                                                                 \n",
       "MN                                                  included                                                                                              \n",
       "NPC                                                 included                                                                                              \n",
       "iPSC                                                included                                                                                              \n",
       "\n",
       "          isoform1=junction:chrY:2713785-2722640:+|isoform2=junction:chrY:2713785-2721709:+@novel_exon:chrY:2721710-2721732:+@junction:chrY:2721733-2722640:+  \\\n",
       "phenotype                                                                                                                                                       \n",
       "MN                                                  excluded                                                                                                    \n",
       "NPC                                                 excluded                                                                                                    \n",
       "iPSC                                                excluded                                                                                                    \n",
       "\n",
       "          isoform1=junction:chrY:2713785-2733128:+|isoform2=junction:chrY:2713785-2722640:+@exon:chrY:2722641-2722812:+@junction:chrY:2722813-2733128:+  \\\n",
       "phenotype                                                                                                                                                 \n",
       "MN                                                  included                                                                                              \n",
       "NPC                                                 included                                                                                              \n",
       "iPSC                                                included                                                                                              \n",
       "\n",
       "          isoform1=junction:chrY:2722813-2734833:+|isoform2=junction:chrY:2722813-2733128:+@exon:chrY:2733129-2733286:+@junction:chrY:2733287-2734833:+  \\\n",
       "phenotype                                                                                                                                                 \n",
       "MN                                                  included                                                                                              \n",
       "NPC                                                 included                                                                                              \n",
       "iPSC                                                included                                                                                              \n",
       "\n",
       "          isoform1=junction:chrY:2822039-2843135:+|isoform2=junction:chrY:2822039-2829114:+@exon:chrY:2829115-2829687:+@junction:chrY:2829688-2843135:+  \n",
       "phenotype                                                                                                                                                \n",
       "MN                                                       NaN                                                                                             \n",
       "NPC                                                      NaN                                                                                             \n",
       "iPSC                                                 bimodal                                                                                             \n",
       "\n",
       "[3 rows x 13966 columns]"
      ]
     },
     "execution_count": 11,
     "metadata": {},
     "output_type": "execute_result"
    }
   ],
   "source": [
    "modality_assignments"
   ]
  },
  {
   "cell_type": "code",
   "execution_count": 12,
   "metadata": {
    "collapsed": false
   },
   "outputs": [
    {
     "data": {
      "text/html": [
       "<div>\n",
       "<table border=\"1\" class=\"dataframe\">\n",
       "  <thead>\n",
       "    <tr style=\"text-align: right;\">\n",
       "      <th></th>\n",
       "      <th>phenotype</th>\n",
       "      <th>event_id</th>\n",
       "      <th>modality</th>\n",
       "    </tr>\n",
       "  </thead>\n",
       "  <tbody>\n",
       "    <tr>\n",
       "      <th>0</th>\n",
       "      <td>MN</td>\n",
       "      <td>isoform1=junction:chr10:101163392-101165512:-|...</td>\n",
       "      <td>included</td>\n",
       "    </tr>\n",
       "    <tr>\n",
       "      <th>1</th>\n",
       "      <td>MN</td>\n",
       "      <td>isoform1=junction:chr10:101476219-101480743:-|...</td>\n",
       "      <td>bimodal</td>\n",
       "    </tr>\n",
       "    <tr>\n",
       "      <th>2</th>\n",
       "      <td>MN</td>\n",
       "      <td>isoform1=junction:chr10:101507148-101514285:+|...</td>\n",
       "      <td>bimodal</td>\n",
       "    </tr>\n",
       "    <tr>\n",
       "      <th>3</th>\n",
       "      <td>MN</td>\n",
       "      <td>isoform1=junction:chr10:101510154-101514285:+|...</td>\n",
       "      <td>excluded</td>\n",
       "    </tr>\n",
       "    <tr>\n",
       "      <th>4</th>\n",
       "      <td>MN</td>\n",
       "      <td>isoform1=junction:chr10:102010090-102013177:-|...</td>\n",
       "      <td>excluded</td>\n",
       "    </tr>\n",
       "  </tbody>\n",
       "</table>\n",
       "</div>"
      ],
      "text/plain": [
       "  phenotype                                           event_id  modality\n",
       "0        MN  isoform1=junction:chr10:101163392-101165512:-|...  included\n",
       "1        MN  isoform1=junction:chr10:101476219-101480743:-|...   bimodal\n",
       "2        MN  isoform1=junction:chr10:101507148-101514285:+|...   bimodal\n",
       "3        MN  isoform1=junction:chr10:101510154-101514285:+|...  excluded\n",
       "4        MN  isoform1=junction:chr10:102010090-102013177:-|...  excluded"
      ]
     },
     "execution_count": 12,
     "metadata": {},
     "output_type": "execute_result"
    }
   ],
   "source": [
    "modalities_tidy = modality_assignments.stack().reset_index()\n",
    "modalities_tidy = modalities_tidy.rename(columns={'level_1': 'event_id', 0: \"modality\",})\n",
    "modalities_tidy.head()"
   ]
  },
  {
   "cell_type": "code",
   "execution_count": 13,
   "metadata": {
    "collapsed": false
   },
   "outputs": [
    {
     "data": {
      "text/html": [
       "<div>\n",
       "<table border=\"1\" class=\"dataframe\">\n",
       "  <thead>\n",
       "    <tr style=\"text-align: right;\">\n",
       "      <th></th>\n",
       "      <th>phenotype</th>\n",
       "      <th>event_id</th>\n",
       "      <th>modality</th>\n",
       "    </tr>\n",
       "  </thead>\n",
       "  <tbody>\n",
       "    <tr>\n",
       "      <th>2075</th>\n",
       "      <td>MN</td>\n",
       "      <td>isoform1=junction:chr15:72492997-72499068:-|is...</td>\n",
       "      <td>included</td>\n",
       "    </tr>\n",
       "    <tr>\n",
       "      <th>2076</th>\n",
       "      <td>MN</td>\n",
       "      <td>isoform1=junction:chr15:72492997-72499068:-|is...</td>\n",
       "      <td>included</td>\n",
       "    </tr>\n",
       "    <tr>\n",
       "      <th>2077</th>\n",
       "      <td>MN</td>\n",
       "      <td>isoform1=junction:chr15:72494962-72499068:-@ex...</td>\n",
       "      <td>bimodal</td>\n",
       "    </tr>\n",
       "    <tr>\n",
       "      <th>2078</th>\n",
       "      <td>MN</td>\n",
       "      <td>isoform1=junction:chr15:72511452-72523456:-|is...</td>\n",
       "      <td>excluded</td>\n",
       "    </tr>\n",
       "    <tr>\n",
       "      <th>10663</th>\n",
       "      <td>NPC</td>\n",
       "      <td>isoform1=junction:chr15:72492997-72499068:-|is...</td>\n",
       "      <td>included</td>\n",
       "    </tr>\n",
       "    <tr>\n",
       "      <th>10664</th>\n",
       "      <td>NPC</td>\n",
       "      <td>isoform1=junction:chr15:72492997-72499068:-|is...</td>\n",
       "      <td>included</td>\n",
       "    </tr>\n",
       "    <tr>\n",
       "      <th>10665</th>\n",
       "      <td>NPC</td>\n",
       "      <td>isoform1=junction:chr15:72494962-72499068:-@ex...</td>\n",
       "      <td>excluded</td>\n",
       "    </tr>\n",
       "    <tr>\n",
       "      <th>10666</th>\n",
       "      <td>NPC</td>\n",
       "      <td>isoform1=junction:chr15:72511452-72523456:-|is...</td>\n",
       "      <td>excluded</td>\n",
       "    </tr>\n",
       "    <tr>\n",
       "      <th>21017</th>\n",
       "      <td>iPSC</td>\n",
       "      <td>isoform1=junction:chr15:72492997-72499068:-|is...</td>\n",
       "      <td>included</td>\n",
       "    </tr>\n",
       "    <tr>\n",
       "      <th>21018</th>\n",
       "      <td>iPSC</td>\n",
       "      <td>isoform1=junction:chr15:72494962-72499068:-@ex...</td>\n",
       "      <td>excluded</td>\n",
       "    </tr>\n",
       "    <tr>\n",
       "      <th>21019</th>\n",
       "      <td>iPSC</td>\n",
       "      <td>isoform1=junction:chr15:72511452-72523456:-|is...</td>\n",
       "      <td>excluded</td>\n",
       "    </tr>\n",
       "  </tbody>\n",
       "</table>\n",
       "</div>"
      ],
      "text/plain": [
       "      phenotype                                           event_id  modality\n",
       "2075         MN  isoform1=junction:chr15:72492997-72499068:-|is...  included\n",
       "2076         MN  isoform1=junction:chr15:72492997-72499068:-|is...  included\n",
       "2077         MN  isoform1=junction:chr15:72494962-72499068:-@ex...   bimodal\n",
       "2078         MN  isoform1=junction:chr15:72511452-72523456:-|is...  excluded\n",
       "10663       NPC  isoform1=junction:chr15:72492997-72499068:-|is...  included\n",
       "10664       NPC  isoform1=junction:chr15:72492997-72499068:-|is...  included\n",
       "10665       NPC  isoform1=junction:chr15:72494962-72499068:-@ex...  excluded\n",
       "10666       NPC  isoform1=junction:chr15:72511452-72523456:-|is...  excluded\n",
       "21017      iPSC  isoform1=junction:chr15:72492997-72499068:-|is...  included\n",
       "21018      iPSC  isoform1=junction:chr15:72494962-72499068:-@ex...  excluded\n",
       "21019      iPSC  isoform1=junction:chr15:72511452-72523456:-|is...  excluded"
      ]
     },
     "execution_count": 13,
     "metadata": {},
     "output_type": "execute_result"
    }
   ],
   "source": [
    "modalities_tidy.loc[modalities_tidy.event_id.isin(pkm_events)]"
   ]
  },
  {
   "cell_type": "code",
   "execution_count": 14,
   "metadata": {
    "collapsed": false
   },
   "outputs": [
    {
     "data": {
      "text/html": [
       "<div>\n",
       "<table border=\"1\" class=\"dataframe\">\n",
       "  <thead>\n",
       "    <tr style=\"text-align: right;\">\n",
       "      <th></th>\n",
       "      <th>phenotype</th>\n",
       "      <th>modality</th>\n",
       "      <th># AS events</th>\n",
       "    </tr>\n",
       "  </thead>\n",
       "  <tbody>\n",
       "    <tr>\n",
       "      <th>0</th>\n",
       "      <td>MN</td>\n",
       "      <td>bimodal</td>\n",
       "      <td>1767</td>\n",
       "    </tr>\n",
       "    <tr>\n",
       "      <th>1</th>\n",
       "      <td>MN</td>\n",
       "      <td>excluded</td>\n",
       "      <td>2638</td>\n",
       "    </tr>\n",
       "    <tr>\n",
       "      <th>2</th>\n",
       "      <td>MN</td>\n",
       "      <td>included</td>\n",
       "      <td>3840</td>\n",
       "    </tr>\n",
       "    <tr>\n",
       "      <th>3</th>\n",
       "      <td>MN</td>\n",
       "      <td>uncategorized</td>\n",
       "      <td>17</td>\n",
       "    </tr>\n",
       "    <tr>\n",
       "      <th>4</th>\n",
       "      <td>NPC</td>\n",
       "      <td>bimodal</td>\n",
       "      <td>1979</td>\n",
       "    </tr>\n",
       "  </tbody>\n",
       "</table>\n",
       "</div>"
      ],
      "text/plain": [
       "  phenotype       modality  # AS events\n",
       "0        MN        bimodal         1767\n",
       "1        MN       excluded         2638\n",
       "2        MN       included         3840\n",
       "3        MN  uncategorized           17\n",
       "4       NPC        bimodal         1979"
      ]
     },
     "execution_count": 14,
     "metadata": {},
     "output_type": "execute_result"
    }
   ],
   "source": [
    "modalities_counts = modalities_tidy.groupby(['phenotype', 'modality']).count().reset_index()\n",
    "modalities_counts = modalities_counts.rename(columns={'event_id': '# AS events'})\n",
    "modalities_counts.head()"
   ]
  },
  {
   "cell_type": "code",
   "execution_count": 15,
   "metadata": {
    "collapsed": true
   },
   "outputs": [],
   "source": [
    "from anchor import MODALITY_ORDER, MODALITY_PALETTE, MODALITY_TO_COLOR"
   ]
  },
  {
   "cell_type": "code",
   "execution_count": 16,
   "metadata": {
    "collapsed": false
   },
   "outputs": [
    {
     "data": {
      "text/html": [
       "<div>\n",
       "<table border=\"1\" class=\"dataframe\">\n",
       "  <thead>\n",
       "    <tr style=\"text-align: right;\">\n",
       "      <th>phenotype</th>\n",
       "      <th>iPSC</th>\n",
       "      <th>NPC</th>\n",
       "      <th>MN</th>\n",
       "    </tr>\n",
       "    <tr>\n",
       "      <th>modality</th>\n",
       "      <th></th>\n",
       "      <th></th>\n",
       "      <th></th>\n",
       "    </tr>\n",
       "  </thead>\n",
       "  <tbody>\n",
       "    <tr>\n",
       "      <th>excluded</th>\n",
       "      <td>3721.0</td>\n",
       "      <td>2998.0</td>\n",
       "      <td>2638.0</td>\n",
       "    </tr>\n",
       "    <tr>\n",
       "      <th>bimodal</th>\n",
       "      <td>2690.0</td>\n",
       "      <td>1979.0</td>\n",
       "      <td>1767.0</td>\n",
       "    </tr>\n",
       "    <tr>\n",
       "      <th>included</th>\n",
       "      <td>6186.0</td>\n",
       "      <td>4571.0</td>\n",
       "      <td>3840.0</td>\n",
       "    </tr>\n",
       "    <tr>\n",
       "      <th>middle</th>\n",
       "      <td>1.0</td>\n",
       "      <td>NaN</td>\n",
       "      <td>NaN</td>\n",
       "    </tr>\n",
       "    <tr>\n",
       "      <th>uncategorized</th>\n",
       "      <td>73.0</td>\n",
       "      <td>21.0</td>\n",
       "      <td>17.0</td>\n",
       "    </tr>\n",
       "  </tbody>\n",
       "</table>\n",
       "</div>"
      ],
      "text/plain": [
       "phenotype        iPSC     NPC      MN\n",
       "modality                             \n",
       "excluded       3721.0  2998.0  2638.0\n",
       "bimodal        2690.0  1979.0  1767.0\n",
       "included       6186.0  4571.0  3840.0\n",
       "middle            1.0     NaN     NaN\n",
       "uncategorized    73.0    21.0    17.0"
      ]
     },
     "execution_count": 16,
     "metadata": {},
     "output_type": "execute_result"
    }
   ],
   "source": [
    "modalities_counts_2d = modalities_counts.pivot(index='phenotype', columns='modality', values='# AS events')\n",
    "modalities_counts_2d = modalities_counts_2d.reindex(columns=MODALITY_ORDER, index=study.phenotype_order)\n",
    "modalities_counts_2d = modalities_counts_2d.T\n",
    "modalities_counts_2d"
   ]
  },
  {
   "cell_type": "code",
   "execution_count": 17,
   "metadata": {
    "collapsed": false
   },
   "outputs": [
    {
     "data": {
      "image/png": "[encoded data removed]",
      "text/plain": [
       "<matplotlib.figure.Figure at 0x2b75174edd50>"
      ]
     },
     "metadata": {},
     "output_type": "display_data"
    }
   ],
   "source": [
    "fig, ax= plt.subplots(figsize=(2.75, 1.5))\n",
    "mask = modalities_counts_2d.isnull()\n",
    "sns.heatmap(modalities_counts_2d, annot=True, mask=mask, fmt='g', annot_kws=dict(size=8), cmap='Greys')\n",
    "ax.set(xlabel='', ylabel='')\n",
    "fig.tight_layout()\n",
    "fig.savefig('{}/modalities_counts_heatmap.pdf'.format(folder))"
   ]
  },
  {
   "cell_type": "code",
   "execution_count": 18,
   "metadata": {
    "collapsed": false
   },
   "outputs": [
    {
     "data": {
      "text/html": [
       "<div>\n",
       "<table border=\"1\" class=\"dataframe\">\n",
       "  <thead>\n",
       "    <tr style=\"text-align: right;\">\n",
       "      <th></th>\n",
       "      <th>phenotype</th>\n",
       "      <th>modality</th>\n",
       "      <th># AS events</th>\n",
       "      <th>percentage</th>\n",
       "    </tr>\n",
       "  </thead>\n",
       "  <tbody>\n",
       "    <tr>\n",
       "      <th>0</th>\n",
       "      <td>MN</td>\n",
       "      <td>bimodal</td>\n",
       "      <td>1767</td>\n",
       "      <td>21.387073</td>\n",
       "    </tr>\n",
       "    <tr>\n",
       "      <th>1</th>\n",
       "      <td>MN</td>\n",
       "      <td>excluded</td>\n",
       "      <td>2638</td>\n",
       "      <td>31.929315</td>\n",
       "    </tr>\n",
       "    <tr>\n",
       "      <th>2</th>\n",
       "      <td>MN</td>\n",
       "      <td>included</td>\n",
       "      <td>3840</td>\n",
       "      <td>46.477850</td>\n",
       "    </tr>\n",
       "    <tr>\n",
       "      <th>3</th>\n",
       "      <td>MN</td>\n",
       "      <td>uncategorized</td>\n",
       "      <td>17</td>\n",
       "      <td>0.205761</td>\n",
       "    </tr>\n",
       "    <tr>\n",
       "      <th>4</th>\n",
       "      <td>NPC</td>\n",
       "      <td>bimodal</td>\n",
       "      <td>1979</td>\n",
       "      <td>20.681367</td>\n",
       "    </tr>\n",
       "    <tr>\n",
       "      <th>5</th>\n",
       "      <td>NPC</td>\n",
       "      <td>excluded</td>\n",
       "      <td>2998</td>\n",
       "      <td>31.330338</td>\n",
       "    </tr>\n",
       "    <tr>\n",
       "      <th>6</th>\n",
       "      <td>NPC</td>\n",
       "      <td>included</td>\n",
       "      <td>4571</td>\n",
       "      <td>47.768837</td>\n",
       "    </tr>\n",
       "    <tr>\n",
       "      <th>7</th>\n",
       "      <td>NPC</td>\n",
       "      <td>uncategorized</td>\n",
       "      <td>21</td>\n",
       "      <td>0.219459</td>\n",
       "    </tr>\n",
       "    <tr>\n",
       "      <th>8</th>\n",
       "      <td>iPSC</td>\n",
       "      <td>bimodal</td>\n",
       "      <td>2690</td>\n",
       "      <td>21.229579</td>\n",
       "    </tr>\n",
       "    <tr>\n",
       "      <th>9</th>\n",
       "      <td>iPSC</td>\n",
       "      <td>excluded</td>\n",
       "      <td>3721</td>\n",
       "      <td>29.366269</td>\n",
       "    </tr>\n",
       "    <tr>\n",
       "      <th>10</th>\n",
       "      <td>iPSC</td>\n",
       "      <td>included</td>\n",
       "      <td>6186</td>\n",
       "      <td>48.820140</td>\n",
       "    </tr>\n",
       "    <tr>\n",
       "      <th>11</th>\n",
       "      <td>iPSC</td>\n",
       "      <td>middle</td>\n",
       "      <td>1</td>\n",
       "      <td>0.007892</td>\n",
       "    </tr>\n",
       "    <tr>\n",
       "      <th>12</th>\n",
       "      <td>iPSC</td>\n",
       "      <td>uncategorized</td>\n",
       "      <td>73</td>\n",
       "      <td>0.576119</td>\n",
       "    </tr>\n",
       "  </tbody>\n",
       "</table>\n",
       "</div>"
      ],
      "text/plain": [
       "   phenotype       modality  # AS events  percentage\n",
       "0         MN        bimodal         1767   21.387073\n",
       "1         MN       excluded         2638   31.929315\n",
       "2         MN       included         3840   46.477850\n",
       "3         MN  uncategorized           17    0.205761\n",
       "4        NPC        bimodal         1979   20.681367\n",
       "5        NPC       excluded         2998   31.330338\n",
       "6        NPC       included         4571   47.768837\n",
       "7        NPC  uncategorized           21    0.219459\n",
       "8       iPSC        bimodal         2690   21.229579\n",
       "9       iPSC       excluded         3721   29.366269\n",
       "10      iPSC       included         6186   48.820140\n",
       "11      iPSC         middle            1    0.007892\n",
       "12      iPSC  uncategorized           73    0.576119"
      ]
     },
     "execution_count": 18,
     "metadata": {},
     "output_type": "execute_result"
    }
   ],
   "source": [
    "modalities_counts['percentage'] = 100*modalities_counts.groupby('phenotype')['# AS events'].apply(lambda x: x/x.sum())\n",
    "modalities_counts"
   ]
  },
  {
   "cell_type": "markdown",
   "metadata": {},
   "source": [
    "## Barplots\n",
    "### Split axes"
   ]
  },
  {
   "cell_type": "code",
   "execution_count": 19,
   "metadata": {
    "collapsed": false
   },
   "outputs": [
    {
     "name": "stderr",
     "output_type": "stream",
     "text": [
      "/home/obotvinnik/anaconda/lib/python2.7/site-packages/seaborn/categorical.py:2894: UserWarning: The `x_order` parameter has been renamed `order`\n",
      "  UserWarning)\n"
     ]
    },
    {
     "data": {
      "image/png": "[encoded data removed]",
      "text/plain": [
       "<matplotlib.figure.Figure at 0x2b729c805650>"
      ]
     },
     "metadata": {},
     "output_type": "display_data"
    }
   ],
   "source": [
    "sns.set(style='ticks')\n",
    "fig, axes = plt.subplots(nrows=2, sharex=True, figsize=(2, 2), gridspec_kw=dict(hspace=0.1, height_ratios=[0.2, 0.8]))\n",
    "\n",
    "ax = axes[0]\n",
    "sns.barplot(x='phenotype', hue='modality', y='percentage', data=modalities_counts, ax=ax,\n",
    "            hue_order=MODALITY_ORDER, palette=MODALITY_PALETTE, x_order=study.phenotype_order)\n",
    "ax.legend_.set_visible(False)\n",
    "ax.locator_params('y', nbins=4)\n",
    "sns.despine(ax=ax, bottom=True)\n",
    "ax.tick_params(axis='x', bottom='off')\n",
    "ax.set(xticks=[], xlabel='', ylim=(10, 65), ylabel='') #yticks=[10, 50, ])\n",
    "\n",
    "ax = axes[1]\n",
    "sns.barplot(x='phenotype', hue='modality', y='percentage', data=modalities_counts, ax=ax,\n",
    "           hue_order=MODALITY_ORDER, palette=MODALITY_PALETTE, x_order=study.phenotype_order)\n",
    "ax.set(ylim=(0, 0.5), ylabel='Percentage of AS Events', \n",
    "       xlabel='')\n",
    "ax.legend_.set_visible(False)\n",
    "ax.locator_params('y', nbins=4)\n",
    "sns.despine(ax=ax)\n",
    "# fig.tight_layout()\n",
    "fig.savefig('{}/modalities_barplot.pdf'.format(folder))"
   ]
  },
  {
   "cell_type": "markdown",
   "metadata": {},
   "source": [
    "### Large plot with zoom"
   ]
  },
  {
   "cell_type": "code",
   "execution_count": 20,
   "metadata": {
    "collapsed": false
   },
   "outputs": [
    {
     "data": {
      "image/png": "[encoded data removed]",
      "text/plain": [
       "<matplotlib.figure.Figure at 0x2b72ef4e4950>"
      ]
     },
     "metadata": {},
     "output_type": "display_data"
    }
   ],
   "source": [
    "fig, ax = plt.subplots(figsize=(2, 1.5))\n",
    "\n",
    "# ax = axes[0]\n",
    "sns.barplot(x='phenotype', hue='modality', y='percentage', data=modalities_counts, ax=ax,\n",
    "            hue_order=MODALITY_ORDER, palette=MODALITY_PALETTE, x_order=study.phenotype_order, zorder=-1)\n",
    "ax.legend_.set_visible(False)\n",
    "ax.locator_params('y', nbins=4)\n",
    "ax.set(ylabel='% AS Exons')\n",
    "ax.grid(axis='y', color='white', zorder=100)\n",
    "sns.despine()\n",
    "fig.savefig('{}/modalities_barplot.pdf'.format(folder))\n",
    "\n",
    "# ax.set(ylim=(0, 0.3))\n",
    "# # ax.grid(axis='y', color='grey', zorder=np.inf)\n",
    "# fig.savefig('{}/modalities_barplot_zoom.pdf'.format(folder))\n"
   ]
  },
  {
   "cell_type": "markdown",
   "metadata": {
    "collapsed": true
   },
   "source": [
    "\n",
    "## Compare with the non-outlier calculation"
   ]
  },
  {
   "cell_type": "code",
   "execution_count": 21,
   "metadata": {
    "collapsed": false
   },
   "outputs": [],
   "source": [
    "non_outlier_counts = study.supplemental.modalities_tidy.groupby(['phenotype', 'modality']).size()"
   ]
  }
 ],
 "metadata": {
  "kernelspec": {
   "display_name": "Python 2",
   "language": "python",
   "name": "python2"
  },
  "language_info": {
   "codemirror_mode": {
    "name": "ipython",
    "version": 2
   },
   "file_extension": ".py",
   "mimetype": "text/x-python",
   "name": "python",
   "nbconvert_exporter": "python",
   "pygments_lexer": "ipython2",
   "version": "2.7.11"
  }
 },
 "nbformat": 4,
 "nbformat_minor": 0
}
