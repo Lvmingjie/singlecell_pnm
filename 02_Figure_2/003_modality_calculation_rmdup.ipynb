{
 "cells": [
  {
   "cell_type": "code",
   "execution_count": 1,
   "metadata": {
    "collapsed": false
   },
   "outputs": [
    {
     "name": "stderr",
     "output_type": "stream",
     "text": [
      "/home/obotvinnik/anaconda/lib/python2.7/site-packages/sklearn/cross_validation.py:44: DeprecationWarning: This module was deprecated in version 0.18 in favor of the model_selection module into which all the refactored classes and functions are moved. Also note that the interface of the new CV iterators are different from that of this module. This module will be removed in 0.20.\n",
      "  \"This module will be removed in 0.20.\", DeprecationWarning)\n",
      "/home/obotvinnik/workspace-git/flotilla/flotilla/__init__.py:65: DtypeWarning: Columns (19) have mixed types. Specify dtype option on import or set low_memory=False.\n",
      "  load_species_data=load_species_data)\n"
     ]
    },
    {
     "name": "stdout",
     "output_type": "stream",
     "text": [
      "2017-01-05 12:42:21\tReading datapackage from /projects/ps-yeolab/obotvinnik/flotilla_projects/singlecell_pnm_figure1_supplementary_post_splicing_filtering/datapackage.json\n",
      "2017-01-05 12:42:21\tParsing datapackage to create a Study object\n",
      "https://s3-us-west-2.amazonaws.com/flotilla-projects/ercc/ERCC_Controls.txt has not been downloaded before.\n",
      "\tDownloading now to /home/obotvinnik/flotilla_projects/hg19/ERCC_Controls.txt\n",
      "2017-01-05 12:42:47 \tInitializing Study\n",
      "2017-01-05 12:42:47 \tInitializing Predictor configuration manager for Study\n",
      "2017-01-05 12:42:47\tPredictor ExtraTreesClassifier is of type <class 'sklearn.ensemble.forest.ExtraTreesClassifier'>\n",
      "2017-01-05 12:42:47\tAdded ExtraTreesClassifier to default predictors\n",
      "2017-01-05 12:42:47\tPredictor ExtraTreesRegressor is of type <class 'sklearn.ensemble.forest.ExtraTreesRegressor'>\n",
      "2017-01-05 12:42:47\tAdded ExtraTreesRegressor to default predictors\n",
      "2017-01-05 12:42:47\tPredictor GradientBoostingClassifier is of type <class 'sklearn.ensemble.gradient_boosting.GradientBoostingClassifier'>\n",
      "2017-01-05 12:42:47\tAdded GradientBoostingClassifier to default predictors\n",
      "2017-01-05 12:42:47\tPredictor GradientBoostingRegressor is of type <class 'sklearn.ensemble.gradient_boosting.GradientBoostingRegressor'>\n",
      "2017-01-05 12:42:47\tAdded GradientBoostingRegressor to default predictors\n",
      "2017-01-05 12:42:51 \tBuilding Gene Ontology database...\n",
      "2017-01-05 12:42:59 \t\tDone\n",
      "2017-01-05 12:42:59 \tLoading metadata\n",
      "2017-01-05 12:42:59\tLoading expression data\n",
      "2017-01-05 12:42:59\tInitializing expression\n",
      "2017-01-05 12:43:00\tDone initializing expression\n",
      "2017-01-05 12:43:02\tLoading splicing data\n",
      "2017-01-05 12:43:02\tInitializing splicing\n",
      "2017-01-05 12:43:02\tDone initializing splicing\n",
      "2017-01-05 12:43:02\tSuccessfully initialized a Study object!\n",
      "mkdir: cannot create directory `figures/001_modality_calculation_bayesian': File exists\n"
     ]
    },
    {
     "name": "stderr",
     "output_type": "stream",
     "text": [
      "Error loading species hg19 data: HTTP Error 404: Not Found"
     ]
    }
   ],
   "source": [
    "%load_ext autoreload\n",
    "%autoreload 2\n",
    "\n",
    "import matplotlib.pyplot as plt\n",
    "import seaborn as sns\n",
    "import numpy as np\n",
    "import pandas as pd\n",
    "\n",
    "sns.set(style='ticks', context='paper', rc={'font.sans-serif':'Arial', 'pdf.fonttype': 42})\n",
    "\n",
    "%matplotlib inline\n",
    "\n",
    "import flotilla\n",
    "\n",
    "\n",
    "flotilla_dir = '/projects/ps-yeolab/obotvinnik/flotilla_projects'\n",
    "\n",
    "study = flotilla.embark('singlecell_pnm_figure1_supplementary_post_splicing_filtering', flotilla_dir=flotilla_dir)\n",
    "\n",
    "not_outliers = study.splicing.singles.index.difference(study.splicing.outliers.index)\n",
    "folder = 'figures/001_modality_calculation_bayesian'\n",
    "! mkdir $folder"
   ]
  },
  {
   "cell_type": "code",
   "execution_count": 31,
   "metadata": {
    "collapsed": true
   },
   "outputs": [],
   "source": [
    "figure_folder = 'figures/003_modality_calculation_rmdup'\n",
    "! mkdir -p $figure_folder"
   ]
  },
  {
   "cell_type": "code",
   "execution_count": 4,
   "metadata": {
    "collapsed": false
   },
   "outputs": [
    {
     "name": "stdout",
     "output_type": "stream",
     "text": [
      "(26453, 299)\n"
     ]
    },
    {
     "data": {
      "text/html": [
       "<div>\n",
       "<table border=\"1\" class=\"dataframe\">\n",
       "  <thead>\n",
       "    <tr style=\"text-align: right;\">\n",
       "      <th></th>\n",
       "      <th>CVN_01_R1.fastq.gz.polyATrim.adapterTrim.rmRep.sorted.rg.bam</th>\n",
       "      <th>CVN_02_R1.fastq.gz.polyATrim.adapterTrim.rmRep.sorted.rg.bam</th>\n",
       "      <th>CVN_03_R1.fastq.gz.polyATrim.adapterTrim.rmRep.sorted.rg.bam</th>\n",
       "      <th>CVN_04_R1.fastq.gz.polyATrim.adapterTrim.rmRep.sorted.rg.bam</th>\n",
       "      <th>CVN_05_R1.fastq.gz.polyATrim.adapterTrim.rmRep.sorted.rg.bam</th>\n",
       "      <th>CVN_06_R1.fastq.gz.polyATrim.adapterTrim.rmRep.sorted.rg.bam</th>\n",
       "      <th>CVN_07_R1.fastq.gz.polyATrim.adapterTrim.rmRep.sorted.rg.bam</th>\n",
       "      <th>CVN_08_R1.fastq.gz.polyATrim.adapterTrim.rmRep.sorted.rg.bam</th>\n",
       "      <th>CVN_09_R1.fastq.gz.polyATrim.adapterTrim.rmRep.sorted.rg.bam</th>\n",
       "      <th>CVN_10_R1.fastq.gz.polyATrim.adapterTrim.rmRep.sorted.rg.bam</th>\n",
       "      <th>...</th>\n",
       "      <th>P8_06_R1.fastq.gz.polyATrim.adapterTrim.rmRep.sorted.rg.bam</th>\n",
       "      <th>P8_07_R1.fastq.gz.polyATrim.adapterTrim.rmRep.sorted.rg.bam</th>\n",
       "      <th>P8_09_R1.fastq.gz.polyATrim.adapterTrim.rmRep.sorted.rg.bam</th>\n",
       "      <th>P8_10_R1.fastq.gz.polyATrim.adapterTrim.rmRep.sorted.rg.bam</th>\n",
       "      <th>P8_11_R1.fastq.gz.polyATrim.adapterTrim.rmRep.sorted.rg.bam</th>\n",
       "      <th>P8_12_R1.fastq.gz.polyATrim.adapterTrim.rmRep.sorted.rg.bam</th>\n",
       "      <th>P9_01_R1.fastq.gz.polyATrim.adapterTrim.rmRep.sorted.bam</th>\n",
       "      <th>P9_02_R1.fastq.gz.polyATrim.adapterTrim.rmRep.sorted.bam</th>\n",
       "      <th>P9_03_R1.fastq.gz.polyATrim.adapterTrim.rmRep.sorted.rg.bam</th>\n",
       "      <th>P9_04_R1.fastq.gz.polyATrim.adapterTrim.rmRep.sorted.bam</th>\n",
       "    </tr>\n",
       "    <tr>\n",
       "      <th>event_id</th>\n",
       "      <th></th>\n",
       "      <th></th>\n",
       "      <th></th>\n",
       "      <th></th>\n",
       "      <th></th>\n",
       "      <th></th>\n",
       "      <th></th>\n",
       "      <th></th>\n",
       "      <th></th>\n",
       "      <th></th>\n",
       "      <th></th>\n",
       "      <th></th>\n",
       "      <th></th>\n",
       "      <th></th>\n",
       "      <th></th>\n",
       "      <th></th>\n",
       "      <th></th>\n",
       "      <th></th>\n",
       "      <th></th>\n",
       "      <th></th>\n",
       "      <th></th>\n",
       "    </tr>\n",
       "  </thead>\n",
       "  <tbody>\n",
       "    <tr>\n",
       "      <th>isoform1=junction:chr10:100189400-100190327:-|isoform2=junction:chr10:100189647-100190327:-@exon:chr10:100189548-100189646:-@junction:chr10:100189400-100189547:-</th>\n",
       "      <td>NaN</td>\n",
       "      <td>NaN</td>\n",
       "      <td>NaN</td>\n",
       "      <td>NaN</td>\n",
       "      <td>NaN</td>\n",
       "      <td>NaN</td>\n",
       "      <td>NaN</td>\n",
       "      <td>NaN</td>\n",
       "      <td>NaN</td>\n",
       "      <td>NaN</td>\n",
       "      <td>...</td>\n",
       "      <td>NaN</td>\n",
       "      <td>NaN</td>\n",
       "      <td>NaN</td>\n",
       "      <td>NaN</td>\n",
       "      <td>NaN</td>\n",
       "      <td>NaN</td>\n",
       "      <td>NaN</td>\n",
       "      <td>NaN</td>\n",
       "      <td>NaN</td>\n",
       "      <td>NaN</td>\n",
       "    </tr>\n",
       "    <tr>\n",
       "      <th>isoform1=junction:chr10:100190428-100193696:-|isoform2=junction:chr10:100191049-100193696:-@exon:chr10:100190888-100191048:-@junction:chr10:100190428-100190887:-</th>\n",
       "      <td>NaN</td>\n",
       "      <td>NaN</td>\n",
       "      <td>NaN</td>\n",
       "      <td>NaN</td>\n",
       "      <td>NaN</td>\n",
       "      <td>NaN</td>\n",
       "      <td>NaN</td>\n",
       "      <td>NaN</td>\n",
       "      <td>NaN</td>\n",
       "      <td>NaN</td>\n",
       "      <td>...</td>\n",
       "      <td>NaN</td>\n",
       "      <td>NaN</td>\n",
       "      <td>NaN</td>\n",
       "      <td>NaN</td>\n",
       "      <td>NaN</td>\n",
       "      <td>NaN</td>\n",
       "      <td>NaN</td>\n",
       "      <td>NaN</td>\n",
       "      <td>NaN</td>\n",
       "      <td>NaN</td>\n",
       "    </tr>\n",
       "    <tr>\n",
       "      <th>isoform1=junction:chr10:100193849-100195391:-|isoform2=junction:chr10:100195172-100195391:-@exon:chr10:100195029-100195171:-@junction:chr10:100193849-100195028:-</th>\n",
       "      <td>NaN</td>\n",
       "      <td>NaN</td>\n",
       "      <td>NaN</td>\n",
       "      <td>NaN</td>\n",
       "      <td>NaN</td>\n",
       "      <td>NaN</td>\n",
       "      <td>NaN</td>\n",
       "      <td>NaN</td>\n",
       "      <td>NaN</td>\n",
       "      <td>NaN</td>\n",
       "      <td>...</td>\n",
       "      <td>NaN</td>\n",
       "      <td>NaN</td>\n",
       "      <td>NaN</td>\n",
       "      <td>NaN</td>\n",
       "      <td>NaN</td>\n",
       "      <td>NaN</td>\n",
       "      <td>NaN</td>\n",
       "      <td>NaN</td>\n",
       "      <td>NaN</td>\n",
       "      <td>NaN</td>\n",
       "    </tr>\n",
       "    <tr>\n",
       "      <th>isoform1=junction:chr10:100193849-100195391:-|isoform2=junction:chr10:100195172-100195391:-@novel_exon:chr10:100195101-100195171:-@junction:chr10:100193849-100195100:-</th>\n",
       "      <td>NaN</td>\n",
       "      <td>NaN</td>\n",
       "      <td>NaN</td>\n",
       "      <td>NaN</td>\n",
       "      <td>NaN</td>\n",
       "      <td>NaN</td>\n",
       "      <td>NaN</td>\n",
       "      <td>NaN</td>\n",
       "      <td>NaN</td>\n",
       "      <td>NaN</td>\n",
       "      <td>...</td>\n",
       "      <td>NaN</td>\n",
       "      <td>NaN</td>\n",
       "      <td>NaN</td>\n",
       "      <td>NaN</td>\n",
       "      <td>NaN</td>\n",
       "      <td>NaN</td>\n",
       "      <td>NaN</td>\n",
       "      <td>NaN</td>\n",
       "      <td>NaN</td>\n",
       "      <td>NaN</td>\n",
       "    </tr>\n",
       "    <tr>\n",
       "      <th>isoform1=junction:chr10:101163392-101165512:-|isoform2=junction:chr10:101163632-101165512:-@exon:chr10:101163481-101163631:-@junction:chr10:101163392-101163480:-</th>\n",
       "      <td>NaN</td>\n",
       "      <td>NaN</td>\n",
       "      <td>1.0</td>\n",
       "      <td>NaN</td>\n",
       "      <td>NaN</td>\n",
       "      <td>NaN</td>\n",
       "      <td>1.0</td>\n",
       "      <td>NaN</td>\n",
       "      <td>NaN</td>\n",
       "      <td>NaN</td>\n",
       "      <td>...</td>\n",
       "      <td>NaN</td>\n",
       "      <td>NaN</td>\n",
       "      <td>NaN</td>\n",
       "      <td>NaN</td>\n",
       "      <td>NaN</td>\n",
       "      <td>NaN</td>\n",
       "      <td>NaN</td>\n",
       "      <td>NaN</td>\n",
       "      <td>NaN</td>\n",
       "      <td>NaN</td>\n",
       "    </tr>\n",
       "  </tbody>\n",
       "</table>\n",
       "<p>5 rows × 299 columns</p>\n",
       "</div>"
      ],
      "text/plain": [
       "                                                    CVN_01_R1.fastq.gz.polyATrim.adapterTrim.rmRep.sorted.rg.bam  \\\n",
       "event_id                                                                                                           \n",
       "isoform1=junction:chr10:100189400-100190327:-|i...                                                NaN              \n",
       "isoform1=junction:chr10:100190428-100193696:-|i...                                                NaN              \n",
       "isoform1=junction:chr10:100193849-100195391:-|i...                                                NaN              \n",
       "isoform1=junction:chr10:100193849-100195391:-|i...                                                NaN              \n",
       "isoform1=junction:chr10:101163392-101165512:-|i...                                                NaN              \n",
       "\n",
       "                                                    CVN_02_R1.fastq.gz.polyATrim.adapterTrim.rmRep.sorted.rg.bam  \\\n",
       "event_id                                                                                                           \n",
       "isoform1=junction:chr10:100189400-100190327:-|i...                                                NaN              \n",
       "isoform1=junction:chr10:100190428-100193696:-|i...                                                NaN              \n",
       "isoform1=junction:chr10:100193849-100195391:-|i...                                                NaN              \n",
       "isoform1=junction:chr10:100193849-100195391:-|i...                                                NaN              \n",
       "isoform1=junction:chr10:101163392-101165512:-|i...                                                NaN              \n",
       "\n",
       "                                                    CVN_03_R1.fastq.gz.polyATrim.adapterTrim.rmRep.sorted.rg.bam  \\\n",
       "event_id                                                                                                           \n",
       "isoform1=junction:chr10:100189400-100190327:-|i...                                                NaN              \n",
       "isoform1=junction:chr10:100190428-100193696:-|i...                                                NaN              \n",
       "isoform1=junction:chr10:100193849-100195391:-|i...                                                NaN              \n",
       "isoform1=junction:chr10:100193849-100195391:-|i...                                                NaN              \n",
       "isoform1=junction:chr10:101163392-101165512:-|i...                                                1.0              \n",
       "\n",
       "                                                    CVN_04_R1.fastq.gz.polyATrim.adapterTrim.rmRep.sorted.rg.bam  \\\n",
       "event_id                                                                                                           \n",
       "isoform1=junction:chr10:100189400-100190327:-|i...                                                NaN              \n",
       "isoform1=junction:chr10:100190428-100193696:-|i...                                                NaN              \n",
       "isoform1=junction:chr10:100193849-100195391:-|i...                                                NaN              \n",
       "isoform1=junction:chr10:100193849-100195391:-|i...                                                NaN              \n",
       "isoform1=junction:chr10:101163392-101165512:-|i...                                                NaN              \n",
       "\n",
       "                                                    CVN_05_R1.fastq.gz.polyATrim.adapterTrim.rmRep.sorted.rg.bam  \\\n",
       "event_id                                                                                                           \n",
       "isoform1=junction:chr10:100189400-100190327:-|i...                                                NaN              \n",
       "isoform1=junction:chr10:100190428-100193696:-|i...                                                NaN              \n",
       "isoform1=junction:chr10:100193849-100195391:-|i...                                                NaN              \n",
       "isoform1=junction:chr10:100193849-100195391:-|i...                                                NaN              \n",
       "isoform1=junction:chr10:101163392-101165512:-|i...                                                NaN              \n",
       "\n",
       "                                                    CVN_06_R1.fastq.gz.polyATrim.adapterTrim.rmRep.sorted.rg.bam  \\\n",
       "event_id                                                                                                           \n",
       "isoform1=junction:chr10:100189400-100190327:-|i...                                                NaN              \n",
       "isoform1=junction:chr10:100190428-100193696:-|i...                                                NaN              \n",
       "isoform1=junction:chr10:100193849-100195391:-|i...                                                NaN              \n",
       "isoform1=junction:chr10:100193849-100195391:-|i...                                                NaN              \n",
       "isoform1=junction:chr10:101163392-101165512:-|i...                                                NaN              \n",
       "\n",
       "                                                    CVN_07_R1.fastq.gz.polyATrim.adapterTrim.rmRep.sorted.rg.bam  \\\n",
       "event_id                                                                                                           \n",
       "isoform1=junction:chr10:100189400-100190327:-|i...                                                NaN              \n",
       "isoform1=junction:chr10:100190428-100193696:-|i...                                                NaN              \n",
       "isoform1=junction:chr10:100193849-100195391:-|i...                                                NaN              \n",
       "isoform1=junction:chr10:100193849-100195391:-|i...                                                NaN              \n",
       "isoform1=junction:chr10:101163392-101165512:-|i...                                                1.0              \n",
       "\n",
       "                                                    CVN_08_R1.fastq.gz.polyATrim.adapterTrim.rmRep.sorted.rg.bam  \\\n",
       "event_id                                                                                                           \n",
       "isoform1=junction:chr10:100189400-100190327:-|i...                                                NaN              \n",
       "isoform1=junction:chr10:100190428-100193696:-|i...                                                NaN              \n",
       "isoform1=junction:chr10:100193849-100195391:-|i...                                                NaN              \n",
       "isoform1=junction:chr10:100193849-100195391:-|i...                                                NaN              \n",
       "isoform1=junction:chr10:101163392-101165512:-|i...                                                NaN              \n",
       "\n",
       "                                                    CVN_09_R1.fastq.gz.polyATrim.adapterTrim.rmRep.sorted.rg.bam  \\\n",
       "event_id                                                                                                           \n",
       "isoform1=junction:chr10:100189400-100190327:-|i...                                                NaN              \n",
       "isoform1=junction:chr10:100190428-100193696:-|i...                                                NaN              \n",
       "isoform1=junction:chr10:100193849-100195391:-|i...                                                NaN              \n",
       "isoform1=junction:chr10:100193849-100195391:-|i...                                                NaN              \n",
       "isoform1=junction:chr10:101163392-101165512:-|i...                                                NaN              \n",
       "\n",
       "                                                    CVN_10_R1.fastq.gz.polyATrim.adapterTrim.rmRep.sorted.rg.bam  \\\n",
       "event_id                                                                                                           \n",
       "isoform1=junction:chr10:100189400-100190327:-|i...                                                NaN              \n",
       "isoform1=junction:chr10:100190428-100193696:-|i...                                                NaN              \n",
       "isoform1=junction:chr10:100193849-100195391:-|i...                                                NaN              \n",
       "isoform1=junction:chr10:100193849-100195391:-|i...                                                NaN              \n",
       "isoform1=junction:chr10:101163392-101165512:-|i...                                                NaN              \n",
       "\n",
       "                                                                              ...                             \\\n",
       "event_id                                                                      ...                              \n",
       "isoform1=junction:chr10:100189400-100190327:-|i...                            ...                              \n",
       "isoform1=junction:chr10:100190428-100193696:-|i...                            ...                              \n",
       "isoform1=junction:chr10:100193849-100195391:-|i...                            ...                              \n",
       "isoform1=junction:chr10:100193849-100195391:-|i...                            ...                              \n",
       "isoform1=junction:chr10:101163392-101165512:-|i...                            ...                              \n",
       "\n",
       "                                                    P8_06_R1.fastq.gz.polyATrim.adapterTrim.rmRep.sorted.rg.bam  \\\n",
       "event_id                                                                                                          \n",
       "isoform1=junction:chr10:100189400-100190327:-|i...                                                NaN             \n",
       "isoform1=junction:chr10:100190428-100193696:-|i...                                                NaN             \n",
       "isoform1=junction:chr10:100193849-100195391:-|i...                                                NaN             \n",
       "isoform1=junction:chr10:100193849-100195391:-|i...                                                NaN             \n",
       "isoform1=junction:chr10:101163392-101165512:-|i...                                                NaN             \n",
       "\n",
       "                                                    P8_07_R1.fastq.gz.polyATrim.adapterTrim.rmRep.sorted.rg.bam  \\\n",
       "event_id                                                                                                          \n",
       "isoform1=junction:chr10:100189400-100190327:-|i...                                                NaN             \n",
       "isoform1=junction:chr10:100190428-100193696:-|i...                                                NaN             \n",
       "isoform1=junction:chr10:100193849-100195391:-|i...                                                NaN             \n",
       "isoform1=junction:chr10:100193849-100195391:-|i...                                                NaN             \n",
       "isoform1=junction:chr10:101163392-101165512:-|i...                                                NaN             \n",
       "\n",
       "                                                    P8_09_R1.fastq.gz.polyATrim.adapterTrim.rmRep.sorted.rg.bam  \\\n",
       "event_id                                                                                                          \n",
       "isoform1=junction:chr10:100189400-100190327:-|i...                                                NaN             \n",
       "isoform1=junction:chr10:100190428-100193696:-|i...                                                NaN             \n",
       "isoform1=junction:chr10:100193849-100195391:-|i...                                                NaN             \n",
       "isoform1=junction:chr10:100193849-100195391:-|i...                                                NaN             \n",
       "isoform1=junction:chr10:101163392-101165512:-|i...                                                NaN             \n",
       "\n",
       "                                                    P8_10_R1.fastq.gz.polyATrim.adapterTrim.rmRep.sorted.rg.bam  \\\n",
       "event_id                                                                                                          \n",
       "isoform1=junction:chr10:100189400-100190327:-|i...                                                NaN             \n",
       "isoform1=junction:chr10:100190428-100193696:-|i...                                                NaN             \n",
       "isoform1=junction:chr10:100193849-100195391:-|i...                                                NaN             \n",
       "isoform1=junction:chr10:100193849-100195391:-|i...                                                NaN             \n",
       "isoform1=junction:chr10:101163392-101165512:-|i...                                                NaN             \n",
       "\n",
       "                                                    P8_11_R1.fastq.gz.polyATrim.adapterTrim.rmRep.sorted.rg.bam  \\\n",
       "event_id                                                                                                          \n",
       "isoform1=junction:chr10:100189400-100190327:-|i...                                                NaN             \n",
       "isoform1=junction:chr10:100190428-100193696:-|i...                                                NaN             \n",
       "isoform1=junction:chr10:100193849-100195391:-|i...                                                NaN             \n",
       "isoform1=junction:chr10:100193849-100195391:-|i...                                                NaN             \n",
       "isoform1=junction:chr10:101163392-101165512:-|i...                                                NaN             \n",
       "\n",
       "                                                    P8_12_R1.fastq.gz.polyATrim.adapterTrim.rmRep.sorted.rg.bam  \\\n",
       "event_id                                                                                                          \n",
       "isoform1=junction:chr10:100189400-100190327:-|i...                                                NaN             \n",
       "isoform1=junction:chr10:100190428-100193696:-|i...                                                NaN             \n",
       "isoform1=junction:chr10:100193849-100195391:-|i...                                                NaN             \n",
       "isoform1=junction:chr10:100193849-100195391:-|i...                                                NaN             \n",
       "isoform1=junction:chr10:101163392-101165512:-|i...                                                NaN             \n",
       "\n",
       "                                                    P9_01_R1.fastq.gz.polyATrim.adapterTrim.rmRep.sorted.bam  \\\n",
       "event_id                                                                                                       \n",
       "isoform1=junction:chr10:100189400-100190327:-|i...                                                NaN          \n",
       "isoform1=junction:chr10:100190428-100193696:-|i...                                                NaN          \n",
       "isoform1=junction:chr10:100193849-100195391:-|i...                                                NaN          \n",
       "isoform1=junction:chr10:100193849-100195391:-|i...                                                NaN          \n",
       "isoform1=junction:chr10:101163392-101165512:-|i...                                                NaN          \n",
       "\n",
       "                                                    P9_02_R1.fastq.gz.polyATrim.adapterTrim.rmRep.sorted.bam  \\\n",
       "event_id                                                                                                       \n",
       "isoform1=junction:chr10:100189400-100190327:-|i...                                                NaN          \n",
       "isoform1=junction:chr10:100190428-100193696:-|i...                                                NaN          \n",
       "isoform1=junction:chr10:100193849-100195391:-|i...                                                NaN          \n",
       "isoform1=junction:chr10:100193849-100195391:-|i...                                                NaN          \n",
       "isoform1=junction:chr10:101163392-101165512:-|i...                                                NaN          \n",
       "\n",
       "                                                    P9_03_R1.fastq.gz.polyATrim.adapterTrim.rmRep.sorted.rg.bam  \\\n",
       "event_id                                                                                                          \n",
       "isoform1=junction:chr10:100189400-100190327:-|i...                                                NaN             \n",
       "isoform1=junction:chr10:100190428-100193696:-|i...                                                NaN             \n",
       "isoform1=junction:chr10:100193849-100195391:-|i...                                                NaN             \n",
       "isoform1=junction:chr10:100193849-100195391:-|i...                                                NaN             \n",
       "isoform1=junction:chr10:101163392-101165512:-|i...                                                NaN             \n",
       "\n",
       "                                                    P9_04_R1.fastq.gz.polyATrim.adapterTrim.rmRep.sorted.bam  \n",
       "event_id                                                                                                      \n",
       "isoform1=junction:chr10:100189400-100190327:-|i...                                                NaN         \n",
       "isoform1=junction:chr10:100190428-100193696:-|i...                                                NaN         \n",
       "isoform1=junction:chr10:100193849-100195391:-|i...                                                NaN         \n",
       "isoform1=junction:chr10:100193849-100195391:-|i...                                                NaN         \n",
       "isoform1=junction:chr10:101163392-101165512:-|i...                                                NaN         \n",
       "\n",
       "[5 rows x 299 columns]"
      ]
     },
     "execution_count": 4,
     "metadata": {},
     "output_type": "execute_result"
    }
   ],
   "source": [
    "outrigger_rmdup_folder = '/projects/ps-yeolab/obotvinnik/singlecell_pnms/csvs_for_paper/outrigger_v2_rmdup_stranded'\n",
    "\n",
    "psi_rmdup = pd.read_csv('{}/psi/outrigger_psi.csv'.format(outrigger_rmdup_folder), index_col=0)\n",
    "print(psi_rmdup.shape)\n",
    "psi_rmdup.head()"
   ]
  },
  {
   "cell_type": "code",
   "execution_count": 5,
   "metadata": {
    "collapsed": false
   },
   "outputs": [
    {
     "data": {
      "text/plain": [
       "array(['CVN_01', 'CVN_02', 'CVN_03', 'CVN_04', 'CVN_05', 'CVN_06',\n",
       "       'CVN_07', 'CVN_08', 'CVN_09', 'CVN_10', 'CVN_11', 'CVN_12',\n",
       "       'CVN_13', 'CVN_14', 'CVN_15', 'CVN_16', 'CVN_17', 'CVN_18',\n",
       "       'CVN_19', 'CVN_20', 'CVN_21', 'CVN_22', 'CVN_23', 'CVN_24',\n",
       "       'CVN_25', 'CVN_26', 'CVN_27', 'CVN_28', 'CVN_29', 'CVN_30',\n",
       "       'CVN_31', 'CVN_32', 'CVN_33', 'CVN_34', 'CVN_35', 'M1_01', 'M1_02',\n",
       "       'M1_03', 'M1_04', 'M1_05', 'M1_06', 'M1_07', 'M1_08', 'M1_09',\n",
       "       'M1_10', 'M1_11', 'M1_12', 'M2_01', 'M2_02', 'M2_03', 'M2_04',\n",
       "       'M2_05', 'M2_06', 'M2_07', 'M2_08', 'M2_09', 'M2_10', 'M2_11',\n",
       "       'M2_12', 'M2nd_01', 'M2nd_02', 'M2nd_03', 'M2nd_04', 'M2nd_05',\n",
       "       'M2nd_06', 'M2nd_07', 'M2nd_08', 'M2nd_09', 'M2nd_10', 'M2nd_11',\n",
       "       'M2nd_12', 'M2nd_13', 'M2nd_14', 'M2nd_15', 'M2nd_16', 'M2nd_17',\n",
       "       'M2nd_18', 'M2nd_19', 'M2nd_20', 'M2nd_21', 'M2nd_22', 'M2nd_23',\n",
       "       'M2nd_24', 'M2nd_25', 'M2nd_26', 'M2nd_27', 'M2nd_28', 'M2nd_29',\n",
       "       'M2nd_30', 'M2nd_31', 'M2nd_32', 'M2nd_33', 'M2nd_34', 'M3_01',\n",
       "       'M3_02', 'M3_03', 'M3_04', 'M3_05', 'M3_06', 'M3_07', 'M3_08',\n",
       "       'M3_09', 'M3_10', 'M3_11', 'M3_12', 'M3_13', 'M3_14', 'M4_01',\n",
       "       'M4_02', 'M4_03', 'M4_04', 'M4_05', 'M4_06', 'M4_07', 'M4_08',\n",
       "       'M4_09', 'M4_10', 'M4_11', 'M4_12', 'M4_13', 'M4_14', 'M5_01',\n",
       "       'M5_02', 'M5_03', 'M5_04', 'M6_01', 'M6_02', 'M6_03', 'M6_04',\n",
       "       'M6_05', 'M6_06', 'M6_07', 'MSA_01', 'MSA_02', 'MSA_03', 'MSA_04',\n",
       "       'MSA_05', 'MSA_06', 'MSA_07', 'MSA_08', 'MSA_09', 'MSA_10',\n",
       "       'MSA_11', 'MSA_12', 'MSA_13', 'MSA_14', 'MSA_15', 'MSA_16',\n",
       "       'MSA_17', 'MSA_18', 'MSA_19', 'MSA_20', 'MSA_21', 'MSA_22',\n",
       "       'MSA_23', 'MSA_24', 'MSA_25', 'MSA_26', 'MSA_27', 'MSA_28',\n",
       "       'MSA_29', 'MSA_30', 'MSA_31', 'MSA_32', 'MSA_33', 'MSA_34',\n",
       "       'MSA_35', 'MSA_36', 'MSA_37', 'N1_01', 'N1_02', 'N1_03', 'N1_04',\n",
       "       'N1_05', 'N1_06', 'N1_07', 'N1_08', 'N1_09', 'N1_10', 'N1_11',\n",
       "       'N1_12', 'N2_01', 'N2_02', 'N2_03', 'N2_04', 'N2_05', 'N2_06',\n",
       "       'N2_07', 'N2_08', 'N2_09', 'N2_10', 'N2_11', 'N2_12', 'N3_01',\n",
       "       'N3_02', 'N3_03', 'N3_04', 'N3_05', 'N3_06', 'N3_07', 'N3_08',\n",
       "       'N3_09', 'N3_10', 'N3_11', 'N3_12', 'N4_01', 'N4_02', 'N4_03',\n",
       "       'N4_04', 'N4_05', 'N4_06', 'N4_07', 'N4_08', 'N4_09', 'N4_10',\n",
       "       'N4_11', 'N4_12', 'N4_13', 'N4_14', 'N5_01', 'N5_02', 'N5_03',\n",
       "       'N5_04', 'N5_05', 'N5_06', 'N5_07', 'N5_08', 'N5_09', 'N5_10',\n",
       "       'N5_11', 'N5_12', 'N5_13', 'N5_14', 'P1_01', 'P1_02', 'P1_03',\n",
       "       'P1_04', 'P1_05', 'P1_06', 'P1_07', 'P1_08', 'P1_09', 'P1_10',\n",
       "       'P1_11', 'P1_12', 'P2_01', 'P2_02', 'P2_03', 'P2_04', 'P2_05',\n",
       "       'P2_06', 'P2_07', 'P2_08', 'P2_09', 'P2_10', 'P2_11', 'P2_12',\n",
       "       'P2_13', 'P2_14', 'P3_01', 'P3_02', 'P3_03', 'P4_01', 'P4_06',\n",
       "       'P4_07', 'P4_08', 'P4_09', 'P4_10', 'P4_11', 'P4_12', 'P6_01',\n",
       "       'P6_02', 'P6_03', 'P6_04', 'P7_01', 'P7_02', 'P7_03', 'P7_04',\n",
       "       'P7_05', 'P7_06', 'P7_07', 'P7_08', 'P7_09', 'P7_10', 'P7_11',\n",
       "       'P7_12', 'P8_01', 'P8_02', 'P8_05', 'P8_06', 'P8_07', 'P8_09',\n",
       "       'P8_10', 'P8_11', 'P8_12', 'P9_01', 'P9_02', 'P9_03', 'P9_04'], dtype=object)"
      ]
     },
     "execution_count": 5,
     "metadata": {},
     "output_type": "execute_result"
    }
   ],
   "source": [
    "sample_ids = psi_rmdup.columns.map(lambda x: '_'.join(x.split('_')[:2]))\n",
    "sample_ids"
   ]
  },
  {
   "cell_type": "code",
   "execution_count": 6,
   "metadata": {
    "collapsed": true
   },
   "outputs": [],
   "source": [
    "psi_rmdup.columns = sample_ids"
   ]
  },
  {
   "cell_type": "code",
   "execution_count": 8,
   "metadata": {
    "collapsed": false
   },
   "outputs": [
    {
     "name": "stdout",
     "output_type": "stream",
     "text": [
      "(181, 26453)\n"
     ]
    },
    {
     "data": {
      "text/html": [
       "<div>\n",
       "<table border=\"1\" class=\"dataframe\">\n",
       "  <thead>\n",
       "    <tr style=\"text-align: right;\">\n",
       "      <th>event_id</th>\n",
       "      <th>isoform1=junction:chr10:100189400-100190327:-|isoform2=junction:chr10:100189647-100190327:-@exon:chr10:100189548-100189646:-@junction:chr10:100189400-100189547:-</th>\n",
       "      <th>isoform1=junction:chr10:100190428-100193696:-|isoform2=junction:chr10:100191049-100193696:-@exon:chr10:100190888-100191048:-@junction:chr10:100190428-100190887:-</th>\n",
       "      <th>isoform1=junction:chr10:100193849-100195391:-|isoform2=junction:chr10:100195172-100195391:-@exon:chr10:100195029-100195171:-@junction:chr10:100193849-100195028:-</th>\n",
       "      <th>isoform1=junction:chr10:100193849-100195391:-|isoform2=junction:chr10:100195172-100195391:-@novel_exon:chr10:100195101-100195171:-@junction:chr10:100193849-100195100:-</th>\n",
       "      <th>isoform1=junction:chr10:101163392-101165512:-|isoform2=junction:chr10:101163632-101165512:-@exon:chr10:101163481-101163631:-@junction:chr10:101163392-101163480:-</th>\n",
       "      <th>isoform1=junction:chr10:101191023-101193302:+|isoform2=junction:chr10:101191023-101191686:+@novel_exon:chr10:101191687-101191705:+@junction:chr10:101191706-101193302:+</th>\n",
       "      <th>isoform1=junction:chr10:101419346-101421202:+|isoform2=junction:chr10:101419346-101419618:+@exon:chr10:101419619-101419721:+@junction:chr10:101419722-101421202:+</th>\n",
       "      <th>isoform1=junction:chr10:101421386-101439481:+|isoform2=junction:chr10:101421386-101439017:+@exon:chr10:101439018-101439223:+@junction:chr10:101439224-101439481:+</th>\n",
       "      <th>isoform1=junction:chr10:101476219-101480743:-|isoform2=junction:chr10:101478258-101480743:-@exon:chr10:101478103-101478257:-@junction:chr10:101476219-101478102:-</th>\n",
       "      <th>isoform1=junction:chr10:101507148-101514285:+|isoform2=junction:chr10:101507148-101510125:+@exon:chr10:101510126-101510153:+@junction:chr10:101510154-101514285:+</th>\n",
       "      <th>...</th>\n",
       "      <th>isoform1=junction:chrY:21039092-21094628:-@exon:chrY:21038954-21039091:-@junction:chrY:21034721-21038953:-|isoform2=junction:chrY:21089060-21094628:-@novel_exon:chrY:21088962-21089059:-@junction:chrY:21034721-21088961:-</th>\n",
       "      <th>isoform1=junction:chrY:21094728-21206547:-@novel_exon:chrY:21094629-21094727:-@junction:chrY:21039092-21094628:-|isoform2=junction:chrY:21205233-21206547:-@exon:chrY:21205049-21205232:-@junction:chrY:21039092-21205048:-</th>\n",
       "      <th>isoform1=junction:chrY:21207178-21237826:-@exon:chrY:21207128-21207177:-@junction:chrY:21206582-21207127:-|isoform2=junction:chrY:21230685-21237826:-@exon:chrY:21230610-21230684:-@junction:chrY:21206582-21230609:-</th>\n",
       "      <th>isoform1=junction:chrY:21749394-21753665:+@exon:chrY:21753666-21753845:+@junction:chrY:21753846-21755284:+|isoform2=junction:chrY:21749394-21750255:+@exon:chrY:21750256-21751498:+@junction:chrY:21751499-21755284:+</th>\n",
       "      <th>isoform1=junction:chrY:21749394-21753665:+@exon:chrY:21753666-21753845:+@junction:chrY:21753846-21755284:+|isoform2=junction:chrY:21749394-21751406:+@exon:chrY:21751407-21751498:+@junction:chrY:21751499-21755284:+</th>\n",
       "      <th>isoform1=junction:chrY:2709669-2712117:+@exon:chrY:2712118-2712298:+@junction:chrY:2712299-2713686:+|isoform2=junction:chrY:2709669-2710205:+@exon:chrY:2710206-2710283:+@junction:chrY:2710284-2713686:+</th>\n",
       "      <th>isoform1=junction:chrY:2710284-2713686:+@exon:chrY:2713687-2713784:+@junction:chrY:2713785-2722640:+|isoform2=junction:chrY:2710284-2712117:+@exon:chrY:2712118-2712298:+@junction:chrY:2712299-2722640:+</th>\n",
       "      <th>isoform1=junction:chrY:2712299-2722640:+@exon:chrY:2722641-2722812:+@junction:chrY:2722813-2733128:+|isoform2=junction:chrY:2712299-2713686:+@exon:chrY:2713687-2713784:+@junction:chrY:2713785-2733128:+</th>\n",
       "      <th>isoform1=junction:chrY:2712299-2722640:+@exon:chrY:2722641-2722812:+@junction:chrY:2722813-2734833:+|isoform2=junction:chrY:2712299-2713686:+@exon:chrY:2713687-2713784:+@junction:chrY:2713785-2734833:+</th>\n",
       "      <th>isoform1=junction:chrY:2713785-2733128:+@exon:chrY:2733129-2733286:+@junction:chrY:2733287-2734833:+|isoform2=junction:chrY:2713785-2722640:+@exon:chrY:2722641-2722812:+@junction:chrY:2722813-2734833:+</th>\n",
       "    </tr>\n",
       "  </thead>\n",
       "  <tbody>\n",
       "    <tr>\n",
       "      <th>CVN_01</th>\n",
       "      <td>NaN</td>\n",
       "      <td>NaN</td>\n",
       "      <td>NaN</td>\n",
       "      <td>NaN</td>\n",
       "      <td>NaN</td>\n",
       "      <td>NaN</td>\n",
       "      <td>NaN</td>\n",
       "      <td>NaN</td>\n",
       "      <td>NaN</td>\n",
       "      <td>1.0</td>\n",
       "      <td>...</td>\n",
       "      <td>NaN</td>\n",
       "      <td>NaN</td>\n",
       "      <td>NaN</td>\n",
       "      <td>NaN</td>\n",
       "      <td>NaN</td>\n",
       "      <td>NaN</td>\n",
       "      <td>NaN</td>\n",
       "      <td>NaN</td>\n",
       "      <td>NaN</td>\n",
       "      <td>NaN</td>\n",
       "    </tr>\n",
       "    <tr>\n",
       "      <th>CVN_02</th>\n",
       "      <td>NaN</td>\n",
       "      <td>NaN</td>\n",
       "      <td>NaN</td>\n",
       "      <td>NaN</td>\n",
       "      <td>NaN</td>\n",
       "      <td>NaN</td>\n",
       "      <td>NaN</td>\n",
       "      <td>NaN</td>\n",
       "      <td>NaN</td>\n",
       "      <td>NaN</td>\n",
       "      <td>...</td>\n",
       "      <td>NaN</td>\n",
       "      <td>NaN</td>\n",
       "      <td>NaN</td>\n",
       "      <td>NaN</td>\n",
       "      <td>NaN</td>\n",
       "      <td>NaN</td>\n",
       "      <td>NaN</td>\n",
       "      <td>NaN</td>\n",
       "      <td>NaN</td>\n",
       "      <td>NaN</td>\n",
       "    </tr>\n",
       "    <tr>\n",
       "      <th>CVN_03</th>\n",
       "      <td>NaN</td>\n",
       "      <td>NaN</td>\n",
       "      <td>NaN</td>\n",
       "      <td>NaN</td>\n",
       "      <td>1.0</td>\n",
       "      <td>NaN</td>\n",
       "      <td>NaN</td>\n",
       "      <td>NaN</td>\n",
       "      <td>NaN</td>\n",
       "      <td>NaN</td>\n",
       "      <td>...</td>\n",
       "      <td>NaN</td>\n",
       "      <td>NaN</td>\n",
       "      <td>NaN</td>\n",
       "      <td>NaN</td>\n",
       "      <td>NaN</td>\n",
       "      <td>NaN</td>\n",
       "      <td>NaN</td>\n",
       "      <td>NaN</td>\n",
       "      <td>NaN</td>\n",
       "      <td>NaN</td>\n",
       "    </tr>\n",
       "    <tr>\n",
       "      <th>CVN_04</th>\n",
       "      <td>NaN</td>\n",
       "      <td>NaN</td>\n",
       "      <td>NaN</td>\n",
       "      <td>NaN</td>\n",
       "      <td>NaN</td>\n",
       "      <td>NaN</td>\n",
       "      <td>NaN</td>\n",
       "      <td>NaN</td>\n",
       "      <td>NaN</td>\n",
       "      <td>NaN</td>\n",
       "      <td>...</td>\n",
       "      <td>NaN</td>\n",
       "      <td>NaN</td>\n",
       "      <td>NaN</td>\n",
       "      <td>NaN</td>\n",
       "      <td>NaN</td>\n",
       "      <td>NaN</td>\n",
       "      <td>NaN</td>\n",
       "      <td>NaN</td>\n",
       "      <td>NaN</td>\n",
       "      <td>NaN</td>\n",
       "    </tr>\n",
       "    <tr>\n",
       "      <th>CVN_05</th>\n",
       "      <td>NaN</td>\n",
       "      <td>NaN</td>\n",
       "      <td>NaN</td>\n",
       "      <td>NaN</td>\n",
       "      <td>NaN</td>\n",
       "      <td>NaN</td>\n",
       "      <td>NaN</td>\n",
       "      <td>NaN</td>\n",
       "      <td>NaN</td>\n",
       "      <td>NaN</td>\n",
       "      <td>...</td>\n",
       "      <td>NaN</td>\n",
       "      <td>NaN</td>\n",
       "      <td>NaN</td>\n",
       "      <td>NaN</td>\n",
       "      <td>NaN</td>\n",
       "      <td>NaN</td>\n",
       "      <td>NaN</td>\n",
       "      <td>NaN</td>\n",
       "      <td>NaN</td>\n",
       "      <td>NaN</td>\n",
       "    </tr>\n",
       "  </tbody>\n",
       "</table>\n",
       "<p>5 rows × 26453 columns</p>\n",
       "</div>"
      ],
      "text/plain": [
       "event_id  isoform1=junction:chr10:100189400-100190327:-|isoform2=junction:chr10:100189647-100190327:-@exon:chr10:100189548-100189646:-@junction:chr10:100189400-100189547:-  \\\n",
       "CVN_01                                                  NaN                                                                                                                   \n",
       "CVN_02                                                  NaN                                                                                                                   \n",
       "CVN_03                                                  NaN                                                                                                                   \n",
       "CVN_04                                                  NaN                                                                                                                   \n",
       "CVN_05                                                  NaN                                                                                                                   \n",
       "\n",
       "event_id  isoform1=junction:chr10:100190428-100193696:-|isoform2=junction:chr10:100191049-100193696:-@exon:chr10:100190888-100191048:-@junction:chr10:100190428-100190887:-  \\\n",
       "CVN_01                                                  NaN                                                                                                                   \n",
       "CVN_02                                                  NaN                                                                                                                   \n",
       "CVN_03                                                  NaN                                                                                                                   \n",
       "CVN_04                                                  NaN                                                                                                                   \n",
       "CVN_05                                                  NaN                                                                                                                   \n",
       "\n",
       "event_id  isoform1=junction:chr10:100193849-100195391:-|isoform2=junction:chr10:100195172-100195391:-@exon:chr10:100195029-100195171:-@junction:chr10:100193849-100195028:-  \\\n",
       "CVN_01                                                  NaN                                                                                                                   \n",
       "CVN_02                                                  NaN                                                                                                                   \n",
       "CVN_03                                                  NaN                                                                                                                   \n",
       "CVN_04                                                  NaN                                                                                                                   \n",
       "CVN_05                                                  NaN                                                                                                                   \n",
       "\n",
       "event_id  isoform1=junction:chr10:100193849-100195391:-|isoform2=junction:chr10:100195172-100195391:-@novel_exon:chr10:100195101-100195171:-@junction:chr10:100193849-100195100:-  \\\n",
       "CVN_01                                                  NaN                                                                                                                         \n",
       "CVN_02                                                  NaN                                                                                                                         \n",
       "CVN_03                                                  NaN                                                                                                                         \n",
       "CVN_04                                                  NaN                                                                                                                         \n",
       "CVN_05                                                  NaN                                                                                                                         \n",
       "\n",
       "event_id  isoform1=junction:chr10:101163392-101165512:-|isoform2=junction:chr10:101163632-101165512:-@exon:chr10:101163481-101163631:-@junction:chr10:101163392-101163480:-  \\\n",
       "CVN_01                                                  NaN                                                                                                                   \n",
       "CVN_02                                                  NaN                                                                                                                   \n",
       "CVN_03                                                  1.0                                                                                                                   \n",
       "CVN_04                                                  NaN                                                                                                                   \n",
       "CVN_05                                                  NaN                                                                                                                   \n",
       "\n",
       "event_id  isoform1=junction:chr10:101191023-101193302:+|isoform2=junction:chr10:101191023-101191686:+@novel_exon:chr10:101191687-101191705:+@junction:chr10:101191706-101193302:+  \\\n",
       "CVN_01                                                  NaN                                                                                                                         \n",
       "CVN_02                                                  NaN                                                                                                                         \n",
       "CVN_03                                                  NaN                                                                                                                         \n",
       "CVN_04                                                  NaN                                                                                                                         \n",
       "CVN_05                                                  NaN                                                                                                                         \n",
       "\n",
       "event_id  isoform1=junction:chr10:101419346-101421202:+|isoform2=junction:chr10:101419346-101419618:+@exon:chr10:101419619-101419721:+@junction:chr10:101419722-101421202:+  \\\n",
       "CVN_01                                                  NaN                                                                                                                   \n",
       "CVN_02                                                  NaN                                                                                                                   \n",
       "CVN_03                                                  NaN                                                                                                                   \n",
       "CVN_04                                                  NaN                                                                                                                   \n",
       "CVN_05                                                  NaN                                                                                                                   \n",
       "\n",
       "event_id  isoform1=junction:chr10:101421386-101439481:+|isoform2=junction:chr10:101421386-101439017:+@exon:chr10:101439018-101439223:+@junction:chr10:101439224-101439481:+  \\\n",
       "CVN_01                                                  NaN                                                                                                                   \n",
       "CVN_02                                                  NaN                                                                                                                   \n",
       "CVN_03                                                  NaN                                                                                                                   \n",
       "CVN_04                                                  NaN                                                                                                                   \n",
       "CVN_05                                                  NaN                                                                                                                   \n",
       "\n",
       "event_id  isoform1=junction:chr10:101476219-101480743:-|isoform2=junction:chr10:101478258-101480743:-@exon:chr10:101478103-101478257:-@junction:chr10:101476219-101478102:-  \\\n",
       "CVN_01                                                  NaN                                                                                                                   \n",
       "CVN_02                                                  NaN                                                                                                                   \n",
       "CVN_03                                                  NaN                                                                                                                   \n",
       "CVN_04                                                  NaN                                                                                                                   \n",
       "CVN_05                                                  NaN                                                                                                                   \n",
       "\n",
       "event_id  isoform1=junction:chr10:101507148-101514285:+|isoform2=junction:chr10:101507148-101510125:+@exon:chr10:101510126-101510153:+@junction:chr10:101510154-101514285:+  \\\n",
       "CVN_01                                                  1.0                                                                                                                   \n",
       "CVN_02                                                  NaN                                                                                                                   \n",
       "CVN_03                                                  NaN                                                                                                                   \n",
       "CVN_04                                                  NaN                                                                                                                   \n",
       "CVN_05                                                  NaN                                                                                                                   \n",
       "\n",
       "event_id                                                                                                    ...                                                                                                      \\\n",
       "CVN_01                                                                                                      ...                                                                                                       \n",
       "CVN_02                                                                                                      ...                                                                                                       \n",
       "CVN_03                                                                                                      ...                                                                                                       \n",
       "CVN_04                                                                                                      ...                                                                                                       \n",
       "CVN_05                                                                                                      ...                                                                                                       \n",
       "\n",
       "event_id  isoform1=junction:chrY:21039092-21094628:-@exon:chrY:21038954-21039091:-@junction:chrY:21034721-21038953:-|isoform2=junction:chrY:21089060-21094628:-@novel_exon:chrY:21088962-21089059:-@junction:chrY:21034721-21088961:-  \\\n",
       "CVN_01                                                  NaN                                                                                                                                                                             \n",
       "CVN_02                                                  NaN                                                                                                                                                                             \n",
       "CVN_03                                                  NaN                                                                                                                                                                             \n",
       "CVN_04                                                  NaN                                                                                                                                                                             \n",
       "CVN_05                                                  NaN                                                                                                                                                                             \n",
       "\n",
       "event_id  isoform1=junction:chrY:21094728-21206547:-@novel_exon:chrY:21094629-21094727:-@junction:chrY:21039092-21094628:-|isoform2=junction:chrY:21205233-21206547:-@exon:chrY:21205049-21205232:-@junction:chrY:21039092-21205048:-  \\\n",
       "CVN_01                                                  NaN                                                                                                                                                                             \n",
       "CVN_02                                                  NaN                                                                                                                                                                             \n",
       "CVN_03                                                  NaN                                                                                                                                                                             \n",
       "CVN_04                                                  NaN                                                                                                                                                                             \n",
       "CVN_05                                                  NaN                                                                                                                                                                             \n",
       "\n",
       "event_id  isoform1=junction:chrY:21207178-21237826:-@exon:chrY:21207128-21207177:-@junction:chrY:21206582-21207127:-|isoform2=junction:chrY:21230685-21237826:-@exon:chrY:21230610-21230684:-@junction:chrY:21206582-21230609:-  \\\n",
       "CVN_01                                                  NaN                                                                                                                                                                       \n",
       "CVN_02                                                  NaN                                                                                                                                                                       \n",
       "CVN_03                                                  NaN                                                                                                                                                                       \n",
       "CVN_04                                                  NaN                                                                                                                                                                       \n",
       "CVN_05                                                  NaN                                                                                                                                                                       \n",
       "\n",
       "event_id  isoform1=junction:chrY:21749394-21753665:+@exon:chrY:21753666-21753845:+@junction:chrY:21753846-21755284:+|isoform2=junction:chrY:21749394-21750255:+@exon:chrY:21750256-21751498:+@junction:chrY:21751499-21755284:+  \\\n",
       "CVN_01                                                  NaN                                                                                                                                                                       \n",
       "CVN_02                                                  NaN                                                                                                                                                                       \n",
       "CVN_03                                                  NaN                                                                                                                                                                       \n",
       "CVN_04                                                  NaN                                                                                                                                                                       \n",
       "CVN_05                                                  NaN                                                                                                                                                                       \n",
       "\n",
       "event_id  isoform1=junction:chrY:21749394-21753665:+@exon:chrY:21753666-21753845:+@junction:chrY:21753846-21755284:+|isoform2=junction:chrY:21749394-21751406:+@exon:chrY:21751407-21751498:+@junction:chrY:21751499-21755284:+  \\\n",
       "CVN_01                                                  NaN                                                                                                                                                                       \n",
       "CVN_02                                                  NaN                                                                                                                                                                       \n",
       "CVN_03                                                  NaN                                                                                                                                                                       \n",
       "CVN_04                                                  NaN                                                                                                                                                                       \n",
       "CVN_05                                                  NaN                                                                                                                                                                       \n",
       "\n",
       "event_id  isoform1=junction:chrY:2709669-2712117:+@exon:chrY:2712118-2712298:+@junction:chrY:2712299-2713686:+|isoform2=junction:chrY:2709669-2710205:+@exon:chrY:2710206-2710283:+@junction:chrY:2710284-2713686:+  \\\n",
       "CVN_01                                                  NaN                                                                                                                                                           \n",
       "CVN_02                                                  NaN                                                                                                                                                           \n",
       "CVN_03                                                  NaN                                                                                                                                                           \n",
       "CVN_04                                                  NaN                                                                                                                                                           \n",
       "CVN_05                                                  NaN                                                                                                                                                           \n",
       "\n",
       "event_id  isoform1=junction:chrY:2710284-2713686:+@exon:chrY:2713687-2713784:+@junction:chrY:2713785-2722640:+|isoform2=junction:chrY:2710284-2712117:+@exon:chrY:2712118-2712298:+@junction:chrY:2712299-2722640:+  \\\n",
       "CVN_01                                                  NaN                                                                                                                                                           \n",
       "CVN_02                                                  NaN                                                                                                                                                           \n",
       "CVN_03                                                  NaN                                                                                                                                                           \n",
       "CVN_04                                                  NaN                                                                                                                                                           \n",
       "CVN_05                                                  NaN                                                                                                                                                           \n",
       "\n",
       "event_id  isoform1=junction:chrY:2712299-2722640:+@exon:chrY:2722641-2722812:+@junction:chrY:2722813-2733128:+|isoform2=junction:chrY:2712299-2713686:+@exon:chrY:2713687-2713784:+@junction:chrY:2713785-2733128:+  \\\n",
       "CVN_01                                                  NaN                                                                                                                                                           \n",
       "CVN_02                                                  NaN                                                                                                                                                           \n",
       "CVN_03                                                  NaN                                                                                                                                                           \n",
       "CVN_04                                                  NaN                                                                                                                                                           \n",
       "CVN_05                                                  NaN                                                                                                                                                           \n",
       "\n",
       "event_id  isoform1=junction:chrY:2712299-2722640:+@exon:chrY:2722641-2722812:+@junction:chrY:2722813-2734833:+|isoform2=junction:chrY:2712299-2713686:+@exon:chrY:2713687-2713784:+@junction:chrY:2713785-2734833:+  \\\n",
       "CVN_01                                                  NaN                                                                                                                                                           \n",
       "CVN_02                                                  NaN                                                                                                                                                           \n",
       "CVN_03                                                  NaN                                                                                                                                                           \n",
       "CVN_04                                                  NaN                                                                                                                                                           \n",
       "CVN_05                                                  NaN                                                                                                                                                           \n",
       "\n",
       "event_id  isoform1=junction:chrY:2713785-2733128:+@exon:chrY:2733129-2733286:+@junction:chrY:2733287-2734833:+|isoform2=junction:chrY:2713785-2722640:+@exon:chrY:2722641-2722812:+@junction:chrY:2722813-2734833:+  \n",
       "CVN_01                                                  NaN                                                                                                                                                          \n",
       "CVN_02                                                  NaN                                                                                                                                                          \n",
       "CVN_03                                                  NaN                                                                                                                                                          \n",
       "CVN_04                                                  NaN                                                                                                                                                          \n",
       "CVN_05                                                  NaN                                                                                                                                                          \n",
       "\n",
       "[5 rows x 26453 columns]"
      ]
     },
     "execution_count": 8,
     "metadata": {},
     "output_type": "execute_result"
    }
   ],
   "source": [
    "psi = psi_rmdup[not_outliers].T\n",
    "print(psi.shape)\n",
    "psi.head()"
   ]
  },
  {
   "cell_type": "markdown",
   "metadata": {},
   "source": [
    "## Use only alternative exons - not all 1 or all 0 in all cell types"
   ]
  },
  {
   "cell_type": "code",
   "execution_count": 9,
   "metadata": {
    "collapsed": false
   },
   "outputs": [
    {
     "name": "stdout",
     "output_type": "stream",
     "text": [
      "('len(alternative)', 11910)\n",
      "('len(constitutively0)', 9789)\n",
      "('len(constitutively1)', 9406)\n",
      "('len(constitutive)', 14543)\n"
     ]
    }
   ],
   "source": [
    "notnull = psi.notnull()\n",
    "\n",
    "constitutively0 = (psi == 0)[notnull].all()\n",
    "\n",
    "constitutively1 = (psi == 1)[notnull].all()\n",
    "alternative = psi.columns[~constitutively0 & ~constitutively1]\n",
    "print('len(alternative)', len(alternative))\n",
    "\n",
    "\n",
    "constitutively0 = constitutively0[constitutively0].index\n",
    "constitutively1 = constitutively1[constitutively1].index\n",
    "\n",
    "print('len(constitutively0)', len(constitutively0))\n",
    "print('len(constitutively1)', len(constitutively1))\n",
    "\n",
    "constitutive = constitutively0 | constitutively1\n",
    "print('len(constitutive)', len(constitutive))"
   ]
  },
  {
   "cell_type": "code",
   "execution_count": 13,
   "metadata": {
    "collapsed": false
   },
   "outputs": [
    {
     "data": {
      "text/plain": [
       "(181, 11910)"
      ]
     },
     "execution_count": 13,
     "metadata": {},
     "output_type": "execute_result"
    }
   ],
   "source": [
    "psi_alternative = psi[alternative]\n",
    "psi_alternative.shape"
   ]
  },
  {
   "cell_type": "code",
   "execution_count": 52,
   "metadata": {
    "collapsed": true
   },
   "outputs": [],
   "source": [
    "study.splicing.data_original = psi_alternative"
   ]
  },
  {
   "cell_type": "markdown",
   "metadata": {},
   "source": [
    "## Estimate modalities\n",
    "\n",
    "### Initialize the modality estimator"
   ]
  },
  {
   "cell_type": "code",
   "execution_count": 10,
   "metadata": {
    "collapsed": false
   },
   "outputs": [],
   "source": [
    "import anchor\n",
    "\n",
    "bayesian = anchor.BayesianModalities()"
   ]
  },
  {
   "cell_type": "markdown",
   "metadata": {},
   "source": [
    "## Calculate/Estimate modalities only on single cells, with no outliers\n",
    "\n",
    "And at least 10 cells per splicing event, per celltype/phenotype"
   ]
  },
  {
   "cell_type": "code",
   "execution_count": 11,
   "metadata": {
    "collapsed": false
   },
   "outputs": [
    {
     "data": {
      "text/plain": [
       "10"
      ]
     },
     "execution_count": 11,
     "metadata": {},
     "output_type": "execute_result"
    }
   ],
   "source": [
    "study.splicing.minimum_samples"
   ]
  },
  {
   "cell_type": "code",
   "execution_count": 14,
   "metadata": {
    "collapsed": false
   },
   "outputs": [
    {
     "name": "stdout",
     "output_type": "stream",
     "text": [
      "(181, 11910)\n",
      "(181, 4866)\n"
     ]
    }
   ],
   "source": [
    "print(psi_alternative.shape)\n",
    "psi_alternative = psi_alternative.groupby(\n",
    "    study.sample_id_to_phenotype).apply(lambda x: x.dropna(thresh=study.splicing.minimum_samples, axis=1))\n",
    "print(psi_alternative.shape)"
   ]
  },
  {
   "cell_type": "code",
   "execution_count": 15,
   "metadata": {
    "collapsed": false
   },
   "outputs": [
    {
     "name": "stdout",
     "output_type": "stream",
     "text": [
      "CPU times: user 11min 22s, sys: 209 ms, total: 11min 22s\n",
      "Wall time: 11min 22s\n"
     ]
    }
   ],
   "source": [
    "%time modality_assignments = psi_alternative.groupby(study.sample_id_to_phenotype).apply(bayesian.fit_predict)"
   ]
  },
  {
   "cell_type": "code",
   "execution_count": 55,
   "metadata": {
    "collapsed": false
   },
   "outputs": [],
   "source": [
    "rps24_events = pd.Index([u'isoform1=junction:chr10:79797063-79800372:+|isoform2=junction:chr10:79797063-79797196:+@novel_exon:chr10:79797197-79797199:+@junction:chr10:79797200-79800372:+',\n",
    "       u'isoform1=junction:chr10:79797063-79799961:+|isoform2=junction:chr10:79797063-79797196:+@novel_exon:chr10:79797197-79797199:+@junction:chr10:79797200-79799961:+',\n",
    "       u'isoform1=junction:chr10:79797063-79800372:+|isoform2=junction:chr10:79797063-79799961:+@exon:chr10:79799962-79799983:+@junction:chr10:79799984-79800372:+',\n",
    "       u'isoform1=junction:chr10:79797200-79800372:+|isoform2=junction:chr10:79797200-79797722:+@novel_exon:chr10:79797723-79797751:+@junction:chr10:79797752-79800372:+',\n",
    "       u'isoform1=junction:chr10:79797063-79800372:+|isoform2=junction:chr10:79797063-79797722:+@exon:chr10:79797723-79797740:+@junction:chr10:79797741-79800372:+',\n",
    "       u'isoform1=junction:chr10:79797200-79800372:+|isoform2=junction:chr10:79797200-79797722:+@exon:chr10:79797723-79797740:+@junction:chr10:79797741-79800372:+',\n",
    "       u'isoform1=junction:chr10:79797200-79800372:+|isoform2=junction:chr10:79797200-79799961:+@exon:chr10:79799962-79799983:+@junction:chr10:79799984-79800372:+',\n",
    "       u'isoform1=junction:chr10:79797063-79800372:+|isoform2=junction:chr10:79797063-79797722:+@novel_exon:chr10:79797723-79797751:+@junction:chr10:79797752-79800372:+',\n",
    "       u'isoform1=junction:chr10:79797200-79799961:+|isoform2=junction:chr10:79797200-79797722:+@exon:chr10:79797723-79797740:+@junction:chr10:79797741-79799961:+',\n",
    "       u'isoform1=junction:chr10:79797063-79797722:+|isoform2=junction:chr10:79797063-79797196:+@novel_exon:chr10:79797197-79797199:+@junction:chr10:79797200-79797722:+',\n",
    "       u'isoform1=junction:chr10:79797063-79799961:+|isoform2=junction:chr10:79797063-79797722:+@exon:chr10:79797723-79797740:+@junction:chr10:79797741-79799961:+',\n",
    "       u'isoform1=junction:chr10:79797741-79800372:+|isoform2=junction:chr10:79797741-79799961:+@exon:chr10:79799962-79799983:+@junction:chr10:79799984-79800372:+'],\n",
    "      dtype='object', name=u'event_id')"
   ]
  },
  {
   "cell_type": "code",
   "execution_count": 56,
   "metadata": {
    "collapsed": true
   },
   "outputs": [],
   "source": [
    "pkm_mxe_events = pd.Index([u'isoform1=junction:chr15:72494962-72499068:-@exon:chr15:72494795-72494961:-@junction:chr15:72492997-72494794:-|isoform2=junction:chr15:72495530-72499068:-@exon:chr15:72495363-72495529:-@junction:chr15:72492997-72495362:-'], dtype='object', name=u'event_id')"
   ]
  },
  {
   "cell_type": "code",
   "execution_count": 67,
   "metadata": {
    "collapsed": false
   },
   "outputs": [
    {
     "data": {
      "text/plain": [
       "(26453, 299)"
      ]
     },
     "execution_count": 67,
     "metadata": {},
     "output_type": "execute_result"
    }
   ],
   "source": [
    "psi_rmdup.shape"
   ]
  },
  {
   "cell_type": "code",
   "execution_count": 69,
   "metadata": {
    "collapsed": false,
    "scrolled": false
   },
   "outputs": [
    {
     "data": {
      "text/html": [
       "<div>\n",
       "<table border=\"1\" class=\"dataframe\">\n",
       "  <thead>\n",
       "    <tr style=\"text-align: right;\">\n",
       "      <th></th>\n",
       "      <th>P3_02</th>\n",
       "    </tr>\n",
       "    <tr>\n",
       "      <th>event_id</th>\n",
       "      <th></th>\n",
       "    </tr>\n",
       "  </thead>\n",
       "  <tbody>\n",
       "    <tr>\n",
       "      <th>isoform1=junction:chr10:79797200-79799961:+|isoform2=junction:chr10:79797200-79797722:+@exon:chr10:79797723-79797740:+@junction:chr10:79797741-79799961:+</th>\n",
       "      <td>0.0</td>\n",
       "    </tr>\n",
       "    <tr>\n",
       "      <th>isoform1=junction:chr10:79797063-79797722:+|isoform2=junction:chr10:79797063-79797196:+@novel_exon:chr10:79797197-79797199:+@junction:chr10:79797200-79797722:+</th>\n",
       "      <td>NaN</td>\n",
       "    </tr>\n",
       "  </tbody>\n",
       "</table>\n",
       "</div>"
      ],
      "text/plain": [
       "                                                    P3_02\n",
       "event_id                                                 \n",
       "isoform1=junction:chr10:79797200-79799961:+|iso...    0.0\n",
       "isoform1=junction:chr10:79797063-79797722:+|iso...    NaN"
      ]
     },
     "execution_count": 69,
     "metadata": {},
     "output_type": "execute_result"
    }
   ],
   "source": [
    "psi_rmdup.loc[psi_rmdup.index.intersection(rps24_events)].dropna(how='all', axis=1)"
   ]
  },
  {
   "cell_type": "code",
   "execution_count": 62,
   "metadata": {
    "collapsed": false
   },
   "outputs": [
    {
     "data": {
      "text/html": [
       "<div>\n",
       "<table border=\"1\" class=\"dataframe\">\n",
       "  <thead>\n",
       "    <tr style=\"text-align: right;\">\n",
       "      <th></th>\n",
       "      <th>isoform1=junction:chr10:101507148-101514285:+|isoform2=junction:chr10:101507148-101510125:+@exon:chr10:101510126-101510153:+@junction:chr10:101510154-101514285:+</th>\n",
       "      <th>isoform1=junction:chr10:102013297-102019974:-|isoform2=junction:chr10:102016234-102019974:-@exon:chr10:102016019-102016233:-@junction:chr10:102013297-102016018:-</th>\n",
       "      <th>isoform1=junction:chr10:102016234-102020722:-|isoform2=junction:chr10:102020077-102020722:-@exon:chr10:102019975-102020076:-@junction:chr10:102016234-102019974:-</th>\n",
       "      <th>isoform1=junction:chr10:102114390-102120490:+|isoform2=junction:chr10:102114390-102116288:+@exon:chr10:102116289-102116521:+@junction:chr10:102116522-102120490:+</th>\n",
       "      <th>isoform1=junction:chr10:102746733-102747069:-|isoform2=junction:chr10:102746954-102747069:-@exon:chr10:102746847-102746953:-@junction:chr10:102746733-102746846:-</th>\n",
       "      <th>isoform1=junction:chr10:103113986-103190101:+|isoform2=junction:chr10:103113986-103167197:+@novel_exon:chr10:103167198-103167290:+@junction:chr10:103167291-103190101:+</th>\n",
       "      <th>isoform1=junction:chr10:103348158-103360494:+|isoform2=junction:chr10:103348158-103354414:+@exon:chr10:103354415-103354495:+@junction:chr10:103354496-103360494:+</th>\n",
       "      <th>isoform1=junction:chr10:103361094-103368591:+|isoform2=junction:chr10:103361094-103364896:+@exon:chr10:103364897-103364969:+@junction:chr10:103364970-103368591:+</th>\n",
       "      <th>isoform1=junction:chr10:103361094-103369123:+|isoform2=junction:chr10:103361094-103368591:+@exon:chr10:103368592-103368694:+@junction:chr10:103368695-103369123:+</th>\n",
       "      <th>isoform1=junction:chr10:1034468-1041868:+|isoform2=junction:chr10:1034468-1038428:+@exon:chr10:1038429-1038599:+@junction:chr10:1038600-1041868:+</th>\n",
       "      <th>...</th>\n",
       "      <th>isoform1=junction:chrX:85233896-85282494:-|isoform2=junction:chrX:85236814-85282494:-@exon:chrX:85236741-85236813:-@junction:chrX:85233896-85236740:-</th>\n",
       "      <th>isoform1=junction:chrX:85236814-85302487:-|isoform2=junction:chrX:85282562-85302487:-@exon:chrX:85282495-85282561:-@junction:chrX:85236814-85282494:-</th>\n",
       "      <th>isoform1=junction:chrX:9693881-9707524:-|isoform2=junction:chrX:9694017-9707524:-@novel_exon:chrX:9693988-9694016:-@junction:chrX:9693881-9693987:-</th>\n",
       "      <th>isoform1=junction:chrX:99884984-99887481:-|isoform2=junction:chrX:99885864-99887481:-@exon:chrX:99885756-99885863:-@junction:chrX:99884984-99885755:-</th>\n",
       "      <th>isoform1=junction:chrX:99887566-99888927:-|isoform2=junction:chrX:99888537-99888927:-@exon:chrX:99888402-99888536:-@junction:chrX:99887566-99888401:-</th>\n",
       "      <th>isoform1=junction:chrX:99890744-99891604:-|isoform2=junction:chrX:99891205-99891604:-@novel_exon:chrX:99891188-99891204:-@junction:chrX:99890744-99891187:-</th>\n",
       "      <th>isoform1=junction:chrY:15026562-15026978:+|isoform2=junction:chrY:15026562-15026795:+@exon:chrY:15026796-15026894:+@junction:chrY:15026895-15026978:+</th>\n",
       "      <th>isoform1=junction:chrY:15028547-15029314:+|isoform2=junction:chrY:15028547-15028818:+@exon:chrY:15028819-15028972:+@junction:chrY:15028973-15029314:+</th>\n",
       "      <th>isoform1=junction:chrY:2709669-2712117:+|isoform2=junction:chrY:2709669-2710205:+@exon:chrY:2710206-2710283:+@junction:chrY:2710284-2712117:+</th>\n",
       "      <th>isoform1=junction:chrY:2710284-2713686:+|isoform2=junction:chrY:2710284-2712117:+@exon:chrY:2712118-2712298:+@junction:chrY:2712299-2713686:+</th>\n",
       "    </tr>\n",
       "    <tr>\n",
       "      <th>phenotype</th>\n",
       "      <th></th>\n",
       "      <th></th>\n",
       "      <th></th>\n",
       "      <th></th>\n",
       "      <th></th>\n",
       "      <th></th>\n",
       "      <th></th>\n",
       "      <th></th>\n",
       "      <th></th>\n",
       "      <th></th>\n",
       "      <th></th>\n",
       "      <th></th>\n",
       "      <th></th>\n",
       "      <th></th>\n",
       "      <th></th>\n",
       "      <th></th>\n",
       "      <th></th>\n",
       "      <th></th>\n",
       "      <th></th>\n",
       "      <th></th>\n",
       "      <th></th>\n",
       "    </tr>\n",
       "  </thead>\n",
       "  <tbody>\n",
       "    <tr>\n",
       "      <th>MN</th>\n",
       "      <td>NaN</td>\n",
       "      <td>NaN</td>\n",
       "      <td>NaN</td>\n",
       "      <td>included</td>\n",
       "      <td>bimodal</td>\n",
       "      <td>bimodal</td>\n",
       "      <td>included</td>\n",
       "      <td>excluded</td>\n",
       "      <td>NaN</td>\n",
       "      <td>included</td>\n",
       "      <td>...</td>\n",
       "      <td>NaN</td>\n",
       "      <td>NaN</td>\n",
       "      <td>NaN</td>\n",
       "      <td>NaN</td>\n",
       "      <td>included</td>\n",
       "      <td>excluded</td>\n",
       "      <td>NaN</td>\n",
       "      <td>NaN</td>\n",
       "      <td>included</td>\n",
       "      <td>included</td>\n",
       "    </tr>\n",
       "    <tr>\n",
       "      <th>NPC</th>\n",
       "      <td>NaN</td>\n",
       "      <td>NaN</td>\n",
       "      <td>NaN</td>\n",
       "      <td>included</td>\n",
       "      <td>bimodal</td>\n",
       "      <td>NaN</td>\n",
       "      <td>included</td>\n",
       "      <td>excluded</td>\n",
       "      <td>bimodal</td>\n",
       "      <td>included</td>\n",
       "      <td>...</td>\n",
       "      <td>NaN</td>\n",
       "      <td>NaN</td>\n",
       "      <td>NaN</td>\n",
       "      <td>bimodal</td>\n",
       "      <td>included</td>\n",
       "      <td>excluded</td>\n",
       "      <td>NaN</td>\n",
       "      <td>NaN</td>\n",
       "      <td>included</td>\n",
       "      <td>included</td>\n",
       "    </tr>\n",
       "    <tr>\n",
       "      <th>iPSC</th>\n",
       "      <td>bimodal</td>\n",
       "      <td>included</td>\n",
       "      <td>bimodal</td>\n",
       "      <td>included</td>\n",
       "      <td>included</td>\n",
       "      <td>NaN</td>\n",
       "      <td>included</td>\n",
       "      <td>excluded</td>\n",
       "      <td>included</td>\n",
       "      <td>included</td>\n",
       "      <td>...</td>\n",
       "      <td>included</td>\n",
       "      <td>included</td>\n",
       "      <td>bimodal</td>\n",
       "      <td>NaN</td>\n",
       "      <td>included</td>\n",
       "      <td>excluded</td>\n",
       "      <td>included</td>\n",
       "      <td>included</td>\n",
       "      <td>included</td>\n",
       "      <td>included</td>\n",
       "    </tr>\n",
       "  </tbody>\n",
       "</table>\n",
       "<p>3 rows × 4866 columns</p>\n",
       "</div>"
      ],
      "text/plain": [
       "          isoform1=junction:chr10:101507148-101514285:+|isoform2=junction:chr10:101507148-101510125:+@exon:chr10:101510126-101510153:+@junction:chr10:101510154-101514285:+  \\\n",
       "phenotype                                                                                                                                                                     \n",
       "MN                                                       NaN                                                                                                                  \n",
       "NPC                                                      NaN                                                                                                                  \n",
       "iPSC                                                 bimodal                                                                                                                  \n",
       "\n",
       "          isoform1=junction:chr10:102013297-102019974:-|isoform2=junction:chr10:102016234-102019974:-@exon:chr10:102016019-102016233:-@junction:chr10:102013297-102016018:-  \\\n",
       "phenotype                                                                                                                                                                     \n",
       "MN                                                       NaN                                                                                                                  \n",
       "NPC                                                      NaN                                                                                                                  \n",
       "iPSC                                                included                                                                                                                  \n",
       "\n",
       "          isoform1=junction:chr10:102016234-102020722:-|isoform2=junction:chr10:102020077-102020722:-@exon:chr10:102019975-102020076:-@junction:chr10:102016234-102019974:-  \\\n",
       "phenotype                                                                                                                                                                     \n",
       "MN                                                       NaN                                                                                                                  \n",
       "NPC                                                      NaN                                                                                                                  \n",
       "iPSC                                                 bimodal                                                                                                                  \n",
       "\n",
       "          isoform1=junction:chr10:102114390-102120490:+|isoform2=junction:chr10:102114390-102116288:+@exon:chr10:102116289-102116521:+@junction:chr10:102116522-102120490:+  \\\n",
       "phenotype                                                                                                                                                                     \n",
       "MN                                                  included                                                                                                                  \n",
       "NPC                                                 included                                                                                                                  \n",
       "iPSC                                                included                                                                                                                  \n",
       "\n",
       "          isoform1=junction:chr10:102746733-102747069:-|isoform2=junction:chr10:102746954-102747069:-@exon:chr10:102746847-102746953:-@junction:chr10:102746733-102746846:-  \\\n",
       "phenotype                                                                                                                                                                     \n",
       "MN                                                   bimodal                                                                                                                  \n",
       "NPC                                                  bimodal                                                                                                                  \n",
       "iPSC                                                included                                                                                                                  \n",
       "\n",
       "          isoform1=junction:chr10:103113986-103190101:+|isoform2=junction:chr10:103113986-103167197:+@novel_exon:chr10:103167198-103167290:+@junction:chr10:103167291-103190101:+  \\\n",
       "phenotype                                                                                                                                                                           \n",
       "MN                                                   bimodal                                                                                                                        \n",
       "NPC                                                      NaN                                                                                                                        \n",
       "iPSC                                                     NaN                                                                                                                        \n",
       "\n",
       "          isoform1=junction:chr10:103348158-103360494:+|isoform2=junction:chr10:103348158-103354414:+@exon:chr10:103354415-103354495:+@junction:chr10:103354496-103360494:+  \\\n",
       "phenotype                                                                                                                                                                     \n",
       "MN                                                  included                                                                                                                  \n",
       "NPC                                                 included                                                                                                                  \n",
       "iPSC                                                included                                                                                                                  \n",
       "\n",
       "          isoform1=junction:chr10:103361094-103368591:+|isoform2=junction:chr10:103361094-103364896:+@exon:chr10:103364897-103364969:+@junction:chr10:103364970-103368591:+  \\\n",
       "phenotype                                                                                                                                                                     \n",
       "MN                                                  excluded                                                                                                                  \n",
       "NPC                                                 excluded                                                                                                                  \n",
       "iPSC                                                excluded                                                                                                                  \n",
       "\n",
       "          isoform1=junction:chr10:103361094-103369123:+|isoform2=junction:chr10:103361094-103368591:+@exon:chr10:103368592-103368694:+@junction:chr10:103368695-103369123:+  \\\n",
       "phenotype                                                                                                                                                                     \n",
       "MN                                                       NaN                                                                                                                  \n",
       "NPC                                                  bimodal                                                                                                                  \n",
       "iPSC                                                included                                                                                                                  \n",
       "\n",
       "          isoform1=junction:chr10:1034468-1041868:+|isoform2=junction:chr10:1034468-1038428:+@exon:chr10:1038429-1038599:+@junction:chr10:1038600-1041868:+  \\\n",
       "phenotype                                                                                                                                                     \n",
       "MN                                                  included                                                                                                  \n",
       "NPC                                                 included                                                                                                  \n",
       "iPSC                                                included                                                                                                  \n",
       "\n",
       "                                                                               ...                                                                       \\\n",
       "phenotype                                                                      ...                                                                        \n",
       "MN                                                                             ...                                                                        \n",
       "NPC                                                                            ...                                                                        \n",
       "iPSC                                                                           ...                                                                        \n",
       "\n",
       "          isoform1=junction:chrX:85233896-85282494:-|isoform2=junction:chrX:85236814-85282494:-@exon:chrX:85236741-85236813:-@junction:chrX:85233896-85236740:-  \\\n",
       "phenotype                                                                                                                                                         \n",
       "MN                                                       NaN                                                                                                      \n",
       "NPC                                                      NaN                                                                                                      \n",
       "iPSC                                                included                                                                                                      \n",
       "\n",
       "          isoform1=junction:chrX:85236814-85302487:-|isoform2=junction:chrX:85282562-85302487:-@exon:chrX:85282495-85282561:-@junction:chrX:85236814-85282494:-  \\\n",
       "phenotype                                                                                                                                                         \n",
       "MN                                                       NaN                                                                                                      \n",
       "NPC                                                      NaN                                                                                                      \n",
       "iPSC                                                included                                                                                                      \n",
       "\n",
       "          isoform1=junction:chrX:9693881-9707524:-|isoform2=junction:chrX:9694017-9707524:-@novel_exon:chrX:9693988-9694016:-@junction:chrX:9693881-9693987:-  \\\n",
       "phenotype                                                                                                                                                       \n",
       "MN                                                       NaN                                                                                                    \n",
       "NPC                                                      NaN                                                                                                    \n",
       "iPSC                                                 bimodal                                                                                                    \n",
       "\n",
       "          isoform1=junction:chrX:99884984-99887481:-|isoform2=junction:chrX:99885864-99887481:-@exon:chrX:99885756-99885863:-@junction:chrX:99884984-99885755:-  \\\n",
       "phenotype                                                                                                                                                         \n",
       "MN                                                       NaN                                                                                                      \n",
       "NPC                                                  bimodal                                                                                                      \n",
       "iPSC                                                     NaN                                                                                                      \n",
       "\n",
       "          isoform1=junction:chrX:99887566-99888927:-|isoform2=junction:chrX:99888537-99888927:-@exon:chrX:99888402-99888536:-@junction:chrX:99887566-99888401:-  \\\n",
       "phenotype                                                                                                                                                         \n",
       "MN                                                  included                                                                                                      \n",
       "NPC                                                 included                                                                                                      \n",
       "iPSC                                                included                                                                                                      \n",
       "\n",
       "          isoform1=junction:chrX:99890744-99891604:-|isoform2=junction:chrX:99891205-99891604:-@novel_exon:chrX:99891188-99891204:-@junction:chrX:99890744-99891187:-  \\\n",
       "phenotype                                                                                                                                                               \n",
       "MN                                                  excluded                                                                                                            \n",
       "NPC                                                 excluded                                                                                                            \n",
       "iPSC                                                excluded                                                                                                            \n",
       "\n",
       "          isoform1=junction:chrY:15026562-15026978:+|isoform2=junction:chrY:15026562-15026795:+@exon:chrY:15026796-15026894:+@junction:chrY:15026895-15026978:+  \\\n",
       "phenotype                                                                                                                                                         \n",
       "MN                                                       NaN                                                                                                      \n",
       "NPC                                                      NaN                                                                                                      \n",
       "iPSC                                                included                                                                                                      \n",
       "\n",
       "          isoform1=junction:chrY:15028547-15029314:+|isoform2=junction:chrY:15028547-15028818:+@exon:chrY:15028819-15028972:+@junction:chrY:15028973-15029314:+  \\\n",
       "phenotype                                                                                                                                                         \n",
       "MN                                                       NaN                                                                                                      \n",
       "NPC                                                      NaN                                                                                                      \n",
       "iPSC                                                included                                                                                                      \n",
       "\n",
       "          isoform1=junction:chrY:2709669-2712117:+|isoform2=junction:chrY:2709669-2710205:+@exon:chrY:2710206-2710283:+@junction:chrY:2710284-2712117:+  \\\n",
       "phenotype                                                                                                                                                 \n",
       "MN                                                  included                                                                                              \n",
       "NPC                                                 included                                                                                              \n",
       "iPSC                                                included                                                                                              \n",
       "\n",
       "          isoform1=junction:chrY:2710284-2713686:+|isoform2=junction:chrY:2710284-2712117:+@exon:chrY:2712118-2712298:+@junction:chrY:2712299-2713686:+  \n",
       "phenotype                                                                                                                                                \n",
       "MN                                                  included                                                                                             \n",
       "NPC                                                 included                                                                                             \n",
       "iPSC                                                included                                                                                             \n",
       "\n",
       "[3 rows x 4866 columns]"
      ]
     },
     "execution_count": 62,
     "metadata": {},
     "output_type": "execute_result"
    }
   ],
   "source": [
    "modality_assignments"
   ]
  },
  {
   "cell_type": "code",
   "execution_count": 18,
   "metadata": {
    "collapsed": false
   },
   "outputs": [
    {
     "data": {
      "text/html": [
       "<div>\n",
       "<table border=\"1\" class=\"dataframe\">\n",
       "  <thead>\n",
       "    <tr style=\"text-align: right;\">\n",
       "      <th></th>\n",
       "      <th>phenotype</th>\n",
       "      <th>event_id</th>\n",
       "      <th>modality</th>\n",
       "    </tr>\n",
       "  </thead>\n",
       "  <tbody>\n",
       "    <tr>\n",
       "      <th>0</th>\n",
       "      <td>MN</td>\n",
       "      <td>isoform1=junction:chr10:102114390-102120490:+|...</td>\n",
       "      <td>included</td>\n",
       "    </tr>\n",
       "    <tr>\n",
       "      <th>1</th>\n",
       "      <td>MN</td>\n",
       "      <td>isoform1=junction:chr10:102746733-102747069:-|...</td>\n",
       "      <td>bimodal</td>\n",
       "    </tr>\n",
       "    <tr>\n",
       "      <th>2</th>\n",
       "      <td>MN</td>\n",
       "      <td>isoform1=junction:chr10:103113986-103190101:+|...</td>\n",
       "      <td>bimodal</td>\n",
       "    </tr>\n",
       "    <tr>\n",
       "      <th>3</th>\n",
       "      <td>MN</td>\n",
       "      <td>isoform1=junction:chr10:103348158-103360494:+|...</td>\n",
       "      <td>included</td>\n",
       "    </tr>\n",
       "    <tr>\n",
       "      <th>4</th>\n",
       "      <td>MN</td>\n",
       "      <td>isoform1=junction:chr10:103361094-103368591:+|...</td>\n",
       "      <td>excluded</td>\n",
       "    </tr>\n",
       "  </tbody>\n",
       "</table>\n",
       "</div>"
      ],
      "text/plain": [
       "  phenotype                                           event_id  modality\n",
       "0        MN  isoform1=junction:chr10:102114390-102120490:+|...  included\n",
       "1        MN  isoform1=junction:chr10:102746733-102747069:-|...   bimodal\n",
       "2        MN  isoform1=junction:chr10:103113986-103190101:+|...   bimodal\n",
       "3        MN  isoform1=junction:chr10:103348158-103360494:+|...  included\n",
       "4        MN  isoform1=junction:chr10:103361094-103368591:+|...  excluded"
      ]
     },
     "execution_count": 18,
     "metadata": {},
     "output_type": "execute_result"
    }
   ],
   "source": [
    "modalities_tidy = modality_assignments.stack().reset_index()\n",
    "modalities_tidy = modalities_tidy.rename(columns={'level_1': 'event_id', 0: \"modality\",})\n",
    "modalities_tidy.head()"
   ]
  },
  {
   "cell_type": "code",
   "execution_count": 63,
   "metadata": {
    "collapsed": false
   },
   "outputs": [
    {
     "data": {
      "text/html": [
       "<div>\n",
       "<table border=\"1\" class=\"dataframe\">\n",
       "  <thead>\n",
       "    <tr style=\"text-align: right;\">\n",
       "      <th></th>\n",
       "      <th>phenotype</th>\n",
       "      <th>event_id</th>\n",
       "      <th>modality</th>\n",
       "    </tr>\n",
       "  </thead>\n",
       "  <tbody>\n",
       "  </tbody>\n",
       "</table>\n",
       "</div>"
      ],
      "text/plain": [
       "Empty DataFrame\n",
       "Columns: [phenotype, event_id, modality]\n",
       "Index: []"
      ]
     },
     "execution_count": 63,
     "metadata": {},
     "output_type": "execute_result"
    }
   ],
   "source": [
    "modalities_tidy.loc[modalities_tidy.event_id.isin(pkm_mxe_events)]"
   ]
  },
  {
   "cell_type": "code",
   "execution_count": 64,
   "metadata": {
    "collapsed": false
   },
   "outputs": [
    {
     "data": {
      "text/html": [
       "<div>\n",
       "<table border=\"1\" class=\"dataframe\">\n",
       "  <thead>\n",
       "    <tr style=\"text-align: right;\">\n",
       "      <th></th>\n",
       "      <th>phenotype</th>\n",
       "      <th>event_id</th>\n",
       "      <th>modality</th>\n",
       "    </tr>\n",
       "  </thead>\n",
       "  <tbody>\n",
       "  </tbody>\n",
       "</table>\n",
       "</div>"
      ],
      "text/plain": [
       "Empty DataFrame\n",
       "Columns: [phenotype, event_id, modality]\n",
       "Index: []"
      ]
     },
     "execution_count": 64,
     "metadata": {},
     "output_type": "execute_result"
    }
   ],
   "source": [
    "modalities_tidy.loc[modalities_tidy.event_id.isin(rps24_events)]"
   ]
  },
  {
   "cell_type": "code",
   "execution_count": 27,
   "metadata": {
    "collapsed": false
   },
   "outputs": [
    {
     "data": {
      "text/html": [
       "<div>\n",
       "<table border=\"1\" class=\"dataframe\">\n",
       "  <thead>\n",
       "    <tr style=\"text-align: right;\">\n",
       "      <th></th>\n",
       "      <th>phenotype</th>\n",
       "      <th>modality</th>\n",
       "      <th># AS events</th>\n",
       "    </tr>\n",
       "  </thead>\n",
       "  <tbody>\n",
       "    <tr>\n",
       "      <th>0</th>\n",
       "      <td>MN</td>\n",
       "      <td>bimodal</td>\n",
       "      <td>450</td>\n",
       "    </tr>\n",
       "    <tr>\n",
       "      <th>1</th>\n",
       "      <td>MN</td>\n",
       "      <td>excluded</td>\n",
       "      <td>890</td>\n",
       "    </tr>\n",
       "    <tr>\n",
       "      <th>2</th>\n",
       "      <td>MN</td>\n",
       "      <td>included</td>\n",
       "      <td>735</td>\n",
       "    </tr>\n",
       "    <tr>\n",
       "      <th>3</th>\n",
       "      <td>MN</td>\n",
       "      <td>uncategorized</td>\n",
       "      <td>1</td>\n",
       "    </tr>\n",
       "    <tr>\n",
       "      <th>4</th>\n",
       "      <td>NPC</td>\n",
       "      <td>bimodal</td>\n",
       "      <td>735</td>\n",
       "    </tr>\n",
       "  </tbody>\n",
       "</table>\n",
       "</div>"
      ],
      "text/plain": [
       "  phenotype       modality  # AS events\n",
       "0        MN        bimodal          450\n",
       "1        MN       excluded          890\n",
       "2        MN       included          735\n",
       "3        MN  uncategorized            1\n",
       "4       NPC        bimodal          735"
      ]
     },
     "execution_count": 27,
     "metadata": {},
     "output_type": "execute_result"
    }
   ],
   "source": [
    "modalities_counts = modalities_tidy.groupby(['phenotype', 'modality']).count().reset_index()\n",
    "modalities_counts = modalities_counts.rename(columns={'event_id': '# AS events'})\n",
    "modalities_counts.head()"
   ]
  },
  {
   "cell_type": "code",
   "execution_count": 28,
   "metadata": {
    "collapsed": true
   },
   "outputs": [],
   "source": [
    "from anchor import MODALITY_ORDER, MODALITY_PALETTE, MODALITY_TO_COLOR"
   ]
  },
  {
   "cell_type": "code",
   "execution_count": 29,
   "metadata": {
    "collapsed": false
   },
   "outputs": [
    {
     "data": {
      "text/html": [
       "<div>\n",
       "<table border=\"1\" class=\"dataframe\">\n",
       "  <thead>\n",
       "    <tr style=\"text-align: right;\">\n",
       "      <th>phenotype</th>\n",
       "      <th>iPSC</th>\n",
       "      <th>NPC</th>\n",
       "      <th>MN</th>\n",
       "    </tr>\n",
       "    <tr>\n",
       "      <th>modality</th>\n",
       "      <th></th>\n",
       "      <th></th>\n",
       "      <th></th>\n",
       "    </tr>\n",
       "  </thead>\n",
       "  <tbody>\n",
       "    <tr>\n",
       "      <th>excluded</th>\n",
       "      <td>1624.0</td>\n",
       "      <td>1254.0</td>\n",
       "      <td>890.0</td>\n",
       "    </tr>\n",
       "    <tr>\n",
       "      <th>bimodal</th>\n",
       "      <td>1189.0</td>\n",
       "      <td>735.0</td>\n",
       "      <td>450.0</td>\n",
       "    </tr>\n",
       "    <tr>\n",
       "      <th>included</th>\n",
       "      <td>1585.0</td>\n",
       "      <td>1043.0</td>\n",
       "      <td>735.0</td>\n",
       "    </tr>\n",
       "    <tr>\n",
       "      <th>middle</th>\n",
       "      <td>NaN</td>\n",
       "      <td>NaN</td>\n",
       "      <td>NaN</td>\n",
       "    </tr>\n",
       "    <tr>\n",
       "      <th>uncategorized</th>\n",
       "      <td>36.0</td>\n",
       "      <td>4.0</td>\n",
       "      <td>1.0</td>\n",
       "    </tr>\n",
       "  </tbody>\n",
       "</table>\n",
       "</div>"
      ],
      "text/plain": [
       "phenotype        iPSC     NPC     MN\n",
       "modality                            \n",
       "excluded       1624.0  1254.0  890.0\n",
       "bimodal        1189.0   735.0  450.0\n",
       "included       1585.0  1043.0  735.0\n",
       "middle            NaN     NaN    NaN\n",
       "uncategorized    36.0     4.0    1.0"
      ]
     },
     "execution_count": 29,
     "metadata": {},
     "output_type": "execute_result"
    }
   ],
   "source": [
    "modalities_counts_2d = modalities_counts.pivot(index='phenotype', columns='modality', values='# AS events')\n",
    "modalities_counts_2d = modalities_counts_2d.reindex(columns=MODALITY_ORDER, index=study.phenotype_order)\n",
    "modalities_counts_2d = modalities_counts_2d.T\n",
    "modalities_counts_2d"
   ]
  },
  {
   "cell_type": "code",
   "execution_count": 44,
   "metadata": {
    "collapsed": true
   },
   "outputs": [],
   "source": [
    "sns.set(style='ticks', context='paper', rc={'font.sans-serif':'Arial', 'pdf.fonttype': 42})\n"
   ]
  },
  {
   "cell_type": "code",
   "execution_count": 51,
   "metadata": {
    "collapsed": false
   },
   "outputs": [
    {
     "data": {
      "image/png": "[encoded data removed]",
      "text/plain": [
       "<matplotlib.figure.Figure at 0x2ae27355a8d0>"
      ]
     },
     "metadata": {},
     "output_type": "display_data"
    }
   ],
   "source": [
    "fig, ax= plt.subplots(figsize=(2.5, 1.5))\n",
    "mask = modalities_counts_2d.isnull()\n",
    "sns.heatmap(modalities_counts_2d, annot=True, mask=mask, fmt='g', annot_kws=dict(size=8), cmap='Greys')\n",
    "ax.set(xlabel='', ylabel='')\n",
    "fig.tight_layout()\n",
    "fig.savefig('{}/modalities_counts_heatmap.pdf'.format(figure_folder))"
   ]
  },
  {
   "cell_type": "code",
   "execution_count": 46,
   "metadata": {
    "collapsed": false
   },
   "outputs": [
    {
     "data": {
      "text/html": [
       "<div>\n",
       "<table border=\"1\" class=\"dataframe\">\n",
       "  <thead>\n",
       "    <tr style=\"text-align: right;\">\n",
       "      <th></th>\n",
       "      <th>phenotype</th>\n",
       "      <th>modality</th>\n",
       "      <th># AS events</th>\n",
       "      <th>percentage</th>\n",
       "    </tr>\n",
       "  </thead>\n",
       "  <tbody>\n",
       "    <tr>\n",
       "      <th>0</th>\n",
       "      <td>MN</td>\n",
       "      <td>bimodal</td>\n",
       "      <td>450</td>\n",
       "      <td>21.676301</td>\n",
       "    </tr>\n",
       "    <tr>\n",
       "      <th>1</th>\n",
       "      <td>MN</td>\n",
       "      <td>excluded</td>\n",
       "      <td>890</td>\n",
       "      <td>42.870906</td>\n",
       "    </tr>\n",
       "    <tr>\n",
       "      <th>2</th>\n",
       "      <td>MN</td>\n",
       "      <td>included</td>\n",
       "      <td>735</td>\n",
       "      <td>35.404624</td>\n",
       "    </tr>\n",
       "    <tr>\n",
       "      <th>3</th>\n",
       "      <td>MN</td>\n",
       "      <td>uncategorized</td>\n",
       "      <td>1</td>\n",
       "      <td>0.048170</td>\n",
       "    </tr>\n",
       "    <tr>\n",
       "      <th>4</th>\n",
       "      <td>NPC</td>\n",
       "      <td>bimodal</td>\n",
       "      <td>735</td>\n",
       "      <td>24.209486</td>\n",
       "    </tr>\n",
       "    <tr>\n",
       "      <th>5</th>\n",
       "      <td>NPC</td>\n",
       "      <td>excluded</td>\n",
       "      <td>1254</td>\n",
       "      <td>41.304348</td>\n",
       "    </tr>\n",
       "    <tr>\n",
       "      <th>6</th>\n",
       "      <td>NPC</td>\n",
       "      <td>included</td>\n",
       "      <td>1043</td>\n",
       "      <td>34.354414</td>\n",
       "    </tr>\n",
       "    <tr>\n",
       "      <th>7</th>\n",
       "      <td>NPC</td>\n",
       "      <td>uncategorized</td>\n",
       "      <td>4</td>\n",
       "      <td>0.131752</td>\n",
       "    </tr>\n",
       "    <tr>\n",
       "      <th>8</th>\n",
       "      <td>iPSC</td>\n",
       "      <td>bimodal</td>\n",
       "      <td>1189</td>\n",
       "      <td>26.815516</td>\n",
       "    </tr>\n",
       "    <tr>\n",
       "      <th>9</th>\n",
       "      <td>iPSC</td>\n",
       "      <td>excluded</td>\n",
       "      <td>1624</td>\n",
       "      <td>36.626071</td>\n",
       "    </tr>\n",
       "    <tr>\n",
       "      <th>10</th>\n",
       "      <td>iPSC</td>\n",
       "      <td>included</td>\n",
       "      <td>1585</td>\n",
       "      <td>35.746504</td>\n",
       "    </tr>\n",
       "    <tr>\n",
       "      <th>11</th>\n",
       "      <td>iPSC</td>\n",
       "      <td>uncategorized</td>\n",
       "      <td>36</td>\n",
       "      <td>0.811908</td>\n",
       "    </tr>\n",
       "  </tbody>\n",
       "</table>\n",
       "</div>"
      ],
      "text/plain": [
       "   phenotype       modality  # AS events  percentage\n",
       "0         MN        bimodal          450   21.676301\n",
       "1         MN       excluded          890   42.870906\n",
       "2         MN       included          735   35.404624\n",
       "3         MN  uncategorized            1    0.048170\n",
       "4        NPC        bimodal          735   24.209486\n",
       "5        NPC       excluded         1254   41.304348\n",
       "6        NPC       included         1043   34.354414\n",
       "7        NPC  uncategorized            4    0.131752\n",
       "8       iPSC        bimodal         1189   26.815516\n",
       "9       iPSC       excluded         1624   36.626071\n",
       "10      iPSC       included         1585   35.746504\n",
       "11      iPSC  uncategorized           36    0.811908"
      ]
     },
     "execution_count": 46,
     "metadata": {},
     "output_type": "execute_result"
    }
   ],
   "source": [
    "modalities_counts['percentage'] = 100*modalities_counts.groupby('phenotype')['# AS events'].apply(lambda x: x/x.sum())\n",
    "modalities_counts"
   ]
  },
  {
   "cell_type": "code",
   "execution_count": 47,
   "metadata": {
    "collapsed": false
   },
   "outputs": [
    {
     "data": {
      "image/png": "[encoded data removed]",
      "text/plain": [
       "<matplotlib.figure.Figure at 0x2ae26dcdd750>"
      ]
     },
     "metadata": {},
     "output_type": "display_data"
    }
   ],
   "source": [
    "\n",
    "fig, ax = plt.subplots(figsize=(2, 1.5))\n",
    "\n",
    "# ax = axes[0]\n",
    "sns.barplot(x='phenotype', hue='modality', y='percentage', data=modalities_counts, ax=ax,\n",
    "            hue_order=MODALITY_ORDER, palette=MODALITY_PALETTE, x_order=study.phenotype_order, zorder=-1)\n",
    "ax.legend_.set_visible(False)\n",
    "ax.locator_params('y', nbins=5)\n",
    "ax.set(ylabel='% AS Exons', ylim=(0, 50))\n",
    "ax.grid(axis='y', color='white', zorder=100)\n",
    "sns.despine()\n",
    "fig.savefig('{}/modalities_barplot.pdf'.format(figure_folder))\n",
    "\n",
    "ax.set(ylim=(0, 1))\n",
    "# ax.grid(axis='y', color='grey', zorder=np.inf)\n",
    "fig.savefig('{}/modalities_barplot_zoom.pdf'.format(figure_folder))"
   ]
  },
  {
   "cell_type": "code",
   "execution_count": 35,
   "metadata": {
    "collapsed": true
   },
   "outputs": [],
   "source": [
    "study.supplemental.modalities_tidy = modalities_tidy"
   ]
  },
  {
   "cell_type": "code",
   "execution_count": 36,
   "metadata": {
    "collapsed": false
   },
   "outputs": [
    {
     "data": {
      "text/plain": [
       "phenotype  modality     \n",
       "MN         bimodal           450\n",
       "           excluded          890\n",
       "           included          735\n",
       "           uncategorized       1\n",
       "NPC        bimodal           735\n",
       "           excluded         1254\n",
       "           included         1043\n",
       "           uncategorized       4\n",
       "iPSC       bimodal          1189\n",
       "           excluded         1624\n",
       "           included         1585\n",
       "           uncategorized      36\n",
       "dtype: int64"
      ]
     },
     "execution_count": 36,
     "metadata": {},
     "output_type": "execute_result"
    }
   ],
   "source": [
    "modalities_tidy.groupby(['phenotype', 'modality']).size()"
   ]
  },
  {
   "cell_type": "code",
   "execution_count": 53,
   "metadata": {
    "collapsed": false
   },
   "outputs": [
    {
     "name": "stdout",
     "output_type": "stream",
     "text": [
      "Wrote datapackage to /projects/ps-yeolab/obotvinnik/flotilla_projects/singlecell_pnm_figure2_modalities_rmdup/datapackage.json\n"
     ]
    }
   ],
   "source": [
    "flotilla_dir = '/projects/ps-yeolab/obotvinnik/flotilla_projects'\n",
    "study.save('singlecell_pnm_figure2_modalities_rmdup', flotilla_dir=flotilla_dir)"
   ]
  },
  {
   "cell_type": "code",
   "execution_count": null,
   "metadata": {
    "collapsed": true
   },
   "outputs": [],
   "source": []
  }
 ],
 "metadata": {
  "kernelspec": {
   "display_name": "Python 2",
   "language": "python",
   "name": "python2"
  },
  "language_info": {
   "codemirror_mode": {
    "name": "ipython",
    "version": 2
   },
   "file_extension": ".py",
   "mimetype": "text/x-python",
   "name": "python",
   "nbconvert_exporter": "python",
   "pygments_lexer": "ipython2",
   "version": "2.7.11"
  }
 },
 "nbformat": 4,
 "nbformat_minor": 0
}
