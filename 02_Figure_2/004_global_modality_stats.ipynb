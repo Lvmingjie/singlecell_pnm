{
 "cells": [
  {
   "cell_type": "code",
   "execution_count": 1,
   "metadata": {
    "collapsed": false
   },
   "outputs": [
    {
     "name": "stderr",
     "output_type": "stream",
     "text": [
      "/home/obotvinnik/anaconda/lib/python2.7/site-packages/sklearn/cross_validation.py:44: DeprecationWarning: This module was deprecated in version 0.18 in favor of the model_selection module into which all the refactored classes and functions are moved. Also note that the interface of the new CV iterators are different from that of this module. This module will be removed in 0.20.\n",
      "  \"This module will be removed in 0.20.\", DeprecationWarning)\n",
      "/home/obotvinnik/workspace-git/flotilla/flotilla/__init__.py:65: DtypeWarning: Columns (19) have mixed types. Specify dtype option on import or set low_memory=False.\n",
      "  load_species_data=load_species_data)\n"
     ]
    },
    {
     "name": "stdout",
     "output_type": "stream",
     "text": [
      "2016-10-28 12:21:32\tReading datapackage from /projects/ps-yeolab/obotvinnik/flotilla_projects/singlecell_pnm_figure2_modalities_bayesian/datapackage.json\n",
      "2016-10-28 12:21:32\tParsing datapackage to create a Study object\n",
      "https://s3-us-west-2.amazonaws.com/flotilla-projects/ercc/ERCC_Controls.txt has not been downloaded before.\n",
      "\tDownloading now to /home/obotvinnik/flotilla_projects/hg19/ERCC_Controls.txt\n",
      "2016-10-28 12:22:02 \tInitializing Study\n",
      "2016-10-28 12:22:02 \tInitializing Predictor configuration manager for Study\n",
      "2016-10-28 12:22:02\tPredictor ExtraTreesClassifier is of type <class 'sklearn.ensemble.forest.ExtraTreesClassifier'>\n",
      "2016-10-28 12:22:02\tAdded ExtraTreesClassifier to default predictors\n",
      "2016-10-28 12:22:02\tPredictor ExtraTreesRegressor is of type <class 'sklearn.ensemble.forest.ExtraTreesRegressor'>\n",
      "2016-10-28 12:22:02\tAdded ExtraTreesRegressor to default predictors\n",
      "2016-10-28 12:22:02\tPredictor GradientBoostingClassifier is of type <class 'sklearn.ensemble.gradient_boosting.GradientBoostingClassifier'>\n",
      "2016-10-28 12:22:02\tAdded GradientBoostingClassifier to default predictors\n",
      "2016-10-28 12:22:02\tPredictor GradientBoostingRegressor is of type <class 'sklearn.ensemble.gradient_boosting.GradientBoostingRegressor'>\n",
      "2016-10-28 12:22:02\tAdded GradientBoostingRegressor to default predictors\n",
      "2016-10-28 12:22:06 \tBuilding Gene Ontology database...\n",
      "2016-10-28 12:22:16 \t\tDone\n",
      "2016-10-28 12:22:17 \tLoading metadata\n",
      "2016-10-28 12:22:17\tLoading expression data\n",
      "2016-10-28 12:22:17\tInitializing expression\n",
      "2016-10-28 12:22:17\tDone initializing expression\n",
      "2016-10-28 12:22:19\tLoading splicing data\n",
      "2016-10-28 12:22:19\tInitializing splicing\n",
      "2016-10-28 12:22:20\tDone initializing splicing\n",
      "2016-10-28 12:22:20\tSuccessfully initialized a Study object!\n"
     ]
    },
    {
     "name": "stderr",
     "output_type": "stream",
     "text": [
      "Error loading species hg19 data: HTTP Error 404: Not Found"
     ]
    }
   ],
   "source": [
    "%load_ext autoreload\n",
    "%autoreload 2\n",
    "\n",
    "import matplotlib.pyplot as plt\n",
    "import seaborn as sns\n",
    "import numpy as np\n",
    "import pandas as pd\n",
    "\n",
    "sns.set(style='ticks', context='paper', rc={'font.sans-serif':'Arial', 'pdf.fonttype': 42})\n",
    "\n",
    "%matplotlib inline\n",
    "\n",
    "import flotilla\n",
    "\n",
    "flotilla_dir = '/projects/ps-yeolab/obotvinnik/flotilla_projects'\n",
    "\n",
    "study = flotilla.embark('singlecell_pnm_figure2_modalities_bayesian', flotilla_dir=flotilla_dir)\n",
    "\n",
    "not_outliers = study.splicing.singles.index.difference(study.splicing.outliers.index)\n"
   ]
  },
  {
   "cell_type": "code",
   "execution_count": 2,
   "metadata": {
    "collapsed": false
   },
   "outputs": [
    {
     "name": "stdout",
     "output_type": "stream",
     "text": [
      "mkdir: cannot create directory `figures': File exists\r\n"
     ]
    }
   ],
   "source": [
    "figure_folder = 'figures/004_global_modality_stats'\n",
    "! mkdir $figure_folder"
   ]
  },
  {
   "cell_type": "code",
   "execution_count": 3,
   "metadata": {
    "collapsed": false
   },
   "outputs": [
    {
     "data": {
      "text/plain": [
       "False"
      ]
     },
     "execution_count": 3,
     "metadata": {},
     "output_type": "execute_result"
    }
   ],
   "source": [
    "event = 'exon:chr10:1043148-1043248:+@exon:chr10:1044943-1045035:+@exon:chr10:1046617-1046808:+'\n",
    "\n",
    "event in study.splicing.data"
   ]
  },
  {
   "cell_type": "code",
   "execution_count": 4,
   "metadata": {
    "collapsed": false
   },
   "outputs": [
    {
     "data": {
      "text/html": [
       "<div>\n",
       "<table border=\"1\" class=\"dataframe\">\n",
       "  <thead>\n",
       "    <tr style=\"text-align: right;\">\n",
       "      <th></th>\n",
       "      <th>phenotype</th>\n",
       "      <th>modality</th>\n",
       "      <th># AS events</th>\n",
       "    </tr>\n",
       "  </thead>\n",
       "  <tbody>\n",
       "    <tr>\n",
       "      <th>0</th>\n",
       "      <td>MN</td>\n",
       "      <td>bimodal</td>\n",
       "      <td>26</td>\n",
       "    </tr>\n",
       "    <tr>\n",
       "      <th>1</th>\n",
       "      <td>MN</td>\n",
       "      <td>excluded</td>\n",
       "      <td>119</td>\n",
       "    </tr>\n",
       "    <tr>\n",
       "      <th>2</th>\n",
       "      <td>MN</td>\n",
       "      <td>included</td>\n",
       "      <td>313</td>\n",
       "    </tr>\n",
       "    <tr>\n",
       "      <th>3</th>\n",
       "      <td>MN</td>\n",
       "      <td>uncategorized</td>\n",
       "      <td>2</td>\n",
       "    </tr>\n",
       "    <tr>\n",
       "      <th>4</th>\n",
       "      <td>NPC</td>\n",
       "      <td>bimodal</td>\n",
       "      <td>23</td>\n",
       "    </tr>\n",
       "  </tbody>\n",
       "</table>\n",
       "</div>"
      ],
      "text/plain": [
       "  phenotype       modality  # AS events\n",
       "0        MN        bimodal           26\n",
       "1        MN       excluded          119\n",
       "2        MN       included          313\n",
       "3        MN  uncategorized            2\n",
       "4       NPC        bimodal           23"
      ]
     },
     "execution_count": 4,
     "metadata": {},
     "output_type": "execute_result"
    }
   ],
   "source": [
    "modalities_counts = study.supplemental.modalities_tidy.groupby(['phenotype', 'modality']).count().reset_index()\n",
    "modalities_counts = modalities_counts.rename(columns={'event_id': '# AS events'})\n",
    "modalities_counts.head()"
   ]
  },
  {
   "cell_type": "code",
   "execution_count": 5,
   "metadata": {
    "collapsed": false
   },
   "outputs": [
    {
     "data": {
      "text/html": [
       "<div>\n",
       "<table border=\"1\" class=\"dataframe\">\n",
       "  <thead>\n",
       "    <tr style=\"text-align: right;\">\n",
       "      <th>phenotype</th>\n",
       "      <th>iPSC</th>\n",
       "      <th>NPC</th>\n",
       "      <th>MN</th>\n",
       "    </tr>\n",
       "    <tr>\n",
       "      <th>modality</th>\n",
       "      <th></th>\n",
       "      <th></th>\n",
       "      <th></th>\n",
       "    </tr>\n",
       "  </thead>\n",
       "  <tbody>\n",
       "    <tr>\n",
       "      <th>excluded</th>\n",
       "      <td>118</td>\n",
       "      <td>108</td>\n",
       "      <td>119</td>\n",
       "    </tr>\n",
       "    <tr>\n",
       "      <th>bimodal</th>\n",
       "      <td>79</td>\n",
       "      <td>23</td>\n",
       "      <td>26</td>\n",
       "    </tr>\n",
       "    <tr>\n",
       "      <th>included</th>\n",
       "      <td>350</td>\n",
       "      <td>328</td>\n",
       "      <td>313</td>\n",
       "    </tr>\n",
       "    <tr>\n",
       "      <th>middle</th>\n",
       "      <td>1</td>\n",
       "      <td>NaN</td>\n",
       "      <td>NaN</td>\n",
       "    </tr>\n",
       "    <tr>\n",
       "      <th>uncategorized</th>\n",
       "      <td>4</td>\n",
       "      <td>3</td>\n",
       "      <td>2</td>\n",
       "    </tr>\n",
       "  </tbody>\n",
       "</table>\n",
       "</div>"
      ],
      "text/plain": [
       "phenotype      iPSC  NPC   MN\n",
       "modality                     \n",
       "excluded        118  108  119\n",
       "bimodal          79   23   26\n",
       "included        350  328  313\n",
       "middle            1  NaN  NaN\n",
       "uncategorized     4    3    2"
      ]
     },
     "execution_count": 5,
     "metadata": {},
     "output_type": "execute_result"
    }
   ],
   "source": [
    "from anchor import MODALITY_ORDER, MODALITY_PALETTE, MODALITY_TO_COLOR\n",
    "\n",
    "modalities_counts_2d = modalities_counts.pivot(index='phenotype', columns='modality', values='# AS events')\n",
    "modalities_counts_2d = modalities_counts_2d.reindex(columns=MODALITY_ORDER, index=study.phenotype_order)\n",
    "modalities_counts_2d = modalities_counts_2d.T\n",
    "modalities_counts_2d"
   ]
  },
  {
   "cell_type": "code",
   "execution_count": 6,
   "metadata": {
    "collapsed": false
   },
   "outputs": [
    {
     "data": {
      "text/html": [
       "<div>\n",
       "<table border=\"1\" class=\"dataframe\">\n",
       "  <thead>\n",
       "    <tr style=\"text-align: right;\">\n",
       "      <th>phenotype</th>\n",
       "      <th>iPSC</th>\n",
       "      <th>NPC</th>\n",
       "      <th>MN</th>\n",
       "    </tr>\n",
       "    <tr>\n",
       "      <th>modality</th>\n",
       "      <th></th>\n",
       "      <th></th>\n",
       "      <th></th>\n",
       "    </tr>\n",
       "  </thead>\n",
       "  <tbody>\n",
       "    <tr>\n",
       "      <th>excluded</th>\n",
       "      <td>118</td>\n",
       "      <td>108</td>\n",
       "      <td>119</td>\n",
       "    </tr>\n",
       "    <tr>\n",
       "      <th>bimodal</th>\n",
       "      <td>79</td>\n",
       "      <td>23</td>\n",
       "      <td>26</td>\n",
       "    </tr>\n",
       "    <tr>\n",
       "      <th>included</th>\n",
       "      <td>350</td>\n",
       "      <td>328</td>\n",
       "      <td>313</td>\n",
       "    </tr>\n",
       "    <tr>\n",
       "      <th>middle</th>\n",
       "      <td>1</td>\n",
       "      <td>0</td>\n",
       "      <td>0</td>\n",
       "    </tr>\n",
       "    <tr>\n",
       "      <th>uncategorized</th>\n",
       "      <td>4</td>\n",
       "      <td>3</td>\n",
       "      <td>2</td>\n",
       "    </tr>\n",
       "  </tbody>\n",
       "</table>\n",
       "</div>"
      ],
      "text/plain": [
       "phenotype      iPSC  NPC   MN\n",
       "modality                     \n",
       "excluded        118  108  119\n",
       "bimodal          79   23   26\n",
       "included        350  328  313\n",
       "middle            1    0    0\n",
       "uncategorized     4    3    2"
      ]
     },
     "execution_count": 6,
     "metadata": {},
     "output_type": "execute_result"
    }
   ],
   "source": [
    "modalities_counts_2d = modalities_counts_2d.fillna(0)\n",
    "modalities_counts_2d"
   ]
  },
  {
   "cell_type": "code",
   "execution_count": 7,
   "metadata": {
    "collapsed": false
   },
   "outputs": [
    {
     "data": {
      "image/png": "[encoded data removed]",
      "text/plain": [
       "<matplotlib.figure.Figure at 0x2ae0a46d3b90>"
      ]
     },
     "metadata": {},
     "output_type": "display_data"
    }
   ],
   "source": [
    "sns.set(style='ticks', context='paper')\n",
    "fig, ax= plt.subplots(figsize=(2.75, 1.5))\n",
    "mask = modalities_counts_2d.isnull()\n",
    "sns.heatmap(modalities_counts_2d, annot=True, mask=mask, fmt='g', annot_kws=dict(size=9), \n",
    "            cmap='Greys', linewidth=1, linecolor='grey')\n",
    "fig.tight_layout()\n",
    "fig.savefig('{}/modalities_counts_heatmap.pdf'.format(folder))"
   ]
  },
  {
   "cell_type": "code",
   "execution_count": 8,
   "metadata": {
    "collapsed": false
   },
   "outputs": [
    {
     "data": {
      "text/html": [
       "<div>\n",
       "<table border=\"1\" class=\"dataframe\">\n",
       "  <thead>\n",
       "    <tr style=\"text-align: right;\">\n",
       "      <th></th>\n",
       "      <th>phenotype</th>\n",
       "      <th>modality</th>\n",
       "      <th># AS events</th>\n",
       "      <th>percentage</th>\n",
       "    </tr>\n",
       "  </thead>\n",
       "  <tbody>\n",
       "    <tr>\n",
       "      <th>0</th>\n",
       "      <td>MN</td>\n",
       "      <td>bimodal</td>\n",
       "      <td>26</td>\n",
       "      <td>5.652174</td>\n",
       "    </tr>\n",
       "    <tr>\n",
       "      <th>1</th>\n",
       "      <td>MN</td>\n",
       "      <td>excluded</td>\n",
       "      <td>119</td>\n",
       "      <td>25.869565</td>\n",
       "    </tr>\n",
       "    <tr>\n",
       "      <th>2</th>\n",
       "      <td>MN</td>\n",
       "      <td>included</td>\n",
       "      <td>313</td>\n",
       "      <td>68.043478</td>\n",
       "    </tr>\n",
       "    <tr>\n",
       "      <th>3</th>\n",
       "      <td>MN</td>\n",
       "      <td>uncategorized</td>\n",
       "      <td>2</td>\n",
       "      <td>0.434783</td>\n",
       "    </tr>\n",
       "    <tr>\n",
       "      <th>4</th>\n",
       "      <td>NPC</td>\n",
       "      <td>bimodal</td>\n",
       "      <td>23</td>\n",
       "      <td>4.978355</td>\n",
       "    </tr>\n",
       "    <tr>\n",
       "      <th>5</th>\n",
       "      <td>NPC</td>\n",
       "      <td>excluded</td>\n",
       "      <td>108</td>\n",
       "      <td>23.376623</td>\n",
       "    </tr>\n",
       "    <tr>\n",
       "      <th>6</th>\n",
       "      <td>NPC</td>\n",
       "      <td>included</td>\n",
       "      <td>328</td>\n",
       "      <td>70.995671</td>\n",
       "    </tr>\n",
       "    <tr>\n",
       "      <th>7</th>\n",
       "      <td>NPC</td>\n",
       "      <td>uncategorized</td>\n",
       "      <td>3</td>\n",
       "      <td>0.649351</td>\n",
       "    </tr>\n",
       "    <tr>\n",
       "      <th>8</th>\n",
       "      <td>iPSC</td>\n",
       "      <td>bimodal</td>\n",
       "      <td>79</td>\n",
       "      <td>14.311594</td>\n",
       "    </tr>\n",
       "    <tr>\n",
       "      <th>9</th>\n",
       "      <td>iPSC</td>\n",
       "      <td>excluded</td>\n",
       "      <td>118</td>\n",
       "      <td>21.376812</td>\n",
       "    </tr>\n",
       "    <tr>\n",
       "      <th>10</th>\n",
       "      <td>iPSC</td>\n",
       "      <td>included</td>\n",
       "      <td>350</td>\n",
       "      <td>63.405797</td>\n",
       "    </tr>\n",
       "    <tr>\n",
       "      <th>11</th>\n",
       "      <td>iPSC</td>\n",
       "      <td>middle</td>\n",
       "      <td>1</td>\n",
       "      <td>0.181159</td>\n",
       "    </tr>\n",
       "    <tr>\n",
       "      <th>12</th>\n",
       "      <td>iPSC</td>\n",
       "      <td>uncategorized</td>\n",
       "      <td>4</td>\n",
       "      <td>0.724638</td>\n",
       "    </tr>\n",
       "  </tbody>\n",
       "</table>\n",
       "</div>"
      ],
      "text/plain": [
       "   phenotype       modality  # AS events  percentage\n",
       "0         MN        bimodal           26    5.652174\n",
       "1         MN       excluded          119   25.869565\n",
       "2         MN       included          313   68.043478\n",
       "3         MN  uncategorized            2    0.434783\n",
       "4        NPC        bimodal           23    4.978355\n",
       "5        NPC       excluded          108   23.376623\n",
       "6        NPC       included          328   70.995671\n",
       "7        NPC  uncategorized            3    0.649351\n",
       "8       iPSC        bimodal           79   14.311594\n",
       "9       iPSC       excluded          118   21.376812\n",
       "10      iPSC       included          350   63.405797\n",
       "11      iPSC         middle            1    0.181159\n",
       "12      iPSC  uncategorized            4    0.724638"
      ]
     },
     "execution_count": 8,
     "metadata": {},
     "output_type": "execute_result"
    }
   ],
   "source": [
    "modalities_counts['percentage'] = 100*modalities_counts.groupby('phenotype')['# AS events'].apply(lambda x: x/x.sum())\n",
    "modalities_counts"
   ]
  },
  {
   "cell_type": "code",
   "execution_count": 9,
   "metadata": {
    "collapsed": true
   },
   "outputs": [],
   "source": [
    "from anchor import MODALITY_ORDER, MODALITY_PALETTE, MODALITY_TO_COLOR"
   ]
  },
  {
   "cell_type": "markdown",
   "metadata": {},
   "source": [
    "## Barplots"
   ]
  },
  {
   "cell_type": "code",
   "execution_count": 30,
   "metadata": {
    "collapsed": false
   },
   "outputs": [
    {
     "data": {
      "image/png": "[encoded data removed]",
      "text/plain": [
       "<matplotlib.figure.Figure at 0x2b3b3dbfcc10>"
      ]
     },
     "metadata": {},
     "output_type": "display_data"
    }
   ],
   "source": [
    "\n",
    "fig, ax = plt.subplots(figsize=(2, 1.5))\n",
    "\n",
    "# ax = axes[0]\n",
    "sns.barplot(x='phenotype', hue='modality', y='percentage', data=modalities_counts, ax=ax,\n",
    "            hue_order=MODALITY_ORDER, palette=MODALITY_PALETTE, x_order=study.phenotype_order, zorder=-1)\n",
    "ax.legend_.set_visible(False)\n",
    "ax.locator_params('y', nbins=4)\n",
    "ax.set(ylabel='% AS Exons')\n",
    "ax.grid(axis='y', color='white', zorder=100)\n",
    "sns.despine()\n",
    "fig.savefig('{}/modalities_barplot.pdf'.format(folder))\n",
    "\n",
    "ax.set(ylim=(0, 0.3))\n",
    "# ax.grid(axis='y', color='grey', zorder=np.inf)\n",
    "fig.savefig('{}/modalities_barplot_zoom.pdf'.format(folder))\n",
    "\n",
    "# ax.legend_.set_visible(False)\n",
    "# ax.locator_params('y', nbins=4)\n",
    "# sns.despine(ax=ax, bottom=True)\n",
    "# ax.tick_params(axis='x', bottom='off')\n",
    "# ax.set(xticks=[], xlabel='', ylim=(10, 65), ylabel='', yticks=[10, 35, 60])\n",
    "\n",
    "# ax = axes[1]\n",
    "# sns.barplot(x='phenotype', hue='modality', y='percentage', data=modalities_counts, ax=ax,\n",
    "#            hue_order=MODALITY_ORDER, palette=MODALITY_PALETTE, x_order=study.phenotype_order)\n",
    "# ax.set(ylim=(0, 0.5), ylabel='% AS Exons', \n",
    "#        xlabel='')\n",
    "# ax.legend_.set_visible(False)\n",
    "# ax.locator_params('y', nbins=4)\n",
    "# sns.despine(ax=ax)\n",
    "# # fig.tight_layout()\n",
    "# fig.savefig('{}/modalities_barplot.pdf'.format(folder))"
   ]
  },
  {
   "cell_type": "code",
   "execution_count": 32,
   "metadata": {
    "collapsed": false
   },
   "outputs": [
    {
     "data": {
      "text/plain": [
       "array(['mRNA splice site selection', 'mRNA splicing, via spliceosome',\n",
       "       'negative regulation of mRNA splicing, via spliceosome',\n",
       "       'RNA splicing, via transesterification reactions',\n",
       "       'assembly of spliceosomal tri-snRNP', 'RNA splicing',\n",
       "       'spliceosomal complex assembly',\n",
       "       'tRNA splicing, via endonucleolytic cleavage and ligation',\n",
       "       'regulation of RNA splicing',\n",
       "       'regulation of alternative mRNA splicing, via spliceosome',\n",
       "       'regulation of mRNA splicing, via spliceosome',\n",
       "       'spliceosomal complex', 'U12-type spliceosomal complex',\n",
       "       'catalytic step 2 spliceosome',\n",
       "       'positive regulation of mRNA splicing, via spliceosome',\n",
       "       'cis assembly of pre-catalytic spliceosome',\n",
       "       'spliceosomal snRNP assembly', 'mRNA cis splicing, via spliceosome',\n",
       "       'negative regulation of RNA splicing',\n",
       "       'tRNA-splicing ligase complex', 'intein-mediated protein splicing',\n",
       "       \"mRNA 3'-splice site recognition\", 'U2-type spliceosomal complex',\n",
       "       'alternative mRNA splicing, via spliceosome',\n",
       "       'splicing factor protein import into nucleus',\n",
       "       'positive regulation of RNA splicing',\n",
       "       \"pre-mRNA 3'-splice site binding\",\n",
       "       'tRNA-type intron splice site recognition and cleavage',\n",
       "       \"mRNA 5'-splice site recognition\", 'supraspliceosomal complex',\n",
       "       'nuclear retention of unspliced pre-mRNA at the site of transcription',\n",
       "       'second spliceosomal transesterification activity'], dtype=object)"
      ]
     },
     "execution_count": 32,
     "metadata": {},
     "output_type": "execute_result"
    }
   ],
   "source": []
  },
  {
   "cell_type": "markdown",
   "metadata": {},
   "source": [
    "### Split axes barplot"
   ]
  },
  {
   "cell_type": "code",
   "execution_count": 12,
   "metadata": {
    "collapsed": false
   },
   "outputs": [
    {
     "data": {
      "image/png": "[encoded data removed]",
      "text/plain": [
       "<matplotlib.figure.Figure at 0x2b3b4153a550>"
      ]
     },
     "metadata": {},
     "output_type": "display_data"
    }
   ],
   "source": [
    "\n",
    "fig, axes = plt.subplots(nrows=2, sharex=True, figsize=(2, 1.5), \n",
    "                         gridspec_kw=dict(hspace=0.05, height_ratios=[0.2, 0.8]))\n",
    "\n",
    "ax = axes[0]\n",
    "sns.barplot(x='phenotype', hue='modality', y='percentage', data=modalities_counts, ax=ax,\n",
    "            hue_order=MODALITY_ORDER, palette=MODALITY_PALETTE, x_order=study.phenotype_order)\n",
    "ax.legend_.set_visible(False)\n",
    "ax.locator_params('y', nbins=4)\n",
    "sns.despine(ax=ax, bottom=True)\n",
    "ax.tick_params(axis='x', bottom='off')\n",
    "ax.set(xticks=[], xlabel='', ylim=(10, 65), ylabel='', yticks=[10, 35, 60])\n",
    "\n",
    "ax = axes[1]\n",
    "sns.barplot(x='phenotype', hue='modality', y='percentage', data=modalities_counts, ax=ax,\n",
    "           hue_order=MODALITY_ORDER, palette=MODALITY_PALETTE, x_order=study.phenotype_order)\n",
    "ax.set(ylim=(0, 0.5), ylabel='% AS Exons', \n",
    "       xlabel='')\n",
    "ax.legend_.set_visible(False)\n",
    "ax.locator_params('y', nbins=4)\n",
    "sns.despine(ax=ax)\n",
    "# fig.tight_layout()\n",
    "fig.savefig('{}/modalities_barplot_split_axes.pdf'.format(folder))"
   ]
  },
  {
   "cell_type": "markdown",
   "metadata": {
    "collapsed": false
   },
   "source": [
    "## Venn diagrams"
   ]
  },
  {
   "cell_type": "code",
   "execution_count": null,
   "metadata": {
    "collapsed": true
   },
   "outputs": [],
   "source": [
    "import matplotlib_venn\n",
    "\n",
    "sns.set(context='paper', style='ticks')\n",
    "\n",
    "from anchor import MODALITY_ORDER\n",
    "\n",
    "study.supplemental.modalities_tidy.groupby(['phenotype', 'modality']).size()"
   ]
  },
  {
   "cell_type": "code",
   "execution_count": 13,
   "metadata": {
    "collapsed": true
   },
   "outputs": [],
   "source": [
    "sns.palplot(sns.light_palette(MODALITY_PALETTE[0], n_colors=3))"
   ]
  },
  {
   "cell_type": "code",
   "execution_count": 18,
   "metadata": {
    "collapsed": true
   },
   "outputs": [],
   "source": [
    "from anchor import MODALITY_TO_CMAP\n",
    "\n",
    "fig, axes = plt.subplots(figsize=(3, 3), nrows=2, ncols=2)\n",
    "\n",
    "axes_iter = axes.flat\n",
    "\n",
    "grouped_modality = study.supplemental.modalities_tidy.groupby('modality')\n",
    "\n",
    "for modality in MODALITY_ORDER:\n",
    "    modality_df = grouped_modality.get_group(modality)\n",
    "    if modality == 'middle':\n",
    "        continue\n",
    "    grouped_phenotype = modality_df.groupby('phenotype')\n",
    "    sets = [set(grouped_phenotype.get_group(phenotype)['event_id']) for phenotype in study.phenotype_order]\n",
    "    \n",
    "    ax = axes_iter.next()\n",
    "    cmap = MODALITY_TO_CMAP[modality]\n",
    "\n",
    "    set_colors = cmap(np.linspace(0, 1, 4))[1:]\n",
    "\n",
    "#     set_colors = sns.light_palette(MODALITY_TO_COLOR[modality], n_colors=3)\n",
    "#     set_colors = study.phenotype_color_ordered\n",
    "    matplotlib_venn.venn3(sets, set_labels=study.phenotype_order, set_colors=set_colors, ax=ax)\n",
    "#     ax.set(title=modality)\n",
    "fig.tight_layout()\n",
    "fig.savefig('{}/venn_diagrams.pdf'.format(folder))"
   ]
  },
  {
   "cell_type": "code",
   "execution_count": null,
   "metadata": {
    "collapsed": true
   },
   "outputs": [],
   "source": []
  },
  {
   "cell_type": "code",
   "execution_count": null,
   "metadata": {
    "collapsed": true
   },
   "outputs": [],
   "source": []
  },
  {
   "cell_type": "code",
   "execution_count": null,
   "metadata": {
    "collapsed": true
   },
   "outputs": [],
   "source": []
  }
 ],
 "metadata": {
  "kernelspec": {
   "display_name": "Python 2",
   "language": "python",
   "name": "python2"
  },
  "language_info": {
   "codemirror_mode": {
    "name": "ipython",
    "version": 2
   },
   "file_extension": ".py",
   "mimetype": "text/x-python",
   "name": "python",
   "nbconvert_exporter": "python",
   "pygments_lexer": "ipython2",
   "version": "2.7.11"
  }
 },
 "nbformat": 4,
 "nbformat_minor": 0
}
