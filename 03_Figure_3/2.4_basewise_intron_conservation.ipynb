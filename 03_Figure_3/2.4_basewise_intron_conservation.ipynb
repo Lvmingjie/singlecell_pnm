{
 "cells": [
  {
   "cell_type": "code",
   "execution_count": 1,
   "metadata": {
    "collapsed": false
   },
   "outputs": [
    {
     "name": "stdout",
     "output_type": "stream",
     "text": [
      "mkdir: cannot create directory `figures': File exists\r\n"
     ]
    },
    {
     "name": "stderr",
     "output_type": "stream",
     "text": [
      "/home/obotvinnik/anaconda/lib/python2.7/site-packages/matplotlib/__init__.py:810: UserWarning: Found matplotlib configuration in ~/.matplotlib/. To conform with the XDG base directory standard, this configuration location has been deprecated on Linux, and the new location is now /home/obotvinnik/.config/matplotlib/. Please move your configuration there to ensure that matplotlib will continue to find it in the future.\n",
      "  _get_xdg_config_dir())\n",
      "/home/obotvinnik/anaconda/lib/python2.7/site-packages/flotilla/__init__.py:65: DtypeWarning: Columns (19) have mixed types. Specify dtype option on import or set low_memory=False.\n",
      "  load_species_data=load_species_data)\n"
     ]
    },
    {
     "name": "stdout",
     "output_type": "stream",
     "text": [
      "2016-05-19 10:44:50\tReading datapackage from /projects/ps-yeolab/obotvinnik/flotilla_projects/singlecell_pnm_figure2_modalities_bayesian/datapackage.json\n",
      "2016-05-19 10:44:50\tParsing datapackage to create a Study object\n",
      "2016-05-19 10:45:39 \tInitializing Study\n",
      "2016-05-19 10:45:39 \tInitializing Predictor configuration manager for Study\n",
      "2016-05-19 10:45:39\tPredictor ExtraTreesClassifier is of type <class 'sklearn.ensemble.forest.ExtraTreesClassifier'>\n",
      "2016-05-19 10:45:39\tAdded ExtraTreesClassifier to default predictors\n",
      "2016-05-19 10:45:39\tPredictor ExtraTreesRegressor is of type <class 'sklearn.ensemble.forest.ExtraTreesRegressor'>\n",
      "2016-05-19 10:45:39\tAdded ExtraTreesRegressor to default predictors\n",
      "2016-05-19 10:45:39\tPredictor GradientBoostingClassifier is of type <class 'sklearn.ensemble.gradient_boosting.GradientBoostingClassifier'>\n",
      "2016-05-19 10:45:39\tAdded GradientBoostingClassifier to default predictors\n",
      "2016-05-19 10:45:39\tPredictor GradientBoostingRegressor is of type <class 'sklearn.ensemble.gradient_boosting.GradientBoostingRegressor'>\n",
      "2016-05-19 10:45:39\tAdded GradientBoostingRegressor to default predictors\n",
      "2016-05-19 10:45:44 \tBuilding Gene Ontology database...\n",
      "2016-05-19 10:45:53 \t\tDone\n",
      "2016-05-19 10:45:54 \tLoading metadata\n",
      "2016-05-19 10:45:54\tLoading expression data\n",
      "2016-05-19 10:45:54\tInitializing expression\n",
      "2016-05-19 10:45:55\tDone initializing expression\n",
      "2016-05-19 10:45:57\tLoading splicing data\n",
      "2016-05-19 10:45:57\tInitializing splicing\n",
      "2016-05-19 10:45:57\tDone initializing splicing\n",
      "2016-05-19 10:45:57\tSuccessfully initialized a Study object!\n"
     ]
    }
   ],
   "source": [
    "import six\n",
    "\n",
    "%load_ext autoreload\n",
    "%autoreload 2\n",
    "\n",
    "import matplotlib.pyplot as plt\n",
    "import seaborn as sns\n",
    "import numpy as np\n",
    "import pandas as pd\n",
    "import six\n",
    "\n",
    "sns.set(style='ticks', context='paper', rc={'font.sans-serif':'Arial', 'pdf.fonttype': 42})\n",
    "\n",
    "%matplotlib inline\n",
    "\n",
    "\n",
    "folder = 'figures'\n",
    "!mkdir $folder\n",
    "import flotilla\n",
    "flotilla_dir = '/projects/ps-yeolab/obotvinnik/flotilla_projects'\n",
    "\n",
    "study = flotilla.embark('singlecell_pnm_figure2_modalities_bayesian', flotilla_dir=flotilla_dir)\n",
    "not_outliers = study.splicing.singles.index.difference(study.splicing.outliers.index)\n",
    "\n",
    "psi = study.splicing.singles.ix[not_outliers]\n",
    "grouped = psi.groupby(study.sample_id_to_phenotype)\n",
    "psi_filtered = grouped.apply(lambda x: x.dropna(axis=1, thresh=20))"
   ]
  },
  {
   "cell_type": "code",
   "execution_count": 2,
   "metadata": {
    "collapsed": false
   },
   "outputs": [
    {
     "name": "stdout",
     "output_type": "stream",
     "text": [
      "mkdir: cannot create directory `figures/intron_conservation': File exists\r\n"
     ]
    }
   ],
   "source": [
    "figure_folder = '{}/intron_conservation'.format(folder)\n",
    "! mkdir $figure_folder"
   ]
  },
  {
   "cell_type": "code",
   "execution_count": 3,
   "metadata": {
    "collapsed": false
   },
   "outputs": [
    {
     "name": "stdout",
     "output_type": "stream",
     "text": [
      "ls: cannot access /projects/ps-yeolab/obotvinnik/singlecell_pnms/exon2*csv: No such file or directory\r\n"
     ]
    }
   ],
   "source": [
    "ls /projects/ps-yeolab/obotvinnik/singlecell_pnms/exon2*csv"
   ]
  },
  {
   "cell_type": "code",
   "execution_count": 4,
   "metadata": {
    "collapsed": true
   },
   "outputs": [],
   "source": [
    "csv_folder = '/projects/ps-yeolab/obotvinnik/singlecell_pnms/csvs_for_paper'"
   ]
  },
  {
   "cell_type": "code",
   "execution_count": 5,
   "metadata": {
    "collapsed": true
   },
   "outputs": [],
   "source": [
    "splicing_feature_folder = '{}/splicing_feature_data'.format(csv_folder)\n",
    "alternative_feature_folder = '{}/alternative'.format(splicing_feature_folder)\n",
    "constitutive_feature_folder = '{}/constitutive'.format(splicing_feature_folder)"
   ]
  },
  {
   "cell_type": "code",
   "execution_count": 6,
   "metadata": {
    "collapsed": false
   },
   "outputs": [
    {
     "data": {
      "text/plain": [
       "'/projects/ps-yeolab/obotvinnik/singlecell_pnms/csvs_for_paper/splicing_feature_data/alternative'"
      ]
     },
     "execution_count": 6,
     "metadata": {},
     "output_type": "execute_result"
    }
   ],
   "source": [
    "alternative_feature_folder"
   ]
  },
  {
   "cell_type": "code",
   "execution_count": 7,
   "metadata": {
    "collapsed": false
   },
   "outputs": [],
   "source": [
    "downstream = pd.read_csv('{}/downstream400_placental_mammal_conservation.csv'.format(alternative_feature_folder), \n",
    "                         index_col=0)\n",
    "upstream = pd.read_csv('{}/upstream400_placental_mammal_conservation.csv'.format(alternative_feature_folder), \n",
    "                       index_col=0)"
   ]
  },
  {
   "cell_type": "code",
   "execution_count": 8,
   "metadata": {
    "collapsed": true
   },
   "outputs": [],
   "source": [
    "conservation_folder = '{}/conservation'.format(folder)"
   ]
  },
  {
   "cell_type": "code",
   "execution_count": 9,
   "metadata": {
    "collapsed": true
   },
   "outputs": [],
   "source": [
    "from anchor import MODALITY_ORDER, MODALITY_PALETTE"
   ]
  },
  {
   "cell_type": "code",
   "execution_count": 10,
   "metadata": {
    "collapsed": true
   },
   "outputs": [],
   "source": [
    "sns.set(style='ticks', context='paper')"
   ]
  },
  {
   "cell_type": "code",
   "execution_count": 11,
   "metadata": {
    "collapsed": true
   },
   "outputs": [],
   "source": [
    "from anchor import MODALITY_ORDER"
   ]
  },
  {
   "cell_type": "code",
   "execution_count": 12,
   "metadata": {
    "collapsed": true
   },
   "outputs": [],
   "source": [
    "constitutive_downstream = pd.read_csv('{}/downstream400_placental_mammal_conservation.csv'.format(constitutive_feature_folder), \n",
    "                         index_col=0)\n",
    "constitutive_upstream = pd.read_csv('{}/upstream400_placental_mammal_conservation.csv'.format(constitutive_feature_folder), \n",
    "                       index_col=0)"
   ]
  },
  {
   "cell_type": "code",
   "execution_count": 13,
   "metadata": {
    "collapsed": true
   },
   "outputs": [],
   "source": [
    "constitutive_conservations = {'Upstream': constitutive_upstream, 'Downstream': constitutive_downstream}"
   ]
  },
  {
   "cell_type": "code",
   "execution_count": 14,
   "metadata": {
    "collapsed": true
   },
   "outputs": [],
   "source": [
    "from scipy.stats import mannwhitneyu"
   ]
  },
  {
   "cell_type": "code",
   "execution_count": 15,
   "metadata": {
    "collapsed": false,
    "scrolled": false
   },
   "outputs": [
    {
     "name": "stdout",
     "output_type": "stream",
     "text": [
      "(12800, 5)\n",
      "(10400, 11)\n"
     ]
    },
    {
     "data": {
      "text/html": [
       "<div>\n",
       "<table border=\"1\" class=\"dataframe\">\n",
       "  <thead>\n",
       "    <tr style=\"text-align: right;\">\n",
       "      <th></th>\n",
       "      <th>genome_direction_nt</th>\n",
       "      <th>U Statistic</th>\n",
       "      <th>$p$-value</th>\n",
       "      <th>sign</th>\n",
       "      <th>$q$-value</th>\n",
       "      <th>modality</th>\n",
       "      <th>intron</th>\n",
       "      <th>$-\\log_{10}(q)$</th>\n",
       "      <th>$-\\log_{10}(p)$</th>\n",
       "      <th>$\\mathrm{sgn}(\\Delta\\mathrm{mean}) \\times\\left(-\\log_{10}(q)\\right)$</th>\n",
       "      <th>phenotype</th>\n",
       "    </tr>\n",
       "  </thead>\n",
       "  <tbody>\n",
       "    <tr>\n",
       "      <th>0</th>\n",
       "      <td>0</td>\n",
       "      <td>3494411.0</td>\n",
       "      <td>1.786188e-08</td>\n",
       "      <td>-1</td>\n",
       "      <td>0.000007</td>\n",
       "      <td>bimodal</td>\n",
       "      <td>Downstream</td>\n",
       "      <td>5.146013</td>\n",
       "      <td>7.748073</td>\n",
       "      <td>-5.146013</td>\n",
       "      <td>MN</td>\n",
       "    </tr>\n",
       "    <tr>\n",
       "      <th>1</th>\n",
       "      <td>1</td>\n",
       "      <td>3593197.5</td>\n",
       "      <td>2.864930e-05</td>\n",
       "      <td>-1</td>\n",
       "      <td>0.011460</td>\n",
       "      <td>bimodal</td>\n",
       "      <td>Downstream</td>\n",
       "      <td>1.940826</td>\n",
       "      <td>4.542886</td>\n",
       "      <td>-1.940826</td>\n",
       "      <td>MN</td>\n",
       "    </tr>\n",
       "    <tr>\n",
       "      <th>2</th>\n",
       "      <td>2</td>\n",
       "      <td>3756166.0</td>\n",
       "      <td>7.380786e-02</td>\n",
       "      <td>-1</td>\n",
       "      <td>29.523142</td>\n",
       "      <td>bimodal</td>\n",
       "      <td>Downstream</td>\n",
       "      <td>-1.470163</td>\n",
       "      <td>1.131897</td>\n",
       "      <td>1.470163</td>\n",
       "      <td>MN</td>\n",
       "    </tr>\n",
       "    <tr>\n",
       "      <th>3</th>\n",
       "      <td>3</td>\n",
       "      <td>3881496.0</td>\n",
       "      <td>9.542460e-01</td>\n",
       "      <td>-1</td>\n",
       "      <td>381.698401</td>\n",
       "      <td>bimodal</td>\n",
       "      <td>Downstream</td>\n",
       "      <td>-2.581720</td>\n",
       "      <td>0.020340</td>\n",
       "      <td>2.581720</td>\n",
       "      <td>MN</td>\n",
       "    </tr>\n",
       "    <tr>\n",
       "      <th>4</th>\n",
       "      <td>4</td>\n",
       "      <td>3975242.5</td>\n",
       "      <td>1.524522e-01</td>\n",
       "      <td>-1</td>\n",
       "      <td>60.980880</td>\n",
       "      <td>bimodal</td>\n",
       "      <td>Downstream</td>\n",
       "      <td>-1.785194</td>\n",
       "      <td>0.816866</td>\n",
       "      <td>1.785194</td>\n",
       "      <td>MN</td>\n",
       "    </tr>\n",
       "  </tbody>\n",
       "</table>\n",
       "</div>"
      ],
      "text/plain": [
       "   genome_direction_nt  U Statistic     $p$-value  sign   $q$-value modality  \\\n",
       "0                    0    3494411.0  1.786188e-08    -1    0.000007  bimodal   \n",
       "1                    1    3593197.5  2.864930e-05    -1    0.011460  bimodal   \n",
       "2                    2    3756166.0  7.380786e-02    -1   29.523142  bimodal   \n",
       "3                    3    3881496.0  9.542460e-01    -1  381.698401  bimodal   \n",
       "4                    4    3975242.5  1.524522e-01    -1   60.980880  bimodal   \n",
       "\n",
       "       intron  $-\\log_{10}(q)$  $-\\log_{10}(p)$  \\\n",
       "0  Downstream         5.146013         7.748073   \n",
       "1  Downstream         1.940826         4.542886   \n",
       "2  Downstream        -1.470163         1.131897   \n",
       "3  Downstream        -2.581720         0.020340   \n",
       "4  Downstream        -1.785194         0.816866   \n",
       "\n",
       "   $\\mathrm{sgn}(\\Delta\\mathrm{mean}) \\times\\left(-\\log_{10}(q)\\right)$  \\\n",
       "0                                          -5.146013                      \n",
       "1                                          -1.940826                      \n",
       "2                                           1.470163                      \n",
       "3                                           2.581720                      \n",
       "4                                           1.785194                      \n",
       "\n",
       "  phenotype  \n",
       "0        MN  \n",
       "1        MN  \n",
       "2        MN  \n",
       "3        MN  \n",
       "4        MN  "
      ]
     },
     "execution_count": 15,
     "metadata": {},
     "output_type": "execute_result"
    }
   ],
   "source": [
    "# %%time\n",
    "\n",
    "intron_conservations = {'Upstream': upstream, \n",
    "                        'Downstream': downstream}\n",
    "\n",
    "modality_basewise_conservation_dfs = []\n",
    "\n",
    "intron_order = ['Upstream', 'Downstream']\n",
    "\n",
    "values_col = r'$\\mathrm{sgn}(\\Delta\\mathrm{mean}) \\times\\left(-\\log_{10}(q)\\right)$'\n",
    "\n",
    "\n",
    "phenotype_basewise_statistics_dfs = []\n",
    "\n",
    "for phenotype, phenotype_df in study.supplemental.modalities_tidy.groupby('phenotype'):\n",
    "    modalities = phenotype_df.set_index('event_id').modality\n",
    "    modalities = modalities.drop(modalities.index.get_duplicates())\n",
    "    \n",
    "    conservation_dfs = []\n",
    "    basewise_statistics_dfs = []\n",
    "    \n",
    "\n",
    "    for intron_name, intron_conservation in intron_conservations.items():\n",
    "        mean_conservation = intron_conservation.groupby(modalities).mean()\n",
    "        mean_conservation.columns = mean_conservation.columns.astype(int) + 1\n",
    "        tidy = mean_conservation.unstack().reset_index()\n",
    "        tidy = tidy.rename(columns={'level_0':'genome_direction_nt', 0: 'Conservation'})\n",
    "        tidy['direction'] = intron_name\n",
    "        conservation_dfs.append(tidy)\n",
    "        conservation_grouped = intron_conservation.groupby(modalities)\n",
    "#         constitutive_name = '~1'\n",
    "\n",
    "#         constitutive = conservation_grouped.get_group(constitutive_name)\n",
    "        constitutive = constitutive_conservations[intron_name]\n",
    "    \n",
    "        constitutive_mean = constitutive.mean()\n",
    "        constitutive_mean.index = constitutive_mean.index.astype(int) + 1\n",
    "        tidy = constitutive_mean.reset_index()\n",
    "        tidy['modality'] = 'constitutive'\n",
    "        tidy['direction'] = intron_name\n",
    "        tidy = tidy.rename(columns={'index':'genome_direction_nt', 0: 'Conservation'})\n",
    "        conservation_dfs.append(tidy)\n",
    "        \n",
    "        for modality, df in conservation_grouped:\n",
    "#             if modality == constitutive_name:\n",
    "#                 continue\n",
    "            lines = []\n",
    "\n",
    "            for i in df:\n",
    "                statistic, p_value = mannwhitneyu(df[i], constitutive[i])\n",
    "                sign = np.sign(df[i].mean() - constitutive[i].mean())\n",
    "                lines.append([statistic, p_value, sign])\n",
    "            intron_basewise_statistics = pd.DataFrame(lines, columns=['U Statistic', '$p$-value', 'sign'])\n",
    "            intron_basewise_statistics['$q$-value'] = intron_basewise_statistics.shape[0] * intron_basewise_statistics['$p$-value']\n",
    "            intron_basewise_statistics['modality'] = modality\n",
    "            intron_basewise_statistics['intron'] = intron_name\n",
    "            intron_basewise_statistics = intron_basewise_statistics.reset_index()\n",
    "            intron_basewise_statistics = intron_basewise_statistics.rename(columns={'index': 'genome_direction_nt'})\n",
    "#             print '\\n', phenotype, intron_name, modality\n",
    "#             print intron_basewise_statistics.groupby('genome_direction_nt').size().head()\n",
    "            basewise_statistics_dfs.append(intron_basewise_statistics)\n",
    "\n",
    "    basewise_statistics = pd.concat(basewise_statistics_dfs, ignore_index=True)\n",
    "    basewise_statistics['$-\\log_{10}(q)$'] = -np.log10(basewise_statistics['$q$-value'])\n",
    "    basewise_statistics['$-\\log_{10}(p)$'] = -np.log10(basewise_statistics['$p$-value'])\n",
    "\n",
    "    basewise_statistics[values_col] = basewise_statistics['sign'] * basewise_statistics['$-\\log_{10}(q)$']\n",
    "    basewise_statistics['phenotype'] = phenotype\n",
    "#     print basewise_statistics.groupby(['modality', 'intron', 'genome_direction_nt']).size().head()\n",
    "#     print 'basewise_statistics.shape', basewise_statistics.shape\n",
    "    phenotype_basewise_statistics_dfs.append(basewise_statistics)\n",
    "#     basewise_statistics.head()\n",
    "\n",
    "#         var_conservation = intron_conservation.groupby(modalities).var()\n",
    "    modality_basewise_conservation = pd.concat(conservation_dfs, ignore_index=True)\n",
    "    modality_basewise_conservation['phenotype'] = phenotype\n",
    "    modality_basewise_conservation_dfs.append(modality_basewise_conservation)\n",
    "\n",
    "modality_basewise_conservation = pd.concat(modality_basewise_conservation_dfs, ignore_index=True)\n",
    "six.print_(modality_basewise_conservation.shape)\n",
    "modality_basewise_statistics = pd.concat(phenotype_basewise_statistics_dfs, ignore_index=True)\n",
    "six.print_(modality_basewise_statistics.shape)\n",
    "modality_basewise_statistics.head()"
   ]
  },
  {
   "cell_type": "markdown",
   "metadata": {},
   "source": [
    "### Compare intron modality conservation vs same modality in iPSC"
   ]
  },
  {
   "cell_type": "code",
   "execution_count": 16,
   "metadata": {
    "collapsed": false
   },
   "outputs": [
    {
     "data": {
      "text/html": [
       "<div>\n",
       "<table border=\"1\" class=\"dataframe\">\n",
       "  <thead>\n",
       "    <tr style=\"text-align: right;\">\n",
       "      <th></th>\n",
       "      <th>phenotype</th>\n",
       "      <th>intron</th>\n",
       "      <th>modality</th>\n",
       "      <th>U_statistic</th>\n",
       "      <th>p-value</th>\n",
       "    </tr>\n",
       "  </thead>\n",
       "  <tbody>\n",
       "    <tr>\n",
       "      <th>0</th>\n",
       "      <td>NPC</td>\n",
       "      <td>Downstream</td>\n",
       "      <td>bimodal</td>\n",
       "      <td>3970737.5</td>\n",
       "      <td>0.672870</td>\n",
       "    </tr>\n",
       "    <tr>\n",
       "      <th>1</th>\n",
       "      <td>NPC</td>\n",
       "      <td>Downstream</td>\n",
       "      <td>excluded</td>\n",
       "      <td>2042950.0</td>\n",
       "      <td>0.114340</td>\n",
       "    </tr>\n",
       "    <tr>\n",
       "      <th>2</th>\n",
       "      <td>NPC</td>\n",
       "      <td>Downstream</td>\n",
       "      <td>included</td>\n",
       "      <td>13945300.5</td>\n",
       "      <td>0.581614</td>\n",
       "    </tr>\n",
       "    <tr>\n",
       "      <th>3</th>\n",
       "      <td>NPC</td>\n",
       "      <td>Downstream</td>\n",
       "      <td>uncategorized</td>\n",
       "      <td>90.5</td>\n",
       "      <td>0.287609</td>\n",
       "    </tr>\n",
       "    <tr>\n",
       "      <th>4</th>\n",
       "      <td>MN</td>\n",
       "      <td>Downstream</td>\n",
       "      <td>bimodal</td>\n",
       "      <td>2136245.5</td>\n",
       "      <td>0.002716</td>\n",
       "    </tr>\n",
       "    <tr>\n",
       "      <th>5</th>\n",
       "      <td>MN</td>\n",
       "      <td>Downstream</td>\n",
       "      <td>excluded</td>\n",
       "      <td>1336795.0</td>\n",
       "      <td>0.709101</td>\n",
       "    </tr>\n",
       "    <tr>\n",
       "      <th>6</th>\n",
       "      <td>MN</td>\n",
       "      <td>Downstream</td>\n",
       "      <td>included</td>\n",
       "      <td>8923063.5</td>\n",
       "      <td>0.061995</td>\n",
       "    </tr>\n",
       "    <tr>\n",
       "      <th>7</th>\n",
       "      <td>MN</td>\n",
       "      <td>Downstream</td>\n",
       "      <td>uncategorized</td>\n",
       "      <td>11.0</td>\n",
       "      <td>0.116217</td>\n",
       "    </tr>\n",
       "    <tr>\n",
       "      <th>8</th>\n",
       "      <td>NPC</td>\n",
       "      <td>Upstream</td>\n",
       "      <td>bimodal</td>\n",
       "      <td>3969155.5</td>\n",
       "      <td>0.654184</td>\n",
       "    </tr>\n",
       "    <tr>\n",
       "      <th>9</th>\n",
       "      <td>NPC</td>\n",
       "      <td>Upstream</td>\n",
       "      <td>excluded</td>\n",
       "      <td>2024710.5</td>\n",
       "      <td>0.282089</td>\n",
       "    </tr>\n",
       "    <tr>\n",
       "      <th>10</th>\n",
       "      <td>NPC</td>\n",
       "      <td>Upstream</td>\n",
       "      <td>included</td>\n",
       "      <td>13875014.5</td>\n",
       "      <td>0.319257</td>\n",
       "    </tr>\n",
       "    <tr>\n",
       "      <th>11</th>\n",
       "      <td>NPC</td>\n",
       "      <td>Upstream</td>\n",
       "      <td>uncategorized</td>\n",
       "      <td>91.5</td>\n",
       "      <td>0.266314</td>\n",
       "    </tr>\n",
       "    <tr>\n",
       "      <th>12</th>\n",
       "      <td>MN</td>\n",
       "      <td>Upstream</td>\n",
       "      <td>bimodal</td>\n",
       "      <td>2113659.0</td>\n",
       "      <td>0.000407</td>\n",
       "    </tr>\n",
       "    <tr>\n",
       "      <th>13</th>\n",
       "      <td>MN</td>\n",
       "      <td>Upstream</td>\n",
       "      <td>excluded</td>\n",
       "      <td>1327578.5</td>\n",
       "      <td>0.480460</td>\n",
       "    </tr>\n",
       "    <tr>\n",
       "      <th>14</th>\n",
       "      <td>MN</td>\n",
       "      <td>Upstream</td>\n",
       "      <td>included</td>\n",
       "      <td>8948862.0</td>\n",
       "      <td>0.099630</td>\n",
       "    </tr>\n",
       "    <tr>\n",
       "      <th>15</th>\n",
       "      <td>MN</td>\n",
       "      <td>Upstream</td>\n",
       "      <td>uncategorized</td>\n",
       "      <td>10.0</td>\n",
       "      <td>0.100911</td>\n",
       "    </tr>\n",
       "  </tbody>\n",
       "</table>\n",
       "</div>"
      ],
      "text/plain": [
       "   phenotype      intron       modality  U_statistic   p-value\n",
       "0        NPC  Downstream        bimodal    3970737.5  0.672870\n",
       "1        NPC  Downstream       excluded    2042950.0  0.114340\n",
       "2        NPC  Downstream       included   13945300.5  0.581614\n",
       "3        NPC  Downstream  uncategorized         90.5  0.287609\n",
       "4         MN  Downstream        bimodal    2136245.5  0.002716\n",
       "5         MN  Downstream       excluded    1336795.0  0.709101\n",
       "6         MN  Downstream       included    8923063.5  0.061995\n",
       "7         MN  Downstream  uncategorized         11.0  0.116217\n",
       "8        NPC    Upstream        bimodal    3969155.5  0.654184\n",
       "9        NPC    Upstream       excluded    2024710.5  0.282089\n",
       "10       NPC    Upstream       included   13875014.5  0.319257\n",
       "11       NPC    Upstream  uncategorized         91.5  0.266314\n",
       "12        MN    Upstream        bimodal    2113659.0  0.000407\n",
       "13        MN    Upstream       excluded    1327578.5  0.480460\n",
       "14        MN    Upstream       included    8948862.0  0.099630\n",
       "15        MN    Upstream  uncategorized         10.0  0.100911"
      ]
     },
     "execution_count": 16,
     "metadata": {},
     "output_type": "execute_result"
    }
   ],
   "source": [
    "phenotype_grouped = study.supplemental.modalities_tidy.groupby('phenotype')\n",
    "ipsc = phenotype_grouped.get_group('iPSC')\n",
    "ipsc_modalities = ipsc.groupby('modality')\n",
    "\n",
    "lines = []\n",
    "\n",
    "for intron_name, intron_conservation in intron_conservations.items():\n",
    "#     six.print_(intron_name)\n",
    "    for phenotype in study.phenotype_order[1:]:\n",
    "#         six.print_('\\t', phenotype)\n",
    "        phenotype_df = phenotype_grouped.get_group(phenotype)\n",
    "        for modality, modality_df in phenotype_df.groupby('modality'):\n",
    "#             six.print_('\\t\\t', modality)\n",
    "            ipsc = ipsc_modalities.get_group(modality)\n",
    "            ipsc_conservation = intron_conservation.loc[ipsc['event_id']].mean(axis=1)\n",
    "            try:\n",
    "                phenotype_conservation = intron_conservation.loc[modality_df['event_id']].mean(axis=1)\n",
    "            except KeyError:\n",
    "                continue\n",
    "            \n",
    "            statistic, p_value = mannwhitneyu(ipsc_conservation, phenotype_conservation)\n",
    "#             six.print_('\\t\\t\\t', statistic, p_value)\n",
    "            lines.append([phenotype, intron_name, modality, statistic, p_value])\n",
    "intron_conservation_vs_ipsc = pd.DataFrame(lines, columns=['phenotype', 'intron', 'modality', 'U_statistic', 'p-value'])\n",
    "intron_conservation_vs_ipsc"
   ]
  },
  {
   "cell_type": "code",
   "execution_count": 17,
   "metadata": {
    "collapsed": false
   },
   "outputs": [
    {
     "data": {
      "text/html": [
       "<div>\n",
       "<table border=\"1\" class=\"dataframe\">\n",
       "  <thead>\n",
       "    <tr style=\"text-align: right;\">\n",
       "      <th></th>\n",
       "      <th>phenotype</th>\n",
       "      <th>intron</th>\n",
       "      <th>modality</th>\n",
       "      <th>U_statistic</th>\n",
       "      <th>p-value</th>\n",
       "      <th>q-value</th>\n",
       "    </tr>\n",
       "  </thead>\n",
       "  <tbody>\n",
       "    <tr>\n",
       "      <th>0</th>\n",
       "      <td>NPC</td>\n",
       "      <td>Downstream</td>\n",
       "      <td>bimodal</td>\n",
       "      <td>3970737.5</td>\n",
       "      <td>0.672870</td>\n",
       "      <td>10.765915</td>\n",
       "    </tr>\n",
       "    <tr>\n",
       "      <th>1</th>\n",
       "      <td>NPC</td>\n",
       "      <td>Downstream</td>\n",
       "      <td>excluded</td>\n",
       "      <td>2042950.0</td>\n",
       "      <td>0.114340</td>\n",
       "      <td>1.829444</td>\n",
       "    </tr>\n",
       "    <tr>\n",
       "      <th>2</th>\n",
       "      <td>NPC</td>\n",
       "      <td>Downstream</td>\n",
       "      <td>included</td>\n",
       "      <td>13945300.5</td>\n",
       "      <td>0.581614</td>\n",
       "      <td>9.305821</td>\n",
       "    </tr>\n",
       "    <tr>\n",
       "      <th>3</th>\n",
       "      <td>NPC</td>\n",
       "      <td>Downstream</td>\n",
       "      <td>uncategorized</td>\n",
       "      <td>90.5</td>\n",
       "      <td>0.287609</td>\n",
       "      <td>4.601741</td>\n",
       "    </tr>\n",
       "    <tr>\n",
       "      <th>4</th>\n",
       "      <td>MN</td>\n",
       "      <td>Downstream</td>\n",
       "      <td>bimodal</td>\n",
       "      <td>2136245.5</td>\n",
       "      <td>0.002716</td>\n",
       "      <td>0.043464</td>\n",
       "    </tr>\n",
       "    <tr>\n",
       "      <th>5</th>\n",
       "      <td>MN</td>\n",
       "      <td>Downstream</td>\n",
       "      <td>excluded</td>\n",
       "      <td>1336795.0</td>\n",
       "      <td>0.709101</td>\n",
       "      <td>11.345615</td>\n",
       "    </tr>\n",
       "    <tr>\n",
       "      <th>6</th>\n",
       "      <td>MN</td>\n",
       "      <td>Downstream</td>\n",
       "      <td>included</td>\n",
       "      <td>8923063.5</td>\n",
       "      <td>0.061995</td>\n",
       "      <td>0.991914</td>\n",
       "    </tr>\n",
       "    <tr>\n",
       "      <th>7</th>\n",
       "      <td>MN</td>\n",
       "      <td>Downstream</td>\n",
       "      <td>uncategorized</td>\n",
       "      <td>11.0</td>\n",
       "      <td>0.116217</td>\n",
       "      <td>1.859465</td>\n",
       "    </tr>\n",
       "    <tr>\n",
       "      <th>8</th>\n",
       "      <td>NPC</td>\n",
       "      <td>Upstream</td>\n",
       "      <td>bimodal</td>\n",
       "      <td>3969155.5</td>\n",
       "      <td>0.654184</td>\n",
       "      <td>10.466944</td>\n",
       "    </tr>\n",
       "    <tr>\n",
       "      <th>9</th>\n",
       "      <td>NPC</td>\n",
       "      <td>Upstream</td>\n",
       "      <td>excluded</td>\n",
       "      <td>2024710.5</td>\n",
       "      <td>0.282089</td>\n",
       "      <td>4.513427</td>\n",
       "    </tr>\n",
       "    <tr>\n",
       "      <th>10</th>\n",
       "      <td>NPC</td>\n",
       "      <td>Upstream</td>\n",
       "      <td>included</td>\n",
       "      <td>13875014.5</td>\n",
       "      <td>0.319257</td>\n",
       "      <td>5.108120</td>\n",
       "    </tr>\n",
       "    <tr>\n",
       "      <th>11</th>\n",
       "      <td>NPC</td>\n",
       "      <td>Upstream</td>\n",
       "      <td>uncategorized</td>\n",
       "      <td>91.5</td>\n",
       "      <td>0.266314</td>\n",
       "      <td>4.261019</td>\n",
       "    </tr>\n",
       "    <tr>\n",
       "      <th>12</th>\n",
       "      <td>MN</td>\n",
       "      <td>Upstream</td>\n",
       "      <td>bimodal</td>\n",
       "      <td>2113659.0</td>\n",
       "      <td>0.000407</td>\n",
       "      <td>0.006508</td>\n",
       "    </tr>\n",
       "    <tr>\n",
       "      <th>13</th>\n",
       "      <td>MN</td>\n",
       "      <td>Upstream</td>\n",
       "      <td>excluded</td>\n",
       "      <td>1327578.5</td>\n",
       "      <td>0.480460</td>\n",
       "      <td>7.687363</td>\n",
       "    </tr>\n",
       "    <tr>\n",
       "      <th>14</th>\n",
       "      <td>MN</td>\n",
       "      <td>Upstream</td>\n",
       "      <td>included</td>\n",
       "      <td>8948862.0</td>\n",
       "      <td>0.099630</td>\n",
       "      <td>1.594075</td>\n",
       "    </tr>\n",
       "    <tr>\n",
       "      <th>15</th>\n",
       "      <td>MN</td>\n",
       "      <td>Upstream</td>\n",
       "      <td>uncategorized</td>\n",
       "      <td>10.0</td>\n",
       "      <td>0.100911</td>\n",
       "      <td>1.614573</td>\n",
       "    </tr>\n",
       "  </tbody>\n",
       "</table>\n",
       "</div>"
      ],
      "text/plain": [
       "   phenotype      intron       modality  U_statistic   p-value    q-value\n",
       "0        NPC  Downstream        bimodal    3970737.5  0.672870  10.765915\n",
       "1        NPC  Downstream       excluded    2042950.0  0.114340   1.829444\n",
       "2        NPC  Downstream       included   13945300.5  0.581614   9.305821\n",
       "3        NPC  Downstream  uncategorized         90.5  0.287609   4.601741\n",
       "4         MN  Downstream        bimodal    2136245.5  0.002716   0.043464\n",
       "5         MN  Downstream       excluded    1336795.0  0.709101  11.345615\n",
       "6         MN  Downstream       included    8923063.5  0.061995   0.991914\n",
       "7         MN  Downstream  uncategorized         11.0  0.116217   1.859465\n",
       "8        NPC    Upstream        bimodal    3969155.5  0.654184  10.466944\n",
       "9        NPC    Upstream       excluded    2024710.5  0.282089   4.513427\n",
       "10       NPC    Upstream       included   13875014.5  0.319257   5.108120\n",
       "11       NPC    Upstream  uncategorized         91.5  0.266314   4.261019\n",
       "12        MN    Upstream        bimodal    2113659.0  0.000407   0.006508\n",
       "13        MN    Upstream       excluded    1327578.5  0.480460   7.687363\n",
       "14        MN    Upstream       included    8948862.0  0.099630   1.594075\n",
       "15        MN    Upstream  uncategorized         10.0  0.100911   1.614573"
      ]
     },
     "execution_count": 17,
     "metadata": {},
     "output_type": "execute_result"
    }
   ],
   "source": [
    "intron_conservation_vs_ipsc['q-value'] = intron_conservation_vs_ipsc['p-value'] * intron_conservation_vs_ipsc.shape[0]\n",
    "intron_conservation_vs_ipsc"
   ]
  },
  {
   "cell_type": "code",
   "execution_count": 18,
   "metadata": {
    "collapsed": false
   },
   "outputs": [
    {
     "data": {
      "text/html": [
       "<div>\n",
       "<table border=\"1\" class=\"dataframe\">\n",
       "  <thead>\n",
       "    <tr style=\"text-align: right;\">\n",
       "      <th></th>\n",
       "      <th>phenotype</th>\n",
       "      <th>intron</th>\n",
       "      <th>modality</th>\n",
       "      <th>U_statistic</th>\n",
       "      <th>p-value</th>\n",
       "      <th>q-value</th>\n",
       "    </tr>\n",
       "  </thead>\n",
       "  <tbody>\n",
       "    <tr>\n",
       "      <th>4</th>\n",
       "      <td>MN</td>\n",
       "      <td>Downstream</td>\n",
       "      <td>bimodal</td>\n",
       "      <td>2136245.5</td>\n",
       "      <td>0.002716</td>\n",
       "      <td>0.043464</td>\n",
       "    </tr>\n",
       "    <tr>\n",
       "      <th>6</th>\n",
       "      <td>MN</td>\n",
       "      <td>Downstream</td>\n",
       "      <td>included</td>\n",
       "      <td>8923063.5</td>\n",
       "      <td>0.061995</td>\n",
       "      <td>0.991914</td>\n",
       "    </tr>\n",
       "    <tr>\n",
       "      <th>12</th>\n",
       "      <td>MN</td>\n",
       "      <td>Upstream</td>\n",
       "      <td>bimodal</td>\n",
       "      <td>2113659.0</td>\n",
       "      <td>0.000407</td>\n",
       "      <td>0.006508</td>\n",
       "    </tr>\n",
       "    <tr>\n",
       "      <th>14</th>\n",
       "      <td>MN</td>\n",
       "      <td>Upstream</td>\n",
       "      <td>included</td>\n",
       "      <td>8948862.0</td>\n",
       "      <td>0.099630</td>\n",
       "      <td>1.594075</td>\n",
       "    </tr>\n",
       "  </tbody>\n",
       "</table>\n",
       "</div>"
      ],
      "text/plain": [
       "   phenotype      intron  modality  U_statistic   p-value   q-value\n",
       "4         MN  Downstream   bimodal    2136245.5  0.002716  0.043464\n",
       "6         MN  Downstream  included    8923063.5  0.061995  0.991914\n",
       "12        MN    Upstream   bimodal    2113659.0  0.000407  0.006508\n",
       "14        MN    Upstream  included    8948862.0  0.099630  1.594075"
      ]
     },
     "execution_count": 18,
     "metadata": {},
     "output_type": "execute_result"
    }
   ],
   "source": [
    "intron_conservation_vs_ipsc.loc[intron_conservation_vs_ipsc['p-value'] < 0.1]"
   ]
  },
  {
   "cell_type": "code",
   "execution_count": 19,
   "metadata": {
    "collapsed": false
   },
   "outputs": [
    {
     "data": {
      "text/html": [
       "<div>\n",
       "<table border=\"1\" class=\"dataframe\">\n",
       "  <thead>\n",
       "    <tr style=\"text-align: right;\">\n",
       "      <th></th>\n",
       "      <th>phenotype</th>\n",
       "      <th>intron</th>\n",
       "      <th>modality</th>\n",
       "      <th>U_statistic</th>\n",
       "      <th>p-value</th>\n",
       "      <th>q-value</th>\n",
       "    </tr>\n",
       "  </thead>\n",
       "  <tbody>\n",
       "    <tr>\n",
       "      <th>4</th>\n",
       "      <td>MN</td>\n",
       "      <td>Downstream</td>\n",
       "      <td>bimodal</td>\n",
       "      <td>2136245.5</td>\n",
       "      <td>0.002716</td>\n",
       "      <td>0.043464</td>\n",
       "    </tr>\n",
       "    <tr>\n",
       "      <th>12</th>\n",
       "      <td>MN</td>\n",
       "      <td>Upstream</td>\n",
       "      <td>bimodal</td>\n",
       "      <td>2113659.0</td>\n",
       "      <td>0.000407</td>\n",
       "      <td>0.006508</td>\n",
       "    </tr>\n",
       "  </tbody>\n",
       "</table>\n",
       "</div>"
      ],
      "text/plain": [
       "   phenotype      intron modality  U_statistic   p-value   q-value\n",
       "4         MN  Downstream  bimodal    2136245.5  0.002716  0.043464\n",
       "12        MN    Upstream  bimodal    2113659.0  0.000407  0.006508"
      ]
     },
     "execution_count": 19,
     "metadata": {},
     "output_type": "execute_result"
    }
   ],
   "source": [
    "intron_conservation_vs_ipsc.loc[intron_conservation_vs_ipsc['q-value'] < 0.1]"
   ]
  },
  {
   "cell_type": "code",
   "execution_count": 20,
   "metadata": {
    "collapsed": false
   },
   "outputs": [
    {
     "data": {
      "image/png": "[encoded data removed]",
      "text/plain": [
       "<matplotlib.figure.Figure at 0x2b66f6da6810>"
      ]
     },
     "metadata": {},
     "output_type": "display_data"
    }
   ],
   "source": [
    "g = sns.factorplot(col='direction', y='Conservation', hue='phenotype', size=2, col_order=intron_order,\n",
    "               x='modality', data=modality_basewise_conservation, kind='bar', order=MODALITY_ORDER,\n",
    "               hue_order=study.phenotype_order, palette=study.phenotype_color_ordered, )\n",
    "g.set_ylabels('Mean PhastCons\\n(Placental Mammal)')\n",
    "g.set(xlabel='')\n",
    "for ax in g.axes.flat:\n",
    "    plt.setp(ax.get_xticklabels(), rotation=90)\n",
    "# g.fig.tight_layout()\n",
    "g.savefig('{}/intron_mean_conservation.pdf'.format(figure_folder))"
   ]
  },
  {
   "cell_type": "code",
   "execution_count": 21,
   "metadata": {
    "collapsed": true
   },
   "outputs": [],
   "source": [
    "modality_order = ['constitutive'] + MODALITY_ORDER[:3] \n",
    "modality_palette = ['k'] + MODALITY_PALETTE[:3]"
   ]
  },
  {
   "cell_type": "code",
   "execution_count": 22,
   "metadata": {
    "collapsed": false
   },
   "outputs": [
    {
     "data": {
      "image/png": "[encoded data removed]",
      "text/plain": [
       "<matplotlib.figure.Figure at 0x2b66f67f6790>"
      ]
     },
     "metadata": {},
     "output_type": "display_data"
    }
   ],
   "source": [
    "g = sns.factorplot(col='direction', y='Conservation', hue='phenotype', size=2, col_order=intron_order,\n",
    "               x='modality', data=modality_basewise_conservation, kind='bar', order=modality_order,\n",
    "               hue_order=study.phenotype_order, palette=study.phenotype_color_ordered, legend=False)\n",
    "g.set_ylabels('Mean PhastCons\\n(Placental Mammal)')\n",
    "g.set(xlabel='')\n",
    "for ax in g.axes.flat:\n",
    "    plt.setp(ax.get_xticklabels(), rotation=90)\n",
    "#     if ax.is_first_col():\n",
    "    ax.set(yticks=[0, 0.08, 0.16], ylim=(0, 0.16))\n",
    "g.fig.tight_layout()\n",
    "g.set_titles('{col_name}')\n",
    "g.savefig('{}/intron_mean_conservation_excluded_bimodal_included.pdf'.format(figure_folder))"
   ]
  },
  {
   "cell_type": "markdown",
   "metadata": {},
   "source": [
    "### Statistical enrichment of modality conservation within modality, across celltypes\n",
    "\n",
    "Answering the question,\n",
    "\n",
    "> How does intron conservation of bimodal introns change across different cell type?"
   ]
  },
  {
   "cell_type": "code",
   "execution_count": 33,
   "metadata": {
    "collapsed": false
   },
   "outputs": [
    {
     "data": {
      "text/html": [
       "<div>\n",
       "<table border=\"1\" class=\"dataframe\">\n",
       "  <thead>\n",
       "    <tr style=\"text-align: right;\">\n",
       "      <th></th>\n",
       "      <th>Conservation</th>\n",
       "      <th>direction</th>\n",
       "      <th>genome_direction_nt</th>\n",
       "      <th>modality</th>\n",
       "      <th>phenotype</th>\n",
       "    </tr>\n",
       "  </thead>\n",
       "  <tbody>\n",
       "    <tr>\n",
       "      <th>0</th>\n",
       "      <td>0.602612</td>\n",
       "      <td>Downstream</td>\n",
       "      <td>1</td>\n",
       "      <td>bimodal</td>\n",
       "      <td>MN</td>\n",
       "    </tr>\n",
       "    <tr>\n",
       "      <th>1</th>\n",
       "      <td>0.206020</td>\n",
       "      <td>Downstream</td>\n",
       "      <td>1</td>\n",
       "      <td>excluded</td>\n",
       "      <td>MN</td>\n",
       "    </tr>\n",
       "    <tr>\n",
       "      <th>2</th>\n",
       "      <td>0.721382</td>\n",
       "      <td>Downstream</td>\n",
       "      <td>1</td>\n",
       "      <td>included</td>\n",
       "      <td>MN</td>\n",
       "    </tr>\n",
       "    <tr>\n",
       "      <th>3</th>\n",
       "      <td>1.000000</td>\n",
       "      <td>Downstream</td>\n",
       "      <td>1</td>\n",
       "      <td>uncategorized</td>\n",
       "      <td>MN</td>\n",
       "    </tr>\n",
       "    <tr>\n",
       "      <th>4</th>\n",
       "      <td>0.606266</td>\n",
       "      <td>Downstream</td>\n",
       "      <td>2</td>\n",
       "      <td>bimodal</td>\n",
       "      <td>MN</td>\n",
       "    </tr>\n",
       "  </tbody>\n",
       "</table>\n",
       "</div>"
      ],
      "text/plain": [
       "   Conservation   direction  genome_direction_nt       modality phenotype\n",
       "0      0.602612  Downstream                    1        bimodal        MN\n",
       "1      0.206020  Downstream                    1       excluded        MN\n",
       "2      0.721382  Downstream                    1       included        MN\n",
       "3      1.000000  Downstream                    1  uncategorized        MN\n",
       "4      0.606266  Downstream                    2        bimodal        MN"
      ]
     },
     "execution_count": 33,
     "metadata": {},
     "output_type": "execute_result"
    }
   ],
   "source": [
    "modality_basewise_conservation.head()"
   ]
  },
  {
   "cell_type": "code",
   "execution_count": 48,
   "metadata": {
    "collapsed": false
   },
   "outputs": [
    {
     "data": {
      "text/html": [
       "<div>\n",
       "<table border=\"1\" class=\"dataframe\">\n",
       "  <thead>\n",
       "    <tr>\n",
       "      <th></th>\n",
       "      <th></th>\n",
       "      <th colspan=\"3\" halign=\"left\">Upstream</th>\n",
       "      <th colspan=\"3\" halign=\"left\">Downstream</th>\n",
       "    </tr>\n",
       "    <tr>\n",
       "      <th></th>\n",
       "      <th></th>\n",
       "      <th>iPSC</th>\n",
       "      <th>NPC</th>\n",
       "      <th>MN</th>\n",
       "      <th>iPSC</th>\n",
       "      <th>NPC</th>\n",
       "      <th>MN</th>\n",
       "    </tr>\n",
       "  </thead>\n",
       "  <tbody>\n",
       "    <tr>\n",
       "      <th rowspan=\"3\" valign=\"top\">excluded</th>\n",
       "      <th>iPSC</th>\n",
       "      <td>-1.963735</td>\n",
       "      <td>2.271321</td>\n",
       "      <td>8.641676</td>\n",
       "      <td>-1.963735</td>\n",
       "      <td>12.624990</td>\n",
       "      <td>-1.923629</td>\n",
       "    </tr>\n",
       "    <tr>\n",
       "      <th>NPC</th>\n",
       "      <td>2.271321</td>\n",
       "      <td>-1.963735</td>\n",
       "      <td>37.788654</td>\n",
       "      <td>12.624990</td>\n",
       "      <td>-1.963735</td>\n",
       "      <td>11.322980</td>\n",
       "    </tr>\n",
       "    <tr>\n",
       "      <th>MN</th>\n",
       "      <td>8.641676</td>\n",
       "      <td>37.788654</td>\n",
       "      <td>-1.963735</td>\n",
       "      <td>-1.923629</td>\n",
       "      <td>11.322980</td>\n",
       "      <td>-1.963735</td>\n",
       "    </tr>\n",
       "    <tr>\n",
       "      <th rowspan=\"3\" valign=\"top\">bimodal</th>\n",
       "      <th>iPSC</th>\n",
       "      <td>-1.963735</td>\n",
       "      <td>19.769292</td>\n",
       "      <td>61.092353</td>\n",
       "      <td>-1.963735</td>\n",
       "      <td>24.183123</td>\n",
       "      <td>91.859022</td>\n",
       "    </tr>\n",
       "    <tr>\n",
       "      <th>NPC</th>\n",
       "      <td>19.769292</td>\n",
       "      <td>-1.963735</td>\n",
       "      <td>31.934204</td>\n",
       "      <td>24.183123</td>\n",
       "      <td>-1.963735</td>\n",
       "      <td>43.096102</td>\n",
       "    </tr>\n",
       "    <tr>\n",
       "      <th>MN</th>\n",
       "      <td>61.092353</td>\n",
       "      <td>31.934204</td>\n",
       "      <td>-1.963735</td>\n",
       "      <td>91.859022</td>\n",
       "      <td>43.096102</td>\n",
       "      <td>-1.963735</td>\n",
       "    </tr>\n",
       "    <tr>\n",
       "      <th rowspan=\"3\" valign=\"top\">included</th>\n",
       "      <th>iPSC</th>\n",
       "      <td>-1.963735</td>\n",
       "      <td>9.185069</td>\n",
       "      <td>38.217020</td>\n",
       "      <td>-1.963735</td>\n",
       "      <td>-0.581955</td>\n",
       "      <td>38.919888</td>\n",
       "    </tr>\n",
       "    <tr>\n",
       "      <th>NPC</th>\n",
       "      <td>9.185069</td>\n",
       "      <td>-1.963735</td>\n",
       "      <td>10.439191</td>\n",
       "      <td>-0.581955</td>\n",
       "      <td>-1.963735</td>\n",
       "      <td>37.616184</td>\n",
       "    </tr>\n",
       "    <tr>\n",
       "      <th>MN</th>\n",
       "      <td>38.217020</td>\n",
       "      <td>10.439191</td>\n",
       "      <td>-1.963735</td>\n",
       "      <td>38.919888</td>\n",
       "      <td>37.616184</td>\n",
       "      <td>-1.963735</td>\n",
       "    </tr>\n",
       "    <tr>\n",
       "      <th rowspan=\"3\" valign=\"top\">middle</th>\n",
       "      <th>iPSC</th>\n",
       "      <td>-1.963730</td>\n",
       "      <td>NaN</td>\n",
       "      <td>NaN</td>\n",
       "      <td>-1.963733</td>\n",
       "      <td>NaN</td>\n",
       "      <td>NaN</td>\n",
       "    </tr>\n",
       "    <tr>\n",
       "      <th>NPC</th>\n",
       "      <td>NaN</td>\n",
       "      <td>NaN</td>\n",
       "      <td>NaN</td>\n",
       "      <td>NaN</td>\n",
       "      <td>NaN</td>\n",
       "      <td>NaN</td>\n",
       "    </tr>\n",
       "    <tr>\n",
       "      <th>MN</th>\n",
       "      <td>NaN</td>\n",
       "      <td>NaN</td>\n",
       "      <td>NaN</td>\n",
       "      <td>NaN</td>\n",
       "      <td>NaN</td>\n",
       "      <td>NaN</td>\n",
       "    </tr>\n",
       "    <tr>\n",
       "      <th rowspan=\"3\" valign=\"top\">uncategorized</th>\n",
       "      <th>iPSC</th>\n",
       "      <td>-1.963735</td>\n",
       "      <td>79.559184</td>\n",
       "      <td>14.818512</td>\n",
       "      <td>-1.963735</td>\n",
       "      <td>109.071098</td>\n",
       "      <td>46.223979</td>\n",
       "    </tr>\n",
       "    <tr>\n",
       "      <th>NPC</th>\n",
       "      <td>79.559184</td>\n",
       "      <td>-1.963734</td>\n",
       "      <td>58.867867</td>\n",
       "      <td>109.071098</td>\n",
       "      <td>-1.963734</td>\n",
       "      <td>106.271455</td>\n",
       "    </tr>\n",
       "    <tr>\n",
       "      <th>MN</th>\n",
       "      <td>14.818512</td>\n",
       "      <td>58.867867</td>\n",
       "      <td>-1.963735</td>\n",
       "      <td>46.223979</td>\n",
       "      <td>106.271455</td>\n",
       "      <td>-1.963735</td>\n",
       "    </tr>\n",
       "  </tbody>\n",
       "</table>\n",
       "</div>"
      ],
      "text/plain": [
       "                     Upstream                        Downstream              \\\n",
       "                         iPSC        NPC         MN        iPSC         NPC   \n",
       "excluded      iPSC  -1.963735   2.271321   8.641676   -1.963735   12.624990   \n",
       "              NPC    2.271321  -1.963735  37.788654   12.624990   -1.963735   \n",
       "              MN     8.641676  37.788654  -1.963735   -1.923629   11.322980   \n",
       "bimodal       iPSC  -1.963735  19.769292  61.092353   -1.963735   24.183123   \n",
       "              NPC   19.769292  -1.963735  31.934204   24.183123   -1.963735   \n",
       "              MN    61.092353  31.934204  -1.963735   91.859022   43.096102   \n",
       "included      iPSC  -1.963735   9.185069  38.217020   -1.963735   -0.581955   \n",
       "              NPC    9.185069  -1.963735  10.439191   -0.581955   -1.963735   \n",
       "              MN    38.217020  10.439191  -1.963735   38.919888   37.616184   \n",
       "middle        iPSC  -1.963730        NaN        NaN   -1.963733         NaN   \n",
       "              NPC         NaN        NaN        NaN         NaN         NaN   \n",
       "              MN          NaN        NaN        NaN         NaN         NaN   \n",
       "uncategorized iPSC  -1.963735  79.559184  14.818512   -1.963735  109.071098   \n",
       "              NPC   79.559184  -1.963734  58.867867  109.071098   -1.963734   \n",
       "              MN    14.818512  58.867867  -1.963735   46.223979  106.271455   \n",
       "\n",
       "                                \n",
       "                            MN  \n",
       "excluded      iPSC   -1.923629  \n",
       "              NPC    11.322980  \n",
       "              MN     -1.963735  \n",
       "bimodal       iPSC   91.859022  \n",
       "              NPC    43.096102  \n",
       "              MN     -1.963735  \n",
       "included      iPSC   38.919888  \n",
       "              NPC    37.616184  \n",
       "              MN     -1.963735  \n",
       "middle        iPSC         NaN  \n",
       "              NPC          NaN  \n",
       "              MN           NaN  \n",
       "uncategorized iPSC   46.223979  \n",
       "              NPC   106.271455  \n",
       "              MN     -1.963735  "
      ]
     },
     "execution_count": 48,
     "metadata": {},
     "output_type": "execute_result"
    }
   ],
   "source": [
    "import itertools\n",
    "\n",
    "lines = []\n",
    "col = 'Conservation'\n",
    "\n",
    "for (modality, context), df in modality_basewise_conservation.groupby(['modality', 'direction']):\n",
    "    grouped = df.groupby('phenotype')\n",
    "    \n",
    "    for (group1, df1), (group2, df2) in itertools.product(grouped, repeat=2):\n",
    "        result = mannwhitneyu(df1[col], df2[col])\n",
    "        lines.append([modality, context, group1, group2, result.pvalue, result.statistic])\n",
    "enrichment = pd.DataFrame(lines, columns=['modality', 'context', 'phenotype1', 'phenotype2', 'p_value', 'statistic'])\n",
    "\n",
    "\n",
    "# multiple testing correction\n",
    "enrichment['bonferonni_p_value'] = enrichment['p_value'] * enrichment.shape[0]\n",
    "enrichment.head()\n",
    "\n",
    "# Transform tidy dataframe into 2d matrix\n",
    "enrichment_2d = enrichment.groupby('modality').apply(\n",
    "    lambda x: x.pivot_table(index='phenotype1', columns=['context', 'phenotype2'], values='bonferonni_p_value'))\n",
    "# enrichment_2d = enrichment_2d.loc[modality_order]\n",
    "enrichment_2d_log10 = -np.log10(enrichment_2d)\n",
    "\n",
    "# Make the rows and columns in the order we want\n",
    "index = pd.MultiIndex.from_product([MODALITY_ORDER, study.phenotype_order])\n",
    "columns = pd.MultiIndex.from_product([intron_order, study.phenotype_order])\n",
    "enrichment_2d_log10 = enrichment_2d_log10.reindex(index=index, columns=columns)\n",
    "enrichment_2d_log10\n",
    "\n",
    "# # Plot p-value heatmap\n",
    "# fig, ax = plt.subplots(figsize=(.5, .75))\n",
    "# ipsc = enrichment_2d_log10.loc['iPSC']\n",
    "# ipsc = ipsc.loc[modality_order]\n",
    "# ipsc = ipsc.T.fillna(0) + ipsc.fillna(0)\n",
    "# ipsc = ipsc.replace(0, np.nan)\n",
    "# six.print_(ipsc)\n",
    "\n",
    "# sns.heatmap(ipsc, vmin=0, vmax=100, linewidth=0.5, linecolor='grey', cbar_kws=dict(orientation='horizontal'))\n",
    "# ax.set(xticks=[], yticks=[], xlabel='', ylabel='');\n",
    "# sns.despine(left=False, bottom=False, right=False, top=False)\n",
    "# fig.savefig('{}/{}phastcons_exon2_conservation_p_value_heatmap.pdf'.format(figure_folder, col))"
   ]
  },
  {
   "cell_type": "code",
   "execution_count": 58,
   "metadata": {
    "collapsed": false
   },
   "outputs": [
    {
     "data": {
      "text/plain": [
       "<matplotlib.axes._subplots.AxesSubplot at 0x2b6722536b10>"
      ]
     },
     "execution_count": 58,
     "metadata": {},
     "output_type": "execute_result"
    },
    {
     "data": {
      "image/png": "[encoded data removed]",
      "text/plain": [
       "<matplotlib.figure.Figure at 0x2b672252b690>"
      ]
     },
     "metadata": {},
     "output_type": "display_data"
    }
   ],
   "source": [
    "sns.heatmap(enrichment_2d_log10[enrichment_2d_log10 > 0], vmin=0, annot=True, fmt='.0f')"
   ]
  },
  {
   "cell_type": "markdown",
   "metadata": {},
   "source": [
    "## Plot basewise conservation"
   ]
  },
  {
   "cell_type": "code",
   "execution_count": 23,
   "metadata": {
    "collapsed": false
   },
   "outputs": [
    {
     "data": {
      "image/png": "[encoded data removed]",
      "text/plain": [
       "<matplotlib.figure.Figure at 0x2b66f61eb090>"
      ]
     },
     "metadata": {},
     "output_type": "display_data"
    }
   ],
   "source": [
    "g = sns.FacetGrid(modality_basewise_conservation, hue='modality', hue_order=modality_order,\n",
    "                 palette=modality_palette, row='phenotype', row_order=study.phenotype_order,\n",
    "                  col='direction', sharex=False, #gridspec_kws=dict(wspace=0.1), #legend=False,\n",
    "                  col_order=intron_order, size=2)\n",
    "g.map(plt.plot, 'genome_direction_nt', 'Conservation')\n",
    "for ax in g.axes.flat:\n",
    "    ax.locator_params(nbins=4)\n",
    "#         ax.locator_params('y', nbins=4)\n",
    "    if ax.is_first_col():\n",
    "        ax.set(ylabel='Mean PhastCons\\n(Placental Mammal)',\n",
    "               xticklabels=list(reversed([int(x) for x in ax.get_xticks()])))\n",
    "    else:\n",
    "        sns.despine(ax=ax, left=True)\n",
    "        ax.yaxis.set_ticks_position('none')\n",
    "g.set_titles('{row_name}')\n",
    "g.set(xlabel='Nucleotides from exon', ylim=(0, 1))\n",
    "# g.add_legend();\n",
    "g.fig.subplots_adjust(wspace=0.01)\n",
    "g.fig.tight_layout()\n",
    "g.savefig('{}/intron_basewise_conservation_400nt.pdf'.format(figure_folder))"
   ]
  },
  {
   "cell_type": "code",
   "execution_count": 24,
   "metadata": {
    "collapsed": false
   },
   "outputs": [
    {
     "data": {
      "image/png": "[encoded data removed]",
      "text/plain": [
       "<matplotlib.figure.Figure at 0x2b67211bd550>"
      ]
     },
     "metadata": {},
     "output_type": "display_data"
    }
   ],
   "source": [
    "g = sns.FacetGrid(modality_basewise_conservation, hue='modality', hue_order=modality_order,\n",
    "                 palette=modality_palette, row='phenotype', row_order=study.phenotype_order,\n",
    "                  col='direction', sharex=False, #gridspec_kws=dict(wspace=0.2), #legend=False,\n",
    "                  col_order=intron_order, size=1.5, aspect=1.3)\n",
    "g.map(plt.plot, 'genome_direction_nt', 'Conservation')\n",
    "for ax in g.axes.flat:\n",
    "    ax.locator_params(nbins=4)\n",
    "#         ax.locator_params('y', nbins=4)\n",
    "    if ax.is_first_col():\n",
    "        xticklabels = ax.get_xticks()\n",
    "        ax.set(xlim=(200, 400))\n",
    "        ax.set(ylabel='Mean PhastCons\\n(Placental Mammal)',\n",
    "               xticklabels=[200, 100, 0], xticks=(200, 300, 400))\n",
    "    else:\n",
    "        sns.despine(ax=ax, left=True)\n",
    "        ax.yaxis.set_ticks_position('none')\n",
    "        ax.set(xlim=(0, 200), xticklabels=[0, 100, 200], xticks=[0, 100, 200])\n",
    "g.set_titles('{row_name}')\n",
    "g.set(xlabel='', ylim=(0, 1))\n",
    "# g.add_legend();\n",
    "g.fig.subplots_adjust(wspace=0.01)\n",
    "g.fig.tight_layout()\n",
    "g.savefig('{}/intron_basewise_conservation_200nt.pdf'.format(figure_folder))"
   ]
  },
  {
   "cell_type": "code",
   "execution_count": 25,
   "metadata": {
    "collapsed": false
   },
   "outputs": [],
   "source": [
    "# import matplotlib as mpl\n",
    "# dark2 = sns.color_palette('Dark2', n_colors=10)\n",
    "# sns.palplot(dark2)\n",
    "# accent = sns.color_palette('Accent', n_colors=10)\n",
    "# sns.palplot(accent)\n",
    "\n",
    "# sns.palplot(sns.color_palette('PRGn', n_colors=2))\n",
    "# direction_to_color = dict(zip(['upstream', 'downstream'], \n",
    "#                             map(mpl.colors.rgb2hex, sns.color_palette('PRGn', n_colors=2))))\n",
    "\n",
    "\n",
    "# # This is the winner!!\n",
    "# import matplotlib as mpl\n",
    "# celltype_palette = dark2[0], accent[4], dark2[3], accent[2]\n",
    "# sns.palplot(celltype_palette)\n",
    "\n",
    "# celltype_palette = map(mpl.colors.rgb2hex, celltype_palette)\n",
    "\n",
    "# phenotype_to_color = dict(zip(['iPSC', 'NPC', \"MN\", \"sMN\"], celltype_palette))\n",
    "# phenotype_to_color"
   ]
  },
  {
   "cell_type": "code",
   "execution_count": null,
   "metadata": {
    "collapsed": false
   },
   "outputs": [],
   "source": []
  },
  {
   "cell_type": "code",
   "execution_count": 26,
   "metadata": {
    "collapsed": false
   },
   "outputs": [],
   "source": [
    "cmap = sns.dark_palette((177, 66, 90), as_cmap=True, input='husl')"
   ]
  },
  {
   "cell_type": "code",
   "execution_count": 27,
   "metadata": {
    "collapsed": false
   },
   "outputs": [
    {
     "data": {
      "image/png": "[encoded data removed]",
      "text/plain": [
       "<matplotlib.figure.Figure at 0x2b66f5ff2510>"
      ]
     },
     "metadata": {},
     "output_type": "display_data"
    },
    {
     "data": {
      "image/png": "[encoded data removed]",
      "text/plain": [
       "<matplotlib.figure.Figure at 0x2b67218ec850>"
      ]
     },
     "metadata": {},
     "output_type": "display_data"
    },
    {
     "data": {
      "image/png": "[encoded data removed]",
      "text/plain": [
       "<matplotlib.figure.Figure at 0x2b67222eed90>"
      ]
     },
     "metadata": {},
     "output_type": "display_data"
    }
   ],
   "source": [
    "for phenotype, phenotype_df in modality_basewise_statistics.groupby('phenotype'):\n",
    "    # PLot significance of basewise statistics\n",
    "    figwidth = 2.5 * 2\n",
    "    figheight = 0.3 * len(modality_basewise_statistics.groupby('modality').groups)\n",
    "\n",
    "    fig, axes = plt.subplots(ncols=3, figsize=(figwidth, figheight), gridspec_kw=dict(width_ratios=[1, 1, 0.1]))\n",
    "    cbar_ax = axes[-1]\n",
    "\n",
    "    grouped = phenotype_df.groupby('intron')\n",
    "\n",
    "    for intron, ax in zip(intron_order, axes):\n",
    "        df = grouped.get_group(intron)\n",
    "        basewise_statistics_2d = df.pivot(index='modality', columns='genome_direction_nt', values='$-\\log_{10}(q)$')\n",
    "        basewise_statistics_2d = basewise_statistics_2d.loc[MODALITY_ORDER[:3]].dropna()\n",
    "        sns.heatmap(basewise_statistics_2d, cmap=cmap, ax=ax, vmin=0,\n",
    "                    cbar_kws=dict(label='$-\\log_{10}(q)$'), \n",
    "                    cbar_ax=cbar_ax)\n",
    "        ax.set(ylabel='', xlabel='', xticks=[0, 200, 400])\n",
    "        if not ax.is_first_col():\n",
    "            ax.set(yticks=[], ylabel='')\n",
    "        else:\n",
    "            plt.setp(ax.get_yticklabels(), rotation=0)\n",
    "    fig.subplots_adjust(wspace=0.01)\n",
    "    fig.tight_layout()\n",
    "    fig.savefig('{}/intron_basewise_conservation_statistics_{}_q_values.pdf'.format(figure_folder, phenotype))"
   ]
  },
  {
   "cell_type": "code",
   "execution_count": 28,
   "metadata": {
    "collapsed": true
   },
   "outputs": [],
   "source": [
    "# cmap = sns.light_palette((177, 66, 90), as_cmap=True, input='husl')\n",
    "cmap = 'Greys'"
   ]
  },
  {
   "cell_type": "code",
   "execution_count": 29,
   "metadata": {
    "collapsed": true
   },
   "outputs": [],
   "source": [
    "import matplotlib as mpl"
   ]
  },
  {
   "cell_type": "code",
   "execution_count": 30,
   "metadata": {
    "collapsed": true
   },
   "outputs": [],
   "source": [
    "locator = mpl.ticker.MaxNLocator(4)"
   ]
  },
  {
   "cell_type": "code",
   "execution_count": 31,
   "metadata": {
    "collapsed": false
   },
   "outputs": [
    {
     "data": {
      "image/png": "[encoded data removed]",
      "text/plain": [
       "<matplotlib.figure.Figure at 0x2b67234046d0>"
      ]
     },
     "metadata": {},
     "output_type": "display_data"
    },
    {
     "data": {
      "image/png": "[encoded data removed]",
      "text/plain": [
       "<matplotlib.figure.Figure at 0x2b6723bb3290>"
      ]
     },
     "metadata": {},
     "output_type": "display_data"
    },
    {
     "data": {
      "image/png": "[encoded data removed]",
      "text/plain": [
       "<matplotlib.figure.Figure at 0x2b6723844350>"
      ]
     },
     "metadata": {},
     "output_type": "display_data"
    }
   ],
   "source": [
    "for phenotype, phenotype_df in modality_basewise_statistics.groupby('phenotype'):\n",
    "    # PLot significance of basewise statistics\n",
    "    figwidth = 2.5 * 2\n",
    "    figheight = 0.15 * len(modality_basewise_statistics.groupby('modality').groups)\n",
    "\n",
    "    fig, axes = plt.subplots(ncols=3, figsize=(figwidth, figheight), \n",
    "                             gridspec_kw=dict(width_ratios=[1, 1, 0.1], wspace=0.2))\n",
    "    cbar_ax = axes[-1]\n",
    "\n",
    "    grouped = phenotype_df.groupby('intron')\n",
    "\n",
    "    for intron, ax in zip(intron_order, axes):\n",
    "        df = grouped.get_group(intron)\n",
    "        basewise_statistics_2d = df.pivot(index='modality', columns='genome_direction_nt', values='$-\\log_{10}(q)$')\n",
    "        basewise_statistics_2d = basewise_statistics_2d.loc[MODALITY_ORDER[:3]].dropna()\n",
    "        sns.heatmap(basewise_statistics_2d, cmap=cmap, ax=ax, vmin=0, vmax=10,\n",
    "                    cbar_kws=dict(label='$-\\log_{10}(q)$'), \n",
    "                    cbar_ax=cbar_ax)\n",
    "        ax.set(xticks=[])\n",
    "        if not ax.is_first_col():\n",
    "            ax.set(yticks=[], ylabel='', xlim=(0, 200), xlabel='',\n",
    "                   xticklabels=[0, 100, 200], xticks=(0, 100, 200))\n",
    "        else:\n",
    "            plt.setp(ax.get_yticklabels(), rotation=0)\n",
    "            xticklabels = ax.get_xticks()\n",
    "            ax.set(xlim=(200, 400), xlabel='', xticklabels=[200, 100, 0], \n",
    "                   xticks=(200, 300, 400), ylabel='')\n",
    "    cbar_ax.locator_params('y', nbins=4)\n",
    "    cbar_ax.yaxis.set_ticklabels([0, 5, 10])\n",
    "    fig.subplots_adjust(wspace=0.01)\n",
    "    sns.despine(bottom=False, right=False, left=False, top=False)\n",
    "#     fig.tight_layout()\n",
    "    fig.savefig('{}/intron_basewise_conservation_statistics_{}_q_values_200nt.pdf'.format(figure_folder, phenotype))"
   ]
  },
  {
   "cell_type": "code",
   "execution_count": 32,
   "metadata": {
    "collapsed": false
   },
   "outputs": [
    {
     "data": {
      "image/png": "[encoded data removed]",
      "text/plain": [
       "<matplotlib.figure.Figure at 0x2b6720e7c650>"
      ]
     },
     "metadata": {},
     "output_type": "display_data"
    },
    {
     "data": {
      "image/png": "[encoded data removed]",
      "text/plain": [
       "<matplotlib.figure.Figure at 0x2b6722874910>"
      ]
     },
     "metadata": {},
     "output_type": "display_data"
    },
    {
     "data": {
      "image/png": "[encoded data removed]",
      "text/plain": [
       "<matplotlib.figure.Figure at 0x2b6722ce1ed0>"
      ]
     },
     "metadata": {},
     "output_type": "display_data"
    }
   ],
   "source": [
    "for phenotype, phenotype_df in modality_basewise_statistics.groupby('phenotype'):\n",
    "    # PLot significance of basewise statistics\n",
    "    figwidth = 2.5 * 2\n",
    "    figheight = 0.3 * len(modality_basewise_statistics.groupby('modality').groups)\n",
    "\n",
    "    fig, axes = plt.subplots(ncols=3, figsize=(figwidth, figheight), gridspec_kw=dict(width_ratios=[1, 1, 0.1]))\n",
    "    cbar_ax = axes[-1]\n",
    "\n",
    "    grouped = phenotype_df.groupby('intron')\n",
    "\n",
    "    for intron, ax in zip(intron_order, axes):\n",
    "        df = grouped.get_group(intron)\n",
    "        basewise_statistics_2d = df.pivot(index='modality', columns='genome_direction_nt', values='$-\\log_{10}(p)$')\n",
    "        basewise_statistics_2d = basewise_statistics_2d.loc[MODALITY_ORDER[:3]].dropna()\n",
    "        sns.heatmap(basewise_statistics_2d, cmap=cmap, ax=ax,\n",
    "                    cbar_kws=dict(label='$-\\log_{10}(p)$'), \n",
    "                    cbar_ax=cbar_ax)\n",
    "        ax.set(xticks=[])\n",
    "        if not ax.is_first_col():\n",
    "            ax.set(yticks=[], ylabel='')\n",
    "        else:\n",
    "            plt.setp(ax.get_yticklabels(), rotation=0)\n",
    "    fig.subplots_adjust(wspace=0.01)\n",
    "    fig.tight_layout()\n",
    "    fig.savefig('{}/intron_basewise_conservation_statistics_{}_p_values.pdf'.format(figure_folder, phenotype))"
   ]
  }
 ],
 "metadata": {
  "kernelspec": {
   "display_name": "Python 2",
   "language": "python",
   "name": "python2"
  },
  "language_info": {
   "codemirror_mode": {
    "name": "ipython",
    "version": 2
   },
   "file_extension": ".py",
   "mimetype": "text/x-python",
   "name": "python",
   "nbconvert_exporter": "python",
   "pygments_lexer": "ipython2",
   "version": "2.7.11"
  }
 },
 "nbformat": 4,
 "nbformat_minor": 0
}
