{
 "cells": [
  {
   "cell_type": "markdown",
   "metadata": {},
   "source": [
    "# ACGT content in modalities"
   ]
  },
  {
   "cell_type": "code",
   "execution_count": 14,
   "metadata": {
    "collapsed": false
   },
   "outputs": [
    {
     "name": "stdout",
     "output_type": "stream",
     "text": [
      "The autoreload extension is already loaded. To reload it, use:\n",
      "  %reload_ext autoreload\n",
      "2016-05-25 13:47:40\tReading datapackage from /projects/ps-yeolab/obotvinnik/flotilla_projects/singlecell_pnm_figure2_modalities_bayesian/datapackage.json\n",
      "2016-05-25 13:47:40\tParsing datapackage to create a Study object\n",
      "2016-05-25 13:48:27 \tInitializing Study\n",
      "2016-05-25 13:48:27 \tInitializing Predictor configuration manager for Study\n",
      "2016-05-25 13:48:27\tPredictor ExtraTreesClassifier is of type <class 'sklearn.ensemble.forest.ExtraTreesClassifier'>\n",
      "2016-05-25 13:48:27\tAdded ExtraTreesClassifier to default predictors\n",
      "2016-05-25 13:48:27\tPredictor ExtraTreesRegressor is of type <class 'sklearn.ensemble.forest.ExtraTreesRegressor'>\n",
      "2016-05-25 13:48:27\tAdded ExtraTreesRegressor to default predictors\n",
      "2016-05-25 13:48:27\tPredictor GradientBoostingClassifier is of type <class 'sklearn.ensemble.gradient_boosting.GradientBoostingClassifier'>\n",
      "2016-05-25 13:48:27\tAdded GradientBoostingClassifier to default predictors\n",
      "2016-05-25 13:48:27\tPredictor GradientBoostingRegressor is of type <class 'sklearn.ensemble.gradient_boosting.GradientBoostingRegressor'>\n",
      "2016-05-25 13:48:27\tAdded GradientBoostingRegressor to default predictors\n",
      "2016-05-25 13:48:32 \tBuilding Gene Ontology database...\n",
      "2016-05-25 13:48:42 \t\tDone\n",
      "2016-05-25 13:48:43 \tLoading metadata\n",
      "2016-05-25 13:48:43\tLoading expression data\n",
      "2016-05-25 13:48:43\tInitializing expression\n",
      "2016-05-25 13:48:43\tDone initializing expression\n",
      "2016-05-25 13:48:45\tLoading splicing data\n",
      "2016-05-25 13:48:45\tInitializing splicing\n",
      "2016-05-25 13:48:45\tDone initializing splicing\n",
      "2016-05-25 13:48:45\tSuccessfully initialized a Study object!\n"
     ]
    }
   ],
   "source": [
    "%load_ext autoreload\n",
    "%autoreload 2\n",
    "\n",
    "import anchor\n",
    "import matplotlib.pyplot as plt\n",
    "import seaborn as sns\n",
    "import numpy as np\n",
    "import pandas as pd\n",
    "\n",
    "sns.set(style='ticks', context='talk', rc={'font.sans-serif':'Arial', 'pdf.fonttype': 42})\n",
    "\n",
    "%matplotlib inline\n",
    "\n",
    "\n",
    "\n",
    "import flotilla\n",
    "\n",
    "flotilla_dir = '/projects/ps-yeolab/obotvinnik/flotilla_projects'\n",
    "\n",
    "\n",
    "study = flotilla.embark('singlecell_pnm_figure2_modalities_bayesian', flotilla_dir=flotilla_dir)\n",
    "\n",
    "not_outliers = study.splicing.singles.index.difference(study.splicing.outliers.index)"
   ]
  },
  {
   "cell_type": "code",
   "execution_count": 15,
   "metadata": {
    "collapsed": false
   },
   "outputs": [
    {
     "name": "stdout",
     "output_type": "stream",
     "text": [
      "mkdir: cannot create directory `/home/obotvinnik/Dropbox/figures2/singlecell_pnm/figure2_modalities/bayesian/nucleotide_content': File exists\r\n"
     ]
    }
   ],
   "source": [
    "folder = '/home/obotvinnik/Dropbox/figures2/singlecell_pnm/figure2_modalities/bayesian'\n",
    "figure_folder = '{}/nucleotide_content'.format(folder)\n",
    "! mkdir $figure_folder"
   ]
  },
  {
   "cell_type": "code",
   "execution_count": 16,
   "metadata": {
    "collapsed": false
   },
   "outputs": [],
   "source": [
    "csv_folder = '/projects/ps-yeolab/obotvinnik/singlecell_pnms/csvs_for_paper'"
   ]
  },
  {
   "cell_type": "code",
   "execution_count": 17,
   "metadata": {
    "collapsed": true
   },
   "outputs": [],
   "source": [
    "splicing_feature_folder = '/projects/ps-yeolab/obotvinnik/singlecell_pnms/csvs_for_paper/splicing_feature_data'"
   ]
  },
  {
   "cell_type": "code",
   "execution_count": 18,
   "metadata": {
    "collapsed": false
   },
   "outputs": [
    {
     "name": "stdout",
     "output_type": "stream",
     "text": [
      "\u001b[0m\u001b[01;34malternative\u001b[0m/                  exonbody_conservation.err-1\r\n",
      "basewise_conservation.py      exonbody_conservation.err-2\r\n",
      "basewise_conservation.sh      exonbody_conservation.out-1\r\n",
      "basewise_conservation.sh.err  exonbody_conservation.out-2\r\n",
      "basewise_conservation.sh.out  exonbody_conservation.sh\r\n",
      "\u001b[01;34mconstitutive\u001b[0m/\r\n",
      "\u001b[m"
     ]
    }
   ],
   "source": [
    "ls $splicing_feature_folder"
   ]
  },
  {
   "cell_type": "code",
   "execution_count": 20,
   "metadata": {
    "collapsed": false
   },
   "outputs": [
    {
     "name": "stdout",
     "output_type": "stream",
     "text": [
      "/projects/ps-yeolab/obotvinnik/singlecell_pnms/csvs_for_paper/splicing_feature_data/alternative/nucleotide_content/downstream200_nucleotide_content_A.csv\r\n",
      "/projects/ps-yeolab/obotvinnik/singlecell_pnms/csvs_for_paper/splicing_feature_data/alternative/nucleotide_content/downstream200_nucleotide_content_A_placental_mammal.csv\r\n",
      "/projects/ps-yeolab/obotvinnik/singlecell_pnms/csvs_for_paper/splicing_feature_data/alternative/nucleotide_content/downstream200_nucleotide_content_C.csv\r\n",
      "/projects/ps-yeolab/obotvinnik/singlecell_pnms/csvs_for_paper/splicing_feature_data/alternative/nucleotide_content/downstream200_nucleotide_content_C_placental_mammal.csv\r\n",
      "/projects/ps-yeolab/obotvinnik/singlecell_pnms/csvs_for_paper/splicing_feature_data/alternative/nucleotide_content/downstream200_nucleotide_content_G.csv\r\n",
      "/projects/ps-yeolab/obotvinnik/singlecell_pnms/csvs_for_paper/splicing_feature_data/alternative/nucleotide_content/downstream200_nucleotide_content_G_placental_mammal.csv\r\n",
      "/projects/ps-yeolab/obotvinnik/singlecell_pnms/csvs_for_paper/splicing_feature_data/alternative/nucleotide_content/downstream200_nucleotide_content_T.csv\r\n",
      "/projects/ps-yeolab/obotvinnik/singlecell_pnms/csvs_for_paper/splicing_feature_data/alternative/nucleotide_content/downstream200_nucleotide_content_T_placental_mammal.csv\r\n",
      "/projects/ps-yeolab/obotvinnik/singlecell_pnms/csvs_for_paper/splicing_feature_data/alternative/nucleotide_content/upstream200_nucleotide_content_A.csv\r\n",
      "/projects/ps-yeolab/obotvinnik/singlecell_pnms/csvs_for_paper/splicing_feature_data/alternative/nucleotide_content/upstream200_nucleotide_content_A_placental_mammal.csv\r\n",
      "/projects/ps-yeolab/obotvinnik/singlecell_pnms/csvs_for_paper/splicing_feature_data/alternative/nucleotide_content/upstream200_nucleotide_content_C.csv\r\n",
      "/projects/ps-yeolab/obotvinnik/singlecell_pnms/csvs_for_paper/splicing_feature_data/alternative/nucleotide_content/upstream200_nucleotide_content_C_placental_mammal.csv\r\n",
      "/projects/ps-yeolab/obotvinnik/singlecell_pnms/csvs_for_paper/splicing_feature_data/alternative/nucleotide_content/upstream200_nucleotide_content_G.csv\r\n",
      "/projects/ps-yeolab/obotvinnik/singlecell_pnms/csvs_for_paper/splicing_feature_data/alternative/nucleotide_content/upstream200_nucleotide_content_G_placental_mammal.csv\r\n",
      "/projects/ps-yeolab/obotvinnik/singlecell_pnms/csvs_for_paper/splicing_feature_data/alternative/nucleotide_content/upstream200_nucleotide_content_T.csv\r\n",
      "/projects/ps-yeolab/obotvinnik/singlecell_pnms/csvs_for_paper/splicing_feature_data/alternative/nucleotide_content/upstream200_nucleotide_content_T_placental_mammal.csv\r\n"
     ]
    }
   ],
   "source": [
    "! ls $splicing_feature_folder/alternative/nucleotide_content/*200*"
   ]
  },
  {
   "cell_type": "code",
   "execution_count": 22,
   "metadata": {
    "collapsed": false
   },
   "outputs": [],
   "source": [
    "df = pd.read_csv('/projects/ps-yeolab/obotvinnik/singlecell_pnms/csvs_for_paper/splicing_feature_data/alternative/nucleotide_content/upstream200_nucleotide_content_T_placental_mammal.csv')"
   ]
  },
  {
   "cell_type": "code",
   "execution_count": null,
   "metadata": {
    "collapsed": false
   },
   "outputs": [],
   "source": [
    "nucleotides = 'ACGT'\n",
    "contexts = 'upstream', 'downstream'\n",
    "exon_types = 'alternative', 'constitutive'\n",
    "\n",
    "alternative_dfs = []\n",
    "constitutive_dfs = []\n",
    "\n",
    "for nucleotide in nucleotides:\n",
    "    for context in contexts:\n",
    "        for exon_type in exon_types:\n",
    "            csv = '{}/{}/nucleotide_content/{}200_nucleotide_content_{}.csv'.format(splicing_feature_folder, \n",
    "                                                                                    exon_type, context, nucleotide)\n",
    "            df = pd.read_csv(csv, index_col=0)\n",
    "            df = df * 100\n",
    "            tidy = df.unstack().reset_index()\n",
    "            tidy = tidy.rename(\n",
    "                columns={'level_0': 'window_relative_to_exon', 'level_1': 'event_name', 0:'Nucleotide Percentage'})\n",
    "            tidy['window_relative_to_exon'] = tidy['window_relative_to_exon'].astype(int)\n",
    "#             if context == 'upstream':\n",
    "#                 tidy['window_relative_to_genome'] = np.abs(tidy['window_relative_to_exon'] - 39)\n",
    "#             else:\n",
    "#                 tidy['window_relative_to_genome'] = tidy['window_relative_to_exon'].copy()\n",
    "            tidy['Region'] = context.title()\n",
    "            tidy['Nucleotide'] = nucleotide\n",
    "            tidy['exon_type'] = exon_type\n",
    "            if exon_type == 'exon2':\n",
    "                alternative_dfs.append(tidy)\n",
    "            else:\n",
    "                constitutive_dfs.append(tidy)\n",
    "nucleotide_content = pd.concat(alternative_dfs)\n",
    "constitutive_nucleotide_content = pd.concat(constitutive_dfs)\n",
    "\n",
    "print(nucleotide_content.shape)\n",
    "nucleotide_content.head()"
   ]
  },
  {
   "cell_type": "code",
   "execution_count": null,
   "metadata": {
    "collapsed": false
   },
   "outputs": [],
   "source": [
    "tidy.head()"
   ]
  },
  {
   "cell_type": "code",
   "execution_count": null,
   "metadata": {
    "collapsed": false
   },
   "outputs": [],
   "source": [
    "study.supplemental.modalities_tidy.head()"
   ]
  },
  {
   "cell_type": "code",
   "execution_count": null,
   "metadata": {
    "collapsed": false
   },
   "outputs": [],
   "source": [
    "nucleotide_content.head()"
   ]
  },
  {
   "cell_type": "code",
   "execution_count": null,
   "metadata": {
    "collapsed": false
   },
   "outputs": [],
   "source": [
    "nucleotide_content_modalities = nucleotide_content.merge(\n",
    "    study.supplemental.modalities_tidy, left_on='event_name', right_on='event_id', how='outer')\n",
    "nucleotide_content_modalities.head()"
   ]
  },
  {
   "cell_type": "code",
   "execution_count": null,
   "metadata": {
    "collapsed": false
   },
   "outputs": [],
   "source": [
    "print(nucleotide_content_modalities.shape)\n",
    "nucleotide_content_modalities = nucleotide_content_modalities.dropna()\n",
    "print(nucleotide_content_modalities.shape)"
   ]
  },
  {
   "cell_type": "code",
   "execution_count": null,
   "metadata": {
    "collapsed": false
   },
   "outputs": [],
   "source": [
    "nucleotide_content_modalities.head()"
   ]
  },
  {
   "cell_type": "code",
   "execution_count": null,
   "metadata": {
    "collapsed": true
   },
   "outputs": [],
   "source": [
    "constitutive_nucleotide_content['modality'] = 'constitutive'\n",
    "\n",
    "constitutives = []\n",
    "\n",
    "for phenotype in study.phenotype_order:\n",
    "    constitutive_nucleotide_content['phenotype'] = phenotype\n",
    "    constitutives.append(constitutive_nucleotide_content.copy())"
   ]
  },
  {
   "cell_type": "code",
   "execution_count": null,
   "metadata": {
    "collapsed": false
   },
   "outputs": [],
   "source": [
    "nucleotide_content_all = pd.concat([nucleotide_content_modalities] + constitutives)\n",
    "nucleotide_content_all.head()"
   ]
  },
  {
   "cell_type": "code",
   "execution_count": null,
   "metadata": {
    "collapsed": false
   },
   "outputs": [],
   "source": [
    "nucleotide_content_all.tail()"
   ]
  },
  {
   "cell_type": "code",
   "execution_count": null,
   "metadata": {
    "collapsed": true
   },
   "outputs": [],
   "source": [
    "from anchor import MODALITY_ORDER, MODALITY_PALETTE, MODALITY_TO_COLOR"
   ]
  },
  {
   "cell_type": "code",
   "execution_count": null,
   "metadata": {
    "collapsed": false
   },
   "outputs": [],
   "source": [
    "MODALITY_TO_COLOR['constitutive'] = 'k'"
   ]
  },
  {
   "cell_type": "code",
   "execution_count": null,
   "metadata": {
    "collapsed": false,
    "scrolled": false
   },
   "outputs": [],
   "source": [
    "modality_order = ['constitutive', '~1', '~0', 'bimodal']\n",
    "modality_palette = [MODALITY_TO_COLOR[x] for x in modality_order]\n",
    "\n",
    "for nucleotide, nucleotide_df in nucleotide_content_all.groupby('Nucleotide'):\n",
    "\n",
    "    g = sns.FacetGrid(nucleotide_df, hue='modality', row='phenotype', col='Region', \n",
    "                      palette=modality_palette, hue_order=modality_order, row_order=study.phenotype_order,\n",
    "                     col_order=['Upstream', 'Downstream'], sharex=False)\n",
    "\n",
    "    g.map(sns.pointplot, 'window_relative_to_exon', 'Nucleotide Percentage', scale=0.5, dodge=True, alpha=0.5, ci=None)\n",
    "    g.set_titles('{row_name} ' + nucleotide)\n",
    "    for ax in g.axes.flat:\n",
    "        if ax.is_first_col():\n",
    "            ax.invert_xaxis()\n",
    "    g.set(xlabel='')\n",
    "    g.set(xticks=[0, 19, 39], xticklabels=[0, 200, 400])\n",
    "    g.fig.tight_layout()\n",
    "    g.savefig('{}/intron_window_nucleotide_content_{}.pdf'.format(figure_folder, nucleotide))\n",
    "    \n",
    "    \n",
    "    # Zoom in on first 100nt\n",
    "    g.set(xlim=(0, 9), xticks=[0, 5, 9], xticklabels=[0, 50, 100])\n",
    "    for ax in g.axes.flat:\n",
    "        if ax.is_first_col():\n",
    "            ax.invert_xaxis()\n",
    "    g.savefig('{}/intron_window_nucleotide_content_{}_zoom100nt.pdf'.format(figure_folder, nucleotide))\n"
   ]
  },
  {
   "cell_type": "code",
   "execution_count": null,
   "metadata": {
    "collapsed": false,
    "scrolled": false
   },
   "outputs": [],
   "source": [
    "nucleotide_to_color = {'A': 'Green',\n",
    "                       'C': 'DarkBlue',\n",
    "                       'G': 'Gold', \n",
    "                       'T': 'Crimson'}\n",
    "nucleotide_order = list('ACGT')\n",
    "nucleotide_palette = [nucleotide_to_color[x] for x in nucleotide_order]\n",
    "\n",
    "for modality, modality_df in nucleotide_content_all.groupby('modality'):\n",
    "\n",
    "    g = sns.FacetGrid(modality_df, hue='Nucleotide', row='phenotype', col='Region', \n",
    "                      palette=nucleotide_palette, hue_order=nucleotide_order,\n",
    "#                       palette=modality_palette, hue_order=modality_order, \n",
    "                      row_order=study.phenotype_order,\n",
    "                     col_order=['Upstream', 'Downstream'], sharex=False)\n",
    "\n",
    "    g.map(sns.pointplot, 'window_relative_to_exon', 'Nucleotide Percentage', scale=0.5, dodge=True, ci=None)\n",
    "    g.set_titles('{row_name} ' + modality)\n",
    "    for ax in g.axes.flat:\n",
    "        if ax.is_first_col():\n",
    "            ax.invert_xaxis()\n",
    "    g.set(xlabel='')\n",
    "    g.set(xticks=[0, 19, 39], xticklabels=[0, 200, 400])\n",
    "    g.fig.tight_layout()\n",
    "    g.savefig('{}/intron_window_nucleotide_content_{}.pdf'.format(figure_folder, modality))\n",
    "    \n",
    "    \n",
    "    # Zoom in on first 100nt\n",
    "    g.set(xlim=(0, 9), xticks=[0, 4, 9], xticklabels=[0, 50, 100])\n",
    "    for ax in g.axes.flat:\n",
    "        if ax.is_first_col():\n",
    "            ax.invert_xaxis()\n",
    "    g.savefig('{}/intron_window_nucleotide_content_{}_zoom100nt.pdf'.format(figure_folder, modality))\n"
   ]
  },
  {
   "cell_type": "code",
   "execution_count": null,
   "metadata": {
    "collapsed": true
   },
   "outputs": [],
   "source": []
  }
 ],
 "metadata": {
  "kernelspec": {
   "display_name": "Python 2",
   "language": "python",
   "name": "python2"
  },
  "language_info": {
   "codemirror_mode": {
    "name": "ipython",
    "version": 2
   },
   "file_extension": ".py",
   "mimetype": "text/x-python",
   "name": "python",
   "nbconvert_exporter": "python",
   "pygments_lexer": "ipython2",
   "version": "2.7.10"
  }
 },
 "nbformat": 4,
 "nbformat_minor": 0
}
