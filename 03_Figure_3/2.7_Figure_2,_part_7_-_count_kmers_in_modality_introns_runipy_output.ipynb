{
 "metadata": {
  "kernelspec": {
   "display_name": "Python 2",
   "language": "python",
   "name": "python2"
  },
  "language_info": {
   "codemirror_mode": {
    "name": "ipython",
    "version": 2
   },
   "file_extension": ".py",
   "mimetype": "text/x-python",
   "name": "python",
   "nbconvert_exporter": "python",
   "pygments_lexer": "ipython2",
   "version": "2.7.11"
  },
  "name": ""
 },
 "nbformat": 3,
 "nbformat_minor": 0,
 "worksheets": [
  {
   "cells": [
    {
     "cell_type": "code",
     "collapsed": false,
     "input": [
      "%load_ext autoreload\n",
      "%autoreload 2\n",
      "\n",
      "\n",
      "import matplotlib.pyplot as plt\n",
      "import seaborn as sns\n",
      "import numpy as np\n",
      "import pandas as pd\n",
      "\n",
      "sns.set(style='ticks', context='talk', rc={'font.sans-serif':'Arial', 'pdf.fonttype': 42})\n",
      "\n",
      "%matplotlib inline\n",
      "\n",
      "\n",
      "import flotilla\n",
      "flotilla_dir = '/projects/ps-yeolab/obotvinnik/flotilla_projects'\n",
      "\n",
      "study = flotilla.embark('singlecell_pnm_figure2_modalities_bayesian', flotilla_dir=flotilla_dir)\n",
      "not_outliers = study.splicing.singles.index.difference(study.splicing.outliers.index)\n",
      "\n",
      "psi = study.splicing.singles.ix[not_outliers]\n",
      "grouped = psi.groupby(study.sample_id_to_phenotype)\n",
      "psi_filtered = grouped.apply(lambda x: x.dropna(axis=1, thresh=20))"
     ],
     "language": "python",
     "metadata": {},
     "outputs": [
      {
       "output_type": "stream",
       "stream": "stderr",
       "text": [
        "/home/obotvinnik/anaconda/lib/python2.7/site-packages/matplotlib/__init__.py:810: UserWarning: Found matplotlib configuration in ~/.matplotlib/. To conform with the XDG base directory standard, this configuration location has been deprecated on Linux, and the new location is now /home/obotvinnik/.config/matplotlib/. Please move your configuration there to ensure that matplotlib will continue to find it in the future.\n",
        "  _get_xdg_config_dir())\n",
        "/home/obotvinnik/anaconda/lib/python2.7/site-packages/flotilla/__init__.py:55: DtypeWarning: Columns (11,19,20) have mixed types. Specify dtype option on import or set low_memory=False.\n",
        "  load_species_data=load_species_data)\n"
       ]
      },
      {
       "output_type": "stream",
       "stream": "stdout",
       "text": [
        "2016-02-23 15:42:47\tReading datapackage from /projects/ps-yeolab/obotvinnik/flotilla_projects/singlecell_pnm_figure2_modalities_bayesian/datapackage.json\n",
        "2016-02-23 15:42:47\tParsing datapackage to create a Study object\n",
        "2016-02-23 15:43:36\tInitializing Study\n"
       ]
      },
      {
       "output_type": "stream",
       "stream": "stdout",
       "text": [
        "2016-02-23 15:43:36\tInitializing Predictor configuration manager for Study\n",
        "2016-02-23 15:43:36\tPredictor ExtraTreesClassifier is of type <class 'sklearn.ensemble.forest.ExtraTreesClassifier'>\n",
        "2016-02-23 15:43:36\tAdded ExtraTreesClassifier to default predictors\n",
        "2016-02-23 15:43:36\tPredictor ExtraTreesRegressor is of type <class 'sklearn.ensemble.forest.ExtraTreesRegressor'>\n",
        "2016-02-23 15:43:36\tAdded ExtraTreesRegressor to default predictors\n",
        "2016-02-23 15:43:36\tPredictor GradientBoostingClassifier is of type <class 'sklearn.ensemble.gradient_boosting.GradientBoostingClassifier'>\n",
        "2016-02-23 15:43:36\tAdded GradientBoostingClassifier to default predictors\n",
        "2016-02-23 15:43:36\tPredictor GradientBoostingRegressor is of type <class 'sklearn.ensemble.gradient_boosting.GradientBoostingRegressor'>\n",
        "2016-02-23 15:43:36\tAdded GradientBoostingRegressor to default predictors\n",
        "2016-02-23 15:43:41\tBuilding Gene Ontology database...\n"
       ]
      },
      {
       "output_type": "stream",
       "stream": "stdout",
       "text": [
        "2016-02-23 15:43:50\t\tDone.\n",
        "2016-02-23 15:43:51\tLoading metadata\n"
       ]
      },
      {
       "output_type": "stream",
       "stream": "stdout",
       "text": [
        "2016-02-23 15:43:51\tLoading expression data\n",
        "2016-02-23 15:43:51\tInitializing expression\n",
        "2016-02-23 15:43:51\tDone initializing expression\n"
       ]
      },
      {
       "output_type": "stream",
       "stream": "stdout",
       "text": [
        "2016-02-23 15:43:53\tLoading splicing data\n",
        "2016-02-23 15:43:53\tInitializing splicing\n",
        "2016-02-23 15:43:53\tDone initializing splicing\n"
       ]
      },
      {
       "output_type": "stream",
       "stream": "stdout",
       "text": [
        "2016-02-23 15:43:53\tSuccessfully initialized a Study object!\n"
       ]
      }
     ],
     "prompt_number": 1
    },
    {
     "cell_type": "code",
     "collapsed": false,
     "input": [
      "folder = '/home/obotvinnik/Dropbox/figures2/singlecell_pnm/figure2_modalities/bayesian'\n",
      "!mkdir $folder\n",
      "\n",
      "figure_folder = '{}/kmer_counting'.format(folder)\n",
      "! mkdir -p $figure_folder"
     ],
     "language": "python",
     "metadata": {},
     "outputs": [
      {
       "output_type": "stream",
       "stream": "stdout",
       "text": [
        "mkdir: cannot create directory `/home/obotvinnik/Dropbox/figures2/singlecell_pnm/figure2_modalities/bayesian': File exists\r\n"
       ]
      }
     ],
     "prompt_number": 2
    },
    {
     "cell_type": "code",
     "collapsed": false,
     "input": [
      "study.supplemental.modalities_tidy.groupby(['phenotype', 'modality']).size()"
     ],
     "language": "python",
     "metadata": {},
     "outputs": [
      {
       "output_type": "pyout",
       "prompt_number": 3,
       "text": [
        "phenotype  modality  \n",
        "MN         ambivalent       1\n",
        "           bimodal        356\n",
        "           excluded       541\n",
        "           included      1553\n",
        "NPC        ambivalent       3\n",
        "           bimodal        751\n",
        "           excluded      1049\n",
        "           included      3029\n",
        "iPSC       ambivalent      31\n",
        "           bimodal       1348\n",
        "           concurrent       1\n",
        "           excluded      1558\n",
        "           included      4632\n",
        "dtype: int64"
       ]
      }
     ],
     "prompt_number": 3
    },
    {
     "cell_type": "markdown",
     "metadata": {},
     "source": [
      "### Make BED files of each modality within each celltype\n",
      "\n",
      "Use the other modalities, within that celltype, as background.\n",
      "\n",
      "  - What properties are unique to events that are bimodal in iPSC, rather than ~0 or ~1?\n",
      "    - Foreground: Bimodal events in iPSC\n",
      "    - Background: All other events in iPSC"
     ]
    },
    {
     "cell_type": "code",
     "collapsed": false,
     "input": [
      "\n",
      "\n",
      "bed_folder = '/projects/ps-yeolab/obotvinnik/singlecell_pnms/figure2_modalities/bayesian'\n",
      "! mkdir $bed_folder\n",
      "import pybedtools"
     ],
     "language": "python",
     "metadata": {},
     "outputs": [
      {
       "output_type": "stream",
       "stream": "stdout",
       "text": [
        "mkdir: cannot create directory `/projects/ps-yeolab/obotvinnik/singlecell_pnms/figure2_modalities/bayesian': File exists\r\n"
       ]
      }
     ],
     "prompt_number": 4
    },
    {
     "cell_type": "code",
     "collapsed": false,
     "input": [
      "import pyhomer"
     ],
     "language": "python",
     "metadata": {},
     "outputs": [],
     "prompt_number": 5
    },
    {
     "cell_type": "code",
     "collapsed": false,
     "input": [
      "all_events = study.supplemental.modalities_tidy.event_id.unique()"
     ],
     "language": "python",
     "metadata": {},
     "outputs": [],
     "prompt_number": 6
    },
    {
     "cell_type": "code",
     "collapsed": false,
     "input": [
      "from outrigger.region import Region\n",
      "\n",
      "exon2s = map(lambda x: x.split('@')[1], all_events)\n",
      "exon2_regions = map(Region, exon2s)\n",
      "exon2_bed_table = pd.DataFrame(map(lambda x: [x.chrom, x._start, x._stop, x.name, 1000, x.strand], exon2_regions))\n",
      "exon2_bed_table[3] = all_events\n",
      "exon2_bed_table.head()"
     ],
     "language": "python",
     "metadata": {},
     "outputs": [
      {
       "html": [
        "<div>\n",
        "<table border=\"1\" class=\"dataframe\">\n",
        "  <thead>\n",
        "    <tr style=\"text-align: right;\">\n",
        "      <th></th>\n",
        "      <th>0</th>\n",
        "      <th>1</th>\n",
        "      <th>2</th>\n",
        "      <th>3</th>\n",
        "      <th>4</th>\n",
        "      <th>5</th>\n",
        "    </tr>\n",
        "  </thead>\n",
        "  <tbody>\n",
        "    <tr>\n",
        "      <th>0</th>\n",
        "      <td>chr10</td>\n",
        "      <td>102116289</td>\n",
        "      <td>102116521</td>\n",
        "      <td>exon:chr10:102114184-102114389:+@exon:chr10:10...</td>\n",
        "      <td>1000</td>\n",
        "      <td>+</td>\n",
        "    </tr>\n",
        "    <tr>\n",
        "      <th>1</th>\n",
        "      <td>chr10</td>\n",
        "      <td>102286156</td>\n",
        "      <td>102286311</td>\n",
        "      <td>exon:chr10:102286732-102286831:-@exon:chr10:10...</td>\n",
        "      <td>1000</td>\n",
        "      <td>-</td>\n",
        "    </tr>\n",
        "    <tr>\n",
        "      <th>2</th>\n",
        "      <td>chr10</td>\n",
        "      <td>103364897</td>\n",
        "      <td>103364969</td>\n",
        "      <td>exon:chr10:103360960-103361093:+@exon:chr10:10...</td>\n",
        "      <td>1000</td>\n",
        "      <td>+</td>\n",
        "    </tr>\n",
        "    <tr>\n",
        "      <th>3</th>\n",
        "      <td>chr10</td>\n",
        "      <td>103559999</td>\n",
        "      <td>103560157</td>\n",
        "      <td>exon:chr10:103563492-103563776:-@exon:chr10:10...</td>\n",
        "      <td>1000</td>\n",
        "      <td>-</td>\n",
        "    </tr>\n",
        "    <tr>\n",
        "      <th>4</th>\n",
        "      <td>chr10</td>\n",
        "      <td>103565802</td>\n",
        "      <td>103565900</td>\n",
        "      <td>exon:chr10:103567487-103567658:-@exon:chr10:10...</td>\n",
        "      <td>1000</td>\n",
        "      <td>-</td>\n",
        "    </tr>\n",
        "  </tbody>\n",
        "</table>\n",
        "</div>"
       ],
       "output_type": "pyout",
       "prompt_number": 7,
       "text": [
        "       0          1          2  \\\n",
        "0  chr10  102116289  102116521   \n",
        "1  chr10  102286156  102286311   \n",
        "2  chr10  103364897  103364969   \n",
        "3  chr10  103559999  103560157   \n",
        "4  chr10  103565802  103565900   \n",
        "\n",
        "                                                   3     4  5  \n",
        "0  exon:chr10:102114184-102114389:+@exon:chr10:10...  1000  +  \n",
        "1  exon:chr10:102286732-102286831:-@exon:chr10:10...  1000  -  \n",
        "2  exon:chr10:103360960-103361093:+@exon:chr10:10...  1000  +  \n",
        "3  exon:chr10:103563492-103563776:-@exon:chr10:10...  1000  -  \n",
        "4  exon:chr10:103567487-103567658:-@exon:chr10:10...  1000  -  "
       ]
      }
     ],
     "prompt_number": 7
    },
    {
     "cell_type": "code",
     "collapsed": false,
     "input": [
      "exon2_bed_table = exon2_bed_table.sort_values(by=3)\n",
      "exon2_bed_table.head()"
     ],
     "language": "python",
     "metadata": {},
     "outputs": [
      {
       "html": [
        "<div>\n",
        "<table border=\"1\" class=\"dataframe\">\n",
        "  <thead>\n",
        "    <tr style=\"text-align: right;\">\n",
        "      <th></th>\n",
        "      <th>0</th>\n",
        "      <th>1</th>\n",
        "      <th>2</th>\n",
        "      <th>3</th>\n",
        "      <th>4</th>\n",
        "      <th>5</th>\n",
        "    </tr>\n",
        "  </thead>\n",
        "  <tbody>\n",
        "    <tr>\n",
        "      <th>5031</th>\n",
        "      <td>chr10</td>\n",
        "      <td>101163481</td>\n",
        "      <td>101163631</td>\n",
        "      <td>exon:chr10:101165513-101165617:-@exon:chr10:10...</td>\n",
        "      <td>1000</td>\n",
        "      <td>-</td>\n",
        "    </tr>\n",
        "    <tr>\n",
        "      <th>5032</th>\n",
        "      <td>chr10</td>\n",
        "      <td>101478103</td>\n",
        "      <td>101478257</td>\n",
        "      <td>exon:chr10:101480744-101480825:-@exon:chr10:10...</td>\n",
        "      <td>1000</td>\n",
        "      <td>-</td>\n",
        "    </tr>\n",
        "    <tr>\n",
        "      <th>5033</th>\n",
        "      <td>chr10</td>\n",
        "      <td>101510126</td>\n",
        "      <td>101510153</td>\n",
        "      <td>exon:chr10:101507014-101507147:+@exon:chr10:10...</td>\n",
        "      <td>1000</td>\n",
        "      <td>+</td>\n",
        "    </tr>\n",
        "    <tr>\n",
        "      <th>5034</th>\n",
        "      <td>chr10</td>\n",
        "      <td>101996607</td>\n",
        "      <td>101996726</td>\n",
        "      <td>exon:chr10:101997779-101997988:-@exon:chr10:10...</td>\n",
        "      <td>1000</td>\n",
        "      <td>-</td>\n",
        "    </tr>\n",
        "    <tr>\n",
        "      <th>5035</th>\n",
        "      <td>chr10</td>\n",
        "      <td>101997779</td>\n",
        "      <td>101997988</td>\n",
        "      <td>exon:chr10:102003455-102003534:-@exon:chr10:10...</td>\n",
        "      <td>1000</td>\n",
        "      <td>-</td>\n",
        "    </tr>\n",
        "  </tbody>\n",
        "</table>\n",
        "</div>"
       ],
       "output_type": "pyout",
       "prompt_number": 8,
       "text": [
        "          0          1          2  \\\n",
        "5031  chr10  101163481  101163631   \n",
        "5032  chr10  101478103  101478257   \n",
        "5033  chr10  101510126  101510153   \n",
        "5034  chr10  101996607  101996726   \n",
        "5035  chr10  101997779  101997988   \n",
        "\n",
        "                                                      3     4  5  \n",
        "5031  exon:chr10:101165513-101165617:-@exon:chr10:10...  1000  -  \n",
        "5032  exon:chr10:101480744-101480825:-@exon:chr10:10...  1000  -  \n",
        "5033  exon:chr10:101507014-101507147:+@exon:chr10:10...  1000  +  \n",
        "5034  exon:chr10:101997779-101997988:-@exon:chr10:10...  1000  -  \n",
        "5035  exon:chr10:102003455-102003534:-@exon:chr10:10...  1000  -  "
       ]
      }
     ],
     "prompt_number": 8
    },
    {
     "cell_type": "code",
     "collapsed": true,
     "input": [
      "exon2_bed_table.to_csv('{}/background_events.bed'.format(bed_folder), index=False, header=False, sep='\\t')"
     ],
     "language": "python",
     "metadata": {},
     "outputs": [],
     "prompt_number": 9
    },
    {
     "cell_type": "code",
     "collapsed": false,
     "input": [
      "from Bio import SeqIO\n",
      "import kvector\n",
      "import pybedtools\n",
      "\n",
      "DIRECTIONS = 'upstream', 'downstream'\n",
      "\n",
      "\n",
      "\n",
      "DIR = '/projects/ps-yeolab/obotvinnik/singlecell_pnms'\n",
      "\n",
      "exon_bedfile = '{}/background_events.bed'.format(bed_folder)\n",
      "exon_bed = pybedtools.BedTool(exon_bedfile)\n",
      "\n",
      "commands = []\n",
      "\n",
      "findMotifsGenome = '/home/yeo-lab/software/homer/bin/findMotifsGenome.pl'\n",
      "n_processors = 4\n",
      "homer_flags = '-rna -len 4,5,6 -mset vertebrates -mis 0 -p {} -noweight'.format(n_processors)\n",
      "\n",
      "\n",
      "primate_filename = '/projects/ps-yeolab/genomes/hg19/database/phastConsElements46wayPrimates.bed'\n",
      "primate = pybedtools.BedTool(primate_filename)\n",
      "placental_filename = '/projects/ps-yeolab/genomes/hg19/database/phastConsElements46wayPlacental.bed'\n",
      "placental = pybedtools.BedTool(placental_filename)\n",
      "conserved_regions = {'primate': primate, 'placental': placental}\n",
      "\n",
      "conservation_bed = placental\n",
      "\n",
      "genome = 'hg19'\n",
      "\n",
      "nt = 400\n",
      "\n",
      "\n",
      "genome_fasta = '/projects/ps-yeolab/genomes/hg19/chromosomes/all.fa'\n",
      "\n",
      "kmer_zscores = []\n",
      "\n",
      "for phenotype, phenotype_df in study.supplemental.modalities_tidy.groupby('phenotype'):\n",
      "    background_events = set(phenotype_df.event_id)\n",
      "    for modality, modality_df in phenotype_df.groupby('modality'):\n",
      "        print '---\\n', phenotype, modality\n",
      "        event_ids = set(modality_df.event_id)\n",
      "        format_args = bed_folder, phenotype, modality\n",
      "        foreground_table = exon2_bed_table.loc[exon2_bed_table[3].isin(event_ids)]\n",
      "        foreground_filename = '{}/exon2_{}_{}_foreground.bed'.format(*format_args)\n",
      "        foreground_table.to_csv(foreground_filename, index=False, header=False, sep='\\t')\n",
      "        foreground = pybedtools.BedTool(foreground_filename)\n",
      "        \n",
      "        \n",
      "        background_table = exon2_bed_table.loc[exon2_bed_table[3].isin(background_events)]\n",
      "        background_filename = '{}/exon2_{}_{}_background.bed'.format(*format_args)\n",
      "        background_table.to_csv(background_filename, index=False, header=False, sep='\\t')\n",
      "        background = pybedtools.BedTool(background_filename)\n",
      "        \n",
      "        \n",
      "        pair = pyhomer.ForegroundBackgroundPair(foreground, background)\n",
      "#         print '\\n', pair \n",
      "        \n",
      "        for direction in DIRECTIONS:\n",
      "            print '\\n\\t', direction\n",
      "            intron_pair = pair.flanking_intron(direction, 'hg19', 400)\n",
      "\n",
      "            conserved_introns = intron_pair.intersect(conservation_bed, 'placental')\n",
      "#             print '\\n', conserved_introns\n",
      "            %time seqs = conserved_introns.foreground.sequence(fi=genome_fasta, s=True)\n",
      "            %time foreground_kmers = kvector.count_kmers(seqs.seqfn)\n",
      "\n",
      "            %time seqs = conserved_introns.background.sequence(fi=genome_fasta, s=True)\n",
      "            %time background_kmers = kvector.count_kmers(seqs.seqfn)\n",
      "            kmer_zscore = (foreground_kmers.mean() - background_kmers.mean())/background_kmers.std()\n",
      "            kmer_zscore.name = '{}{}nt_{}_{}_placental'.format(direction, nt, phenotype, modality)\n",
      "            kmer_zscores.append(kmer_zscore)\n",
      "kmer_zscores_all = pd.concat(kmer_zscores, axis=1)\n",
      "kmer_zscores_all.head()"
     ],
     "language": "python",
     "metadata": {
      "scrolled": false
     },
     "outputs": [
      {
       "output_type": "stream",
       "stream": "stdout",
       "text": [
        "---\n",
        "MN ambivalent\n",
        "\n",
        "\t"
       ]
      },
      {
       "output_type": "stream",
       "stream": "stdout",
       "text": [
        "upstream\n",
        "CPU times: user 1 ms, sys: 11 ms, total: 12 ms"
       ]
      },
      {
       "output_type": "stream",
       "stream": "stdout",
       "text": [
        "\n",
        "Wall time: 35.1 ms\n",
        "CPU times: user 398 ms, sys: 7 ms, total: 405 ms"
       ]
      },
      {
       "output_type": "stream",
       "stream": "stdout",
       "text": [
        "\n",
        "Wall time: 426 ms\n",
        "CPU times: user 0 ns, sys: 12 ms, total: 12 ms"
       ]
      },
      {
       "output_type": "stream",
       "stream": "stdout",
       "text": [
        "\n",
        "Wall time: 10.2 s\n",
        "CPU times: user 2min 58s, sys: 1.39 s, total: 2min 59s"
       ]
      },
      {
       "output_type": "stream",
       "stream": "stdout",
       "text": [
        "\n",
        "Wall time: 2min 59s\n",
        "\n",
        "\t"
       ]
      },
      {
       "output_type": "stream",
       "stream": "stdout",
       "text": [
        "downstream\n",
        "CPU times: user 1 ms, sys: 11 ms, total: 12 ms"
       ]
      },
      {
       "output_type": "stream",
       "stream": "stdout",
       "text": [
        "\n",
        "Wall time: 31.8 ms\n",
        "CPU times: user 441 ms, sys: 1 ms, total: 442 ms"
       ]
      },
      {
       "output_type": "stream",
       "stream": "stdout",
       "text": [
        "\n",
        "Wall time: 442 ms\n",
        "CPU times: user 2 ms, sys: 10 ms, total: 12 ms"
       ]
      },
      {
       "output_type": "stream",
       "stream": "stdout",
       "text": [
        "\n",
        "Wall time: 1.15 s\n",
        "CPU times: user 2min 53s, sys: 2.75 s, total: 2min 56s"
       ]
      },
      {
       "output_type": "stream",
       "stream": "stdout",
       "text": [
        "\n",
        "Wall time: 2min 57s\n",
        "---\n"
       ]
      },
      {
       "output_type": "stream",
       "stream": "stdout",
       "text": [
        "MN bimodal\n",
        "\n",
        "\tupstream\n",
        "CPU times: user 0 ns, sys: 13 ms, total: 13 ms"
       ]
      },
      {
       "output_type": "stream",
       "stream": "stdout",
       "text": [
        "\n",
        "Wall time: 38.3 ms\n",
        "CPU times: user 39.3 s, sys: 11 ms, total: 39.3 s"
       ]
      },
      {
       "output_type": "stream",
       "stream": "stdout",
       "text": [
        "\n",
        "Wall time: 39.3 s\n",
        "CPU times: user 2 ms, sys: 10 ms, total: 12 ms"
       ]
      },
      {
       "output_type": "stream",
       "stream": "stdout",
       "text": [
        "\n",
        "Wall time: 90.9 ms\n",
        "CPU times: user 2min 58s, sys: 979 ms, total: 2min 59s"
       ]
      },
      {
       "output_type": "stream",
       "stream": "stdout",
       "text": [
        "\n",
        "Wall time: 2min 59s\n",
        "\n",
        "\t"
       ]
      },
      {
       "output_type": "stream",
       "stream": "stdout",
       "text": [
        "downstream\n",
        "CPU times: user 1e+03 \u00b5s, sys: 13 ms, total: 14 ms"
       ]
      },
      {
       "output_type": "stream",
       "stream": "stdout",
       "text": [
        "\n",
        "Wall time: 47.1 ms\n",
        "CPU times: user 34.5 s, sys: 6 ms, total: 34.5 s"
       ]
      },
      {
       "output_type": "stream",
       "stream": "stdout",
       "text": [
        "\n",
        "Wall time: 34.6 s\n",
        "CPU times: user 1e+03 \u00b5s, sys: 12 ms, total: 13 ms"
       ]
      },
      {
       "output_type": "stream",
       "stream": "stdout",
       "text": [
        "\n",
        "Wall time: 95.2 ms\n",
        "CPU times: user 2min 53s, sys: 3.12 s, total: 2min 56s"
       ]
      },
      {
       "output_type": "stream",
       "stream": "stdout",
       "text": [
        "\n",
        "Wall time: 2min 59s\n",
        "---\n"
       ]
      },
      {
       "output_type": "stream",
       "stream": "stdout",
       "text": [
        "MN excluded\n",
        "\n",
        "\t"
       ]
      },
      {
       "output_type": "stream",
       "stream": "stdout",
       "text": [
        "upstream\n",
        "CPU times: user 2 ms, sys: 11 ms, total: 13 ms"
       ]
      },
      {
       "output_type": "stream",
       "stream": "stdout",
       "text": [
        "\n",
        "Wall time: 43.3 ms\n",
        "CPU times: user 42.5 s, sys: 79 ms, total: 42.6 s"
       ]
      },
      {
       "output_type": "stream",
       "stream": "stdout",
       "text": [
        "\n",
        "Wall time: 42.6 s\n",
        "CPU times: user 2 ms, sys: 10 ms, total: 12 ms"
       ]
      },
      {
       "output_type": "stream",
       "stream": "stdout",
       "text": [
        "\n",
        "Wall time: 96.6 ms\n",
        "CPU times: user 2min 58s, sys: 3.76 s, total: 3min 2s"
       ]
      },
      {
       "output_type": "stream",
       "stream": "stdout",
       "text": [
        "\n",
        "Wall time: 3min 4s\n",
        "\n",
        "\t"
       ]
      },
      {
       "output_type": "stream",
       "stream": "stdout",
       "text": [
        "downstream\n",
        "CPU times: user 1e+03 \u00b5s, sys: 11 ms, total: 12 ms"
       ]
      },
      {
       "output_type": "stream",
       "stream": "stdout",
       "text": [
        "\n",
        "Wall time: 39.1 ms\n",
        "CPU times: user 37.3 s, sys: 166 ms, total: 37.5 s"
       ]
      },
      {
       "output_type": "stream",
       "stream": "stdout",
       "text": [
        "\n",
        "Wall time: 37.6 s\n",
        "CPU times: user 1e+03 \u00b5s, sys: 11 ms, total: 12 ms"
       ]
      },
      {
       "output_type": "stream",
       "stream": "stdout",
       "text": [
        "\n",
        "Wall time: 107 ms\n",
        "CPU times: user 2min 53s, sys: 3.12 s, total: 2min 57s"
       ]
      },
      {
       "output_type": "stream",
       "stream": "stdout",
       "text": [
        "\n",
        "Wall time: 2min 58s\n",
        "---\n"
       ]
      },
      {
       "output_type": "stream",
       "stream": "stdout",
       "text": [
        "MN included\n",
        "\n",
        "\t"
       ]
      },
      {
       "output_type": "stream",
       "stream": "stdout",
       "text": [
        "upstream\n",
        "CPU times: user 2 ms, sys: 10 ms, total: 12 ms"
       ]
      },
      {
       "output_type": "stream",
       "stream": "stdout",
       "text": [
        "\n",
        "Wall time: 73.8 ms\n",
        "CPU times: user 1min 35s, sys: 34 ms, total: 1min 35s"
       ]
      },
      {
       "output_type": "stream",
       "stream": "stdout",
       "text": [
        "\n",
        "Wall time: 1min 35s\n",
        "CPU times: user 1e+03 \u00b5s, sys: 11 ms, total: 12 ms"
       ]
      },
      {
       "output_type": "stream",
       "stream": "stdout",
       "text": [
        "\n",
        "Wall time: 99.8 ms\n",
        "CPU times: user 2min 57s, sys: 73 ms, total: 2min 57s"
       ]
      },
      {
       "output_type": "stream",
       "stream": "stdout",
       "text": [
        "\n",
        "Wall time: 2min 57s\n",
        "\n",
        "\t"
       ]
      },
      {
       "output_type": "stream",
       "stream": "stdout",
       "text": [
        "downstream\n",
        "CPU times: user 999 \u00b5s, sys: 11 ms, total: 12 ms"
       ]
      },
      {
       "output_type": "stream",
       "stream": "stdout",
       "text": [
        "\n",
        "Wall time: 70 ms\n",
        "CPU times: user 1min 40s, sys: 447 ms, total: 1min 41s"
       ]
      },
      {
       "output_type": "stream",
       "stream": "stdout",
       "text": [
        "\n",
        "Wall time: 1min 41s\n",
        "CPU times: user 2 ms, sys: 11 ms, total: 13 ms"
       ]
      },
      {
       "output_type": "stream",
       "stream": "stdout",
       "text": [
        "\n",
        "Wall time: 93.5 ms\n",
        "CPU times: user 2min 52s, sys: 61 ms, total: 2min 52s"
       ]
      },
      {
       "output_type": "stream",
       "stream": "stdout",
       "text": [
        "\n",
        "Wall time: 2min 53s\n",
        "---\n"
       ]
      },
      {
       "output_type": "stream",
       "stream": "stdout",
       "text": [
        "NPC ambivalent\n",
        "\n",
        "\tupstream\n",
        "CPU times: user 1e+03 \u00b5s, sys: 12 ms, total: 13 ms"
       ]
      },
      {
       "output_type": "stream",
       "stream": "stdout",
       "text": [
        "\n",
        "Wall time: 28.9 ms\n",
        "CPU times: user 255 ms, sys: 0 ns, total: 255 ms"
       ]
      },
      {
       "output_type": "stream",
       "stream": "stdout",
       "text": [
        "\n",
        "Wall time: 255 ms\n",
        "CPU times: user 3 ms, sys: 11 ms, total: 14 ms"
       ]
      },
      {
       "output_type": "stream",
       "stream": "stdout",
       "text": [
        "\n",
        "Wall time: 14.1 s\n",
        "CPU times: user 5min 19s, sys: 947 ms, total: 5min 20s"
       ]
      },
      {
       "output_type": "stream",
       "stream": "stdout",
       "text": [
        "\n",
        "Wall time: 5min 21s\n",
        "\n",
        "\t"
       ]
      },
      {
       "output_type": "stream",
       "stream": "stdout",
       "text": [
        "downstream\n",
        "CPU times: user 1 ms, sys: 13 ms, total: 14 ms"
       ]
      },
      {
       "output_type": "stream",
       "stream": "stdout",
       "text": [
        "\n",
        "Wall time: 38.4 ms\n",
        "CPU times: user 489 ms, sys: 16 ms, total: 505 ms"
       ]
      },
      {
       "output_type": "stream",
       "stream": "stdout",
       "text": [
        "\n",
        "Wall time: 506 ms\n",
        "CPU times: user 3 ms, sys: 11 ms, total: 14 ms"
       ]
      },
      {
       "output_type": "stream",
       "stream": "stdout",
       "text": [
        "\n",
        "Wall time: 870 ms\n",
        "CPU times: user 5min 20s, sys: 1.4 s, total: 5min 21s"
       ]
      },
      {
       "output_type": "stream",
       "stream": "stdout",
       "text": [
        "\n",
        "Wall time: 5min 22s\n",
        "---\n"
       ]
      },
      {
       "output_type": "stream",
       "stream": "stdout",
       "text": [
        "NPC bimodal\n",
        "\n",
        "\t"
       ]
      },
      {
       "output_type": "stream",
       "stream": "stdout",
       "text": [
        "upstream\n",
        "CPU times: user 1 ms, sys: 12 ms, total: 13 ms"
       ]
      },
      {
       "output_type": "stream",
       "stream": "stdout",
       "text": [
        "\n",
        "Wall time: 48.8 ms\n",
        "CPU times: user 1min 10s, sys: 25 ms, total: 1min 10s"
       ]
      },
      {
       "output_type": "stream",
       "stream": "stdout",
       "text": [
        "\n",
        "Wall time: 1min 10s\n",
        "CPU times: user 1e+03 \u00b5s, sys: 11 ms, total: 12 ms"
       ]
      },
      {
       "output_type": "stream",
       "stream": "stdout",
       "text": [
        "\n",
        "Wall time: 165 ms\n",
        "CPU times: user 5min 19s, sys: 2.54 s, total: 5min 21s"
       ]
      },
      {
       "output_type": "stream",
       "stream": "stdout",
       "text": [
        "\n",
        "Wall time: 5min 23s\n",
        "\n",
        "\t"
       ]
      },
      {
       "output_type": "stream",
       "stream": "stdout",
       "text": [
        "downstream\n",
        "CPU times: user 0 ns, sys: 12 ms, total: 12 ms"
       ]
      },
      {
       "output_type": "stream",
       "stream": "stdout",
       "text": [
        "\n",
        "Wall time: 50.3 ms\n",
        "CPU times: user 1min 11s, sys: 486 ms, total: 1min 12s"
       ]
      },
      {
       "output_type": "stream",
       "stream": "stdout",
       "text": [
        "\n",
        "Wall time: 1min 12s\n",
        "CPU times: user 2 ms, sys: 11 ms, total: 13 ms"
       ]
      },
      {
       "output_type": "stream",
       "stream": "stdout",
       "text": [
        "\n",
        "Wall time: 169 ms\n",
        "CPU times: user 5min 17s, sys: 108 ms, total: 5min 17s"
       ]
      },
      {
       "output_type": "stream",
       "stream": "stdout",
       "text": [
        "\n",
        "Wall time: 5min 17s\n",
        "---\n"
       ]
      },
      {
       "output_type": "stream",
       "stream": "stdout",
       "text": [
        "NPC excluded\n",
        "\n",
        "\t"
       ]
      },
      {
       "output_type": "stream",
       "stream": "stdout",
       "text": [
        "upstream\n",
        "CPU times: user 1e+03 \u00b5s, sys: 13 ms, total: 14 ms"
       ]
      },
      {
       "output_type": "stream",
       "stream": "stdout",
       "text": [
        "\n",
        "Wall time: 48.2 ms\n",
        "CPU times: user 1min 14s, sys: 4 ms, total: 1min 14s"
       ]
      },
      {
       "output_type": "stream",
       "stream": "stdout",
       "text": [
        "\n",
        "Wall time: 1min 14s\n",
        "CPU times: user 1e+03 \u00b5s, sys: 12 ms, total: 13 ms"
       ]
      },
      {
       "output_type": "stream",
       "stream": "stdout",
       "text": [
        "\n",
        "Wall time: 158 ms\n",
        "CPU times: user 5min 19s, sys: 916 ms, total: 5min 20s"
       ]
      },
      {
       "output_type": "stream",
       "stream": "stdout",
       "text": [
        "\n",
        "Wall time: 5min 20s\n",
        "\n",
        "\t"
       ]
      },
      {
       "output_type": "stream",
       "stream": "stdout",
       "text": [
        "downstream\n",
        "CPU times: user 1 ms, sys: 12 ms, total: 13 ms"
       ]
      },
      {
       "output_type": "stream",
       "stream": "stdout",
       "text": [
        "\n",
        "Wall time: 47.2 ms\n",
        "CPU times: user 1min 9s, sys: 315 ms, total: 1min 9s"
       ]
      },
      {
       "output_type": "stream",
       "stream": "stdout",
       "text": [
        "\n",
        "Wall time: 1min 9s\n",
        "CPU times: user 3 ms, sys: 10 ms, total: 13 ms"
       ]
      },
      {
       "output_type": "stream",
       "stream": "stdout",
       "text": [
        "\n",
        "Wall time: 155 ms\n",
        "CPU times: user 5min 18s, sys: 1.27 s, total: 5min 19s"
       ]
      },
      {
       "output_type": "stream",
       "stream": "stdout",
       "text": [
        "\n",
        "Wall time: 5min 20s\n",
        "---\n"
       ]
      },
      {
       "output_type": "stream",
       "stream": "stdout",
       "text": [
        "NPC included\n",
        "\n",
        "\t"
       ]
      },
      {
       "output_type": "stream",
       "stream": "stdout",
       "text": [
        "upstream\n",
        "CPU times: user 1 ms, sys: 12 ms, total: 13 ms"
       ]
      },
      {
       "output_type": "stream",
       "stream": "stdout",
       "text": [
        "\n",
        "Wall time: 108 ms\n",
        "CPU times: user 2min 56s, sys: 321 ms, total: 2min 56s"
       ]
      },
      {
       "output_type": "stream",
       "stream": "stdout",
       "text": [
        "\n",
        "Wall time: 2min 57s\n",
        "CPU times: user 0 ns, sys: 13 ms, total: 13 ms"
       ]
      },
      {
       "output_type": "stream",
       "stream": "stdout",
       "text": [
        "\n",
        "Wall time: 158 ms\n",
        "CPU times: user 5min 18s, sys: 777 ms, total: 5min 19s"
       ]
      },
      {
       "output_type": "stream",
       "stream": "stdout",
       "text": [
        "\n",
        "Wall time: 5min 19s\n",
        "\n",
        "\t"
       ]
      },
      {
       "output_type": "stream",
       "stream": "stdout",
       "text": [
        "downstream\n",
        "CPU times: user 0 ns, sys: 12 ms, total: 12 ms"
       ]
      },
      {
       "output_type": "stream",
       "stream": "stdout",
       "text": [
        "\n",
        "Wall time: 111 ms\n",
        "CPU times: user 2min 58s, sys: 79 ms, total: 2min 58s"
       ]
      },
      {
       "output_type": "stream",
       "stream": "stdout",
       "text": [
        "\n",
        "Wall time: 2min 58s\n",
        "CPU times: user 3 ms, sys: 10 ms, total: 13 ms"
       ]
      },
      {
       "output_type": "stream",
       "stream": "stdout",
       "text": [
        "\n",
        "Wall time: 196 ms\n",
        "CPU times: user 5min 17s, sys: 2.68 s, total: 5min 20s"
       ]
      },
      {
       "output_type": "stream",
       "stream": "stdout",
       "text": [
        "\n",
        "Wall time: 5min 22s\n",
        "---\n"
       ]
      },
      {
       "output_type": "stream",
       "stream": "stdout",
       "text": [
        "iPSC ambivalent\n",
        "\n",
        "\t"
       ]
      },
      {
       "output_type": "stream",
       "stream": "stdout",
       "text": [
        "upstream\n",
        "CPU times: user 0 ns, sys: 13 ms, total: 13 ms"
       ]
      },
      {
       "output_type": "stream",
       "stream": "stdout",
       "text": [
        "\n",
        "Wall time: 29.4 ms\n",
        "CPU times: user 5.34 s, sys: 24 ms, total: 5.37 s"
       ]
      },
      {
       "output_type": "stream",
       "stream": "stdout",
       "text": [
        "\n",
        "Wall time: 5.37 s\n",
        "CPU times: user 2 ms, sys: 12 ms, total: 14 ms"
       ]
      },
      {
       "output_type": "stream",
       "stream": "stdout",
       "text": [
        "\n",
        "Wall time: 9.55 s\n",
        "CPU times: user 7min 49s, sys: 3.34 s, total: 7min 53s"
       ]
      },
      {
       "output_type": "stream",
       "stream": "stdout",
       "text": [
        "\n",
        "Wall time: 7min 54s\n",
        "\n",
        "\t"
       ]
      },
      {
       "output_type": "stream",
       "stream": "stdout",
       "text": [
        "downstream\n",
        "CPU times: user 1 ms, sys: 11 ms, total: 12 ms"
       ]
      },
      {
       "output_type": "stream",
       "stream": "stdout",
       "text": [
        "\n",
        "Wall time: 31 ms\n",
        "CPU times: user 5.85 s, sys: 19 ms, total: 5.87 s"
       ]
      },
      {
       "output_type": "stream",
       "stream": "stdout",
       "text": [
        "\n",
        "Wall time: 5.88 s\n",
        "CPU times: user 2 ms, sys: 11 ms, total: 13 ms"
       ]
      },
      {
       "output_type": "stream",
       "stream": "stdout",
       "text": [
        "\n",
        "Wall time: 666 ms\n",
        "CPU times: user 7min 53s, sys: 5.98 s, total: 7min 59s"
       ]
      },
      {
       "output_type": "stream",
       "stream": "stdout",
       "text": [
        "\n",
        "Wall time: 8min 2s\n",
        "---\n"
       ]
      },
      {
       "output_type": "stream",
       "stream": "stdout",
       "text": [
        "iPSC bimodal\n",
        "\n",
        "\t"
       ]
      },
      {
       "output_type": "stream",
       "stream": "stdout",
       "text": [
        "upstream\n",
        "CPU times: user 0 ns, sys: 15 ms, total: 15 ms"
       ]
      },
      {
       "output_type": "stream",
       "stream": "stdout",
       "text": [
        "\n",
        "Wall time: 65.5 ms\n",
        "CPU times: user 1min 46s, sys: 1.19 s, total: 1min 47s"
       ]
      },
      {
       "output_type": "stream",
       "stream": "stdout",
       "text": [
        "\n",
        "Wall time: 1min 48s\n",
        "CPU times: user 1 ms, sys: 15 ms, total: 16 ms"
       ]
      },
      {
       "output_type": "stream",
       "stream": "stdout",
       "text": [
        "\n",
        "Wall time: 283 ms\n",
        "CPU times: user 7min 49s, sys: 3.9 s, total: 7min 53s"
       ]
      },
      {
       "output_type": "stream",
       "stream": "stdout",
       "text": [
        "\n",
        "Wall time: 7min 55s\n",
        "\n",
        "\t"
       ]
      },
      {
       "output_type": "stream",
       "stream": "stdout",
       "text": [
        "downstream\n",
        "CPU times: user 1 ms, sys: 12 ms, total: 13 ms"
       ]
      },
      {
       "output_type": "stream",
       "stream": "stdout",
       "text": [
        "\n",
        "Wall time: 70.2 ms\n",
        "CPU times: user 1min 38s, sys: 41 ms, total: 1min 38s"
       ]
      },
      {
       "output_type": "stream",
       "stream": "stdout",
       "text": [
        "\n",
        "Wall time: 1min 38s\n",
        "CPU times: user 2 ms, sys: 11 ms, total: 13 ms"
       ]
      },
      {
       "output_type": "stream",
       "stream": "stdout",
       "text": [
        "\n",
        "Wall time: 221 ms\n",
        "CPU times: user 7min 51s, sys: 2.5 s, total: 7min 53s"
       ]
      },
      {
       "output_type": "stream",
       "stream": "stdout",
       "text": [
        "\n",
        "Wall time: 7min 55s\n",
        "---\n"
       ]
      },
      {
       "output_type": "stream",
       "stream": "stdout",
       "text": [
        "iPSC concurrent\n",
        "\n",
        "\t"
       ]
      },
      {
       "output_type": "stream",
       "stream": "stdout",
       "text": [
        "upstream\n",
        "CPU times: user 1 ms, sys: 13 ms, total: 14 ms"
       ]
      },
      {
       "output_type": "stream",
       "stream": "stdout",
       "text": [
        "\n",
        "Wall time: 30.8 ms\n",
        "CPU times: user 92 ms, sys: 999 \u00b5s, total: 93 ms"
       ]
      },
      {
       "output_type": "stream",
       "stream": "stdout",
       "text": [
        "\n",
        "Wall time: 93.2 ms\n",
        "CPU times: user 1e+03 \u00b5s, sys: 13 ms, total: 14 ms"
       ]
      },
      {
       "output_type": "stream",
       "stream": "stdout",
       "text": [
        "\n",
        "Wall time: 208 ms\n",
        "CPU times: user 7min 48s, sys: 1.39 s, total: 7min 49s"
       ]
      },
      {
       "output_type": "stream",
       "stream": "stdout",
       "text": [
        "\n",
        "Wall time: 7min 50s\n",
        "\n",
        "\t"
       ]
      },
      {
       "output_type": "stream",
       "stream": "stdout",
       "text": [
        "downstream\n",
        "CPU times: user 2 ms, sys: 12 ms, total: 14 ms"
       ]
      },
      {
       "output_type": "stream",
       "stream": "stdout",
       "text": [
        "\n",
        "Wall time: 31.3 ms\n",
        "CPU times: user 128 ms, sys: 1e+03 \u00b5s, total: 129 ms"
       ]
      },
      {
       "output_type": "stream",
       "stream": "stdout",
       "text": [
        "\n",
        "Wall time: 130 ms\n",
        "CPU times: user 1 ms, sys: 13 ms, total: 14 ms"
       ]
      },
      {
       "output_type": "stream",
       "stream": "stdout",
       "text": [
        "\n",
        "Wall time: 211 ms\n",
        "CPU times: user 7min 51s, sys: 2.68 s, total: 7min 54s"
       ]
      },
      {
       "output_type": "stream",
       "stream": "stdout",
       "text": [
        "\n",
        "Wall time: 7min 55s\n",
        "---\n"
       ]
      },
      {
       "output_type": "stream",
       "stream": "stdout",
       "text": [
        "iPSC excluded\n",
        "\n",
        "\t"
       ]
      },
      {
       "output_type": "stream",
       "stream": "stdout",
       "text": [
        "upstream\n",
        "CPU times: user 2 ms, sys: 12 ms, total: 14 ms"
       ]
      },
      {
       "output_type": "stream",
       "stream": "stdout",
       "text": [
        "\n",
        "Wall time: 61.7 ms\n",
        "CPU times: user 1min 54s, sys: 349 ms, total: 1min 54s"
       ]
      },
      {
       "output_type": "stream",
       "stream": "stdout",
       "text": [
        "\n",
        "Wall time: 1min 54s\n",
        "CPU times: user 3 ms, sys: 11 ms, total: 14 ms"
       ]
      },
      {
       "output_type": "stream",
       "stream": "stdout",
       "text": [
        "\n",
        "Wall time: 230 ms\n",
        "CPU times: user 7min 51s, sys: 5.67 s, total: 7min 56s"
       ]
      },
      {
       "output_type": "stream",
       "stream": "stdout",
       "text": [
        "\n",
        "Wall time: 7min 59s\n",
        "\n",
        "\t"
       ]
      },
      {
       "output_type": "stream",
       "stream": "stdout",
       "text": [
        "downstream\n",
        "CPU times: user 1 ms, sys: 13 ms, total: 14 ms"
       ]
      },
      {
       "output_type": "stream",
       "stream": "stdout",
       "text": [
        "\n",
        "Wall time: 59.2 ms\n",
        "CPU times: user 1min 51s, sys: 37 ms, total: 1min 51s"
       ]
      },
      {
       "output_type": "stream",
       "stream": "stdout",
       "text": [
        "\n",
        "Wall time: 1min 51s\n",
        "CPU times: user 2 ms, sys: 12 ms, total: 14 ms"
       ]
      },
      {
       "output_type": "stream",
       "stream": "stdout",
       "text": [
        "\n",
        "Wall time: 217 ms\n",
        "CPU times: user 7min 52s, sys: 4.44 s, total: 7min 57s"
       ]
      },
      {
       "output_type": "stream",
       "stream": "stdout",
       "text": [
        "\n",
        "Wall time: 8min\n",
        "---\n"
       ]
      },
      {
       "output_type": "stream",
       "stream": "stdout",
       "text": [
        "iPSC included\n",
        "\n",
        "\t"
       ]
      },
      {
       "output_type": "stream",
       "stream": "stdout",
       "text": [
        "upstream\n",
        "CPU times: user 1 ms, sys: 11 ms, total: 12 ms"
       ]
      },
      {
       "output_type": "stream",
       "stream": "stdout",
       "text": [
        "\n",
        "Wall time: 144 ms\n",
        "CPU times: user 4min 4s, sys: 387 ms, total: 4min 4s"
       ]
      },
      {
       "output_type": "stream",
       "stream": "stdout",
       "text": [
        "\n",
        "Wall time: 4min 4s\n",
        "CPU times: user 1 ms, sys: 13 ms, total: 14 ms"
       ]
      },
      {
       "output_type": "stream",
       "stream": "stdout",
       "text": [
        "\n",
        "Wall time: 243 ms\n",
        "CPU times: user 7min 49s, sys: 1.31 s, total: 7min 50s"
       ]
      },
      {
       "output_type": "stream",
       "stream": "stdout",
       "text": [
        "\n",
        "Wall time: 7min 51s\n",
        "\n",
        "\t"
       ]
      },
      {
       "output_type": "stream",
       "stream": "stdout",
       "text": [
        "downstream\n",
        "CPU times: user 2 ms, sys: 12 ms, total: 14 ms"
       ]
      },
      {
       "output_type": "stream",
       "stream": "stdout",
       "text": [
        "\n",
        "Wall time: 155 ms\n",
        "CPU times: user 4min 17s, sys: 2.66 s, total: 4min 19s"
       ]
      },
      {
       "output_type": "stream",
       "stream": "stdout",
       "text": [
        "\n",
        "Wall time: 4min 21s\n",
        "CPU times: user 1 ms, sys: 13 ms, total: 14 ms"
       ]
      },
      {
       "output_type": "stream",
       "stream": "stdout",
       "text": [
        "\n",
        "Wall time: 213 ms\n",
        "CPU times: user 7min 52s, sys: 1.05 s, total: 7min 53s"
       ]
      },
      {
       "output_type": "stream",
       "stream": "stdout",
       "text": [
        "\n",
        "Wall time: 7min 54s\n"
       ]
      },
      {
       "html": [
        "<div>\n",
        "<table border=\"1\" class=\"dataframe\">\n",
        "  <thead>\n",
        "    <tr style=\"text-align: right;\">\n",
        "      <th></th>\n",
        "      <th>upstream400nt_MN_ambivalent_placental</th>\n",
        "      <th>downstream400nt_MN_ambivalent_placental</th>\n",
        "      <th>upstream400nt_MN_bimodal_placental</th>\n",
        "      <th>downstream400nt_MN_bimodal_placental</th>\n",
        "      <th>upstream400nt_MN_excluded_placental</th>\n",
        "      <th>downstream400nt_MN_excluded_placental</th>\n",
        "      <th>upstream400nt_MN_included_placental</th>\n",
        "      <th>downstream400nt_MN_included_placental</th>\n",
        "      <th>upstream400nt_NPC_ambivalent_placental</th>\n",
        "      <th>downstream400nt_NPC_ambivalent_placental</th>\n",
        "      <th>...</th>\n",
        "      <th>upstream400nt_iPSC_ambivalent_placental</th>\n",
        "      <th>downstream400nt_iPSC_ambivalent_placental</th>\n",
        "      <th>upstream400nt_iPSC_bimodal_placental</th>\n",
        "      <th>downstream400nt_iPSC_bimodal_placental</th>\n",
        "      <th>upstream400nt_iPSC_concurrent_placental</th>\n",
        "      <th>downstream400nt_iPSC_concurrent_placental</th>\n",
        "      <th>upstream400nt_iPSC_excluded_placental</th>\n",
        "      <th>downstream400nt_iPSC_excluded_placental</th>\n",
        "      <th>upstream400nt_iPSC_included_placental</th>\n",
        "      <th>downstream400nt_iPSC_included_placental</th>\n",
        "    </tr>\n",
        "  </thead>\n",
        "  <tbody>\n",
        "    <tr>\n",
        "      <th>AAAA</th>\n",
        "      <td>0.489545</td>\n",
        "      <td>-0.236406</td>\n",
        "      <td>0.204280</td>\n",
        "      <td>0.128076</td>\n",
        "      <td>0.181630</td>\n",
        "      <td>0.106291</td>\n",
        "      <td>-0.086277</td>\n",
        "      <td>-0.053046</td>\n",
        "      <td>0.043527</td>\n",
        "      <td>1.012095</td>\n",
        "      <td>...</td>\n",
        "      <td>0.251261</td>\n",
        "      <td>0.476465</td>\n",
        "      <td>0.089640</td>\n",
        "      <td>0.021999</td>\n",
        "      <td>0.265499</td>\n",
        "      <td>-0.243739</td>\n",
        "      <td>0.186107</td>\n",
        "      <td>0.164391</td>\n",
        "      <td>-0.072578</td>\n",
        "      <td>-0.050104</td>\n",
        "    </tr>\n",
        "    <tr>\n",
        "      <th>AAAC</th>\n",
        "      <td>-0.247072</td>\n",
        "      <td>-0.239855</td>\n",
        "      <td>0.177264</td>\n",
        "      <td>0.042725</td>\n",
        "      <td>0.178739</td>\n",
        "      <td>0.152397</td>\n",
        "      <td>-0.078822</td>\n",
        "      <td>-0.044437</td>\n",
        "      <td>0.332311</td>\n",
        "      <td>0.302981</td>\n",
        "      <td>...</td>\n",
        "      <td>0.313133</td>\n",
        "      <td>0.113274</td>\n",
        "      <td>0.052135</td>\n",
        "      <td>0.005388</td>\n",
        "      <td>-0.237672</td>\n",
        "      <td>-0.234780</td>\n",
        "      <td>0.162938</td>\n",
        "      <td>0.170825</td>\n",
        "      <td>-0.056465</td>\n",
        "      <td>-0.042953</td>\n",
        "    </tr>\n",
        "    <tr>\n",
        "      <th>AAAG</th>\n",
        "      <td>0.274411</td>\n",
        "      <td>-0.063248</td>\n",
        "      <td>0.122519</td>\n",
        "      <td>0.075607</td>\n",
        "      <td>0.194019</td>\n",
        "      <td>0.104546</td>\n",
        "      <td>-0.071031</td>\n",
        "      <td>-0.041272</td>\n",
        "      <td>0.163492</td>\n",
        "      <td>2.193816</td>\n",
        "      <td>...</td>\n",
        "      <td>0.348537</td>\n",
        "      <td>0.271058</td>\n",
        "      <td>0.032222</td>\n",
        "      <td>0.006604</td>\n",
        "      <td>0.501144</td>\n",
        "      <td>-0.289255</td>\n",
        "      <td>0.183641</td>\n",
        "      <td>0.155779</td>\n",
        "      <td>-0.056134</td>\n",
        "      <td>-0.041388</td>\n",
        "    </tr>\n",
        "    <tr>\n",
        "      <th>AAAT</th>\n",
        "      <td>-0.300357</td>\n",
        "      <td>-0.302370</td>\n",
        "      <td>0.209059</td>\n",
        "      <td>0.146095</td>\n",
        "      <td>0.284080</td>\n",
        "      <td>0.151942</td>\n",
        "      <td>-0.109580</td>\n",
        "      <td>-0.067557</td>\n",
        "      <td>0.443403</td>\n",
        "      <td>1.091756</td>\n",
        "      <td>...</td>\n",
        "      <td>0.320445</td>\n",
        "      <td>0.489074</td>\n",
        "      <td>0.121255</td>\n",
        "      <td>0.035159</td>\n",
        "      <td>0.338326</td>\n",
        "      <td>-0.293312</td>\n",
        "      <td>0.225613</td>\n",
        "      <td>0.199506</td>\n",
        "      <td>-0.091791</td>\n",
        "      <td>-0.062336</td>\n",
        "    </tr>\n",
        "    <tr>\n",
        "      <th>AACA</th>\n",
        "      <td>-0.284725</td>\n",
        "      <td>-0.260475</td>\n",
        "      <td>0.133238</td>\n",
        "      <td>0.002742</td>\n",
        "      <td>0.123122</td>\n",
        "      <td>0.180591</td>\n",
        "      <td>-0.056575</td>\n",
        "      <td>-0.041883</td>\n",
        "      <td>0.814693</td>\n",
        "      <td>0.779935</td>\n",
        "      <td>...</td>\n",
        "      <td>0.260694</td>\n",
        "      <td>0.228592</td>\n",
        "      <td>0.052793</td>\n",
        "      <td>-0.020971</td>\n",
        "      <td>-0.256342</td>\n",
        "      <td>-0.246222</td>\n",
        "      <td>0.114197</td>\n",
        "      <td>0.183231</td>\n",
        "      <td>-0.044622</td>\n",
        "      <td>-0.039402</td>\n",
        "    </tr>\n",
        "  </tbody>\n",
        "</table>\n",
        "<p>5 rows \u00d7 26 columns</p>\n",
        "</div>"
       ],
       "output_type": "pyout",
       "prompt_number": 10,
       "text": [
        "      upstream400nt_MN_ambivalent_placental  \\\n",
        "AAAA                               0.489545   \n",
        "AAAC                              -0.247072   \n",
        "AAAG                               0.274411   \n",
        "AAAT                              -0.300357   \n",
        "AACA                              -0.284725   \n",
        "\n",
        "      downstream400nt_MN_ambivalent_placental  \\\n",
        "AAAA                                -0.236406   \n",
        "AAAC                                -0.239855   \n",
        "AAAG                                -0.063248   \n",
        "AAAT                                -0.302370   \n",
        "AACA                                -0.260475   \n",
        "\n",
        "      upstream400nt_MN_bimodal_placental  \\\n",
        "AAAA                            0.204280   \n",
        "AAAC                            0.177264   \n",
        "AAAG                            0.122519   \n",
        "AAAT                            0.209059   \n",
        "AACA                            0.133238   \n",
        "\n",
        "      downstream400nt_MN_bimodal_placental  \\\n",
        "AAAA                              0.128076   \n",
        "AAAC                              0.042725   \n",
        "AAAG                              0.075607   \n",
        "AAAT                              0.146095   \n",
        "AACA                              0.002742   \n",
        "\n",
        "      upstream400nt_MN_excluded_placental  \\\n",
        "AAAA                             0.181630   \n",
        "AAAC                             0.178739   \n",
        "AAAG                             0.194019   \n",
        "AAAT                             0.284080   \n",
        "AACA                             0.123122   \n",
        "\n",
        "      downstream400nt_MN_excluded_placental  \\\n",
        "AAAA                               0.106291   \n",
        "AAAC                               0.152397   \n",
        "AAAG                               0.104546   \n",
        "AAAT                               0.151942   \n",
        "AACA                               0.180591   \n",
        "\n",
        "      upstream400nt_MN_included_placental  \\\n",
        "AAAA                            -0.086277   \n",
        "AAAC                            -0.078822   \n",
        "AAAG                            -0.071031   \n",
        "AAAT                            -0.109580   \n",
        "AACA                            -0.056575   \n",
        "\n",
        "      downstream400nt_MN_included_placental  \\\n",
        "AAAA                              -0.053046   \n",
        "AAAC                              -0.044437   \n",
        "AAAG                              -0.041272   \n",
        "AAAT                              -0.067557   \n",
        "AACA                              -0.041883   \n",
        "\n",
        "      upstream400nt_NPC_ambivalent_placental  \\\n",
        "AAAA                                0.043527   \n",
        "AAAC                                0.332311   \n",
        "AAAG                                0.163492   \n",
        "AAAT                                0.443403   \n",
        "AACA                                0.814693   \n",
        "\n",
        "      downstream400nt_NPC_ambivalent_placental  \\\n",
        "AAAA                                  1.012095   \n",
        "AAAC                                  0.302981   \n",
        "AAAG                                  2.193816   \n",
        "AAAT                                  1.091756   \n",
        "AACA                                  0.779935   \n",
        "\n",
        "                       ...                     \\\n",
        "AAAA                   ...                      \n",
        "AAAC                   ...                      \n",
        "AAAG                   ...                      \n",
        "AAAT                   ...                      \n",
        "AACA                   ...                      \n",
        "\n",
        "      upstream400nt_iPSC_ambivalent_placental  \\\n",
        "AAAA                                 0.251261   \n",
        "AAAC                                 0.313133   \n",
        "AAAG                                 0.348537   \n",
        "AAAT                                 0.320445   \n",
        "AACA                                 0.260694   \n",
        "\n",
        "      downstream400nt_iPSC_ambivalent_placental  \\\n",
        "AAAA                                   0.476465   \n",
        "AAAC                                   0.113274   \n",
        "AAAG                                   0.271058   \n",
        "AAAT                                   0.489074   \n",
        "AACA                                   0.228592   \n",
        "\n",
        "      upstream400nt_iPSC_bimodal_placental  \\\n",
        "AAAA                              0.089640   \n",
        "AAAC                              0.052135   \n",
        "AAAG                              0.032222   \n",
        "AAAT                              0.121255   \n",
        "AACA                              0.052793   \n",
        "\n",
        "      downstream400nt_iPSC_bimodal_placental  \\\n",
        "AAAA                                0.021999   \n",
        "AAAC                                0.005388   \n",
        "AAAG                                0.006604   \n",
        "AAAT                                0.035159   \n",
        "AACA                               -0.020971   \n",
        "\n",
        "      upstream400nt_iPSC_concurrent_placental  \\\n",
        "AAAA                                 0.265499   \n",
        "AAAC                                -0.237672   \n",
        "AAAG                                 0.501144   \n",
        "AAAT                                 0.338326   \n",
        "AACA                                -0.256342   \n",
        "\n",
        "      downstream400nt_iPSC_concurrent_placental  \\\n",
        "AAAA                                  -0.243739   \n",
        "AAAC                                  -0.234780   \n",
        "AAAG                                  -0.289255   \n",
        "AAAT                                  -0.293312   \n",
        "AACA                                  -0.246222   \n",
        "\n",
        "      upstream400nt_iPSC_excluded_placental  \\\n",
        "AAAA                               0.186107   \n",
        "AAAC                               0.162938   \n",
        "AAAG                               0.183641   \n",
        "AAAT                               0.225613   \n",
        "AACA                               0.114197   \n",
        "\n",
        "      downstream400nt_iPSC_excluded_placental  \\\n",
        "AAAA                                 0.164391   \n",
        "AAAC                                 0.170825   \n",
        "AAAG                                 0.155779   \n",
        "AAAT                                 0.199506   \n",
        "AACA                                 0.183231   \n",
        "\n",
        "      upstream400nt_iPSC_included_placental  \\\n",
        "AAAA                              -0.072578   \n",
        "AAAC                              -0.056465   \n",
        "AAAG                              -0.056134   \n",
        "AAAT                              -0.091791   \n",
        "AACA                              -0.044622   \n",
        "\n",
        "      downstream400nt_iPSC_included_placental  \n",
        "AAAA                                -0.050104  \n",
        "AAAC                                -0.042953  \n",
        "AAAG                                -0.041388  \n",
        "AAAT                                -0.062336  \n",
        "AACA                                -0.039402  \n",
        "\n",
        "[5 rows x 26 columns]"
       ]
      }
     ],
     "prompt_number": 10
    },
    {
     "cell_type": "code",
     "collapsed": false,
     "input": [
      "kmer_zscores_all = pd.concat(kmer_zscores, axis=1)\n",
      "print kmer_zscores_all.shape\n",
      "kmer_zscores_all = kmer_zscores_all.dropna(axis=1, how='all').dropna(how='all', axis=0)\n",
      "print kmer_zscores_all.shape\n",
      "\n",
      "# Replace remaining NAs with zero since they aren't enriched\n",
      "kmer_zscores_all = kmer_zscores_all.fillna(0)\n",
      "kmer_zscores_all.head()"
     ],
     "language": "python",
     "metadata": {},
     "outputs": [
      {
       "output_type": "stream",
       "stream": "stdout",
       "text": [
        "(5376, 26)\n",
        "(5376, 26)\n"
       ]
      },
      {
       "html": [
        "<div>\n",
        "<table border=\"1\" class=\"dataframe\">\n",
        "  <thead>\n",
        "    <tr style=\"text-align: right;\">\n",
        "      <th></th>\n",
        "      <th>upstream400nt_MN_ambivalent_placental</th>\n",
        "      <th>downstream400nt_MN_ambivalent_placental</th>\n",
        "      <th>upstream400nt_MN_bimodal_placental</th>\n",
        "      <th>downstream400nt_MN_bimodal_placental</th>\n",
        "      <th>upstream400nt_MN_excluded_placental</th>\n",
        "      <th>downstream400nt_MN_excluded_placental</th>\n",
        "      <th>upstream400nt_MN_included_placental</th>\n",
        "      <th>downstream400nt_MN_included_placental</th>\n",
        "      <th>upstream400nt_NPC_ambivalent_placental</th>\n",
        "      <th>downstream400nt_NPC_ambivalent_placental</th>\n",
        "      <th>...</th>\n",
        "      <th>upstream400nt_iPSC_ambivalent_placental</th>\n",
        "      <th>downstream400nt_iPSC_ambivalent_placental</th>\n",
        "      <th>upstream400nt_iPSC_bimodal_placental</th>\n",
        "      <th>downstream400nt_iPSC_bimodal_placental</th>\n",
        "      <th>upstream400nt_iPSC_concurrent_placental</th>\n",
        "      <th>downstream400nt_iPSC_concurrent_placental</th>\n",
        "      <th>upstream400nt_iPSC_excluded_placental</th>\n",
        "      <th>downstream400nt_iPSC_excluded_placental</th>\n",
        "      <th>upstream400nt_iPSC_included_placental</th>\n",
        "      <th>downstream400nt_iPSC_included_placental</th>\n",
        "    </tr>\n",
        "  </thead>\n",
        "  <tbody>\n",
        "    <tr>\n",
        "      <th>AAAA</th>\n",
        "      <td>0.489545</td>\n",
        "      <td>-0.236406</td>\n",
        "      <td>0.204280</td>\n",
        "      <td>0.128076</td>\n",
        "      <td>0.181630</td>\n",
        "      <td>0.106291</td>\n",
        "      <td>-0.086277</td>\n",
        "      <td>-0.053046</td>\n",
        "      <td>0.043527</td>\n",
        "      <td>1.012095</td>\n",
        "      <td>...</td>\n",
        "      <td>0.251261</td>\n",
        "      <td>0.476465</td>\n",
        "      <td>0.089640</td>\n",
        "      <td>0.021999</td>\n",
        "      <td>0.265499</td>\n",
        "      <td>-0.243739</td>\n",
        "      <td>0.186107</td>\n",
        "      <td>0.164391</td>\n",
        "      <td>-0.072578</td>\n",
        "      <td>-0.050104</td>\n",
        "    </tr>\n",
        "    <tr>\n",
        "      <th>AAAC</th>\n",
        "      <td>-0.247072</td>\n",
        "      <td>-0.239855</td>\n",
        "      <td>0.177264</td>\n",
        "      <td>0.042725</td>\n",
        "      <td>0.178739</td>\n",
        "      <td>0.152397</td>\n",
        "      <td>-0.078822</td>\n",
        "      <td>-0.044437</td>\n",
        "      <td>0.332311</td>\n",
        "      <td>0.302981</td>\n",
        "      <td>...</td>\n",
        "      <td>0.313133</td>\n",
        "      <td>0.113274</td>\n",
        "      <td>0.052135</td>\n",
        "      <td>0.005388</td>\n",
        "      <td>-0.237672</td>\n",
        "      <td>-0.234780</td>\n",
        "      <td>0.162938</td>\n",
        "      <td>0.170825</td>\n",
        "      <td>-0.056465</td>\n",
        "      <td>-0.042953</td>\n",
        "    </tr>\n",
        "    <tr>\n",
        "      <th>AAAG</th>\n",
        "      <td>0.274411</td>\n",
        "      <td>-0.063248</td>\n",
        "      <td>0.122519</td>\n",
        "      <td>0.075607</td>\n",
        "      <td>0.194019</td>\n",
        "      <td>0.104546</td>\n",
        "      <td>-0.071031</td>\n",
        "      <td>-0.041272</td>\n",
        "      <td>0.163492</td>\n",
        "      <td>2.193816</td>\n",
        "      <td>...</td>\n",
        "      <td>0.348537</td>\n",
        "      <td>0.271058</td>\n",
        "      <td>0.032222</td>\n",
        "      <td>0.006604</td>\n",
        "      <td>0.501144</td>\n",
        "      <td>-0.289255</td>\n",
        "      <td>0.183641</td>\n",
        "      <td>0.155779</td>\n",
        "      <td>-0.056134</td>\n",
        "      <td>-0.041388</td>\n",
        "    </tr>\n",
        "    <tr>\n",
        "      <th>AAAT</th>\n",
        "      <td>-0.300357</td>\n",
        "      <td>-0.302370</td>\n",
        "      <td>0.209059</td>\n",
        "      <td>0.146095</td>\n",
        "      <td>0.284080</td>\n",
        "      <td>0.151942</td>\n",
        "      <td>-0.109580</td>\n",
        "      <td>-0.067557</td>\n",
        "      <td>0.443403</td>\n",
        "      <td>1.091756</td>\n",
        "      <td>...</td>\n",
        "      <td>0.320445</td>\n",
        "      <td>0.489074</td>\n",
        "      <td>0.121255</td>\n",
        "      <td>0.035159</td>\n",
        "      <td>0.338326</td>\n",
        "      <td>-0.293312</td>\n",
        "      <td>0.225613</td>\n",
        "      <td>0.199506</td>\n",
        "      <td>-0.091791</td>\n",
        "      <td>-0.062336</td>\n",
        "    </tr>\n",
        "    <tr>\n",
        "      <th>AACA</th>\n",
        "      <td>-0.284725</td>\n",
        "      <td>-0.260475</td>\n",
        "      <td>0.133238</td>\n",
        "      <td>0.002742</td>\n",
        "      <td>0.123122</td>\n",
        "      <td>0.180591</td>\n",
        "      <td>-0.056575</td>\n",
        "      <td>-0.041883</td>\n",
        "      <td>0.814693</td>\n",
        "      <td>0.779935</td>\n",
        "      <td>...</td>\n",
        "      <td>0.260694</td>\n",
        "      <td>0.228592</td>\n",
        "      <td>0.052793</td>\n",
        "      <td>-0.020971</td>\n",
        "      <td>-0.256342</td>\n",
        "      <td>-0.246222</td>\n",
        "      <td>0.114197</td>\n",
        "      <td>0.183231</td>\n",
        "      <td>-0.044622</td>\n",
        "      <td>-0.039402</td>\n",
        "    </tr>\n",
        "  </tbody>\n",
        "</table>\n",
        "<p>5 rows \u00d7 26 columns</p>\n",
        "</div>"
       ],
       "output_type": "pyout",
       "prompt_number": 11,
       "text": [
        "      upstream400nt_MN_ambivalent_placental  \\\n",
        "AAAA                               0.489545   \n",
        "AAAC                              -0.247072   \n",
        "AAAG                               0.274411   \n",
        "AAAT                              -0.300357   \n",
        "AACA                              -0.284725   \n",
        "\n",
        "      downstream400nt_MN_ambivalent_placental  \\\n",
        "AAAA                                -0.236406   \n",
        "AAAC                                -0.239855   \n",
        "AAAG                                -0.063248   \n",
        "AAAT                                -0.302370   \n",
        "AACA                                -0.260475   \n",
        "\n",
        "      upstream400nt_MN_bimodal_placental  \\\n",
        "AAAA                            0.204280   \n",
        "AAAC                            0.177264   \n",
        "AAAG                            0.122519   \n",
        "AAAT                            0.209059   \n",
        "AACA                            0.133238   \n",
        "\n",
        "      downstream400nt_MN_bimodal_placental  \\\n",
        "AAAA                              0.128076   \n",
        "AAAC                              0.042725   \n",
        "AAAG                              0.075607   \n",
        "AAAT                              0.146095   \n",
        "AACA                              0.002742   \n",
        "\n",
        "      upstream400nt_MN_excluded_placental  \\\n",
        "AAAA                             0.181630   \n",
        "AAAC                             0.178739   \n",
        "AAAG                             0.194019   \n",
        "AAAT                             0.284080   \n",
        "AACA                             0.123122   \n",
        "\n",
        "      downstream400nt_MN_excluded_placental  \\\n",
        "AAAA                               0.106291   \n",
        "AAAC                               0.152397   \n",
        "AAAG                               0.104546   \n",
        "AAAT                               0.151942   \n",
        "AACA                               0.180591   \n",
        "\n",
        "      upstream400nt_MN_included_placental  \\\n",
        "AAAA                            -0.086277   \n",
        "AAAC                            -0.078822   \n",
        "AAAG                            -0.071031   \n",
        "AAAT                            -0.109580   \n",
        "AACA                            -0.056575   \n",
        "\n",
        "      downstream400nt_MN_included_placental  \\\n",
        "AAAA                              -0.053046   \n",
        "AAAC                              -0.044437   \n",
        "AAAG                              -0.041272   \n",
        "AAAT                              -0.067557   \n",
        "AACA                              -0.041883   \n",
        "\n",
        "      upstream400nt_NPC_ambivalent_placental  \\\n",
        "AAAA                                0.043527   \n",
        "AAAC                                0.332311   \n",
        "AAAG                                0.163492   \n",
        "AAAT                                0.443403   \n",
        "AACA                                0.814693   \n",
        "\n",
        "      downstream400nt_NPC_ambivalent_placental  \\\n",
        "AAAA                                  1.012095   \n",
        "AAAC                                  0.302981   \n",
        "AAAG                                  2.193816   \n",
        "AAAT                                  1.091756   \n",
        "AACA                                  0.779935   \n",
        "\n",
        "                       ...                     \\\n",
        "AAAA                   ...                      \n",
        "AAAC                   ...                      \n",
        "AAAG                   ...                      \n",
        "AAAT                   ...                      \n",
        "AACA                   ...                      \n",
        "\n",
        "      upstream400nt_iPSC_ambivalent_placental  \\\n",
        "AAAA                                 0.251261   \n",
        "AAAC                                 0.313133   \n",
        "AAAG                                 0.348537   \n",
        "AAAT                                 0.320445   \n",
        "AACA                                 0.260694   \n",
        "\n",
        "      downstream400nt_iPSC_ambivalent_placental  \\\n",
        "AAAA                                   0.476465   \n",
        "AAAC                                   0.113274   \n",
        "AAAG                                   0.271058   \n",
        "AAAT                                   0.489074   \n",
        "AACA                                   0.228592   \n",
        "\n",
        "      upstream400nt_iPSC_bimodal_placental  \\\n",
        "AAAA                              0.089640   \n",
        "AAAC                              0.052135   \n",
        "AAAG                              0.032222   \n",
        "AAAT                              0.121255   \n",
        "AACA                              0.052793   \n",
        "\n",
        "      downstream400nt_iPSC_bimodal_placental  \\\n",
        "AAAA                                0.021999   \n",
        "AAAC                                0.005388   \n",
        "AAAG                                0.006604   \n",
        "AAAT                                0.035159   \n",
        "AACA                               -0.020971   \n",
        "\n",
        "      upstream400nt_iPSC_concurrent_placental  \\\n",
        "AAAA                                 0.265499   \n",
        "AAAC                                -0.237672   \n",
        "AAAG                                 0.501144   \n",
        "AAAT                                 0.338326   \n",
        "AACA                                -0.256342   \n",
        "\n",
        "      downstream400nt_iPSC_concurrent_placental  \\\n",
        "AAAA                                  -0.243739   \n",
        "AAAC                                  -0.234780   \n",
        "AAAG                                  -0.289255   \n",
        "AAAT                                  -0.293312   \n",
        "AACA                                  -0.246222   \n",
        "\n",
        "      upstream400nt_iPSC_excluded_placental  \\\n",
        "AAAA                               0.186107   \n",
        "AAAC                               0.162938   \n",
        "AAAG                               0.183641   \n",
        "AAAT                               0.225613   \n",
        "AACA                               0.114197   \n",
        "\n",
        "      downstream400nt_iPSC_excluded_placental  \\\n",
        "AAAA                                 0.164391   \n",
        "AAAC                                 0.170825   \n",
        "AAAG                                 0.155779   \n",
        "AAAT                                 0.199506   \n",
        "AACA                                 0.183231   \n",
        "\n",
        "      upstream400nt_iPSC_included_placental  \\\n",
        "AAAA                              -0.072578   \n",
        "AAAC                              -0.056465   \n",
        "AAAG                              -0.056134   \n",
        "AAAT                              -0.091791   \n",
        "AACA                              -0.044622   \n",
        "\n",
        "      downstream400nt_iPSC_included_placental  \n",
        "AAAA                                -0.050104  \n",
        "AAAC                                -0.042953  \n",
        "AAAG                                -0.041388  \n",
        "AAAT                                -0.062336  \n",
        "AACA                                -0.039402  \n",
        "\n",
        "[5 rows x 26 columns]"
       ]
      }
     ],
     "prompt_number": 11
    },
    {
     "cell_type": "code",
     "collapsed": true,
     "input": [
      "study.supplemental.kmer_zscores = kmer_zscores_all"
     ],
     "language": "python",
     "metadata": {},
     "outputs": [],
     "prompt_number": 12
    },
    {
     "cell_type": "code",
     "collapsed": false,
     "input": [
      "kmer_zscores_metadata = pd.DataFrame.from_records(\n",
      "    study.supplemental.kmer_zscores.columns.map(lambda x: pd.Series(x.split('_'))), \n",
      "    index=study.supplemental.kmer_zscores.columns)\n",
      "kmer_zscores_metadata.columns = ['direction', 'phenotype', 'modality', 'clade']\n",
      "study.supplemental.kmer_zscores_metadata = kmer_zscores_metadata\n",
      "\n",
      "kmer_zscores_metadata.head()"
     ],
     "language": "python",
     "metadata": {},
     "outputs": [
      {
       "html": [
        "<div>\n",
        "<table border=\"1\" class=\"dataframe\">\n",
        "  <thead>\n",
        "    <tr style=\"text-align: right;\">\n",
        "      <th></th>\n",
        "      <th>direction</th>\n",
        "      <th>phenotype</th>\n",
        "      <th>modality</th>\n",
        "      <th>clade</th>\n",
        "    </tr>\n",
        "  </thead>\n",
        "  <tbody>\n",
        "    <tr>\n",
        "      <th>upstream400nt_MN_ambivalent_placental</th>\n",
        "      <td>upstream400nt</td>\n",
        "      <td>MN</td>\n",
        "      <td>ambivalent</td>\n",
        "      <td>placental</td>\n",
        "    </tr>\n",
        "    <tr>\n",
        "      <th>downstream400nt_MN_ambivalent_placental</th>\n",
        "      <td>downstream400nt</td>\n",
        "      <td>MN</td>\n",
        "      <td>ambivalent</td>\n",
        "      <td>placental</td>\n",
        "    </tr>\n",
        "    <tr>\n",
        "      <th>upstream400nt_MN_bimodal_placental</th>\n",
        "      <td>upstream400nt</td>\n",
        "      <td>MN</td>\n",
        "      <td>bimodal</td>\n",
        "      <td>placental</td>\n",
        "    </tr>\n",
        "    <tr>\n",
        "      <th>downstream400nt_MN_bimodal_placental</th>\n",
        "      <td>downstream400nt</td>\n",
        "      <td>MN</td>\n",
        "      <td>bimodal</td>\n",
        "      <td>placental</td>\n",
        "    </tr>\n",
        "    <tr>\n",
        "      <th>upstream400nt_MN_excluded_placental</th>\n",
        "      <td>upstream400nt</td>\n",
        "      <td>MN</td>\n",
        "      <td>excluded</td>\n",
        "      <td>placental</td>\n",
        "    </tr>\n",
        "  </tbody>\n",
        "</table>\n",
        "</div>"
       ],
       "output_type": "pyout",
       "prompt_number": 13,
       "text": [
        "                                               direction phenotype  \\\n",
        "upstream400nt_MN_ambivalent_placental      upstream400nt        MN   \n",
        "downstream400nt_MN_ambivalent_placental  downstream400nt        MN   \n",
        "upstream400nt_MN_bimodal_placental         upstream400nt        MN   \n",
        "downstream400nt_MN_bimodal_placental     downstream400nt        MN   \n",
        "upstream400nt_MN_excluded_placental        upstream400nt        MN   \n",
        "\n",
        "                                           modality      clade  \n",
        "upstream400nt_MN_ambivalent_placental    ambivalent  placental  \n",
        "downstream400nt_MN_ambivalent_placental  ambivalent  placental  \n",
        "upstream400nt_MN_bimodal_placental          bimodal  placental  \n",
        "downstream400nt_MN_bimodal_placental        bimodal  placental  \n",
        "upstream400nt_MN_excluded_placental        excluded  placental  "
       ]
      }
     ],
     "prompt_number": 13
    },
    {
     "cell_type": "code",
     "collapsed": false,
     "input": [
      "study.save('singlecell_pnm_figure2_modalities_bayesian_kmers', flotilla_dir=flotilla_dir)"
     ],
     "language": "python",
     "metadata": {},
     "outputs": [
      {
       "output_type": "stream",
       "stream": "stdout",
       "text": [
        "Wrote datapackage to /projects/ps-yeolab/obotvinnik/flotilla_projects/singlecell_pnm_figure2_modalities_bayesian_kmers/datapackage.json\n"
       ]
      }
     ],
     "prompt_number": 14
    }
   ],
   "metadata": {}
  }
 ]
}