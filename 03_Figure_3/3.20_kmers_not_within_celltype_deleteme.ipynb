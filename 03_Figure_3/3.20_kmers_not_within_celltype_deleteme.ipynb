{
 "cells": [
  {
   "cell_type": "code",
   "execution_count": 1,
   "metadata": {
    "collapsed": false
   },
   "outputs": [
    {
     "name": "stderr",
     "output_type": "stream",
     "text": [
      "/home/obotvinnik/anaconda/lib/python2.7/site-packages/matplotlib/__init__.py:810: UserWarning: Found matplotlib configuration in ~/.matplotlib/. To conform with the XDG base directory standard, this configuration location has been deprecated on Linux, and the new location is now /home/obotvinnik/.config/matplotlib/. Please move your configuration there to ensure that matplotlib will continue to find it in the future.\n",
      "  _get_xdg_config_dir())\n",
      "/home/obotvinnik/anaconda/lib/python2.7/site-packages/flotilla/__init__.py:65: DtypeWarning: Columns (19) have mixed types. Specify dtype option on import or set low_memory=False.\n",
      "  load_species_data=load_species_data)\n"
     ]
    },
    {
     "name": "stdout",
     "output_type": "stream",
     "text": [
      "2016-05-27 14:41:29\tReading datapackage from /projects/ps-yeolab/obotvinnik/flotilla_projects/singlecell_pnm_figure2_modalities_bayesian/datapackage.json\n",
      "2016-05-27 14:41:29\tParsing datapackage to create a Study object\n",
      "2016-05-27 14:42:15 \tInitializing Study\n",
      "2016-05-27 14:42:15 \tInitializing Predictor configuration manager for Study\n",
      "2016-05-27 14:42:15\tPredictor ExtraTreesClassifier is of type <class 'sklearn.ensemble.forest.ExtraTreesClassifier'>\n",
      "2016-05-27 14:42:15\tAdded ExtraTreesClassifier to default predictors\n",
      "2016-05-27 14:42:15\tPredictor ExtraTreesRegressor is of type <class 'sklearn.ensemble.forest.ExtraTreesRegressor'>\n",
      "2016-05-27 14:42:15\tAdded ExtraTreesRegressor to default predictors\n",
      "2016-05-27 14:42:15\tPredictor GradientBoostingClassifier is of type <class 'sklearn.ensemble.gradient_boosting.GradientBoostingClassifier'>\n",
      "2016-05-27 14:42:15\tAdded GradientBoostingClassifier to default predictors\n",
      "2016-05-27 14:42:15\tPredictor GradientBoostingRegressor is of type <class 'sklearn.ensemble.gradient_boosting.GradientBoostingRegressor'>\n",
      "2016-05-27 14:42:15\tAdded GradientBoostingRegressor to default predictors\n",
      "2016-05-27 14:42:20 \tBuilding Gene Ontology database...\n",
      "2016-05-27 14:42:30 \t\tDone\n",
      "2016-05-27 14:42:30 \tLoading metadata\n",
      "2016-05-27 14:42:30\tLoading expression data\n",
      "2016-05-27 14:42:30\tInitializing expression\n",
      "2016-05-27 14:42:31\tDone initializing expression\n",
      "2016-05-27 14:42:33\tLoading splicing data\n",
      "2016-05-27 14:42:33\tInitializing splicing\n",
      "2016-05-27 14:42:33\tDone initializing splicing\n",
      "2016-05-27 14:42:33\tSuccessfully initialized a Study object!\n"
     ]
    }
   ],
   "source": [
    "import six\n",
    "\n",
    "import matplotlib.pyplot as plt\n",
    "import seaborn as sns\n",
    "import numpy as np\n",
    "import pandas as pd\n",
    "\n",
    "from anchor.visualize import MODALITY_TO_COLOR, MODALITY_ORDER, MODALITY_PALETTE\n",
    "modality_order = MODALITY_ORDER\n",
    "\n",
    "sns.set(style='ticks', context='talk', rc={'font.sans-serif':'Arial', 'pdf.fonttype': 42})\n",
    "\n",
    "%matplotlib inline\n",
    "\n",
    "%load_ext autoreload\n",
    "%autoreload 2\n",
    "\n",
    "folder = 'figures' #'/home/obotvinnik/Dropbox/figures2/singlecell_pnm/figure4_voyages'\n",
    "\n",
    "import flotilla\n",
    "study = flotilla.embark('singlecell_pnm_figure2_modalities_bayesian', \n",
    "                        flotilla_dir='/projects/ps-yeolab/obotvinnik/flotilla_projects/')\n",
    "# study = flotilla.embark('singlecell_pnm_figure1_supplementary_post_splicing_filtering')"
   ]
  },
  {
   "cell_type": "code",
   "execution_count": 2,
   "metadata": {
    "collapsed": false
   },
   "outputs": [
    {
     "name": "stdout",
     "output_type": "stream",
     "text": [
      "The autoreload extension is already loaded. To reload it, use:\n",
      "  %reload_ext autoreload\n"
     ]
    }
   ],
   "source": [
    "import pandas as pd\n",
    "\n",
    "%load_ext autoreload\n",
    "%autoreload 2\n",
    "\n",
    "folder = '/projects/ps-yeolab/obotvinnik/singlecell_pnms'\n",
    "csv_folder = '{}/csvs_for_paper'.format(folder)\n",
    "bed_folder = '{}/bed'.format(folder)\n",
    "# folder2 = '/projects/ps-yeolab2/obotvinnik/singlecell_pnm'\n",
    "\n",
    "splicing_feature_folder = '{}/splicing_feature_data'.format(csv_folder)\n",
    "alternative_feature_folder = '{}/alternative'.format(splicing_feature_folder)\n",
    "constitutive_feature_folder = '{}/constitutive'.format(splicing_feature_folder)\n",
    "\n",
    "alt_exons_bedfile = '{}/exons.bed'.format(alternative_feature_folder)\n",
    "constitutive_bedfile = '{}/exons.bed'.format(constitutive_feature_folder)"
   ]
  },
  {
   "cell_type": "code",
   "execution_count": 5,
   "metadata": {
    "collapsed": false
   },
   "outputs": [],
   "source": [
    "region_types = (('exon_body', ''), ('downstream', '_downstream200nt'), ('upstream', '_upstream200nt'))\n",
    "\n",
    "exon_types = (('alternative', alternative_feature_folder), ('constitutive', constitutive_feature_folder))\n",
    "\n",
    "kmers = {}\n",
    "\n",
    "for exon_type, folder in exon_types:\n",
    "    kmers[exon_type] = {}\n",
    "    for region_type, suffix in region_types:\n",
    "        kmers[exon_type][region_type] = pd.read_csv('{}/exons{}_kmers.csv'.format(alternative_feature_folder), index_col=0)\n",
    "\n",
    "# downstream_kmers = pd.read_csv('{}/exons_downstream200nt_kmers.csv'.format(alternative_feature_folder), index_col=0)\n",
    "# upstream_kmers = pd.read_csv('{}/exons_upstream200nt_kmers.csv'.format(alternative_feature_folder), index_col=0)\n",
    "# exon_kmers = pd.read_csv('{}/exons_kmers.csv'.format(alternative_feature_folder), index_col=0)\n",
    "\n"
   ]
  },
  {
   "cell_type": "code",
   "execution_count": null,
   "metadata": {
    "collapsed": true
   },
   "outputs": [],
   "source": []
  },
  {
   "cell_type": "code",
   "execution_count": 6,
   "metadata": {
    "collapsed": true
   },
   "outputs": [],
   "source": [
    "alternative_events = study.supplemental.modalities_tidy['event_id'].unique()"
   ]
  },
  {
   "cell_type": "code",
   "execution_count": null,
   "metadata": {
    "collapsed": true
   },
   "outputs": [],
   "source": []
  }
 ],
 "metadata": {
  "kernelspec": {
   "display_name": "Python 2",
   "language": "python",
   "name": "python2"
  },
  "language_info": {
   "codemirror_mode": {
    "name": "ipython",
    "version": 2
   },
   "file_extension": ".py",
   "mimetype": "text/x-python",
   "name": "python",
   "nbconvert_exporter": "python",
   "pygments_lexer": "ipython2",
   "version": "2.7.11"
  }
 },
 "nbformat": 4,
 "nbformat_minor": 0
}
