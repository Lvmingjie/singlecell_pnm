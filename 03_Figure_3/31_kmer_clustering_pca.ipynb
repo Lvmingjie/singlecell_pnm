{
 "cells": [
  {
   "cell_type": "code",
   "execution_count": 1,
   "metadata": {
    "collapsed": false
   },
   "outputs": [
    {
     "name": "stdout",
     "output_type": "stream",
     "text": [
      "2017-01-13 14:07:04\tReading datapackage from /projects/ps-yeolab/obotvinnik/flotilla_projects/singlecell_pnm_figure2_modalities_bayesian_kmers/datapackage.json\n",
      "2017-01-13 14:07:04\tParsing datapackage to create a Study object\n",
      "https://s3-us-west-2.amazonaws.com/flotilla-projects/ercc/ERCC_Controls.txt has not been downloaded before.\n",
      "\tDownloading now to /home/obotvinnik/flotilla_projects/hg19/ERCC_Controls.txt\n"
     ]
    },
    {
     "name": "stderr",
     "output_type": "stream",
     "text": [
      "/home/obotvinnik/anaconda/lib/python2.7/site-packages/sklearn/cross_validation.py:44: DeprecationWarning: This module was deprecated in version 0.18 in favor of the model_selection module into which all the refactored classes and functions are moved. Also note that the interface of the new CV iterators are different from that of this module. This module will be removed in 0.20.\n",
      "  \"This module will be removed in 0.20.\", DeprecationWarning)\n",
      "Error loading species hg19 data: HTTP Error 404: Not Found"
     ]
    },
    {
     "name": "stdout",
     "output_type": "stream",
     "text": [
      "2017-01-13 14:07:44 \tInitializing Study\n",
      "2017-01-13 14:07:44 \tInitializing Predictor configuration manager for Study\n",
      "2017-01-13 14:07:44\tPredictor ExtraTreesClassifier is of type <class 'sklearn.ensemble.forest.ExtraTreesClassifier'>\n",
      "2017-01-13 14:07:44\tAdded ExtraTreesClassifier to default predictors\n",
      "2017-01-13 14:07:44\tPredictor ExtraTreesRegressor is of type <class 'sklearn.ensemble.forest.ExtraTreesRegressor'>\n",
      "2017-01-13 14:07:44\tAdded ExtraTreesRegressor to default predictors\n",
      "2017-01-13 14:07:44\tPredictor GradientBoostingClassifier is of type <class 'sklearn.ensemble.gradient_boosting.GradientBoostingClassifier'>\n",
      "2017-01-13 14:07:44\tAdded GradientBoostingClassifier to default predictors\n",
      "2017-01-13 14:07:44\tPredictor GradientBoostingRegressor is of type <class 'sklearn.ensemble.gradient_boosting.GradientBoostingRegressor'>\n",
      "2017-01-13 14:07:44\tAdded GradientBoostingRegressor to default predictors\n",
      "2017-01-13 14:07:44 \tLoading metadata\n",
      "2017-01-13 14:07:44\tLoading expression data\n",
      "2017-01-13 14:07:44\tInitializing expression\n",
      "2017-01-13 14:07:45\tDone initializing expression\n",
      "2017-01-13 14:07:47\tLoading splicing data\n",
      "2017-01-13 14:07:47\tInitializing splicing\n",
      "2017-01-13 14:07:47\tDone initializing splicing\n",
      "2017-01-13 14:07:47\tSuccessfully initialized a Study object!\n"
     ]
    }
   ],
   "source": [
    "from __future__ import print_function\n",
    "\n",
    "%load_ext autoreload\n",
    "%autoreload 2\n",
    "\n",
    "import matplotlib.pyplot as plt\n",
    "import seaborn as sns\n",
    "import numpy as np\n",
    "import pandas as pd\n",
    "\n",
    "sns.set(style='white', context='paper', rc={'font.sans-serif':'Arial', 'pdf.fonttype': 42})\n",
    "\n",
    "%matplotlib inline\n",
    "\n",
    "\n",
    "import flotilla\n",
    "flotilla_dir = '/projects/ps-yeolab/obotvinnik/flotilla_projects'\n",
    "\n",
    "study = flotilla.embark('singlecell_pnm_figure2_modalities_bayesian_kmers', flotilla_dir=flotilla_dir)\n",
    "not_outliers = study.splicing.singles.index.difference(study.splicing.outliers.index)\n",
    "\n",
    "psi = study.splicing.singles.ix[not_outliers]\n",
    "grouped = psi.groupby(study.sample_id_to_phenotype)\n",
    "psi_filtered = grouped.apply(lambda x: x.dropna(axis=1, thresh=10))"
   ]
  },
  {
   "cell_type": "code",
   "execution_count": 2,
   "metadata": {
    "collapsed": false
   },
   "outputs": [
    {
     "data": {
      "text/plain": [
       "10"
      ]
     },
     "execution_count": 2,
     "metadata": {},
     "output_type": "execute_result"
    }
   ],
   "source": [
    "study.splicing.minimum_samples"
   ]
  },
  {
   "cell_type": "code",
   "execution_count": 3,
   "metadata": {
    "collapsed": false
   },
   "outputs": [
    {
     "data": {
      "text/plain": [
       "Index([u'isoform1=junction:chr10:79797063-79797722:+|isoform2=junction:chr10:79797063-79797196:+@novel_exon:chr10:79797197-79797199:+@junction:chr10:79797200-79797722:+',\n",
       "       u'isoform1=junction:chr10:79797063-79799961:+|isoform2=junction:chr10:79797063-79797196:+@novel_exon:chr10:79797197-79797199:+@junction:chr10:79797200-79799961:+',\n",
       "       u'isoform1=junction:chr10:79797063-79799961:+|isoform2=junction:chr10:79797063-79797722:+@exon:chr10:79797723-79797740:+@junction:chr10:79797741-79799961:+',\n",
       "       u'isoform1=junction:chr10:79797063-79800372:+|isoform2=junction:chr10:79797063-79797196:+@novel_exon:chr10:79797197-79797199:+@junction:chr10:79797200-79800372:+',\n",
       "       u'isoform1=junction:chr10:79797063-79800372:+|isoform2=junction:chr10:79797063-79797722:+@exon:chr10:79797723-79797740:+@junction:chr10:79797741-79800372:+',\n",
       "       u'isoform1=junction:chr10:79797063-79800372:+|isoform2=junction:chr10:79797063-79797722:+@novel_exon:chr10:79797723-79797751:+@junction:chr10:79797752-79800372:+',\n",
       "       u'isoform1=junction:chr10:79797063-79800372:+|isoform2=junction:chr10:79797063-79799961:+@exon:chr10:79799962-79799983:+@junction:chr10:79799984-79800372:+',\n",
       "       u'isoform1=junction:chr10:79797200-79799961:+|isoform2=junction:chr10:79797200-79797722:+@exon:chr10:79797723-79797740:+@junction:chr10:79797741-79799961:+',\n",
       "       u'isoform1=junction:chr10:79797063-79799961:+@exon:chr10:79799962-79799983:+@junction:chr10:79799984-79800372:+|isoform2=junction:chr10:79797063-79797196:+@novel_exon:chr10:79797197-79797199:+@junction:chr10:79797200-79800372:+',\n",
       "       u'isoform1=junction:chr10:79797063-79799961:+@exon:chr10:79799962-79799983:+@junction:chr10:79799984-79800372:+|isoform2=junction:chr10:79797063-79797722:+@exon:chr10:79797723-79797740:+@junction:chr10:79797741-79800372:+',\n",
       "       u'isoform1=junction:chr10:79797063-79799961:+@exon:chr10:79799962-79799983:+@junction:chr10:79799984-79800372:+|isoform2=junction:chr10:79797063-79797722:+@novel_exon:chr10:79797723-79797751:+@junction:chr10:79797752-79800372:+'],\n",
       "      dtype='object')"
      ]
     },
     "execution_count": 3,
     "metadata": {},
     "output_type": "execute_result"
    }
   ],
   "source": [
    "study.splicing.maybe_renamed_to_feature_id(\"RPS24\")"
   ]
  },
  {
   "cell_type": "code",
   "execution_count": 4,
   "metadata": {
    "collapsed": false
   },
   "outputs": [
    {
     "data": {
      "text/plain": [
       "array([ 'isoform1=junction:chr10:79797063-79800372:+|isoform2=junction:chr10:79797063-79799961:+@exon:chr10:79799962-79799983:+@junction:chr10:79799984-79800372:+'], dtype=object)"
      ]
     },
     "execution_count": 4,
     "metadata": {},
     "output_type": "execute_result"
    }
   ],
   "source": [
    "study.supplemental.modalities_tidy.query('modality == \"middle\"')['event_id'].values"
   ]
  },
  {
   "cell_type": "code",
   "execution_count": 5,
   "metadata": {
    "collapsed": false
   },
   "outputs": [
    {
     "name": "stdout",
     "output_type": "stream",
     "text": [
      "mkdir: cannot create directory `figures': File exists\r\n"
     ]
    }
   ],
   "source": [
    "folder = 'figures'\n",
    "!mkdir $folder\n",
    "\n",
    "figure_folder = '{}/31_kmer_clustering'.format(folder)\n",
    "! mkdir -p $figure_folder"
   ]
  },
  {
   "cell_type": "markdown",
   "metadata": {},
   "source": [
    "## Plot kmer zscore clustering"
   ]
  },
  {
   "cell_type": "code",
   "execution_count": 6,
   "metadata": {
    "collapsed": true
   },
   "outputs": [],
   "source": [
    "from anchor import MODALITY_ORDER, MODALITY_TO_COLOR"
   ]
  },
  {
   "cell_type": "code",
   "execution_count": 7,
   "metadata": {
    "collapsed": false
   },
   "outputs": [
    {
     "data": {
      "text/html": [
       "<div>\n",
       "<table border=\"1\" class=\"dataframe\">\n",
       "  <thead>\n",
       "    <tr style=\"text-align: right;\">\n",
       "      <th></th>\n",
       "      <th>MN_bimodal_background=phenotype_exonbody</th>\n",
       "      <th>MN_bimodal_background=phenotype_upstream200nt</th>\n",
       "      <th>MN_bimodal_background=phenotype_downstream200nt</th>\n",
       "      <th>MN_excluded_background=phenotype_exonbody</th>\n",
       "      <th>MN_excluded_background=phenotype_upstream200nt</th>\n",
       "      <th>MN_excluded_background=phenotype_downstream200nt</th>\n",
       "      <th>MN_included_background=phenotype_exonbody</th>\n",
       "      <th>MN_included_background=phenotype_upstream200nt</th>\n",
       "      <th>MN_included_background=phenotype_downstream200nt</th>\n",
       "      <th>MN_uncategorized_background=phenotype_exonbody</th>\n",
       "      <th>...</th>\n",
       "      <th>iPSC_excluded_background=phenotype_downstream200nt</th>\n",
       "      <th>iPSC_included_background=phenotype_exonbody</th>\n",
       "      <th>iPSC_included_background=phenotype_upstream200nt</th>\n",
       "      <th>iPSC_included_background=phenotype_downstream200nt</th>\n",
       "      <th>iPSC_middle_background=phenotype_exonbody</th>\n",
       "      <th>iPSC_middle_background=phenotype_upstream200nt</th>\n",
       "      <th>iPSC_middle_background=phenotype_downstream200nt</th>\n",
       "      <th>iPSC_uncategorized_background=phenotype_exonbody</th>\n",
       "      <th>iPSC_uncategorized_background=phenotype_upstream200nt</th>\n",
       "      <th>iPSC_uncategorized_background=phenotype_downstream200nt</th>\n",
       "    </tr>\n",
       "  </thead>\n",
       "  <tbody>\n",
       "    <tr>\n",
       "      <th>AAAA</th>\n",
       "      <td>0.056405</td>\n",
       "      <td>0.175361</td>\n",
       "      <td>0.152522</td>\n",
       "      <td>-0.336768</td>\n",
       "      <td>0.002428</td>\n",
       "      <td>0.008287</td>\n",
       "      <td>0.212556</td>\n",
       "      <td>-0.072078</td>\n",
       "      <td>-0.068940</td>\n",
       "      <td>0.885871</td>\n",
       "      <td>...</td>\n",
       "      <td>0.038945</td>\n",
       "      <td>0.167091</td>\n",
       "      <td>-0.051938</td>\n",
       "      <td>-0.043259</td>\n",
       "      <td>-0.354903</td>\n",
       "      <td>1.303387</td>\n",
       "      <td>-0.220022</td>\n",
       "      <td>0.079013</td>\n",
       "      <td>0.405857</td>\n",
       "      <td>0.384235</td>\n",
       "    </tr>\n",
       "    <tr>\n",
       "      <th>AAAC</th>\n",
       "      <td>0.050008</td>\n",
       "      <td>0.181014</td>\n",
       "      <td>0.139388</td>\n",
       "      <td>-0.362839</td>\n",
       "      <td>0.002110</td>\n",
       "      <td>-0.001317</td>\n",
       "      <td>0.233482</td>\n",
       "      <td>-0.074146</td>\n",
       "      <td>-0.053470</td>\n",
       "      <td>0.879162</td>\n",
       "      <td>...</td>\n",
       "      <td>0.012722</td>\n",
       "      <td>0.186482</td>\n",
       "      <td>-0.042672</td>\n",
       "      <td>-0.048479</td>\n",
       "      <td>-0.399564</td>\n",
       "      <td>-0.235414</td>\n",
       "      <td>-0.223115</td>\n",
       "      <td>0.042905</td>\n",
       "      <td>0.252028</td>\n",
       "      <td>0.285885</td>\n",
       "    </tr>\n",
       "    <tr>\n",
       "      <th>AAAG</th>\n",
       "      <td>0.007504</td>\n",
       "      <td>0.130289</td>\n",
       "      <td>0.111820</td>\n",
       "      <td>-0.381989</td>\n",
       "      <td>0.030548</td>\n",
       "      <td>0.032929</td>\n",
       "      <td>0.263989</td>\n",
       "      <td>-0.073617</td>\n",
       "      <td>-0.069507</td>\n",
       "      <td>0.805528</td>\n",
       "      <td>...</td>\n",
       "      <td>0.025699</td>\n",
       "      <td>0.194283</td>\n",
       "      <td>-0.042919</td>\n",
       "      <td>-0.045002</td>\n",
       "      <td>-0.399528</td>\n",
       "      <td>2.121747</td>\n",
       "      <td>-0.257663</td>\n",
       "      <td>0.175131</td>\n",
       "      <td>0.214095</td>\n",
       "      <td>0.193140</td>\n",
       "    </tr>\n",
       "    <tr>\n",
       "      <th>AAAT</th>\n",
       "      <td>0.071756</td>\n",
       "      <td>0.213067</td>\n",
       "      <td>0.141952</td>\n",
       "      <td>-0.364139</td>\n",
       "      <td>-0.014273</td>\n",
       "      <td>0.016375</td>\n",
       "      <td>0.224952</td>\n",
       "      <td>-0.076973</td>\n",
       "      <td>-0.069441</td>\n",
       "      <td>1.174909</td>\n",
       "      <td>...</td>\n",
       "      <td>0.022285</td>\n",
       "      <td>0.213385</td>\n",
       "      <td>-0.063287</td>\n",
       "      <td>-0.040413</td>\n",
       "      <td>-0.447026</td>\n",
       "      <td>1.444946</td>\n",
       "      <td>-0.283506</td>\n",
       "      <td>0.063098</td>\n",
       "      <td>0.806763</td>\n",
       "      <td>0.307280</td>\n",
       "    </tr>\n",
       "    <tr>\n",
       "      <th>AACA</th>\n",
       "      <td>0.056258</td>\n",
       "      <td>0.151192</td>\n",
       "      <td>0.153538</td>\n",
       "      <td>-0.381541</td>\n",
       "      <td>-0.010809</td>\n",
       "      <td>0.014833</td>\n",
       "      <td>0.243870</td>\n",
       "      <td>-0.052223</td>\n",
       "      <td>-0.071286</td>\n",
       "      <td>0.992083</td>\n",
       "      <td>...</td>\n",
       "      <td>0.029234</td>\n",
       "      <td>0.199863</td>\n",
       "      <td>-0.032605</td>\n",
       "      <td>-0.033755</td>\n",
       "      <td>-0.435454</td>\n",
       "      <td>-0.253286</td>\n",
       "      <td>-0.215715</td>\n",
       "      <td>0.048602</td>\n",
       "      <td>0.534870</td>\n",
       "      <td>0.261458</td>\n",
       "    </tr>\n",
       "  </tbody>\n",
       "</table>\n",
       "<p>5 rows × 39 columns</p>\n",
       "</div>"
      ],
      "text/plain": [
       "      MN_bimodal_background=phenotype_exonbody  \\\n",
       "AAAA                                  0.056405   \n",
       "AAAC                                  0.050008   \n",
       "AAAG                                  0.007504   \n",
       "AAAT                                  0.071756   \n",
       "AACA                                  0.056258   \n",
       "\n",
       "      MN_bimodal_background=phenotype_upstream200nt  \\\n",
       "AAAA                                       0.175361   \n",
       "AAAC                                       0.181014   \n",
       "AAAG                                       0.130289   \n",
       "AAAT                                       0.213067   \n",
       "AACA                                       0.151192   \n",
       "\n",
       "      MN_bimodal_background=phenotype_downstream200nt  \\\n",
       "AAAA                                         0.152522   \n",
       "AAAC                                         0.139388   \n",
       "AAAG                                         0.111820   \n",
       "AAAT                                         0.141952   \n",
       "AACA                                         0.153538   \n",
       "\n",
       "      MN_excluded_background=phenotype_exonbody  \\\n",
       "AAAA                                  -0.336768   \n",
       "AAAC                                  -0.362839   \n",
       "AAAG                                  -0.381989   \n",
       "AAAT                                  -0.364139   \n",
       "AACA                                  -0.381541   \n",
       "\n",
       "      MN_excluded_background=phenotype_upstream200nt  \\\n",
       "AAAA                                        0.002428   \n",
       "AAAC                                        0.002110   \n",
       "AAAG                                        0.030548   \n",
       "AAAT                                       -0.014273   \n",
       "AACA                                       -0.010809   \n",
       "\n",
       "      MN_excluded_background=phenotype_downstream200nt  \\\n",
       "AAAA                                          0.008287   \n",
       "AAAC                                         -0.001317   \n",
       "AAAG                                          0.032929   \n",
       "AAAT                                          0.016375   \n",
       "AACA                                          0.014833   \n",
       "\n",
       "      MN_included_background=phenotype_exonbody  \\\n",
       "AAAA                                   0.212556   \n",
       "AAAC                                   0.233482   \n",
       "AAAG                                   0.263989   \n",
       "AAAT                                   0.224952   \n",
       "AACA                                   0.243870   \n",
       "\n",
       "      MN_included_background=phenotype_upstream200nt  \\\n",
       "AAAA                                       -0.072078   \n",
       "AAAC                                       -0.074146   \n",
       "AAAG                                       -0.073617   \n",
       "AAAT                                       -0.076973   \n",
       "AACA                                       -0.052223   \n",
       "\n",
       "      MN_included_background=phenotype_downstream200nt  \\\n",
       "AAAA                                         -0.068940   \n",
       "AAAC                                         -0.053470   \n",
       "AAAG                                         -0.069507   \n",
       "AAAT                                         -0.069441   \n",
       "AACA                                         -0.071286   \n",
       "\n",
       "      MN_uncategorized_background=phenotype_exonbody  \\\n",
       "AAAA                                        0.885871   \n",
       "AAAC                                        0.879162   \n",
       "AAAG                                        0.805528   \n",
       "AAAT                                        1.174909   \n",
       "AACA                                        0.992083   \n",
       "\n",
       "                               ...                             \\\n",
       "AAAA                           ...                              \n",
       "AAAC                           ...                              \n",
       "AAAG                           ...                              \n",
       "AAAT                           ...                              \n",
       "AACA                           ...                              \n",
       "\n",
       "      iPSC_excluded_background=phenotype_downstream200nt  \\\n",
       "AAAA                                           0.038945    \n",
       "AAAC                                           0.012722    \n",
       "AAAG                                           0.025699    \n",
       "AAAT                                           0.022285    \n",
       "AACA                                           0.029234    \n",
       "\n",
       "      iPSC_included_background=phenotype_exonbody  \\\n",
       "AAAA                                     0.167091   \n",
       "AAAC                                     0.186482   \n",
       "AAAG                                     0.194283   \n",
       "AAAT                                     0.213385   \n",
       "AACA                                     0.199863   \n",
       "\n",
       "      iPSC_included_background=phenotype_upstream200nt  \\\n",
       "AAAA                                         -0.051938   \n",
       "AAAC                                         -0.042672   \n",
       "AAAG                                         -0.042919   \n",
       "AAAT                                         -0.063287   \n",
       "AACA                                         -0.032605   \n",
       "\n",
       "      iPSC_included_background=phenotype_downstream200nt  \\\n",
       "AAAA                                          -0.043259    \n",
       "AAAC                                          -0.048479    \n",
       "AAAG                                          -0.045002    \n",
       "AAAT                                          -0.040413    \n",
       "AACA                                          -0.033755    \n",
       "\n",
       "      iPSC_middle_background=phenotype_exonbody  \\\n",
       "AAAA                                  -0.354903   \n",
       "AAAC                                  -0.399564   \n",
       "AAAG                                  -0.399528   \n",
       "AAAT                                  -0.447026   \n",
       "AACA                                  -0.435454   \n",
       "\n",
       "      iPSC_middle_background=phenotype_upstream200nt  \\\n",
       "AAAA                                        1.303387   \n",
       "AAAC                                       -0.235414   \n",
       "AAAG                                        2.121747   \n",
       "AAAT                                        1.444946   \n",
       "AACA                                       -0.253286   \n",
       "\n",
       "      iPSC_middle_background=phenotype_downstream200nt  \\\n",
       "AAAA                                         -0.220022   \n",
       "AAAC                                         -0.223115   \n",
       "AAAG                                         -0.257663   \n",
       "AAAT                                         -0.283506   \n",
       "AACA                                         -0.215715   \n",
       "\n",
       "      iPSC_uncategorized_background=phenotype_exonbody  \\\n",
       "AAAA                                          0.079013   \n",
       "AAAC                                          0.042905   \n",
       "AAAG                                          0.175131   \n",
       "AAAT                                          0.063098   \n",
       "AACA                                          0.048602   \n",
       "\n",
       "      iPSC_uncategorized_background=phenotype_upstream200nt  \\\n",
       "AAAA                                           0.405857       \n",
       "AAAC                                           0.252028       \n",
       "AAAG                                           0.214095       \n",
       "AAAT                                           0.806763       \n",
       "AACA                                           0.534870       \n",
       "\n",
       "      iPSC_uncategorized_background=phenotype_downstream200nt  \n",
       "AAAA                                           0.384235        \n",
       "AAAC                                           0.285885        \n",
       "AAAG                                           0.193140        \n",
       "AAAT                                           0.307280        \n",
       "AACA                                           0.261458        \n",
       "\n",
       "[5 rows x 39 columns]"
      ]
     },
     "execution_count": 7,
     "metadata": {},
     "output_type": "execute_result"
    }
   ],
   "source": [
    "study.supplemental.kmer_zscores_background_phenotype.head()"
   ]
  },
  {
   "cell_type": "code",
   "execution_count": 8,
   "metadata": {
    "collapsed": false
   },
   "outputs": [
    {
     "data": {
      "image/png": "[encoded data removed]",
      "text/plain": [
       "<matplotlib.figure.Figure at 0x2adccb082d90>"
      ]
     },
     "metadata": {},
     "output_type": "display_data"
    }
   ],
   "source": [
    "g = sns.jointplot('iPSC_included_background=phenotype_downstream200nt', \n",
    "                  'iPSC_included_background=phenotype_upstream200nt', \n",
    "                  study.supplemental.kmer_zscores_background_phenotype, size=2.5, \n",
    "                  color='#262626', stat_func=None,\n",
    "                  joint_kws=dict(alpha=0.5, s=1, rasterized=True))\n",
    "g.ax_joint.set(xlabel='', xticks=[], ylabel='', yticks=[]);\n",
    "g.fig.tight_layout()\n",
    "g.savefig('{}/example_correlation_negative.pdf'.format(figure_folder), dpi=600)"
   ]
  },
  {
   "cell_type": "code",
   "execution_count": 9,
   "metadata": {
    "collapsed": false
   },
   "outputs": [
    {
     "ename": "AttributeError",
     "evalue": "'SupplementalData' object has no attribute 'kmer_zscores'",
     "output_type": "error",
     "traceback": [
      "\u001b[1;31m---------------------------------------------------------------------------\u001b[0m",
      "\u001b[1;31mAttributeError\u001b[0m                            Traceback (most recent call last)",
      "\u001b[1;32m<ipython-input-9-142f6886cbe6>\u001b[0m in \u001b[0;36m<module>\u001b[1;34m()\u001b[0m\n\u001b[0;32m      1\u001b[0m g = sns.jointplot('upstream200nt_iPSC_bimodal_placental', 'upstream200nt_iPSC_excluded_placental', \n\u001b[1;32m----> 2\u001b[1;33m                   \u001b[0mstudy\u001b[0m\u001b[1;33m.\u001b[0m\u001b[0msupplemental\u001b[0m\u001b[1;33m.\u001b[0m\u001b[0mkmer_zscores\u001b[0m\u001b[1;33m,\u001b[0m \u001b[0msize\u001b[0m\u001b[1;33m=\u001b[0m\u001b[1;36m2.5\u001b[0m\u001b[1;33m,\u001b[0m \u001b[0mcolor\u001b[0m\u001b[1;33m=\u001b[0m\u001b[1;34m'#262626'\u001b[0m\u001b[1;33m,\u001b[0m \u001b[0mstat_func\u001b[0m\u001b[1;33m=\u001b[0m\u001b[0mNone\u001b[0m\u001b[1;33m,\u001b[0m\u001b[1;33m\u001b[0m\u001b[0m\n\u001b[0m\u001b[0;32m      3\u001b[0m                   joint_kws=dict(alpha=0.5, s=1, rasterized=True))\n\u001b[0;32m      4\u001b[0m \u001b[0mg\u001b[0m\u001b[1;33m.\u001b[0m\u001b[0max_joint\u001b[0m\u001b[1;33m.\u001b[0m\u001b[0mset\u001b[0m\u001b[1;33m(\u001b[0m\u001b[0mxlabel\u001b[0m\u001b[1;33m=\u001b[0m\u001b[1;34m''\u001b[0m\u001b[1;33m,\u001b[0m \u001b[0mxticks\u001b[0m\u001b[1;33m=\u001b[0m\u001b[1;33m[\u001b[0m\u001b[1;33m]\u001b[0m\u001b[1;33m,\u001b[0m \u001b[0mylabel\u001b[0m\u001b[1;33m=\u001b[0m\u001b[1;34m''\u001b[0m\u001b[1;33m,\u001b[0m \u001b[0myticks\u001b[0m\u001b[1;33m=\u001b[0m\u001b[1;33m[\u001b[0m\u001b[1;33m]\u001b[0m\u001b[1;33m)\u001b[0m\u001b[1;33m;\u001b[0m\u001b[1;33m\u001b[0m\u001b[0m\n\u001b[0;32m      5\u001b[0m \u001b[0mg\u001b[0m\u001b[1;33m.\u001b[0m\u001b[0mfig\u001b[0m\u001b[1;33m.\u001b[0m\u001b[0mtight_layout\u001b[0m\u001b[1;33m(\u001b[0m\u001b[1;33m)\u001b[0m\u001b[1;33m\u001b[0m\u001b[0m\n",
      "\u001b[1;31mAttributeError\u001b[0m: 'SupplementalData' object has no attribute 'kmer_zscores'"
     ]
    }
   ],
   "source": [
    "g = sns.jointplot('upstream200nt_iPSC_bimodal_placental', 'upstream200nt_iPSC_excluded_placental', \n",
    "                  study.supplemental.kmer_zscores, size=2.5, color='#262626', stat_func=None,\n",
    "                  joint_kws=dict(alpha=0.5, s=1, rasterized=True))\n",
    "g.ax_joint.set(xlabel='', xticks=[], ylabel='', yticks=[]);\n",
    "g.fig.tight_layout()\n",
    "g.savefig('{}/example_correlation_positive.pdf'.format(figure_folder), dpi=600)"
   ]
  },
  {
   "cell_type": "code",
   "execution_count": null,
   "metadata": {
    "collapsed": false
   },
   "outputs": [],
   "source": [
    "sns.set(style='white', context='paper')"
   ]
  },
  {
   "cell_type": "code",
   "execution_count": null,
   "metadata": {
    "collapsed": true
   },
   "outputs": [],
   "source": [
    "kmer_zscores = {'phenotype': study.supplemental.kmer_zscores_background_phenotype,\n",
    "                'modality': study.supplemental.kmer_zscores_background_modality,\n",
    "                'constitutive': study.supplemental.kmer_zscores_background_constitutive}"
   ]
  },
  {
   "cell_type": "code",
   "execution_count": null,
   "metadata": {
    "collapsed": false
   },
   "outputs": [],
   "source": [
    "import re\n",
    "\n",
    "kmer_zscores_copy = {}\n",
    "\n",
    "for background, zscores in kmer_zscores.items():\n",
    "    zscores.columns = zscores.columns.map(lambda x: re.sub('_background=[a-z]+', '', x))\n",
    "#     kmer_zscores_copy[background] = zscores.copy()\n",
    "kmer_zscores['phenotype'].head()"
   ]
  },
  {
   "cell_type": "code",
   "execution_count": null,
   "metadata": {
    "collapsed": false
   },
   "outputs": [],
   "source": [
    "dfs = []\n",
    "\n",
    "for background, zscores in kmer_zscores.items():\n",
    "    df = zscores.unstack().reset_index()\n",
    "    df = df.rename(columns={'level_0': 'Intron', 'level_1': 'K-mer', 0:'Z-Score'})\n",
    "    df['Intron'] = df['Intron'].str.replace('_background=[a-z]+', '')\n",
    "    df['Background'] = background\n",
    "    dfs.append(df)\n",
    "zscores_tidy = pd.concat(dfs, ignore_index=True)\n",
    "print(zscores_tidy.shape)\n",
    "zscores_tidy.head()"
   ]
  },
  {
   "cell_type": "code",
   "execution_count": null,
   "metadata": {
    "collapsed": false
   },
   "outputs": [],
   "source": [
    "zscores_tidy.groupby(['Background'])['Z-Score'].mean()"
   ]
  },
  {
   "cell_type": "code",
   "execution_count": null,
   "metadata": {
    "collapsed": false
   },
   "outputs": [],
   "source": [
    "(zscores_tidy['Z-Score'].abs() <= 0.01).sum()"
   ]
  },
  {
   "cell_type": "code",
   "execution_count": null,
   "metadata": {
    "collapsed": false
   },
   "outputs": [],
   "source": [
    "zscores_tidy_filtered = zscores_tidy.loc[zscores_tidy['Z-Score'].abs() > 0.01]\n",
    "print(zscores_tidy_filtered.shape)\n",
    "zscores_tidy_filtered.head()"
   ]
  },
  {
   "cell_type": "code",
   "execution_count": null,
   "metadata": {
    "collapsed": true
   },
   "outputs": [],
   "source": [
    "! mkdir -p $figure_folder"
   ]
  },
  {
   "cell_type": "code",
   "execution_count": null,
   "metadata": {
    "collapsed": false
   },
   "outputs": [],
   "source": [
    "def flatten_distplot(data, **kwargs):\n",
    "    return sns.distplot(data.values.flat, **kwargs)\n",
    "\n",
    "g = sns.FacetGrid(data=zscores_tidy_filtered, sharex=False,\n",
    "                   aspect=4, size=1.5, row='Background',)\n",
    "g.map(flatten_distplot, 'Z-Score', kde=False)\n",
    "# g.set(xticks=[])\n",
    "for ax in g.axes.flat:\n",
    "    ax.locator_params(nbins=4, axis='y')\n",
    "\n",
    "# plt.setp(ax.get_xticklabels(), rotation=90);\n",
    "# sns.despine()\n",
    "# fig.tight_layout()\n",
    "g.savefig('{}/kmer_z_score_distplot_factorplot.pdf'.format(figure_folder))"
   ]
  },
  {
   "cell_type": "code",
   "execution_count": null,
   "metadata": {
    "collapsed": false
   },
   "outputs": [],
   "source": [
    "g = sns.factorplot(x='Intron', y='Z-Score', data=zscores_tidy_filtered, \n",
    "                   aspect=4, size=1.5, color='grey', row='Background', \n",
    "                   kind='box', linewidth=0.5, fliersize=2)\n",
    "g.set(xticks=[])\n",
    "for ax in g.axes.flat:\n",
    "    ax.locator_params(nbins=4, axis='y')\n",
    "\n",
    "# plt.setp(ax.get_xticklabels(), rotation=90);\n",
    "# sns.despine()\n",
    "# fig.tight_layout()\n",
    "g.savefig('{}/kmer_z_score_boxplots_factorplot.pdf'.format(figure_folder))"
   ]
  },
  {
   "cell_type": "code",
   "execution_count": null,
   "metadata": {
    "collapsed": false
   },
   "outputs": [],
   "source": [
    "g = sns.factorplot(x='Intron', y='Z-Score', data=zscores_tidy, \n",
    "                   aspect=4, size=1.5, color='grey', row='Background', \n",
    "                   kind='box', linewidth=0.5, fliersize=2, sharey=False)\n",
    "g.set(xticks=[])\n",
    "for ax in g.axes.flat:\n",
    "    ax.locator_params(nbins=4, axis='y')\n",
    "\n",
    "# plt.setp(ax.get_xticklabels(), rotation=90);\n",
    "# sns.despine()\n",
    "# fig.tight_layout()\n",
    "g.savefig('{}/kmer_z_score_boxplots_factorplot_sharey-False.pdf'.format(figure_folder))"
   ]
  },
  {
   "cell_type": "code",
   "execution_count": null,
   "metadata": {
    "collapsed": false
   },
   "outputs": [],
   "source": [
    "# for background_name, zscores in kmer_zscores.items():\n",
    "#     fig, axes = plt.subplots(nrows=2, figsize=(4, 1.5), gridspec_kw=dict(height_ratios=(0.2, 0.8), hspace=0.1))\n",
    "\n",
    "#     kwargs = dict(linewidth=1, fliersize=2, color='grey')\n",
    "\n",
    "#     ax = axes[0]\n",
    "#     sns.boxplot(zscores, ax=ax, **kwargs)\n",
    "#     # ax.locator_params(nbins=4, axis='y')\n",
    "#     ax.set(xlabel='', xticks=[], ylabel='', ylim=(1, 12), yticks=[1, 5, 10])\n",
    "#     sns.despine(ax=ax, bottom=True)\n",
    "\n",
    "#     ax=axes[1]\n",
    "#     sns.boxplot(zscores, ax=ax, **kwargs)\n",
    "#     ax.set(xlabel='', xticks=[], ylabel='', ylim=(-0.5, .5))\n",
    "\n",
    "#     # plt.setp(ax.get_xticklabels(), rotation=90);\n",
    "#     sns.despine(ax=ax)\n",
    "#     ax.locator_params(nbins=3, axis='y')\n",
    "#     # fig.tight_layout()\n",
    "#     fig.savefig('{}/kmer_zscores_boxplot_{}_split_axes.pdf'.format(figure_folder, background_name))"
   ]
  },
  {
   "cell_type": "markdown",
   "metadata": {},
   "source": [
    "## Cluster k-mer matrices"
   ]
  },
  {
   "cell_type": "code",
   "execution_count": null,
   "metadata": {
    "collapsed": false
   },
   "outputs": [],
   "source": [
    "sns.set(context='paper', style='whitegrid')\n",
    "\n",
    "\n",
    "\n",
    "direction_to_color = {'upstream': '#F2F2F2', # 95% white out of black\n",
    "                      'downstream': '#262626', # 15% white out of black\n",
    "                      'exonbody': 'grey'\n",
    "                     }\n",
    "\n",
    "phenotype_colors = columns.map(lambda x: study.phenotype_to_color[x.split('_')[0]])\n",
    "modality_colors = columns.map(lambda x: MODALITY_TO_COLOR[x.split('_')[1]])\n",
    "direction_colors = columns.map(lambda x: direction_to_color[x.split('_')[-1].split('nt')[0].rstrip('0123456789')])\n",
    "intron_colors = pd.DataFrame([modality_colors, direction_colors, phenotype_colors], columns=columns)\n",
    "intron_colors"
   ]
  },
  {
   "cell_type": "code",
   "execution_count": null,
   "metadata": {
    "collapsed": true
   },
   "outputs": [],
   "source": [
    "def make_intron_colors(columns):\n",
    "    phenotype_colors = columns.map(lambda x: study.phenotype_to_color[x.split('_')[0]])\n",
    "    modality_colors = columns.map(lambda x: MODALITY_TO_COLOR[x.split('_')[1]])\n",
    "    direction_colors = columns.map(lambda x: direction_to_color[x.split('_')[-1].split('nt')[0].rstrip('0123456789')])\n",
    "    intron_colors = pd.DataFrame([modality_colors, direction_colors, phenotype_colors], columns=columns)\n",
    "    return intron_colors"
   ]
  },
  {
   "cell_type": "code",
   "execution_count": null,
   "metadata": {
    "collapsed": true
   },
   "outputs": [],
   "source": [
    "def retain_cols(data, retain=('included', 'bimodal', 'excluded')):\n",
    "    try:\n",
    "        data = data[[col for col in data if any([r in col for r in retain])]]\n",
    "    except TypeError:\n",
    "        pass\n",
    "    return data"
   ]
  },
  {
   "cell_type": "code",
   "execution_count": null,
   "metadata": {
    "collapsed": true
   },
   "outputs": [],
   "source": [
    "def kmer_clustermap(kmer_zscores, retain=('included', 'bimodal', 'excluded'), \n",
    "                    row_filter=lambda x: x.var(axis=1) > (x.var(axis=1).mean() + 4*x.var(axis=1).std()),\n",
    "                    **kwargs):\n",
    "    data = kmer_zscores\n",
    "    data = retain_cols(data, retain)\n",
    "    print(data.shape)\n",
    "    if row_filter is not None:\n",
    "        data = data.loc[row_filter(data)]\n",
    "    print(data.shape)\n",
    "\n",
    "    intron_colors = make_intron_colors(data.columns)\n",
    "\n",
    "    g = sns.clustermap(data.fillna(0), col_colors=intron_colors.values, method='ward', **kwargs)\n",
    "    plt.setp(g.ax_heatmap.get_yticklabels(), rotation=0);\n",
    "    return g"
   ]
  },
  {
   "cell_type": "markdown",
   "metadata": {},
   "source": [
    "### Plot an unclustered one so can steal the ordered colorbar"
   ]
  },
  {
   "cell_type": "code",
   "execution_count": null,
   "metadata": {
    "collapsed": false
   },
   "outputs": [],
   "source": [
    "g = kmer_clustermap(study.supplemental.kmer_zscores_background_phenotype, col_cluster=False, \n",
    "                    retain=('included', 'bimodal', 'excluded', 'middle', 'uncategorized'))\n",
    "g.fig.savefig('{}/zscores_not_column_clustered.pdf'.format(figure_folder))"
   ]
  },
  {
   "cell_type": "code",
   "execution_count": null,
   "metadata": {
    "collapsed": false,
    "scrolled": false
   },
   "outputs": [],
   "source": [
    "for background_name, zscores in kmer_zscores.items():\n",
    "    g = kmer_clustermap(zscores)\n",
    "    g.savefig('{}/kmer_clustermap_background_{}.pdf'.format(figure_folder, background_name))"
   ]
  },
  {
   "cell_type": "markdown",
   "metadata": {},
   "source": [
    "## Cluster on correlations"
   ]
  },
  {
   "cell_type": "code",
   "execution_count": null,
   "metadata": {
    "collapsed": false
   },
   "outputs": [],
   "source": [
    "cmap = 'RdBu_r' #sns.diverging_palette(220, 0, as_cmap=True)"
   ]
  },
  {
   "cell_type": "code",
   "execution_count": null,
   "metadata": {
    "collapsed": false
   },
   "outputs": [],
   "source": [
    "for background_name, zscores in kmer_zscores.items():\n",
    "    corr = zscores.corr()\n",
    "    g = kmer_clustermap(corr, cbar_kws=dict(label='Pearson $R$'), vmin=-1, vmax=1,\n",
    "                   linewidth=0.5, figsize=(4, 4), row_filter=None)\n",
    "    g.ax_heatmap.set(xticks=[], yticks=[])\n",
    "    g.fig.suptitle(background_name)\n",
    "    g.savefig('{}/kmer_correlation_clustermap_background_{}.pdf'.format(figure_folder, background_name))"
   ]
  },
  {
   "cell_type": "markdown",
   "metadata": {},
   "source": [
    "## PCA on k-mer z-scores"
   ]
  },
  {
   "cell_type": "code",
   "execution_count": null,
   "metadata": {
    "collapsed": false
   },
   "outputs": [],
   "source": [
    "metadata = pd.DataFrame(list(data.columns.map(lambda x: x.split('_'))), \n",
    "                        index=data.columns, columns=['phenotype', 'modality', 'background', 'location'])\n",
    "metadata.head()"
   ]
  },
  {
   "cell_type": "code",
   "execution_count": null,
   "metadata": {
    "collapsed": false
   },
   "outputs": [],
   "source": [
    "from sklearn.decomposition import PCA\n",
    "\n",
    "import plotly.plotly as py\n",
    "import plotly.graph_objs as go\n",
    "\n",
    "\n",
    "# for background, zscores in kmer_zscores.items():\n",
    "\n",
    "\n",
    "def kmer_pcaplot(zscores, title, retain=('included', 'excluded', 'bimodal'), transpose=False):\n",
    "#     zscores = kmer_zscores[background]\n",
    "\n",
    "    data = zscores.fillna(0)\n",
    "    data = retain_cols(data, retain=retain)\n",
    "    \n",
    "    if transpose:\n",
    "        data = data.T\n",
    "        title += '-transposed'\n",
    "        \n",
    "    \n",
    "    print(data.shape)\n",
    "\n",
    "    pca = PCA(n_components=2)\n",
    "    reduced = pd.DataFrame(pca.fit_transform(data), \n",
    "                           index=data.index)\n",
    "    reduced.columns = reduced.columns.map(lambda x: 'component_{}'.format(x))\n",
    "    # reduced = reduced\n",
    "    print('\\t', reduced.shape)\n",
    "    reduced.index = reduced.index.map(lambda x: x.replace('T', 'U'))\n",
    "\n",
    "    #     text = ['{}<br>{}'.format(y, x.split('_')[0]) for x, y  in zip(reduced.index, gene_names)]\n",
    "    trace0 = go.Scatter(x=reduced.iloc[:, 0], y=reduced.iloc[:, 1], mode='markers', name='Motifs',\n",
    "                        marker=dict(size=10, opacity=0.5, color='black'), text=reduced.index)\n",
    "\n",
    "    \n",
    "    lines = []\n",
    "#     print('\\t', metadata.shape)\n",
    "#     metadata = pd.DataFrame(list(data.columns.map(lambda x: x.split('_'))), \n",
    "#                             index=data.columns, columns=['phenotype', 'modality', 'background', 'location'])\n",
    "#     scaling_factor = reduced.apply(np.linalg.norm, axis=1).max()\n",
    "#     for phenotype, phenotype_df in components.groupby(metadata, axis=1):\n",
    "#     #     linestyle = '-'\n",
    "#         if phenotype == 'iPSC':\n",
    "#             linestyle = 'solid'\n",
    "#         elif phenotype == 'NPC':\n",
    "#             linestyle = 'dash'\n",
    "#         else:\n",
    "#             linestyle = 'dot'\n",
    "#         for modality, modality_df in phenotype_df.groupby(study.supplemental.kmer_zscores_metadata['modality'], axis=1):\n",
    "#             palette = map(mpl.colors.rgb2hex, reversed(sns.light_palette(MODALITY_TO_COLOR[modality], n_colors=3)))\n",
    "\n",
    "#             for color, (component, column) in zip(palette, modality_df.iteritems()):\n",
    "#                 x = [0, column[0]*scaling_factor]\n",
    "#                 y = [0, column[1]*scaling_factor]\n",
    "#                 lines.append(go.Scatter(x=x, y=y, mode='lines', name=component, text=component,\n",
    "#                                         line=dict(color=color, width=10, dash=linestyle)))\n",
    "    \n",
    "    plotly_data = [trace0] + lines\n",
    "\n",
    "    layout = go.Layout(\n",
    "    #     autosize=False, width=500, height=500,\n",
    "    title='Modality k-mer z-scores ({})'.format(title),\n",
    "    hovermode='closest',\n",
    "    xaxis=dict(\n",
    "        title='PC 1 explains {:d}% of variance'.format(int(pca.explained_variance_ratio_[0] * 100)),\n",
    "        ticklen=5,\n",
    "        zeroline=False,\n",
    "        gridwidth=0,\n",
    "        ),\n",
    "    yaxis=dict(\n",
    "        title='PC 2 explains {:d}% of variance'.format(int(pca.explained_variance_ratio_[1] * 100)),\n",
    "        ticklen=5,\n",
    "        zeroline=True,\n",
    "        gridwidth=0,\n",
    "        ),\n",
    "    )\n",
    "\n",
    "    fig = go.Figure(data=plotly_data, layout=layout)\n",
    "    return py.iplot(fig, filename='kmer-zscore-pca-background-{}'.format(title))"
   ]
  },
  {
   "cell_type": "code",
   "execution_count": null,
   "metadata": {
    "collapsed": false
   },
   "outputs": [],
   "source": [
    "cd .."
   ]
  },
  {
   "cell_type": "code",
   "execution_count": null,
   "metadata": {
    "collapsed": false
   },
   "outputs": [],
   "source": [
    "%load_ext autoreload\n",
    "%autoreload 2"
   ]
  },
  {
   "cell_type": "code",
   "execution_count": null,
   "metadata": {
    "collapsed": true
   },
   "outputs": [],
   "source": [
    "import common"
   ]
  },
  {
   "cell_type": "code",
   "execution_count": null,
   "metadata": {
    "collapsed": false
   },
   "outputs": [],
   "source": [
    "background = 'constitutive'\n",
    "common.kmer_pcaplot(kmer_zscores[background], \n",
    "                    filename='kmer-zscore-pca-background-{}'.format(background), \n",
    "                    title='Modality K-mer Z-Scores  (background: {})'.format(background),)"
   ]
  },
  {
   "cell_type": "code",
   "execution_count": null,
   "metadata": {
    "collapsed": false
   },
   "outputs": [],
   "source": [
    "background = 'constitutive'\n",
    "kmer_pcaplot(kmer_zscores[background], background, retain=None)"
   ]
  },
  {
   "cell_type": "code",
   "execution_count": null,
   "metadata": {
    "collapsed": false
   },
   "outputs": [],
   "source": [
    "background = 'constitutive'\n",
    "kmer_pcaplot(kmer_zscores[background], background, transpose=True)"
   ]
  },
  {
   "cell_type": "code",
   "execution_count": null,
   "metadata": {
    "collapsed": false
   },
   "outputs": [],
   "source": [
    "background = 'modality'\n",
    "kmer_pcaplot(kmer_zscores[background], background)"
   ]
  },
  {
   "cell_type": "code",
   "execution_count": null,
   "metadata": {
    "collapsed": false
   },
   "outputs": [],
   "source": [
    "background = 'modality'\n",
    "kmer_pcaplot(kmer_zscores[background], background, transpose=True)"
   ]
  },
  {
   "cell_type": "code",
   "execution_count": null,
   "metadata": {
    "collapsed": false
   },
   "outputs": [],
   "source": [
    "background = 'phenotype'\n",
    "kmer_pcaplot(kmer_zscores[background], background)"
   ]
  },
  {
   "cell_type": "code",
   "execution_count": null,
   "metadata": {
    "collapsed": false
   },
   "outputs": [],
   "source": [
    "background = 'phenotype'\n",
    "kmer_pcaplot(kmer_zscores[background], background, transpose=True)"
   ]
  },
  {
   "cell_type": "code",
   "execution_count": null,
   "metadata": {
    "collapsed": false
   },
   "outputs": [],
   "source": [
    "import plotly.plotly as py\n",
    "import plotly.graph_objs as go\n",
    "\n",
    "\n",
    "text = ['{}<br>{}'.format(y, x.split('_')[0]) for x, y  in zip(reduced.index, gene_names)]\n",
    "trace0 = go.Scatter(x=reduced.iloc[:, 0], y=reduced.iloc[:, 1], mode='markers', name='Motifs',\n",
    "                    marker=dict(size=10, opacity=0.5, color='black'), text=text)\n",
    "\n",
    "lines = []\n",
    "scaling_factor = reduced.apply(np.linalg.norm, axis=1).max()\n",
    "for phenotype, phenotype_df in components.groupby(study.supplemental.kmer_zscores_metadata['phenotype'], axis=1):\n",
    "#     linestyle = '-'\n",
    "    if phenotype == 'iPSC':\n",
    "        linestyle = 'solid'\n",
    "    elif phenotype == 'NPC':\n",
    "        linestyle = 'dash'\n",
    "    else:\n",
    "        linestyle = 'dot'\n",
    "    for modality, modality_df in phenotype_df.groupby(study.supplemental.kmer_zscores_metadata['modality'], axis=1):\n",
    "        palette = map(mpl.colors.rgb2hex, reversed(sns.light_palette(MODALITY_TO_COLOR[modality], n_colors=3)))\n",
    "\n",
    "        for color, (component, column) in zip(palette, modality_df.iteritems()):\n",
    "            x = [0, column[0]*scaling_factor]\n",
    "            y = [0, column[1]*scaling_factor]\n",
    "            lines.append(go.Scatter(x=x, y=y, mode='lines', name=component, text=component,\n",
    "                                    line=dict(color=color, width=10, dash=linestyle)))\n",
    "#             print tier, direction, component\n",
    "#             labels.append(component)\n",
    "#             ax.plot([0, column[0]], [0, column[1]], label=component, \n",
    "#                     linewidth=3, \n",
    "#                     color=color, zorder=100, linestyle=linestyle)\n",
    "\n",
    "plotly_data = [trace0] + lines\n",
    "layout = go.Layout(\n",
    "#     autosize=False, width=500, height=500,\n",
    "    title='Motif enrichment in modality k-mers (t-Test)',\n",
    "    hovermode='closest',\n",
    "    xaxis=dict(\n",
    "        title='PC 1 explains {:d}% of variance'.format(int(pca.explained_variance_ratio_[0] * 100)),\n",
    "        ticklen=5,\n",
    "        zeroline=False,\n",
    "        gridwidth=0,\n",
    "    ),\n",
    "    yaxis=dict(\n",
    "        title='PC 2 explains {:d}% of variance'.format(int(pca.explained_variance_ratio_[1] * 100)),\n",
    "        ticklen=5,\n",
    "        zeroline=True,\n",
    "        gridwidth=0,\n",
    "    ),\n",
    ")\n",
    "fig = go.Figure(data=plotly_data, layout=layout)\n",
    "py.iplot(fig, filename='motif-ttest-enrichment-modality-kmers-v3')"
   ]
  },
  {
   "cell_type": "code",
   "execution_count": null,
   "metadata": {
    "collapsed": true
   },
   "outputs": [],
   "source": [
    "for gene_name, (motif, row) in zip(gene_names, reduced.iterrows()):\n",
    "    ax.text(row[0], row[1], gene_name, horizontalalignment='center', clip_on=True,\n",
    "            verticalalignment='center', fontsize=8, alpha=0.75)\n",
    "    \n",
    "components = pd.DataFrame(pca.components_, columns=data.columns)\n",
    "\n",
    "scaling_factor = reduced.apply(np.linalg.norm, axis=1).max()\n",
    "\n",
    "# for color, (component, column) in zip(palette, components.iteritems()):\n",
    "labels = []\n",
    "for phenotype, phenotype_df in components.groupby(study.supplemental.kmer_zscores_metadata['phenotype'], axis=1):\n",
    "#     linestyle = '-'\n",
    "    if phenotype == 'iPSC':\n",
    "        linestyle = '-'\n",
    "    elif phenotype == 'NPC':\n",
    "        linestyle = 'dashed'\n",
    "    else:\n",
    "        linestyle = ':'\n",
    "    for modality, modality_df in phenotype_df.groupby(study.supplemental.kmer_zscores_metadata['modality'], axis=1):\n",
    "        palette = reversed(sns.light_palette(MODALITY_TO_COLOR[modality], n_colors=3))\n",
    "\n",
    "        for color, (component, column) in zip(palette, modality_df.iteritems()):\n",
    "            labels.append(component)\n",
    "            ax.plot([0, column[0]*scaling_factor], \n",
    "                    [0, column[1]*scaling_factor], label=component, \n",
    "                    linewidth=3, \n",
    "                    color=color, zorder=100, linestyle=linestyle)\n",
    "# ax.legend()\n",
    "xmin, ymin = reduced.min()*1.1\n",
    "xmax, ymax = reduced.max()*1.1\n",
    "\n",
    "ax.set(xlim=(xmin, xmax), ylim=(ymin, ymax))\n",
    "fig.tight_layout()\n",
    "sns.despine(bottom=True, left=True)\n",
    "ax.set(xticks=[], yticks=[]);\n",
    "for i, explained_variance in enumerate(pca.explained_variance_ratio_):\n",
    "    if i == 0:\n",
    "        ax.set(xlabel='PC 1 explains {:d}% of variance'.format(int(explained_variance * 100)))\n",
    "    else:\n",
    "        ax.set(ylabel='PC 2 explains {:d}% of variance'.format(int(explained_variance * 100)))\n",
    "fig.savefig('{}/kmer_cisbp_motif_pca.pdf'.format(figure_folder))\n"
   ]
  },
  {
   "cell_type": "code",
   "execution_count": null,
   "metadata": {
    "collapsed": false
   },
   "outputs": [],
   "source": [
    "excluded_bimodal_included_cols = [x for x in t_statistic_homo_sapiens.columns if 'bimodal' in x or 'included' in x or 'excluded' in x]\n",
    "excluded_bimodal_included_cols"
   ]
  },
  {
   "cell_type": "code",
   "execution_count": null,
   "metadata": {
    "collapsed": true
   },
   "outputs": [],
   "source": [
    "t_statistic_excluded_bimodal_included = t_statistic_splicing[excluded_bimodal_included_cols]"
   ]
  },
  {
   "cell_type": "code",
   "execution_count": null,
   "metadata": {
    "collapsed": false
   },
   "outputs": [],
   "source": [
    "excluded_bimodal_included_phenotype_colors = [study.phenotype_to_color[x.split('_')[1]] for x in excluded_bimodal_included_cols]\n",
    "excluded_bimodal_included_modality_colors = [MODALITY_TO_COLOR[x.split('_')[2]] for x in excluded_bimodal_included_cols]\n",
    "excluded_bimodal_included_direction_colors = [direction_to_color[x.split('_')[0].rstrip('nt').rstrip('0123456789')] for x in \n",
    "                                              excluded_bimodal_included_cols]\n",
    "excluded_bimodal_included_intron_colors = pd.DataFrame([excluded_bimodal_included_modality_colors, \n",
    "                                           excluded_bimodal_included_direction_colors, \n",
    "                                           excluded_bimodal_included_phenotype_colors], columns=excluded_bimodal_included_cols)\n",
    "excluded_bimodal_included_intron_colors"
   ]
  },
  {
   "cell_type": "code",
   "execution_count": null,
   "metadata": {
    "collapsed": false,
    "scrolled": false
   },
   "outputs": [],
   "source": [
    "sns.set(style='white')\n",
    "g = sns.clustermap(t_statistic_excluded_bimodal_included, method='ward',\n",
    "                   col_colors=excluded_bimodal_included_intron_colors.values, \n",
    "                   yticklabels=splicing_rbp_names, figsize=(4, 8))\n",
    "g.ax_heatmap.set(xticks=[]);\n",
    "plt.setp(g.ax_heatmap.get_yticklabels(), rotation=0, fontsize=4);\n",
    "g.savefig('{}/t_statistic_excluded_bimodal_included_splicing_clustermap.pdf'.format(figure_folder))"
   ]
  },
  {
   "cell_type": "code",
   "execution_count": null,
   "metadata": {
    "collapsed": false
   },
   "outputs": [],
   "source": [
    "data = t_statistic_excluded_bimodal_included\n",
    "\n",
    "pca = PCA(n_components=2)\n",
    "reduced = pd.DataFrame(pca.fit_transform(data), \n",
    "                       index=data.index)\n",
    "reduced.columns = reduced.columns.map(lambda x: 'component_{}'.format(x))\n",
    "# reduced = reduced\n",
    "print reduced.shape\n",
    "reduced.index = reduced.index.map(lambda x: x.replace('T', 'U'))\n",
    "reduced.head()"
   ]
  },
  {
   "cell_type": "code",
   "execution_count": null,
   "metadata": {
    "collapsed": false
   },
   "outputs": [],
   "source": [
    "gene_names = reduced.index.map(lambda x: x.split('_')[2])\n",
    "gene_names = [study.expression.feature_data.gene_name[x] if x in study.expression.feature_data.index else x for x in gene_names]\n",
    "gene_names = [x if x != 'ENSG00000248163' else 'NOVA1' for x in gene_names]"
   ]
  },
  {
   "cell_type": "code",
   "execution_count": null,
   "metadata": {
    "collapsed": false
   },
   "outputs": [],
   "source": [
    "sns.set(style='ticks')\n",
    "\n",
    "fig, ax = plt.subplots(figsize=(4, 3))\n",
    "# for group1, df1 in reduced.groupby(study.supplemental.tier12_kmer_metadata['Tier']):\n",
    "# ax.plot(reduced.iloc[:, 0], reduced.iloc[:, 1], color='none')\n",
    "for gene_name, (motif, row) in zip(gene_names, reduced.iterrows()):\n",
    "    ax.text(row[0], row[1], gene_name, horizontalalignment='center', clip_on=True,\n",
    "            verticalalignment='center', fontsize=8, alpha=0.75)\n",
    "    \n",
    "components = pd.DataFrame(pca.components_, columns=data.columns)\n",
    "\n",
    "scaling_factor = reduced.apply(np.linalg.norm, axis=1).max()\n",
    "\n",
    "# for color, (component, column) in zip(palette, components.iteritems()):\n",
    "labels = []\n",
    "for phenotype, phenotype_df in components.groupby(study.supplemental.kmer_zscores_metadata['phenotype'], axis=1):\n",
    "#     linestyle = '-'\n",
    "    if phenotype == 'iPSC':\n",
    "        linestyle = '-'\n",
    "    elif phenotype == 'NPC':\n",
    "        linestyle = 'dashed'\n",
    "    else:\n",
    "        linestyle = ':'\n",
    "    for modality, modality_df in phenotype_df.groupby(study.supplemental.kmer_zscores_metadata['modality'], axis=1):\n",
    "        palette = reversed(sns.light_palette(MODALITY_TO_COLOR[modality], n_colors=3))\n",
    "\n",
    "        for color, (component, column) in zip(palette, modality_df.iteritems()):\n",
    "            labels.append(component)\n",
    "            ax.plot([0, column[0]*scaling_factor], \n",
    "                    [0, column[1]*scaling_factor], label=component, \n",
    "                    linewidth=3, \n",
    "                    color=color, zorder=100, linestyle=linestyle)\n",
    "# ax.legend()\n",
    "xmin, ymin = reduced.min()*1.1\n",
    "xmax, ymax = reduced.max()*1.1\n",
    "\n",
    "ax.set(xlim=(xmin, xmax), ylim=(ymin, ymax))\n",
    "fig.tight_layout()\n",
    "sns.despine(bottom=True, left=True)\n",
    "ax.set(xticks=[], yticks=[]);\n",
    "for i, explained_variance in enumerate(pca.explained_variance_ratio_):\n",
    "    if i == 0:\n",
    "        ax.set(xlabel='PC 1 explains {:d}% of variance'.format(int(explained_variance * 100)))\n",
    "    else:\n",
    "        ax.set(ylabel='PC 2 explains {:d}% of variance'.format(int(explained_variance * 100)))\n",
    "fig.savefig('{}/kmer_cisbp_motif_pca.pdf'.format(figure_folder))\n",
    "\n",
    "# ax.set(xlabel='', ylabel='')\n",
    "# quadrants = {'upper_left': dict(xlim=(xmin, 0), ylim=(0, ymax)),\n",
    "#              'upper_right': dict(xlim=(0, xmax), ylim=(0, ymax)),\n",
    "#              'lower_left': dict(xlim=(xmin, 0), ylim=(ymin, 0)),\n",
    "#              'lower_right': dict(xlim=(0, xmax), ylim=(ymin, 0))}\n",
    "# for quadrant, limits in quadrants.items():\n",
    "#     ax.set(**limits)\n",
    "#     fig.savefig('{}/kmer_cisbp_motif_pca_quadrant_{}.pdf'.format(utest_folder, quadrant))\n",
    "\n",
    "# Make legend separately by hand\n",
    "legend_fig, legend_ax = plt.subplots(figsize=(3, 4.25))#, fontdict=dict(fontsize=8))\n",
    "legend_ax.legend(ax.lines, labels, ncol=1, loc='center', fontsize=8);\n",
    "sns.despine(bottom=True, left=True, fig=legend_fig)\n",
    "legend_ax.set(xticks=[], yticks=[]);\n",
    "legend_fig.tight_layout()\n",
    "legend_fig.savefig('{}/kmer_cisbp_motif_pca_legend.pdf'.format(figure_folder))\n"
   ]
  },
  {
   "cell_type": "code",
   "execution_count": null,
   "metadata": {
    "collapsed": false
   },
   "outputs": [],
   "source": [
    "sns.set(style='ticks')\n",
    "\n",
    "fig, ax = plt.subplots(figsize=(4, 3))\n",
    "# for group1, df1 in reduced.groupby(study.supplemental.tier12_kmer_metadata['Tier']):\n",
    "ax.scatter(reduced.iloc[:, 0], reduced.iloc[:, 1], color='k', alpha=0.5)\n",
    "# for gene_name, (motif, row) in zip(gene_names, reduced.iterrows()):\n",
    "#     ax.text(row[0], row[1], gene_name, horizontalalignment='center', clip_on=True,\n",
    "#             verticalalignment='center', fontsize=8, alpha=0.75)\n",
    "    \n",
    "components = pd.DataFrame(pca.components_, columns=data.columns)\n",
    "\n",
    "scaling_factor = reduced.apply(np.linalg.norm, axis=1).max()\n",
    "\n",
    "# for color, (component, column) in zip(palette, components.iteritems()):\n",
    "labels = []\n",
    "for phenotype, phenotype_df in components.groupby(study.supplemental.kmer_zscores_metadata['phenotype'], axis=1):\n",
    "#     linestyle = '-'\n",
    "    if phenotype == 'iPSC':\n",
    "        linestyle = '-'\n",
    "    elif phenotype == 'NPC':\n",
    "        linestyle = 'dashed'\n",
    "    else:\n",
    "        linestyle = ':'\n",
    "    for modality, modality_df in phenotype_df.groupby(study.supplemental.kmer_zscores_metadata['modality'], axis=1):\n",
    "        palette = reversed(sns.light_palette(MODALITY_TO_COLOR[modality], n_colors=3))\n",
    "\n",
    "        for color, (component, column) in zip(palette, modality_df.iteritems()):\n",
    "            labels.append(component)\n",
    "            ax.plot([0, column[0]*scaling_factor], \n",
    "                    [0, column[1]*scaling_factor], label=component, \n",
    "                    linewidth=3, \n",
    "                    color=color, zorder=100, linestyle=linestyle)\n",
    "# ax.legend()\n",
    "xmin, ymin = reduced.min()*1.1\n",
    "xmax, ymax = reduced.max()*1.1\n",
    "\n",
    "ax.set(xlim=(xmin, xmax), ylim=(ymin, ymax))\n",
    "fig.tight_layout()\n",
    "sns.despine(bottom=True, left=True)\n",
    "ax.set(xticks=[], yticks=[]);\n",
    "for i, explained_variance in enumerate(pca.explained_variance_ratio_):\n",
    "    if i == 0:\n",
    "        ax.set(xlabel='PC 1 explains {:d}% of variance'.format(int(explained_variance * 100)))\n",
    "    else:\n",
    "        ax.set(ylabel='PC 2 explains {:d}% of variance'.format(int(explained_variance * 100)))\n",
    "fig.savefig('{}/kmer_cisbp_motif_pca_points.pdf'.format(figure_folder))\n",
    "\n",
    "ax.set(xlabel='', ylabel='')\n",
    "quadrants = {'upper_left': dict(xlim=(xmin, 0), ylim=(0, ymax)),\n",
    "             'upper_right': dict(xlim=(0, xmax), ylim=(0, ymax)),\n",
    "             'lower_left': dict(xlim=(xmin, 0), ylim=(ymin, 0)),\n",
    "             'lower_right': dict(xlim=(0, xmax), ylim=(ymin, 0))}\n",
    "# for quadrant, limits in quadrants.items():\n",
    "#     ax.set(**limits)\n",
    "#     fig.savefig('{}/kmer_cisbp_motif_pca_quadrant_{}_points.pdf'.format(figure_folder, quadrant))\n",
    "\n",
    "# Make legend separately by hand\n",
    "legend_fig, legend_ax = plt.subplots(figsize=(3, 4.25))#, fontdict=dict(fontsize=8))\n",
    "legend_ax.legend(ax.lines, labels, ncol=1, loc='center', fontsize=8);\n",
    "sns.despine(bottom=True, left=True, fig=legend_fig)\n",
    "legend_ax.set(xticks=[], yticks=[]);\n",
    "legend_fig.tight_layout()\n",
    "legend_fig.savefig('{}/kmer_cisbp_motif_pca_legend.pdf'.format(figure_folder))\n"
   ]
  },
  {
   "cell_type": "code",
   "execution_count": null,
   "metadata": {
    "collapsed": true
   },
   "outputs": [],
   "source": [
    "import matplotlib as mpl"
   ]
  },
  {
   "cell_type": "code",
   "execution_count": null,
   "metadata": {
    "collapsed": false
   },
   "outputs": [],
   "source": [
    "import plotly.plotly as py\n",
    "import plotly.graph_objs as go\n",
    "\n",
    "\n",
    "text = ['{}<br>{}'.format(y, x.split('_')[0]) for x, y  in zip(reduced.index, gene_names)]\n",
    "trace0 = go.Scatter(x=reduced.iloc[:, 0], y=reduced.iloc[:, 1], mode='markers', name='Motifs',\n",
    "                    marker=dict(size=10, opacity=0.5, color='black'), text=text)\n",
    "\n",
    "lines = []\n",
    "scaling_factor = reduced.apply(np.linalg.norm, axis=1).max()\n",
    "for phenotype, phenotype_df in components.groupby(study.supplemental.kmer_zscores_metadata['phenotype'], axis=1):\n",
    "#     linestyle = '-'\n",
    "    if phenotype == 'iPSC':\n",
    "        linestyle = 'solid'\n",
    "    elif phenotype == 'NPC':\n",
    "        linestyle = 'dash'\n",
    "    else:\n",
    "        linestyle = 'dot'\n",
    "    for modality, modality_df in phenotype_df.groupby(study.supplemental.kmer_zscores_metadata['modality'], axis=1):\n",
    "        palette = map(mpl.colors.rgb2hex, reversed(sns.light_palette(MODALITY_TO_COLOR[modality], n_colors=3)))\n",
    "\n",
    "        for color, (component, column) in zip(palette, modality_df.iteritems()):\n",
    "            x = [0, column[0]*scaling_factor]\n",
    "            y = [0, column[1]*scaling_factor]\n",
    "            lines.append(go.Scatter(x=x, y=y, mode='lines', name=component, text=component,\n",
    "                                    line=dict(color=color, width=10, dash=linestyle)))\n",
    "#             print tier, direction, component\n",
    "#             labels.append(component)\n",
    "#             ax.plot([0, column[0]], [0, column[1]], label=component, \n",
    "#                     linewidth=3, \n",
    "#                     color=color, zorder=100, linestyle=linestyle)\n",
    "\n",
    "plotly_data = [trace0] + lines\n",
    "layout = go.Layout(\n",
    "#     autosize=False, width=500, height=500,\n",
    "    title='Motif enrichment in modality k-mers (t-Test)',\n",
    "    hovermode='closest',\n",
    "    xaxis=dict(\n",
    "        title='PC 1 explains {:d}% of variance'.format(int(pca.explained_variance_ratio_[0] * 100)),\n",
    "        ticklen=5,\n",
    "        zeroline=False,\n",
    "        gridwidth=0,\n",
    "    ),\n",
    "    yaxis=dict(\n",
    "        title='PC 2 explains {:d}% of variance'.format(int(pca.explained_variance_ratio_[1] * 100)),\n",
    "        ticklen=5,\n",
    "        zeroline=True,\n",
    "        gridwidth=0,\n",
    "    ),\n",
    ")\n",
    "fig = go.Figure(data=plotly_data, layout=layout)\n",
    "py.iplot(fig, filename='motif-ttest-enrichment-modality-kmers-v3')"
   ]
  },
  {
   "cell_type": "code",
   "execution_count": null,
   "metadata": {
    "collapsed": false
   },
   "outputs": [],
   "source": [
    "figure_folder"
   ]
  },
  {
   "cell_type": "code",
   "execution_count": null,
   "metadata": {
    "collapsed": false
   },
   "outputs": [],
   "source": [
    "ax.get_xlim()"
   ]
  },
  {
   "cell_type": "code",
   "execution_count": null,
   "metadata": {
    "collapsed": false
   },
   "outputs": [],
   "source": [
    "reduced.apply(np.linalg.norm, axis=1).max()"
   ]
  },
  {
   "cell_type": "code",
   "execution_count": null,
   "metadata": {
    "collapsed": false
   },
   "outputs": [],
   "source": [
    "components"
   ]
  },
  {
   "cell_type": "code",
   "execution_count": null,
   "metadata": {
    "collapsed": true
   },
   "outputs": [],
   "source": [
    "sns.set?"
   ]
  },
  {
   "cell_type": "code",
   "execution_count": null,
   "metadata": {
    "collapsed": true
   },
   "outputs": [],
   "source": []
  }
 ],
 "metadata": {
  "kernelspec": {
   "display_name": "Python 2",
   "language": "python",
   "name": "python2"
  },
  "language_info": {
   "codemirror_mode": {
    "name": "ipython",
    "version": 2
   },
   "file_extension": ".py",
   "mimetype": "text/x-python",
   "name": "python",
   "nbconvert_exporter": "python",
   "pygments_lexer": "ipython2",
   "version": "2.7.11"
  }
 },
 "nbformat": 4,
 "nbformat_minor": 0
}
