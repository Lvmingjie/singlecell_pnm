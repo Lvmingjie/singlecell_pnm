{
 "cells": [
  {
   "cell_type": "code",
   "execution_count": 6,
   "metadata": {
    "collapsed": false
   },
   "outputs": [
    {
     "name": "stdout",
     "output_type": "stream",
     "text": [
      "The autoreload extension is already loaded. To reload it, use:\n",
      "  %reload_ext autoreload\n",
      "2017-01-05 15:54:17\tReading datapackage from /projects/ps-yeolab/obotvinnik/flotilla_projects/singlecell_pnm_figure2_modalities_rmdup/datapackage.json\n",
      "2017-01-05 15:54:17\tParsing datapackage to create a Study object\n",
      "https://s3-us-west-2.amazonaws.com/flotilla-projects/ercc/ERCC_Controls.txt has not been downloaded before.\n",
      "\tDownloading now to /home/obotvinnik/flotilla_projects/hg19/ERCC_Controls.txt\n",
      "2017-01-05 15:54:37 \tInitializing Study\n",
      "2017-01-05 15:54:37 \tInitializing Predictor configuration manager for Study\n",
      "2017-01-05 15:54:37\tPredictor ExtraTreesClassifier is of type <class 'sklearn.ensemble.forest.ExtraTreesClassifier'>\n",
      "2017-01-05 15:54:37\tAdded ExtraTreesClassifier to default predictors\n",
      "2017-01-05 15:54:37\tPredictor ExtraTreesRegressor is of type <class 'sklearn.ensemble.forest.ExtraTreesRegressor'>\n",
      "2017-01-05 15:54:37\tAdded ExtraTreesRegressor to default predictors\n",
      "2017-01-05 15:54:37\tPredictor GradientBoostingClassifier is of type <class 'sklearn.ensemble.gradient_boosting.GradientBoostingClassifier'>\n",
      "2017-01-05 15:54:37\tAdded GradientBoostingClassifier to default predictors\n",
      "2017-01-05 15:54:37\tPredictor GradientBoostingRegressor is of type <class 'sklearn.ensemble.gradient_boosting.GradientBoostingRegressor'>\n",
      "2017-01-05 15:54:37\tAdded GradientBoostingRegressor to default predictors\n",
      "2017-01-05 15:54:42 \tBuilding Gene Ontology database...\n",
      "2017-01-05 15:54:50 \t\tDone\n",
      "2017-01-05 15:54:50 \tLoading metadata\n",
      "2017-01-05 15:54:50\tLoading expression data\n",
      "2017-01-05 15:54:50\tInitializing expression\n",
      "2017-01-05 15:54:50\tDone initializing expression\n",
      "2017-01-05 15:54:53\tLoading splicing data\n",
      "2017-01-05 15:54:53\tInitializing splicing\n",
      "2017-01-05 15:54:53\tDone initializing splicing\n",
      "2017-01-05 15:54:53\tSuccessfully initialized a Study object!\n"
     ]
    },
    {
     "name": "stderr",
     "output_type": "stream",
     "text": [
      "Error loading species hg19 data: HTTP Error 404: Not Found"
     ]
    }
   ],
   "source": [
    "import matplotlib.pyplot as plt\n",
    "import seaborn as sns\n",
    "import numpy as np\n",
    "import pandas as pd\n",
    "\n",
    "from anchor.visualize import MODALITY_TO_COLOR, MODALITY_ORDER, MODALITY_PALETTE\n",
    "modality_order = MODALITY_ORDER\n",
    "\n",
    "sns.set(style='ticks', context='talk', rc={'font.sans-serif':'Arial', 'pdf.fonttype': 42})\n",
    "\n",
    "%matplotlib inline\n",
    "\n",
    "%load_ext autoreload\n",
    "%autoreload 2\n",
    "\n",
    "folder = 'figures'\n",
    "\n",
    "import flotilla\n",
    "# study = flotilla.embark('singlecell_pnm_figure2_modalities_bayesian_kmers_cisbp', \n",
    "study = flotilla.embark('singlecell_pnm_figure2_modalities_rmdup', \n",
    "                        flotilla_dir='/projects/ps-yeolab/obotvinnik/flotilla_projects/')\n",
    "# study = flotilla.embark('singlecell_pnm_figure1_supplementary_post_splicing_filtering')"
   ]
  },
  {
   "cell_type": "code",
   "execution_count": 7,
   "metadata": {
    "collapsed": false
   },
   "outputs": [
    {
     "data": {
      "text/plain": [
       "10"
      ]
     },
     "execution_count": 7,
     "metadata": {},
     "output_type": "execute_result"
    }
   ],
   "source": [
    "study.splicing.minimum_samples"
   ]
  },
  {
   "cell_type": "code",
   "execution_count": 8,
   "metadata": {
    "collapsed": true
   },
   "outputs": [],
   "source": [
    "not_outliers = study.splicing.singles.index.difference(study.splicing.outliers.index)\n",
    "\n",
    "psi = study.splicing.singles.ix[not_outliers]\n",
    "grouped = psi.groupby(study.sample_id_to_phenotype)\n",
    "psi_filtered = grouped.apply(lambda x: x.dropna(axis=1, thresh=study.splicing.minimum_samples))"
   ]
  },
  {
   "cell_type": "code",
   "execution_count": 9,
   "metadata": {
    "collapsed": false
   },
   "outputs": [
    {
     "data": {
      "text/html": [
       "<div>\n",
       "<table border=\"1\" class=\"dataframe\">\n",
       "  <thead>\n",
       "    <tr style=\"text-align: right;\">\n",
       "      <th></th>\n",
       "      <th>isoform1=junction:chr10:101507148-101514285:+|isoform2=junction:chr10:101507148-101510125:+@exon:chr10:101510126-101510153:+@junction:chr10:101510154-101514285:+</th>\n",
       "      <th>isoform1=junction:chr10:102013297-102019974:-|isoform2=junction:chr10:102016234-102019974:-@exon:chr10:102016019-102016233:-@junction:chr10:102013297-102016018:-</th>\n",
       "      <th>isoform1=junction:chr10:102016234-102020722:-|isoform2=junction:chr10:102020077-102020722:-@exon:chr10:102019975-102020076:-@junction:chr10:102016234-102019974:-</th>\n",
       "      <th>isoform1=junction:chr10:102114390-102120490:+|isoform2=junction:chr10:102114390-102116288:+@exon:chr10:102116289-102116521:+@junction:chr10:102116522-102120490:+</th>\n",
       "      <th>isoform1=junction:chr10:102746733-102747069:-|isoform2=junction:chr10:102746954-102747069:-@exon:chr10:102746847-102746953:-@junction:chr10:102746733-102746846:-</th>\n",
       "      <th>isoform1=junction:chr10:103113986-103190101:+|isoform2=junction:chr10:103113986-103167197:+@novel_exon:chr10:103167198-103167290:+@junction:chr10:103167291-103190101:+</th>\n",
       "      <th>isoform1=junction:chr10:103348158-103360494:+|isoform2=junction:chr10:103348158-103354414:+@exon:chr10:103354415-103354495:+@junction:chr10:103354496-103360494:+</th>\n",
       "      <th>isoform1=junction:chr10:103361094-103368591:+|isoform2=junction:chr10:103361094-103364896:+@exon:chr10:103364897-103364969:+@junction:chr10:103364970-103368591:+</th>\n",
       "      <th>isoform1=junction:chr10:103361094-103369123:+|isoform2=junction:chr10:103361094-103368591:+@exon:chr10:103368592-103368694:+@junction:chr10:103368695-103369123:+</th>\n",
       "      <th>isoform1=junction:chr10:1034468-1041868:+|isoform2=junction:chr10:1034468-1038428:+@exon:chr10:1038429-1038599:+@junction:chr10:1038600-1041868:+</th>\n",
       "      <th>...</th>\n",
       "      <th>isoform1=junction:chrX:85233896-85282494:-|isoform2=junction:chrX:85236814-85282494:-@exon:chrX:85236741-85236813:-@junction:chrX:85233896-85236740:-</th>\n",
       "      <th>isoform1=junction:chrX:85236814-85302487:-|isoform2=junction:chrX:85282562-85302487:-@exon:chrX:85282495-85282561:-@junction:chrX:85236814-85282494:-</th>\n",
       "      <th>isoform1=junction:chrX:9693881-9707524:-|isoform2=junction:chrX:9694017-9707524:-@novel_exon:chrX:9693988-9694016:-@junction:chrX:9693881-9693987:-</th>\n",
       "      <th>isoform1=junction:chrX:99884984-99887481:-|isoform2=junction:chrX:99885864-99887481:-@exon:chrX:99885756-99885863:-@junction:chrX:99884984-99885755:-</th>\n",
       "      <th>isoform1=junction:chrX:99887566-99888927:-|isoform2=junction:chrX:99888537-99888927:-@exon:chrX:99888402-99888536:-@junction:chrX:99887566-99888401:-</th>\n",
       "      <th>isoform1=junction:chrX:99890744-99891604:-|isoform2=junction:chrX:99891205-99891604:-@novel_exon:chrX:99891188-99891204:-@junction:chrX:99890744-99891187:-</th>\n",
       "      <th>isoform1=junction:chrY:15026562-15026978:+|isoform2=junction:chrY:15026562-15026795:+@exon:chrY:15026796-15026894:+@junction:chrY:15026895-15026978:+</th>\n",
       "      <th>isoform1=junction:chrY:15028547-15029314:+|isoform2=junction:chrY:15028547-15028818:+@exon:chrY:15028819-15028972:+@junction:chrY:15028973-15029314:+</th>\n",
       "      <th>isoform1=junction:chrY:2709669-2712117:+|isoform2=junction:chrY:2709669-2710205:+@exon:chrY:2710206-2710283:+@junction:chrY:2710284-2712117:+</th>\n",
       "      <th>isoform1=junction:chrY:2710284-2713686:+|isoform2=junction:chrY:2710284-2712117:+@exon:chrY:2712118-2712298:+@junction:chrY:2712299-2713686:+</th>\n",
       "    </tr>\n",
       "  </thead>\n",
       "  <tbody>\n",
       "    <tr>\n",
       "      <th>CVN_01</th>\n",
       "      <td>NaN</td>\n",
       "      <td>NaN</td>\n",
       "      <td>NaN</td>\n",
       "      <td>1.0</td>\n",
       "      <td>NaN</td>\n",
       "      <td>NaN</td>\n",
       "      <td>1.000000</td>\n",
       "      <td>NaN</td>\n",
       "      <td>1.0</td>\n",
       "      <td>1.0</td>\n",
       "      <td>...</td>\n",
       "      <td>NaN</td>\n",
       "      <td>NaN</td>\n",
       "      <td>NaN</td>\n",
       "      <td>NaN</td>\n",
       "      <td>1.0</td>\n",
       "      <td>0.0</td>\n",
       "      <td>NaN</td>\n",
       "      <td>NaN</td>\n",
       "      <td>NaN</td>\n",
       "      <td>1.0</td>\n",
       "    </tr>\n",
       "    <tr>\n",
       "      <th>CVN_02</th>\n",
       "      <td>NaN</td>\n",
       "      <td>NaN</td>\n",
       "      <td>NaN</td>\n",
       "      <td>NaN</td>\n",
       "      <td>NaN</td>\n",
       "      <td>NaN</td>\n",
       "      <td>1.000000</td>\n",
       "      <td>NaN</td>\n",
       "      <td>NaN</td>\n",
       "      <td>NaN</td>\n",
       "      <td>...</td>\n",
       "      <td>NaN</td>\n",
       "      <td>NaN</td>\n",
       "      <td>NaN</td>\n",
       "      <td>NaN</td>\n",
       "      <td>1.0</td>\n",
       "      <td>NaN</td>\n",
       "      <td>NaN</td>\n",
       "      <td>NaN</td>\n",
       "      <td>NaN</td>\n",
       "      <td>NaN</td>\n",
       "    </tr>\n",
       "    <tr>\n",
       "      <th>CVN_03</th>\n",
       "      <td>NaN</td>\n",
       "      <td>NaN</td>\n",
       "      <td>NaN</td>\n",
       "      <td>NaN</td>\n",
       "      <td>NaN</td>\n",
       "      <td>NaN</td>\n",
       "      <td>1.000000</td>\n",
       "      <td>0.0</td>\n",
       "      <td>1.0</td>\n",
       "      <td>1.0</td>\n",
       "      <td>...</td>\n",
       "      <td>NaN</td>\n",
       "      <td>NaN</td>\n",
       "      <td>NaN</td>\n",
       "      <td>NaN</td>\n",
       "      <td>NaN</td>\n",
       "      <td>NaN</td>\n",
       "      <td>NaN</td>\n",
       "      <td>NaN</td>\n",
       "      <td>NaN</td>\n",
       "      <td>NaN</td>\n",
       "    </tr>\n",
       "    <tr>\n",
       "      <th>CVN_04</th>\n",
       "      <td>NaN</td>\n",
       "      <td>NaN</td>\n",
       "      <td>NaN</td>\n",
       "      <td>NaN</td>\n",
       "      <td>NaN</td>\n",
       "      <td>NaN</td>\n",
       "      <td>1.000000</td>\n",
       "      <td>0.0</td>\n",
       "      <td>1.0</td>\n",
       "      <td>NaN</td>\n",
       "      <td>...</td>\n",
       "      <td>NaN</td>\n",
       "      <td>NaN</td>\n",
       "      <td>NaN</td>\n",
       "      <td>NaN</td>\n",
       "      <td>1.0</td>\n",
       "      <td>0.0</td>\n",
       "      <td>NaN</td>\n",
       "      <td>NaN</td>\n",
       "      <td>1.0</td>\n",
       "      <td>NaN</td>\n",
       "    </tr>\n",
       "    <tr>\n",
       "      <th>CVN_05</th>\n",
       "      <td>NaN</td>\n",
       "      <td>NaN</td>\n",
       "      <td>NaN</td>\n",
       "      <td>1.0</td>\n",
       "      <td>NaN</td>\n",
       "      <td>NaN</td>\n",
       "      <td>0.481481</td>\n",
       "      <td>0.0</td>\n",
       "      <td>1.0</td>\n",
       "      <td>NaN</td>\n",
       "      <td>...</td>\n",
       "      <td>NaN</td>\n",
       "      <td>NaN</td>\n",
       "      <td>NaN</td>\n",
       "      <td>NaN</td>\n",
       "      <td>1.0</td>\n",
       "      <td>0.0</td>\n",
       "      <td>NaN</td>\n",
       "      <td>NaN</td>\n",
       "      <td>1.0</td>\n",
       "      <td>1.0</td>\n",
       "    </tr>\n",
       "  </tbody>\n",
       "</table>\n",
       "<p>5 rows × 4866 columns</p>\n",
       "</div>"
      ],
      "text/plain": [
       "        isoform1=junction:chr10:101507148-101514285:+|isoform2=junction:chr10:101507148-101510125:+@exon:chr10:101510126-101510153:+@junction:chr10:101510154-101514285:+  \\\n",
       "CVN_01                                                NaN                                                                                                                   \n",
       "CVN_02                                                NaN                                                                                                                   \n",
       "CVN_03                                                NaN                                                                                                                   \n",
       "CVN_04                                                NaN                                                                                                                   \n",
       "CVN_05                                                NaN                                                                                                                   \n",
       "\n",
       "        isoform1=junction:chr10:102013297-102019974:-|isoform2=junction:chr10:102016234-102019974:-@exon:chr10:102016019-102016233:-@junction:chr10:102013297-102016018:-  \\\n",
       "CVN_01                                                NaN                                                                                                                   \n",
       "CVN_02                                                NaN                                                                                                                   \n",
       "CVN_03                                                NaN                                                                                                                   \n",
       "CVN_04                                                NaN                                                                                                                   \n",
       "CVN_05                                                NaN                                                                                                                   \n",
       "\n",
       "        isoform1=junction:chr10:102016234-102020722:-|isoform2=junction:chr10:102020077-102020722:-@exon:chr10:102019975-102020076:-@junction:chr10:102016234-102019974:-  \\\n",
       "CVN_01                                                NaN                                                                                                                   \n",
       "CVN_02                                                NaN                                                                                                                   \n",
       "CVN_03                                                NaN                                                                                                                   \n",
       "CVN_04                                                NaN                                                                                                                   \n",
       "CVN_05                                                NaN                                                                                                                   \n",
       "\n",
       "        isoform1=junction:chr10:102114390-102120490:+|isoform2=junction:chr10:102114390-102116288:+@exon:chr10:102116289-102116521:+@junction:chr10:102116522-102120490:+  \\\n",
       "CVN_01                                                1.0                                                                                                                   \n",
       "CVN_02                                                NaN                                                                                                                   \n",
       "CVN_03                                                NaN                                                                                                                   \n",
       "CVN_04                                                NaN                                                                                                                   \n",
       "CVN_05                                                1.0                                                                                                                   \n",
       "\n",
       "        isoform1=junction:chr10:102746733-102747069:-|isoform2=junction:chr10:102746954-102747069:-@exon:chr10:102746847-102746953:-@junction:chr10:102746733-102746846:-  \\\n",
       "CVN_01                                                NaN                                                                                                                   \n",
       "CVN_02                                                NaN                                                                                                                   \n",
       "CVN_03                                                NaN                                                                                                                   \n",
       "CVN_04                                                NaN                                                                                                                   \n",
       "CVN_05                                                NaN                                                                                                                   \n",
       "\n",
       "        isoform1=junction:chr10:103113986-103190101:+|isoform2=junction:chr10:103113986-103167197:+@novel_exon:chr10:103167198-103167290:+@junction:chr10:103167291-103190101:+  \\\n",
       "CVN_01                                                NaN                                                                                                                         \n",
       "CVN_02                                                NaN                                                                                                                         \n",
       "CVN_03                                                NaN                                                                                                                         \n",
       "CVN_04                                                NaN                                                                                                                         \n",
       "CVN_05                                                NaN                                                                                                                         \n",
       "\n",
       "        isoform1=junction:chr10:103348158-103360494:+|isoform2=junction:chr10:103348158-103354414:+@exon:chr10:103354415-103354495:+@junction:chr10:103354496-103360494:+  \\\n",
       "CVN_01                                           1.000000                                                                                                                   \n",
       "CVN_02                                           1.000000                                                                                                                   \n",
       "CVN_03                                           1.000000                                                                                                                   \n",
       "CVN_04                                           1.000000                                                                                                                   \n",
       "CVN_05                                           0.481481                                                                                                                   \n",
       "\n",
       "        isoform1=junction:chr10:103361094-103368591:+|isoform2=junction:chr10:103361094-103364896:+@exon:chr10:103364897-103364969:+@junction:chr10:103364970-103368591:+  \\\n",
       "CVN_01                                                NaN                                                                                                                   \n",
       "CVN_02                                                NaN                                                                                                                   \n",
       "CVN_03                                                0.0                                                                                                                   \n",
       "CVN_04                                                0.0                                                                                                                   \n",
       "CVN_05                                                0.0                                                                                                                   \n",
       "\n",
       "        isoform1=junction:chr10:103361094-103369123:+|isoform2=junction:chr10:103361094-103368591:+@exon:chr10:103368592-103368694:+@junction:chr10:103368695-103369123:+  \\\n",
       "CVN_01                                                1.0                                                                                                                   \n",
       "CVN_02                                                NaN                                                                                                                   \n",
       "CVN_03                                                1.0                                                                                                                   \n",
       "CVN_04                                                1.0                                                                                                                   \n",
       "CVN_05                                                1.0                                                                                                                   \n",
       "\n",
       "        isoform1=junction:chr10:1034468-1041868:+|isoform2=junction:chr10:1034468-1038428:+@exon:chr10:1038429-1038599:+@junction:chr10:1038600-1041868:+  \\\n",
       "CVN_01                                                1.0                                                                                                   \n",
       "CVN_02                                                NaN                                                                                                   \n",
       "CVN_03                                                1.0                                                                                                   \n",
       "CVN_04                                                NaN                                                                                                   \n",
       "CVN_05                                                NaN                                                                                                   \n",
       "\n",
       "                                                                            ...                                                                        \\\n",
       "CVN_01                                                                      ...                                                                         \n",
       "CVN_02                                                                      ...                                                                         \n",
       "CVN_03                                                                      ...                                                                         \n",
       "CVN_04                                                                      ...                                                                         \n",
       "CVN_05                                                                      ...                                                                         \n",
       "\n",
       "        isoform1=junction:chrX:85233896-85282494:-|isoform2=junction:chrX:85236814-85282494:-@exon:chrX:85236741-85236813:-@junction:chrX:85233896-85236740:-  \\\n",
       "CVN_01                                                NaN                                                                                                       \n",
       "CVN_02                                                NaN                                                                                                       \n",
       "CVN_03                                                NaN                                                                                                       \n",
       "CVN_04                                                NaN                                                                                                       \n",
       "CVN_05                                                NaN                                                                                                       \n",
       "\n",
       "        isoform1=junction:chrX:85236814-85302487:-|isoform2=junction:chrX:85282562-85302487:-@exon:chrX:85282495-85282561:-@junction:chrX:85236814-85282494:-  \\\n",
       "CVN_01                                                NaN                                                                                                       \n",
       "CVN_02                                                NaN                                                                                                       \n",
       "CVN_03                                                NaN                                                                                                       \n",
       "CVN_04                                                NaN                                                                                                       \n",
       "CVN_05                                                NaN                                                                                                       \n",
       "\n",
       "        isoform1=junction:chrX:9693881-9707524:-|isoform2=junction:chrX:9694017-9707524:-@novel_exon:chrX:9693988-9694016:-@junction:chrX:9693881-9693987:-  \\\n",
       "CVN_01                                                NaN                                                                                                     \n",
       "CVN_02                                                NaN                                                                                                     \n",
       "CVN_03                                                NaN                                                                                                     \n",
       "CVN_04                                                NaN                                                                                                     \n",
       "CVN_05                                                NaN                                                                                                     \n",
       "\n",
       "        isoform1=junction:chrX:99884984-99887481:-|isoform2=junction:chrX:99885864-99887481:-@exon:chrX:99885756-99885863:-@junction:chrX:99884984-99885755:-  \\\n",
       "CVN_01                                                NaN                                                                                                       \n",
       "CVN_02                                                NaN                                                                                                       \n",
       "CVN_03                                                NaN                                                                                                       \n",
       "CVN_04                                                NaN                                                                                                       \n",
       "CVN_05                                                NaN                                                                                                       \n",
       "\n",
       "        isoform1=junction:chrX:99887566-99888927:-|isoform2=junction:chrX:99888537-99888927:-@exon:chrX:99888402-99888536:-@junction:chrX:99887566-99888401:-  \\\n",
       "CVN_01                                                1.0                                                                                                       \n",
       "CVN_02                                                1.0                                                                                                       \n",
       "CVN_03                                                NaN                                                                                                       \n",
       "CVN_04                                                1.0                                                                                                       \n",
       "CVN_05                                                1.0                                                                                                       \n",
       "\n",
       "        isoform1=junction:chrX:99890744-99891604:-|isoform2=junction:chrX:99891205-99891604:-@novel_exon:chrX:99891188-99891204:-@junction:chrX:99890744-99891187:-  \\\n",
       "CVN_01                                                0.0                                                                                                             \n",
       "CVN_02                                                NaN                                                                                                             \n",
       "CVN_03                                                NaN                                                                                                             \n",
       "CVN_04                                                0.0                                                                                                             \n",
       "CVN_05                                                0.0                                                                                                             \n",
       "\n",
       "        isoform1=junction:chrY:15026562-15026978:+|isoform2=junction:chrY:15026562-15026795:+@exon:chrY:15026796-15026894:+@junction:chrY:15026895-15026978:+  \\\n",
       "CVN_01                                                NaN                                                                                                       \n",
       "CVN_02                                                NaN                                                                                                       \n",
       "CVN_03                                                NaN                                                                                                       \n",
       "CVN_04                                                NaN                                                                                                       \n",
       "CVN_05                                                NaN                                                                                                       \n",
       "\n",
       "        isoform1=junction:chrY:15028547-15029314:+|isoform2=junction:chrY:15028547-15028818:+@exon:chrY:15028819-15028972:+@junction:chrY:15028973-15029314:+  \\\n",
       "CVN_01                                                NaN                                                                                                       \n",
       "CVN_02                                                NaN                                                                                                       \n",
       "CVN_03                                                NaN                                                                                                       \n",
       "CVN_04                                                NaN                                                                                                       \n",
       "CVN_05                                                NaN                                                                                                       \n",
       "\n",
       "        isoform1=junction:chrY:2709669-2712117:+|isoform2=junction:chrY:2709669-2710205:+@exon:chrY:2710206-2710283:+@junction:chrY:2710284-2712117:+  \\\n",
       "CVN_01                                                NaN                                                                                               \n",
       "CVN_02                                                NaN                                                                                               \n",
       "CVN_03                                                NaN                                                                                               \n",
       "CVN_04                                                1.0                                                                                               \n",
       "CVN_05                                                1.0                                                                                               \n",
       "\n",
       "        isoform1=junction:chrY:2710284-2713686:+|isoform2=junction:chrY:2710284-2712117:+@exon:chrY:2712118-2712298:+@junction:chrY:2712299-2713686:+  \n",
       "CVN_01                                                1.0                                                                                              \n",
       "CVN_02                                                NaN                                                                                              \n",
       "CVN_03                                                NaN                                                                                              \n",
       "CVN_04                                                NaN                                                                                              \n",
       "CVN_05                                                1.0                                                                                              \n",
       "\n",
       "[5 rows x 4866 columns]"
      ]
     },
     "execution_count": 9,
     "metadata": {},
     "output_type": "execute_result"
    }
   ],
   "source": [
    "psi_filtered.head()"
   ]
  },
  {
   "cell_type": "markdown",
   "metadata": {},
   "source": [
    "## Calculate *voyage* space via `bon voyage`"
   ]
  },
  {
   "cell_type": "code",
   "execution_count": 10,
   "metadata": {
    "collapsed": false
   },
   "outputs": [
    {
     "name": "stdout",
     "output_type": "stream",
     "text": [
      "CPU times: user 3.51 s, sys: 4 ms, total: 3.51 s\n",
      "Wall time: 3.5 s\n"
     ]
    }
   ],
   "source": [
    "%%time\n",
    "\n",
    "from bonvoyage import Waypoints\n",
    "\n",
    "ws = Waypoints()\n",
    "\n",
    "waypoints = psi_filtered.groupby(study.sample_id_to_phenotype).apply(\n",
    "    lambda x: ws.fit_transform(x.dropna(how='all', axis=1)))"
   ]
  },
  {
   "cell_type": "code",
   "execution_count": 11,
   "metadata": {
    "collapsed": false
   },
   "outputs": [
    {
     "data": {
      "text/plain": [
       "0    1.0\n",
       "1    1.0\n",
       "dtype: float64"
      ]
     },
     "execution_count": 11,
     "metadata": {},
     "output_type": "execute_result"
    }
   ],
   "source": [
    "waypoints.max()"
   ]
  },
  {
   "cell_type": "code",
   "execution_count": 12,
   "metadata": {
    "collapsed": false
   },
   "outputs": [
    {
     "data": {
      "text/plain": [
       "0    0.840892\n",
       "1    0.999990\n",
       "dtype: float64"
      ]
     },
     "execution_count": 12,
     "metadata": {},
     "output_type": "execute_result"
    }
   ],
   "source": [
    "pd.DataFrame(ws.seed_data_transformed).max()"
   ]
  },
  {
   "cell_type": "code",
   "execution_count": 13,
   "metadata": {
    "collapsed": false
   },
   "outputs": [
    {
     "data": {
      "text/plain": [
       "[(u'iPSC', u'NPC'), (u'NPC', u'MN'), ('iPSC', 'MN')]"
      ]
     },
     "execution_count": 13,
     "metadata": {},
     "output_type": "execute_result"
    }
   ],
   "source": [
    "transitions = study.phenotype_transitions + [('iPSC', 'MN')]\n",
    "transitions"
   ]
  },
  {
   "cell_type": "code",
   "execution_count": 14,
   "metadata": {
    "collapsed": false
   },
   "outputs": [
    {
     "data": {
      "text/html": [
       "<div>\n",
       "<table border=\"1\" class=\"dataframe\">\n",
       "  <thead>\n",
       "    <tr style=\"text-align: right;\">\n",
       "      <th></th>\n",
       "      <th>event_id</th>\n",
       "      <th>$\\Delta x$</th>\n",
       "      <th>$\\Delta y$</th>\n",
       "      <th>magnitude</th>\n",
       "      <th>group1</th>\n",
       "      <th>group2</th>\n",
       "      <th>direction</th>\n",
       "      <th>transition</th>\n",
       "    </tr>\n",
       "  </thead>\n",
       "  <tbody>\n",
       "    <tr>\n",
       "      <th>0</th>\n",
       "      <td>isoform1=junction:chr10:102114390-102120490:+|...</td>\n",
       "      <td>0.000000</td>\n",
       "      <td>0.043478</td>\n",
       "      <td>0.043478</td>\n",
       "      <td>iPSC</td>\n",
       "      <td>NPC</td>\n",
       "      <td>$\\nwarrow$</td>\n",
       "      <td>iPSC-NPC</td>\n",
       "    </tr>\n",
       "    <tr>\n",
       "      <th>1</th>\n",
       "      <td>isoform1=junction:chr10:102746733-102747069:-|...</td>\n",
       "      <td>0.012121</td>\n",
       "      <td>-0.012121</td>\n",
       "      <td>0.017142</td>\n",
       "      <td>iPSC</td>\n",
       "      <td>NPC</td>\n",
       "      <td>$\\searrow$</td>\n",
       "      <td>iPSC-NPC</td>\n",
       "    </tr>\n",
       "    <tr>\n",
       "      <th>2</th>\n",
       "      <td>isoform1=junction:chr10:103348158-103360494:+|...</td>\n",
       "      <td>0.000000</td>\n",
       "      <td>-0.032258</td>\n",
       "      <td>0.032258</td>\n",
       "      <td>iPSC</td>\n",
       "      <td>NPC</td>\n",
       "      <td>$\\swarrow$</td>\n",
       "      <td>iPSC-NPC</td>\n",
       "    </tr>\n",
       "    <tr>\n",
       "      <th>3</th>\n",
       "      <td>isoform1=junction:chr10:103361094-103368591:+|...</td>\n",
       "      <td>-0.007143</td>\n",
       "      <td>0.035714</td>\n",
       "      <td>0.036422</td>\n",
       "      <td>iPSC</td>\n",
       "      <td>NPC</td>\n",
       "      <td>$\\nwarrow$</td>\n",
       "      <td>iPSC-NPC</td>\n",
       "    </tr>\n",
       "    <tr>\n",
       "      <th>4</th>\n",
       "      <td>isoform1=junction:chr10:103361094-103369123:+|...</td>\n",
       "      <td>0.043478</td>\n",
       "      <td>-0.043478</td>\n",
       "      <td>0.061488</td>\n",
       "      <td>iPSC</td>\n",
       "      <td>NPC</td>\n",
       "      <td>$\\searrow$</td>\n",
       "      <td>iPSC-NPC</td>\n",
       "    </tr>\n",
       "  </tbody>\n",
       "</table>\n",
       "</div>"
      ],
      "text/plain": [
       "                                            event_id  $\\Delta x$  $\\Delta y$  \\\n",
       "0  isoform1=junction:chr10:102114390-102120490:+|...    0.000000    0.043478   \n",
       "1  isoform1=junction:chr10:102746733-102747069:-|...    0.012121   -0.012121   \n",
       "2  isoform1=junction:chr10:103348158-103360494:+|...    0.000000   -0.032258   \n",
       "3  isoform1=junction:chr10:103361094-103368591:+|...   -0.007143    0.035714   \n",
       "4  isoform1=junction:chr10:103361094-103369123:+|...    0.043478   -0.043478   \n",
       "\n",
       "   magnitude group1 group2   direction transition  \n",
       "0   0.043478   iPSC    NPC  $\\nwarrow$   iPSC-NPC  \n",
       "1   0.017142   iPSC    NPC  $\\searrow$   iPSC-NPC  \n",
       "2   0.032258   iPSC    NPC  $\\swarrow$   iPSC-NPC  \n",
       "3   0.036422   iPSC    NPC  $\\nwarrow$   iPSC-NPC  \n",
       "4   0.061488   iPSC    NPC  $\\searrow$   iPSC-NPC  "
      ]
     },
     "execution_count": 14,
     "metadata": {},
     "output_type": "execute_result"
    }
   ],
   "source": [
    "from bonvoyage.voyages import Voyages\n",
    "\n",
    "v = Voyages()\n",
    "\n",
    "voyages = v.voyages(waypoints, transitions)\n",
    "voyages.head()"
   ]
  },
  {
   "cell_type": "code",
   "execution_count": 15,
   "metadata": {
    "collapsed": false
   },
   "outputs": [
    {
     "data": {
      "text/html": [
       "<div>\n",
       "<table border=\"1\" class=\"dataframe\">\n",
       "  <thead>\n",
       "    <tr style=\"text-align: right;\">\n",
       "      <th></th>\n",
       "      <th>event_id</th>\n",
       "      <th>$\\Delta x$</th>\n",
       "      <th>$\\Delta y$</th>\n",
       "      <th>magnitude</th>\n",
       "      <th>group1</th>\n",
       "      <th>group2</th>\n",
       "      <th>direction</th>\n",
       "      <th>transition</th>\n",
       "    </tr>\n",
       "  </thead>\n",
       "  <tbody>\n",
       "    <tr>\n",
       "      <th>0</th>\n",
       "      <td>isoform1=junction:chr10:102114390-102120490:+|...</td>\n",
       "      <td>0.000000</td>\n",
       "      <td>0.043478</td>\n",
       "      <td>0.043478</td>\n",
       "      <td>iPSC</td>\n",
       "      <td>NPC</td>\n",
       "      <td>$\\nwarrow$</td>\n",
       "      <td>iPSC-NPC</td>\n",
       "    </tr>\n",
       "    <tr>\n",
       "      <th>1</th>\n",
       "      <td>isoform1=junction:chr10:102746733-102747069:-|...</td>\n",
       "      <td>0.012121</td>\n",
       "      <td>-0.012121</td>\n",
       "      <td>0.017142</td>\n",
       "      <td>iPSC</td>\n",
       "      <td>NPC</td>\n",
       "      <td>$\\searrow$</td>\n",
       "      <td>iPSC-NPC</td>\n",
       "    </tr>\n",
       "    <tr>\n",
       "      <th>2</th>\n",
       "      <td>isoform1=junction:chr10:103348158-103360494:+|...</td>\n",
       "      <td>0.000000</td>\n",
       "      <td>-0.032258</td>\n",
       "      <td>0.032258</td>\n",
       "      <td>iPSC</td>\n",
       "      <td>NPC</td>\n",
       "      <td>$\\swarrow$</td>\n",
       "      <td>iPSC-NPC</td>\n",
       "    </tr>\n",
       "    <tr>\n",
       "      <th>3</th>\n",
       "      <td>isoform1=junction:chr10:103361094-103368591:+|...</td>\n",
       "      <td>-0.007143</td>\n",
       "      <td>0.035714</td>\n",
       "      <td>0.036422</td>\n",
       "      <td>iPSC</td>\n",
       "      <td>NPC</td>\n",
       "      <td>$\\nwarrow$</td>\n",
       "      <td>iPSC-NPC</td>\n",
       "    </tr>\n",
       "    <tr>\n",
       "      <th>4</th>\n",
       "      <td>isoform1=junction:chr10:103361094-103369123:+|...</td>\n",
       "      <td>0.043478</td>\n",
       "      <td>-0.043478</td>\n",
       "      <td>0.061488</td>\n",
       "      <td>iPSC</td>\n",
       "      <td>NPC</td>\n",
       "      <td>$\\searrow$</td>\n",
       "      <td>iPSC-NPC</td>\n",
       "    </tr>\n",
       "  </tbody>\n",
       "</table>\n",
       "</div>"
      ],
      "text/plain": [
       "                                            event_id  $\\Delta x$  $\\Delta y$  \\\n",
       "0  isoform1=junction:chr10:102114390-102120490:+|...    0.000000    0.043478   \n",
       "1  isoform1=junction:chr10:102746733-102747069:-|...    0.012121   -0.012121   \n",
       "2  isoform1=junction:chr10:103348158-103360494:+|...    0.000000   -0.032258   \n",
       "3  isoform1=junction:chr10:103361094-103368591:+|...   -0.007143    0.035714   \n",
       "4  isoform1=junction:chr10:103361094-103369123:+|...    0.043478   -0.043478   \n",
       "\n",
       "   magnitude group1 group2   direction transition  \n",
       "0   0.043478   iPSC    NPC  $\\nwarrow$   iPSC-NPC  \n",
       "1   0.017142   iPSC    NPC  $\\searrow$   iPSC-NPC  \n",
       "2   0.032258   iPSC    NPC  $\\swarrow$   iPSC-NPC  \n",
       "3   0.036422   iPSC    NPC  $\\nwarrow$   iPSC-NPC  \n",
       "4   0.061488   iPSC    NPC  $\\searrow$   iPSC-NPC  "
      ]
     },
     "execution_count": 15,
     "metadata": {},
     "output_type": "execute_result"
    }
   ],
   "source": [
    "voyages['transition'] = voyages.group1 + '-' + voyages.group2\n",
    "voyages.head()"
   ]
  },
  {
   "cell_type": "code",
   "execution_count": 16,
   "metadata": {
    "collapsed": false
   },
   "outputs": [
    {
     "data": {
      "text/plain": [
       "(6384, 8)"
      ]
     },
     "execution_count": 16,
     "metadata": {},
     "output_type": "execute_result"
    }
   ],
   "source": [
    "voyages.shape"
   ]
  },
  {
   "cell_type": "markdown",
   "metadata": {},
   "source": [
    "### Add group1 and group2 modalities"
   ]
  },
  {
   "cell_type": "code",
   "execution_count": 17,
   "metadata": {
    "collapsed": false
   },
   "outputs": [
    {
     "data": {
      "text/html": [
       "<div>\n",
       "<table border=\"1\" class=\"dataframe\">\n",
       "  <thead>\n",
       "    <tr style=\"text-align: right;\">\n",
       "      <th></th>\n",
       "      <th>phenotype</th>\n",
       "      <th>event_id</th>\n",
       "      <th>modality</th>\n",
       "    </tr>\n",
       "  </thead>\n",
       "  <tbody>\n",
       "    <tr>\n",
       "      <th>0</th>\n",
       "      <td>MN</td>\n",
       "      <td>isoform1=junction:chr10:102114390-102120490:+|...</td>\n",
       "      <td>included</td>\n",
       "    </tr>\n",
       "    <tr>\n",
       "      <th>1</th>\n",
       "      <td>MN</td>\n",
       "      <td>isoform1=junction:chr10:102746733-102747069:-|...</td>\n",
       "      <td>bimodal</td>\n",
       "    </tr>\n",
       "    <tr>\n",
       "      <th>2</th>\n",
       "      <td>MN</td>\n",
       "      <td>isoform1=junction:chr10:103113986-103190101:+|...</td>\n",
       "      <td>bimodal</td>\n",
       "    </tr>\n",
       "    <tr>\n",
       "      <th>3</th>\n",
       "      <td>MN</td>\n",
       "      <td>isoform1=junction:chr10:103348158-103360494:+|...</td>\n",
       "      <td>included</td>\n",
       "    </tr>\n",
       "    <tr>\n",
       "      <th>4</th>\n",
       "      <td>MN</td>\n",
       "      <td>isoform1=junction:chr10:103361094-103368591:+|...</td>\n",
       "      <td>excluded</td>\n",
       "    </tr>\n",
       "  </tbody>\n",
       "</table>\n",
       "</div>"
      ],
      "text/plain": [
       "  phenotype                                           event_id  modality\n",
       "0        MN  isoform1=junction:chr10:102114390-102120490:+|...  included\n",
       "1        MN  isoform1=junction:chr10:102746733-102747069:-|...   bimodal\n",
       "2        MN  isoform1=junction:chr10:103113986-103190101:+|...   bimodal\n",
       "3        MN  isoform1=junction:chr10:103348158-103360494:+|...  included\n",
       "4        MN  isoform1=junction:chr10:103361094-103368591:+|...  excluded"
      ]
     },
     "execution_count": 17,
     "metadata": {},
     "output_type": "execute_result"
    }
   ],
   "source": [
    "study.supplemental.modalities_tidy.head()"
   ]
  },
  {
   "cell_type": "code",
   "execution_count": 18,
   "metadata": {
    "collapsed": false
   },
   "outputs": [
    {
     "name": "stdout",
     "output_type": "stream",
     "text": [
      "(6384, 10)\n",
      "(6384, 11)\n",
      "(6384, 10)\n"
     ]
    },
    {
     "data": {
      "text/html": [
       "<div>\n",
       "<table border=\"1\" class=\"dataframe\">\n",
       "  <thead>\n",
       "    <tr style=\"text-align: right;\">\n",
       "      <th></th>\n",
       "      <th>event_id</th>\n",
       "      <th>$\\Delta x$</th>\n",
       "      <th>$\\Delta y$</th>\n",
       "      <th>magnitude</th>\n",
       "      <th>group1</th>\n",
       "      <th>group2</th>\n",
       "      <th>direction</th>\n",
       "      <th>transition</th>\n",
       "      <th>group1_modality</th>\n",
       "      <th>group2_modality</th>\n",
       "    </tr>\n",
       "  </thead>\n",
       "  <tbody>\n",
       "    <tr>\n",
       "      <th>0</th>\n",
       "      <td>isoform1=junction:chr10:102114390-102120490:+|...</td>\n",
       "      <td>0.000000</td>\n",
       "      <td>0.043478</td>\n",
       "      <td>0.043478</td>\n",
       "      <td>iPSC</td>\n",
       "      <td>NPC</td>\n",
       "      <td>$\\nwarrow$</td>\n",
       "      <td>iPSC-NPC</td>\n",
       "      <td>included</td>\n",
       "      <td>included</td>\n",
       "    </tr>\n",
       "    <tr>\n",
       "      <th>1</th>\n",
       "      <td>isoform1=junction:chr10:102114390-102120490:+|...</td>\n",
       "      <td>0.000000</td>\n",
       "      <td>0.043478</td>\n",
       "      <td>0.043478</td>\n",
       "      <td>iPSC</td>\n",
       "      <td>MN</td>\n",
       "      <td>$\\nwarrow$</td>\n",
       "      <td>iPSC-MN</td>\n",
       "      <td>included</td>\n",
       "      <td>included</td>\n",
       "    </tr>\n",
       "    <tr>\n",
       "      <th>2</th>\n",
       "      <td>isoform1=junction:chr10:102114390-102120490:+|...</td>\n",
       "      <td>0.000000</td>\n",
       "      <td>0.000000</td>\n",
       "      <td>0.000000</td>\n",
       "      <td>NPC</td>\n",
       "      <td>MN</td>\n",
       "      <td>NaN</td>\n",
       "      <td>NPC-MN</td>\n",
       "      <td>included</td>\n",
       "      <td>included</td>\n",
       "    </tr>\n",
       "    <tr>\n",
       "      <th>3</th>\n",
       "      <td>isoform1=junction:chr10:102746733-102747069:-|...</td>\n",
       "      <td>0.012121</td>\n",
       "      <td>-0.012121</td>\n",
       "      <td>0.017142</td>\n",
       "      <td>iPSC</td>\n",
       "      <td>NPC</td>\n",
       "      <td>$\\searrow$</td>\n",
       "      <td>iPSC-NPC</td>\n",
       "      <td>included</td>\n",
       "      <td>bimodal</td>\n",
       "    </tr>\n",
       "    <tr>\n",
       "      <th>4</th>\n",
       "      <td>isoform1=junction:chr10:102746733-102747069:-|...</td>\n",
       "      <td>0.109524</td>\n",
       "      <td>-0.109524</td>\n",
       "      <td>0.154890</td>\n",
       "      <td>iPSC</td>\n",
       "      <td>MN</td>\n",
       "      <td>$\\searrow$</td>\n",
       "      <td>iPSC-MN</td>\n",
       "      <td>included</td>\n",
       "      <td>bimodal</td>\n",
       "    </tr>\n",
       "  </tbody>\n",
       "</table>\n",
       "</div>"
      ],
      "text/plain": [
       "                                            event_id  $\\Delta x$  $\\Delta y$  \\\n",
       "0  isoform1=junction:chr10:102114390-102120490:+|...    0.000000    0.043478   \n",
       "1  isoform1=junction:chr10:102114390-102120490:+|...    0.000000    0.043478   \n",
       "2  isoform1=junction:chr10:102114390-102120490:+|...    0.000000    0.000000   \n",
       "3  isoform1=junction:chr10:102746733-102747069:-|...    0.012121   -0.012121   \n",
       "4  isoform1=junction:chr10:102746733-102747069:-|...    0.109524   -0.109524   \n",
       "\n",
       "   magnitude group1 group2   direction transition group1_modality  \\\n",
       "0   0.043478   iPSC    NPC  $\\nwarrow$   iPSC-NPC        included   \n",
       "1   0.043478   iPSC     MN  $\\nwarrow$    iPSC-MN        included   \n",
       "2   0.000000    NPC     MN         NaN     NPC-MN        included   \n",
       "3   0.017142   iPSC    NPC  $\\searrow$   iPSC-NPC        included   \n",
       "4   0.154890   iPSC     MN  $\\searrow$    iPSC-MN        included   \n",
       "\n",
       "  group2_modality  \n",
       "0        included  \n",
       "1        included  \n",
       "2        included  \n",
       "3         bimodal  \n",
       "4         bimodal  "
      ]
     },
     "execution_count": 18,
     "metadata": {},
     "output_type": "execute_result"
    }
   ],
   "source": [
    "groups = 'group1', 'group2'\n",
    "voyages_modalities = voyages.copy()\n",
    "\n",
    "for group in groups:\n",
    "    voyages_modalities = voyages_modalities.merge(study.supplemental.modalities_tidy, \n",
    "                                       left_on=[group, 'event_id'], \n",
    "                                       right_on=['phenotype', 'event_id'], copy=False)\n",
    "    print(voyages_modalities.shape)\n",
    "    voyages_modalities = voyages_modalities.drop(['phenotype'], axis=1)\n",
    "    voyages_modalities = voyages_modalities.rename(columns={'modality': '{}_modality'.format(group)})\n",
    "print(voyages_modalities.shape)\n",
    "voyages_modalities.head()"
   ]
  },
  {
   "cell_type": "markdown",
   "metadata": {},
   "source": [
    "## Add the data to the study and save it"
   ]
  },
  {
   "cell_type": "code",
   "execution_count": 19,
   "metadata": {
    "collapsed": true
   },
   "outputs": [],
   "source": [
    "study.supplemental.waypoints = waypoints\n",
    "study.supplemental.voyages = voyages_modalities"
   ]
  },
  {
   "cell_type": "code",
   "execution_count": 20,
   "metadata": {
    "collapsed": false
   },
   "outputs": [
    {
     "name": "stdout",
     "output_type": "stream",
     "text": [
      "Wrote datapackage to /projects/ps-yeolab/obotvinnik/flotilla_projects//singlecell_pnm_figure4_voyages/datapackage.json\n"
     ]
    }
   ],
   "source": [
    "study.save('singlecell_pnm_figure4_voyages', flotilla_dir='/projects/ps-yeolab/obotvinnik/flotilla_projects/')"
   ]
  },
  {
   "cell_type": "code",
   "execution_count": 21,
   "metadata": {
    "collapsed": false
   },
   "outputs": [],
   "source": [
    "# ll /projects/ps-yeolab/obotvinnik/flotilla_projects//singlecell_pnm_figure4_voyages"
   ]
  },
  {
   "cell_type": "code",
   "execution_count": 22,
   "metadata": {
    "collapsed": false
   },
   "outputs": [],
   "source": [
    "# ! md5sum /projects/ps-yeolab/obotvinnik/flotilla_projects/singlecell_pnm_figure4_voyages/*csv"
   ]
  },
  {
   "cell_type": "code",
   "execution_count": null,
   "metadata": {
    "collapsed": true
   },
   "outputs": [],
   "source": []
  }
 ],
 "metadata": {
  "kernelspec": {
   "display_name": "Python 2",
   "language": "python",
   "name": "python2"
  },
  "language_info": {
   "codemirror_mode": {
    "name": "ipython",
    "version": 2
   },
   "file_extension": ".py",
   "mimetype": "text/x-python",
   "name": "python",
   "nbconvert_exporter": "python",
   "pygments_lexer": "ipython2",
   "version": "2.7.11"
  }
 },
 "nbformat": 4,
 "nbformat_minor": 0
}
