{
 "cells": [
  {
   "cell_type": "code",
   "execution_count": 1,
   "metadata": {
    "collapsed": false
   },
   "outputs": [],
   "source": [
    "# mkdir /home/obotvinnik/Dropbox/figures2/singlecell_pnm/figure4_voyages/"
   ]
  },
  {
   "cell_type": "code",
   "execution_count": 1,
   "metadata": {
    "collapsed": false
   },
   "outputs": [
    {
     "name": "stderr",
     "output_type": "stream",
     "text": [
      "/home/obotvinnik/anaconda/lib/python2.7/site-packages/sklearn/cross_validation.py:44: DeprecationWarning: This module was deprecated in version 0.18 in favor of the model_selection module into which all the refactored classes and functions are moved. Also note that the interface of the new CV iterators are different from that of this module. This module will be removed in 0.20.\n",
      "  \"This module will be removed in 0.20.\", DeprecationWarning)\n",
      "/home/obotvinnik/workspace-git/flotilla/flotilla/__init__.py:65: DtypeWarning: Columns (19) have mixed types. Specify dtype option on import or set low_memory=False.\n",
      "  load_species_data=load_species_data)\n"
     ]
    },
    {
     "name": "stdout",
     "output_type": "stream",
     "text": [
      "2017-01-05 15:56:41\tReading datapackage from /projects/ps-yeolab/obotvinnik/flotilla_projects/singlecell_pnm_figure2_modalities_rmdup/datapackage.json\n",
      "2017-01-05 15:56:41\tParsing datapackage to create a Study object\n",
      "https://s3-us-west-2.amazonaws.com/flotilla-projects/ercc/ERCC_Controls.txt has not been downloaded before.\n",
      "\tDownloading now to /home/obotvinnik/flotilla_projects/hg19/ERCC_Controls.txt\n",
      "2017-01-05 15:57:04 \tInitializing Study\n",
      "2017-01-05 15:57:04 \tInitializing Predictor configuration manager for Study\n",
      "2017-01-05 15:57:04\tPredictor ExtraTreesClassifier is of type <class 'sklearn.ensemble.forest.ExtraTreesClassifier'>\n",
      "2017-01-05 15:57:04\tAdded ExtraTreesClassifier to default predictors\n",
      "2017-01-05 15:57:04\tPredictor ExtraTreesRegressor is of type <class 'sklearn.ensemble.forest.ExtraTreesRegressor'>\n",
      "2017-01-05 15:57:04\tAdded ExtraTreesRegressor to default predictors\n",
      "2017-01-05 15:57:04\tPredictor GradientBoostingClassifier is of type <class 'sklearn.ensemble.gradient_boosting.GradientBoostingClassifier'>\n",
      "2017-01-05 15:57:04\tAdded GradientBoostingClassifier to default predictors\n",
      "2017-01-05 15:57:04\tPredictor GradientBoostingRegressor is of type <class 'sklearn.ensemble.gradient_boosting.GradientBoostingRegressor'>\n",
      "2017-01-05 15:57:04\tAdded GradientBoostingRegressor to default predictors\n",
      "2017-01-05 15:57:08 \tBuilding Gene Ontology database...\n",
      "2017-01-05 15:57:16 \t\tDone\n",
      "2017-01-05 15:57:16 \tLoading metadata\n",
      "2017-01-05 15:57:16\tLoading expression data\n",
      "2017-01-05 15:57:16\tInitializing expression\n",
      "2017-01-05 15:57:17\tDone initializing expression\n",
      "2017-01-05 15:57:19\tLoading splicing data\n",
      "2017-01-05 15:57:19\tInitializing splicing\n",
      "2017-01-05 15:57:19\tDone initializing splicing\n",
      "2017-01-05 15:57:19\tSuccessfully initialized a Study object!\n"
     ]
    },
    {
     "name": "stderr",
     "output_type": "stream",
     "text": [
      "Error loading species hg19 data: HTTP Error 404: Not Found"
     ]
    }
   ],
   "source": [
    "import six\n",
    "\n",
    "import matplotlib.pyplot as plt\n",
    "import seaborn as sns\n",
    "import numpy as np\n",
    "import pandas as pd\n",
    "\n",
    "from anchor.visualize import MODALITY_TO_COLOR, MODALITY_ORDER, MODALITY_PALETTE\n",
    "modality_order = MODALITY_ORDER\n",
    "\n",
    "sns.set(style='ticks', context='paper', rc={'font.sans-serif':'Arial', 'pdf.fonttype': 42})\n",
    "\n",
    "%matplotlib inline\n",
    "\n",
    "%load_ext autoreload\n",
    "%autoreload 2\n",
    "\n",
    "folder = 'figures' #'/home/obotvinnik/Dropbox/figures2/singlecell_pnm/figure4_voyages'\n",
    "\n",
    "import flotilla\n",
    "study = flotilla.embark('singlecell_pnm_figure2_modalities_rmdup', \n",
    "# study = flotilla.embark('singlecell_pnm_figure2_modalities_bayesian', \n",
    "                        flotilla_dir='/projects/ps-yeolab/obotvinnik/flotilla_projects/')\n",
    "# study = flotilla.embark('singlecell_pnm_figure1_supplementary_post_splicing_filtering')"
   ]
  },
  {
   "cell_type": "code",
   "execution_count": 2,
   "metadata": {
    "collapsed": true
   },
   "outputs": [],
   "source": [
    "figure_folder = 'figures/001_modality_transitions_heatmaps_barplots'"
   ]
  },
  {
   "cell_type": "code",
   "execution_count": 3,
   "metadata": {
    "collapsed": false
   },
   "outputs": [],
   "source": [
    "# mkdir $folder"
   ]
  },
  {
   "cell_type": "code",
   "execution_count": 4,
   "metadata": {
    "collapsed": false
   },
   "outputs": [
    {
     "data": {
      "text/html": [
       "<div>\n",
       "<table border=\"1\" class=\"dataframe\">\n",
       "  <thead>\n",
       "    <tr style=\"text-align: right;\">\n",
       "      <th></th>\n",
       "      <th>phenotype_x</th>\n",
       "      <th>event_id</th>\n",
       "      <th>modality_x</th>\n",
       "      <th>phenotype_y</th>\n",
       "      <th>modality_y</th>\n",
       "    </tr>\n",
       "  </thead>\n",
       "  <tbody>\n",
       "    <tr>\n",
       "      <th>0</th>\n",
       "      <td>MN</td>\n",
       "      <td>isoform1=junction:chr10:102114390-102120490:+|...</td>\n",
       "      <td>included</td>\n",
       "      <td>MN</td>\n",
       "      <td>included</td>\n",
       "    </tr>\n",
       "    <tr>\n",
       "      <th>1</th>\n",
       "      <td>MN</td>\n",
       "      <td>isoform1=junction:chr10:102114390-102120490:+|...</td>\n",
       "      <td>included</td>\n",
       "      <td>NPC</td>\n",
       "      <td>included</td>\n",
       "    </tr>\n",
       "    <tr>\n",
       "      <th>2</th>\n",
       "      <td>MN</td>\n",
       "      <td>isoform1=junction:chr10:102114390-102120490:+|...</td>\n",
       "      <td>included</td>\n",
       "      <td>iPSC</td>\n",
       "      <td>included</td>\n",
       "    </tr>\n",
       "    <tr>\n",
       "      <th>3</th>\n",
       "      <td>NPC</td>\n",
       "      <td>isoform1=junction:chr10:102114390-102120490:+|...</td>\n",
       "      <td>included</td>\n",
       "      <td>MN</td>\n",
       "      <td>included</td>\n",
       "    </tr>\n",
       "    <tr>\n",
       "      <th>4</th>\n",
       "      <td>NPC</td>\n",
       "      <td>isoform1=junction:chr10:102114390-102120490:+|...</td>\n",
       "      <td>included</td>\n",
       "      <td>NPC</td>\n",
       "      <td>included</td>\n",
       "    </tr>\n",
       "  </tbody>\n",
       "</table>\n",
       "</div>"
      ],
      "text/plain": [
       "  phenotype_x                                           event_id modality_x  \\\n",
       "0          MN  isoform1=junction:chr10:102114390-102120490:+|...   included   \n",
       "1          MN  isoform1=junction:chr10:102114390-102120490:+|...   included   \n",
       "2          MN  isoform1=junction:chr10:102114390-102120490:+|...   included   \n",
       "3         NPC  isoform1=junction:chr10:102114390-102120490:+|...   included   \n",
       "4         NPC  isoform1=junction:chr10:102114390-102120490:+|...   included   \n",
       "\n",
       "  phenotype_y modality_y  \n",
       "0          MN   included  \n",
       "1         NPC   included  \n",
       "2        iPSC   included  \n",
       "3          MN   included  \n",
       "4         NPC   included  "
      ]
     },
     "execution_count": 4,
     "metadata": {},
     "output_type": "execute_result"
    }
   ],
   "source": [
    "modality_transitions = study.supplemental.modalities_tidy.merge(\n",
    "    study.supplemental.modalities_tidy, left_on='event_id', right_on='event_id')\n",
    "modality_transitions.head()"
   ]
  },
  {
   "cell_type": "code",
   "execution_count": 5,
   "metadata": {
    "collapsed": false
   },
   "outputs": [
    {
     "data": {
      "text/html": [
       "<div>\n",
       "<table border=\"1\" class=\"dataframe\">\n",
       "  <thead>\n",
       "    <tr style=\"text-align: right;\">\n",
       "      <th></th>\n",
       "      <th>phenotype_x</th>\n",
       "      <th>event_id</th>\n",
       "      <th>modality_x</th>\n",
       "      <th>phenotype_y</th>\n",
       "      <th>modality_y</th>\n",
       "      <th>transition</th>\n",
       "    </tr>\n",
       "  </thead>\n",
       "  <tbody>\n",
       "    <tr>\n",
       "      <th>0</th>\n",
       "      <td>MN</td>\n",
       "      <td>isoform1=junction:chr10:102114390-102120490:+|...</td>\n",
       "      <td>included</td>\n",
       "      <td>MN</td>\n",
       "      <td>included</td>\n",
       "      <td>MN-MN</td>\n",
       "    </tr>\n",
       "    <tr>\n",
       "      <th>1</th>\n",
       "      <td>MN</td>\n",
       "      <td>isoform1=junction:chr10:102114390-102120490:+|...</td>\n",
       "      <td>included</td>\n",
       "      <td>NPC</td>\n",
       "      <td>included</td>\n",
       "      <td>MN-NPC</td>\n",
       "    </tr>\n",
       "    <tr>\n",
       "      <th>2</th>\n",
       "      <td>MN</td>\n",
       "      <td>isoform1=junction:chr10:102114390-102120490:+|...</td>\n",
       "      <td>included</td>\n",
       "      <td>iPSC</td>\n",
       "      <td>included</td>\n",
       "      <td>MN-iPSC</td>\n",
       "    </tr>\n",
       "    <tr>\n",
       "      <th>3</th>\n",
       "      <td>NPC</td>\n",
       "      <td>isoform1=junction:chr10:102114390-102120490:+|...</td>\n",
       "      <td>included</td>\n",
       "      <td>MN</td>\n",
       "      <td>included</td>\n",
       "      <td>NPC-MN</td>\n",
       "    </tr>\n",
       "    <tr>\n",
       "      <th>4</th>\n",
       "      <td>NPC</td>\n",
       "      <td>isoform1=junction:chr10:102114390-102120490:+|...</td>\n",
       "      <td>included</td>\n",
       "      <td>NPC</td>\n",
       "      <td>included</td>\n",
       "      <td>NPC-NPC</td>\n",
       "    </tr>\n",
       "  </tbody>\n",
       "</table>\n",
       "</div>"
      ],
      "text/plain": [
       "  phenotype_x                                           event_id modality_x  \\\n",
       "0          MN  isoform1=junction:chr10:102114390-102120490:+|...   included   \n",
       "1          MN  isoform1=junction:chr10:102114390-102120490:+|...   included   \n",
       "2          MN  isoform1=junction:chr10:102114390-102120490:+|...   included   \n",
       "3         NPC  isoform1=junction:chr10:102114390-102120490:+|...   included   \n",
       "4         NPC  isoform1=junction:chr10:102114390-102120490:+|...   included   \n",
       "\n",
       "  phenotype_y modality_y transition  \n",
       "0          MN   included      MN-MN  \n",
       "1         NPC   included     MN-NPC  \n",
       "2        iPSC   included    MN-iPSC  \n",
       "3          MN   included     NPC-MN  \n",
       "4         NPC   included    NPC-NPC  "
      ]
     },
     "execution_count": 5,
     "metadata": {},
     "output_type": "execute_result"
    }
   ],
   "source": [
    "modality_transitions['transition'] = modality_transitions['phenotype_x'] + '-' + modality_transitions['phenotype_y']\n",
    "modality_transitions.head()"
   ]
  },
  {
   "cell_type": "code",
   "execution_count": 6,
   "metadata": {
    "collapsed": true
   },
   "outputs": [],
   "source": [
    "transitions_of_interest = ['iPSC-NPC', 'iPSC-MN']"
   ]
  },
  {
   "cell_type": "code",
   "execution_count": 7,
   "metadata": {
    "collapsed": false
   },
   "outputs": [
    {
     "data": {
      "text/html": [
       "<div>\n",
       "<table border=\"1\" class=\"dataframe\">\n",
       "  <thead>\n",
       "    <tr style=\"text-align: right;\">\n",
       "      <th></th>\n",
       "      <th>phenotype_x</th>\n",
       "      <th>event_id</th>\n",
       "      <th>modality_x</th>\n",
       "      <th>phenotype_y</th>\n",
       "      <th>modality_y</th>\n",
       "      <th>transition</th>\n",
       "    </tr>\n",
       "  </thead>\n",
       "  <tbody>\n",
       "    <tr>\n",
       "      <th>6</th>\n",
       "      <td>iPSC</td>\n",
       "      <td>isoform1=junction:chr10:102114390-102120490:+|...</td>\n",
       "      <td>included</td>\n",
       "      <td>MN</td>\n",
       "      <td>included</td>\n",
       "      <td>iPSC-MN</td>\n",
       "    </tr>\n",
       "    <tr>\n",
       "      <th>7</th>\n",
       "      <td>iPSC</td>\n",
       "      <td>isoform1=junction:chr10:102114390-102120490:+|...</td>\n",
       "      <td>included</td>\n",
       "      <td>NPC</td>\n",
       "      <td>included</td>\n",
       "      <td>iPSC-NPC</td>\n",
       "    </tr>\n",
       "    <tr>\n",
       "      <th>15</th>\n",
       "      <td>iPSC</td>\n",
       "      <td>isoform1=junction:chr10:102746733-102747069:-|...</td>\n",
       "      <td>included</td>\n",
       "      <td>MN</td>\n",
       "      <td>bimodal</td>\n",
       "      <td>iPSC-MN</td>\n",
       "    </tr>\n",
       "    <tr>\n",
       "      <th>16</th>\n",
       "      <td>iPSC</td>\n",
       "      <td>isoform1=junction:chr10:102746733-102747069:-|...</td>\n",
       "      <td>included</td>\n",
       "      <td>NPC</td>\n",
       "      <td>bimodal</td>\n",
       "      <td>iPSC-NPC</td>\n",
       "    </tr>\n",
       "    <tr>\n",
       "      <th>25</th>\n",
       "      <td>iPSC</td>\n",
       "      <td>isoform1=junction:chr10:103348158-103360494:+|...</td>\n",
       "      <td>included</td>\n",
       "      <td>MN</td>\n",
       "      <td>included</td>\n",
       "      <td>iPSC-MN</td>\n",
       "    </tr>\n",
       "  </tbody>\n",
       "</table>\n",
       "</div>"
      ],
      "text/plain": [
       "   phenotype_x                                           event_id modality_x  \\\n",
       "6         iPSC  isoform1=junction:chr10:102114390-102120490:+|...   included   \n",
       "7         iPSC  isoform1=junction:chr10:102114390-102120490:+|...   included   \n",
       "15        iPSC  isoform1=junction:chr10:102746733-102747069:-|...   included   \n",
       "16        iPSC  isoform1=junction:chr10:102746733-102747069:-|...   included   \n",
       "25        iPSC  isoform1=junction:chr10:103348158-103360494:+|...   included   \n",
       "\n",
       "   phenotype_y modality_y transition  \n",
       "6           MN   included    iPSC-MN  \n",
       "7          NPC   included   iPSC-NPC  \n",
       "15          MN    bimodal    iPSC-MN  \n",
       "16         NPC    bimodal   iPSC-NPC  \n",
       "25          MN   included    iPSC-MN  "
      ]
     },
     "execution_count": 7,
     "metadata": {},
     "output_type": "execute_result"
    }
   ],
   "source": [
    "modality_transitions_subset = modality_transitions.query('transition in @transitions_of_interest')\n",
    "modality_transitions_subset.head()"
   ]
  },
  {
   "cell_type": "code",
   "execution_count": 8,
   "metadata": {
    "collapsed": false
   },
   "outputs": [
    {
     "data": {
      "text/html": [
       "<div>\n",
       "<table border=\"1\" class=\"dataframe\">\n",
       "  <thead>\n",
       "    <tr style=\"text-align: right;\">\n",
       "      <th></th>\n",
       "      <th>phenotype_x</th>\n",
       "      <th>event_id</th>\n",
       "      <th>modality_x</th>\n",
       "      <th>phenotype_y</th>\n",
       "      <th>modality_y</th>\n",
       "      <th>transition</th>\n",
       "    </tr>\n",
       "  </thead>\n",
       "  <tbody>\n",
       "    <tr>\n",
       "      <th>6</th>\n",
       "      <td>iPSC</td>\n",
       "      <td>isoform1=junction:chr10:102114390-102120490:+|...</td>\n",
       "      <td>included</td>\n",
       "      <td>MN</td>\n",
       "      <td>included</td>\n",
       "      <td>iPSC-MN</td>\n",
       "    </tr>\n",
       "    <tr>\n",
       "      <th>7</th>\n",
       "      <td>iPSC</td>\n",
       "      <td>isoform1=junction:chr10:102114390-102120490:+|...</td>\n",
       "      <td>included</td>\n",
       "      <td>NPC</td>\n",
       "      <td>included</td>\n",
       "      <td>iPSC-NPC</td>\n",
       "    </tr>\n",
       "    <tr>\n",
       "      <th>15</th>\n",
       "      <td>iPSC</td>\n",
       "      <td>isoform1=junction:chr10:102746733-102747069:-|...</td>\n",
       "      <td>included</td>\n",
       "      <td>MN</td>\n",
       "      <td>bimodal</td>\n",
       "      <td>iPSC-MN</td>\n",
       "    </tr>\n",
       "    <tr>\n",
       "      <th>16</th>\n",
       "      <td>iPSC</td>\n",
       "      <td>isoform1=junction:chr10:102746733-102747069:-|...</td>\n",
       "      <td>included</td>\n",
       "      <td>NPC</td>\n",
       "      <td>bimodal</td>\n",
       "      <td>iPSC-NPC</td>\n",
       "    </tr>\n",
       "    <tr>\n",
       "      <th>25</th>\n",
       "      <td>iPSC</td>\n",
       "      <td>isoform1=junction:chr10:103348158-103360494:+|...</td>\n",
       "      <td>included</td>\n",
       "      <td>MN</td>\n",
       "      <td>included</td>\n",
       "      <td>iPSC-MN</td>\n",
       "    </tr>\n",
       "  </tbody>\n",
       "</table>\n",
       "</div>"
      ],
      "text/plain": [
       "   phenotype_x                                           event_id modality_x  \\\n",
       "6         iPSC  isoform1=junction:chr10:102114390-102120490:+|...   included   \n",
       "7         iPSC  isoform1=junction:chr10:102114390-102120490:+|...   included   \n",
       "15        iPSC  isoform1=junction:chr10:102746733-102747069:-|...   included   \n",
       "16        iPSC  isoform1=junction:chr10:102746733-102747069:-|...   included   \n",
       "25        iPSC  isoform1=junction:chr10:103348158-103360494:+|...   included   \n",
       "\n",
       "   phenotype_y modality_y transition  \n",
       "6           MN   included    iPSC-MN  \n",
       "7          NPC   included   iPSC-NPC  \n",
       "15          MN    bimodal    iPSC-MN  \n",
       "16         NPC    bimodal   iPSC-NPC  \n",
       "25          MN   included    iPSC-MN  "
      ]
     },
     "execution_count": 8,
     "metadata": {},
     "output_type": "execute_result"
    }
   ],
   "source": [
    "modality_transitions_subset.head()"
   ]
  },
  {
   "cell_type": "code",
   "execution_count": 9,
   "metadata": {
    "collapsed": false
   },
   "outputs": [
    {
     "data": {
      "text/plain": [
       "(1855,)"
      ]
     },
     "execution_count": 9,
     "metadata": {},
     "output_type": "execute_result"
    }
   ],
   "source": [
    "modality_transitions_subset.query('transition == \"iPSC-MN\"')['event_id'].unique().shape"
   ]
  },
  {
   "cell_type": "code",
   "execution_count": 10,
   "metadata": {
    "collapsed": false
   },
   "outputs": [
    {
     "data": {
      "text/plain": [
       "3681"
      ]
     },
     "execution_count": 10,
     "metadata": {},
     "output_type": "execute_result"
    }
   ],
   "source": [
    "(modality_transitions_subset.modality_x == modality_transitions_subset.modality_y).sum()"
   ]
  },
  {
   "cell_type": "code",
   "execution_count": 11,
   "metadata": {
    "collapsed": false
   },
   "outputs": [
    {
     "name": "stdout",
     "output_type": "stream",
     "text": [
      "558 361\n"
     ]
    }
   ],
   "source": [
    "ipsc_mn_changing_events = set(modality_transitions_subset.query(\n",
    "        '(transition == \"iPSC-MN\") & (modality_x != modality_y)')['event_id'])\n",
    "ipsc_npc_changing_events = set(modality_transitions_subset.query(\n",
    "        '(transition == \"iPSC-NPC\") & (modality_x != modality_y)')['event_id'])\n",
    "six.print_(len(ipsc_npc_changing_events), len(ipsc_mn_changing_events))"
   ]
  },
  {
   "cell_type": "markdown",
   "metadata": {},
   "source": [
    "## GO enrichment"
   ]
  },
  {
   "cell_type": "code",
   "execution_count": 12,
   "metadata": {
    "collapsed": true
   },
   "outputs": [],
   "source": [
    "study.splicing.feature_expression_id_col = 'ensembl_id'"
   ]
  },
  {
   "cell_type": "code",
   "execution_count": 13,
   "metadata": {
    "collapsed": false
   },
   "outputs": [
    {
     "ename": "ValueError",
     "evalue": "Features of interest and background do not overlap! Not calculating GO enrichment",
     "output_type": "error",
     "traceback": [
      "\u001b[1;31m---------------------------------------------------------------------------\u001b[0m",
      "\u001b[1;31mValueError\u001b[0m                                Traceback (most recent call last)",
      "\u001b[1;32m<ipython-input-13-2a698cf73c26>\u001b[0m in \u001b[0;36m<module>\u001b[1;34m()\u001b[0m\n\u001b[0;32m      8\u001b[0m     \u001b[0mbackground\u001b[0m \u001b[1;33m=\u001b[0m \u001b[0mstudy\u001b[0m\u001b[1;33m.\u001b[0m\u001b[0msplicing\u001b[0m\u001b[1;33m.\u001b[0m\u001b[0msplicing_to_expression_id\u001b[0m\u001b[1;33m(\u001b[0m\u001b[0mbackground_events\u001b[0m\u001b[1;33m)\u001b[0m\u001b[1;33m\u001b[0m\u001b[0m\n\u001b[0;32m      9\u001b[0m \u001b[1;33m\u001b[0m\u001b[0m\n\u001b[1;32m---> 10\u001b[1;33m     \u001b[0mgo_df\u001b[0m \u001b[1;33m=\u001b[0m \u001b[0mstudy\u001b[0m\u001b[1;33m.\u001b[0m\u001b[0mgo_enrichment\u001b[0m\u001b[1;33m(\u001b[0m\u001b[0mforeground\u001b[0m\u001b[1;33m,\u001b[0m \u001b[0mbackground\u001b[0m\u001b[1;33m,\u001b[0m \u001b[0mdomain\u001b[0m\u001b[1;33m=\u001b[0m\u001b[1;34m'biological_process'\u001b[0m\u001b[1;33m)\u001b[0m\u001b[1;33m\u001b[0m\u001b[0m\n\u001b[0m\u001b[0;32m     11\u001b[0m \u001b[1;33m\u001b[0m\u001b[0m\n\u001b[0;32m     12\u001b[0m \u001b[1;33m\u001b[0m\u001b[0m\n",
      "\u001b[1;32m/home/obotvinnik/workspace-git/flotilla/flotilla/study.pyc\u001b[0m in \u001b[0;36mgo_enrichment\u001b[1;34m(self, feature_ids, background, domain, p_value_cutoff, min_feature_size, min_background_size)\u001b[0m\n\u001b[0;32m   1736\u001b[0m             \u001b[0mdomain\u001b[0m\u001b[1;33m=\u001b[0m\u001b[0mdomain\u001b[0m\u001b[1;33m,\u001b[0m \u001b[0mp_value_cutoff\u001b[0m\u001b[1;33m=\u001b[0m\u001b[0mp_value_cutoff\u001b[0m\u001b[1;33m,\u001b[0m\u001b[1;33m\u001b[0m\u001b[0m\n\u001b[0;32m   1737\u001b[0m             \u001b[0mmin_feature_size\u001b[0m\u001b[1;33m=\u001b[0m\u001b[0mmin_feature_size\u001b[0m\u001b[1;33m,\u001b[0m\u001b[1;33m\u001b[0m\u001b[0m\n\u001b[1;32m-> 1738\u001b[1;33m             min_background_size=min_background_size)\n\u001b[0m\u001b[0;32m   1739\u001b[0m \u001b[1;33m\u001b[0m\u001b[0m\n\u001b[0;32m   1740\u001b[0m \u001b[1;31m# Add interactive visualizations\u001b[0m\u001b[1;33m\u001b[0m\u001b[1;33m\u001b[0m\u001b[0m\n",
      "\u001b[1;32m/home/obotvinnik/workspace-git/flotilla/flotilla/data_model/gene_ontology.pyc\u001b[0m in \u001b[0;36menrichment\u001b[1;34m(self, features_of_interest, background, p_value_cutoff, cross_reference, min_feature_size, min_background_size, domain)\u001b[0m\n\u001b[0;32m    108\u001b[0m         \u001b[0mbackground\u001b[0m \u001b[1;33m=\u001b[0m \u001b[0mself\u001b[0m\u001b[1;33m.\u001b[0m\u001b[0mall_genes\u001b[0m \u001b[1;32mif\u001b[0m \u001b[0mbackground\u001b[0m \u001b[1;32mis\u001b[0m \u001b[0mNone\u001b[0m \u001b[1;32melse\u001b[0m \u001b[0mbackground\u001b[0m\u001b[1;33m\u001b[0m\u001b[0m\n\u001b[0;32m    109\u001b[0m         \u001b[1;32mif\u001b[0m \u001b[0mlen\u001b[0m\u001b[1;33m(\u001b[0m\u001b[0mset\u001b[0m\u001b[1;33m(\u001b[0m\u001b[0mbackground\u001b[0m\u001b[1;33m)\u001b[0m \u001b[1;33m&\u001b[0m \u001b[0mset\u001b[0m\u001b[1;33m(\u001b[0m\u001b[0mfeatures_of_interest\u001b[0m\u001b[1;33m)\u001b[0m\u001b[1;33m)\u001b[0m \u001b[1;33m==\u001b[0m \u001b[1;36m0\u001b[0m\u001b[1;33m:\u001b[0m\u001b[1;33m\u001b[0m\u001b[0m\n\u001b[1;32m--> 110\u001b[1;33m             raise ValueError('Features of interest and background do not '\n\u001b[0m\u001b[0;32m    111\u001b[0m                              'overlap! Not calculating GO enrichment')\n\u001b[0;32m    112\u001b[0m         \u001b[1;32mif\u001b[0m \u001b[0mlen\u001b[0m\u001b[1;33m(\u001b[0m\u001b[0mset\u001b[0m\u001b[1;33m(\u001b[0m\u001b[0mfeatures_of_interest\u001b[0m\u001b[1;33m)\u001b[0m \u001b[1;33m&\u001b[0m \u001b[0mset\u001b[0m\u001b[1;33m(\u001b[0m\u001b[0mself\u001b[0m\u001b[1;33m.\u001b[0m\u001b[0mall_genes\u001b[0m\u001b[1;33m)\u001b[0m\u001b[1;33m)\u001b[0m \u001b[1;33m==\u001b[0m \u001b[1;36m0\u001b[0m\u001b[1;33m:\u001b[0m\u001b[1;33m\u001b[0m\u001b[0m\n",
      "\u001b[1;31mValueError\u001b[0m: Features of interest and background do not overlap! Not calculating GO enrichment"
     ]
    }
   ],
   "source": [
    "go_dfs = []\n",
    "\n",
    "for transition, df in modality_transitions_subset.groupby('transition'):\n",
    "    background_events = df['event_id']\n",
    "    foreground_events = background_events.loc[df.modality_x != df.modality_y]\n",
    "    \n",
    "    foreground = study.splicing.splicing_to_expression_id(foreground_events)\n",
    "    background = study.splicing.splicing_to_expression_id(background_events)\n",
    "    \n",
    "    go_df = study.go_enrichment(foreground, background, domain='biological_process')\n",
    "    \n",
    "    \n",
    "    fig, ax = plt.subplots(figsize=(1, 1))\n",
    "    n = 5\n",
    "    bottom = np.arange(n)\n",
    "    height = go_df['bonferonni_corrected_negative_log_p_value'].iloc[:n]\n",
    "    ax.barh(bottom, height, color='gray', zorder=-1)\n",
    "    ax.set(yticklabels=go_df['go_name'].iloc[:n], \n",
    "           xlabel='$\\log(q)$', title=transition, yticks=bottom + 0.4)\n",
    "    ax.grid(axis='x', color='white', zorder=100, linewidth=0.5)\n",
    "    sns.despine()\n",
    "    fig.savefig('{}/changing_events_{}_go_enrichment.pdf'.format(folder, transition))\n",
    "    \n",
    "    go_df['transition'] = transition\n",
    "    go_dfs.append(go_df.reset_index())\n",
    "go = pd.concat(go_dfs)\n",
    "go.head()"
   ]
  },
  {
   "cell_type": "code",
   "execution_count": null,
   "metadata": {
    "collapsed": true
   },
   "outputs": [],
   "source": []
  },
  {
   "cell_type": "code",
   "execution_count": 14,
   "metadata": {
    "collapsed": false
   },
   "outputs": [
    {
     "data": {
      "text/plain": [
       "6238"
      ]
     },
     "execution_count": 14,
     "metadata": {},
     "output_type": "execute_result"
    }
   ],
   "source": [
    "(df.modality_x == df.modality_y).sum()"
   ]
  },
  {
   "cell_type": "code",
   "execution_count": 15,
   "metadata": {
    "collapsed": false
   },
   "outputs": [
    {
     "data": {
      "text/plain": [
       "8404"
      ]
     },
     "execution_count": 15,
     "metadata": {},
     "output_type": "execute_result"
    }
   ],
   "source": [
    "len(background)"
   ]
  },
  {
   "cell_type": "markdown",
   "metadata": {},
   "source": [
    "### Try with the \"world\" of background events is equal between these (all events with 10+ cells in all celltypes)"
   ]
  },
  {
   "cell_type": "code",
   "execution_count": 16,
   "metadata": {
    "collapsed": false
   },
   "outputs": [
    {
     "data": {
      "text/plain": [
       "1704"
      ]
     },
     "execution_count": 16,
     "metadata": {},
     "output_type": "execute_result"
    }
   ],
   "source": [
    "events_detected_in_all = set(study.supplemental.modalities_tidy.groupby('event_id').filter(\n",
    "    lambda x: len(x) == len(study.phenotype_order))['event_id'])\n",
    "len(events_detected_in_all)"
   ]
  },
  {
   "cell_type": "code",
   "execution_count": 17,
   "metadata": {
    "collapsed": false
   },
   "outputs": [],
   "source": [
    "ipsc_mn_changing_events_detected_in_all = ipsc_mn_changing_events & events_detected_in_all\n",
    "ipsc_npc_changing_events_detected_in_all = ipsc_npc_changing_events & events_detected_in_all"
   ]
  },
  {
   "cell_type": "code",
   "execution_count": 18,
   "metadata": {
    "collapsed": false
   },
   "outputs": [
    {
     "data": {
      "image/png": "[encoded data removed]",
      "text/plain": [
       "<matplotlib.figure.Figure at 0x2ad374d21450>"
      ]
     },
     "metadata": {},
     "output_type": "display_data"
    },
    {
     "data": {
      "image/png": "[encoded data removed]",
      "text/plain": [
       "<matplotlib.figure.Figure at 0x2ad376be3d10>"
      ]
     },
     "metadata": {},
     "output_type": "display_data"
    }
   ],
   "source": [
    "modality_transitions_subset_detected_in_all = modality_transitions_subset.loc[modality_transitions_subset.event_id.isin(events_detected_in_all)]\n",
    "\n",
    "go_dfs = []\n",
    "\n",
    "for transition, df in modality_transitions_subset_detected_in_all.groupby('transition'):\n",
    "    background_events = df['event_id']\n",
    "    foreground_events = background_events.loc[df.modality_x != df.modality_y]\n",
    "    \n",
    "    foreground = study.splicing.splicing_to_expression_id(foreground_events)\n",
    "    background = study.splicing.splicing_to_expression_id(background_events)\n",
    "    \n",
    "    go_df = study.go_enrichment(foreground, background, domain='biological_process')\n",
    "    \n",
    "    \n",
    "    fig, ax = plt.subplots(figsize=(3, 1.5))\n",
    "    n = 5\n",
    "    bottom = np.arange(n)\n",
    "    height = go_df['bonferonni_corrected_negative_log_p_value'].iloc[:n]\n",
    "    ax.barh(bottom, height, color='gray')\n",
    "    ax.set(yticklabels=go_df['go_name'].iloc[:n], \n",
    "           xlabel='$\\log(q)$', title=transition, yticks=bottom + 0.4)\n",
    "    sns.despine()\n",
    "    fig.savefig('{}/changing_events_{}_go_enrichment_detected_inall.pdf'.format(folder, transition))\n",
    "    \n",
    "#     go_df['transition'] = transition\n",
    "#     go_dfs.append(go_df.reset_index())\n",
    "# go = pd.concat(go_dfs)\n",
    "# go.head()"
   ]
  },
  {
   "cell_type": "code",
   "execution_count": 19,
   "metadata": {
    "collapsed": false
   },
   "outputs": [
    {
     "data": {
      "image/png": "[encoded data removed]",
      "text/plain": [
       "<matplotlib.figure.Figure at 0x2ad374cb1090>"
      ]
     },
     "metadata": {},
     "output_type": "display_data"
    },
    {
     "data": {
      "image/png": "[encoded data removed]",
      "text/plain": [
       "<matplotlib.figure.Figure at 0x2ad36fc1a4d0>"
      ]
     },
     "metadata": {},
     "output_type": "display_data"
    },
    {
     "data": {
      "image/png": "[encoded data removed]",
      "text/plain": [
       "<matplotlib.figure.Figure at 0x2ad36eedd610>"
      ]
     },
     "metadata": {},
     "output_type": "display_data"
    }
   ],
   "source": [
    "changing_events_unique_to_transition = \\\n",
    "    {'iPSC-MN_unique' : ipsc_mn_changing_events_detected_in_all.difference(ipsc_npc_changing_events_detected_in_all),\n",
    "     'iPSC-NPC_and_iPSC-MN' : ipsc_mn_changing_events_detected_in_all.intersection(ipsc_npc_changing_events_detected_in_all),\n",
    "     'iPSC-NPC_unique' : ipsc_npc_changing_events_detected_in_all.difference(ipsc_mn_changing_events_detected_in_all)\n",
    "    }\n",
    "    \n",
    "background_events = events_detected_in_all\n",
    "\n",
    "for transition, foreground_events in changing_events_unique_to_transition.items():    \n",
    "    foreground = study.splicing.splicing_to_expression_id(foreground_events)\n",
    "    background = study.splicing.splicing_to_expression_id(background_events)\n",
    "    \n",
    "    go_df = study.go_enrichment(foreground, background, domain='biological_process')\n",
    "    \n",
    "    fig, ax = plt.subplots(figsize=(3, 1.5))\n",
    "    n = 5\n",
    "    bottom = np.arange(n)\n",
    "    height = go_df['bonferonni_corrected_negative_log_p_value'].iloc[:n]\n",
    "    ax.barh(bottom, height, color='gray')\n",
    "    ax.set(yticklabels=go_df['go_name'].iloc[:n], \n",
    "           xlabel='$\\log(q)$', title=transition, yticks=bottom + 0.4)\n",
    "    sns.despine()\n",
    "    fig.savefig('{}/changing_events_{}_go_enrichment_detected_inall.pdf'.format(folder, transition))\n",
    "    \n",
    "#     go_df['transition'] = transition\n",
    "#     go_dfs.append(go_df.reset_index())\n",
    "# go = pd.concat(go_dfs)\n",
    "# go.head()"
   ]
  },
  {
   "cell_type": "markdown",
   "metadata": {},
   "source": [
    "## Venn diagrams"
   ]
  },
  {
   "cell_type": "code",
   "execution_count": 18,
   "metadata": {
    "collapsed": false
   },
   "outputs": [
    {
     "data": {
      "image/png": "[encoded data removed]",
      "text/plain": [
       "<matplotlib.figure.Figure at 0x2b982f761690>"
      ]
     },
     "metadata": {},
     "output_type": "display_data"
    }
   ],
   "source": [
    "import matplotlib_venn\n",
    "sns.set(context='paper', style='ticks')\n",
    "\n",
    "fig, ax = plt.subplots(figsize=(1.5, 1.5))\n",
    "\n",
    "matplotlib_venn.venn2((ipsc_npc_changing_events, ipsc_mn_changing_events), \n",
    "                      set_labels=['iPSC-NPC', 'iPSC-MN'], set_colors=study.phenotype_color_ordered[1:])\n",
    "fig.savefig('{}/changing_events_venn.pdf'.format(folder))"
   ]
  },
  {
   "cell_type": "code",
   "execution_count": 19,
   "metadata": {
    "collapsed": false
   },
   "outputs": [
    {
     "data": {
      "image/png": "[encoded data removed]",
      "text/plain": [
       "<matplotlib.figure.Figure at 0x2b982c053ad0>"
      ]
     },
     "metadata": {},
     "output_type": "display_data"
    }
   ],
   "source": [
    "import matplotlib_venn\n",
    "\n",
    "fig, ax = plt.subplots(figsize=(1.5, 1.5))\n",
    "\n",
    "matplotlib_venn.venn2((ipsc_npc_changing_events_detected_in_all, ipsc_mn_changing_events_detected_in_all), \n",
    "                      set_labels=['iPSC-NPC', 'iPSC-MN'], set_colors=study.phenotype_color_ordered[1:])\n",
    "fig.savefig('{}/changing_events_venn_detected_in_all.pdf'.format(folder))"
   ]
  },
  {
   "cell_type": "markdown",
   "metadata": {},
   "source": [
    "### Barplots of the percentage of evetns changing in each modality"
   ]
  },
  {
   "cell_type": "code",
   "execution_count": 20,
   "metadata": {
    "collapsed": false
   },
   "outputs": [
    {
     "name": "stderr",
     "output_type": "stream",
     "text": [
      "/home/obotvinnik/anaconda/lib/python2.7/site-packages/ipykernel/__main__.py:2: SettingWithCopyWarning: \n",
      "A value is trying to be set on a copy of a slice from a DataFrame.\n",
      "Try using .loc[row_indexer,col_indexer] = value instead\n",
      "\n",
      "See the caveats in the documentation: http://pandas.pydata.org/pandas-docs/stable/indexing.html#indexing-view-versus-copy\n",
      "  from ipykernel import kernelapp as app\n"
     ]
    }
   ],
   "source": [
    "modality_transitions_subset['transition'] = pd.Categorical(modality_transitions_subset['transition'], \n",
    "                                                           categories=transitions_of_interest, ordered=True)"
   ]
  },
  {
   "cell_type": "code",
   "execution_count": 21,
   "metadata": {
    "collapsed": false
   },
   "outputs": [
    {
     "data": {
      "text/html": [
       "<div>\n",
       "<table border=\"1\" class=\"dataframe\">\n",
       "  <thead>\n",
       "    <tr style=\"text-align: right;\">\n",
       "      <th></th>\n",
       "      <th>phenotype_x</th>\n",
       "      <th>event_id</th>\n",
       "      <th>modality_x</th>\n",
       "      <th>phenotype_y</th>\n",
       "      <th>modality_y</th>\n",
       "      <th>transition</th>\n",
       "    </tr>\n",
       "  </thead>\n",
       "  <tbody>\n",
       "    <tr>\n",
       "      <th>6</th>\n",
       "      <td>iPSC</td>\n",
       "      <td>isoform1=junction:chr10:102114390-102120490:+|...</td>\n",
       "      <td>included</td>\n",
       "      <td>MN</td>\n",
       "      <td>included</td>\n",
       "      <td>iPSC-MN</td>\n",
       "    </tr>\n",
       "    <tr>\n",
       "      <th>7</th>\n",
       "      <td>iPSC</td>\n",
       "      <td>isoform1=junction:chr10:102114390-102120490:+|...</td>\n",
       "      <td>included</td>\n",
       "      <td>NPC</td>\n",
       "      <td>included</td>\n",
       "      <td>iPSC-NPC</td>\n",
       "    </tr>\n",
       "    <tr>\n",
       "      <th>15</th>\n",
       "      <td>iPSC</td>\n",
       "      <td>isoform1=junction:chr10:102746733-102747069:-|...</td>\n",
       "      <td>included</td>\n",
       "      <td>MN</td>\n",
       "      <td>bimodal</td>\n",
       "      <td>iPSC-MN</td>\n",
       "    </tr>\n",
       "    <tr>\n",
       "      <th>16</th>\n",
       "      <td>iPSC</td>\n",
       "      <td>isoform1=junction:chr10:102746733-102747069:-|...</td>\n",
       "      <td>included</td>\n",
       "      <td>NPC</td>\n",
       "      <td>bimodal</td>\n",
       "      <td>iPSC-NPC</td>\n",
       "    </tr>\n",
       "    <tr>\n",
       "      <th>25</th>\n",
       "      <td>iPSC</td>\n",
       "      <td>isoform1=junction:chr10:103348158-103360494:+|...</td>\n",
       "      <td>included</td>\n",
       "      <td>MN</td>\n",
       "      <td>included</td>\n",
       "      <td>iPSC-MN</td>\n",
       "    </tr>\n",
       "  </tbody>\n",
       "</table>\n",
       "</div>"
      ],
      "text/plain": [
       "   phenotype_x                                           event_id modality_x  \\\n",
       "6         iPSC  isoform1=junction:chr10:102114390-102120490:+|...   included   \n",
       "7         iPSC  isoform1=junction:chr10:102114390-102120490:+|...   included   \n",
       "15        iPSC  isoform1=junction:chr10:102746733-102747069:-|...   included   \n",
       "16        iPSC  isoform1=junction:chr10:102746733-102747069:-|...   included   \n",
       "25        iPSC  isoform1=junction:chr10:103348158-103360494:+|...   included   \n",
       "\n",
       "   phenotype_y modality_y transition  \n",
       "6           MN   included    iPSC-MN  \n",
       "7          NPC   included   iPSC-NPC  \n",
       "15          MN    bimodal    iPSC-MN  \n",
       "16         NPC    bimodal   iPSC-NPC  \n",
       "25          MN   included    iPSC-MN  "
      ]
     },
     "execution_count": 21,
     "metadata": {},
     "output_type": "execute_result"
    }
   ],
   "source": [
    "modality_transitions_subset.head()"
   ]
  },
  {
   "cell_type": "code",
   "execution_count": 22,
   "metadata": {
    "collapsed": false
   },
   "outputs": [
    {
     "name": "stdout",
     "output_type": "stream",
     "text": [
      "345\n"
     ]
    },
    {
     "data": {
      "text/plain": [
       "transition\n",
       "iPSC-NPC    240\n",
       "iPSC-MN     105\n",
       "dtype: int64"
      ]
     },
     "execution_count": 22,
     "metadata": {},
     "output_type": "execute_result"
    }
   ],
   "source": [
    "bimodal_x = modality_transitions_subset['modality_x'] == 'bimodal'\n",
    "bimodal_y = modality_transitions_subset['modality_y'] == 'bimodal'\n",
    "\n",
    "print((bimodal_x & bimodal_y).sum())\n",
    "\n",
    "bimodal_bimodal = modality_transitions_subset.loc[bimodal_x & bimodal_y]\n",
    "bimodal_bimodal.groupby('transition').size()"
   ]
  },
  {
   "cell_type": "code",
   "execution_count": 23,
   "metadata": {
    "collapsed": false
   },
   "outputs": [
    {
     "data": {
      "text/plain": [
       "transition\n",
       "iPSC-NPC    558\n",
       "iPSC-MN     361\n",
       "Name: Switching Modality, dtype: int64"
      ]
     },
     "execution_count": 23,
     "metadata": {},
     "output_type": "execute_result"
    }
   ],
   "source": [
    "same_modality = modality_transitions_subset.groupby('transition').apply(lambda x: (x['modality_y'] == x['modality_x']).sum())\n",
    "same_modality.name = 'Same Modality'\n",
    "changing_modality = modality_transitions_subset.groupby('transition').apply(lambda x: (x['modality_y'] != x['modality_x']).sum())\n",
    "changing_modality.name = 'Switching Modality'\n",
    "changing_modality"
   ]
  },
  {
   "cell_type": "code",
   "execution_count": 24,
   "metadata": {
    "collapsed": false
   },
   "outputs": [
    {
     "data": {
      "text/html": [
       "<div>\n",
       "<table border=\"1\" class=\"dataframe\">\n",
       "  <thead>\n",
       "    <tr style=\"text-align: right;\">\n",
       "      <th></th>\n",
       "      <th>Modality</th>\n",
       "      <th>transition</th>\n",
       "      <th># AS Exons</th>\n",
       "      <th>% AS Exons</th>\n",
       "    </tr>\n",
       "  </thead>\n",
       "  <tbody>\n",
       "    <tr>\n",
       "      <th>0</th>\n",
       "      <td>Switching Modality</td>\n",
       "      <td>iPSC-NPC</td>\n",
       "      <td>558</td>\n",
       "      <td>20.327869</td>\n",
       "    </tr>\n",
       "    <tr>\n",
       "      <th>1</th>\n",
       "      <td>Switching Modality</td>\n",
       "      <td>iPSC-MN</td>\n",
       "      <td>361</td>\n",
       "      <td>19.460916</td>\n",
       "    </tr>\n",
       "    <tr>\n",
       "      <th>2</th>\n",
       "      <td>Same Modality</td>\n",
       "      <td>iPSC-NPC</td>\n",
       "      <td>2187</td>\n",
       "      <td>79.672131</td>\n",
       "    </tr>\n",
       "    <tr>\n",
       "      <th>3</th>\n",
       "      <td>Same Modality</td>\n",
       "      <td>iPSC-MN</td>\n",
       "      <td>1494</td>\n",
       "      <td>80.539084</td>\n",
       "    </tr>\n",
       "  </tbody>\n",
       "</table>\n",
       "</div>"
      ],
      "text/plain": [
       "             Modality transition  # AS Exons  % AS Exons\n",
       "0  Switching Modality   iPSC-NPC         558   20.327869\n",
       "1  Switching Modality    iPSC-MN         361   19.460916\n",
       "2       Same Modality   iPSC-NPC        2187   79.672131\n",
       "3       Same Modality    iPSC-MN        1494   80.539084"
      ]
     },
     "execution_count": 24,
     "metadata": {},
     "output_type": "execute_result"
    }
   ],
   "source": [
    "n_modality_changes = pd.concat([changing_modality, same_modality], axis=1).unstack()\n",
    "n_modality_changes = n_modality_changes.reset_index()\n",
    "n_modality_changes = n_modality_changes.rename(columns={'level_0': \"Modality\", 0:'# AS Exons'})\n",
    "n_modality_changes['% AS Exons'] = 100 * n_modality_changes.groupby('transition')['# AS Exons'].apply(lambda x: x/x.sum())\n",
    "n_modality_changes"
   ]
  },
  {
   "cell_type": "code",
   "execution_count": 25,
   "metadata": {
    "collapsed": false
   },
   "outputs": [
    {
     "data": {
      "text/plain": [
       "transition  Modality          \n",
       "iPSC-NPC    Switching Modality    20.327869\n",
       "iPSC-MN     Switching Modality    19.460916\n",
       "iPSC-NPC    Same Modality         79.672131\n",
       "iPSC-MN     Same Modality         80.539084\n",
       "Name: % AS Exons, dtype: float64"
      ]
     },
     "execution_count": 25,
     "metadata": {},
     "output_type": "execute_result"
    }
   ],
   "source": [
    "percent_exons_change_modalities = n_modality_changes.set_index(['transition', 'Modality'])['% AS Exons']\n",
    "percent_exons_change_modalities"
   ]
  },
  {
   "cell_type": "code",
   "execution_count": 26,
   "metadata": {
    "collapsed": false
   },
   "outputs": [
    {
     "data": {
      "text/plain": [
       "transition  Modality          \n",
       "iPSC-NPC    Switching Modality     20.327869\n",
       "iPSC-MN     Switching Modality     19.460916\n",
       "iPSC-NPC    Same Modality         100.000000\n",
       "iPSC-MN     Same Modality         100.000000\n",
       "Name: % AS Exons, dtype: float64"
      ]
     },
     "execution_count": 26,
     "metadata": {},
     "output_type": "execute_result"
    }
   ],
   "source": [
    "cumulative_sum = percent_exons_change_modalities.groupby(level='transition').cumsum()\n",
    "cumulative_sum"
   ]
  },
  {
   "cell_type": "code",
   "execution_count": 27,
   "metadata": {
    "collapsed": false
   },
   "outputs": [
    {
     "data": {
      "text/plain": [
       "transition  Modality          \n",
       "iPSC-NPC    Switching Modality     0.000000\n",
       "iPSC-MN     Switching Modality     0.000000\n",
       "iPSC-NPC    Same Modality         20.327869\n",
       "iPSC-MN     Same Modality         19.460916\n",
       "Name: % AS Exons, dtype: float64"
      ]
     },
     "execution_count": 27,
     "metadata": {},
     "output_type": "execute_result"
    }
   ],
   "source": [
    "bottoms = cumulative_sum - percent_exons_change_modalities\n",
    "bottoms"
   ]
  },
  {
   "cell_type": "markdown",
   "metadata": {},
   "source": [
    "### plot the percent of events that change or don't change modality"
   ]
  },
  {
   "cell_type": "code",
   "execution_count": 28,
   "metadata": {
    "collapsed": false
   },
   "outputs": [
    {
     "name": "stdout",
     "output_type": "stream",
     "text": [
      "Same Modality\n",
      "Switching Modality\n"
     ]
    },
    {
     "data": {
      "image/png": "[encoded data removed]",
      "text/plain": [
       "<matplotlib.figure.Figure at 0x2b982e89c650>"
      ]
     },
     "metadata": {},
     "output_type": "display_data"
    }
   ],
   "source": [
    "idx = pd.IndexSlice\n",
    "\n",
    "sns.set(style='ticks', context='paper')\n",
    "fig, ax = plt.subplots(figsize=(1.75, 1.5))\n",
    "palette = ['white', 'grey'] #sns.color_palette('Greys', n_colors=2)\n",
    "width = 0.6\n",
    "\n",
    "for i, (delta_modality, s) in enumerate(percent_exons_change_modalities.groupby(level=1)):\n",
    "    six.print_(delta_modality)\n",
    "    color = palette[i]\n",
    "    x = np.arange(s.shape[0])+0.1\n",
    "\n",
    "    bottom = bottoms.loc[idx[:, delta_modality]]\n",
    "    ax.bar(x, s, bottom=bottom, label=delta_modality, color=color, edgecolor='#262626', linewidth=1, width=width)\n",
    "ax.set(xticks=x + 0.3, xticklabels=bottoms.index.levels[0])\n",
    "ax.legend()\n",
    "sns.despine()\n",
    "fig.tight_layout()\n",
    "fig.savefig('{}/n_exons_change_modalities_barplot_stacked.pdf'.format(folder))\n"
   ]
  },
  {
   "cell_type": "markdown",
   "metadata": {},
   "source": [
    "## Get just iPSC, MN modalities"
   ]
  },
  {
   "cell_type": "code",
   "execution_count": 29,
   "metadata": {
    "collapsed": false
   },
   "outputs": [
    {
     "data": {
      "text/html": [
       "<div>\n",
       "<table border=\"1\" class=\"dataframe\">\n",
       "  <thead>\n",
       "    <tr style=\"text-align: right;\">\n",
       "      <th></th>\n",
       "      <th>phenotype_x</th>\n",
       "      <th>event_id</th>\n",
       "      <th>modality_x</th>\n",
       "      <th>phenotype_y</th>\n",
       "      <th>modality_y</th>\n",
       "      <th>transition</th>\n",
       "    </tr>\n",
       "  </thead>\n",
       "  <tbody>\n",
       "    <tr>\n",
       "      <th>6</th>\n",
       "      <td>iPSC</td>\n",
       "      <td>isoform1=junction:chr10:102114390-102120490:+|...</td>\n",
       "      <td>included</td>\n",
       "      <td>MN</td>\n",
       "      <td>included</td>\n",
       "      <td>iPSC-MN</td>\n",
       "    </tr>\n",
       "    <tr>\n",
       "      <th>15</th>\n",
       "      <td>iPSC</td>\n",
       "      <td>isoform1=junction:chr10:102746733-102747069:-|...</td>\n",
       "      <td>included</td>\n",
       "      <td>MN</td>\n",
       "      <td>bimodal</td>\n",
       "      <td>iPSC-MN</td>\n",
       "    </tr>\n",
       "    <tr>\n",
       "      <th>25</th>\n",
       "      <td>iPSC</td>\n",
       "      <td>isoform1=junction:chr10:103348158-103360494:+|...</td>\n",
       "      <td>included</td>\n",
       "      <td>MN</td>\n",
       "      <td>included</td>\n",
       "      <td>iPSC-MN</td>\n",
       "    </tr>\n",
       "    <tr>\n",
       "      <th>34</th>\n",
       "      <td>iPSC</td>\n",
       "      <td>isoform1=junction:chr10:103361094-103368591:+|...</td>\n",
       "      <td>excluded</td>\n",
       "      <td>MN</td>\n",
       "      <td>excluded</td>\n",
       "      <td>iPSC-MN</td>\n",
       "    </tr>\n",
       "    <tr>\n",
       "      <th>43</th>\n",
       "      <td>iPSC</td>\n",
       "      <td>isoform1=junction:chr10:1034468-1041868:+|isof...</td>\n",
       "      <td>included</td>\n",
       "      <td>MN</td>\n",
       "      <td>included</td>\n",
       "      <td>iPSC-MN</td>\n",
       "    </tr>\n",
       "  </tbody>\n",
       "</table>\n",
       "</div>"
      ],
      "text/plain": [
       "   phenotype_x                                           event_id modality_x  \\\n",
       "6         iPSC  isoform1=junction:chr10:102114390-102120490:+|...   included   \n",
       "15        iPSC  isoform1=junction:chr10:102746733-102747069:-|...   included   \n",
       "25        iPSC  isoform1=junction:chr10:103348158-103360494:+|...   included   \n",
       "34        iPSC  isoform1=junction:chr10:103361094-103368591:+|...   excluded   \n",
       "43        iPSC  isoform1=junction:chr10:1034468-1041868:+|isof...   included   \n",
       "\n",
       "   phenotype_y modality_y transition  \n",
       "6           MN   included    iPSC-MN  \n",
       "15          MN    bimodal    iPSC-MN  \n",
       "25          MN   included    iPSC-MN  \n",
       "34          MN   excluded    iPSC-MN  \n",
       "43          MN   included    iPSC-MN  "
      ]
     },
     "execution_count": 29,
     "metadata": {},
     "output_type": "execute_result"
    }
   ],
   "source": [
    "rows = (modality_transitions.phenotype_x == 'iPSC') & (modality_transitions.phenotype_y == 'MN')\n",
    "ipsc_mn_modalities = modality_transitions.loc[rows]\n",
    "ipsc_mn_modalities.head()"
   ]
  },
  {
   "cell_type": "code",
   "execution_count": 30,
   "metadata": {
    "collapsed": false
   },
   "outputs": [
    {
     "data": {
      "text/plain": [
       "modality_x     modality_y   \n",
       "bimodal        bimodal          105\n",
       "               excluded          54\n",
       "               included          45\n",
       "excluded       bimodal           97\n",
       "               excluded         753\n",
       "               included           2\n",
       "included       bimodal          136\n",
       "               included         636\n",
       "               uncategorized      1\n",
       "uncategorized  bimodal           17\n",
       "               excluded           8\n",
       "               included           1\n",
       "dtype: int64"
      ]
     },
     "execution_count": 30,
     "metadata": {},
     "output_type": "execute_result"
    }
   ],
   "source": [
    "ipsc_mn_modality_count = ipsc_mn_modalities.groupby(['modality_x', 'modality_y']).size()\n",
    "ipsc_mn_modality_count"
   ]
  },
  {
   "cell_type": "markdown",
   "metadata": {},
   "source": [
    "## Randomly permute events and see if they switch or stay the same"
   ]
  },
  {
   "cell_type": "code",
   "execution_count": 31,
   "metadata": {
    "collapsed": true
   },
   "outputs": [],
   "source": [
    "cols = ['modality_x', 'modality_y']"
   ]
  },
  {
   "cell_type": "code",
   "execution_count": 32,
   "metadata": {
    "collapsed": false
   },
   "outputs": [
    {
     "name": "stdout",
     "output_type": "stream",
     "text": [
      "(1300, 5)\n"
     ]
    },
    {
     "data": {
      "text/html": [
       "<div>\n",
       "<table border=\"1\" class=\"dataframe\">\n",
       "  <thead>\n",
       "    <tr style=\"text-align: right;\">\n",
       "      <th></th>\n",
       "      <th>modality_x</th>\n",
       "      <th>modality_y</th>\n",
       "      <th>Number of events</th>\n",
       "      <th>Percentage of events</th>\n",
       "      <th>iteration</th>\n",
       "    </tr>\n",
       "  </thead>\n",
       "  <tbody>\n",
       "    <tr>\n",
       "      <th>0</th>\n",
       "      <td>bimodal</td>\n",
       "      <td>bimodal</td>\n",
       "      <td>30</td>\n",
       "      <td>1.617251</td>\n",
       "      <td>0</td>\n",
       "    </tr>\n",
       "    <tr>\n",
       "      <th>1</th>\n",
       "      <td>bimodal</td>\n",
       "      <td>excluded</td>\n",
       "      <td>94</td>\n",
       "      <td>5.067385</td>\n",
       "      <td>0</td>\n",
       "    </tr>\n",
       "    <tr>\n",
       "      <th>2</th>\n",
       "      <td>bimodal</td>\n",
       "      <td>included</td>\n",
       "      <td>80</td>\n",
       "      <td>4.312668</td>\n",
       "      <td>0</td>\n",
       "    </tr>\n",
       "    <tr>\n",
       "      <th>3</th>\n",
       "      <td>excluded</td>\n",
       "      <td>bimodal</td>\n",
       "      <td>164</td>\n",
       "      <td>8.840970</td>\n",
       "      <td>0</td>\n",
       "    </tr>\n",
       "    <tr>\n",
       "      <th>4</th>\n",
       "      <td>excluded</td>\n",
       "      <td>excluded</td>\n",
       "      <td>378</td>\n",
       "      <td>20.377358</td>\n",
       "      <td>0</td>\n",
       "    </tr>\n",
       "  </tbody>\n",
       "</table>\n",
       "</div>"
      ],
      "text/plain": [
       "  modality_x modality_y  Number of events  Percentage of events  iteration\n",
       "0    bimodal    bimodal                30              1.617251          0\n",
       "1    bimodal   excluded                94              5.067385          0\n",
       "2    bimodal   included                80              4.312668          0\n",
       "3   excluded    bimodal               164              8.840970          0\n",
       "4   excluded   excluded               378             20.377358          0"
      ]
     },
     "execution_count": 32,
     "metadata": {},
     "output_type": "execute_result"
    }
   ],
   "source": [
    "dfs = []\n",
    "\n",
    "for i in range(100):\n",
    "    modality_x_permuted = pd.Series(np.random.permutation(ipsc_mn_modalities['modality_x']), \n",
    "                                    index=ipsc_mn_modalities['modality_y'].index, name='modality_x')\n",
    "\n",
    "    two_modalities = pd.concat([modality_x_permuted, ipsc_mn_modalities['modality_y']], axis=1)\n",
    "#     print(two_modalities.shape)\n",
    "#     two_modalities.head()\n",
    "    sizes = two_modalities.groupby(cols).size().reset_index()\n",
    "    sizes = sizes.rename(columns={0: 'Number of events'})\n",
    "    sizes['Percentage of events'] = 100*sizes['Number of events']/ipsc_mn_modalities.shape[0]\n",
    "    sizes['iteration'] = i\n",
    "    dfs.append(sizes)\n",
    "permuted_changing_modalities = pd.concat(dfs, ignore_index=True)\n",
    "print(permuted_changing_modalities.shape)\n",
    "permuted_changing_modalities.head()"
   ]
  },
  {
   "cell_type": "code",
   "execution_count": 33,
   "metadata": {
    "collapsed": true
   },
   "outputs": [],
   "source": [
    "def add_switching_columns(df):\n",
    "    df['Modality change'] = 'Same modality'\n",
    "    \n",
    "    changing = df['modality_x'] != df['modality_y']\n",
    "    df.loc[changing, 'Modality change'] = 'Switching modality'\n"
   ]
  },
  {
   "cell_type": "code",
   "execution_count": 34,
   "metadata": {
    "collapsed": false
   },
   "outputs": [
    {
     "data": {
      "text/html": [
       "<div>\n",
       "<table border=\"1\" class=\"dataframe\">\n",
       "  <thead>\n",
       "    <tr style=\"text-align: right;\">\n",
       "      <th></th>\n",
       "      <th>modality_x</th>\n",
       "      <th>modality_y</th>\n",
       "      <th>Number of events</th>\n",
       "      <th>Percentage of events</th>\n",
       "      <th>iteration</th>\n",
       "      <th>Modality change</th>\n",
       "    </tr>\n",
       "  </thead>\n",
       "  <tbody>\n",
       "    <tr>\n",
       "      <th>0</th>\n",
       "      <td>bimodal</td>\n",
       "      <td>bimodal</td>\n",
       "      <td>30</td>\n",
       "      <td>1.617251</td>\n",
       "      <td>0</td>\n",
       "      <td>Same modality</td>\n",
       "    </tr>\n",
       "    <tr>\n",
       "      <th>1</th>\n",
       "      <td>bimodal</td>\n",
       "      <td>excluded</td>\n",
       "      <td>94</td>\n",
       "      <td>5.067385</td>\n",
       "      <td>0</td>\n",
       "      <td>Switching modality</td>\n",
       "    </tr>\n",
       "    <tr>\n",
       "      <th>2</th>\n",
       "      <td>bimodal</td>\n",
       "      <td>included</td>\n",
       "      <td>80</td>\n",
       "      <td>4.312668</td>\n",
       "      <td>0</td>\n",
       "      <td>Switching modality</td>\n",
       "    </tr>\n",
       "    <tr>\n",
       "      <th>3</th>\n",
       "      <td>excluded</td>\n",
       "      <td>bimodal</td>\n",
       "      <td>164</td>\n",
       "      <td>8.840970</td>\n",
       "      <td>0</td>\n",
       "      <td>Switching modality</td>\n",
       "    </tr>\n",
       "    <tr>\n",
       "      <th>4</th>\n",
       "      <td>excluded</td>\n",
       "      <td>excluded</td>\n",
       "      <td>378</td>\n",
       "      <td>20.377358</td>\n",
       "      <td>0</td>\n",
       "      <td>Same modality</td>\n",
       "    </tr>\n",
       "  </tbody>\n",
       "</table>\n",
       "</div>"
      ],
      "text/plain": [
       "  modality_x modality_y  Number of events  Percentage of events  iteration  \\\n",
       "0    bimodal    bimodal                30              1.617251          0   \n",
       "1    bimodal   excluded                94              5.067385          0   \n",
       "2    bimodal   included                80              4.312668          0   \n",
       "3   excluded    bimodal               164              8.840970          0   \n",
       "4   excluded   excluded               378             20.377358          0   \n",
       "\n",
       "      Modality change  \n",
       "0       Same modality  \n",
       "1  Switching modality  \n",
       "2  Switching modality  \n",
       "3  Switching modality  \n",
       "4       Same modality  "
      ]
     },
     "execution_count": 34,
     "metadata": {},
     "output_type": "execute_result"
    }
   ],
   "source": [
    "add_switching_columns(permuted_changing_modalities)\n",
    "permuted_changing_modalities.head()"
   ]
  },
  {
   "cell_type": "code",
   "execution_count": 35,
   "metadata": {
    "collapsed": false
   },
   "outputs": [
    {
     "data": {
      "text/plain": [
       "Modality change\n",
       "Same modality         12.544886\n",
       "Switching modality     6.230219\n",
       "Name: Percentage of events, dtype: float64"
      ]
     },
     "execution_count": 35,
     "metadata": {},
     "output_type": "execute_result"
    }
   ],
   "source": [
    "permuted_changing_modalities.groupby('Modality change')['Percentage of events'].mean()"
   ]
  },
  {
   "cell_type": "code",
   "execution_count": 36,
   "metadata": {
    "collapsed": false
   },
   "outputs": [
    {
     "data": {
      "text/plain": [
       "<matplotlib.axes._subplots.AxesSubplot at 0x2b982c6d5190>"
      ]
     },
     "execution_count": 36,
     "metadata": {},
     "output_type": "execute_result"
    },
    {
     "data": {
      "image/png": "[encoded data removed]",
      "text/plain": [
       "<matplotlib.figure.Figure at 0x2b982c112390>"
      ]
     },
     "metadata": {},
     "output_type": "display_data"
    }
   ],
   "source": [
    "sns.barplot(y='Percentage of events', x='Modality change', data=permuted_changing_modalities)"
   ]
  },
  {
   "cell_type": "markdown",
   "metadata": {},
   "source": [
    "## Heatmaps"
   ]
  },
  {
   "cell_type": "code",
   "execution_count": 37,
   "metadata": {
    "collapsed": false
   },
   "outputs": [
    {
     "data": {
      "text/html": [
       "<div>\n",
       "<table border=\"1\" class=\"dataframe\">\n",
       "  <thead>\n",
       "    <tr style=\"text-align: right;\">\n",
       "      <th>modality_y</th>\n",
       "      <th>bimodal</th>\n",
       "      <th>excluded</th>\n",
       "      <th>included</th>\n",
       "      <th>uncategorized</th>\n",
       "    </tr>\n",
       "    <tr>\n",
       "      <th>modality_x</th>\n",
       "      <th></th>\n",
       "      <th></th>\n",
       "      <th></th>\n",
       "      <th></th>\n",
       "    </tr>\n",
       "  </thead>\n",
       "  <tbody>\n",
       "    <tr>\n",
       "      <th>bimodal</th>\n",
       "      <td>105.0</td>\n",
       "      <td>54.0</td>\n",
       "      <td>45.0</td>\n",
       "      <td>NaN</td>\n",
       "    </tr>\n",
       "    <tr>\n",
       "      <th>excluded</th>\n",
       "      <td>97.0</td>\n",
       "      <td>753.0</td>\n",
       "      <td>2.0</td>\n",
       "      <td>NaN</td>\n",
       "    </tr>\n",
       "    <tr>\n",
       "      <th>included</th>\n",
       "      <td>136.0</td>\n",
       "      <td>NaN</td>\n",
       "      <td>636.0</td>\n",
       "      <td>1.0</td>\n",
       "    </tr>\n",
       "    <tr>\n",
       "      <th>uncategorized</th>\n",
       "      <td>17.0</td>\n",
       "      <td>8.0</td>\n",
       "      <td>1.0</td>\n",
       "      <td>NaN</td>\n",
       "    </tr>\n",
       "  </tbody>\n",
       "</table>\n",
       "</div>"
      ],
      "text/plain": [
       "modality_y     bimodal  excluded  included  uncategorized\n",
       "modality_x                                               \n",
       "bimodal          105.0      54.0      45.0            NaN\n",
       "excluded          97.0     753.0       2.0            NaN\n",
       "included         136.0       NaN     636.0            1.0\n",
       "uncategorized     17.0       8.0       1.0            NaN"
      ]
     },
     "execution_count": 37,
     "metadata": {},
     "output_type": "execute_result"
    }
   ],
   "source": [
    "\n",
    "ipsc_mn_modality_2d = ipsc_mn_modality_count.unstack()\n",
    "ipsc_mn_modality_2d.head()"
   ]
  },
  {
   "cell_type": "code",
   "execution_count": 38,
   "metadata": {
    "collapsed": false
   },
   "outputs": [
    {
     "data": {
      "text/html": [
       "<div>\n",
       "<table border=\"1\" class=\"dataframe\">\n",
       "  <thead>\n",
       "    <tr style=\"text-align: right;\">\n",
       "      <th>MN</th>\n",
       "      <th>bimodal</th>\n",
       "      <th>excluded</th>\n",
       "      <th>included</th>\n",
       "      <th>uncategorized</th>\n",
       "    </tr>\n",
       "    <tr>\n",
       "      <th>iPSC</th>\n",
       "      <th></th>\n",
       "      <th></th>\n",
       "      <th></th>\n",
       "      <th></th>\n",
       "    </tr>\n",
       "  </thead>\n",
       "  <tbody>\n",
       "    <tr>\n",
       "      <th>bimodal</th>\n",
       "      <td>105.0</td>\n",
       "      <td>54.0</td>\n",
       "      <td>45.0</td>\n",
       "      <td>NaN</td>\n",
       "    </tr>\n",
       "    <tr>\n",
       "      <th>excluded</th>\n",
       "      <td>97.0</td>\n",
       "      <td>753.0</td>\n",
       "      <td>2.0</td>\n",
       "      <td>NaN</td>\n",
       "    </tr>\n",
       "    <tr>\n",
       "      <th>included</th>\n",
       "      <td>136.0</td>\n",
       "      <td>NaN</td>\n",
       "      <td>636.0</td>\n",
       "      <td>1.0</td>\n",
       "    </tr>\n",
       "    <tr>\n",
       "      <th>uncategorized</th>\n",
       "      <td>17.0</td>\n",
       "      <td>8.0</td>\n",
       "      <td>1.0</td>\n",
       "      <td>NaN</td>\n",
       "    </tr>\n",
       "  </tbody>\n",
       "</table>\n",
       "</div>"
      ],
      "text/plain": [
       "MN             bimodal  excluded  included  uncategorized\n",
       "iPSC                                                     \n",
       "bimodal          105.0      54.0      45.0            NaN\n",
       "excluded          97.0     753.0       2.0            NaN\n",
       "included         136.0       NaN     636.0            1.0\n",
       "uncategorized     17.0       8.0       1.0            NaN"
      ]
     },
     "execution_count": 38,
     "metadata": {},
     "output_type": "execute_result"
    }
   ],
   "source": [
    "ipsc_mn_modality_2d.index.name = 'iPSC'\n",
    "ipsc_mn_modality_2d.columns.name = 'MN'\n",
    "ipsc_mn_modality_2d.head()"
   ]
  },
  {
   "cell_type": "code",
   "execution_count": 39,
   "metadata": {
    "collapsed": true
   },
   "outputs": [],
   "source": [
    "from anchor import MODALITY_ORDER"
   ]
  },
  {
   "cell_type": "code",
   "execution_count": 40,
   "metadata": {
    "collapsed": false
   },
   "outputs": [
    {
     "data": {
      "text/html": [
       "<div>\n",
       "<table border=\"1\" class=\"dataframe\">\n",
       "  <thead>\n",
       "    <tr style=\"text-align: right;\">\n",
       "      <th>MN</th>\n",
       "      <th>excluded</th>\n",
       "      <th>bimodal</th>\n",
       "      <th>included</th>\n",
       "      <th>middle</th>\n",
       "      <th>uncategorized</th>\n",
       "    </tr>\n",
       "    <tr>\n",
       "      <th>iPSC</th>\n",
       "      <th></th>\n",
       "      <th></th>\n",
       "      <th></th>\n",
       "      <th></th>\n",
       "      <th></th>\n",
       "    </tr>\n",
       "  </thead>\n",
       "  <tbody>\n",
       "    <tr>\n",
       "      <th>excluded</th>\n",
       "      <td>753.0</td>\n",
       "      <td>97.0</td>\n",
       "      <td>2.0</td>\n",
       "      <td>NaN</td>\n",
       "      <td>NaN</td>\n",
       "    </tr>\n",
       "    <tr>\n",
       "      <th>bimodal</th>\n",
       "      <td>54.0</td>\n",
       "      <td>105.0</td>\n",
       "      <td>45.0</td>\n",
       "      <td>NaN</td>\n",
       "      <td>NaN</td>\n",
       "    </tr>\n",
       "    <tr>\n",
       "      <th>included</th>\n",
       "      <td>NaN</td>\n",
       "      <td>136.0</td>\n",
       "      <td>636.0</td>\n",
       "      <td>NaN</td>\n",
       "      <td>1.0</td>\n",
       "    </tr>\n",
       "    <tr>\n",
       "      <th>middle</th>\n",
       "      <td>NaN</td>\n",
       "      <td>NaN</td>\n",
       "      <td>NaN</td>\n",
       "      <td>NaN</td>\n",
       "      <td>NaN</td>\n",
       "    </tr>\n",
       "    <tr>\n",
       "      <th>uncategorized</th>\n",
       "      <td>8.0</td>\n",
       "      <td>17.0</td>\n",
       "      <td>1.0</td>\n",
       "      <td>NaN</td>\n",
       "      <td>NaN</td>\n",
       "    </tr>\n",
       "  </tbody>\n",
       "</table>\n",
       "</div>"
      ],
      "text/plain": [
       "MN             excluded  bimodal  included  middle  uncategorized\n",
       "iPSC                                                             \n",
       "excluded          753.0     97.0       2.0     NaN            NaN\n",
       "bimodal            54.0    105.0      45.0     NaN            NaN\n",
       "included            NaN    136.0     636.0     NaN            1.0\n",
       "middle              NaN      NaN       NaN     NaN            NaN\n",
       "uncategorized       8.0     17.0       1.0     NaN            NaN"
      ]
     },
     "execution_count": 40,
     "metadata": {},
     "output_type": "execute_result"
    }
   ],
   "source": [
    "ipsc_mn_modality_2d = ipsc_mn_modality_2d.reindex(index=MODALITY_ORDER, columns=MODALITY_ORDER)\n",
    "ipsc_mn_modality_2d"
   ]
  },
  {
   "cell_type": "code",
   "execution_count": 41,
   "metadata": {
    "collapsed": true
   },
   "outputs": [],
   "source": [
    "sns.set(style='ticks', context='paper')"
   ]
  },
  {
   "cell_type": "markdown",
   "metadata": {},
   "source": [
    "### Get percentages for comparison - use % of events in both"
   ]
  },
  {
   "cell_type": "code",
   "execution_count": 45,
   "metadata": {
    "collapsed": false
   },
   "outputs": [
    {
     "data": {
      "text/html": [
       "<div>\n",
       "<table border=\"1\" class=\"dataframe\">\n",
       "  <thead>\n",
       "    <tr style=\"text-align: right;\">\n",
       "      <th>MN</th>\n",
       "      <th>excluded</th>\n",
       "      <th>bimodal</th>\n",
       "      <th>included</th>\n",
       "      <th>middle</th>\n",
       "      <th>uncategorized</th>\n",
       "    </tr>\n",
       "    <tr>\n",
       "      <th>iPSC</th>\n",
       "      <th></th>\n",
       "      <th></th>\n",
       "      <th></th>\n",
       "      <th></th>\n",
       "      <th></th>\n",
       "    </tr>\n",
       "  </thead>\n",
       "  <tbody>\n",
       "    <tr>\n",
       "      <th>excluded</th>\n",
       "      <td>88.380282</td>\n",
       "      <td>11.384977</td>\n",
       "      <td>0.234742</td>\n",
       "      <td>NaN</td>\n",
       "      <td>NaN</td>\n",
       "    </tr>\n",
       "    <tr>\n",
       "      <th>bimodal</th>\n",
       "      <td>26.470588</td>\n",
       "      <td>51.470588</td>\n",
       "      <td>22.058824</td>\n",
       "      <td>NaN</td>\n",
       "      <td>NaN</td>\n",
       "    </tr>\n",
       "    <tr>\n",
       "      <th>included</th>\n",
       "      <td>NaN</td>\n",
       "      <td>17.593790</td>\n",
       "      <td>82.276843</td>\n",
       "      <td>NaN</td>\n",
       "      <td>0.129366</td>\n",
       "    </tr>\n",
       "    <tr>\n",
       "      <th>middle</th>\n",
       "      <td>NaN</td>\n",
       "      <td>NaN</td>\n",
       "      <td>NaN</td>\n",
       "      <td>NaN</td>\n",
       "      <td>NaN</td>\n",
       "    </tr>\n",
       "    <tr>\n",
       "      <th>uncategorized</th>\n",
       "      <td>30.769231</td>\n",
       "      <td>65.384615</td>\n",
       "      <td>3.846154</td>\n",
       "      <td>NaN</td>\n",
       "      <td>NaN</td>\n",
       "    </tr>\n",
       "  </tbody>\n",
       "</table>\n",
       "</div>"
      ],
      "text/plain": [
       "MN              excluded    bimodal   included  middle  uncategorized\n",
       "iPSC                                                                 \n",
       "excluded       88.380282  11.384977   0.234742     NaN            NaN\n",
       "bimodal        26.470588  51.470588  22.058824     NaN            NaN\n",
       "included             NaN  17.593790  82.276843     NaN       0.129366\n",
       "middle               NaN        NaN        NaN     NaN            NaN\n",
       "uncategorized  30.769231  65.384615   3.846154     NaN            NaN"
      ]
     },
     "execution_count": 45,
     "metadata": {},
     "output_type": "execute_result"
    }
   ],
   "source": [
    "percentages = 100*ipsc_mn_modality_2d.divide(ipsc_mn_modality_2d.sum(axis=1), axis=0)\n",
    "percentages"
   ]
  },
  {
   "cell_type": "code",
   "execution_count": 46,
   "metadata": {
    "collapsed": false
   },
   "outputs": [
    {
     "data": {
      "image/png": "[encoded data removed]",
      "text/plain": [
       "<matplotlib.figure.Figure at 0x2b98291ede50>"
      ]
     },
     "metadata": {},
     "output_type": "display_data"
    }
   ],
   "source": [
    "import colorsys\n",
    "\n",
    "fig, ax = plt.subplots(figsize=(2.5, 2))\n",
    "sns.heatmap(percentages, cbar_kws=dict(label='% AS exons in both iPSC in NPC'))#, annot=True, fmt='.1f')\n",
    "\n",
    "# fig.axes[-1].yaxis.locator_params()\n",
    "\n",
    "raw = ipsc_mn_modality_2d.ix[::-1]\n",
    "\n",
    "mesh = ax.collections[0]\n",
    "\n",
    "fmt = 'g'\n",
    "\n",
    "mesh.update_scalarmappable()\n",
    "xpos, ypos = np.meshgrid(ax.get_xticks(), ax.get_yticks())\n",
    "for x, y, percentage, val, color in zip(xpos.flat, ypos.flat, \n",
    "                            mesh.get_array(), raw.values.flat, mesh.get_facecolors()):\n",
    "#     print val\n",
    "    if percentage is not np.ma.masked:\n",
    "        _, l, _ = colorsys.rgb_to_hls(*color[:3])\n",
    "        text_color = \".15\" if l > .5 else \"w\"\n",
    "        val = (\"{:\" + fmt + \"}\").format(val)\n",
    "        text_kwargs = dict(color=text_color, ha=\"center\", va=\"center\")\n",
    "#         text_kwargs.update(self.annot_kws)\n",
    "        ax.text(x, y, val, **text_kwargs)\n",
    "    else:\n",
    "        text_kwargs = dict(color='.15', ha=\"center\", va=\"center\")\n",
    "        ax.text(x, y, 0, **text_kwargs)\n",
    "ax.set(xticks=[], yticks=[])\n",
    "fig.tight_layout()\n",
    "fig.savefig('{}/ipsc_to_mn_modality_heatmap.pdf'.format(folder))"
   ]
  },
  {
   "cell_type": "markdown",
   "metadata": {},
   "source": [
    "### iPSC-NPC $\\Delta$ modality heatmap"
   ]
  },
  {
   "cell_type": "code",
   "execution_count": 47,
   "metadata": {
    "collapsed": false
   },
   "outputs": [
    {
     "data": {
      "text/html": [
       "<div>\n",
       "<table border=\"1\" class=\"dataframe\">\n",
       "  <thead>\n",
       "    <tr style=\"text-align: right;\">\n",
       "      <th></th>\n",
       "      <th>phenotype_x</th>\n",
       "      <th>event_id</th>\n",
       "      <th>modality_x</th>\n",
       "      <th>phenotype_y</th>\n",
       "      <th>modality_y</th>\n",
       "      <th>transition</th>\n",
       "    </tr>\n",
       "  </thead>\n",
       "  <tbody>\n",
       "    <tr>\n",
       "      <th>7</th>\n",
       "      <td>iPSC</td>\n",
       "      <td>isoform1=junction:chr10:102114390-102120490:+|...</td>\n",
       "      <td>included</td>\n",
       "      <td>NPC</td>\n",
       "      <td>included</td>\n",
       "      <td>iPSC-NPC</td>\n",
       "    </tr>\n",
       "    <tr>\n",
       "      <th>16</th>\n",
       "      <td>iPSC</td>\n",
       "      <td>isoform1=junction:chr10:102746733-102747069:-|...</td>\n",
       "      <td>included</td>\n",
       "      <td>NPC</td>\n",
       "      <td>bimodal</td>\n",
       "      <td>iPSC-NPC</td>\n",
       "    </tr>\n",
       "    <tr>\n",
       "      <th>26</th>\n",
       "      <td>iPSC</td>\n",
       "      <td>isoform1=junction:chr10:103348158-103360494:+|...</td>\n",
       "      <td>included</td>\n",
       "      <td>NPC</td>\n",
       "      <td>included</td>\n",
       "      <td>iPSC-NPC</td>\n",
       "    </tr>\n",
       "    <tr>\n",
       "      <th>35</th>\n",
       "      <td>iPSC</td>\n",
       "      <td>isoform1=junction:chr10:103361094-103368591:+|...</td>\n",
       "      <td>excluded</td>\n",
       "      <td>NPC</td>\n",
       "      <td>excluded</td>\n",
       "      <td>iPSC-NPC</td>\n",
       "    </tr>\n",
       "    <tr>\n",
       "      <th>44</th>\n",
       "      <td>iPSC</td>\n",
       "      <td>isoform1=junction:chr10:1034468-1041868:+|isof...</td>\n",
       "      <td>included</td>\n",
       "      <td>NPC</td>\n",
       "      <td>included</td>\n",
       "      <td>iPSC-NPC</td>\n",
       "    </tr>\n",
       "  </tbody>\n",
       "</table>\n",
       "</div>"
      ],
      "text/plain": [
       "   phenotype_x                                           event_id modality_x  \\\n",
       "7         iPSC  isoform1=junction:chr10:102114390-102120490:+|...   included   \n",
       "16        iPSC  isoform1=junction:chr10:102746733-102747069:-|...   included   \n",
       "26        iPSC  isoform1=junction:chr10:103348158-103360494:+|...   included   \n",
       "35        iPSC  isoform1=junction:chr10:103361094-103368591:+|...   excluded   \n",
       "44        iPSC  isoform1=junction:chr10:1034468-1041868:+|isof...   included   \n",
       "\n",
       "   phenotype_y modality_y transition  \n",
       "7          NPC   included   iPSC-NPC  \n",
       "16         NPC    bimodal   iPSC-NPC  \n",
       "26         NPC   included   iPSC-NPC  \n",
       "35         NPC   excluded   iPSC-NPC  \n",
       "44         NPC   included   iPSC-NPC  "
      ]
     },
     "execution_count": 47,
     "metadata": {},
     "output_type": "execute_result"
    }
   ],
   "source": [
    "rows = (modality_transitions.phenotype_x == 'iPSC') & (modality_transitions.phenotype_y == 'NPC')\n",
    "ipsc_npc_modalities = modality_transitions.loc[rows]\n",
    "ipsc_npc_modalities.head()"
   ]
  },
  {
   "cell_type": "code",
   "execution_count": 48,
   "metadata": {
    "collapsed": false
   },
   "outputs": [
    {
     "data": {
      "text/html": [
       "<div>\n",
       "<table border=\"1\" class=\"dataframe\">\n",
       "  <thead>\n",
       "    <tr style=\"text-align: right;\">\n",
       "      <th>NPC</th>\n",
       "      <th>excluded</th>\n",
       "      <th>bimodal</th>\n",
       "      <th>included</th>\n",
       "      <th>middle</th>\n",
       "      <th>uncategorized</th>\n",
       "    </tr>\n",
       "    <tr>\n",
       "      <th>iPSC</th>\n",
       "      <th></th>\n",
       "      <th></th>\n",
       "      <th></th>\n",
       "      <th></th>\n",
       "      <th></th>\n",
       "    </tr>\n",
       "  </thead>\n",
       "  <tbody>\n",
       "    <tr>\n",
       "      <th>excluded</th>\n",
       "      <td>87.500000</td>\n",
       "      <td>12.500000</td>\n",
       "      <td>NaN</td>\n",
       "      <td>NaN</td>\n",
       "      <td>NaN</td>\n",
       "    </tr>\n",
       "    <tr>\n",
       "      <th>bimodal</th>\n",
       "      <td>24.647887</td>\n",
       "      <td>56.338028</td>\n",
       "      <td>18.779343</td>\n",
       "      <td>NaN</td>\n",
       "      <td>0.234742</td>\n",
       "    </tr>\n",
       "    <tr>\n",
       "      <th>included</th>\n",
       "      <td>NaN</td>\n",
       "      <td>18.005540</td>\n",
       "      <td>81.994460</td>\n",
       "      <td>NaN</td>\n",
       "      <td>NaN</td>\n",
       "    </tr>\n",
       "    <tr>\n",
       "      <th>middle</th>\n",
       "      <td>NaN</td>\n",
       "      <td>NaN</td>\n",
       "      <td>NaN</td>\n",
       "      <td>NaN</td>\n",
       "      <td>NaN</td>\n",
       "    </tr>\n",
       "    <tr>\n",
       "      <th>uncategorized</th>\n",
       "      <td>17.857143</td>\n",
       "      <td>75.000000</td>\n",
       "      <td>NaN</td>\n",
       "      <td>NaN</td>\n",
       "      <td>7.142857</td>\n",
       "    </tr>\n",
       "  </tbody>\n",
       "</table>\n",
       "</div>"
      ],
      "text/plain": [
       "NPC             excluded    bimodal   included  middle  uncategorized\n",
       "iPSC                                                                 \n",
       "excluded       87.500000  12.500000        NaN     NaN            NaN\n",
       "bimodal        24.647887  56.338028  18.779343     NaN       0.234742\n",
       "included             NaN  18.005540  81.994460     NaN            NaN\n",
       "middle               NaN        NaN        NaN     NaN            NaN\n",
       "uncategorized  17.857143  75.000000        NaN     NaN       7.142857"
      ]
     },
     "execution_count": 48,
     "metadata": {},
     "output_type": "execute_result"
    }
   ],
   "source": [
    "ipsc_npc_modality_count = ipsc_npc_modalities.groupby(['modality_x', 'modality_y']).size()\n",
    "ipsc_npc_modality_2d = ipsc_npc_modality_count.unstack()\n",
    "ipsc_npc_modality_2d.index.name = 'iPSC'\n",
    "ipsc_npc_modality_2d.columns.name = 'NPC'\n",
    "ipsc_npc_modality_2d = ipsc_npc_modality_2d.reindex(index=MODALITY_ORDER, columns=MODALITY_ORDER)\n",
    "ipsc_npc_percentages = 100*ipsc_npc_modality_2d.divide(ipsc_npc_modality_2d.sum(axis=1), axis=0)\n",
    "ipsc_npc_percentages"
   ]
  },
  {
   "cell_type": "code",
   "execution_count": 49,
   "metadata": {
    "collapsed": false
   },
   "outputs": [
    {
     "data": {
      "image/png": "[encoded data removed]",
      "text/plain": [
       "<matplotlib.figure.Figure at 0x2b982928dd90>"
      ]
     },
     "metadata": {},
     "output_type": "display_data"
    }
   ],
   "source": [
    "import colorsys\n",
    "\n",
    "fig, ax = plt.subplots(figsize=(2.5, 2))\n",
    "sns.heatmap(ipsc_npc_percentages, cbar_kws=dict(label='% AS exons in both iPSC and NPC'))#, annot=True, fmt='.1f')\n",
    "\n",
    "# fig.axes[-1].yaxis.locator_params()\n",
    "\n",
    "raw = ipsc_npc_modality_2d.ix[::-1]\n",
    "\n",
    "mesh = ax.collections[0]\n",
    "\n",
    "fmt = 'g'\n",
    "\n",
    "mesh.update_scalarmappable()\n",
    "xpos, ypos = np.meshgrid(ax.get_xticks(), ax.get_yticks())\n",
    "for x, y, percentage, val, color in zip(xpos.flat, ypos.flat, \n",
    "                            mesh.get_array(), raw.values.flat, mesh.get_facecolors()):\n",
    "#     print val\n",
    "    if percentage is not np.ma.masked:\n",
    "        _, l, _ = colorsys.rgb_to_hls(*color[:3])\n",
    "        text_color = \".15\" if l > .5 else \"w\"\n",
    "        val = (\"{:\" + fmt + \"}\").format(val)\n",
    "        text_kwargs = dict(color=text_color, ha=\"center\", va=\"center\")\n",
    "#         text_kwargs.update(self.annot_kws)\n",
    "        ax.text(x, y, val, **text_kwargs)\n",
    "    else:\n",
    "        text_kwargs = dict(color='.15', ha=\"center\", va=\"center\")\n",
    "        ax.text(x, y, 0, **text_kwargs)\n",
    "ax.set(xticks=[], yticks=[])\n",
    "fig.tight_layout()\n",
    "fig.savefig('{}/ipsc_to_npc_modality_heatmap.pdf'.format(folder))"
   ]
  },
  {
   "cell_type": "markdown",
   "metadata": {},
   "source": [
    "## Statistical enrichment of motif changes"
   ]
  },
  {
   "cell_type": "code",
   "execution_count": 50,
   "metadata": {
    "collapsed": false
   },
   "outputs": [],
   "source": [
    "transitions = [(u'iPSC', u'NPC'), (u'iPSC', u'MN')]"
   ]
  },
  {
   "cell_type": "code",
   "execution_count": 51,
   "metadata": {
    "collapsed": false
   },
   "outputs": [
    {
     "name": "stdout",
     "output_type": "stream",
     "text": [
      "Object `hypergeom` not found.\n"
     ]
    }
   ],
   "source": [
    "hypergeom?"
   ]
  },
  {
   "cell_type": "code",
   "execution_count": 52,
   "metadata": {
    "collapsed": true
   },
   "outputs": [],
   "source": [
    "from scipy.stats import hypergeom"
   ]
  },
  {
   "cell_type": "code",
   "execution_count": 53,
   "metadata": {
    "collapsed": false
   },
   "outputs": [
    {
     "data": {
      "text/html": [
       "<div>\n",
       "<table border=\"1\" class=\"dataframe\">\n",
       "  <thead>\n",
       "    <tr style=\"text-align: right;\">\n",
       "      <th></th>\n",
       "      <th>phenotype1</th>\n",
       "      <th>modality1</th>\n",
       "      <th>phenotype2</th>\n",
       "      <th>modality2</th>\n",
       "      <th>$-\\log_{10}(p)$</th>\n",
       "      <th>$-\\log_{10}(q)$</th>\n",
       "    </tr>\n",
       "  </thead>\n",
       "  <tbody>\n",
       "    <tr>\n",
       "      <th>0</th>\n",
       "      <td>iPSC</td>\n",
       "      <td>excluded</td>\n",
       "      <td>NPC</td>\n",
       "      <td>excluded</td>\n",
       "      <td>1.027538e+03</td>\n",
       "      <td>1026.176325</td>\n",
       "    </tr>\n",
       "    <tr>\n",
       "      <th>1</th>\n",
       "      <td>iPSC</td>\n",
       "      <td>excluded</td>\n",
       "      <td>NPC</td>\n",
       "      <td>bimodal</td>\n",
       "      <td>-2.176037e-12</td>\n",
       "      <td>-1.361728</td>\n",
       "    </tr>\n",
       "    <tr>\n",
       "      <th>2</th>\n",
       "      <td>iPSC</td>\n",
       "      <td>bimodal</td>\n",
       "      <td>NPC</td>\n",
       "      <td>excluded</td>\n",
       "      <td>-2.847056e-12</td>\n",
       "      <td>-1.361728</td>\n",
       "    </tr>\n",
       "    <tr>\n",
       "      <th>3</th>\n",
       "      <td>iPSC</td>\n",
       "      <td>bimodal</td>\n",
       "      <td>NPC</td>\n",
       "      <td>bimodal</td>\n",
       "      <td>1.503673e+02</td>\n",
       "      <td>149.005571</td>\n",
       "    </tr>\n",
       "    <tr>\n",
       "      <th>4</th>\n",
       "      <td>iPSC</td>\n",
       "      <td>bimodal</td>\n",
       "      <td>NPC</td>\n",
       "      <td>included</td>\n",
       "      <td>-3.689937e-12</td>\n",
       "      <td>-1.361728</td>\n",
       "    </tr>\n",
       "    <tr>\n",
       "      <th>5</th>\n",
       "      <td>iPSC</td>\n",
       "      <td>bimodal</td>\n",
       "      <td>NPC</td>\n",
       "      <td>uncategorized</td>\n",
       "      <td>2.738323e+00</td>\n",
       "      <td>1.376595</td>\n",
       "    </tr>\n",
       "    <tr>\n",
       "      <th>6</th>\n",
       "      <td>iPSC</td>\n",
       "      <td>included</td>\n",
       "      <td>NPC</td>\n",
       "      <td>bimodal</td>\n",
       "      <td>1.485506e-05</td>\n",
       "      <td>-1.361713</td>\n",
       "    </tr>\n",
       "    <tr>\n",
       "      <th>7</th>\n",
       "      <td>iPSC</td>\n",
       "      <td>included</td>\n",
       "      <td>NPC</td>\n",
       "      <td>included</td>\n",
       "      <td>9.572289e+02</td>\n",
       "      <td>955.867144</td>\n",
       "    </tr>\n",
       "    <tr>\n",
       "      <th>8</th>\n",
       "      <td>iPSC</td>\n",
       "      <td>uncategorized</td>\n",
       "      <td>NPC</td>\n",
       "      <td>excluded</td>\n",
       "      <td>5.275872e-03</td>\n",
       "      <td>-1.356452</td>\n",
       "    </tr>\n",
       "    <tr>\n",
       "      <th>9</th>\n",
       "      <td>iPSC</td>\n",
       "      <td>uncategorized</td>\n",
       "      <td>NPC</td>\n",
       "      <td>bimodal</td>\n",
       "      <td>2.203923e+01</td>\n",
       "      <td>20.677505</td>\n",
       "    </tr>\n",
       "    <tr>\n",
       "      <th>10</th>\n",
       "      <td>iPSC</td>\n",
       "      <td>uncategorized</td>\n",
       "      <td>NPC</td>\n",
       "      <td>uncategorized</td>\n",
       "      <td>1.386538e+01</td>\n",
       "      <td>12.503650</td>\n",
       "    </tr>\n",
       "    <tr>\n",
       "      <th>11</th>\n",
       "      <td>iPSC</td>\n",
       "      <td>excluded</td>\n",
       "      <td>MN</td>\n",
       "      <td>excluded</td>\n",
       "      <td>7.402448e+02</td>\n",
       "      <td>738.883048</td>\n",
       "    </tr>\n",
       "    <tr>\n",
       "      <th>12</th>\n",
       "      <td>iPSC</td>\n",
       "      <td>excluded</td>\n",
       "      <td>MN</td>\n",
       "      <td>bimodal</td>\n",
       "      <td>1.822986e-12</td>\n",
       "      <td>-1.361728</td>\n",
       "    </tr>\n",
       "    <tr>\n",
       "      <th>13</th>\n",
       "      <td>iPSC</td>\n",
       "      <td>excluded</td>\n",
       "      <td>MN</td>\n",
       "      <td>included</td>\n",
       "      <td>1.022737e-12</td>\n",
       "      <td>-1.361728</td>\n",
       "    </tr>\n",
       "    <tr>\n",
       "      <th>14</th>\n",
       "      <td>iPSC</td>\n",
       "      <td>bimodal</td>\n",
       "      <td>MN</td>\n",
       "      <td>excluded</td>\n",
       "      <td>3.932958e-08</td>\n",
       "      <td>-1.361728</td>\n",
       "    </tr>\n",
       "    <tr>\n",
       "      <th>15</th>\n",
       "      <td>iPSC</td>\n",
       "      <td>bimodal</td>\n",
       "      <td>MN</td>\n",
       "      <td>bimodal</td>\n",
       "      <td>6.671059e+01</td>\n",
       "      <td>65.348858</td>\n",
       "    </tr>\n",
       "    <tr>\n",
       "      <th>16</th>\n",
       "      <td>iPSC</td>\n",
       "      <td>bimodal</td>\n",
       "      <td>MN</td>\n",
       "      <td>included</td>\n",
       "      <td>1.168230e-06</td>\n",
       "      <td>-1.361727</td>\n",
       "    </tr>\n",
       "    <tr>\n",
       "      <th>17</th>\n",
       "      <td>iPSC</td>\n",
       "      <td>included</td>\n",
       "      <td>MN</td>\n",
       "      <td>bimodal</td>\n",
       "      <td>8.909140e-02</td>\n",
       "      <td>-1.272636</td>\n",
       "    </tr>\n",
       "    <tr>\n",
       "      <th>18</th>\n",
       "      <td>iPSC</td>\n",
       "      <td>included</td>\n",
       "      <td>MN</td>\n",
       "      <td>included</td>\n",
       "      <td>6.702875e+02</td>\n",
       "      <td>668.925775</td>\n",
       "    </tr>\n",
       "    <tr>\n",
       "      <th>19</th>\n",
       "      <td>iPSC</td>\n",
       "      <td>included</td>\n",
       "      <td>MN</td>\n",
       "      <td>uncategorized</td>\n",
       "      <td>inf</td>\n",
       "      <td>inf</td>\n",
       "    </tr>\n",
       "    <tr>\n",
       "      <th>20</th>\n",
       "      <td>iPSC</td>\n",
       "      <td>uncategorized</td>\n",
       "      <td>MN</td>\n",
       "      <td>excluded</td>\n",
       "      <td>1.295796e-01</td>\n",
       "      <td>-1.232148</td>\n",
       "    </tr>\n",
       "    <tr>\n",
       "      <th>21</th>\n",
       "      <td>iPSC</td>\n",
       "      <td>uncategorized</td>\n",
       "      <td>MN</td>\n",
       "      <td>bimodal</td>\n",
       "      <td>1.738398e+01</td>\n",
       "      <td>16.022253</td>\n",
       "    </tr>\n",
       "    <tr>\n",
       "      <th>22</th>\n",
       "      <td>iPSC</td>\n",
       "      <td>uncategorized</td>\n",
       "      <td>MN</td>\n",
       "      <td>included</td>\n",
       "      <td>9.517999e-05</td>\n",
       "      <td>-1.361633</td>\n",
       "    </tr>\n",
       "  </tbody>\n",
       "</table>\n",
       "</div>"
      ],
      "text/plain": [
       "   phenotype1      modality1 phenotype2      modality2  $-\\log_{10}(p)$  \\\n",
       "0        iPSC       excluded        NPC       excluded     1.027538e+03   \n",
       "1        iPSC       excluded        NPC        bimodal    -2.176037e-12   \n",
       "2        iPSC        bimodal        NPC       excluded    -2.847056e-12   \n",
       "3        iPSC        bimodal        NPC        bimodal     1.503673e+02   \n",
       "4        iPSC        bimodal        NPC       included    -3.689937e-12   \n",
       "5        iPSC        bimodal        NPC  uncategorized     2.738323e+00   \n",
       "6        iPSC       included        NPC        bimodal     1.485506e-05   \n",
       "7        iPSC       included        NPC       included     9.572289e+02   \n",
       "8        iPSC  uncategorized        NPC       excluded     5.275872e-03   \n",
       "9        iPSC  uncategorized        NPC        bimodal     2.203923e+01   \n",
       "10       iPSC  uncategorized        NPC  uncategorized     1.386538e+01   \n",
       "11       iPSC       excluded         MN       excluded     7.402448e+02   \n",
       "12       iPSC       excluded         MN        bimodal     1.822986e-12   \n",
       "13       iPSC       excluded         MN       included     1.022737e-12   \n",
       "14       iPSC        bimodal         MN       excluded     3.932958e-08   \n",
       "15       iPSC        bimodal         MN        bimodal     6.671059e+01   \n",
       "16       iPSC        bimodal         MN       included     1.168230e-06   \n",
       "17       iPSC       included         MN        bimodal     8.909140e-02   \n",
       "18       iPSC       included         MN       included     6.702875e+02   \n",
       "19       iPSC       included         MN  uncategorized              inf   \n",
       "20       iPSC  uncategorized         MN       excluded     1.295796e-01   \n",
       "21       iPSC  uncategorized         MN        bimodal     1.738398e+01   \n",
       "22       iPSC  uncategorized         MN       included     9.517999e-05   \n",
       "\n",
       "    $-\\log_{10}(q)$  \n",
       "0       1026.176325  \n",
       "1         -1.361728  \n",
       "2         -1.361728  \n",
       "3        149.005571  \n",
       "4         -1.361728  \n",
       "5          1.376595  \n",
       "6         -1.361713  \n",
       "7        955.867144  \n",
       "8         -1.356452  \n",
       "9         20.677505  \n",
       "10        12.503650  \n",
       "11       738.883048  \n",
       "12        -1.361728  \n",
       "13        -1.361728  \n",
       "14        -1.361728  \n",
       "15        65.348858  \n",
       "16        -1.361727  \n",
       "17        -1.272636  \n",
       "18       668.925775  \n",
       "19              inf  \n",
       "20        -1.232148  \n",
       "21        16.022253  \n",
       "22        -1.361633  "
      ]
     },
     "execution_count": 53,
     "metadata": {},
     "output_type": "execute_result"
    }
   ],
   "source": [
    "import itertools\n",
    "\n",
    "lines = []\n",
    "\n",
    "for phenotype1, phenotype2 in transitions:\n",
    "    modality_subset = modality_transitions.query('(phenotype_x == @phenotype1) & (phenotype_y == @phenotype2)')\n",
    "#     six.print_(phenotype1, phenotype2, modality_subset.shape)\n",
    "    M = len(modality_subset['event_id'].unique())\n",
    "    \n",
    "    for modality1, modality2 in itertools.product(MODALITY_ORDER, repeat=2):\n",
    "#         six.print_('\\t', modality1, modality2)\n",
    "        df1 = modality_subset.query('(phenotype_x == @phenotype1) & (modality_x == @modality1)')\n",
    "        df2 = modality_subset.query('(phenotype_y == @phenotype2) & (modality_y == @modality2)')\n",
    "        \n",
    "        n = df1.shape[0]\n",
    "        N = df2.shape[0]\n",
    "        x = len(set(df1['event_id']) & set(df2['event_id']))\n",
    "#         six.print_('\\t\\t', x, M, n, N)\n",
    "        if x > 0:\n",
    "            result = -hypergeom.logsf(x, M, n, N)\n",
    "#             six.print_('\\t\\t\\t', result)\n",
    "            lines.append([phenotype1, modality1, phenotype2, modality2, result])\n",
    "enrichment = pd.DataFrame(lines, columns=['phenotype1', 'modality1', 'phenotype2', 'modality2', '$-\\log_{10}(p)$'])\n",
    "enrichment['$-\\log_{10}(q)$'] = enrichment['$-\\log_{10}(p)$'] - np.log10(enrichment.shape[0])\n",
    "enrichment"
   ]
  },
  {
   "cell_type": "code",
   "execution_count": 54,
   "metadata": {
    "collapsed": false
   },
   "outputs": [],
   "source": [
    "enrichment_2d = enrichment.pivot_table(index=['phenotype1', 'modality1'], \n",
    "                                       columns=['phenotype2', 'modality2'], \n",
    "                                       values='$-\\log_{10}(q)$')"
   ]
  },
  {
   "cell_type": "code",
   "execution_count": 55,
   "metadata": {
    "collapsed": false
   },
   "outputs": [
    {
     "data": {
      "text/html": [
       "<div>\n",
       "<table border=\"1\" class=\"dataframe\">\n",
       "  <thead>\n",
       "    <tr>\n",
       "      <th></th>\n",
       "      <th></th>\n",
       "      <th colspan=\"5\" halign=\"left\">NPC</th>\n",
       "      <th colspan=\"5\" halign=\"left\">MN</th>\n",
       "    </tr>\n",
       "    <tr>\n",
       "      <th></th>\n",
       "      <th></th>\n",
       "      <th>excluded</th>\n",
       "      <th>bimodal</th>\n",
       "      <th>included</th>\n",
       "      <th>middle</th>\n",
       "      <th>uncategorized</th>\n",
       "      <th>excluded</th>\n",
       "      <th>bimodal</th>\n",
       "      <th>included</th>\n",
       "      <th>middle</th>\n",
       "      <th>uncategorized</th>\n",
       "    </tr>\n",
       "  </thead>\n",
       "  <tbody>\n",
       "    <tr>\n",
       "      <th rowspan=\"5\" valign=\"top\">iPSC</th>\n",
       "      <th>excluded</th>\n",
       "      <td>1026.176325</td>\n",
       "      <td>-1.361728</td>\n",
       "      <td>NaN</td>\n",
       "      <td>NaN</td>\n",
       "      <td>NaN</td>\n",
       "      <td>738.883048</td>\n",
       "      <td>-1.361728</td>\n",
       "      <td>-1.361728</td>\n",
       "      <td>NaN</td>\n",
       "      <td>NaN</td>\n",
       "    </tr>\n",
       "    <tr>\n",
       "      <th>bimodal</th>\n",
       "      <td>-1.361728</td>\n",
       "      <td>149.005571</td>\n",
       "      <td>-1.361728</td>\n",
       "      <td>NaN</td>\n",
       "      <td>1.376595</td>\n",
       "      <td>-1.361728</td>\n",
       "      <td>65.348858</td>\n",
       "      <td>-1.361727</td>\n",
       "      <td>NaN</td>\n",
       "      <td>NaN</td>\n",
       "    </tr>\n",
       "    <tr>\n",
       "      <th>included</th>\n",
       "      <td>NaN</td>\n",
       "      <td>-1.361713</td>\n",
       "      <td>955.867144</td>\n",
       "      <td>NaN</td>\n",
       "      <td>NaN</td>\n",
       "      <td>NaN</td>\n",
       "      <td>-1.272636</td>\n",
       "      <td>668.925775</td>\n",
       "      <td>NaN</td>\n",
       "      <td>inf</td>\n",
       "    </tr>\n",
       "    <tr>\n",
       "      <th>middle</th>\n",
       "      <td>NaN</td>\n",
       "      <td>NaN</td>\n",
       "      <td>NaN</td>\n",
       "      <td>NaN</td>\n",
       "      <td>NaN</td>\n",
       "      <td>NaN</td>\n",
       "      <td>NaN</td>\n",
       "      <td>NaN</td>\n",
       "      <td>NaN</td>\n",
       "      <td>NaN</td>\n",
       "    </tr>\n",
       "    <tr>\n",
       "      <th>uncategorized</th>\n",
       "      <td>-1.356452</td>\n",
       "      <td>20.677505</td>\n",
       "      <td>NaN</td>\n",
       "      <td>NaN</td>\n",
       "      <td>12.503650</td>\n",
       "      <td>-1.232148</td>\n",
       "      <td>16.022253</td>\n",
       "      <td>-1.361633</td>\n",
       "      <td>NaN</td>\n",
       "      <td>NaN</td>\n",
       "    </tr>\n",
       "  </tbody>\n",
       "</table>\n",
       "</div>"
      ],
      "text/plain": [
       "                            NPC                                               \\\n",
       "                       excluded     bimodal    included middle uncategorized   \n",
       "iPSC excluded       1026.176325   -1.361728         NaN    NaN           NaN   \n",
       "     bimodal          -1.361728  149.005571   -1.361728    NaN      1.376595   \n",
       "     included               NaN   -1.361713  955.867144    NaN           NaN   \n",
       "     middle                 NaN         NaN         NaN    NaN           NaN   \n",
       "     uncategorized    -1.356452   20.677505         NaN    NaN     12.503650   \n",
       "\n",
       "                            MN                                              \n",
       "                      excluded    bimodal    included middle uncategorized  \n",
       "iPSC excluded       738.883048  -1.361728   -1.361728    NaN           NaN  \n",
       "     bimodal         -1.361728  65.348858   -1.361727    NaN           NaN  \n",
       "     included              NaN  -1.272636  668.925775    NaN           inf  \n",
       "     middle                NaN        NaN         NaN    NaN           NaN  \n",
       "     uncategorized   -1.232148  16.022253   -1.361633    NaN           NaN  "
      ]
     },
     "execution_count": 55,
     "metadata": {},
     "output_type": "execute_result"
    }
   ],
   "source": [
    "columns = pd.MultiIndex.from_product([['NPC', 'MN'], MODALITY_ORDER])\n",
    "index = pd.MultiIndex.from_product([['iPSC'], MODALITY_ORDER])\n",
    "\n",
    "enrichment_2d = enrichment_2d.reindex(columns=columns, index=index)\n",
    "enrichment_2d"
   ]
  },
  {
   "cell_type": "code",
   "execution_count": 56,
   "metadata": {
    "collapsed": false
   },
   "outputs": [
    {
     "data": {
      "image/png": "[encoded data removed]",
      "text/plain": [
       "<matplotlib.figure.Figure at 0x2b982fa31c50>"
      ]
     },
     "metadata": {},
     "output_type": "display_data"
    }
   ],
   "source": [
    "fig, ax = plt.subplots(figsize=(4, 1.75))\n",
    "sns.heatmap(enrichment_2d, vmin=0, vmax=2000, annot=True)\n",
    "\n",
    "ymin, ymax = ax.get_ylim()\n",
    "ax.vlines(5, ymin, ymax)\n",
    "ax.set(xticks=[], yticks=[], ylabel='iPSC', xlabel='')\n",
    "fig.tight_layout()"
   ]
  },
  {
   "cell_type": "markdown",
   "metadata": {
    "collapsed": false
   },
   "source": [
    "## Barplot of changes to/from bimodal"
   ]
  },
  {
   "cell_type": "code",
   "execution_count": 57,
   "metadata": {
    "collapsed": false
   },
   "outputs": [
    {
     "data": {
      "text/html": [
       "<div>\n",
       "<table border=\"1\" class=\"dataframe\">\n",
       "  <thead>\n",
       "    <tr style=\"text-align: right;\">\n",
       "      <th></th>\n",
       "      <th>phenotype_x</th>\n",
       "      <th>event_id</th>\n",
       "      <th>modality_x</th>\n",
       "      <th>phenotype_y</th>\n",
       "      <th>modality_y</th>\n",
       "      <th>transition</th>\n",
       "    </tr>\n",
       "  </thead>\n",
       "  <tbody>\n",
       "    <tr>\n",
       "      <th>0</th>\n",
       "      <td>MN</td>\n",
       "      <td>isoform1=junction:chr10:102114390-102120490:+|...</td>\n",
       "      <td>included</td>\n",
       "      <td>MN</td>\n",
       "      <td>included</td>\n",
       "      <td>MN-MN</td>\n",
       "    </tr>\n",
       "    <tr>\n",
       "      <th>1</th>\n",
       "      <td>MN</td>\n",
       "      <td>isoform1=junction:chr10:102114390-102120490:+|...</td>\n",
       "      <td>included</td>\n",
       "      <td>NPC</td>\n",
       "      <td>included</td>\n",
       "      <td>MN-NPC</td>\n",
       "    </tr>\n",
       "    <tr>\n",
       "      <th>2</th>\n",
       "      <td>MN</td>\n",
       "      <td>isoform1=junction:chr10:102114390-102120490:+|...</td>\n",
       "      <td>included</td>\n",
       "      <td>iPSC</td>\n",
       "      <td>included</td>\n",
       "      <td>MN-iPSC</td>\n",
       "    </tr>\n",
       "    <tr>\n",
       "      <th>3</th>\n",
       "      <td>NPC</td>\n",
       "      <td>isoform1=junction:chr10:102114390-102120490:+|...</td>\n",
       "      <td>included</td>\n",
       "      <td>MN</td>\n",
       "      <td>included</td>\n",
       "      <td>NPC-MN</td>\n",
       "    </tr>\n",
       "    <tr>\n",
       "      <th>4</th>\n",
       "      <td>NPC</td>\n",
       "      <td>isoform1=junction:chr10:102114390-102120490:+|...</td>\n",
       "      <td>included</td>\n",
       "      <td>NPC</td>\n",
       "      <td>included</td>\n",
       "      <td>NPC-NPC</td>\n",
       "    </tr>\n",
       "  </tbody>\n",
       "</table>\n",
       "</div>"
      ],
      "text/plain": [
       "  phenotype_x                                           event_id modality_x  \\\n",
       "0          MN  isoform1=junction:chr10:102114390-102120490:+|...   included   \n",
       "1          MN  isoform1=junction:chr10:102114390-102120490:+|...   included   \n",
       "2          MN  isoform1=junction:chr10:102114390-102120490:+|...   included   \n",
       "3         NPC  isoform1=junction:chr10:102114390-102120490:+|...   included   \n",
       "4         NPC  isoform1=junction:chr10:102114390-102120490:+|...   included   \n",
       "\n",
       "  phenotype_y modality_y transition  \n",
       "0          MN   included      MN-MN  \n",
       "1         NPC   included     MN-NPC  \n",
       "2        iPSC   included    MN-iPSC  \n",
       "3          MN   included     NPC-MN  \n",
       "4         NPC   included    NPC-NPC  "
      ]
     },
     "execution_count": 57,
     "metadata": {},
     "output_type": "execute_result"
    }
   ],
   "source": [
    "modality_transitions.head()"
   ]
  },
  {
   "cell_type": "code",
   "execution_count": 58,
   "metadata": {
    "collapsed": false
   },
   "outputs": [
    {
     "data": {
      "text/html": [
       "<div>\n",
       "<table border=\"1\" class=\"dataframe\">\n",
       "  <thead>\n",
       "    <tr style=\"text-align: right;\">\n",
       "      <th></th>\n",
       "      <th>phenotype_x</th>\n",
       "      <th>event_id</th>\n",
       "      <th>modality_x</th>\n",
       "      <th>phenotype_y</th>\n",
       "      <th>modality_y</th>\n",
       "      <th>transition</th>\n",
       "    </tr>\n",
       "  </thead>\n",
       "  <tbody>\n",
       "    <tr>\n",
       "      <th>0</th>\n",
       "      <td>MN</td>\n",
       "      <td>isoform1=junction:chr10:102114390-102120490:+|...</td>\n",
       "      <td>included</td>\n",
       "      <td>MN</td>\n",
       "      <td>included</td>\n",
       "      <td>MN-MN</td>\n",
       "    </tr>\n",
       "    <tr>\n",
       "      <th>1</th>\n",
       "      <td>MN</td>\n",
       "      <td>isoform1=junction:chr10:102114390-102120490:+|...</td>\n",
       "      <td>included</td>\n",
       "      <td>NPC</td>\n",
       "      <td>included</td>\n",
       "      <td>MN-NPC</td>\n",
       "    </tr>\n",
       "    <tr>\n",
       "      <th>2</th>\n",
       "      <td>MN</td>\n",
       "      <td>isoform1=junction:chr10:102114390-102120490:+|...</td>\n",
       "      <td>included</td>\n",
       "      <td>iPSC</td>\n",
       "      <td>included</td>\n",
       "      <td>MN-iPSC</td>\n",
       "    </tr>\n",
       "    <tr>\n",
       "      <th>3</th>\n",
       "      <td>NPC</td>\n",
       "      <td>isoform1=junction:chr10:102114390-102120490:+|...</td>\n",
       "      <td>included</td>\n",
       "      <td>MN</td>\n",
       "      <td>included</td>\n",
       "      <td>NPC-MN</td>\n",
       "    </tr>\n",
       "    <tr>\n",
       "      <th>4</th>\n",
       "      <td>NPC</td>\n",
       "      <td>isoform1=junction:chr10:102114390-102120490:+|...</td>\n",
       "      <td>included</td>\n",
       "      <td>NPC</td>\n",
       "      <td>included</td>\n",
       "      <td>NPC-NPC</td>\n",
       "    </tr>\n",
       "  </tbody>\n",
       "</table>\n",
       "</div>"
      ],
      "text/plain": [
       "  phenotype_x                                           event_id modality_x  \\\n",
       "0          MN  isoform1=junction:chr10:102114390-102120490:+|...   included   \n",
       "1          MN  isoform1=junction:chr10:102114390-102120490:+|...   included   \n",
       "2          MN  isoform1=junction:chr10:102114390-102120490:+|...   included   \n",
       "3         NPC  isoform1=junction:chr10:102114390-102120490:+|...   included   \n",
       "4         NPC  isoform1=junction:chr10:102114390-102120490:+|...   included   \n",
       "\n",
       "  phenotype_y modality_y transition  \n",
       "0          MN   included      MN-MN  \n",
       "1         NPC   included     MN-NPC  \n",
       "2        iPSC   included    MN-iPSC  \n",
       "3          MN   included     NPC-MN  \n",
       "4         NPC   included    NPC-NPC  "
      ]
     },
     "execution_count": 58,
     "metadata": {},
     "output_type": "execute_result"
    }
   ],
   "source": [
    "modality_transitions['transition'] = modality_transitions['phenotype_x'] + '-' + modality_transitions['phenotype_y']\n",
    "modality_transitions.head()"
   ]
  },
  {
   "cell_type": "code",
   "execution_count": 59,
   "metadata": {
    "collapsed": true
   },
   "outputs": [],
   "source": [
    "transitions_of_interest = ['iPSC-NPC', 'iPSC-MN']"
   ]
  },
  {
   "cell_type": "code",
   "execution_count": 60,
   "metadata": {
    "collapsed": false
   },
   "outputs": [
    {
     "name": "stderr",
     "output_type": "stream",
     "text": [
      "/home/obotvinnik/anaconda/lib/python2.7/site-packages/ipykernel/__main__.py:5: SettingWithCopyWarning: \n",
      "A value is trying to be set on a copy of a slice from a DataFrame.\n",
      "Try using .loc[row_indexer,col_indexer] = value instead\n",
      "\n",
      "See the caveats in the documentation: http://pandas.pydata.org/pandas-docs/stable/indexing.html#indexing-view-versus-copy\n"
     ]
    },
    {
     "data": {
      "text/html": [
       "<div>\n",
       "<table border=\"1\" class=\"dataframe\">\n",
       "  <thead>\n",
       "    <tr style=\"text-align: right;\">\n",
       "      <th></th>\n",
       "      <th>phenotype_x</th>\n",
       "      <th>event_id</th>\n",
       "      <th>modality_x</th>\n",
       "      <th>phenotype_y</th>\n",
       "      <th>modality_y</th>\n",
       "      <th>transition</th>\n",
       "    </tr>\n",
       "  </thead>\n",
       "  <tbody>\n",
       "    <tr>\n",
       "      <th>15</th>\n",
       "      <td>iPSC</td>\n",
       "      <td>isoform1=junction:chr10:102746733-102747069:-|...</td>\n",
       "      <td>included</td>\n",
       "      <td>MN</td>\n",
       "      <td>bimodal</td>\n",
       "      <td>iPSC-MN</td>\n",
       "    </tr>\n",
       "    <tr>\n",
       "      <th>16</th>\n",
       "      <td>iPSC</td>\n",
       "      <td>isoform1=junction:chr10:102746733-102747069:-|...</td>\n",
       "      <td>included</td>\n",
       "      <td>NPC</td>\n",
       "      <td>bimodal</td>\n",
       "      <td>iPSC-NPC</td>\n",
       "    </tr>\n",
       "    <tr>\n",
       "      <th>79</th>\n",
       "      <td>iPSC</td>\n",
       "      <td>isoform1=junction:chr10:104248896-104262356:-|...</td>\n",
       "      <td>bimodal</td>\n",
       "      <td>MN</td>\n",
       "      <td>included</td>\n",
       "      <td>iPSC-MN</td>\n",
       "    </tr>\n",
       "    <tr>\n",
       "      <th>80</th>\n",
       "      <td>iPSC</td>\n",
       "      <td>isoform1=junction:chr10:104248896-104262356:-|...</td>\n",
       "      <td>bimodal</td>\n",
       "      <td>NPC</td>\n",
       "      <td>included</td>\n",
       "      <td>iPSC-NPC</td>\n",
       "    </tr>\n",
       "    <tr>\n",
       "      <th>124</th>\n",
       "      <td>iPSC</td>\n",
       "      <td>isoform1=junction:chr10:1089334-1094803:-|isof...</td>\n",
       "      <td>uncategorized</td>\n",
       "      <td>MN</td>\n",
       "      <td>bimodal</td>\n",
       "      <td>iPSC-MN</td>\n",
       "    </tr>\n",
       "  </tbody>\n",
       "</table>\n",
       "</div>"
      ],
      "text/plain": [
       "    phenotype_x                                           event_id  \\\n",
       "15         iPSC  isoform1=junction:chr10:102746733-102747069:-|...   \n",
       "16         iPSC  isoform1=junction:chr10:102746733-102747069:-|...   \n",
       "79         iPSC  isoform1=junction:chr10:104248896-104262356:-|...   \n",
       "80         iPSC  isoform1=junction:chr10:104248896-104262356:-|...   \n",
       "124        iPSC  isoform1=junction:chr10:1089334-1094803:-|isof...   \n",
       "\n",
       "        modality_x phenotype_y modality_y transition  \n",
       "15        included          MN    bimodal    iPSC-MN  \n",
       "16        included         NPC    bimodal   iPSC-NPC  \n",
       "79         bimodal          MN   included    iPSC-MN  \n",
       "80         bimodal         NPC   included   iPSC-NPC  \n",
       "124  uncategorized          MN    bimodal    iPSC-MN  "
      ]
     },
     "execution_count": 60,
     "metadata": {},
     "output_type": "execute_result"
    }
   ],
   "source": [
    "transition_rows = modality_transitions.transition.isin(transitions_of_interest)\n",
    "delta_modality_rows = modality_transitions['modality_x'] != modality_transitions['modality_y']\n",
    "modality_transitions_different_modalities = modality_transitions.loc[transition_rows & delta_modality_rows]\n",
    "modality_transitions_different_modalities['transition'] = pd.Categorical(modality_transitions_different_modalities['transition'], \n",
    "                                                           categories=transitions_of_interest, ordered=True)\n",
    "modality_transitions_different_modalities.head()"
   ]
  },
  {
   "cell_type": "code",
   "execution_count": 61,
   "metadata": {
    "collapsed": false
   },
   "outputs": [
    {
     "data": {
      "text/html": [
       "<div>\n",
       "<table border=\"1\" class=\"dataframe\">\n",
       "  <thead>\n",
       "    <tr style=\"text-align: right;\">\n",
       "      <th></th>\n",
       "      <th>transition</th>\n",
       "      <th>modality_x</th>\n",
       "      <th>modality_y</th>\n",
       "      <th># AS Exons</th>\n",
       "    </tr>\n",
       "  </thead>\n",
       "  <tbody>\n",
       "    <tr>\n",
       "      <th>0</th>\n",
       "      <td>iPSC-NPC</td>\n",
       "      <td>bimodal</td>\n",
       "      <td>excluded</td>\n",
       "      <td>105</td>\n",
       "    </tr>\n",
       "    <tr>\n",
       "      <th>1</th>\n",
       "      <td>iPSC-NPC</td>\n",
       "      <td>bimodal</td>\n",
       "      <td>included</td>\n",
       "      <td>80</td>\n",
       "    </tr>\n",
       "    <tr>\n",
       "      <th>2</th>\n",
       "      <td>iPSC-NPC</td>\n",
       "      <td>bimodal</td>\n",
       "      <td>uncategorized</td>\n",
       "      <td>1</td>\n",
       "    </tr>\n",
       "    <tr>\n",
       "      <th>3</th>\n",
       "      <td>iPSC-NPC</td>\n",
       "      <td>excluded</td>\n",
       "      <td>bimodal</td>\n",
       "      <td>151</td>\n",
       "    </tr>\n",
       "    <tr>\n",
       "      <th>4</th>\n",
       "      <td>iPSC-NPC</td>\n",
       "      <td>included</td>\n",
       "      <td>bimodal</td>\n",
       "      <td>195</td>\n",
       "    </tr>\n",
       "    <tr>\n",
       "      <th>5</th>\n",
       "      <td>iPSC-NPC</td>\n",
       "      <td>uncategorized</td>\n",
       "      <td>bimodal</td>\n",
       "      <td>21</td>\n",
       "    </tr>\n",
       "    <tr>\n",
       "      <th>6</th>\n",
       "      <td>iPSC-NPC</td>\n",
       "      <td>uncategorized</td>\n",
       "      <td>excluded</td>\n",
       "      <td>5</td>\n",
       "    </tr>\n",
       "    <tr>\n",
       "      <th>7</th>\n",
       "      <td>iPSC-MN</td>\n",
       "      <td>bimodal</td>\n",
       "      <td>excluded</td>\n",
       "      <td>54</td>\n",
       "    </tr>\n",
       "    <tr>\n",
       "      <th>8</th>\n",
       "      <td>iPSC-MN</td>\n",
       "      <td>bimodal</td>\n",
       "      <td>included</td>\n",
       "      <td>45</td>\n",
       "    </tr>\n",
       "    <tr>\n",
       "      <th>9</th>\n",
       "      <td>iPSC-MN</td>\n",
       "      <td>excluded</td>\n",
       "      <td>bimodal</td>\n",
       "      <td>97</td>\n",
       "    </tr>\n",
       "    <tr>\n",
       "      <th>10</th>\n",
       "      <td>iPSC-MN</td>\n",
       "      <td>excluded</td>\n",
       "      <td>included</td>\n",
       "      <td>2</td>\n",
       "    </tr>\n",
       "    <tr>\n",
       "      <th>11</th>\n",
       "      <td>iPSC-MN</td>\n",
       "      <td>included</td>\n",
       "      <td>bimodal</td>\n",
       "      <td>136</td>\n",
       "    </tr>\n",
       "    <tr>\n",
       "      <th>12</th>\n",
       "      <td>iPSC-MN</td>\n",
       "      <td>included</td>\n",
       "      <td>uncategorized</td>\n",
       "      <td>1</td>\n",
       "    </tr>\n",
       "    <tr>\n",
       "      <th>13</th>\n",
       "      <td>iPSC-MN</td>\n",
       "      <td>uncategorized</td>\n",
       "      <td>bimodal</td>\n",
       "      <td>17</td>\n",
       "    </tr>\n",
       "    <tr>\n",
       "      <th>14</th>\n",
       "      <td>iPSC-MN</td>\n",
       "      <td>uncategorized</td>\n",
       "      <td>excluded</td>\n",
       "      <td>8</td>\n",
       "    </tr>\n",
       "    <tr>\n",
       "      <th>15</th>\n",
       "      <td>iPSC-MN</td>\n",
       "      <td>uncategorized</td>\n",
       "      <td>included</td>\n",
       "      <td>1</td>\n",
       "    </tr>\n",
       "  </tbody>\n",
       "</table>\n",
       "</div>"
      ],
      "text/plain": [
       "   transition     modality_x     modality_y  # AS Exons\n",
       "0    iPSC-NPC        bimodal       excluded         105\n",
       "1    iPSC-NPC        bimodal       included          80\n",
       "2    iPSC-NPC        bimodal  uncategorized           1\n",
       "3    iPSC-NPC       excluded        bimodal         151\n",
       "4    iPSC-NPC       included        bimodal         195\n",
       "5    iPSC-NPC  uncategorized        bimodal          21\n",
       "6    iPSC-NPC  uncategorized       excluded           5\n",
       "7     iPSC-MN        bimodal       excluded          54\n",
       "8     iPSC-MN        bimodal       included          45\n",
       "9     iPSC-MN       excluded        bimodal          97\n",
       "10    iPSC-MN       excluded       included           2\n",
       "11    iPSC-MN       included        bimodal         136\n",
       "12    iPSC-MN       included  uncategorized           1\n",
       "13    iPSC-MN  uncategorized        bimodal          17\n",
       "14    iPSC-MN  uncategorized       excluded           8\n",
       "15    iPSC-MN  uncategorized       included           1"
      ]
     },
     "execution_count": 61,
     "metadata": {},
     "output_type": "execute_result"
    }
   ],
   "source": [
    "delta_modalities = modality_transitions_different_modalities.groupby(['transition', 'modality_x', 'modality_y']).size()\n",
    "delta_modalities = delta_modalities.reset_index()\n",
    "delta_modalities = delta_modalities.rename(columns={0: '# AS Exons'})\n",
    "delta_modalities"
   ]
  },
  {
   "cell_type": "code",
   "execution_count": 62,
   "metadata": {
    "collapsed": false
   },
   "outputs": [
    {
     "data": {
      "text/plain": [
       "transition\n",
       "iPSC-NPC    558\n",
       "iPSC-MN     361\n",
       "Name: # AS Exons, dtype: int64"
      ]
     },
     "execution_count": 62,
     "metadata": {},
     "output_type": "execute_result"
    }
   ],
   "source": [
    "delta_modalities.groupby('transition')['# AS Exons'].sum()"
   ]
  },
  {
   "cell_type": "code",
   "execution_count": 63,
   "metadata": {
    "collapsed": false
   },
   "outputs": [
    {
     "data": {
      "text/html": [
       "<div>\n",
       "<table border=\"1\" class=\"dataframe\">\n",
       "  <thead>\n",
       "    <tr style=\"text-align: right;\">\n",
       "      <th></th>\n",
       "      <th>transition</th>\n",
       "      <th>modality_x</th>\n",
       "      <th>modality_y</th>\n",
       "      <th># AS Exons</th>\n",
       "      <th>$\\Delta$ Modality</th>\n",
       "    </tr>\n",
       "  </thead>\n",
       "  <tbody>\n",
       "    <tr>\n",
       "      <th>0</th>\n",
       "      <td>iPSC-NPC</td>\n",
       "      <td>bimodal</td>\n",
       "      <td>excluded</td>\n",
       "      <td>105</td>\n",
       "      <td>Bimodal --&gt; X</td>\n",
       "    </tr>\n",
       "    <tr>\n",
       "      <th>1</th>\n",
       "      <td>iPSC-NPC</td>\n",
       "      <td>bimodal</td>\n",
       "      <td>included</td>\n",
       "      <td>80</td>\n",
       "      <td>Bimodal --&gt; X</td>\n",
       "    </tr>\n",
       "    <tr>\n",
       "      <th>2</th>\n",
       "      <td>iPSC-NPC</td>\n",
       "      <td>bimodal</td>\n",
       "      <td>uncategorized</td>\n",
       "      <td>1</td>\n",
       "      <td>Bimodal --&gt; X</td>\n",
       "    </tr>\n",
       "    <tr>\n",
       "      <th>3</th>\n",
       "      <td>iPSC-NPC</td>\n",
       "      <td>excluded</td>\n",
       "      <td>bimodal</td>\n",
       "      <td>151</td>\n",
       "      <td>X --&gt; Bimodal</td>\n",
       "    </tr>\n",
       "    <tr>\n",
       "      <th>4</th>\n",
       "      <td>iPSC-NPC</td>\n",
       "      <td>included</td>\n",
       "      <td>bimodal</td>\n",
       "      <td>195</td>\n",
       "      <td>X --&gt; Bimodal</td>\n",
       "    </tr>\n",
       "    <tr>\n",
       "      <th>5</th>\n",
       "      <td>iPSC-NPC</td>\n",
       "      <td>uncategorized</td>\n",
       "      <td>bimodal</td>\n",
       "      <td>21</td>\n",
       "      <td>X --&gt; Bimodal</td>\n",
       "    </tr>\n",
       "    <tr>\n",
       "      <th>6</th>\n",
       "      <td>iPSC-NPC</td>\n",
       "      <td>uncategorized</td>\n",
       "      <td>excluded</td>\n",
       "      <td>5</td>\n",
       "      <td>Other</td>\n",
       "    </tr>\n",
       "    <tr>\n",
       "      <th>7</th>\n",
       "      <td>iPSC-MN</td>\n",
       "      <td>bimodal</td>\n",
       "      <td>excluded</td>\n",
       "      <td>54</td>\n",
       "      <td>Bimodal --&gt; X</td>\n",
       "    </tr>\n",
       "    <tr>\n",
       "      <th>8</th>\n",
       "      <td>iPSC-MN</td>\n",
       "      <td>bimodal</td>\n",
       "      <td>included</td>\n",
       "      <td>45</td>\n",
       "      <td>Bimodal --&gt; X</td>\n",
       "    </tr>\n",
       "    <tr>\n",
       "      <th>9</th>\n",
       "      <td>iPSC-MN</td>\n",
       "      <td>excluded</td>\n",
       "      <td>bimodal</td>\n",
       "      <td>97</td>\n",
       "      <td>X --&gt; Bimodal</td>\n",
       "    </tr>\n",
       "    <tr>\n",
       "      <th>10</th>\n",
       "      <td>iPSC-MN</td>\n",
       "      <td>excluded</td>\n",
       "      <td>included</td>\n",
       "      <td>2</td>\n",
       "      <td>Other</td>\n",
       "    </tr>\n",
       "    <tr>\n",
       "      <th>11</th>\n",
       "      <td>iPSC-MN</td>\n",
       "      <td>included</td>\n",
       "      <td>bimodal</td>\n",
       "      <td>136</td>\n",
       "      <td>X --&gt; Bimodal</td>\n",
       "    </tr>\n",
       "    <tr>\n",
       "      <th>12</th>\n",
       "      <td>iPSC-MN</td>\n",
       "      <td>included</td>\n",
       "      <td>uncategorized</td>\n",
       "      <td>1</td>\n",
       "      <td>Other</td>\n",
       "    </tr>\n",
       "    <tr>\n",
       "      <th>13</th>\n",
       "      <td>iPSC-MN</td>\n",
       "      <td>uncategorized</td>\n",
       "      <td>bimodal</td>\n",
       "      <td>17</td>\n",
       "      <td>X --&gt; Bimodal</td>\n",
       "    </tr>\n",
       "    <tr>\n",
       "      <th>14</th>\n",
       "      <td>iPSC-MN</td>\n",
       "      <td>uncategorized</td>\n",
       "      <td>excluded</td>\n",
       "      <td>8</td>\n",
       "      <td>Other</td>\n",
       "    </tr>\n",
       "    <tr>\n",
       "      <th>15</th>\n",
       "      <td>iPSC-MN</td>\n",
       "      <td>uncategorized</td>\n",
       "      <td>included</td>\n",
       "      <td>1</td>\n",
       "      <td>Other</td>\n",
       "    </tr>\n",
       "  </tbody>\n",
       "</table>\n",
       "</div>"
      ],
      "text/plain": [
       "   transition     modality_x     modality_y  # AS Exons $\\Delta$ Modality\n",
       "0    iPSC-NPC        bimodal       excluded         105     Bimodal --> X\n",
       "1    iPSC-NPC        bimodal       included          80     Bimodal --> X\n",
       "2    iPSC-NPC        bimodal  uncategorized           1     Bimodal --> X\n",
       "3    iPSC-NPC       excluded        bimodal         151     X --> Bimodal\n",
       "4    iPSC-NPC       included        bimodal         195     X --> Bimodal\n",
       "5    iPSC-NPC  uncategorized        bimodal          21     X --> Bimodal\n",
       "6    iPSC-NPC  uncategorized       excluded           5             Other\n",
       "7     iPSC-MN        bimodal       excluded          54     Bimodal --> X\n",
       "8     iPSC-MN        bimodal       included          45     Bimodal --> X\n",
       "9     iPSC-MN       excluded        bimodal          97     X --> Bimodal\n",
       "10    iPSC-MN       excluded       included           2             Other\n",
       "11    iPSC-MN       included        bimodal         136     X --> Bimodal\n",
       "12    iPSC-MN       included  uncategorized           1             Other\n",
       "13    iPSC-MN  uncategorized        bimodal          17     X --> Bimodal\n",
       "14    iPSC-MN  uncategorized       excluded           8             Other\n",
       "15    iPSC-MN  uncategorized       included           1             Other"
      ]
     },
     "execution_count": 63,
     "metadata": {},
     "output_type": "execute_result"
    }
   ],
   "source": [
    "col = '$\\Delta$ Modality'\n",
    "\n",
    "# Label everythign as \"Other\" first\n",
    "delta_modalities[col] = 'Other'\n",
    "\n",
    "modality1_bimodal = delta_modalities['modality_x'] == 'bimodal'\n",
    "modality2_bimodal = delta_modalities['modality_y'] == 'bimodal'\n",
    "\n",
    "# From bimodal\n",
    "delta_modalities.loc[modality1_bimodal, col] = 'Bimodal --> X'\n",
    "\n",
    "# To Bimodal\n",
    "delta_modalities.loc[modality2_bimodal, col] = 'X --> Bimodal'\n",
    "delta_modalities"
   ]
  },
  {
   "cell_type": "code",
   "execution_count": 64,
   "metadata": {
    "collapsed": false
   },
   "outputs": [
    {
     "data": {
      "text/html": [
       "<div>\n",
       "<table border=\"1\" class=\"dataframe\">\n",
       "  <thead>\n",
       "    <tr style=\"text-align: right;\">\n",
       "      <th></th>\n",
       "      <th>transition</th>\n",
       "      <th>modality_x</th>\n",
       "      <th>modality_y</th>\n",
       "      <th># AS Exons</th>\n",
       "      <th>$\\Delta$ Modality</th>\n",
       "      <th>% Changing AS Exons</th>\n",
       "    </tr>\n",
       "  </thead>\n",
       "  <tbody>\n",
       "    <tr>\n",
       "      <th>0</th>\n",
       "      <td>iPSC-NPC</td>\n",
       "      <td>bimodal</td>\n",
       "      <td>excluded</td>\n",
       "      <td>105</td>\n",
       "      <td>Bimodal --&gt; X</td>\n",
       "      <td>18.817204</td>\n",
       "    </tr>\n",
       "    <tr>\n",
       "      <th>1</th>\n",
       "      <td>iPSC-NPC</td>\n",
       "      <td>bimodal</td>\n",
       "      <td>included</td>\n",
       "      <td>80</td>\n",
       "      <td>Bimodal --&gt; X</td>\n",
       "      <td>14.336918</td>\n",
       "    </tr>\n",
       "    <tr>\n",
       "      <th>2</th>\n",
       "      <td>iPSC-NPC</td>\n",
       "      <td>bimodal</td>\n",
       "      <td>uncategorized</td>\n",
       "      <td>1</td>\n",
       "      <td>Bimodal --&gt; X</td>\n",
       "      <td>0.179211</td>\n",
       "    </tr>\n",
       "    <tr>\n",
       "      <th>3</th>\n",
       "      <td>iPSC-NPC</td>\n",
       "      <td>excluded</td>\n",
       "      <td>bimodal</td>\n",
       "      <td>151</td>\n",
       "      <td>X --&gt; Bimodal</td>\n",
       "      <td>27.060932</td>\n",
       "    </tr>\n",
       "    <tr>\n",
       "      <th>4</th>\n",
       "      <td>iPSC-NPC</td>\n",
       "      <td>included</td>\n",
       "      <td>bimodal</td>\n",
       "      <td>195</td>\n",
       "      <td>X --&gt; Bimodal</td>\n",
       "      <td>34.946237</td>\n",
       "    </tr>\n",
       "    <tr>\n",
       "      <th>5</th>\n",
       "      <td>iPSC-NPC</td>\n",
       "      <td>uncategorized</td>\n",
       "      <td>bimodal</td>\n",
       "      <td>21</td>\n",
       "      <td>X --&gt; Bimodal</td>\n",
       "      <td>3.763441</td>\n",
       "    </tr>\n",
       "    <tr>\n",
       "      <th>6</th>\n",
       "      <td>iPSC-NPC</td>\n",
       "      <td>uncategorized</td>\n",
       "      <td>excluded</td>\n",
       "      <td>5</td>\n",
       "      <td>Other</td>\n",
       "      <td>0.896057</td>\n",
       "    </tr>\n",
       "    <tr>\n",
       "      <th>7</th>\n",
       "      <td>iPSC-MN</td>\n",
       "      <td>bimodal</td>\n",
       "      <td>excluded</td>\n",
       "      <td>54</td>\n",
       "      <td>Bimodal --&gt; X</td>\n",
       "      <td>14.958449</td>\n",
       "    </tr>\n",
       "    <tr>\n",
       "      <th>8</th>\n",
       "      <td>iPSC-MN</td>\n",
       "      <td>bimodal</td>\n",
       "      <td>included</td>\n",
       "      <td>45</td>\n",
       "      <td>Bimodal --&gt; X</td>\n",
       "      <td>12.465374</td>\n",
       "    </tr>\n",
       "    <tr>\n",
       "      <th>9</th>\n",
       "      <td>iPSC-MN</td>\n",
       "      <td>excluded</td>\n",
       "      <td>bimodal</td>\n",
       "      <td>97</td>\n",
       "      <td>X --&gt; Bimodal</td>\n",
       "      <td>26.869806</td>\n",
       "    </tr>\n",
       "    <tr>\n",
       "      <th>10</th>\n",
       "      <td>iPSC-MN</td>\n",
       "      <td>excluded</td>\n",
       "      <td>included</td>\n",
       "      <td>2</td>\n",
       "      <td>Other</td>\n",
       "      <td>0.554017</td>\n",
       "    </tr>\n",
       "    <tr>\n",
       "      <th>11</th>\n",
       "      <td>iPSC-MN</td>\n",
       "      <td>included</td>\n",
       "      <td>bimodal</td>\n",
       "      <td>136</td>\n",
       "      <td>X --&gt; Bimodal</td>\n",
       "      <td>37.673130</td>\n",
       "    </tr>\n",
       "    <tr>\n",
       "      <th>12</th>\n",
       "      <td>iPSC-MN</td>\n",
       "      <td>included</td>\n",
       "      <td>uncategorized</td>\n",
       "      <td>1</td>\n",
       "      <td>Other</td>\n",
       "      <td>0.277008</td>\n",
       "    </tr>\n",
       "    <tr>\n",
       "      <th>13</th>\n",
       "      <td>iPSC-MN</td>\n",
       "      <td>uncategorized</td>\n",
       "      <td>bimodal</td>\n",
       "      <td>17</td>\n",
       "      <td>X --&gt; Bimodal</td>\n",
       "      <td>4.709141</td>\n",
       "    </tr>\n",
       "    <tr>\n",
       "      <th>14</th>\n",
       "      <td>iPSC-MN</td>\n",
       "      <td>uncategorized</td>\n",
       "      <td>excluded</td>\n",
       "      <td>8</td>\n",
       "      <td>Other</td>\n",
       "      <td>2.216066</td>\n",
       "    </tr>\n",
       "    <tr>\n",
       "      <th>15</th>\n",
       "      <td>iPSC-MN</td>\n",
       "      <td>uncategorized</td>\n",
       "      <td>included</td>\n",
       "      <td>1</td>\n",
       "      <td>Other</td>\n",
       "      <td>0.277008</td>\n",
       "    </tr>\n",
       "  </tbody>\n",
       "</table>\n",
       "</div>"
      ],
      "text/plain": [
       "   transition     modality_x     modality_y  # AS Exons $\\Delta$ Modality  \\\n",
       "0    iPSC-NPC        bimodal       excluded         105     Bimodal --> X   \n",
       "1    iPSC-NPC        bimodal       included          80     Bimodal --> X   \n",
       "2    iPSC-NPC        bimodal  uncategorized           1     Bimodal --> X   \n",
       "3    iPSC-NPC       excluded        bimodal         151     X --> Bimodal   \n",
       "4    iPSC-NPC       included        bimodal         195     X --> Bimodal   \n",
       "5    iPSC-NPC  uncategorized        bimodal          21     X --> Bimodal   \n",
       "6    iPSC-NPC  uncategorized       excluded           5             Other   \n",
       "7     iPSC-MN        bimodal       excluded          54     Bimodal --> X   \n",
       "8     iPSC-MN        bimodal       included          45     Bimodal --> X   \n",
       "9     iPSC-MN       excluded        bimodal          97     X --> Bimodal   \n",
       "10    iPSC-MN       excluded       included           2             Other   \n",
       "11    iPSC-MN       included        bimodal         136     X --> Bimodal   \n",
       "12    iPSC-MN       included  uncategorized           1             Other   \n",
       "13    iPSC-MN  uncategorized        bimodal          17     X --> Bimodal   \n",
       "14    iPSC-MN  uncategorized       excluded           8             Other   \n",
       "15    iPSC-MN  uncategorized       included           1             Other   \n",
       "\n",
       "    % Changing AS Exons  \n",
       "0             18.817204  \n",
       "1             14.336918  \n",
       "2              0.179211  \n",
       "3             27.060932  \n",
       "4             34.946237  \n",
       "5              3.763441  \n",
       "6              0.896057  \n",
       "7             14.958449  \n",
       "8             12.465374  \n",
       "9             26.869806  \n",
       "10             0.554017  \n",
       "11            37.673130  \n",
       "12             0.277008  \n",
       "13             4.709141  \n",
       "14             2.216066  \n",
       "15             0.277008  "
      ]
     },
     "execution_count": 64,
     "metadata": {},
     "output_type": "execute_result"
    }
   ],
   "source": [
    "delta_modalities['% Changing AS Exons'] = delta_modalities.groupby('transition')['# AS Exons'].apply(lambda x: 100*x/x.sum())\n",
    "delta_modalities"
   ]
  },
  {
   "cell_type": "code",
   "execution_count": 65,
   "metadata": {
    "collapsed": false
   },
   "outputs": [
    {
     "data": {
      "text/plain": [
       "transition  $\\Delta$ Modality\n",
       "iPSC-NPC    Bimodal --> X        33.333333\n",
       "            Other                 0.896057\n",
       "            X --> Bimodal        65.770609\n",
       "iPSC-MN     Bimodal --> X        27.423823\n",
       "            Other                 3.324100\n",
       "            X --> Bimodal        69.252078\n",
       "Name: % Changing AS Exons, dtype: float64"
      ]
     },
     "execution_count": 65,
     "metadata": {},
     "output_type": "execute_result"
    }
   ],
   "source": [
    "delta_modalities.groupby(['transition', '$\\Delta$ Modality'])['% Changing AS Exons'].sum()"
   ]
  },
  {
   "cell_type": "code",
   "execution_count": 66,
   "metadata": {
    "collapsed": false
   },
   "outputs": [
    {
     "data": {
      "image/png": "[encoded data removed]",
      "text/plain": [
       "<matplotlib.figure.Figure at 0x2b9828dafa10>"
      ]
     },
     "metadata": {},
     "output_type": "display_data"
    }
   ],
   "source": [
    "palette = sns.light_palette(MODALITY_TO_COLOR['bimodal'], n_colors=3, reverse=True) + ['k']\n",
    "sns.palplot(palette)"
   ]
  },
  {
   "cell_type": "code",
   "execution_count": 67,
   "metadata": {
    "collapsed": false
   },
   "outputs": [
    {
     "data": {
      "image/png": "[encoded data removed]",
      "text/plain": [
       "<matplotlib.figure.Figure at 0x2b982eed2050>"
      ]
     },
     "metadata": {},
     "output_type": "display_data"
    }
   ],
   "source": [
    "fig, ax = plt.subplots(figsize=(2, 1.5))\n",
    "\n",
    "sns.barplot(x='transition', y='% Changing AS Exons', palette=palette,\n",
    "            hue=col, data=delta_modalities, ci=None, order=transitions_of_interest)\n",
    "ax.locator_params('y', nbins=4)\n",
    "ax.set(ylabel='% Changing AS Exons')\n",
    "\n",
    "sns.despine()\n",
    "fig.tight_layout()\n",
    "fig.savefig('{}/changing_modalities_barplot.pdf'.format(folder))\n",
    "\n",
    "# ax.set(ylim=(0, 1))\n",
    "# ax.legend_.set_visible(False)\n",
    "# fig.savefig('{}/changing_modalities_barplot_zoom.pdf'.format(folder))"
   ]
  },
  {
   "cell_type": "markdown",
   "metadata": {},
   "source": [
    "### Stacked bar plot"
   ]
  },
  {
   "cell_type": "code",
   "execution_count": 68,
   "metadata": {
    "collapsed": false
   },
   "outputs": [
    {
     "data": {
      "text/html": [
       "<div>\n",
       "<table border=\"1\" class=\"dataframe\">\n",
       "  <thead>\n",
       "    <tr style=\"text-align: right;\">\n",
       "      <th></th>\n",
       "      <th>transition</th>\n",
       "      <th>modality_x</th>\n",
       "      <th>modality_y</th>\n",
       "      <th># AS Exons</th>\n",
       "      <th>$\\Delta$ Modality</th>\n",
       "      <th>% Changing AS Exons</th>\n",
       "    </tr>\n",
       "  </thead>\n",
       "  <tbody>\n",
       "    <tr>\n",
       "      <th>0</th>\n",
       "      <td>iPSC-NPC</td>\n",
       "      <td>bimodal</td>\n",
       "      <td>excluded</td>\n",
       "      <td>105</td>\n",
       "      <td>Bimodal --&gt; X</td>\n",
       "      <td>18.817204</td>\n",
       "    </tr>\n",
       "    <tr>\n",
       "      <th>1</th>\n",
       "      <td>iPSC-NPC</td>\n",
       "      <td>bimodal</td>\n",
       "      <td>included</td>\n",
       "      <td>80</td>\n",
       "      <td>Bimodal --&gt; X</td>\n",
       "      <td>14.336918</td>\n",
       "    </tr>\n",
       "    <tr>\n",
       "      <th>2</th>\n",
       "      <td>iPSC-NPC</td>\n",
       "      <td>bimodal</td>\n",
       "      <td>uncategorized</td>\n",
       "      <td>1</td>\n",
       "      <td>Bimodal --&gt; X</td>\n",
       "      <td>0.179211</td>\n",
       "    </tr>\n",
       "    <tr>\n",
       "      <th>3</th>\n",
       "      <td>iPSC-NPC</td>\n",
       "      <td>excluded</td>\n",
       "      <td>bimodal</td>\n",
       "      <td>151</td>\n",
       "      <td>X --&gt; Bimodal</td>\n",
       "      <td>27.060932</td>\n",
       "    </tr>\n",
       "    <tr>\n",
       "      <th>4</th>\n",
       "      <td>iPSC-NPC</td>\n",
       "      <td>included</td>\n",
       "      <td>bimodal</td>\n",
       "      <td>195</td>\n",
       "      <td>X --&gt; Bimodal</td>\n",
       "      <td>34.946237</td>\n",
       "    </tr>\n",
       "    <tr>\n",
       "      <th>5</th>\n",
       "      <td>iPSC-NPC</td>\n",
       "      <td>uncategorized</td>\n",
       "      <td>bimodal</td>\n",
       "      <td>21</td>\n",
       "      <td>X --&gt; Bimodal</td>\n",
       "      <td>3.763441</td>\n",
       "    </tr>\n",
       "    <tr>\n",
       "      <th>6</th>\n",
       "      <td>iPSC-NPC</td>\n",
       "      <td>uncategorized</td>\n",
       "      <td>excluded</td>\n",
       "      <td>5</td>\n",
       "      <td>Other</td>\n",
       "      <td>0.896057</td>\n",
       "    </tr>\n",
       "    <tr>\n",
       "      <th>7</th>\n",
       "      <td>iPSC-MN</td>\n",
       "      <td>bimodal</td>\n",
       "      <td>excluded</td>\n",
       "      <td>54</td>\n",
       "      <td>Bimodal --&gt; X</td>\n",
       "      <td>14.958449</td>\n",
       "    </tr>\n",
       "    <tr>\n",
       "      <th>8</th>\n",
       "      <td>iPSC-MN</td>\n",
       "      <td>bimodal</td>\n",
       "      <td>included</td>\n",
       "      <td>45</td>\n",
       "      <td>Bimodal --&gt; X</td>\n",
       "      <td>12.465374</td>\n",
       "    </tr>\n",
       "    <tr>\n",
       "      <th>9</th>\n",
       "      <td>iPSC-MN</td>\n",
       "      <td>excluded</td>\n",
       "      <td>bimodal</td>\n",
       "      <td>97</td>\n",
       "      <td>X --&gt; Bimodal</td>\n",
       "      <td>26.869806</td>\n",
       "    </tr>\n",
       "    <tr>\n",
       "      <th>10</th>\n",
       "      <td>iPSC-MN</td>\n",
       "      <td>excluded</td>\n",
       "      <td>included</td>\n",
       "      <td>2</td>\n",
       "      <td>Other</td>\n",
       "      <td>0.554017</td>\n",
       "    </tr>\n",
       "    <tr>\n",
       "      <th>11</th>\n",
       "      <td>iPSC-MN</td>\n",
       "      <td>included</td>\n",
       "      <td>bimodal</td>\n",
       "      <td>136</td>\n",
       "      <td>X --&gt; Bimodal</td>\n",
       "      <td>37.673130</td>\n",
       "    </tr>\n",
       "    <tr>\n",
       "      <th>12</th>\n",
       "      <td>iPSC-MN</td>\n",
       "      <td>included</td>\n",
       "      <td>uncategorized</td>\n",
       "      <td>1</td>\n",
       "      <td>Other</td>\n",
       "      <td>0.277008</td>\n",
       "    </tr>\n",
       "    <tr>\n",
       "      <th>13</th>\n",
       "      <td>iPSC-MN</td>\n",
       "      <td>uncategorized</td>\n",
       "      <td>bimodal</td>\n",
       "      <td>17</td>\n",
       "      <td>X --&gt; Bimodal</td>\n",
       "      <td>4.709141</td>\n",
       "    </tr>\n",
       "    <tr>\n",
       "      <th>14</th>\n",
       "      <td>iPSC-MN</td>\n",
       "      <td>uncategorized</td>\n",
       "      <td>excluded</td>\n",
       "      <td>8</td>\n",
       "      <td>Other</td>\n",
       "      <td>2.216066</td>\n",
       "    </tr>\n",
       "    <tr>\n",
       "      <th>15</th>\n",
       "      <td>iPSC-MN</td>\n",
       "      <td>uncategorized</td>\n",
       "      <td>included</td>\n",
       "      <td>1</td>\n",
       "      <td>Other</td>\n",
       "      <td>0.277008</td>\n",
       "    </tr>\n",
       "  </tbody>\n",
       "</table>\n",
       "</div>"
      ],
      "text/plain": [
       "   transition     modality_x     modality_y  # AS Exons $\\Delta$ Modality  \\\n",
       "0    iPSC-NPC        bimodal       excluded         105     Bimodal --> X   \n",
       "1    iPSC-NPC        bimodal       included          80     Bimodal --> X   \n",
       "2    iPSC-NPC        bimodal  uncategorized           1     Bimodal --> X   \n",
       "3    iPSC-NPC       excluded        bimodal         151     X --> Bimodal   \n",
       "4    iPSC-NPC       included        bimodal         195     X --> Bimodal   \n",
       "5    iPSC-NPC  uncategorized        bimodal          21     X --> Bimodal   \n",
       "6    iPSC-NPC  uncategorized       excluded           5             Other   \n",
       "7     iPSC-MN        bimodal       excluded          54     Bimodal --> X   \n",
       "8     iPSC-MN        bimodal       included          45     Bimodal --> X   \n",
       "9     iPSC-MN       excluded        bimodal          97     X --> Bimodal   \n",
       "10    iPSC-MN       excluded       included           2             Other   \n",
       "11    iPSC-MN       included        bimodal         136     X --> Bimodal   \n",
       "12    iPSC-MN       included  uncategorized           1             Other   \n",
       "13    iPSC-MN  uncategorized        bimodal          17     X --> Bimodal   \n",
       "14    iPSC-MN  uncategorized       excluded           8             Other   \n",
       "15    iPSC-MN  uncategorized       included           1             Other   \n",
       "\n",
       "    % Changing AS Exons  \n",
       "0             18.817204  \n",
       "1             14.336918  \n",
       "2              0.179211  \n",
       "3             27.060932  \n",
       "4             34.946237  \n",
       "5              3.763441  \n",
       "6              0.896057  \n",
       "7             14.958449  \n",
       "8             12.465374  \n",
       "9             26.869806  \n",
       "10             0.554017  \n",
       "11            37.673130  \n",
       "12             0.277008  \n",
       "13             4.709141  \n",
       "14             2.216066  \n",
       "15             0.277008  "
      ]
     },
     "execution_count": 68,
     "metadata": {},
     "output_type": "execute_result"
    }
   ],
   "source": [
    "delta_modalities['$\\Delta$ Modality'] = pd.Categorical(delta_modalities['$\\Delta$ Modality'], \n",
    "                                                       categories=[ 'X --> Bimodal', 'Bimodal --> X', 'Other'], ordered=True)\n",
    "# delta_modalities['transition'] = pd.Categorical(delta_modalities['transition'], \n",
    "#                                                        categories=transitions_of_interest, ordered=True)\n",
    "delta_modalities"
   ]
  },
  {
   "cell_type": "code",
   "execution_count": 69,
   "metadata": {
    "collapsed": false
   },
   "outputs": [
    {
     "data": {
      "text/plain": [
       "transition  $\\Delta$ Modality\n",
       "iPSC-NPC    X --> Bimodal        65.770609\n",
       "            Bimodal --> X        33.333333\n",
       "            Other                 0.896057\n",
       "iPSC-MN     X --> Bimodal        69.252078\n",
       "            Bimodal --> X        27.423823\n",
       "            Other                 3.324100\n",
       "Name: % Changing AS Exons, dtype: float64"
      ]
     },
     "execution_count": 69,
     "metadata": {},
     "output_type": "execute_result"
    }
   ],
   "source": [
    "changing_as_exons = delta_modalities.groupby(['transition', col])['% Changing AS Exons'].sum()\n",
    "changing_as_exons"
   ]
  },
  {
   "cell_type": "code",
   "execution_count": 70,
   "metadata": {
    "collapsed": false
   },
   "outputs": [
    {
     "data": {
      "text/plain": [
       "transition  $\\Delta$ Modality\n",
       "iPSC-NPC    X --> Bimodal         65.770609\n",
       "            Bimodal --> X         99.103943\n",
       "            Other                100.000000\n",
       "iPSC-MN     X --> Bimodal         69.252078\n",
       "            Bimodal --> X         96.675900\n",
       "            Other                100.000000\n",
       "Name: % Changing AS Exons, dtype: float64"
      ]
     },
     "execution_count": 70,
     "metadata": {},
     "output_type": "execute_result"
    }
   ],
   "source": [
    "cumulative_sum = changing_as_exons.groupby(level=0).cumsum()\n",
    "cumulative_sum"
   ]
  },
  {
   "cell_type": "code",
   "execution_count": 71,
   "metadata": {
    "collapsed": false
   },
   "outputs": [
    {
     "data": {
      "text/plain": [
       "transition  $\\Delta$ Modality\n",
       "iPSC-NPC    X --> Bimodal         0.000000\n",
       "            Bimodal --> X        65.770609\n",
       "            Other                99.103943\n",
       "iPSC-MN     X --> Bimodal         0.000000\n",
       "            Bimodal --> X        69.252078\n",
       "            Other                96.675900\n",
       "Name: % Changing AS Exons, dtype: float64"
      ]
     },
     "execution_count": 71,
     "metadata": {},
     "output_type": "execute_result"
    }
   ],
   "source": [
    "bottoms = cumulative_sum - changing_as_exons\n",
    "bottoms"
   ]
  },
  {
   "cell_type": "code",
   "execution_count": 72,
   "metadata": {
    "collapsed": false
   },
   "outputs": [
    {
     "data": {
      "text/plain": [
       "CategoricalIndex([u'iPSC-NPC', u'iPSC-MN'], categories=[u'iPSC-NPC', u'iPSC-MN'], ordered=True, name=u'transition', dtype='category')"
      ]
     },
     "execution_count": 72,
     "metadata": {},
     "output_type": "execute_result"
    }
   ],
   "source": [
    "bottoms.index.levels[0]"
   ]
  },
  {
   "cell_type": "code",
   "execution_count": 73,
   "metadata": {
    "collapsed": true
   },
   "outputs": [],
   "source": [
    "idx = pd.IndexSlice"
   ]
  },
  {
   "cell_type": "code",
   "execution_count": 74,
   "metadata": {
    "collapsed": false
   },
   "outputs": [
    {
     "name": "stdout",
     "output_type": "stream",
     "text": [
      "X --> Bimodal\n",
      "Bimodal --> X\n",
      "Other\n"
     ]
    },
    {
     "data": {
      "image/png": "[encoded data removed]",
      "text/plain": [
       "<matplotlib.figure.Figure at 0x2b985b754950>"
      ]
     },
     "metadata": {},
     "output_type": "display_data"
    }
   ],
   "source": [
    "fig, ax = plt.subplots(figsize=(1.75, 1.5))\n",
    "width = 0.6\n",
    "\n",
    "\n",
    "for i, (delta_modality, s) in enumerate(changing_as_exons.groupby(level=1)):\n",
    "    six.print_(delta_modality)\n",
    "    color = palette[i]\n",
    "    x = np.arange(s.shape[0]) + 0.1\n",
    "\n",
    "    bottom = bottoms.loc[idx[:, delta_modality]]\n",
    "    ax.bar(x, s, bottom=bottom, label=delta_modality, color=color, width=width)\n",
    "ax.set(xticks=x + 0.3, xticklabels=bottoms.index.levels[0])\n",
    "ax.legend()\n",
    "sns.despine()\n",
    "fig.tight_layout()\n",
    "fig.savefig('{}/changing_modalities_bimodal_barplot_stacked.pdf'.format(folder))\n"
   ]
  },
  {
   "cell_type": "markdown",
   "metadata": {},
   "source": [
    "### Pie chart for graphic summary"
   ]
  },
  {
   "cell_type": "code",
   "execution_count": 75,
   "metadata": {
    "collapsed": false
   },
   "outputs": [
    {
     "data": {
      "image/png": "[encoded data removed]",
      "text/plain": [
       "<matplotlib.figure.Figure at 0x2b982e87ff90>"
      ]
     },
     "metadata": {},
     "output_type": "display_data"
    }
   ],
   "source": [
    "fig, ax = plt.subplots(figsize=(2, 2))\n",
    "\n",
    "ax.pie([.75, .25], startangle=90, colors=['.20', MODALITY_TO_COLOR['bimodal']], \n",
    "       wedgeprops = { 'linewidth' : 2, 'edgecolor':'white' })\n",
    "fig.savefig('{}/bimodal_unimodal_pie_chart.pdf'.format(folder))"
   ]
  },
  {
   "cell_type": "code",
   "execution_count": 76,
   "metadata": {
    "collapsed": false
   },
   "outputs": [
    {
     "data": {
      "image/png": "[encoded data removed]",
      "text/plain": [
       "<matplotlib.figure.Figure at 0x2b982bead4d0>"
      ]
     },
     "metadata": {},
     "output_type": "display_data"
    }
   ],
   "source": [
    "fig, ax = plt.subplots(figsize=(2, 2))\n",
    "\n",
    "ax.pie([.8, .20], startangle=60, colors=['.20', MODALITY_TO_COLOR['bimodal']],\n",
    "       wedgeprops = { 'linewidth' : 2, 'edgecolor':'white' })\n",
    "fig.savefig('{}/changing_events_pie_chart.pdf'.format(folder))"
   ]
  },
  {
   "cell_type": "code",
   "execution_count": 77,
   "metadata": {
    "collapsed": false
   },
   "outputs": [
    {
     "data": {
      "text/plain": [
       "phenotype\n",
       "MN      2076\n",
       "NPC     3036\n",
       "iPSC    4434\n",
       "dtype: int64"
      ]
     },
     "execution_count": 77,
     "metadata": {},
     "output_type": "execute_result"
    }
   ],
   "source": [
    "study.supplemental.modalities_tidy.groupby('phenotype').size()"
   ]
  },
  {
   "cell_type": "code",
   "execution_count": null,
   "metadata": {
    "collapsed": true
   },
   "outputs": [],
   "source": []
  }
 ],
 "metadata": {
  "kernelspec": {
   "display_name": "Python 2",
   "language": "python",
   "name": "python2"
  },
  "language_info": {
   "codemirror_mode": {
    "name": "ipython",
    "version": 2
   },
   "file_extension": ".py",
   "mimetype": "text/x-python",
   "name": "python",
   "nbconvert_exporter": "python",
   "pygments_lexer": "ipython2",
   "version": "2.7.11"
  }
 },
 "nbformat": 4,
 "nbformat_minor": 0
}
