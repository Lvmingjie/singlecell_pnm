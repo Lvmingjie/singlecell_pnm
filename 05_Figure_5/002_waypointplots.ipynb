{
 "cells": [
  {
   "cell_type": "code",
   "execution_count": 1,
   "metadata": {
    "collapsed": false
   },
   "outputs": [
    {
     "name": "stderr",
     "output_type": "stream",
     "text": [
      "/home/obotvinnik/anaconda/lib/python2.7/site-packages/sklearn/cross_validation.py:44: DeprecationWarning: This module was deprecated in version 0.18 in favor of the model_selection module into which all the refactored classes and functions are moved. Also note that the interface of the new CV iterators are different from that of this module. This module will be removed in 0.20.\n",
      "  \"This module will be removed in 0.20.\", DeprecationWarning)\n",
      "/home/obotvinnik/workspace-git/flotilla/flotilla/__init__.py:65: DtypeWarning: Columns (19) have mixed types. Specify dtype option on import or set low_memory=False.\n",
      "  load_species_data=load_species_data)\n"
     ]
    },
    {
     "name": "stdout",
     "output_type": "stream",
     "text": [
      "2017-01-05 16:00:38\tReading datapackage from /projects/ps-yeolab/obotvinnik/flotilla_projects/singlecell_pnm_figure4_voyages/datapackage.json\n",
      "2017-01-05 16:00:38\tParsing datapackage to create a Study object\n",
      "https://s3-us-west-2.amazonaws.com/flotilla-projects/ercc/ERCC_Controls.txt has not been downloaded before.\n",
      "\tDownloading now to /home/obotvinnik/flotilla_projects/hg19/ERCC_Controls.txt\n",
      "2017-01-05 16:01:00 \tInitializing Study\n",
      "2017-01-05 16:01:00 \tInitializing Predictor configuration manager for Study\n",
      "2017-01-05 16:01:00\tPredictor ExtraTreesClassifier is of type <class 'sklearn.ensemble.forest.ExtraTreesClassifier'>\n",
      "2017-01-05 16:01:00\tAdded ExtraTreesClassifier to default predictors\n",
      "2017-01-05 16:01:00\tPredictor ExtraTreesRegressor is of type <class 'sklearn.ensemble.forest.ExtraTreesRegressor'>\n",
      "2017-01-05 16:01:00\tAdded ExtraTreesRegressor to default predictors\n",
      "2017-01-05 16:01:00\tPredictor GradientBoostingClassifier is of type <class 'sklearn.ensemble.gradient_boosting.GradientBoostingClassifier'>\n",
      "2017-01-05 16:01:00\tAdded GradientBoostingClassifier to default predictors\n",
      "2017-01-05 16:01:00\tPredictor GradientBoostingRegressor is of type <class 'sklearn.ensemble.gradient_boosting.GradientBoostingRegressor'>\n",
      "2017-01-05 16:01:00\tAdded GradientBoostingRegressor to default predictors\n",
      "2017-01-05 16:01:04 \tBuilding Gene Ontology database...\n",
      "2017-01-05 16:01:12 \t\tDone\n",
      "2017-01-05 16:01:12 \tLoading metadata\n",
      "2017-01-05 16:01:12\tLoading expression data\n",
      "2017-01-05 16:01:12\tInitializing expression\n",
      "2017-01-05 16:01:13\tDone initializing expression\n",
      "2017-01-05 16:01:15\tLoading splicing data\n",
      "2017-01-05 16:01:15\tInitializing splicing\n",
      "2017-01-05 16:01:15\tDone initializing splicing\n",
      "2017-01-05 16:01:15\tSuccessfully initialized a Study object!\n"
     ]
    },
    {
     "name": "stderr",
     "output_type": "stream",
     "text": [
      "Error loading species hg19 data: HTTP Error 404: Not Found"
     ]
    }
   ],
   "source": [
    "import matplotlib.pyplot as plt\n",
    "import seaborn as sns\n",
    "import numpy as np\n",
    "import pandas as pd\n",
    "import six\n",
    "\n",
    "from anchor.visualize import MODALITY_TO_COLOR, MODALITY_ORDER, MODALITY_PALETTE\n",
    "modality_order = MODALITY_ORDER\n",
    "\n",
    "sns.set(style='ticks', context='paper', rc={'font.sans-serif':'Arial', 'pdf.fonttype': 42})\n",
    "\n",
    "%matplotlib inline\n",
    "\n",
    "%load_ext autoreload\n",
    "%autoreload 2\n",
    "\n",
    "folder = 'figures' #'/home/obotvinnik/Dropbox/figures2/singlecell_pnm/figure4_voyages'\n",
    "\n",
    "import flotilla\n",
    "\n",
    "flotilla_dir = '/projects/ps-yeolab/obotvinnik/flotilla_projects'\n",
    "study = flotilla.embark('singlecell_pnm_figure4_voyages', flotilla_dir=flotilla_dir)"
   ]
  },
  {
   "cell_type": "code",
   "execution_count": 3,
   "metadata": {
    "collapsed": false
   },
   "outputs": [],
   "source": [
    "figure_folder = '{}/002_waypointplots'.format(folder)\n",
    "! mkdir $figure_folder"
   ]
  },
  {
   "cell_type": "code",
   "execution_count": 4,
   "metadata": {
    "collapsed": true
   },
   "outputs": [],
   "source": [
    "waypoints = study.supplemental.waypoints.rename(columns={'Unnamed: 1': 'event_id'})"
   ]
  },
  {
   "cell_type": "code",
   "execution_count": 5,
   "metadata": {
    "collapsed": false
   },
   "outputs": [
    {
     "data": {
      "text/html": [
       "<div>\n",
       "<table border=\"1\" class=\"dataframe\">\n",
       "  <thead>\n",
       "    <tr style=\"text-align: right;\">\n",
       "      <th></th>\n",
       "      <th></th>\n",
       "      <th>0</th>\n",
       "      <th>1</th>\n",
       "    </tr>\n",
       "    <tr>\n",
       "      <th>phenotype</th>\n",
       "      <th>event_id</th>\n",
       "      <th></th>\n",
       "      <th></th>\n",
       "    </tr>\n",
       "  </thead>\n",
       "  <tbody>\n",
       "    <tr>\n",
       "      <th rowspan=\"5\" valign=\"top\">MN</th>\n",
       "      <th>isoform1=junction:chr10:102114390-102120490:+|isoform2=junction:chr10:102114390-102116288:+@exon:chr10:102116289-102116521:+@junction:chr10:102116522-102120490:+</th>\n",
       "      <td>0.000000</td>\n",
       "      <td>1.000000</td>\n",
       "    </tr>\n",
       "    <tr>\n",
       "      <th>isoform1=junction:chr10:102746733-102747069:-|isoform2=junction:chr10:102746954-102747069:-@exon:chr10:102746847-102746953:-@junction:chr10:102746733-102746846:-</th>\n",
       "      <td>0.142857</td>\n",
       "      <td>0.857143</td>\n",
       "    </tr>\n",
       "    <tr>\n",
       "      <th>isoform1=junction:chr10:103113986-103190101:+|isoform2=junction:chr10:103113986-103167197:+@novel_exon:chr10:103167198-103167290:+@junction:chr10:103167291-103190101:+</th>\n",
       "      <td>0.916667</td>\n",
       "      <td>0.083333</td>\n",
       "    </tr>\n",
       "    <tr>\n",
       "      <th>isoform1=junction:chr10:103348158-103360494:+|isoform2=junction:chr10:103348158-103354414:+@exon:chr10:103354415-103354495:+@junction:chr10:103354496-103360494:+</th>\n",
       "      <td>0.000000</td>\n",
       "      <td>1.000000</td>\n",
       "    </tr>\n",
       "    <tr>\n",
       "      <th>isoform1=junction:chr10:103361094-103368591:+|isoform2=junction:chr10:103361094-103364896:+@exon:chr10:103364897-103364969:+@junction:chr10:103364970-103368591:+</th>\n",
       "      <td>1.000000</td>\n",
       "      <td>0.000000</td>\n",
       "    </tr>\n",
       "  </tbody>\n",
       "</table>\n",
       "</div>"
      ],
      "text/plain": [
       "                                                                     0  \\\n",
       "phenotype event_id                                                       \n",
       "MN        isoform1=junction:chr10:102114390-102120490:+|i...  0.000000   \n",
       "          isoform1=junction:chr10:102746733-102747069:-|i...  0.142857   \n",
       "          isoform1=junction:chr10:103113986-103190101:+|i...  0.916667   \n",
       "          isoform1=junction:chr10:103348158-103360494:+|i...  0.000000   \n",
       "          isoform1=junction:chr10:103361094-103368591:+|i...  1.000000   \n",
       "\n",
       "                                                                     1  \n",
       "phenotype event_id                                                      \n",
       "MN        isoform1=junction:chr10:102114390-102120490:+|i...  1.000000  \n",
       "          isoform1=junction:chr10:102746733-102747069:-|i...  0.857143  \n",
       "          isoform1=junction:chr10:103113986-103190101:+|i...  0.083333  \n",
       "          isoform1=junction:chr10:103348158-103360494:+|i...  1.000000  \n",
       "          isoform1=junction:chr10:103361094-103368591:+|i...  0.000000  "
      ]
     },
     "execution_count": 5,
     "metadata": {},
     "output_type": "execute_result"
    }
   ],
   "source": [
    "waypoints = waypoints.set_index('event_id', append=True)\n",
    "waypoints.head()"
   ]
  },
  {
   "cell_type": "code",
   "execution_count": 6,
   "metadata": {
    "collapsed": true
   },
   "outputs": [],
   "source": [
    "import bonvoyage"
   ]
  },
  {
   "cell_type": "code",
   "execution_count": 7,
   "metadata": {
    "collapsed": false
   },
   "outputs": [
    {
     "data": {
      "text/plain": [
       "phenotype  modality     \n",
       "MN         bimodal           450\n",
       "           excluded          890\n",
       "           included          735\n",
       "           uncategorized       1\n",
       "NPC        bimodal           735\n",
       "           excluded         1254\n",
       "           included         1043\n",
       "           uncategorized       4\n",
       "iPSC       bimodal          1189\n",
       "           excluded         1624\n",
       "           included         1585\n",
       "           uncategorized      36\n",
       "dtype: int64"
      ]
     },
     "execution_count": 7,
     "metadata": {},
     "output_type": "execute_result"
    }
   ],
   "source": [
    "study.supplemental.modalities_tidy.groupby(['phenotype', 'modality']).size()"
   ]
  },
  {
   "cell_type": "code",
   "execution_count": 8,
   "metadata": {
    "collapsed": true
   },
   "outputs": [],
   "source": [
    "study.supplemental.modalities_tidy = study.supplemental.modalities_tidy.replace(\n",
    "    {'modality': {'ambivalent': 'uncategorized', 'concurrent': 'middle'}})"
   ]
  },
  {
   "cell_type": "code",
   "execution_count": 9,
   "metadata": {
    "collapsed": false
   },
   "outputs": [
    {
     "data": {
      "text/plain": [
       "phenotype  modality     \n",
       "MN         bimodal           450\n",
       "           excluded          890\n",
       "           included          735\n",
       "           uncategorized       1\n",
       "NPC        bimodal           735\n",
       "           excluded         1254\n",
       "           included         1043\n",
       "           uncategorized       4\n",
       "iPSC       bimodal          1189\n",
       "           excluded         1624\n",
       "           included         1585\n",
       "           uncategorized      36\n",
       "dtype: int64"
      ]
     },
     "execution_count": 9,
     "metadata": {},
     "output_type": "execute_result"
    }
   ],
   "source": [
    "study.supplemental.modalities_tidy.groupby(['phenotype', 'modality']).size()"
   ]
  },
  {
   "cell_type": "code",
   "execution_count": 10,
   "metadata": {
    "collapsed": true
   },
   "outputs": [],
   "source": [
    "modalities_grouped = study.supplemental.modalities_tidy.groupby('phenotype')"
   ]
  },
  {
   "cell_type": "code",
   "execution_count": 11,
   "metadata": {
    "collapsed": true
   },
   "outputs": [],
   "source": [
    "import matplotlib as mpl"
   ]
  },
  {
   "cell_type": "code",
   "execution_count": 12,
   "metadata": {
    "collapsed": false
   },
   "outputs": [],
   "source": [
    "sns.set(style='ticks', context='paper', rc={'font.sans-serif':'Arial', 'pdf.fonttype': 42})\n"
   ]
  },
  {
   "cell_type": "code",
   "execution_count": 13,
   "metadata": {
    "collapsed": true
   },
   "outputs": [],
   "source": [
    "from anchor.visualize import MODALITY_TO_COLOR, MODALITY_ORDER, MODALITY_PALETTE\n",
    "modality_order = MODALITY_ORDER\n"
   ]
  },
  {
   "cell_type": "code",
   "execution_count": 14,
   "metadata": {
    "collapsed": true
   },
   "outputs": [],
   "source": [
    "pkm_event = u'exon:chr15:72499069-72499221:-@exon:chr15:72495363-72495529:-@exon:chr15:72494795-72494961:-@exon:chr15:72492815-72492996:-'"
   ]
  },
  {
   "cell_type": "code",
   "execution_count": 15,
   "metadata": {
    "collapsed": true
   },
   "outputs": [],
   "source": [
    "plt.hexbin?"
   ]
  },
  {
   "cell_type": "code",
   "execution_count": 19,
   "metadata": {
    "collapsed": true
   },
   "outputs": [],
   "source": [
    "import bonvoyage"
   ]
  },
  {
   "cell_type": "code",
   "execution_count": 24,
   "metadata": {
    "collapsed": false
   },
   "outputs": [
    {
     "data": {
      "image/png": "[encoded data removed]",
      "text/plain": [
       "<matplotlib.figure.Figure at 0x2b0b6c2973d0>"
      ]
     },
     "metadata": {},
     "output_type": "display_data"
    },
    {
     "data": {
      "image/png": "[encoded data removed]",
      "text/plain": [
       "<matplotlib.figure.Figure at 0x2b0b6bf30110>"
      ]
     },
     "metadata": {},
     "output_type": "display_data"
    },
    {
     "data": {
      "image/png": "[encoded data removed]",
      "text/plain": [
       "<matplotlib.figure.Figure at 0x2b0b71d43e10>"
      ]
     },
     "metadata": {},
     "output_type": "display_data"
    },
    {
     "data": {
      "image/png": "[encoded data removed]",
      "text/plain": [
       "<matplotlib.figure.Figure at 0x2b0b6c297190>"
      ]
     },
     "metadata": {},
     "output_type": "display_data"
    },
    {
     "data": {
      "image/png": "[encoded data removed]",
      "text/plain": [
       "<matplotlib.figure.Figure at 0x2b0b719ddb50>"
      ]
     },
     "metadata": {},
     "output_type": "display_data"
    },
    {
     "data": {
      "image/png": "[encoded data removed]",
      "text/plain": [
       "<matplotlib.figure.Figure at 0x2b0b6eddf210>"
      ]
     },
     "metadata": {},
     "output_type": "display_data"
    },
    {
     "data": {
      "image/png": "[encoded data removed]",
      "text/plain": [
       "<matplotlib.figure.Figure at 0x2b0b71e09250>"
      ]
     },
     "metadata": {},
     "output_type": "display_data"
    },
    {
     "data": {
      "image/png": "[encoded data removed]",
      "text/plain": [
       "<matplotlib.figure.Figure at 0x2b0b719bd290>"
      ]
     },
     "metadata": {},
     "output_type": "display_data"
    },
    {
     "data": {
      "image/png": "[encoded data removed]",
      "text/plain": [
       "<matplotlib.figure.Figure at 0x2b0b6eac9e50>"
      ]
     },
     "metadata": {},
     "output_type": "display_data"
    },
    {
     "data": {
      "image/png": "[encoded data removed]",
      "text/plain": [
       "<matplotlib.figure.Figure at 0x2b0b6c297e10>"
      ]
     },
     "metadata": {},
     "output_type": "display_data"
    },
    {
     "data": {
      "image/png": "[encoded data removed]",
      "text/plain": [
       "<matplotlib.figure.Figure at 0x2b0b6c187950>"
      ]
     },
     "metadata": {},
     "output_type": "display_data"
    },
    {
     "data": {
      "image/png": "[encoded data removed]",
      "text/plain": [
       "<matplotlib.figure.Figure at 0x2b0b6e6df190>"
      ]
     },
     "metadata": {},
     "output_type": "display_data"
    }
   ],
   "source": [
    "kinds = 'scatter', 'hexbin'\n",
    "\n",
    "colorbar_ticklabels = [r'$10^{' + str(i) + '}$' for i in range(1, 5)]\n",
    "\n",
    "for phenotype, df in waypoints.groupby(level=0, axis=0):\n",
    "    df.index = df.index.droplevel(0)\n",
    "    marker = study.phenotype_to_marker[phenotype]\n",
    "    \n",
    "#     six.print_(df.head())\n",
    "    \n",
    "    for kind in kinds:\n",
    "        fig, ax = plt.subplots(figsize=(1.5, 1.5))\n",
    "        kwargs = dict(rasterized=True, alpha=0.2, marker=marker) if kind == 'scatter' else dict(gridsize=10, vmax=4)\n",
    "        bonvoyage.waypointplot(df, ax=ax, kind=kind, **kwargs)\n",
    "\n",
    "#         # Double-plot PKM\n",
    "#         x, y = df.loc[pkm_event]\n",
    "#         color = study.phenotype_to_color[phenotype]\n",
    "#         ax.plot(x, y, marker, markerfacecolor=None, markeredgecolor='k', markeredgewidth=.5, color=color)\n",
    "#         ax.set(title='')\n",
    "        \n",
    "        ax.set(title='')\n",
    "        fig.tight_layout()\n",
    "#         sns.despine(offset=2)\n",
    "        fig.savefig('{}/{}_{}.pdf'.format(figure_folder, phenotype, kind), dpi=300)\n",
    "        \n",
    "        if kind == 'hexbin':\n",
    "            fig_colorbar, ax_colorbar = plt.subplots(figsize=(1, 1.5))\n",
    "            plt.colorbar(ax.collections[0], cax=ax_colorbar, \n",
    "                         orientation='vertical',  label='Count', \n",
    "                         ticks=[1, 2, 3, 4])#mpl.ticker.MaxNLocator(4))\n",
    "            ax_colorbar.yaxis.set_ticklabels(colorbar_ticklabels)\n",
    "            fig_colorbar.tight_layout()\n",
    "            fig_colorbar.savefig('{}/{}_{}_colorbar.pdf'.format(figure_folder, phenotype, kind), dpi=300)\n",
    "        \n",
    "        \n",
    "    fig, ax = plt.subplots(figsize=(1.5, 1.5))\n",
    "    modality_df = modalities_grouped.get_group(phenotype)\n",
    "    groupby = modality_df.set_index('event_id')['modality']\n",
    "    bonvoyage.waypointplot(df, ax=ax, kind='scatter', rasterized=True, features_groupby=groupby, marker=marker)\n",
    "    ax.set(title='')\n",
    "#     sns.despine(offset=3)\n",
    "    fig.tight_layout()\n",
    "    fig.savefig('{}/{}_scatter_modality.pdf'.format(figure_folder, phenotype), dpi=300)\n"
   ]
  },
  {
   "cell_type": "code",
   "execution_count": 25,
   "metadata": {
    "collapsed": true
   },
   "outputs": [],
   "source": [
    "kind = 'hexbin'"
   ]
  },
  {
   "cell_type": "code",
   "execution_count": 26,
   "metadata": {
    "collapsed": true
   },
   "outputs": [],
   "source": [
    "bonvoyage.visualize._waypoint_hexbin??"
   ]
  },
  {
   "cell_type": "code",
   "execution_count": 27,
   "metadata": {
    "collapsed": false
   },
   "outputs": [
    {
     "data": {
      "text/plain": [
       "<matplotlib.colorbar.Colorbar at 0x2b0b729a3fd0>"
      ]
     },
     "execution_count": 27,
     "metadata": {},
     "output_type": "execute_result"
    },
    {
     "data": {
      "image/png": "[encoded data removed]",
      "text/plain": [
       "<matplotlib.figure.Figure at 0x2b0b720b0610>"
      ]
     },
     "metadata": {},
     "output_type": "display_data"
    },
    {
     "data": {
      "image/png": "[encoded data removed]",
      "text/plain": [
       "<matplotlib.figure.Figure at 0x2b0b720b0650>"
      ]
     },
     "metadata": {},
     "output_type": "display_data"
    }
   ],
   "source": [
    "fig, ax = plt.subplots(figsize=(1.5, 1.5))\n",
    "kwargs = dict(rasterized=True, alpha=0.2, marker=marker) if kind == 'scatter' else dict(gridsize=10, vmax=4)\n",
    "bonvoyage.waypointplot(df, ax=ax, kind=kind, **kwargs)\n",
    "\n",
    "\n",
    "fig_colorbar, ax_colorbar = plt.subplots(figsize=(1, 1.5))\n",
    "plt.colorbar(ax.collections[0], cax=ax_colorbar, \n",
    "                         orientation='vertical',  label='Count', \n",
    "                         ticks=[-1, 0, 1, 2, 3, 4])\n",
    "\n",
    "\n",
    "# # Double-plot PKM\n",
    "# x, y = df.loc[pkm_event]\n",
    "# color = study.phenotype_to_color[phenotype]\n",
    "# ax.plot(x, y, marker, markerfacecolor=None, markeredgecolor='k', markeredgewidth=1, color=color)\n",
    "# ax.set(title='')\n",
    "\n"
   ]
  },
  {
   "cell_type": "markdown",
   "metadata": {},
   "source": [
    "### Same thing, but double-plot PKM"
   ]
  },
  {
   "cell_type": "code",
   "execution_count": 14,
   "metadata": {
    "collapsed": true
   },
   "outputs": [],
   "source": [
    "pkm_event = u'exon:chr15:72499069-72499221:-@exon:chr15:72495363-72495529:-@exon:chr15:72494795-72494961:-@exon:chr15:72492815-72492996:-'"
   ]
  },
  {
   "cell_type": "code",
   "execution_count": 15,
   "metadata": {
    "collapsed": false
   },
   "outputs": [
    {
     "data": {
      "image/png": "[encoded data removed]",
      "text/plain": [
       "<matplotlib.figure.Figure at 0x2ae732183e50>"
      ]
     },
     "metadata": {},
     "output_type": "display_data"
    },
    {
     "data": {
      "image/png": "[encoded data removed]",
      "text/plain": [
       "<matplotlib.figure.Figure at 0x2ae737659310>"
      ]
     },
     "metadata": {},
     "output_type": "display_data"
    },
    {
     "data": {
      "image/png": "[encoded data removed]",
      "text/plain": [
       "<matplotlib.figure.Figure at 0x2ae74e2f96d0>"
      ]
     },
     "metadata": {},
     "output_type": "display_data"
    }
   ],
   "source": [
    "kind = 'scatter'\n",
    "\n",
    "colorbar_ticklabels = [r'$10^{' + str(i) + '}$' for i in range(4)]\n",
    "\n",
    "for phenotype, df in waypoints.groupby(level=0, axis=0):\n",
    "    df.index = df.index.droplevel(0)\n",
    "#     six.print_(df.head())\n",
    "    \n",
    "    fig, ax = plt.subplots(figsize=(1.5, 1.5))\n",
    "    modality_df = modalities_grouped.get_group(phenotype)\n",
    "    groupby = modality_df.set_index('event_id')['modality']\n",
    "    marker = study.phenotype_to_marker[phenotype]\n",
    "    bonvoyage.waypointplot(df, ax=ax, kind='scatter', rasterized=True, features_groupby=groupby, marker=marker)\n",
    "    \n",
    "    # Double-plot PKM\n",
    "    x, y = df.loc[pkm_event]\n",
    "    color = MODALITY_TO_COLOR[groupby[pkm_event]]\n",
    "    ax.plot(x, y, marker, markerfacecolor=None, markeredgecolor='k', markeredgewidth=1, color=color)\n",
    "    ax.set(title='')\n",
    "    \n",
    "    fig.tight_layout()\n",
    "    fig.savefig('{}/{}_scatter_modality_pkm_annotated.pdf'.format(figure_folder, phenotype), dpi=300)\n"
   ]
  },
  {
   "cell_type": "code",
   "execution_count": null,
   "metadata": {
    "collapsed": true
   },
   "outputs": [],
   "source": []
  },
  {
   "cell_type": "code",
   "execution_count": null,
   "metadata": {
    "collapsed": true
   },
   "outputs": [],
   "source": []
  }
 ],
 "metadata": {
  "kernelspec": {
   "display_name": "Python 2",
   "language": "python",
   "name": "python2"
  },
  "language_info": {
   "codemirror_mode": {
    "name": "ipython",
    "version": 2
   },
   "file_extension": ".py",
   "mimetype": "text/x-python",
   "name": "python",
   "nbconvert_exporter": "python",
   "pygments_lexer": "ipython2",
   "version": "2.7.11"
  }
 },
 "nbformat": 4,
 "nbformat_minor": 0
}
