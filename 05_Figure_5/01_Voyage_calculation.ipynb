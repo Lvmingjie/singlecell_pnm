{
 "cells": [
  {
   "cell_type": "code",
   "execution_count": 1,
   "metadata": {
    "collapsed": false
   },
   "outputs": [
    {
     "name": "stdout",
     "output_type": "stream",
     "text": [
      "2017-01-14 10:39:58\tReading datapackage from /projects/ps-yeolab/obotvinnik/flotilla_projects/singlecell_pnm_figure2_modalities_bayesian/datapackage.json\n",
      "2017-01-14 10:39:58\tParsing datapackage to create a Study object\n",
      "https://s3-us-west-2.amazonaws.com/flotilla-projects/ercc/ERCC_Controls.txt has not been downloaded before.\n",
      "\tDownloading now to /home/obotvinnik/flotilla_projects/hg19/ERCC_Controls.txt\n"
     ]
    },
    {
     "name": "stderr",
     "output_type": "stream",
     "text": [
      "/home/obotvinnik/anaconda/lib/python2.7/site-packages/sklearn/cross_validation.py:44: DeprecationWarning: This module was deprecated in version 0.18 in favor of the model_selection module into which all the refactored classes and functions are moved. Also note that the interface of the new CV iterators are different from that of this module. This module will be removed in 0.20.\n",
      "  \"This module will be removed in 0.20.\", DeprecationWarning)\n",
      "Error loading species hg19 data: HTTP Error 404: Not Found"
     ]
    },
    {
     "name": "stdout",
     "output_type": "stream",
     "text": [
      "2017-01-14 10:40:46 \tInitializing Study\n",
      "2017-01-14 10:40:46 \tInitializing Predictor configuration manager for Study\n",
      "2017-01-14 10:40:46\tPredictor ExtraTreesClassifier is of type <class 'sklearn.ensemble.forest.ExtraTreesClassifier'>\n",
      "2017-01-14 10:40:46\tAdded ExtraTreesClassifier to default predictors\n",
      "2017-01-14 10:40:46\tPredictor ExtraTreesRegressor is of type <class 'sklearn.ensemble.forest.ExtraTreesRegressor'>\n",
      "2017-01-14 10:40:46\tAdded ExtraTreesRegressor to default predictors\n",
      "2017-01-14 10:40:46\tPredictor GradientBoostingClassifier is of type <class 'sklearn.ensemble.gradient_boosting.GradientBoostingClassifier'>\n",
      "2017-01-14 10:40:46\tAdded GradientBoostingClassifier to default predictors\n",
      "2017-01-14 10:40:46\tPredictor GradientBoostingRegressor is of type <class 'sklearn.ensemble.gradient_boosting.GradientBoostingRegressor'>\n",
      "2017-01-14 10:40:46\tAdded GradientBoostingRegressor to default predictors\n",
      "2017-01-14 10:40:46 \tLoading metadata\n",
      "2017-01-14 10:40:46\tLoading expression data\n",
      "2017-01-14 10:40:46\tInitializing expression\n",
      "2017-01-14 10:40:47\tDone initializing expression\n",
      "2017-01-14 10:40:49\tLoading splicing data\n",
      "2017-01-14 10:40:49\tInitializing splicing\n",
      "2017-01-14 10:40:49\tDone initializing splicing\n",
      "2017-01-14 10:40:49\tSuccessfully initialized a Study object!\n"
     ]
    }
   ],
   "source": [
    "import matplotlib.pyplot as plt\n",
    "import seaborn as sns\n",
    "import numpy as np\n",
    "import pandas as pd\n",
    "\n",
    "from anchor.visualize import MODALITY_TO_COLOR, MODALITY_ORDER, MODALITY_PALETTE\n",
    "modality_order = MODALITY_ORDER\n",
    "\n",
    "sns.set(style='ticks', context='talk', rc={'font.sans-serif':'Arial', 'pdf.fonttype': 42})\n",
    "\n",
    "%matplotlib inline\n",
    "\n",
    "%load_ext autoreload\n",
    "%autoreload 2\n",
    "\n",
    "folder = 'figures'\n",
    "\n",
    "import flotilla\n",
    "study = flotilla.embark('singlecell_pnm_figure2_modalities_bayesian',\n",
    "# study = flotilla.embark('singlecell_pnm_figure2_modalities_bayesian_kmers_cisbp', \n",
    "# study = flotilla.embark('singlecell_pnm_figure2_modalities_rmdup', \n",
    "                        flotilla_dir='/projects/ps-yeolab/obotvinnik/flotilla_projects/')\n",
    "# study = flotilla.embark('singlecell_pnm_figure1_supplementary_post_splicing_filtering')"
   ]
  },
  {
   "cell_type": "code",
   "execution_count": 2,
   "metadata": {
    "collapsed": false
   },
   "outputs": [
    {
     "data": {
      "text/plain": [
       "10"
      ]
     },
     "execution_count": 2,
     "metadata": {},
     "output_type": "execute_result"
    }
   ],
   "source": [
    "study.splicing.minimum_samples"
   ]
  },
  {
   "cell_type": "code",
   "execution_count": 3,
   "metadata": {
    "collapsed": true
   },
   "outputs": [],
   "source": [
    "not_outliers = study.splicing.singles.index.difference(study.splicing.outliers.index)\n",
    "\n",
    "psi = study.splicing.singles.ix[not_outliers]\n",
    "grouped = psi.groupby(study.sample_id_to_phenotype)\n",
    "psi_filtered = grouped.apply(lambda x: x.dropna(axis=1, thresh=study.splicing.minimum_samples))"
   ]
  },
  {
   "cell_type": "code",
   "execution_count": 4,
   "metadata": {
    "collapsed": false
   },
   "outputs": [
    {
     "data": {
      "text/html": [
       "<div>\n",
       "<table border=\"1\" class=\"dataframe\">\n",
       "  <thead>\n",
       "    <tr style=\"text-align: right;\">\n",
       "      <th></th>\n",
       "      <th>isoform1=junction:chr10:100189400-100190327:-|isoform2=junction:chr10:100189647-100190327:-@exon:chr10:100189548-100189646:-@junction:chr10:100189400-100189547:-</th>\n",
       "      <th>isoform1=junction:chr10:100193849-100195391:-|isoform2=junction:chr10:100195172-100195391:-@exon:chr10:100195029-100195171:-@junction:chr10:100193849-100195028:-</th>\n",
       "      <th>isoform1=junction:chr10:101163392-101165512:-|isoform2=junction:chr10:101163632-101165512:-@exon:chr10:101163481-101163631:-@junction:chr10:101163392-101163480:-</th>\n",
       "      <th>isoform1=junction:chr10:101476219-101480743:-|isoform2=junction:chr10:101478258-101480743:-@exon:chr10:101478103-101478257:-@junction:chr10:101476219-101478102:-</th>\n",
       "      <th>isoform1=junction:chr10:101507148-101514285:+|isoform2=junction:chr10:101507148-101510125:+@exon:chr10:101510126-101510153:+@junction:chr10:101510154-101514285:+</th>\n",
       "      <th>isoform1=junction:chr10:101507148-101515381:+|isoform2=junction:chr10:101507148-101514285:+@exon:chr10:101514286-101514391:+@junction:chr10:101514392-101515381:+</th>\n",
       "      <th>isoform1=junction:chr10:101510154-101514285:+|isoform2=junction:chr10:101510154-101513352:+@novel_exon:chr10:101513353-101513445:+@junction:chr10:101513446-101514285:+</th>\n",
       "      <th>isoform1=junction:chr10:101995522-101997778:-|isoform2=junction:chr10:101996727-101997778:-@exon:chr10:101996607-101996726:-@junction:chr10:101995522-101996606:-</th>\n",
       "      <th>isoform1=junction:chr10:101996727-102003454:-|isoform2=junction:chr10:101997989-102003454:-@exon:chr10:101997779-101997988:-@junction:chr10:101996727-101997778:-</th>\n",
       "      <th>isoform1=junction:chr10:102006693-102013177:-|isoform2=junction:chr10:102010090-102013177:-@exon:chr10:102010005-102010089:-@junction:chr10:102006693-102010004:-</th>\n",
       "      <th>...</th>\n",
       "      <th>isoform1=junction:chrY:21897637-21903203:-|isoform2=junction:chrY:21901549-21903203:-@exon:chrY:21901414-21901548:-@junction:chrY:21897637-21901413:-</th>\n",
       "      <th>isoform1=junction:chrY:21901549-21903620:-|isoform2=junction:chrY:21903375-21903620:-@exon:chrY:21903204-21903374:-@junction:chrY:21901549-21903203:-</th>\n",
       "      <th>isoform1=junction:chrY:22744580-22749909:+|isoform2=junction:chrY:22744580-22746359:+@exon:chrY:22746360-22746410:+@junction:chrY:22746411-22749909:+</th>\n",
       "      <th>isoform1=junction:chrY:2709669-2712117:+|isoform2=junction:chrY:2709669-2710205:+@exon:chrY:2710206-2710283:+@junction:chrY:2710284-2712117:+</th>\n",
       "      <th>isoform1=junction:chrY:2710284-2713686:+|isoform2=junction:chrY:2710284-2712117:+@exon:chrY:2712118-2712298:+@junction:chrY:2712299-2713686:+</th>\n",
       "      <th>isoform1=junction:chrY:2712299-2722640:+|isoform2=junction:chrY:2712299-2713686:+@exon:chrY:2713687-2713784:+@junction:chrY:2713785-2722640:+</th>\n",
       "      <th>isoform1=junction:chrY:2713785-2722640:+|isoform2=junction:chrY:2713785-2721709:+@novel_exon:chrY:2721710-2721732:+@junction:chrY:2721733-2722640:+</th>\n",
       "      <th>isoform1=junction:chrY:2713785-2733128:+|isoform2=junction:chrY:2713785-2722640:+@exon:chrY:2722641-2722812:+@junction:chrY:2722813-2733128:+</th>\n",
       "      <th>isoform1=junction:chrY:2722813-2734833:+|isoform2=junction:chrY:2722813-2733128:+@exon:chrY:2733129-2733286:+@junction:chrY:2733287-2734833:+</th>\n",
       "      <th>isoform1=junction:chrY:2822039-2843135:+|isoform2=junction:chrY:2822039-2829114:+@exon:chrY:2829115-2829687:+@junction:chrY:2829688-2843135:+</th>\n",
       "    </tr>\n",
       "  </thead>\n",
       "  <tbody>\n",
       "    <tr>\n",
       "      <th>CVN_01</th>\n",
       "      <td>NaN</td>\n",
       "      <td>NaN</td>\n",
       "      <td>1.0</td>\n",
       "      <td>NaN</td>\n",
       "      <td>1.0</td>\n",
       "      <td>NaN</td>\n",
       "      <td>0.0</td>\n",
       "      <td>NaN</td>\n",
       "      <td>NaN</td>\n",
       "      <td>NaN</td>\n",
       "      <td>...</td>\n",
       "      <td>NaN</td>\n",
       "      <td>NaN</td>\n",
       "      <td>NaN</td>\n",
       "      <td>1.0</td>\n",
       "      <td>1.0</td>\n",
       "      <td>1.0</td>\n",
       "      <td>0.0</td>\n",
       "      <td>1.0</td>\n",
       "      <td>1.0</td>\n",
       "      <td>NaN</td>\n",
       "    </tr>\n",
       "    <tr>\n",
       "      <th>CVN_02</th>\n",
       "      <td>NaN</td>\n",
       "      <td>NaN</td>\n",
       "      <td>1.0</td>\n",
       "      <td>NaN</td>\n",
       "      <td>NaN</td>\n",
       "      <td>NaN</td>\n",
       "      <td>NaN</td>\n",
       "      <td>NaN</td>\n",
       "      <td>NaN</td>\n",
       "      <td>NaN</td>\n",
       "      <td>...</td>\n",
       "      <td>NaN</td>\n",
       "      <td>NaN</td>\n",
       "      <td>1.000000</td>\n",
       "      <td>NaN</td>\n",
       "      <td>NaN</td>\n",
       "      <td>NaN</td>\n",
       "      <td>NaN</td>\n",
       "      <td>NaN</td>\n",
       "      <td>NaN</td>\n",
       "      <td>NaN</td>\n",
       "    </tr>\n",
       "    <tr>\n",
       "      <th>CVN_03</th>\n",
       "      <td>NaN</td>\n",
       "      <td>NaN</td>\n",
       "      <td>1.0</td>\n",
       "      <td>NaN</td>\n",
       "      <td>NaN</td>\n",
       "      <td>NaN</td>\n",
       "      <td>NaN</td>\n",
       "      <td>NaN</td>\n",
       "      <td>NaN</td>\n",
       "      <td>NaN</td>\n",
       "      <td>...</td>\n",
       "      <td>NaN</td>\n",
       "      <td>NaN</td>\n",
       "      <td>0.980583</td>\n",
       "      <td>NaN</td>\n",
       "      <td>NaN</td>\n",
       "      <td>NaN</td>\n",
       "      <td>NaN</td>\n",
       "      <td>NaN</td>\n",
       "      <td>NaN</td>\n",
       "      <td>NaN</td>\n",
       "    </tr>\n",
       "    <tr>\n",
       "      <th>CVN_04</th>\n",
       "      <td>NaN</td>\n",
       "      <td>NaN</td>\n",
       "      <td>NaN</td>\n",
       "      <td>NaN</td>\n",
       "      <td>NaN</td>\n",
       "      <td>NaN</td>\n",
       "      <td>NaN</td>\n",
       "      <td>NaN</td>\n",
       "      <td>NaN</td>\n",
       "      <td>NaN</td>\n",
       "      <td>...</td>\n",
       "      <td>NaN</td>\n",
       "      <td>NaN</td>\n",
       "      <td>NaN</td>\n",
       "      <td>1.0</td>\n",
       "      <td>1.0</td>\n",
       "      <td>1.0</td>\n",
       "      <td>0.0</td>\n",
       "      <td>1.0</td>\n",
       "      <td>1.0</td>\n",
       "      <td>NaN</td>\n",
       "    </tr>\n",
       "    <tr>\n",
       "      <th>CVN_05</th>\n",
       "      <td>NaN</td>\n",
       "      <td>NaN</td>\n",
       "      <td>1.0</td>\n",
       "      <td>1.0</td>\n",
       "      <td>NaN</td>\n",
       "      <td>NaN</td>\n",
       "      <td>NaN</td>\n",
       "      <td>NaN</td>\n",
       "      <td>NaN</td>\n",
       "      <td>NaN</td>\n",
       "      <td>...</td>\n",
       "      <td>NaN</td>\n",
       "      <td>NaN</td>\n",
       "      <td>1.000000</td>\n",
       "      <td>1.0</td>\n",
       "      <td>1.0</td>\n",
       "      <td>1.0</td>\n",
       "      <td>0.0</td>\n",
       "      <td>1.0</td>\n",
       "      <td>1.0</td>\n",
       "      <td>NaN</td>\n",
       "    </tr>\n",
       "  </tbody>\n",
       "</table>\n",
       "<p>5 rows × 13799 columns</p>\n",
       "</div>"
      ],
      "text/plain": [
       "        isoform1=junction:chr10:100189400-100190327:-|isoform2=junction:chr10:100189647-100190327:-@exon:chr10:100189548-100189646:-@junction:chr10:100189400-100189547:-  \\\n",
       "CVN_01                                                NaN                                                                                                                   \n",
       "CVN_02                                                NaN                                                                                                                   \n",
       "CVN_03                                                NaN                                                                                                                   \n",
       "CVN_04                                                NaN                                                                                                                   \n",
       "CVN_05                                                NaN                                                                                                                   \n",
       "\n",
       "        isoform1=junction:chr10:100193849-100195391:-|isoform2=junction:chr10:100195172-100195391:-@exon:chr10:100195029-100195171:-@junction:chr10:100193849-100195028:-  \\\n",
       "CVN_01                                                NaN                                                                                                                   \n",
       "CVN_02                                                NaN                                                                                                                   \n",
       "CVN_03                                                NaN                                                                                                                   \n",
       "CVN_04                                                NaN                                                                                                                   \n",
       "CVN_05                                                NaN                                                                                                                   \n",
       "\n",
       "        isoform1=junction:chr10:101163392-101165512:-|isoform2=junction:chr10:101163632-101165512:-@exon:chr10:101163481-101163631:-@junction:chr10:101163392-101163480:-  \\\n",
       "CVN_01                                                1.0                                                                                                                   \n",
       "CVN_02                                                1.0                                                                                                                   \n",
       "CVN_03                                                1.0                                                                                                                   \n",
       "CVN_04                                                NaN                                                                                                                   \n",
       "CVN_05                                                1.0                                                                                                                   \n",
       "\n",
       "        isoform1=junction:chr10:101476219-101480743:-|isoform2=junction:chr10:101478258-101480743:-@exon:chr10:101478103-101478257:-@junction:chr10:101476219-101478102:-  \\\n",
       "CVN_01                                                NaN                                                                                                                   \n",
       "CVN_02                                                NaN                                                                                                                   \n",
       "CVN_03                                                NaN                                                                                                                   \n",
       "CVN_04                                                NaN                                                                                                                   \n",
       "CVN_05                                                1.0                                                                                                                   \n",
       "\n",
       "        isoform1=junction:chr10:101507148-101514285:+|isoform2=junction:chr10:101507148-101510125:+@exon:chr10:101510126-101510153:+@junction:chr10:101510154-101514285:+  \\\n",
       "CVN_01                                                1.0                                                                                                                   \n",
       "CVN_02                                                NaN                                                                                                                   \n",
       "CVN_03                                                NaN                                                                                                                   \n",
       "CVN_04                                                NaN                                                                                                                   \n",
       "CVN_05                                                NaN                                                                                                                   \n",
       "\n",
       "        isoform1=junction:chr10:101507148-101515381:+|isoform2=junction:chr10:101507148-101514285:+@exon:chr10:101514286-101514391:+@junction:chr10:101514392-101515381:+  \\\n",
       "CVN_01                                                NaN                                                                                                                   \n",
       "CVN_02                                                NaN                                                                                                                   \n",
       "CVN_03                                                NaN                                                                                                                   \n",
       "CVN_04                                                NaN                                                                                                                   \n",
       "CVN_05                                                NaN                                                                                                                   \n",
       "\n",
       "        isoform1=junction:chr10:101510154-101514285:+|isoform2=junction:chr10:101510154-101513352:+@novel_exon:chr10:101513353-101513445:+@junction:chr10:101513446-101514285:+  \\\n",
       "CVN_01                                                0.0                                                                                                                         \n",
       "CVN_02                                                NaN                                                                                                                         \n",
       "CVN_03                                                NaN                                                                                                                         \n",
       "CVN_04                                                NaN                                                                                                                         \n",
       "CVN_05                                                NaN                                                                                                                         \n",
       "\n",
       "        isoform1=junction:chr10:101995522-101997778:-|isoform2=junction:chr10:101996727-101997778:-@exon:chr10:101996607-101996726:-@junction:chr10:101995522-101996606:-  \\\n",
       "CVN_01                                                NaN                                                                                                                   \n",
       "CVN_02                                                NaN                                                                                                                   \n",
       "CVN_03                                                NaN                                                                                                                   \n",
       "CVN_04                                                NaN                                                                                                                   \n",
       "CVN_05                                                NaN                                                                                                                   \n",
       "\n",
       "        isoform1=junction:chr10:101996727-102003454:-|isoform2=junction:chr10:101997989-102003454:-@exon:chr10:101997779-101997988:-@junction:chr10:101996727-101997778:-  \\\n",
       "CVN_01                                                NaN                                                                                                                   \n",
       "CVN_02                                                NaN                                                                                                                   \n",
       "CVN_03                                                NaN                                                                                                                   \n",
       "CVN_04                                                NaN                                                                                                                   \n",
       "CVN_05                                                NaN                                                                                                                   \n",
       "\n",
       "        isoform1=junction:chr10:102006693-102013177:-|isoform2=junction:chr10:102010090-102013177:-@exon:chr10:102010005-102010089:-@junction:chr10:102006693-102010004:-  \\\n",
       "CVN_01                                                NaN                                                                                                                   \n",
       "CVN_02                                                NaN                                                                                                                   \n",
       "CVN_03                                                NaN                                                                                                                   \n",
       "CVN_04                                                NaN                                                                                                                   \n",
       "CVN_05                                                NaN                                                                                                                   \n",
       "\n",
       "                                                                            ...                                                                        \\\n",
       "CVN_01                                                                      ...                                                                         \n",
       "CVN_02                                                                      ...                                                                         \n",
       "CVN_03                                                                      ...                                                                         \n",
       "CVN_04                                                                      ...                                                                         \n",
       "CVN_05                                                                      ...                                                                         \n",
       "\n",
       "        isoform1=junction:chrY:21897637-21903203:-|isoform2=junction:chrY:21901549-21903203:-@exon:chrY:21901414-21901548:-@junction:chrY:21897637-21901413:-  \\\n",
       "CVN_01                                                NaN                                                                                                       \n",
       "CVN_02                                                NaN                                                                                                       \n",
       "CVN_03                                                NaN                                                                                                       \n",
       "CVN_04                                                NaN                                                                                                       \n",
       "CVN_05                                                NaN                                                                                                       \n",
       "\n",
       "        isoform1=junction:chrY:21901549-21903620:-|isoform2=junction:chrY:21903375-21903620:-@exon:chrY:21903204-21903374:-@junction:chrY:21901549-21903203:-  \\\n",
       "CVN_01                                                NaN                                                                                                       \n",
       "CVN_02                                                NaN                                                                                                       \n",
       "CVN_03                                                NaN                                                                                                       \n",
       "CVN_04                                                NaN                                                                                                       \n",
       "CVN_05                                                NaN                                                                                                       \n",
       "\n",
       "        isoform1=junction:chrY:22744580-22749909:+|isoform2=junction:chrY:22744580-22746359:+@exon:chrY:22746360-22746410:+@junction:chrY:22746411-22749909:+  \\\n",
       "CVN_01                                                NaN                                                                                                       \n",
       "CVN_02                                           1.000000                                                                                                       \n",
       "CVN_03                                           0.980583                                                                                                       \n",
       "CVN_04                                                NaN                                                                                                       \n",
       "CVN_05                                           1.000000                                                                                                       \n",
       "\n",
       "        isoform1=junction:chrY:2709669-2712117:+|isoform2=junction:chrY:2709669-2710205:+@exon:chrY:2710206-2710283:+@junction:chrY:2710284-2712117:+  \\\n",
       "CVN_01                                                1.0                                                                                               \n",
       "CVN_02                                                NaN                                                                                               \n",
       "CVN_03                                                NaN                                                                                               \n",
       "CVN_04                                                1.0                                                                                               \n",
       "CVN_05                                                1.0                                                                                               \n",
       "\n",
       "        isoform1=junction:chrY:2710284-2713686:+|isoform2=junction:chrY:2710284-2712117:+@exon:chrY:2712118-2712298:+@junction:chrY:2712299-2713686:+  \\\n",
       "CVN_01                                                1.0                                                                                               \n",
       "CVN_02                                                NaN                                                                                               \n",
       "CVN_03                                                NaN                                                                                               \n",
       "CVN_04                                                1.0                                                                                               \n",
       "CVN_05                                                1.0                                                                                               \n",
       "\n",
       "        isoform1=junction:chrY:2712299-2722640:+|isoform2=junction:chrY:2712299-2713686:+@exon:chrY:2713687-2713784:+@junction:chrY:2713785-2722640:+  \\\n",
       "CVN_01                                                1.0                                                                                               \n",
       "CVN_02                                                NaN                                                                                               \n",
       "CVN_03                                                NaN                                                                                               \n",
       "CVN_04                                                1.0                                                                                               \n",
       "CVN_05                                                1.0                                                                                               \n",
       "\n",
       "        isoform1=junction:chrY:2713785-2722640:+|isoform2=junction:chrY:2713785-2721709:+@novel_exon:chrY:2721710-2721732:+@junction:chrY:2721733-2722640:+  \\\n",
       "CVN_01                                                0.0                                                                                                     \n",
       "CVN_02                                                NaN                                                                                                     \n",
       "CVN_03                                                NaN                                                                                                     \n",
       "CVN_04                                                0.0                                                                                                     \n",
       "CVN_05                                                0.0                                                                                                     \n",
       "\n",
       "        isoform1=junction:chrY:2713785-2733128:+|isoform2=junction:chrY:2713785-2722640:+@exon:chrY:2722641-2722812:+@junction:chrY:2722813-2733128:+  \\\n",
       "CVN_01                                                1.0                                                                                               \n",
       "CVN_02                                                NaN                                                                                               \n",
       "CVN_03                                                NaN                                                                                               \n",
       "CVN_04                                                1.0                                                                                               \n",
       "CVN_05                                                1.0                                                                                               \n",
       "\n",
       "        isoform1=junction:chrY:2722813-2734833:+|isoform2=junction:chrY:2722813-2733128:+@exon:chrY:2733129-2733286:+@junction:chrY:2733287-2734833:+  \\\n",
       "CVN_01                                                1.0                                                                                               \n",
       "CVN_02                                                NaN                                                                                               \n",
       "CVN_03                                                NaN                                                                                               \n",
       "CVN_04                                                1.0                                                                                               \n",
       "CVN_05                                                1.0                                                                                               \n",
       "\n",
       "        isoform1=junction:chrY:2822039-2843135:+|isoform2=junction:chrY:2822039-2829114:+@exon:chrY:2829115-2829687:+@junction:chrY:2829688-2843135:+  \n",
       "CVN_01                                                NaN                                                                                              \n",
       "CVN_02                                                NaN                                                                                              \n",
       "CVN_03                                                NaN                                                                                              \n",
       "CVN_04                                                NaN                                                                                              \n",
       "CVN_05                                                NaN                                                                                              \n",
       "\n",
       "[5 rows x 13799 columns]"
      ]
     },
     "execution_count": 4,
     "metadata": {},
     "output_type": "execute_result"
    }
   ],
   "source": [
    "psi_filtered.head()"
   ]
  },
  {
   "cell_type": "markdown",
   "metadata": {},
   "source": [
    "## Calculate *voyage* space via `bon voyage`"
   ]
  },
  {
   "cell_type": "code",
   "execution_count": 5,
   "metadata": {
    "collapsed": false
   },
   "outputs": [
    {
     "name": "stdout",
     "output_type": "stream",
     "text": [
      "CPU times: user 15.9 s, sys: 546 ms, total: 16.4 s\n",
      "Wall time: 16.2 s\n"
     ]
    }
   ],
   "source": [
    "%%time\n",
    "\n",
    "from bonvoyage import Waypoints\n",
    "\n",
    "ws = Waypoints()\n",
    "\n",
    "waypoints = psi_filtered.groupby(study.sample_id_to_phenotype).apply(\n",
    "    lambda x: ws.fit_transform(x.dropna(how='all', axis=1)))"
   ]
  },
  {
   "cell_type": "code",
   "execution_count": 6,
   "metadata": {
    "collapsed": false
   },
   "outputs": [
    {
     "data": {
      "text/plain": [
       "0    1.0\n",
       "1    1.0\n",
       "dtype: float64"
      ]
     },
     "execution_count": 6,
     "metadata": {},
     "output_type": "execute_result"
    }
   ],
   "source": [
    "waypoints.max()"
   ]
  },
  {
   "cell_type": "code",
   "execution_count": 7,
   "metadata": {
    "collapsed": false
   },
   "outputs": [
    {
     "data": {
      "text/plain": [
       "0    0.840891\n",
       "1    0.999989\n",
       "dtype: float64"
      ]
     },
     "execution_count": 7,
     "metadata": {},
     "output_type": "execute_result"
    }
   ],
   "source": [
    "pd.DataFrame(ws.seed_data_transformed).max()"
   ]
  },
  {
   "cell_type": "code",
   "execution_count": 8,
   "metadata": {
    "collapsed": false
   },
   "outputs": [
    {
     "data": {
      "text/plain": [
       "[(u'iPSC', u'NPC'), (u'NPC', u'MN'), ('iPSC', 'MN')]"
      ]
     },
     "execution_count": 8,
     "metadata": {},
     "output_type": "execute_result"
    }
   ],
   "source": [
    "transitions = study.phenotype_transitions + [('iPSC', 'MN')]\n",
    "transitions"
   ]
  },
  {
   "cell_type": "code",
   "execution_count": 9,
   "metadata": {
    "collapsed": false
   },
   "outputs": [
    {
     "data": {
      "text/html": [
       "<div>\n",
       "<table border=\"1\" class=\"dataframe\">\n",
       "  <thead>\n",
       "    <tr style=\"text-align: right;\">\n",
       "      <th></th>\n",
       "      <th>event_id</th>\n",
       "      <th>$\\Delta x$</th>\n",
       "      <th>$\\Delta y$</th>\n",
       "      <th>magnitude</th>\n",
       "      <th>group1</th>\n",
       "      <th>group2</th>\n",
       "      <th>direction</th>\n",
       "      <th>transition</th>\n",
       "    </tr>\n",
       "  </thead>\n",
       "  <tbody>\n",
       "    <tr>\n",
       "      <th>0</th>\n",
       "      <td>isoform1=junction:chr10:101163392-101165512:-|...</td>\n",
       "      <td>0.000000</td>\n",
       "      <td>0.033333</td>\n",
       "      <td>0.033333</td>\n",
       "      <td>iPSC</td>\n",
       "      <td>NPC</td>\n",
       "      <td>$\\nwarrow$</td>\n",
       "      <td>iPSC-NPC</td>\n",
       "    </tr>\n",
       "    <tr>\n",
       "      <th>1</th>\n",
       "      <td>isoform1=junction:chr10:101476219-101480743:-|...</td>\n",
       "      <td>0.166667</td>\n",
       "      <td>-0.041667</td>\n",
       "      <td>0.171796</td>\n",
       "      <td>iPSC</td>\n",
       "      <td>NPC</td>\n",
       "      <td>$\\searrow$</td>\n",
       "      <td>iPSC-NPC</td>\n",
       "    </tr>\n",
       "    <tr>\n",
       "      <th>2</th>\n",
       "      <td>isoform1=junction:chr10:101507148-101514285:+|...</td>\n",
       "      <td>0.291498</td>\n",
       "      <td>-0.089069</td>\n",
       "      <td>0.304802</td>\n",
       "      <td>iPSC</td>\n",
       "      <td>NPC</td>\n",
       "      <td>$\\searrow$</td>\n",
       "      <td>iPSC-NPC</td>\n",
       "    </tr>\n",
       "    <tr>\n",
       "      <th>3</th>\n",
       "      <td>isoform1=junction:chr10:101510154-101514285:+|...</td>\n",
       "      <td>0.026316</td>\n",
       "      <td>-0.026316</td>\n",
       "      <td>0.037216</td>\n",
       "      <td>iPSC</td>\n",
       "      <td>NPC</td>\n",
       "      <td>$\\searrow$</td>\n",
       "      <td>iPSC-NPC</td>\n",
       "    </tr>\n",
       "    <tr>\n",
       "      <th>4</th>\n",
       "      <td>isoform1=junction:chr10:101995522-101997778:-|...</td>\n",
       "      <td>0.181818</td>\n",
       "      <td>-0.150568</td>\n",
       "      <td>0.236069</td>\n",
       "      <td>iPSC</td>\n",
       "      <td>NPC</td>\n",
       "      <td>$\\searrow$</td>\n",
       "      <td>iPSC-NPC</td>\n",
       "    </tr>\n",
       "  </tbody>\n",
       "</table>\n",
       "</div>"
      ],
      "text/plain": [
       "                                            event_id  $\\Delta x$  $\\Delta y$  \\\n",
       "0  isoform1=junction:chr10:101163392-101165512:-|...    0.000000    0.033333   \n",
       "1  isoform1=junction:chr10:101476219-101480743:-|...    0.166667   -0.041667   \n",
       "2  isoform1=junction:chr10:101507148-101514285:+|...    0.291498   -0.089069   \n",
       "3  isoform1=junction:chr10:101510154-101514285:+|...    0.026316   -0.026316   \n",
       "4  isoform1=junction:chr10:101995522-101997778:-|...    0.181818   -0.150568   \n",
       "\n",
       "   magnitude group1 group2   direction transition  \n",
       "0   0.033333   iPSC    NPC  $\\nwarrow$   iPSC-NPC  \n",
       "1   0.171796   iPSC    NPC  $\\searrow$   iPSC-NPC  \n",
       "2   0.304802   iPSC    NPC  $\\searrow$   iPSC-NPC  \n",
       "3   0.037216   iPSC    NPC  $\\searrow$   iPSC-NPC  \n",
       "4   0.236069   iPSC    NPC  $\\searrow$   iPSC-NPC  "
      ]
     },
     "execution_count": 9,
     "metadata": {},
     "output_type": "execute_result"
    }
   ],
   "source": [
    "from bonvoyage.voyages import Voyages\n",
    "\n",
    "v = Voyages()\n",
    "\n",
    "voyages = v.voyages(waypoints, transitions)\n",
    "voyages.head()"
   ]
  },
  {
   "cell_type": "code",
   "execution_count": 10,
   "metadata": {
    "collapsed": false
   },
   "outputs": [
    {
     "data": {
      "text/html": [
       "<div>\n",
       "<table border=\"1\" class=\"dataframe\">\n",
       "  <thead>\n",
       "    <tr style=\"text-align: right;\">\n",
       "      <th></th>\n",
       "      <th>event_id</th>\n",
       "      <th>$\\Delta x$</th>\n",
       "      <th>$\\Delta y$</th>\n",
       "      <th>magnitude</th>\n",
       "      <th>group1</th>\n",
       "      <th>group2</th>\n",
       "      <th>direction</th>\n",
       "      <th>transition</th>\n",
       "    </tr>\n",
       "  </thead>\n",
       "  <tbody>\n",
       "    <tr>\n",
       "      <th>0</th>\n",
       "      <td>isoform1=junction:chr10:101163392-101165512:-|...</td>\n",
       "      <td>0.000000</td>\n",
       "      <td>0.033333</td>\n",
       "      <td>0.033333</td>\n",
       "      <td>iPSC</td>\n",
       "      <td>NPC</td>\n",
       "      <td>$\\nwarrow$</td>\n",
       "      <td>iPSC-NPC</td>\n",
       "    </tr>\n",
       "    <tr>\n",
       "      <th>1</th>\n",
       "      <td>isoform1=junction:chr10:101476219-101480743:-|...</td>\n",
       "      <td>0.166667</td>\n",
       "      <td>-0.041667</td>\n",
       "      <td>0.171796</td>\n",
       "      <td>iPSC</td>\n",
       "      <td>NPC</td>\n",
       "      <td>$\\searrow$</td>\n",
       "      <td>iPSC-NPC</td>\n",
       "    </tr>\n",
       "    <tr>\n",
       "      <th>2</th>\n",
       "      <td>isoform1=junction:chr10:101507148-101514285:+|...</td>\n",
       "      <td>0.291498</td>\n",
       "      <td>-0.089069</td>\n",
       "      <td>0.304802</td>\n",
       "      <td>iPSC</td>\n",
       "      <td>NPC</td>\n",
       "      <td>$\\searrow$</td>\n",
       "      <td>iPSC-NPC</td>\n",
       "    </tr>\n",
       "    <tr>\n",
       "      <th>3</th>\n",
       "      <td>isoform1=junction:chr10:101510154-101514285:+|...</td>\n",
       "      <td>0.026316</td>\n",
       "      <td>-0.026316</td>\n",
       "      <td>0.037216</td>\n",
       "      <td>iPSC</td>\n",
       "      <td>NPC</td>\n",
       "      <td>$\\searrow$</td>\n",
       "      <td>iPSC-NPC</td>\n",
       "    </tr>\n",
       "    <tr>\n",
       "      <th>4</th>\n",
       "      <td>isoform1=junction:chr10:101995522-101997778:-|...</td>\n",
       "      <td>0.181818</td>\n",
       "      <td>-0.150568</td>\n",
       "      <td>0.236069</td>\n",
       "      <td>iPSC</td>\n",
       "      <td>NPC</td>\n",
       "      <td>$\\searrow$</td>\n",
       "      <td>iPSC-NPC</td>\n",
       "    </tr>\n",
       "  </tbody>\n",
       "</table>\n",
       "</div>"
      ],
      "text/plain": [
       "                                            event_id  $\\Delta x$  $\\Delta y$  \\\n",
       "0  isoform1=junction:chr10:101163392-101165512:-|...    0.000000    0.033333   \n",
       "1  isoform1=junction:chr10:101476219-101480743:-|...    0.166667   -0.041667   \n",
       "2  isoform1=junction:chr10:101507148-101514285:+|...    0.291498   -0.089069   \n",
       "3  isoform1=junction:chr10:101510154-101514285:+|...    0.026316   -0.026316   \n",
       "4  isoform1=junction:chr10:101995522-101997778:-|...    0.181818   -0.150568   \n",
       "\n",
       "   magnitude group1 group2   direction transition  \n",
       "0   0.033333   iPSC    NPC  $\\nwarrow$   iPSC-NPC  \n",
       "1   0.171796   iPSC    NPC  $\\searrow$   iPSC-NPC  \n",
       "2   0.304802   iPSC    NPC  $\\searrow$   iPSC-NPC  \n",
       "3   0.037216   iPSC    NPC  $\\searrow$   iPSC-NPC  \n",
       "4   0.236069   iPSC    NPC  $\\searrow$   iPSC-NPC  "
      ]
     },
     "execution_count": 10,
     "metadata": {},
     "output_type": "execute_result"
    }
   ],
   "source": [
    "voyages['transition'] = voyages.group1 + '-' + voyages.group2\n",
    "voyages.head()"
   ]
  },
  {
   "cell_type": "code",
   "execution_count": 11,
   "metadata": {
    "collapsed": false
   },
   "outputs": [
    {
     "data": {
      "text/plain": [
       "(20401, 8)"
      ]
     },
     "execution_count": 11,
     "metadata": {},
     "output_type": "execute_result"
    }
   ],
   "source": [
    "voyages.shape"
   ]
  },
  {
   "cell_type": "markdown",
   "metadata": {},
   "source": [
    "### Add group1 and group2 modalities"
   ]
  },
  {
   "cell_type": "code",
   "execution_count": 12,
   "metadata": {
    "collapsed": false
   },
   "outputs": [
    {
     "data": {
      "text/html": [
       "<div>\n",
       "<table border=\"1\" class=\"dataframe\">\n",
       "  <thead>\n",
       "    <tr style=\"text-align: right;\">\n",
       "      <th></th>\n",
       "      <th>phenotype</th>\n",
       "      <th>event_id</th>\n",
       "      <th>modality</th>\n",
       "    </tr>\n",
       "  </thead>\n",
       "  <tbody>\n",
       "    <tr>\n",
       "      <th>0</th>\n",
       "      <td>MN</td>\n",
       "      <td>isoform1=junction:chr10:101163392-101165512:-|...</td>\n",
       "      <td>included</td>\n",
       "    </tr>\n",
       "    <tr>\n",
       "      <th>1</th>\n",
       "      <td>MN</td>\n",
       "      <td>isoform1=junction:chr10:101476219-101480743:-|...</td>\n",
       "      <td>bimodal</td>\n",
       "    </tr>\n",
       "    <tr>\n",
       "      <th>2</th>\n",
       "      <td>MN</td>\n",
       "      <td>isoform1=junction:chr10:102114390-102120490:+|...</td>\n",
       "      <td>included</td>\n",
       "    </tr>\n",
       "    <tr>\n",
       "      <th>3</th>\n",
       "      <td>MN</td>\n",
       "      <td>isoform1=junction:chr10:102283687-102286731:-|...</td>\n",
       "      <td>included</td>\n",
       "    </tr>\n",
       "    <tr>\n",
       "      <th>4</th>\n",
       "      <td>MN</td>\n",
       "      <td>isoform1=junction:chr10:102746733-102747069:-|...</td>\n",
       "      <td>bimodal</td>\n",
       "    </tr>\n",
       "  </tbody>\n",
       "</table>\n",
       "</div>"
      ],
      "text/plain": [
       "  phenotype                                           event_id  modality\n",
       "0        MN  isoform1=junction:chr10:101163392-101165512:-|...  included\n",
       "1        MN  isoform1=junction:chr10:101476219-101480743:-|...   bimodal\n",
       "2        MN  isoform1=junction:chr10:102114390-102120490:+|...  included\n",
       "3        MN  isoform1=junction:chr10:102283687-102286731:-|...  included\n",
       "4        MN  isoform1=junction:chr10:102746733-102747069:-|...   bimodal"
      ]
     },
     "execution_count": 12,
     "metadata": {},
     "output_type": "execute_result"
    }
   ],
   "source": [
    "study.supplemental.modalities_tidy.head()"
   ]
  },
  {
   "cell_type": "code",
   "execution_count": 13,
   "metadata": {
    "collapsed": false
   },
   "outputs": [
    {
     "name": "stdout",
     "output_type": "stream",
     "text": [
      "(20401, 10)\n",
      "(20401, 11)\n",
      "(20401, 10)\n"
     ]
    },
    {
     "data": {
      "text/html": [
       "<div>\n",
       "<table border=\"1\" class=\"dataframe\">\n",
       "  <thead>\n",
       "    <tr style=\"text-align: right;\">\n",
       "      <th></th>\n",
       "      <th>event_id</th>\n",
       "      <th>$\\Delta x$</th>\n",
       "      <th>$\\Delta y$</th>\n",
       "      <th>magnitude</th>\n",
       "      <th>group1</th>\n",
       "      <th>group2</th>\n",
       "      <th>direction</th>\n",
       "      <th>transition</th>\n",
       "      <th>group1_modality</th>\n",
       "      <th>group2_modality</th>\n",
       "    </tr>\n",
       "  </thead>\n",
       "  <tbody>\n",
       "    <tr>\n",
       "      <th>0</th>\n",
       "      <td>isoform1=junction:chr10:101163392-101165512:-|...</td>\n",
       "      <td>0.000000</td>\n",
       "      <td>0.033333</td>\n",
       "      <td>0.033333</td>\n",
       "      <td>iPSC</td>\n",
       "      <td>NPC</td>\n",
       "      <td>$\\nwarrow$</td>\n",
       "      <td>iPSC-NPC</td>\n",
       "      <td>included</td>\n",
       "      <td>included</td>\n",
       "    </tr>\n",
       "    <tr>\n",
       "      <th>1</th>\n",
       "      <td>isoform1=junction:chr10:101163392-101165512:-|...</td>\n",
       "      <td>0.000000</td>\n",
       "      <td>0.033333</td>\n",
       "      <td>0.033333</td>\n",
       "      <td>iPSC</td>\n",
       "      <td>MN</td>\n",
       "      <td>$\\nwarrow$</td>\n",
       "      <td>iPSC-MN</td>\n",
       "      <td>included</td>\n",
       "      <td>included</td>\n",
       "    </tr>\n",
       "    <tr>\n",
       "      <th>2</th>\n",
       "      <td>isoform1=junction:chr10:101163392-101165512:-|...</td>\n",
       "      <td>0.000000</td>\n",
       "      <td>0.000000</td>\n",
       "      <td>0.000000</td>\n",
       "      <td>NPC</td>\n",
       "      <td>MN</td>\n",
       "      <td>NaN</td>\n",
       "      <td>NPC-MN</td>\n",
       "      <td>included</td>\n",
       "      <td>included</td>\n",
       "    </tr>\n",
       "    <tr>\n",
       "      <th>3</th>\n",
       "      <td>isoform1=junction:chr10:101476219-101480743:-|...</td>\n",
       "      <td>0.166667</td>\n",
       "      <td>-0.041667</td>\n",
       "      <td>0.171796</td>\n",
       "      <td>iPSC</td>\n",
       "      <td>NPC</td>\n",
       "      <td>$\\searrow$</td>\n",
       "      <td>iPSC-NPC</td>\n",
       "      <td>included</td>\n",
       "      <td>bimodal</td>\n",
       "    </tr>\n",
       "    <tr>\n",
       "      <th>4</th>\n",
       "      <td>isoform1=junction:chr10:101476219-101480743:-|...</td>\n",
       "      <td>0.052632</td>\n",
       "      <td>0.072368</td>\n",
       "      <td>0.089483</td>\n",
       "      <td>iPSC</td>\n",
       "      <td>MN</td>\n",
       "      <td>$\\nearrow$</td>\n",
       "      <td>iPSC-MN</td>\n",
       "      <td>included</td>\n",
       "      <td>bimodal</td>\n",
       "    </tr>\n",
       "  </tbody>\n",
       "</table>\n",
       "</div>"
      ],
      "text/plain": [
       "                                            event_id  $\\Delta x$  $\\Delta y$  \\\n",
       "0  isoform1=junction:chr10:101163392-101165512:-|...    0.000000    0.033333   \n",
       "1  isoform1=junction:chr10:101163392-101165512:-|...    0.000000    0.033333   \n",
       "2  isoform1=junction:chr10:101163392-101165512:-|...    0.000000    0.000000   \n",
       "3  isoform1=junction:chr10:101476219-101480743:-|...    0.166667   -0.041667   \n",
       "4  isoform1=junction:chr10:101476219-101480743:-|...    0.052632    0.072368   \n",
       "\n",
       "   magnitude group1 group2   direction transition group1_modality  \\\n",
       "0   0.033333   iPSC    NPC  $\\nwarrow$   iPSC-NPC        included   \n",
       "1   0.033333   iPSC     MN  $\\nwarrow$    iPSC-MN        included   \n",
       "2   0.000000    NPC     MN         NaN     NPC-MN        included   \n",
       "3   0.171796   iPSC    NPC  $\\searrow$   iPSC-NPC        included   \n",
       "4   0.089483   iPSC     MN  $\\nearrow$    iPSC-MN        included   \n",
       "\n",
       "  group2_modality  \n",
       "0        included  \n",
       "1        included  \n",
       "2        included  \n",
       "3         bimodal  \n",
       "4         bimodal  "
      ]
     },
     "execution_count": 13,
     "metadata": {},
     "output_type": "execute_result"
    }
   ],
   "source": [
    "groups = 'group1', 'group2'\n",
    "voyages_modalities = voyages.copy()\n",
    "\n",
    "for group in groups:\n",
    "    voyages_modalities = voyages_modalities.merge(study.supplemental.modalities_tidy, \n",
    "                                       left_on=[group, 'event_id'], \n",
    "                                       right_on=['phenotype', 'event_id'], copy=False)\n",
    "    print(voyages_modalities.shape)\n",
    "    voyages_modalities = voyages_modalities.drop(['phenotype'], axis=1)\n",
    "    voyages_modalities = voyages_modalities.rename(columns={'modality': '{}_modality'.format(group)})\n",
    "print(voyages_modalities.shape)\n",
    "voyages_modalities.head()"
   ]
  },
  {
   "cell_type": "markdown",
   "metadata": {},
   "source": [
    "## Add the data to the study and save it"
   ]
  },
  {
   "cell_type": "code",
   "execution_count": 14,
   "metadata": {
    "collapsed": true
   },
   "outputs": [],
   "source": [
    "study.supplemental.waypoints = waypoints\n",
    "study.supplemental.voyages = voyages_modalities"
   ]
  },
  {
   "cell_type": "code",
   "execution_count": 15,
   "metadata": {
    "collapsed": false
   },
   "outputs": [
    {
     "name": "stdout",
     "output_type": "stream",
     "text": [
      "Wrote datapackage to /projects/ps-yeolab/obotvinnik/flotilla_projects//singlecell_pnm_figure5_voyages/datapackage.json\n"
     ]
    },
    {
     "name": "stderr",
     "output_type": "stream",
     "text": [
      "/home/obotvinnik/anaconda/lib/python2.7/site-packages/pandas/core/generic.py:1138: PerformanceWarning: \n",
      "your performance may suffer as PyTables will pickle object types that it cannot\n",
      "map directly to c-types [inferred_type->mixed,key->block1_values] [items->['ensembl_id', 'event_location', 'exon1', 'exon2', 'exon3', 'exon4', 'gene_id', 'gene_name', 'gene_status', 'gene_type', 'havana_gene', 'incompatible_junctions', 'intron_location', 'junction12', 'junction13', 'junction23', 'junction24', 'junction34', 'junctions', 'strand', 'tag', 'transcript_id', 'transcript_name', 'transcript_status', 'transcript_type']]\n",
      "\n",
      "  return pytables.to_hdf(path_or_buf, key, self, **kwargs)\n"
     ]
    }
   ],
   "source": [
    "study.save('singlecell_pnm_figure5_voyages', flotilla_dir='/projects/ps-yeolab/obotvinnik/flotilla_projects/')"
   ]
  },
  {
   "cell_type": "code",
   "execution_count": 21,
   "metadata": {
    "collapsed": false
   },
   "outputs": [],
   "source": [
    "# ll /projects/ps-yeolab/obotvinnik/flotilla_projects//singlecell_pnm_figure4_voyages"
   ]
  },
  {
   "cell_type": "code",
   "execution_count": 22,
   "metadata": {
    "collapsed": false
   },
   "outputs": [],
   "source": [
    "# ! md5sum /projects/ps-yeolab/obotvinnik/flotilla_projects/singlecell_pnm_figure4_voyages/*csv"
   ]
  },
  {
   "cell_type": "code",
   "execution_count": null,
   "metadata": {
    "collapsed": true
   },
   "outputs": [],
   "source": []
  }
 ],
 "metadata": {
  "kernelspec": {
   "display_name": "Python 2",
   "language": "python",
   "name": "python2"
  },
  "language_info": {
   "codemirror_mode": {
    "name": "ipython",
    "version": 2
   },
   "file_extension": ".py",
   "mimetype": "text/x-python",
   "name": "python",
   "nbconvert_exporter": "python",
   "pygments_lexer": "ipython2",
   "version": "2.7.11"
  }
 },
 "nbformat": 4,
 "nbformat_minor": 0
}
