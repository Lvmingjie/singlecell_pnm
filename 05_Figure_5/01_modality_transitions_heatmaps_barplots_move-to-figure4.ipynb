{
 "cells": [
  {
   "cell_type": "code",
   "execution_count": 1,
   "metadata": {
    "collapsed": false
   },
   "outputs": [],
   "source": [
    "# mkdir /home/obotvinnik/Dropbox/figures2/singlecell_pnm/figure4_voyages/"
   ]
  },
  {
   "cell_type": "code",
   "execution_count": 2,
   "metadata": {
    "collapsed": false
   },
   "outputs": [
    {
     "name": "stdout",
     "output_type": "stream",
     "text": [
      "2017-01-13 09:36:57\tReading datapackage from /projects/ps-yeolab/obotvinnik/flotilla_projects/singlecell_pnm_figure2_modalities_bayesian/datapackage.json\n",
      "2017-01-13 09:36:57\tParsing datapackage to create a Study object\n",
      "https://s3-us-west-2.amazonaws.com/flotilla-projects/ercc/ERCC_Controls.txt has not been downloaded before.\n",
      "\tDownloading now to /home/obotvinnik/flotilla_projects/hg19/ERCC_Controls.txt\n"
     ]
    },
    {
     "name": "stderr",
     "output_type": "stream",
     "text": [
      "/home/obotvinnik/anaconda/lib/python2.7/site-packages/sklearn/cross_validation.py:44: DeprecationWarning: This module was deprecated in version 0.18 in favor of the model_selection module into which all the refactored classes and functions are moved. Also note that the interface of the new CV iterators are different from that of this module. This module will be removed in 0.20.\n",
      "  \"This module will be removed in 0.20.\", DeprecationWarning)\n",
      "Error loading species hg19 data: HTTP Error 404: Not Found"
     ]
    },
    {
     "name": "stdout",
     "output_type": "stream",
     "text": [
      "2017-01-13 09:39:15 \tInitializing Study\n",
      "2017-01-13 09:39:15 \tInitializing Predictor configuration manager for Study\n",
      "2017-01-13 09:39:15\tPredictor ExtraTreesClassifier is of type <class 'sklearn.ensemble.forest.ExtraTreesClassifier'>\n",
      "2017-01-13 09:39:15\tAdded ExtraTreesClassifier to default predictors\n",
      "2017-01-13 09:39:15\tPredictor ExtraTreesRegressor is of type <class 'sklearn.ensemble.forest.ExtraTreesRegressor'>\n",
      "2017-01-13 09:39:15\tAdded ExtraTreesRegressor to default predictors\n",
      "2017-01-13 09:39:15\tPredictor GradientBoostingClassifier is of type <class 'sklearn.ensemble.gradient_boosting.GradientBoostingClassifier'>\n",
      "2017-01-13 09:39:15\tAdded GradientBoostingClassifier to default predictors\n",
      "2017-01-13 09:39:15\tPredictor GradientBoostingRegressor is of type <class 'sklearn.ensemble.gradient_boosting.GradientBoostingRegressor'>\n",
      "2017-01-13 09:39:15\tAdded GradientBoostingRegressor to default predictors\n",
      "2017-01-13 09:39:15 \tLoading metadata\n",
      "2017-01-13 09:39:15\tLoading expression data\n",
      "2017-01-13 09:39:15\tInitializing expression\n",
      "2017-01-13 09:39:16\tDone initializing expression\n",
      "2017-01-13 09:39:24\tLoading splicing data\n",
      "2017-01-13 09:39:24\tInitializing splicing\n",
      "2017-01-13 09:39:25\tDone initializing splicing\n",
      "2017-01-13 09:39:25\tSuccessfully initialized a Study object!\n"
     ]
    }
   ],
   "source": [
    "import six\n",
    "\n",
    "import matplotlib.pyplot as plt\n",
    "import seaborn as sns\n",
    "import numpy as np\n",
    "import pandas as pd\n",
    "\n",
    "from anchor.visualize import MODALITY_TO_COLOR, MODALITY_ORDER, MODALITY_PALETTE\n",
    "modality_order = MODALITY_ORDER\n",
    "\n",
    "sns.set(style='ticks', context='paper', rc={'font.sans-serif':'Arial', 'pdf.fonttype': 42})\n",
    "\n",
    "%matplotlib inline\n",
    "\n",
    "%load_ext autoreload\n",
    "%autoreload 2\n",
    "\n",
    "folder = 'figures' #'/home/obotvinnik/Dropbox/figures2/singlecell_pnm/figure4_voyages'\n",
    "\n",
    "import flotilla\n",
    "# study = flotilla.embark('singlecell_pnm_figure2_modalities_rmdup', \n",
    "study = flotilla.embark('singlecell_pnm_figure2_modalities_bayesian', \n",
    "                        flotilla_dir='/projects/ps-yeolab/obotvinnik/flotilla_projects/')\n",
    "# study = flotilla.embark('singlecell_pnm_figure1_supplementary_post_splicing_filtering')"
   ]
  },
  {
   "cell_type": "code",
   "execution_count": 3,
   "metadata": {
    "collapsed": true
   },
   "outputs": [],
   "source": [
    "figure_folder = 'figures/001_modality_transitions_heatmaps_barplots'"
   ]
  },
  {
   "cell_type": "code",
   "execution_count": 4,
   "metadata": {
    "collapsed": false
   },
   "outputs": [],
   "source": [
    "# mkdir $folder"
   ]
  },
  {
   "cell_type": "code",
   "execution_count": 5,
   "metadata": {
    "collapsed": false
   },
   "outputs": [
    {
     "data": {
      "text/html": [
       "<div>\n",
       "<table border=\"1\" class=\"dataframe\">\n",
       "  <thead>\n",
       "    <tr style=\"text-align: right;\">\n",
       "      <th></th>\n",
       "      <th>phenotype_x</th>\n",
       "      <th>event_id</th>\n",
       "      <th>modality_x</th>\n",
       "      <th>phenotype_y</th>\n",
       "      <th>modality_y</th>\n",
       "    </tr>\n",
       "  </thead>\n",
       "  <tbody>\n",
       "    <tr>\n",
       "      <th>0</th>\n",
       "      <td>MN</td>\n",
       "      <td>isoform1=junction:chr10:101163392-101165512:-|...</td>\n",
       "      <td>included</td>\n",
       "      <td>MN</td>\n",
       "      <td>included</td>\n",
       "    </tr>\n",
       "    <tr>\n",
       "      <th>1</th>\n",
       "      <td>MN</td>\n",
       "      <td>isoform1=junction:chr10:101163392-101165512:-|...</td>\n",
       "      <td>included</td>\n",
       "      <td>NPC</td>\n",
       "      <td>included</td>\n",
       "    </tr>\n",
       "    <tr>\n",
       "      <th>2</th>\n",
       "      <td>MN</td>\n",
       "      <td>isoform1=junction:chr10:101163392-101165512:-|...</td>\n",
       "      <td>included</td>\n",
       "      <td>iPSC</td>\n",
       "      <td>included</td>\n",
       "    </tr>\n",
       "    <tr>\n",
       "      <th>3</th>\n",
       "      <td>NPC</td>\n",
       "      <td>isoform1=junction:chr10:101163392-101165512:-|...</td>\n",
       "      <td>included</td>\n",
       "      <td>MN</td>\n",
       "      <td>included</td>\n",
       "    </tr>\n",
       "    <tr>\n",
       "      <th>4</th>\n",
       "      <td>NPC</td>\n",
       "      <td>isoform1=junction:chr10:101163392-101165512:-|...</td>\n",
       "      <td>included</td>\n",
       "      <td>NPC</td>\n",
       "      <td>included</td>\n",
       "    </tr>\n",
       "  </tbody>\n",
       "</table>\n",
       "</div>"
      ],
      "text/plain": [
       "  phenotype_x                                           event_id modality_x  \\\n",
       "0          MN  isoform1=junction:chr10:101163392-101165512:-|...   included   \n",
       "1          MN  isoform1=junction:chr10:101163392-101165512:-|...   included   \n",
       "2          MN  isoform1=junction:chr10:101163392-101165512:-|...   included   \n",
       "3         NPC  isoform1=junction:chr10:101163392-101165512:-|...   included   \n",
       "4         NPC  isoform1=junction:chr10:101163392-101165512:-|...   included   \n",
       "\n",
       "  phenotype_y modality_y  \n",
       "0          MN   included  \n",
       "1         NPC   included  \n",
       "2        iPSC   included  \n",
       "3          MN   included  \n",
       "4         NPC   included  "
      ]
     },
     "execution_count": 5,
     "metadata": {},
     "output_type": "execute_result"
    }
   ],
   "source": [
    "modality_transitions = study.supplemental.modalities_tidy.merge(\n",
    "    study.supplemental.modalities_tidy, left_on='event_id', right_on='event_id')\n",
    "modality_transitions.head()"
   ]
  },
  {
   "cell_type": "code",
   "execution_count": 6,
   "metadata": {
    "collapsed": false
   },
   "outputs": [
    {
     "data": {
      "text/html": [
       "<div>\n",
       "<table border=\"1\" class=\"dataframe\">\n",
       "  <thead>\n",
       "    <tr style=\"text-align: right;\">\n",
       "      <th></th>\n",
       "      <th>phenotype_x</th>\n",
       "      <th>event_id</th>\n",
       "      <th>modality_x</th>\n",
       "      <th>phenotype_y</th>\n",
       "      <th>modality_y</th>\n",
       "      <th>transition</th>\n",
       "    </tr>\n",
       "  </thead>\n",
       "  <tbody>\n",
       "    <tr>\n",
       "      <th>0</th>\n",
       "      <td>MN</td>\n",
       "      <td>isoform1=junction:chr10:101163392-101165512:-|...</td>\n",
       "      <td>included</td>\n",
       "      <td>MN</td>\n",
       "      <td>included</td>\n",
       "      <td>MN-MN</td>\n",
       "    </tr>\n",
       "    <tr>\n",
       "      <th>1</th>\n",
       "      <td>MN</td>\n",
       "      <td>isoform1=junction:chr10:101163392-101165512:-|...</td>\n",
       "      <td>included</td>\n",
       "      <td>NPC</td>\n",
       "      <td>included</td>\n",
       "      <td>MN-NPC</td>\n",
       "    </tr>\n",
       "    <tr>\n",
       "      <th>2</th>\n",
       "      <td>MN</td>\n",
       "      <td>isoform1=junction:chr10:101163392-101165512:-|...</td>\n",
       "      <td>included</td>\n",
       "      <td>iPSC</td>\n",
       "      <td>included</td>\n",
       "      <td>MN-iPSC</td>\n",
       "    </tr>\n",
       "    <tr>\n",
       "      <th>3</th>\n",
       "      <td>NPC</td>\n",
       "      <td>isoform1=junction:chr10:101163392-101165512:-|...</td>\n",
       "      <td>included</td>\n",
       "      <td>MN</td>\n",
       "      <td>included</td>\n",
       "      <td>NPC-MN</td>\n",
       "    </tr>\n",
       "    <tr>\n",
       "      <th>4</th>\n",
       "      <td>NPC</td>\n",
       "      <td>isoform1=junction:chr10:101163392-101165512:-|...</td>\n",
       "      <td>included</td>\n",
       "      <td>NPC</td>\n",
       "      <td>included</td>\n",
       "      <td>NPC-NPC</td>\n",
       "    </tr>\n",
       "  </tbody>\n",
       "</table>\n",
       "</div>"
      ],
      "text/plain": [
       "  phenotype_x                                           event_id modality_x  \\\n",
       "0          MN  isoform1=junction:chr10:101163392-101165512:-|...   included   \n",
       "1          MN  isoform1=junction:chr10:101163392-101165512:-|...   included   \n",
       "2          MN  isoform1=junction:chr10:101163392-101165512:-|...   included   \n",
       "3         NPC  isoform1=junction:chr10:101163392-101165512:-|...   included   \n",
       "4         NPC  isoform1=junction:chr10:101163392-101165512:-|...   included   \n",
       "\n",
       "  phenotype_y modality_y transition  \n",
       "0          MN   included      MN-MN  \n",
       "1         NPC   included     MN-NPC  \n",
       "2        iPSC   included    MN-iPSC  \n",
       "3          MN   included     NPC-MN  \n",
       "4         NPC   included    NPC-NPC  "
      ]
     },
     "execution_count": 6,
     "metadata": {},
     "output_type": "execute_result"
    }
   ],
   "source": [
    "modality_transitions['transition'] = modality_transitions['phenotype_x'] + '-' + modality_transitions['phenotype_y']\n",
    "modality_transitions.head()"
   ]
  },
  {
   "cell_type": "code",
   "execution_count": 7,
   "metadata": {
    "collapsed": true
   },
   "outputs": [],
   "source": [
    "transitions_of_interest = ['iPSC-NPC', 'iPSC-MN']"
   ]
  },
  {
   "cell_type": "code",
   "execution_count": 8,
   "metadata": {
    "collapsed": false
   },
   "outputs": [
    {
     "data": {
      "text/html": [
       "<div>\n",
       "<table border=\"1\" class=\"dataframe\">\n",
       "  <thead>\n",
       "    <tr style=\"text-align: right;\">\n",
       "      <th></th>\n",
       "      <th>phenotype_x</th>\n",
       "      <th>event_id</th>\n",
       "      <th>modality_x</th>\n",
       "      <th>phenotype_y</th>\n",
       "      <th>modality_y</th>\n",
       "      <th>transition</th>\n",
       "    </tr>\n",
       "  </thead>\n",
       "  <tbody>\n",
       "    <tr>\n",
       "      <th>6</th>\n",
       "      <td>iPSC</td>\n",
       "      <td>isoform1=junction:chr10:101163392-101165512:-|...</td>\n",
       "      <td>included</td>\n",
       "      <td>MN</td>\n",
       "      <td>included</td>\n",
       "      <td>iPSC-MN</td>\n",
       "    </tr>\n",
       "    <tr>\n",
       "      <th>7</th>\n",
       "      <td>iPSC</td>\n",
       "      <td>isoform1=junction:chr10:101163392-101165512:-|...</td>\n",
       "      <td>included</td>\n",
       "      <td>NPC</td>\n",
       "      <td>included</td>\n",
       "      <td>iPSC-NPC</td>\n",
       "    </tr>\n",
       "    <tr>\n",
       "      <th>15</th>\n",
       "      <td>iPSC</td>\n",
       "      <td>isoform1=junction:chr10:101476219-101480743:-|...</td>\n",
       "      <td>included</td>\n",
       "      <td>MN</td>\n",
       "      <td>bimodal</td>\n",
       "      <td>iPSC-MN</td>\n",
       "    </tr>\n",
       "    <tr>\n",
       "      <th>16</th>\n",
       "      <td>iPSC</td>\n",
       "      <td>isoform1=junction:chr10:101476219-101480743:-|...</td>\n",
       "      <td>included</td>\n",
       "      <td>NPC</td>\n",
       "      <td>bimodal</td>\n",
       "      <td>iPSC-NPC</td>\n",
       "    </tr>\n",
       "    <tr>\n",
       "      <th>24</th>\n",
       "      <td>iPSC</td>\n",
       "      <td>isoform1=junction:chr10:102114390-102120490:+|...</td>\n",
       "      <td>included</td>\n",
       "      <td>MN</td>\n",
       "      <td>included</td>\n",
       "      <td>iPSC-MN</td>\n",
       "    </tr>\n",
       "  </tbody>\n",
       "</table>\n",
       "</div>"
      ],
      "text/plain": [
       "   phenotype_x                                           event_id modality_x  \\\n",
       "6         iPSC  isoform1=junction:chr10:101163392-101165512:-|...   included   \n",
       "7         iPSC  isoform1=junction:chr10:101163392-101165512:-|...   included   \n",
       "15        iPSC  isoform1=junction:chr10:101476219-101480743:-|...   included   \n",
       "16        iPSC  isoform1=junction:chr10:101476219-101480743:-|...   included   \n",
       "24        iPSC  isoform1=junction:chr10:102114390-102120490:+|...   included   \n",
       "\n",
       "   phenotype_y modality_y transition  \n",
       "6           MN   included    iPSC-MN  \n",
       "7          NPC   included   iPSC-NPC  \n",
       "15          MN    bimodal    iPSC-MN  \n",
       "16         NPC    bimodal   iPSC-NPC  \n",
       "24          MN   included    iPSC-MN  "
      ]
     },
     "execution_count": 8,
     "metadata": {},
     "output_type": "execute_result"
    }
   ],
   "source": [
    "modality_transitions_subset = modality_transitions.query('transition in @transitions_of_interest')\n",
    "modality_transitions_subset.head()"
   ]
  },
  {
   "cell_type": "code",
   "execution_count": 9,
   "metadata": {
    "collapsed": false
   },
   "outputs": [
    {
     "data": {
      "text/html": [
       "<div>\n",
       "<table border=\"1\" class=\"dataframe\">\n",
       "  <thead>\n",
       "    <tr style=\"text-align: right;\">\n",
       "      <th></th>\n",
       "      <th>phenotype_x</th>\n",
       "      <th>event_id</th>\n",
       "      <th>modality_x</th>\n",
       "      <th>phenotype_y</th>\n",
       "      <th>modality_y</th>\n",
       "      <th>transition</th>\n",
       "    </tr>\n",
       "  </thead>\n",
       "  <tbody>\n",
       "    <tr>\n",
       "      <th>6</th>\n",
       "      <td>iPSC</td>\n",
       "      <td>isoform1=junction:chr10:101163392-101165512:-|...</td>\n",
       "      <td>included</td>\n",
       "      <td>MN</td>\n",
       "      <td>included</td>\n",
       "      <td>iPSC-MN</td>\n",
       "    </tr>\n",
       "    <tr>\n",
       "      <th>7</th>\n",
       "      <td>iPSC</td>\n",
       "      <td>isoform1=junction:chr10:101163392-101165512:-|...</td>\n",
       "      <td>included</td>\n",
       "      <td>NPC</td>\n",
       "      <td>included</td>\n",
       "      <td>iPSC-NPC</td>\n",
       "    </tr>\n",
       "    <tr>\n",
       "      <th>15</th>\n",
       "      <td>iPSC</td>\n",
       "      <td>isoform1=junction:chr10:101476219-101480743:-|...</td>\n",
       "      <td>included</td>\n",
       "      <td>MN</td>\n",
       "      <td>bimodal</td>\n",
       "      <td>iPSC-MN</td>\n",
       "    </tr>\n",
       "    <tr>\n",
       "      <th>16</th>\n",
       "      <td>iPSC</td>\n",
       "      <td>isoform1=junction:chr10:101476219-101480743:-|...</td>\n",
       "      <td>included</td>\n",
       "      <td>NPC</td>\n",
       "      <td>bimodal</td>\n",
       "      <td>iPSC-NPC</td>\n",
       "    </tr>\n",
       "    <tr>\n",
       "      <th>24</th>\n",
       "      <td>iPSC</td>\n",
       "      <td>isoform1=junction:chr10:102114390-102120490:+|...</td>\n",
       "      <td>included</td>\n",
       "      <td>MN</td>\n",
       "      <td>included</td>\n",
       "      <td>iPSC-MN</td>\n",
       "    </tr>\n",
       "  </tbody>\n",
       "</table>\n",
       "</div>"
      ],
      "text/plain": [
       "   phenotype_x                                           event_id modality_x  \\\n",
       "6         iPSC  isoform1=junction:chr10:101163392-101165512:-|...   included   \n",
       "7         iPSC  isoform1=junction:chr10:101163392-101165512:-|...   included   \n",
       "15        iPSC  isoform1=junction:chr10:101476219-101480743:-|...   included   \n",
       "16        iPSC  isoform1=junction:chr10:101476219-101480743:-|...   included   \n",
       "24        iPSC  isoform1=junction:chr10:102114390-102120490:+|...   included   \n",
       "\n",
       "   phenotype_y modality_y transition  \n",
       "6           MN   included    iPSC-MN  \n",
       "7          NPC   included   iPSC-NPC  \n",
       "15          MN    bimodal    iPSC-MN  \n",
       "16         NPC    bimodal   iPSC-NPC  \n",
       "24          MN   included    iPSC-MN  "
      ]
     },
     "execution_count": 9,
     "metadata": {},
     "output_type": "execute_result"
    }
   ],
   "source": [
    "modality_transitions_subset.head()"
   ]
  },
  {
   "cell_type": "code",
   "execution_count": 10,
   "metadata": {
    "collapsed": false
   },
   "outputs": [
    {
     "data": {
      "text/plain": [
       "(5903,)"
      ]
     },
     "execution_count": 10,
     "metadata": {},
     "output_type": "execute_result"
    }
   ],
   "source": [
    "modality_transitions_subset.query('transition == \"iPSC-MN\"')['event_id'].unique().shape"
   ]
  },
  {
   "cell_type": "code",
   "execution_count": 11,
   "metadata": {
    "collapsed": false
   },
   "outputs": [
    {
     "data": {
      "text/plain": [
       "12005"
      ]
     },
     "execution_count": 11,
     "metadata": {},
     "output_type": "execute_result"
    }
   ],
   "source": [
    "(modality_transitions_subset.modality_x == modality_transitions_subset.modality_y).sum()"
   ]
  },
  {
   "cell_type": "code",
   "execution_count": 12,
   "metadata": {
    "collapsed": false
   },
   "outputs": [
    {
     "name": "stdout",
     "output_type": "stream",
     "text": [
      "1532 1059\n"
     ]
    }
   ],
   "source": [
    "ipsc_mn_changing_events = set(modality_transitions_subset.query(\n",
    "        '(transition == \"iPSC-MN\") & (modality_x != modality_y)')['event_id'])\n",
    "ipsc_npc_changing_events = set(modality_transitions_subset.query(\n",
    "        '(transition == \"iPSC-NPC\") & (modality_x != modality_y)')['event_id'])\n",
    "six.print_(len(ipsc_npc_changing_events), len(ipsc_mn_changing_events))"
   ]
  },
  {
   "cell_type": "code",
   "execution_count": 14,
   "metadata": {
    "collapsed": false
   },
   "outputs": [
    {
     "data": {
      "text/plain": [
       "5528"
      ]
     },
     "execution_count": 14,
     "metadata": {},
     "output_type": "execute_result"
    }
   ],
   "source": [
    "events_detected_in_all = set(study.supplemental.modalities_tidy.groupby('event_id').filter(\n",
    "    lambda x: len(x) == len(study.phenotype_order))['event_id'])\n",
    "len(events_detected_in_all)"
   ]
  },
  {
   "cell_type": "code",
   "execution_count": 15,
   "metadata": {
    "collapsed": false
   },
   "outputs": [],
   "source": [
    "ipsc_mn_changing_events_detected_in_all = ipsc_mn_changing_events & events_detected_in_all\n",
    "ipsc_npc_changing_events_detected_in_all = ipsc_npc_changing_events & events_detected_in_all"
   ]
  },
  {
   "cell_type": "markdown",
   "metadata": {},
   "source": [
    "## Venn diagrams"
   ]
  },
  {
   "cell_type": "code",
   "execution_count": 16,
   "metadata": {
    "collapsed": false
   },
   "outputs": [
    {
     "data": {
      "image/png": "[encoded data removed]",
      "text/plain": [
       "<matplotlib.figure.Figure at 0x2b372075f190>"
      ]
     },
     "metadata": {},
     "output_type": "display_data"
    }
   ],
   "source": [
    "import matplotlib_venn\n",
    "sns.set(context='paper', style='ticks')\n",
    "\n",
    "fig, ax = plt.subplots(figsize=(1.5, 1.5))\n",
    "\n",
    "matplotlib_venn.venn2((ipsc_npc_changing_events, ipsc_mn_changing_events), \n",
    "                      set_labels=['iPSC-NPC', 'iPSC-MN'], set_colors=study.phenotype_color_ordered[1:])\n",
    "fig.savefig('{}/changing_events_venn.pdf'.format(folder))"
   ]
  },
  {
   "cell_type": "code",
   "execution_count": 17,
   "metadata": {
    "collapsed": false
   },
   "outputs": [
    {
     "data": {
      "image/png": "[encoded data removed]",
      "text/plain": [
       "<matplotlib.figure.Figure at 0x2b371ffba390>"
      ]
     },
     "metadata": {},
     "output_type": "display_data"
    }
   ],
   "source": [
    "import matplotlib_venn\n",
    "\n",
    "fig, ax = plt.subplots(figsize=(1.5, 1.5))\n",
    "\n",
    "matplotlib_venn.venn2((ipsc_npc_changing_events_detected_in_all, ipsc_mn_changing_events_detected_in_all), \n",
    "                      set_labels=['iPSC-NPC', 'iPSC-MN'], set_colors=study.phenotype_color_ordered[1:])\n",
    "fig.savefig('{}/changing_events_venn_detected_in_all.pdf'.format(folder))"
   ]
  },
  {
   "cell_type": "markdown",
   "metadata": {},
   "source": [
    "### Barplots of the percentage of evetns changing in each modality"
   ]
  },
  {
   "cell_type": "code",
   "execution_count": 18,
   "metadata": {
    "collapsed": false
   },
   "outputs": [
    {
     "name": "stderr",
     "output_type": "stream",
     "text": [
      "/home/obotvinnik/anaconda/lib/python2.7/site-packages/ipykernel/__main__.py:2: SettingWithCopyWarning: \n",
      "A value is trying to be set on a copy of a slice from a DataFrame.\n",
      "Try using .loc[row_indexer,col_indexer] = value instead\n",
      "\n",
      "See the caveats in the documentation: http://pandas.pydata.org/pandas-docs/stable/indexing.html#indexing-view-versus-copy\n",
      "  from ipykernel import kernelapp as app\n"
     ]
    }
   ],
   "source": [
    "modality_transitions_subset['transition'] = pd.Categorical(modality_transitions_subset['transition'], \n",
    "                                                           categories=transitions_of_interest, ordered=True)"
   ]
  },
  {
   "cell_type": "code",
   "execution_count": 19,
   "metadata": {
    "collapsed": false
   },
   "outputs": [
    {
     "data": {
      "text/html": [
       "<div>\n",
       "<table border=\"1\" class=\"dataframe\">\n",
       "  <thead>\n",
       "    <tr style=\"text-align: right;\">\n",
       "      <th></th>\n",
       "      <th>phenotype_x</th>\n",
       "      <th>event_id</th>\n",
       "      <th>modality_x</th>\n",
       "      <th>phenotype_y</th>\n",
       "      <th>modality_y</th>\n",
       "      <th>transition</th>\n",
       "    </tr>\n",
       "  </thead>\n",
       "  <tbody>\n",
       "    <tr>\n",
       "      <th>6</th>\n",
       "      <td>iPSC</td>\n",
       "      <td>isoform1=junction:chr10:101163392-101165512:-|...</td>\n",
       "      <td>included</td>\n",
       "      <td>MN</td>\n",
       "      <td>included</td>\n",
       "      <td>iPSC-MN</td>\n",
       "    </tr>\n",
       "    <tr>\n",
       "      <th>7</th>\n",
       "      <td>iPSC</td>\n",
       "      <td>isoform1=junction:chr10:101163392-101165512:-|...</td>\n",
       "      <td>included</td>\n",
       "      <td>NPC</td>\n",
       "      <td>included</td>\n",
       "      <td>iPSC-NPC</td>\n",
       "    </tr>\n",
       "    <tr>\n",
       "      <th>15</th>\n",
       "      <td>iPSC</td>\n",
       "      <td>isoform1=junction:chr10:101476219-101480743:-|...</td>\n",
       "      <td>included</td>\n",
       "      <td>MN</td>\n",
       "      <td>bimodal</td>\n",
       "      <td>iPSC-MN</td>\n",
       "    </tr>\n",
       "    <tr>\n",
       "      <th>16</th>\n",
       "      <td>iPSC</td>\n",
       "      <td>isoform1=junction:chr10:101476219-101480743:-|...</td>\n",
       "      <td>included</td>\n",
       "      <td>NPC</td>\n",
       "      <td>bimodal</td>\n",
       "      <td>iPSC-NPC</td>\n",
       "    </tr>\n",
       "    <tr>\n",
       "      <th>24</th>\n",
       "      <td>iPSC</td>\n",
       "      <td>isoform1=junction:chr10:102114390-102120490:+|...</td>\n",
       "      <td>included</td>\n",
       "      <td>MN</td>\n",
       "      <td>included</td>\n",
       "      <td>iPSC-MN</td>\n",
       "    </tr>\n",
       "  </tbody>\n",
       "</table>\n",
       "</div>"
      ],
      "text/plain": [
       "   phenotype_x                                           event_id modality_x  \\\n",
       "6         iPSC  isoform1=junction:chr10:101163392-101165512:-|...   included   \n",
       "7         iPSC  isoform1=junction:chr10:101163392-101165512:-|...   included   \n",
       "15        iPSC  isoform1=junction:chr10:101476219-101480743:-|...   included   \n",
       "16        iPSC  isoform1=junction:chr10:101476219-101480743:-|...   included   \n",
       "24        iPSC  isoform1=junction:chr10:102114390-102120490:+|...   included   \n",
       "\n",
       "   phenotype_y modality_y transition  \n",
       "6           MN   included    iPSC-MN  \n",
       "7          NPC   included   iPSC-NPC  \n",
       "15          MN    bimodal    iPSC-MN  \n",
       "16         NPC    bimodal   iPSC-NPC  \n",
       "24          MN   included    iPSC-MN  "
      ]
     },
     "execution_count": 19,
     "metadata": {},
     "output_type": "execute_result"
    }
   ],
   "source": [
    "modality_transitions_subset.head()"
   ]
  },
  {
   "cell_type": "code",
   "execution_count": 20,
   "metadata": {
    "collapsed": false
   },
   "outputs": [
    {
     "name": "stdout",
     "output_type": "stream",
     "text": [
      "872\n"
     ]
    },
    {
     "data": {
      "text/plain": [
       "transition\n",
       "iPSC-NPC    603\n",
       "iPSC-MN     269\n",
       "dtype: int64"
      ]
     },
     "execution_count": 20,
     "metadata": {},
     "output_type": "execute_result"
    }
   ],
   "source": [
    "bimodal_x = modality_transitions_subset['modality_x'] == 'bimodal'\n",
    "bimodal_y = modality_transitions_subset['modality_y'] == 'bimodal'\n",
    "\n",
    "print((bimodal_x & bimodal_y).sum())\n",
    "\n",
    "bimodal_bimodal = modality_transitions_subset.loc[bimodal_x & bimodal_y]\n",
    "bimodal_bimodal.groupby('transition').size()"
   ]
  },
  {
   "cell_type": "code",
   "execution_count": 21,
   "metadata": {
    "collapsed": false
   },
   "outputs": [
    {
     "data": {
      "text/plain": [
       "transition\n",
       "iPSC-NPC    1532\n",
       "iPSC-MN     1059\n",
       "Name: Switching Modality, dtype: int64"
      ]
     },
     "execution_count": 21,
     "metadata": {},
     "output_type": "execute_result"
    }
   ],
   "source": [
    "same_modality = modality_transitions_subset.groupby('transition').apply(lambda x: (x['modality_y'] == x['modality_x']).sum())\n",
    "same_modality.name = 'Same Modality'\n",
    "changing_modality = modality_transitions_subset.groupby('transition').apply(lambda x: (x['modality_y'] != x['modality_x']).sum())\n",
    "changing_modality.name = 'Switching Modality'\n",
    "changing_modality"
   ]
  },
  {
   "cell_type": "code",
   "execution_count": 22,
   "metadata": {
    "collapsed": false
   },
   "outputs": [
    {
     "data": {
      "text/html": [
       "<div>\n",
       "<table border=\"1\" class=\"dataframe\">\n",
       "  <thead>\n",
       "    <tr style=\"text-align: right;\">\n",
       "      <th></th>\n",
       "      <th>Modality</th>\n",
       "      <th>transition</th>\n",
       "      <th># AS Exons</th>\n",
       "      <th>% AS Exons</th>\n",
       "    </tr>\n",
       "  </thead>\n",
       "  <tbody>\n",
       "    <tr>\n",
       "      <th>0</th>\n",
       "      <td>Switching Modality</td>\n",
       "      <td>iPSC-NPC</td>\n",
       "      <td>1532</td>\n",
       "      <td>17.623375</td>\n",
       "    </tr>\n",
       "    <tr>\n",
       "      <th>1</th>\n",
       "      <td>Switching Modality</td>\n",
       "      <td>iPSC-MN</td>\n",
       "      <td>1059</td>\n",
       "      <td>17.940030</td>\n",
       "    </tr>\n",
       "    <tr>\n",
       "      <th>2</th>\n",
       "      <td>Same Modality</td>\n",
       "      <td>iPSC-NPC</td>\n",
       "      <td>7161</td>\n",
       "      <td>82.376625</td>\n",
       "    </tr>\n",
       "    <tr>\n",
       "      <th>3</th>\n",
       "      <td>Same Modality</td>\n",
       "      <td>iPSC-MN</td>\n",
       "      <td>4844</td>\n",
       "      <td>82.059970</td>\n",
       "    </tr>\n",
       "  </tbody>\n",
       "</table>\n",
       "</div>"
      ],
      "text/plain": [
       "             Modality transition  # AS Exons  % AS Exons\n",
       "0  Switching Modality   iPSC-NPC        1532   17.623375\n",
       "1  Switching Modality    iPSC-MN        1059   17.940030\n",
       "2       Same Modality   iPSC-NPC        7161   82.376625\n",
       "3       Same Modality    iPSC-MN        4844   82.059970"
      ]
     },
     "execution_count": 22,
     "metadata": {},
     "output_type": "execute_result"
    }
   ],
   "source": [
    "n_modality_changes = pd.concat([changing_modality, same_modality], axis=1).unstack()\n",
    "n_modality_changes = n_modality_changes.reset_index()\n",
    "n_modality_changes = n_modality_changes.rename(columns={'level_0': \"Modality\", 0:'# AS Exons'})\n",
    "n_modality_changes['% AS Exons'] = 100 * n_modality_changes.groupby('transition')['# AS Exons'].apply(lambda x: x/x.sum())\n",
    "n_modality_changes"
   ]
  },
  {
   "cell_type": "code",
   "execution_count": 23,
   "metadata": {
    "collapsed": false
   },
   "outputs": [
    {
     "data": {
      "text/plain": [
       "transition  Modality          \n",
       "iPSC-NPC    Switching Modality    17.623375\n",
       "iPSC-MN     Switching Modality    17.940030\n",
       "iPSC-NPC    Same Modality         82.376625\n",
       "iPSC-MN     Same Modality         82.059970\n",
       "Name: % AS Exons, dtype: float64"
      ]
     },
     "execution_count": 23,
     "metadata": {},
     "output_type": "execute_result"
    }
   ],
   "source": [
    "percent_exons_change_modalities = n_modality_changes.set_index(['transition', 'Modality'])['% AS Exons']\n",
    "percent_exons_change_modalities"
   ]
  },
  {
   "cell_type": "code",
   "execution_count": 24,
   "metadata": {
    "collapsed": false
   },
   "outputs": [
    {
     "data": {
      "text/plain": [
       "transition  Modality          \n",
       "iPSC-NPC    Switching Modality     17.623375\n",
       "iPSC-MN     Switching Modality     17.940030\n",
       "iPSC-NPC    Same Modality         100.000000\n",
       "iPSC-MN     Same Modality         100.000000\n",
       "Name: % AS Exons, dtype: float64"
      ]
     },
     "execution_count": 24,
     "metadata": {},
     "output_type": "execute_result"
    }
   ],
   "source": [
    "cumulative_sum = percent_exons_change_modalities.groupby(level='transition').cumsum()\n",
    "cumulative_sum"
   ]
  },
  {
   "cell_type": "code",
   "execution_count": 25,
   "metadata": {
    "collapsed": false
   },
   "outputs": [
    {
     "data": {
      "text/plain": [
       "transition  Modality          \n",
       "iPSC-NPC    Switching Modality     0.000000\n",
       "iPSC-MN     Switching Modality     0.000000\n",
       "iPSC-NPC    Same Modality         17.623375\n",
       "iPSC-MN     Same Modality         17.940030\n",
       "Name: % AS Exons, dtype: float64"
      ]
     },
     "execution_count": 25,
     "metadata": {},
     "output_type": "execute_result"
    }
   ],
   "source": [
    "bottoms = cumulative_sum - percent_exons_change_modalities\n",
    "bottoms"
   ]
  },
  {
   "cell_type": "markdown",
   "metadata": {},
   "source": [
    "### plot the percent of events that change or don't change modality"
   ]
  },
  {
   "cell_type": "code",
   "execution_count": 26,
   "metadata": {
    "collapsed": false
   },
   "outputs": [
    {
     "name": "stdout",
     "output_type": "stream",
     "text": [
      "Same Modality\n",
      "Switching Modality\n"
     ]
    },
    {
     "data": {
      "image/png": "[encoded data removed]",
      "text/plain": [
       "<matplotlib.figure.Figure at 0x2b3743480250>"
      ]
     },
     "metadata": {},
     "output_type": "display_data"
    }
   ],
   "source": [
    "idx = pd.IndexSlice\n",
    "\n",
    "sns.set(style='ticks', context='paper')\n",
    "fig, ax = plt.subplots(figsize=(1.75, 1.5))\n",
    "palette = ['white', 'grey'] #sns.color_palette('Greys', n_colors=2)\n",
    "width = 0.6\n",
    "\n",
    "for i, (delta_modality, s) in enumerate(percent_exons_change_modalities.groupby(level=1)):\n",
    "    six.print_(delta_modality)\n",
    "    color = palette[i]\n",
    "    x = np.arange(s.shape[0])+0.1\n",
    "\n",
    "    bottom = bottoms.loc[idx[:, delta_modality]]\n",
    "    ax.bar(x, s, bottom=bottom, label=delta_modality, color=color, edgecolor='#262626', linewidth=1, width=width)\n",
    "ax.set(xticks=x + 0.3, xticklabels=bottoms.index.levels[0])\n",
    "ax.legend()\n",
    "sns.despine()\n",
    "fig.tight_layout()\n",
    "fig.savefig('{}/n_exons_change_modalities_barplot_stacked.pdf'.format(folder))\n"
   ]
  },
  {
   "cell_type": "markdown",
   "metadata": {},
   "source": [
    "## Get just iPSC, MN modalities"
   ]
  },
  {
   "cell_type": "code",
   "execution_count": 27,
   "metadata": {
    "collapsed": false
   },
   "outputs": [
    {
     "data": {
      "text/html": [
       "<div>\n",
       "<table border=\"1\" class=\"dataframe\">\n",
       "  <thead>\n",
       "    <tr style=\"text-align: right;\">\n",
       "      <th></th>\n",
       "      <th>phenotype_x</th>\n",
       "      <th>event_id</th>\n",
       "      <th>modality_x</th>\n",
       "      <th>phenotype_y</th>\n",
       "      <th>modality_y</th>\n",
       "      <th>transition</th>\n",
       "    </tr>\n",
       "  </thead>\n",
       "  <tbody>\n",
       "    <tr>\n",
       "      <th>6</th>\n",
       "      <td>iPSC</td>\n",
       "      <td>isoform1=junction:chr10:101163392-101165512:-|...</td>\n",
       "      <td>included</td>\n",
       "      <td>MN</td>\n",
       "      <td>included</td>\n",
       "      <td>iPSC-MN</td>\n",
       "    </tr>\n",
       "    <tr>\n",
       "      <th>15</th>\n",
       "      <td>iPSC</td>\n",
       "      <td>isoform1=junction:chr10:101476219-101480743:-|...</td>\n",
       "      <td>included</td>\n",
       "      <td>MN</td>\n",
       "      <td>bimodal</td>\n",
       "      <td>iPSC-MN</td>\n",
       "    </tr>\n",
       "    <tr>\n",
       "      <th>24</th>\n",
       "      <td>iPSC</td>\n",
       "      <td>isoform1=junction:chr10:102114390-102120490:+|...</td>\n",
       "      <td>included</td>\n",
       "      <td>MN</td>\n",
       "      <td>included</td>\n",
       "      <td>iPSC-MN</td>\n",
       "    </tr>\n",
       "    <tr>\n",
       "      <th>33</th>\n",
       "      <td>iPSC</td>\n",
       "      <td>isoform1=junction:chr10:102283687-102286731:-|...</td>\n",
       "      <td>included</td>\n",
       "      <td>MN</td>\n",
       "      <td>included</td>\n",
       "      <td>iPSC-MN</td>\n",
       "    </tr>\n",
       "    <tr>\n",
       "      <th>42</th>\n",
       "      <td>iPSC</td>\n",
       "      <td>isoform1=junction:chr10:102746733-102747069:-|...</td>\n",
       "      <td>included</td>\n",
       "      <td>MN</td>\n",
       "      <td>bimodal</td>\n",
       "      <td>iPSC-MN</td>\n",
       "    </tr>\n",
       "  </tbody>\n",
       "</table>\n",
       "</div>"
      ],
      "text/plain": [
       "   phenotype_x                                           event_id modality_x  \\\n",
       "6         iPSC  isoform1=junction:chr10:101163392-101165512:-|...   included   \n",
       "15        iPSC  isoform1=junction:chr10:101476219-101480743:-|...   included   \n",
       "24        iPSC  isoform1=junction:chr10:102114390-102120490:+|...   included   \n",
       "33        iPSC  isoform1=junction:chr10:102283687-102286731:-|...   included   \n",
       "42        iPSC  isoform1=junction:chr10:102746733-102747069:-|...   included   \n",
       "\n",
       "   phenotype_y modality_y transition  \n",
       "6           MN   included    iPSC-MN  \n",
       "15          MN    bimodal    iPSC-MN  \n",
       "24          MN   included    iPSC-MN  \n",
       "33          MN   included    iPSC-MN  \n",
       "42          MN    bimodal    iPSC-MN  "
      ]
     },
     "execution_count": 27,
     "metadata": {},
     "output_type": "execute_result"
    }
   ],
   "source": [
    "rows = (modality_transitions.phenotype_x == 'iPSC') & (modality_transitions.phenotype_y == 'MN')\n",
    "ipsc_mn_modalities = modality_transitions.loc[rows]\n",
    "ipsc_mn_modalities.head()"
   ]
  },
  {
   "cell_type": "code",
   "execution_count": 28,
   "metadata": {
    "collapsed": false
   },
   "outputs": [
    {
     "data": {
      "text/plain": [
       "modality_x     modality_y   \n",
       "bimodal        bimodal           269\n",
       "               excluded          147\n",
       "               included          154\n",
       "               uncategorized       1\n",
       "excluded       bimodal           243\n",
       "               excluded         1836\n",
       "               included            8\n",
       "               uncategorized       3\n",
       "included       bimodal           458\n",
       "               excluded            1\n",
       "               included         2737\n",
       "               uncategorized       1\n",
       "middle         included            1\n",
       "uncategorized  bimodal            35\n",
       "               excluded            5\n",
       "               included            2\n",
       "               uncategorized       2\n",
       "dtype: int64"
      ]
     },
     "execution_count": 28,
     "metadata": {},
     "output_type": "execute_result"
    }
   ],
   "source": [
    "ipsc_mn_modality_count = ipsc_mn_modalities.groupby(['modality_x', 'modality_y']).size()\n",
    "ipsc_mn_modality_count"
   ]
  },
  {
   "cell_type": "markdown",
   "metadata": {},
   "source": [
    "## Randomly permute events and see if they switch or stay the same"
   ]
  },
  {
   "cell_type": "code",
   "execution_count": 29,
   "metadata": {
    "collapsed": true
   },
   "outputs": [],
   "source": [
    "cols = ['modality_x', 'modality_y']"
   ]
  },
  {
   "cell_type": "code",
   "execution_count": 30,
   "metadata": {
    "collapsed": false
   },
   "outputs": [
    {
     "name": "stdout",
     "output_type": "stream",
     "text": [
      "(1560, 5)\n"
     ]
    },
    {
     "data": {
      "text/html": [
       "<div>\n",
       "<table border=\"1\" class=\"dataframe\">\n",
       "  <thead>\n",
       "    <tr style=\"text-align: right;\">\n",
       "      <th></th>\n",
       "      <th>modality_x</th>\n",
       "      <th>modality_y</th>\n",
       "      <th>Number of events</th>\n",
       "      <th>Percentage of events</th>\n",
       "      <th>iteration</th>\n",
       "    </tr>\n",
       "  </thead>\n",
       "  <tbody>\n",
       "    <tr>\n",
       "      <th>0</th>\n",
       "      <td>bimodal</td>\n",
       "      <td>bimodal</td>\n",
       "      <td>97</td>\n",
       "      <td>1.643232</td>\n",
       "      <td>0</td>\n",
       "    </tr>\n",
       "    <tr>\n",
       "      <th>1</th>\n",
       "      <td>bimodal</td>\n",
       "      <td>excluded</td>\n",
       "      <td>203</td>\n",
       "      <td>3.438929</td>\n",
       "      <td>0</td>\n",
       "    </tr>\n",
       "    <tr>\n",
       "      <th>2</th>\n",
       "      <td>bimodal</td>\n",
       "      <td>included</td>\n",
       "      <td>270</td>\n",
       "      <td>4.573945</td>\n",
       "      <td>0</td>\n",
       "    </tr>\n",
       "    <tr>\n",
       "      <th>3</th>\n",
       "      <td>bimodal</td>\n",
       "      <td>uncategorized</td>\n",
       "      <td>1</td>\n",
       "      <td>0.016941</td>\n",
       "      <td>0</td>\n",
       "    </tr>\n",
       "    <tr>\n",
       "      <th>4</th>\n",
       "      <td>excluded</td>\n",
       "      <td>bimodal</td>\n",
       "      <td>335</td>\n",
       "      <td>5.675080</td>\n",
       "      <td>0</td>\n",
       "    </tr>\n",
       "  </tbody>\n",
       "</table>\n",
       "</div>"
      ],
      "text/plain": [
       "  modality_x     modality_y  Number of events  Percentage of events  iteration\n",
       "0    bimodal        bimodal                97              1.643232          0\n",
       "1    bimodal       excluded               203              3.438929          0\n",
       "2    bimodal       included               270              4.573945          0\n",
       "3    bimodal  uncategorized                 1              0.016941          0\n",
       "4   excluded        bimodal               335              5.675080          0"
      ]
     },
     "execution_count": 30,
     "metadata": {},
     "output_type": "execute_result"
    }
   ],
   "source": [
    "dfs = []\n",
    "\n",
    "for i in range(100):\n",
    "    modality_x_permuted = pd.Series(np.random.permutation(ipsc_mn_modalities['modality_x']), \n",
    "                                    index=ipsc_mn_modalities['modality_y'].index, name='modality_x')\n",
    "\n",
    "    two_modalities = pd.concat([modality_x_permuted, ipsc_mn_modalities['modality_y']], axis=1)\n",
    "#     print(two_modalities.shape)\n",
    "#     two_modalities.head()\n",
    "    sizes = two_modalities.groupby(cols).size().reset_index()\n",
    "    sizes = sizes.rename(columns={0: 'Number of events'})\n",
    "    sizes['Percentage of events'] = 100*sizes['Number of events']/ipsc_mn_modalities.shape[0]\n",
    "    sizes['iteration'] = i\n",
    "    dfs.append(sizes)\n",
    "permuted_changing_modalities = pd.concat(dfs, ignore_index=True)\n",
    "print(permuted_changing_modalities.shape)\n",
    "permuted_changing_modalities.head()"
   ]
  },
  {
   "cell_type": "code",
   "execution_count": 31,
   "metadata": {
    "collapsed": true
   },
   "outputs": [],
   "source": [
    "def add_switching_columns(df):\n",
    "    df['Modality change'] = 'Same modality'\n",
    "    \n",
    "    changing = df['modality_x'] != df['modality_y']\n",
    "    df.loc[changing, 'Modality change'] = 'Switching modality'\n"
   ]
  },
  {
   "cell_type": "code",
   "execution_count": 32,
   "metadata": {
    "collapsed": false
   },
   "outputs": [
    {
     "data": {
      "text/html": [
       "<div>\n",
       "<table border=\"1\" class=\"dataframe\">\n",
       "  <thead>\n",
       "    <tr style=\"text-align: right;\">\n",
       "      <th></th>\n",
       "      <th>modality_x</th>\n",
       "      <th>modality_y</th>\n",
       "      <th>Number of events</th>\n",
       "      <th>Percentage of events</th>\n",
       "      <th>iteration</th>\n",
       "      <th>Modality change</th>\n",
       "    </tr>\n",
       "  </thead>\n",
       "  <tbody>\n",
       "    <tr>\n",
       "      <th>0</th>\n",
       "      <td>bimodal</td>\n",
       "      <td>bimodal</td>\n",
       "      <td>97</td>\n",
       "      <td>1.643232</td>\n",
       "      <td>0</td>\n",
       "      <td>Same modality</td>\n",
       "    </tr>\n",
       "    <tr>\n",
       "      <th>1</th>\n",
       "      <td>bimodal</td>\n",
       "      <td>excluded</td>\n",
       "      <td>203</td>\n",
       "      <td>3.438929</td>\n",
       "      <td>0</td>\n",
       "      <td>Switching modality</td>\n",
       "    </tr>\n",
       "    <tr>\n",
       "      <th>2</th>\n",
       "      <td>bimodal</td>\n",
       "      <td>included</td>\n",
       "      <td>270</td>\n",
       "      <td>4.573945</td>\n",
       "      <td>0</td>\n",
       "      <td>Switching modality</td>\n",
       "    </tr>\n",
       "    <tr>\n",
       "      <th>3</th>\n",
       "      <td>bimodal</td>\n",
       "      <td>uncategorized</td>\n",
       "      <td>1</td>\n",
       "      <td>0.016941</td>\n",
       "      <td>0</td>\n",
       "      <td>Switching modality</td>\n",
       "    </tr>\n",
       "    <tr>\n",
       "      <th>4</th>\n",
       "      <td>excluded</td>\n",
       "      <td>bimodal</td>\n",
       "      <td>335</td>\n",
       "      <td>5.675080</td>\n",
       "      <td>0</td>\n",
       "      <td>Switching modality</td>\n",
       "    </tr>\n",
       "  </tbody>\n",
       "</table>\n",
       "</div>"
      ],
      "text/plain": [
       "  modality_x     modality_y  Number of events  Percentage of events  \\\n",
       "0    bimodal        bimodal                97              1.643232   \n",
       "1    bimodal       excluded               203              3.438929   \n",
       "2    bimodal       included               270              4.573945   \n",
       "3    bimodal  uncategorized                 1              0.016941   \n",
       "4   excluded        bimodal               335              5.675080   \n",
       "\n",
       "   iteration     Modality change  \n",
       "0          0       Same modality  \n",
       "1          0  Switching modality  \n",
       "2          0  Switching modality  \n",
       "3          0  Switching modality  \n",
       "4          0  Switching modality  "
      ]
     },
     "execution_count": 32,
     "metadata": {},
     "output_type": "execute_result"
    }
   ],
   "source": [
    "add_switching_columns(permuted_changing_modalities)\n",
    "permuted_changing_modalities.head()"
   ]
  },
  {
   "cell_type": "code",
   "execution_count": 33,
   "metadata": {
    "collapsed": false
   },
   "outputs": [
    {
     "data": {
      "text/plain": [
       "Modality change\n",
       "Same modality         12.906838\n",
       "Switching modality     4.792613\n",
       "Name: Percentage of events, dtype: float64"
      ]
     },
     "execution_count": 33,
     "metadata": {},
     "output_type": "execute_result"
    }
   ],
   "source": [
    "permuted_changing_modalities.groupby('Modality change')['Percentage of events'].mean()"
   ]
  },
  {
   "cell_type": "code",
   "execution_count": 34,
   "metadata": {
    "collapsed": false
   },
   "outputs": [
    {
     "data": {
      "text/plain": [
       "<matplotlib.axes._subplots.AxesSubplot at 0x2b3722d61990>"
      ]
     },
     "execution_count": 34,
     "metadata": {},
     "output_type": "execute_result"
    },
    {
     "data": {
      "image/png": "[encoded data removed]",
      "text/plain": [
       "<matplotlib.figure.Figure at 0x2b3722078dd0>"
      ]
     },
     "metadata": {},
     "output_type": "display_data"
    }
   ],
   "source": [
    "sns.barplot(y='Percentage of events', x='Modality change', data=permuted_changing_modalities)"
   ]
  },
  {
   "cell_type": "markdown",
   "metadata": {},
   "source": [
    "## Heatmaps"
   ]
  },
  {
   "cell_type": "code",
   "execution_count": 35,
   "metadata": {
    "collapsed": false
   },
   "outputs": [
    {
     "data": {
      "text/html": [
       "<div>\n",
       "<table border=\"1\" class=\"dataframe\">\n",
       "  <thead>\n",
       "    <tr style=\"text-align: right;\">\n",
       "      <th>modality_y</th>\n",
       "      <th>bimodal</th>\n",
       "      <th>excluded</th>\n",
       "      <th>included</th>\n",
       "      <th>uncategorized</th>\n",
       "    </tr>\n",
       "    <tr>\n",
       "      <th>modality_x</th>\n",
       "      <th></th>\n",
       "      <th></th>\n",
       "      <th></th>\n",
       "      <th></th>\n",
       "    </tr>\n",
       "  </thead>\n",
       "  <tbody>\n",
       "    <tr>\n",
       "      <th>bimodal</th>\n",
       "      <td>269.0</td>\n",
       "      <td>147.0</td>\n",
       "      <td>154.0</td>\n",
       "      <td>1.0</td>\n",
       "    </tr>\n",
       "    <tr>\n",
       "      <th>excluded</th>\n",
       "      <td>243.0</td>\n",
       "      <td>1836.0</td>\n",
       "      <td>8.0</td>\n",
       "      <td>3.0</td>\n",
       "    </tr>\n",
       "    <tr>\n",
       "      <th>included</th>\n",
       "      <td>458.0</td>\n",
       "      <td>1.0</td>\n",
       "      <td>2737.0</td>\n",
       "      <td>1.0</td>\n",
       "    </tr>\n",
       "    <tr>\n",
       "      <th>middle</th>\n",
       "      <td>NaN</td>\n",
       "      <td>NaN</td>\n",
       "      <td>1.0</td>\n",
       "      <td>NaN</td>\n",
       "    </tr>\n",
       "    <tr>\n",
       "      <th>uncategorized</th>\n",
       "      <td>35.0</td>\n",
       "      <td>5.0</td>\n",
       "      <td>2.0</td>\n",
       "      <td>2.0</td>\n",
       "    </tr>\n",
       "  </tbody>\n",
       "</table>\n",
       "</div>"
      ],
      "text/plain": [
       "modality_y     bimodal  excluded  included  uncategorized\n",
       "modality_x                                               \n",
       "bimodal          269.0     147.0     154.0            1.0\n",
       "excluded         243.0    1836.0       8.0            3.0\n",
       "included         458.0       1.0    2737.0            1.0\n",
       "middle             NaN       NaN       1.0            NaN\n",
       "uncategorized     35.0       5.0       2.0            2.0"
      ]
     },
     "execution_count": 35,
     "metadata": {},
     "output_type": "execute_result"
    }
   ],
   "source": [
    "\n",
    "ipsc_mn_modality_2d = ipsc_mn_modality_count.unstack()\n",
    "ipsc_mn_modality_2d.head()"
   ]
  },
  {
   "cell_type": "code",
   "execution_count": 36,
   "metadata": {
    "collapsed": false
   },
   "outputs": [
    {
     "data": {
      "text/html": [
       "<div>\n",
       "<table border=\"1\" class=\"dataframe\">\n",
       "  <thead>\n",
       "    <tr style=\"text-align: right;\">\n",
       "      <th>MN</th>\n",
       "      <th>bimodal</th>\n",
       "      <th>excluded</th>\n",
       "      <th>included</th>\n",
       "      <th>uncategorized</th>\n",
       "    </tr>\n",
       "    <tr>\n",
       "      <th>iPSC</th>\n",
       "      <th></th>\n",
       "      <th></th>\n",
       "      <th></th>\n",
       "      <th></th>\n",
       "    </tr>\n",
       "  </thead>\n",
       "  <tbody>\n",
       "    <tr>\n",
       "      <th>bimodal</th>\n",
       "      <td>269.0</td>\n",
       "      <td>147.0</td>\n",
       "      <td>154.0</td>\n",
       "      <td>1.0</td>\n",
       "    </tr>\n",
       "    <tr>\n",
       "      <th>excluded</th>\n",
       "      <td>243.0</td>\n",
       "      <td>1836.0</td>\n",
       "      <td>8.0</td>\n",
       "      <td>3.0</td>\n",
       "    </tr>\n",
       "    <tr>\n",
       "      <th>included</th>\n",
       "      <td>458.0</td>\n",
       "      <td>1.0</td>\n",
       "      <td>2737.0</td>\n",
       "      <td>1.0</td>\n",
       "    </tr>\n",
       "    <tr>\n",
       "      <th>middle</th>\n",
       "      <td>NaN</td>\n",
       "      <td>NaN</td>\n",
       "      <td>1.0</td>\n",
       "      <td>NaN</td>\n",
       "    </tr>\n",
       "    <tr>\n",
       "      <th>uncategorized</th>\n",
       "      <td>35.0</td>\n",
       "      <td>5.0</td>\n",
       "      <td>2.0</td>\n",
       "      <td>2.0</td>\n",
       "    </tr>\n",
       "  </tbody>\n",
       "</table>\n",
       "</div>"
      ],
      "text/plain": [
       "MN             bimodal  excluded  included  uncategorized\n",
       "iPSC                                                     \n",
       "bimodal          269.0     147.0     154.0            1.0\n",
       "excluded         243.0    1836.0       8.0            3.0\n",
       "included         458.0       1.0    2737.0            1.0\n",
       "middle             NaN       NaN       1.0            NaN\n",
       "uncategorized     35.0       5.0       2.0            2.0"
      ]
     },
     "execution_count": 36,
     "metadata": {},
     "output_type": "execute_result"
    }
   ],
   "source": [
    "ipsc_mn_modality_2d.index.name = 'iPSC'\n",
    "ipsc_mn_modality_2d.columns.name = 'MN'\n",
    "ipsc_mn_modality_2d.head()"
   ]
  },
  {
   "cell_type": "code",
   "execution_count": 37,
   "metadata": {
    "collapsed": true
   },
   "outputs": [],
   "source": [
    "from anchor import MODALITY_ORDER"
   ]
  },
  {
   "cell_type": "code",
   "execution_count": 38,
   "metadata": {
    "collapsed": false
   },
   "outputs": [
    {
     "data": {
      "text/html": [
       "<div>\n",
       "<table border=\"1\" class=\"dataframe\">\n",
       "  <thead>\n",
       "    <tr style=\"text-align: right;\">\n",
       "      <th>MN</th>\n",
       "      <th>excluded</th>\n",
       "      <th>bimodal</th>\n",
       "      <th>included</th>\n",
       "      <th>middle</th>\n",
       "      <th>uncategorized</th>\n",
       "    </tr>\n",
       "    <tr>\n",
       "      <th>iPSC</th>\n",
       "      <th></th>\n",
       "      <th></th>\n",
       "      <th></th>\n",
       "      <th></th>\n",
       "      <th></th>\n",
       "    </tr>\n",
       "  </thead>\n",
       "  <tbody>\n",
       "    <tr>\n",
       "      <th>excluded</th>\n",
       "      <td>1836.0</td>\n",
       "      <td>243.0</td>\n",
       "      <td>8.0</td>\n",
       "      <td>NaN</td>\n",
       "      <td>3.0</td>\n",
       "    </tr>\n",
       "    <tr>\n",
       "      <th>bimodal</th>\n",
       "      <td>147.0</td>\n",
       "      <td>269.0</td>\n",
       "      <td>154.0</td>\n",
       "      <td>NaN</td>\n",
       "      <td>1.0</td>\n",
       "    </tr>\n",
       "    <tr>\n",
       "      <th>included</th>\n",
       "      <td>1.0</td>\n",
       "      <td>458.0</td>\n",
       "      <td>2737.0</td>\n",
       "      <td>NaN</td>\n",
       "      <td>1.0</td>\n",
       "    </tr>\n",
       "    <tr>\n",
       "      <th>middle</th>\n",
       "      <td>NaN</td>\n",
       "      <td>NaN</td>\n",
       "      <td>1.0</td>\n",
       "      <td>NaN</td>\n",
       "      <td>NaN</td>\n",
       "    </tr>\n",
       "    <tr>\n",
       "      <th>uncategorized</th>\n",
       "      <td>5.0</td>\n",
       "      <td>35.0</td>\n",
       "      <td>2.0</td>\n",
       "      <td>NaN</td>\n",
       "      <td>2.0</td>\n",
       "    </tr>\n",
       "  </tbody>\n",
       "</table>\n",
       "</div>"
      ],
      "text/plain": [
       "MN             excluded  bimodal  included  middle  uncategorized\n",
       "iPSC                                                             \n",
       "excluded         1836.0    243.0       8.0     NaN            3.0\n",
       "bimodal           147.0    269.0     154.0     NaN            1.0\n",
       "included            1.0    458.0    2737.0     NaN            1.0\n",
       "middle              NaN      NaN       1.0     NaN            NaN\n",
       "uncategorized       5.0     35.0       2.0     NaN            2.0"
      ]
     },
     "execution_count": 38,
     "metadata": {},
     "output_type": "execute_result"
    }
   ],
   "source": [
    "ipsc_mn_modality_2d = ipsc_mn_modality_2d.reindex(index=MODALITY_ORDER, columns=MODALITY_ORDER)\n",
    "ipsc_mn_modality_2d"
   ]
  },
  {
   "cell_type": "code",
   "execution_count": 39,
   "metadata": {
    "collapsed": true
   },
   "outputs": [],
   "source": [
    "sns.set(style='ticks', context='paper')"
   ]
  },
  {
   "cell_type": "markdown",
   "metadata": {},
   "source": [
    "### Get percentages for comparison - use % of events in both"
   ]
  },
  {
   "cell_type": "code",
   "execution_count": 40,
   "metadata": {
    "collapsed": false
   },
   "outputs": [
    {
     "data": {
      "text/html": [
       "<div>\n",
       "<table border=\"1\" class=\"dataframe\">\n",
       "  <thead>\n",
       "    <tr style=\"text-align: right;\">\n",
       "      <th>MN</th>\n",
       "      <th>excluded</th>\n",
       "      <th>bimodal</th>\n",
       "      <th>included</th>\n",
       "      <th>middle</th>\n",
       "      <th>uncategorized</th>\n",
       "    </tr>\n",
       "    <tr>\n",
       "      <th>iPSC</th>\n",
       "      <th></th>\n",
       "      <th></th>\n",
       "      <th></th>\n",
       "      <th></th>\n",
       "      <th></th>\n",
       "    </tr>\n",
       "  </thead>\n",
       "  <tbody>\n",
       "    <tr>\n",
       "      <th>excluded</th>\n",
       "      <td>87.846890</td>\n",
       "      <td>11.626794</td>\n",
       "      <td>0.382775</td>\n",
       "      <td>NaN</td>\n",
       "      <td>0.143541</td>\n",
       "    </tr>\n",
       "    <tr>\n",
       "      <th>bimodal</th>\n",
       "      <td>25.744308</td>\n",
       "      <td>47.110333</td>\n",
       "      <td>26.970228</td>\n",
       "      <td>NaN</td>\n",
       "      <td>0.175131</td>\n",
       "    </tr>\n",
       "    <tr>\n",
       "      <th>included</th>\n",
       "      <td>0.031279</td>\n",
       "      <td>14.325931</td>\n",
       "      <td>85.611511</td>\n",
       "      <td>NaN</td>\n",
       "      <td>0.031279</td>\n",
       "    </tr>\n",
       "    <tr>\n",
       "      <th>middle</th>\n",
       "      <td>NaN</td>\n",
       "      <td>NaN</td>\n",
       "      <td>100.000000</td>\n",
       "      <td>NaN</td>\n",
       "      <td>NaN</td>\n",
       "    </tr>\n",
       "    <tr>\n",
       "      <th>uncategorized</th>\n",
       "      <td>11.363636</td>\n",
       "      <td>79.545455</td>\n",
       "      <td>4.545455</td>\n",
       "      <td>NaN</td>\n",
       "      <td>4.545455</td>\n",
       "    </tr>\n",
       "  </tbody>\n",
       "</table>\n",
       "</div>"
      ],
      "text/plain": [
       "MN              excluded    bimodal    included  middle  uncategorized\n",
       "iPSC                                                                  \n",
       "excluded       87.846890  11.626794    0.382775     NaN       0.143541\n",
       "bimodal        25.744308  47.110333   26.970228     NaN       0.175131\n",
       "included        0.031279  14.325931   85.611511     NaN       0.031279\n",
       "middle               NaN        NaN  100.000000     NaN            NaN\n",
       "uncategorized  11.363636  79.545455    4.545455     NaN       4.545455"
      ]
     },
     "execution_count": 40,
     "metadata": {},
     "output_type": "execute_result"
    }
   ],
   "source": [
    "percentages = 100*ipsc_mn_modality_2d.divide(ipsc_mn_modality_2d.sum(axis=1), axis=0)\n",
    "percentages"
   ]
  },
  {
   "cell_type": "code",
   "execution_count": 41,
   "metadata": {
    "collapsed": false
   },
   "outputs": [
    {
     "data": {
      "image/png": "[encoded data removed]",
      "text/plain": [
       "<matplotlib.figure.Figure at 0x2b371aef2c90>"
      ]
     },
     "metadata": {},
     "output_type": "display_data"
    }
   ],
   "source": [
    "import colorsys\n",
    "\n",
    "fig, ax = plt.subplots(figsize=(2.5, 2))\n",
    "sns.heatmap(percentages, cbar_kws=dict(label='% AS exons in both iPSC in NPC'))#, annot=True, fmt='.1f')\n",
    "\n",
    "# fig.axes[-1].yaxis.locator_params()\n",
    "\n",
    "raw = ipsc_mn_modality_2d.ix[::-1]\n",
    "\n",
    "mesh = ax.collections[0]\n",
    "\n",
    "fmt = 'g'\n",
    "\n",
    "mesh.update_scalarmappable()\n",
    "xpos, ypos = np.meshgrid(ax.get_xticks(), ax.get_yticks())\n",
    "for x, y, percentage, val, color in zip(xpos.flat, ypos.flat, \n",
    "                            mesh.get_array(), raw.values.flat, mesh.get_facecolors()):\n",
    "#     print val\n",
    "    if percentage is not np.ma.masked:\n",
    "        _, l, _ = colorsys.rgb_to_hls(*color[:3])\n",
    "        text_color = \".15\" if l > .5 else \"w\"\n",
    "        val = (\"{:\" + fmt + \"}\").format(val)\n",
    "        text_kwargs = dict(color=text_color, ha=\"center\", va=\"center\")\n",
    "#         text_kwargs.update(self.annot_kws)\n",
    "        ax.text(x, y, val, **text_kwargs)\n",
    "    else:\n",
    "        text_kwargs = dict(color='.15', ha=\"center\", va=\"center\")\n",
    "        ax.text(x, y, 0, **text_kwargs)\n",
    "ax.set(xticks=[], yticks=[])\n",
    "fig.tight_layout()\n",
    "fig.savefig('{}/ipsc_to_mn_modality_heatmap.pdf'.format(folder))"
   ]
  },
  {
   "cell_type": "markdown",
   "metadata": {},
   "source": [
    "### iPSC-NPC $\\Delta$ modality heatmap"
   ]
  },
  {
   "cell_type": "code",
   "execution_count": 42,
   "metadata": {
    "collapsed": false
   },
   "outputs": [
    {
     "data": {
      "text/html": [
       "<div>\n",
       "<table border=\"1\" class=\"dataframe\">\n",
       "  <thead>\n",
       "    <tr style=\"text-align: right;\">\n",
       "      <th></th>\n",
       "      <th>phenotype_x</th>\n",
       "      <th>event_id</th>\n",
       "      <th>modality_x</th>\n",
       "      <th>phenotype_y</th>\n",
       "      <th>modality_y</th>\n",
       "      <th>transition</th>\n",
       "    </tr>\n",
       "  </thead>\n",
       "  <tbody>\n",
       "    <tr>\n",
       "      <th>7</th>\n",
       "      <td>iPSC</td>\n",
       "      <td>isoform1=junction:chr10:101163392-101165512:-|...</td>\n",
       "      <td>included</td>\n",
       "      <td>NPC</td>\n",
       "      <td>included</td>\n",
       "      <td>iPSC-NPC</td>\n",
       "    </tr>\n",
       "    <tr>\n",
       "      <th>16</th>\n",
       "      <td>iPSC</td>\n",
       "      <td>isoform1=junction:chr10:101476219-101480743:-|...</td>\n",
       "      <td>included</td>\n",
       "      <td>NPC</td>\n",
       "      <td>bimodal</td>\n",
       "      <td>iPSC-NPC</td>\n",
       "    </tr>\n",
       "    <tr>\n",
       "      <th>25</th>\n",
       "      <td>iPSC</td>\n",
       "      <td>isoform1=junction:chr10:102114390-102120490:+|...</td>\n",
       "      <td>included</td>\n",
       "      <td>NPC</td>\n",
       "      <td>included</td>\n",
       "      <td>iPSC-NPC</td>\n",
       "    </tr>\n",
       "    <tr>\n",
       "      <th>34</th>\n",
       "      <td>iPSC</td>\n",
       "      <td>isoform1=junction:chr10:102283687-102286731:-|...</td>\n",
       "      <td>included</td>\n",
       "      <td>NPC</td>\n",
       "      <td>included</td>\n",
       "      <td>iPSC-NPC</td>\n",
       "    </tr>\n",
       "    <tr>\n",
       "      <th>43</th>\n",
       "      <td>iPSC</td>\n",
       "      <td>isoform1=junction:chr10:102746733-102747069:-|...</td>\n",
       "      <td>included</td>\n",
       "      <td>NPC</td>\n",
       "      <td>included</td>\n",
       "      <td>iPSC-NPC</td>\n",
       "    </tr>\n",
       "  </tbody>\n",
       "</table>\n",
       "</div>"
      ],
      "text/plain": [
       "   phenotype_x                                           event_id modality_x  \\\n",
       "7         iPSC  isoform1=junction:chr10:101163392-101165512:-|...   included   \n",
       "16        iPSC  isoform1=junction:chr10:101476219-101480743:-|...   included   \n",
       "25        iPSC  isoform1=junction:chr10:102114390-102120490:+|...   included   \n",
       "34        iPSC  isoform1=junction:chr10:102283687-102286731:-|...   included   \n",
       "43        iPSC  isoform1=junction:chr10:102746733-102747069:-|...   included   \n",
       "\n",
       "   phenotype_y modality_y transition  \n",
       "7          NPC   included   iPSC-NPC  \n",
       "16         NPC    bimodal   iPSC-NPC  \n",
       "25         NPC   included   iPSC-NPC  \n",
       "34         NPC   included   iPSC-NPC  \n",
       "43         NPC   included   iPSC-NPC  "
      ]
     },
     "execution_count": 42,
     "metadata": {},
     "output_type": "execute_result"
    }
   ],
   "source": [
    "rows = (modality_transitions.phenotype_x == 'iPSC') & (modality_transitions.phenotype_y == 'NPC')\n",
    "ipsc_npc_modalities = modality_transitions.loc[rows]\n",
    "ipsc_npc_modalities.head()"
   ]
  },
  {
   "cell_type": "code",
   "execution_count": 43,
   "metadata": {
    "collapsed": false
   },
   "outputs": [
    {
     "data": {
      "text/html": [
       "<div>\n",
       "<table border=\"1\" class=\"dataframe\">\n",
       "  <thead>\n",
       "    <tr style=\"text-align: right;\">\n",
       "      <th>NPC</th>\n",
       "      <th>excluded</th>\n",
       "      <th>bimodal</th>\n",
       "      <th>included</th>\n",
       "      <th>middle</th>\n",
       "      <th>uncategorized</th>\n",
       "    </tr>\n",
       "    <tr>\n",
       "      <th>iPSC</th>\n",
       "      <th></th>\n",
       "      <th></th>\n",
       "      <th></th>\n",
       "      <th></th>\n",
       "      <th></th>\n",
       "    </tr>\n",
       "  </thead>\n",
       "  <tbody>\n",
       "    <tr>\n",
       "      <th>excluded</th>\n",
       "      <td>88.150996</td>\n",
       "      <td>11.814051</td>\n",
       "      <td>NaN</td>\n",
       "      <td>NaN</td>\n",
       "      <td>0.034953</td>\n",
       "    </tr>\n",
       "    <tr>\n",
       "      <th>bimodal</th>\n",
       "      <td>21.512151</td>\n",
       "      <td>54.275428</td>\n",
       "      <td>24.032403</td>\n",
       "      <td>NaN</td>\n",
       "      <td>0.180018</td>\n",
       "    </tr>\n",
       "    <tr>\n",
       "      <th>included</th>\n",
       "      <td>0.021418</td>\n",
       "      <td>13.643178</td>\n",
       "      <td>86.271150</td>\n",
       "      <td>NaN</td>\n",
       "      <td>0.064254</td>\n",
       "    </tr>\n",
       "    <tr>\n",
       "      <th>middle</th>\n",
       "      <td>NaN</td>\n",
       "      <td>NaN</td>\n",
       "      <td>100.000000</td>\n",
       "      <td>NaN</td>\n",
       "      <td>NaN</td>\n",
       "    </tr>\n",
       "    <tr>\n",
       "      <th>uncategorized</th>\n",
       "      <td>5.882353</td>\n",
       "      <td>74.509804</td>\n",
       "      <td>3.921569</td>\n",
       "      <td>NaN</td>\n",
       "      <td>15.686275</td>\n",
       "    </tr>\n",
       "  </tbody>\n",
       "</table>\n",
       "</div>"
      ],
      "text/plain": [
       "NPC             excluded    bimodal    included  middle  uncategorized\n",
       "iPSC                                                                  \n",
       "excluded       88.150996  11.814051         NaN     NaN       0.034953\n",
       "bimodal        21.512151  54.275428   24.032403     NaN       0.180018\n",
       "included        0.021418  13.643178   86.271150     NaN       0.064254\n",
       "middle               NaN        NaN  100.000000     NaN            NaN\n",
       "uncategorized   5.882353  74.509804    3.921569     NaN      15.686275"
      ]
     },
     "execution_count": 43,
     "metadata": {},
     "output_type": "execute_result"
    }
   ],
   "source": [
    "ipsc_npc_modality_count = ipsc_npc_modalities.groupby(['modality_x', 'modality_y']).size()\n",
    "ipsc_npc_modality_2d = ipsc_npc_modality_count.unstack()\n",
    "ipsc_npc_modality_2d.index.name = 'iPSC'\n",
    "ipsc_npc_modality_2d.columns.name = 'NPC'\n",
    "ipsc_npc_modality_2d = ipsc_npc_modality_2d.reindex(index=MODALITY_ORDER, columns=MODALITY_ORDER)\n",
    "ipsc_npc_percentages = 100*ipsc_npc_modality_2d.divide(ipsc_npc_modality_2d.sum(axis=1), axis=0)\n",
    "ipsc_npc_percentages"
   ]
  },
  {
   "cell_type": "code",
   "execution_count": 44,
   "metadata": {
    "collapsed": false
   },
   "outputs": [
    {
     "data": {
      "image/png": "[encoded data removed]",
      "text/plain": [
       "<matplotlib.figure.Figure at 0x2b371aec3890>"
      ]
     },
     "metadata": {},
     "output_type": "display_data"
    }
   ],
   "source": [
    "import colorsys\n",
    "\n",
    "fig, ax = plt.subplots(figsize=(2.5, 2))\n",
    "sns.heatmap(ipsc_npc_percentages, cbar_kws=dict(label='% AS exons in both iPSC and NPC'))#, annot=True, fmt='.1f')\n",
    "\n",
    "# fig.axes[-1].yaxis.locator_params()\n",
    "\n",
    "raw = ipsc_npc_modality_2d.ix[::-1]\n",
    "\n",
    "mesh = ax.collections[0]\n",
    "\n",
    "fmt = 'g'\n",
    "\n",
    "mesh.update_scalarmappable()\n",
    "xpos, ypos = np.meshgrid(ax.get_xticks(), ax.get_yticks())\n",
    "for x, y, percentage, val, color in zip(xpos.flat, ypos.flat, \n",
    "                            mesh.get_array(), raw.values.flat, mesh.get_facecolors()):\n",
    "#     print val\n",
    "    if percentage is not np.ma.masked:\n",
    "        _, l, _ = colorsys.rgb_to_hls(*color[:3])\n",
    "        text_color = \".15\" if l > .5 else \"w\"\n",
    "        val = (\"{:\" + fmt + \"}\").format(val)\n",
    "        text_kwargs = dict(color=text_color, ha=\"center\", va=\"center\")\n",
    "#         text_kwargs.update(self.annot_kws)\n",
    "        ax.text(x, y, val, **text_kwargs)\n",
    "    else:\n",
    "        text_kwargs = dict(color='.15', ha=\"center\", va=\"center\")\n",
    "        ax.text(x, y, 0, **text_kwargs)\n",
    "ax.set(xticks=[], yticks=[])\n",
    "fig.tight_layout()\n",
    "fig.savefig('{}/ipsc_to_npc_modality_heatmap.pdf'.format(folder))"
   ]
  },
  {
   "cell_type": "markdown",
   "metadata": {},
   "source": [
    "## Statistical enrichment of motif changes"
   ]
  },
  {
   "cell_type": "code",
   "execution_count": 45,
   "metadata": {
    "collapsed": false
   },
   "outputs": [],
   "source": [
    "transitions = [(u'iPSC', u'NPC'), (u'iPSC', u'MN')]"
   ]
  },
  {
   "cell_type": "code",
   "execution_count": 46,
   "metadata": {
    "collapsed": false
   },
   "outputs": [
    {
     "name": "stdout",
     "output_type": "stream",
     "text": [
      "Object `hypergeom` not found.\n"
     ]
    }
   ],
   "source": [
    "hypergeom?"
   ]
  },
  {
   "cell_type": "code",
   "execution_count": 47,
   "metadata": {
    "collapsed": true
   },
   "outputs": [],
   "source": [
    "from scipy.stats import hypergeom"
   ]
  },
  {
   "cell_type": "code",
   "execution_count": 48,
   "metadata": {
    "collapsed": false
   },
   "outputs": [
    {
     "data": {
      "text/html": [
       "<div>\n",
       "<table border=\"1\" class=\"dataframe\">\n",
       "  <thead>\n",
       "    <tr style=\"text-align: right;\">\n",
       "      <th></th>\n",
       "      <th>phenotype1</th>\n",
       "      <th>modality1</th>\n",
       "      <th>phenotype2</th>\n",
       "      <th>modality2</th>\n",
       "      <th>$-\\log_{10}(p)$</th>\n",
       "      <th>$-\\log_{10}(q)$</th>\n",
       "    </tr>\n",
       "  </thead>\n",
       "  <tbody>\n",
       "    <tr>\n",
       "      <th>0</th>\n",
       "      <td>iPSC</td>\n",
       "      <td>excluded</td>\n",
       "      <td>NPC</td>\n",
       "      <td>excluded</td>\n",
       "      <td>3.393263e+03</td>\n",
       "      <td>3391.744038</td>\n",
       "    </tr>\n",
       "    <tr>\n",
       "      <th>1</th>\n",
       "      <td>iPSC</td>\n",
       "      <td>excluded</td>\n",
       "      <td>NPC</td>\n",
       "      <td>bimodal</td>\n",
       "      <td>6.386003e-13</td>\n",
       "      <td>-1.518514</td>\n",
       "    </tr>\n",
       "    <tr>\n",
       "      <th>2</th>\n",
       "      <td>iPSC</td>\n",
       "      <td>excluded</td>\n",
       "      <td>NPC</td>\n",
       "      <td>uncategorized</td>\n",
       "      <td>2.978496e-02</td>\n",
       "      <td>-1.488729</td>\n",
       "    </tr>\n",
       "    <tr>\n",
       "      <th>3</th>\n",
       "      <td>iPSC</td>\n",
       "      <td>bimodal</td>\n",
       "      <td>NPC</td>\n",
       "      <td>excluded</td>\n",
       "      <td>-5.342393e-13</td>\n",
       "      <td>-1.518514</td>\n",
       "    </tr>\n",
       "    <tr>\n",
       "      <th>4</th>\n",
       "      <td>iPSC</td>\n",
       "      <td>bimodal</td>\n",
       "      <td>NPC</td>\n",
       "      <td>bimodal</td>\n",
       "      <td>4.328236e+02</td>\n",
       "      <td>431.305126</td>\n",
       "    </tr>\n",
       "    <tr>\n",
       "      <th>5</th>\n",
       "      <td>iPSC</td>\n",
       "      <td>bimodal</td>\n",
       "      <td>NPC</td>\n",
       "      <td>included</td>\n",
       "      <td>2.339462e-12</td>\n",
       "      <td>-1.518514</td>\n",
       "    </tr>\n",
       "    <tr>\n",
       "      <th>6</th>\n",
       "      <td>iPSC</td>\n",
       "      <td>bimodal</td>\n",
       "      <td>NPC</td>\n",
       "      <td>uncategorized</td>\n",
       "      <td>1.339539e+00</td>\n",
       "      <td>-0.178975</td>\n",
       "    </tr>\n",
       "    <tr>\n",
       "      <th>7</th>\n",
       "      <td>iPSC</td>\n",
       "      <td>included</td>\n",
       "      <td>NPC</td>\n",
       "      <td>excluded</td>\n",
       "      <td>2.581491e-12</td>\n",
       "      <td>-1.518514</td>\n",
       "    </tr>\n",
       "    <tr>\n",
       "      <th>8</th>\n",
       "      <td>iPSC</td>\n",
       "      <td>included</td>\n",
       "      <td>NPC</td>\n",
       "      <td>bimodal</td>\n",
       "      <td>-3.482992e-12</td>\n",
       "      <td>-1.518514</td>\n",
       "    </tr>\n",
       "    <tr>\n",
       "      <th>9</th>\n",
       "      <td>iPSC</td>\n",
       "      <td>included</td>\n",
       "      <td>NPC</td>\n",
       "      <td>included</td>\n",
       "      <td>3.174630e+03</td>\n",
       "      <td>3173.111135</td>\n",
       "    </tr>\n",
       "    <tr>\n",
       "      <th>10</th>\n",
       "      <td>iPSC</td>\n",
       "      <td>included</td>\n",
       "      <td>NPC</td>\n",
       "      <td>uncategorized</td>\n",
       "      <td>1.473588e-02</td>\n",
       "      <td>-1.503778</td>\n",
       "    </tr>\n",
       "    <tr>\n",
       "      <th>11</th>\n",
       "      <td>iPSC</td>\n",
       "      <td>middle</td>\n",
       "      <td>NPC</td>\n",
       "      <td>included</td>\n",
       "      <td>inf</td>\n",
       "      <td>inf</td>\n",
       "    </tr>\n",
       "    <tr>\n",
       "      <th>12</th>\n",
       "      <td>iPSC</td>\n",
       "      <td>uncategorized</td>\n",
       "      <td>NPC</td>\n",
       "      <td>excluded</td>\n",
       "      <td>7.650801e-06</td>\n",
       "      <td>-1.518506</td>\n",
       "    </tr>\n",
       "    <tr>\n",
       "      <th>13</th>\n",
       "      <td>iPSC</td>\n",
       "      <td>uncategorized</td>\n",
       "      <td>NPC</td>\n",
       "      <td>bimodal</td>\n",
       "      <td>4.255324e+01</td>\n",
       "      <td>41.034724</td>\n",
       "    </tr>\n",
       "    <tr>\n",
       "      <th>14</th>\n",
       "      <td>iPSC</td>\n",
       "      <td>uncategorized</td>\n",
       "      <td>NPC</td>\n",
       "      <td>included</td>\n",
       "      <td>6.437961e-12</td>\n",
       "      <td>-1.518514</td>\n",
       "    </tr>\n",
       "    <tr>\n",
       "      <th>15</th>\n",
       "      <td>iPSC</td>\n",
       "      <td>uncategorized</td>\n",
       "      <td>NPC</td>\n",
       "      <td>uncategorized</td>\n",
       "      <td>3.941052e+01</td>\n",
       "      <td>37.892005</td>\n",
       "    </tr>\n",
       "    <tr>\n",
       "      <th>16</th>\n",
       "      <td>iPSC</td>\n",
       "      <td>excluded</td>\n",
       "      <td>MN</td>\n",
       "      <td>excluded</td>\n",
       "      <td>2.364510e+03</td>\n",
       "      <td>2362.991018</td>\n",
       "    </tr>\n",
       "    <tr>\n",
       "      <th>17</th>\n",
       "      <td>iPSC</td>\n",
       "      <td>excluded</td>\n",
       "      <td>MN</td>\n",
       "      <td>bimodal</td>\n",
       "      <td>-2.505551e-12</td>\n",
       "      <td>-1.518514</td>\n",
       "    </tr>\n",
       "    <tr>\n",
       "      <th>18</th>\n",
       "      <td>iPSC</td>\n",
       "      <td>excluded</td>\n",
       "      <td>MN</td>\n",
       "      <td>included</td>\n",
       "      <td>4.315659e-12</td>\n",
       "      <td>-1.518514</td>\n",
       "    </tr>\n",
       "    <tr>\n",
       "      <th>19</th>\n",
       "      <td>iPSC</td>\n",
       "      <td>excluded</td>\n",
       "      <td>MN</td>\n",
       "      <td>uncategorized</td>\n",
       "      <td>1.577634e+00</td>\n",
       "      <td>0.059120</td>\n",
       "    </tr>\n",
       "    <tr>\n",
       "      <th>20</th>\n",
       "      <td>iPSC</td>\n",
       "      <td>bimodal</td>\n",
       "      <td>MN</td>\n",
       "      <td>excluded</td>\n",
       "      <td>1.008561e-05</td>\n",
       "      <td>-1.518504</td>\n",
       "    </tr>\n",
       "    <tr>\n",
       "      <th>21</th>\n",
       "      <td>iPSC</td>\n",
       "      <td>bimodal</td>\n",
       "      <td>MN</td>\n",
       "      <td>bimodal</td>\n",
       "      <td>1.632559e+02</td>\n",
       "      <td>161.737379</td>\n",
       "    </tr>\n",
       "    <tr>\n",
       "      <th>22</th>\n",
       "      <td>iPSC</td>\n",
       "      <td>bimodal</td>\n",
       "      <td>MN</td>\n",
       "      <td>included</td>\n",
       "      <td>4.631850e-13</td>\n",
       "      <td>-1.518514</td>\n",
       "    </tr>\n",
       "    <tr>\n",
       "      <th>23</th>\n",
       "      <td>iPSC</td>\n",
       "      <td>bimodal</td>\n",
       "      <td>MN</td>\n",
       "      <td>uncategorized</td>\n",
       "      <td>1.955039e+00</td>\n",
       "      <td>0.436525</td>\n",
       "    </tr>\n",
       "    <tr>\n",
       "      <th>24</th>\n",
       "      <td>iPSC</td>\n",
       "      <td>included</td>\n",
       "      <td>MN</td>\n",
       "      <td>excluded</td>\n",
       "      <td>5.341949e-12</td>\n",
       "      <td>-1.518514</td>\n",
       "    </tr>\n",
       "    <tr>\n",
       "      <th>25</th>\n",
       "      <td>iPSC</td>\n",
       "      <td>included</td>\n",
       "      <td>MN</td>\n",
       "      <td>bimodal</td>\n",
       "      <td>1.315822e-09</td>\n",
       "      <td>-1.518514</td>\n",
       "    </tr>\n",
       "    <tr>\n",
       "      <th>26</th>\n",
       "      <td>iPSC</td>\n",
       "      <td>included</td>\n",
       "      <td>MN</td>\n",
       "      <td>included</td>\n",
       "      <td>2.159675e+03</td>\n",
       "      <td>2158.156689</td>\n",
       "    </tr>\n",
       "    <tr>\n",
       "      <th>27</th>\n",
       "      <td>iPSC</td>\n",
       "      <td>included</td>\n",
       "      <td>MN</td>\n",
       "      <td>uncategorized</td>\n",
       "      <td>4.014130e-02</td>\n",
       "      <td>-1.478373</td>\n",
       "    </tr>\n",
       "    <tr>\n",
       "      <th>28</th>\n",
       "      <td>iPSC</td>\n",
       "      <td>middle</td>\n",
       "      <td>MN</td>\n",
       "      <td>included</td>\n",
       "      <td>inf</td>\n",
       "      <td>inf</td>\n",
       "    </tr>\n",
       "    <tr>\n",
       "      <th>29</th>\n",
       "      <td>iPSC</td>\n",
       "      <td>uncategorized</td>\n",
       "      <td>MN</td>\n",
       "      <td>excluded</td>\n",
       "      <td>6.491867e-04</td>\n",
       "      <td>-1.517865</td>\n",
       "    </tr>\n",
       "    <tr>\n",
       "      <th>30</th>\n",
       "      <td>iPSC</td>\n",
       "      <td>uncategorized</td>\n",
       "      <td>MN</td>\n",
       "      <td>bimodal</td>\n",
       "      <td>4.667309e+01</td>\n",
       "      <td>45.154575</td>\n",
       "    </tr>\n",
       "    <tr>\n",
       "      <th>31</th>\n",
       "      <td>iPSC</td>\n",
       "      <td>uncategorized</td>\n",
       "      <td>MN</td>\n",
       "      <td>included</td>\n",
       "      <td>9.289680e-11</td>\n",
       "      <td>-1.518514</td>\n",
       "    </tr>\n",
       "    <tr>\n",
       "      <th>32</th>\n",
       "      <td>iPSC</td>\n",
       "      <td>uncategorized</td>\n",
       "      <td>MN</td>\n",
       "      <td>uncategorized</td>\n",
       "      <td>1.123163e+01</td>\n",
       "      <td>9.713114</td>\n",
       "    </tr>\n",
       "  </tbody>\n",
       "</table>\n",
       "</div>"
      ],
      "text/plain": [
       "   phenotype1      modality1 phenotype2      modality2  $-\\log_{10}(p)$  \\\n",
       "0        iPSC       excluded        NPC       excluded     3.393263e+03   \n",
       "1        iPSC       excluded        NPC        bimodal     6.386003e-13   \n",
       "2        iPSC       excluded        NPC  uncategorized     2.978496e-02   \n",
       "3        iPSC        bimodal        NPC       excluded    -5.342393e-13   \n",
       "4        iPSC        bimodal        NPC        bimodal     4.328236e+02   \n",
       "5        iPSC        bimodal        NPC       included     2.339462e-12   \n",
       "6        iPSC        bimodal        NPC  uncategorized     1.339539e+00   \n",
       "7        iPSC       included        NPC       excluded     2.581491e-12   \n",
       "8        iPSC       included        NPC        bimodal    -3.482992e-12   \n",
       "9        iPSC       included        NPC       included     3.174630e+03   \n",
       "10       iPSC       included        NPC  uncategorized     1.473588e-02   \n",
       "11       iPSC         middle        NPC       included              inf   \n",
       "12       iPSC  uncategorized        NPC       excluded     7.650801e-06   \n",
       "13       iPSC  uncategorized        NPC        bimodal     4.255324e+01   \n",
       "14       iPSC  uncategorized        NPC       included     6.437961e-12   \n",
       "15       iPSC  uncategorized        NPC  uncategorized     3.941052e+01   \n",
       "16       iPSC       excluded         MN       excluded     2.364510e+03   \n",
       "17       iPSC       excluded         MN        bimodal    -2.505551e-12   \n",
       "18       iPSC       excluded         MN       included     4.315659e-12   \n",
       "19       iPSC       excluded         MN  uncategorized     1.577634e+00   \n",
       "20       iPSC        bimodal         MN       excluded     1.008561e-05   \n",
       "21       iPSC        bimodal         MN        bimodal     1.632559e+02   \n",
       "22       iPSC        bimodal         MN       included     4.631850e-13   \n",
       "23       iPSC        bimodal         MN  uncategorized     1.955039e+00   \n",
       "24       iPSC       included         MN       excluded     5.341949e-12   \n",
       "25       iPSC       included         MN        bimodal     1.315822e-09   \n",
       "26       iPSC       included         MN       included     2.159675e+03   \n",
       "27       iPSC       included         MN  uncategorized     4.014130e-02   \n",
       "28       iPSC         middle         MN       included              inf   \n",
       "29       iPSC  uncategorized         MN       excluded     6.491867e-04   \n",
       "30       iPSC  uncategorized         MN        bimodal     4.667309e+01   \n",
       "31       iPSC  uncategorized         MN       included     9.289680e-11   \n",
       "32       iPSC  uncategorized         MN  uncategorized     1.123163e+01   \n",
       "\n",
       "    $-\\log_{10}(q)$  \n",
       "0       3391.744038  \n",
       "1         -1.518514  \n",
       "2         -1.488729  \n",
       "3         -1.518514  \n",
       "4        431.305126  \n",
       "5         -1.518514  \n",
       "6         -0.178975  \n",
       "7         -1.518514  \n",
       "8         -1.518514  \n",
       "9       3173.111135  \n",
       "10        -1.503778  \n",
       "11              inf  \n",
       "12        -1.518506  \n",
       "13        41.034724  \n",
       "14        -1.518514  \n",
       "15        37.892005  \n",
       "16      2362.991018  \n",
       "17        -1.518514  \n",
       "18        -1.518514  \n",
       "19         0.059120  \n",
       "20        -1.518504  \n",
       "21       161.737379  \n",
       "22        -1.518514  \n",
       "23         0.436525  \n",
       "24        -1.518514  \n",
       "25        -1.518514  \n",
       "26      2158.156689  \n",
       "27        -1.478373  \n",
       "28              inf  \n",
       "29        -1.517865  \n",
       "30        45.154575  \n",
       "31        -1.518514  \n",
       "32         9.713114  "
      ]
     },
     "execution_count": 48,
     "metadata": {},
     "output_type": "execute_result"
    }
   ],
   "source": [
    "import itertools\n",
    "\n",
    "lines = []\n",
    "\n",
    "for phenotype1, phenotype2 in transitions:\n",
    "    modality_subset = modality_transitions.query('(phenotype_x == @phenotype1) & (phenotype_y == @phenotype2)')\n",
    "#     six.print_(phenotype1, phenotype2, modality_subset.shape)\n",
    "    M = len(modality_subset['event_id'].unique())\n",
    "    \n",
    "    for modality1, modality2 in itertools.product(MODALITY_ORDER, repeat=2):\n",
    "#         six.print_('\\t', modality1, modality2)\n",
    "        df1 = modality_subset.query('(phenotype_x == @phenotype1) & (modality_x == @modality1)')\n",
    "        df2 = modality_subset.query('(phenotype_y == @phenotype2) & (modality_y == @modality2)')\n",
    "        \n",
    "        n = df1.shape[0]\n",
    "        N = df2.shape[0]\n",
    "        x = len(set(df1['event_id']) & set(df2['event_id']))\n",
    "#         six.print_('\\t\\t', x, M, n, N)\n",
    "        if x > 0:\n",
    "            result = -hypergeom.logsf(x, M, n, N)\n",
    "#             six.print_('\\t\\t\\t', result)\n",
    "            lines.append([phenotype1, modality1, phenotype2, modality2, result])\n",
    "enrichment = pd.DataFrame(lines, columns=['phenotype1', 'modality1', 'phenotype2', 'modality2', '$-\\log_{10}(p)$'])\n",
    "enrichment['$-\\log_{10}(q)$'] = enrichment['$-\\log_{10}(p)$'] - np.log10(enrichment.shape[0])\n",
    "enrichment"
   ]
  },
  {
   "cell_type": "code",
   "execution_count": 49,
   "metadata": {
    "collapsed": false
   },
   "outputs": [],
   "source": [
    "enrichment_2d = enrichment.pivot_table(index=['phenotype1', 'modality1'], \n",
    "                                       columns=['phenotype2', 'modality2'], \n",
    "                                       values='$-\\log_{10}(q)$')"
   ]
  },
  {
   "cell_type": "code",
   "execution_count": 50,
   "metadata": {
    "collapsed": false
   },
   "outputs": [
    {
     "data": {
      "text/html": [
       "<div>\n",
       "<table border=\"1\" class=\"dataframe\">\n",
       "  <thead>\n",
       "    <tr>\n",
       "      <th></th>\n",
       "      <th></th>\n",
       "      <th colspan=\"5\" halign=\"left\">NPC</th>\n",
       "      <th colspan=\"5\" halign=\"left\">MN</th>\n",
       "    </tr>\n",
       "    <tr>\n",
       "      <th></th>\n",
       "      <th></th>\n",
       "      <th>excluded</th>\n",
       "      <th>bimodal</th>\n",
       "      <th>included</th>\n",
       "      <th>middle</th>\n",
       "      <th>uncategorized</th>\n",
       "      <th>excluded</th>\n",
       "      <th>bimodal</th>\n",
       "      <th>included</th>\n",
       "      <th>middle</th>\n",
       "      <th>uncategorized</th>\n",
       "    </tr>\n",
       "  </thead>\n",
       "  <tbody>\n",
       "    <tr>\n",
       "      <th rowspan=\"5\" valign=\"top\">iPSC</th>\n",
       "      <th>excluded</th>\n",
       "      <td>3391.744038</td>\n",
       "      <td>-1.518514</td>\n",
       "      <td>NaN</td>\n",
       "      <td>NaN</td>\n",
       "      <td>-1.488729</td>\n",
       "      <td>2362.991018</td>\n",
       "      <td>-1.518514</td>\n",
       "      <td>-1.518514</td>\n",
       "      <td>NaN</td>\n",
       "      <td>0.059120</td>\n",
       "    </tr>\n",
       "    <tr>\n",
       "      <th>bimodal</th>\n",
       "      <td>-1.518514</td>\n",
       "      <td>431.305126</td>\n",
       "      <td>-1.518514</td>\n",
       "      <td>NaN</td>\n",
       "      <td>-0.178975</td>\n",
       "      <td>-1.518504</td>\n",
       "      <td>161.737379</td>\n",
       "      <td>-1.518514</td>\n",
       "      <td>NaN</td>\n",
       "      <td>0.436525</td>\n",
       "    </tr>\n",
       "    <tr>\n",
       "      <th>included</th>\n",
       "      <td>-1.518514</td>\n",
       "      <td>-1.518514</td>\n",
       "      <td>3173.111135</td>\n",
       "      <td>NaN</td>\n",
       "      <td>-1.503778</td>\n",
       "      <td>-1.518514</td>\n",
       "      <td>-1.518514</td>\n",
       "      <td>2158.156689</td>\n",
       "      <td>NaN</td>\n",
       "      <td>-1.478373</td>\n",
       "    </tr>\n",
       "    <tr>\n",
       "      <th>middle</th>\n",
       "      <td>NaN</td>\n",
       "      <td>NaN</td>\n",
       "      <td>inf</td>\n",
       "      <td>NaN</td>\n",
       "      <td>NaN</td>\n",
       "      <td>NaN</td>\n",
       "      <td>NaN</td>\n",
       "      <td>inf</td>\n",
       "      <td>NaN</td>\n",
       "      <td>NaN</td>\n",
       "    </tr>\n",
       "    <tr>\n",
       "      <th>uncategorized</th>\n",
       "      <td>-1.518506</td>\n",
       "      <td>41.034724</td>\n",
       "      <td>-1.518514</td>\n",
       "      <td>NaN</td>\n",
       "      <td>37.892005</td>\n",
       "      <td>-1.517865</td>\n",
       "      <td>45.154575</td>\n",
       "      <td>-1.518514</td>\n",
       "      <td>NaN</td>\n",
       "      <td>9.713114</td>\n",
       "    </tr>\n",
       "  </tbody>\n",
       "</table>\n",
       "</div>"
      ],
      "text/plain": [
       "                            NPC                                                \\\n",
       "                       excluded     bimodal     included middle uncategorized   \n",
       "iPSC excluded       3391.744038   -1.518514          NaN    NaN     -1.488729   \n",
       "     bimodal          -1.518514  431.305126    -1.518514    NaN     -0.178975   \n",
       "     included         -1.518514   -1.518514  3173.111135    NaN     -1.503778   \n",
       "     middle                 NaN         NaN          inf    NaN           NaN   \n",
       "     uncategorized    -1.518506   41.034724    -1.518514    NaN     37.892005   \n",
       "\n",
       "                             MN                                                \n",
       "                       excluded     bimodal     included middle uncategorized  \n",
       "iPSC excluded       2362.991018   -1.518514    -1.518514    NaN      0.059120  \n",
       "     bimodal          -1.518504  161.737379    -1.518514    NaN      0.436525  \n",
       "     included         -1.518514   -1.518514  2158.156689    NaN     -1.478373  \n",
       "     middle                 NaN         NaN          inf    NaN           NaN  \n",
       "     uncategorized    -1.517865   45.154575    -1.518514    NaN      9.713114  "
      ]
     },
     "execution_count": 50,
     "metadata": {},
     "output_type": "execute_result"
    }
   ],
   "source": [
    "columns = pd.MultiIndex.from_product([['NPC', 'MN'], MODALITY_ORDER])\n",
    "index = pd.MultiIndex.from_product([['iPSC'], MODALITY_ORDER])\n",
    "\n",
    "enrichment_2d = enrichment_2d.reindex(columns=columns, index=index)\n",
    "enrichment_2d"
   ]
  },
  {
   "cell_type": "code",
   "execution_count": 51,
   "metadata": {
    "collapsed": false
   },
   "outputs": [
    {
     "data": {
      "image/png": "[encoded data removed]",
      "text/plain": [
       "<matplotlib.figure.Figure at 0x2b371aef21d0>"
      ]
     },
     "metadata": {},
     "output_type": "display_data"
    }
   ],
   "source": [
    "fig, ax = plt.subplots(figsize=(4, 1.75))\n",
    "sns.heatmap(enrichment_2d, mask=enrichment_2d < 0, vmin=0, vmax=2000, annot=True)\n",
    "\n",
    "ymin, ymax = ax.get_ylim()\n",
    "ax.vlines(5, ymin, ymax)\n",
    "ax.set(xticks=[], yticks=[], ylabel='iPSC', xlabel='')\n",
    "fig.tight_layout()"
   ]
  },
  {
   "cell_type": "markdown",
   "metadata": {
    "collapsed": false
   },
   "source": [
    "## Barplot of changes to/from bimodal"
   ]
  },
  {
   "cell_type": "code",
   "execution_count": 52,
   "metadata": {
    "collapsed": false
   },
   "outputs": [
    {
     "data": {
      "text/html": [
       "<div>\n",
       "<table border=\"1\" class=\"dataframe\">\n",
       "  <thead>\n",
       "    <tr style=\"text-align: right;\">\n",
       "      <th></th>\n",
       "      <th>phenotype_x</th>\n",
       "      <th>event_id</th>\n",
       "      <th>modality_x</th>\n",
       "      <th>phenotype_y</th>\n",
       "      <th>modality_y</th>\n",
       "      <th>transition</th>\n",
       "    </tr>\n",
       "  </thead>\n",
       "  <tbody>\n",
       "    <tr>\n",
       "      <th>0</th>\n",
       "      <td>MN</td>\n",
       "      <td>isoform1=junction:chr10:101163392-101165512:-|...</td>\n",
       "      <td>included</td>\n",
       "      <td>MN</td>\n",
       "      <td>included</td>\n",
       "      <td>MN-MN</td>\n",
       "    </tr>\n",
       "    <tr>\n",
       "      <th>1</th>\n",
       "      <td>MN</td>\n",
       "      <td>isoform1=junction:chr10:101163392-101165512:-|...</td>\n",
       "      <td>included</td>\n",
       "      <td>NPC</td>\n",
       "      <td>included</td>\n",
       "      <td>MN-NPC</td>\n",
       "    </tr>\n",
       "    <tr>\n",
       "      <th>2</th>\n",
       "      <td>MN</td>\n",
       "      <td>isoform1=junction:chr10:101163392-101165512:-|...</td>\n",
       "      <td>included</td>\n",
       "      <td>iPSC</td>\n",
       "      <td>included</td>\n",
       "      <td>MN-iPSC</td>\n",
       "    </tr>\n",
       "    <tr>\n",
       "      <th>3</th>\n",
       "      <td>NPC</td>\n",
       "      <td>isoform1=junction:chr10:101163392-101165512:-|...</td>\n",
       "      <td>included</td>\n",
       "      <td>MN</td>\n",
       "      <td>included</td>\n",
       "      <td>NPC-MN</td>\n",
       "    </tr>\n",
       "    <tr>\n",
       "      <th>4</th>\n",
       "      <td>NPC</td>\n",
       "      <td>isoform1=junction:chr10:101163392-101165512:-|...</td>\n",
       "      <td>included</td>\n",
       "      <td>NPC</td>\n",
       "      <td>included</td>\n",
       "      <td>NPC-NPC</td>\n",
       "    </tr>\n",
       "  </tbody>\n",
       "</table>\n",
       "</div>"
      ],
      "text/plain": [
       "  phenotype_x                                           event_id modality_x  \\\n",
       "0          MN  isoform1=junction:chr10:101163392-101165512:-|...   included   \n",
       "1          MN  isoform1=junction:chr10:101163392-101165512:-|...   included   \n",
       "2          MN  isoform1=junction:chr10:101163392-101165512:-|...   included   \n",
       "3         NPC  isoform1=junction:chr10:101163392-101165512:-|...   included   \n",
       "4         NPC  isoform1=junction:chr10:101163392-101165512:-|...   included   \n",
       "\n",
       "  phenotype_y modality_y transition  \n",
       "0          MN   included      MN-MN  \n",
       "1         NPC   included     MN-NPC  \n",
       "2        iPSC   included    MN-iPSC  \n",
       "3          MN   included     NPC-MN  \n",
       "4         NPC   included    NPC-NPC  "
      ]
     },
     "execution_count": 52,
     "metadata": {},
     "output_type": "execute_result"
    }
   ],
   "source": [
    "modality_transitions.head()"
   ]
  },
  {
   "cell_type": "code",
   "execution_count": 53,
   "metadata": {
    "collapsed": false
   },
   "outputs": [
    {
     "data": {
      "text/html": [
       "<div>\n",
       "<table border=\"1\" class=\"dataframe\">\n",
       "  <thead>\n",
       "    <tr style=\"text-align: right;\">\n",
       "      <th></th>\n",
       "      <th>phenotype_x</th>\n",
       "      <th>event_id</th>\n",
       "      <th>modality_x</th>\n",
       "      <th>phenotype_y</th>\n",
       "      <th>modality_y</th>\n",
       "      <th>transition</th>\n",
       "    </tr>\n",
       "  </thead>\n",
       "  <tbody>\n",
       "    <tr>\n",
       "      <th>0</th>\n",
       "      <td>MN</td>\n",
       "      <td>isoform1=junction:chr10:101163392-101165512:-|...</td>\n",
       "      <td>included</td>\n",
       "      <td>MN</td>\n",
       "      <td>included</td>\n",
       "      <td>MN-MN</td>\n",
       "    </tr>\n",
       "    <tr>\n",
       "      <th>1</th>\n",
       "      <td>MN</td>\n",
       "      <td>isoform1=junction:chr10:101163392-101165512:-|...</td>\n",
       "      <td>included</td>\n",
       "      <td>NPC</td>\n",
       "      <td>included</td>\n",
       "      <td>MN-NPC</td>\n",
       "    </tr>\n",
       "    <tr>\n",
       "      <th>2</th>\n",
       "      <td>MN</td>\n",
       "      <td>isoform1=junction:chr10:101163392-101165512:-|...</td>\n",
       "      <td>included</td>\n",
       "      <td>iPSC</td>\n",
       "      <td>included</td>\n",
       "      <td>MN-iPSC</td>\n",
       "    </tr>\n",
       "    <tr>\n",
       "      <th>3</th>\n",
       "      <td>NPC</td>\n",
       "      <td>isoform1=junction:chr10:101163392-101165512:-|...</td>\n",
       "      <td>included</td>\n",
       "      <td>MN</td>\n",
       "      <td>included</td>\n",
       "      <td>NPC-MN</td>\n",
       "    </tr>\n",
       "    <tr>\n",
       "      <th>4</th>\n",
       "      <td>NPC</td>\n",
       "      <td>isoform1=junction:chr10:101163392-101165512:-|...</td>\n",
       "      <td>included</td>\n",
       "      <td>NPC</td>\n",
       "      <td>included</td>\n",
       "      <td>NPC-NPC</td>\n",
       "    </tr>\n",
       "  </tbody>\n",
       "</table>\n",
       "</div>"
      ],
      "text/plain": [
       "  phenotype_x                                           event_id modality_x  \\\n",
       "0          MN  isoform1=junction:chr10:101163392-101165512:-|...   included   \n",
       "1          MN  isoform1=junction:chr10:101163392-101165512:-|...   included   \n",
       "2          MN  isoform1=junction:chr10:101163392-101165512:-|...   included   \n",
       "3         NPC  isoform1=junction:chr10:101163392-101165512:-|...   included   \n",
       "4         NPC  isoform1=junction:chr10:101163392-101165512:-|...   included   \n",
       "\n",
       "  phenotype_y modality_y transition  \n",
       "0          MN   included      MN-MN  \n",
       "1         NPC   included     MN-NPC  \n",
       "2        iPSC   included    MN-iPSC  \n",
       "3          MN   included     NPC-MN  \n",
       "4         NPC   included    NPC-NPC  "
      ]
     },
     "execution_count": 53,
     "metadata": {},
     "output_type": "execute_result"
    }
   ],
   "source": [
    "modality_transitions['transition'] = modality_transitions['phenotype_x'] + '-' + modality_transitions['phenotype_y']\n",
    "modality_transitions.head()"
   ]
  },
  {
   "cell_type": "code",
   "execution_count": 54,
   "metadata": {
    "collapsed": true
   },
   "outputs": [],
   "source": [
    "transitions_of_interest = ['iPSC-NPC', 'iPSC-MN']"
   ]
  },
  {
   "cell_type": "code",
   "execution_count": 55,
   "metadata": {
    "collapsed": false
   },
   "outputs": [
    {
     "name": "stderr",
     "output_type": "stream",
     "text": [
      "/home/obotvinnik/anaconda/lib/python2.7/site-packages/ipykernel/__main__.py:5: SettingWithCopyWarning: \n",
      "A value is trying to be set on a copy of a slice from a DataFrame.\n",
      "Try using .loc[row_indexer,col_indexer] = value instead\n",
      "\n",
      "See the caveats in the documentation: http://pandas.pydata.org/pandas-docs/stable/indexing.html#indexing-view-versus-copy\n"
     ]
    },
    {
     "data": {
      "text/html": [
       "<div>\n",
       "<table border=\"1\" class=\"dataframe\">\n",
       "  <thead>\n",
       "    <tr style=\"text-align: right;\">\n",
       "      <th></th>\n",
       "      <th>phenotype_x</th>\n",
       "      <th>event_id</th>\n",
       "      <th>modality_x</th>\n",
       "      <th>phenotype_y</th>\n",
       "      <th>modality_y</th>\n",
       "      <th>transition</th>\n",
       "    </tr>\n",
       "  </thead>\n",
       "  <tbody>\n",
       "    <tr>\n",
       "      <th>15</th>\n",
       "      <td>iPSC</td>\n",
       "      <td>isoform1=junction:chr10:101476219-101480743:-|...</td>\n",
       "      <td>included</td>\n",
       "      <td>MN</td>\n",
       "      <td>bimodal</td>\n",
       "      <td>iPSC-MN</td>\n",
       "    </tr>\n",
       "    <tr>\n",
       "      <th>16</th>\n",
       "      <td>iPSC</td>\n",
       "      <td>isoform1=junction:chr10:101476219-101480743:-|...</td>\n",
       "      <td>included</td>\n",
       "      <td>NPC</td>\n",
       "      <td>bimodal</td>\n",
       "      <td>iPSC-NPC</td>\n",
       "    </tr>\n",
       "    <tr>\n",
       "      <th>42</th>\n",
       "      <td>iPSC</td>\n",
       "      <td>isoform1=junction:chr10:102746733-102747069:-|...</td>\n",
       "      <td>included</td>\n",
       "      <td>MN</td>\n",
       "      <td>bimodal</td>\n",
       "      <td>iPSC-MN</td>\n",
       "    </tr>\n",
       "    <tr>\n",
       "      <th>47</th>\n",
       "      <td>iPSC</td>\n",
       "      <td>isoform1=junction:chr10:103113986-103190101:+|...</td>\n",
       "      <td>excluded</td>\n",
       "      <td>MN</td>\n",
       "      <td>bimodal</td>\n",
       "      <td>iPSC-MN</td>\n",
       "    </tr>\n",
       "    <tr>\n",
       "      <th>59</th>\n",
       "      <td>iPSC</td>\n",
       "      <td>isoform1=junction:chr10:103190210-103239124:+|...</td>\n",
       "      <td>bimodal</td>\n",
       "      <td>MN</td>\n",
       "      <td>included</td>\n",
       "      <td>iPSC-MN</td>\n",
       "    </tr>\n",
       "  </tbody>\n",
       "</table>\n",
       "</div>"
      ],
      "text/plain": [
       "   phenotype_x                                           event_id modality_x  \\\n",
       "15        iPSC  isoform1=junction:chr10:101476219-101480743:-|...   included   \n",
       "16        iPSC  isoform1=junction:chr10:101476219-101480743:-|...   included   \n",
       "42        iPSC  isoform1=junction:chr10:102746733-102747069:-|...   included   \n",
       "47        iPSC  isoform1=junction:chr10:103113986-103190101:+|...   excluded   \n",
       "59        iPSC  isoform1=junction:chr10:103190210-103239124:+|...    bimodal   \n",
       "\n",
       "   phenotype_y modality_y transition  \n",
       "15          MN    bimodal    iPSC-MN  \n",
       "16         NPC    bimodal   iPSC-NPC  \n",
       "42          MN    bimodal    iPSC-MN  \n",
       "47          MN    bimodal    iPSC-MN  \n",
       "59          MN   included    iPSC-MN  "
      ]
     },
     "execution_count": 55,
     "metadata": {},
     "output_type": "execute_result"
    }
   ],
   "source": [
    "transition_rows = modality_transitions.transition.isin(transitions_of_interest)\n",
    "delta_modality_rows = modality_transitions['modality_x'] != modality_transitions['modality_y']\n",
    "modality_transitions_different_modalities = modality_transitions.loc[transition_rows & delta_modality_rows]\n",
    "modality_transitions_different_modalities['transition'] = pd.Categorical(modality_transitions_different_modalities['transition'], \n",
    "                                                           categories=transitions_of_interest, ordered=True)\n",
    "modality_transitions_different_modalities.head()"
   ]
  },
  {
   "cell_type": "code",
   "execution_count": 56,
   "metadata": {
    "collapsed": false
   },
   "outputs": [
    {
     "data": {
      "text/html": [
       "<div>\n",
       "<table border=\"1\" class=\"dataframe\">\n",
       "  <thead>\n",
       "    <tr style=\"text-align: right;\">\n",
       "      <th></th>\n",
       "      <th>transition</th>\n",
       "      <th>modality_x</th>\n",
       "      <th>modality_y</th>\n",
       "      <th># AS Exons</th>\n",
       "    </tr>\n",
       "  </thead>\n",
       "  <tbody>\n",
       "    <tr>\n",
       "      <th>0</th>\n",
       "      <td>iPSC-NPC</td>\n",
       "      <td>bimodal</td>\n",
       "      <td>excluded</td>\n",
       "      <td>239</td>\n",
       "    </tr>\n",
       "    <tr>\n",
       "      <th>1</th>\n",
       "      <td>iPSC-NPC</td>\n",
       "      <td>bimodal</td>\n",
       "      <td>included</td>\n",
       "      <td>267</td>\n",
       "    </tr>\n",
       "    <tr>\n",
       "      <th>2</th>\n",
       "      <td>iPSC-NPC</td>\n",
       "      <td>bimodal</td>\n",
       "      <td>uncategorized</td>\n",
       "      <td>2</td>\n",
       "    </tr>\n",
       "    <tr>\n",
       "      <th>3</th>\n",
       "      <td>iPSC-NPC</td>\n",
       "      <td>excluded</td>\n",
       "      <td>bimodal</td>\n",
       "      <td>338</td>\n",
       "    </tr>\n",
       "    <tr>\n",
       "      <th>4</th>\n",
       "      <td>iPSC-NPC</td>\n",
       "      <td>excluded</td>\n",
       "      <td>uncategorized</td>\n",
       "      <td>1</td>\n",
       "    </tr>\n",
       "    <tr>\n",
       "      <th>5</th>\n",
       "      <td>iPSC-NPC</td>\n",
       "      <td>included</td>\n",
       "      <td>bimodal</td>\n",
       "      <td>637</td>\n",
       "    </tr>\n",
       "    <tr>\n",
       "      <th>6</th>\n",
       "      <td>iPSC-NPC</td>\n",
       "      <td>included</td>\n",
       "      <td>excluded</td>\n",
       "      <td>1</td>\n",
       "    </tr>\n",
       "    <tr>\n",
       "      <th>7</th>\n",
       "      <td>iPSC-NPC</td>\n",
       "      <td>included</td>\n",
       "      <td>uncategorized</td>\n",
       "      <td>3</td>\n",
       "    </tr>\n",
       "    <tr>\n",
       "      <th>8</th>\n",
       "      <td>iPSC-NPC</td>\n",
       "      <td>middle</td>\n",
       "      <td>included</td>\n",
       "      <td>1</td>\n",
       "    </tr>\n",
       "    <tr>\n",
       "      <th>9</th>\n",
       "      <td>iPSC-NPC</td>\n",
       "      <td>uncategorized</td>\n",
       "      <td>bimodal</td>\n",
       "      <td>38</td>\n",
       "    </tr>\n",
       "    <tr>\n",
       "      <th>10</th>\n",
       "      <td>iPSC-NPC</td>\n",
       "      <td>uncategorized</td>\n",
       "      <td>excluded</td>\n",
       "      <td>3</td>\n",
       "    </tr>\n",
       "    <tr>\n",
       "      <th>11</th>\n",
       "      <td>iPSC-NPC</td>\n",
       "      <td>uncategorized</td>\n",
       "      <td>included</td>\n",
       "      <td>2</td>\n",
       "    </tr>\n",
       "    <tr>\n",
       "      <th>12</th>\n",
       "      <td>iPSC-MN</td>\n",
       "      <td>bimodal</td>\n",
       "      <td>excluded</td>\n",
       "      <td>147</td>\n",
       "    </tr>\n",
       "    <tr>\n",
       "      <th>13</th>\n",
       "      <td>iPSC-MN</td>\n",
       "      <td>bimodal</td>\n",
       "      <td>included</td>\n",
       "      <td>154</td>\n",
       "    </tr>\n",
       "    <tr>\n",
       "      <th>14</th>\n",
       "      <td>iPSC-MN</td>\n",
       "      <td>bimodal</td>\n",
       "      <td>uncategorized</td>\n",
       "      <td>1</td>\n",
       "    </tr>\n",
       "    <tr>\n",
       "      <th>15</th>\n",
       "      <td>iPSC-MN</td>\n",
       "      <td>excluded</td>\n",
       "      <td>bimodal</td>\n",
       "      <td>243</td>\n",
       "    </tr>\n",
       "    <tr>\n",
       "      <th>16</th>\n",
       "      <td>iPSC-MN</td>\n",
       "      <td>excluded</td>\n",
       "      <td>included</td>\n",
       "      <td>8</td>\n",
       "    </tr>\n",
       "    <tr>\n",
       "      <th>17</th>\n",
       "      <td>iPSC-MN</td>\n",
       "      <td>excluded</td>\n",
       "      <td>uncategorized</td>\n",
       "      <td>3</td>\n",
       "    </tr>\n",
       "    <tr>\n",
       "      <th>18</th>\n",
       "      <td>iPSC-MN</td>\n",
       "      <td>included</td>\n",
       "      <td>bimodal</td>\n",
       "      <td>458</td>\n",
       "    </tr>\n",
       "    <tr>\n",
       "      <th>19</th>\n",
       "      <td>iPSC-MN</td>\n",
       "      <td>included</td>\n",
       "      <td>excluded</td>\n",
       "      <td>1</td>\n",
       "    </tr>\n",
       "    <tr>\n",
       "      <th>20</th>\n",
       "      <td>iPSC-MN</td>\n",
       "      <td>included</td>\n",
       "      <td>uncategorized</td>\n",
       "      <td>1</td>\n",
       "    </tr>\n",
       "    <tr>\n",
       "      <th>21</th>\n",
       "      <td>iPSC-MN</td>\n",
       "      <td>middle</td>\n",
       "      <td>included</td>\n",
       "      <td>1</td>\n",
       "    </tr>\n",
       "    <tr>\n",
       "      <th>22</th>\n",
       "      <td>iPSC-MN</td>\n",
       "      <td>uncategorized</td>\n",
       "      <td>bimodal</td>\n",
       "      <td>35</td>\n",
       "    </tr>\n",
       "    <tr>\n",
       "      <th>23</th>\n",
       "      <td>iPSC-MN</td>\n",
       "      <td>uncategorized</td>\n",
       "      <td>excluded</td>\n",
       "      <td>5</td>\n",
       "    </tr>\n",
       "    <tr>\n",
       "      <th>24</th>\n",
       "      <td>iPSC-MN</td>\n",
       "      <td>uncategorized</td>\n",
       "      <td>included</td>\n",
       "      <td>2</td>\n",
       "    </tr>\n",
       "  </tbody>\n",
       "</table>\n",
       "</div>"
      ],
      "text/plain": [
       "   transition     modality_x     modality_y  # AS Exons\n",
       "0    iPSC-NPC        bimodal       excluded         239\n",
       "1    iPSC-NPC        bimodal       included         267\n",
       "2    iPSC-NPC        bimodal  uncategorized           2\n",
       "3    iPSC-NPC       excluded        bimodal         338\n",
       "4    iPSC-NPC       excluded  uncategorized           1\n",
       "5    iPSC-NPC       included        bimodal         637\n",
       "6    iPSC-NPC       included       excluded           1\n",
       "7    iPSC-NPC       included  uncategorized           3\n",
       "8    iPSC-NPC         middle       included           1\n",
       "9    iPSC-NPC  uncategorized        bimodal          38\n",
       "10   iPSC-NPC  uncategorized       excluded           3\n",
       "11   iPSC-NPC  uncategorized       included           2\n",
       "12    iPSC-MN        bimodal       excluded         147\n",
       "13    iPSC-MN        bimodal       included         154\n",
       "14    iPSC-MN        bimodal  uncategorized           1\n",
       "15    iPSC-MN       excluded        bimodal         243\n",
       "16    iPSC-MN       excluded       included           8\n",
       "17    iPSC-MN       excluded  uncategorized           3\n",
       "18    iPSC-MN       included        bimodal         458\n",
       "19    iPSC-MN       included       excluded           1\n",
       "20    iPSC-MN       included  uncategorized           1\n",
       "21    iPSC-MN         middle       included           1\n",
       "22    iPSC-MN  uncategorized        bimodal          35\n",
       "23    iPSC-MN  uncategorized       excluded           5\n",
       "24    iPSC-MN  uncategorized       included           2"
      ]
     },
     "execution_count": 56,
     "metadata": {},
     "output_type": "execute_result"
    }
   ],
   "source": [
    "delta_modalities = modality_transitions_different_modalities.groupby(['transition', 'modality_x', 'modality_y']).size()\n",
    "delta_modalities = delta_modalities.reset_index()\n",
    "delta_modalities = delta_modalities.rename(columns={0: '# AS Exons'})\n",
    "delta_modalities"
   ]
  },
  {
   "cell_type": "code",
   "execution_count": 57,
   "metadata": {
    "collapsed": false
   },
   "outputs": [
    {
     "data": {
      "text/plain": [
       "transition\n",
       "iPSC-NPC    1532\n",
       "iPSC-MN     1059\n",
       "Name: # AS Exons, dtype: int64"
      ]
     },
     "execution_count": 57,
     "metadata": {},
     "output_type": "execute_result"
    }
   ],
   "source": [
    "delta_modalities.groupby('transition')['# AS Exons'].sum()"
   ]
  },
  {
   "cell_type": "code",
   "execution_count": 58,
   "metadata": {
    "collapsed": false
   },
   "outputs": [
    {
     "data": {
      "text/html": [
       "<div>\n",
       "<table border=\"1\" class=\"dataframe\">\n",
       "  <thead>\n",
       "    <tr style=\"text-align: right;\">\n",
       "      <th></th>\n",
       "      <th>transition</th>\n",
       "      <th>modality_x</th>\n",
       "      <th>modality_y</th>\n",
       "      <th># AS Exons</th>\n",
       "      <th>$\\Delta$ Modality</th>\n",
       "    </tr>\n",
       "  </thead>\n",
       "  <tbody>\n",
       "    <tr>\n",
       "      <th>0</th>\n",
       "      <td>iPSC-NPC</td>\n",
       "      <td>bimodal</td>\n",
       "      <td>excluded</td>\n",
       "      <td>239</td>\n",
       "      <td>Bimodal --&gt; X</td>\n",
       "    </tr>\n",
       "    <tr>\n",
       "      <th>1</th>\n",
       "      <td>iPSC-NPC</td>\n",
       "      <td>bimodal</td>\n",
       "      <td>included</td>\n",
       "      <td>267</td>\n",
       "      <td>Bimodal --&gt; X</td>\n",
       "    </tr>\n",
       "    <tr>\n",
       "      <th>2</th>\n",
       "      <td>iPSC-NPC</td>\n",
       "      <td>bimodal</td>\n",
       "      <td>uncategorized</td>\n",
       "      <td>2</td>\n",
       "      <td>Bimodal --&gt; X</td>\n",
       "    </tr>\n",
       "    <tr>\n",
       "      <th>3</th>\n",
       "      <td>iPSC-NPC</td>\n",
       "      <td>excluded</td>\n",
       "      <td>bimodal</td>\n",
       "      <td>338</td>\n",
       "      <td>X --&gt; Bimodal</td>\n",
       "    </tr>\n",
       "    <tr>\n",
       "      <th>4</th>\n",
       "      <td>iPSC-NPC</td>\n",
       "      <td>excluded</td>\n",
       "      <td>uncategorized</td>\n",
       "      <td>1</td>\n",
       "      <td>Other</td>\n",
       "    </tr>\n",
       "    <tr>\n",
       "      <th>5</th>\n",
       "      <td>iPSC-NPC</td>\n",
       "      <td>included</td>\n",
       "      <td>bimodal</td>\n",
       "      <td>637</td>\n",
       "      <td>X --&gt; Bimodal</td>\n",
       "    </tr>\n",
       "    <tr>\n",
       "      <th>6</th>\n",
       "      <td>iPSC-NPC</td>\n",
       "      <td>included</td>\n",
       "      <td>excluded</td>\n",
       "      <td>1</td>\n",
       "      <td>Other</td>\n",
       "    </tr>\n",
       "    <tr>\n",
       "      <th>7</th>\n",
       "      <td>iPSC-NPC</td>\n",
       "      <td>included</td>\n",
       "      <td>uncategorized</td>\n",
       "      <td>3</td>\n",
       "      <td>Other</td>\n",
       "    </tr>\n",
       "    <tr>\n",
       "      <th>8</th>\n",
       "      <td>iPSC-NPC</td>\n",
       "      <td>middle</td>\n",
       "      <td>included</td>\n",
       "      <td>1</td>\n",
       "      <td>Other</td>\n",
       "    </tr>\n",
       "    <tr>\n",
       "      <th>9</th>\n",
       "      <td>iPSC-NPC</td>\n",
       "      <td>uncategorized</td>\n",
       "      <td>bimodal</td>\n",
       "      <td>38</td>\n",
       "      <td>X --&gt; Bimodal</td>\n",
       "    </tr>\n",
       "    <tr>\n",
       "      <th>10</th>\n",
       "      <td>iPSC-NPC</td>\n",
       "      <td>uncategorized</td>\n",
       "      <td>excluded</td>\n",
       "      <td>3</td>\n",
       "      <td>Other</td>\n",
       "    </tr>\n",
       "    <tr>\n",
       "      <th>11</th>\n",
       "      <td>iPSC-NPC</td>\n",
       "      <td>uncategorized</td>\n",
       "      <td>included</td>\n",
       "      <td>2</td>\n",
       "      <td>Other</td>\n",
       "    </tr>\n",
       "    <tr>\n",
       "      <th>12</th>\n",
       "      <td>iPSC-MN</td>\n",
       "      <td>bimodal</td>\n",
       "      <td>excluded</td>\n",
       "      <td>147</td>\n",
       "      <td>Bimodal --&gt; X</td>\n",
       "    </tr>\n",
       "    <tr>\n",
       "      <th>13</th>\n",
       "      <td>iPSC-MN</td>\n",
       "      <td>bimodal</td>\n",
       "      <td>included</td>\n",
       "      <td>154</td>\n",
       "      <td>Bimodal --&gt; X</td>\n",
       "    </tr>\n",
       "    <tr>\n",
       "      <th>14</th>\n",
       "      <td>iPSC-MN</td>\n",
       "      <td>bimodal</td>\n",
       "      <td>uncategorized</td>\n",
       "      <td>1</td>\n",
       "      <td>Bimodal --&gt; X</td>\n",
       "    </tr>\n",
       "    <tr>\n",
       "      <th>15</th>\n",
       "      <td>iPSC-MN</td>\n",
       "      <td>excluded</td>\n",
       "      <td>bimodal</td>\n",
       "      <td>243</td>\n",
       "      <td>X --&gt; Bimodal</td>\n",
       "    </tr>\n",
       "    <tr>\n",
       "      <th>16</th>\n",
       "      <td>iPSC-MN</td>\n",
       "      <td>excluded</td>\n",
       "      <td>included</td>\n",
       "      <td>8</td>\n",
       "      <td>Other</td>\n",
       "    </tr>\n",
       "    <tr>\n",
       "      <th>17</th>\n",
       "      <td>iPSC-MN</td>\n",
       "      <td>excluded</td>\n",
       "      <td>uncategorized</td>\n",
       "      <td>3</td>\n",
       "      <td>Other</td>\n",
       "    </tr>\n",
       "    <tr>\n",
       "      <th>18</th>\n",
       "      <td>iPSC-MN</td>\n",
       "      <td>included</td>\n",
       "      <td>bimodal</td>\n",
       "      <td>458</td>\n",
       "      <td>X --&gt; Bimodal</td>\n",
       "    </tr>\n",
       "    <tr>\n",
       "      <th>19</th>\n",
       "      <td>iPSC-MN</td>\n",
       "      <td>included</td>\n",
       "      <td>excluded</td>\n",
       "      <td>1</td>\n",
       "      <td>Other</td>\n",
       "    </tr>\n",
       "    <tr>\n",
       "      <th>20</th>\n",
       "      <td>iPSC-MN</td>\n",
       "      <td>included</td>\n",
       "      <td>uncategorized</td>\n",
       "      <td>1</td>\n",
       "      <td>Other</td>\n",
       "    </tr>\n",
       "    <tr>\n",
       "      <th>21</th>\n",
       "      <td>iPSC-MN</td>\n",
       "      <td>middle</td>\n",
       "      <td>included</td>\n",
       "      <td>1</td>\n",
       "      <td>Other</td>\n",
       "    </tr>\n",
       "    <tr>\n",
       "      <th>22</th>\n",
       "      <td>iPSC-MN</td>\n",
       "      <td>uncategorized</td>\n",
       "      <td>bimodal</td>\n",
       "      <td>35</td>\n",
       "      <td>X --&gt; Bimodal</td>\n",
       "    </tr>\n",
       "    <tr>\n",
       "      <th>23</th>\n",
       "      <td>iPSC-MN</td>\n",
       "      <td>uncategorized</td>\n",
       "      <td>excluded</td>\n",
       "      <td>5</td>\n",
       "      <td>Other</td>\n",
       "    </tr>\n",
       "    <tr>\n",
       "      <th>24</th>\n",
       "      <td>iPSC-MN</td>\n",
       "      <td>uncategorized</td>\n",
       "      <td>included</td>\n",
       "      <td>2</td>\n",
       "      <td>Other</td>\n",
       "    </tr>\n",
       "  </tbody>\n",
       "</table>\n",
       "</div>"
      ],
      "text/plain": [
       "   transition     modality_x     modality_y  # AS Exons $\\Delta$ Modality\n",
       "0    iPSC-NPC        bimodal       excluded         239     Bimodal --> X\n",
       "1    iPSC-NPC        bimodal       included         267     Bimodal --> X\n",
       "2    iPSC-NPC        bimodal  uncategorized           2     Bimodal --> X\n",
       "3    iPSC-NPC       excluded        bimodal         338     X --> Bimodal\n",
       "4    iPSC-NPC       excluded  uncategorized           1             Other\n",
       "5    iPSC-NPC       included        bimodal         637     X --> Bimodal\n",
       "6    iPSC-NPC       included       excluded           1             Other\n",
       "7    iPSC-NPC       included  uncategorized           3             Other\n",
       "8    iPSC-NPC         middle       included           1             Other\n",
       "9    iPSC-NPC  uncategorized        bimodal          38     X --> Bimodal\n",
       "10   iPSC-NPC  uncategorized       excluded           3             Other\n",
       "11   iPSC-NPC  uncategorized       included           2             Other\n",
       "12    iPSC-MN        bimodal       excluded         147     Bimodal --> X\n",
       "13    iPSC-MN        bimodal       included         154     Bimodal --> X\n",
       "14    iPSC-MN        bimodal  uncategorized           1     Bimodal --> X\n",
       "15    iPSC-MN       excluded        bimodal         243     X --> Bimodal\n",
       "16    iPSC-MN       excluded       included           8             Other\n",
       "17    iPSC-MN       excluded  uncategorized           3             Other\n",
       "18    iPSC-MN       included        bimodal         458     X --> Bimodal\n",
       "19    iPSC-MN       included       excluded           1             Other\n",
       "20    iPSC-MN       included  uncategorized           1             Other\n",
       "21    iPSC-MN         middle       included           1             Other\n",
       "22    iPSC-MN  uncategorized        bimodal          35     X --> Bimodal\n",
       "23    iPSC-MN  uncategorized       excluded           5             Other\n",
       "24    iPSC-MN  uncategorized       included           2             Other"
      ]
     },
     "execution_count": 58,
     "metadata": {},
     "output_type": "execute_result"
    }
   ],
   "source": [
    "col = '$\\Delta$ Modality'\n",
    "\n",
    "# Label everythign as \"Other\" first\n",
    "delta_modalities[col] = 'Other'\n",
    "\n",
    "modality1_bimodal = delta_modalities['modality_x'] == 'bimodal'\n",
    "modality2_bimodal = delta_modalities['modality_y'] == 'bimodal'\n",
    "\n",
    "# From bimodal\n",
    "delta_modalities.loc[modality1_bimodal, col] = 'Bimodal --> X'\n",
    "\n",
    "# To Bimodal\n",
    "delta_modalities.loc[modality2_bimodal, col] = 'X --> Bimodal'\n",
    "delta_modalities"
   ]
  },
  {
   "cell_type": "code",
   "execution_count": 59,
   "metadata": {
    "collapsed": false
   },
   "outputs": [
    {
     "data": {
      "text/html": [
       "<div>\n",
       "<table border=\"1\" class=\"dataframe\">\n",
       "  <thead>\n",
       "    <tr style=\"text-align: right;\">\n",
       "      <th></th>\n",
       "      <th>transition</th>\n",
       "      <th>modality_x</th>\n",
       "      <th>modality_y</th>\n",
       "      <th># AS Exons</th>\n",
       "      <th>$\\Delta$ Modality</th>\n",
       "      <th>% Changing AS Exons</th>\n",
       "    </tr>\n",
       "  </thead>\n",
       "  <tbody>\n",
       "    <tr>\n",
       "      <th>0</th>\n",
       "      <td>iPSC-NPC</td>\n",
       "      <td>bimodal</td>\n",
       "      <td>excluded</td>\n",
       "      <td>239</td>\n",
       "      <td>Bimodal --&gt; X</td>\n",
       "      <td>15.600522</td>\n",
       "    </tr>\n",
       "    <tr>\n",
       "      <th>1</th>\n",
       "      <td>iPSC-NPC</td>\n",
       "      <td>bimodal</td>\n",
       "      <td>included</td>\n",
       "      <td>267</td>\n",
       "      <td>Bimodal --&gt; X</td>\n",
       "      <td>17.428198</td>\n",
       "    </tr>\n",
       "    <tr>\n",
       "      <th>2</th>\n",
       "      <td>iPSC-NPC</td>\n",
       "      <td>bimodal</td>\n",
       "      <td>uncategorized</td>\n",
       "      <td>2</td>\n",
       "      <td>Bimodal --&gt; X</td>\n",
       "      <td>0.130548</td>\n",
       "    </tr>\n",
       "    <tr>\n",
       "      <th>3</th>\n",
       "      <td>iPSC-NPC</td>\n",
       "      <td>excluded</td>\n",
       "      <td>bimodal</td>\n",
       "      <td>338</td>\n",
       "      <td>X --&gt; Bimodal</td>\n",
       "      <td>22.062663</td>\n",
       "    </tr>\n",
       "    <tr>\n",
       "      <th>4</th>\n",
       "      <td>iPSC-NPC</td>\n",
       "      <td>excluded</td>\n",
       "      <td>uncategorized</td>\n",
       "      <td>1</td>\n",
       "      <td>Other</td>\n",
       "      <td>0.065274</td>\n",
       "    </tr>\n",
       "    <tr>\n",
       "      <th>5</th>\n",
       "      <td>iPSC-NPC</td>\n",
       "      <td>included</td>\n",
       "      <td>bimodal</td>\n",
       "      <td>637</td>\n",
       "      <td>X --&gt; Bimodal</td>\n",
       "      <td>41.579634</td>\n",
       "    </tr>\n",
       "    <tr>\n",
       "      <th>6</th>\n",
       "      <td>iPSC-NPC</td>\n",
       "      <td>included</td>\n",
       "      <td>excluded</td>\n",
       "      <td>1</td>\n",
       "      <td>Other</td>\n",
       "      <td>0.065274</td>\n",
       "    </tr>\n",
       "    <tr>\n",
       "      <th>7</th>\n",
       "      <td>iPSC-NPC</td>\n",
       "      <td>included</td>\n",
       "      <td>uncategorized</td>\n",
       "      <td>3</td>\n",
       "      <td>Other</td>\n",
       "      <td>0.195822</td>\n",
       "    </tr>\n",
       "    <tr>\n",
       "      <th>8</th>\n",
       "      <td>iPSC-NPC</td>\n",
       "      <td>middle</td>\n",
       "      <td>included</td>\n",
       "      <td>1</td>\n",
       "      <td>Other</td>\n",
       "      <td>0.065274</td>\n",
       "    </tr>\n",
       "    <tr>\n",
       "      <th>9</th>\n",
       "      <td>iPSC-NPC</td>\n",
       "      <td>uncategorized</td>\n",
       "      <td>bimodal</td>\n",
       "      <td>38</td>\n",
       "      <td>X --&gt; Bimodal</td>\n",
       "      <td>2.480418</td>\n",
       "    </tr>\n",
       "    <tr>\n",
       "      <th>10</th>\n",
       "      <td>iPSC-NPC</td>\n",
       "      <td>uncategorized</td>\n",
       "      <td>excluded</td>\n",
       "      <td>3</td>\n",
       "      <td>Other</td>\n",
       "      <td>0.195822</td>\n",
       "    </tr>\n",
       "    <tr>\n",
       "      <th>11</th>\n",
       "      <td>iPSC-NPC</td>\n",
       "      <td>uncategorized</td>\n",
       "      <td>included</td>\n",
       "      <td>2</td>\n",
       "      <td>Other</td>\n",
       "      <td>0.130548</td>\n",
       "    </tr>\n",
       "    <tr>\n",
       "      <th>12</th>\n",
       "      <td>iPSC-MN</td>\n",
       "      <td>bimodal</td>\n",
       "      <td>excluded</td>\n",
       "      <td>147</td>\n",
       "      <td>Bimodal --&gt; X</td>\n",
       "      <td>13.881020</td>\n",
       "    </tr>\n",
       "    <tr>\n",
       "      <th>13</th>\n",
       "      <td>iPSC-MN</td>\n",
       "      <td>bimodal</td>\n",
       "      <td>included</td>\n",
       "      <td>154</td>\n",
       "      <td>Bimodal --&gt; X</td>\n",
       "      <td>14.542021</td>\n",
       "    </tr>\n",
       "    <tr>\n",
       "      <th>14</th>\n",
       "      <td>iPSC-MN</td>\n",
       "      <td>bimodal</td>\n",
       "      <td>uncategorized</td>\n",
       "      <td>1</td>\n",
       "      <td>Bimodal --&gt; X</td>\n",
       "      <td>0.094429</td>\n",
       "    </tr>\n",
       "    <tr>\n",
       "      <th>15</th>\n",
       "      <td>iPSC-MN</td>\n",
       "      <td>excluded</td>\n",
       "      <td>bimodal</td>\n",
       "      <td>243</td>\n",
       "      <td>X --&gt; Bimodal</td>\n",
       "      <td>22.946176</td>\n",
       "    </tr>\n",
       "    <tr>\n",
       "      <th>16</th>\n",
       "      <td>iPSC-MN</td>\n",
       "      <td>excluded</td>\n",
       "      <td>included</td>\n",
       "      <td>8</td>\n",
       "      <td>Other</td>\n",
       "      <td>0.755430</td>\n",
       "    </tr>\n",
       "    <tr>\n",
       "      <th>17</th>\n",
       "      <td>iPSC-MN</td>\n",
       "      <td>excluded</td>\n",
       "      <td>uncategorized</td>\n",
       "      <td>3</td>\n",
       "      <td>Other</td>\n",
       "      <td>0.283286</td>\n",
       "    </tr>\n",
       "    <tr>\n",
       "      <th>18</th>\n",
       "      <td>iPSC-MN</td>\n",
       "      <td>included</td>\n",
       "      <td>bimodal</td>\n",
       "      <td>458</td>\n",
       "      <td>X --&gt; Bimodal</td>\n",
       "      <td>43.248347</td>\n",
       "    </tr>\n",
       "    <tr>\n",
       "      <th>19</th>\n",
       "      <td>iPSC-MN</td>\n",
       "      <td>included</td>\n",
       "      <td>excluded</td>\n",
       "      <td>1</td>\n",
       "      <td>Other</td>\n",
       "      <td>0.094429</td>\n",
       "    </tr>\n",
       "    <tr>\n",
       "      <th>20</th>\n",
       "      <td>iPSC-MN</td>\n",
       "      <td>included</td>\n",
       "      <td>uncategorized</td>\n",
       "      <td>1</td>\n",
       "      <td>Other</td>\n",
       "      <td>0.094429</td>\n",
       "    </tr>\n",
       "    <tr>\n",
       "      <th>21</th>\n",
       "      <td>iPSC-MN</td>\n",
       "      <td>middle</td>\n",
       "      <td>included</td>\n",
       "      <td>1</td>\n",
       "      <td>Other</td>\n",
       "      <td>0.094429</td>\n",
       "    </tr>\n",
       "    <tr>\n",
       "      <th>22</th>\n",
       "      <td>iPSC-MN</td>\n",
       "      <td>uncategorized</td>\n",
       "      <td>bimodal</td>\n",
       "      <td>35</td>\n",
       "      <td>X --&gt; Bimodal</td>\n",
       "      <td>3.305005</td>\n",
       "    </tr>\n",
       "    <tr>\n",
       "      <th>23</th>\n",
       "      <td>iPSC-MN</td>\n",
       "      <td>uncategorized</td>\n",
       "      <td>excluded</td>\n",
       "      <td>5</td>\n",
       "      <td>Other</td>\n",
       "      <td>0.472144</td>\n",
       "    </tr>\n",
       "    <tr>\n",
       "      <th>24</th>\n",
       "      <td>iPSC-MN</td>\n",
       "      <td>uncategorized</td>\n",
       "      <td>included</td>\n",
       "      <td>2</td>\n",
       "      <td>Other</td>\n",
       "      <td>0.188857</td>\n",
       "    </tr>\n",
       "  </tbody>\n",
       "</table>\n",
       "</div>"
      ],
      "text/plain": [
       "   transition     modality_x     modality_y  # AS Exons $\\Delta$ Modality  \\\n",
       "0    iPSC-NPC        bimodal       excluded         239     Bimodal --> X   \n",
       "1    iPSC-NPC        bimodal       included         267     Bimodal --> X   \n",
       "2    iPSC-NPC        bimodal  uncategorized           2     Bimodal --> X   \n",
       "3    iPSC-NPC       excluded        bimodal         338     X --> Bimodal   \n",
       "4    iPSC-NPC       excluded  uncategorized           1             Other   \n",
       "5    iPSC-NPC       included        bimodal         637     X --> Bimodal   \n",
       "6    iPSC-NPC       included       excluded           1             Other   \n",
       "7    iPSC-NPC       included  uncategorized           3             Other   \n",
       "8    iPSC-NPC         middle       included           1             Other   \n",
       "9    iPSC-NPC  uncategorized        bimodal          38     X --> Bimodal   \n",
       "10   iPSC-NPC  uncategorized       excluded           3             Other   \n",
       "11   iPSC-NPC  uncategorized       included           2             Other   \n",
       "12    iPSC-MN        bimodal       excluded         147     Bimodal --> X   \n",
       "13    iPSC-MN        bimodal       included         154     Bimodal --> X   \n",
       "14    iPSC-MN        bimodal  uncategorized           1     Bimodal --> X   \n",
       "15    iPSC-MN       excluded        bimodal         243     X --> Bimodal   \n",
       "16    iPSC-MN       excluded       included           8             Other   \n",
       "17    iPSC-MN       excluded  uncategorized           3             Other   \n",
       "18    iPSC-MN       included        bimodal         458     X --> Bimodal   \n",
       "19    iPSC-MN       included       excluded           1             Other   \n",
       "20    iPSC-MN       included  uncategorized           1             Other   \n",
       "21    iPSC-MN         middle       included           1             Other   \n",
       "22    iPSC-MN  uncategorized        bimodal          35     X --> Bimodal   \n",
       "23    iPSC-MN  uncategorized       excluded           5             Other   \n",
       "24    iPSC-MN  uncategorized       included           2             Other   \n",
       "\n",
       "    % Changing AS Exons  \n",
       "0             15.600522  \n",
       "1             17.428198  \n",
       "2              0.130548  \n",
       "3             22.062663  \n",
       "4              0.065274  \n",
       "5             41.579634  \n",
       "6              0.065274  \n",
       "7              0.195822  \n",
       "8              0.065274  \n",
       "9              2.480418  \n",
       "10             0.195822  \n",
       "11             0.130548  \n",
       "12            13.881020  \n",
       "13            14.542021  \n",
       "14             0.094429  \n",
       "15            22.946176  \n",
       "16             0.755430  \n",
       "17             0.283286  \n",
       "18            43.248347  \n",
       "19             0.094429  \n",
       "20             0.094429  \n",
       "21             0.094429  \n",
       "22             3.305005  \n",
       "23             0.472144  \n",
       "24             0.188857  "
      ]
     },
     "execution_count": 59,
     "metadata": {},
     "output_type": "execute_result"
    }
   ],
   "source": [
    "delta_modalities['% Changing AS Exons'] = delta_modalities.groupby('transition')['# AS Exons'].apply(lambda x: 100*x/x.sum())\n",
    "delta_modalities"
   ]
  },
  {
   "cell_type": "code",
   "execution_count": 60,
   "metadata": {
    "collapsed": false
   },
   "outputs": [
    {
     "data": {
      "text/plain": [
       "transition  $\\Delta$ Modality\n",
       "iPSC-NPC    Bimodal --> X        33.159269\n",
       "            Other                 0.718016\n",
       "            X --> Bimodal        66.122715\n",
       "iPSC-MN     Bimodal --> X        28.517469\n",
       "            Other                 1.983003\n",
       "            X --> Bimodal        69.499528\n",
       "Name: % Changing AS Exons, dtype: float64"
      ]
     },
     "execution_count": 60,
     "metadata": {},
     "output_type": "execute_result"
    }
   ],
   "source": [
    "delta_modalities.groupby(['transition', '$\\Delta$ Modality'])['% Changing AS Exons'].sum()"
   ]
  },
  {
   "cell_type": "code",
   "execution_count": 61,
   "metadata": {
    "collapsed": false
   },
   "outputs": [
    {
     "data": {
      "image/png": "[encoded data removed]",
      "text/plain": [
       "<matplotlib.figure.Figure at 0x2b3722007990>"
      ]
     },
     "metadata": {},
     "output_type": "display_data"
    }
   ],
   "source": [
    "palette = sns.light_palette(MODALITY_TO_COLOR['bimodal'], n_colors=3, reverse=True) + ['k']\n",
    "sns.palplot(palette)"
   ]
  },
  {
   "cell_type": "code",
   "execution_count": 62,
   "metadata": {
    "collapsed": false
   },
   "outputs": [
    {
     "data": {
      "image/png": "[encoded data removed]",
      "text/plain": [
       "<matplotlib.figure.Figure at 0x2b374ba8e110>"
      ]
     },
     "metadata": {},
     "output_type": "display_data"
    }
   ],
   "source": [
    "fig, ax = plt.subplots(figsize=(2, 1.5))\n",
    "\n",
    "sns.barplot(x='transition', y='% Changing AS Exons', palette=palette,\n",
    "            hue=col, data=delta_modalities, ci=None, order=transitions_of_interest)\n",
    "ax.locator_params('y', nbins=4)\n",
    "ax.set(ylabel='% Changing AS Exons')\n",
    "\n",
    "sns.despine()\n",
    "fig.tight_layout()\n",
    "fig.savefig('{}/changing_modalities_barplot.pdf'.format(folder))\n",
    "\n",
    "# ax.set(ylim=(0, 1))\n",
    "# ax.legend_.set_visible(False)\n",
    "# fig.savefig('{}/changing_modalities_barplot_zoom.pdf'.format(folder))"
   ]
  },
  {
   "cell_type": "markdown",
   "metadata": {},
   "source": [
    "### Stacked bar plot"
   ]
  },
  {
   "cell_type": "code",
   "execution_count": 63,
   "metadata": {
    "collapsed": false
   },
   "outputs": [
    {
     "data": {
      "text/html": [
       "<div>\n",
       "<table border=\"1\" class=\"dataframe\">\n",
       "  <thead>\n",
       "    <tr style=\"text-align: right;\">\n",
       "      <th></th>\n",
       "      <th>transition</th>\n",
       "      <th>modality_x</th>\n",
       "      <th>modality_y</th>\n",
       "      <th># AS Exons</th>\n",
       "      <th>$\\Delta$ Modality</th>\n",
       "      <th>% Changing AS Exons</th>\n",
       "    </tr>\n",
       "  </thead>\n",
       "  <tbody>\n",
       "    <tr>\n",
       "      <th>0</th>\n",
       "      <td>iPSC-NPC</td>\n",
       "      <td>bimodal</td>\n",
       "      <td>excluded</td>\n",
       "      <td>239</td>\n",
       "      <td>Bimodal --&gt; X</td>\n",
       "      <td>15.600522</td>\n",
       "    </tr>\n",
       "    <tr>\n",
       "      <th>1</th>\n",
       "      <td>iPSC-NPC</td>\n",
       "      <td>bimodal</td>\n",
       "      <td>included</td>\n",
       "      <td>267</td>\n",
       "      <td>Bimodal --&gt; X</td>\n",
       "      <td>17.428198</td>\n",
       "    </tr>\n",
       "    <tr>\n",
       "      <th>2</th>\n",
       "      <td>iPSC-NPC</td>\n",
       "      <td>bimodal</td>\n",
       "      <td>uncategorized</td>\n",
       "      <td>2</td>\n",
       "      <td>Bimodal --&gt; X</td>\n",
       "      <td>0.130548</td>\n",
       "    </tr>\n",
       "    <tr>\n",
       "      <th>3</th>\n",
       "      <td>iPSC-NPC</td>\n",
       "      <td>excluded</td>\n",
       "      <td>bimodal</td>\n",
       "      <td>338</td>\n",
       "      <td>X --&gt; Bimodal</td>\n",
       "      <td>22.062663</td>\n",
       "    </tr>\n",
       "    <tr>\n",
       "      <th>4</th>\n",
       "      <td>iPSC-NPC</td>\n",
       "      <td>excluded</td>\n",
       "      <td>uncategorized</td>\n",
       "      <td>1</td>\n",
       "      <td>Other</td>\n",
       "      <td>0.065274</td>\n",
       "    </tr>\n",
       "    <tr>\n",
       "      <th>5</th>\n",
       "      <td>iPSC-NPC</td>\n",
       "      <td>included</td>\n",
       "      <td>bimodal</td>\n",
       "      <td>637</td>\n",
       "      <td>X --&gt; Bimodal</td>\n",
       "      <td>41.579634</td>\n",
       "    </tr>\n",
       "    <tr>\n",
       "      <th>6</th>\n",
       "      <td>iPSC-NPC</td>\n",
       "      <td>included</td>\n",
       "      <td>excluded</td>\n",
       "      <td>1</td>\n",
       "      <td>Other</td>\n",
       "      <td>0.065274</td>\n",
       "    </tr>\n",
       "    <tr>\n",
       "      <th>7</th>\n",
       "      <td>iPSC-NPC</td>\n",
       "      <td>included</td>\n",
       "      <td>uncategorized</td>\n",
       "      <td>3</td>\n",
       "      <td>Other</td>\n",
       "      <td>0.195822</td>\n",
       "    </tr>\n",
       "    <tr>\n",
       "      <th>8</th>\n",
       "      <td>iPSC-NPC</td>\n",
       "      <td>middle</td>\n",
       "      <td>included</td>\n",
       "      <td>1</td>\n",
       "      <td>Other</td>\n",
       "      <td>0.065274</td>\n",
       "    </tr>\n",
       "    <tr>\n",
       "      <th>9</th>\n",
       "      <td>iPSC-NPC</td>\n",
       "      <td>uncategorized</td>\n",
       "      <td>bimodal</td>\n",
       "      <td>38</td>\n",
       "      <td>X --&gt; Bimodal</td>\n",
       "      <td>2.480418</td>\n",
       "    </tr>\n",
       "    <tr>\n",
       "      <th>10</th>\n",
       "      <td>iPSC-NPC</td>\n",
       "      <td>uncategorized</td>\n",
       "      <td>excluded</td>\n",
       "      <td>3</td>\n",
       "      <td>Other</td>\n",
       "      <td>0.195822</td>\n",
       "    </tr>\n",
       "    <tr>\n",
       "      <th>11</th>\n",
       "      <td>iPSC-NPC</td>\n",
       "      <td>uncategorized</td>\n",
       "      <td>included</td>\n",
       "      <td>2</td>\n",
       "      <td>Other</td>\n",
       "      <td>0.130548</td>\n",
       "    </tr>\n",
       "    <tr>\n",
       "      <th>12</th>\n",
       "      <td>iPSC-MN</td>\n",
       "      <td>bimodal</td>\n",
       "      <td>excluded</td>\n",
       "      <td>147</td>\n",
       "      <td>Bimodal --&gt; X</td>\n",
       "      <td>13.881020</td>\n",
       "    </tr>\n",
       "    <tr>\n",
       "      <th>13</th>\n",
       "      <td>iPSC-MN</td>\n",
       "      <td>bimodal</td>\n",
       "      <td>included</td>\n",
       "      <td>154</td>\n",
       "      <td>Bimodal --&gt; X</td>\n",
       "      <td>14.542021</td>\n",
       "    </tr>\n",
       "    <tr>\n",
       "      <th>14</th>\n",
       "      <td>iPSC-MN</td>\n",
       "      <td>bimodal</td>\n",
       "      <td>uncategorized</td>\n",
       "      <td>1</td>\n",
       "      <td>Bimodal --&gt; X</td>\n",
       "      <td>0.094429</td>\n",
       "    </tr>\n",
       "    <tr>\n",
       "      <th>15</th>\n",
       "      <td>iPSC-MN</td>\n",
       "      <td>excluded</td>\n",
       "      <td>bimodal</td>\n",
       "      <td>243</td>\n",
       "      <td>X --&gt; Bimodal</td>\n",
       "      <td>22.946176</td>\n",
       "    </tr>\n",
       "    <tr>\n",
       "      <th>16</th>\n",
       "      <td>iPSC-MN</td>\n",
       "      <td>excluded</td>\n",
       "      <td>included</td>\n",
       "      <td>8</td>\n",
       "      <td>Other</td>\n",
       "      <td>0.755430</td>\n",
       "    </tr>\n",
       "    <tr>\n",
       "      <th>17</th>\n",
       "      <td>iPSC-MN</td>\n",
       "      <td>excluded</td>\n",
       "      <td>uncategorized</td>\n",
       "      <td>3</td>\n",
       "      <td>Other</td>\n",
       "      <td>0.283286</td>\n",
       "    </tr>\n",
       "    <tr>\n",
       "      <th>18</th>\n",
       "      <td>iPSC-MN</td>\n",
       "      <td>included</td>\n",
       "      <td>bimodal</td>\n",
       "      <td>458</td>\n",
       "      <td>X --&gt; Bimodal</td>\n",
       "      <td>43.248347</td>\n",
       "    </tr>\n",
       "    <tr>\n",
       "      <th>19</th>\n",
       "      <td>iPSC-MN</td>\n",
       "      <td>included</td>\n",
       "      <td>excluded</td>\n",
       "      <td>1</td>\n",
       "      <td>Other</td>\n",
       "      <td>0.094429</td>\n",
       "    </tr>\n",
       "    <tr>\n",
       "      <th>20</th>\n",
       "      <td>iPSC-MN</td>\n",
       "      <td>included</td>\n",
       "      <td>uncategorized</td>\n",
       "      <td>1</td>\n",
       "      <td>Other</td>\n",
       "      <td>0.094429</td>\n",
       "    </tr>\n",
       "    <tr>\n",
       "      <th>21</th>\n",
       "      <td>iPSC-MN</td>\n",
       "      <td>middle</td>\n",
       "      <td>included</td>\n",
       "      <td>1</td>\n",
       "      <td>Other</td>\n",
       "      <td>0.094429</td>\n",
       "    </tr>\n",
       "    <tr>\n",
       "      <th>22</th>\n",
       "      <td>iPSC-MN</td>\n",
       "      <td>uncategorized</td>\n",
       "      <td>bimodal</td>\n",
       "      <td>35</td>\n",
       "      <td>X --&gt; Bimodal</td>\n",
       "      <td>3.305005</td>\n",
       "    </tr>\n",
       "    <tr>\n",
       "      <th>23</th>\n",
       "      <td>iPSC-MN</td>\n",
       "      <td>uncategorized</td>\n",
       "      <td>excluded</td>\n",
       "      <td>5</td>\n",
       "      <td>Other</td>\n",
       "      <td>0.472144</td>\n",
       "    </tr>\n",
       "    <tr>\n",
       "      <th>24</th>\n",
       "      <td>iPSC-MN</td>\n",
       "      <td>uncategorized</td>\n",
       "      <td>included</td>\n",
       "      <td>2</td>\n",
       "      <td>Other</td>\n",
       "      <td>0.188857</td>\n",
       "    </tr>\n",
       "  </tbody>\n",
       "</table>\n",
       "</div>"
      ],
      "text/plain": [
       "   transition     modality_x     modality_y  # AS Exons $\\Delta$ Modality  \\\n",
       "0    iPSC-NPC        bimodal       excluded         239     Bimodal --> X   \n",
       "1    iPSC-NPC        bimodal       included         267     Bimodal --> X   \n",
       "2    iPSC-NPC        bimodal  uncategorized           2     Bimodal --> X   \n",
       "3    iPSC-NPC       excluded        bimodal         338     X --> Bimodal   \n",
       "4    iPSC-NPC       excluded  uncategorized           1             Other   \n",
       "5    iPSC-NPC       included        bimodal         637     X --> Bimodal   \n",
       "6    iPSC-NPC       included       excluded           1             Other   \n",
       "7    iPSC-NPC       included  uncategorized           3             Other   \n",
       "8    iPSC-NPC         middle       included           1             Other   \n",
       "9    iPSC-NPC  uncategorized        bimodal          38     X --> Bimodal   \n",
       "10   iPSC-NPC  uncategorized       excluded           3             Other   \n",
       "11   iPSC-NPC  uncategorized       included           2             Other   \n",
       "12    iPSC-MN        bimodal       excluded         147     Bimodal --> X   \n",
       "13    iPSC-MN        bimodal       included         154     Bimodal --> X   \n",
       "14    iPSC-MN        bimodal  uncategorized           1     Bimodal --> X   \n",
       "15    iPSC-MN       excluded        bimodal         243     X --> Bimodal   \n",
       "16    iPSC-MN       excluded       included           8             Other   \n",
       "17    iPSC-MN       excluded  uncategorized           3             Other   \n",
       "18    iPSC-MN       included        bimodal         458     X --> Bimodal   \n",
       "19    iPSC-MN       included       excluded           1             Other   \n",
       "20    iPSC-MN       included  uncategorized           1             Other   \n",
       "21    iPSC-MN         middle       included           1             Other   \n",
       "22    iPSC-MN  uncategorized        bimodal          35     X --> Bimodal   \n",
       "23    iPSC-MN  uncategorized       excluded           5             Other   \n",
       "24    iPSC-MN  uncategorized       included           2             Other   \n",
       "\n",
       "    % Changing AS Exons  \n",
       "0             15.600522  \n",
       "1             17.428198  \n",
       "2              0.130548  \n",
       "3             22.062663  \n",
       "4              0.065274  \n",
       "5             41.579634  \n",
       "6              0.065274  \n",
       "7              0.195822  \n",
       "8              0.065274  \n",
       "9              2.480418  \n",
       "10             0.195822  \n",
       "11             0.130548  \n",
       "12            13.881020  \n",
       "13            14.542021  \n",
       "14             0.094429  \n",
       "15            22.946176  \n",
       "16             0.755430  \n",
       "17             0.283286  \n",
       "18            43.248347  \n",
       "19             0.094429  \n",
       "20             0.094429  \n",
       "21             0.094429  \n",
       "22             3.305005  \n",
       "23             0.472144  \n",
       "24             0.188857  "
      ]
     },
     "execution_count": 63,
     "metadata": {},
     "output_type": "execute_result"
    }
   ],
   "source": [
    "delta_modalities['$\\Delta$ Modality'] = pd.Categorical(delta_modalities['$\\Delta$ Modality'], \n",
    "                                                       categories=[ 'X --> Bimodal', 'Bimodal --> X', 'Other'], ordered=True)\n",
    "# delta_modalities['transition'] = pd.Categorical(delta_modalities['transition'], \n",
    "#                                                        categories=transitions_of_interest, ordered=True)\n",
    "delta_modalities"
   ]
  },
  {
   "cell_type": "code",
   "execution_count": 64,
   "metadata": {
    "collapsed": false
   },
   "outputs": [
    {
     "data": {
      "text/plain": [
       "transition  $\\Delta$ Modality\n",
       "iPSC-NPC    X --> Bimodal        66.122715\n",
       "            Bimodal --> X        33.159269\n",
       "            Other                 0.718016\n",
       "iPSC-MN     X --> Bimodal        69.499528\n",
       "            Bimodal --> X        28.517469\n",
       "            Other                 1.983003\n",
       "Name: % Changing AS Exons, dtype: float64"
      ]
     },
     "execution_count": 64,
     "metadata": {},
     "output_type": "execute_result"
    }
   ],
   "source": [
    "changing_as_exons = delta_modalities.groupby(['transition', col])['% Changing AS Exons'].sum()\n",
    "changing_as_exons"
   ]
  },
  {
   "cell_type": "code",
   "execution_count": 65,
   "metadata": {
    "collapsed": false
   },
   "outputs": [
    {
     "data": {
      "text/plain": [
       "transition  $\\Delta$ Modality\n",
       "iPSC-NPC    X --> Bimodal         66.122715\n",
       "            Bimodal --> X         99.281984\n",
       "            Other                100.000000\n",
       "iPSC-MN     X --> Bimodal         69.499528\n",
       "            Bimodal --> X         98.016997\n",
       "            Other                100.000000\n",
       "Name: % Changing AS Exons, dtype: float64"
      ]
     },
     "execution_count": 65,
     "metadata": {},
     "output_type": "execute_result"
    }
   ],
   "source": [
    "cumulative_sum = changing_as_exons.groupby(level=0).cumsum()\n",
    "cumulative_sum"
   ]
  },
  {
   "cell_type": "code",
   "execution_count": 66,
   "metadata": {
    "collapsed": false
   },
   "outputs": [
    {
     "data": {
      "text/plain": [
       "transition  $\\Delta$ Modality\n",
       "iPSC-NPC    X --> Bimodal         0.000000\n",
       "            Bimodal --> X        66.122715\n",
       "            Other                99.281984\n",
       "iPSC-MN     X --> Bimodal         0.000000\n",
       "            Bimodal --> X        69.499528\n",
       "            Other                98.016997\n",
       "Name: % Changing AS Exons, dtype: float64"
      ]
     },
     "execution_count": 66,
     "metadata": {},
     "output_type": "execute_result"
    }
   ],
   "source": [
    "bottoms = cumulative_sum - changing_as_exons\n",
    "bottoms"
   ]
  },
  {
   "cell_type": "code",
   "execution_count": 67,
   "metadata": {
    "collapsed": false
   },
   "outputs": [
    {
     "data": {
      "text/plain": [
       "CategoricalIndex([u'iPSC-NPC', u'iPSC-MN'], categories=[u'iPSC-NPC', u'iPSC-MN'], ordered=True, name=u'transition', dtype='category')"
      ]
     },
     "execution_count": 67,
     "metadata": {},
     "output_type": "execute_result"
    }
   ],
   "source": [
    "bottoms.index.levels[0]"
   ]
  },
  {
   "cell_type": "code",
   "execution_count": 68,
   "metadata": {
    "collapsed": true
   },
   "outputs": [],
   "source": [
    "idx = pd.IndexSlice"
   ]
  },
  {
   "cell_type": "code",
   "execution_count": 69,
   "metadata": {
    "collapsed": false
   },
   "outputs": [
    {
     "name": "stdout",
     "output_type": "stream",
     "text": [
      "X --> Bimodal\n",
      "Bimodal --> X\n",
      "Other\n"
     ]
    },
    {
     "data": {
      "image/png": "[encoded data removed]",
      "text/plain": [
       "<matplotlib.figure.Figure at 0x2b371beb2210>"
      ]
     },
     "metadata": {},
     "output_type": "display_data"
    }
   ],
   "source": [
    "fig, ax = plt.subplots(figsize=(1.75, 1.5))\n",
    "width = 0.6\n",
    "\n",
    "\n",
    "for i, (delta_modality, s) in enumerate(changing_as_exons.groupby(level=1)):\n",
    "    six.print_(delta_modality)\n",
    "    color = palette[i]\n",
    "    x = np.arange(s.shape[0]) + 0.1\n",
    "\n",
    "    bottom = bottoms.loc[idx[:, delta_modality]]\n",
    "    ax.bar(x, s, bottom=bottom, label=delta_modality, color=color, width=width)\n",
    "ax.set(xticks=x + 0.3, xticklabels=bottoms.index.levels[0])\n",
    "ax.legend()\n",
    "sns.despine()\n",
    "fig.tight_layout()\n",
    "fig.savefig('{}/changing_modalities_bimodal_barplot_stacked.pdf'.format(folder))\n"
   ]
  },
  {
   "cell_type": "markdown",
   "metadata": {},
   "source": [
    "### Pie chart for graphic summary"
   ]
  },
  {
   "cell_type": "code",
   "execution_count": 70,
   "metadata": {
    "collapsed": false
   },
   "outputs": [
    {
     "data": {
      "image/png": "[encoded data removed]",
      "text/plain": [
       "<matplotlib.figure.Figure at 0x2b374ba66bd0>"
      ]
     },
     "metadata": {},
     "output_type": "display_data"
    }
   ],
   "source": [
    "fig, ax = plt.subplots(figsize=(2, 2))\n",
    "\n",
    "ax.pie([.75, .25], startangle=90, colors=['.20', MODALITY_TO_COLOR['bimodal']], \n",
    "       wedgeprops = { 'linewidth' : 2, 'edgecolor':'white' })\n",
    "fig.savefig('{}/bimodal_unimodal_pie_chart.pdf'.format(folder))"
   ]
  },
  {
   "cell_type": "code",
   "execution_count": 71,
   "metadata": {
    "collapsed": false
   },
   "outputs": [
    {
     "data": {
      "image/png": "[encoded data removed]",
      "text/plain": [
       "<matplotlib.figure.Figure at 0x2b371be99c50>"
      ]
     },
     "metadata": {},
     "output_type": "display_data"
    }
   ],
   "source": [
    "fig, ax = plt.subplots(figsize=(2, 2))\n",
    "\n",
    "ax.pie([.8, .20], startangle=60, colors=['.20', MODALITY_TO_COLOR['bimodal']],\n",
    "       wedgeprops = { 'linewidth' : 2, 'edgecolor':'white' })\n",
    "fig.savefig('{}/changing_events_pie_chart.pdf'.format(folder))"
   ]
  },
  {
   "cell_type": "code",
   "execution_count": 72,
   "metadata": {
    "collapsed": false
   },
   "outputs": [
    {
     "data": {
      "text/plain": [
       "phenotype\n",
       "MN       6597\n",
       "NPC      9414\n",
       "iPSC    12661\n",
       "dtype: int64"
      ]
     },
     "execution_count": 72,
     "metadata": {},
     "output_type": "execute_result"
    }
   ],
   "source": [
    "study.supplemental.modalities_tidy.groupby('phenotype').size()"
   ]
  },
  {
   "cell_type": "code",
   "execution_count": null,
   "metadata": {
    "collapsed": true
   },
   "outputs": [],
   "source": []
  },
  {
   "cell_type": "markdown",
   "metadata": {},
   "source": [
    "## GO enrichment"
   ]
  },
  {
   "cell_type": "code",
   "execution_count": 73,
   "metadata": {
    "collapsed": true
   },
   "outputs": [],
   "source": [
    "study.splicing.feature_expression_id_col = 'ensembl_id'"
   ]
  },
  {
   "cell_type": "code",
   "execution_count": 76,
   "metadata": {
    "collapsed": false
   },
   "outputs": [
    {
     "name": "stdout",
     "output_type": "stream",
     "text": [
      "(11683017, 6)\n"
     ]
    },
    {
     "data": {
      "text/html": [
       "<div>\n",
       "<table border=\"1\" class=\"dataframe\">\n",
       "  <thead>\n",
       "    <tr style=\"text-align: right;\">\n",
       "      <th></th>\n",
       "      <th>Ensembl Gene ID</th>\n",
       "      <th>Associated Gene Name</th>\n",
       "      <th>GOSlim GOA Accession(s)</th>\n",
       "      <th>GO Term Accession</th>\n",
       "      <th>GO Term Name</th>\n",
       "      <th>GO domain</th>\n",
       "    </tr>\n",
       "  </thead>\n",
       "  <tbody>\n",
       "    <tr>\n",
       "      <th>0</th>\n",
       "      <td>ENSG00000177275</td>\n",
       "      <td>OR2AJ1</td>\n",
       "      <td>GO:0008150</td>\n",
       "      <td>GO:0007186</td>\n",
       "      <td>G-protein coupled receptor signaling pathway</td>\n",
       "      <td>biological_process</td>\n",
       "    </tr>\n",
       "    <tr>\n",
       "      <th>1</th>\n",
       "      <td>ENSG00000177275</td>\n",
       "      <td>OR2AJ1</td>\n",
       "      <td>GO:0003674</td>\n",
       "      <td>GO:0007186</td>\n",
       "      <td>G-protein coupled receptor signaling pathway</td>\n",
       "      <td>biological_process</td>\n",
       "    </tr>\n",
       "    <tr>\n",
       "      <th>2</th>\n",
       "      <td>ENSG00000177275</td>\n",
       "      <td>OR2AJ1</td>\n",
       "      <td>GO:0005575</td>\n",
       "      <td>GO:0007186</td>\n",
       "      <td>G-protein coupled receptor signaling pathway</td>\n",
       "      <td>biological_process</td>\n",
       "    </tr>\n",
       "    <tr>\n",
       "      <th>3</th>\n",
       "      <td>ENSG00000177275</td>\n",
       "      <td>OR2AJ1</td>\n",
       "      <td>GO:0005623</td>\n",
       "      <td>GO:0007186</td>\n",
       "      <td>G-protein coupled receptor signaling pathway</td>\n",
       "      <td>biological_process</td>\n",
       "    </tr>\n",
       "    <tr>\n",
       "      <th>4</th>\n",
       "      <td>ENSG00000177275</td>\n",
       "      <td>OR2AJ1</td>\n",
       "      <td>GO:0005886</td>\n",
       "      <td>GO:0007186</td>\n",
       "      <td>G-protein coupled receptor signaling pathway</td>\n",
       "      <td>biological_process</td>\n",
       "    </tr>\n",
       "  </tbody>\n",
       "</table>\n",
       "</div>"
      ],
      "text/plain": [
       "   Ensembl Gene ID Associated Gene Name GOSlim GOA Accession(s)  \\\n",
       "0  ENSG00000177275               OR2AJ1              GO:0008150   \n",
       "1  ENSG00000177275               OR2AJ1              GO:0003674   \n",
       "2  ENSG00000177275               OR2AJ1              GO:0005575   \n",
       "3  ENSG00000177275               OR2AJ1              GO:0005623   \n",
       "4  ENSG00000177275               OR2AJ1              GO:0005886   \n",
       "\n",
       "  GO Term Accession                                  GO Term Name  \\\n",
       "0        GO:0007186  G-protein coupled receptor signaling pathway   \n",
       "1        GO:0007186  G-protein coupled receptor signaling pathway   \n",
       "2        GO:0007186  G-protein coupled receptor signaling pathway   \n",
       "3        GO:0007186  G-protein coupled receptor signaling pathway   \n",
       "4        GO:0007186  G-protein coupled receptor signaling pathway   \n",
       "\n",
       "            GO domain  \n",
       "0  biological_process  \n",
       "1  biological_process  \n",
       "2  biological_process  \n",
       "3  biological_process  \n",
       "4  biological_process  "
      ]
     },
     "execution_count": 76,
     "metadata": {},
     "output_type": "execute_result"
    }
   ],
   "source": [
    "gene_ontology = pd.read_csv('/projects/ps-yeolab/obotvinnik/flotilla_projects/hg19/gene_ontology.csv', index_col=0)\n",
    "print(gene_ontology.shape)\n",
    "gene_ontology.head()"
   ]
  },
  {
   "cell_type": "code",
   "execution_count": 74,
   "metadata": {
    "collapsed": false
   },
   "outputs": [
    {
     "ename": "AttributeError",
     "evalue": "'Study' object has no attribute 'gene_ontology'",
     "output_type": "error",
     "traceback": [
      "\u001b[1;31m---------------------------------------------------------------------------\u001b[0m",
      "\u001b[1;31mAttributeError\u001b[0m                            Traceback (most recent call last)",
      "\u001b[1;32m<ipython-input-74-2a698cf73c26>\u001b[0m in \u001b[0;36m<module>\u001b[1;34m()\u001b[0m\n\u001b[0;32m      8\u001b[0m     \u001b[0mbackground\u001b[0m \u001b[1;33m=\u001b[0m \u001b[0mstudy\u001b[0m\u001b[1;33m.\u001b[0m\u001b[0msplicing\u001b[0m\u001b[1;33m.\u001b[0m\u001b[0msplicing_to_expression_id\u001b[0m\u001b[1;33m(\u001b[0m\u001b[0mbackground_events\u001b[0m\u001b[1;33m)\u001b[0m\u001b[1;33m\u001b[0m\u001b[0m\n\u001b[0;32m      9\u001b[0m \u001b[1;33m\u001b[0m\u001b[0m\n\u001b[1;32m---> 10\u001b[1;33m     \u001b[0mgo_df\u001b[0m \u001b[1;33m=\u001b[0m \u001b[0mstudy\u001b[0m\u001b[1;33m.\u001b[0m\u001b[0mgo_enrichment\u001b[0m\u001b[1;33m(\u001b[0m\u001b[0mforeground\u001b[0m\u001b[1;33m,\u001b[0m \u001b[0mbackground\u001b[0m\u001b[1;33m,\u001b[0m \u001b[0mdomain\u001b[0m\u001b[1;33m=\u001b[0m\u001b[1;34m'biological_process'\u001b[0m\u001b[1;33m)\u001b[0m\u001b[1;33m\u001b[0m\u001b[0m\n\u001b[0m\u001b[0;32m     11\u001b[0m \u001b[1;33m\u001b[0m\u001b[0m\n\u001b[0;32m     12\u001b[0m \u001b[1;33m\u001b[0m\u001b[0m\n",
      "\u001b[1;32m/home/obotvinnik/workspace-git/flotilla/flotilla/study.pyc\u001b[0m in \u001b[0;36mgo_enrichment\u001b[1;34m(self, feature_ids, background, domain, p_value_cutoff, min_feature_size, min_background_size)\u001b[0m\n\u001b[0;32m   1725\u001b[0m                           'expressed genes')\n\u001b[0;32m   1726\u001b[0m             \u001b[0mbackground\u001b[0m \u001b[1;33m=\u001b[0m \u001b[0mself\u001b[0m\u001b[1;33m.\u001b[0m\u001b[0mexpression\u001b[0m\u001b[1;33m.\u001b[0m\u001b[0mdata\u001b[0m\u001b[1;33m.\u001b[0m\u001b[0mcolumns\u001b[0m\u001b[1;33m\u001b[0m\u001b[0m\n\u001b[1;32m-> 1727\u001b[1;33m         return self.gene_ontology.enrichment(\n\u001b[0m\u001b[0;32m   1728\u001b[0m             \u001b[0mfeature_ids\u001b[0m\u001b[1;33m,\u001b[0m \u001b[0mbackground\u001b[0m\u001b[1;33m=\u001b[0m\u001b[0mbackground\u001b[0m\u001b[1;33m,\u001b[0m\u001b[1;33m\u001b[0m\u001b[0m\n\u001b[0;32m   1729\u001b[0m             \u001b[0mcross_reference\u001b[0m\u001b[1;33m=\u001b[0m\u001b[0mself\u001b[0m\u001b[1;33m.\u001b[0m\u001b[0mexpression\u001b[0m\u001b[1;33m.\u001b[0m\u001b[0mfeature_renamer_series\u001b[0m\u001b[1;33m,\u001b[0m\u001b[1;33m\u001b[0m\u001b[0m\n",
      "\u001b[1;31mAttributeError\u001b[0m: 'Study' object has no attribute 'gene_ontology'"
     ]
    }
   ],
   "source": [
    "go_dfs = []\n",
    "\n",
    "for transition, df in modality_transitions_subset.groupby('transition'):\n",
    "    background_events = df['event_id']\n",
    "    foreground_events = background_events.loc[df.modality_x != df.modality_y]\n",
    "    \n",
    "    foreground = study.splicing.splicing_to_expression_id(foreground_events)\n",
    "    background = study.splicing.splicing_to_expression_id(background_events)\n",
    "    \n",
    "    go_df = study.go_enrichment(foreground, background, domain='biological_process')\n",
    "    \n",
    "    \n",
    "    fig, ax = plt.subplots(figsize=(1, 1))\n",
    "    n = 5\n",
    "    bottom = np.arange(n)\n",
    "    height = go_df['bonferonni_corrected_negative_log_p_value'].iloc[:n]\n",
    "    ax.barh(bottom, height, color='gray', zorder=-1)\n",
    "    ax.set(yticklabels=go_df['go_name'].iloc[:n], \n",
    "           xlabel='$\\log(q)$', title=transition, yticks=bottom + 0.4)\n",
    "    ax.grid(axis='x', color='white', zorder=100, linewidth=0.5)\n",
    "    sns.despine()\n",
    "    fig.savefig('{}/changing_events_{}_go_enrichment.pdf'.format(folder, transition))\n",
    "    \n",
    "    go_df['transition'] = transition\n",
    "    go_dfs.append(go_df.reset_index())\n",
    "go = pd.concat(go_dfs)\n",
    "go.head()"
   ]
  },
  {
   "cell_type": "markdown",
   "metadata": {},
   "source": [
    "### Try with the \"world\" of background events is equal between these (all events with 10+ cells in all celltypes)"
   ]
  },
  {
   "cell_type": "code",
   "execution_count": null,
   "metadata": {
    "collapsed": false
   },
   "outputs": [],
   "source": [
    "modality_transitions_subset_detected_in_all = modality_transitions_subset.loc[modality_transitions_subset.event_id.isin(events_detected_in_all)]\n",
    "\n",
    "go_dfs = []\n",
    "\n",
    "for transition, df in modality_transitions_subset_detected_in_all.groupby('transition'):\n",
    "    background_events = df['event_id']\n",
    "    foreground_events = background_events.loc[df.modality_x != df.modality_y]\n",
    "    \n",
    "    foreground = study.splicing.splicing_to_expression_id(foreground_events)\n",
    "    background = study.splicing.splicing_to_expression_id(background_events)\n",
    "    \n",
    "    go_df = study.go_enrichment(foreground, background, domain='biological_process')\n",
    "    \n",
    "    \n",
    "    fig, ax = plt.subplots(figsize=(3, 1.5))\n",
    "    n = 5\n",
    "    bottom = np.arange(n)\n",
    "    height = go_df['bonferonni_corrected_negative_log_p_value'].iloc[:n]\n",
    "    ax.barh(bottom, height, color='gray')\n",
    "    ax.set(yticklabels=go_df['go_name'].iloc[:n], \n",
    "           xlabel='$\\log(q)$', title=transition, yticks=bottom + 0.4)\n",
    "    sns.despine()\n",
    "    fig.savefig('{}/changing_events_{}_go_enrichment_detected_inall.pdf'.format(folder, transition))\n",
    "    \n",
    "#     go_df['transition'] = transition\n",
    "#     go_dfs.append(go_df.reset_index())\n",
    "# go = pd.concat(go_dfs)\n",
    "# go.head()"
   ]
  },
  {
   "cell_type": "code",
   "execution_count": null,
   "metadata": {
    "collapsed": false
   },
   "outputs": [],
   "source": [
    "changing_events_unique_to_transition = \\\n",
    "    {'iPSC-MN_unique' : ipsc_mn_changing_events_detected_in_all.difference(ipsc_npc_changing_events_detected_in_all),\n",
    "     'iPSC-NPC_and_iPSC-MN' : ipsc_mn_changing_events_detected_in_all.intersection(ipsc_npc_changing_events_detected_in_all),\n",
    "     'iPSC-NPC_unique' : ipsc_npc_changing_events_detected_in_all.difference(ipsc_mn_changing_events_detected_in_all)\n",
    "    }\n",
    "    \n",
    "background_events = events_detected_in_all\n",
    "\n",
    "for transition, foreground_events in changing_events_unique_to_transition.items():    \n",
    "    foreground = study.splicing.splicing_to_expression_id(foreground_events)\n",
    "    background = study.splicing.splicing_to_expression_id(background_events)\n",
    "    \n",
    "    go_df = study.go_enrichment(foreground, background, domain='biological_process')\n",
    "    \n",
    "    fig, ax = plt.subplots(figsize=(3, 1.5))\n",
    "    n = 5\n",
    "    bottom = np.arange(n)\n",
    "    height = go_df['bonferonni_corrected_negative_log_p_value'].iloc[:n]\n",
    "    ax.barh(bottom, height, color='gray')\n",
    "    ax.set(yticklabels=go_df['go_name'].iloc[:n], \n",
    "           xlabel='$\\log(q)$', title=transition, yticks=bottom + 0.4)\n",
    "    sns.despine()\n",
    "    fig.savefig('{}/changing_events_{}_go_enrichment_detected_inall.pdf'.format(folder, transition))\n",
    "    \n",
    "#     go_df['transition'] = transition\n",
    "#     go_dfs.append(go_df.reset_index())\n",
    "# go = pd.concat(go_dfs)\n",
    "# go.head()"
   ]
  },
  {
   "cell_type": "code",
   "execution_count": null,
   "metadata": {
    "collapsed": true
   },
   "outputs": [],
   "source": []
  },
  {
   "cell_type": "code",
   "execution_count": null,
   "metadata": {
    "collapsed": true
   },
   "outputs": [],
   "source": []
  },
  {
   "cell_type": "code",
   "execution_count": null,
   "metadata": {
    "collapsed": true
   },
   "outputs": [],
   "source": []
  }
 ],
 "metadata": {
  "kernelspec": {
   "display_name": "Python 2",
   "language": "python",
   "name": "python2"
  },
  "language_info": {
   "codemirror_mode": {
    "name": "ipython",
    "version": 2
   },
   "file_extension": ".py",
   "mimetype": "text/x-python",
   "name": "python",
   "nbconvert_exporter": "python",
   "pygments_lexer": "ipython2",
   "version": "2.7.11"
  }
 },
 "nbformat": 4,
 "nbformat_minor": 0
}
