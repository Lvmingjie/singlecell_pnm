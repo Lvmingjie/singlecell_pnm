{
 "cells": [
  {
   "cell_type": "code",
   "execution_count": 1,
   "metadata": {
    "collapsed": false
   },
   "outputs": [
    {
     "name": "stdout",
     "output_type": "stream",
     "text": [
      "2017-01-15 12:20:06\tReading datapackage from /projects/ps-yeolab/obotvinnik/flotilla_projects/singlecell_pnm_figure5_voyages/datapackage.json\n",
      "2017-01-15 12:20:06\tParsing datapackage to create a Study object\n",
      "https://s3-us-west-2.amazonaws.com/flotilla-projects/ercc/ERCC_Controls.txt has not been downloaded before.\n",
      "\tDownloading now to /home/obotvinnik/flotilla_projects/hg19/ERCC_Controls.txt\n"
     ]
    },
    {
     "name": "stderr",
     "output_type": "stream",
     "text": [
      "/home/obotvinnik/anaconda/lib/python2.7/site-packages/sklearn/cross_validation.py:44: DeprecationWarning: This module was deprecated in version 0.18 in favor of the model_selection module into which all the refactored classes and functions are moved. Also note that the interface of the new CV iterators are different from that of this module. This module will be removed in 0.20.\n",
      "  \"This module will be removed in 0.20.\", DeprecationWarning)\n",
      "Error loading species hg19 data: HTTP Error 404: Not Found"
     ]
    },
    {
     "name": "stdout",
     "output_type": "stream",
     "text": [
      "2017-01-15 12:20:59 \tInitializing Study\n",
      "2017-01-15 12:20:59 \tInitializing Predictor configuration manager for Study\n",
      "2017-01-15 12:20:59\tPredictor ExtraTreesClassifier is of type <class 'sklearn.ensemble.forest.ExtraTreesClassifier'>\n",
      "2017-01-15 12:20:59\tAdded ExtraTreesClassifier to default predictors\n",
      "2017-01-15 12:20:59\tPredictor ExtraTreesRegressor is of type <class 'sklearn.ensemble.forest.ExtraTreesRegressor'>\n",
      "2017-01-15 12:20:59\tAdded ExtraTreesRegressor to default predictors\n",
      "2017-01-15 12:20:59\tPredictor GradientBoostingClassifier is of type <class 'sklearn.ensemble.gradient_boosting.GradientBoostingClassifier'>\n",
      "2017-01-15 12:20:59\tAdded GradientBoostingClassifier to default predictors\n",
      "2017-01-15 12:20:59\tPredictor GradientBoostingRegressor is of type <class 'sklearn.ensemble.gradient_boosting.GradientBoostingRegressor'>\n",
      "2017-01-15 12:20:59\tAdded GradientBoostingRegressor to default predictors\n",
      "2017-01-15 12:20:59 \tLoading metadata\n",
      "2017-01-15 12:20:59\tLoading expression data\n",
      "2017-01-15 12:20:59\tInitializing expression\n",
      "2017-01-15 12:21:00\tDone initializing expression\n",
      "2017-01-15 12:21:03\tLoading splicing data\n",
      "2017-01-15 12:21:03\tInitializing splicing\n",
      "2017-01-15 12:21:03\tDone initializing splicing\n",
      "2017-01-15 12:21:03\tSuccessfully initialized a Study object!\n"
     ]
    }
   ],
   "source": [
    "import matplotlib.pyplot as plt\n",
    "import seaborn as sns\n",
    "import numpy as np\n",
    "import pandas as pd\n",
    "import six\n",
    "\n",
    "from anchor.visualize import MODALITY_TO_COLOR, MODALITY_ORDER, MODALITY_PALETTE\n",
    "modality_order = MODALITY_ORDER\n",
    "\n",
    "\n",
    "%matplotlib inline\n",
    "\n",
    "%load_ext autoreload\n",
    "%autoreload 2\n",
    "\n",
    "folder = 'figures' #'/home/obotvinnik/Dropbox/figures2/singlecell_pnm/figure4_voyages'\n",
    "\n",
    "import flotilla\n",
    "\n",
    "flotilla_dir = '/projects/ps-yeolab/obotvinnik/flotilla_projects'\n",
    "study = flotilla.embark('singlecell_pnm_figure5_voyages', flotilla_dir=flotilla_dir)"
   ]
  },
  {
   "cell_type": "code",
   "execution_count": 30,
   "metadata": {
    "collapsed": false
   },
   "outputs": [],
   "source": [
    "sns.set(style='white', context='paper', rc={'font.sans-serif':'Arial', 'pdf.fonttype': 42})\n"
   ]
  },
  {
   "cell_type": "code",
   "execution_count": 31,
   "metadata": {
    "collapsed": false
   },
   "outputs": [],
   "source": [
    "figure_folder = '{}/03_large_voyages'.format(folder)\n"
   ]
  },
  {
   "cell_type": "code",
   "execution_count": 32,
   "metadata": {
    "collapsed": true
   },
   "outputs": [],
   "source": [
    "rm -rf $figure_folder"
   ]
  },
  {
   "cell_type": "code",
   "execution_count": 33,
   "metadata": {
    "collapsed": true
   },
   "outputs": [],
   "source": [
    "mkdir $figure_folder"
   ]
  },
  {
   "cell_type": "code",
   "execution_count": 34,
   "metadata": {
    "collapsed": false
   },
   "outputs": [
    {
     "data": {
      "text/html": [
       "<div>\n",
       "<table border=\"1\" class=\"dataframe\">\n",
       "  <thead>\n",
       "    <tr style=\"text-align: right;\">\n",
       "      <th></th>\n",
       "      <th>event_id</th>\n",
       "      <th>$\\Delta x$</th>\n",
       "      <th>$\\Delta y$</th>\n",
       "      <th>magnitude</th>\n",
       "      <th>group1</th>\n",
       "      <th>group2</th>\n",
       "      <th>direction</th>\n",
       "      <th>transition</th>\n",
       "      <th>group1_modality</th>\n",
       "      <th>group2_modality</th>\n",
       "    </tr>\n",
       "  </thead>\n",
       "  <tbody>\n",
       "    <tr>\n",
       "      <th>0</th>\n",
       "      <td>isoform1=junction:chr10:101163392-101165512:-|...</td>\n",
       "      <td>0.000000</td>\n",
       "      <td>0.033333</td>\n",
       "      <td>0.033333</td>\n",
       "      <td>iPSC</td>\n",
       "      <td>NPC</td>\n",
       "      <td>$\\nwarrow$</td>\n",
       "      <td>iPSC-NPC</td>\n",
       "      <td>included</td>\n",
       "      <td>included</td>\n",
       "    </tr>\n",
       "    <tr>\n",
       "      <th>1</th>\n",
       "      <td>isoform1=junction:chr10:101163392-101165512:-|...</td>\n",
       "      <td>0.000000</td>\n",
       "      <td>0.033333</td>\n",
       "      <td>0.033333</td>\n",
       "      <td>iPSC</td>\n",
       "      <td>MN</td>\n",
       "      <td>$\\nwarrow$</td>\n",
       "      <td>iPSC-MN</td>\n",
       "      <td>included</td>\n",
       "      <td>included</td>\n",
       "    </tr>\n",
       "    <tr>\n",
       "      <th>2</th>\n",
       "      <td>isoform1=junction:chr10:101163392-101165512:-|...</td>\n",
       "      <td>0.000000</td>\n",
       "      <td>0.000000</td>\n",
       "      <td>0.000000</td>\n",
       "      <td>NPC</td>\n",
       "      <td>MN</td>\n",
       "      <td>NaN</td>\n",
       "      <td>NPC-MN</td>\n",
       "      <td>included</td>\n",
       "      <td>included</td>\n",
       "    </tr>\n",
       "    <tr>\n",
       "      <th>3</th>\n",
       "      <td>isoform1=junction:chr10:101476219-101480743:-|...</td>\n",
       "      <td>0.166667</td>\n",
       "      <td>-0.041667</td>\n",
       "      <td>0.171796</td>\n",
       "      <td>iPSC</td>\n",
       "      <td>NPC</td>\n",
       "      <td>$\\searrow$</td>\n",
       "      <td>iPSC-NPC</td>\n",
       "      <td>included</td>\n",
       "      <td>bimodal</td>\n",
       "    </tr>\n",
       "    <tr>\n",
       "      <th>4</th>\n",
       "      <td>isoform1=junction:chr10:101476219-101480743:-|...</td>\n",
       "      <td>0.052632</td>\n",
       "      <td>0.072368</td>\n",
       "      <td>0.089483</td>\n",
       "      <td>iPSC</td>\n",
       "      <td>MN</td>\n",
       "      <td>$\\nearrow$</td>\n",
       "      <td>iPSC-MN</td>\n",
       "      <td>included</td>\n",
       "      <td>bimodal</td>\n",
       "    </tr>\n",
       "  </tbody>\n",
       "</table>\n",
       "</div>"
      ],
      "text/plain": [
       "                                            event_id  $\\Delta x$  $\\Delta y$  \\\n",
       "0  isoform1=junction:chr10:101163392-101165512:-|...    0.000000    0.033333   \n",
       "1  isoform1=junction:chr10:101163392-101165512:-|...    0.000000    0.033333   \n",
       "2  isoform1=junction:chr10:101163392-101165512:-|...    0.000000    0.000000   \n",
       "3  isoform1=junction:chr10:101476219-101480743:-|...    0.166667   -0.041667   \n",
       "4  isoform1=junction:chr10:101476219-101480743:-|...    0.052632    0.072368   \n",
       "\n",
       "   magnitude group1 group2   direction transition group1_modality  \\\n",
       "0   0.033333   iPSC    NPC  $\\nwarrow$   iPSC-NPC        included   \n",
       "1   0.033333   iPSC     MN  $\\nwarrow$    iPSC-MN        included   \n",
       "2   0.000000    NPC     MN         NaN     NPC-MN        included   \n",
       "3   0.171796   iPSC    NPC  $\\searrow$   iPSC-NPC        included   \n",
       "4   0.089483   iPSC     MN  $\\nearrow$    iPSC-MN        included   \n",
       "\n",
       "  group2_modality  \n",
       "0        included  \n",
       "1        included  \n",
       "2        included  \n",
       "3         bimodal  \n",
       "4         bimodal  "
      ]
     },
     "execution_count": 34,
     "metadata": {},
     "output_type": "execute_result"
    }
   ],
   "source": [
    "study.supplemental.voyages.head()"
   ]
  },
  {
   "cell_type": "code",
   "execution_count": 35,
   "metadata": {
    "collapsed": false
   },
   "outputs": [
    {
     "data": {
      "text/plain": [
       "[(u'iPSC', u'NPC'), (u'NPC', u'MN')]"
      ]
     },
     "execution_count": 35,
     "metadata": {},
     "output_type": "execute_result"
    }
   ],
   "source": [
    "study.phenotype_transitions"
   ]
  },
  {
   "cell_type": "code",
   "execution_count": 36,
   "metadata": {
    "collapsed": true
   },
   "outputs": [],
   "source": [
    "transition_order = ['iPSC-NPC', 'iPSC-MN']"
   ]
  },
  {
   "cell_type": "code",
   "execution_count": 37,
   "metadata": {
    "collapsed": false
   },
   "outputs": [
    {
     "data": {
      "image/png": "[encoded data removed]",
      "text/plain": [
       "<matplotlib.figure.Figure at 0x2af3233dac50>"
      ]
     },
     "metadata": {},
     "output_type": "display_data"
    }
   ],
   "source": [
    "g = sns.factorplot(x='transition', y='magnitude', size=2,\n",
    "               data=study.supplemental.voyages, kind='violin', cut=True, \n",
    "               order=transition_order, color='green', linewidth=1)\n",
    "for ax in g.axes.flat:\n",
    "    xmin, xmax = ax.get_xlim()\n",
    "    ax.hlines(0.2, xmin, xmax, linestyle='--', color='k', linewidth=0.5)\n",
    "    ax.set(ylim=(0, 1))\n",
    "    ax.locator_params(nbins=5, axis='y')\n",
    "g.savefig('{}/magnitude_violinplot_cutoff.pdf'.format(figure_folder))"
   ]
  },
  {
   "cell_type": "code",
   "execution_count": 38,
   "metadata": {
    "collapsed": true
   },
   "outputs": [],
   "source": [
    "voyage_cutoff = 0.2"
   ]
  },
  {
   "cell_type": "code",
   "execution_count": 39,
   "metadata": {
    "collapsed": false
   },
   "outputs": [
    {
     "name": "stdout",
     "output_type": "stream",
     "text": [
      "(1233, 10)\n"
     ]
    },
    {
     "data": {
      "text/html": [
       "<div>\n",
       "<table border=\"1\" class=\"dataframe\">\n",
       "  <thead>\n",
       "    <tr style=\"text-align: right;\">\n",
       "      <th></th>\n",
       "      <th>event_id</th>\n",
       "      <th>$\\Delta x$</th>\n",
       "      <th>$\\Delta y$</th>\n",
       "      <th>magnitude</th>\n",
       "      <th>group1</th>\n",
       "      <th>group2</th>\n",
       "      <th>direction</th>\n",
       "      <th>transition</th>\n",
       "      <th>group1_modality</th>\n",
       "      <th>group2_modality</th>\n",
       "    </tr>\n",
       "  </thead>\n",
       "  <tbody>\n",
       "    <tr>\n",
       "      <th>6</th>\n",
       "      <td>isoform1=junction:chr10:101507148-101514285:+|...</td>\n",
       "      <td>0.291498</td>\n",
       "      <td>-0.089069</td>\n",
       "      <td>0.304802</td>\n",
       "      <td>iPSC</td>\n",
       "      <td>NPC</td>\n",
       "      <td>$\\searrow$</td>\n",
       "      <td>iPSC-NPC</td>\n",
       "      <td>bimodal</td>\n",
       "      <td>bimodal</td>\n",
       "    </tr>\n",
       "    <tr>\n",
       "      <th>8</th>\n",
       "      <td>isoform1=junction:chr10:101995522-101997778:-|...</td>\n",
       "      <td>0.181818</td>\n",
       "      <td>-0.150568</td>\n",
       "      <td>0.236069</td>\n",
       "      <td>iPSC</td>\n",
       "      <td>NPC</td>\n",
       "      <td>$\\searrow$</td>\n",
       "      <td>iPSC-NPC</td>\n",
       "      <td>included</td>\n",
       "      <td>bimodal</td>\n",
       "    </tr>\n",
       "    <tr>\n",
       "      <th>96</th>\n",
       "      <td>isoform1=junction:chr10:105152224-105156165:-|...</td>\n",
       "      <td>0.527101</td>\n",
       "      <td>0.000000</td>\n",
       "      <td>0.527101</td>\n",
       "      <td>iPSC</td>\n",
       "      <td>NPC</td>\n",
       "      <td>$\\searrow$</td>\n",
       "      <td>iPSC-NPC</td>\n",
       "      <td>excluded</td>\n",
       "      <td>excluded</td>\n",
       "    </tr>\n",
       "    <tr>\n",
       "      <th>97</th>\n",
       "      <td>isoform1=junction:chr10:105152224-105156165:-|...</td>\n",
       "      <td>0.431579</td>\n",
       "      <td>0.018182</td>\n",
       "      <td>0.431962</td>\n",
       "      <td>iPSC</td>\n",
       "      <td>MN</td>\n",
       "      <td>$\\nearrow$</td>\n",
       "      <td>iPSC-MN</td>\n",
       "      <td>excluded</td>\n",
       "      <td>excluded</td>\n",
       "    </tr>\n",
       "    <tr>\n",
       "      <th>114</th>\n",
       "      <td>isoform1=junction:chr10:1089334-1094803:-|isof...</td>\n",
       "      <td>-0.031230</td>\n",
       "      <td>0.207222</td>\n",
       "      <td>0.209562</td>\n",
       "      <td>iPSC</td>\n",
       "      <td>NPC</td>\n",
       "      <td>$\\nwarrow$</td>\n",
       "      <td>iPSC-NPC</td>\n",
       "      <td>uncategorized</td>\n",
       "      <td>included</td>\n",
       "    </tr>\n",
       "  </tbody>\n",
       "</table>\n",
       "</div>"
      ],
      "text/plain": [
       "                                              event_id  $\\Delta x$  \\\n",
       "6    isoform1=junction:chr10:101507148-101514285:+|...    0.291498   \n",
       "8    isoform1=junction:chr10:101995522-101997778:-|...    0.181818   \n",
       "96   isoform1=junction:chr10:105152224-105156165:-|...    0.527101   \n",
       "97   isoform1=junction:chr10:105152224-105156165:-|...    0.431579   \n",
       "114  isoform1=junction:chr10:1089334-1094803:-|isof...   -0.031230   \n",
       "\n",
       "     $\\Delta y$  magnitude group1 group2   direction transition  \\\n",
       "6     -0.089069   0.304802   iPSC    NPC  $\\searrow$   iPSC-NPC   \n",
       "8     -0.150568   0.236069   iPSC    NPC  $\\searrow$   iPSC-NPC   \n",
       "96     0.000000   0.527101   iPSC    NPC  $\\searrow$   iPSC-NPC   \n",
       "97     0.018182   0.431962   iPSC     MN  $\\nearrow$    iPSC-MN   \n",
       "114    0.207222   0.209562   iPSC    NPC  $\\nwarrow$   iPSC-NPC   \n",
       "\n",
       "    group1_modality group2_modality  \n",
       "6           bimodal         bimodal  \n",
       "8          included         bimodal  \n",
       "96         excluded        excluded  \n",
       "97         excluded        excluded  \n",
       "114   uncategorized        included  "
      ]
     },
     "execution_count": 39,
     "metadata": {},
     "output_type": "execute_result"
    }
   ],
   "source": [
    "large_voyages = study.supplemental.voyages.query('(magnitude > @voyage_cutoff) & (transition in @transition_order)')\n",
    "print(large_voyages.shape)\n",
    "large_voyages.head()"
   ]
  },
  {
   "cell_type": "code",
   "execution_count": 40,
   "metadata": {
    "collapsed": false
   },
   "outputs": [
    {
     "name": "stdout",
     "output_type": "stream",
     "text": [
      "(32, 4)\n"
     ]
    },
    {
     "data": {
      "text/html": [
       "<div>\n",
       "<table border=\"1\" class=\"dataframe\">\n",
       "  <thead>\n",
       "    <tr style=\"text-align: right;\">\n",
       "      <th></th>\n",
       "      <th>transition</th>\n",
       "      <th>group1_modality</th>\n",
       "      <th>direction</th>\n",
       "      <th>n_exons</th>\n",
       "    </tr>\n",
       "  </thead>\n",
       "  <tbody>\n",
       "    <tr>\n",
       "      <th>0</th>\n",
       "      <td>iPSC-MN</td>\n",
       "      <td>bimodal</td>\n",
       "      <td>$\\nearrow$</td>\n",
       "      <td>13</td>\n",
       "    </tr>\n",
       "    <tr>\n",
       "      <th>1</th>\n",
       "      <td>iPSC-MN</td>\n",
       "      <td>bimodal</td>\n",
       "      <td>$\\nwarrow$</td>\n",
       "      <td>108</td>\n",
       "    </tr>\n",
       "    <tr>\n",
       "      <th>2</th>\n",
       "      <td>iPSC-MN</td>\n",
       "      <td>bimodal</td>\n",
       "      <td>$\\searrow$</td>\n",
       "      <td>139</td>\n",
       "    </tr>\n",
       "    <tr>\n",
       "      <th>3</th>\n",
       "      <td>iPSC-MN</td>\n",
       "      <td>bimodal</td>\n",
       "      <td>$\\swarrow$</td>\n",
       "      <td>1</td>\n",
       "    </tr>\n",
       "    <tr>\n",
       "      <th>4</th>\n",
       "      <td>iPSC-MN</td>\n",
       "      <td>excluded</td>\n",
       "      <td>$\\nearrow$</td>\n",
       "      <td>15</td>\n",
       "    </tr>\n",
       "  </tbody>\n",
       "</table>\n",
       "</div>"
      ],
      "text/plain": [
       "  transition group1_modality   direction  n_exons\n",
       "0    iPSC-MN         bimodal  $\\nearrow$       13\n",
       "1    iPSC-MN         bimodal  $\\nwarrow$      108\n",
       "2    iPSC-MN         bimodal  $\\searrow$      139\n",
       "3    iPSC-MN         bimodal  $\\swarrow$        1\n",
       "4    iPSC-MN        excluded  $\\nearrow$       15"
      ]
     },
     "execution_count": 40,
     "metadata": {},
     "output_type": "execute_result"
    }
   ],
   "source": [
    "large_voyages_directions = large_voyages.groupby(['transition', 'group1_modality', 'direction']).size().reset_index()\n",
    "large_voyages_directions = large_voyages_directions.rename(columns={0: 'n_exons'})\n",
    "print(large_voyages_directions.shape)\n",
    "large_voyages_directions.head()"
   ]
  },
  {
   "cell_type": "code",
   "execution_count": 41,
   "metadata": {
    "collapsed": false
   },
   "outputs": [
    {
     "data": {
      "text/plain": [
       "direction\n",
       "$\\nearrow$     8\n",
       "$\\nwarrow$    10\n",
       "$\\searrow$     8\n",
       "$\\swarrow$     6\n",
       "dtype: int64"
      ]
     },
     "execution_count": 41,
     "metadata": {},
     "output_type": "execute_result"
    }
   ],
   "source": [
    "large_voyages_directions.groupby(['direction']).size()"
   ]
  },
  {
   "cell_type": "code",
   "execution_count": 42,
   "metadata": {
    "collapsed": true
   },
   "outputs": [],
   "source": [
    "ARROW_ORDER = [r'$\\nearrow$', r'$\\searrow$', r'$\\swarrow$', r'$\\nwarrow$']"
   ]
  },
  {
   "cell_type": "code",
   "execution_count": 43,
   "metadata": {
    "collapsed": false
   },
   "outputs": [],
   "source": [
    "modality_vs_direction_kws = dict(row='group1_modality', col='direction', hue='group2_modality', \n",
    "                                 hue_order=MODALITY_ORDER,\n",
    "                                 row_order=MODALITY_ORDER, col_order=ARROW_ORDER, palette=MODALITY_PALETTE)\n",
    "modality_vs_modality_kws = dict(row='group1_modality', col='group2_modality', hue='group2_modality', \n",
    "                                hue_order=MODALITY_ORDER,\n",
    "                                 row_order=MODALITY_ORDER, col_order=MODALITY_ORDER, palette=MODALITY_PALETTE)\n",
    "direction_vs_modality_kws = dict(row='direction', col='group2_modality', hue='group1_modality', \n",
    "                                 hue_order=MODALITY_ORDER,\n",
    "                                 row_order=ARROW_ORDER, col_order=MODALITY_ORDER, palette=MODALITY_PALETTE)\n",
    "\n",
    "facet_kwargs = dict(modality_vs_direction_kws=modality_vs_direction_kws, \n",
    "                    modality_vs_modality_kws=modality_vs_modality_kws, \n",
    "                    direction_vs_modality_kws=direction_vs_modality_kws)"
   ]
  },
  {
   "cell_type": "code",
   "execution_count": 44,
   "metadata": {
    "collapsed": false
   },
   "outputs": [
    {
     "data": {
      "text/html": [
       "<div>\n",
       "<table border=\"1\" class=\"dataframe\">\n",
       "  <thead>\n",
       "    <tr style=\"text-align: right;\">\n",
       "      <th></th>\n",
       "      <th>transition</th>\n",
       "      <th>group1_modality</th>\n",
       "      <th>direction</th>\n",
       "      <th>n_exons</th>\n",
       "    </tr>\n",
       "  </thead>\n",
       "  <tbody>\n",
       "    <tr>\n",
       "      <th>0</th>\n",
       "      <td>iPSC-MN</td>\n",
       "      <td>bimodal</td>\n",
       "      <td>$\\nearrow$</td>\n",
       "      <td>13</td>\n",
       "    </tr>\n",
       "    <tr>\n",
       "      <th>1</th>\n",
       "      <td>iPSC-MN</td>\n",
       "      <td>bimodal</td>\n",
       "      <td>$\\nwarrow$</td>\n",
       "      <td>108</td>\n",
       "    </tr>\n",
       "    <tr>\n",
       "      <th>2</th>\n",
       "      <td>iPSC-MN</td>\n",
       "      <td>bimodal</td>\n",
       "      <td>$\\searrow$</td>\n",
       "      <td>139</td>\n",
       "    </tr>\n",
       "    <tr>\n",
       "      <th>3</th>\n",
       "      <td>iPSC-MN</td>\n",
       "      <td>bimodal</td>\n",
       "      <td>$\\swarrow$</td>\n",
       "      <td>1</td>\n",
       "    </tr>\n",
       "    <tr>\n",
       "      <th>4</th>\n",
       "      <td>iPSC-MN</td>\n",
       "      <td>excluded</td>\n",
       "      <td>$\\nearrow$</td>\n",
       "      <td>15</td>\n",
       "    </tr>\n",
       "  </tbody>\n",
       "</table>\n",
       "</div>"
      ],
      "text/plain": [
       "  transition group1_modality   direction  n_exons\n",
       "0    iPSC-MN         bimodal  $\\nearrow$       13\n",
       "1    iPSC-MN         bimodal  $\\nwarrow$      108\n",
       "2    iPSC-MN         bimodal  $\\searrow$      139\n",
       "3    iPSC-MN         bimodal  $\\swarrow$        1\n",
       "4    iPSC-MN        excluded  $\\nearrow$       15"
      ]
     },
     "execution_count": 44,
     "metadata": {},
     "output_type": "execute_result"
    }
   ],
   "source": [
    "large_voyages_directions.head()"
   ]
  },
  {
   "cell_type": "code",
   "execution_count": 45,
   "metadata": {
    "collapsed": false
   },
   "outputs": [
    {
     "data": {
      "image/png": "[encoded data removed]",
      "text/plain": [
       "<matplotlib.figure.Figure at 0x2af327b72850>"
      ]
     },
     "metadata": {},
     "output_type": "display_data"
    },
    {
     "data": {
      "image/png": "[encoded data removed]",
      "text/plain": [
       "<matplotlib.figure.Figure at 0x2af35521dd10>"
      ]
     },
     "metadata": {},
     "output_type": "display_data"
    },
    {
     "data": {
      "image/png": "[encoded data removed]",
      "text/plain": [
       "<matplotlib.figure.Figure at 0x2af353ee1210>"
      ]
     },
     "metadata": {},
     "output_type": "display_data"
    },
    {
     "data": {
      "image/png": "[encoded data removed]",
      "text/plain": [
       "<matplotlib.figure.Figure at 0x2af2fc0206d0>"
      ]
     },
     "metadata": {},
     "output_type": "display_data"
    },
    {
     "data": {
      "image/png": "[encoded data removed]",
      "text/plain": [
       "<matplotlib.figure.Figure at 0x2af324939690>"
      ]
     },
     "metadata": {},
     "output_type": "display_data"
    },
    {
     "data": {
      "image/png": "[encoded data removed]",
      "text/plain": [
       "<matplotlib.figure.Figure at 0x2af2fc2f5150>"
      ]
     },
     "metadata": {},
     "output_type": "display_data"
    }
   ],
   "source": [
    "\n",
    "for name, kwargs in facet_kwargs.items():\n",
    "    large_voyages_sizes = large_voyages.groupby(['transition', kwargs['row'], kwargs['col']]).size().reset_index()\n",
    "    large_voyages_sizes = large_voyages_sizes.rename(columns={0: 'n_exons'})\n",
    "\n",
    "    for transition, df in large_voyages_sizes.groupby('transition'):\n",
    "        df2d = df.pivot(index=kwargs['row'], columns=kwargs['col'], values='n_exons')\n",
    "        df2d = df2d.loc[kwargs['row_order'], kwargs['col_order']]\n",
    "        mask = df2d.isnull()\n",
    "        df2d = df2d.fillna(0)\n",
    "        df2d = df2d.astype(int)\n",
    "\n",
    "        fig, ax = plt.subplots(figsize=(2.5, 1.5))\n",
    "\n",
    "\n",
    "        sns.heatmap(df2d, annot=True, fmt='d', mask=mask)\n",
    "        ax.set(#xticks=[], \n",
    "               #yticks=[], \n",
    "            xlabel='', ylabel='', title=transition)\n",
    "#         fig.tight_layout()\n",
    "        g.savefig('{folder}/large_voyages_{row}_vs_{col}_{transition}_heatmap.pdf'.format(\n",
    "                folder=figure_folder, transition=transition, **kwargs))\n",
    "    \n"
   ]
  },
  {
   "cell_type": "markdown",
   "metadata": {
    "collapsed": true
   },
   "source": [
    "## Arrowplots of the voyages"
   ]
  },
  {
   "cell_type": "code",
   "execution_count": 46,
   "metadata": {
    "collapsed": true
   },
   "outputs": [],
   "source": [
    "import bonvoyage"
   ]
  },
  {
   "cell_type": "code",
   "execution_count": 47,
   "metadata": {
    "collapsed": false
   },
   "outputs": [
    {
     "data": {
      "text/html": [
       "<div>\n",
       "<table border=\"1\" class=\"dataframe\">\n",
       "  <thead>\n",
       "    <tr style=\"text-align: right;\">\n",
       "      <th></th>\n",
       "      <th></th>\n",
       "      <th>0</th>\n",
       "      <th>1</th>\n",
       "    </tr>\n",
       "    <tr>\n",
       "      <th>event_id</th>\n",
       "      <th>phenotype</th>\n",
       "      <th></th>\n",
       "      <th></th>\n",
       "    </tr>\n",
       "  </thead>\n",
       "  <tbody>\n",
       "    <tr>\n",
       "      <th>isoform1=junction:chr10:100189400-100190327:-|isoform2=junction:chr10:100189647-100190327:-@exon:chr10:100189548-100189646:-@junction:chr10:100189400-100189547:-</th>\n",
       "      <th>iPSC</th>\n",
       "      <td>0.882353</td>\n",
       "      <td>0.117647</td>\n",
       "    </tr>\n",
       "    <tr>\n",
       "      <th>isoform1=junction:chr10:100193849-100195391:-|isoform2=junction:chr10:100195172-100195391:-@exon:chr10:100195029-100195171:-@junction:chr10:100193849-100195028:-</th>\n",
       "      <th>iPSC</th>\n",
       "      <td>0.176471</td>\n",
       "      <td>0.823529</td>\n",
       "    </tr>\n",
       "    <tr>\n",
       "      <th rowspan=\"3\" valign=\"top\">isoform1=junction:chr10:101163392-101165512:-|isoform2=junction:chr10:101163632-101165512:-@exon:chr10:101163481-101163631:-@junction:chr10:101163392-101163480:-</th>\n",
       "      <th>MN</th>\n",
       "      <td>0.000000</td>\n",
       "      <td>1.000000</td>\n",
       "    </tr>\n",
       "    <tr>\n",
       "      <th>NPC</th>\n",
       "      <td>0.000000</td>\n",
       "      <td>1.000000</td>\n",
       "    </tr>\n",
       "    <tr>\n",
       "      <th>iPSC</th>\n",
       "      <td>0.000000</td>\n",
       "      <td>0.966667</td>\n",
       "    </tr>\n",
       "  </tbody>\n",
       "</table>\n",
       "</div>"
      ],
      "text/plain": [
       "                                                                     0  \\\n",
       "event_id                                           phenotype             \n",
       "isoform1=junction:chr10:100189400-100190327:-|i... iPSC       0.882353   \n",
       "isoform1=junction:chr10:100193849-100195391:-|i... iPSC       0.176471   \n",
       "isoform1=junction:chr10:101163392-101165512:-|i... MN         0.000000   \n",
       "                                                   NPC        0.000000   \n",
       "                                                   iPSC       0.000000   \n",
       "\n",
       "                                                                     1  \n",
       "event_id                                           phenotype            \n",
       "isoform1=junction:chr10:100189400-100190327:-|i... iPSC       0.117647  \n",
       "isoform1=junction:chr10:100193849-100195391:-|i... iPSC       0.823529  \n",
       "isoform1=junction:chr10:101163392-101165512:-|i... MN         1.000000  \n",
       "                                                   NPC        1.000000  \n",
       "                                                   iPSC       0.966667  "
      ]
     },
     "execution_count": 47,
     "metadata": {},
     "output_type": "execute_result"
    }
   ],
   "source": [
    "waypoints = study.supplemental.waypoints.rename(columns={\"Unnamed: 1\": 'event_id'})\n",
    "waypoints = waypoints.set_index('event_id', append=True)\n",
    "waypoints.index = waypoints.index.swaplevel(0, 1)\n",
    "waypoints = waypoints.sort_index()\n",
    "waypoints.head()"
   ]
  },
  {
   "cell_type": "code",
   "execution_count": 48,
   "metadata": {
    "collapsed": false
   },
   "outputs": [
    {
     "data": {
      "text/html": [
       "<div>\n",
       "<table border=\"1\" class=\"dataframe\">\n",
       "  <thead>\n",
       "    <tr style=\"text-align: right;\">\n",
       "      <th></th>\n",
       "      <th>phenotype</th>\n",
       "      <th>event_id</th>\n",
       "      <th>nmf_0</th>\n",
       "      <th>nmf_1</th>\n",
       "    </tr>\n",
       "  </thead>\n",
       "  <tbody>\n",
       "    <tr>\n",
       "      <th>0</th>\n",
       "      <td>MN</td>\n",
       "      <td>isoform1=junction:chr10:101163392-101165512:-|...</td>\n",
       "      <td>0.000000</td>\n",
       "      <td>1.000000</td>\n",
       "    </tr>\n",
       "    <tr>\n",
       "      <th>1</th>\n",
       "      <td>MN</td>\n",
       "      <td>isoform1=junction:chr10:101476219-101480743:-|...</td>\n",
       "      <td>0.052632</td>\n",
       "      <td>0.947368</td>\n",
       "    </tr>\n",
       "    <tr>\n",
       "      <th>2</th>\n",
       "      <td>MN</td>\n",
       "      <td>isoform1=junction:chr10:102114390-102120490:+|...</td>\n",
       "      <td>0.000000</td>\n",
       "      <td>1.000000</td>\n",
       "    </tr>\n",
       "    <tr>\n",
       "      <th>3</th>\n",
       "      <td>MN</td>\n",
       "      <td>isoform1=junction:chr10:102283687-102286731:-|...</td>\n",
       "      <td>0.000000</td>\n",
       "      <td>1.000000</td>\n",
       "    </tr>\n",
       "    <tr>\n",
       "      <th>4</th>\n",
       "      <td>MN</td>\n",
       "      <td>isoform1=junction:chr10:102746733-102747069:-|...</td>\n",
       "      <td>0.133333</td>\n",
       "      <td>0.866667</td>\n",
       "    </tr>\n",
       "  </tbody>\n",
       "</table>\n",
       "</div>"
      ],
      "text/plain": [
       "  phenotype                                           event_id     nmf_0  \\\n",
       "0        MN  isoform1=junction:chr10:101163392-101165512:-|...  0.000000   \n",
       "1        MN  isoform1=junction:chr10:101476219-101480743:-|...  0.052632   \n",
       "2        MN  isoform1=junction:chr10:102114390-102120490:+|...  0.000000   \n",
       "3        MN  isoform1=junction:chr10:102283687-102286731:-|...  0.000000   \n",
       "4        MN  isoform1=junction:chr10:102746733-102747069:-|...  0.133333   \n",
       "\n",
       "      nmf_1  \n",
       "0  1.000000  \n",
       "1  0.947368  \n",
       "2  1.000000  \n",
       "3  1.000000  \n",
       "4  0.866667  "
      ]
     },
     "execution_count": 48,
     "metadata": {},
     "output_type": "execute_result"
    }
   ],
   "source": [
    "waypoints_tidy = study.supplemental.waypoints.rename(columns={\"Unnamed: 1\": 'event_id', '0': 'nmf_0', '1': 'nmf_1'})\n",
    "waypoints_tidy = waypoints_tidy.reset_index()\n",
    "waypoints_tidy.head()"
   ]
  },
  {
   "cell_type": "code",
   "execution_count": 49,
   "metadata": {
    "collapsed": false
   },
   "outputs": [
    {
     "data": {
      "text/html": [
       "<div>\n",
       "<table border=\"1\" class=\"dataframe\">\n",
       "  <thead>\n",
       "    <tr style=\"text-align: right;\">\n",
       "      <th></th>\n",
       "      <th>phenotype</th>\n",
       "      <th>event_id</th>\n",
       "      <th>nmf_0</th>\n",
       "      <th>nmf_1</th>\n",
       "    </tr>\n",
       "  </thead>\n",
       "  <tbody>\n",
       "    <tr>\n",
       "      <th>0</th>\n",
       "      <td>MN</td>\n",
       "      <td>isoform1=junction:chr10:101163392-101165512:-|...</td>\n",
       "      <td>0.000000</td>\n",
       "      <td>1.000000</td>\n",
       "    </tr>\n",
       "    <tr>\n",
       "      <th>1</th>\n",
       "      <td>MN</td>\n",
       "      <td>isoform1=junction:chr10:101476219-101480743:-|...</td>\n",
       "      <td>0.052632</td>\n",
       "      <td>0.947368</td>\n",
       "    </tr>\n",
       "    <tr>\n",
       "      <th>2</th>\n",
       "      <td>MN</td>\n",
       "      <td>isoform1=junction:chr10:102114390-102120490:+|...</td>\n",
       "      <td>0.000000</td>\n",
       "      <td>1.000000</td>\n",
       "    </tr>\n",
       "    <tr>\n",
       "      <th>3</th>\n",
       "      <td>MN</td>\n",
       "      <td>isoform1=junction:chr10:102283687-102286731:-|...</td>\n",
       "      <td>0.000000</td>\n",
       "      <td>1.000000</td>\n",
       "    </tr>\n",
       "    <tr>\n",
       "      <th>4</th>\n",
       "      <td>MN</td>\n",
       "      <td>isoform1=junction:chr10:102746733-102747069:-|...</td>\n",
       "      <td>0.133333</td>\n",
       "      <td>0.866667</td>\n",
       "    </tr>\n",
       "  </tbody>\n",
       "</table>\n",
       "</div>"
      ],
      "text/plain": [
       "  phenotype                                           event_id     nmf_0  \\\n",
       "0        MN  isoform1=junction:chr10:101163392-101165512:-|...  0.000000   \n",
       "1        MN  isoform1=junction:chr10:101476219-101480743:-|...  0.052632   \n",
       "2        MN  isoform1=junction:chr10:102114390-102120490:+|...  0.000000   \n",
       "3        MN  isoform1=junction:chr10:102283687-102286731:-|...  0.000000   \n",
       "4        MN  isoform1=junction:chr10:102746733-102747069:-|...  0.133333   \n",
       "\n",
       "      nmf_1  \n",
       "0  1.000000  \n",
       "1  0.947368  \n",
       "2  1.000000  \n",
       "3  1.000000  \n",
       "4  0.866667  "
      ]
     },
     "execution_count": 49,
     "metadata": {},
     "output_type": "execute_result"
    }
   ],
   "source": [
    "waypoints_tidy['phenotype'] = pd.Categorical(waypoints_tidy['phenotype'], \n",
    "                                             categories=study.phenotype_order, ordered=True)\n",
    "waypoints_tidy.head()"
   ]
  },
  {
   "cell_type": "code",
   "execution_count": 50,
   "metadata": {
    "collapsed": false
   },
   "outputs": [
    {
     "data": {
      "text/html": [
       "<div>\n",
       "<table border=\"1\" class=\"dataframe\">\n",
       "  <thead>\n",
       "    <tr style=\"text-align: right;\">\n",
       "      <th></th>\n",
       "      <th>phenotype</th>\n",
       "      <th>event_id</th>\n",
       "      <th>nmf_0</th>\n",
       "      <th>nmf_1</th>\n",
       "    </tr>\n",
       "  </thead>\n",
       "  <tbody>\n",
       "    <tr>\n",
       "      <th>28671</th>\n",
       "      <td>iPSC</td>\n",
       "      <td>isoform1=junction:chrY:2822039-2843135:+|isofo...</td>\n",
       "      <td>0.0</td>\n",
       "      <td>0.800000</td>\n",
       "    </tr>\n",
       "    <tr>\n",
       "      <th>20234</th>\n",
       "      <td>iPSC</td>\n",
       "      <td>isoform1=junction:chr17:65735127-65739594:+|is...</td>\n",
       "      <td>0.0</td>\n",
       "      <td>1.000000</td>\n",
       "    </tr>\n",
       "    <tr>\n",
       "      <th>20233</th>\n",
       "      <td>iPSC</td>\n",
       "      <td>isoform1=junction:chr17:65732871-65733623:+|is...</td>\n",
       "      <td>0.0</td>\n",
       "      <td>1.000000</td>\n",
       "    </tr>\n",
       "    <tr>\n",
       "      <th>20232</th>\n",
       "      <td>iPSC</td>\n",
       "      <td>isoform1=junction:chr17:65732140-65733186:+|is...</td>\n",
       "      <td>0.0</td>\n",
       "      <td>0.981818</td>\n",
       "    </tr>\n",
       "    <tr>\n",
       "      <th>20231</th>\n",
       "      <td>iPSC</td>\n",
       "      <td>isoform1=junction:chr17:65720310-65730478:+|is...</td>\n",
       "      <td>0.0</td>\n",
       "      <td>1.000000</td>\n",
       "    </tr>\n",
       "  </tbody>\n",
       "</table>\n",
       "</div>"
      ],
      "text/plain": [
       "      phenotype                                           event_id  nmf_0  \\\n",
       "28671      iPSC  isoform1=junction:chrY:2822039-2843135:+|isofo...    0.0   \n",
       "20234      iPSC  isoform1=junction:chr17:65735127-65739594:+|is...    0.0   \n",
       "20233      iPSC  isoform1=junction:chr17:65732871-65733623:+|is...    0.0   \n",
       "20232      iPSC  isoform1=junction:chr17:65732140-65733186:+|is...    0.0   \n",
       "20231      iPSC  isoform1=junction:chr17:65720310-65730478:+|is...    0.0   \n",
       "\n",
       "          nmf_1  \n",
       "28671  0.800000  \n",
       "20234  1.000000  \n",
       "20233  1.000000  \n",
       "20232  0.981818  \n",
       "20231  1.000000  "
      ]
     },
     "execution_count": 50,
     "metadata": {},
     "output_type": "execute_result"
    }
   ],
   "source": [
    "waypoints_tidy = waypoints_tidy.sort_values('phenotype')\n",
    "waypoints_tidy.head()"
   ]
  },
  {
   "cell_type": "code",
   "execution_count": 51,
   "metadata": {
    "collapsed": false,
    "scrolled": false
   },
   "outputs": [],
   "source": [
    "def arrowplot(x, y, waypoints, event_id, phenotype, transition, data, **kwargs):\n",
    "    ax = plt.gca()\n",
    "    phenotypes = data[transition].values[0].split('-')\n",
    "\n",
    "    # PLot a phantom line for the legend to work\n",
    "    ax.plot(0, 0, color=kwargs['color'])\n",
    "    for event in data[event_id]:\n",
    "        rows = (waypoints[event_id] == event) & (waypoints[phenotype].isin(phenotypes))\n",
    "        df = waypoints.loc[rows]\n",
    "#         if not isinstance(df[phenotype], pd.Categorical):\n",
    "#             df[phenotype] = pd.Categorical(df[phenotype], categories=phenotypes, ordered=True)\n",
    "        df = df.sort_values(phenotype)\n",
    "#         print(df.shape)\n",
    "#         df = waypoints.ix[event].ix[[phenotype1, phenotype2]].dropna()\n",
    "        if df.shape[0] != 2:\n",
    "            continue\n",
    "        x1, x2 = df.loc[:, x].values\n",
    "        y1, y2 = df.loc[:, y].values\n",
    "        dx = x2 - x1\n",
    "        dy = y2 - y1\n",
    "        ax.arrow(x1, y1, dx, dy, #head_width=0.005, head_length=0.005, #fc='k', ec='k',\n",
    "                 #alpha=0.25, \n",
    "                 **kwargs)\n",
    "\n",
    "# g = sns.FacetGrid(large_voyages, col='direction', row='group1_modality', hue='group2_modality', size=3)\n",
    "# g.set(xticks=[], yticks=[])\n",
    "# g.map_dataframe(arrowplot, 'nmf_0', 'nmf_1', waypoints=waypoints_tidy, event_id='event_id', \n",
    "#                 phenotype='phenotype', transition='transition')"
   ]
  },
  {
   "cell_type": "code",
   "execution_count": 52,
   "metadata": {
    "collapsed": true
   },
   "outputs": [],
   "source": [
    "from anchor import MODALITY_PALETTE\n",
    "from __future__ import print_function"
   ]
  },
  {
   "cell_type": "code",
   "execution_count": 53,
   "metadata": {
    "collapsed": false
   },
   "outputs": [
    {
     "data": {
      "text/plain": [
       "['excluded', 'bimodal', 'included', 'middle', 'uncategorized']"
      ]
     },
     "execution_count": 53,
     "metadata": {},
     "output_type": "execute_result"
    }
   ],
   "source": [
    "MODALITY_ORDER"
   ]
  },
  {
   "cell_type": "code",
   "execution_count": null,
   "metadata": {
    "collapsed": true
   },
   "outputs": [],
   "source": [
    "sns.set(context='paper', style='white')"
   ]
  },
  {
   "cell_type": "code",
   "execution_count": null,
   "metadata": {
    "collapsed": false,
    "scrolled": false
   },
   "outputs": [
    {
     "name": "stdout",
     "output_type": "stream",
     "text": [
      "modality_vs_direction_kws\n",
      "\t iPSC-MN\n",
      "\t"
     ]
    }
   ],
   "source": [
    "vlim = (0, 1.05)\n",
    "\n",
    "# row = 'direction'\n",
    "# col = 'group2_modality'\n",
    "# hue = 'group1_modality'\n",
    "\n",
    "for name, kwargs in facet_kwargs.items():\n",
    "    print(name)\n",
    "    for transition, df in large_voyages.groupby('transition'):\n",
    "        print('\\t', transition)\n",
    "        g = sns.FacetGrid(df, size=1, **kwargs)\n",
    "        g.map_dataframe(arrowplot, 'nmf_0', 'nmf_1', waypoints=waypoints_tidy, event_id='event_id', \n",
    "                        phenotype='phenotype', transition='transition', \n",
    "                        linewidth=1, head_width=0.1, head_length=0.1, alpha=0.5)\n",
    "        g.set(xticks=[], yticks=[], xlim=vlim, ylim=vlim, ylabel='', xlabel='')\n",
    "    #     g.set_xlabels(bonvoyage.visualize.NEAR_ZERO)\n",
    "    #     g.set_ylabels(MODALITY_ORDER)\n",
    "        g.set_titles('')\n",
    "    #     g.set_titles('{row_name}')\n",
    "    #     g.fig.suptitle(transition)\n",
    "        g.fig.tight_layout(w_pad=0)\n",
    "        sns.despine(offset=3)\n",
    "        g.savefig('{folder}/large_voyages_{row}_vs_{col}_{transition}_arrows.pdf'.format(\n",
    "                folder=figure_folder, transition=transition, **kwargs))"
   ]
  },
  {
   "cell_type": "markdown",
   "metadata": {},
   "source": [
    "## FacetGrid Delta X and Delta Y"
   ]
  },
  {
   "cell_type": "markdown",
   "metadata": {},
   "source": [
    "### Scatterplot"
   ]
  },
  {
   "cell_type": "code",
   "execution_count": null,
   "metadata": {
    "collapsed": false,
    "scrolled": false
   },
   "outputs": [],
   "source": [
    "vmin = -1\n",
    "vmax = 1\n",
    "vlim = vmin, vmax\n",
    "\n",
    "for name, kwargs in facet_kwargs.items():\n",
    "    print(name)\n",
    "    for transition, df in large_voyages.groupby('transition'):\n",
    "        print('\\t', transition)\n",
    "        g = sns.FacetGrid(df, size=1, **kwargs)\n",
    "        g.map_dataframe(plt.scatter, '$\\Delta x$', '$\\Delta y$', \n",
    "                        alpha=0.5, linewidth=0.5, edgecolor='#262626')\n",
    "        g.set(xticks=[], yticks=[], xlim=vlim, ylim=vlim, ylabel='', xlabel='')\n",
    "        g.set_titles('')\n",
    "        for ax in g.axes.flat:\n",
    "            ax.hlines(0, vmin, vmax, color='k', linewidth=0.5)\n",
    "            ax.vlines(0, vmin, vmax, color='k', linewidth=0.5)\n",
    "\n",
    "        g.fig.tight_layout(w_pad=0)\n",
    "        sns.despine(bottom=True, left=True)\n",
    "        g.savefig('{folder}/large_voyages_{row}_vs_{col}_{transition}_scatter.pdf'.format(\n",
    "                folder=figure_folder, transition=transition, **kwargs))"
   ]
  },
  {
   "cell_type": "markdown",
   "metadata": {},
   "source": [
    "### Hexbin"
   ]
  },
  {
   "cell_type": "code",
   "execution_count": null,
   "metadata": {
    "collapsed": true
   },
   "outputs": [],
   "source": [
    "import matplotlib as mpl"
   ]
  },
  {
   "cell_type": "code",
   "execution_count": null,
   "metadata": {
    "collapsed": false,
    "scrolled": false
   },
   "outputs": [],
   "source": [
    "vmin = -1\n",
    "vmax = 1\n",
    "vlim = vmin, vmax\n",
    "\n",
    "extent = vmin, vmax, vmin, vmax\n",
    "\n",
    "\n",
    "def hexbin(x, y, *args, **kwargs):\n",
    "    kwargs.pop('color')\n",
    "    return plt.hexbin(x, y, *args, **kwargs)\n",
    "\n",
    "row = 'group1_modality'\n",
    "col = 'group2_modality'\n",
    "\n",
    "for name, kwargs in facet_kwargs.items():\n",
    "    print(name)\n",
    "    for transition, df in large_voyages.groupby('transition'):\n",
    "        print('\\t', transition)\n",
    "        g = sns.FacetGrid(df, size=1, **kwargs)\n",
    "        vmax = df.groupby([row, col]).size().max()\n",
    "\n",
    "        g.map(hexbin, '$\\Delta x$', '$\\Delta y$', extent=extent, cmap='YlGnBu', \n",
    "              mincnt=1, gridsize=10, vmax=vmax, vmin=1,\n",
    "              norm=mpl.colors.LogNorm(),\n",
    "              linewidth=0.25, edgecolor='#262626')\n",
    "        g.set(xticks=[], yticks=[], xlim=vlim, ylim=vlim, ylabel='', xlabel='')\n",
    "\n",
    "        for ax in g.axes.flat:\n",
    "            ax.hlines(0, vmin, vmax, color='k', linewidth=0.5)\n",
    "            ax.vlines(0, vmin, vmax, color='k', linewidth=0.5)\n",
    "\n",
    "\n",
    "            \n",
    "        #     g.set_xlabels(bonvoyage.visualize.NEAR_ZERO)\n",
    "    #     g.set_ylabels(MODALITY_ORDER)\n",
    "        g.set_titles('')\n",
    "    #     g.set_titles('{row_name}')\n",
    "    #     g.fig.suptitle(transition)\n",
    "        g.fig.tight_layout(w_pad=0)\n",
    "        sns.despine(bottom=True, left=True)\n",
    "        g.savefig('{folder}/large_voyages_{row}_vs_{col}_{transition}_hexbin.pdf'.format(\n",
    "                folder=figure_folder, transition=transition, **kwargs))\n",
    "        \n",
    "        # Plot colorbar too\n",
    "        fig_colorbar, ax_colorbar = plt.subplots(figsize=(1, 1.5))\n",
    "        plt.colorbar(g.axes[0][0].collections[0], cax=ax_colorbar, \n",
    "                     orientation='vertical',  label='Count')\n",
    "#                      ticks=[1, 2, 3, 4])#mpl.ticker.MaxNLocator(4))\n",
    "#         ax_colorbar.yaxis.set_ticklabels(colorbar_ticklabels)\n",
    "        fig_colorbar.tight_layout()\n",
    "        fig_colorbar.savefig('{folder}/large_voyages{row}_vs_{col}_{transition}_hexbin_colorbar.pdf'.format(\n",
    "                folder=figure_folder, transition=transition, **kwargs))\n"
   ]
  },
  {
   "cell_type": "code",
   "execution_count": null,
   "metadata": {
    "collapsed": true
   },
   "outputs": [],
   "source": []
  },
  {
   "cell_type": "code",
   "execution_count": null,
   "metadata": {
    "collapsed": true
   },
   "outputs": [],
   "source": []
  },
  {
   "cell_type": "code",
   "execution_count": null,
   "metadata": {
    "collapsed": true
   },
   "outputs": [],
   "source": []
  }
 ],
 "metadata": {
  "kernelspec": {
   "display_name": "Python 2",
   "language": "python",
   "name": "python2"
  },
  "language_info": {
   "codemirror_mode": {
    "name": "ipython",
    "version": 2
   },
   "file_extension": ".py",
   "mimetype": "text/x-python",
   "name": "python",
   "nbconvert_exporter": "python",
   "pygments_lexer": "ipython2",
   "version": "2.7.11"
  }
 },
 "nbformat": 4,
 "nbformat_minor": 0
}
