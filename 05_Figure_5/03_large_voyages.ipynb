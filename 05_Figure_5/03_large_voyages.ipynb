{
 "cells": [
  {
   "cell_type": "code",
   "execution_count": 1,
   "metadata": {
    "collapsed": false
   },
   "outputs": [
    {
     "name": "stdout",
     "output_type": "stream",
     "text": [
      "2017-01-14 11:06:06\tReading datapackage from /projects/ps-yeolab/obotvinnik/flotilla_projects/singlecell_pnm_figure5_voyages/datapackage.json\n",
      "2017-01-14 11:06:06\tParsing datapackage to create a Study object\n",
      "https://s3-us-west-2.amazonaws.com/flotilla-projects/ercc/ERCC_Controls.txt has not been downloaded before.\n",
      "\tDownloading now to /home/obotvinnik/flotilla_projects/hg19/ERCC_Controls.txt\n"
     ]
    },
    {
     "name": "stderr",
     "output_type": "stream",
     "text": [
      "/home/obotvinnik/anaconda/lib/python2.7/site-packages/sklearn/cross_validation.py:44: DeprecationWarning: This module was deprecated in version 0.18 in favor of the model_selection module into which all the refactored classes and functions are moved. Also note that the interface of the new CV iterators are different from that of this module. This module will be removed in 0.20.\n",
      "  \"This module will be removed in 0.20.\", DeprecationWarning)\n",
      "Error loading species hg19 data: HTTP Error 404: Not Found"
     ]
    },
    {
     "name": "stdout",
     "output_type": "stream",
     "text": [
      "2017-01-14 11:06:55 \tInitializing Study\n",
      "2017-01-14 11:06:55 \tInitializing Predictor configuration manager for Study\n",
      "2017-01-14 11:06:55\tPredictor ExtraTreesClassifier is of type <class 'sklearn.ensemble.forest.ExtraTreesClassifier'>\n",
      "2017-01-14 11:06:55\tAdded ExtraTreesClassifier to default predictors\n",
      "2017-01-14 11:06:55\tPredictor ExtraTreesRegressor is of type <class 'sklearn.ensemble.forest.ExtraTreesRegressor'>\n",
      "2017-01-14 11:06:55\tAdded ExtraTreesRegressor to default predictors\n",
      "2017-01-14 11:06:55\tPredictor GradientBoostingClassifier is of type <class 'sklearn.ensemble.gradient_boosting.GradientBoostingClassifier'>\n",
      "2017-01-14 11:06:55\tAdded GradientBoostingClassifier to default predictors\n",
      "2017-01-14 11:06:55\tPredictor GradientBoostingRegressor is of type <class 'sklearn.ensemble.gradient_boosting.GradientBoostingRegressor'>\n",
      "2017-01-14 11:06:55\tAdded GradientBoostingRegressor to default predictors\n",
      "2017-01-14 11:06:55 \tLoading metadata\n",
      "2017-01-14 11:06:55\tLoading expression data\n",
      "2017-01-14 11:06:55\tInitializing expression\n",
      "2017-01-14 11:06:55\tDone initializing expression\n",
      "2017-01-14 11:06:58\tLoading splicing data\n",
      "2017-01-14 11:06:58\tInitializing splicing\n",
      "2017-01-14 11:06:58\tDone initializing splicing\n",
      "2017-01-14 11:06:58\tSuccessfully initialized a Study object!\n"
     ]
    }
   ],
   "source": [
    "import matplotlib.pyplot as plt\n",
    "import seaborn as sns\n",
    "import numpy as np\n",
    "import pandas as pd\n",
    "import six\n",
    "\n",
    "from anchor.visualize import MODALITY_TO_COLOR, MODALITY_ORDER, MODALITY_PALETTE\n",
    "modality_order = MODALITY_ORDER\n",
    "\n",
    "\n",
    "%matplotlib inline\n",
    "\n",
    "%load_ext autoreload\n",
    "%autoreload 2\n",
    "\n",
    "folder = 'figures' #'/home/obotvinnik/Dropbox/figures2/singlecell_pnm/figure4_voyages'\n",
    "\n",
    "import flotilla\n",
    "\n",
    "flotilla_dir = '/projects/ps-yeolab/obotvinnik/flotilla_projects'\n",
    "study = flotilla.embark('singlecell_pnm_figure5_voyages', flotilla_dir=flotilla_dir)"
   ]
  },
  {
   "cell_type": "code",
   "execution_count": 15,
   "metadata": {
    "collapsed": false
   },
   "outputs": [],
   "source": [
    "sns.set(style='white', context='paper', rc={'font.sans-serif':'Arial', 'pdf.fonttype': 42})\n"
   ]
  },
  {
   "cell_type": "code",
   "execution_count": 2,
   "metadata": {
    "collapsed": false
   },
   "outputs": [
    {
     "name": "stdout",
     "output_type": "stream",
     "text": [
      "mkdir: cannot create directory `figures/002_waypointplots': File exists\r\n"
     ]
    }
   ],
   "source": [
    "figure_folder = '{}/002_waypointplots'.format(folder)\n",
    "! mkdir $figure_folder"
   ]
  },
  {
   "cell_type": "code",
   "execution_count": 3,
   "metadata": {
    "collapsed": false
   },
   "outputs": [
    {
     "data": {
      "text/html": [
       "<div>\n",
       "<table border=\"1\" class=\"dataframe\">\n",
       "  <thead>\n",
       "    <tr style=\"text-align: right;\">\n",
       "      <th></th>\n",
       "      <th>event_id</th>\n",
       "      <th>$\\Delta x$</th>\n",
       "      <th>$\\Delta y$</th>\n",
       "      <th>magnitude</th>\n",
       "      <th>group1</th>\n",
       "      <th>group2</th>\n",
       "      <th>direction</th>\n",
       "      <th>transition</th>\n",
       "      <th>group1_modality</th>\n",
       "      <th>group2_modality</th>\n",
       "    </tr>\n",
       "  </thead>\n",
       "  <tbody>\n",
       "    <tr>\n",
       "      <th>0</th>\n",
       "      <td>isoform1=junction:chr10:101163392-101165512:-|...</td>\n",
       "      <td>0.000000</td>\n",
       "      <td>0.033333</td>\n",
       "      <td>0.033333</td>\n",
       "      <td>iPSC</td>\n",
       "      <td>NPC</td>\n",
       "      <td>$\\nwarrow$</td>\n",
       "      <td>iPSC-NPC</td>\n",
       "      <td>included</td>\n",
       "      <td>included</td>\n",
       "    </tr>\n",
       "    <tr>\n",
       "      <th>1</th>\n",
       "      <td>isoform1=junction:chr10:101163392-101165512:-|...</td>\n",
       "      <td>0.000000</td>\n",
       "      <td>0.033333</td>\n",
       "      <td>0.033333</td>\n",
       "      <td>iPSC</td>\n",
       "      <td>MN</td>\n",
       "      <td>$\\nwarrow$</td>\n",
       "      <td>iPSC-MN</td>\n",
       "      <td>included</td>\n",
       "      <td>included</td>\n",
       "    </tr>\n",
       "    <tr>\n",
       "      <th>2</th>\n",
       "      <td>isoform1=junction:chr10:101163392-101165512:-|...</td>\n",
       "      <td>0.000000</td>\n",
       "      <td>0.000000</td>\n",
       "      <td>0.000000</td>\n",
       "      <td>NPC</td>\n",
       "      <td>MN</td>\n",
       "      <td>NaN</td>\n",
       "      <td>NPC-MN</td>\n",
       "      <td>included</td>\n",
       "      <td>included</td>\n",
       "    </tr>\n",
       "    <tr>\n",
       "      <th>3</th>\n",
       "      <td>isoform1=junction:chr10:101476219-101480743:-|...</td>\n",
       "      <td>0.166667</td>\n",
       "      <td>-0.041667</td>\n",
       "      <td>0.171796</td>\n",
       "      <td>iPSC</td>\n",
       "      <td>NPC</td>\n",
       "      <td>$\\searrow$</td>\n",
       "      <td>iPSC-NPC</td>\n",
       "      <td>included</td>\n",
       "      <td>bimodal</td>\n",
       "    </tr>\n",
       "    <tr>\n",
       "      <th>4</th>\n",
       "      <td>isoform1=junction:chr10:101476219-101480743:-|...</td>\n",
       "      <td>0.052632</td>\n",
       "      <td>0.072368</td>\n",
       "      <td>0.089483</td>\n",
       "      <td>iPSC</td>\n",
       "      <td>MN</td>\n",
       "      <td>$\\nearrow$</td>\n",
       "      <td>iPSC-MN</td>\n",
       "      <td>included</td>\n",
       "      <td>bimodal</td>\n",
       "    </tr>\n",
       "  </tbody>\n",
       "</table>\n",
       "</div>"
      ],
      "text/plain": [
       "                                            event_id  $\\Delta x$  $\\Delta y$  \\\n",
       "0  isoform1=junction:chr10:101163392-101165512:-|...    0.000000    0.033333   \n",
       "1  isoform1=junction:chr10:101163392-101165512:-|...    0.000000    0.033333   \n",
       "2  isoform1=junction:chr10:101163392-101165512:-|...    0.000000    0.000000   \n",
       "3  isoform1=junction:chr10:101476219-101480743:-|...    0.166667   -0.041667   \n",
       "4  isoform1=junction:chr10:101476219-101480743:-|...    0.052632    0.072368   \n",
       "\n",
       "   magnitude group1 group2   direction transition group1_modality  \\\n",
       "0   0.033333   iPSC    NPC  $\\nwarrow$   iPSC-NPC        included   \n",
       "1   0.033333   iPSC     MN  $\\nwarrow$    iPSC-MN        included   \n",
       "2   0.000000    NPC     MN         NaN     NPC-MN        included   \n",
       "3   0.171796   iPSC    NPC  $\\searrow$   iPSC-NPC        included   \n",
       "4   0.089483   iPSC     MN  $\\nearrow$    iPSC-MN        included   \n",
       "\n",
       "  group2_modality  \n",
       "0        included  \n",
       "1        included  \n",
       "2        included  \n",
       "3         bimodal  \n",
       "4         bimodal  "
      ]
     },
     "execution_count": 3,
     "metadata": {},
     "output_type": "execute_result"
    }
   ],
   "source": [
    "study.supplemental.voyages.head()"
   ]
  },
  {
   "cell_type": "code",
   "execution_count": 7,
   "metadata": {
    "collapsed": false
   },
   "outputs": [
    {
     "data": {
      "text/plain": [
       "[(u'iPSC', u'NPC'), (u'NPC', u'MN')]"
      ]
     },
     "execution_count": 7,
     "metadata": {},
     "output_type": "execute_result"
    }
   ],
   "source": [
    "study.phenotype_transitions"
   ]
  },
  {
   "cell_type": "code",
   "execution_count": 20,
   "metadata": {
    "collapsed": true
   },
   "outputs": [],
   "source": [
    "transition_order = ['iPSC-NPC', 'iPSC-MN']"
   ]
  },
  {
   "cell_type": "code",
   "execution_count": 21,
   "metadata": {
    "collapsed": false
   },
   "outputs": [
    {
     "data": {
      "text/plain": [
       "<seaborn.axisgrid.FacetGrid at 0x2b1af1242f90>"
      ]
     },
     "execution_count": 21,
     "metadata": {},
     "output_type": "execute_result"
    },
    {
     "data": {
      "image/png": "[encoded data removed]",
      "text/plain": [
       "<matplotlib.figure.Figure at 0x2b1a9b85c610>"
      ]
     },
     "metadata": {},
     "output_type": "display_data"
    }
   ],
   "source": [
    "sns.factorplot(x='transition', y='magnitude', size=2,\n",
    "               data=study.supplemental.voyages, kind='violin', cut=True, \n",
    "               order=transition_order, color='green', linewidth=1)"
   ]
  },
  {
   "cell_type": "code",
   "execution_count": 18,
   "metadata": {
    "collapsed": true
   },
   "outputs": [],
   "source": [
    "voyage_cutoff = 0.2"
   ]
  },
  {
   "cell_type": "code",
   "execution_count": 22,
   "metadata": {
    "collapsed": false
   },
   "outputs": [
    {
     "name": "stdout",
     "output_type": "stream",
     "text": [
      "(1233, 10)\n"
     ]
    },
    {
     "data": {
      "text/html": [
       "<div>\n",
       "<table border=\"1\" class=\"dataframe\">\n",
       "  <thead>\n",
       "    <tr style=\"text-align: right;\">\n",
       "      <th></th>\n",
       "      <th>event_id</th>\n",
       "      <th>$\\Delta x$</th>\n",
       "      <th>$\\Delta y$</th>\n",
       "      <th>magnitude</th>\n",
       "      <th>group1</th>\n",
       "      <th>group2</th>\n",
       "      <th>direction</th>\n",
       "      <th>transition</th>\n",
       "      <th>group1_modality</th>\n",
       "      <th>group2_modality</th>\n",
       "    </tr>\n",
       "  </thead>\n",
       "  <tbody>\n",
       "    <tr>\n",
       "      <th>6</th>\n",
       "      <td>isoform1=junction:chr10:101507148-101514285:+|...</td>\n",
       "      <td>0.291498</td>\n",
       "      <td>-0.089069</td>\n",
       "      <td>0.304802</td>\n",
       "      <td>iPSC</td>\n",
       "      <td>NPC</td>\n",
       "      <td>$\\searrow$</td>\n",
       "      <td>iPSC-NPC</td>\n",
       "      <td>bimodal</td>\n",
       "      <td>bimodal</td>\n",
       "    </tr>\n",
       "    <tr>\n",
       "      <th>8</th>\n",
       "      <td>isoform1=junction:chr10:101995522-101997778:-|...</td>\n",
       "      <td>0.181818</td>\n",
       "      <td>-0.150568</td>\n",
       "      <td>0.236069</td>\n",
       "      <td>iPSC</td>\n",
       "      <td>NPC</td>\n",
       "      <td>$\\searrow$</td>\n",
       "      <td>iPSC-NPC</td>\n",
       "      <td>included</td>\n",
       "      <td>bimodal</td>\n",
       "    </tr>\n",
       "    <tr>\n",
       "      <th>96</th>\n",
       "      <td>isoform1=junction:chr10:105152224-105156165:-|...</td>\n",
       "      <td>0.527101</td>\n",
       "      <td>0.000000</td>\n",
       "      <td>0.527101</td>\n",
       "      <td>iPSC</td>\n",
       "      <td>NPC</td>\n",
       "      <td>$\\searrow$</td>\n",
       "      <td>iPSC-NPC</td>\n",
       "      <td>excluded</td>\n",
       "      <td>excluded</td>\n",
       "    </tr>\n",
       "    <tr>\n",
       "      <th>97</th>\n",
       "      <td>isoform1=junction:chr10:105152224-105156165:-|...</td>\n",
       "      <td>0.431579</td>\n",
       "      <td>0.018182</td>\n",
       "      <td>0.431962</td>\n",
       "      <td>iPSC</td>\n",
       "      <td>MN</td>\n",
       "      <td>$\\nearrow$</td>\n",
       "      <td>iPSC-MN</td>\n",
       "      <td>excluded</td>\n",
       "      <td>excluded</td>\n",
       "    </tr>\n",
       "    <tr>\n",
       "      <th>114</th>\n",
       "      <td>isoform1=junction:chr10:1089334-1094803:-|isof...</td>\n",
       "      <td>-0.031230</td>\n",
       "      <td>0.207222</td>\n",
       "      <td>0.209562</td>\n",
       "      <td>iPSC</td>\n",
       "      <td>NPC</td>\n",
       "      <td>$\\nwarrow$</td>\n",
       "      <td>iPSC-NPC</td>\n",
       "      <td>uncategorized</td>\n",
       "      <td>included</td>\n",
       "    </tr>\n",
       "  </tbody>\n",
       "</table>\n",
       "</div>"
      ],
      "text/plain": [
       "                                              event_id  $\\Delta x$  \\\n",
       "6    isoform1=junction:chr10:101507148-101514285:+|...    0.291498   \n",
       "8    isoform1=junction:chr10:101995522-101997778:-|...    0.181818   \n",
       "96   isoform1=junction:chr10:105152224-105156165:-|...    0.527101   \n",
       "97   isoform1=junction:chr10:105152224-105156165:-|...    0.431579   \n",
       "114  isoform1=junction:chr10:1089334-1094803:-|isof...   -0.031230   \n",
       "\n",
       "     $\\Delta y$  magnitude group1 group2   direction transition  \\\n",
       "6     -0.089069   0.304802   iPSC    NPC  $\\searrow$   iPSC-NPC   \n",
       "8     -0.150568   0.236069   iPSC    NPC  $\\searrow$   iPSC-NPC   \n",
       "96     0.000000   0.527101   iPSC    NPC  $\\searrow$   iPSC-NPC   \n",
       "97     0.018182   0.431962   iPSC     MN  $\\nearrow$    iPSC-MN   \n",
       "114    0.207222   0.209562   iPSC    NPC  $\\nwarrow$   iPSC-NPC   \n",
       "\n",
       "    group1_modality group2_modality  \n",
       "6           bimodal         bimodal  \n",
       "8          included         bimodal  \n",
       "96         excluded        excluded  \n",
       "97         excluded        excluded  \n",
       "114   uncategorized        included  "
      ]
     },
     "execution_count": 22,
     "metadata": {},
     "output_type": "execute_result"
    }
   ],
   "source": [
    "large_voyages = study.supplemental.voyages.query('(magnitude > @voyage_cutoff) & (transition in @transition_order)')\n",
    "print(large_voyages.shape)\n",
    "large_voyages.head()"
   ]
  },
  {
   "cell_type": "code",
   "execution_count": 26,
   "metadata": {
    "collapsed": false
   },
   "outputs": [
    {
     "data": {
      "text/html": [
       "<div>\n",
       "<table border=\"1\" class=\"dataframe\">\n",
       "  <thead>\n",
       "    <tr style=\"text-align: right;\">\n",
       "      <th></th>\n",
       "      <th>transition</th>\n",
       "      <th>group1_modality</th>\n",
       "      <th>group2_modality</th>\n",
       "      <th>n_exons</th>\n",
       "    </tr>\n",
       "  </thead>\n",
       "  <tbody>\n",
       "    <tr>\n",
       "      <th>0</th>\n",
       "      <td>iPSC-MN</td>\n",
       "      <td>bimodal</td>\n",
       "      <td>bimodal</td>\n",
       "      <td>147</td>\n",
       "    </tr>\n",
       "    <tr>\n",
       "      <th>1</th>\n",
       "      <td>iPSC-MN</td>\n",
       "      <td>bimodal</td>\n",
       "      <td>excluded</td>\n",
       "      <td>55</td>\n",
       "    </tr>\n",
       "    <tr>\n",
       "      <th>2</th>\n",
       "      <td>iPSC-MN</td>\n",
       "      <td>bimodal</td>\n",
       "      <td>included</td>\n",
       "      <td>58</td>\n",
       "    </tr>\n",
       "    <tr>\n",
       "      <th>3</th>\n",
       "      <td>iPSC-MN</td>\n",
       "      <td>bimodal</td>\n",
       "      <td>uncategorized</td>\n",
       "      <td>1</td>\n",
       "    </tr>\n",
       "    <tr>\n",
       "      <th>4</th>\n",
       "      <td>iPSC-MN</td>\n",
       "      <td>excluded</td>\n",
       "      <td>bimodal</td>\n",
       "      <td>87</td>\n",
       "    </tr>\n",
       "  </tbody>\n",
       "</table>\n",
       "</div>"
      ],
      "text/plain": [
       "  transition group1_modality group2_modality  n_exons\n",
       "0    iPSC-MN         bimodal         bimodal      147\n",
       "1    iPSC-MN         bimodal        excluded       55\n",
       "2    iPSC-MN         bimodal        included       58\n",
       "3    iPSC-MN         bimodal   uncategorized        1\n",
       "4    iPSC-MN        excluded         bimodal       87"
      ]
     },
     "execution_count": 26,
     "metadata": {},
     "output_type": "execute_result"
    }
   ],
   "source": [
    "large_voyages_modalities = large_voyages.groupby(['transition', 'group1_modality', 'group2_modality']).size().reset_index()\n",
    "large_voyages_modalities = large_voyages_modalities.rename(columns={0:'n_exons'})\n",
    "large_voyages_modalities.head()"
   ]
  },
  {
   "cell_type": "code",
   "execution_count": 45,
   "metadata": {
    "collapsed": false
   },
   "outputs": [
    {
     "data": {
      "image/png": "[encoded data removed]",
      "text/plain": [
       "<matplotlib.figure.Figure at 0x2b1a6e34c0d0>"
      ]
     },
     "metadata": {},
     "output_type": "display_data"
    },
    {
     "data": {
      "image/png": "[encoded data removed]",
      "text/plain": [
       "<matplotlib.figure.Figure at 0x2b1a9ef3f590>"
      ]
     },
     "metadata": {},
     "output_type": "display_data"
    }
   ],
   "source": [
    "import colorsys\n",
    "\n",
    "\n",
    "for transition, df in large_voyages_modalities.groupby('transition'):\n",
    "    df2d = df.pivot(index='group1_modality', columns='group2_modality', values='n_exons')\n",
    "    df2d = df2d.loc[MODALITY_ORDER, MODALITY_ORDER]\n",
    "    mask = df2d.isnull()\n",
    "    df2d = df2d.fillna(0)\n",
    "    df2d = df2d.astype(int)\n",
    "    \n",
    "    fig, ax = plt.subplots(figsize=(2.5, 2))\n",
    "    \n",
    "    \n",
    "    sns.heatmap(df2d, annot=True, fmt='d', mask=mask)\n",
    "    #cbar_kws=dict(label='% AS exons in both iPSC in NPC'))\n",
    "    #, annot=True, fmt='.1f')\n",
    "\n",
    "#     # fig.axes[-1].yaxis.locator_params()\n",
    "\n",
    "#     raw = ipsc_mn_modality_2d.ix[::-1]\n",
    "\n",
    "#     mesh = ax.collections[0]\n",
    "\n",
    "#     fmt = 'g'\n",
    "\n",
    "#     mesh.update_scalarmappable()\n",
    "#     xpos, ypos = np.meshgrid(ax.get_xticks(), ax.get_yticks())\n",
    "#     for x, y, percentage, val, color in zip(xpos.flat, ypos.flat, \n",
    "#                                 mesh.get_array(), raw.values.flat, mesh.get_facecolors()):\n",
    "#     #     print val\n",
    "#         if percentage is not np.ma.masked:\n",
    "#             _, l, _ = colorsys.rgb_to_hls(*color[:3])\n",
    "#             text_color = \".15\" if l > .5 else \"w\"\n",
    "#             val = (\"{:\" + fmt + \"}\").format(val)\n",
    "#             text_kwargs = dict(color=text_color, ha=\"center\", va=\"center\")\n",
    "#     #         text_kwargs.update(self.annot_kws)\n",
    "#             ax.text(x, y, val, **text_kwargs)\n",
    "#         else:\n",
    "#             text_kwargs = dict(color='.15', ha=\"center\", va=\"center\")\n",
    "#             ax.text(x, y, 0, **text_kwargs)\n",
    "    ax.set(xticks=[], yticks=[], title=transition)\n",
    "    fig.tight_layout()\n",
    "    fig.savefig('{}/large_voyages_modality_heatmap_{}.pdf'.format(folder, transition))"
   ]
  },
  {
   "cell_type": "markdown",
   "metadata": {
    "collapsed": true
   },
   "source": [
    "## Arrowplots of the voyages"
   ]
  },
  {
   "cell_type": "code",
   "execution_count": null,
   "metadata": {
    "collapsed": true
   },
   "outputs": [],
   "source": [
    "\n",
    "for phenotype1, phenotype2 in transition_order:\n",
    "    fig, ax = plt.subplots(figsize=(1.5, 1.5))\n",
    "\n",
    "    for event in ipsc_lower_triangle_in_mn_waypoints.index:\n",
    "        try:\n",
    "            x1, y1 = study.supplemental.waypoints.loc[(phenotype1, event)]\n",
    "            x2, y2 = study.supplemental.waypoints.loc[(phenotype2, event)]\n",
    "            if np.isnan(x2):\n",
    "                pass\n",
    "        #         ax.scatter(x1, y1, color=study.phenotype_to_color['iPSC'], linewidth=0.5, edgecolor='k', zorder=1, s=50)\n",
    "            else:\n",
    "                dx = x2 - x1\n",
    "                dy = y2 - y1\n",
    "                ax.arrow(x1, y1, dx, dy, facecolor='darkgreen', alpha=0.5)\n",
    "        except KeyError:\n",
    "            pass\n",
    "    ax.set(xlim=(0, 1), ylim=(0, 1), xlabel='~0', ylabel='~1', xticks=[], yticks=[], \n",
    "           title='{} to {}'.format(phenotype1, phenotype2))\n",
    "    sns.despine()\n",
    "#     fig.tight_layout()\n",
    "    fig.savefig('{}/waypoints_lower_triangle_in_{}_to_{}_arrows.pdf'.format(waypoint_folder, phenotype1, phenotype2))"
   ]
  }
 ],
 "metadata": {
  "kernelspec": {
   "display_name": "Python 2",
   "language": "python",
   "name": "python2"
  },
  "language_info": {
   "codemirror_mode": {
    "name": "ipython",
    "version": 2
   },
   "file_extension": ".py",
   "mimetype": "text/x-python",
   "name": "python",
   "nbconvert_exporter": "python",
   "pygments_lexer": "ipython2",
   "version": "2.7.11"
  }
 },
 "nbformat": 4,
 "nbformat_minor": 0
}
