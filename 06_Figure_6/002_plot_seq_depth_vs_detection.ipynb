{
 "cells": [
  {
   "cell_type": "code",
   "execution_count": 2,
   "metadata": {
    "collapsed": false
   },
   "outputs": [
    {
     "name": "stderr",
     "output_type": "stream",
     "text": [
      "/home/obotvinnik/anaconda/lib/python2.7/site-packages/sklearn/cross_validation.py:44: DeprecationWarning: This module was deprecated in version 0.18 in favor of the model_selection module into which all the refactored classes and functions are moved. Also note that the interface of the new CV iterators are different from that of this module. This module will be removed in 0.20.\n",
      "  \"This module will be removed in 0.20.\", DeprecationWarning)\n",
      "/home/obotvinnik/workspace-git/flotilla/flotilla/__init__.py:65: DtypeWarning: Columns (19) have mixed types. Specify dtype option on import or set low_memory=False.\n",
      "  load_species_data=load_species_data)\n"
     ]
    },
    {
     "name": "stdout",
     "output_type": "stream",
     "text": [
      "2016-11-14 07:56:20\tReading datapackage from /projects/ps-yeolab/obotvinnik/flotilla_projects/singlecell_pnm_figure4_voyages/datapackage.json\n",
      "2016-11-14 07:56:20\tParsing datapackage to create a Study object\n",
      "https://s3-us-west-2.amazonaws.com/flotilla-projects/ercc/ERCC_Controls.txt has not been downloaded before.\n",
      "\tDownloading now to /home/obotvinnik/flotilla_projects/hg19/ERCC_Controls.txt\n",
      "2016-11-14 07:56:47 \tInitializing Study\n",
      "2016-11-14 07:56:47 \tInitializing Predictor configuration manager for Study\n",
      "2016-11-14 07:56:47\tPredictor ExtraTreesClassifier is of type <class 'sklearn.ensemble.forest.ExtraTreesClassifier'>\n",
      "2016-11-14 07:56:47\tAdded ExtraTreesClassifier to default predictors\n",
      "2016-11-14 07:56:47\tPredictor ExtraTreesRegressor is of type <class 'sklearn.ensemble.forest.ExtraTreesRegressor'>\n",
      "2016-11-14 07:56:47\tAdded ExtraTreesRegressor to default predictors\n",
      "2016-11-14 07:56:47\tPredictor GradientBoostingClassifier is of type <class 'sklearn.ensemble.gradient_boosting.GradientBoostingClassifier'>\n",
      "2016-11-14 07:56:47\tAdded GradientBoostingClassifier to default predictors\n",
      "2016-11-14 07:56:47\tPredictor GradientBoostingRegressor is of type <class 'sklearn.ensemble.gradient_boosting.GradientBoostingRegressor'>\n",
      "2016-11-14 07:56:47\tAdded GradientBoostingRegressor to default predictors\n",
      "2016-11-14 07:56:51 \tBuilding Gene Ontology database...\n",
      "2016-11-14 07:56:59 \t\tDone\n",
      "2016-11-14 07:56:59 \tLoading metadata\n",
      "2016-11-14 07:56:59\tLoading expression data\n",
      "2016-11-14 07:56:59\tInitializing expression\n",
      "2016-11-14 07:57:00\tDone initializing expression\n",
      "2016-11-14 07:57:02\tLoading splicing data\n",
      "2016-11-14 07:57:02\tInitializing splicing\n",
      "2016-11-14 07:57:02\tDone initializing splicing\n",
      "2016-11-14 07:57:02\tSuccessfully initialized a Study object!\n"
     ]
    },
    {
     "name": "stderr",
     "output_type": "stream",
     "text": [
      "Error loading species hg19 data: HTTP Error 404: Not Found"
     ]
    }
   ],
   "source": [
    "from __future__ import print_function\n",
    "\n",
    "import matplotlib.pyplot as plt\n",
    "import seaborn as sns\n",
    "import numpy as np\n",
    "import pandas as pd\n",
    "\n",
    "from anchor.visualize import MODALITY_TO_COLOR, MODALITY_ORDER, MODALITY_PALETTE\n",
    "modality_order = MODALITY_ORDER\n",
    "\n",
    "sns.set(style='ticks', context='talk', rc={'font.sans-serif':'Arial', 'pdf.fonttype': 42})\n",
    "\n",
    "%matplotlib inline\n",
    "\n",
    "%load_ext autoreload\n",
    "%autoreload 2\n",
    "\n",
    "\n",
    "import flotilla\n",
    "study = flotilla.embark('singlecell_pnm_figure4_voyages', \n",
    "                        flotilla_dir='/projects/ps-yeolab/obotvinnik/flotilla_projects/')\n",
    "# study = flotilla.embark('singlecell_pnm_figure1_supplementary_post_splicing_filtering')"
   ]
  },
  {
   "cell_type": "code",
   "execution_count": 3,
   "metadata": {
    "collapsed": true
   },
   "outputs": [],
   "source": [
    "figure_folder = 'figures/002_plot_seq_depth_vs_detection'\n",
    "! mkdir -p $figure_folder"
   ]
  },
  {
   "cell_type": "code",
   "execution_count": 4,
   "metadata": {
    "collapsed": false
   },
   "outputs": [],
   "source": [
    "number_of_events_detected = study.splicing.data.notnull().sum(axis=1)\n",
    "number_of_events_detected.name = 'Number of AS exons detected'"
   ]
  },
  {
   "cell_type": "code",
   "execution_count": 5,
   "metadata": {
    "collapsed": true
   },
   "outputs": [],
   "source": [
    "number_of_genes_detected = (study.expression.data > 1).sum(axis=1)\n",
    "number_of_genes_detected.name = 'Number of genes with TPM > 1'"
   ]
  },
  {
   "cell_type": "code",
   "execution_count": 6,
   "metadata": {
    "collapsed": false
   },
   "outputs": [
    {
     "name": "stdout",
     "output_type": "stream",
     "text": [
      "(214, 45)\n",
      "(214, 46)\n",
      "(214, 47)\n"
     ]
    },
    {
     "data": {
      "text/html": [
       "<div>\n",
       "<table border=\"1\" class=\"dataframe\">\n",
       "  <thead>\n",
       "    <tr style=\"text-align: right;\">\n",
       "      <th></th>\n",
       "      <th>single</th>\n",
       "      <th>pooled</th>\n",
       "      <th>phenotype</th>\n",
       "      <th>neuron</th>\n",
       "      <th>progenitor</th>\n",
       "      <th>stressed</th>\n",
       "      <th>craig_venter</th>\n",
       "      <th>differentiation_batch</th>\n",
       "      <th>split</th>\n",
       "      <th>outlier</th>\n",
       "      <th>...</th>\n",
       "      <th>% of reads unmapped: too many mismatches</th>\n",
       "      <th>% of reads unmapped: too short</th>\n",
       "      <th>% of reads unmapped: other</th>\n",
       "      <th>% splices: Annotated (sjdb)</th>\n",
       "      <th>% splices: GT/AG</th>\n",
       "      <th>% splices: GC/AG</th>\n",
       "      <th>% splices: AT/AC</th>\n",
       "      <th>% splices: Non-canonical</th>\n",
       "      <th>Number of AS exons detected</th>\n",
       "      <th>Number of genes with TPM &gt; 1</th>\n",
       "    </tr>\n",
       "  </thead>\n",
       "  <tbody>\n",
       "    <tr>\n",
       "      <th>CVN_01</th>\n",
       "      <td>True</td>\n",
       "      <td>False</td>\n",
       "      <td>NPC</td>\n",
       "      <td>False</td>\n",
       "      <td>True</td>\n",
       "      <td>False</td>\n",
       "      <td>True</td>\n",
       "      <td>NaN</td>\n",
       "      <td>NaN</td>\n",
       "      <td>False</td>\n",
       "      <td>...</td>\n",
       "      <td>0.0</td>\n",
       "      <td>3.10</td>\n",
       "      <td>0.02</td>\n",
       "      <td>98.841858</td>\n",
       "      <td>99.126387</td>\n",
       "      <td>0.652647</td>\n",
       "      <td>0.134704</td>\n",
       "      <td>0.086261</td>\n",
       "      <td>4705.0</td>\n",
       "      <td>6499</td>\n",
       "    </tr>\n",
       "    <tr>\n",
       "      <th>CVN_02</th>\n",
       "      <td>True</td>\n",
       "      <td>False</td>\n",
       "      <td>NPC</td>\n",
       "      <td>False</td>\n",
       "      <td>True</td>\n",
       "      <td>False</td>\n",
       "      <td>True</td>\n",
       "      <td>NaN</td>\n",
       "      <td>NaN</td>\n",
       "      <td>False</td>\n",
       "      <td>...</td>\n",
       "      <td>0.0</td>\n",
       "      <td>3.96</td>\n",
       "      <td>0.02</td>\n",
       "      <td>98.614629</td>\n",
       "      <td>99.020137</td>\n",
       "      <td>0.801086</td>\n",
       "      <td>0.097722</td>\n",
       "      <td>0.081054</td>\n",
       "      <td>3672.0</td>\n",
       "      <td>6780</td>\n",
       "    </tr>\n",
       "    <tr>\n",
       "      <th>CVN_03</th>\n",
       "      <td>True</td>\n",
       "      <td>False</td>\n",
       "      <td>NPC</td>\n",
       "      <td>False</td>\n",
       "      <td>True</td>\n",
       "      <td>False</td>\n",
       "      <td>True</td>\n",
       "      <td>NaN</td>\n",
       "      <td>NaN</td>\n",
       "      <td>False</td>\n",
       "      <td>...</td>\n",
       "      <td>0.0</td>\n",
       "      <td>4.99</td>\n",
       "      <td>0.02</td>\n",
       "      <td>98.596403</td>\n",
       "      <td>99.028733</td>\n",
       "      <td>0.796140</td>\n",
       "      <td>0.101854</td>\n",
       "      <td>0.073272</td>\n",
       "      <td>3022.0</td>\n",
       "      <td>5234</td>\n",
       "    </tr>\n",
       "    <tr>\n",
       "      <th>CVN_04</th>\n",
       "      <td>True</td>\n",
       "      <td>False</td>\n",
       "      <td>NPC</td>\n",
       "      <td>False</td>\n",
       "      <td>True</td>\n",
       "      <td>False</td>\n",
       "      <td>True</td>\n",
       "      <td>NaN</td>\n",
       "      <td>NaN</td>\n",
       "      <td>False</td>\n",
       "      <td>...</td>\n",
       "      <td>0.0</td>\n",
       "      <td>2.89</td>\n",
       "      <td>0.02</td>\n",
       "      <td>98.831275</td>\n",
       "      <td>99.120483</td>\n",
       "      <td>0.711286</td>\n",
       "      <td>0.084708</td>\n",
       "      <td>0.083523</td>\n",
       "      <td>4724.0</td>\n",
       "      <td>7659</td>\n",
       "    </tr>\n",
       "    <tr>\n",
       "      <th>CVN_05</th>\n",
       "      <td>True</td>\n",
       "      <td>False</td>\n",
       "      <td>NPC</td>\n",
       "      <td>False</td>\n",
       "      <td>True</td>\n",
       "      <td>False</td>\n",
       "      <td>True</td>\n",
       "      <td>NaN</td>\n",
       "      <td>NaN</td>\n",
       "      <td>False</td>\n",
       "      <td>...</td>\n",
       "      <td>0.0</td>\n",
       "      <td>2.49</td>\n",
       "      <td>0.02</td>\n",
       "      <td>98.605923</td>\n",
       "      <td>99.083942</td>\n",
       "      <td>0.761804</td>\n",
       "      <td>0.089186</td>\n",
       "      <td>0.065069</td>\n",
       "      <td>5090.0</td>\n",
       "      <td>8278</td>\n",
       "    </tr>\n",
       "  </tbody>\n",
       "</table>\n",
       "<p>5 rows × 47 columns</p>\n",
       "</div>"
      ],
      "text/plain": [
       "       single pooled phenotype neuron progenitor stressed craig_venter  \\\n",
       "CVN_01   True  False       NPC  False       True    False         True   \n",
       "CVN_02   True  False       NPC  False       True    False         True   \n",
       "CVN_03   True  False       NPC  False       True    False         True   \n",
       "CVN_04   True  False       NPC  False       True    False         True   \n",
       "CVN_05   True  False       NPC  False       True    False         True   \n",
       "\n",
       "       differentiation_batch split outlier              ...               \\\n",
       "CVN_01                   NaN   NaN   False              ...                \n",
       "CVN_02                   NaN   NaN   False              ...                \n",
       "CVN_03                   NaN   NaN   False              ...                \n",
       "CVN_04                   NaN   NaN   False              ...                \n",
       "CVN_05                   NaN   NaN   False              ...                \n",
       "\n",
       "       % of reads unmapped: too many mismatches  \\\n",
       "CVN_01                                      0.0   \n",
       "CVN_02                                      0.0   \n",
       "CVN_03                                      0.0   \n",
       "CVN_04                                      0.0   \n",
       "CVN_05                                      0.0   \n",
       "\n",
       "       % of reads unmapped: too short % of reads unmapped: other  \\\n",
       "CVN_01                           3.10                       0.02   \n",
       "CVN_02                           3.96                       0.02   \n",
       "CVN_03                           4.99                       0.02   \n",
       "CVN_04                           2.89                       0.02   \n",
       "CVN_05                           2.49                       0.02   \n",
       "\n",
       "        % splices: Annotated (sjdb)  % splices: GT/AG  % splices: GC/AG  \\\n",
       "CVN_01                    98.841858         99.126387          0.652647   \n",
       "CVN_02                    98.614629         99.020137          0.801086   \n",
       "CVN_03                    98.596403         99.028733          0.796140   \n",
       "CVN_04                    98.831275         99.120483          0.711286   \n",
       "CVN_05                    98.605923         99.083942          0.761804   \n",
       "\n",
       "        % splices: AT/AC  % splices: Non-canonical  \\\n",
       "CVN_01          0.134704                  0.086261   \n",
       "CVN_02          0.097722                  0.081054   \n",
       "CVN_03          0.101854                  0.073272   \n",
       "CVN_04          0.084708                  0.083523   \n",
       "CVN_05          0.089186                  0.065069   \n",
       "\n",
       "        Number of AS exons detected  Number of genes with TPM > 1  \n",
       "CVN_01                       4705.0                          6499  \n",
       "CVN_02                       3672.0                          6780  \n",
       "CVN_03                       3022.0                          5234  \n",
       "CVN_04                       4724.0                          7659  \n",
       "CVN_05                       5090.0                          8278  \n",
       "\n",
       "[5 rows x 47 columns]"
      ]
     },
     "execution_count": 6,
     "metadata": {},
     "output_type": "execute_result"
    }
   ],
   "source": [
    "detection = study.metadata.data.join(study.mapping_stats.data, how='outer')\n",
    "print(detection.shape)\n",
    "detection = detection.join(number_of_events_detected, how='outer')\n",
    "print(detection.shape)\n",
    "detection = detection.join(number_of_genes_detected, how='outer')\n",
    "print(detection.shape)\n",
    "detection.head()"
   ]
  },
  {
   "cell_type": "code",
   "execution_count": 7,
   "metadata": {
    "collapsed": false
   },
   "outputs": [
    {
     "data": {
      "text/html": [
       "<div>\n",
       "<table border=\"1\" class=\"dataframe\">\n",
       "  <thead>\n",
       "    <tr style=\"text-align: right;\">\n",
       "      <th></th>\n",
       "      <th>single</th>\n",
       "      <th>pooled</th>\n",
       "      <th>phenotype</th>\n",
       "      <th>neuron</th>\n",
       "      <th>progenitor</th>\n",
       "      <th>stressed</th>\n",
       "      <th>craig_venter</th>\n",
       "      <th>differentiation_batch</th>\n",
       "      <th>split</th>\n",
       "      <th>outlier</th>\n",
       "      <th>...</th>\n",
       "      <th>% of reads unmapped: too many mismatches</th>\n",
       "      <th>% of reads unmapped: too short</th>\n",
       "      <th>% of reads unmapped: other</th>\n",
       "      <th>% splices: Annotated (sjdb)</th>\n",
       "      <th>% splices: GT/AG</th>\n",
       "      <th>% splices: GC/AG</th>\n",
       "      <th>% splices: AT/AC</th>\n",
       "      <th>% splices: Non-canonical</th>\n",
       "      <th>Number of AS exons detected</th>\n",
       "      <th>Number of genes with TPM &gt; 1</th>\n",
       "    </tr>\n",
       "  </thead>\n",
       "  <tbody>\n",
       "    <tr>\n",
       "      <th>CVN_17</th>\n",
       "      <td>False</td>\n",
       "      <td>True</td>\n",
       "      <td>NPC</td>\n",
       "      <td>False</td>\n",
       "      <td>True</td>\n",
       "      <td>False</td>\n",
       "      <td>True</td>\n",
       "      <td>NaN</td>\n",
       "      <td>NaN</td>\n",
       "      <td>False</td>\n",
       "      <td>...</td>\n",
       "      <td>0.0</td>\n",
       "      <td>2.71</td>\n",
       "      <td>0.02</td>\n",
       "      <td>99.092466</td>\n",
       "      <td>99.203314</td>\n",
       "      <td>0.643057</td>\n",
       "      <td>0.099546</td>\n",
       "      <td>0.054083</td>\n",
       "      <td>10365.0</td>\n",
       "      <td>12443</td>\n",
       "    </tr>\n",
       "    <tr>\n",
       "      <th>CVN_35</th>\n",
       "      <td>False</td>\n",
       "      <td>True</td>\n",
       "      <td>NPC</td>\n",
       "      <td>False</td>\n",
       "      <td>True</td>\n",
       "      <td>False</td>\n",
       "      <td>True</td>\n",
       "      <td>NaN</td>\n",
       "      <td>NaN</td>\n",
       "      <td>False</td>\n",
       "      <td>...</td>\n",
       "      <td>0.0</td>\n",
       "      <td>2.51</td>\n",
       "      <td>0.02</td>\n",
       "      <td>99.142378</td>\n",
       "      <td>99.223608</td>\n",
       "      <td>0.624636</td>\n",
       "      <td>0.089791</td>\n",
       "      <td>0.061965</td>\n",
       "      <td>11194.0</td>\n",
       "      <td>11995</td>\n",
       "    </tr>\n",
       "    <tr>\n",
       "      <th>N4_05</th>\n",
       "      <td>False</td>\n",
       "      <td>True</td>\n",
       "      <td>NPC</td>\n",
       "      <td>False</td>\n",
       "      <td>True</td>\n",
       "      <td>False</td>\n",
       "      <td>False</td>\n",
       "      <td>NaN</td>\n",
       "      <td>NaN</td>\n",
       "      <td>False</td>\n",
       "      <td>...</td>\n",
       "      <td>0.0</td>\n",
       "      <td>15.62</td>\n",
       "      <td>0.01</td>\n",
       "      <td>99.151073</td>\n",
       "      <td>99.219046</td>\n",
       "      <td>0.609139</td>\n",
       "      <td>0.103243</td>\n",
       "      <td>0.068572</td>\n",
       "      <td>10025.0</td>\n",
       "      <td>10771</td>\n",
       "    </tr>\n",
       "  </tbody>\n",
       "</table>\n",
       "<p>3 rows × 47 columns</p>\n",
       "</div>"
      ],
      "text/plain": [
       "       single pooled phenotype neuron progenitor stressed craig_venter  \\\n",
       "CVN_17  False   True       NPC  False       True    False         True   \n",
       "CVN_35  False   True       NPC  False       True    False         True   \n",
       "N4_05   False   True       NPC  False       True    False        False   \n",
       "\n",
       "       differentiation_batch split outlier              ...               \\\n",
       "CVN_17                   NaN   NaN   False              ...                \n",
       "CVN_35                   NaN   NaN   False              ...                \n",
       "N4_05                    NaN   NaN   False              ...                \n",
       "\n",
       "       % of reads unmapped: too many mismatches  \\\n",
       "CVN_17                                      0.0   \n",
       "CVN_35                                      0.0   \n",
       "N4_05                                       0.0   \n",
       "\n",
       "       % of reads unmapped: too short % of reads unmapped: other  \\\n",
       "CVN_17                           2.71                       0.02   \n",
       "CVN_35                           2.51                       0.02   \n",
       "N4_05                           15.62                       0.01   \n",
       "\n",
       "        % splices: Annotated (sjdb)  % splices: GT/AG  % splices: GC/AG  \\\n",
       "CVN_17                    99.092466         99.203314          0.643057   \n",
       "CVN_35                    99.142378         99.223608          0.624636   \n",
       "N4_05                     99.151073         99.219046          0.609139   \n",
       "\n",
       "        % splices: AT/AC  % splices: Non-canonical  \\\n",
       "CVN_17          0.099546                  0.054083   \n",
       "CVN_35          0.089791                  0.061965   \n",
       "N4_05           0.103243                  0.068572   \n",
       "\n",
       "        Number of AS exons detected  Number of genes with TPM > 1  \n",
       "CVN_17                      10365.0                         12443  \n",
       "CVN_35                      11194.0                         11995  \n",
       "N4_05                       10025.0                         10771  \n",
       "\n",
       "[3 rows x 47 columns]"
      ]
     },
     "execution_count": 7,
     "metadata": {},
     "output_type": "execute_result"
    }
   ],
   "source": [
    "detection.query('phenotype==\"NPC\" & pooled')"
   ]
  },
  {
   "cell_type": "code",
   "execution_count": 8,
   "metadata": {
    "collapsed": false
   },
   "outputs": [
    {
     "name": "stdout",
     "output_type": "stream",
     "text": [
      "Automatic pdb calling has been turned ON\n"
     ]
    }
   ],
   "source": [
    "%pdb"
   ]
  },
  {
   "cell_type": "code",
   "execution_count": 9,
   "metadata": {
    "collapsed": true
   },
   "outputs": [],
   "source": [
    "sns.set(context='paper', style='whitegrid')"
   ]
  },
  {
   "cell_type": "code",
   "execution_count": 10,
   "metadata": {
    "collapsed": false
   },
   "outputs": [],
   "source": [
    "detection['Uniquely mapped reads (millions)'] = detection['Uniquely mapped reads number']/1e6"
   ]
  },
  {
   "cell_type": "code",
   "execution_count": 11,
   "metadata": {
    "collapsed": true
   },
   "outputs": [],
   "source": [
    "import matplotlib as mpl"
   ]
  },
  {
   "cell_type": "code",
   "execution_count": 12,
   "metadata": {
    "collapsed": false
   },
   "outputs": [
    {
     "data": {
      "text/plain": [
       "'1.5.1'"
      ]
     },
     "execution_count": 12,
     "metadata": {},
     "output_type": "execute_result"
    }
   ],
   "source": [
    "mpl.__version__"
   ]
  },
  {
   "cell_type": "code",
   "execution_count": 13,
   "metadata": {
    "collapsed": true
   },
   "outputs": [],
   "source": [
    "highlight = 'pooled'"
   ]
  },
  {
   "cell_type": "code",
   "execution_count": 14,
   "metadata": {
    "collapsed": false
   },
   "outputs": [
    {
     "data": {
      "text/html": [
       "<div>\n",
       "<table border=\"1\" class=\"dataframe\">\n",
       "  <thead>\n",
       "    <tr style=\"text-align: right;\">\n",
       "      <th></th>\n",
       "      <th>single</th>\n",
       "      <th>pooled</th>\n",
       "      <th>phenotype</th>\n",
       "      <th>neuron</th>\n",
       "      <th>progenitor</th>\n",
       "      <th>stressed</th>\n",
       "      <th>craig_venter</th>\n",
       "      <th>differentiation_batch</th>\n",
       "      <th>split</th>\n",
       "      <th>outlier</th>\n",
       "      <th>...</th>\n",
       "      <th>% of reads unmapped: too short</th>\n",
       "      <th>% of reads unmapped: other</th>\n",
       "      <th>% splices: Annotated (sjdb)</th>\n",
       "      <th>% splices: GT/AG</th>\n",
       "      <th>% splices: GC/AG</th>\n",
       "      <th>% splices: AT/AC</th>\n",
       "      <th>% splices: Non-canonical</th>\n",
       "      <th>Number of AS exons detected</th>\n",
       "      <th>Number of genes with TPM &gt; 1</th>\n",
       "      <th>Uniquely mapped reads (millions)</th>\n",
       "    </tr>\n",
       "  </thead>\n",
       "  <tbody>\n",
       "    <tr>\n",
       "      <th>CVN_17</th>\n",
       "      <td>False</td>\n",
       "      <td>True</td>\n",
       "      <td>NPC</td>\n",
       "      <td>False</td>\n",
       "      <td>True</td>\n",
       "      <td>False</td>\n",
       "      <td>True</td>\n",
       "      <td>NaN</td>\n",
       "      <td>NaN</td>\n",
       "      <td>False</td>\n",
       "      <td>...</td>\n",
       "      <td>2.71</td>\n",
       "      <td>0.02</td>\n",
       "      <td>99.092466</td>\n",
       "      <td>99.203314</td>\n",
       "      <td>0.643057</td>\n",
       "      <td>0.099546</td>\n",
       "      <td>0.054083</td>\n",
       "      <td>10365.0</td>\n",
       "      <td>12443</td>\n",
       "      <td>16.082888</td>\n",
       "    </tr>\n",
       "    <tr>\n",
       "      <th>CVN_35</th>\n",
       "      <td>False</td>\n",
       "      <td>True</td>\n",
       "      <td>NPC</td>\n",
       "      <td>False</td>\n",
       "      <td>True</td>\n",
       "      <td>False</td>\n",
       "      <td>True</td>\n",
       "      <td>NaN</td>\n",
       "      <td>NaN</td>\n",
       "      <td>False</td>\n",
       "      <td>...</td>\n",
       "      <td>2.51</td>\n",
       "      <td>0.02</td>\n",
       "      <td>99.142378</td>\n",
       "      <td>99.223608</td>\n",
       "      <td>0.624636</td>\n",
       "      <td>0.089791</td>\n",
       "      <td>0.061965</td>\n",
       "      <td>11194.0</td>\n",
       "      <td>11995</td>\n",
       "      <td>20.050395</td>\n",
       "    </tr>\n",
       "    <tr>\n",
       "      <th>M2_05</th>\n",
       "      <td>False</td>\n",
       "      <td>True</td>\n",
       "      <td>MN</td>\n",
       "      <td>True</td>\n",
       "      <td>False</td>\n",
       "      <td>False</td>\n",
       "      <td>True</td>\n",
       "      <td>batch1</td>\n",
       "      <td>NaN</td>\n",
       "      <td>False</td>\n",
       "      <td>...</td>\n",
       "      <td>7.51</td>\n",
       "      <td>0.01</td>\n",
       "      <td>98.988162</td>\n",
       "      <td>99.197568</td>\n",
       "      <td>0.609594</td>\n",
       "      <td>0.117349</td>\n",
       "      <td>0.075489</td>\n",
       "      <td>10010.0</td>\n",
       "      <td>11753</td>\n",
       "      <td>10.546951</td>\n",
       "    </tr>\n",
       "    <tr>\n",
       "      <th>M2nd_13</th>\n",
       "      <td>False</td>\n",
       "      <td>True</td>\n",
       "      <td>MN</td>\n",
       "      <td>True</td>\n",
       "      <td>False</td>\n",
       "      <td>False</td>\n",
       "      <td>True</td>\n",
       "      <td>batch2</td>\n",
       "      <td>NaN</td>\n",
       "      <td>False</td>\n",
       "      <td>...</td>\n",
       "      <td>11.90</td>\n",
       "      <td>0.01</td>\n",
       "      <td>98.612830</td>\n",
       "      <td>99.116606</td>\n",
       "      <td>0.656137</td>\n",
       "      <td>0.131935</td>\n",
       "      <td>0.095322</td>\n",
       "      <td>9418.0</td>\n",
       "      <td>11415</td>\n",
       "      <td>51.058876</td>\n",
       "    </tr>\n",
       "    <tr>\n",
       "      <th>M2nd_21</th>\n",
       "      <td>False</td>\n",
       "      <td>True</td>\n",
       "      <td>MN</td>\n",
       "      <td>True</td>\n",
       "      <td>False</td>\n",
       "      <td>False</td>\n",
       "      <td>True</td>\n",
       "      <td>batch2</td>\n",
       "      <td>NaN</td>\n",
       "      <td>False</td>\n",
       "      <td>...</td>\n",
       "      <td>12.35</td>\n",
       "      <td>0.01</td>\n",
       "      <td>98.613613</td>\n",
       "      <td>99.116186</td>\n",
       "      <td>0.657210</td>\n",
       "      <td>0.132694</td>\n",
       "      <td>0.093910</td>\n",
       "      <td>9418.0</td>\n",
       "      <td>11337</td>\n",
       "      <td>49.886442</td>\n",
       "    </tr>\n",
       "    <tr>\n",
       "      <th>M2nd_33</th>\n",
       "      <td>False</td>\n",
       "      <td>True</td>\n",
       "      <td>iPSC</td>\n",
       "      <td>False</td>\n",
       "      <td>True</td>\n",
       "      <td>False</td>\n",
       "      <td>True</td>\n",
       "      <td>batch2</td>\n",
       "      <td>NaN</td>\n",
       "      <td>False</td>\n",
       "      <td>...</td>\n",
       "      <td>12.35</td>\n",
       "      <td>0.01</td>\n",
       "      <td>98.653825</td>\n",
       "      <td>99.249515</td>\n",
       "      <td>0.632902</td>\n",
       "      <td>0.071975</td>\n",
       "      <td>0.045608</td>\n",
       "      <td>6229.0</td>\n",
       "      <td>13676</td>\n",
       "      <td>7.243846</td>\n",
       "    </tr>\n",
       "    <tr>\n",
       "      <th>M2nd_34</th>\n",
       "      <td>False</td>\n",
       "      <td>True</td>\n",
       "      <td>iPSC</td>\n",
       "      <td>False</td>\n",
       "      <td>True</td>\n",
       "      <td>False</td>\n",
       "      <td>True</td>\n",
       "      <td>batch2</td>\n",
       "      <td>NaN</td>\n",
       "      <td>False</td>\n",
       "      <td>...</td>\n",
       "      <td>10.71</td>\n",
       "      <td>0.01</td>\n",
       "      <td>98.630297</td>\n",
       "      <td>99.233657</td>\n",
       "      <td>0.633312</td>\n",
       "      <td>0.083853</td>\n",
       "      <td>0.049178</td>\n",
       "      <td>10796.0</td>\n",
       "      <td>13802</td>\n",
       "      <td>15.122492</td>\n",
       "    </tr>\n",
       "    <tr>\n",
       "      <th>N4_05</th>\n",
       "      <td>False</td>\n",
       "      <td>True</td>\n",
       "      <td>NPC</td>\n",
       "      <td>False</td>\n",
       "      <td>True</td>\n",
       "      <td>False</td>\n",
       "      <td>False</td>\n",
       "      <td>NaN</td>\n",
       "      <td>NaN</td>\n",
       "      <td>False</td>\n",
       "      <td>...</td>\n",
       "      <td>15.62</td>\n",
       "      <td>0.01</td>\n",
       "      <td>99.151073</td>\n",
       "      <td>99.219046</td>\n",
       "      <td>0.609139</td>\n",
       "      <td>0.103243</td>\n",
       "      <td>0.068572</td>\n",
       "      <td>10025.0</td>\n",
       "      <td>10771</td>\n",
       "      <td>7.926793</td>\n",
       "    </tr>\n",
       "  </tbody>\n",
       "</table>\n",
       "<p>8 rows × 48 columns</p>\n",
       "</div>"
      ],
      "text/plain": [
       "        single pooled phenotype neuron progenitor stressed craig_venter  \\\n",
       "CVN_17   False   True       NPC  False       True    False         True   \n",
       "CVN_35   False   True       NPC  False       True    False         True   \n",
       "M2_05    False   True        MN   True      False    False         True   \n",
       "M2nd_13  False   True        MN   True      False    False         True   \n",
       "M2nd_21  False   True        MN   True      False    False         True   \n",
       "M2nd_33  False   True      iPSC  False       True    False         True   \n",
       "M2nd_34  False   True      iPSC  False       True    False         True   \n",
       "N4_05    False   True       NPC  False       True    False        False   \n",
       "\n",
       "        differentiation_batch split outlier                ...                 \\\n",
       "CVN_17                    NaN   NaN   False                ...                  \n",
       "CVN_35                    NaN   NaN   False                ...                  \n",
       "M2_05                  batch1   NaN   False                ...                  \n",
       "M2nd_13                batch2   NaN   False                ...                  \n",
       "M2nd_21                batch2   NaN   False                ...                  \n",
       "M2nd_33                batch2   NaN   False                ...                  \n",
       "M2nd_34                batch2   NaN   False                ...                  \n",
       "N4_05                     NaN   NaN   False                ...                  \n",
       "\n",
       "        % of reads unmapped: too short % of reads unmapped: other  \\\n",
       "CVN_17                            2.71                       0.02   \n",
       "CVN_35                            2.51                       0.02   \n",
       "M2_05                             7.51                       0.01   \n",
       "M2nd_13                          11.90                       0.01   \n",
       "M2nd_21                          12.35                       0.01   \n",
       "M2nd_33                          12.35                       0.01   \n",
       "M2nd_34                          10.71                       0.01   \n",
       "N4_05                            15.62                       0.01   \n",
       "\n",
       "        % splices: Annotated (sjdb)  % splices: GT/AG  % splices: GC/AG  \\\n",
       "CVN_17                    99.092466         99.203314          0.643057   \n",
       "CVN_35                    99.142378         99.223608          0.624636   \n",
       "M2_05                     98.988162         99.197568          0.609594   \n",
       "M2nd_13                   98.612830         99.116606          0.656137   \n",
       "M2nd_21                   98.613613         99.116186          0.657210   \n",
       "M2nd_33                   98.653825         99.249515          0.632902   \n",
       "M2nd_34                   98.630297         99.233657          0.633312   \n",
       "N4_05                     99.151073         99.219046          0.609139   \n",
       "\n",
       "         % splices: AT/AC  % splices: Non-canonical  \\\n",
       "CVN_17           0.099546                  0.054083   \n",
       "CVN_35           0.089791                  0.061965   \n",
       "M2_05            0.117349                  0.075489   \n",
       "M2nd_13          0.131935                  0.095322   \n",
       "M2nd_21          0.132694                  0.093910   \n",
       "M2nd_33          0.071975                  0.045608   \n",
       "M2nd_34          0.083853                  0.049178   \n",
       "N4_05            0.103243                  0.068572   \n",
       "\n",
       "         Number of AS exons detected  Number of genes with TPM > 1  \\\n",
       "CVN_17                       10365.0                         12443   \n",
       "CVN_35                       11194.0                         11995   \n",
       "M2_05                        10010.0                         11753   \n",
       "M2nd_13                       9418.0                         11415   \n",
       "M2nd_21                       9418.0                         11337   \n",
       "M2nd_33                       6229.0                         13676   \n",
       "M2nd_34                      10796.0                         13802   \n",
       "N4_05                        10025.0                         10771   \n",
       "\n",
       "         Uniquely mapped reads (millions)  \n",
       "CVN_17                          16.082888  \n",
       "CVN_35                          20.050395  \n",
       "M2_05                           10.546951  \n",
       "M2nd_13                         51.058876  \n",
       "M2nd_21                         49.886442  \n",
       "M2nd_33                          7.243846  \n",
       "M2nd_34                         15.122492  \n",
       "N4_05                            7.926793  \n",
       "\n",
       "[8 rows x 48 columns]"
      ]
     },
     "execution_count": 14,
     "metadata": {},
     "output_type": "execute_result"
    }
   ],
   "source": [
    "detection.query('pooled')"
   ]
  },
  {
   "cell_type": "code",
   "execution_count": null,
   "metadata": {
    "collapsed": false
   },
   "outputs": [],
   "source": []
  },
  {
   "cell_type": "code",
   "execution_count": 15,
   "metadata": {
    "collapsed": true
   },
   "outputs": [],
   "source": [
    "\n",
    "def outline(x, y, highlight, data=None,\n",
    "            *args, **kwargs):\n",
    "#     print(args, kwargs)\n",
    "#     data = kwargs.pop('data')\n",
    "#     print(data.shape, kwargs['label'])\n",
    "#     raise ValueError\n",
    "    if data.empty:\n",
    "        return\n",
    "    \n",
    "    rows = detection[highlight]\n",
    "    subset = data.loc[rows]\n",
    "    plt.scatter(subset[x], subset[y], **kwargs)"
   ]
  },
  {
   "cell_type": "code",
   "execution_count": 16,
   "metadata": {
    "collapsed": false
   },
   "outputs": [
    {
     "data": {
      "image/png": "[encoded data removed]",
      "text/plain": [
       "<matplotlib.figure.Figure at 0x2acd8c13e6d0>"
      ]
     },
     "metadata": {},
     "output_type": "display_data"
    }
   ],
   "source": [
    "x, y = 'Uniquely mapped reads (millions)', number_of_genes_detected.name\n",
    "\n",
    "g = sns.FacetGrid(detection, hue='phenotype', palette=study.phenotype_to_color, dropna=False)\n",
    "g.map(plt.scatter, x, y, linewidth=0.5, edgecolor='k', alpha=0.5)\n",
    "g.map_dataframe(outline, x, y, highlight='pooled', \n",
    "                linewidth=1, edgecolor='k')\n",
    "g.map_dataframe(outline, x, y, highlight='outlier', \n",
    "                linewidth=2, edgecolor='lightgrey')\n",
    "# for ax in g.axes.flat:\n",
    "#     ax.locator_params(nbins=6)\n",
    "g.set(xlim=(0, 100), ylim=(2500, 15000))\n",
    "g.savefig('{}/mapped_reads_vs_detected_genes.pdf'.format(folder))"
   ]
  },
  {
   "cell_type": "code",
   "execution_count": 20,
   "metadata": {
    "collapsed": false
   },
   "outputs": [
    {
     "data": {
      "image/png": "[encoded data removed]",
      "text/plain": [
       "<matplotlib.figure.Figure at 0x2acd480f7a90>"
      ]
     },
     "metadata": {},
     "output_type": "display_data"
    }
   ],
   "source": [
    "x, y = 'Uniquely mapped reads (millions)', number_of_genes_detected.name\n",
    "\n",
    "g = sns.FacetGrid(detection, hue='phenotype', palette=study.phenotype_to_color, dropna=False, \n",
    "                  col='phenotype', col_order=study.phenotype_order)\n",
    "g.map(plt.scatter, x, y, linewidth=0.5, edgecolor='k', alpha=0.5)\n",
    "g.map_dataframe(outline, x, y, highlight='pooled', \n",
    "                linewidth=1, edgecolor='k')\n",
    "g.map_dataframe(outline, x, y, highlight='outlier', \n",
    "                linewidth=2, edgecolor='lightgrey')\n",
    "# for ax in g.axes.flat:\n",
    "#     ax.locator_params(nbins=6)\n",
    "g.set(xlim=(0, 100), ylim=(2500, 15000))\n",
    "g.savefig('{}/mapped_reads_vs_detected_genes_faceted.pdf'.format(folder))"
   ]
  },
  {
   "cell_type": "code",
   "execution_count": 17,
   "metadata": {
    "collapsed": false,
    "scrolled": true
   },
   "outputs": [
    {
     "data": {
      "image/png": "[encoded data removed]",
      "text/plain": [
       "<matplotlib.figure.Figure at 0x2acd67dd10d0>"
      ]
     },
     "metadata": {},
     "output_type": "display_data"
    }
   ],
   "source": [
    "x, y = 'Uniquely mapped reads (millions)', number_of_events_detected.name\n",
    "\n",
    "g = sns.FacetGrid(detection, hue='phenotype', palette=study.phenotype_to_color, dropna=False)\n",
    "g.map(plt.scatter, x, y, linewidth=0.5, edgecolor='k', alpha=0.5)\n",
    "g.map_dataframe(outline, x, y, highlight='pooled', \n",
    "                linewidth=1, edgecolor='k')\n",
    "g.map_dataframe(outline, x, y, highlight='outlier', \n",
    "                linewidth=2, edgecolor='lightgrey')\n",
    "g.set(xlim=(0, 100))\n",
    "g.savefig('{}/mapped_reads_vs_detected_events.pdf'.format(folder))"
   ]
  },
  {
   "cell_type": "code",
   "execution_count": 21,
   "metadata": {
    "collapsed": false
   },
   "outputs": [
    {
     "data": {
      "image/png": "[encoded data removed]",
      "text/plain": [
       "<matplotlib.figure.Figure at 0x2acd8c170c90>"
      ]
     },
     "metadata": {},
     "output_type": "display_data"
    }
   ],
   "source": [
    "x, y = 'Uniquely mapped reads (millions)', number_of_events_detected.name\n",
    "\n",
    "g = sns.FacetGrid(detection, hue='phenotype', palette=study.phenotype_to_color, dropna=False,\n",
    "                  col='phenotype', col_order=study.phenotype_order)\n",
    "g.map(plt.scatter, x, y, linewidth=0.5, edgecolor='k', alpha=0.5)\n",
    "g.map_dataframe(outline, x, y, highlight='pooled', \n",
    "                linewidth=1, edgecolor='k')\n",
    "g.map_dataframe(outline, x, y, highlight='outlier', \n",
    "                linewidth=2, edgecolor='lightgrey')\n",
    "g.set(xlim=(0, 100))\n",
    "g.savefig('{}/mapped_reads_vs_detected_events_faceted.pdf'.format(folder))"
   ]
  },
  {
   "cell_type": "code",
   "execution_count": 72,
   "metadata": {
    "collapsed": true
   },
   "outputs": [],
   "source": [
    "sns.regplot?"
   ]
  },
  {
   "cell_type": "code",
   "execution_count": null,
   "metadata": {
    "collapsed": true
   },
   "outputs": [],
   "source": []
  }
 ],
 "metadata": {
  "kernelspec": {
   "display_name": "Python 2",
   "language": "python",
   "name": "python2"
  },
  "language_info": {
   "codemirror_mode": {
    "name": "ipython",
    "version": 2
   },
   "file_extension": ".py",
   "mimetype": "text/x-python",
   "name": "python",
   "nbconvert_exporter": "python",
   "pygments_lexer": "ipython2",
   "version": "2.7.11"
  }
 },
 "nbformat": 4,
 "nbformat_minor": 0
}
