{
 "cells": [
  {
   "cell_type": "code",
   "execution_count": 75,
   "metadata": {
    "collapsed": true
   },
   "outputs": [],
   "source": [
    "import glob\n",
    "import os\n",
    "import qtools"
   ]
  },
  {
   "cell_type": "code",
   "execution_count": 2,
   "metadata": {
    "collapsed": true
   },
   "outputs": [],
   "source": [
    "project = 'singlecell_pnms'"
   ]
  },
  {
   "cell_type": "code",
   "execution_count": 3,
   "metadata": {
    "collapsed": false
   },
   "outputs": [
    {
     "name": "stdout",
     "output_type": "stream",
     "text": [
      "/home/obotvinnik/processing_scripts/singlecell_pnms\n"
     ]
    }
   ],
   "source": [
    "cd ~/projects/$project/scripts"
   ]
  },
  {
   "cell_type": "code",
   "execution_count": 4,
   "metadata": {
    "collapsed": false
   },
   "outputs": [],
   "source": [
    "jobname = '{project}_samtools_rmdup'.format(project=project)\n",
    "\n",
    "# qtools.Submitter(commands, jobname, array=True, walltime='2:00:00')"
   ]
  },
  {
   "cell_type": "code",
   "execution_count": 5,
   "metadata": {
    "collapsed": false
   },
   "outputs": [
    {
     "name": "stdout",
     "output_type": "stream",
     "text": [
      "#!/bin/bash\r\n",
      "#PBS -N singlecell_pnms_samtools_rmdup\r\n",
      "#PBS -o singlecell_pnms_samtools_rmdup.sh.out\r\n",
      "#PBS -e singlecell_pnms_samtools_rmdup.sh.err\r\n",
      "#PBS -V\r\n",
      "#PBS -l walltime=2:00:00\r\n",
      "#PBS -l nodes=1:ppn=1\r\n",
      "#PBS -A yeo-group\r\n",
      "#PBS -q home\r\n",
      "#PBS -t 1-299\r\n",
      "\r\n",
      "# Go to the directory from which the script was called\r\n",
      "cd $PBS_O_WORKDIR\r\n",
      "cmd[1]=\"samtools rmdup /oasis/tscc/scratch/obotvinnik/projects/singlecell_pnms/analysis/bams_from_aws/N2_08_R1.fastq.gz.polyATrim.adapterTrim.rmRep.sorted.rg.bam /oasis/tscc/scratch/obotvinnik/projects/singlecell_pnms/analysis/bams_from_aws/rmdup/N2_08_R1.fastq.gz.polyATrim.adapterTrim.rmRep.sorted.rg.bam\"\r\n",
      "cmd[2]=\"samtools rmdup /oasis/tscc/scratch/obotvinnik/projects/singlecell_pnms/analysis/bams_from_aws/P8_02_R1.fastq.gz.polyATrim.adapterTrim.rmRep.sorted.rg.bam /oasis/tscc/scratch/obotvinnik/projects/singlecell_pnms/analysis/bams_from_aws/rmdup/P8_02_R1.fastq.gz.polyATrim.adapterTrim.rmRep.sorted.rg.bam\"\r\n",
      "cmd[3]=\"samtools rmdup /oasis/tscc/scratch/obotvinnik/projects/singlecell_pnms/analysis/bams_from_aws/M2nd_05_R1.fastq.gz.polyATrim.adapterTrim.rmRep.sorted.rg.bam /oasis/tscc/scratch/obotvinnik/projects/singlecell_pnms/analysis/bams_from_aws/rmdup/M2nd_05_R1.fastq.gz.polyATrim.adapterTrim.rmRep.sorted.rg.bam\"\r\n",
      "cmd[4]=\"samtools rmdup /oasis/tscc/scratch/obotvinnik/projects/singlecell_pnms/analysis/bams_from_aws/MSA_35_R1.fastq.gz.polyATrim.adapterTrim.rmRep.sorted.rg.bam /oasis/tscc/scratch/obotvinnik/projects/singlecell_pnms/analysis/bams_from_aws/rmdup/MSA_35_R1.fastq.gz.polyATrim.adapterTrim.rmRep.sorted.rg.bam\"\r\n",
      "cmd[5]=\"samtools rmdup /oasis/tscc/scratch/obotvinnik/projects/singlecell_pnms/analysis/bams_from_aws/P9_03_R1.fastq.gz.polyATrim.adapterTrim.rmRep.sorted.rg.bam /oasis/tscc/scratch/obotvinnik/projects/singlecell_pnms/analysis/bams_from_aws/rmdup/P9_03_R1.fastq.gz.polyATrim.adapterTrim.rmRep.sorted.rg.bam\"\r\n",
      "cmd[6]=\"samtools rmdup /oasis/tscc/scratch/obotvinnik/projects/singlecell_pnms/analysis/bams_from_aws/CVN_02_R1.fastq.gz.polyATrim.adapterTrim.rmRep.sorted.rg.bam /oasis/tscc/scratch/obotvinnik/projects/singlecell_pnms/analysis/bams_from_aws/rmdup/CVN_02_R1.fastq.gz.polyATrim.adapterTrim.rmRep.sorted.rg.bam\"\r\n",
      "cmd[7]=\"samtools rmdup /oasis/tscc/scratch/obotvinnik/projects/singlecell_pnms/analysis/bams_from_aws/N3_09_R1.fastq.gz.polyATrim.adapterTrim.rmRep.sorted.rg.bam /oasis/tscc/scratch/obotvinnik/projects/singlecell_pnms/analysis/bams_from_aws/rmdup/N3_09_R1.fastq.gz.polyATrim.adapterTrim.rmRep.sorted.rg.bam\"\r\n"
     ]
    }
   ],
   "source": [
    "! head -n 20 singlecell_pnms_samtools_rmdup.sh"
   ]
  },
  {
   "cell_type": "code",
   "execution_count": 10,
   "metadata": {
    "collapsed": false
   },
   "outputs": [
    {
     "name": "stdout",
     "output_type": "stream",
     "text": [
      "[bam_rmdup_core] inconsistent BAM file for pair 'HWI-ST1001:211:C1PUCACXX:2:2307:10700:87260'. Continue anyway.\r\n",
      "[bam_rmdup_core] inconsistent BAM file for pair 'HWI-ST1001:211:C1PUCACXX:2:2108:16153:56967'. Continue anyway.\r\n",
      "[bam_rmdup_core] inconsistent BAM file for pair 'HWI-ST1001:211:C1PUCACXX:2:2313:1539:37904'. Continue anyway.\r\n",
      "[bam_rmdup_core] inconsistent BAM file for pair 'HWI-ST1001:211:C1PUCACXX:2:2212:4205:75993'. Continue anyway.\r\n",
      "[bam_rmdup_core] inconsistent BAM file for pair 'HWI-ST1001:211:C1PUCACXX:2:2310:12906:72890'. Continue anyway.\r\n",
      "[bam_rmdup_core] inconsistent BAM file for pair 'HWI-ST1001:211:C1PUCACXX:2:2215:17308:80609'. Continue anyway.\r\n",
      "[bam_rmdup_core] inconsistent BAM file for pair 'HWI-ST1001:211:C1PUCACXX:2:2109:7878:31631'. Continue anyway.\r\n",
      "[bam_rmdup_core] inconsistent BAM file for pair 'HWI-ST1001:211:C1PUCACXX:2:2201:11989:39959'. Continue anyway.\r\n",
      "[bam_rmdup_core] 3 unmatched pairs\r\n",
      "[bam_rmdup_core] 4854609 / 15997191 = 0.3035 in library 'foo'\r\n"
     ]
    }
   ],
   "source": [
    "! tail singlecell_pnms_samtools_rmdup.sh.err-1"
   ]
  },
  {
   "cell_type": "code",
   "execution_count": 14,
   "metadata": {
    "collapsed": false
   },
   "outputs": [
    {
     "name": "stdout",
     "output_type": "stream",
     "text": [
      "==> singlecell_pnms_samtools_rmdup.sh.err-1 <==\n",
      "[bam_rmdup_core] 4854609 / 15997191 = 0.3035 in library 'foo'\n",
      "\n",
      "==> singlecell_pnms_samtools_rmdup.sh.err-10 <==\n",
      "[bam_rmdup_core] 1285262 / 7022052 = 0.1830 in library 'foo'\n",
      "\n",
      "==> singlecell_pnms_samtools_rmdup.sh.err-100 <==\n",
      "[bam_rmdup_core] 64533084 / 94469832 = 0.6831 in library '\t'\n",
      "\n",
      "==> singlecell_pnms_samtools_rmdup.sh.err-101 <==\n",
      "[bam_rmdup_core] 458 / 908 = 0.5044 in library 'foo'\n",
      "\n",
      "==> singlecell_pnms_samtools_rmdup.sh.err-102 <==\n",
      "[bam_rmdup_core] 2813903 / 10642014 = 0.2644 in library 'foo'\n",
      "\n",
      "==> singlecell_pnms_samtools_rmdup.sh.err-103 <==\n",
      "[bam_rmdup_core] 7559321 / 12022062 = 0.6288 in library 'foo'\n",
      "\n",
      "==> singlecell_pnms_samtools_rmdup.sh.err-104 <==\n",
      "[bam_rmdup_core] 3590569 / 13977968 = 0.2569 in library 'foo'\n",
      "\n",
      "==> singlecell_pnms_samtools_rmdup.sh.err-105 <==\n",
      "[bam_rmdup_core] 1316 / 376861 = 0.0035 in library 'foo'\n",
      "\n",
      "==> singlecell_pnms_samtools_rmdup.sh.err-106 <==\n",
      "[bam_rmdup_core] 3600922 / 12735851 = 0.2827 in library 'foo'\n",
      "\n",
      "==> singlecell_pnms_samtools_rmdup.sh.err-107 <==\n",
      "[bam_rmdup_core] 4543660 / 13610581 = 0.3338 in library 'foo'\n",
      "\n",
      "==> singlecell_pnms_samtools_rmdup.sh.err-108 <==\n",
      "[bam_rmdup_core] 3290932 / 12227560 = 0.2691 in library 'foo'\n",
      "\n",
      "==> singlecell_pnms_samtools_rmdup.sh.err-109 <==\n",
      "[bam_rmdup_core] processing reference chrM...\n",
      "\n",
      "==> singlecell_pnms_samtools_rmdup.sh.err-11 <==\n",
      "[bam_rmdup_core] processing reference chrM...\n",
      "\n",
      "==> singlecell_pnms_samtools_rmdup.sh.err-110 <==\n",
      "[bam_rmdup_core] 5410289 / 17054585 = 0.3172 in library 'foo'\n",
      "\n",
      "==> singlecell_pnms_samtools_rmdup.sh.err-111 <==\n",
      "[bam_rmdup_core] 10835695 / 16767054 = 0.6462 in library 'foo'\n",
      "\n",
      "==> singlecell_pnms_samtools_rmdup.sh.err-112 <==\n",
      "[bam_rmdup_core] processing reference chrM...\n",
      "\n",
      "==> singlecell_pnms_samtools_rmdup.sh.err-113 <==\n",
      "[bam_rmdup_core] 3154154 / 11856054 = 0.2660 in library 'foo'\n",
      "\n",
      "==> singlecell_pnms_samtools_rmdup.sh.err-114 <==\n",
      "[bam_rmdup_core] 2540764 / 4475826 = 0.5677 in library 'foo'\n",
      "\n",
      "==> singlecell_pnms_samtools_rmdup.sh.err-115 <==\n",
      "[bam_rmdup_core] 2832795 / 11376153 = 0.2490 in library 'foo'\n",
      "\n",
      "==> singlecell_pnms_samtools_rmdup.sh.err-116 <==\n",
      "[bam_rmdup_core] 5803844 / 17415526 = 0.3333 in library 'foo'\n",
      "\n",
      "==> singlecell_pnms_samtools_rmdup.sh.err-117 <==\n",
      "[bam_rmdup_core] 1829292 / 10033009 = 0.1823 in library 'foo'\n",
      "\n",
      "==> singlecell_pnms_samtools_rmdup.sh.err-118 <==\n",
      "[bam_rmdup_core] 465 / 169139 = 0.0027 in library 'foo'\n",
      "\n",
      "==> singlecell_pnms_samtools_rmdup.sh.err-119 <==\n",
      "[bam_rmdup_core] 2410828 / 8460592 = 0.2849 in library 'foo'\n",
      "\n",
      "==> singlecell_pnms_samtools_rmdup.sh.err-12 <==\n",
      "[bam_rmdup_core] 0 / 19 = 0.0000 in library 'foo'\n",
      "\n",
      "==> singlecell_pnms_samtools_rmdup.sh.err-120 <==\n",
      "[bam_rmdup_core] processing reference chrM...\n",
      "\n",
      "==> singlecell_pnms_samtools_rmdup.sh.err-121 <==\n",
      "[bam_rmdup_core] 3034511 / 11873928 = 0.2556 in library 'foo'\n",
      "\n",
      "==> singlecell_pnms_samtools_rmdup.sh.err-122 <==\n",
      "[bam_rmdup_core] 2177546 / 8595982 = 0.2533 in library 'foo'\n",
      "\n",
      "==> singlecell_pnms_samtools_rmdup.sh.err-123 <==\n",
      "[bam_rmdup_core] 5752073 / 9078790 = 0.6336 in library 'foo'\n",
      "\n",
      "==> singlecell_pnms_samtools_rmdup.sh.err-124 <==\n",
      "[bam_rmdup_core] 3086524 / 11350313 = 0.2719 in library 'foo'\n",
      "\n",
      "==> singlecell_pnms_samtools_rmdup.sh.err-125 <==\n",
      "[bam_rmdup_core] processing reference chrM...\n",
      "\n",
      "==> singlecell_pnms_samtools_rmdup.sh.err-126 <==\n",
      "[bam_rmdup_core] 12860599 / 16494618 = 0.7797 in library 'foo'\n",
      "\n",
      "==> singlecell_pnms_samtools_rmdup.sh.err-127 <==\n",
      "[bam_rmdup_core] 31795301 / 60282535 = 0.5274 in library 'foo'\n",
      "\n",
      "==> singlecell_pnms_samtools_rmdup.sh.err-128 <==\n",
      "[bam_rmdup_core] 5009713 / 14817651 = 0.3381 in library 'foo'\n",
      "\n",
      "==> singlecell_pnms_samtools_rmdup.sh.err-129 <==\n",
      "[bam_rmdup_core] 1429461 / 7093480 = 0.2015 in library 'foo'\n",
      "\n",
      "==> singlecell_pnms_samtools_rmdup.sh.err-13 <==\n",
      "[bam_rmdup_core] 4338178 / 7250472 = 0.5983 in library 'foo'\n",
      "\n",
      "==> singlecell_pnms_samtools_rmdup.sh.err-130 <==\n",
      "[bam_rmdup_core] 2617997 / 11062625 = 0.2367 in library 'foo'\n",
      "\n",
      "==> singlecell_pnms_samtools_rmdup.sh.err-131 <==\n",
      "[bam_rmdup_core] processing reference chrM...\n",
      "\n",
      "==> singlecell_pnms_samtools_rmdup.sh.err-132 <==\n",
      "[bam_rmdup_core] 4044657 / 12349976 = 0.3275 in library 'foo'\n",
      "\n",
      "==> singlecell_pnms_samtools_rmdup.sh.err-133 <==\n",
      "[bam_rmdup_core] 0 / 467 = 0.0000 in library 'foo'\n",
      "\n",
      "==> singlecell_pnms_samtools_rmdup.sh.err-134 <==\n",
      "[bam_rmdup_core] 5254038 / 8355734 = 0.6288 in library 'foo'\n",
      "\n",
      "==> singlecell_pnms_samtools_rmdup.sh.err-135 <==\n",
      "[bam_rmdup_core] processing reference chrM...\n",
      "\n",
      "==> singlecell_pnms_samtools_rmdup.sh.err-136 <==\n",
      "[bam_rmdup_core] 3864244 / 6237308 = 0.6195 in library 'foo'\n",
      "\n",
      "==> singlecell_pnms_samtools_rmdup.sh.err-137 <==\n",
      "[bam_rmdup_core] 2446734 / 8952349 = 0.2733 in library 'foo'\n",
      "\n",
      "==> singlecell_pnms_samtools_rmdup.sh.err-138 <==\n",
      "[bam_rmdup_core] 465 / 279877 = 0.0017 in library 'foo'\n",
      "\n",
      "==> singlecell_pnms_samtools_rmdup.sh.err-139 <==\n",
      "[bam_rmdup_core] 10242788 / 24527044 = 0.4176 in library 'foo'\n",
      "\n",
      "==> singlecell_pnms_samtools_rmdup.sh.err-14 <==\n",
      "[bam_rmdup_core] 596 / 1188 = 0.5017 in library 'foo'\n",
      "\n",
      "==> singlecell_pnms_samtools_rmdup.sh.err-140 <==\n",
      "[bam_rmdup_core] 5606713 / 15827157 = 0.3542 in library 'foo'\n",
      "\n",
      "==> singlecell_pnms_samtools_rmdup.sh.err-141 <==\n",
      "[bam_rmdup_core] 2740706 / 9885763 = 0.2772 in library 'foo'\n",
      "\n",
      "==> singlecell_pnms_samtools_rmdup.sh.err-142 <==\n",
      "[bam_rmdup_core] 5 / 2679 = 0.0019 in library 'foo'\n",
      "\n",
      "==> singlecell_pnms_samtools_rmdup.sh.err-143 <==\n",
      "[bam_rmdup_core] 8146155 / 13312152 = 0.6119 in library 'foo'\n",
      "\n",
      "==> singlecell_pnms_samtools_rmdup.sh.err-144 <==\n",
      "[bam_rmdup_core] processing reference chrM...\n",
      "\n",
      "==> singlecell_pnms_samtools_rmdup.sh.err-145 <==\n",
      "[bam_rmdup_core] 5091494 / 8497310 = 0.5992 in library 'foo'\n",
      "\n",
      "==> singlecell_pnms_samtools_rmdup.sh.err-146 <==\n",
      "[bam_rmdup_core] 4162577 / 13927976 = 0.2989 in library 'foo'\n",
      "\n",
      "==> singlecell_pnms_samtools_rmdup.sh.err-147 <==\n",
      "[bam_rmdup_core] 3591745 / 12465889 = 0.2881 in library 'foo'\n",
      "\n",
      "==> singlecell_pnms_samtools_rmdup.sh.err-148 <==\n",
      "[bam_rmdup_core] 3542656 / 10599643 = 0.3342 in library 'foo'\n",
      "\n",
      "==> singlecell_pnms_samtools_rmdup.sh.err-149 <==\n",
      "[bam_rmdup_core] 20664644 / 36819804 = 0.5612 in library 'foo'\n",
      "\n",
      "==> singlecell_pnms_samtools_rmdup.sh.err-15 <==\n",
      "[bam_rmdup_core] processing reference chrM...\n",
      "\n",
      "==> singlecell_pnms_samtools_rmdup.sh.err-150 <==\n",
      "[bam_rmdup_core] 1244758 / 7343360 = 0.1695 in library 'foo'\n",
      "\n",
      "==> singlecell_pnms_samtools_rmdup.sh.err-151 <==\n",
      "[bam_rmdup_core] 4976719 / 15565288 = 0.3197 in library 'foo'\n",
      "\n",
      "==> singlecell_pnms_samtools_rmdup.sh.err-152 <==\n",
      "[bam_rmdup_core] 26844238 / 49896206 = 0.5380 in library 'foo'\n",
      "\n",
      "==> singlecell_pnms_samtools_rmdup.sh.err-153 <==\n",
      "[bam_rmdup_core] processing reference chrM...\n",
      "\n",
      "==> singlecell_pnms_samtools_rmdup.sh.err-154 <==\n",
      "[bam_rmdup_core] 5434744 / 9169382 = 0.5927 in library 'foo'\n",
      "\n",
      "==> singlecell_pnms_samtools_rmdup.sh.err-155 <==\n",
      "[bam_rmdup_core] 7091005 / 18461542 = 0.3841 in library 'foo'\n",
      "\n",
      "==> singlecell_pnms_samtools_rmdup.sh.err-156 <==\n",
      "[bam_rmdup_core] 4971590 / 13379716 = 0.3716 in library 'foo'\n",
      "\n",
      "==> singlecell_pnms_samtools_rmdup.sh.err-157 <==\n",
      "[bam_rmdup_core] 344544 / 2977551 = 0.1157 in library 'foo'\n",
      "\n",
      "==> singlecell_pnms_samtools_rmdup.sh.err-158 <==\n",
      "[bam_rmdup_core] 2061244 / 8242703 = 0.2501 in library 'foo'\n",
      "\n",
      "==> singlecell_pnms_samtools_rmdup.sh.err-159 <==\n",
      "[bam_rmdup_core] 2803396 / 4898252 = 0.5723 in library 'foo'\n",
      "\n",
      "==> singlecell_pnms_samtools_rmdup.sh.err-16 <==\n",
      "[bam_rmdup_core] 375182 / 3415932 = 0.1098 in library 'foo'\n",
      "\n",
      "==> singlecell_pnms_samtools_rmdup.sh.err-160 <==\n",
      "[bam_rmdup_core] 612037 / 3862292 = 0.1585 in library 'foo'\n",
      "\n",
      "==> singlecell_pnms_samtools_rmdup.sh.err-161 <==\n",
      "[bam_rmdup_core] 9936314 / 25271815 = 0.3932 in library 'foo'\n",
      "\n",
      "==> singlecell_pnms_samtools_rmdup.sh.err-162 <==\n",
      "[bam_rmdup_core] 3539137 / 12078521 = 0.2930 in library 'foo'\n",
      "\n",
      "==> singlecell_pnms_samtools_rmdup.sh.err-163 <==\n",
      "[bam_rmdup_core] processing reference chrM...\n",
      "\n",
      "==> singlecell_pnms_samtools_rmdup.sh.err-164 <==\n",
      "[bam_rmdup_core] 7769386 / 12878472 = 0.6033 in library 'foo'\n",
      "\n",
      "==> singlecell_pnms_samtools_rmdup.sh.err-165 <==\n",
      "[bam_rmdup_core] 232 / 148771 = 0.0016 in library 'foo'\n",
      "\n",
      "==> singlecell_pnms_samtools_rmdup.sh.err-166 <==\n",
      "[bam_rmdup_core] 732574 / 4559445 = 0.1607 in library 'foo'\n",
      "\n",
      "==> singlecell_pnms_samtools_rmdup.sh.err-167 <==\n",
      "[bam_rmdup_core] 3419585 / 11567879 = 0.2956 in library 'foo'\n",
      "\n",
      "==> singlecell_pnms_samtools_rmdup.sh.err-168 <==\n",
      "[bam_rmdup_core] 3858329 / 6535132 = 0.5904 in library 'foo'\n",
      "\n",
      "==> singlecell_pnms_samtools_rmdup.sh.err-169 <==\n",
      "[bam_rmdup_core] 9897423 / 25588290 = 0.3868 in library 'foo'\n",
      "\n",
      "==> singlecell_pnms_samtools_rmdup.sh.err-17 <==\n",
      "[bam_rmdup_core] 4974505 / 16477333 = 0.3019 in library 'foo'\n",
      "\n",
      "==> singlecell_pnms_samtools_rmdup.sh.err-170 <==\n",
      "[bam_rmdup_core] processing reference chrM...\n",
      "\n",
      "==> singlecell_pnms_samtools_rmdup.sh.err-171 <==\n",
      "[bam_rmdup_core] 5530470 / 9274364 = 0.5963 in library 'foo'\n",
      "\n",
      "==> singlecell_pnms_samtools_rmdup.sh.err-172 <==\n",
      "[bam_rmdup_core] 3673467 / 12330361 = 0.2979 in library 'foo'\n",
      "\n",
      "==> singlecell_pnms_samtools_rmdup.sh.err-173 <==\n",
      "[bam_rmdup_core] 3760847 / 12569626 = 0.2992 in library 'foo'\n",
      "\n",
      "==> singlecell_pnms_samtools_rmdup.sh.err-174 <==\n",
      "[bam_rmdup_core] 3522253 / 12877163 = 0.2735 in library 'foo'\n",
      "\n",
      "==> singlecell_pnms_samtools_rmdup.sh.err-175 <==\n",
      "[bam_rmdup_core] 988612 / 8618465 = 0.1147 in library 'foo'\n",
      "\n",
      "==> singlecell_pnms_samtools_rmdup.sh.err-176 <==\n",
      "[bam_rmdup_core] 12664973 / 25521189 = 0.4963 in library 'foo'\n",
      "\n",
      "==> singlecell_pnms_samtools_rmdup.sh.err-177 <==\n",
      "[bam_rmdup_core] 6702570 / 11240378 = 0.5963 in library 'foo'\n",
      "\n",
      "==> singlecell_pnms_samtools_rmdup.sh.err-178 <==\n",
      "[bam_rmdup_core] 14640010 / 23553623 = 0.6216 in library 'foo'\n",
      "\n",
      "==> singlecell_pnms_samtools_rmdup.sh.err-179 <==\n",
      "[bam_rmdup_core] processing reference chrM...\n",
      "\n",
      "==> singlecell_pnms_samtools_rmdup.sh.err-18 <==\n",
      "[bam_rmdup_core] 1766198 / 7269388 = 0.2430 in library 'foo'\n",
      "\n",
      "==> singlecell_pnms_samtools_rmdup.sh.err-180 <==\n",
      "[bam_rmdup_core] 2616452 / 4530336 = 0.5775 in library 'foo'\n",
      "\n",
      "==> singlecell_pnms_samtools_rmdup.sh.err-181 <==\n",
      "[bam_rmdup_core] 8498505 / 13910120 = 0.6110 in library 'foo'\n",
      "\n",
      "==> singlecell_pnms_samtools_rmdup.sh.err-182 <==\n",
      "[bam_rmdup_core] 1082222 / 6260318 = 0.1729 in library 'foo'\n",
      "\n",
      "==> singlecell_pnms_samtools_rmdup.sh.err-183 <==\n",
      "[bam_rmdup_core] 4397 / 342530 = 0.0128 in library 'foo'\n",
      "\n",
      "==> singlecell_pnms_samtools_rmdup.sh.err-184 <==\n",
      "[bam_rmdup_core] 6537898 / 10396346 = 0.6289 in library 'foo'\n",
      "\n",
      "==> singlecell_pnms_samtools_rmdup.sh.err-185 <==\n",
      "[bam_rmdup_core] processing reference chrM...\n",
      "\n",
      "==> singlecell_pnms_samtools_rmdup.sh.err-186 <==\n",
      "[bam_rmdup_core] 41021994 / 53830920 = 0.7621 in library 'foo'\n",
      "\n",
      "==> singlecell_pnms_samtools_rmdup.sh.err-187 <==\n",
      "[bam_rmdup_core] 7134939 / 11631046 = 0.6134 in library 'foo'\n",
      "\n",
      "==> singlecell_pnms_samtools_rmdup.sh.err-188 <==\n",
      "[bam_rmdup_core] 2445485 / 10200229 = 0.2397 in library 'foo'\n",
      "\n",
      "==> singlecell_pnms_samtools_rmdup.sh.err-189 <==\n",
      "[bam_rmdup_core] 1073299 / 6644864 = 0.1615 in library 'foo'\n",
      "\n",
      "==> singlecell_pnms_samtools_rmdup.sh.err-19 <==\n",
      "[bam_rmdup_core] 2509984 / 4402608 = 0.5701 in library 'foo'\n",
      "\n",
      "==> singlecell_pnms_samtools_rmdup.sh.err-190 <==\n",
      "[bam_rmdup_core] 1865299 / 3222782 = 0.5788 in library 'foo'\n",
      "\n",
      "==> singlecell_pnms_samtools_rmdup.sh.err-191 <==\n",
      "[bam_rmdup_core] 4262993 / 12839389 = 0.3320 in library 'foo'\n",
      "\n",
      "==> singlecell_pnms_samtools_rmdup.sh.err-192 <==\n",
      "[bam_rmdup_core] 3031216 / 9766025 = 0.3104 in library 'foo'\n",
      "\n",
      "==> singlecell_pnms_samtools_rmdup.sh.err-193 <==\n",
      "[bam_rmdup_core] 1251382 / 4378776 = 0.2858 in library 'foo'\n",
      "\n",
      "==> singlecell_pnms_samtools_rmdup.sh.err-194 <==\n",
      "[bam_rmdup_core] 7418638 / 20006341 = 0.3708 in library 'foo'\n",
      "\n",
      "==> singlecell_pnms_samtools_rmdup.sh.err-195 <==\n",
      "[bam_rmdup_core] 5716600 / 9476546 = 0.6032 in library 'foo'\n",
      "\n",
      "==> singlecell_pnms_samtools_rmdup.sh.err-196 <==\n",
      "[bam_rmdup_core] 22408946 / 43750295 = 0.5122 in library 'foo'\n",
      "\n",
      "==> singlecell_pnms_samtools_rmdup.sh.err-197 <==\n",
      "[bam_rmdup_core] processing reference chrM...\n",
      "\n",
      "==> singlecell_pnms_samtools_rmdup.sh.err-198 <==\n",
      "[bam_rmdup_core] 5710282 / 9260814 = 0.6166 in library 'foo'\n",
      "\n",
      "==> singlecell_pnms_samtools_rmdup.sh.err-199 <==\n",
      "[bam_rmdup_core] 20697600 / 43152100 = 0.4796 in library 'foo'\n"
     ]
    }
   ],
   "source": [
    "! tail -n 1 singlecell_pnms_samtools_rmdup.sh.err-1*"
   ]
  },
  {
   "cell_type": "code",
   "execution_count": 15,
   "metadata": {
    "collapsed": false
   },
   "outputs": [
    {
     "data": {
      "text/plain": [
       "['[bam_rmdup_core]',\n",
       " '4854609',\n",
       " '/',\n",
       " '15997191',\n",
       " '=',\n",
       " '0.3035',\n",
       " 'in',\n",
       " 'library',\n",
       " \"'foo'\"]"
      ]
     },
     "execution_count": 15,
     "metadata": {},
     "output_type": "execute_result"
    }
   ],
   "source": [
    "line = \"[bam_rmdup_core] 4854609 / 15997191 = 0.3035 in library 'foo'\"\n",
    "line.split()"
   ]
  },
  {
   "cell_type": "code",
   "execution_count": 12,
   "metadata": {
    "collapsed": false
   },
   "outputs": [
    {
     "data": {
      "text/plain": [
       "'singlecell_pnms_samtools_rmdup'"
      ]
     },
     "execution_count": 12,
     "metadata": {},
     "output_type": "execute_result"
    }
   ],
   "source": [
    "jobname"
   ]
  },
  {
   "cell_type": "code",
   "execution_count": 11,
   "metadata": {
    "collapsed": false,
    "scrolled": false
   },
   "outputs": [
    {
     "data": {
      "text/plain": [
       "1001"
      ]
     },
     "execution_count": 11,
     "metadata": {},
     "output_type": "execute_result"
    }
   ],
   "source": [
    "lines = ! tail -n 1 $jobname*err* \n",
    "len(lines)"
   ]
  },
  {
   "cell_type": "code",
   "execution_count": 56,
   "metadata": {
    "collapsed": false
   },
   "outputs": [
    {
     "data": {
      "text/plain": [
       "'99'"
      ]
     },
     "execution_count": 56,
     "metadata": {},
     "output_type": "execute_result"
    }
   ],
   "source": [
    "'==> singlecell_pnms_samtools_rmdup.sh.err-99 <=='.split()[1].split('-')[-1]"
   ]
  },
  {
   "cell_type": "markdown",
   "metadata": {},
   "source": [
    "## get the number of reads removed by rmdup"
   ]
  },
  {
   "cell_type": "code",
   "execution_count": 24,
   "metadata": {
    "collapsed": false
   },
   "outputs": [
    {
     "name": "stdout",
     "output_type": "stream",
     "text": [
      "cmd[1]=\"samtools rmdup /oasis/tscc/scratch/obotvinnik/projects/singlecell_pnms/analysis/bams_from_aws/N2_08_R1.fastq.gz.polyATrim.adapterTrim.rmRep.sorted.rg.bam /oasis/tscc/scratch/obotvinnik/projects/singlecell_pnms/analysis/bams_from_aws/rmdup/N2_08_R1.fastq.gz.polyATrim.adapterTrim.rmRep.sorted.rg.bam\"\r\n"
     ]
    }
   ],
   "source": [
    "! grep '\\[1\\]' singlecell_pnms_samtools_rmdup.sh"
   ]
  },
  {
   "cell_type": "code",
   "execution_count": 33,
   "metadata": {
    "collapsed": false
   },
   "outputs": [
    {
     "data": {
      "text/plain": [
       "['cmd[1]=\"samtools rmdup /oasis/tscc/scratch/obotvinnik/projects/singlecell_pnms/analysis/bams_from_aws/N2_08_R1.fastq.gz.polyATrim.adapterTrim.rmRep.sorted.rg.bam /oasis/tscc/scratch/obotvinnik/projects/singlecell_pnms/analysis/bams_from_aws/rmdup/N2_08_R1.fastq.gz.polyATrim.adapterTrim.rmRep.sorted.rg.bam\"']"
      ]
     },
     "execution_count": 33,
     "metadata": {},
     "output_type": "execute_result"
    }
   ],
   "source": [
    "pattern = \"'\\[1\\]'\"\n",
    "\n",
    "grepped = ! grep $pattern singlecell_pnms_samtools_rmdup.sh\n",
    "grepped"
   ]
  },
  {
   "cell_type": "code",
   "execution_count": 28,
   "metadata": {
    "collapsed": false
   },
   "outputs": [
    {
     "name": "stdout",
     "output_type": "stream",
     "text": [
      "Automatic pdb calling has been turned ON\n"
     ]
    }
   ],
   "source": [
    "%pdb"
   ]
  },
  {
   "cell_type": "code",
   "execution_count": 42,
   "metadata": {
    "collapsed": false,
    "scrolled": false
   },
   "outputs": [
    {
     "data": {
      "text/html": [
       "<div>\n",
       "<table border=\"1\" class=\"dataframe\">\n",
       "  <thead>\n",
       "    <tr style=\"text-align: right;\">\n",
       "      <th></th>\n",
       "      <th>sample_id</th>\n",
       "      <th>bam</th>\n",
       "      <th>sh_index</th>\n",
       "      <th>sh_filename</th>\n",
       "      <th>removed</th>\n",
       "      <th>total</th>\n",
       "      <th>percent</th>\n",
       "    </tr>\n",
       "  </thead>\n",
       "  <tbody>\n",
       "    <tr>\n",
       "      <th>0</th>\n",
       "      <td>N2_08</td>\n",
       "      <td>/oasis/tscc/scratch/obotvinnik/projects/single...</td>\n",
       "      <td>1</td>\n",
       "      <td>singlecell_pnms_samtools_rmdup.sh</td>\n",
       "      <td>4854609</td>\n",
       "      <td>15997191</td>\n",
       "      <td>30.346634</td>\n",
       "    </tr>\n",
       "    <tr>\n",
       "      <th>1</th>\n",
       "      <td>M3_01</td>\n",
       "      <td>/oasis/tscc/scratch/obotvinnik/projects/single...</td>\n",
       "      <td>10</td>\n",
       "      <td>singlecell_pnms_samtools_rmdup.sh</td>\n",
       "      <td>1285262</td>\n",
       "      <td>7022052</td>\n",
       "      <td>18.303225</td>\n",
       "    </tr>\n",
       "    <tr>\n",
       "      <th>2</th>\n",
       "      <td>P9_04</td>\n",
       "      <td>/oasis/tscc/scratch/obotvinnik/projects/single...</td>\n",
       "      <td>100</td>\n",
       "      <td>singlecell_pnms_samtools_rmdup.sh</td>\n",
       "      <td>64533084</td>\n",
       "      <td>94469832</td>\n",
       "      <td>68.310785</td>\n",
       "    </tr>\n",
       "    <tr>\n",
       "      <th>3</th>\n",
       "      <td>M2nd_31</td>\n",
       "      <td>/oasis/tscc/scratch/obotvinnik/projects/single...</td>\n",
       "      <td>101</td>\n",
       "      <td>singlecell_pnms_samtools_rmdup.sh</td>\n",
       "      <td>458</td>\n",
       "      <td>908</td>\n",
       "      <td>50.440529</td>\n",
       "    </tr>\n",
       "    <tr>\n",
       "      <th>4</th>\n",
       "      <td>P2_07</td>\n",
       "      <td>/oasis/tscc/scratch/obotvinnik/projects/single...</td>\n",
       "      <td>102</td>\n",
       "      <td>singlecell_pnms_samtools_rmdup.sh</td>\n",
       "      <td>2813903</td>\n",
       "      <td>10642014</td>\n",
       "      <td>26.441452</td>\n",
       "    </tr>\n",
       "  </tbody>\n",
       "</table>\n",
       "</div>"
      ],
      "text/plain": [
       "  sample_id                                                bam  sh_index  \\\n",
       "0     N2_08  /oasis/tscc/scratch/obotvinnik/projects/single...         1   \n",
       "1     M3_01  /oasis/tscc/scratch/obotvinnik/projects/single...        10   \n",
       "2     P9_04  /oasis/tscc/scratch/obotvinnik/projects/single...       100   \n",
       "3   M2nd_31  /oasis/tscc/scratch/obotvinnik/projects/single...       101   \n",
       "4     P2_07  /oasis/tscc/scratch/obotvinnik/projects/single...       102   \n",
       "\n",
       "                         sh_filename   removed     total    percent  \n",
       "0  singlecell_pnms_samtools_rmdup.sh   4854609  15997191  30.346634  \n",
       "1  singlecell_pnms_samtools_rmdup.sh   1285262   7022052  18.303225  \n",
       "2  singlecell_pnms_samtools_rmdup.sh  64533084  94469832  68.310785  \n",
       "3  singlecell_pnms_samtools_rmdup.sh       458       908  50.440529  \n",
       "4  singlecell_pnms_samtools_rmdup.sh   2813903  10642014  26.441452  "
      ]
     },
     "execution_count": 42,
     "metadata": {},
     "output_type": "execute_result"
    }
   ],
   "source": [
    "import os\n",
    "import pandas as pd\n",
    "\n",
    "def get_number_reads(lines):\n",
    "    for line in lines:\n",
    "        if line.startswith('=='):\n",
    "            err_filename = line.split()[1]\n",
    "            index = int(err_filename.split('-')[-1])\n",
    "            sh_filename = err_filename.split('.err')[0]\n",
    "            pattern = \"'\\[{}\\]'\".format(index)\n",
    "#             print(pattern)\n",
    "            grepped = ! grep $pattern $sh_filename\n",
    "#             print('grepped', grepped)\n",
    "            bamfile = [x for x in grepped[0].split() if x.startswith('/oasis')][0]\n",
    "            sample_id = '_'.join(os.path.basename(bamfile).split('_')[:2])\n",
    "        elif line.startswith('['):\n",
    "            if 'in library' in line:\n",
    "                pieces = line.split()\n",
    "                removed = int(pieces[1])\n",
    "                total = int(pieces[3])\n",
    "                percent = 100 * float(removed)/total\n",
    "            else:\n",
    "                removed = 0\n",
    "                total = 0\n",
    "                percent = 0\n",
    "        else:\n",
    "            yield sample_id, bamfile, index, sh_filename, removed, total, percent\n",
    "            \n",
    "\n",
    "reads_removed = pd.DataFrame.from_records(get_number_reads(lines), \n",
    "                                          columns=['sample_id', 'bam', 'sh_index', 'sh_filename', \n",
    "                                                   'removed', 'total', 'percent'])\n",
    "reads_removed.head()"
   ]
  },
  {
   "cell_type": "code",
   "execution_count": 84,
   "metadata": {
    "collapsed": false
   },
   "outputs": [],
   "source": [
    "import matplotlib.pyplot as plt\n",
    "import seaborn as sns\n",
    "\n",
    "%matplotlib inline\n",
    "\n",
    "sns.set(style='white', context='paper', rc={'font.sans-serif':'Arial', 'pdf.fonttype': 42})"
   ]
  },
  {
   "cell_type": "code",
   "execution_count": 85,
   "metadata": {
    "collapsed": true
   },
   "outputs": [],
   "source": [
    "figure_folder = 'figures/010_count_percent_reads_removed_by_samtools_rmdup'\n",
    "! mkdir -p $figure_folder"
   ]
  },
  {
   "cell_type": "code",
   "execution_count": 86,
   "metadata": {
    "collapsed": true
   },
   "outputs": [],
   "source": [
    "import numpy as np"
   ]
  },
  {
   "cell_type": "code",
   "execution_count": 87,
   "metadata": {
    "collapsed": true
   },
   "outputs": [],
   "source": [
    "label = '% PCR duplicates removed\\nby \"samtools rmdup\"'"
   ]
  },
  {
   "cell_type": "code",
   "execution_count": 88,
   "metadata": {
    "collapsed": false
   },
   "outputs": [
    {
     "data": {
      "image/png": "[encoded data removed]",
      "text/plain": [
       "<matplotlib.figure.Figure at 0x2b15266f2a10>"
      ]
     },
     "metadata": {},
     "output_type": "display_data"
    }
   ],
   "source": [
    "fig, ax = plt.subplots(figsize=(2, 1.5))\n",
    "\n",
    "data = reads_removed['percent']\n",
    "data = data[data > 0]\n",
    "\n",
    "sns.distplot(data, kde=False, bins=np.linspace(0, 100, 20))\n",
    "ax.set(xlim=(0, 100), xlabel=label, ylabel='Number of cells')\n",
    "sns.despine()\n",
    "fig.savefig('{}/percent_reads_removed.pdf'.format(figure_folder))"
   ]
  },
  {
   "cell_type": "code",
   "execution_count": 89,
   "metadata": {
    "collapsed": false
   },
   "outputs": [
    {
     "name": "stdout",
     "output_type": "stream",
     "text": [
      "2017-01-06 22:32:04\tReading datapackage from /projects/ps-yeolab/obotvinnik/flotilla_projects/singlecell_pnm/datapackage.json\n",
      "2017-01-06 22:32:04\tParsing datapackage to create a Study object\n",
      "https://s3-us-west-2.amazonaws.com/flotilla-projects/ercc/ERCC_Controls.txt has not been downloaded before.\n",
      "\tDownloading now to /home/obotvinnik/flotilla_projects/hg19/ERCC_Controls.txt\n",
      "2017-01-06 22:32:21 \tInitializing Study\n",
      "2017-01-06 22:32:21 \tInitializing Predictor configuration manager for Study\n",
      "2017-01-06 22:32:21\tPredictor ExtraTreesClassifier is of type <class 'sklearn.ensemble.forest.ExtraTreesClassifier'>\n",
      "2017-01-06 22:32:21\tAdded ExtraTreesClassifier to default predictors\n",
      "2017-01-06 22:32:21\tPredictor ExtraTreesRegressor is of type <class 'sklearn.ensemble.forest.ExtraTreesRegressor'>\n",
      "2017-01-06 22:32:21\tAdded ExtraTreesRegressor to default predictors\n",
      "2017-01-06 22:32:21\tPredictor GradientBoostingClassifier is of type <class 'sklearn.ensemble.gradient_boosting.GradientBoostingClassifier'>\n",
      "2017-01-06 22:32:21\tAdded GradientBoostingClassifier to default predictors\n",
      "2017-01-06 22:32:21\tPredictor GradientBoostingRegressor is of type <class 'sklearn.ensemble.gradient_boosting.GradientBoostingRegressor'>\n",
      "2017-01-06 22:32:21\tAdded GradientBoostingRegressor to default predictors\n",
      "2017-01-06 22:32:21 \tLoading metadata\n",
      "2017-01-06 22:32:21\tLoading expression data\n",
      "2017-01-06 22:32:21\tInitializing expression\n",
      "2017-01-06 22:32:21\tDone initializing expression\n",
      "2017-01-06 22:32:23\tLoading splicing data\n",
      "2017-01-06 22:32:23\tInitializing splicing\n",
      "2017-01-06 22:32:23\tDone initializing splicing\n",
      "2017-01-06 22:32:23\tSuccessfully initialized a Study object!\n"
     ]
    },
    {
     "name": "stderr",
     "output_type": "stream",
     "text": [
      "Error loading species hg19 data: HTTP Error 404: Not Found"
     ]
    }
   ],
   "source": [
    "from collections import defaultdict\n",
    "\n",
    "import matplotlib as mpl\n",
    "import matplotlib.pyplot as plt\n",
    "import numpy as np\n",
    "import pandas as pd\n",
    "import seaborn as sns\n",
    "\n",
    "import six\n",
    "\n",
    "%matplotlib inline\n",
    "\n",
    "\n",
    "import flotilla\n",
    "\n",
    "\n",
    "flotilla_dir = '/projects/ps-yeolab/obotvinnik/flotilla_projects/'\n",
    "study = flotilla.embark('singlecell_pnm', flotilla_dir=flotilla_dir)"
   ]
  },
  {
   "cell_type": "code",
   "execution_count": 90,
   "metadata": {
    "collapsed": false
   },
   "outputs": [
    {
     "name": "stdout",
     "output_type": "stream",
     "text": [
      "(333, 7)\n"
     ]
    },
    {
     "data": {
      "text/html": [
       "<div>\n",
       "<table border=\"1\" class=\"dataframe\">\n",
       "  <thead>\n",
       "    <tr style=\"text-align: right;\">\n",
       "      <th></th>\n",
       "      <th>sample_id</th>\n",
       "      <th>bam</th>\n",
       "      <th>sh_index</th>\n",
       "      <th>sh_filename</th>\n",
       "      <th>removed</th>\n",
       "      <th>total</th>\n",
       "      <th>percent</th>\n",
       "      <th>single</th>\n",
       "      <th>pooled</th>\n",
       "      <th>phenotype</th>\n",
       "      <th>neuron</th>\n",
       "      <th>progenitor</th>\n",
       "      <th>stressed</th>\n",
       "      <th>craig_venter</th>\n",
       "      <th>differentiation_batch</th>\n",
       "      <th>split</th>\n",
       "      <th>outlier</th>\n",
       "    </tr>\n",
       "  </thead>\n",
       "  <tbody>\n",
       "    <tr>\n",
       "      <th>0</th>\n",
       "      <td>N2_08</td>\n",
       "      <td>/oasis/tscc/scratch/obotvinnik/projects/single...</td>\n",
       "      <td>1</td>\n",
       "      <td>singlecell_pnms_samtools_rmdup.sh</td>\n",
       "      <td>4854609</td>\n",
       "      <td>15997191</td>\n",
       "      <td>30.346634</td>\n",
       "      <td>True</td>\n",
       "      <td>False</td>\n",
       "      <td>NPC</td>\n",
       "      <td>False</td>\n",
       "      <td>True</td>\n",
       "      <td>False</td>\n",
       "      <td>False</td>\n",
       "      <td>NaN</td>\n",
       "      <td>NaN</td>\n",
       "      <td>False</td>\n",
       "    </tr>\n",
       "    <tr>\n",
       "      <th>1</th>\n",
       "      <td>M3_01</td>\n",
       "      <td>/oasis/tscc/scratch/obotvinnik/projects/single...</td>\n",
       "      <td>10</td>\n",
       "      <td>singlecell_pnms_samtools_rmdup.sh</td>\n",
       "      <td>1285262</td>\n",
       "      <td>7022052</td>\n",
       "      <td>18.303225</td>\n",
       "      <td>True</td>\n",
       "      <td>False</td>\n",
       "      <td>MN</td>\n",
       "      <td>True</td>\n",
       "      <td>False</td>\n",
       "      <td>False</td>\n",
       "      <td>True</td>\n",
       "      <td>batch1</td>\n",
       "      <td>NaN</td>\n",
       "      <td>False</td>\n",
       "    </tr>\n",
       "    <tr>\n",
       "      <th>2</th>\n",
       "      <td>P9_04</td>\n",
       "      <td>/oasis/tscc/scratch/obotvinnik/projects/single...</td>\n",
       "      <td>100</td>\n",
       "      <td>singlecell_pnms_samtools_rmdup.sh</td>\n",
       "      <td>64533084</td>\n",
       "      <td>94469832</td>\n",
       "      <td>68.310785</td>\n",
       "      <td>True</td>\n",
       "      <td>False</td>\n",
       "      <td>iPSC</td>\n",
       "      <td>False</td>\n",
       "      <td>True</td>\n",
       "      <td>False</td>\n",
       "      <td>True</td>\n",
       "      <td>NaN</td>\n",
       "      <td>NaN</td>\n",
       "      <td>False</td>\n",
       "    </tr>\n",
       "    <tr>\n",
       "      <th>3</th>\n",
       "      <td>M2nd_31</td>\n",
       "      <td>/oasis/tscc/scratch/obotvinnik/projects/single...</td>\n",
       "      <td>101</td>\n",
       "      <td>singlecell_pnms_samtools_rmdup.sh</td>\n",
       "      <td>458</td>\n",
       "      <td>908</td>\n",
       "      <td>50.440529</td>\n",
       "      <td>NaN</td>\n",
       "      <td>NaN</td>\n",
       "      <td>NaN</td>\n",
       "      <td>NaN</td>\n",
       "      <td>NaN</td>\n",
       "      <td>NaN</td>\n",
       "      <td>NaN</td>\n",
       "      <td>NaN</td>\n",
       "      <td>NaN</td>\n",
       "      <td>NaN</td>\n",
       "    </tr>\n",
       "    <tr>\n",
       "      <th>4</th>\n",
       "      <td>P2_07</td>\n",
       "      <td>/oasis/tscc/scratch/obotvinnik/projects/single...</td>\n",
       "      <td>102</td>\n",
       "      <td>singlecell_pnms_samtools_rmdup.sh</td>\n",
       "      <td>2813903</td>\n",
       "      <td>10642014</td>\n",
       "      <td>26.441452</td>\n",
       "      <td>True</td>\n",
       "      <td>False</td>\n",
       "      <td>iPSC</td>\n",
       "      <td>False</td>\n",
       "      <td>True</td>\n",
       "      <td>False</td>\n",
       "      <td>True</td>\n",
       "      <td>NaN</td>\n",
       "      <td>NaN</td>\n",
       "      <td>False</td>\n",
       "    </tr>\n",
       "  </tbody>\n",
       "</table>\n",
       "</div>"
      ],
      "text/plain": [
       "  sample_id                                                bam  sh_index  \\\n",
       "0     N2_08  /oasis/tscc/scratch/obotvinnik/projects/single...         1   \n",
       "1     M3_01  /oasis/tscc/scratch/obotvinnik/projects/single...        10   \n",
       "2     P9_04  /oasis/tscc/scratch/obotvinnik/projects/single...       100   \n",
       "3   M2nd_31  /oasis/tscc/scratch/obotvinnik/projects/single...       101   \n",
       "4     P2_07  /oasis/tscc/scratch/obotvinnik/projects/single...       102   \n",
       "\n",
       "                         sh_filename   removed     total    percent single  \\\n",
       "0  singlecell_pnms_samtools_rmdup.sh   4854609  15997191  30.346634   True   \n",
       "1  singlecell_pnms_samtools_rmdup.sh   1285262   7022052  18.303225   True   \n",
       "2  singlecell_pnms_samtools_rmdup.sh  64533084  94469832  68.310785   True   \n",
       "3  singlecell_pnms_samtools_rmdup.sh       458       908  50.440529    NaN   \n",
       "4  singlecell_pnms_samtools_rmdup.sh   2813903  10642014  26.441452   True   \n",
       "\n",
       "  pooled phenotype neuron progenitor stressed craig_venter  \\\n",
       "0  False       NPC  False       True    False        False   \n",
       "1  False        MN   True      False    False         True   \n",
       "2  False      iPSC  False       True    False         True   \n",
       "3    NaN       NaN    NaN        NaN      NaN          NaN   \n",
       "4  False      iPSC  False       True    False         True   \n",
       "\n",
       "  differentiation_batch split outlier  \n",
       "0                   NaN   NaN   False  \n",
       "1                batch1   NaN   False  \n",
       "2                   NaN   NaN   False  \n",
       "3                   NaN   NaN     NaN  \n",
       "4                   NaN   NaN   False  "
      ]
     },
     "execution_count": 90,
     "metadata": {},
     "output_type": "execute_result"
    }
   ],
   "source": [
    "reads_removed_metadata = reads_removed.join(study.metadata.data, on='sample_id')\n",
    "print(reads_removed.shape)\n",
    "reads_removed_metadata.head()"
   ]
  },
  {
   "cell_type": "code",
   "execution_count": 94,
   "metadata": {
    "collapsed": false
   },
   "outputs": [
    {
     "data": {
      "text/html": [
       "<div>\n",
       "<table border=\"1\" class=\"dataframe\">\n",
       "  <thead>\n",
       "    <tr style=\"text-align: right;\">\n",
       "      <th></th>\n",
       "      <th>sample_id</th>\n",
       "      <th>bam</th>\n",
       "      <th>sh_index</th>\n",
       "      <th>sh_filename</th>\n",
       "      <th>removed</th>\n",
       "      <th>total</th>\n",
       "      <th>percent</th>\n",
       "      <th>single</th>\n",
       "      <th>pooled</th>\n",
       "      <th>phenotype</th>\n",
       "      <th>neuron</th>\n",
       "      <th>progenitor</th>\n",
       "      <th>stressed</th>\n",
       "      <th>craig_venter</th>\n",
       "      <th>differentiation_batch</th>\n",
       "      <th>split</th>\n",
       "      <th>outlier</th>\n",
       "      <th>sample_type</th>\n",
       "    </tr>\n",
       "  </thead>\n",
       "  <tbody>\n",
       "    <tr>\n",
       "      <th>0</th>\n",
       "      <td>N2_08</td>\n",
       "      <td>/oasis/tscc/scratch/obotvinnik/projects/single...</td>\n",
       "      <td>1</td>\n",
       "      <td>singlecell_pnms_samtools_rmdup.sh</td>\n",
       "      <td>4854609</td>\n",
       "      <td>15997191</td>\n",
       "      <td>30.346634</td>\n",
       "      <td>True</td>\n",
       "      <td>False</td>\n",
       "      <td>NPC</td>\n",
       "      <td>False</td>\n",
       "      <td>True</td>\n",
       "      <td>False</td>\n",
       "      <td>False</td>\n",
       "      <td>NaN</td>\n",
       "      <td>NaN</td>\n",
       "      <td>False</td>\n",
       "      <td>single</td>\n",
       "    </tr>\n",
       "    <tr>\n",
       "      <th>1</th>\n",
       "      <td>M3_01</td>\n",
       "      <td>/oasis/tscc/scratch/obotvinnik/projects/single...</td>\n",
       "      <td>10</td>\n",
       "      <td>singlecell_pnms_samtools_rmdup.sh</td>\n",
       "      <td>1285262</td>\n",
       "      <td>7022052</td>\n",
       "      <td>18.303225</td>\n",
       "      <td>True</td>\n",
       "      <td>False</td>\n",
       "      <td>MN</td>\n",
       "      <td>True</td>\n",
       "      <td>False</td>\n",
       "      <td>False</td>\n",
       "      <td>True</td>\n",
       "      <td>batch1</td>\n",
       "      <td>NaN</td>\n",
       "      <td>False</td>\n",
       "      <td>single</td>\n",
       "    </tr>\n",
       "    <tr>\n",
       "      <th>2</th>\n",
       "      <td>P9_04</td>\n",
       "      <td>/oasis/tscc/scratch/obotvinnik/projects/single...</td>\n",
       "      <td>100</td>\n",
       "      <td>singlecell_pnms_samtools_rmdup.sh</td>\n",
       "      <td>64533084</td>\n",
       "      <td>94469832</td>\n",
       "      <td>68.310785</td>\n",
       "      <td>True</td>\n",
       "      <td>False</td>\n",
       "      <td>iPSC</td>\n",
       "      <td>False</td>\n",
       "      <td>True</td>\n",
       "      <td>False</td>\n",
       "      <td>True</td>\n",
       "      <td>NaN</td>\n",
       "      <td>NaN</td>\n",
       "      <td>False</td>\n",
       "      <td>single</td>\n",
       "    </tr>\n",
       "    <tr>\n",
       "      <th>3</th>\n",
       "      <td>M2nd_31</td>\n",
       "      <td>/oasis/tscc/scratch/obotvinnik/projects/single...</td>\n",
       "      <td>101</td>\n",
       "      <td>singlecell_pnms_samtools_rmdup.sh</td>\n",
       "      <td>458</td>\n",
       "      <td>908</td>\n",
       "      <td>50.440529</td>\n",
       "      <td>NaN</td>\n",
       "      <td>NaN</td>\n",
       "      <td>NaN</td>\n",
       "      <td>NaN</td>\n",
       "      <td>NaN</td>\n",
       "      <td>NaN</td>\n",
       "      <td>NaN</td>\n",
       "      <td>NaN</td>\n",
       "      <td>NaN</td>\n",
       "      <td>NaN</td>\n",
       "      <td>pooled</td>\n",
       "    </tr>\n",
       "    <tr>\n",
       "      <th>4</th>\n",
       "      <td>P2_07</td>\n",
       "      <td>/oasis/tscc/scratch/obotvinnik/projects/single...</td>\n",
       "      <td>102</td>\n",
       "      <td>singlecell_pnms_samtools_rmdup.sh</td>\n",
       "      <td>2813903</td>\n",
       "      <td>10642014</td>\n",
       "      <td>26.441452</td>\n",
       "      <td>True</td>\n",
       "      <td>False</td>\n",
       "      <td>iPSC</td>\n",
       "      <td>False</td>\n",
       "      <td>True</td>\n",
       "      <td>False</td>\n",
       "      <td>True</td>\n",
       "      <td>NaN</td>\n",
       "      <td>NaN</td>\n",
       "      <td>False</td>\n",
       "      <td>single</td>\n",
       "    </tr>\n",
       "  </tbody>\n",
       "</table>\n",
       "</div>"
      ],
      "text/plain": [
       "  sample_id                                                bam  sh_index  \\\n",
       "0     N2_08  /oasis/tscc/scratch/obotvinnik/projects/single...         1   \n",
       "1     M3_01  /oasis/tscc/scratch/obotvinnik/projects/single...        10   \n",
       "2     P9_04  /oasis/tscc/scratch/obotvinnik/projects/single...       100   \n",
       "3   M2nd_31  /oasis/tscc/scratch/obotvinnik/projects/single...       101   \n",
       "4     P2_07  /oasis/tscc/scratch/obotvinnik/projects/single...       102   \n",
       "\n",
       "                         sh_filename   removed     total    percent single  \\\n",
       "0  singlecell_pnms_samtools_rmdup.sh   4854609  15997191  30.346634   True   \n",
       "1  singlecell_pnms_samtools_rmdup.sh   1285262   7022052  18.303225   True   \n",
       "2  singlecell_pnms_samtools_rmdup.sh  64533084  94469832  68.310785   True   \n",
       "3  singlecell_pnms_samtools_rmdup.sh       458       908  50.440529    NaN   \n",
       "4  singlecell_pnms_samtools_rmdup.sh   2813903  10642014  26.441452   True   \n",
       "\n",
       "  pooled phenotype neuron progenitor stressed craig_venter  \\\n",
       "0  False       NPC  False       True    False        False   \n",
       "1  False        MN   True      False    False         True   \n",
       "2  False      iPSC  False       True    False         True   \n",
       "3    NaN       NaN    NaN        NaN      NaN          NaN   \n",
       "4  False      iPSC  False       True    False         True   \n",
       "\n",
       "  differentiation_batch split outlier sample_type  \n",
       "0                   NaN   NaN   False      single  \n",
       "1                batch1   NaN   False      single  \n",
       "2                   NaN   NaN   False      single  \n",
       "3                   NaN   NaN     NaN      pooled  \n",
       "4                   NaN   NaN   False      single  "
      ]
     },
     "execution_count": 94,
     "metadata": {},
     "output_type": "execute_result"
    }
   ],
   "source": [
    "reads_removed_metadata['sample_type'] = reads_removed_metadata.apply(lambda x: 'pooled' if x.pooled else 'single', axis=1)\n",
    "reads_removed_metadata.head()"
   ]
  },
  {
   "cell_type": "code",
   "execution_count": 102,
   "metadata": {
    "collapsed": false
   },
   "outputs": [
    {
     "data": {
      "image/png": "[encoded data removed]",
      "text/plain": [
       "<matplotlib.figure.Figure at 0x2b154c538490>"
      ]
     },
     "metadata": {},
     "output_type": "display_data"
    }
   ],
   "source": [
    "fig, ax = plt.subplots(figsize=(2, 1.5))\n",
    "\n",
    "data = reads_removed_metadata.query('percent > 0')\n",
    "\n",
    "palette = ['forestgreen', 'slategray']\n",
    "\n",
    "sns.violinplot(x='phenotype', y='percent', hue='sample_type', data=data, \n",
    "               cut=True, palette=palette, linewidth=0.5, order=study.phenotype_order)\n",
    "sns.stripplot(x='phenotype', y='percent', hue='sample_type', data=data,\n",
    "              split=True, jitter=True, linewidth=0.5, edgecolor='white', \n",
    "              palette=palette, size=2, order=study.phenotype_order)\n",
    "ax.set(ylim=(0, 100), ylabel='% PCR duplicates removed\\nby \"samtools rmdup\"')\n",
    "sns.despine()\n",
    "# fig.tight_layout()\n",
    "fig.savefig('{}/percent_reads_removed_violinplots_by_phenotype.pdf'.format(figure_folder))"
   ]
  },
  {
   "cell_type": "code",
   "execution_count": 103,
   "metadata": {
    "collapsed": false
   },
   "outputs": [
    {
     "data": {
      "image/png": "[encoded data removed]",
      "text/plain": [
       "<matplotlib.figure.Figure at 0x2b14cddb6c50>"
      ]
     },
     "metadata": {},
     "output_type": "display_data"
    }
   ],
   "source": [
    "\n",
    "data = reads_removed_metadata.query('percent > 0')\n",
    "\n",
    "palette = ['forestgreen', 'slategray']\n",
    "\n",
    "g = sns.FacetGrid(data, hue='sample_type', palette=palette, size=1.5, aspect=1.25)\n",
    "\n",
    "g.map(sns.violinplot, x='phenotype', y='percent', hue='sample_type', data=data, \n",
    "               cut=True, palette=palette, linewidth=0.5, order=study.phenotype_order)\n",
    "g.map(sns.stripplot, x='phenotype', y='percent', hue='sample_type', data=data,\n",
    "              split=True, jitter=True, linewidth=0.5, edgecolor='white', \n",
    "              palette=palette, size=2, order=study.phenotype_order)\n",
    "for ax in g.axes.flat:\n",
    "    ax.set(ylim=(0, 100), ylabel='% PCR duplicates removed\\nby \"samtools rmdup\"')\n",
    "g.add_legend()\n",
    "# sns.despine()\n",
    "# fig.tight_layout()\n",
    "fig.savefig('{}/percent_reads_removed_violinplots_by_phenotype_facetgrid.pdf'.format(figure_folder))"
   ]
  },
  {
   "cell_type": "code",
   "execution_count": null,
   "metadata": {
    "collapsed": true
   },
   "outputs": [],
   "source": []
  },
  {
   "cell_type": "code",
   "execution_count": null,
   "metadata": {
    "collapsed": true
   },
   "outputs": [],
   "source": []
  }
 ],
 "metadata": {
  "kernelspec": {
   "display_name": "Python 2",
   "language": "python",
   "name": "python2"
  },
  "language_info": {
   "codemirror_mode": {
    "name": "ipython",
    "version": 2
   },
   "file_extension": ".py",
   "mimetype": "text/x-python",
   "name": "python",
   "nbconvert_exporter": "python",
   "pygments_lexer": "ipython2",
   "version": "2.7.11"
  }
 },
 "nbformat": 4,
 "nbformat_minor": 0
}
