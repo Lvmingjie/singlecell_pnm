{
 "cells": [
  {
   "cell_type": "code",
   "execution_count": 14,
   "metadata": {
    "collapsed": false
   },
   "outputs": [
    {
     "name": "stdout",
     "output_type": "stream",
     "text": [
      "/oasis/tscc/scratch/obotvinnik/projects/singlecell_pnms/analysis/bams_from_aws/rmdup\n"
     ]
    }
   ],
   "source": [
    "cd ~/projects/singlecell_pnms/analysis/bams_from_aws/rmdup/"
   ]
  },
  {
   "cell_type": "code",
   "execution_count": 15,
   "metadata": {
    "collapsed": false
   },
   "outputs": [
    {
     "name": "stdout",
     "output_type": "stream",
     "text": [
      "-rw-r--r-- 1 obotvinnik yeo-group  754M Nov 14 16:16 CVN_01_R1.fastq.gz.polyATrim.adapterTrim.rmRep.sorted.rg.bam\r\n",
      "-rw-r--r-- 1 obotvinnik yeo-group  820M Nov 14 15:31 CVN_02_R1.fastq.gz.polyATrim.adapterTrim.rmRep.sorted.rg.bam\r\n",
      "-rw-r--r-- 1 obotvinnik yeo-group  809M Nov 14 15:48 CVN_03_R1.fastq.gz.polyATrim.adapterTrim.rmRep.sorted.rg.bam\r\n",
      "-rw-r--r-- 1 obotvinnik yeo-group  778M Nov 14 16:13 CVN_04_R1.fastq.gz.polyATrim.adapterTrim.rmRep.sorted.rg.bam\r\n",
      "-rw-r--r-- 1 obotvinnik yeo-group  861M Nov 14 15:57 CVN_05_R1.fastq.gz.polyATrim.adapterTrim.rmRep.sorted.rg.bam\r\n",
      "-rw-r--r-- 1 obotvinnik yeo-group  849M Nov 14 16:28 CVN_06_R1.fastq.gz.polyATrim.adapterTrim.rmRep.sorted.rg.bam\r\n",
      "-rw-r--r-- 1 obotvinnik yeo-group  1.1G Nov 14 16:33 CVN_07_R1.fastq.gz.polyATrim.adapterTrim.rmRep.sorted.rg.bam\r\n",
      "-rw-r--r-- 1 obotvinnik yeo-group  917M Nov 14 16:25 CVN_08_R1.fastq.gz.polyATrim.adapterTrim.rmRep.sorted.rg.bam\r\n",
      "-rw-r--r-- 1 obotvinnik yeo-group  696M Nov 14 16:38 CVN_09_R1.fastq.gz.polyATrim.adapterTrim.rmRep.sorted.rg.bam\r\n",
      "-rw-r--r-- 1 obotvinnik yeo-group   67M Nov 14 16:02 CVN_10_R1.fastq.gz.polyATrim.adapterTrim.rmRep.sorted.rg.bam\r\n",
      "-rw-r--r-- 1 obotvinnik yeo-group  850M Nov 14 16:18 CVN_11_R1.fastq.gz.polyATrim.adapterTrim.rmRep.sorted.rg.bam\r\n",
      "-rw-r--r-- 1 obotvinnik yeo-group  898M Nov 14 15:33 CVN_12_R1.fastq.gz.polyATrim.adapterTrim.rmRep.sorted.rg.bam\r\n",
      "-rw-r--r-- 1 obotvinnik yeo-group  802M Nov 14 15:50 CVN_13_R1.fastq.gz.polyATrim.adapterTrim.rmRep.sorted.rg.bam\r\n",
      "-rw-r--r-- 1 obotvinnik yeo-group  1.1G Nov 14 16:14 CVN_14_R1.fastq.gz.polyATrim.adapterTrim.rmRep.sorted.rg.bam\r\n",
      "-rw-r--r-- 1 obotvinnik yeo-group  790M Nov 14 16:00 CVN_15_R1.fastq.gz.polyATrim.adapterTrim.rmRep.sorted.rg.bam\r\n",
      "-rw-r--r-- 1 obotvinnik yeo-group  785M Nov 14 15:46 CVN_16_R1.fastq.gz.polyATrim.adapterTrim.rmRep.sorted.rg.bam\r\n",
      "-rw-r--r-- 1 obotvinnik yeo-group  1.1G Nov 14 15:43 CVN_17_R1.fastq.gz.polyATrim.adapterTrim.rmRep.sorted.rg.bam\r\n",
      "-rw-r--r-- 1 obotvinnik yeo-group  538M Nov 14 16:24 CVN_18_R1.fastq.gz.polyATrim.adapterTrim.rmRep.sorted.rg.bam\r\n",
      "-rw-r--r-- 1 obotvinnik yeo-group  644M Nov 14 16:35 CVN_19_R1.fastq.gz.polyATrim.adapterTrim.rmRep.sorted.rg.bam\r\n",
      "-rw-r--r-- 1 obotvinnik yeo-group  564M Nov 14 15:54 CVN_20_R1.fastq.gz.polyATrim.adapterTrim.rmRep.sorted.rg.bam\r\n",
      "-rw-r--r-- 1 obotvinnik yeo-group  704M Nov 14 15:51 CVN_21_R1.fastq.gz.polyATrim.adapterTrim.rmRep.sorted.rg.bam\r\n",
      "-rw-r--r-- 1 obotvinnik yeo-group  598M Nov 14 15:30 CVN_22_R1.fastq.gz.polyATrim.adapterTrim.rmRep.sorted.rg.bam\r\n",
      "-rw-r--r-- 1 obotvinnik yeo-group  570M Nov 14 15:46 CVN_23_R1.fastq.gz.polyATrim.adapterTrim.rmRep.sorted.rg.bam\r\n",
      "-rw-r--r-- 1 obotvinnik yeo-group  626M Nov 14 16:08 CVN_24_R1.fastq.gz.polyATrim.adapterTrim.rmRep.sorted.rg.bam\r\n",
      "-rw-r--r-- 1 obotvinnik yeo-group  562M Nov 14 16:01 CVN_25_R1.fastq.gz.polyATrim.adapterTrim.rmRep.sorted.rg.bam\r\n",
      "-rw-r--r-- 1 obotvinnik yeo-group  615M Nov 14 15:46 CVN_26_R1.fastq.gz.polyATrim.adapterTrim.rmRep.sorted.rg.bam\r\n",
      "-rw-r--r-- 1 obotvinnik yeo-group  569M Nov 14 16:34 CVN_27_R1.fastq.gz.polyATrim.adapterTrim.rmRep.sorted.rg.bam\r\n",
      "-rw-r--r-- 1 obotvinnik yeo-group  606M Nov 14 15:33 CVN_28_R1.fastq.gz.polyATrim.adapterTrim.rmRep.sorted.rg.bam\r\n",
      "-rw-r--r-- 1 obotvinnik yeo-group  647M Nov 14 15:30 CVN_29_R1.fastq.gz.polyATrim.adapterTrim.rmRep.sorted.rg.bam\r\n",
      "-rw-r--r-- 1 obotvinnik yeo-group  715M Nov 14 16:05 CVN_30_R1.fastq.gz.polyATrim.adapterTrim.rmRep.sorted.rg.bam\r\n",
      "-rw-r--r-- 1 obotvinnik yeo-group  835M Nov 14 15:51 CVN_31_R1.fastq.gz.polyATrim.adapterTrim.rmRep.sorted.rg.bam\r\n",
      "-rw-r--r-- 1 obotvinnik yeo-group  993M Nov 14 15:39 CVN_32_R1.fastq.gz.polyATrim.adapterTrim.rmRep.sorted.rg.bam\r\n",
      "-rw-r--r-- 1 obotvinnik yeo-group  818M Nov 14 15:48 CVN_33_R1.fastq.gz.polyATrim.adapterTrim.rmRep.sorted.rg.bam\r\n",
      "-rw-r--r-- 1 obotvinnik yeo-group  370M Nov 14 16:09 CVN_34_R1.fastq.gz.polyATrim.adapterTrim.rmRep.sorted.rg.bam\r\n",
      "-rw-r--r-- 1 obotvinnik yeo-group  1.3G Nov 14 16:07 CVN_35_R1.fastq.gz.polyATrim.adapterTrim.rmRep.sorted.rg.bam\r\n",
      "-rw-r--r-- 1 obotvinnik yeo-group  1.1G Nov 14 15:59 M1_01_R1.fastq.gz.polyATrim.adapterTrim.rmRep.sorted.rg.bam\r\n",
      "-rw-r--r-- 1 obotvinnik yeo-group  1.2G Nov 14 16:24 M1_02_R1.fastq.gz.polyATrim.adapterTrim.rmRep.sorted.rg.bam\r\n",
      "-rw-r--r-- 1 obotvinnik yeo-group  1.7G Nov 14 16:42 M1_03_R1.fastq.gz.polyATrim.adapterTrim.rmRep.sorted.rg.bam\r\n",
      "-rw-r--r-- 1 obotvinnik yeo-group  887M Nov 14 16:01 M1_04_R1.fastq.gz.polyATrim.adapterTrim.rmRep.sorted.rg.bam\r\n",
      "-rw-r--r-- 1 obotvinnik yeo-group  1.1G Nov 14 16:11 M1_05_R1.fastq.gz.polyATrim.adapterTrim.rmRep.sorted.rg.bam\r\n",
      "-rw-r--r-- 1 obotvinnik yeo-group  1.7G Nov 14 15:45 M1_06_R1.fastq.gz.polyATrim.adapterTrim.rmRep.sorted.rg.bam\r\n",
      "-rw-r--r-- 1 obotvinnik yeo-group  1.8G Nov 14 15:47 M1_07_R1.fastq.gz.polyATrim.adapterTrim.rmRep.sorted.rg.bam\r\n",
      "-rw-r--r-- 1 obotvinnik yeo-group  1.1G Nov 14 15:32 M1_08_R1.fastq.gz.polyATrim.adapterTrim.rmRep.sorted.rg.bam\r\n",
      "-rw-r--r-- 1 obotvinnik yeo-group  1.2G Nov 14 15:49 M1_09_R1.fastq.gz.polyATrim.adapterTrim.rmRep.sorted.rg.bam\r\n",
      "-rw-r--r-- 1 obotvinnik yeo-group  1.2G Nov 14 16:18 M1_10_R1.fastq.gz.polyATrim.adapterTrim.rmRep.sorted.rg.bam\r\n",
      "-rw-r--r-- 1 obotvinnik yeo-group  986M Nov 14 16:00 M1_11_R1.fastq.gz.polyATrim.adapterTrim.rmRep.sorted.rg.bam\r\n",
      "-rw-r--r-- 1 obotvinnik yeo-group  2.1G Nov 14 16:27 M1_12_R1.fastq.gz.polyATrim.adapterTrim.rmRep.sorted.rg.bam\r\n",
      "-rw-r--r-- 1 obotvinnik yeo-group  1.3G Nov 14 15:36 M2_01_R1.fastq.gz.polyATrim.adapterTrim.rmRep.sorted.rg.bam\r\n",
      "-rw-r--r-- 1 obotvinnik yeo-group  1.3G Nov 14 15:56 M2_02_R1.fastq.gz.polyATrim.adapterTrim.rmRep.sorted.rg.bam\r\n",
      "-rw-r--r-- 1 obotvinnik yeo-group  1.4G Nov 14 16:12 M2_03_R1.fastq.gz.polyATrim.adapterTrim.rmRep.sorted.rg.bam\r\n",
      "-rw-r--r-- 1 obotvinnik yeo-group  1.3G Nov 14 15:45 M2_04_R1.fastq.gz.polyATrim.adapterTrim.rmRep.sorted.rg.bam\r\n",
      "-rw-r--r-- 1 obotvinnik yeo-group  1.4G Nov 14 15:42 M2_05_R1.fastq.gz.polyATrim.adapterTrim.rmRep.sorted.rg.bam\r\n",
      "-rw-r--r-- 1 obotvinnik yeo-group  1.1G Nov 14 16:16 M2_06_R1.fastq.gz.polyATrim.adapterTrim.rmRep.sorted.rg.bam\r\n",
      "-rw-r--r-- 1 obotvinnik yeo-group  1.4G Nov 14 16:02 M2_07_R1.fastq.gz.polyATrim.adapterTrim.rmRep.sorted.rg.bam\r\n",
      "-rw-r--r-- 1 obotvinnik yeo-group  1.4G Nov 14 15:37 M2_08_R1.fastq.gz.polyATrim.adapterTrim.rmRep.sorted.rg.bam\r\n",
      "-rw-r--r-- 1 obotvinnik yeo-group  1.4G Nov 14 15:58 M2_09_R1.fastq.gz.polyATrim.adapterTrim.rmRep.sorted.rg.bam\r\n",
      "-rw-r--r-- 1 obotvinnik yeo-group  1.7G Nov 14 16:40 M2_10_R1.fastq.gz.polyATrim.adapterTrim.rmRep.sorted.rg.bam\r\n",
      "-rw-r--r-- 1 obotvinnik yeo-group  1.6G Nov 14 16:24 M2_11_R1.fastq.gz.polyATrim.adapterTrim.rmRep.sorted.rg.bam\r\n",
      "-rw-r--r-- 1 obotvinnik yeo-group  1.5G Nov 14 15:59 M2_12_R1.fastq.gz.polyATrim.adapterTrim.rmRep.sorted.rg.bam\r\n",
      "-rw-r--r-- 1 obotvinnik yeo-group  224M Nov 14 15:40 M2nd_01_R1.fastq.gz.polyATrim.adapterTrim.rmRep.sorted.rg.bam\r\n",
      "-rw-r--r-- 1 obotvinnik yeo-group  474M Nov 14 16:02 M2nd_02_R1.fastq.gz.polyATrim.adapterTrim.rmRep.sorted.rg.bam\r\n",
      "-rw-r--r-- 1 obotvinnik yeo-group  546M Nov 14 16:12 M2nd_03_R1.fastq.gz.polyATrim.adapterTrim.rmRep.sorted.rg.bam\r\n",
      "-rw-r--r-- 1 obotvinnik yeo-group  383M Nov 14 16:17 M2nd_04_R1.fastq.gz.polyATrim.adapterTrim.rmRep.sorted.rg.bam\r\n",
      "-rw-r--r-- 1 obotvinnik yeo-group  404M Nov 14 15:28 M2nd_05_R1.fastq.gz.polyATrim.adapterTrim.rmRep.sorted.rg.bam\r\n",
      "-rw-r--r-- 1 obotvinnik yeo-group  661M Nov 14 16:15 M2nd_06_R1.fastq.gz.polyATrim.adapterTrim.rmRep.sorted.rg.bam\r\n",
      "-rw-r--r-- 1 obotvinnik yeo-group  773M Nov 14 15:54 M2nd_07_R1.fastq.gz.polyATrim.adapterTrim.rmRep.sorted.rg.bam\r\n",
      "-rw-r--r-- 1 obotvinnik yeo-group  968M Nov 14 16:07 M2nd_08_R1.fastq.gz.polyATrim.adapterTrim.rmRep.sorted.rg.bam\r\n",
      "-rw-r--r-- 1 obotvinnik yeo-group  182M Nov 14 16:01 M2nd_09_R1.fastq.gz.polyATrim.adapterTrim.rmRep.sorted.rg.bam\r\n",
      "-rw-r--r-- 1 obotvinnik yeo-group  339M Nov 14 16:27 M2nd_10_R1.fastq.gz.polyATrim.adapterTrim.rmRep.sorted.rg.bam\r\n",
      "-rw-r--r-- 1 obotvinnik yeo-group  313M Nov 14 15:42 M2nd_11_R1.fastq.gz.polyATrim.adapterTrim.rmRep.sorted.rg.bam\r\n",
      "-rw-r--r-- 1 obotvinnik yeo-group  923M Nov 14 16:01 M2nd_12_R1.fastq.gz.polyATrim.adapterTrim.rmRep.sorted.rg.bam\r\n",
      "-rw-r--r-- 1 obotvinnik yeo-group  2.9G Nov 14 16:28 M2nd_13_R1.fastq.gz.polyATrim.adapterTrim.rmRep.sorted.rg.bam\r\n",
      "-rw-r--r-- 1 obotvinnik yeo-group  502M Nov 14 15:49 M2nd_14_R1.fastq.gz.polyATrim.adapterTrim.rmRep.sorted.rg.bam\r\n",
      "-rw-r--r-- 1 obotvinnik yeo-group  437M Nov 14 15:29 M2nd_15_R1.fastq.gz.polyATrim.adapterTrim.rmRep.sorted.rg.bam\r\n",
      "-rw-r--r-- 1 obotvinnik yeo-group  399M Nov 14 16:15 M2nd_16_R1.fastq.gz.polyATrim.adapterTrim.rmRep.sorted.rg.bam\r\n",
      "-rw-r--r-- 1 obotvinnik yeo-group  230M Nov 14 15:53 M2nd_17_R1.fastq.gz.polyATrim.adapterTrim.rmRep.sorted.rg.bam\r\n",
      "-rw-r--r-- 1 obotvinnik yeo-group  466M Nov 14 16:05 M2nd_18_R1.fastq.gz.polyATrim.adapterTrim.rmRep.sorted.rg.bam\r\n",
      "-rw-r--r-- 1 obotvinnik yeo-group  329M Nov 14 16:07 M2nd_19_R1.fastq.gz.polyATrim.adapterTrim.rmRep.sorted.rg.bam\r\n",
      "-rw-r--r-- 1 obotvinnik yeo-group  416M Nov 14 15:36 M2nd_20_R1.fastq.gz.polyATrim.adapterTrim.rmRep.sorted.rg.bam\r\n",
      "-rw-r--r-- 1 obotvinnik yeo-group  2.8G Nov 14 16:00 M2nd_21_R1.fastq.gz.polyATrim.adapterTrim.rmRep.sorted.rg.bam\r\n",
      "-rw-r--r-- 1 obotvinnik yeo-group  548M Nov 14 16:00 M2nd_22_R1.fastq.gz.polyATrim.adapterTrim.rmRep.sorted.rg.bam\r\n",
      "-rw-r--r-- 1 obotvinnik yeo-group   91M Nov 14 16:06 M2nd_23_R1.fastq.gz.polyATrim.adapterTrim.rmRep.sorted.rg.bam\r\n",
      "-rw-r--r-- 1 obotvinnik yeo-group  291M Nov 14 15:45 M2nd_24_R1.fastq.gz.polyATrim.adapterTrim.rmRep.sorted.rg.bam\r\n",
      "-rw-r--r-- 1 obotvinnik yeo-group  279M Nov 14 16:35 M2nd_25_R1.fastq.gz.polyATrim.adapterTrim.rmRep.sorted.rg.bam\r\n",
      "-rw-r--r-- 1 obotvinnik yeo-group  308M Nov 14 16:16 M2nd_26_R1.fastq.gz.polyATrim.adapterTrim.rmRep.sorted.rg.bam\r\n",
      "-rw-r--r-- 1 obotvinnik yeo-group  160M Nov 14 16:02 M2nd_27_R1.fastq.gz.polyATrim.adapterTrim.rmRep.sorted.rg.bam\r\n",
      "-rw-r--r-- 1 obotvinnik yeo-group  208M Nov 14 16:13 M2nd_28_R1.fastq.gz.polyATrim.adapterTrim.rmRep.sorted.rg.bam\r\n",
      "-rw-r--r-- 1 obotvinnik yeo-group  265M Nov 14 15:55 M2nd_29_R1.fastq.gz.polyATrim.adapterTrim.rmRep.sorted.rg.bam\r\n",
      "-rw-r--r-- 1 obotvinnik yeo-group  2.7M Nov 14 16:30 M2nd_30_R1.fastq.gz.polyATrim.adapterTrim.rmRep.sorted.rg.bam\r\n",
      "-rw-r--r-- 1 obotvinnik yeo-group  113K Nov 14 15:42 M2nd_31_R1.fastq.gz.polyATrim.adapterTrim.rmRep.sorted.rg.bam\r\n",
      "-rw-r--r-- 1 obotvinnik yeo-group   29M Nov 14 15:59 M2nd_32_R1.fastq.gz.polyATrim.adapterTrim.rmRep.sorted.rg.bam\r\n",
      "-rw-r--r-- 1 obotvinnik yeo-group  577M Nov 14 16:11 M2nd_33_R1.fastq.gz.polyATrim.adapterTrim.rmRep.sorted.rg.bam\r\n",
      "-rw-r--r-- 1 obotvinnik yeo-group  943M Nov 14 16:22 M2nd_34_R1.fastq.gz.polyATrim.adapterTrim.rmRep.sorted.rg.bam\r\n",
      "-rw-r--r-- 1 obotvinnik yeo-group  993M Nov 14 16:38 M3_01_R1.fastq.gz.polyATrim.adapterTrim.rmRep.sorted.rg.bam\r\n",
      "-rw-r--r-- 1 obotvinnik yeo-group  1.6G Nov 14 15:55 M3_02_R1.fastq.gz.polyATrim.adapterTrim.rmRep.sorted.rg.bam\r\n",
      "-rw-r--r-- 1 obotvinnik yeo-group  1.3G Nov 14 15:58 M3_03_R1.fastq.gz.polyATrim.adapterTrim.rmRep.sorted.rg.bam\r\n",
      "-rw-r--r-- 1 obotvinnik yeo-group  731M Nov 14 15:40 M3_04_R1.fastq.gz.polyATrim.adapterTrim.rmRep.sorted.rg.bam\r\n",
      "-rw-r--r-- 1 obotvinnik yeo-group  1.2G Nov 14 15:43 M3_05_R1.fastq.gz.polyATrim.adapterTrim.rmRep.sorted.rg.bam\r\n",
      "-rw-r--r-- 1 obotvinnik yeo-group  903M Nov 14 15:57 M3_06_R1.fastq.gz.polyATrim.adapterTrim.rmRep.sorted.rg.bam\r\n",
      "-rw-r--r-- 1 obotvinnik yeo-group  959M Nov 14 16:16 M3_07_R1.fastq.gz.polyATrim.adapterTrim.rmRep.sorted.rg.bam\r\n",
      "-rw-r--r-- 1 obotvinnik yeo-group  3.2G Nov 14 16:41 M3_08_R1.fastq.gz.polyATrim.adapterTrim.rmRep.sorted.rg.bam\r\n",
      "-rw-r--r-- 1 obotvinnik yeo-group  3.0G Nov 14 16:29 M3_09_R1.fastq.gz.polyATrim.adapterTrim.rmRep.sorted.rg.bam\r\n",
      "-rw-r--r-- 1 obotvinnik yeo-group  661K Nov 14 15:45 M3_10_R1.fastq.gz.polyATrim.adapterTrim.rmRep.sorted.rg.bam\r\n",
      "-rw-r--r-- 1 obotvinnik yeo-group  1.4G Nov 14 16:38 M3_11_R1.fastq.gz.polyATrim.adapterTrim.rmRep.sorted.rg.bam\r\n",
      "-rw-r--r-- 1 obotvinnik yeo-group  2.0G Nov 14 15:55 M3_12_R1.fastq.gz.polyATrim.adapterTrim.rmRep.sorted.rg.bam\r\n",
      "-rw-r--r-- 1 obotvinnik yeo-group  2.3G Nov 14 16:04 M3_13_R1.fastq.gz.polyATrim.adapterTrim.rmRep.sorted.rg.bam\r\n",
      "-rw-r--r-- 1 obotvinnik yeo-group  668M Nov 14 16:29 M3_14_R1.fastq.gz.polyATrim.adapterTrim.rmRep.sorted.rg.bam\r\n",
      "-rw-r--r-- 1 obotvinnik yeo-group  4.2G Nov 14 16:17 M4_01_R1.fastq.gz.polyATrim.adapterTrim.rmRep.sorted.rg.bam\r\n",
      "-rw-r--r-- 1 obotvinnik yeo-group  6.0G Nov 14 16:52 M4_02_R1.fastq.gz.polyATrim.adapterTrim.rmRep.sorted.rg.bam\r\n",
      "-rw-r--r-- 1 obotvinnik yeo-group  4.4G Nov 14 15:55 M4_03_R1.fastq.gz.polyATrim.adapterTrim.rmRep.sorted.rg.bam\r\n",
      "-rw-r--r-- 1 obotvinnik yeo-group  3.1G Nov 14 16:09 M4_04_R1.fastq.gz.polyATrim.adapterTrim.rmRep.sorted.rg.bam\r\n",
      "-rw-r--r-- 1 obotvinnik yeo-group  1.2G Nov 14 16:16 M4_05_R1.fastq.gz.polyATrim.adapterTrim.rmRep.sorted.rg.bam\r\n",
      "-rw-r--r-- 1 obotvinnik yeo-group  520M Nov 14 16:35 M4_06_R1.fastq.gz.polyATrim.adapterTrim.rmRep.sorted.rg.bam\r\n",
      "-rw-r--r-- 1 obotvinnik yeo-group  3.8G Nov 14 16:33 M4_07_R1.fastq.gz.polyATrim.adapterTrim.rmRep.sorted.rg.bam\r\n",
      "-rw-r--r-- 1 obotvinnik yeo-group  5.6G Nov 14 16:01 M4_08_R1.fastq.gz.polyATrim.adapterTrim.rmRep.sorted.rg.bam\r\n",
      "-rw-r--r-- 1 obotvinnik yeo-group  5.5G Nov 14 16:47 M4_09_R1.fastq.gz.polyATrim.adapterTrim.rmRep.sorted.rg.bam\r\n",
      "-rw-r--r-- 1 obotvinnik yeo-group  4.2G Nov 14 16:27 M4_10_R1.fastq.gz.polyATrim.adapterTrim.rmRep.sorted.rg.bam\r\n",
      "-rw-r--r-- 1 obotvinnik yeo-group  510M Nov 14 15:58 M4_11_R1.fastq.gz.polyATrim.adapterTrim.rmRep.sorted.rg.bam\r\n",
      "-rw-r--r-- 1 obotvinnik yeo-group  521M Nov 14 16:25 M4_12_R1.fastq.gz.polyATrim.adapterTrim.rmRep.sorted.rg.bam\r\n",
      "-rw-r--r-- 1 obotvinnik yeo-group  867M Nov 14 16:30 M4_13_R1.fastq.gz.polyATrim.adapterTrim.rmRep.sorted.rg.bam\r\n",
      "-rw-r--r-- 1 obotvinnik yeo-group  614M Nov 14 16:01 M4_14_R1.fastq.gz.polyATrim.adapterTrim.rmRep.sorted.rg.bam\r\n",
      "-rw-r--r-- 1 obotvinnik yeo-group  1.9G Nov 14 16:17 M5_01_R1.fastq.gz.polyATrim.adapterTrim.rmRep.sorted.rg.bam\r\n",
      "-rw-r--r-- 1 obotvinnik yeo-group  2.3G Nov 14 16:42 M5_02_R1.fastq.gz.polyATrim.adapterTrim.rmRep.sorted.rg.bam\r\n",
      "-rw-r--r-- 1 obotvinnik yeo-group  2.5G Nov 14 16:39 M5_03_R1.fastq.gz.polyATrim.adapterTrim.rmRep.sorted.rg.bam\r\n",
      "-rw-r--r-- 1 obotvinnik yeo-group  2.0G Nov 14 16:23 M5_04_R1.fastq.gz.polyATrim.adapterTrim.rmRep.sorted.rg.bam\r\n",
      "-rw-r--r-- 1 obotvinnik yeo-group   11G Nov 14 17:20 M6_01_R1.fastq.gz.polyATrim.adapterTrim.rmRep.sorted.rg.bam\r\n",
      "-rw-r--r-- 1 obotvinnik yeo-group  3.4G Nov 14 16:27 M6_02_R1.fastq.gz.polyATrim.adapterTrim.rmRep.sorted.rg.bam\r\n",
      "-rw-r--r-- 1 obotvinnik yeo-group  5.7G Nov 14 16:25 M6_03_R1.fastq.gz.polyATrim.adapterTrim.rmRep.sorted.bam\r\n",
      "-rw-r--r-- 1 obotvinnik yeo-group  5.1G Nov 14 16:25 M6_04_R1.fastq.gz.polyATrim.adapterTrim.rmRep.sorted.bam\r\n",
      "-rw-r--r-- 1 obotvinnik yeo-group  4.8G Nov 14 16:20 M6_05_R1.fastq.gz.polyATrim.adapterTrim.rmRep.sorted.bam\r\n",
      "-rw-r--r-- 1 obotvinnik yeo-group  4.9G Nov 14 16:22 M6_06_R1.fastq.gz.polyATrim.adapterTrim.rmRep.sorted.bam\r\n",
      "-rw-r--r-- 1 obotvinnik yeo-group  5.5G Nov 14 16:22 M6_07_R1.fastq.gz.polyATrim.adapterTrim.rmRep.sorted.bam\r\n",
      "-rw-r--r-- 1 obotvinnik yeo-group  698M Nov 14 15:47 MSA_01_R1.fastq.gz.polyATrim.adapterTrim.rmRep.sorted.rg.bam\r\n",
      "-rw-r--r-- 1 obotvinnik yeo-group  781M Nov 14 16:04 MSA_02_R1.fastq.gz.polyATrim.adapterTrim.rmRep.sorted.rg.bam\r\n",
      "-rw-r--r-- 1 obotvinnik yeo-group  372M Nov 14 16:07 MSA_03_R1.fastq.gz.polyATrim.adapterTrim.rmRep.sorted.rg.bam\r\n",
      "-rw-r--r-- 1 obotvinnik yeo-group  537M Nov 14 15:46 MSA_04_R1.fastq.gz.polyATrim.adapterTrim.rmRep.sorted.rg.bam\r\n",
      "-rw-r--r-- 1 obotvinnik yeo-group  568M Nov 14 15:36 MSA_05_R1.fastq.gz.polyATrim.adapterTrim.rmRep.sorted.rg.bam\r\n",
      "-rw-r--r-- 1 obotvinnik yeo-group  558M Nov 14 15:50 MSA_06_R1.fastq.gz.polyATrim.adapterTrim.rmRep.sorted.rg.bam\r\n",
      "-rw-r--r-- 1 obotvinnik yeo-group  643M Nov 14 15:51 MSA_07_R1.fastq.gz.polyATrim.adapterTrim.rmRep.sorted.rg.bam\r\n",
      "-rw-r--r-- 1 obotvinnik yeo-group  890M Nov 14 15:36 MSA_08_R1.fastq.gz.polyATrim.adapterTrim.rmRep.sorted.rg.bam\r\n",
      "-rw-r--r-- 1 obotvinnik yeo-group  653M Nov 14 16:02 MSA_09_R1.fastq.gz.polyATrim.adapterTrim.rmRep.sorted.rg.bam\r\n",
      "-rw-r--r-- 1 obotvinnik yeo-group  516M Nov 14 15:37 MSA_10_R1.fastq.gz.polyATrim.adapterTrim.rmRep.sorted.rg.bam\r\n",
      "-rw-r--r-- 1 obotvinnik yeo-group  625M Nov 14 15:46 MSA_11_R1.fastq.gz.polyATrim.adapterTrim.rmRep.sorted.rg.bam\r\n",
      "-rw-r--r-- 1 obotvinnik yeo-group  626M Nov 14 16:01 MSA_12_R1.fastq.gz.polyATrim.adapterTrim.rmRep.sorted.rg.bam\r\n",
      "-rw-r--r-- 1 obotvinnik yeo-group  1.1G Nov 14 16:11 MSA_13_R1.fastq.gz.polyATrim.adapterTrim.rmRep.sorted.rg.bam\r\n",
      "-rw-r--r-- 1 obotvinnik yeo-group  950M Nov 14 15:49 MSA_14_R1.fastq.gz.polyATrim.adapterTrim.rmRep.sorted.rg.bam\r\n",
      "-rw-r--r-- 1 obotvinnik yeo-group  552M Nov 14 16:37 MSA_15_R1.fastq.gz.polyATrim.adapterTrim.rmRep.sorted.rg.bam\r\n",
      "-rw-r--r-- 1 obotvinnik yeo-group  791M Nov 14 15:51 MSA_16_R1.fastq.gz.polyATrim.adapterTrim.rmRep.sorted.rg.bam\r\n",
      "-rw-r--r-- 1 obotvinnik yeo-group  1.4G Nov 14 16:00 MSA_17_R1.fastq.gz.polyATrim.adapterTrim.rmRep.sorted.rg.bam\r\n",
      "-rw-r--r-- 1 obotvinnik yeo-group  701M Nov 14 16:14 MSA_18_R1.fastq.gz.polyATrim.adapterTrim.rmRep.sorted.rg.bam\r\n",
      "-rw-r--r-- 1 obotvinnik yeo-group  264M Nov 14 15:55 MSA_19_R1.fastq.gz.polyATrim.adapterTrim.rmRep.sorted.rg.bam\r\n",
      "-rw-r--r-- 1 obotvinnik yeo-group  631M Nov 14 16:28 MSA_20_R1.fastq.gz.polyATrim.adapterTrim.rmRep.sorted.rg.bam\r\n",
      "-rw-r--r-- 1 obotvinnik yeo-group  479M Nov 14 15:45 MSA_21_R1.fastq.gz.polyATrim.adapterTrim.rmRep.sorted.rg.bam\r\n",
      "-rw-r--r-- 1 obotvinnik yeo-group  465M Nov 14 15:58 MSA_22_R1.fastq.gz.polyATrim.adapterTrim.rmRep.sorted.rg.bam\r\n",
      "-rw-r--r-- 1 obotvinnik yeo-group  610M Nov 14 16:12 MSA_23_R1.fastq.gz.polyATrim.adapterTrim.rmRep.sorted.rg.bam\r\n",
      "-rw-r--r-- 1 obotvinnik yeo-group  777M Nov 14 15:50 MSA_24_R1.fastq.gz.polyATrim.adapterTrim.rmRep.sorted.rg.bam\r\n",
      "-rw-r--r-- 1 obotvinnik yeo-group  277K Nov 14 15:28 MSA_25_R1.fastq.gz.polyATrim.adapterTrim.rmRep.sorted.rg.bam\r\n",
      "-rw-r--r-- 1 obotvinnik yeo-group  567M Nov 14 15:33 MSA_26_R1.fastq.gz.polyATrim.adapterTrim.rmRep.sorted.rg.bam\r\n",
      "-rw-r--r-- 1 obotvinnik yeo-group  582M Nov 14 15:54 MSA_27_R1.fastq.gz.polyATrim.adapterTrim.rmRep.sorted.rg.bam\r\n",
      "-rw-r--r-- 1 obotvinnik yeo-group  545M Nov 14 16:13 MSA_28_R1.fastq.gz.polyATrim.adapterTrim.rmRep.sorted.rg.bam\r\n",
      "-rw-r--r-- 1 obotvinnik yeo-group  239M Nov 14 16:07 MSA_29_R1.fastq.gz.polyATrim.adapterTrim.rmRep.sorted.rg.bam\r\n",
      "-rw-r--r-- 1 obotvinnik yeo-group  402M Nov 14 16:31 MSA_30_R1.fastq.gz.polyATrim.adapterTrim.rmRep.sorted.rg.bam\r\n",
      "-rw-r--r-- 1 obotvinnik yeo-group  715M Nov 14 16:28 MSA_31_R1.fastq.gz.polyATrim.adapterTrim.rmRep.sorted.rg.bam\r\n",
      "-rw-r--r-- 1 obotvinnik yeo-group  468M Nov 14 16:03 MSA_32_R1.fastq.gz.polyATrim.adapterTrim.rmRep.sorted.rg.bam\r\n",
      "-rw-r--r-- 1 obotvinnik yeo-group  581M Nov 14 16:10 MSA_33_R1.fastq.gz.polyATrim.adapterTrim.rmRep.sorted.rg.bam\r\n",
      "-rw-r--r-- 1 obotvinnik yeo-group  493M Nov 14 15:47 MSA_34_R1.fastq.gz.polyATrim.adapterTrim.rmRep.sorted.rg.bam\r\n",
      "-rw-r--r-- 1 obotvinnik yeo-group  415M Nov 14 15:28 MSA_35_R1.fastq.gz.polyATrim.adapterTrim.rmRep.sorted.rg.bam\r\n",
      "-rw-r--r-- 1 obotvinnik yeo-group  293M Nov 14 16:22 MSA_36_R1.fastq.gz.polyATrim.adapterTrim.rmRep.sorted.rg.bam\r\n",
      "-rw-r--r-- 1 obotvinnik yeo-group  395M Nov 14 15:52 MSA_37_R1.fastq.gz.polyATrim.adapterTrim.rmRep.sorted.rg.bam\r\n",
      "-rw-r--r-- 1 obotvinnik yeo-group  1.4G Nov 14 16:27 N1_01_R1.fastq.gz.polyATrim.adapterTrim.rmRep.sorted.rg.bam\r\n",
      "-rw-r--r-- 1 obotvinnik yeo-group  1.6G Nov 14 16:38 N1_02_R1.fastq.gz.polyATrim.adapterTrim.rmRep.sorted.rg.bam\r\n",
      "-rw-r--r-- 1 obotvinnik yeo-group  1.3G Nov 14 16:20 N1_03_R1.fastq.gz.polyATrim.adapterTrim.rmRep.sorted.rg.bam\r\n",
      "-rw-r--r-- 1 obotvinnik yeo-group  1.5G Nov 14 16:31 N1_04_R1.fastq.gz.polyATrim.adapterTrim.rmRep.sorted.rg.bam\r\n",
      "-rw-r--r-- 1 obotvinnik yeo-group  1.3G Nov 14 15:42 N1_05_R1.fastq.gz.polyATrim.adapterTrim.rmRep.sorted.rg.bam\r\n",
      "-rw-r--r-- 1 obotvinnik yeo-group  748M Nov 14 16:06 N1_06_R1.fastq.gz.polyATrim.adapterTrim.rmRep.sorted.rg.bam\r\n",
      "-rw-r--r-- 1 obotvinnik yeo-group  1.2G Nov 14 16:07 N1_07_R1.fastq.gz.polyATrim.adapterTrim.rmRep.sorted.rg.bam\r\n",
      "-rw-r--r-- 1 obotvinnik yeo-group  1.4G Nov 14 16:17 N1_08_R1.fastq.gz.polyATrim.adapterTrim.rmRep.sorted.rg.bam\r\n",
      "-rw-r--r-- 1 obotvinnik yeo-group  964M Nov 14 15:54 N1_09_R1.fastq.gz.polyATrim.adapterTrim.rmRep.sorted.rg.bam\r\n",
      "-rw-r--r-- 1 obotvinnik yeo-group  1.1G Nov 14 16:36 N1_10_R1.fastq.gz.polyATrim.adapterTrim.rmRep.sorted.rg.bam\r\n",
      "-rw-r--r-- 1 obotvinnik yeo-group  983M Nov 14 16:24 N1_11_R1.fastq.gz.polyATrim.adapterTrim.rmRep.sorted.rg.bam\r\n",
      "-rw-r--r-- 1 obotvinnik yeo-group  1.4G Nov 14 15:57 N1_12_R1.fastq.gz.polyATrim.adapterTrim.rmRep.sorted.rg.bam\r\n",
      "-rw-r--r-- 1 obotvinnik yeo-group  1.2G Nov 14 16:34 N2_01_R1.fastq.gz.polyATrim.adapterTrim.rmRep.sorted.rg.bam\r\n",
      "-rw-r--r-- 1 obotvinnik yeo-group  1.9G Nov 14 16:30 N2_02_R1.fastq.gz.polyATrim.adapterTrim.rmRep.sorted.rg.bam\r\n",
      "-rw-r--r-- 1 obotvinnik yeo-group  1.6G Nov 14 16:39 N2_03_R1.fastq.gz.polyATrim.adapterTrim.rmRep.sorted.rg.bam\r\n",
      "-rw-r--r-- 1 obotvinnik yeo-group  1.6G Nov 14 16:09 N2_04_R1.fastq.gz.polyATrim.adapterTrim.rmRep.sorted.rg.bam\r\n",
      "-rw-r--r-- 1 obotvinnik yeo-group  1.3G Nov 14 16:33 N2_05_R1.fastq.gz.polyATrim.adapterTrim.rmRep.sorted.rg.bam\r\n",
      "-rw-r--r-- 1 obotvinnik yeo-group  1.6G Nov 14 16:38 N2_06_R1.fastq.gz.polyATrim.adapterTrim.rmRep.sorted.rg.bam\r\n",
      "-rw-r--r-- 1 obotvinnik yeo-group  1.5G Nov 14 16:32 N2_07_R1.fastq.gz.polyATrim.adapterTrim.rmRep.sorted.rg.bam\r\n",
      "-rw-r--r-- 1 obotvinnik yeo-group  1.7G Nov 14 15:35 N2_08_R1.fastq.gz.polyATrim.adapterTrim.rmRep.sorted.rg.bam\r\n",
      "-rw-r--r-- 1 obotvinnik yeo-group  1.1G Nov 14 16:21 N2_09_R1.fastq.gz.polyATrim.adapterTrim.rmRep.sorted.rg.bam\r\n",
      "-rw-r--r-- 1 obotvinnik yeo-group  1.4G Nov 14 16:21 N2_10_R1.fastq.gz.polyATrim.adapterTrim.rmRep.sorted.rg.bam\r\n",
      "-rw-r--r-- 1 obotvinnik yeo-group  1.7G Nov 14 15:57 N2_11_R1.fastq.gz.polyATrim.adapterTrim.rmRep.sorted.rg.bam\r\n",
      "-rw-r--r-- 1 obotvinnik yeo-group  1.1G Nov 14 15:49 N2_12_R1.fastq.gz.polyATrim.adapterTrim.rmRep.sorted.rg.bam\r\n",
      "-rw-r--r-- 1 obotvinnik yeo-group  1.7G Nov 14 15:56 N3_01_R1.fastq.gz.polyATrim.adapterTrim.rmRep.sorted.rg.bam\r\n",
      "-rw-r--r-- 1 obotvinnik yeo-group  2.0G Nov 14 16:46 N3_02_R1.fastq.gz.polyATrim.adapterTrim.rmRep.sorted.rg.bam\r\n",
      "-rw-r--r-- 1 obotvinnik yeo-group  1.4G Nov 14 16:27 N3_03_R1.fastq.gz.polyATrim.adapterTrim.rmRep.sorted.rg.bam\r\n",
      "-rw-r--r-- 1 obotvinnik yeo-group  1.3G Nov 14 16:16 N3_04_R1.fastq.gz.polyATrim.adapterTrim.rmRep.sorted.rg.bam\r\n",
      "-rw-r--r-- 1 obotvinnik yeo-group  1.1G Nov 14 16:06 N3_05_R1.fastq.gz.polyATrim.adapterTrim.rmRep.sorted.rg.bam\r\n",
      "-rw-r--r-- 1 obotvinnik yeo-group  1.5G Nov 14 15:51 N3_06_R1.fastq.gz.polyATrim.adapterTrim.rmRep.sorted.rg.bam\r\n",
      "-rw-r--r-- 1 obotvinnik yeo-group  1.1G Nov 14 16:35 N3_07_R1.fastq.gz.polyATrim.adapterTrim.rmRep.sorted.rg.bam\r\n",
      "-rw-r--r-- 1 obotvinnik yeo-group  123K Nov 14 15:44 N3_08_R1.fastq.gz.polyATrim.adapterTrim.rmRep.sorted.rg.bam\r\n",
      "-rw-r--r-- 1 obotvinnik yeo-group  1.4G Nov 14 16:40 N3_09_R1.fastq.gz.polyATrim.adapterTrim.rmRep.sorted.rg.bam\r\n",
      "-rw-r--r-- 1 obotvinnik yeo-group 1007M Nov 14 15:54 N3_10_R1.fastq.gz.polyATrim.adapterTrim.rmRep.sorted.rg.bam\r\n",
      "-rw-r--r-- 1 obotvinnik yeo-group  1.3G Nov 14 16:21 N3_11_R1.fastq.gz.polyATrim.adapterTrim.rmRep.sorted.rg.bam\r\n",
      "-rw-r--r-- 1 obotvinnik yeo-group  1.5G Nov 14 16:39 N3_12_R1.fastq.gz.polyATrim.adapterTrim.rmRep.sorted.rg.bam\r\n",
      "-rw-r--r-- 1 obotvinnik yeo-group  8.0G Nov 14 16:54 N4_01_R1.fastq.gz.polyATrim.adapterTrim.rmRep.sorted.rg.bam\r\n",
      "-rw-r--r-- 1 obotvinnik yeo-group  3.1G Nov 14 16:40 N4_02_R1.fastq.gz.polyATrim.adapterTrim.rmRep.sorted.rg.bam\r\n",
      "-rw-r--r-- 1 obotvinnik yeo-group  4.2G Nov 14 16:20 N4_03_R1.fastq.gz.polyATrim.adapterTrim.rmRep.sorted.rg.bam\r\n",
      "-rw-r--r-- 1 obotvinnik yeo-group  1.4G Nov 14 16:25 N4_04_R1.fastq.gz.polyATrim.adapterTrim.rmRep.sorted.rg.bam\r\n",
      "-rw-r--r-- 1 obotvinnik yeo-group  1.3G Nov 14 15:32 N4_05_R1.fastq.gz.polyATrim.adapterTrim.rmRep.sorted.rg.bam\r\n",
      "-rw-r--r-- 1 obotvinnik yeo-group  1.2G Nov 14 16:19 N4_06_R1.fastq.gz.polyATrim.adapterTrim.rmRep.sorted.rg.bam\r\n",
      "-rw-r--r-- 1 obotvinnik yeo-group  4.9G Nov 14 16:11 N4_07_R1.fastq.gz.polyATrim.adapterTrim.rmRep.sorted.rg.bam\r\n",
      "-rw-r--r-- 1 obotvinnik yeo-group  8.8G Nov 14 16:08 N4_08_R1.fastq.gz.polyATrim.adapterTrim.rmRep.sorted.rg.bam\r\n",
      "-rw-r--r-- 1 obotvinnik yeo-group  680M Nov 14 16:01 N4_09_R1.fastq.gz.polyATrim.adapterTrim.rmRep.sorted.rg.bam\r\n",
      "-rw-r--r-- 1 obotvinnik yeo-group  1.2G Nov 14 15:33 N4_10_R1.fastq.gz.polyATrim.adapterTrim.rmRep.sorted.rg.bam\r\n",
      "-rw-r--r-- 1 obotvinnik yeo-group  5.8G Nov 14 16:07 N4_11_R1.fastq.gz.polyATrim.adapterTrim.rmRep.sorted.rg.bam\r\n",
      "-rw-r--r-- 1 obotvinnik yeo-group  5.6G Nov 14 15:55 N4_12_R1.fastq.gz.polyATrim.adapterTrim.rmRep.sorted.rg.bam\r\n",
      "-rw-r--r-- 1 obotvinnik yeo-group  7.7G Nov 14 16:36 N4_13_R1.fastq.gz.polyATrim.adapterTrim.rmRep.sorted.rg.bam\r\n",
      "-rw-r--r-- 1 obotvinnik yeo-group  6.2G Nov 14 16:44 N4_14_R1.fastq.gz.polyATrim.adapterTrim.rmRep.sorted.rg.bam\r\n",
      "-rw-r--r-- 1 obotvinnik yeo-group  2.0G Nov 14 15:42 N5_01_R1.fastq.gz.polyATrim.adapterTrim.rmRep.sorted.rg.bam\r\n",
      "-rw-r--r-- 1 obotvinnik yeo-group  3.7G Nov 14 16:18 N5_02_R1.fastq.gz.polyATrim.adapterTrim.rmRep.sorted.rg.bam\r\n",
      "-rw-r--r-- 1 obotvinnik yeo-group  2.7G Nov 14 16:38 N5_03_R1.fastq.gz.polyATrim.adapterTrim.rmRep.sorted.rg.bam\r\n",
      "-rw-r--r-- 1 obotvinnik yeo-group  3.3G Nov 14 15:41 N5_04_R1.fastq.gz.polyATrim.adapterTrim.rmRep.sorted.rg.bam\r\n",
      "-rw-r--r-- 1 obotvinnik yeo-group  2.7G Nov 14 16:30 N5_05_R1.fastq.gz.polyATrim.adapterTrim.rmRep.sorted.rg.bam\r\n",
      "-rw-r--r-- 1 obotvinnik yeo-group  1.9G Nov 14 15:58 N5_06_R1.fastq.gz.polyATrim.adapterTrim.rmRep.sorted.rg.bam\r\n",
      "-rw-r--r-- 1 obotvinnik yeo-group  1.7G Nov 14 16:20 N5_07_R1.fastq.gz.polyATrim.adapterTrim.rmRep.sorted.rg.bam\r\n",
      "-rw-r--r-- 1 obotvinnik yeo-group  1.9G Nov 14 16:04 N5_08_R1.fastq.gz.polyATrim.adapterTrim.rmRep.sorted.rg.bam\r\n",
      "-rw-r--r-- 1 obotvinnik yeo-group  3.1G Nov 14 16:19 N5_09_R1.fastq.gz.polyATrim.adapterTrim.rmRep.sorted.rg.bam\r\n",
      "-rw-r--r-- 1 obotvinnik yeo-group  1.8G Nov 14 15:51 N5_10_R1.fastq.gz.polyATrim.adapterTrim.rmRep.sorted.rg.bam\r\n",
      "-rw-r--r-- 1 obotvinnik yeo-group  2.4G Nov 14 15:38 N5_11_R1.fastq.gz.polyATrim.adapterTrim.rmRep.sorted.rg.bam\r\n",
      "-rw-r--r-- 1 obotvinnik yeo-group  2.2G Nov 14 16:14 N5_12_R1.fastq.gz.polyATrim.adapterTrim.rmRep.sorted.rg.bam\r\n",
      "-rw-r--r-- 1 obotvinnik yeo-group  4.8G Nov 14 16:26 N5_13_R1.fastq.gz.polyATrim.adapterTrim.rmRep.sorted.rg.bam\r\n",
      "-rw-r--r-- 1 obotvinnik yeo-group  2.9G Nov 14 15:45 N5_14_R1.fastq.gz.polyATrim.adapterTrim.rmRep.sorted.rg.bam\r\n",
      "-rw-r--r-- 1 obotvinnik yeo-group  1.5G Nov 14 16:25 P1_01_R1.fastq.gz.polyATrim.adapterTrim.rmRep.sorted.rg.bam\r\n",
      "-rw-r--r-- 1 obotvinnik yeo-group  1.7G Nov 14 16:10 P1_02_R1.fastq.gz.polyATrim.adapterTrim.rmRep.sorted.rg.bam\r\n",
      "-rw-r--r-- 1 obotvinnik yeo-group  1.5G Nov 14 15:54 P1_03_R1.fastq.gz.polyATrim.adapterTrim.rmRep.sorted.rg.bam\r\n",
      "-rw-r--r-- 1 obotvinnik yeo-group  1.4G Nov 14 16:26 P1_04_R1.fastq.gz.polyATrim.adapterTrim.rmRep.sorted.rg.bam\r\n",
      "-rw-r--r-- 1 obotvinnik yeo-group  1.2G Nov 14 15:34 P1_05_R1.fastq.gz.polyATrim.adapterTrim.rmRep.sorted.rg.bam\r\n",
      "-rw-r--r-- 1 obotvinnik yeo-group  1.7G Nov 14 16:13 P1_06_R1.fastq.gz.polyATrim.adapterTrim.rmRep.sorted.rg.bam\r\n",
      "-rw-r--r-- 1 obotvinnik yeo-group  1.4G Nov 14 16:13 P1_07_R1.fastq.gz.polyATrim.adapterTrim.rmRep.sorted.rg.bam\r\n",
      "-rw-r--r-- 1 obotvinnik yeo-group  582M Nov 14 16:15 P1_08_R1.fastq.gz.polyATrim.adapterTrim.rmRep.sorted.rg.bam\r\n",
      "-rw-r--r-- 1 obotvinnik yeo-group  1.2G Nov 14 16:00 P1_09_R1.fastq.gz.polyATrim.adapterTrim.rmRep.sorted.rg.bam\r\n",
      "-rw-r--r-- 1 obotvinnik yeo-group  1.7G Nov 14 16:39 P1_10_R1.fastq.gz.polyATrim.adapterTrim.rmRep.sorted.rg.bam\r\n",
      "-rw-r--r-- 1 obotvinnik yeo-group  1.7G Nov 14 16:27 P1_11_R1.fastq.gz.polyATrim.adapterTrim.rmRep.sorted.rg.bam\r\n",
      "-rw-r--r-- 1 obotvinnik yeo-group 1015M Nov 14 15:56 P1_12_R1.fastq.gz.polyATrim.adapterTrim.rmRep.sorted.rg.bam\r\n",
      "-rw-r--r-- 1 obotvinnik yeo-group  1.2G Nov 14 15:53 P2_01_R1.fastq.gz.polyATrim.adapterTrim.rmRep.sorted.rg.bam\r\n",
      "-rw-r--r-- 1 obotvinnik yeo-group  1.3G Nov 14 15:50 P2_02_R1.fastq.gz.polyATrim.adapterTrim.rmRep.sorted.rg.bam\r\n",
      "-rw-r--r-- 1 obotvinnik yeo-group  1.2G Nov 14 15:38 P2_03_R1.fastq.gz.polyATrim.adapterTrim.rmRep.sorted.rg.bam\r\n",
      "-rw-r--r-- 1 obotvinnik yeo-group  1.7G Nov 14 16:09 P2_04_R1.fastq.gz.polyATrim.adapterTrim.rmRep.sorted.rg.bam\r\n",
      "-rw-r--r-- 1 obotvinnik yeo-group  993M Nov 14 16:13 P2_05_R1.fastq.gz.polyATrim.adapterTrim.rmRep.sorted.rg.bam\r\n",
      "-rw-r--r-- 1 obotvinnik yeo-group  808M Nov 14 16:34 P2_06_R1.fastq.gz.polyATrim.adapterTrim.rmRep.sorted.rg.bam\r\n",
      "-rw-r--r-- 1 obotvinnik yeo-group  1.2G Nov 14 15:49 P2_07_R1.fastq.gz.polyATrim.adapterTrim.rmRep.sorted.rg.bam\r\n",
      "-rw-r--r-- 1 obotvinnik yeo-group  803M Nov 14 16:38 P2_08_R1.fastq.gz.polyATrim.adapterTrim.rmRep.sorted.rg.bam\r\n",
      "-rw-r--r-- 1 obotvinnik yeo-group  1.1G Nov 14 15:50 P2_09_R1.fastq.gz.polyATrim.adapterTrim.rmRep.sorted.rg.bam\r\n",
      "-rw-r--r-- 1 obotvinnik yeo-group  2.2G Nov 14 15:42 P2_10_R1.fastq.gz.polyATrim.adapterTrim.rmRep.sorted.rg.bam\r\n",
      "-rw-r--r-- 1 obotvinnik yeo-group  1.2G Nov 14 15:55 P2_11_R1.fastq.gz.polyATrim.adapterTrim.rmRep.sorted.rg.bam\r\n",
      "-rw-r--r-- 1 obotvinnik yeo-group  1.3G Nov 14 15:49 P2_12_R1.fastq.gz.polyATrim.adapterTrim.rmRep.sorted.rg.bam\r\n",
      "-rw-r--r-- 1 obotvinnik yeo-group  1.7G Nov 14 15:35 P2_13_R1.fastq.gz.polyATrim.adapterTrim.rmRep.sorted.rg.bam\r\n",
      "-rw-r--r-- 1 obotvinnik yeo-group  1.5G Nov 14 16:05 P2_14_R1.fastq.gz.polyATrim.adapterTrim.rmRep.sorted.rg.bam\r\n",
      "-rw-r--r-- 1 obotvinnik yeo-group  3.2G Nov 14 16:04 P3_01_R1.fastq.gz.polyATrim.adapterTrim.rmRep.sorted.rg.bam\r\n",
      "-rw-r--r-- 1 obotvinnik yeo-group  3.1G Nov 14 15:46 P3_02_R1.fastq.gz.polyATrim.adapterTrim.rmRep.sorted.rg.bam\r\n",
      "-rw-r--r-- 1 obotvinnik yeo-group  4.0G Nov 14 16:40 P3_03_R1.fastq.gz.polyATrim.adapterTrim.rmRep.sorted.rg.bam\r\n",
      "-rw-r--r-- 1 obotvinnik yeo-group  1.2G Nov 14 16:27 P4_01_R1.fastq.gz.polyATrim.adapterTrim.rmRep.sorted.rg.bam\r\n",
      "-rw-r--r-- 1 obotvinnik yeo-group  969M Nov 14 16:20 P4_06_R1.fastq.gz.polyATrim.adapterTrim.rmRep.sorted.rg.bam\r\n",
      "-rw-r--r-- 1 obotvinnik yeo-group  981M Nov 14 15:55 P4_07_R1.fastq.gz.polyATrim.adapterTrim.rmRep.sorted.rg.bam\r\n",
      "-rw-r--r-- 1 obotvinnik yeo-group  823M Nov 14 16:11 P4_08_R1.fastq.gz.polyATrim.adapterTrim.rmRep.sorted.rg.bam\r\n",
      "-rw-r--r-- 1 obotvinnik yeo-group  1.1G Nov 14 16:00 P4_09_R1.fastq.gz.polyATrim.adapterTrim.rmRep.sorted.rg.bam\r\n",
      "-rw-r--r-- 1 obotvinnik yeo-group  2.1G Nov 14 16:40 P4_10_R1.fastq.gz.polyATrim.adapterTrim.rmRep.sorted.rg.bam\r\n",
      "-rw-r--r-- 1 obotvinnik yeo-group  1.2G Nov 14 16:28 P4_11_R1.fastq.gz.polyATrim.adapterTrim.rmRep.sorted.rg.bam\r\n",
      "-rw-r--r-- 1 obotvinnik yeo-group  960M Nov 14 16:06 P4_12_R1.fastq.gz.polyATrim.adapterTrim.rmRep.sorted.rg.bam\r\n",
      "-rw-r--r-- 1 obotvinnik yeo-group  3.8G Nov 14 16:29 P6_01_R1.fastq.gz.polyATrim.adapterTrim.rmRep.sorted.rg.bam\r\n",
      "-rw-r--r-- 1 obotvinnik yeo-group  2.8G Nov 14 15:42 P6_02_R1.fastq.gz.polyATrim.adapterTrim.rmRep.sorted.rg.bam\r\n",
      "-rw-r--r-- 1 obotvinnik yeo-group  3.7G Nov 14 16:41 P6_03_R1.fastq.gz.polyATrim.adapterTrim.rmRep.sorted.rg.bam\r\n",
      "-rw-r--r-- 1 obotvinnik yeo-group  2.8G Nov 14 16:30 P6_04_R1.fastq.gz.polyATrim.adapterTrim.rmRep.sorted.rg.bam\r\n",
      "-rw-r--r-- 1 obotvinnik yeo-group  1.3G Nov 14 16:09 P7_01_R1.fastq.gz.polyATrim.adapterTrim.rmRep.sorted.rg.bam\r\n",
      "-rw-r--r-- 1 obotvinnik yeo-group  1.3G Nov 14 16:28 P7_02_R1.fastq.gz.polyATrim.adapterTrim.rmRep.sorted.rg.bam\r\n",
      "-rw-r--r-- 1 obotvinnik yeo-group  1.4G Nov 14 15:35 P7_03_R1.fastq.gz.polyATrim.adapterTrim.rmRep.sorted.rg.bam\r\n",
      "-rw-r--r-- 1 obotvinnik yeo-group  766M Nov 14 15:52 P7_04_R1.fastq.gz.polyATrim.adapterTrim.rmRep.sorted.rg.bam\r\n",
      "-rw-r--r-- 1 obotvinnik yeo-group  1.6G Nov 14 16:22 P7_05_R1.fastq.gz.polyATrim.adapterTrim.rmRep.sorted.rg.bam\r\n",
      "-rw-r--r-- 1 obotvinnik yeo-group  1.8G Nov 14 16:39 P7_06_R1.fastq.gz.polyATrim.adapterTrim.rmRep.sorted.rg.bam\r\n",
      "-rw-r--r-- 1 obotvinnik yeo-group  1.5G Nov 14 15:50 P7_07_R1.fastq.gz.polyATrim.adapterTrim.rmRep.sorted.rg.bam\r\n",
      "-rw-r--r-- 1 obotvinnik yeo-group  1.4G Nov 14 16:32 P7_08_R1.fastq.gz.polyATrim.adapterTrim.rmRep.sorted.rg.bam\r\n",
      "-rw-r--r-- 1 obotvinnik yeo-group  2.2G Nov 14 15:53 P7_09_R1.fastq.gz.polyATrim.adapterTrim.rmRep.sorted.rg.bam\r\n",
      "-rw-r--r-- 1 obotvinnik yeo-group  1.4G Nov 14 16:05 P7_10_R1.fastq.gz.polyATrim.adapterTrim.rmRep.sorted.rg.bam\r\n",
      "-rw-r--r-- 1 obotvinnik yeo-group  1.7G Nov 14 16:06 P7_11_R1.fastq.gz.polyATrim.adapterTrim.rmRep.sorted.rg.bam\r\n",
      "-rw-r--r-- 1 obotvinnik yeo-group  1.6G Nov 14 15:50 P7_12_R1.fastq.gz.polyATrim.adapterTrim.rmRep.sorted.rg.bam\r\n",
      "-rw-r--r-- 1 obotvinnik yeo-group  1.5G Nov 14 16:20 P8_01_R1.fastq.gz.polyATrim.adapterTrim.rmRep.sorted.rg.bam\r\n",
      "-rw-r--r-- 1 obotvinnik yeo-group  2.3G Nov 14 15:38 P8_02_R1.fastq.gz.polyATrim.adapterTrim.rmRep.sorted.rg.bam\r\n",
      "-rw-r--r-- 1 obotvinnik yeo-group  2.6G Nov 14 16:12 P8_05_R1.fastq.gz.polyATrim.adapterTrim.rmRep.sorted.rg.bam\r\n",
      "-rw-r--r-- 1 obotvinnik yeo-group  2.6G Nov 14 15:52 P8_06_R1.fastq.gz.polyATrim.adapterTrim.rmRep.sorted.rg.bam\r\n",
      "-rw-r--r-- 1 obotvinnik yeo-group  5.7K Nov 14 16:29 P8_07_R1.fastq.gz.polyATrim.adapterTrim.rmRep.sorted.rg.bam\r\n",
      "-rw-r--r-- 1 obotvinnik yeo-group  3.0K Nov 14 16:35 P8_09_R1.fastq.gz.polyATrim.adapterTrim.rmRep.sorted.rg.bam\r\n",
      "-rw-r--r-- 1 obotvinnik yeo-group  2.7G Nov 14 16:05 P8_10_R1.fastq.gz.polyATrim.adapterTrim.rmRep.sorted.rg.bam\r\n",
      "-rw-r--r-- 1 obotvinnik yeo-group  2.5G Nov 14 16:25 P8_11_R1.fastq.gz.polyATrim.adapterTrim.rmRep.sorted.rg.bam\r\n",
      "-rw-r--r-- 1 obotvinnik yeo-group  5.5K Nov 14 15:27 P8_12_R1.fastq.gz.polyATrim.adapterTrim.rmRep.sorted.rg.bam\r\n",
      "-rw-r--r-- 1 obotvinnik yeo-group  6.0G Nov 14 16:13 P9_01_R1.fastq.gz.polyATrim.adapterTrim.rmRep.sorted.bam\r\n",
      "-rw-r--r-- 1 obotvinnik yeo-group  4.5G Nov 14 16:50 P9_02_R1.fastq.gz.polyATrim.adapterTrim.rmRep.sorted.bam\r\n",
      "-rw-r--r-- 1 obotvinnik yeo-group  4.4G Nov 14 15:49 P9_03_R1.fastq.gz.polyATrim.adapterTrim.rmRep.sorted.rg.bam\r\n",
      "-rw-r--r-- 1 obotvinnik yeo-group  6.3G Nov 14 17:01 P9_04_R1.fastq.gz.polyATrim.adapterTrim.rmRep.sorted.bam\r\n"
     ]
    }
   ],
   "source": [
    "ls -lha *bam"
   ]
  },
  {
   "cell_type": "code",
   "execution_count": 16,
   "metadata": {
    "collapsed": false
   },
   "outputs": [
    {
     "name": "stdout",
     "output_type": "stream",
     "text": [
      "Usage: samtools index <in.bam> [out.index]\r\n"
     ]
    }
   ],
   "source": [
    "! samtools index"
   ]
  },
  {
   "cell_type": "code",
   "execution_count": 7,
   "metadata": {
    "collapsed": true
   },
   "outputs": [],
   "source": [
    "import glob\n",
    "import os\n",
    "import qtools"
   ]
  },
  {
   "cell_type": "code",
   "execution_count": 8,
   "metadata": {
    "collapsed": false
   },
   "outputs": [
    {
     "data": {
      "text/plain": [
       "u'/oasis/tscc/scratch/obotvinnik/projects/singlecell_pnms/analysis/bams_from_aws/rmdup'"
      ]
     },
     "execution_count": 8,
     "metadata": {},
     "output_type": "execute_result"
    }
   ],
   "source": [
    "pwd"
   ]
  },
  {
   "cell_type": "code",
   "execution_count": 9,
   "metadata": {
    "collapsed": false
   },
   "outputs": [],
   "source": [
    "bams = glob.glob('*bam')\n",
    "\n",
    "folder = '/oasis/tscc/scratch/obotvinnik/projects/singlecell_pnms/analysis/bams_from_aws/rmdup'\n",
    "\n",
    "template = 'samtools rmdup {folder}/{bam} {folder}/rmdup/{bam}'\n",
    "\n",
    "commands = []\n",
    "for bam in bams:\n",
    "    command = template.format(folder=folder, bam=bam)\n",
    "    commands.append(command)"
   ]
  },
  {
   "cell_type": "code",
   "execution_count": 10,
   "metadata": {
    "collapsed": true
   },
   "outputs": [],
   "source": [
    "project = 'singlecell_pnms'"
   ]
  },
  {
   "cell_type": "code",
   "execution_count": 11,
   "metadata": {
    "collapsed": false
   },
   "outputs": [
    {
     "name": "stdout",
     "output_type": "stream",
     "text": [
      "/home/obotvinnik/processing_scripts/singlecell_pnms\n"
     ]
    }
   ],
   "source": [
    "cd ~/projects/$project/scripts"
   ]
  },
  {
   "cell_type": "code",
   "execution_count": 12,
   "metadata": {
    "collapsed": false
   },
   "outputs": [
    {
     "name": "stderr",
     "output_type": "stream",
     "text": [
      "Wrote commands to singlecell_pnms_samtools_index.sh.\n",
      "Submitted script to queue home.\n",
      " Job ID: 6960947\n"
     ]
    },
    {
     "data": {
      "text/plain": [
       "<qtools.submitter.Submitter at 0x2ad2303ce7d0>"
      ]
     },
     "execution_count": 12,
     "metadata": {},
     "output_type": "execute_result"
    }
   ],
   "source": [
    "jobname = '{project}_samtools_index'.format(project=project)\n",
    "\n",
    "qtools.Submitter(commands, jobname, array=False, walltime='4:00:00')"
   ]
  },
  {
   "cell_type": "code",
   "execution_count": 13,
   "metadata": {
    "collapsed": false,
    "scrolled": false
   },
   "outputs": [
    {
     "name": "stdout",
     "output_type": "stream",
     "text": [
      "tail: cannot open `singlecell_pnms_samtools_index*err*' for reading: No such file or directory\r\n"
     ]
    }
   ],
   "source": [
    "! tail $jobname*err*"
   ]
  },
  {
   "cell_type": "code",
   "execution_count": null,
   "metadata": {
    "collapsed": true
   },
   "outputs": [],
   "source": []
  }
 ],
 "metadata": {
  "kernelspec": {
   "display_name": "Python 2",
   "language": "python",
   "name": "python2"
  },
  "language_info": {
   "codemirror_mode": {
    "name": "ipython",
    "version": 2
   },
   "file_extension": ".py",
   "mimetype": "text/x-python",
   "name": "python",
   "nbconvert_exporter": "python",
   "pygments_lexer": "ipython2",
   "version": "2.7.11"
  }
 },
 "nbformat": 4,
 "nbformat_minor": 0
}
