{
 "cells": [
  {
   "cell_type": "code",
   "execution_count": 1,
   "metadata": {
    "collapsed": false
   },
   "outputs": [
    {
     "name": "stdout",
     "output_type": "stream",
     "text": [
      "/oasis/tscc/scratch/obotvinnik/projects/singlecell_pnms/analysis/bams_from_aws/rmdup\n"
     ]
    }
   ],
   "source": [
    "cd ~/projects/singlecell_pnms/analysis/bams_from_aws/rmdup/"
   ]
  },
  {
   "cell_type": "code",
   "execution_count": 2,
   "metadata": {
    "collapsed": false
   },
   "outputs": [
    {
     "name": "stdout",
     "output_type": "stream",
     "text": [
      "-rw-r--r-- 1 obotvinnik yeo-group  244M Dec 28 12:13 CVN_01_R1.fastq.gz.polyATrim.adapterTrim.rmRep.sorted.rg.bam\r\n",
      "-rw-r--r-- 1 obotvinnik yeo-group  266M Dec 28 12:13 CVN_02_R1.fastq.gz.polyATrim.adapterTrim.rmRep.sorted.rg.bam\r\n",
      "-rw-r--r-- 1 obotvinnik yeo-group  228M Dec 28 12:13 CVN_03_R1.fastq.gz.polyATrim.adapterTrim.rmRep.sorted.rg.bam\r\n",
      "-rw-r--r-- 1 obotvinnik yeo-group  285M Dec 28 12:13 CVN_04_R1.fastq.gz.polyATrim.adapterTrim.rmRep.sorted.rg.bam\r\n",
      "-rw-r--r-- 1 obotvinnik yeo-group  345M Dec 28 12:13 CVN_05_R1.fastq.gz.polyATrim.adapterTrim.rmRep.sorted.rg.bam\r\n",
      "-rw-r--r-- 1 obotvinnik yeo-group  302M Dec 28 12:13 CVN_06_R1.fastq.gz.polyATrim.adapterTrim.rmRep.sorted.rg.bam\r\n",
      "-rw-r--r-- 1 obotvinnik yeo-group  323M Dec 28 12:13 CVN_07_R1.fastq.gz.polyATrim.adapterTrim.rmRep.sorted.rg.bam\r\n",
      "-rw-r--r-- 1 obotvinnik yeo-group  292M Dec 28 12:13 CVN_08_R1.fastq.gz.polyATrim.adapterTrim.rmRep.sorted.rg.bam\r\n",
      "-rw-r--r-- 1 obotvinnik yeo-group  221M Dec 28 12:13 CVN_09_R1.fastq.gz.polyATrim.adapterTrim.rmRep.sorted.rg.bam\r\n",
      "-rw-r--r-- 1 obotvinnik yeo-group   52M Dec 28 12:13 CVN_10_R1.fastq.gz.polyATrim.adapterTrim.rmRep.sorted.rg.bam\r\n",
      "-rw-r--r-- 1 obotvinnik yeo-group  271M Dec 28 12:13 CVN_11_R1.fastq.gz.polyATrim.adapterTrim.rmRep.sorted.rg.bam\r\n",
      "-rw-r--r-- 1 obotvinnik yeo-group  278M Dec 28 12:13 CVN_12_R1.fastq.gz.polyATrim.adapterTrim.rmRep.sorted.rg.bam\r\n",
      "-rw-r--r-- 1 obotvinnik yeo-group  302M Dec 28 12:13 CVN_13_R1.fastq.gz.polyATrim.adapterTrim.rmRep.sorted.rg.bam\r\n",
      "-rw-r--r-- 1 obotvinnik yeo-group  248M Dec 28 12:13 CVN_14_R1.fastq.gz.polyATrim.adapterTrim.rmRep.sorted.rg.bam\r\n",
      "-rw-r--r-- 1 obotvinnik yeo-group  240M Dec 28 12:13 CVN_15_R1.fastq.gz.polyATrim.adapterTrim.rmRep.sorted.rg.bam\r\n",
      "-rw-r--r-- 1 obotvinnik yeo-group  209M Dec 28 12:13 CVN_16_R1.fastq.gz.polyATrim.adapterTrim.rmRep.sorted.rg.bam\r\n",
      "-rw-r--r-- 1 obotvinnik yeo-group  426M Dec 28 12:13 CVN_17_R1.fastq.gz.polyATrim.adapterTrim.rmRep.sorted.rg.bam\r\n",
      "-rw-r--r-- 1 obotvinnik yeo-group  197M Dec 28 12:13 CVN_18_R1.fastq.gz.polyATrim.adapterTrim.rmRep.sorted.rg.bam\r\n",
      "-rw-r--r-- 1 obotvinnik yeo-group  248M Dec 28 12:13 CVN_19_R1.fastq.gz.polyATrim.adapterTrim.rmRep.sorted.rg.bam\r\n",
      "-rw-r--r-- 1 obotvinnik yeo-group  177M Dec 28 12:13 CVN_20_R1.fastq.gz.polyATrim.adapterTrim.rmRep.sorted.rg.bam\r\n",
      "-rw-r--r-- 1 obotvinnik yeo-group  279M Dec 28 12:13 CVN_21_R1.fastq.gz.polyATrim.adapterTrim.rmRep.sorted.rg.bam\r\n",
      "-rw-r--r-- 1 obotvinnik yeo-group  248M Dec 28 12:13 CVN_22_R1.fastq.gz.polyATrim.adapterTrim.rmRep.sorted.rg.bam\r\n",
      "-rw-r--r-- 1 obotvinnik yeo-group  245M Dec 28 12:13 CVN_23_R1.fastq.gz.polyATrim.adapterTrim.rmRep.sorted.rg.bam\r\n",
      "-rw-r--r-- 1 obotvinnik yeo-group  255M Dec 28 12:13 CVN_24_R1.fastq.gz.polyATrim.adapterTrim.rmRep.sorted.rg.bam\r\n",
      "-rw-r--r-- 1 obotvinnik yeo-group  206M Dec 28 12:13 CVN_25_R1.fastq.gz.polyATrim.adapterTrim.rmRep.sorted.rg.bam\r\n",
      "-rw-r--r-- 1 obotvinnik yeo-group  237M Dec 28 12:13 CVN_26_R1.fastq.gz.polyATrim.adapterTrim.rmRep.sorted.rg.bam\r\n",
      "-rw-r--r-- 1 obotvinnik yeo-group  240M Dec 28 12:13 CVN_27_R1.fastq.gz.polyATrim.adapterTrim.rmRep.sorted.rg.bam\r\n",
      "-rw-r--r-- 1 obotvinnik yeo-group  258M Dec 28 12:13 CVN_28_R1.fastq.gz.polyATrim.adapterTrim.rmRep.sorted.rg.bam\r\n",
      "-rw-r--r-- 1 obotvinnik yeo-group  284M Dec 28 12:13 CVN_29_R1.fastq.gz.polyATrim.adapterTrim.rmRep.sorted.rg.bam\r\n",
      "-rw-r--r-- 1 obotvinnik yeo-group  270M Dec 28 12:13 CVN_30_R1.fastq.gz.polyATrim.adapterTrim.rmRep.sorted.rg.bam\r\n",
      "-rw-r--r-- 1 obotvinnik yeo-group  285M Dec 28 12:13 CVN_31_R1.fastq.gz.polyATrim.adapterTrim.rmRep.sorted.rg.bam\r\n",
      "-rw-r--r-- 1 obotvinnik yeo-group  296M Dec 28 12:13 CVN_32_R1.fastq.gz.polyATrim.adapterTrim.rmRep.sorted.rg.bam\r\n",
      "-rw-r--r-- 1 obotvinnik yeo-group  229M Dec 28 12:13 CVN_33_R1.fastq.gz.polyATrim.adapterTrim.rmRep.sorted.rg.bam\r\n",
      "-rw-r--r-- 1 obotvinnik yeo-group  168M Dec 28 12:13 CVN_34_R1.fastq.gz.polyATrim.adapterTrim.rmRep.sorted.rg.bam\r\n",
      "-rw-r--r-- 1 obotvinnik yeo-group  404M Dec 28 12:13 CVN_35_R1.fastq.gz.polyATrim.adapterTrim.rmRep.sorted.rg.bam\r\n",
      "-rw-r--r-- 1 obotvinnik yeo-group  1.1G Dec 28 12:13 M1_01_R1.fastq.gz.polyATrim.adapterTrim.rmRep.sorted.rg.bam\r\n",
      "-rw-r--r-- 1 obotvinnik yeo-group  1.2G Dec 28 12:13 M1_02_R1.fastq.gz.polyATrim.adapterTrim.rmRep.sorted.rg.bam\r\n",
      "-rw-r--r-- 1 obotvinnik yeo-group  1.7G Dec 28 12:13 M1_03_R1.fastq.gz.polyATrim.adapterTrim.rmRep.sorted.rg.bam\r\n",
      "-rw-r--r-- 1 obotvinnik yeo-group  887M Dec 28 12:13 M1_04_R1.fastq.gz.polyATrim.adapterTrim.rmRep.sorted.rg.bam\r\n",
      "-rw-r--r-- 1 obotvinnik yeo-group  1.1G Dec 28 12:13 M1_05_R1.fastq.gz.polyATrim.adapterTrim.rmRep.sorted.rg.bam\r\n",
      "-rw-r--r-- 1 obotvinnik yeo-group  1.7G Dec 28 12:13 M1_06_R1.fastq.gz.polyATrim.adapterTrim.rmRep.sorted.rg.bam\r\n",
      "-rw-r--r-- 1 obotvinnik yeo-group  1.8G Dec 28 12:13 M1_07_R1.fastq.gz.polyATrim.adapterTrim.rmRep.sorted.rg.bam\r\n",
      "-rw-r--r-- 1 obotvinnik yeo-group  1.1G Dec 28 12:13 M1_08_R1.fastq.gz.polyATrim.adapterTrim.rmRep.sorted.rg.bam\r\n",
      "-rw-r--r-- 1 obotvinnik yeo-group  1.2G Dec 28 12:13 M1_09_R1.fastq.gz.polyATrim.adapterTrim.rmRep.sorted.rg.bam\r\n",
      "-rw-r--r-- 1 obotvinnik yeo-group  1.2G Dec 28 12:13 M1_10_R1.fastq.gz.polyATrim.adapterTrim.rmRep.sorted.rg.bam\r\n",
      "-rw-r--r-- 1 obotvinnik yeo-group  986M Dec 28 12:13 M1_11_R1.fastq.gz.polyATrim.adapterTrim.rmRep.sorted.rg.bam\r\n",
      "-rw-r--r-- 1 obotvinnik yeo-group  2.1G Dec 28 12:13 M1_12_R1.fastq.gz.polyATrim.adapterTrim.rmRep.sorted.rg.bam\r\n",
      "-rw-r--r-- 1 obotvinnik yeo-group  1.3G Dec 28 12:13 M2_01_R1.fastq.gz.polyATrim.adapterTrim.rmRep.sorted.rg.bam\r\n",
      "-rw-r--r-- 1 obotvinnik yeo-group  1.3G Dec 28 12:13 M2_02_R1.fastq.gz.polyATrim.adapterTrim.rmRep.sorted.rg.bam\r\n",
      "-rw-r--r-- 1 obotvinnik yeo-group  1.4G Dec 28 12:13 M2_03_R1.fastq.gz.polyATrim.adapterTrim.rmRep.sorted.rg.bam\r\n",
      "-rw-r--r-- 1 obotvinnik yeo-group  1.3G Dec 28 12:13 M2_04_R1.fastq.gz.polyATrim.adapterTrim.rmRep.sorted.rg.bam\r\n",
      "-rw-r--r-- 1 obotvinnik yeo-group  1.4G Dec 28 12:13 M2_05_R1.fastq.gz.polyATrim.adapterTrim.rmRep.sorted.rg.bam\r\n",
      "-rw-r--r-- 1 obotvinnik yeo-group  1.1G Dec 28 12:13 M2_06_R1.fastq.gz.polyATrim.adapterTrim.rmRep.sorted.rg.bam\r\n",
      "-rw-r--r-- 1 obotvinnik yeo-group  1.4G Dec 28 12:13 M2_07_R1.fastq.gz.polyATrim.adapterTrim.rmRep.sorted.rg.bam\r\n",
      "-rw-r--r-- 1 obotvinnik yeo-group  1.4G Dec 28 12:13 M2_08_R1.fastq.gz.polyATrim.adapterTrim.rmRep.sorted.rg.bam\r\n",
      "-rw-r--r-- 1 obotvinnik yeo-group  1.4G Dec 28 12:13 M2_09_R1.fastq.gz.polyATrim.adapterTrim.rmRep.sorted.rg.bam\r\n",
      "-rw-r--r-- 1 obotvinnik yeo-group  1.7G Dec 28 12:13 M2_10_R1.fastq.gz.polyATrim.adapterTrim.rmRep.sorted.rg.bam\r\n",
      "-rw-r--r-- 1 obotvinnik yeo-group  1.6G Dec 28 12:13 M2_11_R1.fastq.gz.polyATrim.adapterTrim.rmRep.sorted.rg.bam\r\n",
      "-rw-r--r-- 1 obotvinnik yeo-group  1.5G Dec 28 12:13 M2_12_R1.fastq.gz.polyATrim.adapterTrim.rmRep.sorted.rg.bam\r\n",
      "-rw-r--r-- 1 obotvinnik yeo-group  224M Dec 28 12:13 M2nd_01_R1.fastq.gz.polyATrim.adapterTrim.rmRep.sorted.rg.bam\r\n",
      "-rw-r--r-- 1 obotvinnik yeo-group  474M Dec 28 12:13 M2nd_02_R1.fastq.gz.polyATrim.adapterTrim.rmRep.sorted.rg.bam\r\n",
      "-rw-r--r-- 1 obotvinnik yeo-group  546M Dec 28 12:13 M2nd_03_R1.fastq.gz.polyATrim.adapterTrim.rmRep.sorted.rg.bam\r\n",
      "-rw-r--r-- 1 obotvinnik yeo-group  383M Dec 28 12:13 M2nd_04_R1.fastq.gz.polyATrim.adapterTrim.rmRep.sorted.rg.bam\r\n",
      "-rw-r--r-- 1 obotvinnik yeo-group  404M Dec 28 12:13 M2nd_05_R1.fastq.gz.polyATrim.adapterTrim.rmRep.sorted.rg.bam\r\n",
      "-rw-r--r-- 1 obotvinnik yeo-group  661M Dec 28 12:13 M2nd_06_R1.fastq.gz.polyATrim.adapterTrim.rmRep.sorted.rg.bam\r\n",
      "-rw-r--r-- 1 obotvinnik yeo-group  773M Dec 28 12:13 M2nd_07_R1.fastq.gz.polyATrim.adapterTrim.rmRep.sorted.rg.bam\r\n",
      "-rw-r--r-- 1 obotvinnik yeo-group  968M Dec 28 12:13 M2nd_08_R1.fastq.gz.polyATrim.adapterTrim.rmRep.sorted.rg.bam\r\n",
      "-rw-r--r-- 1 obotvinnik yeo-group  182M Dec 28 12:13 M2nd_09_R1.fastq.gz.polyATrim.adapterTrim.rmRep.sorted.rg.bam\r\n",
      "-rw-r--r-- 1 obotvinnik yeo-group  339M Dec 28 12:13 M2nd_10_R1.fastq.gz.polyATrim.adapterTrim.rmRep.sorted.rg.bam\r\n",
      "-rw-r--r-- 1 obotvinnik yeo-group  313M Dec 28 12:13 M2nd_11_R1.fastq.gz.polyATrim.adapterTrim.rmRep.sorted.rg.bam\r\n",
      "-rw-r--r-- 1 obotvinnik yeo-group  923M Dec 28 12:13 M2nd_12_R1.fastq.gz.polyATrim.adapterTrim.rmRep.sorted.rg.bam\r\n",
      "-rw-r--r-- 1 obotvinnik yeo-group  2.9G Dec 28 12:13 M2nd_13_R1.fastq.gz.polyATrim.adapterTrim.rmRep.sorted.rg.bam\r\n",
      "-rw-r--r-- 1 obotvinnik yeo-group  502M Dec 28 12:13 M2nd_14_R1.fastq.gz.polyATrim.adapterTrim.rmRep.sorted.rg.bam\r\n",
      "-rw-r--r-- 1 obotvinnik yeo-group  437M Dec 28 12:13 M2nd_15_R1.fastq.gz.polyATrim.adapterTrim.rmRep.sorted.rg.bam\r\n",
      "-rw-r--r-- 1 obotvinnik yeo-group  399M Dec 28 12:13 M2nd_16_R1.fastq.gz.polyATrim.adapterTrim.rmRep.sorted.rg.bam\r\n",
      "-rw-r--r-- 1 obotvinnik yeo-group  230M Dec 28 12:13 M2nd_17_R1.fastq.gz.polyATrim.adapterTrim.rmRep.sorted.rg.bam\r\n",
      "-rw-r--r-- 1 obotvinnik yeo-group  466M Dec 28 12:13 M2nd_18_R1.fastq.gz.polyATrim.adapterTrim.rmRep.sorted.rg.bam\r\n",
      "-rw-r--r-- 1 obotvinnik yeo-group  329M Dec 28 12:13 M2nd_19_R1.fastq.gz.polyATrim.adapterTrim.rmRep.sorted.rg.bam\r\n",
      "-rw-r--r-- 1 obotvinnik yeo-group  416M Dec 28 12:13 M2nd_20_R1.fastq.gz.polyATrim.adapterTrim.rmRep.sorted.rg.bam\r\n",
      "-rw-r--r-- 1 obotvinnik yeo-group  2.8G Dec 28 12:13 M2nd_21_R1.fastq.gz.polyATrim.adapterTrim.rmRep.sorted.rg.bam\r\n",
      "-rw-r--r-- 1 obotvinnik yeo-group  548M Dec 28 12:13 M2nd_22_R1.fastq.gz.polyATrim.adapterTrim.rmRep.sorted.rg.bam\r\n",
      "-rw-r--r-- 1 obotvinnik yeo-group   91M Dec 28 12:13 M2nd_23_R1.fastq.gz.polyATrim.adapterTrim.rmRep.sorted.rg.bam\r\n",
      "-rw-r--r-- 1 obotvinnik yeo-group  291M Dec 28 12:13 M2nd_24_R1.fastq.gz.polyATrim.adapterTrim.rmRep.sorted.rg.bam\r\n",
      "-rw-r--r-- 1 obotvinnik yeo-group  279M Dec 28 12:13 M2nd_25_R1.fastq.gz.polyATrim.adapterTrim.rmRep.sorted.rg.bam\r\n",
      "-rw-r--r-- 1 obotvinnik yeo-group  308M Dec 28 12:13 M2nd_26_R1.fastq.gz.polyATrim.adapterTrim.rmRep.sorted.rg.bam\r\n",
      "-rw-r--r-- 1 obotvinnik yeo-group  160M Dec 28 12:13 M2nd_27_R1.fastq.gz.polyATrim.adapterTrim.rmRep.sorted.rg.bam\r\n",
      "-rw-r--r-- 1 obotvinnik yeo-group  208M Dec 28 12:13 M2nd_28_R1.fastq.gz.polyATrim.adapterTrim.rmRep.sorted.rg.bam\r\n",
      "-rw-r--r-- 1 obotvinnik yeo-group  265M Dec 28 12:13 M2nd_29_R1.fastq.gz.polyATrim.adapterTrim.rmRep.sorted.rg.bam\r\n",
      "-rw-r--r-- 1 obotvinnik yeo-group  2.7M Dec 28 12:13 M2nd_30_R1.fastq.gz.polyATrim.adapterTrim.rmRep.sorted.rg.bam\r\n",
      "-rw-r--r-- 1 obotvinnik yeo-group  113K Dec 28 12:13 M2nd_31_R1.fastq.gz.polyATrim.adapterTrim.rmRep.sorted.rg.bam\r\n",
      "-rw-r--r-- 1 obotvinnik yeo-group   29M Dec 28 12:13 M2nd_32_R1.fastq.gz.polyATrim.adapterTrim.rmRep.sorted.rg.bam\r\n",
      "-rw-r--r-- 1 obotvinnik yeo-group  577M Dec 28 12:13 M2nd_33_R1.fastq.gz.polyATrim.adapterTrim.rmRep.sorted.rg.bam\r\n",
      "-rw-r--r-- 1 obotvinnik yeo-group  943M Dec 28 12:13 M2nd_34_R1.fastq.gz.polyATrim.adapterTrim.rmRep.sorted.rg.bam\r\n",
      "-rw-r--r-- 1 obotvinnik yeo-group  993M Dec 28 12:13 M3_01_R1.fastq.gz.polyATrim.adapterTrim.rmRep.sorted.rg.bam\r\n",
      "-rw-r--r-- 1 obotvinnik yeo-group  1.6G Dec 28 12:13 M3_02_R1.fastq.gz.polyATrim.adapterTrim.rmRep.sorted.rg.bam\r\n",
      "-rw-r--r-- 1 obotvinnik yeo-group  1.3G Dec 28 12:13 M3_03_R1.fastq.gz.polyATrim.adapterTrim.rmRep.sorted.rg.bam\r\n",
      "-rw-r--r-- 1 obotvinnik yeo-group  731M Dec 28 12:13 M3_04_R1.fastq.gz.polyATrim.adapterTrim.rmRep.sorted.rg.bam\r\n",
      "-rw-r--r-- 1 obotvinnik yeo-group  1.2G Dec 28 12:13 M3_05_R1.fastq.gz.polyATrim.adapterTrim.rmRep.sorted.rg.bam\r\n",
      "-rw-r--r-- 1 obotvinnik yeo-group  903M Dec 28 12:13 M3_06_R1.fastq.gz.polyATrim.adapterTrim.rmRep.sorted.rg.bam\r\n",
      "-rw-r--r-- 1 obotvinnik yeo-group  959M Dec 28 12:13 M3_07_R1.fastq.gz.polyATrim.adapterTrim.rmRep.sorted.rg.bam\r\n",
      "-rw-r--r-- 1 obotvinnik yeo-group  3.2G Dec 28 12:13 M3_08_R1.fastq.gz.polyATrim.adapterTrim.rmRep.sorted.rg.bam\r\n",
      "-rw-r--r-- 1 obotvinnik yeo-group  3.0G Dec 28 12:13 M3_09_R1.fastq.gz.polyATrim.adapterTrim.rmRep.sorted.rg.bam\r\n",
      "-rw-r--r-- 1 obotvinnik yeo-group  661K Dec 28 12:13 M3_10_R1.fastq.gz.polyATrim.adapterTrim.rmRep.sorted.rg.bam\r\n",
      "-rw-r--r-- 1 obotvinnik yeo-group  1.4G Dec 28 12:13 M3_11_R1.fastq.gz.polyATrim.adapterTrim.rmRep.sorted.rg.bam\r\n",
      "-rw-r--r-- 1 obotvinnik yeo-group  2.0G Dec 28 12:13 M3_12_R1.fastq.gz.polyATrim.adapterTrim.rmRep.sorted.rg.bam\r\n",
      "-rw-r--r-- 1 obotvinnik yeo-group  2.3G Dec 28 12:13 M3_13_R1.fastq.gz.polyATrim.adapterTrim.rmRep.sorted.rg.bam\r\n",
      "-rw-r--r-- 1 obotvinnik yeo-group  668M Dec 28 12:13 M3_14_R1.fastq.gz.polyATrim.adapterTrim.rmRep.sorted.rg.bam\r\n",
      "-rw-r--r-- 1 obotvinnik yeo-group  4.2G Dec 28 12:13 M4_01_R1.fastq.gz.polyATrim.adapterTrim.rmRep.sorted.rg.bam\r\n",
      "-rw-r--r-- 1 obotvinnik yeo-group  6.0G Dec 28 12:13 M4_02_R1.fastq.gz.polyATrim.adapterTrim.rmRep.sorted.rg.bam\r\n",
      "-rw-r--r-- 1 obotvinnik yeo-group  4.4G Dec 28 12:13 M4_03_R1.fastq.gz.polyATrim.adapterTrim.rmRep.sorted.rg.bam\r\n",
      "-rw-r--r-- 1 obotvinnik yeo-group  3.1G Dec 28 12:13 M4_04_R1.fastq.gz.polyATrim.adapterTrim.rmRep.sorted.rg.bam\r\n",
      "-rw-r--r-- 1 obotvinnik yeo-group  1.2G Dec 28 12:13 M4_05_R1.fastq.gz.polyATrim.adapterTrim.rmRep.sorted.rg.bam\r\n",
      "-rw-r--r-- 1 obotvinnik yeo-group  520M Dec 28 12:13 M4_06_R1.fastq.gz.polyATrim.adapterTrim.rmRep.sorted.rg.bam\r\n",
      "-rw-r--r-- 1 obotvinnik yeo-group  3.8G Dec 28 12:13 M4_07_R1.fastq.gz.polyATrim.adapterTrim.rmRep.sorted.rg.bam\r\n",
      "-rw-r--r-- 1 obotvinnik yeo-group  5.6G Dec 28 12:13 M4_08_R1.fastq.gz.polyATrim.adapterTrim.rmRep.sorted.rg.bam\r\n",
      "-rw-r--r-- 1 obotvinnik yeo-group  5.5G Dec 28 12:13 M4_09_R1.fastq.gz.polyATrim.adapterTrim.rmRep.sorted.rg.bam\r\n",
      "-rw-r--r-- 1 obotvinnik yeo-group  4.2G Dec 28 12:13 M4_10_R1.fastq.gz.polyATrim.adapterTrim.rmRep.sorted.rg.bam\r\n",
      "-rw-r--r-- 1 obotvinnik yeo-group  510M Dec 28 12:13 M4_11_R1.fastq.gz.polyATrim.adapterTrim.rmRep.sorted.rg.bam\r\n",
      "-rw-r--r-- 1 obotvinnik yeo-group  521M Dec 28 12:13 M4_12_R1.fastq.gz.polyATrim.adapterTrim.rmRep.sorted.rg.bam\r\n",
      "-rw-r--r-- 1 obotvinnik yeo-group  867M Dec 28 12:13 M4_13_R1.fastq.gz.polyATrim.adapterTrim.rmRep.sorted.rg.bam\r\n",
      "-rw-r--r-- 1 obotvinnik yeo-group  614M Dec 28 12:13 M4_14_R1.fastq.gz.polyATrim.adapterTrim.rmRep.sorted.rg.bam\r\n",
      "-rw-r--r-- 1 obotvinnik yeo-group  1.9G Dec 28 12:13 M5_01_R1.fastq.gz.polyATrim.adapterTrim.rmRep.sorted.rg.bam\r\n",
      "-rw-r--r-- 1 obotvinnik yeo-group  2.3G Dec 28 12:13 M5_02_R1.fastq.gz.polyATrim.adapterTrim.rmRep.sorted.rg.bam\r\n",
      "-rw-r--r-- 1 obotvinnik yeo-group  2.5G Dec 28 12:13 M5_03_R1.fastq.gz.polyATrim.adapterTrim.rmRep.sorted.rg.bam\r\n",
      "-rw-r--r-- 1 obotvinnik yeo-group  2.0G Dec 28 12:13 M5_04_R1.fastq.gz.polyATrim.adapterTrim.rmRep.sorted.rg.bam\r\n",
      "-rw-r--r-- 1 obotvinnik yeo-group   11G Dec 28 12:13 M6_01_R1.fastq.gz.polyATrim.adapterTrim.rmRep.sorted.rg.bam\r\n",
      "-rw-r--r-- 1 obotvinnik yeo-group  3.4G Dec 28 12:13 M6_02_R1.fastq.gz.polyATrim.adapterTrim.rmRep.sorted.rg.bam\r\n",
      "-rw-r--r-- 1 obotvinnik yeo-group  5.7G Dec 28 12:13 M6_03_R1.fastq.gz.polyATrim.adapterTrim.rmRep.sorted.bam\r\n",
      "-rw-r--r-- 1 obotvinnik yeo-group  5.1G Dec 28 12:13 M6_04_R1.fastq.gz.polyATrim.adapterTrim.rmRep.sorted.bam\r\n",
      "-rw-r--r-- 1 obotvinnik yeo-group  4.8G Dec 28 12:13 M6_05_R1.fastq.gz.polyATrim.adapterTrim.rmRep.sorted.bam\r\n",
      "-rw-r--r-- 1 obotvinnik yeo-group  4.9G Dec 28 12:13 M6_06_R1.fastq.gz.polyATrim.adapterTrim.rmRep.sorted.bam\r\n",
      "-rw-r--r-- 1 obotvinnik yeo-group  5.5G Dec 28 12:13 M6_07_R1.fastq.gz.polyATrim.adapterTrim.rmRep.sorted.bam\r\n",
      "-rw-r--r-- 1 obotvinnik yeo-group  698M Dec 28 12:13 MSA_01_R1.fastq.gz.polyATrim.adapterTrim.rmRep.sorted.rg.bam\r\n",
      "-rw-r--r-- 1 obotvinnik yeo-group  781M Dec 28 12:13 MSA_02_R1.fastq.gz.polyATrim.adapterTrim.rmRep.sorted.rg.bam\r\n",
      "-rw-r--r-- 1 obotvinnik yeo-group  372M Dec 28 12:13 MSA_03_R1.fastq.gz.polyATrim.adapterTrim.rmRep.sorted.rg.bam\r\n",
      "-rw-r--r-- 1 obotvinnik yeo-group  537M Dec 28 12:13 MSA_04_R1.fastq.gz.polyATrim.adapterTrim.rmRep.sorted.rg.bam\r\n",
      "-rw-r--r-- 1 obotvinnik yeo-group  568M Dec 28 12:13 MSA_05_R1.fastq.gz.polyATrim.adapterTrim.rmRep.sorted.rg.bam\r\n",
      "-rw-r--r-- 1 obotvinnik yeo-group  558M Dec 28 12:13 MSA_06_R1.fastq.gz.polyATrim.adapterTrim.rmRep.sorted.rg.bam\r\n",
      "-rw-r--r-- 1 obotvinnik yeo-group  643M Dec 28 12:13 MSA_07_R1.fastq.gz.polyATrim.adapterTrim.rmRep.sorted.rg.bam\r\n",
      "-rw-r--r-- 1 obotvinnik yeo-group  890M Dec 28 12:13 MSA_08_R1.fastq.gz.polyATrim.adapterTrim.rmRep.sorted.rg.bam\r\n",
      "-rw-r--r-- 1 obotvinnik yeo-group  653M Dec 28 12:13 MSA_09_R1.fastq.gz.polyATrim.adapterTrim.rmRep.sorted.rg.bam\r\n",
      "-rw-r--r-- 1 obotvinnik yeo-group  516M Dec 28 12:13 MSA_10_R1.fastq.gz.polyATrim.adapterTrim.rmRep.sorted.rg.bam\r\n",
      "-rw-r--r-- 1 obotvinnik yeo-group  625M Dec 28 12:13 MSA_11_R1.fastq.gz.polyATrim.adapterTrim.rmRep.sorted.rg.bam\r\n",
      "-rw-r--r-- 1 obotvinnik yeo-group  626M Dec 28 12:13 MSA_12_R1.fastq.gz.polyATrim.adapterTrim.rmRep.sorted.rg.bam\r\n",
      "-rw-r--r-- 1 obotvinnik yeo-group  1.1G Dec 28 12:13 MSA_13_R1.fastq.gz.polyATrim.adapterTrim.rmRep.sorted.rg.bam\r\n",
      "-rw-r--r-- 1 obotvinnik yeo-group  950M Dec 28 12:13 MSA_14_R1.fastq.gz.polyATrim.adapterTrim.rmRep.sorted.rg.bam\r\n",
      "-rw-r--r-- 1 obotvinnik yeo-group  552M Dec 28 12:13 MSA_15_R1.fastq.gz.polyATrim.adapterTrim.rmRep.sorted.rg.bam\r\n",
      "-rw-r--r-- 1 obotvinnik yeo-group  791M Dec 28 12:13 MSA_16_R1.fastq.gz.polyATrim.adapterTrim.rmRep.sorted.rg.bam\r\n",
      "-rw-r--r-- 1 obotvinnik yeo-group  1.4G Dec 28 12:13 MSA_17_R1.fastq.gz.polyATrim.adapterTrim.rmRep.sorted.rg.bam\r\n",
      "-rw-r--r-- 1 obotvinnik yeo-group  701M Dec 28 12:13 MSA_18_R1.fastq.gz.polyATrim.adapterTrim.rmRep.sorted.rg.bam\r\n",
      "-rw-r--r-- 1 obotvinnik yeo-group  264M Dec 28 12:13 MSA_19_R1.fastq.gz.polyATrim.adapterTrim.rmRep.sorted.rg.bam\r\n",
      "-rw-r--r-- 1 obotvinnik yeo-group  631M Dec 28 12:13 MSA_20_R1.fastq.gz.polyATrim.adapterTrim.rmRep.sorted.rg.bam\r\n",
      "-rw-r--r-- 1 obotvinnik yeo-group  479M Dec 28 12:13 MSA_21_R1.fastq.gz.polyATrim.adapterTrim.rmRep.sorted.rg.bam\r\n",
      "-rw-r--r-- 1 obotvinnik yeo-group  465M Dec 28 12:13 MSA_22_R1.fastq.gz.polyATrim.adapterTrim.rmRep.sorted.rg.bam\r\n",
      "-rw-r--r-- 1 obotvinnik yeo-group  610M Dec 28 12:13 MSA_23_R1.fastq.gz.polyATrim.adapterTrim.rmRep.sorted.rg.bam\r\n",
      "-rw-r--r-- 1 obotvinnik yeo-group  777M Dec 28 12:13 MSA_24_R1.fastq.gz.polyATrim.adapterTrim.rmRep.sorted.rg.bam\r\n",
      "-rw-r--r-- 1 obotvinnik yeo-group  277K Dec 28 12:13 MSA_25_R1.fastq.gz.polyATrim.adapterTrim.rmRep.sorted.rg.bam\r\n",
      "-rw-r--r-- 1 obotvinnik yeo-group  567M Dec 28 12:13 MSA_26_R1.fastq.gz.polyATrim.adapterTrim.rmRep.sorted.rg.bam\r\n",
      "-rw-r--r-- 1 obotvinnik yeo-group  582M Dec 28 12:13 MSA_27_R1.fastq.gz.polyATrim.adapterTrim.rmRep.sorted.rg.bam\r\n",
      "-rw-r--r-- 1 obotvinnik yeo-group  545M Dec 28 12:13 MSA_28_R1.fastq.gz.polyATrim.adapterTrim.rmRep.sorted.rg.bam\r\n",
      "-rw-r--r-- 1 obotvinnik yeo-group  239M Dec 28 12:13 MSA_29_R1.fastq.gz.polyATrim.adapterTrim.rmRep.sorted.rg.bam\r\n",
      "-rw-r--r-- 1 obotvinnik yeo-group  402M Dec 28 12:13 MSA_30_R1.fastq.gz.polyATrim.adapterTrim.rmRep.sorted.rg.bam\r\n",
      "-rw-r--r-- 1 obotvinnik yeo-group  715M Dec 28 12:13 MSA_31_R1.fastq.gz.polyATrim.adapterTrim.rmRep.sorted.rg.bam\r\n",
      "-rw-r--r-- 1 obotvinnik yeo-group  468M Dec 28 12:13 MSA_32_R1.fastq.gz.polyATrim.adapterTrim.rmRep.sorted.rg.bam\r\n",
      "-rw-r--r-- 1 obotvinnik yeo-group  581M Dec 28 12:13 MSA_33_R1.fastq.gz.polyATrim.adapterTrim.rmRep.sorted.rg.bam\r\n",
      "-rw-r--r-- 1 obotvinnik yeo-group  493M Dec 28 12:13 MSA_34_R1.fastq.gz.polyATrim.adapterTrim.rmRep.sorted.rg.bam\r\n",
      "-rw-r--r-- 1 obotvinnik yeo-group  415M Dec 28 12:13 MSA_35_R1.fastq.gz.polyATrim.adapterTrim.rmRep.sorted.rg.bam\r\n",
      "-rw-r--r-- 1 obotvinnik yeo-group  293M Dec 28 12:13 MSA_36_R1.fastq.gz.polyATrim.adapterTrim.rmRep.sorted.rg.bam\r\n",
      "-rw-r--r-- 1 obotvinnik yeo-group  395M Dec 28 12:13 MSA_37_R1.fastq.gz.polyATrim.adapterTrim.rmRep.sorted.rg.bam\r\n",
      "-rw-r--r-- 1 obotvinnik yeo-group  1.4G Dec 28 12:13 N1_01_R1.fastq.gz.polyATrim.adapterTrim.rmRep.sorted.rg.bam\r\n",
      "-rw-r--r-- 1 obotvinnik yeo-group  1.6G Dec 28 12:13 N1_02_R1.fastq.gz.polyATrim.adapterTrim.rmRep.sorted.rg.bam\r\n",
      "-rw-r--r-- 1 obotvinnik yeo-group  1.3G Dec 28 12:13 N1_03_R1.fastq.gz.polyATrim.adapterTrim.rmRep.sorted.rg.bam\r\n",
      "-rw-r--r-- 1 obotvinnik yeo-group  1.5G Dec 28 12:13 N1_04_R1.fastq.gz.polyATrim.adapterTrim.rmRep.sorted.rg.bam\r\n",
      "-rw-r--r-- 1 obotvinnik yeo-group  1.3G Dec 28 12:13 N1_05_R1.fastq.gz.polyATrim.adapterTrim.rmRep.sorted.rg.bam\r\n",
      "-rw-r--r-- 1 obotvinnik yeo-group  748M Dec 28 12:13 N1_06_R1.fastq.gz.polyATrim.adapterTrim.rmRep.sorted.rg.bam\r\n",
      "-rw-r--r-- 1 obotvinnik yeo-group  1.2G Dec 28 12:13 N1_07_R1.fastq.gz.polyATrim.adapterTrim.rmRep.sorted.rg.bam\r\n",
      "-rw-r--r-- 1 obotvinnik yeo-group  1.4G Dec 28 12:13 N1_08_R1.fastq.gz.polyATrim.adapterTrim.rmRep.sorted.rg.bam\r\n",
      "-rw-r--r-- 1 obotvinnik yeo-group  964M Dec 28 12:13 N1_09_R1.fastq.gz.polyATrim.adapterTrim.rmRep.sorted.rg.bam\r\n",
      "-rw-r--r-- 1 obotvinnik yeo-group  1.1G Dec 28 12:13 N1_10_R1.fastq.gz.polyATrim.adapterTrim.rmRep.sorted.rg.bam\r\n",
      "-rw-r--r-- 1 obotvinnik yeo-group  983M Dec 28 12:13 N1_11_R1.fastq.gz.polyATrim.adapterTrim.rmRep.sorted.rg.bam\r\n",
      "-rw-r--r-- 1 obotvinnik yeo-group  1.4G Dec 28 12:13 N1_12_R1.fastq.gz.polyATrim.adapterTrim.rmRep.sorted.rg.bam\r\n",
      "-rw-r--r-- 1 obotvinnik yeo-group  1.2G Dec 28 12:13 N2_01_R1.fastq.gz.polyATrim.adapterTrim.rmRep.sorted.rg.bam\r\n",
      "-rw-r--r-- 1 obotvinnik yeo-group  1.9G Dec 28 12:13 N2_02_R1.fastq.gz.polyATrim.adapterTrim.rmRep.sorted.rg.bam\r\n",
      "-rw-r--r-- 1 obotvinnik yeo-group  1.6G Dec 28 12:13 N2_03_R1.fastq.gz.polyATrim.adapterTrim.rmRep.sorted.rg.bam\r\n",
      "-rw-r--r-- 1 obotvinnik yeo-group  1.6G Dec 28 12:13 N2_04_R1.fastq.gz.polyATrim.adapterTrim.rmRep.sorted.rg.bam\r\n",
      "-rw-r--r-- 1 obotvinnik yeo-group  1.3G Dec 28 12:13 N2_05_R1.fastq.gz.polyATrim.adapterTrim.rmRep.sorted.rg.bam\r\n",
      "-rw-r--r-- 1 obotvinnik yeo-group  1.6G Dec 28 12:13 N2_06_R1.fastq.gz.polyATrim.adapterTrim.rmRep.sorted.rg.bam\r\n",
      "-rw-r--r-- 1 obotvinnik yeo-group  1.5G Dec 28 12:13 N2_07_R1.fastq.gz.polyATrim.adapterTrim.rmRep.sorted.rg.bam\r\n",
      "-rw-r--r-- 1 obotvinnik yeo-group  1.7G Dec 28 12:13 N2_08_R1.fastq.gz.polyATrim.adapterTrim.rmRep.sorted.rg.bam\r\n",
      "-rw-r--r-- 1 obotvinnik yeo-group  1.1G Dec 28 12:13 N2_09_R1.fastq.gz.polyATrim.adapterTrim.rmRep.sorted.rg.bam\r\n",
      "-rw-r--r-- 1 obotvinnik yeo-group  1.4G Dec 28 12:13 N2_10_R1.fastq.gz.polyATrim.adapterTrim.rmRep.sorted.rg.bam\r\n",
      "-rw-r--r-- 1 obotvinnik yeo-group  1.7G Dec 28 12:13 N2_11_R1.fastq.gz.polyATrim.adapterTrim.rmRep.sorted.rg.bam\r\n",
      "-rw-r--r-- 1 obotvinnik yeo-group  1.1G Dec 28 12:13 N2_12_R1.fastq.gz.polyATrim.adapterTrim.rmRep.sorted.rg.bam\r\n",
      "-rw-r--r-- 1 obotvinnik yeo-group  1.7G Dec 28 12:13 N3_01_R1.fastq.gz.polyATrim.adapterTrim.rmRep.sorted.rg.bam\r\n",
      "-rw-r--r-- 1 obotvinnik yeo-group  2.0G Dec 28 12:13 N3_02_R1.fastq.gz.polyATrim.adapterTrim.rmRep.sorted.rg.bam\r\n",
      "-rw-r--r-- 1 obotvinnik yeo-group  1.4G Dec 28 12:13 N3_03_R1.fastq.gz.polyATrim.adapterTrim.rmRep.sorted.rg.bam\r\n",
      "-rw-r--r-- 1 obotvinnik yeo-group  1.3G Dec 28 12:13 N3_04_R1.fastq.gz.polyATrim.adapterTrim.rmRep.sorted.rg.bam\r\n",
      "-rw-r--r-- 1 obotvinnik yeo-group  1.1G Dec 28 12:13 N3_05_R1.fastq.gz.polyATrim.adapterTrim.rmRep.sorted.rg.bam\r\n",
      "-rw-r--r-- 1 obotvinnik yeo-group  1.5G Dec 28 12:13 N3_06_R1.fastq.gz.polyATrim.adapterTrim.rmRep.sorted.rg.bam\r\n",
      "-rw-r--r-- 1 obotvinnik yeo-group  1.1G Dec 28 12:13 N3_07_R1.fastq.gz.polyATrim.adapterTrim.rmRep.sorted.rg.bam\r\n",
      "-rw-r--r-- 1 obotvinnik yeo-group  123K Dec 28 12:13 N3_08_R1.fastq.gz.polyATrim.adapterTrim.rmRep.sorted.rg.bam\r\n",
      "-rw-r--r-- 1 obotvinnik yeo-group  1.4G Dec 28 12:13 N3_09_R1.fastq.gz.polyATrim.adapterTrim.rmRep.sorted.rg.bam\r\n",
      "-rw-r--r-- 1 obotvinnik yeo-group 1007M Dec 28 12:13 N3_10_R1.fastq.gz.polyATrim.adapterTrim.rmRep.sorted.rg.bam\r\n",
      "-rw-r--r-- 1 obotvinnik yeo-group  1.3G Dec 28 12:13 N3_11_R1.fastq.gz.polyATrim.adapterTrim.rmRep.sorted.rg.bam\r\n",
      "-rw-r--r-- 1 obotvinnik yeo-group  1.5G Dec 28 12:13 N3_12_R1.fastq.gz.polyATrim.adapterTrim.rmRep.sorted.rg.bam\r\n",
      "-rw-r--r-- 1 obotvinnik yeo-group  8.0G Dec 28 12:13 N4_01_R1.fastq.gz.polyATrim.adapterTrim.rmRep.sorted.rg.bam\r\n",
      "-rw-r--r-- 1 obotvinnik yeo-group  3.1G Dec 28 12:13 N4_02_R1.fastq.gz.polyATrim.adapterTrim.rmRep.sorted.rg.bam\r\n",
      "-rw-r--r-- 1 obotvinnik yeo-group  4.2G Dec 28 12:13 N4_03_R1.fastq.gz.polyATrim.adapterTrim.rmRep.sorted.rg.bam\r\n",
      "-rw-r--r-- 1 obotvinnik yeo-group  1.4G Dec 28 12:13 N4_04_R1.fastq.gz.polyATrim.adapterTrim.rmRep.sorted.rg.bam\r\n",
      "-rw-r--r-- 1 obotvinnik yeo-group  1.3G Dec 28 12:13 N4_05_R1.fastq.gz.polyATrim.adapterTrim.rmRep.sorted.rg.bam\r\n",
      "-rw-r--r-- 1 obotvinnik yeo-group  1.2G Dec 28 12:13 N4_06_R1.fastq.gz.polyATrim.adapterTrim.rmRep.sorted.rg.bam\r\n",
      "-rw-r--r-- 1 obotvinnik yeo-group  4.9G Dec 28 12:13 N4_07_R1.fastq.gz.polyATrim.adapterTrim.rmRep.sorted.rg.bam\r\n",
      "-rw-r--r-- 1 obotvinnik yeo-group  8.8G Dec 28 12:13 N4_08_R1.fastq.gz.polyATrim.adapterTrim.rmRep.sorted.rg.bam\r\n",
      "-rw-r--r-- 1 obotvinnik yeo-group  680M Dec 28 12:13 N4_09_R1.fastq.gz.polyATrim.adapterTrim.rmRep.sorted.rg.bam\r\n",
      "-rw-r--r-- 1 obotvinnik yeo-group  1.2G Dec 28 12:13 N4_10_R1.fastq.gz.polyATrim.adapterTrim.rmRep.sorted.rg.bam\r\n",
      "-rw-r--r-- 1 obotvinnik yeo-group  5.8G Dec 28 12:13 N4_11_R1.fastq.gz.polyATrim.adapterTrim.rmRep.sorted.rg.bam\r\n",
      "-rw-r--r-- 1 obotvinnik yeo-group  5.6G Dec 28 12:13 N4_12_R1.fastq.gz.polyATrim.adapterTrim.rmRep.sorted.rg.bam\r\n",
      "-rw-r--r-- 1 obotvinnik yeo-group  7.7G Dec 28 12:13 N4_13_R1.fastq.gz.polyATrim.adapterTrim.rmRep.sorted.rg.bam\r\n",
      "-rw-r--r-- 1 obotvinnik yeo-group  6.2G Dec 28 12:13 N4_14_R1.fastq.gz.polyATrim.adapterTrim.rmRep.sorted.rg.bam\r\n",
      "-rw-r--r-- 1 obotvinnik yeo-group  2.0G Dec 28 12:13 N5_01_R1.fastq.gz.polyATrim.adapterTrim.rmRep.sorted.rg.bam\r\n",
      "-rw-r--r-- 1 obotvinnik yeo-group  3.7G Dec 28 12:13 N5_02_R1.fastq.gz.polyATrim.adapterTrim.rmRep.sorted.rg.bam\r\n",
      "-rw-r--r-- 1 obotvinnik yeo-group  2.7G Dec 28 12:13 N5_03_R1.fastq.gz.polyATrim.adapterTrim.rmRep.sorted.rg.bam\r\n",
      "-rw-r--r-- 1 obotvinnik yeo-group  3.3G Dec 28 12:13 N5_04_R1.fastq.gz.polyATrim.adapterTrim.rmRep.sorted.rg.bam\r\n",
      "-rw-r--r-- 1 obotvinnik yeo-group  2.7G Dec 28 12:13 N5_05_R1.fastq.gz.polyATrim.adapterTrim.rmRep.sorted.rg.bam\r\n",
      "-rw-r--r-- 1 obotvinnik yeo-group  1.9G Dec 28 12:13 N5_06_R1.fastq.gz.polyATrim.adapterTrim.rmRep.sorted.rg.bam\r\n",
      "-rw-r--r-- 1 obotvinnik yeo-group  1.7G Dec 28 12:13 N5_07_R1.fastq.gz.polyATrim.adapterTrim.rmRep.sorted.rg.bam\r\n",
      "-rw-r--r-- 1 obotvinnik yeo-group  1.9G Dec 28 12:13 N5_08_R1.fastq.gz.polyATrim.adapterTrim.rmRep.sorted.rg.bam\r\n",
      "-rw-r--r-- 1 obotvinnik yeo-group  3.1G Dec 28 12:13 N5_09_R1.fastq.gz.polyATrim.adapterTrim.rmRep.sorted.rg.bam\r\n",
      "-rw-r--r-- 1 obotvinnik yeo-group  1.8G Dec 28 12:13 N5_10_R1.fastq.gz.polyATrim.adapterTrim.rmRep.sorted.rg.bam\r\n",
      "-rw-r--r-- 1 obotvinnik yeo-group  2.4G Dec 28 12:13 N5_11_R1.fastq.gz.polyATrim.adapterTrim.rmRep.sorted.rg.bam\r\n",
      "-rw-r--r-- 1 obotvinnik yeo-group  2.2G Dec 28 12:13 N5_12_R1.fastq.gz.polyATrim.adapterTrim.rmRep.sorted.rg.bam\r\n",
      "-rw-r--r-- 1 obotvinnik yeo-group  4.8G Dec 28 12:13 N5_13_R1.fastq.gz.polyATrim.adapterTrim.rmRep.sorted.rg.bam\r\n",
      "-rw-r--r-- 1 obotvinnik yeo-group  2.9G Dec 28 12:13 N5_14_R1.fastq.gz.polyATrim.adapterTrim.rmRep.sorted.rg.bam\r\n",
      "-rw-r--r-- 1 obotvinnik yeo-group  1.5G Dec 28 12:13 P1_01_R1.fastq.gz.polyATrim.adapterTrim.rmRep.sorted.rg.bam\r\n",
      "-rw-r--r-- 1 obotvinnik yeo-group  1.7G Dec 28 12:13 P1_02_R1.fastq.gz.polyATrim.adapterTrim.rmRep.sorted.rg.bam\r\n",
      "-rw-r--r-- 1 obotvinnik yeo-group  1.5G Dec 28 12:13 P1_03_R1.fastq.gz.polyATrim.adapterTrim.rmRep.sorted.rg.bam\r\n",
      "-rw-r--r-- 1 obotvinnik yeo-group  1.4G Dec 28 12:13 P1_04_R1.fastq.gz.polyATrim.adapterTrim.rmRep.sorted.rg.bam\r\n",
      "-rw-r--r-- 1 obotvinnik yeo-group  1.2G Dec 28 12:13 P1_05_R1.fastq.gz.polyATrim.adapterTrim.rmRep.sorted.rg.bam\r\n",
      "-rw-r--r-- 1 obotvinnik yeo-group  1.7G Dec 28 12:13 P1_06_R1.fastq.gz.polyATrim.adapterTrim.rmRep.sorted.rg.bam\r\n",
      "-rw-r--r-- 1 obotvinnik yeo-group  1.4G Dec 28 12:13 P1_07_R1.fastq.gz.polyATrim.adapterTrim.rmRep.sorted.rg.bam\r\n",
      "-rw-r--r-- 1 obotvinnik yeo-group  582M Dec 28 12:13 P1_08_R1.fastq.gz.polyATrim.adapterTrim.rmRep.sorted.rg.bam\r\n",
      "-rw-r--r-- 1 obotvinnik yeo-group  1.2G Dec 28 12:13 P1_09_R1.fastq.gz.polyATrim.adapterTrim.rmRep.sorted.rg.bam\r\n",
      "-rw-r--r-- 1 obotvinnik yeo-group  1.7G Dec 28 12:13 P1_10_R1.fastq.gz.polyATrim.adapterTrim.rmRep.sorted.rg.bam\r\n",
      "-rw-r--r-- 1 obotvinnik yeo-group  1.7G Dec 28 12:13 P1_11_R1.fastq.gz.polyATrim.adapterTrim.rmRep.sorted.rg.bam\r\n",
      "-rw-r--r-- 1 obotvinnik yeo-group 1015M Dec 28 12:13 P1_12_R1.fastq.gz.polyATrim.adapterTrim.rmRep.sorted.rg.bam\r\n",
      "-rw-r--r-- 1 obotvinnik yeo-group  1.2G Dec 28 12:13 P2_01_R1.fastq.gz.polyATrim.adapterTrim.rmRep.sorted.rg.bam\r\n",
      "-rw-r--r-- 1 obotvinnik yeo-group  1.3G Dec 28 12:13 P2_02_R1.fastq.gz.polyATrim.adapterTrim.rmRep.sorted.rg.bam\r\n",
      "-rw-r--r-- 1 obotvinnik yeo-group  1.2G Dec 28 12:13 P2_03_R1.fastq.gz.polyATrim.adapterTrim.rmRep.sorted.rg.bam\r\n",
      "-rw-r--r-- 1 obotvinnik yeo-group  1.7G Dec 28 12:13 P2_04_R1.fastq.gz.polyATrim.adapterTrim.rmRep.sorted.rg.bam\r\n",
      "-rw-r--r-- 1 obotvinnik yeo-group  993M Dec 28 12:13 P2_05_R1.fastq.gz.polyATrim.adapterTrim.rmRep.sorted.rg.bam\r\n",
      "-rw-r--r-- 1 obotvinnik yeo-group  808M Dec 28 12:13 P2_06_R1.fastq.gz.polyATrim.adapterTrim.rmRep.sorted.rg.bam\r\n",
      "-rw-r--r-- 1 obotvinnik yeo-group  1.2G Dec 28 12:13 P2_07_R1.fastq.gz.polyATrim.adapterTrim.rmRep.sorted.rg.bam\r\n",
      "-rw-r--r-- 1 obotvinnik yeo-group  803M Dec 28 12:13 P2_08_R1.fastq.gz.polyATrim.adapterTrim.rmRep.sorted.rg.bam\r\n",
      "-rw-r--r-- 1 obotvinnik yeo-group  1.1G Dec 28 12:13 P2_09_R1.fastq.gz.polyATrim.adapterTrim.rmRep.sorted.rg.bam\r\n",
      "-rw-r--r-- 1 obotvinnik yeo-group  2.2G Dec 28 12:13 P2_10_R1.fastq.gz.polyATrim.adapterTrim.rmRep.sorted.rg.bam\r\n",
      "-rw-r--r-- 1 obotvinnik yeo-group  1.2G Dec 28 12:13 P2_11_R1.fastq.gz.polyATrim.adapterTrim.rmRep.sorted.rg.bam\r\n",
      "-rw-r--r-- 1 obotvinnik yeo-group  1.3G Dec 28 12:13 P2_12_R1.fastq.gz.polyATrim.adapterTrim.rmRep.sorted.rg.bam\r\n",
      "-rw-r--r-- 1 obotvinnik yeo-group  1.7G Dec 28 12:13 P2_13_R1.fastq.gz.polyATrim.adapterTrim.rmRep.sorted.rg.bam\r\n",
      "-rw-r--r-- 1 obotvinnik yeo-group  1.5G Dec 28 12:13 P2_14_R1.fastq.gz.polyATrim.adapterTrim.rmRep.sorted.rg.bam\r\n",
      "-rw-r--r-- 1 obotvinnik yeo-group  3.2G Dec 28 12:13 P3_01_R1.fastq.gz.polyATrim.adapterTrim.rmRep.sorted.rg.bam\r\n",
      "-rw-r--r-- 1 obotvinnik yeo-group  3.1G Dec 28 12:13 P3_02_R1.fastq.gz.polyATrim.adapterTrim.rmRep.sorted.rg.bam\r\n",
      "-rw-r--r-- 1 obotvinnik yeo-group  4.0G Dec 28 12:13 P3_03_R1.fastq.gz.polyATrim.adapterTrim.rmRep.sorted.rg.bam\r\n",
      "-rw-r--r-- 1 obotvinnik yeo-group  1.2G Dec 28 12:13 P4_01_R1.fastq.gz.polyATrim.adapterTrim.rmRep.sorted.rg.bam\r\n",
      "-rw-r--r-- 1 obotvinnik yeo-group  969M Dec 28 12:13 P4_06_R1.fastq.gz.polyATrim.adapterTrim.rmRep.sorted.rg.bam\r\n",
      "-rw-r--r-- 1 obotvinnik yeo-group  981M Dec 28 12:13 P4_07_R1.fastq.gz.polyATrim.adapterTrim.rmRep.sorted.rg.bam\r\n",
      "-rw-r--r-- 1 obotvinnik yeo-group  823M Dec 28 12:13 P4_08_R1.fastq.gz.polyATrim.adapterTrim.rmRep.sorted.rg.bam\r\n",
      "-rw-r--r-- 1 obotvinnik yeo-group  1.1G Dec 28 12:13 P4_09_R1.fastq.gz.polyATrim.adapterTrim.rmRep.sorted.rg.bam\r\n",
      "-rw-r--r-- 1 obotvinnik yeo-group  2.1G Dec 28 12:13 P4_10_R1.fastq.gz.polyATrim.adapterTrim.rmRep.sorted.rg.bam\r\n",
      "-rw-r--r-- 1 obotvinnik yeo-group  1.2G Dec 28 12:13 P4_11_R1.fastq.gz.polyATrim.adapterTrim.rmRep.sorted.rg.bam\r\n",
      "-rw-r--r-- 1 obotvinnik yeo-group  960M Dec 28 12:13 P4_12_R1.fastq.gz.polyATrim.adapterTrim.rmRep.sorted.rg.bam\r\n",
      "-rw-r--r-- 1 obotvinnik yeo-group  3.8G Dec 28 12:13 P6_01_R1.fastq.gz.polyATrim.adapterTrim.rmRep.sorted.rg.bam\r\n",
      "-rw-r--r-- 1 obotvinnik yeo-group  2.8G Dec 28 12:13 P6_02_R1.fastq.gz.polyATrim.adapterTrim.rmRep.sorted.rg.bam\r\n",
      "-rw-r--r-- 1 obotvinnik yeo-group  3.7G Dec 28 12:13 P6_03_R1.fastq.gz.polyATrim.adapterTrim.rmRep.sorted.rg.bam\r\n",
      "-rw-r--r-- 1 obotvinnik yeo-group  2.8G Dec 28 12:13 P6_04_R1.fastq.gz.polyATrim.adapterTrim.rmRep.sorted.rg.bam\r\n",
      "-rw-r--r-- 1 obotvinnik yeo-group  1.3G Dec 28 12:13 P7_01_R1.fastq.gz.polyATrim.adapterTrim.rmRep.sorted.rg.bam\r\n",
      "-rw-r--r-- 1 obotvinnik yeo-group  1.3G Dec 28 12:13 P7_02_R1.fastq.gz.polyATrim.adapterTrim.rmRep.sorted.rg.bam\r\n",
      "-rw-r--r-- 1 obotvinnik yeo-group  1.4G Dec 28 12:13 P7_03_R1.fastq.gz.polyATrim.adapterTrim.rmRep.sorted.rg.bam\r\n",
      "-rw-r--r-- 1 obotvinnik yeo-group  766M Dec 28 12:13 P7_04_R1.fastq.gz.polyATrim.adapterTrim.rmRep.sorted.rg.bam\r\n",
      "-rw-r--r-- 1 obotvinnik yeo-group  1.6G Dec 28 12:13 P7_05_R1.fastq.gz.polyATrim.adapterTrim.rmRep.sorted.rg.bam\r\n",
      "-rw-r--r-- 1 obotvinnik yeo-group  1.8G Dec 28 12:13 P7_06_R1.fastq.gz.polyATrim.adapterTrim.rmRep.sorted.rg.bam\r\n",
      "-rw-r--r-- 1 obotvinnik yeo-group  1.5G Dec 28 12:13 P7_07_R1.fastq.gz.polyATrim.adapterTrim.rmRep.sorted.rg.bam\r\n",
      "-rw-r--r-- 1 obotvinnik yeo-group  1.4G Dec 28 12:13 P7_08_R1.fastq.gz.polyATrim.adapterTrim.rmRep.sorted.rg.bam\r\n",
      "-rw-r--r-- 1 obotvinnik yeo-group  2.2G Dec 28 12:13 P7_09_R1.fastq.gz.polyATrim.adapterTrim.rmRep.sorted.rg.bam\r\n",
      "-rw-r--r-- 1 obotvinnik yeo-group  1.4G Dec 28 12:13 P7_10_R1.fastq.gz.polyATrim.adapterTrim.rmRep.sorted.rg.bam\r\n",
      "-rw-r--r-- 1 obotvinnik yeo-group  1.7G Dec 28 12:13 P7_11_R1.fastq.gz.polyATrim.adapterTrim.rmRep.sorted.rg.bam\r\n",
      "-rw-r--r-- 1 obotvinnik yeo-group  1.6G Dec 28 12:13 P7_12_R1.fastq.gz.polyATrim.adapterTrim.rmRep.sorted.rg.bam\r\n",
      "-rw-r--r-- 1 obotvinnik yeo-group  1.5G Dec 28 12:13 P8_01_R1.fastq.gz.polyATrim.adapterTrim.rmRep.sorted.rg.bam\r\n",
      "-rw-r--r-- 1 obotvinnik yeo-group  2.3G Dec 28 12:13 P8_02_R1.fastq.gz.polyATrim.adapterTrim.rmRep.sorted.rg.bam\r\n",
      "-rw-r--r-- 1 obotvinnik yeo-group  2.6G Dec 28 12:13 P8_05_R1.fastq.gz.polyATrim.adapterTrim.rmRep.sorted.rg.bam\r\n",
      "-rw-r--r-- 1 obotvinnik yeo-group  2.6G Dec 28 12:13 P8_06_R1.fastq.gz.polyATrim.adapterTrim.rmRep.sorted.rg.bam\r\n",
      "-rw-r--r-- 1 obotvinnik yeo-group  5.7K Dec 28 12:13 P8_07_R1.fastq.gz.polyATrim.adapterTrim.rmRep.sorted.rg.bam\r\n",
      "-rw-r--r-- 1 obotvinnik yeo-group  3.0K Dec 28 12:13 P8_09_R1.fastq.gz.polyATrim.adapterTrim.rmRep.sorted.rg.bam\r\n",
      "-rw-r--r-- 1 obotvinnik yeo-group  2.7G Dec 28 12:13 P8_10_R1.fastq.gz.polyATrim.adapterTrim.rmRep.sorted.rg.bam\r\n",
      "-rw-r--r-- 1 obotvinnik yeo-group  2.5G Dec 28 12:13 P8_11_R1.fastq.gz.polyATrim.adapterTrim.rmRep.sorted.rg.bam\r\n",
      "-rw-r--r-- 1 obotvinnik yeo-group  5.5K Dec 28 12:13 P8_12_R1.fastq.gz.polyATrim.adapterTrim.rmRep.sorted.rg.bam\r\n",
      "-rw-r--r-- 1 obotvinnik yeo-group  6.0G Dec 28 12:13 P9_01_R1.fastq.gz.polyATrim.adapterTrim.rmRep.sorted.bam\r\n",
      "-rw-r--r-- 1 obotvinnik yeo-group  4.5G Dec 28 12:13 P9_02_R1.fastq.gz.polyATrim.adapterTrim.rmRep.sorted.bam\r\n",
      "-rw-r--r-- 1 obotvinnik yeo-group  4.4G Dec 28 12:13 P9_03_R1.fastq.gz.polyATrim.adapterTrim.rmRep.sorted.rg.bam\r\n",
      "-rw-r--r-- 1 obotvinnik yeo-group  6.3G Dec 28 12:13 P9_04_R1.fastq.gz.polyATrim.adapterTrim.rmRep.sorted.bam\r\n"
     ]
    }
   ],
   "source": [
    "ls -lha *bam"
   ]
  },
  {
   "cell_type": "code",
   "execution_count": 3,
   "metadata": {
    "collapsed": false
   },
   "outputs": [
    {
     "name": "stdout",
     "output_type": "stream",
     "text": [
      "Usage: samtools index <in.bam> [out.index]\r\n"
     ]
    }
   ],
   "source": [
    "! samtools index"
   ]
  },
  {
   "cell_type": "code",
   "execution_count": 4,
   "metadata": {
    "collapsed": true
   },
   "outputs": [],
   "source": [
    "import glob\n",
    "import os\n",
    "import qtools"
   ]
  },
  {
   "cell_type": "code",
   "execution_count": 5,
   "metadata": {
    "collapsed": false
   },
   "outputs": [
    {
     "data": {
      "text/plain": [
       "u'/oasis/tscc/scratch/obotvinnik/projects/singlecell_pnms/analysis/bams_from_aws/rmdup'"
      ]
     },
     "execution_count": 5,
     "metadata": {},
     "output_type": "execute_result"
    }
   ],
   "source": [
    "pwd"
   ]
  },
  {
   "cell_type": "code",
   "execution_count": 6,
   "metadata": {
    "collapsed": false
   },
   "outputs": [],
   "source": [
    "bams = glob.glob('*bam')\n",
    "\n",
    "folder = '/oasis/tscc/scratch/obotvinnik/projects/singlecell_pnms/analysis/bams_from_aws/rmdup'\n",
    "\n",
    "template = 'samtools index {folder}/{bam}'\n",
    "\n",
    "commands = []\n",
    "for bam in bams:\n",
    "    command = template.format(folder=folder, bam=bam)\n",
    "    commands.append(command)"
   ]
  },
  {
   "cell_type": "code",
   "execution_count": 7,
   "metadata": {
    "collapsed": true
   },
   "outputs": [],
   "source": [
    "project = 'singlecell_pnms'"
   ]
  },
  {
   "cell_type": "code",
   "execution_count": 8,
   "metadata": {
    "collapsed": false
   },
   "outputs": [
    {
     "name": "stdout",
     "output_type": "stream",
     "text": [
      "/home/obotvinnik/processing_scripts/singlecell_pnms\n"
     ]
    }
   ],
   "source": [
    "cd ~/projects/$project/scripts"
   ]
  },
  {
   "cell_type": "code",
   "execution_count": 9,
   "metadata": {
    "collapsed": false
   },
   "outputs": [
    {
     "name": "stderr",
     "output_type": "stream",
     "text": [
      "Wrote commands to singlecell_pnms_samtools_index.sh.\n",
      "Submitted script to queue home.\n",
      " Job ID: 7341860\n"
     ]
    },
    {
     "data": {
      "text/plain": [
       "<qtools.submitter.Submitter at 0x2b40e832de90>"
      ]
     },
     "execution_count": 9,
     "metadata": {},
     "output_type": "execute_result"
    }
   ],
   "source": [
    "jobname = '{project}_samtools_index'.format(project=project)\n",
    "\n",
    "qtools.Submitter(commands, jobname, array=False, walltime='4:00:00')"
   ]
  },
  {
   "cell_type": "code",
   "execution_count": 12,
   "metadata": {
    "collapsed": false,
    "scrolled": false
   },
   "outputs": [
    {
     "name": "stdout",
     "output_type": "stream",
     "text": [
      "==> singlecell_pnms_samtools_index.sh <==\r\n",
      "samtools index /oasis/tscc/scratch/obotvinnik/projects/singlecell_pnms/analysis/bams_from_aws/rmdup/CVN_15_R1.fastq.gz.polyATrim.adapterTrim.rmRep.sorted.rg.bam\r\n",
      "samtools index /oasis/tscc/scratch/obotvinnik/projects/singlecell_pnms/analysis/bams_from_aws/rmdup/M6_05_R1.fastq.gz.polyATrim.adapterTrim.rmRep.sorted.bam\r\n",
      "samtools index /oasis/tscc/scratch/obotvinnik/projects/singlecell_pnms/analysis/bams_from_aws/rmdup/P1_08_R1.fastq.gz.polyATrim.adapterTrim.rmRep.sorted.rg.bam\r\n",
      "samtools index /oasis/tscc/scratch/obotvinnik/projects/singlecell_pnms/analysis/bams_from_aws/rmdup/M1_10_R1.fastq.gz.polyATrim.adapterTrim.rmRep.sorted.rg.bam\r\n",
      "samtools index /oasis/tscc/scratch/obotvinnik/projects/singlecell_pnms/analysis/bams_from_aws/rmdup/M3_12_R1.fastq.gz.polyATrim.adapterTrim.rmRep.sorted.rg.bam\r\n",
      "samtools index /oasis/tscc/scratch/obotvinnik/projects/singlecell_pnms/analysis/bams_from_aws/rmdup/P8_11_R1.fastq.gz.polyATrim.adapterTrim.rmRep.sorted.rg.bam\r\n",
      "samtools index /oasis/tscc/scratch/obotvinnik/projects/singlecell_pnms/analysis/bams_from_aws/rmdup/M6_04_R1.fastq.gz.polyATrim.adapterTrim.rmRep.sorted.bam\r\n",
      "samtools index /oasis/tscc/scratch/obotvinnik/projects/singlecell_pnms/analysis/bams_from_aws/rmdup/M2nd_27_R1.fastq.gz.polyATrim.adapterTrim.rmRep.sorted.rg.bam\r\n",
      "samtools index /oasis/tscc/scratch/obotvinnik/projects/singlecell_pnms/analysis/bams_from_aws/rmdup/MSA_09_R1.fastq.gz.polyATrim.adapterTrim.rmRep.sorted.rg.bam\r\n",
      "\r\n",
      "\r\n",
      "==> singlecell_pnms_samtools_index.sh.err <==\r\n",
      "[bam_header_read] EOF marker is absent. The input is probably truncated.\r\n",
      "[bam_rmdup] fail to read/write input files\r\n",
      "[bam_rmdup] fail to read/write input files\r\n",
      "[bam_rmdup] fail to read/write input files\r\n",
      "[bam_rmdup] fail to read/write input files\r\n",
      "[bam_rmdup] fail to read/write input files\r\n",
      "[bam_header_read] EOF marker is absent. The input is probably truncated.\r\n",
      "[bam_rmdup] fail to read/write input files\r\n",
      "[bam_rmdup] fail to read/write input files\r\n",
      "[bam_rmdup] fail to read/write input files\r\n",
      "\r\n",
      "==> singlecell_pnms_samtools_index.sh.out <==\r\n",
      "Nodes:        tscc-2-50\r\n"
     ]
    }
   ],
   "source": [
    "! tail $jobname*"
   ]
  },
  {
   "cell_type": "code",
   "execution_count": null,
   "metadata": {
    "collapsed": true
   },
   "outputs": [],
   "source": []
  }
 ],
 "metadata": {
  "kernelspec": {
   "display_name": "Python 2",
   "language": "python",
   "name": "python2"
  },
  "language_info": {
   "codemirror_mode": {
    "name": "ipython",
    "version": 2
   },
   "file_extension": ".py",
   "mimetype": "text/x-python",
   "name": "python",
   "nbconvert_exporter": "python",
   "pygments_lexer": "ipython2",
   "version": "2.7.11"
  }
 },
 "nbformat": 4,
 "nbformat_minor": 0
}
