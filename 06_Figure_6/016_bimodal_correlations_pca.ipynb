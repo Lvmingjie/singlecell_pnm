{
 "cells": [
  {
   "cell_type": "code",
   "execution_count": 1,
   "metadata": {
    "collapsed": false
   },
   "outputs": [
    {
     "name": "stderr",
     "output_type": "stream",
     "text": [
      "/home/obotvinnik/anaconda/lib/python2.7/site-packages/sklearn/cross_validation.py:44: DeprecationWarning: This module was deprecated in version 0.18 in favor of the model_selection module into which all the refactored classes and functions are moved. Also note that the interface of the new CV iterators are different from that of this module. This module will be removed in 0.20.\n",
      "  \"This module will be removed in 0.20.\", DeprecationWarning)\n",
      "/home/obotvinnik/workspace-git/flotilla/flotilla/__init__.py:65: DtypeWarning: Columns (19) have mixed types. Specify dtype option on import or set low_memory=False.\n",
      "  load_species_data=load_species_data)\n"
     ]
    },
    {
     "name": "stdout",
     "output_type": "stream",
     "text": [
      "2017-01-12 09:55:42\tReading datapackage from /projects/ps-yeolab/obotvinnik/flotilla_projects/singlecell_pnm_figure6_splicing_correlation_track_examples/datapackage.json\n",
      "2017-01-12 09:55:42\tParsing datapackage to create a Study object\n",
      "https://s3-us-west-2.amazonaws.com/flotilla-projects/ercc/ERCC_Controls.txt has not been downloaded before.\n",
      "\tDownloading now to /home/obotvinnik/flotilla_projects/hg19/ERCC_Controls.txt\n",
      "2017-01-12 09:56:28 \tInitializing Study\n",
      "2017-01-12 09:56:28 \tInitializing Predictor configuration manager for Study\n",
      "2017-01-12 09:56:28\tPredictor ExtraTreesClassifier is of type <class 'sklearn.ensemble.forest.ExtraTreesClassifier'>\n",
      "2017-01-12 09:56:28\tAdded ExtraTreesClassifier to default predictors\n",
      "2017-01-12 09:56:28\tPredictor ExtraTreesRegressor is of type <class 'sklearn.ensemble.forest.ExtraTreesRegressor'>\n",
      "2017-01-12 09:56:28\tAdded ExtraTreesRegressor to default predictors\n",
      "2017-01-12 09:56:28\tPredictor GradientBoostingClassifier is of type <class 'sklearn.ensemble.gradient_boosting.GradientBoostingClassifier'>\n",
      "2017-01-12 09:56:28\tAdded GradientBoostingClassifier to default predictors\n",
      "2017-01-12 09:56:28\tPredictor GradientBoostingRegressor is of type <class 'sklearn.ensemble.gradient_boosting.GradientBoostingRegressor'>\n",
      "2017-01-12 09:56:28\tAdded GradientBoostingRegressor to default predictors\n",
      "2017-01-12 09:56:36 \tBuilding Gene Ontology database...\n",
      "2017-01-12 09:56:52 \t\tDone\n",
      "2017-01-12 09:56:53 \tLoading metadata\n",
      "2017-01-12 09:56:53\tLoading expression data\n",
      "2017-01-12 09:56:53\tInitializing expression\n",
      "2017-01-12 09:56:54\tDone initializing expression\n",
      "2017-01-12 09:56:58\tLoading splicing data\n",
      "2017-01-12 09:56:58\tInitializing splicing\n",
      "2017-01-12 09:56:59\tDone initializing splicing\n",
      "2017-01-12 09:56:59\tSuccessfully initialized a Study object!\n"
     ]
    },
    {
     "name": "stderr",
     "output_type": "stream",
     "text": [
      "Error loading species hg19 data: HTTP Error 404: Not Found"
     ]
    }
   ],
   "source": [
    "from __future__ import print_function\n",
    "\n",
    "import matplotlib.pyplot as plt\n",
    "import seaborn as sns\n",
    "import numpy as np\n",
    "import pandas as pd\n",
    "\n",
    "from anchor.visualize import MODALITY_TO_COLOR, MODALITY_ORDER, MODALITY_PALETTE\n",
    "modality_order = MODALITY_ORDER\n",
    "\n",
    "sns.set(style='ticks', context='paper', rc={'font.sans-serif':'Arial', 'pdf.fonttype': 42})\n",
    "\n",
    "%matplotlib inline\n",
    "\n",
    "%load_ext autoreload\n",
    "%autoreload 2\n",
    "\n",
    "\n",
    "import flotilla\n",
    "study = flotilla.embark('singlecell_pnm_figure6_splicing_correlation_track_examples', \n",
    "                        flotilla_dir='/projects/ps-yeolab/obotvinnik/flotilla_projects/')\n",
    "# study = flotilla.embark('singlecell_pnm_figure1_supplementary_post_splicing_filtering')"
   ]
  },
  {
   "cell_type": "code",
   "execution_count": 2,
   "metadata": {
    "collapsed": true
   },
   "outputs": [],
   "source": [
    "folder = 'figures'"
   ]
  },
  {
   "cell_type": "code",
   "execution_count": 3,
   "metadata": {
    "collapsed": true
   },
   "outputs": [],
   "source": [
    "figure_folder = 'figures/016_bimodal_correlations_pca'\n",
    "! mkdir -p $figure_folder"
   ]
  },
  {
   "cell_type": "code",
   "execution_count": 4,
   "metadata": {
    "collapsed": false
   },
   "outputs": [
    {
     "name": "stdout",
     "output_type": "stream",
     "text": [
      "(3011, 8)\n"
     ]
    },
    {
     "data": {
      "text/html": [
       "<div>\n",
       "<table border=\"1\" class=\"dataframe\">\n",
       "  <thead>\n",
       "    <tr style=\"text-align: right;\">\n",
       "      <th></th>\n",
       "      <th>Splicing Gene</th>\n",
       "      <th>phenotype</th>\n",
       "      <th>Expression Gene</th>\n",
       "      <th>Pearson R</th>\n",
       "      <th>event_id</th>\n",
       "      <th>modality</th>\n",
       "      <th>gene_name</th>\n",
       "      <th>Correlation Direction</th>\n",
       "    </tr>\n",
       "  </thead>\n",
       "  <tbody>\n",
       "    <tr>\n",
       "      <th>66</th>\n",
       "      <td>BRD8-event1</td>\n",
       "      <td>NPC</td>\n",
       "      <td>ENSG00000005436</td>\n",
       "      <td>-0.538949</td>\n",
       "      <td>exon:chr5:137495758-137495862:-@exon:chr5:1374...</td>\n",
       "      <td>bimodal</td>\n",
       "      <td>GCFC2</td>\n",
       "      <td>(-) Negative</td>\n",
       "    </tr>\n",
       "    <tr>\n",
       "      <th>176</th>\n",
       "      <td>BRD8-event1</td>\n",
       "      <td>NPC</td>\n",
       "      <td>ENSG00000010310</td>\n",
       "      <td>-0.519802</td>\n",
       "      <td>exon:chr5:137495758-137495862:-@exon:chr5:1374...</td>\n",
       "      <td>bimodal</td>\n",
       "      <td>GIPR</td>\n",
       "      <td>(-) Negative</td>\n",
       "    </tr>\n",
       "    <tr>\n",
       "      <th>483</th>\n",
       "      <td>BRD8-event1</td>\n",
       "      <td>NPC</td>\n",
       "      <td>ENSG00000050438</td>\n",
       "      <td>-0.509080</td>\n",
       "      <td>exon:chr5:137495758-137495862:-@exon:chr5:1374...</td>\n",
       "      <td>bimodal</td>\n",
       "      <td>SLC4A8</td>\n",
       "      <td>(-) Negative</td>\n",
       "    </tr>\n",
       "    <tr>\n",
       "      <th>875</th>\n",
       "      <td>BRD8-event1</td>\n",
       "      <td>NPC</td>\n",
       "      <td>ENSG00000073060</td>\n",
       "      <td>-0.602362</td>\n",
       "      <td>exon:chr5:137495758-137495862:-@exon:chr5:1374...</td>\n",
       "      <td>bimodal</td>\n",
       "      <td>SCARB1</td>\n",
       "      <td>(-) Negative</td>\n",
       "    </tr>\n",
       "    <tr>\n",
       "      <th>1277</th>\n",
       "      <td>BRD8-event1</td>\n",
       "      <td>NPC</td>\n",
       "      <td>ENSG00000088682</td>\n",
       "      <td>-0.588166</td>\n",
       "      <td>exon:chr5:137495758-137495862:-@exon:chr5:1374...</td>\n",
       "      <td>bimodal</td>\n",
       "      <td>COQ9</td>\n",
       "      <td>(-) Negative</td>\n",
       "    </tr>\n",
       "  </tbody>\n",
       "</table>\n",
       "</div>"
      ],
      "text/plain": [
       "     Splicing Gene phenotype  Expression Gene  Pearson R  \\\n",
       "66     BRD8-event1       NPC  ENSG00000005436  -0.538949   \n",
       "176    BRD8-event1       NPC  ENSG00000010310  -0.519802   \n",
       "483    BRD8-event1       NPC  ENSG00000050438  -0.509080   \n",
       "875    BRD8-event1       NPC  ENSG00000073060  -0.602362   \n",
       "1277   BRD8-event1       NPC  ENSG00000088682  -0.588166   \n",
       "\n",
       "                                               event_id modality gene_name  \\\n",
       "66    exon:chr5:137495758-137495862:-@exon:chr5:1374...  bimodal     GCFC2   \n",
       "176   exon:chr5:137495758-137495862:-@exon:chr5:1374...  bimodal      GIPR   \n",
       "483   exon:chr5:137495758-137495862:-@exon:chr5:1374...  bimodal    SLC4A8   \n",
       "875   exon:chr5:137495758-137495862:-@exon:chr5:1374...  bimodal    SCARB1   \n",
       "1277  exon:chr5:137495758-137495862:-@exon:chr5:1374...  bimodal      COQ9   \n",
       "\n",
       "     Correlation Direction  \n",
       "66            (-) Negative  \n",
       "176           (-) Negative  \n",
       "483           (-) Negative  \n",
       "875           (-) Negative  \n",
       "1277          (-) Negative  "
      ]
     },
     "execution_count": 4,
     "metadata": {},
     "output_type": "execute_result"
    }
   ],
   "source": [
    "splicing_expression_corr_tidy = study.supplemental.splicing_expression_corr\n",
    "splicing_expression_corr_tidy = splicing_expression_corr_tidy.loc[splicing_expression_corr_tidy['Pearson R'].abs() > 0.5]\n",
    "splicing_expression_corr_tidy = splicing_expression_corr_tidy.join(study.expression.feature_data['gene_name'], on='Expression Gene')\n",
    "splicing_expression_corr_tidy['Correlation Direction'] = splicing_expression_corr_tidy['Pearson R'].map(\n",
    "    lambda x: '(+) Positive' if x > 0 else '(-) Negative')\n",
    "print(splicing_expression_corr_tidy.shape)\n",
    "splicing_expression_corr_tidy.head()"
   ]
  },
  {
   "cell_type": "code",
   "execution_count": 5,
   "metadata": {
    "collapsed": false
   },
   "outputs": [
    {
     "data": {
      "text/plain": [
       "[('BRD8-event1',\n",
       "  'exon:chr5:137495758-137495862:-@exon:chr5:137495244-137495288:-@exon:chr5:137492571-137492956:-'),\n",
       " ('BRD8-event2',\n",
       "  'exon:chr5:137500009-137500102:-@exon:chr5:137499776-137499822:-@exon:chr5:137498819-137499033:-'),\n",
       " ('DYNC1I2',\n",
       "  'exon:chr2:172563743-172563887:+@exon:chr2:172569277-172569336:+@exon:chr2:172571838-172571878:+'),\n",
       " ('EIF5',\n",
       "  'exon:chr14:103800339-103800597:+@exon:chr14:103800726-103800934:+@exon:chr14:103801990-103802269:+'),\n",
       " ('EIF6',\n",
       "  'exon:chr20:33871979-33872295:-@exon:chr20:33868457-33868632:-@exon:chr20:33867745-33867921:-'),\n",
       " ('MDM4',\n",
       "  'exon:chr1:204501319-204501374:+@exon:chr1:204506558-204506625:+@exon:chr1:204507337-204507436:+'),\n",
       " ('MEAF6',\n",
       "  'exon:chr1:37967405-37967597:-@exon:chr1:37962308-37962337:-@exon:chr1:37961475-37961519:-'),\n",
       " ('RPN2',\n",
       "  'exon:chr20:35864983-35865112:+@exon:chr20:35866805-35866852:+@exon:chr20:35869706-35869820:+'),\n",
       " ('SUGT1',\n",
       "  'exon:chr13:53233314-53233384:+@exon:chr13:53235610-53235705:+@exon:chr13:53236784-53236837:+'),\n",
       " ('PKM',\n",
       "  'exon:chr15:72499069-72499221:-@exon:chr15:72495363-72495529:-@exon:chr15:72494795-72494961:-@exon:chr15:72492815-72492996:-'),\n",
       " ('SNAP25',\n",
       "  'exon:chr20:10265372-10265420:+@exon:chr20:10273530-10273647:+@exon:chr20:10273809-10273926:+@exon:chr20:10277573-10277698:+'),\n",
       " ('SMARCE1',\n",
       "  'exon:chr17:38801828-38801871:-@exon:chr17:38798707-38798811:-@exon:chr17:38793744-38793824:-')]"
      ]
     },
     "execution_count": 5,
     "metadata": {},
     "output_type": "execute_result"
    }
   ],
   "source": [
    "splicing_events = (('BRD8-event1', 'exon:chr5:137495758-137495862:- exon:chr5:137495244-137495288:- exon:chr5:137492571-137492956:-'),\n",
    "                   ('BRD8-event2', 'exon:chr5:137500009-137500102:- exon:chr5:137499776-137499822:- exon:chr5:137498819-137499033:-'),\n",
    "                   (\"DYNC1I2\", 'exon:chr2:172563743-172563887:+ exon:chr2:172569277-172569336:+ exon:chr2:172571838-172571878:+'),\n",
    "                   ('EIF5', 'exon:chr14:103800339-103800597:+ exon:chr14:103800726-103800934:+ exon:chr14:103801990-103802269:+'),\n",
    "                   ('EIF6', 'exon:chr20:33871979-33872295:- exon:chr20:33868457-33868632:- exon:chr20:33867745-33867921:-'),\n",
    "                   (\"MDM4\", 'exon:chr1:204501319-204501374:+ exon:chr1:204506558-204506625:+ exon:chr1:204507337-204507436:+'),\n",
    "                   (\"MEAF6\", 'exon:chr1:37967405-37967597:- exon:chr1:37962308-37962337:- exon:chr1:37961475-37961519:-'),\n",
    "                   (\"RPN2\", 'exon:chr20:35864983-35865112:+ exon:chr20:35866805-35866852:+ exon:chr20:35869706-35869820:+'),\n",
    "                   ('SUGT1', 'exon:chr13:53233314-53233384:+ exon:chr13:53235610-53235705:+ exon:chr13:53236784-53236837:+'),\n",
    "                   ('PKM', 'exon:chr15:72499069-72499221:-@exon:chr15:72495363-72495529:-@exon:chr15:72494795-72494961:-@exon:chr15:72492815-72492996:-'),\n",
    "                   ('SNAP25', 'exon:chr20:10265372-10265420:+@exon:chr20:10273530-10273647:+@exon:chr20:10273809-10273926:+@exon:chr20:10277573-10277698:+'),\n",
    "                   ('SMARCE1', 'exon:chr17:38801828-38801871:- exon:chr17:38798707-38798811:- exon:chr17:38793744-38793824:-'))\n",
    "\n",
    "splicing_events = list(((x, '@'.join(y.split())) for x, y in splicing_events))\n",
    "splicing_events"
   ]
  },
  {
   "cell_type": "markdown",
   "metadata": {},
   "source": [
    "## Interesting genes to correlate"
   ]
  },
  {
   "cell_type": "code",
   "execution_count": 6,
   "metadata": {
    "collapsed": false
   },
   "outputs": [
    {
     "data": {
      "text/plain": [
       "CVN_01    black\n",
       "CVN_02    black\n",
       "CVN_03    black\n",
       "CVN_04    black\n",
       "CVN_05    black\n",
       "dtype: object"
      ]
     },
     "execution_count": 6,
     "metadata": {},
     "output_type": "execute_result"
    }
   ],
   "source": [
    "single_metadata = study.metadata.data.query('single == True')\n",
    "\n",
    "outlier_colors = pd.Series(['lightgrey' if x else 'black' for x in single_metadata['outlier']], \n",
    "                           index=single_metadata.index)\n",
    "outlier_colors[:5]"
   ]
  },
  {
   "cell_type": "code",
   "execution_count": 16,
   "metadata": {
    "collapsed": false
   },
   "outputs": [
    {
     "name": "stdout",
     "output_type": "stream",
     "text": [
      "(206, 18594)\n"
     ]
    },
    {
     "data": {
      "text/html": [
       "<div>\n",
       "<table border=\"1\" class=\"dataframe\">\n",
       "  <thead>\n",
       "    <tr style=\"text-align: right;\">\n",
       "      <th></th>\n",
       "      <th>ENSG00000000003</th>\n",
       "      <th>ENSG00000000005</th>\n",
       "      <th>ENSG00000000419</th>\n",
       "      <th>ENSG00000000457</th>\n",
       "      <th>ENSG00000000460</th>\n",
       "      <th>ENSG00000001036</th>\n",
       "      <th>ENSG00000001084</th>\n",
       "      <th>ENSG00000001167</th>\n",
       "      <th>ENSG00000001460</th>\n",
       "      <th>ENSG00000001461</th>\n",
       "      <th>...</th>\n",
       "      <th>ENSGR0000185960</th>\n",
       "      <th>ENSGR0000197976</th>\n",
       "      <th>ENSGR0000198223</th>\n",
       "      <th>ENSGR0000205755</th>\n",
       "      <th>ENSGR0000214717</th>\n",
       "      <th>ENSGR0000223511</th>\n",
       "      <th>ENSGR0000226179</th>\n",
       "      <th>ENSGR0000236017</th>\n",
       "      <th>ENSGR0000236871</th>\n",
       "      <th>ENSGR0000270726</th>\n",
       "    </tr>\n",
       "  </thead>\n",
       "  <tbody>\n",
       "    <tr>\n",
       "      <th>CVN_01</th>\n",
       "      <td>9.583297</td>\n",
       "      <td>0.0</td>\n",
       "      <td>3.691144</td>\n",
       "      <td>0.000000</td>\n",
       "      <td>0.000000</td>\n",
       "      <td>2.748821</td>\n",
       "      <td>0.0</td>\n",
       "      <td>1.722466</td>\n",
       "      <td>0.0</td>\n",
       "      <td>0.000000</td>\n",
       "      <td>...</td>\n",
       "      <td>0.080647</td>\n",
       "      <td>0.291587</td>\n",
       "      <td>1.017003</td>\n",
       "      <td>0.080984</td>\n",
       "      <td>6.998972</td>\n",
       "      <td>0.153573</td>\n",
       "      <td>0.119524</td>\n",
       "      <td>0.663759</td>\n",
       "      <td>0.000000</td>\n",
       "      <td>2.905205</td>\n",
       "    </tr>\n",
       "    <tr>\n",
       "      <th>CVN_02</th>\n",
       "      <td>5.338678</td>\n",
       "      <td>0.0</td>\n",
       "      <td>0.000000</td>\n",
       "      <td>0.000000</td>\n",
       "      <td>0.113387</td>\n",
       "      <td>0.000000</td>\n",
       "      <td>0.0</td>\n",
       "      <td>0.503710</td>\n",
       "      <td>0.0</td>\n",
       "      <td>1.451580</td>\n",
       "      <td>...</td>\n",
       "      <td>0.495262</td>\n",
       "      <td>0.000000</td>\n",
       "      <td>0.568696</td>\n",
       "      <td>0.000000</td>\n",
       "      <td>0.000000</td>\n",
       "      <td>0.000000</td>\n",
       "      <td>0.116144</td>\n",
       "      <td>0.000000</td>\n",
       "      <td>0.087565</td>\n",
       "      <td>3.746504</td>\n",
       "    </tr>\n",
       "    <tr>\n",
       "      <th>CVN_03</th>\n",
       "      <td>0.146438</td>\n",
       "      <td>0.0</td>\n",
       "      <td>0.000000</td>\n",
       "      <td>1.262223</td>\n",
       "      <td>0.000000</td>\n",
       "      <td>0.000000</td>\n",
       "      <td>0.0</td>\n",
       "      <td>0.291712</td>\n",
       "      <td>0.0</td>\n",
       "      <td>0.000000</td>\n",
       "      <td>...</td>\n",
       "      <td>0.000000</td>\n",
       "      <td>0.000000</td>\n",
       "      <td>0.330164</td>\n",
       "      <td>0.263555</td>\n",
       "      <td>0.000000</td>\n",
       "      <td>0.000000</td>\n",
       "      <td>0.000000</td>\n",
       "      <td>0.000000</td>\n",
       "      <td>0.000000</td>\n",
       "      <td>0.000000</td>\n",
       "    </tr>\n",
       "    <tr>\n",
       "      <th>CVN_04</th>\n",
       "      <td>8.422662</td>\n",
       "      <td>0.0</td>\n",
       "      <td>2.593897</td>\n",
       "      <td>0.000000</td>\n",
       "      <td>0.000000</td>\n",
       "      <td>6.688600</td>\n",
       "      <td>0.0</td>\n",
       "      <td>8.181010</td>\n",
       "      <td>0.0</td>\n",
       "      <td>1.155126</td>\n",
       "      <td>...</td>\n",
       "      <td>0.562974</td>\n",
       "      <td>0.000000</td>\n",
       "      <td>0.223287</td>\n",
       "      <td>0.140263</td>\n",
       "      <td>0.195424</td>\n",
       "      <td>0.000000</td>\n",
       "      <td>1.601383</td>\n",
       "      <td>0.000000</td>\n",
       "      <td>0.205765</td>\n",
       "      <td>1.533982</td>\n",
       "    </tr>\n",
       "    <tr>\n",
       "      <th>CVN_05</th>\n",
       "      <td>7.531459</td>\n",
       "      <td>0.0</td>\n",
       "      <td>5.124018</td>\n",
       "      <td>0.262705</td>\n",
       "      <td>4.346173</td>\n",
       "      <td>0.397903</td>\n",
       "      <td>0.0</td>\n",
       "      <td>6.262296</td>\n",
       "      <td>0.0</td>\n",
       "      <td>0.614197</td>\n",
       "      <td>...</td>\n",
       "      <td>0.353069</td>\n",
       "      <td>0.000000</td>\n",
       "      <td>0.646603</td>\n",
       "      <td>0.260183</td>\n",
       "      <td>6.631383</td>\n",
       "      <td>0.000000</td>\n",
       "      <td>0.096939</td>\n",
       "      <td>0.166200</td>\n",
       "      <td>0.133075</td>\n",
       "      <td>0.553417</td>\n",
       "    </tr>\n",
       "  </tbody>\n",
       "</table>\n",
       "<p>5 rows × 18594 columns</p>\n",
       "</div>"
      ],
      "text/plain": [
       "        ENSG00000000003  ENSG00000000005  ENSG00000000419  ENSG00000000457  \\\n",
       "CVN_01         9.583297              0.0         3.691144         0.000000   \n",
       "CVN_02         5.338678              0.0         0.000000         0.000000   \n",
       "CVN_03         0.146438              0.0         0.000000         1.262223   \n",
       "CVN_04         8.422662              0.0         2.593897         0.000000   \n",
       "CVN_05         7.531459              0.0         5.124018         0.262705   \n",
       "\n",
       "        ENSG00000000460  ENSG00000001036  ENSG00000001084  ENSG00000001167  \\\n",
       "CVN_01         0.000000         2.748821              0.0         1.722466   \n",
       "CVN_02         0.113387         0.000000              0.0         0.503710   \n",
       "CVN_03         0.000000         0.000000              0.0         0.291712   \n",
       "CVN_04         0.000000         6.688600              0.0         8.181010   \n",
       "CVN_05         4.346173         0.397903              0.0         6.262296   \n",
       "\n",
       "        ENSG00000001460  ENSG00000001461       ...         ENSGR0000185960  \\\n",
       "CVN_01              0.0         0.000000       ...                0.080647   \n",
       "CVN_02              0.0         1.451580       ...                0.495262   \n",
       "CVN_03              0.0         0.000000       ...                0.000000   \n",
       "CVN_04              0.0         1.155126       ...                0.562974   \n",
       "CVN_05              0.0         0.614197       ...                0.353069   \n",
       "\n",
       "        ENSGR0000197976  ENSGR0000198223  ENSGR0000205755  ENSGR0000214717  \\\n",
       "CVN_01         0.291587         1.017003         0.080984         6.998972   \n",
       "CVN_02         0.000000         0.568696         0.000000         0.000000   \n",
       "CVN_03         0.000000         0.330164         0.263555         0.000000   \n",
       "CVN_04         0.000000         0.223287         0.140263         0.195424   \n",
       "CVN_05         0.000000         0.646603         0.260183         6.631383   \n",
       "\n",
       "        ENSGR0000223511  ENSGR0000226179  ENSGR0000236017  ENSGR0000236871  \\\n",
       "CVN_01         0.153573         0.119524         0.663759         0.000000   \n",
       "CVN_02         0.000000         0.116144         0.000000         0.087565   \n",
       "CVN_03         0.000000         0.000000         0.000000         0.000000   \n",
       "CVN_04         0.000000         1.601383         0.000000         0.205765   \n",
       "CVN_05         0.000000         0.096939         0.166200         0.133075   \n",
       "\n",
       "        ENSGR0000270726  \n",
       "CVN_01         2.905205  \n",
       "CVN_02         3.746504  \n",
       "CVN_03         0.000000  \n",
       "CVN_04         1.533982  \n",
       "CVN_05         0.553417  \n",
       "\n",
       "[5 rows x 18594 columns]"
      ]
     },
     "execution_count": 16,
     "metadata": {},
     "output_type": "execute_result"
    }
   ],
   "source": [
    "single_expression = study.expression.singles\n",
    "print(single_expression.shape)\n",
    "single_expression.head()"
   ]
  },
  {
   "cell_type": "code",
   "execution_count": 8,
   "metadata": {
    "collapsed": false
   },
   "outputs": [
    {
     "data": {
      "text/plain": [
       "14314"
      ]
     },
     "execution_count": 8,
     "metadata": {},
     "output_type": "execute_result"
    }
   ],
   "source": [
    "# gene_filter = (single_expression > 1).sum() >= 30\n",
    "# gene_filter.sum()"
   ]
  },
  {
   "cell_type": "code",
   "execution_count": 9,
   "metadata": {
    "collapsed": false
   },
   "outputs": [
    {
     "name": "stdout",
     "output_type": "stream",
     "text": [
      "(206, 14314)\n"
     ]
    },
    {
     "data": {
      "text/html": [
       "<div>\n",
       "<table border=\"1\" class=\"dataframe\">\n",
       "  <thead>\n",
       "    <tr style=\"text-align: right;\">\n",
       "      <th></th>\n",
       "      <th>ENSG00000000003</th>\n",
       "      <th>ENSG00000000419</th>\n",
       "      <th>ENSG00000000457</th>\n",
       "      <th>ENSG00000000460</th>\n",
       "      <th>ENSG00000001036</th>\n",
       "      <th>ENSG00000001084</th>\n",
       "      <th>ENSG00000001167</th>\n",
       "      <th>ENSG00000001460</th>\n",
       "      <th>ENSG00000001461</th>\n",
       "      <th>ENSG00000001497</th>\n",
       "      <th>...</th>\n",
       "      <th>ENSGR0000178605</th>\n",
       "      <th>ENSGR0000182378</th>\n",
       "      <th>ENSGR0000185960</th>\n",
       "      <th>ENSGR0000197976</th>\n",
       "      <th>ENSGR0000198223</th>\n",
       "      <th>ENSGR0000214717</th>\n",
       "      <th>ENSGR0000223511</th>\n",
       "      <th>ENSGR0000226179</th>\n",
       "      <th>ENSGR0000236871</th>\n",
       "      <th>ENSGR0000270726</th>\n",
       "    </tr>\n",
       "  </thead>\n",
       "  <tbody>\n",
       "    <tr>\n",
       "      <th>CVN_01</th>\n",
       "      <td>9.583297</td>\n",
       "      <td>3.691144</td>\n",
       "      <td>0.000000</td>\n",
       "      <td>0.000000</td>\n",
       "      <td>2.748821</td>\n",
       "      <td>0.0</td>\n",
       "      <td>1.722466</td>\n",
       "      <td>0.0</td>\n",
       "      <td>0.000000</td>\n",
       "      <td>7.703080</td>\n",
       "      <td>...</td>\n",
       "      <td>3.29961</td>\n",
       "      <td>1.774580</td>\n",
       "      <td>0.080647</td>\n",
       "      <td>0.291587</td>\n",
       "      <td>1.017003</td>\n",
       "      <td>6.998972</td>\n",
       "      <td>0.153573</td>\n",
       "      <td>0.119524</td>\n",
       "      <td>0.000000</td>\n",
       "      <td>2.905205</td>\n",
       "    </tr>\n",
       "    <tr>\n",
       "      <th>CVN_02</th>\n",
       "      <td>5.338678</td>\n",
       "      <td>0.000000</td>\n",
       "      <td>0.000000</td>\n",
       "      <td>0.113387</td>\n",
       "      <td>0.000000</td>\n",
       "      <td>0.0</td>\n",
       "      <td>0.503710</td>\n",
       "      <td>0.0</td>\n",
       "      <td>1.451580</td>\n",
       "      <td>6.666089</td>\n",
       "      <td>...</td>\n",
       "      <td>0.00000</td>\n",
       "      <td>4.323377</td>\n",
       "      <td>0.495262</td>\n",
       "      <td>0.000000</td>\n",
       "      <td>0.568696</td>\n",
       "      <td>0.000000</td>\n",
       "      <td>0.000000</td>\n",
       "      <td>0.116144</td>\n",
       "      <td>0.087565</td>\n",
       "      <td>3.746504</td>\n",
       "    </tr>\n",
       "    <tr>\n",
       "      <th>CVN_03</th>\n",
       "      <td>0.146438</td>\n",
       "      <td>0.000000</td>\n",
       "      <td>1.262223</td>\n",
       "      <td>0.000000</td>\n",
       "      <td>0.000000</td>\n",
       "      <td>0.0</td>\n",
       "      <td>0.291712</td>\n",
       "      <td>0.0</td>\n",
       "      <td>0.000000</td>\n",
       "      <td>0.000000</td>\n",
       "      <td>...</td>\n",
       "      <td>0.00000</td>\n",
       "      <td>0.225987</td>\n",
       "      <td>0.000000</td>\n",
       "      <td>0.000000</td>\n",
       "      <td>0.330164</td>\n",
       "      <td>0.000000</td>\n",
       "      <td>0.000000</td>\n",
       "      <td>0.000000</td>\n",
       "      <td>0.000000</td>\n",
       "      <td>0.000000</td>\n",
       "    </tr>\n",
       "    <tr>\n",
       "      <th>CVN_04</th>\n",
       "      <td>8.422662</td>\n",
       "      <td>2.593897</td>\n",
       "      <td>0.000000</td>\n",
       "      <td>0.000000</td>\n",
       "      <td>6.688600</td>\n",
       "      <td>0.0</td>\n",
       "      <td>8.181010</td>\n",
       "      <td>0.0</td>\n",
       "      <td>1.155126</td>\n",
       "      <td>5.373481</td>\n",
       "      <td>...</td>\n",
       "      <td>0.00000</td>\n",
       "      <td>1.646223</td>\n",
       "      <td>0.562974</td>\n",
       "      <td>0.000000</td>\n",
       "      <td>0.223287</td>\n",
       "      <td>0.195424</td>\n",
       "      <td>0.000000</td>\n",
       "      <td>1.601383</td>\n",
       "      <td>0.205765</td>\n",
       "      <td>1.533982</td>\n",
       "    </tr>\n",
       "    <tr>\n",
       "      <th>CVN_05</th>\n",
       "      <td>7.531459</td>\n",
       "      <td>5.124018</td>\n",
       "      <td>0.262705</td>\n",
       "      <td>4.346173</td>\n",
       "      <td>0.397903</td>\n",
       "      <td>0.0</td>\n",
       "      <td>6.262296</td>\n",
       "      <td>0.0</td>\n",
       "      <td>0.614197</td>\n",
       "      <td>8.701198</td>\n",
       "      <td>...</td>\n",
       "      <td>0.00000</td>\n",
       "      <td>0.900241</td>\n",
       "      <td>0.353069</td>\n",
       "      <td>0.000000</td>\n",
       "      <td>0.646603</td>\n",
       "      <td>6.631383</td>\n",
       "      <td>0.000000</td>\n",
       "      <td>0.096939</td>\n",
       "      <td>0.133075</td>\n",
       "      <td>0.553417</td>\n",
       "    </tr>\n",
       "  </tbody>\n",
       "</table>\n",
       "<p>5 rows × 14314 columns</p>\n",
       "</div>"
      ],
      "text/plain": [
       "        ENSG00000000003  ENSG00000000419  ENSG00000000457  ENSG00000000460  \\\n",
       "CVN_01         9.583297         3.691144         0.000000         0.000000   \n",
       "CVN_02         5.338678         0.000000         0.000000         0.113387   \n",
       "CVN_03         0.146438         0.000000         1.262223         0.000000   \n",
       "CVN_04         8.422662         2.593897         0.000000         0.000000   \n",
       "CVN_05         7.531459         5.124018         0.262705         4.346173   \n",
       "\n",
       "        ENSG00000001036  ENSG00000001084  ENSG00000001167  ENSG00000001460  \\\n",
       "CVN_01         2.748821              0.0         1.722466              0.0   \n",
       "CVN_02         0.000000              0.0         0.503710              0.0   \n",
       "CVN_03         0.000000              0.0         0.291712              0.0   \n",
       "CVN_04         6.688600              0.0         8.181010              0.0   \n",
       "CVN_05         0.397903              0.0         6.262296              0.0   \n",
       "\n",
       "        ENSG00000001461  ENSG00000001497       ...         ENSGR0000178605  \\\n",
       "CVN_01         0.000000         7.703080       ...                 3.29961   \n",
       "CVN_02         1.451580         6.666089       ...                 0.00000   \n",
       "CVN_03         0.000000         0.000000       ...                 0.00000   \n",
       "CVN_04         1.155126         5.373481       ...                 0.00000   \n",
       "CVN_05         0.614197         8.701198       ...                 0.00000   \n",
       "\n",
       "        ENSGR0000182378  ENSGR0000185960  ENSGR0000197976  ENSGR0000198223  \\\n",
       "CVN_01         1.774580         0.080647         0.291587         1.017003   \n",
       "CVN_02         4.323377         0.495262         0.000000         0.568696   \n",
       "CVN_03         0.225987         0.000000         0.000000         0.330164   \n",
       "CVN_04         1.646223         0.562974         0.000000         0.223287   \n",
       "CVN_05         0.900241         0.353069         0.000000         0.646603   \n",
       "\n",
       "        ENSGR0000214717  ENSGR0000223511  ENSGR0000226179  ENSGR0000236871  \\\n",
       "CVN_01         6.998972         0.153573         0.119524         0.000000   \n",
       "CVN_02         0.000000         0.000000         0.116144         0.087565   \n",
       "CVN_03         0.000000         0.000000         0.000000         0.000000   \n",
       "CVN_04         0.195424         0.000000         1.601383         0.205765   \n",
       "CVN_05         6.631383         0.000000         0.096939         0.133075   \n",
       "\n",
       "        ENSGR0000270726  \n",
       "CVN_01         2.905205  \n",
       "CVN_02         3.746504  \n",
       "CVN_03         0.000000  \n",
       "CVN_04         1.533982  \n",
       "CVN_05         0.553417  \n",
       "\n",
       "[5 rows x 14314 columns]"
      ]
     },
     "execution_count": 9,
     "metadata": {},
     "output_type": "execute_result"
    }
   ],
   "source": [
    "# single_expression = single_expression.loc[:, gene_filter]\n",
    "# print(single_expression.shape)\n",
    "# single_expression.head()"
   ]
  },
  {
   "cell_type": "code",
   "execution_count": 10,
   "metadata": {
    "collapsed": false
   },
   "outputs": [
    {
     "name": "stdout",
     "output_type": "stream",
     "text": [
      "(196, 12)\n"
     ]
    },
    {
     "data": {
      "text/html": [
       "<div>\n",
       "<table border=\"1\" class=\"dataframe\">\n",
       "  <thead>\n",
       "    <tr style=\"text-align: right;\">\n",
       "      <th></th>\n",
       "      <th>BRD8-event1</th>\n",
       "      <th>BRD8-event2</th>\n",
       "      <th>DYNC1I2</th>\n",
       "      <th>EIF5</th>\n",
       "      <th>EIF6</th>\n",
       "      <th>MDM4</th>\n",
       "      <th>MEAF6</th>\n",
       "      <th>PKM</th>\n",
       "      <th>RPN2</th>\n",
       "      <th>SMARCE1</th>\n",
       "      <th>SNAP25</th>\n",
       "      <th>SUGT1</th>\n",
       "    </tr>\n",
       "  </thead>\n",
       "  <tbody>\n",
       "    <tr>\n",
       "      <th>CVN_01</th>\n",
       "      <td>NaN</td>\n",
       "      <td>NaN</td>\n",
       "      <td>NaN</td>\n",
       "      <td>1.0</td>\n",
       "      <td>NaN</td>\n",
       "      <td>1.000000</td>\n",
       "      <td>0.0</td>\n",
       "      <td>0.000000</td>\n",
       "      <td>0.350598</td>\n",
       "      <td>1.0</td>\n",
       "      <td>NaN</td>\n",
       "      <td>0.250000</td>\n",
       "    </tr>\n",
       "    <tr>\n",
       "      <th>CVN_02</th>\n",
       "      <td>NaN</td>\n",
       "      <td>NaN</td>\n",
       "      <td>NaN</td>\n",
       "      <td>NaN</td>\n",
       "      <td>1.0</td>\n",
       "      <td>NaN</td>\n",
       "      <td>NaN</td>\n",
       "      <td>0.000000</td>\n",
       "      <td>0.000000</td>\n",
       "      <td>1.0</td>\n",
       "      <td>NaN</td>\n",
       "      <td>0.000000</td>\n",
       "    </tr>\n",
       "    <tr>\n",
       "      <th>CVN_03</th>\n",
       "      <td>1.0</td>\n",
       "      <td>1.0</td>\n",
       "      <td>NaN</td>\n",
       "      <td>1.0</td>\n",
       "      <td>1.0</td>\n",
       "      <td>NaN</td>\n",
       "      <td>0.0</td>\n",
       "      <td>0.000000</td>\n",
       "      <td>0.000000</td>\n",
       "      <td>NaN</td>\n",
       "      <td>NaN</td>\n",
       "      <td>NaN</td>\n",
       "    </tr>\n",
       "    <tr>\n",
       "      <th>CVN_04</th>\n",
       "      <td>NaN</td>\n",
       "      <td>NaN</td>\n",
       "      <td>NaN</td>\n",
       "      <td>1.0</td>\n",
       "      <td>NaN</td>\n",
       "      <td>0.000000</td>\n",
       "      <td>0.0</td>\n",
       "      <td>0.000000</td>\n",
       "      <td>0.213058</td>\n",
       "      <td>NaN</td>\n",
       "      <td>NaN</td>\n",
       "      <td>0.000000</td>\n",
       "    </tr>\n",
       "    <tr>\n",
       "      <th>CVN_05</th>\n",
       "      <td>NaN</td>\n",
       "      <td>NaN</td>\n",
       "      <td>NaN</td>\n",
       "      <td>1.0</td>\n",
       "      <td>0.0</td>\n",
       "      <td>0.692308</td>\n",
       "      <td>0.0</td>\n",
       "      <td>0.348754</td>\n",
       "      <td>0.000000</td>\n",
       "      <td>1.0</td>\n",
       "      <td>NaN</td>\n",
       "      <td>0.292383</td>\n",
       "    </tr>\n",
       "  </tbody>\n",
       "</table>\n",
       "</div>"
      ],
      "text/plain": [
       "        BRD8-event1  BRD8-event2  DYNC1I2  EIF5  EIF6      MDM4  MEAF6  \\\n",
       "CVN_01          NaN          NaN      NaN   1.0   NaN  1.000000    0.0   \n",
       "CVN_02          NaN          NaN      NaN   NaN   1.0       NaN    NaN   \n",
       "CVN_03          1.0          1.0      NaN   1.0   1.0       NaN    0.0   \n",
       "CVN_04          NaN          NaN      NaN   1.0   NaN  0.000000    0.0   \n",
       "CVN_05          NaN          NaN      NaN   1.0   0.0  0.692308    0.0   \n",
       "\n",
       "             PKM      RPN2  SMARCE1  SNAP25     SUGT1  \n",
       "CVN_01  0.000000  0.350598      1.0     NaN  0.250000  \n",
       "CVN_02  0.000000  0.000000      1.0     NaN  0.000000  \n",
       "CVN_03  0.000000  0.000000      NaN     NaN       NaN  \n",
       "CVN_04  0.000000  0.213058      NaN     NaN  0.000000  \n",
       "CVN_05  0.348754  0.000000      1.0     NaN  0.292383  "
      ]
     },
     "execution_count": 10,
     "metadata": {},
     "output_type": "execute_result"
    }
   ],
   "source": [
    "splicing_to_correlate = pd.DataFrame(dict((gene, study.splicing.singles[event_id].dropna()) \n",
    "                                          for gene, event_id in splicing_events))\n",
    "print(splicing_to_correlate.shape)\n",
    "splicing_to_correlate.head()"
   ]
  },
  {
   "cell_type": "code",
   "execution_count": 11,
   "metadata": {
    "collapsed": false
   },
   "outputs": [
    {
     "data": {
      "text/html": [
       "<div>\n",
       "<table border=\"1\" class=\"dataframe\">\n",
       "  <thead>\n",
       "    <tr style=\"text-align: right;\">\n",
       "      <th></th>\n",
       "      <th>Splicing Gene</th>\n",
       "      <th>phenotype</th>\n",
       "      <th>Expression Gene</th>\n",
       "      <th>Pearson R</th>\n",
       "      <th>event_id</th>\n",
       "      <th>modality</th>\n",
       "      <th>gene_name</th>\n",
       "      <th>Correlation Direction</th>\n",
       "    </tr>\n",
       "  </thead>\n",
       "  <tbody>\n",
       "    <tr>\n",
       "      <th>66</th>\n",
       "      <td>BRD8-event1</td>\n",
       "      <td>NPC</td>\n",
       "      <td>ENSG00000005436</td>\n",
       "      <td>-0.538949</td>\n",
       "      <td>exon:chr5:137495758-137495862:-@exon:chr5:1374...</td>\n",
       "      <td>bimodal</td>\n",
       "      <td>GCFC2</td>\n",
       "      <td>(-) Negative</td>\n",
       "    </tr>\n",
       "    <tr>\n",
       "      <th>176</th>\n",
       "      <td>BRD8-event1</td>\n",
       "      <td>NPC</td>\n",
       "      <td>ENSG00000010310</td>\n",
       "      <td>-0.519802</td>\n",
       "      <td>exon:chr5:137495758-137495862:-@exon:chr5:1374...</td>\n",
       "      <td>bimodal</td>\n",
       "      <td>GIPR</td>\n",
       "      <td>(-) Negative</td>\n",
       "    </tr>\n",
       "    <tr>\n",
       "      <th>483</th>\n",
       "      <td>BRD8-event1</td>\n",
       "      <td>NPC</td>\n",
       "      <td>ENSG00000050438</td>\n",
       "      <td>-0.509080</td>\n",
       "      <td>exon:chr5:137495758-137495862:-@exon:chr5:1374...</td>\n",
       "      <td>bimodal</td>\n",
       "      <td>SLC4A8</td>\n",
       "      <td>(-) Negative</td>\n",
       "    </tr>\n",
       "    <tr>\n",
       "      <th>875</th>\n",
       "      <td>BRD8-event1</td>\n",
       "      <td>NPC</td>\n",
       "      <td>ENSG00000073060</td>\n",
       "      <td>-0.602362</td>\n",
       "      <td>exon:chr5:137495758-137495862:-@exon:chr5:1374...</td>\n",
       "      <td>bimodal</td>\n",
       "      <td>SCARB1</td>\n",
       "      <td>(-) Negative</td>\n",
       "    </tr>\n",
       "    <tr>\n",
       "      <th>1277</th>\n",
       "      <td>BRD8-event1</td>\n",
       "      <td>NPC</td>\n",
       "      <td>ENSG00000088682</td>\n",
       "      <td>-0.588166</td>\n",
       "      <td>exon:chr5:137495758-137495862:-@exon:chr5:1374...</td>\n",
       "      <td>bimodal</td>\n",
       "      <td>COQ9</td>\n",
       "      <td>(-) Negative</td>\n",
       "    </tr>\n",
       "  </tbody>\n",
       "</table>\n",
       "</div>"
      ],
      "text/plain": [
       "     Splicing Gene phenotype  Expression Gene  Pearson R  \\\n",
       "66     BRD8-event1       NPC  ENSG00000005436  -0.538949   \n",
       "176    BRD8-event1       NPC  ENSG00000010310  -0.519802   \n",
       "483    BRD8-event1       NPC  ENSG00000050438  -0.509080   \n",
       "875    BRD8-event1       NPC  ENSG00000073060  -0.602362   \n",
       "1277   BRD8-event1       NPC  ENSG00000088682  -0.588166   \n",
       "\n",
       "                                               event_id modality gene_name  \\\n",
       "66    exon:chr5:137495758-137495862:-@exon:chr5:1374...  bimodal     GCFC2   \n",
       "176   exon:chr5:137495758-137495862:-@exon:chr5:1374...  bimodal      GIPR   \n",
       "483   exon:chr5:137495758-137495862:-@exon:chr5:1374...  bimodal    SLC4A8   \n",
       "875   exon:chr5:137495758-137495862:-@exon:chr5:1374...  bimodal    SCARB1   \n",
       "1277  exon:chr5:137495758-137495862:-@exon:chr5:1374...  bimodal      COQ9   \n",
       "\n",
       "     Correlation Direction  \n",
       "66            (-) Negative  \n",
       "176           (-) Negative  \n",
       "483           (-) Negative  \n",
       "875           (-) Negative  \n",
       "1277          (-) Negative  "
      ]
     },
     "execution_count": 11,
     "metadata": {},
     "output_type": "execute_result"
    }
   ],
   "source": [
    "splicing_expression_corr_tidy.head()"
   ]
  },
  {
   "cell_type": "code",
   "execution_count": 14,
   "metadata": {
    "collapsed": false
   },
   "outputs": [
    {
     "name": "stdout",
     "output_type": "stream",
     "text": [
      "(16, 4)\n"
     ]
    },
    {
     "data": {
      "text/html": [
       "<div>\n",
       "<table border=\"1\" class=\"dataframe\">\n",
       "  <thead>\n",
       "    <tr style=\"text-align: right;\">\n",
       "      <th></th>\n",
       "      <th>Splicing Gene</th>\n",
       "      <th>phenotype</th>\n",
       "      <th>event_id</th>\n",
       "      <th>modality</th>\n",
       "    </tr>\n",
       "  </thead>\n",
       "  <tbody>\n",
       "    <tr>\n",
       "      <th>66</th>\n",
       "      <td>BRD8-event1</td>\n",
       "      <td>NPC</td>\n",
       "      <td>exon:chr5:137495758-137495862:-@exon:chr5:1374...</td>\n",
       "      <td>bimodal</td>\n",
       "    </tr>\n",
       "    <tr>\n",
       "      <th>14337</th>\n",
       "      <td>BRD8-event1</td>\n",
       "      <td>iPSC</td>\n",
       "      <td>exon:chr5:137495758-137495862:-@exon:chr5:1374...</td>\n",
       "      <td>bimodal</td>\n",
       "    </tr>\n",
       "    <tr>\n",
       "      <th>28662</th>\n",
       "      <td>BRD8-event2</td>\n",
       "      <td>iPSC</td>\n",
       "      <td>exon:chr5:137500009-137500102:-@exon:chr5:1374...</td>\n",
       "      <td>bimodal</td>\n",
       "    </tr>\n",
       "    <tr>\n",
       "      <th>42972</th>\n",
       "      <td>DYNC1I2</td>\n",
       "      <td>NPC</td>\n",
       "      <td>exon:chr2:172563743-172563887:+@exon:chr2:1725...</td>\n",
       "      <td>bimodal</td>\n",
       "    </tr>\n",
       "    <tr>\n",
       "      <th>57278</th>\n",
       "      <td>DYNC1I2</td>\n",
       "      <td>iPSC</td>\n",
       "      <td>exon:chr2:172563743-172563887:+@exon:chr2:1725...</td>\n",
       "      <td>bimodal</td>\n",
       "    </tr>\n",
       "  </tbody>\n",
       "</table>\n",
       "</div>"
      ],
      "text/plain": [
       "      Splicing Gene phenotype  \\\n",
       "66      BRD8-event1       NPC   \n",
       "14337   BRD8-event1      iPSC   \n",
       "28662   BRD8-event2      iPSC   \n",
       "42972       DYNC1I2       NPC   \n",
       "57278       DYNC1I2      iPSC   \n",
       "\n",
       "                                                event_id modality  \n",
       "66     exon:chr5:137495758-137495862:-@exon:chr5:1374...  bimodal  \n",
       "14337  exon:chr5:137495758-137495862:-@exon:chr5:1374...  bimodal  \n",
       "28662  exon:chr5:137500009-137500102:-@exon:chr5:1374...  bimodal  \n",
       "42972  exon:chr2:172563743-172563887:+@exon:chr2:1725...  bimodal  \n",
       "57278  exon:chr2:172563743-172563887:+@exon:chr2:1725...  bimodal  "
      ]
     },
     "execution_count": 14,
     "metadata": {},
     "output_type": "execute_result"
    }
   ],
   "source": [
    "splicing_corr_phenotypes = splicing_expression_corr_tidy.drop(['Expression Gene', 'Pearson R', 'gene_name', 'Correlation Direction'], axis=1)\n",
    "splicing_corr_phenotypes = splicing_corr_phenotypes.drop_duplicates()\n",
    "print(splicing_corr_phenotypes.shape)\n",
    "splicing_corr_phenotypes.head()"
   ]
  },
  {
   "cell_type": "code",
   "execution_count": 15,
   "metadata": {
    "collapsed": false
   },
   "outputs": [
    {
     "data": {
      "text/html": [
       "<div>\n",
       "<table border=\"1\" class=\"dataframe\">\n",
       "  <thead>\n",
       "    <tr style=\"text-align: right;\">\n",
       "      <th></th>\n",
       "      <th>Splicing Gene</th>\n",
       "      <th>phenotype</th>\n",
       "      <th>event_id</th>\n",
       "      <th>modality</th>\n",
       "    </tr>\n",
       "  </thead>\n",
       "  <tbody>\n",
       "    <tr>\n",
       "      <th>66</th>\n",
       "      <td>BRD8-event1</td>\n",
       "      <td>NPC</td>\n",
       "      <td>exon:chr5:137495758-137495862:-@exon:chr5:1374...</td>\n",
       "      <td>bimodal</td>\n",
       "    </tr>\n",
       "    <tr>\n",
       "      <th>14337</th>\n",
       "      <td>BRD8-event1</td>\n",
       "      <td>iPSC</td>\n",
       "      <td>exon:chr5:137495758-137495862:-@exon:chr5:1374...</td>\n",
       "      <td>bimodal</td>\n",
       "    </tr>\n",
       "    <tr>\n",
       "      <th>28662</th>\n",
       "      <td>BRD8-event2</td>\n",
       "      <td>iPSC</td>\n",
       "      <td>exon:chr5:137500009-137500102:-@exon:chr5:1374...</td>\n",
       "      <td>bimodal</td>\n",
       "    </tr>\n",
       "    <tr>\n",
       "      <th>42972</th>\n",
       "      <td>DYNC1I2</td>\n",
       "      <td>NPC</td>\n",
       "      <td>exon:chr2:172563743-172563887:+@exon:chr2:1725...</td>\n",
       "      <td>bimodal</td>\n",
       "    </tr>\n",
       "    <tr>\n",
       "      <th>57278</th>\n",
       "      <td>DYNC1I2</td>\n",
       "      <td>iPSC</td>\n",
       "      <td>exon:chr2:172563743-172563887:+@exon:chr2:1725...</td>\n",
       "      <td>bimodal</td>\n",
       "    </tr>\n",
       "    <tr>\n",
       "      <th>71592</th>\n",
       "      <td>EIF5</td>\n",
       "      <td>MN</td>\n",
       "      <td>exon:chr14:103800339-103800597:+@exon:chr14:10...</td>\n",
       "      <td>bimodal</td>\n",
       "    </tr>\n",
       "    <tr>\n",
       "      <th>96558</th>\n",
       "      <td>EIF5</td>\n",
       "      <td>NPC</td>\n",
       "      <td>exon:chr14:103800339-103800597:+@exon:chr14:10...</td>\n",
       "      <td>bimodal</td>\n",
       "    </tr>\n",
       "    <tr>\n",
       "      <th>100672</th>\n",
       "      <td>EIF6</td>\n",
       "      <td>MN</td>\n",
       "      <td>exon:chr20:33871979-33872295:-@exon:chr20:3386...</td>\n",
       "      <td>bimodal</td>\n",
       "    </tr>\n",
       "    <tr>\n",
       "      <th>129470</th>\n",
       "      <td>MDM4</td>\n",
       "      <td>NPC</td>\n",
       "      <td>exon:chr1:204501319-204501374:+@exon:chr1:2045...</td>\n",
       "      <td>bimodal</td>\n",
       "    </tr>\n",
       "    <tr>\n",
       "      <th>143185</th>\n",
       "      <td>MEAF6</td>\n",
       "      <td>NPC</td>\n",
       "      <td>exon:chr1:37967405-37967597:-@exon:chr1:379623...</td>\n",
       "      <td>bimodal</td>\n",
       "    </tr>\n",
       "    <tr>\n",
       "      <th>157543</th>\n",
       "      <td>PKM</td>\n",
       "      <td>MN</td>\n",
       "      <td>exon:chr15:72499069-72499221:-@exon:chr15:7249...</td>\n",
       "      <td>bimodal</td>\n",
       "    </tr>\n",
       "    <tr>\n",
       "      <th>172368</th>\n",
       "      <td>RPN2</td>\n",
       "      <td>MN</td>\n",
       "      <td>exon:chr20:35864983-35865112:+@exon:chr20:3586...</td>\n",
       "      <td>bimodal</td>\n",
       "    </tr>\n",
       "    <tr>\n",
       "      <th>186102</th>\n",
       "      <td>SMARCE1</td>\n",
       "      <td>MN</td>\n",
       "      <td>exon:chr17:38801828-38801871:-@exon:chr17:3879...</td>\n",
       "      <td>bimodal</td>\n",
       "    </tr>\n",
       "    <tr>\n",
       "      <th>200438</th>\n",
       "      <td>SNAP25</td>\n",
       "      <td>MN</td>\n",
       "      <td>exon:chr20:10265372-10265420:+@exon:chr20:1027...</td>\n",
       "      <td>bimodal</td>\n",
       "    </tr>\n",
       "    <tr>\n",
       "      <th>214742</th>\n",
       "      <td>SUGT1</td>\n",
       "      <td>MN</td>\n",
       "      <td>exon:chr13:53233314-53233384:+@exon:chr13:5323...</td>\n",
       "      <td>bimodal</td>\n",
       "    </tr>\n",
       "    <tr>\n",
       "      <th>229422</th>\n",
       "      <td>SUGT1</td>\n",
       "      <td>NPC</td>\n",
       "      <td>exon:chr13:53233314-53233384:+@exon:chr13:5323...</td>\n",
       "      <td>bimodal</td>\n",
       "    </tr>\n",
       "  </tbody>\n",
       "</table>\n",
       "</div>"
      ],
      "text/plain": [
       "       Splicing Gene phenotype  \\\n",
       "66       BRD8-event1       NPC   \n",
       "14337    BRD8-event1      iPSC   \n",
       "28662    BRD8-event2      iPSC   \n",
       "42972        DYNC1I2       NPC   \n",
       "57278        DYNC1I2      iPSC   \n",
       "71592           EIF5        MN   \n",
       "96558           EIF5       NPC   \n",
       "100672          EIF6        MN   \n",
       "129470          MDM4       NPC   \n",
       "143185         MEAF6       NPC   \n",
       "157543           PKM        MN   \n",
       "172368          RPN2        MN   \n",
       "186102       SMARCE1        MN   \n",
       "200438        SNAP25        MN   \n",
       "214742         SUGT1        MN   \n",
       "229422         SUGT1       NPC   \n",
       "\n",
       "                                                 event_id modality  \n",
       "66      exon:chr5:137495758-137495862:-@exon:chr5:1374...  bimodal  \n",
       "14337   exon:chr5:137495758-137495862:-@exon:chr5:1374...  bimodal  \n",
       "28662   exon:chr5:137500009-137500102:-@exon:chr5:1374...  bimodal  \n",
       "42972   exon:chr2:172563743-172563887:+@exon:chr2:1725...  bimodal  \n",
       "57278   exon:chr2:172563743-172563887:+@exon:chr2:1725...  bimodal  \n",
       "71592   exon:chr14:103800339-103800597:+@exon:chr14:10...  bimodal  \n",
       "96558   exon:chr14:103800339-103800597:+@exon:chr14:10...  bimodal  \n",
       "100672  exon:chr20:33871979-33872295:-@exon:chr20:3386...  bimodal  \n",
       "129470  exon:chr1:204501319-204501374:+@exon:chr1:2045...  bimodal  \n",
       "143185  exon:chr1:37967405-37967597:-@exon:chr1:379623...  bimodal  \n",
       "157543  exon:chr15:72499069-72499221:-@exon:chr15:7249...  bimodal  \n",
       "172368  exon:chr20:35864983-35865112:+@exon:chr20:3586...  bimodal  \n",
       "186102  exon:chr17:38801828-38801871:-@exon:chr17:3879...  bimodal  \n",
       "200438  exon:chr20:10265372-10265420:+@exon:chr20:1027...  bimodal  \n",
       "214742  exon:chr13:53233314-53233384:+@exon:chr13:5323...  bimodal  \n",
       "229422  exon:chr13:53233314-53233384:+@exon:chr13:5323...  bimodal  "
      ]
     },
     "execution_count": 15,
     "metadata": {},
     "output_type": "execute_result"
    }
   ],
   "source": [
    "splicing_corr_phenotypes"
   ]
  },
  {
   "cell_type": "markdown",
   "metadata": {},
   "source": [
    "## Do PCA on the sample subsets and color by psi"
   ]
  },
  {
   "cell_type": "code",
   "execution_count": 19,
   "metadata": {
    "collapsed": false
   },
   "outputs": [
    {
     "name": "stdout",
     "output_type": "stream",
     "text": [
      "(206, 2)\n"
     ]
    },
    {
     "data": {
      "text/html": [
       "<div>\n",
       "<table border=\"1\" class=\"dataframe\">\n",
       "  <thead>\n",
       "    <tr style=\"text-align: right;\">\n",
       "      <th></th>\n",
       "      <th>0</th>\n",
       "      <th>1</th>\n",
       "    </tr>\n",
       "  </thead>\n",
       "  <tbody>\n",
       "    <tr>\n",
       "      <th>CVN_01</th>\n",
       "      <td>-23.439739</td>\n",
       "      <td>-49.427454</td>\n",
       "    </tr>\n",
       "    <tr>\n",
       "      <th>CVN_02</th>\n",
       "      <td>3.669320</td>\n",
       "      <td>-52.269150</td>\n",
       "    </tr>\n",
       "    <tr>\n",
       "      <th>CVN_03</th>\n",
       "      <td>34.133821</td>\n",
       "      <td>-80.826701</td>\n",
       "    </tr>\n",
       "    <tr>\n",
       "      <th>CVN_04</th>\n",
       "      <td>-24.050024</td>\n",
       "      <td>-19.188672</td>\n",
       "    </tr>\n",
       "    <tr>\n",
       "      <th>CVN_05</th>\n",
       "      <td>-38.909560</td>\n",
       "      <td>-7.548639</td>\n",
       "    </tr>\n",
       "  </tbody>\n",
       "</table>\n",
       "</div>"
      ],
      "text/plain": [
       "                0          1\n",
       "CVN_01 -23.439739 -49.427454\n",
       "CVN_02   3.669320 -52.269150\n",
       "CVN_03  34.133821 -80.826701\n",
       "CVN_04 -24.050024 -19.188672\n",
       "CVN_05 -38.909560  -7.548639"
      ]
     },
     "execution_count": 19,
     "metadata": {},
     "output_type": "execute_result"
    }
   ],
   "source": [
    "from sklearn.decomposition import PCA\n",
    "\n",
    "pca = PCA(n_components=2)\n",
    "single_expression_decomposed = pd.DataFrame(pca.fit_transform(single_expression), index=single_expression.index)\n",
    "print(single_expression_decomposed.shape)\n",
    "single_expression_decomposed.head()"
   ]
  },
  {
   "cell_type": "code",
   "execution_count": 71,
   "metadata": {
    "collapsed": false
   },
   "outputs": [
    {
     "name": "stdout",
     "output_type": "stream",
     "text": [
      "iPSC\n",
      "\t 63\n",
      "NPC\n",
      "\t 73\n",
      "MN\n",
      "\t 70\n",
      "(206, 4)\n"
     ]
    },
    {
     "data": {
      "text/html": [
       "<div>\n",
       "<table border=\"1\" class=\"dataframe\">\n",
       "  <thead>\n",
       "    <tr style=\"text-align: right;\">\n",
       "      <th></th>\n",
       "      <th>sample_id</th>\n",
       "      <th>0</th>\n",
       "      <th>1</th>\n",
       "      <th>phenotype</th>\n",
       "    </tr>\n",
       "  </thead>\n",
       "  <tbody>\n",
       "    <tr>\n",
       "      <th>0</th>\n",
       "      <td>P1_01</td>\n",
       "      <td>15.603980</td>\n",
       "      <td>-42.257438</td>\n",
       "      <td>iPSC</td>\n",
       "    </tr>\n",
       "    <tr>\n",
       "      <th>1</th>\n",
       "      <td>P1_02</td>\n",
       "      <td>-25.098739</td>\n",
       "      <td>-6.670895</td>\n",
       "      <td>iPSC</td>\n",
       "    </tr>\n",
       "    <tr>\n",
       "      <th>2</th>\n",
       "      <td>P1_03</td>\n",
       "      <td>-28.156045</td>\n",
       "      <td>-14.945716</td>\n",
       "      <td>iPSC</td>\n",
       "    </tr>\n",
       "    <tr>\n",
       "      <th>3</th>\n",
       "      <td>P1_04</td>\n",
       "      <td>-44.862321</td>\n",
       "      <td>-6.058427</td>\n",
       "      <td>iPSC</td>\n",
       "    </tr>\n",
       "    <tr>\n",
       "      <th>4</th>\n",
       "      <td>P1_05</td>\n",
       "      <td>-38.950299</td>\n",
       "      <td>194.236159</td>\n",
       "      <td>iPSC</td>\n",
       "    </tr>\n",
       "  </tbody>\n",
       "</table>\n",
       "</div>"
      ],
      "text/plain": [
       "  sample_id          0           1 phenotype\n",
       "0     P1_01  15.603980  -42.257438      iPSC\n",
       "1     P1_02 -25.098739   -6.670895      iPSC\n",
       "2     P1_03 -28.156045  -14.945716      iPSC\n",
       "3     P1_04 -44.862321   -6.058427      iPSC\n",
       "4     P1_05 -38.950299  194.236159      iPSC"
      ]
     },
     "execution_count": 71,
     "metadata": {},
     "output_type": "execute_result"
    }
   ],
   "source": [
    "pcas = {}\n",
    "dfs = []\n",
    "\n",
    "for phenotype in study.phenotype_order:\n",
    "    print(phenotype)\n",
    "    samples = study.sample_subset_to_sample_ids(phenotype)\n",
    "    single_samples = single_expression.index & samples\n",
    "    print('\\t', len(single_samples))\n",
    "    pca = PCA(n_components=2)\n",
    "    smushed = pd.DataFrame(pca.fit_transform(single_expression.loc[single_samples]), \n",
    "                           index=single_samples)\n",
    "    smushed['phenotype'] = phenotype\n",
    "    dfs.append(smushed.reset_index())\n",
    "#     smusheds[phenotype] = smushed\n",
    "    pcas[phenotype] = pca\n",
    "smushed_phenotype = pd.concat(dfs, ignore_index=True)\n",
    "print(smushed_phenotype.shape)\n",
    "smushed_phenotype = smushed_phenotype.rename(columns={'index': 'sample_id'})\n",
    "smushed_phenotype.head()"
   ]
  },
  {
   "cell_type": "code",
   "execution_count": 72,
   "metadata": {
    "collapsed": true
   },
   "outputs": [],
   "source": [
    "import matplotlib as mpl"
   ]
  },
  {
   "cell_type": "code",
   "execution_count": 73,
   "metadata": {
    "collapsed": false
   },
   "outputs": [],
   "source": [
    "cmap = mpl.cm.RdYlBu_r\n",
    "cmap.set_under('white')\n",
    "# cmap.se"
   ]
  },
  {
   "cell_type": "code",
   "execution_count": 75,
   "metadata": {
    "collapsed": false,
    "scrolled": false
   },
   "outputs": [
    {
     "data": {
      "image/png": "[encoded data removed]",
      "text/plain": [
       "<matplotlib.figure.Figure at 0x2b0093e77d50>"
      ]
     },
     "metadata": {},
     "output_type": "display_data"
    },
    {
     "data": {
      "image/png": "[encoded data removed]",
      "text/plain": [
       "<matplotlib.figure.Figure at 0x2b008ed6e810>"
      ]
     },
     "metadata": {},
     "output_type": "display_data"
    },
    {
     "data": {
      "image/png": "[encoded data removed]",
      "text/plain": [
       "<matplotlib.figure.Figure at 0x2b0094bea210>"
      ]
     },
     "metadata": {},
     "output_type": "display_data"
    },
    {
     "data": {
      "image/png": "[encoded data removed]",
      "text/plain": [
       "<matplotlib.figure.Figure at 0x2b00945a1990>"
      ]
     },
     "metadata": {},
     "output_type": "display_data"
    },
    {
     "data": {
      "image/png": "[encoded data removed]",
      "text/plain": [
       "<matplotlib.figure.Figure at 0x2b00940d0490>"
      ]
     },
     "metadata": {},
     "output_type": "display_data"
    },
    {
     "data": {
      "image/png": "[encoded data removed]",
      "text/plain": [
       "<matplotlib.figure.Figure at 0x2b0093e779d0>"
      ]
     },
     "metadata": {},
     "output_type": "display_data"
    },
    {
     "data": {
      "image/png": "[encoded data removed]",
      "text/plain": [
       "<matplotlib.figure.Figure at 0x2b00c078a450>"
      ]
     },
     "metadata": {},
     "output_type": "display_data"
    },
    {
     "data": {
      "image/png": "[encoded data removed]",
      "text/plain": [
       "<matplotlib.figure.Figure at 0x2b0093e77510>"
      ]
     },
     "metadata": {},
     "output_type": "display_data"
    },
    {
     "data": {
      "image/png": "[encoded data removed]",
      "text/plain": [
       "<matplotlib.figure.Figure at 0x2b008e6ebd90>"
      ]
     },
     "metadata": {},
     "output_type": "display_data"
    },
    {
     "data": {
      "image/png": "[encoded data removed]",
      "text/plain": [
       "<matplotlib.figure.Figure at 0x2b009135d190>"
      ]
     },
     "metadata": {},
     "output_type": "display_data"
    },
    {
     "data": {
      "image/png": "[encoded data removed]",
      "text/plain": [
       "<matplotlib.figure.Figure at 0x2b0090af8990>"
      ]
     },
     "metadata": {},
     "output_type": "display_data"
    },
    {
     "data": {
      "image/png": "[encoded data removed]",
      "text/plain": [
       "<matplotlib.figure.Figure at 0x2b0095e9fd10>"
      ]
     },
     "metadata": {},
     "output_type": "display_data"
    },
    {
     "data": {
      "image/png": "[encoded data removed]",
      "text/plain": [
       "<matplotlib.figure.Figure at 0x2b0094098290>"
      ]
     },
     "metadata": {},
     "output_type": "display_data"
    },
    {
     "data": {
      "image/png": "[encoded data removed]",
      "text/plain": [
       "<matplotlib.figure.Figure at 0x2b0093e77450>"
      ]
     },
     "metadata": {},
     "output_type": "display_data"
    },
    {
     "data": {
      "image/png": "[encoded data removed]",
      "text/plain": [
       "<matplotlib.figure.Figure at 0x2b0094bf97d0>"
      ]
     },
     "metadata": {},
     "output_type": "display_data"
    },
    {
     "data": {
      "image/png": "[encoded data removed]",
      "text/plain": [
       "<matplotlib.figure.Figure at 0x2b00911e2510>"
      ]
     },
     "metadata": {},
     "output_type": "display_data"
    }
   ],
   "source": [
    "for i, row in splicing_corr_phenotypes.iterrows():\n",
    "    \n",
    "    phenotype = row['phenotype']\n",
    "    splicing_gene = row['Splicing Gene']\n",
    "    \n",
    "    fig, ax = plt.subplots(figsize=(2, 1.5))\n",
    "    \n",
    "    psi = splicing_to_correlate[row['Splicing Gene']].dropna()\n",
    "#     psi = splicing_to_correlate[splicing_gene].fillna(-1)\n",
    "    samples = study.sample_subset_to_sample_ids(phenotype)\n",
    "    samples = psi.index & samples\n",
    "    psi = psi[samples]\n",
    "#     colors = cmap(psi)\n",
    "\n",
    "    smushed = smushed_phenotype.query('phenotype == @phenotype')\n",
    "    smushed = smushed.set_index('sample_id')\n",
    "    \n",
    "    pca = pcas[phenotype]\n",
    "    percent_explained = 100 * pca.explained_variance_ratio_\n",
    "    xlabel = 'PC1 ({:.1f}%)'.format(percent_explained[0])\n",
    "    ylabel = 'PC2 ({:.1f}%)'.format(percent_explained[1])\n",
    "    \n",
    "    ax.scatter(smushed.loc[psi.index, 0], smushed.loc[psi.index, 1], \n",
    "               c=psi.values, cmap=cmap, vmin=0, vmax=1, linewidths=0.5, s=20)\n",
    "    ax.set(title='{phenotype} {splicing_gene}'.format(phenotype=phenotype, splicing_gene=splicing_gene), \n",
    "           xticks=[], yticks=[], xlabel=xlabel, ylabel=ylabel)\n",
    "#     ax.locator_params(nbins=3)\n",
    "    sns.despine()\n",
    "    fig.savefig('{folder}/{phenotype}_pca_colored_by_{splicing_gene}_psi.pdf'.format(\n",
    "            phenotype=phenotype, splicing_gene=splicing_gene, folder=figure_folder))"
   ]
  },
  {
   "cell_type": "code",
   "execution_count": 76,
   "metadata": {
    "collapsed": false,
    "scrolled": false
   },
   "outputs": [
    {
     "name": "stdout",
     "output_type": "stream",
     "text": [
      "BRD8-event1 NPC (117, 8)\n",
      "BRD8-event1 iPSC (198, 8)\n",
      "BRD8-event2 iPSC (632, 8)\n",
      "DYNC1I2 NPC (195, 8)\n",
      "DYNC1I2 iPSC (567, 8)\n",
      "EIF5 MN (193, 8)\n",
      "EIF5 NPC (1, 8)\n",
      "EIF6 MN (31, 8)\n",
      "MDM4 NPC (32, 8)\n",
      "MEAF6 NPC (69, 8)\n",
      "PKM MN (220, 8)\n",
      "RPN2 MN (18, 8)\n",
      "SMARCE1 MN (266, 8)\n",
      "SNAP25 MN (59, 8)\n",
      "SUGT1 MN (386, 8)\n",
      "SUGT1 NPC (27, 8)\n"
     ]
    },
    {
     "data": {
      "image/png": "[encoded data removed]",
      "text/plain": [
       "<matplotlib.figure.Figure at 0x2b0094c21dd0>"
      ]
     },
     "metadata": {},
     "output_type": "display_data"
    },
    {
     "data": {
      "image/png": "[encoded data removed]",
      "text/plain": [
       "<matplotlib.figure.Figure at 0x2b0094a531d0>"
      ]
     },
     "metadata": {},
     "output_type": "display_data"
    },
    {
     "data": {
      "image/png": "[encoded data removed]",
      "text/plain": [
       "<matplotlib.figure.Figure at 0x2b00931a2410>"
      ]
     },
     "metadata": {},
     "output_type": "display_data"
    },
    {
     "data": {
      "image/png": "[encoded data removed]",
      "text/plain": [
       "<matplotlib.figure.Figure at 0x2b008dd67a90>"
      ]
     },
     "metadata": {},
     "output_type": "display_data"
    },
    {
     "data": {
      "image/png": "[encoded data removed]",
      "text/plain": [
       "<matplotlib.figure.Figure at 0x2b0094b13e90>"
      ]
     },
     "metadata": {},
     "output_type": "display_data"
    },
    {
     "data": {
      "image/png": "[encoded data removed]",
      "text/plain": [
       "<matplotlib.figure.Figure at 0x2b00934fd950>"
      ]
     },
     "metadata": {},
     "output_type": "display_data"
    },
    {
     "data": {
      "image/png": "[encoded data removed]",
      "text/plain": [
       "<matplotlib.figure.Figure at 0x2b008e0b0250>"
      ]
     },
     "metadata": {},
     "output_type": "display_data"
    },
    {
     "data": {
      "image/png": "[encoded data removed]",
      "text/plain": [
       "<matplotlib.figure.Figure at 0x2b00949cb9d0>"
      ]
     },
     "metadata": {},
     "output_type": "display_data"
    },
    {
     "data": {
      "image/png": "[encoded data removed]",
      "text/plain": [
       "<matplotlib.figure.Figure at 0x2b009121d250>"
      ]
     },
     "metadata": {},
     "output_type": "display_data"
    },
    {
     "data": {
      "image/png": "[encoded data removed]",
      "text/plain": [
       "<matplotlib.figure.Figure at 0x2b009101a790>"
      ]
     },
     "metadata": {},
     "output_type": "display_data"
    },
    {
     "data": {
      "image/png": "[encoded data removed]",
      "text/plain": [
       "<matplotlib.figure.Figure at 0x2b008ddba550>"
      ]
     },
     "metadata": {},
     "output_type": "display_data"
    },
    {
     "data": {
      "image/png": "[encoded data removed]",
      "text/plain": [
       "<matplotlib.figure.Figure at 0x2b0090e081d0>"
      ]
     },
     "metadata": {},
     "output_type": "display_data"
    },
    {
     "data": {
      "image/png": "[encoded data removed]",
      "text/plain": [
       "<matplotlib.figure.Figure at 0x2b0094b0b410>"
      ]
     },
     "metadata": {},
     "output_type": "display_data"
    },
    {
     "data": {
      "image/png": "[encoded data removed]",
      "text/plain": [
       "<matplotlib.figure.Figure at 0x2b008e19ff90>"
      ]
     },
     "metadata": {},
     "output_type": "display_data"
    },
    {
     "data": {
      "image/png": "[encoded data removed]",
      "text/plain": [
       "<matplotlib.figure.Figure at 0x2b0091037f10>"
      ]
     },
     "metadata": {},
     "output_type": "display_data"
    }
   ],
   "source": [
    "correlated_smusheds = {}\n",
    "\n",
    "for (splicing_gene, phenotype), df in splicing_expression_corr_tidy.groupby(['Splicing Gene', 'phenotype']):\n",
    "    print(splicing_gene, phenotype, df.shape)\n",
    "    if df.shape[0] < 2:\n",
    "        continue\n",
    "    psi = splicing_to_correlate[splicing_gene].dropna()\n",
    "    samples = study.sample_subset_to_sample_ids(phenotype)\n",
    "    samples = psi.index & samples\n",
    "    psi = psi[samples]\n",
    "#     colors = cmap(psi)\n",
    "    \n",
    "    subset = single_expression.loc[samples, df['Expression Gene']]\n",
    "    \n",
    "    pca = PCA(n_components=2)\n",
    "    smushed = pd.DataFrame(pca.fit_transform(subset), index=subset.index)\n",
    "    correlated_smusheds[(splicing_gene, phenotype)] = smushed\n",
    "    \n",
    "    percent_explained = 100 * pca.explained_variance_ratio_\n",
    "    xlabel = 'PC1 ({:.1f}%)'.format(percent_explained[0])\n",
    "    ylabel = 'PC2 ({:.1f}%)'.format(percent_explained[1])\n",
    "\n",
    "    fig, ax = plt.subplots(figsize=(2, 1.5))\n",
    "    ax.scatter(smushed.loc[psi.index, 0], smushed.loc[psi.index, 1], \n",
    "               c=psi.values, cmap=cmap, vmin=0, vmax=1, linewidths=0.5, s=20)\n",
    "    ax.set(title='{phenotype} {splicing_gene}'.format(phenotype=phenotype, splicing_gene=splicing_gene),\n",
    "           xticks=[], yticks=[], xlabel=xlabel, ylabel=ylabel)\n",
    "    ax.locator_params(nbins=3)\n",
    "    sns.despine()\n",
    "    \n",
    "    fig.savefig('{folder}/{phenotype}_{splicing_gene}_correlated_pca_colored_by_psi.pdf'.format(\n",
    "            phenotype=phenotype, splicing_gene=splicing_gene, folder=figure_folder))"
   ]
  },
  {
   "cell_type": "code",
   "execution_count": null,
   "metadata": {
    "collapsed": true
   },
   "outputs": [],
   "source": []
  }
 ],
 "metadata": {
  "kernelspec": {
   "display_name": "Python 2",
   "language": "python",
   "name": "python2"
  },
  "language_info": {
   "codemirror_mode": {
    "name": "ipython",
    "version": 2
   },
   "file_extension": ".py",
   "mimetype": "text/x-python",
   "name": "python",
   "nbconvert_exporter": "python",
   "pygments_lexer": "ipython2",
   "version": "2.7.11"
  }
 },
 "nbformat": 4,
 "nbformat_minor": 0
}
