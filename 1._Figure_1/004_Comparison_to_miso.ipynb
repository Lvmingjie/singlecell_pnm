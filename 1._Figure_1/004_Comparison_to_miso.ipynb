{
 "cells": [
  {
   "cell_type": "code",
   "execution_count": null,
   "metadata": {
    "collapsed": false
   },
   "outputs": [
    {
     "name": "stderr",
     "output_type": "stream",
     "text": [
      "/home/obotvinnik/anaconda/lib/python2.7/site-packages/matplotlib/__init__.py:810: UserWarning: Found matplotlib configuration in ~/.matplotlib/. To conform with the XDG base directory standard, this configuration location has been deprecated on Linux, and the new location is now /home/obotvinnik/.config/matplotlib/. Please move your configuration there to ensure that matplotlib will continue to find it in the future.\n",
      "  _get_xdg_config_dir())\n",
      "/home/obotvinnik/anaconda/lib/python2.7/site-packages/flotilla/__init__.py:65: DtypeWarning: Columns (19) have mixed types. Specify dtype option on import or set low_memory=False.\n",
      "  load_species_data=load_species_data)\n"
     ]
    }
   ],
   "source": [
    "from collections import defaultdict\n",
    "\n",
    "import matplotlib as mpl\n",
    "import matplotlib.pyplot as plt\n",
    "import numpy as np\n",
    "import pandas as pd\n",
    "import seaborn as sns\n",
    "\n",
    "%matplotlib inline\n",
    "\n",
    "\n",
    "import flotilla\n",
    "sns.set(style='ticks', context='talk')\n",
    "\n",
    "folder = 'figures'\n",
    "\n",
    "flotilla_dir = '/projects/ps-yeolab/obotvinnik/flotilla_projects/'\n",
    "\n",
    "study = flotilla.embark('singlecell_pnm_figure1_supplementary_post_splicing_filtering', flotilla_dir=flotilla_dir)"
   ]
  },
  {
   "cell_type": "code",
   "execution_count": 3,
   "metadata": {
    "collapsed": false
   },
   "outputs": [],
   "source": [
    "from __future__ import print_function"
   ]
  },
  {
   "cell_type": "code",
   "execution_count": 27,
   "metadata": {
    "collapsed": false
   },
   "outputs": [
    {
     "data": {
      "text/plain": [
       "Index([u'exon:chr15:72499069-72499221:-@exon:chr15:72494795-72494961:-@exon:chr15:72492849-72492996:-',\n",
       "       u'exon:chr15:72499069-72499221:-@exon:chr15:72495363-72495529:-@exon:chr15:72492815-72492996:-',\n",
       "       u'exon:chr15:72523457-72523547:-@exon:chr15:72513509-72513625:-@exon:chr15:72511285-72511451:-',\n",
       "       u'exon:chr15:72499069-72499221:-@exon:chr15:72495363-72495529:-@exon:chr15:72494795-72494961:-@exon:chr15:72492815-72492996:-'],\n",
       "      dtype='object')"
      ]
     },
     "execution_count": 27,
     "metadata": {},
     "output_type": "execute_result"
    }
   ],
   "source": [
    "study.splicing.maybe_renamed_to_feature_id(\"PKM\")"
   ]
  },
  {
   "cell_type": "code",
   "execution_count": 4,
   "metadata": {
    "collapsed": false
   },
   "outputs": [
    {
     "name": "stdout",
     "output_type": "stream",
     "text": [
      "(275, 63201)\n"
     ]
    },
    {
     "data": {
      "text/html": [
       "<div>\n",
       "<table border=\"1\" class=\"dataframe\">\n",
       "  <thead>\n",
       "    <tr style=\"text-align: right;\">\n",
       "      <th></th>\n",
       "      <th>chr10:100148111:100148265:-@chr10:100147622:100147841:-@chr10:100146958:100147064:-</th>\n",
       "      <th>chr10:100150355:100150511:-@chr10:100148111:100148265:-@chr10:100146958:100147064:-</th>\n",
       "      <th>chr10:100150839:100150628|100150767:-@chr10:100150355:100150511:-</th>\n",
       "      <th>chr10:100170715:100170370|100170696:-@chr10:100167661:100167754:-</th>\n",
       "      <th>chr10:100174766:100174978:-@chr10:100174489:100174591:-@chr10:100173705:100174052:-</th>\n",
       "      <th>chr10:100185575:100185742:-@chr10:100185441|100185477:100185298:-</th>\n",
       "      <th>chr10:100186972:100187021:-@chr10:100185575:100185742:-@chr10:100185298:100185477:-</th>\n",
       "      <th>chr10:100190328:100190427:-@chr10:100189548:100189646:-@chr10:100189330:100189399:-</th>\n",
       "      <th>chr10:100193697:100193848:-@chr10:100190888:100191048:-@chr10:100190328:100190427:-</th>\n",
       "      <th>chr10:100193740:100193848:-@chr10:100190888:100191048:-@chr10:100190328:100190427:-</th>\n",
       "      <th>...</th>\n",
       "      <th>chrY:59222127:59222216|59222281:+@chrY:59230782:59230919:+</th>\n",
       "      <th>chrY:59222127:59222277|59222281:+@chrY:59230782:59230919:+</th>\n",
       "      <th>chrY:59222127:59222281:+@chrY:59228292:59228349:+@chrY:59230782:59230919:+</th>\n",
       "      <th>chrY:59233167:59233257:+@chrY:59252483:59252550:+@chrY:59272371:59272463:+</th>\n",
       "      <th>chrY:6780129:6780213:+@chrY:6846254:6846284:+@chrY:6863845:6863939:+@chrY:6889490:6889578:+</th>\n",
       "      <th>chrY:6846254:6846284:+@chrY:6863845:6863939:+@chrY:6889490:6889578:+</th>\n",
       "      <th>chrY:6889490:6889578:+@chrY:6893076:6893183:+@chrY:6911021:6911166:+</th>\n",
       "      <th>chrY:6931938:6932190:+@chrY:6934736:6934869:+@chrY:6938237:6938369:+</th>\n",
       "      <th>chrY:9236076-9236162:+@chrY:9236424-9236561:+</th>\n",
       "      <th>chrY:9365535-9365621:+@chrY:9365883-9366020:+</th>\n",
       "    </tr>\n",
       "  </thead>\n",
       "  <tbody>\n",
       "    <tr>\n",
       "      <th>M1_01</th>\n",
       "      <td>NaN</td>\n",
       "      <td>NaN</td>\n",
       "      <td>NaN</td>\n",
       "      <td>NaN</td>\n",
       "      <td>NaN</td>\n",
       "      <td>NaN</td>\n",
       "      <td>NaN</td>\n",
       "      <td>NaN</td>\n",
       "      <td>NaN</td>\n",
       "      <td>NaN</td>\n",
       "      <td>...</td>\n",
       "      <td>NaN</td>\n",
       "      <td>NaN</td>\n",
       "      <td>NaN</td>\n",
       "      <td>NaN</td>\n",
       "      <td>NaN</td>\n",
       "      <td>NaN</td>\n",
       "      <td>NaN</td>\n",
       "      <td>NaN</td>\n",
       "      <td>NaN</td>\n",
       "      <td>NaN</td>\n",
       "    </tr>\n",
       "    <tr>\n",
       "      <th>M1_02</th>\n",
       "      <td>NaN</td>\n",
       "      <td>NaN</td>\n",
       "      <td>NaN</td>\n",
       "      <td>NaN</td>\n",
       "      <td>NaN</td>\n",
       "      <td>NaN</td>\n",
       "      <td>NaN</td>\n",
       "      <td>NaN</td>\n",
       "      <td>NaN</td>\n",
       "      <td>NaN</td>\n",
       "      <td>...</td>\n",
       "      <td>NaN</td>\n",
       "      <td>NaN</td>\n",
       "      <td>NaN</td>\n",
       "      <td>NaN</td>\n",
       "      <td>NaN</td>\n",
       "      <td>NaN</td>\n",
       "      <td>NaN</td>\n",
       "      <td>NaN</td>\n",
       "      <td>NaN</td>\n",
       "      <td>NaN</td>\n",
       "    </tr>\n",
       "    <tr>\n",
       "      <th>M1_03</th>\n",
       "      <td>NaN</td>\n",
       "      <td>NaN</td>\n",
       "      <td>NaN</td>\n",
       "      <td>NaN</td>\n",
       "      <td>NaN</td>\n",
       "      <td>NaN</td>\n",
       "      <td>NaN</td>\n",
       "      <td>NaN</td>\n",
       "      <td>NaN</td>\n",
       "      <td>NaN</td>\n",
       "      <td>...</td>\n",
       "      <td>0.87</td>\n",
       "      <td>0.82</td>\n",
       "      <td>0.94</td>\n",
       "      <td>0.97</td>\n",
       "      <td>NaN</td>\n",
       "      <td>NaN</td>\n",
       "      <td>NaN</td>\n",
       "      <td>NaN</td>\n",
       "      <td>NaN</td>\n",
       "      <td>NaN</td>\n",
       "    </tr>\n",
       "    <tr>\n",
       "      <th>M1_04</th>\n",
       "      <td>NaN</td>\n",
       "      <td>NaN</td>\n",
       "      <td>NaN</td>\n",
       "      <td>NaN</td>\n",
       "      <td>NaN</td>\n",
       "      <td>NaN</td>\n",
       "      <td>NaN</td>\n",
       "      <td>NaN</td>\n",
       "      <td>NaN</td>\n",
       "      <td>NaN</td>\n",
       "      <td>...</td>\n",
       "      <td>NaN</td>\n",
       "      <td>NaN</td>\n",
       "      <td>NaN</td>\n",
       "      <td>NaN</td>\n",
       "      <td>NaN</td>\n",
       "      <td>NaN</td>\n",
       "      <td>NaN</td>\n",
       "      <td>NaN</td>\n",
       "      <td>NaN</td>\n",
       "      <td>NaN</td>\n",
       "    </tr>\n",
       "    <tr>\n",
       "      <th>M1_05</th>\n",
       "      <td>NaN</td>\n",
       "      <td>NaN</td>\n",
       "      <td>NaN</td>\n",
       "      <td>NaN</td>\n",
       "      <td>NaN</td>\n",
       "      <td>NaN</td>\n",
       "      <td>NaN</td>\n",
       "      <td>NaN</td>\n",
       "      <td>NaN</td>\n",
       "      <td>NaN</td>\n",
       "      <td>...</td>\n",
       "      <td>NaN</td>\n",
       "      <td>NaN</td>\n",
       "      <td>NaN</td>\n",
       "      <td>NaN</td>\n",
       "      <td>NaN</td>\n",
       "      <td>NaN</td>\n",
       "      <td>NaN</td>\n",
       "      <td>NaN</td>\n",
       "      <td>NaN</td>\n",
       "      <td>NaN</td>\n",
       "    </tr>\n",
       "  </tbody>\n",
       "</table>\n",
       "<p>5 rows × 63201 columns</p>\n",
       "</div>"
      ],
      "text/plain": [
       "       chr10:100148111:100148265:-@chr10:100147622:100147841:-@chr10:100146958:100147064:-  \\\n",
       "M1_01                                                NaN                                     \n",
       "M1_02                                                NaN                                     \n",
       "M1_03                                                NaN                                     \n",
       "M1_04                                                NaN                                     \n",
       "M1_05                                                NaN                                     \n",
       "\n",
       "       chr10:100150355:100150511:-@chr10:100148111:100148265:-@chr10:100146958:100147064:-  \\\n",
       "M1_01                                                NaN                                     \n",
       "M1_02                                                NaN                                     \n",
       "M1_03                                                NaN                                     \n",
       "M1_04                                                NaN                                     \n",
       "M1_05                                                NaN                                     \n",
       "\n",
       "       chr10:100150839:100150628|100150767:-@chr10:100150355:100150511:-  \\\n",
       "M1_01                                                NaN                   \n",
       "M1_02                                                NaN                   \n",
       "M1_03                                                NaN                   \n",
       "M1_04                                                NaN                   \n",
       "M1_05                                                NaN                   \n",
       "\n",
       "       chr10:100170715:100170370|100170696:-@chr10:100167661:100167754:-  \\\n",
       "M1_01                                                NaN                   \n",
       "M1_02                                                NaN                   \n",
       "M1_03                                                NaN                   \n",
       "M1_04                                                NaN                   \n",
       "M1_05                                                NaN                   \n",
       "\n",
       "       chr10:100174766:100174978:-@chr10:100174489:100174591:-@chr10:100173705:100174052:-  \\\n",
       "M1_01                                                NaN                                     \n",
       "M1_02                                                NaN                                     \n",
       "M1_03                                                NaN                                     \n",
       "M1_04                                                NaN                                     \n",
       "M1_05                                                NaN                                     \n",
       "\n",
       "       chr10:100185575:100185742:-@chr10:100185441|100185477:100185298:-  \\\n",
       "M1_01                                                NaN                   \n",
       "M1_02                                                NaN                   \n",
       "M1_03                                                NaN                   \n",
       "M1_04                                                NaN                   \n",
       "M1_05                                                NaN                   \n",
       "\n",
       "       chr10:100186972:100187021:-@chr10:100185575:100185742:-@chr10:100185298:100185477:-  \\\n",
       "M1_01                                                NaN                                     \n",
       "M1_02                                                NaN                                     \n",
       "M1_03                                                NaN                                     \n",
       "M1_04                                                NaN                                     \n",
       "M1_05                                                NaN                                     \n",
       "\n",
       "       chr10:100190328:100190427:-@chr10:100189548:100189646:-@chr10:100189330:100189399:-  \\\n",
       "M1_01                                                NaN                                     \n",
       "M1_02                                                NaN                                     \n",
       "M1_03                                                NaN                                     \n",
       "M1_04                                                NaN                                     \n",
       "M1_05                                                NaN                                     \n",
       "\n",
       "       chr10:100193697:100193848:-@chr10:100190888:100191048:-@chr10:100190328:100190427:-  \\\n",
       "M1_01                                                NaN                                     \n",
       "M1_02                                                NaN                                     \n",
       "M1_03                                                NaN                                     \n",
       "M1_04                                                NaN                                     \n",
       "M1_05                                                NaN                                     \n",
       "\n",
       "       chr10:100193740:100193848:-@chr10:100190888:100191048:-@chr10:100190328:100190427:-  \\\n",
       "M1_01                                                NaN                                     \n",
       "M1_02                                                NaN                                     \n",
       "M1_03                                                NaN                                     \n",
       "M1_04                                                NaN                                     \n",
       "M1_05                                                NaN                                     \n",
       "\n",
       "                           ...                        \\\n",
       "M1_01                      ...                         \n",
       "M1_02                      ...                         \n",
       "M1_03                      ...                         \n",
       "M1_04                      ...                         \n",
       "M1_05                      ...                         \n",
       "\n",
       "       chrY:59222127:59222216|59222281:+@chrY:59230782:59230919:+  \\\n",
       "M1_01                                                NaN            \n",
       "M1_02                                                NaN            \n",
       "M1_03                                               0.87            \n",
       "M1_04                                                NaN            \n",
       "M1_05                                                NaN            \n",
       "\n",
       "       chrY:59222127:59222277|59222281:+@chrY:59230782:59230919:+  \\\n",
       "M1_01                                                NaN            \n",
       "M1_02                                                NaN            \n",
       "M1_03                                               0.82            \n",
       "M1_04                                                NaN            \n",
       "M1_05                                                NaN            \n",
       "\n",
       "       chrY:59222127:59222281:+@chrY:59228292:59228349:+@chrY:59230782:59230919:+  \\\n",
       "M1_01                                                NaN                            \n",
       "M1_02                                                NaN                            \n",
       "M1_03                                               0.94                            \n",
       "M1_04                                                NaN                            \n",
       "M1_05                                                NaN                            \n",
       "\n",
       "       chrY:59233167:59233257:+@chrY:59252483:59252550:+@chrY:59272371:59272463:+  \\\n",
       "M1_01                                                NaN                            \n",
       "M1_02                                                NaN                            \n",
       "M1_03                                               0.97                            \n",
       "M1_04                                                NaN                            \n",
       "M1_05                                                NaN                            \n",
       "\n",
       "       chrY:6780129:6780213:+@chrY:6846254:6846284:+@chrY:6863845:6863939:+@chrY:6889490:6889578:+  \\\n",
       "M1_01                                                NaN                                             \n",
       "M1_02                                                NaN                                             \n",
       "M1_03                                                NaN                                             \n",
       "M1_04                                                NaN                                             \n",
       "M1_05                                                NaN                                             \n",
       "\n",
       "       chrY:6846254:6846284:+@chrY:6863845:6863939:+@chrY:6889490:6889578:+  \\\n",
       "M1_01                                                NaN                      \n",
       "M1_02                                                NaN                      \n",
       "M1_03                                                NaN                      \n",
       "M1_04                                                NaN                      \n",
       "M1_05                                                NaN                      \n",
       "\n",
       "       chrY:6889490:6889578:+@chrY:6893076:6893183:+@chrY:6911021:6911166:+  \\\n",
       "M1_01                                                NaN                      \n",
       "M1_02                                                NaN                      \n",
       "M1_03                                                NaN                      \n",
       "M1_04                                                NaN                      \n",
       "M1_05                                                NaN                      \n",
       "\n",
       "       chrY:6931938:6932190:+@chrY:6934736:6934869:+@chrY:6938237:6938369:+  \\\n",
       "M1_01                                                NaN                      \n",
       "M1_02                                                NaN                      \n",
       "M1_03                                                NaN                      \n",
       "M1_04                                                NaN                      \n",
       "M1_05                                                NaN                      \n",
       "\n",
       "       chrY:9236076-9236162:+@chrY:9236424-9236561:+  \\\n",
       "M1_01                                            NaN   \n",
       "M1_02                                            NaN   \n",
       "M1_03                                            NaN   \n",
       "M1_04                                            NaN   \n",
       "M1_05                                            NaN   \n",
       "\n",
       "       chrY:9365535-9365621:+@chrY:9365883-9366020:+  \n",
       "M1_01                                            NaN  \n",
       "M1_02                                            NaN  \n",
       "M1_03                                            NaN  \n",
       "M1_04                                            NaN  \n",
       "M1_05                                            NaN  \n",
       "\n",
       "[5 rows x 63201 columns]"
      ]
     },
     "execution_count": 4,
     "metadata": {},
     "output_type": "execute_result"
    }
   ],
   "source": [
    "miso_psi_filename = '/projects/ps-yeolab/obotvinnik/flotilla_projects/singlecell_pnms/splicing.csv.gz'\n",
    "miso_psi = pd.read_csv(miso_psi_filename, index_col=0, compression='gzip')\n",
    "print(miso_psi.shape)\n",
    "miso_psi.head()"
   ]
  },
  {
   "cell_type": "code",
   "execution_count": 6,
   "metadata": {
    "collapsed": false
   },
   "outputs": [
    {
     "name": "stdout",
     "output_type": "stream",
     "text": [
      "(17380275, 3)\n",
      "(2575320, 3)\n"
     ]
    },
    {
     "data": {
      "text/html": [
       "<div>\n",
       "<table border=\"1\" class=\"dataframe\">\n",
       "  <thead>\n",
       "    <tr style=\"text-align: right;\">\n",
       "      <th></th>\n",
       "      <th>miso_id</th>\n",
       "      <th>sample_id</th>\n",
       "      <th>miso_psi</th>\n",
       "    </tr>\n",
       "  </thead>\n",
       "  <tbody>\n",
       "    <tr>\n",
       "      <th>274</th>\n",
       "      <td>chr10:100148111:100148265:-@chr10:100147622:10...</td>\n",
       "      <td>CVN_35</td>\n",
       "      <td>0.92</td>\n",
       "    </tr>\n",
       "    <tr>\n",
       "      <th>487</th>\n",
       "      <td>chr10:100150355:100150511:-@chr10:100148111:10...</td>\n",
       "      <td>N3_10</td>\n",
       "      <td>0.04</td>\n",
       "    </tr>\n",
       "    <tr>\n",
       "      <th>549</th>\n",
       "      <td>chr10:100150355:100150511:-@chr10:100148111:10...</td>\n",
       "      <td>CVN_35</td>\n",
       "      <td>0.15</td>\n",
       "    </tr>\n",
       "    <tr>\n",
       "      <th>824</th>\n",
       "      <td>chr10:100150839:100150628|100150767:-@chr10:10...</td>\n",
       "      <td>CVN_35</td>\n",
       "      <td>0.17</td>\n",
       "    </tr>\n",
       "    <tr>\n",
       "      <th>1037</th>\n",
       "      <td>chr10:100170715:100170370|100170696:-@chr10:10...</td>\n",
       "      <td>N3_10</td>\n",
       "      <td>0.02</td>\n",
       "    </tr>\n",
       "  </tbody>\n",
       "</table>\n",
       "</div>"
      ],
      "text/plain": [
       "                                                miso_id sample_id  miso_psi\n",
       "274   chr10:100148111:100148265:-@chr10:100147622:10...    CVN_35      0.92\n",
       "487   chr10:100150355:100150511:-@chr10:100148111:10...     N3_10      0.04\n",
       "549   chr10:100150355:100150511:-@chr10:100148111:10...    CVN_35      0.15\n",
       "824   chr10:100150839:100150628|100150767:-@chr10:10...    CVN_35      0.17\n",
       "1037  chr10:100170715:100170370|100170696:-@chr10:10...     N3_10      0.02"
      ]
     },
     "execution_count": 6,
     "metadata": {},
     "output_type": "execute_result"
    }
   ],
   "source": [
    "miso_psi_tidy = miso_psi.unstack().reset_index()\n",
    "miso_psi_tidy = miso_psi_tidy.rename(columns={'level_0':'miso_id', 'level_1':'sample_id', 0:'miso_psi'})\n",
    "print(miso_psi_tidy.shape)\n",
    "miso_psi_tidy = miso_psi_tidy.dropna()\n",
    "print(miso_psi_tidy.shape)\n",
    "miso_psi_tidy.head()"
   ]
  },
  {
   "cell_type": "code",
   "execution_count": 21,
   "metadata": {
    "collapsed": false
   },
   "outputs": [
    {
     "data": {
      "text/html": [
       "<div>\n",
       "<table border=\"1\" class=\"dataframe\">\n",
       "  <thead>\n",
       "    <tr style=\"text-align: right;\">\n",
       "      <th></th>\n",
       "      <th>miso_id</th>\n",
       "      <th>sample_id</th>\n",
       "      <th>miso_psi</th>\n",
       "      <th>n_exons</th>\n",
       "    </tr>\n",
       "  </thead>\n",
       "  <tbody>\n",
       "    <tr>\n",
       "      <th>274</th>\n",
       "      <td>chr10:100148111:100148265:-@chr10:100147622:10...</td>\n",
       "      <td>CVN_35</td>\n",
       "      <td>0.92</td>\n",
       "      <td>3</td>\n",
       "    </tr>\n",
       "    <tr>\n",
       "      <th>487</th>\n",
       "      <td>chr10:100150355:100150511:-@chr10:100148111:10...</td>\n",
       "      <td>N3_10</td>\n",
       "      <td>0.04</td>\n",
       "      <td>3</td>\n",
       "    </tr>\n",
       "    <tr>\n",
       "      <th>549</th>\n",
       "      <td>chr10:100150355:100150511:-@chr10:100148111:10...</td>\n",
       "      <td>CVN_35</td>\n",
       "      <td>0.15</td>\n",
       "      <td>3</td>\n",
       "    </tr>\n",
       "    <tr>\n",
       "      <th>824</th>\n",
       "      <td>chr10:100150839:100150628|100150767:-@chr10:10...</td>\n",
       "      <td>CVN_35</td>\n",
       "      <td>0.17</td>\n",
       "      <td>2</td>\n",
       "    </tr>\n",
       "    <tr>\n",
       "      <th>1037</th>\n",
       "      <td>chr10:100170715:100170370|100170696:-@chr10:10...</td>\n",
       "      <td>N3_10</td>\n",
       "      <td>0.02</td>\n",
       "      <td>2</td>\n",
       "    </tr>\n",
       "  </tbody>\n",
       "</table>\n",
       "</div>"
      ],
      "text/plain": [
       "                                                miso_id sample_id  miso_psi  \\\n",
       "274   chr10:100148111:100148265:-@chr10:100147622:10...    CVN_35      0.92   \n",
       "487   chr10:100150355:100150511:-@chr10:100148111:10...     N3_10      0.04   \n",
       "549   chr10:100150355:100150511:-@chr10:100148111:10...    CVN_35      0.15   \n",
       "824   chr10:100150839:100150628|100150767:-@chr10:10...    CVN_35      0.17   \n",
       "1037  chr10:100170715:100170370|100170696:-@chr10:10...     N3_10      0.02   \n",
       "\n",
       "      n_exons  \n",
       "274         3  \n",
       "487         3  \n",
       "549         3  \n",
       "824         2  \n",
       "1037        2  "
      ]
     },
     "execution_count": 21,
     "metadata": {},
     "output_type": "execute_result"
    }
   ],
   "source": [
    "miso_psi_tidy['n_exons'] = miso_psi_tidy['miso_id'].map(lambda x: len(x.split('@')))\n",
    "miso_psi_tidy.head()"
   ]
  },
  {
   "cell_type": "markdown",
   "metadata": {},
   "source": [
    "Use only SE and MXE events"
   ]
  },
  {
   "cell_type": "code",
   "execution_count": 58,
   "metadata": {
    "collapsed": false
   },
   "outputs": [
    {
     "data": {
      "text/plain": [
       "(1606532, 4)"
      ]
     },
     "execution_count": 58,
     "metadata": {},
     "output_type": "execute_result"
    }
   ],
   "source": [
    "miso_psi_tidy = miso_psi_tidy.loc[miso_psi_tidy['n_exons'] >= 3]\n",
    "miso_psi_tidy.shape"
   ]
  },
  {
   "cell_type": "code",
   "execution_count": 59,
   "metadata": {
    "collapsed": false
   },
   "outputs": [
    {
     "name": "stdout",
     "output_type": "stream",
     "text": [
      "(3337440, 3)\n",
      "(979111, 3)\n"
     ]
    },
    {
     "data": {
      "text/html": [
       "<div>\n",
       "<table border=\"1\" class=\"dataframe\">\n",
       "  <thead>\n",
       "    <tr style=\"text-align: right;\">\n",
       "      <th></th>\n",
       "      <th>outrigger_id</th>\n",
       "      <th>sample_id</th>\n",
       "      <th>outrigger_psi</th>\n",
       "    </tr>\n",
       "  </thead>\n",
       "  <tbody>\n",
       "    <tr>\n",
       "      <th>33</th>\n",
       "      <td>exon:chr10:100190328-100190427:-@exon:chr10:10...</td>\n",
       "      <td>CVN_35</td>\n",
       "      <td>1</td>\n",
       "    </tr>\n",
       "    <tr>\n",
       "      <th>87</th>\n",
       "      <td>exon:chr10:100190328-100190427:-@exon:chr10:10...</td>\n",
       "      <td>M2nd_34</td>\n",
       "      <td>0</td>\n",
       "    </tr>\n",
       "    <tr>\n",
       "      <th>150</th>\n",
       "      <td>exon:chr10:100190328-100190427:-@exon:chr10:10...</td>\n",
       "      <td>P1_06</td>\n",
       "      <td>1</td>\n",
       "    </tr>\n",
       "    <tr>\n",
       "      <th>154</th>\n",
       "      <td>exon:chr10:100190328-100190427:-@exon:chr10:10...</td>\n",
       "      <td>P1_10</td>\n",
       "      <td>0</td>\n",
       "    </tr>\n",
       "    <tr>\n",
       "      <th>159</th>\n",
       "      <td>exon:chr10:100190328-100190427:-@exon:chr10:10...</td>\n",
       "      <td>P2_03</td>\n",
       "      <td>0</td>\n",
       "    </tr>\n",
       "  </tbody>\n",
       "</table>\n",
       "</div>"
      ],
      "text/plain": [
       "                                          outrigger_id sample_id  \\\n",
       "33   exon:chr10:100190328-100190427:-@exon:chr10:10...    CVN_35   \n",
       "87   exon:chr10:100190328-100190427:-@exon:chr10:10...   M2nd_34   \n",
       "150  exon:chr10:100190328-100190427:-@exon:chr10:10...     P1_06   \n",
       "154  exon:chr10:100190328-100190427:-@exon:chr10:10...     P1_10   \n",
       "159  exon:chr10:100190328-100190427:-@exon:chr10:10...     P2_03   \n",
       "\n",
       "     outrigger_psi  \n",
       "33               1  \n",
       "87               0  \n",
       "150              1  \n",
       "154              0  \n",
       "159              0  "
      ]
     },
     "execution_count": 59,
     "metadata": {},
     "output_type": "execute_result"
    }
   ],
   "source": [
    "outrigger_tidy = study.splicing.data.unstack().reset_index()\n",
    "outrigger_tidy = outrigger_tidy.rename(columns={'level_0':'outrigger_id', 'level_1':'sample_id', 0:'outrigger_psi'})\n",
    "print(outrigger_tidy.shape)\n",
    "outrigger_tidy = outrigger_tidy.dropna()\n",
    "print(outrigger_tidy.shape)\n",
    "outrigger_tidy.head()"
   ]
  },
  {
   "cell_type": "code",
   "execution_count": 60,
   "metadata": {
    "collapsed": false
   },
   "outputs": [
    {
     "data": {
      "text/plain": [
       "array([ 'exon:chr10:100190328-100190427:-@exon:chr10:100189548-100189646:-@exon:chr10:100189330-100189399:-',\n",
       "       'exon:chr10:100190328-100190427:-@exon:chr10:100189548-100189646:-@exon:chr10:100189330-100189399:-',\n",
       "       'exon:chr10:100190328-100190427:-@exon:chr10:100189548-100189646:-@exon:chr10:100189330-100189399:-',\n",
       "       'exon:chr10:100190328-100190427:-@exon:chr10:100189548-100189646:-@exon:chr10:100189330-100189399:-',\n",
       "       'exon:chr10:100190328-100190427:-@exon:chr10:100189548-100189646:-@exon:chr10:100189330-100189399:-'], dtype=object)"
      ]
     },
     "execution_count": 60,
     "metadata": {},
     "output_type": "execute_result"
    }
   ],
   "source": [
    "outrigger_tidy['outrigger_id'].head().values"
   ]
  },
  {
   "cell_type": "code",
   "execution_count": 61,
   "metadata": {
    "collapsed": false
   },
   "outputs": [
    {
     "data": {
      "text/plain": [
       "array([], dtype=object)"
      ]
     },
     "execution_count": 61,
     "metadata": {},
     "output_type": "execute_result"
    }
   ],
   "source": [
    "rows = outrigger_tidy['outrigger_id'].str.startswith('exon:chr10:1001503')\n",
    "outrigger_tidy['outrigger_id'][rows].head().values"
   ]
  },
  {
   "cell_type": "code",
   "execution_count": 62,
   "metadata": {
    "collapsed": false
   },
   "outputs": [
    {
     "data": {
      "text/plain": [
       "array([ 'chr10:100148111:100148265:-@chr10:100147622:100147841:-@chr10:100146958:100147064:-',\n",
       "       'chr10:100150355:100150511:-@chr10:100148111:100148265:-@chr10:100146958:100147064:-',\n",
       "       'chr10:100150355:100150511:-@chr10:100148111:100148265:-@chr10:100146958:100147064:-',\n",
       "       'chr10:100174766:100174978:-@chr10:100174489:100174591:-@chr10:100173705:100174052:-',\n",
       "       'chr10:100186972:100187021:-@chr10:100185575:100185742:-@chr10:100185298:100185477:-'], dtype=object)"
      ]
     },
     "execution_count": 62,
     "metadata": {},
     "output_type": "execute_result"
    }
   ],
   "source": [
    "miso_psi_tidy['miso_id'].head().values"
   ]
  },
  {
   "cell_type": "code",
   "execution_count": 65,
   "metadata": {
    "collapsed": false
   },
   "outputs": [
    {
     "data": {
      "text/plain": [
       "'exon:chr10:100190328:100190427:-@exon:chr10:100189548:100189646:-@exon:chr10:100189330:100189399:-'"
      ]
     },
     "execution_count": 65,
     "metadata": {},
     "output_type": "execute_result"
    }
   ],
   "source": [
    "import re\n",
    "\n",
    "s = 'exon:chr10:100190328-100190427:-@exon:chr10:100189548-100189646:-@exon:chr10:100189330-100189399:-'\n",
    "pattern = '-(?=\\d)'\n",
    "re.sub(pattern, ':', s)"
   ]
  },
  {
   "cell_type": "code",
   "execution_count": 66,
   "metadata": {
    "collapsed": false
   },
   "outputs": [
    {
     "data": {
      "text/html": [
       "<div>\n",
       "<table border=\"1\" class=\"dataframe\">\n",
       "  <thead>\n",
       "    <tr style=\"text-align: right;\">\n",
       "      <th></th>\n",
       "      <th>outrigger_id</th>\n",
       "      <th>sample_id</th>\n",
       "      <th>outrigger_psi</th>\n",
       "      <th>miso_id</th>\n",
       "    </tr>\n",
       "  </thead>\n",
       "  <tbody>\n",
       "    <tr>\n",
       "      <th>33</th>\n",
       "      <td>exon:chr10:100190328-100190427:-@exon:chr10:10...</td>\n",
       "      <td>CVN_35</td>\n",
       "      <td>1</td>\n",
       "      <td>chr10:100190328:100190427:-@chr10:100189548:10...</td>\n",
       "    </tr>\n",
       "    <tr>\n",
       "      <th>87</th>\n",
       "      <td>exon:chr10:100190328-100190427:-@exon:chr10:10...</td>\n",
       "      <td>M2nd_34</td>\n",
       "      <td>0</td>\n",
       "      <td>chr10:100190328:100190427:-@chr10:100189548:10...</td>\n",
       "    </tr>\n",
       "    <tr>\n",
       "      <th>150</th>\n",
       "      <td>exon:chr10:100190328-100190427:-@exon:chr10:10...</td>\n",
       "      <td>P1_06</td>\n",
       "      <td>1</td>\n",
       "      <td>chr10:100190328:100190427:-@chr10:100189548:10...</td>\n",
       "    </tr>\n",
       "    <tr>\n",
       "      <th>154</th>\n",
       "      <td>exon:chr10:100190328-100190427:-@exon:chr10:10...</td>\n",
       "      <td>P1_10</td>\n",
       "      <td>0</td>\n",
       "      <td>chr10:100190328:100190427:-@chr10:100189548:10...</td>\n",
       "    </tr>\n",
       "    <tr>\n",
       "      <th>159</th>\n",
       "      <td>exon:chr10:100190328-100190427:-@exon:chr10:10...</td>\n",
       "      <td>P2_03</td>\n",
       "      <td>0</td>\n",
       "      <td>chr10:100190328:100190427:-@chr10:100189548:10...</td>\n",
       "    </tr>\n",
       "  </tbody>\n",
       "</table>\n",
       "</div>"
      ],
      "text/plain": [
       "                                          outrigger_id sample_id  \\\n",
       "33   exon:chr10:100190328-100190427:-@exon:chr10:10...    CVN_35   \n",
       "87   exon:chr10:100190328-100190427:-@exon:chr10:10...   M2nd_34   \n",
       "150  exon:chr10:100190328-100190427:-@exon:chr10:10...     P1_06   \n",
       "154  exon:chr10:100190328-100190427:-@exon:chr10:10...     P1_10   \n",
       "159  exon:chr10:100190328-100190427:-@exon:chr10:10...     P2_03   \n",
       "\n",
       "     outrigger_psi                                            miso_id  \n",
       "33               1  chr10:100190328:100190427:-@chr10:100189548:10...  \n",
       "87               0  chr10:100190328:100190427:-@chr10:100189548:10...  \n",
       "150              1  chr10:100190328:100190427:-@chr10:100189548:10...  \n",
       "154              0  chr10:100190328:100190427:-@chr10:100189548:10...  \n",
       "159              0  chr10:100190328:100190427:-@chr10:100189548:10...  "
      ]
     },
     "execution_count": 66,
     "metadata": {},
     "output_type": "execute_result"
    }
   ],
   "source": [
    "outrigger_tidy['miso_id'] = outrigger_tidy['outrigger_id'].map(lambda x: re.sub(pattern, ':', x).replace('exon:', ''))\n",
    "outrigger_tidy.head()"
   ]
  },
  {
   "cell_type": "code",
   "execution_count": 67,
   "metadata": {
    "collapsed": false
   },
   "outputs": [
    {
     "data": {
      "text/plain": [
       "array([ 'chr10:100190328:100190427:-@chr10:100189548:100189646:-@chr10:100189330:100189399:-',\n",
       "       'chr10:100190328:100190427:-@chr10:100189548:100189646:-@chr10:100189330:100189399:-',\n",
       "       'chr10:100190328:100190427:-@chr10:100189548:100189646:-@chr10:100189330:100189399:-',\n",
       "       'chr10:100190328:100190427:-@chr10:100189548:100189646:-@chr10:100189330:100189399:-',\n",
       "       'chr10:100190328:100190427:-@chr10:100189548:100189646:-@chr10:100189330:100189399:-'], dtype=object)"
      ]
     },
     "execution_count": 67,
     "metadata": {},
     "output_type": "execute_result"
    }
   ],
   "source": [
    "outrigger_tidy['miso_id'].head().values"
   ]
  },
  {
   "cell_type": "code",
   "execution_count": 68,
   "metadata": {
    "collapsed": false
   },
   "outputs": [
    {
     "name": "stdout",
     "output_type": "stream",
     "text": [
      "(2412159, 6)\n"
     ]
    },
    {
     "data": {
      "text/html": [
       "<div>\n",
       "<table border=\"1\" class=\"dataframe\">\n",
       "  <thead>\n",
       "    <tr style=\"text-align: right;\">\n",
       "      <th></th>\n",
       "      <th>outrigger_id</th>\n",
       "      <th>sample_id</th>\n",
       "      <th>outrigger_psi</th>\n",
       "      <th>miso_id</th>\n",
       "      <th>miso_psi</th>\n",
       "      <th>n_exons</th>\n",
       "    </tr>\n",
       "  </thead>\n",
       "  <tbody>\n",
       "    <tr>\n",
       "      <th>0</th>\n",
       "      <td>exon:chr10:100190328-100190427:-@exon:chr10:10...</td>\n",
       "      <td>CVN_35</td>\n",
       "      <td>1</td>\n",
       "      <td>chr10:100190328:100190427:-@chr10:100189548:10...</td>\n",
       "      <td>0.76</td>\n",
       "      <td>3</td>\n",
       "    </tr>\n",
       "    <tr>\n",
       "      <th>1</th>\n",
       "      <td>exon:chr10:100190328-100190427:-@exon:chr10:10...</td>\n",
       "      <td>M2nd_34</td>\n",
       "      <td>0</td>\n",
       "      <td>chr10:100190328:100190427:-@chr10:100189548:10...</td>\n",
       "      <td>NaN</td>\n",
       "      <td>NaN</td>\n",
       "    </tr>\n",
       "    <tr>\n",
       "      <th>2</th>\n",
       "      <td>exon:chr10:100190328-100190427:-@exon:chr10:10...</td>\n",
       "      <td>P1_06</td>\n",
       "      <td>1</td>\n",
       "      <td>chr10:100190328:100190427:-@chr10:100189548:10...</td>\n",
       "      <td>NaN</td>\n",
       "      <td>NaN</td>\n",
       "    </tr>\n",
       "    <tr>\n",
       "      <th>3</th>\n",
       "      <td>exon:chr10:100190328-100190427:-@exon:chr10:10...</td>\n",
       "      <td>P1_10</td>\n",
       "      <td>0</td>\n",
       "      <td>chr10:100190328:100190427:-@chr10:100189548:10...</td>\n",
       "      <td>0.03</td>\n",
       "      <td>3</td>\n",
       "    </tr>\n",
       "    <tr>\n",
       "      <th>4</th>\n",
       "      <td>exon:chr10:100190328-100190427:-@exon:chr10:10...</td>\n",
       "      <td>P2_03</td>\n",
       "      <td>0</td>\n",
       "      <td>chr10:100190328:100190427:-@chr10:100189548:10...</td>\n",
       "      <td>0.02</td>\n",
       "      <td>3</td>\n",
       "    </tr>\n",
       "  </tbody>\n",
       "</table>\n",
       "</div>"
      ],
      "text/plain": [
       "                                        outrigger_id sample_id  outrigger_psi  \\\n",
       "0  exon:chr10:100190328-100190427:-@exon:chr10:10...    CVN_35              1   \n",
       "1  exon:chr10:100190328-100190427:-@exon:chr10:10...   M2nd_34              0   \n",
       "2  exon:chr10:100190328-100190427:-@exon:chr10:10...     P1_06              1   \n",
       "3  exon:chr10:100190328-100190427:-@exon:chr10:10...     P1_10              0   \n",
       "4  exon:chr10:100190328-100190427:-@exon:chr10:10...     P2_03              0   \n",
       "\n",
       "                                             miso_id  miso_psi  n_exons  \n",
       "0  chr10:100190328:100190427:-@chr10:100189548:10...      0.76        3  \n",
       "1  chr10:100190328:100190427:-@chr10:100189548:10...       NaN      NaN  \n",
       "2  chr10:100190328:100190427:-@chr10:100189548:10...       NaN      NaN  \n",
       "3  chr10:100190328:100190427:-@chr10:100189548:10...      0.03        3  \n",
       "4  chr10:100190328:100190427:-@chr10:100189548:10...      0.02        3  "
      ]
     },
     "execution_count": 68,
     "metadata": {},
     "output_type": "execute_result"
    }
   ],
   "source": [
    "merge_cols = ['miso_id', 'sample_id']\n",
    "splicing_tidy = outrigger_tidy.merge(miso_psi_tidy, left_on=merge_cols, right_on=merge_cols, how='outer')\n",
    "print(splicing_tidy.shape)\n",
    "splicing_tidy.head()"
   ]
  },
  {
   "cell_type": "code",
   "execution_count": 70,
   "metadata": {
    "collapsed": false
   },
   "outputs": [
    {
     "data": {
      "text/html": [
       "<div>\n",
       "<table border=\"1\" class=\"dataframe\">\n",
       "  <thead>\n",
       "    <tr style=\"text-align: right;\">\n",
       "      <th></th>\n",
       "      <th>outrigger_id</th>\n",
       "      <th>sample_id</th>\n",
       "      <th>outrigger_psi</th>\n",
       "      <th>miso_id</th>\n",
       "      <th>miso_psi</th>\n",
       "      <th>n_exons</th>\n",
       "    </tr>\n",
       "  </thead>\n",
       "  <tbody>\n",
       "    <tr>\n",
       "      <th>0</th>\n",
       "      <td>exon:chr10:100190328-100190427:-@exon:chr10:10...</td>\n",
       "      <td>CVN_35</td>\n",
       "      <td>1</td>\n",
       "      <td>chr10:100190328:100190427:-@chr10:100189548:10...</td>\n",
       "      <td>0.76</td>\n",
       "      <td>3.0</td>\n",
       "    </tr>\n",
       "    <tr>\n",
       "      <th>1</th>\n",
       "      <td>exon:chr10:100190328-100190427:-@exon:chr10:10...</td>\n",
       "      <td>M2nd_34</td>\n",
       "      <td>0</td>\n",
       "      <td>chr10:100190328:100190427:-@chr10:100189548:10...</td>\n",
       "      <td>-0.10</td>\n",
       "      <td>-0.1</td>\n",
       "    </tr>\n",
       "    <tr>\n",
       "      <th>2</th>\n",
       "      <td>exon:chr10:100190328-100190427:-@exon:chr10:10...</td>\n",
       "      <td>P1_06</td>\n",
       "      <td>1</td>\n",
       "      <td>chr10:100190328:100190427:-@chr10:100189548:10...</td>\n",
       "      <td>-0.10</td>\n",
       "      <td>-0.1</td>\n",
       "    </tr>\n",
       "    <tr>\n",
       "      <th>3</th>\n",
       "      <td>exon:chr10:100190328-100190427:-@exon:chr10:10...</td>\n",
       "      <td>P1_10</td>\n",
       "      <td>0</td>\n",
       "      <td>chr10:100190328:100190427:-@chr10:100189548:10...</td>\n",
       "      <td>0.03</td>\n",
       "      <td>3.0</td>\n",
       "    </tr>\n",
       "    <tr>\n",
       "      <th>4</th>\n",
       "      <td>exon:chr10:100190328-100190427:-@exon:chr10:10...</td>\n",
       "      <td>P2_03</td>\n",
       "      <td>0</td>\n",
       "      <td>chr10:100190328:100190427:-@chr10:100189548:10...</td>\n",
       "      <td>0.02</td>\n",
       "      <td>3.0</td>\n",
       "    </tr>\n",
       "  </tbody>\n",
       "</table>\n",
       "</div>"
      ],
      "text/plain": [
       "                                        outrigger_id sample_id  outrigger_psi  \\\n",
       "0  exon:chr10:100190328-100190427:-@exon:chr10:10...    CVN_35              1   \n",
       "1  exon:chr10:100190328-100190427:-@exon:chr10:10...   M2nd_34              0   \n",
       "2  exon:chr10:100190328-100190427:-@exon:chr10:10...     P1_06              1   \n",
       "3  exon:chr10:100190328-100190427:-@exon:chr10:10...     P1_10              0   \n",
       "4  exon:chr10:100190328-100190427:-@exon:chr10:10...     P2_03              0   \n",
       "\n",
       "                                             miso_id  miso_psi  n_exons  \n",
       "0  chr10:100190328:100190427:-@chr10:100189548:10...      0.76      3.0  \n",
       "1  chr10:100190328:100190427:-@chr10:100189548:10...     -0.10     -0.1  \n",
       "2  chr10:100190328:100190427:-@chr10:100189548:10...     -0.10     -0.1  \n",
       "3  chr10:100190328:100190427:-@chr10:100189548:10...      0.03      3.0  \n",
       "4  chr10:100190328:100190427:-@chr10:100189548:10...      0.02      3.0  "
      ]
     },
     "execution_count": 70,
     "metadata": {},
     "output_type": "execute_result"
    }
   ],
   "source": [
    "splicing_tidy = splicing_tidy.fillna(-0.1)\n",
    "splicing_tidy.head()"
   ]
  },
  {
   "cell_type": "code",
   "execution_count": 71,
   "metadata": {
    "collapsed": false,
    "scrolled": false
   },
   "outputs": [
    {
     "data": {
      "text/html": [
       "<div>\n",
       "<table border=\"1\" class=\"dataframe\">\n",
       "  <thead>\n",
       "    <tr style=\"text-align: right;\">\n",
       "      <th></th>\n",
       "      <th>outrigger_id</th>\n",
       "      <th>sample_id</th>\n",
       "      <th>outrigger_psi</th>\n",
       "      <th>miso_id</th>\n",
       "      <th>miso_psi</th>\n",
       "      <th>n_exons</th>\n",
       "    </tr>\n",
       "  </thead>\n",
       "  <tbody>\n",
       "    <tr>\n",
       "      <th>84</th>\n",
       "      <td>exon:chr10:101165513-101165617:-@exon:chr10:10...</td>\n",
       "      <td>N2_06</td>\n",
       "      <td>1</td>\n",
       "      <td>chr10:101165513:101165617:-@chr10:101163481:10...</td>\n",
       "      <td>-0.1</td>\n",
       "      <td>-0.1</td>\n",
       "    </tr>\n",
       "    <tr>\n",
       "      <th>690</th>\n",
       "      <td>exon:chr10:102114184-102114389:+@exon:chr10:10...</td>\n",
       "      <td>N2_06</td>\n",
       "      <td>1</td>\n",
       "      <td>chr10:102114184:102114389:+@chr10:102116289:10...</td>\n",
       "      <td>-0.1</td>\n",
       "      <td>-0.1</td>\n",
       "    </tr>\n",
       "    <tr>\n",
       "      <th>890</th>\n",
       "      <td>exon:chr10:102286732-102286831:-@exon:chr10:10...</td>\n",
       "      <td>N2_06</td>\n",
       "      <td>1</td>\n",
       "      <td>chr10:102286732:102286831:-@chr10:102286156:10...</td>\n",
       "      <td>-0.1</td>\n",
       "      <td>-0.1</td>\n",
       "    </tr>\n",
       "    <tr>\n",
       "      <th>1087</th>\n",
       "      <td>exon:chr10:102747070-102747240:-@exon:chr10:10...</td>\n",
       "      <td>N2_06</td>\n",
       "      <td>1</td>\n",
       "      <td>chr10:102747070:102747240:-@chr10:102746847:10...</td>\n",
       "      <td>-0.1</td>\n",
       "      <td>-0.1</td>\n",
       "    </tr>\n",
       "    <tr>\n",
       "      <th>1216</th>\n",
       "      <td>exon:chr10:103190102-103190209:+@exon:chr10:10...</td>\n",
       "      <td>N2_06</td>\n",
       "      <td>1</td>\n",
       "      <td>chr10:103190102:103190209:+@chr10:103213258:10...</td>\n",
       "      <td>-0.1</td>\n",
       "      <td>-0.1</td>\n",
       "    </tr>\n",
       "  </tbody>\n",
       "</table>\n",
       "</div>"
      ],
      "text/plain": [
       "                                           outrigger_id sample_id  \\\n",
       "84    exon:chr10:101165513-101165617:-@exon:chr10:10...     N2_06   \n",
       "690   exon:chr10:102114184-102114389:+@exon:chr10:10...     N2_06   \n",
       "890   exon:chr10:102286732-102286831:-@exon:chr10:10...     N2_06   \n",
       "1087  exon:chr10:102747070-102747240:-@exon:chr10:10...     N2_06   \n",
       "1216  exon:chr10:103190102-103190209:+@exon:chr10:10...     N2_06   \n",
       "\n",
       "      outrigger_psi                                            miso_id  \\\n",
       "84                1  chr10:101165513:101165617:-@chr10:101163481:10...   \n",
       "690               1  chr10:102114184:102114389:+@chr10:102116289:10...   \n",
       "890               1  chr10:102286732:102286831:-@chr10:102286156:10...   \n",
       "1087              1  chr10:102747070:102747240:-@chr10:102746847:10...   \n",
       "1216              1  chr10:103190102:103190209:+@chr10:103213258:10...   \n",
       "\n",
       "      miso_psi  n_exons  \n",
       "84        -0.1     -0.1  \n",
       "690       -0.1     -0.1  \n",
       "890       -0.1     -0.1  \n",
       "1087      -0.1     -0.1  \n",
       "1216      -0.1     -0.1  "
      ]
     },
     "execution_count": 71,
     "metadata": {},
     "output_type": "execute_result"
    }
   ],
   "source": [
    "splicing_tidy_subset = splicing_tidy.query('sample_id == \"N2_06\"')\n",
    "splicing_tidy_subset.head()"
   ]
  },
  {
   "cell_type": "code",
   "execution_count": 72,
   "metadata": {
    "collapsed": false
   },
   "outputs": [
    {
     "data": {
      "text/plain": [
       "<seaborn.axisgrid.JointGrid at 0x2aefed96e090>"
      ]
     },
     "execution_count": 72,
     "metadata": {},
     "output_type": "execute_result"
    },
    {
     "data": {
      "image/png": "[encoded data removed]",
      "text/plain": [
       "<matplotlib.figure.Figure at 0x2aeff86c2ed0>"
      ]
     },
     "metadata": {},
     "output_type": "display_data"
    }
   ],
   "source": [
    "sns.jointplot(x='outrigger_psi', y='miso_psi', data=splicing_tidy_subset)"
   ]
  },
  {
   "cell_type": "code",
   "execution_count": 78,
   "metadata": {
    "collapsed": false
   },
   "outputs": [
    {
     "data": {
      "text/plain": [
       "<seaborn.axisgrid.JointGrid at 0x2af054f9d1d0>"
      ]
     },
     "execution_count": 78,
     "metadata": {},
     "output_type": "execute_result"
    },
    {
     "data": {
      "image/png": "[encoded data removed]",
      "text/plain": [
       "<matplotlib.figure.Figure at 0x2af0552d7510>"
      ]
     },
     "metadata": {},
     "output_type": "display_data"
    }
   ],
   "source": [
    "splicing_tidy_subset = splicing_tidy.query('sample_id == \"P9_02\"')\n",
    "sns.jointplot(x='outrigger_psi', y='miso_psi', data=splicing_tidy_subset, joint_kws=dict(alpha=0.25), color='k')"
   ]
  },
  {
   "cell_type": "code",
   "execution_count": 77,
   "metadata": {
    "collapsed": false
   },
   "outputs": [
    {
     "data": {
      "text/plain": [
       "<seaborn.axisgrid.JointGrid at 0x2af0550d73d0>"
      ]
     },
     "execution_count": 77,
     "metadata": {},
     "output_type": "execute_result"
    },
    {
     "data": {
      "image/png": "[encoded data removed]",
      "text/plain": [
       "<matplotlib.figure.Figure at 0x2af0550d7390>"
      ]
     },
     "metadata": {},
     "output_type": "display_data"
    }
   ],
   "source": [
    "splicing_tidy_subset = splicing_tidy.query('sample_id == \"M2_05\"')\n",
    "sns.jointplot(x='outrigger_psi', y='miso_psi', data=splicing_tidy_subset, alpha=0.25, color='k')"
   ]
  },
  {
   "cell_type": "code",
   "execution_count": null,
   "metadata": {
    "collapsed": true
   },
   "outputs": [],
   "source": []
  }
 ],
 "metadata": {
  "kernelspec": {
   "display_name": "Python 2",
   "language": "python",
   "name": "python2"
  },
  "language_info": {
   "codemirror_mode": {
    "name": "ipython",
    "version": 2
   },
   "file_extension": ".py",
   "mimetype": "text/x-python",
   "name": "python",
   "nbconvert_exporter": "python",
   "pygments_lexer": "ipython2",
   "version": "2.7.11"
  }
 },
 "nbformat": 4,
 "nbformat_minor": 0
}
