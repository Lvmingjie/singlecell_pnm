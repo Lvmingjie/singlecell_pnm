{
 "cells": [
  {
   "cell_type": "code",
   "execution_count": 1,
   "metadata": {
    "collapsed": false
   },
   "outputs": [
    {
     "name": "stdout",
     "output_type": "stream",
     "text": [
      "2015-09-24 11:53:54\tReading datapackage from /home/obotvinnik/flotilla_projects/singlecell_pnm_0.3/datapackage.json\n",
      "2015-09-24 11:53:54\tParsing datapackage to create a Study object\n",
      "2015-09-24 11:54:30\tInitializing Study\n",
      "2015-09-24 11:54:30\tInitializing Predictor configuration manager for Study\n",
      "2015-09-24 11:54:30\tPredictor ExtraTreesClassifier is of type <class 'sklearn.ensemble.forest.ExtraTreesClassifier'>\n",
      "2015-09-24 11:54:30\tAdded ExtraTreesClassifier to default predictors\n",
      "2015-09-24 11:54:30\tPredictor ExtraTreesRegressor is of type <class 'sklearn.ensemble.forest.ExtraTreesRegressor'>\n",
      "2015-09-24 11:54:30\tAdded ExtraTreesRegressor to default predictors\n",
      "2015-09-24 11:54:30\tPredictor GradientBoostingClassifier is of type <class 'sklearn.ensemble.gradient_boosting.GradientBoostingClassifier'>\n",
      "2015-09-24 11:54:30\tAdded GradientBoostingClassifier to default predictors\n",
      "2015-09-24 11:54:30\tPredictor GradientBoostingRegressor is of type <class 'sklearn.ensemble.gradient_boosting.GradientBoostingRegressor'>\n",
      "2015-09-24 11:54:30\tAdded GradientBoostingRegressor to default predictors\n",
      "2015-09-24 11:54:34\tBuilding Gene Ontology database...\n",
      "2015-09-24 11:54:44\t\tDone.\n",
      "2015-09-24 11:54:44\tLoading metadata\n",
      "2015-09-24 11:54:44\tLoading expression data\n",
      "2015-09-24 11:54:44\tInitializing expression\n",
      "2015-09-24 11:54:45\tDone initializing expression\n",
      "2015-09-24 11:54:47\tLoading splicing data\n",
      "2015-09-24 11:54:47\tInitializing splicing\n",
      "2015-09-24 11:54:47\tDone initializing splicing\n",
      "2015-09-24 11:54:47\tSuccessfully initialized a Study object!\n"
     ]
    }
   ],
   "source": [
    "from collections import defaultdict\n",
    "\n",
    "import matplotlib as mpl\n",
    "import matplotlib.pyplot as plt\n",
    "import numpy as np\n",
    "import pandas as pd\n",
    "import seaborn as sns\n",
    "\n",
    "%matplotlib inline\n",
    "\n",
    "\n",
    "import flotilla\n",
    "sns.set(style='ticks', context='talk')\n",
    "\n",
    "folder = '/home/obotvinnik/Dropbox/figures2/singlecell_pnm/figure1_expression'\n",
    "\n",
    "study = flotilla.embark('singlecell_pnm_0.3')"
   ]
  },
  {
   "cell_type": "code",
   "execution_count": 2,
   "metadata": {
    "collapsed": false
   },
   "outputs": [
    {
     "data": {
      "text/html": [
       "<div>\n",
       "<table border=\"1\" class=\"dataframe\">\n",
       "  <thead>\n",
       "    <tr style=\"text-align: right;\">\n",
       "      <th></th>\n",
       "      <th>exon:chr10:100190328-100190427:-@exon:chr10:100189548-100189646:-@exon:chr10:100188908-100189399:-</th>\n",
       "      <th>exon:chr10:100190328-100190427:-@exon:chr10:100189548-100189646:-@exon:chr10:100188913-100189399:-</th>\n",
       "      <th>exon:chr10:100190328-100190427:-@exon:chr10:100189548-100189646:-@exon:chr10:100189330-100189399:-</th>\n",
       "      <th>exon:chr10:100193697-100193848:-@exon:chr10:100190888-100191048:-@exon:chr10:100190328-100190427:-</th>\n",
       "      <th>exon:chr10:100195392-100195529:-@exon:chr10:100195029-100195171:-@exon:chr10:100193697-100193848:-</th>\n",
       "      <th>exon:chr10:100195392-100195529:-@exon:chr10:100195029-100195171:-@exon:chr10:100193740-100193848:-</th>\n",
       "      <th>exon:chr10:101165513-101165617:-@exon:chr10:101163481-101163631:-@exon:chr10:101163226-101163391:-</th>\n",
       "      <th>exon:chr10:101480744-101480825:-@exon:chr10:101478103-101478257:-@exon:chr10:101476105-101476218:-</th>\n",
       "      <th>exon:chr10:101507014-101507147:+@exon:chr10:101510126-101510153:+@exon:chr10:101514286-101514307:+</th>\n",
       "      <th>exon:chr10:101507014-101507147:+@exon:chr10:101510126-101510153:+@exon:chr10:101514286-101514391:+</th>\n",
       "      <th>...</th>\n",
       "      <th>exon:chrY:21903621-21903743:-@exon:chrY:21903204-21903374:-@exon:chrY:21901414-21901548:-</th>\n",
       "      <th>exon:chrY:22744476-22744579:+@exon:chrY:22746360-22746410:+@exon:chrY:22749910-22749991:+</th>\n",
       "      <th>exon:chrY:22744476-22744579:+@exon:chrY:22746360-22746410:+@exon:chrY:22749910-22750415:+</th>\n",
       "      <th>exon:chrY:2709527-2709668:+@exon:chrY:2710206-2710283:+@exon:chrY:2712118-2712298:+</th>\n",
       "      <th>exon:chrY:2710206-2710283:+@exon:chrY:2712118-2712298:+@exon:chrY:2713687-2713784:+</th>\n",
       "      <th>exon:chrY:2712118-2712298:+@exon:chrY:2713687-2713784:+@exon:chrY:2722641-2722812:+</th>\n",
       "      <th>exon:chrY:2713687-2713784:+@exon:chrY:2722641-2722812:+@exon:chrY:2733129-2733286:+</th>\n",
       "      <th>exon:chrY:2722771-2722812:+@exon:chrY:2733129-2733286:+@exon:chrY:2734834-2734903:+</th>\n",
       "      <th>exon:chrY:2722771-2722812:+@exon:chrY:2733129-2733286:+@exon:chrY:2734834-2734997:+</th>\n",
       "      <th>exon:chrY:2722771-2722812:+@exon:chrY:2733129-2733286:+@exon:chrY:2734834-2735309:+</th>\n",
       "    </tr>\n",
       "  </thead>\n",
       "  <tbody>\n",
       "    <tr>\n",
       "      <th>CVN_01</th>\n",
       "      <td>NaN</td>\n",
       "      <td>NaN</td>\n",
       "      <td>NaN</td>\n",
       "      <td>NaN</td>\n",
       "      <td>NaN</td>\n",
       "      <td>NaN</td>\n",
       "      <td>1</td>\n",
       "      <td>NaN</td>\n",
       "      <td>1</td>\n",
       "      <td>1</td>\n",
       "      <td>...</td>\n",
       "      <td>NaN</td>\n",
       "      <td>NaN</td>\n",
       "      <td>NaN</td>\n",
       "      <td>1</td>\n",
       "      <td>1</td>\n",
       "      <td>1</td>\n",
       "      <td>1</td>\n",
       "      <td>1</td>\n",
       "      <td>1</td>\n",
       "      <td>1</td>\n",
       "    </tr>\n",
       "    <tr>\n",
       "      <th>CVN_02</th>\n",
       "      <td>NaN</td>\n",
       "      <td>NaN</td>\n",
       "      <td>NaN</td>\n",
       "      <td>NaN</td>\n",
       "      <td>NaN</td>\n",
       "      <td>NaN</td>\n",
       "      <td>1</td>\n",
       "      <td>NaN</td>\n",
       "      <td>NaN</td>\n",
       "      <td>NaN</td>\n",
       "      <td>...</td>\n",
       "      <td>NaN</td>\n",
       "      <td>1</td>\n",
       "      <td>1</td>\n",
       "      <td>NaN</td>\n",
       "      <td>NaN</td>\n",
       "      <td>NaN</td>\n",
       "      <td>NaN</td>\n",
       "      <td>NaN</td>\n",
       "      <td>NaN</td>\n",
       "      <td>NaN</td>\n",
       "    </tr>\n",
       "    <tr>\n",
       "      <th>CVN_03</th>\n",
       "      <td>NaN</td>\n",
       "      <td>NaN</td>\n",
       "      <td>NaN</td>\n",
       "      <td>NaN</td>\n",
       "      <td>NaN</td>\n",
       "      <td>NaN</td>\n",
       "      <td>1</td>\n",
       "      <td>NaN</td>\n",
       "      <td>NaN</td>\n",
       "      <td>NaN</td>\n",
       "      <td>...</td>\n",
       "      <td>NaN</td>\n",
       "      <td>1</td>\n",
       "      <td>1</td>\n",
       "      <td>NaN</td>\n",
       "      <td>NaN</td>\n",
       "      <td>NaN</td>\n",
       "      <td>NaN</td>\n",
       "      <td>NaN</td>\n",
       "      <td>NaN</td>\n",
       "      <td>NaN</td>\n",
       "    </tr>\n",
       "    <tr>\n",
       "      <th>CVN_04</th>\n",
       "      <td>NaN</td>\n",
       "      <td>NaN</td>\n",
       "      <td>NaN</td>\n",
       "      <td>NaN</td>\n",
       "      <td>NaN</td>\n",
       "      <td>NaN</td>\n",
       "      <td>NaN</td>\n",
       "      <td>NaN</td>\n",
       "      <td>NaN</td>\n",
       "      <td>NaN</td>\n",
       "      <td>...</td>\n",
       "      <td>NaN</td>\n",
       "      <td>NaN</td>\n",
       "      <td>NaN</td>\n",
       "      <td>1</td>\n",
       "      <td>1</td>\n",
       "      <td>1</td>\n",
       "      <td>1</td>\n",
       "      <td>1</td>\n",
       "      <td>1</td>\n",
       "      <td>1</td>\n",
       "    </tr>\n",
       "    <tr>\n",
       "      <th>CVN_05</th>\n",
       "      <td>NaN</td>\n",
       "      <td>NaN</td>\n",
       "      <td>NaN</td>\n",
       "      <td>NaN</td>\n",
       "      <td>NaN</td>\n",
       "      <td>NaN</td>\n",
       "      <td>1</td>\n",
       "      <td>1</td>\n",
       "      <td>NaN</td>\n",
       "      <td>NaN</td>\n",
       "      <td>...</td>\n",
       "      <td>NaN</td>\n",
       "      <td>1</td>\n",
       "      <td>1</td>\n",
       "      <td>1</td>\n",
       "      <td>1</td>\n",
       "      <td>1</td>\n",
       "      <td>1</td>\n",
       "      <td>1</td>\n",
       "      <td>1</td>\n",
       "      <td>1</td>\n",
       "    </tr>\n",
       "  </tbody>\n",
       "</table>\n",
       "<p>5 rows × 37818 columns</p>\n",
       "</div>"
      ],
      "text/plain": [
       "        exon:chr10:100190328-100190427:-@exon:chr10:100189548-100189646:-@exon:chr10:100188908-100189399:-  \\\n",
       "CVN_01                                                NaN                                                    \n",
       "CVN_02                                                NaN                                                    \n",
       "CVN_03                                                NaN                                                    \n",
       "CVN_04                                                NaN                                                    \n",
       "CVN_05                                                NaN                                                    \n",
       "\n",
       "        exon:chr10:100190328-100190427:-@exon:chr10:100189548-100189646:-@exon:chr10:100188913-100189399:-  \\\n",
       "CVN_01                                                NaN                                                    \n",
       "CVN_02                                                NaN                                                    \n",
       "CVN_03                                                NaN                                                    \n",
       "CVN_04                                                NaN                                                    \n",
       "CVN_05                                                NaN                                                    \n",
       "\n",
       "        exon:chr10:100190328-100190427:-@exon:chr10:100189548-100189646:-@exon:chr10:100189330-100189399:-  \\\n",
       "CVN_01                                                NaN                                                    \n",
       "CVN_02                                                NaN                                                    \n",
       "CVN_03                                                NaN                                                    \n",
       "CVN_04                                                NaN                                                    \n",
       "CVN_05                                                NaN                                                    \n",
       "\n",
       "        exon:chr10:100193697-100193848:-@exon:chr10:100190888-100191048:-@exon:chr10:100190328-100190427:-  \\\n",
       "CVN_01                                                NaN                                                    \n",
       "CVN_02                                                NaN                                                    \n",
       "CVN_03                                                NaN                                                    \n",
       "CVN_04                                                NaN                                                    \n",
       "CVN_05                                                NaN                                                    \n",
       "\n",
       "        exon:chr10:100195392-100195529:-@exon:chr10:100195029-100195171:-@exon:chr10:100193697-100193848:-  \\\n",
       "CVN_01                                                NaN                                                    \n",
       "CVN_02                                                NaN                                                    \n",
       "CVN_03                                                NaN                                                    \n",
       "CVN_04                                                NaN                                                    \n",
       "CVN_05                                                NaN                                                    \n",
       "\n",
       "        exon:chr10:100195392-100195529:-@exon:chr10:100195029-100195171:-@exon:chr10:100193740-100193848:-  \\\n",
       "CVN_01                                                NaN                                                    \n",
       "CVN_02                                                NaN                                                    \n",
       "CVN_03                                                NaN                                                    \n",
       "CVN_04                                                NaN                                                    \n",
       "CVN_05                                                NaN                                                    \n",
       "\n",
       "        exon:chr10:101165513-101165617:-@exon:chr10:101163481-101163631:-@exon:chr10:101163226-101163391:-  \\\n",
       "CVN_01                                                  1                                                    \n",
       "CVN_02                                                  1                                                    \n",
       "CVN_03                                                  1                                                    \n",
       "CVN_04                                                NaN                                                    \n",
       "CVN_05                                                  1                                                    \n",
       "\n",
       "        exon:chr10:101480744-101480825:-@exon:chr10:101478103-101478257:-@exon:chr10:101476105-101476218:-  \\\n",
       "CVN_01                                                NaN                                                    \n",
       "CVN_02                                                NaN                                                    \n",
       "CVN_03                                                NaN                                                    \n",
       "CVN_04                                                NaN                                                    \n",
       "CVN_05                                                  1                                                    \n",
       "\n",
       "        exon:chr10:101507014-101507147:+@exon:chr10:101510126-101510153:+@exon:chr10:101514286-101514307:+  \\\n",
       "CVN_01                                                  1                                                    \n",
       "CVN_02                                                NaN                                                    \n",
       "CVN_03                                                NaN                                                    \n",
       "CVN_04                                                NaN                                                    \n",
       "CVN_05                                                NaN                                                    \n",
       "\n",
       "        exon:chr10:101507014-101507147:+@exon:chr10:101510126-101510153:+@exon:chr10:101514286-101514391:+  \\\n",
       "CVN_01                                                  1                                                    \n",
       "CVN_02                                                NaN                                                    \n",
       "CVN_03                                                NaN                                                    \n",
       "CVN_04                                                NaN                                                    \n",
       "CVN_05                                                NaN                                                    \n",
       "\n",
       "                                               ...                                           \\\n",
       "CVN_01                                         ...                                            \n",
       "CVN_02                                         ...                                            \n",
       "CVN_03                                         ...                                            \n",
       "CVN_04                                         ...                                            \n",
       "CVN_05                                         ...                                            \n",
       "\n",
       "        exon:chrY:21903621-21903743:-@exon:chrY:21903204-21903374:-@exon:chrY:21901414-21901548:-  \\\n",
       "CVN_01                                                NaN                                           \n",
       "CVN_02                                                NaN                                           \n",
       "CVN_03                                                NaN                                           \n",
       "CVN_04                                                NaN                                           \n",
       "CVN_05                                                NaN                                           \n",
       "\n",
       "        exon:chrY:22744476-22744579:+@exon:chrY:22746360-22746410:+@exon:chrY:22749910-22749991:+  \\\n",
       "CVN_01                                                NaN                                           \n",
       "CVN_02                                                  1                                           \n",
       "CVN_03                                                  1                                           \n",
       "CVN_04                                                NaN                                           \n",
       "CVN_05                                                  1                                           \n",
       "\n",
       "        exon:chrY:22744476-22744579:+@exon:chrY:22746360-22746410:+@exon:chrY:22749910-22750415:+  \\\n",
       "CVN_01                                                NaN                                           \n",
       "CVN_02                                                  1                                           \n",
       "CVN_03                                                  1                                           \n",
       "CVN_04                                                NaN                                           \n",
       "CVN_05                                                  1                                           \n",
       "\n",
       "        exon:chrY:2709527-2709668:+@exon:chrY:2710206-2710283:+@exon:chrY:2712118-2712298:+  \\\n",
       "CVN_01                                                  1                                     \n",
       "CVN_02                                                NaN                                     \n",
       "CVN_03                                                NaN                                     \n",
       "CVN_04                                                  1                                     \n",
       "CVN_05                                                  1                                     \n",
       "\n",
       "        exon:chrY:2710206-2710283:+@exon:chrY:2712118-2712298:+@exon:chrY:2713687-2713784:+  \\\n",
       "CVN_01                                                  1                                     \n",
       "CVN_02                                                NaN                                     \n",
       "CVN_03                                                NaN                                     \n",
       "CVN_04                                                  1                                     \n",
       "CVN_05                                                  1                                     \n",
       "\n",
       "        exon:chrY:2712118-2712298:+@exon:chrY:2713687-2713784:+@exon:chrY:2722641-2722812:+  \\\n",
       "CVN_01                                                  1                                     \n",
       "CVN_02                                                NaN                                     \n",
       "CVN_03                                                NaN                                     \n",
       "CVN_04                                                  1                                     \n",
       "CVN_05                                                  1                                     \n",
       "\n",
       "        exon:chrY:2713687-2713784:+@exon:chrY:2722641-2722812:+@exon:chrY:2733129-2733286:+  \\\n",
       "CVN_01                                                  1                                     \n",
       "CVN_02                                                NaN                                     \n",
       "CVN_03                                                NaN                                     \n",
       "CVN_04                                                  1                                     \n",
       "CVN_05                                                  1                                     \n",
       "\n",
       "        exon:chrY:2722771-2722812:+@exon:chrY:2733129-2733286:+@exon:chrY:2734834-2734903:+  \\\n",
       "CVN_01                                                  1                                     \n",
       "CVN_02                                                NaN                                     \n",
       "CVN_03                                                NaN                                     \n",
       "CVN_04                                                  1                                     \n",
       "CVN_05                                                  1                                     \n",
       "\n",
       "        exon:chrY:2722771-2722812:+@exon:chrY:2733129-2733286:+@exon:chrY:2734834-2734997:+  \\\n",
       "CVN_01                                                  1                                     \n",
       "CVN_02                                                NaN                                     \n",
       "CVN_03                                                NaN                                     \n",
       "CVN_04                                                  1                                     \n",
       "CVN_05                                                  1                                     \n",
       "\n",
       "        exon:chrY:2722771-2722812:+@exon:chrY:2733129-2733286:+@exon:chrY:2734834-2735309:+  \n",
       "CVN_01                                                  1                                    \n",
       "CVN_02                                                NaN                                    \n",
       "CVN_03                                                NaN                                    \n",
       "CVN_04                                                  1                                    \n",
       "CVN_05                                                  1                                    \n",
       "\n",
       "[5 rows x 37818 columns]"
      ]
     },
     "execution_count": 2,
     "metadata": {},
     "output_type": "execute_result"
    }
   ],
   "source": [
    "study.splicing.data.head()"
   ]
  },
  {
   "cell_type": "code",
   "execution_count": 3,
   "metadata": {
    "collapsed": false
   },
   "outputs": [
    {
     "data": {
      "text/plain": [
       "(233, 37818)"
      ]
     },
     "execution_count": 3,
     "metadata": {},
     "output_type": "execute_result"
    }
   ],
   "source": [
    "study.splicing.data.shape"
   ]
  },
  {
   "cell_type": "code",
   "execution_count": 4,
   "metadata": {
    "collapsed": false
   },
   "outputs": [
    {
     "data": {
      "text/plain": [
       "(233, 53192)"
      ]
     },
     "execution_count": 4,
     "metadata": {},
     "output_type": "execute_result"
    }
   ],
   "source": [
    "study.splicing.data_original.shape"
   ]
  },
  {
   "cell_type": "markdown",
   "metadata": {},
   "source": [
    "### Reads mapped"
   ]
  },
  {
   "cell_type": "code",
   "execution_count": 5,
   "metadata": {
    "collapsed": false
   },
   "outputs": [
    {
     "data": {
      "image/png": "[encoded data removed]",
      "text/plain": [
       "<matplotlib.figure.Figure at 0x2b61a4f7d910>"
      ]
     },
     "metadata": {},
     "output_type": "display_data"
    }
   ],
   "source": [
    "sns.set(style='ticks', context='talk')\n",
    "millions_mapped = study.mapping_stats.number_mapped/1e6\n",
    "millions_mapped = millions_mapped.to_frame().join(study.metadata.data[['pooled', 'phenotype']])\n",
    "\n",
    "millions_mapped_pooled = millions_mapped.ix[millions_mapped.pooled]\n",
    "millions_mapped_single = millions_mapped.ix[~millions_mapped.pooled]\n",
    "\n",
    "fig, ax = plt.subplots(figsize=(4, 3))\n",
    "sns.boxplot(x='phenotype', y='Uniquely mapped reads number', order=study.phenotype_order, \n",
    "               data=millions_mapped_single, palette=study.phenotype_color_ordered)\n",
    "sns.stripplot(x='phenotype', y='Uniquely mapped reads number', order=study.phenotype_order,\n",
    "               data=millions_mapped_single, palette=study.phenotype_color_ordered, jitter=True)\n",
    "sns.stripplot(x='phenotype', y='Uniquely mapped reads number', order=study.phenotype_order,\n",
    "              data=millions_mapped_pooled, color='k', size=12, jitter=True)\n",
    "sns.despine()\n",
    "ax.set_xlabel('')\n",
    "ax.set_ylabel('Millions of mapped reads')\n",
    "ymin, ymax = ax.get_ylim()\n",
    "ax.set_ylim(0, ymax)\n",
    "fig.tight_layout()\n",
    "fig.savefig(\"/home/obotvinnik/Dropbox/figures2/singlecell_pnm/figure1_expression/mapped_reads_violins.pdf\")"
   ]
  },
  {
   "cell_type": "markdown",
   "metadata": {},
   "source": [
    "## Predict outliers of celltype using $k$-means outliers"
   ]
  },
  {
   "cell_type": "code",
   "execution_count": 6,
   "metadata": {
    "collapsed": false
   },
   "outputs": [
    {
     "name": "stdout",
     "output_type": "stream",
     "text": [
      "CPU times: user 5min 24s, sys: 0 ns, total: 5min 24s\n",
      "Wall time: 5min 26s\n"
     ]
    }
   ],
   "source": [
    "%%time\n",
    "from sklearn.cluster import KMeans\n",
    "\n",
    "#\n",
    "expression_singles = study.expression.singles.dropna(axis=0, how='all')\n",
    "\n",
    "# run k-means clustering\n",
    "km = KMeans(init='k-means++', n_clusters=3, n_init=1000)\n",
    "km.fit(expression_singles)\n"
   ]
  },
  {
   "cell_type": "markdown",
   "metadata": {},
   "source": [
    "### Determine group membership"
   ]
  },
  {
   "cell_type": "code",
   "execution_count": 7,
   "metadata": {
    "collapsed": false
   },
   "outputs": [
    {
     "name": "stdout",
     "output_type": "stream",
     "text": [
      "M1_03\n",
      "M1_04\n",
      "M2_01\n",
      "M2_02\n",
      "M2_06\n",
      "M2_07\n",
      "M3_01\n",
      "M3_03\n",
      "M4_13\n",
      "M6_02\n",
      "N1_06\n",
      "N1_09\n",
      "N2_06\n",
      "N4_10\n",
      "P2_06\n"
     ]
    }
   ],
   "source": [
    "from collections import defaultdict\n",
    "\n",
    "# determine group membership\n",
    " \n",
    "km_membership = dict(zip(expression_singles.index, km.labels_))\n",
    " \n",
    "km_groups = defaultdict(list)\n",
    "for sample in km_membership:\n",
    "    km_groups[km_membership[sample]].append(study.sample_id_to_phenotype[sample])\n",
    "    \n",
    "# determine group outliers based on majority membership of cell type\n",
    "km_outliers = []\n",
    " \n",
    "km_colors = []\n",
    "group_to_color = {}\n",
    "for label in km_groups:\n",
    "    lst = km_groups[label]\n",
    "    most_common =  max(set(lst), key=lst.count)\n",
    "    for sample in km_membership:\n",
    "        sample_phenotype = study.sample_id_to_phenotype[sample]\n",
    "        if sample_phenotype != most_common and km_membership[sample] == label:\n",
    "            km_outliers.append(sample)\n",
    "\n",
    "for x in sorted(km_outliers):\n",
    "    print x"
   ]
  },
  {
   "cell_type": "markdown",
   "metadata": {},
   "source": [
    "Remove the outliers"
   ]
  },
  {
   "cell_type": "code",
   "execution_count": 8,
   "metadata": {
    "collapsed": false
   },
   "outputs": [
    {
     "name": "stdout",
     "output_type": "stream",
     "text": [
      "Wrote datapackage to /home/obotvinnik/flotilla_projects/singlecell_pnm_figure1_post_kmeans_outliers/datapackage.json\n"
     ]
    },
    {
     "name": "stderr",
     "output_type": "stream",
     "text": [
      "/home/obotvinnik/anaconda/lib/python2.7/site-packages/pandas/io/pytables.py:2577: PerformanceWarning: \n",
      "your performance may suffer as PyTables will pickle object types that it cannot\n",
      "map directly to c-types [inferred_type->mixed,key->block2_values] [items->['gene_type', 'gene_name', 'gencode_transcript', 'ensembl_transcript', 'ensembl_gene', 'gencode_gene', 'splice_type', 'biomark_neural_panel', 'confident_rbp', 'rbp', 'ribosomal', 'ribosomal_subunit', 'synapse', 'transcription_factor', 'gerstberger2014_rbp_consensus_rna_target', 'miRNA_primary_transcript', 'exon2_overlapping_repeats', 'exon2_overlapping_repeats_unique', 'reading_frame', 'exon3_3p_splice_site_seq', 'exon2_3p_splice_site_seq', 'exon1_5p_splice_site_seq', 'exon2_5p_splice_site_seq', 'exon1_exon2_splice_signals', 'exon2_exon3_splice_signals', 'exon1_exon3_splice_signals', 'exon2_frame0_translation', 'exon2_frame1_translation', 'exon2_frame2_translation', 'exon2_frame0_stop_codon', 'exon2_frame1_stop_codon', 'exon2_frame2_stop_codon', 'exon2_frame0_pfam_domain_accession', 'exon2_frame1_pfam_domain_accession', 'exon2_frame2_pfam_domain_accession', 'exon2_frame0_pfam_domain_name', 'exon2_frame1_pfam_domain_name', 'exon2_frame2_pfam_domain_name', 'exon2_transcript_types', 'exon2_transcript_type_nonsense_mediated_decay', 'exon2_mirna_rnahybrid_target_mfe28', 'exon1_clip_bound_gene_ids', 'exon2_clip_bound_gene_ids', 'exon3_clip_bound_gene_ids', 'exon4_clip_bound_gene_ids', 'intron1_clip_bound_gene_ids', 'intron2_clip_bound_gene_ids', 'intron3_clip_bound_gene_ids', 'exon1_clip_bound_database_ids', 'exon2_clip_bound_database_ids', 'exon3_clip_bound_database_ids', 'exon4_clip_bound_database_ids', 'intron1_clip_bound_database_ids', 'intron2_clip_bound_database_ids', 'intron3_clip_bound_database_ids', 'isoform1_translation', 'isoform2_translation', 'isoform1_pfam_domain_accession', 'isoform1_pfam_domain_name', 'isoform2_pfam_domain_accession', 'isoform2_pfam_domain_name', 'one_ensembl_id', 'isoform1_pfam_clan_accession', 'isoform1_pfam_clan_id', 'isoform1_pfam_go_id', 'isoform1_pfam_go_name', 'isoform2_pfam_clan_accession', 'isoform2_pfam_clan_id', 'isoform2_pfam_go_id', 'isoform2_pfam_go_name', 'exon1_seq', 'exon2_seq', 'exon3_5p_splice_site_seq', 'exon3_seq', 'exon4_3p_splice_site_seq', 'exon4_seq']]\n",
      "\n",
      "  warnings.warn(ws, PerformanceWarning)\n"
     ]
    }
   ],
   "source": [
    "study.metadata.data['outlier'] = study.metadata.data.index.isin(km_outliers)\n",
    "study.drop_outliers()\n",
    "study.save('singlecell_pnm_figure1_post_kmeans_outliers')"
   ]
  },
  {
   "cell_type": "code",
   "execution_count": null,
   "metadata": {
    "collapsed": true
   },
   "outputs": [],
   "source": []
  },
  {
   "cell_type": "code",
   "execution_count": null,
   "metadata": {
    "collapsed": true
   },
   "outputs": [],
   "source": []
  }
 ],
 "metadata": {
  "kernelspec": {
   "display_name": "Python 2",
   "language": "python",
   "name": "python2"
  },
  "language_info": {
   "codemirror_mode": {
    "name": "ipython",
    "version": 2
   },
   "file_extension": ".py",
   "mimetype": "text/x-python",
   "name": "python",
   "nbconvert_exporter": "python",
   "pygments_lexer": "ipython2",
   "version": "2.7.10"
  }
 },
 "nbformat": 4,
 "nbformat_minor": 0
}
