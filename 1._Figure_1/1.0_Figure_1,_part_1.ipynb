{
 "cells": [
  {
   "cell_type": "code",
   "execution_count": 1,
   "metadata": {
    "collapsed": false
   },
   "outputs": [
    {
     "name": "stderr",
     "output_type": "stream",
     "text": [
      "/home/obotvinnik/anaconda/lib/python2.7/site-packages/matplotlib/__init__.py:784: UserWarning: Found matplotlib configuration in ~/.matplotlib/. To conform with the XDG base directory standard, this configuration location has been deprecated on Linux, and the new location is now /home/obotvinnik/.config/matplotlib/. Please move your configuration there to ensure that matplotlib will continue to find it in the future.\n",
      "  _get_xdg_config_dir())\n",
      "/home/obotvinnik/anaconda/lib/python2.7/site-packages/pandas/io/parsers.py:1170: DtypeWarning: Columns (18) have mixed types. Specify dtype option on import or set low_memory=False.\n",
      "  data = self._reader.read(nrows)\n"
     ]
    },
    {
     "name": "stdout",
     "output_type": "stream",
     "text": [
      "2015-10-19 09:47:23\tReading datapackage from /home/obotvinnik/flotilla_projects/singlecell_pnm/datapackage.json\n",
      "2015-10-19 09:47:23\tParsing datapackage to create a Study object\n",
      "2015-10-19 09:48:03\tInitializing Study\n",
      "2015-10-19 09:48:03\tInitializing Predictor configuration manager for Study\n",
      "2015-10-19 09:48:03\tPredictor ExtraTreesClassifier is of type <class 'sklearn.ensemble.forest.ExtraTreesClassifier'>\n",
      "2015-10-19 09:48:03\tAdded ExtraTreesClassifier to default predictors\n",
      "2015-10-19 09:48:03\tPredictor ExtraTreesRegressor is of type <class 'sklearn.ensemble.forest.ExtraTreesRegressor'>\n",
      "2015-10-19 09:48:03\tAdded ExtraTreesRegressor to default predictors\n",
      "2015-10-19 09:48:03\tPredictor GradientBoostingClassifier is of type <class 'sklearn.ensemble.gradient_boosting.GradientBoostingClassifier'>\n",
      "2015-10-19 09:48:03\tAdded GradientBoostingClassifier to default predictors\n",
      "2015-10-19 09:48:03\tPredictor GradientBoostingRegressor is of type <class 'sklearn.ensemble.gradient_boosting.GradientBoostingRegressor'>\n",
      "2015-10-19 09:48:03\tAdded GradientBoostingRegressor to default predictors\n",
      "2015-10-19 09:48:07\tBuilding Gene Ontology database...\n",
      "2015-10-19 09:48:17\t\tDone.\n",
      "2015-10-19 09:48:18\tLoading metadata\n",
      "2015-10-19 09:48:18\tLoading expression data\n",
      "2015-10-19 09:48:18\tInitializing expression\n",
      "2015-10-19 09:48:18\tDone initializing expression\n",
      "2015-10-19 09:48:20\tLoading splicing data\n",
      "2015-10-19 09:48:20\tInitializing splicing\n",
      "2015-10-19 09:48:20\tDone initializing splicing\n",
      "2015-10-19 09:48:20\tSuccessfully initialized a Study object!\n"
     ]
    }
   ],
   "source": [
    "from collections import defaultdict\n",
    "\n",
    "import matplotlib as mpl\n",
    "import matplotlib.pyplot as plt\n",
    "import numpy as np\n",
    "import pandas as pd\n",
    "import seaborn as sns\n",
    "\n",
    "%matplotlib inline\n",
    "\n",
    "\n",
    "import flotilla\n",
    "sns.set(style='ticks', context='talk')\n",
    "\n",
    "folder = '/home/obotvinnik/Dropbox/figures2/singlecell_pnm/figure1_expression'\n",
    "\n",
    "study = flotilla.embark('singlecell_pnm')"
   ]
  },
  {
   "cell_type": "code",
   "execution_count": 2,
   "metadata": {
    "collapsed": false
   },
   "outputs": [
    {
     "data": {
      "text/html": [
       "<div>\n",
       "<table border=\"1\" class=\"dataframe\">\n",
       "  <thead>\n",
       "    <tr style=\"text-align: right;\">\n",
       "      <th></th>\n",
       "      <th>exon:chr10:100190328-100190427:-@exon:chr10:100189548-100189646:-@exon:chr10:100189330-100189399:-</th>\n",
       "      <th>exon:chr10:101165513-101165617:-@exon:chr10:101163481-101163631:-@exon:chr10:101163226-101163391:-</th>\n",
       "      <th>exon:chr10:101480744-101480825:-@exon:chr10:101478103-101478257:-@exon:chr10:101476105-101476218:-</th>\n",
       "      <th>exon:chr10:101507014-101507147:+@exon:chr10:101510126-101510153:+@exon:chr10:101514286-101514391:+</th>\n",
       "      <th>exon:chr10:101507014-101507147:+@exon:chr10:101514286-101514391:+@exon:chr10:101515382-101515891:+</th>\n",
       "      <th>exon:chr10:101964263-101964414:-@exon:chr10:101961845-101961906:-@exon:chr10:101960428-101960537:-</th>\n",
       "      <th>exon:chr10:101997779-101997988:-@exon:chr10:101996607-101996726:-@exon:chr10:101995424-101995521:-</th>\n",
       "      <th>exon:chr10:102003455-102003529:-@exon:chr10:101997779-101997988:-@exon:chr10:101996607-101996726:-</th>\n",
       "      <th>exon:chr10:102013178-102013296:-@exon:chr10:102010005-102010089:-@exon:chr10:102006552-102006692:-</th>\n",
       "      <th>exon:chr10:102019975-102020076:-@exon:chr10:102016019-102016233:-@exon:chr10:102013178-102013296:-</th>\n",
       "      <th>...</th>\n",
       "      <th>exon:chrX:102940099-102940188:-@exon:chrX:102939609-102939657:-@exon:chrX:102933427-102933528:-@exon:chrX:102930424-102931979:-</th>\n",
       "      <th>exon:chrX:102940099-102940433:-@exon:chrX:102939609-102939657:-@exon:chrX:102933427-102933548:-@exon:chrX:102930424-102931979:-</th>\n",
       "      <th>exon:chrX:102940099-102940188:-@exon:chrX:102939609-102939657:-@exon:chrX:102933427-102933579:-@exon:chrX:102930424-102931979:-</th>\n",
       "      <th>exon:chrX:129299525-129299853:-@exon:chrX:129290435-129290577:-@exon:chrX:129289131-129289261:-@exon:chrX:129283444-129283543:-</th>\n",
       "      <th>exon:chrX:138820075-138820228:-@exon:chrX:138814594-138814684:-@exon:chrX:138813810-138813914:-@exon:chrX:138808505-138811121:-</th>\n",
       "      <th>exon:chrX:138820075-138820228:-@exon:chrX:138819890-138819955:-@exon:chrX:138813810-138813914:-@exon:chrX:138808505-138811121:-</th>\n",
       "      <th>exon:chrX:16870872-16870998:-@exon:chrX:16870674-16870751:-@exon:chrX:16870539-16870673:-@exon:chrX:16870169-16870245:-</th>\n",
       "      <th>exon:chrX:69674946-69675113:+@exon:chrX:69675637-69675952:+@exon:chrX:69699000-69699114:+@exon:chrX:69711957-69712087:+</th>\n",
       "      <th>exon:chrX:73164419-73164497:+@exon:chrX:73166834-73167209:+@exon:chrX:73214675-73214796:+@exon:chrX:73218603-73218679:+</th>\n",
       "      <th>exon:chrX:73164419-73164497:+@exon:chrX:73214675-73214796:+@exon:chrX:73218603-73218679:+@exon:chrX:73224105-73224186:+</th>\n",
       "    </tr>\n",
       "  </thead>\n",
       "  <tbody>\n",
       "    <tr>\n",
       "      <th>CVN_01</th>\n",
       "      <td>NaN</td>\n",
       "      <td>1</td>\n",
       "      <td>NaN</td>\n",
       "      <td>1</td>\n",
       "      <td>NaN</td>\n",
       "      <td>NaN</td>\n",
       "      <td>NaN</td>\n",
       "      <td>NaN</td>\n",
       "      <td>NaN</td>\n",
       "      <td>NaN</td>\n",
       "      <td>...</td>\n",
       "      <td>0</td>\n",
       "      <td>NaN</td>\n",
       "      <td>NaN</td>\n",
       "      <td>1</td>\n",
       "      <td>NaN</td>\n",
       "      <td>NaN</td>\n",
       "      <td>1</td>\n",
       "      <td>NaN</td>\n",
       "      <td>NaN</td>\n",
       "      <td>NaN</td>\n",
       "    </tr>\n",
       "    <tr>\n",
       "      <th>CVN_02</th>\n",
       "      <td>NaN</td>\n",
       "      <td>1</td>\n",
       "      <td>NaN</td>\n",
       "      <td>NaN</td>\n",
       "      <td>NaN</td>\n",
       "      <td>NaN</td>\n",
       "      <td>NaN</td>\n",
       "      <td>NaN</td>\n",
       "      <td>NaN</td>\n",
       "      <td>NaN</td>\n",
       "      <td>...</td>\n",
       "      <td>NaN</td>\n",
       "      <td>NaN</td>\n",
       "      <td>0</td>\n",
       "      <td>NaN</td>\n",
       "      <td>NaN</td>\n",
       "      <td>NaN</td>\n",
       "      <td>1</td>\n",
       "      <td>NaN</td>\n",
       "      <td>NaN</td>\n",
       "      <td>1</td>\n",
       "    </tr>\n",
       "    <tr>\n",
       "      <th>CVN_03</th>\n",
       "      <td>NaN</td>\n",
       "      <td>1</td>\n",
       "      <td>NaN</td>\n",
       "      <td>NaN</td>\n",
       "      <td>NaN</td>\n",
       "      <td>NaN</td>\n",
       "      <td>NaN</td>\n",
       "      <td>NaN</td>\n",
       "      <td>NaN</td>\n",
       "      <td>NaN</td>\n",
       "      <td>...</td>\n",
       "      <td>NaN</td>\n",
       "      <td>NaN</td>\n",
       "      <td>NaN</td>\n",
       "      <td>1</td>\n",
       "      <td>NaN</td>\n",
       "      <td>NaN</td>\n",
       "      <td>NaN</td>\n",
       "      <td>NaN</td>\n",
       "      <td>NaN</td>\n",
       "      <td>NaN</td>\n",
       "    </tr>\n",
       "    <tr>\n",
       "      <th>CVN_04</th>\n",
       "      <td>NaN</td>\n",
       "      <td>NaN</td>\n",
       "      <td>NaN</td>\n",
       "      <td>NaN</td>\n",
       "      <td>NaN</td>\n",
       "      <td>NaN</td>\n",
       "      <td>1</td>\n",
       "      <td>NaN</td>\n",
       "      <td>NaN</td>\n",
       "      <td>NaN</td>\n",
       "      <td>...</td>\n",
       "      <td>0</td>\n",
       "      <td>NaN</td>\n",
       "      <td>NaN</td>\n",
       "      <td>NaN</td>\n",
       "      <td>NaN</td>\n",
       "      <td>NaN</td>\n",
       "      <td>1</td>\n",
       "      <td>NaN</td>\n",
       "      <td>NaN</td>\n",
       "      <td>NaN</td>\n",
       "    </tr>\n",
       "    <tr>\n",
       "      <th>CVN_05</th>\n",
       "      <td>NaN</td>\n",
       "      <td>1</td>\n",
       "      <td>1</td>\n",
       "      <td>NaN</td>\n",
       "      <td>NaN</td>\n",
       "      <td>NaN</td>\n",
       "      <td>NaN</td>\n",
       "      <td>NaN</td>\n",
       "      <td>NaN</td>\n",
       "      <td>NaN</td>\n",
       "      <td>...</td>\n",
       "      <td>0</td>\n",
       "      <td>NaN</td>\n",
       "      <td>NaN</td>\n",
       "      <td>1</td>\n",
       "      <td>NaN</td>\n",
       "      <td>NaN</td>\n",
       "      <td>1</td>\n",
       "      <td>NaN</td>\n",
       "      <td>NaN</td>\n",
       "      <td>NaN</td>\n",
       "    </tr>\n",
       "  </tbody>\n",
       "</table>\n",
       "<p>5 rows × 12265 columns</p>\n",
       "</div>"
      ],
      "text/plain": [
       "        exon:chr10:100190328-100190427:-@exon:chr10:100189548-100189646:-@exon:chr10:100189330-100189399:-  \\\n",
       "CVN_01                                                NaN                                                    \n",
       "CVN_02                                                NaN                                                    \n",
       "CVN_03                                                NaN                                                    \n",
       "CVN_04                                                NaN                                                    \n",
       "CVN_05                                                NaN                                                    \n",
       "\n",
       "        exon:chr10:101165513-101165617:-@exon:chr10:101163481-101163631:-@exon:chr10:101163226-101163391:-  \\\n",
       "CVN_01                                                  1                                                    \n",
       "CVN_02                                                  1                                                    \n",
       "CVN_03                                                  1                                                    \n",
       "CVN_04                                                NaN                                                    \n",
       "CVN_05                                                  1                                                    \n",
       "\n",
       "        exon:chr10:101480744-101480825:-@exon:chr10:101478103-101478257:-@exon:chr10:101476105-101476218:-  \\\n",
       "CVN_01                                                NaN                                                    \n",
       "CVN_02                                                NaN                                                    \n",
       "CVN_03                                                NaN                                                    \n",
       "CVN_04                                                NaN                                                    \n",
       "CVN_05                                                  1                                                    \n",
       "\n",
       "        exon:chr10:101507014-101507147:+@exon:chr10:101510126-101510153:+@exon:chr10:101514286-101514391:+  \\\n",
       "CVN_01                                                  1                                                    \n",
       "CVN_02                                                NaN                                                    \n",
       "CVN_03                                                NaN                                                    \n",
       "CVN_04                                                NaN                                                    \n",
       "CVN_05                                                NaN                                                    \n",
       "\n",
       "        exon:chr10:101507014-101507147:+@exon:chr10:101514286-101514391:+@exon:chr10:101515382-101515891:+  \\\n",
       "CVN_01                                                NaN                                                    \n",
       "CVN_02                                                NaN                                                    \n",
       "CVN_03                                                NaN                                                    \n",
       "CVN_04                                                NaN                                                    \n",
       "CVN_05                                                NaN                                                    \n",
       "\n",
       "        exon:chr10:101964263-101964414:-@exon:chr10:101961845-101961906:-@exon:chr10:101960428-101960537:-  \\\n",
       "CVN_01                                                NaN                                                    \n",
       "CVN_02                                                NaN                                                    \n",
       "CVN_03                                                NaN                                                    \n",
       "CVN_04                                                NaN                                                    \n",
       "CVN_05                                                NaN                                                    \n",
       "\n",
       "        exon:chr10:101997779-101997988:-@exon:chr10:101996607-101996726:-@exon:chr10:101995424-101995521:-  \\\n",
       "CVN_01                                                NaN                                                    \n",
       "CVN_02                                                NaN                                                    \n",
       "CVN_03                                                NaN                                                    \n",
       "CVN_04                                                  1                                                    \n",
       "CVN_05                                                NaN                                                    \n",
       "\n",
       "        exon:chr10:102003455-102003529:-@exon:chr10:101997779-101997988:-@exon:chr10:101996607-101996726:-  \\\n",
       "CVN_01                                                NaN                                                    \n",
       "CVN_02                                                NaN                                                    \n",
       "CVN_03                                                NaN                                                    \n",
       "CVN_04                                                NaN                                                    \n",
       "CVN_05                                                NaN                                                    \n",
       "\n",
       "        exon:chr10:102013178-102013296:-@exon:chr10:102010005-102010089:-@exon:chr10:102006552-102006692:-  \\\n",
       "CVN_01                                                NaN                                                    \n",
       "CVN_02                                                NaN                                                    \n",
       "CVN_03                                                NaN                                                    \n",
       "CVN_04                                                NaN                                                    \n",
       "CVN_05                                                NaN                                                    \n",
       "\n",
       "        exon:chr10:102019975-102020076:-@exon:chr10:102016019-102016233:-@exon:chr10:102013178-102013296:-  \\\n",
       "CVN_01                                                NaN                                                    \n",
       "CVN_02                                                NaN                                                    \n",
       "CVN_03                                                NaN                                                    \n",
       "CVN_04                                                NaN                                                    \n",
       "CVN_05                                                NaN                                                    \n",
       "\n",
       "                                                                 ...                                                             \\\n",
       "CVN_01                                                           ...                                                              \n",
       "CVN_02                                                           ...                                                              \n",
       "CVN_03                                                           ...                                                              \n",
       "CVN_04                                                           ...                                                              \n",
       "CVN_05                                                           ...                                                              \n",
       "\n",
       "        exon:chrX:102940099-102940188:-@exon:chrX:102939609-102939657:-@exon:chrX:102933427-102933528:-@exon:chrX:102930424-102931979:-  \\\n",
       "CVN_01                                                  0                                                                                 \n",
       "CVN_02                                                NaN                                                                                 \n",
       "CVN_03                                                NaN                                                                                 \n",
       "CVN_04                                                  0                                                                                 \n",
       "CVN_05                                                  0                                                                                 \n",
       "\n",
       "        exon:chrX:102940099-102940433:-@exon:chrX:102939609-102939657:-@exon:chrX:102933427-102933548:-@exon:chrX:102930424-102931979:-  \\\n",
       "CVN_01                                                NaN                                                                                 \n",
       "CVN_02                                                NaN                                                                                 \n",
       "CVN_03                                                NaN                                                                                 \n",
       "CVN_04                                                NaN                                                                                 \n",
       "CVN_05                                                NaN                                                                                 \n",
       "\n",
       "        exon:chrX:102940099-102940188:-@exon:chrX:102939609-102939657:-@exon:chrX:102933427-102933579:-@exon:chrX:102930424-102931979:-  \\\n",
       "CVN_01                                                NaN                                                                                 \n",
       "CVN_02                                                  0                                                                                 \n",
       "CVN_03                                                NaN                                                                                 \n",
       "CVN_04                                                NaN                                                                                 \n",
       "CVN_05                                                NaN                                                                                 \n",
       "\n",
       "        exon:chrX:129299525-129299853:-@exon:chrX:129290435-129290577:-@exon:chrX:129289131-129289261:-@exon:chrX:129283444-129283543:-  \\\n",
       "CVN_01                                                  1                                                                                 \n",
       "CVN_02                                                NaN                                                                                 \n",
       "CVN_03                                                  1                                                                                 \n",
       "CVN_04                                                NaN                                                                                 \n",
       "CVN_05                                                  1                                                                                 \n",
       "\n",
       "        exon:chrX:138820075-138820228:-@exon:chrX:138814594-138814684:-@exon:chrX:138813810-138813914:-@exon:chrX:138808505-138811121:-  \\\n",
       "CVN_01                                                NaN                                                                                 \n",
       "CVN_02                                                NaN                                                                                 \n",
       "CVN_03                                                NaN                                                                                 \n",
       "CVN_04                                                NaN                                                                                 \n",
       "CVN_05                                                NaN                                                                                 \n",
       "\n",
       "        exon:chrX:138820075-138820228:-@exon:chrX:138819890-138819955:-@exon:chrX:138813810-138813914:-@exon:chrX:138808505-138811121:-  \\\n",
       "CVN_01                                                NaN                                                                                 \n",
       "CVN_02                                                NaN                                                                                 \n",
       "CVN_03                                                NaN                                                                                 \n",
       "CVN_04                                                NaN                                                                                 \n",
       "CVN_05                                                NaN                                                                                 \n",
       "\n",
       "        exon:chrX:16870872-16870998:-@exon:chrX:16870674-16870751:-@exon:chrX:16870539-16870673:-@exon:chrX:16870169-16870245:-  \\\n",
       "CVN_01                                                  1                                                                         \n",
       "CVN_02                                                  1                                                                         \n",
       "CVN_03                                                NaN                                                                         \n",
       "CVN_04                                                  1                                                                         \n",
       "CVN_05                                                  1                                                                         \n",
       "\n",
       "        exon:chrX:69674946-69675113:+@exon:chrX:69675637-69675952:+@exon:chrX:69699000-69699114:+@exon:chrX:69711957-69712087:+  \\\n",
       "CVN_01                                                NaN                                                                         \n",
       "CVN_02                                                NaN                                                                         \n",
       "CVN_03                                                NaN                                                                         \n",
       "CVN_04                                                NaN                                                                         \n",
       "CVN_05                                                NaN                                                                         \n",
       "\n",
       "        exon:chrX:73164419-73164497:+@exon:chrX:73166834-73167209:+@exon:chrX:73214675-73214796:+@exon:chrX:73218603-73218679:+  \\\n",
       "CVN_01                                                NaN                                                                         \n",
       "CVN_02                                                NaN                                                                         \n",
       "CVN_03                                                NaN                                                                         \n",
       "CVN_04                                                NaN                                                                         \n",
       "CVN_05                                                NaN                                                                         \n",
       "\n",
       "        exon:chrX:73164419-73164497:+@exon:chrX:73214675-73214796:+@exon:chrX:73218603-73218679:+@exon:chrX:73224105-73224186:+  \n",
       "CVN_01                                                NaN                                                                        \n",
       "CVN_02                                                  1                                                                        \n",
       "CVN_03                                                NaN                                                                        \n",
       "CVN_04                                                NaN                                                                        \n",
       "CVN_05                                                NaN                                                                        \n",
       "\n",
       "[5 rows x 12265 columns]"
      ]
     },
     "execution_count": 2,
     "metadata": {},
     "output_type": "execute_result"
    }
   ],
   "source": [
    "study.splicing.data.head()"
   ]
  },
  {
   "cell_type": "code",
   "execution_count": 3,
   "metadata": {
    "collapsed": false
   },
   "outputs": [
    {
     "data": {
      "text/plain": [
       "(233, 12265)"
      ]
     },
     "execution_count": 3,
     "metadata": {},
     "output_type": "execute_result"
    }
   ],
   "source": [
    "study.splicing.data.shape"
   ]
  },
  {
   "cell_type": "code",
   "execution_count": 4,
   "metadata": {
    "collapsed": false
   },
   "outputs": [
    {
     "data": {
      "text/plain": [
       "(233, 25836)"
      ]
     },
     "execution_count": 4,
     "metadata": {},
     "output_type": "execute_result"
    }
   ],
   "source": [
    "study.splicing.data_original.shape"
   ]
  },
  {
   "cell_type": "markdown",
   "metadata": {},
   "source": [
    "### Reads mapped"
   ]
  },
  {
   "cell_type": "code",
   "execution_count": 5,
   "metadata": {
    "collapsed": false
   },
   "outputs": [
    {
     "data": {
      "image/png": "[encoded data removed]",
      "text/plain": [
       "<matplotlib.figure.Figure at 0x2b09a6e437d0>"
      ]
     },
     "metadata": {},
     "output_type": "display_data"
    }
   ],
   "source": [
    "sns.set(style='ticks', context='talk')\n",
    "millions_mapped = study.mapping_stats.number_mapped/1e6\n",
    "millions_mapped = millions_mapped.to_frame().join(study.metadata.data[['pooled', 'phenotype']])\n",
    "\n",
    "millions_mapped_pooled = millions_mapped.ix[millions_mapped.pooled]\n",
    "millions_mapped_single = millions_mapped.ix[~millions_mapped.pooled]\n",
    "\n",
    "fig, ax = plt.subplots(figsize=(4, 3))\n",
    "sns.boxplot(x='phenotype', y='Uniquely mapped reads number', order=study.phenotype_order, \n",
    "               data=millions_mapped_single, palette=study.phenotype_color_ordered)\n",
    "sns.stripplot(x='phenotype', y='Uniquely mapped reads number', order=study.phenotype_order,\n",
    "               data=millions_mapped_single, palette=study.phenotype_color_ordered, jitter=True, edgecolor='k')\n",
    "sns.stripplot(x='phenotype', y='Uniquely mapped reads number', order=study.phenotype_order,\n",
    "              data=millions_mapped_pooled, color='k', size=12, jitter=True)\n",
    "sns.despine()\n",
    "ax.set_xlabel('')\n",
    "ax.set_ylabel('Millions of mapped reads')\n",
    "ymin, ymax = ax.get_ylim()\n",
    "ax.set_ylim(0, ymax)\n",
    "fig.tight_layout()\n",
    "fig.savefig(\"/home/obotvinnik/Dropbox/figures2/singlecell_pnm/figure1_expression/mapped_reads_violins.pdf\")"
   ]
  },
  {
   "cell_type": "markdown",
   "metadata": {},
   "source": [
    "## Predict outliers of celltype using $k$-means outliers"
   ]
  },
  {
   "cell_type": "code",
   "execution_count": 6,
   "metadata": {
    "collapsed": false
   },
   "outputs": [
    {
     "name": "stdout",
     "output_type": "stream",
     "text": [
      "CPU times: user 4min 48s, sys: 113 ms, total: 4min 48s\n",
      "Wall time: 4min 49s\n"
     ]
    }
   ],
   "source": [
    "%%time\n",
    "from sklearn.cluster import KMeans\n",
    "\n",
    "#\n",
    "expression_singles = study.expression.singles.dropna(axis=0, how='all')\n",
    "\n",
    "# run k-means clustering\n",
    "km = KMeans(init='k-means++', n_clusters=3, n_init=1000)\n",
    "km.fit(expression_singles)\n"
   ]
  },
  {
   "cell_type": "markdown",
   "metadata": {},
   "source": [
    "### Determine group membership"
   ]
  },
  {
   "cell_type": "code",
   "execution_count": 7,
   "metadata": {
    "collapsed": false
   },
   "outputs": [
    {
     "name": "stdout",
     "output_type": "stream",
     "text": [
      "M1_03\n",
      "M1_04\n",
      "M2_01\n",
      "M2_02\n",
      "M2_06\n",
      "M2_07\n",
      "M3_01\n",
      "M3_03\n",
      "M4_13\n",
      "M6_02\n",
      "N1_06\n",
      "N1_09\n",
      "N2_06\n",
      "N4_10\n",
      "P2_06\n"
     ]
    }
   ],
   "source": [
    "from collections import defaultdict\n",
    "\n",
    "# determine group membership\n",
    " \n",
    "km_membership = dict(zip(expression_singles.index, km.labels_))\n",
    " \n",
    "km_groups = defaultdict(list)\n",
    "for sample in km_membership:\n",
    "    km_groups[km_membership[sample]].append(study.sample_id_to_phenotype[sample])\n",
    "    \n",
    "# determine group outliers based on majority membership of cell type\n",
    "km_outliers = []\n",
    " \n",
    "km_colors = []\n",
    "group_to_color = {}\n",
    "for label in km_groups:\n",
    "    lst = km_groups[label]\n",
    "    most_common =  max(set(lst), key=lst.count)\n",
    "    for sample in km_membership:\n",
    "        sample_phenotype = study.sample_id_to_phenotype[sample]\n",
    "        if sample_phenotype != most_common and km_membership[sample] == label:\n",
    "            km_outliers.append(sample)\n",
    "\n",
    "for x in sorted(km_outliers):\n",
    "    print x"
   ]
  },
  {
   "cell_type": "markdown",
   "metadata": {},
   "source": [
    "Remove the outliers"
   ]
  },
  {
   "cell_type": "code",
   "execution_count": 8,
   "metadata": {
    "collapsed": false
   },
   "outputs": [
    {
     "name": "stdout",
     "output_type": "stream",
     "text": [
      "Wrote datapackage to /home/obotvinnik/flotilla_projects/singlecell_pnm_figure1_post_kmeans_outliers/datapackage.json\n"
     ]
    }
   ],
   "source": [
    "study.metadata.data['outlier'] = study.metadata.data.index.isin(km_outliers)\n",
    "study.drop_outliers()\n",
    "study.save('singlecell_pnm_figure1_post_kmeans_outliers')"
   ]
  },
  {
   "cell_type": "code",
   "execution_count": 9,
   "metadata": {
    "collapsed": false
   },
   "outputs": [
    {
     "data": {
      "text/plain": [
       "(233, 12265)"
      ]
     },
     "execution_count": 9,
     "metadata": {},
     "output_type": "execute_result"
    }
   ],
   "source": [
    "study.splicing.data.shape"
   ]
  },
  {
   "cell_type": "code",
   "execution_count": 10,
   "metadata": {
    "collapsed": false
   },
   "outputs": [
    {
     "data": {
      "text/plain": [
       "(233, 25836)"
      ]
     },
     "execution_count": 10,
     "metadata": {},
     "output_type": "execute_result"
    }
   ],
   "source": [
    "study.splicing.data_original.shape"
   ]
  },
  {
   "cell_type": "code",
   "execution_count": null,
   "metadata": {
    "collapsed": true
   },
   "outputs": [],
   "source": []
  }
 ],
 "metadata": {
  "kernelspec": {
   "display_name": "Python 2",
   "language": "python",
   "name": "python2"
  },
  "language_info": {
   "codemirror_mode": {
    "name": "ipython",
    "version": 2
   },
   "file_extension": ".py",
   "mimetype": "text/x-python",
   "name": "python",
   "nbconvert_exporter": "python",
   "pygments_lexer": "ipython2",
   "version": "2.7.10"
  }
 },
 "nbformat": 4,
 "nbformat_minor": 0
}
