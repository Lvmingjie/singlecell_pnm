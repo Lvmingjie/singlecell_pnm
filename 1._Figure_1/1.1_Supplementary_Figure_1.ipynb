{
 "cells": [
  {
   "cell_type": "code",
   "execution_count": 1,
   "metadata": {
    "collapsed": false
   },
   "outputs": [
    {
     "name": "stderr",
     "output_type": "stream",
     "text": [
      "/home/obotvinnik/anaconda/lib/python2.7/site-packages/matplotlib/__init__.py:810: UserWarning: Found matplotlib configuration in ~/.matplotlib/. To conform with the XDG base directory standard, this configuration location has been deprecated on Linux, and the new location is now /home/obotvinnik/.config/matplotlib/. Please move your configuration there to ensure that matplotlib will continue to find it in the future.\n",
      "  _get_xdg_config_dir())\n",
      "/home/obotvinnik/anaconda/lib/python2.7/site-packages/flotilla/__init__.py:55: DtypeWarning: Columns (19) have mixed types. Specify dtype option on import or set low_memory=False.\n",
      "  load_species_data=load_species_data)\n"
     ]
    },
    {
     "name": "stdout",
     "output_type": "stream",
     "text": [
      "2016-05-13 11:21:08\tReading datapackage from /projects/ps-yeolab/obotvinnik/flotilla_projects/singlecell_pnm_figure1_post_kmeans_outliers/datapackage.json\n",
      "2016-05-13 11:21:08\tParsing datapackage to create a Study object\n",
      "2016-05-13 11:21:40\tInitializing Study\n",
      "2016-05-13 11:21:40\tInitializing Predictor configuration manager for Study\n",
      "2016-05-13 11:21:40\tPredictor ExtraTreesClassifier is of type <class 'sklearn.ensemble.forest.ExtraTreesClassifier'>\n",
      "2016-05-13 11:21:40\tAdded ExtraTreesClassifier to default predictors\n",
      "2016-05-13 11:21:40\tPredictor ExtraTreesRegressor is of type <class 'sklearn.ensemble.forest.ExtraTreesRegressor'>\n",
      "2016-05-13 11:21:40\tAdded ExtraTreesRegressor to default predictors\n",
      "2016-05-13 11:21:40\tPredictor GradientBoostingClassifier is of type <class 'sklearn.ensemble.gradient_boosting.GradientBoostingClassifier'>\n",
      "2016-05-13 11:21:40\tAdded GradientBoostingClassifier to default predictors\n",
      "2016-05-13 11:21:40\tPredictor GradientBoostingRegressor is of type <class 'sklearn.ensemble.gradient_boosting.GradientBoostingRegressor'>\n",
      "2016-05-13 11:21:40\tAdded GradientBoostingRegressor to default predictors\n",
      "2016-05-13 11:21:43\tBuilding Gene Ontology database...\n",
      "2016-05-13 11:21:50\t\tDone.\n",
      "2016-05-13 11:21:50\tLoading metadata\n",
      "2016-05-13 11:21:50\tLoading expression data\n",
      "2016-05-13 11:21:50\tInitializing expression\n",
      "2016-05-13 11:21:51\tDone initializing expression\n",
      "2016-05-13 11:21:52\tLoading splicing data\n",
      "2016-05-13 11:21:52\tInitializing splicing\n",
      "2016-05-13 11:21:52\tDone initializing splicing\n",
      "2016-05-13 11:21:52\tSuccessfully initialized a Study object!\n"
     ]
    }
   ],
   "source": [
    "import six\n",
    "\n",
    "import matplotlib as mpl\n",
    "import matplotlib.pyplot as plt\n",
    "import matplotlib_venn\n",
    "import numpy as np\n",
    "import pandas as pd\n",
    "import seaborn as sns\n",
    "sns.set(style='ticks', context='paper')\n",
    "\n",
    "%matplotlib inline\n",
    "import flotilla\n",
    "\n",
    "%load_ext autoreload\n",
    "%autoreload 2\n",
    "\n",
    "folder = 'figures'\n",
    "\n",
    "flotilla_dir = '/projects/ps-yeolab/obotvinnik/flotilla_projects/'\n",
    "study = flotilla.embark('singlecell_pnm_figure1_post_kmeans_outliers', flotilla_dir=flotilla_dir)"
   ]
  },
  {
   "cell_type": "code",
   "execution_count": 2,
   "metadata": {
    "collapsed": false
   },
   "outputs": [
    {
     "data": {
      "text/plain": [
       "10"
      ]
     },
     "execution_count": 2,
     "metadata": {},
     "output_type": "execute_result"
    }
   ],
   "source": [
    "study.splicing.minimum_samples"
   ]
  },
  {
   "cell_type": "code",
   "execution_count": 3,
   "metadata": {
    "collapsed": false
   },
   "outputs": [
    {
     "name": "stdout",
     "output_type": "stream",
     "text": [
      "mkdir: cannot create directory `figures': File exists\r\n"
     ]
    }
   ],
   "source": [
    "mkdir $folder"
   ]
  },
  {
   "cell_type": "markdown",
   "metadata": {},
   "source": [
    "## Expression Quality Control\n",
    "### Number of detected genes"
   ]
  },
  {
   "cell_type": "code",
   "execution_count": 4,
   "metadata": {
    "collapsed": false
   },
   "outputs": [
    {
     "name": "stdout",
     "output_type": "stream",
     "text": [
      "detected_genes.mean() 8.02368224299\n",
      "detected_genes.groupby(study.sample_id_to_phenotype).mean() phenotype\n",
      "MN      7.667781\n",
      "NPC     7.594408\n",
      "iPSC    8.925308\n",
      "dtype: float64\n"
     ]
    },
    {
     "data": {
      "image/png": "[encoded data removed]",
      "text/plain": [
       "<matplotlib.figure.Figure at 0x2b18840f60d0>"
      ]
     },
     "metadata": {},
     "output_type": "display_data"
    }
   ],
   "source": [
    "sns.set(context='paper', style='ticks')\n",
    "\n",
    "detected_genes = (study.expression.data_original > 1).sum(axis=1)\n",
    "detected_genes = detected_genes/1000\n",
    "\n",
    "six.print_('detected_genes.mean()', detected_genes.mean())\n",
    "six.print_('detected_genes.groupby(study.sample_id_to_phenotype).mean()', \n",
    "           detected_genes.groupby(study.sample_id_to_phenotype).mean())\n",
    "\n",
    "detected_genes = detected_genes.to_frame().join(study.metadata.data[['pooled', 'phenotype']])\n",
    "detected_genes = detected_genes.rename(columns={0: 'n_genes_detected'})\n",
    "\n",
    "detected_genes_pooled = detected_genes.ix[detected_genes.pooled]\n",
    "detected_genes_single = detected_genes.ix[~detected_genes.pooled]\n",
    "\n",
    "fig, ax = plt.subplots(figsize=(2.5, 2))\n",
    "sns.boxplot(x='phenotype', y='n_genes_detected', order=study.phenotype_order, linewidth=1,\n",
    "               data=detected_genes_single, palette=study.phenotype_color_ordered)\n",
    "sns.stripplot(x='phenotype', y='n_genes_detected', order=study.phenotype_order, #size=2, \n",
    "              linewidth=1, edgecolor='white',\n",
    "               data=detected_genes_single, palette=study.phenotype_color_ordered, jitter=True)\n",
    "sns.stripplot(x='phenotype', y='n_genes_detected', order=study.phenotype_order,linewidth=1,\n",
    "              data=detected_genes_pooled, color='k', size=5, jitter=True)\n",
    "sns.despine()\n",
    "ax.set_xlabel('')\n",
    "\n",
    "ax.set_ylabel('Thousands of genes\\nwith TPM > 1')\n",
    "\n",
    "# Reduce number of ticks\n",
    "yloc = plt.MaxNLocator(5)\n",
    "ax.yaxis.set_major_locator(yloc)\n",
    "\n",
    "sns.despine()\n",
    "fig.tight_layout()\n",
    "fig.savefig('{}/detected_genes.pdf'.format(folder))"
   ]
  },
  {
   "cell_type": "markdown",
   "metadata": {},
   "source": [
    "### Mapped reads"
   ]
  },
  {
   "cell_type": "code",
   "execution_count": 5,
   "metadata": {
    "collapsed": false
   },
   "outputs": [
    {
     "data": {
      "text/html": [
       "<div>\n",
       "<table border=\"1\" class=\"dataframe\">\n",
       "  <thead>\n",
       "    <tr style=\"text-align: right;\">\n",
       "      <th></th>\n",
       "      <th>Started job on</th>\n",
       "      <th>Started mapping on</th>\n",
       "      <th>Finished on</th>\n",
       "      <th>Mapping speed, Million of reads per hour</th>\n",
       "      <th>Number of input reads</th>\n",
       "      <th>Average input read length</th>\n",
       "      <th>UNIQUE READS</th>\n",
       "      <th>Uniquely mapped reads number</th>\n",
       "      <th>Uniquely mapped reads %</th>\n",
       "      <th>Average mapped length</th>\n",
       "      <th>...</th>\n",
       "      <th>% of reads mapped to too many loci</th>\n",
       "      <th>UNMAPPED READS</th>\n",
       "      <th>% of reads unmapped: too many mismatches</th>\n",
       "      <th>% of reads unmapped: too short</th>\n",
       "      <th>% of reads unmapped: other</th>\n",
       "      <th>% splices: Annotated (sjdb)</th>\n",
       "      <th>% splices: GT/AG</th>\n",
       "      <th>% splices: GC/AG</th>\n",
       "      <th>% splices: AT/AC</th>\n",
       "      <th>% splices: Non-canonical</th>\n",
       "    </tr>\n",
       "  </thead>\n",
       "  <tbody>\n",
       "    <tr>\n",
       "      <th>CVN_01</th>\n",
       "      <td>Feb 21 15:54:22</td>\n",
       "      <td>Feb 21 15:55:44</td>\n",
       "      <td>Feb 21 15:57:19</td>\n",
       "      <td>459.82</td>\n",
       "      <td>12134131</td>\n",
       "      <td>99</td>\n",
       "      <td>NaN</td>\n",
       "      <td>11128688</td>\n",
       "      <td>91.71</td>\n",
       "      <td>98.27</td>\n",
       "      <td>...</td>\n",
       "      <td>0.03</td>\n",
       "      <td>NaN</td>\n",
       "      <td>0</td>\n",
       "      <td>3.10</td>\n",
       "      <td>0.02</td>\n",
       "      <td>98.841858</td>\n",
       "      <td>99.126387</td>\n",
       "      <td>0.652647</td>\n",
       "      <td>0.134704</td>\n",
       "      <td>0.086261</td>\n",
       "    </tr>\n",
       "    <tr>\n",
       "      <th>CVN_02</th>\n",
       "      <td>Feb 21 15:55:43</td>\n",
       "      <td>Feb 21 15:57:11</td>\n",
       "      <td>Feb 21 15:58:51</td>\n",
       "      <td>480.66</td>\n",
       "      <td>13351539</td>\n",
       "      <td>99</td>\n",
       "      <td>NaN</td>\n",
       "      <td>12219037</td>\n",
       "      <td>91.52</td>\n",
       "      <td>98.13</td>\n",
       "      <td>...</td>\n",
       "      <td>0.04</td>\n",
       "      <td>NaN</td>\n",
       "      <td>0</td>\n",
       "      <td>3.96</td>\n",
       "      <td>0.02</td>\n",
       "      <td>98.614629</td>\n",
       "      <td>99.020137</td>\n",
       "      <td>0.801086</td>\n",
       "      <td>0.097722</td>\n",
       "      <td>0.081054</td>\n",
       "    </tr>\n",
       "    <tr>\n",
       "      <th>CVN_03</th>\n",
       "      <td>Feb 21 16:51:58</td>\n",
       "      <td>Feb 21 16:53:51</td>\n",
       "      <td>Feb 21 16:55:31</td>\n",
       "      <td>484.15</td>\n",
       "      <td>13448587</td>\n",
       "      <td>99</td>\n",
       "      <td>NaN</td>\n",
       "      <td>12210025</td>\n",
       "      <td>90.79</td>\n",
       "      <td>98.07</td>\n",
       "      <td>...</td>\n",
       "      <td>0.03</td>\n",
       "      <td>NaN</td>\n",
       "      <td>0</td>\n",
       "      <td>4.99</td>\n",
       "      <td>0.02</td>\n",
       "      <td>98.596403</td>\n",
       "      <td>99.028733</td>\n",
       "      <td>0.796140</td>\n",
       "      <td>0.101854</td>\n",
       "      <td>0.073272</td>\n",
       "    </tr>\n",
       "    <tr>\n",
       "      <th>CVN_04</th>\n",
       "      <td>Feb 21 16:45:53</td>\n",
       "      <td>Feb 21 16:47:23</td>\n",
       "      <td>Feb 21 16:48:59</td>\n",
       "      <td>474.71</td>\n",
       "      <td>12658833</td>\n",
       "      <td>99</td>\n",
       "      <td>NaN</td>\n",
       "      <td>11805790</td>\n",
       "      <td>93.26</td>\n",
       "      <td>98.33</td>\n",
       "      <td>...</td>\n",
       "      <td>0.04</td>\n",
       "      <td>NaN</td>\n",
       "      <td>0</td>\n",
       "      <td>2.89</td>\n",
       "      <td>0.02</td>\n",
       "      <td>98.831275</td>\n",
       "      <td>99.120483</td>\n",
       "      <td>0.711286</td>\n",
       "      <td>0.084708</td>\n",
       "      <td>0.083523</td>\n",
       "    </tr>\n",
       "    <tr>\n",
       "      <th>CVN_05</th>\n",
       "      <td>Feb 21 16:50:26</td>\n",
       "      <td>Feb 21 16:52:19</td>\n",
       "      <td>Feb 21 16:54:01</td>\n",
       "      <td>486.68</td>\n",
       "      <td>13789345</td>\n",
       "      <td>99</td>\n",
       "      <td>NaN</td>\n",
       "      <td>12894337</td>\n",
       "      <td>93.51</td>\n",
       "      <td>98.44</td>\n",
       "      <td>...</td>\n",
       "      <td>0.03</td>\n",
       "      <td>NaN</td>\n",
       "      <td>0</td>\n",
       "      <td>2.49</td>\n",
       "      <td>0.02</td>\n",
       "      <td>98.605923</td>\n",
       "      <td>99.083942</td>\n",
       "      <td>0.761804</td>\n",
       "      <td>0.089186</td>\n",
       "      <td>0.065069</td>\n",
       "    </tr>\n",
       "  </tbody>\n",
       "</table>\n",
       "<p>5 rows × 35 columns</p>\n",
       "</div>"
      ],
      "text/plain": [
       "         Started job on Started mapping on      Finished on  \\\n",
       "CVN_01  Feb 21 15:54:22    Feb 21 15:55:44  Feb 21 15:57:19   \n",
       "CVN_02  Feb 21 15:55:43    Feb 21 15:57:11  Feb 21 15:58:51   \n",
       "CVN_03  Feb 21 16:51:58    Feb 21 16:53:51  Feb 21 16:55:31   \n",
       "CVN_04  Feb 21 16:45:53    Feb 21 16:47:23  Feb 21 16:48:59   \n",
       "CVN_05  Feb 21 16:50:26    Feb 21 16:52:19  Feb 21 16:54:01   \n",
       "\n",
       "        Mapping speed, Million of reads per hour  Number of input reads  \\\n",
       "CVN_01                                    459.82               12134131   \n",
       "CVN_02                                    480.66               13351539   \n",
       "CVN_03                                    484.15               13448587   \n",
       "CVN_04                                    474.71               12658833   \n",
       "CVN_05                                    486.68               13789345   \n",
       "\n",
       "        Average input read length  UNIQUE READS  Uniquely mapped reads number  \\\n",
       "CVN_01                         99           NaN                      11128688   \n",
       "CVN_02                         99           NaN                      12219037   \n",
       "CVN_03                         99           NaN                      12210025   \n",
       "CVN_04                         99           NaN                      11805790   \n",
       "CVN_05                         99           NaN                      12894337   \n",
       "\n",
       "        Uniquely mapped reads %  Average mapped length  \\\n",
       "CVN_01                    91.71                  98.27   \n",
       "CVN_02                    91.52                  98.13   \n",
       "CVN_03                    90.79                  98.07   \n",
       "CVN_04                    93.26                  98.33   \n",
       "CVN_05                    93.51                  98.44   \n",
       "\n",
       "                  ...             % of reads mapped to too many loci  \\\n",
       "CVN_01            ...                                           0.03   \n",
       "CVN_02            ...                                           0.04   \n",
       "CVN_03            ...                                           0.03   \n",
       "CVN_04            ...                                           0.04   \n",
       "CVN_05            ...                                           0.03   \n",
       "\n",
       "        UNMAPPED READS  % of reads unmapped: too many mismatches  \\\n",
       "CVN_01             NaN                                         0   \n",
       "CVN_02             NaN                                         0   \n",
       "CVN_03             NaN                                         0   \n",
       "CVN_04             NaN                                         0   \n",
       "CVN_05             NaN                                         0   \n",
       "\n",
       "        % of reads unmapped: too short  % of reads unmapped: other  \\\n",
       "CVN_01                            3.10                        0.02   \n",
       "CVN_02                            3.96                        0.02   \n",
       "CVN_03                            4.99                        0.02   \n",
       "CVN_04                            2.89                        0.02   \n",
       "CVN_05                            2.49                        0.02   \n",
       "\n",
       "        % splices: Annotated (sjdb)  % splices: GT/AG  % splices: GC/AG  \\\n",
       "CVN_01                    98.841858         99.126387          0.652647   \n",
       "CVN_02                    98.614629         99.020137          0.801086   \n",
       "CVN_03                    98.596403         99.028733          0.796140   \n",
       "CVN_04                    98.831275         99.120483          0.711286   \n",
       "CVN_05                    98.605923         99.083942          0.761804   \n",
       "\n",
       "        % splices: AT/AC  % splices: Non-canonical  \n",
       "CVN_01          0.134704                  0.086261  \n",
       "CVN_02          0.097722                  0.081054  \n",
       "CVN_03          0.101854                  0.073272  \n",
       "CVN_04          0.084708                  0.083523  \n",
       "CVN_05          0.089186                  0.065069  \n",
       "\n",
       "[5 rows x 35 columns]"
      ]
     },
     "execution_count": 5,
     "metadata": {},
     "output_type": "execute_result"
    }
   ],
   "source": [
    "study.mapping_stats.data.head()"
   ]
  },
  {
   "cell_type": "code",
   "execution_count": 6,
   "metadata": {
    "collapsed": false
   },
   "outputs": [
    {
     "name": "stdout",
     "output_type": "stream",
     "text": [
      "n_genes_detected    8.023682\n",
      "pooled              0.037383\n",
      "dtype: float64\n",
      "           n_genes_detected    pooled\n",
      "phenotype                            \n",
      "MN                 7.667781  0.041096\n",
      "NPC                7.594408  0.039474\n",
      "iPSC               8.925308  0.030769\n"
     ]
    },
    {
     "data": {
      "image/png": "[encoded data removed]",
      "text/plain": [
       "<matplotlib.figure.Figure at 0x2b18b66f2890>"
      ]
     },
     "metadata": {},
     "output_type": "display_data"
    }
   ],
   "source": [
    "# sns.set(context='paper', style='ticks')\n",
    "reads_col = 'Uniquely mapped reads number'\n",
    "mapped_reads = study.mapping_stats.data[reads_col]/1e6\n",
    "\n",
    "print detected_genes.mean()\n",
    "print detected_genes.groupby(study.sample_id_to_phenotype).mean()\n",
    "\n",
    "mapped_reads = mapped_reads.to_frame().join(study.metadata.data[['pooled', 'phenotype']])\n",
    "mapped_reads = mapped_reads.rename(columns={0: 'Millions of reads'})\n",
    "\n",
    "mapped_reads_pooled = mapped_reads.ix[mapped_reads.pooled]\n",
    "mapped_reads_single = mapped_reads.ix[~mapped_reads.pooled]\n",
    "\n",
    "fig, ax = plt.subplots(figsize=(2.5, 2))\n",
    "sns.boxplot(x='phenotype', y=reads_col, order=study.phenotype_order, linewidth=1, \n",
    "               data=mapped_reads_single, palette=study.phenotype_color_ordered, fliersize=0)\n",
    "sns.stripplot(x='phenotype', y=reads_col, order=study.phenotype_order, linewidth=1,edgecolor='white', #size=2,\n",
    "               data=mapped_reads_single, palette=study.phenotype_color_ordered, jitter=True)\n",
    "sns.stripplot(x='phenotype', y=reads_col, order=study.phenotype_order, linewidth=1,edgecolor='white',\n",
    "              data=mapped_reads_pooled, color='k', size=5, jitter=True)\n",
    "sns.despine()\n",
    "ax.set_xlabel('')\n",
    "\n",
    "ax.set_ylabel('Millions of reads')\n",
    "\n",
    "ymin, ymax = ax.get_ylim()\n",
    "ax.set_ylim(0, ymax)\n",
    "\n",
    "# Reduce number of ticks\n",
    "yloc = plt.MaxNLocator(5)\n",
    "ax.yaxis.set_major_locator(yloc)\n",
    "\n",
    "sns.despine()\n",
    "fig.tight_layout()\n",
    "fig.savefig('{}/mapped_reads.pdf'.format(folder))"
   ]
  },
  {
   "cell_type": "markdown",
   "metadata": {},
   "source": [
    "### Number of detected genes, per transcript type"
   ]
  },
  {
   "cell_type": "markdown",
   "metadata": {},
   "source": [
    "### Differentially expressed genes between outliers and non-outliers\n",
    "\n",
    "Focus on just NPC and MN because that's where the majority of the outliers are."
   ]
  },
  {
   "cell_type": "code",
   "execution_count": 7,
   "metadata": {
    "collapsed": false
   },
   "outputs": [
    {
     "name": "stdout",
     "output_type": "stream",
     "text": [
      "(143, 18594)\n"
     ]
    },
    {
     "data": {
      "text/plain": [
       "phenotype\n",
       "MN     70\n",
       "NPC    73\n",
       "dtype: int64"
      ]
     },
     "execution_count": 7,
     "metadata": {},
     "output_type": "execute_result"
    }
   ],
   "source": [
    "expression = study.expression.singles.ix[study.metadata.data.phenotype.map(lambda x: x in ('MN', 'NPC'))].dropna()\n",
    "print expression.shape\n",
    "# Use only genes which have $\\log_2(TPM+1) > 1$ in at least 3 cells.\n",
    "expression = expression.ix[:, (expression > 1).sum() >= 3]\n",
    "expression.groupby(study.sample_id_to_phenotype).size()"
   ]
  },
  {
   "cell_type": "code",
   "execution_count": 8,
   "metadata": {
    "collapsed": false
   },
   "outputs": [
    {
     "data": {
      "text/html": [
       "<div>\n",
       "<table border=\"1\" class=\"dataframe\">\n",
       "  <thead>\n",
       "    <tr style=\"text-align: right;\">\n",
       "      <th></th>\n",
       "      <th></th>\n",
       "      <th>ENSG00000000003</th>\n",
       "      <th>ENSG00000000419</th>\n",
       "      <th>ENSG00000000457</th>\n",
       "      <th>ENSG00000000460</th>\n",
       "      <th>ENSG00000001036</th>\n",
       "      <th>ENSG00000001084</th>\n",
       "      <th>ENSG00000001167</th>\n",
       "      <th>ENSG00000001460</th>\n",
       "      <th>ENSG00000001461</th>\n",
       "      <th>ENSG00000001497</th>\n",
       "      <th>...</th>\n",
       "      <th>ENSGR0000185960</th>\n",
       "      <th>ENSGR0000197976</th>\n",
       "      <th>ENSGR0000198223</th>\n",
       "      <th>ENSGR0000205755</th>\n",
       "      <th>ENSGR0000214717</th>\n",
       "      <th>ENSGR0000223511</th>\n",
       "      <th>ENSGR0000226179</th>\n",
       "      <th>ENSGR0000236017</th>\n",
       "      <th>ENSGR0000236871</th>\n",
       "      <th>ENSGR0000270726</th>\n",
       "    </tr>\n",
       "    <tr>\n",
       "      <th>phenotype</th>\n",
       "      <th></th>\n",
       "      <th></th>\n",
       "      <th></th>\n",
       "      <th></th>\n",
       "      <th></th>\n",
       "      <th></th>\n",
       "      <th></th>\n",
       "      <th></th>\n",
       "      <th></th>\n",
       "      <th></th>\n",
       "      <th></th>\n",
       "      <th></th>\n",
       "      <th></th>\n",
       "      <th></th>\n",
       "      <th></th>\n",
       "      <th></th>\n",
       "      <th></th>\n",
       "      <th></th>\n",
       "      <th></th>\n",
       "      <th></th>\n",
       "      <th></th>\n",
       "      <th></th>\n",
       "    </tr>\n",
       "  </thead>\n",
       "  <tbody>\n",
       "    <tr>\n",
       "      <th rowspan=\"2\" valign=\"top\">MN</th>\n",
       "      <th>H_statistic</th>\n",
       "      <td>7.322830</td>\n",
       "      <td>7.367251</td>\n",
       "      <td>0.473811</td>\n",
       "      <td>1.560843</td>\n",
       "      <td>3.168839</td>\n",
       "      <td>0.002449</td>\n",
       "      <td>0.501945</td>\n",
       "      <td>2.543291e+01</td>\n",
       "      <td>1.680846</td>\n",
       "      <td>4.436474</td>\n",
       "      <td>...</td>\n",
       "      <td>6.423266</td>\n",
       "      <td>8.492499</td>\n",
       "      <td>2.181790</td>\n",
       "      <td>1.649531</td>\n",
       "      <td>0.473050</td>\n",
       "      <td>0.533037</td>\n",
       "      <td>0.010156</td>\n",
       "      <td>0.745870</td>\n",
       "      <td>1.397358</td>\n",
       "      <td>0.349489</td>\n",
       "    </tr>\n",
       "    <tr>\n",
       "      <th>p_value</th>\n",
       "      <td>0.006808</td>\n",
       "      <td>0.006642</td>\n",
       "      <td>0.491239</td>\n",
       "      <td>0.211542</td>\n",
       "      <td>0.075056</td>\n",
       "      <td>0.960533</td>\n",
       "      <td>0.478647</td>\n",
       "      <td>4.580384e-07</td>\n",
       "      <td>0.194812</td>\n",
       "      <td>0.035179</td>\n",
       "      <td>...</td>\n",
       "      <td>0.011263</td>\n",
       "      <td>0.003566</td>\n",
       "      <td>0.139652</td>\n",
       "      <td>0.199023</td>\n",
       "      <td>0.491587</td>\n",
       "      <td>0.465333</td>\n",
       "      <td>0.919728</td>\n",
       "      <td>0.387787</td>\n",
       "      <td>0.237166</td>\n",
       "      <td>0.554403</td>\n",
       "    </tr>\n",
       "    <tr>\n",
       "      <th rowspan=\"2\" valign=\"top\">NPC</th>\n",
       "      <th>H_statistic</th>\n",
       "      <td>0.494155</td>\n",
       "      <td>1.358311</td>\n",
       "      <td>0.236059</td>\n",
       "      <td>0.426773</td>\n",
       "      <td>0.482292</td>\n",
       "      <td>0.892931</td>\n",
       "      <td>3.813714</td>\n",
       "      <td>1.787887e-01</td>\n",
       "      <td>4.156290</td>\n",
       "      <td>0.109393</td>\n",
       "      <td>...</td>\n",
       "      <td>5.094636</td>\n",
       "      <td>0.415550</td>\n",
       "      <td>0.601654</td>\n",
       "      <td>1.612828</td>\n",
       "      <td>0.428386</td>\n",
       "      <td>0.952055</td>\n",
       "      <td>2.486977</td>\n",
       "      <td>0.103623</td>\n",
       "      <td>0.585400</td>\n",
       "      <td>0.040115</td>\n",
       "    </tr>\n",
       "    <tr>\n",
       "      <th>p_value</th>\n",
       "      <td>0.482080</td>\n",
       "      <td>0.243830</td>\n",
       "      <td>0.627067</td>\n",
       "      <td>0.513577</td>\n",
       "      <td>0.487386</td>\n",
       "      <td>0.344684</td>\n",
       "      <td>0.050835</td>\n",
       "      <td>6.724163e-01</td>\n",
       "      <td>0.041480</td>\n",
       "      <td>0.740836</td>\n",
       "      <td>...</td>\n",
       "      <td>0.024000</td>\n",
       "      <td>0.519166</td>\n",
       "      <td>0.437947</td>\n",
       "      <td>0.204095</td>\n",
       "      <td>0.512782</td>\n",
       "      <td>0.329197</td>\n",
       "      <td>0.114792</td>\n",
       "      <td>0.747525</td>\n",
       "      <td>0.444203</td>\n",
       "      <td>0.841255</td>\n",
       "    </tr>\n",
       "  </tbody>\n",
       "</table>\n",
       "<p>4 rows × 18166 columns</p>\n",
       "</div>"
      ],
      "text/plain": [
       "                       ENSG00000000003  ENSG00000000419  ENSG00000000457  \\\n",
       "phenotype                                                                  \n",
       "MN        H_statistic         7.322830         7.367251         0.473811   \n",
       "          p_value             0.006808         0.006642         0.491239   \n",
       "NPC       H_statistic         0.494155         1.358311         0.236059   \n",
       "          p_value             0.482080         0.243830         0.627067   \n",
       "\n",
       "                       ENSG00000000460  ENSG00000001036  ENSG00000001084  \\\n",
       "phenotype                                                                  \n",
       "MN        H_statistic         1.560843         3.168839         0.002449   \n",
       "          p_value             0.211542         0.075056         0.960533   \n",
       "NPC       H_statistic         0.426773         0.482292         0.892931   \n",
       "          p_value             0.513577         0.487386         0.344684   \n",
       "\n",
       "                       ENSG00000001167  ENSG00000001460  ENSG00000001461  \\\n",
       "phenotype                                                                  \n",
       "MN        H_statistic         0.501945     2.543291e+01         1.680846   \n",
       "          p_value             0.478647     4.580384e-07         0.194812   \n",
       "NPC       H_statistic         3.813714     1.787887e-01         4.156290   \n",
       "          p_value             0.050835     6.724163e-01         0.041480   \n",
       "\n",
       "                       ENSG00000001497       ...         ENSGR0000185960  \\\n",
       "phenotype                                    ...                           \n",
       "MN        H_statistic         4.436474       ...                6.423266   \n",
       "          p_value             0.035179       ...                0.011263   \n",
       "NPC       H_statistic         0.109393       ...                5.094636   \n",
       "          p_value             0.740836       ...                0.024000   \n",
       "\n",
       "                       ENSGR0000197976  ENSGR0000198223  ENSGR0000205755  \\\n",
       "phenotype                                                                  \n",
       "MN        H_statistic         8.492499         2.181790         1.649531   \n",
       "          p_value             0.003566         0.139652         0.199023   \n",
       "NPC       H_statistic         0.415550         0.601654         1.612828   \n",
       "          p_value             0.519166         0.437947         0.204095   \n",
       "\n",
       "                       ENSGR0000214717  ENSGR0000223511  ENSGR0000226179  \\\n",
       "phenotype                                                                  \n",
       "MN        H_statistic         0.473050         0.533037         0.010156   \n",
       "          p_value             0.491587         0.465333         0.919728   \n",
       "NPC       H_statistic         0.428386         0.952055         2.486977   \n",
       "          p_value             0.512782         0.329197         0.114792   \n",
       "\n",
       "                       ENSGR0000236017  ENSGR0000236871  ENSGR0000270726  \n",
       "phenotype                                                                 \n",
       "MN        H_statistic         0.745870         1.397358         0.349489  \n",
       "          p_value             0.387787         0.237166         0.554403  \n",
       "NPC       H_statistic         0.103623         0.585400         0.040115  \n",
       "          p_value             0.747525         0.444203         0.841255  \n",
       "\n",
       "[4 rows x 18166 columns]"
      ]
     },
     "execution_count": 8,
     "metadata": {},
     "output_type": "execute_result"
    }
   ],
   "source": [
    "from scipy.stats import kruskal\n",
    "\n",
    "grouped = expression.groupby(study.sample_id_to_phenotype)\n",
    "\n",
    "def outliers_diff_expression(df1):\n",
    "    # Use only genes which have $\\log_2(TPM+1) > 1$ in at least 3 cells.\n",
    "    df1 = df1.ix[:, (df1 > 1).sum() >= 3].dropna()\n",
    "    return df1.groupby(level=0, axis=1).apply(lambda df2: pd.Series(kruskal(*[x for name, x in \n",
    "                                                                              df2.groupby(study.metadata.data.outlier)]), \n",
    "                                                                    index=['H_statistic', 'p_value']))\n",
    "\n",
    "kruskal_results = grouped.apply(outliers_diff_expression)\n",
    "kruskal_results.head()"
   ]
  },
  {
   "cell_type": "code",
   "execution_count": 9,
   "metadata": {
    "collapsed": false
   },
   "outputs": [
    {
     "data": {
      "text/html": [
       "<div>\n",
       "<table border=\"1\" class=\"dataframe\">\n",
       "  <thead>\n",
       "    <tr>\n",
       "      <th>phenotype</th>\n",
       "      <th colspan=\"2\" halign=\"left\">MN</th>\n",
       "      <th colspan=\"2\" halign=\"left\">NPC</th>\n",
       "    </tr>\n",
       "    <tr>\n",
       "      <th></th>\n",
       "      <th>H_statistic</th>\n",
       "      <th>p_value</th>\n",
       "      <th>H_statistic</th>\n",
       "      <th>p_value</th>\n",
       "    </tr>\n",
       "  </thead>\n",
       "  <tbody>\n",
       "    <tr>\n",
       "      <th>ENSG00000000003</th>\n",
       "      <td>7.322830</td>\n",
       "      <td>0.006808</td>\n",
       "      <td>0.494155</td>\n",
       "      <td>0.482080</td>\n",
       "    </tr>\n",
       "    <tr>\n",
       "      <th>ENSG00000000419</th>\n",
       "      <td>7.367251</td>\n",
       "      <td>0.006642</td>\n",
       "      <td>1.358311</td>\n",
       "      <td>0.243830</td>\n",
       "    </tr>\n",
       "    <tr>\n",
       "      <th>ENSG00000000457</th>\n",
       "      <td>0.473811</td>\n",
       "      <td>0.491239</td>\n",
       "      <td>0.236059</td>\n",
       "      <td>0.627067</td>\n",
       "    </tr>\n",
       "    <tr>\n",
       "      <th>ENSG00000000460</th>\n",
       "      <td>1.560843</td>\n",
       "      <td>0.211542</td>\n",
       "      <td>0.426773</td>\n",
       "      <td>0.513577</td>\n",
       "    </tr>\n",
       "    <tr>\n",
       "      <th>ENSG00000001036</th>\n",
       "      <td>3.168839</td>\n",
       "      <td>0.075056</td>\n",
       "      <td>0.482292</td>\n",
       "      <td>0.487386</td>\n",
       "    </tr>\n",
       "  </tbody>\n",
       "</table>\n",
       "</div>"
      ],
      "text/plain": [
       "phenotype                MN                   NPC          \n",
       "                H_statistic   p_value H_statistic   p_value\n",
       "ENSG00000000003    7.322830  0.006808    0.494155  0.482080\n",
       "ENSG00000000419    7.367251  0.006642    1.358311  0.243830\n",
       "ENSG00000000457    0.473811  0.491239    0.236059  0.627067\n",
       "ENSG00000000460    1.560843  0.211542    0.426773  0.513577\n",
       "ENSG00000001036    3.168839  0.075056    0.482292  0.487386"
      ]
     },
     "execution_count": 9,
     "metadata": {},
     "output_type": "execute_result"
    }
   ],
   "source": [
    "kruskal_results_tidy = kruskal_results.T\n",
    "kruskal_results_tidy.head()"
   ]
  },
  {
   "cell_type": "code",
   "execution_count": 10,
   "metadata": {
    "collapsed": false
   },
   "outputs": [
    {
     "data": {
      "text/html": [
       "<div>\n",
       "<table border=\"1\" class=\"dataframe\">\n",
       "  <thead>\n",
       "    <tr style=\"text-align: right;\">\n",
       "      <th></th>\n",
       "      <th>gene_id</th>\n",
       "      <th>phenotype</th>\n",
       "      <th>H_statistic</th>\n",
       "      <th>p_value</th>\n",
       "    </tr>\n",
       "  </thead>\n",
       "  <tbody>\n",
       "    <tr>\n",
       "      <th>0</th>\n",
       "      <td>ENSG00000000003</td>\n",
       "      <td>MN</td>\n",
       "      <td>7.322830</td>\n",
       "      <td>0.006808</td>\n",
       "    </tr>\n",
       "    <tr>\n",
       "      <th>1</th>\n",
       "      <td>ENSG00000000003</td>\n",
       "      <td>NPC</td>\n",
       "      <td>0.494155</td>\n",
       "      <td>0.482080</td>\n",
       "    </tr>\n",
       "    <tr>\n",
       "      <th>2</th>\n",
       "      <td>ENSG00000000419</td>\n",
       "      <td>MN</td>\n",
       "      <td>7.367251</td>\n",
       "      <td>0.006642</td>\n",
       "    </tr>\n",
       "    <tr>\n",
       "      <th>3</th>\n",
       "      <td>ENSG00000000419</td>\n",
       "      <td>NPC</td>\n",
       "      <td>1.358311</td>\n",
       "      <td>0.243830</td>\n",
       "    </tr>\n",
       "    <tr>\n",
       "      <th>4</th>\n",
       "      <td>ENSG00000000457</td>\n",
       "      <td>MN</td>\n",
       "      <td>0.473811</td>\n",
       "      <td>0.491239</td>\n",
       "    </tr>\n",
       "  </tbody>\n",
       "</table>\n",
       "</div>"
      ],
      "text/plain": [
       "           gene_id phenotype  H_statistic   p_value\n",
       "0  ENSG00000000003        MN     7.322830  0.006808\n",
       "1  ENSG00000000003       NPC     0.494155  0.482080\n",
       "2  ENSG00000000419        MN     7.367251  0.006642\n",
       "3  ENSG00000000419       NPC     1.358311  0.243830\n",
       "4  ENSG00000000457        MN     0.473811  0.491239"
      ]
     },
     "execution_count": 10,
     "metadata": {},
     "output_type": "execute_result"
    }
   ],
   "source": [
    "kruskal_results_tidy = kruskal_results_tidy.stack(level=0).reset_index()\n",
    "kruskal_results_tidy = kruskal_results_tidy.rename(columns={'level_0': 'gene_id'})\n",
    "kruskal_results_tidy.head()"
   ]
  },
  {
   "cell_type": "code",
   "execution_count": 11,
   "metadata": {
    "collapsed": false
   },
   "outputs": [
    {
     "data": {
      "text/html": [
       "<div>\n",
       "<table border=\"1\" class=\"dataframe\">\n",
       "  <thead>\n",
       "    <tr style=\"text-align: right;\">\n",
       "      <th></th>\n",
       "      <th>gene_id</th>\n",
       "      <th>phenotype</th>\n",
       "      <th>H_statistic</th>\n",
       "      <th>p_value</th>\n",
       "      <th>bonferonni_p_value</th>\n",
       "    </tr>\n",
       "  </thead>\n",
       "  <tbody>\n",
       "    <tr>\n",
       "      <th>0</th>\n",
       "      <td>ENSG00000000003</td>\n",
       "      <td>MN</td>\n",
       "      <td>7.322830</td>\n",
       "      <td>0.006808</td>\n",
       "      <td>118.861233</td>\n",
       "    </tr>\n",
       "    <tr>\n",
       "      <th>1</th>\n",
       "      <td>ENSG00000000003</td>\n",
       "      <td>NPC</td>\n",
       "      <td>0.494155</td>\n",
       "      <td>0.482080</td>\n",
       "      <td>8383.365332</td>\n",
       "    </tr>\n",
       "    <tr>\n",
       "      <th>2</th>\n",
       "      <td>ENSG00000000419</td>\n",
       "      <td>MN</td>\n",
       "      <td>7.367251</td>\n",
       "      <td>0.006642</td>\n",
       "      <td>115.960198</td>\n",
       "    </tr>\n",
       "    <tr>\n",
       "      <th>3</th>\n",
       "      <td>ENSG00000000419</td>\n",
       "      <td>NPC</td>\n",
       "      <td>1.358311</td>\n",
       "      <td>0.243830</td>\n",
       "      <td>4240.209790</td>\n",
       "    </tr>\n",
       "    <tr>\n",
       "      <th>4</th>\n",
       "      <td>ENSG00000000457</td>\n",
       "      <td>MN</td>\n",
       "      <td>0.473811</td>\n",
       "      <td>0.491239</td>\n",
       "      <td>8576.050628</td>\n",
       "    </tr>\n",
       "  </tbody>\n",
       "</table>\n",
       "</div>"
      ],
      "text/plain": [
       "           gene_id phenotype  H_statistic   p_value  bonferonni_p_value\n",
       "0  ENSG00000000003        MN     7.322830  0.006808          118.861233\n",
       "1  ENSG00000000003       NPC     0.494155  0.482080         8383.365332\n",
       "2  ENSG00000000419        MN     7.367251  0.006642          115.960198\n",
       "3  ENSG00000000419       NPC     1.358311  0.243830         4240.209790\n",
       "4  ENSG00000000457        MN     0.473811  0.491239         8576.050628"
      ]
     },
     "execution_count": 11,
     "metadata": {},
     "output_type": "execute_result"
    }
   ],
   "source": [
    "kruskal_results_tidy['bonferonni_p_value'] = kruskal_results_tidy.groupby(\n",
    "    'phenotype', as_index=False, group_keys=False).apply(lambda x: x.p_value * x.shape[0])\n",
    "kruskal_results_tidy.head()"
   ]
  },
  {
   "cell_type": "code",
   "execution_count": 12,
   "metadata": {
    "collapsed": false
   },
   "outputs": [
    {
     "data": {
      "text/html": [
       "<div>\n",
       "<table border=\"1\" class=\"dataframe\">\n",
       "  <thead>\n",
       "    <tr style=\"text-align: right;\">\n",
       "      <th></th>\n",
       "      <th></th>\n",
       "      <th>ENSG00000000003</th>\n",
       "      <th>ENSG00000000419</th>\n",
       "      <th>ENSG00000000457</th>\n",
       "      <th>ENSG00000000460</th>\n",
       "      <th>ENSG00000001036</th>\n",
       "      <th>ENSG00000001084</th>\n",
       "      <th>ENSG00000001167</th>\n",
       "      <th>ENSG00000001460</th>\n",
       "      <th>ENSG00000001461</th>\n",
       "      <th>ENSG00000001497</th>\n",
       "      <th>...</th>\n",
       "      <th>ENSGR0000185960</th>\n",
       "      <th>ENSGR0000197976</th>\n",
       "      <th>ENSGR0000198223</th>\n",
       "      <th>ENSGR0000205755</th>\n",
       "      <th>ENSGR0000214717</th>\n",
       "      <th>ENSGR0000223511</th>\n",
       "      <th>ENSGR0000226179</th>\n",
       "      <th>ENSGR0000236017</th>\n",
       "      <th>ENSGR0000236871</th>\n",
       "      <th>ENSGR0000270726</th>\n",
       "    </tr>\n",
       "    <tr>\n",
       "      <th>phenotype</th>\n",
       "      <th>outlier</th>\n",
       "      <th></th>\n",
       "      <th></th>\n",
       "      <th></th>\n",
       "      <th></th>\n",
       "      <th></th>\n",
       "      <th></th>\n",
       "      <th></th>\n",
       "      <th></th>\n",
       "      <th></th>\n",
       "      <th></th>\n",
       "      <th></th>\n",
       "      <th></th>\n",
       "      <th></th>\n",
       "      <th></th>\n",
       "      <th></th>\n",
       "      <th></th>\n",
       "      <th></th>\n",
       "      <th></th>\n",
       "      <th></th>\n",
       "      <th></th>\n",
       "      <th></th>\n",
       "    </tr>\n",
       "  </thead>\n",
       "  <tbody>\n",
       "    <tr>\n",
       "      <th rowspan=\"2\" valign=\"top\">MN</th>\n",
       "      <th>False</th>\n",
       "      <td>1.966128</td>\n",
       "      <td>0.146682</td>\n",
       "      <td>0.963938</td>\n",
       "      <td>0.000000</td>\n",
       "      <td>0.548745</td>\n",
       "      <td>0</td>\n",
       "      <td>0.000000</td>\n",
       "      <td>0.000000</td>\n",
       "      <td>1.561635</td>\n",
       "      <td>0.000000</td>\n",
       "      <td>...</td>\n",
       "      <td>1.893554</td>\n",
       "      <td>0.000000</td>\n",
       "      <td>1.048838</td>\n",
       "      <td>0.653262</td>\n",
       "      <td>0.853553</td>\n",
       "      <td>0.593043</td>\n",
       "      <td>1.650008</td>\n",
       "      <td>0</td>\n",
       "      <td>0.246633</td>\n",
       "      <td>0.090517</td>\n",
       "    </tr>\n",
       "    <tr>\n",
       "      <th>True</th>\n",
       "      <td>7.347976</td>\n",
       "      <td>4.120315</td>\n",
       "      <td>1.368552</td>\n",
       "      <td>0.215237</td>\n",
       "      <td>3.864384</td>\n",
       "      <td>0</td>\n",
       "      <td>0.135468</td>\n",
       "      <td>2.350439</td>\n",
       "      <td>0.633108</td>\n",
       "      <td>4.070803</td>\n",
       "      <td>...</td>\n",
       "      <td>1.304145</td>\n",
       "      <td>3.038924</td>\n",
       "      <td>0.559763</td>\n",
       "      <td>0.336301</td>\n",
       "      <td>0.540179</td>\n",
       "      <td>0.508105</td>\n",
       "      <td>1.462861</td>\n",
       "      <td>0</td>\n",
       "      <td>0.594848</td>\n",
       "      <td>0.627495</td>\n",
       "    </tr>\n",
       "    <tr>\n",
       "      <th rowspan=\"2\" valign=\"top\">NPC</th>\n",
       "      <th>False</th>\n",
       "      <td>6.894939</td>\n",
       "      <td>3.887836</td>\n",
       "      <td>0.956430</td>\n",
       "      <td>0.400072</td>\n",
       "      <td>0.294775</td>\n",
       "      <td>0</td>\n",
       "      <td>0.450734</td>\n",
       "      <td>0.000000</td>\n",
       "      <td>0.862289</td>\n",
       "      <td>0.498823</td>\n",
       "      <td>...</td>\n",
       "      <td>0.844715</td>\n",
       "      <td>0.000000</td>\n",
       "      <td>0.584935</td>\n",
       "      <td>0.297500</td>\n",
       "      <td>3.822812</td>\n",
       "      <td>0.223140</td>\n",
       "      <td>0.952612</td>\n",
       "      <td>0</td>\n",
       "      <td>0.146246</td>\n",
       "      <td>0.196876</td>\n",
       "    </tr>\n",
       "    <tr>\n",
       "      <th>True</th>\n",
       "      <td>4.118259</td>\n",
       "      <td>0.432597</td>\n",
       "      <td>0.673015</td>\n",
       "      <td>0.096245</td>\n",
       "      <td>0.230902</td>\n",
       "      <td>0</td>\n",
       "      <td>0.000000</td>\n",
       "      <td>0.000000</td>\n",
       "      <td>3.247829</td>\n",
       "      <td>1.125496</td>\n",
       "      <td>...</td>\n",
       "      <td>2.310551</td>\n",
       "      <td>0.000000</td>\n",
       "      <td>0.914136</td>\n",
       "      <td>0.491330</td>\n",
       "      <td>2.544843</td>\n",
       "      <td>0.578516</td>\n",
       "      <td>1.971081</td>\n",
       "      <td>0</td>\n",
       "      <td>0.271787</td>\n",
       "      <td>0.251183</td>\n",
       "    </tr>\n",
       "  </tbody>\n",
       "</table>\n",
       "<p>4 rows × 18273 columns</p>\n",
       "</div>"
      ],
      "text/plain": [
       "                   ENSG00000000003  ENSG00000000419  ENSG00000000457  \\\n",
       "phenotype outlier                                                      \n",
       "MN        False           1.966128         0.146682         0.963938   \n",
       "          True            7.347976         4.120315         1.368552   \n",
       "NPC       False           6.894939         3.887836         0.956430   \n",
       "          True            4.118259         0.432597         0.673015   \n",
       "\n",
       "                   ENSG00000000460  ENSG00000001036  ENSG00000001084  \\\n",
       "phenotype outlier                                                      \n",
       "MN        False           0.000000         0.548745                0   \n",
       "          True            0.215237         3.864384                0   \n",
       "NPC       False           0.400072         0.294775                0   \n",
       "          True            0.096245         0.230902                0   \n",
       "\n",
       "                   ENSG00000001167  ENSG00000001460  ENSG00000001461  \\\n",
       "phenotype outlier                                                      \n",
       "MN        False           0.000000         0.000000         1.561635   \n",
       "          True            0.135468         2.350439         0.633108   \n",
       "NPC       False           0.450734         0.000000         0.862289   \n",
       "          True            0.000000         0.000000         3.247829   \n",
       "\n",
       "                   ENSG00000001497       ...         ENSGR0000185960  \\\n",
       "phenotype outlier                        ...                           \n",
       "MN        False           0.000000       ...                1.893554   \n",
       "          True            4.070803       ...                1.304145   \n",
       "NPC       False           0.498823       ...                0.844715   \n",
       "          True            1.125496       ...                2.310551   \n",
       "\n",
       "                   ENSGR0000197976  ENSGR0000198223  ENSGR0000205755  \\\n",
       "phenotype outlier                                                      \n",
       "MN        False           0.000000         1.048838         0.653262   \n",
       "          True            3.038924         0.559763         0.336301   \n",
       "NPC       False           0.000000         0.584935         0.297500   \n",
       "          True            0.000000         0.914136         0.491330   \n",
       "\n",
       "                   ENSGR0000214717  ENSGR0000223511  ENSGR0000226179  \\\n",
       "phenotype outlier                                                      \n",
       "MN        False           0.853553         0.593043         1.650008   \n",
       "          True            0.540179         0.508105         1.462861   \n",
       "NPC       False           3.822812         0.223140         0.952612   \n",
       "          True            2.544843         0.578516         1.971081   \n",
       "\n",
       "                   ENSGR0000236017  ENSGR0000236871  ENSGR0000270726  \n",
       "phenotype outlier                                                     \n",
       "MN        False                  0         0.246633         0.090517  \n",
       "          True                   0         0.594848         0.627495  \n",
       "NPC       False                  0         0.146246         0.196876  \n",
       "          True                   0         0.271787         0.251183  \n",
       "\n",
       "[4 rows x 18273 columns]"
      ]
     },
     "execution_count": 12,
     "metadata": {},
     "output_type": "execute_result"
    }
   ],
   "source": [
    "medians = expression.groupby(study.sample_id_to_phenotype).apply(lambda x: x.groupby(study.metadata.data.outlier).median())\n",
    "medians.head()\n",
    "# medians_tidy = medians.unstack().reset_index()\n",
    "# medians_tidy = medians_tidy.rename(columns={'level_0': 'gene_id', 0: 'median'})\n",
    "# medians_tidy.head()"
   ]
  },
  {
   "cell_type": "code",
   "execution_count": 13,
   "metadata": {
    "collapsed": true
   },
   "outputs": [],
   "source": [
    "idx = pd.IndexSlice"
   ]
  },
  {
   "cell_type": "code",
   "execution_count": 14,
   "metadata": {
    "collapsed": false
   },
   "outputs": [
    {
     "data": {
      "text/html": [
       "<div>\n",
       "<table border=\"1\" class=\"dataframe\">\n",
       "  <thead>\n",
       "    <tr style=\"text-align: right;\">\n",
       "      <th></th>\n",
       "      <th>ENSG00000000003</th>\n",
       "      <th>ENSG00000000419</th>\n",
       "      <th>ENSG00000000457</th>\n",
       "      <th>ENSG00000000460</th>\n",
       "      <th>ENSG00000001036</th>\n",
       "      <th>ENSG00000001084</th>\n",
       "      <th>ENSG00000001167</th>\n",
       "      <th>ENSG00000001460</th>\n",
       "      <th>ENSG00000001461</th>\n",
       "      <th>ENSG00000001497</th>\n",
       "      <th>...</th>\n",
       "      <th>ENSGR0000185960</th>\n",
       "      <th>ENSGR0000197976</th>\n",
       "      <th>ENSGR0000198223</th>\n",
       "      <th>ENSGR0000205755</th>\n",
       "      <th>ENSGR0000214717</th>\n",
       "      <th>ENSGR0000223511</th>\n",
       "      <th>ENSGR0000226179</th>\n",
       "      <th>ENSGR0000236017</th>\n",
       "      <th>ENSGR0000236871</th>\n",
       "      <th>ENSGR0000270726</th>\n",
       "    </tr>\n",
       "    <tr>\n",
       "      <th>outlier</th>\n",
       "      <th></th>\n",
       "      <th></th>\n",
       "      <th></th>\n",
       "      <th></th>\n",
       "      <th></th>\n",
       "      <th></th>\n",
       "      <th></th>\n",
       "      <th></th>\n",
       "      <th></th>\n",
       "      <th></th>\n",
       "      <th></th>\n",
       "      <th></th>\n",
       "      <th></th>\n",
       "      <th></th>\n",
       "      <th></th>\n",
       "      <th></th>\n",
       "      <th></th>\n",
       "      <th></th>\n",
       "      <th></th>\n",
       "      <th></th>\n",
       "      <th></th>\n",
       "    </tr>\n",
       "  </thead>\n",
       "  <tbody>\n",
       "    <tr>\n",
       "      <th>False</th>\n",
       "      <td>1.966128</td>\n",
       "      <td>0.146682</td>\n",
       "      <td>0.963938</td>\n",
       "      <td>0.000000</td>\n",
       "      <td>0.548745</td>\n",
       "      <td>0</td>\n",
       "      <td>0.000000</td>\n",
       "      <td>0.000000</td>\n",
       "      <td>1.561635</td>\n",
       "      <td>0.000000</td>\n",
       "      <td>...</td>\n",
       "      <td>1.893554</td>\n",
       "      <td>0.000000</td>\n",
       "      <td>1.048838</td>\n",
       "      <td>0.653262</td>\n",
       "      <td>0.853553</td>\n",
       "      <td>0.593043</td>\n",
       "      <td>1.650008</td>\n",
       "      <td>0</td>\n",
       "      <td>0.246633</td>\n",
       "      <td>0.090517</td>\n",
       "    </tr>\n",
       "    <tr>\n",
       "      <th>True</th>\n",
       "      <td>7.347976</td>\n",
       "      <td>4.120315</td>\n",
       "      <td>1.368552</td>\n",
       "      <td>0.215237</td>\n",
       "      <td>3.864384</td>\n",
       "      <td>0</td>\n",
       "      <td>0.135468</td>\n",
       "      <td>2.350439</td>\n",
       "      <td>0.633108</td>\n",
       "      <td>4.070803</td>\n",
       "      <td>...</td>\n",
       "      <td>1.304145</td>\n",
       "      <td>3.038924</td>\n",
       "      <td>0.559763</td>\n",
       "      <td>0.336301</td>\n",
       "      <td>0.540179</td>\n",
       "      <td>0.508105</td>\n",
       "      <td>1.462861</td>\n",
       "      <td>0</td>\n",
       "      <td>0.594848</td>\n",
       "      <td>0.627495</td>\n",
       "    </tr>\n",
       "  </tbody>\n",
       "</table>\n",
       "<p>2 rows × 18273 columns</p>\n",
       "</div>"
      ],
      "text/plain": [
       "         ENSG00000000003  ENSG00000000419  ENSG00000000457  ENSG00000000460  \\\n",
       "outlier                                                                       \n",
       "False           1.966128         0.146682         0.963938         0.000000   \n",
       "True            7.347976         4.120315         1.368552         0.215237   \n",
       "\n",
       "         ENSG00000001036  ENSG00000001084  ENSG00000001167  ENSG00000001460  \\\n",
       "outlier                                                                       \n",
       "False           0.548745                0         0.000000         0.000000   \n",
       "True            3.864384                0         0.135468         2.350439   \n",
       "\n",
       "         ENSG00000001461  ENSG00000001497       ...         ENSGR0000185960  \\\n",
       "outlier                                         ...                           \n",
       "False           1.561635         0.000000       ...                1.893554   \n",
       "True            0.633108         4.070803       ...                1.304145   \n",
       "\n",
       "         ENSGR0000197976  ENSGR0000198223  ENSGR0000205755  ENSGR0000214717  \\\n",
       "outlier                                                                       \n",
       "False           0.000000         1.048838         0.653262         0.853553   \n",
       "True            3.038924         0.559763         0.336301         0.540179   \n",
       "\n",
       "         ENSGR0000223511  ENSGR0000226179  ENSGR0000236017  ENSGR0000236871  \\\n",
       "outlier                                                                       \n",
       "False           0.593043         1.650008                0         0.246633   \n",
       "True            0.508105         1.462861                0         0.594848   \n",
       "\n",
       "         ENSGR0000270726  \n",
       "outlier                   \n",
       "False           0.090517  \n",
       "True            0.627495  \n",
       "\n",
       "[2 rows x 18273 columns]"
      ]
     },
     "execution_count": 14,
     "metadata": {},
     "output_type": "execute_result"
    }
   ],
   "source": [
    "df = medians.loc['MN']\n",
    "df"
   ]
  },
  {
   "cell_type": "markdown",
   "metadata": {},
   "source": [
    "###  Subtract non-outliers from outliers"
   ]
  },
  {
   "cell_type": "code",
   "execution_count": 15,
   "metadata": {
    "collapsed": false
   },
   "outputs": [
    {
     "data": {
      "text/html": [
       "<div>\n",
       "<table border=\"1\" class=\"dataframe\">\n",
       "  <thead>\n",
       "    <tr style=\"text-align: right;\">\n",
       "      <th></th>\n",
       "      <th>ENSG00000000003</th>\n",
       "      <th>ENSG00000000419</th>\n",
       "      <th>ENSG00000000457</th>\n",
       "      <th>ENSG00000000460</th>\n",
       "      <th>ENSG00000001036</th>\n",
       "      <th>ENSG00000001084</th>\n",
       "      <th>ENSG00000001167</th>\n",
       "      <th>ENSG00000001460</th>\n",
       "      <th>ENSG00000001461</th>\n",
       "      <th>ENSG00000001497</th>\n",
       "      <th>...</th>\n",
       "      <th>ENSGR0000185960</th>\n",
       "      <th>ENSGR0000197976</th>\n",
       "      <th>ENSGR0000198223</th>\n",
       "      <th>ENSGR0000205755</th>\n",
       "      <th>ENSGR0000214717</th>\n",
       "      <th>ENSGR0000223511</th>\n",
       "      <th>ENSGR0000226179</th>\n",
       "      <th>ENSGR0000236017</th>\n",
       "      <th>ENSGR0000236871</th>\n",
       "      <th>ENSGR0000270726</th>\n",
       "    </tr>\n",
       "    <tr>\n",
       "      <th>phenotype</th>\n",
       "      <th></th>\n",
       "      <th></th>\n",
       "      <th></th>\n",
       "      <th></th>\n",
       "      <th></th>\n",
       "      <th></th>\n",
       "      <th></th>\n",
       "      <th></th>\n",
       "      <th></th>\n",
       "      <th></th>\n",
       "      <th></th>\n",
       "      <th></th>\n",
       "      <th></th>\n",
       "      <th></th>\n",
       "      <th></th>\n",
       "      <th></th>\n",
       "      <th></th>\n",
       "      <th></th>\n",
       "      <th></th>\n",
       "      <th></th>\n",
       "      <th></th>\n",
       "    </tr>\n",
       "  </thead>\n",
       "  <tbody>\n",
       "    <tr>\n",
       "      <th>MN</th>\n",
       "      <td>True</td>\n",
       "      <td>True</td>\n",
       "      <td>True</td>\n",
       "      <td>True</td>\n",
       "      <td>True</td>\n",
       "      <td>False</td>\n",
       "      <td>True</td>\n",
       "      <td>True</td>\n",
       "      <td>False</td>\n",
       "      <td>True</td>\n",
       "      <td>...</td>\n",
       "      <td>False</td>\n",
       "      <td>True</td>\n",
       "      <td>False</td>\n",
       "      <td>False</td>\n",
       "      <td>False</td>\n",
       "      <td>False</td>\n",
       "      <td>False</td>\n",
       "      <td>False</td>\n",
       "      <td>True</td>\n",
       "      <td>True</td>\n",
       "    </tr>\n",
       "    <tr>\n",
       "      <th>NPC</th>\n",
       "      <td>False</td>\n",
       "      <td>False</td>\n",
       "      <td>False</td>\n",
       "      <td>False</td>\n",
       "      <td>False</td>\n",
       "      <td>False</td>\n",
       "      <td>False</td>\n",
       "      <td>False</td>\n",
       "      <td>True</td>\n",
       "      <td>True</td>\n",
       "      <td>...</td>\n",
       "      <td>True</td>\n",
       "      <td>False</td>\n",
       "      <td>True</td>\n",
       "      <td>True</td>\n",
       "      <td>False</td>\n",
       "      <td>True</td>\n",
       "      <td>True</td>\n",
       "      <td>False</td>\n",
       "      <td>True</td>\n",
       "      <td>True</td>\n",
       "    </tr>\n",
       "  </tbody>\n",
       "</table>\n",
       "<p>2 rows × 18273 columns</p>\n",
       "</div>"
      ],
      "text/plain": [
       "          ENSG00000000003 ENSG00000000419 ENSG00000000457 ENSG00000000460  \\\n",
       "phenotype                                                                   \n",
       "MN                   True            True            True            True   \n",
       "NPC                 False           False           False           False   \n",
       "\n",
       "          ENSG00000001036 ENSG00000001084 ENSG00000001167 ENSG00000001460  \\\n",
       "phenotype                                                                   \n",
       "MN                   True           False            True            True   \n",
       "NPC                 False           False           False           False   \n",
       "\n",
       "          ENSG00000001461 ENSG00000001497       ...       ENSGR0000185960  \\\n",
       "phenotype                                       ...                         \n",
       "MN                  False            True       ...                 False   \n",
       "NPC                  True            True       ...                  True   \n",
       "\n",
       "          ENSGR0000197976 ENSGR0000198223 ENSGR0000205755 ENSGR0000214717  \\\n",
       "phenotype                                                                   \n",
       "MN                   True           False           False           False   \n",
       "NPC                 False            True            True           False   \n",
       "\n",
       "          ENSGR0000223511 ENSGR0000226179 ENSGR0000236017 ENSGR0000236871  \\\n",
       "phenotype                                                                   \n",
       "MN                  False           False           False            True   \n",
       "NPC                  True            True           False            True   \n",
       "\n",
       "          ENSGR0000270726  \n",
       "phenotype                  \n",
       "MN                   True  \n",
       "NPC                  True  \n",
       "\n",
       "[2 rows x 18273 columns]"
      ]
     },
     "execution_count": 15,
     "metadata": {},
     "output_type": "execute_result"
    }
   ],
   "source": [
    "higher_in_outliers = medians.groupby(level=0).apply(lambda x: (x.iloc[1] - x.iloc[0]) > 0)\n",
    "higher_in_outliers"
   ]
  },
  {
   "cell_type": "code",
   "execution_count": 16,
   "metadata": {
    "collapsed": false
   },
   "outputs": [
    {
     "data": {
      "text/html": [
       "<div>\n",
       "<table border=\"1\" class=\"dataframe\">\n",
       "  <thead>\n",
       "    <tr style=\"text-align: right;\">\n",
       "      <th></th>\n",
       "      <th>gene_id</th>\n",
       "      <th>phenotype</th>\n",
       "      <th>higher_in_outliers</th>\n",
       "    </tr>\n",
       "  </thead>\n",
       "  <tbody>\n",
       "    <tr>\n",
       "      <th>0</th>\n",
       "      <td>ENSG00000000003</td>\n",
       "      <td>MN</td>\n",
       "      <td>True</td>\n",
       "    </tr>\n",
       "    <tr>\n",
       "      <th>1</th>\n",
       "      <td>ENSG00000000003</td>\n",
       "      <td>NPC</td>\n",
       "      <td>False</td>\n",
       "    </tr>\n",
       "    <tr>\n",
       "      <th>2</th>\n",
       "      <td>ENSG00000000419</td>\n",
       "      <td>MN</td>\n",
       "      <td>True</td>\n",
       "    </tr>\n",
       "    <tr>\n",
       "      <th>3</th>\n",
       "      <td>ENSG00000000419</td>\n",
       "      <td>NPC</td>\n",
       "      <td>False</td>\n",
       "    </tr>\n",
       "    <tr>\n",
       "      <th>4</th>\n",
       "      <td>ENSG00000000457</td>\n",
       "      <td>MN</td>\n",
       "      <td>True</td>\n",
       "    </tr>\n",
       "  </tbody>\n",
       "</table>\n",
       "</div>"
      ],
      "text/plain": [
       "           gene_id phenotype higher_in_outliers\n",
       "0  ENSG00000000003        MN               True\n",
       "1  ENSG00000000003       NPC              False\n",
       "2  ENSG00000000419        MN               True\n",
       "3  ENSG00000000419       NPC              False\n",
       "4  ENSG00000000457        MN               True"
      ]
     },
     "execution_count": 16,
     "metadata": {},
     "output_type": "execute_result"
    }
   ],
   "source": [
    "higher_in_outliers_tidy = higher_in_outliers.unstack().reset_index()\n",
    "higher_in_outliers_tidy = higher_in_outliers_tidy.rename(columns={'level_0': 'gene_id', 0:'higher_in_outliers'})\n",
    "higher_in_outliers_tidy.head()"
   ]
  },
  {
   "cell_type": "code",
   "execution_count": 17,
   "metadata": {
    "collapsed": false
   },
   "outputs": [
    {
     "data": {
      "text/html": [
       "<div>\n",
       "<table border=\"1\" class=\"dataframe\">\n",
       "  <thead>\n",
       "    <tr style=\"text-align: right;\">\n",
       "      <th></th>\n",
       "      <th>gene_id</th>\n",
       "      <th>phenotype</th>\n",
       "      <th>H_statistic</th>\n",
       "      <th>p_value</th>\n",
       "      <th>bonferonni_p_value</th>\n",
       "      <th>higher_in_outliers</th>\n",
       "    </tr>\n",
       "  </thead>\n",
       "  <tbody>\n",
       "    <tr>\n",
       "      <th>0</th>\n",
       "      <td>ENSG00000000003</td>\n",
       "      <td>MN</td>\n",
       "      <td>7.322830</td>\n",
       "      <td>0.006808</td>\n",
       "      <td>118.861233</td>\n",
       "      <td>True</td>\n",
       "    </tr>\n",
       "    <tr>\n",
       "      <th>1</th>\n",
       "      <td>ENSG00000000003</td>\n",
       "      <td>NPC</td>\n",
       "      <td>0.494155</td>\n",
       "      <td>0.482080</td>\n",
       "      <td>8383.365332</td>\n",
       "      <td>False</td>\n",
       "    </tr>\n",
       "    <tr>\n",
       "      <th>2</th>\n",
       "      <td>ENSG00000000419</td>\n",
       "      <td>MN</td>\n",
       "      <td>7.367251</td>\n",
       "      <td>0.006642</td>\n",
       "      <td>115.960198</td>\n",
       "      <td>True</td>\n",
       "    </tr>\n",
       "    <tr>\n",
       "      <th>3</th>\n",
       "      <td>ENSG00000000419</td>\n",
       "      <td>NPC</td>\n",
       "      <td>1.358311</td>\n",
       "      <td>0.243830</td>\n",
       "      <td>4240.209790</td>\n",
       "      <td>False</td>\n",
       "    </tr>\n",
       "    <tr>\n",
       "      <th>4</th>\n",
       "      <td>ENSG00000000457</td>\n",
       "      <td>MN</td>\n",
       "      <td>0.473811</td>\n",
       "      <td>0.491239</td>\n",
       "      <td>8576.050628</td>\n",
       "      <td>True</td>\n",
       "    </tr>\n",
       "  </tbody>\n",
       "</table>\n",
       "</div>"
      ],
      "text/plain": [
       "           gene_id phenotype  H_statistic   p_value  bonferonni_p_value  \\\n",
       "0  ENSG00000000003        MN     7.322830  0.006808          118.861233   \n",
       "1  ENSG00000000003       NPC     0.494155  0.482080         8383.365332   \n",
       "2  ENSG00000000419        MN     7.367251  0.006642          115.960198   \n",
       "3  ENSG00000000419       NPC     1.358311  0.243830         4240.209790   \n",
       "4  ENSG00000000457        MN     0.473811  0.491239         8576.050628   \n",
       "\n",
       "  higher_in_outliers  \n",
       "0               True  \n",
       "1              False  \n",
       "2               True  \n",
       "3              False  \n",
       "4               True  "
      ]
     },
     "execution_count": 17,
     "metadata": {},
     "output_type": "execute_result"
    }
   ],
   "source": [
    "kruskal_results_higher_in_outliers = kruskal_results_tidy.merge(higher_in_outliers_tidy, on=['gene_id', 'phenotype'])\n",
    "kruskal_results_higher_in_outliers.head()"
   ]
  },
  {
   "cell_type": "code",
   "execution_count": 18,
   "metadata": {
    "collapsed": false
   },
   "outputs": [
    {
     "data": {
      "image/png": "[encoded data removed]",
      "text/plain": [
       "<matplotlib.figure.Figure at 0x2b18bb56e6d0>"
      ]
     },
     "metadata": {},
     "output_type": "display_data"
    }
   ],
   "source": [
    "fig, ax = plt.subplots(figsize=(2, 2))\n",
    "\n",
    "sns.distplot(kruskal_results_higher_in_outliers.bonferonni_p_value, color='grey', ax=ax, kde=False)\n",
    "sns.despine(offset=2)\n",
    "ax.set(xlim=(0,10000))\n",
    "ax.locator_params(nbins=3)\n",
    "fig.tight_layout()\n",
    "fig.savefig('{}/outlier_neural_types_differential_expression_p_distribution.pdf'.format(folder))"
   ]
  },
  {
   "cell_type": "code",
   "execution_count": 36,
   "metadata": {
    "collapsed": false
   },
   "outputs": [
    {
     "name": "stdout",
     "output_type": "stream",
     "text": [
      "(414,)\n"
     ]
    }
   ],
   "source": [
    "p = 0.1\n",
    "kruskal_results_tidy_significant = kruskal_results_higher_in_outliers.ix[kruskal_results_higher_in_outliers.bonferonni_p_value < p]\n",
    "six.print_(kruskal_results_tidy_significant.gene_id.unique().shape)\n",
    "kruskal_results_tidy_significant.head()\n",
    "gene_ids = kruskal_results_tidy_significant.gene_id.unique()"
   ]
  },
  {
   "cell_type": "code",
   "execution_count": 37,
   "metadata": {
    "collapsed": false
   },
   "outputs": [
    {
     "data": {
      "text/plain": [
       "phenotype  higher_in_outliers\n",
       "MN         False                  36\n",
       "           True                  376\n",
       "NPC        True                    2\n",
       "dtype: int64"
      ]
     },
     "execution_count": 37,
     "metadata": {},
     "output_type": "execute_result"
    }
   ],
   "source": [
    "kruskal_results_tidy_significant.groupby(['phenotype', 'higher_in_outliers']).size()"
   ]
  },
  {
   "cell_type": "code",
   "execution_count": 41,
   "metadata": {
    "collapsed": false
   },
   "outputs": [
    {
     "name": "stdout",
     "output_type": "stream",
     "text": [
      "MN False\n",
      "MN True\n",
      "NPC True\n"
     ]
    },
    {
     "data": {
      "image/png": "[encoded data removed]",
      "text/plain": [
       "<matplotlib.figure.Figure at 0x2b18bb7c3fd0>"
      ]
     },
     "metadata": {},
     "output_type": "display_data"
    },
    {
     "data": {
      "image/png": "[encoded data removed]",
      "text/plain": [
       "<matplotlib.figure.Figure at 0x2b190bb6bb90>"
      ]
     },
     "metadata": {},
     "output_type": "display_data"
    },
    {
     "data": {
      "image/png": "[encoded data removed]",
      "text/plain": [
       "<matplotlib.figure.Figure at 0x2b18baaf75d0>"
      ]
     },
     "metadata": {},
     "output_type": "display_data"
    },
    {
     "data": {
      "image/png": "[encoded data removed]",
      "text/plain": [
       "<matplotlib.figure.Figure at 0x2b189a29a9d0>"
      ]
     },
     "metadata": {},
     "output_type": "display_data"
    }
   ],
   "source": [
    "sns.set(style='ticks', context='paper')\n",
    "\n",
    "for (phenotype, if_higher_in_outliers), df in kruskal_results_tidy_significant.groupby(['phenotype', 'higher_in_outliers']):\n",
    "    six.print_(phenotype, if_higher_in_outliers)\n",
    "    gene_ids = df.gene_id.unique()\n",
    "    go = study.go_enrichment(gene_ids, background=expression.columns, domain='biological_process')\n",
    "    if go is None:\n",
    "        continue\n",
    "    go = go.iloc[:5, :]\n",
    " \n",
    "    fig, ax = plt.subplots(figsize=(4, 1.5))\n",
    "\n",
    "    y = np.arange(go.shape[0])\n",
    "    width = go['bonferonni_corrected_negative_log_p_value']\n",
    "#     width = -np.log10(go.bonferonni_corrected_p_value)\n",
    "    ax.barh(y, width, color='grey')\n",
    "\n",
    "    yticks = y + 0.4\n",
    "    ax.set(yticklabels=go.go_name, yticks=yticks, xlabel='$\\log(p)$-value', ylim=(0, y.max()+1))\n",
    "    sns.despine()\n",
    "    fig.tight_layout()\n",
    "    suffix = 'higher_in_outliers' if if_higher_in_outliers else 'lower_in_outliers'\n",
    "    fig.savefig('{}/outlier_neural_types_go_enrichment_{}_{}.pdf'.format(folder, phenotype, suffix))\n",
    "    \n",
    "    \n",
    "    data = expression.ix[:, gene_ids].T\n",
    "\n",
    "\n",
    "    # IN case this data is properly logged in the future...\n",
    "    if study.expression.data.max().max() > 100:\n",
    "        data = np.log2(data+1)\n",
    "\n",
    "    col_colors = [study.sample_id_to_color[data.columns], \n",
    "                  study.metadata.data.outlier[data.columns].map(lambda x: 'lightgrey' if x else 'k')]\n",
    "    yticklabels = study.expression.feature_data.gene_name[data.index]\n",
    "\n",
    "    g = sns.clustermap(data=data, col_colors=col_colors, yticklabels=yticklabels, method='ward', figsize=(8, 8),\n",
    "                      cbar_kws=dict(label='$\\log_2(TPM+1)'))\n",
    "    g.ax_heatmap.set(yticks=[], xticks=[])\n",
    "    g.ax_col_colors.set(xticks=[], yticks=[])\n",
    "    g.savefig('{}/outlier_neural_types_clustermap_{}_{}.pdf'.format(folder, phenotype, suffix))"
   ]
  },
  {
   "cell_type": "markdown",
   "metadata": {},
   "source": [
    "#### Clustermap of DE genes"
   ]
  },
  {
   "cell_type": "code",
   "execution_count": 40,
   "metadata": {
    "collapsed": false
   },
   "outputs": [
    {
     "data": {
      "image/png": "[encoded data removed]",
      "text/plain": [
       "<matplotlib.figure.Figure at 0x2b18a9c05510>"
      ]
     },
     "metadata": {},
     "output_type": "display_data"
    }
   ],
   "source": [
    "# data = expression.T\n",
    "# data = (data - data.mean())/data.std()\n",
    "# data = data.ix[gene_ids, :]\n",
    "data = expression.ix[:, gene_ids].T\n",
    "\n",
    "\n",
    "# IN case this data is properly logged in the future...\n",
    "if study.expression.data.max().max() > 100:\n",
    "    data = np.log2(data+1)\n",
    "\n",
    "col_colors = [study.sample_id_to_color[data.columns], \n",
    "              study.metadata.data.outlier[data.columns].map(lambda x: 'lightgrey' if x else 'k')]\n",
    "yticklabels = study.expression.feature_data.gene_name[data.index]\n",
    "\n",
    "g = sns.clustermap(data=data, col_colors=col_colors, yticklabels=yticklabels, method='ward', figsize=(8, 8),\n",
    "                  cbar_kws=dict(label='$\\log_2(TPM+1)'))\n",
    "g.ax_heatmap.set(yticks=[], xticks=[])\n",
    "g.ax_col_colors.set(xticks=[], yticks=[])\n",
    "g.savefig('{}/outlier_neural_types_clustermap.pdf'.format(folder))"
   ]
  },
  {
   "cell_type": "markdown",
   "metadata": {},
   "source": [
    "#### Colorbar legend"
   ]
  },
  {
   "cell_type": "code",
   "execution_count": null,
   "metadata": {
    "collapsed": false
   },
   "outputs": [],
   "source": [
    "# sns.set(style='ticks', context='talk')\n",
    "fig, axes = plt.subplots(nrows=2, figsize=(1.5, 1))\n",
    "\n",
    "phantom_bars = {'Celltype': {'NPC': study.phenotype_to_color['NPC'],\n",
    "                             'MN': study.phenotype_to_color['MN']},\n",
    "                '$k$-Means Outlier': {'Outlier': 'lightgrey', 'Not outlier': 'k'}}\n",
    "legends = []\n",
    "for (title, label_to_color), ax in zip(phantom_bars.items(), axes.flat):\n",
    "    for label, color in label_to_color.items():\n",
    "        ax.bar(0, 0, 0,  color=color, label=label)\n",
    "    legends.append(ax.legend(loc='center', title=title, ncol=2))\n",
    "    ax.axis('off')\n",
    "fig.tight_layout()\n",
    "fig.savefig('{}/outlier_neural_types_clustermap_color_labels.pdf'.format(folder), bbox_inches='tight', bbox_extra_artists=legends)\n"
   ]
  },
  {
   "cell_type": "markdown",
   "metadata": {},
   "source": [
    "## Splicing quality control"
   ]
  },
  {
   "cell_type": "code",
   "execution_count": null,
   "metadata": {
    "collapsed": false
   },
   "outputs": [],
   "source": [
    "sns.set(style='ticks', context='paper')\n",
    "\n",
    "grouped = study.splicing.data_original.groupby(study.metadata.data.pooled)\n",
    "detected_events = grouped.apply(lambda x: x.groupby(study.sample_id_to_phenotype).apply(lambda y: y.count(axis=1)))\n",
    "detected_events = detected_events/1000\n",
    "detected_events = detected_events.reset_index()\n",
    "detected_events = detected_events.rename(columns={0: 'n_events', 'level_1': 'phenotype', 'level_2': 'sample_id'})\n",
    "detected_events.phenotype = pd.Categorical(detected_events.phenotype, categories=study.phenotype_order, ordered=True)\n",
    "detected_events.head()"
   ]
  },
  {
   "cell_type": "code",
   "execution_count": null,
   "metadata": {
    "collapsed": false
   },
   "outputs": [],
   "source": [
    "detected_events_singles = detected_events.ix[~detected_events.pooled]\n",
    "detected_events_pooled = detected_events.ix[detected_events.pooled]\n",
    "\n",
    "\n",
    "fig, ax = plt.subplots(figsize=(2.5, 2))\n",
    "sns.boxplot(x='phenotype', y='n_events', data=detected_events_singles, palette=study.phenotype_color_ordered, linewidth=1.5)\n",
    "sns.stripplot(x='phenotype', y='n_events', data=detected_events_singles, edgecolor='gray',\n",
    "              palette=study.phenotype_color_ordered, linewidth=1, #size=2, \n",
    "              jitter=True)\n",
    "sns.stripplot(x='phenotype', y='n_events', data=detected_events_pooled, color='k', size=5, linewidth=1, jitter=True)\n",
    "sns.despine()\n",
    "ax.set_xlabel('')\n",
    "ax.set_ylabel('AS events $\\times 10^3$')\n",
    "ymin, ymax = ax.get_ylim()\n",
    "ax.set_ylim(0, ymax)\n",
    "ax.locator_params('y', nbins=5)\n",
    "fig.tight_layout()\n",
    "fig.savefig(\"{}/A_splicing_events_detected.pdf\".format(folder))"
   ]
  },
  {
   "cell_type": "code",
   "execution_count": null,
   "metadata": {
    "collapsed": false
   },
   "outputs": [],
   "source": [
    "import itertools\n",
    "\n",
    "sns.set(style='whitegrid')\n",
    "\n",
    "nrows = study.metadata.n_phenotypes\n",
    "\n",
    "largest_group = study.sample_id_to_phenotype.groupby(study.sample_id_to_phenotype).size().max()\n",
    "\n",
    "fig, axes = plt.subplots(nrows=nrows, figsize=(.5*largest_group, 6*study.metadata.n_phenotypes), sharey=True)\n",
    "paired = sns.color_palette('Paired', n_colors=4)\n",
    "\n",
    "splits = study.metadata.data.split.dropna()\n",
    "split_to_pair = dict((x, tuple(sorted([x, y]))) for x, y in splits.iteritems())\n",
    "unique_pairs = set([tuple(sorted([x, y])) for x, y in splits.iteritems()])\n",
    "pair_colors = sns.color_palette('husl', n_colors=len(unique_pairs))\n",
    "pair_to_colors = dict(zip(unique_pairs, pair_colors))\n",
    "\n",
    "\n",
    "total_width = 0.8\n",
    "# width = total_width/expression_binned.shape[1]\n",
    "\n",
    "\n",
    "for ax, phenotype in zip(axes, study.metadata.phenotype_order):\n",
    "    sample_ids = study.sample_id_to_phenotype.index[study.sample_id_to_phenotype == phenotype]\n",
    "    pooled = sample_ids[study.metadata.data.pooled[sample_ids]]\n",
    "    if phenotype == 'iPSC':\n",
    "        split = list(itertools.chain(*unique_pairs))\n",
    "    else:\n",
    "        split = []\n",
    "    singles = sample_ids.difference(pooled).difference(split)\n",
    "    \n",
    "    ordered_sample_ids = np.concatenate([pooled, split, singles])\n",
    "    \n",
    "    splicing = study.splicing.data_original.ix[ordered_sample_ids]\n",
    "    n_events = splicing.T.count()\n",
    "    print phenotype, 'n_events.mean(), n_events.std()', n_events.mean(), n_events.std()\n",
    "    \n",
    "    n_events = n_events.fillna(0)\n",
    "    left = np.arange(n_events.shape[0])\n",
    "    \n",
    "    color = study.phenotype_to_color[phenotype]\n",
    "    ax.bar(left, n_events, color=color, label='Number of splicing events detected' , width=total_width)\n",
    "#     ax.set_ylim(1, n_events.max().max()*1.1)\n",
    "    xticks = left+total_width/2\n",
    "    ax.set_xticks(xticks)\n",
    "    ax.set_xticklabels(ordered_sample_ids, rotation=90, visible=True, fontsize=24)\n",
    "    ax.set_xlim(0, xticks.max()+0.5)\n",
    "    \n",
    "    for label in ax.get_xticklabels():\n",
    "        text = label.get_text()\n",
    "        if label.get_text() in study.pooled:\n",
    "            label.set(backgroundcolor='lightgrey', weight='bold')\n",
    "        elif text in splits:\n",
    "            pair = split_to_pair[text]\n",
    "            color = pair_to_colors[pair]\n",
    "            label.set(backgroundcolor=color)\n",
    "    ax.xaxis.grid(False)\n",
    "\n",
    "    ax.set_title(phenotype, fontsize=32)\n",
    "    ax.set_ylabel('Alternatively spliced junctions', fontsize=24)\n",
    "    \n",
    "#     ax.set_yticks(np.arange(0, n_events.max()+1000, 2500))\n",
    "    ax.locator_params('y', nbins=5)\n",
    "    for label in ax.get_yticklabels():\n",
    "        label.set(size=24)\n",
    "#     if ax.is_first_row():\n",
    "#         ax.legend(loc=\"best\", fontsize=24)\n",
    "    \n",
    "sns.despine()\n",
    "fig.tight_layout()\n",
    "fig.savefig('{}/quality_control_all_cells_splicing_barplots.pdf'.format(folder))"
   ]
  },
  {
   "cell_type": "markdown",
   "metadata": {},
   "source": [
    "### Number of cells per event"
   ]
  },
  {
   "cell_type": "code",
   "execution_count": null,
   "metadata": {
    "collapsed": false
   },
   "outputs": [],
   "source": [
    "sns.set(style='ticks', context='talk')\n",
    "\n",
    "for phenotype, df in study.splicing.data_original.groupby(study.sample_id_to_phenotype):    \n",
    "    counts = df.count()\n",
    "    fig, ax = plt.subplots(figsize=(3, 2))\n",
    "    color = study.phenotype_to_color[phenotype]\n",
    "    sns.distplot(counts, bins=np.arange(1, counts.max()+1), kde=False, color=color, \n",
    "                 hist_kws=dict(alpha=0.75, linewidth=0.1))\n",
    "\n",
    "    # Reduce nubmer of ticks\n",
    "    ymin, ymax = ax.get_ylim()\n",
    "    ax.vlines(10, ymin, ymax, linestyle='--')\n",
    "    \n",
    "    ax.set(ylabel='AS events', xlabel=\"Single cells\", title=phenotype)\n",
    "    ax.locator_params(nbins=4)\n",
    "    \n",
    "    fig.tight_layout()\n",
    "    sns.despine()\n",
    "    fig.savefig('{}/n_cells_per_event_{}.pdf'.format(folder, phenotype))\n",
    "\n",
    "    \n",
    "## All events\n",
    "phenotype = 'all'\n",
    "counts = study.splicing.data_original.count()\n",
    "fig, ax = plt.subplots(figsize=(3, 2))\n",
    "color = '#262626'\n",
    "sns.distplot(counts, bins=np.arange(1, counts.max()+1), kde=False, color=color, \n",
    "             hist_kws=dict(alpha=0.75, linewidth=0.1))\n",
    "ymin, ymax = ax.get_ylim()\n",
    "ax.set_title(phenotype)\n",
    "ax.set_xlabel('Cells')\n",
    "ax.set_ylabel('AS events')\n",
    "\n",
    "# Reduce number of tick\n",
    "ax.locator_params(nbins=4)\n",
    "\n",
    "ymin, ymax = ax.get_ylim()\n",
    "xmin, xmax = ax.get_xlim()\n",
    "x1 = [0, 0]\n",
    "x2 = [10,10]\n",
    "# x1 = 10,10]\n",
    "# x2 = [xmax, xmax]\n",
    "\n",
    "# ax.fill_betweenx([ymin, ymax], x1, x2, color='darkgrey', zorder=-1)\n",
    "ax.vlines(10, ymin, ymax, linestyle='--')\n",
    "\n",
    "fig.tight_layout()\n",
    "sns.despine()\n",
    "fig.savefig('{}/n_cells_per_event_{}.pdf'.format(folder, phenotype))\n"
   ]
  },
  {
   "cell_type": "markdown",
   "metadata": {},
   "source": [
    "### Diversity of splice junction features\n",
    "https://en.wikipedia.org/wiki/Diversity_index\n",
    "\n",
    "#### True diversity\n",
    "\n",
    "$^qD = \\frac{1}{M_{q-1}} = \\frac{1}{\\sqrt[q-1]{\\sum_{i=1}^{R} p_i p_i^{q-1}}} = \\left(\\sum_{i=1}^{R} p_i^q\\right)^{1/(1-q)}$\n",
    "\n",
    "* $M_{q-1}$: average proportional abundance of the types in the dataset\n",
    "* $R$: richness\n",
    "* $p_i$: Proportional abundance of the $i$th type\n",
    "\n",
    "Pick different values of $q$...\n",
    "\n",
    "With $q=1$, equation is undefined but limit approaches\n",
    "\n",
    "$\n",
    "^1D = \\frac{1}{\\prod_{i=1}^{R} p_i^{p_i}} = \\exp\\left(-\\sum_{i=1}^{R}p_i \\ln(p_i)\\right)\n",
    "$"
   ]
  },
  {
   "cell_type": "code",
   "execution_count": null,
   "metadata": {
    "collapsed": false
   },
   "outputs": [],
   "source": [
    "folder"
   ]
  },
  {
   "cell_type": "code",
   "execution_count": null,
   "metadata": {
    "collapsed": false
   },
   "outputs": [],
   "source": [
    "diversity_folder = '{}/diversity'.format(folder)\n",
    "! mkdir $diversity_folder"
   ]
  },
  {
   "cell_type": "code",
   "execution_count": null,
   "metadata": {
    "collapsed": false
   },
   "outputs": [],
   "source": [
    "splicing_original = study.splicing.data_original.copy()\n",
    "singles = splicing_original.loc[study.splicing.singles.index]\n",
    "print singles.shape\n",
    "singles.head()"
   ]
  },
  {
   "cell_type": "code",
   "execution_count": null,
   "metadata": {
    "collapsed": false
   },
   "outputs": [],
   "source": [
    "counts = splicing_original.groupby(study.sample_id_to_phenotype).count()\n",
    "proportions = counts.divide(counts.sum(axis=1), axis='index')\n",
    "proportions.head()"
   ]
  },
  {
   "cell_type": "markdown",
   "metadata": {},
   "source": [
    "Implementation of:\n",
    "\n",
    "$\n",
    "^1D = \\frac{1}{\\prod_{i=1}^{R} p_i^{p_i}} = \\exp\\left(-\\sum_{i=1}^{R}p_i \\ln(p_i)\\right)\n",
    "$"
   ]
  },
  {
   "cell_type": "code",
   "execution_count": null,
   "metadata": {
    "collapsed": false,
    "scrolled": true
   },
   "outputs": [],
   "source": [
    "sns.set(style='ticks', context='talk')\n",
    "diversity = np.exp(- proportions.multiply(np.log(proportions)).sum(axis=1))\n",
    "diversity = diversity[study.phenotype_order]\n",
    "\n",
    "fig, ax = plt.subplots(figsize=(3, 2))\n",
    "left = np.arange(diversity.shape[0])\n",
    "color = [study.phenotype_to_color[p] for p in diversity.index]\n",
    "ax.bar(left, diversity, color=color, linewidth=1)\n",
    "\n",
    "xticks = left + 0.4\n",
    "ax.locator_params('y', nbins=4)\n",
    "ax.set(xticks=xticks, xticklabels=diversity.index, ylabel='Shannon Diversity Index')\n",
    "sns.despine()\n",
    "fig.tight_layout()\n",
    "fig.savefig('{}/shannon_diversity_index.pdf'.format(diversity_folder))"
   ]
  },
  {
   "cell_type": "markdown",
   "metadata": {},
   "source": [
    "### Shannon diversity for Expression"
   ]
  },
  {
   "cell_type": "code",
   "execution_count": null,
   "metadata": {
    "collapsed": false
   },
   "outputs": [],
   "source": [
    "expression_singles = study.expression.singles\n",
    "six.print_(expression_singles.shape)\n",
    "not_outliers = study.expression.singles.index.difference(study.expression.outliers.index)\n",
    "expression_singles = expression_singles.loc[not_outliers]\n",
    "six.print_(expression_singles.shape)"
   ]
  },
  {
   "cell_type": "code",
   "execution_count": null,
   "metadata": {
    "collapsed": false
   },
   "outputs": [],
   "source": [
    "expression_sum = expression_singles.groupby(study.sample_id_to_phenotype).sum()\n",
    "expression_proportions = expression_sum.divide(expression_sum.sum(axis=1), axis=0)\n",
    "expression_proportions"
   ]
  },
  {
   "cell_type": "code",
   "execution_count": null,
   "metadata": {
    "collapsed": false
   },
   "outputs": [],
   "source": [
    "sns.set(style='ticks', context='talk')\n",
    "expression_diversity = np.exp(- expression_proportions.multiply(np.log(expression_proportions)).sum(axis=1))\n",
    "expression_diversity = expression_diversity[study.phenotype_order]\n",
    "\n",
    "fig, ax = plt.subplots(figsize=(3, 2))\n",
    "left = np.arange(expression_diversity.shape[0])\n",
    "color = [study.phenotype_to_color[p] for p in diversity.index]\n",
    "ax.bar(left, expression_diversity, color=color, linewidth=1)\n",
    "\n",
    "xticks = left + 0.4\n",
    "ax.locator_params('y', nbins=4)\n",
    "ax.set(xticks=xticks, xticklabels=diversity.index, ylabel='Shannon Diversity Index')\n",
    "sns.despine()\n",
    "fig.tight_layout()\n",
    "fig.savefig('{}/shannon_diversity_index_expression.pdf'.format(diversity_folder))"
   ]
  },
  {
   "cell_type": "code",
   "execution_count": null,
   "metadata": {
    "collapsed": false
   },
   "outputs": [],
   "source": [
    "expression_diversity_df = expression_diversity.reset_index()\n",
    "expression_diversity_df = expression_diversity_df.rename(columns={0: 'Shannon Diversity'})\n",
    "expression_diversity_df['data_type'] = 'Expression'\n",
    "expression_diversity_df"
   ]
  },
  {
   "cell_type": "code",
   "execution_count": null,
   "metadata": {
    "collapsed": false
   },
   "outputs": [],
   "source": [
    "splicing_diversity_df = diversity.reset_index()\n",
    "splicing_diversity_df = splicing_diversity_df.rename(columns={0: 'Shannon Diversity'})\n",
    "splicing_diversity_df['data_type'] = 'Splicing'\n",
    "splicing_diversity_df"
   ]
  },
  {
   "cell_type": "code",
   "execution_count": null,
   "metadata": {
    "collapsed": false
   },
   "outputs": [],
   "source": [
    "diversity_df = pd.concat([expression_diversity_df, splicing_diversity_df])\n",
    "diversity_df"
   ]
  },
  {
   "cell_type": "code",
   "execution_count": null,
   "metadata": {
    "collapsed": false
   },
   "outputs": [],
   "source": [
    "fig, ax = plt.subplots(figsize=(3, 2))\n",
    "sns.barplot(x='data_type', y='Shannon Diversity', data=diversity_df, hue='phenotype', \n",
    "            palette=study.phenotype_color_ordered, hue_order=study.phenotype_order)\n",
    "ax.set(xlabel='', ylabel='Shannon Diversity')\n",
    "ax.locator_params(nbins=5, axis='y')\n",
    "sns.despine()\n",
    "fig.tight_layout()\n",
    "fig.savefig('{}/shannon_diversity_expression_splicing.pdf'.format(diversity_folder))"
   ]
  },
  {
   "cell_type": "markdown",
   "metadata": {},
   "source": [
    "### Inverse Simpson index\n",
    "\n",
    "This is more intuitive because datasets with a larger number of species and fewer abundances per species will have larger diversity.\n",
    "\n",
    "$1/\\lambda = \\frac{1}{\\sum_{i=1}^R p_i^2} =\\, ^2D$"
   ]
  },
  {
   "cell_type": "code",
   "execution_count": null,
   "metadata": {
    "collapsed": false
   },
   "outputs": [],
   "source": [
    "sns.set(style='ticks', context='talk')\n",
    "diversity = 1/np.square(proportions).sum(axis=1)\n",
    "diversity = diversity[study.phenotype_order]\n",
    "\n",
    "fig, ax = plt.subplots(figsize=(3, 2))\n",
    "left = np.arange(diversity.shape[0])\n",
    "color = [study.phenotype_to_color[p] for p in diversity.index]\n",
    "ax.bar(left, diversity, color=color, linewidth=1)\n",
    "\n",
    "xticks = left + 0.4\n",
    "ax.locator_params('y', nbins=4)\n",
    "ax.set(xticks=xticks, xticklabels=diversity.index, ylabel='Inverse Simpson Index')\n",
    "sns.despine()\n",
    "fig.tight_layout()\n",
    "fig.savefig('{}/inverse_simpson_index.pdf'.format(diversity_folder))"
   ]
  },
  {
   "cell_type": "markdown",
   "metadata": {},
   "source": [
    "### Percentage of events detected in only one cell"
   ]
  },
  {
   "cell_type": "code",
   "execution_count": null,
   "metadata": {
    "collapsed": false
   },
   "outputs": [],
   "source": [
    "junction_counts = splicing_original.groupby(study.sample_id_to_phenotype).count().unstack()\n",
    "junction_counts.head()"
   ]
  },
  {
   "cell_type": "code",
   "execution_count": null,
   "metadata": {
    "collapsed": false
   },
   "outputs": [],
   "source": [
    "junction_counts = junction_counts.reset_index()\n",
    "junction_counts = junction_counts.rename(columns={'level_0': 'event_name', 0: 'n_cells'})\n",
    "junction_counts.head()"
   ]
  },
  {
   "cell_type": "code",
   "execution_count": null,
   "metadata": {
    "collapsed": false
   },
   "outputs": [],
   "source": [
    "print junction_counts.shape\n",
    "junction_counts = junction_counts.loc[junction_counts.n_cells > 0]\n",
    "print junction_counts.shape"
   ]
  },
  {
   "cell_type": "code",
   "execution_count": null,
   "metadata": {
    "collapsed": false
   },
   "outputs": [],
   "source": [
    "\n",
    "   \n",
    "def percent_junctions_at_quantiles(series, quantiles=[0, 0.25, 0.5, 1.]):\n",
    "    \"\"\"Get the percent of junctions observed in 25% of cells, 50% of cells, etc\n",
    "    \n",
    "    Note: 0% gets interpreted as how many junctions were observed in 1 cell, not 0 cells \n",
    "    (since 0 cells is boring)\n",
    "    \"\"\"\n",
    "    series.index = series.index.droplevel(0)\n",
    "    total = series.sum()\n",
    "    percentage = 100*series/total\n",
    "    \n",
    "    percentage_at_quantiles = pd.Series(index=quantiles)\n",
    "    for q in quantiles:\n",
    "        if q == 0:\n",
    "            percentage_at_quantiles.loc[0] = percentage[1]\n",
    "        else:\n",
    "            i = int(np.round(q * series.index.max()))\n",
    "#             print q, i, series[:i]/total\n",
    "            percentage_at_quantiles.loc[q] = percentage[i]\n",
    "    return percentage_at_quantiles"
   ]
  },
  {
   "cell_type": "code",
   "execution_count": null,
   "metadata": {
    "collapsed": false
   },
   "outputs": [],
   "source": [
    "junctions_per_cell = junction_counts.groupby(['phenotype', 'n_cells']).size()\n",
    "percent_junctions_per_cell = junctions_per_cell/junctions_per_cell.groupby(level=0).sum()\n",
    "# percent_junctions_per_cell = percent_junctions_per_cell.unstack()\n",
    "# percent_junctions_per_cell.columns = percent_junctions_per_cell.columns + 1\n",
    "percent_junctions_per_cell.head()"
   ]
  },
  {
   "cell_type": "code",
   "execution_count": null,
   "metadata": {
    "collapsed": false
   },
   "outputs": [],
   "source": [
    "percentage_junctions_quantiles = junctions_per_cell.groupby(level=0).apply(percent_junctions_at_quantiles).reset_index()\n",
    "percentage_junctions_quantiles = percentage_junctions_quantiles.rename(\n",
    "    columns={'level_1': 'Quantity of cells', 0:'Percentage of junctions'})\n",
    "percentage_junctions_quantiles['Quantity of cells'] *= 100\n",
    "percentage_junctions_quantiles['Quantity of cells'] = percentage_junctions_quantiles['Quantity of cells'].replace(0, '1 cell')\n",
    "percentage_junctions_quantiles['Quantity of cells'] = percentage_junctions_quantiles['Quantity of cells'].map(\n",
    "    lambda x: x if isinstance(x, str) else '{:.0f}%'.format(x))\n",
    "percentage_junctions_quantiles.head()"
   ]
  },
  {
   "cell_type": "code",
   "execution_count": null,
   "metadata": {
    "collapsed": false
   },
   "outputs": [],
   "source": [
    "g = sns.factorplot(x='Quantity of cells', y='Percentage of junctions', data=percentage_junctions_quantiles, \n",
    "               hue='phenotype', kind='bar', hue_order=study.phenotype_order,\n",
    "              palette=study.phenotype_color_ordered)\n",
    "g.savefig('{}/quantity_of_cells_per_percentage_of_junctions_barplot.pdf'.format(folder))"
   ]
  },
  {
   "cell_type": "markdown",
   "metadata": {},
   "source": [
    "## PCA"
   ]
  },
  {
   "cell_type": "code",
   "execution_count": null,
   "metadata": {
    "collapsed": false
   },
   "outputs": [],
   "source": [
    "viz = study.plot_pca(show_vectors=False, scale_by_variance=False, markersize10)\n",
    "viz.fig_reduced.savefig('{}/pca_variant.pdf'.format(folder))"
   ]
  },
  {
   "cell_type": "markdown",
   "metadata": {},
   "source": [
    "## Only use splicing events detected in at least10 samples in at least 1 celltype"
   ]
  },
  {
   "cell_type": "code",
   "execution_count": null,
   "metadata": {
    "collapsed": false
   },
   "outputs": [],
   "source": [
    "splicing_filter_folder = '{}/splicing_filtering'.format(folder)\n",
    "! mkdir $splicing_filter_folder"
   ]
  },
  {
   "cell_type": "code",
   "execution_count": null,
   "metadata": {
    "collapsed": false
   },
   "outputs": [],
   "source": [
    "alternative = study.splicing.data_original.groupby(study.sample_id_to_phenotype).apply(lambda x: x.dropna(thresh=10, axis=1))\n",
    "print study.splicing.data_original.shape, alternative.shape\n",
    "# constitutive = study.supplemental.psi_constitutive.groupby(study.sample_id_to_phenotype).apply(lambda x: x.dropna(thresh10, axis=1))\n",
    "# print study.supplemental.psi_constitutive.shape, constitutive.shape"
   ]
  },
  {
   "cell_type": "code",
   "execution_count": null,
   "metadata": {
    "collapsed": false
   },
   "outputs": [],
   "source": [
    "study.splicing.data_original = alternative\n",
    "# study.supplemental.psi_constitutive = constitutive"
   ]
  },
  {
   "cell_type": "markdown",
   "metadata": {},
   "source": [
    "### Distribution of gene expression for all genes, and genes for which we measured splicing"
   ]
  },
  {
   "cell_type": "code",
   "execution_count": null,
   "metadata": {
    "collapsed": true
   },
   "outputs": [],
   "source": [
    "study.splicing.feature_expression_id_col = 'ensembl_id'"
   ]
  },
  {
   "cell_type": "code",
   "execution_count": null,
   "metadata": {
    "collapsed": false
   },
   "outputs": [],
   "source": [
    "# splicing_metadata = pd.read_csv('/projects/ps-yeolab/obotvinnik/singlecell_pnms/skipped_exon_metadata.csv', index_col=0)\n",
    "# study.splicing.feature_expression_id_col = 'ensembl_id'\n",
    "# study.splicing.feature_data = splicing_metadata\n",
    "# cols = study.expression.feature_data.columns.difference(study.splicing.feature_data.columns)\n",
    "# study.splicing.feature_data = study.splicing.feature_data.join(study.expression.feature_data[cols], on='one_ensembl_id')\n",
    "\n",
    "# study.splicing.feature_data.head()"
   ]
  },
  {
   "cell_type": "code",
   "execution_count": null,
   "metadata": {
    "collapsed": true
   },
   "outputs": [],
   "source": [
    "sns.set(style='ticks', context='paper')\n"
   ]
  },
  {
   "cell_type": "code",
   "execution_count": null,
   "metadata": {
    "collapsed": false
   },
   "outputs": [],
   "source": [
    "## Genes\n",
    "fig, ax = plt.subplots(figsize=(2, 1.5))\n",
    "\n",
    "sns.distplot(study.expression.data[study.expression.data >= 1].values.flat, kde=False,\n",
    "            bins=np.linspace(0, 16, 50), hist_kws=dict(range=(0, 16)),\n",
    "             ax=ax, color='grey')\n",
    "ax.set_ylabel('Genes')\n",
    "ax.set_xlabel('$\\log_2(TPM+1)$')\n",
    "ax.locator_params(axis='y', nbins=4)\n",
    "sns.despine()\n",
    "fig.tight_layout()\n",
    "fig.savefig('{}/distribution_of_expression_all_genes.pdf'.format(splicing_filter_folder))\n",
    "\n",
    "\n",
    "\n",
    "## Splicing events\n",
    "fig, ax = plt.subplots(figsize=(2, 1.5))\n",
    "no_duplicate_genes = study.tidy_splicing_with_expression.groupby(['sample_id', 'common_id']).expression.mean()\n",
    "sns.distplot(np.log2(no_duplicate_genes+1), kde=False, ax=ax)\n",
    "ax.locator_params(axis='y', nbins=4)\n",
    "ax.set_ylabel('Alt Spliced Junctions')\n",
    "ax.set_xlabel('$\\log_2(TPM+1)$')\n",
    "sns.despine()\n",
    "fig.tight_layout()\n"
   ]
  },
  {
   "cell_type": "markdown",
   "metadata": {},
   "source": [
    "### Only use splicing events with mean gene expression TPM > 1"
   ]
  },
  {
   "cell_type": "code",
   "execution_count": null,
   "metadata": {
    "collapsed": false
   },
   "outputs": [],
   "source": [
    "grouped = study.tidy_splicing_with_expression.groupby(['sample_id', 'event_name'], as_index=False)\n",
    "# Take the mean psi if there are multiple splicing events per gene, for each sample's splicing event\n",
    "summed_expression = grouped.agg({'expression':'mean', 'psi': 'mean'})\n",
    "splicing_tidy_filtered = summed_expression.ix[summed_expression.expression >= 1]\n",
    "splicing_filtered = splicing_tidy_filtered.pivot(index='sample_id', columns='event_name', values='psi')\n",
    "print splicing_filtered.shape\n",
    "splicing_filtered.head()"
   ]
  },
  {
   "cell_type": "code",
   "execution_count": null,
   "metadata": {
    "collapsed": false
   },
   "outputs": [],
   "source": [
    "splicing_filter_check = splicing_tidy_filtered.merge(study.tidy_splicing_with_expression, left_on=['sample_id', 'event_name'],\n",
    "                            right_on=['sample_id', 'event_name'])\n",
    "splicing_filter_check.head()"
   ]
  },
  {
   "cell_type": "code",
   "execution_count": null,
   "metadata": {
    "collapsed": false
   },
   "outputs": [],
   "source": [
    "sns.set(style='ticks', context='paper')\n"
   ]
  },
  {
   "cell_type": "code",
   "execution_count": null,
   "metadata": {
    "collapsed": false
   },
   "outputs": [],
   "source": [
    "## Splicing events\n",
    "fig, ax = plt.subplots(figsize=(2, 1.5))\n",
    "# ind = study.tidy_splicing_with_expression['event_name'].isin(splicing_filtered.columns)\n",
    "# tidy_splicing_with_expression_filtered = study.tidy_splicing_with_expression.ix[ind]\n",
    "no_duplicate_genes = splicing_filter_check.groupby(['sample_id', 'common_id']).expression_x.sum()\n",
    "lower_quantile = np.log2(no_duplicate_genes.quantile(0.1)+1)\n",
    "upper_quantile = np.log2(no_duplicate_genes.quantile(0.9)+1)\n",
    "six.print_(lower_quantile, upper_quantile)\n",
    "\n",
    "sns.distplot(np.log2(no_duplicate_genes+1), kde=False, color='grey')\n",
    "ymin, ymax = ax.get_ylim()\n",
    "ax.vlines(lower_quantile, ymin, ymax, linestyle='--', color='Crimson')\n",
    "ax.vlines(upper_quantile, ymin, ymax, linestyle='--', color='Crimson')\n",
    "ax.locator_params(nbins=5)\n",
    "ax.set_ylabel('AS Events')\n",
    "ax.set_xlabel('$\\log_2(TPM+1)$')\n",
    "sns.despine()\n",
    "fig.tight_layout()\n",
    "fig.savefig('{}/distribution_of_expression_of_splicing_events.pdf'.format(folder))"
   ]
  },
  {
   "cell_type": "markdown",
   "metadata": {},
   "source": [
    "Assign this new splicing matrix to our `study`."
   ]
  },
  {
   "cell_type": "code",
   "execution_count": null,
   "metadata": {
    "collapsed": false
   },
   "outputs": [],
   "source": [
    "print study.splicing.data_original.shape\n",
    "study.splicing.data_original = splicing_filtered\n",
    "study.splicing.data = splicing_filtered\n",
    "print study.splicing.data_original.shape"
   ]
  },
  {
   "cell_type": "code",
   "execution_count": null,
   "metadata": {
    "collapsed": false
   },
   "outputs": [],
   "source": [
    "study.save('singlecell_pnm_figure1_supplementary_post_splicing_filtering', flotilla_dir=flotilla_dir)"
   ]
  },
  {
   "cell_type": "code",
   "execution_count": null,
   "metadata": {
    "collapsed": false
   },
   "outputs": [],
   "source": [
    "study = flotilla.embark('singlecell_pnm_figure1_supplementary_post_splicing_filtering', flotilla_dir=flotilla_dir)"
   ]
  },
  {
   "cell_type": "code",
   "execution_count": null,
   "metadata": {
    "collapsed": false
   },
   "outputs": [],
   "source": [
    "study.splicing.data.shape"
   ]
  },
  {
   "cell_type": "code",
   "execution_count": null,
   "metadata": {
    "collapsed": false
   },
   "outputs": [],
   "source": [
    "study.splicing.data_original.shape"
   ]
  },
  {
   "cell_type": "code",
   "execution_count": null,
   "metadata": {
    "collapsed": true
   },
   "outputs": [],
   "source": [
    "study.splicing.feature_expression_id_col = 'ensembl_id'"
   ]
  },
  {
   "cell_type": "markdown",
   "metadata": {},
   "source": [
    "### Venn diagram of shared events"
   ]
  },
  {
   "cell_type": "code",
   "execution_count": null,
   "metadata": {
    "collapsed": false
   },
   "outputs": [],
   "source": [
    "events_per_phenotype = dict((name, df.dropna(thresh=10, axis=1).dropna(how='all',axis=0).columns)\n",
    "                            for name, df in study.splicing.data.groupby(study.sample_id_to_phenotype))\n",
    "events_per_phenotype_count = pd.Series(events_per_phenotype).map(len)\n",
    "\n",
    "phenotypes, events = zip(*events_per_phenotype.items())\n",
    "\n",
    "fig, ax = plt.subplots(figsize=(2, 2))\n",
    "matplotlib_venn.venn3(events, set_labels=phenotypes, \n",
    "                      set_colors=[study.phenotype_to_color[p] for p in phenotypes])\n",
    "ax = plt.gca()\n",
    "# ax.set_title('Alternative splicing events\\10+ cells per celltype')\n",
    "fig = plt.gcf()\n",
    "fig.tight_layout()\n",
    "fig.savefig('{}/shared_events_venn10_per_phenotype.pdf'.format(folder))"
   ]
  },
  {
   "cell_type": "code",
   "execution_count": null,
   "metadata": {
    "collapsed": false
   },
   "outputs": [],
   "source": [
    "events_per_phenotype = dict((name, df.dropna(how='all',axis=1).dropna(how='all', axis=0).columns)\n",
    "                            for name, df in study.splicing.data.groupby(study.sample_id_to_phenotype))\n",
    "events_per_phenotype_count = pd.Series(events_per_phenotype).map(len)\n",
    "\n",
    "phenotypes, events = zip(*events_per_phenotype.items())\n",
    "\n",
    "fig, ax = plt.subplots(figsize=(4, 3))\n",
    "matplotlib_venn.venn3(events, set_labels=phenotypes, \n",
    "                      set_colors=[study.phenotype_to_color[p] for p in phenotypes])\n",
    "ax = plt.gca()\n",
    "ax.set_title('Shared splicing events\\n10+ cells total')\n",
    "fig = plt.gcf()\n",
    "fig.tight_layout()\n",
    "fig.savefig('{}/shared_events_venn10_total.pdf'.format(folder))"
   ]
  },
  {
   "cell_type": "code",
   "execution_count": null,
   "metadata": {
    "collapsed": false
   },
   "outputs": [],
   "source": [
    "event_to_genes =  study.tidy_splicing_with_expression.drop(['sample_id', 'psi', 'expression'], axis=1)\n",
    "event_to_genes = event_to_genes.drop_duplicates()\n",
    "event_to_genes.head()"
   ]
  },
  {
   "cell_type": "code",
   "execution_count": null,
   "metadata": {
    "collapsed": false
   },
   "outputs": [],
   "source": [
    "scatterplot_folder = '{}/scatterplots'.format(folder)\n",
    "! mkdir $scatterplot_folder"
   ]
  },
  {
   "cell_type": "code",
   "execution_count": null,
   "metadata": {
    "collapsed": true
   },
   "outputs": [],
   "source": [
    "from scipy.stats import pearsonr"
   ]
  },
  {
   "cell_type": "code",
   "execution_count": null,
   "metadata": {
    "collapsed": false
   },
   "outputs": [],
   "source": [
    "comparisons = [('P1_05', 'P7_08'),\n",
    "               ('P1_05', 'P2_03'),\n",
    "               ('M2nd_33', 'M2nd_34'),\n",
    "               ('M2nd_33', 'P1_05')]\n",
    "for sample1, sample2 in comparisons:\n",
    "    study.plot_two_samples(sample1, sample2, 'splicing', size=2, color='#262626', stat_func=None, alpha=0.5, rasterized=True)\n",
    "    x = study.splicing.data.loc[sample1]\n",
    "    y = study.splicing.data.loc[sample2]\n",
    "    correlation = x.corr(y)\n",
    "    six.print_(sample1, sample2, correlation)\n",
    "    \n",
    "    fig = plt.gcf()\n",
    "    ax = fig.axes[0]\n",
    "    ax.set(xticks=[0, 0.5, 1], yticks=[0, 0.5, 1], xlabel='$\\Psi$', ylabel='$\\Psi$')\n",
    "    fig.savefig(\"{}/{}_vs_{}_splicing.pdf\".format(scatterplot_folder, sample1, sample2), dpi=600)"
   ]
  },
  {
   "cell_type": "code",
   "execution_count": null,
   "metadata": {
    "collapsed": false
   },
   "outputs": [],
   "source": [
    "comparisons = [('P1_05', 'P7_08'),\n",
    "               ('P1_05', 'P2_03'),\n",
    "               ('M2nd_33', 'M2nd_34'),\n",
    "               ('M2nd_33', 'P1_05')]\n",
    "for sample1, sample2 in comparisons:\n",
    "    x = np.log2(study.expression.data.loc[sample1]+1)\n",
    "    y = np.log2(study.expression.data.loc[sample2]+1)\n",
    "    correlation = x.corr(y)\n",
    "    six.print_(sample1, sample2, correlation)\n",
    "#     study.plot_two_samples(sample1, sample2, 'expression', size=2, color='#262626', stat_func=None, alpha=0.5, rasterized=True)\n",
    "    sns.jointplot(x, y, size=2, color='#262626', stat_func=None, alpha=0.1, rasterized=True)\n",
    "    fig = plt.gcf()\n",
    "\n",
    "    ax = fig.axes[0]\n",
    "    ax.set(#xticks=[0, 4, 8, 12], yticks=[0, 4, 8, 12], \n",
    "           xlabel='$\\log_2 (\\mathrm{TPM} + 1)$', ylabel='$\\log_2 (\\mathrm{TPM} + 1)$')\n",
    "    fig.savefig(\"{}/{}_vs_{}_expression.pdf\".format(scatterplot_folder, sample1, sample2), dpi=600)"
   ]
  },
  {
   "cell_type": "code",
   "execution_count": null,
   "metadata": {
    "collapsed": false
   },
   "outputs": [],
   "source": [
    "%%time\n",
    "\n",
    "seen = set([])\n",
    "tidy_splicing_with_expression = study.tidy_splicing_with_expression.copy()\n",
    "tidy_splicing_with_expression = tidy_splicing_with_expression.set_index('event_name').sort_index()\n",
    "dark2 = sns.color_palette('Dark2')\n",
    "\n",
    "splits = study.metadata.data.split.dropna()\n",
    "\n",
    "paired = sns.color_palette('Paired')\n",
    "\n",
    "sample_colors = {'P1_05': paired[1],\n",
    "                'P7_08': paired[0],\n",
    "                'P2_03': 'salmon',\n",
    "                'M2nd_33': '#262626',\n",
    "                'M2nd_34': 'lightgrey'}\n",
    "\n",
    "\n",
    "for sample1, sample2 in comparisons:\n",
    "    fig, ax = plt.subplots(figsize=(4,3))\n",
    "    \n",
    "    ind1 = tidy_splicing_with_expression.sample_id == sample1\n",
    "    ind2 = tidy_splicing_with_expression.sample_id == sample2\n",
    "    \n",
    "    psi1 = tidy_splicing_with_expression.ix[ind1, 'psi']\n",
    "    psi2 = tidy_splicing_with_expression.ix[ind2, 'psi']\n",
    "    delta_psi = (psi1 - psi2).dropna()\n",
    "\n",
    "    for sample in (sample1, sample2):\n",
    "        ind = tidy_splicing_with_expression.sample_id == sample\n",
    "        y = np.log2(tidy_splicing_with_expression.ix[ind, 'expression']+1)\n",
    "        x, y = delta_psi.align(y, 'inner')\n",
    "        color = sample_colors[sample]\n",
    "        ax.plot(x, y, 'o', label=sample, markerfacecolor=color, alpha=0.5, markeredgewidth=0.75, markeredgecolor='white',\n",
    "               rasterized=True)\n",
    "    legend = ax.legend(**{'bbox_to_anchor': (1, 0.5), 'loc': 'center left'})\n",
    "    ax.set_xlabel('$\\Delta \\Psi$')\n",
    "    ax.set_ylabel('$\\\\log_2{{TPM+1)}}$')\n",
    "    ax.set_xlim(-1, 1)\n",
    "    ymin, ymax = ax.get_ylim()\n",
    "    ax.set_ylim(0, ymax)\n",
    "    sns.despine()\n",
    "    fig.savefig('{}/split_delta_psi_vs_tpm_{}_{}.png'.format(folder, sample1, sample2), \n",
    "                format='png', dpi=300, **{'bbox_extra_artists': (legend,), 'bbox_inches': 'tight'})"
   ]
  },
  {
   "cell_type": "code",
   "execution_count": null,
   "metadata": {
    "collapsed": false
   },
   "outputs": [],
   "source": [
    "# sns.set(style='whitegrid')\n",
    "\n",
    "tidy_splicing_with_expression = study.tidy_splicing_with_expression\n",
    "tidy_splicing_with_expression = tidy_splicing_with_expression.set_index('event_name').sort_index()\n",
    "dark2 = sns.color_palette('Dark2')\n",
    "\n",
    "splits = study.metadata.data.split.dropna()\n",
    "\n",
    "paired = sns.color_palette('Paired')\n",
    "\n",
    "sample_colors = {'P1_05': paired[1],\n",
    "                'P7_08': paired[0],\n",
    "                'P2_03': 'salmon',\n",
    "                'M2nd_33': '#262626',\n",
    "                'M2nd_34': 'lightgrey'}\n",
    "\n",
    "# folder = '/home/obotvinnik/Dropbox/figures2/singlecell_pnm/figure2_splicing'\n",
    "\n",
    "for sample1, sample2 in comparisons:\n",
    "#     fig, ax = plt.subplots(figsize=(4,3))\n",
    "    \n",
    "    ind1 = tidy_splicing_with_expression.sample_id == sample1\n",
    "    ind2 = tidy_splicing_with_expression.sample_id == sample2\n",
    "    \n",
    "    psi1 = tidy_splicing_with_expression.ix[ind1, 'psi']\n",
    "    psi2 = tidy_splicing_with_expression.ix[ind2, 'psi']\n",
    "    delta_psi = (psi1 - psi2).dropna()\n",
    "\n",
    "    # Plot sample1 and set up the jointgrid\n",
    "    ind = tidy_splicing_with_expression.sample_id == sample1\n",
    "    y = np.log2(tidy_splicing_with_expression.ix[ind, 'expression']+1)\n",
    "    x, y = delta_psi.align(y, 'inner')\n",
    "    color = sample_colors[sample1]\n",
    "    g = sns.jointplot(x, y, color=color, joint_kws=dict(alpha=0.5, linewidth=1, edgecolor='white', label=sample1, \n",
    "                                                        rasterized=True, s=40), \n",
    "                      xlim=(-1, 1), ylim=(0, 14), size=4,\n",
    "                     stat_func=None)\n",
    "    \n",
    "    # Plot sample 2 using existing jointgrid\n",
    "    ind = tidy_splicing_with_expression.sample_id == sample2\n",
    "    y = np.log2(tidy_splicing_with_expression.ix[ind, 'expression']+1)\n",
    "    x, y = delta_psi.align(y, 'inner')\n",
    "    color = sample_colors[sample2] \n",
    "    g.x, g.y = x, y\n",
    "    g.plot_joint(plt.scatter, color=color, alpha=0.5, label=sample2, linewidth=1, edgecolor='white', rasterized=True,\n",
    "                s=40)\n",
    "    g.plot_marginals(sns.distplot, color=color)\n",
    "    g.ax_marg_x.set_xlabel('')\n",
    "    g.ax_marg_y.set_ylabel('')\n",
    "\n",
    "    g.ax_joint.legend(loc=\"upper left\", fontsize=10)\n",
    "#     legend = g.ax_joint.legend(**{'bbox_to_anchor': (1, 0.5), 'loc': 'center left'})\n",
    "    g.ax_joint.set_xlabel('$\\Delta \\Psi$')\n",
    "    g.ax_joint.set_ylabel('$\\\\log_2{{TPM+1)}}$')\n",
    "#     ax.set_xlim(-1, 1)\n",
    "#     ymin, ymax = ax.get_ylim()\n",
    "#     ax.set_ylim(0, ymax)\n",
    "    sns.despine()\n",
    "    g.savefig('{}/split_delta_psi_vs_tpm_{}_{}.png'.format(folder, sample1, sample2), dpi=300)"
   ]
  },
  {
   "cell_type": "markdown",
   "metadata": {},
   "source": [
    "## Venn diagrams of shared events"
   ]
  },
  {
   "cell_type": "code",
   "execution_count": null,
   "metadata": {
    "collapsed": false
   },
   "outputs": [],
   "source": [
    "threshold = 0.25\n",
    "\n",
    "for sample1, sample2 in comparisons:\n",
    "    color1 = sample_colors[sample1]\n",
    "    color2 = sample_colors[sample2]\n",
    "    \n",
    "    psi1_original = study.splicing.data_original.ix[sample1].dropna()\n",
    "    psi2_original = study.splicing.data_original.ix[sample2].dropna()\n",
    "    \n",
    "    union = psi1_original.index.union(psi2_original.index)\n",
    "    both = psi1_original.index.intersection(psi2_original.index)\n",
    "    percent_in_both = 100.*both.shape[0]/float(union.shape[0])\n",
    "    \n",
    "    fig, axes = plt.subplots(figsize=(4, 4), nrows=2)\n",
    "    ax = axes[0]\n",
    "    matplotlib_venn.venn2([psi1_original.index, psi2_original.index], set_labels=(sample1, sample2),\n",
    "                          set_colors=(color1, color2), ax=ax)\n",
    "    ax.set_title('{:.2f}% events detected in both'.format(percent_in_both))\n",
    "    \n",
    "    psi1, psi2 = psi1_original.align(psi2_original, 'inner')\n",
    "    diff = psi1-psi2\n",
    "    venn_data = {'11': diff[diff.abs() <= threshold].shape[0], \n",
    "                 '10': diff[diff > threshold].shape[0], \n",
    "                 '01': diff[diff < -threshold].shape[0]} \n",
    "    percent_in_both = 100.*float(venn_data['11'])/sum(venn_data.values())\n",
    "\n",
    "    ax = axes[1]\n",
    "    matplotlib_venn.venn2(venn_data, \n",
    "                          set_labels=('{:.1f}% events $\\Delta \\Psi\\leq {:.2f}$'.format(percent_in_both, threshold), ''),\n",
    "                          set_colors=(color1, color2), ax=ax)\n",
    "\n",
    "    # Add bracket line\n",
    "    connection = mpl.patches.ConnectionPatch(xyA=(0.5, 0.05), xyB=(0.5, 0.96), coordsA='axes fraction', coordsB='axes fraction',\n",
    "                                             axesA=axes[0], axesB=axes[1], arrowstyle='-[,widthB=3.0,lengthB=0.5', \n",
    "                                             edgecolor='darkgrey', linewidth=3, facecolor='darkgrey')\n",
    "    axes[1].add_artist(connection)\n",
    "    fig.tight_layout()\n",
    "    fig.savefig('{}/two_samples_{}_vs_{}_splicing_venn.pdf'.format(folder, sample1, sample2))\n"
   ]
  },
  {
   "cell_type": "code",
   "execution_count": null,
   "metadata": {
    "collapsed": true
   },
   "outputs": [],
   "source": []
  },
  {
   "cell_type": "code",
   "execution_count": null,
   "metadata": {
    "collapsed": true
   },
   "outputs": [],
   "source": []
  },
  {
   "cell_type": "code",
   "execution_count": null,
   "metadata": {
    "collapsed": true
   },
   "outputs": [],
   "source": []
  },
  {
   "cell_type": "code",
   "execution_count": null,
   "metadata": {
    "collapsed": true
   },
   "outputs": [],
   "source": []
  }
 ],
 "metadata": {
  "kernelspec": {
   "display_name": "Python 2",
   "language": "python",
   "name": "python2"
  },
  "language_info": {
   "codemirror_mode": {
    "name": "ipython",
    "version": 2
   },
   "file_extension": ".py",
   "mimetype": "text/x-python",
   "name": "python",
   "nbconvert_exporter": "python",
   "pygments_lexer": "ipython2",
   "version": "2.7.10"
  }
 },
 "nbformat": 4,
 "nbformat_minor": 0
}
