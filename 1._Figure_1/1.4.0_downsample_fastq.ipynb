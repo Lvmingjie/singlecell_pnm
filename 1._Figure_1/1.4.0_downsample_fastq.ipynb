{
 "cells": [
  {
   "cell_type": "markdown",
   "metadata": {},
   "source": [
    "iPSC: P9_01 and MN: M6_03 are samples that were sequenced to over 100 million reads each. I need to downsample them, in intervals of 5 million reads, maybe 5-10 iterations each. I'll use [`seqtk`](https://github.com/lh3/seqtk) for the downsampling.\n",
    "\n",
    "After I downsample, then I'll need to create a manifest file and submit these data for the analysis pipeline - probably minus everything after mapping."
   ]
  },
  {
   "cell_type": "code",
   "execution_count": 2,
   "metadata": {
    "collapsed": false
   },
   "outputs": [
    {
     "name": "stdout",
     "output_type": "stream",
     "text": [
      "/oasis/tscc/scratch/obotvinnik/projects/singlecell_pnms/data\n"
     ]
    }
   ],
   "source": [
    "cd /home/obotvinnik/projects/singlecell_pnms/data"
   ]
  },
  {
   "cell_type": "code",
   "execution_count": 6,
   "metadata": {
    "collapsed": false
   },
   "outputs": [],
   "source": [
    "# !tail downsample*err*"
   ]
  },
  {
   "cell_type": "code",
   "execution_count": 7,
   "metadata": {
    "collapsed": false
   },
   "outputs": [
    {
     "name": "stdout",
     "output_type": "stream",
     "text": [
      "\r\n",
      "Usage:   seqtk sample [-2] [-s seed=11] <in.fa> <frac>|<number>\r\n",
      "\r\n",
      "Options: -s INT       RNG seed [11]\r\n",
      "         -2           2-pass mode: twice as slow but with much reduced memory\r\n",
      "\r\n"
     ]
    }
   ],
   "source": [
    "! seqtk sample"
   ]
  },
  {
   "cell_type": "code",
   "execution_count": 8,
   "metadata": {
    "collapsed": false
   },
   "outputs": [],
   "source": [
    "# seed = 1\n",
    "\n",
    "# commands = []\n",
    "\n",
    "# old_folder = '/home/obotvinnik/projects/singlecell_pnms/data'\n",
    "# new_folder = '/home/obotvinnik/projects/downsample_singlecell/data'\n",
    "\n",
    "# samples = 'P9_01', 'M6_03'\n",
    "# read_pair = 'R1', 'R2'\n",
    "\n",
    "# for millions_of_reads in [1] + range(5, 105):\n",
    "#     for i in range(10):\n",
    "#         for sample in samples:\n",
    "#             for read in read_pair:\n",
    "#                 sampled_reads = int(millions_of_reads * 1e6)\n",
    "#                 kwargs = dict(seed=seed, old_folder=old_folder, read=read, new_folder=new_folder, \n",
    "#                               sample=sample, sampled_reads=sampled_reads, i=i, millions_of_reads=millions_of_reads)\n",
    "#                 command = 'time seqtk sample -s {seed} {old_folder}/{sample}_{read}.fastq.gz {sampled_reads} '\\\n",
    "#                     '| gzip - > {new_folder}/{sample}_{sampled_reads}reads_iteration{i}_{read}.fastq.gz'.format(**kwargs)\n",
    "#                 commands.append(command)\n",
    "#             seed += 1"
   ]
  },
  {
   "cell_type": "markdown",
   "metadata": {},
   "source": [
    "Not enough memory allocated to 20M+ reads downsampling so need to increase the number of nodes"
   ]
  },
  {
   "cell_type": "markdown",
   "metadata": {},
   "source": [
    "Re-do all data that only has size of 20 bytes (not done)"
   ]
  },
  {
   "cell_type": "code",
   "execution_count": 14,
   "metadata": {
    "collapsed": false
   },
   "outputs": [
    {
     "name": "stderr",
     "output_type": "stream",
     "text": [
      "running 95 tasks as an array-job.\n",
      "Wrote commands to downsample45.sh\n",
      ".Submitted script to queue home-scrm. Job ID: 4554888\n",
      "running 94 tasks as an array-job.\n",
      "Wrote commands to downsample60.sh\n",
      ".Submitted script to queue home-scrm. Job ID: 4554889\n",
      "running 118 tasks as an array-job.\n",
      "Wrote commands to downsample75.sh\n",
      ".Submitted script to queue home-scrm. Job ID: 4554890\n",
      "running 183 tasks as an array-job.\n",
      "Wrote commands to downsample100.sh\n",
      ".Submitted script to queue home-scrm. Job ID: 4554891\n"
     ]
    }
   ],
   "source": [
    "import os\n",
    "import qtools\n",
    "\n",
    "\n",
    "seed = 1\n",
    "\n",
    "commands = []\n",
    "\n",
    "old_folder = '/home/obotvinnik/projects/singlecell_pnms/data'\n",
    "new_folder = '/home/obotvinnik/projects/downsample_singlecell/data'\n",
    "\n",
    "samples = 'P9_01', 'M6_03'\n",
    "\n",
    "\n",
    "read_pair = 'R1', 'R2'\n",
    "\n",
    "\n",
    "\n",
    "for millions_of_reads in [1] + range(5, 105, 5):\n",
    "    for i in range(10):\n",
    "        for sample in samples:\n",
    "            for read in read_pair:\n",
    "#                 if millions_of_reads < 10:\n",
    "#                     continue\n",
    "                sampled_reads = int(millions_of_reads * 1e6)\n",
    "                kwargs = dict(seed=seed, old_folder=old_folder, read=read, new_folder=new_folder, \n",
    "                              sample=sample, sampled_reads=sampled_reads, i=i, millions_of_reads=millions_of_reads)\n",
    "                new_file = '{new_folder}/{sample}_{sampled_reads}reads_iteration{i}_{read}.fastq.gz'.format(**kwargs)\n",
    "                if os.stat(new_file).st_size > 20:\n",
    "                    continue\n",
    "            \n",
    "                command = 'time seqtk sample -s {seed} {old_folder}/{sample}_{read}.fastq.gz {sampled_reads} '\\\n",
    "                    '| gzip - > {new_file}'.format(new_file=new_file, **kwargs)\n",
    "                commands.append(command)\n",
    "            seed += 1\n",
    "    if millions_of_reads == 45:\n",
    "        sub = qtools.Submitter(commands, 'downsample45', array=True, queue='home-scrm', walltime='00:15:00', ppn=1)\n",
    "        commands = []\n",
    "    elif millions_of_reads == 60:\n",
    "        sub = qtools.Submitter(commands, 'downsample60', array=True, queue='home-scrm', walltime='00:30:00', ppn=2)\n",
    "        commands = []\n",
    "    elif millions_of_reads == 75:\n",
    "        sub = qtools.Submitter(commands, 'downsample75', array=True, queue='home-scrm', walltime='01:00:00', ppn=3)\n",
    "        commands = []\n",
    "    elif millions_of_reads == 100:\n",
    "        sub = qtools.Submitter(commands, 'downsample100', array=True, queue='home-scrm', walltime='02:00:00', ppn=4)\n",
    "        commands = []\n",
    "        "
   ]
  },
  {
   "cell_type": "code",
   "execution_count": 15,
   "metadata": {
    "collapsed": false
   },
   "outputs": [
    {
     "data": {
      "text/plain": [
       "0"
      ]
     },
     "execution_count": 15,
     "metadata": {},
     "output_type": "execute_result"
    }
   ],
   "source": [
    "len(commands)"
   ]
  },
  {
   "cell_type": "code",
   "execution_count": 6,
   "metadata": {
    "collapsed": false
   },
   "outputs": [
    {
     "name": "stderr",
     "output_type": "stream",
     "text": [
      "running 500 tasks as an array-job.\n",
      "job ID: 4356920\n",
      "running 500 tasks as an array-job.\n",
      "job ID: 4356921\n",
      "running 500 tasks as an array-job.\n",
      "job ID: 4356922\n",
      "running 500 tasks as an array-job.\n",
      "job ID: 4356923\n",
      "running 500 tasks as an array-job.\n",
      "job ID: 4356924\n",
      "running 500 tasks as an array-job.\n",
      "job ID: 4356925\n",
      "running 400 tasks as an array-job.\n",
      "job ID: 4356926\n"
     ]
    }
   ],
   "source": []
  },
  {
   "cell_type": "code",
   "execution_count": 11,
   "metadata": {
    "collapsed": false
   },
   "outputs": [
    {
     "data": {
      "text/plain": [
       "['time seqtk sample -s 1 /home/obotvinnik/projects/singlecell_pnms/data/P9_01_R1.fastq.gz 1000000 | gzip - > /home/obotvinnik/projects/downsample_singlecell/data/P9_01_1000000reads_iteration0_R1.fastq.gz',\n",
       " 'time seqtk sample -s 1 /home/obotvinnik/projects/singlecell_pnms/data/P9_01_R2.fastq.gz 1000000 | gzip - > /home/obotvinnik/projects/downsample_singlecell/data/P9_01_1000000reads_iteration0_R2.fastq.gz',\n",
       " 'time seqtk sample -s 2 /home/obotvinnik/projects/singlecell_pnms/data/M6_03_R1.fastq.gz 1000000 | gzip - > /home/obotvinnik/projects/downsample_singlecell/data/M6_03_1000000reads_iteration0_R1.fastq.gz',\n",
       " 'time seqtk sample -s 2 /home/obotvinnik/projects/singlecell_pnms/data/M6_03_R2.fastq.gz 1000000 | gzip - > /home/obotvinnik/projects/downsample_singlecell/data/M6_03_1000000reads_iteration0_R2.fastq.gz',\n",
       " 'time seqtk sample -s 3 /home/obotvinnik/projects/singlecell_pnms/data/P9_01_R1.fastq.gz 1000000 | gzip - > /home/obotvinnik/projects/downsample_singlecell/data/P9_01_1000000reads_iteration1_R1.fastq.gz']"
      ]
     },
     "execution_count": 11,
     "metadata": {},
     "output_type": "execute_result"
    }
   ],
   "source": [
    "commands[:5]"
   ]
  },
  {
   "cell_type": "code",
   "execution_count": 12,
   "metadata": {
    "collapsed": false
   },
   "outputs": [
    {
     "data": {
      "text/plain": [
       "4040"
      ]
     },
     "execution_count": 12,
     "metadata": {},
     "output_type": "execute_result"
    }
   ],
   "source": [
    "len(commands)"
   ]
  },
  {
   "cell_type": "code",
   "execution_count": 13,
   "metadata": {
    "collapsed": false
   },
   "outputs": [
    {
     "name": "stdout",
     "output_type": "stream",
     "text": [
      "\r\n",
      "server: tscc-mgr.local\r\n",
      "\r\n",
      "Queue            Memory CPU Time Walltime Node  Run Que Lm  State\r\n",
      "---------------- ------ -------- -------- ----  --- --- --  -----\r\n",
      "home-yeo           --      --       --      --   17   7 --   E R\r\n",
      "home-eallen        --      --       --      --    0   0 --   E R\r\n",
      "gpu-hotel          --      --    336:00:0   --    0   3 --   E R\r\n",
      "home-fpaesani      --      --       --      --    0   8 --   E R\r\n",
      "home-jogleeson     --      --       --      --    3   8 --   E R\r\n",
      "home-tg            --      --       --      --    0   0 --   E R\r\n",
      "home-dkeres        --      --       --      --    0   1 --   E R\r\n",
      "home-kkey          --      --       --      --    0   0 --   E R\r\n",
      "home-builder       --      --       --      --    0   0 --   E R\r\n",
      "home-vayyaswamy    --      --       --      --    0   0 --   E R\r\n",
      "home-scrm          --      --       --      --    4   0 --   E R\r\n",
      "home-mirarab       --      --       --      --    0   0 --   E R\r\n",
      "home-ong           --      --       --      --    0   4 --   E R\r\n",
      "home-mgilson       --      --       --      --   25  54 --   E R\r\n",
      "gpu-condo          --      --    08:00:00   --    0   0 --   E R\r\n",
      "home-shankar       --      --       --      --    0   0 --   E R\r\n",
      "home-mccammon      --      --       --      --    5  23 --   E R\r\n",
      "home-k4zhang       --      --       --      --    0   0 --   E R\r\n",
      "glean              --      --       --      --   70 352 --   E R\r\n",
      "home-gibbs         --      --       --      --   98 162 --   E R\r\n",
      "home-komunjer      --      --       --      --    0   0 --   E R\r\n",
      "home               --      --       --      --    0   0 --   E R\r\n",
      "home-luo           --      --       --      --    0   0 --   E R\r\n",
      "home-mcauley       --      --       --      --    0   0 --   E R\r\n",
      "home-acms          --      --       --      --    0   0 --   E R\r\n",
      "pdafm              --      --    72:00:00   --    0   0 --   E R\r\n",
      "home-jsebat        --      --       --      --    1   0 --   E R\r\n",
      "home-visres        --      --       --      --    0   0 --   E R\r\n",
      "condo              --      --    08:00:00   --   23   7 --   E R\r\n",
      "home-schork        --      --       --      --    0   0 --   E R\r\n",
      "hotel              --      --    168:00:0   --  204 1190 --   E R\r\n",
      "home-kyang         --      --       --      --    5   5 --   E R\r\n",
      "                                               ----- -----\r\n",
      "                                                 455  1824\r\n"
     ]
    }
   ],
   "source": [
    "! qstat -q"
   ]
  },
  {
   "cell_type": "code",
   "execution_count": 14,
   "metadata": {
    "collapsed": false,
    "scrolled": true
   },
   "outputs": [
    {
     "name": "stderr",
     "output_type": "stream",
     "text": [
      "running 500 tasks as an array-job.\n",
      "job ID: 4346851\n",
      "running 500 tasks as an array-job.\n",
      "job ID: 4346852\n",
      "running 500 tasks as an array-job.\n",
      "job ID: 4346853\n",
      "running 500 tasks as an array-job.\n",
      "job ID: 4346854\n",
      "running 500 tasks as an array-job.\n",
      "job ID: 4346855\n",
      "running 500 tasks as an array-job.\n",
      "job ID: 4346856\n",
      "running 500 tasks as an array-job.\n",
      "job ID: 4346857\n",
      "running 500 tasks as an array-job.\n",
      "job ID: 4346858\n",
      "running 40 tasks as an array-job.\n",
      "job ID: 4346859\n"
     ]
    }
   ],
   "source": [
    "import qtools\n",
    "\n",
    "sub = qtools.Submitter(commands, 'downsample', array=True, queue='home-scrm', walltime='01:30:00')"
   ]
  },
  {
   "cell_type": "code",
   "execution_count": 1,
   "metadata": {
    "collapsed": false,
    "scrolled": false
   },
   "outputs": [
    {
     "name": "stdout",
     "output_type": "stream",
     "text": [
      "tail: cannot open `downsample*err*' for reading: No such file or directory\r\n"
     ]
    }
   ],
   "source": [
    "!tail downsample*err*"
   ]
  },
  {
   "cell_type": "code",
   "execution_count": 4,
   "metadata": {
    "collapsed": false
   },
   "outputs": [
    {
     "name": "stdout",
     "output_type": "stream",
     "text": [
      "==> downsample1.sh.out-1 <==\n",
      "Nodes:        tscc-1-46\n",
      "\n",
      "==> downsample1.sh.out-10 <==\n",
      "Nodes:        tscc-1-42\n",
      "\n",
      "==> downsample1.sh.out-100 <==\n",
      "Nodes:        tscc-1-35\n",
      "\n",
      "==> downsample1.sh.out-101 <==\n",
      "Nodes:        tscc-1-35\n",
      "\n",
      "==> downsample1.sh.out-102 <==\n",
      "Nodes:        tscc-1-35\n",
      "\n",
      "==> downsample1.sh.out-103 <==\n",
      "Nodes:        tscc-1-35\n",
      "\n",
      "==> downsample1.sh.out-104 <==\n",
      "Nodes:        tscc-1-35\n",
      "\n",
      "==> downsample1.sh.out-105 <==\n",
      "Nodes:        tscc-1-35\n",
      "\n",
      "==> downsample1.sh.out-106 <==\n",
      "Nodes:        tscc-1-35\n",
      "\n",
      "==> downsample1.sh.out-107 <==\n",
      "Nodes:        tscc-1-35\n",
      "\n",
      "==> downsample1.sh.out-11 <==\n",
      "^C"
     ]
    }
   ],
   "source": [
    "!tail downsample*out*"
   ]
  },
  {
   "cell_type": "code",
   "execution_count": 34,
   "metadata": {
    "collapsed": false
   },
   "outputs": [
    {
     "name": "stdout",
     "output_type": "stream",
     "text": [
      "lrwxrwxrwx 1 obotvinnik yeo-group 61 Jan 23 08:01 \u001b[0m\u001b[01;36m/home/obotvinnik/projects/downsample_singlecell/data\u001b[0m -> \u001b[01;34m/home/obotvinnik/scratch/projects/downsample_singlecell/data/\u001b[0m\u001b[K/\r\n",
      "\u001b[m"
     ]
    }
   ],
   "source": [
    "ls -lha $new_folder"
   ]
  },
  {
   "cell_type": "code",
   "execution_count": null,
   "metadata": {
    "collapsed": true
   },
   "outputs": [],
   "source": []
  }
 ],
 "metadata": {
  "kernelspec": {
   "display_name": "Python 2",
   "language": "python",
   "name": "python2"
  },
  "language_info": {
   "codemirror_mode": {
    "name": "ipython",
    "version": 2
   },
   "file_extension": ".py",
   "mimetype": "text/x-python",
   "name": "python",
   "nbconvert_exporter": "python",
   "pygments_lexer": "ipython2",
   "version": "2.7.11"
  }
 },
 "nbformat": 4,
 "nbformat_minor": 0
}
