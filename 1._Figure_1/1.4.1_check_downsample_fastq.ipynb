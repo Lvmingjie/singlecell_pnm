{
 "cells": [
  {
   "cell_type": "markdown",
   "metadata": {},
   "source": [
    "iPSC: P9_01 and MN: M6_03 are samples that were sequenced to over 100 million reads each. I need to downsample them, in intervals of 5 million reads, maybe 5-10 iterations each. I'll use [`seqtk`](https://github.com/lh3/seqtk) for the downsampling.\n",
    "\n",
    "After I downsample, then I'll need to create a manifest file and submit these data for the analysis pipeline - probably minus everything after mapping."
   ]
  },
  {
   "cell_type": "code",
   "execution_count": 5,
   "metadata": {
    "collapsed": false
   },
   "outputs": [
    {
     "name": "stdout",
     "output_type": "stream",
     "text": [
      "/oasis/tscc/scratch/obotvinnik/projects/downsample_singlecell/data\n"
     ]
    }
   ],
   "source": [
    "cd /home/obotvinnik/projects/downsample_singlecell/data"
   ]
  },
  {
   "cell_type": "markdown",
   "metadata": {},
   "source": [
    "## SOme files are improperly paired"
   ]
  },
  {
   "cell_type": "code",
   "execution_count": 8,
   "metadata": {
    "collapsed": false
   },
   "outputs": [
    {
     "name": "stdout",
     "output_type": "stream",
     "text": [
      "-rw-r--r-- 1 obotvinnik yeo-group   20 Feb 15 06:12 P9_01_97000000reads_iteration1_R1.fastq.gz\r\n",
      "-rw-r--r-- 1 obotvinnik yeo-group 371M Feb 15 06:25 P9_01_97000000reads_iteration1_R2.fastq.gz\r\n"
     ]
    }
   ],
   "source": [
    "! ls -lha P9_01_97000000reads_iteration1_R*"
   ]
  },
  {
   "cell_type": "code",
   "execution_count": 11,
   "metadata": {
    "collapsed": false
   },
   "outputs": [],
   "source": [
    "! grep P9_01_97000000reads /home/obotvinnik/projects/singlecell_pnms/data/downsample*"
   ]
  },
  {
   "cell_type": "code",
   "execution_count": 12,
   "metadata": {
    "collapsed": false
   },
   "outputs": [
    {
     "name": "stderr",
     "output_type": "stream",
     "text": [
      "/home/obotvinnik/anaconda/lib/python2.7/site-packages/matplotlib/__init__.py:810: UserWarning: Found matplotlib configuration in ~/.matplotlib/. To conform with the XDG base directory standard, this configuration location has been deprecated on Linux, and the new location is now /home/obotvinnik/.config/matplotlib/. Please move your configuration there to ensure that matplotlib will continue to find it in the future.\n",
      "  _get_xdg_config_dir())\n"
     ]
    }
   ],
   "source": [
    "import glob\n",
    "import os\n",
    "import pandas as pd"
   ]
  },
  {
   "cell_type": "code",
   "execution_count": 15,
   "metadata": {
    "collapsed": false
   },
   "outputs": [],
   "source": [
    "reads = pd.DataFrame()\n",
    "# reads['properly_paired'] = np.nan\n",
    "\n",
    "\n",
    "for read1 in glob.iglob('*R1.fastq.gz'):\n",
    "    read2 = read1.replace('R1', \"R2\")\n",
    "    \n",
    "    size1 = os.stat(read1).st_size\n",
    "    size2 = os.stat(read2).st_size\n",
    "    \n",
    "    if size1 != size2:\n",
    "#         improperly_paired.append(read1)\n",
    "        reads.loc[read1, 'properly_paired'] = False\n",
    "    else:\n",
    "        reads.loc[read1, 'properly_paired'] = True"
   ]
  },
  {
   "cell_type": "code",
   "execution_count": 3,
   "metadata": {
    "collapsed": false
   },
   "outputs": [
    {
     "name": "stderr",
     "output_type": "stream",
     "text": [
      "/home/obotvinnik/anaconda/lib/python2.7/site-packages/matplotlib/__init__.py:810: UserWarning: Found matplotlib configuration in ~/.matplotlib/. To conform with the XDG base directory standard, this configuration location has been deprecated on Linux, and the new location is now /home/obotvinnik/.config/matplotlib/. Please move your configuration there to ensure that matplotlib will continue to find it in the future.\n",
      "  _get_xdg_config_dir())\n"
     ]
    }
   ],
   "source": []
  },
  {
   "cell_type": "code",
   "execution_count": 4,
   "metadata": {
    "collapsed": false
   },
   "outputs": [
    {
     "name": "stdout",
     "output_type": "stream",
     "text": [
      "=>> PBS: job killed: walltime 925 exceeded limit 900\n",
      "=>> PBS: job killed: walltime 907 exceeded limit 900\n",
      "=>> PBS: job killed: walltime 932 exceeded limit 900\n",
      "=>> PBS: job killed: walltime 939 exceeded limit 900\n",
      "Can't open /etc/security/access.conf: No such file or directory.\n",
      "=>> PBS: job killed: walltime 1829 exceeded limit 1800\n",
      "=>> PBS: job killed: walltime 927 exceeded limit 900\n",
      "Can't open /etc/security/access.conf: No such file or directory.\n",
      "=>> PBS: job killed: walltime 943 exceeded limit 900\n",
      "=>> PBS: job killed: walltime 3627 exceeded limit 3600\n",
      "ls: cannot access PBS_TEMP_4554889[47].tscc-mgr.local: No such file or directory\n",
      "\n",
      "real\t2m22.582s\n",
      "user\t2m3.107s\n",
      "sys\t0m18.467s\n",
      "ls: cannot access PBS_TEMP_4554891[5].tscc-mgr.local: No such file or directory\n",
      "\n",
      "real\t1m30.674s\n",
      "user\t1m21.466s\n",
      "sys\t0m9.011s\n",
      "=>> PBS: job killed: walltime 937 exceeded limit 900\n",
      "=>> PBS: job killed: walltime 917 exceeded limit 900\n",
      "=>> PBS: job killed: walltime 937 exceeded limit 900\n",
      "Can't remove /etc/security/access.conf: No such file or directory, skipping file.\n",
      "=>> PBS: job killed: walltime 934 exceeded limit 900\n",
      "=>> PBS: job killed: walltime 926 exceeded limit 900\n",
      "=>> PBS: job killed: walltime 1829 exceeded limit 1800\n"
     ]
    },
    {
     "ename": "ValueError",
     "evalue": "too many values to unpack",
     "output_type": "error",
     "traceback": [
      "\u001b[1;31m---------------------------------------------------------------------------\u001b[0m",
      "\u001b[1;31mValueError\u001b[0m                                Traceback (most recent call last)",
      "\u001b[1;32m<ipython-input-4-774d6b7e9090>\u001b[0m in \u001b[0;36m<module>\u001b[1;34m()\u001b[0m\n\u001b[0;32m      6\u001b[0m     \u001b[0mfilesize\u001b[0m \u001b[1;33m=\u001b[0m \u001b[0mos\u001b[0m\u001b[1;33m.\u001b[0m\u001b[0mstat\u001b[0m\u001b[1;33m(\u001b[0m\u001b[0merr\u001b[0m\u001b[1;33m)\u001b[0m\u001b[1;33m.\u001b[0m\u001b[0mst_size\u001b[0m\u001b[1;33m\u001b[0m\u001b[0m\n\u001b[0;32m      7\u001b[0m     \u001b[1;32mif\u001b[0m \u001b[0mfilesize\u001b[0m \u001b[1;33m>\u001b[0m \u001b[1;36m50\u001b[0m\u001b[1;33m:\u001b[0m\u001b[1;33m\u001b[0m\u001b[0m\n\u001b[1;32m----> 8\u001b[1;33m         \u001b[0mprefix\u001b[0m\u001b[1;33m,\u001b[0m \u001b[0mnumber\u001b[0m \u001b[1;33m=\u001b[0m \u001b[0merr\u001b[0m\u001b[1;33m.\u001b[0m\u001b[0msplit\u001b[0m\u001b[1;33m(\u001b[0m\u001b[1;34m'-'\u001b[0m\u001b[1;33m)\u001b[0m\u001b[1;33m\u001b[0m\u001b[0m\n\u001b[0m\u001b[0;32m      9\u001b[0m         \u001b[0mget_ipython\u001b[0m\u001b[1;33m(\u001b[0m\u001b[1;33m)\u001b[0m\u001b[1;33m.\u001b[0m\u001b[0msystem\u001b[0m\u001b[1;33m(\u001b[0m\u001b[1;34mu' cat $err'\u001b[0m\u001b[1;33m)\u001b[0m\u001b[1;33m\u001b[0m\u001b[0m\n\u001b[0;32m     10\u001b[0m         \u001b[0msh\u001b[0m \u001b[1;33m=\u001b[0m \u001b[0mprefix\u001b[0m\u001b[1;33m.\u001b[0m\u001b[0mrstrip\u001b[0m\u001b[1;33m(\u001b[0m\u001b[1;34m'.err'\u001b[0m\u001b[1;33m)\u001b[0m\u001b[1;33m\u001b[0m\u001b[0m\n",
      "\u001b[1;31mValueError\u001b[0m: too many values to unpack"
     ]
    }
   ],
   "source": [
    "from collections import defaultdict\n",
    "\n",
    "redo_commands = defaultdict(list)\n",
    "\n",
    "for err in glob.iglob('downsample*err*'):\n",
    "    filesize = os.stat(err).st_size\n",
    "    if filesize > 50:\n",
    "        prefix, number = err.split('-')\n",
    "        ! cat $err\n",
    "        sh = prefix.rstrip('.err')\n",
    "        pattern = '\\[{}\\]'.format(number)\n",
    "        lines = ! grep \"cmd\\[$number\\]=\" $sh\n",
    "        line = lines[0]\n",
    "        command = line.split('=')[1].strip('\"')\n",
    "        redo_commands[sh].append(command)\n",
    "        split = line.split()\n",
    "        \n",
    "        input_fastq = split[5]\n",
    "        reads = int(split[6])\n",
    "        output_fastq = split[-1]"
   ]
  },
  {
   "cell_type": "code",
   "execution_count": 52,
   "metadata": {
    "collapsed": true
   },
   "outputs": [],
   "source": [
    "import pprint"
   ]
  },
  {
   "cell_type": "code",
   "execution_count": 56,
   "metadata": {
    "collapsed": false
   },
   "outputs": [
    {
     "data": {
      "text/plain": [
       "['downsample75.sh', 'downsample60.sh', 'downsample45.sh', 'downsample100.sh']"
      ]
     },
     "execution_count": 56,
     "metadata": {},
     "output_type": "execute_result"
    }
   ],
   "source": [
    "redo_commands.keys()"
   ]
  },
  {
   "cell_type": "code",
   "execution_count": 54,
   "metadata": {
    "collapsed": false
   },
   "outputs": [
    {
     "name": "stdout",
     "output_type": "stream",
     "text": [
      "{'downsample100.sh': ['time seqtk sample -s 325 /home/obotvinnik/projects/singlecell_pnms/data/P9_01_R2.fastq.gz 80000000 | gzip - > /home/obotvinnik/projects/downsample_singlecell/data/P9_01_80000000reads_iteration2_R2.fastq.gz'],\n",
      " 'downsample45.sh': ['time seqtk sample -s 146 /home/obotvinnik/projects/singlecell_pnms/data/M6_03_R1.fastq.gz 35000000 | gzip - > /home/obotvinnik/projects/downsample_singlecell/data/M6_03_35000000reads_iteration2_R1.fastq.gz',\n",
      "                     'time seqtk sample -s 169 /home/obotvinnik/projects/singlecell_pnms/data/P9_01_R2.fastq.gz 40000000 | gzip - > /home/obotvinnik/projects/downsample_singlecell/data/P9_01_40000000reads_iteration4_R2.fastq.gz',\n",
      "                     'time seqtk sample -s 92 /home/obotvinnik/projects/singlecell_pnms/data/M6_03_R1.fastq.gz 20000000 | gzip - > /home/obotvinnik/projects/downsample_singlecell/data/M6_03_20000000reads_iteration5_R1.fastq.gz',\n",
      "                     'time seqtk sample -s 89 /home/obotvinnik/projects/singlecell_pnms/data/P9_01_R2.fastq.gz 20000000 | gzip - > /home/obotvinnik/projects/downsample_singlecell/data/P9_01_20000000reads_iteration4_R2.fastq.gz',\n",
      "                     'time seqtk sample -s 94 /home/obotvinnik/projects/singlecell_pnms/data/M6_03_R2.fastq.gz 20000000 | gzip - > /home/obotvinnik/projects/downsample_singlecell/data/M6_03_20000000reads_iteration6_R2.fastq.gz',\n",
      "                     'time seqtk sample -s 89 /home/obotvinnik/projects/singlecell_pnms/data/P9_01_R1.fastq.gz 20000000 | gzip - > /home/obotvinnik/projects/downsample_singlecell/data/P9_01_20000000reads_iteration4_R1.fastq.gz',\n",
      "                     'time seqtk sample -s 156 /home/obotvinnik/projects/singlecell_pnms/data/M6_03_R2.fastq.gz 35000000 | gzip - > /home/obotvinnik/projects/downsample_singlecell/data/M6_03_35000000reads_iteration7_R2.fastq.gz',\n",
      "                     'time seqtk sample -s 153 /home/obotvinnik/projects/singlecell_pnms/data/P9_01_R2.fastq.gz 35000000 | gzip - > /home/obotvinnik/projects/downsample_singlecell/data/P9_01_35000000reads_iteration6_R2.fastq.gz',\n",
      "                     'time seqtk sample -s 91 /home/obotvinnik/projects/singlecell_pnms/data/P9_01_R1.fastq.gz 20000000 | gzip - > /home/obotvinnik/projects/downsample_singlecell/data/P9_01_20000000reads_iteration5_R1.fastq.gz',\n",
      "                     'time seqtk sample -s 91 /home/obotvinnik/projects/singlecell_pnms/data/P9_01_R2.fastq.gz 20000000 | gzip - > /home/obotvinnik/projects/downsample_singlecell/data/P9_01_20000000reads_iteration5_R2.fastq.gz',\n",
      "                     'time seqtk sample -s 110 /home/obotvinnik/projects/singlecell_pnms/data/M6_03_R1.fastq.gz 25000000 | gzip - > /home/obotvinnik/projects/downsample_singlecell/data/M6_03_25000000reads_iteration4_R1.fastq.gz',\n",
      "                     'time seqtk sample -s 144 /home/obotvinnik/projects/singlecell_pnms/data/M6_03_R2.fastq.gz 35000000 | gzip - > /home/obotvinnik/projects/downsample_singlecell/data/M6_03_35000000reads_iteration1_R2.fastq.gz',\n",
      "                     'time seqtk sample -s 112 /home/obotvinnik/projects/singlecell_pnms/data/M6_03_R2.fastq.gz 25000000 | gzip - > /home/obotvinnik/projects/downsample_singlecell/data/M6_03_25000000reads_iteration5_R2.fastq.gz',\n",
      "                     'time seqtk sample -s 156 /home/obotvinnik/projects/singlecell_pnms/data/M6_03_R1.fastq.gz 35000000 | gzip - > /home/obotvinnik/projects/downsample_singlecell/data/M6_03_35000000reads_iteration7_R1.fastq.gz'],\n",
      " 'downsample60.sh': ['time seqtk sample -s 226 /home/obotvinnik/projects/singlecell_pnms/data/M6_03_R2.fastq.gz 55000000 | gzip - > /home/obotvinnik/projects/downsample_singlecell/data/M6_03_55000000reads_iteration2_R2.fastq.gz',\n",
      "                     'time seqtk sample -s 244 /home/obotvinnik/projects/singlecell_pnms/data/M6_03_R2.fastq.gz 60000000 | gzip - > /home/obotvinnik/projects/downsample_singlecell/data/M6_03_60000000reads_iteration1_R2.fastq.gz',\n",
      "                     'time seqtk sample -s 258 /home/obotvinnik/projects/singlecell_pnms/data/M6_03_R2.fastq.gz 60000000 | gzip - > /home/obotvinnik/projects/downsample_singlecell/data/M6_03_60000000reads_iteration8_R2.fastq.gz'],\n",
      " 'downsample75.sh': ['time seqtk sample -s 268 /home/obotvinnik/projects/singlecell_pnms/data/M6_03_R2.fastq.gz 65000000 | gzip - > /home/obotvinnik/projects/downsample_singlecell/data/M6_03_65000000reads_iteration3_R2.fastq.gz']}\n"
     ]
    }
   ],
   "source": [
    "pprint.pprint(dict(redo_commands))"
   ]
  },
  {
   "cell_type": "markdown",
   "metadata": {},
   "source": [
    "from 1.4.0_downsample_fastq:\n",
    "\n",
    "    if millions_of_reads == 45:\n",
    "        sub = qtools.Submitter(commands, 'downsample45', array=True, queue='home-scrm', walltime='00:15:00', ppn=1)\n",
    "        commands = []\n",
    "    elif millions_of_reads == 60:\n",
    "        sub = qtools.Submitter(commands, 'downsample60', array=True, queue='home-scrm', walltime='00:30:00', ppn=2)\n",
    "        commands = []\n",
    "    elif millions_of_reads == 75:\n",
    "        sub = qtools.Submitter(commands, 'downsample75', array=True, queue='home-scrm', walltime='01:00:00', ppn=3)\n",
    "        commands = []\n",
    "    elif millions_of_reads == 100:\n",
    "        sub = qtools.Submitter(commands, 'downsample100', array=True, queue='home-scrm', walltime='02:00:00', ppn=4)\n",
    "        commands = []\n",
    "\n",
    "Create new walltimes that are double the time"
   ]
  },
  {
   "cell_type": "code",
   "execution_count": 66,
   "metadata": {
    "collapsed": true
   },
   "outputs": [],
   "source": [
    "walltimes = {45: '00:30:00', 60: '01:00:00', 75: '2:00:00', 100:'4:00:00'}\n",
    "processors = {45:1, 60: 2, 75: 3, 100: 4}"
   ]
  },
  {
   "cell_type": "code",
   "execution_count": 67,
   "metadata": {
    "collapsed": false
   },
   "outputs": [
    {
     "name": "stderr",
     "output_type": "stream",
     "text": [
      "running 1 tasks as an array-job.\n",
      "Wrote commands to downsample75.sh-redo.sh\n",
      ".Submitted script to queue home-yeo. Job ID: 4584343\n",
      "running 3 tasks as an array-job.\n",
      "Wrote commands to downsample60.sh-redo.sh\n",
      ".Submitted script to queue home-yeo. Job ID: 4584344\n",
      "running 14 tasks as an array-job.\n",
      "Wrote commands to downsample45.sh-redo.sh\n",
      ".Submitted script to queue home-yeo. Job ID: 4584345\n",
      "running 1 tasks as an array-job.\n",
      "Wrote commands to downsample100.sh-redo.sh\n",
      ".Submitted script to queue home-yeo. Job ID: 4584346\n"
     ]
    }
   ],
   "source": [
    "import qtools\n",
    "\n",
    "\n",
    "for prefix, commands in redo_commands.items():\n",
    "    jobname = '{}-redo'.format(prefix)\n",
    "    max_reads = int(prefix.split('downsample')[1].split('.')[0])\n",
    "    walltime = walltimes[max_reads]\n",
    "    ppn = processors[max_reads]\n",
    "    sub = qtools.Submitter(commands, jobname, array=True, queue='home-yeo', walltime=walltime, ppn=ppn)"
   ]
  },
  {
   "cell_type": "markdown",
   "metadata": {},
   "source": [
    "Re-did downsampling with tiered submission so remove everything that has a single number (tiered submission was with two numbers after \"downsample\")"
   ]
  },
  {
   "cell_type": "code",
   "execution_count": 64,
   "metadata": {
    "collapsed": false
   },
   "outputs": [
    {
     "name": "stdout",
     "output_type": "stream",
     "text": [
      "4584337\n",
      "4584338\n",
      "4584339\n",
      "4584340\n"
     ]
    }
   ],
   "source": [
    "! for JOBID in {4584337..4584340} ; do echo $JOBID ; qdel $JOBID[] ; done"
   ]
  },
  {
   "cell_type": "code",
   "execution_count": 45,
   "metadata": {
    "collapsed": false
   },
   "outputs": [
    {
     "name": "stdout",
     "output_type": "stream",
     "text": [
      "-rw-r--r-- 1 obotvinnik yeo-group 26K Mar 18 13:52 downsample75.sh\r\n",
      "-rw-r--r-- 1 obotvinnik yeo-group 21K Mar 18 13:52 downsample60.sh\r\n",
      "-rw-r--r-- 1 obotvinnik yeo-group 21K Mar 18 13:52 downsample45.sh\r\n",
      "-rw-r--r-- 1 obotvinnik yeo-group 40K Mar 18 13:52 downsample100.sh\r\n"
     ]
    }
   ],
   "source": [
    "ls -lhaStr downsample*sh"
   ]
  },
  {
   "cell_type": "code",
   "execution_count": 44,
   "metadata": {
    "collapsed": false
   },
   "outputs": [
    {
     "name": "stdout",
     "output_type": "stream",
     "text": [
      "rm: remove regular file `downsample1.sh'? ^C"
     ]
    }
   ],
   "source": [
    "! rm -i downsample{1..9}*"
   ]
  },
  {
   "cell_type": "code",
   "execution_count": 38,
   "metadata": {
    "collapsed": false
   },
   "outputs": [
    {
     "name": "stdout",
     "output_type": "stream",
     "text": [
      "^C"
     ]
    }
   ],
   "source": [
    "! ls -1 downsample* | grep -E downsample\\d | head"
   ]
  },
  {
   "cell_type": "code",
   "execution_count": 35,
   "metadata": {
    "collapsed": false,
    "scrolled": false
   },
   "outputs": [
    {
     "name": "stdout",
     "output_type": "stream",
     "text": [
      "-rw------- 1 obotvinnik yeo-group  44 Feb 12 16:01 downsample4.sh.err-15\r\n",
      "-rw------- 1 obotvinnik yeo-group  44 Feb 12 16:02 downsample4.sh.err-16\r\n",
      "-rw------- 1 obotvinnik yeo-group  45 Feb 12 16:02 downsample4.sh.err-19\r\n",
      "-rw------- 1 obotvinnik yeo-group  45 Feb 12 16:49 downsample4.sh.err-18\r\n",
      "-rw------- 1 obotvinnik yeo-group  46 Feb 12 16:52 downsample4.sh.err-17\r\n",
      "-rw------- 1 obotvinnik yeo-group  46 Feb 12 16:54 downsample4.sh.err-35\r\n",
      "-rw------- 1 obotvinnik yeo-group  45 Feb 12 17:16 downsample4.sh.err-497\r\n",
      "-rw------- 1 obotvinnik yeo-group  44 Feb 12 17:17 downsample4.sh.err-499\r\n",
      "-rw------- 1 obotvinnik yeo-group  44 Feb 12 17:18 downsample4.sh.err-498\r\n",
      "-rw------- 1 obotvinnik yeo-group  44 Feb 12 17:18 downsample4.sh.err-495\r\n",
      "-rw------- 1 obotvinnik yeo-group  43 Feb 12 17:20 downsample4.sh.err-500\r\n",
      "-rw------- 1 obotvinnik yeo-group  45 Feb 12 17:21 downsample4.sh.err-496\r\n",
      "-rw------- 1 obotvinnik yeo-group  45 Feb 12 17:24 downsample4.sh.err-482\r\n",
      "-rw------- 1 obotvinnik yeo-group  44 Feb 12 17:24 downsample4.sh.err-483\r\n",
      "-rw------- 1 obotvinnik yeo-group  45 Feb 12 17:24 downsample4.sh.err-487\r\n",
      "-rw------- 1 obotvinnik yeo-group  45 Feb 12 17:24 downsample4.sh.err-477\r\n",
      "-rw------- 1 obotvinnik yeo-group  45 Feb 12 17:25 downsample4.sh.err-484\r\n",
      "-rw------- 1 obotvinnik yeo-group  45 Feb 12 17:25 downsample4.sh.err-488\r\n",
      "-rw------- 1 obotvinnik yeo-group  45 Feb 12 17:26 downsample4.sh.err-480\r\n",
      "-rw------- 1 obotvinnik yeo-group  45 Feb 12 17:26 downsample4.sh.err-475\r\n",
      "-rw------- 1 obotvinnik yeo-group  44 Feb 12 17:26 downsample4.sh.err-486\r\n",
      "-rw------- 1 obotvinnik yeo-group  44 Feb 12 17:27 downsample4.sh.err-478\r\n",
      "-rw------- 1 obotvinnik yeo-group  45 Feb 12 17:27 downsample4.sh.err-479\r\n",
      "-rw------- 1 obotvinnik yeo-group  44 Feb 12 17:27 downsample4.sh.err-485\r\n",
      "-rw------- 1 obotvinnik yeo-group  44 Feb 12 17:28 downsample4.sh.err-489\r\n",
      "-rw------- 1 obotvinnik yeo-group  45 Feb 12 17:29 downsample4.sh.err-476\r\n",
      "-rw------- 1 obotvinnik yeo-group  44 Feb 12 17:29 downsample4.sh.err-493\r\n",
      "-rw------- 1 obotvinnik yeo-group  45 Feb 12 17:29 downsample4.sh.err-481\r\n",
      "-rw------- 1 obotvinnik yeo-group  45 Feb 12 17:30 downsample4.sh.err-455\r\n",
      "-rw------- 1 obotvinnik yeo-group  45 Feb 12 17:30 downsample4.sh.err-459\r\n",
      "-rw------- 1 obotvinnik yeo-group  44 Feb 12 17:31 downsample4.sh.err-490\r\n",
      "-rw------- 1 obotvinnik yeo-group  43 Feb 12 17:31 downsample4.sh.err-460\r\n",
      "-rw------- 1 obotvinnik yeo-group  45 Feb 12 17:31 downsample4.sh.err-494\r\n",
      "-rw------- 1 obotvinnik yeo-group  45 Feb 12 17:31 downsample4.sh.err-471\r\n",
      "-rw------- 1 obotvinnik yeo-group  45 Feb 12 17:31 downsample4.sh.err-491\r\n",
      "-rw------- 1 obotvinnik yeo-group  45 Feb 12 17:31 downsample4.sh.err-467\r\n",
      "-rw------- 1 obotvinnik yeo-group  44 Feb 12 17:32 downsample4.sh.err-472\r\n",
      "-rw------- 1 obotvinnik yeo-group  44 Feb 12 17:32 downsample4.sh.err-461\r\n",
      "-rw------- 1 obotvinnik yeo-group  45 Feb 12 17:32 downsample4.sh.err-492\r\n",
      "-rw------- 1 obotvinnik yeo-group  44 Feb 12 17:32 downsample4.sh.err-464\r\n",
      "-rw------- 1 obotvinnik yeo-group  44 Feb 12 17:32 downsample4.sh.err-456\r\n",
      "-rw------- 1 obotvinnik yeo-group  44 Feb 12 17:33 downsample4.sh.err-473\r\n",
      "-rw------- 1 obotvinnik yeo-group  45 Feb 12 17:33 downsample4.sh.err-457\r\n",
      "-rw------- 1 obotvinnik yeo-group  45 Feb 12 17:33 downsample4.sh.err-463\r\n",
      "-rw------- 1 obotvinnik yeo-group  43 Feb 12 17:33 downsample4.sh.err-436\r\n",
      "-rw------- 1 obotvinnik yeo-group  45 Feb 12 17:33 downsample4.sh.err-468\r\n",
      "-rw------- 1 obotvinnik yeo-group  44 Feb 12 17:34 downsample4.sh.err-466\r\n",
      "-rw------- 1 obotvinnik yeo-group  43 Feb 12 17:34 downsample4.sh.err-462\r\n",
      "-rw------- 1 obotvinnik yeo-group  44 Feb 12 17:35 downsample4.sh.err-469\r\n",
      "-rw------- 1 obotvinnik yeo-group  45 Feb 12 17:35 downsample4.sh.err-437\r\n",
      "-rw------- 1 obotvinnik yeo-group  43 Feb 12 17:35 downsample4.sh.err-474\r\n",
      "-rw------- 1 obotvinnik yeo-group  45 Feb 12 17:36 downsample4.sh.err-465\r\n",
      "-rw------- 1 obotvinnik yeo-group  45 Feb 12 17:36 downsample4.sh.err-458\r\n",
      "-rw------- 1 obotvinnik yeo-group  45 Feb 12 17:37 downsample4.sh.err-470\r\n",
      "-rw------- 1 obotvinnik yeo-group  45 Feb 12 17:39 downsample4.sh.err-438\r\n",
      "-rw------- 1 obotvinnik yeo-group  45 Feb 12 17:41 downsample4.sh.err-435\r\n",
      "-rw------- 1 obotvinnik yeo-group  45 Feb 12 17:41 downsample4.sh.err-449\r\n",
      "-rw------- 1 obotvinnik yeo-group  45 Feb 12 17:42 downsample4.sh.err-415\r\n",
      "-rw------- 1 obotvinnik yeo-group  45 Feb 12 17:42 downsample4.sh.err-451\r\n",
      "-rw------- 1 obotvinnik yeo-group  45 Feb 12 17:42 downsample4.sh.err-444\r\n",
      "-rw------- 1 obotvinnik yeo-group  45 Feb 12 17:42 downsample4.sh.err-440\r\n",
      "-rw------- 1 obotvinnik yeo-group  44 Feb 12 17:42 downsample4.sh.err-416\r\n",
      "-rw------- 1 obotvinnik yeo-group  44 Feb 12 17:43 downsample4.sh.err-419\r\n",
      "-rw------- 1 obotvinnik yeo-group  45 Feb 12 17:43 downsample4.sh.err-439\r\n",
      "-rw------- 1 obotvinnik yeo-group 126 Feb 12 17:43 downsample4.sh.err-423\r\n",
      "-rw------- 1 obotvinnik yeo-group  45 Feb 12 17:43 downsample4.sh.err-450\r\n",
      "-rw------- 1 obotvinnik yeo-group  44 Feb 12 17:43 downsample4.sh.err-441\r\n",
      "-rw------- 1 obotvinnik yeo-group  44 Feb 12 17:43 downsample4.sh.err-417\r\n",
      "-rw------- 1 obotvinnik yeo-group  45 Feb 12 17:44 downsample4.sh.err-420\r\n",
      "-rw------- 1 obotvinnik yeo-group  45 Feb 12 17:44 downsample4.sh.err-447\r\n",
      "-rw------- 1 obotvinnik yeo-group  44 Feb 12 17:44 downsample4.sh.err-442\r\n",
      "-rw------- 1 obotvinnik yeo-group  45 Feb 12 17:45 downsample4.sh.err-453\r\n",
      "-rw------- 1 obotvinnik yeo-group  44 Feb 12 17:45 downsample4.sh.err-421\r\n",
      "-rw------- 1 obotvinnik yeo-group  43 Feb 12 17:45 downsample4.sh.err-445\r\n",
      "-rw------- 1 obotvinnik yeo-group  45 Feb 12 17:45 downsample4.sh.err-448\r\n",
      "-rw------- 1 obotvinnik yeo-group  44 Feb 12 17:45 downsample4.sh.err-452\r\n",
      "-rw------- 1 obotvinnik yeo-group  45 Feb 12 17:46 downsample4.sh.err-422\r\n",
      "-rw------- 1 obotvinnik yeo-group  43 Feb 12 17:46 downsample4.sh.err-418\r\n",
      "-rw------- 1 obotvinnik yeo-group  45 Feb 12 17:47 downsample4.sh.err-426\r\n",
      "-rw------- 1 obotvinnik yeo-group  45 Feb 12 17:48 downsample4.sh.err-454\r\n",
      "-rw------- 1 obotvinnik yeo-group  45 Feb 12 17:48 downsample4.sh.err-427\r\n",
      "-rw------- 1 obotvinnik yeo-group  43 Feb 12 17:48 downsample4.sh.err-443\r\n",
      "-rw------- 1 obotvinnik yeo-group  44 Feb 12 17:48 downsample4.sh.err-446\r\n",
      "-rw------- 1 obotvinnik yeo-group  45 Feb 12 17:49 downsample4.sh.err-434\r\n",
      "-rw------- 1 obotvinnik yeo-group  45 Feb 12 17:49 downsample4.sh.err-428\r\n",
      "-rw------- 1 obotvinnik yeo-group  45 Feb 12 17:49 downsample4.sh.err-397\r\n",
      "-rw------- 1 obotvinnik yeo-group  45 Feb 12 17:49 downsample4.sh.err-431\r\n",
      "-rw------- 1 obotvinnik yeo-group  45 Feb 12 17:50 downsample4.sh.err-429\r\n",
      "-rw------- 1 obotvinnik yeo-group  45 Feb 12 17:50 downsample4.sh.err-399\r\n",
      "-rw------- 1 obotvinnik yeo-group  44 Feb 12 17:50 downsample4.sh.err-407\r\n",
      "-rw------- 1 obotvinnik yeo-group  45 Feb 12 17:50 downsample4.sh.err-425\r\n",
      "-rw------- 1 obotvinnik yeo-group  45 Feb 12 17:51 downsample4.sh.err-432\r\n",
      "-rw------- 1 obotvinnik yeo-group  45 Feb 12 17:51 downsample4.sh.err-424\r\n",
      "-rw------- 1 obotvinnik yeo-group  44 Feb 12 17:51 downsample4.sh.err-433\r\n",
      "-rw------- 1 obotvinnik yeo-group  45 Feb 12 17:51 downsample4.sh.err-401\r\n",
      "-rw------- 1 obotvinnik yeo-group 126 Feb 12 17:51 downsample4.sh.err-408\r\n",
      "-rw------- 1 obotvinnik yeo-group  45 Feb 12 17:51 downsample4.sh.err-398\r\n",
      "-rw------- 1 obotvinnik yeo-group  45 Feb 12 17:52 downsample4.sh.err-402\r\n",
      "-rw------- 1 obotvinnik yeo-group  45 Feb 12 17:52 downsample4.sh.err-404\r\n",
      "-rw------- 1 obotvinnik yeo-group  45 Feb 12 17:52 downsample4.sh.err-395\r\n",
      "-rw------- 1 obotvinnik yeo-group  45 Feb 12 17:53 downsample4.sh.err-409\r\n",
      "-rw------- 1 obotvinnik yeo-group  45 Feb 12 17:53 downsample4.sh.err-411\r\n",
      "-rw------- 1 obotvinnik yeo-group  45 Feb 12 17:53 downsample4.sh.err-430\r\n",
      "-rw------- 1 obotvinnik yeo-group  45 Feb 12 17:54 downsample4.sh.err-405\r\n",
      "-rw------- 1 obotvinnik yeo-group  44 Feb 12 17:54 downsample4.sh.err-400\r\n",
      "-rw------- 1 obotvinnik yeo-group  45 Feb 12 17:54 downsample4.sh.err-412\r\n",
      "-rw------- 1 obotvinnik yeo-group  45 Feb 12 17:55 downsample4.sh.err-375\r\n",
      "-rw------- 1 obotvinnik yeo-group  45 Feb 12 17:55 downsample4.sh.err-410\r\n",
      "-rw------- 1 obotvinnik yeo-group  44 Feb 12 17:55 downsample4.sh.err-403\r\n",
      "-rw------- 1 obotvinnik yeo-group  44 Feb 12 17:55 downsample4.sh.err-396\r\n",
      "-rw------- 1 obotvinnik yeo-group  45 Feb 12 17:56 downsample4.sh.err-380\r\n",
      "-rw------- 1 obotvinnik yeo-group  45 Feb 12 17:56 downsample4.sh.err-376\r\n",
      "-rw------- 1 obotvinnik yeo-group  45 Feb 12 17:56 downsample4.sh.err-406\r\n",
      "-rw------- 1 obotvinnik yeo-group  45 Feb 12 17:57 downsample4.sh.err-377\r\n",
      "-rw------- 1 obotvinnik yeo-group  45 Feb 12 17:57 downsample4.sh.err-383\r\n",
      "-rw------- 1 obotvinnik yeo-group  45 Feb 12 17:57 downsample4.sh.err-387\r\n",
      "-rw------- 1 obotvinnik yeo-group  45 Feb 12 17:58 downsample4.sh.err-379\r\n",
      "-rw------- 1 obotvinnik yeo-group  44 Feb 12 17:58 downsample4.sh.err-388\r\n",
      "-rw------- 1 obotvinnik yeo-group  45 Feb 12 17:58 downsample4.sh.err-382\r\n",
      "-rw------- 1 obotvinnik yeo-group  44 Feb 12 17:58 downsample4.sh.err-356\r\n",
      "-rw------- 1 obotvinnik yeo-group  44 Feb 12 17:58 downsample4.sh.err-381\r\n",
      "-rw------- 1 obotvinnik yeo-group  45 Feb 12 17:59 downsample4.sh.err-413\r\n",
      "-rw------- 1 obotvinnik yeo-group  45 Feb 12 17:59 downsample4.sh.err-414\r\n",
      "-rw------- 1 obotvinnik yeo-group  45 Feb 12 17:59 downsample4.sh.err-391\r\n",
      "-rw------- 1 obotvinnik yeo-group  44 Feb 12 17:59 downsample4.sh.err-389\r\n",
      "-rw------- 1 obotvinnik yeo-group  44 Feb 12 17:59 downsample4.sh.err-357\r\n",
      "-rw------- 1 obotvinnik yeo-group  45 Feb 12 18:00 downsample4.sh.err-392\r\n",
      "-rw------- 1 obotvinnik yeo-group  45 Feb 12 18:00 downsample4.sh.err-393\r\n",
      "-rw------- 1 obotvinnik yeo-group  45 Feb 12 18:00 downsample4.sh.err-385\r\n",
      "-rw------- 1 obotvinnik yeo-group  44 Feb 12 18:01 downsample4.sh.err-378\r\n",
      "-rw------- 1 obotvinnik yeo-group  45 Feb 12 18:01 downsample4.sh.err-359\r\n",
      "-rw------- 1 obotvinnik yeo-group  45 Feb 12 18:01 downsample4.sh.err-360\r\n",
      "-rw------- 1 obotvinnik yeo-group  45 Feb 12 18:02 downsample4.sh.err-355\r\n",
      "-rw------- 1 obotvinnik yeo-group  44 Feb 12 18:02 downsample4.sh.err-390\r\n",
      "-rw------- 1 obotvinnik yeo-group  45 Feb 12 18:02 downsample4.sh.err-361\r\n",
      "-rw------- 1 obotvinnik yeo-group  45 Feb 12 18:03 downsample4.sh.err-384\r\n",
      "-rw------- 1 obotvinnik yeo-group  45 Feb 12 18:03 downsample4.sh.err-358\r\n",
      "-rw------- 1 obotvinnik yeo-group  45 Feb 12 18:03 downsample4.sh.err-364\r\n",
      "-rw------- 1 obotvinnik yeo-group  45 Feb 12 18:03 downsample4.sh.err-369\r\n",
      "-rw------- 1 obotvinnik yeo-group  45 Feb 12 18:03 downsample4.sh.err-386\r\n",
      "-rw------- 1 obotvinnik yeo-group  44 Feb 12 18:04 downsample4.sh.err-367\r\n",
      "-rw------- 1 obotvinnik yeo-group  45 Feb 12 18:04 downsample4.sh.err-365\r\n",
      "-rw------- 1 obotvinnik yeo-group  45 Feb 12 18:04 downsample4.sh.err-394\r\n",
      "-rw------- 1 obotvinnik yeo-group  45 Feb 12 18:05 downsample4.sh.err-368\r\n",
      "-rw------- 1 obotvinnik yeo-group  45 Feb 12 18:05 downsample4.sh.err-336\r\n",
      "-rw------- 1 obotvinnik yeo-group  45 Feb 12 18:05 downsample4.sh.err-371\r\n",
      "-rw------- 1 obotvinnik yeo-group  45 Feb 12 18:05 downsample4.sh.err-370\r\n",
      "-rw------- 1 obotvinnik yeo-group  44 Feb 12 18:06 downsample4.sh.err-337\r\n",
      "-rw------- 1 obotvinnik yeo-group  44 Feb 12 18:06 downsample4.sh.err-345\r\n",
      "-rw------- 1 obotvinnik yeo-group  45 Feb 12 18:06 downsample4.sh.err-372\r\n",
      "-rw------- 1 obotvinnik yeo-group  45 Feb 12 18:07 downsample4.sh.err-362\r\n",
      "-rw------- 1 obotvinnik yeo-group  45 Feb 12 18:07 downsample4.sh.err-363\r\n",
      "-rw------- 1 obotvinnik yeo-group  45 Feb 12 18:07 downsample4.sh.err-338\r\n",
      "-rw------- 1 obotvinnik yeo-group  43 Feb 12 18:07 downsample4.sh.err-346\r\n",
      "-rw------- 1 obotvinnik yeo-group  45 Feb 12 18:07 downsample4.sh.err-340\r\n",
      "-rw------- 1 obotvinnik yeo-group  45 Feb 12 18:08 downsample4.sh.err-366\r\n",
      "-rw------- 1 obotvinnik yeo-group  45 Feb 12 18:08 downsample4.sh.err-343\r\n",
      "-rw------- 1 obotvinnik yeo-group  45 Feb 12 18:08 downsample4.sh.err-335\r\n",
      "-rw------- 1 obotvinnik yeo-group  45 Feb 12 18:09 downsample4.sh.err-341\r\n",
      "-rw------- 1 obotvinnik yeo-group  45 Feb 12 18:09 downsample4.sh.err-347\r\n",
      "-rw------- 1 obotvinnik yeo-group  43 Feb 12 18:09 downsample4.sh.err-339\r\n",
      "-rw------- 1 obotvinnik yeo-group  45 Feb 12 18:10 downsample4.sh.err-349\r\n",
      "-rw------- 1 obotvinnik yeo-group  45 Feb 12 18:10 downsample4.sh.err-344\r\n",
      "-rw------- 1 obotvinnik yeo-group  44 Feb 12 18:10 downsample4.sh.err-373\r\n",
      "-rw------- 1 obotvinnik yeo-group  45 Feb 12 18:10 downsample4.sh.err-317\r\n",
      "-rw------- 1 obotvinnik yeo-group  45 Feb 12 18:11 downsample4.sh.err-350\r\n",
      "-rw------- 1 obotvinnik yeo-group  45 Feb 12 18:11 downsample4.sh.err-348\r\n",
      "-rw------- 1 obotvinnik yeo-group  44 Feb 12 18:11 downsample4.sh.err-315\r\n",
      "-rw------- 1 obotvinnik yeo-group  44 Feb 12 18:12 downsample4.sh.err-352\r\n",
      "-rw------- 1 obotvinnik yeo-group  45 Feb 12 18:12 downsample4.sh.err-374\r\n",
      "-rw------- 1 obotvinnik yeo-group  45 Feb 12 18:12 downsample4.sh.err-319\r\n",
      "-rw------- 1 obotvinnik yeo-group  44 Feb 12 18:13 downsample4.sh.err-318\r\n",
      "-rw------- 1 obotvinnik yeo-group  45 Feb 12 18:13 downsample4.sh.err-342\r\n",
      "-rw------- 1 obotvinnik yeo-group  44 Feb 12 18:13 downsample4.sh.err-316\r\n",
      "-rw------- 1 obotvinnik yeo-group  45 Feb 12 18:13 downsample4.sh.err-320\r\n",
      "-rw------- 1 obotvinnik yeo-group  45 Feb 12 18:14 downsample4.sh.err-323\r\n",
      "-rw------- 1 obotvinnik yeo-group  44 Feb 12 18:14 downsample4.sh.err-333\r\n",
      "-rw------- 1 obotvinnik yeo-group  45 Feb 12 18:14 downsample4.sh.err-324\r\n",
      "-rw------- 1 obotvinnik yeo-group  44 Feb 12 18:15 downsample4.sh.err-327\r\n",
      "-rw------- 1 obotvinnik yeo-group  45 Feb 12 18:15 downsample4.sh.err-353\r\n",
      "-rw------- 1 obotvinnik yeo-group  45 Feb 12 18:15 downsample4.sh.err-351\r\n",
      "-rw------- 1 obotvinnik yeo-group  44 Feb 12 18:15 downsample4.sh.err-334\r\n",
      "-rw------- 1 obotvinnik yeo-group  45 Feb 12 18:16 downsample4.sh.err-354\r\n",
      "-rw------- 1 obotvinnik yeo-group  45 Feb 12 18:16 downsample4.sh.err-325\r\n",
      "-rw------- 1 obotvinnik yeo-group  44 Feb 12 18:16 downsample4.sh.err-328\r\n",
      "-rw------- 1 obotvinnik yeo-group  45 Feb 12 18:16 downsample4.sh.err-300\r\n",
      "-rw------- 1 obotvinnik yeo-group  45 Feb 12 18:16 downsample4.sh.err-330\r\n",
      "-rw------- 1 obotvinnik yeo-group  45 Feb 12 18:17 downsample4.sh.err-295\r\n",
      "-rw------- 1 obotvinnik yeo-group  45 Feb 12 18:17 downsample4.sh.err-321\r\n",
      "-rw------- 1 obotvinnik yeo-group  44 Feb 12 18:17 downsample4.sh.err-329\r\n",
      "-rw------- 1 obotvinnik yeo-group  45 Feb 12 18:17 downsample4.sh.err-297\r\n",
      "-rw------- 1 obotvinnik yeo-group  44 Feb 12 18:17 downsample4.sh.err-326\r\n",
      "-rw------- 1 obotvinnik yeo-group  45 Feb 12 18:18 downsample4.sh.err-331\r\n",
      "-rw------- 1 obotvinnik yeo-group  45 Feb 12 18:18 downsample4.sh.err-299\r\n",
      "-rw------- 1 obotvinnik yeo-group  44 Feb 12 18:18 downsample4.sh.err-302\r\n",
      "-rw------- 1 obotvinnik yeo-group  44 Feb 12 18:18 downsample4.sh.err-301\r\n",
      "-rw------- 1 obotvinnik yeo-group  44 Feb 12 18:19 downsample4.sh.err-296\r\n",
      "-rw------- 1 obotvinnik yeo-group  43 Feb 12 18:19 downsample4.sh.err-308\r\n",
      "-rw------- 1 obotvinnik yeo-group  45 Feb 12 18:19 downsample4.sh.err-305\r\n",
      "-rw------- 1 obotvinnik yeo-group  45 Feb 12 18:20 downsample4.sh.err-322\r\n",
      "-rw------- 1 obotvinnik yeo-group  45 Feb 12 18:20 downsample4.sh.err-309\r\n",
      "-rw------- 1 obotvinnik yeo-group  44 Feb 12 18:21 downsample4.sh.err-332\r\n",
      "-rw------- 1 obotvinnik yeo-group  45 Feb 12 18:21 downsample4.sh.err-306\r\n",
      "-rw------- 1 obotvinnik yeo-group  44 Feb 12 18:22 downsample4.sh.err-310\r\n",
      "-rw------- 1 obotvinnik yeo-group  45 Feb 12 18:22 downsample4.sh.err-303\r\n",
      "-rw------- 1 obotvinnik yeo-group  44 Feb 12 18:22 downsample4.sh.err-280\r\n",
      "-rw------- 1 obotvinnik yeo-group  45 Feb 12 18:23 downsample4.sh.err-314\r\n",
      "-rw------- 1 obotvinnik yeo-group  43 Feb 12 18:23 downsample4.sh.err-304\r\n",
      "-rw------- 1 obotvinnik yeo-group  44 Feb 12 18:23 downsample4.sh.err-311\r\n",
      "-rw------- 1 obotvinnik yeo-group  43 Feb 12 18:23 downsample4.sh.err-281\r\n",
      "-rw------- 1 obotvinnik yeo-group  45 Feb 12 18:24 downsample4.sh.err-275\r\n",
      "-rw------- 1 obotvinnik yeo-group  43 Feb 12 18:24 downsample4.sh.err-284\r\n",
      "-rw------- 1 obotvinnik yeo-group  45 Feb 12 18:24 downsample4.sh.err-283\r\n",
      "-rw------- 1 obotvinnik yeo-group  45 Feb 12 18:24 downsample4.sh.err-279\r\n",
      "-rw------- 1 obotvinnik yeo-group  45 Feb 12 18:25 downsample4.sh.err-312\r\n",
      "-rw------- 1 obotvinnik yeo-group  44 Feb 12 18:25 downsample4.sh.err-285\r\n",
      "-rw------- 1 obotvinnik yeo-group  44 Feb 12 18:25 downsample4.sh.err-276\r\n",
      "-rw------- 1 obotvinnik yeo-group  44 Feb 12 18:25 downsample4.sh.err-277\r\n",
      "-rw------- 1 obotvinnik yeo-group  44 Feb 12 18:26 downsample4.sh.err-286\r\n",
      "-rw------- 1 obotvinnik yeo-group  44 Feb 12 18:26 downsample4.sh.err-282\r\n",
      "-rw------- 1 obotvinnik yeo-group  45 Feb 12 18:28 downsample4.sh.err-290\r\n",
      "-rw------- 1 obotvinnik yeo-group  45 Feb 12 18:28 downsample4.sh.err-289\r\n",
      "-rw------- 1 obotvinnik yeo-group  44 Feb 12 18:29 downsample4.sh.err-291\r\n",
      "-rw------- 1 obotvinnik yeo-group  45 Feb 12 18:30 downsample4.sh.err-292\r\n",
      "-rw------- 1 obotvinnik yeo-group  45 Feb 12 18:30 downsample4.sh.err-313\r\n",
      "-rw------- 1 obotvinnik yeo-group  44 Feb 12 18:31 downsample4.sh.err-293\r\n",
      "-rw------- 1 obotvinnik yeo-group  45 Feb 12 18:32 downsample4.sh.err-257\r\n",
      "-rw------- 1 obotvinnik yeo-group  44 Feb 12 18:32 downsample4.sh.err-294\r\n",
      "-rw------- 1 obotvinnik yeo-group  45 Feb 12 18:32 downsample4.sh.err-288\r\n",
      "-rw------- 1 obotvinnik yeo-group  45 Feb 12 18:33 downsample4.sh.err-259\r\n",
      "-rw------- 1 obotvinnik yeo-group  44 Feb 12 18:33 downsample4.sh.err-261\r\n",
      "-rw------- 1 obotvinnik yeo-group  45 Feb 12 18:34 downsample4.sh.err-258\r\n",
      "-rw------- 1 obotvinnik yeo-group  45 Feb 12 18:34 downsample4.sh.err-256\r\n",
      "-rw------- 1 obotvinnik yeo-group  45 Feb 12 18:34 downsample4.sh.err-263\r\n",
      "-rw------- 1 obotvinnik yeo-group  44 Feb 12 18:36 downsample4.sh.err-262\r\n",
      "-rw------- 1 obotvinnik yeo-group  45 Feb 12 18:36 downsample4.sh.err-260\r\n",
      "-rw------- 1 obotvinnik yeo-group  44 Feb 12 18:37 downsample4.sh.err-264\r\n",
      "-rw------- 1 obotvinnik yeo-group  44 Feb 12 18:38 downsample4.sh.err-267\r\n",
      "-rw------- 1 obotvinnik yeo-group  45 Feb 12 18:39 downsample4.sh.err-266\r\n",
      "-rw------- 1 obotvinnik yeo-group  45 Feb 12 18:40 downsample4.sh.err-268\r\n",
      "-rw------- 1 obotvinnik yeo-group  45 Feb 12 18:42 downsample4.sh.err-269\r\n",
      "-rw------- 1 obotvinnik yeo-group  45 Feb 12 18:43 downsample4.sh.err-271\r\n",
      "-rw------- 1 obotvinnik yeo-group  45 Feb 12 18:44 downsample4.sh.err-270\r\n",
      "-rw------- 1 obotvinnik yeo-group  44 Feb 12 18:45 downsample4.sh.err-272\r\n",
      "-rw------- 1 obotvinnik yeo-group  44 Feb 12 18:46 downsample4.sh.err-273\r\n",
      "-rw------- 1 obotvinnik yeo-group  44 Feb 12 18:47 downsample4.sh.err-235\r\n",
      "-rw------- 1 obotvinnik yeo-group  45 Feb 12 18:48 downsample4.sh.err-236\r\n",
      "-rw------- 1 obotvinnik yeo-group  44 Feb 12 18:50 downsample4.sh.err-274\r\n",
      "-rw------- 1 obotvinnik yeo-group  44 Feb 12 18:51 downsample4.sh.err-237\r\n",
      "-rw------- 1 obotvinnik yeo-group  44 Feb 12 18:52 downsample4.sh.err-239\r\n",
      "-rw------- 1 obotvinnik yeo-group  45 Feb 12 18:53 downsample4.sh.err-240\r\n",
      "-rw------- 1 obotvinnik yeo-group  44 Feb 12 18:54 downsample4.sh.err-238\r\n",
      "-rw------- 1 obotvinnik yeo-group  44 Feb 12 18:55 downsample4.sh.err-241\r\n",
      "-rw------- 1 obotvinnik yeo-group  44 Feb 12 18:56 downsample4.sh.err-243\r\n",
      "-rw------- 1 obotvinnik yeo-group  45 Feb 12 18:57 downsample4.sh.err-244\r\n",
      "-rw------- 1 obotvinnik yeo-group  44 Feb 12 18:59 downsample4.sh.err-242\r\n",
      "-rw------- 1 obotvinnik yeo-group  44 Feb 12 19:00 downsample4.sh.err-245\r\n",
      "-rw------- 1 obotvinnik yeo-group  44 Feb 12 19:01 downsample4.sh.err-247\r\n",
      "-rw------- 1 obotvinnik yeo-group  45 Feb 12 19:02 downsample4.sh.err-248\r\n",
      "-rw------- 1 obotvinnik yeo-group  44 Feb 12 19:03 downsample4.sh.err-246\r\n",
      "-rw------- 1 obotvinnik yeo-group  45 Feb 12 19:04 downsample4.sh.err-249\r\n",
      "-rw------- 1 obotvinnik yeo-group  44 Feb 12 19:06 downsample4.sh.err-251\r\n",
      "-rw------- 1 obotvinnik yeo-group  45 Feb 12 19:06 downsample4.sh.err-250\r\n",
      "-rw------- 1 obotvinnik yeo-group  44 Feb 12 19:08 downsample4.sh.err-252\r\n",
      "-rw------- 1 obotvinnik yeo-group  44 Feb 12 19:09 downsample4.sh.err-253\r\n",
      "-rw------- 1 obotvinnik yeo-group  43 Feb 12 19:10 downsample4.sh.err-215\r\n",
      "-rw------- 1 obotvinnik yeo-group  45 Feb 12 19:11 downsample4.sh.err-254\r\n",
      "-rw------- 1 obotvinnik yeo-group  44 Feb 12 19:13 downsample4.sh.err-216\r\n",
      "-rw------- 1 obotvinnik yeo-group  44 Feb 12 19:14 downsample4.sh.err-217\r\n",
      "-rw------- 1 obotvinnik yeo-group  44 Feb 12 19:15 downsample4.sh.err-219\r\n",
      "-rw------- 1 obotvinnik yeo-group  45 Feb 12 19:16 downsample4.sh.err-220\r\n",
      "-rw------- 1 obotvinnik yeo-group  43 Feb 12 19:17 downsample4.sh.err-218\r\n",
      "-rw------- 1 obotvinnik yeo-group  45 Feb 12 19:17 downsample4.sh.err-307\r\n",
      "-rw------- 1 obotvinnik yeo-group  43 Feb 12 19:18 downsample4.sh.err-221\r\n",
      "-rw------- 1 obotvinnik yeo-group  44 Feb 12 19:19 downsample4.sh.err-223\r\n",
      "-rw------- 1 obotvinnik yeo-group  46 Feb 12 19:19 downsample4.sh.err-287\r\n",
      "-rw------- 1 obotvinnik yeo-group  44 Feb 12 19:20 downsample4.sh.err-228\r\n",
      "-rw------- 1 obotvinnik yeo-group  45 Feb 12 19:20 downsample4.sh.err-298\r\n",
      "-rw------- 1 obotvinnik yeo-group  45 Feb 12 19:20 downsample4.sh.err-222\r\n",
      "-rw------- 1 obotvinnik yeo-group  45 Feb 12 19:21 downsample4.sh.err-234\r\n",
      "-rw------- 1 obotvinnik yeo-group  47 Feb 12 19:21 downsample4.sh.err-278\r\n",
      "-rw------- 1 obotvinnik yeo-group  45 Feb 12 19:21 downsample4.sh.err-225\r\n",
      "-rw------- 1 obotvinnik yeo-group  43 Feb 12 19:21 downsample4.sh.err-224\r\n",
      "-rw------- 1 obotvinnik yeo-group  45 Feb 12 19:21 downsample4.sh.err-195\r\n",
      "-rw------- 1 obotvinnik yeo-group  45 Feb 12 19:22 downsample4.sh.err-226\r\n",
      "-rw------- 1 obotvinnik yeo-group  45 Feb 12 19:22 downsample4.sh.err-232\r\n",
      "-rw------- 1 obotvinnik yeo-group  45 Feb 12 19:22 downsample4.sh.err-229\r\n",
      "-rw------- 1 obotvinnik yeo-group  44 Feb 12 19:23 downsample4.sh.err-230\r\n",
      "-rw------- 1 obotvinnik yeo-group  45 Feb 12 19:23 downsample4.sh.err-196\r\n",
      "-rw------- 1 obotvinnik yeo-group  45 Feb 12 19:23 downsample4.sh.err-231\r\n",
      "-rw------- 1 obotvinnik yeo-group  44 Feb 12 19:24 downsample4.sh.err-200\r\n",
      "-rw------- 1 obotvinnik yeo-group  45 Feb 12 19:24 downsample4.sh.err-201\r\n",
      "-rw------- 1 obotvinnik yeo-group  45 Feb 12 19:25 downsample4.sh.err-197\r\n",
      "-rw------- 1 obotvinnik yeo-group  43 Feb 12 19:26 downsample4.sh.err-202\r\n",
      "-rw------- 1 obotvinnik yeo-group  43 Feb 12 19:27 downsample4.sh.err-203\r\n",
      "-rw------- 1 obotvinnik yeo-group  44 Feb 12 19:28 downsample4.sh.err-204\r\n",
      "-rw------- 1 obotvinnik yeo-group  45 Feb 12 19:29 downsample4.sh.err-205\r\n",
      "-rw------- 1 obotvinnik yeo-group  47 Feb 12 19:29 downsample4.sh.err-265\r\n",
      "-rw------- 1 obotvinnik yeo-group  43 Feb 12 19:30 downsample4.sh.err-206\r\n",
      "-rw------- 1 obotvinnik yeo-group  45 Feb 12 19:31 downsample4.sh.err-210\r\n",
      "-rw------- 1 obotvinnik yeo-group  44 Feb 12 19:31 downsample4.sh.err-207\r\n",
      "-rw------- 1 obotvinnik yeo-group  46 Feb 12 19:32 downsample4.sh.err-255\r\n",
      "-rw------- 1 obotvinnik yeo-group  45 Feb 12 19:32 downsample4.sh.err-211\r\n",
      "-rw------- 1 obotvinnik yeo-group  44 Feb 12 19:32 downsample4.sh.err-175\r\n",
      "-rw------- 1 obotvinnik yeo-group  45 Feb 12 19:33 downsample4.sh.err-208\r\n",
      "-rw------- 1 obotvinnik yeo-group  45 Feb 12 19:33 downsample4.sh.err-176\r\n",
      "-rw------- 1 obotvinnik yeo-group  45 Feb 12 19:33 downsample4.sh.err-212\r\n",
      "-rw------- 1 obotvinnik yeo-group  44 Feb 12 19:35 downsample4.sh.err-214\r\n",
      "-rw------- 1 obotvinnik yeo-group  44 Feb 12 19:36 downsample4.sh.err-213\r\n",
      "-rw------- 1 obotvinnik yeo-group  43 Feb 12 19:36 downsample4.sh.err-177\r\n",
      "-rw------- 1 obotvinnik yeo-group  44 Feb 12 19:37 downsample4.sh.err-179\r\n",
      "-rw------- 1 obotvinnik yeo-group  45 Feb 12 19:38 downsample4.sh.err-180\r\n",
      "-rw------- 1 obotvinnik yeo-group  44 Feb 12 19:39 downsample4.sh.err-181\r\n",
      "-rw------- 1 obotvinnik yeo-group  45 Feb 12 19:40 downsample4.sh.err-182\r\n",
      "-rw------- 1 obotvinnik yeo-group  45 Feb 12 19:42 downsample4.sh.err-183\r\n",
      "-rw------- 1 obotvinnik yeo-group  45 Feb 12 19:43 downsample4.sh.err-184\r\n",
      "-rw------- 1 obotvinnik yeo-group  45 Feb 12 19:44 downsample4.sh.err-185\r\n",
      "-rw------- 1 obotvinnik yeo-group  44 Feb 12 19:45 downsample4.sh.err-187\r\n",
      "-rw------- 1 obotvinnik yeo-group  44 Feb 12 19:46 downsample4.sh.err-188\r\n",
      "-rw------- 1 obotvinnik yeo-group  44 Feb 12 19:47 downsample4.sh.err-186\r\n",
      "-rw------- 1 obotvinnik yeo-group  44 Feb 12 19:49 downsample4.sh.err-189\r\n",
      "-rw------- 1 obotvinnik yeo-group  44 Feb 12 19:50 downsample4.sh.err-191\r\n",
      "-rw------- 1 obotvinnik yeo-group  45 Feb 12 19:50 downsample4.sh.err-190\r\n",
      "-rw------- 1 obotvinnik yeo-group  43 Feb 12 19:52 downsample4.sh.err-192\r\n",
      "-rw------- 1 obotvinnik yeo-group  44 Feb 12 19:53 downsample4.sh.err-193\r\n",
      "-rw------- 1 obotvinnik yeo-group  44 Feb 12 19:54 downsample4.sh.err-155\r\n",
      "-rw------- 1 obotvinnik yeo-group  45 Feb 12 19:55 downsample4.sh.err-156\r\n",
      "-rw------- 1 obotvinnik yeo-group  43 Feb 12 19:56 downsample4.sh.err-194\r\n",
      "-rw------- 1 obotvinnik yeo-group  44 Feb 12 19:57 downsample4.sh.err-157\r\n",
      "-rw------- 1 obotvinnik yeo-group  44 Feb 12 19:58 downsample4.sh.err-159\r\n",
      "-rw------- 1 obotvinnik yeo-group  45 Feb 12 19:59 downsample4.sh.err-160\r\n",
      "-rw------- 1 obotvinnik yeo-group  44 Feb 12 20:00 downsample4.sh.err-158\r\n",
      "-rw------- 1 obotvinnik yeo-group  45 Feb 12 20:05 downsample4.sh.err-161\r\n",
      "-rw------- 1 obotvinnik yeo-group  45 Feb 12 20:06 downsample4.sh.err-163\r\n",
      "-rw------- 1 obotvinnik yeo-group  44 Feb 12 20:07 downsample4.sh.err-164\r\n",
      "-rw------- 1 obotvinnik yeo-group  44 Feb 12 20:11 downsample4.sh.err-162\r\n",
      "-rw------- 1 obotvinnik yeo-group  45 Feb 12 20:13 downsample4.sh.err-165\r\n",
      "-rw------- 1 obotvinnik yeo-group  47 Feb 12 20:13 downsample4.sh.err-227\r\n",
      "-rw------- 1 obotvinnik yeo-group  46 Feb 12 20:14 downsample4.sh.err-198\r\n",
      "-rw------- 1 obotvinnik yeo-group  45 Feb 12 20:14 downsample4.sh.err-167\r\n",
      "-rw------- 1 obotvinnik yeo-group  45 Feb 12 20:16 downsample4.sh.err-199\r\n",
      "-rw------- 1 obotvinnik yeo-group  46 Feb 12 20:19 downsample4.sh.err-233\r\n",
      "-rw------- 1 obotvinnik yeo-group  43 Feb 12 20:24 downsample4.sh.err-138\r\n",
      "-rw------- 1 obotvinnik yeo-group  47 Feb 12 20:24 downsample4.sh.err-209\r\n",
      "-rw------- 1 obotvinnik yeo-group  46 Feb 12 20:25 downsample4.sh.err-166\r\n",
      "-rw------- 1 obotvinnik yeo-group  44 Feb 12 20:25 downsample4.sh.err-168\r\n",
      "-rw------- 1 obotvinnik yeo-group  44 Feb 12 20:25 downsample4.sh.err-139\r\n",
      "-rw------- 1 obotvinnik yeo-group  45 Feb 12 20:25 downsample4.sh.err-135\r\n",
      "-rw------- 1 obotvinnik yeo-group  46 Feb 12 20:25 downsample4.sh.err-178\r\n",
      "-rw------- 1 obotvinnik yeo-group  45 Feb 12 20:25 downsample4.sh.err-172\r\n",
      "-rw------- 1 obotvinnik yeo-group  43 Feb 12 20:26 downsample4.sh.err-171\r\n",
      "-rw------- 1 obotvinnik yeo-group  44 Feb 12 20:26 downsample4.sh.err-136\r\n",
      "-rw------- 1 obotvinnik yeo-group  45 Feb 12 20:26 downsample4.sh.err-140\r\n",
      "-rw------- 1 obotvinnik yeo-group  45 Feb 12 20:26 downsample4.sh.err-143\r\n",
      "-rw------- 1 obotvinnik yeo-group  45 Feb 12 20:27 downsample4.sh.err-173\r\n",
      "-rw------- 1 obotvinnik yeo-group  44 Feb 12 20:27 downsample4.sh.err-142\r\n",
      "-rw------- 1 obotvinnik yeo-group  45 Feb 12 20:29 downsample4.sh.err-141\r\n",
      "-rw------- 1 obotvinnik yeo-group  46 Feb 12 20:36 downsample4.sh.err-174\r\n",
      "-rw------- 1 obotvinnik yeo-group  46 Feb 12 20:37 downsample4.sh.err-169\r\n",
      "-rw------- 1 obotvinnik yeo-group  45 Feb 12 20:37 downsample4.sh.err-148\r\n",
      "-rw------- 1 obotvinnik yeo-group  44 Feb 12 20:37 downsample4.sh.err-154\r\n",
      "-rw------- 1 obotvinnik yeo-group  45 Feb 12 20:37 downsample4.sh.err-144\r\n",
      "-rw------- 1 obotvinnik yeo-group  43 Feb 12 20:38 downsample4.sh.err-149\r\n",
      "-rw------- 1 obotvinnik yeo-group  44 Feb 12 20:38 downsample4.sh.err-115\r\n",
      "-rw------- 1 obotvinnik yeo-group  44 Feb 12 20:38 downsample4.sh.err-120\r\n",
      "-rw------- 1 obotvinnik yeo-group  45 Feb 12 20:38 downsample4.sh.err-151\r\n",
      "-rw------- 1 obotvinnik yeo-group  45 Feb 12 20:38 downsample4.sh.err-116\r\n",
      "-rw------- 1 obotvinnik yeo-group  47 Feb 12 20:38 downsample4.sh.err-137\r\n",
      "-rw------- 1 obotvinnik yeo-group  44 Feb 12 20:39 downsample4.sh.err-147\r\n",
      "-rw------- 1 obotvinnik yeo-group  45 Feb 12 20:39 downsample4.sh.err-123\r\n",
      "-rw------- 1 obotvinnik yeo-group  45 Feb 12 20:39 downsample4.sh.err-170\r\n",
      "-rw------- 1 obotvinnik yeo-group  45 Feb 12 20:40 downsample4.sh.err-122\r\n",
      "-rw------- 1 obotvinnik yeo-group  45 Feb 12 20:40 downsample4.sh.err-117\r\n",
      "-rw------- 1 obotvinnik yeo-group  45 Feb 12 20:41 downsample4.sh.err-121\r\n",
      "-rw------- 1 obotvinnik yeo-group  46 Feb 12 20:49 downsample4.sh.err-124\r\n",
      "-rw------- 1 obotvinnik yeo-group  45 Feb 12 20:50 downsample4.sh.err-127\r\n",
      "-rw------- 1 obotvinnik yeo-group  45 Feb 12 20:51 downsample4.sh.err-126\r\n",
      "-rw------- 1 obotvinnik yeo-group  46 Feb 12 20:54 downsample4.sh.err-150\r\n",
      "-rw------- 1 obotvinnik yeo-group  45 Feb 12 21:02 downsample4.sh.err-125\r\n",
      "-rw------- 1 obotvinnik yeo-group  45 Feb 12 21:03 downsample4.sh.err-128\r\n",
      "-rw------- 1 obotvinnik yeo-group  45 Feb 12 21:04 downsample4.sh.err-129\r\n",
      "-rw------- 1 obotvinnik yeo-group  45 Feb 12 21:11 downsample4.sh.err-130\r\n",
      "-rw------- 1 obotvinnik yeo-group  45 Feb 12 21:12 downsample4.sh.err-131\r\n",
      "-rw------- 1 obotvinnik yeo-group  45 Feb 12 21:14 downsample4.sh.err-132\r\n",
      "-rw------- 1 obotvinnik yeo-group  46 Feb 12 21:23 downsample4.sh.err-133\r\n",
      "-rw------- 1 obotvinnik yeo-group  45 Feb 12 21:24 downsample4.sh.err-95\r\n",
      "-rw------- 1 obotvinnik yeo-group  45 Feb 12 21:25 downsample4.sh.err-134\r\n",
      "-rw------- 1 obotvinnik yeo-group  47 Feb 12 21:29 downsample4.sh.err-119\r\n",
      "-rw------- 1 obotvinnik yeo-group  47 Feb 12 21:29 downsample4.sh.err-118\r\n",
      "-rw------- 1 obotvinnik yeo-group  46 Feb 12 21:29 downsample4.sh.err-152\r\n",
      "-rw------- 1 obotvinnik yeo-group  46 Feb 12 21:29 downsample4.sh.err-153\r\n",
      "-rw------- 1 obotvinnik yeo-group  45 Feb 12 21:41 downsample4.sh.err-96\r\n",
      "-rw------- 1 obotvinnik yeo-group  44 Feb 12 21:42 downsample4.sh.err-97\r\n",
      "-rw------- 1 obotvinnik yeo-group  44 Feb 12 21:42 downsample4.sh.err-103\r\n",
      "-rw------- 1 obotvinnik yeo-group  45 Feb 12 21:42 downsample4.sh.err-101\r\n",
      "-rw------- 1 obotvinnik yeo-group  46 Feb 12 21:42 downsample4.sh.err-146\r\n",
      "-rw------- 1 obotvinnik yeo-group  45 Feb 12 21:43 downsample4.sh.err-145\r\n",
      "-rw------- 1 obotvinnik yeo-group  44 Feb 12 21:43 downsample4.sh.err-98\r\n",
      "-rw------- 1 obotvinnik yeo-group  45 Feb 12 21:43 downsample4.sh.err-104\r\n",
      "-rw------- 1 obotvinnik yeo-group  45 Feb 12 21:47 downsample4.sh.err-102\r\n",
      "-rw------- 1 obotvinnik yeo-group  43 Feb 12 21:52 downsample4.sh.err-110\r\n",
      "-rw------- 1 obotvinnik yeo-group  45 Feb 12 21:52 downsample4.sh.err-99\r\n",
      "-rw------- 1 obotvinnik yeo-group  45 Feb 12 21:53 downsample4.sh.err-77\r\n",
      "-rw------- 1 obotvinnik yeo-group  44 Feb 12 21:53 downsample4.sh.err-111\r\n",
      "-rw------- 1 obotvinnik yeo-group  46 Feb 12 21:53 downsample4.sh.err-105\r\n",
      "-rw------- 1 obotvinnik yeo-group  45 Feb 12 21:53 downsample4.sh.err-78\r\n",
      "-rw------- 1 obotvinnik yeo-group  45 Feb 12 21:53 downsample4.sh.err-107\r\n",
      "-rw------- 1 obotvinnik yeo-group  43 Feb 12 21:54 downsample4.sh.err-83\r\n",
      "-rw------- 1 obotvinnik yeo-group  45 Feb 12 21:54 downsample4.sh.err-112\r\n",
      "-rw------- 1 obotvinnik yeo-group  44 Feb 12 21:54 downsample4.sh.err-75\r\n",
      "-rw------- 1 obotvinnik yeo-group  47 Feb 12 21:54 downsample4.sh.err-100\r\n",
      "-rw------- 1 obotvinnik yeo-group  44 Feb 12 21:54 downsample4.sh.err-79\r\n",
      "-rw------- 1 obotvinnik yeo-group  44 Feb 12 21:55 downsample4.sh.err-108\r\n",
      "-rw------- 1 obotvinnik yeo-group  44 Feb 12 21:56 downsample4.sh.err-84\r\n",
      "-rw------- 1 obotvinnik yeo-group 126 Feb 12 22:00 downsample4.sh.err-94\r\n",
      "-rw------- 1 obotvinnik yeo-group 126 Feb 12 22:00 downsample4.sh.err-93\r\n",
      "-rw------- 1 obotvinnik yeo-group  45 Feb 12 22:00 downsample4.sh.err-81\r\n",
      "-rw------- 1 obotvinnik yeo-group  44 Feb 12 22:01 downsample4.sh.err-85\r\n",
      "-rw------- 1 obotvinnik yeo-group 126 Feb 12 22:01 downsample4.sh.err-58\r\n",
      "-rw------- 1 obotvinnik yeo-group 126 Feb 12 22:01 downsample4.sh.err-59\r\n",
      "-rw------- 1 obotvinnik yeo-group 126 Feb 12 22:01 downsample4.sh.err-60\r\n",
      "-rw------- 1 obotvinnik yeo-group 126 Feb 12 22:02 downsample4.sh.err-61\r\n",
      "-rw------- 1 obotvinnik yeo-group  43 Feb 12 22:02 downsample4.sh.err-88\r\n",
      "-rw------- 1 obotvinnik yeo-group 126 Feb 12 22:02 downsample4.sh.err-55\r\n",
      "-rw------- 1 obotvinnik yeo-group 126 Feb 12 22:02 downsample4.sh.err-57\r\n",
      "-rw------- 1 obotvinnik yeo-group 126 Feb 12 22:02 downsample4.sh.err-56\r\n",
      "-rw------- 1 obotvinnik yeo-group  44 Feb 12 22:02 downsample4.sh.err-91\r\n",
      "-rw------- 1 obotvinnik yeo-group  45 Feb 12 22:02 downsample4.sh.err-82\r\n",
      "-rw------- 1 obotvinnik yeo-group  45 Feb 12 22:03 downsample4.sh.err-90\r\n",
      "-rw------- 1 obotvinnik yeo-group  44 Feb 12 22:04 downsample4.sh.err-89\r\n",
      "-rw------- 1 obotvinnik yeo-group  46 Feb 12 22:11 downsample4.sh.err-92\r\n",
      "-rw------- 1 obotvinnik yeo-group  46 Feb 12 22:12 downsample4.sh.err-113\r\n",
      "-rw------- 1 obotvinnik yeo-group  45 Feb 12 22:13 downsample4.sh.err-63\r\n",
      "-rw------- 1 obotvinnik yeo-group  44 Feb 12 22:14 downsample4.sh.err-62\r\n",
      "-rw------- 1 obotvinnik yeo-group  46 Feb 12 22:21 downsample4.sh.err-64\r\n",
      "-rw------- 1 obotvinnik yeo-group  45 Feb 12 22:22 downsample4.sh.err-65\r\n",
      "-rw------- 1 obotvinnik yeo-group  44 Feb 12 22:24 downsample4.sh.err-67\r\n",
      "-rw------- 1 obotvinnik yeo-group  45 Feb 12 22:28 downsample4.sh.err-66\r\n",
      "-rw------- 1 obotvinnik yeo-group  45 Feb 12 22:30 downsample4.sh.err-68\r\n",
      "-rw------- 1 obotvinnik yeo-group  44 Feb 12 22:31 downsample4.sh.err-69\r\n",
      "-rw------- 1 obotvinnik yeo-group  45 Feb 12 22:36 downsample4.sh.err-70\r\n",
      "-rw------- 1 obotvinnik yeo-group  45 Feb 12 22:38 downsample4.sh.err-71\r\n",
      "-rw------- 1 obotvinnik yeo-group  44 Feb 12 22:39 downsample4.sh.err-72\r\n",
      "-rw------- 1 obotvinnik yeo-group  45 Feb 12 22:41 downsample4.sh.err-73\r\n",
      "-rw------- 1 obotvinnik yeo-group  45 Feb 12 22:43 downsample4.sh.err-36\r\n",
      "-rw------- 1 obotvinnik yeo-group  47 Feb 12 22:44 downsample4.sh.err-76\r\n",
      "-rw------- 1 obotvinnik yeo-group  44 Feb 12 22:44 downsample4.sh.err-74\r\n",
      "-rw------- 1 obotvinnik yeo-group  45 Feb 12 22:49 downsample4.sh.err-37\r\n",
      "-rw------- 1 obotvinnik yeo-group  45 Feb 12 22:51 downsample4.sh.err-38\r\n",
      "-rw------- 1 obotvinnik yeo-group  46 Feb 12 22:51 downsample4.sh.err-114\r\n",
      "-rw------- 1 obotvinnik yeo-group  45 Feb 12 22:52 downsample4.sh.err-87\r\n",
      "-rw------- 1 obotvinnik yeo-group  44 Feb 12 22:52 downsample4.sh.err-39\r\n",
      "-rw------- 1 obotvinnik yeo-group  46 Feb 12 22:52 downsample4.sh.err-109\r\n",
      "-rw------- 1 obotvinnik yeo-group  46 Feb 12 22:52 downsample4.sh.err-86\r\n",
      "-rw------- 1 obotvinnik yeo-group  45 Feb 12 22:57 downsample4.sh.err-80\r\n",
      "-rw------- 1 obotvinnik yeo-group  44 Feb 12 22:57 downsample4.sh.err-50\r\n",
      "-rw------- 1 obotvinnik yeo-group  46 Feb 12 22:58 downsample4.sh.err-106\r\n",
      "-rw------- 1 obotvinnik yeo-group  44 Feb 12 22:58 downsample4.sh.err-41\r\n",
      "-rw------- 1 obotvinnik yeo-group  45 Feb 12 22:58 downsample4.sh.err-51\r\n",
      "-rw------- 1 obotvinnik yeo-group  44 Feb 12 22:58 downsample4.sh.err-45\r\n",
      "-rw------- 1 obotvinnik yeo-group  45 Feb 12 22:59 downsample4.sh.err-24\r\n",
      "-rw------- 1 obotvinnik yeo-group  43 Feb 12 22:59 downsample4.sh.err-43\r\n",
      "-rw------- 1 obotvinnik yeo-group  45 Feb 12 22:59 downsample4.sh.err-52\r\n",
      "-rw------- 1 obotvinnik yeo-group  45 Feb 12 22:59 downsample4.sh.err-40\r\n",
      "-rw------- 1 obotvinnik yeo-group  44 Feb 12 22:59 downsample4.sh.err-54\r\n",
      "-rw------- 1 obotvinnik yeo-group  44 Feb 12 23:00 downsample4.sh.err-47\r\n",
      "-rw------- 1 obotvinnik yeo-group  45 Feb 12 23:00 downsample4.sh.err-23\r\n",
      "-rw------- 1 obotvinnik yeo-group  45 Feb 12 23:01 downsample4.sh.err-46\r\n",
      "-rw------- 1 obotvinnik yeo-group 126 Feb 12 23:06 downsample4.sh.err-33\r\n",
      "-rw------- 1 obotvinnik yeo-group 126 Feb 12 23:06 downsample4.sh.err-34\r\n",
      "-rw------- 1 obotvinnik yeo-group  45 Feb 12 23:06 downsample4.sh.err-42\r\n",
      "-rw------- 1 obotvinnik yeo-group  44 Feb 12 23:07 downsample4.sh.err-25\r\n",
      "-rw------- 1 obotvinnik yeo-group 126 Feb 12 23:07 downsample4.sh.err-1\r\n",
      "-rw------- 1 obotvinnik yeo-group  45 Feb 12 23:07 downsample4.sh.err-28\r\n",
      "-rw------- 1 obotvinnik yeo-group  46 Feb 12 23:08 downsample4.sh.err-22\r\n",
      "-rw------- 1 obotvinnik yeo-group  45 Feb 12 23:08 downsample4.sh.err-30\r\n",
      "-rw------- 1 obotvinnik yeo-group  45 Feb 12 23:08 downsample4.sh.err-21\r\n",
      "-rw------- 1 obotvinnik yeo-group  46 Feb 12 23:09 downsample4.sh.err-44\r\n",
      "-rw------- 1 obotvinnik yeo-group  45 Feb 12 23:09 downsample4.sh.err-31\r\n",
      "-rw------- 1 obotvinnik yeo-group  45 Feb 12 23:10 downsample4.sh.err-29\r\n",
      "-rw------- 1 obotvinnik yeo-group  45 Feb 12 23:11 downsample4.sh.err-32\r\n",
      "-rw------- 1 obotvinnik yeo-group  45 Feb 12 23:12 downsample4.sh.err-3\r\n",
      "-rw------- 1 obotvinnik yeo-group  45 Feb 12 23:14 downsample4.sh.err-4\r\n",
      "-rw------- 1 obotvinnik yeo-group  45 Feb 12 23:18 downsample4.sh.err-2\r\n",
      "-rw------- 1 obotvinnik yeo-group  45 Feb 12 23:20 downsample4.sh.err-5\r\n",
      "-rw------- 1 obotvinnik yeo-group  45 Feb 12 23:21 downsample4.sh.err-7\r\n",
      "-rw------- 1 obotvinnik yeo-group  46 Feb 12 23:32 downsample4.sh.err-6\r\n",
      "-rw------- 1 obotvinnik yeo-group  45 Feb 12 23:33 downsample4.sh.err-8\r\n",
      "-rw------- 1 obotvinnik yeo-group  45 Feb 12 23:35 downsample4.sh.err-9\r\n",
      "-rw------- 1 obotvinnik yeo-group  46 Feb 12 23:41 downsample4.sh.err-10\r\n",
      "-rw------- 1 obotvinnik yeo-group  45 Feb 12 23:43 downsample4.sh.err-11\r\n",
      "-rw------- 1 obotvinnik yeo-group  45 Feb 12 23:44 downsample4.sh.err-12\r\n",
      "-rw------- 1 obotvinnik yeo-group  45 Feb 12 23:47 downsample4.sh.err-20\r\n",
      "-rw------- 1 obotvinnik yeo-group  44 Feb 12 23:52 downsample4.sh.err-13\r\n",
      "-rw------- 1 obotvinnik yeo-group  46 Feb 12 23:54 downsample4.sh.err-49\r\n",
      "-rw------- 1 obotvinnik yeo-group  46 Feb 12 23:57 downsample4.sh.err-27\r\n",
      "-rw------- 1 obotvinnik yeo-group  46 Feb 12 23:57 downsample4.sh.err-26\r\n",
      "-rw------- 1 obotvinnik yeo-group  46 Feb 13 00:01 downsample4.sh.err-48\r\n",
      "-rw------- 1 obotvinnik yeo-group  45 Feb 13 00:08 downsample4.sh.err-53\r\n",
      "-rw------- 1 obotvinnik yeo-group  47 Feb 13 00:09 downsample4.sh.err-14\r\n",
      "-rw------- 1 obotvinnik yeo-group  44 Mar 18 13:54 downsample45.sh.err-14\r\n",
      "-rw------- 1 obotvinnik yeo-group  44 Mar 18 13:54 downsample45.sh.err-13\r\n",
      "-rw------- 1 obotvinnik yeo-group  44 Mar 18 13:54 downsample45.sh.err-15\r\n",
      "-rw------- 1 obotvinnik yeo-group  44 Mar 18 13:54 downsample45.sh.err-16\r\n",
      "-rw------- 1 obotvinnik yeo-group  43 Mar 18 13:54 downsample45.sh.err-8\r\n",
      "-rw------- 1 obotvinnik yeo-group  44 Mar 18 13:54 downsample45.sh.err-18\r\n",
      "-rw------- 1 obotvinnik yeo-group  43 Mar 18 13:54 downsample45.sh.err-17\r\n",
      "-rw------- 1 obotvinnik yeo-group  45 Mar 18 13:55 downsample45.sh.err-9\r\n",
      "-rw------- 1 obotvinnik yeo-group  44 Mar 18 13:55 downsample45.sh.err-21\r\n",
      "-rw------- 1 obotvinnik yeo-group  43 Mar 18 13:55 downsample45.sh.err-22\r\n",
      "-rw------- 1 obotvinnik yeo-group  44 Mar 18 13:55 downsample45.sh.err-24\r\n",
      "-rw------- 1 obotvinnik yeo-group  44 Mar 18 13:55 downsample45.sh.err-19\r\n",
      "-rw------- 1 obotvinnik yeo-group  45 Mar 18 13:55 downsample45.sh.err-23\r\n",
      "-rw------- 1 obotvinnik yeo-group  44 Mar 18 13:56 downsample45.sh.err-29\r\n",
      "-rw------- 1 obotvinnik yeo-group  45 Mar 18 13:56 downsample45.sh.err-25\r\n",
      "-rw------- 1 obotvinnik yeo-group  43 Mar 18 13:56 downsample45.sh.err-30\r\n",
      "-rw------- 1 obotvinnik yeo-group  45 Mar 18 13:57 downsample45.sh.err-7\r\n",
      "-rw------- 1 obotvinnik yeo-group  44 Mar 18 13:57 downsample45.sh.err-20\r\n",
      "-rw------- 1 obotvinnik yeo-group  44 Mar 18 13:57 downsample45.sh.err-32\r\n",
      "-rw------- 1 obotvinnik yeo-group  45 Mar 18 13:58 downsample45.sh.err-10\r\n",
      "-rw------- 1 obotvinnik yeo-group  44 Mar 18 13:58 downsample45.sh.err-26\r\n",
      "-rw------- 1 obotvinnik yeo-group  45 Mar 18 13:58 downsample45.sh.err-41\r\n",
      "-rw------- 1 obotvinnik yeo-group  45 Mar 18 13:58 downsample45.sh.err-33\r\n",
      "-rw------- 1 obotvinnik yeo-group  45 Mar 18 13:59 downsample45.sh.err-43\r\n",
      "-rw------- 1 obotvinnik yeo-group  45 Mar 18 13:59 downsample45.sh.err-42\r\n",
      "-rw------- 1 obotvinnik yeo-group  44 Mar 18 13:59 downsample45.sh.err-31\r\n",
      "-rw------- 1 obotvinnik yeo-group  45 Mar 18 14:00 downsample45.sh.err-44\r\n",
      "-rw------- 1 obotvinnik yeo-group  45 Mar 18 14:00 downsample45.sh.err-45\r\n",
      "-rw------- 1 obotvinnik yeo-group  44 Mar 18 14:00 downsample45.sh.err-61\r\n",
      "-rw------- 1 obotvinnik yeo-group  45 Mar 18 14:00 downsample45.sh.err-64\r\n",
      "-rw------- 1 obotvinnik yeo-group  45 Mar 18 14:01 downsample45.sh.err-34\r\n",
      "-rw------- 1 obotvinnik yeo-group  45 Mar 18 14:01 downsample45.sh.err-81\r\n",
      "-rw------- 1 obotvinnik yeo-group  45 Mar 18 14:01 downsample45.sh.err-83\r\n",
      "-rw------- 1 obotvinnik yeo-group  45 Mar 18 14:02 downsample45.sh.err-35\r\n",
      "-rw------- 1 obotvinnik yeo-group  44 Mar 18 14:03 downsample45.sh.err-84\r\n",
      "-rw------- 1 obotvinnik yeo-group  45 Mar 18 14:03 downsample45.sh.err-36\r\n",
      "-rw------- 1 obotvinnik yeo-group  45 Mar 18 14:04 downsample45.sh.err-62\r\n",
      "-rw------- 1 obotvinnik yeo-group  44 Mar 18 14:05 downsample45.sh.err-63\r\n",
      "-rw------- 1 obotvinnik yeo-group  44 Mar 18 14:06 downsample45.sh.err-65\r\n",
      "-rw------- 1 obotvinnik yeo-group  44 Mar 18 14:07 downsample45.sh.err-82\r\n",
      "-rw------- 1 obotvinnik yeo-group  45 Mar 18 14:08 downsample45.sh.err-85\r\n",
      "-rw------- 1 obotvinnik yeo-group  53 Mar 18 14:08 downsample45.sh.err-5\r\n",
      "-rw------- 1 obotvinnik yeo-group  53 Mar 18 14:08 downsample45.sh.err-4\r\n",
      "-rw------- 1 obotvinnik yeo-group  53 Mar 18 14:08 downsample45.sh.err-1\r\n",
      "-rw------- 1 obotvinnik yeo-group 118 Mar 18 14:08 downsample45.sh.err-6\r\n",
      "-rw------- 1 obotvinnik yeo-group 135 Mar 18 14:08 downsample45.sh.err-3\r\n",
      "-rw------- 1 obotvinnik yeo-group 118 Mar 18 14:08 downsample45.sh.err-2\r\n",
      "-rw------- 1 obotvinnik yeo-group  53 Mar 18 14:08 downsample45.sh.err-12\r\n",
      "-rw------- 1 obotvinnik yeo-group  53 Mar 18 14:08 downsample45.sh.err-11\r\n",
      "-rw------- 1 obotvinnik yeo-group  53 Mar 18 14:09 downsample45.sh.err-28\r\n",
      "-rw------- 1 obotvinnik yeo-group  53 Mar 18 14:09 downsample45.sh.err-27\r\n",
      "-rw------- 1 obotvinnik yeo-group  45 Mar 18 18:27 downsample45.sh.err-87\r\n",
      "-rw------- 1 obotvinnik yeo-group  44 Mar 18 18:28 downsample45.sh.err-86\r\n",
      "-rw------- 1 obotvinnik yeo-group  45 Mar 18 18:29 downsample45.sh.err-89\r\n",
      "-rw------- 1 obotvinnik yeo-group  44 Mar 18 18:29 downsample45.sh.err-92\r\n",
      "-rw------- 1 obotvinnik yeo-group  43 Mar 18 18:29 downsample45.sh.err-93\r\n",
      "-rw------- 1 obotvinnik yeo-group  44 Mar 18 18:29 downsample45.sh.err-94\r\n",
      "-rw------- 1 obotvinnik yeo-group  45 Mar 18 18:30 downsample45.sh.err-88\r\n",
      "-rw------- 1 obotvinnik yeo-group  45 Mar 18 18:30 downsample45.sh.err-91\r\n",
      "-rw------- 1 obotvinnik yeo-group  45 Mar 18 18:30 downsample45.sh.err-95\r\n",
      "-rw------- 1 obotvinnik yeo-group  45 Mar 18 18:31 downsample45.sh.err-90\r\n",
      "-rw------- 1 obotvinnik yeo-group  44 Mar 18 18:32 downsample45.sh.err-66\r\n",
      "-rw------- 1 obotvinnik yeo-group  43 Mar 18 18:33 downsample45.sh.err-67\r\n",
      "-rw------- 1 obotvinnik yeo-group  44 Mar 18 18:33 downsample45.sh.err-68\r\n",
      "-rw------- 1 obotvinnik yeo-group  43 Mar 18 18:33 downsample45.sh.err-70\r\n",
      "-rw------- 1 obotvinnik yeo-group  45 Mar 18 18:34 downsample45.sh.err-69\r\n",
      "-rw------- 1 obotvinnik yeo-group  45 Mar 18 18:34 downsample45.sh.err-72\r\n",
      "-rw------- 1 obotvinnik yeo-group  45 Mar 18 18:34 downsample45.sh.err-73\r\n",
      "-rw------- 1 obotvinnik yeo-group  44 Mar 18 18:35 downsample45.sh.err-77\r\n",
      "-rw------- 1 obotvinnik yeo-group  44 Mar 18 18:35 downsample45.sh.err-78\r\n",
      "-rw------- 1 obotvinnik yeo-group  45 Mar 18 18:35 downsample45.sh.err-74\r\n",
      "-rw------- 1 obotvinnik yeo-group  44 Mar 18 18:35 downsample45.sh.err-71\r\n",
      "-rw------- 1 obotvinnik yeo-group  43 Mar 18 18:35 downsample45.sh.err-79\r\n",
      "-rw------- 1 obotvinnik yeo-group  44 Mar 18 18:36 downsample45.sh.err-46\r\n",
      "-rw------- 1 obotvinnik yeo-group  45 Mar 18 18:36 downsample45.sh.err-75\r\n",
      "-rw------- 1 obotvinnik yeo-group  44 Mar 18 18:36 downsample45.sh.err-49\r\n",
      "-rw------- 1 obotvinnik yeo-group  43 Mar 18 18:36 downsample45.sh.err-50\r\n",
      "-rw------- 1 obotvinnik yeo-group  44 Mar 18 18:36 downsample45.sh.err-47\r\n",
      "-rw------- 1 obotvinnik yeo-group  44 Mar 18 18:36 downsample45.sh.err-51\r\n",
      "-rw------- 1 obotvinnik yeo-group  45 Mar 18 18:36 downsample45.sh.err-76\r\n",
      "-rw------- 1 obotvinnik yeo-group  44 Mar 18 18:37 downsample45.sh.err-54\r\n",
      "-rw------- 1 obotvinnik yeo-group  45 Mar 18 18:37 downsample45.sh.err-48\r\n",
      "-rw------- 1 obotvinnik yeo-group  45 Mar 18 18:37 downsample45.sh.err-80\r\n",
      "-rw------- 1 obotvinnik yeo-group  45 Mar 18 18:37 downsample45.sh.err-56\r\n",
      "-rw------- 1 obotvinnik yeo-group  43 Mar 18 18:37 downsample45.sh.err-57\r\n",
      "-rw------- 1 obotvinnik yeo-group  44 Mar 18 18:38 downsample45.sh.err-52\r\n",
      "-rw------- 1 obotvinnik yeo-group  45 Mar 18 18:38 downsample45.sh.err-58\r\n",
      "-rw------- 1 obotvinnik yeo-group  44 Mar 18 18:38 downsample45.sh.err-53\r\n",
      "-rw------- 1 obotvinnik yeo-group  45 Mar 18 18:39 downsample45.sh.err-59\r\n",
      "-rw------- 1 obotvinnik yeo-group  45 Mar 18 18:39 downsample45.sh.err-38\r\n",
      "-rw------- 1 obotvinnik yeo-group  45 Mar 18 18:40 downsample45.sh.err-60\r\n",
      "-rw------- 1 obotvinnik yeo-group  53 Mar 18 18:51 downsample45.sh.err-55\r\n",
      "-rw------- 1 obotvinnik yeo-group  53 Mar 18 18:52 downsample45.sh.err-37\r\n",
      "-rw------- 1 obotvinnik yeo-group  53 Mar 18 18:54 downsample45.sh.err-40\r\n",
      "-rw------- 1 obotvinnik yeo-group  53 Mar 18 18:54 downsample45.sh.err-39\r\n"
     ]
    }
   ],
   "source": [
    "! ls -lhaStr downsample4*err*"
   ]
  },
  {
   "cell_type": "code",
   "execution_count": 33,
   "metadata": {
    "collapsed": false
   },
   "outputs": [
    {
     "name": "stdout",
     "output_type": "stream",
     "text": [
      "-rw------- 1 obotvinnik yeo-group 126 Feb 10 03:33 downsample7.sh.err-440\r\n"
     ]
    }
   ],
   "source": [
    "! ls -lha $err"
   ]
  },
  {
   "cell_type": "code",
   "execution_count": 32,
   "metadata": {
    "collapsed": false
   },
   "outputs": [
    {
     "data": {
      "text/plain": [
       "posix.stat_result(st_mode=33152, st_ino=576460769986666208, st_dev=3068283210, st_nlink=1, st_uid=132047, st_gid=7198, st_size=126, st_atime=1458751680, st_mtime=1455104015, st_ctime=1455104194)"
      ]
     },
     "execution_count": 32,
     "metadata": {},
     "output_type": "execute_result"
    }
   ],
   "source": [
    "os.stat(err)"
   ]
  },
  {
   "cell_type": "code",
   "execution_count": 31,
   "metadata": {
    "collapsed": false
   },
   "outputs": [
    {
     "name": "stdout",
     "output_type": "stream",
     "text": [
      "[E::stk_sample] Could not allocate enough memory for 89000000 sequences. Exiting...\r\n",
      "\r\n",
      "real\t0m0.194s\r\n",
      "user\t0m0.003s\r\n",
      "sys\t0m0.002s\r\n"
     ]
    }
   ],
   "source": [
    "! cat $err"
   ]
  },
  {
   "cell_type": "code",
   "execution_count": 21,
   "metadata": {
    "collapsed": false
   },
   "outputs": [
    {
     "data": {
      "text/plain": [
       "'downsample7.sh.err-440'"
      ]
     },
     "execution_count": 21,
     "metadata": {},
     "output_type": "execute_result"
    }
   ],
   "source": [
    "err"
   ]
  },
  {
   "cell_type": "code",
   "execution_count": 28,
   "metadata": {
    "collapsed": false
   },
   "outputs": [
    {
     "name": "stdout",
     "output_type": "stream",
     "text": [
      "cmd[400]=\"time seqtk sample -s 2020 /home/obotvinnik/projects/singlecell_pnms/data/M6_03_R2.fastq.gz 104000000 | gzip - > /home/obotvinnik/projects/downsample_singlecell/data/M6_03_104000000reads_iteration9_R2.fastq.gz\"\r\n"
     ]
    }
   ],
   "source": [
    "! grep 'cmd\\[400\\]=' $sh"
   ]
  },
  {
   "cell_type": "code",
   "execution_count": null,
   "metadata": {
    "collapsed": false
   },
   "outputs": [],
   "source": [
    "lines = ! grep 334 downsample1.sh\n",
    "line = lines[0]\n",
    "line"
   ]
  },
  {
   "cell_type": "code",
   "execution_count": 9,
   "metadata": {
    "collapsed": false
   },
   "outputs": [
    {
     "data": {
      "text/plain": [
       "['cmd[334]=\"seqtk',\n",
       " 'sample',\n",
       " '-s',\n",
       " '167',\n",
       " '/home/obotvinnik/projects/singlecell_pnms/data/P9_01_R2.fastq.gz',\n",
       " '12000000',\n",
       " '>',\n",
       " '/home/obotvinnik/projects/downsample_singlecell/data/P9_01_R2_12000000reads_iteration3.fastq.gz\"']"
      ]
     },
     "execution_count": 9,
     "metadata": {},
     "output_type": "execute_result"
    }
   ],
   "source": []
  },
  {
   "cell_type": "code",
   "execution_count": null,
   "metadata": {
    "collapsed": false,
    "scrolled": false
   },
   "outputs": [],
   "source": []
  },
  {
   "cell_type": "code",
   "execution_count": 2,
   "metadata": {
    "collapsed": false
   },
   "outputs": [
    {
     "name": "stdout",
     "output_type": "stream",
     "text": [
      "tail: cannot open `downsample*out*' for reading: No such file or directory\r\n"
     ]
    }
   ],
   "source": [
    "!tail downsample*out*"
   ]
  },
  {
   "cell_type": "code",
   "execution_count": 34,
   "metadata": {
    "collapsed": false
   },
   "outputs": [
    {
     "name": "stdout",
     "output_type": "stream",
     "text": [
      "lrwxrwxrwx 1 obotvinnik yeo-group 61 Jan 23 08:01 \u001b[0m\u001b[01;36m/home/obotvinnik/projects/downsample_singlecell/data\u001b[0m -> \u001b[01;34m/home/obotvinnik/scratch/projects/downsample_singlecell/data/\u001b[0m\u001b[K/\r\n",
      "\u001b[m"
     ]
    }
   ],
   "source": [
    "ls -lha $new_folder"
   ]
  },
  {
   "cell_type": "code",
   "execution_count": null,
   "metadata": {
    "collapsed": true
   },
   "outputs": [],
   "source": []
  }
 ],
 "metadata": {
  "kernelspec": {
   "display_name": "Python 2",
   "language": "python",
   "name": "python2"
  },
  "language_info": {
   "codemirror_mode": {
    "name": "ipython",
    "version": 2
   },
   "file_extension": ".py",
   "mimetype": "text/x-python",
   "name": "python",
   "nbconvert_exporter": "python",
   "pygments_lexer": "ipython2",
   "version": "2.7.11"
  }
 },
 "nbformat": 4,
 "nbformat_minor": 0
}
