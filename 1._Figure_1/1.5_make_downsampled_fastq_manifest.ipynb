{
 "cells": [
  {
   "cell_type": "markdown",
   "metadata": {},
   "source": [
    "iPSC: P9_01 and MN: M6_03 are samples that were sequenced to over 100 million reads each. I need to downsample them, in intervals of 5 million reads, maybe 5-10 iterations each. I'll use [`seqtk`](https://github.com/lh3/seqtk) for the downsampling.\n",
    "\n",
    "After I downsample, then I'll need to create a manifest file and submit these data for the analysis pipeline - probably minus everything after mapping."
   ]
  },
  {
   "cell_type": "code",
   "execution_count": 1,
   "metadata": {
    "collapsed": false
   },
   "outputs": [],
   "source": [
    "data_folder = '/home/obotvinnik/projects/downsample_singlecell/data'"
   ]
  },
  {
   "cell_type": "code",
   "execution_count": 2,
   "metadata": {
    "collapsed": false
   },
   "outputs": [
    {
     "name": "stdout",
     "output_type": "stream",
     "text": [
      "/oasis/tscc/scratch/obotvinnik/projects/downsample_singlecell/data\n"
     ]
    }
   ],
   "source": [
    "cd $data_folder"
   ]
  },
  {
   "cell_type": "code",
   "execution_count": 3,
   "metadata": {
    "collapsed": false
   },
   "outputs": [
    {
     "name": "stderr",
     "output_type": "stream",
     "text": [
      "/home/obotvinnik/anaconda/lib/python2.7/site-packages/matplotlib/__init__.py:810: UserWarning: Found matplotlib configuration in ~/.matplotlib/. To conform with the XDG base directory standard, this configuration location has been deprecated on Linux, and the new location is now /home/obotvinnik/.config/matplotlib/. Please move your configuration there to ensure that matplotlib will continue to find it in the future.\n",
      "  _get_xdg_config_dir())\n"
     ]
    },
    {
     "data": {
      "text/html": [
       "<div>\n",
       "<table border=\"1\" class=\"dataframe\">\n",
       "  <thead>\n",
       "    <tr style=\"text-align: right;\">\n",
       "      <th></th>\n",
       "      <th>0</th>\n",
       "      <th>species</th>\n",
       "    </tr>\n",
       "  </thead>\n",
       "  <tbody>\n",
       "    <tr>\n",
       "      <th>0</th>\n",
       "      <td>/home/obotvinnik/projects/downsample_singlecell/data/M6_03_100000000reads_iteration0_R1.fastq.gz;/home/obotvinnik/projects/downsample_singlecell/data/M6_03_100000000reads_iteration0_R2.fastq.gz</td>\n",
       "      <td>hg19</td>\n",
       "    </tr>\n",
       "    <tr>\n",
       "      <th>1</th>\n",
       "      <td>/home/obotvinnik/projects/downsample_singlecell/data/M6_03_100000000reads_iteration1_R1.fastq.gz;/home/obotvinnik/projects/downsample_singlecell/data/M6_03_100000000reads_iteration1_R2.fastq.gz</td>\n",
       "      <td>hg19</td>\n",
       "    </tr>\n",
       "    <tr>\n",
       "      <th>2</th>\n",
       "      <td>/home/obotvinnik/projects/downsample_singlecell/data/M6_03_100000000reads_iteration2_R1.fastq.gz;/home/obotvinnik/projects/downsample_singlecell/data/M6_03_100000000reads_iteration2_R2.fastq.gz</td>\n",
       "      <td>hg19</td>\n",
       "    </tr>\n",
       "    <tr>\n",
       "      <th>3</th>\n",
       "      <td>/home/obotvinnik/projects/downsample_singlecell/data/M6_03_100000000reads_iteration3_R1.fastq.gz;/home/obotvinnik/projects/downsample_singlecell/data/M6_03_100000000reads_iteration3_R2.fastq.gz</td>\n",
       "      <td>hg19</td>\n",
       "    </tr>\n",
       "    <tr>\n",
       "      <th>4</th>\n",
       "      <td>/home/obotvinnik/projects/downsample_singlecell/data/M6_03_100000000reads_iteration4_R1.fastq.gz;/home/obotvinnik/projects/downsample_singlecell/data/M6_03_100000000reads_iteration4_R2.fastq.gz</td>\n",
       "      <td>hg19</td>\n",
       "    </tr>\n",
       "  </tbody>\n",
       "</table>\n",
       "</div>"
      ],
      "text/plain": [
       "                                                                                                                                                                                                   0  \\\n",
       "0  /home/obotvinnik/projects/downsample_singlecell/data/M6_03_100000000reads_iteration0_R1.fastq.gz;/home/obotvinnik/projects/downsample_singlecell/data/M6_03_100000000reads_iteration0_R2.fastq.gz   \n",
       "1  /home/obotvinnik/projects/downsample_singlecell/data/M6_03_100000000reads_iteration1_R1.fastq.gz;/home/obotvinnik/projects/downsample_singlecell/data/M6_03_100000000reads_iteration1_R2.fastq.gz   \n",
       "2  /home/obotvinnik/projects/downsample_singlecell/data/M6_03_100000000reads_iteration2_R1.fastq.gz;/home/obotvinnik/projects/downsample_singlecell/data/M6_03_100000000reads_iteration2_R2.fastq.gz   \n",
       "3  /home/obotvinnik/projects/downsample_singlecell/data/M6_03_100000000reads_iteration3_R1.fastq.gz;/home/obotvinnik/projects/downsample_singlecell/data/M6_03_100000000reads_iteration3_R2.fastq.gz   \n",
       "4  /home/obotvinnik/projects/downsample_singlecell/data/M6_03_100000000reads_iteration4_R1.fastq.gz;/home/obotvinnik/projects/downsample_singlecell/data/M6_03_100000000reads_iteration4_R2.fastq.gz   \n",
       "\n",
       "  species  \n",
       "0    hg19  \n",
       "1    hg19  \n",
       "2    hg19  \n",
       "3    hg19  \n",
       "4    hg19  "
      ]
     },
     "execution_count": 3,
     "metadata": {},
     "output_type": "execute_result"
    }
   ],
   "source": [
    "import glob\n",
    "import pandas as pd\n",
    "pd.options.display.max_colwidth = 500\n",
    "\n",
    "read1s = sorted(glob.iglob('{}/*iteration*R1.fastq.gz'.format(data_folder)))\n",
    "\n",
    "lines = []\n",
    "\n",
    "for read1 in read1s:\n",
    "    read2 = read1.replace('R1', \"R2\")\n",
    "    lines.append(';'.join([read1, read2]))\n",
    "manifest = pd.DataFrame(lines)\n",
    "manifest['species'] = 'hg19'\n",
    "manifest.head()"
   ]
  },
  {
   "cell_type": "code",
   "execution_count": 4,
   "metadata": {
    "collapsed": false
   },
   "outputs": [
    {
     "data": {
      "text/plain": [
       "(2020, 2)"
      ]
     },
     "execution_count": 4,
     "metadata": {},
     "output_type": "execute_result"
    }
   ],
   "source": [
    "manifest.shape"
   ]
  },
  {
   "cell_type": "code",
   "execution_count": 6,
   "metadata": {
    "collapsed": true
   },
   "outputs": [],
   "source": [
    "manifest.to_csv('/home/obotvinnik/projects/downsample_singlecell/scripts/downsample_singlecell_v1.txt', \n",
    "                sep='\\t', header=False, index=False)"
   ]
  },
  {
   "cell_type": "code",
   "execution_count": null,
   "metadata": {
    "collapsed": true
   },
   "outputs": [],
   "source": []
  }
 ],
 "metadata": {
  "kernelspec": {
   "display_name": "Python 2",
   "language": "python",
   "name": "python2"
  },
  "language_info": {
   "codemirror_mode": {
    "name": "ipython",
    "version": 2
   },
   "file_extension": ".py",
   "mimetype": "text/x-python",
   "name": "python",
   "nbconvert_exporter": "python",
   "pygments_lexer": "ipython2",
   "version": "2.7.11"
  }
 },
 "nbformat": 4,
 "nbformat_minor": 0
}
