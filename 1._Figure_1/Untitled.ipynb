{
 "cells": [
  {
   "cell_type": "code",
   "execution_count": 1,
   "metadata": {
    "collapsed": false
   },
   "outputs": [
    {
     "data": {
      "text/plain": [
       "[0, 1, 2]"
      ]
     },
     "execution_count": 1,
     "metadata": {},
     "output_type": "execute_result"
    }
   ],
   "source": [
    "range(3)"
   ]
  },
  {
   "cell_type": "code",
   "execution_count": 2,
   "metadata": {
    "collapsed": false
   },
   "outputs": [
    {
     "name": "stderr",
     "output_type": "stream",
     "text": [
      "/home/obotvinnik/anaconda/lib/python2.7/site-packages/matplotlib/__init__.py:810: UserWarning: Found matplotlib configuration in ~/.matplotlib/. To conform with the XDG base directory standard, this configuration location has been deprecated on Linux, and the new location is now /home/obotvinnik/.config/matplotlib/. Please move your configuration there to ensure that matplotlib will continue to find it in the future.\n",
      "  _get_xdg_config_dir())\n",
      "/home/obotvinnik/anaconda/lib/python2.7/site-packages/flotilla/__init__.py:65: DtypeWarning: Columns (19) have mixed types. Specify dtype option on import or set low_memory=False.\n",
      "  load_species_data=load_species_data)\n"
     ]
    },
    {
     "name": "stdout",
     "output_type": "stream",
     "text": [
      "2016-08-11 16:04:33\tReading datapackage from /projects/ps-yeolab/obotvinnik/flotilla_projects/singlecell_pnm_figure1_supplementary_post_splicing_filtering/datapackage.json\n",
      "2016-08-11 16:04:33\tParsing datapackage to create a Study object\n",
      "2016-08-11 16:05:14 \tInitializing Study\n",
      "2016-08-11 16:05:14 \tInitializing Predictor configuration manager for Study\n",
      "2016-08-11 16:05:14\tPredictor ExtraTreesClassifier is of type <class 'sklearn.ensemble.forest.ExtraTreesClassifier'>\n",
      "2016-08-11 16:05:14\tAdded ExtraTreesClassifier to default predictors\n",
      "2016-08-11 16:05:14\tPredictor ExtraTreesRegressor is of type <class 'sklearn.ensemble.forest.ExtraTreesRegressor'>\n",
      "2016-08-11 16:05:14\tAdded ExtraTreesRegressor to default predictors\n",
      "2016-08-11 16:05:14\tPredictor GradientBoostingClassifier is of type <class 'sklearn.ensemble.gradient_boosting.GradientBoostingClassifier'>\n",
      "2016-08-11 16:05:14\tAdded GradientBoostingClassifier to default predictors\n",
      "2016-08-11 16:05:14\tPredictor GradientBoostingRegressor is of type <class 'sklearn.ensemble.gradient_boosting.GradientBoostingRegressor'>\n",
      "2016-08-11 16:05:14\tAdded GradientBoostingRegressor to default predictors\n",
      "2016-08-11 16:05:17 \tBuilding Gene Ontology database...\n",
      "2016-08-11 16:05:23 \t\tDone\n",
      "2016-08-11 16:05:24 \tLoading metadata\n",
      "2016-08-11 16:05:24\tLoading expression data\n",
      "2016-08-11 16:05:24\tInitializing expression\n",
      "2016-08-11 16:05:24\tDone initializing expression\n",
      "2016-08-11 16:05:26\tLoading splicing data\n",
      "2016-08-11 16:05:26\tInitializing splicing\n",
      "2016-08-11 16:05:26\tDone initializing splicing\n",
      "2016-08-11 16:05:26\tSuccessfully initialized a Study object!\n"
     ]
    }
   ],
   "source": [
    "from collections import defaultdict\n",
    "\n",
    "import matplotlib as mpl\n",
    "import matplotlib.pyplot as plt\n",
    "import numpy as np\n",
    "import pandas as pd\n",
    "import seaborn as sns\n",
    "\n",
    "%matplotlib inline\n",
    "\n",
    "\n",
    "import flotilla\n",
    "sns.set(style='ticks', context='talk')\n",
    "\n",
    "folder = 'figures'\n",
    "\n",
    "flotilla_dir = '/projects/ps-yeolab/obotvinnik/flotilla_projects/'\n",
    "\n",
    "study = flotilla.embark('singlecell_pnm_figure1_supplementary_post_splicing_filtering', flotilla_dir=flotilla_dir)"
   ]
  },
  {
   "cell_type": "code",
   "execution_count": 3,
   "metadata": {
    "collapsed": true
   },
   "outputs": [],
   "source": [
    "from sklearn.manifold import TSNE"
   ]
  },
  {
   "cell_type": "code",
   "execution_count": 4,
   "metadata": {
    "collapsed": false
   },
   "outputs": [
    {
     "data": {
      "image/png": "[encoded data removed]",
      "text/plain": [
       "<matplotlib.figure.Figure at 0x2ae7b859c510>"
      ]
     },
     "metadata": {},
     "output_type": "display_data"
    }
   ],
   "source": [
    "expression_manifolder = TSNE(perplexity=30, learning_rate=100)\n",
    "expression_manifolded = pd.DataFrame(expression_manifolder.fit_transform(study.expression.data), \n",
    "                                     index=study.expression.data.index)\n",
    "\n",
    "fig, ax = plt.subplots(figsize=(3, 2))\n",
    "\n",
    "color = [study.phenotype_to_color[study.sample_id_to_phenotype[x]] for x in expression_manifolded.index]\n",
    "\n",
    "ax.scatter(expression_manifolded[0], expression_manifolded[1], color=color)\n",
    "ax.set(xticks=[], yticks=[])\n",
    "sns.despine(bottom=True, left=True)"
   ]
  },
  {
   "cell_type": "code",
   "execution_count": 5,
   "metadata": {
    "collapsed": true
   },
   "outputs": [],
   "source": [
    "splicing = study.splicing.data\n",
    "splicing_fillna = splicing.fillna(splicing.mean())"
   ]
  },
  {
   "cell_type": "code",
   "execution_count": 6,
   "metadata": {
    "collapsed": false
   },
   "outputs": [
    {
     "data": {
      "image/png": "[encoded data removed]",
      "text/plain": [
       "<matplotlib.figure.Figure at 0x2ae7ccbc1e50>"
      ]
     },
     "metadata": {},
     "output_type": "display_data"
    }
   ],
   "source": [
    "splicing_manifolder = TSNE(learning_rate=500, metric='cityblock', perplexity=5, early_exaggeration=1, \n",
    "                           min_grad_norm=1e-20, init='pca')\n",
    "splicing_manifolded = pd.DataFrame(splicing_manifolder.fit_transform(splicing_fillna), index=study.splicing.data.index)\n",
    "\n",
    "fig, ax = plt.subplots(figsize=(3, 2))\n",
    "\n",
    "color = [study.phenotype_to_color[study.sample_id_to_phenotype[x]] for x in splicing_manifolded.index]\n",
    "\n",
    "for phenotype, df1 in splicing_manifolded.groupby(study.sample_id_to_phenotype):\n",
    "    color = study.phenotype_to_color[phenotype]\n",
    "    for if_pooled, df2 in df1.groupby(study.metadata.data['pooled']):\n",
    "        edgecolor = 'black' if if_pooled else 'grey'\n",
    "        linewidth = 3 if if_pooled else 1\n",
    "        ax.scatter(df2[0], df2[1], color=color, linewidths=linewidth, edgecolor=edgecolor)\n",
    "ax.set(xticks=[], yticks=[])\n",
    "sns.despine(bottom=True, left=True)"
   ]
  },
  {
   "cell_type": "code",
   "execution_count": 7,
   "metadata": {
    "collapsed": false
   },
   "outputs": [
    {
     "name": "stdout",
     "output_type": "stream",
     "text": [
      "(204, 204)\n"
     ]
    },
    {
     "data": {
      "text/html": [
       "<div>\n",
       "<table border=\"1\" class=\"dataframe\">\n",
       "  <thead>\n",
       "    <tr style=\"text-align: right;\">\n",
       "      <th>sample_id</th>\n",
       "      <th>CVN_01</th>\n",
       "      <th>CVN_02</th>\n",
       "      <th>CVN_03</th>\n",
       "      <th>CVN_04</th>\n",
       "      <th>CVN_05</th>\n",
       "      <th>CVN_06</th>\n",
       "      <th>CVN_07</th>\n",
       "      <th>CVN_08</th>\n",
       "      <th>CVN_09</th>\n",
       "      <th>CVN_11</th>\n",
       "      <th>...</th>\n",
       "      <th>P8_01</th>\n",
       "      <th>P8_02</th>\n",
       "      <th>P8_05</th>\n",
       "      <th>P8_06</th>\n",
       "      <th>P8_10</th>\n",
       "      <th>P8_11</th>\n",
       "      <th>P9_01</th>\n",
       "      <th>P9_02</th>\n",
       "      <th>P9_03</th>\n",
       "      <th>P9_04</th>\n",
       "    </tr>\n",
       "    <tr>\n",
       "      <th>sample_id</th>\n",
       "      <th></th>\n",
       "      <th></th>\n",
       "      <th></th>\n",
       "      <th></th>\n",
       "      <th></th>\n",
       "      <th></th>\n",
       "      <th></th>\n",
       "      <th></th>\n",
       "      <th></th>\n",
       "      <th></th>\n",
       "      <th></th>\n",
       "      <th></th>\n",
       "      <th></th>\n",
       "      <th></th>\n",
       "      <th></th>\n",
       "      <th></th>\n",
       "      <th></th>\n",
       "      <th></th>\n",
       "      <th></th>\n",
       "      <th></th>\n",
       "      <th></th>\n",
       "    </tr>\n",
       "  </thead>\n",
       "  <tbody>\n",
       "    <tr>\n",
       "      <th>CVN_01</th>\n",
       "      <td>1.000000</td>\n",
       "      <td>0.898312</td>\n",
       "      <td>0.933125</td>\n",
       "      <td>0.889478</td>\n",
       "      <td>0.899772</td>\n",
       "      <td>0.898062</td>\n",
       "      <td>0.903982</td>\n",
       "      <td>0.905813</td>\n",
       "      <td>0.904318</td>\n",
       "      <td>0.902577</td>\n",
       "      <td>...</td>\n",
       "      <td>0.893989</td>\n",
       "      <td>0.890238</td>\n",
       "      <td>0.903543</td>\n",
       "      <td>0.880361</td>\n",
       "      <td>0.881985</td>\n",
       "      <td>0.892569</td>\n",
       "      <td>0.885201</td>\n",
       "      <td>0.890796</td>\n",
       "      <td>0.892477</td>\n",
       "      <td>0.893778</td>\n",
       "    </tr>\n",
       "    <tr>\n",
       "      <th>CVN_02</th>\n",
       "      <td>0.898312</td>\n",
       "      <td>1.000000</td>\n",
       "      <td>0.917617</td>\n",
       "      <td>0.902508</td>\n",
       "      <td>0.918135</td>\n",
       "      <td>0.903007</td>\n",
       "      <td>0.920027</td>\n",
       "      <td>0.910035</td>\n",
       "      <td>0.921301</td>\n",
       "      <td>0.915583</td>\n",
       "      <td>...</td>\n",
       "      <td>0.910801</td>\n",
       "      <td>0.879669</td>\n",
       "      <td>0.900321</td>\n",
       "      <td>0.893794</td>\n",
       "      <td>0.898724</td>\n",
       "      <td>0.897592</td>\n",
       "      <td>0.878752</td>\n",
       "      <td>0.903641</td>\n",
       "      <td>0.901953</td>\n",
       "      <td>0.907413</td>\n",
       "    </tr>\n",
       "    <tr>\n",
       "      <th>CVN_03</th>\n",
       "      <td>0.933125</td>\n",
       "      <td>0.917617</td>\n",
       "      <td>1.000000</td>\n",
       "      <td>0.920139</td>\n",
       "      <td>0.914975</td>\n",
       "      <td>0.909883</td>\n",
       "      <td>0.908218</td>\n",
       "      <td>0.917256</td>\n",
       "      <td>0.940303</td>\n",
       "      <td>0.909621</td>\n",
       "      <td>...</td>\n",
       "      <td>0.912870</td>\n",
       "      <td>0.911182</td>\n",
       "      <td>0.909086</td>\n",
       "      <td>0.897294</td>\n",
       "      <td>0.908661</td>\n",
       "      <td>0.912749</td>\n",
       "      <td>0.902319</td>\n",
       "      <td>0.902517</td>\n",
       "      <td>0.910783</td>\n",
       "      <td>0.918398</td>\n",
       "    </tr>\n",
       "    <tr>\n",
       "      <th>CVN_04</th>\n",
       "      <td>0.889478</td>\n",
       "      <td>0.902508</td>\n",
       "      <td>0.920139</td>\n",
       "      <td>1.000000</td>\n",
       "      <td>0.884780</td>\n",
       "      <td>0.882956</td>\n",
       "      <td>0.887485</td>\n",
       "      <td>0.889689</td>\n",
       "      <td>0.898766</td>\n",
       "      <td>0.899067</td>\n",
       "      <td>...</td>\n",
       "      <td>0.886134</td>\n",
       "      <td>0.878029</td>\n",
       "      <td>0.892694</td>\n",
       "      <td>0.898808</td>\n",
       "      <td>0.890510</td>\n",
       "      <td>0.890797</td>\n",
       "      <td>0.894599</td>\n",
       "      <td>0.898416</td>\n",
       "      <td>0.892981</td>\n",
       "      <td>0.896173</td>\n",
       "    </tr>\n",
       "    <tr>\n",
       "      <th>CVN_05</th>\n",
       "      <td>0.899772</td>\n",
       "      <td>0.918135</td>\n",
       "      <td>0.914975</td>\n",
       "      <td>0.884780</td>\n",
       "      <td>1.000000</td>\n",
       "      <td>0.899380</td>\n",
       "      <td>0.906945</td>\n",
       "      <td>0.896034</td>\n",
       "      <td>0.905179</td>\n",
       "      <td>0.914105</td>\n",
       "      <td>...</td>\n",
       "      <td>0.895442</td>\n",
       "      <td>0.876427</td>\n",
       "      <td>0.893454</td>\n",
       "      <td>0.883774</td>\n",
       "      <td>0.886966</td>\n",
       "      <td>0.889046</td>\n",
       "      <td>0.879128</td>\n",
       "      <td>0.895296</td>\n",
       "      <td>0.894510</td>\n",
       "      <td>0.895188</td>\n",
       "    </tr>\n",
       "  </tbody>\n",
       "</table>\n",
       "<p>5 rows × 204 columns</p>\n",
       "</div>"
      ],
      "text/plain": [
       "sample_id    CVN_01    CVN_02    CVN_03    CVN_04    CVN_05    CVN_06  \\\n",
       "sample_id                                                               \n",
       "CVN_01     1.000000  0.898312  0.933125  0.889478  0.899772  0.898062   \n",
       "CVN_02     0.898312  1.000000  0.917617  0.902508  0.918135  0.903007   \n",
       "CVN_03     0.933125  0.917617  1.000000  0.920139  0.914975  0.909883   \n",
       "CVN_04     0.889478  0.902508  0.920139  1.000000  0.884780  0.882956   \n",
       "CVN_05     0.899772  0.918135  0.914975  0.884780  1.000000  0.899380   \n",
       "\n",
       "sample_id    CVN_07    CVN_08    CVN_09    CVN_11    ...        P8_01  \\\n",
       "sample_id                                            ...                \n",
       "CVN_01     0.903982  0.905813  0.904318  0.902577    ...     0.893989   \n",
       "CVN_02     0.920027  0.910035  0.921301  0.915583    ...     0.910801   \n",
       "CVN_03     0.908218  0.917256  0.940303  0.909621    ...     0.912870   \n",
       "CVN_04     0.887485  0.889689  0.898766  0.899067    ...     0.886134   \n",
       "CVN_05     0.906945  0.896034  0.905179  0.914105    ...     0.895442   \n",
       "\n",
       "sample_id     P8_02     P8_05     P8_06     P8_10     P8_11     P9_01  \\\n",
       "sample_id                                                               \n",
       "CVN_01     0.890238  0.903543  0.880361  0.881985  0.892569  0.885201   \n",
       "CVN_02     0.879669  0.900321  0.893794  0.898724  0.897592  0.878752   \n",
       "CVN_03     0.911182  0.909086  0.897294  0.908661  0.912749  0.902319   \n",
       "CVN_04     0.878029  0.892694  0.898808  0.890510  0.890797  0.894599   \n",
       "CVN_05     0.876427  0.893454  0.883774  0.886966  0.889046  0.879128   \n",
       "\n",
       "sample_id     P9_02     P9_03     P9_04  \n",
       "sample_id                                \n",
       "CVN_01     0.890796  0.892477  0.893778  \n",
       "CVN_02     0.903641  0.901953  0.907413  \n",
       "CVN_03     0.902517  0.910783  0.918398  \n",
       "CVN_04     0.898416  0.892981  0.896173  \n",
       "CVN_05     0.895296  0.894510  0.895188  \n",
       "\n",
       "[5 rows x 204 columns]"
      ]
     },
     "execution_count": 7,
     "metadata": {},
     "output_type": "execute_result"
    }
   ],
   "source": [
    "splicing_sample_corr = splicing.T.corr()\n",
    "print(splicing_sample_corr.shape)\n",
    "splicing_sample_corr.head()"
   ]
  },
  {
   "cell_type": "code",
   "execution_count": 8,
   "metadata": {
    "collapsed": false
   },
   "outputs": [
    {
     "ename": "SyntaxError",
     "evalue": "invalid syntax (<ipython-input-8-6143478ac06a>, line 5)",
     "output_type": "error",
     "traceback": [
      "\u001b[1;36m  File \u001b[1;32m\"<ipython-input-8-6143478ac06a>\"\u001b[1;36m, line \u001b[1;32m5\u001b[0m\n\u001b[1;33m    fig, ax = plt.subplots(figsize=(3, 2))\u001b[0m\n\u001b[1;37m      ^\u001b[0m\n\u001b[1;31mSyntaxError\u001b[0m\u001b[1;31m:\u001b[0m invalid syntax\n"
     ]
    }
   ],
   "source": [
    "splicing_corr_manifolder = TSNE()\n",
    "splicing_corr_manifolded = pd.DataFrame(splicing_corr_manifolder.fit_transform(splicing_sample_corr, \n",
    "                                                                               index=study.splicing.data.index)\n",
    "\n",
    "fig, ax = plt.subplots(figsize=(3, 2))\n",
    "\n",
    "color = [study.phenotype_to_color[study.sample_id_to_phenotype[x]] for x in splicing_manifolded.index]\n",
    "\n",
    "for phenotype, df1 in splicing_corr_manifolded.groupby(study.sample_id_to_phenotype):\n",
    "    color = study.phenotype_to_color[phenotype]\n",
    "    for if_pooled, df2 in df1.groupby(study.metadata.data['pooled']):\n",
    "        edgecolor = 'black' if if_pooled else 'grey'\n",
    "        linewidth = 3 if if_pooled else 1\n",
    "        ax.scatter(df2[0], df2[1], color=color, linewidths=linewidth, edgecolor=edgecolor)\n",
    "ax.set(xticks=[], yticks=[])\n",
    "sns.despine(bottom=True, left=True)"
   ]
  },
  {
   "cell_type": "code",
   "execution_count": null,
   "metadata": {
    "collapsed": true
   },
   "outputs": [],
   "source": []
  }
 ],
 "metadata": {
  "kernelspec": {
   "display_name": "Python 2",
   "language": "python",
   "name": "python2"
  },
  "language_info": {
   "codemirror_mode": {
    "name": "ipython",
    "version": 2
   },
   "file_extension": ".py",
   "mimetype": "text/x-python",
   "name": "python",
   "nbconvert_exporter": "python",
   "pygments_lexer": "ipython2",
   "version": "2.7.11"
  }
 },
 "nbformat": 4,
 "nbformat_minor": 0
}
