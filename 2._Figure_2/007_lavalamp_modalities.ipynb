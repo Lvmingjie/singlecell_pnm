{
 "cells": [
  {
   "cell_type": "code",
   "execution_count": 1,
   "metadata": {
    "collapsed": true
   },
   "outputs": [],
   "source": [
    "from __future__ import print_function"
   ]
  },
  {
   "cell_type": "code",
   "execution_count": 45,
   "metadata": {
    "collapsed": false
   },
   "outputs": [
    {
     "name": "stdout",
     "output_type": "stream",
     "text": [
      "mkdir: cannot create directory `figures': File exists\r\n"
     ]
    }
   ],
   "source": [
    "folder = 'figures'\n",
    "! mkdir $folder"
   ]
  },
  {
   "cell_type": "code",
   "execution_count": 46,
   "metadata": {
    "collapsed": true
   },
   "outputs": [],
   "source": [
    "figure_folder = '{}/007_lavalamp_modalities'.format(folder)\n",
    "! mkdir $figure_folder"
   ]
  },
  {
   "cell_type": "code",
   "execution_count": 2,
   "metadata": {
    "collapsed": false
   },
   "outputs": [
    {
     "name": "stderr",
     "output_type": "stream",
     "text": [
      "/home/obotvinnik/anaconda/lib/python2.7/site-packages/matplotlib/__init__.py:810: UserWarning: Found matplotlib configuration in ~/.matplotlib/. To conform with the XDG base directory standard, this configuration location has been deprecated on Linux, and the new location is now /home/obotvinnik/.config/matplotlib/. Please move your configuration there to ensure that matplotlib will continue to find it in the future.\n",
      "  _get_xdg_config_dir())\n",
      "/home/obotvinnik/anaconda/lib/python2.7/site-packages/flotilla/__init__.py:65: DtypeWarning: Columns (19) have mixed types. Specify dtype option on import or set low_memory=False.\n",
      "  load_species_data=load_species_data)\n"
     ]
    },
    {
     "name": "stdout",
     "output_type": "stream",
     "text": [
      "2016-08-29 11:13:33\tReading datapackage from /projects/ps-yeolab/obotvinnik/flotilla_projects/singlecell_pnm_figure2_modalities_bayesian/datapackage.json\n",
      "2016-08-29 11:13:33\tParsing datapackage to create a Study object\n",
      "https://s3-us-west-2.amazonaws.com/flotilla-projects/ercc/ERCC_Controls.txt has not been downloaded before.\n",
      "\tDownloading now to /home/obotvinnik/flotilla_projects/hg19/ERCC_Controls.txt\n",
      "2016-08-29 11:14:09 \tInitializing Study\n",
      "2016-08-29 11:14:09 \tInitializing Predictor configuration manager for Study\n",
      "2016-08-29 11:14:09\tPredictor ExtraTreesClassifier is of type <class 'sklearn.ensemble.forest.ExtraTreesClassifier'>\n",
      "2016-08-29 11:14:09\tAdded ExtraTreesClassifier to default predictors\n",
      "2016-08-29 11:14:09\tPredictor ExtraTreesRegressor is of type <class 'sklearn.ensemble.forest.ExtraTreesRegressor'>\n",
      "2016-08-29 11:14:09\tAdded ExtraTreesRegressor to default predictors\n",
      "2016-08-29 11:14:09\tPredictor GradientBoostingClassifier is of type <class 'sklearn.ensemble.gradient_boosting.GradientBoostingClassifier'>\n",
      "2016-08-29 11:14:09\tAdded GradientBoostingClassifier to default predictors\n",
      "2016-08-29 11:14:09\tPredictor GradientBoostingRegressor is of type <class 'sklearn.ensemble.gradient_boosting.GradientBoostingRegressor'>\n",
      "2016-08-29 11:14:09\tAdded GradientBoostingRegressor to default predictors\n",
      "2016-08-29 11:14:14 \tBuilding Gene Ontology database...\n",
      "2016-08-29 11:14:23 \t\tDone\n",
      "2016-08-29 11:14:24 \tLoading metadata\n",
      "2016-08-29 11:14:24\tLoading expression data\n",
      "2016-08-29 11:14:24\tInitializing expression\n",
      "2016-08-29 11:14:24\tDone initializing expression\n",
      "2016-08-29 11:14:27\tLoading splicing data\n",
      "2016-08-29 11:14:27\tInitializing splicing\n",
      "2016-08-29 11:14:27\tDone initializing splicing\n",
      "2016-08-29 11:14:27\tSuccessfully initialized a Study object!\n"
     ]
    },
    {
     "name": "stderr",
     "output_type": "stream",
     "text": [
      "Error loading species hg19 data: HTTP Error 404: Not Found"
     ]
    }
   ],
   "source": [
    "%load_ext autoreload\n",
    "%autoreload 2\n",
    "\n",
    "import matplotlib.pyplot as plt\n",
    "import seaborn as sns\n",
    "import numpy as np\n",
    "import pandas as pd\n",
    "\n",
    "sns.set(style='ticks', context='paper', rc={'font.sans-serif':'Arial', 'pdf.fonttype': 42})\n",
    "\n",
    "%matplotlib inline\n",
    "\n",
    "import flotilla\n",
    "\n",
    "flotilla_dir = '/projects/ps-yeolab/obotvinnik/flotilla_projects'\n",
    "\n",
    "study = flotilla.embark('singlecell_pnm_figure2_modalities_bayesian', flotilla_dir=flotilla_dir)\n",
    "\n",
    "not_outliers = study.splicing.singles.index.difference(study.splicing.outliers.index)\n"
   ]
  },
  {
   "cell_type": "code",
   "execution_count": 4,
   "metadata": {
    "collapsed": false
   },
   "outputs": [
    {
     "name": "stdout",
     "output_type": "stream",
     "text": [
      "(11871, 3)\n"
     ]
    },
    {
     "data": {
      "text/html": [
       "<div>\n",
       "<table border=\"1\" class=\"dataframe\">\n",
       "  <thead>\n",
       "    <tr style=\"text-align: right;\">\n",
       "      <th></th>\n",
       "      <th>phenotype</th>\n",
       "      <th>event_id</th>\n",
       "      <th>modality</th>\n",
       "    </tr>\n",
       "  </thead>\n",
       "  <tbody>\n",
       "    <tr>\n",
       "      <th>14146</th>\n",
       "      <td>iPSC</td>\n",
       "      <td>exon:chr10:100190328-100190427:-@exon:chr10:10...</td>\n",
       "      <td>bimodal</td>\n",
       "    </tr>\n",
       "    <tr>\n",
       "      <th>14147</th>\n",
       "      <td>iPSC</td>\n",
       "      <td>exon:chr10:100195392-100195529:-@exon:chr10:10...</td>\n",
       "      <td>bimodal</td>\n",
       "    </tr>\n",
       "    <tr>\n",
       "      <th>14148</th>\n",
       "      <td>iPSC</td>\n",
       "      <td>exon:chr10:101165513-101165617:-@exon:chr10:10...</td>\n",
       "      <td>included</td>\n",
       "    </tr>\n",
       "    <tr>\n",
       "      <th>14149</th>\n",
       "      <td>iPSC</td>\n",
       "      <td>exon:chr10:101480744-101480825:-@exon:chr10:10...</td>\n",
       "      <td>included</td>\n",
       "    </tr>\n",
       "    <tr>\n",
       "      <th>14150</th>\n",
       "      <td>iPSC</td>\n",
       "      <td>exon:chr10:101507014-101507147:+@exon:chr10:10...</td>\n",
       "      <td>bimodal</td>\n",
       "    </tr>\n",
       "  </tbody>\n",
       "</table>\n",
       "</div>"
      ],
      "text/plain": [
       "      phenotype                                           event_id  modality\n",
       "14146      iPSC  exon:chr10:100190328-100190427:-@exon:chr10:10...   bimodal\n",
       "14147      iPSC  exon:chr10:100195392-100195529:-@exon:chr10:10...   bimodal\n",
       "14148      iPSC  exon:chr10:101165513-101165617:-@exon:chr10:10...  included\n",
       "14149      iPSC  exon:chr10:101480744-101480825:-@exon:chr10:10...  included\n",
       "14150      iPSC  exon:chr10:101507014-101507147:+@exon:chr10:10...   bimodal"
      ]
     },
     "execution_count": 4,
     "metadata": {},
     "output_type": "execute_result"
    }
   ],
   "source": [
    "modalities = study.supplemental.modalities_tidy.query(\"phenotype == 'iPSC'\")\n",
    "print(modalities.shape)\n",
    "modalities.head()"
   ]
  },
  {
   "cell_type": "code",
   "execution_count": 8,
   "metadata": {
    "collapsed": true
   },
   "outputs": [],
   "source": [
    "ipsc_samples = study.metadata.data.query('phenotype == \"iPSC\"').index"
   ]
  },
  {
   "cell_type": "code",
   "execution_count": 9,
   "metadata": {
    "collapsed": false
   },
   "outputs": [
    {
     "name": "stdout",
     "output_type": "stream",
     "text": [
      "(59, 16062)\n"
     ]
    },
    {
     "data": {
      "text/html": [
       "<div>\n",
       "<table border=\"1\" class=\"dataframe\">\n",
       "  <thead>\n",
       "    <tr style=\"text-align: right;\">\n",
       "      <th></th>\n",
       "      <th>exon:chr10:100190328-100190427:-@exon:chr10:100189548-100189646:-@exon:chr10:100189330-100189399:-</th>\n",
       "      <th>exon:chr10:100193697-100193848:-@exon:chr10:100190888-100191048:-@exon:chr10:100190328-100190427:-</th>\n",
       "      <th>exon:chr10:100195392-100195529:-@exon:chr10:100195029-100195171:-@exon:chr10:100193697-100193848:-</th>\n",
       "      <th>exon:chr10:101165513-101165617:-@exon:chr10:101163481-101163631:-@exon:chr10:101163226-101163391:-</th>\n",
       "      <th>exon:chr10:101480744-101480825:-@exon:chr10:101478103-101478257:-@exon:chr10:101476105-101476218:-</th>\n",
       "      <th>exon:chr10:101507014-101507147:+@exon:chr10:101510126-101510153:+@exon:chr10:101514286-101514391:+</th>\n",
       "      <th>exon:chr10:101507014-101507147:+@exon:chr10:101514286-101514391:+@exon:chr10:101515382-101515465:+</th>\n",
       "      <th>exon:chr10:101964263-101964414:-@exon:chr10:101961845-101961906:-@exon:chr10:101960428-101960537:-</th>\n",
       "      <th>exon:chr10:101969352-101969546:-@exon:chr10:101966987-101967089:-@exon:chr10:101964833-101964956:-</th>\n",
       "      <th>exon:chr10:101997779-101997988:-@exon:chr10:101996607-101996726:-@exon:chr10:101995424-101995521:-</th>\n",
       "      <th>...</th>\n",
       "      <th>exon:chrY:21903204-21903374:-@exon:chrY:21901414-21901548:-@exon:chrY:21897507-21897636:-</th>\n",
       "      <th>exon:chrY:21903621-21903743:-@exon:chrY:21903204-21903374:-@exon:chrY:21901414-21901548:-</th>\n",
       "      <th>exon:chrY:22744476-22744579:+@exon:chrY:22746360-22746410:+@exon:chrY:22749910-22749991:+</th>\n",
       "      <th>exon:chrY:2709527-2709668:+@exon:chrY:2710206-2710283:+@exon:chrY:2712118-2712298:+</th>\n",
       "      <th>exon:chrY:2710206-2710283:+@exon:chrY:2712118-2712298:+@exon:chrY:2713687-2713784:+</th>\n",
       "      <th>exon:chrY:2712118-2712298:+@exon:chrY:2713687-2713784:+@exon:chrY:2722641-2722812:+</th>\n",
       "      <th>exon:chrY:2713687-2713784:+@exon:chrY:2722641-2722812:+@exon:chrY:2733129-2733286:+</th>\n",
       "      <th>exon:chrY:2722641-2722812:+@exon:chrY:2733129-2733286:+@exon:chrY:2734834-2734903:+</th>\n",
       "      <th>exon:chrY:2821950-2822038:+@exon:chrY:2829115-2829687:+@exon:chrY:2843136-2843285:+</th>\n",
       "      <th>exon:chrY:2843552-2843695:+@exon:chrY:2844711-2844863:+@exon:chrY:2845981-2846121:+</th>\n",
       "    </tr>\n",
       "  </thead>\n",
       "  <tbody>\n",
       "    <tr>\n",
       "      <th>P1_01</th>\n",
       "      <td>NaN</td>\n",
       "      <td>NaN</td>\n",
       "      <td>NaN</td>\n",
       "      <td>NaN</td>\n",
       "      <td>NaN</td>\n",
       "      <td>1.000000</td>\n",
       "      <td>NaN</td>\n",
       "      <td>NaN</td>\n",
       "      <td>NaN</td>\n",
       "      <td>1</td>\n",
       "      <td>...</td>\n",
       "      <td>NaN</td>\n",
       "      <td>NaN</td>\n",
       "      <td>1.000000</td>\n",
       "      <td>1</td>\n",
       "      <td>1</td>\n",
       "      <td>1</td>\n",
       "      <td>1</td>\n",
       "      <td>1</td>\n",
       "      <td>NaN</td>\n",
       "      <td>NaN</td>\n",
       "    </tr>\n",
       "    <tr>\n",
       "      <th>P1_02</th>\n",
       "      <td>NaN</td>\n",
       "      <td>NaN</td>\n",
       "      <td>NaN</td>\n",
       "      <td>1</td>\n",
       "      <td>1</td>\n",
       "      <td>1.000000</td>\n",
       "      <td>NaN</td>\n",
       "      <td>NaN</td>\n",
       "      <td>NaN</td>\n",
       "      <td>NaN</td>\n",
       "      <td>...</td>\n",
       "      <td>NaN</td>\n",
       "      <td>1</td>\n",
       "      <td>0.856209</td>\n",
       "      <td>1</td>\n",
       "      <td>1</td>\n",
       "      <td>1</td>\n",
       "      <td>1</td>\n",
       "      <td>1</td>\n",
       "      <td>NaN</td>\n",
       "      <td>NaN</td>\n",
       "    </tr>\n",
       "    <tr>\n",
       "      <th>P1_03</th>\n",
       "      <td>NaN</td>\n",
       "      <td>NaN</td>\n",
       "      <td>NaN</td>\n",
       "      <td>NaN</td>\n",
       "      <td>1</td>\n",
       "      <td>0.217391</td>\n",
       "      <td>1</td>\n",
       "      <td>NaN</td>\n",
       "      <td>NaN</td>\n",
       "      <td>1</td>\n",
       "      <td>...</td>\n",
       "      <td>NaN</td>\n",
       "      <td>NaN</td>\n",
       "      <td>1.000000</td>\n",
       "      <td>1</td>\n",
       "      <td>1</td>\n",
       "      <td>1</td>\n",
       "      <td>1</td>\n",
       "      <td>1</td>\n",
       "      <td>NaN</td>\n",
       "      <td>NaN</td>\n",
       "    </tr>\n",
       "    <tr>\n",
       "      <th>P1_04</th>\n",
       "      <td>NaN</td>\n",
       "      <td>NaN</td>\n",
       "      <td>NaN</td>\n",
       "      <td>NaN</td>\n",
       "      <td>1</td>\n",
       "      <td>1.000000</td>\n",
       "      <td>NaN</td>\n",
       "      <td>NaN</td>\n",
       "      <td>NaN</td>\n",
       "      <td>1</td>\n",
       "      <td>...</td>\n",
       "      <td>NaN</td>\n",
       "      <td>NaN</td>\n",
       "      <td>0.893250</td>\n",
       "      <td>1</td>\n",
       "      <td>1</td>\n",
       "      <td>1</td>\n",
       "      <td>1</td>\n",
       "      <td>1</td>\n",
       "      <td>NaN</td>\n",
       "      <td>NaN</td>\n",
       "    </tr>\n",
       "    <tr>\n",
       "      <th>P1_05</th>\n",
       "      <td>NaN</td>\n",
       "      <td>NaN</td>\n",
       "      <td>NaN</td>\n",
       "      <td>1</td>\n",
       "      <td>1</td>\n",
       "      <td>NaN</td>\n",
       "      <td>NaN</td>\n",
       "      <td>NaN</td>\n",
       "      <td>NaN</td>\n",
       "      <td>NaN</td>\n",
       "      <td>...</td>\n",
       "      <td>NaN</td>\n",
       "      <td>NaN</td>\n",
       "      <td>1.000000</td>\n",
       "      <td>1</td>\n",
       "      <td>1</td>\n",
       "      <td>1</td>\n",
       "      <td>1</td>\n",
       "      <td>1</td>\n",
       "      <td>NaN</td>\n",
       "      <td>NaN</td>\n",
       "    </tr>\n",
       "  </tbody>\n",
       "</table>\n",
       "<p>5 rows × 16062 columns</p>\n",
       "</div>"
      ],
      "text/plain": [
       "       exon:chr10:100190328-100190427:-@exon:chr10:100189548-100189646:-@exon:chr10:100189330-100189399:-  \\\n",
       "P1_01                                                NaN                                                    \n",
       "P1_02                                                NaN                                                    \n",
       "P1_03                                                NaN                                                    \n",
       "P1_04                                                NaN                                                    \n",
       "P1_05                                                NaN                                                    \n",
       "\n",
       "       exon:chr10:100193697-100193848:-@exon:chr10:100190888-100191048:-@exon:chr10:100190328-100190427:-  \\\n",
       "P1_01                                                NaN                                                    \n",
       "P1_02                                                NaN                                                    \n",
       "P1_03                                                NaN                                                    \n",
       "P1_04                                                NaN                                                    \n",
       "P1_05                                                NaN                                                    \n",
       "\n",
       "       exon:chr10:100195392-100195529:-@exon:chr10:100195029-100195171:-@exon:chr10:100193697-100193848:-  \\\n",
       "P1_01                                                NaN                                                    \n",
       "P1_02                                                NaN                                                    \n",
       "P1_03                                                NaN                                                    \n",
       "P1_04                                                NaN                                                    \n",
       "P1_05                                                NaN                                                    \n",
       "\n",
       "       exon:chr10:101165513-101165617:-@exon:chr10:101163481-101163631:-@exon:chr10:101163226-101163391:-  \\\n",
       "P1_01                                                NaN                                                    \n",
       "P1_02                                                  1                                                    \n",
       "P1_03                                                NaN                                                    \n",
       "P1_04                                                NaN                                                    \n",
       "P1_05                                                  1                                                    \n",
       "\n",
       "       exon:chr10:101480744-101480825:-@exon:chr10:101478103-101478257:-@exon:chr10:101476105-101476218:-  \\\n",
       "P1_01                                                NaN                                                    \n",
       "P1_02                                                  1                                                    \n",
       "P1_03                                                  1                                                    \n",
       "P1_04                                                  1                                                    \n",
       "P1_05                                                  1                                                    \n",
       "\n",
       "       exon:chr10:101507014-101507147:+@exon:chr10:101510126-101510153:+@exon:chr10:101514286-101514391:+  \\\n",
       "P1_01                                           1.000000                                                    \n",
       "P1_02                                           1.000000                                                    \n",
       "P1_03                                           0.217391                                                    \n",
       "P1_04                                           1.000000                                                    \n",
       "P1_05                                                NaN                                                    \n",
       "\n",
       "       exon:chr10:101507014-101507147:+@exon:chr10:101514286-101514391:+@exon:chr10:101515382-101515465:+  \\\n",
       "P1_01                                                NaN                                                    \n",
       "P1_02                                                NaN                                                    \n",
       "P1_03                                                  1                                                    \n",
       "P1_04                                                NaN                                                    \n",
       "P1_05                                                NaN                                                    \n",
       "\n",
       "       exon:chr10:101964263-101964414:-@exon:chr10:101961845-101961906:-@exon:chr10:101960428-101960537:-  \\\n",
       "P1_01                                                NaN                                                    \n",
       "P1_02                                                NaN                                                    \n",
       "P1_03                                                NaN                                                    \n",
       "P1_04                                                NaN                                                    \n",
       "P1_05                                                NaN                                                    \n",
       "\n",
       "       exon:chr10:101969352-101969546:-@exon:chr10:101966987-101967089:-@exon:chr10:101964833-101964956:-  \\\n",
       "P1_01                                                NaN                                                    \n",
       "P1_02                                                NaN                                                    \n",
       "P1_03                                                NaN                                                    \n",
       "P1_04                                                NaN                                                    \n",
       "P1_05                                                NaN                                                    \n",
       "\n",
       "       exon:chr10:101997779-101997988:-@exon:chr10:101996607-101996726:-@exon:chr10:101995424-101995521:-  \\\n",
       "P1_01                                                  1                                                    \n",
       "P1_02                                                NaN                                                    \n",
       "P1_03                                                  1                                                    \n",
       "P1_04                                                  1                                                    \n",
       "P1_05                                                NaN                                                    \n",
       "\n",
       "                                              ...                                           \\\n",
       "P1_01                                         ...                                            \n",
       "P1_02                                         ...                                            \n",
       "P1_03                                         ...                                            \n",
       "P1_04                                         ...                                            \n",
       "P1_05                                         ...                                            \n",
       "\n",
       "       exon:chrY:21903204-21903374:-@exon:chrY:21901414-21901548:-@exon:chrY:21897507-21897636:-  \\\n",
       "P1_01                                                NaN                                           \n",
       "P1_02                                                NaN                                           \n",
       "P1_03                                                NaN                                           \n",
       "P1_04                                                NaN                                           \n",
       "P1_05                                                NaN                                           \n",
       "\n",
       "       exon:chrY:21903621-21903743:-@exon:chrY:21903204-21903374:-@exon:chrY:21901414-21901548:-  \\\n",
       "P1_01                                                NaN                                           \n",
       "P1_02                                                  1                                           \n",
       "P1_03                                                NaN                                           \n",
       "P1_04                                                NaN                                           \n",
       "P1_05                                                NaN                                           \n",
       "\n",
       "       exon:chrY:22744476-22744579:+@exon:chrY:22746360-22746410:+@exon:chrY:22749910-22749991:+  \\\n",
       "P1_01                                           1.000000                                           \n",
       "P1_02                                           0.856209                                           \n",
       "P1_03                                           1.000000                                           \n",
       "P1_04                                           0.893250                                           \n",
       "P1_05                                           1.000000                                           \n",
       "\n",
       "       exon:chrY:2709527-2709668:+@exon:chrY:2710206-2710283:+@exon:chrY:2712118-2712298:+  \\\n",
       "P1_01                                                  1                                     \n",
       "P1_02                                                  1                                     \n",
       "P1_03                                                  1                                     \n",
       "P1_04                                                  1                                     \n",
       "P1_05                                                  1                                     \n",
       "\n",
       "       exon:chrY:2710206-2710283:+@exon:chrY:2712118-2712298:+@exon:chrY:2713687-2713784:+  \\\n",
       "P1_01                                                  1                                     \n",
       "P1_02                                                  1                                     \n",
       "P1_03                                                  1                                     \n",
       "P1_04                                                  1                                     \n",
       "P1_05                                                  1                                     \n",
       "\n",
       "       exon:chrY:2712118-2712298:+@exon:chrY:2713687-2713784:+@exon:chrY:2722641-2722812:+  \\\n",
       "P1_01                                                  1                                     \n",
       "P1_02                                                  1                                     \n",
       "P1_03                                                  1                                     \n",
       "P1_04                                                  1                                     \n",
       "P1_05                                                  1                                     \n",
       "\n",
       "       exon:chrY:2713687-2713784:+@exon:chrY:2722641-2722812:+@exon:chrY:2733129-2733286:+  \\\n",
       "P1_01                                                  1                                     \n",
       "P1_02                                                  1                                     \n",
       "P1_03                                                  1                                     \n",
       "P1_04                                                  1                                     \n",
       "P1_05                                                  1                                     \n",
       "\n",
       "       exon:chrY:2722641-2722812:+@exon:chrY:2733129-2733286:+@exon:chrY:2734834-2734903:+  \\\n",
       "P1_01                                                  1                                     \n",
       "P1_02                                                  1                                     \n",
       "P1_03                                                  1                                     \n",
       "P1_04                                                  1                                     \n",
       "P1_05                                                  1                                     \n",
       "\n",
       "       exon:chrY:2821950-2822038:+@exon:chrY:2829115-2829687:+@exon:chrY:2843136-2843285:+  \\\n",
       "P1_01                                                NaN                                     \n",
       "P1_02                                                NaN                                     \n",
       "P1_03                                                NaN                                     \n",
       "P1_04                                                NaN                                     \n",
       "P1_05                                                NaN                                     \n",
       "\n",
       "       exon:chrY:2843552-2843695:+@exon:chrY:2844711-2844863:+@exon:chrY:2845981-2846121:+  \n",
       "P1_01                                                NaN                                    \n",
       "P1_02                                                NaN                                    \n",
       "P1_03                                                NaN                                    \n",
       "P1_04                                                NaN                                    \n",
       "P1_05                                                NaN                                    \n",
       "\n",
       "[5 rows x 16062 columns]"
      ]
     },
     "execution_count": 9,
     "metadata": {},
     "output_type": "execute_result"
    }
   ],
   "source": [
    "ipsc_singles = study.splicing.singles.loc[ipsc_samples].dropna(how='all', axis=1).dropna(how='all', axis=0)\n",
    "print(ipsc_singles.shape)\n",
    "ipsc_singles.head()"
   ]
  },
  {
   "cell_type": "code",
   "execution_count": 10,
   "metadata": {
    "collapsed": false
   },
   "outputs": [
    {
     "name": "stdout",
     "output_type": "stream",
     "text": [
      "(2, 10953)\n"
     ]
    },
    {
     "data": {
      "text/html": [
       "<div>\n",
       "<table border=\"1\" class=\"dataframe\">\n",
       "  <thead>\n",
       "    <tr style=\"text-align: right;\">\n",
       "      <th></th>\n",
       "      <th>exon:chr10:100190328-100190427:-@exon:chr10:100189548-100189646:-@exon:chr10:100189330-100189399:-</th>\n",
       "      <th>exon:chr10:101165513-101165617:-@exon:chr10:101163481-101163631:-@exon:chr10:101163226-101163391:-</th>\n",
       "      <th>exon:chr10:101480744-101480825:-@exon:chr10:101478103-101478257:-@exon:chr10:101476105-101476218:-</th>\n",
       "      <th>exon:chr10:101507014-101507147:+@exon:chr10:101510126-101510153:+@exon:chr10:101514286-101514391:+</th>\n",
       "      <th>exon:chr10:101507014-101507147:+@exon:chr10:101514286-101514391:+@exon:chr10:101515382-101515465:+</th>\n",
       "      <th>exon:chr10:101997779-101997988:-@exon:chr10:101996607-101996726:-@exon:chr10:101995424-101995521:-</th>\n",
       "      <th>exon:chr10:102003455-102003534:-@exon:chr10:101997779-101997988:-@exon:chr10:101996607-101996726:-</th>\n",
       "      <th>exon:chr10:102013178-102013296:-@exon:chr10:102010005-102010089:-@exon:chr10:102006552-102006692:-</th>\n",
       "      <th>exon:chr10:102019975-102020076:-@exon:chr10:102016019-102016233:-@exon:chr10:102013178-102013296:-</th>\n",
       "      <th>exon:chr10:102020723-102020801:-@exon:chr10:102019975-102020076:-@exon:chr10:102016019-102016233:-</th>\n",
       "      <th>...</th>\n",
       "      <th>exon:chrY:15027542-15027686:+@exon:chrY:15027795-15027939:+@exon:chrY:15028173-15028354:+</th>\n",
       "      <th>exon:chrY:15028429-15028546:+@exon:chrY:15028819-15028972:+@exon:chrY:15029315-15029454:+</th>\n",
       "      <th>exon:chrY:15560897-15560946:-@exon:chrY:15526615-15526673:-@exon:chrY:15522873-15522993:-</th>\n",
       "      <th>exon:chrY:15591134-15591384:-@exon:chrY:15582001-15582109:-@exon:chrY:15560897-15560946:-</th>\n",
       "      <th>exon:chrY:22744476-22744579:+@exon:chrY:22746360-22746410:+@exon:chrY:22749910-22749991:+</th>\n",
       "      <th>exon:chrY:2709527-2709668:+@exon:chrY:2710206-2710283:+@exon:chrY:2712118-2712298:+</th>\n",
       "      <th>exon:chrY:2710206-2710283:+@exon:chrY:2712118-2712298:+@exon:chrY:2713687-2713784:+</th>\n",
       "      <th>exon:chrY:2712118-2712298:+@exon:chrY:2713687-2713784:+@exon:chrY:2722641-2722812:+</th>\n",
       "      <th>exon:chrY:2713687-2713784:+@exon:chrY:2722641-2722812:+@exon:chrY:2733129-2733286:+</th>\n",
       "      <th>exon:chrY:2722641-2722812:+@exon:chrY:2733129-2733286:+@exon:chrY:2734834-2734903:+</th>\n",
       "    </tr>\n",
       "  </thead>\n",
       "  <tbody>\n",
       "    <tr>\n",
       "      <th>M2nd_33</th>\n",
       "      <td>NaN</td>\n",
       "      <td>NaN</td>\n",
       "      <td>1.000000</td>\n",
       "      <td>0.781250</td>\n",
       "      <td>1.000000</td>\n",
       "      <td>1</td>\n",
       "      <td>1</td>\n",
       "      <td>NaN</td>\n",
       "      <td>NaN</td>\n",
       "      <td>NaN</td>\n",
       "      <td>...</td>\n",
       "      <td>1</td>\n",
       "      <td>1</td>\n",
       "      <td>1</td>\n",
       "      <td>NaN</td>\n",
       "      <td>1</td>\n",
       "      <td>1.00000</td>\n",
       "      <td>1</td>\n",
       "      <td>1</td>\n",
       "      <td>1</td>\n",
       "      <td>1.000000</td>\n",
       "    </tr>\n",
       "    <tr>\n",
       "      <th>M2nd_34</th>\n",
       "      <td>0</td>\n",
       "      <td>1</td>\n",
       "      <td>0.714286</td>\n",
       "      <td>0.757848</td>\n",
       "      <td>0.911765</td>\n",
       "      <td>1</td>\n",
       "      <td>1</td>\n",
       "      <td>1</td>\n",
       "      <td>1</td>\n",
       "      <td>1</td>\n",
       "      <td>...</td>\n",
       "      <td>1</td>\n",
       "      <td>1</td>\n",
       "      <td>NaN</td>\n",
       "      <td>1</td>\n",
       "      <td>1</td>\n",
       "      <td>0.99336</td>\n",
       "      <td>1</td>\n",
       "      <td>1</td>\n",
       "      <td>1</td>\n",
       "      <td>0.991952</td>\n",
       "    </tr>\n",
       "  </tbody>\n",
       "</table>\n",
       "<p>2 rows × 10953 columns</p>\n",
       "</div>"
      ],
      "text/plain": [
       "         exon:chr10:100190328-100190427:-@exon:chr10:100189548-100189646:-@exon:chr10:100189330-100189399:-  \\\n",
       "M2nd_33                                                NaN                                                    \n",
       "M2nd_34                                                  0                                                    \n",
       "\n",
       "         exon:chr10:101165513-101165617:-@exon:chr10:101163481-101163631:-@exon:chr10:101163226-101163391:-  \\\n",
       "M2nd_33                                                NaN                                                    \n",
       "M2nd_34                                                  1                                                    \n",
       "\n",
       "         exon:chr10:101480744-101480825:-@exon:chr10:101478103-101478257:-@exon:chr10:101476105-101476218:-  \\\n",
       "M2nd_33                                           1.000000                                                    \n",
       "M2nd_34                                           0.714286                                                    \n",
       "\n",
       "         exon:chr10:101507014-101507147:+@exon:chr10:101510126-101510153:+@exon:chr10:101514286-101514391:+  \\\n",
       "M2nd_33                                           0.781250                                                    \n",
       "M2nd_34                                           0.757848                                                    \n",
       "\n",
       "         exon:chr10:101507014-101507147:+@exon:chr10:101514286-101514391:+@exon:chr10:101515382-101515465:+  \\\n",
       "M2nd_33                                           1.000000                                                    \n",
       "M2nd_34                                           0.911765                                                    \n",
       "\n",
       "         exon:chr10:101997779-101997988:-@exon:chr10:101996607-101996726:-@exon:chr10:101995424-101995521:-  \\\n",
       "M2nd_33                                                  1                                                    \n",
       "M2nd_34                                                  1                                                    \n",
       "\n",
       "         exon:chr10:102003455-102003534:-@exon:chr10:101997779-101997988:-@exon:chr10:101996607-101996726:-  \\\n",
       "M2nd_33                                                  1                                                    \n",
       "M2nd_34                                                  1                                                    \n",
       "\n",
       "         exon:chr10:102013178-102013296:-@exon:chr10:102010005-102010089:-@exon:chr10:102006552-102006692:-  \\\n",
       "M2nd_33                                                NaN                                                    \n",
       "M2nd_34                                                  1                                                    \n",
       "\n",
       "         exon:chr10:102019975-102020076:-@exon:chr10:102016019-102016233:-@exon:chr10:102013178-102013296:-  \\\n",
       "M2nd_33                                                NaN                                                    \n",
       "M2nd_34                                                  1                                                    \n",
       "\n",
       "         exon:chr10:102020723-102020801:-@exon:chr10:102019975-102020076:-@exon:chr10:102016019-102016233:-  \\\n",
       "M2nd_33                                                NaN                                                    \n",
       "M2nd_34                                                  1                                                    \n",
       "\n",
       "                                                ...                                           \\\n",
       "M2nd_33                                         ...                                            \n",
       "M2nd_34                                         ...                                            \n",
       "\n",
       "         exon:chrY:15027542-15027686:+@exon:chrY:15027795-15027939:+@exon:chrY:15028173-15028354:+  \\\n",
       "M2nd_33                                                  1                                           \n",
       "M2nd_34                                                  1                                           \n",
       "\n",
       "         exon:chrY:15028429-15028546:+@exon:chrY:15028819-15028972:+@exon:chrY:15029315-15029454:+  \\\n",
       "M2nd_33                                                  1                                           \n",
       "M2nd_34                                                  1                                           \n",
       "\n",
       "         exon:chrY:15560897-15560946:-@exon:chrY:15526615-15526673:-@exon:chrY:15522873-15522993:-  \\\n",
       "M2nd_33                                                  1                                           \n",
       "M2nd_34                                                NaN                                           \n",
       "\n",
       "         exon:chrY:15591134-15591384:-@exon:chrY:15582001-15582109:-@exon:chrY:15560897-15560946:-  \\\n",
       "M2nd_33                                                NaN                                           \n",
       "M2nd_34                                                  1                                           \n",
       "\n",
       "         exon:chrY:22744476-22744579:+@exon:chrY:22746360-22746410:+@exon:chrY:22749910-22749991:+  \\\n",
       "M2nd_33                                                  1                                           \n",
       "M2nd_34                                                  1                                           \n",
       "\n",
       "         exon:chrY:2709527-2709668:+@exon:chrY:2710206-2710283:+@exon:chrY:2712118-2712298:+  \\\n",
       "M2nd_33                                            1.00000                                     \n",
       "M2nd_34                                            0.99336                                     \n",
       "\n",
       "         exon:chrY:2710206-2710283:+@exon:chrY:2712118-2712298:+@exon:chrY:2713687-2713784:+  \\\n",
       "M2nd_33                                                  1                                     \n",
       "M2nd_34                                                  1                                     \n",
       "\n",
       "         exon:chrY:2712118-2712298:+@exon:chrY:2713687-2713784:+@exon:chrY:2722641-2722812:+  \\\n",
       "M2nd_33                                                  1                                     \n",
       "M2nd_34                                                  1                                     \n",
       "\n",
       "         exon:chrY:2713687-2713784:+@exon:chrY:2722641-2722812:+@exon:chrY:2733129-2733286:+  \\\n",
       "M2nd_33                                                  1                                     \n",
       "M2nd_34                                                  1                                     \n",
       "\n",
       "         exon:chrY:2722641-2722812:+@exon:chrY:2733129-2733286:+@exon:chrY:2734834-2734903:+  \n",
       "M2nd_33                                           1.000000                                    \n",
       "M2nd_34                                           0.991952                                    \n",
       "\n",
       "[2 rows x 10953 columns]"
      ]
     },
     "execution_count": 10,
     "metadata": {},
     "output_type": "execute_result"
    }
   ],
   "source": [
    "ipsc_pooled = study.splicing.pooled.loc[ipsc_samples].dropna(how='all', axis=1).dropna(how='all', axis=0)\n",
    "print(ipsc_pooled.shape)\n",
    "ipsc_pooled.head()"
   ]
  },
  {
   "cell_type": "code",
   "execution_count": 11,
   "metadata": {
    "collapsed": true
   },
   "outputs": [],
   "source": [
    "from anchor import MODALITY_TO_COLOR"
   ]
  },
  {
   "cell_type": "code",
   "execution_count": 16,
   "metadata": {
    "collapsed": false
   },
   "outputs": [
    {
     "name": "stdout",
     "output_type": "stream",
     "text": [
      "Automatic pdb calling has been turned ON\n"
     ]
    }
   ],
   "source": [
    "%pdb"
   ]
  },
  {
   "cell_type": "code",
   "execution_count": 27,
   "metadata": {
    "collapsed": true
   },
   "outputs": [],
   "source": [
    "sns.set(context='paper', style='ticks')"
   ]
  },
  {
   "cell_type": "code",
   "execution_count": 47,
   "metadata": {
    "collapsed": false
   },
   "outputs": [
    {
     "name": "stdout",
     "output_type": "stream",
     "text": [
      "(59, 20) (2, 20)\n",
      "(59, 20) (2, 20)\n",
      "(59, 20) (2, 20)\n",
      "(59, 20) (2, 20)\n"
     ]
    },
    {
     "data": {
      "image/png": "[encoded data removed]",
      "text/plain": [
       "<matplotlib.figure.Figure at 0x2b902054ad90>"
      ]
     },
     "metadata": {},
     "output_type": "display_data"
    },
    {
     "data": {
      "image/png": "[encoded data removed]",
      "text/plain": [
       "<matplotlib.figure.Figure at 0x2b90211a6590>"
      ]
     },
     "metadata": {},
     "output_type": "display_data"
    },
    {
     "data": {
      "image/png": "[encoded data removed]",
      "text/plain": [
       "<matplotlib.figure.Figure at 0x2b9022f32250>"
      ]
     },
     "metadata": {},
     "output_type": "display_data"
    },
    {
     "data": {
      "image/png": "[encoded data removed]",
      "text/plain": [
       "<matplotlib.figure.Figure at 0x2b9023371e50>"
      ]
     },
     "metadata": {},
     "output_type": "display_data"
    }
   ],
   "source": [
    "np.random.seed(2023)\n",
    "\n",
    "size = 20\n",
    "\n",
    "for modality, df in modalities.groupby('modality'):\n",
    "    try:\n",
    "        random_events = np.random.choice(df['event_id'], size=size, replace=False)\n",
    "    except ValueError:\n",
    "        continue\n",
    "    \n",
    "    singles = ipsc_singles.loc[:, random_events]\n",
    "    pooled = ipsc_pooled.loc[:, random_events].fillna(-1)\n",
    "    \n",
    "    print(singles.shape, pooled.shape)\n",
    "    \n",
    "    fig, ax = plt.subplots(figsize=(4.5, 1.5))\n",
    "    \n",
    "    singles_color = MODALITY_TO_COLOR[modality]\n",
    "    \n",
    "    flotilla.visualize.splicing.lavalamp(pooled, color='black', ax=ax, markersize=10, \n",
    "                                         alpha=1, marker='^',\n",
    "                                         switchy_score_psi=singles)\n",
    "    flotilla.visualize.splicing.lavalamp(singles, color=singles_color, ax=ax, alpha=0.75, markersize=3)\n",
    "    ax.set(ylim=(-0.1, 1.1), title=modality)\n",
    "    fig.tight_layout()\n",
    "    fig.savefig('{}/{}_{}_{}events_lavalamp.pdf'.format(figure_folder, 'iPSC', modality, size))"
   ]
  },
  {
   "cell_type": "code",
   "execution_count": 54,
   "metadata": {
    "collapsed": false
   },
   "outputs": [
    {
     "data": {
      "text/html": [
       "<div>\n",
       "<table border=\"1\" class=\"dataframe\">\n",
       "  <thead>\n",
       "    <tr style=\"text-align: right;\">\n",
       "      <th></th>\n",
       "      <th>event_id</th>\n",
       "      <th>sample_id</th>\n",
       "      <th>Psi</th>\n",
       "      <th>cells</th>\n",
       "    </tr>\n",
       "  </thead>\n",
       "  <tbody>\n",
       "    <tr>\n",
       "      <th>0</th>\n",
       "      <td>exon:chr1:85725041-85725316:-@exon:chr1:857246...</td>\n",
       "      <td>M2nd_33</td>\n",
       "      <td>1.000000</td>\n",
       "      <td>pooled</td>\n",
       "    </tr>\n",
       "    <tr>\n",
       "      <th>1</th>\n",
       "      <td>exon:chr1:85725041-85725316:-@exon:chr1:857246...</td>\n",
       "      <td>M2nd_34</td>\n",
       "      <td>0.558140</td>\n",
       "      <td>pooled</td>\n",
       "    </tr>\n",
       "    <tr>\n",
       "      <th>2</th>\n",
       "      <td>exon:chr17:5326089-5326149:+@exon:chr17:532929...</td>\n",
       "      <td>M2nd_33</td>\n",
       "      <td>0.686567</td>\n",
       "      <td>pooled</td>\n",
       "    </tr>\n",
       "    <tr>\n",
       "      <th>3</th>\n",
       "      <td>exon:chr17:5326089-5326149:+@exon:chr17:532929...</td>\n",
       "      <td>M2nd_34</td>\n",
       "      <td>0.828221</td>\n",
       "      <td>pooled</td>\n",
       "    </tr>\n",
       "    <tr>\n",
       "      <th>4</th>\n",
       "      <td>exon:chr1:33099246-33099328:-@exon:chr1:330974...</td>\n",
       "      <td>M2nd_33</td>\n",
       "      <td>0.417722</td>\n",
       "      <td>pooled</td>\n",
       "    </tr>\n",
       "  </tbody>\n",
       "</table>\n",
       "</div>"
      ],
      "text/plain": [
       "                                            event_id sample_id       Psi  \\\n",
       "0  exon:chr1:85725041-85725316:-@exon:chr1:857246...   M2nd_33  1.000000   \n",
       "1  exon:chr1:85725041-85725316:-@exon:chr1:857246...   M2nd_34  0.558140   \n",
       "2  exon:chr17:5326089-5326149:+@exon:chr17:532929...   M2nd_33  0.686567   \n",
       "3  exon:chr17:5326089-5326149:+@exon:chr17:532929...   M2nd_34  0.828221   \n",
       "4  exon:chr1:33099246-33099328:-@exon:chr1:330974...   M2nd_33  0.417722   \n",
       "\n",
       "    cells  \n",
       "0  pooled  \n",
       "1  pooled  \n",
       "2  pooled  \n",
       "3  pooled  \n",
       "4  pooled  "
      ]
     },
     "execution_count": 54,
     "metadata": {},
     "output_type": "execute_result"
    }
   ],
   "source": [
    "pooled_tidy = pooled.unstack().reset_index()\n",
    "pooled_tidy = pooled_tidy.rename(columns={\"level_0\": 'event_id', 'level_1': 'sample_id', 0: 'Psi'})\n",
    "pooled_tidy['cells'] = 'pooled'\n",
    "pooled_tidy.head()"
   ]
  },
  {
   "cell_type": "code",
   "execution_count": 55,
   "metadata": {
    "collapsed": false
   },
   "outputs": [
    {
     "data": {
      "text/html": [
       "<div>\n",
       "<table border=\"1\" class=\"dataframe\">\n",
       "  <thead>\n",
       "    <tr style=\"text-align: right;\">\n",
       "      <th></th>\n",
       "      <th>event_id</th>\n",
       "      <th>sample_id</th>\n",
       "      <th>Psi</th>\n",
       "      <th>cells</th>\n",
       "    </tr>\n",
       "  </thead>\n",
       "  <tbody>\n",
       "    <tr>\n",
       "      <th>0</th>\n",
       "      <td>exon:chr1:85725041-85725316:-@exon:chr1:857246...</td>\n",
       "      <td>P1_01</td>\n",
       "      <td>1.000000</td>\n",
       "      <td>singles</td>\n",
       "    </tr>\n",
       "    <tr>\n",
       "      <th>1</th>\n",
       "      <td>exon:chr1:85725041-85725316:-@exon:chr1:857246...</td>\n",
       "      <td>P1_02</td>\n",
       "      <td>0.388988</td>\n",
       "      <td>singles</td>\n",
       "    </tr>\n",
       "    <tr>\n",
       "      <th>2</th>\n",
       "      <td>exon:chr1:85725041-85725316:-@exon:chr1:857246...</td>\n",
       "      <td>P1_03</td>\n",
       "      <td>0.404255</td>\n",
       "      <td>singles</td>\n",
       "    </tr>\n",
       "    <tr>\n",
       "      <th>3</th>\n",
       "      <td>exon:chr1:85725041-85725316:-@exon:chr1:857246...</td>\n",
       "      <td>P1_04</td>\n",
       "      <td>0.833333</td>\n",
       "      <td>singles</td>\n",
       "    </tr>\n",
       "    <tr>\n",
       "      <th>4</th>\n",
       "      <td>exon:chr1:85725041-85725316:-@exon:chr1:857246...</td>\n",
       "      <td>P1_05</td>\n",
       "      <td>0.617225</td>\n",
       "      <td>singles</td>\n",
       "    </tr>\n",
       "  </tbody>\n",
       "</table>\n",
       "</div>"
      ],
      "text/plain": [
       "                                            event_id sample_id       Psi  \\\n",
       "0  exon:chr1:85725041-85725316:-@exon:chr1:857246...     P1_01  1.000000   \n",
       "1  exon:chr1:85725041-85725316:-@exon:chr1:857246...     P1_02  0.388988   \n",
       "2  exon:chr1:85725041-85725316:-@exon:chr1:857246...     P1_03  0.404255   \n",
       "3  exon:chr1:85725041-85725316:-@exon:chr1:857246...     P1_04  0.833333   \n",
       "4  exon:chr1:85725041-85725316:-@exon:chr1:857246...     P1_05  0.617225   \n",
       "\n",
       "     cells  \n",
       "0  singles  \n",
       "1  singles  \n",
       "2  singles  \n",
       "3  singles  \n",
       "4  singles  "
      ]
     },
     "execution_count": 55,
     "metadata": {},
     "output_type": "execute_result"
    }
   ],
   "source": [
    "singles_tidy = singles.unstack().reset_index()\n",
    "singles_tidy = singles_tidy.rename(columns={\"level_0\": 'event_id', 'level_1': 'sample_id', 0: 'Psi'})\n",
    "singles_tidy['cells'] = 'singles'\n",
    "singles_tidy.head()"
   ]
  },
  {
   "cell_type": "code",
   "execution_count": 56,
   "metadata": {
    "collapsed": true
   },
   "outputs": [],
   "source": [
    "pooled_singles = pd.concat([singles_tidy, pooled_tidy], ignore_index=True)"
   ]
  },
  {
   "cell_type": "code",
   "execution_count": 57,
   "metadata": {
    "collapsed": false
   },
   "outputs": [
    {
     "data": {
      "text/plain": [
       "[[]]"
      ]
     },
     "execution_count": 57,
     "metadata": {},
     "output_type": "execute_result"
    },
    {
     "data": {
      "image/png": "[encoded data removed]",
      "text/plain": [
       "<matplotlib.figure.Figure at 0x2b902017ad90>"
      ]
     },
     "metadata": {},
     "output_type": "display_data"
    }
   ],
   "source": [
    "fig, ax = plt.subplots(figsize=(4.5, 1.5))\n",
    "\n",
    "sns.stripplot(x='event_id', y='Psi', data=pooled_singles, hue='cells')\n",
    "ax.set(xticks=[])"
   ]
  },
  {
   "cell_type": "code",
   "execution_count": 61,
   "metadata": {
    "collapsed": false
   },
   "outputs": [
    {
     "data": {
      "text/plain": [
       "[[]]"
      ]
     },
     "execution_count": 61,
     "metadata": {},
     "output_type": "execute_result"
    },
    {
     "data": {
      "image/png": "[encoded data removed]",
      "text/plain": [
       "<matplotlib.figure.Figure at 0x2b90234b9950>"
      ]
     },
     "metadata": {},
     "output_type": "display_data"
    }
   ],
   "source": [
    "fig, ax = plt.subplots(figsize=(20, 1.5))\n",
    "\n",
    "sns.swarmplot(x='event_id', y='Psi', data=pooled_singles, hue='cells', palette=[singles_color, 'k'])\n",
    "ax.set(xticks=[])"
   ]
  },
  {
   "cell_type": "code",
   "execution_count": 94,
   "metadata": {
    "collapsed": false
   },
   "outputs": [
    {
     "data": {
      "text/plain": [
       "[singles, singles, singles, singles, singles, ..., pooled, pooled, pooled, pooled, pooled]\n",
       "Length: 610\n",
       "Categories (2, object): [singles < pooled]"
      ]
     },
     "execution_count": 94,
     "metadata": {},
     "output_type": "execute_result"
    }
   ],
   "source": [
    "pooled_singles['cells'] = pd.Categorical(pooled_singles['cells'], categories=['singles', 'pooled'], ordered=True)"
   ]
  },
  {
   "cell_type": "code",
   "execution_count": 96,
   "metadata": {
    "collapsed": false
   },
   "outputs": [
    {
     "name": "stdout",
     "output_type": "stream",
     "text": [
      "(3438, 3)\n",
      "(2319, 3)\n",
      "(59, 10) (2, 10)\n",
      "(2293, 3)\n",
      "(1993, 3)\n",
      "(59, 10) (2, 10)\n",
      "(6105, 3)\n",
      "(5301, 3)\n",
      "(59, 10) (2, 10)\n",
      "(1, 3)\n",
      "(1, 3)\n",
      "(34, 3)\n",
      "(34, 3)\n",
      "(59, 10) (2, 10)\n"
     ]
    },
    {
     "data": {
      "image/png": "[encoded data removed]",
      "text/plain": [
       "<matplotlib.figure.Figure at 0x2b902095af10>"
      ]
     },
     "metadata": {},
     "output_type": "display_data"
    },
    {
     "data": {
      "image/png": "[encoded data removed]",
      "text/plain": [
       "<matplotlib.figure.Figure at 0x2b902095a850>"
      ]
     },
     "metadata": {},
     "output_type": "display_data"
    },
    {
     "data": {
      "image/png": "[encoded data removed]",
      "text/plain": [
       "<matplotlib.figure.Figure at 0x2b9020ff3dd0>"
      ]
     },
     "metadata": {},
     "output_type": "display_data"
    },
    {
     "data": {
      "image/png": "[encoded data removed]",
      "text/plain": [
       "<matplotlib.figure.Figure at 0x2b9026b0f790>"
      ]
     },
     "metadata": {},
     "output_type": "display_data"
    }
   ],
   "source": [
    "np.random.seed(2016)\n",
    "\n",
    "size = 10\n",
    "\n",
    "for modality, df in modalities.groupby('modality'):\n",
    "    print(df.shape)\n",
    "    df = df.query('event_id in @ipsc_pooled.columns')\n",
    "    print(df.shape)\n",
    "    try:\n",
    "        random_events = np.random.choice(df['event_id'], size=size, replace=False)\n",
    "    except ValueError:\n",
    "        continue\n",
    "    \n",
    "    singles = ipsc_singles.loc[:, random_events]\n",
    "    pooled = ipsc_pooled.loc[:, random_events].fillna(-.1)\n",
    "    \n",
    "    print(singles.shape, pooled.shape)\n",
    "    \n",
    "    pooled_tidy = pooled.unstack().reset_index()\n",
    "    pooled_tidy = pooled_tidy.rename(columns={\"level_0\": 'event_id', 'level_1': 'sample_id', 0: 'Psi'})\n",
    "    pooled_tidy['cells'] = 'pooled'\n",
    "    \n",
    "    singles_tidy = singles.unstack().reset_index()\n",
    "    singles_tidy = singles_tidy.rename(columns={\"level_0\": 'event_id', 'level_1': 'sample_id', 0: 'Psi'})\n",
    "    singles_tidy['cells'] = 'singles'\n",
    "    \n",
    "    order = singles.columns[flotilla.visualize.splicing.get_switchy_score_order(singles)]\n",
    "    \n",
    "    pooled_singles = pd.concat([singles_tidy, pooled_tidy], ignore_index=True)\n",
    "    pooled_singles['cells'] = pd.Categorical(pooled_singles['cells'], categories=['singles', 'pooled'], ordered=True)\n",
    "    \n",
    "#     fig, ax = plt.subplots(figsize=(4.5, 1.5))\n",
    "    \n",
    "    singles_color = MODALITY_TO_COLOR[modality]\n",
    "    \n",
    "    fig, ax = plt.subplots(figsize=(8, 1.5))\n",
    "    palette = [singles_color, 'k']\n",
    "\n",
    "    for (cells, cell_df), color in zip(pooled_singles.groupby('cells'), palette):\n",
    "        sns.swarmplot(x='event_id', y='Psi', data=cell_df, color=color, size=3,\n",
    "                      order=order)\n",
    "    ax.set(xticks=[])\n",
    "    ax.set(ylim=(-0.05, 1.05), title=modality)\n",
    "    fig.tight_layout()\n",
    "    fig.savefig('{}/{}_{}_{}events_swarmplot.pdf'.format(figure_folder, 'iPSC', modality, size))\n",
    "    \n",
    "#     ax.legend_.set_visible(False)\n",
    "    sns.despine()\n",
    "    fig.savefig('{}/{}_{}_{}events_swarmplot_no_legend.pdf'.format(figure_folder, 'iPSC', modality, size))"
   ]
  },
  {
   "cell_type": "code",
   "execution_count": null,
   "metadata": {
    "collapsed": false
   },
   "outputs": [],
   "source": [
    "singles.columns[flotilla.visualize.splicing.get_switchy_score_order(singles)]"
   ]
  },
  {
   "cell_type": "code",
   "execution_count": 87,
   "metadata": {
    "collapsed": false
   },
   "outputs": [
    {
     "data": {
      "text/plain": [
       "[0, 1, 2]"
      ]
     },
     "execution_count": 87,
     "metadata": {},
     "output_type": "execute_result"
    }
   ],
   "source": [
    "range(3)"
   ]
  },
  {
   "cell_type": "code",
   "execution_count": null,
   "metadata": {
    "collapsed": true
   },
   "outputs": [],
   "source": []
  }
 ],
 "metadata": {
  "kernelspec": {
   "display_name": "Python 2",
   "language": "python",
   "name": "python2"
  }
 },
 "nbformat": 4,
 "nbformat_minor": 0
}
