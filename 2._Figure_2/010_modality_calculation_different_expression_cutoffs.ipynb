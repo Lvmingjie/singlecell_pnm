{
 "cells": [
  {
   "cell_type": "code",
   "execution_count": 2,
   "metadata": {
    "collapsed": true
   },
   "outputs": [],
   "source": [
    "from __future__ import print_function"
   ]
  },
  {
   "cell_type": "code",
   "execution_count": 3,
   "metadata": {
    "collapsed": false
   },
   "outputs": [
    {
     "name": "stderr",
     "output_type": "stream",
     "text": [
      "/home/obotvinnik/anaconda/lib/python2.7/site-packages/sklearn/cross_validation.py:44: DeprecationWarning: This module was deprecated in version 0.18 in favor of the model_selection module into which all the refactored classes and functions are moved. Also note that the interface of the new CV iterators are different from that of this module. This module will be removed in 0.20.\n",
      "  \"This module will be removed in 0.20.\", DeprecationWarning)\n",
      "/home/obotvinnik/workspace-git/flotilla/flotilla/__init__.py:65: DtypeWarning: Columns (19) have mixed types. Specify dtype option on import or set low_memory=False.\n",
      "  load_species_data=load_species_data)\n"
     ]
    },
    {
     "name": "stdout",
     "output_type": "stream",
     "text": [
      "2016-11-04 17:37:39\tReading datapackage from /projects/ps-yeolab/obotvinnik/flotilla_projects/singlecell_pnm_figure1_supplementary_post_splicing_filtering/datapackage.json\n",
      "2016-11-04 17:37:39\tParsing datapackage to create a Study object\n",
      "https://s3-us-west-2.amazonaws.com/flotilla-projects/ercc/ERCC_Controls.txt has not been downloaded before.\n",
      "\tDownloading now to /home/obotvinnik/flotilla_projects/hg19/ERCC_Controls.txt\n",
      "2016-11-04 17:38:00 \tInitializing Study\n",
      "2016-11-04 17:38:00 \tInitializing Predictor configuration manager for Study\n",
      "2016-11-04 17:38:00\tPredictor ExtraTreesClassifier is of type <class 'sklearn.ensemble.forest.ExtraTreesClassifier'>\n",
      "2016-11-04 17:38:00\tAdded ExtraTreesClassifier to default predictors\n",
      "2016-11-04 17:38:00\tPredictor ExtraTreesRegressor is of type <class 'sklearn.ensemble.forest.ExtraTreesRegressor'>\n",
      "2016-11-04 17:38:00\tAdded ExtraTreesRegressor to default predictors\n",
      "2016-11-04 17:38:00\tPredictor GradientBoostingClassifier is of type <class 'sklearn.ensemble.gradient_boosting.GradientBoostingClassifier'>\n",
      "2016-11-04 17:38:00\tAdded GradientBoostingClassifier to default predictors\n",
      "2016-11-04 17:38:00\tPredictor GradientBoostingRegressor is of type <class 'sklearn.ensemble.gradient_boosting.GradientBoostingRegressor'>\n",
      "2016-11-04 17:38:00\tAdded GradientBoostingRegressor to default predictors\n",
      "2016-11-04 17:38:04 \tBuilding Gene Ontology database...\n",
      "2016-11-04 17:38:10 \t\tDone\n",
      "2016-11-04 17:38:11 \tLoading metadata\n",
      "2016-11-04 17:38:11\tLoading expression data\n",
      "2016-11-04 17:38:11\tInitializing expression\n",
      "2016-11-04 17:38:11\tDone initializing expression\n",
      "2016-11-04 17:38:13\tLoading splicing data\n",
      "2016-11-04 17:38:13\tInitializing splicing\n",
      "2016-11-04 17:38:13\tDone initializing splicing\n",
      "2016-11-04 17:38:13\tSuccessfully initialized a Study object!\n"
     ]
    },
    {
     "name": "stderr",
     "output_type": "stream",
     "text": [
      "Error loading species hg19 data: HTTP Error 404: Not Found"
     ]
    }
   ],
   "source": [
    "%load_ext autoreload\n",
    "%autoreload 2\n",
    "\n",
    "import matplotlib.pyplot as plt\n",
    "import seaborn as sns\n",
    "import numpy as np\n",
    "import pandas as pd\n",
    "\n",
    "sns.set(style='ticks', context='paper', rc={'font.sans-serif':'Arial', 'pdf.fonttype': 42})\n",
    "\n",
    "%matplotlib inline\n",
    "\n",
    "import flotilla\n",
    "\n",
    "\n",
    "flotilla_dir = '/projects/ps-yeolab/obotvinnik/flotilla_projects'\n",
    "\n",
    "study = flotilla.embark('singlecell_pnm_figure1_supplementary_post_splicing_filtering', flotilla_dir=flotilla_dir)\n",
    "\n",
    "not_outliers = study.splicing.singles.index.difference(study.splicing.outliers.index)\n"
   ]
  },
  {
   "cell_type": "code",
   "execution_count": 4,
   "metadata": {
    "collapsed": false
   },
   "outputs": [
    {
     "name": "stdout",
     "output_type": "stream",
     "text": [
      "mkdir: cannot create directory `figures/010_modality_calculation_different_expression_cutoffs': File exists\r\n"
     ]
    }
   ],
   "source": [
    "folder = 'figures/010_modality_calculation_different_expression_cutoffs' #'/home/obotvinnik/Dropbox/figures2/singlecell_pnm/figure2_modalities/bayesian'\n",
    "! mkdir $folder"
   ]
  },
  {
   "cell_type": "code",
   "execution_count": 5,
   "metadata": {
    "collapsed": false
   },
   "outputs": [
    {
     "name": "stdout",
     "output_type": "stream",
     "text": [
      "(181,)\n"
     ]
    }
   ],
   "source": [
    "singles_no_outliers = study.splicing.singles.ix[not_outliers].index\n",
    "print(singles_no_outliers.shape)"
   ]
  },
  {
   "cell_type": "code",
   "execution_count": 6,
   "metadata": {
    "collapsed": false
   },
   "outputs": [
    {
     "name": "stdout",
     "output_type": "stream",
     "text": [
      "(1187483, 5)\n"
     ]
    },
    {
     "data": {
      "text/html": [
       "<div>\n",
       "<table border=\"1\" class=\"dataframe\">\n",
       "  <thead>\n",
       "    <tr style=\"text-align: right;\">\n",
       "      <th></th>\n",
       "      <th>event_name</th>\n",
       "      <th>sample_id</th>\n",
       "      <th>psi</th>\n",
       "      <th>common_id</th>\n",
       "      <th>expression</th>\n",
       "    </tr>\n",
       "  </thead>\n",
       "  <tbody>\n",
       "    <tr>\n",
       "      <th>0</th>\n",
       "      <td>exon:chr10:100190328-100190427:-@exon:chr10:10...</td>\n",
       "      <td>CVN_35</td>\n",
       "      <td>1</td>\n",
       "      <td>ENSG00000107521</td>\n",
       "      <td>7.647958</td>\n",
       "    </tr>\n",
       "    <tr>\n",
       "      <th>1</th>\n",
       "      <td>exon:chr10:100195392-100195529:-@exon:chr10:10...</td>\n",
       "      <td>CVN_35</td>\n",
       "      <td>1</td>\n",
       "      <td>ENSG00000107521</td>\n",
       "      <td>7.647958</td>\n",
       "    </tr>\n",
       "    <tr>\n",
       "      <th>2</th>\n",
       "      <td>exon:chr10:100190328-100190427:-@exon:chr10:10...</td>\n",
       "      <td>M2nd_34</td>\n",
       "      <td>0</td>\n",
       "      <td>ENSG00000107521</td>\n",
       "      <td>14.195169</td>\n",
       "    </tr>\n",
       "    <tr>\n",
       "      <th>3</th>\n",
       "      <td>exon:chr10:100190328-100190427:-@exon:chr10:10...</td>\n",
       "      <td>P1_06</td>\n",
       "      <td>1</td>\n",
       "      <td>ENSG00000107521</td>\n",
       "      <td>3.086260</td>\n",
       "    </tr>\n",
       "    <tr>\n",
       "      <th>4</th>\n",
       "      <td>exon:chr10:100193697-100193848:-@exon:chr10:10...</td>\n",
       "      <td>P1_06</td>\n",
       "      <td>1</td>\n",
       "      <td>ENSG00000107521</td>\n",
       "      <td>3.086260</td>\n",
       "    </tr>\n",
       "  </tbody>\n",
       "</table>\n",
       "</div>"
      ],
      "text/plain": [
       "                                          event_name sample_id  psi  \\\n",
       "0  exon:chr10:100190328-100190427:-@exon:chr10:10...    CVN_35    1   \n",
       "1  exon:chr10:100195392-100195529:-@exon:chr10:10...    CVN_35    1   \n",
       "2  exon:chr10:100190328-100190427:-@exon:chr10:10...   M2nd_34    0   \n",
       "3  exon:chr10:100190328-100190427:-@exon:chr10:10...     P1_06    1   \n",
       "4  exon:chr10:100193697-100193848:-@exon:chr10:10...     P1_06    1   \n",
       "\n",
       "         common_id  expression  \n",
       "0  ENSG00000107521    7.647958  \n",
       "1  ENSG00000107521    7.647958  \n",
       "2  ENSG00000107521   14.195169  \n",
       "3  ENSG00000107521    3.086260  \n",
       "4  ENSG00000107521    3.086260  "
      ]
     },
     "execution_count": 6,
     "metadata": {},
     "output_type": "execute_result"
    }
   ],
   "source": [
    "tidy_splicing = study.tidy_splicing_with_expression\n",
    "print(tidy_splicing.shape)\n",
    "tidy_splicing.head()"
   ]
  },
  {
   "cell_type": "code",
   "execution_count": 7,
   "metadata": {
    "collapsed": false
   },
   "outputs": [
    {
     "name": "stdout",
     "output_type": "stream",
     "text": [
      "(1013383, 5)\n"
     ]
    },
    {
     "data": {
      "text/html": [
       "<div>\n",
       "<table border=\"1\" class=\"dataframe\">\n",
       "  <thead>\n",
       "    <tr style=\"text-align: right;\">\n",
       "      <th></th>\n",
       "      <th>event_name</th>\n",
       "      <th>sample_id</th>\n",
       "      <th>psi</th>\n",
       "      <th>common_id</th>\n",
       "      <th>expression</th>\n",
       "    </tr>\n",
       "  </thead>\n",
       "  <tbody>\n",
       "    <tr>\n",
       "      <th>3</th>\n",
       "      <td>exon:chr10:100190328-100190427:-@exon:chr10:10...</td>\n",
       "      <td>P1_06</td>\n",
       "      <td>1</td>\n",
       "      <td>ENSG00000107521</td>\n",
       "      <td>3.08626</td>\n",
       "    </tr>\n",
       "    <tr>\n",
       "      <th>4</th>\n",
       "      <td>exon:chr10:100193697-100193848:-@exon:chr10:10...</td>\n",
       "      <td>P1_06</td>\n",
       "      <td>1</td>\n",
       "      <td>ENSG00000107521</td>\n",
       "      <td>3.08626</td>\n",
       "    </tr>\n",
       "    <tr>\n",
       "      <th>5</th>\n",
       "      <td>exon:chr10:100195392-100195529:-@exon:chr10:10...</td>\n",
       "      <td>P1_06</td>\n",
       "      <td>0</td>\n",
       "      <td>ENSG00000107521</td>\n",
       "      <td>3.08626</td>\n",
       "    </tr>\n",
       "    <tr>\n",
       "      <th>6</th>\n",
       "      <td>exon:chr10:100190328-100190427:-@exon:chr10:10...</td>\n",
       "      <td>P1_10</td>\n",
       "      <td>0</td>\n",
       "      <td>ENSG00000107521</td>\n",
       "      <td>22.27229</td>\n",
       "    </tr>\n",
       "    <tr>\n",
       "      <th>7</th>\n",
       "      <td>exon:chr10:100195392-100195529:-@exon:chr10:10...</td>\n",
       "      <td>P1_10</td>\n",
       "      <td>1</td>\n",
       "      <td>ENSG00000107521</td>\n",
       "      <td>22.27229</td>\n",
       "    </tr>\n",
       "  </tbody>\n",
       "</table>\n",
       "</div>"
      ],
      "text/plain": [
       "                                          event_name sample_id  psi  \\\n",
       "3  exon:chr10:100190328-100190427:-@exon:chr10:10...     P1_06    1   \n",
       "4  exon:chr10:100193697-100193848:-@exon:chr10:10...     P1_06    1   \n",
       "5  exon:chr10:100195392-100195529:-@exon:chr10:10...     P1_06    0   \n",
       "6  exon:chr10:100190328-100190427:-@exon:chr10:10...     P1_10    0   \n",
       "7  exon:chr10:100195392-100195529:-@exon:chr10:10...     P1_10    1   \n",
       "\n",
       "         common_id  expression  \n",
       "3  ENSG00000107521     3.08626  \n",
       "4  ENSG00000107521     3.08626  \n",
       "5  ENSG00000107521     3.08626  \n",
       "6  ENSG00000107521    22.27229  \n",
       "7  ENSG00000107521    22.27229  "
      ]
     },
     "execution_count": 7,
     "metadata": {},
     "output_type": "execute_result"
    }
   ],
   "source": [
    "tidy_splicing_singles = tidy_splicing.query('sample_id in @singles_no_outliers')\n",
    "print(tidy_splicing_singles.shape)\n",
    "tidy_splicing_singles.head()"
   ]
  },
  {
   "cell_type": "markdown",
   "metadata": {},
   "source": [
    "## Use only events residing in genes with corresponding gene expression log2(TPM+1) > 10\n",
    "\n",
    "Check if expression is logged"
   ]
  },
  {
   "cell_type": "code",
   "execution_count": 8,
   "metadata": {
    "collapsed": false
   },
   "outputs": [
    {
     "data": {
      "image/png": "[encoded data removed]",
      "text/plain": [
       "<matplotlib.figure.Figure at 0x2aaf8d43f810>"
      ]
     },
     "metadata": {},
     "output_type": "display_data"
    }
   ],
   "source": [
    "fig, ax = plt.subplots(figsize=(2, 2))\n",
    "sns.distplot(tidy_splicing['expression'])\n",
    "sns.despine()"
   ]
  },
  {
   "cell_type": "markdown",
   "metadata": {},
   "source": [
    "Nope, not logged. So need to log in our data"
   ]
  },
  {
   "cell_type": "markdown",
   "metadata": {},
   "source": [
    "## Calculate/Estimate modalities only on single cells, with no outliers\n",
    "\n",
    "And at least 10 cells per splicing event, per celltype/phenotype"
   ]
  },
  {
   "cell_type": "code",
   "execution_count": 9,
   "metadata": {
    "collapsed": true
   },
   "outputs": [],
   "source": [
    "from anchor import MODALITY_ORDER, MODALITY_PALETTE, MODALITY_TO_COLOR\n",
    "\n",
    "def tidify_modalities(modality_assignments, name='event_id'):\n",
    "    modalities_tidy = modality_assignments.stack().reset_index()\n",
    "    modalities_tidy = modalities_tidy.rename(columns={'level_1': name, 0: \"modality\"})\n",
    "    return modalities_tidy\n",
    "\n",
    "def count_modalities(tidy_modalities, name='event_id'):\n",
    "    modalities_counts = tidy_modalities.groupby(['phenotype', 'modality']).count().reset_index()\n",
    "    modalities_counts = modalities_counts.rename(columns={name: '# AS events'})\n",
    "    modalities_counts['percentage'] = 100*modalities_counts.groupby('phenotype')['# AS events'].apply(lambda x: x/x.sum())\n",
    "    return modalities_counts\n",
    "\n",
    "def count_modalities_2d(modalities_counts, index='phenotype'):\n",
    "    modalities_counts_2d = modalities_counts.pivot(index=index, columns='modality', values='# AS events')\n",
    "    modalities_counts_2d = modalities_counts_2d.reindex(columns=MODALITY_ORDER, index=study.phenotype_order)\n",
    "    modalities_counts_2d = modalities_counts_2d.T\n",
    "    return modalities_counts_2d"
   ]
  },
  {
   "cell_type": "markdown",
   "metadata": {},
   "source": [
    "## Do simulations across multiple log2(TPM+1) cutoffs"
   ]
  },
  {
   "cell_type": "code",
   "execution_count": 10,
   "metadata": {
    "collapsed": false
   },
   "outputs": [
    {
     "data": {
      "text/plain": [
       "count    1013383.000000\n",
       "mean           6.694066\n",
       "std            2.582636\n",
       "min            0.000000\n",
       "25%            5.593945\n",
       "50%            7.084301\n",
       "75%            8.351934\n",
       "max           15.293171\n",
       "Name: expression, dtype: float64"
      ]
     },
     "execution_count": 10,
     "metadata": {},
     "output_type": "execute_result"
    }
   ],
   "source": [
    "np.log2(tidy_splicing_singles['expression']+1).describe()"
   ]
  },
  {
   "cell_type": "code",
   "execution_count": 11,
   "metadata": {
    "collapsed": false,
    "scrolled": false
   },
   "outputs": [
    {
     "name": "stdout",
     "output_type": "stream",
     "text": [
      "1\n",
      "\ttidy_splicing_filtered.shape: (1099012, 5)\n",
      "\ttidy_splicing_filtered_no_duplicates.shape (977082, 5)\n",
      "\tsplicing_2d.shape (204, 16360)\n",
      "\tsplicing_2d_min_samples.shape (204, 13645)\n",
      "2\n",
      "\ttidy_splicing_filtered.shape: (1090334, 5)\n",
      "\ttidy_splicing_filtered_no_duplicates.shape (973335, 5)\n",
      "\tsplicing_2d.shape (204, 16360)\n",
      "\tsplicing_2d_min_samples.shape (204, 13571)\n",
      "3\n",
      "\ttidy_splicing_filtered.shape: (1071738, 5)\n",
      "\ttidy_splicing_filtered_no_duplicates.shape (961258, 5)\n",
      "\tsplicing_2d.shape (204, 16360)\n",
      "\tsplicing_2d_min_samples.shape (204, 13380)\n",
      "4\n",
      "\ttidy_splicing_filtered.shape: (1030905, 5)\n",
      "\ttidy_splicing_filtered_no_duplicates.shape (929785, 5)\n",
      "\tsplicing_2d.shape (204, 16360)\n",
      "\tsplicing_2d_min_samples.shape (204, 12947)\n",
      "5\n",
      "\ttidy_splicing_filtered.shape: (946323, 5)\n",
      "\ttidy_splicing_filtered_no_duplicates.shape (857926, 5)\n",
      "\tsplicing_2d.shape (204, 16358)\n",
      "\tsplicing_2d_min_samples.shape (204, 12074)\n",
      "6\n",
      "\ttidy_splicing_filtered.shape: (800089, 5)\n",
      "\ttidy_splicing_filtered_no_duplicates.shape (728011, 5)\n",
      "\tsplicing_2d.shape (204, 16329)\n",
      "\tsplicing_2d_min_samples.shape (204, 10351)\n",
      "7\n",
      "\ttidy_splicing_filtered.shape: (588990, 5)\n",
      "\ttidy_splicing_filtered_no_duplicates.shape (535103, 5)\n",
      "\tsplicing_2d.shape (204, 16065)\n",
      "\tsplicing_2d_min_samples.shape (204, 7541)\n",
      "8\n",
      "\ttidy_splicing_filtered.shape: (356846, 5)\n",
      "\ttidy_splicing_filtered_no_duplicates.shape (321277, 5)\n",
      "\tsplicing_2d.shape (204, 14360)\n",
      "\tsplicing_2d_min_samples.shape (204, 4444)\n",
      "9\n",
      "\ttidy_splicing_filtered.shape: (174055, 5)\n",
      "\ttidy_splicing_filtered_no_duplicates.shape (153942, 5)\n",
      "\tsplicing_2d.shape (204, 9876)\n",
      "\tsplicing_2d_min_samples.shape (204, 2009)\n",
      "10\n",
      "\ttidy_splicing_filtered.shape: (68447, 5)\n",
      "\ttidy_splicing_filtered_no_duplicates.shape (61147, 5)\n",
      "\tsplicing_2d.shape (204, 4851)\n",
      "\tsplicing_2d_min_samples.shape (204, 801)\n",
      "11\n",
      "\ttidy_splicing_filtered.shape: (21889, 5)\n",
      "\ttidy_splicing_filtered_no_duplicates.shape (20591, 5)\n",
      "\tsplicing_2d.shape (204, 1611)\n",
      "\tsplicing_2d_min_samples.shape (204, 317)\n",
      "12\n",
      "\ttidy_splicing_filtered.shape: (5700, 5)\n",
      "\ttidy_splicing_filtered_no_duplicates.shape (5409, 5)\n",
      "\tsplicing_2d.shape (204, 398)\n",
      "\tsplicing_2d_min_samples.shape (204, 119)\n",
      "13\n",
      "\ttidy_splicing_filtered.shape: (659, 5)\n",
      "\ttidy_splicing_filtered_no_duplicates.shape (636, 5)\n",
      "\tsplicing_2d.shape (177, 114)\n",
      "\tsplicing_2d_min_samples.shape (177, 12)\n",
      "14\n",
      "\ttidy_splicing_filtered.shape: (73, 5)\n",
      "\ttidy_splicing_filtered_no_duplicates.shape (73, 5)\n",
      "\tsplicing_2d.shape (34, 13)\n",
      "\tsplicing_2d_min_samples.shape (34, 2)\n",
      "CPU times: user 1h 35min 11s, sys: 740 ms, total: 1h 35min 12s\n",
      "Wall time: 1h 35min 8s\n"
     ]
    }
   ],
   "source": [
    "%%time\n",
    "\n",
    "import anchor\n",
    "\n",
    "bayesian = anchor.BayesianModalities()\n",
    "\n",
    "cutoffs = range(1, 15)\n",
    "\n",
    "dfs = []\n",
    "\n",
    "for cutoff in cutoffs:\n",
    "    print(cutoff)\n",
    "    \n",
    "    tidy_splicing_filtered = tidy_splicing.query('expression - 1 > 2**@cutoff')\n",
    "    print('\\ttidy_splicing_filtered.shape:', tidy_splicing_filtered.shape)\n",
    "    tidy_splicing_filtered.head()\n",
    "    \n",
    "    tidy_splicing_filtered_no_duplicates = tidy_splicing_filtered.drop_duplicates(subset=['event_name', 'sample_id'])\n",
    "    print('\\ttidy_splicing_filtered_no_duplicates.shape', tidy_splicing_filtered_no_duplicates.shape)\n",
    "    tidy_splicing_filtered_no_duplicates.head()\n",
    "    \n",
    "    splicing_2d = tidy_splicing_filtered_no_duplicates.pivot(index='sample_id', columns='event_name', values='psi')\n",
    "    print('\\tsplicing_2d.shape', splicing_2d.shape)\n",
    "    splicing_2d.head()\n",
    "    \n",
    "    splicing_2d_min_samples = splicing_2d.groupby(\n",
    "        study.sample_id_to_phenotype).apply(lambda x: x.dropna(thresh=study.splicing.minimum_samples, axis=1))\n",
    "    print('\\tsplicing_2d_min_samples.shape', splicing_2d_min_samples.shape)\n",
    "    splicing_2d_min_samples.head()\n",
    "    \n",
    "    modality_assignments = splicing_2d_min_samples.groupby(study.sample_id_to_phenotype).apply(bayesian.fit_predict)\n",
    "    \n",
    "    tidy = tidify_modalities(modality_assignments)\n",
    "    counts = count_modalities(tidy)\n",
    "    counts['log2(TPM+1) cutoff'] = cutoff\n",
    "    dfs.append(counts)\n",
    "#     counts_2d = count_modalities_2d(counts)"
   ]
  },
  {
   "cell_type": "code",
   "execution_count": 12,
   "metadata": {
    "collapsed": false
   },
   "outputs": [
    {
     "data": {
      "text/plain": [
       "(3, 2)"
      ]
     },
     "execution_count": 12,
     "metadata": {},
     "output_type": "execute_result"
    }
   ],
   "source": [
    "modality_assignments.shape"
   ]
  },
  {
   "cell_type": "code",
   "execution_count": 13,
   "metadata": {
    "collapsed": false
   },
   "outputs": [
    {
     "name": "stdout",
     "output_type": "stream",
     "text": [
      "(159, 5)\n"
     ]
    },
    {
     "data": {
      "text/html": [
       "<div>\n",
       "<table border=\"1\" class=\"dataframe\">\n",
       "  <thead>\n",
       "    <tr style=\"text-align: right;\">\n",
       "      <th></th>\n",
       "      <th>phenotype</th>\n",
       "      <th>modality</th>\n",
       "      <th># AS events</th>\n",
       "      <th>percentage</th>\n",
       "      <th>log2(TPM+1) cutoff</th>\n",
       "    </tr>\n",
       "  </thead>\n",
       "  <tbody>\n",
       "    <tr>\n",
       "      <th>0</th>\n",
       "      <td>MN</td>\n",
       "      <td>bimodal</td>\n",
       "      <td>2276</td>\n",
       "      <td>27.405178</td>\n",
       "      <td>1</td>\n",
       "    </tr>\n",
       "    <tr>\n",
       "      <th>1</th>\n",
       "      <td>MN</td>\n",
       "      <td>excluded</td>\n",
       "      <td>1704</td>\n",
       "      <td>20.517760</td>\n",
       "      <td>1</td>\n",
       "    </tr>\n",
       "    <tr>\n",
       "      <th>2</th>\n",
       "      <td>MN</td>\n",
       "      <td>included</td>\n",
       "      <td>4322</td>\n",
       "      <td>52.040939</td>\n",
       "      <td>1</td>\n",
       "    </tr>\n",
       "    <tr>\n",
       "      <th>3</th>\n",
       "      <td>MN</td>\n",
       "      <td>uncategorized</td>\n",
       "      <td>3</td>\n",
       "      <td>0.036123</td>\n",
       "      <td>1</td>\n",
       "    </tr>\n",
       "    <tr>\n",
       "      <th>4</th>\n",
       "      <td>NPC</td>\n",
       "      <td>bimodal</td>\n",
       "      <td>2673</td>\n",
       "      <td>27.359263</td>\n",
       "      <td>1</td>\n",
       "    </tr>\n",
       "  </tbody>\n",
       "</table>\n",
       "</div>"
      ],
      "text/plain": [
       "  phenotype       modality  # AS events  percentage  log2(TPM+1) cutoff\n",
       "0        MN        bimodal         2276   27.405178                   1\n",
       "1        MN       excluded         1704   20.517760                   1\n",
       "2        MN       included         4322   52.040939                   1\n",
       "3        MN  uncategorized            3    0.036123                   1\n",
       "4       NPC        bimodal         2673   27.359263                   1"
      ]
     },
     "execution_count": 13,
     "metadata": {},
     "output_type": "execute_result"
    }
   ],
   "source": [
    "modalities_cutoffs = pd.concat(dfs, ignore_index=True)\n",
    "print(modalities_cutoffs.shape)\n",
    "modalities_cutoffs.head()\n"
   ]
  },
  {
   "cell_type": "code",
   "execution_count": 34,
   "metadata": {
    "collapsed": false
   },
   "outputs": [
    {
     "data": {
      "text/plain": [
       "phenotype                      iPSC\n",
       "modality              uncategorized\n",
       "# AS events                    6261\n",
       "% of AS events                  100\n",
       "log2(TPM+1) cutoff               14\n",
       "dtype: object"
      ]
     },
     "execution_count": 34,
     "metadata": {},
     "output_type": "execute_result"
    }
   ],
   "source": [
    "modalities_cutoffs.max()"
   ]
  },
  {
   "cell_type": "code",
   "execution_count": 14,
   "metadata": {
    "collapsed": false
   },
   "outputs": [
    {
     "name": "stdout",
     "output_type": "stream",
     "text": [
      "Wrote datapackage to /projects/ps-yeolab/obotvinnik/flotilla_projects/singlecell_pnm_figure2_modalities_cutoffs/datapackage.json\n"
     ]
    }
   ],
   "source": [
    "study.supplemental.modalities_different_expression_minimums = modalities_cutoffs\n",
    "study.save('singlecell_pnm_figure2_modalities_cutoffs', flotilla_dir=flotilla_dir)"
   ]
  },
  {
   "cell_type": "code",
   "execution_count": 37,
   "metadata": {
    "collapsed": true
   },
   "outputs": [],
   "source": [
    "sns.set(context='paper', style='whitegrid')"
   ]
  },
  {
   "cell_type": "code",
   "execution_count": 38,
   "metadata": {
    "collapsed": false
   },
   "outputs": [
    {
     "data": {
      "text/plain": [
       "'figures/010_modality_calculation_different_expression_cutoffs'"
      ]
     },
     "execution_count": 38,
     "metadata": {},
     "output_type": "execute_result"
    }
   ],
   "source": [
    "folder"
   ]
  },
  {
   "cell_type": "code",
   "execution_count": 39,
   "metadata": {
    "collapsed": false
   },
   "outputs": [],
   "source": [
    "modalities_cutoffs = modalities_cutoffs.rename(columns={'percentage': '% of AS events'})"
   ]
  },
  {
   "cell_type": "code",
   "execution_count": 40,
   "metadata": {
    "collapsed": false
   },
   "outputs": [
    {
     "data": {
      "image/png": "[encoded data removed]",
      "text/plain": [
       "<matplotlib.figure.Figure at 0x2aaf89d4dc10>"
      ]
     },
     "metadata": {},
     "output_type": "display_data"
    }
   ],
   "source": [
    "facetgrid = sns.factorplot(x='log2(TPM+1) cutoff', y='# AS events', data=modalities_cutoffs, \n",
    "               hue='modality', hue_order=MODALITY_ORDER, palette=MODALITY_PALETTE,\n",
    "               col='phenotype', col_order=study.phenotype_order, size=2, dodge=True, scale=0.5)\n",
    "facetgrid.set(ylim=(0, 6500))\n",
    "facetgrid.savefig('{}/tpm_cutoff_vs_number_of_events_per_modality.pdf'.format(folder))"
   ]
  },
  {
   "cell_type": "code",
   "execution_count": 41,
   "metadata": {
    "collapsed": false
   },
   "outputs": [
    {
     "data": {
      "image/png": "[encoded data removed]",
      "text/plain": [
       "<matplotlib.figure.Figure at 0x2aaf88221bd0>"
      ]
     },
     "metadata": {},
     "output_type": "display_data"
    }
   ],
   "source": [
    "facetgrid = sns.factorplot(x='log2(TPM+1) cutoff', y='% of AS events', data=modalities_cutoffs, \n",
    "               hue='modality', hue_order=MODALITY_ORDER, palette=MODALITY_PALETTE,\n",
    "               col='phenotype', col_order=study.phenotype_order, size=2, dodge=True, scale=0.5)\n",
    "facetgrid.set(ylim=(0, 100))\n",
    "facetgrid.savefig('{}/tpm_cutoff_vs_percentage_of_per_modality.pdf'.format(folder))"
   ]
  },
  {
   "cell_type": "code",
   "execution_count": 29,
   "metadata": {
    "collapsed": false
   },
   "outputs": [
    {
     "data": {
      "text/html": [
       "<div>\n",
       "<table border=\"1\" class=\"dataframe\">\n",
       "  <thead>\n",
       "    <tr style=\"text-align: right;\">\n",
       "      <th></th>\n",
       "      <th>log2(TPM+1) cutoff</th>\n",
       "      <th>phenotype</th>\n",
       "      <th># AS events</th>\n",
       "    </tr>\n",
       "  </thead>\n",
       "  <tbody>\n",
       "    <tr>\n",
       "      <th>0</th>\n",
       "      <td>1</td>\n",
       "      <td>MN</td>\n",
       "      <td>8305</td>\n",
       "    </tr>\n",
       "    <tr>\n",
       "      <th>1</th>\n",
       "      <td>1</td>\n",
       "      <td>NPC</td>\n",
       "      <td>9770</td>\n",
       "    </tr>\n",
       "    <tr>\n",
       "      <th>2</th>\n",
       "      <td>1</td>\n",
       "      <td>iPSC</td>\n",
       "      <td>12127</td>\n",
       "    </tr>\n",
       "    <tr>\n",
       "      <th>3</th>\n",
       "      <td>2</td>\n",
       "      <td>MN</td>\n",
       "      <td>8279</td>\n",
       "    </tr>\n",
       "    <tr>\n",
       "      <th>4</th>\n",
       "      <td>2</td>\n",
       "      <td>NPC</td>\n",
       "      <td>9747</td>\n",
       "    </tr>\n",
       "  </tbody>\n",
       "</table>\n",
       "</div>"
      ],
      "text/plain": [
       "   log2(TPM+1) cutoff phenotype  # AS events\n",
       "0                   1        MN         8305\n",
       "1                   1       NPC         9770\n",
       "2                   1      iPSC        12127\n",
       "3                   2        MN         8279\n",
       "4                   2       NPC         9747"
      ]
     },
     "execution_count": 29,
     "metadata": {},
     "output_type": "execute_result"
    }
   ],
   "source": [
    "n_events_per_cutoff = modalities_cutoffs.groupby(['log2(TPM+1) cutoff', 'phenotype'])['# AS events'].sum().reset_index()\n",
    "n_events_per_cutoff.head()"
   ]
  },
  {
   "cell_type": "code",
   "execution_count": 46,
   "metadata": {
    "collapsed": false
   },
   "outputs": [
    {
     "data": {
      "image/png": "[encoded data removed]",
      "text/plain": [
       "<matplotlib.figure.Figure at 0x2aaf8efaf410>"
      ]
     },
     "metadata": {},
     "output_type": "display_data"
    }
   ],
   "source": [
    "fig, ax = plt.subplots(figsize=(2, 1.5))\n",
    "sns.pointplot(x='log2(TPM+1) cutoff', y='# AS events', hue='phenotype', data=n_events_per_cutoff, \n",
    "              palette=study.phenotype_to_color, scale=0.5, hue_order=study.phenotype_order)\n",
    "sns.despine()\n",
    "ax.set(ylim=(0, 13000))\n",
    "fig.savefig('{}/number_of_events_per_cutoff.pdf'.format(folder))"
   ]
  },
  {
   "cell_type": "code",
   "execution_count": 47,
   "metadata": {
    "collapsed": false
   },
   "outputs": [
    {
     "name": "stdout",
     "output_type": "stream",
     "text": [
      "Wrote datapackage to /projects/ps-yeolab/obotvinnik/flotilla_projects/singlecell_pnm_figure2_modalities_tpm_thresholds/datapackage.json\n"
     ]
    }
   ],
   "source": [
    "study.supplemental.modalities_tpm_thresholds = modalities_cutoffs\n",
    "study.save('singlecell_pnm_figure2_modalities_tpm_thresholds', flotilla_dir=flotilla_dir)"
   ]
  },
  {
   "cell_type": "code",
   "execution_count": null,
   "metadata": {
    "collapsed": true
   },
   "outputs": [],
   "source": []
  }
 ],
 "metadata": {
  "kernelspec": {
   "display_name": "Python 2",
   "language": "python",
   "name": "python2"
  },
  "language_info": {
   "codemirror_mode": {
    "name": "ipython",
    "version": 2
   },
   "file_extension": ".py",
   "mimetype": "text/x-python",
   "name": "python",
   "nbconvert_exporter": "python",
   "pygments_lexer": "ipython2",
   "version": "2.7.11"
  }
 },
 "nbformat": 4,
 "nbformat_minor": 0
}
