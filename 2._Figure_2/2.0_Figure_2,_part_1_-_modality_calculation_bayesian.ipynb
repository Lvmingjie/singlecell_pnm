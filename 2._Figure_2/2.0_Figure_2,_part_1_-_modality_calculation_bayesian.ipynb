{
 "cells": [
  {
   "cell_type": "code",
   "execution_count": 1,
   "metadata": {
    "collapsed": false
   },
   "outputs": [
    {
     "name": "stderr",
     "output_type": "stream",
     "text": [
      "/home/obotvinnik/anaconda/lib/python2.7/site-packages/matplotlib/__init__.py:810: UserWarning: Found matplotlib configuration in ~/.matplotlib/. To conform with the XDG base directory standard, this configuration location has been deprecated on Linux, and the new location is now /home/obotvinnik/.config/matplotlib/. Please move your configuration there to ensure that matplotlib will continue to find it in the future.\n",
      "  _get_xdg_config_dir())\n",
      "/home/obotvinnik/anaconda/lib/python2.7/site-packages/flotilla/__init__.py:65: DtypeWarning: Columns (19) have mixed types. Specify dtype option on import or set low_memory=False.\n",
      "  load_species_data=load_species_data)\n"
     ]
    },
    {
     "name": "stdout",
     "output_type": "stream",
     "text": [
      "2016-06-24 16:19:24\tReading datapackage from /projects/ps-yeolab/obotvinnik/flotilla_projects/singlecell_pnm_figure1_supplementary_post_splicing_filtering/datapackage.json\n",
      "2016-06-24 16:19:24\tParsing datapackage to create a Study object\n",
      "2016-06-24 16:20:11 \tInitializing Study\n",
      "2016-06-24 16:20:11 \tInitializing Predictor configuration manager for Study\n",
      "2016-06-24 16:20:11\tPredictor ExtraTreesClassifier is of type <class 'sklearn.ensemble.forest.ExtraTreesClassifier'>\n",
      "2016-06-24 16:20:11\tAdded ExtraTreesClassifier to default predictors\n",
      "2016-06-24 16:20:11\tPredictor ExtraTreesRegressor is of type <class 'sklearn.ensemble.forest.ExtraTreesRegressor'>\n",
      "2016-06-24 16:20:11\tAdded ExtraTreesRegressor to default predictors\n",
      "2016-06-24 16:20:11\tPredictor GradientBoostingClassifier is of type <class 'sklearn.ensemble.gradient_boosting.GradientBoostingClassifier'>\n",
      "2016-06-24 16:20:11\tAdded GradientBoostingClassifier to default predictors\n",
      "2016-06-24 16:20:11\tPredictor GradientBoostingRegressor is of type <class 'sklearn.ensemble.gradient_boosting.GradientBoostingRegressor'>\n",
      "2016-06-24 16:20:11\tAdded GradientBoostingRegressor to default predictors\n",
      "2016-06-24 16:20:16 \tBuilding Gene Ontology database...\n",
      "2016-06-24 16:20:25 \t\tDone\n",
      "2016-06-24 16:20:25 \tLoading metadata\n",
      "2016-06-24 16:20:25\tLoading expression data\n",
      "2016-06-24 16:20:25\tInitializing expression\n",
      "2016-06-24 16:20:26\tDone initializing expression\n",
      "2016-06-24 16:20:28\tLoading splicing data\n",
      "2016-06-24 16:20:28\tInitializing splicing\n",
      "2016-06-24 16:20:28\tDone initializing splicing\n",
      "2016-06-24 16:20:28\tSuccessfully initialized a Study object!\n",
      "mkdir: cannot create directory `pdfs': File exists\n"
     ]
    }
   ],
   "source": [
    "%load_ext autoreload\n",
    "%autoreload 2\n",
    "\n",
    "import matplotlib.pyplot as plt\n",
    "import seaborn as sns\n",
    "import numpy as np\n",
    "import pandas as pd\n",
    "\n",
    "sns.set(style='ticks', context='paper', rc={'font.sans-serif':'Arial', 'pdf.fonttype': 42})\n",
    "\n",
    "%matplotlib inline\n",
    "\n",
    "import flotilla\n",
    "\n",
    "\n",
    "flotilla_dir = '/projects/ps-yeolab/obotvinnik/flotilla_projects'\n",
    "\n",
    "study = flotilla.embark('singlecell_pnm_figure1_supplementary_post_splicing_filtering', flotilla_dir=flotilla_dir)\n",
    "\n",
    "not_outliers = study.splicing.singles.index.difference(study.splicing.outliers.index)\n",
    "folder = 'pdfs' #'/home/obotvinnik/Dropbox/figures2/singlecell_pnm/figure2_modalities/bayesian'\n",
    "! mkdir $folder"
   ]
  },
  {
   "cell_type": "code",
   "execution_count": 2,
   "metadata": {
    "collapsed": false
   },
   "outputs": [
    {
     "data": {
      "image/png": "[encoded data removed]",
      "text/plain": [
       "<matplotlib.figure.Figure at 0x2ac1c00fbd50>"
      ]
     },
     "metadata": {},
     "output_type": "display_data"
    }
   ],
   "source": [
    "study.plot_event(\"CDC42\")"
   ]
  },
  {
   "cell_type": "code",
   "execution_count": 2,
   "metadata": {
    "collapsed": false
   },
   "outputs": [
    {
     "name": "stdout",
     "output_type": "stream",
     "text": [
      "(181, 16360)\n"
     ]
    }
   ],
   "source": [
    "splicing_singles_no_outliers = study.splicing.singles.ix[not_outliers]\n",
    "print splicing_singles_no_outliers.shape"
   ]
  },
  {
   "cell_type": "markdown",
   "metadata": {},
   "source": [
    "## Estimate modalities\n",
    "\n",
    "### Initialize the modality estimator"
   ]
  },
  {
   "cell_type": "code",
   "execution_count": 3,
   "metadata": {
    "collapsed": false
   },
   "outputs": [],
   "source": [
    "import anchor\n",
    "\n",
    "bayesian = anchor.BayesianModalities()\n",
    "# binned = anchor.BinnedModalities()\n",
    "# monte_carlo = anchor.MonteCarloModalities()"
   ]
  },
  {
   "cell_type": "code",
   "execution_count": 4,
   "metadata": {
    "collapsed": false
   },
   "outputs": [],
   "source": [
    "# fig = estimator.violinplot(n=1e6)\n",
    "# for ax in fig.axes:\n",
    "#     ax.set(yticks=[0, 0.5, 1], xlabel='')\n",
    "# fig.tight_layout()\n",
    "# sns.despine()\n",
    "# fig.savefig('{}/modality_estimator_parameterized_family.pdf'.format(folder))"
   ]
  },
  {
   "cell_type": "markdown",
   "metadata": {},
   "source": [
    "## Calculate/Estimate modalities only on single cells, with no outliers\n",
    "\n",
    "And at least 10 cells per splicing event, per celltype/phenotype"
   ]
  },
  {
   "cell_type": "code",
   "execution_count": 5,
   "metadata": {
    "collapsed": false
   },
   "outputs": [
    {
     "data": {
      "text/plain": [
       "10"
      ]
     },
     "execution_count": 5,
     "metadata": {},
     "output_type": "execute_result"
    }
   ],
   "source": [
    "study.splicing.minimum_samples"
   ]
  },
  {
   "cell_type": "code",
   "execution_count": 8,
   "metadata": {
    "collapsed": false
   },
   "outputs": [
    {
     "name": "stdout",
     "output_type": "stream",
     "text": [
      "(181, 16360)\n",
      "(181, 12894)\n"
     ]
    }
   ],
   "source": [
    "print splicing_singles_no_outliers.shape\n",
    "splicing_singles_no_outliers = splicing_singles_no_outliers.groupby(\n",
    "    study.sample_id_to_phenotype).apply(lambda x: x.dropna(thresh=study.splicing.minimum_samples, axis=1))\n",
    "print splicing_singles_no_outliers.shape"
   ]
  },
  {
   "cell_type": "code",
   "execution_count": 9,
   "metadata": {
    "collapsed": false
   },
   "outputs": [],
   "source": [
    "pkm_events = study.splicing.maybe_renamed_to_feature_id('PKM')"
   ]
  },
  {
   "cell_type": "code",
   "execution_count": 10,
   "metadata": {
    "collapsed": false
   },
   "outputs": [
    {
     "name": "stdout",
     "output_type": "stream",
     "text": [
      "CPU times: user 11min 51s, sys: 77 ms, total: 11min 51s\n",
      "Wall time: 11min 51s\n"
     ]
    }
   ],
   "source": [
    "%time modality_assignments = splicing_singles_no_outliers.groupby(study.sample_id_to_phenotype).apply(bayesian.fit_predict)"
   ]
  },
  {
   "cell_type": "code",
   "execution_count": 11,
   "metadata": {
    "collapsed": false
   },
   "outputs": [
    {
     "data": {
      "text/html": [
       "<div>\n",
       "<table border=\"1\" class=\"dataframe\">\n",
       "  <thead>\n",
       "    <tr style=\"text-align: right;\">\n",
       "      <th></th>\n",
       "      <th>exon:chr10:100190328-100190427:-@exon:chr10:100189548-100189646:-@exon:chr10:100189330-100189399:-</th>\n",
       "      <th>exon:chr10:100195392-100195529:-@exon:chr10:100195029-100195171:-@exon:chr10:100193697-100193848:-</th>\n",
       "      <th>exon:chr10:101165513-101165617:-@exon:chr10:101163481-101163631:-@exon:chr10:101163226-101163391:-</th>\n",
       "      <th>exon:chr10:101480744-101480825:-@exon:chr10:101478103-101478257:-@exon:chr10:101476105-101476218:-</th>\n",
       "      <th>exon:chr10:101507014-101507147:+@exon:chr10:101510126-101510153:+@exon:chr10:101514286-101514391:+</th>\n",
       "      <th>exon:chr10:101507014-101507147:+@exon:chr10:101514286-101514391:+@exon:chr10:101515382-101515465:+</th>\n",
       "      <th>exon:chr10:101997779-101997988:-@exon:chr10:101996607-101996726:-@exon:chr10:101995424-101995521:-</th>\n",
       "      <th>exon:chr10:102003455-102003534:-@exon:chr10:101997779-101997988:-@exon:chr10:101996607-101996726:-</th>\n",
       "      <th>exon:chr10:102013178-102013296:-@exon:chr10:102010005-102010089:-@exon:chr10:102006552-102006692:-</th>\n",
       "      <th>exon:chr10:102019975-102020076:-@exon:chr10:102016019-102016233:-@exon:chr10:102013178-102013296:-</th>\n",
       "      <th>...</th>\n",
       "      <th>exon:chrY:15560897-15560946:-@exon:chrY:15526615-15526673:-@exon:chrY:15522873-15522993:-</th>\n",
       "      <th>exon:chrY:15591134-15591384:-@exon:chrY:15582001-15582109:-@exon:chrY:15560897-15560946:-</th>\n",
       "      <th>exon:chrY:21903204-21903374:-@exon:chrY:21901414-21901548:-@exon:chrY:21897507-21897636:-</th>\n",
       "      <th>exon:chrY:21903621-21903743:-@exon:chrY:21903204-21903374:-@exon:chrY:21901414-21901548:-</th>\n",
       "      <th>exon:chrY:22744476-22744579:+@exon:chrY:22746360-22746410:+@exon:chrY:22749910-22749991:+</th>\n",
       "      <th>exon:chrY:2709527-2709668:+@exon:chrY:2710206-2710283:+@exon:chrY:2712118-2712298:+</th>\n",
       "      <th>exon:chrY:2710206-2710283:+@exon:chrY:2712118-2712298:+@exon:chrY:2713687-2713784:+</th>\n",
       "      <th>exon:chrY:2712118-2712298:+@exon:chrY:2713687-2713784:+@exon:chrY:2722641-2722812:+</th>\n",
       "      <th>exon:chrY:2713687-2713784:+@exon:chrY:2722641-2722812:+@exon:chrY:2733129-2733286:+</th>\n",
       "      <th>exon:chrY:2722641-2722812:+@exon:chrY:2733129-2733286:+@exon:chrY:2734834-2734903:+</th>\n",
       "    </tr>\n",
       "    <tr>\n",
       "      <th>phenotype</th>\n",
       "      <th></th>\n",
       "      <th></th>\n",
       "      <th></th>\n",
       "      <th></th>\n",
       "      <th></th>\n",
       "      <th></th>\n",
       "      <th></th>\n",
       "      <th></th>\n",
       "      <th></th>\n",
       "      <th></th>\n",
       "      <th></th>\n",
       "      <th></th>\n",
       "      <th></th>\n",
       "      <th></th>\n",
       "      <th></th>\n",
       "      <th></th>\n",
       "      <th></th>\n",
       "      <th></th>\n",
       "      <th></th>\n",
       "      <th></th>\n",
       "      <th></th>\n",
       "    </tr>\n",
       "  </thead>\n",
       "  <tbody>\n",
       "    <tr>\n",
       "      <th>MN</th>\n",
       "      <td>NaN</td>\n",
       "      <td>NaN</td>\n",
       "      <td>included</td>\n",
       "      <td>bimodal</td>\n",
       "      <td>NaN</td>\n",
       "      <td>NaN</td>\n",
       "      <td>NaN</td>\n",
       "      <td>NaN</td>\n",
       "      <td>NaN</td>\n",
       "      <td>NaN</td>\n",
       "      <td>...</td>\n",
       "      <td>NaN</td>\n",
       "      <td>NaN</td>\n",
       "      <td>NaN</td>\n",
       "      <td>NaN</td>\n",
       "      <td>NaN</td>\n",
       "      <td>included</td>\n",
       "      <td>included</td>\n",
       "      <td>included</td>\n",
       "      <td>included</td>\n",
       "      <td>included</td>\n",
       "    </tr>\n",
       "    <tr>\n",
       "      <th>NPC</th>\n",
       "      <td>NaN</td>\n",
       "      <td>NaN</td>\n",
       "      <td>included</td>\n",
       "      <td>bimodal</td>\n",
       "      <td>bimodal</td>\n",
       "      <td>NaN</td>\n",
       "      <td>bimodal</td>\n",
       "      <td>NaN</td>\n",
       "      <td>NaN</td>\n",
       "      <td>included</td>\n",
       "      <td>...</td>\n",
       "      <td>included</td>\n",
       "      <td>included</td>\n",
       "      <td>NaN</td>\n",
       "      <td>NaN</td>\n",
       "      <td>included</td>\n",
       "      <td>included</td>\n",
       "      <td>included</td>\n",
       "      <td>included</td>\n",
       "      <td>included</td>\n",
       "      <td>included</td>\n",
       "    </tr>\n",
       "    <tr>\n",
       "      <th>iPSC</th>\n",
       "      <td>bimodal</td>\n",
       "      <td>bimodal</td>\n",
       "      <td>included</td>\n",
       "      <td>included</td>\n",
       "      <td>bimodal</td>\n",
       "      <td>bimodal</td>\n",
       "      <td>included</td>\n",
       "      <td>included</td>\n",
       "      <td>bimodal</td>\n",
       "      <td>bimodal</td>\n",
       "      <td>...</td>\n",
       "      <td>included</td>\n",
       "      <td>bimodal</td>\n",
       "      <td>bimodal</td>\n",
       "      <td>bimodal</td>\n",
       "      <td>included</td>\n",
       "      <td>included</td>\n",
       "      <td>included</td>\n",
       "      <td>included</td>\n",
       "      <td>included</td>\n",
       "      <td>included</td>\n",
       "    </tr>\n",
       "  </tbody>\n",
       "</table>\n",
       "<p>3 rows × 12894 columns</p>\n",
       "</div>"
      ],
      "text/plain": [
       "          exon:chr10:100190328-100190427:-@exon:chr10:100189548-100189646:-@exon:chr10:100189330-100189399:-  \\\n",
       "phenotype                                                                                                      \n",
       "MN                                                       NaN                                                   \n",
       "NPC                                                      NaN                                                   \n",
       "iPSC                                                 bimodal                                                   \n",
       "\n",
       "          exon:chr10:100195392-100195529:-@exon:chr10:100195029-100195171:-@exon:chr10:100193697-100193848:-  \\\n",
       "phenotype                                                                                                      \n",
       "MN                                                       NaN                                                   \n",
       "NPC                                                      NaN                                                   \n",
       "iPSC                                                 bimodal                                                   \n",
       "\n",
       "          exon:chr10:101165513-101165617:-@exon:chr10:101163481-101163631:-@exon:chr10:101163226-101163391:-  \\\n",
       "phenotype                                                                                                      \n",
       "MN                                                  included                                                   \n",
       "NPC                                                 included                                                   \n",
       "iPSC                                                included                                                   \n",
       "\n",
       "          exon:chr10:101480744-101480825:-@exon:chr10:101478103-101478257:-@exon:chr10:101476105-101476218:-  \\\n",
       "phenotype                                                                                                      \n",
       "MN                                                   bimodal                                                   \n",
       "NPC                                                  bimodal                                                   \n",
       "iPSC                                                included                                                   \n",
       "\n",
       "          exon:chr10:101507014-101507147:+@exon:chr10:101510126-101510153:+@exon:chr10:101514286-101514391:+  \\\n",
       "phenotype                                                                                                      \n",
       "MN                                                       NaN                                                   \n",
       "NPC                                                  bimodal                                                   \n",
       "iPSC                                                 bimodal                                                   \n",
       "\n",
       "          exon:chr10:101507014-101507147:+@exon:chr10:101514286-101514391:+@exon:chr10:101515382-101515465:+  \\\n",
       "phenotype                                                                                                      \n",
       "MN                                                       NaN                                                   \n",
       "NPC                                                      NaN                                                   \n",
       "iPSC                                                 bimodal                                                   \n",
       "\n",
       "          exon:chr10:101997779-101997988:-@exon:chr10:101996607-101996726:-@exon:chr10:101995424-101995521:-  \\\n",
       "phenotype                                                                                                      \n",
       "MN                                                       NaN                                                   \n",
       "NPC                                                  bimodal                                                   \n",
       "iPSC                                                included                                                   \n",
       "\n",
       "          exon:chr10:102003455-102003534:-@exon:chr10:101997779-101997988:-@exon:chr10:101996607-101996726:-  \\\n",
       "phenotype                                                                                                      \n",
       "MN                                                       NaN                                                   \n",
       "NPC                                                      NaN                                                   \n",
       "iPSC                                                included                                                   \n",
       "\n",
       "          exon:chr10:102013178-102013296:-@exon:chr10:102010005-102010089:-@exon:chr10:102006552-102006692:-  \\\n",
       "phenotype                                                                                                      \n",
       "MN                                                       NaN                                                   \n",
       "NPC                                                      NaN                                                   \n",
       "iPSC                                                 bimodal                                                   \n",
       "\n",
       "          exon:chr10:102019975-102020076:-@exon:chr10:102016019-102016233:-@exon:chr10:102013178-102013296:-  \\\n",
       "phenotype                                                                                                      \n",
       "MN                                                       NaN                                                   \n",
       "NPC                                                 included                                                   \n",
       "iPSC                                                 bimodal                                                   \n",
       "\n",
       "                                                  ...                                          \\\n",
       "phenotype                                         ...                                           \n",
       "MN                                                ...                                           \n",
       "NPC                                               ...                                           \n",
       "iPSC                                              ...                                           \n",
       "\n",
       "          exon:chrY:15560897-15560946:-@exon:chrY:15526615-15526673:-@exon:chrY:15522873-15522993:-  \\\n",
       "phenotype                                                                                             \n",
       "MN                                                       NaN                                          \n",
       "NPC                                                 included                                          \n",
       "iPSC                                                included                                          \n",
       "\n",
       "          exon:chrY:15591134-15591384:-@exon:chrY:15582001-15582109:-@exon:chrY:15560897-15560946:-  \\\n",
       "phenotype                                                                                             \n",
       "MN                                                       NaN                                          \n",
       "NPC                                                 included                                          \n",
       "iPSC                                                 bimodal                                          \n",
       "\n",
       "          exon:chrY:21903204-21903374:-@exon:chrY:21901414-21901548:-@exon:chrY:21897507-21897636:-  \\\n",
       "phenotype                                                                                             \n",
       "MN                                                       NaN                                          \n",
       "NPC                                                      NaN                                          \n",
       "iPSC                                                 bimodal                                          \n",
       "\n",
       "          exon:chrY:21903621-21903743:-@exon:chrY:21903204-21903374:-@exon:chrY:21901414-21901548:-  \\\n",
       "phenotype                                                                                             \n",
       "MN                                                       NaN                                          \n",
       "NPC                                                      NaN                                          \n",
       "iPSC                                                 bimodal                                          \n",
       "\n",
       "          exon:chrY:22744476-22744579:+@exon:chrY:22746360-22746410:+@exon:chrY:22749910-22749991:+  \\\n",
       "phenotype                                                                                             \n",
       "MN                                                       NaN                                          \n",
       "NPC                                                 included                                          \n",
       "iPSC                                                included                                          \n",
       "\n",
       "          exon:chrY:2709527-2709668:+@exon:chrY:2710206-2710283:+@exon:chrY:2712118-2712298:+  \\\n",
       "phenotype                                                                                       \n",
       "MN                                                  included                                    \n",
       "NPC                                                 included                                    \n",
       "iPSC                                                included                                    \n",
       "\n",
       "          exon:chrY:2710206-2710283:+@exon:chrY:2712118-2712298:+@exon:chrY:2713687-2713784:+  \\\n",
       "phenotype                                                                                       \n",
       "MN                                                  included                                    \n",
       "NPC                                                 included                                    \n",
       "iPSC                                                included                                    \n",
       "\n",
       "          exon:chrY:2712118-2712298:+@exon:chrY:2713687-2713784:+@exon:chrY:2722641-2722812:+  \\\n",
       "phenotype                                                                                       \n",
       "MN                                                  included                                    \n",
       "NPC                                                 included                                    \n",
       "iPSC                                                included                                    \n",
       "\n",
       "          exon:chrY:2713687-2713784:+@exon:chrY:2722641-2722812:+@exon:chrY:2733129-2733286:+  \\\n",
       "phenotype                                                                                       \n",
       "MN                                                  included                                    \n",
       "NPC                                                 included                                    \n",
       "iPSC                                                included                                    \n",
       "\n",
       "          exon:chrY:2722641-2722812:+@exon:chrY:2733129-2733286:+@exon:chrY:2734834-2734903:+  \n",
       "phenotype                                                                                      \n",
       "MN                                                  included                                   \n",
       "NPC                                                 included                                   \n",
       "iPSC                                                included                                   \n",
       "\n",
       "[3 rows x 12894 columns]"
      ]
     },
     "execution_count": 11,
     "metadata": {},
     "output_type": "execute_result"
    }
   ],
   "source": [
    "modality_assignments"
   ]
  },
  {
   "cell_type": "code",
   "execution_count": 12,
   "metadata": {
    "collapsed": false
   },
   "outputs": [
    {
     "data": {
      "text/html": [
       "<div>\n",
       "<table border=\"1\" class=\"dataframe\">\n",
       "  <thead>\n",
       "    <tr style=\"text-align: right;\">\n",
       "      <th></th>\n",
       "      <th>phenotype</th>\n",
       "      <th>event_id</th>\n",
       "      <th>modality</th>\n",
       "    </tr>\n",
       "  </thead>\n",
       "  <tbody>\n",
       "    <tr>\n",
       "      <th>0</th>\n",
       "      <td>MN</td>\n",
       "      <td>exon:chr10:101165513-101165617:-@exon:chr10:10...</td>\n",
       "      <td>included</td>\n",
       "    </tr>\n",
       "    <tr>\n",
       "      <th>1</th>\n",
       "      <td>MN</td>\n",
       "      <td>exon:chr10:101480744-101480825:-@exon:chr10:10...</td>\n",
       "      <td>bimodal</td>\n",
       "    </tr>\n",
       "    <tr>\n",
       "      <th>2</th>\n",
       "      <td>MN</td>\n",
       "      <td>exon:chr10:102114184-102114389:+@exon:chr10:10...</td>\n",
       "      <td>included</td>\n",
       "    </tr>\n",
       "    <tr>\n",
       "      <th>3</th>\n",
       "      <td>MN</td>\n",
       "      <td>exon:chr10:102286732-102286831:-@exon:chr10:10...</td>\n",
       "      <td>included</td>\n",
       "    </tr>\n",
       "    <tr>\n",
       "      <th>4</th>\n",
       "      <td>MN</td>\n",
       "      <td>exon:chr10:102747070-102747240:-@exon:chr10:10...</td>\n",
       "      <td>bimodal</td>\n",
       "    </tr>\n",
       "  </tbody>\n",
       "</table>\n",
       "</div>"
      ],
      "text/plain": [
       "  phenotype                                           event_id  modality\n",
       "0        MN  exon:chr10:101165513-101165617:-@exon:chr10:10...  included\n",
       "1        MN  exon:chr10:101480744-101480825:-@exon:chr10:10...   bimodal\n",
       "2        MN  exon:chr10:102114184-102114389:+@exon:chr10:10...  included\n",
       "3        MN  exon:chr10:102286732-102286831:-@exon:chr10:10...  included\n",
       "4        MN  exon:chr10:102747070-102747240:-@exon:chr10:10...   bimodal"
      ]
     },
     "execution_count": 12,
     "metadata": {},
     "output_type": "execute_result"
    }
   ],
   "source": [
    "modalities_tidy = modality_assignments.stack().reset_index()\n",
    "modalities_tidy = modalities_tidy.rename(columns={'level_1': 'event_id', 0: \"modality\",})\n",
    "modalities_tidy.head()"
   ]
  },
  {
   "cell_type": "code",
   "execution_count": 13,
   "metadata": {
    "collapsed": false
   },
   "outputs": [
    {
     "data": {
      "text/html": [
       "<div>\n",
       "<table border=\"1\" class=\"dataframe\">\n",
       "  <thead>\n",
       "    <tr style=\"text-align: right;\">\n",
       "      <th></th>\n",
       "      <th>phenotype</th>\n",
       "      <th>event_id</th>\n",
       "      <th>modality</th>\n",
       "    </tr>\n",
       "  </thead>\n",
       "  <tbody>\n",
       "    <tr>\n",
       "      <th>1427</th>\n",
       "      <td>MN</td>\n",
       "      <td>exon:chr15:72499069-72499221:-@exon:chr15:7249...</td>\n",
       "      <td>included</td>\n",
       "    </tr>\n",
       "    <tr>\n",
       "      <th>1428</th>\n",
       "      <td>MN</td>\n",
       "      <td>exon:chr15:72499069-72499221:-@exon:chr15:7249...</td>\n",
       "      <td>included</td>\n",
       "    </tr>\n",
       "    <tr>\n",
       "      <th>1429</th>\n",
       "      <td>MN</td>\n",
       "      <td>exon:chr15:72499069-72499221:-@exon:chr15:7249...</td>\n",
       "      <td>bimodal</td>\n",
       "    </tr>\n",
       "    <tr>\n",
       "      <th>1430</th>\n",
       "      <td>MN</td>\n",
       "      <td>exon:chr15:72523457-72523547:-@exon:chr15:7251...</td>\n",
       "      <td>excluded</td>\n",
       "    </tr>\n",
       "    <tr>\n",
       "      <th>7701</th>\n",
       "      <td>NPC</td>\n",
       "      <td>exon:chr15:72499069-72499221:-@exon:chr15:7249...</td>\n",
       "      <td>included</td>\n",
       "    </tr>\n",
       "    <tr>\n",
       "      <th>7702</th>\n",
       "      <td>NPC</td>\n",
       "      <td>exon:chr15:72499069-72499221:-@exon:chr15:7249...</td>\n",
       "      <td>included</td>\n",
       "    </tr>\n",
       "    <tr>\n",
       "      <th>7703</th>\n",
       "      <td>NPC</td>\n",
       "      <td>exon:chr15:72499069-72499221:-@exon:chr15:7249...</td>\n",
       "      <td>excluded</td>\n",
       "    </tr>\n",
       "    <tr>\n",
       "      <th>7704</th>\n",
       "      <td>NPC</td>\n",
       "      <td>exon:chr15:72523457-72523547:-@exon:chr15:7251...</td>\n",
       "      <td>excluded</td>\n",
       "    </tr>\n",
       "    <tr>\n",
       "      <th>17178</th>\n",
       "      <td>iPSC</td>\n",
       "      <td>exon:chr15:72499069-72499221:-@exon:chr15:7249...</td>\n",
       "      <td>included</td>\n",
       "    </tr>\n",
       "    <tr>\n",
       "      <th>17179</th>\n",
       "      <td>iPSC</td>\n",
       "      <td>exon:chr15:72499069-72499221:-@exon:chr15:7249...</td>\n",
       "      <td>excluded</td>\n",
       "    </tr>\n",
       "    <tr>\n",
       "      <th>17180</th>\n",
       "      <td>iPSC</td>\n",
       "      <td>exon:chr15:72523457-72523547:-@exon:chr15:7251...</td>\n",
       "      <td>excluded</td>\n",
       "    </tr>\n",
       "  </tbody>\n",
       "</table>\n",
       "</div>"
      ],
      "text/plain": [
       "      phenotype                                           event_id  modality\n",
       "1427         MN  exon:chr15:72499069-72499221:-@exon:chr15:7249...  included\n",
       "1428         MN  exon:chr15:72499069-72499221:-@exon:chr15:7249...  included\n",
       "1429         MN  exon:chr15:72499069-72499221:-@exon:chr15:7249...   bimodal\n",
       "1430         MN  exon:chr15:72523457-72523547:-@exon:chr15:7251...  excluded\n",
       "7701        NPC  exon:chr15:72499069-72499221:-@exon:chr15:7249...  included\n",
       "7702        NPC  exon:chr15:72499069-72499221:-@exon:chr15:7249...  included\n",
       "7703        NPC  exon:chr15:72499069-72499221:-@exon:chr15:7249...  excluded\n",
       "7704        NPC  exon:chr15:72523457-72523547:-@exon:chr15:7251...  excluded\n",
       "17178      iPSC  exon:chr15:72499069-72499221:-@exon:chr15:7249...  included\n",
       "17179      iPSC  exon:chr15:72499069-72499221:-@exon:chr15:7249...  excluded\n",
       "17180      iPSC  exon:chr15:72523457-72523547:-@exon:chr15:7251...  excluded"
      ]
     },
     "execution_count": 13,
     "metadata": {},
     "output_type": "execute_result"
    }
   ],
   "source": [
    "modalities_tidy.loc[modalities_tidy.event_id.isin(pkm_events)]"
   ]
  },
  {
   "cell_type": "code",
   "execution_count": 14,
   "metadata": {
    "collapsed": false
   },
   "outputs": [
    {
     "data": {
      "text/html": [
       "<div>\n",
       "<table border=\"1\" class=\"dataframe\">\n",
       "  <thead>\n",
       "    <tr style=\"text-align: right;\">\n",
       "      <th></th>\n",
       "      <th>phenotype</th>\n",
       "      <th>modality</th>\n",
       "      <th># AS events</th>\n",
       "    </tr>\n",
       "  </thead>\n",
       "  <tbody>\n",
       "    <tr>\n",
       "      <th>0</th>\n",
       "      <td>MN</td>\n",
       "      <td>bimodal</td>\n",
       "      <td>1316</td>\n",
       "    </tr>\n",
       "    <tr>\n",
       "      <th>1</th>\n",
       "      <td>MN</td>\n",
       "      <td>excluded</td>\n",
       "      <td>1175</td>\n",
       "    </tr>\n",
       "    <tr>\n",
       "      <th>2</th>\n",
       "      <td>MN</td>\n",
       "      <td>included</td>\n",
       "      <td>2995</td>\n",
       "    </tr>\n",
       "    <tr>\n",
       "      <th>3</th>\n",
       "      <td>MN</td>\n",
       "      <td>uncategorized</td>\n",
       "      <td>2</td>\n",
       "    </tr>\n",
       "    <tr>\n",
       "      <th>4</th>\n",
       "      <td>NPC</td>\n",
       "      <td>bimodal</td>\n",
       "      <td>2325</td>\n",
       "    </tr>\n",
       "  </tbody>\n",
       "</table>\n",
       "</div>"
      ],
      "text/plain": [
       "  phenotype       modality  # AS events\n",
       "0        MN        bimodal         1316\n",
       "1        MN       excluded         1175\n",
       "2        MN       included         2995\n",
       "3        MN  uncategorized            2\n",
       "4       NPC        bimodal         2325"
      ]
     },
     "execution_count": 14,
     "metadata": {},
     "output_type": "execute_result"
    }
   ],
   "source": [
    "modalities_counts = modalities_tidy.groupby(['phenotype', 'modality']).count().reset_index()\n",
    "modalities_counts = modalities_counts.rename(columns={'event_id': '# AS events'})\n",
    "modalities_counts.head()"
   ]
  },
  {
   "cell_type": "code",
   "execution_count": 15,
   "metadata": {
    "collapsed": true
   },
   "outputs": [],
   "source": [
    "from anchor import MODALITY_ORDER, MODALITY_PALETTE, MODALITY_TO_COLOR"
   ]
  },
  {
   "cell_type": "code",
   "execution_count": 16,
   "metadata": {
    "collapsed": false
   },
   "outputs": [
    {
     "data": {
      "text/html": [
       "<div>\n",
       "<table border=\"1\" class=\"dataframe\">\n",
       "  <thead>\n",
       "    <tr style=\"text-align: right;\">\n",
       "      <th>phenotype</th>\n",
       "      <th>iPSC</th>\n",
       "      <th>NPC</th>\n",
       "      <th>MN</th>\n",
       "    </tr>\n",
       "    <tr>\n",
       "      <th>modality</th>\n",
       "      <th></th>\n",
       "      <th></th>\n",
       "      <th></th>\n",
       "    </tr>\n",
       "  </thead>\n",
       "  <tbody>\n",
       "    <tr>\n",
       "      <th>excluded</th>\n",
       "      <td>2293</td>\n",
       "      <td>1732</td>\n",
       "      <td>1175</td>\n",
       "    </tr>\n",
       "    <tr>\n",
       "      <th>bimodal</th>\n",
       "      <td>3438</td>\n",
       "      <td>2325</td>\n",
       "      <td>1316</td>\n",
       "    </tr>\n",
       "    <tr>\n",
       "      <th>included</th>\n",
       "      <td>6105</td>\n",
       "      <td>4597</td>\n",
       "      <td>2995</td>\n",
       "    </tr>\n",
       "    <tr>\n",
       "      <th>middle</th>\n",
       "      <td>1</td>\n",
       "      <td>NaN</td>\n",
       "      <td>NaN</td>\n",
       "    </tr>\n",
       "    <tr>\n",
       "      <th>uncategorized</th>\n",
       "      <td>34</td>\n",
       "      <td>4</td>\n",
       "      <td>2</td>\n",
       "    </tr>\n",
       "  </tbody>\n",
       "</table>\n",
       "</div>"
      ],
      "text/plain": [
       "phenotype      iPSC   NPC    MN\n",
       "modality                       \n",
       "excluded       2293  1732  1175\n",
       "bimodal        3438  2325  1316\n",
       "included       6105  4597  2995\n",
       "middle            1   NaN   NaN\n",
       "uncategorized    34     4     2"
      ]
     },
     "execution_count": 16,
     "metadata": {},
     "output_type": "execute_result"
    }
   ],
   "source": [
    "modalities_counts_2d = modalities_counts.pivot(index='phenotype', columns='modality', values='# AS events')\n",
    "modalities_counts_2d = modalities_counts_2d.reindex(columns=MODALITY_ORDER, index=study.phenotype_order)\n",
    "modalities_counts_2d = modalities_counts_2d.T\n",
    "modalities_counts_2d"
   ]
  },
  {
   "cell_type": "code",
   "execution_count": 24,
   "metadata": {
    "collapsed": false
   },
   "outputs": [
    {
     "data": {
      "image/png": "[encoded data removed]",
      "text/plain": [
       "<matplotlib.figure.Figure at 0x2ac71200c510>"
      ]
     },
     "metadata": {},
     "output_type": "display_data"
    }
   ],
   "source": [
    "fig, ax= plt.subplots(figsize=(3, 2))\n",
    "mask = modalities_counts_2d.isnull()\n",
    "sns.heatmap(modalities_counts_2d, annot=True, mask=mask, fmt='g', annot_kws=dict(size=8), cmap='Greys')\n",
    "ax.set(xlabel='', ylabel='')\n",
    "fig.tight_layout()\n",
    "fig.savefig('{}/modalities_counts_heatmap.pdf'.format(folder))"
   ]
  },
  {
   "cell_type": "code",
   "execution_count": 18,
   "metadata": {
    "collapsed": false
   },
   "outputs": [
    {
     "data": {
      "text/html": [
       "<div>\n",
       "<table border=\"1\" class=\"dataframe\">\n",
       "  <thead>\n",
       "    <tr style=\"text-align: right;\">\n",
       "      <th></th>\n",
       "      <th>phenotype</th>\n",
       "      <th>modality</th>\n",
       "      <th># AS events</th>\n",
       "      <th>percentage</th>\n",
       "    </tr>\n",
       "  </thead>\n",
       "  <tbody>\n",
       "    <tr>\n",
       "      <th>0</th>\n",
       "      <td>MN</td>\n",
       "      <td>bimodal</td>\n",
       "      <td>1316</td>\n",
       "      <td>23.979592</td>\n",
       "    </tr>\n",
       "    <tr>\n",
       "      <th>1</th>\n",
       "      <td>MN</td>\n",
       "      <td>excluded</td>\n",
       "      <td>1175</td>\n",
       "      <td>21.410350</td>\n",
       "    </tr>\n",
       "    <tr>\n",
       "      <th>2</th>\n",
       "      <td>MN</td>\n",
       "      <td>included</td>\n",
       "      <td>2995</td>\n",
       "      <td>54.573615</td>\n",
       "    </tr>\n",
       "    <tr>\n",
       "      <th>3</th>\n",
       "      <td>MN</td>\n",
       "      <td>uncategorized</td>\n",
       "      <td>2</td>\n",
       "      <td>0.036443</td>\n",
       "    </tr>\n",
       "    <tr>\n",
       "      <th>4</th>\n",
       "      <td>NPC</td>\n",
       "      <td>bimodal</td>\n",
       "      <td>2325</td>\n",
       "      <td>26.853777</td>\n",
       "    </tr>\n",
       "    <tr>\n",
       "      <th>5</th>\n",
       "      <td>NPC</td>\n",
       "      <td>excluded</td>\n",
       "      <td>1732</td>\n",
       "      <td>20.004620</td>\n",
       "    </tr>\n",
       "    <tr>\n",
       "      <th>6</th>\n",
       "      <td>NPC</td>\n",
       "      <td>included</td>\n",
       "      <td>4597</td>\n",
       "      <td>53.095403</td>\n",
       "    </tr>\n",
       "    <tr>\n",
       "      <th>7</th>\n",
       "      <td>NPC</td>\n",
       "      <td>uncategorized</td>\n",
       "      <td>4</td>\n",
       "      <td>0.046200</td>\n",
       "    </tr>\n",
       "    <tr>\n",
       "      <th>8</th>\n",
       "      <td>iPSC</td>\n",
       "      <td>bimodal</td>\n",
       "      <td>3438</td>\n",
       "      <td>28.961334</td>\n",
       "    </tr>\n",
       "    <tr>\n",
       "      <th>9</th>\n",
       "      <td>iPSC</td>\n",
       "      <td>excluded</td>\n",
       "      <td>2293</td>\n",
       "      <td>19.315980</td>\n",
       "    </tr>\n",
       "    <tr>\n",
       "      <th>10</th>\n",
       "      <td>iPSC</td>\n",
       "      <td>included</td>\n",
       "      <td>6105</td>\n",
       "      <td>51.427849</td>\n",
       "    </tr>\n",
       "    <tr>\n",
       "      <th>11</th>\n",
       "      <td>iPSC</td>\n",
       "      <td>middle</td>\n",
       "      <td>1</td>\n",
       "      <td>0.008424</td>\n",
       "    </tr>\n",
       "    <tr>\n",
       "      <th>12</th>\n",
       "      <td>iPSC</td>\n",
       "      <td>uncategorized</td>\n",
       "      <td>34</td>\n",
       "      <td>0.286412</td>\n",
       "    </tr>\n",
       "  </tbody>\n",
       "</table>\n",
       "</div>"
      ],
      "text/plain": [
       "   phenotype       modality  # AS events  percentage\n",
       "0         MN        bimodal         1316   23.979592\n",
       "1         MN       excluded         1175   21.410350\n",
       "2         MN       included         2995   54.573615\n",
       "3         MN  uncategorized            2    0.036443\n",
       "4        NPC        bimodal         2325   26.853777\n",
       "5        NPC       excluded         1732   20.004620\n",
       "6        NPC       included         4597   53.095403\n",
       "7        NPC  uncategorized            4    0.046200\n",
       "8       iPSC        bimodal         3438   28.961334\n",
       "9       iPSC       excluded         2293   19.315980\n",
       "10      iPSC       included         6105   51.427849\n",
       "11      iPSC         middle            1    0.008424\n",
       "12      iPSC  uncategorized           34    0.286412"
      ]
     },
     "execution_count": 18,
     "metadata": {},
     "output_type": "execute_result"
    }
   ],
   "source": [
    "modalities_counts['percentage'] = 100*modalities_counts.groupby('phenotype')['# AS events'].apply(lambda x: x/x.sum())\n",
    "modalities_counts"
   ]
  },
  {
   "cell_type": "code",
   "execution_count": 19,
   "metadata": {
    "collapsed": false
   },
   "outputs": [
    {
     "name": "stderr",
     "output_type": "stream",
     "text": [
      "/home/obotvinnik/anaconda/lib/python2.7/site-packages/seaborn/categorical.py:2848: UserWarning: The `x_order` parameter has been renamed `order`\n",
      "  UserWarning)\n"
     ]
    },
    {
     "data": {
      "image/png": "[encoded data removed]",
      "text/plain": [
       "<matplotlib.figure.Figure at 0x2ac711f18950>"
      ]
     },
     "metadata": {},
     "output_type": "display_data"
    }
   ],
   "source": [
    "sns.set(style='ticks')\n",
    "fig, axes = plt.subplots(nrows=2, sharex=True, figsize=(2, 2), gridspec_kw=dict(hspace=0.1, height_ratios=[0.2, 0.8]))\n",
    "\n",
    "ax = axes[0]\n",
    "sns.barplot(x='phenotype', hue='modality', y='percentage', data=modalities_counts, ax=ax,\n",
    "            hue_order=MODALITY_ORDER, palette=MODALITY_PALETTE, x_order=study.phenotype_order)\n",
    "ax.legend_.set_visible(False)\n",
    "ax.locator_params('y', nbins=4)\n",
    "sns.despine(ax=ax, bottom=True)\n",
    "ax.tick_params(axis='x', bottom='off')\n",
    "ax.set(xticks=[], xlabel='', ylim=(10, 65), ylabel='') #yticks=[10, 50, ])\n",
    "\n",
    "ax = axes[1]\n",
    "sns.barplot(x='phenotype', hue='modality', y='percentage', data=modalities_counts, ax=ax,\n",
    "           hue_order=MODALITY_ORDER, palette=MODALITY_PALETTE, x_order=study.phenotype_order)\n",
    "ax.set(ylim=(0, 0.5), ylabel='Percentage of AS Events', \n",
    "       xlabel='')\n",
    "ax.legend_.set_visible(False)\n",
    "ax.locator_params('y', nbins=4)\n",
    "sns.despine(ax=ax)\n",
    "# fig.tight_layout()\n",
    "fig.savefig('{}/modalities_barplot.pdf'.format(folder))"
   ]
  },
  {
   "cell_type": "code",
   "execution_count": 20,
   "metadata": {
    "collapsed": true
   },
   "outputs": [],
   "source": [
    "study.supplemental.modalities_tidy = modalities_tidy"
   ]
  },
  {
   "cell_type": "code",
   "execution_count": 21,
   "metadata": {
    "collapsed": false
   },
   "outputs": [
    {
     "data": {
      "text/plain": [
       "phenotype  modality     \n",
       "MN         bimodal          1316\n",
       "           excluded         1175\n",
       "           included         2995\n",
       "           uncategorized       2\n",
       "NPC        bimodal          2325\n",
       "           excluded         1732\n",
       "           included         4597\n",
       "           uncategorized       4\n",
       "iPSC       bimodal          3438\n",
       "           excluded         2293\n",
       "           included         6105\n",
       "           middle              1\n",
       "           uncategorized      34\n",
       "dtype: int64"
      ]
     },
     "execution_count": 21,
     "metadata": {},
     "output_type": "execute_result"
    }
   ],
   "source": [
    "modalities_tidy.groupby(['phenotype', 'modality']).size()"
   ]
  },
  {
   "cell_type": "code",
   "execution_count": 22,
   "metadata": {
    "collapsed": false
   },
   "outputs": [
    {
     "name": "stdout",
     "output_type": "stream",
     "text": [
      "Wrote datapackage to /projects/ps-yeolab/obotvinnik/flotilla_projects/singlecell_pnm_figure2_modalities_bayesian/datapackage.json\n"
     ]
    }
   ],
   "source": [
    "flotilla_dir = '/projects/ps-yeolab/obotvinnik/flotilla_projects'\n",
    "study.save('singlecell_pnm_figure2_modalities_bayesian', flotilla_dir=flotilla_dir)"
   ]
  },
  {
   "cell_type": "code",
   "execution_count": null,
   "metadata": {
    "collapsed": true
   },
   "outputs": [],
   "source": []
  }
 ],
 "metadata": {
  "kernelspec": {
   "display_name": "Python 2",
   "language": "python",
   "name": "python2"
  },
  "language_info": {
   "codemirror_mode": {
    "name": "ipython",
    "version": 2
   },
   "file_extension": ".py",
   "mimetype": "text/x-python",
   "name": "python",
   "nbconvert_exporter": "python",
   "pygments_lexer": "ipython2",
   "version": "2.7.11"
  }
 },
 "nbformat": 4,
 "nbformat_minor": 0
}
