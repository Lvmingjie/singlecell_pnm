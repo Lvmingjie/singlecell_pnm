{
 "cells": [
  {
   "cell_type": "markdown",
   "metadata": {},
   "source": [
    "## Hierarchical clustering of modalities"
   ]
  },
  {
   "cell_type": "code",
   "execution_count": 1,
   "metadata": {
    "collapsed": false
   },
   "outputs": [
    {
     "name": "stderr",
     "output_type": "stream",
     "text": [
      "/home/obotvinnik/anaconda/lib/python2.7/site-packages/matplotlib/__init__.py:810: UserWarning: Found matplotlib configuration in ~/.matplotlib/. To conform with the XDG base directory standard, this configuration location has been deprecated on Linux, and the new location is now /home/obotvinnik/.config/matplotlib/. Please move your configuration there to ensure that matplotlib will continue to find it in the future.\n",
      "  _get_xdg_config_dir())\n",
      "/home/obotvinnik/anaconda/lib/python2.7/site-packages/flotilla/__init__.py:55: DtypeWarning: Columns (18) have mixed types. Specify dtype option on import or set low_memory=False.\n",
      "  load_species_data=load_species_data)\n"
     ]
    },
    {
     "name": "stdout",
     "output_type": "stream",
     "text": [
      "2016-02-12 18:23:43\tReading datapackage from /projects/ps-yeolab/obotvinnik/flotilla_projects/singlecell_pnm_figure2_modalities_bayesian/datapackage.json\n",
      "2016-02-12 18:23:43\tParsing datapackage to create a Study object\n",
      "2016-02-12 18:24:30\tInitializing Study\n",
      "2016-02-12 18:24:30\tInitializing Predictor configuration manager for Study\n",
      "2016-02-12 18:24:30\tPredictor ExtraTreesClassifier is of type <class 'sklearn.ensemble.forest.ExtraTreesClassifier'>\n",
      "2016-02-12 18:24:30\tAdded ExtraTreesClassifier to default predictors\n",
      "2016-02-12 18:24:30\tPredictor ExtraTreesRegressor is of type <class 'sklearn.ensemble.forest.ExtraTreesRegressor'>\n",
      "2016-02-12 18:24:30\tAdded ExtraTreesRegressor to default predictors\n",
      "2016-02-12 18:24:30\tPredictor GradientBoostingClassifier is of type <class 'sklearn.ensemble.gradient_boosting.GradientBoostingClassifier'>\n",
      "2016-02-12 18:24:30\tAdded GradientBoostingClassifier to default predictors\n",
      "2016-02-12 18:24:30\tPredictor GradientBoostingRegressor is of type <class 'sklearn.ensemble.gradient_boosting.GradientBoostingRegressor'>\n",
      "2016-02-12 18:24:30\tAdded GradientBoostingRegressor to default predictors\n",
      "2016-02-12 18:24:36\tBuilding Gene Ontology database...\n",
      "2016-02-12 18:24:48\t\tDone.\n",
      "2016-02-12 18:24:49\tLoading metadata\n",
      "2016-02-12 18:24:49\tLoading expression data\n",
      "2016-02-12 18:24:49\tInitializing expression\n",
      "2016-02-12 18:24:49\tDone initializing expression\n",
      "2016-02-12 18:24:51\tLoading splicing data\n",
      "2016-02-12 18:24:51\tInitializing splicing\n",
      "2016-02-12 18:24:51\tDone initializing splicing\n",
      "2016-02-12 18:24:51\tSuccessfully initialized a Study object!\n"
     ]
    }
   ],
   "source": [
    "import six\n",
    "\n",
    "%load_ext autoreload\n",
    "%autoreload 2\n",
    "\n",
    "import matplotlib.pyplot as plt\n",
    "import seaborn as sns\n",
    "import numpy as np\n",
    "import pandas as pd\n",
    "\n",
    "sns.set(style='ticks', context='talk', rc={'font.sans-serif':'Arial', 'pdf.fonttype': 42})\n",
    "\n",
    "%matplotlib inline\n",
    "\n",
    "\n",
    "\n",
    "import flotilla\n",
    "flotilla_dir = '/projects/ps-yeolab/obotvinnik/flotilla_projects'\n",
    "\n",
    "study = flotilla.embark('singlecell_pnm_figure2_modalities_bayesian', flotilla_dir=flotilla_dir)\n",
    "\n",
    "not_outliers = study.splicing.singles.index.difference(study.splicing.outliers.index)"
   ]
  },
  {
   "cell_type": "code",
   "execution_count": 2,
   "metadata": {
    "collapsed": true
   },
   "outputs": [],
   "source": [
    "\n",
    "not_outliers = study.splicing.singles.index.difference(study.splicing.outliers.index)\n",
    "splicing_singles_no_outliers = study.splicing.singles.ix[not_outliers]\n"
   ]
  },
  {
   "cell_type": "markdown",
   "metadata": {},
   "source": [
    "## Clustering of bimodal events"
   ]
  },
  {
   "cell_type": "code",
   "execution_count": 3,
   "metadata": {
    "collapsed": false
   },
   "outputs": [
    {
     "name": "stdout",
     "output_type": "stream",
     "text": [
      "The history saving thread hit an unexpected error (OperationalError('database is locked',)).History will not be written to the database.\n"
     ]
    }
   ],
   "source": [
    "folder = '/home/obotvinnik/Dropbox/figures2/singlecell_pnm/figure2_modalities/bayesian/modality_clustering/'"
   ]
  },
  {
   "cell_type": "code",
   "execution_count": 4,
   "metadata": {
    "collapsed": true
   },
   "outputs": [],
   "source": [
    "sns.set(context='paper', style='ticks')"
   ]
  },
  {
   "cell_type": "code",
   "execution_count": 5,
   "metadata": {
    "collapsed": false
   },
   "outputs": [
    {
     "ename": "AttributeError",
     "evalue": "'DataFrame' object has no attribute 'event_name'",
     "output_type": "error",
     "traceback": [
      "\u001b[1;31m---------------------------------------------------------------------------\u001b[0m",
      "\u001b[1;31mAttributeError\u001b[0m                            Traceback (most recent call last)",
      "\u001b[1;32m<ipython-input-5-f21064ea7cda>\u001b[0m in \u001b[0;36m<module>\u001b[1;34m()\u001b[0m\n\u001b[0;32m      5\u001b[0m     \u001b[0msamples\u001b[0m \u001b[1;33m=\u001b[0m \u001b[0mstudy\u001b[0m\u001b[1;33m.\u001b[0m\u001b[0msample_subset_to_sample_ids\u001b[0m\u001b[1;33m(\u001b[0m\u001b[0mphenotype\u001b[0m\u001b[1;33m)\u001b[0m\u001b[1;33m\u001b[0m\u001b[0m\n\u001b[0;32m      6\u001b[0m \u001b[1;33m\u001b[0m\u001b[0m\n\u001b[1;32m----> 7\u001b[1;33m     \u001b[0mpsi_subset\u001b[0m \u001b[1;33m=\u001b[0m \u001b[0msplicing_singles_no_outliers\u001b[0m\u001b[1;33m.\u001b[0m\u001b[0mloc\u001b[0m\u001b[1;33m[\u001b[0m\u001b[0msamples\u001b[0m\u001b[1;33m,\u001b[0m \u001b[0mdf\u001b[0m\u001b[1;33m.\u001b[0m\u001b[0mevent_name\u001b[0m\u001b[1;33m]\u001b[0m\u001b[1;33m.\u001b[0m\u001b[0mdropna\u001b[0m\u001b[1;33m(\u001b[0m\u001b[0mhow\u001b[0m\u001b[1;33m=\u001b[0m\u001b[1;34m'all'\u001b[0m\u001b[1;33m,\u001b[0m \u001b[0maxis\u001b[0m\u001b[1;33m=\u001b[0m\u001b[1;36m1\u001b[0m\u001b[1;33m)\u001b[0m\u001b[1;33m.\u001b[0m\u001b[0mdropna\u001b[0m\u001b[1;33m(\u001b[0m\u001b[0mhow\u001b[0m\u001b[1;33m=\u001b[0m\u001b[1;34m'all'\u001b[0m\u001b[1;33m,\u001b[0m \u001b[0maxis\u001b[0m\u001b[1;33m=\u001b[0m\u001b[1;36m0\u001b[0m\u001b[1;33m)\u001b[0m\u001b[1;33m\u001b[0m\u001b[0m\n\u001b[0m\u001b[0;32m      8\u001b[0m     \u001b[0mmask\u001b[0m \u001b[1;33m=\u001b[0m \u001b[0mpsi_subset\u001b[0m\u001b[1;33m.\u001b[0m\u001b[0misnull\u001b[0m\u001b[1;33m(\u001b[0m\u001b[1;33m)\u001b[0m\u001b[1;33m\u001b[0m\u001b[0m\n\u001b[0;32m      9\u001b[0m     \u001b[0mcorr\u001b[0m \u001b[1;33m=\u001b[0m \u001b[0mpsi_subset\u001b[0m\u001b[1;33m.\u001b[0m\u001b[0mcorr\u001b[0m\u001b[1;33m(\u001b[0m\u001b[1;33m)\u001b[0m\u001b[1;33m\u001b[0m\u001b[0m\n",
      "\u001b[1;32m/home/obotvinnik/anaconda/lib/python2.7/site-packages/pandas/core/generic.pyc\u001b[0m in \u001b[0;36m__getattr__\u001b[1;34m(self, name)\u001b[0m\n\u001b[0;32m   2358\u001b[0m                 \u001b[1;32mreturn\u001b[0m \u001b[0mself\u001b[0m\u001b[1;33m[\u001b[0m\u001b[0mname\u001b[0m\u001b[1;33m]\u001b[0m\u001b[1;33m\u001b[0m\u001b[0m\n\u001b[0;32m   2359\u001b[0m             raise AttributeError(\"'%s' object has no attribute '%s'\" %\n\u001b[1;32m-> 2360\u001b[1;33m                                  (type(self).__name__, name))\n\u001b[0m\u001b[0;32m   2361\u001b[0m \u001b[1;33m\u001b[0m\u001b[0m\n\u001b[0;32m   2362\u001b[0m     \u001b[1;32mdef\u001b[0m \u001b[0m__setattr__\u001b[0m\u001b[1;33m(\u001b[0m\u001b[0mself\u001b[0m\u001b[1;33m,\u001b[0m \u001b[0mname\u001b[0m\u001b[1;33m,\u001b[0m \u001b[0mvalue\u001b[0m\u001b[1;33m)\u001b[0m\u001b[1;33m:\u001b[0m\u001b[1;33m\u001b[0m\u001b[0m\n",
      "\u001b[1;31mAttributeError\u001b[0m: 'DataFrame' object has no attribute 'event_name'"
     ]
    }
   ],
   "source": [
    "bimodal = study.supplemental.modalities_tidy.loc[study.supplemental.modalities_tidy.modality == 'bimodal']\n",
    "\n",
    "for phenotype, df in bimodal.groupby('phenotype'):\n",
    "#     sample_colors = study.sample_id_to_color[psi_subset.index]\n",
    "    samples = study.sample_subset_to_sample_ids(phenotype)\n",
    "\n",
    "    psi_subset = splicing_singles_no_outliers.loc[samples, df.event_name].dropna(how='all', axis=1).dropna(how='all', axis=0)\n",
    "    mask = psi_subset.isnull()\n",
    "    corr = psi_subset.corr()\n",
    "    \n",
    "    fig, ax = plt.subplots(figsize=(2, 2))\n",
    "    mean = corr.mean().mean()\n",
    "    std = corr.std().std()\n",
    "    cutoff = mean + 3*std\n",
    "    sns.distplot(corr.values.flat, bins=np.linspace(-1, 1, 50), ax=ax)\n",
    "    ymin, ymax = ax.get_ylim()\n",
    "    ax.vlines(cutoff, ymin, ymax, linestyle='--')\n",
    "    ax.vlines(-cutoff, ymin, ymax, linestyle='--')\n",
    "    ax.set(title=phenotype)\n",
    "    \n",
    "    corr_filtered = corr[corr.abs() >= 0.5]\n",
    "    \n",
    "#     g = sns.clustermap(psi_subset.fillna(0.5), mask=mask, metric='euclidean', cmap='RdYlBu_r', center=0.5, \n",
    "#     #                    col_cluster=False,\n",
    "#                        cbar_kws=dict(label='$\\Psi$'), method='ward')\n",
    "#     g.ax_heatmap.set(xticks=[], yticks=[], xlabel='Bimodal splicing events', ylabel='Single {}s'.format(phenotype))\n",
    "#     g.savefig('{}/bimodal_{}.pdf'.format(folder, phenotype))"
   ]
  },
  {
   "cell_type": "code",
   "execution_count": null,
   "metadata": {
    "collapsed": true
   },
   "outputs": [],
   "source": [
    "phenotype = 'MN'\n",
    "df = bimodal.groupby('phenotype').get_group(phenotype)"
   ]
  },
  {
   "cell_type": "code",
   "execution_count": null,
   "metadata": {
    "collapsed": true
   },
   "outputs": [],
   "source": [
    "samples = study.sample_subset_to_sample_ids(phenotype)\n",
    "\n",
    "psi_subset = splicing_singles_no_outliers.loc[samples, df.event_name].dropna(how='all', axis=1).dropna(how='all', axis=0)\n",
    "mask = psi_subset.isnull()\n",
    "corr = psi_subset.corr()\n"
   ]
  },
  {
   "cell_type": "code",
   "execution_count": null,
   "metadata": {
    "collapsed": false
   },
   "outputs": [],
   "source": [
    "corr_subset = corr[corr.abs() >= 0.5]"
   ]
  },
  {
   "cell_type": "code",
   "execution_count": null,
   "metadata": {
    "collapsed": false
   },
   "outputs": [],
   "source": [
    "corr_subset.shape"
   ]
  },
  {
   "cell_type": "code",
   "execution_count": null,
   "metadata": {
    "collapsed": false
   },
   "outputs": [],
   "source": [
    "corr_subset.count()"
   ]
  },
  {
   "cell_type": "code",
   "execution_count": null,
   "metadata": {
    "collapsed": false
   },
   "outputs": [],
   "source": [
    "count = corr_subset.count()\n",
    "count.mean()"
   ]
  },
  {
   "cell_type": "code",
   "execution_count": null,
   "metadata": {
    "collapsed": false
   },
   "outputs": [],
   "source": [
    "count.std()"
   ]
  },
  {
   "cell_type": "code",
   "execution_count": null,
   "metadata": {
    "collapsed": false
   },
   "outputs": [],
   "source": [
    "sns.distplot(count)"
   ]
  },
  {
   "cell_type": "code",
   "execution_count": null,
   "metadata": {
    "collapsed": false
   },
   "outputs": [],
   "source": [
    "smarce1_events = study.splicing.maybe_renamed_to_feature_id('SMARCE1').intersection(corr_subset.columns)\n",
    "snap25_events = study.splicing.maybe_renamed_to_feature_id('SNAP25').intersection(corr_subset.columns)"
   ]
  },
  {
   "cell_type": "code",
   "execution_count": null,
   "metadata": {
    "collapsed": false
   },
   "outputs": [],
   "source": [
    "count[smarce1_events]"
   ]
  },
  {
   "cell_type": "code",
   "execution_count": null,
   "metadata": {
    "collapsed": false
   },
   "outputs": [],
   "source": [
    "\n",
    "count_cutoff = count.mean() - count.std()\n",
    "corr_filtered = corr.loc[count > count_cutoff, count > count_cutoff]\n",
    "corr_filtered"
   ]
  },
  {
   "cell_type": "code",
   "execution_count": null,
   "metadata": {
    "collapsed": true
   },
   "outputs": [],
   "source": [
    "psi_folder = '/home/obotvinnik/Dropbox/figures2/singlecell_pnm/figure2_modalities/bayesian/permutations/psi'\n",
    "\n",
    "dfs = []\n",
    "\n",
    "for csv in sorted(glob.glob('{}/*.csv'.format(psi_folder))):\n",
    "    psi = pd.read_csv(csv, index_col=0)\n",
    "    df = psi.groupby(study.sample_id_to_phenotype).apply(\n",
    "        lambda x: ws.fit_transform(x.dropna(how='all', axis=1)))\n",
    "    df['iteration'] = int(os.path.basename(csv).split('.')[0].split('_')[1])\n",
    "    df = df.reset_index()\n",
    "    dfs.append(df)\n",
    "    \n",
    "waypoints = pd.concat(dfs, ignore_index=True)\n",
    "# sizes.columns = "
   ]
  },
  {
   "cell_type": "code",
   "execution_count": null,
   "metadata": {
    "collapsed": false
   },
   "outputs": [],
   "source": [
    "sns.clustermap(corr_filtered.fillna(0), metric='cityblock')"
   ]
  },
  {
   "cell_type": "code",
   "execution_count": null,
   "metadata": {
    "collapsed": false
   },
   "outputs": [],
   "source": [
    "snap25_smarce1 = corr_subset.loc[smarce1_events, snap25_events]\n",
    "six.print_(snap25_smarce1.shape)\n",
    "# sns.heatmap(snap25_smarce1)\n",
    "snap25_smarce1"
   ]
  },
  {
   "cell_type": "code",
   "execution_count": null,
   "metadata": {
    "collapsed": false
   },
   "outputs": [],
   "source": [
    "sns.clustermap(corr_subset.fillna(0), method='ward')"
   ]
  },
  {
   "cell_type": "code",
   "execution_count": null,
   "metadata": {
    "collapsed": false
   },
   "outputs": [],
   "source": [
    "corr_subset.dropna(thresh=1).shape"
   ]
  },
  {
   "cell_type": "markdown",
   "metadata": {},
   "source": [
    "### Cluster events that are bimodal in all - does it partition the celltypes?"
   ]
  },
  {
   "cell_type": "code",
   "execution_count": null,
   "metadata": {
    "collapsed": false
   },
   "outputs": [],
   "source": [
    "same_modality_all_celltypes = study.supplemental.modalities_tidy.groupby(['event_name', 'modality']).filter(lambda x: len(x) == 3)\n",
    "print same_modality_all_celltypes.shape\n",
    "same_modality_all_celltypes.head()\n",
    "bimodal_all = same_modality_all_celltypes.event_name[same_modality_all_celltypes.modality == 'bimodal'].unique()\n",
    "psi_subset = splicing_singles_no_outliers.ix[:, bimodal_all].dropna(thresh=splicing_singles_no_outliers.shape[0]*0.5, axis=1)\n",
    "print psi_subset.shape\n",
    "\n",
    "row_colors = study.sample_id_to_color[psi_subset.index]\n",
    "\n",
    "mask = psi_subset.isnull()\n",
    "psi_subset = psi_subset.fillna(0.5)\n",
    "xticklabels = study.splicing.feature_data.gene_name[psi_subset.columns]\n",
    "psi_ordering_scores = psi_subset.apply(flotilla.compute.splicing.switchy_score)\n",
    "psi_ordering_scores.sort()\n",
    "\n",
    "# psi_subset = psi_subset.ix[:, psi_ordering_scores.index]"
   ]
  },
  {
   "cell_type": "code",
   "execution_count": null,
   "metadata": {
    "collapsed": false
   },
   "outputs": [],
   "source": [
    "same_modality_all_celltypes.groupby(['modality']).size()/3"
   ]
  },
  {
   "cell_type": "code",
   "execution_count": null,
   "metadata": {
    "collapsed": true
   },
   "outputs": [],
   "source": [
    "folder = '.'"
   ]
  },
  {
   "cell_type": "code",
   "execution_count": null,
   "metadata": {
    "collapsed": false,
    "scrolled": true
   },
   "outputs": [],
   "source": [
    "# # non-outlier single cells and pooled\n",
    "# sample_ids = psi_filtered.index.tolist() + study.splicing.pooled.index.tolist()\n",
    "\n",
    "# for (event_name, modality), df in same_modality_all_celltypes.groupby(['event_name', 'modality']):\n",
    "#     if modality in ('~0', '~1'):\n",
    "#         continue\n",
    "    \n",
    "#     gene_name = study.splicing.feature_data.gene_name[event_name]\n",
    "#     gene_id = study.expression.data.columns.intersection(study.splicing.feature_data.ensembl_id[event_name].split(','))[0]\n",
    "#     print gene_name, event_name, modality\n",
    "\n",
    "#     fig, axes = plt.subplots(figsize=(8, 4), ncols=2)    \n",
    "#     study.splicing._violinplot(event_name, phenotype_groupby=study.sample_id_to_phenotype,\n",
    "#                                sample_ids=sample_ids,\n",
    "#                               phenotype_order=study.phenotype_order, ax=axes[0], color=study.phenotype_color_ordered,\n",
    "#                               bw=0.2, ylim=(0, 1), yticks=(0, 0.5, 1), ylabel='$\\Psi$')\n",
    "#     study.expression._violinplot(gene_id, phenotype_groupby=study.sample_id_to_phenotype,\n",
    "#                                sample_ids=sample_ids,\n",
    "#                               phenotype_order=study.phenotype_order, ax=axes[1], color=study.phenotype_color_ordered,)\n",
    "#     sns.despine()\n",
    "#     fig.tight_layout()\n",
    "#     fig.savefig('{}/same_modality_all_celltypes_{}_{}_{}.pdf'.format(folder, modality, gene_name, event_name))\n"
   ]
  },
  {
   "cell_type": "code",
   "execution_count": null,
   "metadata": {
    "collapsed": false
   },
   "outputs": [],
   "source": [
    "sample_colors = study.sample_id_to_color[psi_subset.index]\n",
    "\n",
    "g = sns.clustermap(psi_subset, mask=mask, metric='euclidean', cmap='RdYlBu_r', center=0.5, \n",
    "#                    col_cluster=False,\n",
    "                   cbar_kws=dict(label='$\\Psi$'), method='ward', xticklabels=xticklabels, row_colors=sample_colors)\n",
    "g.ax_heatmap.set(xticks=[], yticks=[], xlabel='Bimodal splicing events', ylabel='Single cells')\n",
    "g.savefig('{}/bimodal_all_celltypes_clustergrid.pdf'.format(folder))\n",
    "\n",
    "g = sns.clustermap(psi_subset.T.corr().dropna(how='all', axis=1).dropna(how='all', axis=0), \n",
    "                   metric='euclidean', cmap='PuOr', center=0,  col_colors=sample_colors, row_colors=sample_colors,\n",
    "                   cbar_kws=dict(label='Pearson $R$'), method='ward')\n",
    "g.ax_heatmap.set(xlabel='Single cells', ylabel='Single cells')\n",
    "g.savefig('{}/bimodal_all_celltypes_samples_correlated_clustergrid.pdf'.format(folder))\n",
    "\n",
    "g = sns.clustermap(psi_subset.corr().dropna(how='all', axis=1).dropna(how='all', axis=0), \n",
    "                   metric='euclidean', cmap='PuOr', center=0, \n",
    "                   cbar_kws=dict(label='Pearson $R$'), method='ward', xticklabels=xticklabels,\n",
    "                  yticklabels=xticklabels)\n",
    "g.ax_heatmap.set(xlabel='Bimodal splicing events', ylabel='Bimodal splicing events', xticks=[], yticks=[])\n",
    "g.savefig('{}/bimodal_all_celltypes_events_correlated_clustergrid.pdf'.format(folder))"
   ]
  },
  {
   "cell_type": "markdown",
   "metadata": {},
   "source": [
    "### Bimodal TFs"
   ]
  },
  {
   "cell_type": "code",
   "execution_count": null,
   "metadata": {
    "collapsed": false,
    "scrolled": false
   },
   "outputs": [],
   "source": [
    "bimodal = study.supplemental.modalities_tidy.loc[study.supplemental.modalities_tidy.modality == 'bimodal']\n",
    "bimodal = bimodal.join(study.splicing.feature_data, on='event_name')\n",
    "bimodal_tfs = bimodal.loc[bimodal['bioguo_animaltfdb_tf'].fillna(False)]\n",
    "bimodal_tf_events = bimodal_tfs.event_name.unique()\n",
    "print bimodal_tf_events.shape\n",
    "\n",
    "psi_bimodal_tfs = splicing_singles_no_outliers.ix[:, bimodal_tf_events].dropna(\n",
    "    thresh=splicing_singles_no_outliers.shape[0]*0.5, axis=1)\n",
    "\n",
    "sample_colors = study.sample_id_to_color[psi_bimodal_tfs.index]\n",
    "\n",
    "mask = psi_bimodal_tfs.isnull()\n",
    "psi_bimodal_tfs = psi_bimodal_tfs.fillna(0.5)\n",
    "xticklabels = study.splicing.feature_data.gene_name[psi_bimodal_tfs.columns]\n",
    "\n",
    "\n",
    "splicing_label = 'Bimodal splicing events in TFs'\n",
    "\n",
    "g = sns.clustermap(psi_bimodal_tfs, mask=mask, metric='euclidean', cmap='RdYlBu_r', center=0.5, \n",
    "                   cbar_kws=dict(label='$\\Psi$'), method='ward', xticklabels=xticklabels, row_colors=sample_colors)\n",
    "# g.ax_heatmap.set(xticks=[], yticks=[], xlabel=splicing_label, ylabel='Single cells')\n",
    "g.savefig('{}/bimodal_tfs_celltypes_clustergrid.pdf'.format(folder))\n",
    "\n",
    "g = sns.clustermap(psi_bimodal_tfs.T.corr().dropna(how='all', axis=1).dropna(how='all', axis=0), \n",
    "                   metric='euclidean', cmap='PuOr', center=0, figsize=(20, 20),\n",
    "                   cbar_kws=dict(label='Pearson $R$'), method='ward', col_colors=sample_colors, row_colors=sample_colors)\n",
    "g.ax_heatmap.set(xlabel='Single cells', ylabel='Single cells')\n",
    "g.savefig('{}/bimodal_tfs_celltypes_samples_correlated_clustergrid.pdf'.format(folder))\n",
    "\n",
    "g = sns.clustermap(psi_bimodal_tfs.corr().dropna(how='all', axis=1).dropna(how='all', axis=0), \n",
    "                   metric='euclidean', cmap='PuOr', center=0, \n",
    "                   cbar_kws=dict(label='Pearson $R$'), method='ward', xticklabels=xticklabels,\n",
    "                  yticklabels=xticklabels)\n",
    "# g.ax_heatmap.set(xlabel=splicing_label, ylabel=splicing_label, xticks=[], yticks=[])\n",
    "g.savefig('{}/bimodal_tfs_celltypes_events_correlated_clustergrid.pdf'.format(folder))"
   ]
  },
  {
   "cell_type": "markdown",
   "metadata": {},
   "source": [
    "### Bimodal RBPs which bind mRNA"
   ]
  },
  {
   "cell_type": "code",
   "execution_count": null,
   "metadata": {
    "collapsed": false
   },
   "outputs": [],
   "source": [
    "bimodal = study.supplemental.modalities_tidy.loc[study.supplemental.modalities_tidy.modality == 'bimodal']\n",
    "bimodal = bimodal.join(study.splicing.feature_data, on='event_name')\n",
    "bimodal_tfs = bimodal.loc[bimodal['gerstberger2014_rbp_target_mrna']]\n",
    "bimodal_tf_events = bimodal_tfs.event_name.unique()\n",
    "print bimodal_tf_events.shape\n",
    "\n",
    "psi_bimodal_tfs = splicing_singles_no_outliers.ix[:, bimodal_tf_events].dropna(\n",
    "    thresh=splicing_singles_no_outliers.shape[0]*0.5, axis=1)\n",
    "\n",
    "row_colors = study.sample_id_to_color[psi_bimodal_tfs.index]\n",
    "\n",
    "mask = psi_bimodal_tfs.isnull()\n",
    "psi_bimodal_tfs = psi_bimodal_tfs.fillna(0.5)\n",
    "xticklabels = study.splicing.feature_data.gene_name[psi_bimodal_tfs.columns]\n",
    "\n",
    "\n",
    "splicing_label = 'Bimodal splicing events in RBPs'\n",
    "\n",
    "g = sns.clustermap(psi_bimodal_tfs, mask=mask, metric='euclidean', cmap='RdYlBu_r', center=0.5, \n",
    "#                    col_cluster=False,\n",
    "                   cbar_kws=dict(label='$\\Psi$'), method='ward', xticklabels=xticklabels, row_colors=row_colors)\n",
    "g.ax_heatmap.set(xticks=[], yticks=[], xlabel=splicing_label, ylabel='Single cells')\n",
    "g.savefig('{}/bimodal_rbps_celltypes_clustergrid.pdf'.format(folder))\n",
    "\n",
    "g = sns.clustermap(psi_bimodal_tfs.T.corr().dropna(how='all', axis=1).dropna(how='all', axis=0), \n",
    "                   metric='euclidean', cmap='PuOr', center=0, \n",
    "                   cbar_kws=dict(label='Pearson $R$'), method='ward')\n",
    "g.ax_heatmap.set(xlabel='Single cells', ylabel='Single cells')\n",
    "g.savefig('{}/bimodal_rbps_celltypes_samples_correlated_clustergrid.pdf'.format(folder))\n",
    "\n",
    "g = sns.clustermap(psi_bimodal_tfs.corr().dropna(how='all', axis=1).dropna(how='all', axis=0), \n",
    "                   metric='euclidean', cmap='BrBG', center=0, \n",
    "                   cbar_kws=dict(label='Pearson $R$'), method='ward', xticklabels=xticklabels,\n",
    "                  yticklabels=xticklabels)\n",
    "g.ax_heatmap.set(xlabel=splicing_label, ylabel=splicing_label)\n",
    "g.savefig('{}/bimodal_rbps_celltypes_events_correlated_clustergrid.pdf'.format(folder))"
   ]
  },
  {
   "cell_type": "code",
   "execution_count": null,
   "metadata": {
    "collapsed": false
   },
   "outputs": [],
   "source": [
    "study.plot_event('HNRNPR')"
   ]
  },
  {
   "cell_type": "code",
   "execution_count": null,
   "metadata": {
    "collapsed": false
   },
   "outputs": [],
   "source": [
    "study.plot_event(\"HNRNPC\")"
   ]
  },
  {
   "cell_type": "code",
   "execution_count": null,
   "metadata": {
    "collapsed": false
   },
   "outputs": [],
   "source": [
    "study.plot_event('HNRNPK')"
   ]
  },
  {
   "cell_type": "code",
   "execution_count": null,
   "metadata": {
    "collapsed": false,
    "scrolled": false
   },
   "outputs": [],
   "source": [
    "psi_grouped = splicing_singles_no_outliers.groupby(study.sample_id_to_phenotype)\n",
    "\n",
    "for phenotype, df in study.supplemental.modalities_tidy.groupby('phenotype'):\n",
    "    print phenotype\n",
    "    bimodal_events = df.event_name[df.modality == 'bimodal']\n",
    "    psi_subset = psi_grouped.get_group(phenotype)\n",
    "    print '\\t', psi_subset.shape\n",
    "    thresh = int(psi_subset.shape[0]*0.5)\n",
    "    psi_subset = psi_subset.ix[:, bimodal_events].dropna(thresh=thresh, axis=1)\n",
    "    print '\\t', psi_subset.shape\n",
    "    mask = psi_subset.isnull()\n",
    "    psi_subset = psi_subset.fillna(0.5)\n",
    "    xticklabels = study.splicing.feature_data.gene_name[psi_subset.columns]\n",
    "    g = sns.clustermap(psi_subset, mask=mask, metric='euclidean', cmap='RdYlBu_r', center=0.5, \n",
    "                       cbar_kws=dict(label='$\\Psi$'), method='ward', xticklabels=xticklabels)\n",
    "    g.ax_heatmap.set(xticks=[], yticks=[], xlabel='Splicing events', ylabel='Single cells')\n",
    "    g.savefig('{}/bimodal_{}_clustergrid.pdf'.format(folder, phenotype))\n",
    "    \n",
    "    \n",
    "    g = sns.clustermap(psi_subset.T.corr(), metric='euclidean', cmap='PRGn', center=0, \n",
    "                       cbar_kws=dict(label='Pearson $R$'), method='ward')\n",
    "    g.ax_heatmap.set(xlabel='Single cells', ylabel='Single cells', xticks=[], yticks=[])\n",
    "    g.savefig('{}/bimodal_{}_samples_correlated_clustergrid.pdf'.format(folder, phenotype))\n",
    "\n",
    "    g = sns.clustermap(psi_subset.corr(), metric='euclidean', cmap='PRGn', center=0, \n",
    "                       cbar_kws=dict(label='Pearson $R$'), method='ward', xticklabels=xticklabels,\n",
    "                      yticklabels=xticklabels)\n",
    "    g.ax_heatmap.set(xticks=[], yticks=[], xlabel='Splicing events', ylabel='Splicing events')\n",
    "    g.savefig('{}/bimodal_{}_events_correlated_clustergrid.pdf'.format(folder, phenotype))"
   ]
  },
  {
   "cell_type": "code",
   "execution_count": null,
   "metadata": {
    "collapsed": false,
    "scrolled": false
   },
   "outputs": [],
   "source": [
    "psi_grouped = splicing_singles_no_outliers.groupby(study.sample_id_to_phenotype)\n",
    "\n",
    "for (phenotype, modality),  df in study.supplemental.modalities_tidy.groupby(['phenotype', 'modality']):\n",
    "    print phenotype, modality\n",
    "#     bimodal_events = df.event_name[df.modality == 'ambiguous']\n",
    "    psi_subset = psi_grouped.get_group(phenotype)\n",
    "#     sns.distplot(psi_subset.var().dropna(), label=phenotype)\n",
    "    \n",
    "#     psi_subset = psi_subset.ix[:, psi_subset.var() > 0.1]\n",
    "    \n",
    "    print '\\t', psi_subset.shape\n",
    "#     thresh = int(psi_subset.shape[0]*0.5)\n",
    "    thresh = 20\n",
    "    psi_subset = psi_subset.ix[:, df.event_name].dropna(thresh=thresh, axis=1)\n",
    "    print '\\t', psi_subset.shape\n",
    "    mask = psi_subset.isnull()\n",
    "    psi_subset = psi_subset.fillna(0.5)\n",
    "#     xticklabels = study.splicing.feature_data.gene_name[psi_subset.columns]\n",
    "    g = sns.clustermap(psi_subset, mask=mask, metric='euclidean', cmap='RdYlBu_r', center=0.5, \n",
    "                       cbar_kws=dict(label='$\\Psi$'), method='ward', )\n",
    "    g.ax_heatmap.set(xticks=[], yticks=[], xlabel='Splicing events', ylabel='Single cells')\n",
    "\n",
    "    g.savefig('{}/{}_{}_clustergrid.pdf'.format(folder, modality, phenotype))\n",
    "#     g.ax_heatmap.set(xticks=[], yticks=[])\n",
    "#     g.cax.set(ticks=(0, 0.5, 1))"
   ]
  },
  {
   "cell_type": "code",
   "execution_count": null,
   "metadata": {
    "collapsed": true
   },
   "outputs": [],
   "source": []
  },
  {
   "cell_type": "code",
   "execution_count": null,
   "metadata": {
    "collapsed": true
   },
   "outputs": [],
   "source": []
  }
 ],
 "metadata": {
  "kernelspec": {
   "display_name": "Python 2",
   "language": "python",
   "name": "python2"
  },
  "language_info": {
   "codemirror_mode": {
    "name": "ipython",
    "version": 2
   },
   "file_extension": ".py",
   "mimetype": "text/x-python",
   "name": "python",
   "nbconvert_exporter": "python",
   "pygments_lexer": "ipython2",
   "version": "2.7.11"
  }
 },
 "nbformat": 4,
 "nbformat_minor": 0
}
