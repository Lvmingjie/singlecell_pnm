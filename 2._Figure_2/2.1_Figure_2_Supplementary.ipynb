{
 "cells": [
  {
   "cell_type": "markdown",
   "metadata": {},
   "source": [
    "## Robustness of modality estimation"
   ]
  },
  {
   "cell_type": "code",
   "execution_count": 1,
   "metadata": {
    "collapsed": false
   },
   "outputs": [
    {
     "name": "stderr",
     "output_type": "stream",
     "text": [
      "/home/obotvinnik/anaconda/lib/python2.7/site-packages/matplotlib/__init__.py:784: UserWarning: Found matplotlib configuration in ~/.matplotlib/. To conform with the XDG base directory standard, this configuration location has been deprecated on Linux, and the new location is now /home/obotvinnik/.config/matplotlib/. Please move your configuration there to ensure that matplotlib will continue to find it in the future.\n",
      "  _get_xdg_config_dir())\n"
     ]
    }
   ],
   "source": [
    "import matplotlib.pyplot as plt\n",
    "import numpy as np\n",
    "import pandas as pd\n",
    "import seaborn as sns\n",
    "sns.set(style='ticks', context='talk', rc={'font.sans-serif':'Arial', 'pdf.fonttype': 42})\n",
    "\n",
    "import modish\n",
    "\n",
    "%load_ext autoreload\n",
    "%autoreload 2\n",
    "\n",
    "%matplotlib inline\n",
    "\n"
   ]
  },
  {
   "cell_type": "code",
   "execution_count": 2,
   "metadata": {
    "collapsed": false
   },
   "outputs": [
    {
     "data": {
      "text/html": [
       "<div>\n",
       "<table border=\"1\" class=\"dataframe\">\n",
       "  <thead>\n",
       "    <tr style=\"text-align: right;\">\n",
       "      <th></th>\n",
       "      <th>~0</th>\n",
       "      <th>~1</th>\n",
       "      <th>middle</th>\n",
       "      <th>bimodal</th>\n",
       "    </tr>\n",
       "  </thead>\n",
       "  <tbody>\n",
       "    <tr>\n",
       "      <th>0</th>\n",
       "      <td>0.061715</td>\n",
       "      <td>0.916289</td>\n",
       "      <td>0.541927</td>\n",
       "      <td>0.043578</td>\n",
       "    </tr>\n",
       "    <tr>\n",
       "      <th>1</th>\n",
       "      <td>0.044732</td>\n",
       "      <td>0.958158</td>\n",
       "      <td>0.498970</td>\n",
       "      <td>0.019236</td>\n",
       "    </tr>\n",
       "    <tr>\n",
       "      <th>2</th>\n",
       "      <td>0.015832</td>\n",
       "      <td>0.961375</td>\n",
       "      <td>0.505507</td>\n",
       "      <td>0.028540</td>\n",
       "    </tr>\n",
       "    <tr>\n",
       "      <th>3</th>\n",
       "      <td>0.093349</td>\n",
       "      <td>0.906615</td>\n",
       "      <td>0.486829</td>\n",
       "      <td>0.036894</td>\n",
       "    </tr>\n",
       "    <tr>\n",
       "      <th>4</th>\n",
       "      <td>0.068792</td>\n",
       "      <td>0.936681</td>\n",
       "      <td>0.527943</td>\n",
       "      <td>0.033623</td>\n",
       "    </tr>\n",
       "  </tbody>\n",
       "</table>\n",
       "</div>"
      ],
      "text/plain": [
       "         ~0        ~1    middle   bimodal\n",
       "0  0.061715  0.916289  0.541927  0.043578\n",
       "1  0.044732  0.958158  0.498970  0.019236\n",
       "2  0.015832  0.961375  0.505507  0.028540\n",
       "3  0.093349  0.906615  0.486829  0.036894\n",
       "4  0.068792  0.936681  0.527943  0.033623"
      ]
     },
     "execution_count": 2,
     "metadata": {},
     "output_type": "execute_result"
    }
   ],
   "source": [
    "size = 100\n",
    "psi0 = pd.Series(np.random.uniform(0, 0.1, size=size), name='~0')\n",
    "psi1 = pd.Series(np.random.uniform(0.9, 1, size=size), name='~1')\n",
    "middle = pd.Series(np.random.uniform(0.45, 0.55, size=size),\n",
    "                   name='middle')\n",
    "bimodal = pd.Series(np.concatenate([\n",
    "    np.random.uniform(0, 0.05, size=size / 2),\n",
    "    np.random.uniform(0.95, 1, size=size / 2)]), name='bimodal')\n",
    "ideal_modalities = pd.concat([psi0, psi1, middle, bimodal], axis=1)\n",
    "ideal_modalities.head()"
   ]
  },
  {
   "cell_type": "markdown",
   "metadata": {},
   "source": [
    "Reshape data into a \"tidy/tall\" dataframe for easier plotting with seaborn"
   ]
  },
  {
   "cell_type": "code",
   "execution_count": 3,
   "metadata": {
    "collapsed": false
   },
   "outputs": [
    {
     "data": {
      "text/html": [
       "<div>\n",
       "<table border=\"1\" class=\"dataframe\">\n",
       "  <thead>\n",
       "    <tr style=\"text-align: right;\">\n",
       "      <th></th>\n",
       "      <th>modality</th>\n",
       "      <th>sample_id</th>\n",
       "      <th>$\\Psi$</th>\n",
       "    </tr>\n",
       "  </thead>\n",
       "  <tbody>\n",
       "    <tr>\n",
       "      <th>0</th>\n",
       "      <td>~0</td>\n",
       "      <td>0</td>\n",
       "      <td>0.061715</td>\n",
       "    </tr>\n",
       "    <tr>\n",
       "      <th>1</th>\n",
       "      <td>~0</td>\n",
       "      <td>1</td>\n",
       "      <td>0.044732</td>\n",
       "    </tr>\n",
       "    <tr>\n",
       "      <th>2</th>\n",
       "      <td>~0</td>\n",
       "      <td>2</td>\n",
       "      <td>0.015832</td>\n",
       "    </tr>\n",
       "    <tr>\n",
       "      <th>3</th>\n",
       "      <td>~0</td>\n",
       "      <td>3</td>\n",
       "      <td>0.093349</td>\n",
       "    </tr>\n",
       "    <tr>\n",
       "      <th>4</th>\n",
       "      <td>~0</td>\n",
       "      <td>4</td>\n",
       "      <td>0.068792</td>\n",
       "    </tr>\n",
       "  </tbody>\n",
       "</table>\n",
       "</div>"
      ],
      "text/plain": [
       "  modality  sample_id    $\\Psi$\n",
       "0       ~0          0  0.061715\n",
       "1       ~0          1  0.044732\n",
       "2       ~0          2  0.015832\n",
       "3       ~0          3  0.093349\n",
       "4       ~0          4  0.068792"
      ]
     },
     "execution_count": 3,
     "metadata": {},
     "output_type": "execute_result"
    }
   ],
   "source": [
    "ideal_modalities_tidy = ideal_modalities.unstack()\n",
    "ideal_modalities_tidy = ideal_modalities_tidy.reset_index()\n",
    "ideal_modalities_tidy = ideal_modalities_tidy.rename(columns={'level_0':'modality', 'level_1': 'sample_id', 0:'$\\Psi$'})\n",
    "ideal_modalities_tidy.modality = pd.Categorical(ideal_modalities_tidy.modality, \n",
    "                                                categories=['~0', 'middle', '~1', 'bimodal'],\n",
    "                                                ordered=True)\n",
    "ideal_modalities_tidy.head()"
   ]
  },
  {
   "cell_type": "code",
   "execution_count": 4,
   "metadata": {
    "collapsed": false
   },
   "outputs": [
    {
     "data": {
      "image/png": "[encoded data removed]",
      "text/plain": [
       "<matplotlib.figure.Figure at 0x2b1da44b3f90>"
      ]
     },
     "metadata": {},
     "output_type": "display_data"
    }
   ],
   "source": [
    "fig, ax = plt.subplots(figsize=(4, 3))\n",
    "sns.violinplot(x='modality', y=\"$\\Psi$\",\n",
    "               data=ideal_modalities_tidy, scale='width', inner=None)\n",
    "sns.stripplot(x='modality', y=\"$\\Psi$\",\n",
    "               data=ideal_modalities_tidy, jitter=True)\n",
    "sns.despine()\n",
    "ax.set(ylim=(0, 1), yticks=[0, 0.5, 1]);"
   ]
  },
  {
   "cell_type": "markdown",
   "metadata": {},
   "source": [
    "### Use `modish` to estimate modalities on these ideal modalities, iteratively adding uniformly random noise"
   ]
  },
  {
   "cell_type": "code",
   "execution_count": 5,
   "metadata": {
    "collapsed": false
   },
   "outputs": [
    {
     "name": "stdout",
     "output_type": "stream",
     "text": [
      "CPU times: user 88 ms, sys: 9 ms, total: 97 ms\n",
      "Wall time: 89.6 ms\n"
     ]
    }
   ],
   "source": [
    "%%time\n",
    "\n",
    "CHANGING_PARAMETERS = np.arange(2, 20)\n",
    "TWO_PARAMETER_MODELS = {'bimodal': {'alphas': 1./CHANGING_PARAMETERS,\n",
    "                                    'betas': 1./CHANGING_PARAMETERS},\n",
    "                        'middle': {'alphas': CHANGING_PARAMETERS,\n",
    "                                   'betas': CHANGING_PARAMETERS}}\n",
    "ONE_PARAMETER_MODELS = {'~0': {'alphas': 1,\n",
    "                               'betas': CHANGING_PARAMETERS},\n",
    "                        '~1': {'alphas': CHANGING_PARAMETERS,\n",
    "                               'betas': 1}}\n",
    "\n",
    "estimator = modish.ModalityEstimator(one_parameter_models=ONE_PARAMETER_MODELS,\n",
    "                 two_parameter_models=TWO_PARAMETER_MODELS)\n"
   ]
  },
  {
   "cell_type": "code",
   "execution_count": 6,
   "metadata": {
    "collapsed": false
   },
   "outputs": [],
   "source": [
    "folder = '/home/obotvinnik/Dropbox/figures2/singlecell_pnm/figure2_modalities_supplementary'"
   ]
  },
  {
   "cell_type": "code",
   "execution_count": 7,
   "metadata": {
    "collapsed": false
   },
   "outputs": [
    {
     "name": "stdout",
     "output_type": "stream",
     "text": [
      "mkdir: cannot create directory `/home/obotvinnik/Dropbox/figures2/singlecell_pnm/figure2_modalities_supplementary': File exists\r\n"
     ]
    }
   ],
   "source": [
    "mkdir $folder"
   ]
  },
  {
   "cell_type": "code",
   "execution_count": 8,
   "metadata": {
    "collapsed": false
   },
   "outputs": [
    {
     "ename": "NameError",
     "evalue": "name 'noisy_modalities' is not defined",
     "output_type": "error",
     "traceback": [
      "\u001b[1;31m---------------------------------------------------------------------------\u001b[0m",
      "\u001b[1;31mNameError\u001b[0m                                 Traceback (most recent call last)",
      "\u001b[1;32m<ipython-input-8-a363f1cf3d50>\u001b[0m in \u001b[0;36m<module>\u001b[1;34m()\u001b[0m\n\u001b[1;32m----> 1\u001b[1;33m \u001b[0mnoisy_modalities\u001b[0m\u001b[1;33m.\u001b[0m\u001b[0mhead\u001b[0m\u001b[1;33m(\u001b[0m\u001b[1;33m)\u001b[0m\u001b[1;33m\u001b[0m\u001b[0m\n\u001b[0m",
      "\u001b[1;31mNameError\u001b[0m: name 'noisy_modalities' is not defined"
     ]
    }
   ],
   "source": [
    "noisy_modalities.head()"
   ]
  },
  {
   "cell_type": "code",
   "execution_count": null,
   "metadata": {
    "collapsed": false
   },
   "outputs": [],
   "source": [
    "np.random.permutation(noisy_modalities.index.tolist())"
   ]
  },
  {
   "cell_type": "markdown",
   "metadata": {},
   "source": [
    "Randomize the row order of ideal modalities because bimodal has all the excluded samples from 1-50"
   ]
  },
  {
   "cell_type": "code",
   "execution_count": null,
   "metadata": {
    "collapsed": false
   },
   "outputs": [],
   "source": [
    "ideal_modalities = ideal_modalities.reindex(index=np.random.permutation(ideal_modalities.index.tolist()))\n",
    "ideal_modalities.index = np.arange(ideal_modalities.shape[0])\n",
    "ideal_modalities.head()"
   ]
  },
  {
   "cell_type": "code",
   "execution_count": null,
   "metadata": {
    "collapsed": false,
    "scrolled": false
   },
   "outputs": [],
   "source": [
    "%%time\n",
    "noise_percentages = np.arange(0, 101, step=10)\n",
    "iter_per_noise = 50\n",
    "\n",
    "log2bf_dfs = []\n",
    "modalities_dfs = []\n",
    "\n",
    "for noise_percentage in noise_percentages:\n",
    "    fig, ax = plt.subplots(figsize=(4, 3))\n",
    "    for i in range(iter_per_noise):\n",
    "        if i > 0 and noise_percentage == 0:\n",
    "            continue\n",
    "        noisy_modalities = ideal_modalities.copy()\n",
    "        shape = (noise_percentage, noisy_modalities.shape[1])\n",
    "        size = np.product(shape)\n",
    "        noisy_modalities.iloc[:noise_percentage] = np.random.uniform(low=0., high=1., size=size).reshape(shape)\n",
    "        sns.violinplot(noisy_modalities, bw=0.2, inner=None, order=MODALITY_ORDER[:-1],\n",
    "              palette=palette, linewidth=1, scale='width')\n",
    "\n",
    "    \n",
    "        log2bf = estimator.fit_transform(noisy_modalities)\n",
    "        modalities = estimator.assign_modalities(log2bf)\n",
    "        \n",
    "        log2bf_df = log2bf.unstack().reset_index()\n",
    "        log2bf_df = log2bf_df.rename(columns={'level_0': 'true_modality', \n",
    "                                              'level_1': 'guessed_modality', \n",
    "                                              0: 'log2_bayes_factor'})\n",
    "        log2bf_df['noise_percentage'] = noise_percentage\n",
    "        log2bf_df['noise_iter'] = i\n",
    "        log2bf_dfs.append(log2bf_df)\n",
    "        \n",
    "        modalities_df = modalities.reset_index()\n",
    "        modalities_df = modalities_df.rename(columns={'index': 'true_modality', 0: 'guessed_modality'})\n",
    "        modalities_df['correct_modality'] = modalities_df.true_modality == modalities_df.guessed_modality\n",
    "        modalities_df['noise_percentage'] = noise_percentage\n",
    "        modalities_df['noise_iter'] = i\n",
    "        modalities_dfs.append(modalities_df)\n",
    "    if noise_percentage > 0:\n",
    "        for c in ax.collections:\n",
    "            c.set_alpha(0.05)\n",
    "    ax.set(ylim=(0, 1), title='{}% Uniform Noise'.format(noise_percentage),\n",
    "          yticks=(0, 0.5, 1), ylabel='$\\Psi$')\n",
    "    sns.despine()\n",
    "    fig.savefig('{}/modality_estimation2_noise_percentage_{}.pdf'.format(folder, noise_percentage))\n",
    "\n",
    "        \n",
    "modalities = pd.concat(modalities_dfs, ignore_index=True)\n",
    "log2bf = pd.concat(log2bf_dfs, ignore_index=True)\n",
    "print modalities.shape\n",
    "print log2bf.shape\n",
    "modalities.head()"
   ]
  },
  {
   "cell_type": "code",
   "execution_count": null,
   "metadata": {
    "collapsed": false
   },
   "outputs": [],
   "source": [
    "from modish.visualize import MODALITY_ORDER, MODALITY_COLORS\n",
    "import matplotlib as mpl\n",
    "\n",
    "order = MODALITY_ORDER[:-1]\n",
    "palette = [mpl.colors.rgb2hex(MODALITY_COLORS[m]) for m in order]\n",
    "\n",
    "g = sns.factorplot(data=modalities, y='correct_modality', x='noise_percentage', hue='true_modality', size=3, aspect=1.5,\n",
    "                   palette=palette, hue_order=order, scale=0.5)\n",
    "g.set(ylim=(0, 1.05), yticks=(0, 0.5, 1), yticklabels=(0, 50, 100), ylabel=\"% Correct modality\",\n",
    "     xlabel='% Uniform noise')\n",
    "g.savefig('{}/modish_estimation_percent_correct_modality.pdf'.format(folder))"
   ]
  },
  {
   "cell_type": "code",
   "execution_count": null,
   "metadata": {
    "collapsed": false
   },
   "outputs": [],
   "source": [
    "order = MODALITY_ORDER[:-1]\n",
    "palette = [mpl.colors.rgb2hex(MODALITY_COLORS[m]) for m in order]\n",
    "g = sns.factorplot(y='log2_bayes_factor', x='noise_percentage', col='true_modality', hue='guessed_modality',\n",
    "                   data=log2bf, hue_order=order, palette=palette, col_order=order, col_wrap=2, size=3, aspect=1.25,\n",
    "                  scale=0.5)\n",
    "for ax in g.axes.flat:\n",
    "    if ax.is_first_col():\n",
    "        ax.set_ylabel('$\\log_2$ Bayes Factor')\n",
    "    if ax.is_last_row():\n",
    "        ax.set_xlabel('% Uniform noise')\n",
    "g.savefig('{}/modish_estimation_log2_bayes_factors.pdf'.format(folder))"
   ]
  },
  {
   "cell_type": "code",
   "execution_count": null,
   "metadata": {
    "collapsed": true
   },
   "outputs": [],
   "source": []
  }
 ],
 "metadata": {
  "kernelspec": {
   "display_name": "Python 2",
   "language": "python",
   "name": "python2"
  },
  "language_info": {
   "codemirror_mode": {
    "name": "ipython",
    "version": 2
   },
   "file_extension": ".py",
   "mimetype": "text/x-python",
   "name": "python",
   "nbconvert_exporter": "python",
   "pygments_lexer": "ipython2",
   "version": "2.7.10"
  }
 },
 "nbformat": 4,
 "nbformat_minor": 0
}
