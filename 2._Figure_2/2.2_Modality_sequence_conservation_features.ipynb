{
 "cells": [
  {
   "cell_type": "code",
   "execution_count": 76,
   "metadata": {
    "collapsed": false
   },
   "outputs": [
    {
     "name": "stdout",
     "output_type": "stream",
     "text": [
      "The autoreload extension is already loaded. To reload it, use:\n",
      "  %reload_ext autoreload\n",
      "2016-02-16 15:03:04\tReading datapackage from /projects/ps-yeolab/obotvinnik/flotilla_projects/singlecell_pnm_figure2_modalities_bayesian/datapackage.json\n",
      "2016-02-16 15:03:04\tParsing datapackage to create a Study object\n",
      "2016-02-16 15:03:50\tInitializing Study\n",
      "2016-02-16 15:03:50\tInitializing Predictor configuration manager for Study\n",
      "2016-02-16 15:03:50\tPredictor ExtraTreesClassifier is of type <class 'sklearn.ensemble.forest.ExtraTreesClassifier'>\n",
      "2016-02-16 15:03:50\tAdded ExtraTreesClassifier to default predictors\n",
      "2016-02-16 15:03:50\tPredictor ExtraTreesRegressor is of type <class 'sklearn.ensemble.forest.ExtraTreesRegressor'>\n",
      "2016-02-16 15:03:50\tAdded ExtraTreesRegressor to default predictors\n",
      "2016-02-16 15:03:50\tPredictor GradientBoostingClassifier is of type <class 'sklearn.ensemble.gradient_boosting.GradientBoostingClassifier'>\n",
      "2016-02-16 15:03:50\tAdded GradientBoostingClassifier to default predictors\n",
      "2016-02-16 15:03:50\tPredictor GradientBoostingRegressor is of type <class 'sklearn.ensemble.gradient_boosting.GradientBoostingRegressor'>\n",
      "2016-02-16 15:03:50\tAdded GradientBoostingRegressor to default predictors\n",
      "2016-02-16 15:03:55\tBuilding Gene Ontology database...\n",
      "2016-02-16 15:04:04\t\tDone.\n",
      "2016-02-16 15:04:05\tLoading metadata\n",
      "2016-02-16 15:04:05\tLoading expression data\n",
      "2016-02-16 15:04:05\tInitializing expression\n",
      "2016-02-16 15:04:05\tDone initializing expression\n",
      "2016-02-16 15:04:07\tLoading splicing data\n",
      "2016-02-16 15:04:07\tInitializing splicing\n",
      "2016-02-16 15:04:07\tDone initializing splicing\n",
      "2016-02-16 15:04:07\tSuccessfully initialized a Study object!\n"
     ]
    }
   ],
   "source": [
    "import seaborn as sns\n",
    "sns.set(style='ticks', context='paper', rc={'font.sans-serif':'Arial', 'pdf.fonttype': 42})\n",
    "\n",
    "\n",
    "import six\n",
    "\n",
    "%load_ext autoreload\n",
    "%autoreload 2\n",
    "\n",
    "import matplotlib.pyplot as plt\n",
    "import seaborn as sns\n",
    "import numpy as np\n",
    "import pandas as pd\n",
    "\n",
    "\n",
    "%matplotlib inline\n",
    "\n",
    "import anchor\n",
    "modality_to_color = anchor.MODALITY_TO_COLOR.copy()\n",
    "modality_to_color['constitutive'] = '#262626'\n",
    "modality_order = ['excluded', 'bimodal', 'included', 'constitutive']\n",
    "modality_palette = [modality_to_color[m] for m in modality_order]\n",
    "\n",
    "\n",
    "import flotilla\n",
    "flotilla_dir = '/projects/ps-yeolab/obotvinnik/flotilla_projects'\n",
    "\n",
    "study = flotilla.embark('singlecell_pnm_figure2_modalities_bayesian', flotilla_dir=flotilla_dir)\n",
    "\n",
    "not_outliers = study.splicing.singles.index.difference(study.splicing.outliers.index)\n",
    "\n",
    "import pybedtools\n",
    "\n",
    "facet_kws = dict(col='phenotype', hue='modality', hue_order=modality_order, palette=modality_palette,\n",
    "                 col_order=study.phenotype_order, size=2)\n",
    "\n",
    "\n",
    "folder = '/projects/ps-yeolab/obotvinnik/singlecell_pnms'\n",
    "csv_folder = '{}/csvs_for_paper/'.format(folder)\n",
    "bed_folder = '{}/bed'.format(folder)\n",
    "\n",
    "\n",
    "\n",
    "splicing_feature_folder = '{}/splicing_feature_data'.format(csv_folder)\n",
    "alternative_feature_folder = '{}/alternative'.format(splicing_feature_folder)\n",
    "constitutive_feature_folder = '{}/constitutive'.format(splicing_feature_folder)"
   ]
  },
  {
   "cell_type": "code",
   "execution_count": 77,
   "metadata": {
    "collapsed": false
   },
   "outputs": [
    {
     "data": {
      "text/plain": [
       "True"
      ]
     },
     "execution_count": 77,
     "metadata": {},
     "output_type": "execute_result"
    }
   ],
   "source": [
    "event = 'exon:chr10:1043148-1043248:+@exon:chr10:1044943-1045035:+@exon:chr10:1046617-1046808:+'\n",
    "\n",
    "event in study.splicing.data"
   ]
  },
  {
   "cell_type": "code",
   "execution_count": 78,
   "metadata": {
    "collapsed": false
   },
   "outputs": [
    {
     "data": {
      "text/html": [
       "<div>\n",
       "<table border=\"1\" class=\"dataframe\">\n",
       "  <thead>\n",
       "    <tr style=\"text-align: right;\">\n",
       "      <th></th>\n",
       "      <th>phenotype</th>\n",
       "      <th>event_id</th>\n",
       "      <th>modality</th>\n",
       "    </tr>\n",
       "  </thead>\n",
       "  <tbody>\n",
       "    <tr>\n",
       "      <th>0</th>\n",
       "      <td>MN</td>\n",
       "      <td>exon:chr10:102114184-102114389:+@exon:chr10:102116289-102116521:+@exon:chr10:102120491-102124591:+</td>\n",
       "      <td>included</td>\n",
       "    </tr>\n",
       "    <tr>\n",
       "      <th>1</th>\n",
       "      <td>MN</td>\n",
       "      <td>exon:chr10:102286732-102286831:-@exon:chr10:102286156-102286311:-@exon:chr10:102283497-102283686:-</td>\n",
       "      <td>included</td>\n",
       "    </tr>\n",
       "    <tr>\n",
       "      <th>2</th>\n",
       "      <td>MN</td>\n",
       "      <td>exon:chr10:103348089-103348157:+@exon:chr10:103354415-103354495:+@exon:chr10:103360495-103360619:+</td>\n",
       "      <td>included</td>\n",
       "    </tr>\n",
       "    <tr>\n",
       "      <th>3</th>\n",
       "      <td>MN</td>\n",
       "      <td>exon:chr10:103360960-103361093:+@exon:chr10:103364897-103364969:+@exon:chr10:103368592-103368694:+</td>\n",
       "      <td>bimodal</td>\n",
       "    </tr>\n",
       "    <tr>\n",
       "      <th>4</th>\n",
       "      <td>MN</td>\n",
       "      <td>exon:chr10:103360960-103361093:+@exon:chr10:103368592-103368694:+@exon:chr10:103369124-103369425:+</td>\n",
       "      <td>bimodal</td>\n",
       "    </tr>\n",
       "  </tbody>\n",
       "</table>\n",
       "</div>"
      ],
      "text/plain": [
       "  phenotype  \\\n",
       "0        MN   \n",
       "1        MN   \n",
       "2        MN   \n",
       "3        MN   \n",
       "4        MN   \n",
       "\n",
       "                                                                                             event_id  \\\n",
       "0  exon:chr10:102114184-102114389:+@exon:chr10:102116289-102116521:+@exon:chr10:102120491-102124591:+   \n",
       "1  exon:chr10:102286732-102286831:-@exon:chr10:102286156-102286311:-@exon:chr10:102283497-102283686:-   \n",
       "2  exon:chr10:103348089-103348157:+@exon:chr10:103354415-103354495:+@exon:chr10:103360495-103360619:+   \n",
       "3  exon:chr10:103360960-103361093:+@exon:chr10:103364897-103364969:+@exon:chr10:103368592-103368694:+   \n",
       "4  exon:chr10:103360960-103361093:+@exon:chr10:103368592-103368694:+@exon:chr10:103369124-103369425:+   \n",
       "\n",
       "   modality  \n",
       "0  included  \n",
       "1  included  \n",
       "2  included  \n",
       "3   bimodal  \n",
       "4   bimodal  "
      ]
     },
     "execution_count": 78,
     "metadata": {},
     "output_type": "execute_result"
    }
   ],
   "source": [
    "study.supplemental.modalities_tidy.head()"
   ]
  },
  {
   "cell_type": "code",
   "execution_count": 79,
   "metadata": {
    "collapsed": false
   },
   "outputs": [
    {
     "name": "stdout",
     "output_type": "stream",
     "text": [
      "mkdir: cannot create directory `/home/obotvinnik/Dropbox/figures2/singlecell_pnm/figure2_modalities/bayesian/sequence_conservation_features': File exists\r\n"
     ]
    }
   ],
   "source": [
    "figure_folder = '/home/obotvinnik/Dropbox/figures2/singlecell_pnm/figure2_modalities/bayesian/sequence_conservation_features'\n",
    "! mkdir $figure_folder"
   ]
  },
  {
   "cell_type": "markdown",
   "metadata": {},
   "source": [
    "## GC Content"
   ]
  },
  {
   "cell_type": "code",
   "execution_count": 80,
   "metadata": {
    "collapsed": false
   },
   "outputs": [
    {
     "name": "stdout",
     "output_type": "stream",
     "text": [
      "(26379,)\n"
     ]
    },
    {
     "data": {
      "text/plain": [
       "0\n",
       "exon:chr10:100190328-100190427:-@exon:chr10:100189548-100189646:-@exon:chr10:100189330-100189399:-    71.717172\n",
       "exon:chr10:100193697-100193848:-@exon:chr10:100190888-100191048:-@exon:chr10:100190328-100190427:-    63.975155\n",
       "exon:chr10:100195392-100195529:-@exon:chr10:100195029-100195171:-@exon:chr10:100193697-100193848:-    53.846154\n",
       "exon:chr10:101165513-101165617:-@exon:chr10:101163481-101163631:-@exon:chr10:101163226-101163391:-    52.980132\n",
       "exon:chr10:101419263-101419345:+@exon:chr10:101419619-101419721:+@exon:chr10:101421203-101421385:+    56.310680\n",
       "Name: GC, dtype: float64"
      ]
     },
     "execution_count": 80,
     "metadata": {},
     "output_type": "execute_result"
    }
   ],
   "source": [
    "csv = 'gc_content.csv'\n",
    "alternative_gc = pd.read_csv('{}/{}'.format(alternative_feature_folder, csv), index_col=0, squeeze=True, header=None)\n",
    "alternative_gc.name = 'GC'\n",
    "six.print_(alternative_gc.shape)\n",
    "alternative_gc.head()"
   ]
  },
  {
   "cell_type": "code",
   "execution_count": 84,
   "metadata": {
    "collapsed": false
   },
   "outputs": [
    {
     "data": {
      "text/html": [
       "<div>\n",
       "<table border=\"1\" class=\"dataframe\">\n",
       "  <thead>\n",
       "    <tr style=\"text-align: right;\">\n",
       "      <th></th>\n",
       "      <th>phenotype</th>\n",
       "      <th>event_id</th>\n",
       "      <th>modality</th>\n",
       "      <th>GC</th>\n",
       "    </tr>\n",
       "  </thead>\n",
       "  <tbody>\n",
       "    <tr>\n",
       "      <th>0</th>\n",
       "      <td>MN</td>\n",
       "      <td>exon:chr10:102114184-102114389:+@exon:chr10:102116289-102116521:+@exon:chr10:102120491-102124591:+</td>\n",
       "      <td>included</td>\n",
       "      <td>50.214592</td>\n",
       "    </tr>\n",
       "    <tr>\n",
       "      <th>1</th>\n",
       "      <td>MN</td>\n",
       "      <td>exon:chr10:102286732-102286831:-@exon:chr10:102286156-102286311:-@exon:chr10:102283497-102283686:-</td>\n",
       "      <td>included</td>\n",
       "      <td>NaN</td>\n",
       "    </tr>\n",
       "    <tr>\n",
       "      <th>2</th>\n",
       "      <td>MN</td>\n",
       "      <td>exon:chr10:103348089-103348157:+@exon:chr10:103354415-103354495:+@exon:chr10:103360495-103360619:+</td>\n",
       "      <td>included</td>\n",
       "      <td>NaN</td>\n",
       "    </tr>\n",
       "    <tr>\n",
       "      <th>3</th>\n",
       "      <td>MN</td>\n",
       "      <td>exon:chr10:103360960-103361093:+@exon:chr10:103364897-103364969:+@exon:chr10:103368592-103368694:+</td>\n",
       "      <td>bimodal</td>\n",
       "      <td>65.753425</td>\n",
       "    </tr>\n",
       "    <tr>\n",
       "      <th>4</th>\n",
       "      <td>MN</td>\n",
       "      <td>exon:chr10:103360960-103361093:+@exon:chr10:103368592-103368694:+@exon:chr10:103369124-103369425:+</td>\n",
       "      <td>bimodal</td>\n",
       "      <td>NaN</td>\n",
       "    </tr>\n",
       "  </tbody>\n",
       "</table>\n",
       "</div>"
      ],
      "text/plain": [
       "  phenotype  \\\n",
       "0        MN   \n",
       "1        MN   \n",
       "2        MN   \n",
       "3        MN   \n",
       "4        MN   \n",
       "\n",
       "                                                                                             event_id  \\\n",
       "0  exon:chr10:102114184-102114389:+@exon:chr10:102116289-102116521:+@exon:chr10:102120491-102124591:+   \n",
       "1  exon:chr10:102286732-102286831:-@exon:chr10:102286156-102286311:-@exon:chr10:102283497-102283686:-   \n",
       "2  exon:chr10:103348089-103348157:+@exon:chr10:103354415-103354495:+@exon:chr10:103360495-103360619:+   \n",
       "3  exon:chr10:103360960-103361093:+@exon:chr10:103364897-103364969:+@exon:chr10:103368592-103368694:+   \n",
       "4  exon:chr10:103360960-103361093:+@exon:chr10:103368592-103368694:+@exon:chr10:103369124-103369425:+   \n",
       "\n",
       "   modality         GC  \n",
       "0  included  50.214592  \n",
       "1  included        NaN  \n",
       "2  included        NaN  \n",
       "3   bimodal  65.753425  \n",
       "4   bimodal        NaN  "
      ]
     },
     "execution_count": 84,
     "metadata": {},
     "output_type": "execute_result"
    }
   ],
   "source": [
    "modalities_gc = study.supplemental.modalities_tidy.join(alternative_gc, on='event_id')\n",
    "modalities_gc.head()"
   ]
  },
  {
   "cell_type": "code",
   "execution_count": 85,
   "metadata": {
    "collapsed": true
   },
   "outputs": [],
   "source": [
    "pd.options.display.max_colwidth = 100"
   ]
  },
  {
   "cell_type": "code",
   "execution_count": 86,
   "metadata": {
    "collapsed": false
   },
   "outputs": [
    {
     "data": {
      "text/plain": [
       "1        exon:chr10:102286732-102286831:-@exon:chr10:102286156-102286311:-@exon:chr10:102283497-102283686:-\n",
       "2        exon:chr10:103348089-103348157:+@exon:chr10:103354415-103354495:+@exon:chr10:103360495-103360619:+\n",
       "4        exon:chr10:103360960-103361093:+@exon:chr10:103368592-103368694:+@exon:chr10:103369124-103369425:+\n",
       "6        exon:chr10:103567487-103567658:-@exon:chr10:103565802-103565900:-@exon:chr10:103563492-103563776:-\n",
       "7        exon:chr10:104192283-104192325:-@exon:chr10:104184872-104184955:-@exon:chr10:104184406-104184549:-\n",
       "10       exon:chr10:104243917-104244131:-@exon:chr10:104242768-104242860:-@exon:chr10:104241758-104241932:-\n",
       "11       exon:chr10:104262357-104262411:-@exon:chr10:104250306-104250370:-@exon:chr10:104248820-104248895:-\n",
       "12                   exon:chr10:1043148-1043248:+@exon:chr10:1044943-1045035:+@exon:chr10:1046617-1046808:+\n",
       "17       exon:chr10:105152128-105152223:-@exon:chr10:105151948-105152040:-@exon:chr10:105148807-105148923:-\n",
       "18       exon:chr10:105156166-105156198:-@exon:chr10:105153956-105154151:-@exon:chr10:105152128-105152223:-\n",
       "19       exon:chr10:105156166-105156198:-@exon:chr10:105155503-105155789:-@exon:chr10:105152128-105152223:-\n",
       "20       exon:chr10:105156407-105156487:+@exon:chr10:105158173-105158285:+@exon:chr10:105160154-105160285:+\n",
       "22                   exon:chr10:1094804-1094875:-@exon:chr10:1089939-1090111:-@exon:chr10:1089241-1089333:-\n",
       "25       exon:chr10:112661296-112661343:-@exon:chr10:112660784-112660880:-@exon:chr10:112659987-112660284:-\n",
       "26       exon:chr10:112679361-112679415:+@exon:chr10:112711366-112711550:+@exon:chr10:112723883-112724487:+\n",
       "31       exon:chr10:120931894-120931997:-@exon:chr10:120928689-120928854:-@exon:chr10:120927222-120928045:-\n",
       "46       exon:chr10:127512179-127512291:+@exon:chr10:127515160-127515234:+@exon:chr10:127516127-127516207:+\n",
       "47       exon:chr10:127516127-127516207:+@exon:chr10:127519131-127519220:+@exon:chr10:127519989-127520176:+\n",
       "50             exon:chr10:16859314-16859412:-@exon:chr10:16858972-16859083:-@exon:chr10:16824033-16824083:-\n",
       "54             exon:chr10:17686264-17686378:+@exon:chr10:17702463-17702547:+@exon:chr10:17726674-17726749:+\n",
       "59             exon:chr10:27822664-27822782:+@exon:chr10:27822857-27822923:+@exon:chr10:27826805-27827418:+\n",
       "61             exon:chr10:30629155-30629379:-@exon:chr10:30625732-30625956:-@exon:chr10:30615493-30615564:-\n",
       "62             exon:chr10:30638048-30638090:-@exon:chr10:30630397-30630569:-@exon:chr10:30628901-30629379:-\n",
       "63             exon:chr10:31799601-31799803:+@exon:chr10:31803531-31803636:+@exon:chr10:31809054-31809128:+\n",
       "64             exon:chr10:33552574-33552632:-@exon:chr10:33545244-33545399:-@exon:chr10:33542956-33543122:-\n",
       "66             exon:chr10:38299627-38299711:+@exon:chr10:38301226-38301278:+@exon:chr10:38305799-38305943:+\n",
       "67                   exon:chr10:5005641-5005720:+@exon:chr10:5008106-5008273:+@exon:chr10:5009119-5009235:+\n",
       "69             exon:chr10:51565230-51565296:+@exon:chr10:51568294-51568390:+@exon:chr10:51579128-51579282:+\n",
       "70             exon:chr10:51565230-51565296:+@exon:chr10:51579128-51579282:+@exon:chr10:51580556-51580696:+\n",
       "76                   exon:chr10:5827815-5827885:-@exon:chr10:5827105-5827236:-@exon:chr10:5815805-5815904:-\n",
       "                                                        ...                                                \n",
       "15092             exon:chrX:48755793-48755859:+@exon:chrX:48758467-48758578:+@exon:chrX:48759207-48759319:+\n",
       "15093             exon:chrX:48759207-48759319:+@exon:chrX:48759510-48759794:+@exon:chrX:48760009-48760070:+\n",
       "15095             exon:chrX:48933023-48933082:-@exon:chrX:48932795-48932940:-@exon:chrX:48932462-48932571:-\n",
       "15101             exon:chrX:53571990-53572122:-@exon:chrX:53571521-53571723:-@exon:chrX:53570671-53570929:-\n",
       "15105             exon:chrX:54835736-54835809:+@exon:chrX:54836155-54836646:+@exon:chrX:54837254-54837337:+\n",
       "15106             exon:chrX:54841094-54841208:+@exon:chrX:54841681-54842123:+@exon:chrX:54842314-54842440:+\n",
       "15107             exon:chrX:56755789-56756022:+@exon:chrX:56758496-56758632:+@exon:chrX:56843753-56844059:+\n",
       "15111             exon:chrX:64936680-64936763:+@exon:chrX:64947676-64947771:+@exon:chrX:64949300-64949451:+\n",
       "15113             exon:chrX:67718894-67718965:+@exon:chrX:67731691-67731819:+@exon:chrX:67733169-67733247:+\n",
       "15118             exon:chrX:69507582-69507680:-@exon:chrX:69507126-69507186:-@exon:chrX:69506445-69506966:-\n",
       "15119             exon:chrX:69509710-69509763:-@exon:chrX:69509372-69509443:-@exon:chrX:69509105-69509204:-\n",
       "15123             exon:chrX:70503544-70503571:+@exon:chrX:70504247-70504303:+@exon:chrX:70510479-70510641:+\n",
       "15125             exon:chrX:71458694-71458877:-@exon:chrX:71457681-71457798:-@exon:chrX:71424510-71428548:-\n",
       "15127             exon:chrX:73164202-73164300:+@exon:chrX:73164419-73164497:+@exon:chrX:73166834-73166931:+\n",
       "15129             exon:chrX:73164437-73164497:+@exon:chrX:73166834-73167209:+@exon:chrX:73214675-73214796:+\n",
       "15130             exon:chrX:74289126-74289289:-@exon:chrX:74288842-74288971:-@exon:chrX:74284905-74285076:-\n",
       "15131             exon:chrX:74375940-74376107:-@exon:chrX:74332721-74332807:-@exon:chrX:74318777-74318896:-\n",
       "15132             exon:chrX:74375940-74376107:-@exon:chrX:74334589-74334666:-@exon:chrX:74332721-74332807:-\n",
       "15135             exon:chrX:76937012-76937093:-@exon:chrX:76931721-76931793:-@exon:chrX:76920134-76920267:-\n",
       "15141             exon:chrX:77154960-77155090:+@exon:chrX:77157241-77157364:+@exon:chrX:77158140-77158693:+\n",
       "15142             exon:chrX:77154960-77155090:+@exon:chrX:77158140-77158264:+@exon:chrX:77160681-77160772:+\n",
       "15145             exon:chrX:77395058-77395119:-@exon:chrX:77394340-77394421:-@exon:chrX:77393246-77393595:-\n",
       "15146             exon:chrX:78622602-78622815:-@exon:chrX:78618920-78619051:-@exon:chrX:78618439-78618636:-\n",
       "15149             exon:chrX:80377034-80377137:-@exon:chrX:80375287-80375316:-@exon:chrX:80374229-80374258:-\n",
       "15152             exon:chrX:85302488-85302539:-@exon:chrX:85282495-85282561:-@exon:chrX:85236741-85236813:-\n",
       "15155             exon:chrX:99888928-99889026:-@exon:chrX:99888402-99888536:-@exon:chrX:99887538-99887565:-\n",
       "15156             exon:chrY:14774468-14774637:+@exon:chrY:14776571-14776617:+@exon:chrY:14798442-14798535:+\n",
       "15157             exon:chrY:14813969-14813984:+@exon:chrY:14820567-14820626:+@exon:chrY:14821321-14821476:+\n",
       "15159             exon:chrY:15024920-15024974:+@exon:chrY:15025630-15025765:+@exon:chrY:15026476-15026561:+\n",
       "15168                   exon:chrY:2722771-2722812:+@exon:chrY:2733129-2733286:+@exon:chrY:2734834-2735309:+\n",
       "Name: event_id, dtype: object"
      ]
     },
     "execution_count": 86,
     "metadata": {},
     "output_type": "execute_result"
    }
   ],
   "source": [
    "modalities_gc.event_id[modalities_gc.GC.isnull()]"
   ]
  },
  {
   "cell_type": "code",
   "execution_count": 92,
   "metadata": {
    "collapsed": true
   },
   "outputs": [],
   "source": [
    "event = 'exon:chr10:1043148-1043248:+@exon:chr10:1044943-1045035:+@exon:chr10:1046617-1046808:+'"
   ]
  },
  {
   "cell_type": "code",
   "execution_count": 93,
   "metadata": {
    "collapsed": false
   },
   "outputs": [
    {
     "data": {
      "text/plain": [
       "criteria                                    only one\n",
       "criteria_additional                              NaN\n",
       "criteria_full                               only one\n",
       "ensembl_id                           ENSG00000107937\n",
       "exon1                   exon:chr10:1043148-1043248:+\n",
       "exon1_length                                     101\n",
       "exon2                   exon:chr10:1044943-1045035:+\n",
       "exon2_length                                      93\n",
       "exon3                   exon:chr10:1046617-1046808:+\n",
       "exon3_length                                     192\n",
       "exon4                                            NaN\n",
       "exon4_length                                     NaN\n",
       "gencode_id                        ENSG00000107937.14\n",
       "gene_name                                     GTPBP4\n",
       "intron_length                                   3368\n",
       "junction_exons12             chr10:1043249-1044942:+\n",
       "junction_exons13             chr10:1043249-1046616:+\n",
       "junction_exons23             chr10:1045036-1046616:+\n",
       "junction_exons24                                 NaN\n",
       "junction_exons34                                 NaN\n",
       "strand                                             +\n",
       "exon2_divisible_by_3                            True\n",
       "one_ensembl_id                       ENSG00000107937\n",
       "splice_type                                       SE\n",
       "Name: exon:chr10:1043148-1043248:+@exon:chr10:1044943-1045035:+@exon:chr10:1046617-1046808:+, dtype: object"
      ]
     },
     "execution_count": 93,
     "metadata": {},
     "output_type": "execute_result"
    }
   ],
   "source": [
    "study.splicing.feature_data.loc[event]"
   ]
  },
  {
   "cell_type": "code",
   "execution_count": 89,
   "metadata": {
    "collapsed": false
   },
   "outputs": [
    {
     "data": {
      "text/plain": [
       "criteria                                                                   best\n",
       "criteria_additional                                            appris_principal\n",
       "criteria_full                                             best,appris_principal\n",
       "ensembl_id                      ENSG00000255339,ENSG00000075826,ENSG00000166136\n",
       "exon1                                          exon:chr10:102286732-102286831:-\n",
       "exon1_length                                                                100\n",
       "exon2                                          exon:chr10:102286156-102286311:-\n",
       "exon2_length                                                                156\n",
       "exon3                                          exon:chr10:102283497-102283686:-\n",
       "exon3_length                                                                190\n",
       "exon4                                                                       NaN\n",
       "exon4_length                                                                NaN\n",
       "gencode_id              ENSG00000166136.11,ENSG00000075826.12,ENSG00000255339.2\n",
       "gene_name                                                         SEC31B,NDUFB8\n",
       "intron_length                                                              3045\n",
       "junction_exons12                                    chr10:102286312-102286731:-\n",
       "junction_exons13                                    chr10:102283687-102286731:-\n",
       "junction_exons23                                    chr10:102283687-102286155:-\n",
       "junction_exons24                                                            NaN\n",
       "junction_exons34                                                            NaN\n",
       "strand                                                                        -\n",
       "exon2_divisible_by_3                                                       True\n",
       "one_ensembl_id                                                  ENSG00000255339\n",
       "splice_type                                                                  SE\n",
       "Name: exon:chr10:102286732-102286831:-@exon:chr10:102286156-102286311:-@exon:chr10:102283497-102283686:-, dtype: object"
      ]
     },
     "execution_count": 89,
     "metadata": {},
     "output_type": "execute_result"
    }
   ],
   "source": [
    "study.splicing.feature_data.loc['exon:chr10:102286732-102286831:-@exon:chr10:102286156-102286311:-@exon:chr10:102283497-102283686:-']"
   ]
  },
  {
   "cell_type": "code",
   "execution_count": 11,
   "metadata": {
    "collapsed": false
   },
   "outputs": [],
   "source": [
    "event = 'exon:chr10:102286732-102286831:-@exon:chr10:102286156-102286311:-@exon:chr10:102283497-102283686:-'"
   ]
  },
  {
   "cell_type": "code",
   "execution_count": 12,
   "metadata": {
    "collapsed": false
   },
   "outputs": [
    {
     "name": "stdout",
     "output_type": "stream",
     "text": [
      "(6250,)\n"
     ]
    },
    {
     "data": {
      "text/plain": [
       "0\n",
       "exon:chr10:102039881-102039985:-    44.761905\n",
       "exon:chr10:102040691-102040810:-    34.166667\n",
       "exon:chr10:102045854-102045970:-    57.264957\n",
       "exon:chr10:102045854-102046089:-    56.355932\n",
       "exon:chr10:102286732-102286831:-    60.000000\n",
       "Name: GC, dtype: float64"
      ]
     },
     "execution_count": 12,
     "metadata": {},
     "output_type": "execute_result"
    }
   ],
   "source": [
    "constitutive_gc = pd.read_csv('{}/{}'.format(constitutive_feature_folder, csv), index_col=0, squeeze=True, header=None)\n",
    "constitutive_gc.name = 'GC'\n",
    "six.print_(constitutive_gc.shape)\n",
    "constitutive_gc.head()"
   ]
  },
  {
   "cell_type": "code",
   "execution_count": 13,
   "metadata": {
    "collapsed": false
   },
   "outputs": [
    {
     "data": {
      "text/plain": [
       "event_id\n",
       "exon:chr10:102039881-102039985:-    44.761905\n",
       "exon:chr10:102040691-102040810:-    34.166667\n",
       "exon:chr10:102045854-102045970:-    57.264957\n",
       "exon:chr10:102045854-102046089:-    56.355932\n",
       "exon:chr10:102286732-102286831:-    60.000000\n",
       "Name: GC, dtype: float64"
      ]
     },
     "execution_count": 13,
     "metadata": {},
     "output_type": "execute_result"
    }
   ],
   "source": [
    "constitutive_gc.index.name = 'event_id'\n",
    "constitutive_gc.head()"
   ]
  },
  {
   "cell_type": "code",
   "execution_count": null,
   "metadata": {
    "collapsed": true
   },
   "outputs": [],
   "source": []
  },
  {
   "cell_type": "code",
   "execution_count": 14,
   "metadata": {
    "collapsed": false
   },
   "outputs": [
    {
     "name": "stdout",
     "output_type": "stream",
     "text": [
      "(18750, 4)\n"
     ]
    },
    {
     "data": {
      "text/html": [
       "<div>\n",
       "<table border=\"1\" class=\"dataframe\">\n",
       "  <thead>\n",
       "    <tr style=\"text-align: right;\">\n",
       "      <th></th>\n",
       "      <th>event_id</th>\n",
       "      <th>GC</th>\n",
       "      <th>modality</th>\n",
       "      <th>phenotype</th>\n",
       "    </tr>\n",
       "  </thead>\n",
       "  <tbody>\n",
       "    <tr>\n",
       "      <th>0</th>\n",
       "      <td>exon:chr10:102039881-102039985:-</td>\n",
       "      <td>44.761905</td>\n",
       "      <td>constitutive</td>\n",
       "      <td>iPSC</td>\n",
       "    </tr>\n",
       "    <tr>\n",
       "      <th>1</th>\n",
       "      <td>exon:chr10:102040691-102040810:-</td>\n",
       "      <td>34.166667</td>\n",
       "      <td>constitutive</td>\n",
       "      <td>iPSC</td>\n",
       "    </tr>\n",
       "    <tr>\n",
       "      <th>2</th>\n",
       "      <td>exon:chr10:102045854-102045970:-</td>\n",
       "      <td>57.264957</td>\n",
       "      <td>constitutive</td>\n",
       "      <td>iPSC</td>\n",
       "    </tr>\n",
       "    <tr>\n",
       "      <th>3</th>\n",
       "      <td>exon:chr10:102045854-102046089:-</td>\n",
       "      <td>56.355932</td>\n",
       "      <td>constitutive</td>\n",
       "      <td>iPSC</td>\n",
       "    </tr>\n",
       "    <tr>\n",
       "      <th>4</th>\n",
       "      <td>exon:chr10:102286732-102286831:-</td>\n",
       "      <td>60.000000</td>\n",
       "      <td>constitutive</td>\n",
       "      <td>iPSC</td>\n",
       "    </tr>\n",
       "  </tbody>\n",
       "</table>\n",
       "</div>"
      ],
      "text/plain": [
       "                           event_id         GC      modality phenotype\n",
       "0  exon:chr10:102039881-102039985:-  44.761905  constitutive      iPSC\n",
       "1  exon:chr10:102040691-102040810:-  34.166667  constitutive      iPSC\n",
       "2  exon:chr10:102045854-102045970:-  57.264957  constitutive      iPSC\n",
       "3  exon:chr10:102045854-102046089:-  56.355932  constitutive      iPSC\n",
       "4  exon:chr10:102286732-102286831:-  60.000000  constitutive      iPSC"
      ]
     },
     "execution_count": 14,
     "metadata": {},
     "output_type": "execute_result"
    }
   ],
   "source": [
    "constitutive_gc_df = constitutive_gc.to_frame()\n",
    "constitutive_gc_df['modality'] = 'constitutive'\n",
    "dfs = []\n",
    "for phenotype in study.phenotype_order:\n",
    "    df = constitutive_gc_df.copy().reset_index()\n",
    "    df['phenotype'] = phenotype\n",
    "    dfs.append(df)\n",
    "constitutive_gc_df = pd.concat(dfs)\n",
    "six.print_(constitutive_gc_df.shape)\n",
    "constitutive_gc_df.head()"
   ]
  },
  {
   "cell_type": "code",
   "execution_count": 15,
   "metadata": {
    "collapsed": false
   },
   "outputs": [
    {
     "name": "stdout",
     "output_type": "stream",
     "text": [
      "(33919, 4)\n"
     ]
    },
    {
     "data": {
      "text/html": [
       "<div>\n",
       "<table border=\"1\" class=\"dataframe\">\n",
       "  <thead>\n",
       "    <tr style=\"text-align: right;\">\n",
       "      <th></th>\n",
       "      <th>GC</th>\n",
       "      <th>event_id</th>\n",
       "      <th>modality</th>\n",
       "      <th>phenotype</th>\n",
       "    </tr>\n",
       "  </thead>\n",
       "  <tbody>\n",
       "    <tr>\n",
       "      <th>0</th>\n",
       "      <td>50.214592</td>\n",
       "      <td>exon:chr10:102114184-102114389:+@exon:chr10:102116289-102116521:+@exon:chr10:102120491-102124591:+</td>\n",
       "      <td>included</td>\n",
       "      <td>MN</td>\n",
       "    </tr>\n",
       "    <tr>\n",
       "      <th>1</th>\n",
       "      <td>NaN</td>\n",
       "      <td>exon:chr10:102286732-102286831:-@exon:chr10:102286156-102286311:-@exon:chr10:102283497-102283686:-</td>\n",
       "      <td>included</td>\n",
       "      <td>MN</td>\n",
       "    </tr>\n",
       "    <tr>\n",
       "      <th>2</th>\n",
       "      <td>NaN</td>\n",
       "      <td>exon:chr10:103348089-103348157:+@exon:chr10:103354415-103354495:+@exon:chr10:103360495-103360619:+</td>\n",
       "      <td>included</td>\n",
       "      <td>MN</td>\n",
       "    </tr>\n",
       "    <tr>\n",
       "      <th>3</th>\n",
       "      <td>65.753425</td>\n",
       "      <td>exon:chr10:103360960-103361093:+@exon:chr10:103364897-103364969:+@exon:chr10:103368592-103368694:+</td>\n",
       "      <td>bimodal</td>\n",
       "      <td>MN</td>\n",
       "    </tr>\n",
       "    <tr>\n",
       "      <th>4</th>\n",
       "      <td>NaN</td>\n",
       "      <td>exon:chr10:103360960-103361093:+@exon:chr10:103368592-103368694:+@exon:chr10:103369124-103369425:+</td>\n",
       "      <td>bimodal</td>\n",
       "      <td>MN</td>\n",
       "    </tr>\n",
       "  </tbody>\n",
       "</table>\n",
       "</div>"
      ],
      "text/plain": [
       "          GC  \\\n",
       "0  50.214592   \n",
       "1        NaN   \n",
       "2        NaN   \n",
       "3  65.753425   \n",
       "4        NaN   \n",
       "\n",
       "                                                                                             event_id  \\\n",
       "0  exon:chr10:102114184-102114389:+@exon:chr10:102116289-102116521:+@exon:chr10:102120491-102124591:+   \n",
       "1  exon:chr10:102286732-102286831:-@exon:chr10:102286156-102286311:-@exon:chr10:102283497-102283686:-   \n",
       "2  exon:chr10:103348089-103348157:+@exon:chr10:103354415-103354495:+@exon:chr10:103360495-103360619:+   \n",
       "3  exon:chr10:103360960-103361093:+@exon:chr10:103364897-103364969:+@exon:chr10:103368592-103368694:+   \n",
       "4  exon:chr10:103360960-103361093:+@exon:chr10:103368592-103368694:+@exon:chr10:103369124-103369425:+   \n",
       "\n",
       "   modality phenotype  \n",
       "0  included        MN  \n",
       "1  included        MN  \n",
       "2  included        MN  \n",
       "3   bimodal        MN  \n",
       "4   bimodal        MN  "
      ]
     },
     "execution_count": 15,
     "metadata": {},
     "output_type": "execute_result"
    }
   ],
   "source": [
    "modalities_gc_df = pd.concat([modalities_gc, constitutive_gc_df])\n",
    "six.print_(modalities_gc_df.shape)\n",
    "modalities_gc_df.head()"
   ]
  },
  {
   "cell_type": "code",
   "execution_count": 16,
   "metadata": {
    "collapsed": true
   },
   "outputs": [],
   "source": [
    "prefix = 'gc_content'\n",
    "csv = '{}.csv'.format(prefix)"
   ]
  },
  {
   "cell_type": "code",
   "execution_count": 17,
   "metadata": {
    "collapsed": true
   },
   "outputs": [],
   "source": [
    "import seaborn as sns\n",
    "sns.set(style='ticks', context='paper', rc={'font.sans-serif':'Arial', 'pdf.fonttype': 42})\n"
   ]
  },
  {
   "cell_type": "code",
   "execution_count": 18,
   "metadata": {
    "collapsed": false
   },
   "outputs": [
    {
     "data": {
      "image/png": "[encoded data removed]",
      "text/plain": [
       "<matplotlib.figure.Figure at 0x2ae2a55fef10>"
      ]
     },
     "metadata": {},
     "output_type": "display_data"
    }
   ],
   "source": [
    "fig, ax = plt.subplots(figsize=(2, 1.5))\n",
    "sns.boxplot(x='phenotype', hue='modality', y='GC', \n",
    "            data=modalities_gc_df, hue_order=modality_order, palette=modality_palette, \n",
    "            order=study.phenotype_order, linewidth=1, fliersize=2)\n",
    "ax.locator_params('y', nbins=4)\n",
    "ax.legend_.set_visible(False)\n",
    "sns.despine()\n",
    "ax.set(xlabel='')\n",
    "fig.tight_layout()\n",
    "fig.savefig('{}/gc_content_boxplot.pdf'.format(figure_folder))"
   ]
  },
  {
   "cell_type": "code",
   "execution_count": 19,
   "metadata": {
    "collapsed": false
   },
   "outputs": [
    {
     "data": {
      "text/plain": [
       "<seaborn.axisgrid.FacetGrid at 0x2ae2a55fe4d0>"
      ]
     },
     "execution_count": 19,
     "metadata": {},
     "output_type": "execute_result"
    },
    {
     "data": {
      "image/png": "[encoded data removed]",
      "text/plain": [
       "<matplotlib.figure.Figure at 0x2ae2a55fe810>"
      ]
     },
     "metadata": {},
     "output_type": "display_data"
    }
   ],
   "source": [
    "g = sns.FacetGrid(col='phenotype', hue='modality', size=2,\n",
    "            data=modalities_gc_df, hue_order=modality_order, palette=modality_palette, \n",
    "            col_order=study.phenotype_order)\n",
    "\n",
    "g.map(sns.distplot, 'GC', hist=False)"
   ]
  },
  {
   "cell_type": "code",
   "execution_count": 20,
   "metadata": {
    "collapsed": false
   },
   "outputs": [
    {
     "data": {
      "text/plain": [
       "<seaborn.axisgrid.FacetGrid at 0x2ae29592f490>"
      ]
     },
     "execution_count": 20,
     "metadata": {},
     "output_type": "execute_result"
    },
    {
     "data": {
      "image/png": "[encoded data removed]",
      "text/plain": [
       "<matplotlib.figure.Figure at 0x2ae294b8ff10>"
      ]
     },
     "metadata": {},
     "output_type": "display_data"
    }
   ],
   "source": [
    "g = sns.FacetGrid(col='phenotype', hue='modality',\n",
    "            data=modalities_gc_df, hue_order=modality_order, palette=modality_palette, \n",
    "            col_order=study.phenotype_order)\n",
    "\n",
    "g.map(sns.distplot, 'GC', kde_kws=dict(cumulative=True), hist=False)"
   ]
  },
  {
   "cell_type": "markdown",
   "metadata": {},
   "source": [
    "### Statistical enrichment - Kruskal-Wallis vs constitutive"
   ]
  },
  {
   "cell_type": "code",
   "execution_count": 21,
   "metadata": {
    "collapsed": false
   },
   "outputs": [
    {
     "name": "stdout",
     "output_type": "stream",
     "text": [
      "MN\n",
      "\t ambivalent\n",
      "\t\t KruskalResult(statistic=0.0, pvalue=1.0)\n",
      "\t bimodal\n",
      "\t\t KruskalResult(statistic=3.2221442989140696, pvalue=0.072648405602955102)\n",
      "\t excluded\n",
      "\t\t KruskalResult(statistic=0.11181044560303388, pvalue=0.73809230907691203)\n",
      "\t included\n",
      "\t\t KruskalResult(statistic=0.1910499199445963, pvalue=0.66204421117787837)\n",
      "NPC\n",
      "\t ambivalent\n",
      "\t\t KruskalResult(statistic=0.052509574206333502, pvalue=0.81875258428367226)\n",
      "\t bimodal\n",
      "\t\t KruskalResult(statistic=0.0085368277122761984, pvalue=0.92638424759901694)\n",
      "\t excluded\n",
      "\t\t KruskalResult(statistic=3.0339714820719585, pvalue=0.081538208977337767)\n",
      "\t included\n",
      "\t\t KruskalResult(statistic=12.732443970833762, pvalue=0.00035936662638155103)\n",
      "iPSC\n",
      "\t ambivalent\n",
      "\t\t KruskalResult(statistic=0.12894275475387279, pvalue=0.71953075518747323)\n",
      "\t bimodal\n",
      "\t\t KruskalResult(statistic=2.1669438039415203, pvalue=0.14100622030145429)\n",
      "\t concurrent\n",
      "\t\t KruskalResult(statistic=0.0, pvalue=1.0)\n",
      "\t excluded\n",
      "\t\t KruskalResult(statistic=10.089063307602062, pvalue=0.0014915190403949018)\n",
      "\t included\n",
      "\t\t KruskalResult(statistic=22.812638223764907, pvalue=1.7858744867041263e-06)\n"
     ]
    }
   ],
   "source": [
    "from scipy.stats.mstats import kruskalwallis\n",
    "\n",
    "col = 'GC'\n",
    "\n",
    "for phenotype, phenotype_df in modalities_gc_df.groupby(['phenotype']):\n",
    "    six.print_(phenotype)\n",
    "    grouped = phenotype_df.groupby('modality')\n",
    "    constitutive = grouped.get_group('constitutive')\n",
    "    \n",
    "    for modality, modality_df in grouped:\n",
    "        if modality == 'constitutive':\n",
    "            continue\n",
    "        six.print_('\\t', modality)\n",
    "\n",
    "        result = kruskalwallis(modality_df[col], constitutive[col])\n",
    "        six.print_('\\t\\t', result)"
   ]
  },
  {
   "cell_type": "markdown",
   "metadata": {},
   "source": [
    "## Exon conservation\n",
    "Use `bigWigAverageOverBed`"
   ]
  },
  {
   "cell_type": "code",
   "execution_count": 22,
   "metadata": {
    "collapsed": false
   },
   "outputs": [
    {
     "name": "stdout",
     "output_type": "stream",
     "text": [
      "bigWigAverageOverBed - Compute average score of big wig over each bed, which may have introns.\r\n",
      "usage:\r\n",
      "   bigWigAverageOverBed in.bw in.bed out.tab\r\n",
      "The output columns are:\r\n",
      "   name - name field from bed, which should be unique\r\n",
      "   size - size of bed (sum of exon sizes\r\n",
      "   covered - # bases within exons covered by bigWig\r\n",
      "   sum - sum of values over all bases covered\r\n",
      "   mean0 - average over bases with non-covered bases counting as zeroes\r\n",
      "   mean - average over just covered bases\r\n",
      "Options:\r\n",
      "   -bedOut=out.bed - Make output bed that is echo of input bed but with mean column appended\r\n",
      "   -sampleAroundCenter=N - Take sample at region N bases wide centered around bed item, rather\r\n",
      "                     than the usual sample in the bed item.\r\n",
      "\r\n"
     ]
    }
   ],
   "source": [
    "! bigWigAverageOverBed"
   ]
  },
  {
   "cell_type": "code",
   "execution_count": 23,
   "metadata": {
    "collapsed": false
   },
   "outputs": [
    {
     "name": "stdout",
     "output_type": "stream",
     "text": [
      "exon:chr1:10002682-10002840:-\t158\t158\t17.289\t0.109424\t0.109424\r\n",
      "exon:chr1:104070317-104070364:+\t47\t47\t46.991\t0.999809\t0.999809\r\n",
      "exon:chr1:104076361-104076479:+\t118\t118\t91.811\t0.778059\t0.778059\r\n",
      "exon:chr1:10464218-10464336:+\t118\t118\t94.521\t0.801025\t0.801025\r\n",
      "exon:chr1:10468128-10468197:+\t69\t69\t54.443\t0.789029\t0.789029\r\n",
      "exon:chr1:10471475-10471609:+\t134\t134\t106.817\t0.797142\t0.797142\r\n",
      "exon:chr1:10473119-10473308:+\t189\t189\t156.75\t0.829365\t0.829365\r\n",
      "exon:chr1:10477044-10477174:+\t130\t130\t97.078\t0.746754\t0.746754\r\n",
      "exon:chr1:10477433-10477566:+\t133\t133\t124.756\t0.938015\t0.938015\r\n",
      "exon:chr1:10478883-10478982:+\t99\t99\t86.846\t0.877232\t0.877232\r\n"
     ]
    }
   ],
   "source": [
    "txt = 'phastcons_placental_mammal.txt'\n",
    "! head $constitutive_feature_folder/$txt"
   ]
  },
  {
   "cell_type": "code",
   "execution_count": 24,
   "metadata": {
    "collapsed": true
   },
   "outputs": [],
   "source": [
    "columns = ['event_id', 'size', 'covered', 'sum', 'mean0', 'mean']"
   ]
  },
  {
   "cell_type": "code",
   "execution_count": 25,
   "metadata": {
    "collapsed": false
   },
   "outputs": [
    {
     "name": "stdout",
     "output_type": "stream",
     "text": [
      "(6250, 5)\n"
     ]
    },
    {
     "data": {
      "text/html": [
       "<div>\n",
       "<table border=\"1\" class=\"dataframe\">\n",
       "  <thead>\n",
       "    <tr style=\"text-align: right;\">\n",
       "      <th></th>\n",
       "      <th>size</th>\n",
       "      <th>covered</th>\n",
       "      <th>sum</th>\n",
       "      <th>mean0</th>\n",
       "      <th>mean</th>\n",
       "    </tr>\n",
       "    <tr>\n",
       "      <th>event_id</th>\n",
       "      <th></th>\n",
       "      <th></th>\n",
       "      <th></th>\n",
       "      <th></th>\n",
       "      <th></th>\n",
       "    </tr>\n",
       "  </thead>\n",
       "  <tbody>\n",
       "    <tr>\n",
       "      <th>exon:chr1:10002682-10002840:-</th>\n",
       "      <td>158</td>\n",
       "      <td>158</td>\n",
       "      <td>17.289</td>\n",
       "      <td>0.109424</td>\n",
       "      <td>0.109424</td>\n",
       "    </tr>\n",
       "    <tr>\n",
       "      <th>exon:chr1:104070317-104070364:+</th>\n",
       "      <td>47</td>\n",
       "      <td>47</td>\n",
       "      <td>46.991</td>\n",
       "      <td>0.999809</td>\n",
       "      <td>0.999809</td>\n",
       "    </tr>\n",
       "    <tr>\n",
       "      <th>exon:chr1:104076361-104076479:+</th>\n",
       "      <td>118</td>\n",
       "      <td>118</td>\n",
       "      <td>91.811</td>\n",
       "      <td>0.778059</td>\n",
       "      <td>0.778059</td>\n",
       "    </tr>\n",
       "    <tr>\n",
       "      <th>exon:chr1:10464218-10464336:+</th>\n",
       "      <td>118</td>\n",
       "      <td>118</td>\n",
       "      <td>94.521</td>\n",
       "      <td>0.801025</td>\n",
       "      <td>0.801025</td>\n",
       "    </tr>\n",
       "    <tr>\n",
       "      <th>exon:chr1:10468128-10468197:+</th>\n",
       "      <td>69</td>\n",
       "      <td>69</td>\n",
       "      <td>54.443</td>\n",
       "      <td>0.789029</td>\n",
       "      <td>0.789029</td>\n",
       "    </tr>\n",
       "  </tbody>\n",
       "</table>\n",
       "</div>"
      ],
      "text/plain": [
       "                                 size  covered     sum     mean0      mean\n",
       "event_id                                                                  \n",
       "exon:chr1:10002682-10002840:-     158      158  17.289  0.109424  0.109424\n",
       "exon:chr1:104070317-104070364:+    47       47  46.991  0.999809  0.999809\n",
       "exon:chr1:104076361-104076479:+   118      118  91.811  0.778059  0.778059\n",
       "exon:chr1:10464218-10464336:+     118      118  94.521  0.801025  0.801025\n",
       "exon:chr1:10468128-10468197:+      69       69  54.443  0.789029  0.789029"
      ]
     },
     "execution_count": 25,
     "metadata": {},
     "output_type": "execute_result"
    }
   ],
   "source": [
    "constitutive_conservation = pd.read_table('{}/{}'.format(constitutive_feature_folder, txt), header=None, names=columns,\n",
    "                                         index_col=0)\n",
    "six.print_(constitutive_conservation.shape)\n",
    "constitutive_conservation.head()"
   ]
  },
  {
   "cell_type": "code",
   "execution_count": 26,
   "metadata": {
    "collapsed": false
   },
   "outputs": [
    {
     "name": "stdout",
     "output_type": "stream",
     "text": [
      "(26379, 5)\n"
     ]
    },
    {
     "data": {
      "text/html": [
       "<div>\n",
       "<table border=\"1\" class=\"dataframe\">\n",
       "  <thead>\n",
       "    <tr style=\"text-align: right;\">\n",
       "      <th></th>\n",
       "      <th>size</th>\n",
       "      <th>covered</th>\n",
       "      <th>sum</th>\n",
       "      <th>mean0</th>\n",
       "      <th>mean</th>\n",
       "    </tr>\n",
       "    <tr>\n",
       "      <th>event_id</th>\n",
       "      <th></th>\n",
       "      <th></th>\n",
       "      <th></th>\n",
       "      <th></th>\n",
       "      <th></th>\n",
       "    </tr>\n",
       "  </thead>\n",
       "  <tbody>\n",
       "    <tr>\n",
       "      <th>exon:chr1:100316591-100316680:+@exon:chr1:100318117-100318259:+@exon:chr1:100327059-100327269:+</th>\n",
       "      <td>142</td>\n",
       "      <td>142</td>\n",
       "      <td>1.270</td>\n",
       "      <td>0.008944</td>\n",
       "      <td>0.008944</td>\n",
       "    </tr>\n",
       "    <tr>\n",
       "      <th>exon:chr1:100376268-100376403:+@exon:chr1:100377961-100378073:+@exon:chr1:100379083-100379294:+</th>\n",
       "      <td>112</td>\n",
       "      <td>112</td>\n",
       "      <td>102.294</td>\n",
       "      <td>0.913339</td>\n",
       "      <td>0.913339</td>\n",
       "    </tr>\n",
       "    <tr>\n",
       "      <th>exon:chr1:100435535-100435718:+@exon:chr1:100440527-100440625:+@exon:chr1:100459093-100459297:+</th>\n",
       "      <td>98</td>\n",
       "      <td>98</td>\n",
       "      <td>2.720</td>\n",
       "      <td>0.027755</td>\n",
       "      <td>0.027755</td>\n",
       "    </tr>\n",
       "    <tr>\n",
       "      <th>exon:chr1:100515465-100515560:+@exon:chr1:100524222-100524284:+@exon:chr1:100525434-100525561:+</th>\n",
       "      <td>62</td>\n",
       "      <td>62</td>\n",
       "      <td>61.983</td>\n",
       "      <td>0.999726</td>\n",
       "      <td>0.999726</td>\n",
       "    </tr>\n",
       "    <tr>\n",
       "      <th>exon:chr1:100533533-100533751:+@exon:chr1:100534029-100534142:+@exon:chr1:100535170-100535241:+</th>\n",
       "      <td>113</td>\n",
       "      <td>113</td>\n",
       "      <td>107.617</td>\n",
       "      <td>0.952363</td>\n",
       "      <td>0.952363</td>\n",
       "    </tr>\n",
       "  </tbody>\n",
       "</table>\n",
       "</div>"
      ],
      "text/plain": [
       "                                                                                                 size  \\\n",
       "event_id                                                                                                \n",
       "exon:chr1:100316591-100316680:+@exon:chr1:100318117-100318259:+@exon:chr1:100327059-100327269:+   142   \n",
       "exon:chr1:100376268-100376403:+@exon:chr1:100377961-100378073:+@exon:chr1:100379083-100379294:+   112   \n",
       "exon:chr1:100435535-100435718:+@exon:chr1:100440527-100440625:+@exon:chr1:100459093-100459297:+    98   \n",
       "exon:chr1:100515465-100515560:+@exon:chr1:100524222-100524284:+@exon:chr1:100525434-100525561:+    62   \n",
       "exon:chr1:100533533-100533751:+@exon:chr1:100534029-100534142:+@exon:chr1:100535170-100535241:+   113   \n",
       "\n",
       "                                                                                                 covered  \\\n",
       "event_id                                                                                                   \n",
       "exon:chr1:100316591-100316680:+@exon:chr1:100318117-100318259:+@exon:chr1:100327059-100327269:+      142   \n",
       "exon:chr1:100376268-100376403:+@exon:chr1:100377961-100378073:+@exon:chr1:100379083-100379294:+      112   \n",
       "exon:chr1:100435535-100435718:+@exon:chr1:100440527-100440625:+@exon:chr1:100459093-100459297:+       98   \n",
       "exon:chr1:100515465-100515560:+@exon:chr1:100524222-100524284:+@exon:chr1:100525434-100525561:+       62   \n",
       "exon:chr1:100533533-100533751:+@exon:chr1:100534029-100534142:+@exon:chr1:100535170-100535241:+      113   \n",
       "\n",
       "                                                                                                     sum  \\\n",
       "event_id                                                                                                   \n",
       "exon:chr1:100316591-100316680:+@exon:chr1:100318117-100318259:+@exon:chr1:100327059-100327269:+    1.270   \n",
       "exon:chr1:100376268-100376403:+@exon:chr1:100377961-100378073:+@exon:chr1:100379083-100379294:+  102.294   \n",
       "exon:chr1:100435535-100435718:+@exon:chr1:100440527-100440625:+@exon:chr1:100459093-100459297:+    2.720   \n",
       "exon:chr1:100515465-100515560:+@exon:chr1:100524222-100524284:+@exon:chr1:100525434-100525561:+   61.983   \n",
       "exon:chr1:100533533-100533751:+@exon:chr1:100534029-100534142:+@exon:chr1:100535170-100535241:+  107.617   \n",
       "\n",
       "                                                                                                    mean0  \\\n",
       "event_id                                                                                                    \n",
       "exon:chr1:100316591-100316680:+@exon:chr1:100318117-100318259:+@exon:chr1:100327059-100327269:+  0.008944   \n",
       "exon:chr1:100376268-100376403:+@exon:chr1:100377961-100378073:+@exon:chr1:100379083-100379294:+  0.913339   \n",
       "exon:chr1:100435535-100435718:+@exon:chr1:100440527-100440625:+@exon:chr1:100459093-100459297:+  0.027755   \n",
       "exon:chr1:100515465-100515560:+@exon:chr1:100524222-100524284:+@exon:chr1:100525434-100525561:+  0.999726   \n",
       "exon:chr1:100533533-100533751:+@exon:chr1:100534029-100534142:+@exon:chr1:100535170-100535241:+  0.952363   \n",
       "\n",
       "                                                                                                     mean  \n",
       "event_id                                                                                                   \n",
       "exon:chr1:100316591-100316680:+@exon:chr1:100318117-100318259:+@exon:chr1:100327059-100327269:+  0.008944  \n",
       "exon:chr1:100376268-100376403:+@exon:chr1:100377961-100378073:+@exon:chr1:100379083-100379294:+  0.913339  \n",
       "exon:chr1:100435535-100435718:+@exon:chr1:100440527-100440625:+@exon:chr1:100459093-100459297:+  0.027755  \n",
       "exon:chr1:100515465-100515560:+@exon:chr1:100524222-100524284:+@exon:chr1:100525434-100525561:+  0.999726  \n",
       "exon:chr1:100533533-100533751:+@exon:chr1:100534029-100534142:+@exon:chr1:100535170-100535241:+  0.952363  "
      ]
     },
     "execution_count": 26,
     "metadata": {},
     "output_type": "execute_result"
    }
   ],
   "source": [
    "alternative_conservation = pd.read_table('{}/{}'.format(alternative_feature_folder, txt), header=None, names=columns,\n",
    "                                         index_col=0)\n",
    "six.print_(alternative_conservation.shape)\n",
    "alternative_conservation.head()"
   ]
  },
  {
   "cell_type": "code",
   "execution_count": 27,
   "metadata": {
    "collapsed": false
   },
   "outputs": [],
   "source": [
    "def make_phenotype_modality_format(constitutive_df):\n",
    "    constitutive_df = constitutive_df.copy().reset_index()\n",
    "    constitutive_df['modality'] = 'constitutive'\n",
    "    dfs = []\n",
    "    for phenotype in study.phenotype_order:\n",
    "        df = constitutive_df.copy()#.reset_index()\n",
    "        df['phenotype'] = phenotype\n",
    "        dfs.append(df)\n",
    "    df = pd.concat(dfs)\n",
    "    six.print_(df.shape)\n",
    "#     df.head()\n",
    "    return df"
   ]
  },
  {
   "cell_type": "code",
   "execution_count": 28,
   "metadata": {
    "collapsed": false
   },
   "outputs": [
    {
     "data": {
      "text/html": [
       "<div>\n",
       "<table border=\"1\" class=\"dataframe\">\n",
       "  <thead>\n",
       "    <tr style=\"text-align: right;\">\n",
       "      <th></th>\n",
       "      <th>size</th>\n",
       "      <th>covered</th>\n",
       "      <th>sum</th>\n",
       "      <th>mean0</th>\n",
       "      <th>mean</th>\n",
       "    </tr>\n",
       "    <tr>\n",
       "      <th>event_id</th>\n",
       "      <th></th>\n",
       "      <th></th>\n",
       "      <th></th>\n",
       "      <th></th>\n",
       "      <th></th>\n",
       "    </tr>\n",
       "  </thead>\n",
       "  <tbody>\n",
       "    <tr>\n",
       "      <th>exon:chr1:10002682-10002840:-</th>\n",
       "      <td>158</td>\n",
       "      <td>158</td>\n",
       "      <td>17.289</td>\n",
       "      <td>0.109424</td>\n",
       "      <td>0.109424</td>\n",
       "    </tr>\n",
       "    <tr>\n",
       "      <th>exon:chr1:104070317-104070364:+</th>\n",
       "      <td>47</td>\n",
       "      <td>47</td>\n",
       "      <td>46.991</td>\n",
       "      <td>0.999809</td>\n",
       "      <td>0.999809</td>\n",
       "    </tr>\n",
       "    <tr>\n",
       "      <th>exon:chr1:104076361-104076479:+</th>\n",
       "      <td>118</td>\n",
       "      <td>118</td>\n",
       "      <td>91.811</td>\n",
       "      <td>0.778059</td>\n",
       "      <td>0.778059</td>\n",
       "    </tr>\n",
       "    <tr>\n",
       "      <th>exon:chr1:10464218-10464336:+</th>\n",
       "      <td>118</td>\n",
       "      <td>118</td>\n",
       "      <td>94.521</td>\n",
       "      <td>0.801025</td>\n",
       "      <td>0.801025</td>\n",
       "    </tr>\n",
       "    <tr>\n",
       "      <th>exon:chr1:10468128-10468197:+</th>\n",
       "      <td>69</td>\n",
       "      <td>69</td>\n",
       "      <td>54.443</td>\n",
       "      <td>0.789029</td>\n",
       "      <td>0.789029</td>\n",
       "    </tr>\n",
       "  </tbody>\n",
       "</table>\n",
       "</div>"
      ],
      "text/plain": [
       "                                 size  covered     sum     mean0      mean\n",
       "event_id                                                                  \n",
       "exon:chr1:10002682-10002840:-     158      158  17.289  0.109424  0.109424\n",
       "exon:chr1:104070317-104070364:+    47       47  46.991  0.999809  0.999809\n",
       "exon:chr1:104076361-104076479:+   118      118  91.811  0.778059  0.778059\n",
       "exon:chr1:10464218-10464336:+     118      118  94.521  0.801025  0.801025\n",
       "exon:chr1:10468128-10468197:+      69       69  54.443  0.789029  0.789029"
      ]
     },
     "execution_count": 28,
     "metadata": {},
     "output_type": "execute_result"
    }
   ],
   "source": [
    "constitutive_conservation.head()"
   ]
  },
  {
   "cell_type": "code",
   "execution_count": 29,
   "metadata": {
    "collapsed": false
   },
   "outputs": [
    {
     "name": "stdout",
     "output_type": "stream",
     "text": [
      "(18750, 8)\n"
     ]
    },
    {
     "data": {
      "text/html": [
       "<div>\n",
       "<table border=\"1\" class=\"dataframe\">\n",
       "  <thead>\n",
       "    <tr style=\"text-align: right;\">\n",
       "      <th></th>\n",
       "      <th>event_id</th>\n",
       "      <th>size</th>\n",
       "      <th>covered</th>\n",
       "      <th>sum</th>\n",
       "      <th>mean0</th>\n",
       "      <th>mean</th>\n",
       "      <th>modality</th>\n",
       "      <th>phenotype</th>\n",
       "    </tr>\n",
       "  </thead>\n",
       "  <tbody>\n",
       "    <tr>\n",
       "      <th>0</th>\n",
       "      <td>exon:chr1:10002682-10002840:-</td>\n",
       "      <td>158</td>\n",
       "      <td>158</td>\n",
       "      <td>17.289</td>\n",
       "      <td>0.109424</td>\n",
       "      <td>0.109424</td>\n",
       "      <td>constitutive</td>\n",
       "      <td>iPSC</td>\n",
       "    </tr>\n",
       "    <tr>\n",
       "      <th>1</th>\n",
       "      <td>exon:chr1:104070317-104070364:+</td>\n",
       "      <td>47</td>\n",
       "      <td>47</td>\n",
       "      <td>46.991</td>\n",
       "      <td>0.999809</td>\n",
       "      <td>0.999809</td>\n",
       "      <td>constitutive</td>\n",
       "      <td>iPSC</td>\n",
       "    </tr>\n",
       "    <tr>\n",
       "      <th>2</th>\n",
       "      <td>exon:chr1:104076361-104076479:+</td>\n",
       "      <td>118</td>\n",
       "      <td>118</td>\n",
       "      <td>91.811</td>\n",
       "      <td>0.778059</td>\n",
       "      <td>0.778059</td>\n",
       "      <td>constitutive</td>\n",
       "      <td>iPSC</td>\n",
       "    </tr>\n",
       "    <tr>\n",
       "      <th>3</th>\n",
       "      <td>exon:chr1:10464218-10464336:+</td>\n",
       "      <td>118</td>\n",
       "      <td>118</td>\n",
       "      <td>94.521</td>\n",
       "      <td>0.801025</td>\n",
       "      <td>0.801025</td>\n",
       "      <td>constitutive</td>\n",
       "      <td>iPSC</td>\n",
       "    </tr>\n",
       "    <tr>\n",
       "      <th>4</th>\n",
       "      <td>exon:chr1:10468128-10468197:+</td>\n",
       "      <td>69</td>\n",
       "      <td>69</td>\n",
       "      <td>54.443</td>\n",
       "      <td>0.789029</td>\n",
       "      <td>0.789029</td>\n",
       "      <td>constitutive</td>\n",
       "      <td>iPSC</td>\n",
       "    </tr>\n",
       "  </tbody>\n",
       "</table>\n",
       "</div>"
      ],
      "text/plain": [
       "                          event_id  size  covered     sum     mean0      mean  \\\n",
       "0    exon:chr1:10002682-10002840:-   158      158  17.289  0.109424  0.109424   \n",
       "1  exon:chr1:104070317-104070364:+    47       47  46.991  0.999809  0.999809   \n",
       "2  exon:chr1:104076361-104076479:+   118      118  91.811  0.778059  0.778059   \n",
       "3    exon:chr1:10464218-10464336:+   118      118  94.521  0.801025  0.801025   \n",
       "4    exon:chr1:10468128-10468197:+    69       69  54.443  0.789029  0.789029   \n",
       "\n",
       "       modality phenotype  \n",
       "0  constitutive      iPSC  \n",
       "1  constitutive      iPSC  \n",
       "2  constitutive      iPSC  \n",
       "3  constitutive      iPSC  \n",
       "4  constitutive      iPSC  "
      ]
     },
     "execution_count": 29,
     "metadata": {},
     "output_type": "execute_result"
    }
   ],
   "source": [
    "constitutive_df_modality = make_phenotype_modality_format(constitutive_conservation)\n",
    "constitutive_df_modality.head()"
   ]
  },
  {
   "cell_type": "code",
   "execution_count": 30,
   "metadata": {
    "collapsed": false
   },
   "outputs": [
    {
     "data": {
      "text/html": [
       "<div>\n",
       "<table border=\"1\" class=\"dataframe\">\n",
       "  <thead>\n",
       "    <tr style=\"text-align: right;\">\n",
       "      <th></th>\n",
       "      <th>phenotype</th>\n",
       "      <th>event_id</th>\n",
       "      <th>modality</th>\n",
       "      <th>size</th>\n",
       "      <th>covered</th>\n",
       "      <th>sum</th>\n",
       "      <th>mean0</th>\n",
       "      <th>mean</th>\n",
       "    </tr>\n",
       "  </thead>\n",
       "  <tbody>\n",
       "    <tr>\n",
       "      <th>0</th>\n",
       "      <td>MN</td>\n",
       "      <td>exon:chr10:102114184-102114389:+@exon:chr10:102116289-102116521:+@exon:chr10:102120491-102124591:+</td>\n",
       "      <td>included</td>\n",
       "      <td>232</td>\n",
       "      <td>232</td>\n",
       "      <td>162.071</td>\n",
       "      <td>0.698582</td>\n",
       "      <td>0.698582</td>\n",
       "    </tr>\n",
       "    <tr>\n",
       "      <th>1</th>\n",
       "      <td>MN</td>\n",
       "      <td>exon:chr10:102286732-102286831:-@exon:chr10:102286156-102286311:-@exon:chr10:102283497-102283686:-</td>\n",
       "      <td>included</td>\n",
       "      <td>NaN</td>\n",
       "      <td>NaN</td>\n",
       "      <td>NaN</td>\n",
       "      <td>NaN</td>\n",
       "      <td>NaN</td>\n",
       "    </tr>\n",
       "    <tr>\n",
       "      <th>2</th>\n",
       "      <td>MN</td>\n",
       "      <td>exon:chr10:103348089-103348157:+@exon:chr10:103354415-103354495:+@exon:chr10:103360495-103360619:+</td>\n",
       "      <td>included</td>\n",
       "      <td>NaN</td>\n",
       "      <td>NaN</td>\n",
       "      <td>NaN</td>\n",
       "      <td>NaN</td>\n",
       "      <td>NaN</td>\n",
       "    </tr>\n",
       "    <tr>\n",
       "      <th>3</th>\n",
       "      <td>MN</td>\n",
       "      <td>exon:chr10:103360960-103361093:+@exon:chr10:103364897-103364969:+@exon:chr10:103368592-103368694:+</td>\n",
       "      <td>bimodal</td>\n",
       "      <td>72</td>\n",
       "      <td>72</td>\n",
       "      <td>1.192</td>\n",
       "      <td>0.016556</td>\n",
       "      <td>0.016556</td>\n",
       "    </tr>\n",
       "    <tr>\n",
       "      <th>4</th>\n",
       "      <td>MN</td>\n",
       "      <td>exon:chr10:103360960-103361093:+@exon:chr10:103368592-103368694:+@exon:chr10:103369124-103369425:+</td>\n",
       "      <td>bimodal</td>\n",
       "      <td>NaN</td>\n",
       "      <td>NaN</td>\n",
       "      <td>NaN</td>\n",
       "      <td>NaN</td>\n",
       "      <td>NaN</td>\n",
       "    </tr>\n",
       "  </tbody>\n",
       "</table>\n",
       "</div>"
      ],
      "text/plain": [
       "  phenotype  \\\n",
       "0        MN   \n",
       "1        MN   \n",
       "2        MN   \n",
       "3        MN   \n",
       "4        MN   \n",
       "\n",
       "                                                                                             event_id  \\\n",
       "0  exon:chr10:102114184-102114389:+@exon:chr10:102116289-102116521:+@exon:chr10:102120491-102124591:+   \n",
       "1  exon:chr10:102286732-102286831:-@exon:chr10:102286156-102286311:-@exon:chr10:102283497-102283686:-   \n",
       "2  exon:chr10:103348089-103348157:+@exon:chr10:103354415-103354495:+@exon:chr10:103360495-103360619:+   \n",
       "3  exon:chr10:103360960-103361093:+@exon:chr10:103364897-103364969:+@exon:chr10:103368592-103368694:+   \n",
       "4  exon:chr10:103360960-103361093:+@exon:chr10:103368592-103368694:+@exon:chr10:103369124-103369425:+   \n",
       "\n",
       "   modality  size  covered      sum     mean0      mean  \n",
       "0  included   232      232  162.071  0.698582  0.698582  \n",
       "1  included   NaN      NaN      NaN       NaN       NaN  \n",
       "2  included   NaN      NaN      NaN       NaN       NaN  \n",
       "3   bimodal    72       72    1.192  0.016556  0.016556  \n",
       "4   bimodal   NaN      NaN      NaN       NaN       NaN  "
      ]
     },
     "execution_count": 30,
     "metadata": {},
     "output_type": "execute_result"
    }
   ],
   "source": [
    "modalities_conservation = study.supplemental.modalities_tidy.join(alternative_conservation, on='event_id')\n",
    "modalities_conservation.head()"
   ]
  },
  {
   "cell_type": "code",
   "execution_count": 31,
   "metadata": {
    "collapsed": false
   },
   "outputs": [
    {
     "data": {
      "text/html": [
       "<div>\n",
       "<table border=\"1\" class=\"dataframe\">\n",
       "  <thead>\n",
       "    <tr style=\"text-align: right;\">\n",
       "      <th></th>\n",
       "      <th>covered</th>\n",
       "      <th>event_id</th>\n",
       "      <th>mean</th>\n",
       "      <th>mean0</th>\n",
       "      <th>modality</th>\n",
       "      <th>phenotype</th>\n",
       "      <th>size</th>\n",
       "      <th>sum</th>\n",
       "    </tr>\n",
       "  </thead>\n",
       "  <tbody>\n",
       "    <tr>\n",
       "      <th>0</th>\n",
       "      <td>232</td>\n",
       "      <td>exon:chr10:102114184-102114389:+@exon:chr10:102116289-102116521:+@exon:chr10:102120491-102124591:+</td>\n",
       "      <td>0.698582</td>\n",
       "      <td>0.698582</td>\n",
       "      <td>included</td>\n",
       "      <td>MN</td>\n",
       "      <td>232</td>\n",
       "      <td>162.071</td>\n",
       "    </tr>\n",
       "    <tr>\n",
       "      <th>1</th>\n",
       "      <td>NaN</td>\n",
       "      <td>exon:chr10:102286732-102286831:-@exon:chr10:102286156-102286311:-@exon:chr10:102283497-102283686:-</td>\n",
       "      <td>NaN</td>\n",
       "      <td>NaN</td>\n",
       "      <td>included</td>\n",
       "      <td>MN</td>\n",
       "      <td>NaN</td>\n",
       "      <td>NaN</td>\n",
       "    </tr>\n",
       "    <tr>\n",
       "      <th>2</th>\n",
       "      <td>NaN</td>\n",
       "      <td>exon:chr10:103348089-103348157:+@exon:chr10:103354415-103354495:+@exon:chr10:103360495-103360619:+</td>\n",
       "      <td>NaN</td>\n",
       "      <td>NaN</td>\n",
       "      <td>included</td>\n",
       "      <td>MN</td>\n",
       "      <td>NaN</td>\n",
       "      <td>NaN</td>\n",
       "    </tr>\n",
       "    <tr>\n",
       "      <th>3</th>\n",
       "      <td>72</td>\n",
       "      <td>exon:chr10:103360960-103361093:+@exon:chr10:103364897-103364969:+@exon:chr10:103368592-103368694:+</td>\n",
       "      <td>0.016556</td>\n",
       "      <td>0.016556</td>\n",
       "      <td>bimodal</td>\n",
       "      <td>MN</td>\n",
       "      <td>72</td>\n",
       "      <td>1.192</td>\n",
       "    </tr>\n",
       "    <tr>\n",
       "      <th>4</th>\n",
       "      <td>NaN</td>\n",
       "      <td>exon:chr10:103360960-103361093:+@exon:chr10:103368592-103368694:+@exon:chr10:103369124-103369425:+</td>\n",
       "      <td>NaN</td>\n",
       "      <td>NaN</td>\n",
       "      <td>bimodal</td>\n",
       "      <td>MN</td>\n",
       "      <td>NaN</td>\n",
       "      <td>NaN</td>\n",
       "    </tr>\n",
       "  </tbody>\n",
       "</table>\n",
       "</div>"
      ],
      "text/plain": [
       "   covered  \\\n",
       "0      232   \n",
       "1      NaN   \n",
       "2      NaN   \n",
       "3       72   \n",
       "4      NaN   \n",
       "\n",
       "                                                                                             event_id  \\\n",
       "0  exon:chr10:102114184-102114389:+@exon:chr10:102116289-102116521:+@exon:chr10:102120491-102124591:+   \n",
       "1  exon:chr10:102286732-102286831:-@exon:chr10:102286156-102286311:-@exon:chr10:102283497-102283686:-   \n",
       "2  exon:chr10:103348089-103348157:+@exon:chr10:103354415-103354495:+@exon:chr10:103360495-103360619:+   \n",
       "3  exon:chr10:103360960-103361093:+@exon:chr10:103364897-103364969:+@exon:chr10:103368592-103368694:+   \n",
       "4  exon:chr10:103360960-103361093:+@exon:chr10:103368592-103368694:+@exon:chr10:103369124-103369425:+   \n",
       "\n",
       "       mean     mean0  modality phenotype  size      sum  \n",
       "0  0.698582  0.698582  included        MN   232  162.071  \n",
       "1       NaN       NaN  included        MN   NaN      NaN  \n",
       "2       NaN       NaN  included        MN   NaN      NaN  \n",
       "3  0.016556  0.016556   bimodal        MN    72    1.192  \n",
       "4       NaN       NaN   bimodal        MN   NaN      NaN  "
      ]
     },
     "execution_count": 31,
     "metadata": {},
     "output_type": "execute_result"
    }
   ],
   "source": [
    "modalities_conservation_constitutive = pd.concat([modalities_conservation, constitutive_df_modality])\n",
    "modalities_conservation_constitutive.head()"
   ]
  },
  {
   "cell_type": "code",
   "execution_count": 32,
   "metadata": {
    "collapsed": true
   },
   "outputs": [],
   "source": [
    "from flotilla.visualize.generic import cdfplot"
   ]
  },
  {
   "cell_type": "code",
   "execution_count": 33,
   "metadata": {
    "collapsed": false
   },
   "outputs": [
    {
     "data": {
      "image/png": "[encoded data removed]",
      "text/plain": [
       "<matplotlib.figure.Figure at 0x2ae29ef5b4d0>"
      ]
     },
     "metadata": {},
     "output_type": "display_data"
    }
   ],
   "source": [
    "g = sns.FacetGrid(col='phenotype', hue='modality', size=2, #aspect=.75,\n",
    "            data=modalities_conservation_constitutive, hue_order=modality_order, palette=modality_palette, \n",
    "            col_order=study.phenotype_order)\n",
    "\n",
    "g.map(cdfplot, 'mean')\n",
    "g.set_xlabels('mean Placental PhastCons')\n",
    "g.set_ylabels('Cumulative distribution')\n",
    "g.set(xlim=(0, 1), ylim=(0, 1), yticks=(0, 0.5, 1), xticks=(0, 0.5, 1))\n",
    "g.fig.tight_layout()\n",
    "g.savefig('{}/conservation_cdf.pdf'.format(figure_folder))"
   ]
  },
  {
   "cell_type": "markdown",
   "metadata": {},
   "source": [
    "### Statistical enrichment - pairwise Kruskal-Wallis test vs constitutive"
   ]
  },
  {
   "cell_type": "code",
   "execution_count": 34,
   "metadata": {
    "collapsed": false
   },
   "outputs": [
    {
     "name": "stdout",
     "output_type": "stream",
     "text": [
      "MN\n",
      "\t ambivalent\n",
      "\t\t KruskalResult(statistic=0.0, pvalue=1.0)\n",
      "\t bimodal\n",
      "\t\t KruskalResult(statistic=0.937439724423345, pvalue=0.33293714995404577)\n",
      "\t excluded\n",
      "\t\t KruskalResult(statistic=234.93978749911258, pvalue=4.9900611148882043e-53)\n",
      "\t included\n",
      "\t\t KruskalResult(statistic=20.117307648648108, pvalue=7.2834582111233872e-06)\n",
      "NPC\n",
      "\t ambivalent\n",
      "\t\t KruskalResult(statistic=1.1004838937371464, pvalue=0.29415993438980781)\n",
      "\t bimodal\n",
      "\t\t KruskalResult(statistic=2.7779168797682026, pvalue=0.095572402457473601)\n",
      "\t excluded\n",
      "\t\t KruskalResult(statistic=549.72545884969031, pvalue=1.4444882266684208e-121)\n",
      "\t included\n",
      "\t\t KruskalResult(statistic=10.008764518432107, pvalue=0.0015579700234297634)\n",
      "iPSC\n",
      "\t ambivalent\n",
      "\t\t KruskalResult(statistic=2.6451197377105271, pvalue=0.10386833077536466)\n",
      "\t bimodal\n",
      "\t\t KruskalResult(statistic=35.752181019208173, pvalue=2.2408096907035766e-09)\n",
      "\t concurrent\n",
      "\t\t KruskalResult(statistic=0.0, pvalue=1.0)\n",
      "\t excluded\n",
      "\t\t KruskalResult(statistic=674.83518017222866, pvalue=8.8736550676946898e-149)\n",
      "\t included\n",
      "\t\t KruskalResult(statistic=0.1163601021792358, pvalue=0.7330162822675691)\n"
     ]
    }
   ],
   "source": [
    "from scipy.stats.mstats import kruskalwallis\n",
    "\n",
    "col = 'mean'\n",
    "\n",
    "for phenotype, phenotype_df in modalities_conservation_constitutive.groupby(['phenotype']):\n",
    "    six.print_(phenotype)\n",
    "    grouped = phenotype_df.groupby('modality')\n",
    "    constitutive = grouped.get_group('constitutive')\n",
    "    \n",
    "    for modality, modality_df in grouped:\n",
    "        if modality == 'constitutive':\n",
    "            continue\n",
    "        six.print_('\\t', modality)\n",
    "\n",
    "        result = kruskalwallis(modality_df[col], constitutive[col])\n",
    "        six.print_('\\t\\t', result)"
   ]
  },
  {
   "cell_type": "markdown",
   "metadata": {},
   "source": [
    "## Overlap with repetitive elements\n",
    "\n",
    "e.g. SINE, LINE, ALU"
   ]
  },
  {
   "cell_type": "code",
   "execution_count": 35,
   "metadata": {
    "collapsed": true
   },
   "outputs": [],
   "source": [
    "prefix = 'repetitive_element_overlap'\n",
    "csv = '{}.csv'.format(prefix)"
   ]
  },
  {
   "cell_type": "code",
   "execution_count": 36,
   "metadata": {
    "collapsed": false
   },
   "outputs": [
    {
     "name": "stdout",
     "output_type": "stream",
     "text": [
      "(15, 4)\n"
     ]
    },
    {
     "data": {
      "text/html": [
       "<div>\n",
       "<table border=\"1\" class=\"dataframe\">\n",
       "  <thead>\n",
       "    <tr style=\"text-align: right;\">\n",
       "      <th></th>\n",
       "      <th>repetitive_element_dfam_class</th>\n",
       "      <th>repetitive_element_dfam_id</th>\n",
       "      <th>repetitive_element_dfam_superfamily</th>\n",
       "      <th>repetitive_element_dfam_type</th>\n",
       "    </tr>\n",
       "    <tr>\n",
       "      <th>event_id</th>\n",
       "      <th></th>\n",
       "      <th></th>\n",
       "      <th></th>\n",
       "      <th></th>\n",
       "    </tr>\n",
       "  </thead>\n",
       "  <tbody>\n",
       "    <tr>\n",
       "      <th>exon:chr10:17277168-17278378:+</th>\n",
       "      <td>SINE</td>\n",
       "      <td>MIRb</td>\n",
       "      <td>MIR</td>\n",
       "      <td>Retrotransposon</td>\n",
       "    </tr>\n",
       "    <tr>\n",
       "      <th>exon:chr11:57094177-57094988:-</th>\n",
       "      <td>Cut</td>\n",
       "      <td>Charlie16a</td>\n",
       "      <td>hAT-Charlie</td>\n",
       "      <td>DNA</td>\n",
       "    </tr>\n",
       "    <tr>\n",
       "      <th>exon:chr11:57095771-57097612:-</th>\n",
       "      <td>snoRNA,SINE,LTR</td>\n",
       "      <td>U13,MLT1K,MIRc</td>\n",
       "      <td>ERVL-MaLR,MIR,U14</td>\n",
       "      <td>ncRNA,Retrotransposon</td>\n",
       "    </tr>\n",
       "    <tr>\n",
       "      <th>exon:chr14:24614588-24615449:-</th>\n",
       "      <td>SINE</td>\n",
       "      <td>MIR3</td>\n",
       "      <td>MIR</td>\n",
       "      <td>Retrotransposon</td>\n",
       "    </tr>\n",
       "    <tr>\n",
       "      <th>exon:chr14:94521342-94524243:-</th>\n",
       "      <td>LTR,Cut,SINE</td>\n",
       "      <td>MIR,MER117,MER21B</td>\n",
       "      <td>MIR,ERVL,hAT-Charlie</td>\n",
       "      <td>Retrotransposon,DNA</td>\n",
       "    </tr>\n",
       "  </tbody>\n",
       "</table>\n",
       "</div>"
      ],
      "text/plain": [
       "                               repetitive_element_dfam_class  \\\n",
       "event_id                                                       \n",
       "exon:chr10:17277168-17278378:+                          SINE   \n",
       "exon:chr11:57094177-57094988:-                           Cut   \n",
       "exon:chr11:57095771-57097612:-               snoRNA,SINE,LTR   \n",
       "exon:chr14:24614588-24615449:-                          SINE   \n",
       "exon:chr14:94521342-94524243:-                  LTR,Cut,SINE   \n",
       "\n",
       "                               repetitive_element_dfam_id  \\\n",
       "event_id                                                    \n",
       "exon:chr10:17277168-17278378:+                       MIRb   \n",
       "exon:chr11:57094177-57094988:-                 Charlie16a   \n",
       "exon:chr11:57095771-57097612:-             U13,MLT1K,MIRc   \n",
       "exon:chr14:24614588-24615449:-                       MIR3   \n",
       "exon:chr14:94521342-94524243:-          MIR,MER117,MER21B   \n",
       "\n",
       "                               repetitive_element_dfam_superfamily  \\\n",
       "event_id                                                             \n",
       "exon:chr10:17277168-17278378:+                                 MIR   \n",
       "exon:chr11:57094177-57094988:-                         hAT-Charlie   \n",
       "exon:chr11:57095771-57097612:-                   ERVL-MaLR,MIR,U14   \n",
       "exon:chr14:24614588-24615449:-                                 MIR   \n",
       "exon:chr14:94521342-94524243:-                MIR,ERVL,hAT-Charlie   \n",
       "\n",
       "                               repetitive_element_dfam_type  \n",
       "event_id                                                     \n",
       "exon:chr10:17277168-17278378:+              Retrotransposon  \n",
       "exon:chr11:57094177-57094988:-                          DNA  \n",
       "exon:chr11:57095771-57097612:-        ncRNA,Retrotransposon  \n",
       "exon:chr14:24614588-24615449:-              Retrotransposon  \n",
       "exon:chr14:94521342-94524243:-          Retrotransposon,DNA  "
      ]
     },
     "execution_count": 36,
     "metadata": {},
     "output_type": "execute_result"
    }
   ],
   "source": [
    "constitutive_repetitive = pd.read_csv('{}/{}'.format(constitutive_feature_folder, csv), index_col=0)\n",
    "six.print_(constitutive_repetitive.shape)\n",
    "constitutive_repetitive.head()"
   ]
  },
  {
   "cell_type": "code",
   "execution_count": 37,
   "metadata": {
    "collapsed": false
   },
   "outputs": [
    {
     "name": "stdout",
     "output_type": "stream",
     "text": [
      "(45, 7)\n",
      "(45, 7)\n"
     ]
    },
    {
     "data": {
      "text/html": [
       "<div>\n",
       "<table border=\"1\" class=\"dataframe\">\n",
       "  <thead>\n",
       "    <tr style=\"text-align: right;\">\n",
       "      <th></th>\n",
       "      <th>event_id</th>\n",
       "      <th>repetitive_element_dfam_class</th>\n",
       "      <th>repetitive_element_dfam_id</th>\n",
       "      <th>repetitive_element_dfam_superfamily</th>\n",
       "      <th>repetitive_element_dfam_type</th>\n",
       "      <th>modality</th>\n",
       "      <th>phenotype</th>\n",
       "    </tr>\n",
       "  </thead>\n",
       "  <tbody>\n",
       "    <tr>\n",
       "      <th>0</th>\n",
       "      <td>exon:chr10:17277168-17278378:+</td>\n",
       "      <td>SINE</td>\n",
       "      <td>MIRb</td>\n",
       "      <td>MIR</td>\n",
       "      <td>Retrotransposon</td>\n",
       "      <td>constitutive</td>\n",
       "      <td>iPSC</td>\n",
       "    </tr>\n",
       "    <tr>\n",
       "      <th>1</th>\n",
       "      <td>exon:chr11:57094177-57094988:-</td>\n",
       "      <td>Cut</td>\n",
       "      <td>Charlie16a</td>\n",
       "      <td>hAT-Charlie</td>\n",
       "      <td>DNA</td>\n",
       "      <td>constitutive</td>\n",
       "      <td>iPSC</td>\n",
       "    </tr>\n",
       "    <tr>\n",
       "      <th>2</th>\n",
       "      <td>exon:chr11:57095771-57097612:-</td>\n",
       "      <td>snoRNA,SINE,LTR</td>\n",
       "      <td>U13,MLT1K,MIRc</td>\n",
       "      <td>ERVL-MaLR,MIR,U14</td>\n",
       "      <td>ncRNA,Retrotransposon</td>\n",
       "      <td>constitutive</td>\n",
       "      <td>iPSC</td>\n",
       "    </tr>\n",
       "    <tr>\n",
       "      <th>3</th>\n",
       "      <td>exon:chr14:24614588-24615449:-</td>\n",
       "      <td>SINE</td>\n",
       "      <td>MIR3</td>\n",
       "      <td>MIR</td>\n",
       "      <td>Retrotransposon</td>\n",
       "      <td>constitutive</td>\n",
       "      <td>iPSC</td>\n",
       "    </tr>\n",
       "    <tr>\n",
       "      <th>4</th>\n",
       "      <td>exon:chr14:94521342-94524243:-</td>\n",
       "      <td>LTR,Cut,SINE</td>\n",
       "      <td>MIR,MER117,MER21B</td>\n",
       "      <td>MIR,ERVL,hAT-Charlie</td>\n",
       "      <td>Retrotransposon,DNA</td>\n",
       "      <td>constitutive</td>\n",
       "      <td>iPSC</td>\n",
       "    </tr>\n",
       "  </tbody>\n",
       "</table>\n",
       "</div>"
      ],
      "text/plain": [
       "                         event_id repetitive_element_dfam_class  \\\n",
       "0  exon:chr10:17277168-17278378:+                          SINE   \n",
       "1  exon:chr11:57094177-57094988:-                           Cut   \n",
       "2  exon:chr11:57095771-57097612:-               snoRNA,SINE,LTR   \n",
       "3  exon:chr14:24614588-24615449:-                          SINE   \n",
       "4  exon:chr14:94521342-94524243:-                  LTR,Cut,SINE   \n",
       "\n",
       "  repetitive_element_dfam_id repetitive_element_dfam_superfamily  \\\n",
       "0                       MIRb                                 MIR   \n",
       "1                 Charlie16a                         hAT-Charlie   \n",
       "2             U13,MLT1K,MIRc                   ERVL-MaLR,MIR,U14   \n",
       "3                       MIR3                                 MIR   \n",
       "4          MIR,MER117,MER21B                MIR,ERVL,hAT-Charlie   \n",
       "\n",
       "  repetitive_element_dfam_type      modality phenotype  \n",
       "0              Retrotransposon  constitutive      iPSC  \n",
       "1                          DNA  constitutive      iPSC  \n",
       "2        ncRNA,Retrotransposon  constitutive      iPSC  \n",
       "3              Retrotransposon  constitutive      iPSC  \n",
       "4          Retrotransposon,DNA  constitutive      iPSC  "
      ]
     },
     "execution_count": 37,
     "metadata": {},
     "output_type": "execute_result"
    }
   ],
   "source": [
    "constitutive_repetitive_modalities = make_phenotype_modality_format(constitutive_repetitive)\n",
    "print(constitutive_repetitive_modalities.shape)\n",
    "constitutive_repetitive_modalities.head()"
   ]
  },
  {
   "cell_type": "code",
   "execution_count": 38,
   "metadata": {
    "collapsed": false
   },
   "outputs": [
    {
     "name": "stdout",
     "output_type": "stream",
     "text": [
      "(4549, 4)\n"
     ]
    },
    {
     "data": {
      "text/html": [
       "<div>\n",
       "<table border=\"1\" class=\"dataframe\">\n",
       "  <thead>\n",
       "    <tr style=\"text-align: right;\">\n",
       "      <th></th>\n",
       "      <th>repetitive_element_dfam_class</th>\n",
       "      <th>repetitive_element_dfam_id</th>\n",
       "      <th>repetitive_element_dfam_superfamily</th>\n",
       "      <th>repetitive_element_dfam_type</th>\n",
       "    </tr>\n",
       "    <tr>\n",
       "      <th>event_id</th>\n",
       "      <th></th>\n",
       "      <th></th>\n",
       "      <th></th>\n",
       "      <th></th>\n",
       "    </tr>\n",
       "  </thead>\n",
       "  <tbody>\n",
       "    <tr>\n",
       "      <th>exon:chr10:103360960-103361093:+@exon:chr10:103364897-103364969:+@exon:chr10:103368592-103368694:+</th>\n",
       "      <td>Cut</td>\n",
       "      <td>MER91C</td>\n",
       "      <td>hAT-Tip100</td>\n",
       "      <td>DNA</td>\n",
       "    </tr>\n",
       "    <tr>\n",
       "      <th>exon:chr10:103360960-103361093:+@exon:chr10:103364897-103364969:+@exon:chr10:103368592-103368694:+@exon:chr10:103369124-103369425:+</th>\n",
       "      <td>Cut</td>\n",
       "      <td>MER91C</td>\n",
       "      <td>hAT-Tip100</td>\n",
       "      <td>DNA</td>\n",
       "    </tr>\n",
       "    <tr>\n",
       "      <th>exon:chr10:103360960-103361093:+@exon:chr10:103364897-103364969:+@exon:chr10:103368624-103368659:+</th>\n",
       "      <td>Cut</td>\n",
       "      <td>MER91C</td>\n",
       "      <td>hAT-Tip100</td>\n",
       "      <td>DNA</td>\n",
       "    </tr>\n",
       "    <tr>\n",
       "      <th>exon:chr10:103360960-103361093:+@exon:chr10:103364897-103364969:+@exon:chr10:103368624-103368694:+@exon:chr10:103369124-103369425:+</th>\n",
       "      <td>Cut</td>\n",
       "      <td>MER91C</td>\n",
       "      <td>hAT-Tip100</td>\n",
       "      <td>DNA</td>\n",
       "    </tr>\n",
       "    <tr>\n",
       "      <th>exon:chr10:103360960-103361093:+@exon:chr10:103364897-103364969:+@exon:chr10:103368624-103368801:+@exon:chr10:103369124-103369425:+</th>\n",
       "      <td>Cut</td>\n",
       "      <td>MER91C</td>\n",
       "      <td>hAT-Tip100</td>\n",
       "      <td>DNA</td>\n",
       "    </tr>\n",
       "  </tbody>\n",
       "</table>\n",
       "</div>"
      ],
      "text/plain": [
       "                                                                                                     repetitive_element_dfam_class  \\\n",
       "event_id                                                                                                                             \n",
       "exon:chr10:103360960-103361093:+@exon:chr10:103364897-103364969:+@exon:chr10:103368592-103368694:+                             Cut   \n",
       "exon:chr10:103360960-103361093:+@exon:chr10:103364897-103364969:+@exon:chr10:103368592-103368694:...                           Cut   \n",
       "exon:chr10:103360960-103361093:+@exon:chr10:103364897-103364969:+@exon:chr10:103368624-103368659:+                             Cut   \n",
       "exon:chr10:103360960-103361093:+@exon:chr10:103364897-103364969:+@exon:chr10:103368624-103368694:...                           Cut   \n",
       "exon:chr10:103360960-103361093:+@exon:chr10:103364897-103364969:+@exon:chr10:103368624-103368801:...                           Cut   \n",
       "\n",
       "                                                                                                     repetitive_element_dfam_id  \\\n",
       "event_id                                                                                                                          \n",
       "exon:chr10:103360960-103361093:+@exon:chr10:103364897-103364969:+@exon:chr10:103368592-103368694:+                       MER91C   \n",
       "exon:chr10:103360960-103361093:+@exon:chr10:103364897-103364969:+@exon:chr10:103368592-103368694:...                     MER91C   \n",
       "exon:chr10:103360960-103361093:+@exon:chr10:103364897-103364969:+@exon:chr10:103368624-103368659:+                       MER91C   \n",
       "exon:chr10:103360960-103361093:+@exon:chr10:103364897-103364969:+@exon:chr10:103368624-103368694:...                     MER91C   \n",
       "exon:chr10:103360960-103361093:+@exon:chr10:103364897-103364969:+@exon:chr10:103368624-103368801:...                     MER91C   \n",
       "\n",
       "                                                                                                     repetitive_element_dfam_superfamily  \\\n",
       "event_id                                                                                                                                   \n",
       "exon:chr10:103360960-103361093:+@exon:chr10:103364897-103364969:+@exon:chr10:103368592-103368694:+                            hAT-Tip100   \n",
       "exon:chr10:103360960-103361093:+@exon:chr10:103364897-103364969:+@exon:chr10:103368592-103368694:...                          hAT-Tip100   \n",
       "exon:chr10:103360960-103361093:+@exon:chr10:103364897-103364969:+@exon:chr10:103368624-103368659:+                            hAT-Tip100   \n",
       "exon:chr10:103360960-103361093:+@exon:chr10:103364897-103364969:+@exon:chr10:103368624-103368694:...                          hAT-Tip100   \n",
       "exon:chr10:103360960-103361093:+@exon:chr10:103364897-103364969:+@exon:chr10:103368624-103368801:...                          hAT-Tip100   \n",
       "\n",
       "                                                                                                     repetitive_element_dfam_type  \n",
       "event_id                                                                                                                           \n",
       "exon:chr10:103360960-103361093:+@exon:chr10:103364897-103364969:+@exon:chr10:103368592-103368694:+                            DNA  \n",
       "exon:chr10:103360960-103361093:+@exon:chr10:103364897-103364969:+@exon:chr10:103368592-103368694:...                          DNA  \n",
       "exon:chr10:103360960-103361093:+@exon:chr10:103364897-103364969:+@exon:chr10:103368624-103368659:+                            DNA  \n",
       "exon:chr10:103360960-103361093:+@exon:chr10:103364897-103364969:+@exon:chr10:103368624-103368694:...                          DNA  \n",
       "exon:chr10:103360960-103361093:+@exon:chr10:103364897-103364969:+@exon:chr10:103368624-103368801:...                          DNA  "
      ]
     },
     "execution_count": 38,
     "metadata": {},
     "output_type": "execute_result"
    }
   ],
   "source": [
    "alternative_repetitive = pd.read_csv('{}/{}'.format(alternative_feature_folder, csv), index_col=0)\n",
    "six.print_(alternative_repetitive.shape)\n",
    "alternative_repetitive.head()"
   ]
  },
  {
   "cell_type": "code",
   "execution_count": 39,
   "metadata": {
    "collapsed": false
   },
   "outputs": [
    {
     "name": "stdout",
     "output_type": "stream",
     "text": [
      "(15214, 7)\n"
     ]
    },
    {
     "data": {
      "text/html": [
       "<div>\n",
       "<table border=\"1\" class=\"dataframe\">\n",
       "  <thead>\n",
       "    <tr style=\"text-align: right;\">\n",
       "      <th></th>\n",
       "      <th>event_id</th>\n",
       "      <th>modality</th>\n",
       "      <th>phenotype</th>\n",
       "      <th>repetitive_element_dfam_class</th>\n",
       "      <th>repetitive_element_dfam_id</th>\n",
       "      <th>repetitive_element_dfam_superfamily</th>\n",
       "      <th>repetitive_element_dfam_type</th>\n",
       "    </tr>\n",
       "  </thead>\n",
       "  <tbody>\n",
       "    <tr>\n",
       "      <th>0</th>\n",
       "      <td>exon:chr10:102114184-102114389:+@exon:chr10:102116289-102116521:+@exon:chr10:102120491-102124591:+</td>\n",
       "      <td>included</td>\n",
       "      <td>MN</td>\n",
       "      <td>NaN</td>\n",
       "      <td>NaN</td>\n",
       "      <td>NaN</td>\n",
       "      <td>NaN</td>\n",
       "    </tr>\n",
       "    <tr>\n",
       "      <th>1</th>\n",
       "      <td>exon:chr10:102286732-102286831:-@exon:chr10:102286156-102286311:-@exon:chr10:102283497-102283686:-</td>\n",
       "      <td>included</td>\n",
       "      <td>MN</td>\n",
       "      <td>NaN</td>\n",
       "      <td>NaN</td>\n",
       "      <td>NaN</td>\n",
       "      <td>NaN</td>\n",
       "    </tr>\n",
       "    <tr>\n",
       "      <th>2</th>\n",
       "      <td>exon:chr10:103348089-103348157:+@exon:chr10:103354415-103354495:+@exon:chr10:103360495-103360619:+</td>\n",
       "      <td>included</td>\n",
       "      <td>MN</td>\n",
       "      <td>NaN</td>\n",
       "      <td>NaN</td>\n",
       "      <td>NaN</td>\n",
       "      <td>NaN</td>\n",
       "    </tr>\n",
       "    <tr>\n",
       "      <th>3</th>\n",
       "      <td>exon:chr10:103360960-103361093:+@exon:chr10:103364897-103364969:+@exon:chr10:103368592-103368694:+</td>\n",
       "      <td>bimodal</td>\n",
       "      <td>MN</td>\n",
       "      <td>Cut</td>\n",
       "      <td>MER91C</td>\n",
       "      <td>hAT-Tip100</td>\n",
       "      <td>DNA</td>\n",
       "    </tr>\n",
       "    <tr>\n",
       "      <th>4</th>\n",
       "      <td>exon:chr10:103360960-103361093:+@exon:chr10:103368592-103368694:+@exon:chr10:103369124-103369425:+</td>\n",
       "      <td>bimodal</td>\n",
       "      <td>MN</td>\n",
       "      <td>NaN</td>\n",
       "      <td>NaN</td>\n",
       "      <td>NaN</td>\n",
       "      <td>NaN</td>\n",
       "    </tr>\n",
       "  </tbody>\n",
       "</table>\n",
       "</div>"
      ],
      "text/plain": [
       "                                                                                             event_id  \\\n",
       "0  exon:chr10:102114184-102114389:+@exon:chr10:102116289-102116521:+@exon:chr10:102120491-102124591:+   \n",
       "1  exon:chr10:102286732-102286831:-@exon:chr10:102286156-102286311:-@exon:chr10:102283497-102283686:-   \n",
       "2  exon:chr10:103348089-103348157:+@exon:chr10:103354415-103354495:+@exon:chr10:103360495-103360619:+   \n",
       "3  exon:chr10:103360960-103361093:+@exon:chr10:103364897-103364969:+@exon:chr10:103368592-103368694:+   \n",
       "4  exon:chr10:103360960-103361093:+@exon:chr10:103368592-103368694:+@exon:chr10:103369124-103369425:+   \n",
       "\n",
       "   modality phenotype repetitive_element_dfam_class  \\\n",
       "0  included        MN                           NaN   \n",
       "1  included        MN                           NaN   \n",
       "2  included        MN                           NaN   \n",
       "3   bimodal        MN                           Cut   \n",
       "4   bimodal        MN                           NaN   \n",
       "\n",
       "  repetitive_element_dfam_id repetitive_element_dfam_superfamily  \\\n",
       "0                        NaN                                 NaN   \n",
       "1                        NaN                                 NaN   \n",
       "2                        NaN                                 NaN   \n",
       "3                     MER91C                          hAT-Tip100   \n",
       "4                        NaN                                 NaN   \n",
       "\n",
       "  repetitive_element_dfam_type  \n",
       "0                          NaN  \n",
       "1                          NaN  \n",
       "2                          NaN  \n",
       "3                          DNA  \n",
       "4                          NaN  "
      ]
     },
     "execution_count": 39,
     "metadata": {},
     "output_type": "execute_result"
    }
   ],
   "source": [
    "modalities_repetitive = study.supplemental.modalities_tidy.join(alternative_repetitive, on='event_id')\n",
    "modalities_repetitive = pd.concat([modalities_repetitive, constitutive_repetitive_modalities.rename(columns={'event_id': 'event_id'})])\n",
    "six.print_(modalities_repetitive.shape)\n",
    "modalities_repetitive.head()"
   ]
  },
  {
   "cell_type": "code",
   "execution_count": 40,
   "metadata": {
    "collapsed": false
   },
   "outputs": [
    {
     "data": {
      "text/plain": [
       "repetitive_element_dfam_superfamily\n",
       "5S-derived,MIR            1\n",
       "Alu                     331\n",
       "Alu,ERV1                  2\n",
       "Alu,Undefined             1\n",
       "Alu,hAT-Charlie           9\n",
       "CR1                      21\n",
       "ERV1                     11\n",
       "ERVK                      1\n",
       "ERVL                      7\n",
       "ERVL-MaLR                16\n",
       "ERVL-MaLR,MIR,U14         3\n",
       "Gypsy?                    3\n",
       "Helitron                  4\n",
       "L1                       11\n",
       "L2                        5\n",
       "L2,hAT-Charlie            2\n",
       "MIR                     126\n",
       "MIR,Alu                   7\n",
       "MIR,ERVL,hAT-Charlie      3\n",
       "MIR,L2                    1\n",
       "MIR,hAT-Charlie           1\n",
       "MIR,hAT-Charlie,Alu       3\n",
       "TcMar-Mariner             3\n",
       "TcMar-Tc2                 1\n",
       "TcMar-Tigger             26\n",
       "Undefined                 1\n",
       "hAT-Charlie              44\n",
       "hAT-Tip100                5\n",
       "tRNA                      5\n",
       "dtype: int64"
      ]
     },
     "execution_count": 40,
     "metadata": {},
     "output_type": "execute_result"
    }
   ],
   "source": [
    "modalities_repetitive.groupby('repetitive_element_dfam_superfamily').size()"
   ]
  },
  {
   "cell_type": "markdown",
   "metadata": {},
   "source": [
    "### Make new rows for when we see commas in the superfamily"
   ]
  },
  {
   "cell_type": "code",
   "execution_count": 41,
   "metadata": {
    "collapsed": false
   },
   "outputs": [
    {
     "data": {
      "text/plain": [
       "phenotype  modality      event_id                       \n",
       "NPC        constitutive  exon:chr5:137892463-137893185:-                     Alu\n",
       "                         exon:chr6:31500557-31503262:-                       Alu\n",
       "                         exon:chr7:134132050-134132813:-                     MIR\n",
       "                         exon:chr8:20070293-20074835:+       MIR,hAT-Charlie,Alu\n",
       "                         exon:chrX:51640891-51643392:+                   MIR,Alu\n",
       "MN         constitutive  exon:chr10:17277168-17278378:+                      MIR\n",
       "                         exon:chr11:57094177-57094988:-              hAT-Charlie\n",
       "                         exon:chr11:57095771-57097612:-        ERVL-MaLR,MIR,U14\n",
       "                         exon:chr14:24614588-24615449:-                      MIR\n",
       "                         exon:chr14:94521342-94524243:-     MIR,ERVL,hAT-Charlie\n",
       "                         exon:chr18:71922976-71928179:-                      Alu\n",
       "                         exon:chr19:1388832-1391049:+            Alu,hAT-Charlie\n",
       "                         exon:chr1:241667342-241667545:-                     MIR\n",
       "                         exon:chr1:40207567-40208969:+                       Alu\n",
       "                         exon:chr3:58416384-58417520:-                       Alu\n",
       "                         exon:chr5:137892463-137893185:-                     Alu\n",
       "                         exon:chr6:31500557-31503262:-                       Alu\n",
       "                         exon:chr7:134132050-134132813:-                     MIR\n",
       "                         exon:chr8:20070293-20074835:+       MIR,hAT-Charlie,Alu\n",
       "                         exon:chrX:51640891-51643392:+                   MIR,Alu\n",
       "Name: repetitive_element_dfam_superfamily, dtype: object"
      ]
     },
     "execution_count": 41,
     "metadata": {},
     "output_type": "execute_result"
    }
   ],
   "source": [
    "s = modalities_repetitive.set_index(['phenotype', 'modality', 'event_id'])['repetitive_element_dfam_superfamily'].dropna()\n",
    "# s = s.map(lambda x: x.split(','))\n",
    "s.tail(20)"
   ]
  },
  {
   "cell_type": "code",
   "execution_count": 42,
   "metadata": {
    "collapsed": false
   },
   "outputs": [
    {
     "data": {
      "text/plain": [
       "(MN, constitutive, exon:chr11:57095771-57097612:-)             MIR\n",
       "(MN, constitutive, exon:chr11:57095771-57097612:-)             U14\n",
       "(MN, constitutive, exon:chr14:24614588-24615449:-)             MIR\n",
       "(MN, constitutive, exon:chr14:94521342-94524243:-)             MIR\n",
       "(MN, constitutive, exon:chr14:94521342-94524243:-)            ERVL\n",
       "(MN, constitutive, exon:chr14:94521342-94524243:-)     hAT-Charlie\n",
       "(MN, constitutive, exon:chr18:71922976-71928179:-)             Alu\n",
       "(MN, constitutive, exon:chr19:1388832-1391049:+)               Alu\n",
       "(MN, constitutive, exon:chr19:1388832-1391049:+)       hAT-Charlie\n",
       "(MN, constitutive, exon:chr1:241667342-241667545:-)            MIR\n",
       "(MN, constitutive, exon:chr1:40207567-40208969:+)              Alu\n",
       "(MN, constitutive, exon:chr3:58416384-58417520:-)              Alu\n",
       "(MN, constitutive, exon:chr5:137892463-137893185:-)            Alu\n",
       "(MN, constitutive, exon:chr6:31500557-31503262:-)              Alu\n",
       "(MN, constitutive, exon:chr7:134132050-134132813:-)            MIR\n",
       "(MN, constitutive, exon:chr8:20070293-20074835:+)              MIR\n",
       "(MN, constitutive, exon:chr8:20070293-20074835:+)      hAT-Charlie\n",
       "(MN, constitutive, exon:chr8:20070293-20074835:+)              Alu\n",
       "(MN, constitutive, exon:chrX:51640891-51643392:+)              MIR\n",
       "(MN, constitutive, exon:chrX:51640891-51643392:+)              Alu\n",
       "dtype: object"
      ]
     },
     "execution_count": 42,
     "metadata": {},
     "output_type": "execute_result"
    }
   ],
   "source": [
    "s = pd.concat([pd.Series(x.split(','), index=[i]*len(x.split(','))) for i, x in s.iteritems()])\n",
    "s.tail(20)"
   ]
  },
  {
   "cell_type": "code",
   "execution_count": 43,
   "metadata": {
    "collapsed": false
   },
   "outputs": [
    {
     "data": {
      "text/plain": [
       "MN  constitutive  exon:chr11:57095771-57097612:-             MIR\n",
       "                  exon:chr11:57095771-57097612:-             U14\n",
       "                  exon:chr14:24614588-24615449:-             MIR\n",
       "                  exon:chr14:94521342-94524243:-             MIR\n",
       "                  exon:chr14:94521342-94524243:-            ERVL\n",
       "                  exon:chr14:94521342-94524243:-     hAT-Charlie\n",
       "                  exon:chr18:71922976-71928179:-             Alu\n",
       "                  exon:chr19:1388832-1391049:+               Alu\n",
       "                  exon:chr19:1388832-1391049:+       hAT-Charlie\n",
       "                  exon:chr1:241667342-241667545:-            MIR\n",
       "                  exon:chr1:40207567-40208969:+              Alu\n",
       "                  exon:chr3:58416384-58417520:-              Alu\n",
       "                  exon:chr5:137892463-137893185:-            Alu\n",
       "                  exon:chr6:31500557-31503262:-              Alu\n",
       "                  exon:chr7:134132050-134132813:-            MIR\n",
       "                  exon:chr8:20070293-20074835:+              MIR\n",
       "                  exon:chr8:20070293-20074835:+      hAT-Charlie\n",
       "                  exon:chr8:20070293-20074835:+              Alu\n",
       "                  exon:chrX:51640891-51643392:+              MIR\n",
       "                  exon:chrX:51640891-51643392:+              Alu\n",
       "dtype: object"
      ]
     },
     "execution_count": 43,
     "metadata": {},
     "output_type": "execute_result"
    }
   ],
   "source": [
    "s.index = pd.MultiIndex.from_tuples(s.index)\n",
    "s.tail(20)"
   ]
  },
  {
   "cell_type": "code",
   "execution_count": 44,
   "metadata": {
    "collapsed": false
   },
   "outputs": [
    {
     "data": {
      "text/html": [
       "<div>\n",
       "<table border=\"1\" class=\"dataframe\">\n",
       "  <thead>\n",
       "    <tr style=\"text-align: right;\">\n",
       "      <th></th>\n",
       "      <th>phenotype</th>\n",
       "      <th>modality</th>\n",
       "      <th>event_id</th>\n",
       "      <th>repetitive_element_dfam_superfamily</th>\n",
       "    </tr>\n",
       "  </thead>\n",
       "  <tbody>\n",
       "    <tr>\n",
       "      <th>0</th>\n",
       "      <td>MN</td>\n",
       "      <td>bimodal</td>\n",
       "      <td>exon:chr10:103360960-103361093:+@exon:chr10:103364897-103364969:+@exon:chr10:103368592-103368694:+</td>\n",
       "      <td>hAT-Tip100</td>\n",
       "    </tr>\n",
       "    <tr>\n",
       "      <th>1</th>\n",
       "      <td>MN</td>\n",
       "      <td>excluded</td>\n",
       "      <td>exon:chr10:105158173-105158285:+@exon:chr10:105159404-105159587:+@exon:chr10:105160154-105160285:+</td>\n",
       "      <td>Alu</td>\n",
       "    </tr>\n",
       "    <tr>\n",
       "      <th>2</th>\n",
       "      <td>MN</td>\n",
       "      <td>excluded</td>\n",
       "      <td>exon:chr10:126107442-126107505:-@exon:chr10:126102915-126103001:-@exon:chr10:126100542-126100769:-</td>\n",
       "      <td>hAT-Charlie</td>\n",
       "    </tr>\n",
       "    <tr>\n",
       "      <th>3</th>\n",
       "      <td>MN</td>\n",
       "      <td>excluded</td>\n",
       "      <td>exon:chr10:27815757-27815818:+@exon:chr10:27820458-27820544:+@exon:chr10:27821436-27821508:+</td>\n",
       "      <td>hAT-Charlie</td>\n",
       "    </tr>\n",
       "    <tr>\n",
       "      <th>4</th>\n",
       "      <td>MN</td>\n",
       "      <td>excluded</td>\n",
       "      <td>exon:chr10:76973779-76973828:+@exon:chr10:76977691-76977749:+@exon:chr10:76978821-76978973:+</td>\n",
       "      <td>Alu</td>\n",
       "    </tr>\n",
       "  </tbody>\n",
       "</table>\n",
       "</div>"
      ],
      "text/plain": [
       "  phenotype  modality  \\\n",
       "0        MN   bimodal   \n",
       "1        MN  excluded   \n",
       "2        MN  excluded   \n",
       "3        MN  excluded   \n",
       "4        MN  excluded   \n",
       "\n",
       "                                                                                             event_id  \\\n",
       "0  exon:chr10:103360960-103361093:+@exon:chr10:103364897-103364969:+@exon:chr10:103368592-103368694:+   \n",
       "1  exon:chr10:105158173-105158285:+@exon:chr10:105159404-105159587:+@exon:chr10:105160154-105160285:+   \n",
       "2  exon:chr10:126107442-126107505:-@exon:chr10:126102915-126103001:-@exon:chr10:126100542-126100769:-   \n",
       "3        exon:chr10:27815757-27815818:+@exon:chr10:27820458-27820544:+@exon:chr10:27821436-27821508:+   \n",
       "4        exon:chr10:76973779-76973828:+@exon:chr10:76977691-76977749:+@exon:chr10:76978821-76978973:+   \n",
       "\n",
       "  repetitive_element_dfam_superfamily  \n",
       "0                          hAT-Tip100  \n",
       "1                                 Alu  \n",
       "2                         hAT-Charlie  \n",
       "3                         hAT-Charlie  \n",
       "4                                 Alu  "
      ]
     },
     "execution_count": 44,
     "metadata": {},
     "output_type": "execute_result"
    }
   ],
   "source": [
    "modalities_repetitive_no_commas = s.reset_index()\n",
    "modalities_repetitive_no_commas = modalities_repetitive_no_commas.rename(\n",
    "    columns={'level_0': 'phenotype', 'level_1': 'modality', 'level_2':'event_id', 0:'repetitive_element_dfam_superfamily'})\n",
    "modalities_repetitive_no_commas.head()"
   ]
  },
  {
   "cell_type": "code",
   "execution_count": 45,
   "metadata": {
    "collapsed": false
   },
   "outputs": [
    {
     "data": {
      "text/html": [
       "<div>\n",
       "<table border=\"1\" class=\"dataframe\">\n",
       "  <thead>\n",
       "    <tr style=\"text-align: right;\">\n",
       "      <th></th>\n",
       "      <th>phenotype</th>\n",
       "      <th>modality</th>\n",
       "      <th>repetitive_element_dfam_superfamily</th>\n",
       "      <th># AS Exons</th>\n",
       "    </tr>\n",
       "  </thead>\n",
       "  <tbody>\n",
       "    <tr>\n",
       "      <th>0</th>\n",
       "      <td>MN</td>\n",
       "      <td>bimodal</td>\n",
       "      <td>Alu</td>\n",
       "      <td>5</td>\n",
       "    </tr>\n",
       "    <tr>\n",
       "      <th>1</th>\n",
       "      <td>MN</td>\n",
       "      <td>bimodal</td>\n",
       "      <td>CR1</td>\n",
       "      <td>1</td>\n",
       "    </tr>\n",
       "    <tr>\n",
       "      <th>2</th>\n",
       "      <td>MN</td>\n",
       "      <td>bimodal</td>\n",
       "      <td>Gypsy?</td>\n",
       "      <td>1</td>\n",
       "    </tr>\n",
       "    <tr>\n",
       "      <th>3</th>\n",
       "      <td>MN</td>\n",
       "      <td>bimodal</td>\n",
       "      <td>MIR</td>\n",
       "      <td>4</td>\n",
       "    </tr>\n",
       "    <tr>\n",
       "      <th>4</th>\n",
       "      <td>MN</td>\n",
       "      <td>bimodal</td>\n",
       "      <td>TcMar-Tigger</td>\n",
       "      <td>1</td>\n",
       "    </tr>\n",
       "  </tbody>\n",
       "</table>\n",
       "</div>"
      ],
      "text/plain": [
       "  phenotype modality repetitive_element_dfam_superfamily  # AS Exons\n",
       "0        MN  bimodal                                 Alu           5\n",
       "1        MN  bimodal                                 CR1           1\n",
       "2        MN  bimodal                              Gypsy?           1\n",
       "3        MN  bimodal                                 MIR           4\n",
       "4        MN  bimodal                        TcMar-Tigger           1"
      ]
     },
     "execution_count": 45,
     "metadata": {},
     "output_type": "execute_result"
    }
   ],
   "source": [
    "col = 'repetitive_element_dfam_superfamily'\n",
    "modalities_repetitive_counts = modalities_repetitive_no_commas.groupby(['phenotype', 'modality', col])['event_id'].count()\n",
    "modalities_repetitive_counts = modalities_repetitive_counts.reset_index()\n",
    "modalities_repetitive_counts = modalities_repetitive_counts.rename(columns={'event_id':'# AS Exons'})\n",
    "modalities_repetitive_counts.head()"
   ]
  },
  {
   "cell_type": "code",
   "execution_count": 46,
   "metadata": {
    "collapsed": false
   },
   "outputs": [
    {
     "data": {
      "text/html": [
       "<div>\n",
       "<table border=\"1\" class=\"dataframe\">\n",
       "  <thead>\n",
       "    <tr style=\"text-align: right;\">\n",
       "      <th></th>\n",
       "      <th>phenotype</th>\n",
       "      <th>modality</th>\n",
       "      <th>repetitive_element_dfam_superfamily</th>\n",
       "      <th># AS Exons</th>\n",
       "      <th>% AS Exons</th>\n",
       "    </tr>\n",
       "  </thead>\n",
       "  <tbody>\n",
       "    <tr>\n",
       "      <th>0</th>\n",
       "      <td>MN</td>\n",
       "      <td>bimodal</td>\n",
       "      <td>Alu</td>\n",
       "      <td>5</td>\n",
       "      <td>35.714286</td>\n",
       "    </tr>\n",
       "    <tr>\n",
       "      <th>1</th>\n",
       "      <td>MN</td>\n",
       "      <td>bimodal</td>\n",
       "      <td>CR1</td>\n",
       "      <td>1</td>\n",
       "      <td>7.142857</td>\n",
       "    </tr>\n",
       "    <tr>\n",
       "      <th>2</th>\n",
       "      <td>MN</td>\n",
       "      <td>bimodal</td>\n",
       "      <td>Gypsy?</td>\n",
       "      <td>1</td>\n",
       "      <td>7.142857</td>\n",
       "    </tr>\n",
       "    <tr>\n",
       "      <th>3</th>\n",
       "      <td>MN</td>\n",
       "      <td>bimodal</td>\n",
       "      <td>MIR</td>\n",
       "      <td>4</td>\n",
       "      <td>28.571429</td>\n",
       "    </tr>\n",
       "    <tr>\n",
       "      <th>4</th>\n",
       "      <td>MN</td>\n",
       "      <td>bimodal</td>\n",
       "      <td>TcMar-Tigger</td>\n",
       "      <td>1</td>\n",
       "      <td>7.142857</td>\n",
       "    </tr>\n",
       "  </tbody>\n",
       "</table>\n",
       "</div>"
      ],
      "text/plain": [
       "  phenotype modality repetitive_element_dfam_superfamily  # AS Exons  \\\n",
       "0        MN  bimodal                                 Alu           5   \n",
       "1        MN  bimodal                                 CR1           1   \n",
       "2        MN  bimodal                              Gypsy?           1   \n",
       "3        MN  bimodal                                 MIR           4   \n",
       "4        MN  bimodal                        TcMar-Tigger           1   \n",
       "\n",
       "   % AS Exons  \n",
       "0   35.714286  \n",
       "1    7.142857  \n",
       "2    7.142857  \n",
       "3   28.571429  \n",
       "4    7.142857  "
      ]
     },
     "execution_count": 46,
     "metadata": {},
     "output_type": "execute_result"
    }
   ],
   "source": [
    "modalities_repetitive_counts['% AS Exons'] = 100 * modalities_repetitive_counts.groupby(\n",
    "    ['phenotype', 'modality'])['# AS Exons'].apply(lambda x: x/x.sum())\n",
    "modalities_repetitive_counts.head()"
   ]
  },
  {
   "cell_type": "markdown",
   "metadata": {},
   "source": [
    "### This gets the mean number of repetitive elements per exon per category .. not quite what we want"
   ]
  },
  {
   "cell_type": "code",
   "execution_count": 47,
   "metadata": {
    "collapsed": false
   },
   "outputs": [
    {
     "data": {
      "image/png": "[encoded data removed]",
      "text/plain": [
       "<matplotlib.figure.Figure at 0x2ae2a533c390>"
      ]
     },
     "metadata": {},
     "output_type": "display_data"
    }
   ],
   "source": [
    "fig, ax = plt.subplots(figsize=(2, 1.5))\n",
    "sns.barplot(x='phenotype', hue='modality', y='# AS Exons',\n",
    "               data=modalities_repetitive_counts, hue_order=modality_order, \n",
    "               palette=modality_palette, order=study.phenotype_order, ci=None)\n",
    "ax.legend_.set_visible(False)\n",
    "ax.locator_params('y', nbins=4)\n",
    "ax.set(ylabel='# AS Exons')\n",
    "sns.despine()"
   ]
  },
  {
   "cell_type": "code",
   "execution_count": 48,
   "metadata": {
    "collapsed": false
   },
   "outputs": [
    {
     "name": "stdout",
     "output_type": "stream",
     "text": [
      "modalities_repetitive_counts.shape (100, 5)\n",
      "modalities_repetitive_counts_at_least_one.shape (57, 5)\n"
     ]
    },
    {
     "data": {
      "text/html": [
       "<div>\n",
       "<table border=\"1\" class=\"dataframe\">\n",
       "  <thead>\n",
       "    <tr style=\"text-align: right;\">\n",
       "      <th></th>\n",
       "      <th>phenotype</th>\n",
       "      <th>modality</th>\n",
       "      <th>repetitive_element_dfam_superfamily</th>\n",
       "      <th># AS Exons</th>\n",
       "      <th>% AS Exons</th>\n",
       "    </tr>\n",
       "  </thead>\n",
       "  <tbody>\n",
       "    <tr>\n",
       "      <th>0</th>\n",
       "      <td>MN</td>\n",
       "      <td>bimodal</td>\n",
       "      <td>Alu</td>\n",
       "      <td>5</td>\n",
       "      <td>35.714286</td>\n",
       "    </tr>\n",
       "    <tr>\n",
       "      <th>3</th>\n",
       "      <td>MN</td>\n",
       "      <td>bimodal</td>\n",
       "      <td>MIR</td>\n",
       "      <td>4</td>\n",
       "      <td>28.571429</td>\n",
       "    </tr>\n",
       "    <tr>\n",
       "      <th>7</th>\n",
       "      <td>MN</td>\n",
       "      <td>constitutive</td>\n",
       "      <td>Alu</td>\n",
       "      <td>8</td>\n",
       "      <td>34.782609</td>\n",
       "    </tr>\n",
       "    <tr>\n",
       "      <th>10</th>\n",
       "      <td>MN</td>\n",
       "      <td>constitutive</td>\n",
       "      <td>MIR</td>\n",
       "      <td>8</td>\n",
       "      <td>34.782609</td>\n",
       "    </tr>\n",
       "    <tr>\n",
       "      <th>12</th>\n",
       "      <td>MN</td>\n",
       "      <td>constitutive</td>\n",
       "      <td>hAT-Charlie</td>\n",
       "      <td>4</td>\n",
       "      <td>17.391304</td>\n",
       "    </tr>\n",
       "  </tbody>\n",
       "</table>\n",
       "</div>"
      ],
      "text/plain": [
       "   phenotype      modality repetitive_element_dfam_superfamily  # AS Exons  \\\n",
       "0         MN       bimodal                                 Alu           5   \n",
       "3         MN       bimodal                                 MIR           4   \n",
       "7         MN  constitutive                                 Alu           8   \n",
       "10        MN  constitutive                                 MIR           8   \n",
       "12        MN  constitutive                         hAT-Charlie           4   \n",
       "\n",
       "    % AS Exons  \n",
       "0    35.714286  \n",
       "3    28.571429  \n",
       "7    34.782609  \n",
       "10   34.782609  \n",
       "12   17.391304  "
      ]
     },
     "execution_count": 48,
     "metadata": {},
     "output_type": "execute_result"
    }
   ],
   "source": [
    "modalities_repetitive_counts_at_least_one = modalities_repetitive_counts.loc[modalities_repetitive_counts['# AS Exons'] > 1]\n",
    "six.print_('modalities_repetitive_counts.shape', modalities_repetitive_counts.shape)\n",
    "six.print_('modalities_repetitive_counts_at_least_one.shape', modalities_repetitive_counts_at_least_one.shape)\n",
    "modalities_repetitive_counts_at_least_one.head()"
   ]
  },
  {
   "cell_type": "code",
   "execution_count": 49,
   "metadata": {
    "collapsed": false
   },
   "outputs": [
    {
     "data": {
      "text/plain": [
       "# AS Exons\n",
       "1      43\n",
       "2       9\n",
       "3       9\n",
       "4      13\n",
       "5       3\n",
       "6       2\n",
       "7       2\n",
       "8       7\n",
       "9       1\n",
       "11      3\n",
       "18      1\n",
       "19      1\n",
       "20      1\n",
       "25      1\n",
       "45      2\n",
       "104     1\n",
       "141     1\n",
       "dtype: int64"
      ]
     },
     "execution_count": 49,
     "metadata": {},
     "output_type": "execute_result"
    }
   ],
   "source": [
    "modalities_repetitive_counts.groupby('# AS Exons').size()"
   ]
  },
  {
   "cell_type": "code",
   "execution_count": 50,
   "metadata": {
    "collapsed": false
   },
   "outputs": [
    {
     "data": {
      "image/png": "[encoded data removed]",
      "text/plain": [
       "<matplotlib.figure.Figure at 0x2ae29f7a21d0>"
      ]
     },
     "metadata": {},
     "output_type": "display_data"
    }
   ],
   "source": [
    "# fig, ax = plt.subplots(figsize=(2, 1.5))\n",
    "g = sns.factorplot(x='modality', hue='repetitive_element_dfam_superfamily', y='# AS Exons',\n",
    "               data=modalities_repetitive_counts_at_least_one, order=modality_order, \n",
    "#                palette=modality_palette, \n",
    "            col='phenotype', kind='bar', size=1.5, aspect=1.6,\n",
    "            col_order=study.phenotype_order, ci=None)\n",
    "# ax.legend_.set_visible(False)\n",
    "# ax.locator_params('y', nbins=4)\n",
    "# ax.set(ylabel='# AS Exons')\n",
    "g.set(yticks=(0, 50, 100, 150))\n",
    "sns.despine()\n",
    "g.savefig('{}/repetitive_element_superfamily_per_modality_at_least_one.pdf'.format(figure_folder))"
   ]
  },
  {
   "cell_type": "markdown",
   "metadata": {},
   "source": [
    "### Get total number of exons with repetitive elements"
   ]
  },
  {
   "cell_type": "code",
   "execution_count": 51,
   "metadata": {
    "collapsed": false
   },
   "outputs": [
    {
     "data": {
      "text/html": [
       "<div>\n",
       "<table border=\"1\" class=\"dataframe\">\n",
       "  <thead>\n",
       "    <tr style=\"text-align: right;\">\n",
       "      <th></th>\n",
       "      <th>phenotype</th>\n",
       "      <th>modality</th>\n",
       "      <th>event_id</th>\n",
       "      <th>repetitive_element_dfam_superfamily</th>\n",
       "    </tr>\n",
       "  </thead>\n",
       "  <tbody>\n",
       "    <tr>\n",
       "      <th>0</th>\n",
       "      <td>MN</td>\n",
       "      <td>bimodal</td>\n",
       "      <td>exon:chr10:103360960-103361093:+@exon:chr10:103364897-103364969:+@exon:chr10:103368592-103368694:+</td>\n",
       "      <td>hAT-Tip100</td>\n",
       "    </tr>\n",
       "    <tr>\n",
       "      <th>1</th>\n",
       "      <td>MN</td>\n",
       "      <td>excluded</td>\n",
       "      <td>exon:chr10:105158173-105158285:+@exon:chr10:105159404-105159587:+@exon:chr10:105160154-105160285:+</td>\n",
       "      <td>Alu</td>\n",
       "    </tr>\n",
       "    <tr>\n",
       "      <th>2</th>\n",
       "      <td>MN</td>\n",
       "      <td>excluded</td>\n",
       "      <td>exon:chr10:126107442-126107505:-@exon:chr10:126102915-126103001:-@exon:chr10:126100542-126100769:-</td>\n",
       "      <td>hAT-Charlie</td>\n",
       "    </tr>\n",
       "    <tr>\n",
       "      <th>3</th>\n",
       "      <td>MN</td>\n",
       "      <td>excluded</td>\n",
       "      <td>exon:chr10:27815757-27815818:+@exon:chr10:27820458-27820544:+@exon:chr10:27821436-27821508:+</td>\n",
       "      <td>hAT-Charlie</td>\n",
       "    </tr>\n",
       "    <tr>\n",
       "      <th>4</th>\n",
       "      <td>MN</td>\n",
       "      <td>excluded</td>\n",
       "      <td>exon:chr10:76973779-76973828:+@exon:chr10:76977691-76977749:+@exon:chr10:76978821-76978973:+</td>\n",
       "      <td>Alu</td>\n",
       "    </tr>\n",
       "  </tbody>\n",
       "</table>\n",
       "</div>"
      ],
      "text/plain": [
       "  phenotype  modality  \\\n",
       "0        MN   bimodal   \n",
       "1        MN  excluded   \n",
       "2        MN  excluded   \n",
       "3        MN  excluded   \n",
       "4        MN  excluded   \n",
       "\n",
       "                                                                                             event_id  \\\n",
       "0  exon:chr10:103360960-103361093:+@exon:chr10:103364897-103364969:+@exon:chr10:103368592-103368694:+   \n",
       "1  exon:chr10:105158173-105158285:+@exon:chr10:105159404-105159587:+@exon:chr10:105160154-105160285:+   \n",
       "2  exon:chr10:126107442-126107505:-@exon:chr10:126102915-126103001:-@exon:chr10:126100542-126100769:-   \n",
       "3        exon:chr10:27815757-27815818:+@exon:chr10:27820458-27820544:+@exon:chr10:27821436-27821508:+   \n",
       "4        exon:chr10:76973779-76973828:+@exon:chr10:76977691-76977749:+@exon:chr10:76978821-76978973:+   \n",
       "\n",
       "  repetitive_element_dfam_superfamily  \n",
       "0                          hAT-Tip100  \n",
       "1                                 Alu  \n",
       "2                         hAT-Charlie  \n",
       "3                         hAT-Charlie  \n",
       "4                                 Alu  "
      ]
     },
     "execution_count": 51,
     "metadata": {},
     "output_type": "execute_result"
    }
   ],
   "source": [
    "modalities_repetitive_no_commas.head()"
   ]
  },
  {
   "cell_type": "code",
   "execution_count": 52,
   "metadata": {
    "collapsed": false
   },
   "outputs": [
    {
     "data": {
      "text/html": [
       "<div>\n",
       "<table border=\"1\" class=\"dataframe\">\n",
       "  <thead>\n",
       "    <tr style=\"text-align: right;\">\n",
       "      <th></th>\n",
       "      <th>phenotype</th>\n",
       "      <th>modality</th>\n",
       "      <th># AS Exons</th>\n",
       "    </tr>\n",
       "  </thead>\n",
       "  <tbody>\n",
       "    <tr>\n",
       "      <th>0</th>\n",
       "      <td>MN</td>\n",
       "      <td>bimodal</td>\n",
       "      <td>14</td>\n",
       "    </tr>\n",
       "    <tr>\n",
       "      <th>1</th>\n",
       "      <td>MN</td>\n",
       "      <td>constitutive</td>\n",
       "      <td>15</td>\n",
       "    </tr>\n",
       "    <tr>\n",
       "      <th>2</th>\n",
       "      <td>MN</td>\n",
       "      <td>excluded</td>\n",
       "      <td>72</td>\n",
       "    </tr>\n",
       "    <tr>\n",
       "      <th>3</th>\n",
       "      <td>MN</td>\n",
       "      <td>included</td>\n",
       "      <td>8</td>\n",
       "    </tr>\n",
       "    <tr>\n",
       "      <th>4</th>\n",
       "      <td>NPC</td>\n",
       "      <td>bimodal</td>\n",
       "      <td>22</td>\n",
       "    </tr>\n",
       "  </tbody>\n",
       "</table>\n",
       "</div>"
      ],
      "text/plain": [
       "  phenotype      modality  # AS Exons\n",
       "0        MN       bimodal          14\n",
       "1        MN  constitutive          15\n",
       "2        MN      excluded          72\n",
       "3        MN      included           8\n",
       "4       NPC       bimodal          22"
      ]
     },
     "execution_count": 52,
     "metadata": {},
     "output_type": "execute_result"
    }
   ],
   "source": [
    "modalities_repetitive_counts_total = modalities_repetitive_no_commas.groupby(\n",
    "    ['phenotype', 'modality'])['event_id'].apply(lambda x: len(x.unique()))\n",
    "modalities_repetitive_counts_total = modalities_repetitive_counts_total.reset_index()\n",
    "modalities_repetitive_counts_total = modalities_repetitive_counts_total.rename(columns={'event_id': '# AS Exons'})\n",
    "modalities_repetitive_counts_total.head()"
   ]
  },
  {
   "cell_type": "code",
   "execution_count": 53,
   "metadata": {
    "collapsed": false
   },
   "outputs": [
    {
     "data": {
      "image/png": "[encoded data removed]",
      "text/plain": [
       "<matplotlib.figure.Figure at 0x2ae2bf60be90>"
      ]
     },
     "metadata": {},
     "output_type": "display_data"
    }
   ],
   "source": [
    "fig, ax = plt.subplots(figsize=(2, 1.5))\n",
    "sns.barplot(x='phenotype', hue='modality', y='# AS Exons',\n",
    "               data=modalities_repetitive_counts_total, hue_order=modality_order, \n",
    "               palette=modality_palette, order=study.phenotype_order, ci=None)\n",
    "ax.legend_.set_visible(False)\n",
    "ax.locator_params('y', nbins=4)\n",
    "ax.set(ylabel='# AS Exons')\n",
    "sns.despine()\n",
    "fig.tight_layout()\n",
    "fig.savefig('{}/repetitive_element_n_exons_with_repetitive_elements_per_modality.pdf'.format(figure_folder))"
   ]
  },
  {
   "cell_type": "markdown",
   "metadata": {},
   "source": [
    "### Statistical Enrichment - hypergeometric test vs all exons in that modality"
   ]
  },
  {
   "cell_type": "code",
   "execution_count": 54,
   "metadata": {
    "collapsed": false
   },
   "outputs": [
    {
     "name": "stdout",
     "output_type": "stream",
     "text": [
      "MN\n",
      "\t ambivalent\n",
      "\t\t 0.0417464572958\n",
      "\t bimodal\n",
      "\t\t 0.679306010151\n",
      "\t constitutive\n",
      "\t\t 0.0\n",
      "\t excluded\n",
      "\t\t 2.83063338205e-25\n",
      "\t included\n",
      "\t\t 0.999999999998\n",
      "NPC\n",
      "\t ambivalent\n",
      "\t\t 0.085678820323\n",
      "\t bimodal\n",
      "\t\t 0.993180724251\n",
      "\t constitutive\n",
      "\t\t 0.0\n",
      "\t excluded\n",
      "\t\t 4.00068649407e-71\n",
      "\t included\n",
      "\t\t 0.999999999999\n",
      "iPSC\n",
      "\t ambivalent\n",
      "\t\t 0.765340430767\n",
      "\t bimodal\n",
      "\t\t 0.841175248637\n",
      "\t concurrent\n",
      "\t\t 0.0428870292893\n",
      "\t constitutive\n",
      "\t\t 0.0\n",
      "\t excluded\n",
      "\t\t 1.6426343735e-99\n",
      "\t included\n",
      "\t\t 1.0\n"
     ]
    }
   ],
   "source": [
    "from scipy.stats import hypergeom\n",
    "\n",
    "col = 'repetitive_element_dfam_superfamily'\n",
    "\n",
    "for phenotype, phenotype_df in modalities_repetitive.groupby(['phenotype']):\n",
    "    six.print_(phenotype)\n",
    "    M = phenotype_df.shape[0]\n",
    "    n = phenotype_df[col].count()\n",
    "    for modality, modality_df in phenotype_df.groupby('modality'):\n",
    "        six.print_('\\t', modality)\n",
    "        N = modality_df.shape[0]\n",
    "        x = modality_df[col].count()\n",
    "        result = hypergeom.sf(x, M, n, N)\n",
    "        six.print_('\\t\\t', result)"
   ]
  },
  {
   "cell_type": "markdown",
   "metadata": {},
   "source": [
    "## Ancient alternative splicing"
   ]
  },
  {
   "cell_type": "code",
   "execution_count": 55,
   "metadata": {
    "collapsed": true
   },
   "outputs": [],
   "source": [
    "prefix = 'exon2_merkin2012_ancient'\n",
    "csv = '{}.csv'.format(prefix)"
   ]
  },
  {
   "cell_type": "code",
   "execution_count": 56,
   "metadata": {
    "collapsed": true
   },
   "outputs": [],
   "source": [
    "col = 'Ancient Alt Splicing'"
   ]
  },
  {
   "cell_type": "code",
   "execution_count": 57,
   "metadata": {
    "collapsed": false
   },
   "outputs": [
    {
     "name": "stdout",
     "output_type": "stream",
     "text": [
      "(46193,)\n"
     ]
    },
    {
     "data": {
      "text/plain": [
       "0\n",
       "exon:chr10:100190328-100190427:-@exon:chr10:100189548-100189646:-@exon:chr10:100189330-100189399:-    False\n",
       "exon:chr10:100193697-100193848:-@exon:chr10:100190888-100191048:-@exon:chr10:100190328-100190427:-    False\n",
       "exon:chr10:100195392-100195529:-@exon:chr10:100195029-100195171:-@exon:chr10:100193697-100193848:-    False\n",
       "exon:chr10:101165513-101165617:-@exon:chr10:101163481-101163631:-@exon:chr10:101163226-101163391:-    False\n",
       "exon:chr10:101419263-101419345:+@exon:chr10:101419619-101419721:+@exon:chr10:101421203-101421385:+    False\n",
       "Name: Ancient Alt Splicing, dtype: bool"
      ]
     },
     "execution_count": 57,
     "metadata": {},
     "output_type": "execute_result"
    }
   ],
   "source": [
    "alternative_merkin2012 = pd.read_csv('{}/{}'.format(alternative_feature_folder, csv), index_col=0, squeeze=True, header=None)\n",
    "six.print_(alternative_merkin2012.shape)\n",
    "alternative_merkin2012.name = col\n",
    "alternative_merkin2012.head()"
   ]
  },
  {
   "cell_type": "markdown",
   "metadata": {},
   "source": [
    "No constitutive exons overlapped with any of the ancient Merkin2012 exons so we're ignoring constitutive for now."
   ]
  },
  {
   "cell_type": "code",
   "execution_count": 58,
   "metadata": {
    "collapsed": false
   },
   "outputs": [
    {
     "name": "stdout",
     "output_type": "stream",
     "text": [
      "(15169, 4)\n"
     ]
    },
    {
     "data": {
      "text/html": [
       "<div>\n",
       "<table border=\"1\" class=\"dataframe\">\n",
       "  <thead>\n",
       "    <tr style=\"text-align: right;\">\n",
       "      <th></th>\n",
       "      <th>phenotype</th>\n",
       "      <th>event_id</th>\n",
       "      <th>modality</th>\n",
       "      <th>Ancient Alt Splicing</th>\n",
       "    </tr>\n",
       "  </thead>\n",
       "  <tbody>\n",
       "    <tr>\n",
       "      <th>0</th>\n",
       "      <td>MN</td>\n",
       "      <td>exon:chr10:102114184-102114389:+@exon:chr10:102116289-102116521:+@exon:chr10:102120491-102124591:+</td>\n",
       "      <td>included</td>\n",
       "      <td>False</td>\n",
       "    </tr>\n",
       "    <tr>\n",
       "      <th>1</th>\n",
       "      <td>MN</td>\n",
       "      <td>exon:chr10:102286732-102286831:-@exon:chr10:102286156-102286311:-@exon:chr10:102283497-102283686:-</td>\n",
       "      <td>included</td>\n",
       "      <td>NaN</td>\n",
       "    </tr>\n",
       "    <tr>\n",
       "      <th>2</th>\n",
       "      <td>MN</td>\n",
       "      <td>exon:chr10:103348089-103348157:+@exon:chr10:103354415-103354495:+@exon:chr10:103360495-103360619:+</td>\n",
       "      <td>included</td>\n",
       "      <td>NaN</td>\n",
       "    </tr>\n",
       "    <tr>\n",
       "      <th>3</th>\n",
       "      <td>MN</td>\n",
       "      <td>exon:chr10:103360960-103361093:+@exon:chr10:103364897-103364969:+@exon:chr10:103368592-103368694:+</td>\n",
       "      <td>bimodal</td>\n",
       "      <td>False</td>\n",
       "    </tr>\n",
       "    <tr>\n",
       "      <th>4</th>\n",
       "      <td>MN</td>\n",
       "      <td>exon:chr10:103360960-103361093:+@exon:chr10:103368592-103368694:+@exon:chr10:103369124-103369425:+</td>\n",
       "      <td>bimodal</td>\n",
       "      <td>NaN</td>\n",
       "    </tr>\n",
       "  </tbody>\n",
       "</table>\n",
       "</div>"
      ],
      "text/plain": [
       "  phenotype  \\\n",
       "0        MN   \n",
       "1        MN   \n",
       "2        MN   \n",
       "3        MN   \n",
       "4        MN   \n",
       "\n",
       "                                                                                             event_id  \\\n",
       "0  exon:chr10:102114184-102114389:+@exon:chr10:102116289-102116521:+@exon:chr10:102120491-102124591:+   \n",
       "1  exon:chr10:102286732-102286831:-@exon:chr10:102286156-102286311:-@exon:chr10:102283497-102283686:-   \n",
       "2  exon:chr10:103348089-103348157:+@exon:chr10:103354415-103354495:+@exon:chr10:103360495-103360619:+   \n",
       "3  exon:chr10:103360960-103361093:+@exon:chr10:103364897-103364969:+@exon:chr10:103368592-103368694:+   \n",
       "4  exon:chr10:103360960-103361093:+@exon:chr10:103368592-103368694:+@exon:chr10:103369124-103369425:+   \n",
       "\n",
       "   modality Ancient Alt Splicing  \n",
       "0  included                False  \n",
       "1  included                  NaN  \n",
       "2  included                  NaN  \n",
       "3   bimodal                False  \n",
       "4   bimodal                  NaN  "
      ]
     },
     "execution_count": 58,
     "metadata": {},
     "output_type": "execute_result"
    }
   ],
   "source": [
    "modalities_merkin2012 = study.supplemental.modalities_tidy.join(alternative_merkin2012, on='event_id')\n",
    "six.print_(modalities_merkin2012.shape)\n",
    "modalities_merkin2012.head()"
   ]
  },
  {
   "cell_type": "code",
   "execution_count": 59,
   "metadata": {
    "collapsed": false
   },
   "outputs": [
    {
     "data": {
      "image/png": "[encoded data removed]",
      "text/plain": [
       "<matplotlib.figure.Figure at 0x2ae29be768d0>"
      ]
     },
     "metadata": {},
     "output_type": "display_data"
    }
   ],
   "source": [
    "fig, ax = plt.subplots(figsize=(2, 1.5))\n",
    "sns.barplot(x='phenotype', y=col, hue='modality', hue_order=modality_order, \n",
    "            data=modalities_merkin2012, ci=None,\n",
    "            palette=modality_palette, order=study.phenotype_order)\n",
    "ax.locator_params('y', nbins=3)\n",
    "\n",
    "yticks = ax.get_yticks()\n",
    "yticklabels = 100 * yticks\n",
    "ax.set(xlabel='', ylabel='% ' +col, yticklabels=yticklabels)\n",
    "ax.legend_.set_visible(False)\n",
    "sns.despine()\n",
    "fig.tight_layout()\n",
    "fig.savefig('{}/{}.pdf'.format(figure_folder, prefix))"
   ]
  },
  {
   "cell_type": "code",
   "execution_count": 60,
   "metadata": {
    "collapsed": false
   },
   "outputs": [
    {
     "data": {
      "text/plain": [
       "array([ 0.  ,  0.01,  0.02,  0.03])"
      ]
     },
     "execution_count": 60,
     "metadata": {},
     "output_type": "execute_result"
    }
   ],
   "source": [
    "yticks = ax.get_yticks()\n",
    "yticks"
   ]
  },
  {
   "cell_type": "markdown",
   "metadata": {},
   "source": [
    "### Statistical Enrichment - hypergeometric test vs all exons in that modality"
   ]
  },
  {
   "cell_type": "code",
   "execution_count": 61,
   "metadata": {
    "collapsed": false
   },
   "outputs": [
    {
     "name": "stdout",
     "output_type": "stream",
     "text": [
      "MN\n",
      "\t ambivalent\n",
      "\t\t nan\n",
      "\t bimodal\n",
      "\t\t 1.43635089861e-05\n",
      "\t excluded\n",
      "\t\t 0.668495312978\n",
      "\t included\n",
      "\t\t 0.9842801366\n",
      "NPC\n",
      "\t ambivalent\n",
      "\t\t 0.0040831477357\n",
      "\t bimodal\n",
      "\t\t 0.00025513047228\n",
      "\t excluded\n",
      "\t\t 0.144038908794\n",
      "\t included\n",
      "\t\t 0.998489620813\n",
      "iPSC\n",
      "\t ambivalent\n",
      "\t\t 0.00374336494309\n",
      "\t bimodal\n",
      "\t\t 4.08587318349e-06\n",
      "\t concurrent\n",
      "\t\t nan\n",
      "\t excluded\n",
      "\t\t 0.0641365471244\n",
      "\t included\n",
      "\t\t 0.999999748406\n"
     ]
    }
   ],
   "source": [
    "from scipy.stats import hypergeom\n",
    "\n",
    "for phenotype, phenotype_df in modalities_merkin2012.groupby(['phenotype']):\n",
    "    six.print_(phenotype)\n",
    "    M = phenotype_df[col].count()\n",
    "    n = phenotype_df[col].sum()\n",
    "    for modality, modality_df in phenotype_df.groupby('modality'):\n",
    "        six.print_('\\t', modality)\n",
    "        N = modality_df[col].count()\n",
    "        x = modality_df[col].sum()\n",
    "        result = hypergeom.sf(x, M, n, N)\n",
    "        six.print_('\\t\\t', result)"
   ]
  },
  {
   "cell_type": "markdown",
   "metadata": {},
   "source": [
    "## Basewise intron conservation"
   ]
  },
  {
   "cell_type": "markdown",
   "metadata": {},
   "source": [
    "## Gene age (phylostratum from Domazet-Loso MBE 2012)"
   ]
  },
  {
   "cell_type": "code",
   "execution_count": 62,
   "metadata": {
    "collapsed": false
   },
   "outputs": [
    {
     "data": {
      "text/html": [
       "<div>\n",
       "<table border=\"1\" class=\"dataframe\">\n",
       "  <thead>\n",
       "    <tr style=\"text-align: right;\">\n",
       "      <th></th>\n",
       "      <th>biomark_neural_panel</th>\n",
       "      <th>confident_rbp</th>\n",
       "      <th>gencode_id</th>\n",
       "      <th>gene_name</th>\n",
       "      <th>gene_status</th>\n",
       "      <th>gene_type</th>\n",
       "      <th>havana_gene</th>\n",
       "      <th>level</th>\n",
       "      <th>rbp</th>\n",
       "      <th>ribosomal</th>\n",
       "      <th>...</th>\n",
       "      <th>gerstberger2014_rbp_target_diverse</th>\n",
       "      <th>gerstberger2014_rbp_family_targets</th>\n",
       "      <th>cell_surface_markers</th>\n",
       "      <th>gerstberger2014_tf</th>\n",
       "      <th>cell_cycle</th>\n",
       "      <th>domazetloso2008_phylostratum</th>\n",
       "      <th>bioguo_animaltfdb_tf</th>\n",
       "      <th>bioguo_animaltfdb_chromatin_remodeler</th>\n",
       "      <th>bioguo_animaltfdb_cofactor</th>\n",
       "      <th>max_exons_per_gene</th>\n",
       "    </tr>\n",
       "  </thead>\n",
       "  <tbody>\n",
       "    <tr>\n",
       "      <th>ENSG00000000003</th>\n",
       "      <td>False</td>\n",
       "      <td>False</td>\n",
       "      <td>ENSG00000000003.10</td>\n",
       "      <td>TSPAN6</td>\n",
       "      <td>KNOWN</td>\n",
       "      <td>protein_coding</td>\n",
       "      <td>OTTHUMG00000022002.1</td>\n",
       "      <td>2</td>\n",
       "      <td>False</td>\n",
       "      <td>False</td>\n",
       "      <td>...</td>\n",
       "      <td>False</td>\n",
       "      <td>NaN</td>\n",
       "      <td>False</td>\n",
       "      <td>False</td>\n",
       "      <td>False</td>\n",
       "      <td>2</td>\n",
       "      <td>False</td>\n",
       "      <td>False</td>\n",
       "      <td>False</td>\n",
       "      <td>8</td>\n",
       "    </tr>\n",
       "    <tr>\n",
       "      <th>ENSG00000000005</th>\n",
       "      <td>False</td>\n",
       "      <td>False</td>\n",
       "      <td>ENSG00000000005.5</td>\n",
       "      <td>TNMD</td>\n",
       "      <td>KNOWN</td>\n",
       "      <td>protein_coding</td>\n",
       "      <td>OTTHUMG00000022001.1</td>\n",
       "      <td>2</td>\n",
       "      <td>False</td>\n",
       "      <td>False</td>\n",
       "      <td>...</td>\n",
       "      <td>False</td>\n",
       "      <td>NaN</td>\n",
       "      <td>False</td>\n",
       "      <td>False</td>\n",
       "      <td>False</td>\n",
       "      <td>11</td>\n",
       "      <td>False</td>\n",
       "      <td>False</td>\n",
       "      <td>False</td>\n",
       "      <td>7</td>\n",
       "    </tr>\n",
       "    <tr>\n",
       "      <th>ENSG00000000419</th>\n",
       "      <td>False</td>\n",
       "      <td>False</td>\n",
       "      <td>ENSG00000000419.8</td>\n",
       "      <td>DPM1</td>\n",
       "      <td>KNOWN</td>\n",
       "      <td>protein_coding</td>\n",
       "      <td>OTTHUMG00000032742.2</td>\n",
       "      <td>2</td>\n",
       "      <td>False</td>\n",
       "      <td>False</td>\n",
       "      <td>...</td>\n",
       "      <td>False</td>\n",
       "      <td>NaN</td>\n",
       "      <td>False</td>\n",
       "      <td>False</td>\n",
       "      <td>False</td>\n",
       "      <td>1</td>\n",
       "      <td>False</td>\n",
       "      <td>False</td>\n",
       "      <td>False</td>\n",
       "      <td>10</td>\n",
       "    </tr>\n",
       "    <tr>\n",
       "      <th>ENSG00000000457</th>\n",
       "      <td>False</td>\n",
       "      <td>False</td>\n",
       "      <td>ENSG00000000457.9</td>\n",
       "      <td>SCYL3</td>\n",
       "      <td>KNOWN</td>\n",
       "      <td>protein_coding</td>\n",
       "      <td>OTTHUMG00000035941.4</td>\n",
       "      <td>2</td>\n",
       "      <td>False</td>\n",
       "      <td>False</td>\n",
       "      <td>...</td>\n",
       "      <td>False</td>\n",
       "      <td>NaN</td>\n",
       "      <td>False</td>\n",
       "      <td>False</td>\n",
       "      <td>False</td>\n",
       "      <td>2</td>\n",
       "      <td>False</td>\n",
       "      <td>False</td>\n",
       "      <td>False</td>\n",
       "      <td>14</td>\n",
       "    </tr>\n",
       "    <tr>\n",
       "      <th>ENSG00000000460</th>\n",
       "      <td>False</td>\n",
       "      <td>False</td>\n",
       "      <td>ENSG00000000460.12</td>\n",
       "      <td>C1orf112</td>\n",
       "      <td>KNOWN</td>\n",
       "      <td>protein_coding</td>\n",
       "      <td>OTTHUMG00000035821.6</td>\n",
       "      <td>2</td>\n",
       "      <td>False</td>\n",
       "      <td>False</td>\n",
       "      <td>...</td>\n",
       "      <td>False</td>\n",
       "      <td>NaN</td>\n",
       "      <td>False</td>\n",
       "      <td>False</td>\n",
       "      <td>True</td>\n",
       "      <td>6</td>\n",
       "      <td>False</td>\n",
       "      <td>False</td>\n",
       "      <td>False</td>\n",
       "      <td>29</td>\n",
       "    </tr>\n",
       "  </tbody>\n",
       "</table>\n",
       "<p>5 rows × 36 columns</p>\n",
       "</div>"
      ],
      "text/plain": [
       "                biomark_neural_panel confident_rbp          gencode_id  \\\n",
       "ENSG00000000003                False         False  ENSG00000000003.10   \n",
       "ENSG00000000005                False         False   ENSG00000000005.5   \n",
       "ENSG00000000419                False         False   ENSG00000000419.8   \n",
       "ENSG00000000457                False         False   ENSG00000000457.9   \n",
       "ENSG00000000460                False         False  ENSG00000000460.12   \n",
       "\n",
       "                gene_name gene_status       gene_type           havana_gene  \\\n",
       "ENSG00000000003    TSPAN6       KNOWN  protein_coding  OTTHUMG00000022002.1   \n",
       "ENSG00000000005      TNMD       KNOWN  protein_coding  OTTHUMG00000022001.1   \n",
       "ENSG00000000419      DPM1       KNOWN  protein_coding  OTTHUMG00000032742.2   \n",
       "ENSG00000000457     SCYL3       KNOWN  protein_coding  OTTHUMG00000035941.4   \n",
       "ENSG00000000460  C1orf112       KNOWN  protein_coding  OTTHUMG00000035821.6   \n",
       "\n",
       "                 level    rbp ribosomal        ...          \\\n",
       "ENSG00000000003      2  False     False        ...           \n",
       "ENSG00000000005      2  False     False        ...           \n",
       "ENSG00000000419      2  False     False        ...           \n",
       "ENSG00000000457      2  False     False        ...           \n",
       "ENSG00000000460      2  False     False        ...           \n",
       "\n",
       "                gerstberger2014_rbp_target_diverse  \\\n",
       "ENSG00000000003                              False   \n",
       "ENSG00000000005                              False   \n",
       "ENSG00000000419                              False   \n",
       "ENSG00000000457                              False   \n",
       "ENSG00000000460                              False   \n",
       "\n",
       "                gerstberger2014_rbp_family_targets cell_surface_markers  \\\n",
       "ENSG00000000003                                NaN                False   \n",
       "ENSG00000000005                                NaN                False   \n",
       "ENSG00000000419                                NaN                False   \n",
       "ENSG00000000457                                NaN                False   \n",
       "ENSG00000000460                                NaN                False   \n",
       "\n",
       "                gerstberger2014_tf cell_cycle domazetloso2008_phylostratum  \\\n",
       "ENSG00000000003              False      False                            2   \n",
       "ENSG00000000005              False      False                           11   \n",
       "ENSG00000000419              False      False                            1   \n",
       "ENSG00000000457              False      False                            2   \n",
       "ENSG00000000460              False       True                            6   \n",
       "\n",
       "                bioguo_animaltfdb_tf bioguo_animaltfdb_chromatin_remodeler  \\\n",
       "ENSG00000000003                False                                 False   \n",
       "ENSG00000000005                False                                 False   \n",
       "ENSG00000000419                False                                 False   \n",
       "ENSG00000000457                False                                 False   \n",
       "ENSG00000000460                False                                 False   \n",
       "\n",
       "                bioguo_animaltfdb_cofactor max_exons_per_gene  \n",
       "ENSG00000000003                      False                  8  \n",
       "ENSG00000000005                      False                  7  \n",
       "ENSG00000000419                      False                 10  \n",
       "ENSG00000000457                      False                 14  \n",
       "ENSG00000000460                      False                 29  \n",
       "\n",
       "[5 rows x 36 columns]"
      ]
     },
     "execution_count": 62,
     "metadata": {},
     "output_type": "execute_result"
    }
   ],
   "source": [
    "study.expression.feature_data.head()"
   ]
  },
  {
   "cell_type": "code",
   "execution_count": 64,
   "metadata": {
    "collapsed": false
   },
   "outputs": [
    {
     "name": "stdout",
     "output_type": "stream",
     "text": [
      "(6250,)\n"
     ]
    },
    {
     "data": {
      "text/plain": [
       "0\n",
       "exon:chr10:102039881-102039985:-                                    ENSG00000196072\n",
       "exon:chr10:102040691-102040810:-                                    ENSG00000196072\n",
       "exon:chr10:102045854-102045970:-                                    ENSG00000196072\n",
       "exon:chr10:102045854-102046089:-                                    ENSG00000196072\n",
       "exon:chr10:102286732-102286831:-    ENSG00000075826,ENSG00000166136,ENSG00000255339\n",
       "Name: 1, dtype: object"
      ]
     },
     "execution_count": 64,
     "metadata": {},
     "output_type": "execute_result"
    }
   ],
   "source": [
    "genes_with_constitutive_exons = pd.read_csv('{}/genes.csv'.format(constitutive_feature_folder), \n",
    "                                            index_col=0, header=None, squeeze=True)\n",
    "six.print_(genes_with_constitutive_exons.shape)\n",
    "genes_with_constitutive_exons.head()"
   ]
  },
  {
   "cell_type": "code",
   "execution_count": 65,
   "metadata": {
    "collapsed": false
   },
   "outputs": [
    {
     "data": {
      "text/plain": [
       "exon:chr10:102039881-102039985:-    ENSG00000196072\n",
       "exon:chr10:102040691-102040810:-    ENSG00000196072\n",
       "exon:chr10:102045854-102045970:-    ENSG00000196072\n",
       "exon:chr10:102045854-102046089:-    ENSG00000196072\n",
       "exon:chr10:102286732-102286831:-    ENSG00000075826\n",
       "dtype: object"
      ]
     },
     "execution_count": 65,
     "metadata": {},
     "output_type": "execute_result"
    }
   ],
   "source": [
    "genes_with_constitutive_exons_expanded = pd.concat([pd.Series(x.split(','), index=[i]*len(x.split(',')))\n",
    "    for i, x in genes_with_constitutive_exons.iteritems()])\n",
    "genes_with_constitutive_exons_expanded.head()"
   ]
  },
  {
   "cell_type": "code",
   "execution_count": 66,
   "metadata": {
    "collapsed": false
   },
   "outputs": [
    {
     "data": {
      "text/plain": [
       "event_id\n",
       "exon:chr10:102039881-102039985:-    ENSG00000196072\n",
       "exon:chr10:102040691-102040810:-    ENSG00000196072\n",
       "exon:chr10:102045854-102045970:-    ENSG00000196072\n",
       "exon:chr10:102045854-102046089:-    ENSG00000196072\n",
       "exon:chr10:102286732-102286831:-    ENSG00000075826\n",
       "Name: ensembl_id, dtype: object"
      ]
     },
     "execution_count": 66,
     "metadata": {},
     "output_type": "execute_result"
    }
   ],
   "source": [
    "genes_with_constitutive_exons_expanded.name = 'ensembl_id'\n",
    "genes_with_constitutive_exons_expanded.index.name = 'event_id'\n",
    "genes_with_constitutive_exons_expanded.head()"
   ]
  },
  {
   "cell_type": "code",
   "execution_count": 67,
   "metadata": {
    "collapsed": true
   },
   "outputs": [],
   "source": [
    "genes_with_constitutive_exons_expanded.to_csv('{}/genes_expanded.csv'.format(constitutive_feature_folder))"
   ]
  },
  {
   "cell_type": "code",
   "execution_count": 68,
   "metadata": {
    "collapsed": false
   },
   "outputs": [
    {
     "name": "stdout",
     "output_type": "stream",
     "text": [
      "(19398, 4)\n"
     ]
    },
    {
     "data": {
      "text/html": [
       "<div>\n",
       "<table border=\"1\" class=\"dataframe\">\n",
       "  <thead>\n",
       "    <tr style=\"text-align: right;\">\n",
       "      <th></th>\n",
       "      <th>event_id</th>\n",
       "      <th>ensembl_id</th>\n",
       "      <th>modality</th>\n",
       "      <th>phenotype</th>\n",
       "    </tr>\n",
       "  </thead>\n",
       "  <tbody>\n",
       "    <tr>\n",
       "      <th>0</th>\n",
       "      <td>exon:chr10:102039881-102039985:-</td>\n",
       "      <td>ENSG00000196072</td>\n",
       "      <td>constitutive</td>\n",
       "      <td>iPSC</td>\n",
       "    </tr>\n",
       "    <tr>\n",
       "      <th>1</th>\n",
       "      <td>exon:chr10:102040691-102040810:-</td>\n",
       "      <td>ENSG00000196072</td>\n",
       "      <td>constitutive</td>\n",
       "      <td>iPSC</td>\n",
       "    </tr>\n",
       "    <tr>\n",
       "      <th>2</th>\n",
       "      <td>exon:chr10:102045854-102045970:-</td>\n",
       "      <td>ENSG00000196072</td>\n",
       "      <td>constitutive</td>\n",
       "      <td>iPSC</td>\n",
       "    </tr>\n",
       "    <tr>\n",
       "      <th>3</th>\n",
       "      <td>exon:chr10:102045854-102046089:-</td>\n",
       "      <td>ENSG00000196072</td>\n",
       "      <td>constitutive</td>\n",
       "      <td>iPSC</td>\n",
       "    </tr>\n",
       "    <tr>\n",
       "      <th>4</th>\n",
       "      <td>exon:chr10:102286732-102286831:-</td>\n",
       "      <td>ENSG00000075826</td>\n",
       "      <td>constitutive</td>\n",
       "      <td>iPSC</td>\n",
       "    </tr>\n",
       "  </tbody>\n",
       "</table>\n",
       "</div>"
      ],
      "text/plain": [
       "                           event_id       ensembl_id      modality phenotype\n",
       "0  exon:chr10:102039881-102039985:-  ENSG00000196072  constitutive      iPSC\n",
       "1  exon:chr10:102040691-102040810:-  ENSG00000196072  constitutive      iPSC\n",
       "2  exon:chr10:102045854-102045970:-  ENSG00000196072  constitutive      iPSC\n",
       "3  exon:chr10:102045854-102046089:-  ENSG00000196072  constitutive      iPSC\n",
       "4  exon:chr10:102286732-102286831:-  ENSG00000075826  constitutive      iPSC"
      ]
     },
     "execution_count": 68,
     "metadata": {},
     "output_type": "execute_result"
    }
   ],
   "source": [
    "constitutive_genes_modalities = make_phenotype_modality_format(genes_with_constitutive_exons_expanded)\n",
    "constitutive_genes_modalities.head()"
   ]
  },
  {
   "cell_type": "code",
   "execution_count": 69,
   "metadata": {
    "collapsed": false
   },
   "outputs": [
    {
     "data": {
      "text/plain": [
       "exon:chr10:100190328-100190427:-@exon:chr10:100189548-100189646:-@exon:chr10:100189330-100189399:-                         ENSG00000107521\n",
       "exon:chr10:100193697-100193848:-@exon:chr10:100190888-100191048:-@exon:chr10:100190328-100190427:-                         ENSG00000107521\n",
       "exon:chr10:100195392-100195529:-@exon:chr10:100195029-100195171:-@exon:chr10:100193697-100193848:-                         ENSG00000107521\n",
       "exon:chr10:101165513-101165617:-@exon:chr10:101163481-101163631:-@exon:chr10:101163226-101163391:-                         ENSG00000120053\n",
       "exon:chr10:101419263-101419345:+@exon:chr10:101419619-101419721:+@exon:chr10:101421203-101421385:+                         ENSG00000198018\n",
       "exon:chr10:101421203-101421385:+@exon:chr10:101439018-101439223:+@exon:chr10:101439482-101439632:+                         ENSG00000198018\n",
       "exon:chr10:101480744-101480825:-@exon:chr10:101478103-101478257:-@exon:chr10:101476105-101476218:-                         ENSG00000014919\n",
       "exon:chr10:101507014-101507147:+@exon:chr10:101510126-101510153:+@exon:chr10:101514286-101514391:+                         ENSG00000119929\n",
       "exon:chr10:101507014-101507147:+@exon:chr10:101514286-101514391:+@exon:chr10:101515382-101515891:+                         ENSG00000119929\n",
       "exon:chr10:101667752-101667851:-@exon:chr10:101659676-101659823:-@exon:chr10:101658500-101658517:-                         ENSG00000107554\n",
       "exon:chr10:101964263-101964414:-@exon:chr10:101961845-101961906:-@exon:chr10:101960428-101960537:-                         ENSG00000213341\n",
       "exon:chr10:101969352-101969546:-@exon:chr10:101966987-101967089:-@exon:chr10:101964833-101964956:-                         ENSG00000213341\n",
       "exon:chr10:101977752-101977887:-@exon:chr10:101969352-101969546:-@exon:chr10:101964833-101964956:-                         ENSG00000213341\n",
       "exon:chr10:101997779-101997988:-@exon:chr10:101996607-101996726:-@exon:chr10:101995424-101995521:-                         ENSG00000095485\n",
       "exon:chr10:102003455-102003529:-@exon:chr10:101997779-101997988:-@exon:chr10:101996607-101996726:-                         ENSG00000095485\n",
       "exon:chr10:102013178-102013296:-@exon:chr10:102010005-102010089:-@exon:chr10:102006552-102006692:-                         ENSG00000095485\n",
       "exon:chr10:102019975-102020076:-@exon:chr10:102016019-102016233:-@exon:chr10:102013178-102013296:-                         ENSG00000095485\n",
       "exon:chr10:102020723-102020785:-@exon:chr10:102016019-102016233:-@exon:chr10:102013178-102013296:-                         ENSG00000095485\n",
       "exon:chr10:102027328-102027355:-@exon:chr10:102016019-102016233:-@exon:chr10:102013178-102013296:-                         ENSG00000095485\n",
       "exon:chr10:102020723-102020785:-@exon:chr10:102019975-102020076:-@exon:chr10:102013178-102013296:-                         ENSG00000095485\n",
       "exon:chr10:102020723-102020785:-@exon:chr10:102019975-102020076:-@exon:chr10:102016019-102016233:-                         ENSG00000095485\n",
       "exon:chr10:102021736-102021820:-@exon:chr10:102020723-102020785:-@exon:chr10:102016019-102016233:-                         ENSG00000095485\n",
       "exon:chr10:102021736-102021820:-@exon:chr10:102020723-102020801:-@exon:chr10:102016019-102016233:-                         ENSG00000095485\n",
       "exon:chr10:102027328-102027355:-@exon:chr10:102021736-102021820:-@exon:chr10:102016019-102016233:-                         ENSG00000095485\n",
       "exon:chr10:102114184-102114389:+@exon:chr10:102116289-102116521:+@exon:chr10:102120491-102124591:+                         ENSG00000099194\n",
       "exon:chr10:102257424-102257550:-@exon:chr10:102256892-102257037:-@exon:chr10:102256015-102256188:-                         ENSG00000075826\n",
       "exon:chr10:102258917-102259015:-@exon:chr10:102258462-102258561:-@exon:chr10:102257786-102257964:-                         ENSG00000075826\n",
       "exon:chr10:102262011-102262241:-@exon:chr10:102259867-102259916:-@exon:chr10:102259281-102259355:-                         ENSG00000075826\n",
       "exon:chr10:102286732-102286831:-@exon:chr10:102286156-102286311:-@exon:chr10:102276631-102276717:-                         ENSG00000255339\n",
       "exon:chr10:102286732-102286831:-@exon:chr10:102286156-102286311:-@exon:chr10:102283497-102283686:-                         ENSG00000255339\n",
       "                                                                                                                                ...       \n",
       "exon:chrX:73164419-73164497:+@exon:chrX:73214675-73214796:+@exon:chrX:73218603-73218679:+@exon:chrX:73224105-73224186:+    ENSG00000225470\n",
       "exon:chrX:73166834-73167209:+@exon:chrX:73214675-73214796:+@exon:chrX:73218603-73218679:+@exon:chrX:73224105-73224186:+    ENSG00000225470\n",
       "exon:chrX:74742724-74743337:-@exon:chrX:74725656-74725682:-@exon:chrX:74698726-74698820:-@exon:chrX:74651286-74651355:-    ENSG00000102383\n",
       "exon:chrX:78003228-78003531:+@exon:chrX:78005671-78005720:+@exon:chrX:78006227-78006289:+@exon:chrX:78006707-78006791:+    ENSG00000147145\n",
       "exon:chrX:79971656-79971749:-@exon:chrX:79964927-79965076:-@exon:chrX:79962926-79963002:-@exon:chrX:79960177-79960345:-    ENSG00000165288\n",
       "exon:chrX:80375287-80375316:-@exon:chrX:80374229-80374258:-@exon:chrX:80373931-80373984:-@exon:chrX:80371703-80371840:-    ENSG00000198157\n",
       "exon:chrX:80375287-80375316:-@exon:chrX:80374229-80374279:-@exon:chrX:80373931-80373984:-@exon:chrX:80371703-80371840:-    ENSG00000198157\n",
       "exon:chrX:80377034-80377187:-@exon:chrX:80374229-80374258:-@exon:chrX:80373931-80373984:-@exon:chrX:80371703-80371840:-    ENSG00000198157\n",
       "exon:chrX:80377034-80377137:-@exon:chrX:80375287-80375316:-@exon:chrX:80374229-80374258:-@exon:chrX:80373931-80373984:-    ENSG00000198157\n",
       "exon:chrX:83757350-83757399:-@exon:chrX:83723480-83724583:-@exon:chrX:83695540-83695593:-@exon:chrX:83616474-83616620:-    ENSG00000165259\n",
       "exon:chrX:83757350-83757399:-@exon:chrX:83756437-83756519:-@exon:chrX:83743032-83743140:-@exon:chrX:83730259-83730405:-    ENSG00000259640\n",
       "exon:chrX:85302488-85302543:-@exon:chrX:85282495-85282561:-@exon:chrX:85236741-85236813:-@exon:chrX:85233771-85233895:-    ENSG00000188419\n",
       "exon:chrY:14774265-14774637:+@exon:chrY:14776571-14776617:+@exon:chrY:14798442-14798535:+@exon:chrY:14832522-14832670:+    ENSG00000233864\n",
       "exon:chrY:14776571-14776617:+@exon:chrY:14798442-14798535:+@exon:chrY:14821321-14821476:+@exon:chrY:14832522-14832670:+    ENSG00000233864\n",
       "exon:chrY:14891460-14891580:+@exon:chrY:14898455-14898733:+@exon:chrY:14902340-14902465:+@exon:chrY:14903432-14903557:+    ENSG00000114374\n",
       "exon:chrY:15024552-15024974:+@exon:chrY:15025630-15025765:+@exon:chrY:15026476-15026561:+@exon:chrY:15026979-15027139:+    ENSG00000067048\n",
       "exon:chrY:15028173-15028354:+@exon:chrY:15028429-15028546:+@exon:chrY:15028819-15028972:+@exon:chrY:15029315-15029454:+    ENSG00000067048\n",
       "exon:chrY:15471647-15471866:-@exon:chrY:15470968-15471102:-@exon:chrY:15470344-15470433:-@exon:chrY:15469757-15469849:-    ENSG00000183878\n",
       "exon:chrY:15508798-15508852:-@exon:chrY:15505739-15505773:-@exon:chrY:15481136-15481229:-@exon:chrY:15478147-15478273:-    ENSG00000183878\n",
       "exon:chrY:16634632-16634821:+@exon:chrY:16733889-16734471:+@exon:chrY:16831339-16831398:+@exon:chrY:16834997-16835149:+    ENSG00000165246\n",
       "exon:chrY:21237827-21237882:-@exon:chrY:21230610-21230684:-@exon:chrY:21207128-21207177:-@exon:chrY:21206428-21206581:-    ENSG00000176728\n",
       "exon:chrY:21749096-21749393:+@exon:chrY:21750256-21751498:+@exon:chrY:21753666-21753845:+@exon:chrY:21755285-21755479:+    ENSG00000131002\n",
       "exon:chrY:21749368-21749393:+@exon:chrY:21751407-21751498:+@exon:chrY:21753666-21753845:+@exon:chrY:21755285-21755479:+    ENSG00000131002\n",
       "exon:chrY:21903621-21903743:-@exon:chrY:21903204-21903374:-@exon:chrY:21901414-21901548:-@exon:chrY:21897507-21897636:-    ENSG00000012817\n",
       "exon:chrY:21905048-21905125:-@exon:chrY:21903621-21903743:-@exon:chrY:21903204-21903374:-@exon:chrY:21901414-21901548:-    ENSG00000012817\n",
       "exon:chrY:2293238-2293345:-@exon:chrY:2276786-2276854:-@exon:chrY:2260395-2260515:-@exon:chrY:2159543-2159644:-            ENSGR0000169084\n",
       "exon:chrY:2709527-2709668:+@exon:chrY:2710206-2710283:+@exon:chrY:2712118-2712298:+@exon:chrY:2713687-2713784:+            ENSG00000129824\n",
       "exon:chrY:2710206-2710283:+@exon:chrY:2712118-2712298:+@exon:chrY:2713687-2713784:+@exon:chrY:2722641-2722812:+            ENSG00000129824\n",
       "exon:chrY:2712118-2712298:+@exon:chrY:2713687-2713784:+@exon:chrY:2722641-2722812:+@exon:chrY:2733129-2733286:+            ENSG00000129824\n",
       "exon:chrY:2713687-2713784:+@exon:chrY:2722641-2722812:+@exon:chrY:2733129-2733286:+@exon:chrY:2734834-2735309:+            ENSG00000129824\n",
       "dtype: object"
      ]
     },
     "execution_count": 69,
     "metadata": {},
     "output_type": "execute_result"
    }
   ],
   "source": [
    "event_id_to_genes = pd.concat([pd.Series(x.split(','), index=[i]*len(x.split(',')))\n",
    "    for i, x in study.splicing.feature_data['one_ensembl_id'].iteritems() if isinstance(x, str)])\n",
    "event_id_to_genes"
   ]
  },
  {
   "cell_type": "code",
   "execution_count": 70,
   "metadata": {
    "collapsed": false
   },
   "outputs": [],
   "source": [
    "event_id_to_genes.head()\n",
    "event_id_to_genes.name = 'ensembl_id'"
   ]
  },
  {
   "cell_type": "markdown",
   "metadata": {},
   "source": [
    "### Add constitutive exons and their genes"
   ]
  },
  {
   "cell_type": "code",
   "execution_count": 71,
   "metadata": {
    "collapsed": true
   },
   "outputs": [],
   "source": [
    "event_id_to_genes.to_csv('{}/genes_expanded.csv'.format(alternative_feature_folder))"
   ]
  },
  {
   "cell_type": "code",
   "execution_count": 72,
   "metadata": {
    "collapsed": false
   },
   "outputs": [
    {
     "data": {
      "text/html": [
       "<div>\n",
       "<table border=\"1\" class=\"dataframe\">\n",
       "  <thead>\n",
       "    <tr style=\"text-align: right;\">\n",
       "      <th></th>\n",
       "      <th>ensembl_id</th>\n",
       "      <th>event_id</th>\n",
       "      <th>modality</th>\n",
       "      <th>phenotype</th>\n",
       "    </tr>\n",
       "  </thead>\n",
       "  <tbody>\n",
       "    <tr>\n",
       "      <th>0</th>\n",
       "      <td>ENSG00000099194</td>\n",
       "      <td>exon:chr10:102114184-102114389:+@exon:chr10:102116289-102116521:+@exon:chr10:102120491-102124591:+</td>\n",
       "      <td>included</td>\n",
       "      <td>MN</td>\n",
       "    </tr>\n",
       "    <tr>\n",
       "      <th>1</th>\n",
       "      <td>ENSG00000255339</td>\n",
       "      <td>exon:chr10:102286732-102286831:-@exon:chr10:102286156-102286311:-@exon:chr10:102283497-102283686:-</td>\n",
       "      <td>included</td>\n",
       "      <td>MN</td>\n",
       "    </tr>\n",
       "    <tr>\n",
       "      <th>2</th>\n",
       "      <td>ENSG00000166171</td>\n",
       "      <td>exon:chr10:103348089-103348157:+@exon:chr10:103354415-103354495:+@exon:chr10:103360495-103360619:+</td>\n",
       "      <td>included</td>\n",
       "      <td>MN</td>\n",
       "    </tr>\n",
       "    <tr>\n",
       "      <th>3</th>\n",
       "      <td>ENSG00000166171</td>\n",
       "      <td>exon:chr10:103360960-103361093:+@exon:chr10:103364897-103364969:+@exon:chr10:103368592-103368694:+</td>\n",
       "      <td>bimodal</td>\n",
       "      <td>MN</td>\n",
       "    </tr>\n",
       "    <tr>\n",
       "      <th>4</th>\n",
       "      <td>ENSG00000166171</td>\n",
       "      <td>exon:chr10:103360960-103361093:+@exon:chr10:103368592-103368694:+@exon:chr10:103369124-103369425:+</td>\n",
       "      <td>bimodal</td>\n",
       "      <td>MN</td>\n",
       "    </tr>\n",
       "  </tbody>\n",
       "</table>\n",
       "</div>"
      ],
      "text/plain": [
       "        ensembl_id  \\\n",
       "0  ENSG00000099194   \n",
       "1  ENSG00000255339   \n",
       "2  ENSG00000166171   \n",
       "3  ENSG00000166171   \n",
       "4  ENSG00000166171   \n",
       "\n",
       "                                                                                             event_id  \\\n",
       "0  exon:chr10:102114184-102114389:+@exon:chr10:102116289-102116521:+@exon:chr10:102120491-102124591:+   \n",
       "1  exon:chr10:102286732-102286831:-@exon:chr10:102286156-102286311:-@exon:chr10:102283497-102283686:-   \n",
       "2  exon:chr10:103348089-103348157:+@exon:chr10:103354415-103354495:+@exon:chr10:103360495-103360619:+   \n",
       "3  exon:chr10:103360960-103361093:+@exon:chr10:103364897-103364969:+@exon:chr10:103368592-103368694:+   \n",
       "4  exon:chr10:103360960-103361093:+@exon:chr10:103368592-103368694:+@exon:chr10:103369124-103369425:+   \n",
       "\n",
       "   modality phenotype  \n",
       "0  included        MN  \n",
       "1  included        MN  \n",
       "2  included        MN  \n",
       "3   bimodal        MN  \n",
       "4   bimodal        MN  "
      ]
     },
     "execution_count": 72,
     "metadata": {},
     "output_type": "execute_result"
    }
   ],
   "source": [
    "modalities_genes = study.supplemental.modalities_tidy.join(event_id_to_genes, on='event_id')\n",
    "modalities_genes = pd.concat([modalities_genes, constitutive_genes_modalities])\n",
    "modalities_genes.head()"
   ]
  },
  {
   "cell_type": "markdown",
   "metadata": {},
   "source": [
    "Add phylostratum"
   ]
  },
  {
   "cell_type": "code",
   "execution_count": 73,
   "metadata": {
    "collapsed": false
   },
   "outputs": [
    {
     "data": {
      "text/html": [
       "<div>\n",
       "<table border=\"1\" class=\"dataframe\">\n",
       "  <thead>\n",
       "    <tr style=\"text-align: right;\">\n",
       "      <th></th>\n",
       "      <th>ensembl_id</th>\n",
       "      <th>event_id</th>\n",
       "      <th>modality</th>\n",
       "      <th>phenotype</th>\n",
       "      <th>domazetloso2008_phylostratum</th>\n",
       "    </tr>\n",
       "  </thead>\n",
       "  <tbody>\n",
       "    <tr>\n",
       "      <th>0</th>\n",
       "      <td>ENSG00000099194</td>\n",
       "      <td>exon:chr10:102114184-102114389:+@exon:chr10:102116289-102116521:+@exon:chr10:102120491-102124591:+</td>\n",
       "      <td>included</td>\n",
       "      <td>MN</td>\n",
       "      <td>1</td>\n",
       "    </tr>\n",
       "    <tr>\n",
       "      <th>1</th>\n",
       "      <td>ENSG00000255339</td>\n",
       "      <td>exon:chr10:102286732-102286831:-@exon:chr10:102286156-102286311:-@exon:chr10:102283497-102283686:-</td>\n",
       "      <td>included</td>\n",
       "      <td>MN</td>\n",
       "      <td>NaN</td>\n",
       "    </tr>\n",
       "    <tr>\n",
       "      <th>2</th>\n",
       "      <td>ENSG00000166171</td>\n",
       "      <td>exon:chr10:103348089-103348157:+@exon:chr10:103354415-103354495:+@exon:chr10:103360495-103360619:+</td>\n",
       "      <td>included</td>\n",
       "      <td>MN</td>\n",
       "      <td>2</td>\n",
       "    </tr>\n",
       "    <tr>\n",
       "      <th>3</th>\n",
       "      <td>ENSG00000166171</td>\n",
       "      <td>exon:chr10:103360960-103361093:+@exon:chr10:103364897-103364969:+@exon:chr10:103368592-103368694:+</td>\n",
       "      <td>bimodal</td>\n",
       "      <td>MN</td>\n",
       "      <td>2</td>\n",
       "    </tr>\n",
       "    <tr>\n",
       "      <th>4</th>\n",
       "      <td>ENSG00000166171</td>\n",
       "      <td>exon:chr10:103360960-103361093:+@exon:chr10:103368592-103368694:+@exon:chr10:103369124-103369425:+</td>\n",
       "      <td>bimodal</td>\n",
       "      <td>MN</td>\n",
       "      <td>2</td>\n",
       "    </tr>\n",
       "  </tbody>\n",
       "</table>\n",
       "</div>"
      ],
      "text/plain": [
       "        ensembl_id  \\\n",
       "0  ENSG00000099194   \n",
       "1  ENSG00000255339   \n",
       "2  ENSG00000166171   \n",
       "3  ENSG00000166171   \n",
       "4  ENSG00000166171   \n",
       "\n",
       "                                                                                             event_id  \\\n",
       "0  exon:chr10:102114184-102114389:+@exon:chr10:102116289-102116521:+@exon:chr10:102120491-102124591:+   \n",
       "1  exon:chr10:102286732-102286831:-@exon:chr10:102286156-102286311:-@exon:chr10:102283497-102283686:-   \n",
       "2  exon:chr10:103348089-103348157:+@exon:chr10:103354415-103354495:+@exon:chr10:103360495-103360619:+   \n",
       "3  exon:chr10:103360960-103361093:+@exon:chr10:103364897-103364969:+@exon:chr10:103368592-103368694:+   \n",
       "4  exon:chr10:103360960-103361093:+@exon:chr10:103368592-103368694:+@exon:chr10:103369124-103369425:+   \n",
       "\n",
       "   modality phenotype  domazetloso2008_phylostratum  \n",
       "0  included        MN                             1  \n",
       "1  included        MN                           NaN  \n",
       "2  included        MN                             2  \n",
       "3   bimodal        MN                             2  \n",
       "4   bimodal        MN                             2  "
      ]
     },
     "execution_count": 73,
     "metadata": {},
     "output_type": "execute_result"
    }
   ],
   "source": [
    "col = 'domazetloso2008_phylostratum'\n",
    "modalities_genes = modalities_genes.join(study.expression.feature_data[col], on='ensembl_id')\n",
    "modalities_genes.head()"
   ]
  },
  {
   "cell_type": "code",
   "execution_count": null,
   "metadata": {
    "collapsed": true
   },
   "outputs": [],
   "source": []
  },
  {
   "cell_type": "code",
   "execution_count": 74,
   "metadata": {
    "collapsed": false
   },
   "outputs": [
    {
     "data": {
      "image/png": "[encoded data removed]",
      "text/plain": [
       "<matplotlib.figure.Figure at 0x2ae2a4d1cbd0>"
      ]
     },
     "metadata": {},
     "output_type": "display_data"
    }
   ],
   "source": [
    "g = sns.FacetGrid(modalities_genes, **facet_kws)\n",
    "g.map(cdfplot, col)\n",
    "g.set(ylim=(0.8, 1), yticks=(0.8, 0.9, 1), ylabel='Cumulative Distribution', xlabel='Gene Phylostratum')\n",
    "g.savefig('{}/{}_cdf.pdf'.format(figure_folder, col))"
   ]
  },
  {
   "cell_type": "markdown",
   "metadata": {},
   "source": [
    "### Statistical testing - Kruskal-Wallis test vs constitutive"
   ]
  },
  {
   "cell_type": "code",
   "execution_count": 75,
   "metadata": {
    "collapsed": false
   },
   "outputs": [
    {
     "name": "stdout",
     "output_type": "stream",
     "text": [
      "MN\n",
      "\t ambivalent\n",
      "\t\t KruskalResult(statistic=0.8111665200764584, pvalue=0.36777559330013188)\n",
      "\t bimodal\n",
      "\t\t KruskalResult(statistic=34.957999614670925, pvalue=3.368944315208086e-09)\n",
      "\t excluded\n",
      "\t\t KruskalResult(statistic=40.708805170070171, pvalue=1.7668922158091563e-10)\n",
      "\t included\n",
      "\t\t KruskalResult(statistic=17.750257742041441, pvalue=2.5188336614778732e-05)\n",
      "NPC\n",
      "\t ambivalent\n",
      "\t\t KruskalResult(statistic=0.8111665200764584, pvalue=0.36777559330013188)\n",
      "\t bimodal\n",
      "\t\t KruskalResult(statistic=53.672493882220792, pvalue=2.3685625453460313e-13)\n",
      "\t excluded\n",
      "\t\t KruskalResult(statistic=38.562312018432856, pvalue=5.3033162935111526e-10)\n",
      "\t included\n",
      "\t\t KruskalResult(statistic=20.681195297861475, pvalue=5.424613569368916e-06)\n",
      "iPSC\n",
      "\t ambivalent\n",
      "\t\t KruskalResult(statistic=4.381907698648007, pvalue=0.036322322810751796)\n",
      "\t bimodal\n",
      "\t\t KruskalResult(statistic=69.47921199512524, pvalue=7.7224146823693035e-17)\n",
      "\t concurrent\n",
      "\t\t KruskalResult(statistic=0.8111665200764584, pvalue=0.36777559330013188)\n",
      "\t excluded\n",
      "\t\t KruskalResult(statistic=52.927666012421945, pvalue=3.4606066646133546e-13)\n",
      "\t included\n",
      "\t\t KruskalResult(statistic=24.84034690968295, pvalue=6.2280141937072997e-07)\n"
     ]
    }
   ],
   "source": [
    "from scipy.stats.mstats import kruskalwallis\n",
    "\n",
    "for phenotype, phenotype_df in modalities_genes.groupby(['phenotype']):\n",
    "    six.print_(phenotype)\n",
    "    grouped = phenotype_df.groupby('modality')\n",
    "    constitutive = grouped.get_group('constitutive')\n",
    "    \n",
    "    for modality, modality_df in grouped:\n",
    "        if modality == 'constitutive':\n",
    "            continue\n",
    "        six.print_('\\t', modality)\n",
    "\n",
    "        result = kruskalwallis(modality_df[col], constitutive[col])\n",
    "        six.print_('\\t\\t', result)"
   ]
  },
  {
   "cell_type": "code",
   "execution_count": null,
   "metadata": {
    "collapsed": true
   },
   "outputs": [],
   "source": []
  }
 ],
 "metadata": {
  "kernelspec": {
   "display_name": "Python 2",
   "language": "python",
   "name": "python2"
  },
  "language_info": {
   "codemirror_mode": {
    "name": "ipython",
    "version": 2
   },
   "file_extension": ".py",
   "mimetype": "text/x-python",
   "name": "python",
   "nbconvert_exporter": "python",
   "pygments_lexer": "ipython2",
   "version": "2.7.11"
  }
 },
 "nbformat": 4,
 "nbformat_minor": 0
}
