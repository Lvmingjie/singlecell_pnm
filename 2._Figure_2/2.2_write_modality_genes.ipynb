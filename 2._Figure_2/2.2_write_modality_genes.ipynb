{
 "cells": [
  {
   "cell_type": "code",
   "execution_count": 1,
   "metadata": {
    "collapsed": false
   },
   "outputs": [
    {
     "name": "stderr",
     "output_type": "stream",
     "text": [
      "/home/obotvinnik/anaconda/lib/python2.7/site-packages/matplotlib/__init__.py:810: UserWarning: Found matplotlib configuration in ~/.matplotlib/. To conform with the XDG base directory standard, this configuration location has been deprecated on Linux, and the new location is now /home/obotvinnik/.config/matplotlib/. Please move your configuration there to ensure that matplotlib will continue to find it in the future.\n",
      "  _get_xdg_config_dir())\n",
      "/home/obotvinnik/anaconda/lib/python2.7/site-packages/flotilla/__init__.py:55: DtypeWarning: Columns (19) have mixed types. Specify dtype option on import or set low_memory=False.\n",
      "  load_species_data=load_species_data)\n"
     ]
    },
    {
     "name": "stdout",
     "output_type": "stream",
     "text": [
      "2016-05-13 09:16:50\tReading datapackage from /projects/ps-yeolab/obotvinnik/flotilla_projects/singlecell_pnm_figure2_modalities_bayesian/datapackage.json\n",
      "2016-05-13 09:16:50\tParsing datapackage to create a Study object\n",
      "2016-05-13 09:17:23\tInitializing Study\n",
      "2016-05-13 09:17:23\tInitializing Predictor configuration manager for Study\n",
      "2016-05-13 09:17:23\tPredictor ExtraTreesClassifier is of type <class 'sklearn.ensemble.forest.ExtraTreesClassifier'>\n",
      "2016-05-13 09:17:23\tAdded ExtraTreesClassifier to default predictors\n",
      "2016-05-13 09:17:23\tPredictor ExtraTreesRegressor is of type <class 'sklearn.ensemble.forest.ExtraTreesRegressor'>\n",
      "2016-05-13 09:17:23\tAdded ExtraTreesRegressor to default predictors\n",
      "2016-05-13 09:17:23\tPredictor GradientBoostingClassifier is of type <class 'sklearn.ensemble.gradient_boosting.GradientBoostingClassifier'>\n",
      "2016-05-13 09:17:23\tAdded GradientBoostingClassifier to default predictors\n",
      "2016-05-13 09:17:23\tPredictor GradientBoostingRegressor is of type <class 'sklearn.ensemble.gradient_boosting.GradientBoostingRegressor'>\n",
      "2016-05-13 09:17:23\tAdded GradientBoostingRegressor to default predictors\n",
      "2016-05-13 09:17:27\tBuilding Gene Ontology database...\n",
      "2016-05-13 09:17:34\t\tDone.\n",
      "2016-05-13 09:17:34\tLoading metadata\n",
      "2016-05-13 09:17:34\tLoading expression data\n",
      "2016-05-13 09:17:34\tInitializing expression\n",
      "2016-05-13 09:17:34\tDone initializing expression\n",
      "2016-05-13 09:17:36\tLoading splicing data\n",
      "2016-05-13 09:17:36\tInitializing splicing\n",
      "2016-05-13 09:17:36\tDone initializing splicing\n",
      "2016-05-13 09:17:36\tSuccessfully initialized a Study object!\n"
     ]
    }
   ],
   "source": [
    "%load_ext autoreload\n",
    "%autoreload 2\n",
    "\n",
    "import matplotlib.pyplot as plt\n",
    "import seaborn as sns\n",
    "import numpy as np\n",
    "import pandas as pd\n",
    "import six\n",
    "\n",
    "sns.set(style='ticks', context='paper', rc={'font.sans-serif':'Arial', 'pdf.fonttype': 42})\n",
    "\n",
    "%matplotlib inline\n",
    "\n",
    "\n",
    "folder = 'figures'\n",
    "\n",
    "import flotilla\n",
    "\n",
    "flotilla_dir = '/projects/ps-yeolab/obotvinnik/flotilla_projects'\n",
    "study = flotilla.embark('singlecell_pnm_figure2_modalities_bayesian', flotilla_dir=flotilla_dir)"
   ]
  },
  {
   "cell_type": "code",
   "execution_count": 7,
   "metadata": {
    "collapsed": false
   },
   "outputs": [],
   "source": [
    "data_folder = '{}/modality_genes'.format(folder)\n",
    "! mkdir -p $data_folder"
   ]
  },
  {
   "cell_type": "code",
   "execution_count": 8,
   "metadata": {
    "collapsed": true
   },
   "outputs": [],
   "source": [
    "study.splicing.feature_expression_id_col = 'ensembl_id'"
   ]
  },
  {
   "cell_type": "code",
   "execution_count": 9,
   "metadata": {
    "collapsed": false
   },
   "outputs": [],
   "source": [
    "for (phenotype, modality), df in study.supplemental.modalities_tidy.groupby(['phenotype', 'modality']):\n",
    "    genes = pd.Series(list(set(study.splicing.splicing_to_expression_id(df['event_id']))))\n",
    "    genes.to_csv('{}/{}_{}_ensembl_ids.txt'.format(data_folder, phenotype, modality), index=False)\n",
    "    \n",
    "    names = study.expression.feature_data.gene_name[genes]\n",
    "    names.to_csv('{}/{}_{}_gene_names.txt'.format(data_folder, phenotype, modality), index=False)"
   ]
  },
  {
   "cell_type": "code",
   "execution_count": null,
   "metadata": {
    "collapsed": true
   },
   "outputs": [],
   "source": []
  },
  {
   "cell_type": "code",
   "execution_count": null,
   "metadata": {
    "collapsed": true
   },
   "outputs": [],
   "source": []
  }
 ],
 "metadata": {
  "kernelspec": {
   "display_name": "Python 2",
   "language": "python",
   "name": "python2"
  },
  "language_info": {
   "codemirror_mode": {
    "name": "ipython",
    "version": 2
   },
   "file_extension": ".py",
   "mimetype": "text/x-python",
   "name": "python",
   "nbconvert_exporter": "python",
   "pygments_lexer": "ipython2",
   "version": "2.7.10"
  }
 },
 "nbformat": 4,
 "nbformat_minor": 0
}
