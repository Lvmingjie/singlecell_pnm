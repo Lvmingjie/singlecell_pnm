{
 "cells": [
  {
   "cell_type": "code",
   "execution_count": 2,
   "metadata": {
    "collapsed": false
   },
   "outputs": [
    {
     "name": "stdout",
     "output_type": "stream",
     "text": [
      "2015-09-30 10:50:53\tReading datapackage from /home/obotvinnik/flotilla_projects/singlecell_pnm_figure2_modalities/datapackage.json\n",
      "2015-09-30 10:50:53\tParsing datapackage to create a Study object\n",
      "2015-09-30 10:52:03\tInitializing Study\n",
      "2015-09-30 10:52:03\tInitializing Predictor configuration manager for Study\n",
      "2015-09-30 10:52:03\tPredictor ExtraTreesClassifier is of type <class 'sklearn.ensemble.forest.ExtraTreesClassifier'>\n",
      "2015-09-30 10:52:03\tAdded ExtraTreesClassifier to default predictors\n",
      "2015-09-30 10:52:03\tPredictor ExtraTreesRegressor is of type <class 'sklearn.ensemble.forest.ExtraTreesRegressor'>\n",
      "2015-09-30 10:52:03\tAdded ExtraTreesRegressor to default predictors\n",
      "2015-09-30 10:52:03\tPredictor GradientBoostingClassifier is of type <class 'sklearn.ensemble.gradient_boosting.GradientBoostingClassifier'>\n",
      "2015-09-30 10:52:03\tAdded GradientBoostingClassifier to default predictors\n",
      "2015-09-30 10:52:03\tPredictor GradientBoostingRegressor is of type <class 'sklearn.ensemble.gradient_boosting.GradientBoostingRegressor'>\n",
      "2015-09-30 10:52:03\tAdded GradientBoostingRegressor to default predictors\n",
      "2015-09-30 10:52:13\tBuilding Gene Ontology database...\n",
      "2015-09-30 10:52:27\t\tDone.\n",
      "2015-09-30 10:52:29\tLoading metadata\n",
      "2015-09-30 10:52:29\tLoading expression data\n",
      "2015-09-30 10:52:29\tInitializing expression\n",
      "2015-09-30 10:52:30\tDone initializing expression\n",
      "2015-09-30 10:52:32\tLoading splicing data\n",
      "2015-09-30 10:52:32\tInitializing splicing\n",
      "2015-09-30 10:52:32\tDone initializing splicing\n",
      "2015-09-30 10:52:32\tSuccessfully initialized a Study object!\n"
     ]
    },
    {
     "name": "stderr",
     "output_type": "stream",
     "text": [
      "/home/obotvinnik/anaconda/lib/python2.7/site-packages/matplotlib/__init__.py:784: UserWarning: Found matplotlib configuration in ~/.matplotlib/. To conform with the XDG base directory standard, this configuration location has been deprecated on Linux, and the new location is now /home/obotvinnik/.config/matplotlib/. Please move your configuration there to ensure that matplotlib will continue to find it in the future.\n",
      "  _get_xdg_config_dir())\n"
     ]
    }
   ],
   "source": [
    "%load_ext autoreload\n",
    "%autoreload 2\n",
    "\n",
    "\n",
    "import modish\n",
    "import matplotlib.pyplot as plt\n",
    "import seaborn as sns\n",
    "import numpy as np\n",
    "import pandas as pd\n",
    "\n",
    "sns.set(style='ticks', context='talk', rc={'font.sans-serif':'Arial', 'pdf.fonttype': 42})\n",
    "\n",
    "%matplotlib inline\n",
    "\n",
    "\n",
    "folder = '/home/obotvinnik/Dropbox/figures2/singlecell_pnm/figure2_modalities_motifs'\n",
    "\n",
    "import flotilla\n",
    "\n",
    "study = flotilla.embark('singlecell_pnm_figure2_modalities')\n",
    "not_outliers = study.splicing.singles.index.difference(study.splicing.outliers.index)\n",
    "\n",
    "psi = study.splicing.singles.ix[not_outliers]\n",
    "grouped = psi.groupby(study.sample_id_to_phenotype)\n",
    "psi_filtered = grouped.apply(lambda x: x.dropna(axis=1, thresh=20))\n",
    "modality_order = ['~0', 'middle', '~1', 'bimodal', 'ambiguous']\n",
    "modality_colors = dict(zip(modality_order, sns.color_palette('deep')))\n",
    "\n",
    "modality_factorplot_kws = dict(hue_order=modality_order, order=study.phenotype_order)"
   ]
  },
  {
   "cell_type": "markdown",
   "metadata": {},
   "source": [
    "### Make BED files of each modality within each celltype\n",
    "\n",
    "Use the other modalities, within that celltype, as background."
   ]
  },
  {
   "cell_type": "code",
   "execution_count": 3,
   "metadata": {
    "collapsed": false
   },
   "outputs": [
    {
     "name": "stdout",
     "output_type": "stream",
     "text": [
      "mkdir: cannot create directory `/projects/ps-yeolab/obotvinnik/singlecell_pnms/figure2_modalities': File exists\n",
      "1071 /projects/ps-yeolab/obotvinnik/singlecell_pnms/figure2_modalities/skipped_exon_exon2_MN_bimodal.bed\n",
      "9028 /projects/ps-yeolab/obotvinnik/singlecell_pnms/figure2_modalities/skipped_exon_exon2_MN_bimodal_background.bed\n",
      "1378 /projects/ps-yeolab/obotvinnik/singlecell_pnms/figure2_modalities/skipped_exon_exon2_MN_~0.bed\n",
      "8721 /projects/ps-yeolab/obotvinnik/singlecell_pnms/figure2_modalities/skipped_exon_exon2_MN_~0_background.bed\n",
      "7650 /projects/ps-yeolab/obotvinnik/singlecell_pnms/figure2_modalities/skipped_exon_exon2_MN_~1.bed\n",
      "2449 /projects/ps-yeolab/obotvinnik/singlecell_pnms/figure2_modalities/skipped_exon_exon2_MN_~1_background.bed\n",
      "2015 /projects/ps-yeolab/obotvinnik/singlecell_pnms/figure2_modalities/skipped_exon_exon2_NPC_bimodal.bed\n",
      "15932 /projects/ps-yeolab/obotvinnik/singlecell_pnms/figure2_modalities/skipped_exon_exon2_NPC_bimodal_background.bed\n",
      "2407 /projects/ps-yeolab/obotvinnik/singlecell_pnms/figure2_modalities/skipped_exon_exon2_NPC_~0.bed\n",
      "15540 /projects/ps-yeolab/obotvinnik/singlecell_pnms/figure2_modalities/skipped_exon_exon2_NPC_~0_background.bed\n",
      "13525 /projects/ps-yeolab/obotvinnik/singlecell_pnms/figure2_modalities/skipped_exon_exon2_NPC_~1.bed\n",
      "4422 /projects/ps-yeolab/obotvinnik/singlecell_pnms/figure2_modalities/skipped_exon_exon2_NPC_~1_background.bed\n",
      "3220 /projects/ps-yeolab/obotvinnik/singlecell_pnms/figure2_modalities/skipped_exon_exon2_iPSC_bimodal.bed\n",
      "22080 /projects/ps-yeolab/obotvinnik/singlecell_pnms/figure2_modalities/skipped_exon_exon2_iPSC_bimodal_background.bed\n",
      "44 /projects/ps-yeolab/obotvinnik/singlecell_pnms/figure2_modalities/skipped_exon_exon2_iPSC_multimodal.bed\n",
      "25256 /projects/ps-yeolab/obotvinnik/singlecell_pnms/figure2_modalities/skipped_exon_exon2_iPSC_multimodal_background.bed\n",
      "3471 /projects/ps-yeolab/obotvinnik/singlecell_pnms/figure2_modalities/skipped_exon_exon2_iPSC_~0.bed\n",
      "21829 /projects/ps-yeolab/obotvinnik/singlecell_pnms/figure2_modalities/skipped_exon_exon2_iPSC_~0_background.bed\n",
      "18565 /projects/ps-yeolab/obotvinnik/singlecell_pnms/figure2_modalities/skipped_exon_exon2_iPSC_~1.bed\n",
      "6735 /projects/ps-yeolab/obotvinnik/singlecell_pnms/figure2_modalities/skipped_exon_exon2_iPSC_~1_background.bed\n",
      "CPU times: user 10.2 s, sys: 698 ms, total: 10.9 s\n",
      "Wall time: 13.9 s\n"
     ]
    }
   ],
   "source": [
    "%%time \n",
    "\n",
    "bed_folder = '/projects/ps-yeolab/obotvinnik/singlecell_pnms/figure2_modalities'\n",
    "! mkdir $bed_folder\n",
    "import pybedtools\n",
    "\n",
    "DIR = '/projects/ps-yeolab/obotvinnik/singlecell_pnms'\n",
    "\n",
    "exon_bedfile = '{}/skipped_exon_exon2.bed'.format(DIR)\n",
    "exon_bed = pybedtools.BedTool(exon_bedfile)\n",
    "\n",
    "for phenotype, phenotype_df in study.supplemental.modalities_tidy.groupby('phenotype'):\n",
    "    background_events = set(phenotype_df.event_name)\n",
    "    for modality, modality_df in phenotype_df.groupby('modality'):\n",
    "        event_names = set(modality_df.event_name)\n",
    "        format_args = bed_folder, phenotype, modality\n",
    "        filtered_bed = exon_bed.filter(lambda x: x.name in event_names)\n",
    "        filtered_filename = '{}/skipped_exon_exon2_{}_{}.bed'.format(*format_args)\n",
    "        filtered_bed.saveas(filtered_filename)\n",
    "\n",
    "        background_bed = exon_bed.filter(lambda x: x.name not in event_names and x.name in background_events)\n",
    "        background_filename = '{}/skipped_exon_exon2_{}_{}_background.bed'.format(*format_args)\n",
    "        background_bed.saveas(background_filename)\n",
    "\n",
    "        ! wc -l $filtered_filename\n",
    "        ! wc -l $background_filename"
   ]
  },
  {
   "cell_type": "code",
   "execution_count": 4,
   "metadata": {
    "collapsed": false
   },
   "outputs": [
    {
     "name": "stdout",
     "output_type": "stream",
     "text": [
      "mkdir: cannot create directory `/home/obotvinnik/projects/singlecell_pnms/analysis/homer/': File exists\r\n"
     ]
    }
   ],
   "source": [
    "mkdir /home/obotvinnik/projects/singlecell_pnms/analysis/homer/"
   ]
  },
  {
   "cell_type": "markdown",
   "metadata": {},
   "source": [
    "## HOMER enrichment\n"
   ]
  },
  {
   "cell_type": "code",
   "execution_count": 5,
   "metadata": {
    "collapsed": false
   },
   "outputs": [],
   "source": [
    "homer_dir = '{}/homer'.format(bed_folder)\n",
    "!mkdir -p $homer_dir"
   ]
  },
  {
   "cell_type": "markdown",
   "metadata": {},
   "source": [
    "### First extract upstream/downstream intron sequences"
   ]
  },
  {
   "cell_type": "code",
   "execution_count": 6,
   "metadata": {
    "collapsed": false,
    "scrolled": false
   },
   "outputs": [
    {
     "name": "stdout",
     "output_type": "stream",
     "text": [
      "skipped_exon_exon2_NPC_bimodal_background.bed\n",
      "\t15932 15932\n",
      "\t/projects/ps-yeolab/obotvinnik/singlecell_pnms/figure2_modalities/skipped_exon_exon2_NPC_bimodal_background_downstream200.bed\n",
      "15932 /projects/ps-yeolab/obotvinnik/singlecell_pnms/figure2_modalities/skipped_exon_exon2_NPC_bimodal_background_downstream200.bed\n",
      "skipped_exon_exon2_MN_~0_background.bed\n",
      "\t8721 8721\n",
      "\t/projects/ps-yeolab/obotvinnik/singlecell_pnms/figure2_modalities/skipped_exon_exon2_MN_~0_background_downstream200.bed\n",
      "8721 /projects/ps-yeolab/obotvinnik/singlecell_pnms/figure2_modalities/skipped_exon_exon2_MN_~0_background_downstream200.bed\n",
      "skipped_exon_exon2_MN_~1.bed\n",
      "\t7650 7650\n",
      "\t/projects/ps-yeolab/obotvinnik/singlecell_pnms/figure2_modalities/skipped_exon_exon2_MN_~1_downstream200.bed\n",
      "7650 /projects/ps-yeolab/obotvinnik/singlecell_pnms/figure2_modalities/skipped_exon_exon2_MN_~1_downstream200.bed\n",
      "skipped_exon_exon2_iPSC_bimodal.bed\n",
      "\t3220 3220\n",
      "\t/projects/ps-yeolab/obotvinnik/singlecell_pnms/figure2_modalities/skipped_exon_exon2_iPSC_bimodal_downstream200.bed\n",
      "3220 /projects/ps-yeolab/obotvinnik/singlecell_pnms/figure2_modalities/skipped_exon_exon2_iPSC_bimodal_downstream200.bed\n",
      "skipped_exon_exon2_iPSC_~0.bed\n",
      "\t3471 3471\n",
      "\t/projects/ps-yeolab/obotvinnik/singlecell_pnms/figure2_modalities/skipped_exon_exon2_iPSC_~0_downstream200.bed\n",
      "3471 /projects/ps-yeolab/obotvinnik/singlecell_pnms/figure2_modalities/skipped_exon_exon2_iPSC_~0_downstream200.bed\n",
      "skipped_exon_exon2_iPSC_multimodal_background.bed\n",
      "\t25256 25256\n",
      "\t/projects/ps-yeolab/obotvinnik/singlecell_pnms/figure2_modalities/skipped_exon_exon2_iPSC_multimodal_background_downstream200.bed\n",
      "25256 /projects/ps-yeolab/obotvinnik/singlecell_pnms/figure2_modalities/skipped_exon_exon2_iPSC_multimodal_background_downstream200.bed\n",
      "skipped_exon_exon2_MN_bimodal.bed\n",
      "\t1071 1071\n",
      "\t/projects/ps-yeolab/obotvinnik/singlecell_pnms/figure2_modalities/skipped_exon_exon2_MN_bimodal_downstream200.bed\n",
      "1071 /projects/ps-yeolab/obotvinnik/singlecell_pnms/figure2_modalities/skipped_exon_exon2_MN_bimodal_downstream200.bed\n",
      "skipped_exon_exon2_NPC_~0_background.bed\n",
      "\t15540 15540\n",
      "\t/projects/ps-yeolab/obotvinnik/singlecell_pnms/figure2_modalities/skipped_exon_exon2_NPC_~0_background_downstream200.bed\n",
      "15540 /projects/ps-yeolab/obotvinnik/singlecell_pnms/figure2_modalities/skipped_exon_exon2_NPC_~0_background_downstream200.bed\n",
      "skipped_exon_exon2_NPC_bimodal.bed\n",
      "\t2015 2015\n",
      "\t/projects/ps-yeolab/obotvinnik/singlecell_pnms/figure2_modalities/skipped_exon_exon2_NPC_bimodal_downstream200.bed\n",
      "2015 /projects/ps-yeolab/obotvinnik/singlecell_pnms/figure2_modalities/skipped_exon_exon2_NPC_bimodal_downstream200.bed\n",
      "skipped_exon_exon2_iPSC_~1.bed\n",
      "\t18565 18565\n",
      "\t/projects/ps-yeolab/obotvinnik/singlecell_pnms/figure2_modalities/skipped_exon_exon2_iPSC_~1_downstream200.bed\n",
      "18565 /projects/ps-yeolab/obotvinnik/singlecell_pnms/figure2_modalities/skipped_exon_exon2_iPSC_~1_downstream200.bed\n",
      "skipped_exon_exon2_iPSC_~0_background.bed\n",
      "\t21829 21829\n",
      "\t/projects/ps-yeolab/obotvinnik/singlecell_pnms/figure2_modalities/skipped_exon_exon2_iPSC_~0_background_downstream200.bed\n",
      "21829 /projects/ps-yeolab/obotvinnik/singlecell_pnms/figure2_modalities/skipped_exon_exon2_iPSC_~0_background_downstream200.bed\n",
      "skipped_exon_exon2_MN_~0.bed\n",
      "\t1378 1378\n",
      "\t/projects/ps-yeolab/obotvinnik/singlecell_pnms/figure2_modalities/skipped_exon_exon2_MN_~0_downstream200.bed\n",
      "1378 /projects/ps-yeolab/obotvinnik/singlecell_pnms/figure2_modalities/skipped_exon_exon2_MN_~0_downstream200.bed\n",
      "skipped_exon_exon2_iPSC_~1_background.bed\n",
      "\t6735 6735\n",
      "\t/projects/ps-yeolab/obotvinnik/singlecell_pnms/figure2_modalities/skipped_exon_exon2_iPSC_~1_background_downstream200.bed\n",
      "6735 /projects/ps-yeolab/obotvinnik/singlecell_pnms/figure2_modalities/skipped_exon_exon2_iPSC_~1_background_downstream200.bed\n",
      "skipped_exon_exon2_iPSC_bimodal_background.bed\n",
      "\t22080 22080\n",
      "\t/projects/ps-yeolab/obotvinnik/singlecell_pnms/figure2_modalities/skipped_exon_exon2_iPSC_bimodal_background_downstream200.bed\n",
      "22080 /projects/ps-yeolab/obotvinnik/singlecell_pnms/figure2_modalities/skipped_exon_exon2_iPSC_bimodal_background_downstream200.bed\n",
      "skipped_exon_exon2_NPC_~0.bed\n",
      "\t2407 2407\n",
      "\t/projects/ps-yeolab/obotvinnik/singlecell_pnms/figure2_modalities/skipped_exon_exon2_NPC_~0_downstream200.bed\n",
      "2407 /projects/ps-yeolab/obotvinnik/singlecell_pnms/figure2_modalities/skipped_exon_exon2_NPC_~0_downstream200.bed\n",
      "skipped_exon_exon2_NPC_~1_background.bed\n",
      "\t4422 4422\n",
      "\t/projects/ps-yeolab/obotvinnik/singlecell_pnms/figure2_modalities/skipped_exon_exon2_NPC_~1_background_downstream200.bed\n",
      "4422 /projects/ps-yeolab/obotvinnik/singlecell_pnms/figure2_modalities/skipped_exon_exon2_NPC_~1_background_downstream200.bed\n",
      "skipped_exon_exon2_iPSC_multimodal.bed\n",
      "\t44 44\n",
      "\t/projects/ps-yeolab/obotvinnik/singlecell_pnms/figure2_modalities/skipped_exon_exon2_iPSC_multimodal_downstream200.bed\n",
      "44 /projects/ps-yeolab/obotvinnik/singlecell_pnms/figure2_modalities/skipped_exon_exon2_iPSC_multimodal_downstream200.bed\n",
      "skipped_exon_exon2_NPC_~1.bed\n",
      "\t13525 13525\n",
      "\t/projects/ps-yeolab/obotvinnik/singlecell_pnms/figure2_modalities/skipped_exon_exon2_NPC_~1_downstream200.bed\n",
      "13525 /projects/ps-yeolab/obotvinnik/singlecell_pnms/figure2_modalities/skipped_exon_exon2_NPC_~1_downstream200.bed\n",
      "skipped_exon_exon2_MN_~1_background.bed\n",
      "\t2449 2449\n",
      "\t/projects/ps-yeolab/obotvinnik/singlecell_pnms/figure2_modalities/skipped_exon_exon2_MN_~1_background_downstream200.bed\n",
      "2449 /projects/ps-yeolab/obotvinnik/singlecell_pnms/figure2_modalities/skipped_exon_exon2_MN_~1_background_downstream200.bed\n",
      "skipped_exon_exon2_MN_bimodal_background.bed\n",
      "\t9028 9028\n",
      "\t/projects/ps-yeolab/obotvinnik/singlecell_pnms/figure2_modalities/skipped_exon_exon2_MN_bimodal_background_downstream200.bed\n",
      "9028 /projects/ps-yeolab/obotvinnik/singlecell_pnms/figure2_modalities/skipped_exon_exon2_MN_bimodal_background_downstream200.bed\n"
     ]
    }
   ],
   "source": [
    "import os\n",
    "import glob\n",
    "import pybedtools\n",
    "\n",
    "nt = 200\n",
    "\n",
    "directions = 'upstream', 'downstream'\n",
    "\n",
    "for bedfile in glob.iglob('{}/skipped_exon_exon2*.bed'.format(bed_folder)):\n",
    "    if 'stream' in bedfile:\n",
    "        continue\n",
    "    \n",
    "    basename = os.path.basename(bedfile)\n",
    "    print basename\n",
    "    prefix = basename.split('.bed')[0]\n",
    "    bed = pybedtools.BedTool(bedfile)\n",
    "    \n",
    "    for direction in directions:\n",
    "        # Get downstream intron\n",
    "        if direction == 'downstream':\n",
    "            intron = bed.flank(l=0, r=nt, s=True, g=pybedtools.chromsizes('hg19'))\n",
    "        elif direction == 'upstream':\n",
    "            intron = bed.flank(l=nt, r=0, s=True, g=pybedtools.chromsizes('hg19'))\n",
    "            \n",
    "    # Saved every exon that was exactly upstream or downstream of a junction,\n",
    "    # So when taking the flanking sequence, there's a lot of repetition\n",
    "    unique = pybedtools.BedTool(list(set(x for x in intron)))\n",
    "    \n",
    "    \n",
    "    print '\\t', len(intron), len(unique)\n",
    "    saveas = '{}/{}_{}{}.bed'.format(bed_folder, prefix, direction, nt)\n",
    "    print '\\t', saveas\n",
    "    unique.saveas(saveas)\n",
    "    ! wc -l $saveas"
   ]
  },
  {
   "cell_type": "markdown",
   "metadata": {},
   "source": [
    "## Enrichment of phenotype modality\n",
    "\n",
    "#### Background: All other modalities, within that phenotype"
   ]
  },
  {
   "cell_type": "code",
   "execution_count": 7,
   "metadata": {
    "collapsed": false
   },
   "outputs": [
    {
     "name": "stderr",
     "output_type": "stream",
     "text": [
      "running 30 tasks as an array-job.\n",
      "job ID: 3321465\n"
     ]
    },
    {
     "name": "stdout",
     "output_type": "stream",
     "text": [
      "\n",
      "/home/yeo-lab/software/homer/bin/findMotifsGenome.pl /projects/ps-yeolab/obotvinnik/singlecell_pnms/figure2_modalities/skipped_exon_exon2_NPC_~0_downstream200.bed hg19 /projects/ps-yeolab/obotvinnik/singlecell_pnms/figure2_modalities/homer/skipped_exon_exon2_NPC_~0_downstream200_vs_alternative_background -bg /projects/ps-yeolab/obotvinnik/singlecell_pnms/figure2_modalities/skipped_exon_exon2_NPC_~0_background_downstream200.bed -rna -len 4,5,6,7 -mset vertebrates -mis 1 -p 4\n",
      "\n",
      "/home/yeo-lab/software/homer/bin/findMotifsGenome.pl /projects/ps-yeolab/obotvinnik/singlecell_pnms/figure2_modalities/skipped_exon_exon2_MN_~1.bed hg19 /projects/ps-yeolab/obotvinnik/singlecell_pnms/figure2_modalities/homer/skipped_exon_exon2_MN_~1_vs_alternative_background -bg /projects/ps-yeolab/obotvinnik/singlecell_pnms/figure2_modalities/skipped_exon_exon2_MN_~1_background.bed -rna -len 4,5,6,7 -mset vertebrates -mis 1 -p 4\n",
      "\n",
      "/home/yeo-lab/software/homer/bin/findMotifsGenome.pl /projects/ps-yeolab/obotvinnik/singlecell_pnms/figure2_modalities/skipped_exon_exon2_iPSC_multimodal_upstream200.bed hg19 /projects/ps-yeolab/obotvinnik/singlecell_pnms/figure2_modalities/homer/skipped_exon_exon2_iPSC_multimodal_upstream200_vs_alternative_background -bg /projects/ps-yeolab/obotvinnik/singlecell_pnms/figure2_modalities/skipped_exon_exon2_iPSC_multimodal_background_upstream200.bed -rna -len 4,5,6,7 -mset vertebrates -mis 1 -p 4\n",
      "\n",
      "/home/yeo-lab/software/homer/bin/findMotifsGenome.pl /projects/ps-yeolab/obotvinnik/singlecell_pnms/figure2_modalities/skipped_exon_exon2_iPSC_bimodal.bed hg19 /projects/ps-yeolab/obotvinnik/singlecell_pnms/figure2_modalities/homer/skipped_exon_exon2_iPSC_bimodal_vs_alternative_background -bg /projects/ps-yeolab/obotvinnik/singlecell_pnms/figure2_modalities/skipped_exon_exon2_iPSC_bimodal_background.bed -rna -len 4,5,6,7 -mset vertebrates -mis 1 -p 4\n",
      "\n",
      "/home/yeo-lab/software/homer/bin/findMotifsGenome.pl /projects/ps-yeolab/obotvinnik/singlecell_pnms/figure2_modalities/skipped_exon_exon2_iPSC_~0.bed hg19 /projects/ps-yeolab/obotvinnik/singlecell_pnms/figure2_modalities/homer/skipped_exon_exon2_iPSC_~0_vs_alternative_background -bg /projects/ps-yeolab/obotvinnik/singlecell_pnms/figure2_modalities/skipped_exon_exon2_iPSC_~0_background.bed -rna -len 4,5,6,7 -mset vertebrates -mis 1 -p 4\n",
      "\n",
      "/home/yeo-lab/software/homer/bin/findMotifsGenome.pl /projects/ps-yeolab/obotvinnik/singlecell_pnms/figure2_modalities/skipped_exon_exon2_iPSC_~1_downstream200.bed hg19 /projects/ps-yeolab/obotvinnik/singlecell_pnms/figure2_modalities/homer/skipped_exon_exon2_iPSC_~1_downstream200_vs_alternative_background -bg /projects/ps-yeolab/obotvinnik/singlecell_pnms/figure2_modalities/skipped_exon_exon2_iPSC_~1_background_downstream200.bed -rna -len 4,5,6,7 -mset vertebrates -mis 1 -p 4\n",
      "\n",
      "/home/yeo-lab/software/homer/bin/findMotifsGenome.pl /projects/ps-yeolab/obotvinnik/singlecell_pnms/figure2_modalities/skipped_exon_exon2_iPSC_multimodal_downstream200.bed hg19 /projects/ps-yeolab/obotvinnik/singlecell_pnms/figure2_modalities/homer/skipped_exon_exon2_iPSC_multimodal_downstream200_vs_alternative_background -bg /projects/ps-yeolab/obotvinnik/singlecell_pnms/figure2_modalities/skipped_exon_exon2_iPSC_multimodal_background_downstream200.bed -rna -len 4,5,6,7 -mset vertebrates -mis 1 -p 4\n",
      "\n",
      "/home/yeo-lab/software/homer/bin/findMotifsGenome.pl /projects/ps-yeolab/obotvinnik/singlecell_pnms/figure2_modalities/skipped_exon_exon2_MN_bimodal.bed hg19 /projects/ps-yeolab/obotvinnik/singlecell_pnms/figure2_modalities/homer/skipped_exon_exon2_MN_bimodal_vs_alternative_background -bg /projects/ps-yeolab/obotvinnik/singlecell_pnms/figure2_modalities/skipped_exon_exon2_MN_bimodal_background.bed -rna -len 4,5,6,7 -mset vertebrates -mis 1 -p 4\n",
      "\n",
      "/home/yeo-lab/software/homer/bin/findMotifsGenome.pl /projects/ps-yeolab/obotvinnik/singlecell_pnms/figure2_modalities/skipped_exon_exon2_iPSC_~0_upstream200.bed hg19 /projects/ps-yeolab/obotvinnik/singlecell_pnms/figure2_modalities/homer/skipped_exon_exon2_iPSC_~0_upstream200_vs_alternative_background -bg /projects/ps-yeolab/obotvinnik/singlecell_pnms/figure2_modalities/skipped_exon_exon2_iPSC_~0_background_upstream200.bed -rna -len 4,5,6,7 -mset vertebrates -mis 1 -p 4\n",
      "\n",
      "/home/yeo-lab/software/homer/bin/findMotifsGenome.pl /projects/ps-yeolab/obotvinnik/singlecell_pnms/figure2_modalities/skipped_exon_exon2_NPC_~1_downstream200.bed hg19 /projects/ps-yeolab/obotvinnik/singlecell_pnms/figure2_modalities/homer/skipped_exon_exon2_NPC_~1_downstream200_vs_alternative_background -bg /projects/ps-yeolab/obotvinnik/singlecell_pnms/figure2_modalities/skipped_exon_exon2_NPC_~1_background_downstream200.bed -rna -len 4,5,6,7 -mset vertebrates -mis 1 -p 4\n",
      "\n",
      "/home/yeo-lab/software/homer/bin/findMotifsGenome.pl /projects/ps-yeolab/obotvinnik/singlecell_pnms/figure2_modalities/skipped_exon_exon2_MN_~0_upstream200.bed hg19 /projects/ps-yeolab/obotvinnik/singlecell_pnms/figure2_modalities/homer/skipped_exon_exon2_MN_~0_upstream200_vs_alternative_background -bg /projects/ps-yeolab/obotvinnik/singlecell_pnms/figure2_modalities/skipped_exon_exon2_MN_~0_background_upstream200.bed -rna -len 4,5,6,7 -mset vertebrates -mis 1 -p 4\n",
      "\n",
      "/home/yeo-lab/software/homer/bin/findMotifsGenome.pl /projects/ps-yeolab/obotvinnik/singlecell_pnms/figure2_modalities/skipped_exon_exon2_NPC_~0_upstream200.bed hg19 /projects/ps-yeolab/obotvinnik/singlecell_pnms/figure2_modalities/homer/skipped_exon_exon2_NPC_~0_upstream200_vs_alternative_background -bg /projects/ps-yeolab/obotvinnik/singlecell_pnms/figure2_modalities/skipped_exon_exon2_NPC_~0_background_upstream200.bed -rna -len 4,5,6,7 -mset vertebrates -mis 1 -p 4\n",
      "\n",
      "/home/yeo-lab/software/homer/bin/findMotifsGenome.pl /projects/ps-yeolab/obotvinnik/singlecell_pnms/figure2_modalities/skipped_exon_exon2_NPC_bimodal.bed hg19 /projects/ps-yeolab/obotvinnik/singlecell_pnms/figure2_modalities/homer/skipped_exon_exon2_NPC_bimodal_vs_alternative_background -bg /projects/ps-yeolab/obotvinnik/singlecell_pnms/figure2_modalities/skipped_exon_exon2_NPC_bimodal_background.bed -rna -len 4,5,6,7 -mset vertebrates -mis 1 -p 4\n",
      "\n",
      "/home/yeo-lab/software/homer/bin/findMotifsGenome.pl /projects/ps-yeolab/obotvinnik/singlecell_pnms/figure2_modalities/skipped_exon_exon2_MN_~1_upstream200.bed hg19 /projects/ps-yeolab/obotvinnik/singlecell_pnms/figure2_modalities/homer/skipped_exon_exon2_MN_~1_upstream200_vs_alternative_background -bg /projects/ps-yeolab/obotvinnik/singlecell_pnms/figure2_modalities/skipped_exon_exon2_MN_~1_background_upstream200.bed -rna -len 4,5,6,7 -mset vertebrates -mis 1 -p 4\n",
      "\n",
      "/home/yeo-lab/software/homer/bin/findMotifsGenome.pl /projects/ps-yeolab/obotvinnik/singlecell_pnms/figure2_modalities/skipped_exon_exon2_iPSC_~1_upstream200.bed hg19 /projects/ps-yeolab/obotvinnik/singlecell_pnms/figure2_modalities/homer/skipped_exon_exon2_iPSC_~1_upstream200_vs_alternative_background -bg /projects/ps-yeolab/obotvinnik/singlecell_pnms/figure2_modalities/skipped_exon_exon2_iPSC_~1_background_upstream200.bed -rna -len 4,5,6,7 -mset vertebrates -mis 1 -p 4\n",
      "\n",
      "/home/yeo-lab/software/homer/bin/findMotifsGenome.pl /projects/ps-yeolab/obotvinnik/singlecell_pnms/figure2_modalities/skipped_exon_exon2_iPSC_~1.bed hg19 /projects/ps-yeolab/obotvinnik/singlecell_pnms/figure2_modalities/homer/skipped_exon_exon2_iPSC_~1_vs_alternative_background -bg /projects/ps-yeolab/obotvinnik/singlecell_pnms/figure2_modalities/skipped_exon_exon2_iPSC_~1_background.bed -rna -len 4,5,6,7 -mset vertebrates -mis 1 -p 4\n",
      "\n",
      "/home/yeo-lab/software/homer/bin/findMotifsGenome.pl /projects/ps-yeolab/obotvinnik/singlecell_pnms/figure2_modalities/skipped_exon_exon2_NPC_~1_upstream200.bed hg19 /projects/ps-yeolab/obotvinnik/singlecell_pnms/figure2_modalities/homer/skipped_exon_exon2_NPC_~1_upstream200_vs_alternative_background -bg /projects/ps-yeolab/obotvinnik/singlecell_pnms/figure2_modalities/skipped_exon_exon2_NPC_~1_background_upstream200.bed -rna -len 4,5,6,7 -mset vertebrates -mis 1 -p 4\n",
      "\n",
      "/home/yeo-lab/software/homer/bin/findMotifsGenome.pl /projects/ps-yeolab/obotvinnik/singlecell_pnms/figure2_modalities/skipped_exon_exon2_iPSC_bimodal_upstream200.bed hg19 /projects/ps-yeolab/obotvinnik/singlecell_pnms/figure2_modalities/homer/skipped_exon_exon2_iPSC_bimodal_upstream200_vs_alternative_background -bg /projects/ps-yeolab/obotvinnik/singlecell_pnms/figure2_modalities/skipped_exon_exon2_iPSC_bimodal_background_upstream200.bed -rna -len 4,5,6,7 -mset vertebrates -mis 1 -p 4\n",
      "\n",
      "/home/yeo-lab/software/homer/bin/findMotifsGenome.pl /projects/ps-yeolab/obotvinnik/singlecell_pnms/figure2_modalities/skipped_exon_exon2_iPSC_~0_downstream200.bed hg19 /projects/ps-yeolab/obotvinnik/singlecell_pnms/figure2_modalities/homer/skipped_exon_exon2_iPSC_~0_downstream200_vs_alternative_background -bg /projects/ps-yeolab/obotvinnik/singlecell_pnms/figure2_modalities/skipped_exon_exon2_iPSC_~0_background_downstream200.bed -rna -len 4,5,6,7 -mset vertebrates -mis 1 -p 4\n",
      "\n",
      "/home/yeo-lab/software/homer/bin/findMotifsGenome.pl /projects/ps-yeolab/obotvinnik/singlecell_pnms/figure2_modalities/skipped_exon_exon2_MN_~0.bed hg19 /projects/ps-yeolab/obotvinnik/singlecell_pnms/figure2_modalities/homer/skipped_exon_exon2_MN_~0_vs_alternative_background -bg /projects/ps-yeolab/obotvinnik/singlecell_pnms/figure2_modalities/skipped_exon_exon2_MN_~0_background.bed -rna -len 4,5,6,7 -mset vertebrates -mis 1 -p 4\n",
      "\n",
      "/home/yeo-lab/software/homer/bin/findMotifsGenome.pl /projects/ps-yeolab/obotvinnik/singlecell_pnms/figure2_modalities/skipped_exon_exon2_MN_~0_downstream200.bed hg19 /projects/ps-yeolab/obotvinnik/singlecell_pnms/figure2_modalities/homer/skipped_exon_exon2_MN_~0_downstream200_vs_alternative_background -bg /projects/ps-yeolab/obotvinnik/singlecell_pnms/figure2_modalities/skipped_exon_exon2_MN_~0_background_downstream200.bed -rna -len 4,5,6,7 -mset vertebrates -mis 1 -p 4\n",
      "\n",
      "/home/yeo-lab/software/homer/bin/findMotifsGenome.pl /projects/ps-yeolab/obotvinnik/singlecell_pnms/figure2_modalities/skipped_exon_exon2_NPC_~0.bed hg19 /projects/ps-yeolab/obotvinnik/singlecell_pnms/figure2_modalities/homer/skipped_exon_exon2_NPC_~0_vs_alternative_background -bg /projects/ps-yeolab/obotvinnik/singlecell_pnms/figure2_modalities/skipped_exon_exon2_NPC_~0_background.bed -rna -len 4,5,6,7 -mset vertebrates -mis 1 -p 4\n",
      "\n",
      "/home/yeo-lab/software/homer/bin/findMotifsGenome.pl /projects/ps-yeolab/obotvinnik/singlecell_pnms/figure2_modalities/skipped_exon_exon2_MN_bimodal_upstream200.bed hg19 /projects/ps-yeolab/obotvinnik/singlecell_pnms/figure2_modalities/homer/skipped_exon_exon2_MN_bimodal_upstream200_vs_alternative_background -bg /projects/ps-yeolab/obotvinnik/singlecell_pnms/figure2_modalities/skipped_exon_exon2_MN_bimodal_background_upstream200.bed -rna -len 4,5,6,7 -mset vertebrates -mis 1 -p 4\n",
      "\n",
      "/home/yeo-lab/software/homer/bin/findMotifsGenome.pl /projects/ps-yeolab/obotvinnik/singlecell_pnms/figure2_modalities/skipped_exon_exon2_NPC_bimodal_upstream200.bed hg19 /projects/ps-yeolab/obotvinnik/singlecell_pnms/figure2_modalities/homer/skipped_exon_exon2_NPC_bimodal_upstream200_vs_alternative_background -bg /projects/ps-yeolab/obotvinnik/singlecell_pnms/figure2_modalities/skipped_exon_exon2_NPC_bimodal_background_upstream200.bed -rna -len 4,5,6,7 -mset vertebrates -mis 1 -p 4\n",
      "\n",
      "/home/yeo-lab/software/homer/bin/findMotifsGenome.pl /projects/ps-yeolab/obotvinnik/singlecell_pnms/figure2_modalities/skipped_exon_exon2_MN_~1_downstream200.bed hg19 /projects/ps-yeolab/obotvinnik/singlecell_pnms/figure2_modalities/homer/skipped_exon_exon2_MN_~1_downstream200_vs_alternative_background -bg /projects/ps-yeolab/obotvinnik/singlecell_pnms/figure2_modalities/skipped_exon_exon2_MN_~1_background_downstream200.bed -rna -len 4,5,6,7 -mset vertebrates -mis 1 -p 4\n",
      "\n",
      "/home/yeo-lab/software/homer/bin/findMotifsGenome.pl /projects/ps-yeolab/obotvinnik/singlecell_pnms/figure2_modalities/skipped_exon_exon2_NPC_bimodal_downstream200.bed hg19 /projects/ps-yeolab/obotvinnik/singlecell_pnms/figure2_modalities/homer/skipped_exon_exon2_NPC_bimodal_downstream200_vs_alternative_background -bg /projects/ps-yeolab/obotvinnik/singlecell_pnms/figure2_modalities/skipped_exon_exon2_NPC_bimodal_background_downstream200.bed -rna -len 4,5,6,7 -mset vertebrates -mis 1 -p 4\n",
      "\n",
      "/home/yeo-lab/software/homer/bin/findMotifsGenome.pl /projects/ps-yeolab/obotvinnik/singlecell_pnms/figure2_modalities/skipped_exon_exon2_iPSC_multimodal.bed hg19 /projects/ps-yeolab/obotvinnik/singlecell_pnms/figure2_modalities/homer/skipped_exon_exon2_iPSC_multimodal_vs_alternative_background -bg /projects/ps-yeolab/obotvinnik/singlecell_pnms/figure2_modalities/skipped_exon_exon2_iPSC_multimodal_background.bed -rna -len 4,5,6,7 -mset vertebrates -mis 1 -p 4\n",
      "\n",
      "/home/yeo-lab/software/homer/bin/findMotifsGenome.pl /projects/ps-yeolab/obotvinnik/singlecell_pnms/figure2_modalities/skipped_exon_exon2_NPC_~1.bed hg19 /projects/ps-yeolab/obotvinnik/singlecell_pnms/figure2_modalities/homer/skipped_exon_exon2_NPC_~1_vs_alternative_background -bg /projects/ps-yeolab/obotvinnik/singlecell_pnms/figure2_modalities/skipped_exon_exon2_NPC_~1_background.bed -rna -len 4,5,6,7 -mset vertebrates -mis 1 -p 4\n",
      "\n",
      "/home/yeo-lab/software/homer/bin/findMotifsGenome.pl /projects/ps-yeolab/obotvinnik/singlecell_pnms/figure2_modalities/skipped_exon_exon2_iPSC_bimodal_downstream200.bed hg19 /projects/ps-yeolab/obotvinnik/singlecell_pnms/figure2_modalities/homer/skipped_exon_exon2_iPSC_bimodal_downstream200_vs_alternative_background -bg /projects/ps-yeolab/obotvinnik/singlecell_pnms/figure2_modalities/skipped_exon_exon2_iPSC_bimodal_background_downstream200.bed -rna -len 4,5,6,7 -mset vertebrates -mis 1 -p 4\n",
      "\n",
      "/home/yeo-lab/software/homer/bin/findMotifsGenome.pl /projects/ps-yeolab/obotvinnik/singlecell_pnms/figure2_modalities/skipped_exon_exon2_MN_bimodal_downstream200.bed hg19 /projects/ps-yeolab/obotvinnik/singlecell_pnms/figure2_modalities/homer/skipped_exon_exon2_MN_bimodal_downstream200_vs_alternative_background -bg /projects/ps-yeolab/obotvinnik/singlecell_pnms/figure2_modalities/skipped_exon_exon2_MN_bimodal_background_downstream200.bed -rna -len 4,5,6,7 -mset vertebrates -mis 1 -p 4\n"
     ]
    }
   ],
   "source": [
    "import os\n",
    "import fileinput\n",
    "\n",
    "from gscripts.qtools import Submitter\n",
    "import glob\n",
    "import itertools\n",
    "\n",
    "findMotifsGenome = '/home/yeo-lab/software/homer/bin/findMotifsGenome.pl'\n",
    "n_processors = 4\n",
    "homer_flags = '-rna -len 4,5,6,7 -mset vertebrates -mis 1 -p {}'.format(n_processors)\n",
    "\n",
    "commands = []\n",
    "\n",
    "\n",
    "for bedfile in glob.iglob('{}/skipped_exon_exon2*.bed'.format(bed_folder)):\n",
    "\n",
    "    basename = os.path.basename(bedfile)\n",
    "    prefix = basename.split('.')[0]\n",
    "    modality = prefix.split('_')[4]\n",
    "    if 'background' in basename:\n",
    "        continue\n",
    "    \n",
    "    background = bedfile.replace(modality, modality + '_background')\n",
    "    \n",
    "    out_dir = '{}/{}'.format(homer_dir, basename.replace('.bed', '_vs_alternative_background'))\n",
    "    if os.path.exists('{}/homerResults.html'):\n",
    "        print 'Already finished {}, moving on'.format(basename)\n",
    "        continue\n",
    "    command = '{} {} hg19 {} -bg {} {}'.format(\n",
    "        findMotifsGenome, bedfile, out_dir, background, homer_flags)\n",
    "    print '\\n', command\n",
    "    commands.append(command)\n",
    "#     ! $command\n",
    "jobname = 'homer_vs_alternative_background'\n",
    "sub = Submitter(commands, jobname, walltime='2:00:00', queue='home-scrm',\n",
    "               ppn=n_processors, write_and_submit=True, array=True,\n",
    "               out_filename='{}/{}.out'.format(homer_dir, jobname),\n",
    "               err_filename='{}/{}.err'.format(homer_dir, jobname),)"
   ]
  },
  {
   "cell_type": "markdown",
   "metadata": {},
   "source": []
  },
  {
   "cell_type": "code",
   "execution_count": null,
   "metadata": {
    "collapsed": true
   },
   "outputs": [],
   "source": []
  }
 ],
 "metadata": {
  "kernelspec": {
   "display_name": "Python 2",
   "language": "python",
   "name": "python2"
  },
  "language_info": {
   "codemirror_mode": {
    "name": "ipython",
    "version": 2
   },
   "file_extension": ".py",
   "mimetype": "text/x-python",
   "name": "python",
   "nbconvert_exporter": "python",
   "pygments_lexer": "ipython2",
   "version": "2.7.10"
  }
 },
 "nbformat": 4,
 "nbformat_minor": 0
}
