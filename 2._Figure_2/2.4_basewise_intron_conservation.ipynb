{
 "cells": [
  {
   "cell_type": "code",
   "execution_count": 1,
   "metadata": {
    "collapsed": false
   },
   "outputs": [
    {
     "name": "stdout",
     "output_type": "stream",
     "text": [
      "mkdir: cannot create directory `/home/obotvinnik/Dropbox/figures2/singlecell_pnm/figure2_modalities/bayesian': File exists\r\n"
     ]
    },
    {
     "name": "stderr",
     "output_type": "stream",
     "text": [
      "/home/obotvinnik/anaconda/lib/python2.7/site-packages/matplotlib/__init__.py:810: UserWarning: Found matplotlib configuration in ~/.matplotlib/. To conform with the XDG base directory standard, this configuration location has been deprecated on Linux, and the new location is now /home/obotvinnik/.config/matplotlib/. Please move your configuration there to ensure that matplotlib will continue to find it in the future.\n",
      "  _get_xdg_config_dir())\n",
      "/home/obotvinnik/anaconda/lib/python2.7/site-packages/flotilla/__init__.py:55: DtypeWarning: Columns (11,19,20) have mixed types. Specify dtype option on import or set low_memory=False.\n",
      "  load_species_data=load_species_data)\n"
     ]
    },
    {
     "name": "stdout",
     "output_type": "stream",
     "text": [
      "2016-02-23 09:18:48\tReading datapackage from /projects/ps-yeolab/obotvinnik/flotilla_projects/singlecell_pnm_figure2_modalities_bayesian/datapackage.json\n",
      "2016-02-23 09:18:48\tParsing datapackage to create a Study object\n",
      "2016-02-23 09:19:21\tInitializing Study\n",
      "2016-02-23 09:19:21\tInitializing Predictor configuration manager for Study\n",
      "2016-02-23 09:19:21\tPredictor ExtraTreesClassifier is of type <class 'sklearn.ensemble.forest.ExtraTreesClassifier'>\n",
      "2016-02-23 09:19:21\tAdded ExtraTreesClassifier to default predictors\n",
      "2016-02-23 09:19:21\tPredictor ExtraTreesRegressor is of type <class 'sklearn.ensemble.forest.ExtraTreesRegressor'>\n",
      "2016-02-23 09:19:21\tAdded ExtraTreesRegressor to default predictors\n",
      "2016-02-23 09:19:21\tPredictor GradientBoostingClassifier is of type <class 'sklearn.ensemble.gradient_boosting.GradientBoostingClassifier'>\n",
      "2016-02-23 09:19:21\tAdded GradientBoostingClassifier to default predictors\n",
      "2016-02-23 09:19:21\tPredictor GradientBoostingRegressor is of type <class 'sklearn.ensemble.gradient_boosting.GradientBoostingRegressor'>\n",
      "2016-02-23 09:19:21\tAdded GradientBoostingRegressor to default predictors\n",
      "2016-02-23 09:19:25\tBuilding Gene Ontology database...\n",
      "2016-02-23 09:19:31\t\tDone.\n",
      "2016-02-23 09:19:32\tLoading metadata\n",
      "2016-02-23 09:19:32\tLoading expression data\n",
      "2016-02-23 09:19:32\tInitializing expression\n",
      "2016-02-23 09:19:32\tDone initializing expression\n",
      "2016-02-23 09:19:33\tLoading splicing data\n",
      "2016-02-23 09:19:33\tInitializing splicing\n",
      "2016-02-23 09:19:33\tDone initializing splicing\n",
      "2016-02-23 09:19:33\tSuccessfully initialized a Study object!\n"
     ]
    }
   ],
   "source": [
    "%load_ext autoreload\n",
    "%autoreload 2\n",
    "\n",
    "import matplotlib.pyplot as plt\n",
    "import seaborn as sns\n",
    "import numpy as np\n",
    "import pandas as pd\n",
    "import six\n",
    "\n",
    "sns.set(style='ticks', context='paper', rc={'font.sans-serif':'Arial', 'pdf.fonttype': 42})\n",
    "\n",
    "%matplotlib inline\n",
    "\n",
    "\n",
    "folder = '/home/obotvinnik/Dropbox/figures2/singlecell_pnm/figure2_modalities/bayesian'\n",
    "!mkdir $folder\n",
    "import flotilla\n",
    "flotilla_dir = '/projects/ps-yeolab/obotvinnik/flotilla_projects'\n",
    "\n",
    "study = flotilla.embark('singlecell_pnm_figure2_modalities_bayesian', flotilla_dir=flotilla_dir)\n",
    "not_outliers = study.splicing.singles.index.difference(study.splicing.outliers.index)\n",
    "\n",
    "psi = study.splicing.singles.ix[not_outliers]\n",
    "grouped = psi.groupby(study.sample_id_to_phenotype)\n",
    "psi_filtered = grouped.apply(lambda x: x.dropna(axis=1, thresh=20))"
   ]
  },
  {
   "cell_type": "code",
   "execution_count": 2,
   "metadata": {
    "collapsed": false
   },
   "outputs": [
    {
     "name": "stdout",
     "output_type": "stream",
     "text": [
      "mkdir: cannot create directory `/home/obotvinnik/Dropbox/figures2/singlecell_pnm/figure2_modalities/bayesian/intron_conservation': File exists\r\n"
     ]
    }
   ],
   "source": [
    "figure_folder = '{}/intron_conservation'.format(folder)\n",
    "! mkdir $figure_folder"
   ]
  },
  {
   "cell_type": "code",
   "execution_count": 3,
   "metadata": {
    "collapsed": false
   },
   "outputs": [
    {
     "name": "stdout",
     "output_type": "stream",
     "text": [
      "ls: cannot access /projects/ps-yeolab/obotvinnik/singlecell_pnms/exon2*csv: No such file or directory\r\n"
     ]
    }
   ],
   "source": [
    "ls /projects/ps-yeolab/obotvinnik/singlecell_pnms/exon2*csv"
   ]
  },
  {
   "cell_type": "code",
   "execution_count": 4,
   "metadata": {
    "collapsed": true
   },
   "outputs": [],
   "source": [
    "csv_folder = '/projects/ps-yeolab/obotvinnik/singlecell_pnms/csvs_for_paper'"
   ]
  },
  {
   "cell_type": "code",
   "execution_count": 5,
   "metadata": {
    "collapsed": true
   },
   "outputs": [],
   "source": [
    "splicing_feature_folder = '{}/splicing_feature_data'.format(csv_folder)\n",
    "alternative_feature_folder = '{}/alternative'.format(splicing_feature_folder)\n",
    "constitutive_feature_folder = '{}/constitutive'.format(splicing_feature_folder)"
   ]
  },
  {
   "cell_type": "code",
   "execution_count": 6,
   "metadata": {
    "collapsed": false
   },
   "outputs": [
    {
     "data": {
      "text/plain": [
       "'/projects/ps-yeolab/obotvinnik/singlecell_pnms/csvs_for_paper/splicing_feature_data/alternative'"
      ]
     },
     "execution_count": 6,
     "metadata": {},
     "output_type": "execute_result"
    }
   ],
   "source": [
    "alternative_feature_folder"
   ]
  },
  {
   "cell_type": "code",
   "execution_count": 7,
   "metadata": {
    "collapsed": false
   },
   "outputs": [],
   "source": [
    "downstream = pd.read_csv('{}/downstream400_placental_mammal_conservation.csv'.format(alternative_feature_folder), \n",
    "                         index_col=0)\n",
    "upstream = pd.read_csv('{}/upstream400_placental_mammal_conservation.csv'.format(alternative_feature_folder), \n",
    "                       index_col=0)"
   ]
  },
  {
   "cell_type": "code",
   "execution_count": 8,
   "metadata": {
    "collapsed": true
   },
   "outputs": [],
   "source": [
    "conservation_folder = '{}/conservation'.format(folder)"
   ]
  },
  {
   "cell_type": "code",
   "execution_count": 9,
   "metadata": {
    "collapsed": true
   },
   "outputs": [],
   "source": [
    "from anchor import MODALITY_ORDER, MODALITY_PALETTE"
   ]
  },
  {
   "cell_type": "code",
   "execution_count": 10,
   "metadata": {
    "collapsed": true
   },
   "outputs": [],
   "source": [
    "sns.set(style='ticks', context='paper')"
   ]
  },
  {
   "cell_type": "code",
   "execution_count": 11,
   "metadata": {
    "collapsed": true
   },
   "outputs": [],
   "source": [
    "from anchor import MODALITY_ORDER"
   ]
  },
  {
   "cell_type": "code",
   "execution_count": 12,
   "metadata": {
    "collapsed": true
   },
   "outputs": [],
   "source": [
    "constitutive_downstream = pd.read_csv('{}/downstream400_placental_mammal_conservation.csv'.format(constitutive_feature_folder), \n",
    "                         index_col=0)\n",
    "constitutive_upstream = pd.read_csv('{}/upstream400_placental_mammal_conservation.csv'.format(constitutive_feature_folder), \n",
    "                       index_col=0)"
   ]
  },
  {
   "cell_type": "code",
   "execution_count": 13,
   "metadata": {
    "collapsed": true
   },
   "outputs": [],
   "source": [
    "constitutive_conservations = {'Upstream': constitutive_upstream, 'Downstream': constitutive_downstream}"
   ]
  },
  {
   "cell_type": "code",
   "execution_count": 14,
   "metadata": {
    "collapsed": true
   },
   "outputs": [],
   "source": [
    "from scipy.stats import mannwhitneyu"
   ]
  },
  {
   "cell_type": "code",
   "execution_count": 15,
   "metadata": {
    "collapsed": false,
    "scrolled": false
   },
   "outputs": [
    {
     "ename": "NameError",
     "evalue": "name 'constitutive_name' is not defined",
     "output_type": "error",
     "traceback": [
      "\u001b[1;31m---------------------------------------------------------------------------\u001b[0m",
      "\u001b[1;31mNameError\u001b[0m                                 Traceback (most recent call last)",
      "\u001b[1;32m<ipython-input-15-c9b3e033fd72>\u001b[0m in \u001b[0;36m<module>\u001b[1;34m()\u001b[0m\n\u001b[0;32m     43\u001b[0m \u001b[1;33m\u001b[0m\u001b[0m\n\u001b[0;32m     44\u001b[0m         \u001b[1;32mfor\u001b[0m \u001b[0mmodality\u001b[0m\u001b[1;33m,\u001b[0m \u001b[0mdf\u001b[0m \u001b[1;32min\u001b[0m \u001b[0mconservation_grouped\u001b[0m\u001b[1;33m:\u001b[0m\u001b[1;33m\u001b[0m\u001b[0m\n\u001b[1;32m---> 45\u001b[1;33m             \u001b[1;32mif\u001b[0m \u001b[0mmodality\u001b[0m \u001b[1;33m==\u001b[0m \u001b[0mconstitutive_name\u001b[0m\u001b[1;33m:\u001b[0m\u001b[1;33m\u001b[0m\u001b[0m\n\u001b[0m\u001b[0;32m     46\u001b[0m                 \u001b[1;32mcontinue\u001b[0m\u001b[1;33m\u001b[0m\u001b[0m\n\u001b[0;32m     47\u001b[0m             \u001b[0mlines\u001b[0m \u001b[1;33m=\u001b[0m \u001b[1;33m[\u001b[0m\u001b[1;33m]\u001b[0m\u001b[1;33m\u001b[0m\u001b[0m\n",
      "\u001b[1;31mNameError\u001b[0m: name 'constitutive_name' is not defined"
     ]
    }
   ],
   "source": [
    "# %%time\n",
    "\n",
    "intron_conservations = {'Upstream': upstream, \n",
    "                        'Downstream': downstream}\n",
    "\n",
    "modality_basewise_conservation_dfs = []\n",
    "\n",
    "intron_order = ['Upstream', 'Downstream']\n",
    "\n",
    "values_col = r'$\\mathrm{sgn}(\\Delta\\mathrm{mean}) \\times\\left(-\\log_{10}(q)\\right)$'\n",
    "\n",
    "\n",
    "phenotype_basewise_statistics_dfs = []\n",
    "\n",
    "for phenotype, phenotype_df in study.supplemental.modalities_tidy.groupby('phenotype'):\n",
    "    modalities = phenotype_df.set_index('event_id').modality\n",
    "    modalities = modalities.drop(modalities.index.get_duplicates())\n",
    "    \n",
    "    conservation_dfs = []\n",
    "    basewise_statistics_dfs = []\n",
    "    \n",
    "\n",
    "    for intron_name, intron_conservation in intron_conservations.items():\n",
    "        mean_conservation = intron_conservation.groupby(modalities).mean()\n",
    "        mean_conservation.columns = mean_conservation.columns.astype(int) + 1\n",
    "        tidy = mean_conservation.unstack().reset_index()\n",
    "        tidy = tidy.rename(columns={'level_0':'genome_direction_nt', 0: 'Conservation'})\n",
    "        tidy['direction'] = intron_name\n",
    "        conservation_dfs.append(tidy)\n",
    "        conservation_grouped = intron_conservation.groupby(modalities)\n",
    "#         constitutive_name = '~1'\n",
    "\n",
    "#         constitutive = conservation_grouped.get_group(constitutive_name)\n",
    "        constitutive = constitutive_conservations[intron_name]\n",
    "    \n",
    "        constitutive_mean = constitutive.mean()\n",
    "        constitutive_mean.index = constitutive_mean.index.astype(int) + 1\n",
    "        tidy = constitutive_mean.reset_index()\n",
    "        tidy['modality'] = 'constitutive'\n",
    "        tidy['direction'] = intron_name\n",
    "        tidy = tidy.rename(columns={'index':'genome_direction_nt', 0: 'Conservation'})\n",
    "        conservation_dfs.append(tidy)\n",
    "        \n",
    "        for modality, df in conservation_grouped:\n",
    "            if modality == constitutive_name:\n",
    "                continue\n",
    "            lines = []\n",
    "\n",
    "            for i in df:\n",
    "                statistic, p_value = mannwhitneyu(df[i], constitutive[i])\n",
    "                sign = np.sign(df[i].mean() - constitutive[i].mean())\n",
    "                lines.append([statistic, p_value, sign])\n",
    "            intron_basewise_statistics = pd.DataFrame(lines, columns=['U Statistic', '$p$-value', 'sign'])\n",
    "            intron_basewise_statistics['$q$-value'] = intron_basewise_statistics.shape[0] * intron_basewise_statistics['$p$-value']\n",
    "            intron_basewise_statistics['modality'] = modality\n",
    "            intron_basewise_statistics['intron'] = intron_name\n",
    "            intron_basewise_statistics = intron_basewise_statistics.reset_index()\n",
    "            intron_basewise_statistics = intron_basewise_statistics.rename(columns={'index': 'genome_direction_nt'})\n",
    "#             print '\\n', phenotype, intron_name, modality\n",
    "#             print intron_basewise_statistics.groupby('genome_direction_nt').size().head()\n",
    "            basewise_statistics_dfs.append(intron_basewise_statistics)\n",
    "\n",
    "    basewise_statistics = pd.concat(basewise_statistics_dfs, ignore_index=True)\n",
    "    basewise_statistics['$-\\log_{10}(q)$'] = -np.log10(basewise_statistics['$q$-value'])\n",
    "    basewise_statistics['$-\\log_{10}(p)$'] = -np.log10(basewise_statistics['$p$-value'])\n",
    "\n",
    "    basewise_statistics[values_col] = basewise_statistics['sign'] * basewise_statistics['$-\\log_{10}(q)$']\n",
    "    basewise_statistics['phenotype'] = phenotype\n",
    "#     print basewise_statistics.groupby(['modality', 'intron', 'genome_direction_nt']).size().head()\n",
    "#     print 'basewise_statistics.shape', basewise_statistics.shape\n",
    "    phenotype_basewise_statistics_dfs.append(basewise_statistics)\n",
    "#     basewise_statistics.head()\n",
    "\n",
    "#         var_conservation = intron_conservation.groupby(modalities).var()\n",
    "    modality_basewise_conservation = pd.concat(conservation_dfs, ignore_index=True)\n",
    "    modality_basewise_conservation['phenotype'] = phenotype\n",
    "    modality_basewise_conservation_dfs.append(modality_basewise_conservation)\n",
    "\n",
    "modality_basewise_conservation = pd.concat(modality_basewise_conservation_dfs, ignore_index=True)\n",
    "print modality_basewise_conservation.shape\n",
    "modality_basewise_statistics = pd.concat(phenotype_basewise_statistics_dfs, ignore_index=True)\n",
    "print modality_basewise_statistics.shape\n",
    "modality_basewise_statistics.head()"
   ]
  },
  {
   "cell_type": "code",
   "execution_count": null,
   "metadata": {
    "collapsed": true
   },
   "outputs": [],
   "source": [
    "import six"
   ]
  },
  {
   "cell_type": "code",
   "execution_count": null,
   "metadata": {
    "collapsed": false
   },
   "outputs": [],
   "source": [
    "phenotype_grouped = study.supplemental.modalities_tidy.groupby('phenotype')\n",
    "ipsc = phenotype_grouped.get_group('iPSC')\n",
    "ipsc_modalities = ipsc.groupby('modality')\n",
    "\n",
    "\n",
    "for intron_name, intron_conservation in intron_conservations.items():\n",
    "    six.print_(intron_name)\n",
    "    for phenotype in study.phenotype_order[1:]:\n",
    "        six.print_('\\t', phenotype)\n",
    "        phenotype_df = phenotype_grouped.get_group(phenotype)\n",
    "        for modality, modality_df in phenotype_df.groupby('modality'):\n",
    "            six.print_('\\t\\t', modality)\n",
    "            ipsc = ipsc_modalities.get_group(modality)\n",
    "            ipsc_conservation = intron_conservation.loc[ipsc['event_id']].mean(axis=1)\n",
    "            try:\n",
    "                phenotype_conservation = intron_conservation.loc[modality_df['event_id']].mean(axis=1)\n",
    "            except KeyError:\n",
    "                continue\n",
    "            \n",
    "            statistic, p_value = mannwhitneyu(ipsc_conservation, phenotype_conservation)\n",
    "            six.print_('\\t\\t\\t', statistic, p_value)"
   ]
  },
  {
   "cell_type": "code",
   "execution_count": null,
   "metadata": {
    "collapsed": true
   },
   "outputs": [],
   "source": [
    "modality_order = ['constitutive'] + MODALITY_ORDER[:3] \n",
    "modality_palette = ['k'] + MODALITY_PALETTE[:3]"
   ]
  },
  {
   "cell_type": "code",
   "execution_count": null,
   "metadata": {
    "collapsed": false
   },
   "outputs": [],
   "source": [
    "g = sns.FacetGrid(modality_basewise_conservation, hue='modality', hue_order=modality_order,\n",
    "                 palette=modality_palette, row='phenotype', row_order=study.phenotype_order,\n",
    "                  col='direction', sharex=False, #gridspec_kws=dict(wspace=0.1), #legend=False,\n",
    "                  col_order=intron_order, size=2)\n",
    "g.map(plt.plot, 'genome_direction_nt', 'Conservation')\n",
    "for ax in g.axes.flat:\n",
    "    ax.locator_params(nbins=4)\n",
    "#         ax.locator_params('y', nbins=4)\n",
    "    if ax.is_first_col():\n",
    "        ax.set(ylabel='Mean PhastCons\\n(Placental Mammal)',\n",
    "               xticklabels=list(reversed([int(x) for x in ax.get_xticks()])))\n",
    "    else:\n",
    "        sns.despine(ax=ax, left=True)\n",
    "        ax.yaxis.set_ticks_position('none')\n",
    "g.set_titles('{row_name}')\n",
    "g.set(xlabel='Nucleotides from exon', ylim=(0, 1))\n",
    "# g.add_legend();\n",
    "g.fig.subplots_adjust(wspace=0.01)\n",
    "g.fig.tight_layout()\n",
    "g.savefig('{}/intron_basewise_conservation_400nt.pdf'.format(figure_folder))"
   ]
  },
  {
   "cell_type": "code",
   "execution_count": null,
   "metadata": {
    "collapsed": false
   },
   "outputs": [],
   "source": [
    "g = sns.FacetGrid(modality_basewise_conservation, hue='modality', hue_order=modality_order,\n",
    "                 palette=modality_palette, row='phenotype', row_order=study.phenotype_order,\n",
    "                  col='direction', sharex=False, #gridspec_kws=dict(wspace=0.1), #legend=False,\n",
    "                  col_order=intron_order, size=2, aspect=.75)\n",
    "g.map(plt.plot, 'genome_direction_nt', 'Conservation')\n",
    "for ax in g.axes.flat:\n",
    "    ax.locator_params(nbins=4)\n",
    "#         ax.locator_params('y', nbins=4)\n",
    "    if ax.is_first_col():\n",
    "        xticklabels = ax.get_xticks()\n",
    "        ax.set(xlim=(200, 400))\n",
    "        ax.set(ylabel='Mean PhastCons\\n(Placental Mammal)',\n",
    "               xticklabels=[200, 150, 100, 50, 0])\n",
    "    else:\n",
    "        sns.despine(ax=ax, left=True)\n",
    "        ax.yaxis.set_ticks_position('none')\n",
    "        ax.set(xlim=(0, 200))\n",
    "g.set_titles('{row_name}')\n",
    "g.set(xlabel='Nucleotides from exon', ylim=(0, 1))\n",
    "# g.add_legend();\n",
    "g.fig.subplots_adjust(wspace=0.01)\n",
    "g.fig.tight_layout()\n",
    "g.savefig('{}/intron_basewise_conservation_200nt.pdf'.format(figure_folder))"
   ]
  },
  {
   "cell_type": "code",
   "execution_count": null,
   "metadata": {
    "collapsed": false
   },
   "outputs": [],
   "source": [
    "# import matplotlib as mpl\n",
    "# dark2 = sns.color_palette('Dark2', n_colors=10)\n",
    "# sns.palplot(dark2)\n",
    "# accent = sns.color_palette('Accent', n_colors=10)\n",
    "# sns.palplot(accent)\n",
    "\n",
    "# sns.palplot(sns.color_palette('PRGn', n_colors=2))\n",
    "# direction_to_color = dict(zip(['upstream', 'downstream'], \n",
    "#                             map(mpl.colors.rgb2hex, sns.color_palette('PRGn', n_colors=2))))\n",
    "\n",
    "\n",
    "# # This is the winner!!\n",
    "# import matplotlib as mpl\n",
    "# celltype_palette = dark2[0], accent[4], dark2[3], accent[2]\n",
    "# sns.palplot(celltype_palette)\n",
    "\n",
    "# celltype_palette = map(mpl.colors.rgb2hex, celltype_palette)\n",
    "\n",
    "# phenotype_to_color = dict(zip(['iPSC', 'NPC', \"MN\", \"sMN\"], celltype_palette))\n",
    "# phenotype_to_color"
   ]
  },
  {
   "cell_type": "code",
   "execution_count": null,
   "metadata": {
    "collapsed": false
   },
   "outputs": [],
   "source": [
    "g = sns.factorplot(col='direction', y='Conservation', hue='phenotype', size=2, col_order=intron_order,\n",
    "               x='modality', data=modality_basewise_conservation, kind='bar', order=MODALITY_ORDER,\n",
    "               hue_order=study.phenotype_order, palette=study.phenotype_color_ordered)\n",
    "g.set_ylabels('Mean PhastCons\\n(Placental Mammal)')\n",
    "g.set(xlabel='')\n",
    "for ax in g.axes.flat:\n",
    "    plt.setp(ax.get_xticklabels(), rotation=90)\n",
    "# g.fig.tight_layout()\n",
    "g.savefig('{}/intron_mean_conservation.pdf'.format(figure_folder))"
   ]
  },
  {
   "cell_type": "code",
   "execution_count": null,
   "metadata": {
    "collapsed": true
   },
   "outputs": [],
   "source": [
    "cmap = sns.dark_palette(177, as_cmap=True)"
   ]
  },
  {
   "cell_type": "code",
   "execution_count": null,
   "metadata": {
    "collapsed": false
   },
   "outputs": [],
   "source": [
    "for phenotype, phenotype_df in modality_basewise_statistics.groupby('phenotype'):\n",
    "    # PLot significance of basewise statistics\n",
    "    figwidth = 2.5 * 2\n",
    "    figheight = 0.3 * len(modality_basewise_statistics.groupby('modality').groups)\n",
    "\n",
    "    fig, axes = plt.subplots(ncols=3, figsize=(figwidth, figheight), gridspec_kw=dict(width_ratios=[1, 1, 0.1], wspace))\n",
    "    cbar_ax = axes[-1]\n",
    "\n",
    "    grouped = phenotype_df.groupby('intron')\n",
    "\n",
    "    for intron, ax in zip(intron_order, axes):\n",
    "        df = grouped.get_group(intron)\n",
    "        basewise_statistics_2d = df.pivot(index='modality', columns='genome_direction_nt', values='$-\\log_{10}(q)$')\n",
    "        basewise_statistics_2d = basewise_statistics_2d.loc[MODALITY_ORDER[:3]].dropna()\n",
    "        sns.heatmap(basewise_statistics_2d, cmap=cmap, ax=ax, vmin=0,\n",
    "                    cbar_kws=dict(label='$-\\log_{10}(q)$'), \n",
    "                    cbar_ax=cbar_ax)\n",
    "        ax.set(xticks=[])\n",
    "        if not ax.is_first_col():\n",
    "            ax.set(yticks=[], ylabel='')\n",
    "        else:\n",
    "            plt.setp(ax.get_yticklabels(), rotation=0)\n",
    "    fig.subplots_adjust(wspace=0.01)\n",
    "    fig.tight_layout()\n",
    "    fig.savefig('{}/intron_basewise_conservation_statistics_{}_q_values.pdf'.format(figure_folder, phenotype))"
   ]
  },
  {
   "cell_type": "code",
   "execution_count": null,
   "metadata": {
    "collapsed": false
   },
   "outputs": [],
   "source": [
    "for phenotype, phenotype_df in modality_basewise_statistics.groupby('phenotype'):\n",
    "    # PLot significance of basewise statistics\n",
    "    figwidth = 2.5 * 2\n",
    "    figheight = 0.3 * len(modality_basewise_statistics.groupby('modality').groups)\n",
    "\n",
    "    fig, axes = plt.subplots(ncols=3, figsize=(figwidth, figheight), \n",
    "                             gridspec_kw=dict(width_ratios=[1, 1, 0.1], wspace=0.2))\n",
    "    cbar_ax = axes[-1]\n",
    "\n",
    "    grouped = phenotype_df.groupby('intron')\n",
    "\n",
    "    for intron, ax in zip(intron_order, axes):\n",
    "        df = grouped.get_group(intron)\n",
    "        basewise_statistics_2d = df.pivot(index='modality', columns='genome_direction_nt', values='$-\\log_{10}(q)$')\n",
    "        basewise_statistics_2d = basewise_statistics_2d.loc[MODALITY_ORDER[:3]].dropna()\n",
    "        sns.heatmap(basewise_statistics_2d, cmap=cmap, ax=ax, vmin=0, vmax=25,\n",
    "                    cbar_kws=dict(label='$-\\log_{10}(q)$'), \n",
    "                    cbar_ax=cbar_ax)\n",
    "        ax.set(xticks=[])\n",
    "        if not ax.is_first_col():\n",
    "            ax.set(yticks=[], ylabel='', xlim=(0, 200))\n",
    "        else:\n",
    "            plt.setp(ax.get_yticklabels(), rotation=0)\n",
    "            ax.set(xlim=(200, 400))\n",
    "    fig.subplots_adjust(wspace=0.01)\n",
    "    sns.despine(bottom=False, right=False, left=False, top=False)\n",
    "    fig.tight_layout()\n",
    "    fig.savefig('{}/intron_basewise_conservation_statistics_{}_q_values_200nt.pdf'.format(figure_folder, phenotype))"
   ]
  },
  {
   "cell_type": "code",
   "execution_count": null,
   "metadata": {
    "collapsed": true
   },
   "outputs": [],
   "source": []
  },
  {
   "cell_type": "code",
   "execution_count": null,
   "metadata": {
    "collapsed": false
   },
   "outputs": [],
   "source": [
    "for phenotype, phenotype_df in modality_basewise_statistics.groupby('phenotype'):\n",
    "    # PLot significance of basewise statistics\n",
    "    figwidth = 2.5 * 2\n",
    "    figheight = 0.3 * len(modality_basewise_statistics.groupby('modality').groups)\n",
    "\n",
    "    fig, axes = plt.subplots(ncols=3, figsize=(figwidth, figheight), gridspec_kw=dict(width_ratios=[1, 1, 0.1]))\n",
    "    cbar_ax = axes[-1]\n",
    "\n",
    "    grouped = phenotype_df.groupby('intron')\n",
    "\n",
    "    for intron, ax in zip(intron_order, axes):\n",
    "        df = grouped.get_group(intron)\n",
    "        basewise_statistics_2d = df.pivot(index='modality', columns='genome_direction_nt', values='$-\\log_{10}(p)$')\n",
    "        basewise_statistics_2d = basewise_statistics_2d.loc[MODALITY_ORDER[:3]].dropna()\n",
    "        sns.heatmap(basewise_statistics_2d, cmap=cmap, ax=ax,\n",
    "                    cbar_kws=dict(label='$-\\log_{10}(p)$'), \n",
    "                    cbar_ax=cbar_ax)\n",
    "        ax.set(xticks=[])\n",
    "        if not ax.is_first_col():\n",
    "            ax.set(yticks=[], ylabel='')\n",
    "        else:\n",
    "            plt.setp(ax.get_yticklabels(), rotation=0)\n",
    "    fig.subplots_adjust(wspace=0.01)\n",
    "    fig.tight_layout()\n",
    "    fig.savefig('{}/intron_basewise_conservation_statistics_{}_p_values.pdf'.format(figure_folder, phenotype))"
   ]
  },
  {
   "cell_type": "code",
   "execution_count": null,
   "metadata": {
    "collapsed": true
   },
   "outputs": [],
   "source": []
  }
 ],
 "metadata": {
  "kernelspec": {
   "display_name": "Python 2",
   "language": "python",
   "name": "python2"
  },
  "language_info": {
   "codemirror_mode": {
    "name": "ipython",
    "version": 2
   },
   "file_extension": ".py",
   "mimetype": "text/x-python",
   "name": "python",
   "nbconvert_exporter": "python",
   "pygments_lexer": "ipython2",
   "version": "2.7.11"
  }
 },
 "nbformat": 4,
 "nbformat_minor": 0
}
