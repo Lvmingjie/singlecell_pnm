{
 "cells": [
  {
   "cell_type": "code",
   "execution_count": 1,
   "metadata": {
    "collapsed": false
   },
   "outputs": [
    {
     "name": "stderr",
     "output_type": "stream",
     "text": [
      "/home/obotvinnik/anaconda/lib/python2.7/site-packages/matplotlib/__init__.py:784: UserWarning: Found matplotlib configuration in ~/.matplotlib/. To conform with the XDG base directory standard, this configuration location has been deprecated on Linux, and the new location is now /home/obotvinnik/.config/matplotlib/. Please move your configuration there to ensure that matplotlib will continue to find it in the future.\n",
      "  _get_xdg_config_dir())\n",
      "/home/obotvinnik/workspace-git/flotilla/flotilla/__init__.py:55: DtypeWarning: Columns (18) have mixed types. Specify dtype option on import or set low_memory=False.\n",
      "  load_species_data=load_species_data)\n"
     ]
    },
    {
     "name": "stdout",
     "output_type": "stream",
     "text": [
      "2015-12-28 10:10:37\tReading datapackage from /projects/ps-yeolab/obotvinnik/flotilla_projects/singlecell_pnm_figure2_modalities_bayesian/datapackage.json\n",
      "2015-12-28 10:10:37\tParsing datapackage to create a Study object\n",
      "2015-12-28 10:11:33\tInitializing Study\n",
      "2015-12-28 10:11:33\tInitializing Predictor configuration manager for Study\n",
      "2015-12-28 10:11:33\tPredictor ExtraTreesClassifier is of type <class 'sklearn.ensemble.forest.ExtraTreesClassifier'>\n",
      "2015-12-28 10:11:33\tAdded ExtraTreesClassifier to default predictors\n",
      "2015-12-28 10:11:33\tPredictor ExtraTreesRegressor is of type <class 'sklearn.ensemble.forest.ExtraTreesRegressor'>\n",
      "2015-12-28 10:11:33\tAdded ExtraTreesRegressor to default predictors\n",
      "2015-12-28 10:11:33\tPredictor GradientBoostingClassifier is of type <class 'sklearn.ensemble.gradient_boosting.GradientBoostingClassifier'>\n",
      "2015-12-28 10:11:33\tAdded GradientBoostingClassifier to default predictors\n",
      "2015-12-28 10:11:33\tPredictor GradientBoostingRegressor is of type <class 'sklearn.ensemble.gradient_boosting.GradientBoostingRegressor'>\n",
      "2015-12-28 10:11:33\tAdded GradientBoostingRegressor to default predictors\n",
      "2015-12-28 10:11:38\tBuilding Gene Ontology database...\n",
      "2015-12-28 10:11:47\t\tDone.\n",
      "2015-12-28 10:11:48\tLoading metadata\n",
      "2015-12-28 10:11:48\tLoading expression data\n",
      "2015-12-28 10:11:48\tInitializing expression\n",
      "2015-12-28 10:11:49\tDone initializing expression\n",
      "2015-12-28 10:11:50\tLoading splicing data\n",
      "2015-12-28 10:11:50\tInitializing splicing\n",
      "2015-12-28 10:11:51\tDone initializing splicing\n",
      "2015-12-28 10:11:51\tSuccessfully initialized a Study object!\n"
     ]
    }
   ],
   "source": [
    "%load_ext autoreload\n",
    "%autoreload 2\n",
    "\n",
    "import modish\n",
    "import matplotlib.pyplot as plt\n",
    "import seaborn as sns\n",
    "import numpy as np\n",
    "import pandas as pd\n",
    "\n",
    "sns.set(style='ticks', context='talk', rc={'font.sans-serif':'Arial', 'pdf.fonttype': 42})\n",
    "\n",
    "%matplotlib inline\n",
    "\n",
    "\n",
    "\n",
    "import flotilla\n",
    "\n",
    "flotilla_dir = '/projects/ps-yeolab/obotvinnik/flotilla_projects'\n",
    "\n",
    "folder = '/home/obotvinnik/Dropbox/figures2/singlecell_pnm/figure2_modalities/bayesian'\n",
    "\n",
    "study = flotilla.embark('singlecell_pnm_figure2_modalities_bayesian', flotilla_dir=flotilla_dir)\n",
    "\n",
    "singles_not_outliers = study.splicing.singles.index.difference(study.splicing.outliers.index)"
   ]
  },
  {
   "cell_type": "code",
   "execution_count": 3,
   "metadata": {
    "collapsed": true
   },
   "outputs": [],
   "source": [
    "! mkdir $folder/pcl"
   ]
  },
  {
   "cell_type": "code",
   "execution_count": 7,
   "metadata": {
    "collapsed": false
   },
   "outputs": [],
   "source": [
    "\n",
    "pcl_folder = '{}/pcl'.format(folder)\n",
    "\n",
    "for (phenotype, modality), df in study.supplemental.modalities_tidy.groupby(['phenotype', 'modality']):\n",
    "    sample_ids = study.sample_subset_to_sample_ids(phenotype)\n",
    "    data = study.splicing.data.loc[sample_ids, df.event_name]\n",
    "    pcl = data.copy()\n",
    "    pcl['GWEIGHT'] = 1\n",
    "    pcl['NAME'] = pcl.index\n",
    "    pcl.loc['EWEIGHT'] = 1\n",
    "    pcl = pcl.reindex(columns=['NAME', \"GWEIGHT\"] + data.columns.tolist(),\n",
    "                      index=['EWEIGHT'] + data.index.tolist())\n",
    "    pcl.index.name = 'CLID'\n",
    "    pcl.loc['EWEIGHT', ['NAME', 'GWEIGHT']] = np.nan\n",
    "    pcl.head()\n",
    "    \n",
    "    pcl.to_csv('{}/phenotype_modality_{}_{}.pcl'.format(pcl_folder, phenotype, modality), sep='\\t')"
   ]
  },
  {
   "cell_type": "code",
   "execution_count": null,
   "metadata": {
    "collapsed": true
   },
   "outputs": [],
   "source": []
  }
 ],
 "metadata": {
  "kernelspec": {
   "display_name": "Python 2",
   "language": "python",
   "name": "python2"
  },
  "language_info": {
   "codemirror_mode": {
    "name": "ipython",
    "version": 2
   },
   "file_extension": ".py",
   "mimetype": "text/x-python",
   "name": "python",
   "nbconvert_exporter": "python",
   "pygments_lexer": "ipython2",
   "version": "2.7.10"
  }
 },
 "nbformat": 4,
 "nbformat_minor": 0
}
