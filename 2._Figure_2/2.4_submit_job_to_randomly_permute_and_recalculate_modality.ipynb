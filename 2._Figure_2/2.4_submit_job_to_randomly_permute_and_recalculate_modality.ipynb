{
 "cells": [
  {
   "cell_type": "code",
   "execution_count": 1,
   "metadata": {
    "collapsed": true
   },
   "outputs": [],
   "source": [
    "folder = '/projects/ps-yeolab/obotvinnik/singlecell_pnms/figure2_modalities/permutations'"
   ]
  },
  {
   "cell_type": "code",
   "execution_count": 2,
   "metadata": {
    "collapsed": false
   },
   "outputs": [
    {
     "name": "stdout",
     "output_type": "stream",
     "text": [
      "mkdir: cannot create directory `/projects/ps-yeolab/obotvinnik/singlecell_pnms/figure2_modalities/permutations/tidy': File exists\n",
      "mkdir: cannot create directory `/projects/ps-yeolab/obotvinnik/singlecell_pnms/figure2_modalities/permutations/size': File exists\n",
      "mkdir: cannot create directory `/projects/ps-yeolab/obotvinnik/singlecell_pnms/figure2_modalities/permutations/psi': File exists\n"
     ]
    }
   ],
   "source": [
    "# %%bash\n",
    "\n",
    "! mkdir -p $folder/barplots\n",
    "!mkdir $folder/tidy\n",
    "!mkdir $folder/size\n",
    "!mkdir $folder/psi\n",
    "# mkdir $folder/modalities_sizes"
   ]
  },
  {
   "cell_type": "code",
   "execution_count": 3,
   "metadata": {
    "collapsed": true
   },
   "outputs": [],
   "source": [
    "base_folder = '/projects/ps-yeolab/obotvinnik/singlecell_pnms/figure2_modalities/permutations'\n"
   ]
  },
  {
   "cell_type": "code",
   "execution_count": 4,
   "metadata": {
    "collapsed": true
   },
   "outputs": [],
   "source": [
    "! mkdir -p $base_folder"
   ]
  },
  {
   "cell_type": "code",
   "execution_count": 5,
   "metadata": {
    "collapsed": false
   },
   "outputs": [
    {
     "name": "stdout",
     "output_type": "stream",
     "text": [
      "Overwriting /home/obotvinnik/randomly_permute_and_calculate_modality.py\n"
     ]
    }
   ],
   "source": [
    "%%file ~/randomly_permute_and_calculate_modality.py\n",
    "\n",
    "import matplotlib.pyplot as plt\n",
    "import seaborn as sns\n",
    "import numpy as np\n",
    "import pandas as pd\n",
    "import flotilla\n",
    "import os\n",
    "import sys\n",
    "import anchor\n",
    "\n",
    "sns.set(style='ticks', context='paper', rc={'font.sans-serif':'Arial', 'pdf.fonttype': 42})\n",
    "\n",
    "# --- Parse command line arguments --- #\n",
    "# Ensure the iteration is always at least 1\n",
    "iteration = max(int(sys.argv[1]), 1)\n",
    "iteration_str = str(iteration).zfill(4)\n",
    "suffix = 'iteration_{}'.format(iteration_str)\n",
    "# seed = (sum(ord(c) for c in 'randomly_permute_modalities')/iteration) % 5437\n",
    "np.random.seed(iteration)\n",
    "\n",
    "\n",
    "\n",
    "# --- Set up study --- #\n",
    "base_folder = '/projects/ps-yeolab/obotvinnik/singlecell_pnms/figure2_modalities/permutations'\n",
    "\n",
    "flotilla_dir = '/projects/ps-yeolab/obotvinnik/flotilla_projects/'\n",
    "\n",
    "study = flotilla.embark('singlecell_pnm_figure1_supplementary_post_splicing_filtering', \n",
    "                        flotilla_dir=flotilla_dir)\n",
    "\n",
    "not_outliers = study.splicing.singles.index.difference(study.splicing.outliers.index)\n",
    "splicing_singles_no_outliers = study.splicing.singles.loc[not_outliers]\n",
    "\n",
    "print splicing_singles_no_outliers.shape\n",
    "splicing_singles_no_outliers = splicing_singles_no_outliers.groupby(\n",
    "    study.sample_id_to_phenotype).apply(lambda x: x.dropna(thresh=10, axis=1))\n",
    "print splicing_singles_no_outliers.shape\n",
    "\n",
    "\n",
    "# To permute the whole array, have to do it on the flattened values and then reshape them \n",
    "# because otherwise numpy only shuffles the rows which is not what we want\n",
    "permuted_psi = splicing_singles_no_outliers.groupby(study.sample_id_to_phenotype).apply(\n",
    "    lambda x: pd.DataFrame(np.random.permutation(x.values.flat).reshape(x.shape), index=x.index, columns=x.columns))\n",
    "permuted_psi.to_csv('{}/psi/{}.csv'.format(base_folder, suffix))\n",
    "\n",
    "bayesian = anchor.BayesianModalities()\n",
    "modality_assignments = permuted_psi.groupby(study.sample_id_to_phenotype).apply(bayesian.fit_predict)\n",
    "\n",
    "modality_assignments[splicing_singles_no_outliers.groupby(study.sample_id_to_phenotype).count() < 20] = np.nan\n",
    "modalities_tidy = modality_assignments.stack().reset_index()\n",
    "modalities_tidy = modalities_tidy.rename(columns={'level_1': 'event_name', 0: \"modality\",})\n",
    "modalities_tidy.to_csv('{}/tidy/{}.csv'.format(base_folder, suffix), index=False)\n",
    "\n",
    "sizes = modalities_tidy.groupby(['phenotype', 'modality']).size()\n",
    "sizes.to_csv('{}/size/{}.csv'.format(base_folder, suffix))\n",
    "\n",
    "\n",
    "g = anchor.barplot(modalities_tidy, x='phenotype', hue='modality', size=2)\n",
    "g.savefig('{}/barplots/{}.pdf'.format(base_folder, suffix))"
   ]
  },
  {
   "cell_type": "code",
   "execution_count": 6,
   "metadata": {
    "collapsed": false
   },
   "outputs": [
    {
     "name": "stderr",
     "output_type": "stream",
     "text": [
      "running 500 tasks as an array-job.\n",
      "Wrote commands to randomly_permute_modality1.sh\n",
      ".Submitted script to queue home-scrm. Job ID: 4996454\n",
      "running 500 tasks as an array-job.\n",
      "Wrote commands to randomly_permute_modality2.sh\n",
      ".Submitted script to queue home-scrm. Job ID: 4996455\n"
     ]
    },
    {
     "data": {
      "text/plain": [
       "<qtools.submitter.Submitter at 0x2b65983947d0>"
      ]
     },
     "execution_count": 6,
     "metadata": {},
     "output_type": "execute_result"
    }
   ],
   "source": [
    "from qtools import Submitter\n",
    "\n",
    "base_command = 'python ~/randomly_permute_and_calculate_modality.py'\n",
    "\n",
    "commands = []\n",
    "for i in range(1000):\n",
    "    commands.append('{} {}'.format(base_command, i))\n",
    "Submitter(commands, 'randomly_permute_modality', walltime='1:00:00', array=True, queue='home-scrm')"
   ]
  },
  {
   "cell_type": "code",
   "execution_count": 10,
   "metadata": {
    "collapsed": false
   },
   "outputs": [],
   "source": [
    "! grep -i walltime randomly_permute_modality*out*"
   ]
  },
  {
   "cell_type": "code",
   "execution_count": null,
   "metadata": {
    "collapsed": true
   },
   "outputs": [],
   "source": []
  }
 ],
 "metadata": {
  "kernelspec": {
   "display_name": "Python 2",
   "language": "python",
   "name": "python2"
  },
  "language_info": {
   "codemirror_mode": {
    "name": "ipython",
    "version": 2
   },
   "file_extension": ".py",
   "mimetype": "text/x-python",
   "name": "python",
   "nbconvert_exporter": "python",
   "pygments_lexer": "ipython2",
   "version": "2.7.10"
  }
 },
 "nbformat": 4,
 "nbformat_minor": 0
}
