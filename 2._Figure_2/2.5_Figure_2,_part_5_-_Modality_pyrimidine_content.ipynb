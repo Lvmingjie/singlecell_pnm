{
 "cells": [
  {
   "cell_type": "markdown",
   "metadata": {},
   "source": [
    "## Find distinguishing properties of modalities"
   ]
  },
  {
   "cell_type": "code",
   "execution_count": 2,
   "metadata": {
    "collapsed": false
   },
   "outputs": [
    {
     "name": "stderr",
     "output_type": "stream",
     "text": [
      "/home/obotvinnik/anaconda/lib/python2.7/site-packages/matplotlib/__init__.py:810: UserWarning: Found matplotlib configuration in ~/.matplotlib/. To conform with the XDG base directory standard, this configuration location has been deprecated on Linux, and the new location is now /home/obotvinnik/.config/matplotlib/. Please move your configuration there to ensure that matplotlib will continue to find it in the future.\n",
      "  _get_xdg_config_dir())\n",
      "/home/obotvinnik/workspace-git/flotilla/flotilla/__init__.py:55: DtypeWarning: Columns (18) have mixed types. Specify dtype option on import or set low_memory=False.\n",
      "  load_species_data=load_species_data)\n"
     ]
    },
    {
     "name": "stdout",
     "output_type": "stream",
     "text": [
      "2016-01-29 15:10:10\tReading datapackage from /projects/ps-yeolab/obotvinnik/flotilla_projects/singlecell_pnm_figure2_modalities_bayesian/datapackage.json\n",
      "2016-01-29 15:10:10\tParsing datapackage to create a Study object\n",
      "2016-01-29 15:10:50\tInitializing Study\n",
      "2016-01-29 15:10:50\tInitializing Predictor configuration manager for Study\n",
      "2016-01-29 15:10:50\tPredictor ExtraTreesClassifier is of type <class 'sklearn.ensemble.forest.ExtraTreesClassifier'>\n",
      "2016-01-29 15:10:50\tAdded ExtraTreesClassifier to default predictors\n",
      "2016-01-29 15:10:50\tPredictor ExtraTreesRegressor is of type <class 'sklearn.ensemble.forest.ExtraTreesRegressor'>\n",
      "2016-01-29 15:10:50\tAdded ExtraTreesRegressor to default predictors\n",
      "2016-01-29 15:10:50\tPredictor GradientBoostingClassifier is of type <class 'sklearn.ensemble.gradient_boosting.GradientBoostingClassifier'>\n",
      "2016-01-29 15:10:50\tAdded GradientBoostingClassifier to default predictors\n",
      "2016-01-29 15:10:50\tPredictor GradientBoostingRegressor is of type <class 'sklearn.ensemble.gradient_boosting.GradientBoostingRegressor'>\n",
      "2016-01-29 15:10:50\tAdded GradientBoostingRegressor to default predictors\n",
      "2016-01-29 15:10:55\tBuilding Gene Ontology database...\n",
      "2016-01-29 15:11:04\t\tDone.\n",
      "2016-01-29 15:11:05\tLoading metadata\n",
      "2016-01-29 15:11:05\tLoading expression data\n",
      "2016-01-29 15:11:05\tInitializing expression\n",
      "2016-01-29 15:11:05\tDone initializing expression\n",
      "2016-01-29 15:11:07\tLoading splicing data\n",
      "2016-01-29 15:11:07\tInitializing splicing\n",
      "2016-01-29 15:11:07\tDone initializing splicing\n",
      "2016-01-29 15:11:07\tSuccessfully initialized a Study object!\n"
     ]
    }
   ],
   "source": [
    "%load_ext autoreload\n",
    "%autoreload 2\n",
    "\n",
    "import modish\n",
    "import matplotlib.pyplot as plt\n",
    "import seaborn as sns\n",
    "import numpy as np\n",
    "import pandas as pd\n",
    "\n",
    "sns.set(style='ticks', context='talk', rc={'font.sans-serif':'Arial', 'pdf.fonttype': 42})\n",
    "\n",
    "%matplotlib inline\n",
    "\n",
    "\n",
    "\n",
    "import flotilla\n",
    "\n",
    "flotilla_dir = '/projects/ps-yeolab/obotvinnik/flotilla_projects'\n",
    "\n",
    "\n",
    "study = flotilla.embark('singlecell_pnm_figure2_modalities_bayesian', flotilla_dir=flotilla_dir)\n",
    "\n",
    "not_outliers = study.splicing.singles.index.difference(study.splicing.outliers.index)"
   ]
  },
  {
   "cell_type": "code",
   "execution_count": 3,
   "metadata": {
    "collapsed": false
   },
   "outputs": [
    {
     "name": "stdout",
     "output_type": "stream",
     "text": [
      "mkdir: cannot create directory `/home/obotvinnik/Dropbox/figures2/singlecell_pnm/figure2_modalities/bayesian/pyrimidine_content': File exists\r\n"
     ]
    }
   ],
   "source": [
    "folder = '/home/obotvinnik/Dropbox/figures2/singlecell_pnm/figure2_modalities/bayesian'\n",
    "figure_folder = '{}/pyrimidine_content'.format(folder)\n",
    "! mkdir $figure_folder"
   ]
  },
  {
   "cell_type": "code",
   "execution_count": 4,
   "metadata": {
    "collapsed": true
   },
   "outputs": [],
   "source": [
    "csv_folder = '/projects/ps-yeolab/obotvinnik/singlecell_pnms/csvs_for_paper'"
   ]
  },
  {
   "cell_type": "code",
   "execution_count": 5,
   "metadata": {
    "collapsed": false
   },
   "outputs": [
    {
     "name": "stdout",
     "output_type": "stream",
     "text": [
      "\u001b[0m\u001b[01;34mconservation\u001b[0m/\r\n",
      "constitutive_downstream400_pyrimidine_content.csv\r\n",
      "constitutive_exons.bed\r\n",
      "constitutive_feature_data.csv\r\n",
      "constitutive_upstream400_pyrimidine_content.csv\r\n",
      "exon2_downstream400_pyrimidine_content.csv\r\n",
      "exon2_upstream400_pyrimidine_content.csv\r\n",
      "expression.csv\r\n",
      "expression_stressed.csv\r\n",
      "junction_exon_triples.csv\r\n",
      "mapping_stats.csv\r\n",
      "mapping_stats_stressed.csv\r\n",
      "metadata.csv\r\n",
      "metadata_stressed.csv\r\n",
      "mutually_exclusive_exon_consolidated_events.csv\r\n",
      "mutually_exclusive_exons_psi.csv\r\n",
      "mxe_events_with_stressed.csv\r\n",
      "\u001b[01;34mnucleotide_content\u001b[0m/\r\n",
      "outrigger_singlecell.sh\r\n",
      "outrigger_singlecell.sh.err\r\n",
      "outrigger_singlecell.sh.out\r\n",
      "outrigger_singlecell.sh~\r\n",
      "psi.csv\r\n",
      "psi3.csv\r\n",
      "psi3_stressed.csv\r\n",
      "psi5.csv\r\n",
      "psi5_psi3_combined.csv\r\n",
      "psi5_psi3_combined.hdf\r\n",
      "psi5_psi3_combined_metadata.csv\r\n",
      "psi5_psi3_combined_metadata.hdf\r\n",
      "psi5_stressed.csv\r\n",
      "psi_constitutively0.csv\r\n",
      "psi_constitutively1.csv\r\n",
      "psi_unfiltered.csv\r\n",
      "se_events_with_stressed.csv\r\n",
      "sj_metadata.csv\r\n",
      "sj_raw.csv\r\n",
      "skipped_exon_consolidated_events.csv\r\n",
      "skipped_exon_psi_from_junctions.csv\r\n",
      "splice_junction_metadata.csv\r\n",
      "splice_junctions_psi.csv\r\n",
      "splicing.csv\r\n",
      "splicing_feature_data.csv\r\n",
      "splicing_stressed.csv\r\n",
      "\u001b[m"
     ]
    }
   ],
   "source": [
    "ls $csv_folder"
   ]
  },
  {
   "cell_type": "code",
   "execution_count": 20,
   "metadata": {
    "collapsed": true
   },
   "outputs": [],
   "source": [
    "import six"
   ]
  },
  {
   "cell_type": "code",
   "execution_count": 60,
   "metadata": {
    "collapsed": false
   },
   "outputs": [
    {
     "name": "stdout",
     "output_type": "stream",
     "text": [
      "upstream exon2\n",
      "\t (53751, 40)\n",
      "upstream constitutive\n",
      "\t (1449, 40)\n",
      "downstream exon2\n",
      "\t (53751, 40)\n",
      "downstream constitutive\n",
      "\t (1449, 40)\n",
      "(4300080, 5)\n"
     ]
    },
    {
     "data": {
      "text/html": [
       "<div>\n",
       "<table border=\"1\" class=\"dataframe\">\n",
       "  <thead>\n",
       "    <tr style=\"text-align: right;\">\n",
       "      <th></th>\n",
       "      <th>window_relative_to_exon</th>\n",
       "      <th>event_name</th>\n",
       "      <th>Pyrimidine Percentage</th>\n",
       "      <th>Region</th>\n",
       "      <th>exon_type</th>\n",
       "    </tr>\n",
       "  </thead>\n",
       "  <tbody>\n",
       "    <tr>\n",
       "      <th>0</th>\n",
       "      <td>0</td>\n",
       "      <td>exon:chr10:100190328-100190427:-@exon:chr10:10...</td>\n",
       "      <td>60</td>\n",
       "      <td>Upstream</td>\n",
       "      <td>exon2</td>\n",
       "    </tr>\n",
       "    <tr>\n",
       "      <th>1</th>\n",
       "      <td>0</td>\n",
       "      <td>exon:chr10:100193697-100193848:-@exon:chr10:10...</td>\n",
       "      <td>60</td>\n",
       "      <td>Upstream</td>\n",
       "      <td>exon2</td>\n",
       "    </tr>\n",
       "    <tr>\n",
       "      <th>2</th>\n",
       "      <td>0</td>\n",
       "      <td>exon:chr10:100195392-100195529:-@exon:chr10:10...</td>\n",
       "      <td>50</td>\n",
       "      <td>Upstream</td>\n",
       "      <td>exon2</td>\n",
       "    </tr>\n",
       "    <tr>\n",
       "      <th>3</th>\n",
       "      <td>0</td>\n",
       "      <td>exon:chr10:101165513-101165617:-@exon:chr10:10...</td>\n",
       "      <td>70</td>\n",
       "      <td>Upstream</td>\n",
       "      <td>exon2</td>\n",
       "    </tr>\n",
       "    <tr>\n",
       "      <th>4</th>\n",
       "      <td>0</td>\n",
       "      <td>exon:chr10:101419263-101419345:+@exon:chr10:10...</td>\n",
       "      <td>70</td>\n",
       "      <td>Upstream</td>\n",
       "      <td>exon2</td>\n",
       "    </tr>\n",
       "  </tbody>\n",
       "</table>\n",
       "</div>"
      ],
      "text/plain": [
       "   window_relative_to_exon                                         event_name  \\\n",
       "0                        0  exon:chr10:100190328-100190427:-@exon:chr10:10...   \n",
       "1                        0  exon:chr10:100193697-100193848:-@exon:chr10:10...   \n",
       "2                        0  exon:chr10:100195392-100195529:-@exon:chr10:10...   \n",
       "3                        0  exon:chr10:101165513-101165617:-@exon:chr10:10...   \n",
       "4                        0  exon:chr10:101419263-101419345:+@exon:chr10:10...   \n",
       "\n",
       "   Pyrimidine Percentage    Region exon_type  \n",
       "0                     60  Upstream     exon2  \n",
       "1                     60  Upstream     exon2  \n",
       "2                     50  Upstream     exon2  \n",
       "3                     70  Upstream     exon2  \n",
       "4                     70  Upstream     exon2  "
      ]
     },
     "execution_count": 60,
     "metadata": {},
     "output_type": "execute_result"
    }
   ],
   "source": [
    "nucleotides = 'ACGT'\n",
    "contexts = 'upstream', 'downstream'\n",
    "exon_types = 'exon2', 'constitutive'\n",
    "\n",
    "alternative_dfs = []\n",
    "constitutive_dfs = []\n",
    "\n",
    "for context in contexts:\n",
    "    for exon_type in exon_types:\n",
    "        six.print_(context, exon_type)\n",
    "        csv = '{}/{}_{}400_pyrimidine_content.csv'.format(csv_folder, exon_type, context)\n",
    "        df = pd.read_csv(csv, index_col=0)\n",
    "        df = df * 100\n",
    "        six.print_('\\t', df.shape)\n",
    "        tidy = df.unstack().reset_index()\n",
    "        tidy = tidy.rename(\n",
    "            columns={'level_0': 'window_relative_to_exon', 'level_1': 'event_name', 0:'Pyrimidine Percentage'})\n",
    "        tidy['window_relative_to_exon'] = tidy['window_relative_to_exon'].astype(int)\n",
    "#             if context == 'upstream':\n",
    "#                 tidy['window_relative_to_genome'] = np.abs(tidy['window_relative_to_exon'] - 39)\n",
    "#             else:\n",
    "#                 tidy['window_relative_to_genome'] = tidy['window_relative_to_exon'].copy()\n",
    "        tidy['Region'] = context.title()\n",
    "        tidy['exon_type'] = exon_type\n",
    "        if exon_type == 'exon2':\n",
    "            alternative_dfs.append(tidy)\n",
    "        else:\n",
    "            constitutive_dfs.append(tidy)\n",
    "alternative_df = pd.concat(alternative_dfs)\n",
    "constitutive_df = pd.concat(constitutive_dfs)\n",
    "\n",
    "print(alternative_df.shape)\n",
    "alternative_df.head()"
   ]
  },
  {
   "cell_type": "code",
   "execution_count": 61,
   "metadata": {
    "collapsed": false
   },
   "outputs": [
    {
     "data": {
      "text/html": [
       "<div>\n",
       "<table border=\"1\" class=\"dataframe\">\n",
       "  <thead>\n",
       "    <tr style=\"text-align: right;\">\n",
       "      <th></th>\n",
       "      <th>phenotype</th>\n",
       "      <th>event_name</th>\n",
       "      <th>modality</th>\n",
       "      <th>window_relative_to_exon</th>\n",
       "      <th>Pyrimidine Percentage</th>\n",
       "      <th>Region</th>\n",
       "      <th>exon_type</th>\n",
       "    </tr>\n",
       "  </thead>\n",
       "  <tbody>\n",
       "    <tr>\n",
       "      <th>0</th>\n",
       "      <td>MN</td>\n",
       "      <td>exon:chr10:102114184-102114389:+@exon:chr10:10...</td>\n",
       "      <td>~1</td>\n",
       "      <td>0</td>\n",
       "      <td>40</td>\n",
       "      <td>Upstream</td>\n",
       "      <td>exon2</td>\n",
       "    </tr>\n",
       "    <tr>\n",
       "      <th>1</th>\n",
       "      <td>MN</td>\n",
       "      <td>exon:chr10:102114184-102114389:+@exon:chr10:10...</td>\n",
       "      <td>~1</td>\n",
       "      <td>1</td>\n",
       "      <td>60</td>\n",
       "      <td>Upstream</td>\n",
       "      <td>exon2</td>\n",
       "    </tr>\n",
       "    <tr>\n",
       "      <th>2</th>\n",
       "      <td>MN</td>\n",
       "      <td>exon:chr10:102114184-102114389:+@exon:chr10:10...</td>\n",
       "      <td>~1</td>\n",
       "      <td>2</td>\n",
       "      <td>60</td>\n",
       "      <td>Upstream</td>\n",
       "      <td>exon2</td>\n",
       "    </tr>\n",
       "    <tr>\n",
       "      <th>3</th>\n",
       "      <td>MN</td>\n",
       "      <td>exon:chr10:102114184-102114389:+@exon:chr10:10...</td>\n",
       "      <td>~1</td>\n",
       "      <td>3</td>\n",
       "      <td>90</td>\n",
       "      <td>Upstream</td>\n",
       "      <td>exon2</td>\n",
       "    </tr>\n",
       "    <tr>\n",
       "      <th>4</th>\n",
       "      <td>MN</td>\n",
       "      <td>exon:chr10:102114184-102114389:+@exon:chr10:10...</td>\n",
       "      <td>~1</td>\n",
       "      <td>4</td>\n",
       "      <td>20</td>\n",
       "      <td>Upstream</td>\n",
       "      <td>exon2</td>\n",
       "    </tr>\n",
       "  </tbody>\n",
       "</table>\n",
       "</div>"
      ],
      "text/plain": [
       "  phenotype                                         event_name modality  \\\n",
       "0        MN  exon:chr10:102114184-102114389:+@exon:chr10:10...       ~1   \n",
       "1        MN  exon:chr10:102114184-102114389:+@exon:chr10:10...       ~1   \n",
       "2        MN  exon:chr10:102114184-102114389:+@exon:chr10:10...       ~1   \n",
       "3        MN  exon:chr10:102114184-102114389:+@exon:chr10:10...       ~1   \n",
       "4        MN  exon:chr10:102114184-102114389:+@exon:chr10:10...       ~1   \n",
       "\n",
       "   window_relative_to_exon  Pyrimidine Percentage    Region exon_type  \n",
       "0                        0                     40  Upstream     exon2  \n",
       "1                        1                     60  Upstream     exon2  \n",
       "2                        2                     60  Upstream     exon2  \n",
       "3                        3                     90  Upstream     exon2  \n",
       "4                        4                     20  Upstream     exon2  "
      ]
     },
     "execution_count": 61,
     "metadata": {},
     "output_type": "execute_result"
    }
   ],
   "source": [
    "alternative_modalities = study.supplemental.modalities_tidy.merge(alternative_df, \n",
    "                                                      left_on='event_name', right_on='event_name')\n",
    "alternative_modalities.head()"
   ]
  },
  {
   "cell_type": "code",
   "execution_count": 62,
   "metadata": {
    "collapsed": false
   },
   "outputs": [
    {
     "data": {
      "text/plain": [
       "(115920, 5)"
      ]
     },
     "execution_count": 62,
     "metadata": {},
     "output_type": "execute_result"
    }
   ],
   "source": [
    "constitutive_df.shape"
   ]
  },
  {
   "cell_type": "code",
   "execution_count": 63,
   "metadata": {
    "collapsed": false
   },
   "outputs": [
    {
     "data": {
      "text/html": [
       "<div>\n",
       "<table border=\"1\" class=\"dataframe\">\n",
       "  <thead>\n",
       "    <tr style=\"text-align: right;\">\n",
       "      <th></th>\n",
       "      <th>window_relative_to_exon</th>\n",
       "      <th>event_name</th>\n",
       "      <th>Pyrimidine Percentage</th>\n",
       "      <th>Region</th>\n",
       "      <th>exon_type</th>\n",
       "      <th>modality</th>\n",
       "      <th>phenotype</th>\n",
       "    </tr>\n",
       "  </thead>\n",
       "  <tbody>\n",
       "    <tr>\n",
       "      <th>0</th>\n",
       "      <td>0</td>\n",
       "      <td>exon:chr10:101162337-101162479:-</td>\n",
       "      <td>60</td>\n",
       "      <td>Upstream</td>\n",
       "      <td>constitutive</td>\n",
       "      <td>constitutive</td>\n",
       "      <td>iPSC</td>\n",
       "    </tr>\n",
       "    <tr>\n",
       "      <th>1</th>\n",
       "      <td>0</td>\n",
       "      <td>exon:chr10:101483713-101483880:-</td>\n",
       "      <td>40</td>\n",
       "      <td>Upstream</td>\n",
       "      <td>constitutive</td>\n",
       "      <td>constitutive</td>\n",
       "      <td>iPSC</td>\n",
       "    </tr>\n",
       "    <tr>\n",
       "      <th>2</th>\n",
       "      <td>0</td>\n",
       "      <td>exon:chr10:101489310-101489491:-</td>\n",
       "      <td>60</td>\n",
       "      <td>Upstream</td>\n",
       "      <td>constitutive</td>\n",
       "      <td>constitutive</td>\n",
       "      <td>iPSC</td>\n",
       "    </tr>\n",
       "    <tr>\n",
       "      <th>3</th>\n",
       "      <td>0</td>\n",
       "      <td>exon:chr10:104183414-104183474:-</td>\n",
       "      <td>60</td>\n",
       "      <td>Upstream</td>\n",
       "      <td>constitutive</td>\n",
       "      <td>constitutive</td>\n",
       "      <td>iPSC</td>\n",
       "    </tr>\n",
       "    <tr>\n",
       "      <th>4</th>\n",
       "      <td>0</td>\n",
       "      <td>exon:chr10:104245366-104245490:-</td>\n",
       "      <td>70</td>\n",
       "      <td>Upstream</td>\n",
       "      <td>constitutive</td>\n",
       "      <td>constitutive</td>\n",
       "      <td>iPSC</td>\n",
       "    </tr>\n",
       "  </tbody>\n",
       "</table>\n",
       "</div>"
      ],
      "text/plain": [
       "   window_relative_to_exon                        event_name  \\\n",
       "0                        0  exon:chr10:101162337-101162479:-   \n",
       "1                        0  exon:chr10:101483713-101483880:-   \n",
       "2                        0  exon:chr10:101489310-101489491:-   \n",
       "3                        0  exon:chr10:104183414-104183474:-   \n",
       "4                        0  exon:chr10:104245366-104245490:-   \n",
       "\n",
       "   Pyrimidine Percentage    Region     exon_type      modality phenotype  \n",
       "0                     60  Upstream  constitutive  constitutive      iPSC  \n",
       "1                     40  Upstream  constitutive  constitutive      iPSC  \n",
       "2                     60  Upstream  constitutive  constitutive      iPSC  \n",
       "3                     60  Upstream  constitutive  constitutive      iPSC  \n",
       "4                     70  Upstream  constitutive  constitutive      iPSC  "
      ]
     },
     "execution_count": 63,
     "metadata": {},
     "output_type": "execute_result"
    }
   ],
   "source": [
    "constitutive_df['modality'] = 'constitutive'\n",
    "\n",
    "constitutive_phenotypes = []\n",
    "\n",
    "for phenotype in study.phenotype_order:\n",
    "    constitutive_df['phenotype'] = phenotype\n",
    "    constitutive_phenotypes.append(constitutive_df.copy())\n",
    "constitutive_phenotype = pd.concat(constitutive_phenotypes)\n",
    "constitutive_phenotype.head()"
   ]
  },
  {
   "cell_type": "code",
   "execution_count": 64,
   "metadata": {
    "collapsed": false
   },
   "outputs": [
    {
     "data": {
      "text/plain": [
       "(347760, 7)"
      ]
     },
     "execution_count": 64,
     "metadata": {},
     "output_type": "execute_result"
    }
   ],
   "source": [
    "constitutive_phenotype.shape"
   ]
  },
  {
   "cell_type": "code",
   "execution_count": 65,
   "metadata": {
    "collapsed": false
   },
   "outputs": [
    {
     "data": {
      "text/html": [
       "<div>\n",
       "<table border=\"1\" class=\"dataframe\">\n",
       "  <thead>\n",
       "    <tr style=\"text-align: right;\">\n",
       "      <th></th>\n",
       "      <th>Pyrimidine Percentage</th>\n",
       "      <th>Region</th>\n",
       "      <th>event_name</th>\n",
       "      <th>exon_type</th>\n",
       "      <th>modality</th>\n",
       "      <th>phenotype</th>\n",
       "      <th>window_relative_to_exon</th>\n",
       "    </tr>\n",
       "  </thead>\n",
       "  <tbody>\n",
       "    <tr>\n",
       "      <th>0</th>\n",
       "      <td>60</td>\n",
       "      <td>Upstream</td>\n",
       "      <td>exon:chr10:101162337-101162479:-</td>\n",
       "      <td>constitutive</td>\n",
       "      <td>constitutive</td>\n",
       "      <td>iPSC</td>\n",
       "      <td>0</td>\n",
       "    </tr>\n",
       "    <tr>\n",
       "      <th>1</th>\n",
       "      <td>40</td>\n",
       "      <td>Upstream</td>\n",
       "      <td>exon:chr10:101483713-101483880:-</td>\n",
       "      <td>constitutive</td>\n",
       "      <td>constitutive</td>\n",
       "      <td>iPSC</td>\n",
       "      <td>0</td>\n",
       "    </tr>\n",
       "    <tr>\n",
       "      <th>2</th>\n",
       "      <td>60</td>\n",
       "      <td>Upstream</td>\n",
       "      <td>exon:chr10:101489310-101489491:-</td>\n",
       "      <td>constitutive</td>\n",
       "      <td>constitutive</td>\n",
       "      <td>iPSC</td>\n",
       "      <td>0</td>\n",
       "    </tr>\n",
       "    <tr>\n",
       "      <th>3</th>\n",
       "      <td>60</td>\n",
       "      <td>Upstream</td>\n",
       "      <td>exon:chr10:104183414-104183474:-</td>\n",
       "      <td>constitutive</td>\n",
       "      <td>constitutive</td>\n",
       "      <td>iPSC</td>\n",
       "      <td>0</td>\n",
       "    </tr>\n",
       "    <tr>\n",
       "      <th>4</th>\n",
       "      <td>70</td>\n",
       "      <td>Upstream</td>\n",
       "      <td>exon:chr10:104245366-104245490:-</td>\n",
       "      <td>constitutive</td>\n",
       "      <td>constitutive</td>\n",
       "      <td>iPSC</td>\n",
       "      <td>0</td>\n",
       "    </tr>\n",
       "  </tbody>\n",
       "</table>\n",
       "</div>"
      ],
      "text/plain": [
       "   Pyrimidine Percentage    Region                        event_name  \\\n",
       "0                     60  Upstream  exon:chr10:101162337-101162479:-   \n",
       "1                     40  Upstream  exon:chr10:101483713-101483880:-   \n",
       "2                     60  Upstream  exon:chr10:101489310-101489491:-   \n",
       "3                     60  Upstream  exon:chr10:104183414-104183474:-   \n",
       "4                     70  Upstream  exon:chr10:104245366-104245490:-   \n",
       "\n",
       "      exon_type      modality phenotype  window_relative_to_exon  \n",
       "0  constitutive  constitutive      iPSC                        0  \n",
       "1  constitutive  constitutive      iPSC                        0  \n",
       "2  constitutive  constitutive      iPSC                        0  \n",
       "3  constitutive  constitutive      iPSC                        0  \n",
       "4  constitutive  constitutive      iPSC                        0  "
      ]
     },
     "execution_count": 65,
     "metadata": {},
     "output_type": "execute_result"
    }
   ],
   "source": [
    "pyrimidine_content_all = pd.concat([constitutive_phenotype, alternative_modalities])\n",
    "pyrimidine_content_all.head()"
   ]
  },
  {
   "cell_type": "code",
   "execution_count": 66,
   "metadata": {
    "collapsed": false
   },
   "outputs": [
    {
     "data": {
      "text/plain": [
       "exon_type     modality      Region      phenotype\n",
       "constitutive  constitutive  Downstream  MN            57960\n",
       "                                        NPC           57960\n",
       "                                        iPSC          57960\n",
       "                            Upstream    MN            57960\n",
       "                                        NPC           57960\n",
       "                                        iPSC          57960\n",
       "exon2         bimodal       Downstream  MN             8400\n",
       "                                        NPC           15200\n",
       "                                        iPSC          28600\n",
       "                            Upstream    MN             8400\n",
       "                                        NPC           15200\n",
       "                                        iPSC          28600\n",
       "              multimodal    Downstream  NPC              40\n",
       "                                        iPSC            560\n",
       "                            Upstream    NPC              40\n",
       "                                        iPSC            560\n",
       "              ~0            Downstream  MN             8480\n",
       "                                        NPC           19200\n",
       "                                        iPSC          28880\n",
       "                            Upstream    MN             8480\n",
       "                                        NPC           19200\n",
       "                                        iPSC          28880\n",
       "              ~1            Downstream  MN            35840\n",
       "                                        NPC           70160\n",
       "                                        iPSC         109400\n",
       "                            Upstream    MN            35840\n",
       "                                        NPC           70160\n",
       "                                        iPSC         109400\n",
       "dtype: int64"
      ]
     },
     "execution_count": 66,
     "metadata": {},
     "output_type": "execute_result"
    }
   ],
   "source": [
    "pyrimidine_content_all.groupby(['exon_type', 'modality', 'Region', 'phenotype']).size()"
   ]
  },
  {
   "cell_type": "code",
   "execution_count": 67,
   "metadata": {
    "collapsed": true
   },
   "outputs": [],
   "source": [
    "from anchor import MODALITY_ORDER, MODALITY_PALETTE, MODALITY_TO_COLOR"
   ]
  },
  {
   "cell_type": "code",
   "execution_count": 68,
   "metadata": {
    "collapsed": true
   },
   "outputs": [],
   "source": [
    "MODALITY_TO_COLOR['constitutive'] = 'k'"
   ]
  },
  {
   "cell_type": "code",
   "execution_count": 69,
   "metadata": {
    "collapsed": false
   },
   "outputs": [
    {
     "data": {
      "text/html": [
       "<div>\n",
       "<table border=\"1\" class=\"dataframe\">\n",
       "  <thead>\n",
       "    <tr style=\"text-align: right;\">\n",
       "      <th></th>\n",
       "      <th>Pyrimidine Percentage</th>\n",
       "      <th>Region</th>\n",
       "      <th>event_name</th>\n",
       "      <th>exon_type</th>\n",
       "      <th>modality</th>\n",
       "      <th>phenotype</th>\n",
       "      <th>window_relative_to_exon</th>\n",
       "    </tr>\n",
       "  </thead>\n",
       "  <tbody>\n",
       "    <tr>\n",
       "      <th>0</th>\n",
       "      <td>60</td>\n",
       "      <td>Upstream</td>\n",
       "      <td>exon:chr10:101162337-101162479:-</td>\n",
       "      <td>constitutive</td>\n",
       "      <td>constitutive</td>\n",
       "      <td>iPSC</td>\n",
       "      <td>0</td>\n",
       "    </tr>\n",
       "    <tr>\n",
       "      <th>1</th>\n",
       "      <td>40</td>\n",
       "      <td>Upstream</td>\n",
       "      <td>exon:chr10:101483713-101483880:-</td>\n",
       "      <td>constitutive</td>\n",
       "      <td>constitutive</td>\n",
       "      <td>iPSC</td>\n",
       "      <td>0</td>\n",
       "    </tr>\n",
       "    <tr>\n",
       "      <th>2</th>\n",
       "      <td>60</td>\n",
       "      <td>Upstream</td>\n",
       "      <td>exon:chr10:101489310-101489491:-</td>\n",
       "      <td>constitutive</td>\n",
       "      <td>constitutive</td>\n",
       "      <td>iPSC</td>\n",
       "      <td>0</td>\n",
       "    </tr>\n",
       "    <tr>\n",
       "      <th>3</th>\n",
       "      <td>60</td>\n",
       "      <td>Upstream</td>\n",
       "      <td>exon:chr10:104183414-104183474:-</td>\n",
       "      <td>constitutive</td>\n",
       "      <td>constitutive</td>\n",
       "      <td>iPSC</td>\n",
       "      <td>0</td>\n",
       "    </tr>\n",
       "    <tr>\n",
       "      <th>4</th>\n",
       "      <td>70</td>\n",
       "      <td>Upstream</td>\n",
       "      <td>exon:chr10:104245366-104245490:-</td>\n",
       "      <td>constitutive</td>\n",
       "      <td>constitutive</td>\n",
       "      <td>iPSC</td>\n",
       "      <td>0</td>\n",
       "    </tr>\n",
       "  </tbody>\n",
       "</table>\n",
       "</div>"
      ],
      "text/plain": [
       "   Pyrimidine Percentage    Region                        event_name  \\\n",
       "0                     60  Upstream  exon:chr10:101162337-101162479:-   \n",
       "1                     40  Upstream  exon:chr10:101483713-101483880:-   \n",
       "2                     60  Upstream  exon:chr10:101489310-101489491:-   \n",
       "3                     60  Upstream  exon:chr10:104183414-104183474:-   \n",
       "4                     70  Upstream  exon:chr10:104245366-104245490:-   \n",
       "\n",
       "      exon_type      modality phenotype  window_relative_to_exon  \n",
       "0  constitutive  constitutive      iPSC                        0  \n",
       "1  constitutive  constitutive      iPSC                        0  \n",
       "2  constitutive  constitutive      iPSC                        0  \n",
       "3  constitutive  constitutive      iPSC                        0  \n",
       "4  constitutive  constitutive      iPSC                        0  "
      ]
     },
     "execution_count": 69,
     "metadata": {},
     "output_type": "execute_result"
    }
   ],
   "source": [
    "pyrimidine_content_all.head()"
   ]
  },
  {
   "cell_type": "code",
   "execution_count": 70,
   "metadata": {
    "collapsed": false
   },
   "outputs": [
    {
     "data": {
      "image/png": "[encoded data removed]",
      "text/plain": [
       "<matplotlib.figure.Figure at 0x2b3cf3c314d0>"
      ]
     },
     "metadata": {},
     "output_type": "display_data"
    }
   ],
   "source": [
    "modality_order = ['constitutive', '~1', '~0', 'bimodal']\n",
    "modality_palette = [MODALITY_TO_COLOR[x] for x in modality_order]\n",
    "\n",
    "g = sns.FacetGrid(pyrimidine_content_all, hue='modality', row='phenotype', col='Region', \n",
    "                  palette=modality_palette, hue_order=modality_order, row_order=study.phenotype_order,\n",
    "                 col_order=['Upstream', 'Downstream'], sharex=False)\n",
    "\n",
    "g.map(sns.pointplot, 'window_relative_to_exon', 'Pyrimidine Percentage', scale=0.5, dodge=True, ci=None)\n",
    "g.set_titles('{col_name} {row_name}')\n",
    "for ax in g.axes.flat:\n",
    "    if ax.is_first_col():\n",
    "        ax.invert_xaxis()\n",
    "g.set(xlabel='')\n",
    "g.set(xticks=[0, 19, 39], xticklabels=[0, 200, 400])\n",
    "g.fig.tight_layout()\n",
    "g.savefig('{}/intron_window_pyrimidine_content.pdf'.format(figure_folder))\n",
    "\n",
    "# Zoom in on first 100nt\n",
    "g.set(xlim=(0, 9), xticks=[0, 4, 9], xticklabels=[0, 50, 100])\n",
    "for ax in g.axes.flat:\n",
    "    if ax.is_first_col():\n",
    "        ax.invert_xaxis()\n",
    "g.savefig('{}/intron_window_pyrimidine_content_zoom100nt.pdf'.format(figure_folder))\n"
   ]
  },
  {
   "cell_type": "code",
   "execution_count": null,
   "metadata": {
    "collapsed": true
   },
   "outputs": [],
   "source": []
  }
 ],
 "metadata": {
  "kernelspec": {
   "display_name": "Python 2",
   "language": "python",
   "name": "python2"
  },
  "language_info": {
   "codemirror_mode": {
    "name": "ipython",
    "version": 2
   },
   "file_extension": ".py",
   "mimetype": "text/x-python",
   "name": "python",
   "nbconvert_exporter": "python",
   "pygments_lexer": "ipython2",
   "version": "2.7.11"
  }
 },
 "nbformat": 4,
 "nbformat_minor": 0
}
