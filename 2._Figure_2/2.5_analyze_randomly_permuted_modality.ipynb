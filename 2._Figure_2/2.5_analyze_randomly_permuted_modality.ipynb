{
 "cells": [
  {
   "cell_type": "code",
   "execution_count": 5,
   "metadata": {
    "collapsed": true
   },
   "outputs": [],
   "source": [
    "folder = '/projects/ps-yeolab/obotvinnik/singlecell_pnms/figure2_modalities/permutations'"
   ]
  },
  {
   "cell_type": "code",
   "execution_count": 6,
   "metadata": {
    "collapsed": false
   },
   "outputs": [
    {
     "name": "stdout",
     "output_type": "stream",
     "text": [
      "mkdir: cannot create directory `/projects/ps-yeolab/obotvinnik/singlecell_pnms/figure2_modalities/permutations/barplots': File exists\n",
      "mkdir: cannot create directory `/projects/ps-yeolab/obotvinnik/singlecell_pnms/figure2_modalities/permutations/tidy': File exists\n",
      "mkdir: cannot create directory `/projects/ps-yeolab/obotvinnik/singlecell_pnms/figure2_modalities/permutations/size': File exists\n",
      "mkdir: cannot create directory `/projects/ps-yeolab/obotvinnik/singlecell_pnms/figure2_modalities/permutations/psi': File exists\n"
     ]
    }
   ],
   "source": [
    "# %%bash\n",
    "\n",
    "! mkdir $folder/barplots\n",
    "!mkdir $folder/tidy\n",
    "!mkdir $folder/size\n",
    "!mkdir $folder/psi\n",
    "# mkdir $folder/modalities_sizes"
   ]
  },
  {
   "cell_type": "code",
   "execution_count": 7,
   "metadata": {
    "collapsed": false
   },
   "outputs": [],
   "source": [
    "import glob\n",
    "import os\n",
    "\n",
    "import pandas as pd\n",
    "import seaborn as sns\n",
    "import matplotlib as mpl\n",
    "import matplotlib.pyplot as plt\n",
    "\n",
    "%matplotlib inline\n",
    "sns.set(style='ticks', context='paper')\n"
   ]
  },
  {
   "cell_type": "code",
   "execution_count": 8,
   "metadata": {
    "collapsed": false
   },
   "outputs": [],
   "source": [
    "\n",
    "dfs = []\n",
    "\n",
    "for csv in sorted(glob.glob('{}/size/*.csv'.format(folder))):\n",
    "    df = pd.read_csv(csv, header=None, names=['phenotype', 'modality', 'size'])\n",
    "    df['iteration'] = int(os.path.basename(csv).split('.')[0].split('_')[1])\n",
    "    dfs.append(df)\n",
    "    \n",
    "sizes = pd.concat(dfs, ignore_index=True)\n",
    "# sizes.columns = "
   ]
  },
  {
   "cell_type": "code",
   "execution_count": 9,
   "metadata": {
    "collapsed": true
   },
   "outputs": [],
   "source": [
    "sizes['modality'] = sizes['modality'].replace({'~1': 'included', '~0': 'excluded', \n",
    "                                               'multimodal': 'ambivalent'})"
   ]
  },
  {
   "cell_type": "code",
   "execution_count": 10,
   "metadata": {
    "collapsed": false
   },
   "outputs": [
    {
     "data": {
      "text/html": [
       "<div>\n",
       "<table border=\"1\" class=\"dataframe\">\n",
       "  <thead>\n",
       "    <tr style=\"text-align: right;\">\n",
       "      <th></th>\n",
       "      <th>phenotype</th>\n",
       "      <th>modality</th>\n",
       "      <th>size</th>\n",
       "      <th>iteration</th>\n",
       "    </tr>\n",
       "  </thead>\n",
       "  <tbody>\n",
       "    <tr>\n",
       "      <th>7479</th>\n",
       "      <td>MN</td>\n",
       "      <td>uncategorized</td>\n",
       "      <td>28</td>\n",
       "      <td>999</td>\n",
       "    </tr>\n",
       "    <tr>\n",
       "      <th>7480</th>\n",
       "      <td>NPC</td>\n",
       "      <td>bimodal</td>\n",
       "      <td>5027</td>\n",
       "      <td>999</td>\n",
       "    </tr>\n",
       "    <tr>\n",
       "      <th>7481</th>\n",
       "      <td>NPC</td>\n",
       "      <td>included</td>\n",
       "      <td>14</td>\n",
       "      <td>999</td>\n",
       "    </tr>\n",
       "    <tr>\n",
       "      <th>7482</th>\n",
       "      <td>iPSC</td>\n",
       "      <td>bimodal</td>\n",
       "      <td>7841</td>\n",
       "      <td>999</td>\n",
       "    </tr>\n",
       "    <tr>\n",
       "      <th>7483</th>\n",
       "      <td>iPSC</td>\n",
       "      <td>included</td>\n",
       "      <td>6</td>\n",
       "      <td>999</td>\n",
       "    </tr>\n",
       "  </tbody>\n",
       "</table>\n",
       "</div>"
      ],
      "text/plain": [
       "     phenotype       modality  size  iteration\n",
       "7479        MN  uncategorized    28        999\n",
       "7480       NPC        bimodal  5027        999\n",
       "7481       NPC       included    14        999\n",
       "7482      iPSC        bimodal  7841        999\n",
       "7483      iPSC       included     6        999"
      ]
     },
     "execution_count": 10,
     "metadata": {},
     "output_type": "execute_result"
    }
   ],
   "source": [
    "sizes.tail()"
   ]
  },
  {
   "cell_type": "code",
   "execution_count": 11,
   "metadata": {
    "collapsed": true
   },
   "outputs": [],
   "source": [
    "import anchor"
   ]
  },
  {
   "cell_type": "code",
   "execution_count": 12,
   "metadata": {
    "collapsed": false
   },
   "outputs": [
    {
     "data": {
      "text/plain": [
       "<matplotlib.axes._subplots.AxesSubplot at 0x2b7366973c10>"
      ]
     },
     "execution_count": 12,
     "metadata": {},
     "output_type": "execute_result"
    },
    {
     "data": {
      "image/png": "[encoded data removed]",
      "text/plain": [
       "<matplotlib.figure.Figure at 0x2b736695fe10>"
      ]
     },
     "metadata": {},
     "output_type": "display_data"
    }
   ],
   "source": [
    "sns.barplot(x='phenotype', y='size', hue='modality', data=sizes, order=['iPSC', 'NPC', 'MN'], \n",
    "            hue_order=anchor.MODALITY_ORDER, palette=anchor.MODALITY_PALETTE)"
   ]
  },
  {
   "cell_type": "code",
   "execution_count": 13,
   "metadata": {
    "collapsed": false
   },
   "outputs": [
    {
     "data": {
      "text/plain": [
       "phenotype  modality     \n",
       "MN         bimodal          2362.093093\n",
       "           excluded            1.326180\n",
       "           included          124.815816\n",
       "           uncategorized      36.402402\n",
       "NPC        bimodal          5022.109109\n",
       "           excluded            1.000000\n",
       "           included           18.865866\n",
       "           uncategorized       1.000000\n",
       "iPSC       bimodal          7838.965966\n",
       "           included            8.034034\n",
       "Name: size, dtype: float64"
      ]
     },
     "execution_count": 13,
     "metadata": {},
     "output_type": "execute_result"
    }
   ],
   "source": [
    "sizes.groupby(['phenotype', 'modality'])['size'].mean()"
   ]
  },
  {
   "cell_type": "code",
   "execution_count": 14,
   "metadata": {
    "collapsed": true
   },
   "outputs": [],
   "source": [
    "sns.set(style='ticks', context='paper')"
   ]
  },
  {
   "cell_type": "code",
   "execution_count": 26,
   "metadata": {
    "collapsed": true
   },
   "outputs": [],
   "source": [
    "figure_folder = 'figures'"
   ]
  },
  {
   "cell_type": "code",
   "execution_count": null,
   "metadata": {
    "collapsed": false
   },
   "outputs": [
    {
     "data": {
      "image/png": "[encoded data removed]",
      "text/plain": [
       "<matplotlib.figure.Figure at 0x2b7370791810>"
      ]
     },
     "metadata": {},
     "output_type": "display_data"
    }
   ],
   "source": [
    "fig, axes = plt.subplots(figsize=(2, 2), nrows=2, gridspec_kw=dict(hspace=0.05, height_ratios=[0.2, 0.8]))\n",
    "ax = axes[0]\n",
    "sns.barplot(x='phenotype', y='size', hue='modality', data=sizes, order=['iPSC', 'NPC', 'MN'], \n",
    "            hue_order=anchor.MODALITY_ORDER, palette=anchor.MODALITY_PALETTE, ax=ax)\n",
    "ax.locator_params(nbins=3, axis='y')\n",
    "ymin, ymax = ax.get_ylim()\n",
    "# ax.set_ylim()\n",
    "ax.set(xticks=[], xlabel='', ylim=(1000, ymax), ylabel='', yticks=[1000, 5000, 10000])\n",
    "sns.despine(ax=ax, bottom=True)\n",
    "ax.legend_.remove()\n",
    "\n",
    "ax = axes[1]\n",
    "sns.barplot(x='phenotype', y='size', hue='modality', data=sizes, order=['iPSC', 'NPC', 'MN'], \n",
    "            hue_order=anchor.MODALITY_ORDER, palette=anchor.MODALITY_PALETTE, ax=ax)\n",
    "ax.set_ylim(0, 125)\n",
    "ax.locator_params(nbins=4, axis='y')\n",
    "ax.legend_.remove()\n",
    "sns.despine(ax=ax)\n",
    "# fig.tight_layout()\n",
    "# fig.s\n",
    "fig.savefig('{}/permuted_modality_barplot_counts.pdf'.format(figure_folder))"
   ]
  },
  {
   "cell_type": "code",
   "execution_count": null,
   "metadata": {
    "collapsed": false
   },
   "outputs": [],
   "source": [
    "percentages = sizes.copy()\n",
    "percentages['percentage'] = percentages.groupby(['phenotype', 'iteration'])['size'].apply(lambda x: 100*x/x.sum())\n",
    "percentages.head()"
   ]
  },
  {
   "cell_type": "code",
   "execution_count": null,
   "metadata": {
    "collapsed": false
   },
   "outputs": [],
   "source": [
    "percentages.groupby(['phenotype', 'modality'])['percentage'].mean()"
   ]
  },
  {
   "cell_type": "code",
   "execution_count": null,
   "metadata": {
    "collapsed": false
   },
   "outputs": [],
   "source": [
    "sns.set(style='ticks', context='paper')"
   ]
  },
  {
   "cell_type": "code",
   "execution_count": null,
   "metadata": {
    "collapsed": false
   },
   "outputs": [],
   "source": [
    "\n",
    "fig, ax = plt.subplots(figsize=(2, 1.5))\n",
    "\n",
    "# ax = axes[0]\n",
    "sns.barplot(x='phenotype', hue='modality', y='percentage', data=percentages, order=['iPSC', 'NPC', 'MN'], \n",
    "            hue_order=anchor.MODALITY_ORDER, palette=anchor.MODALITY_PALETTE, ax=ax)\n",
    "ax.legend_.set_visible(False)\n",
    "ax.set(ylabel='% AS Exons')\n",
    "ax.grid(axis='y')\n",
    "sns.despine()\n",
    "fig.savefig('{}/permuted_modalities_barplot.pdf'.format(figure_folder))\n",
    "\n",
    "ax.set(ylim=(0, 5))\n",
    "fig.savefig('{}/permuted_modalities_barplot_zoom.pdf'.format(figure_folder))"
   ]
  },
  {
   "cell_type": "code",
   "execution_count": null,
   "metadata": {
    "collapsed": false
   },
   "outputs": [],
   "source": [
    "fig, axes = plt.subplots(figsize=(2, 1.5), nrows=2, gridspec_kw=dict(hspace=0.05, \n",
    "                                                                     height_ratios=[0.2, 0.8]))\n",
    "ax = axes[0]\n",
    "sns.barplot(x='phenotype', y='percentage', hue='modality', data=percentages, order=['iPSC', 'NPC', 'MN'], \n",
    "            hue_order=anchor.MODALITY_ORDER, palette=anchor.MODALITY_PALETTE, ax=ax)\n",
    "ax.locator_params(nbins=3, axis='y')\n",
    "ax.set(xticks=[], xlabel='', ylim=(90, 100), ylabel='')#, yticks=[50, 75, 100])\n",
    "sns.despine(ax=ax, bottom=True)\n",
    "ax.legend_.remove()\n",
    "\n",
    "ax = axes[1]\n",
    "sns.barplot(x='phenotype', y='percentage', hue='modality', data=percentages, order=['iPSC', 'NPC', 'MN'], \n",
    "            hue_order=anchor.MODALITY_ORDER, palette=anchor.MODALITY_PALETTE, ax=ax)\n",
    "ax.set_ylim(0, 5)\n",
    "ax.locator_params(nbins=3, axis='y')\n",
    "ax.legend_.remove()\n",
    "sns.despine(ax=ax)\n",
    "# fig.tight_layout()\n",
    "fig.savefig('{}/permuted_modality_barplot_percentage_split_axes.pdf'.format(figure_folder))"
   ]
  },
  {
   "cell_type": "code",
   "execution_count": null,
   "metadata": {
    "collapsed": true
   },
   "outputs": [],
   "source": []
  },
  {
   "cell_type": "code",
   "execution_count": null,
   "metadata": {
    "collapsed": true
   },
   "outputs": [],
   "source": []
  }
 ],
 "metadata": {
  "kernelspec": {
   "display_name": "Python 2",
   "language": "python",
   "name": "python2"
  },
  "language_info": {
   "codemirror_mode": {
    "name": "ipython",
    "version": 2
   },
   "file_extension": ".py",
   "mimetype": "text/x-python",
   "name": "python",
   "nbconvert_exporter": "python",
   "pygments_lexer": "ipython2",
   "version": "2.7.10"
  }
 },
 "nbformat": 4,
 "nbformat_minor": 0
}
