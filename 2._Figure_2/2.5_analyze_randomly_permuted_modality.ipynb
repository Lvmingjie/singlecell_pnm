{
 "cells": [
  {
   "cell_type": "code",
   "execution_count": 6,
   "metadata": {
    "collapsed": true
   },
   "outputs": [],
   "source": [
    "folder = '/home/obotvinnik/Dropbox/figures2/singlecell_pnm/figure2_modalities/bayesian/permutations/'"
   ]
  },
  {
   "cell_type": "code",
   "execution_count": 7,
   "metadata": {
    "collapsed": false
   },
   "outputs": [
    {
     "name": "stdout",
     "output_type": "stream",
     "text": [
      "mkdir: cannot create directory `/home/obotvinnik/Dropbox/figures2/singlecell_pnm/figure2_modalities/bayesian/permutations//barplots': File exists\n",
      "mkdir: cannot create directory `/home/obotvinnik/Dropbox/figures2/singlecell_pnm/figure2_modalities/bayesian/permutations//tidy': File exists\n",
      "mkdir: cannot create directory `/home/obotvinnik/Dropbox/figures2/singlecell_pnm/figure2_modalities/bayesian/permutations//size': File exists\n",
      "mkdir: cannot create directory `/home/obotvinnik/Dropbox/figures2/singlecell_pnm/figure2_modalities/bayesian/permutations//psi': File exists\n"
     ]
    }
   ],
   "source": [
    "# %%bash\n",
    "\n",
    "! mkdir $folder/barplots\n",
    "!mkdir $folder/tidy\n",
    "!mkdir $folder/size\n",
    "!mkdir $folder/psi\n",
    "# mkdir $folder/modalities_sizes"
   ]
  },
  {
   "cell_type": "code",
   "execution_count": 26,
   "metadata": {
    "collapsed": false
   },
   "outputs": [],
   "source": [
    "import glob\n",
    "import os\n",
    "\n",
    "import pandas as pd\n",
    "import seaborn as sns\n",
    "import matplotlib as mpl\n",
    "import matplotlib.pyplot as plt\n",
    "\n",
    "%matplotlib inline\n",
    "sns.set(style='ticks', context='paper')\n"
   ]
  },
  {
   "cell_type": "code",
   "execution_count": 27,
   "metadata": {
    "collapsed": false
   },
   "outputs": [],
   "source": [
    "\n",
    "dfs = []\n",
    "\n",
    "for csv in sorted(glob.glob('{}/size/*.csv'.format(folder))):\n",
    "    df = pd.read_csv(csv, header=None, names=['phenotype', 'modality', 'size'])\n",
    "    df['iteration'] = int(os.path.basename(csv).split('.')[0].split('_')[1])\n",
    "    dfs.append(df)\n",
    "    \n",
    "sizes = pd.concat(dfs, ignore_index=True)\n",
    "# sizes.columns = "
   ]
  },
  {
   "cell_type": "code",
   "execution_count": 29,
   "metadata": {
    "collapsed": true
   },
   "outputs": [],
   "source": [
    "sizes['modality'] = sizes['modality'].replace({'~1': 'included', '~0': 'excluded', \n",
    "                                               'multimodal': 'ambivalent'})"
   ]
  },
  {
   "cell_type": "code",
   "execution_count": 30,
   "metadata": {
    "collapsed": false
   },
   "outputs": [
    {
     "data": {
      "text/html": [
       "<div>\n",
       "<table border=\"1\" class=\"dataframe\">\n",
       "  <thead>\n",
       "    <tr style=\"text-align: right;\">\n",
       "      <th></th>\n",
       "      <th>phenotype</th>\n",
       "      <th>modality</th>\n",
       "      <th>size</th>\n",
       "      <th>iteration</th>\n",
       "    </tr>\n",
       "  </thead>\n",
       "  <tbody>\n",
       "    <tr>\n",
       "      <th>7172</th>\n",
       "      <td>MN</td>\n",
       "      <td>included</td>\n",
       "      <td>136</td>\n",
       "      <td>999</td>\n",
       "    </tr>\n",
       "    <tr>\n",
       "      <th>7173</th>\n",
       "      <td>NPC</td>\n",
       "      <td>bimodal</td>\n",
       "      <td>4932</td>\n",
       "      <td>999</td>\n",
       "    </tr>\n",
       "    <tr>\n",
       "      <th>7174</th>\n",
       "      <td>NPC</td>\n",
       "      <td>included</td>\n",
       "      <td>8</td>\n",
       "      <td>999</td>\n",
       "    </tr>\n",
       "    <tr>\n",
       "      <th>7175</th>\n",
       "      <td>iPSC</td>\n",
       "      <td>bimodal</td>\n",
       "      <td>7629</td>\n",
       "      <td>999</td>\n",
       "    </tr>\n",
       "    <tr>\n",
       "      <th>7176</th>\n",
       "      <td>iPSC</td>\n",
       "      <td>included</td>\n",
       "      <td>4</td>\n",
       "      <td>999</td>\n",
       "    </tr>\n",
       "  </tbody>\n",
       "</table>\n",
       "</div>"
      ],
      "text/plain": [
       "     phenotype  modality  size  iteration\n",
       "7172        MN  included   136        999\n",
       "7173       NPC   bimodal  4932        999\n",
       "7174       NPC  included     8        999\n",
       "7175      iPSC   bimodal  7629        999\n",
       "7176      iPSC  included     4        999"
      ]
     },
     "execution_count": 30,
     "metadata": {},
     "output_type": "execute_result"
    }
   ],
   "source": [
    "sizes.tail()"
   ]
  },
  {
   "cell_type": "code",
   "execution_count": 34,
   "metadata": {
    "collapsed": true
   },
   "outputs": [],
   "source": [
    "import anchor"
   ]
  },
  {
   "cell_type": "code",
   "execution_count": 35,
   "metadata": {
    "collapsed": false
   },
   "outputs": [
    {
     "data": {
      "text/plain": [
       "<matplotlib.axes._subplots.AxesSubplot at 0x2b0535b42250>"
      ]
     },
     "execution_count": 35,
     "metadata": {},
     "output_type": "execute_result"
    },
    {
     "data": {
      "image/png": "[encoded data removed]",
      "text/plain": [
       "<matplotlib.figure.Figure at 0x2b0535864a50>"
      ]
     },
     "metadata": {},
     "output_type": "display_data"
    }
   ],
   "source": [
    "sns.barplot(x='phenotype', y='size', hue='modality', data=sizes, order=['iPSC', 'NPC', 'MN'], \n",
    "            hue_order=anchor.MODALITY_ORDER, palette=anchor.MODALITY_PALETTE)"
   ]
  },
  {
   "cell_type": "code",
   "execution_count": 36,
   "metadata": {
    "collapsed": false
   },
   "outputs": [
    {
     "data": {
      "text/plain": [
       "phenotype  modality  \n",
       "MN         ambivalent      16.501502\n",
       "           bimodal       2460.345345\n",
       "           excluded         1.104265\n",
       "           included       118.906907\n",
       "NPC        ambivalent       1.000000\n",
       "           bimodal       4929.364364\n",
       "           included        10.645291\n",
       "iPSC       bimodal       7629.528529\n",
       "           included         3.567901\n",
       "Name: size, dtype: float64"
      ]
     },
     "execution_count": 36,
     "metadata": {},
     "output_type": "execute_result"
    }
   ],
   "source": [
    "sizes.groupby(['phenotype', 'modality'])['size'].mean()"
   ]
  },
  {
   "cell_type": "code",
   "execution_count": 37,
   "metadata": {
    "collapsed": true
   },
   "outputs": [],
   "source": [
    "sns.set(style='ticks', context='paper')"
   ]
  },
  {
   "cell_type": "code",
   "execution_count": 38,
   "metadata": {
    "collapsed": false
   },
   "outputs": [
    {
     "data": {
      "image/png": "[encoded data removed]",
      "text/plain": [
       "<matplotlib.figure.Figure at 0x2b05352d9a10>"
      ]
     },
     "metadata": {},
     "output_type": "display_data"
    }
   ],
   "source": [
    "fig, axes = plt.subplots(figsize=(2, 2), nrows=2, gridspec_kw=dict(hspace=0.05, height_ratios=[0.2, 0.8]))\n",
    "ax = axes[0]\n",
    "sns.barplot(x='phenotype', y='size', hue='modality', data=sizes, order=['iPSC', 'NPC', 'MN'], \n",
    "            hue_order=anchor.MODALITY_ORDER, palette=anchor.MODALITY_PALETTE, ax=ax)\n",
    "ax.locator_params(nbins=3, axis='y')\n",
    "ymin, ymax = ax.get_ylim()\n",
    "# ax.set_ylim()\n",
    "ax.set(xticks=[], xlabel='', ylim=(1000, ymax), ylabel='', yticks=[1000, 5000, 10000])\n",
    "sns.despine(ax=ax, bottom=True)\n",
    "ax.legend_.remove()\n",
    "\n",
    "ax = axes[1]\n",
    "sns.barplot(x='phenotype', y='size', hue='modality', data=sizes, order=['iPSC', 'NPC', 'MN'], \n",
    "            hue_order=anchor.MODALITY_ORDER, palette=anchor.MODALITY_PALETTE, ax=ax)\n",
    "ax.set_ylim(0, 125)\n",
    "ax.locator_params(nbins=4, axis='y')\n",
    "ax.legend_.remove()\n",
    "sns.despine(ax=ax)\n",
    "# fig.tight_layout()\n",
    "# fig.s\n",
    "fig.savefig('{}/permuted_modality_barplot_counts.pdf'.format(folder))"
   ]
  },
  {
   "cell_type": "code",
   "execution_count": 39,
   "metadata": {
    "collapsed": false
   },
   "outputs": [
    {
     "data": {
      "text/html": [
       "<div>\n",
       "<table border=\"1\" class=\"dataframe\">\n",
       "  <thead>\n",
       "    <tr style=\"text-align: right;\">\n",
       "      <th></th>\n",
       "      <th>phenotype</th>\n",
       "      <th>modality</th>\n",
       "      <th>size</th>\n",
       "      <th>iteration</th>\n",
       "      <th>percentage</th>\n",
       "    </tr>\n",
       "  </thead>\n",
       "  <tbody>\n",
       "    <tr>\n",
       "      <th>0</th>\n",
       "      <td>MN</td>\n",
       "      <td>bimodal</td>\n",
       "      <td>2440</td>\n",
       "      <td>1</td>\n",
       "      <td>94.026975</td>\n",
       "    </tr>\n",
       "    <tr>\n",
       "      <th>1</th>\n",
       "      <td>MN</td>\n",
       "      <td>ambivalent</td>\n",
       "      <td>20</td>\n",
       "      <td>1</td>\n",
       "      <td>0.770713</td>\n",
       "    </tr>\n",
       "    <tr>\n",
       "      <th>2</th>\n",
       "      <td>MN</td>\n",
       "      <td>excluded</td>\n",
       "      <td>1</td>\n",
       "      <td>1</td>\n",
       "      <td>0.038536</td>\n",
       "    </tr>\n",
       "    <tr>\n",
       "      <th>3</th>\n",
       "      <td>MN</td>\n",
       "      <td>included</td>\n",
       "      <td>134</td>\n",
       "      <td>1</td>\n",
       "      <td>5.163776</td>\n",
       "    </tr>\n",
       "    <tr>\n",
       "      <th>4</th>\n",
       "      <td>NPC</td>\n",
       "      <td>bimodal</td>\n",
       "      <td>4933</td>\n",
       "      <td>1</td>\n",
       "      <td>99.858300</td>\n",
       "    </tr>\n",
       "  </tbody>\n",
       "</table>\n",
       "</div>"
      ],
      "text/plain": [
       "  phenotype    modality  size  iteration  percentage\n",
       "0        MN     bimodal  2440          1   94.026975\n",
       "1        MN  ambivalent    20          1    0.770713\n",
       "2        MN    excluded     1          1    0.038536\n",
       "3        MN    included   134          1    5.163776\n",
       "4       NPC     bimodal  4933          1   99.858300"
      ]
     },
     "execution_count": 39,
     "metadata": {},
     "output_type": "execute_result"
    }
   ],
   "source": [
    "percentages = sizes.copy()\n",
    "percentages['percentage'] = percentages.groupby(['phenotype', 'iteration'])['size'].apply(lambda x: 100*x/x.sum())\n",
    "percentages.head()"
   ]
  },
  {
   "cell_type": "code",
   "execution_count": 40,
   "metadata": {
    "collapsed": false
   },
   "outputs": [
    {
     "data": {
      "text/plain": [
       "phenotype  modality  \n",
       "MN         ambivalent     0.635654\n",
       "           bimodal       94.774950\n",
       "           excluded       0.042537\n",
       "           included       4.580412\n",
       "NPC        ambivalent     0.020243\n",
       "           bimodal       99.784704\n",
       "           included       0.215492\n",
       "iPSC       bimodal       99.954520\n",
       "           included       0.046743\n",
       "Name: percentage, dtype: float64"
      ]
     },
     "execution_count": 40,
     "metadata": {},
     "output_type": "execute_result"
    }
   ],
   "source": [
    "percentages.groupby(['phenotype', 'modality'])['percentage'].mean()"
   ]
  },
  {
   "cell_type": "code",
   "execution_count": 41,
   "metadata": {
    "collapsed": false
   },
   "outputs": [],
   "source": [
    "sns.set(style='ticks', context='paper')"
   ]
  },
  {
   "cell_type": "code",
   "execution_count": 43,
   "metadata": {
    "collapsed": false
   },
   "outputs": [
    {
     "data": {
      "image/png": "[encoded data removed]",
      "text/plain": [
       "<matplotlib.figure.Figure at 0x2b0535b3e910>"
      ]
     },
     "metadata": {},
     "output_type": "display_data"
    }
   ],
   "source": [
    "fig, axes = plt.subplots(figsize=(2, 1.5), nrows=2, gridspec_kw=dict(hspace=0.05, \n",
    "                                                                     height_ratios=[0.2, 0.8]))\n",
    "ax = axes[0]\n",
    "sns.barplot(x='phenotype', y='percentage', hue='modality', data=percentages, order=['iPSC', 'NPC', 'MN'], \n",
    "            hue_order=anchor.MODALITY_ORDER, palette=anchor.MODALITY_PALETTE, ax=ax)\n",
    "ax.locator_params(nbins=3, axis='y')\n",
    "ax.set(xticks=[], xlabel='', ylim=(90, 100), ylabel='')#, yticks=[50, 75, 100])\n",
    "sns.despine(ax=ax, bottom=True)\n",
    "ax.legend_.remove()\n",
    "\n",
    "ax = axes[1]\n",
    "sns.barplot(x='phenotype', y='percentage', hue='modality', data=percentages, order=['iPSC', 'NPC', 'MN'], \n",
    "            hue_order=anchor.MODALITY_ORDER, palette=anchor.MODALITY_PALETTE, ax=ax)\n",
    "ax.set_ylim(0, 5)\n",
    "ax.locator_params(nbins=3, axis='y')\n",
    "ax.legend_.remove()\n",
    "sns.despine(ax=ax)\n",
    "# fig.tight_layout()\n",
    "fig.savefig('{}/permuted_modality_barplot_percentage.pdf'.format(folder))"
   ]
  },
  {
   "cell_type": "code",
   "execution_count": null,
   "metadata": {
    "collapsed": true
   },
   "outputs": [],
   "source": []
  }
 ],
 "metadata": {
  "kernelspec": {
   "display_name": "Python 2",
   "language": "python",
   "name": "python2"
  },
  "language_info": {
   "codemirror_mode": {
    "name": "ipython",
    "version": 2
   },
   "file_extension": ".py",
   "mimetype": "text/x-python",
   "name": "python",
   "nbconvert_exporter": "python",
   "pygments_lexer": "ipython2",
   "version": "2.7.11"
  }
 },
 "nbformat": 4,
 "nbformat_minor": 0
}
