{
 "cells": [
  {
   "cell_type": "code",
   "execution_count": 5,
   "metadata": {
    "collapsed": false
   },
   "outputs": [
    {
     "name": "stderr",
     "output_type": "stream",
     "text": [
      "/home/obotvinnik/anaconda/lib/python2.7/site-packages/matplotlib/__init__.py:784: UserWarning: Found matplotlib configuration in ~/.matplotlib/. To conform with the XDG base directory standard, this configuration location has been deprecated on Linux, and the new location is now /home/obotvinnik/.config/matplotlib/. Please move your configuration there to ensure that matplotlib will continue to find it in the future.\n",
      "  _get_xdg_config_dir())\n",
      "/home/obotvinnik/anaconda/lib/python2.7/site-packages/pandas/io/parsers.py:1170: DtypeWarning: Columns (11,18,19,20) have mixed types. Specify dtype option on import or set low_memory=False.\n",
      "  data = self._reader.read(nrows)\n"
     ]
    },
    {
     "name": "stdout",
     "output_type": "stream",
     "text": [
      "2015-12-02 13:53:41\tReading datapackage from /home/obotvinnik/flotilla_projects/singlecell_pnm_figure3_modalities_features/datapackage.json\n",
      "2015-12-02 13:53:41\tParsing datapackage to create a Study object\n",
      "2015-12-02 13:54:30\tInitializing Study\n",
      "2015-12-02 13:54:30\tInitializing Predictor configuration manager for Study\n",
      "2015-12-02 13:54:30\tPredictor ExtraTreesClassifier is of type <class 'sklearn.ensemble.forest.ExtraTreesClassifier'>\n",
      "2015-12-02 13:54:30\tAdded ExtraTreesClassifier to default predictors\n",
      "2015-12-02 13:54:30\tPredictor ExtraTreesRegressor is of type <class 'sklearn.ensemble.forest.ExtraTreesRegressor'>\n",
      "2015-12-02 13:54:30\tAdded ExtraTreesRegressor to default predictors\n",
      "2015-12-02 13:54:30\tPredictor GradientBoostingClassifier is of type <class 'sklearn.ensemble.gradient_boosting.GradientBoostingClassifier'>\n",
      "2015-12-02 13:54:30\tAdded GradientBoostingClassifier to default predictors\n",
      "2015-12-02 13:54:30\tPredictor GradientBoostingRegressor is of type <class 'sklearn.ensemble.gradient_boosting.GradientBoostingRegressor'>\n",
      "2015-12-02 13:54:30\tAdded GradientBoostingRegressor to default predictors\n",
      "2015-12-02 13:54:34\tBuilding Gene Ontology database...\n",
      "2015-12-02 13:54:44\t\tDone.\n",
      "2015-12-02 13:54:45\tLoading metadata\n",
      "2015-12-02 13:54:45\tLoading expression data\n",
      "2015-12-02 13:54:45\tInitializing expression\n",
      "2015-12-02 13:54:45\tDone initializing expression\n",
      "2015-12-02 13:54:47\tLoading splicing data\n",
      "2015-12-02 13:54:47\tInitializing splicing\n",
      "2015-12-02 13:54:47\tDone initializing splicing\n",
      "2015-12-02 13:54:47\tSuccessfully initialized a Study object!\n"
     ]
    }
   ],
   "source": [
    "# %load_ext autoreload\n",
    "# %autoreload 2\n",
    "\n",
    "# import modish\n",
    "# import matplotlib.pyplot as plt\n",
    "# import seaborn as sns\n",
    "# import numpy as np\n",
    "# import pandas as pd\n",
    "\n",
    "# sns.set(style='ticks', context='talk', rc={'font.sans-serif':'Arial', 'pdf.fonttype': 42})\n",
    "\n",
    "# %matplotlib inline\n",
    "\n",
    "\n",
    "\n",
    "\n",
    "# import flotilla\n",
    "\n",
    "# study = flotilla.embark('singlecell_pnm_figure3_modalities_features')\n",
    "\n",
    "# not_outliers = study.splicing.singles.index.difference(study.splicing.outliers.index)"
   ]
  },
  {
   "cell_type": "code",
   "execution_count": 1,
   "metadata": {
    "collapsed": false
   },
   "outputs": [
    {
     "name": "stderr",
     "output_type": "stream",
     "text": [
      "/home/obotvinnik/anaconda/lib/python2.7/site-packages/matplotlib/__init__.py:784: UserWarning: Found matplotlib configuration in ~/.matplotlib/. To conform with the XDG base directory standard, this configuration location has been deprecated on Linux, and the new location is now /home/obotvinnik/.config/matplotlib/. Please move your configuration there to ensure that matplotlib will continue to find it in the future.\n",
      "  _get_xdg_config_dir())\n"
     ]
    }
   ],
   "source": [
    "import kvector\n",
    "\n",
    "%load_ext autoreload\n",
    "%autoreload"
   ]
  },
  {
   "cell_type": "code",
   "execution_count": 2,
   "metadata": {
    "collapsed": false
   },
   "outputs": [
    {
     "name": "stdout",
     "output_type": "stream",
     "text": [
      "mkdir: cannot create directory `/home/obotvinnik/Dropbox/figures2/singlecell_pnm/figure2_modalities/motifs': File exists\r\n"
     ]
    }
   ],
   "source": [
    "folder = '/home/obotvinnik/Dropbox/figures2/singlecell_pnm/figure2_modalities/motifs'\n",
    "! mkdir $folder"
   ]
  },
  {
   "cell_type": "code",
   "execution_count": 3,
   "metadata": {
    "collapsed": true
   },
   "outputs": [],
   "source": [
    "homer_folder = '/projects/ps-yeolab/obotvinnik/singlecell_pnms/figure2_modalities/homer/'"
   ]
  },
  {
   "cell_type": "code",
   "execution_count": 4,
   "metadata": {
    "collapsed": false,
    "scrolled": false
   },
   "outputs": [
    {
     "name": "stdout",
     "output_type": "stream",
     "text": [
      "\u001b[0m\u001b[01;34mexon2_MN_bimodal\u001b[0m/\r\n",
      "\u001b[01;34mexon2_MN_bimodal_downstream200\u001b[0m/\r\n",
      "\u001b[01;34mexon2_MN_bimodal_downstream400\u001b[0m/\r\n",
      "\u001b[01;34mexon2_MN_bimodal_downstream400_foreground\u001b[0m/\r\n",
      "\u001b[01;34mexon2_MN_bimodal_downstream400_placental_foreground\u001b[0m/\r\n",
      "\u001b[01;34mexon2_MN_bimodal_downstream400_primate_foreground\u001b[0m/\r\n",
      "\u001b[01;34mexon2_MN_bimodal_foreground\u001b[0m/\r\n",
      "\u001b[01;34mexon2_MN_bimodal_placental_foreground\u001b[0m/\r\n",
      "\u001b[01;34mexon2_MN_bimodal_primate_foreground\u001b[0m/\r\n",
      "\u001b[01;34mexon2_MN_bimodal_upstream200\u001b[0m/\r\n",
      "\u001b[01;34mexon2_MN_bimodal_upstream400\u001b[0m/\r\n",
      "\u001b[01;34mexon2_MN_multimodal\u001b[0m/\r\n",
      "\u001b[01;34mexon2_MN_multimodal_downstream200\u001b[0m/\r\n",
      "\u001b[01;34mexon2_MN_multimodal_downstream400\u001b[0m/\r\n",
      "\u001b[01;34mexon2_MN_multimodal_downstream400_foreground\u001b[0m/\r\n",
      "\u001b[01;34mexon2_MN_multimodal_downstream400_placental_foreground\u001b[0m/\r\n",
      "\u001b[01;34mexon2_MN_multimodal_downstream400_primate_foreground\u001b[0m/\r\n",
      "\u001b[01;34mexon2_MN_multimodal_foreground\u001b[0m/\r\n",
      "\u001b[01;34mexon2_MN_multimodal_placental_foreground\u001b[0m/\r\n",
      "\u001b[01;34mexon2_MN_multimodal_primate_foreground\u001b[0m/\r\n",
      "\u001b[01;34mexon2_MN_multimodal_upstream200\u001b[0m/\r\n",
      "\u001b[01;34mexon2_MN_multimodal_upstream400\u001b[0m/\r\n",
      "\u001b[01;34mexon2_MN_~0\u001b[0m/\r\n",
      "\u001b[01;34mexon2_MN_~0_downstream200\u001b[0m/\r\n",
      "\u001b[01;34mexon2_MN_~0_downstream400\u001b[0m/\r\n",
      "\u001b[01;34mexon2_MN_~0_downstream400_foreground\u001b[0m/\r\n",
      "\u001b[01;34mexon2_MN_~0_downstream400_placental_foreground\u001b[0m/\r\n",
      "\u001b[01;34mexon2_MN_~0_downstream400_primate_foreground\u001b[0m/\r\n",
      "\u001b[01;34mexon2_MN_~0_foreground\u001b[0m/\r\n",
      "\u001b[01;34mexon2_MN_~0_placental_foreground\u001b[0m/\r\n",
      "\u001b[01;34mexon2_MN_~0_primate_foreground\u001b[0m/\r\n",
      "\u001b[01;34mexon2_MN_~0_upstream200\u001b[0m/\r\n",
      "\u001b[01;34mexon2_MN_~0_upstream400\u001b[0m/\r\n",
      "\u001b[01;34mexon2_MN_~1\u001b[0m/\r\n",
      "\u001b[01;34mexon2_MN_~1_downstream200\u001b[0m/\r\n",
      "\u001b[01;34mexon2_MN_~1_downstream400\u001b[0m/\r\n",
      "\u001b[01;34mexon2_MN_~1_downstream400_foreground\u001b[0m/\r\n",
      "\u001b[01;34mexon2_MN_~1_downstream400_placental_foreground\u001b[0m/\r\n",
      "\u001b[01;34mexon2_MN_~1_downstream400_primate_foreground\u001b[0m/\r\n",
      "\u001b[01;34mexon2_MN_~1_foreground\u001b[0m/\r\n",
      "\u001b[01;34mexon2_MN_~1_placental_foreground\u001b[0m/\r\n",
      "\u001b[01;34mexon2_MN_~1_primate_foreground\u001b[0m/\r\n",
      "\u001b[01;34mexon2_MN_~1_upstream200\u001b[0m/\r\n",
      "\u001b[01;34mexon2_MN_~1_upstream400\u001b[0m/\r\n",
      "\u001b[01;34mexon2_NPC_bimodal\u001b[0m/\r\n",
      "\u001b[01;34mexon2_NPC_bimodal_downstream200\u001b[0m/\r\n",
      "\u001b[01;34mexon2_NPC_bimodal_downstream400\u001b[0m/\r\n",
      "\u001b[01;34mexon2_NPC_bimodal_downstream400_foreground\u001b[0m/\r\n",
      "\u001b[01;34mexon2_NPC_bimodal_downstream400_placental_foreground\u001b[0m/\r\n",
      "\u001b[01;34mexon2_NPC_bimodal_downstream400_primate_foreground\u001b[0m/\r\n",
      "\u001b[01;34mexon2_NPC_bimodal_foreground\u001b[0m/\r\n",
      "\u001b[01;34mexon2_NPC_bimodal_placental_foreground\u001b[0m/\r\n",
      "\u001b[01;34mexon2_NPC_bimodal_primate_foreground\u001b[0m/\r\n",
      "\u001b[01;34mexon2_NPC_bimodal_upstream200\u001b[0m/\r\n",
      "\u001b[01;34mexon2_NPC_bimodal_upstream400\u001b[0m/\r\n",
      "\u001b[01;34mexon2_NPC_~0\u001b[0m/\r\n",
      "\u001b[01;34mexon2_NPC_~0_downstream200\u001b[0m/\r\n",
      "\u001b[01;34mexon2_NPC_~0_downstream400\u001b[0m/\r\n",
      "\u001b[01;34mexon2_NPC_~0_downstream400_foreground\u001b[0m/\r\n",
      "\u001b[01;34mexon2_NPC_~0_downstream400_placental_foreground\u001b[0m/\r\n",
      "\u001b[01;34mexon2_NPC_~0_downstream400_primate_foreground\u001b[0m/\r\n",
      "\u001b[01;34mexon2_NPC_~0_foreground\u001b[0m/\r\n",
      "\u001b[01;34mexon2_NPC_~0_placental_foreground\u001b[0m/\r\n",
      "\u001b[01;34mexon2_NPC_~0_primate_foreground\u001b[0m/\r\n",
      "\u001b[01;34mexon2_NPC_~0_upstream200\u001b[0m/\r\n",
      "\u001b[01;34mexon2_NPC_~0_upstream400\u001b[0m/\r\n",
      "\u001b[01;34mexon2_NPC_~1\u001b[0m/\r\n",
      "\u001b[01;34mexon2_NPC_~1_downstream200\u001b[0m/\r\n",
      "\u001b[01;34mexon2_NPC_~1_downstream400\u001b[0m/\r\n",
      "\u001b[01;34mexon2_NPC_~1_downstream400_foreground\u001b[0m/\r\n",
      "\u001b[01;34mexon2_NPC_~1_downstream400_placental_foreground\u001b[0m/\r\n",
      "\u001b[01;34mexon2_NPC_~1_downstream400_primate_foreground\u001b[0m/\r\n",
      "\u001b[01;34mexon2_NPC_~1_foreground\u001b[0m/\r\n",
      "\u001b[01;34mexon2_NPC_~1_placental_foreground\u001b[0m/\r\n",
      "\u001b[01;34mexon2_NPC_~1_primate_foreground\u001b[0m/\r\n",
      "\u001b[01;34mexon2_NPC_~1_upstream200\u001b[0m/\r\n",
      "\u001b[01;34mexon2_NPC_~1_upstream400\u001b[0m/\r\n",
      "\u001b[01;34mexon2_bimodal\u001b[0m/\r\n",
      "\u001b[01;34mexon2_bimodal_downstream200\u001b[0m/\r\n",
      "\u001b[01;34mexon2_bimodal_downstream400\u001b[0m/\r\n",
      "\u001b[01;34mexon2_bimodal_upstream200\u001b[0m/\r\n",
      "\u001b[01;34mexon2_bimodal_upstream400\u001b[0m/\r\n",
      "\u001b[01;34mexon2_iPSC_bimodal\u001b[0m/\r\n",
      "\u001b[01;34mexon2_iPSC_bimodal_downstream200\u001b[0m/\r\n",
      "\u001b[01;34mexon2_iPSC_bimodal_downstream400\u001b[0m/\r\n",
      "\u001b[01;34mexon2_iPSC_bimodal_downstream400_foreground\u001b[0m/\r\n",
      "\u001b[01;34mexon2_iPSC_bimodal_downstream400_placental_foreground\u001b[0m/\r\n",
      "\u001b[01;34mexon2_iPSC_bimodal_downstream400_primate_foreground\u001b[0m/\r\n",
      "\u001b[01;34mexon2_iPSC_bimodal_foreground\u001b[0m/\r\n",
      "\u001b[01;34mexon2_iPSC_bimodal_placental_foreground\u001b[0m/\r\n",
      "\u001b[01;34mexon2_iPSC_bimodal_primate_foreground\u001b[0m/\r\n",
      "\u001b[01;34mexon2_iPSC_bimodal_upstream200\u001b[0m/\r\n",
      "\u001b[01;34mexon2_iPSC_bimodal_upstream400\u001b[0m/\r\n",
      "\u001b[01;34mexon2_iPSC_middle\u001b[0m/\r\n",
      "\u001b[01;34mexon2_iPSC_middle_downstream200\u001b[0m/\r\n",
      "\u001b[01;34mexon2_iPSC_middle_downstream400\u001b[0m/\r\n",
      "\u001b[01;34mexon2_iPSC_middle_downstream400_foreground\u001b[0m/\r\n",
      "\u001b[01;34mexon2_iPSC_middle_downstream400_placental_foreground\u001b[0m/\r\n",
      "\u001b[01;34mexon2_iPSC_middle_downstream400_primate_foreground\u001b[0m/\r\n",
      "\u001b[01;34mexon2_iPSC_middle_foreground\u001b[0m/\r\n",
      "\u001b[01;34mexon2_iPSC_middle_placental_foreground\u001b[0m/\r\n",
      "\u001b[01;34mexon2_iPSC_middle_primate_foreground\u001b[0m/\r\n",
      "\u001b[01;34mexon2_iPSC_middle_upstream200\u001b[0m/\r\n",
      "\u001b[01;34mexon2_iPSC_middle_upstream400\u001b[0m/\r\n",
      "\u001b[01;34mexon2_iPSC_multimodal\u001b[0m/\r\n",
      "\u001b[01;34mexon2_iPSC_multimodal_downstream200\u001b[0m/\r\n",
      "\u001b[01;34mexon2_iPSC_multimodal_downstream400\u001b[0m/\r\n",
      "\u001b[01;34mexon2_iPSC_multimodal_downstream400_foreground\u001b[0m/\r\n",
      "\u001b[01;34mexon2_iPSC_multimodal_downstream400_placental_foreground\u001b[0m/\r\n",
      "\u001b[01;34mexon2_iPSC_multimodal_downstream400_primate_foreground\u001b[0m/\r\n",
      "\u001b[01;34mexon2_iPSC_multimodal_foreground\u001b[0m/\r\n",
      "\u001b[01;34mexon2_iPSC_multimodal_placental_foreground\u001b[0m/\r\n",
      "\u001b[01;34mexon2_iPSC_multimodal_primate_foreground\u001b[0m/\r\n",
      "\u001b[01;34mexon2_iPSC_multimodal_upstream200\u001b[0m/\r\n",
      "\u001b[01;34mexon2_iPSC_multimodal_upstream400\u001b[0m/\r\n",
      "\u001b[01;34mexon2_iPSC_~0\u001b[0m/\r\n",
      "\u001b[01;34mexon2_iPSC_~0_downstream200\u001b[0m/\r\n",
      "\u001b[01;34mexon2_iPSC_~0_downstream400\u001b[0m/\r\n",
      "\u001b[01;34mexon2_iPSC_~0_downstream400_foreground\u001b[0m/\r\n",
      "\u001b[01;34mexon2_iPSC_~0_downstream400_placental_foreground\u001b[0m/\r\n",
      "\u001b[01;34mexon2_iPSC_~0_downstream400_primate_foreground\u001b[0m/\r\n",
      "\u001b[01;34mexon2_iPSC_~0_foreground\u001b[0m/\r\n",
      "\u001b[01;34mexon2_iPSC_~0_placental_foreground\u001b[0m/\r\n",
      "\u001b[01;34mexon2_iPSC_~0_primate_foreground\u001b[0m/\r\n",
      "\u001b[01;34mexon2_iPSC_~0_upstream200\u001b[0m/\r\n",
      "\u001b[01;34mexon2_iPSC_~0_upstream400\u001b[0m/\r\n",
      "\u001b[01;34mexon2_iPSC_~1\u001b[0m/\r\n",
      "\u001b[01;34mexon2_iPSC_~1_downstream200\u001b[0m/\r\n",
      "\u001b[01;34mexon2_iPSC_~1_downstream400\u001b[0m/\r\n",
      "\u001b[01;34mexon2_iPSC_~1_downstream400_foreground\u001b[0m/\r\n",
      "\u001b[01;34mexon2_iPSC_~1_downstream400_placental_foreground\u001b[0m/\r\n",
      "\u001b[01;34mexon2_iPSC_~1_downstream400_primate_foreground\u001b[0m/\r\n",
      "\u001b[01;34mexon2_iPSC_~1_foreground\u001b[0m/\r\n",
      "\u001b[01;34mexon2_iPSC_~1_placental_foreground\u001b[0m/\r\n",
      "\u001b[01;34mexon2_iPSC_~1_primate_foreground\u001b[0m/\r\n",
      "\u001b[01;34mexon2_iPSC_~1_upstream200\u001b[0m/\r\n",
      "\u001b[01;34mexon2_iPSC_~1_upstream400\u001b[0m/\r\n",
      "\u001b[01;34mexon2_middle\u001b[0m/\r\n",
      "\u001b[01;34mexon2_middle_downstream200\u001b[0m/\r\n",
      "\u001b[01;34mexon2_middle_downstream400\u001b[0m/\r\n",
      "\u001b[01;34mexon2_middle_upstream200\u001b[0m/\r\n",
      "\u001b[01;34mexon2_middle_upstream400\u001b[0m/\r\n",
      "\u001b[01;34mexon2_multimodal\u001b[0m/\r\n",
      "\u001b[01;34mexon2_multimodal_downstream200\u001b[0m/\r\n",
      "\u001b[01;34mexon2_multimodal_downstream400\u001b[0m/\r\n",
      "\u001b[01;34mexon2_multimodal_upstream200\u001b[0m/\r\n",
      "\u001b[01;34mexon2_multimodal_upstream400\u001b[0m/\r\n",
      "\u001b[01;34mexon2_~0\u001b[0m/\r\n",
      "\u001b[01;34mexon2_~0_downstream200\u001b[0m/\r\n",
      "\u001b[01;34mexon2_~0_downstream400\u001b[0m/\r\n",
      "\u001b[01;34mexon2_~0_upstream200\u001b[0m/\r\n",
      "\u001b[01;34mexon2_~0_upstream400\u001b[0m/\r\n",
      "\u001b[01;34mexon2_~1\u001b[0m/\r\n",
      "\u001b[01;34mexon2_~1_downstream200\u001b[0m/\r\n",
      "\u001b[01;34mexon2_~1_downstream400\u001b[0m/\r\n",
      "\u001b[01;34mexon2_~1_upstream200\u001b[0m/\r\n",
      "\u001b[01;34mexon2_~1_upstream400\u001b[0m/\r\n",
      "homer.err-1\r\n",
      "homer.err-10\r\n",
      "homer.err-100\r\n",
      "homer.err-101\r\n",
      "homer.err-102\r\n",
      "homer.err-103\r\n",
      "homer.err-104\r\n",
      "homer.err-105\r\n",
      "homer.err-106\r\n",
      "homer.err-107\r\n",
      "homer.err-108\r\n",
      "homer.err-11\r\n",
      "homer.err-12\r\n",
      "homer.err-13\r\n",
      "homer.err-14\r\n",
      "homer.err-15\r\n",
      "homer.err-16\r\n",
      "homer.err-17\r\n",
      "homer.err-18\r\n",
      "homer.err-19\r\n",
      "homer.err-2\r\n",
      "homer.err-20\r\n",
      "homer.err-21\r\n",
      "homer.err-22\r\n",
      "homer.err-23\r\n",
      "homer.err-24\r\n",
      "homer.err-25\r\n",
      "homer.err-26\r\n",
      "homer.err-27\r\n",
      "homer.err-28\r\n",
      "homer.err-29\r\n",
      "homer.err-3\r\n",
      "homer.err-30\r\n",
      "homer.err-31\r\n",
      "homer.err-32\r\n",
      "homer.err-33\r\n",
      "homer.err-34\r\n",
      "homer.err-35\r\n",
      "homer.err-36\r\n",
      "homer.err-37\r\n",
      "homer.err-38\r\n",
      "homer.err-39\r\n",
      "homer.err-4\r\n",
      "homer.err-40\r\n",
      "homer.err-41\r\n",
      "homer.err-42\r\n",
      "homer.err-43\r\n",
      "homer.err-44\r\n",
      "homer.err-45\r\n",
      "homer.err-46\r\n",
      "homer.err-47\r\n",
      "homer.err-48\r\n",
      "homer.err-49\r\n",
      "homer.err-5\r\n",
      "homer.err-50\r\n",
      "homer.err-51\r\n",
      "homer.err-52\r\n",
      "homer.err-53\r\n",
      "homer.err-54\r\n",
      "homer.err-55\r\n",
      "homer.err-56\r\n",
      "homer.err-57\r\n",
      "homer.err-58\r\n",
      "homer.err-59\r\n",
      "homer.err-6\r\n",
      "homer.err-60\r\n",
      "homer.err-61\r\n",
      "homer.err-62\r\n",
      "homer.err-63\r\n",
      "homer.err-64\r\n",
      "homer.err-65\r\n",
      "homer.err-66\r\n",
      "homer.err-67\r\n",
      "homer.err-68\r\n",
      "homer.err-69\r\n",
      "homer.err-7\r\n",
      "homer.err-70\r\n",
      "homer.err-71\r\n",
      "homer.err-72\r\n",
      "homer.err-73\r\n",
      "homer.err-74\r\n",
      "homer.err-75\r\n",
      "homer.err-76\r\n",
      "homer.err-77\r\n",
      "homer.err-78\r\n",
      "homer.err-79\r\n",
      "homer.err-8\r\n",
      "homer.err-80\r\n",
      "homer.err-81\r\n",
      "homer.err-82\r\n",
      "homer.err-83\r\n",
      "homer.err-84\r\n",
      "homer.err-85\r\n",
      "homer.err-86\r\n",
      "homer.err-87\r\n",
      "homer.err-88\r\n",
      "homer.err-89\r\n",
      "homer.err-9\r\n",
      "homer.err-90\r\n",
      "homer.err-91\r\n",
      "homer.err-92\r\n",
      "homer.err-93\r\n",
      "homer.err-94\r\n",
      "homer.err-95\r\n",
      "homer.err-96\r\n",
      "homer.err-97\r\n",
      "homer.err-98\r\n",
      "homer.err-99\r\n",
      "homer.out-1\r\n",
      "homer.out-10\r\n",
      "homer.out-100\r\n",
      "homer.out-101\r\n",
      "homer.out-102\r\n",
      "homer.out-103\r\n",
      "homer.out-104\r\n",
      "homer.out-105\r\n",
      "homer.out-106\r\n",
      "homer.out-107\r\n",
      "homer.out-108\r\n",
      "homer.out-11\r\n",
      "homer.out-12\r\n",
      "homer.out-13\r\n",
      "homer.out-14\r\n",
      "homer.out-15\r\n",
      "homer.out-16\r\n",
      "homer.out-17\r\n",
      "homer.out-18\r\n",
      "homer.out-19\r\n",
      "homer.out-2\r\n",
      "homer.out-20\r\n",
      "homer.out-21\r\n",
      "homer.out-22\r\n",
      "homer.out-23\r\n",
      "homer.out-24\r\n",
      "homer.out-25\r\n",
      "homer.out-26\r\n",
      "homer.out-27\r\n",
      "homer.out-28\r\n",
      "homer.out-29\r\n",
      "homer.out-3\r\n",
      "homer.out-30\r\n",
      "homer.out-31\r\n",
      "homer.out-32\r\n",
      "homer.out-33\r\n",
      "homer.out-34\r\n",
      "homer.out-35\r\n",
      "homer.out-36\r\n",
      "homer.out-37\r\n",
      "homer.out-38\r\n",
      "homer.out-39\r\n",
      "homer.out-4\r\n",
      "homer.out-40\r\n",
      "homer.out-41\r\n",
      "homer.out-42\r\n",
      "homer.out-43\r\n",
      "homer.out-44\r\n",
      "homer.out-45\r\n",
      "homer.out-46\r\n",
      "homer.out-47\r\n",
      "homer.out-48\r\n",
      "homer.out-49\r\n",
      "homer.out-5\r\n",
      "homer.out-50\r\n",
      "homer.out-51\r\n",
      "homer.out-52\r\n",
      "homer.out-53\r\n",
      "homer.out-54\r\n",
      "homer.out-55\r\n",
      "homer.out-56\r\n",
      "homer.out-57\r\n",
      "homer.out-58\r\n",
      "homer.out-59\r\n",
      "homer.out-6\r\n",
      "homer.out-60\r\n",
      "homer.out-61\r\n",
      "homer.out-62\r\n",
      "homer.out-63\r\n",
      "homer.out-64\r\n",
      "homer.out-65\r\n",
      "homer.out-66\r\n",
      "homer.out-67\r\n",
      "homer.out-68\r\n",
      "homer.out-69\r\n",
      "homer.out-7\r\n",
      "homer.out-70\r\n",
      "homer.out-71\r\n",
      "homer.out-72\r\n",
      "homer.out-73\r\n",
      "homer.out-74\r\n",
      "homer.out-75\r\n",
      "homer.out-76\r\n",
      "homer.out-77\r\n",
      "homer.out-78\r\n",
      "homer.out-79\r\n",
      "homer.out-8\r\n",
      "homer.out-80\r\n",
      "homer.out-81\r\n",
      "homer.out-82\r\n",
      "homer.out-83\r\n",
      "homer.out-84\r\n",
      "homer.out-85\r\n",
      "homer.out-86\r\n",
      "homer.out-87\r\n",
      "homer.out-88\r\n",
      "homer.out-89\r\n",
      "homer.out-9\r\n",
      "homer.out-90\r\n",
      "homer.out-91\r\n",
      "homer.out-92\r\n",
      "homer.out-93\r\n",
      "homer.out-94\r\n",
      "homer.out-95\r\n",
      "homer.out-96\r\n",
      "homer.out-97\r\n",
      "homer.out-98\r\n",
      "homer.out-99\r\n",
      "homer_modalities.tar.gz\r\n",
      "homer_vs_alternative_background.err-1\r\n",
      "homer_vs_alternative_background.err-10\r\n",
      "homer_vs_alternative_background.err-11\r\n",
      "homer_vs_alternative_background.err-12\r\n",
      "homer_vs_alternative_background.err-13\r\n",
      "homer_vs_alternative_background.err-14\r\n",
      "homer_vs_alternative_background.err-15\r\n",
      "homer_vs_alternative_background.err-16\r\n",
      "homer_vs_alternative_background.err-17\r\n",
      "homer_vs_alternative_background.err-18\r\n",
      "homer_vs_alternative_background.err-19\r\n",
      "homer_vs_alternative_background.err-2\r\n",
      "homer_vs_alternative_background.err-20\r\n",
      "homer_vs_alternative_background.err-21\r\n",
      "homer_vs_alternative_background.err-22\r\n",
      "homer_vs_alternative_background.err-23\r\n",
      "homer_vs_alternative_background.err-24\r\n",
      "homer_vs_alternative_background.err-25\r\n",
      "homer_vs_alternative_background.err-26\r\n",
      "homer_vs_alternative_background.err-27\r\n",
      "homer_vs_alternative_background.err-28\r\n",
      "homer_vs_alternative_background.err-29\r\n",
      "homer_vs_alternative_background.err-3\r\n",
      "homer_vs_alternative_background.err-30\r\n",
      "homer_vs_alternative_background.err-4\r\n",
      "homer_vs_alternative_background.err-5\r\n",
      "homer_vs_alternative_background.err-6\r\n",
      "homer_vs_alternative_background.err-7\r\n",
      "homer_vs_alternative_background.err-8\r\n",
      "homer_vs_alternative_background.err-9\r\n",
      "homer_vs_alternative_background.out-1\r\n",
      "homer_vs_alternative_background.out-10\r\n",
      "homer_vs_alternative_background.out-11\r\n",
      "homer_vs_alternative_background.out-12\r\n",
      "homer_vs_alternative_background.out-13\r\n",
      "homer_vs_alternative_background.out-14\r\n",
      "homer_vs_alternative_background.out-15\r\n",
      "homer_vs_alternative_background.out-16\r\n",
      "homer_vs_alternative_background.out-17\r\n",
      "homer_vs_alternative_background.out-18\r\n",
      "homer_vs_alternative_background.out-19\r\n",
      "homer_vs_alternative_background.out-2\r\n",
      "homer_vs_alternative_background.out-20\r\n",
      "homer_vs_alternative_background.out-21\r\n",
      "homer_vs_alternative_background.out-22\r\n",
      "homer_vs_alternative_background.out-23\r\n",
      "homer_vs_alternative_background.out-24\r\n",
      "homer_vs_alternative_background.out-25\r\n",
      "homer_vs_alternative_background.out-26\r\n",
      "homer_vs_alternative_background.out-27\r\n",
      "homer_vs_alternative_background.out-28\r\n",
      "homer_vs_alternative_background.out-29\r\n",
      "homer_vs_alternative_background.out-3\r\n",
      "homer_vs_alternative_background.out-30\r\n",
      "homer_vs_alternative_background.out-4\r\n",
      "homer_vs_alternative_background.out-5\r\n",
      "homer_vs_alternative_background.out-6\r\n",
      "homer_vs_alternative_background.out-7\r\n",
      "homer_vs_alternative_background.out-8\r\n",
      "homer_vs_alternative_background.out-9\r\n",
      "\u001b[m"
     ]
    }
   ],
   "source": [
    "ls $homer_folder"
   ]
  },
  {
   "cell_type": "code",
   "execution_count": null,
   "metadata": {
    "collapsed": false
   },
   "outputs": [],
   "source": [
    "# %%time\n",
    "\n",
    "import glob\n",
    "\n",
    "globber = '/projects/ps-yeolab/obotvinnik/singlecell_pnms/figure2_modalities/homer/*ground/homerMotifs.all.motifs'\n",
    "\n",
    "celltypes = 'iPSC', 'NPC', 'MN', 'sMN'\n",
    "\n",
    "metadata_dfs = []\n",
    "motif_kvector_dfs = []\n",
    "\n",
    "kmer_lengths = 4, 5, 6\n",
    "\n",
    "for filename in glob.glob(globber):\n",
    "    motifs = kvector.read_motifs(filename, residues='ACGU')\n",
    "    metadata = kvector.create_metadata(motifs)\n",
    "\n",
    "    prefix = filename.split('/')[-2]\n",
    "    split = prefix.split('_')\n",
    "#     print moti\n",
    "#     motif_kind = prefix.split('exon2')[1]\n",
    "    if 'stream' not in prefix:\n",
    "        location = 'exonbody'\n",
    "    else:\n",
    "        location = split[-2]\n",
    "    if not any(map(lambda x: x in prefix, celltypes)):\n",
    "#         motif_kind = '_allcelltypes' + motif_kind\n",
    "        celltype = 'allcelltypes'\n",
    "        modality = split[1]\n",
    "    else:\n",
    "        celltype = [x for x in celltypes if x in prefix][0]\n",
    "        modality = split[2]\n",
    "    print '\\t'.join([celltype, location, modality])\n",
    "    motif_suffix = '_{}_{}_{}'.format(celltype, location, modality)\n",
    "    metadata['Motif ID'] += motif_suffix\n",
    "    metadata['Celltype'] = celltype\n",
    "    metadata['Location'] = location\n",
    "    metadata['Modality'] = modality\n",
    "    metadata_dfs.append(metadata)\n",
    "    \n",
    "    \n",
    "    motif_kvectors = kvector.motifs_to_kmer_vectors(motifs, residues='ACGU', kmer_lengths=kmer_lengths)\n",
    "    motif_kvector_dfs.append(motif_kvectors)"
   ]
  },
  {
   "cell_type": "code",
   "execution_count": null,
   "metadata": {
    "collapsed": true
   },
   "outputs": [],
   "source": [
    "motif_metadata = pd.concat(metadata_dfs, ignore_index=True)\n",
    "motif_metadata.head()"
   ]
  },
  {
   "cell_type": "code",
   "execution_count": null,
   "metadata": {
    "collapsed": true
   },
   "outputs": [],
   "source": [
    "motif_kvectors = pd.concat(motif_kvector_dfs, axis=1)\n",
    "motif_kvectors.head()"
   ]
  },
  {
   "cell_type": "code",
   "execution_count": 5,
   "metadata": {
    "collapsed": true
   },
   "outputs": [],
   "source": [
    "from Bio import motifs"
   ]
  },
  {
   "cell_type": "code",
   "execution_count": 10,
   "metadata": {
    "collapsed": true
   },
   "outputs": [],
   "source": [
    "filename = '/projects/ps-yeolab/obotvinnik/singlecell_pnms/figure2_modalities/homer/exon2_bimodal/homerMotifs.all.motifs'"
   ]
  },
  {
   "cell_type": "code",
   "execution_count": 11,
   "metadata": {
    "collapsed": true
   },
   "outputs": [],
   "source": [
    "from Bio import SeqIO"
   ]
  },
  {
   "cell_type": "code",
   "execution_count": 12,
   "metadata": {
    "collapsed": true
   },
   "outputs": [],
   "source": [
    "def score_kmers(pwm, kmers):\n",
    "    \"\"\"Generator to score kmers given a position-weight matrix\n",
    "    \n",
    "    Parameters\n",
    "    ----------\n",
    "    pwm : pandas.DataFrame\n",
    "        A (length, 4) dataframe of the weight of each position's probability \n",
    "        of each nucleotide\n",
    "    kmers : list of list\n",
    "        A list of kmers strings as lists, e.g. [['G', 'G', 'G', 'G', 'G', 'G']]\n",
    "    \n",
    "    \"\"\"\n",
    "    motif_length = pwm.shape[0]\n",
    "    for kmer in kmers:\n",
    "        k = len(kmer)\n",
    "        \n",
    "        divisor = min(k, motif_length)\n",
    "        if k == motif_length:\n",
    "            score = np.sum(pwm.lookup(range(motif_length), kmer))/divisor\n",
    "        elif k > motif_length:\n",
    "            starts = range(k - motif_length + 1)\n",
    "            n_positions = len(starts)\n",
    "            score = sum(np.sum(pwm.lookup(range(motif_length), \n",
    "                                                kmer[start:(start+motif_length)]))/divisor\n",
    "                        for start in starts)/n_positions\n",
    "        else:\n",
    "            # k < motif_length\n",
    "            starts = range(motif_length - k + 1)\n",
    "            n_positions = len(starts)\n",
    "            score = sum(np.sum(pwm.lookup(range(start, start+k), kmer))/divisor\n",
    "                        for start in starts)/n_positions\n",
    "        yield score"
   ]
  },
  {
   "cell_type": "code",
   "execution_count": 13,
   "metadata": {
    "collapsed": false
   },
   "outputs": [],
   "source": [
    "import six\n",
    "import pandas as pd\n",
    "\n",
    "RNA = 'ACGU'\n",
    "DNA = 'ACGT'\n",
    "\n",
    "def homer_motif_reader(handle, residues=DNA):\n",
    "    \"\"\"Read homer.motifs output and return tuples of motif_id, motif_pwm (as pandas dataframe)\n",
    "    \n",
    "    \n",
    "    \"\"\"\n",
    "    names = list(residues)\n",
    "    record_id, record = None, ''\n",
    "    new_record_id = None\n",
    "    for line in handle:\n",
    "        if line.startswith('>'):\n",
    "            new_record_id = line.lstrip('>').strip()\n",
    "            if record_id is None:\n",
    "                record_id = new_record_id\n",
    "            if len(record) > 0:\n",
    "#                 print '\\n', record\n",
    "                pwm = pd.read_table(six.StringIO(record), header=None, names=names)\n",
    "                yield record_id, pwm\n",
    "                record = ''\n",
    "                record_id = new_record_id\n",
    "        else:\n",
    "            record += line"
   ]
  },
  {
   "cell_type": "code",
   "execution_count": 14,
   "metadata": {
    "collapsed": false
   },
   "outputs": [],
   "source": [
    "with open(filename) as f:\n",
    "    records = pd.Series(dict(homer_motif_reader(f, residues=RNA)))"
   ]
  },
  {
   "cell_type": "code",
   "execution_count": 15,
   "metadata": {
    "collapsed": false
   },
   "outputs": [
    {
     "data": {
      "text/plain": [
       "'ATAGT\\t1-ATAGT\\t4.350544\\t-9.740063\\t0\\tT:886.0(41.11%),B:2079.4(37.06%),P:1e-4\\tTpos:104.3,Tstd:61.5,Bpos:101.6,Bstd:63.3,StrandBias:10.0,Multiplicity:1.37'"
      ]
     },
     "execution_count": 15,
     "metadata": {},
     "output_type": "execute_result"
    }
   ],
   "source": [
    "records.index[0]"
   ]
  },
  {
   "cell_type": "code",
   "execution_count": 16,
   "metadata": {
    "collapsed": false
   },
   "outputs": [
    {
     "data": {
      "text/html": [
       "<div>\n",
       "<table border=\"1\" class=\"dataframe\">\n",
       "  <thead>\n",
       "    <tr style=\"text-align: right;\">\n",
       "      <th></th>\n",
       "      <th>A</th>\n",
       "      <th>C</th>\n",
       "      <th>G</th>\n",
       "      <th>U</th>\n",
       "    </tr>\n",
       "  </thead>\n",
       "  <tbody>\n",
       "    <tr>\n",
       "      <th>0</th>\n",
       "      <td>0.613</td>\n",
       "      <td>0.150</td>\n",
       "      <td>0.236</td>\n",
       "      <td>0.001</td>\n",
       "    </tr>\n",
       "    <tr>\n",
       "      <th>1</th>\n",
       "      <td>0.001</td>\n",
       "      <td>0.036</td>\n",
       "      <td>0.006</td>\n",
       "      <td>0.957</td>\n",
       "    </tr>\n",
       "    <tr>\n",
       "      <th>2</th>\n",
       "      <td>0.749</td>\n",
       "      <td>0.001</td>\n",
       "      <td>0.001</td>\n",
       "      <td>0.249</td>\n",
       "    </tr>\n",
       "    <tr>\n",
       "      <th>3</th>\n",
       "      <td>0.180</td>\n",
       "      <td>0.176</td>\n",
       "      <td>0.643</td>\n",
       "      <td>0.001</td>\n",
       "    </tr>\n",
       "    <tr>\n",
       "      <th>4</th>\n",
       "      <td>0.036</td>\n",
       "      <td>0.001</td>\n",
       "      <td>0.157</td>\n",
       "      <td>0.806</td>\n",
       "    </tr>\n",
       "  </tbody>\n",
       "</table>\n",
       "</div>"
      ],
      "text/plain": [
       "       A      C      G      U\n",
       "0  0.613  0.150  0.236  0.001\n",
       "1  0.001  0.036  0.006  0.957\n",
       "2  0.749  0.001  0.001  0.249\n",
       "3  0.180  0.176  0.643  0.001\n",
       "4  0.036  0.001  0.157  0.806"
      ]
     },
     "execution_count": 16,
     "metadata": {},
     "output_type": "execute_result"
    }
   ],
   "source": [
    "records[0]"
   ]
  },
  {
   "cell_type": "code",
   "execution_count": 17,
   "metadata": {
    "collapsed": true
   },
   "outputs": [],
   "source": [
    "import os"
   ]
  },
  {
   "cell_type": "code",
   "execution_count": 18,
   "metadata": {
    "collapsed": false
   },
   "outputs": [
    {
     "data": {
      "text/plain": [
       "'bimodal_exonbody'"
      ]
     },
     "execution_count": 18,
     "metadata": {},
     "output_type": "execute_result"
    }
   ],
   "source": [
    "motif_kind = filename.split('/')[-2]\n",
    "motif_kind = motif_kind.split('exon2_')[1]\n",
    "if 'stream' not in motif_kind:\n",
    "    motif_kind += '_exonbody'\n",
    "motif_kind"
   ]
  },
  {
   "cell_type": "code",
   "execution_count": 19,
   "metadata": {
    "collapsed": false
   },
   "outputs": [],
   "source": [
    "with open(filename) as f:\n",
    "    records = pd.Series(dict(homer_motif_reader(f, residues=RNA)))"
   ]
  },
  {
   "cell_type": "code",
   "execution_count": 20,
   "metadata": {
    "collapsed": false
   },
   "outputs": [
    {
     "data": {
      "text/html": [
       "<div>\n",
       "<table border=\"1\" class=\"dataframe\">\n",
       "  <thead>\n",
       "    <tr style=\"text-align: right;\">\n",
       "      <th></th>\n",
       "      <th>Consensus Sequence</th>\n",
       "      <th>Motif ID</th>\n",
       "      <th>Log Odds Threshold</th>\n",
       "      <th>$\\log(p)$</th>\n",
       "      <th>empty_placeholder</th>\n",
       "      <th>Occurence Information</th>\n",
       "      <th>Motif Statistics</th>\n",
       "    </tr>\n",
       "  </thead>\n",
       "  <tbody>\n",
       "    <tr>\n",
       "      <th>0</th>\n",
       "      <td>ATAGT</td>\n",
       "      <td>1-ATAGT_exon2_bimodal</td>\n",
       "      <td>4.350544</td>\n",
       "      <td>-9.740063</td>\n",
       "      <td>0</td>\n",
       "      <td>T:886.0(41.11%),B:2079.4(37.06%),P:1e-4</td>\n",
       "      <td>Tpos:104.3,Tstd:61.5,Bpos:101.6,Bstd:63.3,Stra...</td>\n",
       "    </tr>\n",
       "    <tr>\n",
       "      <th>1</th>\n",
       "      <td>CAGC</td>\n",
       "      <td>3-CAGC_exon2_bimodal</td>\n",
       "      <td>4.118477</td>\n",
       "      <td>-1.880757</td>\n",
       "      <td>0</td>\n",
       "      <td>T:1300.0(60.32%),B:3322.1(59.21%),P:1e0</td>\n",
       "      <td>Tpos:98.7,Tstd:51.1,Bpos:102.0,Bstd:53.4,Stran...</td>\n",
       "    </tr>\n",
       "    <tr>\n",
       "      <th>2</th>\n",
       "      <td>CATAG</td>\n",
       "      <td>2-CATAG_exon2_bimodal</td>\n",
       "      <td>5.148096</td>\n",
       "      <td>-6.631287</td>\n",
       "      <td>0</td>\n",
       "      <td>T:266.0(12.34%),B:578.7(10.31%),P:1e-2</td>\n",
       "      <td>Tpos:94.2,Tstd:59.8,Bpos:95.5,Bstd:59.5,Strand...</td>\n",
       "    </tr>\n",
       "    <tr>\n",
       "      <th>3</th>\n",
       "      <td>CGCGG</td>\n",
       "      <td>3-CGCGG_exon2_bimodal</td>\n",
       "      <td>5.148096</td>\n",
       "      <td>-6.455443</td>\n",
       "      <td>0</td>\n",
       "      <td>T:62.0(2.88%),B:108.8(1.94%),P:1e-2</td>\n",
       "      <td>Tpos:104.5,Tstd:51.1,Bpos:101.7,Bstd:54.3,Stra...</td>\n",
       "    </tr>\n",
       "    <tr>\n",
       "      <th>4</th>\n",
       "      <td>CGGCG</td>\n",
       "      <td>4-CGGCG_exon2_bimodal</td>\n",
       "      <td>5.148096</td>\n",
       "      <td>-4.123304</td>\n",
       "      <td>0</td>\n",
       "      <td>T:69.0(3.20%),B:137.2(2.45%),P:1e-1</td>\n",
       "      <td>Tpos:92.9,Tstd:55.5,Bpos:102.6,Bstd:53.6,Stran...</td>\n",
       "    </tr>\n",
       "  </tbody>\n",
       "</table>\n",
       "</div>"
      ],
      "text/plain": [
       "  Consensus Sequence               Motif ID Log Odds Threshold  $\\log(p)$  \\\n",
       "0              ATAGT  1-ATAGT_exon2_bimodal           4.350544  -9.740063   \n",
       "1               CAGC   3-CAGC_exon2_bimodal           4.118477  -1.880757   \n",
       "2              CATAG  2-CATAG_exon2_bimodal           5.148096  -6.631287   \n",
       "3              CGCGG  3-CGCGG_exon2_bimodal           5.148096  -6.455443   \n",
       "4              CGGCG  4-CGGCG_exon2_bimodal           5.148096  -4.123304   \n",
       "\n",
       "  empty_placeholder                    Occurence Information  \\\n",
       "0                 0  T:886.0(41.11%),B:2079.4(37.06%),P:1e-4   \n",
       "1                 0  T:1300.0(60.32%),B:3322.1(59.21%),P:1e0   \n",
       "2                 0   T:266.0(12.34%),B:578.7(10.31%),P:1e-2   \n",
       "3                 0      T:62.0(2.88%),B:108.8(1.94%),P:1e-2   \n",
       "4                 0      T:69.0(3.20%),B:137.2(2.45%),P:1e-1   \n",
       "\n",
       "                                    Motif Statistics  \n",
       "0  Tpos:104.3,Tstd:61.5,Bpos:101.6,Bstd:63.3,Stra...  \n",
       "1  Tpos:98.7,Tstd:51.1,Bpos:102.0,Bstd:53.4,Stran...  \n",
       "2  Tpos:94.2,Tstd:59.8,Bpos:95.5,Bstd:59.5,Strand...  \n",
       "3  Tpos:104.5,Tstd:51.1,Bpos:101.7,Bstd:54.3,Stra...  \n",
       "4  Tpos:92.9,Tstd:55.5,Bpos:102.6,Bstd:53.6,Stran...  "
      ]
     },
     "execution_count": 20,
     "metadata": {},
     "output_type": "execute_result"
    }
   ],
   "source": [
    "motif_metadata = pd.DataFrame.from_records(records.index.map(lambda x: pd.Series(x.split())))\n",
    "motif_metadata.columns = ['Consensus Sequence', 'Motif ID', 'Log Odds Threshold', '$\\log(p)$', \n",
    "                          'empty_placeholder', 'Occurence Information','Motif Statistics']\n",
    "motif_metadata['Motif ID'] += '_exon2_bimodal'\n",
    "motif_metadata.head()"
   ]
  },
  {
   "cell_type": "code",
   "execution_count": 21,
   "metadata": {
    "collapsed": true
   },
   "outputs": [],
   "source": [
    "numeric_cols = ['Log Odds Threshold', '$\\log(p)$']\n",
    "motif_metadata[numeric_cols] = motif_metadata[numeric_cols].astype(float)"
   ]
  },
  {
   "cell_type": "code",
   "execution_count": 22,
   "metadata": {
    "collapsed": false
   },
   "outputs": [
    {
     "data": {
      "text/html": [
       "<div>\n",
       "<table border=\"1\" class=\"dataframe\">\n",
       "  <thead>\n",
       "    <tr style=\"text-align: right;\">\n",
       "      <th></th>\n",
       "      <th>Consensus Sequence</th>\n",
       "      <th>Motif ID</th>\n",
       "      <th>Log Odds Threshold</th>\n",
       "      <th>$\\log(p)$</th>\n",
       "      <th>empty_placeholder</th>\n",
       "      <th>Occurence Information</th>\n",
       "      <th>Motif Statistics</th>\n",
       "    </tr>\n",
       "  </thead>\n",
       "  <tbody>\n",
       "    <tr>\n",
       "      <th>16</th>\n",
       "      <td>TCATGC</td>\n",
       "      <td>1-TCATGC_exon2_bimodal</td>\n",
       "      <td>5.747481</td>\n",
       "      <td>-16.657492</td>\n",
       "      <td>0</td>\n",
       "      <td>T:295.0(13.69%),B:565.8(10.09%),P:1e-7</td>\n",
       "      <td>Tpos:104.4,Tstd:56.8,Bpos:99.4,Bstd:56.3,Stran...</td>\n",
       "    </tr>\n",
       "    <tr>\n",
       "      <th>14</th>\n",
       "      <td>TAATAA</td>\n",
       "      <td>2-TAATAA_exon2_bimodal</td>\n",
       "      <td>5.536464</td>\n",
       "      <td>-15.684112</td>\n",
       "      <td>0</td>\n",
       "      <td>T:714.0(33.13%),B:1575.1(28.08%),P:1e-6</td>\n",
       "      <td>Tpos:101.0,Tstd:66.1,Bpos:102.9,Bstd:66.1,Stra...</td>\n",
       "    </tr>\n",
       "    <tr>\n",
       "      <th>13</th>\n",
       "      <td>TAAGGC</td>\n",
       "      <td>3-TAAGGC_exon2_bimodal</td>\n",
       "      <td>6.159867</td>\n",
       "      <td>-14.388388</td>\n",
       "      <td>0</td>\n",
       "      <td>T:274.0(12.71%),B:533.0(9.50%),P:1e-6</td>\n",
       "      <td>Tpos:114.4,Tstd:58.5,Bpos:107.7,Bstd:61.1,Stra...</td>\n",
       "    </tr>\n",
       "    <tr>\n",
       "      <th>7</th>\n",
       "      <td>GCGGTA</td>\n",
       "      <td>4-GCGGTA_exon2_bimodal</td>\n",
       "      <td>7.112015</td>\n",
       "      <td>-11.537986</td>\n",
       "      <td>0</td>\n",
       "      <td>T:52.0(2.41%),B:70.2(1.25%),P:1e-5</td>\n",
       "      <td>Tpos:101.3,Tstd:54.7,Bpos:108.4,Bstd:53.5,Stra...</td>\n",
       "    </tr>\n",
       "    <tr>\n",
       "      <th>9</th>\n",
       "      <td>GGTCTG</td>\n",
       "      <td>5-GGTCTG_exon2_bimodal</td>\n",
       "      <td>6.177716</td>\n",
       "      <td>-10.385220</td>\n",
       "      <td>0</td>\n",
       "      <td>T:121.0(5.61%),B:215.3(3.84%),P:1e-4</td>\n",
       "      <td>Tpos:109.9,Tstd:55.2,Bpos:101.6,Bstd:58.7,Stra...</td>\n",
       "    </tr>\n",
       "    <tr>\n",
       "      <th>8</th>\n",
       "      <td>GGATAT</td>\n",
       "      <td>6-GGATAT_exon2_bimodal</td>\n",
       "      <td>6.177716</td>\n",
       "      <td>-10.385220</td>\n",
       "      <td>0</td>\n",
       "      <td>T:121.0(5.61%),B:215.8(3.85%),P:1e-4</td>\n",
       "      <td>Tpos:99.5,Tstd:50.6,Bpos:100.8,Bstd:51.6,Stran...</td>\n",
       "    </tr>\n",
       "    <tr>\n",
       "      <th>11</th>\n",
       "      <td>GTCCGA</td>\n",
       "      <td>7-GTCCGA_exon2_bimodal</td>\n",
       "      <td>6.177716</td>\n",
       "      <td>-10.339579</td>\n",
       "      <td>0</td>\n",
       "      <td>T:29.0(1.35%),B:32.8(0.59%),P:1e-4</td>\n",
       "      <td>Tpos:107.8,Tstd:42.4,Bpos:104.4,Bstd:46.7,Stra...</td>\n",
       "    </tr>\n",
       "    <tr>\n",
       "      <th>0</th>\n",
       "      <td>ATAGT</td>\n",
       "      <td>1-ATAGT_exon2_bimodal</td>\n",
       "      <td>4.350544</td>\n",
       "      <td>-9.740063</td>\n",
       "      <td>0</td>\n",
       "      <td>T:886.0(41.11%),B:2079.4(37.06%),P:1e-4</td>\n",
       "      <td>Tpos:104.3,Tstd:61.5,Bpos:101.6,Bstd:63.3,Stra...</td>\n",
       "    </tr>\n",
       "    <tr>\n",
       "      <th>2</th>\n",
       "      <td>CATAG</td>\n",
       "      <td>2-CATAG_exon2_bimodal</td>\n",
       "      <td>5.148096</td>\n",
       "      <td>-6.631287</td>\n",
       "      <td>0</td>\n",
       "      <td>T:266.0(12.34%),B:578.7(10.31%),P:1e-2</td>\n",
       "      <td>Tpos:94.2,Tstd:59.8,Bpos:95.5,Bstd:59.5,Strand...</td>\n",
       "    </tr>\n",
       "    <tr>\n",
       "      <th>3</th>\n",
       "      <td>CGCGG</td>\n",
       "      <td>3-CGCGG_exon2_bimodal</td>\n",
       "      <td>5.148096</td>\n",
       "      <td>-6.455443</td>\n",
       "      <td>0</td>\n",
       "      <td>T:62.0(2.88%),B:108.8(1.94%),P:1e-2</td>\n",
       "      <td>Tpos:104.5,Tstd:51.1,Bpos:101.7,Bstd:54.3,Stra...</td>\n",
       "    </tr>\n",
       "    <tr>\n",
       "      <th>15</th>\n",
       "      <td>TAGT</td>\n",
       "      <td>1-TAGT_exon2_bimodal</td>\n",
       "      <td>4.118477</td>\n",
       "      <td>-5.746311</td>\n",
       "      <td>0</td>\n",
       "      <td>T:922.0(42.78%),B:2237.9(39.89%),P:1e-2</td>\n",
       "      <td>Tpos:104.4,Tstd:62.7,Bpos:107.1,Bstd:65.3,Stra...</td>\n",
       "    </tr>\n",
       "    <tr>\n",
       "      <th>4</th>\n",
       "      <td>CGGCG</td>\n",
       "      <td>4-CGGCG_exon2_bimodal</td>\n",
       "      <td>5.148096</td>\n",
       "      <td>-4.123304</td>\n",
       "      <td>0</td>\n",
       "      <td>T:69.0(3.20%),B:137.2(2.45%),P:1e-1</td>\n",
       "      <td>Tpos:92.9,Tstd:55.5,Bpos:102.6,Bstd:53.6,Stran...</td>\n",
       "    </tr>\n",
       "    <tr>\n",
       "      <th>10</th>\n",
       "      <td>GGTGG</td>\n",
       "      <td>5-GGTGG_exon2_bimodal</td>\n",
       "      <td>5.148096</td>\n",
       "      <td>-3.547884</td>\n",
       "      <td>0</td>\n",
       "      <td>T:486.0(22.55%),B:1170.4(20.86%),P:1e-1</td>\n",
       "      <td>Tpos:110.3,Tstd:56.2,Bpos:112.3,Bstd:55.7,Stra...</td>\n",
       "    </tr>\n",
       "    <tr>\n",
       "      <th>5</th>\n",
       "      <td>CTAG</td>\n",
       "      <td>2-CTAG_exon2_bimodal</td>\n",
       "      <td>4.118477</td>\n",
       "      <td>-3.482703</td>\n",
       "      <td>0</td>\n",
       "      <td>T:833.0(38.65%),B:2058.1(36.68%),P:1e-1</td>\n",
       "      <td>Tpos:97.6,Tstd:58.3,Bpos:96.2,Bstd:60.9,Strand...</td>\n",
       "    </tr>\n",
       "    <tr>\n",
       "      <th>1</th>\n",
       "      <td>CAGC</td>\n",
       "      <td>3-CAGC_exon2_bimodal</td>\n",
       "      <td>4.118477</td>\n",
       "      <td>-1.880757</td>\n",
       "      <td>0</td>\n",
       "      <td>T:1300.0(60.32%),B:3322.1(59.21%),P:1e0</td>\n",
       "      <td>Tpos:98.7,Tstd:51.1,Bpos:102.0,Bstd:53.4,Stran...</td>\n",
       "    </tr>\n",
       "    <tr>\n",
       "      <th>6</th>\n",
       "      <td>GCCG</td>\n",
       "      <td>4-GCCG_exon2_bimodal</td>\n",
       "      <td>4.118477</td>\n",
       "      <td>-1.867386</td>\n",
       "      <td>0</td>\n",
       "      <td>T:371.0(17.22%),B:919.4(16.39%),P:1e0</td>\n",
       "      <td>Tpos:98.9,Tstd:53.0,Bpos:101.1,Bstd:52.2,Stran...</td>\n",
       "    </tr>\n",
       "    <tr>\n",
       "      <th>12</th>\n",
       "      <td>GTGG</td>\n",
       "      <td>5-GTGG_exon2_bimodal</td>\n",
       "      <td>4.118477</td>\n",
       "      <td>-1.289850</td>\n",
       "      <td>0</td>\n",
       "      <td>T:1217.0(56.47%),B:3132.0(55.83%),P:1e0</td>\n",
       "      <td>Tpos:107.3,Tstd:55.0,Bpos:108.0,Bstd:54.5,Stra...</td>\n",
       "    </tr>\n",
       "  </tbody>\n",
       "</table>\n",
       "</div>"
      ],
      "text/plain": [
       "   Consensus Sequence                Motif ID  Log Odds Threshold  $\\log(p)$  \\\n",
       "16             TCATGC  1-TCATGC_exon2_bimodal            5.747481 -16.657492   \n",
       "14             TAATAA  2-TAATAA_exon2_bimodal            5.536464 -15.684112   \n",
       "13             TAAGGC  3-TAAGGC_exon2_bimodal            6.159867 -14.388388   \n",
       "7              GCGGTA  4-GCGGTA_exon2_bimodal            7.112015 -11.537986   \n",
       "9              GGTCTG  5-GGTCTG_exon2_bimodal            6.177716 -10.385220   \n",
       "8              GGATAT  6-GGATAT_exon2_bimodal            6.177716 -10.385220   \n",
       "11             GTCCGA  7-GTCCGA_exon2_bimodal            6.177716 -10.339579   \n",
       "0               ATAGT   1-ATAGT_exon2_bimodal            4.350544  -9.740063   \n",
       "2               CATAG   2-CATAG_exon2_bimodal            5.148096  -6.631287   \n",
       "3               CGCGG   3-CGCGG_exon2_bimodal            5.148096  -6.455443   \n",
       "15               TAGT    1-TAGT_exon2_bimodal            4.118477  -5.746311   \n",
       "4               CGGCG   4-CGGCG_exon2_bimodal            5.148096  -4.123304   \n",
       "10              GGTGG   5-GGTGG_exon2_bimodal            5.148096  -3.547884   \n",
       "5                CTAG    2-CTAG_exon2_bimodal            4.118477  -3.482703   \n",
       "1                CAGC    3-CAGC_exon2_bimodal            4.118477  -1.880757   \n",
       "6                GCCG    4-GCCG_exon2_bimodal            4.118477  -1.867386   \n",
       "12               GTGG    5-GTGG_exon2_bimodal            4.118477  -1.289850   \n",
       "\n",
       "   empty_placeholder                    Occurence Information  \\\n",
       "16                 0   T:295.0(13.69%),B:565.8(10.09%),P:1e-7   \n",
       "14                 0  T:714.0(33.13%),B:1575.1(28.08%),P:1e-6   \n",
       "13                 0    T:274.0(12.71%),B:533.0(9.50%),P:1e-6   \n",
       "7                  0       T:52.0(2.41%),B:70.2(1.25%),P:1e-5   \n",
       "9                  0     T:121.0(5.61%),B:215.3(3.84%),P:1e-4   \n",
       "8                  0     T:121.0(5.61%),B:215.8(3.85%),P:1e-4   \n",
       "11                 0       T:29.0(1.35%),B:32.8(0.59%),P:1e-4   \n",
       "0                  0  T:886.0(41.11%),B:2079.4(37.06%),P:1e-4   \n",
       "2                  0   T:266.0(12.34%),B:578.7(10.31%),P:1e-2   \n",
       "3                  0      T:62.0(2.88%),B:108.8(1.94%),P:1e-2   \n",
       "15                 0  T:922.0(42.78%),B:2237.9(39.89%),P:1e-2   \n",
       "4                  0      T:69.0(3.20%),B:137.2(2.45%),P:1e-1   \n",
       "10                 0  T:486.0(22.55%),B:1170.4(20.86%),P:1e-1   \n",
       "5                  0  T:833.0(38.65%),B:2058.1(36.68%),P:1e-1   \n",
       "1                  0  T:1300.0(60.32%),B:3322.1(59.21%),P:1e0   \n",
       "6                  0    T:371.0(17.22%),B:919.4(16.39%),P:1e0   \n",
       "12                 0  T:1217.0(56.47%),B:3132.0(55.83%),P:1e0   \n",
       "\n",
       "                                     Motif Statistics  \n",
       "16  Tpos:104.4,Tstd:56.8,Bpos:99.4,Bstd:56.3,Stran...  \n",
       "14  Tpos:101.0,Tstd:66.1,Bpos:102.9,Bstd:66.1,Stra...  \n",
       "13  Tpos:114.4,Tstd:58.5,Bpos:107.7,Bstd:61.1,Stra...  \n",
       "7   Tpos:101.3,Tstd:54.7,Bpos:108.4,Bstd:53.5,Stra...  \n",
       "9   Tpos:109.9,Tstd:55.2,Bpos:101.6,Bstd:58.7,Stra...  \n",
       "8   Tpos:99.5,Tstd:50.6,Bpos:100.8,Bstd:51.6,Stran...  \n",
       "11  Tpos:107.8,Tstd:42.4,Bpos:104.4,Bstd:46.7,Stra...  \n",
       "0   Tpos:104.3,Tstd:61.5,Bpos:101.6,Bstd:63.3,Stra...  \n",
       "2   Tpos:94.2,Tstd:59.8,Bpos:95.5,Bstd:59.5,Strand...  \n",
       "3   Tpos:104.5,Tstd:51.1,Bpos:101.7,Bstd:54.3,Stra...  \n",
       "15  Tpos:104.4,Tstd:62.7,Bpos:107.1,Bstd:65.3,Stra...  \n",
       "4   Tpos:92.9,Tstd:55.5,Bpos:102.6,Bstd:53.6,Stran...  \n",
       "10  Tpos:110.3,Tstd:56.2,Bpos:112.3,Bstd:55.7,Stra...  \n",
       "5   Tpos:97.6,Tstd:58.3,Bpos:96.2,Bstd:60.9,Strand...  \n",
       "1   Tpos:98.7,Tstd:51.1,Bpos:102.0,Bstd:53.4,Stran...  \n",
       "6   Tpos:98.9,Tstd:53.0,Bpos:101.1,Bstd:52.2,Stran...  \n",
       "12  Tpos:107.3,Tstd:55.0,Bpos:108.0,Bstd:54.5,Stra...  "
      ]
     },
     "execution_count": 22,
     "metadata": {},
     "output_type": "execute_result"
    }
   ],
   "source": [
    "motif_metadata.sort('$\\log(p)$', ascending=True)"
   ]
  },
  {
   "cell_type": "code",
   "execution_count": 23,
   "metadata": {
    "collapsed": false
   },
   "outputs": [
    {
     "data": {
      "text/plain": [
       "array([5, 4, 6])"
      ]
     },
     "execution_count": 23,
     "metadata": {},
     "output_type": "execute_result"
    }
   ],
   "source": [
    "motif_metadata['Consensus Sequence'].map(len).unique()"
   ]
  },
  {
   "cell_type": "code",
   "execution_count": 24,
   "metadata": {
    "collapsed": false
   },
   "outputs": [
    {
     "name": "stdout",
     "output_type": "stream",
     "text": [
      "5376\n",
      "5376\n"
     ]
    },
    {
     "data": {
      "text/plain": [
       "['AAAA',\n",
       " 'AAAC',\n",
       " 'AAAG',\n",
       " 'AAAU',\n",
       " 'AACA',\n",
       " 'AACC',\n",
       " 'AACG',\n",
       " 'AACU',\n",
       " 'AAGA',\n",
       " 'AAGC']"
      ]
     },
     "execution_count": 24,
     "metadata": {},
     "output_type": "execute_result"
    }
   ],
   "source": [
    "import itertools\n",
    "\n",
    "kmer_lengths = 4, 5, 6\n",
    "\n",
    "print sum(4**k for k in kmer_lengths)\n",
    "\n",
    "kmers = list(itertools.chain(\n",
    "    *[map(lambda x: ''.join(x), itertools.product('ACGU', repeat=k)) for k in kmer_lengths]))\n",
    "print len(kmers)\n",
    "kmers_list = map(list, kmers)\n",
    "kmers[:10]"
   ]
  },
  {
   "cell_type": "code",
   "execution_count": 86,
   "metadata": {
    "collapsed": false
   },
   "outputs": [
    {
     "name": "stdout",
     "output_type": "stream",
     "text": [
      "Automatic pdb calling has been turned OFF\n"
     ]
    }
   ],
   "source": [
    "%pdb"
   ]
  },
  {
   "cell_type": "code",
   "execution_count": 87,
   "metadata": {
    "collapsed": true
   },
   "outputs": [],
   "source": [
    "records.index = motif_metadata['Motif ID']"
   ]
  },
  {
   "cell_type": "code",
   "execution_count": 88,
   "metadata": {
    "collapsed": false
   },
   "outputs": [
    {
     "data": {
      "text/plain": [
       "(29,)"
      ]
     },
     "execution_count": 88,
     "metadata": {},
     "output_type": "execute_result"
    }
   ],
   "source": [
    "records.shape"
   ]
  },
  {
   "cell_type": "code",
   "execution_count": 89,
   "metadata": {
    "collapsed": false
   },
   "outputs": [],
   "source": [
    "# for motif_name, pwm in records.iteritems():\n",
    "#     print motif_name\n",
    "#     print pwm\n",
    "# #     pd.Series(score_kmers(pwm, kmers_list), index=kmers)"
   ]
  },
  {
   "cell_type": "code",
   "execution_count": 90,
   "metadata": {
    "collapsed": false
   },
   "outputs": [
    {
     "data": {
      "text/html": [
       "<div>\n",
       "<table border=\"1\" class=\"dataframe\">\n",
       "  <thead>\n",
       "    <tr style=\"text-align: right;\">\n",
       "      <th>Motif ID</th>\n",
       "      <th>6-ACTACG_exon2_bimodal</th>\n",
       "      <th>8-ACWCAG_exon2_bimodal</th>\n",
       "      <th>1-AGAC_exon2_bimodal</th>\n",
       "      <th>4-AGCGRT_exon2_bimodal</th>\n",
       "      <th>7-CACAC_exon2_bimodal</th>\n",
       "      <th>6-CCACC_exon2_bimodal</th>\n",
       "      <th>15-CCACCA_exon2_bimodal</th>\n",
       "      <th>13-CCGTCA_exon2_bimodal</th>\n",
       "      <th>1-CGGATC_exon2_bimodal</th>\n",
       "      <th>1-CGGCT_exon2_bimodal</th>\n",
       "      <th>...</th>\n",
       "      <th>4-GTCG_exon2_bimodal</th>\n",
       "      <th>5-GTCGA_exon2_bimodal</th>\n",
       "      <th>3-GTCGAG_exon2_bimodal</th>\n",
       "      <th>9-TAATCC_exon2_bimodal</th>\n",
       "      <th>4-TCAGC_exon2_bimodal</th>\n",
       "      <th>2-TGCC_exon2_bimodal</th>\n",
       "      <th>14-TTAGAC_exon2_bimodal</th>\n",
       "      <th>12-TTGTCG_exon2_bimodal</th>\n",
       "      <th>8-TTTTT_exon2_bimodal</th>\n",
       "      <th>16-TTTTTT_exon2_bimodal</th>\n",
       "    </tr>\n",
       "  </thead>\n",
       "  <tbody>\n",
       "    <tr>\n",
       "      <th>AAAA</th>\n",
       "      <td>0.30625</td>\n",
       "      <td>0.325917</td>\n",
       "      <td>0.40</td>\n",
       "      <td>0.189667</td>\n",
       "      <td>0.457750</td>\n",
       "      <td>0.261500</td>\n",
       "      <td>0.304833</td>\n",
       "      <td>0.132500</td>\n",
       "      <td>0.173417</td>\n",
       "      <td>0.090750</td>\n",
       "      <td>...</td>\n",
       "      <td>0.10</td>\n",
       "      <td>0.2025</td>\n",
       "      <td>0.223833</td>\n",
       "      <td>0.454667</td>\n",
       "      <td>0.250</td>\n",
       "      <td>0.10</td>\n",
       "      <td>0.356500</td>\n",
       "      <td>0.001</td>\n",
       "      <td>0.10</td>\n",
       "      <td>0.10</td>\n",
       "    </tr>\n",
       "    <tr>\n",
       "      <th>AAAC</th>\n",
       "      <td>0.30450</td>\n",
       "      <td>0.357750</td>\n",
       "      <td>0.55</td>\n",
       "      <td>0.199417</td>\n",
       "      <td>0.478375</td>\n",
       "      <td>0.510500</td>\n",
       "      <td>0.416000</td>\n",
       "      <td>0.116333</td>\n",
       "      <td>0.189500</td>\n",
       "      <td>0.109875</td>\n",
       "      <td>...</td>\n",
       "      <td>0.10</td>\n",
       "      <td>0.0780</td>\n",
       "      <td>0.140833</td>\n",
       "      <td>0.576250</td>\n",
       "      <td>0.325</td>\n",
       "      <td>0.25</td>\n",
       "      <td>0.356500</td>\n",
       "      <td>0.084</td>\n",
       "      <td>0.10</td>\n",
       "      <td>0.10</td>\n",
       "    </tr>\n",
       "    <tr>\n",
       "      <th>AAAG</th>\n",
       "      <td>0.28850</td>\n",
       "      <td>0.299833</td>\n",
       "      <td>0.40</td>\n",
       "      <td>0.281833</td>\n",
       "      <td>0.374500</td>\n",
       "      <td>0.261500</td>\n",
       "      <td>0.250000</td>\n",
       "      <td>0.033333</td>\n",
       "      <td>0.107667</td>\n",
       "      <td>0.045875</td>\n",
       "      <td>...</td>\n",
       "      <td>0.25</td>\n",
       "      <td>0.2025</td>\n",
       "      <td>0.306833</td>\n",
       "      <td>0.441083</td>\n",
       "      <td>0.325</td>\n",
       "      <td>0.10</td>\n",
       "      <td>0.356500</td>\n",
       "      <td>0.084</td>\n",
       "      <td>0.10</td>\n",
       "      <td>0.10</td>\n",
       "    </tr>\n",
       "    <tr>\n",
       "      <th>AAAU</th>\n",
       "      <td>0.23575</td>\n",
       "      <td>0.244833</td>\n",
       "      <td>0.40</td>\n",
       "      <td>0.224083</td>\n",
       "      <td>0.353875</td>\n",
       "      <td>0.261500</td>\n",
       "      <td>0.278167</td>\n",
       "      <td>0.100167</td>\n",
       "      <td>0.203750</td>\n",
       "      <td>0.186000</td>\n",
       "      <td>...</td>\n",
       "      <td>0.10</td>\n",
       "      <td>0.0780</td>\n",
       "      <td>0.140833</td>\n",
       "      <td>0.518333</td>\n",
       "      <td>0.250</td>\n",
       "      <td>0.10</td>\n",
       "      <td>0.273500</td>\n",
       "      <td>0.084</td>\n",
       "      <td>0.25</td>\n",
       "      <td>0.25</td>\n",
       "    </tr>\n",
       "    <tr>\n",
       "      <th>AACA</th>\n",
       "      <td>0.32050</td>\n",
       "      <td>0.315333</td>\n",
       "      <td>0.25</td>\n",
       "      <td>0.262000</td>\n",
       "      <td>0.478375</td>\n",
       "      <td>0.292625</td>\n",
       "      <td>0.387833</td>\n",
       "      <td>0.199333</td>\n",
       "      <td>0.136667</td>\n",
       "      <td>0.109875</td>\n",
       "      <td>...</td>\n",
       "      <td>0.25</td>\n",
       "      <td>0.3270</td>\n",
       "      <td>0.223833</td>\n",
       "      <td>0.416000</td>\n",
       "      <td>0.175</td>\n",
       "      <td>0.25</td>\n",
       "      <td>0.230167</td>\n",
       "      <td>0.084</td>\n",
       "      <td>0.10</td>\n",
       "      <td>0.10</td>\n",
       "    </tr>\n",
       "  </tbody>\n",
       "</table>\n",
       "<p>5 rows × 29 columns</p>\n",
       "</div>"
      ],
      "text/plain": [
       "Motif ID  6-ACTACG_exon2_bimodal  8-ACWCAG_exon2_bimodal  \\\n",
       "AAAA                     0.30625                0.325917   \n",
       "AAAC                     0.30450                0.357750   \n",
       "AAAG                     0.28850                0.299833   \n",
       "AAAU                     0.23575                0.244833   \n",
       "AACA                     0.32050                0.315333   \n",
       "\n",
       "Motif ID  1-AGAC_exon2_bimodal  4-AGCGRT_exon2_bimodal  7-CACAC_exon2_bimodal  \\\n",
       "AAAA                      0.40                0.189667               0.457750   \n",
       "AAAC                      0.55                0.199417               0.478375   \n",
       "AAAG                      0.40                0.281833               0.374500   \n",
       "AAAU                      0.40                0.224083               0.353875   \n",
       "AACA                      0.25                0.262000               0.478375   \n",
       "\n",
       "Motif ID  6-CCACC_exon2_bimodal  15-CCACCA_exon2_bimodal  \\\n",
       "AAAA                   0.261500                 0.304833   \n",
       "AAAC                   0.510500                 0.416000   \n",
       "AAAG                   0.261500                 0.250000   \n",
       "AAAU                   0.261500                 0.278167   \n",
       "AACA                   0.292625                 0.387833   \n",
       "\n",
       "Motif ID  13-CCGTCA_exon2_bimodal  1-CGGATC_exon2_bimodal  \\\n",
       "AAAA                     0.132500                0.173417   \n",
       "AAAC                     0.116333                0.189500   \n",
       "AAAG                     0.033333                0.107667   \n",
       "AAAU                     0.100167                0.203750   \n",
       "AACA                     0.199333                0.136667   \n",
       "\n",
       "Motif ID  1-CGGCT_exon2_bimodal           ...             \\\n",
       "AAAA                   0.090750           ...              \n",
       "AAAC                   0.109875           ...              \n",
       "AAAG                   0.045875           ...              \n",
       "AAAU                   0.186000           ...              \n",
       "AACA                   0.109875           ...              \n",
       "\n",
       "Motif ID  4-GTCG_exon2_bimodal  5-GTCGA_exon2_bimodal  3-GTCGAG_exon2_bimodal  \\\n",
       "AAAA                      0.10                 0.2025                0.223833   \n",
       "AAAC                      0.10                 0.0780                0.140833   \n",
       "AAAG                      0.25                 0.2025                0.306833   \n",
       "AAAU                      0.10                 0.0780                0.140833   \n",
       "AACA                      0.25                 0.3270                0.223833   \n",
       "\n",
       "Motif ID  9-TAATCC_exon2_bimodal  4-TCAGC_exon2_bimodal  2-TGCC_exon2_bimodal  \\\n",
       "AAAA                    0.454667                  0.250                  0.10   \n",
       "AAAC                    0.576250                  0.325                  0.25   \n",
       "AAAG                    0.441083                  0.325                  0.10   \n",
       "AAAU                    0.518333                  0.250                  0.10   \n",
       "AACA                    0.416000                  0.175                  0.25   \n",
       "\n",
       "Motif ID  14-TTAGAC_exon2_bimodal  12-TTGTCG_exon2_bimodal  \\\n",
       "AAAA                     0.356500                    0.001   \n",
       "AAAC                     0.356500                    0.084   \n",
       "AAAG                     0.356500                    0.084   \n",
       "AAAU                     0.273500                    0.084   \n",
       "AACA                     0.230167                    0.084   \n",
       "\n",
       "Motif ID  8-TTTTT_exon2_bimodal  16-TTTTTT_exon2_bimodal  \n",
       "AAAA                       0.10                     0.10  \n",
       "AAAC                       0.10                     0.10  \n",
       "AAAG                       0.10                     0.10  \n",
       "AAAU                       0.25                     0.25  \n",
       "AACA                       0.10                     0.10  \n",
       "\n",
       "[5 rows x 29 columns]"
      ]
     },
     "execution_count": 90,
     "metadata": {},
     "output_type": "execute_result"
    }
   ],
   "source": [
    "motif_scores = records.map(lambda x: pd.Series(score_kmers(x, kmers_list), index=kmers))\n",
    "motif_scores = pd.DataFrame.from_records(motif_scores).T\n",
    "motif_scores.columns = records.index\n",
    "motif_scores.head()"
   ]
  },
  {
   "cell_type": "code",
   "execution_count": 102,
   "metadata": {
    "collapsed": false
   },
   "outputs": [
    {
     "name": "stdout",
     "output_type": "stream",
     "text": [
      "5376\n",
      "5376\n",
      "iPSC\tupstream200\t~1\n",
      "iPSC\tdownstream200\tbimodal\n",
      "iPSC\texonbody\t~0\n",
      "allcelltypes\tupstream200\tmultimodal\n",
      "iPSC\texonbody\tmultimodal\n",
      "NPC\tupstream200\t~1\n",
      "iPSC\tupstream200\tmultimodal\n",
      "MN\tupstream200\t~0\n",
      "NPC\tdownstream200\t~0\n",
      "iPSC\tdownstream200\tmultimodal\n",
      "MN\tdownstream200\tmultimodal\n",
      "NPC\texonbody\t~1\n",
      "MN\texonbody\tbimodal\n",
      "allcelltypes\tupstream200\tbimodal\n",
      "allcelltypes\tdownstream200\tbimodal\n",
      "allcelltypes\tdownstream200\tmiddle\n",
      "MN\texonbody\t~0\n",
      "allcelltypes\texonbody\t~1\n",
      "allcelltypes\tdownstream200\t~0\n",
      "iPSC\tupstream200\tbimodal\n",
      "allcelltypes\texonbody\tbimodal\n",
      "iPSC\tdownstream200\t~0\n",
      "MN\tdownstream200\t~0\n",
      "allcelltypes\tupstream200\t~0\n",
      "MN\tupstream200\tbimodal\n",
      "allcelltypes\tdownstream200\t~1\n",
      "MN\tdownstream200\tbimodal\n",
      "iPSC\tdownstream200\t~1\n",
      "MN\tdownstream200\t~1\n",
      "allcelltypes\texonbody\tmultimodal\n",
      "iPSC\tdownstream200\tmiddle\n",
      "allcelltypes\tupstream200\t~1\n",
      "iPSC\texonbody\t~1\n",
      "allcelltypes\tupstream200\tmiddle\n",
      "NPC\tdownstream200\t~1\n",
      "allcelltypes\texonbody\tmiddle\n",
      "NPC\texonbody\tbimodal\n",
      "iPSC\texonbody\tmiddle\n",
      "allcelltypes\tdownstream200\tmultimodal\n",
      "MN\texonbody\tmultimodal\n",
      "MN\tupstream200\tmultimodal\n",
      "iPSC\tupstream200\t~0\n",
      "allcelltypes\texonbody\t~0\n",
      "NPC\tdownstream200\tbimodal\n",
      "iPSC\tupstream200\tmiddle\n",
      "iPSC\texonbody\tbimodal\n",
      "NPC\tupstream200\tbimodal\n",
      "MN\texonbody\t~1\n",
      "MN\tupstream200\t~1\n",
      "NPC\texonbody\t~0\n",
      "NPC\tupstream200\t~0\n"
     ]
    }
   ],
   "source": [
    "# %%time\n",
    "\n",
    "import glob\n",
    "\n",
    "globber = '/projects/ps-yeolab/obotvinnik/singlecell_pnms/figure2_modalities/homer/*/homerMotifs.all.motifs'\n",
    "\n",
    "\n",
    "metadata_dfs = []\n",
    "score_dfs = []\n",
    "\n",
    "import itertools\n",
    "\n",
    "kmer_lengths = 4, 5, 6\n",
    "\n",
    "print sum(4**k for k in kmer_lengths)\n",
    "\n",
    "kmers = list(itertools.chain(\n",
    "    *[map(lambda x: ''.join(x), itertools.product(RNA, repeat=k)) for k in kmer_lengths]))\n",
    "print len(kmers)\n",
    "kmers_list = map(list, kmers)\n",
    "kmers[:10]\n",
    "\n",
    "celltypes = 'iPSC', 'NPC', 'MN', 'sMN'\n",
    "\n",
    "for filename in glob.glob(globber):\n",
    "    with open(filename) as f:\n",
    "        records = pd.Series(dict(homer_motif_reader(f, residues=RNA)))\n",
    "    metadata = pd.DataFrame.from_records(records.index.map(lambda x: pd.Series(x.split())))\n",
    "    metadata.columns = ['Consensus Sequence', 'Motif ID', 'Log Odds Threshold', \n",
    "                                                       '$\\log(p)$', 'empty_placeholder', 'Occurence Information', \n",
    "                                                       'Motif Statistics']\n",
    "    prefix = filename.split('/')[-2]\n",
    "    split = prefix.split('_')\n",
    "#     print moti\n",
    "#     motif_kind = prefix.split('exon2')[1]\n",
    "    if 'stream' not in prefix:\n",
    "        location = 'exonbody'\n",
    "    else:\n",
    "        location = split[-1]\n",
    "    if not any(map(lambda x: x in prefix, celltypes)):\n",
    "#         motif_kind = '_allcelltypes' + motif_kind\n",
    "        celltype = 'allcelltypes'\n",
    "        modality = split[1]\n",
    "    else:\n",
    "        celltype = [x for x in celltypes if x in prefix][0]\n",
    "        modality = split[2]\n",
    "    print '\\t'.join([celltype, location, modality])\n",
    "    motif_suffix = '_{}_{}_{}'.format(celltype, location, modality)\n",
    "    metadata['Motif ID'] += motif_kind\n",
    "    metadata['Celltype'] = celltype\n",
    "    metadata['Location'] = location\n",
    "    metadata['Modality'] = modality\n",
    "    metadata_dfs.append(metadata)\n",
    "    \n",
    "    motif_scores = records.map(lambda x: pd.Series(score_kmers(x, kmers_list), index=kmers))\n",
    "    motif_scores = pd.DataFrame.from_records(motif_scores).T\n",
    "    motif_scores.columns = metadata['Motif ID']\n",
    "    score_dfs.append(motif_scores)"
   ]
  },
  {
   "cell_type": "code",
   "execution_count": 109,
   "metadata": {
    "collapsed": false
   },
   "outputs": [
    {
     "data": {
      "text/html": [
       "<div>\n",
       "<table border=\"1\" class=\"dataframe\">\n",
       "  <thead>\n",
       "    <tr style=\"text-align: right;\">\n",
       "      <th></th>\n",
       "      <th>Consensus Sequence</th>\n",
       "      <th>Log Odds Threshold</th>\n",
       "      <th>$\\log(p)$</th>\n",
       "      <th>empty_placeholder</th>\n",
       "      <th>Occurence Information</th>\n",
       "      <th>Motif Statistics</th>\n",
       "      <th>Celltype</th>\n",
       "      <th>Location</th>\n",
       "      <th>Modality</th>\n",
       "    </tr>\n",
       "    <tr>\n",
       "      <th>Motif ID</th>\n",
       "      <th></th>\n",
       "      <th></th>\n",
       "      <th></th>\n",
       "      <th></th>\n",
       "      <th></th>\n",
       "      <th></th>\n",
       "      <th></th>\n",
       "      <th></th>\n",
       "      <th></th>\n",
       "    </tr>\n",
       "  </thead>\n",
       "  <tbody>\n",
       "    <tr>\n",
       "      <th>13-AATTA_NPC_~0_upstream200</th>\n",
       "      <td>AATTA</td>\n",
       "      <td>6.408577</td>\n",
       "      <td>-10.206288</td>\n",
       "      <td>0</td>\n",
       "      <td>T:1456.0(31.58%),B:808.1(28.89%),P:1e-4</td>\n",
       "      <td>Tpos:100.2,Tstd:54.6,Bpos:100.4,Bstd:59.0,Stra...</td>\n",
       "      <td>iPSC</td>\n",
       "      <td>upstream200</td>\n",
       "      <td>~1</td>\n",
       "    </tr>\n",
       "    <tr>\n",
       "      <th>22-ACACCG_NPC_~0_upstream200</th>\n",
       "      <td>ACACCG</td>\n",
       "      <td>6.177716</td>\n",
       "      <td>-16.617527</td>\n",
       "      <td>0</td>\n",
       "      <td>T:31.0(0.67%),B:6.7(0.24%),P:1e-7</td>\n",
       "      <td>Tpos:98.1,Tstd:61.8,Bpos:148.3,Bstd:40.0,Stran...</td>\n",
       "      <td>iPSC</td>\n",
       "      <td>upstream200</td>\n",
       "      <td>~1</td>\n",
       "    </tr>\n",
       "    <tr>\n",
       "      <th>16-ACCAA_NPC_~0_upstream200</th>\n",
       "      <td>ACCAA</td>\n",
       "      <td>5.148096</td>\n",
       "      <td>-6.050265</td>\n",
       "      <td>0</td>\n",
       "      <td>T:585.0(12.69%),B:317.8(11.36%),P:1e-2</td>\n",
       "      <td>Tpos:88.4,Tstd:55.3,Bpos:93.6,Bstd:57.1,Strand...</td>\n",
       "      <td>iPSC</td>\n",
       "      <td>upstream200</td>\n",
       "      <td>~1</td>\n",
       "    </tr>\n",
       "    <tr>\n",
       "      <th>19-ACGCTC_NPC_~0_upstream200</th>\n",
       "      <td>ACGCTC</td>\n",
       "      <td>6.177716</td>\n",
       "      <td>-18.893118</td>\n",
       "      <td>0</td>\n",
       "      <td>T:39.0(0.85%),B:8.7(0.31%),P:1e-8</td>\n",
       "      <td>Tpos:111.2,Tstd:59.0,Bpos:78.1,Bstd:47.8,Stran...</td>\n",
       "      <td>iPSC</td>\n",
       "      <td>upstream200</td>\n",
       "      <td>~1</td>\n",
       "    </tr>\n",
       "    <tr>\n",
       "      <th>9-ACGTCM_NPC_~0_upstream200</th>\n",
       "      <td>ACGTCM</td>\n",
       "      <td>7.506455</td>\n",
       "      <td>-27.010700</td>\n",
       "      <td>0</td>\n",
       "      <td>T:75.0(1.63%),B:18.4(0.66%),P:1e-11</td>\n",
       "      <td>Tpos:88.2,Tstd:54.6,Bpos:116.3,Bstd:61.3,Stran...</td>\n",
       "      <td>iPSC</td>\n",
       "      <td>upstream200</td>\n",
       "      <td>~1</td>\n",
       "    </tr>\n",
       "  </tbody>\n",
       "</table>\n",
       "</div>"
      ],
      "text/plain": [
       "                             Consensus Sequence Log Odds Threshold  \\\n",
       "Motif ID                                                             \n",
       "13-AATTA_NPC_~0_upstream200               AATTA           6.408577   \n",
       "22-ACACCG_NPC_~0_upstream200             ACACCG           6.177716   \n",
       "16-ACCAA_NPC_~0_upstream200               ACCAA           5.148096   \n",
       "19-ACGCTC_NPC_~0_upstream200             ACGCTC           6.177716   \n",
       "9-ACGTCM_NPC_~0_upstream200              ACGTCM           7.506455   \n",
       "\n",
       "                               $\\log(p)$ empty_placeholder  \\\n",
       "Motif ID                                                     \n",
       "13-AATTA_NPC_~0_upstream200   -10.206288                 0   \n",
       "22-ACACCG_NPC_~0_upstream200  -16.617527                 0   \n",
       "16-ACCAA_NPC_~0_upstream200    -6.050265                 0   \n",
       "19-ACGCTC_NPC_~0_upstream200  -18.893118                 0   \n",
       "9-ACGTCM_NPC_~0_upstream200   -27.010700                 0   \n",
       "\n",
       "                                                Occurence Information  \\\n",
       "Motif ID                                                                \n",
       "13-AATTA_NPC_~0_upstream200   T:1456.0(31.58%),B:808.1(28.89%),P:1e-4   \n",
       "22-ACACCG_NPC_~0_upstream200        T:31.0(0.67%),B:6.7(0.24%),P:1e-7   \n",
       "16-ACCAA_NPC_~0_upstream200    T:585.0(12.69%),B:317.8(11.36%),P:1e-2   \n",
       "19-ACGCTC_NPC_~0_upstream200        T:39.0(0.85%),B:8.7(0.31%),P:1e-8   \n",
       "9-ACGTCM_NPC_~0_upstream200       T:75.0(1.63%),B:18.4(0.66%),P:1e-11   \n",
       "\n",
       "                                                               Motif Statistics  \\\n",
       "Motif ID                                                                          \n",
       "13-AATTA_NPC_~0_upstream200   Tpos:100.2,Tstd:54.6,Bpos:100.4,Bstd:59.0,Stra...   \n",
       "22-ACACCG_NPC_~0_upstream200  Tpos:98.1,Tstd:61.8,Bpos:148.3,Bstd:40.0,Stran...   \n",
       "16-ACCAA_NPC_~0_upstream200   Tpos:88.4,Tstd:55.3,Bpos:93.6,Bstd:57.1,Strand...   \n",
       "19-ACGCTC_NPC_~0_upstream200  Tpos:111.2,Tstd:59.0,Bpos:78.1,Bstd:47.8,Stran...   \n",
       "9-ACGTCM_NPC_~0_upstream200   Tpos:88.2,Tstd:54.6,Bpos:116.3,Bstd:61.3,Stran...   \n",
       "\n",
       "                             Celltype     Location Modality  \n",
       "Motif ID                                                     \n",
       "13-AATTA_NPC_~0_upstream200      iPSC  upstream200       ~1  \n",
       "22-ACACCG_NPC_~0_upstream200     iPSC  upstream200       ~1  \n",
       "16-ACCAA_NPC_~0_upstream200      iPSC  upstream200       ~1  \n",
       "19-ACGCTC_NPC_~0_upstream200     iPSC  upstream200       ~1  \n",
       "9-ACGTCM_NPC_~0_upstream200      iPSC  upstream200       ~1  "
      ]
     },
     "execution_count": 109,
     "metadata": {},
     "output_type": "execute_result"
    }
   ],
   "source": [
    "motif_metadata = pd.concat(metadata_dfs, ignore_index=True)\n",
    "motif_metadata = motif_metadata.set_index('Motif ID')\n",
    "motif_metadata.head()"
   ]
  },
  {
   "cell_type": "code",
   "execution_count": 129,
   "metadata": {
    "collapsed": true
   },
   "outputs": [],
   "source": [
    "study.supplemental.modality_motif_metadata = motif_metadata"
   ]
  },
  {
   "cell_type": "code",
   "execution_count": 130,
   "metadata": {
    "collapsed": true
   },
   "outputs": [],
   "source": [
    "del study.supplemental.motif_metadata"
   ]
  },
  {
   "cell_type": "code",
   "execution_count": 110,
   "metadata": {
    "collapsed": false
   },
   "outputs": [
    {
     "data": {
      "text/plain": [
       "(1416, 9)"
      ]
     },
     "execution_count": 110,
     "metadata": {},
     "output_type": "execute_result"
    }
   ],
   "source": [
    "motif_metadata.shape"
   ]
  },
  {
   "cell_type": "code",
   "execution_count": 117,
   "metadata": {
    "collapsed": false
   },
   "outputs": [
    {
     "data": {
      "text/plain": [
       "Consensus Sequence        object\n",
       "Log Odds Threshold       float64\n",
       "$\\log(p)$                float64\n",
       "empty_placeholder          int64\n",
       "Occurence Information     object\n",
       "Motif Statistics          object\n",
       "Celltype                  object\n",
       "Location                  object\n",
       "Modality                  object\n",
       "dtype: object"
      ]
     },
     "execution_count": 117,
     "metadata": {},
     "output_type": "execute_result"
    }
   ],
   "source": [
    "motif_metadata = motif_metadata.convert_objects(convert_dates=False, convert_numeric=True)\n",
    "motif_metadata.dtypes"
   ]
  },
  {
   "cell_type": "code",
   "execution_count": 122,
   "metadata": {
    "collapsed": true
   },
   "outputs": [],
   "source": [
    "from modish import MODALITY_ORDER, MODALITY_PALETTE"
   ]
  },
  {
   "cell_type": "code",
   "execution_count": 137,
   "metadata": {
    "collapsed": false
   },
   "outputs": [
    {
     "data": {
      "image/png": "[encoded data removed]",
      "text/plain": [
       "<matplotlib.figure.Figure at 0x2ad508b9b090>"
      ]
     },
     "metadata": {},
     "output_type": "display_data"
    }
   ],
   "source": [
    "region_order = ['upstream200', 'exonbody', 'downstream200']\n",
    "\n",
    "g = sns.factorplot(data=motif_metadata, hue='Modality', col='Celltype', col_wrap=2, x='Location', \n",
    "               y='$\\log(p)$', kind='violin', aspect=1.25, scale='width', hue_order=MODALITY_ORDER, \n",
    "               palette=MODALITY_PALETTE, order=region_order, cut=True)\n",
    "g.savefig('{}/motif_p_values.pdf'.format(folder))"
   ]
  },
  {
   "cell_type": "code",
   "execution_count": 136,
   "metadata": {
    "collapsed": false
   },
   "outputs": [
    {
     "data": {
      "image/png": "[encoded data removed]",
      "text/plain": [
       "<matplotlib.figure.Figure at 0x2ad5092a7390>"
      ]
     },
     "metadata": {},
     "output_type": "display_data"
    }
   ],
   "source": [
    "region_order = ['upstream200', 'exonbody', 'downstream200']\n",
    "\n",
    "motif_metadata_logp_filtered = motif_metadata.loc[motif_metadata['$\\log(p)$'] < -5]\n",
    "\n",
    "g = sns.factorplot(data=motif_metadata_logp_filtered, hue='Modality', col='Celltype', col_wrap=2, x='Location', \n",
    "               y='$\\log(p)$', kind='violin', aspect=1.25, scale='width', hue_order=MODALITY_ORDER, \n",
    "               palette=MODALITY_PALETTE, order=region_order, cut=True)\n",
    "g.savefig('{}/motif_p_values_filtered.pdf'.format(folder))"
   ]
  },
  {
   "cell_type": "code",
   "execution_count": 111,
   "metadata": {
    "collapsed": true
   },
   "outputs": [],
   "source": [
    "motif_scores = pd.concat(score_dfs, axis=1)"
   ]
  },
  {
   "cell_type": "code",
   "execution_count": 112,
   "metadata": {
    "collapsed": false
   },
   "outputs": [
    {
     "data": {
      "text/plain": [
       "(5376, 1416)"
      ]
     },
     "execution_count": 112,
     "metadata": {},
     "output_type": "execute_result"
    }
   ],
   "source": [
    "motif_scores.shape"
   ]
  },
  {
   "cell_type": "code",
   "execution_count": 131,
   "metadata": {
    "collapsed": true
   },
   "outputs": [],
   "source": [
    "study.supplemental.modality_motif_scores = motif_scores"
   ]
  },
  {
   "cell_type": "code",
   "execution_count": 132,
   "metadata": {
    "collapsed": false
   },
   "outputs": [
    {
     "name": "stdout",
     "output_type": "stream",
     "text": [
      "Wrote datapackage to /home/obotvinnik/flotilla_projects/singlecell_pnm_figure3_modality_motifs/datapackage.json\n"
     ]
    }
   ],
   "source": [
    "study.save('singlecell_pnm_figure3_modality_motifs')"
   ]
  },
  {
   "cell_type": "code",
   "execution_count": 133,
   "metadata": {
    "collapsed": false
   },
   "outputs": [
    {
     "data": {
      "text/plain": [
       "<matplotlib.axes._subplots.AxesSubplot at 0x2ad5312b5710>"
      ]
     },
     "execution_count": 133,
     "metadata": {},
     "output_type": "execute_result"
    },
    {
     "data": {
      "image/png": "[encoded data removed]",
      "text/plain": [
       "<matplotlib.figure.Figure at 0x2ad49ce9a310>"
      ]
     },
     "metadata": {},
     "output_type": "display_data"
    }
   ],
   "source": [
    "sns.distplot(study.supplemental.modality_motif_metadata['$\\log(p)$'])"
   ]
  },
  {
   "cell_type": "code",
   "execution_count": 138,
   "metadata": {
    "collapsed": false
   },
   "outputs": [
    {
     "data": {
      "text/plain": [
       "(5376, 1416)"
      ]
     },
     "execution_count": 138,
     "metadata": {},
     "output_type": "execute_result"
    }
   ],
   "source": [
    "motif_scores.shape"
   ]
  },
  {
   "cell_type": "code",
   "execution_count": 139,
   "metadata": {
    "collapsed": false
   },
   "outputs": [
    {
     "name": "stdout",
     "output_type": "stream",
     "text": [
      "CPU times: user 14min 46s, sys: 36 ms, total: 14min 46s\n",
      "Wall time: 14min 47s\n"
     ]
    }
   ],
   "source": [
    "%time motif_scores_corr = motif_scores.corr(method='spearman')"
   ]
  },
  {
   "cell_type": "code",
   "execution_count": 152,
   "metadata": {
    "collapsed": true
   },
   "outputs": [],
   "source": [
    "motif_metadata = motif_metadata.loc[~motif_metadata.index.duplicated()]"
   ]
  },
  {
   "cell_type": "code",
   "execution_count": 142,
   "metadata": {
    "collapsed": false
   },
   "outputs": [
    {
     "data": {
      "text/plain": [
       "(1416, 1416)"
      ]
     },
     "execution_count": 142,
     "metadata": {},
     "output_type": "execute_result"
    }
   ],
   "source": [
    "motif_scores_corr.shape"
   ]
  },
  {
   "cell_type": "code",
   "execution_count": 144,
   "metadata": {
    "collapsed": true
   },
   "outputs": [],
   "source": [
    "celltype_to_color = dict(study.phenotype_to_color)\n",
    "celltype_to_color['allcelltypes'] = '#40E0D0' # Turquoise"
   ]
  },
  {
   "cell_type": "code",
   "execution_count": 145,
   "metadata": {
    "collapsed": true
   },
   "outputs": [],
   "source": [
    "from modish import MODALITY_TO_COLOR"
   ]
  },
  {
   "cell_type": "code",
   "execution_count": 159,
   "metadata": {
    "collapsed": false
   },
   "outputs": [
    {
     "data": {
      "text/plain": [
       "(5376, 1416)"
      ]
     },
     "execution_count": 159,
     "metadata": {},
     "output_type": "execute_result"
    }
   ],
   "source": [
    "motif_scores.shape"
   ]
  },
  {
   "cell_type": "code",
   "execution_count": 161,
   "metadata": {
    "collapsed": false
   },
   "outputs": [],
   "source": [
    "motif_scores = motif_scores.loc[:,~motif_scores.columns.duplicated()]"
   ]
  },
  {
   "cell_type": "code",
   "execution_count": 162,
   "metadata": {
    "collapsed": true
   },
   "outputs": [],
   "source": [
    "ind = ~motif_scores_corr.index.duplicated()\n",
    "motif_scores_corr = motif_scores_corr.loc[ind, ind]"
   ]
  },
  {
   "cell_type": "code",
   "execution_count": 164,
   "metadata": {
    "collapsed": false
   },
   "outputs": [
    {
     "data": {
      "text/plain": [
       "(1264, 1264)"
      ]
     },
     "execution_count": 164,
     "metadata": {},
     "output_type": "execute_result"
    }
   ],
   "source": [
    "motif_scores_corr.shape"
   ]
  },
  {
   "cell_type": "code",
   "execution_count": null,
   "metadata": {
    "collapsed": false,
    "scrolled": false
   },
   "outputs": [],
   "source": [
    "\n",
    "for location, df in motif_scores.groupby(motif_metadata['Location'], axis=1):\n",
    "    corr_subset = motif_scores_corr.loc[df.columns, df.columns]\n",
    "#     corr = motif_scores.corr(method='spearman')\n",
    "    print  corr_subset.shape\n",
    "    \n",
    "    figwidth = int(corr_subset.shape[0]/4.)\n",
    "    figsize = (figwidth, figwidth)\n",
    "    \n",
    "    side_colors = [[MODALITY_TO_COLOR[x] for x in motif_metadata.loc[df.columns, 'Modality']],\n",
    "                   [celltype_to_color[x] for x in motif_metadata.loc[df.columns, 'Celltype']]]\n",
    "    g = sns.clustermap(corr_subset, metric='cityblock', row_colors=side_colors, col_colors=side_colors, figsize=figsize)\n",
    "    g.ax_col_dendrogram.set(title=location)\n",
    "    g.savefig('{}/motif_clustermap_{}.png'.format(folder, location), dpi=150)"
   ]
  },
  {
   "cell_type": "code",
   "execution_count": null,
   "metadata": {
    "collapsed": false
   },
   "outputs": [],
   "source": [
    "print corr_subset.shape"
   ]
  },
  {
   "cell_type": "code",
   "execution_count": null,
   "metadata": {
    "collapsed": false
   },
   "outputs": [],
   "source": [
    "\n",
    "for location, df1 in motif_scores.groupby(motif_metadata['Location'], axis=1):\n",
    "    for modality, df2 in df1.groupby(motif_metadata['Modality'], axis=1):\n",
    "        corr_subset = motif_scores_corr.loc[df2.columns, df2.columns]\n",
    "    #     corr = motif_scores.corr(method='spearman')\n",
    "\n",
    "        figwidth = int(corr_subset.shape[0]/4.)\n",
    "        figsize = (figwidth, figwidth)\n",
    "        \n",
    "        side_colors = [[MODALITY_TO_COLOR[x] for x in motif_metadata.loc[df2.columns, 'Modality']],\n",
    "                       [celltype_to_color[x] for x in motif_metadata.loc[df2.columns, 'Celltype']]]\n",
    "        g = sns.clustermap(corr_subset, metric='cityblock', row_colors=side_colors, col_colors=side_colors, figsize=figsize)\n",
    "        g.ax_col_dendrogram.set(title=location)\n",
    "        g.savefig('{}/motif_clustermap_{}_{}.png'.format(folder, location, modality), dpi=150)"
   ]
  },
  {
   "cell_type": "code",
   "execution_count": null,
   "metadata": {
    "collapsed": false
   },
   "outputs": [],
   "source": [
    "\n",
    "for location, df1 in motif_scores.groupby(motif_metadata['Location'], axis=1):\n",
    "    for celltype, df2 in df1.groupby(motif_metadata['Celltype'], axis=1):\n",
    "        corr_subset = motif_scores_corr.loc[df2.columns, df2.columns]\n",
    "    #     corr = motif_scores.corr(method='spearman')\n",
    "\n",
    "        figwidth = int(corr_subset.shape[0]/4.)\n",
    "        figsize = (figwidth, figwidth)\n",
    "    \n",
    "        side_colors = [[MODALITY_TO_COLOR[x] for x in motif_metadata.loc[df2.columns, 'Modality']],\n",
    "                       [celltype_to_color[x] for x in motif_metadata.loc[df2.columns, 'Celltype']]]\n",
    "        g = sns.clustermap(corr_subset, metric='cityblock', row_colors=side_colors, col_colors=side_colors, figsize=figsize)\n",
    "        g.ax_col_dendrogram.set(title=location)\n",
    "        g.savefig('{}/motif_clustermap_{}_{}.png'.format(folder, location, celltype), dpi=150)"
   ]
  },
  {
   "cell_type": "code",
   "execution_count": null,
   "metadata": {
    "collapsed": false
   },
   "outputs": [],
   "source": [
    "g = sns.clustermap(corr, metric='cityblock')\n",
    "# g.ax_col_dendrogram.lines = []"
   ]
  },
  {
   "cell_type": "code",
   "execution_count": null,
   "metadata": {
    "collapsed": false
   },
   "outputs": [],
   "source": [
    "lines = record.splitlines()\n",
    "motif_pwm = pd.read_table(six.StringIO('\\n'.join(lines[1:])), header=None, names=list(\"ACGU\"))\n",
    "motif_pwm"
   ]
  },
  {
   "cell_type": "code",
   "execution_count": 171,
   "metadata": {
    "collapsed": true
   },
   "outputs": [],
   "source": []
  },
  {
   "cell_type": "code",
   "execution_count": 172,
   "metadata": {
    "collapsed": false
   },
   "outputs": [],
   "source": [
    "import numpy as np"
   ]
  },
  {
   "cell_type": "code",
   "execution_count": 173,
   "metadata": {
    "collapsed": false
   },
   "outputs": [
    {
     "data": {
      "text/plain": [
       "[['U', 'U', 'U', 'U', 'C', 'G'],\n",
       " ['U', 'U', 'U', 'U', 'C', 'U'],\n",
       " ['U', 'U', 'U', 'U', 'G', 'A'],\n",
       " ['U', 'U', 'U', 'U', 'G', 'C'],\n",
       " ['U', 'U', 'U', 'U', 'G', 'G'],\n",
       " ['U', 'U', 'U', 'U', 'G', 'U'],\n",
       " ['U', 'U', 'U', 'U', 'U', 'A'],\n",
       " ['U', 'U', 'U', 'U', 'U', 'C'],\n",
       " ['U', 'U', 'U', 'U', 'U', 'G'],\n",
       " ['U', 'U', 'U', 'U', 'U', 'U']]"
      ]
     },
     "execution_count": 173,
     "metadata": {},
     "output_type": "execute_result"
    }
   ],
   "source": [
    "kmers_list[-10:]"
   ]
  },
  {
   "cell_type": "code",
   "execution_count": 174,
   "metadata": {
    "collapsed": false
   },
   "outputs": [
    {
     "data": {
      "text/plain": [
       "6"
      ]
     },
     "execution_count": 174,
     "metadata": {},
     "output_type": "execute_result"
    }
   ],
   "source": [
    "motif_length"
   ]
  },
  {
   "cell_type": "code",
   "execution_count": 175,
   "metadata": {
    "collapsed": false
   },
   "outputs": [
    {
     "data": {
      "text/html": [
       "<div>\n",
       "<table border=\"1\" class=\"dataframe\">\n",
       "  <thead>\n",
       "    <tr style=\"text-align: right;\">\n",
       "      <th></th>\n",
       "      <th>A</th>\n",
       "      <th>C</th>\n",
       "      <th>G</th>\n",
       "      <th>U</th>\n",
       "    </tr>\n",
       "  </thead>\n",
       "  <tbody>\n",
       "    <tr>\n",
       "      <th>0</th>\n",
       "      <td>0.1</td>\n",
       "      <td>0.7</td>\n",
       "      <td>0.1</td>\n",
       "      <td>0.1</td>\n",
       "    </tr>\n",
       "    <tr>\n",
       "      <th>1</th>\n",
       "      <td>0.1</td>\n",
       "      <td>0.1</td>\n",
       "      <td>0.1</td>\n",
       "      <td>0.7</td>\n",
       "    </tr>\n",
       "    <tr>\n",
       "      <th>2</th>\n",
       "      <td>0.7</td>\n",
       "      <td>0.1</td>\n",
       "      <td>0.1</td>\n",
       "      <td>0.1</td>\n",
       "    </tr>\n",
       "    <tr>\n",
       "      <th>3</th>\n",
       "      <td>0.1</td>\n",
       "      <td>0.1</td>\n",
       "      <td>0.7</td>\n",
       "      <td>0.1</td>\n",
       "    </tr>\n",
       "  </tbody>\n",
       "</table>\n",
       "</div>"
      ],
      "text/plain": [
       "     A    C    G    U\n",
       "0  0.1  0.7  0.1  0.1\n",
       "1  0.1  0.1  0.1  0.7\n",
       "2  0.7  0.1  0.1  0.1\n",
       "3  0.1  0.1  0.7  0.1"
      ]
     },
     "execution_count": 175,
     "metadata": {},
     "output_type": "execute_result"
    }
   ],
   "source": [
    "motif_pwm.head()"
   ]
  },
  {
   "cell_type": "code",
   "execution_count": 176,
   "metadata": {
    "collapsed": false
   },
   "outputs": [
    {
     "data": {
      "text/html": [
       "<div>\n",
       "<table border=\"1\" class=\"dataframe\">\n",
       "  <thead>\n",
       "    <tr style=\"text-align: right;\">\n",
       "      <th></th>\n",
       "      <th>A</th>\n",
       "      <th>C</th>\n",
       "      <th>G</th>\n",
       "      <th>U</th>\n",
       "    </tr>\n",
       "  </thead>\n",
       "  <tbody>\n",
       "    <tr>\n",
       "      <th>0</th>\n",
       "      <td>0.1</td>\n",
       "      <td>0.7</td>\n",
       "      <td>0.1</td>\n",
       "      <td>0.1</td>\n",
       "    </tr>\n",
       "    <tr>\n",
       "      <th>1</th>\n",
       "      <td>0.1</td>\n",
       "      <td>0.1</td>\n",
       "      <td>0.1</td>\n",
       "      <td>0.7</td>\n",
       "    </tr>\n",
       "    <tr>\n",
       "      <th>2</th>\n",
       "      <td>0.7</td>\n",
       "      <td>0.1</td>\n",
       "      <td>0.1</td>\n",
       "      <td>0.1</td>\n",
       "    </tr>\n",
       "    <tr>\n",
       "      <th>3</th>\n",
       "      <td>0.1</td>\n",
       "      <td>0.1</td>\n",
       "      <td>0.7</td>\n",
       "      <td>0.1</td>\n",
       "    </tr>\n",
       "    <tr>\n",
       "      <th>4</th>\n",
       "      <td>0.1</td>\n",
       "      <td>0.5</td>\n",
       "      <td>0.3</td>\n",
       "      <td>0.1</td>\n",
       "    </tr>\n",
       "    <tr>\n",
       "      <th>5</th>\n",
       "      <td>0.1</td>\n",
       "      <td>0.5</td>\n",
       "      <td>0.3</td>\n",
       "      <td>0.1</td>\n",
       "    </tr>\n",
       "  </tbody>\n",
       "</table>\n",
       "</div>"
      ],
      "text/plain": [
       "     A    C    G    U\n",
       "0  0.1  0.7  0.1  0.1\n",
       "1  0.1  0.1  0.1  0.7\n",
       "2  0.7  0.1  0.1  0.1\n",
       "3  0.1  0.1  0.7  0.1\n",
       "4  0.1  0.5  0.3  0.1\n",
       "5  0.1  0.5  0.3  0.1"
      ]
     },
     "execution_count": 176,
     "metadata": {},
     "output_type": "execute_result"
    }
   ],
   "source": [
    "motif_pwm6 = motif_pwm.append(pd.DataFrame([[.1, .5, .3, .1], [.1, .5, .3, .1]], columns=list('ACGU')), ignore_index=True)\n",
    "motif_pwm6"
   ]
  },
  {
   "cell_type": "code",
   "execution_count": 185,
   "metadata": {
    "collapsed": false
   },
   "outputs": [],
   "source": []
  },
  {
   "cell_type": "code",
   "execution_count": 186,
   "metadata": {
    "collapsed": false
   },
   "outputs": [
    {
     "data": {
      "text/html": [
       "<div>\n",
       "<table border=\"1\" class=\"dataframe\">\n",
       "  <thead>\n",
       "    <tr style=\"text-align: right;\">\n",
       "      <th></th>\n",
       "      <th>A</th>\n",
       "      <th>C</th>\n",
       "      <th>G</th>\n",
       "      <th>U</th>\n",
       "    </tr>\n",
       "  </thead>\n",
       "  <tbody>\n",
       "    <tr>\n",
       "      <th>0</th>\n",
       "      <td>0.1</td>\n",
       "      <td>0.7</td>\n",
       "      <td>0.1</td>\n",
       "      <td>0.1</td>\n",
       "    </tr>\n",
       "    <tr>\n",
       "      <th>1</th>\n",
       "      <td>0.1</td>\n",
       "      <td>0.1</td>\n",
       "      <td>0.1</td>\n",
       "      <td>0.7</td>\n",
       "    </tr>\n",
       "    <tr>\n",
       "      <th>2</th>\n",
       "      <td>0.7</td>\n",
       "      <td>0.1</td>\n",
       "      <td>0.1</td>\n",
       "      <td>0.1</td>\n",
       "    </tr>\n",
       "    <tr>\n",
       "      <th>3</th>\n",
       "      <td>0.1</td>\n",
       "      <td>0.1</td>\n",
       "      <td>0.7</td>\n",
       "      <td>0.1</td>\n",
       "    </tr>\n",
       "    <tr>\n",
       "      <th>4</th>\n",
       "      <td>0.1</td>\n",
       "      <td>0.5</td>\n",
       "      <td>0.3</td>\n",
       "      <td>0.1</td>\n",
       "    </tr>\n",
       "    <tr>\n",
       "      <th>5</th>\n",
       "      <td>0.1</td>\n",
       "      <td>0.5</td>\n",
       "      <td>0.3</td>\n",
       "      <td>0.1</td>\n",
       "    </tr>\n",
       "  </tbody>\n",
       "</table>\n",
       "</div>"
      ],
      "text/plain": [
       "     A    C    G    U\n",
       "0  0.1  0.7  0.1  0.1\n",
       "1  0.1  0.1  0.1  0.7\n",
       "2  0.7  0.1  0.1  0.1\n",
       "3  0.1  0.1  0.7  0.1\n",
       "4  0.1  0.5  0.3  0.1\n",
       "5  0.1  0.5  0.3  0.1"
      ]
     },
     "execution_count": 186,
     "metadata": {},
     "output_type": "execute_result"
    }
   ],
   "source": [
    "pwm"
   ]
  },
  {
   "cell_type": "code",
   "execution_count": 187,
   "metadata": {
    "collapsed": true
   },
   "outputs": [],
   "source": [
    "kmer4 = u'GCAU'\n",
    "kmer5 = u'GCAUG'\n",
    "kmer6 = u'UGCAUG'"
   ]
  },
  {
   "cell_type": "code",
   "execution_count": 196,
   "metadata": {
    "collapsed": false
   },
   "outputs": [
    {
     "data": {
      "text/plain": [
       "GCAU      0.150000\n",
       "GCAUG     0.200000\n",
       "UGCAUG    0.133333\n",
       "dtype: float64"
      ]
     },
     "execution_count": 196,
     "metadata": {},
     "output_type": "execute_result"
    }
   ],
   "source": [
    "kmer_scores = pd.Series(score_kmers(motif_pwm6, kmers_list), index=kmers)\n",
    "kmer_scores[[kmer4, kmer5, kmer6]]"
   ]
  },
  {
   "cell_type": "code",
   "execution_count": 188,
   "metadata": {
    "collapsed": false
   },
   "outputs": [
    {
     "data": {
      "text/plain": [
       "0.13333333333333333"
      ]
     },
     "execution_count": 188,
     "metadata": {},
     "output_type": "execute_result"
    }
   ],
   "source": [
    "# UGCAUG\n",
    "(0.1*5+0.3)/6"
   ]
  },
  {
   "cell_type": "code",
   "execution_count": 189,
   "metadata": {
    "collapsed": false
   },
   "outputs": [
    {
     "data": {
      "text/plain": [
       "0.2"
      ]
     },
     "execution_count": 189,
     "metadata": {},
     "output_type": "execute_result"
    }
   ],
   "source": [
    "# GCAUG score\n",
    "((0.1*3 + 0.7 +0.3)/5 + (0.1*4 + 0.3)/5)/2"
   ]
  },
  {
   "cell_type": "code",
   "execution_count": 193,
   "metadata": {
    "collapsed": false
   },
   "outputs": [
    {
     "data": {
      "text/plain": [
       "0.15"
      ]
     },
     "execution_count": 193,
     "metadata": {},
     "output_type": "execute_result"
    }
   ],
   "source": [
    "# GCAU score\n",
    "((0.1*3 + 0.7)/4 + 0.1 + 0.1)/3"
   ]
  },
  {
   "cell_type": "code",
   "execution_count": 190,
   "metadata": {
    "collapsed": false
   },
   "outputs": [
    {
     "data": {
      "text/html": [
       "<div>\n",
       "<table border=\"1\" class=\"dataframe\">\n",
       "  <thead>\n",
       "    <tr style=\"text-align: right;\">\n",
       "      <th></th>\n",
       "      <th>A</th>\n",
       "      <th>C</th>\n",
       "      <th>G</th>\n",
       "      <th>U</th>\n",
       "    </tr>\n",
       "  </thead>\n",
       "  <tbody>\n",
       "    <tr>\n",
       "      <th>0</th>\n",
       "      <td>0.1</td>\n",
       "      <td>0.7</td>\n",
       "      <td>0.1</td>\n",
       "      <td>0.1</td>\n",
       "    </tr>\n",
       "    <tr>\n",
       "      <th>1</th>\n",
       "      <td>0.1</td>\n",
       "      <td>0.1</td>\n",
       "      <td>0.1</td>\n",
       "      <td>0.7</td>\n",
       "    </tr>\n",
       "    <tr>\n",
       "      <th>2</th>\n",
       "      <td>0.7</td>\n",
       "      <td>0.1</td>\n",
       "      <td>0.1</td>\n",
       "      <td>0.1</td>\n",
       "    </tr>\n",
       "    <tr>\n",
       "      <th>3</th>\n",
       "      <td>0.1</td>\n",
       "      <td>0.1</td>\n",
       "      <td>0.7</td>\n",
       "      <td>0.1</td>\n",
       "    </tr>\n",
       "    <tr>\n",
       "      <th>4</th>\n",
       "      <td>0.1</td>\n",
       "      <td>0.5</td>\n",
       "      <td>0.3</td>\n",
       "      <td>0.1</td>\n",
       "    </tr>\n",
       "    <tr>\n",
       "      <th>5</th>\n",
       "      <td>0.1</td>\n",
       "      <td>0.5</td>\n",
       "      <td>0.3</td>\n",
       "      <td>0.1</td>\n",
       "    </tr>\n",
       "  </tbody>\n",
       "</table>\n",
       "</div>"
      ],
      "text/plain": [
       "     A    C    G    U\n",
       "0  0.1  0.7  0.1  0.1\n",
       "1  0.1  0.1  0.1  0.7\n",
       "2  0.7  0.1  0.1  0.1\n",
       "3  0.1  0.1  0.7  0.1\n",
       "4  0.1  0.5  0.3  0.1\n",
       "5  0.1  0.5  0.3  0.1"
      ]
     },
     "execution_count": 190,
     "metadata": {},
     "output_type": "execute_result"
    }
   ],
   "source": [
    "pwmm"
   ]
  },
  {
   "cell_type": "code",
   "execution_count": 195,
   "metadata": {
    "collapsed": false
   },
   "outputs": [
    {
     "data": {
      "text/plain": [
       "GCAU      0.250\n",
       "GCAUG     0.325\n",
       "UGCAUG    0.250\n",
       "dtype: float64"
      ]
     },
     "execution_count": 195,
     "metadata": {},
     "output_type": "execute_result"
    }
   ],
   "source": [
    "kmer_scores = pd.Series(score_kmers(motif_pwm, kmers_list), index=kmers)\n",
    "kmer_scores[[kmer4, kmer5, kmer6]]"
   ]
  },
  {
   "cell_type": "code",
   "execution_count": 197,
   "metadata": {
    "collapsed": false
   },
   "outputs": [
    {
     "data": {
      "text/html": [
       "<div>\n",
       "<table border=\"1\" class=\"dataframe\">\n",
       "  <thead>\n",
       "    <tr style=\"text-align: right;\">\n",
       "      <th></th>\n",
       "      <th>A</th>\n",
       "      <th>C</th>\n",
       "      <th>G</th>\n",
       "      <th>U</th>\n",
       "    </tr>\n",
       "  </thead>\n",
       "  <tbody>\n",
       "    <tr>\n",
       "      <th>0</th>\n",
       "      <td>0.1</td>\n",
       "      <td>0.7</td>\n",
       "      <td>0.1</td>\n",
       "      <td>0.1</td>\n",
       "    </tr>\n",
       "    <tr>\n",
       "      <th>1</th>\n",
       "      <td>0.1</td>\n",
       "      <td>0.1</td>\n",
       "      <td>0.1</td>\n",
       "      <td>0.7</td>\n",
       "    </tr>\n",
       "    <tr>\n",
       "      <th>2</th>\n",
       "      <td>0.7</td>\n",
       "      <td>0.1</td>\n",
       "      <td>0.1</td>\n",
       "      <td>0.1</td>\n",
       "    </tr>\n",
       "    <tr>\n",
       "      <th>3</th>\n",
       "      <td>0.1</td>\n",
       "      <td>0.1</td>\n",
       "      <td>0.7</td>\n",
       "      <td>0.1</td>\n",
       "    </tr>\n",
       "  </tbody>\n",
       "</table>\n",
       "</div>"
      ],
      "text/plain": [
       "     A    C    G    U\n",
       "0  0.1  0.7  0.1  0.1\n",
       "1  0.1  0.1  0.1  0.7\n",
       "2  0.7  0.1  0.1  0.1\n",
       "3  0.1  0.1  0.7  0.1"
      ]
     },
     "execution_count": 197,
     "metadata": {},
     "output_type": "execute_result"
    }
   ],
   "source": [
    "motif_pwm"
   ]
  },
  {
   "cell_type": "code",
   "execution_count": 198,
   "metadata": {
    "collapsed": false
   },
   "outputs": [
    {
     "data": {
      "text/plain": [
       "0.25"
      ]
     },
     "execution_count": 198,
     "metadata": {},
     "output_type": "execute_result"
    }
   ],
   "source": [
    "# GCAU score\n",
    "(0.1*3 + 0.7)/4"
   ]
  },
  {
   "cell_type": "code",
   "execution_count": 199,
   "metadata": {
    "collapsed": false
   },
   "outputs": [
    {
     "data": {
      "text/plain": [
       "0.32499999999999996"
      ]
     },
     "execution_count": 199,
     "metadata": {},
     "output_type": "execute_result"
    }
   ],
   "source": [
    "# GCAUG score\n",
    "((0.1*3 + 0.7)/4 + (0.7*2 + 0.1*2)/4)/2"
   ]
  },
  {
   "cell_type": "code",
   "execution_count": 200,
   "metadata": {
    "collapsed": false
   },
   "outputs": [
    {
     "data": {
      "text/plain": [
       "0.25"
      ]
     },
     "execution_count": 200,
     "metadata": {},
     "output_type": "execute_result"
    }
   ],
   "source": [
    "# UGCAUG score\n",
    "(0.1 + (0.1*3 + 0.7)/4 + (0.7*2 + 0.1*2)/4)/3"
   ]
  },
  {
   "cell_type": "code",
   "execution_count": 192,
   "metadata": {
    "collapsed": false
   },
   "outputs": [
    {
     "ename": "NameError",
     "evalue": "name 'mdd' is not defined",
     "output_type": "error",
     "traceback": [
      "\u001b[1;31m---------------------------------------------------------------------------\u001b[0m",
      "\u001b[1;31mNameError\u001b[0m                                 Traceback (most recent call last)",
      "\u001b[1;32m<ipython-input-192-913ef650538b>\u001b[0m in \u001b[0;36m<module>\u001b[1;34m()\u001b[0m\n\u001b[1;32m----> 1\u001b[1;33m \u001b[0mmdd\u001b[0m\u001b[1;33m\u001b[0m\u001b[0m\n\u001b[0m",
      "\u001b[1;31mNameError\u001b[0m: name 'mdd' is not defined"
     ]
    }
   ],
   "source": [
    "mdd"
   ]
  },
  {
   "cell_type": "code",
   "execution_count": 160,
   "metadata": {
    "collapsed": false
   },
   "outputs": [
    {
     "data": {
      "text/plain": [
       "Index([u'AAAA', u'AAAC', u'AAAG', u'AAAU', u'AACC', u'AACG', u'AACU', u'AAGG',\n",
       "       u'AAGU', u'AAUU', \n",
       "       ...\n",
       "       u'CGGUUU', u'CGUUUU', u'CUUUUU', u'GGGGGG', u'GGGGGU', u'GGGGUU',\n",
       "       u'GGGUUU', u'GGUUUU', u'GUUUUU', u'UUUUUU'],\n",
       "      dtype='object', length=175)"
      ]
     },
     "execution_count": 160,
     "metadata": {},
     "output_type": "execute_result"
    }
   ],
   "source": [
    "kmer_scores.index"
   ]
  },
  {
   "cell_type": "code",
   "execution_count": 156,
   "metadata": {
    "collapsed": false
   },
   "outputs": [
    {
     "data": {
      "text/plain": [
       "'AAGG'"
      ]
     },
     "execution_count": 156,
     "metadata": {},
     "output_type": "execute_result"
    }
   ],
   "source": [
    "kmer_scores.argmax()"
   ]
  },
  {
   "cell_type": "code",
   "execution_count": 26,
   "metadata": {
    "collapsed": false
   },
   "outputs": [
    {
     "name": "stdout",
     "output_type": "stream",
     "text": [
      "CGGA\n",
      "GATC\n",
      "CAGG\n",
      "GGAG\n",
      "GGGC\n",
      "GTTC\n",
      "GCAA\n",
      "AGTG\n",
      "GAGG\n",
      "GGAG\n",
      "GGAG\n",
      "TGAC\n",
      "CGCT\n",
      "ACGG\n",
      "GGTC\n",
      "GGAG\n",
      "GAGT\n",
      "AGGT\n",
      "GAGC\n",
      "TGAG\n",
      "GTCG\n",
      "GTCG\n",
      "GGTG\n"
     ]
    }
   ],
   "source": [
    "for motif in all_motifs:\n",
    "    print motif.consensus"
   ]
  },
  {
   "cell_type": "code",
   "execution_count": 21,
   "metadata": {
    "collapsed": false
   },
   "outputs": [
    {
     "data": {
      "text/plain": [
       "Bio.motifs.transfac.Record"
      ]
     },
     "execution_count": 21,
     "metadata": {},
     "output_type": "execute_result"
    }
   ],
   "source": [
    "type(m)ma\n"
   ]
  },
  {
   "cell_type": "code",
   "execution_count": null,
   "metadata": {
    "collapsed": true
   },
   "outputs": [],
   "source": []
  }
 ],
 "metadata": {
  "kernelspec": {
   "display_name": "Python 2",
   "language": "python",
   "name": "python2"
  },
  "language_info": {
   "codemirror_mode": {
    "name": "ipython",
    "version": 2
   },
   "file_extension": ".py",
   "mimetype": "text/x-python",
   "name": "python",
   "nbconvert_exporter": "python",
   "pygments_lexer": "ipython2",
   "version": "2.7.10"
  }
 },
 "nbformat": 4,
 "nbformat_minor": 0
}
