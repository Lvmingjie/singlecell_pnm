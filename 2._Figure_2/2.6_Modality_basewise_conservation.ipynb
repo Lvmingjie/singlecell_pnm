{
 "cells": [
  {
   "cell_type": "code",
   "execution_count": null,
   "metadata": {
    "collapsed": true
   },
   "outputs": [],
   "source": [
    "\n",
    "bed_folder = '/projects/ps-yeolab/obotvinnik/singlecell_pnms'\n",
    "intron_conservation_3p = pd.read_csv('{}/exon_3p_upstream200_placental_mammal_conservation.csv'.format(bed_folder), \n",
    "                                     index_col=0)\n",
    "intron_conservation_5p = pd.read_csv('{}/exon_5p_downstream200_placental_mammal_conservation.csv'.format(bed_folder), \n",
    "                                     index_col=0)\n",
    "\n",
    "intron_conservations = {'Upstream of $3^\\prime$': intron_conservation_3p, \n",
    "                        'Downstream of $5^\\prime$': intron_conservation_5p}\n",
    "\n",
    "for phenotype, phenotype_df in modalities_tidy.groupby('phenotype'):\n",
    "    modalities = phenotype_df.set_index('event_name').modality\n",
    "    modalities = modalities.drop(modalities.index.get_duplicates())\n",
    "    \n",
    "    \n",
    "    dfs = []\n",
    "    for intron_name, intron_conservation in intron_conservations.items():\n",
    "        mean_conservation = intron_conservation.groupby(modalities).mean()\n",
    "        mean_conservation.columns = mean_conservation.columns.astype(int) + 1\n",
    "        mean_conservation.head()\n",
    "        tidy = mean_conservation.unstack().reset_index()\n",
    "        tidy = tidy.rename(columns={'level_0':'genome_direction_nt', 0: 'Conservation'})\n",
    "        tidy['direction'] = intron_name\n",
    "        dfs.append(tidy)\n",
    "#         var_conservation = intron_conservation.groupby(modalities).var()\n",
    "    modality_basewise_conservation = pd.concat(dfs, ignore_index=True)\n",
    "    \n",
    "    g = sns.FacetGrid(modality_basewise_conservation, hue='modality', hue_order=modality_order_constit,\n",
    "                     palette=modality_colors_constit, \n",
    "                      col='direction', sharex=False,\n",
    "                      col_order=['Upstream of $3^\\prime$', 'Downstream of $5^\\prime$'], size=3)\n",
    "    g.map(plt.plot, 'genome_direction_nt', 'Conservation')\n",
    "    for ax in g.axes.flat:\n",
    "        ax.locator_params(nbins=4)\n",
    "#         ax.locator_params('y', nbins=4)\n",
    "        if ax.is_first_col():\n",
    "            ax.set(ylabel='Mean PhastCons score\\n(placental mammals)',\n",
    "                   xticklabels=list(reversed([int(x) for x in ax.get_xticks()])))\n",
    "        else:\n",
    "            sns.despine(ax=ax, left=True)\n",
    "            ax.yaxis.set_ticks_position('none')\n",
    "    g.set(xlabel='Nucleotides from exon', title='', ylim=(0, 1))\n",
    "    g.add_legend();\n",
    "    g.savefig('{}/{}_intron_basewise_conservation.pdf'.format(folder, phenotype))"
   ]
  }
 ],
 "metadata": {
  "kernelspec": {
   "display_name": "Python 2",
   "language": "python",
   "name": "python2"
  },
  "language_info": {
   "codemirror_mode": {
    "name": "ipython",
    "version": 2
   },
   "file_extension": ".py",
   "mimetype": "text/x-python",
   "name": "python",
   "nbconvert_exporter": "python",
   "pygments_lexer": "ipython2",
   "version": "2.7.10"
  }
 },
 "nbformat": 4,
 "nbformat_minor": 0
}
