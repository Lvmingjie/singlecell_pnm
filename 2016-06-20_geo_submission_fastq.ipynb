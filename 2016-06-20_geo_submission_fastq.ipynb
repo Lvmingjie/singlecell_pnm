{
 "cells": [
  {
   "cell_type": "code",
   "execution_count": 1,
   "metadata": {
    "collapsed": false
   },
   "outputs": [
    {
     "name": "stdout",
     "output_type": "stream",
     "text": [
      "2016-06-24 18:32:44\tReading datapackage from /projects/ps-yeolab/obotvinnik/flotilla_projects/singlecell_pnm_figure1_supplementary_post_splicing_filtering/datapackage.json\n",
      "2016-06-24 18:32:44\tParsing datapackage to create a Study object\n",
      "2016-06-24 18:33:20 \tInitializing Study\n",
      "2016-06-24 18:33:20 \tInitializing Predictor configuration manager for Study\n",
      "2016-06-24 18:33:20\tPredictor ExtraTreesClassifier is of type <class 'sklearn.ensemble.forest.ExtraTreesClassifier'>\n",
      "2016-06-24 18:33:20\tAdded ExtraTreesClassifier to default predictors\n",
      "2016-06-24 18:33:20\tPredictor ExtraTreesRegressor is of type <class 'sklearn.ensemble.forest.ExtraTreesRegressor'>\n",
      "2016-06-24 18:33:20\tAdded ExtraTreesRegressor to default predictors\n",
      "2016-06-24 18:33:20\tPredictor GradientBoostingClassifier is of type <class 'sklearn.ensemble.gradient_boosting.GradientBoostingClassifier'>\n",
      "2016-06-24 18:33:20\tAdded GradientBoostingClassifier to default predictors\n",
      "2016-06-24 18:33:20\tPredictor GradientBoostingRegressor is of type <class 'sklearn.ensemble.gradient_boosting.GradientBoostingRegressor'>\n",
      "2016-06-24 18:33:20\tAdded GradientBoostingRegressor to default predictors\n",
      "2016-06-24 18:33:24 \tBuilding Gene Ontology database...\n",
      "2016-06-24 18:33:31 \t\tDone\n",
      "2016-06-24 18:33:32 \tLoading metadata\n",
      "2016-06-24 18:33:32\tLoading expression data\n",
      "2016-06-24 18:33:32\tInitializing expression\n",
      "2016-06-24 18:33:32\tDone initializing expression\n",
      "2016-06-24 18:33:34\tLoading splicing data\n",
      "2016-06-24 18:33:34\tInitializing splicing\n",
      "2016-06-24 18:33:34\tDone initializing splicing\n",
      "2016-06-24 18:33:34\tSuccessfully initialized a Study object!\n",
      "mkdir: cannot create directory `pdfs': File exists\n"
     ]
    },
    {
     "name": "stderr",
     "output_type": "stream",
     "text": [
      "/home/obotvinnik/anaconda/lib/python2.7/site-packages/flotilla/__init__.py:65: DtypeWarning: Columns (19) have mixed types. Specify dtype option on import or set low_memory=False.\n",
      "  load_species_data=load_species_data)\n"
     ]
    }
   ],
   "source": [
    "%load_ext autoreload\n",
    "%autoreload 2\n",
    "\n",
    "import matplotlib.pyplot as plt\n",
    "import seaborn as sns\n",
    "import numpy as np\n",
    "import pandas as pd\n",
    "\n",
    "sns.set(style='ticks', context='paper', rc={'font.sans-serif':'Arial', 'pdf.fonttype': 42})\n",
    "\n",
    "%matplotlib inline\n",
    "\n",
    "import flotilla\n",
    "\n",
    "\n",
    "flotilla_dir = '/projects/ps-yeolab/obotvinnik/flotilla_projects'\n",
    "\n",
    "study = flotilla.embark('singlecell_pnm_figure1_supplementary_post_splicing_filtering', flotilla_dir=flotilla_dir)\n",
    "\n",
    "not_outliers = study.splicing.singles.index.difference(study.splicing.outliers.index)\n",
    "folder = 'pdfs' #'/home/obotvinnik/Dropbox/figures2/singlecell_pnm/figure2_modalities/bayesian'\n",
    "! mkdir $folder"
   ]
  },
  {
   "cell_type": "code",
   "execution_count": 2,
   "metadata": {
    "collapsed": true
   },
   "outputs": [],
   "source": [
    "geo_folder = '/home/obotvinnik/projects/singlecell_pnms/data/geneyeo'"
   ]
  },
  {
   "cell_type": "code",
   "execution_count": 3,
   "metadata": {
    "collapsed": false
   },
   "outputs": [
    {
     "name": "stdout",
     "output_type": "stream",
     "text": [
      "/oasis/tscc/scratch/obotvinnik/projects/singlecell_pnms/data/geneyeo\n"
     ]
    }
   ],
   "source": [
    "cd $geo_folder"
   ]
  },
  {
   "cell_type": "code",
   "execution_count": 4,
   "metadata": {
    "collapsed": false
   },
   "outputs": [
    {
     "data": {
      "text/html": [
       "<div>\n",
       "<table border=\"1\" class=\"dataframe\">\n",
       "  <thead>\n",
       "    <tr style=\"text-align: right;\">\n",
       "      <th></th>\n",
       "      <th>R1</th>\n",
       "    </tr>\n",
       "  </thead>\n",
       "  <tbody>\n",
       "    <tr>\n",
       "      <th>0</th>\n",
       "      <td>M2nd_05_R1.fastq.gz</td>\n",
       "    </tr>\n",
       "    <tr>\n",
       "      <th>1</th>\n",
       "      <td>P7_01_R1.fastq.gz</td>\n",
       "    </tr>\n",
       "    <tr>\n",
       "      <th>2</th>\n",
       "      <td>CVN_11_R1.fastq.gz</td>\n",
       "    </tr>\n",
       "    <tr>\n",
       "      <th>3</th>\n",
       "      <td>P1_02_R1.fastq.gz</td>\n",
       "    </tr>\n",
       "    <tr>\n",
       "      <th>4</th>\n",
       "      <td>N1_04_R1.fastq.gz</td>\n",
       "    </tr>\n",
       "  </tbody>\n",
       "</table>\n",
       "</div>"
      ],
      "text/plain": [
       "                    R1\n",
       "0  M2nd_05_R1.fastq.gz\n",
       "1    P7_01_R1.fastq.gz\n",
       "2   CVN_11_R1.fastq.gz\n",
       "3    P1_02_R1.fastq.gz\n",
       "4    N1_04_R1.fastq.gz"
      ]
     },
     "execution_count": 4,
     "metadata": {},
     "output_type": "execute_result"
    }
   ],
   "source": [
    "import os\n",
    "import glob\n",
    "\n",
    "r1s = pd.Series(glob.glob('*R1.fastq.gz'), name='R1').to_frame()\n",
    "r1s.head()"
   ]
  },
  {
   "cell_type": "code",
   "execution_count": 5,
   "metadata": {
    "collapsed": false
   },
   "outputs": [
    {
     "data": {
      "text/html": [
       "<div>\n",
       "<table border=\"1\" class=\"dataframe\">\n",
       "  <thead>\n",
       "    <tr style=\"text-align: right;\">\n",
       "      <th></th>\n",
       "      <th>R1</th>\n",
       "      <th>sample_id</th>\n",
       "    </tr>\n",
       "  </thead>\n",
       "  <tbody>\n",
       "    <tr>\n",
       "      <th>0</th>\n",
       "      <td>M2nd_05_R1.fastq.gz</td>\n",
       "      <td>M2nd_05</td>\n",
       "    </tr>\n",
       "    <tr>\n",
       "      <th>1</th>\n",
       "      <td>P7_01_R1.fastq.gz</td>\n",
       "      <td>P7_01</td>\n",
       "    </tr>\n",
       "    <tr>\n",
       "      <th>2</th>\n",
       "      <td>CVN_11_R1.fastq.gz</td>\n",
       "      <td>CVN_11</td>\n",
       "    </tr>\n",
       "    <tr>\n",
       "      <th>3</th>\n",
       "      <td>P1_02_R1.fastq.gz</td>\n",
       "      <td>P1_02</td>\n",
       "    </tr>\n",
       "    <tr>\n",
       "      <th>4</th>\n",
       "      <td>N1_04_R1.fastq.gz</td>\n",
       "      <td>N1_04</td>\n",
       "    </tr>\n",
       "  </tbody>\n",
       "</table>\n",
       "</div>"
      ],
      "text/plain": [
       "                    R1 sample_id\n",
       "0  M2nd_05_R1.fastq.gz   M2nd_05\n",
       "1    P7_01_R1.fastq.gz     P7_01\n",
       "2   CVN_11_R1.fastq.gz    CVN_11\n",
       "3    P1_02_R1.fastq.gz     P1_02\n",
       "4    N1_04_R1.fastq.gz     N1_04"
      ]
     },
     "execution_count": 5,
     "metadata": {},
     "output_type": "execute_result"
    }
   ],
   "source": [
    "r1s['sample_id'] = r1s['R1'].map(lambda x: '_'.join(x.split('_')[:2]))\n",
    "r1s.head()"
   ]
  },
  {
   "cell_type": "code",
   "execution_count": 6,
   "metadata": {
    "collapsed": false
   },
   "outputs": [
    {
     "data": {
      "text/plain": [
       "(214, 18594)"
      ]
     },
     "execution_count": 6,
     "metadata": {},
     "output_type": "execute_result"
    }
   ],
   "source": [
    "study.expression.data.shape"
   ]
  },
  {
   "cell_type": "code",
   "execution_count": 7,
   "metadata": {
    "collapsed": false
   },
   "outputs": [
    {
     "name": "stdout",
     "output_type": "stream",
     "text": [
      "(214, 2)\n"
     ]
    },
    {
     "data": {
      "text/html": [
       "<div>\n",
       "<table border=\"1\" class=\"dataframe\">\n",
       "  <thead>\n",
       "    <tr style=\"text-align: right;\">\n",
       "      <th></th>\n",
       "      <th>R1</th>\n",
       "      <th>sample_id</th>\n",
       "    </tr>\n",
       "  </thead>\n",
       "  <tbody>\n",
       "    <tr>\n",
       "      <th>0</th>\n",
       "      <td>M2nd_05_R1.fastq.gz</td>\n",
       "      <td>M2nd_05</td>\n",
       "    </tr>\n",
       "    <tr>\n",
       "      <th>1</th>\n",
       "      <td>P7_01_R1.fastq.gz</td>\n",
       "      <td>P7_01</td>\n",
       "    </tr>\n",
       "    <tr>\n",
       "      <th>2</th>\n",
       "      <td>CVN_11_R1.fastq.gz</td>\n",
       "      <td>CVN_11</td>\n",
       "    </tr>\n",
       "    <tr>\n",
       "      <th>3</th>\n",
       "      <td>P1_02_R1.fastq.gz</td>\n",
       "      <td>P1_02</td>\n",
       "    </tr>\n",
       "    <tr>\n",
       "      <th>4</th>\n",
       "      <td>N1_04_R1.fastq.gz</td>\n",
       "      <td>N1_04</td>\n",
       "    </tr>\n",
       "  </tbody>\n",
       "</table>\n",
       "</div>"
      ],
      "text/plain": [
       "                    R1 sample_id\n",
       "0  M2nd_05_R1.fastq.gz   M2nd_05\n",
       "1    P7_01_R1.fastq.gz     P7_01\n",
       "2   CVN_11_R1.fastq.gz    CVN_11\n",
       "3    P1_02_R1.fastq.gz     P1_02\n",
       "4    N1_04_R1.fastq.gz     N1_04"
      ]
     },
     "execution_count": 7,
     "metadata": {},
     "output_type": "execute_result"
    }
   ],
   "source": [
    "r1s_valid = r1s.loc[r1s['sample_id'].isin(study.expression.data.index)]\n",
    "print(r1s_valid.shape)\n",
    "r1s_valid.head()"
   ]
  },
  {
   "cell_type": "code",
   "execution_count": 8,
   "metadata": {
    "collapsed": false
   },
   "outputs": [
    {
     "data": {
      "text/plain": [
       "(0, 2)"
      ]
     },
     "execution_count": 8,
     "metadata": {},
     "output_type": "execute_result"
    }
   ],
   "source": [
    "r1s_invalid = r1s.loc[~r1s['sample_id'].isin(study.expression.data.index)]\n",
    "r1s_invalid.shape"
   ]
  },
  {
   "cell_type": "code",
   "execution_count": 9,
   "metadata": {
    "collapsed": true
   },
   "outputs": [],
   "source": [
    "from __future__ import print_function"
   ]
  },
  {
   "cell_type": "code",
   "execution_count": 10,
   "metadata": {
    "collapsed": false
   },
   "outputs": [
    {
     "name": "stdout",
     "output_type": "stream",
     "text": [
      "\u001b[0m\u001b[01;36mCVN_01_R1.fastq.gz\u001b[0m@   \u001b[01;36mM2nd_27_R1.fastq.gz\u001b[0m@  \u001b[01;36mN5_06_R1.fastq.gz\u001b[0m@\r\n",
      "\u001b[01;36mCVN_02_R1.fastq.gz\u001b[0m@   \u001b[01;36mM2nd_27_R2.fastq.gz\u001b[0m@  \u001b[01;36mN5_06_R2.fastq.gz\u001b[0m@\r\n",
      "\u001b[01;36mCVN_03_R1.fastq.gz\u001b[0m@   \u001b[01;36mM2nd_28_R1.fastq.gz\u001b[0m@  \u001b[01;36mN5_10_R1.fastq.gz\u001b[0m@\r\n",
      "\u001b[01;36mCVN_04_R1.fastq.gz\u001b[0m@   \u001b[01;36mM2nd_28_R2.fastq.gz\u001b[0m@  \u001b[01;36mN5_10_R2.fastq.gz\u001b[0m@\r\n",
      "\u001b[01;36mCVN_05_R1.fastq.gz\u001b[0m@   \u001b[01;36mM2nd_29_R1.fastq.gz\u001b[0m@  \u001b[01;36mP1_01_R1.fastq.gz\u001b[0m@\r\n",
      "\u001b[01;36mCVN_06_R1.fastq.gz\u001b[0m@   \u001b[01;36mM2nd_29_R2.fastq.gz\u001b[0m@  \u001b[01;36mP1_01_R2.fastq.gz\u001b[0m@\r\n",
      "\u001b[01;36mCVN_07_R1.fastq.gz\u001b[0m@   \u001b[01;36mM2nd_33_R1.fastq.gz\u001b[0m@  \u001b[01;36mP1_02_R1.fastq.gz\u001b[0m@\r\n",
      "\u001b[01;36mCVN_08_R1.fastq.gz\u001b[0m@   \u001b[01;36mM2nd_33_R2.fastq.gz\u001b[0m@  \u001b[01;36mP1_02_R2.fastq.gz\u001b[0m@\r\n",
      "\u001b[01;36mCVN_09_R1.fastq.gz\u001b[0m@   \u001b[01;36mM2nd_34_R1.fastq.gz\u001b[0m@  \u001b[01;36mP1_03_R1.fastq.gz\u001b[0m@\r\n",
      "\u001b[01;36mCVN_11_R1.fastq.gz\u001b[0m@   \u001b[01;36mM2nd_34_R2.fastq.gz\u001b[0m@  \u001b[01;36mP1_03_R2.fastq.gz\u001b[0m@\r\n",
      "\u001b[01;36mCVN_12_R1.fastq.gz\u001b[0m@   \u001b[01;36mM3_01_R1.fastq.gz\u001b[0m@    \u001b[01;36mP1_04_R1.fastq.gz\u001b[0m@\r\n",
      "\u001b[01;36mCVN_13_R1.fastq.gz\u001b[0m@   \u001b[01;36mM3_01_R2.fastq.gz\u001b[0m@    \u001b[01;36mP1_04_R2.fastq.gz\u001b[0m@\r\n",
      "\u001b[01;36mCVN_14_R1.fastq.gz\u001b[0m@   \u001b[01;36mM3_02_R1.fastq.gz\u001b[0m@    \u001b[01;36mP1_05_R1.fastq.gz\u001b[0m@\r\n",
      "\u001b[01;36mCVN_15_R1.fastq.gz\u001b[0m@   \u001b[01;36mM3_02_R2.fastq.gz\u001b[0m@    \u001b[01;36mP1_05_R2.fastq.gz\u001b[0m@\r\n",
      "\u001b[01;36mCVN_16_R1.fastq.gz\u001b[0m@   \u001b[01;36mM3_03_R1.fastq.gz\u001b[0m@    \u001b[01;36mP1_06_R1.fastq.gz\u001b[0m@\r\n",
      "\u001b[01;36mCVN_17_R1.fastq.gz\u001b[0m@   \u001b[01;36mM3_03_R2.fastq.gz\u001b[0m@    \u001b[01;36mP1_06_R2.fastq.gz\u001b[0m@\r\n",
      "\u001b[01;36mCVN_18_R1.fastq.gz\u001b[0m@   \u001b[01;36mM3_07_R1.fastq.gz\u001b[0m@    \u001b[01;36mP1_07_R1.fastq.gz\u001b[0m@\r\n",
      "\u001b[01;36mCVN_19_R1.fastq.gz\u001b[0m@   \u001b[01;36mM3_07_R2.fastq.gz\u001b[0m@    \u001b[01;36mP1_07_R2.fastq.gz\u001b[0m@\r\n",
      "\u001b[01;36mCVN_20_R1.fastq.gz\u001b[0m@   \u001b[01;36mM3_14_R1.fastq.gz\u001b[0m@    \u001b[01;36mP1_08_R1.fastq.gz\u001b[0m@\r\n",
      "\u001b[01;36mCVN_21_R1.fastq.gz\u001b[0m@   \u001b[01;36mM3_14_R2.fastq.gz\u001b[0m@    \u001b[01;36mP1_08_R2.fastq.gz\u001b[0m@\r\n",
      "\u001b[01;36mCVN_22_R1.fastq.gz\u001b[0m@   \u001b[01;36mM4_05_R1.fastq.gz\u001b[0m@    \u001b[01;36mP1_09_R1.fastq.gz\u001b[0m@\r\n",
      "\u001b[01;36mCVN_23_R1.fastq.gz\u001b[0m@   \u001b[01;36mM4_05_R2.fastq.gz\u001b[0m@    \u001b[01;36mP1_09_R2.fastq.gz\u001b[0m@\r\n",
      "\u001b[01;36mCVN_24_R1.fastq.gz\u001b[0m@   \u001b[01;36mM4_06_R1.fastq.gz\u001b[0m@    \u001b[01;36mP1_10_R1.fastq.gz\u001b[0m@\r\n",
      "\u001b[01;36mCVN_25_R1.fastq.gz\u001b[0m@   \u001b[01;36mM4_06_R2.fastq.gz\u001b[0m@    \u001b[01;36mP1_10_R2.fastq.gz\u001b[0m@\r\n",
      "\u001b[01;36mCVN_26_R1.fastq.gz\u001b[0m@   \u001b[01;36mM4_11_R1.fastq.gz\u001b[0m@    \u001b[01;36mP1_11_R1.fastq.gz\u001b[0m@\r\n",
      "\u001b[01;36mCVN_27_R1.fastq.gz\u001b[0m@   \u001b[01;36mM4_11_R2.fastq.gz\u001b[0m@    \u001b[01;36mP1_11_R2.fastq.gz\u001b[0m@\r\n",
      "\u001b[01;36mCVN_28_R1.fastq.gz\u001b[0m@   \u001b[01;36mM4_12_R1.fastq.gz\u001b[0m@    \u001b[01;36mP1_12_R1.fastq.gz\u001b[0m@\r\n",
      "\u001b[01;36mCVN_29_R1.fastq.gz\u001b[0m@   \u001b[01;36mM4_12_R2.fastq.gz\u001b[0m@    \u001b[01;36mP1_12_R2.fastq.gz\u001b[0m@\r\n",
      "\u001b[01;36mCVN_30_R1.fastq.gz\u001b[0m@   \u001b[01;36mM4_13_R1.fastq.gz\u001b[0m@    \u001b[01;36mP2_01_R1.fastq.gz\u001b[0m@\r\n",
      "\u001b[01;36mCVN_31_R1.fastq.gz\u001b[0m@   \u001b[01;36mM4_13_R2.fastq.gz\u001b[0m@    \u001b[01;36mP2_01_R2.fastq.gz\u001b[0m@\r\n",
      "\u001b[01;36mCVN_32_R1.fastq.gz\u001b[0m@   \u001b[01;36mM4_14_R1.fastq.gz\u001b[0m@    \u001b[01;36mP2_02_R1.fastq.gz\u001b[0m@\r\n",
      "\u001b[01;36mCVN_33_R1.fastq.gz\u001b[0m@   \u001b[01;36mM4_14_R2.fastq.gz\u001b[0m@    \u001b[01;36mP2_02_R2.fastq.gz\u001b[0m@\r\n",
      "\u001b[01;36mCVN_34_R1.fastq.gz\u001b[0m@   \u001b[01;36mM5_01_R1.fastq.gz\u001b[0m@    \u001b[01;36mP2_03_R1.fastq.gz\u001b[0m@\r\n",
      "\u001b[01;36mCVN_35_R1.fastq.gz\u001b[0m@   \u001b[01;36mM5_01_R2.fastq.gz\u001b[0m@    \u001b[01;36mP2_03_R2.fastq.gz\u001b[0m@\r\n",
      "\u001b[01;36mM1_01_R1.fastq.gz\u001b[0m@    \u001b[01;36mM5_02_R1.fastq.gz\u001b[0m@    \u001b[01;36mP2_04_R1.fastq.gz\u001b[0m@\r\n",
      "\u001b[01;36mM1_01_R2.fastq.gz\u001b[0m@    \u001b[01;36mM5_02_R2.fastq.gz\u001b[0m@    \u001b[01;36mP2_04_R2.fastq.gz\u001b[0m@\r\n",
      "\u001b[01;36mM1_02_R1.fastq.gz\u001b[0m@    \u001b[01;36mM5_03_R1.fastq.gz\u001b[0m@    \u001b[01;36mP2_05_R1.fastq.gz\u001b[0m@\r\n",
      "\u001b[01;36mM1_02_R2.fastq.gz\u001b[0m@    \u001b[01;36mM5_03_R2.fastq.gz\u001b[0m@    \u001b[01;36mP2_05_R2.fastq.gz\u001b[0m@\r\n",
      "\u001b[01;36mM1_03_R1.fastq.gz\u001b[0m@    \u001b[01;36mM5_04_R1.fastq.gz\u001b[0m@    \u001b[01;36mP2_06_R1.fastq.gz\u001b[0m@\r\n",
      "\u001b[01;36mM1_03_R2.fastq.gz\u001b[0m@    \u001b[01;36mM5_04_R2.fastq.gz\u001b[0m@    \u001b[01;36mP2_06_R2.fastq.gz\u001b[0m@\r\n",
      "\u001b[01;36mM1_04_R1.fastq.gz\u001b[0m@    \u001b[01;36mM6_02_R1.fastq.gz\u001b[0m@    \u001b[01;36mP2_07_R1.fastq.gz\u001b[0m@\r\n",
      "\u001b[01;36mM1_04_R2.fastq.gz\u001b[0m@    \u001b[01;36mM6_02_R2.fastq.gz\u001b[0m@    \u001b[01;36mP2_07_R2.fastq.gz\u001b[0m@\r\n",
      "\u001b[01;36mM1_05_R1.fastq.gz\u001b[0m@    \u001b[01;36mM6_03_R1.fastq.gz\u001b[0m@    \u001b[01;36mP2_08_R1.fastq.gz\u001b[0m@\r\n",
      "\u001b[01;36mM1_05_R2.fastq.gz\u001b[0m@    \u001b[01;36mM6_03_R2.fastq.gz\u001b[0m@    \u001b[01;36mP2_08_R2.fastq.gz\u001b[0m@\r\n",
      "\u001b[01;36mM1_06_R1.fastq.gz\u001b[0m@    \u001b[01;36mM6_04_R1.fastq.gz\u001b[0m@    \u001b[01;36mP2_09_R1.fastq.gz\u001b[0m@\r\n",
      "\u001b[01;36mM1_06_R2.fastq.gz\u001b[0m@    \u001b[01;36mM6_04_R2.fastq.gz\u001b[0m@    \u001b[01;36mP2_09_R2.fastq.gz\u001b[0m@\r\n",
      "\u001b[01;36mM1_07_R1.fastq.gz\u001b[0m@    \u001b[01;36mM6_05_R1.fastq.gz\u001b[0m@    \u001b[01;36mP2_10_R1.fastq.gz\u001b[0m@\r\n",
      "\u001b[01;36mM1_07_R2.fastq.gz\u001b[0m@    \u001b[01;36mM6_05_R2.fastq.gz\u001b[0m@    \u001b[01;36mP2_10_R2.fastq.gz\u001b[0m@\r\n",
      "\u001b[01;36mM1_08_R1.fastq.gz\u001b[0m@    \u001b[01;36mM6_06_R1.fastq.gz\u001b[0m@    \u001b[01;36mP2_11_R1.fastq.gz\u001b[0m@\r\n",
      "\u001b[01;36mM1_08_R2.fastq.gz\u001b[0m@    \u001b[01;36mM6_06_R2.fastq.gz\u001b[0m@    \u001b[01;36mP2_11_R2.fastq.gz\u001b[0m@\r\n",
      "\u001b[01;36mM1_09_R1.fastq.gz\u001b[0m@    \u001b[01;36mM6_07_R1.fastq.gz\u001b[0m@    \u001b[01;36mP2_12_R1.fastq.gz\u001b[0m@\r\n",
      "\u001b[01;36mM1_09_R2.fastq.gz\u001b[0m@    \u001b[01;36mM6_07_R2.fastq.gz\u001b[0m@    \u001b[01;36mP2_12_R2.fastq.gz\u001b[0m@\r\n",
      "\u001b[01;36mM1_10_R1.fastq.gz\u001b[0m@    \u001b[01;36mN1_01_R1.fastq.gz\u001b[0m@    \u001b[01;36mP2_13_R1.fastq.gz\u001b[0m@\r\n",
      "\u001b[01;36mM1_10_R2.fastq.gz\u001b[0m@    \u001b[01;36mN1_01_R2.fastq.gz\u001b[0m@    \u001b[01;36mP2_13_R2.fastq.gz\u001b[0m@\r\n",
      "\u001b[01;36mM1_11_R1.fastq.gz\u001b[0m@    \u001b[01;36mN1_02_R1.fastq.gz\u001b[0m@    \u001b[01;36mP2_14_R1.fastq.gz\u001b[0m@\r\n",
      "\u001b[01;36mM1_11_R2.fastq.gz\u001b[0m@    \u001b[01;36mN1_02_R2.fastq.gz\u001b[0m@    \u001b[01;36mP2_14_R2.fastq.gz\u001b[0m@\r\n",
      "\u001b[01;36mM1_12_R1.fastq.gz\u001b[0m@    \u001b[01;36mN1_03_R1.fastq.gz\u001b[0m@    \u001b[01;36mP3_01_R1.fastq.gz\u001b[0m@\r\n",
      "\u001b[01;36mM1_12_R2.fastq.gz\u001b[0m@    \u001b[01;36mN1_03_R2.fastq.gz\u001b[0m@    \u001b[01;36mP3_01_R2.fastq.gz\u001b[0m@\r\n",
      "\u001b[01;36mM2_01_R1.fastq.gz\u001b[0m@    \u001b[01;36mN1_04_R1.fastq.gz\u001b[0m@    \u001b[01;36mP3_02_R1.fastq.gz\u001b[0m@\r\n",
      "\u001b[01;36mM2_01_R2.fastq.gz\u001b[0m@    \u001b[01;36mN1_04_R2.fastq.gz\u001b[0m@    \u001b[01;36mP3_02_R2.fastq.gz\u001b[0m@\r\n",
      "\u001b[01;36mM2_02_R1.fastq.gz\u001b[0m@    \u001b[01;36mN1_05_R1.fastq.gz\u001b[0m@    \u001b[01;36mP3_03_R1.fastq.gz\u001b[0m@\r\n",
      "\u001b[01;36mM2_02_R2.fastq.gz\u001b[0m@    \u001b[01;36mN1_05_R2.fastq.gz\u001b[0m@    \u001b[01;36mP3_03_R2.fastq.gz\u001b[0m@\r\n",
      "\u001b[01;36mM2_03_R1.fastq.gz\u001b[0m@    \u001b[01;36mN1_06_R1.fastq.gz\u001b[0m@    \u001b[01;36mP4_01_R1.fastq.gz\u001b[0m@\r\n",
      "\u001b[01;36mM2_03_R2.fastq.gz\u001b[0m@    \u001b[01;36mN1_06_R2.fastq.gz\u001b[0m@    \u001b[01;36mP4_01_R2.fastq.gz\u001b[0m@\r\n",
      "\u001b[01;36mM2_04_R1.fastq.gz\u001b[0m@    \u001b[01;36mN1_07_R1.fastq.gz\u001b[0m@    \u001b[01;36mP4_06_R1.fastq.gz\u001b[0m@\r\n",
      "\u001b[01;36mM2_04_R2.fastq.gz\u001b[0m@    \u001b[01;36mN1_07_R2.fastq.gz\u001b[0m@    \u001b[01;36mP4_06_R2.fastq.gz\u001b[0m@\r\n",
      "\u001b[01;36mM2_05_R1.fastq.gz\u001b[0m@    \u001b[01;36mN1_08_R1.fastq.gz\u001b[0m@    \u001b[01;36mP4_07_R1.fastq.gz\u001b[0m@\r\n",
      "\u001b[01;36mM2_05_R2.fastq.gz\u001b[0m@    \u001b[01;36mN1_08_R2.fastq.gz\u001b[0m@    \u001b[01;36mP4_07_R2.fastq.gz\u001b[0m@\r\n",
      "\u001b[01;36mM2_06_R1.fastq.gz\u001b[0m@    \u001b[01;36mN1_09_R1.fastq.gz\u001b[0m@    \u001b[01;36mP4_08_R1.fastq.gz\u001b[0m@\r\n",
      "\u001b[01;36mM2_06_R2.fastq.gz\u001b[0m@    \u001b[01;36mN1_09_R2.fastq.gz\u001b[0m@    \u001b[01;36mP4_08_R2.fastq.gz\u001b[0m@\r\n",
      "\u001b[01;36mM2_07_R1.fastq.gz\u001b[0m@    \u001b[01;36mN1_10_R1.fastq.gz\u001b[0m@    \u001b[01;36mP4_09_R1.fastq.gz\u001b[0m@\r\n",
      "\u001b[01;36mM2_07_R2.fastq.gz\u001b[0m@    \u001b[01;36mN1_10_R2.fastq.gz\u001b[0m@    \u001b[01;36mP4_09_R2.fastq.gz\u001b[0m@\r\n",
      "\u001b[01;36mM2_08_R1.fastq.gz\u001b[0m@    \u001b[01;36mN1_11_R1.fastq.gz\u001b[0m@    \u001b[01;36mP4_10_R1.fastq.gz\u001b[0m@\r\n",
      "\u001b[01;36mM2_08_R2.fastq.gz\u001b[0m@    \u001b[01;36mN1_11_R2.fastq.gz\u001b[0m@    \u001b[01;36mP4_10_R2.fastq.gz\u001b[0m@\r\n",
      "\u001b[01;36mM2_09_R1.fastq.gz\u001b[0m@    \u001b[01;36mN1_12_R1.fastq.gz\u001b[0m@    \u001b[01;36mP4_11_R1.fastq.gz\u001b[0m@\r\n",
      "\u001b[01;36mM2_09_R2.fastq.gz\u001b[0m@    \u001b[01;36mN1_12_R2.fastq.gz\u001b[0m@    \u001b[01;36mP4_11_R2.fastq.gz\u001b[0m@\r\n",
      "\u001b[01;36mM2_10_R1.fastq.gz\u001b[0m@    \u001b[01;36mN2_01_R1.fastq.gz\u001b[0m@    \u001b[01;36mP4_12_R1.fastq.gz\u001b[0m@\r\n",
      "\u001b[01;36mM2_10_R2.fastq.gz\u001b[0m@    \u001b[01;36mN2_01_R2.fastq.gz\u001b[0m@    \u001b[01;36mP4_12_R2.fastq.gz\u001b[0m@\r\n",
      "\u001b[01;36mM2_11_R1.fastq.gz\u001b[0m@    \u001b[01;36mN2_02_R1.fastq.gz\u001b[0m@    \u001b[01;36mP6_01_R1.fastq.gz\u001b[0m@\r\n",
      "\u001b[01;36mM2_11_R2.fastq.gz\u001b[0m@    \u001b[01;36mN2_02_R2.fastq.gz\u001b[0m@    \u001b[01;36mP6_01_R2.fastq.gz\u001b[0m@\r\n",
      "\u001b[01;36mM2_12_R1.fastq.gz\u001b[0m@    \u001b[01;36mN2_03_R1.fastq.gz\u001b[0m@    \u001b[01;36mP6_02_R1.fastq.gz\u001b[0m@\r\n",
      "\u001b[01;36mM2_12_R2.fastq.gz\u001b[0m@    \u001b[01;36mN2_03_R2.fastq.gz\u001b[0m@    \u001b[01;36mP6_02_R2.fastq.gz\u001b[0m@\r\n",
      "\u001b[01;36mM2nd_01_R1.fastq.gz\u001b[0m@  \u001b[01;36mN2_04_R1.fastq.gz\u001b[0m@    \u001b[01;36mP6_03_R1.fastq.gz\u001b[0m@\r\n",
      "\u001b[01;36mM2nd_01_R2.fastq.gz\u001b[0m@  \u001b[01;36mN2_04_R2.fastq.gz\u001b[0m@    \u001b[01;36mP6_03_R2.fastq.gz\u001b[0m@\r\n",
      "\u001b[01;36mM2nd_02_R1.fastq.gz\u001b[0m@  \u001b[01;36mN2_05_R1.fastq.gz\u001b[0m@    \u001b[01;36mP6_04_R1.fastq.gz\u001b[0m@\r\n",
      "\u001b[01;36mM2nd_02_R2.fastq.gz\u001b[0m@  \u001b[01;36mN2_05_R2.fastq.gz\u001b[0m@    \u001b[01;36mP6_04_R2.fastq.gz\u001b[0m@\r\n",
      "\u001b[01;36mM2nd_03_R1.fastq.gz\u001b[0m@  \u001b[01;36mN2_06_R1.fastq.gz\u001b[0m@    \u001b[01;36mP7_01_R1.fastq.gz\u001b[0m@\r\n",
      "\u001b[01;36mM2nd_03_R2.fastq.gz\u001b[0m@  \u001b[01;36mN2_06_R2.fastq.gz\u001b[0m@    \u001b[01;36mP7_01_R2.fastq.gz\u001b[0m@\r\n",
      "\u001b[01;36mM2nd_04_R1.fastq.gz\u001b[0m@  \u001b[01;36mN2_07_R1.fastq.gz\u001b[0m@    \u001b[01;36mP7_02_R1.fastq.gz\u001b[0m@\r\n",
      "\u001b[01;36mM2nd_04_R2.fastq.gz\u001b[0m@  \u001b[01;36mN2_07_R2.fastq.gz\u001b[0m@    \u001b[01;36mP7_02_R2.fastq.gz\u001b[0m@\r\n",
      "\u001b[01;36mM2nd_05_R1.fastq.gz\u001b[0m@  \u001b[01;36mN2_08_R1.fastq.gz\u001b[0m@    \u001b[01;36mP7_03_R1.fastq.gz\u001b[0m@\r\n",
      "\u001b[01;36mM2nd_05_R2.fastq.gz\u001b[0m@  \u001b[01;36mN2_08_R2.fastq.gz\u001b[0m@    \u001b[01;36mP7_03_R2.fastq.gz\u001b[0m@\r\n",
      "\u001b[01;36mM2nd_06_R1.fastq.gz\u001b[0m@  \u001b[01;36mN2_09_R1.fastq.gz\u001b[0m@    \u001b[01;36mP7_04_R1.fastq.gz\u001b[0m@\r\n",
      "\u001b[01;36mM2nd_06_R2.fastq.gz\u001b[0m@  \u001b[01;36mN2_09_R2.fastq.gz\u001b[0m@    \u001b[01;36mP7_04_R2.fastq.gz\u001b[0m@\r\n",
      "\u001b[01;36mM2nd_07_R1.fastq.gz\u001b[0m@  \u001b[01;36mN2_10_R1.fastq.gz\u001b[0m@    \u001b[01;36mP7_05_R1.fastq.gz\u001b[0m@\r\n",
      "\u001b[01;36mM2nd_07_R2.fastq.gz\u001b[0m@  \u001b[01;36mN2_10_R2.fastq.gz\u001b[0m@    \u001b[01;36mP7_05_R2.fastq.gz\u001b[0m@\r\n",
      "\u001b[01;36mM2nd_08_R1.fastq.gz\u001b[0m@  \u001b[01;36mN2_11_R1.fastq.gz\u001b[0m@    \u001b[01;36mP7_06_R1.fastq.gz\u001b[0m@\r\n",
      "\u001b[01;36mM2nd_08_R2.fastq.gz\u001b[0m@  \u001b[01;36mN2_11_R2.fastq.gz\u001b[0m@    \u001b[01;36mP7_06_R2.fastq.gz\u001b[0m@\r\n",
      "\u001b[01;36mM2nd_09_R1.fastq.gz\u001b[0m@  \u001b[01;36mN2_12_R1.fastq.gz\u001b[0m@    \u001b[01;36mP7_07_R1.fastq.gz\u001b[0m@\r\n",
      "\u001b[01;36mM2nd_09_R2.fastq.gz\u001b[0m@  \u001b[01;36mN2_12_R2.fastq.gz\u001b[0m@    \u001b[01;36mP7_07_R2.fastq.gz\u001b[0m@\r\n",
      "\u001b[01;36mM2nd_10_R1.fastq.gz\u001b[0m@  \u001b[01;36mN3_01_R1.fastq.gz\u001b[0m@    \u001b[01;36mP7_08_R1.fastq.gz\u001b[0m@\r\n",
      "\u001b[01;36mM2nd_10_R2.fastq.gz\u001b[0m@  \u001b[01;36mN3_01_R2.fastq.gz\u001b[0m@    \u001b[01;36mP7_08_R2.fastq.gz\u001b[0m@\r\n",
      "\u001b[01;36mM2nd_11_R1.fastq.gz\u001b[0m@  \u001b[01;36mN3_02_R1.fastq.gz\u001b[0m@    \u001b[01;36mP7_09_R1.fastq.gz\u001b[0m@\r\n",
      "\u001b[01;36mM2nd_11_R2.fastq.gz\u001b[0m@  \u001b[01;36mN3_02_R2.fastq.gz\u001b[0m@    \u001b[01;36mP7_09_R2.fastq.gz\u001b[0m@\r\n",
      "\u001b[01;36mM2nd_12_R1.fastq.gz\u001b[0m@  \u001b[01;36mN3_03_R1.fastq.gz\u001b[0m@    \u001b[01;36mP7_10_R1.fastq.gz\u001b[0m@\r\n",
      "\u001b[01;36mM2nd_12_R2.fastq.gz\u001b[0m@  \u001b[01;36mN3_03_R2.fastq.gz\u001b[0m@    \u001b[01;36mP7_10_R2.fastq.gz\u001b[0m@\r\n",
      "\u001b[01;36mM2nd_13_R1.fastq.gz\u001b[0m@  \u001b[01;36mN3_04_R1.fastq.gz\u001b[0m@    \u001b[01;36mP7_11_R1.fastq.gz\u001b[0m@\r\n",
      "\u001b[01;36mM2nd_13_R2.fastq.gz\u001b[0m@  \u001b[01;36mN3_04_R2.fastq.gz\u001b[0m@    \u001b[01;36mP7_11_R2.fastq.gz\u001b[0m@\r\n",
      "\u001b[01;36mM2nd_14_R1.fastq.gz\u001b[0m@  \u001b[01;36mN3_05_R1.fastq.gz\u001b[0m@    \u001b[01;36mP7_12_R1.fastq.gz\u001b[0m@\r\n",
      "\u001b[01;36mM2nd_14_R2.fastq.gz\u001b[0m@  \u001b[01;36mN3_05_R2.fastq.gz\u001b[0m@    \u001b[01;36mP7_12_R2.fastq.gz\u001b[0m@\r\n",
      "\u001b[01;36mM2nd_15_R1.fastq.gz\u001b[0m@  \u001b[01;36mN3_06_R1.fastq.gz\u001b[0m@    \u001b[01;36mP8_01_R1.fastq.gz\u001b[0m@\r\n",
      "\u001b[01;36mM2nd_15_R2.fastq.gz\u001b[0m@  \u001b[01;36mN3_06_R2.fastq.gz\u001b[0m@    \u001b[01;36mP8_01_R2.fastq.gz\u001b[0m@\r\n",
      "\u001b[01;36mM2nd_16_R1.fastq.gz\u001b[0m@  \u001b[01;36mN3_07_R1.fastq.gz\u001b[0m@    \u001b[01;36mP8_02_R1.fastq.gz\u001b[0m@\r\n",
      "\u001b[01;36mM2nd_16_R2.fastq.gz\u001b[0m@  \u001b[01;36mN3_07_R2.fastq.gz\u001b[0m@    \u001b[01;36mP8_02_R2.fastq.gz\u001b[0m@\r\n",
      "\u001b[01;36mM2nd_17_R1.fastq.gz\u001b[0m@  \u001b[01;36mN3_09_R1.fastq.gz\u001b[0m@    \u001b[01;36mP8_05_R1.fastq.gz\u001b[0m@\r\n",
      "\u001b[01;36mM2nd_17_R2.fastq.gz\u001b[0m@  \u001b[01;36mN3_09_R2.fastq.gz\u001b[0m@    \u001b[01;36mP8_05_R2.fastq.gz\u001b[0m@\r\n",
      "\u001b[01;36mM2nd_18_R1.fastq.gz\u001b[0m@  \u001b[01;36mN3_10_R1.fastq.gz\u001b[0m@    \u001b[01;36mP8_06_R1.fastq.gz\u001b[0m@\r\n",
      "\u001b[01;36mM2nd_18_R2.fastq.gz\u001b[0m@  \u001b[01;36mN3_10_R2.fastq.gz\u001b[0m@    \u001b[01;36mP8_06_R2.fastq.gz\u001b[0m@\r\n",
      "\u001b[01;36mM2nd_19_R1.fastq.gz\u001b[0m@  \u001b[01;36mN3_11_R1.fastq.gz\u001b[0m@    \u001b[01;36mP8_10_R1.fastq.gz\u001b[0m@\r\n",
      "\u001b[01;36mM2nd_19_R2.fastq.gz\u001b[0m@  \u001b[01;36mN3_11_R2.fastq.gz\u001b[0m@    \u001b[01;36mP8_10_R2.fastq.gz\u001b[0m@\r\n",
      "\u001b[01;36mM2nd_20_R1.fastq.gz\u001b[0m@  \u001b[01;36mN3_12_R1.fastq.gz\u001b[0m@    \u001b[01;36mP8_11_R1.fastq.gz\u001b[0m@\r\n",
      "\u001b[01;36mM2nd_20_R2.fastq.gz\u001b[0m@  \u001b[01;36mN3_12_R2.fastq.gz\u001b[0m@    \u001b[01;36mP8_11_R2.fastq.gz\u001b[0m@\r\n",
      "\u001b[01;36mM2nd_21_R1.fastq.gz\u001b[0m@  \u001b[01;36mN4_04_R1.fastq.gz\u001b[0m@    \u001b[01;36mP9_01_R1.fastq.gz\u001b[0m@\r\n",
      "\u001b[01;36mM2nd_21_R2.fastq.gz\u001b[0m@  \u001b[01;36mN4_04_R2.fastq.gz\u001b[0m@    \u001b[01;36mP9_01_R2.fastq.gz\u001b[0m@\r\n",
      "\u001b[01;36mM2nd_22_R1.fastq.gz\u001b[0m@  \u001b[01;36mN4_05_R1.fastq.gz\u001b[0m@    \u001b[01;36mP9_02_R1.fastq.gz\u001b[0m@\r\n",
      "\u001b[01;36mM2nd_22_R2.fastq.gz\u001b[0m@  \u001b[01;36mN4_05_R2.fastq.gz\u001b[0m@    \u001b[01;36mP9_02_R2.fastq.gz\u001b[0m@\r\n",
      "\u001b[01;36mM2nd_24_R1.fastq.gz\u001b[0m@  \u001b[01;36mN4_06_R1.fastq.gz\u001b[0m@    \u001b[01;36mP9_03_R1.fastq.gz\u001b[0m@\r\n",
      "\u001b[01;36mM2nd_24_R2.fastq.gz\u001b[0m@  \u001b[01;36mN4_06_R2.fastq.gz\u001b[0m@    \u001b[01;36mP9_03_R2.fastq.gz\u001b[0m@\r\n",
      "\u001b[01;36mM2nd_25_R1.fastq.gz\u001b[0m@  \u001b[01;36mN4_09_R1.fastq.gz\u001b[0m@    \u001b[01;36mP9_04_R1.fastq.gz\u001b[0m@\r\n",
      "\u001b[01;36mM2nd_25_R2.fastq.gz\u001b[0m@  \u001b[01;36mN4_09_R2.fastq.gz\u001b[0m@    \u001b[01;36mP9_04_R2.fastq.gz\u001b[0m@\r\n",
      "\u001b[01;36mM2nd_26_R1.fastq.gz\u001b[0m@  \u001b[01;36mN4_10_R1.fastq.gz\u001b[0m@\r\n",
      "\u001b[01;36mM2nd_26_R2.fastq.gz\u001b[0m@  \u001b[01;36mN4_10_R2.fastq.gz\u001b[0m@\r\n",
      "\u001b[m"
     ]
    }
   ],
   "source": [
    "ls"
   ]
  },
  {
   "cell_type": "code",
   "execution_count": 11,
   "metadata": {
    "collapsed": false,
    "scrolled": false
   },
   "outputs": [],
   "source": [
    "for r1 in r1s_invalid['R1']:\n",
    "    print(r1)\n",
    "    r2 = r1.replace('R1', 'R2')\n",
    "    ! rm -rf $r1\n",
    "    ! rm -rf $r2"
   ]
  },
  {
   "cell_type": "code",
   "execution_count": 12,
   "metadata": {
    "collapsed": false
   },
   "outputs": [
    {
     "data": {
      "text/plain": [
       "u'/oasis/tscc/scratch/obotvinnik/projects/singlecell_pnms/data/geneyeo'"
      ]
     },
     "execution_count": 12,
     "metadata": {},
     "output_type": "execute_result"
    }
   ],
   "source": [
    "pwd"
   ]
  },
  {
   "cell_type": "code",
   "execution_count": 13,
   "metadata": {
    "collapsed": false
   },
   "outputs": [
    {
     "name": "stdout",
     "output_type": "stream",
     "text": [
      "/oasis/tscc/scratch/obotvinnik/projects/singlecell_pnms/data\n"
     ]
    }
   ],
   "source": [
    "# cd .."
   ]
  },
  {
   "cell_type": "code",
   "execution_count": 14,
   "metadata": {
    "collapsed": false
   },
   "outputs": [
    {
     "name": "stdout",
     "output_type": "stream",
     "text": [
      "[Errno 2] No such file or directory: 'olga.botvinnik@gmail.com/'\n",
      "/oasis/tscc/scratch/obotvinnik/projects/singlecell_pnms/data\n"
     ]
    }
   ],
   "source": [
    "# cd olga.botvinnik@gmail.com/"
   ]
  },
  {
   "cell_type": "code",
   "execution_count": 15,
   "metadata": {
    "collapsed": false
   },
   "outputs": [
    {
     "data": {
      "text/html": [
       "<div>\n",
       "<table border=\"1\" class=\"dataframe\">\n",
       "  <thead>\n",
       "    <tr style=\"text-align: right;\">\n",
       "      <th></th>\n",
       "      <th>fastq</th>\n",
       "    </tr>\n",
       "  </thead>\n",
       "  <tbody>\n",
       "    <tr>\n",
       "      <th>67</th>\n",
       "      <td>CVN_01_R1.fastq.gz</td>\n",
       "    </tr>\n",
       "    <tr>\n",
       "      <th>576</th>\n",
       "      <td>CVN_02_R1.fastq.gz</td>\n",
       "    </tr>\n",
       "    <tr>\n",
       "      <th>120</th>\n",
       "      <td>CVN_03_R1.fastq.gz</td>\n",
       "    </tr>\n",
       "    <tr>\n",
       "      <th>362</th>\n",
       "      <td>CVN_04_R1.fastq.gz</td>\n",
       "    </tr>\n",
       "    <tr>\n",
       "      <th>164</th>\n",
       "      <td>CVN_05_R1.fastq.gz</td>\n",
       "    </tr>\n",
       "  </tbody>\n",
       "</table>\n",
       "</div>"
      ],
      "text/plain": [
       "                  fastq\n",
       "67   CVN_01_R1.fastq.gz\n",
       "576  CVN_02_R1.fastq.gz\n",
       "120  CVN_03_R1.fastq.gz\n",
       "362  CVN_04_R1.fastq.gz\n",
       "164  CVN_05_R1.fastq.gz"
      ]
     },
     "execution_count": 15,
     "metadata": {},
     "output_type": "execute_result"
    }
   ],
   "source": [
    "all_fastqs = pd.Series(glob.glob('*.fastq.gz'), name='fastq').to_frame()\n",
    "all_fastqs = all_fastqs.sort_values('fastq')\n",
    "all_fastqs.head()"
   ]
  },
  {
   "cell_type": "code",
   "execution_count": 16,
   "metadata": {
    "collapsed": false
   },
   "outputs": [],
   "source": [
    "md5 = ! md5sum CVN_01_R1.fastq.gz"
   ]
  },
  {
   "cell_type": "code",
   "execution_count": 17,
   "metadata": {
    "collapsed": false
   },
   "outputs": [
    {
     "data": {
      "text/plain": [
       "['6b90e32b71798ea84fad11f2c4cad7dc', 'CVN_01_R1.fastq.gz']"
      ]
     },
     "execution_count": 17,
     "metadata": {},
     "output_type": "execute_result"
    }
   ],
   "source": [
    "md5[0].split()"
   ]
  },
  {
   "cell_type": "code",
   "execution_count": 18,
   "metadata": {
    "collapsed": true
   },
   "outputs": [],
   "source": [
    "all_fastqs['md5'] = None"
   ]
  },
  {
   "cell_type": "code",
   "execution_count": 19,
   "metadata": {
    "collapsed": false
   },
   "outputs": [
    {
     "data": {
      "text/html": [
       "<div>\n",
       "<table border=\"1\" class=\"dataframe\">\n",
       "  <thead>\n",
       "    <tr style=\"text-align: right;\">\n",
       "      <th></th>\n",
       "      <th>0</th>\n",
       "    </tr>\n",
       "  </thead>\n",
       "  <tbody>\n",
       "    <tr>\n",
       "      <th>0</th>\n",
       "      <td>P6_02_R2.fastq.gz</td>\n",
       "    </tr>\n",
       "    <tr>\n",
       "      <th>1</th>\n",
       "      <td>P4_09_R2.fastq.gz</td>\n",
       "    </tr>\n",
       "    <tr>\n",
       "      <th>2</th>\n",
       "      <td>M2nd_01_R2.fastq.gz</td>\n",
       "    </tr>\n",
       "    <tr>\n",
       "      <th>3</th>\n",
       "      <td>P4_06_R2.fastq.gz</td>\n",
       "    </tr>\n",
       "    <tr>\n",
       "      <th>4</th>\n",
       "      <td>N2_03_R2.fastq.gz</td>\n",
       "    </tr>\n",
       "  </tbody>\n",
       "</table>\n",
       "</div>"
      ],
      "text/plain": [
       "                     0\n",
       "0    P6_02_R2.fastq.gz\n",
       "1    P4_09_R2.fastq.gz\n",
       "2  M2nd_01_R2.fastq.gz\n",
       "3    P4_06_R2.fastq.gz\n",
       "4    N2_03_R2.fastq.gz"
      ]
     },
     "execution_count": 19,
     "metadata": {},
     "output_type": "execute_result"
    }
   ],
   "source": [
    "r2s = pd.Series(glob.glob('*R2.fastq.gz')).to_frame()\n",
    "r2s.head()"
   ]
  },
  {
   "cell_type": "code",
   "execution_count": 20,
   "metadata": {
    "collapsed": false,
    "scrolled": true
   },
   "outputs": [
    {
     "data": {
      "text/html": [
       "<div>\n",
       "<table border=\"1\" class=\"dataframe\">\n",
       "  <thead>\n",
       "    <tr style=\"text-align: right;\">\n",
       "      <th></th>\n",
       "      <th>fastq</th>\n",
       "      <th>md5</th>\n",
       "    </tr>\n",
       "  </thead>\n",
       "  <tbody>\n",
       "    <tr>\n",
       "      <th>67</th>\n",
       "      <td>CVN_01_R1.fastq.gz</td>\n",
       "      <td>6b90e32b71798ea84fad11f2c4cad7dc</td>\n",
       "    </tr>\n",
       "    <tr>\n",
       "      <th>576</th>\n",
       "      <td>CVN_02_R1.fastq.gz</td>\n",
       "      <td>d2f956786b33e5d273e459af40aa764d</td>\n",
       "    </tr>\n",
       "    <tr>\n",
       "      <th>120</th>\n",
       "      <td>CVN_03_R1.fastq.gz</td>\n",
       "      <td>e1b6f0e77f6b32f8a220e7ff83d4a891</td>\n",
       "    </tr>\n",
       "    <tr>\n",
       "      <th>362</th>\n",
       "      <td>CVN_04_R1.fastq.gz</td>\n",
       "      <td>6e346e9efecc405a9543388ce3f40455</td>\n",
       "    </tr>\n",
       "    <tr>\n",
       "      <th>164</th>\n",
       "      <td>CVN_05_R1.fastq.gz</td>\n",
       "      <td>1c603c2b93d4492da799b36f5dfaef9e</td>\n",
       "    </tr>\n",
       "  </tbody>\n",
       "</table>\n",
       "</div>"
      ],
      "text/plain": [
       "                  fastq                               md5\n",
       "67   CVN_01_R1.fastq.gz  6b90e32b71798ea84fad11f2c4cad7dc\n",
       "576  CVN_02_R1.fastq.gz  d2f956786b33e5d273e459af40aa764d\n",
       "120  CVN_03_R1.fastq.gz  e1b6f0e77f6b32f8a220e7ff83d4a891\n",
       "362  CVN_04_R1.fastq.gz  6e346e9efecc405a9543388ce3f40455\n",
       "164  CVN_05_R1.fastq.gz  1c603c2b93d4492da799b36f5dfaef9e"
      ]
     },
     "execution_count": 20,
     "metadata": {},
     "output_type": "execute_result"
    }
   ],
   "source": [
    "for i, row in all_fastqs.iterrows():\n",
    "    filename = row['fastq']\n",
    "    md5 = ! md5sum $filename\n",
    "    md5 = md5[0].split()[0]\n",
    "    all_fastqs.loc[i, 'md5'] = md5\n",
    "all_fastqs.head()"
   ]
  },
  {
   "cell_type": "code",
   "execution_count": null,
   "metadata": {
    "collapsed": true
   },
   "outputs": [],
   "source": [
    "all_fastqs.to_csv('fastq_md5.csv', index=False)"
   ]
  },
  {
   "cell_type": "code",
   "execution_count": null,
   "metadata": {
    "collapsed": true
   },
   "outputs": [],
   "source": [
    "all_fastqs.to_clipboard()"
   ]
  },
  {
   "cell_type": "markdown",
   "metadata": {
    "collapsed": true
   },
   "source": [
    "## Get checksums of processed data"
   ]
  },
  {
   "cell_type": "code",
   "execution_count": 2,
   "metadata": {
    "collapsed": false
   },
   "outputs": [
    {
     "name": "stdout",
     "output_type": "stream",
     "text": [
      "/projects/ps-yeolab/obotvinnik/flotilla_projects/singlecell_pnm_figure4_voyages\n"
     ]
    }
   ],
   "source": [
    "cd /projects/ps-yeolab/obotvinnik/flotilla_projects/singlecell_pnm_figure4_voyages/"
   ]
  },
  {
   "cell_type": "code",
   "execution_count": 3,
   "metadata": {
    "collapsed": false
   },
   "outputs": [
    {
     "name": "stdout",
     "output_type": "stream",
     "text": [
      "4f597b3090895c55c31ec33443fb5b16  cisbp_metadata.csv\n",
      "468b4e63a468efc9e4f5baa8200206ed  cisbp_t_statistic.csv\n",
      "06db5a95e0275ca306921e05c38e33bc  expression.csv\n",
      "2e646c365bef84d07c4105b1df0a5952  expression_feature.csv\n",
      "74436d3b434b095f7c875df83237cce3  kmer_zscores.csv\n",
      "ec496f7b873158ad9463e1c354002c05  kmer_zscores_metadata.csv\n",
      "04f3de4478bde2c04c699e09d4cb8d38  mapping_stats.csv\n",
      "09c8ff38e89c57fb6e312977082ad3d1  metadata.csv\n",
      "7644de93665f3ea609773456bdecbacf  modalities_tidy.csv\n",
      "5b636b57bdc5ca11d6bae5efe4018e24  splicing.csv\n",
      "fa111048172223c9052111803f3a61b9  splicing_feature.csv\n",
      "e00effea70f2793a739aacf6486f3a8c  voyages.csv\n",
      "e572feba80c1792fa65cbb9df483e261  waypoints.csv\n"
     ]
    }
   ],
   "source": [
    "\n",
    "\n",
    "! md5sum *csv"
   ]
  },
  {
   "cell_type": "markdown",
   "metadata": {},
   "source": [
    "## Make soft links to everything"
   ]
  },
  {
   "cell_type": "code",
   "execution_count": 5,
   "metadata": {
    "collapsed": false
   },
   "outputs": [
    {
     "name": "stdout",
     "output_type": "stream",
     "text": [
      "/oasis/tscc/scratch/obotvinnik/projects/singlecell_pnms/data/geneyeo\n"
     ]
    }
   ],
   "source": [
    "cd ~/projects/singlecell_pnms/data/geneyeo/"
   ]
  },
  {
   "cell_type": "code",
   "execution_count": 6,
   "metadata": {
    "collapsed": false
   },
   "outputs": [
    {
     "name": "stdout",
     "output_type": "stream",
     "text": [
      "ln: creating symbolic link `./cisbp_metadata.csv': File exists\r\n",
      "ln: creating symbolic link `./cisbp_t_statistic.csv': File exists\r\n",
      "ln: creating symbolic link `./expression.csv': File exists\r\n",
      "ln: creating symbolic link `./expression_feature.csv': File exists\r\n",
      "ln: creating symbolic link `./kmer_zscores.csv': File exists\r\n",
      "ln: creating symbolic link `./kmer_zscores_metadata.csv': File exists\r\n",
      "ln: creating symbolic link `./mapping_stats.csv': File exists\r\n",
      "ln: creating symbolic link `./metadata.csv': File exists\r\n",
      "ln: creating symbolic link `./modalities_tidy.csv': File exists\r\n",
      "ln: creating symbolic link `./splicing.csv': File exists\r\n",
      "ln: creating symbolic link `./splicing_feature.csv': File exists\r\n",
      "ln: creating symbolic link `./voyages.csv': File exists\r\n",
      "ln: creating symbolic link `./waypoints.csv': File exists\r\n"
     ]
    }
   ],
   "source": [
    "! ln -s /projects/ps-yeolab/obotvinnik/flotilla_projects/singlecell_pnm_figure4_voyages/*csv ."
   ]
  },
  {
   "cell_type": "code",
   "execution_count": 8,
   "metadata": {
    "collapsed": false
   },
   "outputs": [],
   "source": [
    "! ln -s /projects/ps-yeolab/genomes/hg19/hg19_phastcons_placental_mammal.wig ."
   ]
  },
  {
   "cell_type": "code",
   "execution_count": 9,
   "metadata": {
    "collapsed": false
   },
   "outputs": [
    {
     "name": "stdout",
     "output_type": "stream",
     "text": [
      "b9592865aa671ef25c0cf7f87c2a82bd  hg19_phastcons_placental_mammal.wig\r\n"
     ]
    }
   ],
   "source": [
    "! md5sum hg19_phastcons_placental_mammal.wig "
   ]
  },
  {
   "cell_type": "code",
   "execution_count": 10,
   "metadata": {
    "collapsed": true
   },
   "outputs": [],
   "source": [
    "\n",
    "! ln -s /projects/ps-yeolab/obotvinnik/singlecell_pnms/csvs_for_paper/splicing_feature_data/alternative/exons.bed alternative_exons.bed"
   ]
  },
  {
   "cell_type": "code",
   "execution_count": 11,
   "metadata": {
    "collapsed": true
   },
   "outputs": [],
   "source": [
    "! ln -s /projects/ps-yeolab/obotvinnik/singlecell_pnms/csvs_for_paper/splicing_feature_data/constitutive/exons.bed constitutive_exons.bed"
   ]
  },
  {
   "cell_type": "code",
   "execution_count": 12,
   "metadata": {
    "collapsed": false
   },
   "outputs": [
    {
     "name": "stdout",
     "output_type": "stream",
     "text": [
      "a9eedfcf5437c4ff91336b7e868c0a02  alternative_exons.bed\n",
      "6f396aac8e4f4d8f9f3a66dea299bffe  constitutive_exons.bed\n"
     ]
    }
   ],
   "source": [
    "! md5sum *.bed"
   ]
  },
  {
   "cell_type": "code",
   "execution_count": 13,
   "metadata": {
    "collapsed": false
   },
   "outputs": [
    {
     "name": "stdout",
     "output_type": "stream",
     "text": [
      "410\r\n"
     ]
    }
   ],
   "source": [
    "! ls -1 | wc -l"
   ]
  },
  {
   "cell_type": "code",
   "execution_count": null,
   "metadata": {
    "collapsed": true
   },
   "outputs": [],
   "source": []
  }
 ],
 "metadata": {
  "kernelspec": {
   "display_name": "Python 2",
   "language": "python",
   "name": "python2"
  },
  "language_info": {
   "codemirror_mode": {
    "name": "ipython",
    "version": 2
   },
   "file_extension": ".py",
   "mimetype": "text/x-python",
   "name": "python",
   "nbconvert_exporter": "python",
   "pygments_lexer": "ipython2",
   "version": "2.7.11"
  }
 },
 "nbformat": 4,
 "nbformat_minor": 0
}
