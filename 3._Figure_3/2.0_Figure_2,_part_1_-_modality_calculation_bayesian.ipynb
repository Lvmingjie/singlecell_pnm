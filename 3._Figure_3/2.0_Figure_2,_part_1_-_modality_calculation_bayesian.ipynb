{
 "cells": [
  {
   "cell_type": "code",
   "execution_count": 15,
   "metadata": {
    "collapsed": false
   },
   "outputs": [
    {
     "name": "stdout",
     "output_type": "stream",
     "text": [
      "The autoreload extension is already loaded. To reload it, use:\n",
      "  %reload_ext autoreload\n",
      "2016-04-14 11:12:40\tReading datapackage from /projects/ps-yeolab/obotvinnik/flotilla_projects/singlecell_pnm_figure1_supplementary_post_splicing_filtering/datapackage.json\n",
      "2016-04-14 11:12:40\tParsing datapackage to create a Study object\n",
      "2016-04-14 11:13:25\tInitializing Study\n",
      "2016-04-14 11:13:25\tInitializing Predictor configuration manager for Study\n",
      "2016-04-14 11:13:25\tPredictor ExtraTreesClassifier is of type <class 'sklearn.ensemble.forest.ExtraTreesClassifier'>\n",
      "2016-04-14 11:13:25\tAdded ExtraTreesClassifier to default predictors\n",
      "2016-04-14 11:13:25\tPredictor ExtraTreesRegressor is of type <class 'sklearn.ensemble.forest.ExtraTreesRegressor'>\n",
      "2016-04-14 11:13:25\tAdded ExtraTreesRegressor to default predictors\n",
      "2016-04-14 11:13:25\tPredictor GradientBoostingClassifier is of type <class 'sklearn.ensemble.gradient_boosting.GradientBoostingClassifier'>\n",
      "2016-04-14 11:13:25\tAdded GradientBoostingClassifier to default predictors\n",
      "2016-04-14 11:13:25\tPredictor GradientBoostingRegressor is of type <class 'sklearn.ensemble.gradient_boosting.GradientBoostingRegressor'>\n",
      "2016-04-14 11:13:25\tAdded GradientBoostingRegressor to default predictors\n",
      "2016-04-14 11:13:30\tBuilding Gene Ontology database...\n",
      "2016-04-14 11:13:39\t\tDone.\n",
      "2016-04-14 11:13:40\tLoading metadata\n",
      "2016-04-14 11:13:40\tLoading expression data\n",
      "2016-04-14 11:13:40\tInitializing expression\n",
      "2016-04-14 11:13:40\tDone initializing expression\n",
      "2016-04-14 11:13:42\tLoading splicing data\n",
      "2016-04-14 11:13:42\tInitializing splicing\n",
      "2016-04-14 11:13:43\tDone initializing splicing\n",
      "2016-04-14 11:13:43\tSuccessfully initialized a Study object!\n",
      "mkdir: cannot create directory `pdfs': File exists\n"
     ]
    }
   ],
   "source": [
    "%load_ext autoreload\n",
    "%autoreload 2\n",
    "\n",
    "import matplotlib.pyplot as plt\n",
    "import seaborn as sns\n",
    "import numpy as np\n",
    "import pandas as pd\n",
    "\n",
    "sns.set(style='ticks', context='paper', rc={'font.sans-serif':'Arial', 'pdf.fonttype': 42})\n",
    "\n",
    "%matplotlib inline\n",
    "\n",
    "import flotilla\n",
    "\n",
    "\n",
    "flotilla_dir = '/projects/ps-yeolab/obotvinnik/flotilla_projects'\n",
    "\n",
    "study = flotilla.embark('singlecell_pnm_figure1_supplementary_post_splicing_filtering', flotilla_dir=flotilla_dir)\n",
    "\n",
    "not_outliers = study.splicing.singles.index.difference(study.splicing.outliers.index)\n",
    "folder = 'pdfs' #'/home/obotvinnik/Dropbox/figures2/singlecell_pnm/figure2_modalities/bayesian'\n",
    "! mkdir $folder"
   ]
  },
  {
   "cell_type": "code",
   "execution_count": 16,
   "metadata": {
    "collapsed": false
   },
   "outputs": [
    {
     "name": "stdout",
     "output_type": "stream",
     "text": [
      "(183, 11558)\n"
     ]
    }
   ],
   "source": [
    "splicing_singles_no_outliers = study.splicing.singles.ix[not_outliers]\n",
    "print splicing_singles_no_outliers.shape"
   ]
  },
  {
   "cell_type": "markdown",
   "metadata": {},
   "source": [
    "## Estimate modalities\n",
    "\n",
    "### Initialize the modality estimator"
   ]
  },
  {
   "cell_type": "code",
   "execution_count": 17,
   "metadata": {
    "collapsed": false
   },
   "outputs": [],
   "source": [
    "import anchor\n",
    "\n",
    "bayesian = anchor.BayesianModalities()\n",
    "# binned = anchor.BinnedModalities()\n",
    "# monte_carlo = anchor.MonteCarloModalities()"
   ]
  },
  {
   "cell_type": "code",
   "execution_count": 18,
   "metadata": {
    "collapsed": false
   },
   "outputs": [],
   "source": [
    "# fig = estimator.violinplot(n=1e6)\n",
    "# for ax in fig.axes:\n",
    "#     ax.set(yticks=[0, 0.5, 1], xlabel='')\n",
    "# fig.tight_layout()\n",
    "# sns.despine()\n",
    "# fig.savefig('{}/modality_estimator_parameterized_family.pdf'.format(folder))"
   ]
  },
  {
   "cell_type": "markdown",
   "metadata": {},
   "source": [
    "## Calculate/Estimate modalities only on single cells, with no outliers\n",
    "\n",
    "And at least 20 cells per splicing event, per celltype/phenotype"
   ]
  },
  {
   "cell_type": "code",
   "execution_count": 19,
   "metadata": {
    "collapsed": false
   },
   "outputs": [
    {
     "name": "stdout",
     "output_type": "stream",
     "text": [
      "(183, 11558)\n",
      "(183, 8028)\n"
     ]
    }
   ],
   "source": [
    "print splicing_singles_no_outliers.shape\n",
    "splicing_singles_no_outliers = splicing_singles_no_outliers.groupby(\n",
    "    study.sample_id_to_phenotype).apply(lambda x: x.dropna(thresh=20, axis=1))\n",
    "print splicing_singles_no_outliers.shape"
   ]
  },
  {
   "cell_type": "code",
   "execution_count": 20,
   "metadata": {
    "collapsed": false
   },
   "outputs": [],
   "source": [
    "pkm_events = study.splicing.maybe_renamed_to_feature_id('PKM')"
   ]
  },
  {
   "cell_type": "code",
   "execution_count": 21,
   "metadata": {
    "collapsed": false
   },
   "outputs": [
    {
     "name": "stdout",
     "output_type": "stream",
     "text": [
      "CPU times: user 8min 48s, sys: 117 ms, total: 8min 48s\n",
      "Wall time: 8min 48s\n"
     ]
    }
   ],
   "source": [
    "%time modality_assignments = splicing_singles_no_outliers.groupby(study.sample_id_to_phenotype).apply(bayesian.fit_predict)"
   ]
  },
  {
   "cell_type": "code",
   "execution_count": 22,
   "metadata": {
    "collapsed": false
   },
   "outputs": [
    {
     "data": {
      "text/html": [
       "<div>\n",
       "<table border=\"1\" class=\"dataframe\">\n",
       "  <thead>\n",
       "    <tr style=\"text-align: right;\">\n",
       "      <th></th>\n",
       "      <th>exon:chr10:101165513-101165617:-@exon:chr10:101163481-101163631:-@exon:chr10:101163226-101163391:-</th>\n",
       "      <th>exon:chr10:101480744-101480825:-@exon:chr10:101478103-101478257:-@exon:chr10:101476105-101476218:-</th>\n",
       "      <th>exon:chr10:101507014-101507147:+@exon:chr10:101510126-101510153:+@exon:chr10:101514286-101514391:+</th>\n",
       "      <th>exon:chr10:101997779-101997988:-@exon:chr10:101996607-101996726:-@exon:chr10:101995424-101995521:-</th>\n",
       "      <th>exon:chr10:102003455-102003534:-@exon:chr10:101997779-101997988:-@exon:chr10:101996607-101996726:-</th>\n",
       "      <th>exon:chr10:102013178-102013296:-@exon:chr10:102010005-102010089:-@exon:chr10:102006552-102006692:-</th>\n",
       "      <th>exon:chr10:102019975-102020076:-@exon:chr10:102016019-102016233:-@exon:chr10:102013178-102013296:-</th>\n",
       "      <th>exon:chr10:102020723-102020801:-@exon:chr10:102019975-102020076:-@exon:chr10:102016019-102016233:-</th>\n",
       "      <th>exon:chr10:102114184-102114389:+@exon:chr10:102116289-102116521:+@exon:chr10:102120491-102124591:+</th>\n",
       "      <th>exon:chr10:102286732-102286831:-@exon:chr10:102286156-102286311:-@exon:chr10:102283500-102283686:-</th>\n",
       "      <th>...</th>\n",
       "      <th>exon:chrY:15024875-15024974:+@exon:chrY:15025630-15025765:+@exon:chrY:15026476-15026561:+</th>\n",
       "      <th>exon:chrY:15026476-15026561:+@exon:chrY:15026796-15026894:+@exon:chrY:15026979-15027139:+</th>\n",
       "      <th>exon:chrY:15027542-15027686:+@exon:chrY:15027795-15027939:+@exon:chrY:15028173-15028354:+</th>\n",
       "      <th>exon:chrY:15028429-15028546:+@exon:chrY:15028819-15028972:+@exon:chrY:15029315-15029454:+</th>\n",
       "      <th>exon:chrY:22744476-22744579:+@exon:chrY:22746360-22746410:+@exon:chrY:22749910-22749991:+</th>\n",
       "      <th>exon:chrY:2709527-2709668:+@exon:chrY:2710206-2710283:+@exon:chrY:2712118-2712298:+</th>\n",
       "      <th>exon:chrY:2710206-2710283:+@exon:chrY:2712118-2712298:+@exon:chrY:2713687-2713784:+</th>\n",
       "      <th>exon:chrY:2712118-2712298:+@exon:chrY:2713687-2713784:+@exon:chrY:2722641-2722812:+</th>\n",
       "      <th>exon:chrY:2713687-2713784:+@exon:chrY:2722641-2722812:+@exon:chrY:2733129-2733286:+</th>\n",
       "      <th>exon:chrY:2722641-2722812:+@exon:chrY:2733129-2733286:+@exon:chrY:2734834-2734903:+</th>\n",
       "    </tr>\n",
       "    <tr>\n",
       "      <th>phenotype</th>\n",
       "      <th></th>\n",
       "      <th></th>\n",
       "      <th></th>\n",
       "      <th></th>\n",
       "      <th></th>\n",
       "      <th></th>\n",
       "      <th></th>\n",
       "      <th></th>\n",
       "      <th></th>\n",
       "      <th></th>\n",
       "      <th></th>\n",
       "      <th></th>\n",
       "      <th></th>\n",
       "      <th></th>\n",
       "      <th></th>\n",
       "      <th></th>\n",
       "      <th></th>\n",
       "      <th></th>\n",
       "      <th></th>\n",
       "      <th></th>\n",
       "      <th></th>\n",
       "    </tr>\n",
       "  </thead>\n",
       "  <tbody>\n",
       "    <tr>\n",
       "      <th>MN</th>\n",
       "      <td>NaN</td>\n",
       "      <td>NaN</td>\n",
       "      <td>NaN</td>\n",
       "      <td>NaN</td>\n",
       "      <td>NaN</td>\n",
       "      <td>NaN</td>\n",
       "      <td>NaN</td>\n",
       "      <td>NaN</td>\n",
       "      <td>included</td>\n",
       "      <td>included</td>\n",
       "      <td>...</td>\n",
       "      <td>NaN</td>\n",
       "      <td>NaN</td>\n",
       "      <td>NaN</td>\n",
       "      <td>NaN</td>\n",
       "      <td>NaN</td>\n",
       "      <td>included</td>\n",
       "      <td>included</td>\n",
       "      <td>included</td>\n",
       "      <td>included</td>\n",
       "      <td>included</td>\n",
       "    </tr>\n",
       "    <tr>\n",
       "      <th>NPC</th>\n",
       "      <td>NaN</td>\n",
       "      <td>NaN</td>\n",
       "      <td>NaN</td>\n",
       "      <td>NaN</td>\n",
       "      <td>NaN</td>\n",
       "      <td>NaN</td>\n",
       "      <td>NaN</td>\n",
       "      <td>NaN</td>\n",
       "      <td>included</td>\n",
       "      <td>included</td>\n",
       "      <td>...</td>\n",
       "      <td>NaN</td>\n",
       "      <td>NaN</td>\n",
       "      <td>NaN</td>\n",
       "      <td>NaN</td>\n",
       "      <td>included</td>\n",
       "      <td>included</td>\n",
       "      <td>included</td>\n",
       "      <td>included</td>\n",
       "      <td>included</td>\n",
       "      <td>included</td>\n",
       "    </tr>\n",
       "    <tr>\n",
       "      <th>iPSC</th>\n",
       "      <td>included</td>\n",
       "      <td>included</td>\n",
       "      <td>bimodal</td>\n",
       "      <td>included</td>\n",
       "      <td>included</td>\n",
       "      <td>bimodal</td>\n",
       "      <td>bimodal</td>\n",
       "      <td>bimodal</td>\n",
       "      <td>included</td>\n",
       "      <td>included</td>\n",
       "      <td>...</td>\n",
       "      <td>included</td>\n",
       "      <td>included</td>\n",
       "      <td>included</td>\n",
       "      <td>included</td>\n",
       "      <td>included</td>\n",
       "      <td>included</td>\n",
       "      <td>included</td>\n",
       "      <td>included</td>\n",
       "      <td>included</td>\n",
       "      <td>included</td>\n",
       "    </tr>\n",
       "  </tbody>\n",
       "</table>\n",
       "<p>3 rows × 8028 columns</p>\n",
       "</div>"
      ],
      "text/plain": [
       "          exon:chr10:101165513-101165617:-@exon:chr10:101163481-101163631:-@exon:chr10:101163226-101163391:-  \\\n",
       "phenotype                                                                                                      \n",
       "MN                                                       NaN                                                   \n",
       "NPC                                                      NaN                                                   \n",
       "iPSC                                                included                                                   \n",
       "\n",
       "          exon:chr10:101480744-101480825:-@exon:chr10:101478103-101478257:-@exon:chr10:101476105-101476218:-  \\\n",
       "phenotype                                                                                                      \n",
       "MN                                                       NaN                                                   \n",
       "NPC                                                      NaN                                                   \n",
       "iPSC                                                included                                                   \n",
       "\n",
       "          exon:chr10:101507014-101507147:+@exon:chr10:101510126-101510153:+@exon:chr10:101514286-101514391:+  \\\n",
       "phenotype                                                                                                      \n",
       "MN                                                       NaN                                                   \n",
       "NPC                                                      NaN                                                   \n",
       "iPSC                                                 bimodal                                                   \n",
       "\n",
       "          exon:chr10:101997779-101997988:-@exon:chr10:101996607-101996726:-@exon:chr10:101995424-101995521:-  \\\n",
       "phenotype                                                                                                      \n",
       "MN                                                       NaN                                                   \n",
       "NPC                                                      NaN                                                   \n",
       "iPSC                                                included                                                   \n",
       "\n",
       "          exon:chr10:102003455-102003534:-@exon:chr10:101997779-101997988:-@exon:chr10:101996607-101996726:-  \\\n",
       "phenotype                                                                                                      \n",
       "MN                                                       NaN                                                   \n",
       "NPC                                                      NaN                                                   \n",
       "iPSC                                                included                                                   \n",
       "\n",
       "          exon:chr10:102013178-102013296:-@exon:chr10:102010005-102010089:-@exon:chr10:102006552-102006692:-  \\\n",
       "phenotype                                                                                                      \n",
       "MN                                                       NaN                                                   \n",
       "NPC                                                      NaN                                                   \n",
       "iPSC                                                 bimodal                                                   \n",
       "\n",
       "          exon:chr10:102019975-102020076:-@exon:chr10:102016019-102016233:-@exon:chr10:102013178-102013296:-  \\\n",
       "phenotype                                                                                                      \n",
       "MN                                                       NaN                                                   \n",
       "NPC                                                      NaN                                                   \n",
       "iPSC                                                 bimodal                                                   \n",
       "\n",
       "          exon:chr10:102020723-102020801:-@exon:chr10:102019975-102020076:-@exon:chr10:102016019-102016233:-  \\\n",
       "phenotype                                                                                                      \n",
       "MN                                                       NaN                                                   \n",
       "NPC                                                      NaN                                                   \n",
       "iPSC                                                 bimodal                                                   \n",
       "\n",
       "          exon:chr10:102114184-102114389:+@exon:chr10:102116289-102116521:+@exon:chr10:102120491-102124591:+  \\\n",
       "phenotype                                                                                                      \n",
       "MN                                                  included                                                   \n",
       "NPC                                                 included                                                   \n",
       "iPSC                                                included                                                   \n",
       "\n",
       "          exon:chr10:102286732-102286831:-@exon:chr10:102286156-102286311:-@exon:chr10:102283500-102283686:-  \\\n",
       "phenotype                                                                                                      \n",
       "MN                                                  included                                                   \n",
       "NPC                                                 included                                                   \n",
       "iPSC                                                included                                                   \n",
       "\n",
       "                                                  ...                                          \\\n",
       "phenotype                                         ...                                           \n",
       "MN                                                ...                                           \n",
       "NPC                                               ...                                           \n",
       "iPSC                                              ...                                           \n",
       "\n",
       "          exon:chrY:15024875-15024974:+@exon:chrY:15025630-15025765:+@exon:chrY:15026476-15026561:+  \\\n",
       "phenotype                                                                                             \n",
       "MN                                                       NaN                                          \n",
       "NPC                                                      NaN                                          \n",
       "iPSC                                                included                                          \n",
       "\n",
       "          exon:chrY:15026476-15026561:+@exon:chrY:15026796-15026894:+@exon:chrY:15026979-15027139:+  \\\n",
       "phenotype                                                                                             \n",
       "MN                                                       NaN                                          \n",
       "NPC                                                      NaN                                          \n",
       "iPSC                                                included                                          \n",
       "\n",
       "          exon:chrY:15027542-15027686:+@exon:chrY:15027795-15027939:+@exon:chrY:15028173-15028354:+  \\\n",
       "phenotype                                                                                             \n",
       "MN                                                       NaN                                          \n",
       "NPC                                                      NaN                                          \n",
       "iPSC                                                included                                          \n",
       "\n",
       "          exon:chrY:15028429-15028546:+@exon:chrY:15028819-15028972:+@exon:chrY:15029315-15029454:+  \\\n",
       "phenotype                                                                                             \n",
       "MN                                                       NaN                                          \n",
       "NPC                                                      NaN                                          \n",
       "iPSC                                                included                                          \n",
       "\n",
       "          exon:chrY:22744476-22744579:+@exon:chrY:22746360-22746410:+@exon:chrY:22749910-22749991:+  \\\n",
       "phenotype                                                                                             \n",
       "MN                                                       NaN                                          \n",
       "NPC                                                 included                                          \n",
       "iPSC                                                included                                          \n",
       "\n",
       "          exon:chrY:2709527-2709668:+@exon:chrY:2710206-2710283:+@exon:chrY:2712118-2712298:+  \\\n",
       "phenotype                                                                                       \n",
       "MN                                                  included                                    \n",
       "NPC                                                 included                                    \n",
       "iPSC                                                included                                    \n",
       "\n",
       "          exon:chrY:2710206-2710283:+@exon:chrY:2712118-2712298:+@exon:chrY:2713687-2713784:+  \\\n",
       "phenotype                                                                                       \n",
       "MN                                                  included                                    \n",
       "NPC                                                 included                                    \n",
       "iPSC                                                included                                    \n",
       "\n",
       "          exon:chrY:2712118-2712298:+@exon:chrY:2713687-2713784:+@exon:chrY:2722641-2722812:+  \\\n",
       "phenotype                                                                                       \n",
       "MN                                                  included                                    \n",
       "NPC                                                 included                                    \n",
       "iPSC                                                included                                    \n",
       "\n",
       "          exon:chrY:2713687-2713784:+@exon:chrY:2722641-2722812:+@exon:chrY:2733129-2733286:+  \\\n",
       "phenotype                                                                                       \n",
       "MN                                                  included                                    \n",
       "NPC                                                 included                                    \n",
       "iPSC                                                included                                    \n",
       "\n",
       "          exon:chrY:2722641-2722812:+@exon:chrY:2733129-2733286:+@exon:chrY:2734834-2734903:+  \n",
       "phenotype                                                                                      \n",
       "MN                                                  included                                   \n",
       "NPC                                                 included                                   \n",
       "iPSC                                                included                                   \n",
       "\n",
       "[3 rows x 8028 columns]"
      ]
     },
     "execution_count": 22,
     "metadata": {},
     "output_type": "execute_result"
    }
   ],
   "source": [
    "modality_assignments"
   ]
  },
  {
   "cell_type": "code",
   "execution_count": 23,
   "metadata": {
    "collapsed": false
   },
   "outputs": [
    {
     "data": {
      "text/html": [
       "<div>\n",
       "<table border=\"1\" class=\"dataframe\">\n",
       "  <thead>\n",
       "    <tr style=\"text-align: right;\">\n",
       "      <th></th>\n",
       "      <th>phenotype</th>\n",
       "      <th>event_id</th>\n",
       "      <th>modality</th>\n",
       "    </tr>\n",
       "  </thead>\n",
       "  <tbody>\n",
       "    <tr>\n",
       "      <th>0</th>\n",
       "      <td>MN</td>\n",
       "      <td>exon:chr10:102114184-102114389:+@exon:chr10:10...</td>\n",
       "      <td>included</td>\n",
       "    </tr>\n",
       "    <tr>\n",
       "      <th>1</th>\n",
       "      <td>MN</td>\n",
       "      <td>exon:chr10:102286732-102286831:-@exon:chr10:10...</td>\n",
       "      <td>included</td>\n",
       "    </tr>\n",
       "    <tr>\n",
       "      <th>2</th>\n",
       "      <td>MN</td>\n",
       "      <td>exon:chr10:103360960-103361093:+@exon:chr10:10...</td>\n",
       "      <td>bimodal</td>\n",
       "    </tr>\n",
       "    <tr>\n",
       "      <th>3</th>\n",
       "      <td>MN</td>\n",
       "      <td>exon:chr10:103563492-103563776:-@exon:chr10:10...</td>\n",
       "      <td>bimodal</td>\n",
       "    </tr>\n",
       "    <tr>\n",
       "      <th>4</th>\n",
       "      <td>MN</td>\n",
       "      <td>exon:chr10:103567487-103567658:-@exon:chr10:10...</td>\n",
       "      <td>included</td>\n",
       "    </tr>\n",
       "  </tbody>\n",
       "</table>\n",
       "</div>"
      ],
      "text/plain": [
       "  phenotype                                           event_id  modality\n",
       "0        MN  exon:chr10:102114184-102114389:+@exon:chr10:10...  included\n",
       "1        MN  exon:chr10:102286732-102286831:-@exon:chr10:10...  included\n",
       "2        MN  exon:chr10:103360960-103361093:+@exon:chr10:10...   bimodal\n",
       "3        MN  exon:chr10:103563492-103563776:-@exon:chr10:10...   bimodal\n",
       "4        MN  exon:chr10:103567487-103567658:-@exon:chr10:10...  included"
      ]
     },
     "execution_count": 23,
     "metadata": {},
     "output_type": "execute_result"
    }
   ],
   "source": [
    "modalities_tidy = modality_assignments.stack().reset_index()\n",
    "modalities_tidy = modalities_tidy.rename(columns={'level_1': 'event_id', 0: \"modality\",})\n",
    "modalities_tidy.head()"
   ]
  },
  {
   "cell_type": "code",
   "execution_count": 24,
   "metadata": {
    "collapsed": false
   },
   "outputs": [
    {
     "data": {
      "text/html": [
       "<div>\n",
       "<table border=\"1\" class=\"dataframe\">\n",
       "  <thead>\n",
       "    <tr style=\"text-align: right;\">\n",
       "      <th></th>\n",
       "      <th>phenotype</th>\n",
       "      <th>event_id</th>\n",
       "      <th>modality</th>\n",
       "    </tr>\n",
       "  </thead>\n",
       "  <tbody>\n",
       "    <tr>\n",
       "      <th>649</th>\n",
       "      <td>MN</td>\n",
       "      <td>exon:chr15:72499069-72499221:-@exon:chr15:7249...</td>\n",
       "      <td>included</td>\n",
       "    </tr>\n",
       "    <tr>\n",
       "      <th>650</th>\n",
       "      <td>MN</td>\n",
       "      <td>exon:chr15:72499069-72499221:-@exon:chr15:7249...</td>\n",
       "      <td>bimodal</td>\n",
       "    </tr>\n",
       "    <tr>\n",
       "      <th>651</th>\n",
       "      <td>MN</td>\n",
       "      <td>exon:chr15:72523457-72523547:-@exon:chr15:7251...</td>\n",
       "      <td>excluded</td>\n",
       "    </tr>\n",
       "    <tr>\n",
       "      <th>3675</th>\n",
       "      <td>NPC</td>\n",
       "      <td>exon:chr15:72499069-72499221:-@exon:chr15:7249...</td>\n",
       "      <td>included</td>\n",
       "    </tr>\n",
       "    <tr>\n",
       "      <th>3676</th>\n",
       "      <td>NPC</td>\n",
       "      <td>exon:chr15:72499069-72499221:-@exon:chr15:7249...</td>\n",
       "      <td>included</td>\n",
       "    </tr>\n",
       "    <tr>\n",
       "      <th>3677</th>\n",
       "      <td>NPC</td>\n",
       "      <td>exon:chr15:72499069-72499221:-@exon:chr15:7249...</td>\n",
       "      <td>excluded</td>\n",
       "    </tr>\n",
       "    <tr>\n",
       "      <th>3678</th>\n",
       "      <td>NPC</td>\n",
       "      <td>exon:chr15:72523457-72523547:-@exon:chr15:7251...</td>\n",
       "      <td>excluded</td>\n",
       "    </tr>\n",
       "    <tr>\n",
       "      <th>9179</th>\n",
       "      <td>iPSC</td>\n",
       "      <td>exon:chr15:72499069-72499221:-@exon:chr15:7249...</td>\n",
       "      <td>included</td>\n",
       "    </tr>\n",
       "    <tr>\n",
       "      <th>9180</th>\n",
       "      <td>iPSC</td>\n",
       "      <td>exon:chr15:72499069-72499221:-@exon:chr15:7249...</td>\n",
       "      <td>excluded</td>\n",
       "    </tr>\n",
       "    <tr>\n",
       "      <th>9181</th>\n",
       "      <td>iPSC</td>\n",
       "      <td>exon:chr15:72523457-72523547:-@exon:chr15:7251...</td>\n",
       "      <td>excluded</td>\n",
       "    </tr>\n",
       "  </tbody>\n",
       "</table>\n",
       "</div>"
      ],
      "text/plain": [
       "     phenotype                                           event_id  modality\n",
       "649         MN  exon:chr15:72499069-72499221:-@exon:chr15:7249...  included\n",
       "650         MN  exon:chr15:72499069-72499221:-@exon:chr15:7249...   bimodal\n",
       "651         MN  exon:chr15:72523457-72523547:-@exon:chr15:7251...  excluded\n",
       "3675       NPC  exon:chr15:72499069-72499221:-@exon:chr15:7249...  included\n",
       "3676       NPC  exon:chr15:72499069-72499221:-@exon:chr15:7249...  included\n",
       "3677       NPC  exon:chr15:72499069-72499221:-@exon:chr15:7249...  excluded\n",
       "3678       NPC  exon:chr15:72523457-72523547:-@exon:chr15:7251...  excluded\n",
       "9179      iPSC  exon:chr15:72499069-72499221:-@exon:chr15:7249...  included\n",
       "9180      iPSC  exon:chr15:72499069-72499221:-@exon:chr15:7249...  excluded\n",
       "9181      iPSC  exon:chr15:72523457-72523547:-@exon:chr15:7251...  excluded"
      ]
     },
     "execution_count": 24,
     "metadata": {},
     "output_type": "execute_result"
    }
   ],
   "source": [
    "modalities_tidy.loc[modalities_tidy.event_id.isin(pkm_events)]"
   ]
  },
  {
   "cell_type": "code",
   "execution_count": 25,
   "metadata": {
    "collapsed": false
   },
   "outputs": [
    {
     "data": {
      "text/html": [
       "<div>\n",
       "<table border=\"1\" class=\"dataframe\">\n",
       "  <thead>\n",
       "    <tr style=\"text-align: right;\">\n",
       "      <th></th>\n",
       "      <th>phenotype</th>\n",
       "      <th>modality</th>\n",
       "      <th># AS events</th>\n",
       "    </tr>\n",
       "  </thead>\n",
       "  <tbody>\n",
       "    <tr>\n",
       "      <th>0</th>\n",
       "      <td>MN</td>\n",
       "      <td>bimodal</td>\n",
       "      <td>356</td>\n",
       "    </tr>\n",
       "    <tr>\n",
       "      <th>1</th>\n",
       "      <td>MN</td>\n",
       "      <td>excluded</td>\n",
       "      <td>541</td>\n",
       "    </tr>\n",
       "    <tr>\n",
       "      <th>2</th>\n",
       "      <td>MN</td>\n",
       "      <td>included</td>\n",
       "      <td>1553</td>\n",
       "    </tr>\n",
       "    <tr>\n",
       "      <th>3</th>\n",
       "      <td>MN</td>\n",
       "      <td>uncategorized</td>\n",
       "      <td>1</td>\n",
       "    </tr>\n",
       "    <tr>\n",
       "      <th>4</th>\n",
       "      <td>NPC</td>\n",
       "      <td>bimodal</td>\n",
       "      <td>751</td>\n",
       "    </tr>\n",
       "  </tbody>\n",
       "</table>\n",
       "</div>"
      ],
      "text/plain": [
       "  phenotype       modality  # AS events\n",
       "0        MN        bimodal          356\n",
       "1        MN       excluded          541\n",
       "2        MN       included         1553\n",
       "3        MN  uncategorized            1\n",
       "4       NPC        bimodal          751"
      ]
     },
     "execution_count": 25,
     "metadata": {},
     "output_type": "execute_result"
    }
   ],
   "source": [
    "modalities_counts = modalities_tidy.groupby(['phenotype', 'modality']).count().reset_index()\n",
    "modalities_counts = modalities_counts.rename(columns={'event_id': '# AS events'})\n",
    "modalities_counts.head()"
   ]
  },
  {
   "cell_type": "code",
   "execution_count": 26,
   "metadata": {
    "collapsed": true
   },
   "outputs": [],
   "source": [
    "from anchor import MODALITY_ORDER, MODALITY_PALETTE, MODALITY_TO_COLOR"
   ]
  },
  {
   "cell_type": "code",
   "execution_count": 27,
   "metadata": {
    "collapsed": false
   },
   "outputs": [
    {
     "data": {
      "text/html": [
       "<div>\n",
       "<table border=\"1\" class=\"dataframe\">\n",
       "  <thead>\n",
       "    <tr style=\"text-align: right;\">\n",
       "      <th>phenotype</th>\n",
       "      <th>iPSC</th>\n",
       "      <th>NPC</th>\n",
       "      <th>MN</th>\n",
       "    </tr>\n",
       "    <tr>\n",
       "      <th>modality</th>\n",
       "      <th></th>\n",
       "      <th></th>\n",
       "      <th></th>\n",
       "    </tr>\n",
       "  </thead>\n",
       "  <tbody>\n",
       "    <tr>\n",
       "      <th>excluded</th>\n",
       "      <td>1558</td>\n",
       "      <td>1049</td>\n",
       "      <td>541</td>\n",
       "    </tr>\n",
       "    <tr>\n",
       "      <th>bimodal</th>\n",
       "      <td>1348</td>\n",
       "      <td>751</td>\n",
       "      <td>356</td>\n",
       "    </tr>\n",
       "    <tr>\n",
       "      <th>included</th>\n",
       "      <td>4632</td>\n",
       "      <td>3029</td>\n",
       "      <td>1553</td>\n",
       "    </tr>\n",
       "    <tr>\n",
       "      <th>middle</th>\n",
       "      <td>1</td>\n",
       "      <td>NaN</td>\n",
       "      <td>NaN</td>\n",
       "    </tr>\n",
       "    <tr>\n",
       "      <th>uncategorized</th>\n",
       "      <td>31</td>\n",
       "      <td>3</td>\n",
       "      <td>1</td>\n",
       "    </tr>\n",
       "  </tbody>\n",
       "</table>\n",
       "</div>"
      ],
      "text/plain": [
       "phenotype      iPSC   NPC    MN\n",
       "modality                       \n",
       "excluded       1558  1049   541\n",
       "bimodal        1348   751   356\n",
       "included       4632  3029  1553\n",
       "middle            1   NaN   NaN\n",
       "uncategorized    31     3     1"
      ]
     },
     "execution_count": 27,
     "metadata": {},
     "output_type": "execute_result"
    }
   ],
   "source": [
    "modalities_counts_2d = modalities_counts.pivot(index='phenotype', columns='modality', values='# AS events')\n",
    "modalities_counts_2d = modalities_counts_2d.reindex(columns=MODALITY_ORDER, index=study.phenotype_order)\n",
    "modalities_counts_2d = modalities_counts_2d.T\n",
    "modalities_counts_2d"
   ]
  },
  {
   "cell_type": "code",
   "execution_count": 35,
   "metadata": {
    "collapsed": false
   },
   "outputs": [
    {
     "data": {
      "image/png": "[encoded data removed]",
      "text/plain": [
       "<matplotlib.figure.Figure at 0x2b55a5dc2a10>"
      ]
     },
     "metadata": {},
     "output_type": "display_data"
    }
   ],
   "source": [
    "fig, ax= plt.subplots(figsize=(3, 2))\n",
    "mask = modalities_counts_2d.isnull()\n",
    "sns.heatmap(modalities_counts_2d, annot=True, mask=mask, fmt='g', annot_kws=dict(size=9), cmap='Greys')\n",
    "ax.set(xlabel='', ylabel='')\n",
    "fig.tight_layout()\n",
    "fig.savefig('{}/modalities_counts_heatmap.pdf'.format(folder))"
   ]
  },
  {
   "cell_type": "code",
   "execution_count": 29,
   "metadata": {
    "collapsed": false
   },
   "outputs": [
    {
     "data": {
      "text/html": [
       "<div>\n",
       "<table border=\"1\" class=\"dataframe\">\n",
       "  <thead>\n",
       "    <tr style=\"text-align: right;\">\n",
       "      <th></th>\n",
       "      <th>phenotype</th>\n",
       "      <th>modality</th>\n",
       "      <th># AS events</th>\n",
       "      <th>percentage</th>\n",
       "    </tr>\n",
       "  </thead>\n",
       "  <tbody>\n",
       "    <tr>\n",
       "      <th>0</th>\n",
       "      <td>MN</td>\n",
       "      <td>bimodal</td>\n",
       "      <td>356</td>\n",
       "      <td>14.524684</td>\n",
       "    </tr>\n",
       "    <tr>\n",
       "      <th>1</th>\n",
       "      <td>MN</td>\n",
       "      <td>excluded</td>\n",
       "      <td>541</td>\n",
       "      <td>22.072623</td>\n",
       "    </tr>\n",
       "    <tr>\n",
       "      <th>2</th>\n",
       "      <td>MN</td>\n",
       "      <td>included</td>\n",
       "      <td>1553</td>\n",
       "      <td>63.361893</td>\n",
       "    </tr>\n",
       "    <tr>\n",
       "      <th>3</th>\n",
       "      <td>MN</td>\n",
       "      <td>uncategorized</td>\n",
       "      <td>1</td>\n",
       "      <td>0.040800</td>\n",
       "    </tr>\n",
       "    <tr>\n",
       "      <th>4</th>\n",
       "      <td>NPC</td>\n",
       "      <td>bimodal</td>\n",
       "      <td>751</td>\n",
       "      <td>15.542219</td>\n",
       "    </tr>\n",
       "    <tr>\n",
       "      <th>5</th>\n",
       "      <td>NPC</td>\n",
       "      <td>excluded</td>\n",
       "      <td>1049</td>\n",
       "      <td>21.709437</td>\n",
       "    </tr>\n",
       "    <tr>\n",
       "      <th>6</th>\n",
       "      <td>NPC</td>\n",
       "      <td>included</td>\n",
       "      <td>3029</td>\n",
       "      <td>62.686258</td>\n",
       "    </tr>\n",
       "    <tr>\n",
       "      <th>7</th>\n",
       "      <td>NPC</td>\n",
       "      <td>uncategorized</td>\n",
       "      <td>3</td>\n",
       "      <td>0.062086</td>\n",
       "    </tr>\n",
       "    <tr>\n",
       "      <th>8</th>\n",
       "      <td>iPSC</td>\n",
       "      <td>bimodal</td>\n",
       "      <td>1348</td>\n",
       "      <td>17.807133</td>\n",
       "    </tr>\n",
       "    <tr>\n",
       "      <th>9</th>\n",
       "      <td>iPSC</td>\n",
       "      <td>excluded</td>\n",
       "      <td>1558</td>\n",
       "      <td>20.581242</td>\n",
       "    </tr>\n",
       "    <tr>\n",
       "      <th>10</th>\n",
       "      <td>iPSC</td>\n",
       "      <td>included</td>\n",
       "      <td>4632</td>\n",
       "      <td>61.188904</td>\n",
       "    </tr>\n",
       "    <tr>\n",
       "      <th>11</th>\n",
       "      <td>iPSC</td>\n",
       "      <td>middle</td>\n",
       "      <td>1</td>\n",
       "      <td>0.013210</td>\n",
       "    </tr>\n",
       "    <tr>\n",
       "      <th>12</th>\n",
       "      <td>iPSC</td>\n",
       "      <td>uncategorized</td>\n",
       "      <td>31</td>\n",
       "      <td>0.409511</td>\n",
       "    </tr>\n",
       "  </tbody>\n",
       "</table>\n",
       "</div>"
      ],
      "text/plain": [
       "   phenotype       modality  # AS events  percentage\n",
       "0         MN        bimodal          356   14.524684\n",
       "1         MN       excluded          541   22.072623\n",
       "2         MN       included         1553   63.361893\n",
       "3         MN  uncategorized            1    0.040800\n",
       "4        NPC        bimodal          751   15.542219\n",
       "5        NPC       excluded         1049   21.709437\n",
       "6        NPC       included         3029   62.686258\n",
       "7        NPC  uncategorized            3    0.062086\n",
       "8       iPSC        bimodal         1348   17.807133\n",
       "9       iPSC       excluded         1558   20.581242\n",
       "10      iPSC       included         4632   61.188904\n",
       "11      iPSC         middle            1    0.013210\n",
       "12      iPSC  uncategorized           31    0.409511"
      ]
     },
     "execution_count": 29,
     "metadata": {},
     "output_type": "execute_result"
    }
   ],
   "source": [
    "modalities_counts['percentage'] = 100*modalities_counts.groupby('phenotype')['# AS events'].apply(lambda x: x/x.sum())\n",
    "modalities_counts"
   ]
  },
  {
   "cell_type": "code",
   "execution_count": 30,
   "metadata": {
    "collapsed": false
   },
   "outputs": [
    {
     "name": "stderr",
     "output_type": "stream",
     "text": [
      "/home/obotvinnik/anaconda/lib/python2.7/site-packages/seaborn/categorical.py:2848: UserWarning: The `x_order` parameter has been renamed `order`\n",
      "  UserWarning)\n"
     ]
    },
    {
     "data": {
      "image/png": "[encoded data removed]",
      "text/plain": [
       "<matplotlib.figure.Figure at 0x2b552c0e4f90>"
      ]
     },
     "metadata": {},
     "output_type": "display_data"
    }
   ],
   "source": [
    "sns.set(style='ticks')\n",
    "fig, axes = plt.subplots(nrows=2, sharex=True, figsize=(2, 2), gridspec_kw=dict(hspace=0.1, height_ratios=[0.2, 0.8]))\n",
    "\n",
    "ax = axes[0]\n",
    "sns.barplot(x='phenotype', hue='modality', y='percentage', data=modalities_counts, ax=ax,\n",
    "            hue_order=MODALITY_ORDER, palette=MODALITY_PALETTE, x_order=study.phenotype_order)\n",
    "ax.legend_.set_visible(False)\n",
    "ax.locator_params('y', nbins=4)\n",
    "sns.despine(ax=ax, bottom=True)\n",
    "ax.tick_params(axis='x', bottom='off')\n",
    "ax.set(xticks=[], xlabel='', ylim=(10, 65), ylabel='') #yticks=[10, 50, ])\n",
    "\n",
    "ax = axes[1]\n",
    "sns.barplot(x='phenotype', hue='modality', y='percentage', data=modalities_counts, ax=ax,\n",
    "           hue_order=MODALITY_ORDER, palette=MODALITY_PALETTE, x_order=study.phenotype_order)\n",
    "ax.set(ylim=(0, 0.5), ylabel='Percentage of AS Events', \n",
    "       xlabel='')\n",
    "ax.legend_.set_visible(False)\n",
    "ax.locator_params('y', nbins=4)\n",
    "sns.despine(ax=ax)\n",
    "# fig.tight_layout()\n",
    "fig.savefig('{}/modalities_barplot.pdf'.format(folder))"
   ]
  },
  {
   "cell_type": "code",
   "execution_count": 31,
   "metadata": {
    "collapsed": true
   },
   "outputs": [],
   "source": [
    "study.supplemental.modalities_tidy = modalities_tidy"
   ]
  },
  {
   "cell_type": "code",
   "execution_count": 32,
   "metadata": {
    "collapsed": false
   },
   "outputs": [
    {
     "data": {
      "text/plain": [
       "phenotype  modality     \n",
       "MN         bimodal           356\n",
       "           excluded          541\n",
       "           included         1553\n",
       "           uncategorized       1\n",
       "NPC        bimodal           751\n",
       "           excluded         1049\n",
       "           included         3029\n",
       "           uncategorized       3\n",
       "iPSC       bimodal          1348\n",
       "           excluded         1558\n",
       "           included         4632\n",
       "           middle              1\n",
       "           uncategorized      31\n",
       "dtype: int64"
      ]
     },
     "execution_count": 32,
     "metadata": {},
     "output_type": "execute_result"
    }
   ],
   "source": [
    "modalities_tidy.groupby(['phenotype', 'modality']).size()"
   ]
  },
  {
   "cell_type": "code",
   "execution_count": 33,
   "metadata": {
    "collapsed": false
   },
   "outputs": [
    {
     "name": "stdout",
     "output_type": "stream",
     "text": [
      "Wrote datapackage to /projects/ps-yeolab/obotvinnik/flotilla_projects/singlecell_pnm_figure2_modalities_bayesian/datapackage.json\n"
     ]
    }
   ],
   "source": [
    "flotilla_dir = '/projects/ps-yeolab/obotvinnik/flotilla_projects'\n",
    "study.save('singlecell_pnm_figure2_modalities_bayesian', flotilla_dir=flotilla_dir)"
   ]
  },
  {
   "cell_type": "code",
   "execution_count": 34,
   "metadata": {
    "collapsed": false
   },
   "outputs": [
    {
     "data": {
      "text/plain": [
       "False"
      ]
     },
     "execution_count": 34,
     "metadata": {},
     "output_type": "execute_result"
    }
   ],
   "source": [
    "event = 'exon:chr10:1043148-1043248:+@exon:chr10:1044943-1045035:+@exon:chr10:1046617-1046808:+'\n",
    "\n",
    "event in study.splicing.data"
   ]
  },
  {
   "cell_type": "code",
   "execution_count": null,
   "metadata": {
    "collapsed": true
   },
   "outputs": [],
   "source": []
  }
 ],
 "metadata": {
  "kernelspec": {
   "display_name": "Python 2",
   "language": "python",
   "name": "python2"
  },
  "language_info": {
   "codemirror_mode": {
    "name": "ipython",
    "version": 2
   },
   "file_extension": ".py",
   "mimetype": "text/x-python",
   "name": "python",
   "nbconvert_exporter": "python",
   "pygments_lexer": "ipython2",
   "version": "2.7.11"
  }
 },
 "nbformat": 4,
 "nbformat_minor": 0
}
