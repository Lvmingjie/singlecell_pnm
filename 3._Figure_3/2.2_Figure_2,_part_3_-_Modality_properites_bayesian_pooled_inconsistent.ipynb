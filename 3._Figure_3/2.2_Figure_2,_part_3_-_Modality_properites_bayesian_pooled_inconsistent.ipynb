{
 "cells": [
  {
   "cell_type": "markdown",
   "metadata": {},
   "source": [
    "## Find distinguishing properties of modalities"
   ]
  },
  {
   "cell_type": "code",
   "execution_count": 1,
   "metadata": {
    "collapsed": false
   },
   "outputs": [
    {
     "name": "stderr",
     "output_type": "stream",
     "text": [
      "/home/obotvinnik/anaconda/lib/python2.7/site-packages/matplotlib/__init__.py:810: UserWarning: Found matplotlib configuration in ~/.matplotlib/. To conform with the XDG base directory standard, this configuration location has been deprecated on Linux, and the new location is now /home/obotvinnik/.config/matplotlib/. Please move your configuration there to ensure that matplotlib will continue to find it in the future.\n",
      "  _get_xdg_config_dir())\n",
      "/home/obotvinnik/anaconda/lib/python2.7/site-packages/flotilla/__init__.py:55: DtypeWarning: Columns (19) have mixed types. Specify dtype option on import or set low_memory=False.\n",
      "  load_species_data=load_species_data)\n"
     ]
    },
    {
     "name": "stdout",
     "output_type": "stream",
     "text": [
      "2016-05-13 09:17:12\tReading datapackage from /projects/ps-yeolab/obotvinnik/flotilla_projects/singlecell_pnm_figure2_modalities_bayesian/datapackage.json\n",
      "2016-05-13 09:17:12\tParsing datapackage to create a Study object\n",
      "2016-05-13 09:17:46\tInitializing Study\n",
      "2016-05-13 09:17:46\tInitializing Predictor configuration manager for Study\n",
      "2016-05-13 09:17:46\tPredictor ExtraTreesClassifier is of type <class 'sklearn.ensemble.forest.ExtraTreesClassifier'>\n",
      "2016-05-13 09:17:46\tAdded ExtraTreesClassifier to default predictors\n",
      "2016-05-13 09:17:46\tPredictor ExtraTreesRegressor is of type <class 'sklearn.ensemble.forest.ExtraTreesRegressor'>\n",
      "2016-05-13 09:17:46\tAdded ExtraTreesRegressor to default predictors\n",
      "2016-05-13 09:17:46\tPredictor GradientBoostingClassifier is of type <class 'sklearn.ensemble.gradient_boosting.GradientBoostingClassifier'>\n",
      "2016-05-13 09:17:46\tAdded GradientBoostingClassifier to default predictors\n",
      "2016-05-13 09:17:46\tPredictor GradientBoostingRegressor is of type <class 'sklearn.ensemble.gradient_boosting.GradientBoostingRegressor'>\n",
      "2016-05-13 09:17:46\tAdded GradientBoostingRegressor to default predictors\n",
      "2016-05-13 09:17:49\tBuilding Gene Ontology database...\n",
      "2016-05-13 09:17:56\t\tDone.\n",
      "2016-05-13 09:17:57\tLoading metadata\n",
      "2016-05-13 09:17:57\tLoading expression data\n",
      "2016-05-13 09:17:57\tInitializing expression\n",
      "2016-05-13 09:17:57\tDone initializing expression\n",
      "2016-05-13 09:17:59\tLoading splicing data\n",
      "2016-05-13 09:17:59\tInitializing splicing\n",
      "2016-05-13 09:17:59\tDone initializing splicing\n",
      "2016-05-13 09:17:59\tSuccessfully initialized a Study object!\n"
     ]
    }
   ],
   "source": [
    "%load_ext autoreload\n",
    "%autoreload 2\n",
    "\n",
    "import matplotlib.pyplot as plt\n",
    "import seaborn as sns\n",
    "import numpy as np\n",
    "import pandas as pd\n",
    "\n",
    "sns.set(style='ticks', context='talk', rc={'font.sans-serif':'Arial', 'pdf.fonttype': 42})\n",
    "\n",
    "%matplotlib inline\n",
    "\n",
    "\n",
    "\n",
    "import flotilla\n",
    "\n",
    "flotilla_dir = '/projects/ps-yeolab/obotvinnik/flotilla_projects'\n",
    "\n",
    "folder = '/home/obotvinnik/Dropbox/figures2/singlecell_pnm/figure2_modalities/bayesian'\n",
    "\n",
    "study = flotilla.embark('singlecell_pnm_figure2_modalities_bayesian', flotilla_dir=flotilla_dir)\n",
    "\n",
    "not_outliers = study.splicing.singles.index.difference(study.splicing.outliers.index)"
   ]
  },
  {
   "cell_type": "code",
   "execution_count": 2,
   "metadata": {
    "collapsed": true
   },
   "outputs": [],
   "source": [
    "splicing_singles_no_outliers = study.splicing.singles.ix[not_outliers]\n"
   ]
  },
  {
   "cell_type": "markdown",
   "metadata": {},
   "source": [
    "### Modality bar graph of events inconsistent with pooled"
   ]
  },
  {
   "cell_type": "code",
   "execution_count": 3,
   "metadata": {
    "collapsed": false
   },
   "outputs": [
    {
     "name": "stderr",
     "output_type": "stream",
     "text": [
      "/home/obotvinnik/anaconda/lib/python2.7/site-packages/flotilla/data_model/splicing.py:174: FutureWarning: diff is deprecated. Use difference instead\n",
      "  not_measured_in_pooled = singles.columns.diff(pooled.columns)\n"
     ]
    }
   ],
   "source": [
    "modalities_inconsistent = study.percent_pooled_inconsistent(\n",
    "    feature_subset=study.supplemental.modalities_tidy.event_id.unique())"
   ]
  },
  {
   "cell_type": "code",
   "execution_count": 4,
   "metadata": {
    "collapsed": false
   },
   "outputs": [],
   "source": [
    "pooled_inconstent_folder = '{}/pooled_inconsistent_delta_psi'.format(folder)\n",
    "! mkdir $pooled_inconstent_folder"
   ]
  },
  {
   "cell_type": "code",
   "execution_count": 5,
   "metadata": {
    "collapsed": false
   },
   "outputs": [],
   "source": [
    "from flotilla.visualize.generic import cdfplot\n",
    "\n",
    "singles_grouped = study.splicing.singles.groupby(study.sample_id_to_phenotype)\n",
    "pooled_grouped = study.splicing.pooled.groupby(study.sample_id_to_phenotype)\n",
    "\n",
    "bins = np.arange(0, 1.05, 0.05)\n",
    "\n",
    "min_difference = 0.25\n",
    "\n",
    "pooled_inconsistent_dir = '{}/pooled_inconsistent'.format(folder)\n",
    "! mkdir $pooled_inconsistent_dir\n",
    "\n",
    "mean_diff_dfs = []\n",
    "\n",
    "for (phenotype, modality), df in study.supplemental.modalities_tidy.groupby(['phenotype', 'modality']):\n",
    "    singles = singles_grouped.get_group(phenotype).ix[:, df.event_id].dropna(how='all',axis=1)\n",
    "    pooled = pooled_grouped.get_group(phenotype).ix[:, df.event_id].dropna(how='all', axis=1)\n",
    "    \n",
    "    singles, pooled = singles.align(pooled, axis=1, join='inner')\n",
    "    mean_difference = pooled.apply(lambda x: singles.subtract(x, axis=1).abs().mean(axis=0), axis=1)\n",
    "    \n",
    "    mean_diff_df = mean_difference.unstack().reset_index()\n",
    "    mean_diff_df['phenotype'] = phenotype\n",
    "    mean_diff_df['modality'] = modality\n",
    "    mean_diff_dfs.append(mean_diff_df)\n",
    "    \n",
    "    events = mean_difference.columns[(mean_difference > min_difference).any(axis=0)]\n",
    "#     for event in events:\n",
    "#         gene_name = study.splicing.feature_data.gene_name[event]\n",
    "#         study.plot_event(event, sample_subset='~outlier')\n",
    "#         fig = plt.gcf()\n",
    "#         fig.savefig('{}/{}_{}_{}_{}.pdf'.format(\n",
    "#                 pooled_inconsistent_dir, modality, phenotype, gene_name, event))\n",
    "    \n",
    "mean_diff_df = pd.concat(mean_diff_dfs)\n",
    "mean_diff_df = mean_diff_df.rename(columns={0: 'mean diff', 'level_0': 'event_id', \n",
    "                                            'level_1':'pooled_id'})"
   ]
  },
  {
   "cell_type": "code",
   "execution_count": 31,
   "metadata": {
    "collapsed": false
   },
   "outputs": [
    {
     "data": {
      "text/plain": [
       "phenotype  modality     \n",
       "MN         bimodal          31.496273\n",
       "           excluded          2.391368\n",
       "           included          1.383691\n",
       "           uncategorized     0.000000\n",
       "NPC        bimodal          24.810088\n",
       "           excluded          1.413428\n",
       "           included          0.503033\n",
       "           uncategorized    66.666667\n",
       "iPSC       bimodal          19.426477\n",
       "           excluded          0.928249\n",
       "           included          0.481041\n",
       "           middle           50.000000\n",
       "           uncategorized    55.882353\n",
       "dtype: float64"
      ]
     },
     "execution_count": 31,
     "metadata": {},
     "output_type": "execute_result"
    }
   ],
   "source": [
    "mean_diff_df.groupby(['phenotype', 'modality']).apply(lambda x: 100*(x['mean diff'] > min_difference).sum()/float(x.shape[0]))"
   ]
  },
  {
   "cell_type": "code",
   "execution_count": 6,
   "metadata": {
    "collapsed": true
   },
   "outputs": [],
   "source": [
    "from anchor import MODALITY_ORDER, MODALITY_PALETTE, MODALITY_TO_COLOR"
   ]
  },
  {
   "cell_type": "code",
   "execution_count": 23,
   "metadata": {
    "collapsed": false,
    "scrolled": false
   },
   "outputs": [
    {
     "data": {
      "image/png": "[encoded data removed]",
      "text/plain": [
       "<matplotlib.figure.Figure at 0x2af6eeec64d0>"
      ]
     },
     "metadata": {},
     "output_type": "display_data"
    }
   ],
   "source": [
    "g = sns.FacetGrid(mean_diff_df, col='phenotype', col_order=study.phenotype_order, hue='modality', size=2,\n",
    "                  hue_order=MODALITY_ORDER, palette=MODALITY_PALETTE, legend_out=True)\n",
    "g.map(cdfplot, 'mean diff', log=False, alpha=0.75, linewidth=2)\n",
    "\n",
    "g.set(ylim=(0, 1))\n",
    "for ax in g.axes.flat:\n",
    "    ax.locator_params(nbins=4)\n",
    "    if ax.is_first_col():\n",
    "        ax.set_ylabel('Cummulative Distribution')\n",
    "    xmin, xmax, ymin, ymax = ax.axis()\n",
    "    ax.vlines(min_difference, ymin, ymax, linestyle='--')\n",
    "    ax.set(xlim=(0, xmax), \n",
    "           xlabel=r'mean $\\left(\\left|\\Psi_{\\mathrm{pooled}} - \\Psi_{\\mathrm{singles}}\\right|\\right)$')\n",
    "g.fig.tight_layout()\n",
    "g.add_legend();\n",
    "g.savefig('{}/modality_pooled_inconsistent_cdf.pdf'.format(pooled_inconstent_folder))"
   ]
  },
  {
   "cell_type": "code",
   "execution_count": 8,
   "metadata": {
    "collapsed": true
   },
   "outputs": [],
   "source": [
    "mean_diff_df_01 = mean_diff_df.loc[mean_diff_df['mean diff'] >= min_difference]"
   ]
  },
  {
   "cell_type": "code",
   "execution_count": 9,
   "metadata": {
    "collapsed": false
   },
   "outputs": [
    {
     "data": {
      "image/png": "[encoded data removed]",
      "text/plain": [
       "<matplotlib.figure.Figure at 0x2af6ee68c610>"
      ]
     },
     "metadata": {},
     "output_type": "display_data"
    }
   ],
   "source": [
    "fig, axes = plt.subplots(figsize=(16, 12), nrows=3)\n",
    "\n",
    "ylabel = r'mean $\\left(\\left|\\Psi_{\\mathrm{pooled}} - \\Psi_{\\mathrm{singles}}\\right|\\right)$'\n",
    "\n",
    "for ax, (phenotype, phenotype_df) in zip(axes, mean_diff_df_01.groupby('phenotype')):\n",
    "    phenotype_df['mean diff rank'] = phenotype_df['mean diff'].rank(method='first')\n",
    "    for modality, modality_df in phenotype_df.groupby('modality'):\n",
    "        x = modality_df['mean diff rank']\n",
    "        y = modality_df['mean diff']\n",
    "        color = MODALITY_TO_COLOR[modality]\n",
    "        ax.bar(x, y, color=color, linewidth=0)\n",
    "    xmax = phenotype_df['mean diff rank'].max() + 1\n",
    "    \n",
    "    ax.set(xlim=(0, xmax), xlabel='Rank', title=phenotype, ylabel=ylabel, xticks=[])\n",
    "    sns.despine()\n",
    "#     df = df.sort_values('mean diff')\n",
    "fig.tight_layout()\n",
    "fig.savefig('{}/delta_psi_ranked_barplot.pdf'.format(pooled_inconstent_folder))"
   ]
  },
  {
   "cell_type": "code",
   "execution_count": 10,
   "metadata": {
    "collapsed": true
   },
   "outputs": [],
   "source": [
    "study.supplemental.splicing_singles_vs_pooled = mean_diff_df"
   ]
  },
  {
   "cell_type": "code",
   "execution_count": 11,
   "metadata": {
    "collapsed": false
   },
   "outputs": [
    {
     "data": {
      "text/html": [
       "<div>\n",
       "<table border=\"1\" class=\"dataframe\">\n",
       "  <thead>\n",
       "    <tr style=\"text-align: right;\">\n",
       "      <th></th>\n",
       "      <th>event_id</th>\n",
       "      <th>pooled_id</th>\n",
       "      <th>mean diff</th>\n",
       "      <th>phenotype</th>\n",
       "      <th>modality</th>\n",
       "    </tr>\n",
       "  </thead>\n",
       "  <tbody>\n",
       "    <tr>\n",
       "      <th>0</th>\n",
       "      <td>exon:chr10:101480744-101480825:-@exon:chr10:10...</td>\n",
       "      <td>M2_05</td>\n",
       "      <td>NaN</td>\n",
       "      <td>MN</td>\n",
       "      <td>bimodal</td>\n",
       "    </tr>\n",
       "    <tr>\n",
       "      <th>1</th>\n",
       "      <td>exon:chr10:101480744-101480825:-@exon:chr10:10...</td>\n",
       "      <td>M2nd_13</td>\n",
       "      <td>0.052632</td>\n",
       "      <td>MN</td>\n",
       "      <td>bimodal</td>\n",
       "    </tr>\n",
       "    <tr>\n",
       "      <th>2</th>\n",
       "      <td>exon:chr10:101480744-101480825:-@exon:chr10:10...</td>\n",
       "      <td>M2nd_21</td>\n",
       "      <td>0.052632</td>\n",
       "      <td>MN</td>\n",
       "      <td>bimodal</td>\n",
       "    </tr>\n",
       "    <tr>\n",
       "      <th>3</th>\n",
       "      <td>exon:chr10:102747070-102747240:-@exon:chr10:10...</td>\n",
       "      <td>M2_05</td>\n",
       "      <td>0.183352</td>\n",
       "      <td>MN</td>\n",
       "      <td>bimodal</td>\n",
       "    </tr>\n",
       "    <tr>\n",
       "      <th>4</th>\n",
       "      <td>exon:chr10:102747070-102747240:-@exon:chr10:10...</td>\n",
       "      <td>M2nd_13</td>\n",
       "      <td>0.202275</td>\n",
       "      <td>MN</td>\n",
       "      <td>bimodal</td>\n",
       "    </tr>\n",
       "  </tbody>\n",
       "</table>\n",
       "</div>"
      ],
      "text/plain": [
       "                                            event_id pooled_id  mean diff  \\\n",
       "0  exon:chr10:101480744-101480825:-@exon:chr10:10...     M2_05        NaN   \n",
       "1  exon:chr10:101480744-101480825:-@exon:chr10:10...   M2nd_13   0.052632   \n",
       "2  exon:chr10:101480744-101480825:-@exon:chr10:10...   M2nd_21   0.052632   \n",
       "3  exon:chr10:102747070-102747240:-@exon:chr10:10...     M2_05   0.183352   \n",
       "4  exon:chr10:102747070-102747240:-@exon:chr10:10...   M2nd_13   0.202275   \n",
       "\n",
       "  phenotype modality  \n",
       "0        MN  bimodal  \n",
       "1        MN  bimodal  \n",
       "2        MN  bimodal  \n",
       "3        MN  bimodal  \n",
       "4        MN  bimodal  "
      ]
     },
     "execution_count": 11,
     "metadata": {},
     "output_type": "execute_result"
    }
   ],
   "source": [
    "mean_diff_df.head()"
   ]
  },
  {
   "cell_type": "code",
   "execution_count": 12,
   "metadata": {
    "collapsed": false
   },
   "outputs": [
    {
     "data": {
      "text/plain": [
       "(5200, 5)"
      ]
     },
     "execution_count": 12,
     "metadata": {},
     "output_type": "execute_result"
    }
   ],
   "source": [
    "mean_diff_df02 = mean_diff_df.loc[mean_diff_df['mean diff'] > 0.2]\n",
    "mean_diff_df02.shape"
   ]
  },
  {
   "cell_type": "code",
   "execution_count": 13,
   "metadata": {
    "collapsed": false
   },
   "outputs": [
    {
     "data": {
      "text/plain": [
       "modality\n",
       "bimodal          4482\n",
       "excluded          264\n",
       "included          382\n",
       "middle              2\n",
       "uncategorized      70\n",
       "dtype: int64"
      ]
     },
     "execution_count": 13,
     "metadata": {},
     "output_type": "execute_result"
    }
   ],
   "source": [
    "mean_diff_02_modalities = mean_diff_df02.groupby('modality').size()\n",
    "mean_diff_02_modalities"
   ]
  },
  {
   "cell_type": "code",
   "execution_count": 14,
   "metadata": {
    "collapsed": false
   },
   "outputs": [
    {
     "data": {
      "text/plain": [
       "5200"
      ]
     },
     "execution_count": 14,
     "metadata": {},
     "output_type": "execute_result"
    }
   ],
   "source": [
    "mean_diff_02_modalities.sum()"
   ]
  },
  {
   "cell_type": "code",
   "execution_count": 15,
   "metadata": {
    "collapsed": false
   },
   "outputs": [
    {
     "data": {
      "text/plain": [
       "modality\n",
       "bimodal          86.192308\n",
       "excluded          5.076923\n",
       "included          7.346154\n",
       "middle            0.038462\n",
       "uncategorized     1.346154\n",
       "dtype: float64"
      ]
     },
     "execution_count": 15,
     "metadata": {},
     "output_type": "execute_result"
    }
   ],
   "source": [
    "mean_diff_02_modalities_percentage = 100*mean_diff_02_modalities/mean_diff_02_modalities.sum()\n",
    "mean_diff_02_modalities_percentage.head()"
   ]
  },
  {
   "cell_type": "code",
   "execution_count": 26,
   "metadata": {
    "collapsed": false
   },
   "outputs": [
    {
     "data": {
      "text/html": [
       "<div>\n",
       "<table border=\"1\" class=\"dataframe\">\n",
       "  <thead>\n",
       "    <tr style=\"text-align: right;\">\n",
       "      <th></th>\n",
       "      <th>modality</th>\n",
       "      <th>%</th>\n",
       "      <th>x</th>\n",
       "    </tr>\n",
       "  </thead>\n",
       "  <tbody>\n",
       "    <tr>\n",
       "      <th>0</th>\n",
       "      <td>bimodal</td>\n",
       "      <td>86.192308</td>\n",
       "      <td>of 5200 events with $|\\Delta\\Psi| &gt; 0.25$</td>\n",
       "    </tr>\n",
       "    <tr>\n",
       "      <th>1</th>\n",
       "      <td>excluded</td>\n",
       "      <td>5.076923</td>\n",
       "      <td>of 5200 events with $|\\Delta\\Psi| &gt; 0.25$</td>\n",
       "    </tr>\n",
       "    <tr>\n",
       "      <th>2</th>\n",
       "      <td>included</td>\n",
       "      <td>7.346154</td>\n",
       "      <td>of 5200 events with $|\\Delta\\Psi| &gt; 0.25$</td>\n",
       "    </tr>\n",
       "    <tr>\n",
       "      <th>3</th>\n",
       "      <td>middle</td>\n",
       "      <td>0.038462</td>\n",
       "      <td>of 5200 events with $|\\Delta\\Psi| &gt; 0.25$</td>\n",
       "    </tr>\n",
       "    <tr>\n",
       "      <th>4</th>\n",
       "      <td>uncategorized</td>\n",
       "      <td>1.346154</td>\n",
       "      <td>of 5200 events with $|\\Delta\\Psi| &gt; 0.25$</td>\n",
       "    </tr>\n",
       "  </tbody>\n",
       "</table>\n",
       "</div>"
      ],
      "text/plain": [
       "        modality          %                                          x\n",
       "0        bimodal  86.192308  of 5200 events with $|\\Delta\\Psi| > 0.25$\n",
       "1       excluded   5.076923  of 5200 events with $|\\Delta\\Psi| > 0.25$\n",
       "2       included   7.346154  of 5200 events with $|\\Delta\\Psi| > 0.25$\n",
       "3         middle   0.038462  of 5200 events with $|\\Delta\\Psi| > 0.25$\n",
       "4  uncategorized   1.346154  of 5200 events with $|\\Delta\\Psi| > 0.25$"
      ]
     },
     "execution_count": 26,
     "metadata": {},
     "output_type": "execute_result"
    }
   ],
   "source": [
    "percent_col = '%'.format()\n",
    "x_col = 'of {} events with $|\\Delta\\Psi| > {:.2f}$'.format(mean_diff_02_modalities.sum(), min_difference)\n",
    "\n",
    "mean_diff_02_modalities_percentage_df = mean_diff_02_modalities_percentage.reset_index()\n",
    "mean_diff_02_modalities_percentage_df = mean_diff_02_modalities_percentage_df.rename(\n",
    "    columns={0: percent_col})\n",
    "mean_diff_02_modalities_percentage_df['x'] = x_col\n",
    "mean_diff_02_modalities_percentage_df"
   ]
  },
  {
   "cell_type": "code",
   "execution_count": 27,
   "metadata": {
    "collapsed": true
   },
   "outputs": [],
   "source": [
    "sns.set(style='ticks', context='paper')"
   ]
  },
  {
   "cell_type": "code",
   "execution_count": 28,
   "metadata": {
    "collapsed": false
   },
   "outputs": [
    {
     "data": {
      "image/png": "[encoded data removed]",
      "text/plain": [
       "<matplotlib.figure.Figure at 0x2af702a60250>"
      ]
     },
     "metadata": {},
     "output_type": "display_data"
    }
   ],
   "source": [
    "g = sns.factorplot(hue='modality', hue_order=MODALITY_ORDER, palette=MODALITY_PALETTE,\n",
    "               x='x', y=percent_col, size=1.5, legend=False, aspect=1.5,\n",
    "               data=mean_diff_02_modalities_percentage_df, kind='bar')\n",
    "g.set(xlabel='')\n",
    "for ax in g.axes.flat:\n",
    "    ax.locator_params(nbins=4, axis='y')\n",
    "g.fig.tight_layout()\n",
    "g.savefig('{}/percent_delta_psi_greater_02_modality.pdf'.format(pooled_inconstent_folder))"
   ]
  },
  {
   "cell_type": "code",
   "execution_count": 19,
   "metadata": {
    "collapsed": false
   },
   "outputs": [],
   "source": [
    "# mean_diff_percentage = mean_diff_df.groupby(['phenotype', 'modality']).apply(\n",
    "#     lambda x: 100.*(x['mean diff'] > min_difference).sum()/x.shape[0])\n",
    "# mean_diff_percentage = mean_diff_percentage.reset_index()\n",
    "# mean_diff_percentage = mean_diff_percentage.rename(columns={0: 'Percent single-cell events\\ninconsistent with pooled'})\n",
    "# g = sns.factorplot(x='phenotype', y='Percent single-cell events\\ninconsistent with pooled', hue='modality',\n",
    "#                    data=mean_diff_percentage, kind='bar', size=3, aspect=1.25, legend=False, **modality_factorplot_kws)\n",
    "# for ax in g.axes.flat:\n",
    "#     ax.locator_params('y', nbins=4)\n",
    "# g.fig.tight_layout()\n",
    "# g.add_legend();\n",
    "\n",
    "# g.savefig('{}/modality_pooled_inconsistent_percentage.pdf'.format(folder))"
   ]
  },
  {
   "cell_type": "code",
   "execution_count": null,
   "metadata": {
    "collapsed": true
   },
   "outputs": [],
   "source": []
  },
  {
   "cell_type": "code",
   "execution_count": null,
   "metadata": {
    "collapsed": true
   },
   "outputs": [],
   "source": []
  },
  {
   "cell_type": "code",
   "execution_count": null,
   "metadata": {
    "collapsed": true
   },
   "outputs": [],
   "source": []
  }
 ],
 "metadata": {
  "kernelspec": {
   "display_name": "Python 2",
   "language": "python",
   "name": "python2"
  },
  "language_info": {
   "codemirror_mode": {
    "name": "ipython",
    "version": 2
   },
   "file_extension": ".py",
   "mimetype": "text/x-python",
   "name": "python",
   "nbconvert_exporter": "python",
   "pygments_lexer": "ipython2",
   "version": "2.7.10"
  }
 },
 "nbformat": 4,
 "nbformat_minor": 0
}
