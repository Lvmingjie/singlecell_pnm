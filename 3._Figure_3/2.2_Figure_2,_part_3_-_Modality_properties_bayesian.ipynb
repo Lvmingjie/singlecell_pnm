{
 "cells": [
  {
   "cell_type": "markdown",
   "metadata": {},
   "source": [
    "## Find distinguishing properties of modalities"
   ]
  },
  {
   "cell_type": "code",
   "execution_count": 1,
   "metadata": {
    "collapsed": false
   },
   "outputs": [
    {
     "name": "stderr",
     "output_type": "stream",
     "text": [
      "/home/obotvinnik/anaconda/lib/python2.7/site-packages/matplotlib/__init__.py:784: UserWarning: Found matplotlib configuration in ~/.matplotlib/. To conform with the XDG base directory standard, this configuration location has been deprecated on Linux, and the new location is now /home/obotvinnik/.config/matplotlib/. Please move your configuration there to ensure that matplotlib will continue to find it in the future.\n",
      "  _get_xdg_config_dir())\n",
      "/home/obotvinnik/workspace-git/flotilla/flotilla/__init__.py:55: DtypeWarning: Columns (18) have mixed types. Specify dtype option on import or set low_memory=False.\n",
      "  load_species_data=load_species_data)\n"
     ]
    },
    {
     "name": "stdout",
     "output_type": "stream",
     "text": [
      "2015-12-28 15:48:21\tReading datapackage from /projects/ps-yeolab/obotvinnik/flotilla_projects/singlecell_pnm_figure2_modalities_bayesian/datapackage.json\n",
      "2015-12-28 15:48:21\tParsing datapackage to create a Study object\n",
      "2015-12-28 15:49:06\tInitializing Study\n",
      "2015-12-28 15:49:06\tInitializing Predictor configuration manager for Study\n",
      "2015-12-28 15:49:06\tPredictor ExtraTreesClassifier is of type <class 'sklearn.ensemble.forest.ExtraTreesClassifier'>\n",
      "2015-12-28 15:49:06\tAdded ExtraTreesClassifier to default predictors\n",
      "2015-12-28 15:49:06\tPredictor ExtraTreesRegressor is of type <class 'sklearn.ensemble.forest.ExtraTreesRegressor'>\n",
      "2015-12-28 15:49:06\tAdded ExtraTreesRegressor to default predictors\n",
      "2015-12-28 15:49:06\tPredictor GradientBoostingClassifier is of type <class 'sklearn.ensemble.gradient_boosting.GradientBoostingClassifier'>\n",
      "2015-12-28 15:49:06\tAdded GradientBoostingClassifier to default predictors\n",
      "2015-12-28 15:49:06\tPredictor GradientBoostingRegressor is of type <class 'sklearn.ensemble.gradient_boosting.GradientBoostingRegressor'>\n",
      "2015-12-28 15:49:06\tAdded GradientBoostingRegressor to default predictors\n",
      "2015-12-28 15:49:10\tBuilding Gene Ontology database...\n",
      "2015-12-28 15:49:20\t\tDone.\n",
      "2015-12-28 15:49:20\tLoading metadata\n",
      "2015-12-28 15:49:20\tLoading expression data\n",
      "2015-12-28 15:49:20\tInitializing expression\n",
      "2015-12-28 15:49:21\tDone initializing expression\n",
      "2015-12-28 15:49:23\tLoading splicing data\n",
      "2015-12-28 15:49:23\tInitializing splicing\n",
      "2015-12-28 15:49:23\tDone initializing splicing\n",
      "2015-12-28 15:49:23\tSuccessfully initialized a Study object!\n"
     ]
    }
   ],
   "source": [
    "%load_ext autoreload\n",
    "%autoreload 2\n",
    "\n",
    "import modish\n",
    "import matplotlib.pyplot as plt\n",
    "import seaborn as sns\n",
    "import numpy as np\n",
    "import pandas as pd\n",
    "\n",
    "sns.set(style='ticks', context='talk', rc={'font.sans-serif':'Arial', 'pdf.fonttype': 42})\n",
    "\n",
    "%matplotlib inline\n",
    "\n",
    "\n",
    "\n",
    "import flotilla\n",
    "\n",
    "flotilla_dir = '/projects/ps-yeolab/obotvinnik/flotilla_projects'\n",
    "\n",
    "folder = '/home/obotvinnik/Dropbox/figures2/singlecell_pnm/figure2_modalities/bayesian'\n",
    "\n",
    "study = flotilla.embark('singlecell_pnm_figure2_modalities_bayesian', flotilla_dir=flotilla_dir)\n",
    "\n",
    "not_outliers = study.splicing.singles.index.difference(study.splicing.outliers.index)"
   ]
  },
  {
   "cell_type": "code",
   "execution_count": 2,
   "metadata": {
    "collapsed": false
   },
   "outputs": [
    {
     "data": {
      "text/html": [
       "<div>\n",
       "<table border=\"1\" class=\"dataframe\">\n",
       "  <thead>\n",
       "    <tr style=\"text-align: right;\">\n",
       "      <th></th>\n",
       "      <th>phenotype</th>\n",
       "      <th>event_name</th>\n",
       "      <th>modality</th>\n",
       "    </tr>\n",
       "  </thead>\n",
       "  <tbody>\n",
       "    <tr>\n",
       "      <th>0</th>\n",
       "      <td>MN</td>\n",
       "      <td>exon:chr10:102114184-102114389:+@exon:chr10:10...</td>\n",
       "      <td>~1</td>\n",
       "    </tr>\n",
       "    <tr>\n",
       "      <th>1</th>\n",
       "      <td>MN</td>\n",
       "      <td>exon:chr10:102286732-102286831:-@exon:chr10:10...</td>\n",
       "      <td>~1</td>\n",
       "    </tr>\n",
       "    <tr>\n",
       "      <th>2</th>\n",
       "      <td>MN</td>\n",
       "      <td>exon:chr10:103348089-103348157:+@exon:chr10:10...</td>\n",
       "      <td>~1</td>\n",
       "    </tr>\n",
       "    <tr>\n",
       "      <th>3</th>\n",
       "      <td>MN</td>\n",
       "      <td>exon:chr10:103360960-103361093:+@exon:chr10:10...</td>\n",
       "      <td>bimodal</td>\n",
       "    </tr>\n",
       "    <tr>\n",
       "      <th>4</th>\n",
       "      <td>MN</td>\n",
       "      <td>exon:chr10:103360960-103361093:+@exon:chr10:10...</td>\n",
       "      <td>bimodal</td>\n",
       "    </tr>\n",
       "  </tbody>\n",
       "</table>\n",
       "</div>"
      ],
      "text/plain": [
       "  phenotype                                         event_name modality\n",
       "0        MN  exon:chr10:102114184-102114389:+@exon:chr10:10...       ~1\n",
       "1        MN  exon:chr10:102286732-102286831:-@exon:chr10:10...       ~1\n",
       "2        MN  exon:chr10:103348089-103348157:+@exon:chr10:10...       ~1\n",
       "3        MN  exon:chr10:103360960-103361093:+@exon:chr10:10...  bimodal\n",
       "4        MN  exon:chr10:103360960-103361093:+@exon:chr10:10...  bimodal"
      ]
     },
     "execution_count": 2,
     "metadata": {},
     "output_type": "execute_result"
    }
   ],
   "source": [
    "study.supplemental.modalities_tidy.head()"
   ]
  },
  {
   "cell_type": "code",
   "execution_count": 3,
   "metadata": {
    "collapsed": false
   },
   "outputs": [
    {
     "data": {
      "text/plain": [
       "phenotype  modality  \n",
       "MN         bimodal        390\n",
       "           multimodal       1\n",
       "           ~0             566\n",
       "           ~1            1639\n",
       "NPC        bimodal        799\n",
       "           multimodal       2\n",
       "           ~0            1092\n",
       "           ~1            3047\n",
       "iPSC       bimodal       1383\n",
       "           middle           1\n",
       "           multimodal      33\n",
       "           ~0            1605\n",
       "           ~1            4611\n",
       "dtype: int64"
      ]
     },
     "execution_count": 3,
     "metadata": {},
     "output_type": "execute_result"
    }
   ],
   "source": [
    "study.supplemental.modalities_tidy.groupby(['phenotype', 'modality']).size()"
   ]
  },
  {
   "cell_type": "code",
   "execution_count": 4,
   "metadata": {
    "collapsed": true
   },
   "outputs": [],
   "source": [
    "splicing_singles_no_outliers = study.splicing.singles.ix[not_outliers]\n"
   ]
  },
  {
   "cell_type": "code",
   "execution_count": 5,
   "metadata": {
    "collapsed": false
   },
   "outputs": [
    {
     "name": "stdout",
     "output_type": "stream",
     "text": [
      "(33693, 103)\n"
     ]
    },
    {
     "name": "stderr",
     "output_type": "stream",
     "text": [
      "/home/obotvinnik/anaconda/lib/python2.7/site-packages/IPython/core/interactiveshell.py:2902: DtypeWarning: Columns (11,18,19,20) have mixed types. Specify dtype option on import or set low_memory=False.\n",
      "  interactivity=interactivity, compiler=compiler, result=result)\n"
     ]
    },
    {
     "data": {
      "text/html": [
       "<div>\n",
       "<table border=\"1\" class=\"dataframe\">\n",
       "  <thead>\n",
       "    <tr style=\"text-align: right;\">\n",
       "      <th></th>\n",
       "      <th>criteria</th>\n",
       "      <th>criteria_additional</th>\n",
       "      <th>criteria_full</th>\n",
       "      <th>ensembl_id</th>\n",
       "      <th>exon1</th>\n",
       "      <th>exon1_length</th>\n",
       "      <th>exon2</th>\n",
       "      <th>exon2_length</th>\n",
       "      <th>exon3</th>\n",
       "      <th>exon3_length</th>\n",
       "      <th>...</th>\n",
       "      <th>isoform1_pfam_go_id</th>\n",
       "      <th>isoform1_pfam_go_name</th>\n",
       "      <th>isoform1_pfam_name</th>\n",
       "      <th>isoform2_pfam_accession</th>\n",
       "      <th>isoform2_pfam_go_id</th>\n",
       "      <th>isoform2_pfam_go_name</th>\n",
       "      <th>isoform2_pfam_name</th>\n",
       "      <th>isoform_domain_effects</th>\n",
       "      <th>custom_1</th>\n",
       "      <th>custom_2</th>\n",
       "    </tr>\n",
       "    <tr>\n",
       "      <th>event_id</th>\n",
       "      <th></th>\n",
       "      <th></th>\n",
       "      <th></th>\n",
       "      <th></th>\n",
       "      <th></th>\n",
       "      <th></th>\n",
       "      <th></th>\n",
       "      <th></th>\n",
       "      <th></th>\n",
       "      <th></th>\n",
       "      <th></th>\n",
       "      <th></th>\n",
       "      <th></th>\n",
       "      <th></th>\n",
       "      <th></th>\n",
       "      <th></th>\n",
       "      <th></th>\n",
       "      <th></th>\n",
       "      <th></th>\n",
       "      <th></th>\n",
       "      <th></th>\n",
       "    </tr>\n",
       "  </thead>\n",
       "  <tbody>\n",
       "    <tr>\n",
       "      <th>exon:chr10:100190328-100190427:-@exon:chr10:100189548-100189646:-@exon:chr10:100189330-100189399:-</th>\n",
       "      <td>best</td>\n",
       "      <td>appris_principal</td>\n",
       "      <td>best,appris_principal</td>\n",
       "      <td>ENSG00000107521</td>\n",
       "      <td>exon:chr10:100190328-100190427:-</td>\n",
       "      <td>100</td>\n",
       "      <td>exon:chr10:100189548-100189646:-</td>\n",
       "      <td>99</td>\n",
       "      <td>exon:chr10:100189330-100189399:-</td>\n",
       "      <td>70</td>\n",
       "      <td>...</td>\n",
       "      <td>NaN</td>\n",
       "      <td>NaN</td>\n",
       "      <td>NaN</td>\n",
       "      <td>NaN</td>\n",
       "      <td>NaN</td>\n",
       "      <td>NaN</td>\n",
       "      <td>NaN</td>\n",
       "      <td>No annotated reading frame --&gt; Protein +/- domain</td>\n",
       "      <td>False</td>\n",
       "      <td>False</td>\n",
       "    </tr>\n",
       "    <tr>\n",
       "      <th>exon:chr10:100193697-100193848:-@exon:chr10:100190888-100191048:-@exon:chr10:100190328-100190427:-</th>\n",
       "      <td>only one</td>\n",
       "      <td>NaN</td>\n",
       "      <td>only one</td>\n",
       "      <td>ENSG00000107521</td>\n",
       "      <td>exon:chr10:100193697-100193848:-</td>\n",
       "      <td>152</td>\n",
       "      <td>exon:chr10:100190888-100191048:-</td>\n",
       "      <td>161</td>\n",
       "      <td>exon:chr10:100190328-100190427:-</td>\n",
       "      <td>100</td>\n",
       "      <td>...</td>\n",
       "      <td>NaN</td>\n",
       "      <td>NaN</td>\n",
       "      <td>NaN</td>\n",
       "      <td>NaN</td>\n",
       "      <td>NaN</td>\n",
       "      <td>NaN</td>\n",
       "      <td>NaN</td>\n",
       "      <td>NaN</td>\n",
       "      <td>False</td>\n",
       "      <td>False</td>\n",
       "    </tr>\n",
       "    <tr>\n",
       "      <th>exon:chr10:100195392-100195529:-@exon:chr10:100195029-100195171:-@exon:chr10:100193697-100193848:-</th>\n",
       "      <td>best</td>\n",
       "      <td>appris_principal</td>\n",
       "      <td>best,appris_principal</td>\n",
       "      <td>ENSG00000107521</td>\n",
       "      <td>exon:chr10:100195392-100195529:-</td>\n",
       "      <td>138</td>\n",
       "      <td>exon:chr10:100195029-100195171:-</td>\n",
       "      <td>143</td>\n",
       "      <td>exon:chr10:100193697-100193848:-</td>\n",
       "      <td>152</td>\n",
       "      <td>...</td>\n",
       "      <td>NaN</td>\n",
       "      <td>NaN</td>\n",
       "      <td>NaN</td>\n",
       "      <td>NaN</td>\n",
       "      <td>NaN</td>\n",
       "      <td>NaN</td>\n",
       "      <td>NaN</td>\n",
       "      <td>NaN</td>\n",
       "      <td>False</td>\n",
       "      <td>False</td>\n",
       "    </tr>\n",
       "    <tr>\n",
       "      <th>exon:chr10:101165513-101165617:-@exon:chr10:101163481-101163631:-@exon:chr10:101163226-101163391:-</th>\n",
       "      <td>only one</td>\n",
       "      <td>NaN</td>\n",
       "      <td>only one</td>\n",
       "      <td>ENSG00000120053</td>\n",
       "      <td>exon:chr10:101165513-101165617:-</td>\n",
       "      <td>105</td>\n",
       "      <td>exon:chr10:101163481-101163631:-</td>\n",
       "      <td>151</td>\n",
       "      <td>exon:chr10:101163226-101163391:-</td>\n",
       "      <td>166</td>\n",
       "      <td>...</td>\n",
       "      <td>NaN</td>\n",
       "      <td>NaN</td>\n",
       "      <td>NaN</td>\n",
       "      <td>PF00155.16[1]</td>\n",
       "      <td>GO:0030170[1],GO:0009058[1]</td>\n",
       "      <td>(pyridoxal phosphate binding)[1],(biosynthetic...</td>\n",
       "      <td>Aminotran_1_2[1]</td>\n",
       "      <td>No annotated reading frame --&gt; Protein +/- domain</td>\n",
       "      <td>True</td>\n",
       "      <td>True</td>\n",
       "    </tr>\n",
       "    <tr>\n",
       "      <th>exon:chr10:101419263-101419345:+@exon:chr10:101419619-101419721:+@exon:chr10:101421203-101421385:+</th>\n",
       "      <td>only one</td>\n",
       "      <td>NaN</td>\n",
       "      <td>only one</td>\n",
       "      <td>ENSG00000198018</td>\n",
       "      <td>exon:chr10:101419263-101419345:+</td>\n",
       "      <td>83</td>\n",
       "      <td>exon:chr10:101419619-101419721:+</td>\n",
       "      <td>103</td>\n",
       "      <td>exon:chr10:101421203-101421385:+</td>\n",
       "      <td>183</td>\n",
       "      <td>...</td>\n",
       "      <td>NaN</td>\n",
       "      <td>NaN</td>\n",
       "      <td>NaN</td>\n",
       "      <td>NaN</td>\n",
       "      <td>NaN</td>\n",
       "      <td>NaN</td>\n",
       "      <td>NaN</td>\n",
       "      <td>NaN</td>\n",
       "      <td>True</td>\n",
       "      <td>True</td>\n",
       "    </tr>\n",
       "  </tbody>\n",
       "</table>\n",
       "<p>5 rows × 103 columns</p>\n",
       "</div>"
      ],
      "text/plain": [
       "                                                    criteria  \\\n",
       "event_id                                                       \n",
       "exon:chr10:100190328-100190427:-@exon:chr10:100...      best   \n",
       "exon:chr10:100193697-100193848:-@exon:chr10:100...  only one   \n",
       "exon:chr10:100195392-100195529:-@exon:chr10:100...      best   \n",
       "exon:chr10:101165513-101165617:-@exon:chr10:101...  only one   \n",
       "exon:chr10:101419263-101419345:+@exon:chr10:101...  only one   \n",
       "\n",
       "                                                   criteria_additional  \\\n",
       "event_id                                                                 \n",
       "exon:chr10:100190328-100190427:-@exon:chr10:100...    appris_principal   \n",
       "exon:chr10:100193697-100193848:-@exon:chr10:100...                 NaN   \n",
       "exon:chr10:100195392-100195529:-@exon:chr10:100...    appris_principal   \n",
       "exon:chr10:101165513-101165617:-@exon:chr10:101...                 NaN   \n",
       "exon:chr10:101419263-101419345:+@exon:chr10:101...                 NaN   \n",
       "\n",
       "                                                            criteria_full  \\\n",
       "event_id                                                                    \n",
       "exon:chr10:100190328-100190427:-@exon:chr10:100...  best,appris_principal   \n",
       "exon:chr10:100193697-100193848:-@exon:chr10:100...               only one   \n",
       "exon:chr10:100195392-100195529:-@exon:chr10:100...  best,appris_principal   \n",
       "exon:chr10:101165513-101165617:-@exon:chr10:101...               only one   \n",
       "exon:chr10:101419263-101419345:+@exon:chr10:101...               only one   \n",
       "\n",
       "                                                         ensembl_id  \\\n",
       "event_id                                                              \n",
       "exon:chr10:100190328-100190427:-@exon:chr10:100...  ENSG00000107521   \n",
       "exon:chr10:100193697-100193848:-@exon:chr10:100...  ENSG00000107521   \n",
       "exon:chr10:100195392-100195529:-@exon:chr10:100...  ENSG00000107521   \n",
       "exon:chr10:101165513-101165617:-@exon:chr10:101...  ENSG00000120053   \n",
       "exon:chr10:101419263-101419345:+@exon:chr10:101...  ENSG00000198018   \n",
       "\n",
       "                                                                               exon1  \\\n",
       "event_id                                                                               \n",
       "exon:chr10:100190328-100190427:-@exon:chr10:100...  exon:chr10:100190328-100190427:-   \n",
       "exon:chr10:100193697-100193848:-@exon:chr10:100...  exon:chr10:100193697-100193848:-   \n",
       "exon:chr10:100195392-100195529:-@exon:chr10:100...  exon:chr10:100195392-100195529:-   \n",
       "exon:chr10:101165513-101165617:-@exon:chr10:101...  exon:chr10:101165513-101165617:-   \n",
       "exon:chr10:101419263-101419345:+@exon:chr10:101...  exon:chr10:101419263-101419345:+   \n",
       "\n",
       "                                                    exon1_length  \\\n",
       "event_id                                                           \n",
       "exon:chr10:100190328-100190427:-@exon:chr10:100...           100   \n",
       "exon:chr10:100193697-100193848:-@exon:chr10:100...           152   \n",
       "exon:chr10:100195392-100195529:-@exon:chr10:100...           138   \n",
       "exon:chr10:101165513-101165617:-@exon:chr10:101...           105   \n",
       "exon:chr10:101419263-101419345:+@exon:chr10:101...            83   \n",
       "\n",
       "                                                                               exon2  \\\n",
       "event_id                                                                               \n",
       "exon:chr10:100190328-100190427:-@exon:chr10:100...  exon:chr10:100189548-100189646:-   \n",
       "exon:chr10:100193697-100193848:-@exon:chr10:100...  exon:chr10:100190888-100191048:-   \n",
       "exon:chr10:100195392-100195529:-@exon:chr10:100...  exon:chr10:100195029-100195171:-   \n",
       "exon:chr10:101165513-101165617:-@exon:chr10:101...  exon:chr10:101163481-101163631:-   \n",
       "exon:chr10:101419263-101419345:+@exon:chr10:101...  exon:chr10:101419619-101419721:+   \n",
       "\n",
       "                                                    exon2_length  \\\n",
       "event_id                                                           \n",
       "exon:chr10:100190328-100190427:-@exon:chr10:100...            99   \n",
       "exon:chr10:100193697-100193848:-@exon:chr10:100...           161   \n",
       "exon:chr10:100195392-100195529:-@exon:chr10:100...           143   \n",
       "exon:chr10:101165513-101165617:-@exon:chr10:101...           151   \n",
       "exon:chr10:101419263-101419345:+@exon:chr10:101...           103   \n",
       "\n",
       "                                                                               exon3  \\\n",
       "event_id                                                                               \n",
       "exon:chr10:100190328-100190427:-@exon:chr10:100...  exon:chr10:100189330-100189399:-   \n",
       "exon:chr10:100193697-100193848:-@exon:chr10:100...  exon:chr10:100190328-100190427:-   \n",
       "exon:chr10:100195392-100195529:-@exon:chr10:100...  exon:chr10:100193697-100193848:-   \n",
       "exon:chr10:101165513-101165617:-@exon:chr10:101...  exon:chr10:101163226-101163391:-   \n",
       "exon:chr10:101419263-101419345:+@exon:chr10:101...  exon:chr10:101421203-101421385:+   \n",
       "\n",
       "                                                    exon3_length   ...     \\\n",
       "event_id                                                           ...      \n",
       "exon:chr10:100190328-100190427:-@exon:chr10:100...            70   ...      \n",
       "exon:chr10:100193697-100193848:-@exon:chr10:100...           100   ...      \n",
       "exon:chr10:100195392-100195529:-@exon:chr10:100...           152   ...      \n",
       "exon:chr10:101165513-101165617:-@exon:chr10:101...           166   ...      \n",
       "exon:chr10:101419263-101419345:+@exon:chr10:101...           183   ...      \n",
       "\n",
       "                                                   isoform1_pfam_go_id  \\\n",
       "event_id                                                                 \n",
       "exon:chr10:100190328-100190427:-@exon:chr10:100...                 NaN   \n",
       "exon:chr10:100193697-100193848:-@exon:chr10:100...                 NaN   \n",
       "exon:chr10:100195392-100195529:-@exon:chr10:100...                 NaN   \n",
       "exon:chr10:101165513-101165617:-@exon:chr10:101...                 NaN   \n",
       "exon:chr10:101419263-101419345:+@exon:chr10:101...                 NaN   \n",
       "\n",
       "                                                    isoform1_pfam_go_name  \\\n",
       "event_id                                                                    \n",
       "exon:chr10:100190328-100190427:-@exon:chr10:100...                    NaN   \n",
       "exon:chr10:100193697-100193848:-@exon:chr10:100...                    NaN   \n",
       "exon:chr10:100195392-100195529:-@exon:chr10:100...                    NaN   \n",
       "exon:chr10:101165513-101165617:-@exon:chr10:101...                    NaN   \n",
       "exon:chr10:101419263-101419345:+@exon:chr10:101...                    NaN   \n",
       "\n",
       "                                                   isoform1_pfam_name  \\\n",
       "event_id                                                                \n",
       "exon:chr10:100190328-100190427:-@exon:chr10:100...                NaN   \n",
       "exon:chr10:100193697-100193848:-@exon:chr10:100...                NaN   \n",
       "exon:chr10:100195392-100195529:-@exon:chr10:100...                NaN   \n",
       "exon:chr10:101165513-101165617:-@exon:chr10:101...                NaN   \n",
       "exon:chr10:101419263-101419345:+@exon:chr10:101...                NaN   \n",
       "\n",
       "                                                   isoform2_pfam_accession  \\\n",
       "event_id                                                                     \n",
       "exon:chr10:100190328-100190427:-@exon:chr10:100...                     NaN   \n",
       "exon:chr10:100193697-100193848:-@exon:chr10:100...                     NaN   \n",
       "exon:chr10:100195392-100195529:-@exon:chr10:100...                     NaN   \n",
       "exon:chr10:101165513-101165617:-@exon:chr10:101...           PF00155.16[1]   \n",
       "exon:chr10:101419263-101419345:+@exon:chr10:101...                     NaN   \n",
       "\n",
       "                                                            isoform2_pfam_go_id  \\\n",
       "event_id                                                                          \n",
       "exon:chr10:100190328-100190427:-@exon:chr10:100...                          NaN   \n",
       "exon:chr10:100193697-100193848:-@exon:chr10:100...                          NaN   \n",
       "exon:chr10:100195392-100195529:-@exon:chr10:100...                          NaN   \n",
       "exon:chr10:101165513-101165617:-@exon:chr10:101...  GO:0030170[1],GO:0009058[1]   \n",
       "exon:chr10:101419263-101419345:+@exon:chr10:101...                          NaN   \n",
       "\n",
       "                                                                                isoform2_pfam_go_name  \\\n",
       "event_id                                                                                                \n",
       "exon:chr10:100190328-100190427:-@exon:chr10:100...                                                NaN   \n",
       "exon:chr10:100193697-100193848:-@exon:chr10:100...                                                NaN   \n",
       "exon:chr10:100195392-100195529:-@exon:chr10:100...                                                NaN   \n",
       "exon:chr10:101165513-101165617:-@exon:chr10:101...  (pyridoxal phosphate binding)[1],(biosynthetic...   \n",
       "exon:chr10:101419263-101419345:+@exon:chr10:101...                                                NaN   \n",
       "\n",
       "                                                   isoform2_pfam_name  \\\n",
       "event_id                                                                \n",
       "exon:chr10:100190328-100190427:-@exon:chr10:100...                NaN   \n",
       "exon:chr10:100193697-100193848:-@exon:chr10:100...                NaN   \n",
       "exon:chr10:100195392-100195529:-@exon:chr10:100...                NaN   \n",
       "exon:chr10:101165513-101165617:-@exon:chr10:101...   Aminotran_1_2[1]   \n",
       "exon:chr10:101419263-101419345:+@exon:chr10:101...                NaN   \n",
       "\n",
       "                                                                               isoform_domain_effects  \\\n",
       "event_id                                                                                                \n",
       "exon:chr10:100190328-100190427:-@exon:chr10:100...  No annotated reading frame --> Protein +/- domain   \n",
       "exon:chr10:100193697-100193848:-@exon:chr10:100...                                                NaN   \n",
       "exon:chr10:100195392-100195529:-@exon:chr10:100...                                                NaN   \n",
       "exon:chr10:101165513-101165617:-@exon:chr10:101...  No annotated reading frame --> Protein +/- domain   \n",
       "exon:chr10:101419263-101419345:+@exon:chr10:101...                                                NaN   \n",
       "\n",
       "                                                   custom_1 custom_2  \n",
       "event_id                                                              \n",
       "exon:chr10:100190328-100190427:-@exon:chr10:100...    False    False  \n",
       "exon:chr10:100193697-100193848:-@exon:chr10:100...    False    False  \n",
       "exon:chr10:100195392-100195529:-@exon:chr10:100...    False    False  \n",
       "exon:chr10:101165513-101165617:-@exon:chr10:101...     True     True  \n",
       "exon:chr10:101419263-101419345:+@exon:chr10:101...     True     True  \n",
       "\n",
       "[5 rows x 103 columns]"
      ]
     },
     "execution_count": 5,
     "metadata": {},
     "output_type": "execute_result"
    }
   ],
   "source": [
    "splicing_feature_data = pd.read_csv('{}/singlecell_pnm_figure4_voyages/splicing_feature.csv.gz'.format(flotilla_dir), \n",
    "                                          index_col=0, compression='gzip')\n",
    "print splicing_feature_data.shape\n",
    "splicing_feature_data.head()"
   ]
  },
  {
   "cell_type": "code",
   "execution_count": 6,
   "metadata": {
    "collapsed": false
   },
   "outputs": [],
   "source": [
    "join_cols = splicing_feature_data.columns.difference(study.splicing.feature_data.columns)\n",
    "study.splicing.feature_data = study.splicing.feature_data.join(splicing_feature_data[join_cols])"
   ]
  },
  {
   "cell_type": "code",
   "execution_count": 7,
   "metadata": {
    "collapsed": false
   },
   "outputs": [
    {
     "data": {
      "text/html": [
       "<div>\n",
       "<table border=\"1\" class=\"dataframe\">\n",
       "  <thead>\n",
       "    <tr style=\"text-align: right;\">\n",
       "      <th></th>\n",
       "      <th>criteria</th>\n",
       "      <th>criteria_additional</th>\n",
       "      <th>criteria_full</th>\n",
       "      <th>ensembl_id</th>\n",
       "      <th>exon1</th>\n",
       "      <th>exon1_length</th>\n",
       "      <th>exon2</th>\n",
       "      <th>exon2_length</th>\n",
       "      <th>exon3</th>\n",
       "      <th>exon3_length</th>\n",
       "      <th>...</th>\n",
       "      <th>isoform1_pfam_go_id</th>\n",
       "      <th>isoform1_pfam_go_name</th>\n",
       "      <th>isoform1_pfam_name</th>\n",
       "      <th>isoform2_pfam_accession</th>\n",
       "      <th>isoform2_pfam_go_id</th>\n",
       "      <th>isoform2_pfam_go_name</th>\n",
       "      <th>isoform2_pfam_name</th>\n",
       "      <th>isoform_domain_effects</th>\n",
       "      <th>custom_1</th>\n",
       "      <th>custom_2</th>\n",
       "    </tr>\n",
       "    <tr>\n",
       "      <th>event_id</th>\n",
       "      <th></th>\n",
       "      <th></th>\n",
       "      <th></th>\n",
       "      <th></th>\n",
       "      <th></th>\n",
       "      <th></th>\n",
       "      <th></th>\n",
       "      <th></th>\n",
       "      <th></th>\n",
       "      <th></th>\n",
       "      <th></th>\n",
       "      <th></th>\n",
       "      <th></th>\n",
       "      <th></th>\n",
       "      <th></th>\n",
       "      <th></th>\n",
       "      <th></th>\n",
       "      <th></th>\n",
       "      <th></th>\n",
       "      <th></th>\n",
       "      <th></th>\n",
       "    </tr>\n",
       "  </thead>\n",
       "  <tbody>\n",
       "    <tr>\n",
       "      <th>exon:chr10:100190328-100190427:-@exon:chr10:100189548-100189646:-@exon:chr10:100189330-100189399:-</th>\n",
       "      <td>best</td>\n",
       "      <td>appris_principal</td>\n",
       "      <td>best,appris_principal</td>\n",
       "      <td>ENSG00000107521</td>\n",
       "      <td>exon:chr10:100190328-100190427:-</td>\n",
       "      <td>100</td>\n",
       "      <td>exon:chr10:100189548-100189646:-</td>\n",
       "      <td>99</td>\n",
       "      <td>exon:chr10:100189330-100189399:-</td>\n",
       "      <td>70</td>\n",
       "      <td>...</td>\n",
       "      <td>NaN</td>\n",
       "      <td>NaN</td>\n",
       "      <td>NaN</td>\n",
       "      <td>NaN</td>\n",
       "      <td>NaN</td>\n",
       "      <td>NaN</td>\n",
       "      <td>NaN</td>\n",
       "      <td>No annotated reading frame --&gt; Protein +/- domain</td>\n",
       "      <td>False</td>\n",
       "      <td>False</td>\n",
       "    </tr>\n",
       "    <tr>\n",
       "      <th>exon:chr10:100193697-100193848:-@exon:chr10:100190888-100191048:-@exon:chr10:100190328-100190427:-</th>\n",
       "      <td>only one</td>\n",
       "      <td>NaN</td>\n",
       "      <td>only one</td>\n",
       "      <td>ENSG00000107521</td>\n",
       "      <td>exon:chr10:100193697-100193848:-</td>\n",
       "      <td>152</td>\n",
       "      <td>exon:chr10:100190888-100191048:-</td>\n",
       "      <td>161</td>\n",
       "      <td>exon:chr10:100190328-100190427:-</td>\n",
       "      <td>100</td>\n",
       "      <td>...</td>\n",
       "      <td>NaN</td>\n",
       "      <td>NaN</td>\n",
       "      <td>NaN</td>\n",
       "      <td>NaN</td>\n",
       "      <td>NaN</td>\n",
       "      <td>NaN</td>\n",
       "      <td>NaN</td>\n",
       "      <td>NaN</td>\n",
       "      <td>False</td>\n",
       "      <td>False</td>\n",
       "    </tr>\n",
       "    <tr>\n",
       "      <th>exon:chr10:100195392-100195529:-@exon:chr10:100195029-100195171:-@exon:chr10:100193697-100193848:-</th>\n",
       "      <td>best</td>\n",
       "      <td>appris_principal</td>\n",
       "      <td>best,appris_principal</td>\n",
       "      <td>ENSG00000107521</td>\n",
       "      <td>exon:chr10:100195392-100195529:-</td>\n",
       "      <td>138</td>\n",
       "      <td>exon:chr10:100195029-100195171:-</td>\n",
       "      <td>143</td>\n",
       "      <td>exon:chr10:100193697-100193848:-</td>\n",
       "      <td>152</td>\n",
       "      <td>...</td>\n",
       "      <td>NaN</td>\n",
       "      <td>NaN</td>\n",
       "      <td>NaN</td>\n",
       "      <td>NaN</td>\n",
       "      <td>NaN</td>\n",
       "      <td>NaN</td>\n",
       "      <td>NaN</td>\n",
       "      <td>NaN</td>\n",
       "      <td>False</td>\n",
       "      <td>False</td>\n",
       "    </tr>\n",
       "    <tr>\n",
       "      <th>exon:chr10:101165513-101165617:-@exon:chr10:101163481-101163631:-@exon:chr10:101163226-101163391:-</th>\n",
       "      <td>only one</td>\n",
       "      <td>NaN</td>\n",
       "      <td>only one</td>\n",
       "      <td>ENSG00000120053</td>\n",
       "      <td>exon:chr10:101165513-101165617:-</td>\n",
       "      <td>105</td>\n",
       "      <td>exon:chr10:101163481-101163631:-</td>\n",
       "      <td>151</td>\n",
       "      <td>exon:chr10:101163226-101163391:-</td>\n",
       "      <td>166</td>\n",
       "      <td>...</td>\n",
       "      <td>NaN</td>\n",
       "      <td>NaN</td>\n",
       "      <td>NaN</td>\n",
       "      <td>PF00155.16[1]</td>\n",
       "      <td>GO:0030170[1],GO:0009058[1]</td>\n",
       "      <td>(pyridoxal phosphate binding)[1],(biosynthetic...</td>\n",
       "      <td>Aminotran_1_2[1]</td>\n",
       "      <td>No annotated reading frame --&gt; Protein +/- domain</td>\n",
       "      <td>True</td>\n",
       "      <td>True</td>\n",
       "    </tr>\n",
       "    <tr>\n",
       "      <th>exon:chr10:101419263-101419345:+@exon:chr10:101419619-101419721:+@exon:chr10:101421203-101421385:+</th>\n",
       "      <td>only one</td>\n",
       "      <td>NaN</td>\n",
       "      <td>only one</td>\n",
       "      <td>ENSG00000198018</td>\n",
       "      <td>exon:chr10:101419263-101419345:+</td>\n",
       "      <td>83</td>\n",
       "      <td>exon:chr10:101419619-101419721:+</td>\n",
       "      <td>103</td>\n",
       "      <td>exon:chr10:101421203-101421385:+</td>\n",
       "      <td>183</td>\n",
       "      <td>...</td>\n",
       "      <td>NaN</td>\n",
       "      <td>NaN</td>\n",
       "      <td>NaN</td>\n",
       "      <td>NaN</td>\n",
       "      <td>NaN</td>\n",
       "      <td>NaN</td>\n",
       "      <td>NaN</td>\n",
       "      <td>NaN</td>\n",
       "      <td>True</td>\n",
       "      <td>True</td>\n",
       "    </tr>\n",
       "  </tbody>\n",
       "</table>\n",
       "<p>5 rows × 103 columns</p>\n",
       "</div>"
      ],
      "text/plain": [
       "                                                    criteria  \\\n",
       "event_id                                                       \n",
       "exon:chr10:100190328-100190427:-@exon:chr10:100...      best   \n",
       "exon:chr10:100193697-100193848:-@exon:chr10:100...  only one   \n",
       "exon:chr10:100195392-100195529:-@exon:chr10:100...      best   \n",
       "exon:chr10:101165513-101165617:-@exon:chr10:101...  only one   \n",
       "exon:chr10:101419263-101419345:+@exon:chr10:101...  only one   \n",
       "\n",
       "                                                   criteria_additional  \\\n",
       "event_id                                                                 \n",
       "exon:chr10:100190328-100190427:-@exon:chr10:100...    appris_principal   \n",
       "exon:chr10:100193697-100193848:-@exon:chr10:100...                 NaN   \n",
       "exon:chr10:100195392-100195529:-@exon:chr10:100...    appris_principal   \n",
       "exon:chr10:101165513-101165617:-@exon:chr10:101...                 NaN   \n",
       "exon:chr10:101419263-101419345:+@exon:chr10:101...                 NaN   \n",
       "\n",
       "                                                            criteria_full  \\\n",
       "event_id                                                                    \n",
       "exon:chr10:100190328-100190427:-@exon:chr10:100...  best,appris_principal   \n",
       "exon:chr10:100193697-100193848:-@exon:chr10:100...               only one   \n",
       "exon:chr10:100195392-100195529:-@exon:chr10:100...  best,appris_principal   \n",
       "exon:chr10:101165513-101165617:-@exon:chr10:101...               only one   \n",
       "exon:chr10:101419263-101419345:+@exon:chr10:101...               only one   \n",
       "\n",
       "                                                         ensembl_id  \\\n",
       "event_id                                                              \n",
       "exon:chr10:100190328-100190427:-@exon:chr10:100...  ENSG00000107521   \n",
       "exon:chr10:100193697-100193848:-@exon:chr10:100...  ENSG00000107521   \n",
       "exon:chr10:100195392-100195529:-@exon:chr10:100...  ENSG00000107521   \n",
       "exon:chr10:101165513-101165617:-@exon:chr10:101...  ENSG00000120053   \n",
       "exon:chr10:101419263-101419345:+@exon:chr10:101...  ENSG00000198018   \n",
       "\n",
       "                                                                               exon1  \\\n",
       "event_id                                                                               \n",
       "exon:chr10:100190328-100190427:-@exon:chr10:100...  exon:chr10:100190328-100190427:-   \n",
       "exon:chr10:100193697-100193848:-@exon:chr10:100...  exon:chr10:100193697-100193848:-   \n",
       "exon:chr10:100195392-100195529:-@exon:chr10:100...  exon:chr10:100195392-100195529:-   \n",
       "exon:chr10:101165513-101165617:-@exon:chr10:101...  exon:chr10:101165513-101165617:-   \n",
       "exon:chr10:101419263-101419345:+@exon:chr10:101...  exon:chr10:101419263-101419345:+   \n",
       "\n",
       "                                                    exon1_length  \\\n",
       "event_id                                                           \n",
       "exon:chr10:100190328-100190427:-@exon:chr10:100...           100   \n",
       "exon:chr10:100193697-100193848:-@exon:chr10:100...           152   \n",
       "exon:chr10:100195392-100195529:-@exon:chr10:100...           138   \n",
       "exon:chr10:101165513-101165617:-@exon:chr10:101...           105   \n",
       "exon:chr10:101419263-101419345:+@exon:chr10:101...            83   \n",
       "\n",
       "                                                                               exon2  \\\n",
       "event_id                                                                               \n",
       "exon:chr10:100190328-100190427:-@exon:chr10:100...  exon:chr10:100189548-100189646:-   \n",
       "exon:chr10:100193697-100193848:-@exon:chr10:100...  exon:chr10:100190888-100191048:-   \n",
       "exon:chr10:100195392-100195529:-@exon:chr10:100...  exon:chr10:100195029-100195171:-   \n",
       "exon:chr10:101165513-101165617:-@exon:chr10:101...  exon:chr10:101163481-101163631:-   \n",
       "exon:chr10:101419263-101419345:+@exon:chr10:101...  exon:chr10:101419619-101419721:+   \n",
       "\n",
       "                                                    exon2_length  \\\n",
       "event_id                                                           \n",
       "exon:chr10:100190328-100190427:-@exon:chr10:100...            99   \n",
       "exon:chr10:100193697-100193848:-@exon:chr10:100...           161   \n",
       "exon:chr10:100195392-100195529:-@exon:chr10:100...           143   \n",
       "exon:chr10:101165513-101165617:-@exon:chr10:101...           151   \n",
       "exon:chr10:101419263-101419345:+@exon:chr10:101...           103   \n",
       "\n",
       "                                                                               exon3  \\\n",
       "event_id                                                                               \n",
       "exon:chr10:100190328-100190427:-@exon:chr10:100...  exon:chr10:100189330-100189399:-   \n",
       "exon:chr10:100193697-100193848:-@exon:chr10:100...  exon:chr10:100190328-100190427:-   \n",
       "exon:chr10:100195392-100195529:-@exon:chr10:100...  exon:chr10:100193697-100193848:-   \n",
       "exon:chr10:101165513-101165617:-@exon:chr10:101...  exon:chr10:101163226-101163391:-   \n",
       "exon:chr10:101419263-101419345:+@exon:chr10:101...  exon:chr10:101421203-101421385:+   \n",
       "\n",
       "                                                    exon3_length   ...     \\\n",
       "event_id                                                           ...      \n",
       "exon:chr10:100190328-100190427:-@exon:chr10:100...            70   ...      \n",
       "exon:chr10:100193697-100193848:-@exon:chr10:100...           100   ...      \n",
       "exon:chr10:100195392-100195529:-@exon:chr10:100...           152   ...      \n",
       "exon:chr10:101165513-101165617:-@exon:chr10:101...           166   ...      \n",
       "exon:chr10:101419263-101419345:+@exon:chr10:101...           183   ...      \n",
       "\n",
       "                                                   isoform1_pfam_go_id  \\\n",
       "event_id                                                                 \n",
       "exon:chr10:100190328-100190427:-@exon:chr10:100...                 NaN   \n",
       "exon:chr10:100193697-100193848:-@exon:chr10:100...                 NaN   \n",
       "exon:chr10:100195392-100195529:-@exon:chr10:100...                 NaN   \n",
       "exon:chr10:101165513-101165617:-@exon:chr10:101...                 NaN   \n",
       "exon:chr10:101419263-101419345:+@exon:chr10:101...                 NaN   \n",
       "\n",
       "                                                    isoform1_pfam_go_name  \\\n",
       "event_id                                                                    \n",
       "exon:chr10:100190328-100190427:-@exon:chr10:100...                    NaN   \n",
       "exon:chr10:100193697-100193848:-@exon:chr10:100...                    NaN   \n",
       "exon:chr10:100195392-100195529:-@exon:chr10:100...                    NaN   \n",
       "exon:chr10:101165513-101165617:-@exon:chr10:101...                    NaN   \n",
       "exon:chr10:101419263-101419345:+@exon:chr10:101...                    NaN   \n",
       "\n",
       "                                                   isoform1_pfam_name  \\\n",
       "event_id                                                                \n",
       "exon:chr10:100190328-100190427:-@exon:chr10:100...                NaN   \n",
       "exon:chr10:100193697-100193848:-@exon:chr10:100...                NaN   \n",
       "exon:chr10:100195392-100195529:-@exon:chr10:100...                NaN   \n",
       "exon:chr10:101165513-101165617:-@exon:chr10:101...                NaN   \n",
       "exon:chr10:101419263-101419345:+@exon:chr10:101...                NaN   \n",
       "\n",
       "                                                   isoform2_pfam_accession  \\\n",
       "event_id                                                                     \n",
       "exon:chr10:100190328-100190427:-@exon:chr10:100...                     NaN   \n",
       "exon:chr10:100193697-100193848:-@exon:chr10:100...                     NaN   \n",
       "exon:chr10:100195392-100195529:-@exon:chr10:100...                     NaN   \n",
       "exon:chr10:101165513-101165617:-@exon:chr10:101...           PF00155.16[1]   \n",
       "exon:chr10:101419263-101419345:+@exon:chr10:101...                     NaN   \n",
       "\n",
       "                                                            isoform2_pfam_go_id  \\\n",
       "event_id                                                                          \n",
       "exon:chr10:100190328-100190427:-@exon:chr10:100...                          NaN   \n",
       "exon:chr10:100193697-100193848:-@exon:chr10:100...                          NaN   \n",
       "exon:chr10:100195392-100195529:-@exon:chr10:100...                          NaN   \n",
       "exon:chr10:101165513-101165617:-@exon:chr10:101...  GO:0030170[1],GO:0009058[1]   \n",
       "exon:chr10:101419263-101419345:+@exon:chr10:101...                          NaN   \n",
       "\n",
       "                                                                                isoform2_pfam_go_name  \\\n",
       "event_id                                                                                                \n",
       "exon:chr10:100190328-100190427:-@exon:chr10:100...                                                NaN   \n",
       "exon:chr10:100193697-100193848:-@exon:chr10:100...                                                NaN   \n",
       "exon:chr10:100195392-100195529:-@exon:chr10:100...                                                NaN   \n",
       "exon:chr10:101165513-101165617:-@exon:chr10:101...  (pyridoxal phosphate binding)[1],(biosynthetic...   \n",
       "exon:chr10:101419263-101419345:+@exon:chr10:101...                                                NaN   \n",
       "\n",
       "                                                   isoform2_pfam_name  \\\n",
       "event_id                                                                \n",
       "exon:chr10:100190328-100190427:-@exon:chr10:100...                NaN   \n",
       "exon:chr10:100193697-100193848:-@exon:chr10:100...                NaN   \n",
       "exon:chr10:100195392-100195529:-@exon:chr10:100...                NaN   \n",
       "exon:chr10:101165513-101165617:-@exon:chr10:101...   Aminotran_1_2[1]   \n",
       "exon:chr10:101419263-101419345:+@exon:chr10:101...                NaN   \n",
       "\n",
       "                                                                               isoform_domain_effects  \\\n",
       "event_id                                                                                                \n",
       "exon:chr10:100190328-100190427:-@exon:chr10:100...  No annotated reading frame --> Protein +/- domain   \n",
       "exon:chr10:100193697-100193848:-@exon:chr10:100...                                                NaN   \n",
       "exon:chr10:100195392-100195529:-@exon:chr10:100...                                                NaN   \n",
       "exon:chr10:101165513-101165617:-@exon:chr10:101...  No annotated reading frame --> Protein +/- domain   \n",
       "exon:chr10:101419263-101419345:+@exon:chr10:101...                                                NaN   \n",
       "\n",
       "                                                   custom_1 custom_2  \n",
       "event_id                                                              \n",
       "exon:chr10:100190328-100190427:-@exon:chr10:100...    False    False  \n",
       "exon:chr10:100193697-100193848:-@exon:chr10:100...    False    False  \n",
       "exon:chr10:100195392-100195529:-@exon:chr10:100...    False    False  \n",
       "exon:chr10:101165513-101165617:-@exon:chr10:101...     True     True  \n",
       "exon:chr10:101419263-101419345:+@exon:chr10:101...     True     True  \n",
       "\n",
       "[5 rows x 103 columns]"
      ]
     },
     "execution_count": 7,
     "metadata": {},
     "output_type": "execute_result"
    }
   ],
   "source": [
    "join_cols = study.expression.feature_data.columns.difference(splicing_feature_data.columns)\n",
    "\n",
    "study.splicing.feature_data = splicing_feature_data.join(study.expression.feature_data[join_cols], on='one_ensembl_id')\n",
    "study.splicing.feature_data.head()"
   ]
  },
  {
   "cell_type": "code",
   "execution_count": 8,
   "metadata": {
    "collapsed": false
   },
   "outputs": [
    {
     "name": "stdout",
     "output_type": "stream",
     "text": [
      "Wrote datapackage to /home/obotvinnik/flotilla_projects/singlecell_pnm_figure3_modalities_bayesian_features/datapackage.json\n"
     ]
    }
   ],
   "source": [
    "study.save('singlecell_pnm_figure3_modalities_bayesian_features')"
   ]
  },
  {
   "cell_type": "markdown",
   "metadata": {},
   "source": [
    "## Global features of modalities"
   ]
  },
  {
   "cell_type": "markdown",
   "metadata": {},
   "source": [
    "### Random examples of modalities"
   ]
  },
  {
   "cell_type": "code",
   "execution_count": null,
   "metadata": {
    "collapsed": false,
    "scrolled": false
   },
   "outputs": [
    {
     "name": "stdout",
     "output_type": "stream",
     "text": [
      "mkdir: cannot create directory `/home/obotvinnik/Dropbox/figures2/singlecell_pnm/figure2_modalities/bayesian/random_estimated_modalities': File exists\r\n"
     ]
    },
    {
     "name": "stderr",
     "output_type": "stream",
     "text": [
      "/home/obotvinnik/anaconda/lib/python2.7/site-packages/ipykernel/__main__.py:25: FutureWarning: sort is deprecated, use sort_values(inplace=True) for for INPLACE sorting\n",
      "/home/obotvinnik/anaconda/lib/python2.7/site-packages/matplotlib/collections.py:590: FutureWarning: elementwise comparison failed; returning scalar instead, but in the future will perform elementwise comparison\n",
      "  if self._edgecolors == str('face'):\n"
     ]
    },
    {
     "data": {
      "image/png": "[encoded data removed]",
      "text/plain": [
       "<matplotlib.figure.Figure at 0x2b1ad8696790>"
      ]
     },
     "metadata": {},
     "output_type": "display_data"
    },
    {
     "data": {
      "image/png": "[encoded data removed]",
      "text/plain": [
       "<matplotlib.figure.Figure at 0x2b1ad8696750>"
      ]
     },
     "metadata": {},
     "output_type": "display_data"
    },
    {
     "data": {
      "image/png": "[encoded data removed]",
      "text/plain": [
       "<matplotlib.figure.Figure at 0x2b1adb766850>"
      ]
     },
     "metadata": {},
     "output_type": "display_data"
    },
    {
     "data": {
      "image/png": "[encoded data removed]",
      "text/plain": [
       "<matplotlib.figure.Figure at 0x2b1ae232f490>"
      ]
     },
     "metadata": {},
     "output_type": "display_data"
    },
    {
     "data": {
      "image/png": "[encoded data removed]",
      "text/plain": [
       "<matplotlib.figure.Figure at 0x2b1adafd2210>"
      ]
     },
     "metadata": {},
     "output_type": "display_data"
    },
    {
     "data": {
      "image/png": "[encoded data removed]",
      "text/plain": [
       "<matplotlib.figure.Figure at 0x2b1adb754290>"
      ]
     },
     "metadata": {},
     "output_type": "display_data"
    },
    {
     "data": {
      "image/png": "[encoded data removed]",
      "text/plain": [
       "<matplotlib.figure.Figure at 0x2b1adb874ed0>"
      ]
     },
     "metadata": {},
     "output_type": "display_data"
    },
    {
     "data": {
      "image/png": "[encoded data removed]",
      "text/plain": [
       "<matplotlib.figure.Figure at 0x2b1adafd2810>"
      ]
     },
     "metadata": {},
     "output_type": "display_data"
    },
    {
     "data": {
      "image/png": "[encoded data removed]",
      "text/plain": [
       "<matplotlib.figure.Figure at 0x2b1adb8679d0>"
      ]
     },
     "metadata": {},
     "output_type": "display_data"
    },
    {
     "data": {
      "image/png": "[encoded data removed]",
      "text/plain": [
       "<matplotlib.figure.Figure at 0x2b1adb9a5410>"
      ]
     },
     "metadata": {},
     "output_type": "display_data"
    },
    {
     "data": {
      "image/png": "[encoded data removed]",
      "text/plain": [
       "<matplotlib.figure.Figure at 0x2b1af4625d90>"
      ]
     },
     "metadata": {},
     "output_type": "display_data"
    },
    {
     "data": {
      "image/png": "[encoded data removed]",
      "text/plain": [
       "<matplotlib.figure.Figure at 0x2b1b0e0b1590>"
      ]
     },
     "metadata": {},
     "output_type": "display_data"
    },
    {
     "data": {
      "image/png": "[encoded data removed]",
      "text/plain": [
       "<matplotlib.figure.Figure at 0x2b1af47c5290>"
      ]
     },
     "metadata": {},
     "output_type": "display_data"
    }
   ],
   "source": [
    "random_examples_folder = '{}/random_estimated_modalities'.format(folder)\n",
    "! mkdir $random_examples_folder\n",
    "\n",
    "\n",
    "from modish import MODALITY_TO_COLOR, MODALITY_ORDER, MODALITY_PALETTE\n",
    "\n",
    "\n",
    "psi_grouped = splicing_singles_no_outliers.groupby(study.sample_id_to_phenotype)\n",
    "\n",
    "n_violins = 5\n",
    "width = n_violins * 1\n",
    "height = 3\n",
    "\n",
    "for (phenotype, modality), df in study.supplemental.modalities_tidy.groupby(['phenotype', 'modality']):\n",
    "    try:\n",
    "        random_events = np.random.choice(df.event_name, size=n_violins, replace=False)\n",
    "    except ValueError:\n",
    "        random_events = df.event_name\n",
    "\n",
    "#     print phenotype, modality\n",
    "    psi_subset = splicing_singles_no_outliers.ix[psi_grouped.groups[phenotype], random_events]\n",
    "    fig, ax = plt.subplots(figsize=(width, height))\n",
    "    \n",
    "    ordering_scores = psi_subset.apply(flotilla.compute.splicing.switchy_score, axis=0)\n",
    "    ordering_scores.sort()\n",
    "    \n",
    "    psi_tidy = psi_subset.unstack().reset_index().dropna()\n",
    "    psi_tidy = psi_tidy.rename(columns={'level_0': 'event_name', 0: '$\\Psi$', 'level_1': 'sample_id'})\n",
    "\n",
    "    \n",
    "    color = MODALITY_TO_COLOR[modality]\n",
    "    sns.violinplot(x='event_name', y='$\\Psi$', data=psi_tidy, ax=ax, bw=0.2, scale='width', color=color, inner=None,\n",
    "                   order=ordering_scores.index)\n",
    "    sns.stripplot(x='event_name', y='$\\Psi$', data=psi_tidy, ax=ax, jitter=True, color=color,\n",
    "                  order=ordering_scores.index)\n",
    "    if modality == 'middle':\n",
    "        for x in ax.get_xticklabels():\n",
    "            x = x.get_text()\n",
    "    xticklabels = study.splicing.feature_data.loc[random_events, 'gene_name']\n",
    "    ax.set(xticklabels=xticklabels, yticks=[0, 0.5, 1], ylim=(0, 1), xlabel='', xlim=(-0.5, n_violins-0.5))\n",
    "    sns.despine()\n",
    "    fig.tight_layout()\n",
    "    fig.savefig('{}/estimated_modalities_violins_{}_{}.pdf'.format(random_examples_folder, modality, phenotype))"
   ]
  },
  {
   "cell_type": "markdown",
   "metadata": {},
   "source": [
    "### Clustering of modalities"
   ]
  },
  {
   "cell_type": "code",
   "execution_count": null,
   "metadata": {
    "collapsed": false
   },
   "outputs": [
    {
     "name": "stdout",
     "output_type": "stream",
     "text": [
      "mkdir: cannot create directory `/home/obotvinnik/Dropbox/figures2/singlecell_pnm/figure2_modalities/bayesian/modality_clustering': File exists\r\n"
     ]
    }
   ],
   "source": [
    "modality_clustering_folder = '{}/modality_clustering'.format(folder)\n",
    "! mkdir $modality_clustering_folder\n",
    "\n",
    "featurewises = True, False\n",
    "\n",
    "for (phenotype, modality), df in study.supplemental.modalities_tidy.groupby(['phenotype', 'modality']):\n",
    "    print phenotype, modality, df.shape\n",
    "    if df.shape[0] < 5:\n",
    "        continue\n",
    "    for featurewise in featurewises:\n",
    "        g = study.plot_correlations(data_type='splicing', sample_subset=phenotype, feature_subset=df.event_name,\n",
    "                                   featurewise=featurewise, metric='cityblock')\n",
    "        suffix = '_featurewise' if featurewise else ''\n",
    "        g.savefig('{}/{}_{}{}.pdf'.format(modality_clustering_folder, phenotype, modality, suffix))"
   ]
  },
  {
   "cell_type": "markdown",
   "metadata": {},
   "source": [
    "\n",
    "### Overlap of modalities"
   ]
  },
  {
   "cell_type": "code",
   "execution_count": null,
   "metadata": {
    "collapsed": false
   },
   "outputs": [],
   "source": [
    "import matplotlib_venn\n",
    "\n",
    "for modality, df in study.supplemental.modalities_tidy.groupby('modality'):\n",
    "    fig, ax = plt.subplots(figsize=(2.5, 2.5))\n",
    "    grouped = df.groupby('phenotype')\n",
    "    events = [set(grouped.get_group(p).event_name) if p in grouped.groups else set([]) for p in study.phenotype_order]\n",
    "    labels = study.phenotype_order\n",
    "    colors = [study.phenotype_to_color[x] for x in labels]\n",
    "    matplotlib_venn.venn3(events, set_labels=labels, set_colors=colors, ax=ax)\n",
    "    ax.set_title(modality)\n",
    "    fig.savefig('{}/modalities_venn_{}.pdf'.format(folder, modality))"
   ]
  },
  {
   "cell_type": "markdown",
   "metadata": {},
   "source": [
    "## Features of modalities\n",
    "\n",
    "### Gene features"
   ]
  },
  {
   "cell_type": "code",
   "execution_count": null,
   "metadata": {
    "collapsed": false
   },
   "outputs": [],
   "source": [
    "splicing_feature_data = pd.read_csv(\n",
    "    '/projects/ps-yeolab/obotvinnik/flotilla_projects/singlecell_pnm_figure4_voyages/splicing_feature.csv.gz', index_col=0, compression='gzip')\n",
    "study.splicing.feature_data = splicing_feature_data\n",
    "study.splicing.feature_data.head()"
   ]
  },
  {
   "cell_type": "markdown",
   "metadata": {},
   "source": [
    "### Modality expression"
   ]
  },
  {
   "cell_type": "code",
   "execution_count": null,
   "metadata": {
    "collapsed": true
   },
   "outputs": [],
   "source": [
    "study.splicing.feature_expression_id_col = 'ensembl_id'"
   ]
  },
  {
   "cell_type": "code",
   "execution_count": null,
   "metadata": {
    "collapsed": false
   },
   "outputs": [],
   "source": [
    "splicing_tidy = study.tidy_splicing_with_expression.copy()\n",
    "print splicing_tidy.shape\n",
    "splicing_tidy.head()"
   ]
  },
  {
   "cell_type": "code",
   "execution_count": null,
   "metadata": {
    "collapsed": false
   },
   "outputs": [],
   "source": [
    "singles_not_outliers = study.splicing.singles.index.difference(study.splicing.outliers.index)\n",
    "splicing_tidy_singles = splicing_tidy.ix[splicing_tidy.sample_id.isin(singles_not_outliers)]\n",
    "print splicing_tidy_singles.shape\n",
    "splicing_tidy_singles.head()"
   ]
  },
  {
   "cell_type": "code",
   "execution_count": null,
   "metadata": {
    "collapsed": false
   },
   "outputs": [],
   "source": [
    "splicing_tidy_singles = splicing_tidy_singles.join(study.sample_id_to_phenotype, on='sample_id')\n",
    "splicing_tidy_singles.head()"
   ]
  },
  {
   "cell_type": "code",
   "execution_count": null,
   "metadata": {
    "collapsed": false
   },
   "outputs": [],
   "source": [
    "modalities_expression = study.supplemental.modalities_tidy.merge(\n",
    "    splicing_tidy_singles, left_on=['event_name', 'phenotype'], right_on=['event_name', 'phenotype'])\n",
    "print modalities_expression.shape\n",
    "modalities_expression.head()\n"
   ]
  },
  {
   "cell_type": "code",
   "execution_count": null,
   "metadata": {
    "collapsed": false
   },
   "outputs": [],
   "source": [
    "modalities_expression = modalities_expression.join(modalities_expression.groupby(['event_name', 'sample_id']).expression.sum(),\n",
    "                           on=['event_name', 'sample_id'], rsuffix='_summed', lsuffix='_original')"
   ]
  },
  {
   "cell_type": "code",
   "execution_count": null,
   "metadata": {
    "collapsed": false
   },
   "outputs": [],
   "source": [
    "modalities_expression['$\\log_2(TPM+1)$'] = np.log2(modalities_expression.expression_summed+1)\n",
    "modalities_expression.head()"
   ]
  },
  {
   "cell_type": "code",
   "execution_count": null,
   "metadata": {
    "collapsed": true
   },
   "outputs": [],
   "source": [
    "from modish import MODALITY_ORDER, MODALITY_PALETTE"
   ]
  },
  {
   "cell_type": "code",
   "execution_count": null,
   "metadata": {
    "collapsed": false
   },
   "outputs": [],
   "source": [
    "\n",
    "g = sns.factorplot(y='$\\log_2(TPM+1)$', x='phenotype', hue='modality', data=modalities_expression, \n",
    "               kind='violin', aspect=2, cut=True, \n",
    "                   hue_order=MODALITY_ORDER, palette=MODALITY_PALETTE)\n",
    "g.set(ylim=(0, 15))\n",
    "g.savefig('{}/modalities_expression.pdf'.format(folder))"
   ]
  },
  {
   "cell_type": "code",
   "execution_count": null,
   "metadata": {
    "collapsed": false
   },
   "outputs": [],
   "source": [
    "col = '$\\log_2(TPM+1)$'\n",
    "g = sns.FacetGrid(modalities_expression,  col='phenotype', hue='modality', size=3,\n",
    "                   col_order=study.phenotype_order, \n",
    "                  hue_order=MODALITY_ORDER,\n",
    "                  palette=MODALITY_PALETTE, \n",
    "                  legend_out=True)\n",
    "g.map(flotilla.visualize.generic.cdfplot, col, log=False, alpha=0.75, linewidth=3)\n",
    "g.add_legend();\n",
    "g.set(ylim=(0, 1), xlim=(0, 15))\n",
    "for ax in g.axes.flat:\n",
    "    ax.locator_params('x', nbins=4)\n",
    "    if ax.is_first_col():\n",
    "        ax.locator_params('y', nbins=4)\n",
    "        ax.set_ylabel('Cummulative Distribution')\n",
    "g.savefig('{}/modalities_expression_cdf.pdf'.format(folder))"
   ]
  },
  {
   "cell_type": "markdown",
   "metadata": {},
   "source": [
    "### Splicing features"
   ]
  },
  {
   "cell_type": "code",
   "execution_count": null,
   "metadata": {
    "collapsed": false
   },
   "outputs": [],
   "source": [
    "sorted(study.splicing.feature_data.columns)"
   ]
  },
  {
   "cell_type": "code",
   "execution_count": null,
   "metadata": {
    "collapsed": false
   },
   "outputs": [],
   "source": [
    "modalities_annotated = study.supplemental.modalities_tidy.join(study.splicing.feature_data, on='event_name')\n",
    "modalities_annotated.head()"
   ]
  },
  {
   "cell_type": "markdown",
   "metadata": {},
   "source": [
    "### 5' and 3' splice site motifs"
   ]
  },
  {
   "cell_type": "code",
   "execution_count": null,
   "metadata": {
    "collapsed": true
   },
   "outputs": [],
   "source": []
  },
  {
   "cell_type": "code",
   "execution_count": null,
   "metadata": {
    "collapsed": true
   },
   "outputs": [],
   "source": [
    "modalities_annotated.exon2_splice_site_3p_seq\n"
   ]
  },
  {
   "cell_type": "code",
   "execution_count": null,
   "metadata": {
    "collapsed": false
   },
   "outputs": [],
   "source": [
    "folder"
   ]
  },
  {
   "cell_type": "code",
   "execution_count": null,
   "metadata": {
    "collapsed": true
   },
   "outputs": [],
   "source": [
    "from Bio.Alphabet import generic_rna"
   ]
  },
  {
   "cell_type": "code",
   "execution_count": null,
   "metadata": {
    "collapsed": false
   },
   "outputs": [],
   "source": [
    "generic_rna.letters = 'ACGU'"
   ]
  },
  {
   "cell_type": "code",
   "execution_count": null,
   "metadata": {
    "collapsed": false
   },
   "outputs": [],
   "source": [
    "generic_rna.letters"
   ]
  },
  {
   "cell_type": "code",
   "execution_count": null,
   "metadata": {
    "collapsed": false
   },
   "outputs": [],
   "source": [
    "from Bio import motifs\n",
    "\n",
    "splice_site_motifs_figures = '{}/splice_site_motifs'.format(folder)\n",
    "!mkdir $splice_site_motifs_figures\n",
    "\n",
    "cols = 'exon2_splice_site_3p_seq', 'exon2_splice_site_5p_seq'\n",
    "\n",
    "for (phenotype, modality), df in modalities_annotated.groupby(['phenotype', 'modality']):\n",
    "    for col in cols:\n",
    "        instances = df[col]\n",
    "#         instances = instances.str.replace('T', 'U')\n",
    "        splice_site_motifs = motifs.create(instances,)\n",
    "        filename = '{}/{}_{}_{}.pdf'.format(splice_site_motifs_figures, col, phenotype, modality)\n",
    "        splice_site_motifs.weblogo(filename, format='PDF', color_scheme='color_classic')"
   ]
  },
  {
   "cell_type": "code",
   "execution_count": null,
   "metadata": {
    "collapsed": true
   },
   "outputs": [],
   "source": [
    "splice_site_motifs = motifs.create(df.exon2_splice_site_3p_seq)"
   ]
  },
  {
   "cell_type": "code",
   "execution_count": null,
   "metadata": {
    "collapsed": false
   },
   "outputs": [],
   "source": [
    "splice_site_motifs.weblogo()"
   ]
  },
  {
   "cell_type": "markdown",
   "metadata": {},
   "source": [
    "#### Boolean features - Hypergeometric test"
   ]
  },
  {
   "cell_type": "code",
   "execution_count": null,
   "metadata": {
    "collapsed": false
   },
   "outputs": [],
   "source": [
    "events = study.supplemental.modalities_tidy.groupby('phenotype').apply(lambda x: x.event_name.unique())\n",
    "n_events = events.apply(len)\n",
    "\n",
    "events_in_modality = study.supplemental.modalities_tidy.groupby(['phenotype', 'modality']).apply(\n",
    "    lambda x: x.event_name.unique())\n",
    "n_events_in_modality = events_in_modality.apply(len)"
   ]
  },
  {
   "cell_type": "code",
   "execution_count": null,
   "metadata": {
    "collapsed": false,
    "scrolled": false
   },
   "outputs": [],
   "source": [
    "from scipy.stats import hypergeom\n",
    "\n",
    "boolean_cols = ['ribosomal', 'ribosomal_subunit', 'gerstberger2014_tf',\n",
    "        'gerstberger2014_rbp', 'gerstberger2014_rbp_target_mrna',  'gerstberger2014_rbp_target_ncrna',\n",
    "        'gerstberger2014_rbp_target_ribosome', 'gerstberger2014_rbp_target_trna',\n",
    "       'cell_cycle', 'cell_surface_markers', 'bioguo_animaltfdb_chromatin_remodeler', 'bioguo_animaltfdb_tf',\n",
    "       'bioguo_animaltfdb_cofactor', 'exon2_merkin2012_ancient', 'exon2_divisible_by_3']\n",
    "\n",
    "hue_order = ['~0', 'bimodal', '~1', 'multimodal']\n",
    "palette = [MODALITY_TO_COLOR[m] for m in hue_order]\n",
    "\n",
    "ncols = 5\n",
    "nrows = 1\n",
    "while nrows * ncols < len(boolean_cols):\n",
    "    nrows += 1\n",
    "width = 3.5\n",
    "height = 2\n",
    "figsize = ncols * width, nrows * height\n",
    "\n",
    "heatmap_fig, heatmap_axes = plt.subplots(nrows=nrows, ncols=ncols, figsize=figsize)\n",
    "axes_iter = heatmap_axes.flat\n",
    "\n",
    "for col in boolean_cols:\n",
    "    g = sns.factorplot(y=col, x='phenotype', hue='modality', data=modalities_annotated, \n",
    "                       aspect=1.5, kind='bar', size=2, hue_order=hue_order, \n",
    "                       palette=palette,\n",
    "                      x_order=study.phenotype_order)\n",
    "    for ax in g.axes.flat:\n",
    "        ax.locator_params('y', nbins=5)\n",
    "#     g.fig.tight_layout()\n",
    "    g.savefig('{}/modalities_features_{}.pdf'.format(folder, col))\n",
    "    \n",
    "    p_values = pd.DataFrame(index=hue_order, columns=study.phenotype_order)\n",
    "    for modality in hue_order:\n",
    "        for phenotype in study.phenotype_order:\n",
    "            M = n_events[phenotype]\n",
    "            N = n_events_in_modality[phenotype, modality]\n",
    "            n = study.splicing.feature_data.loc[events[phenotype], col].sum()\n",
    "            x = study.splicing.feature_data.loc[events_in_modality[phenotype, modality], col].sum()\n",
    "\n",
    "            p_values.loc[modality, phenotype] = hypergeom.sf(x, M, n, N)\n",
    "    p_values = p_values.astype(float)\n",
    "    \n",
    "    heatmap_ax = axes_iter.next()\n",
    "    plt.sca(heatmap_ax)\n",
    "    sns.heatmap(-np.log10(p_values), annot=True, mask=p_values > 0.05, \n",
    "                cbar_kws=dict(label='$-\\log_{10} p$'), ax=heatmap_ax)\n",
    "    locations, labels = plt.yticks()\n",
    "    plt.setp(labels, rotation=0)\n",
    "    heatmap_ax.set(title=col)\n",
    "heatmap_fig.tight_layout()\n",
    "heatmap_fig.savefig('{}/modalities_features_boolean_p_values.pdf'.format(folder))"
   ]
  },
  {
   "cell_type": "markdown",
   "metadata": {},
   "source": [
    "### Numeric features\n",
    "\n",
    "#### Add gene expression per modality"
   ]
  },
  {
   "cell_type": "code",
   "execution_count": null,
   "metadata": {
    "collapsed": false
   },
   "outputs": [],
   "source": [
    "study.splicing.feature_expression_id_col = 'ensembl_id'\n",
    "splicing_tidy = study.tidy_splicing_with_expression.copy()\n",
    "print splicing_tidy.shape\n",
    "singles_not_outliers = study.splicing.singles.index.difference(study.splicing.outliers.index)\n",
    "splicing_tidy_singles = splicing_tidy.ix[splicing_tidy.sample_id.isin(singles_not_outliers)]\n",
    "print splicing_tidy_singles.shape\n",
    "splicing_tidy_singles = splicing_tidy_singles.join(study.sample_id_to_phenotype, on='sample_id')\n",
    "\n",
    "\n",
    "modalities_expression = modalities_annotated.merge(\n",
    "    splicing_tidy_singles, left_on=['event_name', 'phenotype'], right_on=['event_name', 'phenotype'])\n",
    "print modalities_expression.shape\n",
    "modalities_expression = modalities_expression.join(modalities_expression.groupby(['event_name', 'sample_id']).expression.sum(),\n",
    "                           on=['event_name', 'sample_id'], rsuffix='_summed', lsuffix='_original')\n",
    "\n",
    "modalities_expression['log2(TPM+1)'] = np.log2(modalities_expression.expression_summed+1)\n",
    "modalities_expression.head()\n",
    "\n",
    "mean_expression = modalities_expression.groupby(['event_name', 'sample_id'])['expression_original'].mean()\n",
    "var_expression = modalities_expression.groupby(['event_name', 'sample_id'])['expression_original'].var()\n",
    "\n",
    "mean_expression.name = 'expression_mean'\n",
    "var_expression.name = 'expression_var'\n",
    "\n",
    "\n",
    "\n",
    "modalities_expression = modalities_expression.join(mean_expression, on=['event_name', 'sample_id'])\n",
    "\n",
    "modalities_expression = modalities_expression.join(var_expression, on=['event_name', 'sample_id'])\n",
    "modalities_expression.head()\n",
    "\n",
    "modalities_expression['expression_var_log2_plus1'] = np.log2(modalities_expression.expression_var+1)\n",
    "modalities_expression['expression_mean_log2_plus1'] = np.log2(modalities_expression.expression_mean+1)"
   ]
  },
  {
   "cell_type": "code",
   "execution_count": null,
   "metadata": {
    "collapsed": false
   },
   "outputs": [],
   "source": [
    "modalities_expression_folder = '{}/expression'.format(folder)\n",
    "! mkdir modalities_expression_folder\n",
    "\n",
    "fig, axes = plt.subplots(figsize=(16, 12), nrows=3)\n",
    "\n",
    "cols = 'expression_var_log2_plus1', 'expression_mean_log2_plus1'\n",
    "\n",
    "for col in cols:\n",
    "    for ax, (phenotype, phenotype_df) in zip(axes, modalities_expression.groupby('phenotype')):\n",
    "        rank_col = col + '_rank'\n",
    "        phenotype = phenotype_df.dropna(subset=[col])\n",
    "        phenotype_df[rank_col] = phenotype_df[col].rank()\n",
    "        for modality, modality_df in phenotype_df.groupby('modality'):\n",
    "            x = modality_df[rank_col]\n",
    "            y = modality_df[col]\n",
    "            color = MODALITY_TO_COLOR[modality]\n",
    "            ax.bar(x, y, color=color, linewidth=0)\n",
    "        xmax = phenotype_df[rank_col].max() + 1\n",
    "        ax.set(xlim=(0, xmax), xlabel='Rank')\n",
    "        sns.despine()\n",
    "    #     df = df.sort_values('mean diff')\n",
    "    fig.tight_layout()\n",
    "    fig.savefig('{}/{}_ranked_barplot.pdf'.format(modalities_expression_folder, col))"
   ]
  },
  {
   "cell_type": "code",
   "execution_count": null,
   "metadata": {
    "collapsed": true
   },
   "outputs": [],
   "source": [
    "rnafold_cols = [x for x in study.splicing.feature_data if 'rnafold' in x]"
   ]
  },
  {
   "cell_type": "code",
   "execution_count": null,
   "metadata": {
    "collapsed": false
   },
   "outputs": [],
   "source": [
    "col = 'exon2_phatscons_placental_mammal'"
   ]
  },
  {
   "cell_type": "code",
   "execution_count": null,
   "metadata": {
    "collapsed": true
   },
   "outputs": [],
   "source": [
    "from flotilla.visualize.generic import cdfplot\n",
    "\n",
    "numerical_cols = [#'log2(TPM+1)', \n",
    "        'expression_var_log2_plus1', \n",
    "        'expression_mean_log2_plus1',\n",
    "        'domazetloso2008_phylostratum',\n",
    "        'exon1_length',\n",
    "        'exon2_length',\n",
    "        'exon2_splice_site_3p_score',\n",
    "        'exon2_splice_site_5p_score',\n",
    "        'exon2_phastcons_placental_mammal',\n",
    "        'exon3_length',\n",
    "        'intron_length',\n",
    "        'isoform1_aromaticity',\n",
    "        'isoform2_aromaticity',\n",
    "        'isoform1_gravy',\n",
    "        'isoform2_gravy',\n",
    "        'isoform1_instability_index',\n",
    "        'isoform2_instability_index',\n",
    "        'isoform1_isoelectric_point',\n",
    "        'isoform2_isoelectric_point',\n",
    "        'isoform1_iupred_score',\n",
    "        'isoform2_iupred_score',\n",
    "        'isoform1_molecular_weight',\n",
    "        'isoform2_molecular_weight',\n",
    "        'isoform1_protein_secondary_structure_helix',\n",
    "        'isoform2_protein_secondary_structure_turn',        \n",
    "        'isoform1_protein_secondary_structure_sheet',\n",
    "        'isoform2_protein_secondary_structure_helix',\n",
    "        'isoform1_protein_secondary_structure_turn',\n",
    "        'isoform2_protein_secondary_structure_sheet',\n",
    "        'max_exons_per_gene',\n",
    "        'isoform1_gc',\n",
    " 'isoform2_gc',\n",
    " 'isoform1_gc_position1',\n",
    " 'isoform2_gc_position1',\n",
    " 'isoform1_gc_position2',\n",
    " 'isoform2_gc_position2',\n",
    " 'isoform1_gc_position3',\n",
    " 'isoform2_gc_position3'\n",
    "    ] + rnafold_cols"
   ]
  },
  {
   "cell_type": "code",
   "execution_count": null,
   "metadata": {
    "collapsed": false
   },
   "outputs": [],
   "source": [
    "range(3)"
   ]
  },
  {
   "cell_type": "code",
   "execution_count": null,
   "metadata": {
    "collapsed": false,
    "scrolled": false
   },
   "outputs": [],
   "source": [
    "import itertools\n",
    "from scipy.stats import mannwhitneyu\n",
    "import os\n",
    "\n",
    "numeric_feature_folder = '{}/numeric_features'.format(folder)\n",
    "\n",
    "\n",
    "#  'skipped_exon_exon2_phastcons_placental_mammal',\n",
    "#  'skipped_exon_exon2_splice_site_3p_score',\n",
    "#  'skipped_exon_exon2_splice_site_5p_score'])\n",
    "\n",
    "log10_cols = ['max_exons_per_gene', 'intron_length', \n",
    "             'isoform1_molecular_weight', 'isoform2_molecular_weight', 'expression_var', \n",
    "              'exon1_length', 'exon2_length', 'exon3_length']\n",
    "cdf_cols = ['domazetloso2008_phylostratum', \n",
    "             'isoform1_gc_position2',\n",
    "             'isoform1_gc_position3',\n",
    "             'isoform2_gc',\n",
    "             'isoform2_gc_position1',\n",
    "             'isoform2_gc_position2',\n",
    "             'isoform2_gc_position3',\n",
    "            'exon2_splice_site_3p_score', \n",
    "            'exon2_splice_site_5p_score', \n",
    "            'exon2_phastcons_placental_mammal']\n",
    "log10s = True, False\n",
    "\n",
    "plots = 'cdf', 'box'\n",
    "\n",
    "hue_order = ['~0', 'bimodal', '~1', 'multimodal']\n",
    "palette = [MODALITY_TO_COLOR[m] for m in hue_order]\n",
    "nrows = len(numerical_cols)\n",
    "heatmap_fig, heatmap_axes = plt.subplots(figsize=(12, 2.5*nrows), nrows=nrows, sharex=True, sharey=True)\n",
    "axes_iter = heatmap_axes.flat\n",
    "\n",
    "for col in numerical_cols:\n",
    "#     if col.startswith('isoform'):\n",
    "#         # Remove all remaining strings, which are proteins which had a stop codon\n",
    "#         s = modalities_expression[col]\n",
    "#         s = s[~s.str.contains('\\*').fillna(False)].astype(float)\n",
    "#         modalities_expression[col] = s\n",
    "    \n",
    "    for log10 in log10s:\n",
    "        for plot in plots:\n",
    "            suffix = '' if not log10 else '_log10'\n",
    "            pdf = '{}/{}_{}{}.pdf'.format(numeric_feature_folder, col, plot, suffix)\n",
    "#             if os.path.exists(pdf):\n",
    "#                 continue\n",
    "                \n",
    "            if log10 and col not in log10_cols:\n",
    "                continue\n",
    "            if not log10 and col in log10_cols:\n",
    "                continue\n",
    "            if plot == 'cdf':\n",
    "                if col not in cdf_cols:\n",
    "                    continue\n",
    "                g = sns.FacetGrid(modalities_expression,  col='phenotype', hue='modality', size=3,\n",
    "                                   col_order=study.phenotype_order, hue_order=hue_order,\n",
    "                                  palette=palette, legend_out=True)\n",
    "                g.map(flotilla.visualize.generic.cdfplot, col, log=log10, alpha=0.75, linewidth=2)\n",
    "                g.set(ylim=(0, 1))\n",
    "                if col == 'domazetloso2008_phylostratum':\n",
    "                    g.set(ylim=(0.8, 1))\n",
    "                for ax in g.axes.flat:\n",
    "                    if ax.is_first_col():\n",
    "                        ax.locator_params('y', nbins=4)\n",
    "                        ax.set_ylabel('Cumulative Distribution')\n",
    "            else:\n",
    "                log_col = col + '_log10' if log10 else col\n",
    "                if log10:\n",
    "                    modalities_expression[log_col] = np.log10(modalities_expression[col]).astype(float)\n",
    "                \n",
    "                # Which column to plot\n",
    "                plot_col = log_col if log10 else col\n",
    "                g = sns.factorplot(y=log_col, x='phenotype', hue='modality', data=modalities_expression, \n",
    "                                   kind=plot, aspect=2, order=study.phenotype_order, notch=True,\n",
    "                                   hue_order=hue_order, palette=palette)\n",
    "            g.savefig(pdf)\n",
    "            \n",
    "    # Quantify cross-modality enrichment\n",
    "    annotated_grouped = modalities_annotated.groupby(['phenotype', 'modality'])\n",
    "    expression_grouped = modalities_expression.groupby(['phenotype', 'modality'])\n",
    "\n",
    "    columns = pd.MultiIndex.from_product([study.phenotype_order, hue_order])\n",
    "    p_values = pd.DataFrame(index=hue_order, columns=columns, dtype=float)\n",
    "    signs = pd.DataFrame(index=hue_order, columns=columns, dtype=float)\n",
    "\n",
    "    for phenotype in study.phenotype_order:\n",
    "        for modality1, modality2 in itertools.combinations(hue_order, 2):\n",
    "            try:\n",
    "                values1 = annotated_grouped[col].get_group((phenotype, modality1))\n",
    "                values2 = annotated_grouped[col].get_group((phenotype, modality2))\n",
    "            except KeyError:\n",
    "                values1 = expression_grouped[col].get_group((phenotype, modality1))\n",
    "                values2 = expression_grouped[col].get_group((phenotype, modality2))\n",
    "                \n",
    "            statistic, p_value = mannwhitneyu(values1, values2, use_continuity=True)\n",
    "            \n",
    "            # Get two-sided p-value\n",
    "            p_value *= 2\n",
    "            sign = np.sign(values2.mean() - values1.mean())\n",
    "            p_values.loc[modality1, (phenotype, modality2)] = p_value\n",
    "            p_values.loc[modality2, (phenotype, modality1)] = p_value\n",
    "            signs.loc[modality1, (phenotype, modality2)] = sign\n",
    "            signs.loc[modality2, (phenotype, modality1)] = -sign\n",
    "\n",
    "    heatmap_ax = axes_iter.next()\n",
    "    plt.sca(heatmap_ax)\n",
    "    xticklabels = map(lambda x: '\\n'.join(x), p_values.columns.values)\n",
    "\n",
    "    # inds = np.tril_indices_from(p_values, 1)\n",
    "    # p_values.values[inds] = 1\n",
    "    p_values_log10 = -np.log10(p_values)\n",
    "    vmax = p_values_log10[np.isfinite(p_values_log10)].max().max()\n",
    "    # p_values_log10\n",
    "    mask = (p_values > 0.01) | p_values.isnull()\n",
    "\n",
    "    p_values_log10 = p_values_log10 * signs\n",
    "\n",
    "    sns.heatmap(p_values_log10, xticklabels=xticklabels, annot=True, mask=mask, vmax=vmax, vmin=-vmax, \n",
    "                cbar_kws=dict(label=r'$ \\mathrm{sgn} \\times -\\log_{10}p$'), ax=heatmap_ax)\n",
    "    ymin, ymax = heatmap_ax.get_ylim()\n",
    "    heatmap_ax.vlines((len(hue_order), 2*len(hue_order)), ymin, ymax)\n",
    "    heatmap_ax.set(title=col, xlabel='');\n",
    "heatmap_fig.tight_layout()\n",
    "heatmap_fig.savefig('{}/p_values.pdf'.format(numeric_feature_folder))"
   ]
  },
  {
   "cell_type": "code",
   "execution_count": null,
   "metadata": {
    "collapsed": false
   },
   "outputs": [],
   "source": [
    "isoform_cols = [x.replace('1_', '{}_') for x in modalities_annotated.columns if x.startswith('isoform1')]\n",
    "isoform_cols"
   ]
  },
  {
   "cell_type": "code",
   "execution_count": null,
   "metadata": {
    "collapsed": false
   },
   "outputs": [],
   "source": [
    "figure_folder"
   ]
  },
  {
   "cell_type": "markdown",
   "metadata": {},
   "source": [
    "### Isoform features"
   ]
  },
  {
   "cell_type": "code",
   "execution_count": null,
   "metadata": {
    "collapsed": false,
    "scrolled": false
   },
   "outputs": [],
   "source": [
    "isoform_figure_folder = '{}/isoform_features'.format(folder)\n",
    "! mkdir $isoform_figure_folder\n",
    "\n",
    "non_numeric_cols = ['translation', 'pfam']\n",
    "\n",
    "hue_order = '~0', 'bimodal', '~1'\n",
    "palette = [MODALITY_TO_COLOR[m] for m in hue_order]\n",
    "\n",
    "modalities_annotated_index = modalities_annotated.set_index(['phenotype', 'modality'])\n",
    "\n",
    "\n",
    "plot_kinds = 'violin', 'box'\n",
    "for isoform_col in isoform_cols:\n",
    "    if any(non_numeric in isoform_col for non_numeric in non_numeric_cols):\n",
    "        continue\n",
    "    \n",
    "    x = isoform_col.format(1)\n",
    "    y = isoform_col.format(2)\n",
    "    \n",
    "#     g = sns.FacetGrid(modalities_annotated, col='modality', row='phenotype', col_order=hue_order)\n",
    "#     g.map(plt.hexbin, x, y, mincnt=1, gridsize=50, edgecolor=u'darkgrey')\n",
    "#     g.set_titles(\"{col_name} {row_name}\")\n",
    "#     g.savefig('{}/modality_features_{}_hexbin.pdf'.format(folder, isoform_col.format('')))\n",
    "    isoform1 = modalities_annotated_index[x].reset_index()\n",
    "    isoform2 = modalities_annotated_index[y].reset_index()\n",
    "\n",
    "    name = isoform_col.format('')\n",
    "    isoform1 = isoform1.rename(columns={x:name})\n",
    "    isoform2 = isoform2.rename(columns={y:name})\n",
    "\n",
    "    isoform1['isoform'] = 1\n",
    "    isoform2['isoform'] = 2\n",
    "    df = pd.concat([isoform1, isoform2])\n",
    "\n",
    "    if 'weight' in name:\n",
    "        df[name] = np.log10(df[name])\n",
    "        \n",
    "    for kind in plot_kinds:\n",
    "        if kind == 'violin':\n",
    "            kwargs = dict(split=True)\n",
    "        else:\n",
    "            kwargs = dict(notch=False)\n",
    "\n",
    "        g = sns.factorplot(hue='isoform', x='modality', y=name, col='phenotype', data=df, order=MODALITY_ORDER,\n",
    "                       kind=kind, aspect=1.25, col_order=study.phenotype_order, palette='BuGn', size=2, linewidth=1, **kwargs)\n",
    "#         g.set(ylabel=name.replace('isoform_', ''))\n",
    "        g.set(ylabel='')\n",
    "        g.savefig('{}/{}_{}.pdf'.format(isoform_figure_folder, name, kind))\n",
    "        "
   ]
  },
  {
   "cell_type": "markdown",
   "metadata": {},
   "source": [
    "### For Bimodal, merge isoform1 and isoform2, for ~0 use only isoform1 and for ~1 use only isoform2"
   ]
  },
  {
   "cell_type": "code",
   "execution_count": null,
   "metadata": {
    "collapsed": false,
    "scrolled": false
   },
   "outputs": [],
   "source": [
    "from modish import MODALITY_TO_COLOR\n",
    "\n",
    "non_numeric_cols = ['translation', 'pfam']\n",
    "\n",
    "bimodal_ind = modalities_annotated.modality == 'bimodal'\n",
    "included_ind = modalities_annotated.modality == '~0'\n",
    "excluded_ind = modalities_annotated.modality == '~1'\n",
    "\n",
    "hue_order = ['~0', 'bimodal', '~1']\n",
    "palette = [MODALITY_TO_COLOR[m] for m in hue_order]\n",
    "\n",
    "\n",
    "for isoform_col in isoform_cols:\n",
    "    if any(non_numeric in isoform_col for non_numeric in non_numeric_cols):\n",
    "        continue\n",
    "        \n",
    "    isoform_col_no_number = isoform_col.format('')\n",
    "    \n",
    "    x = isoform_col.format(1)\n",
    "    y = isoform_col.format(2)\n",
    "    \n",
    "    modalities_annotated.loc[bimodal_ind, isoform_col_no_number] = modalities_annotated.loc[bimodal_ind, [x, y]].mean(axis=1)\n",
    "    modalities_annotated.loc[included_ind, isoform_col_no_number] = modalities_annotated.loc[included_ind, y]\n",
    "    modalities_annotated.loc[excluded_ind, isoform_col_no_number] = modalities_annotated.loc[excluded_ind, x]\n",
    "    \n",
    "    if 'weight' in isoform_col:\n",
    "        isoform_col_plain_original = str(isoform_col_no_number)\n",
    "        isoform_col_plain += '_log10'\n",
    "        modalities_annotated.loc[:, isoform_col_no_number] = np.log10(modalities_annotated.loc[:, isoform_col_plain_original])\n",
    "    \n",
    "    \n",
    "    g = sns.factorplot(y=isoform_col_no_number, data=modalities_annotated, hue='modality', x='phenotype', kind='box',\n",
    "                      hue_order=hue_order, palette=palette, x_order=study.phenotype_order)\n",
    "#     g.map(plt.hexbin, x, y, mincnt=1, gridsize=50, edgecolor=u'darkgrey')\n",
    "#     g.set_titles(\"{col_name} {row_name}\")\n",
    "    g.savefig('{}/modality_features_{}_boxplot.pdf'.format(folder, isoform_col_plain))"
   ]
  },
  {
   "cell_type": "markdown",
   "metadata": {},
   "source": [
    "## Count-style things"
   ]
  },
  {
   "cell_type": "code",
   "execution_count": null,
   "metadata": {
    "collapsed": false
   },
   "outputs": [],
   "source": [
    "modalities_annotated.columns"
   ]
  },
  {
   "cell_type": "code",
   "execution_count": null,
   "metadata": {
    "collapsed": false,
    "scrolled": false
   },
   "outputs": [],
   "source": [
    "count_figure_folders = '{}/count_style_figures'.format(folder)\n",
    "! mkdir $count_figure_folders\n",
    "\n",
    "count_cols = ['level', 'criteria', u'isoform_domain_effects', \n",
    "              'gerstberger2014_rbp_consensus_rna_target', 'gene_status', \n",
    "              'gene_type', 'splice_type']\n",
    "\n",
    "order = ['~0', 'bimodal', '~1']\n",
    "isoform_domain_effects_order = [\n",
    "    'No annotated reading frame --> Protein +/- domain',\n",
    "    'No domain --> Domain',\n",
    "    'Domain switch',       \n",
    "    'Same status',\n",
    "    'Domain --> No domain',\n",
    "    'Protein +/- domain --> No annotated reading frame', \n",
    "]\n",
    "\n",
    "for col in count_cols:\n",
    "    s = modalities_annotated.groupby(['phenotype', 'modality', col]).size()\n",
    "    df = s.reset_index()\n",
    "    df = df.rename(columns={0: 'count'})\n",
    "    df['percentage'] = df.groupby(['phenotype', 'modality'])['count'].apply(lambda x: x/x.sum())\n",
    "#     g = sns.FacetGrid(df, col='phenotype', hue='modality', hue_order=hue_order, palette=palette,\n",
    "#                       col_order=study.phenotype_order)\n",
    "#     g.map(barh, 'percentage', col)\n",
    "    if col == 'isoform_domain_effects':\n",
    "        order = isoform_domain_effects_order\n",
    "        palette = 'PRGn'\n",
    "    else:\n",
    "        order = None\n",
    "        palette = 'husl'\n",
    "\n",
    "    print len(df[col].unique())\n",
    "    g = sns.factorplot(hue='modality', col='phenotype', x=col, y='percentage', kind='bar',  data=df,\n",
    "#                        hue_order=hue_order, palette=palette, \n",
    "#                        hue_order=hue_order, \n",
    "#                        aspect=len(df[col].unique())/2,\n",
    "#                        size=2\n",
    "                       size=len(df[col].unique())*.75,\n",
    "                       aspect=max(1, len(df[col].unique())*0.25),\n",
    "                       order=order,\n",
    "                       hue_order=MODALITY_ORDER, palette=MODALITY_PALETTE,\n",
    "#                        palette=palette,\n",
    "#                        order=order,\n",
    "                       col_order=study.phenotype_order)\n",
    "    for ax in g.axes.flat:\n",
    "        xticklabels = map(lambda x: x.get_text(), ax.get_xticklabels())\n",
    "        ax.set_xticklabels(xticklabels, rotation=90)\n",
    "#     fig.tight_layout()\n",
    "    g.savefig('{}/modality_features_{}_barplot.pdf'.format(count_figure_folders, col))"
   ]
  },
  {
   "cell_type": "code",
   "execution_count": null,
   "metadata": {
    "collapsed": false
   },
   "outputs": [],
   "source": [
    "len(df[col].unique())"
   ]
  },
  {
   "cell_type": "code",
   "execution_count": null,
   "metadata": {
    "collapsed": false
   },
   "outputs": [],
   "source": [
    "checked_features = list(boolean_cols) + list(numerical_cols) + count_cols\n",
    "checked_features"
   ]
  },
  {
   "cell_type": "code",
   "execution_count": null,
   "metadata": {
    "collapsed": false
   },
   "outputs": [],
   "source": [
    "[x for x in study.splicing.feature_data.columns if x not in checked_features]"
   ]
  },
  {
   "cell_type": "code",
   "execution_count": null,
   "metadata": {
    "collapsed": false
   },
   "outputs": [],
   "source": [
    "import collections\n",
    "import matplotlib as mpl\n",
    "from scipy.stats import fisher_exact\n",
    "import colorsys\n",
    "\n",
    "\n",
    "grouped = study.supplemental.modalities_tidy.groupby('phenotype')\n",
    "\n",
    "modality_order = MODALITY_ORDER\n",
    "# modality_order = ['~0', 'bimodal', \"~1\"]\n",
    "\n",
    "transitions = study.phenotype_transitions + [('iPSC', 'MN')]\n",
    "\n",
    "for phenotype1, phenotype2 in transitions:\n",
    "    modality_transitions = pd.DataFrame(0, index=MODALITY_ORDER, \n",
    "                                        columns=MODALITY_ORDER)\n",
    "    modality_transitions.index.name = phenotype1\n",
    "    modality_transitions.columns.name = phenotype2\n",
    "    \n",
    "    phenotypes = (phenotype1, phenotype2)\n",
    "    \n",
    "    df = pd.concat([grouped.get_group(phenotype1), grouped.get_group(phenotype2)])\n",
    "    df = df.set_index('phenotype')\n",
    "    df = df.dropna()\n",
    "    df = df.groupby('event_name').filter(lambda x: len(x) == 2)\n",
    "    \n",
    "    for event_name, df2 in df.groupby('event_name'):\n",
    "            modality1 = df2.ix[phenotype1].modality\n",
    "            modality2 = df2.ix[phenotype2].modality\n",
    "            modality_transitions.ix[modality1, modality2] += 1\n",
    "    fig, ax = plt.subplots(figsize=(5, 4))\n",
    "    modality_sizes = modality_transitions.sum(axis=1)\n",
    "    modality_transitions = modality_transitions.reindex(index=modality_order, columns=modality_order)\n",
    "    percentages = 100*modality_transitions.divide(modality_sizes,axis=0)\n",
    "    \n",
    "    # Anything that's zero will be whited out\n",
    "    mask = percentages == 0\n",
    "    sns.heatmap(percentages, cbar_kws={'label': 'Percentage of events in {}'.format(phenotype1)}, annot=False,\n",
    "                vmin=0, vmax=100, linewidth=1, ax=ax, #mask=mask\n",
    "               )\n",
    "    for ytl in ax.get_yticklabels():\n",
    "        ytl.set(rotation=0)\n",
    "    for xtl in ax.get_xticklabels():\n",
    "        xtl.set(rotation=90)\n",
    "        \n",
    "    # Modification of seaborn's heatmap annotator\n",
    "    \"\"\"Add textual labels with the value in each cell.\"\"\"\n",
    "    values = modality_transitions.ix[::-1].values\n",
    "    mesh = ax.collections[0]\n",
    "    xpos, ypos = np.meshgrid(ax.get_xticks(), ax.get_yticks())\n",
    "    for x, y, val, color in zip(xpos.flat, ypos.flat,\n",
    "                                values.flat, mesh.get_facecolors()):\n",
    "        if val is not np.ma.masked:\n",
    "            _, l, _ = colorsys.rgb_to_hls(*color[:3])\n",
    "            text_color = \".15\" if l > .5 else \"w\"\n",
    "            if val > 0:\n",
    "                val = (\"{:g}\").format(val)\n",
    "                ax.text(x, y, val, color=text_color,\n",
    "                        ha=\"center\", va=\"center\", fontsize=12)\n",
    "    fig.tight_layout()\n",
    "    pdf = '{}/modality_transitions_{}_to_{}_heatmap.pdf'.format(folder, phenotype1, phenotype2)\n",
    "    print pdf\n",
    "    fig.savefig(pdf)"
   ]
  },
  {
   "cell_type": "markdown",
   "metadata": {},
   "source": [
    "### Modality bar graph of events inconsistent with pooled"
   ]
  },
  {
   "cell_type": "code",
   "execution_count": null,
   "metadata": {
    "collapsed": false
   },
   "outputs": [],
   "source": [
    "modalities_inconsistent = study.percent_pooled_inconsistent(\n",
    "    feature_subset=study.supplemental.modalities_tidy.event_name.unique())"
   ]
  },
  {
   "cell_type": "code",
   "execution_count": null,
   "metadata": {
    "collapsed": false
   },
   "outputs": [],
   "source": [
    "pooled_inconstent_folder = '{}/pooled_inconsistent_delta_psi'.format(folder)\n",
    "! mkdir $pooled_inconstent_folder"
   ]
  },
  {
   "cell_type": "code",
   "execution_count": null,
   "metadata": {
    "collapsed": false
   },
   "outputs": [],
   "source": [
    "from flotilla.visualize.generic import cdfplot\n",
    "\n",
    "singles_grouped = study.splicing.singles.groupby(study.sample_id_to_phenotype)\n",
    "pooled_grouped = study.splicing.pooled.groupby(study.sample_id_to_phenotype)\n",
    "\n",
    "bins = np.arange(0, 1.05, 0.05)\n",
    "\n",
    "min_difference = 0.2\n",
    "\n",
    "pooled_inconsistent_dir = '{}/pooled_inconsistent'.format(folder)\n",
    "! mkdir $pooled_inconsistent_dir\n",
    "\n",
    "mean_diff_dfs = []\n",
    "\n",
    "for (phenotype, modality), df in study.supplemental.modalities_tidy.groupby(['phenotype', 'modality']):\n",
    "    singles = singles_grouped.get_group(phenotype).ix[:, df.event_name].dropna(how='all',axis=1)\n",
    "    pooled = pooled_grouped.get_group(phenotype).ix[:, df.event_name].dropna(how='all', axis=1)\n",
    "    \n",
    "    singles, pooled = singles.align(pooled, axis=1, join='inner')\n",
    "    mean_difference = pooled.apply(lambda x: singles.subtract(x, axis=1).abs().mean(axis=0), axis=1)\n",
    "    \n",
    "    mean_diff_df = mean_difference.unstack().reset_index()\n",
    "    mean_diff_df['phenotype'] = phenotype\n",
    "    mean_diff_df['modality'] = modality\n",
    "    mean_diff_dfs.append(mean_diff_df)\n",
    "    \n",
    "    events = mean_difference.columns[(mean_difference > min_difference).any(axis=0)]\n",
    "#     for event in events:\n",
    "#         gene_name = study.splicing.feature_data.gene_name[event]\n",
    "#         study.plot_event(event, sample_subset='~outlier')\n",
    "#         fig = plt.gcf()\n",
    "#         fig.savefig('{}/{}_{}_{}_{}.pdf'.format(\n",
    "#                 pooled_inconsistent_dir, modality, phenotype, gene_name, event))\n",
    "    \n",
    "mean_diff_df = pd.concat(mean_diff_dfs)\n",
    "mean_diff_df = mean_diff_df.rename(columns={0: 'mean diff', 'level_0': 'event_name', \n",
    "                                            'level_1':'pooled_id'})"
   ]
  },
  {
   "cell_type": "code",
   "execution_count": null,
   "metadata": {
    "collapsed": false,
    "scrolled": false
   },
   "outputs": [],
   "source": [
    "g = sns.FacetGrid(mean_diff_df, col='phenotype', col_order=study.phenotype_order, hue='modality', size=3,\n",
    "                  hue_order=MODALITY_ORDER, palette=MODALITY_PALETTE, legend_out=True)\n",
    "g.map(cdfplot, 'mean diff', log=False, alpha=0.75, linewidth=4)\n",
    "\n",
    "g.set(ylim=(0, 1))\n",
    "for ax in g.axes.flat:\n",
    "    ax.locator_params(nbins=4)\n",
    "    if ax.is_first_col():\n",
    "        ax.set_ylabel('Cummulative Distribution')\n",
    "    xmin, xmax, ymin, ymax = ax.axis()\n",
    "    ax.vlines(min_difference, ymin, ymax, linestyle='dotted')\n",
    "    ax.set(xlim=(0, xmax), \n",
    "           xlabel=r'mean $\\left(\\left|\\Psi_{\\mathrm{pooled}} - \\Psi_{\\mathrm{singles}}\\right|\\right)$')\n",
    "g.fig.tight_layout()\n",
    "g.add_legend();\n",
    "g.savefig('{}/modality_pooled_inconsistent_cdf.pdf'.format(pooled_inconstent_folder))"
   ]
  },
  {
   "cell_type": "code",
   "execution_count": null,
   "metadata": {
    "collapsed": true
   },
   "outputs": [],
   "source": [
    "mean_diff_df_01 = mean_diff_df.loc[mean_diff_df['mean diff'] >= min_difference]"
   ]
  },
  {
   "cell_type": "code",
   "execution_count": null,
   "metadata": {
    "collapsed": false
   },
   "outputs": [],
   "source": [
    "fig, axes = plt.subplots(figsize=(16, 12), nrows=3)\n",
    "\n",
    "ylabel = r'mean $\\left(\\left|\\Psi_{\\mathrm{pooled}} - \\Psi_{\\mathrm{singles}}\\right|\\right)$'\n",
    "\n",
    "for ax, (phenotype, phenotype_df) in zip(axes, mean_diff_df_01.groupby('phenotype')):\n",
    "    phenotype_df['mean diff rank'] = phenotype_df['mean diff'].rank(method='first')\n",
    "    for modality, modality_df in phenotype_df.groupby('modality'):\n",
    "        x = modality_df['mean diff rank']\n",
    "        y = modality_df['mean diff']\n",
    "        color = MODALITY_TO_COLOR[modality]\n",
    "        ax.bar(x, y, color=color, linewidth=0)\n",
    "    xmax = phenotype_df['mean diff rank'].max() + 1\n",
    "    \n",
    "    ax.set(xlim=(0, xmax), xlabel='Rank', title=phenotype, ylabel=ylabel, xticks=[])\n",
    "    sns.despine()\n",
    "#     df = df.sort_values('mean diff')\n",
    "fig.tight_layout()\n",
    "fig.savefig('{}/delta_psi_ranked_barplot.pdf'.format(pooled_inconstent_folder))"
   ]
  },
  {
   "cell_type": "code",
   "execution_count": null,
   "metadata": {
    "collapsed": true
   },
   "outputs": [],
   "source": [
    "mean_diff_df.rank?"
   ]
  },
  {
   "cell_type": "code",
   "execution_count": null,
   "metadata": {
    "collapsed": true
   },
   "outputs": [],
   "source": [
    "study.supplemental.splicing_singles_vs_pooled = mean_diff_df"
   ]
  },
  {
   "cell_type": "code",
   "execution_count": null,
   "metadata": {
    "collapsed": false
   },
   "outputs": [],
   "source": [
    "mean_diff_percentage = mean_diff_df.groupby(['phenotype', 'modality']).apply(\n",
    "    lambda x: 100.*(x['mean diff'] > min_difference).sum()/x.shape[0])\n",
    "mean_diff_percentage = mean_diff_percentage.reset_index()\n",
    "mean_diff_percentage = mean_diff_percentage.rename(columns={0: 'Percent single-cell events\\ninconsistent with pooled'})\n",
    "g = sns.factorplot(x='phenotype', y='Percent single-cell events\\ninconsistent with pooled', hue='modality',\n",
    "                   data=mean_diff_percentage, kind='bar', size=3, aspect=1.25, legend=False, **modality_factorplot_kws)\n",
    "for ax in g.axes.flat:\n",
    "    ax.locator_params('y', nbins=4)\n",
    "g.fig.tight_layout()\n",
    "g.add_legend();\n",
    "\n",
    "g.savefig('{}/modality_pooled_inconsistent_percentage.pdf'.format(folder))"
   ]
  },
  {
   "cell_type": "code",
   "execution_count": null,
   "metadata": {
    "collapsed": false
   },
   "outputs": [],
   "source": [
    "import collections\n",
    "import matplotlib as mpl\n",
    "from scipy.stats import fisher_exact\n",
    "import colorsys\n",
    "\n",
    "\n",
    "grouped = modalities_tidy.groupby('phenotype')\n",
    "\n",
    "phenotype_transitions = study.phenotype_transitions + [('iPSC', 'MN')]\n",
    "\n",
    "for phenotype1, phenotype2 in phenotype_transitions:\n",
    "    modality_transitions = pd.DataFrame(0, index=modality_order, \n",
    "                                        columns=modality_order)\n",
    "    modality_transitions.index.name = phenotype1\n",
    "    modality_transitions.columns.name = phenotype2\n",
    "    \n",
    "    df = study.supplemental.modalities_tidy.ix[grouped.groups[phenotype1] \n",
    "                                               + grouped.groups[phenotype2]].set_index('phenotype').dropna()\n",
    "    df = df.groupby('event_name').filter(lambda x: len(x) == 2)\n",
    "    \n",
    "    for event_name, df2 in df.groupby('event_name'):\n",
    "            modality1 = df2.ix[phenotype1].modality\n",
    "            modality2 = df2.ix[phenotype2].modality\n",
    "            modality_transitions.ix[modality1, modality2] += 1\n",
    "    fig, ax = plt.subplots(figsize=(5, 4))\n",
    "    modality_sizes = modality_transitions.sum(axis=1)\n",
    "    modality_transitions = modality_transitions.reindex(index=modality_order, columns=modality_order)\n",
    "    percentages = 100*modality_transitions.divide(modality_sizes,axis=0)\n",
    "    mask = percentages == 0\n",
    "    sns.heatmap(percentages, cbar_kws={'label': 'Percentage of events in {}'.format(phenotype1)}, annot=False,\n",
    "                vmin=0, vmax=100, linewidth=1, ax=ax, mask=mask)\n",
    "    for ytl in ax.get_yticklabels():\n",
    "        ytl.set(rotation=0)\n",
    "    for xtl in ax.get_xticklabels():\n",
    "        xtl.set(rotation=90)\n",
    "        \n",
    "    # Modification of seaborn's heatmap\n",
    "    \"\"\"Add textual labels with the value in each cell.\"\"\"\n",
    "    values = modality_transitions.ix[::-1].values\n",
    "    mesh = ax.collections[0]\n",
    "    xpos, ypos = np.meshgrid(ax.get_xticks(), ax.get_yticks())\n",
    "    for x, y, val, color in zip(xpos.flat, ypos.flat,\n",
    "                                values.flat, mesh.get_facecolors()):\n",
    "        if val is not np.ma.masked:\n",
    "            _, l, _ = colorsys.rgb_to_hls(*color[:3])\n",
    "            text_color = \".15\" if l > .5 else \"w\"\n",
    "            val = (\"{:g}\").format(val)\n",
    "            ax.text(x, y, val, color=text_color,\n",
    "                    ha=\"center\", va=\"center\", fontsize=12)\n",
    "    fig.tight_layout()\n",
    "    pdf = '{}/modality_transitions_{}_to_{}_heatmap.pdf'.format(folder, phenotype1, phenotype2)\n",
    "    print pdf\n",
    "    fig.savefig(pdf)"
   ]
  },
  {
   "cell_type": "code",
   "execution_count": null,
   "metadata": {
    "collapsed": false
   },
   "outputs": [],
   "source": [
    "modalities_all_phenotypes = modalities_tidy.groupby('event_name').filter(\n",
    "    lambda x: len(x) == len(study.phenotype_order))\n",
    "\n",
    "modalities_all_phenotypes.head()\n",
    "modalities_all_phenotypes = modalities_all_phenotypes.set_index('phenotype')\n",
    "modalities_all_phenotypes.head()\n",
    "import collections\n",
    "\n",
    "modality_celltype_transitions = collections.Counter(\n",
    "    tuple(df.ix[study.phenotype_order, 'modality'].tolist()) for name, df in modalities_all_phenotypes.groupby(['event_name']))\n",
    "modality_celltype_transitions\n",
    "# modality_celltype_transitions = pd.Series(modality_celltype_transitions)\n",
    "s = pd.Series(modality_celltype_transitions)\n",
    "s.sort(ascending=False)\n",
    "modality_transitions_df = s.reset_index()\n",
    "modality_transitions_df.columns = study.phenotype_order + ['n_transitions']\n",
    "modality_transitions_df.head(10)"
   ]
  },
  {
   "cell_type": "code",
   "execution_count": null,
   "metadata": {
    "collapsed": false
   },
   "outputs": [],
   "source": [
    "cbar_ax = plt.gca()"
   ]
  },
  {
   "cell_type": "code",
   "execution_count": null,
   "metadata": {
    "collapsed": false
   },
   "outputs": [],
   "source": [
    "import matplotlib as mpl\n",
    "import colorsys\n",
    "\n",
    "modality_transitions_df = modality_transitions_df.ix[modality_transitions_df.n_transitions >= 10]\n",
    "\n",
    "modality_to_int = dict(zip(modality_order, range(len(modality_order))))\n",
    "\n",
    "modality_transitions_plot_data = modality_transitions_df.ix[:, study.phenotype_order]\n",
    "plot_data = modality_transitions_plot_data.applymap(lambda x: modality_to_int[x])\n",
    "cmap = mpl.colors.ListedColormap([modality_colors[x] for x in modality_order])\n",
    "\n",
    "fig = plt.figure(figsize=(6, 6))\n",
    "gs = mpl.gridspec.GridSpec(nrows=1, ncols=3, wspace=.05, width_ratios=(1, .15, .15))\n",
    "\n",
    "ax_heatmap = plt.subplot(gs[:, 0])\n",
    "ax_barplot_bottom = plt.subplot(gs[:, 1])\n",
    "ax_barplot_top = plt.subplot(gs[:, 2])\n",
    "\n",
    "# Plot heatmap\n",
    "sns.heatmap(plot_data, cmap=cmap, linewidth=1, cbar_ax=cbar_ax, ax=ax_heatmap)\n",
    "\n",
    "mesh = ax_heatmap.collections[0]\n",
    "annotation = modality_transitions_plot_data.ix[::-1]\n",
    "\n",
    "xpos, ypos = np.meshgrid(ax_heatmap.get_xticks(), ax_heatmap.get_yticks())\n",
    "for x, y, val, color in zip(xpos.flat, ypos.flat,\n",
    "                            annotation.values.flat, mesh.get_facecolors()):\n",
    "    if val is not np.ma.masked:\n",
    "        _, l, _ = colorsys.rgb_to_hls(*color[:3])\n",
    "        text_color = \".15\" if l > .6 else \"w\"\n",
    "        s = (\"{}\").format(val)\n",
    "        ax_heatmap.text(x, y, s, color=text_color,\n",
    "                ha=\"center\", va=\"center\", fontsize=12)\n",
    "sns.despine(ax=ax_heatmap, left=True, bottom=True)\n",
    "ax_heatmap.set(yticks=[])\n",
    "ax_heatmap.xaxis.tick_top()\n",
    "ax_heatmap.xaxis.set_label_position('top')\n",
    "\n",
    "# Plot bottom half of barplot\n",
    "y = np.arange(plot_data.shape[0])\n",
    "\n",
    "# Necessary to line up with heatmap\n",
    "ylim = (0, y.max()*1.05)\n",
    "x = modality_transitions_df.n_transitions[::-1]\n",
    "ax_barplot_bottom.barh(y, x, color='darkgrey', edgecolor='#262626', linewidth=1, zorder=-1)\n",
    "ax_barplot_bottom.set(ylim=ylim, xlim=(0, 1000), \n",
    "               yticks=[])\n",
    "ax_barplot_bottom.locator_params('x', nbins=2)\n",
    "ax_barplot_bottom.grid('on', axis='x', color='white', zorder=1000, linewidth=1)\n",
    "\n",
    "sns.despine(ax=ax_barplot_bottom, bottom=True, top=False)\n",
    "for label in ax_barplot_bottom.get_xticklabels():\n",
    "    label.set_rotation(-90)\n",
    "ax_barplot_bottom.xaxis.set_ticks_position('top')\n",
    "ax_barplot_bottom.xaxis.set_label_position('top')\n",
    "\n",
    "# Plot top half barplot\n",
    "ymax = y.max()*1.05\n",
    "ylim = (0, ymax)\n",
    "x = modality_transitions_df.n_transitions[::-1]\n",
    "ax_barplot_top.barh(y, x, color='darkgrey', edgecolor='#262626', linewidth=1, zorder=-1)\n",
    "print x.max()\n",
    "ax_barplot_top.set(ylim=ylim, xlim=(5000, x.max()*1.05), yticks=[])\n",
    "ax_barplot_top.locator_params('x', nbins=2)\n",
    "ax_barplot_top.grid('on', axis='x', color='white', zorder=1000, linewidth=1)\n",
    "\n",
    "sns.despine(ax=ax_barplot_top, bottom=True, top=False, left=True)\n",
    "for label in ax_barplot_top.get_xticklabels():\n",
    "    label.set_rotation(-90)\n",
    "ax_barplot_top.xaxis.set_ticks_position('top')\n",
    "ax_barplot_top.xaxis.set_label_position('top')\n",
    "\n",
    "\n",
    "# Add train track lines to show broken axis\n",
    "d = .015 # how big to make the diagonal lines in axes coordinates\n",
    "# arguments to pass plot, just so we don't keep repeating them\n",
    "kwargs = dict(transform=ax_barplot_bottom.transAxes, color='k', clip_on=False, linewidth=1)\n",
    "# ax.plot((-d,+d),(-d,+d), **kwargs)      # top-left diagonal\n",
    "ax_barplot_bottom.plot((1-d,1+d),(1-d,1+d), **kwargs)    # top-right diagonal\n",
    "\n",
    "kwargs.update(transform=ax_barplot_top.transAxes)  # switch to the bottom axes\n",
    "ax_barplot_top.plot((-d,+d),(1-d,1+d), **kwargs)   # bottom-left diagonal\n",
    "# ax2.plot((1-d,1+d),(1-d,1+d), **kwargs) # bottom-right diagonal\n",
    "\n",
    "\n",
    "\n",
    "\n",
    "# fig.tight_layout()\n",
    "fig.savefig('{}/modality_transition_heatmap_all.pdf'.format(folder))"
   ]
  },
  {
   "cell_type": "code",
   "execution_count": null,
   "metadata": {
    "collapsed": false
   },
   "outputs": [],
   "source": [
    "# disruption_order = [\n",
    "#        'No annotated reading frame --> Translated protein',\n",
    "#        'No gain of domain', \n",
    "#         'Gain of domains', 'Loss of domains',\n",
    "#        'Domain switching',\n",
    "#         'Translated protein --> No annotated reading frame',\n",
    "# ]\n",
    "\n",
    "# for phenotype, df in modalities_tidy_domains.groupby('phenotype'):\n",
    "# #     data = df.pivot(index='domain_disruptions', columns='modality', values='')\n",
    "    \n",
    "#     data = df.groupby(['modality', 'domain_disruptions']).size()\n",
    "#     data = data.unstack(level=0)#.fillna(0).astype(int)\n",
    "#     data = data.reindex(columns=modality_order, index=disruption_order)\n",
    "    \n",
    "#     fig, ax = plt.subplots(figsize=(8, 4))\n",
    "#     percentages = 100*data/data.sum().astype(float)\n",
    "#     percentages = percentages.dropna(how='all', axis=1)\n",
    "#     sns.heatmap(percentages, ax=ax, \n",
    "#                 linewidth=1, vmax=100, vmin=0, annot=False, \n",
    "#                 cbar_kws=dict(label='Percentage of modality'))\n",
    "#     ax.set_title(phenotype)\n",
    "#     for xtl in ax.get_xticklabels():\n",
    "#         xtl.set_rotation(90)\n",
    "        \n",
    "#     fig.tight_layout()\n",
    "#     pdf = '{}/modalities_domain_disruption_{}.pdf'.format(folder, phenotype)\n",
    "#     print pdf\n",
    "#     fig.savefig(pdf)"
   ]
  },
  {
   "cell_type": "code",
   "execution_count": null,
   "metadata": {
    "collapsed": false
   },
   "outputs": [],
   "source": [
    "# sns.set(style='ticks', context='talk')\n",
    "# modality_order = ['~0', 'middle', '~1', 'bimodal', 'ambiguous']\n",
    "# col_order = ['iPSC', 'NPC', 'MN']\n",
    "\n",
    "# disordered_scores = pd.read_csv('/projects/ps-yeolab/obotvinnik/miso_helpers/hg19/isoform_disordered_scores.csv', index_col=0)\n",
    "# disordered_scores.head()\n",
    "# disordered_scores = disordered_scores.unstack().reset_index().rename(\n",
    "#     columns={'level_0': 'isoform', 'level_1': 'event_name', 0: 'iupred_score'})\n",
    "# disordered_scores.isoform = disordered_scores.isoform.map(lambda x: x.split('_')[0]).dropna()\n",
    "\n",
    "# modalities_iupred = study.supplemental.modalities_tidy.merge(disordered_scores, left_on='event_name', right_on='event_name')\n",
    "# modalities_iupred.head()"
   ]
  },
  {
   "cell_type": "code",
   "execution_count": null,
   "metadata": {
    "collapsed": false
   },
   "outputs": [],
   "source": [
    "\n",
    "# # palette = sns.cubehelix_palette(n_colors=3, light=.95)\n",
    "# palette = 'RdPu'\n",
    "\n",
    "# g = sns.factorplot(x='modality', y='iupred_score', data=modalities_iupred, col_order=col_order,\n",
    "#                hue='isoform', col='phenotype', kind='violin', palette=palette, order=modality_order,\n",
    "#                    aspect=1.15,\n",
    "#                   linewidth=1.5, bw=0.2, scale='width', split=True, legend_out=True, legend=False)\n",
    "\n",
    "# def fill_disordered(x, y, **kwargs):\n",
    "#     ax = plt.gca()\n",
    "#     xmin, xmax = ax.get_xlim()\n",
    "#     y1 = [0.5, 0.5]\n",
    "#     y2 = [1, 1]\n",
    "#     label = 'Disordered' if ax.is_first_col() else None\n",
    "#     ax.fill_between([xmin, xmax], y1, y2, zorder=-1, color='lightgrey', label=label)\n",
    "    \n",
    "\n",
    "# g.map(fill_disordered, 'modality', 'iupred_score')\n",
    "\n",
    "# g.set(ylim=(0, 1), yticks=(0, 0.5, 1))\n",
    "# g.set_ylabels('IUPRED mean score')\n",
    "# g.add_legend()\n",
    "\n",
    "# g.savefig('/home/obotvinnik/Dropbox/figures2/singlecell_pnm/figure3_modalities/modality_iupred_scores.pdf')"
   ]
  },
  {
   "cell_type": "code",
   "execution_count": null,
   "metadata": {
    "collapsed": true
   },
   "outputs": [],
   "source": [
    "study.supplemental.modalities_tidy = modalities_tidy"
   ]
  },
  {
   "cell_type": "code",
   "execution_count": null,
   "metadata": {
    "collapsed": false
   },
   "outputs": [],
   "source": [
    "study.save('singlecell_pnm_figure3_modalities')"
   ]
  },
  {
   "cell_type": "code",
   "execution_count": null,
   "metadata": {
    "collapsed": true
   },
   "outputs": [],
   "source": [
    "rang(2)"
   ]
  },
  {
   "cell_type": "code",
   "execution_count": null,
   "metadata": {
    "collapsed": false,
    "scrolled": false
   },
   "outputs": [],
   "source": [
    "import itertools\n",
    "\n",
    "\n",
    "\n",
    "def plot_go_enrichment(go, ax=None):\n",
    "    go.bonferonni_corrected_p_value = go.bonferonni_corrected_p_value.replace(0, np.nan)\n",
    "    vmin = max(go.bonferonni_corrected_p_value.dropna().min(), 1e-25)\n",
    "    if np.isnan(vmin):\n",
    "        vmin = 1e-25\n",
    "    go.loc[:, 'bonferonni_corrected_p_value'] = go.bonferonni_corrected_p_value.fillna(vmin*.9)\n",
    "    if go.shape[0] > 20:\n",
    "        go = go.iloc[-20: , :]\n",
    "    go_subset = go\n",
    "    if ax is None:\n",
    "        fig, ax = plt.subplots(figsize=(12, max(go_subset.shape[0]*.25, 4)))\n",
    "    else:\n",
    "        ax = plt.gca()\n",
    "        fig = plt.gcf()\n",
    "\n",
    "    bottom = np.arange(go_subset.shape[0])\n",
    "    width = -np.log10(go_subset.bonferonni_corrected_p_value)\n",
    "    ax.barh(bottom, width)\n",
    "    xticks = list(sorted(list(set(int(x) for x in ax.get_xticks()))))\n",
    "    ax.set(yticks=bottom+0.4, yticklabels=go_subset.go_name, xlabel='$-\\log_{10} p$-value',\n",
    "           ylim=(0, bottom.max()+1))\n",
    "    sns.despine()\n",
    "    fig.tight_layout()\n",
    "    return ax\n",
    "\n",
    "for (phenotype), phenotype_df in study.supplemental.modalities_tidy.groupby(['phenotype']):\n",
    "    print phenotype\n",
    "    background = list(itertools.chain(*study.splicing.feature_data.ensembl_id[phenotype_df.event_name].str.split(',').values))\n",
    "    for modality, modality_df in phenotype_df.groupby('modality'):\n",
    "        print '\\t', modality\n",
    "        modality_genes = list(itertools.chain(*study.splicing.feature_data.ensembl_id[modality_df.event_name].str.split(',').values))\n",
    "        go = study.go_enrichment(modality_genes, background, p_value_cutoff=0.01)\n",
    "        if go is None or go.empty:\n",
    "            print '... empty GO enrichment!'\n",
    "            continue\n",
    "        ax = plot_go_enrichment(go)\n",
    "        ax.set_title('{} {}'.format(phenotype, modality))\n",
    "        fig = plt.gcf()\n",
    "        fig.tight_layout()\n",
    "        fig.savefig('{}/modality_go_enrichment_within_celltype_{}_{}.pdf'.format(folder, modality, phenotype))"
   ]
  },
  {
   "cell_type": "code",
   "execution_count": null,
   "metadata": {
    "collapsed": false,
    "scrolled": false
   },
   "outputs": [],
   "source": [
    "import itertools\n",
    "\n",
    "for (phenotype), phenotype_df in modalities_all_celltypes.groupby(['modality']):\n",
    "    print phenotype\n",
    "    background = list(itertools.chain(*study.splicing.feature_data.ensembl_id[phenotype_df.event_name].str.split(',').values))\n",
    "    for modality, modality_df in phenotype_df.groupby('phenotype'):\n",
    "        print '\\t', modality\n",
    "        modality_genes = list(itertools.chain(*study.splicing.feature_data.ensembl_id[modality_df.event_name].str.split(',').values))\n",
    "        go = study.go_enrichment(modality_genes, background, p_value_cutoff=0.01)\n",
    "        if go is None or go.empty:\n",
    "            print '\\t... empty GO enrichment!'\n",
    "            continue\n",
    "        ax = plot_go_enrichment(go)\n",
    "        ax.set_title('{} {}'.format(phenotype, modality))\n",
    "        fig = plt.gcf()\n",
    "#         fig.tight_layout()\n",
    "        fig.savefig('{}/modality_go_enrichment_across_celltypes_{}_{}.pdf'.format(folder, modality, phenotype))"
   ]
  },
  {
   "cell_type": "code",
   "execution_count": null,
   "metadata": {
    "collapsed": false,
    "scrolled": false
   },
   "outputs": [],
   "source": [
    "import itertools\n",
    "\n",
    "background = list(itertools.chain(*study.splicing.feature_data.ensembl_id[modalities_all_celltypes.event_name.unique()].str.split(',').values))\n",
    "\n",
    "\n",
    "for (group), df1 in modalities_all_celltypes.groupby(['modality']):\n",
    "    print group\n",
    "    foreground = list(itertools.chain(*study.splicing.feature_data.ensembl_id[df1.event_name].str.split(',').values))\n",
    "    go = study.go_enrichment(foreground, background, p_value_cutoff=0.1)\n",
    "    if go is None or go.empty:\n",
    "        print '\\t... empty GO enrichment!'\n",
    "        continue\n",
    "\n",
    "    ax = plot_go_enrichment(go)\n",
    "    ax.set_title(group)\n",
    "    fig = plt.gcf()\n",
    "    fig.tight_layout()\n",
    "    fig.savefig('{}/modality_go_enrichment_across_celltypes_{}.pdf'.format(folder, group))"
   ]
  },
  {
   "cell_type": "markdown",
   "metadata": {},
   "source": [
    "### Number of TFs and RBPs expressed in the different celltypes"
   ]
  },
  {
   "cell_type": "code",
   "execution_count": null,
   "metadata": {
    "collapsed": false
   },
   "outputs": [],
   "source": [
    "feature_subsets = ['gerstberger2014_tf', 'gerstberger2014_rbp_target_mrna']\n",
    "\n",
    "for feature_subset in feature_subsets:\n",
    "    feature_ids = study.expression.feature_subsets[feature_subset]\n",
    "    data = study.expression.singles.ix[:, feature_ids]\n",
    "    n_expressed = data.groupby(study.sample_id_to_phenotype).apply(lambda x: (x > 1).sum(axis=1))\n",
    "    n_expressed = n_expressed.reset_index()\n",
    "    n_expressed = n_expressed.rename(columns={'level_1': 'sample_id', 0: feature_subset})\n",
    "    fig, ax = plt.subplots(figsize=(3, 2))\n",
    "    sns.violinplot(x='phenotype', y=feature_subset, data=n_expressed, order=study.phenotype_order,\n",
    "                  palette=study.phenotype_color_ordered, linewidth=1.5)\n",
    "    gene_type = 'RBP' if 'mrna' in feature_subset else 'TF'\n",
    "    ax.set(ylabel='Detected {}s'.format(gene_type), xlabel='')\n",
    "#     sns.stripplot(x='phenotype', y=feature_subset, data=n_expressed, order=study.phenotype_order,\n",
    "#                   palette=study.phenotype_color_ordered, jitter=True)\n",
    "    ax.locator_params('y', nbins=5)\n",
    "    sns.despine()\n",
    "    fig.tight_layout()\n",
    "    fig.savefig('{}/n_expressed_{}.pdf'.format(folder, feature_subset))"
   ]
  },
  {
   "cell_type": "markdown",
   "metadata": {},
   "source": [
    "## Evolutionary Conservation"
   ]
  },
  {
   "cell_type": "markdown",
   "metadata": {},
   "source": [
    "### Mean exon conservation\n",
    "\n",
    "Use \"mean\" from `bigWigAverageOverBed`, which treats bases not covered by the PhastCons wiggle file as NA, not 0. (\"mean0\" treats them as 0)"
   ]
  },
  {
   "cell_type": "code",
   "execution_count": null,
   "metadata": {
    "collapsed": false
   },
   "outputs": [],
   "source": [
    "sj_metadata = pd.read_csv('/projects/ps-yeolab/obotvinnik/singlecell_pnms/sj_metadata.csv', index_col=0)\n",
    "sj_metadata.head()"
   ]
  },
  {
   "cell_type": "code",
   "execution_count": null,
   "metadata": {
    "collapsed": true
   },
   "outputs": [],
   "source": [
    "constitutive_events = study.supplemental.psi_constitutive.columns"
   ]
  },
  {
   "cell_type": "code",
   "execution_count": null,
   "metadata": {
    "collapsed": false
   },
   "outputs": [],
   "source": [
    "constitutive_tidy = pd.DataFrame(constitutive_events, columns=['event_name'])\n",
    "constitutive_tidy['modality'] = 'constitutive'\n",
    "constitutive_tidy.head()"
   ]
  },
  {
   "cell_type": "code",
   "execution_count": null,
   "metadata": {
    "collapsed": false
   },
   "outputs": [],
   "source": [
    "dfs = []\n",
    "for phenotype in study.phenotype_order:\n",
    "    df = constitutive_tidy.copy()\n",
    "    df['phenotype'] = phenotype\n",
    "    dfs.append(df)\n",
    "constitutive_tidy_phenotype = pd.concat(dfs)\n",
    "print constitutive_tidy.shape\n",
    "print constitutive_tidy_phenotype.shape"
   ]
  },
  {
   "cell_type": "code",
   "execution_count": null,
   "metadata": {
    "collapsed": false
   },
   "outputs": [],
   "source": [
    "modalities_tidy = pd.concat([study.supplemental.modalities_tidy, constitutive_tidy_phenotype])\n",
    "modalities_tidy.tail()"
   ]
  },
  {
   "cell_type": "code",
   "execution_count": null,
   "metadata": {
    "collapsed": false
   },
   "outputs": [],
   "source": [
    "modalities_annotated = modalities_tidy.join(sj_metadata, on='event_name')\n",
    "modalities_annotated.head()"
   ]
  },
  {
   "cell_type": "code",
   "execution_count": null,
   "metadata": {
    "collapsed": false
   },
   "outputs": [],
   "source": [
    "metadata_cols = (u'exon_5p_phastcons_placental_mammal', u'exon_3p_phastcons_placental_mammal')\n",
    "\n",
    "modality_order_constit = ['~0', 'middle', '~1', 'bimodal', 'ambiguous', 'constitutive']\n",
    "\n",
    "modality_colors_constit = [lightblue, green, red, purple, yellow, 'pink']\n",
    "\n",
    "for metadata_col in metadata_cols:\n",
    "    g = sns.FacetGrid(modalities_annotated,  col='phenotype', hue='modality', size=3,\n",
    "                       col_order=study.phenotype_order, hue_order=modality_order_constit,\n",
    "                      palette=modality_colors_constit, legend_out=True)\n",
    "    g.map(cdfplot, metadata_col, log=False, alpha=0.75, linewidth=2)\n",
    "    for ax in g.axes.flat:\n",
    "        ax.locator_params(nbins=4)\n",
    "        if ax.is_first_col():\n",
    "            ax.set_ylabel('Cummulative Fraction')\n",
    "    xmin = g.data[metadata_col].min()\n",
    "    xmax = g.data[metadata_col].max()\n",
    "    g.set(xlim=(xmin, xmax), xlabel='PhastCons score\\n(placental mammal)', ylim=(0, 1))\n",
    "#     g.add_legend()\n",
    "    g.fig.tight_layout()\n",
    "    g.savefig('{}/cdf_{}.pdf'.format(folder, metadata_col))"
   ]
  },
  {
   "cell_type": "markdown",
   "metadata": {},
   "source": [
    "### Combine 5' and 3'"
   ]
  },
  {
   "cell_type": "code",
   "execution_count": null,
   "metadata": {
    "collapsed": false
   },
   "outputs": [],
   "source": [
    "metadata_cols = (u'exon_5p_phastcons_placental_mammal', u'exon_3p_phastcons_placental_mammal')\n",
    "\n",
    "exon_conservation_combined = pd.concat([sj_metadata[col].dropna() for col in metadata_cols])\n",
    "print exon_conservation_combined.shape\n",
    "exon_conservation_combined.tail()"
   ]
  },
  {
   "cell_type": "code",
   "execution_count": null,
   "metadata": {
    "collapsed": false
   },
   "outputs": [],
   "source": [
    "# exon_conservation_combined = exon_conservation_combined.drop_duplicates()\n",
    "exon_conservation_combined.name = 'exon_conservation'\n",
    "exon_conservation_combined.head()"
   ]
  },
  {
   "cell_type": "code",
   "execution_count": null,
   "metadata": {
    "collapsed": false
   },
   "outputs": [],
   "source": [
    "modalities_annotated = modalities_annotated.join(exon_conservation_combined, on='event_name')\n",
    "modalities_annotated.head()"
   ]
  },
  {
   "cell_type": "code",
   "execution_count": null,
   "metadata": {
    "collapsed": false
   },
   "outputs": [],
   "source": []
  },
  {
   "cell_type": "code",
   "execution_count": null,
   "metadata": {
    "collapsed": false
   },
   "outputs": [],
   "source": [
    "metadata_col = 'exon_conservation'\n",
    "\n",
    "modality_order_constit = ['~0', 'middle', '~1', 'bimodal', 'ambiguous', 'constitutive']\n",
    "\n",
    "modality_colors_constit = [lightblue, green, red, purple, yellow, 'pink']\n",
    "\n",
    "g = sns.FacetGrid(modalities_annotated,  col='phenotype', hue='modality', size=3,\n",
    "                   col_order=study.phenotype_order, hue_order=modality_order_constit,\n",
    "                  palette=modality_colors_constit, legend_out=True)\n",
    "g.map(cdfplot, metadata_col, log=False, alpha=0.75, linewidth=2)\n",
    "for ax in g.axes.flat:\n",
    "    ax.locator_params(nbins=4)\n",
    "    if ax.is_first_col():\n",
    "        ax.set_ylabel('Cummulative Fraction')\n",
    "xmin = g.data[metadata_col].min()\n",
    "xmax = g.data[metadata_col].max()\n",
    "g.set(xlim=(xmin, xmax), xlabel='PhastCons score\\n(placental mammal)', ylim=(0, 1))\n",
    "g.add_legend()\n",
    "# g.fig.tight_layout()\n",
    "g.savefig('{}/cdf_{}.pdf'.format(folder, metadata_col))"
   ]
  },
  {
   "cell_type": "markdown",
   "metadata": {},
   "source": [
    "### Basewise conservation of introns"
   ]
  },
  {
   "cell_type": "code",
   "execution_count": null,
   "metadata": {
    "collapsed": false
   },
   "outputs": [],
   "source": [
    "\n",
    "bed_folder = '/projects/ps-yeolab/obotvinnik/singlecell_pnms'\n",
    "intron_conservation_3p = pd.read_csv('{}/exon_3p_upstream200_placental_mammal_conservation.csv'.format(bed_folder), \n",
    "                                     index_col=0)\n",
    "intron_conservation_5p = pd.read_csv('{}/exon_5p_downstream200_placental_mammal_conservation.csv'.format(bed_folder), \n",
    "                                     index_col=0)\n",
    "\n",
    "intron_conservations = {'Upstream of $3^\\prime$': intron_conservation_3p, \n",
    "                        'Downstream of $5^\\prime$': intron_conservation_5p}\n",
    "\n",
    "for phenotype, phenotype_df in modalities_tidy.groupby('phenotype'):\n",
    "    modalities = phenotype_df.set_index('event_name').modality\n",
    "    modalities = modalities.drop(modalities.index.get_duplicates())\n",
    "    \n",
    "    \n",
    "    dfs = []\n",
    "    for intron_name, intron_conservation in intron_conservations.items():\n",
    "        mean_conservation = intron_conservation.groupby(modalities).mean()\n",
    "        mean_conservation.columns = mean_conservation.columns.astype(int) + 1\n",
    "        mean_conservation.head()\n",
    "        tidy = mean_conservation.unstack().reset_index()\n",
    "        tidy = tidy.rename(columns={'level_0':'genome_direction_nt', 0: 'Conservation'})\n",
    "        tidy['direction'] = intron_name\n",
    "        dfs.append(tidy)\n",
    "#         var_conservation = intron_conservation.groupby(modalities).var()\n",
    "    modality_basewise_conservation = pd.concat(dfs, ignore_index=True)\n",
    "    \n",
    "    g = sns.FacetGrid(modality_basewise_conservation, hue='modality', hue_order=modality_order_constit,\n",
    "                     palette=modality_colors_constit, \n",
    "                      col='direction', sharex=False,\n",
    "                      col_order=['Upstream of $3^\\prime$', 'Downstream of $5^\\prime$'], size=3)\n",
    "    g.map(plt.plot, 'genome_direction_nt', 'Conservation')\n",
    "    for ax in g.axes.flat:\n",
    "        ax.locator_params(nbins=4)\n",
    "#         ax.locator_params('y', nbins=4)\n",
    "        if ax.is_first_col():\n",
    "            ax.set(ylabel='Mean PhastCons score\\n(placental mammals)',\n",
    "                   xticklabels=list(reversed([int(x) for x in ax.get_xticks()])))\n",
    "        else:\n",
    "            sns.despine(ax=ax, left=True)\n",
    "            ax.yaxis.set_ticks_position('none')\n",
    "    g.set(xlabel='Nucleotides from exon', title='', ylim=(0, 1))\n",
    "    g.add_legend();\n",
    "    g.savefig('{}/{}_intron_basewise_conservation.pdf'.format(folder, phenotype))"
   ]
  },
  {
   "cell_type": "code",
   "execution_count": null,
   "metadata": {
    "collapsed": true
   },
   "outputs": [],
   "source": []
  }
 ],
 "metadata": {
  "kernelspec": {
   "display_name": "Python 2",
   "language": "python",
   "name": "python2"
  },
  "language_info": {
   "codemirror_mode": {
    "name": "ipython",
    "version": 2
   },
   "file_extension": ".py",
   "mimetype": "text/x-python",
   "name": "python",
   "nbconvert_exporter": "python",
   "pygments_lexer": "ipython2",
   "version": "2.7.11"
  }
 },
 "nbformat": 4,
 "nbformat_minor": 0
}
