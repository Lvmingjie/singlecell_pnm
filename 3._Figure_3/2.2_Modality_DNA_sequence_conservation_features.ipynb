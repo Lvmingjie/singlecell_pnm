{
 "cells": [
  {
   "cell_type": "code",
   "execution_count": 132,
   "metadata": {
    "collapsed": false
   },
   "outputs": [
    {
     "name": "stdout",
     "output_type": "stream",
     "text": [
      "The autoreload extension is already loaded. To reload it, use:\n",
      "  %reload_ext autoreload\n",
      "2016-04-15 07:43:19\tReading datapackage from /projects/ps-yeolab/obotvinnik/flotilla_projects/singlecell_pnm_figure2_modalities_bayesian/datapackage.json\n",
      "2016-04-15 07:43:19\tParsing datapackage to create a Study object\n",
      "2016-04-15 07:44:05\tInitializing Study\n",
      "2016-04-15 07:44:05\tInitializing Predictor configuration manager for Study\n",
      "2016-04-15 07:44:05\tPredictor ExtraTreesClassifier is of type <class 'sklearn.ensemble.forest.ExtraTreesClassifier'>\n",
      "2016-04-15 07:44:05\tAdded ExtraTreesClassifier to default predictors\n",
      "2016-04-15 07:44:05\tPredictor ExtraTreesRegressor is of type <class 'sklearn.ensemble.forest.ExtraTreesRegressor'>\n",
      "2016-04-15 07:44:05\tAdded ExtraTreesRegressor to default predictors\n",
      "2016-04-15 07:44:05\tPredictor GradientBoostingClassifier is of type <class 'sklearn.ensemble.gradient_boosting.GradientBoostingClassifier'>\n",
      "2016-04-15 07:44:05\tAdded GradientBoostingClassifier to default predictors\n",
      "2016-04-15 07:44:05\tPredictor GradientBoostingRegressor is of type <class 'sklearn.ensemble.gradient_boosting.GradientBoostingRegressor'>\n",
      "2016-04-15 07:44:05\tAdded GradientBoostingRegressor to default predictors\n",
      "2016-04-15 07:44:10\tBuilding Gene Ontology database...\n",
      "2016-04-15 07:44:19\t\tDone.\n",
      "2016-04-15 07:44:20\tLoading metadata\n",
      "2016-04-15 07:44:20\tLoading expression data\n",
      "2016-04-15 07:44:20\tInitializing expression\n",
      "2016-04-15 07:44:20\tDone initializing expression\n",
      "2016-04-15 07:44:22\tLoading splicing data\n",
      "2016-04-15 07:44:22\tInitializing splicing\n",
      "2016-04-15 07:44:22\tDone initializing splicing\n",
      "2016-04-15 07:44:22\tSuccessfully initialized a Study object!\n"
     ]
    }
   ],
   "source": [
    "import seaborn as sns\n",
    "sns.set(style='ticks', context='paper', rc={'font.sans-serif':'Arial', 'pdf.fonttype': 42})\n",
    "\n",
    "\n",
    "import six\n",
    "\n",
    "%load_ext autoreload\n",
    "%autoreload 2\n",
    "\n",
    "import matplotlib.pyplot as plt\n",
    "import seaborn as sns\n",
    "import numpy as np\n",
    "import pandas as pd\n",
    "\n",
    "\n",
    "%matplotlib inline\n",
    "\n",
    "import anchor\n",
    "modality_to_color = anchor.MODALITY_TO_COLOR.copy()\n",
    "modality_to_color['constitutive'] = '#262626'\n",
    "modality_order = ['excluded', 'bimodal', 'included', 'constitutive']\n",
    "modality_palette = [modality_to_color[m] for m in modality_order]\n",
    "\n",
    "\n",
    "import flotilla\n",
    "flotilla_dir = '/projects/ps-yeolab/obotvinnik/flotilla_projects'\n",
    "\n",
    "study = flotilla.embark('singlecell_pnm_figure2_modalities_bayesian', flotilla_dir=flotilla_dir)\n",
    "\n",
    "not_outliers = study.splicing.singles.index.difference(study.splicing.outliers.index)\n",
    "\n",
    "import pybedtools\n",
    "\n",
    "facet_kws = dict(col='phenotype', hue='modality', hue_order=modality_order, palette=modality_palette,\n",
    "                 col_order=study.phenotype_order, size=2)\n",
    "\n",
    "\n",
    "folder = '/projects/ps-yeolab/obotvinnik/singlecell_pnms'\n",
    "csv_folder = '{}/csvs_for_paper/'.format(folder)\n",
    "bed_folder = '{}/bed'.format(folder)\n",
    "\n",
    "\n",
    "\n",
    "splicing_feature_folder = '{}/splicing_feature_data'.format(csv_folder)\n",
    "alternative_feature_folder = '{}/alternative'.format(splicing_feature_folder)\n",
    "constitutive_feature_folder = '{}/constitutive'.format(splicing_feature_folder)"
   ]
  },
  {
   "cell_type": "code",
   "execution_count": 133,
   "metadata": {
    "collapsed": false
   },
   "outputs": [
    {
     "data": {
      "text/plain": [
       "False"
      ]
     },
     "execution_count": 133,
     "metadata": {},
     "output_type": "execute_result"
    }
   ],
   "source": [
    "event = 'exon:chr10:1043148-1043248:+@exon:chr10:1044943-1045035:+@exon:chr10:1046617-1046808:+'\n",
    "\n",
    "event in study.splicing.data"
   ]
  },
  {
   "cell_type": "code",
   "execution_count": 134,
   "metadata": {
    "collapsed": false
   },
   "outputs": [
    {
     "data": {
      "text/html": [
       "<div>\n",
       "<table border=\"1\" class=\"dataframe\">\n",
       "  <thead>\n",
       "    <tr style=\"text-align: right;\">\n",
       "      <th></th>\n",
       "      <th>phenotype</th>\n",
       "      <th>event_id</th>\n",
       "      <th>modality</th>\n",
       "    </tr>\n",
       "  </thead>\n",
       "  <tbody>\n",
       "    <tr>\n",
       "      <th>0</th>\n",
       "      <td>MN</td>\n",
       "      <td>exon:chr10:102114184-102114389:+@exon:chr10:102116289-102116521:+@exon:chr10:102120491-102124591:+</td>\n",
       "      <td>included</td>\n",
       "    </tr>\n",
       "    <tr>\n",
       "      <th>1</th>\n",
       "      <td>MN</td>\n",
       "      <td>exon:chr10:102286732-102286831:-@exon:chr10:102286156-102286311:-@exon:chr10:102283500-102283686:-</td>\n",
       "      <td>included</td>\n",
       "    </tr>\n",
       "    <tr>\n",
       "      <th>2</th>\n",
       "      <td>MN</td>\n",
       "      <td>exon:chr10:103360960-103361093:+@exon:chr10:103364897-103364969:+@exon:chr10:103368592-103368694:+</td>\n",
       "      <td>bimodal</td>\n",
       "    </tr>\n",
       "    <tr>\n",
       "      <th>3</th>\n",
       "      <td>MN</td>\n",
       "      <td>exon:chr10:103563492-103563776:-@exon:chr10:103559999-103560157:-@exon:chr10:103558599-103559212:-</td>\n",
       "      <td>bimodal</td>\n",
       "    </tr>\n",
       "    <tr>\n",
       "      <th>4</th>\n",
       "      <td>MN</td>\n",
       "      <td>exon:chr10:103567487-103567658:-@exon:chr10:103565802-103565900:-@exon:chr10:103563504-103563776:-</td>\n",
       "      <td>included</td>\n",
       "    </tr>\n",
       "  </tbody>\n",
       "</table>\n",
       "</div>"
      ],
      "text/plain": [
       "  phenotype  \\\n",
       "0        MN   \n",
       "1        MN   \n",
       "2        MN   \n",
       "3        MN   \n",
       "4        MN   \n",
       "\n",
       "                                                                                             event_id  \\\n",
       "0  exon:chr10:102114184-102114389:+@exon:chr10:102116289-102116521:+@exon:chr10:102120491-102124591:+   \n",
       "1  exon:chr10:102286732-102286831:-@exon:chr10:102286156-102286311:-@exon:chr10:102283500-102283686:-   \n",
       "2  exon:chr10:103360960-103361093:+@exon:chr10:103364897-103364969:+@exon:chr10:103368592-103368694:+   \n",
       "3  exon:chr10:103563492-103563776:-@exon:chr10:103559999-103560157:-@exon:chr10:103558599-103559212:-   \n",
       "4  exon:chr10:103567487-103567658:-@exon:chr10:103565802-103565900:-@exon:chr10:103563504-103563776:-   \n",
       "\n",
       "   modality  \n",
       "0  included  \n",
       "1  included  \n",
       "2   bimodal  \n",
       "3   bimodal  \n",
       "4  included  "
      ]
     },
     "execution_count": 134,
     "metadata": {},
     "output_type": "execute_result"
    }
   ],
   "source": [
    "study.supplemental.modalities_tidy.head()"
   ]
  },
  {
   "cell_type": "code",
   "execution_count": 135,
   "metadata": {
    "collapsed": false
   },
   "outputs": [
    {
     "name": "stdout",
     "output_type": "stream",
     "text": [
      "mkdir: cannot create directory `pdfs': File exists\r\n"
     ]
    }
   ],
   "source": [
    "figure_folder = 'pdfs' #'/home/obotvinnik/Dropbox/figures2/singlecell_pnm/figure2_modalities/bayesian/sequence_conservation_features'\n",
    "! mkdir $figure_folder"
   ]
  },
  {
   "cell_type": "markdown",
   "metadata": {},
   "source": [
    "## GC Content"
   ]
  },
  {
   "cell_type": "code",
   "execution_count": 136,
   "metadata": {
    "collapsed": false
   },
   "outputs": [
    {
     "name": "stdout",
     "output_type": "stream",
     "text": [
      "(43903,)\n"
     ]
    },
    {
     "data": {
      "text/plain": [
       "0\n",
       "exon:chr10:102003455-102003534:-@exon:chr10:101997779-101997988:-@exon:chr10:101996607-101996726:-@exon:chr10:101995424-101995521:-    48.571429\n",
       "exon:chr10:102013178-102013296:-@exon:chr10:102010005-102010089:-@exon:chr10:102003455-102003534:-@exon:chr10:101997940-101997988:-    40.000000\n",
       "exon:chr10:102020723-102020801:-@exon:chr10:102019975-102020076:-@exon:chr10:102016019-102016233:-@exon:chr10:102013178-102013296:-    37.254902\n",
       "exon:chr10:102021736-102021820:-@exon:chr10:102019975-102020076:-@exon:chr10:102016019-102016233:-@exon:chr10:102013178-102013296:-    37.254902\n",
       "exon:chr10:102021736-102021820:-@exon:chr10:102020723-102020785:-@exon:chr10:102016019-102016233:-@exon:chr10:102013178-102013296:-    44.444444\n",
       "Name: GC, dtype: float64"
      ]
     },
     "execution_count": 136,
     "metadata": {},
     "output_type": "execute_result"
    }
   ],
   "source": [
    "csv = 'gc_content.csv'\n",
    "alternative_gc = pd.read_csv('{}/{}'.format(alternative_feature_folder, csv), index_col=0, squeeze=True, header=None)\n",
    "alternative_gc.name = 'GC'\n",
    "six.print_(alternative_gc.shape)\n",
    "alternative_gc.head()"
   ]
  },
  {
   "cell_type": "code",
   "execution_count": 137,
   "metadata": {
    "collapsed": false
   },
   "outputs": [
    {
     "data": {
      "text/html": [
       "<div>\n",
       "<table border=\"1\" class=\"dataframe\">\n",
       "  <thead>\n",
       "    <tr style=\"text-align: right;\">\n",
       "      <th></th>\n",
       "      <th>phenotype</th>\n",
       "      <th>event_id</th>\n",
       "      <th>modality</th>\n",
       "      <th>GC</th>\n",
       "    </tr>\n",
       "  </thead>\n",
       "  <tbody>\n",
       "    <tr>\n",
       "      <th>0</th>\n",
       "      <td>MN</td>\n",
       "      <td>exon:chr10:102114184-102114389:+@exon:chr10:102116289-102116521:+@exon:chr10:102120491-102124591:+</td>\n",
       "      <td>included</td>\n",
       "      <td>50.214592</td>\n",
       "    </tr>\n",
       "    <tr>\n",
       "      <th>1</th>\n",
       "      <td>MN</td>\n",
       "      <td>exon:chr10:102286732-102286831:-@exon:chr10:102286156-102286311:-@exon:chr10:102283500-102283686:-</td>\n",
       "      <td>included</td>\n",
       "      <td>51.923077</td>\n",
       "    </tr>\n",
       "    <tr>\n",
       "      <th>2</th>\n",
       "      <td>MN</td>\n",
       "      <td>exon:chr10:103360960-103361093:+@exon:chr10:103364897-103364969:+@exon:chr10:103368592-103368694:+</td>\n",
       "      <td>bimodal</td>\n",
       "      <td>65.753425</td>\n",
       "    </tr>\n",
       "    <tr>\n",
       "      <th>3</th>\n",
       "      <td>MN</td>\n",
       "      <td>exon:chr10:103563492-103563776:-@exon:chr10:103559999-103560157:-@exon:chr10:103558599-103559212:-</td>\n",
       "      <td>bimodal</td>\n",
       "      <td>39.622642</td>\n",
       "    </tr>\n",
       "    <tr>\n",
       "      <th>4</th>\n",
       "      <td>MN</td>\n",
       "      <td>exon:chr10:103567487-103567658:-@exon:chr10:103565802-103565900:-@exon:chr10:103563504-103563776:-</td>\n",
       "      <td>included</td>\n",
       "      <td>41.414141</td>\n",
       "    </tr>\n",
       "  </tbody>\n",
       "</table>\n",
       "</div>"
      ],
      "text/plain": [
       "  phenotype  \\\n",
       "0        MN   \n",
       "1        MN   \n",
       "2        MN   \n",
       "3        MN   \n",
       "4        MN   \n",
       "\n",
       "                                                                                             event_id  \\\n",
       "0  exon:chr10:102114184-102114389:+@exon:chr10:102116289-102116521:+@exon:chr10:102120491-102124591:+   \n",
       "1  exon:chr10:102286732-102286831:-@exon:chr10:102286156-102286311:-@exon:chr10:102283500-102283686:-   \n",
       "2  exon:chr10:103360960-103361093:+@exon:chr10:103364897-103364969:+@exon:chr10:103368592-103368694:+   \n",
       "3  exon:chr10:103563492-103563776:-@exon:chr10:103559999-103560157:-@exon:chr10:103558599-103559212:-   \n",
       "4  exon:chr10:103567487-103567658:-@exon:chr10:103565802-103565900:-@exon:chr10:103563504-103563776:-   \n",
       "\n",
       "   modality         GC  \n",
       "0  included  50.214592  \n",
       "1  included  51.923077  \n",
       "2   bimodal  65.753425  \n",
       "3   bimodal  39.622642  \n",
       "4  included  41.414141  "
      ]
     },
     "execution_count": 137,
     "metadata": {},
     "output_type": "execute_result"
    }
   ],
   "source": [
    "modalities_gc = study.supplemental.modalities_tidy.join(alternative_gc, on='event_id')\n",
    "modalities_gc.head()"
   ]
  },
  {
   "cell_type": "code",
   "execution_count": 138,
   "metadata": {
    "collapsed": true
   },
   "outputs": [],
   "source": [
    "pd.options.display.max_colwidth = 100"
   ]
  },
  {
   "cell_type": "code",
   "execution_count": 139,
   "metadata": {
    "collapsed": false
   },
   "outputs": [
    {
     "data": {
      "text/plain": [
       "Series([], Name: event_id, dtype: object)"
      ]
     },
     "execution_count": 139,
     "metadata": {},
     "output_type": "execute_result"
    }
   ],
   "source": [
    "modalities_gc.event_id[modalities_gc.GC.isnull()]"
   ]
  },
  {
   "cell_type": "code",
   "execution_count": 140,
   "metadata": {
    "collapsed": true
   },
   "outputs": [],
   "source": [
    "event = 'exon:chr10:1043148-1043248:+@exon:chr10:1044943-1045035:+@exon:chr10:1046617-1046808:+'"
   ]
  },
  {
   "cell_type": "code",
   "execution_count": 141,
   "metadata": {
    "collapsed": false
   },
   "outputs": [
    {
     "name": "stdout",
     "output_type": "stream",
     "text": [
      "(5893,)\n"
     ]
    },
    {
     "data": {
      "text/plain": [
       "0\n",
       "exon:chr10:102039881-102039985:-    44.761905\n",
       "exon:chr10:102040691-102040810:-    34.166667\n",
       "exon:chr10:102045854-102045970:-    57.264957\n",
       "exon:chr10:102286732-102286831:-    60.000000\n",
       "exon:chr10:102289123-102289263:-    58.156028\n",
       "Name: GC, dtype: float64"
      ]
     },
     "execution_count": 141,
     "metadata": {},
     "output_type": "execute_result"
    }
   ],
   "source": [
    "constitutive_gc = pd.read_csv('{}/{}'.format(constitutive_feature_folder, csv), index_col=0, squeeze=True, header=None)\n",
    "constitutive_gc.name = 'GC'\n",
    "six.print_(constitutive_gc.shape)\n",
    "constitutive_gc.head()"
   ]
  },
  {
   "cell_type": "code",
   "execution_count": 142,
   "metadata": {
    "collapsed": false
   },
   "outputs": [
    {
     "data": {
      "text/plain": [
       "event_id\n",
       "exon:chr10:102039881-102039985:-    44.761905\n",
       "exon:chr10:102040691-102040810:-    34.166667\n",
       "exon:chr10:102045854-102045970:-    57.264957\n",
       "exon:chr10:102286732-102286831:-    60.000000\n",
       "exon:chr10:102289123-102289263:-    58.156028\n",
       "Name: GC, dtype: float64"
      ]
     },
     "execution_count": 142,
     "metadata": {},
     "output_type": "execute_result"
    }
   ],
   "source": [
    "constitutive_gc.index.name = 'event_id'\n",
    "constitutive_gc.head()"
   ]
  },
  {
   "cell_type": "code",
   "execution_count": 143,
   "metadata": {
    "collapsed": false
   },
   "outputs": [
    {
     "name": "stdout",
     "output_type": "stream",
     "text": [
      "(17679, 4)\n"
     ]
    },
    {
     "data": {
      "text/html": [
       "<div>\n",
       "<table border=\"1\" class=\"dataframe\">\n",
       "  <thead>\n",
       "    <tr style=\"text-align: right;\">\n",
       "      <th></th>\n",
       "      <th>event_id</th>\n",
       "      <th>GC</th>\n",
       "      <th>modality</th>\n",
       "      <th>phenotype</th>\n",
       "    </tr>\n",
       "  </thead>\n",
       "  <tbody>\n",
       "    <tr>\n",
       "      <th>0</th>\n",
       "      <td>exon:chr10:102039881-102039985:-</td>\n",
       "      <td>44.761905</td>\n",
       "      <td>constitutive</td>\n",
       "      <td>iPSC</td>\n",
       "    </tr>\n",
       "    <tr>\n",
       "      <th>1</th>\n",
       "      <td>exon:chr10:102040691-102040810:-</td>\n",
       "      <td>34.166667</td>\n",
       "      <td>constitutive</td>\n",
       "      <td>iPSC</td>\n",
       "    </tr>\n",
       "    <tr>\n",
       "      <th>2</th>\n",
       "      <td>exon:chr10:102045854-102045970:-</td>\n",
       "      <td>57.264957</td>\n",
       "      <td>constitutive</td>\n",
       "      <td>iPSC</td>\n",
       "    </tr>\n",
       "    <tr>\n",
       "      <th>3</th>\n",
       "      <td>exon:chr10:102286732-102286831:-</td>\n",
       "      <td>60.000000</td>\n",
       "      <td>constitutive</td>\n",
       "      <td>iPSC</td>\n",
       "    </tr>\n",
       "    <tr>\n",
       "      <th>4</th>\n",
       "      <td>exon:chr10:102289123-102289263:-</td>\n",
       "      <td>58.156028</td>\n",
       "      <td>constitutive</td>\n",
       "      <td>iPSC</td>\n",
       "    </tr>\n",
       "  </tbody>\n",
       "</table>\n",
       "</div>"
      ],
      "text/plain": [
       "                           event_id         GC      modality phenotype\n",
       "0  exon:chr10:102039881-102039985:-  44.761905  constitutive      iPSC\n",
       "1  exon:chr10:102040691-102040810:-  34.166667  constitutive      iPSC\n",
       "2  exon:chr10:102045854-102045970:-  57.264957  constitutive      iPSC\n",
       "3  exon:chr10:102286732-102286831:-  60.000000  constitutive      iPSC\n",
       "4  exon:chr10:102289123-102289263:-  58.156028  constitutive      iPSC"
      ]
     },
     "execution_count": 143,
     "metadata": {},
     "output_type": "execute_result"
    }
   ],
   "source": [
    "constitutive_gc_df = constitutive_gc.to_frame()\n",
    "constitutive_gc_df['modality'] = 'constitutive'\n",
    "dfs = []\n",
    "for phenotype in study.phenotype_order:\n",
    "    df = constitutive_gc_df.copy().reset_index()\n",
    "    df['phenotype'] = phenotype\n",
    "    dfs.append(df)\n",
    "constitutive_gc_df = pd.concat(dfs)\n",
    "six.print_(constitutive_gc_df.shape)\n",
    "constitutive_gc_df.head()"
   ]
  },
  {
   "cell_type": "code",
   "execution_count": 144,
   "metadata": {
    "collapsed": false
   },
   "outputs": [
    {
     "name": "stdout",
     "output_type": "stream",
     "text": [
      "(32532, 4)\n"
     ]
    },
    {
     "data": {
      "text/html": [
       "<div>\n",
       "<table border=\"1\" class=\"dataframe\">\n",
       "  <thead>\n",
       "    <tr style=\"text-align: right;\">\n",
       "      <th></th>\n",
       "      <th>GC</th>\n",
       "      <th>event_id</th>\n",
       "      <th>modality</th>\n",
       "      <th>phenotype</th>\n",
       "    </tr>\n",
       "  </thead>\n",
       "  <tbody>\n",
       "    <tr>\n",
       "      <th>0</th>\n",
       "      <td>50.214592</td>\n",
       "      <td>exon:chr10:102114184-102114389:+@exon:chr10:102116289-102116521:+@exon:chr10:102120491-102124591:+</td>\n",
       "      <td>included</td>\n",
       "      <td>MN</td>\n",
       "    </tr>\n",
       "    <tr>\n",
       "      <th>1</th>\n",
       "      <td>51.923077</td>\n",
       "      <td>exon:chr10:102286732-102286831:-@exon:chr10:102286156-102286311:-@exon:chr10:102283500-102283686:-</td>\n",
       "      <td>included</td>\n",
       "      <td>MN</td>\n",
       "    </tr>\n",
       "    <tr>\n",
       "      <th>2</th>\n",
       "      <td>65.753425</td>\n",
       "      <td>exon:chr10:103360960-103361093:+@exon:chr10:103364897-103364969:+@exon:chr10:103368592-103368694:+</td>\n",
       "      <td>bimodal</td>\n",
       "      <td>MN</td>\n",
       "    </tr>\n",
       "    <tr>\n",
       "      <th>3</th>\n",
       "      <td>39.622642</td>\n",
       "      <td>exon:chr10:103563492-103563776:-@exon:chr10:103559999-103560157:-@exon:chr10:103558599-103559212:-</td>\n",
       "      <td>bimodal</td>\n",
       "      <td>MN</td>\n",
       "    </tr>\n",
       "    <tr>\n",
       "      <th>4</th>\n",
       "      <td>41.414141</td>\n",
       "      <td>exon:chr10:103567487-103567658:-@exon:chr10:103565802-103565900:-@exon:chr10:103563504-103563776:-</td>\n",
       "      <td>included</td>\n",
       "      <td>MN</td>\n",
       "    </tr>\n",
       "  </tbody>\n",
       "</table>\n",
       "</div>"
      ],
      "text/plain": [
       "          GC  \\\n",
       "0  50.214592   \n",
       "1  51.923077   \n",
       "2  65.753425   \n",
       "3  39.622642   \n",
       "4  41.414141   \n",
       "\n",
       "                                                                                             event_id  \\\n",
       "0  exon:chr10:102114184-102114389:+@exon:chr10:102116289-102116521:+@exon:chr10:102120491-102124591:+   \n",
       "1  exon:chr10:102286732-102286831:-@exon:chr10:102286156-102286311:-@exon:chr10:102283500-102283686:-   \n",
       "2  exon:chr10:103360960-103361093:+@exon:chr10:103364897-103364969:+@exon:chr10:103368592-103368694:+   \n",
       "3  exon:chr10:103563492-103563776:-@exon:chr10:103559999-103560157:-@exon:chr10:103558599-103559212:-   \n",
       "4  exon:chr10:103567487-103567658:-@exon:chr10:103565802-103565900:-@exon:chr10:103563504-103563776:-   \n",
       "\n",
       "   modality phenotype  \n",
       "0  included        MN  \n",
       "1  included        MN  \n",
       "2   bimodal        MN  \n",
       "3   bimodal        MN  \n",
       "4  included        MN  "
      ]
     },
     "execution_count": 144,
     "metadata": {},
     "output_type": "execute_result"
    }
   ],
   "source": [
    "modalities_gc_df = pd.concat([modalities_gc, constitutive_gc_df])\n",
    "six.print_(modalities_gc_df.shape)\n",
    "modalities_gc_df.head()"
   ]
  },
  {
   "cell_type": "code",
   "execution_count": 145,
   "metadata": {
    "collapsed": true
   },
   "outputs": [],
   "source": [
    "prefix = 'gc_content'\n",
    "csv = '{}.csv'.format(prefix)"
   ]
  },
  {
   "cell_type": "code",
   "execution_count": 146,
   "metadata": {
    "collapsed": true
   },
   "outputs": [],
   "source": [
    "import seaborn as sns\n",
    "sns.set(style='ticks', context='paper', rc={'font.sans-serif':'Arial', 'pdf.fonttype': 42})\n"
   ]
  },
  {
   "cell_type": "code",
   "execution_count": 147,
   "metadata": {
    "collapsed": false
   },
   "outputs": [
    {
     "data": {
      "image/png": "[encoded data removed]",
      "text/plain": [
       "<matplotlib.figure.Figure at 0x2b5aee04d290>"
      ]
     },
     "metadata": {},
     "output_type": "display_data"
    }
   ],
   "source": [
    "fig, ax = plt.subplots(figsize=(2, 1.5))\n",
    "sns.boxplot(x='phenotype', hue='modality', y='GC', \n",
    "            data=modalities_gc_df, hue_order=modality_order, palette=modality_palette, \n",
    "            order=study.phenotype_order, linewidth=1, fliersize=2)\n",
    "ax.locator_params('y', nbins=4)\n",
    "ax.legend_.set_visible(False)\n",
    "sns.despine()\n",
    "ax.set(xlabel='')\n",
    "fig.tight_layout()\n",
    "fig.savefig('{}/gc_content_boxplot.pdf'.format(figure_folder))"
   ]
  },
  {
   "cell_type": "code",
   "execution_count": 148,
   "metadata": {
    "collapsed": false
   },
   "outputs": [
    {
     "data": {
      "text/plain": [
       "<seaborn.axisgrid.FacetGrid at 0x2b5b25f23290>"
      ]
     },
     "execution_count": 148,
     "metadata": {},
     "output_type": "execute_result"
    },
    {
     "data": {
      "image/png": "[encoded data removed]",
      "text/plain": [
       "<matplotlib.figure.Figure at 0x2b5aee5a6690>"
      ]
     },
     "metadata": {},
     "output_type": "display_data"
    }
   ],
   "source": [
    "g = sns.FacetGrid(col='phenotype', hue='modality', size=2,\n",
    "            data=modalities_gc_df, hue_order=modality_order, palette=modality_palette, \n",
    "            col_order=study.phenotype_order)\n",
    "\n",
    "g.map(sns.distplot, 'GC', hist=False)"
   ]
  },
  {
   "cell_type": "code",
   "execution_count": 149,
   "metadata": {
    "collapsed": false
   },
   "outputs": [
    {
     "data": {
      "text/plain": [
       "<seaborn.axisgrid.FacetGrid at 0x2b5b2b3b1090>"
      ]
     },
     "execution_count": 149,
     "metadata": {},
     "output_type": "execute_result"
    },
    {
     "data": {
      "image/png": "[encoded data removed]",
      "text/plain": [
       "<matplotlib.figure.Figure at 0x2b5aee3870d0>"
      ]
     },
     "metadata": {},
     "output_type": "display_data"
    }
   ],
   "source": [
    "g = sns.FacetGrid(col='phenotype', hue='modality', size=2,\n",
    "            data=modalities_gc_df, hue_order=modality_order, palette=modality_palette, \n",
    "            col_order=study.phenotype_order)\n",
    "\n",
    "g.map(sns.distplot, 'GC', kde_kws=dict(cumulative=True), hist=False)"
   ]
  },
  {
   "cell_type": "markdown",
   "metadata": {},
   "source": [
    "### Statistical enrichment - pairwise mannwhitneyu"
   ]
  },
  {
   "cell_type": "code",
   "execution_count": 152,
   "metadata": {
    "collapsed": false
   },
   "outputs": [
    {
     "name": "stdout",
     "output_type": "stream",
     "text": [
      "MN\n",
      "NPC\n",
      "iPSC\n",
      "modality1      excluded   bimodal   included  constitutive\n",
      "excluded            NaN -0.203298  11.495986      7.462538\n",
      "bimodal       -0.203298       NaN   4.020613      1.524955\n",
      "included      11.495986  4.020613        NaN      0.170002\n",
      "constitutive   7.462538  1.524955   0.170002           NaN\n"
     ]
    },
    {
     "data": {
      "image/png": "[encoded data removed]",
      "text/plain": [
       "<matplotlib.figure.Figure at 0x2b5b07a9ccd0>"
      ]
     },
     "metadata": {},
     "output_type": "display_data"
    }
   ],
   "source": [
    "import itertools\n",
    "from scipy.stats.mstats import mannwhitneyu\n",
    "\n",
    "col = 'GC'\n",
    "\n",
    "lines = []\n",
    "\n",
    "for phenotype, phenotype_df in modalities_gc_df.groupby(['phenotype']):\n",
    "    six.print_(phenotype)\n",
    "    grouped = phenotype_df.groupby('modality')\n",
    "#     constitutive = grouped.get_group('constitutive')\n",
    "    \n",
    "    for (modality1, df1), (modality2, df2) in itertools.combinations(grouped, 2):\n",
    "#         if modality == 'constitutive':\n",
    "#             continue\n",
    "#         six.print_('\\t', modality1, modality2)\n",
    "\n",
    "        result = mannwhitneyu(df1[col], df2[col])\n",
    "#         six.print_('\\t\\t', result)\n",
    "#         results.loc[modality1, modality2] = result.pvalue\n",
    "        lines.append([phenotype, modality1, modality2, result.pvalue, result.statistic])\n",
    "enrichment = pd.DataFrame(lines, columns=['phenotype', 'modality1', 'modality2', 'p_value', 'statistic'])\n",
    "\n",
    "# multiple testing correction\n",
    "enrichment['bonferonni_p_value'] = enrichment['p_value'] * enrichment.shape[0]\n",
    "enrichment.head()\n",
    "\n",
    "# Transform tidy dataframe into 2d matrix\n",
    "enrichment_2d = enrichment.groupby('phenotype').apply(\n",
    "    lambda x: x.pivot(index='modality1', columns='modality2', values='bonferonni_p_value'))\n",
    "enrichment_2d = enrichment_2d.loc[:, modality_order]\n",
    "enrichment_2d_log10 = -np.log10(enrichment_2d)\n",
    "\n",
    "# Plot p-value heatmap\n",
    "fig, ax = plt.subplots(figsize=(.75, .5))\n",
    "ipsc = enrichment_2d_log10.loc['iPSC']\n",
    "ipsc = ipsc.loc[modality_order]\n",
    "ipsc = ipsc.T.fillna(0) + ipsc.fillna(0)\n",
    "ipsc = ipsc.replace(0, np.nan)\n",
    "six.print_(ipsc)\n",
    "\n",
    "sns.heatmap(ipsc, vmin=0, linewidth=0.5, linecolor='grey')\n",
    "ax.set(xticks=[], yticks=[], xlabel='', ylabel='');\n",
    "sns.despine(left=False, bottom=False, right=False, top=False)\n",
    "fig.savefig('{}/{}_p_value_heatmap.pdf'.format(figure_folder, col))"
   ]
  },
  {
   "cell_type": "markdown",
   "metadata": {},
   "source": [
    "## Exon conservation\n",
    "Used `bigWigAverageOverBed`"
   ]
  },
  {
   "cell_type": "code",
   "execution_count": 153,
   "metadata": {
    "collapsed": false
   },
   "outputs": [
    {
     "name": "stdout",
     "output_type": "stream",
     "text": [
      "bigWigAverageOverBed - Compute average score of big wig over each bed, which may have introns.\r\n",
      "usage:\r\n",
      "   bigWigAverageOverBed in.bw in.bed out.tab\r\n",
      "The output columns are:\r\n",
      "   name - name field from bed, which should be unique\r\n",
      "   size - size of bed (sum of exon sizes\r\n",
      "   covered - # bases within exons covered by bigWig\r\n",
      "   sum - sum of values over all bases covered\r\n",
      "   mean0 - average over bases with non-covered bases counting as zeroes\r\n",
      "   mean - average over just covered bases\r\n",
      "Options:\r\n",
      "   -bedOut=out.bed - Make output bed that is echo of input bed but with mean column appended\r\n",
      "   -sampleAroundCenter=N - Take sample at region N bases wide centered around bed item, rather\r\n",
      "                     than the usual sample in the bed item.\r\n",
      "\r\n"
     ]
    }
   ],
   "source": [
    "! bigWigAverageOverBed"
   ]
  },
  {
   "cell_type": "code",
   "execution_count": 154,
   "metadata": {
    "collapsed": false
   },
   "outputs": [
    {
     "name": "stdout",
     "output_type": "stream",
     "text": [
      "exon:chr1:10002682-10002840:-\t158\t158\t17.289\t0.109424\t0.109424\r\n",
      "exon:chr1:104070317-104070364:+\t47\t47\t46.991\t0.999809\t0.999809\r\n",
      "exon:chr1:104076361-104076479:+\t118\t118\t91.811\t0.778059\t0.778059\r\n",
      "exon:chr1:10464218-10464336:+\t118\t118\t94.521\t0.801025\t0.801025\r\n",
      "exon:chr1:10468128-10468197:+\t69\t69\t54.443\t0.789029\t0.789029\r\n",
      "exon:chr1:10471475-10471609:+\t134\t134\t106.817\t0.797142\t0.797142\r\n",
      "exon:chr1:10473119-10473308:+\t189\t189\t156.75\t0.829365\t0.829365\r\n",
      "exon:chr1:10477044-10477174:+\t130\t130\t97.078\t0.746754\t0.746754\r\n",
      "exon:chr1:10477433-10477566:+\t133\t133\t124.756\t0.938015\t0.938015\r\n",
      "exon:chr1:10478883-10478982:+\t99\t99\t86.846\t0.877232\t0.877232\r\n"
     ]
    }
   ],
   "source": [
    "txt = 'phastcons_placental_mammal.txt'\n",
    "! head $constitutive_feature_folder/$txt"
   ]
  },
  {
   "cell_type": "code",
   "execution_count": 155,
   "metadata": {
    "collapsed": true
   },
   "outputs": [],
   "source": [
    "columns = ['event_id', 'size', 'covered', 'sum', 'mean0', 'mean']"
   ]
  },
  {
   "cell_type": "code",
   "execution_count": 156,
   "metadata": {
    "collapsed": false
   },
   "outputs": [
    {
     "name": "stdout",
     "output_type": "stream",
     "text": [
      "(5893, 5)\n"
     ]
    },
    {
     "data": {
      "text/html": [
       "<div>\n",
       "<table border=\"1\" class=\"dataframe\">\n",
       "  <thead>\n",
       "    <tr style=\"text-align: right;\">\n",
       "      <th></th>\n",
       "      <th>size</th>\n",
       "      <th>covered</th>\n",
       "      <th>sum</th>\n",
       "      <th>mean0</th>\n",
       "      <th>mean</th>\n",
       "    </tr>\n",
       "    <tr>\n",
       "      <th>event_id</th>\n",
       "      <th></th>\n",
       "      <th></th>\n",
       "      <th></th>\n",
       "      <th></th>\n",
       "      <th></th>\n",
       "    </tr>\n",
       "  </thead>\n",
       "  <tbody>\n",
       "    <tr>\n",
       "      <th>exon:chr1:10002682-10002840:-</th>\n",
       "      <td>158</td>\n",
       "      <td>158</td>\n",
       "      <td>17.289</td>\n",
       "      <td>0.109424</td>\n",
       "      <td>0.109424</td>\n",
       "    </tr>\n",
       "    <tr>\n",
       "      <th>exon:chr1:104070317-104070364:+</th>\n",
       "      <td>47</td>\n",
       "      <td>47</td>\n",
       "      <td>46.991</td>\n",
       "      <td>0.999809</td>\n",
       "      <td>0.999809</td>\n",
       "    </tr>\n",
       "    <tr>\n",
       "      <th>exon:chr1:104076361-104076479:+</th>\n",
       "      <td>118</td>\n",
       "      <td>118</td>\n",
       "      <td>91.811</td>\n",
       "      <td>0.778059</td>\n",
       "      <td>0.778059</td>\n",
       "    </tr>\n",
       "    <tr>\n",
       "      <th>exon:chr1:10464218-10464336:+</th>\n",
       "      <td>118</td>\n",
       "      <td>118</td>\n",
       "      <td>94.521</td>\n",
       "      <td>0.801025</td>\n",
       "      <td>0.801025</td>\n",
       "    </tr>\n",
       "    <tr>\n",
       "      <th>exon:chr1:10468128-10468197:+</th>\n",
       "      <td>69</td>\n",
       "      <td>69</td>\n",
       "      <td>54.443</td>\n",
       "      <td>0.789029</td>\n",
       "      <td>0.789029</td>\n",
       "    </tr>\n",
       "  </tbody>\n",
       "</table>\n",
       "</div>"
      ],
      "text/plain": [
       "                                 size  covered     sum     mean0      mean\n",
       "event_id                                                                  \n",
       "exon:chr1:10002682-10002840:-     158      158  17.289  0.109424  0.109424\n",
       "exon:chr1:104070317-104070364:+    47       47  46.991  0.999809  0.999809\n",
       "exon:chr1:104076361-104076479:+   118      118  91.811  0.778059  0.778059\n",
       "exon:chr1:10464218-10464336:+     118      118  94.521  0.801025  0.801025\n",
       "exon:chr1:10468128-10468197:+      69       69  54.443  0.789029  0.789029"
      ]
     },
     "execution_count": 156,
     "metadata": {},
     "output_type": "execute_result"
    }
   ],
   "source": [
    "constitutive_conservation = pd.read_table('{}/{}'.format(constitutive_feature_folder, txt), header=None, names=columns,\n",
    "                                         index_col=0)\n",
    "six.print_(constitutive_conservation.shape)\n",
    "constitutive_conservation.head()"
   ]
  },
  {
   "cell_type": "code",
   "execution_count": 157,
   "metadata": {
    "collapsed": false
   },
   "outputs": [
    {
     "name": "stdout",
     "output_type": "stream",
     "text": [
      "(26379, 5)\n"
     ]
    },
    {
     "data": {
      "text/html": [
       "<div>\n",
       "<table border=\"1\" class=\"dataframe\">\n",
       "  <thead>\n",
       "    <tr style=\"text-align: right;\">\n",
       "      <th></th>\n",
       "      <th>size</th>\n",
       "      <th>covered</th>\n",
       "      <th>sum</th>\n",
       "      <th>mean0</th>\n",
       "      <th>mean</th>\n",
       "    </tr>\n",
       "    <tr>\n",
       "      <th>event_id</th>\n",
       "      <th></th>\n",
       "      <th></th>\n",
       "      <th></th>\n",
       "      <th></th>\n",
       "      <th></th>\n",
       "    </tr>\n",
       "  </thead>\n",
       "  <tbody>\n",
       "    <tr>\n",
       "      <th>exon:chr1:100316591-100316680:+@exon:chr1:100318117-100318259:+@exon:chr1:100327059-100327269:+</th>\n",
       "      <td>142</td>\n",
       "      <td>142</td>\n",
       "      <td>1.270</td>\n",
       "      <td>0.008944</td>\n",
       "      <td>0.008944</td>\n",
       "    </tr>\n",
       "    <tr>\n",
       "      <th>exon:chr1:100376268-100376403:+@exon:chr1:100377961-100378073:+@exon:chr1:100379083-100379294:+</th>\n",
       "      <td>112</td>\n",
       "      <td>112</td>\n",
       "      <td>102.294</td>\n",
       "      <td>0.913339</td>\n",
       "      <td>0.913339</td>\n",
       "    </tr>\n",
       "    <tr>\n",
       "      <th>exon:chr1:100435535-100435718:+@exon:chr1:100440527-100440625:+@exon:chr1:100459093-100459297:+</th>\n",
       "      <td>98</td>\n",
       "      <td>98</td>\n",
       "      <td>2.720</td>\n",
       "      <td>0.027755</td>\n",
       "      <td>0.027755</td>\n",
       "    </tr>\n",
       "    <tr>\n",
       "      <th>exon:chr1:100515465-100515560:+@exon:chr1:100524222-100524284:+@exon:chr1:100525434-100525561:+</th>\n",
       "      <td>62</td>\n",
       "      <td>62</td>\n",
       "      <td>61.983</td>\n",
       "      <td>0.999726</td>\n",
       "      <td>0.999726</td>\n",
       "    </tr>\n",
       "    <tr>\n",
       "      <th>exon:chr1:100533533-100533751:+@exon:chr1:100534029-100534142:+@exon:chr1:100535170-100535241:+</th>\n",
       "      <td>113</td>\n",
       "      <td>113</td>\n",
       "      <td>107.617</td>\n",
       "      <td>0.952363</td>\n",
       "      <td>0.952363</td>\n",
       "    </tr>\n",
       "  </tbody>\n",
       "</table>\n",
       "</div>"
      ],
      "text/plain": [
       "                                                                                                 size  \\\n",
       "event_id                                                                                                \n",
       "exon:chr1:100316591-100316680:+@exon:chr1:100318117-100318259:+@exon:chr1:100327059-100327269:+   142   \n",
       "exon:chr1:100376268-100376403:+@exon:chr1:100377961-100378073:+@exon:chr1:100379083-100379294:+   112   \n",
       "exon:chr1:100435535-100435718:+@exon:chr1:100440527-100440625:+@exon:chr1:100459093-100459297:+    98   \n",
       "exon:chr1:100515465-100515560:+@exon:chr1:100524222-100524284:+@exon:chr1:100525434-100525561:+    62   \n",
       "exon:chr1:100533533-100533751:+@exon:chr1:100534029-100534142:+@exon:chr1:100535170-100535241:+   113   \n",
       "\n",
       "                                                                                                 covered  \\\n",
       "event_id                                                                                                   \n",
       "exon:chr1:100316591-100316680:+@exon:chr1:100318117-100318259:+@exon:chr1:100327059-100327269:+      142   \n",
       "exon:chr1:100376268-100376403:+@exon:chr1:100377961-100378073:+@exon:chr1:100379083-100379294:+      112   \n",
       "exon:chr1:100435535-100435718:+@exon:chr1:100440527-100440625:+@exon:chr1:100459093-100459297:+       98   \n",
       "exon:chr1:100515465-100515560:+@exon:chr1:100524222-100524284:+@exon:chr1:100525434-100525561:+       62   \n",
       "exon:chr1:100533533-100533751:+@exon:chr1:100534029-100534142:+@exon:chr1:100535170-100535241:+      113   \n",
       "\n",
       "                                                                                                     sum  \\\n",
       "event_id                                                                                                   \n",
       "exon:chr1:100316591-100316680:+@exon:chr1:100318117-100318259:+@exon:chr1:100327059-100327269:+    1.270   \n",
       "exon:chr1:100376268-100376403:+@exon:chr1:100377961-100378073:+@exon:chr1:100379083-100379294:+  102.294   \n",
       "exon:chr1:100435535-100435718:+@exon:chr1:100440527-100440625:+@exon:chr1:100459093-100459297:+    2.720   \n",
       "exon:chr1:100515465-100515560:+@exon:chr1:100524222-100524284:+@exon:chr1:100525434-100525561:+   61.983   \n",
       "exon:chr1:100533533-100533751:+@exon:chr1:100534029-100534142:+@exon:chr1:100535170-100535241:+  107.617   \n",
       "\n",
       "                                                                                                    mean0  \\\n",
       "event_id                                                                                                    \n",
       "exon:chr1:100316591-100316680:+@exon:chr1:100318117-100318259:+@exon:chr1:100327059-100327269:+  0.008944   \n",
       "exon:chr1:100376268-100376403:+@exon:chr1:100377961-100378073:+@exon:chr1:100379083-100379294:+  0.913339   \n",
       "exon:chr1:100435535-100435718:+@exon:chr1:100440527-100440625:+@exon:chr1:100459093-100459297:+  0.027755   \n",
       "exon:chr1:100515465-100515560:+@exon:chr1:100524222-100524284:+@exon:chr1:100525434-100525561:+  0.999726   \n",
       "exon:chr1:100533533-100533751:+@exon:chr1:100534029-100534142:+@exon:chr1:100535170-100535241:+  0.952363   \n",
       "\n",
       "                                                                                                     mean  \n",
       "event_id                                                                                                   \n",
       "exon:chr1:100316591-100316680:+@exon:chr1:100318117-100318259:+@exon:chr1:100327059-100327269:+  0.008944  \n",
       "exon:chr1:100376268-100376403:+@exon:chr1:100377961-100378073:+@exon:chr1:100379083-100379294:+  0.913339  \n",
       "exon:chr1:100435535-100435718:+@exon:chr1:100440527-100440625:+@exon:chr1:100459093-100459297:+  0.027755  \n",
       "exon:chr1:100515465-100515560:+@exon:chr1:100524222-100524284:+@exon:chr1:100525434-100525561:+  0.999726  \n",
       "exon:chr1:100533533-100533751:+@exon:chr1:100534029-100534142:+@exon:chr1:100535170-100535241:+  0.952363  "
      ]
     },
     "execution_count": 157,
     "metadata": {},
     "output_type": "execute_result"
    }
   ],
   "source": [
    "alternative_conservation = pd.read_table('{}/{}'.format(alternative_feature_folder, txt), header=None, names=columns,\n",
    "                                         index_col=0)\n",
    "six.print_(alternative_conservation.shape)\n",
    "alternative_conservation.head()"
   ]
  },
  {
   "cell_type": "code",
   "execution_count": 158,
   "metadata": {
    "collapsed": false
   },
   "outputs": [],
   "source": [
    "def make_phenotype_modality_format(constitutive_df):\n",
    "    constitutive_df = constitutive_df.copy().reset_index()\n",
    "    constitutive_df['modality'] = 'constitutive'\n",
    "    dfs = []\n",
    "    for phenotype in study.phenotype_order:\n",
    "        df = constitutive_df.copy()#.reset_index()\n",
    "        df['phenotype'] = phenotype\n",
    "        dfs.append(df)\n",
    "    df = pd.concat(dfs)\n",
    "    six.print_(df.shape)\n",
    "#     df.head()\n",
    "    return df"
   ]
  },
  {
   "cell_type": "code",
   "execution_count": 159,
   "metadata": {
    "collapsed": false
   },
   "outputs": [
    {
     "data": {
      "text/html": [
       "<div>\n",
       "<table border=\"1\" class=\"dataframe\">\n",
       "  <thead>\n",
       "    <tr style=\"text-align: right;\">\n",
       "      <th></th>\n",
       "      <th>size</th>\n",
       "      <th>covered</th>\n",
       "      <th>sum</th>\n",
       "      <th>mean0</th>\n",
       "      <th>mean</th>\n",
       "    </tr>\n",
       "    <tr>\n",
       "      <th>event_id</th>\n",
       "      <th></th>\n",
       "      <th></th>\n",
       "      <th></th>\n",
       "      <th></th>\n",
       "      <th></th>\n",
       "    </tr>\n",
       "  </thead>\n",
       "  <tbody>\n",
       "    <tr>\n",
       "      <th>exon:chr1:10002682-10002840:-</th>\n",
       "      <td>158</td>\n",
       "      <td>158</td>\n",
       "      <td>17.289</td>\n",
       "      <td>0.109424</td>\n",
       "      <td>0.109424</td>\n",
       "    </tr>\n",
       "    <tr>\n",
       "      <th>exon:chr1:104070317-104070364:+</th>\n",
       "      <td>47</td>\n",
       "      <td>47</td>\n",
       "      <td>46.991</td>\n",
       "      <td>0.999809</td>\n",
       "      <td>0.999809</td>\n",
       "    </tr>\n",
       "    <tr>\n",
       "      <th>exon:chr1:104076361-104076479:+</th>\n",
       "      <td>118</td>\n",
       "      <td>118</td>\n",
       "      <td>91.811</td>\n",
       "      <td>0.778059</td>\n",
       "      <td>0.778059</td>\n",
       "    </tr>\n",
       "    <tr>\n",
       "      <th>exon:chr1:10464218-10464336:+</th>\n",
       "      <td>118</td>\n",
       "      <td>118</td>\n",
       "      <td>94.521</td>\n",
       "      <td>0.801025</td>\n",
       "      <td>0.801025</td>\n",
       "    </tr>\n",
       "    <tr>\n",
       "      <th>exon:chr1:10468128-10468197:+</th>\n",
       "      <td>69</td>\n",
       "      <td>69</td>\n",
       "      <td>54.443</td>\n",
       "      <td>0.789029</td>\n",
       "      <td>0.789029</td>\n",
       "    </tr>\n",
       "  </tbody>\n",
       "</table>\n",
       "</div>"
      ],
      "text/plain": [
       "                                 size  covered     sum     mean0      mean\n",
       "event_id                                                                  \n",
       "exon:chr1:10002682-10002840:-     158      158  17.289  0.109424  0.109424\n",
       "exon:chr1:104070317-104070364:+    47       47  46.991  0.999809  0.999809\n",
       "exon:chr1:104076361-104076479:+   118      118  91.811  0.778059  0.778059\n",
       "exon:chr1:10464218-10464336:+     118      118  94.521  0.801025  0.801025\n",
       "exon:chr1:10468128-10468197:+      69       69  54.443  0.789029  0.789029"
      ]
     },
     "execution_count": 159,
     "metadata": {},
     "output_type": "execute_result"
    }
   ],
   "source": [
    "constitutive_conservation.head()"
   ]
  },
  {
   "cell_type": "code",
   "execution_count": 160,
   "metadata": {
    "collapsed": false
   },
   "outputs": [
    {
     "name": "stdout",
     "output_type": "stream",
     "text": [
      "(17679, 8)\n"
     ]
    },
    {
     "data": {
      "text/html": [
       "<div>\n",
       "<table border=\"1\" class=\"dataframe\">\n",
       "  <thead>\n",
       "    <tr style=\"text-align: right;\">\n",
       "      <th></th>\n",
       "      <th>event_id</th>\n",
       "      <th>size</th>\n",
       "      <th>covered</th>\n",
       "      <th>sum</th>\n",
       "      <th>mean0</th>\n",
       "      <th>mean</th>\n",
       "      <th>modality</th>\n",
       "      <th>phenotype</th>\n",
       "    </tr>\n",
       "  </thead>\n",
       "  <tbody>\n",
       "    <tr>\n",
       "      <th>0</th>\n",
       "      <td>exon:chr1:10002682-10002840:-</td>\n",
       "      <td>158</td>\n",
       "      <td>158</td>\n",
       "      <td>17.289</td>\n",
       "      <td>0.109424</td>\n",
       "      <td>0.109424</td>\n",
       "      <td>constitutive</td>\n",
       "      <td>iPSC</td>\n",
       "    </tr>\n",
       "    <tr>\n",
       "      <th>1</th>\n",
       "      <td>exon:chr1:104070317-104070364:+</td>\n",
       "      <td>47</td>\n",
       "      <td>47</td>\n",
       "      <td>46.991</td>\n",
       "      <td>0.999809</td>\n",
       "      <td>0.999809</td>\n",
       "      <td>constitutive</td>\n",
       "      <td>iPSC</td>\n",
       "    </tr>\n",
       "    <tr>\n",
       "      <th>2</th>\n",
       "      <td>exon:chr1:104076361-104076479:+</td>\n",
       "      <td>118</td>\n",
       "      <td>118</td>\n",
       "      <td>91.811</td>\n",
       "      <td>0.778059</td>\n",
       "      <td>0.778059</td>\n",
       "      <td>constitutive</td>\n",
       "      <td>iPSC</td>\n",
       "    </tr>\n",
       "    <tr>\n",
       "      <th>3</th>\n",
       "      <td>exon:chr1:10464218-10464336:+</td>\n",
       "      <td>118</td>\n",
       "      <td>118</td>\n",
       "      <td>94.521</td>\n",
       "      <td>0.801025</td>\n",
       "      <td>0.801025</td>\n",
       "      <td>constitutive</td>\n",
       "      <td>iPSC</td>\n",
       "    </tr>\n",
       "    <tr>\n",
       "      <th>4</th>\n",
       "      <td>exon:chr1:10468128-10468197:+</td>\n",
       "      <td>69</td>\n",
       "      <td>69</td>\n",
       "      <td>54.443</td>\n",
       "      <td>0.789029</td>\n",
       "      <td>0.789029</td>\n",
       "      <td>constitutive</td>\n",
       "      <td>iPSC</td>\n",
       "    </tr>\n",
       "  </tbody>\n",
       "</table>\n",
       "</div>"
      ],
      "text/plain": [
       "                          event_id  size  covered     sum     mean0      mean  \\\n",
       "0    exon:chr1:10002682-10002840:-   158      158  17.289  0.109424  0.109424   \n",
       "1  exon:chr1:104070317-104070364:+    47       47  46.991  0.999809  0.999809   \n",
       "2  exon:chr1:104076361-104076479:+   118      118  91.811  0.778059  0.778059   \n",
       "3    exon:chr1:10464218-10464336:+   118      118  94.521  0.801025  0.801025   \n",
       "4    exon:chr1:10468128-10468197:+    69       69  54.443  0.789029  0.789029   \n",
       "\n",
       "       modality phenotype  \n",
       "0  constitutive      iPSC  \n",
       "1  constitutive      iPSC  \n",
       "2  constitutive      iPSC  \n",
       "3  constitutive      iPSC  \n",
       "4  constitutive      iPSC  "
      ]
     },
     "execution_count": 160,
     "metadata": {},
     "output_type": "execute_result"
    }
   ],
   "source": [
    "constitutive_df_modality = make_phenotype_modality_format(constitutive_conservation)\n",
    "constitutive_df_modality.head()"
   ]
  },
  {
   "cell_type": "code",
   "execution_count": 161,
   "metadata": {
    "collapsed": false
   },
   "outputs": [
    {
     "data": {
      "text/html": [
       "<div>\n",
       "<table border=\"1\" class=\"dataframe\">\n",
       "  <thead>\n",
       "    <tr style=\"text-align: right;\">\n",
       "      <th></th>\n",
       "      <th>phenotype</th>\n",
       "      <th>event_id</th>\n",
       "      <th>modality</th>\n",
       "      <th>size</th>\n",
       "      <th>covered</th>\n",
       "      <th>sum</th>\n",
       "      <th>mean0</th>\n",
       "      <th>mean</th>\n",
       "    </tr>\n",
       "  </thead>\n",
       "  <tbody>\n",
       "    <tr>\n",
       "      <th>0</th>\n",
       "      <td>MN</td>\n",
       "      <td>exon:chr10:102114184-102114389:+@exon:chr10:102116289-102116521:+@exon:chr10:102120491-102124591:+</td>\n",
       "      <td>included</td>\n",
       "      <td>232</td>\n",
       "      <td>232</td>\n",
       "      <td>162.071</td>\n",
       "      <td>0.698582</td>\n",
       "      <td>0.698582</td>\n",
       "    </tr>\n",
       "    <tr>\n",
       "      <th>1</th>\n",
       "      <td>MN</td>\n",
       "      <td>exon:chr10:102286732-102286831:-@exon:chr10:102286156-102286311:-@exon:chr10:102283500-102283686:-</td>\n",
       "      <td>included</td>\n",
       "      <td>155</td>\n",
       "      <td>155</td>\n",
       "      <td>124.061</td>\n",
       "      <td>0.800394</td>\n",
       "      <td>0.800394</td>\n",
       "    </tr>\n",
       "    <tr>\n",
       "      <th>2</th>\n",
       "      <td>MN</td>\n",
       "      <td>exon:chr10:103360960-103361093:+@exon:chr10:103364897-103364969:+@exon:chr10:103368592-103368694:+</td>\n",
       "      <td>bimodal</td>\n",
       "      <td>72</td>\n",
       "      <td>72</td>\n",
       "      <td>1.192</td>\n",
       "      <td>0.016556</td>\n",
       "      <td>0.016556</td>\n",
       "    </tr>\n",
       "    <tr>\n",
       "      <th>3</th>\n",
       "      <td>MN</td>\n",
       "      <td>exon:chr10:103563492-103563776:-@exon:chr10:103559999-103560157:-@exon:chr10:103558599-103559212:-</td>\n",
       "      <td>bimodal</td>\n",
       "      <td>158</td>\n",
       "      <td>158</td>\n",
       "      <td>154.786</td>\n",
       "      <td>0.979658</td>\n",
       "      <td>0.979658</td>\n",
       "    </tr>\n",
       "    <tr>\n",
       "      <th>4</th>\n",
       "      <td>MN</td>\n",
       "      <td>exon:chr10:103567487-103567658:-@exon:chr10:103565802-103565900:-@exon:chr10:103563504-103563776:-</td>\n",
       "      <td>included</td>\n",
       "      <td>98</td>\n",
       "      <td>98</td>\n",
       "      <td>97.968</td>\n",
       "      <td>0.999673</td>\n",
       "      <td>0.999673</td>\n",
       "    </tr>\n",
       "  </tbody>\n",
       "</table>\n",
       "</div>"
      ],
      "text/plain": [
       "  phenotype  \\\n",
       "0        MN   \n",
       "1        MN   \n",
       "2        MN   \n",
       "3        MN   \n",
       "4        MN   \n",
       "\n",
       "                                                                                             event_id  \\\n",
       "0  exon:chr10:102114184-102114389:+@exon:chr10:102116289-102116521:+@exon:chr10:102120491-102124591:+   \n",
       "1  exon:chr10:102286732-102286831:-@exon:chr10:102286156-102286311:-@exon:chr10:102283500-102283686:-   \n",
       "2  exon:chr10:103360960-103361093:+@exon:chr10:103364897-103364969:+@exon:chr10:103368592-103368694:+   \n",
       "3  exon:chr10:103563492-103563776:-@exon:chr10:103559999-103560157:-@exon:chr10:103558599-103559212:-   \n",
       "4  exon:chr10:103567487-103567658:-@exon:chr10:103565802-103565900:-@exon:chr10:103563504-103563776:-   \n",
       "\n",
       "   modality  size  covered      sum     mean0      mean  \n",
       "0  included   232      232  162.071  0.698582  0.698582  \n",
       "1  included   155      155  124.061  0.800394  0.800394  \n",
       "2   bimodal    72       72    1.192  0.016556  0.016556  \n",
       "3   bimodal   158      158  154.786  0.979658  0.979658  \n",
       "4  included    98       98   97.968  0.999673  0.999673  "
      ]
     },
     "execution_count": 161,
     "metadata": {},
     "output_type": "execute_result"
    }
   ],
   "source": [
    "modalities_conservation = study.supplemental.modalities_tidy.join(alternative_conservation, on='event_id')\n",
    "modalities_conservation.head()"
   ]
  },
  {
   "cell_type": "code",
   "execution_count": 162,
   "metadata": {
    "collapsed": false
   },
   "outputs": [
    {
     "data": {
      "text/html": [
       "<div>\n",
       "<table border=\"1\" class=\"dataframe\">\n",
       "  <thead>\n",
       "    <tr style=\"text-align: right;\">\n",
       "      <th></th>\n",
       "      <th>covered</th>\n",
       "      <th>event_id</th>\n",
       "      <th>mean</th>\n",
       "      <th>mean0</th>\n",
       "      <th>modality</th>\n",
       "      <th>phenotype</th>\n",
       "      <th>size</th>\n",
       "      <th>sum</th>\n",
       "    </tr>\n",
       "  </thead>\n",
       "  <tbody>\n",
       "    <tr>\n",
       "      <th>0</th>\n",
       "      <td>232</td>\n",
       "      <td>exon:chr10:102114184-102114389:+@exon:chr10:102116289-102116521:+@exon:chr10:102120491-102124591:+</td>\n",
       "      <td>0.698582</td>\n",
       "      <td>0.698582</td>\n",
       "      <td>included</td>\n",
       "      <td>MN</td>\n",
       "      <td>232</td>\n",
       "      <td>162.071</td>\n",
       "    </tr>\n",
       "    <tr>\n",
       "      <th>1</th>\n",
       "      <td>155</td>\n",
       "      <td>exon:chr10:102286732-102286831:-@exon:chr10:102286156-102286311:-@exon:chr10:102283500-102283686:-</td>\n",
       "      <td>0.800394</td>\n",
       "      <td>0.800394</td>\n",
       "      <td>included</td>\n",
       "      <td>MN</td>\n",
       "      <td>155</td>\n",
       "      <td>124.061</td>\n",
       "    </tr>\n",
       "    <tr>\n",
       "      <th>2</th>\n",
       "      <td>72</td>\n",
       "      <td>exon:chr10:103360960-103361093:+@exon:chr10:103364897-103364969:+@exon:chr10:103368592-103368694:+</td>\n",
       "      <td>0.016556</td>\n",
       "      <td>0.016556</td>\n",
       "      <td>bimodal</td>\n",
       "      <td>MN</td>\n",
       "      <td>72</td>\n",
       "      <td>1.192</td>\n",
       "    </tr>\n",
       "    <tr>\n",
       "      <th>3</th>\n",
       "      <td>158</td>\n",
       "      <td>exon:chr10:103563492-103563776:-@exon:chr10:103559999-103560157:-@exon:chr10:103558599-103559212:-</td>\n",
       "      <td>0.979658</td>\n",
       "      <td>0.979658</td>\n",
       "      <td>bimodal</td>\n",
       "      <td>MN</td>\n",
       "      <td>158</td>\n",
       "      <td>154.786</td>\n",
       "    </tr>\n",
       "    <tr>\n",
       "      <th>4</th>\n",
       "      <td>98</td>\n",
       "      <td>exon:chr10:103567487-103567658:-@exon:chr10:103565802-103565900:-@exon:chr10:103563504-103563776:-</td>\n",
       "      <td>0.999673</td>\n",
       "      <td>0.999673</td>\n",
       "      <td>included</td>\n",
       "      <td>MN</td>\n",
       "      <td>98</td>\n",
       "      <td>97.968</td>\n",
       "    </tr>\n",
       "  </tbody>\n",
       "</table>\n",
       "</div>"
      ],
      "text/plain": [
       "   covered  \\\n",
       "0      232   \n",
       "1      155   \n",
       "2       72   \n",
       "3      158   \n",
       "4       98   \n",
       "\n",
       "                                                                                             event_id  \\\n",
       "0  exon:chr10:102114184-102114389:+@exon:chr10:102116289-102116521:+@exon:chr10:102120491-102124591:+   \n",
       "1  exon:chr10:102286732-102286831:-@exon:chr10:102286156-102286311:-@exon:chr10:102283500-102283686:-   \n",
       "2  exon:chr10:103360960-103361093:+@exon:chr10:103364897-103364969:+@exon:chr10:103368592-103368694:+   \n",
       "3  exon:chr10:103563492-103563776:-@exon:chr10:103559999-103560157:-@exon:chr10:103558599-103559212:-   \n",
       "4  exon:chr10:103567487-103567658:-@exon:chr10:103565802-103565900:-@exon:chr10:103563504-103563776:-   \n",
       "\n",
       "       mean     mean0  modality phenotype  size      sum  \n",
       "0  0.698582  0.698582  included        MN   232  162.071  \n",
       "1  0.800394  0.800394  included        MN   155  124.061  \n",
       "2  0.016556  0.016556   bimodal        MN    72    1.192  \n",
       "3  0.979658  0.979658   bimodal        MN   158  154.786  \n",
       "4  0.999673  0.999673  included        MN    98   97.968  "
      ]
     },
     "execution_count": 162,
     "metadata": {},
     "output_type": "execute_result"
    }
   ],
   "source": [
    "modalities_conservation_constitutive = pd.concat([modalities_conservation, constitutive_df_modality])\n",
    "modalities_conservation_constitutive.head()"
   ]
  },
  {
   "cell_type": "code",
   "execution_count": 163,
   "metadata": {
    "collapsed": true
   },
   "outputs": [],
   "source": [
    "from flotilla.visualize.generic import cdfplot"
   ]
  },
  {
   "cell_type": "code",
   "execution_count": 164,
   "metadata": {
    "collapsed": false
   },
   "outputs": [
    {
     "data": {
      "image/png": "[encoded data removed]",
      "text/plain": [
       "<matplotlib.figure.Figure at 0x2b5af4cc1150>"
      ]
     },
     "metadata": {},
     "output_type": "display_data"
    }
   ],
   "source": [
    "g = sns.FacetGrid(col='phenotype', hue='modality', size=2, #aspect=.75,\n",
    "            data=modalities_conservation_constitutive, hue_order=modality_order, palette=modality_palette, \n",
    "            col_order=study.phenotype_order)\n",
    "\n",
    "g.map(cdfplot, 'mean')\n",
    "g.set_xlabels('mean Placental PhastCons')\n",
    "g.set_ylabels('Cumulative distribution')\n",
    "g.set(xlim=(0, 1), ylim=(0, 1), yticks=(0, 0.5, 1), xticks=(0, 0.5, 1))\n",
    "g.fig.tight_layout()\n",
    "g.savefig('{}/conservation_cdf.pdf'.format(figure_folder))"
   ]
  },
  {
   "cell_type": "markdown",
   "metadata": {},
   "source": [
    "### Statistical enrichment - pairwise Mann whitney U test vs all"
   ]
  },
  {
   "cell_type": "code",
   "execution_count": 207,
   "metadata": {
    "collapsed": false
   },
   "outputs": [
    {
     "name": "stdout",
     "output_type": "stream",
     "text": [
      "MN\n",
      "NPC\n",
      "iPSC\n",
      "modality1       excluded     bimodal   included  constitutive\n",
      "excluded             NaN  113.755398        inf           inf\n",
      "bimodal       113.755398         NaN  30.213439     38.100664\n",
      "included             inf   30.213439        NaN     -0.065446\n",
      "constitutive         inf   38.100664  -0.065446           NaN\n"
     ]
    },
    {
     "data": {
      "image/png": "[encoded data removed]",
      "text/plain": [
       "<matplotlib.figure.Figure at 0x2b5aed1eec90>"
      ]
     },
     "metadata": {},
     "output_type": "display_data"
    }
   ],
   "source": [
    "from scipy.stats.mstats import mannwhitneyu\n",
    "\n",
    "col = 'mean'\n",
    "\n",
    "lines = []\n",
    "\n",
    "for phenotype, phenotype_df in modalities_conservation_constitutive.groupby(['phenotype']):\n",
    "    six.print_(phenotype)\n",
    "    grouped = phenotype_df.groupby('modality')\n",
    "#     constitutive = grouped.get_group('constitutive')\n",
    "    \n",
    "    for (modality1, df1), (modality2, df2) in itertools.combinations(grouped, 2):\n",
    "        result = mannwhitneyu(df1[col], df2[col])\n",
    "        lines.append([phenotype, modality1, modality2, result.pvalue, result.statistic])\n",
    "enrichment = pd.DataFrame(lines, columns=['phenotype', 'modality1', 'modality2', 'p_value', 'statistic'])\n",
    "\n",
    "# multiple testing correction\n",
    "enrichment['bonferonni_p_value'] = enrichment['p_value'] * enrichment.shape[0]\n",
    "enrichment.head()\n",
    "\n",
    "# Transform tidy dataframe into 2d matrix\n",
    "enrichment_2d = enrichment.groupby('phenotype').apply(\n",
    "    lambda x: x.pivot(index='modality1', columns='modality2', values='bonferonni_p_value'))\n",
    "enrichment_2d = enrichment_2d.loc[:,modality_order]\n",
    "enrichment_2d_log10 = -np.log10(enrichment_2d)\n",
    "\n",
    "# Plot p-value heatmap\n",
    "fig, ax = plt.subplots(figsize=(.75, .5))\n",
    "ipsc = enrichment_2d_log10.loc['iPSC']\n",
    "ipsc = ipsc.loc[modality_order]\n",
    "ipsc = ipsc.T.fillna(0) + ipsc.fillna(0)\n",
    "ipsc = ipsc.replace(0, np.nan)\n",
    "six.print_(ipsc)\n",
    "\n",
    "sns.heatmap(ipsc, vmin=0, vmax=100, linewidth=0.5, linecolor='grey')\n",
    "ax.set(xticks=[], yticks=[], xlabel='', ylabel='');\n",
    "sns.despine(left=False, bottom=False, right=False, top=False)\n",
    "fig.savefig('{}/{}phastcons_exon2_conservation_p_value_heatmap.pdf'.format(figure_folder, col))"
   ]
  },
  {
   "cell_type": "markdown",
   "metadata": {},
   "source": [
    "## Overlap with repetitive elements\n",
    "\n",
    "e.g. SINE, LINE, ALU"
   ]
  },
  {
   "cell_type": "code",
   "execution_count": 208,
   "metadata": {
    "collapsed": true
   },
   "outputs": [],
   "source": [
    "prefix = 'repetitive_element_overlap'\n",
    "csv = '{}.csv'.format(prefix)"
   ]
  },
  {
   "cell_type": "code",
   "execution_count": 209,
   "metadata": {
    "collapsed": false
   },
   "outputs": [
    {
     "name": "stdout",
     "output_type": "stream",
     "text": [
      "(15, 4)\n"
     ]
    },
    {
     "data": {
      "text/html": [
       "<div>\n",
       "<table border=\"1\" class=\"dataframe\">\n",
       "  <thead>\n",
       "    <tr style=\"text-align: right;\">\n",
       "      <th></th>\n",
       "      <th>repetitive_element_dfam_class</th>\n",
       "      <th>repetitive_element_dfam_id</th>\n",
       "      <th>repetitive_element_dfam_superfamily</th>\n",
       "      <th>repetitive_element_dfam_type</th>\n",
       "    </tr>\n",
       "    <tr>\n",
       "      <th>event_id</th>\n",
       "      <th></th>\n",
       "      <th></th>\n",
       "      <th></th>\n",
       "      <th></th>\n",
       "    </tr>\n",
       "  </thead>\n",
       "  <tbody>\n",
       "    <tr>\n",
       "      <th>exon:chr10:17277168-17278378:+</th>\n",
       "      <td>SINE</td>\n",
       "      <td>MIRb</td>\n",
       "      <td>MIR</td>\n",
       "      <td>Retrotransposon</td>\n",
       "    </tr>\n",
       "    <tr>\n",
       "      <th>exon:chr11:57094177-57094988:-</th>\n",
       "      <td>Cut</td>\n",
       "      <td>Charlie16a</td>\n",
       "      <td>hAT-Charlie</td>\n",
       "      <td>DNA</td>\n",
       "    </tr>\n",
       "    <tr>\n",
       "      <th>exon:chr11:57095771-57097612:-</th>\n",
       "      <td>snoRNA,SINE,LTR</td>\n",
       "      <td>U13,MLT1K,MIRc</td>\n",
       "      <td>ERVL-MaLR,MIR,U14</td>\n",
       "      <td>ncRNA,Retrotransposon</td>\n",
       "    </tr>\n",
       "    <tr>\n",
       "      <th>exon:chr14:24614588-24615449:-</th>\n",
       "      <td>SINE</td>\n",
       "      <td>MIR3</td>\n",
       "      <td>MIR</td>\n",
       "      <td>Retrotransposon</td>\n",
       "    </tr>\n",
       "    <tr>\n",
       "      <th>exon:chr14:94521342-94524243:-</th>\n",
       "      <td>LTR,Cut,SINE</td>\n",
       "      <td>MIR,MER117,MER21B</td>\n",
       "      <td>MIR,ERVL,hAT-Charlie</td>\n",
       "      <td>Retrotransposon,DNA</td>\n",
       "    </tr>\n",
       "  </tbody>\n",
       "</table>\n",
       "</div>"
      ],
      "text/plain": [
       "                               repetitive_element_dfam_class  \\\n",
       "event_id                                                       \n",
       "exon:chr10:17277168-17278378:+                          SINE   \n",
       "exon:chr11:57094177-57094988:-                           Cut   \n",
       "exon:chr11:57095771-57097612:-               snoRNA,SINE,LTR   \n",
       "exon:chr14:24614588-24615449:-                          SINE   \n",
       "exon:chr14:94521342-94524243:-                  LTR,Cut,SINE   \n",
       "\n",
       "                               repetitive_element_dfam_id  \\\n",
       "event_id                                                    \n",
       "exon:chr10:17277168-17278378:+                       MIRb   \n",
       "exon:chr11:57094177-57094988:-                 Charlie16a   \n",
       "exon:chr11:57095771-57097612:-             U13,MLT1K,MIRc   \n",
       "exon:chr14:24614588-24615449:-                       MIR3   \n",
       "exon:chr14:94521342-94524243:-          MIR,MER117,MER21B   \n",
       "\n",
       "                               repetitive_element_dfam_superfamily  \\\n",
       "event_id                                                             \n",
       "exon:chr10:17277168-17278378:+                                 MIR   \n",
       "exon:chr11:57094177-57094988:-                         hAT-Charlie   \n",
       "exon:chr11:57095771-57097612:-                   ERVL-MaLR,MIR,U14   \n",
       "exon:chr14:24614588-24615449:-                                 MIR   \n",
       "exon:chr14:94521342-94524243:-                MIR,ERVL,hAT-Charlie   \n",
       "\n",
       "                               repetitive_element_dfam_type  \n",
       "event_id                                                     \n",
       "exon:chr10:17277168-17278378:+              Retrotransposon  \n",
       "exon:chr11:57094177-57094988:-                          DNA  \n",
       "exon:chr11:57095771-57097612:-        ncRNA,Retrotransposon  \n",
       "exon:chr14:24614588-24615449:-              Retrotransposon  \n",
       "exon:chr14:94521342-94524243:-          Retrotransposon,DNA  "
      ]
     },
     "execution_count": 209,
     "metadata": {},
     "output_type": "execute_result"
    }
   ],
   "source": [
    "constitutive_repetitive = pd.read_csv('{}/{}'.format(constitutive_feature_folder, csv), index_col=0)\n",
    "six.print_(constitutive_repetitive.shape)\n",
    "constitutive_repetitive.head()"
   ]
  },
  {
   "cell_type": "code",
   "execution_count": 210,
   "metadata": {
    "collapsed": false
   },
   "outputs": [
    {
     "name": "stdout",
     "output_type": "stream",
     "text": [
      "(45, 7)\n",
      "(45, 7)\n"
     ]
    },
    {
     "data": {
      "text/html": [
       "<div>\n",
       "<table border=\"1\" class=\"dataframe\">\n",
       "  <thead>\n",
       "    <tr style=\"text-align: right;\">\n",
       "      <th></th>\n",
       "      <th>event_id</th>\n",
       "      <th>repetitive_element_dfam_class</th>\n",
       "      <th>repetitive_element_dfam_id</th>\n",
       "      <th>repetitive_element_dfam_superfamily</th>\n",
       "      <th>repetitive_element_dfam_type</th>\n",
       "      <th>modality</th>\n",
       "      <th>phenotype</th>\n",
       "    </tr>\n",
       "  </thead>\n",
       "  <tbody>\n",
       "    <tr>\n",
       "      <th>0</th>\n",
       "      <td>exon:chr10:17277168-17278378:+</td>\n",
       "      <td>SINE</td>\n",
       "      <td>MIRb</td>\n",
       "      <td>MIR</td>\n",
       "      <td>Retrotransposon</td>\n",
       "      <td>constitutive</td>\n",
       "      <td>iPSC</td>\n",
       "    </tr>\n",
       "    <tr>\n",
       "      <th>1</th>\n",
       "      <td>exon:chr11:57094177-57094988:-</td>\n",
       "      <td>Cut</td>\n",
       "      <td>Charlie16a</td>\n",
       "      <td>hAT-Charlie</td>\n",
       "      <td>DNA</td>\n",
       "      <td>constitutive</td>\n",
       "      <td>iPSC</td>\n",
       "    </tr>\n",
       "    <tr>\n",
       "      <th>2</th>\n",
       "      <td>exon:chr11:57095771-57097612:-</td>\n",
       "      <td>snoRNA,SINE,LTR</td>\n",
       "      <td>U13,MLT1K,MIRc</td>\n",
       "      <td>ERVL-MaLR,MIR,U14</td>\n",
       "      <td>ncRNA,Retrotransposon</td>\n",
       "      <td>constitutive</td>\n",
       "      <td>iPSC</td>\n",
       "    </tr>\n",
       "    <tr>\n",
       "      <th>3</th>\n",
       "      <td>exon:chr14:24614588-24615449:-</td>\n",
       "      <td>SINE</td>\n",
       "      <td>MIR3</td>\n",
       "      <td>MIR</td>\n",
       "      <td>Retrotransposon</td>\n",
       "      <td>constitutive</td>\n",
       "      <td>iPSC</td>\n",
       "    </tr>\n",
       "    <tr>\n",
       "      <th>4</th>\n",
       "      <td>exon:chr14:94521342-94524243:-</td>\n",
       "      <td>LTR,Cut,SINE</td>\n",
       "      <td>MIR,MER117,MER21B</td>\n",
       "      <td>MIR,ERVL,hAT-Charlie</td>\n",
       "      <td>Retrotransposon,DNA</td>\n",
       "      <td>constitutive</td>\n",
       "      <td>iPSC</td>\n",
       "    </tr>\n",
       "  </tbody>\n",
       "</table>\n",
       "</div>"
      ],
      "text/plain": [
       "                         event_id repetitive_element_dfam_class  \\\n",
       "0  exon:chr10:17277168-17278378:+                          SINE   \n",
       "1  exon:chr11:57094177-57094988:-                           Cut   \n",
       "2  exon:chr11:57095771-57097612:-               snoRNA,SINE,LTR   \n",
       "3  exon:chr14:24614588-24615449:-                          SINE   \n",
       "4  exon:chr14:94521342-94524243:-                  LTR,Cut,SINE   \n",
       "\n",
       "  repetitive_element_dfam_id repetitive_element_dfam_superfamily  \\\n",
       "0                       MIRb                                 MIR   \n",
       "1                 Charlie16a                         hAT-Charlie   \n",
       "2             U13,MLT1K,MIRc                   ERVL-MaLR,MIR,U14   \n",
       "3                       MIR3                                 MIR   \n",
       "4          MIR,MER117,MER21B                MIR,ERVL,hAT-Charlie   \n",
       "\n",
       "  repetitive_element_dfam_type      modality phenotype  \n",
       "0              Retrotransposon  constitutive      iPSC  \n",
       "1                          DNA  constitutive      iPSC  \n",
       "2        ncRNA,Retrotransposon  constitutive      iPSC  \n",
       "3              Retrotransposon  constitutive      iPSC  \n",
       "4          Retrotransposon,DNA  constitutive      iPSC  "
      ]
     },
     "execution_count": 210,
     "metadata": {},
     "output_type": "execute_result"
    }
   ],
   "source": [
    "constitutive_repetitive_modalities = make_phenotype_modality_format(constitutive_repetitive)\n",
    "print(constitutive_repetitive_modalities.shape)\n",
    "constitutive_repetitive_modalities.head()"
   ]
  },
  {
   "cell_type": "code",
   "execution_count": 211,
   "metadata": {
    "collapsed": false
   },
   "outputs": [
    {
     "name": "stdout",
     "output_type": "stream",
     "text": [
      "(4549, 4)\n"
     ]
    },
    {
     "data": {
      "text/html": [
       "<div>\n",
       "<table border=\"1\" class=\"dataframe\">\n",
       "  <thead>\n",
       "    <tr style=\"text-align: right;\">\n",
       "      <th></th>\n",
       "      <th>repetitive_element_dfam_class</th>\n",
       "      <th>repetitive_element_dfam_id</th>\n",
       "      <th>repetitive_element_dfam_superfamily</th>\n",
       "      <th>repetitive_element_dfam_type</th>\n",
       "    </tr>\n",
       "    <tr>\n",
       "      <th>event_id</th>\n",
       "      <th></th>\n",
       "      <th></th>\n",
       "      <th></th>\n",
       "      <th></th>\n",
       "    </tr>\n",
       "  </thead>\n",
       "  <tbody>\n",
       "    <tr>\n",
       "      <th>exon:chr10:103360960-103361093:+@exon:chr10:103364897-103364969:+@exon:chr10:103368592-103368694:+</th>\n",
       "      <td>Cut</td>\n",
       "      <td>MER91C</td>\n",
       "      <td>hAT-Tip100</td>\n",
       "      <td>DNA</td>\n",
       "    </tr>\n",
       "    <tr>\n",
       "      <th>exon:chr10:103360960-103361093:+@exon:chr10:103364897-103364969:+@exon:chr10:103368592-103368694:+@exon:chr10:103369124-103369425:+</th>\n",
       "      <td>Cut</td>\n",
       "      <td>MER91C</td>\n",
       "      <td>hAT-Tip100</td>\n",
       "      <td>DNA</td>\n",
       "    </tr>\n",
       "    <tr>\n",
       "      <th>exon:chr10:103360960-103361093:+@exon:chr10:103364897-103364969:+@exon:chr10:103368624-103368659:+</th>\n",
       "      <td>Cut</td>\n",
       "      <td>MER91C</td>\n",
       "      <td>hAT-Tip100</td>\n",
       "      <td>DNA</td>\n",
       "    </tr>\n",
       "    <tr>\n",
       "      <th>exon:chr10:103360960-103361093:+@exon:chr10:103364897-103364969:+@exon:chr10:103368624-103368694:+@exon:chr10:103369124-103369425:+</th>\n",
       "      <td>Cut</td>\n",
       "      <td>MER91C</td>\n",
       "      <td>hAT-Tip100</td>\n",
       "      <td>DNA</td>\n",
       "    </tr>\n",
       "    <tr>\n",
       "      <th>exon:chr10:103360960-103361093:+@exon:chr10:103364897-103364969:+@exon:chr10:103368624-103368801:+@exon:chr10:103369124-103369425:+</th>\n",
       "      <td>Cut</td>\n",
       "      <td>MER91C</td>\n",
       "      <td>hAT-Tip100</td>\n",
       "      <td>DNA</td>\n",
       "    </tr>\n",
       "  </tbody>\n",
       "</table>\n",
       "</div>"
      ],
      "text/plain": [
       "                                                                                                     repetitive_element_dfam_class  \\\n",
       "event_id                                                                                                                             \n",
       "exon:chr10:103360960-103361093:+@exon:chr10:103364897-103364969:+@exon:chr10:103368592-103368694:+                             Cut   \n",
       "exon:chr10:103360960-103361093:+@exon:chr10:103364897-103364969:+@exon:chr10:103368592-103368694:...                           Cut   \n",
       "exon:chr10:103360960-103361093:+@exon:chr10:103364897-103364969:+@exon:chr10:103368624-103368659:+                             Cut   \n",
       "exon:chr10:103360960-103361093:+@exon:chr10:103364897-103364969:+@exon:chr10:103368624-103368694:...                           Cut   \n",
       "exon:chr10:103360960-103361093:+@exon:chr10:103364897-103364969:+@exon:chr10:103368624-103368801:...                           Cut   \n",
       "\n",
       "                                                                                                     repetitive_element_dfam_id  \\\n",
       "event_id                                                                                                                          \n",
       "exon:chr10:103360960-103361093:+@exon:chr10:103364897-103364969:+@exon:chr10:103368592-103368694:+                       MER91C   \n",
       "exon:chr10:103360960-103361093:+@exon:chr10:103364897-103364969:+@exon:chr10:103368592-103368694:...                     MER91C   \n",
       "exon:chr10:103360960-103361093:+@exon:chr10:103364897-103364969:+@exon:chr10:103368624-103368659:+                       MER91C   \n",
       "exon:chr10:103360960-103361093:+@exon:chr10:103364897-103364969:+@exon:chr10:103368624-103368694:...                     MER91C   \n",
       "exon:chr10:103360960-103361093:+@exon:chr10:103364897-103364969:+@exon:chr10:103368624-103368801:...                     MER91C   \n",
       "\n",
       "                                                                                                     repetitive_element_dfam_superfamily  \\\n",
       "event_id                                                                                                                                   \n",
       "exon:chr10:103360960-103361093:+@exon:chr10:103364897-103364969:+@exon:chr10:103368592-103368694:+                            hAT-Tip100   \n",
       "exon:chr10:103360960-103361093:+@exon:chr10:103364897-103364969:+@exon:chr10:103368592-103368694:...                          hAT-Tip100   \n",
       "exon:chr10:103360960-103361093:+@exon:chr10:103364897-103364969:+@exon:chr10:103368624-103368659:+                            hAT-Tip100   \n",
       "exon:chr10:103360960-103361093:+@exon:chr10:103364897-103364969:+@exon:chr10:103368624-103368694:...                          hAT-Tip100   \n",
       "exon:chr10:103360960-103361093:+@exon:chr10:103364897-103364969:+@exon:chr10:103368624-103368801:...                          hAT-Tip100   \n",
       "\n",
       "                                                                                                     repetitive_element_dfam_type  \n",
       "event_id                                                                                                                           \n",
       "exon:chr10:103360960-103361093:+@exon:chr10:103364897-103364969:+@exon:chr10:103368592-103368694:+                            DNA  \n",
       "exon:chr10:103360960-103361093:+@exon:chr10:103364897-103364969:+@exon:chr10:103368592-103368694:...                          DNA  \n",
       "exon:chr10:103360960-103361093:+@exon:chr10:103364897-103364969:+@exon:chr10:103368624-103368659:+                            DNA  \n",
       "exon:chr10:103360960-103361093:+@exon:chr10:103364897-103364969:+@exon:chr10:103368624-103368694:...                          DNA  \n",
       "exon:chr10:103360960-103361093:+@exon:chr10:103364897-103364969:+@exon:chr10:103368624-103368801:...                          DNA  "
      ]
     },
     "execution_count": 211,
     "metadata": {},
     "output_type": "execute_result"
    }
   ],
   "source": [
    "alternative_repetitive = pd.read_csv('{}/{}'.format(alternative_feature_folder, csv), index_col=0)\n",
    "six.print_(alternative_repetitive.shape)\n",
    "alternative_repetitive.head()"
   ]
  },
  {
   "cell_type": "code",
   "execution_count": 212,
   "metadata": {
    "collapsed": false
   },
   "outputs": [
    {
     "name": "stdout",
     "output_type": "stream",
     "text": [
      "(14898, 7)\n"
     ]
    },
    {
     "data": {
      "text/html": [
       "<div>\n",
       "<table border=\"1\" class=\"dataframe\">\n",
       "  <thead>\n",
       "    <tr style=\"text-align: right;\">\n",
       "      <th></th>\n",
       "      <th>event_id</th>\n",
       "      <th>modality</th>\n",
       "      <th>phenotype</th>\n",
       "      <th>repetitive_element_dfam_class</th>\n",
       "      <th>repetitive_element_dfam_id</th>\n",
       "      <th>repetitive_element_dfam_superfamily</th>\n",
       "      <th>repetitive_element_dfam_type</th>\n",
       "    </tr>\n",
       "  </thead>\n",
       "  <tbody>\n",
       "    <tr>\n",
       "      <th>0</th>\n",
       "      <td>exon:chr10:102114184-102114389:+@exon:chr10:102116289-102116521:+@exon:chr10:102120491-102124591:+</td>\n",
       "      <td>included</td>\n",
       "      <td>MN</td>\n",
       "      <td>NaN</td>\n",
       "      <td>NaN</td>\n",
       "      <td>NaN</td>\n",
       "      <td>NaN</td>\n",
       "    </tr>\n",
       "    <tr>\n",
       "      <th>1</th>\n",
       "      <td>exon:chr10:102286732-102286831:-@exon:chr10:102286156-102286311:-@exon:chr10:102283500-102283686:-</td>\n",
       "      <td>included</td>\n",
       "      <td>MN</td>\n",
       "      <td>NaN</td>\n",
       "      <td>NaN</td>\n",
       "      <td>NaN</td>\n",
       "      <td>NaN</td>\n",
       "    </tr>\n",
       "    <tr>\n",
       "      <th>2</th>\n",
       "      <td>exon:chr10:103360960-103361093:+@exon:chr10:103364897-103364969:+@exon:chr10:103368592-103368694:+</td>\n",
       "      <td>bimodal</td>\n",
       "      <td>MN</td>\n",
       "      <td>Cut</td>\n",
       "      <td>MER91C</td>\n",
       "      <td>hAT-Tip100</td>\n",
       "      <td>DNA</td>\n",
       "    </tr>\n",
       "    <tr>\n",
       "      <th>3</th>\n",
       "      <td>exon:chr10:103563492-103563776:-@exon:chr10:103559999-103560157:-@exon:chr10:103558599-103559212:-</td>\n",
       "      <td>bimodal</td>\n",
       "      <td>MN</td>\n",
       "      <td>NaN</td>\n",
       "      <td>NaN</td>\n",
       "      <td>NaN</td>\n",
       "      <td>NaN</td>\n",
       "    </tr>\n",
       "    <tr>\n",
       "      <th>4</th>\n",
       "      <td>exon:chr10:103567487-103567658:-@exon:chr10:103565802-103565900:-@exon:chr10:103563504-103563776:-</td>\n",
       "      <td>included</td>\n",
       "      <td>MN</td>\n",
       "      <td>NaN</td>\n",
       "      <td>NaN</td>\n",
       "      <td>NaN</td>\n",
       "      <td>NaN</td>\n",
       "    </tr>\n",
       "  </tbody>\n",
       "</table>\n",
       "</div>"
      ],
      "text/plain": [
       "                                                                                             event_id  \\\n",
       "0  exon:chr10:102114184-102114389:+@exon:chr10:102116289-102116521:+@exon:chr10:102120491-102124591:+   \n",
       "1  exon:chr10:102286732-102286831:-@exon:chr10:102286156-102286311:-@exon:chr10:102283500-102283686:-   \n",
       "2  exon:chr10:103360960-103361093:+@exon:chr10:103364897-103364969:+@exon:chr10:103368592-103368694:+   \n",
       "3  exon:chr10:103563492-103563776:-@exon:chr10:103559999-103560157:-@exon:chr10:103558599-103559212:-   \n",
       "4  exon:chr10:103567487-103567658:-@exon:chr10:103565802-103565900:-@exon:chr10:103563504-103563776:-   \n",
       "\n",
       "   modality phenotype repetitive_element_dfam_class  \\\n",
       "0  included        MN                           NaN   \n",
       "1  included        MN                           NaN   \n",
       "2   bimodal        MN                           Cut   \n",
       "3   bimodal        MN                           NaN   \n",
       "4  included        MN                           NaN   \n",
       "\n",
       "  repetitive_element_dfam_id repetitive_element_dfam_superfamily  \\\n",
       "0                        NaN                                 NaN   \n",
       "1                        NaN                                 NaN   \n",
       "2                     MER91C                          hAT-Tip100   \n",
       "3                        NaN                                 NaN   \n",
       "4                        NaN                                 NaN   \n",
       "\n",
       "  repetitive_element_dfam_type  \n",
       "0                          NaN  \n",
       "1                          NaN  \n",
       "2                          DNA  \n",
       "3                          NaN  \n",
       "4                          NaN  "
      ]
     },
     "execution_count": 212,
     "metadata": {},
     "output_type": "execute_result"
    }
   ],
   "source": [
    "modalities_repetitive = study.supplemental.modalities_tidy.join(alternative_repetitive, on='event_id')\n",
    "modalities_repetitive = pd.concat([modalities_repetitive, constitutive_repetitive_modalities.rename(columns={'event_id': 'event_id'})])\n",
    "six.print_(modalities_repetitive.shape)\n",
    "modalities_repetitive.head()"
   ]
  },
  {
   "cell_type": "code",
   "execution_count": 213,
   "metadata": {
    "collapsed": false
   },
   "outputs": [
    {
     "data": {
      "text/plain": [
       "repetitive_element_dfam_superfamily\n",
       "5S-derived,MIR                      1\n",
       "7SK,Alu                             2\n",
       "Alu                               770\n",
       "Alu,ERV1                            4\n",
       "Alu,ERVK,ERV1                       1\n",
       "Alu,Undefined                       1\n",
       "Alu,hAT-Charlie                    12\n",
       "CR1                                32\n",
       "ERV1                               29\n",
       "ERVK                                2\n",
       "ERVL                               15\n",
       "ERVL-MaLR                          55\n",
       "ERVL-MaLR,Alu                       2\n",
       "ERVL-MaLR,MIR                       2\n",
       "ERVL-MaLR,MIR,Alu                   2\n",
       "ERVL-MaLR,MIR,U14                   3\n",
       "ERVL-MaLR,hAT-Charlie               2\n",
       "ERVL?                               1\n",
       "Gypsy?                              3\n",
       "Helitron                            4\n",
       "L1                                 18\n",
       "L2                                 14\n",
       "L2,hAT-Charlie                      2\n",
       "MIR                               254\n",
       "MIR,Alu                            15\n",
       "MIR,CR1                             1\n",
       "MIR,ERVL,hAT-Charlie                3\n",
       "MIR,L2                              1\n",
       "MIR,hAT-Charlie                     1\n",
       "MIR,hAT-Charlie,Alu                 3\n",
       "TcMar-Mariner                       6\n",
       "TcMar-Tc2                           1\n",
       "TcMar-Tigger                       55\n",
       "TcMar-Tigger,MIR                    2\n",
       "TcMar-Tigger,hAT-Blackjack,Alu      3\n",
       "Undefined                           1\n",
       "hAT-Charlie                        98\n",
       "hAT-Tip100                          5\n",
       "tRNA                               13\n",
       "dtype: int64"
      ]
     },
     "execution_count": 213,
     "metadata": {},
     "output_type": "execute_result"
    }
   ],
   "source": [
    "modalities_repetitive.groupby('repetitive_element_dfam_superfamily').size()"
   ]
  },
  {
   "cell_type": "markdown",
   "metadata": {},
   "source": [
    "### Make new rows for when we see commas in the superfamily"
   ]
  },
  {
   "cell_type": "code",
   "execution_count": 214,
   "metadata": {
    "collapsed": false
   },
   "outputs": [
    {
     "data": {
      "text/plain": [
       "phenotype  modality      event_id                       \n",
       "NPC        constitutive  exon:chr5:137892463-137893185:-                     Alu\n",
       "                         exon:chr6:31500557-31503262:-                       Alu\n",
       "                         exon:chr7:134132050-134132813:-                     MIR\n",
       "                         exon:chr8:20070293-20074835:+       MIR,hAT-Charlie,Alu\n",
       "                         exon:chrX:51640891-51643392:+                   MIR,Alu\n",
       "MN         constitutive  exon:chr10:17277168-17278378:+                      MIR\n",
       "                         exon:chr11:57094177-57094988:-              hAT-Charlie\n",
       "                         exon:chr11:57095771-57097612:-        ERVL-MaLR,MIR,U14\n",
       "                         exon:chr14:24614588-24615449:-                      MIR\n",
       "                         exon:chr14:94521342-94524243:-     MIR,ERVL,hAT-Charlie\n",
       "                         exon:chr18:71922976-71928179:-                      Alu\n",
       "                         exon:chr19:1388832-1391049:+            Alu,hAT-Charlie\n",
       "                         exon:chr1:241667342-241667545:-                     MIR\n",
       "                         exon:chr1:40207567-40208969:+                       Alu\n",
       "                         exon:chr3:58416384-58417520:-                       Alu\n",
       "                         exon:chr5:137892463-137893185:-                     Alu\n",
       "                         exon:chr6:31500557-31503262:-                       Alu\n",
       "                         exon:chr7:134132050-134132813:-                     MIR\n",
       "                         exon:chr8:20070293-20074835:+       MIR,hAT-Charlie,Alu\n",
       "                         exon:chrX:51640891-51643392:+                   MIR,Alu\n",
       "Name: repetitive_element_dfam_superfamily, dtype: object"
      ]
     },
     "execution_count": 214,
     "metadata": {},
     "output_type": "execute_result"
    }
   ],
   "source": [
    "s = modalities_repetitive.set_index(['phenotype', 'modality', 'event_id'])['repetitive_element_dfam_superfamily'].dropna()\n",
    "# s = s.map(lambda x: x.split(','))\n",
    "s.tail(20)"
   ]
  },
  {
   "cell_type": "code",
   "execution_count": 215,
   "metadata": {
    "collapsed": false
   },
   "outputs": [
    {
     "data": {
      "text/plain": [
       "(MN, constitutive, exon:chr11:57095771-57097612:-)             MIR\n",
       "(MN, constitutive, exon:chr11:57095771-57097612:-)             U14\n",
       "(MN, constitutive, exon:chr14:24614588-24615449:-)             MIR\n",
       "(MN, constitutive, exon:chr14:94521342-94524243:-)             MIR\n",
       "(MN, constitutive, exon:chr14:94521342-94524243:-)            ERVL\n",
       "(MN, constitutive, exon:chr14:94521342-94524243:-)     hAT-Charlie\n",
       "(MN, constitutive, exon:chr18:71922976-71928179:-)             Alu\n",
       "(MN, constitutive, exon:chr19:1388832-1391049:+)               Alu\n",
       "(MN, constitutive, exon:chr19:1388832-1391049:+)       hAT-Charlie\n",
       "(MN, constitutive, exon:chr1:241667342-241667545:-)            MIR\n",
       "(MN, constitutive, exon:chr1:40207567-40208969:+)              Alu\n",
       "(MN, constitutive, exon:chr3:58416384-58417520:-)              Alu\n",
       "(MN, constitutive, exon:chr5:137892463-137893185:-)            Alu\n",
       "(MN, constitutive, exon:chr6:31500557-31503262:-)              Alu\n",
       "(MN, constitutive, exon:chr7:134132050-134132813:-)            MIR\n",
       "(MN, constitutive, exon:chr8:20070293-20074835:+)              MIR\n",
       "(MN, constitutive, exon:chr8:20070293-20074835:+)      hAT-Charlie\n",
       "(MN, constitutive, exon:chr8:20070293-20074835:+)              Alu\n",
       "(MN, constitutive, exon:chrX:51640891-51643392:+)              MIR\n",
       "(MN, constitutive, exon:chrX:51640891-51643392:+)              Alu\n",
       "dtype: object"
      ]
     },
     "execution_count": 215,
     "metadata": {},
     "output_type": "execute_result"
    }
   ],
   "source": [
    "s = pd.concat([pd.Series(x.split(','), index=[i]*len(x.split(','))) for i, x in s.iteritems()])\n",
    "s.tail(20)"
   ]
  },
  {
   "cell_type": "code",
   "execution_count": 216,
   "metadata": {
    "collapsed": false
   },
   "outputs": [
    {
     "data": {
      "text/plain": [
       "MN  constitutive  exon:chr11:57095771-57097612:-             MIR\n",
       "                  exon:chr11:57095771-57097612:-             U14\n",
       "                  exon:chr14:24614588-24615449:-             MIR\n",
       "                  exon:chr14:94521342-94524243:-             MIR\n",
       "                  exon:chr14:94521342-94524243:-            ERVL\n",
       "                  exon:chr14:94521342-94524243:-     hAT-Charlie\n",
       "                  exon:chr18:71922976-71928179:-             Alu\n",
       "                  exon:chr19:1388832-1391049:+               Alu\n",
       "                  exon:chr19:1388832-1391049:+       hAT-Charlie\n",
       "                  exon:chr1:241667342-241667545:-            MIR\n",
       "                  exon:chr1:40207567-40208969:+              Alu\n",
       "                  exon:chr3:58416384-58417520:-              Alu\n",
       "                  exon:chr5:137892463-137893185:-            Alu\n",
       "                  exon:chr6:31500557-31503262:-              Alu\n",
       "                  exon:chr7:134132050-134132813:-            MIR\n",
       "                  exon:chr8:20070293-20074835:+              MIR\n",
       "                  exon:chr8:20070293-20074835:+      hAT-Charlie\n",
       "                  exon:chr8:20070293-20074835:+              Alu\n",
       "                  exon:chrX:51640891-51643392:+              MIR\n",
       "                  exon:chrX:51640891-51643392:+              Alu\n",
       "dtype: object"
      ]
     },
     "execution_count": 216,
     "metadata": {},
     "output_type": "execute_result"
    }
   ],
   "source": [
    "s.index = pd.MultiIndex.from_tuples(s.index)\n",
    "s.tail(20)"
   ]
  },
  {
   "cell_type": "code",
   "execution_count": 217,
   "metadata": {
    "collapsed": false
   },
   "outputs": [
    {
     "data": {
      "text/html": [
       "<div>\n",
       "<table border=\"1\" class=\"dataframe\">\n",
       "  <thead>\n",
       "    <tr style=\"text-align: right;\">\n",
       "      <th></th>\n",
       "      <th>phenotype</th>\n",
       "      <th>modality</th>\n",
       "      <th>event_id</th>\n",
       "      <th>repetitive_element_dfam_superfamily</th>\n",
       "    </tr>\n",
       "  </thead>\n",
       "  <tbody>\n",
       "    <tr>\n",
       "      <th>0</th>\n",
       "      <td>MN</td>\n",
       "      <td>bimodal</td>\n",
       "      <td>exon:chr10:103360960-103361093:+@exon:chr10:103364897-103364969:+@exon:chr10:103368592-103368694:+</td>\n",
       "      <td>hAT-Tip100</td>\n",
       "    </tr>\n",
       "    <tr>\n",
       "      <th>1</th>\n",
       "      <td>MN</td>\n",
       "      <td>excluded</td>\n",
       "      <td>exon:chr10:112679305-112679415:+@exon:chr10:112711366-112711550:+@exon:chr10:112723883-112724819:+</td>\n",
       "      <td>Alu</td>\n",
       "    </tr>\n",
       "    <tr>\n",
       "      <th>2</th>\n",
       "      <td>MN</td>\n",
       "      <td>excluded</td>\n",
       "      <td>exon:chr10:126107442-126107505:-@exon:chr10:126102915-126103001:-@exon:chr10:126100542-126100769:-</td>\n",
       "      <td>hAT-Charlie</td>\n",
       "    </tr>\n",
       "    <tr>\n",
       "      <th>3</th>\n",
       "      <td>MN</td>\n",
       "      <td>excluded</td>\n",
       "      <td>exon:chr10:27815757-27815818:+@exon:chr10:27820458-27820544:+@exon:chr10:27821436-27821508:+</td>\n",
       "      <td>hAT-Charlie</td>\n",
       "    </tr>\n",
       "    <tr>\n",
       "      <th>4</th>\n",
       "      <td>MN</td>\n",
       "      <td>excluded</td>\n",
       "      <td>exon:chr10:76973779-76973828:+@exon:chr10:76977646-76977749:+@exon:chr10:76978821-76978973:+</td>\n",
       "      <td>Alu</td>\n",
       "    </tr>\n",
       "  </tbody>\n",
       "</table>\n",
       "</div>"
      ],
      "text/plain": [
       "  phenotype  modality  \\\n",
       "0        MN   bimodal   \n",
       "1        MN  excluded   \n",
       "2        MN  excluded   \n",
       "3        MN  excluded   \n",
       "4        MN  excluded   \n",
       "\n",
       "                                                                                             event_id  \\\n",
       "0  exon:chr10:103360960-103361093:+@exon:chr10:103364897-103364969:+@exon:chr10:103368592-103368694:+   \n",
       "1  exon:chr10:112679305-112679415:+@exon:chr10:112711366-112711550:+@exon:chr10:112723883-112724819:+   \n",
       "2  exon:chr10:126107442-126107505:-@exon:chr10:126102915-126103001:-@exon:chr10:126100542-126100769:-   \n",
       "3        exon:chr10:27815757-27815818:+@exon:chr10:27820458-27820544:+@exon:chr10:27821436-27821508:+   \n",
       "4        exon:chr10:76973779-76973828:+@exon:chr10:76977646-76977749:+@exon:chr10:76978821-76978973:+   \n",
       "\n",
       "  repetitive_element_dfam_superfamily  \n",
       "0                          hAT-Tip100  \n",
       "1                                 Alu  \n",
       "2                         hAT-Charlie  \n",
       "3                         hAT-Charlie  \n",
       "4                                 Alu  "
      ]
     },
     "execution_count": 217,
     "metadata": {},
     "output_type": "execute_result"
    }
   ],
   "source": [
    "modalities_repetitive_no_commas = s.reset_index()\n",
    "modalities_repetitive_no_commas = modalities_repetitive_no_commas.rename(\n",
    "    columns={'level_0': 'phenotype', 'level_1': 'modality', 'level_2':'event_id', 0:'repetitive_element_dfam_superfamily'})\n",
    "modalities_repetitive_no_commas.head()"
   ]
  },
  {
   "cell_type": "code",
   "execution_count": 218,
   "metadata": {
    "collapsed": false
   },
   "outputs": [
    {
     "data": {
      "text/html": [
       "<div>\n",
       "<table border=\"1\" class=\"dataframe\">\n",
       "  <thead>\n",
       "    <tr style=\"text-align: right;\">\n",
       "      <th></th>\n",
       "      <th>phenotype</th>\n",
       "      <th>modality</th>\n",
       "      <th>repetitive_element_dfam_superfamily</th>\n",
       "      <th># AS Exons</th>\n",
       "    </tr>\n",
       "  </thead>\n",
       "  <tbody>\n",
       "    <tr>\n",
       "      <th>0</th>\n",
       "      <td>MN</td>\n",
       "      <td>bimodal</td>\n",
       "      <td>Alu</td>\n",
       "      <td>14</td>\n",
       "    </tr>\n",
       "    <tr>\n",
       "      <th>1</th>\n",
       "      <td>MN</td>\n",
       "      <td>bimodal</td>\n",
       "      <td>ERVL-MaLR</td>\n",
       "      <td>3</td>\n",
       "    </tr>\n",
       "    <tr>\n",
       "      <th>2</th>\n",
       "      <td>MN</td>\n",
       "      <td>bimodal</td>\n",
       "      <td>Gypsy?</td>\n",
       "      <td>1</td>\n",
       "    </tr>\n",
       "    <tr>\n",
       "      <th>3</th>\n",
       "      <td>MN</td>\n",
       "      <td>bimodal</td>\n",
       "      <td>L2</td>\n",
       "      <td>1</td>\n",
       "    </tr>\n",
       "    <tr>\n",
       "      <th>4</th>\n",
       "      <td>MN</td>\n",
       "      <td>bimodal</td>\n",
       "      <td>MIR</td>\n",
       "      <td>8</td>\n",
       "    </tr>\n",
       "  </tbody>\n",
       "</table>\n",
       "</div>"
      ],
      "text/plain": [
       "  phenotype modality repetitive_element_dfam_superfamily  # AS Exons\n",
       "0        MN  bimodal                                 Alu          14\n",
       "1        MN  bimodal                           ERVL-MaLR           3\n",
       "2        MN  bimodal                              Gypsy?           1\n",
       "3        MN  bimodal                                  L2           1\n",
       "4        MN  bimodal                                 MIR           8"
      ]
     },
     "execution_count": 218,
     "metadata": {},
     "output_type": "execute_result"
    }
   ],
   "source": [
    "col = 'repetitive_element_dfam_superfamily'\n",
    "modalities_repetitive_counts = modalities_repetitive_no_commas.groupby(['phenotype', 'modality', col])['event_id'].count()\n",
    "modalities_repetitive_counts = modalities_repetitive_counts.reset_index()\n",
    "modalities_repetitive_counts = modalities_repetitive_counts.rename(columns={'event_id':'# AS Exons'})\n",
    "modalities_repetitive_counts.head()"
   ]
  },
  {
   "cell_type": "code",
   "execution_count": 219,
   "metadata": {
    "collapsed": false
   },
   "outputs": [
    {
     "data": {
      "text/html": [
       "<div>\n",
       "<table border=\"1\" class=\"dataframe\">\n",
       "  <thead>\n",
       "    <tr style=\"text-align: right;\">\n",
       "      <th></th>\n",
       "      <th>phenotype</th>\n",
       "      <th>modality</th>\n",
       "      <th>repetitive_element_dfam_superfamily</th>\n",
       "      <th># AS Exons</th>\n",
       "      <th>% AS Exons</th>\n",
       "    </tr>\n",
       "  </thead>\n",
       "  <tbody>\n",
       "    <tr>\n",
       "      <th>0</th>\n",
       "      <td>MN</td>\n",
       "      <td>bimodal</td>\n",
       "      <td>Alu</td>\n",
       "      <td>14</td>\n",
       "      <td>40.000000</td>\n",
       "    </tr>\n",
       "    <tr>\n",
       "      <th>1</th>\n",
       "      <td>MN</td>\n",
       "      <td>bimodal</td>\n",
       "      <td>ERVL-MaLR</td>\n",
       "      <td>3</td>\n",
       "      <td>8.571429</td>\n",
       "    </tr>\n",
       "    <tr>\n",
       "      <th>2</th>\n",
       "      <td>MN</td>\n",
       "      <td>bimodal</td>\n",
       "      <td>Gypsy?</td>\n",
       "      <td>1</td>\n",
       "      <td>2.857143</td>\n",
       "    </tr>\n",
       "    <tr>\n",
       "      <th>3</th>\n",
       "      <td>MN</td>\n",
       "      <td>bimodal</td>\n",
       "      <td>L2</td>\n",
       "      <td>1</td>\n",
       "      <td>2.857143</td>\n",
       "    </tr>\n",
       "    <tr>\n",
       "      <th>4</th>\n",
       "      <td>MN</td>\n",
       "      <td>bimodal</td>\n",
       "      <td>MIR</td>\n",
       "      <td>8</td>\n",
       "      <td>22.857143</td>\n",
       "    </tr>\n",
       "  </tbody>\n",
       "</table>\n",
       "</div>"
      ],
      "text/plain": [
       "  phenotype modality repetitive_element_dfam_superfamily  # AS Exons  \\\n",
       "0        MN  bimodal                                 Alu          14   \n",
       "1        MN  bimodal                           ERVL-MaLR           3   \n",
       "2        MN  bimodal                              Gypsy?           1   \n",
       "3        MN  bimodal                                  L2           1   \n",
       "4        MN  bimodal                                 MIR           8   \n",
       "\n",
       "   % AS Exons  \n",
       "0   40.000000  \n",
       "1    8.571429  \n",
       "2    2.857143  \n",
       "3    2.857143  \n",
       "4   22.857143  "
      ]
     },
     "execution_count": 219,
     "metadata": {},
     "output_type": "execute_result"
    }
   ],
   "source": [
    "modalities_repetitive_counts['% AS Exons'] = 100 * modalities_repetitive_counts.groupby(\n",
    "    ['phenotype', 'modality'])['# AS Exons'].apply(lambda x: x/x.sum())\n",
    "modalities_repetitive_counts.head()"
   ]
  },
  {
   "cell_type": "markdown",
   "metadata": {},
   "source": [
    "### This gets the mean number of repetitive elements per exon per category .. not quite what we want"
   ]
  },
  {
   "cell_type": "code",
   "execution_count": 220,
   "metadata": {
    "collapsed": false
   },
   "outputs": [
    {
     "data": {
      "image/png": "[encoded data removed]",
      "text/plain": [
       "<matplotlib.figure.Figure at 0x2b5aec256a50>"
      ]
     },
     "metadata": {},
     "output_type": "display_data"
    }
   ],
   "source": [
    "fig, ax = plt.subplots(figsize=(2, 1.5))\n",
    "sns.barplot(x='phenotype', hue='modality', y='# AS Exons',\n",
    "               data=modalities_repetitive_counts, hue_order=modality_order, \n",
    "               palette=modality_palette, order=study.phenotype_order, ci=None)\n",
    "ax.legend_.set_visible(False)\n",
    "ax.locator_params('y', nbins=4)\n",
    "ax.set(ylabel='# AS Exons')\n",
    "sns.despine()"
   ]
  },
  {
   "cell_type": "code",
   "execution_count": 221,
   "metadata": {
    "collapsed": false
   },
   "outputs": [
    {
     "name": "stdout",
     "output_type": "stream",
     "text": [
      "modalities_repetitive_counts.shape (124, 5)\n",
      "modalities_repetitive_counts_filtered_minimum.shape (62, 5)\n"
     ]
    },
    {
     "data": {
      "text/html": [
       "<div>\n",
       "<table border=\"1\" class=\"dataframe\">\n",
       "  <thead>\n",
       "    <tr style=\"text-align: right;\">\n",
       "      <th></th>\n",
       "      <th>phenotype</th>\n",
       "      <th>modality</th>\n",
       "      <th>repetitive_element_dfam_superfamily</th>\n",
       "      <th># AS Exons</th>\n",
       "      <th>% AS Exons</th>\n",
       "    </tr>\n",
       "  </thead>\n",
       "  <tbody>\n",
       "    <tr>\n",
       "      <th>0</th>\n",
       "      <td>MN</td>\n",
       "      <td>bimodal</td>\n",
       "      <td>Alu</td>\n",
       "      <td>14</td>\n",
       "      <td>40.000000</td>\n",
       "    </tr>\n",
       "    <tr>\n",
       "      <th>1</th>\n",
       "      <td>MN</td>\n",
       "      <td>bimodal</td>\n",
       "      <td>ERVL-MaLR</td>\n",
       "      <td>3</td>\n",
       "      <td>8.571429</td>\n",
       "    </tr>\n",
       "    <tr>\n",
       "      <th>4</th>\n",
       "      <td>MN</td>\n",
       "      <td>bimodal</td>\n",
       "      <td>MIR</td>\n",
       "      <td>8</td>\n",
       "      <td>22.857143</td>\n",
       "    </tr>\n",
       "    <tr>\n",
       "      <th>5</th>\n",
       "      <td>MN</td>\n",
       "      <td>bimodal</td>\n",
       "      <td>TcMar-Tigger</td>\n",
       "      <td>2</td>\n",
       "      <td>5.714286</td>\n",
       "    </tr>\n",
       "    <tr>\n",
       "      <th>7</th>\n",
       "      <td>MN</td>\n",
       "      <td>bimodal</td>\n",
       "      <td>hAT-Charlie</td>\n",
       "      <td>3</td>\n",
       "      <td>8.571429</td>\n",
       "    </tr>\n",
       "  </tbody>\n",
       "</table>\n",
       "</div>"
      ],
      "text/plain": [
       "  phenotype modality repetitive_element_dfam_superfamily  # AS Exons  \\\n",
       "0        MN  bimodal                                 Alu          14   \n",
       "1        MN  bimodal                           ERVL-MaLR           3   \n",
       "4        MN  bimodal                                 MIR           8   \n",
       "5        MN  bimodal                        TcMar-Tigger           2   \n",
       "7        MN  bimodal                         hAT-Charlie           3   \n",
       "\n",
       "   % AS Exons  \n",
       "0   40.000000  \n",
       "1    8.571429  \n",
       "4   22.857143  \n",
       "5    5.714286  \n",
       "7    8.571429  "
      ]
     },
     "execution_count": 221,
     "metadata": {},
     "output_type": "execute_result"
    }
   ],
   "source": [
    "modalities_repetitive_counts_filtered_minimum = \\\n",
    "    modalities_repetitive_counts.groupby(['repetitive_element_dfam_superfamily']).filter(lambda x: (x['# AS Exons'] >=10).any())\n",
    "six.print_('modalities_repetitive_counts.shape', modalities_repetitive_counts.shape)\n",
    "six.print_('modalities_repetitive_counts_filtered_minimum.shape', modalities_repetitive_counts_filtered_minimum.shape)\n",
    "modalities_repetitive_counts_filtered_minimum.head()"
   ]
  },
  {
   "cell_type": "code",
   "execution_count": 222,
   "metadata": {
    "collapsed": false
   },
   "outputs": [
    {
     "name": "stdout",
     "output_type": "stream",
     "text": [
      "modalities_repetitive_counts.shape (124, 5)\n",
      "modalities_repetitive_counts_filtered_minimum.shape (21, 5)\n"
     ]
    },
    {
     "data": {
      "text/html": [
       "<div>\n",
       "<table border=\"1\" class=\"dataframe\">\n",
       "  <thead>\n",
       "    <tr style=\"text-align: right;\">\n",
       "      <th></th>\n",
       "      <th>phenotype</th>\n",
       "      <th>modality</th>\n",
       "      <th>repetitive_element_dfam_superfamily</th>\n",
       "      <th># AS Exons</th>\n",
       "      <th>% AS Exons</th>\n",
       "    </tr>\n",
       "  </thead>\n",
       "  <tbody>\n",
       "    <tr>\n",
       "      <th>0</th>\n",
       "      <td>MN</td>\n",
       "      <td>bimodal</td>\n",
       "      <td>Alu</td>\n",
       "      <td>14</td>\n",
       "      <td>40.000000</td>\n",
       "    </tr>\n",
       "    <tr>\n",
       "      <th>16</th>\n",
       "      <td>MN</td>\n",
       "      <td>excluded</td>\n",
       "      <td>Alu</td>\n",
       "      <td>124</td>\n",
       "      <td>63.589744</td>\n",
       "    </tr>\n",
       "    <tr>\n",
       "      <th>21</th>\n",
       "      <td>MN</td>\n",
       "      <td>excluded</td>\n",
       "      <td>MIR</td>\n",
       "      <td>33</td>\n",
       "      <td>16.923077</td>\n",
       "    </tr>\n",
       "    <tr>\n",
       "      <th>24</th>\n",
       "      <td>MN</td>\n",
       "      <td>excluded</td>\n",
       "      <td>hAT-Charlie</td>\n",
       "      <td>12</td>\n",
       "      <td>6.153846</td>\n",
       "    </tr>\n",
       "    <tr>\n",
       "      <th>32</th>\n",
       "      <td>NPC</td>\n",
       "      <td>bimodal</td>\n",
       "      <td>Alu</td>\n",
       "      <td>34</td>\n",
       "      <td>43.037975</td>\n",
       "    </tr>\n",
       "  </tbody>\n",
       "</table>\n",
       "</div>"
      ],
      "text/plain": [
       "   phenotype  modality repetitive_element_dfam_superfamily  # AS Exons  \\\n",
       "0         MN   bimodal                                 Alu          14   \n",
       "16        MN  excluded                                 Alu         124   \n",
       "21        MN  excluded                                 MIR          33   \n",
       "24        MN  excluded                         hAT-Charlie          12   \n",
       "32       NPC   bimodal                                 Alu          34   \n",
       "\n",
       "    % AS Exons  \n",
       "0    40.000000  \n",
       "16   63.589744  \n",
       "21   16.923077  \n",
       "24    6.153846  \n",
       "32   43.037975  "
      ]
     },
     "execution_count": 222,
     "metadata": {},
     "output_type": "execute_result"
    }
   ],
   "source": [
    "modalities_repetitive_counts_filtered_minimum = modalities_repetitive_counts.loc[modalities_repetitive_counts['# AS Exons'] >= 10]\n",
    "six.print_('modalities_repetitive_counts.shape', modalities_repetitive_counts.shape)\n",
    "six.print_('modalities_repetitive_counts_filtered_minimum.shape', modalities_repetitive_counts_filtered_minimum.shape)\n",
    "modalities_repetitive_counts_filtered_minimum.head()"
   ]
  },
  {
   "cell_type": "code",
   "execution_count": 223,
   "metadata": {
    "collapsed": false
   },
   "outputs": [
    {
     "data": {
      "image/png": "[encoded data removed]",
      "text/plain": [
       "<matplotlib.figure.Figure at 0x2b5b90a981d0>"
      ]
     },
     "metadata": {},
     "output_type": "display_data"
    }
   ],
   "source": [
    "# fig, ax = plt.subplots(figsize=(2, 1.5))\n",
    "g = sns.factorplot(x='modality', hue='repetitive_element_dfam_superfamily', y='# AS Exons',\n",
    "                   data=modalities_repetitive_counts_filtered_minimum, order=modality_order, \n",
    "                   palette='husl',\n",
    "#                palette=modality_palette, \n",
    "                   col='phenotype', kind='bar', size=1.5, aspect=1.6,\n",
    "                   col_order=study.phenotype_order, ci=None)\n",
    "# ax.legend_.set_visible(False)\n",
    "# ax.locator_params('y', nbins=4)\n",
    "# ax.set(ylabel='# AS Exons')\n",
    "g.set(yticks=(0, 100, 200, 300), xlabel='')\n",
    "sns.despine()\n",
    "g.savefig('{}/repetitive_element_superfamily_per_modality_filtered_minimum.pdf'.format(figure_folder))"
   ]
  },
  {
   "cell_type": "code",
   "execution_count": 224,
   "metadata": {
    "collapsed": false
   },
   "outputs": [
    {
     "data": {
      "image/png": "[encoded data removed]",
      "text/plain": [
       "<matplotlib.figure.Figure at 0x2b5b2ac6ab50>"
      ]
     },
     "metadata": {},
     "output_type": "display_data"
    },
    {
     "data": {
      "image/png": "[encoded data removed]",
      "text/plain": [
       "<matplotlib.figure.Figure at 0x2b5b90a6b750>"
      ]
     },
     "metadata": {},
     "output_type": "display_data"
    },
    {
     "data": {
      "image/png": "[encoded data removed]",
      "text/plain": [
       "<matplotlib.figure.Figure at 0x2b5aec3b5ad0>"
      ]
     },
     "metadata": {},
     "output_type": "display_data"
    }
   ],
   "source": [
    "for phenotype, df in modalities_repetitive_counts_filtered_minimum.groupby('phenotype'):\n",
    "    fig, ax = plt.subplots(figsize=(1.6, 1.25))\n",
    "    matrix = df.pivot(index='repetitive_element_dfam_superfamily', columns='modality', values='# AS Exons')\n",
    "    matrix = matrix.loc[:, modality_order]\n",
    "#     matrix = matrix.astype(int)\n",
    "    sns.heatmap(matrix, annot=True, cmap='Greys', fmt='.0f', linewidth=0.5, linecolor='grey')\n",
    "    ax.set(xlabel='', ylabel='', xticks=[])\n",
    "#     fig.tight_layout()\n",
    "    fig.savefig('{}/repetitive_element_superfamily_per_modality_filtered_minimum_{}.pdf'.format(figure_folder, phenotype))"
   ]
  },
  {
   "cell_type": "markdown",
   "metadata": {},
   "source": [
    "### Get total number of exons with repetitive elements"
   ]
  },
  {
   "cell_type": "code",
   "execution_count": 225,
   "metadata": {
    "collapsed": false
   },
   "outputs": [
    {
     "data": {
      "text/html": [
       "<div>\n",
       "<table border=\"1\" class=\"dataframe\">\n",
       "  <thead>\n",
       "    <tr style=\"text-align: right;\">\n",
       "      <th></th>\n",
       "      <th>phenotype</th>\n",
       "      <th>modality</th>\n",
       "      <th>event_id</th>\n",
       "      <th>repetitive_element_dfam_superfamily</th>\n",
       "    </tr>\n",
       "  </thead>\n",
       "  <tbody>\n",
       "    <tr>\n",
       "      <th>0</th>\n",
       "      <td>MN</td>\n",
       "      <td>bimodal</td>\n",
       "      <td>exon:chr10:103360960-103361093:+@exon:chr10:103364897-103364969:+@exon:chr10:103368592-103368694:+</td>\n",
       "      <td>hAT-Tip100</td>\n",
       "    </tr>\n",
       "    <tr>\n",
       "      <th>1</th>\n",
       "      <td>MN</td>\n",
       "      <td>excluded</td>\n",
       "      <td>exon:chr10:112679305-112679415:+@exon:chr10:112711366-112711550:+@exon:chr10:112723883-112724819:+</td>\n",
       "      <td>Alu</td>\n",
       "    </tr>\n",
       "    <tr>\n",
       "      <th>2</th>\n",
       "      <td>MN</td>\n",
       "      <td>excluded</td>\n",
       "      <td>exon:chr10:126107442-126107505:-@exon:chr10:126102915-126103001:-@exon:chr10:126100542-126100769:-</td>\n",
       "      <td>hAT-Charlie</td>\n",
       "    </tr>\n",
       "    <tr>\n",
       "      <th>3</th>\n",
       "      <td>MN</td>\n",
       "      <td>excluded</td>\n",
       "      <td>exon:chr10:27815757-27815818:+@exon:chr10:27820458-27820544:+@exon:chr10:27821436-27821508:+</td>\n",
       "      <td>hAT-Charlie</td>\n",
       "    </tr>\n",
       "    <tr>\n",
       "      <th>4</th>\n",
       "      <td>MN</td>\n",
       "      <td>excluded</td>\n",
       "      <td>exon:chr10:76973779-76973828:+@exon:chr10:76977646-76977749:+@exon:chr10:76978821-76978973:+</td>\n",
       "      <td>Alu</td>\n",
       "    </tr>\n",
       "  </tbody>\n",
       "</table>\n",
       "</div>"
      ],
      "text/plain": [
       "  phenotype  modality  \\\n",
       "0        MN   bimodal   \n",
       "1        MN  excluded   \n",
       "2        MN  excluded   \n",
       "3        MN  excluded   \n",
       "4        MN  excluded   \n",
       "\n",
       "                                                                                             event_id  \\\n",
       "0  exon:chr10:103360960-103361093:+@exon:chr10:103364897-103364969:+@exon:chr10:103368592-103368694:+   \n",
       "1  exon:chr10:112679305-112679415:+@exon:chr10:112711366-112711550:+@exon:chr10:112723883-112724819:+   \n",
       "2  exon:chr10:126107442-126107505:-@exon:chr10:126102915-126103001:-@exon:chr10:126100542-126100769:-   \n",
       "3        exon:chr10:27815757-27815818:+@exon:chr10:27820458-27820544:+@exon:chr10:27821436-27821508:+   \n",
       "4        exon:chr10:76973779-76973828:+@exon:chr10:76977646-76977749:+@exon:chr10:76978821-76978973:+   \n",
       "\n",
       "  repetitive_element_dfam_superfamily  \n",
       "0                          hAT-Tip100  \n",
       "1                                 Alu  \n",
       "2                         hAT-Charlie  \n",
       "3                         hAT-Charlie  \n",
       "4                                 Alu  "
      ]
     },
     "execution_count": 225,
     "metadata": {},
     "output_type": "execute_result"
    }
   ],
   "source": [
    "modalities_repetitive_no_commas.head()"
   ]
  },
  {
   "cell_type": "code",
   "execution_count": 226,
   "metadata": {
    "collapsed": false
   },
   "outputs": [
    {
     "data": {
      "text/html": [
       "<div>\n",
       "<table border=\"1\" class=\"dataframe\">\n",
       "  <thead>\n",
       "    <tr style=\"text-align: right;\">\n",
       "      <th></th>\n",
       "      <th>phenotype</th>\n",
       "      <th>modality</th>\n",
       "      <th># AS Exons</th>\n",
       "    </tr>\n",
       "  </thead>\n",
       "  <tbody>\n",
       "    <tr>\n",
       "      <th>0</th>\n",
       "      <td>MN</td>\n",
       "      <td>bimodal</td>\n",
       "      <td>31</td>\n",
       "    </tr>\n",
       "    <tr>\n",
       "      <th>1</th>\n",
       "      <td>MN</td>\n",
       "      <td>constitutive</td>\n",
       "      <td>15</td>\n",
       "    </tr>\n",
       "    <tr>\n",
       "      <th>2</th>\n",
       "      <td>MN</td>\n",
       "      <td>excluded</td>\n",
       "      <td>192</td>\n",
       "    </tr>\n",
       "    <tr>\n",
       "      <th>3</th>\n",
       "      <td>MN</td>\n",
       "      <td>included</td>\n",
       "      <td>10</td>\n",
       "    </tr>\n",
       "    <tr>\n",
       "      <th>4</th>\n",
       "      <td>NPC</td>\n",
       "      <td>bimodal</td>\n",
       "      <td>72</td>\n",
       "    </tr>\n",
       "  </tbody>\n",
       "</table>\n",
       "</div>"
      ],
      "text/plain": [
       "  phenotype      modality  # AS Exons\n",
       "0        MN       bimodal          31\n",
       "1        MN  constitutive          15\n",
       "2        MN      excluded         192\n",
       "3        MN      included          10\n",
       "4       NPC       bimodal          72"
      ]
     },
     "execution_count": 226,
     "metadata": {},
     "output_type": "execute_result"
    }
   ],
   "source": [
    "modalities_repetitive_counts_total = modalities_repetitive_no_commas.groupby(\n",
    "    ['phenotype', 'modality'])['event_id'].apply(lambda x: len(x.unique()))\n",
    "modalities_repetitive_counts_total = modalities_repetitive_counts_total.reset_index()\n",
    "modalities_repetitive_counts_total = modalities_repetitive_counts_total.rename(columns={'event_id': '# AS Exons'})\n",
    "modalities_repetitive_counts_total.head()"
   ]
  },
  {
   "cell_type": "code",
   "execution_count": 227,
   "metadata": {
    "collapsed": false
   },
   "outputs": [
    {
     "data": {
      "image/png": "[encoded data removed]",
      "text/plain": [
       "<matplotlib.figure.Figure at 0x2b5b90a6b8d0>"
      ]
     },
     "metadata": {},
     "output_type": "display_data"
    }
   ],
   "source": [
    "fig, ax = plt.subplots(figsize=(2, 1.5))\n",
    "sns.barplot(x='phenotype', hue='modality', y='# AS Exons',\n",
    "               data=modalities_repetitive_counts_total, hue_order=modality_order, \n",
    "               palette=modality_palette, order=study.phenotype_order, ci=None)\n",
    "ax.legend_.set_visible(False)\n",
    "ax.locator_params('y', nbins=4)\n",
    "ax.set(ylabel='# AS Exons')\n",
    "sns.despine()\n",
    "fig.tight_layout()\n",
    "fig.savefig('{}/repetitive_element_n_exons_with_repetitive_elements_per_modality.pdf'.format(figure_folder))"
   ]
  },
  {
   "cell_type": "markdown",
   "metadata": {},
   "source": [
    "### Statistical Enrichment - hypergeometric test vs all exons in that modality"
   ]
  },
  {
   "cell_type": "code",
   "execution_count": 228,
   "metadata": {
    "collapsed": false
   },
   "outputs": [
    {
     "data": {
      "text/html": [
       "<div>\n",
       "<table border=\"1\" class=\"dataframe\">\n",
       "  <thead>\n",
       "    <tr style=\"text-align: right;\">\n",
       "      <th></th>\n",
       "      <th>phenotype</th>\n",
       "      <th>modality</th>\n",
       "      <th>p-value</th>\n",
       "      <th>q-value</th>\n",
       "    </tr>\n",
       "  </thead>\n",
       "  <tbody>\n",
       "    <tr>\n",
       "      <th>1</th>\n",
       "      <td>MN</td>\n",
       "      <td>constitutive</td>\n",
       "      <td>0.000000e+00</td>\n",
       "      <td>0.000000e+00</td>\n",
       "    </tr>\n",
       "    <tr>\n",
       "      <th>2</th>\n",
       "      <td>MN</td>\n",
       "      <td>excluded</td>\n",
       "      <td>8.746071e-90</td>\n",
       "      <td>1.399371e-88</td>\n",
       "    </tr>\n",
       "    <tr>\n",
       "      <th>6</th>\n",
       "      <td>NPC</td>\n",
       "      <td>constitutive</td>\n",
       "      <td>0.000000e+00</td>\n",
       "      <td>0.000000e+00</td>\n",
       "    </tr>\n",
       "    <tr>\n",
       "      <th>7</th>\n",
       "      <td>NPC</td>\n",
       "      <td>excluded</td>\n",
       "      <td>2.310004e-177</td>\n",
       "      <td>3.696007e-176</td>\n",
       "    </tr>\n",
       "    <tr>\n",
       "      <th>11</th>\n",
       "      <td>iPSC</td>\n",
       "      <td>constitutive</td>\n",
       "      <td>0.000000e+00</td>\n",
       "      <td>0.000000e+00</td>\n",
       "    </tr>\n",
       "    <tr>\n",
       "      <th>12</th>\n",
       "      <td>iPSC</td>\n",
       "      <td>excluded</td>\n",
       "      <td>1.021928e-242</td>\n",
       "      <td>1.635084e-241</td>\n",
       "    </tr>\n",
       "  </tbody>\n",
       "</table>\n",
       "</div>"
      ],
      "text/plain": [
       "   phenotype      modality        p-value        q-value\n",
       "1         MN  constitutive   0.000000e+00   0.000000e+00\n",
       "2         MN      excluded   8.746071e-90   1.399371e-88\n",
       "6        NPC  constitutive   0.000000e+00   0.000000e+00\n",
       "7        NPC      excluded  2.310004e-177  3.696007e-176\n",
       "11      iPSC  constitutive   0.000000e+00   0.000000e+00\n",
       "12      iPSC      excluded  1.021928e-242  1.635084e-241"
      ]
     },
     "execution_count": 228,
     "metadata": {},
     "output_type": "execute_result"
    }
   ],
   "source": [
    "from scipy.stats import hypergeom\n",
    "\n",
    "col = 'repetitive_element_dfam_superfamily'\n",
    "\n",
    "lines = []\n",
    "\n",
    "for phenotype, phenotype_df in modalities_repetitive.groupby(['phenotype']):\n",
    "#     six.print_(phenotype)\n",
    "    M = phenotype_df.shape[0]\n",
    "    n = phenotype_df[col].count()\n",
    "    for modality, modality_df in phenotype_df.groupby('modality'):\n",
    "#         six.print_('\\t', modality)\n",
    "        N = modality_df.shape[0]\n",
    "        x = modality_df[col].count()\n",
    "        result = hypergeom.sf(x, M, n, N)\n",
    "#         six.print_('\\t\\t', result)\n",
    "        lines.append([phenotype, modality, result])\n",
    "repetitive_element_significance = pd.DataFrame(lines, columns=['phenotype', 'modality', 'p-value'])\n",
    "repetitive_element_significance['q-value'] = repetitive_element_significance['p-value'] * repetitive_element_significance.shape[0]\n",
    "repetitive_element_significance.loc[repetitive_element_significance['q-value'] < 1e-3]"
   ]
  },
  {
   "cell_type": "code",
   "execution_count": 229,
   "metadata": {
    "collapsed": true
   },
   "outputs": [],
   "source": [
    "from scipy.stats import fisher_exact"
   ]
  },
  {
   "cell_type": "code",
   "execution_count": 230,
   "metadata": {
    "collapsed": false
   },
   "outputs": [
    {
     "data": {
      "text/plain": [
       "(1.032344064386318, 1.0)"
      ]
     },
     "execution_count": 230,
     "metadata": {},
     "output_type": "execute_result"
    }
   ],
   "source": [
    "fisher_exact([[x, N-x], [n-x, M-n-N]])"
   ]
  },
  {
   "cell_type": "markdown",
   "metadata": {},
   "source": [
    "## Ancient alternative splicing"
   ]
  },
  {
   "cell_type": "code",
   "execution_count": 231,
   "metadata": {
    "collapsed": true
   },
   "outputs": [],
   "source": [
    "prefix = 'exon2_merkin2012_ancient'\n",
    "csv = '{}.csv'.format(prefix)"
   ]
  },
  {
   "cell_type": "code",
   "execution_count": 232,
   "metadata": {
    "collapsed": true
   },
   "outputs": [],
   "source": [
    "col = 'Ancient Alt Splicing'"
   ]
  },
  {
   "cell_type": "code",
   "execution_count": 233,
   "metadata": {
    "collapsed": false
   },
   "outputs": [
    {
     "name": "stdout",
     "output_type": "stream",
     "text": [
      "(46193,)\n"
     ]
    },
    {
     "data": {
      "text/plain": [
       "0\n",
       "exon:chr10:100190328-100190427:-@exon:chr10:100189548-100189646:-@exon:chr10:100189330-100189399:-    False\n",
       "exon:chr10:100193697-100193848:-@exon:chr10:100190888-100191048:-@exon:chr10:100190328-100190427:-    False\n",
       "exon:chr10:100195392-100195529:-@exon:chr10:100195029-100195171:-@exon:chr10:100193697-100193848:-    False\n",
       "exon:chr10:101165513-101165617:-@exon:chr10:101163481-101163631:-@exon:chr10:101163226-101163391:-    False\n",
       "exon:chr10:101419263-101419345:+@exon:chr10:101419619-101419721:+@exon:chr10:101421203-101421385:+    False\n",
       "Name: Ancient Alt Splicing, dtype: bool"
      ]
     },
     "execution_count": 233,
     "metadata": {},
     "output_type": "execute_result"
    }
   ],
   "source": [
    "alternative_merkin2012 = pd.read_csv('{}/{}'.format(alternative_feature_folder, csv), index_col=0, squeeze=True, header=None)\n",
    "six.print_(alternative_merkin2012.shape)\n",
    "alternative_merkin2012.name = col\n",
    "alternative_merkin2012.head()"
   ]
  },
  {
   "cell_type": "markdown",
   "metadata": {},
   "source": [
    "No constitutive exons overlapped with any of the ancient Merkin2012 exons so we're ignoring constitutive for now."
   ]
  },
  {
   "cell_type": "code",
   "execution_count": 234,
   "metadata": {
    "collapsed": false
   },
   "outputs": [
    {
     "name": "stdout",
     "output_type": "stream",
     "text": [
      "(14853, 4)\n"
     ]
    },
    {
     "data": {
      "text/html": [
       "<div>\n",
       "<table border=\"1\" class=\"dataframe\">\n",
       "  <thead>\n",
       "    <tr style=\"text-align: right;\">\n",
       "      <th></th>\n",
       "      <th>phenotype</th>\n",
       "      <th>event_id</th>\n",
       "      <th>modality</th>\n",
       "      <th>Ancient Alt Splicing</th>\n",
       "    </tr>\n",
       "  </thead>\n",
       "  <tbody>\n",
       "    <tr>\n",
       "      <th>0</th>\n",
       "      <td>MN</td>\n",
       "      <td>exon:chr10:102114184-102114389:+@exon:chr10:102116289-102116521:+@exon:chr10:102120491-102124591:+</td>\n",
       "      <td>included</td>\n",
       "      <td>False</td>\n",
       "    </tr>\n",
       "    <tr>\n",
       "      <th>1</th>\n",
       "      <td>MN</td>\n",
       "      <td>exon:chr10:102286732-102286831:-@exon:chr10:102286156-102286311:-@exon:chr10:102283500-102283686:-</td>\n",
       "      <td>included</td>\n",
       "      <td>False</td>\n",
       "    </tr>\n",
       "    <tr>\n",
       "      <th>2</th>\n",
       "      <td>MN</td>\n",
       "      <td>exon:chr10:103360960-103361093:+@exon:chr10:103364897-103364969:+@exon:chr10:103368592-103368694:+</td>\n",
       "      <td>bimodal</td>\n",
       "      <td>False</td>\n",
       "    </tr>\n",
       "    <tr>\n",
       "      <th>3</th>\n",
       "      <td>MN</td>\n",
       "      <td>exon:chr10:103563492-103563776:-@exon:chr10:103559999-103560157:-@exon:chr10:103558599-103559212:-</td>\n",
       "      <td>bimodal</td>\n",
       "      <td>False</td>\n",
       "    </tr>\n",
       "    <tr>\n",
       "      <th>4</th>\n",
       "      <td>MN</td>\n",
       "      <td>exon:chr10:103567487-103567658:-@exon:chr10:103565802-103565900:-@exon:chr10:103563504-103563776:-</td>\n",
       "      <td>included</td>\n",
       "      <td>False</td>\n",
       "    </tr>\n",
       "  </tbody>\n",
       "</table>\n",
       "</div>"
      ],
      "text/plain": [
       "  phenotype  \\\n",
       "0        MN   \n",
       "1        MN   \n",
       "2        MN   \n",
       "3        MN   \n",
       "4        MN   \n",
       "\n",
       "                                                                                             event_id  \\\n",
       "0  exon:chr10:102114184-102114389:+@exon:chr10:102116289-102116521:+@exon:chr10:102120491-102124591:+   \n",
       "1  exon:chr10:102286732-102286831:-@exon:chr10:102286156-102286311:-@exon:chr10:102283500-102283686:-   \n",
       "2  exon:chr10:103360960-103361093:+@exon:chr10:103364897-103364969:+@exon:chr10:103368592-103368694:+   \n",
       "3  exon:chr10:103563492-103563776:-@exon:chr10:103559999-103560157:-@exon:chr10:103558599-103559212:-   \n",
       "4  exon:chr10:103567487-103567658:-@exon:chr10:103565802-103565900:-@exon:chr10:103563504-103563776:-   \n",
       "\n",
       "   modality Ancient Alt Splicing  \n",
       "0  included                False  \n",
       "1  included                False  \n",
       "2   bimodal                False  \n",
       "3   bimodal                False  \n",
       "4  included                False  "
      ]
     },
     "execution_count": 234,
     "metadata": {},
     "output_type": "execute_result"
    }
   ],
   "source": [
    "modalities_merkin2012 = study.supplemental.modalities_tidy.join(alternative_merkin2012, on='event_id')\n",
    "six.print_(modalities_merkin2012.shape)\n",
    "modalities_merkin2012.head()"
   ]
  },
  {
   "cell_type": "code",
   "execution_count": 235,
   "metadata": {
    "collapsed": false
   },
   "outputs": [
    {
     "data": {
      "image/png": "[encoded data removed]",
      "text/plain": [
       "<matplotlib.figure.Figure at 0x2b5b25320890>"
      ]
     },
     "metadata": {},
     "output_type": "display_data"
    }
   ],
   "source": [
    "fig, ax = plt.subplots(figsize=(2, 1.5))\n",
    "sns.barplot(x='phenotype', y=col, hue='modality', hue_order=modality_order, \n",
    "            data=modalities_merkin2012, ci=None,\n",
    "            palette=modality_palette, order=study.phenotype_order)\n",
    "ax.locator_params('y', nbins=3)\n",
    "\n",
    "yticks = ax.get_yticks()\n",
    "yticklabels = 100 * yticks\n",
    "ax.set(xlabel='', ylabel='% ' +col, yticklabels=yticklabels)\n",
    "ax.legend_.set_visible(False)\n",
    "sns.despine()\n",
    "fig.tight_layout()\n",
    "fig.savefig('{}/{}.pdf'.format(figure_folder, prefix))"
   ]
  },
  {
   "cell_type": "markdown",
   "metadata": {},
   "source": [
    "### Statistical Enrichment - hypergeometric test vs all exons in that modality"
   ]
  },
  {
   "cell_type": "code",
   "execution_count": 236,
   "metadata": {
    "collapsed": false
   },
   "outputs": [
    {
     "name": "stdout",
     "output_type": "stream",
     "text": [
      "MN\n",
      "NPC\n",
      "iPSC\n"
     ]
    },
    {
     "data": {
      "text/html": [
       "<div>\n",
       "<table border=\"1\" class=\"dataframe\">\n",
       "  <thead>\n",
       "    <tr style=\"text-align: right;\">\n",
       "      <th></th>\n",
       "      <th>phenotype</th>\n",
       "      <th>modality</th>\n",
       "      <th>p_value</th>\n",
       "      <th>bonferonni_p_value</th>\n",
       "    </tr>\n",
       "  </thead>\n",
       "  <tbody>\n",
       "    <tr>\n",
       "      <th>0</th>\n",
       "      <td>MN</td>\n",
       "      <td>bimodal</td>\n",
       "      <td>5.156246e-03</td>\n",
       "      <td>0.067031</td>\n",
       "    </tr>\n",
       "    <tr>\n",
       "      <th>1</th>\n",
       "      <td>MN</td>\n",
       "      <td>excluded</td>\n",
       "      <td>3.955188e-01</td>\n",
       "      <td>5.141745</td>\n",
       "    </tr>\n",
       "    <tr>\n",
       "      <th>2</th>\n",
       "      <td>MN</td>\n",
       "      <td>included</td>\n",
       "      <td>8.642531e-01</td>\n",
       "      <td>11.235290</td>\n",
       "    </tr>\n",
       "    <tr>\n",
       "      <th>3</th>\n",
       "      <td>MN</td>\n",
       "      <td>uncategorized</td>\n",
       "      <td>2.447980e-03</td>\n",
       "      <td>0.031824</td>\n",
       "    </tr>\n",
       "    <tr>\n",
       "      <th>4</th>\n",
       "      <td>NPC</td>\n",
       "      <td>bimodal</td>\n",
       "      <td>2.545329e-05</td>\n",
       "      <td>0.000331</td>\n",
       "    </tr>\n",
       "    <tr>\n",
       "      <th>5</th>\n",
       "      <td>NPC</td>\n",
       "      <td>excluded</td>\n",
       "      <td>2.553487e-01</td>\n",
       "      <td>3.319533</td>\n",
       "    </tr>\n",
       "    <tr>\n",
       "      <th>6</th>\n",
       "      <td>NPC</td>\n",
       "      <td>included</td>\n",
       "      <td>9.995819e-01</td>\n",
       "      <td>12.994564</td>\n",
       "    </tr>\n",
       "    <tr>\n",
       "      <th>7</th>\n",
       "      <td>NPC</td>\n",
       "      <td>uncategorized</td>\n",
       "      <td>9.902961e-03</td>\n",
       "      <td>0.128738</td>\n",
       "    </tr>\n",
       "    <tr>\n",
       "      <th>8</th>\n",
       "      <td>iPSC</td>\n",
       "      <td>bimodal</td>\n",
       "      <td>3.715583e-07</td>\n",
       "      <td>0.000005</td>\n",
       "    </tr>\n",
       "    <tr>\n",
       "      <th>9</th>\n",
       "      <td>iPSC</td>\n",
       "      <td>excluded</td>\n",
       "      <td>2.709350e-01</td>\n",
       "      <td>3.522155</td>\n",
       "    </tr>\n",
       "    <tr>\n",
       "      <th>10</th>\n",
       "      <td>iPSC</td>\n",
       "      <td>included</td>\n",
       "      <td>9.999998e-01</td>\n",
       "      <td>12.999997</td>\n",
       "    </tr>\n",
       "    <tr>\n",
       "      <th>11</th>\n",
       "      <td>iPSC</td>\n",
       "      <td>middle</td>\n",
       "      <td>5.151915e-03</td>\n",
       "      <td>0.066975</td>\n",
       "    </tr>\n",
       "    <tr>\n",
       "      <th>12</th>\n",
       "      <td>iPSC</td>\n",
       "      <td>uncategorized</td>\n",
       "      <td>5.143716e-04</td>\n",
       "      <td>0.006687</td>\n",
       "    </tr>\n",
       "  </tbody>\n",
       "</table>\n",
       "</div>"
      ],
      "text/plain": [
       "   phenotype       modality       p_value  bonferonni_p_value\n",
       "0         MN        bimodal  5.156246e-03            0.067031\n",
       "1         MN       excluded  3.955188e-01            5.141745\n",
       "2         MN       included  8.642531e-01           11.235290\n",
       "3         MN  uncategorized  2.447980e-03            0.031824\n",
       "4        NPC        bimodal  2.545329e-05            0.000331\n",
       "5        NPC       excluded  2.553487e-01            3.319533\n",
       "6        NPC       included  9.995819e-01           12.994564\n",
       "7        NPC  uncategorized  9.902961e-03            0.128738\n",
       "8       iPSC        bimodal  3.715583e-07            0.000005\n",
       "9       iPSC       excluded  2.709350e-01            3.522155\n",
       "10      iPSC       included  9.999998e-01           12.999997\n",
       "11      iPSC         middle  5.151915e-03            0.066975\n",
       "12      iPSC  uncategorized  5.143716e-04            0.006687"
      ]
     },
     "execution_count": 236,
     "metadata": {},
     "output_type": "execute_result"
    }
   ],
   "source": [
    "from scipy.stats import hypergeom\n",
    "\n",
    "lines = []\n",
    "\n",
    "for phenotype, phenotype_df in modalities_merkin2012.groupby(['phenotype']):\n",
    "    six.print_(phenotype)\n",
    "    grouped = phenotype_df.groupby('modality')\n",
    "        \n",
    "    M = phenotype_df.shape[0]\n",
    "    n = phenotype_df[col].sum()\n",
    "    for modality, modality_df in phenotype_df.groupby('modality'):\n",
    "#         six.print_('\\t', modality)\n",
    "        N = modality_df.shape[0]\n",
    "        x = modality_df[col].sum()\n",
    "        result = hypergeom.sf(x, M, n, N)\n",
    "        lines.append([phenotype, modality, result])\n",
    "enrichment = pd.DataFrame(lines, columns=['phenotype', 'modality', 'p_value'])\n",
    "\n",
    "# multiple testing correction\n",
    "enrichment['bonferonni_p_value'] = enrichment['p_value'] * enrichment.shape[0]\n",
    "enrichment.head()\n",
    "enrichment"
   ]
  },
  {
   "cell_type": "markdown",
   "metadata": {},
   "source": [
    "## Gene age (phylostratum from Domazet-Loso MBE 2012)"
   ]
  },
  {
   "cell_type": "code",
   "execution_count": 237,
   "metadata": {
    "collapsed": false
   },
   "outputs": [
    {
     "data": {
      "text/html": [
       "<div>\n",
       "<table border=\"1\" class=\"dataframe\">\n",
       "  <thead>\n",
       "    <tr style=\"text-align: right;\">\n",
       "      <th></th>\n",
       "      <th>biomark_neural_panel</th>\n",
       "      <th>confident_rbp</th>\n",
       "      <th>gencode_id</th>\n",
       "      <th>gene_name</th>\n",
       "      <th>gene_status</th>\n",
       "      <th>gene_type</th>\n",
       "      <th>havana_gene</th>\n",
       "      <th>level</th>\n",
       "      <th>rbp</th>\n",
       "      <th>ribosomal</th>\n",
       "      <th>...</th>\n",
       "      <th>gerstberger2014_rbp_target_diverse</th>\n",
       "      <th>gerstberger2014_rbp_family_targets</th>\n",
       "      <th>cell_surface_markers</th>\n",
       "      <th>gerstberger2014_tf</th>\n",
       "      <th>cell_cycle</th>\n",
       "      <th>domazetloso2008_phylostratum</th>\n",
       "      <th>bioguo_animaltfdb_tf</th>\n",
       "      <th>bioguo_animaltfdb_chromatin_remodeler</th>\n",
       "      <th>bioguo_animaltfdb_cofactor</th>\n",
       "      <th>max_exons_per_gene</th>\n",
       "    </tr>\n",
       "  </thead>\n",
       "  <tbody>\n",
       "    <tr>\n",
       "      <th>ENSG00000000003</th>\n",
       "      <td>False</td>\n",
       "      <td>False</td>\n",
       "      <td>ENSG00000000003.10</td>\n",
       "      <td>TSPAN6</td>\n",
       "      <td>KNOWN</td>\n",
       "      <td>protein_coding</td>\n",
       "      <td>OTTHUMG00000022002.1</td>\n",
       "      <td>2</td>\n",
       "      <td>False</td>\n",
       "      <td>False</td>\n",
       "      <td>...</td>\n",
       "      <td>False</td>\n",
       "      <td>NaN</td>\n",
       "      <td>False</td>\n",
       "      <td>False</td>\n",
       "      <td>False</td>\n",
       "      <td>2</td>\n",
       "      <td>False</td>\n",
       "      <td>False</td>\n",
       "      <td>False</td>\n",
       "      <td>8</td>\n",
       "    </tr>\n",
       "    <tr>\n",
       "      <th>ENSG00000000005</th>\n",
       "      <td>False</td>\n",
       "      <td>False</td>\n",
       "      <td>ENSG00000000005.5</td>\n",
       "      <td>TNMD</td>\n",
       "      <td>KNOWN</td>\n",
       "      <td>protein_coding</td>\n",
       "      <td>OTTHUMG00000022001.1</td>\n",
       "      <td>2</td>\n",
       "      <td>False</td>\n",
       "      <td>False</td>\n",
       "      <td>...</td>\n",
       "      <td>False</td>\n",
       "      <td>NaN</td>\n",
       "      <td>False</td>\n",
       "      <td>False</td>\n",
       "      <td>False</td>\n",
       "      <td>11</td>\n",
       "      <td>False</td>\n",
       "      <td>False</td>\n",
       "      <td>False</td>\n",
       "      <td>7</td>\n",
       "    </tr>\n",
       "    <tr>\n",
       "      <th>ENSG00000000419</th>\n",
       "      <td>False</td>\n",
       "      <td>False</td>\n",
       "      <td>ENSG00000000419.8</td>\n",
       "      <td>DPM1</td>\n",
       "      <td>KNOWN</td>\n",
       "      <td>protein_coding</td>\n",
       "      <td>OTTHUMG00000032742.2</td>\n",
       "      <td>2</td>\n",
       "      <td>False</td>\n",
       "      <td>False</td>\n",
       "      <td>...</td>\n",
       "      <td>False</td>\n",
       "      <td>NaN</td>\n",
       "      <td>False</td>\n",
       "      <td>False</td>\n",
       "      <td>False</td>\n",
       "      <td>1</td>\n",
       "      <td>False</td>\n",
       "      <td>False</td>\n",
       "      <td>False</td>\n",
       "      <td>10</td>\n",
       "    </tr>\n",
       "    <tr>\n",
       "      <th>ENSG00000000457</th>\n",
       "      <td>False</td>\n",
       "      <td>False</td>\n",
       "      <td>ENSG00000000457.9</td>\n",
       "      <td>SCYL3</td>\n",
       "      <td>KNOWN</td>\n",
       "      <td>protein_coding</td>\n",
       "      <td>OTTHUMG00000035941.4</td>\n",
       "      <td>2</td>\n",
       "      <td>False</td>\n",
       "      <td>False</td>\n",
       "      <td>...</td>\n",
       "      <td>False</td>\n",
       "      <td>NaN</td>\n",
       "      <td>False</td>\n",
       "      <td>False</td>\n",
       "      <td>False</td>\n",
       "      <td>2</td>\n",
       "      <td>False</td>\n",
       "      <td>False</td>\n",
       "      <td>False</td>\n",
       "      <td>14</td>\n",
       "    </tr>\n",
       "    <tr>\n",
       "      <th>ENSG00000000460</th>\n",
       "      <td>False</td>\n",
       "      <td>False</td>\n",
       "      <td>ENSG00000000460.12</td>\n",
       "      <td>C1orf112</td>\n",
       "      <td>KNOWN</td>\n",
       "      <td>protein_coding</td>\n",
       "      <td>OTTHUMG00000035821.6</td>\n",
       "      <td>2</td>\n",
       "      <td>False</td>\n",
       "      <td>False</td>\n",
       "      <td>...</td>\n",
       "      <td>False</td>\n",
       "      <td>NaN</td>\n",
       "      <td>False</td>\n",
       "      <td>False</td>\n",
       "      <td>True</td>\n",
       "      <td>6</td>\n",
       "      <td>False</td>\n",
       "      <td>False</td>\n",
       "      <td>False</td>\n",
       "      <td>29</td>\n",
       "    </tr>\n",
       "  </tbody>\n",
       "</table>\n",
       "<p>5 rows × 36 columns</p>\n",
       "</div>"
      ],
      "text/plain": [
       "                biomark_neural_panel confident_rbp          gencode_id  \\\n",
       "ENSG00000000003                False         False  ENSG00000000003.10   \n",
       "ENSG00000000005                False         False   ENSG00000000005.5   \n",
       "ENSG00000000419                False         False   ENSG00000000419.8   \n",
       "ENSG00000000457                False         False   ENSG00000000457.9   \n",
       "ENSG00000000460                False         False  ENSG00000000460.12   \n",
       "\n",
       "                gene_name gene_status       gene_type           havana_gene  \\\n",
       "ENSG00000000003    TSPAN6       KNOWN  protein_coding  OTTHUMG00000022002.1   \n",
       "ENSG00000000005      TNMD       KNOWN  protein_coding  OTTHUMG00000022001.1   \n",
       "ENSG00000000419      DPM1       KNOWN  protein_coding  OTTHUMG00000032742.2   \n",
       "ENSG00000000457     SCYL3       KNOWN  protein_coding  OTTHUMG00000035941.4   \n",
       "ENSG00000000460  C1orf112       KNOWN  protein_coding  OTTHUMG00000035821.6   \n",
       "\n",
       "                 level    rbp ribosomal        ...          \\\n",
       "ENSG00000000003      2  False     False        ...           \n",
       "ENSG00000000005      2  False     False        ...           \n",
       "ENSG00000000419      2  False     False        ...           \n",
       "ENSG00000000457      2  False     False        ...           \n",
       "ENSG00000000460      2  False     False        ...           \n",
       "\n",
       "                gerstberger2014_rbp_target_diverse  \\\n",
       "ENSG00000000003                              False   \n",
       "ENSG00000000005                              False   \n",
       "ENSG00000000419                              False   \n",
       "ENSG00000000457                              False   \n",
       "ENSG00000000460                              False   \n",
       "\n",
       "                gerstberger2014_rbp_family_targets cell_surface_markers  \\\n",
       "ENSG00000000003                                NaN                False   \n",
       "ENSG00000000005                                NaN                False   \n",
       "ENSG00000000419                                NaN                False   \n",
       "ENSG00000000457                                NaN                False   \n",
       "ENSG00000000460                                NaN                False   \n",
       "\n",
       "                gerstberger2014_tf cell_cycle domazetloso2008_phylostratum  \\\n",
       "ENSG00000000003              False      False                            2   \n",
       "ENSG00000000005              False      False                           11   \n",
       "ENSG00000000419              False      False                            1   \n",
       "ENSG00000000457              False      False                            2   \n",
       "ENSG00000000460              False       True                            6   \n",
       "\n",
       "                bioguo_animaltfdb_tf bioguo_animaltfdb_chromatin_remodeler  \\\n",
       "ENSG00000000003                False                                 False   \n",
       "ENSG00000000005                False                                 False   \n",
       "ENSG00000000419                False                                 False   \n",
       "ENSG00000000457                False                                 False   \n",
       "ENSG00000000460                False                                 False   \n",
       "\n",
       "                bioguo_animaltfdb_cofactor max_exons_per_gene  \n",
       "ENSG00000000003                      False                  8  \n",
       "ENSG00000000005                      False                  7  \n",
       "ENSG00000000419                      False                 10  \n",
       "ENSG00000000457                      False                 14  \n",
       "ENSG00000000460                      False                 29  \n",
       "\n",
       "[5 rows x 36 columns]"
      ]
     },
     "execution_count": 237,
     "metadata": {},
     "output_type": "execute_result"
    }
   ],
   "source": [
    "study.expression.feature_data.head()"
   ]
  },
  {
   "cell_type": "code",
   "execution_count": 191,
   "metadata": {
    "collapsed": false
   },
   "outputs": [
    {
     "name": "stdout",
     "output_type": "stream",
     "text": [
      "(6250,)\n"
     ]
    },
    {
     "data": {
      "text/plain": [
       "0\n",
       "exon:chr10:102039881-102039985:-                                    ENSG00000196072\n",
       "exon:chr10:102040691-102040810:-                                    ENSG00000196072\n",
       "exon:chr10:102045854-102045970:-                                    ENSG00000196072\n",
       "exon:chr10:102045854-102046089:-                                    ENSG00000196072\n",
       "exon:chr10:102286732-102286831:-    ENSG00000075826,ENSG00000166136,ENSG00000255339\n",
       "Name: 1, dtype: object"
      ]
     },
     "execution_count": 191,
     "metadata": {},
     "output_type": "execute_result"
    }
   ],
   "source": [
    "genes_with_constitutive_exons = pd.read_csv('{}/genes.csv'.format(constitutive_feature_folder), \n",
    "                                            index_col=0, header=None, squeeze=True)\n",
    "six.print_(genes_with_constitutive_exons.shape)\n",
    "genes_with_constitutive_exons.head()"
   ]
  },
  {
   "cell_type": "code",
   "execution_count": 192,
   "metadata": {
    "collapsed": false
   },
   "outputs": [
    {
     "data": {
      "text/plain": [
       "exon:chr10:102039881-102039985:-    ENSG00000196072\n",
       "exon:chr10:102040691-102040810:-    ENSG00000196072\n",
       "exon:chr10:102045854-102045970:-    ENSG00000196072\n",
       "exon:chr10:102045854-102046089:-    ENSG00000196072\n",
       "exon:chr10:102286732-102286831:-    ENSG00000075826\n",
       "dtype: object"
      ]
     },
     "execution_count": 192,
     "metadata": {},
     "output_type": "execute_result"
    }
   ],
   "source": [
    "genes_with_constitutive_exons_expanded = pd.concat([pd.Series(x.split(','), index=[i]*len(x.split(',')))\n",
    "    for i, x in genes_with_constitutive_exons.iteritems()])\n",
    "genes_with_constitutive_exons_expanded.head()"
   ]
  },
  {
   "cell_type": "code",
   "execution_count": 193,
   "metadata": {
    "collapsed": false
   },
   "outputs": [
    {
     "data": {
      "text/plain": [
       "event_id\n",
       "exon:chr10:102039881-102039985:-    ENSG00000196072\n",
       "exon:chr10:102040691-102040810:-    ENSG00000196072\n",
       "exon:chr10:102045854-102045970:-    ENSG00000196072\n",
       "exon:chr10:102045854-102046089:-    ENSG00000196072\n",
       "exon:chr10:102286732-102286831:-    ENSG00000075826\n",
       "Name: ensembl_id, dtype: object"
      ]
     },
     "execution_count": 193,
     "metadata": {},
     "output_type": "execute_result"
    }
   ],
   "source": [
    "genes_with_constitutive_exons_expanded.name = 'ensembl_id'\n",
    "genes_with_constitutive_exons_expanded.index.name = 'event_id'\n",
    "genes_with_constitutive_exons_expanded.head()"
   ]
  },
  {
   "cell_type": "code",
   "execution_count": 194,
   "metadata": {
    "collapsed": true
   },
   "outputs": [],
   "source": [
    "genes_with_constitutive_exons_expanded.to_csv('{}/genes_expanded.csv'.format(constitutive_feature_folder))"
   ]
  },
  {
   "cell_type": "code",
   "execution_count": 195,
   "metadata": {
    "collapsed": false
   },
   "outputs": [
    {
     "name": "stdout",
     "output_type": "stream",
     "text": [
      "(19398, 4)\n"
     ]
    },
    {
     "data": {
      "text/html": [
       "<div>\n",
       "<table border=\"1\" class=\"dataframe\">\n",
       "  <thead>\n",
       "    <tr style=\"text-align: right;\">\n",
       "      <th></th>\n",
       "      <th>event_id</th>\n",
       "      <th>ensembl_id</th>\n",
       "      <th>modality</th>\n",
       "      <th>phenotype</th>\n",
       "    </tr>\n",
       "  </thead>\n",
       "  <tbody>\n",
       "    <tr>\n",
       "      <th>0</th>\n",
       "      <td>exon:chr10:102039881-102039985:-</td>\n",
       "      <td>ENSG00000196072</td>\n",
       "      <td>constitutive</td>\n",
       "      <td>iPSC</td>\n",
       "    </tr>\n",
       "    <tr>\n",
       "      <th>1</th>\n",
       "      <td>exon:chr10:102040691-102040810:-</td>\n",
       "      <td>ENSG00000196072</td>\n",
       "      <td>constitutive</td>\n",
       "      <td>iPSC</td>\n",
       "    </tr>\n",
       "    <tr>\n",
       "      <th>2</th>\n",
       "      <td>exon:chr10:102045854-102045970:-</td>\n",
       "      <td>ENSG00000196072</td>\n",
       "      <td>constitutive</td>\n",
       "      <td>iPSC</td>\n",
       "    </tr>\n",
       "    <tr>\n",
       "      <th>3</th>\n",
       "      <td>exon:chr10:102045854-102046089:-</td>\n",
       "      <td>ENSG00000196072</td>\n",
       "      <td>constitutive</td>\n",
       "      <td>iPSC</td>\n",
       "    </tr>\n",
       "    <tr>\n",
       "      <th>4</th>\n",
       "      <td>exon:chr10:102286732-102286831:-</td>\n",
       "      <td>ENSG00000075826</td>\n",
       "      <td>constitutive</td>\n",
       "      <td>iPSC</td>\n",
       "    </tr>\n",
       "  </tbody>\n",
       "</table>\n",
       "</div>"
      ],
      "text/plain": [
       "                           event_id       ensembl_id      modality phenotype\n",
       "0  exon:chr10:102039881-102039985:-  ENSG00000196072  constitutive      iPSC\n",
       "1  exon:chr10:102040691-102040810:-  ENSG00000196072  constitutive      iPSC\n",
       "2  exon:chr10:102045854-102045970:-  ENSG00000196072  constitutive      iPSC\n",
       "3  exon:chr10:102045854-102046089:-  ENSG00000196072  constitutive      iPSC\n",
       "4  exon:chr10:102286732-102286831:-  ENSG00000075826  constitutive      iPSC"
      ]
     },
     "execution_count": 195,
     "metadata": {},
     "output_type": "execute_result"
    }
   ],
   "source": [
    "constitutive_genes_modalities = make_phenotype_modality_format(genes_with_constitutive_exons_expanded)\n",
    "constitutive_genes_modalities.head()"
   ]
  },
  {
   "cell_type": "code",
   "execution_count": 196,
   "metadata": {
    "collapsed": false
   },
   "outputs": [
    {
     "data": {
      "text/plain": [
       "exon:chr10:100190328-100190427:-@exon:chr10:100189548-100189646:-@exon:chr10:100189330-100189399:-                         ENSG00000107521\n",
       "exon:chr10:100193697-100193848:-@exon:chr10:100190888-100191048:-@exon:chr10:100190328-100190427:-                         ENSG00000107521\n",
       "exon:chr10:100195392-100195529:-@exon:chr10:100195029-100195171:-@exon:chr10:100193697-100193848:-                         ENSG00000107521\n",
       "exon:chr10:101165513-101165617:-@exon:chr10:101163481-101163631:-@exon:chr10:101163226-101163391:-                         ENSG00000120053\n",
       "exon:chr10:101419263-101419345:+@exon:chr10:101419619-101419721:+@exon:chr10:101421203-101421385:+                         ENSG00000198018\n",
       "exon:chr10:101421203-101421385:+@exon:chr10:101439018-101439223:+@exon:chr10:101439482-101439632:+                         ENSG00000198018\n",
       "exon:chr10:101480744-101480825:-@exon:chr10:101478103-101478257:-@exon:chr10:101476105-101476218:-                         ENSG00000014919\n",
       "exon:chr10:101507014-101507147:+@exon:chr10:101510126-101510153:+@exon:chr10:101514286-101514391:+                         ENSG00000119929\n",
       "exon:chr10:101507014-101507147:+@exon:chr10:101514286-101514391:+@exon:chr10:101515382-101515465:+                         ENSG00000119929\n",
       "exon:chr10:101964263-101964414:-@exon:chr10:101961845-101961906:-@exon:chr10:101960428-101960537:-                         ENSG00000213341\n",
       "exon:chr10:101969352-101969546:-@exon:chr10:101966987-101967089:-@exon:chr10:101964833-101964956:-                         ENSG00000213341\n",
       "exon:chr10:101977752-101977887:-@exon:chr10:101969352-101969546:-@exon:chr10:101964833-101964956:-                         ENSG00000213341\n",
       "exon:chr10:101979027-101979116:-@exon:chr10:101978765-101978889:-@exon:chr10:101978475-101978582:-                         ENSG00000213341\n",
       "exon:chr10:101997779-101997988:-@exon:chr10:101996607-101996726:-@exon:chr10:101995424-101995521:-                         ENSG00000095485\n",
       "exon:chr10:102003455-102003534:-@exon:chr10:101997779-101997988:-@exon:chr10:101996607-101996726:-                         ENSG00000095485\n",
       "exon:chr10:102013178-102013296:-@exon:chr10:102010005-102010089:-@exon:chr10:102006552-102006692:-                         ENSG00000095485\n",
       "exon:chr10:102019975-102020076:-@exon:chr10:102016019-102016233:-@exon:chr10:102013178-102013296:-                         ENSG00000095485\n",
       "exon:chr10:102020723-102020801:-@exon:chr10:102016019-102016233:-@exon:chr10:102013178-102013296:-                         ENSG00000095485\n",
       "exon:chr10:102020723-102020801:-@exon:chr10:102019975-102020076:-@exon:chr10:102013178-102013296:-                         ENSG00000095485\n",
       "exon:chr10:102027328-102027437:-@exon:chr10:102016019-102016233:-@exon:chr10:102013178-102013296:-                         ENSG00000095485\n",
       "exon:chr10:102020723-102020801:-@exon:chr10:102019975-102020076:-@exon:chr10:102016019-102016233:-                         ENSG00000095485\n",
       "exon:chr10:102021736-102021820:-@exon:chr10:102019975-102020076:-@exon:chr10:102016019-102016233:-                         ENSG00000095485\n",
       "exon:chr10:102021736-102021820:-@exon:chr10:102020723-102020785:-@exon:chr10:102016019-102016233:-                         ENSG00000095485\n",
       "exon:chr10:102021736-102021820:-@exon:chr10:102020723-102020801:-@exon:chr10:102016019-102016233:-                         ENSG00000095485\n",
       "exon:chr10:102027328-102027437:-@exon:chr10:102021736-102021820:-@exon:chr10:102016019-102016233:-                         ENSG00000095485\n",
       "exon:chr10:102021736-102021820:-@exon:chr10:102020723-102020785:-@exon:chr10:102019975-102020076:-                         ENSG00000095485\n",
       "exon:chr10:102021736-102021820:-@exon:chr10:102020723-102020801:-@exon:chr10:102019975-102020076:-                         ENSG00000095485\n",
       "exon:chr10:102046362-102046430:-@exon:chr10:102045854-102045970:-@exon:chr10:102040691-102040810:-                         ENSG00000196072\n",
       "exon:chr10:102046362-102046469:-@exon:chr10:102045854-102046089:-@exon:chr10:102040691-102040810:-                         ENSG00000196072\n",
       "exon:chr10:102114184-102114389:+@exon:chr10:102116289-102116521:+@exon:chr10:102120491-102124591:+                         ENSG00000099194\n",
       "                                                                                                                                ...       \n",
       "exon:chrX:73164419-73164497:+@exon:chrX:73214675-73214796:+@exon:chrX:73218603-73218679:+@exon:chrX:73224105-73224186:+    ENSG00000225470\n",
       "exon:chrX:73166834-73167209:+@exon:chrX:73214675-73214796:+@exon:chrX:73218603-73218679:+@exon:chrX:73224105-73224186:+    ENSG00000225470\n",
       "exon:chrX:74742724-74743337:-@exon:chrX:74725656-74725682:-@exon:chrX:74698726-74698820:-@exon:chrX:74651286-74651355:-    ENSG00000102383\n",
       "exon:chrX:78003228-78003531:+@exon:chrX:78005671-78005720:+@exon:chrX:78006227-78006289:+@exon:chrX:78006707-78006791:+    ENSG00000147145\n",
       "exon:chrX:79971656-79971749:-@exon:chrX:79964927-79965076:-@exon:chrX:79962926-79963002:-@exon:chrX:79960177-79960345:-    ENSG00000165288\n",
       "exon:chrX:80375287-80375316:-@exon:chrX:80374229-80374258:-@exon:chrX:80373931-80373984:-@exon:chrX:80371703-80371840:-    ENSG00000198157\n",
       "exon:chrX:80375287-80375316:-@exon:chrX:80374229-80374279:-@exon:chrX:80373931-80373984:-@exon:chrX:80371703-80371840:-    ENSG00000198157\n",
       "exon:chrX:80377034-80377187:-@exon:chrX:80374229-80374258:-@exon:chrX:80373931-80373984:-@exon:chrX:80371703-80371840:-    ENSG00000198157\n",
       "exon:chrX:80377034-80377137:-@exon:chrX:80375287-80375316:-@exon:chrX:80374229-80374258:-@exon:chrX:80373931-80373984:-    ENSG00000198157\n",
       "exon:chrX:83757350-83757399:-@exon:chrX:83723480-83724583:-@exon:chrX:83695540-83695593:-@exon:chrX:83616474-83616620:-    ENSG00000165259\n",
       "exon:chrX:83757350-83757399:-@exon:chrX:83756437-83756519:-@exon:chrX:83743032-83743140:-@exon:chrX:83730259-83730405:-    ENSG00000259640\n",
       "exon:chrX:85302488-85302543:-@exon:chrX:85282495-85282561:-@exon:chrX:85236741-85236813:-@exon:chrX:85233771-85233895:-    ENSG00000188419\n",
       "exon:chrY:14774265-14774637:+@exon:chrY:14776571-14776617:+@exon:chrY:14798442-14798535:+@exon:chrY:14832522-14832670:+    ENSG00000233864\n",
       "exon:chrY:14776571-14776617:+@exon:chrY:14798442-14798535:+@exon:chrY:14821321-14821476:+@exon:chrY:14832522-14832670:+    ENSG00000233864\n",
       "exon:chrY:14891460-14891580:+@exon:chrY:14898455-14898733:+@exon:chrY:14902340-14902465:+@exon:chrY:14903432-14903557:+    ENSG00000114374\n",
       "exon:chrY:15024552-15024974:+@exon:chrY:15025630-15025765:+@exon:chrY:15026476-15026561:+@exon:chrY:15026979-15027139:+    ENSG00000067048\n",
       "exon:chrY:15028173-15028354:+@exon:chrY:15028429-15028546:+@exon:chrY:15028819-15028972:+@exon:chrY:15029315-15029454:+    ENSG00000067048\n",
       "exon:chrY:15471647-15471866:-@exon:chrY:15470968-15471102:-@exon:chrY:15470344-15470433:-@exon:chrY:15469757-15469849:-    ENSG00000183878\n",
       "exon:chrY:15508798-15508852:-@exon:chrY:15505739-15505773:-@exon:chrY:15481136-15481229:-@exon:chrY:15478147-15478273:-    ENSG00000183878\n",
       "exon:chrY:16634632-16634821:+@exon:chrY:16733889-16734471:+@exon:chrY:16831339-16831398:+@exon:chrY:16834997-16835149:+    ENSG00000165246\n",
       "exon:chrY:21237827-21237882:-@exon:chrY:21230610-21230684:-@exon:chrY:21207128-21207177:-@exon:chrY:21206428-21206581:-    ENSG00000176728\n",
       "exon:chrY:21749096-21749393:+@exon:chrY:21750256-21751498:+@exon:chrY:21753666-21753845:+@exon:chrY:21755285-21755479:+    ENSG00000131002\n",
       "exon:chrY:21749368-21749393:+@exon:chrY:21751407-21751498:+@exon:chrY:21753666-21753845:+@exon:chrY:21755285-21755479:+    ENSG00000131002\n",
       "exon:chrY:21903621-21903743:-@exon:chrY:21903204-21903374:-@exon:chrY:21901414-21901548:-@exon:chrY:21897507-21897636:-    ENSG00000012817\n",
       "exon:chrY:21905048-21905125:-@exon:chrY:21903621-21903743:-@exon:chrY:21903204-21903374:-@exon:chrY:21901414-21901548:-    ENSG00000012817\n",
       "exon:chrY:2293238-2293345:-@exon:chrY:2276786-2276854:-@exon:chrY:2260395-2260515:-@exon:chrY:2159543-2159644:-            ENSGR0000169084\n",
       "exon:chrY:2709527-2709668:+@exon:chrY:2710206-2710283:+@exon:chrY:2712118-2712298:+@exon:chrY:2713687-2713784:+            ENSG00000129824\n",
       "exon:chrY:2710206-2710283:+@exon:chrY:2712118-2712298:+@exon:chrY:2713687-2713784:+@exon:chrY:2722641-2722812:+            ENSG00000129824\n",
       "exon:chrY:2712118-2712298:+@exon:chrY:2713687-2713784:+@exon:chrY:2722641-2722812:+@exon:chrY:2733129-2733286:+            ENSG00000129824\n",
       "exon:chrY:2713687-2713784:+@exon:chrY:2722641-2722812:+@exon:chrY:2733129-2733286:+@exon:chrY:2734834-2735309:+            ENSG00000129824\n",
       "dtype: object"
      ]
     },
     "execution_count": 196,
     "metadata": {},
     "output_type": "execute_result"
    }
   ],
   "source": [
    "event_id_to_genes = pd.concat([pd.Series(x.split(','), index=[i]*len(x.split(',')))\n",
    "    for i, x in study.splicing.feature_data['one_ensembl_id'].iteritems() if isinstance(x, str)])\n",
    "event_id_to_genes"
   ]
  },
  {
   "cell_type": "code",
   "execution_count": 197,
   "metadata": {
    "collapsed": false
   },
   "outputs": [],
   "source": [
    "event_id_to_genes.head()\n",
    "event_id_to_genes.name = 'ensembl_id'"
   ]
  },
  {
   "cell_type": "markdown",
   "metadata": {},
   "source": [
    "### Add constitutive exons and their genes"
   ]
  },
  {
   "cell_type": "code",
   "execution_count": 198,
   "metadata": {
    "collapsed": true
   },
   "outputs": [],
   "source": [
    "event_id_to_genes.to_csv('{}/genes_expanded.csv'.format(alternative_feature_folder))"
   ]
  },
  {
   "cell_type": "code",
   "execution_count": 199,
   "metadata": {
    "collapsed": false
   },
   "outputs": [
    {
     "data": {
      "text/html": [
       "<div>\n",
       "<table border=\"1\" class=\"dataframe\">\n",
       "  <thead>\n",
       "    <tr style=\"text-align: right;\">\n",
       "      <th></th>\n",
       "      <th>ensembl_id</th>\n",
       "      <th>event_id</th>\n",
       "      <th>modality</th>\n",
       "      <th>phenotype</th>\n",
       "    </tr>\n",
       "  </thead>\n",
       "  <tbody>\n",
       "    <tr>\n",
       "      <th>0</th>\n",
       "      <td>ENSG00000099194</td>\n",
       "      <td>exon:chr10:102114184-102114389:+@exon:chr10:102116289-102116521:+@exon:chr10:102120491-102124591:+</td>\n",
       "      <td>included</td>\n",
       "      <td>MN</td>\n",
       "    </tr>\n",
       "    <tr>\n",
       "      <th>1</th>\n",
       "      <td>ENSG00000255339</td>\n",
       "      <td>exon:chr10:102286732-102286831:-@exon:chr10:102286156-102286311:-@exon:chr10:102283500-102283686:-</td>\n",
       "      <td>included</td>\n",
       "      <td>MN</td>\n",
       "    </tr>\n",
       "    <tr>\n",
       "      <th>2</th>\n",
       "      <td>ENSG00000166171</td>\n",
       "      <td>exon:chr10:103360960-103361093:+@exon:chr10:103364897-103364969:+@exon:chr10:103368592-103368694:+</td>\n",
       "      <td>bimodal</td>\n",
       "      <td>MN</td>\n",
       "    </tr>\n",
       "    <tr>\n",
       "      <th>3</th>\n",
       "      <td>ENSG00000198408</td>\n",
       "      <td>exon:chr10:103563492-103563776:-@exon:chr10:103559999-103560157:-@exon:chr10:103558599-103559212:-</td>\n",
       "      <td>bimodal</td>\n",
       "      <td>MN</td>\n",
       "    </tr>\n",
       "    <tr>\n",
       "      <th>4</th>\n",
       "      <td>ENSG00000198408</td>\n",
       "      <td>exon:chr10:103567487-103567658:-@exon:chr10:103565802-103565900:-@exon:chr10:103563504-103563776:-</td>\n",
       "      <td>included</td>\n",
       "      <td>MN</td>\n",
       "    </tr>\n",
       "  </tbody>\n",
       "</table>\n",
       "</div>"
      ],
      "text/plain": [
       "        ensembl_id  \\\n",
       "0  ENSG00000099194   \n",
       "1  ENSG00000255339   \n",
       "2  ENSG00000166171   \n",
       "3  ENSG00000198408   \n",
       "4  ENSG00000198408   \n",
       "\n",
       "                                                                                             event_id  \\\n",
       "0  exon:chr10:102114184-102114389:+@exon:chr10:102116289-102116521:+@exon:chr10:102120491-102124591:+   \n",
       "1  exon:chr10:102286732-102286831:-@exon:chr10:102286156-102286311:-@exon:chr10:102283500-102283686:-   \n",
       "2  exon:chr10:103360960-103361093:+@exon:chr10:103364897-103364969:+@exon:chr10:103368592-103368694:+   \n",
       "3  exon:chr10:103563492-103563776:-@exon:chr10:103559999-103560157:-@exon:chr10:103558599-103559212:-   \n",
       "4  exon:chr10:103567487-103567658:-@exon:chr10:103565802-103565900:-@exon:chr10:103563504-103563776:-   \n",
       "\n",
       "   modality phenotype  \n",
       "0  included        MN  \n",
       "1  included        MN  \n",
       "2   bimodal        MN  \n",
       "3   bimodal        MN  \n",
       "4  included        MN  "
      ]
     },
     "execution_count": 199,
     "metadata": {},
     "output_type": "execute_result"
    }
   ],
   "source": [
    "modalities_genes = study.supplemental.modalities_tidy.join(event_id_to_genes, on='event_id')\n",
    "modalities_genes = pd.concat([modalities_genes, constitutive_genes_modalities])\n",
    "modalities_genes.head()"
   ]
  },
  {
   "cell_type": "markdown",
   "metadata": {},
   "source": [
    "Add phylostratum"
   ]
  },
  {
   "cell_type": "code",
   "execution_count": 200,
   "metadata": {
    "collapsed": false
   },
   "outputs": [
    {
     "data": {
      "text/html": [
       "<div>\n",
       "<table border=\"1\" class=\"dataframe\">\n",
       "  <thead>\n",
       "    <tr style=\"text-align: right;\">\n",
       "      <th></th>\n",
       "      <th>ensembl_id</th>\n",
       "      <th>event_id</th>\n",
       "      <th>modality</th>\n",
       "      <th>phenotype</th>\n",
       "      <th>domazetloso2008_phylostratum</th>\n",
       "    </tr>\n",
       "  </thead>\n",
       "  <tbody>\n",
       "    <tr>\n",
       "      <th>0</th>\n",
       "      <td>ENSG00000099194</td>\n",
       "      <td>exon:chr10:102114184-102114389:+@exon:chr10:102116289-102116521:+@exon:chr10:102120491-102124591:+</td>\n",
       "      <td>included</td>\n",
       "      <td>MN</td>\n",
       "      <td>1</td>\n",
       "    </tr>\n",
       "    <tr>\n",
       "      <th>1</th>\n",
       "      <td>ENSG00000255339</td>\n",
       "      <td>exon:chr10:102286732-102286831:-@exon:chr10:102286156-102286311:-@exon:chr10:102283500-102283686:-</td>\n",
       "      <td>included</td>\n",
       "      <td>MN</td>\n",
       "      <td>NaN</td>\n",
       "    </tr>\n",
       "    <tr>\n",
       "      <th>2</th>\n",
       "      <td>ENSG00000166171</td>\n",
       "      <td>exon:chr10:103360960-103361093:+@exon:chr10:103364897-103364969:+@exon:chr10:103368592-103368694:+</td>\n",
       "      <td>bimodal</td>\n",
       "      <td>MN</td>\n",
       "      <td>2</td>\n",
       "    </tr>\n",
       "    <tr>\n",
       "      <th>3</th>\n",
       "      <td>ENSG00000198408</td>\n",
       "      <td>exon:chr10:103563492-103563776:-@exon:chr10:103559999-103560157:-@exon:chr10:103558599-103559212:-</td>\n",
       "      <td>bimodal</td>\n",
       "      <td>MN</td>\n",
       "      <td>1</td>\n",
       "    </tr>\n",
       "    <tr>\n",
       "      <th>4</th>\n",
       "      <td>ENSG00000198408</td>\n",
       "      <td>exon:chr10:103567487-103567658:-@exon:chr10:103565802-103565900:-@exon:chr10:103563504-103563776:-</td>\n",
       "      <td>included</td>\n",
       "      <td>MN</td>\n",
       "      <td>1</td>\n",
       "    </tr>\n",
       "  </tbody>\n",
       "</table>\n",
       "</div>"
      ],
      "text/plain": [
       "        ensembl_id  \\\n",
       "0  ENSG00000099194   \n",
       "1  ENSG00000255339   \n",
       "2  ENSG00000166171   \n",
       "3  ENSG00000198408   \n",
       "4  ENSG00000198408   \n",
       "\n",
       "                                                                                             event_id  \\\n",
       "0  exon:chr10:102114184-102114389:+@exon:chr10:102116289-102116521:+@exon:chr10:102120491-102124591:+   \n",
       "1  exon:chr10:102286732-102286831:-@exon:chr10:102286156-102286311:-@exon:chr10:102283500-102283686:-   \n",
       "2  exon:chr10:103360960-103361093:+@exon:chr10:103364897-103364969:+@exon:chr10:103368592-103368694:+   \n",
       "3  exon:chr10:103563492-103563776:-@exon:chr10:103559999-103560157:-@exon:chr10:103558599-103559212:-   \n",
       "4  exon:chr10:103567487-103567658:-@exon:chr10:103565802-103565900:-@exon:chr10:103563504-103563776:-   \n",
       "\n",
       "   modality phenotype  domazetloso2008_phylostratum  \n",
       "0  included        MN                             1  \n",
       "1  included        MN                           NaN  \n",
       "2   bimodal        MN                             2  \n",
       "3   bimodal        MN                             1  \n",
       "4  included        MN                             1  "
      ]
     },
     "execution_count": 200,
     "metadata": {},
     "output_type": "execute_result"
    }
   ],
   "source": [
    "col = 'domazetloso2008_phylostratum'\n",
    "modalities_genes = modalities_genes.join(study.expression.feature_data[col], on='ensembl_id')\n",
    "modalities_genes.head()"
   ]
  },
  {
   "cell_type": "code",
   "execution_count": 201,
   "metadata": {
    "collapsed": false
   },
   "outputs": [
    {
     "data": {
      "image/png": "[encoded data removed]",
      "text/plain": [
       "<matplotlib.figure.Figure at 0x2b5aee71b450>"
      ]
     },
     "metadata": {},
     "output_type": "display_data"
    }
   ],
   "source": [
    "g = sns.FacetGrid(modalities_genes, **facet_kws)\n",
    "g.map(cdfplot, col)\n",
    "g.set(ylim=(0.8, 1), yticks=(0.8, 0.9, 1), ylabel='Cumulative Distribution', xlabel='Gene Phylostratum')\n",
    "g.savefig('{}/{}_cdf.pdf'.format(figure_folder, col))"
   ]
  },
  {
   "cell_type": "markdown",
   "metadata": {},
   "source": [
    "### Statistical testing - Pairwise Mann whitney U"
   ]
  },
  {
   "cell_type": "code",
   "execution_count": 206,
   "metadata": {
    "collapsed": false
   },
   "outputs": [
    {
     "name": "stdout",
     "output_type": "stream",
     "text": [
      "MN\n",
      "NPC\n",
      "iPSC\n",
      "modality1     excluded    bimodal  included  constitutive\n",
      "excluded           NaN  -0.098983  0.866596      7.372812\n",
      "bimodal      -0.098983        NaN  5.182026     14.527781\n",
      "included      0.866596   5.182026       NaN      3.509378\n",
      "constitutive  7.372812  14.527781  3.509378           NaN\n"
     ]
    },
    {
     "data": {
      "image/png": "[encoded data removed]",
      "text/plain": [
       "<matplotlib.figure.Figure at 0x2b5b2ad4aa50>"
      ]
     },
     "metadata": {},
     "output_type": "display_data"
    }
   ],
   "source": [
    "from scipy.stats.mstats import kruskalwallis\n",
    "lines = []\n",
    "\n",
    "for phenotype, phenotype_df in modalities_genes.groupby(['phenotype']):\n",
    "    six.print_(phenotype)\n",
    "    grouped = phenotype_df.groupby('modality')\n",
    "#     constitutive = grouped.get_group('constitutive')\n",
    "    \n",
    "    for (modality1, df1), (modality2, df2) in itertools.combinations(grouped, 2):\n",
    "#         if modality == 'constitutive':\n",
    "#             continue\n",
    "#         six.print_('\\t', modality1, modality2)\n",
    "\n",
    "        result = mannwhitneyu(df1[col], df2[col])\n",
    "#         six.print_('\\t\\t', result)\n",
    "#         results.loc[modality1, modality2] = result.pvalue\n",
    "        lines.append([phenotype, modality1, modality2, result.pvalue, result.statistic])\n",
    "enrichment = pd.DataFrame(lines, columns=['phenotype', 'modality1', 'modality2', 'p_value', 'statistic'])\n",
    "\n",
    "# multiple testing correction\n",
    "enrichment['bonferonni_p_value'] = enrichment['p_value'] * enrichment.shape[0]\n",
    "enrichment.head()\n",
    "\n",
    "# Transform tidy dataframe into 2d matrix\n",
    "enrichment_2d = enrichment.groupby('phenotype').apply(\n",
    "    lambda x: x.pivot(index='modality1', columns='modality2', values='bonferonni_p_value'))\n",
    "enrichment_2d = enrichment_2d.loc[:, modality_order]\n",
    "enrichment_2d_log10 = -np.log10(enrichment_2d)\n",
    "\n",
    "# Plot p-value heatmap\n",
    "fig, ax = plt.subplots(figsize=(.75, .5))\n",
    "ipsc = enrichment_2d_log10.loc['iPSC']\n",
    "ipsc = ipsc.loc[modality_order]\n",
    "ipsc = ipsc.T.fillna(0) + ipsc.fillna(0)\n",
    "ipsc = ipsc.replace(0, np.nan)\n",
    "six.print_(ipsc)\n",
    "\n",
    "sns.heatmap(ipsc, vmin=0, vmax=15, linewidth=0.5, linecolor='grey')\n",
    "ax.set(xticks=[], yticks=[], xlabel='', ylabel='');\n",
    "sns.despine(left=False, bottom=False, right=False, top=False)\n",
    "fig.savefig('{}/{}_p_value_heatmap.pdf'.format(figure_folder, col))"
   ]
  },
  {
   "cell_type": "markdown",
   "metadata": {
    "collapsed": true
   },
   "source": []
  },
  {
   "cell_type": "code",
   "execution_count": null,
   "metadata": {
    "collapsed": true
   },
   "outputs": [],
   "source": []
  },
  {
   "cell_type": "code",
   "execution_count": null,
   "metadata": {
    "collapsed": true
   },
   "outputs": [],
   "source": []
  }
 ],
 "metadata": {
  "kernelspec": {
   "display_name": "Python 2",
   "language": "python",
   "name": "python2"
  },
  "language_info": {
   "codemirror_mode": {
    "name": "ipython",
    "version": 2
   },
   "file_extension": ".py",
   "mimetype": "text/x-python",
   "name": "python",
   "nbconvert_exporter": "python",
   "pygments_lexer": "ipython2",
   "version": "2.7.11"
  }
 },
 "nbformat": 4,
 "nbformat_minor": 0
}
