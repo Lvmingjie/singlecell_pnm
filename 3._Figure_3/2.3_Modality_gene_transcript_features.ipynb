{
 "cells": [
  {
   "cell_type": "code",
   "execution_count": 53,
   "metadata": {
    "collapsed": false
   },
   "outputs": [
    {
     "name": "stdout",
     "output_type": "stream",
     "text": [
      "The autoreload extension is already loaded. To reload it, use:\n",
      "  %reload_ext autoreload\n",
      "2016-04-15 09:14:37\tReading datapackage from /projects/ps-yeolab/obotvinnik/flotilla_projects/singlecell_pnm_figure2_modalities_bayesian/datapackage.json\n",
      "2016-04-15 09:14:37\tParsing datapackage to create a Study object\n",
      "2016-04-15 09:15:23\tInitializing Study\n",
      "2016-04-15 09:15:23\tInitializing Predictor configuration manager for Study\n",
      "2016-04-15 09:15:23\tPredictor ExtraTreesClassifier is of type <class 'sklearn.ensemble.forest.ExtraTreesClassifier'>\n",
      "2016-04-15 09:15:23\tAdded ExtraTreesClassifier to default predictors\n",
      "2016-04-15 09:15:23\tPredictor ExtraTreesRegressor is of type <class 'sklearn.ensemble.forest.ExtraTreesRegressor'>\n",
      "2016-04-15 09:15:23\tAdded ExtraTreesRegressor to default predictors\n",
      "2016-04-15 09:15:23\tPredictor GradientBoostingClassifier is of type <class 'sklearn.ensemble.gradient_boosting.GradientBoostingClassifier'>\n",
      "2016-04-15 09:15:23\tAdded GradientBoostingClassifier to default predictors\n",
      "2016-04-15 09:15:23\tPredictor GradientBoostingRegressor is of type <class 'sklearn.ensemble.gradient_boosting.GradientBoostingRegressor'>\n",
      "2016-04-15 09:15:23\tAdded GradientBoostingRegressor to default predictors\n",
      "2016-04-15 09:15:27\tBuilding Gene Ontology database...\n",
      "2016-04-15 09:15:37\t\tDone.\n",
      "2016-04-15 09:15:37\tLoading metadata\n",
      "2016-04-15 09:15:37\tLoading expression data\n",
      "2016-04-15 09:15:37\tInitializing expression\n",
      "2016-04-15 09:15:38\tDone initializing expression\n",
      "2016-04-15 09:15:40\tLoading splicing data\n",
      "2016-04-15 09:15:40\tInitializing splicing\n",
      "2016-04-15 09:15:40\tDone initializing splicing\n",
      "2016-04-15 09:15:40\tSuccessfully initialized a Study object!\n"
     ]
    }
   ],
   "source": [
    "import seaborn as sns\n",
    "sns.set(style='ticks', context='paper', rc={'font.sans-serif':'Arial', 'pdf.fonttype': 42})\n",
    "\n",
    "\n",
    "import six\n",
    "\n",
    "%load_ext autoreload\n",
    "%autoreload 2\n",
    "\n",
    "import matplotlib.pyplot as plt\n",
    "import numpy as np\n",
    "import pandas as pd\n",
    "\n",
    "\n",
    "%matplotlib inline\n",
    "\n",
    "import anchor\n",
    "modality_to_color = anchor.MODALITY_TO_COLOR.copy()\n",
    "modality_to_color['constitutive'] = '#262626'\n",
    "modality_order = ['excluded', 'bimodal', 'included', 'constitutive']\n",
    "modality_palette = [modality_to_color[m] for m in modality_order]\n",
    "modality_palette\n",
    "\n",
    "\n",
    "\n",
    "import flotilla\n",
    "flotilla_dir = '/projects/ps-yeolab/obotvinnik/flotilla_projects'\n",
    "\n",
    "study = flotilla.embark('singlecell_pnm_figure2_modalities_bayesian', flotilla_dir=flotilla_dir)\n",
    "\n",
    "not_outliers = study.splicing.singles.index.difference(study.splicing.outliers.index)\n",
    "\n",
    "import pybedtools\n",
    "\n",
    "folder = '/projects/ps-yeolab/obotvinnik/singlecell_pnms'\n",
    "csv_folder = '{}/csvs_for_paper/'.format(folder)\n",
    "bed_folder = '{}/bed'.format(folder)\n",
    "\n",
    "\n",
    "\n",
    "splicing_feature_folder = '{}/splicing_feature_data'.format(csv_folder)\n",
    "alternative_feature_folder = '{}/alternative'.format(splicing_feature_folder)\n",
    "constitutive_feature_folder = '{}/constitutive'.format(splicing_feature_folder)"
   ]
  },
  {
   "cell_type": "code",
   "execution_count": 54,
   "metadata": {
    "collapsed": true
   },
   "outputs": [],
   "source": [
    "def make_phenotype_modality_format(constitutive_df):\n",
    "    constitutive_df = constitutive_df.copy().reset_index()\n",
    "    constitutive_df['modality'] = 'constitutive'\n",
    "    dfs = []\n",
    "    for phenotype in study.phenotype_order:\n",
    "        df = constitutive_df.copy()#.reset_index()\n",
    "        df['phenotype'] = phenotype\n",
    "        dfs.append(df)\n",
    "    df = pd.concat(dfs)\n",
    "    six.print_(df.shape)\n",
    "#     df.head()\n",
    "    return df"
   ]
  },
  {
   "cell_type": "code",
   "execution_count": 55,
   "metadata": {
    "collapsed": true
   },
   "outputs": [],
   "source": [
    "sns.set(style='ticks', context='paper', rc={'font.sans-serif':'Arial', 'pdf.fonttype': 42})\n"
   ]
  },
  {
   "cell_type": "code",
   "execution_count": 56,
   "metadata": {
    "collapsed": false
   },
   "outputs": [
    {
     "name": "stdout",
     "output_type": "stream",
     "text": [
      "mkdir: cannot create directory `pdfs': File exists\r\n"
     ]
    }
   ],
   "source": [
    "figure_folder = 'pdfs' #'/home/obotvinnik/Dropbox/figures2/singlecell_pnm/figure2_modalities/bayesian/gene_transcript_features'\n",
    "! mkdir $figure_folder"
   ]
  },
  {
   "cell_type": "code",
   "execution_count": 57,
   "metadata": {
    "collapsed": true
   },
   "outputs": [],
   "source": [
    "facet_kws = dict(col='phenotype', hue='modality', hue_order=modality_order, palette=modality_palette,\n",
    "                 col_order=study.phenotype_order, size=2)\n"
   ]
  },
  {
   "cell_type": "code",
   "execution_count": 58,
   "metadata": {
    "collapsed": true
   },
   "outputs": [],
   "source": [
    "plot_kws = dict(x='phenotype', hue='modality', hue_order=modality_order, palette=modality_palette,\n",
    "                 order=study.phenotype_order)"
   ]
  },
  {
   "cell_type": "markdown",
   "metadata": {},
   "source": [
    "## Exon length\n"
   ]
  },
  {
   "cell_type": "code",
   "execution_count": 59,
   "metadata": {
    "collapsed": true
   },
   "outputs": [],
   "source": [
    "prefix = 'exon_length'\n",
    "csv = '{}.csv'.format(prefix)"
   ]
  },
  {
   "cell_type": "code",
   "execution_count": 60,
   "metadata": {
    "collapsed": false
   },
   "outputs": [
    {
     "data": {
      "text/plain": [
       "event_id\n",
       "exon:chr1:1341189-1341266:-      78\n",
       "exon:chr1:1341189-1342399:-    1211\n",
       "exon:chr1:1653035-1653150:-     116\n",
       "exon:chr1:1650767-1650894:-     128\n",
       "exon:chr1:1650797-1650894:-      98\n",
       "Name: exon2_length, dtype: int64"
      ]
     },
     "execution_count": 60,
     "metadata": {},
     "output_type": "execute_result"
    }
   ],
   "source": [
    "constitutive_exon_lengths = pd.read_csv('{}/{}'.format(constitutive_feature_folder, csv), \n",
    "                                          index_col=0, header=None, squeeze=True)\n",
    "constitutive_exon_lengths.name = 'exon2_length'\n",
    "constitutive_exon_lengths.index.name = 'event_id'\n",
    "constitutive_exon_lengths.head()"
   ]
  },
  {
   "cell_type": "code",
   "execution_count": 61,
   "metadata": {
    "collapsed": false
   },
   "outputs": [
    {
     "name": "stdout",
     "output_type": "stream",
     "text": [
      "(18204, 4)\n"
     ]
    },
    {
     "data": {
      "text/html": [
       "<div>\n",
       "<table border=\"1\" class=\"dataframe\">\n",
       "  <thead>\n",
       "    <tr style=\"text-align: right;\">\n",
       "      <th></th>\n",
       "      <th>event_id</th>\n",
       "      <th>exon2_length</th>\n",
       "      <th>modality</th>\n",
       "      <th>phenotype</th>\n",
       "    </tr>\n",
       "  </thead>\n",
       "  <tbody>\n",
       "    <tr>\n",
       "      <th>0</th>\n",
       "      <td>exon:chr1:1341189-1341266:-</td>\n",
       "      <td>78</td>\n",
       "      <td>constitutive</td>\n",
       "      <td>iPSC</td>\n",
       "    </tr>\n",
       "    <tr>\n",
       "      <th>1</th>\n",
       "      <td>exon:chr1:1341189-1342399:-</td>\n",
       "      <td>1211</td>\n",
       "      <td>constitutive</td>\n",
       "      <td>iPSC</td>\n",
       "    </tr>\n",
       "    <tr>\n",
       "      <th>2</th>\n",
       "      <td>exon:chr1:1653035-1653150:-</td>\n",
       "      <td>116</td>\n",
       "      <td>constitutive</td>\n",
       "      <td>iPSC</td>\n",
       "    </tr>\n",
       "    <tr>\n",
       "      <th>3</th>\n",
       "      <td>exon:chr1:1650767-1650894:-</td>\n",
       "      <td>128</td>\n",
       "      <td>constitutive</td>\n",
       "      <td>iPSC</td>\n",
       "    </tr>\n",
       "    <tr>\n",
       "      <th>4</th>\n",
       "      <td>exon:chr1:1650797-1650894:-</td>\n",
       "      <td>98</td>\n",
       "      <td>constitutive</td>\n",
       "      <td>iPSC</td>\n",
       "    </tr>\n",
       "  </tbody>\n",
       "</table>\n",
       "</div>"
      ],
      "text/plain": [
       "                      event_id  exon2_length      modality phenotype\n",
       "0  exon:chr1:1341189-1341266:-            78  constitutive      iPSC\n",
       "1  exon:chr1:1341189-1342399:-          1211  constitutive      iPSC\n",
       "2  exon:chr1:1653035-1653150:-           116  constitutive      iPSC\n",
       "3  exon:chr1:1650767-1650894:-           128  constitutive      iPSC\n",
       "4  exon:chr1:1650797-1650894:-            98  constitutive      iPSC"
      ]
     },
     "execution_count": 61,
     "metadata": {},
     "output_type": "execute_result"
    }
   ],
   "source": [
    "constitutive_exon_lengths_modalities = make_phenotype_modality_format(constitutive_exon_lengths)\n",
    "constitutive_exon_lengths_modalities.head()"
   ]
  },
  {
   "cell_type": "code",
   "execution_count": 62,
   "metadata": {
    "collapsed": false
   },
   "outputs": [
    {
     "data": {
      "text/html": [
       "<div>\n",
       "<table border=\"1\" class=\"dataframe\">\n",
       "  <thead>\n",
       "    <tr style=\"text-align: right;\">\n",
       "      <th></th>\n",
       "      <th>event_id</th>\n",
       "      <th>exon2_length</th>\n",
       "      <th>modality</th>\n",
       "      <th>phenotype</th>\n",
       "    </tr>\n",
       "  </thead>\n",
       "  <tbody>\n",
       "    <tr>\n",
       "      <th>0</th>\n",
       "      <td>exon:chr10:102114184-102114389:+@exon:chr10:10...</td>\n",
       "      <td>233</td>\n",
       "      <td>included</td>\n",
       "      <td>MN</td>\n",
       "    </tr>\n",
       "    <tr>\n",
       "      <th>1</th>\n",
       "      <td>exon:chr10:102286732-102286831:-@exon:chr10:10...</td>\n",
       "      <td>156</td>\n",
       "      <td>included</td>\n",
       "      <td>MN</td>\n",
       "    </tr>\n",
       "    <tr>\n",
       "      <th>2</th>\n",
       "      <td>exon:chr10:103360960-103361093:+@exon:chr10:10...</td>\n",
       "      <td>73</td>\n",
       "      <td>bimodal</td>\n",
       "      <td>MN</td>\n",
       "    </tr>\n",
       "    <tr>\n",
       "      <th>3</th>\n",
       "      <td>exon:chr10:103563492-103563776:-@exon:chr10:10...</td>\n",
       "      <td>159</td>\n",
       "      <td>bimodal</td>\n",
       "      <td>MN</td>\n",
       "    </tr>\n",
       "    <tr>\n",
       "      <th>4</th>\n",
       "      <td>exon:chr10:103567487-103567658:-@exon:chr10:10...</td>\n",
       "      <td>99</td>\n",
       "      <td>included</td>\n",
       "      <td>MN</td>\n",
       "    </tr>\n",
       "  </tbody>\n",
       "</table>\n",
       "</div>"
      ],
      "text/plain": [
       "                                            event_id  exon2_length  modality  \\\n",
       "0  exon:chr10:102114184-102114389:+@exon:chr10:10...           233  included   \n",
       "1  exon:chr10:102286732-102286831:-@exon:chr10:10...           156  included   \n",
       "2  exon:chr10:103360960-103361093:+@exon:chr10:10...            73   bimodal   \n",
       "3  exon:chr10:103563492-103563776:-@exon:chr10:10...           159   bimodal   \n",
       "4  exon:chr10:103567487-103567658:-@exon:chr10:10...            99  included   \n",
       "\n",
       "  phenotype  \n",
       "0        MN  \n",
       "1        MN  \n",
       "2        MN  \n",
       "3        MN  \n",
       "4        MN  "
      ]
     },
     "execution_count": 62,
     "metadata": {},
     "output_type": "execute_result"
    }
   ],
   "source": [
    "col = 'exon2_length'\n",
    "modality_exon_lengths = study.supplemental.modalities_tidy.join(study.splicing.feature_data[col], on='event_id')\n",
    "modality_exon_lengths = pd.concat([modality_exon_lengths, constitutive_exon_lengths_modalities])\n",
    "modality_exon_lengths.head()"
   ]
  },
  {
   "cell_type": "code",
   "execution_count": 63,
   "metadata": {
    "collapsed": false
   },
   "outputs": [
    {
     "data": {
      "image/png": "[encoded data removed]",
      "text/plain": [
       "<matplotlib.figure.Figure at 0x2ba6fe6f3d50>"
      ]
     },
     "metadata": {},
     "output_type": "display_data"
    }
   ],
   "source": [
    "fig, ax = plt.subplots(figsize=(2, 1.5))\n",
    "plt.yscale('log')\n",
    "sns.boxplot(data=modality_exon_lengths, y=col, linewidth=1, fliersize=2, **plot_kws)\n",
    "ax.legend_.set_visible(False)\n",
    "# ax.locator_params('y', nbins=4)\n",
    "sns.despine()\n",
    "fig.savefig('{}/{}_boxplots.pdf'.format(figure_folder, prefix))"
   ]
  },
  {
   "cell_type": "code",
   "execution_count": 64,
   "metadata": {
    "collapsed": true
   },
   "outputs": [],
   "source": [
    "from flotilla.visualize.generic import cdfplot"
   ]
  },
  {
   "cell_type": "code",
   "execution_count": 65,
   "metadata": {
    "collapsed": false
   },
   "outputs": [
    {
     "data": {
      "text/plain": [
       "<seaborn.axisgrid.FacetGrid at 0x2ba6f9d14090>"
      ]
     },
     "execution_count": 65,
     "metadata": {},
     "output_type": "execute_result"
    },
    {
     "data": {
      "image/png": "[encoded data removed]",
      "text/plain": [
       "<matplotlib.figure.Figure at 0x2ba708204090>"
      ]
     },
     "metadata": {},
     "output_type": "display_data"
    }
   ],
   "source": [
    "g = sns.FacetGrid(modality_exon_lengths, **facet_kws)\n",
    "plt.xscale('log')\n",
    "g.map(cdfplot, col)"
   ]
  },
  {
   "cell_type": "markdown",
   "metadata": {},
   "source": [
    "Easier to see difference in boxplots .. sticking to boxplots\n",
    "\n",
    "### Statistics (Pairwise Mann Whitney U)"
   ]
  },
  {
   "cell_type": "code",
   "execution_count": 66,
   "metadata": {
    "collapsed": false
   },
   "outputs": [
    {
     "name": "stdout",
     "output_type": "stream",
     "text": [
      "MN\n",
      "NPC\n",
      "iPSC\n"
     ]
    },
    {
     "data": {
      "image/png": "[encoded data removed]",
      "text/plain": [
       "<matplotlib.figure.Figure at 0x2ba794993990>"
      ]
     },
     "metadata": {},
     "output_type": "display_data"
    }
   ],
   "source": [
    "import itertools\n",
    "\n",
    "from scipy.stats.mstats import mannwhitneyu\n",
    "\n",
    "lines = []\n",
    "\n",
    "for phenotype, phenotype_df in modality_exon_lengths.groupby(['phenotype']):\n",
    "    six.print_(phenotype)\n",
    "    grouped = phenotype_df.groupby('modality')\n",
    "#     constitutive = grouped.get_group('constitutive')\n",
    "    \n",
    "    for (modality1, df1), (modality2, df2) in itertools.combinations(grouped, 2):\n",
    "#         if modality == 'constitutive':\n",
    "#             continue\n",
    "#         six.print_('\\t', modality1, modality2)\n",
    "\n",
    "        result = mannwhitneyu(df1[col], df2[col])\n",
    "#         six.print_('\\t\\t', result)\n",
    "#         results.loc[modality1, modality2] = result.pvalue\n",
    "        lines.append([phenotype, modality1, modality2, result.pvalue, result.statistic])\n",
    "enrichment = pd.DataFrame(lines, columns=['phenotype', 'modality1', 'modality2', 'p_value', 'statistic'])\n",
    "\n",
    "# multiple testing correction\n",
    "enrichment['bonferonni_p_value'] = enrichment['p_value'] * enrichment.shape[0]\n",
    "enrichment.head()\n",
    "\n",
    "# Transform tidy dataframe into 2d matrix\n",
    "enrichment_2d = enrichment.groupby('phenotype').apply(\n",
    "    lambda x: x.pivot(index='modality1', columns='modality2', values='bonferonni_p_value'))\n",
    "enrichment_2d = enrichment_2d.loc[:, modality_order]\n",
    "enrichment_2d_log10 = -np.log10(enrichment_2d)\n",
    "\n",
    "# Plot p-value heatmap\n",
    "fig, ax = plt.subplots(figsize=(.5, .75))\n",
    "ipsc = enrichment_2d_log10.loc['iPSC']\n",
    "ipsc = ipsc.loc[modality_order]\n",
    "ipsc = ipsc.T.fillna(0) + ipsc.fillna(0)\n",
    "ipsc = ipsc.replace(0, np.nan)\n",
    "sns.heatmap(ipsc, vmin=0, linewidth=0.5, linecolor='grey', cbar_kws=dict(orientation='horizontal'))\n",
    "ax.set(xticks=[], yticks=[], xlabel='', ylabel='');\n",
    "sns.despine(left=False, bottom=False, right=False, top=False)\n",
    "fig.savefig('{}/{}_p_value_heatmap.pdf'.format(figure_folder, col))"
   ]
  },
  {
   "cell_type": "markdown",
   "metadata": {},
   "source": [
    "## Intron length"
   ]
  },
  {
   "cell_type": "code",
   "execution_count": 67,
   "metadata": {
    "collapsed": false
   },
   "outputs": [],
   "source": [
    "prefix = 'intron_length'\n",
    "csv = '{}.csv'.format(prefix)"
   ]
  },
  {
   "cell_type": "code",
   "execution_count": 68,
   "metadata": {
    "collapsed": false
   },
   "outputs": [
    {
     "data": {
      "text/plain": [
       "event_id\n",
       "exon:chr10:102039881-102039985:-     5441.500000\n",
       "exon:chr10:102040691-102040810:-     4245.500000\n",
       "exon:chr10:102045854-102045970:-    11091.666667\n",
       "exon:chr10:102045854-102046089:-    11227.666667\n",
       "exon:chr10:102286732-102286831:-     4130.500000\n",
       "Name: intron_length, dtype: float64"
      ]
     },
     "execution_count": 68,
     "metadata": {},
     "output_type": "execute_result"
    }
   ],
   "source": [
    "constitutive_intron_lengths = pd.read_csv('{}/{}'.format(constitutive_feature_folder, csv), \n",
    "                                          index_col=0, header=None, squeeze=True)\n",
    "constitutive_intron_lengths.name = 'intron_length'\n",
    "constitutive_intron_lengths.index.name = 'event_id'\n",
    "constitutive_intron_lengths.head()"
   ]
  },
  {
   "cell_type": "code",
   "execution_count": 69,
   "metadata": {
    "collapsed": false
   },
   "outputs": [
    {
     "name": "stdout",
     "output_type": "stream",
     "text": [
      "(18204, 4)\n"
     ]
    },
    {
     "data": {
      "text/html": [
       "<div>\n",
       "<table border=\"1\" class=\"dataframe\">\n",
       "  <thead>\n",
       "    <tr style=\"text-align: right;\">\n",
       "      <th></th>\n",
       "      <th>event_id</th>\n",
       "      <th>intron_length</th>\n",
       "      <th>modality</th>\n",
       "      <th>phenotype</th>\n",
       "    </tr>\n",
       "  </thead>\n",
       "  <tbody>\n",
       "    <tr>\n",
       "      <th>0</th>\n",
       "      <td>exon:chr10:102039881-102039985:-</td>\n",
       "      <td>5441.500000</td>\n",
       "      <td>constitutive</td>\n",
       "      <td>iPSC</td>\n",
       "    </tr>\n",
       "    <tr>\n",
       "      <th>1</th>\n",
       "      <td>exon:chr10:102040691-102040810:-</td>\n",
       "      <td>4245.500000</td>\n",
       "      <td>constitutive</td>\n",
       "      <td>iPSC</td>\n",
       "    </tr>\n",
       "    <tr>\n",
       "      <th>2</th>\n",
       "      <td>exon:chr10:102045854-102045970:-</td>\n",
       "      <td>11091.666667</td>\n",
       "      <td>constitutive</td>\n",
       "      <td>iPSC</td>\n",
       "    </tr>\n",
       "    <tr>\n",
       "      <th>3</th>\n",
       "      <td>exon:chr10:102045854-102046089:-</td>\n",
       "      <td>11227.666667</td>\n",
       "      <td>constitutive</td>\n",
       "      <td>iPSC</td>\n",
       "    </tr>\n",
       "    <tr>\n",
       "      <th>4</th>\n",
       "      <td>exon:chr10:102286732-102286831:-</td>\n",
       "      <td>4130.500000</td>\n",
       "      <td>constitutive</td>\n",
       "      <td>iPSC</td>\n",
       "    </tr>\n",
       "  </tbody>\n",
       "</table>\n",
       "</div>"
      ],
      "text/plain": [
       "                           event_id  intron_length      modality phenotype\n",
       "0  exon:chr10:102039881-102039985:-    5441.500000  constitutive      iPSC\n",
       "1  exon:chr10:102040691-102040810:-    4245.500000  constitutive      iPSC\n",
       "2  exon:chr10:102045854-102045970:-   11091.666667  constitutive      iPSC\n",
       "3  exon:chr10:102045854-102046089:-   11227.666667  constitutive      iPSC\n",
       "4  exon:chr10:102286732-102286831:-    4130.500000  constitutive      iPSC"
      ]
     },
     "execution_count": 69,
     "metadata": {},
     "output_type": "execute_result"
    }
   ],
   "source": [
    "constitutive_intron_lengths_modalities = make_phenotype_modality_format(constitutive_intron_lengths)\n",
    "constitutive_intron_lengths_modalities.head()"
   ]
  },
  {
   "cell_type": "code",
   "execution_count": 70,
   "metadata": {
    "collapsed": false
   },
   "outputs": [
    {
     "data": {
      "text/html": [
       "<div>\n",
       "<table border=\"1\" class=\"dataframe\">\n",
       "  <thead>\n",
       "    <tr style=\"text-align: right;\">\n",
       "      <th></th>\n",
       "      <th>event_id</th>\n",
       "      <th>intron_length</th>\n",
       "      <th>modality</th>\n",
       "      <th>phenotype</th>\n",
       "      <th>$\\log_{10}$ Intron Length</th>\n",
       "    </tr>\n",
       "  </thead>\n",
       "  <tbody>\n",
       "    <tr>\n",
       "      <th>0</th>\n",
       "      <td>exon:chr10:102114184-102114389:+@exon:chr10:10...</td>\n",
       "      <td>6101</td>\n",
       "      <td>included</td>\n",
       "      <td>MN</td>\n",
       "      <td>3.785401</td>\n",
       "    </tr>\n",
       "    <tr>\n",
       "      <th>1</th>\n",
       "      <td>exon:chr10:102286732-102286831:-@exon:chr10:10...</td>\n",
       "      <td>3045</td>\n",
       "      <td>included</td>\n",
       "      <td>MN</td>\n",
       "      <td>3.483587</td>\n",
       "    </tr>\n",
       "    <tr>\n",
       "      <th>2</th>\n",
       "      <td>exon:chr10:103360960-103361093:+@exon:chr10:10...</td>\n",
       "      <td>7498</td>\n",
       "      <td>bimodal</td>\n",
       "      <td>MN</td>\n",
       "      <td>3.874945</td>\n",
       "    </tr>\n",
       "    <tr>\n",
       "      <th>3</th>\n",
       "      <td>exon:chr10:103563492-103563776:-@exon:chr10:10...</td>\n",
       "      <td>4279</td>\n",
       "      <td>bimodal</td>\n",
       "      <td>MN</td>\n",
       "      <td>3.631342</td>\n",
       "    </tr>\n",
       "    <tr>\n",
       "      <th>4</th>\n",
       "      <td>exon:chr10:103567487-103567658:-@exon:chr10:10...</td>\n",
       "      <td>3710</td>\n",
       "      <td>included</td>\n",
       "      <td>MN</td>\n",
       "      <td>3.569374</td>\n",
       "    </tr>\n",
       "  </tbody>\n",
       "</table>\n",
       "</div>"
      ],
      "text/plain": [
       "                                            event_id  intron_length  modality  \\\n",
       "0  exon:chr10:102114184-102114389:+@exon:chr10:10...           6101  included   \n",
       "1  exon:chr10:102286732-102286831:-@exon:chr10:10...           3045  included   \n",
       "2  exon:chr10:103360960-103361093:+@exon:chr10:10...           7498   bimodal   \n",
       "3  exon:chr10:103563492-103563776:-@exon:chr10:10...           4279   bimodal   \n",
       "4  exon:chr10:103567487-103567658:-@exon:chr10:10...           3710  included   \n",
       "\n",
       "  phenotype  $\\log_{10}$ Intron Length  \n",
       "0        MN                   3.785401  \n",
       "1        MN                   3.483587  \n",
       "2        MN                   3.874945  \n",
       "3        MN                   3.631342  \n",
       "4        MN                   3.569374  "
      ]
     },
     "execution_count": 70,
     "metadata": {},
     "output_type": "execute_result"
    }
   ],
   "source": [
    "col = 'intron_length'\n",
    "log_col = '$\\log_{10}$ Intron Length'\n",
    "modality_introns = study.supplemental.modalities_tidy.join(study.splicing.feature_data[col], on='event_id')\n",
    "modality_introns = pd.concat([modality_introns, constitutive_intron_lengths_modalities])\n",
    "modality_introns[log_col] = np.log10(modality_introns[col])\n",
    "modality_introns.head()"
   ]
  },
  {
   "cell_type": "code",
   "execution_count": 71,
   "metadata": {
    "collapsed": false
   },
   "outputs": [
    {
     "data": {
      "image/png": "[encoded data removed]",
      "text/plain": [
       "<matplotlib.figure.Figure at 0x2ba7967f87d0>"
      ]
     },
     "metadata": {},
     "output_type": "display_data"
    }
   ],
   "source": [
    "fig, ax = plt.subplots(figsize=(2, 1.5))\n",
    "plt.yscale('log')\n",
    "sns.boxplot(data=modality_introns, y=col, linewidth=1, fliersize=2, **plot_kws)\n",
    "ax.legend_.set_visible(False)\n",
    "# ax.locator_params('y', nbins=4)\n",
    "sns.despine()\n",
    "fig.savefig('{}/{}_boxplot.pdf'.format(figure_folder, col))"
   ]
  },
  {
   "cell_type": "code",
   "execution_count": 72,
   "metadata": {
    "collapsed": false
   },
   "outputs": [
    {
     "data": {
      "text/plain": [
       "<seaborn.axisgrid.FacetGrid at 0x2ba797391b10>"
      ]
     },
     "execution_count": 72,
     "metadata": {},
     "output_type": "execute_result"
    },
    {
     "data": {
      "image/png": "[encoded data removed]",
      "text/plain": [
       "<matplotlib.figure.Figure at 0x2ba796819750>"
      ]
     },
     "metadata": {},
     "output_type": "display_data"
    }
   ],
   "source": [
    "g = sns.FacetGrid(modality_introns, **facet_kws)\n",
    "plt.xscale('log')\n",
    "g.map(cdfplot, col)"
   ]
  },
  {
   "cell_type": "code",
   "execution_count": 73,
   "metadata": {
    "collapsed": false
   },
   "outputs": [
    {
     "name": "stdout",
     "output_type": "stream",
     "text": [
      "MN\n",
      "NPC\n",
      "iPSC\n"
     ]
    },
    {
     "data": {
      "image/png": "[encoded data removed]",
      "text/plain": [
       "<matplotlib.figure.Figure at 0x2ba794993f50>"
      ]
     },
     "metadata": {},
     "output_type": "display_data"
    }
   ],
   "source": [
    "import itertools\n",
    "\n",
    "from scipy.stats.mstats import mannwhitneyu\n",
    "\n",
    "lines = []\n",
    "\n",
    "for phenotype, phenotype_df in modality_introns.groupby(['phenotype']):\n",
    "    six.print_(phenotype)\n",
    "    grouped = phenotype_df.groupby('modality')\n",
    "#     constitutive = grouped.get_group('constitutive')\n",
    "    \n",
    "    for (modality1, df1), (modality2, df2) in itertools.combinations(grouped, 2):\n",
    "#         if modality == 'constitutive':\n",
    "#             continue\n",
    "#         six.print_('\\t', modality1, modality2)\n",
    "\n",
    "        result = mannwhitneyu(df1[col], df2[col])\n",
    "#         six.print_('\\t\\t', result)\n",
    "#         results.loc[modality1, modality2] = result.pvalue\n",
    "        lines.append([phenotype, modality1, modality2, result.pvalue, result.statistic])\n",
    "enrichment = pd.DataFrame(lines, columns=['phenotype', 'modality1', 'modality2', 'p_value', 'statistic'])\n",
    "\n",
    "# multiple testing correction\n",
    "enrichment['bonferonni_p_value'] = enrichment['p_value'] * enrichment.shape[0]\n",
    "enrichment.head()\n",
    "\n",
    "# Transform tidy dataframe into 2d matrix\n",
    "enrichment_2d = enrichment.groupby('phenotype').apply(\n",
    "    lambda x: x.pivot(index='modality1', columns='modality2', values='bonferonni_p_value'))\n",
    "enrichment_2d = enrichment_2d.loc[:, modality_order]\n",
    "enrichment_2d_log10 = -np.log10(enrichment_2d)\n",
    "\n",
    "# Plot p-value heatmap\n",
    "fig, ax = plt.subplots(figsize=(.5, .75))\n",
    "ipsc = enrichment_2d_log10.loc['iPSC']\n",
    "ipsc = ipsc.loc[modality_order]\n",
    "ipsc = ipsc.T.fillna(0) + ipsc.fillna(0)\n",
    "ipsc = ipsc.replace(0, np.nan)\n",
    "sns.heatmap(ipsc, vmin=0, linewidth=0.5, linecolor='grey', cbar_kws=dict(orientation='horizontal'))\n",
    "ax.set(xticks=[], yticks=[], xlabel='', ylabel='');\n",
    "sns.despine(left=False, bottom=False, right=False, top=False)\n",
    "fig.savefig('{}/{}_p_value_heatmap.pdf'.format(figure_folder, col))"
   ]
  },
  {
   "cell_type": "markdown",
   "metadata": {},
   "source": [
    "## Gene expression"
   ]
  },
  {
   "cell_type": "code",
   "execution_count": 74,
   "metadata": {
    "collapsed": false
   },
   "outputs": [
    {
     "name": "stdout",
     "output_type": "stream",
     "text": [
      "(1064136, 5)\n",
      "(913092, 5)\n"
     ]
    }
   ],
   "source": [
    "study.splicing.feature_expression_id_col = 'ensembl_id'\n",
    "splicing_tidy = study.tidy_splicing_with_expression.copy()\n",
    "six.print_(splicing_tidy.shape)\n",
    "singles_not_outliers = study.splicing.singles.index.difference(study.splicing.outliers.index)\n",
    "splicing_tidy_singles = splicing_tidy.ix[splicing_tidy.sample_id.isin(singles_not_outliers)]\n",
    "six.print_(splicing_tidy_singles.shape)\n",
    "splicing_tidy_singles = splicing_tidy_singles.join(study.sample_id_to_phenotype, on='sample_id')"
   ]
  },
  {
   "cell_type": "code",
   "execution_count": 75,
   "metadata": {
    "collapsed": false
   },
   "outputs": [
    {
     "data": {
      "text/html": [
       "<div>\n",
       "<table border=\"1\" class=\"dataframe\">\n",
       "  <thead>\n",
       "    <tr style=\"text-align: right;\">\n",
       "      <th></th>\n",
       "      <th>event_name</th>\n",
       "      <th>sample_id</th>\n",
       "      <th>psi</th>\n",
       "      <th>common_id</th>\n",
       "      <th>expression</th>\n",
       "      <th>phenotype</th>\n",
       "    </tr>\n",
       "  </thead>\n",
       "  <tbody>\n",
       "    <tr>\n",
       "      <th>0</th>\n",
       "      <td>exon:chr10:101165513-101165617:-@exon:chr10:10...</td>\n",
       "      <td>CVN_01</td>\n",
       "      <td>1</td>\n",
       "      <td>ENSG00000120053</td>\n",
       "      <td>104.96955</td>\n",
       "      <td>NPC</td>\n",
       "    </tr>\n",
       "    <tr>\n",
       "      <th>1</th>\n",
       "      <td>exon:chr10:101165513-101165617:-@exon:chr10:10...</td>\n",
       "      <td>CVN_02</td>\n",
       "      <td>1</td>\n",
       "      <td>ENSG00000120053</td>\n",
       "      <td>78.60160</td>\n",
       "      <td>NPC</td>\n",
       "    </tr>\n",
       "    <tr>\n",
       "      <th>2</th>\n",
       "      <td>exon:chr10:101165513-101165617:-@exon:chr10:10...</td>\n",
       "      <td>CVN_03</td>\n",
       "      <td>1</td>\n",
       "      <td>ENSG00000120053</td>\n",
       "      <td>228.96400</td>\n",
       "      <td>NPC</td>\n",
       "    </tr>\n",
       "    <tr>\n",
       "      <th>3</th>\n",
       "      <td>exon:chr10:101165513-101165617:-@exon:chr10:10...</td>\n",
       "      <td>CVN_05</td>\n",
       "      <td>1</td>\n",
       "      <td>ENSG00000120053</td>\n",
       "      <td>294.41000</td>\n",
       "      <td>NPC</td>\n",
       "    </tr>\n",
       "    <tr>\n",
       "      <th>4</th>\n",
       "      <td>exon:chr10:101165513-101165617:-@exon:chr10:10...</td>\n",
       "      <td>CVN_07</td>\n",
       "      <td>1</td>\n",
       "      <td>ENSG00000120053</td>\n",
       "      <td>120.86590</td>\n",
       "      <td>NPC</td>\n",
       "    </tr>\n",
       "  </tbody>\n",
       "</table>\n",
       "</div>"
      ],
      "text/plain": [
       "                                          event_name sample_id  psi  \\\n",
       "0  exon:chr10:101165513-101165617:-@exon:chr10:10...    CVN_01    1   \n",
       "1  exon:chr10:101165513-101165617:-@exon:chr10:10...    CVN_02    1   \n",
       "2  exon:chr10:101165513-101165617:-@exon:chr10:10...    CVN_03    1   \n",
       "3  exon:chr10:101165513-101165617:-@exon:chr10:10...    CVN_05    1   \n",
       "4  exon:chr10:101165513-101165617:-@exon:chr10:10...    CVN_07    1   \n",
       "\n",
       "         common_id  expression phenotype  \n",
       "0  ENSG00000120053   104.96955       NPC  \n",
       "1  ENSG00000120053    78.60160       NPC  \n",
       "2  ENSG00000120053   228.96400       NPC  \n",
       "3  ENSG00000120053   294.41000       NPC  \n",
       "4  ENSG00000120053   120.86590       NPC  "
      ]
     },
     "execution_count": 75,
     "metadata": {},
     "output_type": "execute_result"
    }
   ],
   "source": [
    "splicing_tidy_singles.head()"
   ]
  },
  {
   "cell_type": "code",
   "execution_count": 76,
   "metadata": {
    "collapsed": false
   },
   "outputs": [
    {
     "data": {
      "text/plain": [
       "event_id\n",
       "exon:chr10:102039881-102039985:-    ENSG00000196072\n",
       "exon:chr10:102040691-102040810:-    ENSG00000196072\n",
       "exon:chr10:102045854-102045970:-    ENSG00000196072\n",
       "exon:chr10:102045854-102046089:-    ENSG00000196072\n",
       "exon:chr10:102286732-102286831:-    ENSG00000075826\n",
       "Name: common_id, dtype: object"
      ]
     },
     "execution_count": 76,
     "metadata": {},
     "output_type": "execute_result"
    }
   ],
   "source": [
    "constitutive_genes = pd.read_csv('{}/genes_expanded.csv'.format(constitutive_feature_folder), \n",
    "                                 header=None, index_col=0, squeeze=True)\n",
    "constitutive_genes.name = 'common_id'\n",
    "constitutive_genes.index.name = 'event_id'\n",
    "constitutive_genes.head()"
   ]
  },
  {
   "cell_type": "code",
   "execution_count": 77,
   "metadata": {
    "collapsed": false
   },
   "outputs": [
    {
     "name": "stdout",
     "output_type": "stream",
     "text": [
      "(19398, 4)\n"
     ]
    },
    {
     "data": {
      "text/html": [
       "<div>\n",
       "<table border=\"1\" class=\"dataframe\">\n",
       "  <thead>\n",
       "    <tr style=\"text-align: right;\">\n",
       "      <th></th>\n",
       "      <th>event_id</th>\n",
       "      <th>common_id</th>\n",
       "      <th>modality</th>\n",
       "      <th>phenotype</th>\n",
       "    </tr>\n",
       "  </thead>\n",
       "  <tbody>\n",
       "    <tr>\n",
       "      <th>0</th>\n",
       "      <td>exon:chr10:102039881-102039985:-</td>\n",
       "      <td>ENSG00000196072</td>\n",
       "      <td>constitutive</td>\n",
       "      <td>iPSC</td>\n",
       "    </tr>\n",
       "    <tr>\n",
       "      <th>1</th>\n",
       "      <td>exon:chr10:102040691-102040810:-</td>\n",
       "      <td>ENSG00000196072</td>\n",
       "      <td>constitutive</td>\n",
       "      <td>iPSC</td>\n",
       "    </tr>\n",
       "    <tr>\n",
       "      <th>2</th>\n",
       "      <td>exon:chr10:102045854-102045970:-</td>\n",
       "      <td>ENSG00000196072</td>\n",
       "      <td>constitutive</td>\n",
       "      <td>iPSC</td>\n",
       "    </tr>\n",
       "    <tr>\n",
       "      <th>3</th>\n",
       "      <td>exon:chr10:102045854-102046089:-</td>\n",
       "      <td>ENSG00000196072</td>\n",
       "      <td>constitutive</td>\n",
       "      <td>iPSC</td>\n",
       "    </tr>\n",
       "    <tr>\n",
       "      <th>4</th>\n",
       "      <td>exon:chr10:102286732-102286831:-</td>\n",
       "      <td>ENSG00000075826</td>\n",
       "      <td>constitutive</td>\n",
       "      <td>iPSC</td>\n",
       "    </tr>\n",
       "  </tbody>\n",
       "</table>\n",
       "</div>"
      ],
      "text/plain": [
       "                           event_id        common_id      modality phenotype\n",
       "0  exon:chr10:102039881-102039985:-  ENSG00000196072  constitutive      iPSC\n",
       "1  exon:chr10:102040691-102040810:-  ENSG00000196072  constitutive      iPSC\n",
       "2  exon:chr10:102045854-102045970:-  ENSG00000196072  constitutive      iPSC\n",
       "3  exon:chr10:102045854-102046089:-  ENSG00000196072  constitutive      iPSC\n",
       "4  exon:chr10:102286732-102286831:-  ENSG00000075826  constitutive      iPSC"
      ]
     },
     "execution_count": 77,
     "metadata": {},
     "output_type": "execute_result"
    }
   ],
   "source": [
    "constitutive_genes_modalities = make_phenotype_modality_format(constitutive_genes)\n",
    "constitutive_genes_modalities.head()"
   ]
  },
  {
   "cell_type": "code",
   "execution_count": 78,
   "metadata": {
    "collapsed": false
   },
   "outputs": [
    {
     "data": {
      "text/html": [
       "<div>\n",
       "<table border=\"1\" class=\"dataframe\">\n",
       "  <thead>\n",
       "    <tr style=\"text-align: right;\">\n",
       "      <th></th>\n",
       "      <th>event_name</th>\n",
       "      <th>sample_id</th>\n",
       "      <th>psi</th>\n",
       "      <th>common_id</th>\n",
       "      <th>expression</th>\n",
       "      <th>phenotype</th>\n",
       "    </tr>\n",
       "  </thead>\n",
       "  <tbody>\n",
       "    <tr>\n",
       "      <th>0</th>\n",
       "      <td>exon:chr10:101165513-101165617:-@exon:chr10:10...</td>\n",
       "      <td>CVN_01</td>\n",
       "      <td>1</td>\n",
       "      <td>ENSG00000120053</td>\n",
       "      <td>104.96955</td>\n",
       "      <td>NPC</td>\n",
       "    </tr>\n",
       "    <tr>\n",
       "      <th>1</th>\n",
       "      <td>exon:chr10:101165513-101165617:-@exon:chr10:10...</td>\n",
       "      <td>CVN_02</td>\n",
       "      <td>1</td>\n",
       "      <td>ENSG00000120053</td>\n",
       "      <td>78.60160</td>\n",
       "      <td>NPC</td>\n",
       "    </tr>\n",
       "    <tr>\n",
       "      <th>2</th>\n",
       "      <td>exon:chr10:101165513-101165617:-@exon:chr10:10...</td>\n",
       "      <td>CVN_03</td>\n",
       "      <td>1</td>\n",
       "      <td>ENSG00000120053</td>\n",
       "      <td>228.96400</td>\n",
       "      <td>NPC</td>\n",
       "    </tr>\n",
       "    <tr>\n",
       "      <th>3</th>\n",
       "      <td>exon:chr10:101165513-101165617:-@exon:chr10:10...</td>\n",
       "      <td>CVN_05</td>\n",
       "      <td>1</td>\n",
       "      <td>ENSG00000120053</td>\n",
       "      <td>294.41000</td>\n",
       "      <td>NPC</td>\n",
       "    </tr>\n",
       "    <tr>\n",
       "      <th>4</th>\n",
       "      <td>exon:chr10:101165513-101165617:-@exon:chr10:10...</td>\n",
       "      <td>CVN_07</td>\n",
       "      <td>1</td>\n",
       "      <td>ENSG00000120053</td>\n",
       "      <td>120.86590</td>\n",
       "      <td>NPC</td>\n",
       "    </tr>\n",
       "  </tbody>\n",
       "</table>\n",
       "</div>"
      ],
      "text/plain": [
       "                                          event_name sample_id  psi  \\\n",
       "0  exon:chr10:101165513-101165617:-@exon:chr10:10...    CVN_01    1   \n",
       "1  exon:chr10:101165513-101165617:-@exon:chr10:10...    CVN_02    1   \n",
       "2  exon:chr10:101165513-101165617:-@exon:chr10:10...    CVN_03    1   \n",
       "3  exon:chr10:101165513-101165617:-@exon:chr10:10...    CVN_05    1   \n",
       "4  exon:chr10:101165513-101165617:-@exon:chr10:10...    CVN_07    1   \n",
       "\n",
       "         common_id  expression phenotype  \n",
       "0  ENSG00000120053   104.96955       NPC  \n",
       "1  ENSG00000120053    78.60160       NPC  \n",
       "2  ENSG00000120053   228.96400       NPC  \n",
       "3  ENSG00000120053   294.41000       NPC  \n",
       "4  ENSG00000120053   120.86590       NPC  "
      ]
     },
     "execution_count": 78,
     "metadata": {},
     "output_type": "execute_result"
    }
   ],
   "source": [
    "splicing_tidy_singles.head()"
   ]
  },
  {
   "cell_type": "code",
   "execution_count": 79,
   "metadata": {
    "collapsed": false
   },
   "outputs": [
    {
     "data": {
      "text/html": [
       "<div>\n",
       "<table border=\"1\" class=\"dataframe\">\n",
       "  <thead>\n",
       "    <tr style=\"text-align: right;\">\n",
       "      <th></th>\n",
       "      <th>event_id</th>\n",
       "      <th>common_id</th>\n",
       "      <th>modality</th>\n",
       "      <th>phenotype</th>\n",
       "      <th>event_name</th>\n",
       "      <th>sample_id</th>\n",
       "      <th>psi</th>\n",
       "      <th>expression</th>\n",
       "    </tr>\n",
       "  </thead>\n",
       "  <tbody>\n",
       "    <tr>\n",
       "      <th>0</th>\n",
       "      <td>exon:chr10:102286732-102286831:-</td>\n",
       "      <td>ENSG00000075826</td>\n",
       "      <td>constitutive</td>\n",
       "      <td>iPSC</td>\n",
       "      <td>exon:chr10:102286732-102286831:-@exon:chr10:10...</td>\n",
       "      <td>P1_01</td>\n",
       "      <td>1</td>\n",
       "      <td>0</td>\n",
       "    </tr>\n",
       "    <tr>\n",
       "      <th>1</th>\n",
       "      <td>exon:chr10:102286732-102286831:-</td>\n",
       "      <td>ENSG00000075826</td>\n",
       "      <td>constitutive</td>\n",
       "      <td>iPSC</td>\n",
       "      <td>exon:chr10:102286732-102286831:-@exon:chr10:10...</td>\n",
       "      <td>P1_01</td>\n",
       "      <td>1</td>\n",
       "      <td>0</td>\n",
       "    </tr>\n",
       "    <tr>\n",
       "      <th>2</th>\n",
       "      <td>exon:chr10:102286732-102286831:-</td>\n",
       "      <td>ENSG00000075826</td>\n",
       "      <td>constitutive</td>\n",
       "      <td>iPSC</td>\n",
       "      <td>exon:chr10:102286732-102286831:-@exon:chr10:10...</td>\n",
       "      <td>P1_01</td>\n",
       "      <td>1</td>\n",
       "      <td>0</td>\n",
       "    </tr>\n",
       "    <tr>\n",
       "      <th>3</th>\n",
       "      <td>exon:chr10:102286732-102286831:-</td>\n",
       "      <td>ENSG00000075826</td>\n",
       "      <td>constitutive</td>\n",
       "      <td>iPSC</td>\n",
       "      <td>exon:chr10:102286732-102286831:-@exon:chr10:10...</td>\n",
       "      <td>P1_02</td>\n",
       "      <td>1</td>\n",
       "      <td>0</td>\n",
       "    </tr>\n",
       "    <tr>\n",
       "      <th>4</th>\n",
       "      <td>exon:chr10:102286732-102286831:-</td>\n",
       "      <td>ENSG00000075826</td>\n",
       "      <td>constitutive</td>\n",
       "      <td>iPSC</td>\n",
       "      <td>exon:chr10:102286732-102286831:-@exon:chr10:10...</td>\n",
       "      <td>P1_02</td>\n",
       "      <td>1</td>\n",
       "      <td>0</td>\n",
       "    </tr>\n",
       "  </tbody>\n",
       "</table>\n",
       "</div>"
      ],
      "text/plain": [
       "                           event_id        common_id      modality phenotype  \\\n",
       "0  exon:chr10:102286732-102286831:-  ENSG00000075826  constitutive      iPSC   \n",
       "1  exon:chr10:102286732-102286831:-  ENSG00000075826  constitutive      iPSC   \n",
       "2  exon:chr10:102286732-102286831:-  ENSG00000075826  constitutive      iPSC   \n",
       "3  exon:chr10:102286732-102286831:-  ENSG00000075826  constitutive      iPSC   \n",
       "4  exon:chr10:102286732-102286831:-  ENSG00000075826  constitutive      iPSC   \n",
       "\n",
       "                                          event_name sample_id  psi  \\\n",
       "0  exon:chr10:102286732-102286831:-@exon:chr10:10...     P1_01    1   \n",
       "1  exon:chr10:102286732-102286831:-@exon:chr10:10...     P1_01    1   \n",
       "2  exon:chr10:102286732-102286831:-@exon:chr10:10...     P1_01    1   \n",
       "3  exon:chr10:102286732-102286831:-@exon:chr10:10...     P1_02    1   \n",
       "4  exon:chr10:102286732-102286831:-@exon:chr10:10...     P1_02    1   \n",
       "\n",
       "   expression  \n",
       "0           0  \n",
       "1           0  \n",
       "2           0  \n",
       "3           0  \n",
       "4           0  "
      ]
     },
     "execution_count": 79,
     "metadata": {},
     "output_type": "execute_result"
    }
   ],
   "source": [
    "constitutive_genes_modalities_expression = constitutive_genes_modalities.merge(\n",
    "    splicing_tidy_singles, left_on=['common_id', 'phenotype'], right_on=['common_id', 'phenotype'])\n",
    "constitutive_genes_modalities_expression.head()"
   ]
  },
  {
   "cell_type": "code",
   "execution_count": 80,
   "metadata": {
    "collapsed": false
   },
   "outputs": [
    {
     "name": "stdout",
     "output_type": "stream",
     "text": [
      "(2825478, 8)\n"
     ]
    },
    {
     "data": {
      "text/html": [
       "<div>\n",
       "<table border=\"1\" class=\"dataframe\">\n",
       "  <thead>\n",
       "    <tr style=\"text-align: right;\">\n",
       "      <th></th>\n",
       "      <th>common_id</th>\n",
       "      <th>event_id</th>\n",
       "      <th>event_name</th>\n",
       "      <th>expression_original</th>\n",
       "      <th>modality</th>\n",
       "      <th>phenotype</th>\n",
       "      <th>psi</th>\n",
       "      <th>sample_id</th>\n",
       "      <th>expression_summed</th>\n",
       "      <th>log2(TPM+1)</th>\n",
       "    </tr>\n",
       "  </thead>\n",
       "  <tbody>\n",
       "    <tr>\n",
       "      <th>0</th>\n",
       "      <td>ENSG00000099194</td>\n",
       "      <td>exon:chr10:102114184-102114389:+@exon:chr10:10...</td>\n",
       "      <td>NaN</td>\n",
       "      <td>313.077</td>\n",
       "      <td>included</td>\n",
       "      <td>MN</td>\n",
       "      <td>1</td>\n",
       "      <td>M1_01</td>\n",
       "      <td>313.077</td>\n",
       "      <td>8.294974</td>\n",
       "    </tr>\n",
       "    <tr>\n",
       "      <th>1</th>\n",
       "      <td>ENSG00000099194</td>\n",
       "      <td>exon:chr10:102114184-102114389:+@exon:chr10:10...</td>\n",
       "      <td>NaN</td>\n",
       "      <td>196.519</td>\n",
       "      <td>included</td>\n",
       "      <td>MN</td>\n",
       "      <td>1</td>\n",
       "      <td>M1_02</td>\n",
       "      <td>196.519</td>\n",
       "      <td>7.625848</td>\n",
       "    </tr>\n",
       "    <tr>\n",
       "      <th>2</th>\n",
       "      <td>ENSG00000099194</td>\n",
       "      <td>exon:chr10:102114184-102114389:+@exon:chr10:10...</td>\n",
       "      <td>NaN</td>\n",
       "      <td>191.162</td>\n",
       "      <td>included</td>\n",
       "      <td>MN</td>\n",
       "      <td>1</td>\n",
       "      <td>M1_07</td>\n",
       "      <td>191.162</td>\n",
       "      <td>7.586179</td>\n",
       "    </tr>\n",
       "    <tr>\n",
       "      <th>3</th>\n",
       "      <td>ENSG00000099194</td>\n",
       "      <td>exon:chr10:102114184-102114389:+@exon:chr10:10...</td>\n",
       "      <td>NaN</td>\n",
       "      <td>262.900</td>\n",
       "      <td>included</td>\n",
       "      <td>MN</td>\n",
       "      <td>1</td>\n",
       "      <td>M1_08</td>\n",
       "      <td>262.900</td>\n",
       "      <td>8.043848</td>\n",
       "    </tr>\n",
       "    <tr>\n",
       "      <th>4</th>\n",
       "      <td>ENSG00000099194</td>\n",
       "      <td>exon:chr10:102114184-102114389:+@exon:chr10:10...</td>\n",
       "      <td>NaN</td>\n",
       "      <td>321.496</td>\n",
       "      <td>included</td>\n",
       "      <td>MN</td>\n",
       "      <td>1</td>\n",
       "      <td>M1_09</td>\n",
       "      <td>321.496</td>\n",
       "      <td>8.333137</td>\n",
       "    </tr>\n",
       "  </tbody>\n",
       "</table>\n",
       "</div>"
      ],
      "text/plain": [
       "         common_id                                           event_id  \\\n",
       "0  ENSG00000099194  exon:chr10:102114184-102114389:+@exon:chr10:10...   \n",
       "1  ENSG00000099194  exon:chr10:102114184-102114389:+@exon:chr10:10...   \n",
       "2  ENSG00000099194  exon:chr10:102114184-102114389:+@exon:chr10:10...   \n",
       "3  ENSG00000099194  exon:chr10:102114184-102114389:+@exon:chr10:10...   \n",
       "4  ENSG00000099194  exon:chr10:102114184-102114389:+@exon:chr10:10...   \n",
       "\n",
       "  event_name  expression_original  modality phenotype  psi sample_id  \\\n",
       "0        NaN              313.077  included        MN    1     M1_01   \n",
       "1        NaN              196.519  included        MN    1     M1_02   \n",
       "2        NaN              191.162  included        MN    1     M1_07   \n",
       "3        NaN              262.900  included        MN    1     M1_08   \n",
       "4        NaN              321.496  included        MN    1     M1_09   \n",
       "\n",
       "   expression_summed  log2(TPM+1)  \n",
       "0            313.077     8.294974  \n",
       "1            196.519     7.625848  \n",
       "2            191.162     7.586179  \n",
       "3            262.900     8.043848  \n",
       "4            321.496     8.333137  "
      ]
     },
     "execution_count": 80,
     "metadata": {},
     "output_type": "execute_result"
    }
   ],
   "source": [
    "\n",
    "modalities_expression = study.supplemental.modalities_tidy.merge(\n",
    "    splicing_tidy_singles, left_on=['event_id', 'phenotype'], right_on=['event_name', 'phenotype'])\n",
    "modalities_expression = modalities_expression.drop('event_name', axis=1, errors='ignore')\n",
    "modalities_expression = pd.concat([modalities_expression, constitutive_genes_modalities_expression])\n",
    "six.print_(modalities_expression.shape)\n",
    "modalities_expression = modalities_expression.join(modalities_expression.groupby(['event_id', 'sample_id']).expression.sum(),\n",
    "                           on=['event_id', 'sample_id'], rsuffix='_summed', lsuffix='_original')\n",
    "\n",
    "modalities_expression['log2(TPM+1)'] = np.log2(modalities_expression.expression_summed+1)\n",
    "modalities_expression.head()"
   ]
  },
  {
   "cell_type": "code",
   "execution_count": 81,
   "metadata": {
    "collapsed": false
   },
   "outputs": [
    {
     "data": {
      "text/html": [
       "<div>\n",
       "<table border=\"1\" class=\"dataframe\">\n",
       "  <thead>\n",
       "    <tr style=\"text-align: right;\">\n",
       "      <th></th>\n",
       "      <th>common_id</th>\n",
       "      <th>event_id</th>\n",
       "      <th>event_name</th>\n",
       "      <th>expression_original</th>\n",
       "      <th>modality</th>\n",
       "      <th>phenotype</th>\n",
       "      <th>psi</th>\n",
       "      <th>sample_id</th>\n",
       "      <th>expression_summed</th>\n",
       "      <th>log2(TPM+1)</th>\n",
       "      <th>expression_mean</th>\n",
       "    </tr>\n",
       "  </thead>\n",
       "  <tbody>\n",
       "    <tr>\n",
       "      <th>0</th>\n",
       "      <td>ENSG00000099194</td>\n",
       "      <td>exon:chr10:102114184-102114389:+@exon:chr10:10...</td>\n",
       "      <td>NaN</td>\n",
       "      <td>313.077</td>\n",
       "      <td>included</td>\n",
       "      <td>MN</td>\n",
       "      <td>1</td>\n",
       "      <td>M1_01</td>\n",
       "      <td>313.077</td>\n",
       "      <td>8.294974</td>\n",
       "      <td>313.077</td>\n",
       "    </tr>\n",
       "    <tr>\n",
       "      <th>1</th>\n",
       "      <td>ENSG00000099194</td>\n",
       "      <td>exon:chr10:102114184-102114389:+@exon:chr10:10...</td>\n",
       "      <td>NaN</td>\n",
       "      <td>196.519</td>\n",
       "      <td>included</td>\n",
       "      <td>MN</td>\n",
       "      <td>1</td>\n",
       "      <td>M1_02</td>\n",
       "      <td>196.519</td>\n",
       "      <td>7.625848</td>\n",
       "      <td>196.519</td>\n",
       "    </tr>\n",
       "    <tr>\n",
       "      <th>2</th>\n",
       "      <td>ENSG00000099194</td>\n",
       "      <td>exon:chr10:102114184-102114389:+@exon:chr10:10...</td>\n",
       "      <td>NaN</td>\n",
       "      <td>191.162</td>\n",
       "      <td>included</td>\n",
       "      <td>MN</td>\n",
       "      <td>1</td>\n",
       "      <td>M1_07</td>\n",
       "      <td>191.162</td>\n",
       "      <td>7.586179</td>\n",
       "      <td>191.162</td>\n",
       "    </tr>\n",
       "    <tr>\n",
       "      <th>3</th>\n",
       "      <td>ENSG00000099194</td>\n",
       "      <td>exon:chr10:102114184-102114389:+@exon:chr10:10...</td>\n",
       "      <td>NaN</td>\n",
       "      <td>262.900</td>\n",
       "      <td>included</td>\n",
       "      <td>MN</td>\n",
       "      <td>1</td>\n",
       "      <td>M1_08</td>\n",
       "      <td>262.900</td>\n",
       "      <td>8.043848</td>\n",
       "      <td>262.900</td>\n",
       "    </tr>\n",
       "    <tr>\n",
       "      <th>4</th>\n",
       "      <td>ENSG00000099194</td>\n",
       "      <td>exon:chr10:102114184-102114389:+@exon:chr10:10...</td>\n",
       "      <td>NaN</td>\n",
       "      <td>321.496</td>\n",
       "      <td>included</td>\n",
       "      <td>MN</td>\n",
       "      <td>1</td>\n",
       "      <td>M1_09</td>\n",
       "      <td>321.496</td>\n",
       "      <td>8.333137</td>\n",
       "      <td>321.496</td>\n",
       "    </tr>\n",
       "  </tbody>\n",
       "</table>\n",
       "</div>"
      ],
      "text/plain": [
       "         common_id                                           event_id  \\\n",
       "0  ENSG00000099194  exon:chr10:102114184-102114389:+@exon:chr10:10...   \n",
       "1  ENSG00000099194  exon:chr10:102114184-102114389:+@exon:chr10:10...   \n",
       "2  ENSG00000099194  exon:chr10:102114184-102114389:+@exon:chr10:10...   \n",
       "3  ENSG00000099194  exon:chr10:102114184-102114389:+@exon:chr10:10...   \n",
       "4  ENSG00000099194  exon:chr10:102114184-102114389:+@exon:chr10:10...   \n",
       "\n",
       "  event_name  expression_original  modality phenotype  psi sample_id  \\\n",
       "0        NaN              313.077  included        MN    1     M1_01   \n",
       "1        NaN              196.519  included        MN    1     M1_02   \n",
       "2        NaN              191.162  included        MN    1     M1_07   \n",
       "3        NaN              262.900  included        MN    1     M1_08   \n",
       "4        NaN              321.496  included        MN    1     M1_09   \n",
       "\n",
       "   expression_summed  log2(TPM+1)  expression_mean  \n",
       "0            313.077     8.294974          313.077  \n",
       "1            196.519     7.625848          196.519  \n",
       "2            191.162     7.586179          191.162  \n",
       "3            262.900     8.043848          262.900  \n",
       "4            321.496     8.333137          321.496  "
      ]
     },
     "execution_count": 81,
     "metadata": {},
     "output_type": "execute_result"
    }
   ],
   "source": [
    "mean_expression = modalities_expression.groupby(['event_id', 'sample_id'])['expression_original'].mean()\n",
    "\n",
    "mean_expression.name = 'expression_mean'\n",
    "\n",
    "\n",
    "modalities_expression = modalities_expression.join(mean_expression, on=['event_id', 'sample_id'])\n",
    "modalities_expression.head()"
   ]
  },
  {
   "cell_type": "code",
   "execution_count": 82,
   "metadata": {
    "collapsed": false
   },
   "outputs": [
    {
     "data": {
      "text/html": [
       "<div>\n",
       "<table border=\"1\" class=\"dataframe\">\n",
       "  <thead>\n",
       "    <tr style=\"text-align: right;\">\n",
       "      <th></th>\n",
       "      <th>common_id</th>\n",
       "      <th>event_id</th>\n",
       "      <th>event_name</th>\n",
       "      <th>expression_original</th>\n",
       "      <th>modality</th>\n",
       "      <th>phenotype</th>\n",
       "      <th>psi</th>\n",
       "      <th>sample_id</th>\n",
       "      <th>expression_summed</th>\n",
       "      <th>log2(TPM+1)</th>\n",
       "      <th>expression_mean</th>\n",
       "      <th>expression_mean_log2_plus1</th>\n",
       "    </tr>\n",
       "  </thead>\n",
       "  <tbody>\n",
       "    <tr>\n",
       "      <th>0</th>\n",
       "      <td>ENSG00000099194</td>\n",
       "      <td>exon:chr10:102114184-102114389:+@exon:chr10:10...</td>\n",
       "      <td>NaN</td>\n",
       "      <td>313.077</td>\n",
       "      <td>included</td>\n",
       "      <td>MN</td>\n",
       "      <td>1</td>\n",
       "      <td>M1_01</td>\n",
       "      <td>313.077</td>\n",
       "      <td>8.294974</td>\n",
       "      <td>313.077</td>\n",
       "      <td>8.294974</td>\n",
       "    </tr>\n",
       "    <tr>\n",
       "      <th>1</th>\n",
       "      <td>ENSG00000099194</td>\n",
       "      <td>exon:chr10:102114184-102114389:+@exon:chr10:10...</td>\n",
       "      <td>NaN</td>\n",
       "      <td>196.519</td>\n",
       "      <td>included</td>\n",
       "      <td>MN</td>\n",
       "      <td>1</td>\n",
       "      <td>M1_02</td>\n",
       "      <td>196.519</td>\n",
       "      <td>7.625848</td>\n",
       "      <td>196.519</td>\n",
       "      <td>7.625848</td>\n",
       "    </tr>\n",
       "    <tr>\n",
       "      <th>2</th>\n",
       "      <td>ENSG00000099194</td>\n",
       "      <td>exon:chr10:102114184-102114389:+@exon:chr10:10...</td>\n",
       "      <td>NaN</td>\n",
       "      <td>191.162</td>\n",
       "      <td>included</td>\n",
       "      <td>MN</td>\n",
       "      <td>1</td>\n",
       "      <td>M1_07</td>\n",
       "      <td>191.162</td>\n",
       "      <td>7.586179</td>\n",
       "      <td>191.162</td>\n",
       "      <td>7.586179</td>\n",
       "    </tr>\n",
       "    <tr>\n",
       "      <th>3</th>\n",
       "      <td>ENSG00000099194</td>\n",
       "      <td>exon:chr10:102114184-102114389:+@exon:chr10:10...</td>\n",
       "      <td>NaN</td>\n",
       "      <td>262.900</td>\n",
       "      <td>included</td>\n",
       "      <td>MN</td>\n",
       "      <td>1</td>\n",
       "      <td>M1_08</td>\n",
       "      <td>262.900</td>\n",
       "      <td>8.043848</td>\n",
       "      <td>262.900</td>\n",
       "      <td>8.043848</td>\n",
       "    </tr>\n",
       "    <tr>\n",
       "      <th>4</th>\n",
       "      <td>ENSG00000099194</td>\n",
       "      <td>exon:chr10:102114184-102114389:+@exon:chr10:10...</td>\n",
       "      <td>NaN</td>\n",
       "      <td>321.496</td>\n",
       "      <td>included</td>\n",
       "      <td>MN</td>\n",
       "      <td>1</td>\n",
       "      <td>M1_09</td>\n",
       "      <td>321.496</td>\n",
       "      <td>8.333137</td>\n",
       "      <td>321.496</td>\n",
       "      <td>8.333137</td>\n",
       "    </tr>\n",
       "  </tbody>\n",
       "</table>\n",
       "</div>"
      ],
      "text/plain": [
       "         common_id                                           event_id  \\\n",
       "0  ENSG00000099194  exon:chr10:102114184-102114389:+@exon:chr10:10...   \n",
       "1  ENSG00000099194  exon:chr10:102114184-102114389:+@exon:chr10:10...   \n",
       "2  ENSG00000099194  exon:chr10:102114184-102114389:+@exon:chr10:10...   \n",
       "3  ENSG00000099194  exon:chr10:102114184-102114389:+@exon:chr10:10...   \n",
       "4  ENSG00000099194  exon:chr10:102114184-102114389:+@exon:chr10:10...   \n",
       "\n",
       "  event_name  expression_original  modality phenotype  psi sample_id  \\\n",
       "0        NaN              313.077  included        MN    1     M1_01   \n",
       "1        NaN              196.519  included        MN    1     M1_02   \n",
       "2        NaN              191.162  included        MN    1     M1_07   \n",
       "3        NaN              262.900  included        MN    1     M1_08   \n",
       "4        NaN              321.496  included        MN    1     M1_09   \n",
       "\n",
       "   expression_summed  log2(TPM+1)  expression_mean  expression_mean_log2_plus1  \n",
       "0            313.077     8.294974          313.077                    8.294974  \n",
       "1            196.519     7.625848          196.519                    7.625848  \n",
       "2            191.162     7.586179          191.162                    7.586179  \n",
       "3            262.900     8.043848          262.900                    8.043848  \n",
       "4            321.496     8.333137          321.496                    8.333137  "
      ]
     },
     "execution_count": 82,
     "metadata": {},
     "output_type": "execute_result"
    }
   ],
   "source": [
    "modalities_expression['expression_mean_log2_plus1'] = np.log2(modalities_expression.expression_mean+1)\n",
    "modalities_expression.head()"
   ]
  },
  {
   "cell_type": "code",
   "execution_count": 83,
   "metadata": {
    "collapsed": false
   },
   "outputs": [
    {
     "data": {
      "image/png": "[encoded data removed]",
      "text/plain": [
       "<matplotlib.figure.Figure at 0x2ba6f9ad3390>"
      ]
     },
     "metadata": {},
     "output_type": "display_data"
    }
   ],
   "source": [
    "fig, ax = plt.subplots(figsize=(2, 1.5))\n",
    "sns.boxplot(y='expression_mean_log2_plus1', data=modalities_expression, linewidth=1, fliersize=3, **plot_kws)\n",
    "ax.legend_.set_visible(False)\n",
    "sns.despine()\n",
    "ax.set(xlabel='', ylabel='$\\log_{2}(\\mathrm{TPM} + 1)$', ylim=(0, 16))\n",
    "ax.locator_params('y', nbins=4)\n",
    "fig.savefig('{}/expression.pdf'.format(figure_folder))"
   ]
  },
  {
   "cell_type": "code",
   "execution_count": 84,
   "metadata": {
    "collapsed": false
   },
   "outputs": [
    {
     "data": {
      "text/html": [
       "<div>\n",
       "<table border=\"1\" class=\"dataframe\">\n",
       "  <thead>\n",
       "    <tr style=\"text-align: right;\">\n",
       "      <th></th>\n",
       "      <th>phenotype</th>\n",
       "      <th>modality</th>\n",
       "      <th>common_id</th>\n",
       "      <th>mean(log2(TPM+1))</th>\n",
       "    </tr>\n",
       "  </thead>\n",
       "  <tbody>\n",
       "    <tr>\n",
       "      <th>0</th>\n",
       "      <td>MN</td>\n",
       "      <td>bimodal</td>\n",
       "      <td>ENSG00000005483</td>\n",
       "      <td>7.711536</td>\n",
       "    </tr>\n",
       "    <tr>\n",
       "      <th>1</th>\n",
       "      <td>MN</td>\n",
       "      <td>bimodal</td>\n",
       "      <td>ENSG00000008294</td>\n",
       "      <td>8.044015</td>\n",
       "    </tr>\n",
       "    <tr>\n",
       "      <th>2</th>\n",
       "      <td>MN</td>\n",
       "      <td>bimodal</td>\n",
       "      <td>ENSG00000009307</td>\n",
       "      <td>8.620661</td>\n",
       "    </tr>\n",
       "    <tr>\n",
       "      <th>3</th>\n",
       "      <td>MN</td>\n",
       "      <td>bimodal</td>\n",
       "      <td>ENSG00000010244</td>\n",
       "      <td>8.391159</td>\n",
       "    </tr>\n",
       "    <tr>\n",
       "      <th>4</th>\n",
       "      <td>MN</td>\n",
       "      <td>bimodal</td>\n",
       "      <td>ENSG00000011638</td>\n",
       "      <td>7.718454</td>\n",
       "    </tr>\n",
       "  </tbody>\n",
       "</table>\n",
       "</div>"
      ],
      "text/plain": [
       "  phenotype modality        common_id  mean(log2(TPM+1))\n",
       "0        MN  bimodal  ENSG00000005483           7.711536\n",
       "1        MN  bimodal  ENSG00000008294           8.044015\n",
       "2        MN  bimodal  ENSG00000009307           8.620661\n",
       "3        MN  bimodal  ENSG00000010244           8.391159\n",
       "4        MN  bimodal  ENSG00000011638           7.718454"
      ]
     },
     "execution_count": 84,
     "metadata": {},
     "output_type": "execute_result"
    }
   ],
   "source": [
    "modalities_expression_phenotype_mean = modalities_expression.groupby(\n",
    "    ['phenotype', 'modality', 'common_id'])['log2(TPM+1)'].mean()\n",
    "modalities_expression_phenotype_mean = modalities_expression_phenotype_mean.reset_index()\n",
    "modalities_expression_phenotype_mean = modalities_expression_phenotype_mean.rename(columns={'log2(TPM+1)': 'mean(log2(TPM+1))'})\n",
    "modalities_expression_phenotype_mean.head()"
   ]
  },
  {
   "cell_type": "code",
   "execution_count": 85,
   "metadata": {
    "collapsed": false
   },
   "outputs": [
    {
     "data": {
      "text/plain": [
       "phenotype  modality  common_id      \n",
       "MN         bimodal   ENSG00000005483    2.025298\n",
       "                     ENSG00000008294    2.184252\n",
       "                     ENSG00000009307    1.959440\n",
       "                     ENSG00000010244    2.847479\n",
       "                     ENSG00000011638    3.058964\n",
       "Name: var(log2(TPM+1)), dtype: float64"
      ]
     },
     "execution_count": 85,
     "metadata": {},
     "output_type": "execute_result"
    }
   ],
   "source": [
    "modalities_expression_phenotype_var = modalities_expression.groupby(\n",
    "    ['phenotype', 'modality', 'common_id'])['log2(TPM+1)'].var()\n",
    "modalities_expression_phenotype_var.name = 'var(log2(TPM+1))'\n",
    "modalities_expression_phenotype_var.head()"
   ]
  },
  {
   "cell_type": "code",
   "execution_count": 86,
   "metadata": {
    "collapsed": false
   },
   "outputs": [
    {
     "data": {
      "text/html": [
       "<div>\n",
       "<table border=\"1\" class=\"dataframe\">\n",
       "  <thead>\n",
       "    <tr style=\"text-align: right;\">\n",
       "      <th></th>\n",
       "      <th>phenotype</th>\n",
       "      <th>modality</th>\n",
       "      <th>common_id</th>\n",
       "      <th>mean(log2(TPM+1))</th>\n",
       "      <th>var(log2(TPM+1))</th>\n",
       "    </tr>\n",
       "  </thead>\n",
       "  <tbody>\n",
       "    <tr>\n",
       "      <th>0</th>\n",
       "      <td>MN</td>\n",
       "      <td>bimodal</td>\n",
       "      <td>ENSG00000005483</td>\n",
       "      <td>7.711536</td>\n",
       "      <td>2.025298</td>\n",
       "    </tr>\n",
       "    <tr>\n",
       "      <th>1</th>\n",
       "      <td>MN</td>\n",
       "      <td>bimodal</td>\n",
       "      <td>ENSG00000008294</td>\n",
       "      <td>8.044015</td>\n",
       "      <td>2.184252</td>\n",
       "    </tr>\n",
       "    <tr>\n",
       "      <th>2</th>\n",
       "      <td>MN</td>\n",
       "      <td>bimodal</td>\n",
       "      <td>ENSG00000009307</td>\n",
       "      <td>8.620661</td>\n",
       "      <td>1.959440</td>\n",
       "    </tr>\n",
       "    <tr>\n",
       "      <th>3</th>\n",
       "      <td>MN</td>\n",
       "      <td>bimodal</td>\n",
       "      <td>ENSG00000010244</td>\n",
       "      <td>8.391159</td>\n",
       "      <td>2.847479</td>\n",
       "    </tr>\n",
       "    <tr>\n",
       "      <th>4</th>\n",
       "      <td>MN</td>\n",
       "      <td>bimodal</td>\n",
       "      <td>ENSG00000011638</td>\n",
       "      <td>7.718454</td>\n",
       "      <td>3.058964</td>\n",
       "    </tr>\n",
       "  </tbody>\n",
       "</table>\n",
       "</div>"
      ],
      "text/plain": [
       "  phenotype modality        common_id  mean(log2(TPM+1))  var(log2(TPM+1))\n",
       "0        MN  bimodal  ENSG00000005483           7.711536          2.025298\n",
       "1        MN  bimodal  ENSG00000008294           8.044015          2.184252\n",
       "2        MN  bimodal  ENSG00000009307           8.620661          1.959440\n",
       "3        MN  bimodal  ENSG00000010244           8.391159          2.847479\n",
       "4        MN  bimodal  ENSG00000011638           7.718454          3.058964"
      ]
     },
     "execution_count": 86,
     "metadata": {},
     "output_type": "execute_result"
    }
   ],
   "source": [
    "modalities_expresion_phenotype = modalities_expression_phenotype_mean.join(\n",
    "    modalities_expression_phenotype_var, on=['phenotype', 'modality', 'common_id'])\n",
    "modalities_expresion_phenotype.head()"
   ]
  },
  {
   "cell_type": "code",
   "execution_count": 87,
   "metadata": {
    "collapsed": false
   },
   "outputs": [
    {
     "data": {
      "image/png": "[encoded data removed]",
      "text/plain": [
       "<matplotlib.figure.Figure at 0x2ba755d063d0>"
      ]
     },
     "metadata": {},
     "output_type": "display_data"
    }
   ],
   "source": [
    "fig, ax = plt.subplots(figsize=(2, 1.5))\n",
    "sns.boxplot(y='mean(log2(TPM+1))', data=modalities_expresion_phenotype, linewidth=1, fliersize=3, **plot_kws)\n",
    "ax.legend_.set_visible(False)\n",
    "sns.despine()\n",
    "ax.set(xlabel='', ylabel=r'$\\mathrm{mean}\\left(\\log_{2}(\\mathrm{TPM} + 1)\\right)$')\n",
    "ax.locator_params('y', nbins=4)\n",
    "fig.savefig('{}/expression_mean_within_phenotype.pdf'.format(figure_folder))"
   ]
  },
  {
   "cell_type": "code",
   "execution_count": 88,
   "metadata": {
    "collapsed": false
   },
   "outputs": [
    {
     "name": "stdout",
     "output_type": "stream",
     "text": [
      "MN\n",
      "NPC\n",
      "iPSC\n"
     ]
    },
    {
     "data": {
      "text/html": [
       "<div>\n",
       "<table border=\"1\" class=\"dataframe\">\n",
       "  <thead>\n",
       "    <tr style=\"text-align: right;\">\n",
       "      <th></th>\n",
       "      <th>phenotype</th>\n",
       "      <th>modality</th>\n",
       "      <th>statistic</th>\n",
       "      <th>p-value</th>\n",
       "      <th>q-value</th>\n",
       "    </tr>\n",
       "  </thead>\n",
       "  <tbody>\n",
       "    <tr>\n",
       "      <th>0</th>\n",
       "      <td>MN</td>\n",
       "      <td>bimodal</td>\n",
       "      <td>173.170405</td>\n",
       "      <td>1.502293e-39</td>\n",
       "      <td>1.952982e-38</td>\n",
       "    </tr>\n",
       "    <tr>\n",
       "      <th>1</th>\n",
       "      <td>MN</td>\n",
       "      <td>excluded</td>\n",
       "      <td>80.563981</td>\n",
       "      <td>2.814430e-19</td>\n",
       "      <td>3.658759e-18</td>\n",
       "    </tr>\n",
       "    <tr>\n",
       "      <th>2</th>\n",
       "      <td>MN</td>\n",
       "      <td>included</td>\n",
       "      <td>118.207657</td>\n",
       "      <td>1.561533e-27</td>\n",
       "      <td>2.029993e-26</td>\n",
       "    </tr>\n",
       "    <tr>\n",
       "      <th>4</th>\n",
       "      <td>NPC</td>\n",
       "      <td>bimodal</td>\n",
       "      <td>474.322554</td>\n",
       "      <td>3.674164e-105</td>\n",
       "      <td>4.776413e-104</td>\n",
       "    </tr>\n",
       "    <tr>\n",
       "      <th>5</th>\n",
       "      <td>NPC</td>\n",
       "      <td>excluded</td>\n",
       "      <td>311.660983</td>\n",
       "      <td>9.492788e-70</td>\n",
       "      <td>1.234062e-68</td>\n",
       "    </tr>\n",
       "    <tr>\n",
       "      <th>6</th>\n",
       "      <td>NPC</td>\n",
       "      <td>included</td>\n",
       "      <td>404.442084</td>\n",
       "      <td>5.942402e-90</td>\n",
       "      <td>7.725122e-89</td>\n",
       "    </tr>\n",
       "    <tr>\n",
       "      <th>8</th>\n",
       "      <td>iPSC</td>\n",
       "      <td>bimodal</td>\n",
       "      <td>820.696644</td>\n",
       "      <td>1.707298e-180</td>\n",
       "      <td>2.219487e-179</td>\n",
       "    </tr>\n",
       "    <tr>\n",
       "      <th>9</th>\n",
       "      <td>iPSC</td>\n",
       "      <td>excluded</td>\n",
       "      <td>477.475176</td>\n",
       "      <td>7.570815e-106</td>\n",
       "      <td>9.842059e-105</td>\n",
       "    </tr>\n",
       "    <tr>\n",
       "      <th>10</th>\n",
       "      <td>iPSC</td>\n",
       "      <td>included</td>\n",
       "      <td>682.811014</td>\n",
       "      <td>1.635416e-150</td>\n",
       "      <td>2.126041e-149</td>\n",
       "    </tr>\n",
       "  </tbody>\n",
       "</table>\n",
       "</div>"
      ],
      "text/plain": [
       "   phenotype  modality   statistic        p-value        q-value\n",
       "0         MN   bimodal  173.170405   1.502293e-39   1.952982e-38\n",
       "1         MN  excluded   80.563981   2.814430e-19   3.658759e-18\n",
       "2         MN  included  118.207657   1.561533e-27   2.029993e-26\n",
       "4        NPC   bimodal  474.322554  3.674164e-105  4.776413e-104\n",
       "5        NPC  excluded  311.660983   9.492788e-70   1.234062e-68\n",
       "6        NPC  included  404.442084   5.942402e-90   7.725122e-89\n",
       "8       iPSC   bimodal  820.696644  1.707298e-180  2.219487e-179\n",
       "9       iPSC  excluded  477.475176  7.570815e-106  9.842059e-105\n",
       "10      iPSC  included  682.811014  1.635416e-150  2.126041e-149"
      ]
     },
     "execution_count": 88,
     "metadata": {},
     "output_type": "execute_result"
    }
   ],
   "source": [
    "from scipy.stats.mstats import kruskalwallis\n",
    "\n",
    "col = 'mean(log2(TPM+1))'\n",
    "\n",
    "lines = []\n",
    "\n",
    "for phenotype, phenotype_df in modalities_expresion_phenotype.groupby(['phenotype']):\n",
    "    six.print_(phenotype)\n",
    "    grouped = phenotype_df.groupby('modality')\n",
    "    constitutive = grouped.get_group('constitutive')\n",
    "    \n",
    "    for modality, modality_df in grouped:\n",
    "        if modality == 'constitutive':\n",
    "            continue\n",
    "#         six.print_('\\t', modality)\n",
    "\n",
    "        result = kruskalwallis(modality_df[col], constitutive[col])\n",
    "#         six.print_('\\t\\t', result)\n",
    "        lines.append([phenotype, modality, result[0], result[1]])\n",
    "expression_significance = pd.DataFrame(lines, columns=['phenotype', 'modality', 'statistic', 'p-value'])\n",
    "expression_significance['q-value'] = expression_significance['p-value'] * expression_significance.shape[0]\n",
    "expression_significance.loc[expression_significance['q-value'] < 1e-3]"
   ]
  },
  {
   "cell_type": "markdown",
   "metadata": {},
   "source": [
    "### Plot significance as heatmap"
   ]
  },
  {
   "cell_type": "code",
   "execution_count": 89,
   "metadata": {
    "collapsed": false
   },
   "outputs": [
    {
     "name": "stdout",
     "output_type": "stream",
     "text": [
      "MN\n",
      "NPC\n",
      "iPSC\n"
     ]
    },
    {
     "data": {
      "image/png": "[encoded data removed]",
      "text/plain": [
       "<matplotlib.figure.Figure at 0x2ba796aecd90>"
      ]
     },
     "metadata": {},
     "output_type": "display_data"
    }
   ],
   "source": [
    "import itertools\n",
    "\n",
    "from scipy.stats.mstats import mannwhitneyu\n",
    "\n",
    "col = 'mean(log2(TPM+1))'\n",
    "\n",
    "\n",
    "lines = []\n",
    "\n",
    "for phenotype, phenotype_df in modalities_expresion_phenotype.groupby(['phenotype']):\n",
    "    six.print_(phenotype)\n",
    "    grouped = phenotype_df.groupby('modality')\n",
    "#     constitutive = grouped.get_group('constitutive')\n",
    "    \n",
    "    for (modality1, df1), (modality2, df2) in itertools.combinations(grouped, 2):\n",
    "#         if modality == 'constitutive':\n",
    "#             continue\n",
    "#         six.print_('\\t', modality1, modality2)\n",
    "\n",
    "        result = mannwhitneyu(df1[col], df2[col])\n",
    "#         six.print_('\\t\\t', result)\n",
    "#         results.loc[modality1, modality2] = result.pvalue\n",
    "        lines.append([phenotype, modality1, modality2, result.pvalue, result.statistic])\n",
    "enrichment = pd.DataFrame(lines, columns=['phenotype', 'modality1', 'modality2', 'p_value', 'statistic'])\n",
    "\n",
    "# multiple testing correction\n",
    "enrichment['bonferonni_p_value'] = enrichment['p_value'] * enrichment.shape[0]\n",
    "enrichment.head()\n",
    "\n",
    "# Transform tidy dataframe into 2d matrix\n",
    "enrichment_2d = enrichment.groupby('phenotype').apply(\n",
    "    lambda x: x.pivot(index='modality1', columns='modality2', values='bonferonni_p_value'))\n",
    "enrichment_2d = enrichment_2d.loc[:, modality_order]\n",
    "enrichment_2d_log10 = -np.log10(enrichment_2d)\n",
    "\n",
    "# Plot p-value heatmap\n",
    "fig, ax = plt.subplots(figsize=(.5, .75))\n",
    "ipsc = enrichment_2d_log10.loc['iPSC']\n",
    "ipsc = ipsc.loc[modality_order]\n",
    "ipsc = ipsc.T.fillna(0) + ipsc.fillna(0)\n",
    "ipsc = ipsc.replace(0, np.nan)\n",
    "sns.heatmap(ipsc, vmin=0, linewidth=0.5, linecolor='grey', cbar_kws=dict(orientation='horizontal'))\n",
    "ax.set(xticks=[], yticks=[], xlabel='', ylabel='');\n",
    "sns.despine(left=False, bottom=False, right=False, top=False)\n",
    "fig.savefig('{}/{}_p_value_heatmap.pdf'.format(figure_folder, col))"
   ]
  },
  {
   "cell_type": "code",
   "execution_count": 90,
   "metadata": {
    "collapsed": false
   },
   "outputs": [
    {
     "data": {
      "text/plain": [
       "<matplotlib.axes._subplots.AxesSubplot at 0x2ba796b05350>"
      ]
     },
     "execution_count": 90,
     "metadata": {},
     "output_type": "execute_result"
    },
    {
     "data": {
      "image/png": "[encoded data removed]",
      "text/plain": [
       "<matplotlib.figure.Figure at 0x2ba796cbab50>"
      ]
     },
     "metadata": {},
     "output_type": "display_data"
    }
   ],
   "source": [
    "sns.boxplot(y='var(log2(TPM+1))', data=modalities_expresion_phenotype, linewidth=1, fliersize=3, **plot_kws)\n"
   ]
  },
  {
   "cell_type": "code",
   "execution_count": 91,
   "metadata": {
    "collapsed": false
   },
   "outputs": [
    {
     "data": {
      "image/png": "[encoded data removed]",
      "text/plain": [
       "<matplotlib.figure.Figure at 0x2ba6f6b19110>"
      ]
     },
     "metadata": {},
     "output_type": "display_data"
    }
   ],
   "source": [
    "fig, axes = plt.subplots(figsize=(2, 1.5), nrows=2, gridspec_kw=dict(height_ratios=(0.2, 0.8), hspace=0.2))\n",
    "ax = axes[0]\n",
    "sns.boxplot(y='var(log2(TPM+1))', data=modalities_expresion_phenotype, linewidth=1, fliersize=3, ax=ax, **plot_kws)\n",
    "ax.legend_.set_visible(False)\n",
    "ax.locator_params('y', nbins=4)\n",
    "# sns.despine(ax=ax, bottom=True)\n",
    "ax.set(ylim=(10, 20), ylabel='')\n",
    "ax.tick_params(\n",
    "    axis='x',          # changes apply to the x-axis\n",
    "    which='both',      # both major and minor ticks are affected\n",
    "    bottom='off',      # ticks along the bottom edge are off\n",
    "    top='off',         # ticks along the top edge are off\n",
    "    labelbottom='off') # labels along the bottom edge are off\n",
    "\n",
    "ax = axes[1]\n",
    "sns.boxplot(y='var(log2(TPM+1))', data=modalities_expresion_phenotype, linewidth=1, fliersize=3, ax=ax, **plot_kws)\n",
    "ax.legend_.set_visible(False)\n",
    "ax.locator_params('y', nbins=4)\n",
    "sns.despine()\n",
    "\n",
    "ax.set(xlabel='', ylabel=r'$\\mathrm{var}\\left(\\log_{2}(\\mathrm{TPM} + 1)\\right)$', ylim=(0, 5))\n",
    "\n",
    "fig.savefig('{}/expression_var_within_phenotype.pdf'.format(figure_folder))"
   ]
  },
  {
   "cell_type": "markdown",
   "metadata": {},
   "source": [
    "## Exon splice site scores"
   ]
  },
  {
   "cell_type": "code",
   "execution_count": 92,
   "metadata": {
    "collapsed": true
   },
   "outputs": [],
   "source": [
    "prefix = 'maxentscan'\n",
    "csv = '{}.csv'.format(prefix)"
   ]
  },
  {
   "cell_type": "code",
   "execution_count": 93,
   "metadata": {
    "collapsed": false
   },
   "outputs": [
    {
     "data": {
      "text/html": [
       "<div>\n",
       "<table border=\"1\" class=\"dataframe\">\n",
       "  <thead>\n",
       "    <tr style=\"text-align: right;\">\n",
       "      <th></th>\n",
       "      <th>splice_site_3p_score</th>\n",
       "      <th>splice_site_3p_seq</th>\n",
       "      <th>splice_site_5p_score</th>\n",
       "      <th>splice_site_5p_seq</th>\n",
       "    </tr>\n",
       "    <tr>\n",
       "      <th>event_id</th>\n",
       "      <th></th>\n",
       "      <th></th>\n",
       "      <th></th>\n",
       "      <th></th>\n",
       "    </tr>\n",
       "  </thead>\n",
       "  <tbody>\n",
       "    <tr>\n",
       "      <th>exon:chr10:102039881-102039985:-</th>\n",
       "      <td>8.01</td>\n",
       "      <td>GTTTTTCTTTGTTTTTAAAGATG</td>\n",
       "      <td>3.95</td>\n",
       "      <td>TGGGTAACC</td>\n",
       "    </tr>\n",
       "    <tr>\n",
       "      <th>exon:chr10:102040691-102040810:-</th>\n",
       "      <td>5.71</td>\n",
       "      <td>TCTTCTGTTTAATTTTCAAGCCA</td>\n",
       "      <td>8.62</td>\n",
       "      <td>AATGTAAGT</td>\n",
       "    </tr>\n",
       "    <tr>\n",
       "      <th>exon:chr10:102045854-102045970:-</th>\n",
       "      <td>5.19</td>\n",
       "      <td>GTCATTCTCCCTTGGCCCAGACG</td>\n",
       "      <td>8.48</td>\n",
       "      <td>CGGGTGAGG</td>\n",
       "    </tr>\n",
       "    <tr>\n",
       "      <th>exon:chr10:102286732-102286831:-</th>\n",
       "      <td>9.47</td>\n",
       "      <td>AAGTTCTTGCTGTCTTTCAGGTA</td>\n",
       "      <td>10.10</td>\n",
       "      <td>CCGGTAAGA</td>\n",
       "    </tr>\n",
       "    <tr>\n",
       "      <th>exon:chr10:102289123-102289263:-</th>\n",
       "      <td>8.05</td>\n",
       "      <td>TGTTCTCTTCTGCGTTCTAGCCT</td>\n",
       "      <td>7.47</td>\n",
       "      <td>AGGGTATGC</td>\n",
       "    </tr>\n",
       "  </tbody>\n",
       "</table>\n",
       "</div>"
      ],
      "text/plain": [
       "                                  splice_site_3p_score  \\\n",
       "event_id                                                 \n",
       "exon:chr10:102039881-102039985:-                  8.01   \n",
       "exon:chr10:102040691-102040810:-                  5.71   \n",
       "exon:chr10:102045854-102045970:-                  5.19   \n",
       "exon:chr10:102286732-102286831:-                  9.47   \n",
       "exon:chr10:102289123-102289263:-                  8.05   \n",
       "\n",
       "                                       splice_site_3p_seq  \\\n",
       "event_id                                                    \n",
       "exon:chr10:102039881-102039985:-  GTTTTTCTTTGTTTTTAAAGATG   \n",
       "exon:chr10:102040691-102040810:-  TCTTCTGTTTAATTTTCAAGCCA   \n",
       "exon:chr10:102045854-102045970:-  GTCATTCTCCCTTGGCCCAGACG   \n",
       "exon:chr10:102286732-102286831:-  AAGTTCTTGCTGTCTTTCAGGTA   \n",
       "exon:chr10:102289123-102289263:-  TGTTCTCTTCTGCGTTCTAGCCT   \n",
       "\n",
       "                                  splice_site_5p_score splice_site_5p_seq  \n",
       "event_id                                                                   \n",
       "exon:chr10:102039881-102039985:-                  3.95          TGGGTAACC  \n",
       "exon:chr10:102040691-102040810:-                  8.62          AATGTAAGT  \n",
       "exon:chr10:102045854-102045970:-                  8.48          CGGGTGAGG  \n",
       "exon:chr10:102286732-102286831:-                 10.10          CCGGTAAGA  \n",
       "exon:chr10:102289123-102289263:-                  7.47          AGGGTATGC  "
      ]
     },
     "execution_count": 93,
     "metadata": {},
     "output_type": "execute_result"
    }
   ],
   "source": [
    "constitutive_maxentscan = pd.read_csv('{}/{}'.format(constitutive_feature_folder, csv), index_col=0)\n",
    "constitutive_maxentscan.index.name = 'event_id'\n",
    "constitutive_maxentscan.head()"
   ]
  },
  {
   "cell_type": "code",
   "execution_count": 94,
   "metadata": {
    "collapsed": false
   },
   "outputs": [
    {
     "data": {
      "text/html": [
       "<div>\n",
       "<table border=\"1\" class=\"dataframe\">\n",
       "  <thead>\n",
       "    <tr style=\"text-align: right;\">\n",
       "      <th></th>\n",
       "      <th>splice_site_3p_score</th>\n",
       "      <th>splice_site_5p_score</th>\n",
       "    </tr>\n",
       "  </thead>\n",
       "  <tbody>\n",
       "    <tr>\n",
       "      <th>count</th>\n",
       "      <td>5893.000000</td>\n",
       "      <td>5893.000000</td>\n",
       "    </tr>\n",
       "    <tr>\n",
       "      <th>mean</th>\n",
       "      <td>7.990557</td>\n",
       "      <td>8.108286</td>\n",
       "    </tr>\n",
       "    <tr>\n",
       "      <th>std</th>\n",
       "      <td>3.712458</td>\n",
       "      <td>3.148625</td>\n",
       "    </tr>\n",
       "    <tr>\n",
       "      <th>min</th>\n",
       "      <td>-32.040000</td>\n",
       "      <td>-31.740000</td>\n",
       "    </tr>\n",
       "    <tr>\n",
       "      <th>25%</th>\n",
       "      <td>6.720000</td>\n",
       "      <td>7.390000</td>\n",
       "    </tr>\n",
       "    <tr>\n",
       "      <th>50%</th>\n",
       "      <td>8.500000</td>\n",
       "      <td>8.780000</td>\n",
       "    </tr>\n",
       "    <tr>\n",
       "      <th>75%</th>\n",
       "      <td>10.130000</td>\n",
       "      <td>9.880000</td>\n",
       "    </tr>\n",
       "    <tr>\n",
       "      <th>max</th>\n",
       "      <td>14.850000</td>\n",
       "      <td>11.810000</td>\n",
       "    </tr>\n",
       "  </tbody>\n",
       "</table>\n",
       "</div>"
      ],
      "text/plain": [
       "       splice_site_3p_score  splice_site_5p_score\n",
       "count           5893.000000           5893.000000\n",
       "mean               7.990557              8.108286\n",
       "std                3.712458              3.148625\n",
       "min              -32.040000            -31.740000\n",
       "25%                6.720000              7.390000\n",
       "50%                8.500000              8.780000\n",
       "75%               10.130000              9.880000\n",
       "max               14.850000             11.810000"
      ]
     },
     "execution_count": 94,
     "metadata": {},
     "output_type": "execute_result"
    }
   ],
   "source": [
    "score_cols = constitutive_maxentscan.describe().columns\n",
    "constitutive_maxentscan.describe()"
   ]
  },
  {
   "cell_type": "code",
   "execution_count": 95,
   "metadata": {
    "collapsed": false
   },
   "outputs": [
    {
     "data": {
      "text/html": [
       "<div>\n",
       "<table border=\"1\" class=\"dataframe\">\n",
       "  <thead>\n",
       "    <tr style=\"text-align: right;\">\n",
       "      <th></th>\n",
       "      <th>splice_site_3p_score</th>\n",
       "      <th>splice_site_3p_seq</th>\n",
       "      <th>splice_site_5p_score</th>\n",
       "      <th>splice_site_5p_seq</th>\n",
       "    </tr>\n",
       "    <tr>\n",
       "      <th>event_id</th>\n",
       "      <th></th>\n",
       "      <th></th>\n",
       "      <th></th>\n",
       "      <th></th>\n",
       "    </tr>\n",
       "  </thead>\n",
       "  <tbody>\n",
       "    <tr>\n",
       "      <th>exon:chr10:112359412-112359570:+</th>\n",
       "      <td>-0.42</td>\n",
       "      <td>AAATGGATAATGTCATATAGCAA</td>\n",
       "      <td>10.86</td>\n",
       "      <td>CAGGTAAGT</td>\n",
       "    </tr>\n",
       "    <tr>\n",
       "      <th>exon:chr10:126092367-126092489:-</th>\n",
       "      <td>9.83</td>\n",
       "      <td>TATTCCTGTTTCTTCTGTAGCGT</td>\n",
       "      <td>-1.28</td>\n",
       "      <td>CAGGTTGTC</td>\n",
       "    </tr>\n",
       "    <tr>\n",
       "      <th>exon:chr10:133786538-133786622:-</th>\n",
       "      <td>-1.37</td>\n",
       "      <td>ATTCTATTCACATCGCCAAGCCC</td>\n",
       "      <td>9.88</td>\n",
       "      <td>CAGGTAAGC</td>\n",
       "    </tr>\n",
       "    <tr>\n",
       "      <th>exon:chr10:33218769-33218972:-</th>\n",
       "      <td>4.60</td>\n",
       "      <td>ATATTTTATATGTCATTTAGACA</td>\n",
       "      <td>-7.95</td>\n",
       "      <td>TTGGTTTTG</td>\n",
       "    </tr>\n",
       "    <tr>\n",
       "      <th>exon:chr10:33221434-33221528:-</th>\n",
       "      <td>11.35</td>\n",
       "      <td>TTCTTTCTTCTTTCTGACAGATG</td>\n",
       "      <td>-0.35</td>\n",
       "      <td>AAGGTTGCT</td>\n",
       "    </tr>\n",
       "    <tr>\n",
       "      <th>exon:chr10:92655637-92655674:+</th>\n",
       "      <td>7.34</td>\n",
       "      <td>CTTTGTTCATTTTATTTCAGCCT</td>\n",
       "      <td>-4.71</td>\n",
       "      <td>TCTGTATCC</td>\n",
       "    </tr>\n",
       "    <tr>\n",
       "      <th>exon:chr11:10821099-10821156:-</th>\n",
       "      <td>-0.17</td>\n",
       "      <td>CATATATAAATGGATTAAAGATA</td>\n",
       "      <td>9.14</td>\n",
       "      <td>TAGGTAAGA</td>\n",
       "    </tr>\n",
       "    <tr>\n",
       "      <th>exon:chr11:10827454-10827487:-</th>\n",
       "      <td>-5.09</td>\n",
       "      <td>CAACTCCGCAAACGAAAAAGAAC</td>\n",
       "      <td>10.45</td>\n",
       "      <td>AGGGTAAGT</td>\n",
       "    </tr>\n",
       "    <tr>\n",
       "      <th>exon:chr11:10827454-10827557:-</th>\n",
       "      <td>-4.32</td>\n",
       "      <td>CCCCAGGGCAAAACGCTCAGAAA</td>\n",
       "      <td>10.45</td>\n",
       "      <td>AGGGTAAGT</td>\n",
       "    </tr>\n",
       "    <tr>\n",
       "      <th>exon:chr11:110134685-110134745:-</th>\n",
       "      <td>-19.76</td>\n",
       "      <td>TGTCCAAGCCAAGTATGGAGATT</td>\n",
       "      <td>11.37</td>\n",
       "      <td>GCGGTAAGT</td>\n",
       "    </tr>\n",
       "    <tr>\n",
       "      <th>exon:chr11:118889473-118889680:+</th>\n",
       "      <td>-6.89</td>\n",
       "      <td>GGAGGGGCCGTCGGGTAGAGGCT</td>\n",
       "      <td>6.32</td>\n",
       "      <td>GAGGTGGGC</td>\n",
       "    </tr>\n",
       "    <tr>\n",
       "      <th>exon:chr11:118890915-118890963:+</th>\n",
       "      <td>-21.44</td>\n",
       "      <td>AGGGAAGCTCAGGCATTGAGATG</td>\n",
       "      <td>9.37</td>\n",
       "      <td>CAGGTATGC</td>\n",
       "    </tr>\n",
       "    <tr>\n",
       "      <th>exon:chr11:122929475-122929538:-</th>\n",
       "      <td>6.62</td>\n",
       "      <td>TTGTTTTATTTCCTACCAAGGTT</td>\n",
       "      <td>-0.28</td>\n",
       "      <td>CAGGCATAC</td>\n",
       "    </tr>\n",
       "    <tr>\n",
       "      <th>exon:chr11:122929767-122929811:-</th>\n",
       "      <td>-9.56</td>\n",
       "      <td>TTCCTACCAAGCAGACACAGACC</td>\n",
       "      <td>9.80</td>\n",
       "      <td>CAGGTATGT</td>\n",
       "    </tr>\n",
       "    <tr>\n",
       "      <th>exon:chr11:122930181-122930556:-</th>\n",
       "      <td>-11.79</td>\n",
       "      <td>TTGCTGAGTTTAAGCGCAAGCAT</td>\n",
       "      <td>8.88</td>\n",
       "      <td>CAGGTAACA</td>\n",
       "    </tr>\n",
       "    <tr>\n",
       "      <th>exon:chr11:122930824-122930919:-</th>\n",
       "      <td>-2.10</td>\n",
       "      <td>TTAATGACTCTCAGCGTCAGGCT</td>\n",
       "      <td>9.79</td>\n",
       "      <td>AAGGTATGT</td>\n",
       "    </tr>\n",
       "    <tr>\n",
       "      <th>exon:chr11:122931406-122931506:-</th>\n",
       "      <td>8.12</td>\n",
       "      <td>TCATTTGACACCTTTTACAGATG</td>\n",
       "      <td>-2.00</td>\n",
       "      <td>AAGGTCCAA</td>\n",
       "    </tr>\n",
       "    <tr>\n",
       "      <th>exon:chr11:122931413-122931506:-</th>\n",
       "      <td>8.12</td>\n",
       "      <td>TCATTTGACACCTTTTACAGATG</td>\n",
       "      <td>-9.08</td>\n",
       "      <td>CAGGCCCAA</td>\n",
       "    </tr>\n",
       "    <tr>\n",
       "      <th>exon:chr11:129980433-129980459:+</th>\n",
       "      <td>11.31</td>\n",
       "      <td>TGTGTTTGTTTTCTTAACAGATG</td>\n",
       "      <td>-4.39</td>\n",
       "      <td>AATGTGATG</td>\n",
       "    </tr>\n",
       "    <tr>\n",
       "      <th>exon:chr11:129980469-129980556:+</th>\n",
       "      <td>-13.10</td>\n",
       "      <td>AGATCACAAATGTGATGGAGGCA</td>\n",
       "      <td>11.11</td>\n",
       "      <td>TCGGTGAGT</td>\n",
       "    </tr>\n",
       "    <tr>\n",
       "      <th>exon:chr11:14535363-14535433:-</th>\n",
       "      <td>-9.15</td>\n",
       "      <td>AGCTCGTTAACCAGTCTAAGAGA</td>\n",
       "      <td>9.11</td>\n",
       "      <td>GATGTAAGT</td>\n",
       "    </tr>\n",
       "    <tr>\n",
       "      <th>exon:chr11:14535949-14536037:-</th>\n",
       "      <td>10.18</td>\n",
       "      <td>TTTTTTTGTTTCTTTTTTAGTAA</td>\n",
       "      <td>-5.12</td>\n",
       "      <td>GCAGTATCC</td>\n",
       "    </tr>\n",
       "    <tr>\n",
       "      <th>exon:chr11:18422454-18422557:+</th>\n",
       "      <td>-25.62</td>\n",
       "      <td>CGTCAGCAAGAGGGAGAAAGCCG</td>\n",
       "      <td>10.07</td>\n",
       "      <td>CAGGTGAGG</td>\n",
       "    </tr>\n",
       "    <tr>\n",
       "      <th>exon:chr11:18425241-18425335:+</th>\n",
       "      <td>7.10</td>\n",
       "      <td>GTCTGTACTATTTCTTTTAGTGC</td>\n",
       "      <td>-1.16</td>\n",
       "      <td>GAGGTTCAC</td>\n",
       "    </tr>\n",
       "    <tr>\n",
       "      <th>exon:chr11:244675-244705:+</th>\n",
       "      <td>9.10</td>\n",
       "      <td>TTTTGTTTTTGATGTCTTAGGTG</td>\n",
       "      <td>-6.09</td>\n",
       "      <td>TGTGTAAAA</td>\n",
       "    </tr>\n",
       "    <tr>\n",
       "      <th>exon:chr11:33163213-33163308:-</th>\n",
       "      <td>10.35</td>\n",
       "      <td>TTATTGGTTTTCAATTTTAGAAT</td>\n",
       "      <td>-0.45</td>\n",
       "      <td>GAGGTTACT</td>\n",
       "    </tr>\n",
       "    <tr>\n",
       "      <th>exon:chr11:61068281-61068404:-</th>\n",
       "      <td>-1.53</td>\n",
       "      <td>TCCTTAACTCACCCATCCACCTG</td>\n",
       "      <td>9.60</td>\n",
       "      <td>CAGGTGAGC</td>\n",
       "    </tr>\n",
       "    <tr>\n",
       "      <th>exon:chr11:61069729-61069831:-</th>\n",
       "      <td>9.78</td>\n",
       "      <td>TGCCTCCTTCACTTCTTCAGGGC</td>\n",
       "      <td>-12.51</td>\n",
       "      <td>CTTATATCC</td>\n",
       "    </tr>\n",
       "    <tr>\n",
       "      <th>exon:chr11:61557965-61558074:-</th>\n",
       "      <td>11.35</td>\n",
       "      <td>GATCTCTTTCCCTCCTCTAGGAG</td>\n",
       "      <td>-2.55</td>\n",
       "      <td>CGTGTATCC</td>\n",
       "    </tr>\n",
       "    <tr>\n",
       "      <th>exon:chr11:61734784-61734843:-</th>\n",
       "      <td>-15.03</td>\n",
       "      <td>ACTACCACCAGGACTCAGAGGCC</td>\n",
       "      <td>8.27</td>\n",
       "      <td>ATGGTGAGC</td>\n",
       "    </tr>\n",
       "    <tr>\n",
       "      <th>...</th>\n",
       "      <td>...</td>\n",
       "      <td>...</td>\n",
       "      <td>...</td>\n",
       "      <td>...</td>\n",
       "    </tr>\n",
       "    <tr>\n",
       "      <th>exon:chr7:87839398-87839445:-</th>\n",
       "      <td>-2.20</td>\n",
       "      <td>AATCCTTGATTACAGTTCAGAGA</td>\n",
       "      <td>-19.00</td>\n",
       "      <td>TGGGCTGTA</td>\n",
       "    </tr>\n",
       "    <tr>\n",
       "      <th>exon:chr8:110348362-110348433:+</th>\n",
       "      <td>-1.54</td>\n",
       "      <td>CATGTTGATGTCCAGGTTAGCAA</td>\n",
       "      <td>11.81</td>\n",
       "      <td>ACGGTAAGT</td>\n",
       "    </tr>\n",
       "    <tr>\n",
       "      <th>exon:chr8:144662182-144662343:-</th>\n",
       "      <td>-14.67</td>\n",
       "      <td>CGGACATGGCCCAGCTGGAGGCC</td>\n",
       "      <td>9.30</td>\n",
       "      <td>CACGTGAGT</td>\n",
       "    </tr>\n",
       "    <tr>\n",
       "      <th>exon:chr8:144662676-144662780:-</th>\n",
       "      <td>-23.92</td>\n",
       "      <td>ACAATGAGGAGGAGGACAAGGAG</td>\n",
       "      <td>7.21</td>\n",
       "      <td>CCTGTGAGT</td>\n",
       "    </tr>\n",
       "    <tr>\n",
       "      <th>exon:chr8:17812979-17813162:+</th>\n",
       "      <td>7.36</td>\n",
       "      <td>TGTTGTTGTGCCTTCTTCAGCCT</td>\n",
       "      <td>-1.74</td>\n",
       "      <td>CCAGTAAAA</td>\n",
       "    </tr>\n",
       "    <tr>\n",
       "      <th>exon:chr8:29931393-29931415:-</th>\n",
       "      <td>-8.13</td>\n",
       "      <td>CATACAGTGTCAGAACAAAGGCT</td>\n",
       "      <td>8.55</td>\n",
       "      <td>CAGGTAATA</td>\n",
       "    </tr>\n",
       "    <tr>\n",
       "      <th>exon:chr8:29931505-29931571:-</th>\n",
       "      <td>10.71</td>\n",
       "      <td>CTGTTTTCTTGCTGTTTCAGACA</td>\n",
       "      <td>-2.16</td>\n",
       "      <td>CAGGCTGGA</td>\n",
       "    </tr>\n",
       "    <tr>\n",
       "      <th>exon:chr8:42259306-42259354:+</th>\n",
       "      <td>9.76</td>\n",
       "      <td>TGTTTGTTTGTTTATTGCAGAAA</td>\n",
       "      <td>-14.19</td>\n",
       "      <td>AGTGTTGGC</td>\n",
       "    </tr>\n",
       "    <tr>\n",
       "      <th>exon:chr8:54896923-54897077:-</th>\n",
       "      <td>-3.35</td>\n",
       "      <td>TTTCCTTAACGGCCTGGTACCTA</td>\n",
       "      <td>10.03</td>\n",
       "      <td>GAGGTGAGT</td>\n",
       "    </tr>\n",
       "    <tr>\n",
       "      <th>exon:chr8:55049171-55049225:+</th>\n",
       "      <td>-14.04</td>\n",
       "      <td>CCGCTTGGGCTTTGAGGGAGGCC</td>\n",
       "      <td>9.31</td>\n",
       "      <td>TAGGTAAGG</td>\n",
       "    </tr>\n",
       "    <tr>\n",
       "      <th>exon:chr8:56985676-56985831:-</th>\n",
       "      <td>10.66</td>\n",
       "      <td>TCCTTTGTCTTTTGTTACAGACT</td>\n",
       "      <td>-1.38</td>\n",
       "      <td>GAGGTGGAA</td>\n",
       "    </tr>\n",
       "    <tr>\n",
       "      <th>exon:chr8:56986619-56986709:-</th>\n",
       "      <td>-1.62</td>\n",
       "      <td>TCTAATAATAGGCTTTTAAGGAT</td>\n",
       "      <td>5.85</td>\n",
       "      <td>AGGGTCAGT</td>\n",
       "    </tr>\n",
       "    <tr>\n",
       "      <th>exon:chr8:74204924-74205030:-</th>\n",
       "      <td>-10.79</td>\n",
       "      <td>TTTGTTTATTAACGTTAGAGAGA</td>\n",
       "      <td>11.01</td>\n",
       "      <td>ATGGTAAGT</td>\n",
       "    </tr>\n",
       "    <tr>\n",
       "      <th>exon:chr9:136216406-136216466:+</th>\n",
       "      <td>9.83</td>\n",
       "      <td>TGTCACCCTTTACTTCTCAGGAC</td>\n",
       "      <td>-3.12</td>\n",
       "      <td>CAGGTTGCA</td>\n",
       "    </tr>\n",
       "    <tr>\n",
       "      <th>exon:chr9:136216767-136216907:+</th>\n",
       "      <td>-1.69</td>\n",
       "      <td>ACTGAAGAGTGTTTTTCCAGCTA</td>\n",
       "      <td>10.67</td>\n",
       "      <td>CAGGTGAGT</td>\n",
       "    </tr>\n",
       "    <tr>\n",
       "      <th>exon:chrX:119742080-119742213:+</th>\n",
       "      <td>11.38</td>\n",
       "      <td>TTGTATATCTTTTCTTACAGATC</td>\n",
       "      <td>-4.57</td>\n",
       "      <td>GTTGTATCC</td>\n",
       "    </tr>\n",
       "    <tr>\n",
       "      <th>exon:chrX:153061894-153062007:+</th>\n",
       "      <td>-2.91</td>\n",
       "      <td>CCCTCTTCCCCGCAGCCGAGGCC</td>\n",
       "      <td>9.22</td>\n",
       "      <td>CAGGTGAGA</td>\n",
       "    </tr>\n",
       "    <tr>\n",
       "      <th>exon:chrX:154464510-154464648:+</th>\n",
       "      <td>9.83</td>\n",
       "      <td>TCATGACTTTCTCTCTTCAGGCT</td>\n",
       "      <td>-6.16</td>\n",
       "      <td>TCAGTATCC</td>\n",
       "    </tr>\n",
       "    <tr>\n",
       "      <th>exon:chrX:21990015-21990108:+</th>\n",
       "      <td>9.22</td>\n",
       "      <td>AATTATATTTTCCTTTGTAGCTT</td>\n",
       "      <td>-6.50</td>\n",
       "      <td>AGTGTCGGT</td>\n",
       "    </tr>\n",
       "    <tr>\n",
       "      <th>exon:chrX:21996078-21996232:+</th>\n",
       "      <td>10.69</td>\n",
       "      <td>GATCTGTTTCTCCTCCCTAGATT</td>\n",
       "      <td>-0.60</td>\n",
       "      <td>GAGATATCC</td>\n",
       "    </tr>\n",
       "    <tr>\n",
       "      <th>exon:chrX:21996995-21997084:+</th>\n",
       "      <td>-13.39</td>\n",
       "      <td>CTCCTTAACCTGTTGCGGACATT</td>\n",
       "      <td>8.55</td>\n",
       "      <td>CAGGTAATT</td>\n",
       "    </tr>\n",
       "    <tr>\n",
       "      <th>exon:chrX:22010715-22010830:+</th>\n",
       "      <td>10.43</td>\n",
       "      <td>CTTATCTCTCTTTGATTTAGGGG</td>\n",
       "      <td>-3.50</td>\n",
       "      <td>ATTGTATCC</td>\n",
       "    </tr>\n",
       "    <tr>\n",
       "      <th>exon:chrX:41201748-41201803:+</th>\n",
       "      <td>5.34</td>\n",
       "      <td>TAATTGCTTGTGCTGTTCAGGTT</td>\n",
       "      <td>-6.22</td>\n",
       "      <td>GAAGTGGCT</td>\n",
       "    </tr>\n",
       "    <tr>\n",
       "      <th>exon:chrX:41201990-41202089:+</th>\n",
       "      <td>-1.87</td>\n",
       "      <td>TATCCATTTTTTGATTTGAGGGA</td>\n",
       "      <td>6.96</td>\n",
       "      <td>AGTGTGAGT</td>\n",
       "    </tr>\n",
       "    <tr>\n",
       "      <th>exon:chrX:54836155-54836241:+</th>\n",
       "      <td>12.62</td>\n",
       "      <td>TTCCCTGCTTCCTCTTGCAGGCT</td>\n",
       "      <td>-8.64</td>\n",
       "      <td>AAGGCCTCA</td>\n",
       "    </tr>\n",
       "    <tr>\n",
       "      <th>exon:chrX:54837254-54837337:+</th>\n",
       "      <td>10.52</td>\n",
       "      <td>CTTCCTCTCTGTTGATGCAGGTG</td>\n",
       "      <td>-8.45</td>\n",
       "      <td>AAGGCCCTA</td>\n",
       "    </tr>\n",
       "    <tr>\n",
       "      <th>exon:chrX:54837479-54837562:+</th>\n",
       "      <td>-12.55</td>\n",
       "      <td>CTAAAGCCCGTAGGGGCAAGGCT</td>\n",
       "      <td>9.21</td>\n",
       "      <td>AGGGTAAGA</td>\n",
       "    </tr>\n",
       "    <tr>\n",
       "      <th>exon:chrX:70517693-70517788:+</th>\n",
       "      <td>-18.86</td>\n",
       "      <td>TGACTCTCTGTAGGCAGGAGGAA</td>\n",
       "      <td>5.01</td>\n",
       "      <td>GCGGTATAT</td>\n",
       "    </tr>\n",
       "    <tr>\n",
       "      <th>exon:chrX:77369241-77369331:+</th>\n",
       "      <td>10.73</td>\n",
       "      <td>TTGTCTCTCTTTGGTTGCAGGAT</td>\n",
       "      <td>-8.42</td>\n",
       "      <td>GGTGTGCCC</td>\n",
       "    </tr>\n",
       "    <tr>\n",
       "      <th>exon:chrX:77373642-77373667:+</th>\n",
       "      <td>-28.41</td>\n",
       "      <td>AGGCCTTGGAGAGCCCAGAGCGA</td>\n",
       "      <td>7.63</td>\n",
       "      <td>CGGGTATGA</td>\n",
       "    </tr>\n",
       "  </tbody>\n",
       "</table>\n",
       "<p>298 rows × 4 columns</p>\n",
       "</div>"
      ],
      "text/plain": [
       "                                  splice_site_3p_score  \\\n",
       "event_id                                                 \n",
       "exon:chr10:112359412-112359570:+                 -0.42   \n",
       "exon:chr10:126092367-126092489:-                  9.83   \n",
       "exon:chr10:133786538-133786622:-                 -1.37   \n",
       "exon:chr10:33218769-33218972:-                    4.60   \n",
       "exon:chr10:33221434-33221528:-                   11.35   \n",
       "exon:chr10:92655637-92655674:+                    7.34   \n",
       "exon:chr11:10821099-10821156:-                   -0.17   \n",
       "exon:chr11:10827454-10827487:-                   -5.09   \n",
       "exon:chr11:10827454-10827557:-                   -4.32   \n",
       "exon:chr11:110134685-110134745:-                -19.76   \n",
       "exon:chr11:118889473-118889680:+                 -6.89   \n",
       "exon:chr11:118890915-118890963:+                -21.44   \n",
       "exon:chr11:122929475-122929538:-                  6.62   \n",
       "exon:chr11:122929767-122929811:-                 -9.56   \n",
       "exon:chr11:122930181-122930556:-                -11.79   \n",
       "exon:chr11:122930824-122930919:-                 -2.10   \n",
       "exon:chr11:122931406-122931506:-                  8.12   \n",
       "exon:chr11:122931413-122931506:-                  8.12   \n",
       "exon:chr11:129980433-129980459:+                 11.31   \n",
       "exon:chr11:129980469-129980556:+                -13.10   \n",
       "exon:chr11:14535363-14535433:-                   -9.15   \n",
       "exon:chr11:14535949-14536037:-                   10.18   \n",
       "exon:chr11:18422454-18422557:+                  -25.62   \n",
       "exon:chr11:18425241-18425335:+                    7.10   \n",
       "exon:chr11:244675-244705:+                        9.10   \n",
       "exon:chr11:33163213-33163308:-                   10.35   \n",
       "exon:chr11:61068281-61068404:-                   -1.53   \n",
       "exon:chr11:61069729-61069831:-                    9.78   \n",
       "exon:chr11:61557965-61558074:-                   11.35   \n",
       "exon:chr11:61734784-61734843:-                  -15.03   \n",
       "...                                                ...   \n",
       "exon:chr7:87839398-87839445:-                    -2.20   \n",
       "exon:chr8:110348362-110348433:+                  -1.54   \n",
       "exon:chr8:144662182-144662343:-                 -14.67   \n",
       "exon:chr8:144662676-144662780:-                 -23.92   \n",
       "exon:chr8:17812979-17813162:+                     7.36   \n",
       "exon:chr8:29931393-29931415:-                    -8.13   \n",
       "exon:chr8:29931505-29931571:-                    10.71   \n",
       "exon:chr8:42259306-42259354:+                     9.76   \n",
       "exon:chr8:54896923-54897077:-                    -3.35   \n",
       "exon:chr8:55049171-55049225:+                   -14.04   \n",
       "exon:chr8:56985676-56985831:-                    10.66   \n",
       "exon:chr8:56986619-56986709:-                    -1.62   \n",
       "exon:chr8:74204924-74205030:-                   -10.79   \n",
       "exon:chr9:136216406-136216466:+                   9.83   \n",
       "exon:chr9:136216767-136216907:+                  -1.69   \n",
       "exon:chrX:119742080-119742213:+                  11.38   \n",
       "exon:chrX:153061894-153062007:+                  -2.91   \n",
       "exon:chrX:154464510-154464648:+                   9.83   \n",
       "exon:chrX:21990015-21990108:+                     9.22   \n",
       "exon:chrX:21996078-21996232:+                    10.69   \n",
       "exon:chrX:21996995-21997084:+                   -13.39   \n",
       "exon:chrX:22010715-22010830:+                    10.43   \n",
       "exon:chrX:41201748-41201803:+                     5.34   \n",
       "exon:chrX:41201990-41202089:+                    -1.87   \n",
       "exon:chrX:54836155-54836241:+                    12.62   \n",
       "exon:chrX:54837254-54837337:+                    10.52   \n",
       "exon:chrX:54837479-54837562:+                   -12.55   \n",
       "exon:chrX:70517693-70517788:+                   -18.86   \n",
       "exon:chrX:77369241-77369331:+                    10.73   \n",
       "exon:chrX:77373642-77373667:+                   -28.41   \n",
       "\n",
       "                                       splice_site_3p_seq  \\\n",
       "event_id                                                    \n",
       "exon:chr10:112359412-112359570:+  AAATGGATAATGTCATATAGCAA   \n",
       "exon:chr10:126092367-126092489:-  TATTCCTGTTTCTTCTGTAGCGT   \n",
       "exon:chr10:133786538-133786622:-  ATTCTATTCACATCGCCAAGCCC   \n",
       "exon:chr10:33218769-33218972:-    ATATTTTATATGTCATTTAGACA   \n",
       "exon:chr10:33221434-33221528:-    TTCTTTCTTCTTTCTGACAGATG   \n",
       "exon:chr10:92655637-92655674:+    CTTTGTTCATTTTATTTCAGCCT   \n",
       "exon:chr11:10821099-10821156:-    CATATATAAATGGATTAAAGATA   \n",
       "exon:chr11:10827454-10827487:-    CAACTCCGCAAACGAAAAAGAAC   \n",
       "exon:chr11:10827454-10827557:-    CCCCAGGGCAAAACGCTCAGAAA   \n",
       "exon:chr11:110134685-110134745:-  TGTCCAAGCCAAGTATGGAGATT   \n",
       "exon:chr11:118889473-118889680:+  GGAGGGGCCGTCGGGTAGAGGCT   \n",
       "exon:chr11:118890915-118890963:+  AGGGAAGCTCAGGCATTGAGATG   \n",
       "exon:chr11:122929475-122929538:-  TTGTTTTATTTCCTACCAAGGTT   \n",
       "exon:chr11:122929767-122929811:-  TTCCTACCAAGCAGACACAGACC   \n",
       "exon:chr11:122930181-122930556:-  TTGCTGAGTTTAAGCGCAAGCAT   \n",
       "exon:chr11:122930824-122930919:-  TTAATGACTCTCAGCGTCAGGCT   \n",
       "exon:chr11:122931406-122931506:-  TCATTTGACACCTTTTACAGATG   \n",
       "exon:chr11:122931413-122931506:-  TCATTTGACACCTTTTACAGATG   \n",
       "exon:chr11:129980433-129980459:+  TGTGTTTGTTTTCTTAACAGATG   \n",
       "exon:chr11:129980469-129980556:+  AGATCACAAATGTGATGGAGGCA   \n",
       "exon:chr11:14535363-14535433:-    AGCTCGTTAACCAGTCTAAGAGA   \n",
       "exon:chr11:14535949-14536037:-    TTTTTTTGTTTCTTTTTTAGTAA   \n",
       "exon:chr11:18422454-18422557:+    CGTCAGCAAGAGGGAGAAAGCCG   \n",
       "exon:chr11:18425241-18425335:+    GTCTGTACTATTTCTTTTAGTGC   \n",
       "exon:chr11:244675-244705:+        TTTTGTTTTTGATGTCTTAGGTG   \n",
       "exon:chr11:33163213-33163308:-    TTATTGGTTTTCAATTTTAGAAT   \n",
       "exon:chr11:61068281-61068404:-    TCCTTAACTCACCCATCCACCTG   \n",
       "exon:chr11:61069729-61069831:-    TGCCTCCTTCACTTCTTCAGGGC   \n",
       "exon:chr11:61557965-61558074:-    GATCTCTTTCCCTCCTCTAGGAG   \n",
       "exon:chr11:61734784-61734843:-    ACTACCACCAGGACTCAGAGGCC   \n",
       "...                                                   ...   \n",
       "exon:chr7:87839398-87839445:-     AATCCTTGATTACAGTTCAGAGA   \n",
       "exon:chr8:110348362-110348433:+   CATGTTGATGTCCAGGTTAGCAA   \n",
       "exon:chr8:144662182-144662343:-   CGGACATGGCCCAGCTGGAGGCC   \n",
       "exon:chr8:144662676-144662780:-   ACAATGAGGAGGAGGACAAGGAG   \n",
       "exon:chr8:17812979-17813162:+     TGTTGTTGTGCCTTCTTCAGCCT   \n",
       "exon:chr8:29931393-29931415:-     CATACAGTGTCAGAACAAAGGCT   \n",
       "exon:chr8:29931505-29931571:-     CTGTTTTCTTGCTGTTTCAGACA   \n",
       "exon:chr8:42259306-42259354:+     TGTTTGTTTGTTTATTGCAGAAA   \n",
       "exon:chr8:54896923-54897077:-     TTTCCTTAACGGCCTGGTACCTA   \n",
       "exon:chr8:55049171-55049225:+     CCGCTTGGGCTTTGAGGGAGGCC   \n",
       "exon:chr8:56985676-56985831:-     TCCTTTGTCTTTTGTTACAGACT   \n",
       "exon:chr8:56986619-56986709:-     TCTAATAATAGGCTTTTAAGGAT   \n",
       "exon:chr8:74204924-74205030:-     TTTGTTTATTAACGTTAGAGAGA   \n",
       "exon:chr9:136216406-136216466:+   TGTCACCCTTTACTTCTCAGGAC   \n",
       "exon:chr9:136216767-136216907:+   ACTGAAGAGTGTTTTTCCAGCTA   \n",
       "exon:chrX:119742080-119742213:+   TTGTATATCTTTTCTTACAGATC   \n",
       "exon:chrX:153061894-153062007:+   CCCTCTTCCCCGCAGCCGAGGCC   \n",
       "exon:chrX:154464510-154464648:+   TCATGACTTTCTCTCTTCAGGCT   \n",
       "exon:chrX:21990015-21990108:+     AATTATATTTTCCTTTGTAGCTT   \n",
       "exon:chrX:21996078-21996232:+     GATCTGTTTCTCCTCCCTAGATT   \n",
       "exon:chrX:21996995-21997084:+     CTCCTTAACCTGTTGCGGACATT   \n",
       "exon:chrX:22010715-22010830:+     CTTATCTCTCTTTGATTTAGGGG   \n",
       "exon:chrX:41201748-41201803:+     TAATTGCTTGTGCTGTTCAGGTT   \n",
       "exon:chrX:41201990-41202089:+     TATCCATTTTTTGATTTGAGGGA   \n",
       "exon:chrX:54836155-54836241:+     TTCCCTGCTTCCTCTTGCAGGCT   \n",
       "exon:chrX:54837254-54837337:+     CTTCCTCTCTGTTGATGCAGGTG   \n",
       "exon:chrX:54837479-54837562:+     CTAAAGCCCGTAGGGGCAAGGCT   \n",
       "exon:chrX:70517693-70517788:+     TGACTCTCTGTAGGCAGGAGGAA   \n",
       "exon:chrX:77369241-77369331:+     TTGTCTCTCTTTGGTTGCAGGAT   \n",
       "exon:chrX:77373642-77373667:+     AGGCCTTGGAGAGCCCAGAGCGA   \n",
       "\n",
       "                                  splice_site_5p_score splice_site_5p_seq  \n",
       "event_id                                                                   \n",
       "exon:chr10:112359412-112359570:+                 10.86          CAGGTAAGT  \n",
       "exon:chr10:126092367-126092489:-                 -1.28          CAGGTTGTC  \n",
       "exon:chr10:133786538-133786622:-                  9.88          CAGGTAAGC  \n",
       "exon:chr10:33218769-33218972:-                   -7.95          TTGGTTTTG  \n",
       "exon:chr10:33221434-33221528:-                   -0.35          AAGGTTGCT  \n",
       "exon:chr10:92655637-92655674:+                   -4.71          TCTGTATCC  \n",
       "exon:chr11:10821099-10821156:-                    9.14          TAGGTAAGA  \n",
       "exon:chr11:10827454-10827487:-                   10.45          AGGGTAAGT  \n",
       "exon:chr11:10827454-10827557:-                   10.45          AGGGTAAGT  \n",
       "exon:chr11:110134685-110134745:-                 11.37          GCGGTAAGT  \n",
       "exon:chr11:118889473-118889680:+                  6.32          GAGGTGGGC  \n",
       "exon:chr11:118890915-118890963:+                  9.37          CAGGTATGC  \n",
       "exon:chr11:122929475-122929538:-                 -0.28          CAGGCATAC  \n",
       "exon:chr11:122929767-122929811:-                  9.80          CAGGTATGT  \n",
       "exon:chr11:122930181-122930556:-                  8.88          CAGGTAACA  \n",
       "exon:chr11:122930824-122930919:-                  9.79          AAGGTATGT  \n",
       "exon:chr11:122931406-122931506:-                 -2.00          AAGGTCCAA  \n",
       "exon:chr11:122931413-122931506:-                 -9.08          CAGGCCCAA  \n",
       "exon:chr11:129980433-129980459:+                 -4.39          AATGTGATG  \n",
       "exon:chr11:129980469-129980556:+                 11.11          TCGGTGAGT  \n",
       "exon:chr11:14535363-14535433:-                    9.11          GATGTAAGT  \n",
       "exon:chr11:14535949-14536037:-                   -5.12          GCAGTATCC  \n",
       "exon:chr11:18422454-18422557:+                   10.07          CAGGTGAGG  \n",
       "exon:chr11:18425241-18425335:+                   -1.16          GAGGTTCAC  \n",
       "exon:chr11:244675-244705:+                       -6.09          TGTGTAAAA  \n",
       "exon:chr11:33163213-33163308:-                   -0.45          GAGGTTACT  \n",
       "exon:chr11:61068281-61068404:-                    9.60          CAGGTGAGC  \n",
       "exon:chr11:61069729-61069831:-                  -12.51          CTTATATCC  \n",
       "exon:chr11:61557965-61558074:-                   -2.55          CGTGTATCC  \n",
       "exon:chr11:61734784-61734843:-                    8.27          ATGGTGAGC  \n",
       "...                                                ...                ...  \n",
       "exon:chr7:87839398-87839445:-                   -19.00          TGGGCTGTA  \n",
       "exon:chr8:110348362-110348433:+                  11.81          ACGGTAAGT  \n",
       "exon:chr8:144662182-144662343:-                   9.30          CACGTGAGT  \n",
       "exon:chr8:144662676-144662780:-                   7.21          CCTGTGAGT  \n",
       "exon:chr8:17812979-17813162:+                    -1.74          CCAGTAAAA  \n",
       "exon:chr8:29931393-29931415:-                     8.55          CAGGTAATA  \n",
       "exon:chr8:29931505-29931571:-                    -2.16          CAGGCTGGA  \n",
       "exon:chr8:42259306-42259354:+                   -14.19          AGTGTTGGC  \n",
       "exon:chr8:54896923-54897077:-                    10.03          GAGGTGAGT  \n",
       "exon:chr8:55049171-55049225:+                     9.31          TAGGTAAGG  \n",
       "exon:chr8:56985676-56985831:-                    -1.38          GAGGTGGAA  \n",
       "exon:chr8:56986619-56986709:-                     5.85          AGGGTCAGT  \n",
       "exon:chr8:74204924-74205030:-                    11.01          ATGGTAAGT  \n",
       "exon:chr9:136216406-136216466:+                  -3.12          CAGGTTGCA  \n",
       "exon:chr9:136216767-136216907:+                  10.67          CAGGTGAGT  \n",
       "exon:chrX:119742080-119742213:+                  -4.57          GTTGTATCC  \n",
       "exon:chrX:153061894-153062007:+                   9.22          CAGGTGAGA  \n",
       "exon:chrX:154464510-154464648:+                  -6.16          TCAGTATCC  \n",
       "exon:chrX:21990015-21990108:+                    -6.50          AGTGTCGGT  \n",
       "exon:chrX:21996078-21996232:+                    -0.60          GAGATATCC  \n",
       "exon:chrX:21996995-21997084:+                     8.55          CAGGTAATT  \n",
       "exon:chrX:22010715-22010830:+                    -3.50          ATTGTATCC  \n",
       "exon:chrX:41201748-41201803:+                    -6.22          GAAGTGGCT  \n",
       "exon:chrX:41201990-41202089:+                     6.96          AGTGTGAGT  \n",
       "exon:chrX:54836155-54836241:+                    -8.64          AAGGCCTCA  \n",
       "exon:chrX:54837254-54837337:+                    -8.45          AAGGCCCTA  \n",
       "exon:chrX:54837479-54837562:+                     9.21          AGGGTAAGA  \n",
       "exon:chrX:70517693-70517788:+                     5.01          GCGGTATAT  \n",
       "exon:chrX:77369241-77369331:+                    -8.42          GGTGTGCCC  \n",
       "exon:chrX:77373642-77373667:+                     7.63          CGGGTATGA  \n",
       "\n",
       "[298 rows x 4 columns]"
      ]
     },
     "execution_count": 95,
     "metadata": {},
     "output_type": "execute_result"
    }
   ],
   "source": [
    "constitutive_maxentscan.loc[(constitutive_maxentscan[score_cols] < 0).any(axis=1)]"
   ]
  },
  {
   "cell_type": "code",
   "execution_count": 96,
   "metadata": {
    "collapsed": false
   },
   "outputs": [
    {
     "name": "stdout",
     "output_type": "stream",
     "text": [
      "(17679, 7)\n"
     ]
    },
    {
     "data": {
      "text/html": [
       "<div>\n",
       "<table border=\"1\" class=\"dataframe\">\n",
       "  <thead>\n",
       "    <tr style=\"text-align: right;\">\n",
       "      <th></th>\n",
       "      <th>event_id</th>\n",
       "      <th>splice_site_3p_score</th>\n",
       "      <th>splice_site_3p_seq</th>\n",
       "      <th>splice_site_5p_score</th>\n",
       "      <th>splice_site_5p_seq</th>\n",
       "      <th>modality</th>\n",
       "      <th>phenotype</th>\n",
       "    </tr>\n",
       "  </thead>\n",
       "  <tbody>\n",
       "    <tr>\n",
       "      <th>0</th>\n",
       "      <td>exon:chr10:102039881-102039985:-</td>\n",
       "      <td>8.01</td>\n",
       "      <td>GTTTTTCTTTGTTTTTAAAGATG</td>\n",
       "      <td>3.95</td>\n",
       "      <td>TGGGTAACC</td>\n",
       "      <td>constitutive</td>\n",
       "      <td>iPSC</td>\n",
       "    </tr>\n",
       "    <tr>\n",
       "      <th>1</th>\n",
       "      <td>exon:chr10:102040691-102040810:-</td>\n",
       "      <td>5.71</td>\n",
       "      <td>TCTTCTGTTTAATTTTCAAGCCA</td>\n",
       "      <td>8.62</td>\n",
       "      <td>AATGTAAGT</td>\n",
       "      <td>constitutive</td>\n",
       "      <td>iPSC</td>\n",
       "    </tr>\n",
       "    <tr>\n",
       "      <th>2</th>\n",
       "      <td>exon:chr10:102045854-102045970:-</td>\n",
       "      <td>5.19</td>\n",
       "      <td>GTCATTCTCCCTTGGCCCAGACG</td>\n",
       "      <td>8.48</td>\n",
       "      <td>CGGGTGAGG</td>\n",
       "      <td>constitutive</td>\n",
       "      <td>iPSC</td>\n",
       "    </tr>\n",
       "    <tr>\n",
       "      <th>3</th>\n",
       "      <td>exon:chr10:102286732-102286831:-</td>\n",
       "      <td>9.47</td>\n",
       "      <td>AAGTTCTTGCTGTCTTTCAGGTA</td>\n",
       "      <td>10.10</td>\n",
       "      <td>CCGGTAAGA</td>\n",
       "      <td>constitutive</td>\n",
       "      <td>iPSC</td>\n",
       "    </tr>\n",
       "    <tr>\n",
       "      <th>4</th>\n",
       "      <td>exon:chr10:102289123-102289263:-</td>\n",
       "      <td>8.05</td>\n",
       "      <td>TGTTCTCTTCTGCGTTCTAGCCT</td>\n",
       "      <td>7.47</td>\n",
       "      <td>AGGGTATGC</td>\n",
       "      <td>constitutive</td>\n",
       "      <td>iPSC</td>\n",
       "    </tr>\n",
       "  </tbody>\n",
       "</table>\n",
       "</div>"
      ],
      "text/plain": [
       "                           event_id  splice_site_3p_score  \\\n",
       "0  exon:chr10:102039881-102039985:-                  8.01   \n",
       "1  exon:chr10:102040691-102040810:-                  5.71   \n",
       "2  exon:chr10:102045854-102045970:-                  5.19   \n",
       "3  exon:chr10:102286732-102286831:-                  9.47   \n",
       "4  exon:chr10:102289123-102289263:-                  8.05   \n",
       "\n",
       "        splice_site_3p_seq  splice_site_5p_score splice_site_5p_seq  \\\n",
       "0  GTTTTTCTTTGTTTTTAAAGATG                  3.95          TGGGTAACC   \n",
       "1  TCTTCTGTTTAATTTTCAAGCCA                  8.62          AATGTAAGT   \n",
       "2  GTCATTCTCCCTTGGCCCAGACG                  8.48          CGGGTGAGG   \n",
       "3  AAGTTCTTGCTGTCTTTCAGGTA                 10.10          CCGGTAAGA   \n",
       "4  TGTTCTCTTCTGCGTTCTAGCCT                  7.47          AGGGTATGC   \n",
       "\n",
       "       modality phenotype  \n",
       "0  constitutive      iPSC  \n",
       "1  constitutive      iPSC  \n",
       "2  constitutive      iPSC  \n",
       "3  constitutive      iPSC  \n",
       "4  constitutive      iPSC  "
      ]
     },
     "execution_count": 96,
     "metadata": {},
     "output_type": "execute_result"
    }
   ],
   "source": [
    "constitutive_maxentscan_modalities = make_phenotype_modality_format(constitutive_maxentscan)\n",
    "constitutive_maxentscan_modalities.head()"
   ]
  },
  {
   "cell_type": "code",
   "execution_count": 97,
   "metadata": {
    "collapsed": false
   },
   "outputs": [
    {
     "data": {
      "text/html": [
       "<div>\n",
       "<table border=\"1\" class=\"dataframe\">\n",
       "  <thead>\n",
       "    <tr style=\"text-align: right;\">\n",
       "      <th></th>\n",
       "      <th>splice_site_3p_score</th>\n",
       "      <th>splice_site_3p_seq</th>\n",
       "      <th>splice_site_5p_score</th>\n",
       "      <th>splice_site_5p_seq</th>\n",
       "    </tr>\n",
       "    <tr>\n",
       "      <th>event_id</th>\n",
       "      <th></th>\n",
       "      <th></th>\n",
       "      <th></th>\n",
       "      <th></th>\n",
       "    </tr>\n",
       "  </thead>\n",
       "  <tbody>\n",
       "    <tr>\n",
       "      <th>exon:chr15:66795029-66795088:-</th>\n",
       "      <td>-2.26</td>\n",
       "      <td>ATTCTTGACTGGAAAAATAGATG</td>\n",
       "      <td>-5.89</td>\n",
       "      <td>AGAGTGAAC</td>\n",
       "    </tr>\n",
       "    <tr>\n",
       "      <th>exon:chr7:87839398-87839445:-</th>\n",
       "      <td>-2.20</td>\n",
       "      <td>AATCCTTGATTACAGTTCAGAGA</td>\n",
       "      <td>-19.00</td>\n",
       "      <td>TGGGCTGTA</td>\n",
       "    </tr>\n",
       "  </tbody>\n",
       "</table>\n",
       "</div>"
      ],
      "text/plain": [
       "                                splice_site_3p_score       splice_site_3p_seq  \\\n",
       "event_id                                                                        \n",
       "exon:chr15:66795029-66795088:-                 -2.26  ATTCTTGACTGGAAAAATAGATG   \n",
       "exon:chr7:87839398-87839445:-                  -2.20  AATCCTTGATTACAGTTCAGAGA   \n",
       "\n",
       "                                splice_site_5p_score splice_site_5p_seq  \n",
       "event_id                                                                 \n",
       "exon:chr15:66795029-66795088:-                 -5.89          AGAGTGAAC  \n",
       "exon:chr7:87839398-87839445:-                 -19.00          TGGGCTGTA  "
      ]
     },
     "execution_count": 97,
     "metadata": {},
     "output_type": "execute_result"
    }
   ],
   "source": [
    "constitutive_maxentscan.loc[(constitutive_maxentscan[score_cols] < 0).all(axis=1)]"
   ]
  },
  {
   "cell_type": "code",
   "execution_count": 98,
   "metadata": {
    "collapsed": false
   },
   "outputs": [
    {
     "data": {
      "text/html": [
       "<div>\n",
       "<table border=\"1\" class=\"dataframe\">\n",
       "  <thead>\n",
       "    <tr style=\"text-align: right;\">\n",
       "      <th></th>\n",
       "      <th>splice_site_3p_score</th>\n",
       "      <th>splice_site_3p_seq</th>\n",
       "      <th>splice_site_5p_score</th>\n",
       "      <th>splice_site_5p_seq</th>\n",
       "    </tr>\n",
       "    <tr>\n",
       "      <th>event_id</th>\n",
       "      <th></th>\n",
       "      <th></th>\n",
       "      <th></th>\n",
       "      <th></th>\n",
       "    </tr>\n",
       "  </thead>\n",
       "  <tbody>\n",
       "    <tr>\n",
       "      <th>exon:chr10:102003455-102003534:-@exon:chr10:101997779-101997988:-@exon:chr10:101996607-101996726:-@exon:chr10:101995424-101995521:-</th>\n",
       "      <td>7.84</td>\n",
       "      <td>TCTGTGTGCTGCTTCTTCAGTGC</td>\n",
       "      <td>10.28</td>\n",
       "      <td>CAGGTAGGT</td>\n",
       "    </tr>\n",
       "    <tr>\n",
       "      <th>exon:chr10:102013178-102013296:-@exon:chr10:102010005-102010089:-@exon:chr10:102003455-102003534:-@exon:chr10:101997940-101997988:-</th>\n",
       "      <td>6.56</td>\n",
       "      <td>GTCTCTCAAATATGTTGTAGAAA</td>\n",
       "      <td>9.06</td>\n",
       "      <td>AAGGTAAAG</td>\n",
       "    </tr>\n",
       "    <tr>\n",
       "      <th>exon:chr10:102020723-102020801:-@exon:chr10:102019975-102020076:-@exon:chr10:102016019-102016233:-@exon:chr10:102013178-102013296:-</th>\n",
       "      <td>8.47</td>\n",
       "      <td>ATGTCTGTTTCCCTCACTAGCTC</td>\n",
       "      <td>8.84</td>\n",
       "      <td>TGGGTAAGC</td>\n",
       "    </tr>\n",
       "    <tr>\n",
       "      <th>exon:chr10:102021736-102021820:-@exon:chr10:102019975-102020076:-@exon:chr10:102016019-102016233:-@exon:chr10:102013178-102013296:-</th>\n",
       "      <td>8.47</td>\n",
       "      <td>ATGTCTGTTTCCCTCACTAGCTC</td>\n",
       "      <td>8.84</td>\n",
       "      <td>TGGGTAAGC</td>\n",
       "    </tr>\n",
       "    <tr>\n",
       "      <th>exon:chr10:102021736-102021820:-@exon:chr10:102020723-102020785:-@exon:chr10:102016019-102016233:-@exon:chr10:102013178-102013296:-</th>\n",
       "      <td>7.14</td>\n",
       "      <td>TTAGCTGCTGTTGTGTGTAGGAA</td>\n",
       "      <td>7.98</td>\n",
       "      <td>AAGGTATAG</td>\n",
       "    </tr>\n",
       "  </tbody>\n",
       "</table>\n",
       "</div>"
      ],
      "text/plain": [
       "                                                    splice_site_3p_score  \\\n",
       "event_id                                                                   \n",
       "exon:chr10:102003455-102003534:-@exon:chr10:101...                  7.84   \n",
       "exon:chr10:102013178-102013296:-@exon:chr10:102...                  6.56   \n",
       "exon:chr10:102020723-102020801:-@exon:chr10:102...                  8.47   \n",
       "exon:chr10:102021736-102021820:-@exon:chr10:102...                  8.47   \n",
       "exon:chr10:102021736-102021820:-@exon:chr10:102...                  7.14   \n",
       "\n",
       "                                                         splice_site_3p_seq  \\\n",
       "event_id                                                                      \n",
       "exon:chr10:102003455-102003534:-@exon:chr10:101...  TCTGTGTGCTGCTTCTTCAGTGC   \n",
       "exon:chr10:102013178-102013296:-@exon:chr10:102...  GTCTCTCAAATATGTTGTAGAAA   \n",
       "exon:chr10:102020723-102020801:-@exon:chr10:102...  ATGTCTGTTTCCCTCACTAGCTC   \n",
       "exon:chr10:102021736-102021820:-@exon:chr10:102...  ATGTCTGTTTCCCTCACTAGCTC   \n",
       "exon:chr10:102021736-102021820:-@exon:chr10:102...  TTAGCTGCTGTTGTGTGTAGGAA   \n",
       "\n",
       "                                                    splice_site_5p_score  \\\n",
       "event_id                                                                   \n",
       "exon:chr10:102003455-102003534:-@exon:chr10:101...                 10.28   \n",
       "exon:chr10:102013178-102013296:-@exon:chr10:102...                  9.06   \n",
       "exon:chr10:102020723-102020801:-@exon:chr10:102...                  8.84   \n",
       "exon:chr10:102021736-102021820:-@exon:chr10:102...                  8.84   \n",
       "exon:chr10:102021736-102021820:-@exon:chr10:102...                  7.98   \n",
       "\n",
       "                                                   splice_site_5p_seq  \n",
       "event_id                                                               \n",
       "exon:chr10:102003455-102003534:-@exon:chr10:101...          CAGGTAGGT  \n",
       "exon:chr10:102013178-102013296:-@exon:chr10:102...          AAGGTAAAG  \n",
       "exon:chr10:102020723-102020801:-@exon:chr10:102...          TGGGTAAGC  \n",
       "exon:chr10:102021736-102021820:-@exon:chr10:102...          TGGGTAAGC  \n",
       "exon:chr10:102021736-102021820:-@exon:chr10:102...          AAGGTATAG  "
      ]
     },
     "execution_count": 98,
     "metadata": {},
     "output_type": "execute_result"
    }
   ],
   "source": [
    "alternative_maxentscan = pd.read_csv('{}/{}'.format(alternative_feature_folder, csv), index_col=0)\n",
    "alternative_maxentscan.index.name = 'event_id'\n",
    "alternative_maxentscan.head()"
   ]
  },
  {
   "cell_type": "code",
   "execution_count": 99,
   "metadata": {
    "collapsed": false
   },
   "outputs": [
    {
     "data": {
      "text/html": [
       "<div>\n",
       "<table border=\"1\" class=\"dataframe\">\n",
       "  <thead>\n",
       "    <tr style=\"text-align: right;\">\n",
       "      <th></th>\n",
       "      <th>event_id</th>\n",
       "      <th>modality</th>\n",
       "      <th>phenotype</th>\n",
       "      <th>splice_site_3p_score</th>\n",
       "      <th>splice_site_3p_seq</th>\n",
       "      <th>splice_site_5p_score</th>\n",
       "      <th>splice_site_5p_seq</th>\n",
       "    </tr>\n",
       "  </thead>\n",
       "  <tbody>\n",
       "    <tr>\n",
       "      <th>5888</th>\n",
       "      <td>exon:chrX:80532483-80532668:+</td>\n",
       "      <td>constitutive</td>\n",
       "      <td>MN</td>\n",
       "      <td>8.56</td>\n",
       "      <td>TTCTTGTCCTTTGGTCCTAGATT</td>\n",
       "      <td>7.83</td>\n",
       "      <td>GGGGTAAGA</td>\n",
       "    </tr>\n",
       "    <tr>\n",
       "      <th>5889</th>\n",
       "      <td>exon:chrX:80533830-80533910:+</td>\n",
       "      <td>constitutive</td>\n",
       "      <td>MN</td>\n",
       "      <td>7.00</td>\n",
       "      <td>CTTATCTTCTTTTCATCAAGGAC</td>\n",
       "      <td>9.11</td>\n",
       "      <td>AAGGTATGA</td>\n",
       "    </tr>\n",
       "    <tr>\n",
       "      <th>5890</th>\n",
       "      <td>exon:chrX:99887482-99887565:-</td>\n",
       "      <td>constitutive</td>\n",
       "      <td>MN</td>\n",
       "      <td>11.13</td>\n",
       "      <td>TGTTTTTTTCCTCCCATTAGGGT</td>\n",
       "      <td>10.08</td>\n",
       "      <td>CAAGTAAGT</td>\n",
       "    </tr>\n",
       "    <tr>\n",
       "      <th>5891</th>\n",
       "      <td>exon:chrX:99890175-99890249:-</td>\n",
       "      <td>constitutive</td>\n",
       "      <td>MN</td>\n",
       "      <td>10.90</td>\n",
       "      <td>CTTTCTTTCTTATCCTGCAGTAT</td>\n",
       "      <td>9.85</td>\n",
       "      <td>GAGGTAAGC</td>\n",
       "    </tr>\n",
       "    <tr>\n",
       "      <th>5892</th>\n",
       "      <td>exon:chrX:99890555-99890743:-</td>\n",
       "      <td>constitutive</td>\n",
       "      <td>MN</td>\n",
       "      <td>6.84</td>\n",
       "      <td>TTCTCTGAATTCCCACATAGATC</td>\n",
       "      <td>10.10</td>\n",
       "      <td>CTGGTGAGT</td>\n",
       "    </tr>\n",
       "  </tbody>\n",
       "</table>\n",
       "</div>"
      ],
      "text/plain": [
       "                           event_id      modality phenotype  \\\n",
       "5888  exon:chrX:80532483-80532668:+  constitutive        MN   \n",
       "5889  exon:chrX:80533830-80533910:+  constitutive        MN   \n",
       "5890  exon:chrX:99887482-99887565:-  constitutive        MN   \n",
       "5891  exon:chrX:99890175-99890249:-  constitutive        MN   \n",
       "5892  exon:chrX:99890555-99890743:-  constitutive        MN   \n",
       "\n",
       "      splice_site_3p_score       splice_site_3p_seq  splice_site_5p_score  \\\n",
       "5888                  8.56  TTCTTGTCCTTTGGTCCTAGATT                  7.83   \n",
       "5889                  7.00  CTTATCTTCTTTTCATCAAGGAC                  9.11   \n",
       "5890                 11.13  TGTTTTTTTCCTCCCATTAGGGT                 10.08   \n",
       "5891                 10.90  CTTTCTTTCTTATCCTGCAGTAT                  9.85   \n",
       "5892                  6.84  TTCTCTGAATTCCCACATAGATC                 10.10   \n",
       "\n",
       "     splice_site_5p_seq  \n",
       "5888          GGGGTAAGA  \n",
       "5889          AAGGTATGA  \n",
       "5890          CAAGTAAGT  \n",
       "5891          GAGGTAAGC  \n",
       "5892          CTGGTGAGT  "
      ]
     },
     "execution_count": 99,
     "metadata": {},
     "output_type": "execute_result"
    }
   ],
   "source": [
    "modalities_maxentscan = study.supplemental.modalities_tidy.join(alternative_maxentscan, on='event_id')\n",
    "modalities_maxentscan = pd.concat([modalities_maxentscan, constitutive_maxentscan_modalities])\n",
    "modalities_maxentscan.tail()"
   ]
  },
  {
   "cell_type": "code",
   "execution_count": 100,
   "metadata": {
    "collapsed": false
   },
   "outputs": [
    {
     "data": {
      "text/plain": [
       "Index([u'splice_site_3p_score', u'splice_site_5p_score'], dtype='object')"
      ]
     },
     "execution_count": 100,
     "metadata": {},
     "output_type": "execute_result"
    }
   ],
   "source": [
    "score_cols"
   ]
  },
  {
   "cell_type": "code",
   "execution_count": 101,
   "metadata": {
    "collapsed": false
   },
   "outputs": [
    {
     "data": {
      "text/html": [
       "<div>\n",
       "<table border=\"1\" class=\"dataframe\">\n",
       "  <thead>\n",
       "    <tr style=\"text-align: right;\">\n",
       "      <th></th>\n",
       "      <th>event_id</th>\n",
       "      <th>modality</th>\n",
       "      <th>phenotype</th>\n",
       "      <th>splice_site_3p_score</th>\n",
       "      <th>splice_site_3p_seq</th>\n",
       "      <th>splice_site_5p_score</th>\n",
       "      <th>splice_site_5p_seq</th>\n",
       "    </tr>\n",
       "  </thead>\n",
       "  <tbody>\n",
       "    <tr>\n",
       "      <th>0</th>\n",
       "      <td>exon:chr10:102114184-102114389:+@exon:chr10:10...</td>\n",
       "      <td>included</td>\n",
       "      <td>MN</td>\n",
       "      <td>7.55</td>\n",
       "      <td>TGTCTGGTCTGTCAATGTAGGTA</td>\n",
       "      <td>10.24</td>\n",
       "      <td>TGGGTAAGT</td>\n",
       "    </tr>\n",
       "    <tr>\n",
       "      <th>1</th>\n",
       "      <td>exon:chr10:102286732-102286831:-@exon:chr10:10...</td>\n",
       "      <td>included</td>\n",
       "      <td>MN</td>\n",
       "      <td>9.49</td>\n",
       "      <td>TATTTGTCTTTCTGCCTCAGATG</td>\n",
       "      <td>8.95</td>\n",
       "      <td>GTGGTGAGT</td>\n",
       "    </tr>\n",
       "    <tr>\n",
       "      <th>2</th>\n",
       "      <td>exon:chr10:103360960-103361093:+@exon:chr10:10...</td>\n",
       "      <td>bimodal</td>\n",
       "      <td>MN</td>\n",
       "      <td>5.57</td>\n",
       "      <td>TGCTTGCTGCTTTTCTAAAGGCG</td>\n",
       "      <td>9.81</td>\n",
       "      <td>GAGGTATGT</td>\n",
       "    </tr>\n",
       "    <tr>\n",
       "      <th>3</th>\n",
       "      <td>exon:chr10:103563492-103563776:-@exon:chr10:10...</td>\n",
       "      <td>bimodal</td>\n",
       "      <td>MN</td>\n",
       "      <td>10.31</td>\n",
       "      <td>TTTTATTTTATTTTTTGCAGCTG</td>\n",
       "      <td>7.39</td>\n",
       "      <td>GCAGTGAGT</td>\n",
       "    </tr>\n",
       "    <tr>\n",
       "      <th>4</th>\n",
       "      <td>exon:chr10:103567487-103567658:-@exon:chr10:10...</td>\n",
       "      <td>included</td>\n",
       "      <td>MN</td>\n",
       "      <td>9.11</td>\n",
       "      <td>ACTTTTCTCCCTACATTTAGAAT</td>\n",
       "      <td>10.86</td>\n",
       "      <td>CAGGTAAGT</td>\n",
       "    </tr>\n",
       "  </tbody>\n",
       "</table>\n",
       "</div>"
      ],
      "text/plain": [
       "                                            event_id  modality phenotype  \\\n",
       "0  exon:chr10:102114184-102114389:+@exon:chr10:10...  included        MN   \n",
       "1  exon:chr10:102286732-102286831:-@exon:chr10:10...  included        MN   \n",
       "2  exon:chr10:103360960-103361093:+@exon:chr10:10...   bimodal        MN   \n",
       "3  exon:chr10:103563492-103563776:-@exon:chr10:10...   bimodal        MN   \n",
       "4  exon:chr10:103567487-103567658:-@exon:chr10:10...  included        MN   \n",
       "\n",
       "   splice_site_3p_score       splice_site_3p_seq  splice_site_5p_score  \\\n",
       "0                  7.55  TGTCTGGTCTGTCAATGTAGGTA                 10.24   \n",
       "1                  9.49  TATTTGTCTTTCTGCCTCAGATG                  8.95   \n",
       "2                  5.57  TGCTTGCTGCTTTTCTAAAGGCG                  9.81   \n",
       "3                 10.31  TTTTATTTTATTTTTTGCAGCTG                  7.39   \n",
       "4                  9.11  ACTTTTCTCCCTACATTTAGAAT                 10.86   \n",
       "\n",
       "  splice_site_5p_seq  \n",
       "0          TGGGTAAGT  \n",
       "1          GTGGTGAGT  \n",
       "2          GAGGTATGT  \n",
       "3          GCAGTGAGT  \n",
       "4          CAGGTAAGT  "
      ]
     },
     "execution_count": 101,
     "metadata": {},
     "output_type": "execute_result"
    }
   ],
   "source": [
    "modalities_maxentscan.head()"
   ]
  },
  {
   "cell_type": "code",
   "execution_count": 102,
   "metadata": {
    "collapsed": false
   },
   "outputs": [
    {
     "data": {
      "image/png": "[encoded data removed]",
      "text/plain": [
       "<matplotlib.figure.Figure at 0x2ba794c64f50>"
      ]
     },
     "metadata": {},
     "output_type": "display_data"
    },
    {
     "data": {
      "image/png": "[encoded data removed]",
      "text/plain": [
       "<matplotlib.figure.Figure at 0x2ba793a88fd0>"
      ]
     },
     "metadata": {},
     "output_type": "display_data"
    }
   ],
   "source": [
    "for col in score_cols:\n",
    "\n",
    "    fig, ax = plt.subplots(figsize=(2, 1.5))\n",
    "    sns.boxplot(data=modalities_maxentscan, y=col, linewidth=1, fliersize=2, **plot_kws)\n",
    "    ax.set(ylim=(-10, 16), xlabel='')\n",
    "    ax.legend_.set_visible(False)\n",
    "    sns.despine()\n",
    "    fig.tight_layout()\n",
    "    fig.savefig('{}/{}.pdf'.format(figure_folder, col))"
   ]
  },
  {
   "cell_type": "code",
   "execution_count": 103,
   "metadata": {
    "collapsed": false
   },
   "outputs": [
    {
     "data": {
      "text/html": [
       "<div>\n",
       "<table border=\"1\" class=\"dataframe\">\n",
       "  <thead>\n",
       "    <tr style=\"text-align: right;\">\n",
       "      <th></th>\n",
       "      <th>phenotype</th>\n",
       "      <th>splice_site</th>\n",
       "      <th>modality1</th>\n",
       "      <th>modality2</th>\n",
       "      <th>p_value</th>\n",
       "      <th>statistic</th>\n",
       "      <th>bonferonni_p_value</th>\n",
       "    </tr>\n",
       "  </thead>\n",
       "  <tbody>\n",
       "    <tr>\n",
       "      <th>0</th>\n",
       "      <td>MN</td>\n",
       "      <td>splice_site_3p_score</td>\n",
       "      <td>bimodal</td>\n",
       "      <td>constitutive</td>\n",
       "      <td>2.480083e-02</td>\n",
       "      <td>974761</td>\n",
       "      <td>1.736058e+00</td>\n",
       "    </tr>\n",
       "    <tr>\n",
       "      <th>1</th>\n",
       "      <td>MN</td>\n",
       "      <td>splice_site_3p_score</td>\n",
       "      <td>bimodal</td>\n",
       "      <td>excluded</td>\n",
       "      <td>1.682060e-09</td>\n",
       "      <td>73421</td>\n",
       "      <td>1.177442e-07</td>\n",
       "    </tr>\n",
       "    <tr>\n",
       "      <th>2</th>\n",
       "      <td>MN</td>\n",
       "      <td>splice_site_3p_score</td>\n",
       "      <td>bimodal</td>\n",
       "      <td>included</td>\n",
       "      <td>9.836660e-03</td>\n",
       "      <td>252217</td>\n",
       "      <td>6.885662e-01</td>\n",
       "    </tr>\n",
       "    <tr>\n",
       "      <th>3</th>\n",
       "      <td>MN</td>\n",
       "      <td>splice_site_3p_score</td>\n",
       "      <td>bimodal</td>\n",
       "      <td>uncategorized</td>\n",
       "      <td>1.389326e-01</td>\n",
       "      <td>25</td>\n",
       "      <td>9.725283e+00</td>\n",
       "    </tr>\n",
       "    <tr>\n",
       "      <th>4</th>\n",
       "      <td>MN</td>\n",
       "      <td>splice_site_3p_score</td>\n",
       "      <td>constitutive</td>\n",
       "      <td>excluded</td>\n",
       "      <td>2.494964e-32</td>\n",
       "      <td>1104600</td>\n",
       "      <td>1.746475e-30</td>\n",
       "    </tr>\n",
       "  </tbody>\n",
       "</table>\n",
       "</div>"
      ],
      "text/plain": [
       "  phenotype           splice_site     modality1      modality2       p_value  \\\n",
       "0        MN  splice_site_3p_score       bimodal   constitutive  2.480083e-02   \n",
       "1        MN  splice_site_3p_score       bimodal       excluded  1.682060e-09   \n",
       "2        MN  splice_site_3p_score       bimodal       included  9.836660e-03   \n",
       "3        MN  splice_site_3p_score       bimodal  uncategorized  1.389326e-01   \n",
       "4        MN  splice_site_3p_score  constitutive       excluded  2.494964e-32   \n",
       "\n",
       "   statistic  bonferonni_p_value  \n",
       "0     974761        1.736058e+00  \n",
       "1      73421        1.177442e-07  \n",
       "2     252217        6.885662e-01  \n",
       "3         25        9.725283e+00  \n",
       "4    1104600        1.746475e-30  "
      ]
     },
     "execution_count": 103,
     "metadata": {},
     "output_type": "execute_result"
    }
   ],
   "source": [
    "from scipy.stats.mstats import kruskalwallis\n",
    "\n",
    "lines = []\n",
    "\n",
    "for col in score_cols:\n",
    "#     six.print_('--- {} ---'.format(col))\n",
    "    for phenotype, phenotype_df in modalities_maxentscan.groupby(['phenotype']):\n",
    "#         six.print_(phenotype)\n",
    "        grouped = phenotype_df.groupby('modality')\n",
    "\n",
    "        for (modality1, df1), (modality2, df2) in itertools.combinations(grouped, 2):\n",
    "            result = mannwhitneyu(df1[col], df2[col])\n",
    "            lines.append([phenotype, col, modality1, modality2, result.pvalue, result.statistic])\n",
    "splice_site_significance = pd.DataFrame(lines, columns=['phenotype', 'splice_site', \n",
    "                                                        'modality1', 'modality2', 'p_value', 'statistic'])\n",
    "\n",
    "# multiple testing correction\n",
    "splice_site_significance['bonferonni_p_value'] = splice_site_significance['p_value'] * splice_site_significance.shape[0]\n",
    "splice_site_significance.head()"
   ]
  },
  {
   "cell_type": "code",
   "execution_count": 104,
   "metadata": {
    "collapsed": false
   },
   "outputs": [
    {
     "ename": "SyntaxError",
     "evalue": "invalid syntax (<ipython-input-104-0fff5ca0f08c>, line 9)",
     "output_type": "error",
     "traceback": [
      "\u001b[1;36m  File \u001b[1;32m\"<ipython-input-104-0fff5ca0f08c>\"\u001b[1;36m, line \u001b[1;32m9\u001b[0m\n\u001b[1;33m    fig, ax = plt.subplots(figsize=(.5, .75))s\u001b[0m\n\u001b[1;37m                                             ^\u001b[0m\n\u001b[1;31mSyntaxError\u001b[0m\u001b[1;31m:\u001b[0m invalid syntax\n"
     ]
    }
   ],
   "source": [
    "for splice_site, enrichment in splice_site_significance.groupby('splice_site'):\n",
    "    # Transform tidy dataframe into 2d matrix\n",
    "    enrichment_2d = enrichment.groupby('phenotype').apply(\n",
    "        lambda x: x.pivot(index='modality1', columns='modality2', values='bonferonni_p_value'))\n",
    "    enrichment_2d = enrichment_2d.loc[:, modality_order]\n",
    "    enrichment_2d_log10 = -np.log10(enrichment_2d)\n",
    "\n",
    "    # Plot p-value heatmap of just iPSC\n",
    "    fig, ax = plt.subplots(figsize=(.5, .75))s\n",
    "    ipsc = enrichment_2d_log10.loc['iPSC']\n",
    "    ipsc = ipsc.loc[modality_order]\n",
    "    ipsc = ipsc.T.fillna(0) + ipsc.fillna(0)\n",
    "    ipsc = ipsc.replace(0, np.nan)\n",
    "    sns.heatmap(ipsc, vmin=0, linewidth=0.5, linecolor='grey', cbar_kws=dict(orientation='horizontal'))\n",
    "    ax.set(xticks=[], yticks=[], xlabel='', ylabel='');\n",
    "    sns.despine(left=False, bottom=False, right=False, top=False)\n",
    "    fig.savefig('{}/{}_p_value_heatmap.pdf'.format(figure_folder, splice_site))"
   ]
  },
  {
   "cell_type": "markdown",
   "metadata": {},
   "source": [
    "## Splice site sequences"
   ]
  },
  {
   "cell_type": "code",
   "execution_count": null,
   "metadata": {
    "collapsed": false
   },
   "outputs": [],
   "source": [
    "modalities_maxentscan['splice_site_3p_seq_2bp'] = modalities_maxentscan['splice_site_3p_seq'].str[-5:-3]\n",
    "modalities_maxentscan['splice_site_5p_seq_2bp'] = modalities_maxentscan['splice_site_5p_seq'].str[3:5]\n",
    "modalities_maxentscan"
   ]
  },
  {
   "cell_type": "code",
   "execution_count": null,
   "metadata": {
    "collapsed": false
   },
   "outputs": [],
   "source": [
    "splice_site_seq_cols = 'splice_site_5p_seq_2bp', 'splice_site_3p_seq_2bp'\n",
    "\n",
    "for col in splice_site_seq_cols:\n",
    "    modalities_splice_sites = modalities_maxentscan.groupby(['phenotype', 'modality', col]).size()\n",
    "    modalities_splice_sites = modalities_splice_sites.reset_index()\n",
    "    modalities_splice_sites = modalities_splice_sites.rename(columns={0:'counts'})\n",
    "    modalities_splice_sites['% AS Exons'] = 100 *modalities_splice_sites.groupby(\n",
    "        ['phenotype', 'modality'])['counts'].apply(lambda x: x/x.sum())\n",
    "    \n",
    "    saturation = 0.8 if col == 'splice_site_5p_seq_2bp' else 0.4\n",
    "    \n",
    "    palette = sns.husl_palette(s=saturation, n_colors=3)\n",
    "    \n",
    "    for phenotype, phenotype_df in modalities_splice_sites.groupby('phenotype'):\n",
    "        width_ratios = (0.2, 0.8) if col == 'splice_site_5p_seq_2bp' else (0.8, 0.2)\n",
    "        fig, axes = plt.subplots(figsize=(2, 1.5), ncols=2, \n",
    "                                 gridspec_kw=dict(width_ratios=width_ratios, wspace=0.1))\n",
    "        ax = axes[0]\n",
    "        sns.barplot(data=phenotype_df, x='% AS Exons', ax=ax, ci=False, \n",
    "                    y='modality', hue=col, order=modality_order, palette=palette)\n",
    "        ax.legend_.set_visible(False)\n",
    "        ax.locator_params('x', nbins=4)\n",
    "#         ax.xaxis.set_tick_params('off')\n",
    "        if col == 'splice_site_5p_seq_2bp':\n",
    "            ax.set(xlim=(10, 100), ylabel='', yticks=[], xlabel='', xticks=[10, 100])\n",
    "            ax.invert_xaxis()\n",
    "            sns.despine(ax=ax, left=True)\n",
    "\n",
    "        else:\n",
    "            ax.set(xlim=(0, 0.5), ylabel='', xlabel='% AS Exons')\n",
    "            sns.despine(ax=ax)\n",
    "            ax.legend(loc='upper center', bbox_to_anchor=(0.5, 1.2), ncol=2)\n",
    "\n",
    "\n",
    "        ax = axes[1]\n",
    "        sns.barplot(data=phenotype_df, x='% AS Exons', ax=ax, ci=False, y='modality', \n",
    "                    order=modality_order, hue=col, orient='h', palette=palette)\n",
    "        ax.locator_params('x', nbins=4)\n",
    "        ax.legend_.set_visible(False)\n",
    "\n",
    "        if col == 'splice_site_5p_seq_2bp':\n",
    "            # Somehow these \"put the y-axis ticks on the right\" functions \n",
    "            # only work in combination\n",
    "            ax.yaxis.tick_right()\n",
    "            ax.set(xlim=(0, 5), ylabel='', xlabel='% AS Exons')\n",
    "            ax.invert_xaxis()\n",
    "            ax.yaxis.set_ticks_position('right')\n",
    "            sns.despine(ax=ax, left=True, right=False)\n",
    "            ax.legend(loc='upper center', bbox_to_anchor=(0.5, 1.2), ncol=3)\n",
    "        else:\n",
    "            ax.set(xlim=(10, 100), ylabel='', yticks=[], xlabel='', xticks=[10, 100])\n",
    "            sns.despine(ax=ax, left=True)\n",
    "\n",
    "#         legend_fig, legend_ax = plt.subplots(figsize=(0.5, 0.5))\n",
    "#         legend_ax.legend(*ax.get_legend_handles_labels())\n",
    "\n",
    "        fig.savefig('{}/{}_{}_barplot.pdf'.format(figure_folder, col, phenotype))"
   ]
  },
  {
   "cell_type": "code",
   "execution_count": null,
   "metadata": {
    "collapsed": true
   },
   "outputs": [],
   "source": []
  },
  {
   "cell_type": "code",
   "execution_count": null,
   "metadata": {
    "collapsed": false
   },
   "outputs": [],
   "source": []
  },
  {
   "cell_type": "code",
   "execution_count": null,
   "metadata": {
    "collapsed": false
   },
   "outputs": [],
   "source": [
    "modalities_splice_sites = modalities_maxentscan.groupby(['phenotype', 'modality', col]).size()\n",
    "modalities_splice_sites = modalities_splice_sites.reset_index()\n",
    "modalities_splice_sites = modalities_splice_sites.rename(columns={0:'counts'})\n",
    "modalities_splice_sites['% AS Exons'] = 100 *modalities_splice_sites.groupby(\n",
    "    ['phenotype', 'modality'])['counts'].apply(lambda x: x/x.sum())\n",
    "\n",
    "modalities_splice_sites.head()"
   ]
  },
  {
   "cell_type": "code",
   "execution_count": null,
   "metadata": {
    "collapsed": false
   },
   "outputs": [],
   "source": [
    "modalities_splice_sites"
   ]
  },
  {
   "cell_type": "code",
   "execution_count": null,
   "metadata": {
    "collapsed": false
   },
   "outputs": [],
   "source": [
    "sns.barplot(y='modality', x='% AS Exons', data=modalities_splice_sites, hue=col, orient='h')"
   ]
  },
  {
   "cell_type": "code",
   "execution_count": null,
   "metadata": {
    "collapsed": false
   },
   "outputs": [],
   "source": [
    "modalities_splice_sites"
   ]
  },
  {
   "cell_type": "code",
   "execution_count": null,
   "metadata": {
    "collapsed": false
   },
   "outputs": [],
   "source": [
    "ls /projects/ps-yeolab/obotvinnik/singlecell_pnms/csvs_for_paper/splicing_feature_data/alternative/"
   ]
  },
  {
   "cell_type": "code",
   "execution_count": null,
   "metadata": {
    "collapsed": false
   },
   "outputs": [],
   "source": [
    "event_to_gene = pd.read_csv(\n",
    "    '/projects/ps-yeolab/obotvinnik/singlecell_pnms/csvs_for_paper/splicing_feature_data/alternative/genes_expanded.csv',\n",
    "    header=None, squeeze=True, index_col=0)\n",
    "event_to_gene.name = 'ensembl_id'\n",
    "event_to_gene.head()"
   ]
  },
  {
   "cell_type": "code",
   "execution_count": null,
   "metadata": {
    "collapsed": false
   },
   "outputs": [],
   "source": [
    "modalities_genes = study.supplemental.modalities_tidy.join(event_to_gene, on='event_id')\n",
    "modalities_genes.head()"
   ]
  },
  {
   "cell_type": "code",
   "execution_count": null,
   "metadata": {
    "collapsed": false
   },
   "outputs": [],
   "source": [
    "modalities_genes = modalities_genes.join(study.expression.feature_data, on='ensembl_id')\n",
    "modalities_genes.head()"
   ]
  },
  {
   "cell_type": "code",
   "execution_count": null,
   "metadata": {
    "collapsed": false
   },
   "outputs": [],
   "source": [
    "modalities_genes.columns"
   ]
  },
  {
   "cell_type": "code",
   "execution_count": null,
   "metadata": {
    "collapsed": false
   },
   "outputs": [],
   "source": [
    "modalities_genes = modalities_genes.convert_objects()\n",
    "modalities_genes.dtypes"
   ]
  },
  {
   "cell_type": "code",
   "execution_count": null,
   "metadata": {
    "collapsed": true
   },
   "outputs": [],
   "source": [
    "boolean_cols = modalities_genes.columns[modalities_genes.dtypes == bool]"
   ]
  },
  {
   "cell_type": "code",
   "execution_count": null,
   "metadata": {
    "collapsed": true
   },
   "outputs": [],
   "source": [
    "from anchor import MODALITY_ORDER, MODALITY_PALETTE"
   ]
  },
  {
   "cell_type": "code",
   "execution_count": null,
   "metadata": {
    "collapsed": false
   },
   "outputs": [],
   "source": [
    "figure_folder"
   ]
  },
  {
   "cell_type": "code",
   "execution_count": null,
   "metadata": {
    "collapsed": false
   },
   "outputs": [],
   "source": [
    "col"
   ]
  },
  {
   "cell_type": "code",
   "execution_count": null,
   "metadata": {
    "collapsed": false
   },
   "outputs": [],
   "source": [
    "\n",
    "boolean_folder = '{}/boolean'.format(figure_folder)\n",
    "!mkdir $boolean_folder"
   ]
  },
  {
   "cell_type": "code",
   "execution_count": null,
   "metadata": {
    "collapsed": false,
    "scrolled": false
   },
   "outputs": [],
   "source": [
    "for col in boolean_cols:\n",
    "    six.print_(col)\n",
    "    fig, ax = plt.subplots(figsize=(2, 1.5))\n",
    "    sns.barplot(x='phenotype', hue='modality', hue_order=MODALITY_ORDER, palette=MODALITY_PALETTE, data=modalities_genes,\n",
    "               y=col, ci=None, order=study.phenotype_order)\n",
    "    ax.locator_params('y', nbins=4)\n",
    "    yticks = ax.get_yticks()\n",
    "    yticklabels = 100 * yticks\n",
    "    ax.set(ylabel='% AS Exons', yticklabels=yticklabels)\n",
    "    ax.legend_.set_visible(False)\n",
    "    sns.despine()\n",
    "    fig.savefig('{}/{}.pdf'.format(boolean_folder, col))"
   ]
  },
  {
   "cell_type": "code",
   "execution_count": null,
   "metadata": {
    "collapsed": false,
    "scrolled": false
   },
   "outputs": [],
   "source": [
    "from scipy.stats import hypergeom\n",
    "\n",
    "lines = []\n",
    "\n",
    "for col in boolean_cols:\n",
    "    for phenotype, phenotype_df in modalities_genes.groupby(['phenotype']):\n",
    "#         six.print_(phenotype)\n",
    "        M = phenotype_df.shape[0]\n",
    "        n = phenotype_df[col].sum()\n",
    "        for modality, modality_df in phenotype_df.groupby('modality'):\n",
    "#             six.print_('\\t', modality)\n",
    "            N = modality_df.shape[0]\n",
    "            x = modality_df[col].sum()\n",
    "            p_value = hypergeom.sf(x, M, n, N)\n",
    "#             six.print_('\\t\\t', result)\n",
    "            lines.append([col, phenotype, modality, p_value])\n",
    "            \n",
    "boolean_feature_significance = pd.DataFrame(lines, columns=['feature', 'phenotype', 'modality', 'p-value'])\n",
    "boolean_feature_significance['q-value'] = boolean_feature_significance['p-value'] * boolean_feature_significance.shape[0]\n",
    "boolean_feature_significance.loc[boolean_feature_significance['q-value'] < 1e-3]"
   ]
  },
  {
   "cell_type": "code",
   "execution_count": null,
   "metadata": {
    "collapsed": false
   },
   "outputs": [],
   "source": [
    "boolean_feature_significance.loc[boolean_feature_significance['p-value'] < 1e-3]"
   ]
  },
  {
   "cell_type": "code",
   "execution_count": null,
   "metadata": {
    "collapsed": false
   },
   "outputs": [],
   "source": [
    "x, M, n, N"
   ]
  },
  {
   "cell_type": "code",
   "execution_count": null,
   "metadata": {
    "collapsed": false
   },
   "outputs": [],
   "source": [
    "result"
   ]
  },
  {
   "cell_type": "code",
   "execution_count": null,
   "metadata": {
    "collapsed": false
   },
   "outputs": [],
   "source": [
    "100 * yticks\n"
   ]
  },
  {
   "cell_type": "markdown",
   "metadata": {
    "collapsed": true
   },
   "source": [
    "## (maximum) Number of exons per gene\n",
    "\n"
   ]
  },
  {
   "cell_type": "code",
   "execution_count": null,
   "metadata": {
    "collapsed": true
   },
   "outputs": [],
   "source": [
    "col = 'max_exons_per_gene'"
   ]
  },
  {
   "cell_type": "code",
   "execution_count": null,
   "metadata": {
    "collapsed": false
   },
   "outputs": [],
   "source": [
    "event_to_gene = pd.read_csv('{}/genes_expanded.csv'.format(alternative_feature_folder), index_col=0, header=None, squeeze=True)\n",
    "event_to_gene.head()\n"
   ]
  },
  {
   "cell_type": "code",
   "execution_count": null,
   "metadata": {
    "collapsed": false
   },
   "outputs": [],
   "source": [
    "constitutive_to_gene = pd.read_csv('{}/genes_expanded.csv'.format(constitutive_feature_folder), index_col=0, header=None, squeeze=True)\n",
    "constitutive_to_gene.head()"
   ]
  },
  {
   "cell_type": "code",
   "execution_count": null,
   "metadata": {
    "collapsed": false
   },
   "outputs": [],
   "source": [
    "modalities_genes"
   ]
  },
  {
   "cell_type": "code",
   "execution_count": null,
   "metadata": {
    "collapsed": true
   },
   "outputs": [],
   "source": [
    "prefix = col"
   ]
  },
  {
   "cell_type": "code",
   "execution_count": null,
   "metadata": {
    "collapsed": false
   },
   "outputs": [],
   "source": [
    "constitutive_genes_modalities_annotated = constitutive_genes_modalities.join(study.expression.feature_data, on='common_id')\n",
    "constitutive_genes_modalities_annotated.head()"
   ]
  },
  {
   "cell_type": "code",
   "execution_count": null,
   "metadata": {
    "collapsed": false
   },
   "outputs": [],
   "source": [
    "modalities_genes_annotated_plus_constitutive = pd.concat([modalities_genes, constitutive_genes_modalities_annotated])\n",
    "modalities_genes_annotated_plus_constitutive.head()"
   ]
  },
  {
   "cell_type": "code",
   "execution_count": null,
   "metadata": {
    "collapsed": false
   },
   "outputs": [],
   "source": [
    "fig, ax = plt.subplots(figsize=(2, 1.5))\n",
    "plt.yscale('log')\n",
    "sns.boxplot(data=modalities_genes_annotated_plus_constitutive, y=col, linewidth=1, fliersize=2, **plot_kws)\n",
    "ax.legend_.set_visible(False)\n",
    "ax.set(ylim=(1e0, 1e2), xlabel='', ylabel='Max # Exons/Gene')\n",
    "# ax.locator_params('y', nbins=4)\n",
    "sns.despine()\n",
    "fig.savefig('{}/{}_boxplots.pdf'.format(figure_folder, prefix))"
   ]
  },
  {
   "cell_type": "markdown",
   "metadata": {},
   "source": [
    "### Plot p-value heatmap of enrichment (pairwise mann whitney U test)"
   ]
  },
  {
   "cell_type": "code",
   "execution_count": null,
   "metadata": {
    "collapsed": false
   },
   "outputs": [],
   "source": [
    "import itertools\n",
    "from scipy.stats.mstats import mannwhitneyu\n",
    "\n",
    "\n",
    "lines = []\n",
    "\n",
    "for phenotype, phenotype_df in modalities_genes_annotated_plus_constitutive.groupby(['phenotype']):\n",
    "    six.print_(phenotype)\n",
    "    grouped = phenotype_df.groupby('modality')\n",
    "#     constitutive = grouped.get_group('constitutive')\n",
    "    \n",
    "    for (modality1, df1), (modality2, df2) in itertools.combinations(grouped, 2):\n",
    "#         if modality == 'constitutive':\n",
    "#             continue\n",
    "#         six.print_('\\t', modality1, modality2)\n",
    "\n",
    "        result = mannwhitneyu(df1[col], df2[col])\n",
    "#         six.print_('\\t\\t', result)\n",
    "#         results.loc[modality1, modality2] = result.pvalue\n",
    "        lines.append([phenotype, modality1, modality2, result.pvalue, result.statistic])\n",
    "enrichment = pd.DataFrame(lines, columns=['phenotype', 'modality1', 'modality2', 'p_value', 'statistic'])\n",
    "\n",
    "# multiple testing correction\n",
    "enrichment['bonferonni_p_value'] = enrichment['p_value'] * enrichment.shape[0]\n",
    "enrichment.head()\n",
    "\n",
    "# Transform tidy dataframe into 2d matrix\n",
    "enrichment_2d = enrichment.groupby('phenotype').apply(\n",
    "    lambda x: x.pivot(index='modality1', columns='modality2', values='bonferonni_p_value'))\n",
    "enrichment_2d = enrichment_2d.loc[:, modality_order]\n",
    "enrichment_2d_log10 = -np.log10(enrichment_2d)\n",
    "\n",
    "# Plot p-value heatmap\n",
    "fig, ax = plt.subplots(figsize=(.5, .75))\n",
    "ipsc = enrichment_2d_log10.loc['iPSC']\n",
    "ipsc = ipsc.loc[modality_order]\n",
    "ipsc = ipsc.T.fillna(0) + ipsc.fillna(0)\n",
    "ipsc = ipsc.replace(0, np.nan)\n",
    "sns.heatmap(ipsc, vmin=0, linewidth=0.5, linecolor='grey', cbar_kws=dict(orientation='horizontal'))\n",
    "ax.set(xticks=[], yticks=[], xlabel='', ylabel='');\n",
    "sns.despine(left=False, bottom=False, right=False, top=False)\n",
    "fig.savefig('{}/{}_p_value_heatmap.pdf'.format(figure_folder, col))"
   ]
  },
  {
   "cell_type": "code",
   "execution_count": null,
   "metadata": {
    "collapsed": true
   },
   "outputs": [],
   "source": []
  }
 ],
 "metadata": {
  "kernelspec": {
   "display_name": "Python 2",
   "language": "python",
   "name": "python2"
  },
  "language_info": {
   "codemirror_mode": {
    "name": "ipython",
    "version": 2
   },
   "file_extension": ".py",
   "mimetype": "text/x-python",
   "name": "python",
   "nbconvert_exporter": "python",
   "pygments_lexer": "ipython2",
   "version": "2.7.11"
  }
 },
 "nbformat": 4,
 "nbformat_minor": 0
}
