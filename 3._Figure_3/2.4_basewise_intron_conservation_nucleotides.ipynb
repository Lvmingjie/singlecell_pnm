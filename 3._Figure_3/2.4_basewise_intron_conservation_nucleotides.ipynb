{
 "cells": [
  {
   "cell_type": "code",
   "execution_count": 1,
   "metadata": {
    "collapsed": true
   },
   "outputs": [],
   "source": [
    "import six"
   ]
  },
  {
   "cell_type": "code",
   "execution_count": 2,
   "metadata": {
    "collapsed": false
   },
   "outputs": [
    {
     "name": "stdout",
     "output_type": "stream",
     "text": [
      "mkdir: cannot create directory `/home/obotvinnik/Dropbox/figures2/singlecell_pnm/figure2_modalities/bayesian': File exists\r\n"
     ]
    },
    {
     "name": "stderr",
     "output_type": "stream",
     "text": [
      "/home/obotvinnik/anaconda/lib/python2.7/site-packages/matplotlib/__init__.py:810: UserWarning: Found matplotlib configuration in ~/.matplotlib/. To conform with the XDG base directory standard, this configuration location has been deprecated on Linux, and the new location is now /home/obotvinnik/.config/matplotlib/. Please move your configuration there to ensure that matplotlib will continue to find it in the future.\n",
      "  _get_xdg_config_dir())\n",
      "/home/obotvinnik/anaconda/lib/python2.7/site-packages/flotilla/__init__.py:55: DtypeWarning: Columns (11,19,20) have mixed types. Specify dtype option on import or set low_memory=False.\n",
      "  load_species_data=load_species_data)\n"
     ]
    },
    {
     "name": "stdout",
     "output_type": "stream",
     "text": [
      "2016-02-23 11:16:01\tReading datapackage from /projects/ps-yeolab/obotvinnik/flotilla_projects/singlecell_pnm_figure2_modalities_bayesian/datapackage.json\n",
      "2016-02-23 11:16:01\tParsing datapackage to create a Study object\n",
      "2016-02-23 11:16:34\tInitializing Study\n",
      "2016-02-23 11:16:34\tInitializing Predictor configuration manager for Study\n",
      "2016-02-23 11:16:34\tPredictor ExtraTreesClassifier is of type <class 'sklearn.ensemble.forest.ExtraTreesClassifier'>\n",
      "2016-02-23 11:16:34\tAdded ExtraTreesClassifier to default predictors\n",
      "2016-02-23 11:16:34\tPredictor ExtraTreesRegressor is of type <class 'sklearn.ensemble.forest.ExtraTreesRegressor'>\n",
      "2016-02-23 11:16:34\tAdded ExtraTreesRegressor to default predictors\n",
      "2016-02-23 11:16:34\tPredictor GradientBoostingClassifier is of type <class 'sklearn.ensemble.gradient_boosting.GradientBoostingClassifier'>\n",
      "2016-02-23 11:16:34\tAdded GradientBoostingClassifier to default predictors\n",
      "2016-02-23 11:16:34\tPredictor GradientBoostingRegressor is of type <class 'sklearn.ensemble.gradient_boosting.GradientBoostingRegressor'>\n",
      "2016-02-23 11:16:34\tAdded GradientBoostingRegressor to default predictors\n",
      "2016-02-23 11:16:37\tBuilding Gene Ontology database...\n",
      "2016-02-23 11:16:45\t\tDone.\n",
      "2016-02-23 11:16:46\tLoading metadata\n",
      "2016-02-23 11:16:46\tLoading expression data\n",
      "2016-02-23 11:16:46\tInitializing expression\n",
      "2016-02-23 11:16:46\tDone initializing expression\n",
      "2016-02-23 11:16:47\tLoading splicing data\n",
      "2016-02-23 11:16:47\tInitializing splicing\n",
      "2016-02-23 11:16:47\tDone initializing splicing\n",
      "2016-02-23 11:16:47\tSuccessfully initialized a Study object!\n"
     ]
    }
   ],
   "source": [
    "%load_ext autoreload\n",
    "%autoreload 2\n",
    "\n",
    "import matplotlib.pyplot as plt\n",
    "import seaborn as sns\n",
    "import numpy as np\n",
    "import pandas as pd\n",
    "import six\n",
    "\n",
    "sns.set(style='ticks', context='paper', rc={'font.sans-serif':'Arial', 'pdf.fonttype': 42})\n",
    "\n",
    "%matplotlib inline\n",
    "\n",
    "\n",
    "folder = '/home/obotvinnik/Dropbox/figures2/singlecell_pnm/figure2_modalities/bayesian'\n",
    "!mkdir $folder\n",
    "import flotilla\n",
    "flotilla_dir = '/projects/ps-yeolab/obotvinnik/flotilla_projects'\n",
    "\n",
    "study = flotilla.embark('singlecell_pnm_figure2_modalities_bayesian', flotilla_dir=flotilla_dir)\n",
    "not_outliers = study.splicing.singles.index.difference(study.splicing.outliers.index)\n",
    "\n",
    "psi = study.splicing.singles.ix[not_outliers]\n",
    "grouped = psi.groupby(study.sample_id_to_phenotype)\n",
    "psi_filtered = grouped.apply(lambda x: x.dropna(axis=1, thresh=20))"
   ]
  },
  {
   "cell_type": "code",
   "execution_count": 3,
   "metadata": {
    "collapsed": false
   },
   "outputs": [
    {
     "name": "stdout",
     "output_type": "stream",
     "text": [
      "mkdir: cannot create directory `/home/obotvinnik/Dropbox/figures2/singlecell_pnm/figure2_modalities/bayesian/intron_conservation': File exists\r\n"
     ]
    }
   ],
   "source": [
    "figure_folder = '{}/intron_conservation'.format(folder)\n",
    "! mkdir $figure_folder"
   ]
  },
  {
   "cell_type": "code",
   "execution_count": 4,
   "metadata": {
    "collapsed": false
   },
   "outputs": [
    {
     "name": "stdout",
     "output_type": "stream",
     "text": [
      "ls: cannot access /projects/ps-yeolab/obotvinnik/singlecell_pnms/exon2*csv: No such file or directory\r\n"
     ]
    }
   ],
   "source": [
    "ls /projects/ps-yeolab/obotvinnik/singlecell_pnms/exon2*csv"
   ]
  },
  {
   "cell_type": "code",
   "execution_count": 5,
   "metadata": {
    "collapsed": true
   },
   "outputs": [],
   "source": [
    "csv_folder = '/projects/ps-yeolab/obotvinnik/singlecell_pnms/csvs_for_paper'"
   ]
  },
  {
   "cell_type": "code",
   "execution_count": 6,
   "metadata": {
    "collapsed": true
   },
   "outputs": [],
   "source": [
    "splicing_feature_folder = '{}/splicing_feature_data'.format(csv_folder)\n",
    "alternative_feature_folder = '{}/alternative'.format(splicing_feature_folder)\n",
    "constitutive_feature_folder = '{}/constitutive'.format(splicing_feature_folder)"
   ]
  },
  {
   "cell_type": "code",
   "execution_count": 7,
   "metadata": {
    "collapsed": false
   },
   "outputs": [
    {
     "data": {
      "text/plain": [
       "'/projects/ps-yeolab/obotvinnik/singlecell_pnms/csvs_for_paper/splicing_feature_data/alternative'"
      ]
     },
     "execution_count": 7,
     "metadata": {},
     "output_type": "execute_result"
    }
   ],
   "source": [
    "alternative_feature_folder"
   ]
  },
  {
   "cell_type": "code",
   "execution_count": 8,
   "metadata": {
    "collapsed": false
   },
   "outputs": [],
   "source": [
    "downstream = pd.read_csv('{}/downstream400_placental_mammal_conservation.csv'.format(alternative_feature_folder), \n",
    "                         index_col=0)\n",
    "upstream = pd.read_csv('{}/upstream400_placental_mammal_conservation.csv'.format(alternative_feature_folder), \n",
    "                       index_col=0)"
   ]
  },
  {
   "cell_type": "code",
   "execution_count": 9,
   "metadata": {
    "collapsed": true
   },
   "outputs": [],
   "source": [
    "conservation_folder = '{}/conservation'.format(folder)"
   ]
  },
  {
   "cell_type": "code",
   "execution_count": 10,
   "metadata": {
    "collapsed": true
   },
   "outputs": [],
   "source": [
    "from anchor import MODALITY_ORDER, MODALITY_PALETTE"
   ]
  },
  {
   "cell_type": "code",
   "execution_count": 11,
   "metadata": {
    "collapsed": true
   },
   "outputs": [],
   "source": [
    "sns.set(style='ticks', context='paper')"
   ]
  },
  {
   "cell_type": "code",
   "execution_count": 12,
   "metadata": {
    "collapsed": true
   },
   "outputs": [],
   "source": [
    "from anchor import MODALITY_ORDER"
   ]
  },
  {
   "cell_type": "code",
   "execution_count": 13,
   "metadata": {
    "collapsed": true
   },
   "outputs": [],
   "source": [
    "constitutive_downstream = pd.read_csv('{}/downstream400_placental_mammal_conservation.csv'.format(constitutive_feature_folder), \n",
    "                         index_col=0)\n",
    "constitutive_upstream = pd.read_csv('{}/upstream400_placental_mammal_conservation.csv'.format(constitutive_feature_folder), \n",
    "                       index_col=0)"
   ]
  },
  {
   "cell_type": "code",
   "execution_count": 14,
   "metadata": {
    "collapsed": true
   },
   "outputs": [],
   "source": [
    "constitutive_conservations = {'Upstream': constitutive_upstream, 'Downstream': constitutive_downstream}"
   ]
  },
  {
   "cell_type": "code",
   "execution_count": 15,
   "metadata": {
    "collapsed": true
   },
   "outputs": [],
   "source": [
    "from scipy.stats import mannwhitneyu"
   ]
  },
  {
   "cell_type": "code",
   "execution_count": 16,
   "metadata": {
    "collapsed": false,
    "scrolled": false
   },
   "outputs": [
    {
     "name": "stdout",
     "output_type": "stream",
     "text": [
      "(12800, 5)\n",
      "(10400, 11)\n"
     ]
    },
    {
     "data": {
      "text/html": [
       "<div>\n",
       "<table border=\"1\" class=\"dataframe\">\n",
       "  <thead>\n",
       "    <tr style=\"text-align: right;\">\n",
       "      <th></th>\n",
       "      <th>genome_direction_nt</th>\n",
       "      <th>U Statistic</th>\n",
       "      <th>$p$-value</th>\n",
       "      <th>sign</th>\n",
       "      <th>$q$-value</th>\n",
       "      <th>modality</th>\n",
       "      <th>intron</th>\n",
       "      <th>$-\\log_{10}(q)$</th>\n",
       "      <th>$-\\log_{10}(p)$</th>\n",
       "      <th>$\\mathrm{sgn}(\\Delta\\mathrm{mean}) \\times\\left(-\\log_{10}(q)\\right)$</th>\n",
       "      <th>phenotype</th>\n",
       "    </tr>\n",
       "  </thead>\n",
       "  <tbody>\n",
       "    <tr>\n",
       "      <th>0</th>\n",
       "      <td>0</td>\n",
       "      <td>1726.0</td>\n",
       "      <td>0.236121</td>\n",
       "      <td>1</td>\n",
       "      <td>94.448349</td>\n",
       "      <td>ambivalent</td>\n",
       "      <td>Downstream</td>\n",
       "      <td>-1.975194</td>\n",
       "      <td>0.626866</td>\n",
       "      <td>-1.975194</td>\n",
       "      <td>MN</td>\n",
       "    </tr>\n",
       "    <tr>\n",
       "      <th>1</th>\n",
       "      <td>1</td>\n",
       "      <td>1416.5</td>\n",
       "      <td>0.181910</td>\n",
       "      <td>1</td>\n",
       "      <td>72.763812</td>\n",
       "      <td>ambivalent</td>\n",
       "      <td>Downstream</td>\n",
       "      <td>-1.861915</td>\n",
       "      <td>0.740145</td>\n",
       "      <td>-1.861915</td>\n",
       "      <td>MN</td>\n",
       "    </tr>\n",
       "    <tr>\n",
       "      <th>2</th>\n",
       "      <td>2</td>\n",
       "      <td>985.5</td>\n",
       "      <td>0.123476</td>\n",
       "      <td>1</td>\n",
       "      <td>49.390431</td>\n",
       "      <td>ambivalent</td>\n",
       "      <td>Downstream</td>\n",
       "      <td>-1.693643</td>\n",
       "      <td>0.908417</td>\n",
       "      <td>-1.693643</td>\n",
       "      <td>MN</td>\n",
       "    </tr>\n",
       "    <tr>\n",
       "      <th>3</th>\n",
       "      <td>3</td>\n",
       "      <td>659.5</td>\n",
       "      <td>0.088920</td>\n",
       "      <td>1</td>\n",
       "      <td>35.567969</td>\n",
       "      <td>ambivalent</td>\n",
       "      <td>Downstream</td>\n",
       "      <td>-1.551059</td>\n",
       "      <td>1.051001</td>\n",
       "      <td>-1.551059</td>\n",
       "      <td>MN</td>\n",
       "    </tr>\n",
       "    <tr>\n",
       "      <th>4</th>\n",
       "      <td>4</td>\n",
       "      <td>457.0</td>\n",
       "      <td>0.069645</td>\n",
       "      <td>1</td>\n",
       "      <td>27.857887</td>\n",
       "      <td>ambivalent</td>\n",
       "      <td>Downstream</td>\n",
       "      <td>-1.444948</td>\n",
       "      <td>1.157112</td>\n",
       "      <td>-1.444948</td>\n",
       "      <td>MN</td>\n",
       "    </tr>\n",
       "  </tbody>\n",
       "</table>\n",
       "</div>"
      ],
      "text/plain": [
       "   genome_direction_nt  U Statistic  $p$-value  sign  $q$-value    modality  \\\n",
       "0                    0       1726.0   0.236121     1  94.448349  ambivalent   \n",
       "1                    1       1416.5   0.181910     1  72.763812  ambivalent   \n",
       "2                    2        985.5   0.123476     1  49.390431  ambivalent   \n",
       "3                    3        659.5   0.088920     1  35.567969  ambivalent   \n",
       "4                    4        457.0   0.069645     1  27.857887  ambivalent   \n",
       "\n",
       "       intron  $-\\log_{10}(q)$  $-\\log_{10}(p)$  \\\n",
       "0  Downstream        -1.975194         0.626866   \n",
       "1  Downstream        -1.861915         0.740145   \n",
       "2  Downstream        -1.693643         0.908417   \n",
       "3  Downstream        -1.551059         1.051001   \n",
       "4  Downstream        -1.444948         1.157112   \n",
       "\n",
       "   $\\mathrm{sgn}(\\Delta\\mathrm{mean}) \\times\\left(-\\log_{10}(q)\\right)$  \\\n",
       "0                                          -1.975194                      \n",
       "1                                          -1.861915                      \n",
       "2                                          -1.693643                      \n",
       "3                                          -1.551059                      \n",
       "4                                          -1.444948                      \n",
       "\n",
       "  phenotype  \n",
       "0        MN  \n",
       "1        MN  \n",
       "2        MN  \n",
       "3        MN  \n",
       "4        MN  "
      ]
     },
     "execution_count": 16,
     "metadata": {},
     "output_type": "execute_result"
    }
   ],
   "source": [
    "# %%time\n",
    "\n",
    "intron_conservations = {'Upstream': upstream, \n",
    "                        'Downstream': downstream}\n",
    "\n",
    "modality_basewise_conservation_dfs = []\n",
    "\n",
    "intron_order = ['Upstream', 'Downstream']\n",
    "\n",
    "values_col = r'$\\mathrm{sgn}(\\Delta\\mathrm{mean}) \\times\\left(-\\log_{10}(q)\\right)$'\n",
    "\n",
    "\n",
    "phenotype_basewise_statistics_dfs = []\n",
    "\n",
    "for phenotype, phenotype_df in study.supplemental.modalities_tidy.groupby('phenotype'):\n",
    "    modalities = phenotype_df.set_index('event_id').modality\n",
    "    modalities = modalities.drop(modalities.index.get_duplicates())\n",
    "    \n",
    "    conservation_dfs = []\n",
    "    basewise_statistics_dfs = []\n",
    "    \n",
    "\n",
    "    for intron_name, intron_conservation in intron_conservations.items():\n",
    "        mean_conservation = intron_conservation.groupby(modalities).mean()\n",
    "        mean_conservation.columns = mean_conservation.columns.astype(int) + 1\n",
    "        tidy = mean_conservation.unstack().reset_index()\n",
    "        tidy = tidy.rename(columns={'level_0':'genome_direction_nt', 0: 'Conservation'})\n",
    "        tidy['direction'] = intron_name\n",
    "        conservation_dfs.append(tidy)\n",
    "        conservation_grouped = intron_conservation.groupby(modalities)\n",
    "#         constitutive_name = '~1'\n",
    "\n",
    "#         constitutive = conservation_grouped.get_group(constitutive_name)\n",
    "        constitutive = constitutive_conservations[intron_name]\n",
    "    \n",
    "        constitutive_mean = constitutive.mean()\n",
    "        constitutive_mean.index = constitutive_mean.index.astype(int) + 1\n",
    "        tidy = constitutive_mean.reset_index()\n",
    "        tidy['modality'] = 'constitutive'\n",
    "        tidy['direction'] = intron_name\n",
    "        tidy = tidy.rename(columns={'index':'genome_direction_nt', 0: 'Conservation'})\n",
    "        conservation_dfs.append(tidy)\n",
    "        \n",
    "        for modality, df in conservation_grouped:\n",
    "#             if modality == constitutive_name:\n",
    "#                 continue\n",
    "            lines = []\n",
    "\n",
    "            for i in df:\n",
    "                statistic, p_value = mannwhitneyu(df[i], constitutive[i])\n",
    "                sign = np.sign(df[i].mean() - constitutive[i].mean())\n",
    "                lines.append([statistic, p_value, sign])\n",
    "            intron_basewise_statistics = pd.DataFrame(lines, columns=['U Statistic', '$p$-value', 'sign'])\n",
    "            intron_basewise_statistics['$q$-value'] = intron_basewise_statistics.shape[0] * intron_basewise_statistics['$p$-value']\n",
    "            intron_basewise_statistics['modality'] = modality\n",
    "            intron_basewise_statistics['intron'] = intron_name\n",
    "            intron_basewise_statistics = intron_basewise_statistics.reset_index()\n",
    "            intron_basewise_statistics = intron_basewise_statistics.rename(columns={'index': 'genome_direction_nt'})\n",
    "#             print '\\n', phenotype, intron_name, modality\n",
    "#             print intron_basewise_statistics.groupby('genome_direction_nt').size().head()\n",
    "            basewise_statistics_dfs.append(intron_basewise_statistics)\n",
    "\n",
    "    basewise_statistics = pd.concat(basewise_statistics_dfs, ignore_index=True)\n",
    "    basewise_statistics['$-\\log_{10}(q)$'] = -np.log10(basewise_statistics['$q$-value'])\n",
    "    basewise_statistics['$-\\log_{10}(p)$'] = -np.log10(basewise_statistics['$p$-value'])\n",
    "\n",
    "    basewise_statistics[values_col] = basewise_statistics['sign'] * basewise_statistics['$-\\log_{10}(q)$']\n",
    "    basewise_statistics['phenotype'] = phenotype\n",
    "#     print basewise_statistics.groupby(['modality', 'intron', 'genome_direction_nt']).size().head()\n",
    "#     print 'basewise_statistics.shape', basewise_statistics.shape\n",
    "    phenotype_basewise_statistics_dfs.append(basewise_statistics)\n",
    "#     basewise_statistics.head()\n",
    "\n",
    "#         var_conservation = intron_conservation.groupby(modalities).var()\n",
    "    modality_basewise_conservation = pd.concat(conservation_dfs, ignore_index=True)\n",
    "    modality_basewise_conservation['phenotype'] = phenotype\n",
    "    modality_basewise_conservation_dfs.append(modality_basewise_conservation)\n",
    "\n",
    "modality_basewise_conservation = pd.concat(modality_basewise_conservation_dfs, ignore_index=True)\n",
    "six.print_(modality_basewise_conservation.shape)\n",
    "modality_basewise_statistics = pd.concat(phenotype_basewise_statistics_dfs, ignore_index=True)\n",
    "six.print_(modality_basewise_statistics.shape)\n",
    "modality_basewise_statistics.head()"
   ]
  },
  {
   "cell_type": "markdown",
   "metadata": {},
   "source": [
    "### Compare intron modality conservation vs same modality in iPSC"
   ]
  },
  {
   "cell_type": "code",
   "execution_count": 17,
   "metadata": {
    "collapsed": false
   },
   "outputs": [
    {
     "data": {
      "text/html": [
       "<div>\n",
       "<table border=\"1\" class=\"dataframe\">\n",
       "  <thead>\n",
       "    <tr style=\"text-align: right;\">\n",
       "      <th></th>\n",
       "      <th>phenotype</th>\n",
       "      <th>intron</th>\n",
       "      <th>modality</th>\n",
       "      <th>U_statistic</th>\n",
       "      <th>p-value</th>\n",
       "    </tr>\n",
       "  </thead>\n",
       "  <tbody>\n",
       "    <tr>\n",
       "      <th>0</th>\n",
       "      <td>NPC</td>\n",
       "      <td>Downstream</td>\n",
       "      <td>ambivalent</td>\n",
       "      <td>24.5</td>\n",
       "      <td>0.092999</td>\n",
       "    </tr>\n",
       "    <tr>\n",
       "      <th>1</th>\n",
       "      <td>NPC</td>\n",
       "      <td>Downstream</td>\n",
       "      <td>bimodal</td>\n",
       "      <td>486682.5</td>\n",
       "      <td>0.069651</td>\n",
       "    </tr>\n",
       "    <tr>\n",
       "      <th>2</th>\n",
       "      <td>NPC</td>\n",
       "      <td>Downstream</td>\n",
       "      <td>excluded</td>\n",
       "      <td>811685.5</td>\n",
       "      <td>0.384578</td>\n",
       "    </tr>\n",
       "    <tr>\n",
       "      <th>3</th>\n",
       "      <td>NPC</td>\n",
       "      <td>Downstream</td>\n",
       "      <td>included</td>\n",
       "      <td>6885231.5</td>\n",
       "      <td>0.084176</td>\n",
       "    </tr>\n",
       "    <tr>\n",
       "      <th>4</th>\n",
       "      <td>MN</td>\n",
       "      <td>Downstream</td>\n",
       "      <td>ambivalent</td>\n",
       "      <td>5.0</td>\n",
       "      <td>0.137483</td>\n",
       "    </tr>\n",
       "    <tr>\n",
       "      <th>5</th>\n",
       "      <td>MN</td>\n",
       "      <td>Downstream</td>\n",
       "      <td>bimodal</td>\n",
       "      <td>222188.0</td>\n",
       "      <td>0.015065</td>\n",
       "    </tr>\n",
       "    <tr>\n",
       "      <th>6</th>\n",
       "      <td>MN</td>\n",
       "      <td>Downstream</td>\n",
       "      <td>excluded</td>\n",
       "      <td>420626.5</td>\n",
       "      <td>0.473124</td>\n",
       "    </tr>\n",
       "    <tr>\n",
       "      <th>7</th>\n",
       "      <td>MN</td>\n",
       "      <td>Downstream</td>\n",
       "      <td>included</td>\n",
       "      <td>3453627.5</td>\n",
       "      <td>0.008904</td>\n",
       "    </tr>\n",
       "    <tr>\n",
       "      <th>8</th>\n",
       "      <td>NPC</td>\n",
       "      <td>Upstream</td>\n",
       "      <td>ambivalent</td>\n",
       "      <td>18.5</td>\n",
       "      <td>0.045388</td>\n",
       "    </tr>\n",
       "    <tr>\n",
       "      <th>9</th>\n",
       "      <td>NPC</td>\n",
       "      <td>Upstream</td>\n",
       "      <td>bimodal</td>\n",
       "      <td>495887.0</td>\n",
       "      <td>0.217639</td>\n",
       "    </tr>\n",
       "    <tr>\n",
       "      <th>10</th>\n",
       "      <td>NPC</td>\n",
       "      <td>Upstream</td>\n",
       "      <td>excluded</td>\n",
       "      <td>816524.0</td>\n",
       "      <td>0.486202</td>\n",
       "    </tr>\n",
       "    <tr>\n",
       "      <th>11</th>\n",
       "      <td>NPC</td>\n",
       "      <td>Upstream</td>\n",
       "      <td>included</td>\n",
       "      <td>6853070.0</td>\n",
       "      <td>0.042854</td>\n",
       "    </tr>\n",
       "    <tr>\n",
       "      <th>12</th>\n",
       "      <td>MN</td>\n",
       "      <td>Upstream</td>\n",
       "      <td>ambivalent</td>\n",
       "      <td>5.0</td>\n",
       "      <td>0.137527</td>\n",
       "    </tr>\n",
       "    <tr>\n",
       "      <th>13</th>\n",
       "      <td>MN</td>\n",
       "      <td>Upstream</td>\n",
       "      <td>bimodal</td>\n",
       "      <td>215798.0</td>\n",
       "      <td>0.001596</td>\n",
       "    </tr>\n",
       "    <tr>\n",
       "      <th>14</th>\n",
       "      <td>MN</td>\n",
       "      <td>Upstream</td>\n",
       "      <td>excluded</td>\n",
       "      <td>412999.0</td>\n",
       "      <td>0.241730</td>\n",
       "    </tr>\n",
       "    <tr>\n",
       "      <th>15</th>\n",
       "      <td>MN</td>\n",
       "      <td>Upstream</td>\n",
       "      <td>included</td>\n",
       "      <td>3445691.5</td>\n",
       "      <td>0.006193</td>\n",
       "    </tr>\n",
       "  </tbody>\n",
       "</table>\n",
       "</div>"
      ],
      "text/plain": [
       "   phenotype      intron    modality  U_statistic   p-value\n",
       "0        NPC  Downstream  ambivalent         24.5  0.092999\n",
       "1        NPC  Downstream     bimodal     486682.5  0.069651\n",
       "2        NPC  Downstream    excluded     811685.5  0.384578\n",
       "3        NPC  Downstream    included    6885231.5  0.084176\n",
       "4         MN  Downstream  ambivalent          5.0  0.137483\n",
       "5         MN  Downstream     bimodal     222188.0  0.015065\n",
       "6         MN  Downstream    excluded     420626.5  0.473124\n",
       "7         MN  Downstream    included    3453627.5  0.008904\n",
       "8        NPC    Upstream  ambivalent         18.5  0.045388\n",
       "9        NPC    Upstream     bimodal     495887.0  0.217639\n",
       "10       NPC    Upstream    excluded     816524.0  0.486202\n",
       "11       NPC    Upstream    included    6853070.0  0.042854\n",
       "12        MN    Upstream  ambivalent          5.0  0.137527\n",
       "13        MN    Upstream     bimodal     215798.0  0.001596\n",
       "14        MN    Upstream    excluded     412999.0  0.241730\n",
       "15        MN    Upstream    included    3445691.5  0.006193"
      ]
     },
     "execution_count": 17,
     "metadata": {},
     "output_type": "execute_result"
    }
   ],
   "source": [
    "phenotype_grouped = study.supplemental.modalities_tidy.groupby('phenotype')\n",
    "ipsc = phenotype_grouped.get_group('iPSC')\n",
    "ipsc_modalities = ipsc.groupby('modality')\n",
    "\n",
    "lines = []\n",
    "\n",
    "for intron_name, intron_conservation in intron_conservations.items():\n",
    "#     six.print_(intron_name)\n",
    "    for phenotype in study.phenotype_order[1:]:\n",
    "#         six.print_('\\t', phenotype)\n",
    "        phenotype_df = phenotype_grouped.get_group(phenotype)\n",
    "        for modality, modality_df in phenotype_df.groupby('modality'):\n",
    "#             six.print_('\\t\\t', modality)\n",
    "            ipsc = ipsc_modalities.get_group(modality)\n",
    "            ipsc_conservation = intron_conservation.loc[ipsc['event_id']].mean(axis=1)\n",
    "            try:\n",
    "                phenotype_conservation = intron_conservation.loc[modality_df['event_id']].mean(axis=1)\n",
    "            except KeyError:\n",
    "                continue\n",
    "            \n",
    "            statistic, p_value = mannwhitneyu(ipsc_conservation, phenotype_conservation)\n",
    "#             six.print_('\\t\\t\\t', statistic, p_value)\n",
    "            lines.append([phenotype, intron_name, modality, statistic, p_value])\n",
    "intron_conservation_vs_ipsc = pd.DataFrame(lines, columns=['phenotype', 'intron', 'modality', 'U_statistic', 'p-value'])\n",
    "intron_conservation_vs_ipsc"
   ]
  },
  {
   "cell_type": "code",
   "execution_count": 18,
   "metadata": {
    "collapsed": false
   },
   "outputs": [
    {
     "data": {
      "text/html": [
       "<div>\n",
       "<table border=\"1\" class=\"dataframe\">\n",
       "  <thead>\n",
       "    <tr style=\"text-align: right;\">\n",
       "      <th></th>\n",
       "      <th>phenotype</th>\n",
       "      <th>intron</th>\n",
       "      <th>modality</th>\n",
       "      <th>U_statistic</th>\n",
       "      <th>p-value</th>\n",
       "      <th>q-value</th>\n",
       "    </tr>\n",
       "  </thead>\n",
       "  <tbody>\n",
       "    <tr>\n",
       "      <th>0</th>\n",
       "      <td>NPC</td>\n",
       "      <td>Downstream</td>\n",
       "      <td>ambivalent</td>\n",
       "      <td>24.5</td>\n",
       "      <td>0.092999</td>\n",
       "      <td>1.487977</td>\n",
       "    </tr>\n",
       "    <tr>\n",
       "      <th>1</th>\n",
       "      <td>NPC</td>\n",
       "      <td>Downstream</td>\n",
       "      <td>bimodal</td>\n",
       "      <td>486682.5</td>\n",
       "      <td>0.069651</td>\n",
       "      <td>1.114413</td>\n",
       "    </tr>\n",
       "    <tr>\n",
       "      <th>2</th>\n",
       "      <td>NPC</td>\n",
       "      <td>Downstream</td>\n",
       "      <td>excluded</td>\n",
       "      <td>811685.5</td>\n",
       "      <td>0.384578</td>\n",
       "      <td>6.153251</td>\n",
       "    </tr>\n",
       "    <tr>\n",
       "      <th>3</th>\n",
       "      <td>NPC</td>\n",
       "      <td>Downstream</td>\n",
       "      <td>included</td>\n",
       "      <td>6885231.5</td>\n",
       "      <td>0.084176</td>\n",
       "      <td>1.346818</td>\n",
       "    </tr>\n",
       "    <tr>\n",
       "      <th>4</th>\n",
       "      <td>MN</td>\n",
       "      <td>Downstream</td>\n",
       "      <td>ambivalent</td>\n",
       "      <td>5.0</td>\n",
       "      <td>0.137483</td>\n",
       "      <td>2.199724</td>\n",
       "    </tr>\n",
       "    <tr>\n",
       "      <th>5</th>\n",
       "      <td>MN</td>\n",
       "      <td>Downstream</td>\n",
       "      <td>bimodal</td>\n",
       "      <td>222188.0</td>\n",
       "      <td>0.015065</td>\n",
       "      <td>0.241041</td>\n",
       "    </tr>\n",
       "    <tr>\n",
       "      <th>6</th>\n",
       "      <td>MN</td>\n",
       "      <td>Downstream</td>\n",
       "      <td>excluded</td>\n",
       "      <td>420626.5</td>\n",
       "      <td>0.473124</td>\n",
       "      <td>7.569987</td>\n",
       "    </tr>\n",
       "    <tr>\n",
       "      <th>7</th>\n",
       "      <td>MN</td>\n",
       "      <td>Downstream</td>\n",
       "      <td>included</td>\n",
       "      <td>3453627.5</td>\n",
       "      <td>0.008904</td>\n",
       "      <td>0.142470</td>\n",
       "    </tr>\n",
       "    <tr>\n",
       "      <th>8</th>\n",
       "      <td>NPC</td>\n",
       "      <td>Upstream</td>\n",
       "      <td>ambivalent</td>\n",
       "      <td>18.5</td>\n",
       "      <td>0.045388</td>\n",
       "      <td>0.726202</td>\n",
       "    </tr>\n",
       "    <tr>\n",
       "      <th>9</th>\n",
       "      <td>NPC</td>\n",
       "      <td>Upstream</td>\n",
       "      <td>bimodal</td>\n",
       "      <td>495887.0</td>\n",
       "      <td>0.217639</td>\n",
       "      <td>3.482217</td>\n",
       "    </tr>\n",
       "    <tr>\n",
       "      <th>10</th>\n",
       "      <td>NPC</td>\n",
       "      <td>Upstream</td>\n",
       "      <td>excluded</td>\n",
       "      <td>816524.0</td>\n",
       "      <td>0.486202</td>\n",
       "      <td>7.779236</td>\n",
       "    </tr>\n",
       "    <tr>\n",
       "      <th>11</th>\n",
       "      <td>NPC</td>\n",
       "      <td>Upstream</td>\n",
       "      <td>included</td>\n",
       "      <td>6853070.0</td>\n",
       "      <td>0.042854</td>\n",
       "      <td>0.685660</td>\n",
       "    </tr>\n",
       "    <tr>\n",
       "      <th>12</th>\n",
       "      <td>MN</td>\n",
       "      <td>Upstream</td>\n",
       "      <td>ambivalent</td>\n",
       "      <td>5.0</td>\n",
       "      <td>0.137527</td>\n",
       "      <td>2.200439</td>\n",
       "    </tr>\n",
       "    <tr>\n",
       "      <th>13</th>\n",
       "      <td>MN</td>\n",
       "      <td>Upstream</td>\n",
       "      <td>bimodal</td>\n",
       "      <td>215798.0</td>\n",
       "      <td>0.001596</td>\n",
       "      <td>0.025539</td>\n",
       "    </tr>\n",
       "    <tr>\n",
       "      <th>14</th>\n",
       "      <td>MN</td>\n",
       "      <td>Upstream</td>\n",
       "      <td>excluded</td>\n",
       "      <td>412999.0</td>\n",
       "      <td>0.241730</td>\n",
       "      <td>3.867683</td>\n",
       "    </tr>\n",
       "    <tr>\n",
       "      <th>15</th>\n",
       "      <td>MN</td>\n",
       "      <td>Upstream</td>\n",
       "      <td>included</td>\n",
       "      <td>3445691.5</td>\n",
       "      <td>0.006193</td>\n",
       "      <td>0.099085</td>\n",
       "    </tr>\n",
       "  </tbody>\n",
       "</table>\n",
       "</div>"
      ],
      "text/plain": [
       "   phenotype      intron    modality  U_statistic   p-value   q-value\n",
       "0        NPC  Downstream  ambivalent         24.5  0.092999  1.487977\n",
       "1        NPC  Downstream     bimodal     486682.5  0.069651  1.114413\n",
       "2        NPC  Downstream    excluded     811685.5  0.384578  6.153251\n",
       "3        NPC  Downstream    included    6885231.5  0.084176  1.346818\n",
       "4         MN  Downstream  ambivalent          5.0  0.137483  2.199724\n",
       "5         MN  Downstream     bimodal     222188.0  0.015065  0.241041\n",
       "6         MN  Downstream    excluded     420626.5  0.473124  7.569987\n",
       "7         MN  Downstream    included    3453627.5  0.008904  0.142470\n",
       "8        NPC    Upstream  ambivalent         18.5  0.045388  0.726202\n",
       "9        NPC    Upstream     bimodal     495887.0  0.217639  3.482217\n",
       "10       NPC    Upstream    excluded     816524.0  0.486202  7.779236\n",
       "11       NPC    Upstream    included    6853070.0  0.042854  0.685660\n",
       "12        MN    Upstream  ambivalent          5.0  0.137527  2.200439\n",
       "13        MN    Upstream     bimodal     215798.0  0.001596  0.025539\n",
       "14        MN    Upstream    excluded     412999.0  0.241730  3.867683\n",
       "15        MN    Upstream    included    3445691.5  0.006193  0.099085"
      ]
     },
     "execution_count": 18,
     "metadata": {},
     "output_type": "execute_result"
    }
   ],
   "source": [
    "intron_conservation_vs_ipsc['q-value'] = intron_conservation_vs_ipsc['p-value'] * intron_conservation_vs_ipsc.shape[0]\n",
    "intron_conservation_vs_ipsc"
   ]
  },
  {
   "cell_type": "code",
   "execution_count": 19,
   "metadata": {
    "collapsed": false
   },
   "outputs": [
    {
     "data": {
      "text/html": [
       "<div>\n",
       "<table border=\"1\" class=\"dataframe\">\n",
       "  <thead>\n",
       "    <tr style=\"text-align: right;\">\n",
       "      <th></th>\n",
       "      <th>phenotype</th>\n",
       "      <th>intron</th>\n",
       "      <th>modality</th>\n",
       "      <th>U_statistic</th>\n",
       "      <th>p-value</th>\n",
       "      <th>q-value</th>\n",
       "    </tr>\n",
       "  </thead>\n",
       "  <tbody>\n",
       "    <tr>\n",
       "      <th>0</th>\n",
       "      <td>NPC</td>\n",
       "      <td>Downstream</td>\n",
       "      <td>ambivalent</td>\n",
       "      <td>24.5</td>\n",
       "      <td>0.092999</td>\n",
       "      <td>1.487977</td>\n",
       "    </tr>\n",
       "    <tr>\n",
       "      <th>1</th>\n",
       "      <td>NPC</td>\n",
       "      <td>Downstream</td>\n",
       "      <td>bimodal</td>\n",
       "      <td>486682.5</td>\n",
       "      <td>0.069651</td>\n",
       "      <td>1.114413</td>\n",
       "    </tr>\n",
       "    <tr>\n",
       "      <th>3</th>\n",
       "      <td>NPC</td>\n",
       "      <td>Downstream</td>\n",
       "      <td>included</td>\n",
       "      <td>6885231.5</td>\n",
       "      <td>0.084176</td>\n",
       "      <td>1.346818</td>\n",
       "    </tr>\n",
       "    <tr>\n",
       "      <th>5</th>\n",
       "      <td>MN</td>\n",
       "      <td>Downstream</td>\n",
       "      <td>bimodal</td>\n",
       "      <td>222188.0</td>\n",
       "      <td>0.015065</td>\n",
       "      <td>0.241041</td>\n",
       "    </tr>\n",
       "    <tr>\n",
       "      <th>7</th>\n",
       "      <td>MN</td>\n",
       "      <td>Downstream</td>\n",
       "      <td>included</td>\n",
       "      <td>3453627.5</td>\n",
       "      <td>0.008904</td>\n",
       "      <td>0.142470</td>\n",
       "    </tr>\n",
       "    <tr>\n",
       "      <th>8</th>\n",
       "      <td>NPC</td>\n",
       "      <td>Upstream</td>\n",
       "      <td>ambivalent</td>\n",
       "      <td>18.5</td>\n",
       "      <td>0.045388</td>\n",
       "      <td>0.726202</td>\n",
       "    </tr>\n",
       "    <tr>\n",
       "      <th>11</th>\n",
       "      <td>NPC</td>\n",
       "      <td>Upstream</td>\n",
       "      <td>included</td>\n",
       "      <td>6853070.0</td>\n",
       "      <td>0.042854</td>\n",
       "      <td>0.685660</td>\n",
       "    </tr>\n",
       "    <tr>\n",
       "      <th>13</th>\n",
       "      <td>MN</td>\n",
       "      <td>Upstream</td>\n",
       "      <td>bimodal</td>\n",
       "      <td>215798.0</td>\n",
       "      <td>0.001596</td>\n",
       "      <td>0.025539</td>\n",
       "    </tr>\n",
       "    <tr>\n",
       "      <th>15</th>\n",
       "      <td>MN</td>\n",
       "      <td>Upstream</td>\n",
       "      <td>included</td>\n",
       "      <td>3445691.5</td>\n",
       "      <td>0.006193</td>\n",
       "      <td>0.099085</td>\n",
       "    </tr>\n",
       "  </tbody>\n",
       "</table>\n",
       "</div>"
      ],
      "text/plain": [
       "   phenotype      intron    modality  U_statistic   p-value   q-value\n",
       "0        NPC  Downstream  ambivalent         24.5  0.092999  1.487977\n",
       "1        NPC  Downstream     bimodal     486682.5  0.069651  1.114413\n",
       "3        NPC  Downstream    included    6885231.5  0.084176  1.346818\n",
       "5         MN  Downstream     bimodal     222188.0  0.015065  0.241041\n",
       "7         MN  Downstream    included    3453627.5  0.008904  0.142470\n",
       "8        NPC    Upstream  ambivalent         18.5  0.045388  0.726202\n",
       "11       NPC    Upstream    included    6853070.0  0.042854  0.685660\n",
       "13        MN    Upstream     bimodal     215798.0  0.001596  0.025539\n",
       "15        MN    Upstream    included    3445691.5  0.006193  0.099085"
      ]
     },
     "execution_count": 19,
     "metadata": {},
     "output_type": "execute_result"
    }
   ],
   "source": [
    "intron_conservation_vs_ipsc.loc[intron_conservation_vs_ipsc['p-value'] < 0.1]"
   ]
  },
  {
   "cell_type": "code",
   "execution_count": 20,
   "metadata": {
    "collapsed": false
   },
   "outputs": [
    {
     "data": {
      "text/html": [
       "<div>\n",
       "<table border=\"1\" class=\"dataframe\">\n",
       "  <thead>\n",
       "    <tr style=\"text-align: right;\">\n",
       "      <th></th>\n",
       "      <th>phenotype</th>\n",
       "      <th>intron</th>\n",
       "      <th>modality</th>\n",
       "      <th>U_statistic</th>\n",
       "      <th>p-value</th>\n",
       "      <th>q-value</th>\n",
       "    </tr>\n",
       "  </thead>\n",
       "  <tbody>\n",
       "    <tr>\n",
       "      <th>13</th>\n",
       "      <td>MN</td>\n",
       "      <td>Upstream</td>\n",
       "      <td>bimodal</td>\n",
       "      <td>215798.0</td>\n",
       "      <td>0.001596</td>\n",
       "      <td>0.025539</td>\n",
       "    </tr>\n",
       "    <tr>\n",
       "      <th>15</th>\n",
       "      <td>MN</td>\n",
       "      <td>Upstream</td>\n",
       "      <td>included</td>\n",
       "      <td>3445691.5</td>\n",
       "      <td>0.006193</td>\n",
       "      <td>0.099085</td>\n",
       "    </tr>\n",
       "  </tbody>\n",
       "</table>\n",
       "</div>"
      ],
      "text/plain": [
       "   phenotype    intron  modality  U_statistic   p-value   q-value\n",
       "13        MN  Upstream   bimodal     215798.0  0.001596  0.025539\n",
       "15        MN  Upstream  included    3445691.5  0.006193  0.099085"
      ]
     },
     "execution_count": 20,
     "metadata": {},
     "output_type": "execute_result"
    }
   ],
   "source": [
    "intron_conservation_vs_ipsc.loc[intron_conservation_vs_ipsc['q-value'] < 0.1]"
   ]
  },
  {
   "cell_type": "code",
   "execution_count": 21,
   "metadata": {
    "collapsed": false
   },
   "outputs": [
    {
     "data": {
      "image/png": "[encoded data removed]",
      "text/plain": [
       "<matplotlib.figure.Figure at 0x2ae53f683a90>"
      ]
     },
     "metadata": {},
     "output_type": "display_data"
    }
   ],
   "source": [
    "g = sns.factorplot(col='direction', y='Conservation', hue='phenotype', size=2, col_order=intron_order,\n",
    "               x='modality', data=modality_basewise_conservation, kind='bar', order=MODALITY_ORDER,\n",
    "               hue_order=study.phenotype_order, palette=study.phenotype_color_ordered, )\n",
    "g.set_ylabels('Mean PhastCons\\n(Placental Mammal)')\n",
    "g.set(xlabel='')\n",
    "for ax in g.axes.flat:\n",
    "    plt.setp(ax.get_xticklabels(), rotation=90)\n",
    "# g.fig.tight_layout()\n",
    "g.savefig('{}/intron_mean_conservation.pdf'.format(figure_folder))"
   ]
  },
  {
   "cell_type": "code",
   "execution_count": 22,
   "metadata": {
    "collapsed": true
   },
   "outputs": [],
   "source": [
    "modality_order = ['constitutive'] + MODALITY_ORDER[:3] \n",
    "modality_palette = ['k'] + MODALITY_PALETTE[:3]"
   ]
  },
  {
   "cell_type": "code",
   "execution_count": 23,
   "metadata": {
    "collapsed": false
   },
   "outputs": [
    {
     "data": {
      "image/png": "[encoded data removed]",
      "text/plain": [
       "<matplotlib.figure.Figure at 0x2ae541440c50>"
      ]
     },
     "metadata": {},
     "output_type": "display_data"
    }
   ],
   "source": [
    "g = sns.factorplot(col='direction', y='Conservation', hue='phenotype', size=2, col_order=intron_order,\n",
    "               x='modality', data=modality_basewise_conservation, kind='bar', order=modality_order,\n",
    "               hue_order=study.phenotype_order, palette=study.phenotype_color_ordered, legend=False)\n",
    "g.set_ylabels('Mean PhastCons\\n(Placental Mammal)')\n",
    "g.set(xlabel='')\n",
    "for ax in g.axes.flat:\n",
    "    plt.setp(ax.get_xticklabels(), rotation=90)\n",
    "#     if ax.is_first_col():\n",
    "    ax.set(yticks=[0, 0.08, 0.16], ylim=(0, 0.16))\n",
    "g.fig.tight_layout()\n",
    "g.set_titles('{col_name}')\n",
    "g.savefig('{}/intron_mean_conservation_excluded_bimodal_included.pdf'.format(figure_folder))"
   ]
  },
  {
   "cell_type": "markdown",
   "metadata": {},
   "source": [
    "## Plot basewise conservation"
   ]
  },
  {
   "cell_type": "code",
   "execution_count": null,
   "metadata": {
    "collapsed": true
   },
   "outputs": [],
   "source": []
  },
  {
   "cell_type": "code",
   "execution_count": 24,
   "metadata": {
    "collapsed": false
   },
   "outputs": [
    {
     "data": {
      "image/png": "[encoded data removed]",
      "text/plain": [
       "<matplotlib.figure.Figure at 0x2ae54724d510>"
      ]
     },
     "metadata": {},
     "output_type": "display_data"
    }
   ],
   "source": [
    "g = sns.FacetGrid(modality_basewise_conservation, hue='modality', hue_order=modality_order,\n",
    "                 palette=modality_palette, row='phenotype', row_order=study.phenotype_order,\n",
    "                  col='direction', sharex=False, #gridspec_kws=dict(wspace=0.1), #legend=False,\n",
    "                  col_order=intron_order, size=2)\n",
    "g.map(plt.plot, 'genome_direction_nt', 'Conservation')\n",
    "for ax in g.axes.flat:\n",
    "    ax.locator_params(nbins=4)\n",
    "#         ax.locator_params('y', nbins=4)\n",
    "    if ax.is_first_col():\n",
    "        ax.set(ylabel='Mean PhastCons\\n(Placental Mammal)',\n",
    "               xticklabels=list(reversed([int(x) for x in ax.get_xticks()])))\n",
    "    else:\n",
    "        sns.despine(ax=ax, left=True)\n",
    "        ax.yaxis.set_ticks_position('none')\n",
    "g.set_titles('{row_name}')\n",
    "g.set(xlabel='Nucleotides from exon', ylim=(0, 1))\n",
    "# g.add_legend();\n",
    "g.fig.subplots_adjust(wspace=0.01)\n",
    "g.fig.tight_layout()\n",
    "g.savefig('{}/intron_basewise_conservation_400nt.pdf'.format(figure_folder))"
   ]
  },
  {
   "cell_type": "code",
   "execution_count": 25,
   "metadata": {
    "collapsed": false
   },
   "outputs": [
    {
     "data": {
      "image/png": "[encoded data removed]",
      "text/plain": [
       "<matplotlib.figure.Figure at 0x2ae546cdf850>"
      ]
     },
     "metadata": {},
     "output_type": "display_data"
    }
   ],
   "source": [
    "g = sns.FacetGrid(modality_basewise_conservation, hue='modality', hue_order=modality_order,\n",
    "                 palette=modality_palette, row='phenotype', row_order=study.phenotype_order,\n",
    "                  col='direction', sharex=False, #gridspec_kws=dict(wspace=0.2), #legend=False,\n",
    "                  col_order=intron_order, size=1.5, aspect=1.3)\n",
    "g.map(plt.plot, 'genome_direction_nt', 'Conservation')\n",
    "for ax in g.axes.flat:\n",
    "    ax.locator_params(nbins=4)\n",
    "#         ax.locator_params('y', nbins=4)\n",
    "    if ax.is_first_col():\n",
    "        xticklabels = ax.get_xticks()\n",
    "        ax.set(xlim=(200, 400))\n",
    "        ax.set(ylabel='Mean PhastCons\\n(Placental Mammal)',\n",
    "               xticklabels=[200, 100, 0], xticks=(200, 300, 400))\n",
    "    else:\n",
    "        sns.despine(ax=ax, left=True)\n",
    "        ax.yaxis.set_ticks_position('none')\n",
    "        ax.set(xlim=(0, 200), xticklabels=[0, 100, 200], xticks=[0, 100, 200])\n",
    "g.set_titles('{row_name}')\n",
    "g.set(xlabel='', ylim=(0, 1))\n",
    "# g.add_legend();\n",
    "g.fig.subplots_adjust(wspace=0.01)\n",
    "g.fig.tight_layout()\n",
    "g.savefig('{}/intron_basewise_conservation_200nt.pdf'.format(figure_folder))"
   ]
  },
  {
   "cell_type": "code",
   "execution_count": 26,
   "metadata": {
    "collapsed": false
   },
   "outputs": [],
   "source": [
    "# import matplotlib as mpl\n",
    "# dark2 = sns.color_palette('Dark2', n_colors=10)\n",
    "# sns.palplot(dark2)\n",
    "# accent = sns.color_palette('Accent', n_colors=10)\n",
    "# sns.palplot(accent)\n",
    "\n",
    "# sns.palplot(sns.color_palette('PRGn', n_colors=2))\n",
    "# direction_to_color = dict(zip(['upstream', 'downstream'], \n",
    "#                             map(mpl.colors.rgb2hex, sns.color_palette('PRGn', n_colors=2))))\n",
    "\n",
    "\n",
    "# # This is the winner!!\n",
    "# import matplotlib as mpl\n",
    "# celltype_palette = dark2[0], accent[4], dark2[3], accent[2]\n",
    "# sns.palplot(celltype_palette)\n",
    "\n",
    "# celltype_palette = map(mpl.colors.rgb2hex, celltype_palette)\n",
    "\n",
    "# phenotype_to_color = dict(zip(['iPSC', 'NPC', \"MN\", \"sMN\"], celltype_palette))\n",
    "# phenotype_to_color"
   ]
  },
  {
   "cell_type": "code",
   "execution_count": null,
   "metadata": {
    "collapsed": false
   },
   "outputs": [],
   "source": []
  },
  {
   "cell_type": "code",
   "execution_count": 27,
   "metadata": {
    "collapsed": false
   },
   "outputs": [],
   "source": [
    "cmap = sns.dark_palette((177, 66, 90), as_cmap=True, input='husl')"
   ]
  },
  {
   "cell_type": "code",
   "execution_count": 28,
   "metadata": {
    "collapsed": false
   },
   "outputs": [
    {
     "data": {
      "image/png": "[encoded data removed]",
      "text/plain": [
       "<matplotlib.figure.Figure at 0x2ae53f683f10>"
      ]
     },
     "metadata": {},
     "output_type": "display_data"
    },
    {
     "data": {
      "image/png": "[encoded data removed]",
      "text/plain": [
       "<matplotlib.figure.Figure at 0x2ae571377290>"
      ]
     },
     "metadata": {},
     "output_type": "display_data"
    },
    {
     "data": {
      "image/png": "[encoded data removed]",
      "text/plain": [
       "<matplotlib.figure.Figure at 0x2ae571fac810>"
      ]
     },
     "metadata": {},
     "output_type": "display_data"
    }
   ],
   "source": [
    "for phenotype, phenotype_df in modality_basewise_statistics.groupby('phenotype'):\n",
    "    # PLot significance of basewise statistics\n",
    "    figwidth = 2.5 * 2\n",
    "    figheight = 0.3 * len(modality_basewise_statistics.groupby('modality').groups)\n",
    "\n",
    "    fig, axes = plt.subplots(ncols=3, figsize=(figwidth, figheight), gridspec_kw=dict(width_ratios=[1, 1, 0.1]))\n",
    "    cbar_ax = axes[-1]\n",
    "\n",
    "    grouped = phenotype_df.groupby('intron')\n",
    "\n",
    "    for intron, ax in zip(intron_order, axes):\n",
    "        df = grouped.get_group(intron)\n",
    "        basewise_statistics_2d = df.pivot(index='modality', columns='genome_direction_nt', values='$-\\log_{10}(q)$')\n",
    "        basewise_statistics_2d = basewise_statistics_2d.loc[MODALITY_ORDER[:3]].dropna()\n",
    "        sns.heatmap(basewise_statistics_2d, cmap=cmap, ax=ax, vmin=0,\n",
    "                    cbar_kws=dict(label='$-\\log_{10}(q)$'), \n",
    "                    cbar_ax=cbar_ax)\n",
    "        ax.set(ylabel='', xlabel='', xticks=[0, 200, 400])\n",
    "        if not ax.is_first_col():\n",
    "            ax.set(yticks=[], ylabel='')\n",
    "        else:\n",
    "            plt.setp(ax.get_yticklabels(), rotation=0)\n",
    "    fig.subplots_adjust(wspace=0.01)\n",
    "    fig.tight_layout()\n",
    "    fig.savefig('{}/intron_basewise_conservation_statistics_{}_q_values.pdf'.format(figure_folder, phenotype))"
   ]
  },
  {
   "cell_type": "code",
   "execution_count": 29,
   "metadata": {
    "collapsed": true
   },
   "outputs": [],
   "source": [
    "# cmap = sns.light_palette((177, 66, 90), as_cmap=True, input='husl')\n",
    "cmap = 'Greys'"
   ]
  },
  {
   "cell_type": "code",
   "execution_count": 30,
   "metadata": {
    "collapsed": true
   },
   "outputs": [],
   "source": [
    "import matplotlib as mpl"
   ]
  },
  {
   "cell_type": "code",
   "execution_count": 31,
   "metadata": {
    "collapsed": true
   },
   "outputs": [],
   "source": [
    "locator = mpl.ticker.MaxNLocator(4)"
   ]
  },
  {
   "cell_type": "code",
   "execution_count": 32,
   "metadata": {
    "collapsed": false
   },
   "outputs": [
    {
     "data": {
      "image/png": "[encoded data removed]",
      "text/plain": [
       "<matplotlib.figure.Figure at 0x2ae573490110>"
      ]
     },
     "metadata": {},
     "output_type": "display_data"
    },
    {
     "data": {
      "image/png": "[encoded data removed]",
      "text/plain": [
       "<matplotlib.figure.Figure at 0x2ae571ad54d0>"
      ]
     },
     "metadata": {},
     "output_type": "display_data"
    },
    {
     "data": {
      "image/png": "[encoded data removed]",
      "text/plain": [
       "<matplotlib.figure.Figure at 0x2ae571c75f90>"
      ]
     },
     "metadata": {},
     "output_type": "display_data"
    }
   ],
   "source": [
    "for phenotype, phenotype_df in modality_basewise_statistics.groupby('phenotype'):\n",
    "    # PLot significance of basewise statistics\n",
    "    figwidth = 2.5 * 2\n",
    "    figheight = 0.15 * len(modality_basewise_statistics.groupby('modality').groups)\n",
    "\n",
    "    fig, axes = plt.subplots(ncols=3, figsize=(figwidth, figheight), \n",
    "                             gridspec_kw=dict(width_ratios=[1, 1, 0.1], wspace=0.2))\n",
    "    cbar_ax = axes[-1]\n",
    "\n",
    "    grouped = phenotype_df.groupby('intron')\n",
    "\n",
    "    for intron, ax in zip(intron_order, axes):\n",
    "        df = grouped.get_group(intron)\n",
    "        basewise_statistics_2d = df.pivot(index='modality', columns='genome_direction_nt', values='$-\\log_{10}(q)$')\n",
    "        basewise_statistics_2d = basewise_statistics_2d.loc[MODALITY_ORDER[:3]].dropna()\n",
    "        sns.heatmap(basewise_statistics_2d, cmap=cmap, ax=ax, vmin=0, vmax=10,\n",
    "                    cbar_kws=dict(label='$-\\log_{10}(q)$'), \n",
    "                    cbar_ax=cbar_ax)\n",
    "        ax.set(xticks=[])\n",
    "        if not ax.is_first_col():\n",
    "            ax.set(yticks=[], ylabel='', xlim=(0, 200), xlabel='',\n",
    "                   xticklabels=[0, 100, 200], xticks=(0, 100, 200))\n",
    "        else:\n",
    "            plt.setp(ax.get_yticklabels(), rotation=0)\n",
    "            xticklabels = ax.get_xticks()\n",
    "            ax.set(xlim=(200, 400), xlabel='', xticklabels=[200, 100, 0], \n",
    "                   xticks=(200, 300, 400), ylabel='')\n",
    "    cbar_ax.locator_params('y', nbins=4)\n",
    "    cbar_ax.yaxis.set_ticklabels([0, 5, 10])\n",
    "    fig.subplots_adjust(wspace=0.01)\n",
    "    sns.despine(bottom=False, right=False, left=False, top=False)\n",
    "#     fig.tight_layout()\n",
    "    fig.savefig('{}/intron_basewise_conservation_statistics_{}_q_values_200nt.pdf'.format(figure_folder, phenotype))"
   ]
  },
  {
   "cell_type": "code",
   "execution_count": 33,
   "metadata": {
    "collapsed": false
   },
   "outputs": [
    {
     "data": {
      "image/png": "[encoded data removed]",
      "text/plain": [
       "<matplotlib.figure.Figure at 0x2ae5720d1990>"
      ]
     },
     "metadata": {},
     "output_type": "display_data"
    },
    {
     "data": {
      "image/png": "[encoded data removed]",
      "text/plain": [
       "<matplotlib.figure.Figure at 0x2ae546c35450>"
      ]
     },
     "metadata": {},
     "output_type": "display_data"
    },
    {
     "data": {
      "image/png": "[encoded data removed]",
      "text/plain": [
       "<matplotlib.figure.Figure at 0x2ae57393f950>"
      ]
     },
     "metadata": {},
     "output_type": "display_data"
    }
   ],
   "source": [
    "for phenotype, phenotype_df in modality_basewise_statistics.groupby('phenotype'):\n",
    "    # PLot significance of basewise statistics\n",
    "    figwidth = 2.5 * 2\n",
    "    figheight = 0.3 * len(modality_basewise_statistics.groupby('modality').groups)\n",
    "\n",
    "    fig, axes = plt.subplots(ncols=3, figsize=(figwidth, figheight), gridspec_kw=dict(width_ratios=[1, 1, 0.1]))\n",
    "    cbar_ax = axes[-1]\n",
    "\n",
    "    grouped = phenotype_df.groupby('intron')\n",
    "\n",
    "    for intron, ax in zip(intron_order, axes):\n",
    "        df = grouped.get_group(intron)\n",
    "        basewise_statistics_2d = df.pivot(index='modality', columns='genome_direction_nt', values='$-\\log_{10}(p)$')\n",
    "        basewise_statistics_2d = basewise_statistics_2d.loc[MODALITY_ORDER[:3]].dropna()\n",
    "        sns.heatmap(basewise_statistics_2d, cmap=cmap, ax=ax,\n",
    "                    cbar_kws=dict(label='$-\\log_{10}(p)$'), \n",
    "                    cbar_ax=cbar_ax)\n",
    "        ax.set(xticks=[])\n",
    "        if not ax.is_first_col():\n",
    "            ax.set(yticks=[], ylabel='')\n",
    "        else:\n",
    "            plt.setp(ax.get_yticklabels(), rotation=0)\n",
    "    fig.subplots_adjust(wspace=0.01)\n",
    "    fig.tight_layout()\n",
    "    fig.savefig('{}/intron_basewise_conservation_statistics_{}_p_values.pdf'.format(figure_folder, phenotype))"
   ]
  },
  {
   "cell_type": "markdown",
   "metadata": {
    "collapsed": true
   },
   "source": [
    "## Nucleotide content"
   ]
  },
  {
   "cell_type": "code",
   "execution_count": null,
   "metadata": {
    "collapsed": true
   },
   "outputs": [],
   "source": []
  }
 ],
 "metadata": {
  "kernelspec": {
   "display_name": "Python 2",
   "language": "python",
   "name": "python2"
  },
  "language_info": {
   "codemirror_mode": {
    "name": "ipython",
    "version": 2
   },
   "file_extension": ".py",
   "mimetype": "text/x-python",
   "name": "python",
   "nbconvert_exporter": "python",
   "pygments_lexer": "ipython2",
   "version": "2.7.11"
  }
 },
 "nbformat": 4,
 "nbformat_minor": 0
}
