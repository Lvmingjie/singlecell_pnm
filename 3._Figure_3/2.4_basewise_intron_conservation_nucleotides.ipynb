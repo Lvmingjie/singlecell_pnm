{
 "cells": [
  {
   "cell_type": "code",
   "execution_count": 3,
   "metadata": {
    "collapsed": false
   },
   "outputs": [
    {
     "name": "stdout",
     "output_type": "stream",
     "text": [
      "The autoreload extension is already loaded. To reload it, use:\n",
      "  %reload_ext autoreload\n",
      "mkdir: cannot create directory `pdf': File exists\n",
      "2016-05-03 15:21:56\tReading datapackage from /projects/ps-yeolab/obotvinnik/flotilla_projects/singlecell_pnm_figure2_modalities_bayesian/datapackage.json\n",
      "2016-05-03 15:21:56\tParsing datapackage to create a Study object\n",
      "2016-05-03 15:22:27\tInitializing Study\n",
      "2016-05-03 15:22:27\tInitializing Predictor configuration manager for Study\n",
      "2016-05-03 15:22:27\tPredictor ExtraTreesClassifier is of type <class 'sklearn.ensemble.forest.ExtraTreesClassifier'>\n",
      "2016-05-03 15:22:27\tAdded ExtraTreesClassifier to default predictors\n",
      "2016-05-03 15:22:27\tPredictor ExtraTreesRegressor is of type <class 'sklearn.ensemble.forest.ExtraTreesRegressor'>\n",
      "2016-05-03 15:22:27\tAdded ExtraTreesRegressor to default predictors\n",
      "2016-05-03 15:22:27\tPredictor GradientBoostingClassifier is of type <class 'sklearn.ensemble.gradient_boosting.GradientBoostingClassifier'>\n",
      "2016-05-03 15:22:27\tAdded GradientBoostingClassifier to default predictors\n",
      "2016-05-03 15:22:27\tPredictor GradientBoostingRegressor is of type <class 'sklearn.ensemble.gradient_boosting.GradientBoostingRegressor'>\n",
      "2016-05-03 15:22:27\tAdded GradientBoostingRegressor to default predictors\n",
      "2016-05-03 15:22:30\tBuilding Gene Ontology database...\n",
      "2016-05-03 15:22:36\t\tDone.\n",
      "2016-05-03 15:22:37\tLoading metadata\n",
      "2016-05-03 15:22:37\tLoading expression data\n",
      "2016-05-03 15:22:37\tInitializing expression\n",
      "2016-05-03 15:22:37\tDone initializing expression\n",
      "2016-05-03 15:22:38\tLoading splicing data\n",
      "2016-05-03 15:22:38\tInitializing splicing\n",
      "2016-05-03 15:22:38\tDone initializing splicing\n",
      "2016-05-03 15:22:38\tSuccessfully initialized a Study object!\n"
     ]
    }
   ],
   "source": [
    "import six\n",
    "\n",
    "%load_ext autoreload\n",
    "%autoreload 2\n",
    "\n",
    "import matplotlib.pyplot as plt\n",
    "import seaborn as sns\n",
    "import numpy as np\n",
    "import pandas as pd\n",
    "import six\n",
    "\n",
    "sns.set(style='ticks', context='paper', rc={'font.sans-serif':'Arial', 'pdf.fonttype': 42})\n",
    "\n",
    "%matplotlib inline\n",
    "\n",
    "\n",
    "folder = 'pdf'\n",
    "!mkdir $folder\n",
    "import flotilla\n",
    "flotilla_dir = '/projects/ps-yeolab/obotvinnik/flotilla_projects'\n",
    "\n",
    "study = flotilla.embark('singlecell_pnm_figure2_modalities_bayesian', flotilla_dir=flotilla_dir)\n",
    "not_outliers = study.splicing.singles.index.difference(study.splicing.outliers.index)\n",
    "\n",
    "psi = study.splicing.singles.ix[not_outliers]\n",
    "grouped = psi.groupby(study.sample_id_to_phenotype)\n",
    "psi_filtered = grouped.apply(lambda x: x.dropna(axis=1, thresh=20))"
   ]
  },
  {
   "cell_type": "code",
   "execution_count": 4,
   "metadata": {
    "collapsed": false
   },
   "outputs": [],
   "source": [
    "figure_folder = '{}/intron_conservation'.format(folder)\n",
    "! mkdir $figure_folder"
   ]
  },
  {
   "cell_type": "code",
   "execution_count": 5,
   "metadata": {
    "collapsed": false
   },
   "outputs": [
    {
     "name": "stdout",
     "output_type": "stream",
     "text": [
      "ls: cannot access /projects/ps-yeolab/obotvinnik/singlecell_pnms/exon2*csv: No such file or directory\r\n"
     ]
    }
   ],
   "source": [
    "ls /projects/ps-yeolab/obotvinnik/singlecell_pnms/exon2*csv"
   ]
  },
  {
   "cell_type": "code",
   "execution_count": 6,
   "metadata": {
    "collapsed": true
   },
   "outputs": [],
   "source": [
    "csv_folder = '/projects/ps-yeolab/obotvinnik/singlecell_pnms/csvs_for_paper'"
   ]
  },
  {
   "cell_type": "code",
   "execution_count": 7,
   "metadata": {
    "collapsed": true
   },
   "outputs": [],
   "source": [
    "splicing_feature_folder = '{}/splicing_feature_data'.format(csv_folder)\n",
    "alternative_feature_folder = '{}/alternative'.format(splicing_feature_folder)\n",
    "constitutive_feature_folder = '{}/constitutive'.format(splicing_feature_folder)"
   ]
  },
  {
   "cell_type": "code",
   "execution_count": 8,
   "metadata": {
    "collapsed": false
   },
   "outputs": [
    {
     "data": {
      "text/plain": [
       "'/projects/ps-yeolab/obotvinnik/singlecell_pnms/csvs_for_paper/splicing_feature_data/alternative'"
      ]
     },
     "execution_count": 8,
     "metadata": {},
     "output_type": "execute_result"
    }
   ],
   "source": [
    "alternative_feature_folder"
   ]
  },
  {
   "cell_type": "code",
   "execution_count": 9,
   "metadata": {
    "collapsed": false
   },
   "outputs": [],
   "source": [
    "downstream = pd.read_csv('{}/downstream400_placental_mammal_conservation.csv'.format(alternative_feature_folder), \n",
    "                         index_col=0)\n",
    "upstream = pd.read_csv('{}/upstream400_placental_mammal_conservation.csv'.format(alternative_feature_folder), \n",
    "                       index_col=0)"
   ]
  },
  {
   "cell_type": "code",
   "execution_count": 10,
   "metadata": {
    "collapsed": true
   },
   "outputs": [],
   "source": [
    "conservation_folder = '{}/conservation'.format(folder)"
   ]
  },
  {
   "cell_type": "code",
   "execution_count": 11,
   "metadata": {
    "collapsed": true
   },
   "outputs": [],
   "source": [
    "from anchor import MODALITY_ORDER, MODALITY_PALETTE"
   ]
  },
  {
   "cell_type": "code",
   "execution_count": 12,
   "metadata": {
    "collapsed": true
   },
   "outputs": [],
   "source": [
    "sns.set(style='ticks', context='paper')"
   ]
  },
  {
   "cell_type": "code",
   "execution_count": 13,
   "metadata": {
    "collapsed": true
   },
   "outputs": [],
   "source": [
    "from anchor import MODALITY_ORDER"
   ]
  },
  {
   "cell_type": "code",
   "execution_count": 14,
   "metadata": {
    "collapsed": true
   },
   "outputs": [],
   "source": [
    "constitutive_downstream = pd.read_csv('{}/downstream400_placental_mammal_conservation.csv'.format(constitutive_feature_folder), \n",
    "                         index_col=0)\n",
    "constitutive_upstream = pd.read_csv('{}/upstream400_placental_mammal_conservation.csv'.format(constitutive_feature_folder), \n",
    "                       index_col=0)"
   ]
  },
  {
   "cell_type": "code",
   "execution_count": 15,
   "metadata": {
    "collapsed": true
   },
   "outputs": [],
   "source": [
    "constitutive_conservations = {'Upstream': constitutive_upstream, 'Downstream': constitutive_downstream}"
   ]
  },
  {
   "cell_type": "code",
   "execution_count": 16,
   "metadata": {
    "collapsed": true
   },
   "outputs": [],
   "source": [
    "from scipy.stats import mannwhitneyu"
   ]
  },
  {
   "cell_type": "code",
   "execution_count": 17,
   "metadata": {
    "collapsed": false,
    "scrolled": false
   },
   "outputs": [
    {
     "name": "stdout",
     "output_type": "stream",
     "text": [
      "(12800, 5)\n",
      "(10400, 11)\n"
     ]
    },
    {
     "data": {
      "text/html": [
       "<div>\n",
       "<table border=\"1\" class=\"dataframe\">\n",
       "  <thead>\n",
       "    <tr style=\"text-align: right;\">\n",
       "      <th></th>\n",
       "      <th>genome_direction_nt</th>\n",
       "      <th>U Statistic</th>\n",
       "      <th>$p$-value</th>\n",
       "      <th>sign</th>\n",
       "      <th>$q$-value</th>\n",
       "      <th>modality</th>\n",
       "      <th>intron</th>\n",
       "      <th>$-\\log_{10}(q)$</th>\n",
       "      <th>$-\\log_{10}(p)$</th>\n",
       "      <th>$\\mathrm{sgn}(\\Delta\\mathrm{mean}) \\times\\left(-\\log_{10}(q)\\right)$</th>\n",
       "      <th>phenotype</th>\n",
       "    </tr>\n",
       "  </thead>\n",
       "  <tbody>\n",
       "    <tr>\n",
       "      <th>0</th>\n",
       "      <td>0</td>\n",
       "      <td>955385.5</td>\n",
       "      <td>0.004307</td>\n",
       "      <td>-1</td>\n",
       "      <td>1.722685</td>\n",
       "      <td>bimodal</td>\n",
       "      <td>Downstream</td>\n",
       "      <td>-0.236206</td>\n",
       "      <td>2.365854</td>\n",
       "      <td>0.236206</td>\n",
       "      <td>MN</td>\n",
       "    </tr>\n",
       "    <tr>\n",
       "      <th>1</th>\n",
       "      <td>1</td>\n",
       "      <td>988032.0</td>\n",
       "      <td>0.065152</td>\n",
       "      <td>-1</td>\n",
       "      <td>26.060666</td>\n",
       "      <td>bimodal</td>\n",
       "      <td>Downstream</td>\n",
       "      <td>-1.415986</td>\n",
       "      <td>1.186074</td>\n",
       "      <td>1.415986</td>\n",
       "      <td>MN</td>\n",
       "    </tr>\n",
       "    <tr>\n",
       "      <th>2</th>\n",
       "      <td>2</td>\n",
       "      <td>1037589.0</td>\n",
       "      <td>0.728699</td>\n",
       "      <td>-1</td>\n",
       "      <td>291.479745</td>\n",
       "      <td>bimodal</td>\n",
       "      <td>Downstream</td>\n",
       "      <td>-2.464608</td>\n",
       "      <td>0.137452</td>\n",
       "      <td>2.464608</td>\n",
       "      <td>MN</td>\n",
       "    </tr>\n",
       "    <tr>\n",
       "      <th>3</th>\n",
       "      <td>3</td>\n",
       "      <td>1077945.0</td>\n",
       "      <td>0.378121</td>\n",
       "      <td>-1</td>\n",
       "      <td>151.248296</td>\n",
       "      <td>bimodal</td>\n",
       "      <td>Downstream</td>\n",
       "      <td>-2.179690</td>\n",
       "      <td>0.422370</td>\n",
       "      <td>2.179690</td>\n",
       "      <td>MN</td>\n",
       "    </tr>\n",
       "    <tr>\n",
       "      <th>4</th>\n",
       "      <td>4</td>\n",
       "      <td>1101202.0</td>\n",
       "      <td>0.113267</td>\n",
       "      <td>-1</td>\n",
       "      <td>45.306727</td>\n",
       "      <td>bimodal</td>\n",
       "      <td>Downstream</td>\n",
       "      <td>-1.656163</td>\n",
       "      <td>0.945897</td>\n",
       "      <td>1.656163</td>\n",
       "      <td>MN</td>\n",
       "    </tr>\n",
       "  </tbody>\n",
       "</table>\n",
       "</div>"
      ],
      "text/plain": [
       "   genome_direction_nt  U Statistic  $p$-value  sign   $q$-value modality  \\\n",
       "0                    0     955385.5   0.004307    -1    1.722685  bimodal   \n",
       "1                    1     988032.0   0.065152    -1   26.060666  bimodal   \n",
       "2                    2    1037589.0   0.728699    -1  291.479745  bimodal   \n",
       "3                    3    1077945.0   0.378121    -1  151.248296  bimodal   \n",
       "4                    4    1101202.0   0.113267    -1   45.306727  bimodal   \n",
       "\n",
       "       intron  $-\\log_{10}(q)$  $-\\log_{10}(p)$  \\\n",
       "0  Downstream        -0.236206         2.365854   \n",
       "1  Downstream        -1.415986         1.186074   \n",
       "2  Downstream        -2.464608         0.137452   \n",
       "3  Downstream        -2.179690         0.422370   \n",
       "4  Downstream        -1.656163         0.945897   \n",
       "\n",
       "   $\\mathrm{sgn}(\\Delta\\mathrm{mean}) \\times\\left(-\\log_{10}(q)\\right)$  \\\n",
       "0                                           0.236206                      \n",
       "1                                           1.415986                      \n",
       "2                                           2.464608                      \n",
       "3                                           2.179690                      \n",
       "4                                           1.656163                      \n",
       "\n",
       "  phenotype  \n",
       "0        MN  \n",
       "1        MN  \n",
       "2        MN  \n",
       "3        MN  \n",
       "4        MN  "
      ]
     },
     "execution_count": 17,
     "metadata": {},
     "output_type": "execute_result"
    }
   ],
   "source": [
    "# %%time\n",
    "\n",
    "intron_conservations = {'Upstream': upstream, \n",
    "                        'Downstream': downstream}\n",
    "\n",
    "modality_basewise_conservation_dfs = []\n",
    "\n",
    "intron_order = ['Upstream', 'Downstream']\n",
    "\n",
    "values_col = r'$\\mathrm{sgn}(\\Delta\\mathrm{mean}) \\times\\left(-\\log_{10}(q)\\right)$'\n",
    "\n",
    "\n",
    "phenotype_basewise_statistics_dfs = []\n",
    "\n",
    "for phenotype, phenotype_df in study.supplemental.modalities_tidy.groupby('phenotype'):\n",
    "    modalities = phenotype_df.set_index('event_id').modality\n",
    "    modalities = modalities.drop(modalities.index.get_duplicates())\n",
    "    \n",
    "    conservation_dfs = []\n",
    "    basewise_statistics_dfs = []\n",
    "    \n",
    "\n",
    "    for intron_name, intron_conservation in intron_conservations.items():\n",
    "        mean_conservation = intron_conservation.groupby(modalities).mean()\n",
    "        mean_conservation.columns = mean_conservation.columns.astype(int) + 1\n",
    "        tidy = mean_conservation.unstack().reset_index()\n",
    "        tidy = tidy.rename(columns={'level_0':'genome_direction_nt', 0: 'Conservation'})\n",
    "        tidy['direction'] = intron_name\n",
    "        conservation_dfs.append(tidy)\n",
    "        conservation_grouped = intron_conservation.groupby(modalities)\n",
    "#         constitutive_name = '~1'\n",
    "\n",
    "#         constitutive = conservation_grouped.get_group(constitutive_name)\n",
    "        constitutive = constitutive_conservations[intron_name]\n",
    "    \n",
    "        constitutive_mean = constitutive.mean()\n",
    "        constitutive_mean.index = constitutive_mean.index.astype(int) + 1\n",
    "        tidy = constitutive_mean.reset_index()\n",
    "        tidy['modality'] = 'constitutive'\n",
    "        tidy['direction'] = intron_name\n",
    "        tidy = tidy.rename(columns={'index':'genome_direction_nt', 0: 'Conservation'})\n",
    "        conservation_dfs.append(tidy)\n",
    "        \n",
    "        for modality, df in conservation_grouped:\n",
    "#             if modality == constitutive_name:\n",
    "#                 continue\n",
    "            lines = []\n",
    "\n",
    "            for i in df:\n",
    "                statistic, p_value = mannwhitneyu(df[i], constitutive[i])\n",
    "                sign = np.sign(df[i].mean() - constitutive[i].mean())\n",
    "                lines.append([statistic, p_value, sign])\n",
    "            intron_basewise_statistics = pd.DataFrame(lines, columns=['U Statistic', '$p$-value', 'sign'])\n",
    "            intron_basewise_statistics['$q$-value'] = intron_basewise_statistics.shape[0] * intron_basewise_statistics['$p$-value']\n",
    "            intron_basewise_statistics['modality'] = modality\n",
    "            intron_basewise_statistics['intron'] = intron_name\n",
    "            intron_basewise_statistics = intron_basewise_statistics.reset_index()\n",
    "            intron_basewise_statistics = intron_basewise_statistics.rename(columns={'index': 'genome_direction_nt'})\n",
    "#             print '\\n', phenotype, intron_name, modality\n",
    "#             print intron_basewise_statistics.groupby('genome_direction_nt').size().head()\n",
    "            basewise_statistics_dfs.append(intron_basewise_statistics)\n",
    "\n",
    "    basewise_statistics = pd.concat(basewise_statistics_dfs, ignore_index=True)\n",
    "    basewise_statistics['$-\\log_{10}(q)$'] = -np.log10(basewise_statistics['$q$-value'])\n",
    "    basewise_statistics['$-\\log_{10}(p)$'] = -np.log10(basewise_statistics['$p$-value'])\n",
    "\n",
    "    basewise_statistics[values_col] = basewise_statistics['sign'] * basewise_statistics['$-\\log_{10}(q)$']\n",
    "    basewise_statistics['phenotype'] = phenotype\n",
    "#     print basewise_statistics.groupby(['modality', 'intron', 'genome_direction_nt']).size().head()\n",
    "#     print 'basewise_statistics.shape', basewise_statistics.shape\n",
    "    phenotype_basewise_statistics_dfs.append(basewise_statistics)\n",
    "#     basewise_statistics.head()\n",
    "\n",
    "#         var_conservation = intron_conservation.groupby(modalities).var()\n",
    "    modality_basewise_conservation = pd.concat(conservation_dfs, ignore_index=True)\n",
    "    modality_basewise_conservation['phenotype'] = phenotype\n",
    "    modality_basewise_conservation_dfs.append(modality_basewise_conservation)\n",
    "\n",
    "modality_basewise_conservation = pd.concat(modality_basewise_conservation_dfs, ignore_index=True)\n",
    "six.print_(modality_basewise_conservation.shape)\n",
    "modality_basewise_statistics = pd.concat(phenotype_basewise_statistics_dfs, ignore_index=True)\n",
    "six.print_(modality_basewise_statistics.shape)\n",
    "modality_basewise_statistics.head()"
   ]
  },
  {
   "cell_type": "markdown",
   "metadata": {},
   "source": [
    "### Compare intron modality conservation vs same modality in iPSC"
   ]
  },
  {
   "cell_type": "code",
   "execution_count": 18,
   "metadata": {
    "collapsed": false
   },
   "outputs": [
    {
     "data": {
      "text/html": [
       "<div>\n",
       "<table border=\"1\" class=\"dataframe\">\n",
       "  <thead>\n",
       "    <tr style=\"text-align: right;\">\n",
       "      <th></th>\n",
       "      <th>phenotype</th>\n",
       "      <th>intron</th>\n",
       "      <th>modality</th>\n",
       "      <th>U_statistic</th>\n",
       "      <th>p-value</th>\n",
       "    </tr>\n",
       "  </thead>\n",
       "  <tbody>\n",
       "    <tr>\n",
       "      <th>0</th>\n",
       "      <td>NPC</td>\n",
       "      <td>Downstream</td>\n",
       "      <td>bimodal</td>\n",
       "      <td>486682.5</td>\n",
       "      <td>0.139302</td>\n",
       "    </tr>\n",
       "    <tr>\n",
       "      <th>1</th>\n",
       "      <td>NPC</td>\n",
       "      <td>Downstream</td>\n",
       "      <td>excluded</td>\n",
       "      <td>822656.5</td>\n",
       "      <td>0.769156</td>\n",
       "    </tr>\n",
       "    <tr>\n",
       "      <th>2</th>\n",
       "      <td>NPC</td>\n",
       "      <td>Downstream</td>\n",
       "      <td>included</td>\n",
       "      <td>6885231.5</td>\n",
       "      <td>0.168352</td>\n",
       "    </tr>\n",
       "    <tr>\n",
       "      <th>3</th>\n",
       "      <td>NPC</td>\n",
       "      <td>Downstream</td>\n",
       "      <td>uncategorized</td>\n",
       "      <td>68.5</td>\n",
       "      <td>0.185997</td>\n",
       "    </tr>\n",
       "    <tr>\n",
       "      <th>4</th>\n",
       "      <td>MN</td>\n",
       "      <td>Downstream</td>\n",
       "      <td>bimodal</td>\n",
       "      <td>222188.0</td>\n",
       "      <td>0.030130</td>\n",
       "    </tr>\n",
       "    <tr>\n",
       "      <th>5</th>\n",
       "      <td>MN</td>\n",
       "      <td>Downstream</td>\n",
       "      <td>excluded</td>\n",
       "      <td>422251.5</td>\n",
       "      <td>0.946248</td>\n",
       "    </tr>\n",
       "    <tr>\n",
       "      <th>6</th>\n",
       "      <td>MN</td>\n",
       "      <td>Downstream</td>\n",
       "      <td>included</td>\n",
       "      <td>3453627.5</td>\n",
       "      <td>0.017809</td>\n",
       "    </tr>\n",
       "    <tr>\n",
       "      <th>7</th>\n",
       "      <td>MN</td>\n",
       "      <td>Downstream</td>\n",
       "      <td>uncategorized</td>\n",
       "      <td>5.0</td>\n",
       "      <td>0.274966</td>\n",
       "    </tr>\n",
       "    <tr>\n",
       "      <th>8</th>\n",
       "      <td>NPC</td>\n",
       "      <td>Upstream</td>\n",
       "      <td>bimodal</td>\n",
       "      <td>495887.0</td>\n",
       "      <td>0.435277</td>\n",
       "    </tr>\n",
       "    <tr>\n",
       "      <th>9</th>\n",
       "      <td>NPC</td>\n",
       "      <td>Upstream</td>\n",
       "      <td>excluded</td>\n",
       "      <td>816524.0</td>\n",
       "      <td>0.972404</td>\n",
       "    </tr>\n",
       "    <tr>\n",
       "      <th>10</th>\n",
       "      <td>NPC</td>\n",
       "      <td>Upstream</td>\n",
       "      <td>included</td>\n",
       "      <td>6853070.0</td>\n",
       "      <td>0.085708</td>\n",
       "    </tr>\n",
       "    <tr>\n",
       "      <th>11</th>\n",
       "      <td>NPC</td>\n",
       "      <td>Upstream</td>\n",
       "      <td>uncategorized</td>\n",
       "      <td>74.5</td>\n",
       "      <td>0.090775</td>\n",
       "    </tr>\n",
       "    <tr>\n",
       "      <th>12</th>\n",
       "      <td>MN</td>\n",
       "      <td>Upstream</td>\n",
       "      <td>bimodal</td>\n",
       "      <td>215798.0</td>\n",
       "      <td>0.003192</td>\n",
       "    </tr>\n",
       "    <tr>\n",
       "      <th>13</th>\n",
       "      <td>MN</td>\n",
       "      <td>Upstream</td>\n",
       "      <td>excluded</td>\n",
       "      <td>412999.0</td>\n",
       "      <td>0.483460</td>\n",
       "    </tr>\n",
       "    <tr>\n",
       "      <th>14</th>\n",
       "      <td>MN</td>\n",
       "      <td>Upstream</td>\n",
       "      <td>included</td>\n",
       "      <td>3445691.5</td>\n",
       "      <td>0.012386</td>\n",
       "    </tr>\n",
       "    <tr>\n",
       "      <th>15</th>\n",
       "      <td>MN</td>\n",
       "      <td>Upstream</td>\n",
       "      <td>uncategorized</td>\n",
       "      <td>5.0</td>\n",
       "      <td>0.275055</td>\n",
       "    </tr>\n",
       "  </tbody>\n",
       "</table>\n",
       "</div>"
      ],
      "text/plain": [
       "   phenotype      intron       modality  U_statistic   p-value\n",
       "0        NPC  Downstream        bimodal     486682.5  0.139302\n",
       "1        NPC  Downstream       excluded     822656.5  0.769156\n",
       "2        NPC  Downstream       included    6885231.5  0.168352\n",
       "3        NPC  Downstream  uncategorized         68.5  0.185997\n",
       "4         MN  Downstream        bimodal     222188.0  0.030130\n",
       "5         MN  Downstream       excluded     422251.5  0.946248\n",
       "6         MN  Downstream       included    3453627.5  0.017809\n",
       "7         MN  Downstream  uncategorized          5.0  0.274966\n",
       "8        NPC    Upstream        bimodal     495887.0  0.435277\n",
       "9        NPC    Upstream       excluded     816524.0  0.972404\n",
       "10       NPC    Upstream       included    6853070.0  0.085708\n",
       "11       NPC    Upstream  uncategorized         74.5  0.090775\n",
       "12        MN    Upstream        bimodal     215798.0  0.003192\n",
       "13        MN    Upstream       excluded     412999.0  0.483460\n",
       "14        MN    Upstream       included    3445691.5  0.012386\n",
       "15        MN    Upstream  uncategorized          5.0  0.275055"
      ]
     },
     "execution_count": 18,
     "metadata": {},
     "output_type": "execute_result"
    }
   ],
   "source": [
    "phenotype_grouped = study.supplemental.modalities_tidy.groupby('phenotype')\n",
    "ipsc = phenotype_grouped.get_group('iPSC')\n",
    "ipsc_modalities = ipsc.groupby('modality')\n",
    "\n",
    "lines = []\n",
    "\n",
    "for intron_name, intron_conservation in intron_conservations.items():\n",
    "#     six.print_(intron_name)\n",
    "    for phenotype in study.phenotype_order[1:]:\n",
    "#         six.print_('\\t', phenotype)\n",
    "        phenotype_df = phenotype_grouped.get_group(phenotype)\n",
    "        for modality, modality_df in phenotype_df.groupby('modality'):\n",
    "#             six.print_('\\t\\t', modality)\n",
    "            ipsc = ipsc_modalities.get_group(modality)\n",
    "            ipsc_conservation = intron_conservation.loc[ipsc['event_id']].mean(axis=1)\n",
    "            try:\n",
    "                phenotype_conservation = intron_conservation.loc[modality_df['event_id']].mean(axis=1)\n",
    "            except KeyError:\n",
    "                continue\n",
    "            \n",
    "            statistic, p_value = mannwhitneyu(ipsc_conservation, phenotype_conservation)\n",
    "#             six.print_('\\t\\t\\t', statistic, p_value)\n",
    "            lines.append([phenotype, intron_name, modality, statistic, p_value])\n",
    "intron_conservation_vs_ipsc = pd.DataFrame(lines, columns=['phenotype', 'intron', 'modality', 'U_statistic', 'p-value'])\n",
    "intron_conservation_vs_ipsc"
   ]
  },
  {
   "cell_type": "code",
   "execution_count": 19,
   "metadata": {
    "collapsed": false
   },
   "outputs": [
    {
     "data": {
      "text/html": [
       "<div>\n",
       "<table border=\"1\" class=\"dataframe\">\n",
       "  <thead>\n",
       "    <tr style=\"text-align: right;\">\n",
       "      <th></th>\n",
       "      <th>phenotype</th>\n",
       "      <th>intron</th>\n",
       "      <th>modality</th>\n",
       "      <th>U_statistic</th>\n",
       "      <th>p-value</th>\n",
       "      <th>q-value</th>\n",
       "    </tr>\n",
       "  </thead>\n",
       "  <tbody>\n",
       "    <tr>\n",
       "      <th>0</th>\n",
       "      <td>NPC</td>\n",
       "      <td>Downstream</td>\n",
       "      <td>bimodal</td>\n",
       "      <td>486682.5</td>\n",
       "      <td>0.139302</td>\n",
       "      <td>2.228825</td>\n",
       "    </tr>\n",
       "    <tr>\n",
       "      <th>1</th>\n",
       "      <td>NPC</td>\n",
       "      <td>Downstream</td>\n",
       "      <td>excluded</td>\n",
       "      <td>822656.5</td>\n",
       "      <td>0.769156</td>\n",
       "      <td>12.306502</td>\n",
       "    </tr>\n",
       "    <tr>\n",
       "      <th>2</th>\n",
       "      <td>NPC</td>\n",
       "      <td>Downstream</td>\n",
       "      <td>included</td>\n",
       "      <td>6885231.5</td>\n",
       "      <td>0.168352</td>\n",
       "      <td>2.693637</td>\n",
       "    </tr>\n",
       "    <tr>\n",
       "      <th>3</th>\n",
       "      <td>NPC</td>\n",
       "      <td>Downstream</td>\n",
       "      <td>uncategorized</td>\n",
       "      <td>68.5</td>\n",
       "      <td>0.185997</td>\n",
       "      <td>2.975954</td>\n",
       "    </tr>\n",
       "    <tr>\n",
       "      <th>4</th>\n",
       "      <td>MN</td>\n",
       "      <td>Downstream</td>\n",
       "      <td>bimodal</td>\n",
       "      <td>222188.0</td>\n",
       "      <td>0.030130</td>\n",
       "      <td>0.482083</td>\n",
       "    </tr>\n",
       "    <tr>\n",
       "      <th>5</th>\n",
       "      <td>MN</td>\n",
       "      <td>Downstream</td>\n",
       "      <td>excluded</td>\n",
       "      <td>422251.5</td>\n",
       "      <td>0.946248</td>\n",
       "      <td>15.139974</td>\n",
       "    </tr>\n",
       "    <tr>\n",
       "      <th>6</th>\n",
       "      <td>MN</td>\n",
       "      <td>Downstream</td>\n",
       "      <td>included</td>\n",
       "      <td>3453627.5</td>\n",
       "      <td>0.017809</td>\n",
       "      <td>0.284941</td>\n",
       "    </tr>\n",
       "    <tr>\n",
       "      <th>7</th>\n",
       "      <td>MN</td>\n",
       "      <td>Downstream</td>\n",
       "      <td>uncategorized</td>\n",
       "      <td>5.0</td>\n",
       "      <td>0.274966</td>\n",
       "      <td>4.399448</td>\n",
       "    </tr>\n",
       "    <tr>\n",
       "      <th>8</th>\n",
       "      <td>NPC</td>\n",
       "      <td>Upstream</td>\n",
       "      <td>bimodal</td>\n",
       "      <td>495887.0</td>\n",
       "      <td>0.435277</td>\n",
       "      <td>6.964435</td>\n",
       "    </tr>\n",
       "    <tr>\n",
       "      <th>9</th>\n",
       "      <td>NPC</td>\n",
       "      <td>Upstream</td>\n",
       "      <td>excluded</td>\n",
       "      <td>816524.0</td>\n",
       "      <td>0.972404</td>\n",
       "      <td>15.558472</td>\n",
       "    </tr>\n",
       "    <tr>\n",
       "      <th>10</th>\n",
       "      <td>NPC</td>\n",
       "      <td>Upstream</td>\n",
       "      <td>included</td>\n",
       "      <td>6853070.0</td>\n",
       "      <td>0.085708</td>\n",
       "      <td>1.371321</td>\n",
       "    </tr>\n",
       "    <tr>\n",
       "      <th>11</th>\n",
       "      <td>NPC</td>\n",
       "      <td>Upstream</td>\n",
       "      <td>uncategorized</td>\n",
       "      <td>74.5</td>\n",
       "      <td>0.090775</td>\n",
       "      <td>1.452405</td>\n",
       "    </tr>\n",
       "    <tr>\n",
       "      <th>12</th>\n",
       "      <td>MN</td>\n",
       "      <td>Upstream</td>\n",
       "      <td>bimodal</td>\n",
       "      <td>215798.0</td>\n",
       "      <td>0.003192</td>\n",
       "      <td>0.051079</td>\n",
       "    </tr>\n",
       "    <tr>\n",
       "      <th>13</th>\n",
       "      <td>MN</td>\n",
       "      <td>Upstream</td>\n",
       "      <td>excluded</td>\n",
       "      <td>412999.0</td>\n",
       "      <td>0.483460</td>\n",
       "      <td>7.735367</td>\n",
       "    </tr>\n",
       "    <tr>\n",
       "      <th>14</th>\n",
       "      <td>MN</td>\n",
       "      <td>Upstream</td>\n",
       "      <td>included</td>\n",
       "      <td>3445691.5</td>\n",
       "      <td>0.012386</td>\n",
       "      <td>0.198170</td>\n",
       "    </tr>\n",
       "    <tr>\n",
       "      <th>15</th>\n",
       "      <td>MN</td>\n",
       "      <td>Upstream</td>\n",
       "      <td>uncategorized</td>\n",
       "      <td>5.0</td>\n",
       "      <td>0.275055</td>\n",
       "      <td>4.400878</td>\n",
       "    </tr>\n",
       "  </tbody>\n",
       "</table>\n",
       "</div>"
      ],
      "text/plain": [
       "   phenotype      intron       modality  U_statistic   p-value    q-value\n",
       "0        NPC  Downstream        bimodal     486682.5  0.139302   2.228825\n",
       "1        NPC  Downstream       excluded     822656.5  0.769156  12.306502\n",
       "2        NPC  Downstream       included    6885231.5  0.168352   2.693637\n",
       "3        NPC  Downstream  uncategorized         68.5  0.185997   2.975954\n",
       "4         MN  Downstream        bimodal     222188.0  0.030130   0.482083\n",
       "5         MN  Downstream       excluded     422251.5  0.946248  15.139974\n",
       "6         MN  Downstream       included    3453627.5  0.017809   0.284941\n",
       "7         MN  Downstream  uncategorized          5.0  0.274966   4.399448\n",
       "8        NPC    Upstream        bimodal     495887.0  0.435277   6.964435\n",
       "9        NPC    Upstream       excluded     816524.0  0.972404  15.558472\n",
       "10       NPC    Upstream       included    6853070.0  0.085708   1.371321\n",
       "11       NPC    Upstream  uncategorized         74.5  0.090775   1.452405\n",
       "12        MN    Upstream        bimodal     215798.0  0.003192   0.051079\n",
       "13        MN    Upstream       excluded     412999.0  0.483460   7.735367\n",
       "14        MN    Upstream       included    3445691.5  0.012386   0.198170\n",
       "15        MN    Upstream  uncategorized          5.0  0.275055   4.400878"
      ]
     },
     "execution_count": 19,
     "metadata": {},
     "output_type": "execute_result"
    }
   ],
   "source": [
    "intron_conservation_vs_ipsc['q-value'] = intron_conservation_vs_ipsc['p-value'] * intron_conservation_vs_ipsc.shape[0]\n",
    "intron_conservation_vs_ipsc"
   ]
  },
  {
   "cell_type": "code",
   "execution_count": 20,
   "metadata": {
    "collapsed": false
   },
   "outputs": [
    {
     "data": {
      "text/html": [
       "<div>\n",
       "<table border=\"1\" class=\"dataframe\">\n",
       "  <thead>\n",
       "    <tr style=\"text-align: right;\">\n",
       "      <th></th>\n",
       "      <th>phenotype</th>\n",
       "      <th>intron</th>\n",
       "      <th>modality</th>\n",
       "      <th>U_statistic</th>\n",
       "      <th>p-value</th>\n",
       "      <th>q-value</th>\n",
       "    </tr>\n",
       "  </thead>\n",
       "  <tbody>\n",
       "    <tr>\n",
       "      <th>4</th>\n",
       "      <td>MN</td>\n",
       "      <td>Downstream</td>\n",
       "      <td>bimodal</td>\n",
       "      <td>222188.0</td>\n",
       "      <td>0.030130</td>\n",
       "      <td>0.482083</td>\n",
       "    </tr>\n",
       "    <tr>\n",
       "      <th>6</th>\n",
       "      <td>MN</td>\n",
       "      <td>Downstream</td>\n",
       "      <td>included</td>\n",
       "      <td>3453627.5</td>\n",
       "      <td>0.017809</td>\n",
       "      <td>0.284941</td>\n",
       "    </tr>\n",
       "    <tr>\n",
       "      <th>10</th>\n",
       "      <td>NPC</td>\n",
       "      <td>Upstream</td>\n",
       "      <td>included</td>\n",
       "      <td>6853070.0</td>\n",
       "      <td>0.085708</td>\n",
       "      <td>1.371321</td>\n",
       "    </tr>\n",
       "    <tr>\n",
       "      <th>11</th>\n",
       "      <td>NPC</td>\n",
       "      <td>Upstream</td>\n",
       "      <td>uncategorized</td>\n",
       "      <td>74.5</td>\n",
       "      <td>0.090775</td>\n",
       "      <td>1.452405</td>\n",
       "    </tr>\n",
       "    <tr>\n",
       "      <th>12</th>\n",
       "      <td>MN</td>\n",
       "      <td>Upstream</td>\n",
       "      <td>bimodal</td>\n",
       "      <td>215798.0</td>\n",
       "      <td>0.003192</td>\n",
       "      <td>0.051079</td>\n",
       "    </tr>\n",
       "    <tr>\n",
       "      <th>14</th>\n",
       "      <td>MN</td>\n",
       "      <td>Upstream</td>\n",
       "      <td>included</td>\n",
       "      <td>3445691.5</td>\n",
       "      <td>0.012386</td>\n",
       "      <td>0.198170</td>\n",
       "    </tr>\n",
       "  </tbody>\n",
       "</table>\n",
       "</div>"
      ],
      "text/plain": [
       "   phenotype      intron       modality  U_statistic   p-value   q-value\n",
       "4         MN  Downstream        bimodal     222188.0  0.030130  0.482083\n",
       "6         MN  Downstream       included    3453627.5  0.017809  0.284941\n",
       "10       NPC    Upstream       included    6853070.0  0.085708  1.371321\n",
       "11       NPC    Upstream  uncategorized         74.5  0.090775  1.452405\n",
       "12        MN    Upstream        bimodal     215798.0  0.003192  0.051079\n",
       "14        MN    Upstream       included    3445691.5  0.012386  0.198170"
      ]
     },
     "execution_count": 20,
     "metadata": {},
     "output_type": "execute_result"
    }
   ],
   "source": [
    "intron_conservation_vs_ipsc.loc[intron_conservation_vs_ipsc['p-value'] < 0.1]"
   ]
  },
  {
   "cell_type": "code",
   "execution_count": 21,
   "metadata": {
    "collapsed": false
   },
   "outputs": [
    {
     "data": {
      "text/html": [
       "<div>\n",
       "<table border=\"1\" class=\"dataframe\">\n",
       "  <thead>\n",
       "    <tr style=\"text-align: right;\">\n",
       "      <th></th>\n",
       "      <th>phenotype</th>\n",
       "      <th>intron</th>\n",
       "      <th>modality</th>\n",
       "      <th>U_statistic</th>\n",
       "      <th>p-value</th>\n",
       "      <th>q-value</th>\n",
       "    </tr>\n",
       "  </thead>\n",
       "  <tbody>\n",
       "    <tr>\n",
       "      <th>12</th>\n",
       "      <td>MN</td>\n",
       "      <td>Upstream</td>\n",
       "      <td>bimodal</td>\n",
       "      <td>215798</td>\n",
       "      <td>0.003192</td>\n",
       "      <td>0.051079</td>\n",
       "    </tr>\n",
       "  </tbody>\n",
       "</table>\n",
       "</div>"
      ],
      "text/plain": [
       "   phenotype    intron modality  U_statistic   p-value   q-value\n",
       "12        MN  Upstream  bimodal       215798  0.003192  0.051079"
      ]
     },
     "execution_count": 21,
     "metadata": {},
     "output_type": "execute_result"
    }
   ],
   "source": [
    "intron_conservation_vs_ipsc.loc[intron_conservation_vs_ipsc['q-value'] < 0.1]"
   ]
  },
  {
   "cell_type": "code",
   "execution_count": 22,
   "metadata": {
    "collapsed": false
   },
   "outputs": [
    {
     "data": {
      "image/png": "[encoded data removed]",
      "text/plain": [
       "<matplotlib.figure.Figure at 0x2aba421449d0>"
      ]
     },
     "metadata": {},
     "output_type": "display_data"
    }
   ],
   "source": [
    "g = sns.factorplot(col='direction', y='Conservation', hue='phenotype', size=2, col_order=intron_order,\n",
    "               x='modality', data=modality_basewise_conservation, kind='bar', order=MODALITY_ORDER,\n",
    "               hue_order=study.phenotype_order, palette=study.phenotype_color_ordered, )\n",
    "g.set_ylabels('Mean PhastCons\\n(Placental Mammal)')\n",
    "g.set(xlabel='')\n",
    "for ax in g.axes.flat:\n",
    "    plt.setp(ax.get_xticklabels(), rotation=90)\n",
    "# g.fig.tight_layout()\n",
    "g.savefig('{}/intron_mean_conservation.pdf'.format(figure_folder))"
   ]
  },
  {
   "cell_type": "code",
   "execution_count": 23,
   "metadata": {
    "collapsed": true
   },
   "outputs": [],
   "source": [
    "modality_order = ['constitutive'] + MODALITY_ORDER[:3] \n",
    "modality_palette = ['k'] + MODALITY_PALETTE[:3]"
   ]
  },
  {
   "cell_type": "code",
   "execution_count": 24,
   "metadata": {
    "collapsed": false
   },
   "outputs": [
    {
     "data": {
      "image/png": "[encoded data removed]",
      "text/plain": [
       "<matplotlib.figure.Figure at 0x2aba0b8f17d0>"
      ]
     },
     "metadata": {},
     "output_type": "display_data"
    }
   ],
   "source": [
    "g = sns.factorplot(col='direction', y='Conservation', hue='phenotype', size=2, col_order=intron_order,\n",
    "               x='modality', data=modality_basewise_conservation, kind='bar', order=modality_order,\n",
    "               hue_order=study.phenotype_order, palette=study.phenotype_color_ordered, legend=False)\n",
    "g.set_ylabels('Mean PhastCons\\n(Placental Mammal)')\n",
    "g.set(xlabel='')\n",
    "for ax in g.axes.flat:\n",
    "    plt.setp(ax.get_xticklabels(), rotation=90)\n",
    "#     if ax.is_first_col():\n",
    "    ax.set(yticks=[0, 0.08, 0.16], ylim=(0, 0.16))\n",
    "g.fig.tight_layout()\n",
    "g.set_titles('{col_name}')\n",
    "g.savefig('{}/intron_mean_conservation_excluded_bimodal_included.pdf'.format(figure_folder))"
   ]
  },
  {
   "cell_type": "markdown",
   "metadata": {},
   "source": [
    "## Plot basewise conservation"
   ]
  },
  {
   "cell_type": "code",
   "execution_count": null,
   "metadata": {
    "collapsed": true
   },
   "outputs": [],
   "source": []
  },
  {
   "cell_type": "code",
   "execution_count": 25,
   "metadata": {
    "collapsed": false
   },
   "outputs": [
    {
     "data": {
      "image/png": "[encoded data removed]",
      "text/plain": [
       "<matplotlib.figure.Figure at 0x2aba4e245c90>"
      ]
     },
     "metadata": {},
     "output_type": "display_data"
    }
   ],
   "source": [
    "g = sns.FacetGrid(modality_basewise_conservation, hue='modality', hue_order=modality_order,\n",
    "                 palette=modality_palette, row='phenotype', row_order=study.phenotype_order,\n",
    "                  col='direction', sharex=False, #gridspec_kws=dict(wspace=0.1), #legend=False,\n",
    "                  col_order=intron_order, size=2)\n",
    "g.map(plt.plot, 'genome_direction_nt', 'Conservation')\n",
    "for ax in g.axes.flat:\n",
    "    ax.locator_params(nbins=4)\n",
    "#         ax.locator_params('y', nbins=4)\n",
    "    if ax.is_first_col():\n",
    "        ax.set(ylabel='Mean PhastCons\\n(Placental Mammal)',\n",
    "               xticklabels=list(reversed([int(x) for x in ax.get_xticks()])))\n",
    "    else:\n",
    "        sns.despine(ax=ax, left=True)\n",
    "        ax.yaxis.set_ticks_position('none')\n",
    "g.set_titles('{row_name}')\n",
    "g.set(xlabel='Nucleotides from exon', ylim=(0, 1))\n",
    "# g.add_legend();\n",
    "g.fig.subplots_adjust(wspace=0.01)\n",
    "g.fig.tight_layout()\n",
    "g.savefig('{}/intron_basewise_conservation_400nt.pdf'.format(figure_folder))"
   ]
  },
  {
   "cell_type": "code",
   "execution_count": 26,
   "metadata": {
    "collapsed": false
   },
   "outputs": [
    {
     "data": {
      "image/png": "[encoded data removed]",
      "text/plain": [
       "<matplotlib.figure.Figure at 0x2aba141a7f10>"
      ]
     },
     "metadata": {},
     "output_type": "display_data"
    }
   ],
   "source": [
    "g = sns.FacetGrid(modality_basewise_conservation, hue='modality', hue_order=modality_order,\n",
    "                 palette=modality_palette, row='phenotype', row_order=study.phenotype_order,\n",
    "                  col='direction', sharex=False, #gridspec_kws=dict(wspace=0.2), #legend=False,\n",
    "                  col_order=intron_order, size=1.5, aspect=1.3)\n",
    "g.map(plt.plot, 'genome_direction_nt', 'Conservation')\n",
    "for ax in g.axes.flat:\n",
    "    ax.locator_params(nbins=4)\n",
    "#         ax.locator_params('y', nbins=4)\n",
    "    if ax.is_first_col():\n",
    "        xticklabels = ax.get_xticks()\n",
    "        ax.set(xlim=(200, 400))\n",
    "        ax.set(ylabel='Mean PhastCons\\n(Placental Mammal)',\n",
    "               xticklabels=[200, 100, 0], xticks=(200, 300, 400))\n",
    "    else:\n",
    "        sns.despine(ax=ax, left=True)\n",
    "        ax.yaxis.set_ticks_position('none')\n",
    "        ax.set(xlim=(0, 200), xticklabels=[0, 100, 200], xticks=[0, 100, 200])\n",
    "g.set_titles('{row_name}')\n",
    "g.set(xlabel='', ylim=(0, 1))\n",
    "# g.add_legend();\n",
    "g.fig.subplots_adjust(wspace=0.01)\n",
    "g.fig.tight_layout()\n",
    "g.savefig('{}/intron_basewise_conservation_200nt.pdf'.format(figure_folder))"
   ]
  },
  {
   "cell_type": "code",
   "execution_count": 27,
   "metadata": {
    "collapsed": false
   },
   "outputs": [],
   "source": [
    "# import matplotlib as mpl\n",
    "# dark2 = sns.color_palette('Dark2', n_colors=10)\n",
    "# sns.palplot(dark2)\n",
    "# accent = sns.color_palette('Accent', n_colors=10)\n",
    "# sns.palplot(accent)\n",
    "\n",
    "# sns.palplot(sns.color_palette('PRGn', n_colors=2))\n",
    "# direction_to_color = dict(zip(['upstream', 'downstream'], \n",
    "#                             map(mpl.colors.rgb2hex, sns.color_palette('PRGn', n_colors=2))))\n",
    "\n",
    "\n",
    "# # This is the winner!!\n",
    "# import matplotlib as mpl\n",
    "# celltype_palette = dark2[0], accent[4], dark2[3], accent[2]\n",
    "# sns.palplot(celltype_palette)\n",
    "\n",
    "# celltype_palette = map(mpl.colors.rgb2hex, celltype_palette)\n",
    "\n",
    "# phenotype_to_color = dict(zip(['iPSC', 'NPC', \"MN\", \"sMN\"], celltype_palette))\n",
    "# phenotype_to_color"
   ]
  },
  {
   "cell_type": "code",
   "execution_count": null,
   "metadata": {
    "collapsed": false
   },
   "outputs": [],
   "source": []
  },
  {
   "cell_type": "code",
   "execution_count": 28,
   "metadata": {
    "collapsed": false
   },
   "outputs": [],
   "source": [
    "cmap = sns.dark_palette((177, 66, 90), as_cmap=True, input='husl')"
   ]
  },
  {
   "cell_type": "code",
   "execution_count": 29,
   "metadata": {
    "collapsed": false
   },
   "outputs": [
    {
     "data": {
      "image/png": "[encoded data removed]",
      "text/plain": [
       "<matplotlib.figure.Figure at 0x2abb40d796d0>"
      ]
     },
     "metadata": {},
     "output_type": "display_data"
    },
    {
     "data": {
      "image/png": "[encoded data removed]",
      "text/plain": [
       "<matplotlib.figure.Figure at 0x2aba4e6c56d0>"
      ]
     },
     "metadata": {},
     "output_type": "display_data"
    },
    {
     "data": {
      "image/png": "[encoded data removed]",
      "text/plain": [
       "<matplotlib.figure.Figure at 0x2aba48fd8ed0>"
      ]
     },
     "metadata": {},
     "output_type": "display_data"
    }
   ],
   "source": [
    "for phenotype, phenotype_df in modality_basewise_statistics.groupby('phenotype'):\n",
    "    # PLot significance of basewise statistics\n",
    "    figwidth = 2.5 * 2\n",
    "    figheight = 0.3 * len(modality_basewise_statistics.groupby('modality').groups)\n",
    "\n",
    "    fig, axes = plt.subplots(ncols=3, figsize=(figwidth, figheight), gridspec_kw=dict(width_ratios=[1, 1, 0.1]))\n",
    "    cbar_ax = axes[-1]\n",
    "\n",
    "    grouped = phenotype_df.groupby('intron')\n",
    "\n",
    "    for intron, ax in zip(intron_order, axes):\n",
    "        df = grouped.get_group(intron)\n",
    "        basewise_statistics_2d = df.pivot(index='modality', columns='genome_direction_nt', values='$-\\log_{10}(q)$')\n",
    "        basewise_statistics_2d = basewise_statistics_2d.loc[MODALITY_ORDER[:3]].dropna()\n",
    "        sns.heatmap(basewise_statistics_2d, cmap=cmap, ax=ax, vmin=0,\n",
    "                    cbar_kws=dict(label='$-\\log_{10}(q)$'), \n",
    "                    cbar_ax=cbar_ax)\n",
    "        ax.set(ylabel='', xlabel='', xticks=[0, 200, 400])\n",
    "        if not ax.is_first_col():\n",
    "            ax.set(yticks=[], ylabel='')\n",
    "        else:\n",
    "            plt.setp(ax.get_yticklabels(), rotation=0)\n",
    "    fig.subplots_adjust(wspace=0.01)\n",
    "    fig.tight_layout()\n",
    "    fig.savefig('{}/intron_basewise_conservation_statistics_{}_q_values.pdf'.format(figure_folder, phenotype))"
   ]
  },
  {
   "cell_type": "code",
   "execution_count": 30,
   "metadata": {
    "collapsed": true
   },
   "outputs": [],
   "source": [
    "# cmap = sns.light_palette((177, 66, 90), as_cmap=True, input='husl')\n",
    "cmap = 'Greys'"
   ]
  },
  {
   "cell_type": "code",
   "execution_count": 31,
   "metadata": {
    "collapsed": true
   },
   "outputs": [],
   "source": [
    "import matplotlib as mpl"
   ]
  },
  {
   "cell_type": "code",
   "execution_count": 32,
   "metadata": {
    "collapsed": true
   },
   "outputs": [],
   "source": [
    "locator = mpl.ticker.MaxNLocator(4)"
   ]
  },
  {
   "cell_type": "code",
   "execution_count": 33,
   "metadata": {
    "collapsed": false
   },
   "outputs": [
    {
     "data": {
      "image/png": "[encoded data removed]",
      "text/plain": [
       "<matplotlib.figure.Figure at 0x2aba39de7310>"
      ]
     },
     "metadata": {},
     "output_type": "display_data"
    },
    {
     "data": {
      "image/png": "[encoded data removed]",
      "text/plain": [
       "<matplotlib.figure.Figure at 0x2aba49a740d0>"
      ]
     },
     "metadata": {},
     "output_type": "display_data"
    },
    {
     "data": {
      "image/png": "[encoded data removed]",
      "text/plain": [
       "<matplotlib.figure.Figure at 0x2aba39829c50>"
      ]
     },
     "metadata": {},
     "output_type": "display_data"
    }
   ],
   "source": [
    "for phenotype, phenotype_df in modality_basewise_statistics.groupby('phenotype'):\n",
    "    # PLot significance of basewise statistics\n",
    "    figwidth = 2.5 * 2\n",
    "    figheight = 0.15 * len(modality_basewise_statistics.groupby('modality').groups)\n",
    "\n",
    "    fig, axes = plt.subplots(ncols=3, figsize=(figwidth, figheight), \n",
    "                             gridspec_kw=dict(width_ratios=[1, 1, 0.1], wspace=0.2))\n",
    "    cbar_ax = axes[-1]\n",
    "\n",
    "    grouped = phenotype_df.groupby('intron')\n",
    "\n",
    "    for intron, ax in zip(intron_order, axes):\n",
    "        df = grouped.get_group(intron)\n",
    "        basewise_statistics_2d = df.pivot(index='modality', columns='genome_direction_nt', values='$-\\log_{10}(q)$')\n",
    "        basewise_statistics_2d = basewise_statistics_2d.loc[MODALITY_ORDER[:3]].dropna()\n",
    "        sns.heatmap(basewise_statistics_2d, cmap=cmap, ax=ax, vmin=0, vmax=10,\n",
    "                    cbar_kws=dict(label='$-\\log_{10}(q)$'), \n",
    "                    cbar_ax=cbar_ax)\n",
    "        ax.set(xticks=[])\n",
    "        if not ax.is_first_col():\n",
    "            ax.set(yticks=[], ylabel='', xlim=(0, 200), xlabel='',\n",
    "                   xticklabels=[0, 100, 200], xticks=(0, 100, 200))\n",
    "        else:\n",
    "            plt.setp(ax.get_yticklabels(), rotation=0)\n",
    "            xticklabels = ax.get_xticks()\n",
    "            ax.set(xlim=(200, 400), xlabel='', xticklabels=[200, 100, 0], \n",
    "                   xticks=(200, 300, 400), ylabel='')\n",
    "    cbar_ax.locator_params('y', nbins=4)\n",
    "    cbar_ax.yaxis.set_ticklabels([0, 5, 10])\n",
    "    fig.subplots_adjust(wspace=0.01)\n",
    "    sns.despine(bottom=False, right=False, left=False, top=False)\n",
    "#     fig.tight_layout()\n",
    "    fig.savefig('{}/intron_basewise_conservation_statistics_{}_q_values_200nt.pdf'.format(figure_folder, phenotype))"
   ]
  },
  {
   "cell_type": "code",
   "execution_count": 34,
   "metadata": {
    "collapsed": false
   },
   "outputs": [
    {
     "data": {
      "image/png": "[encoded data removed]",
      "text/plain": [
       "<matplotlib.figure.Figure at 0x2aba3a3b1710>"
      ]
     },
     "metadata": {},
     "output_type": "display_data"
    },
    {
     "data": {
      "image/png": "[encoded data removed]",
      "text/plain": [
       "<matplotlib.figure.Figure at 0x2aba3a5d77d0>"
      ]
     },
     "metadata": {},
     "output_type": "display_data"
    },
    {
     "data": {
      "image/png": "[encoded data removed]",
      "text/plain": [
       "<matplotlib.figure.Figure at 0x2aba145e3950>"
      ]
     },
     "metadata": {},
     "output_type": "display_data"
    }
   ],
   "source": [
    "for phenotype, phenotype_df in modality_basewise_statistics.groupby('phenotype'):\n",
    "    # PLot significance of basewise statistics\n",
    "    figwidth = 2.5 * 2\n",
    "    figheight = 0.3 * len(modality_basewise_statistics.groupby('modality').groups)\n",
    "\n",
    "    fig, axes = plt.subplots(ncols=3, figsize=(figwidth, figheight), gridspec_kw=dict(width_ratios=[1, 1, 0.1]))\n",
    "    cbar_ax = axes[-1]\n",
    "\n",
    "    grouped = phenotype_df.groupby('intron')\n",
    "\n",
    "    for intron, ax in zip(intron_order, axes):\n",
    "        df = grouped.get_group(intron)\n",
    "        basewise_statistics_2d = df.pivot(index='modality', columns='genome_direction_nt', values='$-\\log_{10}(p)$')\n",
    "        basewise_statistics_2d = basewise_statistics_2d.loc[MODALITY_ORDER[:3]].dropna()\n",
    "        sns.heatmap(basewise_statistics_2d, cmap=cmap, ax=ax,\n",
    "                    cbar_kws=dict(label='$-\\log_{10}(p)$'), \n",
    "                    cbar_ax=cbar_ax)\n",
    "        ax.set(xticks=[])\n",
    "        if not ax.is_first_col():\n",
    "            ax.set(yticks=[], ylabel='')\n",
    "        else:\n",
    "            plt.setp(ax.get_yticklabels(), rotation=0)\n",
    "    fig.subplots_adjust(wspace=0.01)\n",
    "    fig.tight_layout()\n",
    "    fig.savefig('{}/intron_basewise_conservation_statistics_{}_p_values.pdf'.format(figure_folder, phenotype))"
   ]
  },
  {
   "cell_type": "markdown",
   "metadata": {
    "collapsed": true
   },
   "source": [
    "## Nucleotide content"
   ]
  },
  {
   "cell_type": "code",
   "execution_count": null,
   "metadata": {
    "collapsed": true
   },
   "outputs": [],
   "source": []
  }
 ],
 "metadata": {
  "kernelspec": {
   "display_name": "Python 2",
   "language": "python",
   "name": "python2"
  },
  "language_info": {
   "codemirror_mode": {
    "name": "ipython",
    "version": 2
   },
   "file_extension": ".py",
   "mimetype": "text/x-python",
   "name": "python",
   "nbconvert_exporter": "python",
   "pygments_lexer": "ipython2",
   "version": "2.7.10"
  }
 },
 "nbformat": 4,
 "nbformat_minor": 0
}
