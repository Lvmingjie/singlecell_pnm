{
 "cells": [
  {
   "cell_type": "code",
   "execution_count": 29,
   "metadata": {
    "collapsed": true
   },
   "outputs": [],
   "source": [
    "folder = '/home/obotvinnik/Dropbox/figures2/singlecell_pnm/figure2_modalities/bayesian/permutations/'\n"
   ]
  },
  {
   "cell_type": "code",
   "execution_count": 30,
   "metadata": {
    "collapsed": false
   },
   "outputs": [],
   "source": [
    "# %%bash\n",
    "\n",
    "! mkdir $folder/barplots\n",
    "!mkdir $folder/tidy\n",
    "!mkdir $folder/size\n",
    "!mkdir $folder/psi\n",
    "# mkdir $folder/modalities_sizes"
   ]
  },
  {
   "cell_type": "code",
   "execution_count": 31,
   "metadata": {
    "collapsed": true
   },
   "outputs": [],
   "source": [
    "base_folder = '/home/obotvinnik/Dropbox/figures2/singlecell_pnm/figure2_modalities/bayesian/permutations'\n"
   ]
  },
  {
   "cell_type": "code",
   "execution_count": 32,
   "metadata": {
    "collapsed": true
   },
   "outputs": [],
   "source": [
    "! mkdir -p $base_folder"
   ]
  },
  {
   "cell_type": "code",
   "execution_count": 33,
   "metadata": {
    "collapsed": false
   },
   "outputs": [
    {
     "name": "stdout",
     "output_type": "stream",
     "text": [
      "Overwriting /home/obotvinnik/randomly_permute_and_calculate_modality.py\n"
     ]
    }
   ],
   "source": [
    "%%file ~/randomly_permute_and_calculate_modality.py\n",
    "\n",
    "import matplotlib.pyplot as plt\n",
    "import seaborn as sns\n",
    "import numpy as np\n",
    "import pandas as pd\n",
    "import flotilla\n",
    "import os\n",
    "import sys\n",
    "import anchor\n",
    "\n",
    "sns.set(style='ticks', context='paper', rc={'font.sans-serif':'Arial', 'pdf.fonttype': 42})\n",
    "\n",
    "# Ensure the iteration is always at least 1\n",
    "iteration = max(int(sys.argv[1]), 1)\n",
    "iteration_str = str(iteration).zfill(4)\n",
    "suffix = 'iteration_{}'.format(iteration_str)\n",
    "\n",
    "base_folder = '/home/obotvinnik/Dropbox/figures2/singlecell_pnm/figure2_modalities/bayesian/permutations'\n",
    "\n",
    "# seed = (sum(ord(c) for c in 'randomly_permute_modalities')/iteration) % 5437\n",
    "np.random.seed(iteration)\n",
    "\n",
    "flotilla_dir = '/projects/ps-yeolab/obotvinnik/flotilla_projects/'\n",
    "\n",
    "study = flotilla.embark('singlecell_pnm_figure1_supplementary_post_splicing_filtering', flotilla_dir=flotilla_dir)\n",
    "\n",
    "not_outliers = study.splicing.singles.index.difference(study.splicing.outliers.index)\n",
    "splicing_singles_no_outliers = study.splicing.singles.loc[not_outliers]\n",
    "\n",
    "print splicing_singles_no_outliers.shape\n",
    "splicing_singles_no_outliers = splicing_singles_no_outliers.groupby(\n",
    "    study.sample_id_to_phenotype).apply(lambda x: x.dropna(thresh=20, axis=1))\n",
    "print splicing_singles_no_outliers.shape\n",
    "\n",
    "\n",
    "# To permute the whole array, have to do it on the flattened values and then reshape them \n",
    "# because otherwise numpy only shuffles the rows which is not what we want\n",
    "permuted_psi = splicing_singles_no_outliers.groupby(study.sample_id_to_phenotype).apply(\n",
    "    lambda x: pd.DataFrame(np.random.permutation(x.values.flat).reshape(x.shape), index=x.index, columns=x.columns))\n",
    "permuted_psi.to_csv('{}/psi/{}.csv'.format(base_folder, suffix))\n",
    "\n",
    "bayesian = anchor.BayesianModalities()\n",
    "modality_assignments = permuted_psi.groupby(study.sample_id_to_phenotype).apply(bayesian.fit_predict)\n",
    "\n",
    "modality_assignments[splicing_singles_no_outliers.groupby(study.sample_id_to_phenotype).count() < 20] = np.nan\n",
    "modalities_tidy = modality_assignments.stack().reset_index()\n",
    "modalities_tidy = modalities_tidy.rename(columns={'level_1': 'event_name', 0: \"modality\",})\n",
    "modalities_tidy.to_csv('{}/tidy/{}.csv'.format(base_folder, suffix), index=False)\n",
    "\n",
    "sizes = modalities_tidy.groupby(['phenotype', 'modality']).size()\n",
    "sizes.to_csv('{}/size/{}.csv'.format(base_folder, suffix))\n",
    "\n",
    "\n",
    "g = anchor.barplot(modalities_tidy, x='phenotype', hue='modality', size=2)\n",
    "g.savefig('{}/barplots/{}.pdf'.format(base_folder, suffix))"
   ]
  },
  {
   "cell_type": "code",
   "execution_count": 36,
   "metadata": {
    "collapsed": false
   },
   "outputs": [
    {
     "name": "stderr",
     "output_type": "stream",
     "text": [
      "running 500 tasks as an array-job.\n",
      "job ID: 4239504\n",
      "running 500 tasks as an array-job.\n",
      "job ID: 4239505\n"
     ]
    },
    {
     "data": {
      "text/plain": [
       "<qtools.submitter.Submitter at 0x2b4d34764e10>"
      ]
     },
     "execution_count": 36,
     "metadata": {},
     "output_type": "execute_result"
    }
   ],
   "source": [
    "from qtools import Submitter\n",
    "\n",
    "base_command = 'python ~/randomly_permute_and_calculate_modality.py'\n",
    "\n",
    "commands = []\n",
    "for i in range(1000):\n",
    "    commands.append('{} {}'.format(base_command, i))\n",
    "Submitter(commands, 'randomly_permute_modality', walltime='1:00:00', array=True, queue='home-scrm')"
   ]
  },
  {
   "cell_type": "code",
   "execution_count": 35,
   "metadata": {
    "collapsed": false
   },
   "outputs": [
    {
     "name": "stdout",
     "output_type": "stream",
     "text": [
      "==> randomly_permute_modality.sh.out-1 <==\r\n",
      "2016-01-23 10:31:55\tLoading expression data\r\n",
      "2016-01-23 10:31:55\tInitializing expression\r\n",
      "2016-01-23 10:31:56\tDone initializing expression\r\n",
      "2016-01-23 10:31:58\tLoading splicing data\r\n",
      "2016-01-23 10:31:58\tInitializing splicing\r\n",
      "2016-01-23 10:31:58\tDone initializing splicing\r\n",
      "2016-01-23 10:31:58\tSuccessfully initialized a Study object!\r\n",
      "(181, 11767)\r\n",
      "(181, 8125)\r\n",
      "Nodes:        tscc-2-51\r\n",
      "\r\n",
      "==> randomly_permute_modality.sh.out-10 <==\r\n",
      "2016-01-23 10:32:06\tLoading expression data\r\n",
      "2016-01-23 10:32:06\tInitializing expression\r\n",
      "2016-01-23 10:32:06\tDone initializing expression\r\n",
      "2016-01-23 10:32:08\tLoading splicing data\r\n",
      "2016-01-23 10:32:08\tInitializing splicing\r\n",
      "2016-01-23 10:32:08\tDone initializing splicing\r\n",
      "2016-01-23 10:32:08\tSuccessfully initialized a Study object!\r\n",
      "(181, 11767)\r\n",
      "(181, 8125)\r\n",
      "Nodes:        tscc-2-50\r\n",
      "\r\n",
      "==> randomly_permute_modality.sh.out-11 <==\r\n",
      "2016-01-23 10:32:09\tLoading expression data\r\n",
      "2016-01-23 10:32:09\tInitializing expression\r\n",
      "2016-01-23 10:32:09\tDone initializing expression\r\n",
      "2016-01-23 10:32:11\tLoading splicing data\r\n",
      "2016-01-23 10:32:11\tInitializing splicing\r\n",
      "2016-01-23 10:32:11\tDone initializing splicing\r\n",
      "2016-01-23 10:32:11\tSuccessfully initialized a Study object!\r\n",
      "(181, 11767)\r\n",
      "(181, 8125)\r\n",
      "Nodes:        tscc-2-50\r\n",
      "\r\n",
      "==> randomly_permute_modality.sh.out-12 <==\r\n",
      "2016-01-23 10:32:08\tLoading expression data\r\n",
      "2016-01-23 10:32:08\tInitializing expression\r\n",
      "2016-01-23 10:32:09\tDone initializing expression\r\n",
      "2016-01-23 10:32:11\tLoading splicing data\r\n",
      "2016-01-23 10:32:11\tInitializing splicing\r\n",
      "2016-01-23 10:32:11\tDone initializing splicing\r\n",
      "2016-01-23 10:32:11\tSuccessfully initialized a Study object!\r\n",
      "(181, 11767)\r\n",
      "(181, 8125)\r\n",
      "Nodes:        tscc-2-50\r\n",
      "\r\n",
      "==> randomly_permute_modality.sh.out-13 <==\r\n",
      "2016-01-23 10:32:12\tLoading expression data\r\n",
      "2016-01-23 10:32:12\tInitializing expression\r\n",
      "2016-01-23 10:32:13\tDone initializing expression\r\n",
      "2016-01-23 10:32:14\tLoading splicing data\r\n",
      "2016-01-23 10:32:14\tInitializing splicing\r\n",
      "2016-01-23 10:32:15\tDone initializing splicing\r\n",
      "2016-01-23 10:32:15\tSuccessfully initialized a Study object!\r\n",
      "(181, 11767)\r\n",
      "(181, 8125)\r\n",
      "Nodes:        tscc-2-50\r\n",
      "\r\n",
      "==> randomly_permute_modality.sh.out-14 <==\r\n",
      "2016-01-23 10:32:14\tLoading expression data\r\n",
      "2016-01-23 10:32:14\tInitializing expression\r\n",
      "2016-01-23 10:32:15\tDone initializing expression\r\n",
      "2016-01-23 10:32:17\tLoading splicing data\r\n",
      "2016-01-23 10:32:17\tInitializing splicing\r\n",
      "2016-01-23 10:32:17\tDone initializing splicing\r\n",
      "2016-01-23 10:32:17\tSuccessfully initialized a Study object!\r\n",
      "(181, 11767)\r\n",
      "(181, 8125)\r\n",
      "Nodes:        tscc-2-50\r\n",
      "\r\n",
      "==> randomly_permute_modality.sh.out-15 <==\r\n",
      "2016-01-23 10:32:17\tLoading expression data\r\n",
      "2016-01-23 10:32:17\tInitializing expression\r\n",
      "2016-01-23 10:32:18\tDone initializing expression\r\n",
      "2016-01-23 10:32:20\tLoading splicing data\r\n",
      "2016-01-23 10:32:20\tInitializing splicing\r\n",
      "2016-01-23 10:32:20\tDone initializing splicing\r\n",
      "2016-01-23 10:32:20\tSuccessfully initialized a Study object!\r\n",
      "(181, 11767)\r\n",
      "(181, 8125)\r\n",
      "Nodes:        tscc-2-50\r\n",
      "\r\n",
      "==> randomly_permute_modality.sh.out-2 <==\r\n",
      "2016-01-23 10:31:55\tLoading expression data\r\n",
      "2016-01-23 10:31:55\tInitializing expression\r\n",
      "2016-01-23 10:31:56\tDone initializing expression\r\n",
      "2016-01-23 10:31:58\tLoading splicing data\r\n",
      "2016-01-23 10:31:58\tInitializing splicing\r\n",
      "2016-01-23 10:31:58\tDone initializing splicing\r\n",
      "2016-01-23 10:31:58\tSuccessfully initialized a Study object!\r\n",
      "(181, 11767)\r\n",
      "(181, 8125)\r\n",
      "Nodes:        tscc-2-51\r\n",
      "\r\n",
      "==> randomly_permute_modality.sh.out-21 <==\r\n",
      "2016-01-23 10:36:48\tLoading expression data\r\n",
      "2016-01-23 10:36:48\tInitializing expression\r\n",
      "2016-01-23 10:36:49\tDone initializing expression\r\n",
      "2016-01-23 10:36:51\tLoading splicing data\r\n",
      "2016-01-23 10:36:51\tInitializing splicing\r\n",
      "2016-01-23 10:36:51\tDone initializing splicing\r\n",
      "2016-01-23 10:36:51\tSuccessfully initialized a Study object!\r\n",
      "(181, 11767)\r\n",
      "(181, 8125)\r\n",
      "Nodes:        tscc-2-50\r\n",
      "\r\n",
      "==> randomly_permute_modality.sh.out-3 <==\r\n",
      "2016-01-23 10:31:55\tLoading expression data\r\n",
      "2016-01-23 10:31:55\tInitializing expression\r\n",
      "2016-01-23 10:31:56\tDone initializing expression\r\n",
      "2016-01-23 10:31:58\tLoading splicing data\r\n",
      "2016-01-23 10:31:58\tInitializing splicing\r\n",
      "2016-01-23 10:31:58\tDone initializing splicing\r\n",
      "2016-01-23 10:31:58\tSuccessfully initialized a Study object!\r\n",
      "(181, 11767)\r\n",
      "(181, 8125)\r\n",
      "Nodes:        tscc-2-51\r\n",
      "\r\n",
      "==> randomly_permute_modality.sh.out-4 <==\r\n",
      "2016-01-23 10:31:55\tLoading expression data\r\n",
      "2016-01-23 10:31:55\tInitializing expression\r\n",
      "2016-01-23 10:31:56\tDone initializing expression\r\n",
      "2016-01-23 10:31:58\tLoading splicing data\r\n",
      "2016-01-23 10:31:58\tInitializing splicing\r\n",
      "2016-01-23 10:31:58\tDone initializing splicing\r\n",
      "2016-01-23 10:31:58\tSuccessfully initialized a Study object!\r\n",
      "(181, 11767)\r\n",
      "(181, 8125)\r\n",
      "Nodes:        tscc-2-51\r\n",
      "\r\n",
      "==> randomly_permute_modality.sh.out-5 <==\r\n",
      "2016-01-23 10:31:55\tLoading expression data\r\n",
      "2016-01-23 10:31:55\tInitializing expression\r\n",
      "2016-01-23 10:31:56\tDone initializing expression\r\n",
      "2016-01-23 10:31:58\tLoading splicing data\r\n",
      "2016-01-23 10:31:58\tInitializing splicing\r\n",
      "2016-01-23 10:31:58\tDone initializing splicing\r\n",
      "2016-01-23 10:31:58\tSuccessfully initialized a Study object!\r\n",
      "(181, 11767)\r\n",
      "(181, 8125)\r\n",
      "Nodes:        tscc-2-51\r\n",
      "\r\n",
      "==> randomly_permute_modality.sh.out-6 <==\r\n",
      "2016-01-23 10:32:04\tLoading expression data\r\n",
      "2016-01-23 10:32:04\tInitializing expression\r\n",
      "2016-01-23 10:32:05\tDone initializing expression\r\n",
      "2016-01-23 10:32:07\tLoading splicing data\r\n",
      "2016-01-23 10:32:07\tInitializing splicing\r\n",
      "2016-01-23 10:32:07\tDone initializing splicing\r\n",
      "2016-01-23 10:32:07\tSuccessfully initialized a Study object!\r\n",
      "(181, 11767)\r\n",
      "(181, 8125)\r\n",
      "Nodes:        tscc-2-50\r\n",
      "\r\n",
      "==> randomly_permute_modality.sh.out-7 <==\r\n",
      "2016-01-23 10:32:05\tLoading expression data\r\n",
      "2016-01-23 10:32:05\tInitializing expression\r\n",
      "2016-01-23 10:32:05\tDone initializing expression\r\n",
      "2016-01-23 10:32:07\tLoading splicing data\r\n",
      "2016-01-23 10:32:07\tInitializing splicing\r\n",
      "2016-01-23 10:32:07\tDone initializing splicing\r\n",
      "2016-01-23 10:32:07\tSuccessfully initialized a Study object!\r\n",
      "(181, 11767)\r\n",
      "(181, 8125)\r\n",
      "Nodes:        tscc-2-50\r\n",
      "\r\n",
      "==> randomly_permute_modality.sh.out-8 <==\r\n",
      "2016-01-23 10:32:04\tLoading expression data\r\n",
      "2016-01-23 10:32:04\tInitializing expression\r\n",
      "2016-01-23 10:32:05\tDone initializing expression\r\n",
      "2016-01-23 10:32:07\tLoading splicing data\r\n",
      "2016-01-23 10:32:07\tInitializing splicing\r\n",
      "2016-01-23 10:32:07\tDone initializing splicing\r\n",
      "2016-01-23 10:32:07\tSuccessfully initialized a Study object!\r\n",
      "(181, 11767)\r\n",
      "(181, 8125)\r\n",
      "Nodes:        tscc-2-50\r\n",
      "\r\n",
      "==> randomly_permute_modality.sh.out-9 <==\r\n",
      "2016-01-23 10:32:05\tLoading expression data\r\n",
      "2016-01-23 10:32:05\tInitializing expression\r\n",
      "2016-01-23 10:32:05\tDone initializing expression\r\n",
      "2016-01-23 10:32:07\tLoading splicing data\r\n",
      "2016-01-23 10:32:07\tInitializing splicing\r\n",
      "2016-01-23 10:32:07\tDone initializing splicing\r\n",
      "2016-01-23 10:32:07\tSuccessfully initialized a Study object!\r\n",
      "(181, 11767)\r\n",
      "(181, 8125)\r\n",
      "Nodes:        tscc-2-50\r\n"
     ]
    }
   ],
   "source": [
    "! tail *out*"
   ]
  }
 ],
 "metadata": {
  "kernelspec": {
   "display_name": "Python 2",
   "language": "python",
   "name": "python2"
  },
  "language_info": {
   "codemirror_mode": {
    "name": "ipython",
    "version": 2
   },
   "file_extension": ".py",
   "mimetype": "text/x-python",
   "name": "python",
   "nbconvert_exporter": "python",
   "pygments_lexer": "ipython2",
   "version": "2.7.11"
  }
 },
 "nbformat": 4,
 "nbformat_minor": 0
}
