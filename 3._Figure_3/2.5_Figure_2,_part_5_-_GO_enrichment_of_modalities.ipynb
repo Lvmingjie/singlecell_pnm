{
 "cells": [
  {
   "cell_type": "code",
   "execution_count": 1,
   "metadata": {
    "collapsed": false
   },
   "outputs": [
    {
     "name": "stderr",
     "output_type": "stream",
     "text": [
      "/home/obotvinnik/anaconda/lib/python2.7/site-packages/matplotlib/__init__.py:810: UserWarning: Found matplotlib configuration in ~/.matplotlib/. To conform with the XDG base directory standard, this configuration location has been deprecated on Linux, and the new location is now /home/obotvinnik/.config/matplotlib/. Please move your configuration there to ensure that matplotlib will continue to find it in the future.\n",
      "  _get_xdg_config_dir())\n",
      "/home/obotvinnik/anaconda/lib/python2.7/site-packages/flotilla/__init__.py:55: DtypeWarning: Columns (19) have mixed types. Specify dtype option on import or set low_memory=False.\n",
      "  load_species_data=load_species_data)\n"
     ]
    },
    {
     "name": "stdout",
     "output_type": "stream",
     "text": [
      "2016-05-15 19:16:31\tReading datapackage from /projects/ps-yeolab/obotvinnik/flotilla_projects/singlecell_pnm_figure2_modalities_bayesian/datapackage.json\n",
      "2016-05-15 19:16:31\tParsing datapackage to create a Study object\n",
      "2016-05-15 19:17:03\tInitializing Study\n",
      "2016-05-15 19:17:03\tInitializing Predictor configuration manager for Study\n",
      "2016-05-15 19:17:03\tPredictor ExtraTreesClassifier is of type <class 'sklearn.ensemble.forest.ExtraTreesClassifier'>\n",
      "2016-05-15 19:17:03\tAdded ExtraTreesClassifier to default predictors\n",
      "2016-05-15 19:17:03\tPredictor ExtraTreesRegressor is of type <class 'sklearn.ensemble.forest.ExtraTreesRegressor'>\n",
      "2016-05-15 19:17:03\tAdded ExtraTreesRegressor to default predictors\n",
      "2016-05-15 19:17:03\tPredictor GradientBoostingClassifier is of type <class 'sklearn.ensemble.gradient_boosting.GradientBoostingClassifier'>\n",
      "2016-05-15 19:17:03\tAdded GradientBoostingClassifier to default predictors\n",
      "2016-05-15 19:17:03\tPredictor GradientBoostingRegressor is of type <class 'sklearn.ensemble.gradient_boosting.GradientBoostingRegressor'>\n",
      "2016-05-15 19:17:03\tAdded GradientBoostingRegressor to default predictors\n",
      "2016-05-15 19:17:07\tBuilding Gene Ontology database...\n",
      "2016-05-15 19:17:14\t\tDone.\n",
      "2016-05-15 19:17:14\tLoading metadata\n",
      "2016-05-15 19:17:14\tLoading expression data\n",
      "2016-05-15 19:17:14\tInitializing expression\n",
      "2016-05-15 19:17:14\tDone initializing expression\n",
      "2016-05-15 19:17:16\tLoading splicing data\n",
      "2016-05-15 19:17:16\tInitializing splicing\n",
      "2016-05-15 19:17:16\tDone initializing splicing\n",
      "2016-05-15 19:17:16\tSuccessfully initialized a Study object!\n"
     ]
    }
   ],
   "source": [
    "%load_ext autoreload\n",
    "%autoreload 2\n",
    "\n",
    "import matplotlib.pyplot as plt\n",
    "import seaborn as sns\n",
    "import numpy as np\n",
    "import pandas as pd\n",
    "import six\n",
    "\n",
    "sns.set(style='ticks', context='paper', rc={'font.sans-serif':'Arial', 'pdf.fonttype': 42})\n",
    "\n",
    "%matplotlib inline\n",
    "\n",
    "\n",
    "folder = 'figures'\n",
    "\n",
    "import flotilla\n",
    "\n",
    "flotilla_dir = '/projects/ps-yeolab/obotvinnik/flotilla_projects'\n",
    "study = flotilla.embark('singlecell_pnm_figure2_modalities_bayesian', flotilla_dir=flotilla_dir)\n",
    "not_outliers = study.splicing.singles.index.difference(study.splicing.outliers.index)\n",
    "\n",
    "psi = study.splicing.singles.ix[not_outliers]\n",
    "grouped = psi.groupby(study.sample_id_to_phenotype)\n",
    "psi_filtered = grouped.apply(lambda x: x.dropna(axis=1, thresh=20))\n"
   ]
  },
  {
   "cell_type": "markdown",
   "metadata": {},
   "source": [
    "### Enrichment of this modality, within phenotype\n",
    "\n",
    "i.e. *\"What GO categories are iPSC bimodal events enriched for, compared to other modalities in iPSC?\"*"
   ]
  },
  {
   "cell_type": "code",
   "execution_count": 2,
   "metadata": {
    "collapsed": true
   },
   "outputs": [],
   "source": [
    "figure_folder = '{}/gene_ontology'.format(folder)\n",
    "! mkdir $figure_folder"
   ]
  },
  {
   "cell_type": "code",
   "execution_count": 3,
   "metadata": {
    "collapsed": true
   },
   "outputs": [],
   "source": [
    "study.splicing.feature_expression_id_col = 'ensembl_id'"
   ]
  },
  {
   "cell_type": "code",
   "execution_count": 4,
   "metadata": {
    "collapsed": false
   },
   "outputs": [
    {
     "data": {
      "text/plain": [
       "1.084202172485504434e-19"
      ]
     },
     "execution_count": 4,
     "metadata": {},
     "output_type": "execute_result"
    }
   ],
   "source": [
    "np.finfo(np.float128).eps"
   ]
  },
  {
   "cell_type": "code",
   "execution_count": 5,
   "metadata": {
    "collapsed": false,
    "scrolled": false
   },
   "outputs": [
    {
     "name": "stdout",
     "output_type": "stream",
     "text": [
      "MN\n"
     ]
    },
    {
     "ename": "AttributeError",
     "evalue": "'DataFrame' object has no attribute 'event_name'",
     "output_type": "error",
     "traceback": [
      "\u001b[1;31m---------------------------------------------------------------------------\u001b[0m",
      "\u001b[1;31mAttributeError\u001b[0m                            Traceback (most recent call last)",
      "\u001b[1;32m<ipython-input-5-b4443fcecf43>\u001b[0m in \u001b[0;36m<module>\u001b[1;34m()\u001b[0m\n\u001b[0;32m      3\u001b[0m \u001b[1;32mfor\u001b[0m \u001b[1;33m(\u001b[0m\u001b[0mphenotype\u001b[0m\u001b[1;33m)\u001b[0m\u001b[1;33m,\u001b[0m \u001b[0mphenotype_df\u001b[0m \u001b[1;32min\u001b[0m \u001b[0mstudy\u001b[0m\u001b[1;33m.\u001b[0m\u001b[0msupplemental\u001b[0m\u001b[1;33m.\u001b[0m\u001b[0mmodalities_tidy\u001b[0m\u001b[1;33m.\u001b[0m\u001b[0mgroupby\u001b[0m\u001b[1;33m(\u001b[0m\u001b[1;33m[\u001b[0m\u001b[1;34m'phenotype'\u001b[0m\u001b[1;33m]\u001b[0m\u001b[1;33m)\u001b[0m\u001b[1;33m:\u001b[0m\u001b[1;33m\u001b[0m\u001b[0m\n\u001b[0;32m      4\u001b[0m     \u001b[1;32mprint\u001b[0m \u001b[0mphenotype\u001b[0m\u001b[1;33m\u001b[0m\u001b[0m\n\u001b[1;32m----> 5\u001b[1;33m     \u001b[0mbackground\u001b[0m \u001b[1;33m=\u001b[0m \u001b[0mstudy\u001b[0m\u001b[1;33m.\u001b[0m\u001b[0msplicing\u001b[0m\u001b[1;33m.\u001b[0m\u001b[0msplicing_to_expression_id\u001b[0m\u001b[1;33m(\u001b[0m\u001b[0mphenotype_df\u001b[0m\u001b[1;33m.\u001b[0m\u001b[0mevent_name\u001b[0m\u001b[1;33m)\u001b[0m\u001b[1;33m\u001b[0m\u001b[0m\n\u001b[0m\u001b[0;32m      6\u001b[0m     \u001b[1;32mfor\u001b[0m \u001b[0mmodality\u001b[0m\u001b[1;33m,\u001b[0m \u001b[0mmodality_df\u001b[0m \u001b[1;32min\u001b[0m \u001b[0mphenotype_df\u001b[0m\u001b[1;33m.\u001b[0m\u001b[0mgroupby\u001b[0m\u001b[1;33m(\u001b[0m\u001b[1;34m'modality'\u001b[0m\u001b[1;33m)\u001b[0m\u001b[1;33m:\u001b[0m\u001b[1;33m\u001b[0m\u001b[0m\n\u001b[0;32m      7\u001b[0m         \u001b[1;32mprint\u001b[0m \u001b[1;34m'\\t'\u001b[0m\u001b[1;33m,\u001b[0m \u001b[0mmodality\u001b[0m\u001b[1;33m\u001b[0m\u001b[0m\n",
      "\u001b[1;32m/home/obotvinnik/anaconda/lib/python2.7/site-packages/pandas/core/generic.pyc\u001b[0m in \u001b[0;36m__getattr__\u001b[1;34m(self, name)\u001b[0m\n\u001b[0;32m   2358\u001b[0m                 \u001b[1;32mreturn\u001b[0m \u001b[0mself\u001b[0m\u001b[1;33m[\u001b[0m\u001b[0mname\u001b[0m\u001b[1;33m]\u001b[0m\u001b[1;33m\u001b[0m\u001b[0m\n\u001b[0;32m   2359\u001b[0m             raise AttributeError(\"'%s' object has no attribute '%s'\" %\n\u001b[1;32m-> 2360\u001b[1;33m                                  (type(self).__name__, name))\n\u001b[0m\u001b[0;32m   2361\u001b[0m \u001b[1;33m\u001b[0m\u001b[0m\n\u001b[0;32m   2362\u001b[0m     \u001b[1;32mdef\u001b[0m \u001b[0m__setattr__\u001b[0m\u001b[1;33m(\u001b[0m\u001b[0mself\u001b[0m\u001b[1;33m,\u001b[0m \u001b[0mname\u001b[0m\u001b[1;33m,\u001b[0m \u001b[0mvalue\u001b[0m\u001b[1;33m)\u001b[0m\u001b[1;33m:\u001b[0m\u001b[1;33m\u001b[0m\u001b[0m\n",
      "\u001b[1;31mAttributeError\u001b[0m: 'DataFrame' object has no attribute 'event_name'"
     ]
    }
   ],
   "source": [
    "from flotilla.visualize.gene_ontology import plot_go_enrichment\n",
    "gos = []\n",
    "for (phenotype), phenotype_df in study.supplemental.modalities_tidy.groupby(['phenotype']):\n",
    "    print phenotype\n",
    "    background = study.splicing.splicing_to_expression_id(phenotype_df.event_name)\n",
    "    for modality, modality_df in phenotype_df.groupby('modality'):\n",
    "        print '\\t', modality\n",
    "        modality_genes = study.splicing.splicing_to_expression_id(modality_df.event_name)\n",
    "        go = study.go_enrichment(modality_genes, background, p_value_cutoff=0.01, \n",
    "                                 min_feature_size=5, min_background_size=10,\n",
    "                                 domain='biological_process')\n",
    "        if go is None or go.empty:\n",
    "            print '... empty GO enrichment!'\n",
    "            continue\n",
    "        fig, ax = plt.subplots(figsize=(6, 2))\n",
    "        ax = plot_go_enrichment(data=go, color='grey')\n",
    "        ax.set_title('{} {}'.format(phenotype, modality))\n",
    "        fig = plt.gcf()\n",
    "        fig.tight_layout()\n",
    "        fig.savefig('{}/modality_go_enrichment_within_celltype_{}_{}.pdf'.format(figure_folder, modality, phenotype))"
   ]
  },
  {
   "cell_type": "markdown",
   "metadata": {},
   "source": [
    "### Enrichment of this modality, across phenotypes\n",
    "\n",
    "i.e. *\"What GO categories are iPSC bimodal events enriched for, compared to bimodal events in NPC and MN?\"*"
   ]
  },
  {
   "cell_type": "code",
   "execution_count": null,
   "metadata": {
    "collapsed": false,
    "scrolled": false
   },
   "outputs": [],
   "source": [
    "import itertools\n",
    "\n",
    "modalities_all_celltypes = study.supplemental.modalities_tidy.groupby('event_name').filter(\n",
    "    lambda x: len(x)==len(study.phenotype_order))\n",
    "\n",
    "go_dfs = []\n",
    "\n",
    "for (phenotype), phenotype_df in modalities_all_celltypes.groupby(['modality']):\n",
    "    print phenotype\n",
    "    background = study.splicing.splicing_to_expression_id(phenotype_df.event_name)\n",
    "    for modality, modality_df in phenotype_df.groupby('phenotype'):\n",
    "        print '\\t', modality\n",
    "        modality_genes = study.splicing.splicing_to_expression_id(modality_df.event_name)\n",
    "        go = study.go_enrichment(modality_genes, background, p_value_cutoff=0.01, \n",
    "#                                  min_feature_size=5, min_background_size=10,\n",
    "                                domain='biological_process')\n",
    "        if go is None or go.empty:\n",
    "            print '\\t... empty GO enrichment!'\n",
    "            continue\n",
    "            \n",
    "        go['modality'] = modality\n",
    "        go['phenotype'] = phenotype\n",
    "        go_dfs.append(go.reset_index())\n",
    "        fig, ax = plt.subplots(figsize=(4, 2))\n",
    "        ax = plot_go_enrichment(data=go, color='grey')\n",
    "        ax.set_title('{} {}'.format(phenotype, modality))\n",
    "        fig = plt.gcf()\n",
    "#         fig.tight_layout()\n",
    "        fig.savefig('{}/modality_go_enrichment_across_celltypes_{}_{}.pdf'.format(figure_folder, modality, phenotype))\n",
    "go_df = pd.concat(go_dfs, ignore_index=True)"
   ]
  },
  {
   "cell_type": "markdown",
   "metadata": {
    "collapsed": true
   },
   "source": [
    "### Enrichment of this modality vs all other modalities across phenotypes\n",
    "\n",
    "i.e. *\"What GO categories are bimodal events in iPSC, NPC and MN enriched for, over other modalities in those celltypes?\"*"
   ]
  },
  {
   "cell_type": "code",
   "execution_count": null,
   "metadata": {
    "collapsed": true
   },
   "outputs": [],
   "source": [
    "modalities_all_celltypes = study.supplemental.modalities_tidy.groupby('event_name').filter(\n",
    "    lambda x: len(x) == len(study.phenotype_order))"
   ]
  },
  {
   "cell_type": "code",
   "execution_count": null,
   "metadata": {
    "collapsed": false
   },
   "outputs": [],
   "source": [
    "import itertools\n",
    "\n",
    "background = study.splicing.splicing_to_expression_id(modalities_all_celltypes.event_name)\n",
    "\n",
    "\n",
    "for (group), df1 in modalities_all_celltypes.groupby(['modality']):\n",
    "    print group\n",
    "    foreground = study.splicing.splicing_to_expression_id(df1.event_name)\n",
    "    go = study.go_enrichment(foreground, background, p_value_cutoff=0.1, \n",
    "#                              min_feature_size=5, min_background_size=10,\n",
    "                             domain='biological_process')\n",
    "    if go is None or go.empty:\n",
    "        print '\\t... empty GO enrichment!'\n",
    "        continue\n",
    "\n",
    "    fig, ax = plt.subplots(figsize=(4, 2))\n",
    "    ax = plot_go_enrichment(data=go, color='grey')\n",
    "    ax.set_title(group)\n",
    "    fig = plt.gcf()\n",
    "    fig.tight_layout()\n",
    "    fig.savefig('{}/modality_go_enrichment_across_celltypes_{}.pdf'.format(figure_folder, group))"
   ]
  },
  {
   "cell_type": "code",
   "execution_count": null,
   "metadata": {
    "collapsed": true
   },
   "outputs": [],
   "source": []
  }
 ],
 "metadata": {
  "kernelspec": {
   "display_name": "Python 2",
   "language": "python",
   "name": "python2"
  },
  "language_info": {
   "codemirror_mode": {
    "name": "ipython",
    "version": 2
   },
   "file_extension": ".py",
   "mimetype": "text/x-python",
   "name": "python",
   "nbconvert_exporter": "python",
   "pygments_lexer": "ipython2",
   "version": "2.7.10"
  }
 },
 "nbformat": 4,
 "nbformat_minor": 0
}
