{
 "cells": [
  {
   "cell_type": "code",
   "execution_count": 1,
   "metadata": {
    "collapsed": false
   },
   "outputs": [
    {
     "name": "stderr",
     "output_type": "stream",
     "text": [
      "/home/obotvinnik/anaconda/lib/python2.7/site-packages/matplotlib/__init__.py:810: UserWarning: Found matplotlib configuration in ~/.matplotlib/. To conform with the XDG base directory standard, this configuration location has been deprecated on Linux, and the new location is now /home/obotvinnik/.config/matplotlib/. Please move your configuration there to ensure that matplotlib will continue to find it in the future.\n",
      "  _get_xdg_config_dir())\n",
      "/home/obotvinnik/anaconda/lib/python2.7/site-packages/flotilla/__init__.py:55: DtypeWarning: Columns (19) have mixed types. Specify dtype option on import or set low_memory=False.\n",
      "  load_species_data=load_species_data)\n"
     ]
    },
    {
     "name": "stdout",
     "output_type": "stream",
     "text": [
      "2016-05-13 14:31:58\tReading datapackage from /projects/ps-yeolab/obotvinnik/flotilla_projects/singlecell_pnm_figure2_modalities_bayesian/datapackage.json\n",
      "2016-05-13 14:31:58\tParsing datapackage to create a Study object\n",
      "2016-05-13 14:32:35\tInitializing Study\n",
      "2016-05-13 14:32:35\tInitializing Predictor configuration manager for Study\n",
      "2016-05-13 14:32:35\tPredictor ExtraTreesClassifier is of type <class 'sklearn.ensemble.forest.ExtraTreesClassifier'>\n",
      "2016-05-13 14:32:35\tAdded ExtraTreesClassifier to default predictors\n",
      "2016-05-13 14:32:35\tPredictor ExtraTreesRegressor is of type <class 'sklearn.ensemble.forest.ExtraTreesRegressor'>\n",
      "2016-05-13 14:32:35\tAdded ExtraTreesRegressor to default predictors\n",
      "2016-05-13 14:32:35\tPredictor GradientBoostingClassifier is of type <class 'sklearn.ensemble.gradient_boosting.GradientBoostingClassifier'>\n",
      "2016-05-13 14:32:35\tAdded GradientBoostingClassifier to default predictors\n",
      "2016-05-13 14:32:35\tPredictor GradientBoostingRegressor is of type <class 'sklearn.ensemble.gradient_boosting.GradientBoostingRegressor'>\n",
      "2016-05-13 14:32:35\tAdded GradientBoostingRegressor to default predictors\n",
      "2016-05-13 14:32:38\tBuilding Gene Ontology database...\n",
      "2016-05-13 14:32:45\t\tDone.\n",
      "2016-05-13 14:32:45\tLoading metadata\n",
      "2016-05-13 14:32:45\tLoading expression data\n",
      "2016-05-13 14:32:45\tInitializing expression\n",
      "2016-05-13 14:32:46\tDone initializing expression\n",
      "2016-05-13 14:32:47\tLoading splicing data\n",
      "2016-05-13 14:32:47\tInitializing splicing\n",
      "2016-05-13 14:32:47\tDone initializing splicing\n",
      "2016-05-13 14:32:47\tSuccessfully initialized a Study object!\n"
     ]
    }
   ],
   "source": [
    "%load_ext autoreload\n",
    "%autoreload 2\n",
    "\n",
    "\n",
    "import matplotlib.pyplot as plt\n",
    "import seaborn as sns\n",
    "import numpy as np\n",
    "import pandas as pd\n",
    "\n",
    "sns.set(style='ticks', context='talk', rc={'font.sans-serif':'Arial', 'pdf.fonttype': 42})\n",
    "\n",
    "%matplotlib inline\n",
    "\n",
    "\n",
    "import flotilla\n",
    "flotilla_dir = '/projects/ps-yeolab/obotvinnik/flotilla_projects'\n",
    "\n",
    "study = flotilla.embark('singlecell_pnm_figure2_modalities_bayesian', flotilla_dir=flotilla_dir)\n",
    "not_outliers = study.splicing.singles.index.difference(study.splicing.outliers.index)\n",
    "\n",
    "psi = study.splicing.singles.ix[not_outliers]\n",
    "grouped = psi.groupby(study.sample_id_to_phenotype)\n",
    "psi_filtered = grouped.apply(lambda x: x.dropna(axis=1, thresh=20))"
   ]
  },
  {
   "cell_type": "code",
   "execution_count": 2,
   "metadata": {
    "collapsed": false
   },
   "outputs": [
    {
     "name": "stdout",
     "output_type": "stream",
     "text": [
      "mkdir: cannot create directory `/home/obotvinnik/Dropbox/figures2/singlecell_pnm/figure2_modalities/bayesian': File exists\r\n"
     ]
    }
   ],
   "source": [
    "folder = '/home/obotvinnik/Dropbox/figures2/singlecell_pnm/figure2_modalities/bayesian'\n",
    "!mkdir $folder\n",
    "\n",
    "figure_folder = '{}/kmer_counting'.format(folder)\n",
    "! mkdir -p $figure_folder"
   ]
  },
  {
   "cell_type": "code",
   "execution_count": 3,
   "metadata": {
    "collapsed": false
   },
   "outputs": [
    {
     "data": {
      "text/plain": [
       "phenotype  modality     \n",
       "MN         bimodal          1316\n",
       "           excluded         1175\n",
       "           included         2995\n",
       "           uncategorized       2\n",
       "NPC        bimodal          2325\n",
       "           excluded         1732\n",
       "           included         4597\n",
       "           uncategorized       4\n",
       "iPSC       bimodal          3438\n",
       "           excluded         2293\n",
       "           included         6105\n",
       "           middle              1\n",
       "           uncategorized      34\n",
       "dtype: int64"
      ]
     },
     "execution_count": 3,
     "metadata": {},
     "output_type": "execute_result"
    }
   ],
   "source": [
    "study.supplemental.modalities_tidy.groupby(['phenotype', 'modality']).size()"
   ]
  },
  {
   "cell_type": "markdown",
   "metadata": {},
   "source": [
    "### Make BED files of each modality within each celltype\n",
    "\n",
    "Use the other modalities, within that celltype, as background.\n",
    "\n",
    "  - What properties are unique to events that are bimodal in iPSC, rather than ~0 or ~1?\n",
    "    - Foreground: Bimodal events in iPSC\n",
    "    - Background: All other events in iPSC"
   ]
  },
  {
   "cell_type": "code",
   "execution_count": 4,
   "metadata": {
    "collapsed": false
   },
   "outputs": [
    {
     "name": "stdout",
     "output_type": "stream",
     "text": [
      "mkdir: cannot create directory `/projects/ps-yeolab/obotvinnik/singlecell_pnms/figure2_modalities/bayesian': File exists\r\n"
     ]
    }
   ],
   "source": [
    "\n",
    "\n",
    "bed_folder = '/projects/ps-yeolab/obotvinnik/singlecell_pnms/figure2_modalities/bayesian'\n",
    "! mkdir $bed_folder\n",
    "import pybedtools"
   ]
  },
  {
   "cell_type": "code",
   "execution_count": 5,
   "metadata": {
    "collapsed": false
   },
   "outputs": [],
   "source": [
    "import pyhomer"
   ]
  },
  {
   "cell_type": "code",
   "execution_count": 6,
   "metadata": {
    "collapsed": false
   },
   "outputs": [],
   "source": [
    "all_events = study.supplemental.modalities_tidy.event_id.unique()"
   ]
  },
  {
   "cell_type": "code",
   "execution_count": 7,
   "metadata": {
    "collapsed": false
   },
   "outputs": [
    {
     "data": {
      "text/html": [
       "<div>\n",
       "<table border=\"1\" class=\"dataframe\">\n",
       "  <thead>\n",
       "    <tr style=\"text-align: right;\">\n",
       "      <th></th>\n",
       "      <th>0</th>\n",
       "      <th>1</th>\n",
       "      <th>2</th>\n",
       "      <th>3</th>\n",
       "      <th>4</th>\n",
       "      <th>5</th>\n",
       "    </tr>\n",
       "  </thead>\n",
       "  <tbody>\n",
       "    <tr>\n",
       "      <th>0</th>\n",
       "      <td>chr10</td>\n",
       "      <td>101163481</td>\n",
       "      <td>101163631</td>\n",
       "      <td>exon:chr10:101165513-101165617:-@exon:chr10:10...</td>\n",
       "      <td>1000</td>\n",
       "      <td>-</td>\n",
       "    </tr>\n",
       "    <tr>\n",
       "      <th>1</th>\n",
       "      <td>chr10</td>\n",
       "      <td>101478103</td>\n",
       "      <td>101478257</td>\n",
       "      <td>exon:chr10:101480744-101480825:-@exon:chr10:10...</td>\n",
       "      <td>1000</td>\n",
       "      <td>-</td>\n",
       "    </tr>\n",
       "    <tr>\n",
       "      <th>2</th>\n",
       "      <td>chr10</td>\n",
       "      <td>102116289</td>\n",
       "      <td>102116521</td>\n",
       "      <td>exon:chr10:102114184-102114389:+@exon:chr10:10...</td>\n",
       "      <td>1000</td>\n",
       "      <td>+</td>\n",
       "    </tr>\n",
       "    <tr>\n",
       "      <th>3</th>\n",
       "      <td>chr10</td>\n",
       "      <td>102286156</td>\n",
       "      <td>102286311</td>\n",
       "      <td>exon:chr10:102286732-102286831:-@exon:chr10:10...</td>\n",
       "      <td>1000</td>\n",
       "      <td>-</td>\n",
       "    </tr>\n",
       "    <tr>\n",
       "      <th>4</th>\n",
       "      <td>chr10</td>\n",
       "      <td>102746847</td>\n",
       "      <td>102746953</td>\n",
       "      <td>exon:chr10:102747070-102747240:-@exon:chr10:10...</td>\n",
       "      <td>1000</td>\n",
       "      <td>-</td>\n",
       "    </tr>\n",
       "  </tbody>\n",
       "</table>\n",
       "</div>"
      ],
      "text/plain": [
       "       0          1          2  \\\n",
       "0  chr10  101163481  101163631   \n",
       "1  chr10  101478103  101478257   \n",
       "2  chr10  102116289  102116521   \n",
       "3  chr10  102286156  102286311   \n",
       "4  chr10  102746847  102746953   \n",
       "\n",
       "                                                   3     4  5  \n",
       "0  exon:chr10:101165513-101165617:-@exon:chr10:10...  1000  -  \n",
       "1  exon:chr10:101480744-101480825:-@exon:chr10:10...  1000  -  \n",
       "2  exon:chr10:102114184-102114389:+@exon:chr10:10...  1000  +  \n",
       "3  exon:chr10:102286732-102286831:-@exon:chr10:10...  1000  -  \n",
       "4  exon:chr10:102747070-102747240:-@exon:chr10:10...  1000  -  "
      ]
     },
     "execution_count": 7,
     "metadata": {},
     "output_type": "execute_result"
    }
   ],
   "source": [
    "from outrigger.region import Region\n",
    "\n",
    "exon2s = map(lambda x: x.split('@')[1], all_events)\n",
    "exon2_regions = map(Region, exon2s)\n",
    "exon2_bed_table = pd.DataFrame(map(lambda x: [x.chrom, x._start, x._stop, x.name, 1000, x.strand], exon2_regions))\n",
    "exon2_bed_table[3] = all_events\n",
    "exon2_bed_table.head()"
   ]
  },
  {
   "cell_type": "code",
   "execution_count": 8,
   "metadata": {
    "collapsed": false
   },
   "outputs": [
    {
     "data": {
      "text/html": [
       "<div>\n",
       "<table border=\"1\" class=\"dataframe\">\n",
       "  <thead>\n",
       "    <tr style=\"text-align: right;\">\n",
       "      <th></th>\n",
       "      <th>0</th>\n",
       "      <th>1</th>\n",
       "      <th>2</th>\n",
       "      <th>3</th>\n",
       "      <th>4</th>\n",
       "      <th>5</th>\n",
       "    </tr>\n",
       "  </thead>\n",
       "  <tbody>\n",
       "    <tr>\n",
       "      <th>9240</th>\n",
       "      <td>chr10</td>\n",
       "      <td>100189548</td>\n",
       "      <td>100189646</td>\n",
       "      <td>exon:chr10:100190328-100190427:-@exon:chr10:10...</td>\n",
       "      <td>1000</td>\n",
       "      <td>-</td>\n",
       "    </tr>\n",
       "    <tr>\n",
       "      <th>9241</th>\n",
       "      <td>chr10</td>\n",
       "      <td>100195029</td>\n",
       "      <td>100195171</td>\n",
       "      <td>exon:chr10:100195392-100195529:-@exon:chr10:10...</td>\n",
       "      <td>1000</td>\n",
       "      <td>-</td>\n",
       "    </tr>\n",
       "    <tr>\n",
       "      <th>0</th>\n",
       "      <td>chr10</td>\n",
       "      <td>101163481</td>\n",
       "      <td>101163631</td>\n",
       "      <td>exon:chr10:101165513-101165617:-@exon:chr10:10...</td>\n",
       "      <td>1000</td>\n",
       "      <td>-</td>\n",
       "    </tr>\n",
       "    <tr>\n",
       "      <th>1</th>\n",
       "      <td>chr10</td>\n",
       "      <td>101478103</td>\n",
       "      <td>101478257</td>\n",
       "      <td>exon:chr10:101480744-101480825:-@exon:chr10:10...</td>\n",
       "      <td>1000</td>\n",
       "      <td>-</td>\n",
       "    </tr>\n",
       "    <tr>\n",
       "      <th>5488</th>\n",
       "      <td>chr10</td>\n",
       "      <td>101510126</td>\n",
       "      <td>101510153</td>\n",
       "      <td>exon:chr10:101507014-101507147:+@exon:chr10:10...</td>\n",
       "      <td>1000</td>\n",
       "      <td>+</td>\n",
       "    </tr>\n",
       "  </tbody>\n",
       "</table>\n",
       "</div>"
      ],
      "text/plain": [
       "          0          1          2  \\\n",
       "9240  chr10  100189548  100189646   \n",
       "9241  chr10  100195029  100195171   \n",
       "0     chr10  101163481  101163631   \n",
       "1     chr10  101478103  101478257   \n",
       "5488  chr10  101510126  101510153   \n",
       "\n",
       "                                                      3     4  5  \n",
       "9240  exon:chr10:100190328-100190427:-@exon:chr10:10...  1000  -  \n",
       "9241  exon:chr10:100195392-100195529:-@exon:chr10:10...  1000  -  \n",
       "0     exon:chr10:101165513-101165617:-@exon:chr10:10...  1000  -  \n",
       "1     exon:chr10:101480744-101480825:-@exon:chr10:10...  1000  -  \n",
       "5488  exon:chr10:101507014-101507147:+@exon:chr10:10...  1000  +  "
      ]
     },
     "execution_count": 8,
     "metadata": {},
     "output_type": "execute_result"
    }
   ],
   "source": [
    "exon2_bed_table = exon2_bed_table.sort_values(by=3)\n",
    "exon2_bed_table.head()"
   ]
  },
  {
   "cell_type": "code",
   "execution_count": null,
   "metadata": {
    "collapsed": true
   },
   "outputs": [],
   "source": [
    "exon2_bed_table.to_csv('{}/background_events.bed'.format(bed_folder), index=False, header=False, sep='\\t')"
   ]
  },
  {
   "cell_type": "code",
   "execution_count": null,
   "metadata": {
    "collapsed": false,
    "scrolled": false
   },
   "outputs": [
    {
     "name": "stdout",
     "output_type": "stream",
     "text": [
      "---\n",
      "MN bimodal\n",
      "\n",
      "\tupstream\n",
      "CPU times: user 1e+03 µs, sys: 18 ms, total: 19 ms"
     ]
    }
   ],
   "source": [
    "from Bio import SeqIO\n",
    "import kvector\n",
    "import pybedtools\n",
    "\n",
    "DIRECTIONS = 'upstream', 'downstream'\n",
    "\n",
    "\n",
    "\n",
    "DIR = '/projects/ps-yeolab/obotvinnik/singlecell_pnms'\n",
    "\n",
    "exon_bedfile = '{}/background_events.bed'.format(bed_folder)\n",
    "exon_bed = pybedtools.BedTool(exon_bedfile)\n",
    "\n",
    "commands = []\n",
    "\n",
    "findMotifsGenome = '/home/yeo-lab/software/homer/bin/findMotifsGenome.pl'\n",
    "n_processors = 4\n",
    "homer_flags = '-rna -len 4,5,6 -mset vertebrates -mis 0 -p {} -noweight'.format(n_processors)\n",
    "\n",
    "\n",
    "primate_filename = '/projects/ps-yeolab/genomes/hg19/database/phastConsElements46wayPrimates.bed'\n",
    "primate = pybedtools.BedTool(primate_filename)\n",
    "placental_filename = '/projects/ps-yeolab/genomes/hg19/database/phastConsElements46wayPlacental.bed'\n",
    "placental = pybedtools.BedTool(placental_filename)\n",
    "conserved_regions = {'primate': primate, 'placental': placental}\n",
    "\n",
    "conservation_bed = placental\n",
    "\n",
    "genome = 'hg19'\n",
    "\n",
    "nt = 200\n",
    "\n",
    "\n",
    "genome_fasta = '/projects/ps-yeolab/genomes/hg19/chromosomes/all.fa'\n",
    "\n",
    "kmer_zscores = []\n",
    "\n",
    "for phenotype, phenotype_df in study.supplemental.modalities_tidy.groupby('phenotype'):\n",
    "    background_events = set(phenotype_df.event_id)\n",
    "    for modality, modality_df in phenotype_df.groupby('modality'):\n",
    "        print '---\\n', phenotype, modality\n",
    "        event_ids = set(modality_df.event_id)\n",
    "        format_args = bed_folder, phenotype, modality\n",
    "        foreground_table = exon2_bed_table.loc[exon2_bed_table[3].isin(event_ids)]\n",
    "        foreground_filename = '{}/exon2_{}_{}_foreground.bed'.format(*format_args)\n",
    "        foreground_table.to_csv(foreground_filename, index=False, header=False, sep='\\t')\n",
    "        foreground = pybedtools.BedTool(foreground_filename)\n",
    "        \n",
    "        \n",
    "        background_table = exon2_bed_table.loc[exon2_bed_table[3].isin(background_events)]\n",
    "        background_filename = '{}/exon2_{}_{}_background.bed'.format(*format_args)\n",
    "        background_table.to_csv(background_filename, index=False, header=False, sep='\\t')\n",
    "        background = pybedtools.BedTool(background_filename)\n",
    "        \n",
    "        \n",
    "        pair = pyhomer.ForegroundBackgroundPair(foreground, background)\n",
    "#         print '\\n', pair \n",
    "        \n",
    "        for direction in DIRECTIONS:\n",
    "            print '\\n\\t', direction\n",
    "            intron_pair = pair.flanking_intron(direction, 'hg19', nt)\n",
    "\n",
    "            conserved_introns = intron_pair.intersect(conservation_bed, 'placental')\n",
    "#             print '\\n', conserved_introns\n",
    "            %time seqs = conserved_introns.foreground.sequence(fi=genome_fasta, s=True)\n",
    "            %time foreground_kmers = kvector.count_kmers(seqs.seqfn)\n",
    "\n",
    "            %time seqs = conserved_introns.background.sequence(fi=genome_fasta, s=True)\n",
    "            %time background_kmers = kvector.count_kmers(seqs.seqfn)\n",
    "            kmer_zscore = (foreground_kmers.mean() - background_kmers.mean())/background_kmers.std()\n",
    "            kmer_zscore.name = '{}{}nt_{}_{}_placental'.format(direction, nt, phenotype, modality)\n",
    "            kmer_zscores.append(kmer_zscore)\n",
    "kmer_zscores_all = pd.concat(kmer_zscores, axis=1)\n",
    "kmer_zscores_all.head()"
   ]
  },
  {
   "cell_type": "code",
   "execution_count": null,
   "metadata": {
    "collapsed": false
   },
   "outputs": [],
   "source": [
    "kmer_zscores_all = pd.concat(kmer_zscores, axis=1)\n",
    "print kmer_zscores_all.shape\n",
    "kmer_zscores_all = kmer_zscores_all.dropna(axis=1, how='all').dropna(how='all', axis=0)\n",
    "print kmer_zscores_all.shape\n",
    "\n",
    "# Replace remaining NAs with zero since they aren't enriched\n",
    "kmer_zscores_all = kmer_zscores_all.fillna(0)\n",
    "kmer_zscores_all.head()"
   ]
  },
  {
   "cell_type": "code",
   "execution_count": null,
   "metadata": {
    "collapsed": true
   },
   "outputs": [],
   "source": [
    "study.supplemental.kmer_zscores = kmer_zscores_all"
   ]
  },
  {
   "cell_type": "code",
   "execution_count": null,
   "metadata": {
    "collapsed": false
   },
   "outputs": [],
   "source": [
    "range(2)"
   ]
  },
  {
   "cell_type": "code",
   "execution_count": null,
   "metadata": {
    "collapsed": false
   },
   "outputs": [],
   "source": [
    "kmer_zscores_metadata = pd.DataFrame.from_records(\n",
    "    study.supplemental.kmer_zscores.columns.map(lambda x: pd.Series(x.split('_'))), \n",
    "    index=study.supplemental.kmer_zscores.columns)\n",
    "kmer_zscores_metadata.columns = ['direction', 'phenotype', 'modality', 'clade']\n",
    "study.supplemental.kmer_zscores_metadata = kmer_zscores_metadata\n",
    "\n",
    "kmer_zscores_metadata.head()"
   ]
  },
  {
   "cell_type": "code",
   "execution_count": null,
   "metadata": {
    "collapsed": true
   },
   "outputs": [],
   "source": [
    "study.supplemental."
   ]
  },
  {
   "cell_type": "code",
   "execution_count": null,
   "metadata": {
    "collapsed": false
   },
   "outputs": [],
   "source": [
    "study.save('singlecell_pnm_figure2_modalities_bayesian_kmers', flotilla_dir=flotilla_dir)"
   ]
  },
  {
   "cell_type": "code",
   "execution_count": null,
   "metadata": {
    "collapsed": true
   },
   "outputs": [],
   "source": []
  }
 ],
 "metadata": {
  "kernelspec": {
   "display_name": "Python 2",
   "language": "python",
   "name": "python2"
  },
  "language_info": {
   "codemirror_mode": {
    "name": "ipython",
    "version": 2
   },
   "file_extension": ".py",
   "mimetype": "text/x-python",
   "name": "python",
   "nbconvert_exporter": "python",
   "pygments_lexer": "ipython2",
   "version": "2.7.10"
  }
 },
 "nbformat": 4,
 "nbformat_minor": 0
}
