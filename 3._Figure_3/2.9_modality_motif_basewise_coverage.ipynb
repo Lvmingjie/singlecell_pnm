{
 "cells": [
  {
   "cell_type": "code",
   "execution_count": 1,
   "metadata": {
    "collapsed": false
   },
   "outputs": [
    {
     "name": "stdout",
     "output_type": "stream",
     "text": [
      "mkdir: cannot create directory `/home/obotvinnik/Dropbox/figures2/singlecell_pnm/figure2_modalities_motifs/bayesian': File exists\r\n"
     ]
    },
    {
     "name": "stderr",
     "output_type": "stream",
     "text": [
      "/home/obotvinnik/anaconda/lib/python2.7/site-packages/matplotlib/__init__.py:784: UserWarning: Found matplotlib configuration in ~/.matplotlib/. To conform with the XDG base directory standard, this configuration location has been deprecated on Linux, and the new location is now /home/obotvinnik/.config/matplotlib/. Please move your configuration there to ensure that matplotlib will continue to find it in the future.\n",
      "  _get_xdg_config_dir())\n",
      "/home/obotvinnik/workspace-git/flotilla/flotilla/__init__.py:55: DtypeWarning: Columns (18) have mixed types. Specify dtype option on import or set low_memory=False.\n",
      "  load_species_data=load_species_data)\n"
     ]
    },
    {
     "name": "stdout",
     "output_type": "stream",
     "text": [
      "2015-12-28 14:25:07\tReading datapackage from /projects/ps-yeolab/obotvinnik/flotilla_projects/singlecell_pnm_figure2_modalities_bayesian/datapackage.json\n",
      "2015-12-28 14:25:07\tParsing datapackage to create a Study object\n",
      "2015-12-28 14:25:53\tInitializing Study\n",
      "2015-12-28 14:25:53\tInitializing Predictor configuration manager for Study\n",
      "2015-12-28 14:25:53\tPredictor ExtraTreesClassifier is of type <class 'sklearn.ensemble.forest.ExtraTreesClassifier'>\n",
      "2015-12-28 14:25:53\tAdded ExtraTreesClassifier to default predictors\n",
      "2015-12-28 14:25:53\tPredictor ExtraTreesRegressor is of type <class 'sklearn.ensemble.forest.ExtraTreesRegressor'>\n",
      "2015-12-28 14:25:53\tAdded ExtraTreesRegressor to default predictors\n",
      "2015-12-28 14:25:53\tPredictor GradientBoostingClassifier is of type <class 'sklearn.ensemble.gradient_boosting.GradientBoostingClassifier'>\n",
      "2015-12-28 14:25:53\tAdded GradientBoostingClassifier to default predictors\n",
      "2015-12-28 14:25:53\tPredictor GradientBoostingRegressor is of type <class 'sklearn.ensemble.gradient_boosting.GradientBoostingRegressor'>\n",
      "2015-12-28 14:25:53\tAdded GradientBoostingRegressor to default predictors\n",
      "2015-12-28 14:25:58\tBuilding Gene Ontology database...\n",
      "2015-12-28 14:26:07\t\tDone.\n",
      "2015-12-28 14:26:08\tLoading metadata\n",
      "2015-12-28 14:26:08\tLoading expression data\n",
      "2015-12-28 14:26:08\tInitializing expression\n",
      "2015-12-28 14:26:08\tDone initializing expression\n",
      "2015-12-28 14:26:10\tLoading splicing data\n",
      "2015-12-28 14:26:10\tInitializing splicing\n",
      "2015-12-28 14:26:10\tDone initializing splicing\n",
      "2015-12-28 14:26:10\tSuccessfully initialized a Study object!\n"
     ]
    }
   ],
   "source": [
    "%load_ext autoreload\n",
    "%autoreload 2\n",
    "\n",
    "\n",
    "import modish\n",
    "import matplotlib.pyplot as plt\n",
    "import seaborn as sns\n",
    "import numpy as np\n",
    "import pandas as pd\n",
    "\n",
    "sns.set(style='ticks', context='talk', rc={'font.sans-serif':'Arial', 'pdf.fonttype': 42})\n",
    "\n",
    "%matplotlib inline\n",
    "\n",
    "\n",
    "folder = '/home/obotvinnik/Dropbox/figures2/singlecell_pnm/figure2_modalities_motifs/bayesian'\n",
    "!mkdir $folder\n",
    "import flotilla\n",
    "flotilla_dir = '/projects/ps-yeolab/obotvinnik/flotilla_projects'\n",
    "\n",
    "study = flotilla.embark('singlecell_pnm_figure2_modalities_bayesian', flotilla_dir=flotilla_dir)\n",
    "not_outliers = study.splicing.singles.index.difference(study.splicing.outliers.index)\n",
    "\n",
    "psi = study.splicing.singles.ix[not_outliers]\n",
    "grouped = psi.groupby(study.sample_id_to_phenotype)\n",
    "psi_filtered = grouped.apply(lambda x: x.dropna(axis=1, thresh=20))"
   ]
  },
  {
   "cell_type": "code",
   "execution_count": null,
   "metadata": {
    "collapsed": true
   },
   "outputs": [],
   "source": [
    "\n",
    "import kvector\n",
    "\n",
    "cisbp_folder = '/projects/ps-yeolab/obotvinnik/cisbp_v2'\n",
    "\n",
    "cisbp_bed_folder = '/projects/ps-yeolab/obotvinnik/cisbp_v2/pwms_homer/hg19'\n",
    "\n",
    "placental_filename = '/projects/ps-yeolab/genomes/hg19/database/phastConsElements46wayPlacental.bed'\n",
    "placental = pybedtools.BedTool(placental_filename)\n",
    "\n",
    "for bedfile in "
   ]
  }
 ],
 "metadata": {
  "kernelspec": {
   "display_name": "Python 2",
   "language": "python",
   "name": "python2"
  },
  "language_info": {
   "codemirror_mode": {
    "name": "ipython",
    "version": 2
   },
   "file_extension": ".py",
   "mimetype": "text/x-python",
   "name": "python",
   "nbconvert_exporter": "python",
   "pygments_lexer": "ipython2",
   "version": "2.7.10"
  }
 },
 "nbformat": 4,
 "nbformat_minor": 0
}
