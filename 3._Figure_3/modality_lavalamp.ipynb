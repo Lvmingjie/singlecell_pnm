{
 "cells": [
  {
   "cell_type": "code",
   "execution_count": 1,
   "metadata": {
    "collapsed": false
   },
   "outputs": [
    {
     "name": "stderr",
     "output_type": "stream",
     "text": [
      "/home/obotvinnik/anaconda/lib/python2.7/site-packages/matplotlib/__init__.py:810: UserWarning: Found matplotlib configuration in ~/.matplotlib/. To conform with the XDG base directory standard, this configuration location has been deprecated on Linux, and the new location is now /home/obotvinnik/.config/matplotlib/. Please move your configuration there to ensure that matplotlib will continue to find it in the future.\n",
      "  _get_xdg_config_dir())\n",
      "/home/obotvinnik/anaconda/lib/python2.7/site-packages/flotilla/__init__.py:55: DtypeWarning: Columns (11,19,20) have mixed types. Specify dtype option on import or set low_memory=False.\n",
      "  load_species_data=load_species_data)\n"
     ]
    },
    {
     "name": "stdout",
     "output_type": "stream",
     "text": [
      "2016-05-12 14:43:24\tReading datapackage from /projects/ps-yeolab/obotvinnik/flotilla_projects/singlecell_pnm_figure2_modalities_bayesian/datapackage.json\n",
      "2016-05-12 14:43:24\tParsing datapackage to create a Study object\n",
      "2016-05-12 14:44:00\tInitializing Study\n",
      "2016-05-12 14:44:00\tInitializing Predictor configuration manager for Study\n",
      "2016-05-12 14:44:00\tPredictor ExtraTreesClassifier is of type <class 'sklearn.ensemble.forest.ExtraTreesClassifier'>\n",
      "2016-05-12 14:44:00\tAdded ExtraTreesClassifier to default predictors\n",
      "2016-05-12 14:44:00\tPredictor ExtraTreesRegressor is of type <class 'sklearn.ensemble.forest.ExtraTreesRegressor'>\n",
      "2016-05-12 14:44:00\tAdded ExtraTreesRegressor to default predictors\n",
      "2016-05-12 14:44:00\tPredictor GradientBoostingClassifier is of type <class 'sklearn.ensemble.gradient_boosting.GradientBoostingClassifier'>\n",
      "2016-05-12 14:44:00\tAdded GradientBoostingClassifier to default predictors\n",
      "2016-05-12 14:44:00\tPredictor GradientBoostingRegressor is of type <class 'sklearn.ensemble.gradient_boosting.GradientBoostingRegressor'>\n",
      "2016-05-12 14:44:00\tAdded GradientBoostingRegressor to default predictors\n",
      "2016-05-12 14:44:04\tBuilding Gene Ontology database...\n",
      "2016-05-12 14:44:10\t\tDone.\n",
      "2016-05-12 14:44:10\tLoading metadata\n",
      "2016-05-12 14:44:10\tLoading expression data\n",
      "2016-05-12 14:44:10\tInitializing expression\n",
      "2016-05-12 14:44:11\tDone initializing expression\n",
      "2016-05-12 14:44:12\tLoading splicing data\n",
      "2016-05-12 14:44:12\tInitializing splicing\n",
      "2016-05-12 14:44:12\tDone initializing splicing\n",
      "2016-05-12 14:44:12\tSuccessfully initialized a Study object!\n"
     ]
    }
   ],
   "source": [
    "\n",
    "import seaborn as sns\n",
    "sns.set(style='ticks', context='paper', rc={'font.sans-serif':'Arial', 'pdf.fonttype': 42})\n",
    "\n",
    "\n",
    "import six\n",
    "\n",
    "%load_ext autoreload\n",
    "%autoreload 2\n",
    "\n",
    "import matplotlib.pyplot as plt\n",
    "import seaborn as sns\n",
    "import numpy as np\n",
    "import pandas as pd\n",
    "\n",
    "\n",
    "%matplotlib inline\n",
    "\n",
    "import anchor\n",
    "modality_to_color = anchor.MODALITY_TO_COLOR.copy()\n",
    "modality_to_color['constitutive'] = '#262626'\n",
    "modality_order = ['excluded', 'bimodal', 'included', 'constitutive']\n",
    "modality_palette = [modality_to_color[m] for m in modality_order]\n",
    "\n",
    "\n",
    "import flotilla\n",
    "flotilla_dir = '/projects/ps-yeolab/obotvinnik/flotilla_projects'\n",
    "\n",
    "study = flotilla.embark('singlecell_pnm_figure2_modalities_bayesian', flotilla_dir=flotilla_dir)\n",
    "\n",
    "not_outliers = study.splicing.singles.index.difference(study.splicing.outliers.index)\n",
    "\n",
    "import pybedtools\n",
    "\n",
    "facet_kws = dict(col='phenotype', hue='modality', hue_order=modality_order, palette=modality_palette,\n",
    "                 col_order=study.phenotype_order, size=2)\n",
    "\n",
    "\n",
    "folder = '/projects/ps-yeolab/obotvinnik/singlecell_pnms'\n",
    "csv_folder = '{}/csvs_for_paper/'.format(folder)\n",
    "bed_folder = '{}/bed'.format(folder)\n",
    "\n",
    "\n",
    "\n",
    "splicing_feature_folder = '{}/splicing_feature_data'.format(csv_folder)\n",
    "alternative_feature_folder = '{}/alternative'.format(splicing_feature_folder)\n",
    "constitutive_feature_folder = '{}/constitutive'.format(splicing_feature_folder)"
   ]
  },
  {
   "cell_type": "code",
   "execution_count": 2,
   "metadata": {
    "collapsed": false
   },
   "outputs": [
    {
     "data": {
      "text/plain": [
       "phenotype  modality     \n",
       "MN         bimodal           356\n",
       "           excluded          541\n",
       "           included         1553\n",
       "           uncategorized       1\n",
       "NPC        bimodal           751\n",
       "           excluded         1049\n",
       "           included         3029\n",
       "           uncategorized       3\n",
       "iPSC       bimodal          1348\n",
       "           excluded         1558\n",
       "           included         4632\n",
       "           middle              1\n",
       "           uncategorized      31\n",
       "dtype: int64"
      ]
     },
     "execution_count": 2,
     "metadata": {},
     "output_type": "execute_result"
    }
   ],
   "source": [
    "study.supplemental.modalities_tidy.groupby(['phenotype', 'modality']).size()"
   ]
  },
  {
   "cell_type": "code",
   "execution_count": 9,
   "metadata": {
    "collapsed": false
   },
   "outputs": [
    {
     "name": "stdout",
     "output_type": "stream",
     "text": [
      "183\n",
      "(204, 8028)\n"
     ]
    }
   ],
   "source": [
    "singles_no_outliers = study.splicing.singles.index.difference(study.splicing.outliers.index)\n",
    "print len(singles_no_outliers)\n",
    "\n",
    "splicing_singles = study.splicing.data.loc[singles_no_outliers]\n",
    "splicing_singles_count = splicing_singles.groupby(study.sample_id_to_phenotype).count()\n",
    "twenty_per_celltype = (splicing_singles_count >= 20).any(axis=0)\n",
    "splicing20 = study.splicing.data[twenty_per_celltype[twenty_per_celltype].index]\n",
    "print splicing20.shape"
   ]
  },
  {
   "cell_type": "code",
   "execution_count": 4,
   "metadata": {
    "collapsed": true
   },
   "outputs": [],
   "source": [
    "study.supplemental.modalities_tidy = study.supplemental.modalities_tidy.replace(\n",
    "    {'modality': {'ambivalent': 'uncategorized', 'concurrent': 'middle'}})"
   ]
  },
  {
   "cell_type": "code",
   "execution_count": 5,
   "metadata": {
    "collapsed": false
   },
   "outputs": [
    {
     "data": {
      "text/plain": [
       "phenotype  modality     \n",
       "MN         bimodal           356\n",
       "           excluded          541\n",
       "           included         1553\n",
       "           uncategorized       1\n",
       "NPC        bimodal           751\n",
       "           excluded         1049\n",
       "           included         3029\n",
       "           uncategorized       3\n",
       "iPSC       bimodal          1348\n",
       "           excluded         1558\n",
       "           included         4632\n",
       "           middle              1\n",
       "           uncategorized      31\n",
       "dtype: int64"
      ]
     },
     "execution_count": 5,
     "metadata": {},
     "output_type": "execute_result"
    }
   ],
   "source": [
    "study.supplemental.modalities_tidy.groupby(['phenotype', 'modality']).size()"
   ]
  },
  {
   "cell_type": "code",
   "execution_count": 10,
   "metadata": {
    "collapsed": false
   },
   "outputs": [
    {
     "data": {
      "image/png": "[encoded data removed]",
      "text/plain": [
       "<matplotlib.figure.Figure at 0x2b52f2f1ced0>"
      ]
     },
     "metadata": {},
     "output_type": "display_data"
    }
   ],
   "source": [
    "fig, ax = plt.subplots(figsize=(4, 1.5))\n",
    "flotilla.visualize.splicing.lavalamp(splicing20, color='grey', ax=ax)\n",
    "# fig = plt.gcf()\n",
    "fig.tight_layout()\n",
    "fig.savefig('{}/splicing_20_per_celltype_lavalamp_all.png'.format(folder))"
   ]
  },
  {
   "cell_type": "code",
   "execution_count": null,
   "metadata": {
    "collapsed": true
   },
   "outputs": [],
   "source": []
  }
 ],
 "metadata": {
  "kernelspec": {
   "display_name": "Python 2",
   "language": "python",
   "name": "python2"
  },
  "language_info": {
   "codemirror_mode": {
    "name": "ipython",
    "version": 2
   },
   "file_extension": ".py",
   "mimetype": "text/x-python",
   "name": "python",
   "nbconvert_exporter": "python",
   "pygments_lexer": "ipython2",
   "version": "2.7.10"
  }
 },
 "nbformat": 4,
 "nbformat_minor": 0
}
