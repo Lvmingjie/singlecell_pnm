{
 "cells": [
  {
   "cell_type": "code",
   "execution_count": null,
   "metadata": {
    "collapsed": false
   },
   "outputs": [],
   "source": [
    "import modish\n",
    "import matplotlib.pyplot as plt\n",
    "import seaborn as sns\n",
    "import numpy as np\n",
    "import pandas as pd\n",
    "\n",
    "from modish.visualize import MODALITY_TO_COLOR, MODALITY_ORDER, MODALITY_PALETTE\n",
    "modality_order = MODALITY_ORDER\n",
    "\n",
    "sns.set(style='ticks', context='talk', rc={'font.sans-serif':'Arial', 'pdf.fonttype': 42})\n",
    "\n",
    "%matplotlib inline\n",
    "\n",
    "%load_ext autoreload\n",
    "%autoreload 2\n",
    "\n",
    "folder = '/home/obotvinnik/Dropbox/figures2/singlecell_pnm/figure4_voyages'\n",
    "\n",
    "import flotilla\n",
    "study = flotilla.embark('singlecell_pnm_figure4_voyages')"
   ]
  },
  {
   "cell_type": "code",
   "execution_count": 4,
   "metadata": {
    "collapsed": false
   },
   "outputs": [
    {
     "name": "stdout",
     "output_type": "stream",
     "text": [
      "/home/obotvinnik/flotilla_projects/singlecell_pnm:\n",
      "\u001b[0m\u001b[01;32mdatapackage.json\u001b[0m*           \u001b[01;32mmapping_stats.csv.gz\u001b[0m*  \u001b[01;32msplicing_feature.csv.gz\u001b[0m*\n",
      "\u001b[01;32mexpression.csv.gz\u001b[0m*          \u001b[01;32mmetadata.csv.gz\u001b[0m*\n",
      "\u001b[01;32mexpression_feature.csv.gz\u001b[0m*  \u001b[01;32msplicing.csv.gz\u001b[0m*\n",
      "\n",
      "/home/obotvinnik/flotilla_projects/singlecell_pnm_0.3:\n",
      "\u001b[01;32mdatapackage.json\u001b[0m*           \u001b[01;32mmetadata.csv.gz\u001b[0m*          splicing.hdf\n",
      "\u001b[01;32mexpression.csv.gz\u001b[0m*          \u001b[01;32mpsi_constitutive.csv.gz\u001b[0m*  \u001b[01;32msplicing_feature.csv.gz\u001b[0m*\n",
      "\u001b[01;32mexpression_feature.csv.gz\u001b[0m*  psi_constitutive.hdf      splicing_feature.hdf\n",
      "\u001b[01;32mmapping_stats.csv.gz\u001b[0m*       \u001b[01;32msplicing.csv.gz\u001b[0m*\n",
      "\n",
      "/home/obotvinnik/flotilla_projects/singlecell_pnm_figure1_post_kmeans_outliers:\n",
      "datapackage.json           gene_ontology.hdf     splicing.csv.gz\n",
      "expression.csv.gz          mapping_stats.csv.gz  splicing_feature.csv.gz\n",
      "expression_feature.csv.gz  metadata.csv.gz\n",
      "\n",
      "/home/obotvinnik/flotilla_projects/singlecell_pnm_figure1_supplementary_post_splicing_filtering:\n",
      "datapackage.json           gene_ontology.hdf     splicing.csv.gz\n",
      "expression.csv.gz          mapping_stats.csv.gz  splicing_feature.csv.gz\n",
      "expression_feature.csv.gz  metadata.csv.gz\n",
      "\n",
      "/home/obotvinnik/flotilla_projects/singlecell_pnm_figure2_modalities:\n",
      "datapackage.json           gene_ontology.hdf     modalities_tidy.csv.gz\n",
      "expression.csv.gz          mapping_stats.csv.gz  splicing.csv.gz\n",
      "expression_feature.csv.gz  metadata.csv.gz       splicing_feature.csv.gz\n",
      "\n",
      "/home/obotvinnik/flotilla_projects/singlecell_pnm_figure3_differential_expression:\n",
      "datapackage.json                gene_ontology.hdf       splicing.csv.gz\n",
      "differential_expression.csv.gz  mapping_stats.csv.gz    splicing_feature.csv.gz\n",
      "expression.csv.gz               metadata.csv.gz\n",
      "expression_feature.csv.gz       modalities_tidy.csv.gz\n",
      "\n",
      "/home/obotvinnik/flotilla_projects/singlecell_pnm_figure3_modalities_features:\n",
      "datapackage.json           gene_ontology.hdf     modalities_tidy.csv.gz\n",
      "expression.csv.gz          mapping_stats.csv.gz  splicing.csv.gz\n",
      "expression_feature.csv.gz  metadata.csv.gz       splicing_feature.csv.gz\n",
      "\n",
      "/home/obotvinnik/flotilla_projects/singlecell_pnm_figure3_modality_motifs:\n",
      "datapackage.json           modalities_tidy.csv.gz\n",
      "expression.csv.gz          modality_motif_metadata.csv.gz\n",
      "expression_feature.csv.gz  modality_motif_scores.csv.gz\n",
      "gene_ontology.hdf          splicing.csv.gz\n",
      "mapping_stats.csv.gz       splicing_feature.csv.gz\n",
      "metadata.csv.gz\n",
      "\n",
      "/home/obotvinnik/flotilla_projects/singlecell_pnm_figure4_voyages:\n",
      "datapackage.json                gene_ontology.hdf       splicing.csv.gz\n",
      "differential_expression.csv.gz  mapping_stats.csv.gz    splicing_feature.csv.gz\n",
      "expression.csv.gz               metadata.csv.gz         voyages.csv.gz\n",
      "expression_feature.csv.gz       modalities_tidy.csv.gz  waypoints.csv.gz\n",
      "\n",
      "/home/obotvinnik/flotilla_projects/singlecell_pnm_post_figure7:\n",
      "\u001b[01;32mdatapackage.json\u001b[0m*           \u001b[01;32mmodalities_tidy.csv.gz\u001b[0m*\n",
      "\u001b[01;32mexpression.csv.gz\u001b[0m*          \u001b[01;32mpsi_rbps_corr.csv.gz\u001b[0m*\n",
      "\u001b[01;32mexpression_feature.csv.gz\u001b[0m*  \u001b[01;32mpsi_rbps_corr_phenotype_tidy.csv.gz\u001b[0m*\n",
      "\u001b[01;32mgene_ontology.csv.gz\u001b[0m*       \u001b[01;32mpsi_rbps_corr_tidy.csv.gz\u001b[0m*\n",
      "\u001b[01;32mmapping_stats.csv.gz\u001b[0m*       \u001b[01;32msplicing.csv.gz\u001b[0m*\n",
      "\u001b[01;32mmetadata.csv.gz\u001b[0m*            \u001b[01;32msplicing_feature.csv.gz\u001b[0m*\n",
      "\n",
      "/home/obotvinnik/flotilla_projects/singlecell_pnm_post_kmeans_outliers:\n",
      "\u001b[01;32mdatapackage.json\u001b[0m*           \u001b[01;32mmodalities_tidy.csv.gz\u001b[0m*\n",
      "\u001b[01;32mexpression.csv.gz\u001b[0m*          \u001b[01;32mpsi20_modalities_tidy.csv.gz\u001b[0m*\n",
      "\u001b[01;32mexpression_feature.csv.gz\u001b[0m*  \u001b[01;32mrbps_corr_tidy.csv.gz\u001b[0m*\n",
      "\u001b[01;32mgene_ontology.csv.gz\u001b[0m*       \u001b[01;32msplicing.csv.gz\u001b[0m*\n",
      "\u001b[01;32mmapping_stats.csv.gz\u001b[0m*       \u001b[01;32msplicing_feature.csv.gz\u001b[0m*\n",
      "\u001b[01;32mmetadata.csv.gz\u001b[0m*            \u001b[01;32mtfs_corr_tidy.csv.gz\u001b[0m*\n",
      "\n",
      "/home/obotvinnik/flotilla_projects/singlecell_pnms:\n",
      "\u001b[01;32mdatapackage.json\u001b[0m*           \u001b[01;32mmapping_stats.csv.gz\u001b[0m*  \u001b[01;32msplicing_feature.csv.gz\u001b[0m*\n",
      "\u001b[01;32mexpression.csv.gz\u001b[0m*          \u001b[01;32mmetadata.csv.gz\u001b[0m*\n",
      "\u001b[01;32mexpression_feature.csv.gz\u001b[0m*  \u001b[01;32msplicing.csv.gz\u001b[0m*\n",
      "\n",
      "/home/obotvinnik/flotilla_projects/singlecell_pnms_figure5:\n",
      "datapackage.json           mapping_stats.csv.gz     splicing.csv.gz\n",
      "expression.csv.gz          metadata.csv.gz          splicing_feature.csv.gz\n",
      "expression_feature.csv.gz  modalities_tidy.csv.gz\n",
      "gene_ontology.hdf          psi_constitutive.csv.gz\n",
      "\n",
      "/home/obotvinnik/flotilla_projects/singlecell_pnms_post_kmeans_outliers:\n",
      "\u001b[01;32mdatapackage.json\u001b[0m*           \u001b[01;32mgene_ontology.csv.gz\u001b[0m*  \u001b[01;32mmodalities_tidy.csv.gz\u001b[0m*\n",
      "\u001b[01;32mexpression.csv.gz\u001b[0m*          \u001b[01;32mmapping_stats.csv.gz\u001b[0m*  \u001b[01;32msplicing.csv.gz\u001b[0m*\n",
      "\u001b[01;32mexpression_feature.csv.gz\u001b[0m*  \u001b[01;32mmetadata.csv.gz\u001b[0m*       \u001b[01;32msplicing_feature.csv.gz\u001b[0m*\n",
      "\u001b[m"
     ]
    }
   ],
   "source": [
    "ls /home/obotvinnik/flotilla_projects/singlecell_pnm*"
   ]
  },
  {
   "cell_type": "code",
   "execution_count": null,
   "metadata": {
    "collapsed": false
   },
   "outputs": [],
   "source": [
    "transitions = study.phenotype_transitions + [('iPSC', 'MN')]\n",
    "transitions"
   ]
  },
  {
   "cell_type": "code",
   "execution_count": null,
   "metadata": {
    "collapsed": false
   },
   "outputs": [],
   "source": [
    "transition_strs = ['{}-{}'.format(*transition) for transition in transitions]\n",
    "transition_strs"
   ]
  },
  {
   "cell_type": "code",
   "execution_count": null,
   "metadata": {
    "collapsed": false
   },
   "outputs": [],
   "source": [
    "import matplotlib as mpl\n",
    "\n",
    "fig, ax = plt.subplots(figsize=(4, 3))\n",
    "x = study.supplemental.voyages['$\\Delta x$']\n",
    "y = study.supplemental.voyages['$\\Delta y$']\n",
    "\n",
    "# ind = (x != 0) & (y != 0)\n",
    "# x = x[ind]\n",
    "# y = y[ind]\n",
    "\n",
    "xmin = x.min()\n",
    "xmax = x.max()\n",
    "\n",
    "ymin = y.min()\n",
    "ymax = y.max()\n",
    "\n",
    "vmin = min(xmin, ymin)\n",
    "vmax = max(xmax, ymax)\n",
    "\n",
    "image = ax.hexbin(x, y, mincnt=1, bins='log', \n",
    "                  gridsize=25,\n",
    "                  cmap='YlGnBu', edgecolor='darkgrey')\n",
    "ax.hlines(0, vmin, vmax, zorder=-1)\n",
    "ax.vlines(0, vmin, vmax, zorder=-1)\n",
    "ax.set(xlabel='$\\Delta x$', ylabel='$\\Delta y$')\n",
    "sns.despine(left=True, bottom=True)\n",
    "plt.colorbar(image, label='$\\log_{10} \\mathrm{count}$', ticks=mpl.ticker.MaxNLocator(4))\n",
    "fig.tight_layout()\n",
    "fig.savefig('{}/voyage_distances_deltas.pdf'.format(folder))"
   ]
  },
  {
   "cell_type": "code",
   "execution_count": null,
   "metadata": {
    "collapsed": false
   },
   "outputs": [],
   "source": [
    "g = sns.FacetGrid(study.supplemental.voyages, col='transition', col_order=transition_strs)\n",
    "g.map(plt.hexbin, '$\\Delta x$', '$\\Delta y$', mincnt=1, #bins='log', \n",
    "      gridsize=25,\n",
    "      cmap='YlGnBu', edgecolor='darkgrey')"
   ]
  },
  {
   "cell_type": "code",
   "execution_count": null,
   "metadata": {
    "collapsed": false
   },
   "outputs": [],
   "source": [
    "def mean_cutoff(x, *args, **kwargs):\n",
    "    ax = kwargs['ax'] if 'ax' in kwargs else plt.gca()\n",
    "    ymin, ymax = ax.get_ylim()\n",
    "    cutoff = x.mean() + x.std()\n",
    "    ax.vlines(cutoff, ymin, ymax, **kwargs)\n",
    "\n",
    "g = sns.FacetGrid(study.supplemental.voyages, col='direction', row='transition', margin_titles=True, row_order=transition_strs)\n",
    "g.map(sns.distplot, 'voyage_distance', color='teal', kde=True, bins=np.linspace(0, 1.5, 20))\n",
    "g.map(mean_cutoff, 'voyage_distance', linestyle='--', color='k')\n",
    "g.set(xlim=(0, 1.5))\n",
    "g.savefig('{}/voyages_histogram_facetgrid.pdf'.format(folder))"
   ]
  },
  {
   "cell_type": "markdown",
   "metadata": {},
   "source": [
    "## Features of changing events"
   ]
  },
  {
   "cell_type": "code",
   "execution_count": null,
   "metadata": {
    "collapsed": false
   },
   "outputs": [],
   "source": [
    "delta_cols = ['$\\Delta x$', '$\\Delta y$']\n",
    "\n",
    "voyages_filtered = study.supplemental.voyages.groupby(['transition', 'direction'], as_index=False, group_keys=False).apply(\n",
    "    lambda x: x.loc[x.voyage_distance > x.voyage_distance.quantile(0.8)])\n",
    "\n",
    "# voyages_filtered = study.supplemental.voyages.groupby(['transition', 'direction']).apply(\n",
    "#     lambda x: x.loc[(x[delta_cols].abs() > (x[delta_cols].abs().mean() + 1*x[delta_cols].abs().std())).any(axis=1)])\n",
    "print voyages_filtered.groupby('transition').size()"
   ]
  },
  {
   "cell_type": "code",
   "execution_count": null,
   "metadata": {
    "collapsed": false
   },
   "outputs": [],
   "source": [
    "vmax = 35\n",
    "\n",
    "g = sns.FacetGrid(voyages_filtered, col='transition', col_order=transition_strs)\n",
    "g.map(plt.hexbin, '$\\Delta x$', '$\\Delta y$',# bins='log', \n",
    "      cmap='YlGnBu',\n",
    "      mincnt=1, edgecolor='darkgrey', gridsize=25, #vmax=vmax, \n",
    "      vmin=0)\n",
    "for ax in g.axes.flat:\n",
    "    ax.hlines(0, -1, 1, color='k', zorder=-1)\n",
    "    ax.vlines(0, -1, 1, color='k', zorder=-1)\n",
    "    print np.max(ax.collections[0].get_array())\n",
    "    \n",
    "g.set(xlim=(-1, 1), ylim=(-1, 1))\n",
    "g.savefig('{}/per_transition_voyages_facetgrid.pdf'.format(folder))\n",
    "\n",
    "cfig, cax = plt.subplots(figsize=(1.25, 2))\n",
    "plt.colorbar(ax.collections[0], cax=cax, orientation='vertical',  label='Count')\n",
    "cfig.tight_layout()\n",
    "cfig.savefig('{}/per_transition_voyages_facetgrid_colorbar.pdf'.format(folder))\n",
    "# sns.despine(bottom=True, left=True)"
   ]
  },
  {
   "cell_type": "code",
   "execution_count": null,
   "metadata": {
    "collapsed": false
   },
   "outputs": [],
   "source": [
    "voyages_filtered.head()"
   ]
  },
  {
   "cell_type": "code",
   "execution_count": null,
   "metadata": {
    "collapsed": true
   },
   "outputs": [],
   "source": []
  },
  {
   "cell_type": "code",
   "execution_count": null,
   "metadata": {
    "collapsed": true
   },
   "outputs": [],
   "source": [
    "import pybedtools\n",
    "\n",
    "bed_folder = '/projects/ps-yeolab/obotvinnik/singlecell_pnms/figure4_voayges'\n",
    "! mkdir $bed_folder\n",
    "\n",
    "DIR = '/projects/ps-yeolab/obotvinnik/singlecell_pnms'\n",
    "\n",
    "exon_bedfile = '{}/exon2.bed'.format(DIR)\n",
    "exon_bed = pybedtools.BedTool(exon_bedfile)\n",
    "\n"
   ]
  },
  {
   "cell_type": "markdown",
   "metadata": {},
   "source": [
    "## Features of changing events"
   ]
  },
  {
   "cell_type": "code",
   "execution_count": 38,
   "metadata": {
    "collapsed": false
   },
   "outputs": [
    {
     "data": {
      "text/plain": [
       "(33693, 103)"
      ]
     },
     "execution_count": 38,
     "metadata": {},
     "output_type": "execute_result"
    }
   ],
   "source": [
    "study.splicing.feature_data.shape"
   ]
  },
  {
   "cell_type": "code",
   "execution_count": 40,
   "metadata": {
    "collapsed": false
   },
   "outputs": [
    {
     "data": {
      "text/html": [
       "<div>\n",
       "<table border=\"1\" class=\"dataframe\">\n",
       "  <thead>\n",
       "    <tr style=\"text-align: right;\">\n",
       "      <th></th>\n",
       "      <th>event_id</th>\n",
       "      <th>$\\Delta x$</th>\n",
       "      <th>$\\Delta y$</th>\n",
       "      <th>voyage_distance</th>\n",
       "      <th>group1</th>\n",
       "      <th>group2</th>\n",
       "      <th>direction</th>\n",
       "      <th>transition</th>\n",
       "      <th>criteria</th>\n",
       "      <th>criteria_additional</th>\n",
       "      <th>...</th>\n",
       "      <th>isoform1_pfam_go_id</th>\n",
       "      <th>isoform1_pfam_go_name</th>\n",
       "      <th>isoform1_pfam_name</th>\n",
       "      <th>isoform2_pfam_accession</th>\n",
       "      <th>isoform2_pfam_go_id</th>\n",
       "      <th>isoform2_pfam_go_name</th>\n",
       "      <th>isoform2_pfam_name</th>\n",
       "      <th>isoform_domain_effects</th>\n",
       "      <th>custom_1</th>\n",
       "      <th>custom_2</th>\n",
       "    </tr>\n",
       "  </thead>\n",
       "  <tbody>\n",
       "    <tr>\n",
       "      <th>0</th>\n",
       "      <td>exon:chr10:102114184-102114389:+@exon:chr10:10...</td>\n",
       "      <td>0.053571</td>\n",
       "      <td>-0.054198</td>\n",
       "      <td>0.076206</td>\n",
       "      <td>iPSC</td>\n",
       "      <td>NPC</td>\n",
       "      <td>$\\searrow$</td>\n",
       "      <td>iPSC-NPC</td>\n",
       "      <td>only one</td>\n",
       "      <td>NaN</td>\n",
       "      <td>...</td>\n",
       "      <td>NaN</td>\n",
       "      <td>NaN</td>\n",
       "      <td>NaN</td>\n",
       "      <td>PF00487.19[1]</td>\n",
       "      <td>GO:0006629[1]</td>\n",
       "      <td>(lipid metabolic process)[1]</td>\n",
       "      <td>FA_desaturase[1]</td>\n",
       "      <td>No annotated reading frame --&gt; Protein +/- domain</td>\n",
       "      <td>False</td>\n",
       "      <td>False</td>\n",
       "    </tr>\n",
       "    <tr>\n",
       "      <th>1</th>\n",
       "      <td>exon:chr10:102286732-102286831:-@exon:chr10:10...</td>\n",
       "      <td>0.000000</td>\n",
       "      <td>0.000000</td>\n",
       "      <td>0.000000</td>\n",
       "      <td>iPSC</td>\n",
       "      <td>NPC</td>\n",
       "      <td>$\\swarrow$</td>\n",
       "      <td>iPSC-NPC</td>\n",
       "      <td>best</td>\n",
       "      <td>appris_principal</td>\n",
       "      <td>...</td>\n",
       "      <td>NaN</td>\n",
       "      <td>NaN</td>\n",
       "      <td>NaN</td>\n",
       "      <td>PF05821.6[1]</td>\n",
       "      <td>GO:0003954[1],GO:0008137[1],GO:0005739[1]</td>\n",
       "      <td>(NADH dehydrogenase activity)[1],(NADH dehydro...</td>\n",
       "      <td>NDUF_B8[1]</td>\n",
       "      <td>No annotated reading frame --&gt; Protein +/- domain</td>\n",
       "      <td>True</td>\n",
       "      <td>True</td>\n",
       "    </tr>\n",
       "    <tr>\n",
       "      <th>2</th>\n",
       "      <td>exon:chr10:102747070-102747190:-@exon:chr10:10...</td>\n",
       "      <td>0.004480</td>\n",
       "      <td>-0.004480</td>\n",
       "      <td>0.006336</td>\n",
       "      <td>iPSC</td>\n",
       "      <td>NPC</td>\n",
       "      <td>$\\searrow$</td>\n",
       "      <td>iPSC-NPC</td>\n",
       "      <td>one event with gencode transcripts</td>\n",
       "      <td>NaN</td>\n",
       "      <td>...</td>\n",
       "      <td>NaN</td>\n",
       "      <td>NaN</td>\n",
       "      <td>NaN</td>\n",
       "      <td>PF05047.11[1]</td>\n",
       "      <td>nan[1]</td>\n",
       "      <td>(nan)[1]</td>\n",
       "      <td>L51_S25_CI-B8[1]</td>\n",
       "      <td>No annotated reading frame --&gt; Protein +/- domain</td>\n",
       "      <td>True</td>\n",
       "      <td>True</td>\n",
       "    </tr>\n",
       "    <tr>\n",
       "      <th>3</th>\n",
       "      <td>exon:chr10:103348089-103348157:+@exon:chr10:10...</td>\n",
       "      <td>0.000000</td>\n",
       "      <td>-0.027778</td>\n",
       "      <td>0.027778</td>\n",
       "      <td>iPSC</td>\n",
       "      <td>NPC</td>\n",
       "      <td>$\\swarrow$</td>\n",
       "      <td>iPSC-NPC</td>\n",
       "      <td>only one</td>\n",
       "      <td>NaN</td>\n",
       "      <td>...</td>\n",
       "      <td>NaN</td>\n",
       "      <td>NaN</td>\n",
       "      <td>NaN</td>\n",
       "      <td>PF14913.1[1]</td>\n",
       "      <td>nan[1]</td>\n",
       "      <td>(nan)[1]</td>\n",
       "      <td>DPCD[1]</td>\n",
       "      <td>No annotated reading frame --&gt; Protein +/- domain</td>\n",
       "      <td>True</td>\n",
       "      <td>True</td>\n",
       "    </tr>\n",
       "    <tr>\n",
       "      <th>4</th>\n",
       "      <td>exon:chr10:103360960-103361093:+@exon:chr10:10...</td>\n",
       "      <td>-0.056306</td>\n",
       "      <td>0.055556</td>\n",
       "      <td>0.079100</td>\n",
       "      <td>iPSC</td>\n",
       "      <td>NPC</td>\n",
       "      <td>$\\nwarrow$</td>\n",
       "      <td>iPSC-NPC</td>\n",
       "      <td>only one</td>\n",
       "      <td>NaN</td>\n",
       "      <td>...</td>\n",
       "      <td>nan[1]</td>\n",
       "      <td>(nan)[1]</td>\n",
       "      <td>DPCD[1]</td>\n",
       "      <td>NaN</td>\n",
       "      <td>NaN</td>\n",
       "      <td>NaN</td>\n",
       "      <td>NaN</td>\n",
       "      <td>Protein +/- domain --&gt; No annotated reading frame</td>\n",
       "      <td>True</td>\n",
       "      <td>True</td>\n",
       "    </tr>\n",
       "  </tbody>\n",
       "</table>\n",
       "<p>5 rows × 111 columns</p>\n",
       "</div>"
      ],
      "text/plain": [
       "                                            event_id  $\\Delta x$  $\\Delta y$  \\\n",
       "0  exon:chr10:102114184-102114389:+@exon:chr10:10...    0.053571   -0.054198   \n",
       "1  exon:chr10:102286732-102286831:-@exon:chr10:10...    0.000000    0.000000   \n",
       "2  exon:chr10:102747070-102747190:-@exon:chr10:10...    0.004480   -0.004480   \n",
       "3  exon:chr10:103348089-103348157:+@exon:chr10:10...    0.000000   -0.027778   \n",
       "4  exon:chr10:103360960-103361093:+@exon:chr10:10...   -0.056306    0.055556   \n",
       "\n",
       "   voyage_distance group1 group2   direction transition  \\\n",
       "0         0.076206   iPSC    NPC  $\\searrow$   iPSC-NPC   \n",
       "1         0.000000   iPSC    NPC  $\\swarrow$   iPSC-NPC   \n",
       "2         0.006336   iPSC    NPC  $\\searrow$   iPSC-NPC   \n",
       "3         0.027778   iPSC    NPC  $\\swarrow$   iPSC-NPC   \n",
       "4         0.079100   iPSC    NPC  $\\nwarrow$   iPSC-NPC   \n",
       "\n",
       "                             criteria criteria_additional    ...     \\\n",
       "0                            only one                 NaN    ...      \n",
       "1                                best    appris_principal    ...      \n",
       "2  one event with gencode transcripts                 NaN    ...      \n",
       "3                            only one                 NaN    ...      \n",
       "4                            only one                 NaN    ...      \n",
       "\n",
       "  isoform1_pfam_go_id isoform1_pfam_go_name isoform1_pfam_name  \\\n",
       "0                 NaN                   NaN                NaN   \n",
       "1                 NaN                   NaN                NaN   \n",
       "2                 NaN                   NaN                NaN   \n",
       "3                 NaN                   NaN                NaN   \n",
       "4              nan[1]              (nan)[1]            DPCD[1]   \n",
       "\n",
       "   isoform2_pfam_accession                        isoform2_pfam_go_id  \\\n",
       "0            PF00487.19[1]                              GO:0006629[1]   \n",
       "1             PF05821.6[1]  GO:0003954[1],GO:0008137[1],GO:0005739[1]   \n",
       "2            PF05047.11[1]                                     nan[1]   \n",
       "3             PF14913.1[1]                                     nan[1]   \n",
       "4                      NaN                                        NaN   \n",
       "\n",
       "                               isoform2_pfam_go_name isoform2_pfam_name  \\\n",
       "0                       (lipid metabolic process)[1]   FA_desaturase[1]   \n",
       "1  (NADH dehydrogenase activity)[1],(NADH dehydro...         NDUF_B8[1]   \n",
       "2                                           (nan)[1]   L51_S25_CI-B8[1]   \n",
       "3                                           (nan)[1]            DPCD[1]   \n",
       "4                                                NaN                NaN   \n",
       "\n",
       "                              isoform_domain_effects custom_1  custom_2  \n",
       "0  No annotated reading frame --> Protein +/- domain    False     False  \n",
       "1  No annotated reading frame --> Protein +/- domain     True      True  \n",
       "2  No annotated reading frame --> Protein +/- domain     True      True  \n",
       "3  No annotated reading frame --> Protein +/- domain     True      True  \n",
       "4  Protein +/- domain --> No annotated reading frame     True      True  \n",
       "\n",
       "[5 rows x 111 columns]"
      ]
     },
     "execution_count": 40,
     "metadata": {},
     "output_type": "execute_result"
    }
   ],
   "source": [
    "voyages_annotated = study.supplemental.voyages.join(study.splicing.feature_data, on='event_id')\n",
    "voyages_annotated.head()"
   ]
  },
  {
   "cell_type": "markdown",
   "metadata": {},
   "source": [
    "## Submit HOMER motifs"
   ]
  },
  {
   "cell_type": "markdown",
   "metadata": {},
   "source": [
    "### Get upstream/downstream sequences"
   ]
  },
  {
   "cell_type": "code",
   "execution_count": 18,
   "metadata": {
    "collapsed": false
   },
   "outputs": [
    {
     "name": "stdout",
     "output_type": "stream",
     "text": [
      "exon2_iPSC-NPC_swarrow.bed\n",
      "\t371 371\n",
      "\t/projects/ps-yeolab/obotvinnik/singlecell_pnms/figure4_voayges/exon2_iPSC-NPC_swarrow_downstream200.bed\n",
      "371 /projects/ps-yeolab/obotvinnik/singlecell_pnms/figure4_voayges/exon2_iPSC-NPC_swarrow_downstream200.bed\n",
      "exon2_iPSC-MN_nearrow_background.bed\n",
      "\t2331 2331\n",
      "\t/projects/ps-yeolab/obotvinnik/singlecell_pnms/figure4_voayges/exon2_iPSC-MN_nearrow_background_downstream200.bed\n",
      "2331 /projects/ps-yeolab/obotvinnik/singlecell_pnms/figure4_voayges/exon2_iPSC-MN_nearrow_background_downstream200.bed\n",
      "exon2_iPSC-NPC_nearrow.bed\n",
      "\t93 93\n",
      "\t/projects/ps-yeolab/obotvinnik/singlecell_pnms/figure4_voayges/exon2_iPSC-NPC_nearrow_downstream200.bed\n",
      "93 /projects/ps-yeolab/obotvinnik/singlecell_pnms/figure4_voayges/exon2_iPSC-NPC_nearrow_downstream200.bed\n",
      "exon2_iPSC-MN_searrow_background.bed\n",
      "\t2265 2265\n",
      "\t/projects/ps-yeolab/obotvinnik/singlecell_pnms/figure4_voayges/exon2_iPSC-MN_searrow_background_downstream200.bed\n",
      "2265 /projects/ps-yeolab/obotvinnik/singlecell_pnms/figure4_voayges/exon2_iPSC-MN_searrow_background_downstream200.bed\n",
      "exon2_iPSC-MN_swarrow_background.bed\n",
      "\t2141 2141\n",
      "\t/projects/ps-yeolab/obotvinnik/singlecell_pnms/figure4_voayges/exon2_iPSC-MN_swarrow_background_downstream200.bed\n",
      "2141 /projects/ps-yeolab/obotvinnik/singlecell_pnms/figure4_voayges/exon2_iPSC-MN_swarrow_background_downstream200.bed\n",
      "exon2_iPSC-MN_nwarrow_background.bed\n",
      "\t2272 2272\n",
      "\t/projects/ps-yeolab/obotvinnik/singlecell_pnms/figure4_voayges/exon2_iPSC-MN_nwarrow_background_downstream200.bed\n",
      "2272 /projects/ps-yeolab/obotvinnik/singlecell_pnms/figure4_voayges/exon2_iPSC-MN_nwarrow_background_downstream200.bed\n",
      "exon2_iPSC-MN_nearrow.bed\n",
      "\t40 40\n",
      "\t/projects/ps-yeolab/obotvinnik/singlecell_pnms/figure4_voayges/exon2_iPSC-MN_nearrow_downstream200.bed\n",
      "40 /projects/ps-yeolab/obotvinnik/singlecell_pnms/figure4_voayges/exon2_iPSC-MN_nearrow_downstream200.bed\n",
      "exon2_iPSC-MN_swarrow.bed\n",
      "\t230 230\n",
      "\t/projects/ps-yeolab/obotvinnik/singlecell_pnms/figure4_voayges/exon2_iPSC-MN_swarrow_downstream200.bed\n",
      "230 /projects/ps-yeolab/obotvinnik/singlecell_pnms/figure4_voayges/exon2_iPSC-MN_swarrow_downstream200.bed\n",
      "exon2_NPC-MN_swarrow_background.bed\n",
      "\t2125 2125\n",
      "\t/projects/ps-yeolab/obotvinnik/singlecell_pnms/figure4_voayges/exon2_NPC-MN_swarrow_background_downstream200.bed\n",
      "2125 /projects/ps-yeolab/obotvinnik/singlecell_pnms/figure4_voayges/exon2_NPC-MN_swarrow_background_downstream200.bed\n",
      "exon2_NPC-MN_nwarrow_background.bed\n",
      "\t2271 2271\n",
      "\t/projects/ps-yeolab/obotvinnik/singlecell_pnms/figure4_voayges/exon2_NPC-MN_nwarrow_background_downstream200.bed\n",
      "2271 /projects/ps-yeolab/obotvinnik/singlecell_pnms/figure4_voayges/exon2_NPC-MN_nwarrow_background_downstream200.bed\n",
      "exon2_NPC-MN_nearrow_background.bed\n",
      "\t2347 2347\n",
      "\t/projects/ps-yeolab/obotvinnik/singlecell_pnms/figure4_voayges/exon2_NPC-MN_nearrow_background_downstream200.bed\n",
      "2347 /projects/ps-yeolab/obotvinnik/singlecell_pnms/figure4_voayges/exon2_NPC-MN_nearrow_background_downstream200.bed\n",
      "exon2_NPC-MN_searrow.bed\n",
      "\t100 100\n",
      "\t/projects/ps-yeolab/obotvinnik/singlecell_pnms/figure4_voayges/exon2_NPC-MN_searrow_downstream200.bed\n",
      "100 /projects/ps-yeolab/obotvinnik/singlecell_pnms/figure4_voayges/exon2_NPC-MN_searrow_downstream200.bed\n",
      "exon2_NPC-MN_nwarrow.bed\n",
      "\t102 102\n",
      "\t/projects/ps-yeolab/obotvinnik/singlecell_pnms/figure4_voayges/exon2_NPC-MN_nwarrow_downstream200.bed\n",
      "102 /projects/ps-yeolab/obotvinnik/singlecell_pnms/figure4_voayges/exon2_NPC-MN_nwarrow_downstream200.bed\n",
      "exon2_NPC-MN_searrow_background.bed\n",
      "\t2273 2273\n",
      "\t/projects/ps-yeolab/obotvinnik/singlecell_pnms/figure4_voayges/exon2_NPC-MN_searrow_background_downstream200.bed\n",
      "2273 /projects/ps-yeolab/obotvinnik/singlecell_pnms/figure4_voayges/exon2_NPC-MN_searrow_background_downstream200.bed\n",
      "exon2_NPC-MN_swarrow.bed\n",
      "\t248 248\n",
      "\t/projects/ps-yeolab/obotvinnik/singlecell_pnms/figure4_voayges/exon2_NPC-MN_swarrow_downstream200.bed\n",
      "248 /projects/ps-yeolab/obotvinnik/singlecell_pnms/figure4_voayges/exon2_NPC-MN_swarrow_downstream200.bed\n",
      "exon2_NPC-MN_nearrow.bed\n",
      "\t26 26\n",
      "\t/projects/ps-yeolab/obotvinnik/singlecell_pnms/figure4_voayges/exon2_NPC-MN_nearrow_downstream200.bed\n",
      "26 /projects/ps-yeolab/obotvinnik/singlecell_pnms/figure4_voayges/exon2_NPC-MN_nearrow_downstream200.bed\n",
      "exon2_iPSC-MN_nwarrow.bed\n",
      "\t99 99\n",
      "\t/projects/ps-yeolab/obotvinnik/singlecell_pnms/figure4_voayges/exon2_iPSC-MN_nwarrow_downstream200.bed\n",
      "99 /projects/ps-yeolab/obotvinnik/singlecell_pnms/figure4_voayges/exon2_iPSC-MN_nwarrow_downstream200.bed\n",
      "exon2_iPSC-MN_searrow.bed\n",
      "\t106 106\n",
      "\t/projects/ps-yeolab/obotvinnik/singlecell_pnms/figure4_voayges/exon2_iPSC-MN_searrow_downstream200.bed\n",
      "106 /projects/ps-yeolab/obotvinnik/singlecell_pnms/figure4_voayges/exon2_iPSC-MN_searrow_downstream200.bed\n",
      "exon2_iPSC-NPC_nearrow_background.bed\n",
      "\t4489 4489\n",
      "\t/projects/ps-yeolab/obotvinnik/singlecell_pnms/figure4_voayges/exon2_iPSC-NPC_nearrow_background_downstream200.bed\n",
      "4489 /projects/ps-yeolab/obotvinnik/singlecell_pnms/figure4_voayges/exon2_iPSC-NPC_nearrow_background_downstream200.bed\n",
      "exon2_iPSC-NPC_searrow_background.bed\n",
      "\t4358 4358\n",
      "\t/projects/ps-yeolab/obotvinnik/singlecell_pnms/figure4_voayges/exon2_iPSC-NPC_searrow_background_downstream200.bed\n",
      "4358 /projects/ps-yeolab/obotvinnik/singlecell_pnms/figure4_voayges/exon2_iPSC-NPC_searrow_background_downstream200.bed\n",
      "exon2_iPSC-NPC_swarrow_background.bed\n",
      "\t4211 4211\n",
      "\t/projects/ps-yeolab/obotvinnik/singlecell_pnms/figure4_voayges/exon2_iPSC-NPC_swarrow_background_downstream200.bed\n",
      "4211 /projects/ps-yeolab/obotvinnik/singlecell_pnms/figure4_voayges/exon2_iPSC-NPC_swarrow_background_downstream200.bed\n",
      "exon2_iPSC-NPC_nwarrow_background.bed\n",
      "\t4353 4353\n",
      "\t/projects/ps-yeolab/obotvinnik/singlecell_pnms/figure4_voayges/exon2_iPSC-NPC_nwarrow_background_downstream200.bed\n",
      "4353 /projects/ps-yeolab/obotvinnik/singlecell_pnms/figure4_voayges/exon2_iPSC-NPC_nwarrow_background_downstream200.bed\n",
      "exon2_iPSC-NPC_searrow.bed\n",
      "\t224 224\n",
      "\t/projects/ps-yeolab/obotvinnik/singlecell_pnms/figure4_voayges/exon2_iPSC-NPC_searrow_downstream200.bed\n",
      "224 /projects/ps-yeolab/obotvinnik/singlecell_pnms/figure4_voayges/exon2_iPSC-NPC_searrow_downstream200.bed\n",
      "exon2_iPSC-NPC_nwarrow.bed\n",
      "\t229 229\n",
      "\t/projects/ps-yeolab/obotvinnik/singlecell_pnms/figure4_voayges/exon2_iPSC-NPC_nwarrow_downstream200.bed\n",
      "229 /projects/ps-yeolab/obotvinnik/singlecell_pnms/figure4_voayges/exon2_iPSC-NPC_nwarrow_downstream200.bed\n"
     ]
    }
   ],
   "source": [
    "import os\n",
    "import glob\n",
    "import pybedtools\n",
    "\n",
    "nt = 200\n",
    "\n",
    "directions = 'upstream', 'downstream'\n",
    "\n",
    "for bedfile in glob.iglob('{}/exon2*.bed'.format(bed_folder)):\n",
    "    if 'stream' in bedfile:\n",
    "        continue\n",
    "    \n",
    "    basename = os.path.basename(bedfile)\n",
    "    print basename\n",
    "    prefix = basename.split('.bed')[0]\n",
    "    bed = pybedtools.BedTool(bedfile)\n",
    "    \n",
    "    for direction in directions:\n",
    "        # Get downstream intron\n",
    "        if direction == 'downstream':\n",
    "            intron = bed.flank(l=0, r=nt, s=True, g=pybedtools.chromsizes('hg19'))\n",
    "        elif direction == 'upstream':\n",
    "            intron = bed.flank(l=nt, r=0, s=True, g=pybedtools.chromsizes('hg19'))\n",
    "            \n",
    "    # Saved every exon that was exactly upstream or downstream of a junction,\n",
    "    # So when taking the flanking sequence, there's a lot of repetition\n",
    "    unique = pybedtools.BedTool(list(set(x for x in intron)))\n",
    "    \n",
    "    \n",
    "    print '\\t', len(intron), len(unique)\n",
    "    saveas = '{}/{}_{}{}.bed'.format(bed_folder, prefix, direction, nt)\n",
    "    print '\\t', saveas\n",
    "    unique.saveas(saveas)\n",
    "    ! wc -l $saveas"
   ]
  },
  {
   "cell_type": "code",
   "execution_count": 3,
   "metadata": {
    "collapsed": false
   },
   "outputs": [
    {
     "name": "stdout",
     "output_type": "stream",
     "text": [
      "\u001b[0m\u001b[01;34mexon2_NPC-MN_nearrow\u001b[0m/                  homer.err-10  homer.out-11\r\n",
      "\u001b[01;34mexon2_NPC-MN_nearrow_downstream200\u001b[0m/    homer.err-11  homer.out-12\r\n",
      "\u001b[01;34mexon2_NPC-MN_nearrow_upstream200\u001b[0m/      homer.err-12  homer.out-13\r\n",
      "\u001b[01;34mexon2_NPC-MN_nwarrow\u001b[0m/                  homer.err-13  homer.out-14\r\n",
      "\u001b[01;34mexon2_NPC-MN_nwarrow_downstream200\u001b[0m/    homer.err-14  homer.out-15\r\n",
      "\u001b[01;34mexon2_NPC-MN_nwarrow_upstream200\u001b[0m/      homer.err-15  homer.out-16\r\n",
      "\u001b[01;34mexon2_NPC-MN_searrow\u001b[0m/                  homer.err-16  homer.out-17\r\n",
      "\u001b[01;34mexon2_NPC-MN_searrow_downstream200\u001b[0m/    homer.err-17  homer.out-18\r\n",
      "\u001b[01;34mexon2_NPC-MN_searrow_upstream200\u001b[0m/      homer.err-18  homer.out-19\r\n",
      "\u001b[01;34mexon2_NPC-MN_swarrow\u001b[0m/                  homer.err-19  homer.out-2\r\n",
      "\u001b[01;34mexon2_NPC-MN_swarrow_downstream200\u001b[0m/    homer.err-2   homer.out-20\r\n",
      "\u001b[01;34mexon2_NPC-MN_swarrow_upstream200\u001b[0m/      homer.err-20  homer.out-21\r\n",
      "\u001b[01;34mexon2_iPSC-MN_nearrow\u001b[0m/                 homer.err-21  homer.out-22\r\n",
      "\u001b[01;34mexon2_iPSC-MN_nearrow_downstream200\u001b[0m/   homer.err-22  homer.out-23\r\n",
      "\u001b[01;34mexon2_iPSC-MN_nearrow_upstream200\u001b[0m/     homer.err-23  homer.out-24\r\n",
      "\u001b[01;34mexon2_iPSC-MN_nwarrow\u001b[0m/                 homer.err-24  homer.out-25\r\n",
      "\u001b[01;34mexon2_iPSC-MN_nwarrow_downstream200\u001b[0m/   homer.err-25  homer.out-26\r\n",
      "\u001b[01;34mexon2_iPSC-MN_nwarrow_upstream200\u001b[0m/     homer.err-26  homer.out-27\r\n",
      "\u001b[01;34mexon2_iPSC-MN_searrow\u001b[0m/                 homer.err-27  homer.out-28\r\n",
      "\u001b[01;34mexon2_iPSC-MN_searrow_downstream200\u001b[0m/   homer.err-28  homer.out-29\r\n",
      "\u001b[01;34mexon2_iPSC-MN_searrow_upstream200\u001b[0m/     homer.err-29  homer.out-3\r\n",
      "\u001b[01;34mexon2_iPSC-MN_swarrow\u001b[0m/                 homer.err-3   homer.out-30\r\n",
      "\u001b[01;34mexon2_iPSC-MN_swarrow_downstream200\u001b[0m/   homer.err-30  homer.out-31\r\n",
      "\u001b[01;34mexon2_iPSC-MN_swarrow_upstream200\u001b[0m/     homer.err-31  homer.out-32\r\n",
      "\u001b[01;34mexon2_iPSC-NPC_nearrow\u001b[0m/                homer.err-32  homer.out-33\r\n",
      "\u001b[01;34mexon2_iPSC-NPC_nearrow_downstream200\u001b[0m/  homer.err-33  homer.out-34\r\n",
      "\u001b[01;34mexon2_iPSC-NPC_nearrow_upstream200\u001b[0m/    homer.err-34  homer.out-35\r\n",
      "\u001b[01;34mexon2_iPSC-NPC_nwarrow\u001b[0m/                homer.err-35  homer.out-36\r\n",
      "\u001b[01;34mexon2_iPSC-NPC_nwarrow_downstream200\u001b[0m/  homer.err-36  homer.out-4\r\n",
      "\u001b[01;34mexon2_iPSC-NPC_nwarrow_upstream200\u001b[0m/    homer.err-4   homer.out-5\r\n",
      "\u001b[01;34mexon2_iPSC-NPC_searrow\u001b[0m/                homer.err-5   homer.out-6\r\n",
      "\u001b[01;34mexon2_iPSC-NPC_searrow_downstream200\u001b[0m/  homer.err-6   homer.out-7\r\n",
      "\u001b[01;34mexon2_iPSC-NPC_searrow_upstream200\u001b[0m/    homer.err-7   homer.out-8\r\n",
      "\u001b[01;34mexon2_iPSC-NPC_swarrow\u001b[0m/                homer.err-8   homer.out-9\r\n",
      "\u001b[01;34mexon2_iPSC-NPC_swarrow_downstream200\u001b[0m/  homer.err-9   homer.sh\r\n",
      "\u001b[01;34mexon2_iPSC-NPC_swarrow_upstream200\u001b[0m/    homer.out-1   homer_voyages.tar.gz\r\n",
      "homer.err-1                            homer.out-10\r\n",
      "\u001b[m"
     ]
    }
   ],
   "source": [
    "ls /projects/ps-yeolab/obotvinnik/singlecell_pnms/figure4_voyages/homer"
   ]
  },
  {
   "cell_type": "code",
   "execution_count": 22,
   "metadata": {
    "collapsed": false
   },
   "outputs": [
    {
     "name": "stdout",
     "output_type": "stream",
     "text": [
      "/projects/ps-yeolab/obotvinnik/singlecell_pnms/figure4_voayges/homer\n"
     ]
    }
   ],
   "source": [
    "cd $homer_dir"
   ]
  },
  {
   "cell_type": "code",
   "execution_count": 23,
   "metadata": {
    "collapsed": false
   },
   "outputs": [
    {
     "name": "stderr",
     "output_type": "stream",
     "text": [
      "running 24 tasks as an array-job.\n",
      "job ID: 3670513\n"
     ]
    },
    {
     "name": "stdout",
     "output_type": "stream",
     "text": [
      "\n",
      "/home/yeo-lab/software/homer/bin/findMotifsGenome.pl /projects/ps-yeolab/obotvinnik/singlecell_pnms/figure4_voayges/exon2_iPSC-NPC_swarrow.bed hg19 /projects/ps-yeolab/obotvinnik/singlecell_pnms/figure4_voayges/homer/exon2_iPSC-NPC_swarrow -bg /projects/ps-yeolab/obotvinnik/singlecell_pnms/figure4_voayges/exon2_iPSC-NPC_swarrow_background.bed -rna -len 4,5,6,7 -mset vertebrates -mis 1 -p 4\n",
      "\n",
      "/home/yeo-lab/software/homer/bin/findMotifsGenome.pl /projects/ps-yeolab/obotvinnik/singlecell_pnms/figure4_voayges/exon2_iPSC-NPC_swarrow_downstream200.bed hg19 /projects/ps-yeolab/obotvinnik/singlecell_pnms/figure4_voayges/homer/exon2_iPSC-NPC_swarrow_downstream200 -bg /projects/ps-yeolab/obotvinnik/singlecell_pnms/figure4_voayges/exon2_iPSC-NPC_swarrow_background_downstream200.bed -rna -len 4,5,6,7 -mset vertebrates -mis 1 -p 4\n",
      "\n",
      "/home/yeo-lab/software/homer/bin/findMotifsGenome.pl /projects/ps-yeolab/obotvinnik/singlecell_pnms/figure4_voayges/exon2_iPSC-NPC_nearrow.bed hg19 /projects/ps-yeolab/obotvinnik/singlecell_pnms/figure4_voayges/homer/exon2_iPSC-NPC_nearrow -bg /projects/ps-yeolab/obotvinnik/singlecell_pnms/figure4_voayges/exon2_iPSC-NPC_nearrow_background.bed -rna -len 4,5,6,7 -mset vertebrates -mis 1 -p 4\n",
      "\n",
      "/home/yeo-lab/software/homer/bin/findMotifsGenome.pl /projects/ps-yeolab/obotvinnik/singlecell_pnms/figure4_voayges/exon2_iPSC-NPC_nearrow_downstream200.bed hg19 /projects/ps-yeolab/obotvinnik/singlecell_pnms/figure4_voayges/homer/exon2_iPSC-NPC_nearrow_downstream200 -bg /projects/ps-yeolab/obotvinnik/singlecell_pnms/figure4_voayges/exon2_iPSC-NPC_nearrow_background_downstream200.bed -rna -len 4,5,6,7 -mset vertebrates -mis 1 -p 4\n",
      "\n",
      "/home/yeo-lab/software/homer/bin/findMotifsGenome.pl /projects/ps-yeolab/obotvinnik/singlecell_pnms/figure4_voayges/exon2_NPC-MN_searrow_downstream200.bed hg19 /projects/ps-yeolab/obotvinnik/singlecell_pnms/figure4_voayges/homer/exon2_NPC-MN_searrow_downstream200 -bg /projects/ps-yeolab/obotvinnik/singlecell_pnms/figure4_voayges/exon2_NPC-MN_searrow_background_downstream200.bed -rna -len 4,5,6,7 -mset vertebrates -mis 1 -p 4\n",
      "\n",
      "/home/yeo-lab/software/homer/bin/findMotifsGenome.pl /projects/ps-yeolab/obotvinnik/singlecell_pnms/figure4_voayges/exon2_iPSC-MN_swarrow_downstream200.bed hg19 /projects/ps-yeolab/obotvinnik/singlecell_pnms/figure4_voayges/homer/exon2_iPSC-MN_swarrow_downstream200 -bg /projects/ps-yeolab/obotvinnik/singlecell_pnms/figure4_voayges/exon2_iPSC-MN_swarrow_background_downstream200.bed -rna -len 4,5,6,7 -mset vertebrates -mis 1 -p 4\n",
      "\n",
      "/home/yeo-lab/software/homer/bin/findMotifsGenome.pl /projects/ps-yeolab/obotvinnik/singlecell_pnms/figure4_voayges/exon2_NPC-MN_nwarrow_downstream200.bed hg19 /projects/ps-yeolab/obotvinnik/singlecell_pnms/figure4_voayges/homer/exon2_NPC-MN_nwarrow_downstream200 -bg /projects/ps-yeolab/obotvinnik/singlecell_pnms/figure4_voayges/exon2_NPC-MN_nwarrow_background_downstream200.bed -rna -len 4,5,6,7 -mset vertebrates -mis 1 -p 4\n",
      "\n",
      "/home/yeo-lab/software/homer/bin/findMotifsGenome.pl /projects/ps-yeolab/obotvinnik/singlecell_pnms/figure4_voayges/exon2_iPSC-MN_nearrow_downstream200.bed hg19 /projects/ps-yeolab/obotvinnik/singlecell_pnms/figure4_voayges/homer/exon2_iPSC-MN_nearrow_downstream200 -bg /projects/ps-yeolab/obotvinnik/singlecell_pnms/figure4_voayges/exon2_iPSC-MN_nearrow_background_downstream200.bed -rna -len 4,5,6,7 -mset vertebrates -mis 1 -p 4\n",
      "\n",
      "/home/yeo-lab/software/homer/bin/findMotifsGenome.pl /projects/ps-yeolab/obotvinnik/singlecell_pnms/figure4_voayges/exon2_iPSC-MN_nearrow.bed hg19 /projects/ps-yeolab/obotvinnik/singlecell_pnms/figure4_voayges/homer/exon2_iPSC-MN_nearrow -bg /projects/ps-yeolab/obotvinnik/singlecell_pnms/figure4_voayges/exon2_iPSC-MN_nearrow_background.bed -rna -len 4,5,6,7 -mset vertebrates -mis 1 -p 4\n",
      "\n",
      "/home/yeo-lab/software/homer/bin/findMotifsGenome.pl /projects/ps-yeolab/obotvinnik/singlecell_pnms/figure4_voayges/exon2_iPSC-MN_swarrow.bed hg19 /projects/ps-yeolab/obotvinnik/singlecell_pnms/figure4_voayges/homer/exon2_iPSC-MN_swarrow -bg /projects/ps-yeolab/obotvinnik/singlecell_pnms/figure4_voayges/exon2_iPSC-MN_swarrow_background.bed -rna -len 4,5,6,7 -mset vertebrates -mis 1 -p 4\n",
      "\n",
      "/home/yeo-lab/software/homer/bin/findMotifsGenome.pl /projects/ps-yeolab/obotvinnik/singlecell_pnms/figure4_voayges/exon2_NPC-MN_searrow.bed hg19 /projects/ps-yeolab/obotvinnik/singlecell_pnms/figure4_voayges/homer/exon2_NPC-MN_searrow -bg /projects/ps-yeolab/obotvinnik/singlecell_pnms/figure4_voayges/exon2_NPC-MN_searrow_background.bed -rna -len 4,5,6,7 -mset vertebrates -mis 1 -p 4\n",
      "\n",
      "/home/yeo-lab/software/homer/bin/findMotifsGenome.pl /projects/ps-yeolab/obotvinnik/singlecell_pnms/figure4_voayges/exon2_NPC-MN_nwarrow.bed hg19 /projects/ps-yeolab/obotvinnik/singlecell_pnms/figure4_voayges/homer/exon2_NPC-MN_nwarrow -bg /projects/ps-yeolab/obotvinnik/singlecell_pnms/figure4_voayges/exon2_NPC-MN_nwarrow_background.bed -rna -len 4,5,6,7 -mset vertebrates -mis 1 -p 4\n",
      "\n",
      "/home/yeo-lab/software/homer/bin/findMotifsGenome.pl /projects/ps-yeolab/obotvinnik/singlecell_pnms/figure4_voayges/exon2_NPC-MN_swarrow.bed hg19 /projects/ps-yeolab/obotvinnik/singlecell_pnms/figure4_voayges/homer/exon2_NPC-MN_swarrow -bg /projects/ps-yeolab/obotvinnik/singlecell_pnms/figure4_voayges/exon2_NPC-MN_swarrow_background.bed -rna -len 4,5,6,7 -mset vertebrates -mis 1 -p 4\n",
      "\n",
      "/home/yeo-lab/software/homer/bin/findMotifsGenome.pl /projects/ps-yeolab/obotvinnik/singlecell_pnms/figure4_voayges/exon2_NPC-MN_nearrow.bed hg19 /projects/ps-yeolab/obotvinnik/singlecell_pnms/figure4_voayges/homer/exon2_NPC-MN_nearrow -bg /projects/ps-yeolab/obotvinnik/singlecell_pnms/figure4_voayges/exon2_NPC-MN_nearrow_background.bed -rna -len 4,5,6,7 -mset vertebrates -mis 1 -p 4\n",
      "\n",
      "/home/yeo-lab/software/homer/bin/findMotifsGenome.pl /projects/ps-yeolab/obotvinnik/singlecell_pnms/figure4_voayges/exon2_iPSC-MN_nwarrow.bed hg19 /projects/ps-yeolab/obotvinnik/singlecell_pnms/figure4_voayges/homer/exon2_iPSC-MN_nwarrow -bg /projects/ps-yeolab/obotvinnik/singlecell_pnms/figure4_voayges/exon2_iPSC-MN_nwarrow_background.bed -rna -len 4,5,6,7 -mset vertebrates -mis 1 -p 4\n",
      "\n",
      "/home/yeo-lab/software/homer/bin/findMotifsGenome.pl /projects/ps-yeolab/obotvinnik/singlecell_pnms/figure4_voayges/exon2_iPSC-MN_searrow.bed hg19 /projects/ps-yeolab/obotvinnik/singlecell_pnms/figure4_voayges/homer/exon2_iPSC-MN_searrow -bg /projects/ps-yeolab/obotvinnik/singlecell_pnms/figure4_voayges/exon2_iPSC-MN_searrow_background.bed -rna -len 4,5,6,7 -mset vertebrates -mis 1 -p 4\n",
      "\n",
      "/home/yeo-lab/software/homer/bin/findMotifsGenome.pl /projects/ps-yeolab/obotvinnik/singlecell_pnms/figure4_voayges/exon2_NPC-MN_swarrow_downstream200.bed hg19 /projects/ps-yeolab/obotvinnik/singlecell_pnms/figure4_voayges/homer/exon2_NPC-MN_swarrow_downstream200 -bg /projects/ps-yeolab/obotvinnik/singlecell_pnms/figure4_voayges/exon2_NPC-MN_swarrow_background_downstream200.bed -rna -len 4,5,6,7 -mset vertebrates -mis 1 -p 4\n",
      "\n",
      "/home/yeo-lab/software/homer/bin/findMotifsGenome.pl /projects/ps-yeolab/obotvinnik/singlecell_pnms/figure4_voayges/exon2_iPSC-MN_searrow_downstream200.bed hg19 /projects/ps-yeolab/obotvinnik/singlecell_pnms/figure4_voayges/homer/exon2_iPSC-MN_searrow_downstream200 -bg /projects/ps-yeolab/obotvinnik/singlecell_pnms/figure4_voayges/exon2_iPSC-MN_searrow_background_downstream200.bed -rna -len 4,5,6,7 -mset vertebrates -mis 1 -p 4\n",
      "\n",
      "/home/yeo-lab/software/homer/bin/findMotifsGenome.pl /projects/ps-yeolab/obotvinnik/singlecell_pnms/figure4_voayges/exon2_NPC-MN_nearrow_downstream200.bed hg19 /projects/ps-yeolab/obotvinnik/singlecell_pnms/figure4_voayges/homer/exon2_NPC-MN_nearrow_downstream200 -bg /projects/ps-yeolab/obotvinnik/singlecell_pnms/figure4_voayges/exon2_NPC-MN_nearrow_background_downstream200.bed -rna -len 4,5,6,7 -mset vertebrates -mis 1 -p 4\n",
      "\n",
      "/home/yeo-lab/software/homer/bin/findMotifsGenome.pl /projects/ps-yeolab/obotvinnik/singlecell_pnms/figure4_voayges/exon2_iPSC-MN_nwarrow_downstream200.bed hg19 /projects/ps-yeolab/obotvinnik/singlecell_pnms/figure4_voayges/homer/exon2_iPSC-MN_nwarrow_downstream200 -bg /projects/ps-yeolab/obotvinnik/singlecell_pnms/figure4_voayges/exon2_iPSC-MN_nwarrow_background_downstream200.bed -rna -len 4,5,6,7 -mset vertebrates -mis 1 -p 4\n",
      "\n",
      "/home/yeo-lab/software/homer/bin/findMotifsGenome.pl /projects/ps-yeolab/obotvinnik/singlecell_pnms/figure4_voayges/exon2_iPSC-NPC_searrow_downstream200.bed hg19 /projects/ps-yeolab/obotvinnik/singlecell_pnms/figure4_voayges/homer/exon2_iPSC-NPC_searrow_downstream200 -bg /projects/ps-yeolab/obotvinnik/singlecell_pnms/figure4_voayges/exon2_iPSC-NPC_searrow_background_downstream200.bed -rna -len 4,5,6,7 -mset vertebrates -mis 1 -p 4\n",
      "\n",
      "/home/yeo-lab/software/homer/bin/findMotifsGenome.pl /projects/ps-yeolab/obotvinnik/singlecell_pnms/figure4_voayges/exon2_iPSC-NPC_searrow.bed hg19 /projects/ps-yeolab/obotvinnik/singlecell_pnms/figure4_voayges/homer/exon2_iPSC-NPC_searrow -bg /projects/ps-yeolab/obotvinnik/singlecell_pnms/figure4_voayges/exon2_iPSC-NPC_searrow_background.bed -rna -len 4,5,6,7 -mset vertebrates -mis 1 -p 4\n",
      "\n",
      "/home/yeo-lab/software/homer/bin/findMotifsGenome.pl /projects/ps-yeolab/obotvinnik/singlecell_pnms/figure4_voayges/exon2_iPSC-NPC_nwarrow.bed hg19 /projects/ps-yeolab/obotvinnik/singlecell_pnms/figure4_voayges/homer/exon2_iPSC-NPC_nwarrow -bg /projects/ps-yeolab/obotvinnik/singlecell_pnms/figure4_voayges/exon2_iPSC-NPC_nwarrow_background.bed -rna -len 4,5,6,7 -mset vertebrates -mis 1 -p 4\n",
      "\n",
      "/home/yeo-lab/software/homer/bin/findMotifsGenome.pl /projects/ps-yeolab/obotvinnik/singlecell_pnms/figure4_voayges/exon2_iPSC-NPC_nwarrow_downstream200.bed hg19 /projects/ps-yeolab/obotvinnik/singlecell_pnms/figure4_voayges/homer/exon2_iPSC-NPC_nwarrow_downstream200 -bg /projects/ps-yeolab/obotvinnik/singlecell_pnms/figure4_voayges/exon2_iPSC-NPC_nwarrow_background_downstream200.bed -rna -len 4,5,6,7 -mset vertebrates -mis 1 -p 4\n"
     ]
    }
   ],
   "source": [
    "\n",
    "import os\n",
    "import fileinput\n",
    "\n",
    "from gscripts.qtools import Submitter\n",
    "import glob\n",
    "import itertools\n",
    "\n",
    "findMotifsGenome = '/home/yeo-lab/software/homer/bin/findMotifsGenome.pl'\n",
    "n_processors = 4\n",
    "homer_flags = '-rna -len 4,5,6,7 -mset vertebrates -mis 1 -p {}'.format(n_processors)\n",
    "\n",
    "commands = []\n",
    "\n",
    "\n",
    "for bedfile in glob.iglob('{}/exon2*.bed'.format(bed_folder)):\n",
    "    \n",
    "    basename = os.path.basename(bedfile)\n",
    "    if 'background' in basename:\n",
    "        continue\n",
    "    \n",
    "    prefix = basename.split('.')[0]\n",
    "    transition = prefix.split('_')[1]\n",
    "    direction = prefix.split('_')[2]\n",
    "#     print modality\n",
    "    \n",
    "    background = bedfile.replace(direction, direction + '_background')\n",
    "    \n",
    "    out_dir = '{}/{}'.format(homer_dir, basename.replace('.bed', ''))\n",
    "    if os.path.exists('{}/homerResults.html'):\n",
    "        print 'Already finished {}, moving on'.format(basename)\n",
    "        continue\n",
    "    command = '{} {} hg19 {} -bg {} {}'.format(\n",
    "        findMotifsGenome, bedfile, out_dir, background, homer_flags)\n",
    "    print '\\n', command\n",
    "    commands.append(command)\n",
    "#     ! $command\n",
    "jobname = 'homer'\n",
    "sub = Submitter(commands, jobname, walltime='1:00:00', queue='home-scrm',\n",
    "               ppn=n_processors, write_and_submit=True, array=True,\n",
    "               out_filename='{}/{}.out'.format(homer_dir, jobname),\n",
    "               err_filename='{}/{}.err'.format(homer_dir, jobname),)"
   ]
  },
  {
   "cell_type": "code",
   "execution_count": 20,
   "metadata": {
    "collapsed": false
   },
   "outputs": [
    {
     "data": {
      "text/plain": [
       "'exon2_iPSC-NPC_nwarrow_downstream200'"
      ]
     },
     "execution_count": 20,
     "metadata": {},
     "output_type": "execute_result"
    }
   ],
   "source": [
    "prefix"
   ]
  },
  {
   "cell_type": "code",
   "execution_count": null,
   "metadata": {
    "collapsed": true
   },
   "outputs": [],
   "source": []
  }
 ],
 "metadata": {
  "kernelspec": {
   "display_name": "Python 2",
   "language": "python",
   "name": "python2"
  },
  "language_info": {
   "codemirror_mode": {
    "name": "ipython",
    "version": 2
   },
   "file_extension": ".py",
   "mimetype": "text/x-python",
   "name": "python",
   "nbconvert_exporter": "python",
   "pygments_lexer": "ipython2",
   "version": "2.7.10"
  }
 },
 "nbformat": 4,
 "nbformat_minor": 0
}
