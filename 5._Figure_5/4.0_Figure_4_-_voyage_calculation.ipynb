{
 "cells": [
  {
   "cell_type": "code",
   "execution_count": 1,
   "metadata": {
    "collapsed": false
   },
   "outputs": [
    {
     "name": "stdout",
     "output_type": "stream",
     "text": [
      "mkdir: cannot create directory `/home/obotvinnik/Dropbox/figures2/singlecell_pnm/figure4_voyages/': File exists\r\n"
     ]
    }
   ],
   "source": [
    "mkdir /home/obotvinnik/Dropbox/figures2/singlecell_pnm/figure4_voyages/"
   ]
  },
  {
   "cell_type": "code",
   "execution_count": 2,
   "metadata": {
    "collapsed": false
   },
   "outputs": [
    {
     "name": "stderr",
     "output_type": "stream",
     "text": [
      "/home/obotvinnik/anaconda/lib/python2.7/site-packages/matplotlib/__init__.py:810: UserWarning: Found matplotlib configuration in ~/.matplotlib/. To conform with the XDG base directory standard, this configuration location has been deprecated on Linux, and the new location is now /home/obotvinnik/.config/matplotlib/. Please move your configuration there to ensure that matplotlib will continue to find it in the future.\n",
      "  _get_xdg_config_dir())\n",
      "/home/obotvinnik/anaconda/lib/python2.7/site-packages/flotilla/__init__.py:55: DtypeWarning: Columns (11,19,20) have mixed types. Specify dtype option on import or set low_memory=False.\n",
      "  load_species_data=load_species_data)\n"
     ]
    },
    {
     "name": "stdout",
     "output_type": "stream",
     "text": [
      "2016-02-22 16:50:50\tReading datapackage from /projects/ps-yeolab/obotvinnik/flotilla_projects/singlecell_pnm_figure2_modalities_bayesian/datapackage.json\n",
      "2016-02-22 16:50:50\tParsing datapackage to create a Study object\n",
      "2016-02-22 16:51:28\tInitializing Study\n",
      "2016-02-22 16:51:28\tInitializing Predictor configuration manager for Study\n",
      "2016-02-22 16:51:28\tPredictor ExtraTreesClassifier is of type <class 'sklearn.ensemble.forest.ExtraTreesClassifier'>\n",
      "2016-02-22 16:51:28\tAdded ExtraTreesClassifier to default predictors\n",
      "2016-02-22 16:51:28\tPredictor ExtraTreesRegressor is of type <class 'sklearn.ensemble.forest.ExtraTreesRegressor'>\n",
      "2016-02-22 16:51:28\tAdded ExtraTreesRegressor to default predictors\n",
      "2016-02-22 16:51:28\tPredictor GradientBoostingClassifier is of type <class 'sklearn.ensemble.gradient_boosting.GradientBoostingClassifier'>\n",
      "2016-02-22 16:51:28\tAdded GradientBoostingClassifier to default predictors\n",
      "2016-02-22 16:51:28\tPredictor GradientBoostingRegressor is of type <class 'sklearn.ensemble.gradient_boosting.GradientBoostingRegressor'>\n",
      "2016-02-22 16:51:28\tAdded GradientBoostingRegressor to default predictors\n",
      "2016-02-22 16:51:32\tBuilding Gene Ontology database...\n",
      "2016-02-22 16:51:39\t\tDone.\n",
      "2016-02-22 16:51:39\tLoading metadata\n",
      "2016-02-22 16:51:39\tLoading expression data\n",
      "2016-02-22 16:51:39\tInitializing expression\n",
      "2016-02-22 16:51:39\tDone initializing expression\n",
      "2016-02-22 16:51:41\tLoading splicing data\n",
      "2016-02-22 16:51:41\tInitializing splicing\n",
      "2016-02-22 16:51:41\tDone initializing splicing\n",
      "2016-02-22 16:51:41\tSuccessfully initialized a Study object!\n"
     ]
    }
   ],
   "source": [
    "import matplotlib.pyplot as plt\n",
    "import seaborn as sns\n",
    "import numpy as np\n",
    "import pandas as pd\n",
    "\n",
    "from anchor.visualize import MODALITY_TO_COLOR, MODALITY_ORDER, MODALITY_PALETTE\n",
    "modality_order = MODALITY_ORDER\n",
    "\n",
    "sns.set(style='ticks', context='talk', rc={'font.sans-serif':'Arial', 'pdf.fonttype': 42})\n",
    "\n",
    "%matplotlib inline\n",
    "\n",
    "%load_ext autoreload\n",
    "%autoreload 2\n",
    "\n",
    "folder = '/home/obotvinnik/Dropbox/figures2/singlecell_pnm/figure4_voyages'\n",
    "\n",
    "import flotilla\n",
    "study = flotilla.embark('singlecell_pnm_figure2_modalities_bayesian', \n",
    "                        flotilla_dir='/projects/ps-yeolab/obotvinnik/flotilla_projects/')\n",
    "# study = flotilla.embark('singlecell_pnm_figure1_supplementary_post_splicing_filtering')"
   ]
  },
  {
   "cell_type": "code",
   "execution_count": 3,
   "metadata": {
    "collapsed": false
   },
   "outputs": [
    {
     "data": {
      "text/plain": [
       "False"
      ]
     },
     "execution_count": 3,
     "metadata": {},
     "output_type": "execute_result"
    }
   ],
   "source": [
    "event = 'exon:chr10:1043148-1043248:+@exon:chr10:1044943-1045035:+@exon:chr10:1046617-1046808:+'\n",
    "\n",
    "event in study.splicing.data"
   ]
  },
  {
   "cell_type": "code",
   "execution_count": 4,
   "metadata": {
    "collapsed": false
   },
   "outputs": [
    {
     "data": {
      "text/plain": [
       "phenotype  modality  \n",
       "MN         ambivalent       1\n",
       "           bimodal        356\n",
       "           excluded       541\n",
       "           included      1553\n",
       "NPC        ambivalent       3\n",
       "           bimodal        751\n",
       "           excluded      1049\n",
       "           included      3029\n",
       "iPSC       ambivalent      31\n",
       "           bimodal       1348\n",
       "           concurrent       1\n",
       "           excluded      1558\n",
       "           included      4632\n",
       "dtype: int64"
      ]
     },
     "execution_count": 4,
     "metadata": {},
     "output_type": "execute_result"
    }
   ],
   "source": [
    "study.supplemental.modalities_tidy.groupby(['phenotype', 'modality']).size()"
   ]
  },
  {
   "cell_type": "code",
   "execution_count": 5,
   "metadata": {
    "collapsed": true
   },
   "outputs": [],
   "source": [
    "not_outliers = study.splicing.singles.index.difference(study.splicing.outliers.index)\n",
    "\n",
    "psi = study.splicing.singles.ix[not_outliers]\n",
    "grouped = psi.groupby(study.sample_id_to_phenotype)\n",
    "psi_filtered = grouped.apply(lambda x: x.dropna(axis=1, thresh=20))"
   ]
  },
  {
   "cell_type": "code",
   "execution_count": 6,
   "metadata": {
    "collapsed": false
   },
   "outputs": [
    {
     "data": {
      "text/html": [
       "<div>\n",
       "<table border=\"1\" class=\"dataframe\">\n",
       "  <thead>\n",
       "    <tr style=\"text-align: right;\">\n",
       "      <th></th>\n",
       "      <th>exon:chr10:101165513-101165617:-@exon:chr10:101163481-101163631:-@exon:chr10:101163226-101163391:-</th>\n",
       "      <th>exon:chr10:101480744-101480825:-@exon:chr10:101478103-101478257:-@exon:chr10:101476105-101476218:-</th>\n",
       "      <th>exon:chr10:101507014-101507147:+@exon:chr10:101510126-101510153:+@exon:chr10:101514286-101514391:+</th>\n",
       "      <th>exon:chr10:101997779-101997988:-@exon:chr10:101996607-101996726:-@exon:chr10:101995424-101995521:-</th>\n",
       "      <th>exon:chr10:102003455-102003534:-@exon:chr10:101997779-101997988:-@exon:chr10:101996607-101996726:-</th>\n",
       "      <th>exon:chr10:102013178-102013296:-@exon:chr10:102010005-102010089:-@exon:chr10:102006552-102006692:-</th>\n",
       "      <th>exon:chr10:102019975-102020076:-@exon:chr10:102016019-102016233:-@exon:chr10:102013178-102013296:-</th>\n",
       "      <th>exon:chr10:102020723-102020801:-@exon:chr10:102019975-102020076:-@exon:chr10:102016019-102016233:-</th>\n",
       "      <th>exon:chr10:102114184-102114389:+@exon:chr10:102116289-102116521:+@exon:chr10:102120491-102124591:+</th>\n",
       "      <th>exon:chr10:102286732-102286831:-@exon:chr10:102286156-102286311:-@exon:chr10:102283500-102283686:-</th>\n",
       "      <th>...</th>\n",
       "      <th>exon:chrY:15024875-15024974:+@exon:chrY:15025630-15025765:+@exon:chrY:15026476-15026561:+</th>\n",
       "      <th>exon:chrY:15026476-15026561:+@exon:chrY:15026796-15026894:+@exon:chrY:15026979-15027139:+</th>\n",
       "      <th>exon:chrY:15027542-15027686:+@exon:chrY:15027795-15027939:+@exon:chrY:15028173-15028354:+</th>\n",
       "      <th>exon:chrY:15028429-15028546:+@exon:chrY:15028819-15028972:+@exon:chrY:15029315-15029454:+</th>\n",
       "      <th>exon:chrY:22744476-22744579:+@exon:chrY:22746360-22746410:+@exon:chrY:22749910-22749991:+</th>\n",
       "      <th>exon:chrY:2709527-2709668:+@exon:chrY:2710206-2710283:+@exon:chrY:2712118-2712298:+</th>\n",
       "      <th>exon:chrY:2710206-2710283:+@exon:chrY:2712118-2712298:+@exon:chrY:2713687-2713784:+</th>\n",
       "      <th>exon:chrY:2712118-2712298:+@exon:chrY:2713687-2713784:+@exon:chrY:2722641-2722812:+</th>\n",
       "      <th>exon:chrY:2713687-2713784:+@exon:chrY:2722641-2722812:+@exon:chrY:2733129-2733286:+</th>\n",
       "      <th>exon:chrY:2722641-2722812:+@exon:chrY:2733129-2733286:+@exon:chrY:2734834-2734903:+</th>\n",
       "    </tr>\n",
       "  </thead>\n",
       "  <tbody>\n",
       "    <tr>\n",
       "      <th>CVN_01</th>\n",
       "      <td>NaN</td>\n",
       "      <td>NaN</td>\n",
       "      <td>NaN</td>\n",
       "      <td>NaN</td>\n",
       "      <td>NaN</td>\n",
       "      <td>NaN</td>\n",
       "      <td>NaN</td>\n",
       "      <td>NaN</td>\n",
       "      <td>1</td>\n",
       "      <td>1</td>\n",
       "      <td>...</td>\n",
       "      <td>NaN</td>\n",
       "      <td>NaN</td>\n",
       "      <td>NaN</td>\n",
       "      <td>NaN</td>\n",
       "      <td>NaN</td>\n",
       "      <td>1</td>\n",
       "      <td>1</td>\n",
       "      <td>1</td>\n",
       "      <td>1</td>\n",
       "      <td>1</td>\n",
       "    </tr>\n",
       "    <tr>\n",
       "      <th>CVN_02</th>\n",
       "      <td>NaN</td>\n",
       "      <td>NaN</td>\n",
       "      <td>NaN</td>\n",
       "      <td>NaN</td>\n",
       "      <td>NaN</td>\n",
       "      <td>NaN</td>\n",
       "      <td>NaN</td>\n",
       "      <td>NaN</td>\n",
       "      <td>1</td>\n",
       "      <td>1</td>\n",
       "      <td>...</td>\n",
       "      <td>NaN</td>\n",
       "      <td>NaN</td>\n",
       "      <td>NaN</td>\n",
       "      <td>NaN</td>\n",
       "      <td>1</td>\n",
       "      <td>NaN</td>\n",
       "      <td>NaN</td>\n",
       "      <td>NaN</td>\n",
       "      <td>NaN</td>\n",
       "      <td>NaN</td>\n",
       "    </tr>\n",
       "    <tr>\n",
       "      <th>CVN_03</th>\n",
       "      <td>NaN</td>\n",
       "      <td>NaN</td>\n",
       "      <td>NaN</td>\n",
       "      <td>NaN</td>\n",
       "      <td>NaN</td>\n",
       "      <td>NaN</td>\n",
       "      <td>NaN</td>\n",
       "      <td>NaN</td>\n",
       "      <td>1</td>\n",
       "      <td>1</td>\n",
       "      <td>...</td>\n",
       "      <td>NaN</td>\n",
       "      <td>NaN</td>\n",
       "      <td>NaN</td>\n",
       "      <td>NaN</td>\n",
       "      <td>1</td>\n",
       "      <td>NaN</td>\n",
       "      <td>NaN</td>\n",
       "      <td>NaN</td>\n",
       "      <td>NaN</td>\n",
       "      <td>NaN</td>\n",
       "    </tr>\n",
       "    <tr>\n",
       "      <th>CVN_04</th>\n",
       "      <td>NaN</td>\n",
       "      <td>NaN</td>\n",
       "      <td>NaN</td>\n",
       "      <td>NaN</td>\n",
       "      <td>NaN</td>\n",
       "      <td>NaN</td>\n",
       "      <td>NaN</td>\n",
       "      <td>NaN</td>\n",
       "      <td>1</td>\n",
       "      <td>1</td>\n",
       "      <td>...</td>\n",
       "      <td>NaN</td>\n",
       "      <td>NaN</td>\n",
       "      <td>NaN</td>\n",
       "      <td>NaN</td>\n",
       "      <td>NaN</td>\n",
       "      <td>1</td>\n",
       "      <td>1</td>\n",
       "      <td>1</td>\n",
       "      <td>1</td>\n",
       "      <td>1</td>\n",
       "    </tr>\n",
       "    <tr>\n",
       "      <th>CVN_05</th>\n",
       "      <td>NaN</td>\n",
       "      <td>NaN</td>\n",
       "      <td>NaN</td>\n",
       "      <td>NaN</td>\n",
       "      <td>NaN</td>\n",
       "      <td>NaN</td>\n",
       "      <td>NaN</td>\n",
       "      <td>NaN</td>\n",
       "      <td>1</td>\n",
       "      <td>1</td>\n",
       "      <td>...</td>\n",
       "      <td>NaN</td>\n",
       "      <td>NaN</td>\n",
       "      <td>NaN</td>\n",
       "      <td>NaN</td>\n",
       "      <td>1</td>\n",
       "      <td>1</td>\n",
       "      <td>1</td>\n",
       "      <td>1</td>\n",
       "      <td>1</td>\n",
       "      <td>1</td>\n",
       "    </tr>\n",
       "  </tbody>\n",
       "</table>\n",
       "<p>5 rows × 8028 columns</p>\n",
       "</div>"
      ],
      "text/plain": [
       "        exon:chr10:101165513-101165617:-@exon:chr10:101163481-101163631:-@exon:chr10:101163226-101163391:-  \\\n",
       "CVN_01                                                NaN                                                    \n",
       "CVN_02                                                NaN                                                    \n",
       "CVN_03                                                NaN                                                    \n",
       "CVN_04                                                NaN                                                    \n",
       "CVN_05                                                NaN                                                    \n",
       "\n",
       "        exon:chr10:101480744-101480825:-@exon:chr10:101478103-101478257:-@exon:chr10:101476105-101476218:-  \\\n",
       "CVN_01                                                NaN                                                    \n",
       "CVN_02                                                NaN                                                    \n",
       "CVN_03                                                NaN                                                    \n",
       "CVN_04                                                NaN                                                    \n",
       "CVN_05                                                NaN                                                    \n",
       "\n",
       "        exon:chr10:101507014-101507147:+@exon:chr10:101510126-101510153:+@exon:chr10:101514286-101514391:+  \\\n",
       "CVN_01                                                NaN                                                    \n",
       "CVN_02                                                NaN                                                    \n",
       "CVN_03                                                NaN                                                    \n",
       "CVN_04                                                NaN                                                    \n",
       "CVN_05                                                NaN                                                    \n",
       "\n",
       "        exon:chr10:101997779-101997988:-@exon:chr10:101996607-101996726:-@exon:chr10:101995424-101995521:-  \\\n",
       "CVN_01                                                NaN                                                    \n",
       "CVN_02                                                NaN                                                    \n",
       "CVN_03                                                NaN                                                    \n",
       "CVN_04                                                NaN                                                    \n",
       "CVN_05                                                NaN                                                    \n",
       "\n",
       "        exon:chr10:102003455-102003534:-@exon:chr10:101997779-101997988:-@exon:chr10:101996607-101996726:-  \\\n",
       "CVN_01                                                NaN                                                    \n",
       "CVN_02                                                NaN                                                    \n",
       "CVN_03                                                NaN                                                    \n",
       "CVN_04                                                NaN                                                    \n",
       "CVN_05                                                NaN                                                    \n",
       "\n",
       "        exon:chr10:102013178-102013296:-@exon:chr10:102010005-102010089:-@exon:chr10:102006552-102006692:-  \\\n",
       "CVN_01                                                NaN                                                    \n",
       "CVN_02                                                NaN                                                    \n",
       "CVN_03                                                NaN                                                    \n",
       "CVN_04                                                NaN                                                    \n",
       "CVN_05                                                NaN                                                    \n",
       "\n",
       "        exon:chr10:102019975-102020076:-@exon:chr10:102016019-102016233:-@exon:chr10:102013178-102013296:-  \\\n",
       "CVN_01                                                NaN                                                    \n",
       "CVN_02                                                NaN                                                    \n",
       "CVN_03                                                NaN                                                    \n",
       "CVN_04                                                NaN                                                    \n",
       "CVN_05                                                NaN                                                    \n",
       "\n",
       "        exon:chr10:102020723-102020801:-@exon:chr10:102019975-102020076:-@exon:chr10:102016019-102016233:-  \\\n",
       "CVN_01                                                NaN                                                    \n",
       "CVN_02                                                NaN                                                    \n",
       "CVN_03                                                NaN                                                    \n",
       "CVN_04                                                NaN                                                    \n",
       "CVN_05                                                NaN                                                    \n",
       "\n",
       "        exon:chr10:102114184-102114389:+@exon:chr10:102116289-102116521:+@exon:chr10:102120491-102124591:+  \\\n",
       "CVN_01                                                  1                                                    \n",
       "CVN_02                                                  1                                                    \n",
       "CVN_03                                                  1                                                    \n",
       "CVN_04                                                  1                                                    \n",
       "CVN_05                                                  1                                                    \n",
       "\n",
       "        exon:chr10:102286732-102286831:-@exon:chr10:102286156-102286311:-@exon:chr10:102283500-102283686:-  \\\n",
       "CVN_01                                                  1                                                    \n",
       "CVN_02                                                  1                                                    \n",
       "CVN_03                                                  1                                                    \n",
       "CVN_04                                                  1                                                    \n",
       "CVN_05                                                  1                                                    \n",
       "\n",
       "                                               ...                                           \\\n",
       "CVN_01                                         ...                                            \n",
       "CVN_02                                         ...                                            \n",
       "CVN_03                                         ...                                            \n",
       "CVN_04                                         ...                                            \n",
       "CVN_05                                         ...                                            \n",
       "\n",
       "        exon:chrY:15024875-15024974:+@exon:chrY:15025630-15025765:+@exon:chrY:15026476-15026561:+  \\\n",
       "CVN_01                                                NaN                                           \n",
       "CVN_02                                                NaN                                           \n",
       "CVN_03                                                NaN                                           \n",
       "CVN_04                                                NaN                                           \n",
       "CVN_05                                                NaN                                           \n",
       "\n",
       "        exon:chrY:15026476-15026561:+@exon:chrY:15026796-15026894:+@exon:chrY:15026979-15027139:+  \\\n",
       "CVN_01                                                NaN                                           \n",
       "CVN_02                                                NaN                                           \n",
       "CVN_03                                                NaN                                           \n",
       "CVN_04                                                NaN                                           \n",
       "CVN_05                                                NaN                                           \n",
       "\n",
       "        exon:chrY:15027542-15027686:+@exon:chrY:15027795-15027939:+@exon:chrY:15028173-15028354:+  \\\n",
       "CVN_01                                                NaN                                           \n",
       "CVN_02                                                NaN                                           \n",
       "CVN_03                                                NaN                                           \n",
       "CVN_04                                                NaN                                           \n",
       "CVN_05                                                NaN                                           \n",
       "\n",
       "        exon:chrY:15028429-15028546:+@exon:chrY:15028819-15028972:+@exon:chrY:15029315-15029454:+  \\\n",
       "CVN_01                                                NaN                                           \n",
       "CVN_02                                                NaN                                           \n",
       "CVN_03                                                NaN                                           \n",
       "CVN_04                                                NaN                                           \n",
       "CVN_05                                                NaN                                           \n",
       "\n",
       "        exon:chrY:22744476-22744579:+@exon:chrY:22746360-22746410:+@exon:chrY:22749910-22749991:+  \\\n",
       "CVN_01                                                NaN                                           \n",
       "CVN_02                                                  1                                           \n",
       "CVN_03                                                  1                                           \n",
       "CVN_04                                                NaN                                           \n",
       "CVN_05                                                  1                                           \n",
       "\n",
       "        exon:chrY:2709527-2709668:+@exon:chrY:2710206-2710283:+@exon:chrY:2712118-2712298:+  \\\n",
       "CVN_01                                                  1                                     \n",
       "CVN_02                                                NaN                                     \n",
       "CVN_03                                                NaN                                     \n",
       "CVN_04                                                  1                                     \n",
       "CVN_05                                                  1                                     \n",
       "\n",
       "        exon:chrY:2710206-2710283:+@exon:chrY:2712118-2712298:+@exon:chrY:2713687-2713784:+  \\\n",
       "CVN_01                                                  1                                     \n",
       "CVN_02                                                NaN                                     \n",
       "CVN_03                                                NaN                                     \n",
       "CVN_04                                                  1                                     \n",
       "CVN_05                                                  1                                     \n",
       "\n",
       "        exon:chrY:2712118-2712298:+@exon:chrY:2713687-2713784:+@exon:chrY:2722641-2722812:+  \\\n",
       "CVN_01                                                  1                                     \n",
       "CVN_02                                                NaN                                     \n",
       "CVN_03                                                NaN                                     \n",
       "CVN_04                                                  1                                     \n",
       "CVN_05                                                  1                                     \n",
       "\n",
       "        exon:chrY:2713687-2713784:+@exon:chrY:2722641-2722812:+@exon:chrY:2733129-2733286:+  \\\n",
       "CVN_01                                                  1                                     \n",
       "CVN_02                                                NaN                                     \n",
       "CVN_03                                                NaN                                     \n",
       "CVN_04                                                  1                                     \n",
       "CVN_05                                                  1                                     \n",
       "\n",
       "        exon:chrY:2722641-2722812:+@exon:chrY:2733129-2733286:+@exon:chrY:2734834-2734903:+  \n",
       "CVN_01                                                  1                                    \n",
       "CVN_02                                                NaN                                    \n",
       "CVN_03                                                NaN                                    \n",
       "CVN_04                                                  1                                    \n",
       "CVN_05                                                  1                                    \n",
       "\n",
       "[5 rows x 8028 columns]"
      ]
     },
     "execution_count": 6,
     "metadata": {},
     "output_type": "execute_result"
    }
   ],
   "source": [
    "psi_filtered.head()"
   ]
  },
  {
   "cell_type": "markdown",
   "metadata": {},
   "source": [
    "## Calculate *voyage* space via `bon voyage`"
   ]
  },
  {
   "cell_type": "code",
   "execution_count": 7,
   "metadata": {
    "collapsed": false
   },
   "outputs": [],
   "source": [
    "from astrolabe import Waypoints"
   ]
  },
  {
   "cell_type": "code",
   "execution_count": 8,
   "metadata": {
    "collapsed": false
   },
   "outputs": [],
   "source": [
    "ws = Waypoints()\n",
    "\n",
    "waypoints = psi_filtered.groupby(study.sample_id_to_phenotype).apply(\n",
    "    lambda x: ws.fit_transform(x.dropna(how='all', axis=1)))"
   ]
  },
  {
   "cell_type": "code",
   "execution_count": 9,
   "metadata": {
    "collapsed": false
   },
   "outputs": [
    {
     "data": {
      "text/plain": [
       "0    1\n",
       "1    1\n",
       "dtype: float64"
      ]
     },
     "execution_count": 9,
     "metadata": {},
     "output_type": "execute_result"
    }
   ],
   "source": [
    "waypoints.max()"
   ]
  },
  {
   "cell_type": "code",
   "execution_count": 10,
   "metadata": {
    "collapsed": false
   },
   "outputs": [
    {
     "data": {
      "text/plain": [
       "0    0.840892\n",
       "1    0.999989\n",
       "dtype: float64"
      ]
     },
     "execution_count": 10,
     "metadata": {},
     "output_type": "execute_result"
    }
   ],
   "source": [
    "pd.DataFrame(ws.seed_data_transformed).max()"
   ]
  },
  {
   "cell_type": "code",
   "execution_count": 11,
   "metadata": {
    "collapsed": false
   },
   "outputs": [
    {
     "data": {
      "text/plain": [
       "[(u'iPSC', u'NPC'), (u'NPC', u'MN'), ('iPSC', 'MN')]"
      ]
     },
     "execution_count": 11,
     "metadata": {},
     "output_type": "execute_result"
    }
   ],
   "source": [
    "transitions = study.phenotype_transitions + [('iPSC', 'MN')]\n",
    "transitions"
   ]
  },
  {
   "cell_type": "code",
   "execution_count": 12,
   "metadata": {
    "collapsed": false
   },
   "outputs": [],
   "source": [
    "from astrolabe.voyages import Voyages"
   ]
  },
  {
   "cell_type": "code",
   "execution_count": 13,
   "metadata": {
    "collapsed": false
   },
   "outputs": [
    {
     "data": {
      "text/html": [
       "<div>\n",
       "<table border=\"1\" class=\"dataframe\">\n",
       "  <thead>\n",
       "    <tr style=\"text-align: right;\">\n",
       "      <th></th>\n",
       "      <th>event_id</th>\n",
       "      <th>$\\Delta x$</th>\n",
       "      <th>$\\Delta y$</th>\n",
       "      <th>magnitude</th>\n",
       "      <th>group1</th>\n",
       "      <th>group2</th>\n",
       "      <th>direction</th>\n",
       "      <th>transition</th>\n",
       "    </tr>\n",
       "  </thead>\n",
       "  <tbody>\n",
       "    <tr>\n",
       "      <th>0</th>\n",
       "      <td>exon:chr10:102114184-102114389:+@exon:chr10:10...</td>\n",
       "      <td>0.052632</td>\n",
       "      <td>-0.053237</td>\n",
       "      <td>0.074861</td>\n",
       "      <td>iPSC</td>\n",
       "      <td>NPC</td>\n",
       "      <td>$\\searrow$</td>\n",
       "      <td>iPSC-NPC</td>\n",
       "    </tr>\n",
       "    <tr>\n",
       "      <th>1</th>\n",
       "      <td>exon:chr10:102286732-102286831:-@exon:chr10:10...</td>\n",
       "      <td>0.000000</td>\n",
       "      <td>0.000000</td>\n",
       "      <td>0.000000</td>\n",
       "      <td>iPSC</td>\n",
       "      <td>NPC</td>\n",
       "      <td>NaN</td>\n",
       "      <td>iPSC-NPC</td>\n",
       "    </tr>\n",
       "    <tr>\n",
       "      <th>2</th>\n",
       "      <td>exon:chr10:102747070-102747240:-@exon:chr10:10...</td>\n",
       "      <td>-0.027778</td>\n",
       "      <td>0.027778</td>\n",
       "      <td>0.039284</td>\n",
       "      <td>iPSC</td>\n",
       "      <td>NPC</td>\n",
       "      <td>$\\nwarrow$</td>\n",
       "      <td>iPSC-NPC</td>\n",
       "    </tr>\n",
       "    <tr>\n",
       "      <th>3</th>\n",
       "      <td>exon:chr10:103348082-103348157:+@exon:chr10:10...</td>\n",
       "      <td>0.000000</td>\n",
       "      <td>-0.028571</td>\n",
       "      <td>0.028571</td>\n",
       "      <td>iPSC</td>\n",
       "      <td>NPC</td>\n",
       "      <td>$\\swarrow$</td>\n",
       "      <td>iPSC-NPC</td>\n",
       "    </tr>\n",
       "    <tr>\n",
       "      <th>4</th>\n",
       "      <td>exon:chr10:103360960-103361093:+@exon:chr10:10...</td>\n",
       "      <td>-0.056306</td>\n",
       "      <td>0.055556</td>\n",
       "      <td>0.079100</td>\n",
       "      <td>iPSC</td>\n",
       "      <td>NPC</td>\n",
       "      <td>$\\nwarrow$</td>\n",
       "      <td>iPSC-NPC</td>\n",
       "    </tr>\n",
       "  </tbody>\n",
       "</table>\n",
       "</div>"
      ],
      "text/plain": [
       "                                            event_id  $\\Delta x$  $\\Delta y$  \\\n",
       "0  exon:chr10:102114184-102114389:+@exon:chr10:10...    0.052632   -0.053237   \n",
       "1  exon:chr10:102286732-102286831:-@exon:chr10:10...    0.000000    0.000000   \n",
       "2  exon:chr10:102747070-102747240:-@exon:chr10:10...   -0.027778    0.027778   \n",
       "3  exon:chr10:103348082-103348157:+@exon:chr10:10...    0.000000   -0.028571   \n",
       "4  exon:chr10:103360960-103361093:+@exon:chr10:10...   -0.056306    0.055556   \n",
       "\n",
       "   magnitude group1 group2   direction transition  \n",
       "0   0.074861   iPSC    NPC  $\\searrow$   iPSC-NPC  \n",
       "1   0.000000   iPSC    NPC         NaN   iPSC-NPC  \n",
       "2   0.039284   iPSC    NPC  $\\nwarrow$   iPSC-NPC  \n",
       "3   0.028571   iPSC    NPC  $\\swarrow$   iPSC-NPC  \n",
       "4   0.079100   iPSC    NPC  $\\nwarrow$   iPSC-NPC  "
      ]
     },
     "execution_count": 13,
     "metadata": {},
     "output_type": "execute_result"
    }
   ],
   "source": [
    "v = Voyages()\n",
    "\n",
    "voyages = v.voyages(waypoints, transitions)\n",
    "voyages.head()"
   ]
  },
  {
   "cell_type": "code",
   "execution_count": 14,
   "metadata": {
    "collapsed": false
   },
   "outputs": [
    {
     "data": {
      "text/html": [
       "<div>\n",
       "<table border=\"1\" class=\"dataframe\">\n",
       "  <thead>\n",
       "    <tr style=\"text-align: right;\">\n",
       "      <th></th>\n",
       "      <th>event_id</th>\n",
       "      <th>$\\Delta x$</th>\n",
       "      <th>$\\Delta y$</th>\n",
       "      <th>magnitude</th>\n",
       "      <th>group1</th>\n",
       "      <th>group2</th>\n",
       "      <th>direction</th>\n",
       "      <th>transition</th>\n",
       "    </tr>\n",
       "  </thead>\n",
       "  <tbody>\n",
       "    <tr>\n",
       "      <th>0</th>\n",
       "      <td>exon:chr10:102114184-102114389:+@exon:chr10:10...</td>\n",
       "      <td>0.052632</td>\n",
       "      <td>-0.053237</td>\n",
       "      <td>0.074861</td>\n",
       "      <td>iPSC</td>\n",
       "      <td>NPC</td>\n",
       "      <td>$\\searrow$</td>\n",
       "      <td>iPSC-NPC</td>\n",
       "    </tr>\n",
       "    <tr>\n",
       "      <th>1</th>\n",
       "      <td>exon:chr10:102286732-102286831:-@exon:chr10:10...</td>\n",
       "      <td>0.000000</td>\n",
       "      <td>0.000000</td>\n",
       "      <td>0.000000</td>\n",
       "      <td>iPSC</td>\n",
       "      <td>NPC</td>\n",
       "      <td>NaN</td>\n",
       "      <td>iPSC-NPC</td>\n",
       "    </tr>\n",
       "    <tr>\n",
       "      <th>2</th>\n",
       "      <td>exon:chr10:102747070-102747240:-@exon:chr10:10...</td>\n",
       "      <td>-0.027778</td>\n",
       "      <td>0.027778</td>\n",
       "      <td>0.039284</td>\n",
       "      <td>iPSC</td>\n",
       "      <td>NPC</td>\n",
       "      <td>$\\nwarrow$</td>\n",
       "      <td>iPSC-NPC</td>\n",
       "    </tr>\n",
       "    <tr>\n",
       "      <th>3</th>\n",
       "      <td>exon:chr10:103348082-103348157:+@exon:chr10:10...</td>\n",
       "      <td>0.000000</td>\n",
       "      <td>-0.028571</td>\n",
       "      <td>0.028571</td>\n",
       "      <td>iPSC</td>\n",
       "      <td>NPC</td>\n",
       "      <td>$\\swarrow$</td>\n",
       "      <td>iPSC-NPC</td>\n",
       "    </tr>\n",
       "    <tr>\n",
       "      <th>4</th>\n",
       "      <td>exon:chr10:103360960-103361093:+@exon:chr10:10...</td>\n",
       "      <td>-0.056306</td>\n",
       "      <td>0.055556</td>\n",
       "      <td>0.079100</td>\n",
       "      <td>iPSC</td>\n",
       "      <td>NPC</td>\n",
       "      <td>$\\nwarrow$</td>\n",
       "      <td>iPSC-NPC</td>\n",
       "    </tr>\n",
       "  </tbody>\n",
       "</table>\n",
       "</div>"
      ],
      "text/plain": [
       "                                            event_id  $\\Delta x$  $\\Delta y$  \\\n",
       "0  exon:chr10:102114184-102114389:+@exon:chr10:10...    0.052632   -0.053237   \n",
       "1  exon:chr10:102286732-102286831:-@exon:chr10:10...    0.000000    0.000000   \n",
       "2  exon:chr10:102747070-102747240:-@exon:chr10:10...   -0.027778    0.027778   \n",
       "3  exon:chr10:103348082-103348157:+@exon:chr10:10...    0.000000   -0.028571   \n",
       "4  exon:chr10:103360960-103361093:+@exon:chr10:10...   -0.056306    0.055556   \n",
       "\n",
       "   magnitude group1 group2   direction transition  \n",
       "0   0.074861   iPSC    NPC  $\\searrow$   iPSC-NPC  \n",
       "1   0.000000   iPSC    NPC         NaN   iPSC-NPC  \n",
       "2   0.039284   iPSC    NPC  $\\nwarrow$   iPSC-NPC  \n",
       "3   0.028571   iPSC    NPC  $\\swarrow$   iPSC-NPC  \n",
       "4   0.079100   iPSC    NPC  $\\nwarrow$   iPSC-NPC  "
      ]
     },
     "execution_count": 14,
     "metadata": {},
     "output_type": "execute_result"
    }
   ],
   "source": [
    "voyages['transition'] = voyages.group1 + '-' + voyages.group2\n",
    "voyages.head()"
   ]
  },
  {
   "cell_type": "code",
   "execution_count": 15,
   "metadata": {
    "collapsed": false
   },
   "outputs": [
    {
     "data": {
      "text/plain": [
       "(8987, 8)"
      ]
     },
     "execution_count": 15,
     "metadata": {},
     "output_type": "execute_result"
    }
   ],
   "source": [
    "voyages.shape"
   ]
  },
  {
   "cell_type": "markdown",
   "metadata": {},
   "source": [
    "### Add group1 and group2 modalities"
   ]
  },
  {
   "cell_type": "code",
   "execution_count": 18,
   "metadata": {
    "collapsed": false
   },
   "outputs": [
    {
     "data": {
      "text/html": [
       "<div>\n",
       "<table border=\"1\" class=\"dataframe\">\n",
       "  <thead>\n",
       "    <tr style=\"text-align: right;\">\n",
       "      <th></th>\n",
       "      <th>phenotype</th>\n",
       "      <th>event_id</th>\n",
       "      <th>modality</th>\n",
       "    </tr>\n",
       "  </thead>\n",
       "  <tbody>\n",
       "    <tr>\n",
       "      <th>0</th>\n",
       "      <td>MN</td>\n",
       "      <td>exon:chr10:102114184-102114389:+@exon:chr10:10...</td>\n",
       "      <td>included</td>\n",
       "    </tr>\n",
       "    <tr>\n",
       "      <th>1</th>\n",
       "      <td>MN</td>\n",
       "      <td>exon:chr10:102286732-102286831:-@exon:chr10:10...</td>\n",
       "      <td>included</td>\n",
       "    </tr>\n",
       "    <tr>\n",
       "      <th>2</th>\n",
       "      <td>MN</td>\n",
       "      <td>exon:chr10:103360960-103361093:+@exon:chr10:10...</td>\n",
       "      <td>bimodal</td>\n",
       "    </tr>\n",
       "    <tr>\n",
       "      <th>3</th>\n",
       "      <td>MN</td>\n",
       "      <td>exon:chr10:103563492-103563776:-@exon:chr10:10...</td>\n",
       "      <td>bimodal</td>\n",
       "    </tr>\n",
       "    <tr>\n",
       "      <th>4</th>\n",
       "      <td>MN</td>\n",
       "      <td>exon:chr10:103567487-103567658:-@exon:chr10:10...</td>\n",
       "      <td>included</td>\n",
       "    </tr>\n",
       "  </tbody>\n",
       "</table>\n",
       "</div>"
      ],
      "text/plain": [
       "  phenotype                                           event_id  modality\n",
       "0        MN  exon:chr10:102114184-102114389:+@exon:chr10:10...  included\n",
       "1        MN  exon:chr10:102286732-102286831:-@exon:chr10:10...  included\n",
       "2        MN  exon:chr10:103360960-103361093:+@exon:chr10:10...   bimodal\n",
       "3        MN  exon:chr10:103563492-103563776:-@exon:chr10:10...   bimodal\n",
       "4        MN  exon:chr10:103567487-103567658:-@exon:chr10:10...  included"
      ]
     },
     "execution_count": 18,
     "metadata": {},
     "output_type": "execute_result"
    }
   ],
   "source": [
    "study.supplemental.modalities_tidy.head()"
   ]
  },
  {
   "cell_type": "code",
   "execution_count": 20,
   "metadata": {
    "collapsed": false
   },
   "outputs": [
    {
     "data": {
      "text/html": [
       "<div>\n",
       "<table border=\"1\" class=\"dataframe\">\n",
       "  <thead>\n",
       "    <tr style=\"text-align: right;\">\n",
       "      <th></th>\n",
       "      <th>$\\Delta x$</th>\n",
       "      <th>$\\Delta y$</th>\n",
       "      <th>magnitude</th>\n",
       "      <th>group1</th>\n",
       "      <th>group2</th>\n",
       "      <th>direction</th>\n",
       "      <th>transition</th>\n",
       "      <th>group1_modality</th>\n",
       "    </tr>\n",
       "  </thead>\n",
       "  <tbody>\n",
       "    <tr>\n",
       "      <th>0</th>\n",
       "      <td>0.052632</td>\n",
       "      <td>-0.053237</td>\n",
       "      <td>0.074861</td>\n",
       "      <td>iPSC</td>\n",
       "      <td>NPC</td>\n",
       "      <td>$\\searrow$</td>\n",
       "      <td>iPSC-NPC</td>\n",
       "      <td>included</td>\n",
       "    </tr>\n",
       "    <tr>\n",
       "      <th>1</th>\n",
       "      <td>0.000000</td>\n",
       "      <td>0.034483</td>\n",
       "      <td>0.034483</td>\n",
       "      <td>iPSC</td>\n",
       "      <td>MN</td>\n",
       "      <td>$\\nwarrow$</td>\n",
       "      <td>iPSC-MN</td>\n",
       "      <td>included</td>\n",
       "    </tr>\n",
       "    <tr>\n",
       "      <th>2</th>\n",
       "      <td>0.000000</td>\n",
       "      <td>0.000000</td>\n",
       "      <td>0.000000</td>\n",
       "      <td>iPSC</td>\n",
       "      <td>NPC</td>\n",
       "      <td>NaN</td>\n",
       "      <td>iPSC-NPC</td>\n",
       "      <td>included</td>\n",
       "    </tr>\n",
       "    <tr>\n",
       "      <th>3</th>\n",
       "      <td>0.000000</td>\n",
       "      <td>0.000000</td>\n",
       "      <td>0.000000</td>\n",
       "      <td>iPSC</td>\n",
       "      <td>MN</td>\n",
       "      <td>NaN</td>\n",
       "      <td>iPSC-MN</td>\n",
       "      <td>included</td>\n",
       "    </tr>\n",
       "    <tr>\n",
       "      <th>4</th>\n",
       "      <td>-0.027778</td>\n",
       "      <td>0.027778</td>\n",
       "      <td>0.039284</td>\n",
       "      <td>iPSC</td>\n",
       "      <td>NPC</td>\n",
       "      <td>$\\nwarrow$</td>\n",
       "      <td>iPSC-NPC</td>\n",
       "      <td>included</td>\n",
       "    </tr>\n",
       "  </tbody>\n",
       "</table>\n",
       "</div>"
      ],
      "text/plain": [
       "   $\\Delta x$  $\\Delta y$  magnitude group1 group2   direction transition  \\\n",
       "0    0.052632   -0.053237   0.074861   iPSC    NPC  $\\searrow$   iPSC-NPC   \n",
       "1    0.000000    0.034483   0.034483   iPSC     MN  $\\nwarrow$    iPSC-MN   \n",
       "2    0.000000    0.000000   0.000000   iPSC    NPC         NaN   iPSC-NPC   \n",
       "3    0.000000    0.000000   0.000000   iPSC     MN         NaN    iPSC-MN   \n",
       "4   -0.027778    0.027778   0.039284   iPSC    NPC  $\\nwarrow$   iPSC-NPC   \n",
       "\n",
       "  group1_modality  \n",
       "0        included  \n",
       "1        included  \n",
       "2        included  \n",
       "3        included  \n",
       "4        included  "
      ]
     },
     "execution_count": 20,
     "metadata": {},
     "output_type": "execute_result"
    }
   ],
   "source": [
    "voyages_modalities.head()"
   ]
  },
  {
   "cell_type": "code",
   "execution_count": 22,
   "metadata": {
    "collapsed": false
   },
   "outputs": [
    {
     "name": "stdout",
     "output_type": "stream",
     "text": [
      "(8987, 10)\n",
      "(8987, 11)\n",
      "(8987, 10)\n"
     ]
    },
    {
     "data": {
      "text/html": [
       "<div>\n",
       "<table border=\"1\" class=\"dataframe\">\n",
       "  <thead>\n",
       "    <tr style=\"text-align: right;\">\n",
       "      <th></th>\n",
       "      <th>event_id</th>\n",
       "      <th>$\\Delta x$</th>\n",
       "      <th>$\\Delta y$</th>\n",
       "      <th>magnitude</th>\n",
       "      <th>group1</th>\n",
       "      <th>group2</th>\n",
       "      <th>direction</th>\n",
       "      <th>transition</th>\n",
       "      <th>group1_modality</th>\n",
       "      <th>group2_modality</th>\n",
       "    </tr>\n",
       "  </thead>\n",
       "  <tbody>\n",
       "    <tr>\n",
       "      <th>0</th>\n",
       "      <td>exon:chr10:102114184-102114389:+@exon:chr10:10...</td>\n",
       "      <td>0.052632</td>\n",
       "      <td>-0.053237</td>\n",
       "      <td>0.074861</td>\n",
       "      <td>iPSC</td>\n",
       "      <td>NPC</td>\n",
       "      <td>$\\searrow$</td>\n",
       "      <td>iPSC-NPC</td>\n",
       "      <td>included</td>\n",
       "      <td>included</td>\n",
       "    </tr>\n",
       "    <tr>\n",
       "      <th>1</th>\n",
       "      <td>exon:chr10:102114184-102114389:+@exon:chr10:10...</td>\n",
       "      <td>0.000000</td>\n",
       "      <td>0.034483</td>\n",
       "      <td>0.034483</td>\n",
       "      <td>iPSC</td>\n",
       "      <td>MN</td>\n",
       "      <td>$\\nwarrow$</td>\n",
       "      <td>iPSC-MN</td>\n",
       "      <td>included</td>\n",
       "      <td>included</td>\n",
       "    </tr>\n",
       "    <tr>\n",
       "      <th>2</th>\n",
       "      <td>exon:chr10:102114184-102114389:+@exon:chr10:10...</td>\n",
       "      <td>-0.052632</td>\n",
       "      <td>0.087719</td>\n",
       "      <td>0.102297</td>\n",
       "      <td>NPC</td>\n",
       "      <td>MN</td>\n",
       "      <td>$\\nwarrow$</td>\n",
       "      <td>NPC-MN</td>\n",
       "      <td>included</td>\n",
       "      <td>included</td>\n",
       "    </tr>\n",
       "    <tr>\n",
       "      <th>3</th>\n",
       "      <td>exon:chr10:102286732-102286831:-@exon:chr10:10...</td>\n",
       "      <td>0.000000</td>\n",
       "      <td>0.000000</td>\n",
       "      <td>0.000000</td>\n",
       "      <td>iPSC</td>\n",
       "      <td>NPC</td>\n",
       "      <td>NaN</td>\n",
       "      <td>iPSC-NPC</td>\n",
       "      <td>included</td>\n",
       "      <td>included</td>\n",
       "    </tr>\n",
       "    <tr>\n",
       "      <th>4</th>\n",
       "      <td>exon:chr10:102286732-102286831:-@exon:chr10:10...</td>\n",
       "      <td>0.000000</td>\n",
       "      <td>0.000000</td>\n",
       "      <td>0.000000</td>\n",
       "      <td>iPSC</td>\n",
       "      <td>MN</td>\n",
       "      <td>NaN</td>\n",
       "      <td>iPSC-MN</td>\n",
       "      <td>included</td>\n",
       "      <td>included</td>\n",
       "    </tr>\n",
       "  </tbody>\n",
       "</table>\n",
       "</div>"
      ],
      "text/plain": [
       "                                            event_id  $\\Delta x$  $\\Delta y$  \\\n",
       "0  exon:chr10:102114184-102114389:+@exon:chr10:10...    0.052632   -0.053237   \n",
       "1  exon:chr10:102114184-102114389:+@exon:chr10:10...    0.000000    0.034483   \n",
       "2  exon:chr10:102114184-102114389:+@exon:chr10:10...   -0.052632    0.087719   \n",
       "3  exon:chr10:102286732-102286831:-@exon:chr10:10...    0.000000    0.000000   \n",
       "4  exon:chr10:102286732-102286831:-@exon:chr10:10...    0.000000    0.000000   \n",
       "\n",
       "   magnitude group1 group2   direction transition group1_modality  \\\n",
       "0   0.074861   iPSC    NPC  $\\searrow$   iPSC-NPC        included   \n",
       "1   0.034483   iPSC     MN  $\\nwarrow$    iPSC-MN        included   \n",
       "2   0.102297    NPC     MN  $\\nwarrow$     NPC-MN        included   \n",
       "3   0.000000   iPSC    NPC         NaN   iPSC-NPC        included   \n",
       "4   0.000000   iPSC     MN         NaN    iPSC-MN        included   \n",
       "\n",
       "  group2_modality  \n",
       "0        included  \n",
       "1        included  \n",
       "2        included  \n",
       "3        included  \n",
       "4        included  "
      ]
     },
     "execution_count": 22,
     "metadata": {},
     "output_type": "execute_result"
    }
   ],
   "source": [
    "groups = 'group1', 'group2'\n",
    "voyages_modalities = voyages.copy()\n",
    "\n",
    "for group in groups:\n",
    "    voyages_modalities = voyages_modalities.merge(study.supplemental.modalities_tidy, \n",
    "                                       left_on=[group, 'event_id'], \n",
    "                                       right_on=['phenotype', 'event_id'], copy=False)\n",
    "    print(voyages_modalities.shape)\n",
    "    voyages_modalities = voyages_modalities.drop(['phenotype'], axis=1)\n",
    "    voyages_modalities = voyages_modalities.rename(columns={'modality': '{}_modality'.format(group)})\n",
    "print(voyages_modalities.shape)\n",
    "voyages_modalities.head()"
   ]
  },
  {
   "cell_type": "markdown",
   "metadata": {},
   "source": [
    "## Add the data to the study and save it"
   ]
  },
  {
   "cell_type": "code",
   "execution_count": 23,
   "metadata": {
    "collapsed": true
   },
   "outputs": [],
   "source": [
    "study.supplemental.waypoints = waypoints\n",
    "study.supplemental.voyages = voyages_modalities"
   ]
  },
  {
   "cell_type": "code",
   "execution_count": 24,
   "metadata": {
    "collapsed": false
   },
   "outputs": [
    {
     "name": "stdout",
     "output_type": "stream",
     "text": [
      "Wrote datapackage to /projects/ps-yeolab/obotvinnik/flotilla_projects//singlecell_pnm_figure4_voyages/datapackage.json\n"
     ]
    }
   ],
   "source": [
    "study.save('singlecell_pnm_figure4_voyages', flotilla_dir='/projects/ps-yeolab/obotvinnik/flotilla_projects/')"
   ]
  },
  {
   "cell_type": "code",
   "execution_count": null,
   "metadata": {
    "collapsed": true
   },
   "outputs": [],
   "source": []
  }
 ],
 "metadata": {
  "kernelspec": {
   "display_name": "Python 2",
   "language": "python",
   "name": "python2"
  },
  "language_info": {
   "codemirror_mode": {
    "name": "ipython",
    "version": 2
   },
   "file_extension": ".py",
   "mimetype": "text/x-python",
   "name": "python",
   "nbconvert_exporter": "python",
   "pygments_lexer": "ipython2",
   "version": "2.7.11"
  }
 },
 "nbformat": 4,
 "nbformat_minor": 0
}
