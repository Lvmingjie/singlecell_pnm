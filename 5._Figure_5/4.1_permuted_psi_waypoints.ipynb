{
 "cells": [
  {
   "cell_type": "code",
   "execution_count": 3,
   "metadata": {
    "collapsed": false
   },
   "outputs": [
    {
     "name": "stdout",
     "output_type": "stream",
     "text": [
      "2016-02-10 09:15:03\tReading datapackage from /projects/ps-yeolab/obotvinnik/flotilla_projects/singlecell_pnm_figure4_voyages/datapackage.json\n",
      "2016-02-10 09:15:03\tParsing datapackage to create a Study object\n",
      "2016-02-10 09:15:47\tInitializing Study\n",
      "2016-02-10 09:15:47\tInitializing Predictor configuration manager for Study\n",
      "2016-02-10 09:15:47\tPredictor ExtraTreesClassifier is of type <class 'sklearn.ensemble.forest.ExtraTreesClassifier'>\n",
      "2016-02-10 09:15:47\tAdded ExtraTreesClassifier to default predictors\n",
      "2016-02-10 09:15:47\tPredictor ExtraTreesRegressor is of type <class 'sklearn.ensemble.forest.ExtraTreesRegressor'>\n",
      "2016-02-10 09:15:47\tAdded ExtraTreesRegressor to default predictors\n",
      "2016-02-10 09:15:47\tPredictor GradientBoostingClassifier is of type <class 'sklearn.ensemble.gradient_boosting.GradientBoostingClassifier'>\n",
      "2016-02-10 09:15:47\tAdded GradientBoostingClassifier to default predictors\n",
      "2016-02-10 09:15:47\tPredictor GradientBoostingRegressor is of type <class 'sklearn.ensemble.gradient_boosting.GradientBoostingRegressor'>\n",
      "2016-02-10 09:15:47\tAdded GradientBoostingRegressor to default predictors\n",
      "2016-02-10 09:15:52\tBuilding Gene Ontology database...\n",
      "2016-02-10 09:16:02\t\tDone.\n",
      "2016-02-10 09:16:02\tLoading metadata\n",
      "2016-02-10 09:16:02\tLoading expression data\n",
      "2016-02-10 09:16:02\tInitializing expression\n",
      "2016-02-10 09:16:03\tDone initializing expression\n",
      "2016-02-10 09:16:05\tLoading splicing data\n",
      "2016-02-10 09:16:05\tInitializing splicing\n",
      "2016-02-10 09:16:05\tDone initializing splicing\n",
      "2016-02-10 09:16:05\tSuccessfully initialized a Study object!\n"
     ]
    },
    {
     "name": "stderr",
     "output_type": "stream",
     "text": [
      "/home/obotvinnik/workspace-git/flotilla/flotilla/__init__.py:55: DtypeWarning: Columns (18) have mixed types. Specify dtype option on import or set low_memory=False.\n",
      "  load_species_data=load_species_data)\n"
     ]
    }
   ],
   "source": [
    "import matplotlib.pyplot as plt\n",
    "import seaborn as sns\n",
    "import numpy as np\n",
    "import pandas as pd\n",
    "\n",
    "from anchor.visualize import MODALITY_TO_COLOR, MODALITY_ORDER, MODALITY_PALETTE\n",
    "modality_order = MODALITY_ORDER\n",
    "\n",
    "sns.set(style='ticks', context='talk', rc={'font.sans-serif':'Arial', 'pdf.fonttype': 42})\n",
    "\n",
    "%matplotlib inline\n",
    "\n",
    "%load_ext autoreload\n",
    "%autoreload 2\n",
    "\n",
    "folder = '/home/obotvinnik/Dropbox/figures2/singlecell_pnm/figure4_voyages/permutations'\n",
    "\n",
    "import flotilla\n",
    "study = flotilla.embark('singlecell_pnm_figure4_voyages', \n",
    "                        flotilla_dir='/projects/ps-yeolab/obotvinnik/flotilla_projects/')\n",
    "# study = flotilla.embark('singlecell_pnm_figure1_supplementary_post_splicing_filtering')"
   ]
  },
  {
   "cell_type": "code",
   "execution_count": 4,
   "metadata": {
    "collapsed": true
   },
   "outputs": [],
   "source": [
    "! mkdir $folder"
   ]
  },
  {
   "cell_type": "code",
   "execution_count": 5,
   "metadata": {
    "collapsed": false
   },
   "outputs": [],
   "source": [
    "import glob\n",
    "import os\n",
    "\n",
    "import pandas as pd\n",
    "import seaborn as sns\n",
    "import matplotlib.pyplot as plt\n",
    "\n",
    "sns.set(style='ticks', context='paper')\n"
   ]
  },
  {
   "cell_type": "code",
   "execution_count": 6,
   "metadata": {
    "collapsed": true
   },
   "outputs": [],
   "source": [
    "from astrolabe import Waypoints\n",
    "ws = Waypoints()\n"
   ]
  },
  {
   "cell_type": "code",
   "execution_count": 7,
   "metadata": {
    "collapsed": true
   },
   "outputs": [],
   "source": [
    "psi_folder = '/home/obotvinnik/Dropbox/figures2/singlecell_pnm/figure2_modalities/bayesian/permutations/psi'\n",
    "\n",
    "dfs = []\n",
    "\n",
    "for csv in sorted(glob.glob('{}/*.csv'.format(psi_folder))):\n",
    "    psi = pd.read_csv(csv, index_col=0)\n",
    "    df = psi.groupby(study.sample_id_to_phenotype).apply(\n",
    "        lambda x: ws.fit_transform(x.dropna(how='all', axis=1)))\n",
    "    df['iteration'] = int(os.path.basename(csv).split('.')[0].split('_')[1])\n",
    "    df = df.reset_index()\n",
    "    dfs.append(df)\n",
    "    \n",
    "waypoints = pd.concat(dfs, ignore_index=True)\n",
    "# sizes.columns = "
   ]
  },
  {
   "cell_type": "code",
   "execution_count": 12,
   "metadata": {
    "collapsed": false
   },
   "outputs": [
    {
     "data": {
      "text/html": [
       "<div>\n",
       "<table border=\"1\" class=\"dataframe\">\n",
       "  <thead>\n",
       "    <tr style=\"text-align: right;\">\n",
       "      <th></th>\n",
       "      <th>phenotype</th>\n",
       "      <th>level_1</th>\n",
       "      <th>0</th>\n",
       "      <th>1</th>\n",
       "      <th>iteration</th>\n",
       "    </tr>\n",
       "  </thead>\n",
       "  <tbody>\n",
       "    <tr>\n",
       "      <th>0</th>\n",
       "      <td>MN</td>\n",
       "      <td>exon:chr10:101165513-101165617:-@exon:chr10:10...</td>\n",
       "      <td>0.000000</td>\n",
       "      <td>1.000000</td>\n",
       "      <td>1</td>\n",
       "    </tr>\n",
       "    <tr>\n",
       "      <th>1</th>\n",
       "      <td>MN</td>\n",
       "      <td>exon:chr10:101480744-101480825:-@exon:chr10:10...</td>\n",
       "      <td>0.166667</td>\n",
       "      <td>0.750000</td>\n",
       "      <td>1</td>\n",
       "    </tr>\n",
       "    <tr>\n",
       "      <th>2</th>\n",
       "      <td>MN</td>\n",
       "      <td>exon:chr10:101507014-101507147:+@exon:chr10:10...</td>\n",
       "      <td>0.222222</td>\n",
       "      <td>0.777778</td>\n",
       "      <td>1</td>\n",
       "    </tr>\n",
       "    <tr>\n",
       "      <th>3</th>\n",
       "      <td>MN</td>\n",
       "      <td>exon:chr10:101997779-101997988:-@exon:chr10:10...</td>\n",
       "      <td>0.428572</td>\n",
       "      <td>0.571429</td>\n",
       "      <td>1</td>\n",
       "    </tr>\n",
       "    <tr>\n",
       "      <th>4</th>\n",
       "      <td>MN</td>\n",
       "      <td>exon:chr10:102003455-102003529:-@exon:chr10:10...</td>\n",
       "      <td>0.153846</td>\n",
       "      <td>0.846154</td>\n",
       "      <td>1</td>\n",
       "    </tr>\n",
       "  </tbody>\n",
       "</table>\n",
       "</div>"
      ],
      "text/plain": [
       "  phenotype                                            level_1         0  \\\n",
       "0        MN  exon:chr10:101165513-101165617:-@exon:chr10:10...  0.000000   \n",
       "1        MN  exon:chr10:101480744-101480825:-@exon:chr10:10...  0.166667   \n",
       "2        MN  exon:chr10:101507014-101507147:+@exon:chr10:10...  0.222222   \n",
       "3        MN  exon:chr10:101997779-101997988:-@exon:chr10:10...  0.428572   \n",
       "4        MN  exon:chr10:102003455-102003529:-@exon:chr10:10...  0.153846   \n",
       "\n",
       "          1  iteration  \n",
       "0  1.000000          1  \n",
       "1  0.750000          1  \n",
       "2  0.777778          1  \n",
       "3  0.571429          1  \n",
       "4  0.846154          1  "
      ]
     },
     "execution_count": 12,
     "metadata": {},
     "output_type": "execute_result"
    }
   ],
   "source": [
    "waypoints.head()"
   ]
  },
  {
   "cell_type": "code",
   "execution_count": 13,
   "metadata": {
    "collapsed": false
   },
   "outputs": [
    {
     "data": {
      "text/html": [
       "<div>\n",
       "<table border=\"1\" class=\"dataframe\">\n",
       "  <thead>\n",
       "    <tr style=\"text-align: right;\">\n",
       "      <th></th>\n",
       "      <th>phenotype</th>\n",
       "      <th>event_id</th>\n",
       "      <th>0</th>\n",
       "      <th>1</th>\n",
       "      <th>iteration</th>\n",
       "    </tr>\n",
       "  </thead>\n",
       "  <tbody>\n",
       "    <tr>\n",
       "      <th>0</th>\n",
       "      <td>MN</td>\n",
       "      <td>exon:chr10:101165513-101165617:-@exon:chr10:10...</td>\n",
       "      <td>0.000000</td>\n",
       "      <td>1.000000</td>\n",
       "      <td>1</td>\n",
       "    </tr>\n",
       "    <tr>\n",
       "      <th>1</th>\n",
       "      <td>MN</td>\n",
       "      <td>exon:chr10:101480744-101480825:-@exon:chr10:10...</td>\n",
       "      <td>0.166667</td>\n",
       "      <td>0.750000</td>\n",
       "      <td>1</td>\n",
       "    </tr>\n",
       "    <tr>\n",
       "      <th>2</th>\n",
       "      <td>MN</td>\n",
       "      <td>exon:chr10:101507014-101507147:+@exon:chr10:10...</td>\n",
       "      <td>0.222222</td>\n",
       "      <td>0.777778</td>\n",
       "      <td>1</td>\n",
       "    </tr>\n",
       "    <tr>\n",
       "      <th>3</th>\n",
       "      <td>MN</td>\n",
       "      <td>exon:chr10:101997779-101997988:-@exon:chr10:10...</td>\n",
       "      <td>0.428572</td>\n",
       "      <td>0.571429</td>\n",
       "      <td>1</td>\n",
       "    </tr>\n",
       "    <tr>\n",
       "      <th>4</th>\n",
       "      <td>MN</td>\n",
       "      <td>exon:chr10:102003455-102003529:-@exon:chr10:10...</td>\n",
       "      <td>0.153846</td>\n",
       "      <td>0.846154</td>\n",
       "      <td>1</td>\n",
       "    </tr>\n",
       "  </tbody>\n",
       "</table>\n",
       "</div>"
      ],
      "text/plain": [
       "  phenotype                                           event_id         0  \\\n",
       "0        MN  exon:chr10:101165513-101165617:-@exon:chr10:10...  0.000000   \n",
       "1        MN  exon:chr10:101480744-101480825:-@exon:chr10:10...  0.166667   \n",
       "2        MN  exon:chr10:101507014-101507147:+@exon:chr10:10...  0.222222   \n",
       "3        MN  exon:chr10:101997779-101997988:-@exon:chr10:10...  0.428572   \n",
       "4        MN  exon:chr10:102003455-102003529:-@exon:chr10:10...  0.153846   \n",
       "\n",
       "          1  iteration  \n",
       "0  1.000000          1  \n",
       "1  0.750000          1  \n",
       "2  0.777778          1  \n",
       "3  0.571429          1  \n",
       "4  0.846154          1  "
      ]
     },
     "execution_count": 13,
     "metadata": {},
     "output_type": "execute_result"
    }
   ],
   "source": [
    "waypoints = waypoints.rename(columns={'level_1': 'event_id'})\n",
    "waypoints.head()"
   ]
  },
  {
   "cell_type": "code",
   "execution_count": 14,
   "metadata": {
    "collapsed": false
   },
   "outputs": [],
   "source": [
    "waypoints.to_csv('/projects/ps-yeolab/obotvinnik/singlecell_pnms/figure4_voyages/permuted_psi_waypoints.csv', index=False)"
   ]
  },
  {
   "cell_type": "code",
   "execution_count": 15,
   "metadata": {
    "collapsed": false
   },
   "outputs": [],
   "source": [
    "from astrolabe import waypointplot"
   ]
  },
  {
   "cell_type": "code",
   "execution_count": 17,
   "metadata": {
    "collapsed": false
   },
   "outputs": [
    {
     "data": {
      "text/html": [
       "<div>\n",
       "<table border=\"1\" class=\"dataframe\">\n",
       "  <thead>\n",
       "    <tr style=\"text-align: right;\">\n",
       "      <th></th>\n",
       "      <th></th>\n",
       "      <th></th>\n",
       "      <th>0</th>\n",
       "      <th>1</th>\n",
       "    </tr>\n",
       "    <tr>\n",
       "      <th>phenotype</th>\n",
       "      <th>event_id</th>\n",
       "      <th>iteration</th>\n",
       "      <th></th>\n",
       "      <th></th>\n",
       "    </tr>\n",
       "  </thead>\n",
       "  <tbody>\n",
       "    <tr>\n",
       "      <th rowspan=\"5\" valign=\"top\">MN</th>\n",
       "      <th>exon:chr10:101165513-101165617:-@exon:chr10:101163481-101163631:-@exon:chr10:101163226-101163391:-</th>\n",
       "      <th>1</th>\n",
       "      <td>0.000000</td>\n",
       "      <td>1.000000</td>\n",
       "    </tr>\n",
       "    <tr>\n",
       "      <th>exon:chr10:101480744-101480825:-@exon:chr10:101478103-101478257:-@exon:chr10:101476105-101476218:-</th>\n",
       "      <th>1</th>\n",
       "      <td>0.166667</td>\n",
       "      <td>0.750000</td>\n",
       "    </tr>\n",
       "    <tr>\n",
       "      <th>exon:chr10:101507014-101507147:+@exon:chr10:101510126-101510153:+@exon:chr10:101514286-101514391:+</th>\n",
       "      <th>1</th>\n",
       "      <td>0.222222</td>\n",
       "      <td>0.777778</td>\n",
       "    </tr>\n",
       "    <tr>\n",
       "      <th>exon:chr10:101997779-101997988:-@exon:chr10:101996607-101996726:-@exon:chr10:101995424-101995521:-</th>\n",
       "      <th>1</th>\n",
       "      <td>0.428572</td>\n",
       "      <td>0.571429</td>\n",
       "    </tr>\n",
       "    <tr>\n",
       "      <th>exon:chr10:102003455-102003529:-@exon:chr10:101997779-101997988:-@exon:chr10:101996607-101996726:-</th>\n",
       "      <th>1</th>\n",
       "      <td>0.153846</td>\n",
       "      <td>0.846154</td>\n",
       "    </tr>\n",
       "  </tbody>\n",
       "</table>\n",
       "</div>"
      ],
      "text/plain": [
       "                                                                               0  \\\n",
       "phenotype event_id                                           iteration             \n",
       "MN        exon:chr10:101165513-101165617:-@exon:chr10:101... 1          0.000000   \n",
       "          exon:chr10:101480744-101480825:-@exon:chr10:101... 1          0.166667   \n",
       "          exon:chr10:101507014-101507147:+@exon:chr10:101... 1          0.222222   \n",
       "          exon:chr10:101997779-101997988:-@exon:chr10:101... 1          0.428572   \n",
       "          exon:chr10:102003455-102003529:-@exon:chr10:101... 1          0.153846   \n",
       "\n",
       "                                                                               1  \n",
       "phenotype event_id                                           iteration            \n",
       "MN        exon:chr10:101165513-101165617:-@exon:chr10:101... 1          1.000000  \n",
       "          exon:chr10:101480744-101480825:-@exon:chr10:101... 1          0.750000  \n",
       "          exon:chr10:101507014-101507147:+@exon:chr10:101... 1          0.777778  \n",
       "          exon:chr10:101997779-101997988:-@exon:chr10:101... 1          0.571429  \n",
       "          exon:chr10:102003455-102003529:-@exon:chr10:101... 1          0.846154  "
      ]
     },
     "execution_count": 17,
     "metadata": {},
     "output_type": "execute_result"
    }
   ],
   "source": [
    "waypoints_index = waypoints.set_index(['phenotype', 'event_id', 'iteration'])\n",
    "waypoints_index.head()"
   ]
  },
  {
   "cell_type": "code",
   "execution_count": 19,
   "metadata": {
    "collapsed": false
   },
   "outputs": [
    {
     "data": {
      "text/plain": [
       "'/home/obotvinnik/Dropbox/figures2/singlecell_pnm/figure4_voyages/permutations'"
      ]
     },
     "execution_count": 19,
     "metadata": {},
     "output_type": "execute_result"
    }
   ],
   "source": [
    "folder"
   ]
  },
  {
   "cell_type": "code",
   "execution_count": 20,
   "metadata": {
    "collapsed": false
   },
   "outputs": [
    {
     "data": {
      "image/png": "[encoded data removed]",
      "text/plain": [
       "<matplotlib.figure.Figure at 0x2b465bdd3390>"
      ]
     },
     "metadata": {},
     "output_type": "display_data"
    },
    {
     "data": {
      "image/png": "[encoded data removed]",
      "text/plain": [
       "<matplotlib.figure.Figure at 0x2b465cbec1d0>"
      ]
     },
     "metadata": {},
     "output_type": "display_data"
    },
    {
     "data": {
      "image/png": "[encoded data removed]",
      "text/plain": [
       "<matplotlib.figure.Figure at 0x2b4658dcc3d0>"
      ]
     },
     "metadata": {},
     "output_type": "display_data"
    }
   ],
   "source": [
    "for phenotype, phenotype_waypoints in waypoints_index.groupby(level=0):\n",
    "    fig, ax = plt.subplots(figsize=(2, 2))\n",
    "    waypointplot(phenotype_waypoints)\n",
    "    ax.set_title('Permuted {}'.format(phenotype))\n",
    "    fig.savefig('{}/waypoints_{}.pdf'.format(folder, phenotype))"
   ]
  },
  {
   "cell_type": "code",
   "execution_count": null,
   "metadata": {
    "collapsed": true
   },
   "outputs": [],
   "source": []
  }
 ],
 "metadata": {
  "kernelspec": {
   "display_name": "Python 2",
   "language": "python",
   "name": "python2"
  },
  "language_info": {
   "codemirror_mode": {
    "name": "ipython",
    "version": 2
   },
   "file_extension": ".py",
   "mimetype": "text/x-python",
   "name": "python",
   "nbconvert_exporter": "python",
   "pygments_lexer": "ipython2",
   "version": "2.7.11"
  }
 },
 "nbformat": 4,
 "nbformat_minor": 0
}
