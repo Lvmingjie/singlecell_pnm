{
 "cells": [
  {
   "cell_type": "code",
   "execution_count": 2,
   "metadata": {
    "collapsed": false
   },
   "outputs": [
    {
     "name": "stdout",
     "output_type": "stream",
     "text": [
      "mkdir: cannot create directory `/home/obotvinnik/Dropbox/figures2/singlecell_pnm/figure4_voyages/from_multimodal_to_extremes/motifs': File exists\r\n"
     ]
    },
    {
     "name": "stderr",
     "output_type": "stream",
     "text": [
      "/home/obotvinnik/anaconda/lib/python2.7/site-packages/matplotlib/__init__.py:810: UserWarning: Found matplotlib configuration in ~/.matplotlib/. To conform with the XDG base directory standard, this configuration location has been deprecated on Linux, and the new location is now /home/obotvinnik/.config/matplotlib/. Please move your configuration there to ensure that matplotlib will continue to find it in the future.\n",
      "  _get_xdg_config_dir())\n"
     ]
    }
   ],
   "source": [
    "import matplotlib.pyplot as plt\n",
    "import seaborn as sns\n",
    "import numpy as np\n",
    "import pandas as pd\n",
    "\n",
    "\n",
    "sns.set(style='ticks', context='talk', rc={'font.sans-serif':'Arial', 'pdf.fonttype': 42})\n",
    "\n",
    "%matplotlib inline\n",
    "\n",
    "%load_ext autoreload\n",
    "%autoreload 2\n",
    "\n",
    "folder = '/home/obotvinnik/Dropbox/figures2/singlecell_pnm/figure4_voyages'\n",
    "figure_folder = '{}/from_multimodal_to_extremes/motifs'.format(folder)\n",
    "! mkdir $figure_folder\n"
   ]
  },
  {
   "cell_type": "raw",
   "metadata": {},
   "source": [
    "# Styling ACGT on tables in colors jQuery code. \n",
    "# Must be in this order because otherwise you're replacing the \"G\" in \"Green\" or the \"C\" in \"Crimson\" instead of the bare letter\n",
    "\n",
    "$('table').each(function () {\n",
    "    $(this).html($(this).html().replace(/(G)/g, '<span style=\"color: Gold;\">$1</span>'));\n",
    "});\n",
    "$('table').each(function () {\n",
    "    $(this).html($(this).html().replace(/(A)/g, '<span style=\"color: Green;\">$1</span>'));\n",
    "});\n",
    "$('table').each(function () {\n",
    "    $(this).html($(this).html().replace(/(C)/g, '<span style=\"color: RoyalBlue;\">$1</span>'));\n",
    "});\n",
    "$('table').each(function () {\n",
    "    $(this).html($(this).html().replace(/(T)/g, '<span style=\"color: Crimson;\">U</span>'));\n",
    "});"
   ]
  },
  {
   "cell_type": "markdown",
   "metadata": {
    "collapsed": true
   },
   "source": [
    "## Count kmers"
   ]
  },
  {
   "cell_type": "code",
   "execution_count": 3,
   "metadata": {
    "collapsed": true
   },
   "outputs": [],
   "source": [
    "bed_folder = '/projects/ps-yeolab/obotvinnik/singlecell_pnms/figure4_voyages/multimodal_to_extremes'"
   ]
  },
  {
   "cell_type": "code",
   "execution_count": 4,
   "metadata": {
    "collapsed": false
   },
   "outputs": [
    {
     "name": "stdout",
     "output_type": "stream",
     "text": [
      "/projects/ps-yeolab/obotvinnik/singlecell_pnms/figure4_voyages/multimodal_to_extremes\n"
     ]
    }
   ],
   "source": [
    "cd $bed_folder"
   ]
  },
  {
   "cell_type": "code",
   "execution_count": 5,
   "metadata": {
    "collapsed": false
   },
   "outputs": [
    {
     "name": "stdout",
     "output_type": "stream",
     "text": [
      "exon2_placental_background.bed\n",
      "exon2_downstream400_placental_foreground.bed\n",
      "exon2_upstream400_placental_foreground.bed\n",
      "exon2_placental_foreground.bed\n",
      "exon2_downstream400_placental_background.bed\n",
      "exon2_upstream400_placental_background.bed\n"
     ]
    }
   ],
   "source": [
    "import glob\n",
    "\n",
    "genome = '/projects/ps-yeolab/genomes/hg19/chromosomes/all.fa'\n",
    "\n",
    "for bed in glob.glob('*placental*bed'.format(bed_folder)):\n",
    "    print(bed)\n",
    "    fasta = bed.replace('.bed', '.fasta')\n",
    "    ! bedtools getfasta -s -bed $bed -fi $genome -fo $fasta"
   ]
  },
  {
   "cell_type": "code",
   "execution_count": 6,
   "metadata": {
    "collapsed": false
   },
   "outputs": [
    {
     "name": "stdout",
     "output_type": "stream",
     "text": [
      "-rw-r--r-- 1 obotvinnik   3840 Jan 11 10:11 aligned.fasta\r\n",
      "-rw-r--r-- 1 obotvinnik 215386 Feb 23 15:34 exon2_downstream400_placental_background.fasta\r\n",
      "-rw-r--r-- 1 obotvinnik   2722 Feb 23 15:34 exon2_downstream400_placental_foreground.fasta\r\n",
      "-rw-r--r-- 1 obotvinnik 344535 Feb 23 15:34 exon2_placental_background.fasta\r\n",
      "-rw-r--r-- 1 obotvinnik   2170 Feb 23 15:34 exon2_placental_foreground.fasta\r\n",
      "-rw-r--r-- 1 obotvinnik 217873 Feb 23 15:34 exon2_upstream400_placental_background.fasta\r\n",
      "-rw-r--r-- 1 obotvinnik   2514 Feb 23 15:34 exon2_upstream400_placental_foreground.fasta\r\n",
      "-rw-r--r-- 1 obotvinnik   2605 Jan 11 11:53 kmer2.fasta\r\n",
      "-rw-r--r-- 1 obotvinnik   1565 Jan 11 09:31 temp.fasta\r\n",
      "-rw-r--r-- 1 obotvinnik   3185 Jan 11 12:03 top_kmers_downstream400.aligned.fasta\r\n",
      "-rw-r--r-- 1 obotvinnik   1981 Jan 11 12:28 top_kmers_downstream400.fasta\r\n",
      "-rw-r--r-- 1 obotvinnik   4064 Jan 11 12:03 top_kmers_exonbody.aligned.fasta\r\n",
      "-rw-r--r-- 1 obotvinnik   2641 Jan 11 12:28 top_kmers_exonbody.fasta\r\n",
      "-rw-r--r-- 1 obotvinnik   3185 Jan 11 12:28 top_kmers_upstream400.aligned.fasta\r\n",
      "-rw-r--r-- 1 obotvinnik   2663 Jan 11 12:28 top_kmers_upstream400.fasta\r\n"
     ]
    }
   ],
   "source": [
    "ll *fasta"
   ]
  },
  {
   "cell_type": "code",
   "execution_count": 7,
   "metadata": {
    "collapsed": true
   },
   "outputs": [],
   "source": [
    "import kvector\n",
    "from collections import defaultdict"
   ]
  },
  {
   "cell_type": "code",
   "execution_count": 8,
   "metadata": {
    "collapsed": false
   },
   "outputs": [],
   "source": [
    "from kvector.kmer import count_kmers"
   ]
  },
  {
   "cell_type": "code",
   "execution_count": 10,
   "metadata": {
    "collapsed": false
   },
   "outputs": [
    {
     "name": "stdout",
     "output_type": "stream",
     "text": [
      "exon2_upstream400_placental_foreground.fasta\n",
      "exon2_placental_foreground.fasta\n",
      "exon2_upstream400_placental_background.fasta\n",
      "exon2_placental_background.fasta\n",
      "exon2_downstream400_placental_foreground.fasta\n",
      "exon2_downstream400_placental_background.fasta\n"
     ]
    }
   ],
   "source": [
    "kmer_matrices = defaultdict(dict)\n",
    "\n",
    "for fasta in glob.glob('exon2*fasta'):\n",
    "    print(fasta)\n",
    "    prefix = fasta.split('.')[0]\n",
    "    split = prefix.split('_')\n",
    "    if 'stream' in prefix:\n",
    "        region = split[1]\n",
    "    else:\n",
    "        region = 'exonbody'\n",
    "    x_ground = split[-1]\n",
    "    kmer_matrix = count_kmers(fasta)\n",
    "    kmer_matrices[region][x_ground] = kmer_matrix"
   ]
  },
  {
   "cell_type": "code",
   "execution_count": null,
   "metadata": {
    "collapsed": false
   },
   "outputs": [],
   "source": [
    "foreground = kmer_matrices['upstream400']['foreground']"
   ]
  },
  {
   "cell_type": "code",
   "execution_count": null,
   "metadata": {
    "collapsed": false
   },
   "outputs": [],
   "source": [
    "kmer_zscores = pd.DataFrame()\n",
    "\n",
    "for region, matrices in kmer_matrices.items():\n",
    "    foreground = matrices['foreground']\n",
    "    \n",
    "    # \"background\" from homer didn't include the foreground events but we need to for this analysis\n",
    "    background = pd.concat([matrices['background'], matrices['foreground']])\n",
    "    zscore = (foreground.mean() - background.mean())/background.var()\n",
    "    kmer_zscores[region] = zscore\n",
    "kmer_zscores.head()"
   ]
  },
  {
   "cell_type": "code",
   "execution_count": null,
   "metadata": {
    "collapsed": false
   },
   "outputs": [],
   "source": [
    "kmer_zscores.sort_values(by='upstream400', ascending=False).head(20)"
   ]
  },
  {
   "cell_type": "code",
   "execution_count": null,
   "metadata": {
    "collapsed": false
   },
   "outputs": [],
   "source": [
    "kmer_zscores.sort_values(by='downstream400', ascending=False).head(20)"
   ]
  },
  {
   "cell_type": "code",
   "execution_count": null,
   "metadata": {
    "collapsed": false
   },
   "outputs": [],
   "source": [
    "kmer_zscores_top = kmer_zscores[kmer_zscores > (kmer_zscores.mean() + 2*kmer_zscores.std())].dropna(how='all')\n",
    "print(kmer_zscores_top.shape)\n",
    "kmer_zscores_top.head()"
   ]
  },
  {
   "cell_type": "markdown",
   "metadata": {},
   "source": [
    "### Align top kmers"
   ]
  },
  {
   "cell_type": "code",
   "execution_count": null,
   "metadata": {
    "collapsed": false
   },
   "outputs": [],
   "source": [
    "! clustalo --help"
   ]
  },
  {
   "cell_type": "code",
   "execution_count": null,
   "metadata": {
    "collapsed": true
   },
   "outputs": [],
   "source": [
    "from Bio.Seq import Seq\n",
    "from Bio import AlignIO\n",
    "from Bio.Align.Applications import ClustalOmegaCommandline\n",
    "from Bio.SeqRecord import SeqRecord\n",
    "from Bio.Alphabet import generic_dna\n",
    "from Bio import SeqIO"
   ]
  },
  {
   "cell_type": "code",
   "execution_count": null,
   "metadata": {
    "collapsed": false
   },
   "outputs": [],
   "source": [
    "!muscle -h"
   ]
  },
  {
   "cell_type": "code",
   "execution_count": null,
   "metadata": {
    "collapsed": false,
    "scrolled": false
   },
   "outputs": [],
   "source": [
    "# for region, col in kmer_zscores_top.iteritems():\n",
    "\n",
    "region = 'upstream400'\n",
    "col = kmer_zscores_top[region]\n",
    "print '\\n\\n', region\n",
    "col = col.dropna()\n",
    "\n",
    "kmers = col.index\n",
    "\n",
    "records = kmers.map(lambda x: SeqRecord(Seq(x, alphabet=generic_dna), id=x, name='', description=''))\n",
    "\n",
    "fasta = 'top_kmers_{}.fasta'.format(region)\n",
    "with open(fasta, 'w') as f:\n",
    "    SeqIO.write(records, f, 'fasta')\n",
    "\n",
    "\n",
    "alignment_scores = pd.DataFrame(index=kmers, columns=kmers, dtype=float)\n",
    "\n",
    "for seq1, seq2 in itertools.combinations(kmers, 2):\n",
    "    alignment_scores.loc[seq1, seq1] = 0\n",
    "    alignment_scores.loc[seq2, seq2] = 0\n",
    "    try:\n",
    "        # Get minimum matching\n",
    "        aligned = min(pairwise2.align.localxx(seq1, seq2), key=lambda x: x[2])\n",
    "        seq1_aligned, seq2_aligned, score, begin, end = aligned\n",
    "        distance = length - score\n",
    "    except ValueError:\n",
    "        distance = max(len(seq1), len(seq2))\n",
    "    alignment_scores.loc[seq1, seq2] = score\n",
    "    alignment_scores.loc[seq2, seq1] = score\n",
    "# alignment_scores.head()\n",
    "\n",
    "aligned = fasta.replace('.fasta', '.aligned.fasta')\n",
    "distance_matrix = fasta.replace('.fasta', '.distancematrix')\n",
    "guidetree = aligned.replace('.fasta', '.guidetree')\n",
    "\n",
    "alignment_scores.to_csv(distance_matrix, sep='\\t', header=False)\n",
    "n_kmers = len(kmers)\n",
    "! echo $n_kmers | cat - $distance_matrix > distance_matrix\n",
    "\n",
    "! clustalo --infile $fasta --outfile $aligned --full --force --guidetree-out=$guidetree --seqtype=DNA --distmat-in=$distance_matrix\n",
    "\n",
    "with open(aligned) as f:\n",
    "    records_aligned = AlignIO.read(aligned, 'fasta')\n",
    "# for record in records_aligned: \n",
    "#     print str(record.seq)\n",
    "\n",
    "tree = Phylo.read(guidetree, 'newick')\n",
    "tree.ladderize()\n",
    "fig, ax = plt.subplots(figsize=(4, 20))\n",
    "Phylo.draw(tree, axes=ax)\n",
    "#     sns.despine(fig=fig, bottom=True, left=True)"
   ]
  },
  {
   "cell_type": "code",
   "execution_count": null,
   "metadata": {
    "collapsed": false,
    "scrolled": false
   },
   "outputs": [],
   "source": [
    "for region, col in kmer_zscores_top.iteritems():\n",
    "\n",
    "    print '\\n\\n', region\n",
    "    col = col.dropna()\n",
    "\n",
    "    kmers = col.index\n",
    "\n",
    "    records = kmers.map(lambda x: SeqRecord(Seq(x, alphabet=generic_dna), id=x, name='', description=''))\n",
    "\n",
    "    fasta = 'top_kmers_{}.fasta'.format(region)\n",
    "    with open(fasta, 'w') as f:\n",
    "        SeqIO.write(records, f, 'fasta')\n",
    "\n",
    "    ! clustalo --infile $fasta --outfile $aligned --full --force --guidetree-out=$guidetree --seqtype=DNA\n",
    "\n",
    "    with open(aligned) as f:\n",
    "        records_aligned = AlignIO.read(aligned, 'fasta')\n",
    "    # for record in records_aligned: \n",
    "    #     print str(record.seq)\n",
    "\n",
    "    tree = Phylo.read(guidetree, 'newick')\n",
    "    tree.ladderize()\n",
    "    fig, ax = plt.subplots(figsize=(4, 20))\n",
    "    Phylo.draw(tree, axes=ax)\n",
    "    #     sns.despine(fig=fig, bottom=True, left=True)"
   ]
  },
  {
   "cell_type": "code",
   "execution_count": null,
   "metadata": {
    "collapsed": false,
    "scrolled": false
   },
   "outputs": [],
   "source": [
    "import itertools\n",
    " \n",
    "def terminal_neighbor_dists(tree):\n",
    "    \"\"\"Return a list of distances between adjacent terminals.\"\"\"\n",
    "    def generate_pairs(tree):\n",
    "        pairs = itertools.tee(tree)\n",
    "        pairs[1].next()\n",
    "        return itertools.izip(pairs[0], pairs[1])\n",
    "    return [tree.distance(*i) for i in\n",
    "            generate_pairs(tree.find_clades(terminal=True))]\n",
    "\n",
    "len(terminal_neighbor_dists(tree))"
   ]
  },
  {
   "cell_type": "code",
   "execution_count": null,
   "metadata": {
    "collapsed": false
   },
   "outputs": [],
   "source": [
    "tree.terminal_neighbor_dists()"
   ]
  },
  {
   "cell_type": "code",
   "execution_count": null,
   "metadata": {
    "collapsed": false
   },
   "outputs": [],
   "source": [
    "list(tree.find_clades())"
   ]
  },
  {
   "cell_type": "code",
   "execution_count": null,
   "metadata": {
    "collapsed": false
   },
   "outputs": [],
   "source": [
    "depths = tree.depths()\n",
    "depths"
   ]
  },
  {
   "cell_type": "code",
   "execution_count": null,
   "metadata": {
    "collapsed": false
   },
   "outputs": [],
   "source": [
    "! pip install fisher"
   ]
  },
  {
   "cell_type": "code",
   "execution_count": null,
   "metadata": {
    "collapsed": false
   },
   "outputs": [],
   "source": [
    "! pip install ete2"
   ]
  },
  {
   "cell_type": "code",
   "execution_count": null,
   "metadata": {
    "collapsed": true
   },
   "outputs": [],
   "source": [
    "treecut = guidetree  + \".treecut\""
   ]
  },
  {
   "cell_type": "code",
   "execution_count": null,
   "metadata": {
    "collapsed": false
   },
   "outputs": [],
   "source": [
    "! conda install --yes rpy2"
   ]
  },
  {
   "cell_type": "code",
   "execution_count": null,
   "metadata": {
    "collapsed": false
   },
   "outputs": [],
   "source": [
    "! python /home/obotvinnik/workspace-git/treecut/treecut.py"
   ]
  },
  {
   "cell_type": "code",
   "execution_count": null,
   "metadata": {
    "collapsed": false
   },
   "outputs": [],
   "source": [
    "! python /home/obotvinnik/workspace-git/treecut/treecut.py $guidetree $treecut"
   ]
  },
  {
   "cell_type": "code",
   "execution_count": null,
   "metadata": {
    "collapsed": false
   },
   "outputs": [],
   "source": [
    "tree.depths()"
   ]
  },
  {
   "cell_type": "code",
   "execution_count": null,
   "metadata": {
    "collapsed": false
   },
   "outputs": [],
   "source": [
    "len(list(tree.find_clades()))"
   ]
  },
  {
   "cell_type": "code",
   "execution_count": null,
   "metadata": {
    "collapsed": true
   },
   "outputs": [],
   "source": []
  },
  {
   "cell_type": "code",
   "execution_count": null,
   "metadata": {
    "collapsed": false
   },
   "outputs": [],
   "source": [
    "import matplotlib as mpl\n",
    "\n",
    "deep = map(mpl.colors.rgb2hex, sns.color_palette('deep'))\n",
    "deep"
   ]
  },
  {
   "cell_type": "code",
   "execution_count": null,
   "metadata": {
    "collapsed": false
   },
   "outputs": [],
   "source": [
    "sns.palplot(deep)"
   ]
  },
  {
   "cell_type": "code",
   "execution_count": null,
   "metadata": {
    "collapsed": true
   },
   "outputs": [],
   "source": [
    "# Styling ACGT on tables in colors jQuery code. Must be in this order because otherwise you're replacing the \"G\" in \"Green\" or the \"C\" in \"Crimson\" instead of the bare letter\n",
    "\n",
    "/* G = yellow */\n",
    "$('table').each(function () {\n",
    "    $(this).html($(this).html().replace(/(G)/g, '<span style=\"color: #ccb974;\">$1</span>'));\n",
    "});\n",
    "\n",
    "/* A = green */\n",
    "$('table').each(function () {\n",
    "    $(this).html($(this).html().replace(/(A)/g, '<span style=\"color: #55a868;\">$1</span>'));\n",
    "});\n",
    "\n",
    "/* C = blue */\n",
    "$('table').each(function () {\n",
    "    $(this).html($(this).html().replace(/(C)/g, '<span style=\"color: #4c72b0;\">$1</span>'));\n",
    "});\n",
    "\n",
    "/* T = red */ \n",
    "$('table').each(function () {\n",
    "    $(this).html($(this).html().replace(/(T)/g, '<span style=\"color: #c44e52;\">U</span>'));\n",
    "});"
   ]
  },
  {
   "cell_type": "code",
   "execution_count": null,
   "metadata": {
    "collapsed": false
   },
   "outputs": [],
   "source": [
    "top_upstream_kmers = kmer_zscores_top['upstream400'].dropna()\n",
    "top_upstream_kmers.to_frame().head()"
   ]
  },
  {
   "cell_type": "code",
   "execution_count": null,
   "metadata": {
    "collapsed": true
   },
   "outputs": [],
   "source": [
    "from Bio import pairwise2"
   ]
  },
  {
   "cell_type": "code",
   "execution_count": null,
   "metadata": {
    "collapsed": true
   },
   "outputs": [],
   "source": [
    "import itertools"
   ]
  },
  {
   "cell_type": "code",
   "execution_count": null,
   "metadata": {
    "collapsed": false
   },
   "outputs": [],
   "source": [
    "alignment = pairwise2.align.localxx('CGACT', 'ATCGA')[0]\n",
    "for x in alignment:\n",
    "    print(x)"
   ]
  },
  {
   "cell_type": "markdown",
   "metadata": {},
   "source": [
    "Output from alignment:\n",
    "\n",
    "    seq1_aligned, seq2_aligned, score, begin, end = alignment"
   ]
  },
  {
   "cell_type": "code",
   "execution_count": null,
   "metadata": {
    "collapsed": false
   },
   "outputs": [],
   "source": [
    "alignment = pairwise2.align.globalxx('CGACT', 'ATCGA')[0]\n",
    "for x in alignment:\n",
    "    print(x)"
   ]
  },
  {
   "cell_type": "code",
   "execution_count": null,
   "metadata": {
    "collapsed": false
   },
   "outputs": [],
   "source": [
    "pairwise2??"
   ]
  },
  {
   "cell_type": "code",
   "execution_count": null,
   "metadata": {
    "collapsed": false
   },
   "outputs": [],
   "source": [
    "alignment_scores = pd.DataFrame(index=top_upstream_kmers.index, columns=top_upstream_kmers.index)\n",
    "\n",
    "for seq1, seq2 in itertools.combinations(top_upstream_kmers.index, 2):\n",
    "    alignment_scores.loc[seq1, seq1] = 1.0\n",
    "    alignment_scores.loc[seq2, seq2] = 1.0\n",
    "    try:\n",
    "        # Get minimum matching\n",
    "        aligned = min(pairwise2.align.localxx(seq1, seq2), key=lambda x: x[2])\n",
    "        seq1_aligned, seq2_aligned, score, begin, end = aligned\n",
    "        distance = length - score\n",
    "    except ValueError:\n",
    "        distance = max(len(seq1), len(seq2))\n",
    "    alignment_scores.loc[seq1, seq2] = score\n",
    "    alignment_scores.loc[seq2, seq1] = score\n",
    "alignment_scores.head()"
   ]
  },
  {
   "cell_type": "code",
   "execution_count": null,
   "metadata": {
    "collapsed": false
   },
   "outputs": [],
   "source": [
    "length- score"
   ]
  },
  {
   "cell_type": "code",
   "execution_count": null,
   "metadata": {
    "collapsed": false
   },
   "outputs": [],
   "source": [
    "alignment_scores_tidy = alignment_scores.unstack().reset_index()\n",
    "alignment_scores_tidy = alignment_scores_tidy.rename(columns={'level_0': \"kmer1\", 'level_1': 'kmer2', \n",
    "                                                              0: 'local_alignment_score'})\n",
    "alignment_scores_tidy.head()"
   ]
  },
  {
   "cell_type": "code",
   "execution_count": null,
   "metadata": {
    "collapsed": false
   },
   "outputs": [],
   "source": [
    "alignment_scores_tidy.shape"
   ]
  },
  {
   "cell_type": "code",
   "execution_count": null,
   "metadata": {
    "collapsed": false
   },
   "outputs": [],
   "source": [
    "alignment_scores_tidy = alignment_scores_tidy.loc[alignment_scores_tidy.local_alignment_score >= 2]\n",
    "print alignment_scores_tidy.shape\n",
    "alignment_scores_tidy.head()"
   ]
  },
  {
   "cell_type": "code",
   "execution_count": null,
   "metadata": {
    "collapsed": false
   },
   "outputs": [],
   "source": [
    "kmer_df = alignment_scores_tidy.groupby('kmer1').get_group('ATCGA')\n",
    "kmer_df.head()"
   ]
  },
  {
   "cell_type": "code",
   "execution_count": null,
   "metadata": {
    "collapsed": true
   },
   "outputs": [],
   "source": []
  },
  {
   "cell_type": "code",
   "execution_count": null,
   "metadata": {
    "collapsed": true
   },
   "outputs": [],
   "source": [
    "from Bio.Align.Applications import ClustalOmegaCommandline"
   ]
  },
  {
   "cell_type": "code",
   "execution_count": null,
   "metadata": {
    "collapsed": true
   },
   "outputs": [],
   "source": [
    "from Bio.Seq import Seq\n",
    "from Bio import AlignIO\n",
    "from Bio.Align.Applications import ClustalOmegaCommandline\n",
    "from Bio.SeqRecord import SeqRecord\n",
    "from Bio.Alphabet import generic_dna\n",
    "from Bio import SeqIO"
   ]
  },
  {
   "cell_type": "code",
   "execution_count": null,
   "metadata": {
    "collapsed": true
   },
   "outputs": [],
   "source": []
  },
  {
   "cell_type": "code",
   "execution_count": null,
   "metadata": {
    "collapsed": true
   },
   "outputs": [],
   "source": [
    "records = kmer_df.kmer2.map(lambda x: SeqRecord(Seq(x, alphabet=generic_dna), id=x, name='', description=''))"
   ]
  },
  {
   "cell_type": "code",
   "execution_count": null,
   "metadata": {
    "collapsed": false
   },
   "outputs": [],
   "source": [
    "fasta = 'kmer2.fasta'\n",
    "with open(fasta, 'w') as f:\n",
    "    SeqIO.write(records, f, 'fasta')"
   ]
  },
  {
   "cell_type": "code",
   "execution_count": null,
   "metadata": {
    "collapsed": false
   },
   "outputs": [],
   "source": [
    "records.iloc[0]"
   ]
  },
  {
   "cell_type": "code",
   "execution_count": null,
   "metadata": {
    "collapsed": false
   },
   "outputs": [],
   "source": [
    "! makeblastdb -in kmer2.fasta -out kmer2 -dbtype nucl -title \"kmer2\" "
   ]
  },
  {
   "cell_type": "code",
   "execution_count": null,
   "metadata": {
    "collapsed": false
   },
   "outputs": [],
   "source": [
    "! blastn -h"
   ]
  },
  {
   "cell_type": "code",
   "execution_count": null,
   "metadata": {
    "collapsed": false,
    "scrolled": false
   },
   "outputs": [],
   "source": [
    "%%bash \n",
    "\n",
    "blastn -db kmer2 -query kmer2.fasta -outfmt 6 -out kmer2.blast.txt -evalue 100\n",
    "head kmer2.blast.txt"
   ]
  },
  {
   "cell_type": "code",
   "execution_count": null,
   "metadata": {
    "collapsed": false
   },
   "outputs": [],
   "source": [
    "! "
   ]
  },
  {
   "cell_type": "code",
   "execution_count": null,
   "metadata": {
    "collapsed": false
   },
   "outputs": [],
   "source": [
    "from Bio import SearchIO"
   ]
  },
  {
   "cell_type": "code",
   "execution_count": null,
   "metadata": {
    "collapsed": true
   },
   "outputs": [],
   "source": [
    "Applications."
   ]
  },
  {
   "cell_type": "code",
   "execution_count": null,
   "metadata": {
    "collapsed": false
   },
   "outputs": [],
   "source": [
    "aligned = 'aligned.fasta'\n",
    "\n",
    "clustalomega_cline = ClustalOmegaCommandline(infile=fasta, outfile=aligned, auto=True, force=True, fulliter=True)\n",
    "stdout, stderr = clustalomega_cline()"
   ]
  },
  {
   "cell_type": "code",
   "execution_count": null,
   "metadata": {
    "collapsed": false
   },
   "outputs": [],
   "source": [
    "guidetree = 'aligned.guidetree'\n",
    "\n",
    "! clustalo --infile $fasta --outfile $aligned --full-iter --force --guidetree-out=$guidetree"
   ]
  },
  {
   "cell_type": "code",
   "execution_count": null,
   "metadata": {
    "collapsed": false
   },
   "outputs": [],
   "source": [
    "! head aligned.tree"
   ]
  },
  {
   "cell_type": "code",
   "execution_count": null,
   "metadata": {
    "collapsed": false
   },
   "outputs": [],
   "source": [
    "with open(aligned) as f:\n",
    "    records_aligned = AlignIO.read(aligned, 'fasta')\n",
    "for record in records_aligned: \n",
    "    print str(record.seq)"
   ]
  },
  {
   "cell_type": "code",
   "execution_count": null,
   "metadata": {
    "collapsed": false,
    "scrolled": false
   },
   "outputs": [],
   "source": [
    "from Bio import Phylo"
   ]
  },
  {
   "cell_type": "code",
   "execution_count": null,
   "metadata": {
    "collapsed": true
   },
   "outputs": [],
   "source": [
    "sns.set(style='ticks', context='paper')"
   ]
  },
  {
   "cell_type": "code",
   "execution_count": null,
   "metadata": {
    "collapsed": false
   },
   "outputs": [],
   "source": [
    "tree = Phylo.read(guidetree, 'newick')\n",
    "tree.ladderize()\n",
    "fig, ax = plt.subplots(figsize=(4, 30))\n",
    "Phylo.draw(tree, axes=ax)\n",
    "sns.despine(fig=fig, bottom=True, left=True)"
   ]
  },
  {
   "cell_type": "code",
   "execution_count": null,
   "metadata": {
    "collapsed": true
   },
   "outputs": [],
   "source": [
    "from Bio.Phylo.Consensus import strict_consensus, majority_consensus, adam_consensus\n",
    "trees = list(Phylo.parse(guidetree, 'newick'))"
   ]
  },
  {
   "cell_type": "code",
   "execution_count": null,
   "metadata": {
    "collapsed": false
   },
   "outputs": [],
   "source": [
    "strict = strict_consensus(trees)\n",
    "strict.ladderize()\n",
    "# fig, ax = plt.subplots(figsize=(4, 30))\n",
    "Phylo.draw(strict)\n",
    "# sns.despine(fig=fig, bottom=True, left=True)"
   ]
  },
  {
   "cell_type": "code",
   "execution_count": null,
   "metadata": {
    "collapsed": false
   },
   "outputs": [],
   "source": [
    "majority = majority_consensus(trees)\n",
    "majority.ladderize()\n",
    "fig, ax = plt.subplots(figsize=(4, 30))\n",
    "Phylo.draw(majority, axes=ax)\n",
    "# sns.despine(fig=fig, bottom=True, left=True)"
   ]
  },
  {
   "cell_type": "code",
   "execution_count": null,
   "metadata": {
    "collapsed": false
   },
   "outputs": [],
   "source": [
    "adam = adam_consensus(trees)\n",
    "adam.ladderize()\n",
    "Phylo.draw(adam)"
   ]
  },
  {
   "cell_type": "code",
   "execution_count": null,
   "metadata": {
    "collapsed": true
   },
   "outputs": [],
   "source": [
    "alignment_scores = alignment_scores.fillna(0)"
   ]
  },
  {
   "cell_type": "code",
   "execution_count": null,
   "metadata": {
    "collapsed": true
   },
   "outputs": [],
   "source": [
    "sns.set(context='paper')"
   ]
  },
  {
   "cell_type": "code",
   "execution_count": null,
   "metadata": {
    "collapsed": false
   },
   "outputs": [],
   "source": [
    "sns.clustermap(alignment_scores, figsize=(25, 25))"
   ]
  },
  {
   "cell_type": "code",
   "execution_count": null,
   "metadata": {
    "collapsed": false
   },
   "outputs": [],
   "source": [
    "sns.clustermap(alignment_scores, metric='euclidean', method='ward', figsize=(30, 30))"
   ]
  },
  {
   "cell_type": "code",
   "execution_count": null,
   "metadata": {
    "collapsed": false
   },
   "outputs": [],
   "source": [
    "sns.clustermap(alignment_scores, metric='cityblock', method='average', \n",
    "               figsize=(30, 30), cmap='BuGn')"
   ]
  },
  {
   "cell_type": "code",
   "execution_count": null,
   "metadata": {
    "collapsed": false
   },
   "outputs": [],
   "source": [
    "kmer_zscores0 = kmer_zscores.dropna(how='all').fillna(0)\n",
    "print(kmer_zscores0.shape)\n",
    "kmer_zscores0.head()"
   ]
  },
  {
   "cell_type": "code",
   "execution_count": null,
   "metadata": {
    "collapsed": false
   },
   "outputs": [],
   "source": [
    "kmer_matrices['downstream400']['foreground']['AGTGCG'].sum()"
   ]
  },
  {
   "cell_type": "code",
   "execution_count": null,
   "metadata": {
    "collapsed": false
   },
   "outputs": [],
   "source": [
    "kmer_matrices['downstream400']['background']['AGTGCG'].sum()"
   ]
  },
  {
   "cell_type": "code",
   "execution_count": null,
   "metadata": {
    "collapsed": false
   },
   "outputs": [],
   "source": [
    "kmer_zscores.describe()"
   ]
  },
  {
   "cell_type": "code",
   "execution_count": null,
   "metadata": {
    "collapsed": false
   },
   "outputs": [],
   "source": [
    "sns.pairplot(kmer_zscores.fillna(0))"
   ]
  },
  {
   "cell_type": "code",
   "execution_count": null,
   "metadata": {
    "collapsed": false
   },
   "outputs": [],
   "source": [
    "g = sns.jointplot('upstream400', 'downstream400', kmer_zscores.fillna(0), size=2.5, \n",
    "              annot_kws=dict(loc='upper right'), color='#262626', alpha=0.5)\n",
    "g.savefig('{}/upstream_vs_downstream_kmer_z_scores.pdf'.format(figure_folder))"
   ]
  },
  {
   "cell_type": "markdown",
   "metadata": {},
   "source": [
    "## Get motif enrichment of kmers"
   ]
  },
  {
   "cell_type": "code",
   "execution_count": null,
   "metadata": {
    "collapsed": true
   },
   "outputs": [],
   "source": [
    "cisbp_folder = '/projects/ps-yeolab/obotvinnik/cisbp_v2'\n",
    "cisbp_kmers = pd.read_csv('{}/kmers_in_cisbp_motifs_thresh05.csv'.format(cisbp_folder), index_col=0)"
   ]
  },
  {
   "cell_type": "code",
   "execution_count": null,
   "metadata": {
    "collapsed": false
   },
   "outputs": [],
   "source": [
    "cisbp_metadata = pd.DataFrame.from_records(list(cisbp_kmers.columns.map(lambda x: x.split('_'))))\n",
    "# cisbp_metadata = cisbp_metadata.replace(None, np.nan)\n",
    "cisbp_metadata.index = cisbp_kmers.columns.map(lambda x: x.split()[0])\n",
    "cisbp_metadata = cisbp_metadata.rename(columns={0:'Motif ID', 1: \"Version\", 2: \"RBP Name\", 3: \"RBP ID\", 4: \"Genus\", 5: \"Species\"})\n",
    "cisbp_metadata['Full Species'] = cisbp_metadata['Genus'] + ' ' + cisbp_metadata['Species']\n",
    "cisbp_metadata.head()"
   ]
  },
  {
   "cell_type": "code",
   "execution_count": null,
   "metadata": {
    "collapsed": true
   },
   "outputs": [],
   "source": [
    "cisbp_metadata.to_csv('{}/cisbp_motif_metadata.csv'.format(cisbp_folder))"
   ]
  },
  {
   "cell_type": "code",
   "execution_count": null,
   "metadata": {
    "collapsed": false
   },
   "outputs": [],
   "source": [
    "from scipy.stats import ttest_1samp\n",
    "\n",
    "# kmer_cisbp_ttest = pd.DataFrame(index=cisbp_kmers.columns, columns=study.supplemental.kmer_scores.columns)\n",
    "\n",
    "lines = []\n",
    "\n",
    "for intron_name, intron_col in kmer_zscores.iteritems():\n",
    "    for cisbp_name, cisbp_kmer in cisbp_kmers.iteritems():\n",
    "#         statistic, p_value = ttest_1samp(intron_col[cisbp_kmer], kmer_means[intron_name])\n",
    "        statistic, p_value = ttest_1samp(intron_col[cisbp_kmer], 0)\n",
    "        lines.append([intron_name, cisbp_name, statistic, p_value])\n",
    "kmer_cisbp_ttest_tidy = pd.DataFrame(lines, columns=['Intron', 'RBP Motif', 'T-Statistic', '$p$-value'])\n",
    "t_statistic = kmer_cisbp_ttest_tidy.pivot(index='RBP Motif', columns='Intron', values='T-Statistic')\n",
    "t_statistic.head()"
   ]
  },
  {
   "cell_type": "code",
   "execution_count": null,
   "metadata": {
    "collapsed": false
   },
   "outputs": [],
   "source": [
    "t_statistic.describe()"
   ]
  },
  {
   "cell_type": "code",
   "execution_count": null,
   "metadata": {
    "collapsed": false
   },
   "outputs": [],
   "source": [
    "t_statistic_top = t_statistic[t_statistic > (t_statistic.mean() + t_statistic.std())].dropna(how='all')\n",
    "print(t_statistic_top.shape)\n",
    "t_statistic_top"
   ]
  },
  {
   "cell_type": "code",
   "execution_count": null,
   "metadata": {
    "collapsed": false
   },
   "outputs": [],
   "source": [
    "sns.pairplot(t_statistic.fillna(0), size=2)"
   ]
  },
  {
   "cell_type": "code",
   "execution_count": null,
   "metadata": {
    "collapsed": false
   },
   "outputs": [],
   "source": [
    "t_statistic.sort_values('downstream400').head(10)"
   ]
  },
  {
   "cell_type": "code",
   "execution_count": null,
   "metadata": {
    "collapsed": false
   },
   "outputs": [],
   "source": [
    "t_statistic.sort_values('downstream400', ascending=False).head(10)"
   ]
  },
  {
   "cell_type": "code",
   "execution_count": null,
   "metadata": {
    "collapsed": false
   },
   "outputs": [],
   "source": [
    "t_statistic.sort_values('upstream400').head(10)"
   ]
  },
  {
   "cell_type": "code",
   "execution_count": null,
   "metadata": {
    "collapsed": false
   },
   "outputs": [],
   "source": [
    "t_statistic.sort_values('upstream400', ascending=False).head(10)"
   ]
  },
  {
   "cell_type": "code",
   "execution_count": null,
   "metadata": {
    "collapsed": false
   },
   "outputs": [],
   "source": [
    "figure_folder"
   ]
  },
  {
   "cell_type": "code",
   "execution_count": null,
   "metadata": {
    "collapsed": false
   },
   "outputs": [],
   "source": [
    "g = sns.jointplot('upstream400', 'downstream400', t_statistic.fillna(0), size=2.5, \n",
    "              annot_kws=dict(loc='lower right'), color='#262626', alpha=0.5)\n",
    "g.savefig('{}/upstream_vs_downstream_cisbp_t_statistics.pdf'.format(figure_folder))"
   ]
  },
  {
   "cell_type": "code",
   "execution_count": null,
   "metadata": {
    "collapsed": true
   },
   "outputs": [],
   "source": [
    "# t_statistic_homo_sapiens = t_statistic.loc[cisbp_metadata['Full Species'] == 'Homo sapiens']\n",
    "# print t_statistic_homo_sapiens.shape\n",
    "# sns.clustermap(t_statistic_homo_sapiens)"
   ]
  }
 ],
 "metadata": {
  "kernelspec": {
   "display_name": "Python 2",
   "language": "python",
   "name": "python2"
  },
  "language_info": {
   "codemirror_mode": {
    "name": "ipython",
    "version": 2
   },
   "file_extension": ".py",
   "mimetype": "text/x-python",
   "name": "python",
   "nbconvert_exporter": "python",
   "pygments_lexer": "ipython2",
   "version": "2.7.11"
  }
 },
 "nbformat": 4,
 "nbformat_minor": 0
}
