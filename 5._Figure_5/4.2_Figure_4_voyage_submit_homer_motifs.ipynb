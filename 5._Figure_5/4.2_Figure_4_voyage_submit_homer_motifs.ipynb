{
 "cells": [
  {
   "cell_type": "code",
   "execution_count": 2,
   "metadata": {
    "collapsed": false
   },
   "outputs": [
    {
     "name": "stdout",
     "output_type": "stream",
     "text": [
      "mkdir: cannot create directory `/projects/ps-yeolab/obotvinnik/singlecell_pnms/figure4_voyages': File exists\n",
      "The autoreload extension is already loaded. To reload it, use:\n",
      "  %reload_ext autoreload\n",
      "2015-12-04 11:34:36\tReading datapackage from /projects/ps-yeolab/obotvinnik/flotilla_projects/singlecell_pnm_figure4_voyages/datapackage.json\n",
      "2015-12-04 11:34:36\tParsing datapackage to create a Study object\n",
      "2015-12-04 11:35:29\tInitializing Study\n",
      "2015-12-04 11:35:29\tInitializing Predictor configuration manager for Study\n",
      "2015-12-04 11:35:29\tPredictor ExtraTreesClassifier is of type <class 'sklearn.ensemble.forest.ExtraTreesClassifier'>\n",
      "2015-12-04 11:35:29\tAdded ExtraTreesClassifier to default predictors\n",
      "2015-12-04 11:35:29\tPredictor ExtraTreesRegressor is of type <class 'sklearn.ensemble.forest.ExtraTreesRegressor'>\n",
      "2015-12-04 11:35:29\tAdded ExtraTreesRegressor to default predictors\n",
      "2015-12-04 11:35:29\tPredictor GradientBoostingClassifier is of type <class 'sklearn.ensemble.gradient_boosting.GradientBoostingClassifier'>\n",
      "2015-12-04 11:35:29\tAdded GradientBoostingClassifier to default predictors\n",
      "2015-12-04 11:35:29\tPredictor GradientBoostingRegressor is of type <class 'sklearn.ensemble.gradient_boosting.GradientBoostingRegressor'>\n",
      "2015-12-04 11:35:29\tAdded GradientBoostingRegressor to default predictors\n",
      "2015-12-04 11:35:34\tBuilding Gene Ontology database...\n",
      "2015-12-04 11:35:43\t\tDone.\n",
      "2015-12-04 11:35:44\tLoading metadata\n",
      "2015-12-04 11:35:44\tLoading expression data\n",
      "2015-12-04 11:35:44\tInitializing expression\n",
      "2015-12-04 11:35:44\tDone initializing expression\n",
      "2015-12-04 11:35:47\tLoading splicing data\n",
      "2015-12-04 11:35:47\tInitializing splicing\n",
      "2015-12-04 11:35:47\tDone initializing splicing\n",
      "2015-12-04 11:35:47\tSuccessfully initialized a Study object!\n"
     ]
    },
    {
     "name": "stderr",
     "output_type": "stream",
     "text": [
      "/home/obotvinnik/workspace-git/flotilla/flotilla/__init__.py:55: DtypeWarning: Columns (11,18,19,20) have mixed types. Specify dtype option on import or set low_memory=False.\n",
      "  load_species_data=load_species_data)\n"
     ]
    }
   ],
   "source": [
    "import modish\n",
    "import matplotlib.pyplot as plt\n",
    "import seaborn as sns\n",
    "import numpy as np\n",
    "import pandas as pd\n",
    "import pybedtools\n",
    "\n",
    "bed_folder = '/projects/ps-yeolab/obotvinnik/singlecell_pnms/figure4_voyages'\n",
    "! mkdir $bed_folder\n",
    "\n",
    "\n",
    "DIR = '/projects/ps-yeolab/obotvinnik/singlecell_pnms'\n",
    "\n",
    "exon_bedfile = '{}/exon2.bed'.format(DIR)\n",
    "exon_bed = pybedtools.BedTool(exon_bedfile)\n",
    "\n",
    "from modish.visualize import MODALITY_TO_COLOR, MODALITY_ORDER, MODALITY_PALETTE\n",
    "modality_order = MODALITY_ORDER\n",
    "\n",
    "sns.set(style='ticks', context='talk', rc={'font.sans-serif':'Arial', 'pdf.fonttype': 42})\n",
    "\n",
    "%matplotlib inline\n",
    "\n",
    "%load_ext autoreload\n",
    "%autoreload 2\n",
    "\n",
    "folder = '/home/obotvinnik/Dropbox/figures2/singlecell_pnm/figure4_voyages'\n",
    "\n",
    "import flotilla\n",
    "\n",
    "flotilla_dir = '/projects/ps-yeolab/obotvinnik/flotilla_projects'\n",
    "study = flotilla.embark('singlecell_pnm_figure4_voyages', flotilla_dir=flotilla_dir)"
   ]
  },
  {
   "cell_type": "markdown",
   "metadata": {},
   "source": [
    "## Filter on big voyages"
   ]
  },
  {
   "cell_type": "code",
   "execution_count": 3,
   "metadata": {
    "collapsed": false
   },
   "outputs": [
    {
     "name": "stdout",
     "output_type": "stream",
     "text": [
      "transition\n",
      "NPC-MN      476\n",
      "iPSC-MN     475\n",
      "iPSC-NPC    917\n",
      "dtype: int64\n"
     ]
    }
   ],
   "source": [
    "voyages_filtered = study.supplemental.voyages.groupby(['transition', 'direction'], as_index=False, group_keys=False).apply(\n",
    "    lambda x: x.loc[x.voyage_distance > x.voyage_distance.quantile(0.8)])\n",
    "\n",
    "# voyages_filtered = study.supplemental.voyages.groupby(['transition', 'direction']).apply(\n",
    "#     lambda x: x.loc[(x[delta_cols].abs() > (x[delta_cols].abs().mean() + 1*x[delta_cols].abs().std())).any(axis=1)])\n",
    "print voyages_filtered.groupby('transition').size()"
   ]
  },
  {
   "cell_type": "code",
   "execution_count": null,
   "metadata": {
    "collapsed": true
   },
   "outputs": [],
   "source": [
    "homer_dir = '{}/homer'.format(bed_folder)\n",
    "!mkdir -p $homer_dir\n"
   ]
  },
  {
   "cell_type": "code",
   "execution_count": 5,
   "metadata": {
    "collapsed": false
   },
   "outputs": [
    {
     "data": {
      "text/html": [
       "<div>\n",
       "<table border=\"1\" class=\"dataframe\">\n",
       "  <thead>\n",
       "    <tr style=\"text-align: right;\">\n",
       "      <th></th>\n",
       "      <th>event_id</th>\n",
       "      <th>$\\Delta x$</th>\n",
       "      <th>$\\Delta y$</th>\n",
       "      <th>voyage_distance</th>\n",
       "      <th>group1</th>\n",
       "      <th>group2</th>\n",
       "      <th>direction</th>\n",
       "      <th>transition</th>\n",
       "    </tr>\n",
       "  </thead>\n",
       "  <tbody>\n",
       "    <tr>\n",
       "      <th>0</th>\n",
       "      <td>exon:chr10:102114184-102114389:+@exon:chr10:10...</td>\n",
       "      <td>0.053571</td>\n",
       "      <td>-0.054198</td>\n",
       "      <td>0.076206</td>\n",
       "      <td>iPSC</td>\n",
       "      <td>NPC</td>\n",
       "      <td>$\\searrow$</td>\n",
       "      <td>iPSC-NPC</td>\n",
       "    </tr>\n",
       "    <tr>\n",
       "      <th>1</th>\n",
       "      <td>exon:chr10:102286732-102286831:-@exon:chr10:10...</td>\n",
       "      <td>0.000000</td>\n",
       "      <td>0.000000</td>\n",
       "      <td>0.000000</td>\n",
       "      <td>iPSC</td>\n",
       "      <td>NPC</td>\n",
       "      <td>$\\swarrow$</td>\n",
       "      <td>iPSC-NPC</td>\n",
       "    </tr>\n",
       "    <tr>\n",
       "      <th>2</th>\n",
       "      <td>exon:chr10:102747070-102747190:-@exon:chr10:10...</td>\n",
       "      <td>0.004480</td>\n",
       "      <td>-0.004480</td>\n",
       "      <td>0.006336</td>\n",
       "      <td>iPSC</td>\n",
       "      <td>NPC</td>\n",
       "      <td>$\\searrow$</td>\n",
       "      <td>iPSC-NPC</td>\n",
       "    </tr>\n",
       "    <tr>\n",
       "      <th>3</th>\n",
       "      <td>exon:chr10:103348089-103348157:+@exon:chr10:10...</td>\n",
       "      <td>0.000000</td>\n",
       "      <td>-0.027778</td>\n",
       "      <td>0.027778</td>\n",
       "      <td>iPSC</td>\n",
       "      <td>NPC</td>\n",
       "      <td>$\\swarrow$</td>\n",
       "      <td>iPSC-NPC</td>\n",
       "    </tr>\n",
       "    <tr>\n",
       "      <th>4</th>\n",
       "      <td>exon:chr10:103360960-103361093:+@exon:chr10:10...</td>\n",
       "      <td>-0.056306</td>\n",
       "      <td>0.055556</td>\n",
       "      <td>0.079100</td>\n",
       "      <td>iPSC</td>\n",
       "      <td>NPC</td>\n",
       "      <td>$\\nwarrow$</td>\n",
       "      <td>iPSC-NPC</td>\n",
       "    </tr>\n",
       "  </tbody>\n",
       "</table>\n",
       "</div>"
      ],
      "text/plain": [
       "                                            event_id  $\\Delta x$  $\\Delta y$  \\\n",
       "0  exon:chr10:102114184-102114389:+@exon:chr10:10...    0.053571   -0.054198   \n",
       "1  exon:chr10:102286732-102286831:-@exon:chr10:10...    0.000000    0.000000   \n",
       "2  exon:chr10:102747070-102747190:-@exon:chr10:10...    0.004480   -0.004480   \n",
       "3  exon:chr10:103348089-103348157:+@exon:chr10:10...    0.000000   -0.027778   \n",
       "4  exon:chr10:103360960-103361093:+@exon:chr10:10...   -0.056306    0.055556   \n",
       "\n",
       "   voyage_distance group1 group2   direction transition  \n",
       "0         0.076206   iPSC    NPC  $\\searrow$   iPSC-NPC  \n",
       "1         0.000000   iPSC    NPC  $\\swarrow$   iPSC-NPC  \n",
       "2         0.006336   iPSC    NPC  $\\searrow$   iPSC-NPC  \n",
       "3         0.027778   iPSC    NPC  $\\swarrow$   iPSC-NPC  \n",
       "4         0.079100   iPSC    NPC  $\\nwarrow$   iPSC-NPC  "
      ]
     },
     "execution_count": 5,
     "metadata": {},
     "output_type": "execute_result"
    }
   ],
   "source": [
    "study.supplemental.voyages.head()"
   ]
  },
  {
   "cell_type": "code",
   "execution_count": null,
   "metadata": {
    "collapsed": false
   },
   "outputs": [],
   "source": [
    "import os\n",
    "import pybedtools\n",
    "\n",
    "DIRECTIONS = 'upstream', 'downstream'\n",
    "\n",
    "commands = []\n",
    "\n",
    "findMotifsGenome = '/home/yeo-lab/software/homer/bin/findMotifsGenome.pl'\n",
    "n_processors = 4\n",
    "homer_flags = '-rna -len 4,5,6 -mset vertebrates -mis 0 -p {} -noweight'.format(n_processors)\n",
    "                                                                                \n",
    "primate_filename = '/projects/ps-yeolab/genomes/hg19/database/phastConsElements46wayPrimates.bed'\n",
    "primate = pybedtools.BedTool(primate_filename)\n",
    "placental_filename = '/projects/ps-yeolab/genomes/hg19/database/phastConsElements46wayPlacental.bed'\n",
    "placental = pybedtools.BedTool(placental_filename)\n",
    "conserved_regions = {'primate': primate, 'placental': placental}\n",
    "\n",
    "genome = 'hg19'\n",
    "\n",
    "nt = 400\n",
    "\n",
    "def filter_and_save(original_bed, names, filename):\n",
    "    filtered_bed = original_bed.filter(lambda x: x.name in names)\n",
    "    return filtered_bed.saveas(filename)\n",
    "\n",
    "transition_grouped = study.supplemental.voyages.groupby(['transition'])\n",
    "\n",
    "for transition, transition_df in voyages_filtered.groupby('transition'):\n",
    "    transition_events = set(transition_df.event_id)\n",
    "    for direction, direction_df in transition_df.groupby('direction'):\n",
    "    \n",
    "        foreground_events = set(direction_df.event_id)\n",
    "        format_args = bed_folder, transition, direction.strip('$\\\\')\n",
    "    #     print format_args\n",
    "        foreground_filename = '{}/exon2_{}_{}_foreground.bed'.format(*format_args)\n",
    "        filter_and_save(exon_bed, foreground_events, foreground_filename)\n",
    "        ! wc -l $filtered_filename\n",
    "\n",
    "        background_events = transition_events - foreground_events\n",
    "        background_filename = '{}/exon2_{}_{}_background.bed'.format(*format_args)\n",
    "        filter_and_save(exon_bed, background_events, background_filename)\n",
    "        ! wc -l $filtered_filename\n",
    "    \n",
    "        pair = pyhomer.ForegroundBackgroundPair(foreground_filename, background_filename, genome='hg19')\n",
    "        \n",
    "        for clade, conservation_bed in conserved_regions.items():\n",
    "            conserved_pair = pair.intersect(conservation_bed, clade)\n",
    "            print '\\n', conserved_pair\n",
    "            suffix = os.path.basename(conserved_pair.foreground.fn).replace('_foreground.bed', '')\n",
    "            out_dir = '{base_dir}/{suffix}'.format(base_dir=homer_dir, suffix=suffix)\n",
    "            \n",
    "            # Add search for motifs in conserved exon bodies\n",
    "            command = pair.homer(homer_flags, findMotifsGenome, out_dir=out_dir)\n",
    "            commands.append(command)\n",
    "        \n",
    "        for direction in DIRECTIONS:\n",
    "            intron_pair = pair.flanking_intron('downstream', 'hg19', 400)\n",
    "            print '\\n', intron_pair\n",
    "            suffix = os.path.basename(intron_pair.foreground.fn).replace('_foreground.bed', '')\n",
    "            out_dir = '{base_dir}/{suffix}'.format(base_dir=homer_dir, suffix=suffix)\n",
    "\n",
    "            for clade, conservation_bed in conserved_regions.items():\n",
    "                conserved_introns = intron_pair.intersect(conservation_bed, clade)\n",
    "                print '\\n', conserved_introns\n",
    "                suffix = os.path.basename(conserved_introns.foreground.fn).replace('_foreground.bed', '')\n",
    "                out_dir = '{base_dir}/{suffix}'.format(base_dir=homer_dir, suffix=suffix)\n",
    "                \n",
    "                # Add search for motifs in conserved introns\n",
    "                command = pair.homer(homer_flags, findMotifsGenome, out_dir=out_dir)\n",
    "                commands.append(command)\n",
    "                                                                                \n",
    "# for phenotype, phenotype_df in study.supplemental.modalities_tidy.groupby('phenotype'):\n",
    "#     background_events = set(phenotype_df.event_name)\n",
    "#     for modality, modality_df in phenotype_df.groupby('modality'):\n",
    "#         event_names = set(modality_df.event_name)\n",
    "#         format_args = bed_folder, phenotype, modality\n",
    "#         foreground_bed = exon_bed.filter(lambda x: x.name in event_names)\n",
    "#         foreground_filename = '{}/exon2_{}_{}_foreground.bed'.format(*format_args)\n",
    "#         foreground = pybedtools.BedTool(foreground_bed.saveas(foreground_filename))\n",
    "\n",
    "#         background_bed = exon_bed.filter(lambda x: x.name not in event_names and x.name in background_events)\n",
    "#         background_filename = '{}/exon2_{}_{}_background.bed'.format(*format_args)\n",
    "#         background = pybedtools.BedTool(background_bed.saveas(background_filename))\n",
    "        \n",
    "#         pair = pyhomer.ForegroundBackgroundPair(foreground, background)\n",
    "#         print '\\n', pair \n",
    "        \n",
    "#         suffix = os.path.basename(pair.foreground.fn).replace('_foreground.bed', '')\n",
    "#         out_dir = '{base_dir}/{suffix}'.format(base_dir=homer_dir, suffix=suffix)\n",
    "# #         command = pair.homer(homer_flags, findMotifsGenome, out_dir=out_dir)\n",
    "# #         commands.append(command)\n",
    "\n",
    "#         beds = {'background': background_bed, 'foreground': foreground_bed}\n",
    "        \n",
    "#         for clade, conservation_bed in conserved_regions.items():\n",
    "#             conserved_pair = pair.intersect(conservation_bed, clade)\n",
    "#             print '\\n', conserved_pair\n",
    "#             suffix = os.path.basename(conserved_pair.foreground.fn).replace('_foreground.bed', '')\n",
    "#             out_dir = '{base_dir}/{suffix}'.format(base_dir=homer_dir, suffix=suffix)\n",
    "#             command = pair.homer(homer_flags, findMotifsGenome, out_dir=out_dir)\n",
    "#             commands.append(command)\n",
    "        \n",
    "#         for direction in DIRECTIONS:\n",
    "#             intron_pair = pair.flanking_intron('downstream', 'hg19', 400)\n",
    "#             print '\\n', intron_pair\n",
    "#             suffix = os.path.basename(intron_pair.foreground.fn).replace('_foreground.bed', '')\n",
    "#             out_dir = '{base_dir}/{suffix}'.format(base_dir=homer_dir, suffix=suffix)\n",
    "# #             command = pair.homer(homer_flags, findMotifsGenome, out_dir=out_dir)\n",
    "# #             commands.append(command)\n",
    "\n",
    "#             for clade, conservation_bed in conserved_regions.items():\n",
    "#                 conserved_introns = intron_pair.intersect(conservation_bed, clade)\n",
    "#                 print '\\n', conserved_introns\n",
    "#                 suffix = os.path.basename(conserved_introns.foreground.fn).replace('_foreground.bed', '')\n",
    "#                 out_dir = '{base_dir}/{suffix}'.format(base_dir=homer_dir, suffix=suffix)\n",
    "#                 command = pair.homer(homer_flags, findMotifsGenome, out_dir=out_dir)\n",
    "#                 commands.append(command)"
   ]
  },
  {
   "cell_type": "markdown",
   "metadata": {},
   "source": [
    "## Make bed files"
   ]
  },
  {
   "cell_type": "code",
   "execution_count": null,
   "metadata": {
    "collapsed": false
   },
   "outputs": [],
   "source": [
    "%%time\n",
    "\n",
    "def filter_and_save(original_bed, names, filename):\n",
    "    filtered_bed = original_bed.filter(lambda x: x.name in names)\n",
    "    return filtered_bed.saveas(filename)\n",
    "\n",
    "transition_grouped = study.supplemental.voyages.groupby(['transition'])\n",
    "\n",
    "for (transition, direction), df in voyages_filtered.groupby(['transition', 'direction']):\n",
    "    \n",
    "    foreground_events = set(df.event_id)\n",
    "    format_args = bed_folder, transition, direction.strip('$\\\\')\n",
    "#     print format_args\n",
    "    filtered_filename = '{}/exon2_{}_{}.bed'.format(*format_args)\n",
    "    filter_and_save(exon_bed, foreground_events, filtered_filename)\n",
    "    ! wc -l $filtered_filename\n",
    "    \n",
    "    background_df = transition_grouped.get_group(transition)\n",
    "    background_events = set(background_df.event_id) - foreground_events\n",
    "    filtered_filename = '{}/exon2_{}_{}_background.bed'.format(*format_args)\n",
    "    filter_and_save(exon_bed, background_events, filtered_filename)\n",
    "    ! wc -l $filtered_filename\n"
   ]
  },
  {
   "cell_type": "code",
   "execution_count": null,
   "metadata": {
    "collapsed": true
   },
   "outputs": [],
   "source": [
    "homer_dir = '{}/homer'.format(bed_folder)\n",
    "!mkdir -p $homer_dir"
   ]
  },
  {
   "cell_type": "markdown",
   "metadata": {},
   "source": [
    "### Get upstream/downstream sequences"
   ]
  },
  {
   "cell_type": "code",
   "execution_count": null,
   "metadata": {
    "collapsed": false
   },
   "outputs": [],
   "source": [
    "import os\n",
    "import glob\n",
    "import pybedtools\n",
    "\n",
    "nt = 400\n",
    "\n",
    "directions = 'upstream', 'downstream'\n",
    "\n",
    "for bedfile in glob.iglob('{}/exon2*.bed'.format(bed_folder)):\n",
    "    if 'stream' in bedfile:\n",
    "        continue\n",
    "    \n",
    "    basename = os.path.basename(bedfile)\n",
    "    print basename\n",
    "    prefix = basename.split('.bed')[0]\n",
    "    bed = pybedtools.BedTool(bedfile)\n",
    "    \n",
    "    for direction in directions:\n",
    "        # Get downstream intron\n",
    "        if direction == 'downstream':\n",
    "            intron = bed.flank(l=0, r=nt, s=True, g=pybedtools.chromsizes('hg19'))\n",
    "        elif direction == 'upstream':\n",
    "            intron = bed.flank(l=nt, r=0, s=True, g=pybedtools.chromsizes('hg19'))\n",
    "            \n",
    "        # Saved every exon that was exactly upstream or downstream of a junction,\n",
    "        # So when taking the flanking sequence, there's a lot of repetition\n",
    "        unique = pybedtools.BedTool(list(set(x for x in intron)))\n",
    "\n",
    "\n",
    "        print '\\t', len(intron), len(unique)\n",
    "        saveas = '{}/{}_{}{}.bed'.format(bed_folder, prefix, direction, nt)\n",
    "        print '\\t', saveas\n",
    "        unique.saveas(saveas)\n",
    "        ! wc -l $saveas"
   ]
  },
  {
   "cell_type": "code",
   "execution_count": 6,
   "metadata": {
    "collapsed": false
   },
   "outputs": [
    {
     "name": "stdout",
     "output_type": "stream",
     "text": [
      "/projects/ps-yeolab/obotvinnik/singlecell_pnms/figure4_voyages/homer\n"
     ]
    }
   ],
   "source": [
    "cd $homer_dir"
   ]
  },
  {
   "cell_type": "code",
   "execution_count": 7,
   "metadata": {
    "collapsed": false
   },
   "outputs": [
    {
     "name": "stderr",
     "output_type": "stream",
     "text": [
      "running 60 tasks as an array-job.\n",
      "job ID: 3798110\n"
     ]
    },
    {
     "name": "stdout",
     "output_type": "stream",
     "text": [
      "\n",
      "/home/yeo-lab/software/homer/bin/findMotifsGenome.pl /projects/ps-yeolab/obotvinnik/singlecell_pnms/figure4_voyages/exon2_iPSC-NPC_swarrow.bed hg19 /projects/ps-yeolab/obotvinnik/singlecell_pnms/figure4_voyages/homer/exon2_iPSC-NPC_swarrow -bg /projects/ps-yeolab/obotvinnik/singlecell_pnms/figure4_voyages/exon2_iPSC-NPC_swarrow_background.bed -rna -len 4,5,6 -mset vertebrates -mis 0 -p 4\n",
      "\n",
      "/home/yeo-lab/software/homer/bin/findMotifsGenome.pl /projects/ps-yeolab/obotvinnik/singlecell_pnms/figure4_voyages/exon2_NPC-MN_nwarrow_upstream200.bed hg19 /projects/ps-yeolab/obotvinnik/singlecell_pnms/figure4_voyages/homer/exon2_NPC-MN_nwarrow_upstream200 -bg /projects/ps-yeolab/obotvinnik/singlecell_pnms/figure4_voyages/exon2_NPC-MN_nwarrow_background_upstream200.bed -rna -len 4,5,6 -mset vertebrates -mis 0 -p 4\n",
      "\n",
      "/home/yeo-lab/software/homer/bin/findMotifsGenome.pl /projects/ps-yeolab/obotvinnik/singlecell_pnms/figure4_voyages/exon2_NPC-MN_swarrow_downstream400.bed hg19 /projects/ps-yeolab/obotvinnik/singlecell_pnms/figure4_voyages/homer/exon2_NPC-MN_swarrow_downstream400 -bg /projects/ps-yeolab/obotvinnik/singlecell_pnms/figure4_voyages/exon2_NPC-MN_swarrow_background_downstream400.bed -rna -len 4,5,6 -mset vertebrates -mis 0 -p 4\n",
      "\n",
      "/home/yeo-lab/software/homer/bin/findMotifsGenome.pl /projects/ps-yeolab/obotvinnik/singlecell_pnms/figure4_voyages/exon2_iPSC-NPC_searrow_upstream400.bed hg19 /projects/ps-yeolab/obotvinnik/singlecell_pnms/figure4_voyages/homer/exon2_iPSC-NPC_searrow_upstream400 -bg /projects/ps-yeolab/obotvinnik/singlecell_pnms/figure4_voyages/exon2_iPSC-NPC_searrow_background_upstream400.bed -rna -len 4,5,6 -mset vertebrates -mis 0 -p 4\n",
      "\n",
      "/home/yeo-lab/software/homer/bin/findMotifsGenome.pl /projects/ps-yeolab/obotvinnik/singlecell_pnms/figure4_voyages/exon2_iPSC-NPC_swarrow_downstream200.bed hg19 /projects/ps-yeolab/obotvinnik/singlecell_pnms/figure4_voyages/homer/exon2_iPSC-NPC_swarrow_downstream200 -bg /projects/ps-yeolab/obotvinnik/singlecell_pnms/figure4_voyages/exon2_iPSC-NPC_swarrow_background_downstream200.bed -rna -len 4,5,6 -mset vertebrates -mis 0 -p 4\n",
      "\n",
      "/home/yeo-lab/software/homer/bin/findMotifsGenome.pl /projects/ps-yeolab/obotvinnik/singlecell_pnms/figure4_voyages/exon2_iPSC-MN_searrow_downstream400.bed hg19 /projects/ps-yeolab/obotvinnik/singlecell_pnms/figure4_voyages/homer/exon2_iPSC-MN_searrow_downstream400 -bg /projects/ps-yeolab/obotvinnik/singlecell_pnms/figure4_voyages/exon2_iPSC-MN_searrow_background_downstream400.bed -rna -len 4,5,6 -mset vertebrates -mis 0 -p 4\n",
      "\n",
      "/home/yeo-lab/software/homer/bin/findMotifsGenome.pl /projects/ps-yeolab/obotvinnik/singlecell_pnms/figure4_voyages/exon2_iPSC-NPC_nearrow.bed hg19 /projects/ps-yeolab/obotvinnik/singlecell_pnms/figure4_voyages/homer/exon2_iPSC-NPC_nearrow -bg /projects/ps-yeolab/obotvinnik/singlecell_pnms/figure4_voyages/exon2_iPSC-NPC_nearrow_background.bed -rna -len 4,5,6 -mset vertebrates -mis 0 -p 4\n",
      "\n",
      "/home/yeo-lab/software/homer/bin/findMotifsGenome.pl /projects/ps-yeolab/obotvinnik/singlecell_pnms/figure4_voyages/exon2_NPC-MN_nearrow_downstream400.bed hg19 /projects/ps-yeolab/obotvinnik/singlecell_pnms/figure4_voyages/homer/exon2_NPC-MN_nearrow_downstream400 -bg /projects/ps-yeolab/obotvinnik/singlecell_pnms/figure4_voyages/exon2_NPC-MN_nearrow_background_downstream400.bed -rna -len 4,5,6 -mset vertebrates -mis 0 -p 4\n",
      "\n",
      "/home/yeo-lab/software/homer/bin/findMotifsGenome.pl /projects/ps-yeolab/obotvinnik/singlecell_pnms/figure4_voyages/exon2_iPSC-MN_nwarrow_downstream400.bed hg19 /projects/ps-yeolab/obotvinnik/singlecell_pnms/figure4_voyages/homer/exon2_iPSC-MN_nwarrow_downstream400 -bg /projects/ps-yeolab/obotvinnik/singlecell_pnms/figure4_voyages/exon2_iPSC-MN_nwarrow_background_downstream400.bed -rna -len 4,5,6 -mset vertebrates -mis 0 -p 4\n",
      "\n",
      "/home/yeo-lab/software/homer/bin/findMotifsGenome.pl /projects/ps-yeolab/obotvinnik/singlecell_pnms/figure4_voyages/exon2_iPSC-NPC_nearrow_downstream200.bed hg19 /projects/ps-yeolab/obotvinnik/singlecell_pnms/figure4_voyages/homer/exon2_iPSC-NPC_nearrow_downstream200 -bg /projects/ps-yeolab/obotvinnik/singlecell_pnms/figure4_voyages/exon2_iPSC-NPC_nearrow_background_downstream200.bed -rna -len 4,5,6 -mset vertebrates -mis 0 -p 4\n",
      "\n",
      "/home/yeo-lab/software/homer/bin/findMotifsGenome.pl /projects/ps-yeolab/obotvinnik/singlecell_pnms/figure4_voyages/exon2_iPSC-MN_searrow_upstream200.bed hg19 /projects/ps-yeolab/obotvinnik/singlecell_pnms/figure4_voyages/homer/exon2_iPSC-MN_searrow_upstream200 -bg /projects/ps-yeolab/obotvinnik/singlecell_pnms/figure4_voyages/exon2_iPSC-MN_searrow_background_upstream200.bed -rna -len 4,5,6 -mset vertebrates -mis 0 -p 4\n",
      "\n",
      "/home/yeo-lab/software/homer/bin/findMotifsGenome.pl /projects/ps-yeolab/obotvinnik/singlecell_pnms/figure4_voyages/exon2_NPC-MN_searrow_downstream200.bed hg19 /projects/ps-yeolab/obotvinnik/singlecell_pnms/figure4_voyages/homer/exon2_NPC-MN_searrow_downstream200 -bg /projects/ps-yeolab/obotvinnik/singlecell_pnms/figure4_voyages/exon2_NPC-MN_searrow_background_downstream200.bed -rna -len 4,5,6 -mset vertebrates -mis 0 -p 4\n",
      "\n",
      "/home/yeo-lab/software/homer/bin/findMotifsGenome.pl /projects/ps-yeolab/obotvinnik/singlecell_pnms/figure4_voyages/exon2_iPSC-NPC_searrow_downstream400.bed hg19 /projects/ps-yeolab/obotvinnik/singlecell_pnms/figure4_voyages/homer/exon2_iPSC-NPC_searrow_downstream400 -bg /projects/ps-yeolab/obotvinnik/singlecell_pnms/figure4_voyages/exon2_iPSC-NPC_searrow_background_downstream400.bed -rna -len 4,5,6 -mset vertebrates -mis 0 -p 4\n",
      "\n",
      "/home/yeo-lab/software/homer/bin/findMotifsGenome.pl /projects/ps-yeolab/obotvinnik/singlecell_pnms/figure4_voyages/exon2_iPSC-MN_swarrow_downstream200.bed hg19 /projects/ps-yeolab/obotvinnik/singlecell_pnms/figure4_voyages/homer/exon2_iPSC-MN_swarrow_downstream200 -bg /projects/ps-yeolab/obotvinnik/singlecell_pnms/figure4_voyages/exon2_iPSC-MN_swarrow_background_downstream200.bed -rna -len 4,5,6 -mset vertebrates -mis 0 -p 4\n",
      "\n",
      "/home/yeo-lab/software/homer/bin/findMotifsGenome.pl /projects/ps-yeolab/obotvinnik/singlecell_pnms/figure4_voyages/exon2_iPSC-MN_nearrow_upstream400.bed hg19 /projects/ps-yeolab/obotvinnik/singlecell_pnms/figure4_voyages/homer/exon2_iPSC-MN_nearrow_upstream400 -bg /projects/ps-yeolab/obotvinnik/singlecell_pnms/figure4_voyages/exon2_iPSC-MN_nearrow_background_upstream400.bed -rna -len 4,5,6 -mset vertebrates -mis 0 -p 4\n",
      "\n",
      "/home/yeo-lab/software/homer/bin/findMotifsGenome.pl /projects/ps-yeolab/obotvinnik/singlecell_pnms/figure4_voyages/exon2_NPC-MN_nwarrow_downstream200.bed hg19 /projects/ps-yeolab/obotvinnik/singlecell_pnms/figure4_voyages/homer/exon2_NPC-MN_nwarrow_downstream200 -bg /projects/ps-yeolab/obotvinnik/singlecell_pnms/figure4_voyages/exon2_NPC-MN_nwarrow_background_downstream200.bed -rna -len 4,5,6 -mset vertebrates -mis 0 -p 4\n",
      "\n",
      "/home/yeo-lab/software/homer/bin/findMotifsGenome.pl /projects/ps-yeolab/obotvinnik/singlecell_pnms/figure4_voyages/exon2_iPSC-MN_nearrow_downstream200.bed hg19 /projects/ps-yeolab/obotvinnik/singlecell_pnms/figure4_voyages/homer/exon2_iPSC-MN_nearrow_downstream200 -bg /projects/ps-yeolab/obotvinnik/singlecell_pnms/figure4_voyages/exon2_iPSC-MN_nearrow_background_downstream200.bed -rna -len 4,5,6 -mset vertebrates -mis 0 -p 4\n",
      "\n",
      "/home/yeo-lab/software/homer/bin/findMotifsGenome.pl /projects/ps-yeolab/obotvinnik/singlecell_pnms/figure4_voyages/exon2_iPSC-NPC_nwarrow_downstream400.bed hg19 /projects/ps-yeolab/obotvinnik/singlecell_pnms/figure4_voyages/homer/exon2_iPSC-NPC_nwarrow_downstream400 -bg /projects/ps-yeolab/obotvinnik/singlecell_pnms/figure4_voyages/exon2_iPSC-NPC_nwarrow_background_downstream400.bed -rna -len 4,5,6 -mset vertebrates -mis 0 -p 4\n",
      "\n",
      "/home/yeo-lab/software/homer/bin/findMotifsGenome.pl /projects/ps-yeolab/obotvinnik/singlecell_pnms/figure4_voyages/exon2_iPSC-NPC_nearrow_upstream200.bed hg19 /projects/ps-yeolab/obotvinnik/singlecell_pnms/figure4_voyages/homer/exon2_iPSC-NPC_nearrow_upstream200 -bg /projects/ps-yeolab/obotvinnik/singlecell_pnms/figure4_voyages/exon2_iPSC-NPC_nearrow_background_upstream200.bed -rna -len 4,5,6 -mset vertebrates -mis 0 -p 4\n",
      "\n",
      "/home/yeo-lab/software/homer/bin/findMotifsGenome.pl /projects/ps-yeolab/obotvinnik/singlecell_pnms/figure4_voyages/exon2_NPC-MN_swarrow_upstream400.bed hg19 /projects/ps-yeolab/obotvinnik/singlecell_pnms/figure4_voyages/homer/exon2_NPC-MN_swarrow_upstream400 -bg /projects/ps-yeolab/obotvinnik/singlecell_pnms/figure4_voyages/exon2_NPC-MN_swarrow_background_upstream400.bed -rna -len 4,5,6 -mset vertebrates -mis 0 -p 4\n",
      "\n",
      "/home/yeo-lab/software/homer/bin/findMotifsGenome.pl /projects/ps-yeolab/obotvinnik/singlecell_pnms/figure4_voyages/exon2_iPSC-MN_nearrow.bed hg19 /projects/ps-yeolab/obotvinnik/singlecell_pnms/figure4_voyages/homer/exon2_iPSC-MN_nearrow -bg /projects/ps-yeolab/obotvinnik/singlecell_pnms/figure4_voyages/exon2_iPSC-MN_nearrow_background.bed -rna -len 4,5,6 -mset vertebrates -mis 0 -p 4\n",
      "\n",
      "/home/yeo-lab/software/homer/bin/findMotifsGenome.pl /projects/ps-yeolab/obotvinnik/singlecell_pnms/figure4_voyages/exon2_iPSC-NPC_nwarrow_upstream400.bed hg19 /projects/ps-yeolab/obotvinnik/singlecell_pnms/figure4_voyages/homer/exon2_iPSC-NPC_nwarrow_upstream400 -bg /projects/ps-yeolab/obotvinnik/singlecell_pnms/figure4_voyages/exon2_iPSC-NPC_nwarrow_background_upstream400.bed -rna -len 4,5,6 -mset vertebrates -mis 0 -p 4\n",
      "\n",
      "/home/yeo-lab/software/homer/bin/findMotifsGenome.pl /projects/ps-yeolab/obotvinnik/singlecell_pnms/figure4_voyages/exon2_NPC-MN_searrow_upstream200.bed hg19 /projects/ps-yeolab/obotvinnik/singlecell_pnms/figure4_voyages/homer/exon2_NPC-MN_searrow_upstream200 -bg /projects/ps-yeolab/obotvinnik/singlecell_pnms/figure4_voyages/exon2_NPC-MN_searrow_background_upstream200.bed -rna -len 4,5,6 -mset vertebrates -mis 0 -p 4\n",
      "\n",
      "/home/yeo-lab/software/homer/bin/findMotifsGenome.pl /projects/ps-yeolab/obotvinnik/singlecell_pnms/figure4_voyages/exon2_iPSC-MN_swarrow.bed hg19 /projects/ps-yeolab/obotvinnik/singlecell_pnms/figure4_voyages/homer/exon2_iPSC-MN_swarrow -bg /projects/ps-yeolab/obotvinnik/singlecell_pnms/figure4_voyages/exon2_iPSC-MN_swarrow_background.bed -rna -len 4,5,6 -mset vertebrates -mis 0 -p 4\n",
      "\n",
      "/home/yeo-lab/software/homer/bin/findMotifsGenome.pl /projects/ps-yeolab/obotvinnik/singlecell_pnms/figure4_voyages/exon2_iPSC-MN_nwarrow_upstream200.bed hg19 /projects/ps-yeolab/obotvinnik/singlecell_pnms/figure4_voyages/homer/exon2_iPSC-MN_nwarrow_upstream200 -bg /projects/ps-yeolab/obotvinnik/singlecell_pnms/figure4_voyages/exon2_iPSC-MN_nwarrow_background_upstream200.bed -rna -len 4,5,6 -mset vertebrates -mis 0 -p 4\n",
      "\n",
      "/home/yeo-lab/software/homer/bin/findMotifsGenome.pl /projects/ps-yeolab/obotvinnik/singlecell_pnms/figure4_voyages/exon2_iPSC-MN_swarrow_upstream400.bed hg19 /projects/ps-yeolab/obotvinnik/singlecell_pnms/figure4_voyages/homer/exon2_iPSC-MN_swarrow_upstream400 -bg /projects/ps-yeolab/obotvinnik/singlecell_pnms/figure4_voyages/exon2_iPSC-MN_swarrow_background_upstream400.bed -rna -len 4,5,6 -mset vertebrates -mis 0 -p 4\n",
      "\n",
      "/home/yeo-lab/software/homer/bin/findMotifsGenome.pl /projects/ps-yeolab/obotvinnik/singlecell_pnms/figure4_voyages/exon2_NPC-MN_searrow.bed hg19 /projects/ps-yeolab/obotvinnik/singlecell_pnms/figure4_voyages/homer/exon2_NPC-MN_searrow -bg /projects/ps-yeolab/obotvinnik/singlecell_pnms/figure4_voyages/exon2_NPC-MN_searrow_background.bed -rna -len 4,5,6 -mset vertebrates -mis 0 -p 4\n",
      "\n",
      "/home/yeo-lab/software/homer/bin/findMotifsGenome.pl /projects/ps-yeolab/obotvinnik/singlecell_pnms/figure4_voyages/exon2_NPC-MN_nwarrow.bed hg19 /projects/ps-yeolab/obotvinnik/singlecell_pnms/figure4_voyages/homer/exon2_NPC-MN_nwarrow -bg /projects/ps-yeolab/obotvinnik/singlecell_pnms/figure4_voyages/exon2_NPC-MN_nwarrow_background.bed -rna -len 4,5,6 -mset vertebrates -mis 0 -p 4\n",
      "\n",
      "/home/yeo-lab/software/homer/bin/findMotifsGenome.pl /projects/ps-yeolab/obotvinnik/singlecell_pnms/figure4_voyages/exon2_NPC-MN_nearrow_upstream400.bed hg19 /projects/ps-yeolab/obotvinnik/singlecell_pnms/figure4_voyages/homer/exon2_NPC-MN_nearrow_upstream400 -bg /projects/ps-yeolab/obotvinnik/singlecell_pnms/figure4_voyages/exon2_NPC-MN_nearrow_background_upstream400.bed -rna -len 4,5,6 -mset vertebrates -mis 0 -p 4\n",
      "\n",
      "/home/yeo-lab/software/homer/bin/findMotifsGenome.pl /projects/ps-yeolab/obotvinnik/singlecell_pnms/figure4_voyages/exon2_iPSC-NPC_swarrow_upstream200.bed hg19 /projects/ps-yeolab/obotvinnik/singlecell_pnms/figure4_voyages/homer/exon2_iPSC-NPC_swarrow_upstream200 -bg /projects/ps-yeolab/obotvinnik/singlecell_pnms/figure4_voyages/exon2_iPSC-NPC_swarrow_background_upstream200.bed -rna -len 4,5,6 -mset vertebrates -mis 0 -p 4\n",
      "\n",
      "/home/yeo-lab/software/homer/bin/findMotifsGenome.pl /projects/ps-yeolab/obotvinnik/singlecell_pnms/figure4_voyages/exon2_NPC-MN_searrow_upstream400.bed hg19 /projects/ps-yeolab/obotvinnik/singlecell_pnms/figure4_voyages/homer/exon2_NPC-MN_searrow_upstream400 -bg /projects/ps-yeolab/obotvinnik/singlecell_pnms/figure4_voyages/exon2_NPC-MN_searrow_background_upstream400.bed -rna -len 4,5,6 -mset vertebrates -mis 0 -p 4\n",
      "\n",
      "/home/yeo-lab/software/homer/bin/findMotifsGenome.pl /projects/ps-yeolab/obotvinnik/singlecell_pnms/figure4_voyages/exon2_iPSC-NPC_nwarrow_upstream200.bed hg19 /projects/ps-yeolab/obotvinnik/singlecell_pnms/figure4_voyages/homer/exon2_iPSC-NPC_nwarrow_upstream200 -bg /projects/ps-yeolab/obotvinnik/singlecell_pnms/figure4_voyages/exon2_iPSC-NPC_nwarrow_background_upstream200.bed -rna -len 4,5,6 -mset vertebrates -mis 0 -p 4\n",
      "\n",
      "/home/yeo-lab/software/homer/bin/findMotifsGenome.pl /projects/ps-yeolab/obotvinnik/singlecell_pnms/figure4_voyages/exon2_NPC-MN_swarrow.bed hg19 /projects/ps-yeolab/obotvinnik/singlecell_pnms/figure4_voyages/homer/exon2_NPC-MN_swarrow -bg /projects/ps-yeolab/obotvinnik/singlecell_pnms/figure4_voyages/exon2_NPC-MN_swarrow_background.bed -rna -len 4,5,6 -mset vertebrates -mis 0 -p 4\n",
      "\n",
      "/home/yeo-lab/software/homer/bin/findMotifsGenome.pl /projects/ps-yeolab/obotvinnik/singlecell_pnms/figure4_voyages/exon2_iPSC-MN_nwarrow_upstream400.bed hg19 /projects/ps-yeolab/obotvinnik/singlecell_pnms/figure4_voyages/homer/exon2_iPSC-MN_nwarrow_upstream400 -bg /projects/ps-yeolab/obotvinnik/singlecell_pnms/figure4_voyages/exon2_iPSC-MN_nwarrow_background_upstream400.bed -rna -len 4,5,6 -mset vertebrates -mis 0 -p 4\n",
      "\n",
      "/home/yeo-lab/software/homer/bin/findMotifsGenome.pl /projects/ps-yeolab/obotvinnik/singlecell_pnms/figure4_voyages/exon2_NPC-MN_nearrow.bed hg19 /projects/ps-yeolab/obotvinnik/singlecell_pnms/figure4_voyages/homer/exon2_NPC-MN_nearrow -bg /projects/ps-yeolab/obotvinnik/singlecell_pnms/figure4_voyages/exon2_NPC-MN_nearrow_background.bed -rna -len 4,5,6 -mset vertebrates -mis 0 -p 4\n",
      "\n",
      "/home/yeo-lab/software/homer/bin/findMotifsGenome.pl /projects/ps-yeolab/obotvinnik/singlecell_pnms/figure4_voyages/exon2_iPSC-MN_swarrow_upstream200.bed hg19 /projects/ps-yeolab/obotvinnik/singlecell_pnms/figure4_voyages/homer/exon2_iPSC-MN_swarrow_upstream200 -bg /projects/ps-yeolab/obotvinnik/singlecell_pnms/figure4_voyages/exon2_iPSC-MN_swarrow_background_upstream200.bed -rna -len 4,5,6 -mset vertebrates -mis 0 -p 4\n",
      "\n",
      "/home/yeo-lab/software/homer/bin/findMotifsGenome.pl /projects/ps-yeolab/obotvinnik/singlecell_pnms/figure4_voyages/exon2_iPSC-NPC_swarrow_upstream400.bed hg19 /projects/ps-yeolab/obotvinnik/singlecell_pnms/figure4_voyages/homer/exon2_iPSC-NPC_swarrow_upstream400 -bg /projects/ps-yeolab/obotvinnik/singlecell_pnms/figure4_voyages/exon2_iPSC-NPC_swarrow_background_upstream400.bed -rna -len 4,5,6 -mset vertebrates -mis 0 -p 4\n",
      "\n",
      "/home/yeo-lab/software/homer/bin/findMotifsGenome.pl /projects/ps-yeolab/obotvinnik/singlecell_pnms/figure4_voyages/exon2_iPSC-MN_nwarrow.bed hg19 /projects/ps-yeolab/obotvinnik/singlecell_pnms/figure4_voyages/homer/exon2_iPSC-MN_nwarrow -bg /projects/ps-yeolab/obotvinnik/singlecell_pnms/figure4_voyages/exon2_iPSC-MN_nwarrow_background.bed -rna -len 4,5,6 -mset vertebrates -mis 0 -p 4\n",
      "\n",
      "/home/yeo-lab/software/homer/bin/findMotifsGenome.pl /projects/ps-yeolab/obotvinnik/singlecell_pnms/figure4_voyages/exon2_iPSC-MN_searrow.bed hg19 /projects/ps-yeolab/obotvinnik/singlecell_pnms/figure4_voyages/homer/exon2_iPSC-MN_searrow -bg /projects/ps-yeolab/obotvinnik/singlecell_pnms/figure4_voyages/exon2_iPSC-MN_searrow_background.bed -rna -len 4,5,6 -mset vertebrates -mis 0 -p 4\n",
      "\n",
      "/home/yeo-lab/software/homer/bin/findMotifsGenome.pl /projects/ps-yeolab/obotvinnik/singlecell_pnms/figure4_voyages/exon2_NPC-MN_nearrow_upstream200.bed hg19 /projects/ps-yeolab/obotvinnik/singlecell_pnms/figure4_voyages/homer/exon2_NPC-MN_nearrow_upstream200 -bg /projects/ps-yeolab/obotvinnik/singlecell_pnms/figure4_voyages/exon2_NPC-MN_nearrow_background_upstream200.bed -rna -len 4,5,6 -mset vertebrates -mis 0 -p 4\n",
      "\n",
      "/home/yeo-lab/software/homer/bin/findMotifsGenome.pl /projects/ps-yeolab/obotvinnik/singlecell_pnms/figure4_voyages/exon2_iPSC-NPC_searrow_upstream200.bed hg19 /projects/ps-yeolab/obotvinnik/singlecell_pnms/figure4_voyages/homer/exon2_iPSC-NPC_searrow_upstream200 -bg /projects/ps-yeolab/obotvinnik/singlecell_pnms/figure4_voyages/exon2_iPSC-NPC_searrow_background_upstream200.bed -rna -len 4,5,6 -mset vertebrates -mis 0 -p 4\n",
      "\n",
      "/home/yeo-lab/software/homer/bin/findMotifsGenome.pl /projects/ps-yeolab/obotvinnik/singlecell_pnms/figure4_voyages/exon2_NPC-MN_swarrow_downstream200.bed hg19 /projects/ps-yeolab/obotvinnik/singlecell_pnms/figure4_voyages/homer/exon2_NPC-MN_swarrow_downstream200 -bg /projects/ps-yeolab/obotvinnik/singlecell_pnms/figure4_voyages/exon2_NPC-MN_swarrow_background_downstream200.bed -rna -len 4,5,6 -mset vertebrates -mis 0 -p 4\n",
      "\n",
      "/home/yeo-lab/software/homer/bin/findMotifsGenome.pl /projects/ps-yeolab/obotvinnik/singlecell_pnms/figure4_voyages/exon2_iPSC-NPC_swarrow_downstream400.bed hg19 /projects/ps-yeolab/obotvinnik/singlecell_pnms/figure4_voyages/homer/exon2_iPSC-NPC_swarrow_downstream400 -bg /projects/ps-yeolab/obotvinnik/singlecell_pnms/figure4_voyages/exon2_iPSC-NPC_swarrow_background_downstream400.bed -rna -len 4,5,6 -mset vertebrates -mis 0 -p 4\n",
      "\n",
      "/home/yeo-lab/software/homer/bin/findMotifsGenome.pl /projects/ps-yeolab/obotvinnik/singlecell_pnms/figure4_voyages/exon2_iPSC-MN_searrow_downstream200.bed hg19 /projects/ps-yeolab/obotvinnik/singlecell_pnms/figure4_voyages/homer/exon2_iPSC-MN_searrow_downstream200 -bg /projects/ps-yeolab/obotvinnik/singlecell_pnms/figure4_voyages/exon2_iPSC-MN_searrow_background_downstream200.bed -rna -len 4,5,6 -mset vertebrates -mis 0 -p 4\n",
      "\n",
      "/home/yeo-lab/software/homer/bin/findMotifsGenome.pl /projects/ps-yeolab/obotvinnik/singlecell_pnms/figure4_voyages/exon2_NPC-MN_nwarrow_upstream400.bed hg19 /projects/ps-yeolab/obotvinnik/singlecell_pnms/figure4_voyages/homer/exon2_NPC-MN_nwarrow_upstream400 -bg /projects/ps-yeolab/obotvinnik/singlecell_pnms/figure4_voyages/exon2_NPC-MN_nwarrow_background_upstream400.bed -rna -len 4,5,6 -mset vertebrates -mis 0 -p 4\n",
      "\n",
      "/home/yeo-lab/software/homer/bin/findMotifsGenome.pl /projects/ps-yeolab/obotvinnik/singlecell_pnms/figure4_voyages/exon2_iPSC-MN_searrow_upstream400.bed hg19 /projects/ps-yeolab/obotvinnik/singlecell_pnms/figure4_voyages/homer/exon2_iPSC-MN_searrow_upstream400 -bg /projects/ps-yeolab/obotvinnik/singlecell_pnms/figure4_voyages/exon2_iPSC-MN_searrow_background_upstream400.bed -rna -len 4,5,6 -mset vertebrates -mis 0 -p 4\n",
      "\n",
      "/home/yeo-lab/software/homer/bin/findMotifsGenome.pl /projects/ps-yeolab/obotvinnik/singlecell_pnms/figure4_voyages/exon2_NPC-MN_nearrow_downstream200.bed hg19 /projects/ps-yeolab/obotvinnik/singlecell_pnms/figure4_voyages/homer/exon2_NPC-MN_nearrow_downstream200 -bg /projects/ps-yeolab/obotvinnik/singlecell_pnms/figure4_voyages/exon2_NPC-MN_nearrow_background_downstream200.bed -rna -len 4,5,6 -mset vertebrates -mis 0 -p 4\n",
      "\n",
      "/home/yeo-lab/software/homer/bin/findMotifsGenome.pl /projects/ps-yeolab/obotvinnik/singlecell_pnms/figure4_voyages/exon2_iPSC-MN_nwarrow_downstream200.bed hg19 /projects/ps-yeolab/obotvinnik/singlecell_pnms/figure4_voyages/homer/exon2_iPSC-MN_nwarrow_downstream200 -bg /projects/ps-yeolab/obotvinnik/singlecell_pnms/figure4_voyages/exon2_iPSC-MN_nwarrow_background_downstream200.bed -rna -len 4,5,6 -mset vertebrates -mis 0 -p 4\n",
      "\n",
      "/home/yeo-lab/software/homer/bin/findMotifsGenome.pl /projects/ps-yeolab/obotvinnik/singlecell_pnms/figure4_voyages/exon2_iPSC-NPC_nearrow_downstream400.bed hg19 /projects/ps-yeolab/obotvinnik/singlecell_pnms/figure4_voyages/homer/exon2_iPSC-NPC_nearrow_downstream400 -bg /projects/ps-yeolab/obotvinnik/singlecell_pnms/figure4_voyages/exon2_iPSC-NPC_nearrow_background_downstream400.bed -rna -len 4,5,6 -mset vertebrates -mis 0 -p 4\n",
      "\n",
      "/home/yeo-lab/software/homer/bin/findMotifsGenome.pl /projects/ps-yeolab/obotvinnik/singlecell_pnms/figure4_voyages/exon2_iPSC-MN_nearrow_upstream200.bed hg19 /projects/ps-yeolab/obotvinnik/singlecell_pnms/figure4_voyages/homer/exon2_iPSC-MN_nearrow_upstream200 -bg /projects/ps-yeolab/obotvinnik/singlecell_pnms/figure4_voyages/exon2_iPSC-MN_nearrow_background_upstream200.bed -rna -len 4,5,6 -mset vertebrates -mis 0 -p 4\n",
      "\n",
      "/home/yeo-lab/software/homer/bin/findMotifsGenome.pl /projects/ps-yeolab/obotvinnik/singlecell_pnms/figure4_voyages/exon2_NPC-MN_searrow_downstream400.bed hg19 /projects/ps-yeolab/obotvinnik/singlecell_pnms/figure4_voyages/homer/exon2_NPC-MN_searrow_downstream400 -bg /projects/ps-yeolab/obotvinnik/singlecell_pnms/figure4_voyages/exon2_NPC-MN_searrow_background_downstream400.bed -rna -len 4,5,6 -mset vertebrates -mis 0 -p 4\n",
      "\n",
      "/home/yeo-lab/software/homer/bin/findMotifsGenome.pl /projects/ps-yeolab/obotvinnik/singlecell_pnms/figure4_voyages/exon2_iPSC-NPC_searrow_downstream200.bed hg19 /projects/ps-yeolab/obotvinnik/singlecell_pnms/figure4_voyages/homer/exon2_iPSC-NPC_searrow_downstream200 -bg /projects/ps-yeolab/obotvinnik/singlecell_pnms/figure4_voyages/exon2_iPSC-NPC_searrow_background_downstream200.bed -rna -len 4,5,6 -mset vertebrates -mis 0 -p 4\n",
      "\n",
      "/home/yeo-lab/software/homer/bin/findMotifsGenome.pl /projects/ps-yeolab/obotvinnik/singlecell_pnms/figure4_voyages/exon2_iPSC-MN_swarrow_downstream400.bed hg19 /projects/ps-yeolab/obotvinnik/singlecell_pnms/figure4_voyages/homer/exon2_iPSC-MN_swarrow_downstream400 -bg /projects/ps-yeolab/obotvinnik/singlecell_pnms/figure4_voyages/exon2_iPSC-MN_swarrow_background_downstream400.bed -rna -len 4,5,6 -mset vertebrates -mis 0 -p 4\n",
      "\n",
      "/home/yeo-lab/software/homer/bin/findMotifsGenome.pl /projects/ps-yeolab/obotvinnik/singlecell_pnms/figure4_voyages/exon2_NPC-MN_swarrow_upstream200.bed hg19 /projects/ps-yeolab/obotvinnik/singlecell_pnms/figure4_voyages/homer/exon2_NPC-MN_swarrow_upstream200 -bg /projects/ps-yeolab/obotvinnik/singlecell_pnms/figure4_voyages/exon2_NPC-MN_swarrow_background_upstream200.bed -rna -len 4,5,6 -mset vertebrates -mis 0 -p 4\n",
      "\n",
      "/home/yeo-lab/software/homer/bin/findMotifsGenome.pl /projects/ps-yeolab/obotvinnik/singlecell_pnms/figure4_voyages/exon2_iPSC-NPC_searrow.bed hg19 /projects/ps-yeolab/obotvinnik/singlecell_pnms/figure4_voyages/homer/exon2_iPSC-NPC_searrow -bg /projects/ps-yeolab/obotvinnik/singlecell_pnms/figure4_voyages/exon2_iPSC-NPC_searrow_background.bed -rna -len 4,5,6 -mset vertebrates -mis 0 -p 4\n",
      "\n",
      "/home/yeo-lab/software/homer/bin/findMotifsGenome.pl /projects/ps-yeolab/obotvinnik/singlecell_pnms/figure4_voyages/exon2_iPSC-NPC_nwarrow.bed hg19 /projects/ps-yeolab/obotvinnik/singlecell_pnms/figure4_voyages/homer/exon2_iPSC-NPC_nwarrow -bg /projects/ps-yeolab/obotvinnik/singlecell_pnms/figure4_voyages/exon2_iPSC-NPC_nwarrow_background.bed -rna -len 4,5,6 -mset vertebrates -mis 0 -p 4\n",
      "\n",
      "/home/yeo-lab/software/homer/bin/findMotifsGenome.pl /projects/ps-yeolab/obotvinnik/singlecell_pnms/figure4_voyages/exon2_iPSC-NPC_nearrow_upstream400.bed hg19 /projects/ps-yeolab/obotvinnik/singlecell_pnms/figure4_voyages/homer/exon2_iPSC-NPC_nearrow_upstream400 -bg /projects/ps-yeolab/obotvinnik/singlecell_pnms/figure4_voyages/exon2_iPSC-NPC_nearrow_background_upstream400.bed -rna -len 4,5,6 -mset vertebrates -mis 0 -p 4\n",
      "\n",
      "/home/yeo-lab/software/homer/bin/findMotifsGenome.pl /projects/ps-yeolab/obotvinnik/singlecell_pnms/figure4_voyages/exon2_NPC-MN_nwarrow_downstream400.bed hg19 /projects/ps-yeolab/obotvinnik/singlecell_pnms/figure4_voyages/homer/exon2_NPC-MN_nwarrow_downstream400 -bg /projects/ps-yeolab/obotvinnik/singlecell_pnms/figure4_voyages/exon2_NPC-MN_nwarrow_background_downstream400.bed -rna -len 4,5,6 -mset vertebrates -mis 0 -p 4\n",
      "\n",
      "/home/yeo-lab/software/homer/bin/findMotifsGenome.pl /projects/ps-yeolab/obotvinnik/singlecell_pnms/figure4_voyages/exon2_iPSC-MN_nearrow_downstream400.bed hg19 /projects/ps-yeolab/obotvinnik/singlecell_pnms/figure4_voyages/homer/exon2_iPSC-MN_nearrow_downstream400 -bg /projects/ps-yeolab/obotvinnik/singlecell_pnms/figure4_voyages/exon2_iPSC-MN_nearrow_background_downstream400.bed -rna -len 4,5,6 -mset vertebrates -mis 0 -p 4\n",
      "\n",
      "/home/yeo-lab/software/homer/bin/findMotifsGenome.pl /projects/ps-yeolab/obotvinnik/singlecell_pnms/figure4_voyages/exon2_iPSC-NPC_nwarrow_downstream200.bed hg19 /projects/ps-yeolab/obotvinnik/singlecell_pnms/figure4_voyages/homer/exon2_iPSC-NPC_nwarrow_downstream200 -bg /projects/ps-yeolab/obotvinnik/singlecell_pnms/figure4_voyages/exon2_iPSC-NPC_nwarrow_background_downstream200.bed -rna -len 4,5,6 -mset vertebrates -mis 0 -p 4\n"
     ]
    }
   ],
   "source": [
    "\n",
    "import os\n",
    "import fileinput\n",
    "\n",
    "from gscripts.qtools import Submitter\n",
    "import glob\n",
    "import itertools\n",
    "\n",
    "findMotifsGenome = '/home/yeo-lab/software/homer/bin/findMotifsGenome.pl'\n",
    "n_processors = 4\n",
    "homer_flags = '-rna -len 4,5,6 -mset vertebrates -mis 0 -p {}'.format(n_processors)\n",
    "\n",
    "commands = []\n",
    "\n",
    "\n",
    "for bedfile in glob.iglob('{}/exon2*.bed'.format(bed_folder)):\n",
    "    \n",
    "    basename = os.path.basename(bedfile)\n",
    "    if 'background' in basename:\n",
    "        continue\n",
    "    \n",
    "    prefix = basename.split('.')[0]\n",
    "    transition = prefix.split('_')[1]\n",
    "    direction = prefix.split('_')[2]\n",
    "#     print modality\n",
    "    \n",
    "    background = bedfile.replace(direction, direction + '_background')\n",
    "    \n",
    "    out_dir = '{}/{}'.format(homer_dir, basename.replace('.bed', ''))\n",
    "    if os.path.exists('{}/homerResults.html'):\n",
    "        print 'Already finished {}, moving on'.format(basename)\n",
    "        continue\n",
    "    command = '{} {} hg19 {} -bg {} {}'.format(\n",
    "        findMotifsGenome, bedfile, out_dir, background, homer_flags)\n",
    "    print '\\n', command\n",
    "    commands.append(command)\n",
    "#     ! $command\n",
    "jobname = 'homer'\n",
    "sub = Submitter(commands, jobname, walltime='0:30:00', queue='home-scrm',\n",
    "               ppn=n_processors, write_and_submit=True, array=True,\n",
    "               out_filename='{}/{}.out'.format(homer_dir, jobname),\n",
    "               err_filename='{}/{}.err'.format(homer_dir, jobname),)"
   ]
  },
  {
   "cell_type": "code",
   "execution_count": 8,
   "metadata": {
    "collapsed": false
   },
   "outputs": [
    {
     "data": {
      "text/plain": [
       "'exon2_iPSC-NPC_nwarrow_downstream200'"
      ]
     },
     "execution_count": 8,
     "metadata": {},
     "output_type": "execute_result"
    }
   ],
   "source": [
    "prefix"
   ]
  },
  {
   "cell_type": "code",
   "execution_count": null,
   "metadata": {
    "collapsed": true
   },
   "outputs": [],
   "source": []
  },
  {
   "cell_type": "code",
   "execution_count": null,
   "metadata": {
    "collapsed": true
   },
   "outputs": [],
   "source": []
  }
 ],
 "metadata": {
  "kernelspec": {
   "display_name": "Python 2",
   "language": "python",
   "name": "python2"
  },
  "language_info": {
   "codemirror_mode": {
    "name": "ipython",
    "version": 2
   },
   "file_extension": ".py",
   "mimetype": "text/x-python",
   "name": "python",
   "nbconvert_exporter": "python",
   "pygments_lexer": "ipython2",
   "version": "2.7.10"
  }
 },
 "nbformat": 4,
 "nbformat_minor": 0
}
