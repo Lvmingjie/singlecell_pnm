{
 "cells": [
  {
   "cell_type": "code",
   "execution_count": null,
   "metadata": {
    "collapsed": false
   },
   "outputs": [],
   "source": [
    "import modish\n",
    "import matplotlib.pyplot as plt\n",
    "import seaborn as sns\n",
    "import numpy as np\n",
    "import pandas as pd\n",
    "\n",
    "from modish.visualize import MODALITY_TO_COLOR, MODALITY_ORDER, MODALITY_PALETTE\n",
    "modality_order = MODALITY_ORDER\n",
    "\n",
    "sns.set(style='ticks', context='talk', rc={'font.sans-serif':'Arial', 'pdf.fonttype': 42})\n",
    "\n",
    "%matplotlib inline\n",
    "\n",
    "%load_ext autoreload\n",
    "%autoreload 2\n",
    "\n",
    "folder = '/home/obotvinnik/Dropbox/figures2/singlecell_pnm/figure4_voyages'\n",
    "\n",
    "import flotilla\n",
    "study = flotilla.embark('singlecell_pnm_figure4_voyages')"
   ]
  },
  {
   "cell_type": "code",
   "execution_count": null,
   "metadata": {
    "collapsed": true
   },
   "outputs": [],
   "source": [
    "homer_dir = '/projects/ps-yeolab/obotvinnik/singlecell_pnms/figure4_voyages/homer'"
   ]
  },
  {
   "cell_type": "code",
   "execution_count": null,
   "metadata": {
    "collapsed": false
   },
   "outputs": [],
   "source": []
  },
  {
   "cell_type": "code",
   "execution_count": null,
   "metadata": {
    "collapsed": true
   },
   "outputs": [],
   "source": []
  },
  {
   "cell_type": "code",
   "execution_count": null,
   "metadata": {
    "collapsed": false
   },
   "outputs": [],
   "source": [
    "import six\n",
    "import pandas as pd\n",
    "\n",
    "RNA = 'ACGU'\n",
    "DNA = 'ACGT'\n",
    "\n",
    "import itertools\n",
    "\n",
    "kmer_lengths = 4, 5, 6\n",
    "\n",
    "print sum(4**k for k in kmer_lengths)\n",
    "\n",
    "kmers = list(itertools.chain(\n",
    "    *[map(lambda x: ''.join(x), itertools.product(RNA, repeat=k)) for k in kmer_lengths]))\n",
    "print len(kmers)\n",
    "kmers_list = map(list, kmers)\n",
    "kmers[:10]\n",
    "\n",
    "\n",
    "def homer_motif_reader(handle, residues=DNA):\n",
    "    \"\"\"Read homer.motifs output and return tuples of motif_id, motif_pwm (as pandas dataframe)\n",
    "    \n",
    "    \n",
    "    \"\"\"\n",
    "    names = list(residues)\n",
    "    record_id, record = None, ''\n",
    "    new_record_id = None\n",
    "    for line in handle:\n",
    "        if line.startswith('>'):\n",
    "            new_record_id = line.lstrip('>').strip()\n",
    "            if record_id is None:\n",
    "                record_id = new_record_id\n",
    "            if len(record) > 0:\n",
    "#                 print '\\n', record\n",
    "                pwm = pd.read_table(six.StringIO(record), header=None, names=names)\n",
    "                yield record_id, pwm\n",
    "                record = ''\n",
    "                record_id = new_record_id\n",
    "        else:\n",
    "            record += line\n",
    "            \n",
    "def score_kmers(pwm, kmers):\n",
    "    \"\"\"Generator to score kmers given a position-weight matrix\n",
    "    \n",
    "    Parameters\n",
    "    ----------\n",
    "    pwm : pandas.DataFrame\n",
    "        A (length, 4) dataframe of the weight of each position's probability \n",
    "        of each nucleotide\n",
    "    kmers : list of list\n",
    "        A list of kmers strings as lists, e.g. [['G', 'G', 'G', 'G', 'G', 'G']]\n",
    "    \n",
    "    \"\"\"\n",
    "    motif_length = pwm.shape[0]\n",
    "    for kmer in kmers:\n",
    "        k = len(kmer)\n",
    "        \n",
    "        divisor = min(k, motif_length)\n",
    "        if k == motif_length:\n",
    "            score = np.sum(pwm.lookup(range(motif_length), kmer))/divisor\n",
    "        elif k > motif_length:\n",
    "            starts = range(k - motif_length + 1)\n",
    "            n_positions = len(starts)\n",
    "            score = sum(np.sum(pwm.lookup(range(motif_length), \n",
    "                                                kmer[start:(start+motif_length)]))/divisor\n",
    "                        for start in starts)/n_positions\n",
    "        else:\n",
    "            # k < motif_length\n",
    "            starts = range(motif_length - k + 1)\n",
    "            n_positions = len(starts)\n",
    "            score = sum(np.sum(pwm.lookup(range(start, start+k), kmer))/divisor\n",
    "                        for start in starts)/n_positions\n",
    "        yield score"
   ]
  },
  {
   "cell_type": "code",
   "execution_count": null,
   "metadata": {
    "collapsed": false
   },
   "outputs": [],
   "source": [
    "ls $homer_dir"
   ]
  },
  {
   "cell_type": "code",
   "execution_count": null,
   "metadata": {
    "collapsed": false
   },
   "outputs": [],
   "source": [
    "# %%time\n",
    "import os\n",
    "\n",
    "import glob\n",
    "\n",
    "globber = '{}/*/homerMotifs.all.motifs'.format(homer_dir)\n",
    "\n",
    "\n",
    "metadata_dfs = []\n",
    "score_dfs = []\n",
    "\n",
    "for filename in glob.glob(globber):\n",
    "    with open(filename) as f:\n",
    "        records = pd.Series(dict(homer_motif_reader(f, residues=RNA)))\n",
    "    metadata = pd.DataFrame.from_records(records.index.map(lambda x: pd.Series(x.split())))\n",
    "    metadata.columns = ['Consensus Sequence', 'Motif ID', 'Log Odds Threshold', \n",
    "                                                       '$\\log(p)$', 'empty_placeholder', 'Occurence Information', \n",
    "                                                       'Motif Statistics']\n",
    "    motif_folder = filename.split('/')[-2]\n",
    "    split = motif_folder.split('_')\n",
    "    transition = split[1]\n",
    "    direction = split[2]\n",
    "    location = split[-1]\n",
    "    if 'stream' not in location:\n",
    "        location = 'exonbody'\n",
    "    motif_annotation = '_{}_{}_{}'.format(transition, direction, location)\n",
    "    print motif_annotation\n",
    "    metadata['Motif ID'] += motif_annotation\n",
    "    metadata['Transition'] = transition\n",
    "    metadata['Direction'] = direction\n",
    "    metadata['Location'] = location\n",
    "    metadata_dfs.append(metadata)\n",
    "    \n",
    "    scores = records.map(lambda x: pd.Series(score_kmers(x, kmers_list), index=kmers))\n",
    "    scores = pd.DataFrame.from_records(scores).T\n",
    "    scores.columns = metadata['Motif ID']\n",
    "    score_dfs.append(scores)"
   ]
  },
  {
   "cell_type": "code",
   "execution_count": null,
   "metadata": {
    "collapsed": false
   },
   "outputs": [],
   "source": [
    "motif_metadata = pd.concat(metadata_dfs, ignore_index=True)\n",
    "motif_metadata['Direction'] = motif_metadata['Direction'].map(lambda x: r'$\\{}$'.format(x))\n",
    "print motif_metadata.shape\n",
    "motif_metadata.head()"
   ]
  },
  {
   "cell_type": "code",
   "execution_count": null,
   "metadata": {
    "collapsed": false
   },
   "outputs": [],
   "source": [
    "motif_metadata = motif_metadata.set_index('Motif ID')\n",
    "motif_metadata"
   ]
  },
  {
   "cell_type": "code",
   "execution_count": null,
   "metadata": {
    "collapsed": false
   },
   "outputs": [],
   "source": [
    "motif_metadata = motif_metadata.convert_objects(convert_dates=False, convert_numeric=True)\n",
    "motif_metadata.dtypes"
   ]
  },
  {
   "cell_type": "code",
   "execution_count": null,
   "metadata": {
    "collapsed": false
   },
   "outputs": [],
   "source": [
    "np.exp(-5)"
   ]
  },
  {
   "cell_type": "code",
   "execution_count": null,
   "metadata": {
    "collapsed": false
   },
   "outputs": [],
   "source": [
    "np.log(1e-5)"
   ]
  },
  {
   "cell_type": "code",
   "execution_count": null,
   "metadata": {
    "collapsed": false
   },
   "outputs": [],
   "source": [
    "sns.factorplot(data=motif_metadata, hue='Direction', col='Transition', x='Location', \n",
    "               y='$\\log(p)$', kind='violin', aspect=1.25)"
   ]
  },
  {
   "cell_type": "code",
   "execution_count": null,
   "metadata": {
    "collapsed": false
   },
   "outputs": [],
   "source": [
    "motif_scores = pd.concat(score_dfs, axis=1)\n",
    "print motif_scores.shape\n",
    "motif_scores.head()"
   ]
  },
  {
   "cell_type": "code",
   "execution_count": null,
   "metadata": {
    "collapsed": false
   },
   "outputs": [],
   "source": [
    "motif_scores_significant = motif_scores.loc[:, motif_metadata.index[motif_metadata['$\\log(p)$'] < -5]]\n",
    "motif_scores_significant.shape"
   ]
  },
  {
   "cell_type": "code",
   "execution_count": null,
   "metadata": {
    "collapsed": true
   },
   "outputs": [],
   "source": [
    "corr = motif_scores.corr()"
   ]
  },
  {
   "cell_type": "code",
   "execution_count": null,
   "metadata": {
    "collapsed": false
   },
   "outputs": [],
   "source": [
    "direction_order = [ r'$\\nwarrow$', r'$\\swarrow$',  r'$\\nearrow$', r'$\\searrow$']\n",
    "direction_palette = [MODALITY_TO_COLOR['~1'], MODALITY_TO_COLOR['middle'], \n",
    "                     MODALITY_TO_COLOR['bimodal'], MODALITY_TO_COLOR['~0']]\n",
    "\n",
    "sns.palplot(direction_palette)\n",
    "ax = plt.gca()\n",
    "ax.set(xticklabels=direction_order, xticks=np.arange(len(direction_order)))\n",
    "fig = plt.gcf()\n",
    "fig.tight_layout()\n",
    "fig.savefig('{}/direction_to_color.pdf'.format(folder))\n",
    "\n",
    "direction_to_color = dict(zip(direction_order, direction_palette))\n",
    "\n",
    "\n",
    "\n",
    "transition_order = ['iPSC-NPC', 'NPC-MN', 'iPSC-MN']\n",
    "transition_palette = sns.color_palette('Set2', n_colors=3)\n",
    "\n",
    "sns.palplot(transition_palette)\n",
    "ax = plt.gca()\n",
    "ax.set(xticklabels=transition_order, xticks=np.arange(len(transition_order)))\n",
    "fig = plt.gcf()\n",
    "fig.tight_layout()\n",
    "fig.savefig('{}/transition_to_color.pdf'.format(folder))\n",
    "\n",
    "\n",
    "transition_to_color = dict(zip(transition_order, transition_palette))"
   ]
  },
  {
   "cell_type": "code",
   "execution_count": null,
   "metadata": {
    "collapsed": false
   },
   "outputs": [],
   "source": [
    "motif_scores.head()"
   ]
  },
  {
   "cell_type": "code",
   "execution_count": null,
   "metadata": {
    "collapsed": false
   },
   "outputs": [],
   "source": [
    "\n",
    "from scipy.stats import spearmanr\n",
    "\n",
    "sns.jointplot('2-AAGGTG_iPSC-NPC_searrow_upstream200', '5-AGGT_iPSC-NPC_searrow_upstream200', \n",
    "              motif_scores, stat_func=spearmanr)"
   ]
  },
  {
   "cell_type": "code",
   "execution_count": null,
   "metadata": {
    "collapsed": false
   },
   "outputs": [],
   "source": [
    "motif_scores.iloc[:, :10].idxmax()"
   ]
  },
  {
   "cell_type": "code",
   "execution_count": null,
   "metadata": {
    "collapsed": false,
    "scrolled": false
   },
   "outputs": [],
   "source": [
    "\n",
    "for location, df1 in motif_scores.groupby(motif_metadata['Location'], axis=1):\n",
    "    corr = df.corr(method='spearman')\n",
    "    \n",
    "    side_colors = [[direction_to_color[x] for x in motif_metadata.loc[df.columns, 'Direction']],\n",
    "                   [transition_to_color[x] for x in motif_metadata.loc[df.columns, 'Transition']]]\n",
    "    g = sns.clustermap(corr, metric='cityblock', row_colors=side_colors, col_colors=side_colors, figsize=(60, 60))\n",
    "    g.ax_col_dendrogram.set(title=location)\n",
    "    g.savefig('{}/motif_clustermap_{}.png'.format(folder, location), dpi=150)"
   ]
  },
  {
   "cell_type": "code",
   "execution_count": null,
   "metadata": {
    "collapsed": false,
    "scrolled": false
   },
   "outputs": [],
   "source": [
    "\n",
    "for location, df1 in motif_scores_significant.groupby(motif_metadata['Location'], axis=1):\n",
    "    corr = df.corr(method='spearman')\n",
    "    \n",
    "    side_colors = [[direction_to_color[x] for x in motif_metadata.loc[df.columns, 'Direction']],\n",
    "                   [transition_to_color[x] for x in motif_metadata.loc[df.columns, 'Transition']]]\n",
    "    g = sns.clustermap(corr, metric='cityblock', row_colors=side_colors, col_colors=side_colors, figsize=(60, 60))\n",
    "    g.ax_col_dendrogram.set(title=location)\n",
    "    g.savefig('{}/motif_logp-5_clustermap_{}.png'.format(folder, location), dpi=150)"
   ]
  },
  {
   "cell_type": "code",
   "execution_count": null,
   "metadata": {
    "collapsed": true
   },
   "outputs": [],
   "source": []
  },
  {
   "cell_type": "code",
   "execution_count": null,
   "metadata": {
    "collapsed": false,
    "scrolled": false
   },
   "outputs": [],
   "source": [
    "\n",
    "for location, df1 in motif_scores.groupby(motif_metadata['Location'], axis=1):\n",
    "    for direction, df2 in df1.groupby(motif_metadata['Direction'], axis=1):\n",
    "        corr = df2.corr(method='spearman')\n",
    "\n",
    "        figwidth = int(corr_subset.shape[0]/4.)\n",
    "        figsize = (figwidth, figwidth)\n",
    "        \n",
    "        side_colors = [[direction_to_color[x] for x in motif_metadata.loc[df2.columns, 'Direction']],\n",
    "                       [transition_to_color[x] for x in motif_metadata.loc[df2.columns, 'Transition']]]\n",
    "        g = sns.clustermap(corr, metric='cityblock', row_colors=side_colors, col_colors=side_colors, figsize=figsize)\n",
    "        g.ax_col_dendrogram.set(title=location)\n",
    "        direction_str = direction.strip('$\\\\')\n",
    "        \n",
    "        g.savefig('{}/motif_clustermap_{}_{}.png'.format(folder, location, direction_str), dpi=150)"
   ]
  },
  {
   "cell_type": "code",
   "execution_count": null,
   "metadata": {
    "collapsed": false,
    "scrolled": false
   },
   "outputs": [],
   "source": [
    "\n",
    "for location, df1 in motif_scores.groupby(motif_metadata['Location'], axis=1):\n",
    "    for transition, df2 in df1.groupby(motif_metadata['Transition'], axis=1):\n",
    "        corr = df2.corr(method='spearman')\n",
    "        \n",
    "        figwidth = int(corr_subset.shape[0]/4.)\n",
    "        figsize = (figwidth, figwidth)\n",
    "\n",
    "\n",
    "        side_colors = [[direction_to_color[x] for x in motif_metadata.loc[df2.columns, 'Direction']],\n",
    "                       [transition_to_color[x] for x in motif_metadata.loc[df2.columns, 'Transition']]]\n",
    "        g = sns.clustermap(corr, metric='cityblock', row_colors=side_colors, col_colors=side_colors, figsize=figsize)\n",
    "        g.ax_col_dendrogram.set(title=location)\n",
    "        g.savefig('{}/motif_clustermap_{}_{}.png'.format(folder, location, transition), dpi=150)"
   ]
  },
  {
   "cell_type": "code",
   "execution_count": null,
   "metadata": {
    "collapsed": true
   },
   "outputs": [],
   "source": []
  },
  {
   "cell_type": "code",
   "execution_count": null,
   "metadata": {
    "collapsed": true
   },
   "outputs": [],
   "source": []
  }
 ],
 "metadata": {
  "kernelspec": {
   "display_name": "Python 2",
   "language": "python",
   "name": "python2"
  },
  "language_info": {
   "codemirror_mode": {
    "name": "ipython",
    "version": 2
   },
   "file_extension": ".py",
   "mimetype": "text/x-python",
   "name": "python",
   "nbconvert_exporter": "python",
   "pygments_lexer": "ipython2",
   "version": "2.7.10"
  }
 },
 "nbformat": 4,
 "nbformat_minor": 0
}
