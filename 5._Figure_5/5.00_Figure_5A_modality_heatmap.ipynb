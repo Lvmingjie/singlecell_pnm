{
 "cells": [
  {
   "cell_type": "code",
   "execution_count": 133,
   "metadata": {
    "collapsed": false
   },
   "outputs": [],
   "source": [
    "# mkdir /home/obotvinnik/Dropbox/figures2/singlecell_pnm/figure4_voyages/"
   ]
  },
  {
   "cell_type": "code",
   "execution_count": 134,
   "metadata": {
    "collapsed": false
   },
   "outputs": [
    {
     "name": "stdout",
     "output_type": "stream",
     "text": [
      "The autoreload extension is already loaded. To reload it, use:\n",
      "  %reload_ext autoreload\n",
      "2016-05-15 21:01:22\tReading datapackage from /projects/ps-yeolab/obotvinnik/flotilla_projects/singlecell_pnm_figure2_modalities_bayesian/datapackage.json\n",
      "2016-05-15 21:01:22\tParsing datapackage to create a Study object\n",
      "2016-05-15 21:01:54\tInitializing Study\n",
      "2016-05-15 21:01:54\tInitializing Predictor configuration manager for Study\n",
      "2016-05-15 21:01:54\tPredictor ExtraTreesClassifier is of type <class 'sklearn.ensemble.forest.ExtraTreesClassifier'>\n",
      "2016-05-15 21:01:54\tAdded ExtraTreesClassifier to default predictors\n",
      "2016-05-15 21:01:54\tPredictor ExtraTreesRegressor is of type <class 'sklearn.ensemble.forest.ExtraTreesRegressor'>\n",
      "2016-05-15 21:01:54\tAdded ExtraTreesRegressor to default predictors\n",
      "2016-05-15 21:01:54\tPredictor GradientBoostingClassifier is of type <class 'sklearn.ensemble.gradient_boosting.GradientBoostingClassifier'>\n",
      "2016-05-15 21:01:54\tAdded GradientBoostingClassifier to default predictors\n",
      "2016-05-15 21:01:54\tPredictor GradientBoostingRegressor is of type <class 'sklearn.ensemble.gradient_boosting.GradientBoostingRegressor'>\n",
      "2016-05-15 21:01:54\tAdded GradientBoostingRegressor to default predictors\n",
      "2016-05-15 21:01:58\tBuilding Gene Ontology database...\n",
      "2016-05-15 21:02:05\t\tDone.\n",
      "2016-05-15 21:02:05\tLoading metadata\n",
      "2016-05-15 21:02:05\tLoading expression data\n",
      "2016-05-15 21:02:05\tInitializing expression\n",
      "2016-05-15 21:02:05\tDone initializing expression\n",
      "2016-05-15 21:02:07\tLoading splicing data\n",
      "2016-05-15 21:02:07\tInitializing splicing\n",
      "2016-05-15 21:02:07\tDone initializing splicing\n",
      "2016-05-15 21:02:07\tSuccessfully initialized a Study object!\n"
     ]
    }
   ],
   "source": [
    "import six\n",
    "\n",
    "import matplotlib.pyplot as plt\n",
    "import seaborn as sns\n",
    "import numpy as np\n",
    "import pandas as pd\n",
    "\n",
    "from anchor.visualize import MODALITY_TO_COLOR, MODALITY_ORDER, MODALITY_PALETTE\n",
    "modality_order = MODALITY_ORDER\n",
    "\n",
    "sns.set(style='ticks', context='talk', rc={'font.sans-serif':'Arial', 'pdf.fonttype': 42})\n",
    "\n",
    "%matplotlib inline\n",
    "\n",
    "%load_ext autoreload\n",
    "%autoreload 2\n",
    "\n",
    "folder = 'figures' #'/home/obotvinnik/Dropbox/figures2/singlecell_pnm/figure4_voyages'\n",
    "\n",
    "import flotilla\n",
    "study = flotilla.embark('singlecell_pnm_figure2_modalities_bayesian', \n",
    "                        flotilla_dir='/projects/ps-yeolab/obotvinnik/flotilla_projects/')\n",
    "# study = flotilla.embark('singlecell_pnm_figure1_supplementary_post_splicing_filtering')"
   ]
  },
  {
   "cell_type": "code",
   "execution_count": 135,
   "metadata": {
    "collapsed": false
   },
   "outputs": [
    {
     "name": "stdout",
     "output_type": "stream",
     "text": [
      "mkdir: cannot create directory `figures': File exists\r\n"
     ]
    }
   ],
   "source": [
    "mkdir $folder"
   ]
  },
  {
   "cell_type": "code",
   "execution_count": 136,
   "metadata": {
    "collapsed": false
   },
   "outputs": [
    {
     "data": {
      "text/html": [
       "<div>\n",
       "<table border=\"1\" class=\"dataframe\">\n",
       "  <thead>\n",
       "    <tr style=\"text-align: right;\">\n",
       "      <th></th>\n",
       "      <th>phenotype_x</th>\n",
       "      <th>event_id</th>\n",
       "      <th>modality_x</th>\n",
       "      <th>phenotype_y</th>\n",
       "      <th>modality_y</th>\n",
       "    </tr>\n",
       "  </thead>\n",
       "  <tbody>\n",
       "    <tr>\n",
       "      <th>0</th>\n",
       "      <td>MN</td>\n",
       "      <td>exon:chr10:101165513-101165617:-@exon:chr10:10...</td>\n",
       "      <td>included</td>\n",
       "      <td>MN</td>\n",
       "      <td>included</td>\n",
       "    </tr>\n",
       "    <tr>\n",
       "      <th>1</th>\n",
       "      <td>MN</td>\n",
       "      <td>exon:chr10:101165513-101165617:-@exon:chr10:10...</td>\n",
       "      <td>included</td>\n",
       "      <td>NPC</td>\n",
       "      <td>included</td>\n",
       "    </tr>\n",
       "    <tr>\n",
       "      <th>2</th>\n",
       "      <td>MN</td>\n",
       "      <td>exon:chr10:101165513-101165617:-@exon:chr10:10...</td>\n",
       "      <td>included</td>\n",
       "      <td>iPSC</td>\n",
       "      <td>included</td>\n",
       "    </tr>\n",
       "    <tr>\n",
       "      <th>3</th>\n",
       "      <td>NPC</td>\n",
       "      <td>exon:chr10:101165513-101165617:-@exon:chr10:10...</td>\n",
       "      <td>included</td>\n",
       "      <td>MN</td>\n",
       "      <td>included</td>\n",
       "    </tr>\n",
       "    <tr>\n",
       "      <th>4</th>\n",
       "      <td>NPC</td>\n",
       "      <td>exon:chr10:101165513-101165617:-@exon:chr10:10...</td>\n",
       "      <td>included</td>\n",
       "      <td>NPC</td>\n",
       "      <td>included</td>\n",
       "    </tr>\n",
       "  </tbody>\n",
       "</table>\n",
       "</div>"
      ],
      "text/plain": [
       "  phenotype_x                                           event_id modality_x  \\\n",
       "0          MN  exon:chr10:101165513-101165617:-@exon:chr10:10...   included   \n",
       "1          MN  exon:chr10:101165513-101165617:-@exon:chr10:10...   included   \n",
       "2          MN  exon:chr10:101165513-101165617:-@exon:chr10:10...   included   \n",
       "3         NPC  exon:chr10:101165513-101165617:-@exon:chr10:10...   included   \n",
       "4         NPC  exon:chr10:101165513-101165617:-@exon:chr10:10...   included   \n",
       "\n",
       "  phenotype_y modality_y  \n",
       "0          MN   included  \n",
       "1         NPC   included  \n",
       "2        iPSC   included  \n",
       "3          MN   included  \n",
       "4         NPC   included  "
      ]
     },
     "execution_count": 136,
     "metadata": {},
     "output_type": "execute_result"
    }
   ],
   "source": [
    "modality_transitions = study.supplemental.modalities_tidy.merge(\n",
    "    study.supplemental.modalities_tidy, left_on='event_id', right_on='event_id')\n",
    "modality_transitions.head()"
   ]
  },
  {
   "cell_type": "code",
   "execution_count": 138,
   "metadata": {
    "collapsed": false
   },
   "outputs": [
    {
     "data": {
      "text/html": [
       "<div>\n",
       "<table border=\"1\" class=\"dataframe\">\n",
       "  <thead>\n",
       "    <tr style=\"text-align: right;\">\n",
       "      <th></th>\n",
       "      <th>phenotype_x</th>\n",
       "      <th>event_id</th>\n",
       "      <th>modality_x</th>\n",
       "      <th>phenotype_y</th>\n",
       "      <th>modality_y</th>\n",
       "      <th>transition</th>\n",
       "    </tr>\n",
       "  </thead>\n",
       "  <tbody>\n",
       "    <tr>\n",
       "      <th>0</th>\n",
       "      <td>MN</td>\n",
       "      <td>exon:chr10:101165513-101165617:-@exon:chr10:10...</td>\n",
       "      <td>included</td>\n",
       "      <td>MN</td>\n",
       "      <td>included</td>\n",
       "      <td>MN-MN</td>\n",
       "    </tr>\n",
       "    <tr>\n",
       "      <th>1</th>\n",
       "      <td>MN</td>\n",
       "      <td>exon:chr10:101165513-101165617:-@exon:chr10:10...</td>\n",
       "      <td>included</td>\n",
       "      <td>NPC</td>\n",
       "      <td>included</td>\n",
       "      <td>MN-NPC</td>\n",
       "    </tr>\n",
       "    <tr>\n",
       "      <th>2</th>\n",
       "      <td>MN</td>\n",
       "      <td>exon:chr10:101165513-101165617:-@exon:chr10:10...</td>\n",
       "      <td>included</td>\n",
       "      <td>iPSC</td>\n",
       "      <td>included</td>\n",
       "      <td>MN-iPSC</td>\n",
       "    </tr>\n",
       "    <tr>\n",
       "      <th>3</th>\n",
       "      <td>NPC</td>\n",
       "      <td>exon:chr10:101165513-101165617:-@exon:chr10:10...</td>\n",
       "      <td>included</td>\n",
       "      <td>MN</td>\n",
       "      <td>included</td>\n",
       "      <td>NPC-MN</td>\n",
       "    </tr>\n",
       "    <tr>\n",
       "      <th>4</th>\n",
       "      <td>NPC</td>\n",
       "      <td>exon:chr10:101165513-101165617:-@exon:chr10:10...</td>\n",
       "      <td>included</td>\n",
       "      <td>NPC</td>\n",
       "      <td>included</td>\n",
       "      <td>NPC-NPC</td>\n",
       "    </tr>\n",
       "  </tbody>\n",
       "</table>\n",
       "</div>"
      ],
      "text/plain": [
       "  phenotype_x                                           event_id modality_x  \\\n",
       "0          MN  exon:chr10:101165513-101165617:-@exon:chr10:10...   included   \n",
       "1          MN  exon:chr10:101165513-101165617:-@exon:chr10:10...   included   \n",
       "2          MN  exon:chr10:101165513-101165617:-@exon:chr10:10...   included   \n",
       "3         NPC  exon:chr10:101165513-101165617:-@exon:chr10:10...   included   \n",
       "4         NPC  exon:chr10:101165513-101165617:-@exon:chr10:10...   included   \n",
       "\n",
       "  phenotype_y modality_y transition  \n",
       "0          MN   included      MN-MN  \n",
       "1         NPC   included     MN-NPC  \n",
       "2        iPSC   included    MN-iPSC  \n",
       "3          MN   included     NPC-MN  \n",
       "4         NPC   included    NPC-NPC  "
      ]
     },
     "execution_count": 138,
     "metadata": {},
     "output_type": "execute_result"
    }
   ],
   "source": [
    "modality_transitions['transition'] = modality_transitions['phenotype_x'] + '-' + modality_transitions['phenotype_y']\n",
    "modality_transitions.head()"
   ]
  },
  {
   "cell_type": "code",
   "execution_count": 139,
   "metadata": {
    "collapsed": true
   },
   "outputs": [],
   "source": [
    "transitions_of_interest = ['iPSC-NPC', 'iPSC-MN']"
   ]
  },
  {
   "cell_type": "code",
   "execution_count": 140,
   "metadata": {
    "collapsed": false
   },
   "outputs": [
    {
     "data": {
      "text/html": [
       "<div>\n",
       "<table border=\"1\" class=\"dataframe\">\n",
       "  <thead>\n",
       "    <tr style=\"text-align: right;\">\n",
       "      <th></th>\n",
       "      <th>phenotype_x</th>\n",
       "      <th>event_id</th>\n",
       "      <th>modality_x</th>\n",
       "      <th>phenotype_y</th>\n",
       "      <th>modality_y</th>\n",
       "      <th>transition</th>\n",
       "    </tr>\n",
       "  </thead>\n",
       "  <tbody>\n",
       "    <tr>\n",
       "      <th>6</th>\n",
       "      <td>iPSC</td>\n",
       "      <td>exon:chr10:101165513-101165617:-@exon:chr10:10...</td>\n",
       "      <td>included</td>\n",
       "      <td>MN</td>\n",
       "      <td>included</td>\n",
       "      <td>iPSC-MN</td>\n",
       "    </tr>\n",
       "    <tr>\n",
       "      <th>7</th>\n",
       "      <td>iPSC</td>\n",
       "      <td>exon:chr10:101165513-101165617:-@exon:chr10:10...</td>\n",
       "      <td>included</td>\n",
       "      <td>NPC</td>\n",
       "      <td>included</td>\n",
       "      <td>iPSC-NPC</td>\n",
       "    </tr>\n",
       "    <tr>\n",
       "      <th>15</th>\n",
       "      <td>iPSC</td>\n",
       "      <td>exon:chr10:101480744-101480825:-@exon:chr10:10...</td>\n",
       "      <td>included</td>\n",
       "      <td>MN</td>\n",
       "      <td>bimodal</td>\n",
       "      <td>iPSC-MN</td>\n",
       "    </tr>\n",
       "    <tr>\n",
       "      <th>16</th>\n",
       "      <td>iPSC</td>\n",
       "      <td>exon:chr10:101480744-101480825:-@exon:chr10:10...</td>\n",
       "      <td>included</td>\n",
       "      <td>NPC</td>\n",
       "      <td>bimodal</td>\n",
       "      <td>iPSC-NPC</td>\n",
       "    </tr>\n",
       "    <tr>\n",
       "      <th>24</th>\n",
       "      <td>iPSC</td>\n",
       "      <td>exon:chr10:102114184-102114389:+@exon:chr10:10...</td>\n",
       "      <td>included</td>\n",
       "      <td>MN</td>\n",
       "      <td>included</td>\n",
       "      <td>iPSC-MN</td>\n",
       "    </tr>\n",
       "  </tbody>\n",
       "</table>\n",
       "</div>"
      ],
      "text/plain": [
       "   phenotype_x                                           event_id modality_x  \\\n",
       "6         iPSC  exon:chr10:101165513-101165617:-@exon:chr10:10...   included   \n",
       "7         iPSC  exon:chr10:101165513-101165617:-@exon:chr10:10...   included   \n",
       "15        iPSC  exon:chr10:101480744-101480825:-@exon:chr10:10...   included   \n",
       "16        iPSC  exon:chr10:101480744-101480825:-@exon:chr10:10...   included   \n",
       "24        iPSC  exon:chr10:102114184-102114389:+@exon:chr10:10...   included   \n",
       "\n",
       "   phenotype_y modality_y transition  \n",
       "6           MN   included    iPSC-MN  \n",
       "7          NPC   included   iPSC-NPC  \n",
       "15          MN    bimodal    iPSC-MN  \n",
       "16         NPC    bimodal   iPSC-NPC  \n",
       "24          MN   included    iPSC-MN  "
      ]
     },
     "execution_count": 140,
     "metadata": {},
     "output_type": "execute_result"
    }
   ],
   "source": [
    "modality_transitions_subset = modality_transitions.query('transition in @transitions_of_interest')\n",
    "modality_transitions_subset.head()"
   ]
  },
  {
   "cell_type": "code",
   "execution_count": 141,
   "metadata": {
    "collapsed": false
   },
   "outputs": [
    {
     "data": {
      "text/plain": [
       "transition\n",
       "iPSC-MN     1067\n",
       "iPSC-NPC    1724\n",
       "Name: Switching Modality, dtype: int64"
      ]
     },
     "execution_count": 141,
     "metadata": {},
     "output_type": "execute_result"
    }
   ],
   "source": [
    "same_modality = modality_transitions_subset.groupby('transition').apply(lambda x: (x['modality_y'] == x['modality_x']).sum())\n",
    "same_modality.name = 'Same Modality'\n",
    "changing_modality = modality_transitions_subset.groupby('transition').apply(lambda x: (x['modality_y'] != x['modality_x']).sum())\n",
    "changing_modality.name = 'Switching Modality'\n",
    "changing_modality"
   ]
  },
  {
   "cell_type": "code",
   "execution_count": 142,
   "metadata": {
    "collapsed": false
   },
   "outputs": [
    {
     "data": {
      "text/html": [
       "<div>\n",
       "<table border=\"1\" class=\"dataframe\">\n",
       "  <thead>\n",
       "    <tr style=\"text-align: right;\">\n",
       "      <th></th>\n",
       "      <th>Modality</th>\n",
       "      <th>transition</th>\n",
       "      <th># AS Exons</th>\n",
       "      <th>% AS Exons</th>\n",
       "    </tr>\n",
       "  </thead>\n",
       "  <tbody>\n",
       "    <tr>\n",
       "      <th>0</th>\n",
       "      <td>Switching Modality</td>\n",
       "      <td>iPSC-MN</td>\n",
       "      <td>1067</td>\n",
       "      <td>21.572988</td>\n",
       "    </tr>\n",
       "    <tr>\n",
       "      <th>1</th>\n",
       "      <td>Switching Modality</td>\n",
       "      <td>iPSC-NPC</td>\n",
       "      <td>1724</td>\n",
       "      <td>21.652851</td>\n",
       "    </tr>\n",
       "    <tr>\n",
       "      <th>2</th>\n",
       "      <td>Same Modality</td>\n",
       "      <td>iPSC-MN</td>\n",
       "      <td>3879</td>\n",
       "      <td>78.427012</td>\n",
       "    </tr>\n",
       "    <tr>\n",
       "      <th>3</th>\n",
       "      <td>Same Modality</td>\n",
       "      <td>iPSC-NPC</td>\n",
       "      <td>6238</td>\n",
       "      <td>78.347149</td>\n",
       "    </tr>\n",
       "  </tbody>\n",
       "</table>\n",
       "</div>"
      ],
      "text/plain": [
       "             Modality transition  # AS Exons  % AS Exons\n",
       "0  Switching Modality    iPSC-MN        1067   21.572988\n",
       "1  Switching Modality   iPSC-NPC        1724   21.652851\n",
       "2       Same Modality    iPSC-MN        3879   78.427012\n",
       "3       Same Modality   iPSC-NPC        6238   78.347149"
      ]
     },
     "execution_count": 142,
     "metadata": {},
     "output_type": "execute_result"
    }
   ],
   "source": [
    "n_modality_changes = pd.concat([changing_modality, same_modality], axis=1).unstack()\n",
    "n_modality_changes = n_modality_changes.reset_index()\n",
    "n_modality_changes = n_modality_changes.rename(columns={'level_0': \"Modality\", 0:'# AS Exons'})\n",
    "n_modality_changes['% AS Exons'] = 100 * n_modality_changes.groupby('transition')['# AS Exons'].apply(lambda x: x/x.sum())\n",
    "n_modality_changes"
   ]
  },
  {
   "cell_type": "code",
   "execution_count": 143,
   "metadata": {
    "collapsed": false
   },
   "outputs": [
    {
     "data": {
      "text/plain": [
       "transition  Modality          \n",
       "iPSC-MN     Switching Modality    21.572988\n",
       "iPSC-NPC    Switching Modality    21.652851\n",
       "iPSC-MN     Same Modality         78.427012\n",
       "iPSC-NPC    Same Modality         78.347149\n",
       "Name: % AS Exons, dtype: float64"
      ]
     },
     "execution_count": 143,
     "metadata": {},
     "output_type": "execute_result"
    }
   ],
   "source": [
    "percent_exons_change_modalities = n_modality_changes.set_index(['transition', 'Modality'])['% AS Exons']\n",
    "percent_exons_change_modalities"
   ]
  },
  {
   "cell_type": "code",
   "execution_count": 196,
   "metadata": {
    "collapsed": false
   },
   "outputs": [
    {
     "data": {
      "text/plain": [
       "transition  Modality          \n",
       "iPSC-MN     Switching Modality     21.572988\n",
       "iPSC-NPC    Switching Modality     21.652851\n",
       "iPSC-MN     Same Modality         100.000000\n",
       "iPSC-NPC    Same Modality         100.000000\n",
       "Name: % AS Exons, dtype: float64"
      ]
     },
     "execution_count": 196,
     "metadata": {},
     "output_type": "execute_result"
    }
   ],
   "source": [
    "cumulative_sum = percent_exons_change_modalities.groupby(level='transition').cumsum()\n",
    "cumulative_sum"
   ]
  },
  {
   "cell_type": "code",
   "execution_count": 197,
   "metadata": {
    "collapsed": false
   },
   "outputs": [
    {
     "data": {
      "text/plain": [
       "transition  Modality          \n",
       "iPSC-MN     Switching Modality     0.000000\n",
       "iPSC-NPC    Switching Modality     0.000000\n",
       "iPSC-MN     Same Modality         21.572988\n",
       "iPSC-NPC    Same Modality         21.652851\n",
       "Name: % AS Exons, dtype: float64"
      ]
     },
     "execution_count": 197,
     "metadata": {},
     "output_type": "execute_result"
    }
   ],
   "source": [
    "bottoms = cumulative_sum - percent_exons_change_modalities\n",
    "bottoms"
   ]
  },
  {
   "cell_type": "markdown",
   "metadata": {},
   "source": [
    "### plot the percent of events that change or don't change modality"
   ]
  },
  {
   "cell_type": "code",
   "execution_count": 202,
   "metadata": {
    "collapsed": false
   },
   "outputs": [
    {
     "name": "stdout",
     "output_type": "stream",
     "text": [
      "Same Modality\n"
     ]
    },
    {
     "ename": "AttributeError",
     "evalue": "Unknown property linecolor",
     "output_type": "error",
     "traceback": [
      "\u001b[1;31m---------------------------------------------------------------------------\u001b[0m",
      "\u001b[1;31mAttributeError\u001b[0m                            Traceback (most recent call last)",
      "\u001b[1;32m<ipython-input-202-79aadf25ffe2>\u001b[0m in \u001b[0;36m<module>\u001b[1;34m()\u001b[0m\n\u001b[0;32m      9\u001b[0m \u001b[1;33m\u001b[0m\u001b[0m\n\u001b[0;32m     10\u001b[0m     \u001b[0mbottom\u001b[0m \u001b[1;33m=\u001b[0m \u001b[0mbottoms\u001b[0m\u001b[1;33m.\u001b[0m\u001b[0mloc\u001b[0m\u001b[1;33m[\u001b[0m\u001b[0midx\u001b[0m\u001b[1;33m[\u001b[0m\u001b[1;33m:\u001b[0m\u001b[1;33m,\u001b[0m \u001b[0mdelta_modality\u001b[0m\u001b[1;33m]\u001b[0m\u001b[1;33m]\u001b[0m\u001b[1;33m\u001b[0m\u001b[0m\n\u001b[1;32m---> 11\u001b[1;33m     \u001b[0max\u001b[0m\u001b[1;33m.\u001b[0m\u001b[0mbar\u001b[0m\u001b[1;33m(\u001b[0m\u001b[0mx\u001b[0m\u001b[1;33m,\u001b[0m \u001b[0ms\u001b[0m\u001b[1;33m,\u001b[0m \u001b[0mbottom\u001b[0m\u001b[1;33m=\u001b[0m\u001b[0mbottom\u001b[0m\u001b[1;33m,\u001b[0m \u001b[0mlabel\u001b[0m\u001b[1;33m=\u001b[0m\u001b[0mdelta_modality\u001b[0m\u001b[1;33m,\u001b[0m \u001b[0mcolor\u001b[0m\u001b[1;33m=\u001b[0m\u001b[0mcolor\u001b[0m\u001b[1;33m,\u001b[0m \u001b[0mlinecolor\u001b[0m\u001b[1;33m=\u001b[0m\u001b[1;34m'#262626'\u001b[0m\u001b[1;33m)\u001b[0m\u001b[1;33m\u001b[0m\u001b[0m\n\u001b[0m\u001b[0;32m     12\u001b[0m \u001b[0max\u001b[0m\u001b[1;33m.\u001b[0m\u001b[0mset\u001b[0m\u001b[1;33m(\u001b[0m\u001b[0mxticks\u001b[0m\u001b[1;33m=\u001b[0m\u001b[0mx\u001b[0m \u001b[1;33m+\u001b[0m \u001b[1;36m0.4\u001b[0m\u001b[1;33m,\u001b[0m \u001b[0mxticklabels\u001b[0m\u001b[1;33m=\u001b[0m\u001b[0mbottoms\u001b[0m\u001b[1;33m.\u001b[0m\u001b[0mindex\u001b[0m\u001b[1;33m.\u001b[0m\u001b[0mlevels\u001b[0m\u001b[1;33m[\u001b[0m\u001b[1;36m0\u001b[0m\u001b[1;33m]\u001b[0m\u001b[1;33m)\u001b[0m\u001b[1;33m\u001b[0m\u001b[0m\n\u001b[0;32m     13\u001b[0m \u001b[0max\u001b[0m\u001b[1;33m.\u001b[0m\u001b[0mlegend\u001b[0m\u001b[1;33m(\u001b[0m\u001b[1;33m)\u001b[0m\u001b[1;33m\u001b[0m\u001b[0m\n",
      "\u001b[1;32m/home/obotvinnik/anaconda/lib/python2.7/site-packages/matplotlib/__init__.pyc\u001b[0m in \u001b[0;36minner\u001b[1;34m(ax, *args, **kwargs)\u001b[0m\n\u001b[0;32m   1810\u001b[0m                     warnings.warn(msg % (label_namer, func.__name__),\n\u001b[0;32m   1811\u001b[0m                                   RuntimeWarning, stacklevel=2)\n\u001b[1;32m-> 1812\u001b[1;33m             \u001b[1;32mreturn\u001b[0m \u001b[0mfunc\u001b[0m\u001b[1;33m(\u001b[0m\u001b[0max\u001b[0m\u001b[1;33m,\u001b[0m \u001b[1;33m*\u001b[0m\u001b[0margs\u001b[0m\u001b[1;33m,\u001b[0m \u001b[1;33m**\u001b[0m\u001b[0mkwargs\u001b[0m\u001b[1;33m)\u001b[0m\u001b[1;33m\u001b[0m\u001b[0m\n\u001b[0m\u001b[0;32m   1813\u001b[0m         \u001b[0mpre_doc\u001b[0m \u001b[1;33m=\u001b[0m \u001b[0minner\u001b[0m\u001b[1;33m.\u001b[0m\u001b[0m__doc__\u001b[0m\u001b[1;33m\u001b[0m\u001b[0m\n\u001b[0;32m   1814\u001b[0m         \u001b[1;32mif\u001b[0m \u001b[0mpre_doc\u001b[0m \u001b[1;32mis\u001b[0m \u001b[0mNone\u001b[0m\u001b[1;33m:\u001b[0m\u001b[1;33m\u001b[0m\u001b[0m\n",
      "\u001b[1;32m/home/obotvinnik/anaconda/lib/python2.7/site-packages/matplotlib/axes/_axes.pyc\u001b[0m in \u001b[0;36mbar\u001b[1;34m(self, left, height, width, bottom, **kwargs)\u001b[0m\n\u001b[0;32m   2129\u001b[0m                 \u001b[0mlabel\u001b[0m\u001b[1;33m=\u001b[0m\u001b[1;34m'_nolegend_'\u001b[0m\u001b[1;33m\u001b[0m\u001b[0m\n\u001b[0;32m   2130\u001b[0m                 )\n\u001b[1;32m-> 2131\u001b[1;33m             \u001b[0mr\u001b[0m\u001b[1;33m.\u001b[0m\u001b[0mupdate\u001b[0m\u001b[1;33m(\u001b[0m\u001b[0mkwargs\u001b[0m\u001b[1;33m)\u001b[0m\u001b[1;33m\u001b[0m\u001b[0m\n\u001b[0m\u001b[0;32m   2132\u001b[0m             \u001b[0mr\u001b[0m\u001b[1;33m.\u001b[0m\u001b[0mget_path\u001b[0m\u001b[1;33m(\u001b[0m\u001b[1;33m)\u001b[0m\u001b[1;33m.\u001b[0m\u001b[0m_interpolation_steps\u001b[0m \u001b[1;33m=\u001b[0m \u001b[1;36m100\u001b[0m\u001b[1;33m\u001b[0m\u001b[0m\n\u001b[0;32m   2133\u001b[0m             \u001b[1;31m#print r.get_label(), label, 'label' in kwargs\u001b[0m\u001b[1;33m\u001b[0m\u001b[1;33m\u001b[0m\u001b[0m\n",
      "\u001b[1;32m/home/obotvinnik/anaconda/lib/python2.7/site-packages/matplotlib/artist.pyc\u001b[0m in \u001b[0;36mupdate\u001b[1;34m(self, props)\u001b[0m\n\u001b[0;32m    854\u001b[0m                 \u001b[0mfunc\u001b[0m \u001b[1;33m=\u001b[0m \u001b[0mgetattr\u001b[0m\u001b[1;33m(\u001b[0m\u001b[0mself\u001b[0m\u001b[1;33m,\u001b[0m \u001b[1;34m'set_'\u001b[0m \u001b[1;33m+\u001b[0m \u001b[0mk\u001b[0m\u001b[1;33m,\u001b[0m \u001b[0mNone\u001b[0m\u001b[1;33m)\u001b[0m\u001b[1;33m\u001b[0m\u001b[0m\n\u001b[0;32m    855\u001b[0m                 \u001b[1;32mif\u001b[0m \u001b[0mfunc\u001b[0m \u001b[1;32mis\u001b[0m \u001b[0mNone\u001b[0m \u001b[1;32mor\u001b[0m \u001b[1;32mnot\u001b[0m \u001b[0msix\u001b[0m\u001b[1;33m.\u001b[0m\u001b[0mcallable\u001b[0m\u001b[1;33m(\u001b[0m\u001b[0mfunc\u001b[0m\u001b[1;33m)\u001b[0m\u001b[1;33m:\u001b[0m\u001b[1;33m\u001b[0m\u001b[0m\n\u001b[1;32m--> 856\u001b[1;33m                     \u001b[1;32mraise\u001b[0m \u001b[0mAttributeError\u001b[0m\u001b[1;33m(\u001b[0m\u001b[1;34m'Unknown property %s'\u001b[0m \u001b[1;33m%\u001b[0m \u001b[0mk\u001b[0m\u001b[1;33m)\u001b[0m\u001b[1;33m\u001b[0m\u001b[0m\n\u001b[0m\u001b[0;32m    857\u001b[0m                 \u001b[0mfunc\u001b[0m\u001b[1;33m(\u001b[0m\u001b[0mv\u001b[0m\u001b[1;33m)\u001b[0m\u001b[1;33m\u001b[0m\u001b[0m\n\u001b[0;32m    858\u001b[0m             \u001b[0mchanged\u001b[0m \u001b[1;33m=\u001b[0m \u001b[0mTrue\u001b[0m\u001b[1;33m\u001b[0m\u001b[0m\n",
      "\u001b[1;31mAttributeError\u001b[0m: Unknown property linecolor"
     ]
    },
    {
     "data": {
      "image/png": "[encoded data removed]",
      "text/plain": [
       "<matplotlib.figure.Figure at 0x2b75050730d0>"
      ]
     },
     "metadata": {},
     "output_type": "display_data"
    }
   ],
   "source": [
    "sns.set(style='ticks', context='paper')\n",
    "fig, ax = plt.subplots(figsize=(1.75, 1.5))\n",
    "palette = ['white', 'grey'] #sns.color_palette('Greys', n_colors=2)\n",
    "\n",
    "for i, (delta_modality, s) in enumerate(percent_exons_change_modalities.groupby(level=1)):\n",
    "    six.print_(delta_modality)\n",
    "    color = palette[i]\n",
    "    x = np.arange(s.shape[0])\n",
    "\n",
    "    bottom = bottoms.loc[idx[:, delta_modality]]\n",
    "    ax.bar(x, s, bottom=bottom, label=delta_modality, color=color, linecolor='#262626')\n",
    "ax.set(xticks=x + 0.4, xticklabels=bottoms.index.levels[0])\n",
    "ax.legend()\n",
    "sns.despine()\n",
    "fig.tight_layout()\n",
    "fig.savefig('{}/n_exons_change_modalities_barplot_stacked.pdf'.format(folder))\n"
   ]
  },
  {
   "cell_type": "code",
   "execution_count": 158,
   "metadata": {
    "collapsed": false
   },
   "outputs": [
    {
     "data": {
      "text/html": [
       "<div>\n",
       "<table border=\"1\" class=\"dataframe\">\n",
       "  <thead>\n",
       "    <tr style=\"text-align: right;\">\n",
       "      <th></th>\n",
       "      <th>phenotype_x</th>\n",
       "      <th>event_id</th>\n",
       "      <th>modality_x</th>\n",
       "      <th>phenotype_y</th>\n",
       "      <th>modality_y</th>\n",
       "      <th>transition</th>\n",
       "    </tr>\n",
       "  </thead>\n",
       "  <tbody>\n",
       "    <tr>\n",
       "      <th>6</th>\n",
       "      <td>iPSC</td>\n",
       "      <td>exon:chr10:101165513-101165617:-@exon:chr10:10...</td>\n",
       "      <td>included</td>\n",
       "      <td>MN</td>\n",
       "      <td>included</td>\n",
       "      <td>iPSC-MN</td>\n",
       "    </tr>\n",
       "    <tr>\n",
       "      <th>15</th>\n",
       "      <td>iPSC</td>\n",
       "      <td>exon:chr10:101480744-101480825:-@exon:chr10:10...</td>\n",
       "      <td>included</td>\n",
       "      <td>MN</td>\n",
       "      <td>bimodal</td>\n",
       "      <td>iPSC-MN</td>\n",
       "    </tr>\n",
       "    <tr>\n",
       "      <th>24</th>\n",
       "      <td>iPSC</td>\n",
       "      <td>exon:chr10:102114184-102114389:+@exon:chr10:10...</td>\n",
       "      <td>included</td>\n",
       "      <td>MN</td>\n",
       "      <td>included</td>\n",
       "      <td>iPSC-MN</td>\n",
       "    </tr>\n",
       "    <tr>\n",
       "      <th>33</th>\n",
       "      <td>iPSC</td>\n",
       "      <td>exon:chr10:102286732-102286831:-@exon:chr10:10...</td>\n",
       "      <td>included</td>\n",
       "      <td>MN</td>\n",
       "      <td>included</td>\n",
       "      <td>iPSC-MN</td>\n",
       "    </tr>\n",
       "    <tr>\n",
       "      <th>42</th>\n",
       "      <td>iPSC</td>\n",
       "      <td>exon:chr10:102747070-102747240:-@exon:chr10:10...</td>\n",
       "      <td>included</td>\n",
       "      <td>MN</td>\n",
       "      <td>bimodal</td>\n",
       "      <td>iPSC-MN</td>\n",
       "    </tr>\n",
       "  </tbody>\n",
       "</table>\n",
       "</div>"
      ],
      "text/plain": [
       "   phenotype_x                                           event_id modality_x  \\\n",
       "6         iPSC  exon:chr10:101165513-101165617:-@exon:chr10:10...   included   \n",
       "15        iPSC  exon:chr10:101480744-101480825:-@exon:chr10:10...   included   \n",
       "24        iPSC  exon:chr10:102114184-102114389:+@exon:chr10:10...   included   \n",
       "33        iPSC  exon:chr10:102286732-102286831:-@exon:chr10:10...   included   \n",
       "42        iPSC  exon:chr10:102747070-102747240:-@exon:chr10:10...   included   \n",
       "\n",
       "   phenotype_y modality_y transition  \n",
       "6           MN   included    iPSC-MN  \n",
       "15          MN    bimodal    iPSC-MN  \n",
       "24          MN   included    iPSC-MN  \n",
       "33          MN   included    iPSC-MN  \n",
       "42          MN    bimodal    iPSC-MN  "
      ]
     },
     "execution_count": 158,
     "metadata": {},
     "output_type": "execute_result"
    }
   ],
   "source": [
    "rows = (modality_transitions.phenotype_x == 'iPSC') & (modality_transitions.phenotype_y == 'MN')\n",
    "ipsc_mn_modalities = modality_transitions.loc[rows]\n",
    "ipsc_mn_modalities.head()"
   ]
  },
  {
   "cell_type": "code",
   "execution_count": 159,
   "metadata": {
    "collapsed": false
   },
   "outputs": [
    {
     "data": {
      "text/plain": [
       "modality_x  modality_y\n",
       "bimodal     bimodal       353\n",
       "            excluded      118\n",
       "            included      196\n",
       "excluded    bimodal       201\n",
       "            excluded      942\n",
       "dtype: int64"
      ]
     },
     "execution_count": 159,
     "metadata": {},
     "output_type": "execute_result"
    }
   ],
   "source": [
    "ipsc_mn_modality_count = ipsc_mn_modalities.groupby(['modality_x', 'modality_y']).size()\n",
    "ipsc_mn_modality_count.head()"
   ]
  },
  {
   "cell_type": "code",
   "execution_count": 160,
   "metadata": {
    "collapsed": false
   },
   "outputs": [
    {
     "data": {
      "text/html": [
       "<div>\n",
       "<table border=\"1\" class=\"dataframe\">\n",
       "  <thead>\n",
       "    <tr style=\"text-align: right;\">\n",
       "      <th>modality_y</th>\n",
       "      <th>bimodal</th>\n",
       "      <th>excluded</th>\n",
       "      <th>included</th>\n",
       "      <th>uncategorized</th>\n",
       "    </tr>\n",
       "    <tr>\n",
       "      <th>modality_x</th>\n",
       "      <th></th>\n",
       "      <th></th>\n",
       "      <th></th>\n",
       "      <th></th>\n",
       "    </tr>\n",
       "  </thead>\n",
       "  <tbody>\n",
       "    <tr>\n",
       "      <th>bimodal</th>\n",
       "      <td>353</td>\n",
       "      <td>118</td>\n",
       "      <td>196</td>\n",
       "      <td>NaN</td>\n",
       "    </tr>\n",
       "    <tr>\n",
       "      <th>excluded</th>\n",
       "      <td>201</td>\n",
       "      <td>942</td>\n",
       "      <td>7</td>\n",
       "      <td>2</td>\n",
       "    </tr>\n",
       "    <tr>\n",
       "      <th>included</th>\n",
       "      <td>509</td>\n",
       "      <td>NaN</td>\n",
       "      <td>2584</td>\n",
       "      <td>NaN</td>\n",
       "    </tr>\n",
       "    <tr>\n",
       "      <th>middle</th>\n",
       "      <td>NaN</td>\n",
       "      <td>NaN</td>\n",
       "      <td>1</td>\n",
       "      <td>NaN</td>\n",
       "    </tr>\n",
       "    <tr>\n",
       "      <th>uncategorized</th>\n",
       "      <td>32</td>\n",
       "      <td>1</td>\n",
       "      <td>NaN</td>\n",
       "      <td>NaN</td>\n",
       "    </tr>\n",
       "  </tbody>\n",
       "</table>\n",
       "</div>"
      ],
      "text/plain": [
       "modality_y     bimodal  excluded  included  uncategorized\n",
       "modality_x                                               \n",
       "bimodal            353       118       196            NaN\n",
       "excluded           201       942         7              2\n",
       "included           509       NaN      2584            NaN\n",
       "middle             NaN       NaN         1            NaN\n",
       "uncategorized       32         1       NaN            NaN"
      ]
     },
     "execution_count": 160,
     "metadata": {},
     "output_type": "execute_result"
    }
   ],
   "source": [
    "ipsc_mn_modality_2d = ipsc_mn_modality_count.unstack()\n",
    "ipsc_mn_modality_2d.head()"
   ]
  },
  {
   "cell_type": "code",
   "execution_count": 161,
   "metadata": {
    "collapsed": false
   },
   "outputs": [
    {
     "data": {
      "text/html": [
       "<div>\n",
       "<table border=\"1\" class=\"dataframe\">\n",
       "  <thead>\n",
       "    <tr style=\"text-align: right;\">\n",
       "      <th>MN</th>\n",
       "      <th>bimodal</th>\n",
       "      <th>excluded</th>\n",
       "      <th>included</th>\n",
       "      <th>uncategorized</th>\n",
       "    </tr>\n",
       "    <tr>\n",
       "      <th>iPSC</th>\n",
       "      <th></th>\n",
       "      <th></th>\n",
       "      <th></th>\n",
       "      <th></th>\n",
       "    </tr>\n",
       "  </thead>\n",
       "  <tbody>\n",
       "    <tr>\n",
       "      <th>bimodal</th>\n",
       "      <td>353</td>\n",
       "      <td>118</td>\n",
       "      <td>196</td>\n",
       "      <td>NaN</td>\n",
       "    </tr>\n",
       "    <tr>\n",
       "      <th>excluded</th>\n",
       "      <td>201</td>\n",
       "      <td>942</td>\n",
       "      <td>7</td>\n",
       "      <td>2</td>\n",
       "    </tr>\n",
       "    <tr>\n",
       "      <th>included</th>\n",
       "      <td>509</td>\n",
       "      <td>NaN</td>\n",
       "      <td>2584</td>\n",
       "      <td>NaN</td>\n",
       "    </tr>\n",
       "    <tr>\n",
       "      <th>middle</th>\n",
       "      <td>NaN</td>\n",
       "      <td>NaN</td>\n",
       "      <td>1</td>\n",
       "      <td>NaN</td>\n",
       "    </tr>\n",
       "    <tr>\n",
       "      <th>uncategorized</th>\n",
       "      <td>32</td>\n",
       "      <td>1</td>\n",
       "      <td>NaN</td>\n",
       "      <td>NaN</td>\n",
       "    </tr>\n",
       "  </tbody>\n",
       "</table>\n",
       "</div>"
      ],
      "text/plain": [
       "MN             bimodal  excluded  included  uncategorized\n",
       "iPSC                                                     \n",
       "bimodal            353       118       196            NaN\n",
       "excluded           201       942         7              2\n",
       "included           509       NaN      2584            NaN\n",
       "middle             NaN       NaN         1            NaN\n",
       "uncategorized       32         1       NaN            NaN"
      ]
     },
     "execution_count": 161,
     "metadata": {},
     "output_type": "execute_result"
    }
   ],
   "source": [
    "ipsc_mn_modality_2d.index.name = 'iPSC'\n",
    "ipsc_mn_modality_2d.columns.name = 'MN'\n",
    "ipsc_mn_modality_2d.head()"
   ]
  },
  {
   "cell_type": "code",
   "execution_count": 162,
   "metadata": {
    "collapsed": true
   },
   "outputs": [],
   "source": [
    "from anchor import MODALITY_ORDER"
   ]
  },
  {
   "cell_type": "code",
   "execution_count": 163,
   "metadata": {
    "collapsed": false
   },
   "outputs": [
    {
     "data": {
      "text/html": [
       "<div>\n",
       "<table border=\"1\" class=\"dataframe\">\n",
       "  <thead>\n",
       "    <tr style=\"text-align: right;\">\n",
       "      <th>MN</th>\n",
       "      <th>excluded</th>\n",
       "      <th>bimodal</th>\n",
       "      <th>included</th>\n",
       "      <th>middle</th>\n",
       "      <th>uncategorized</th>\n",
       "    </tr>\n",
       "    <tr>\n",
       "      <th>iPSC</th>\n",
       "      <th></th>\n",
       "      <th></th>\n",
       "      <th></th>\n",
       "      <th></th>\n",
       "      <th></th>\n",
       "    </tr>\n",
       "  </thead>\n",
       "  <tbody>\n",
       "    <tr>\n",
       "      <th>excluded</th>\n",
       "      <td>942</td>\n",
       "      <td>201</td>\n",
       "      <td>7</td>\n",
       "      <td>NaN</td>\n",
       "      <td>2</td>\n",
       "    </tr>\n",
       "    <tr>\n",
       "      <th>bimodal</th>\n",
       "      <td>118</td>\n",
       "      <td>353</td>\n",
       "      <td>196</td>\n",
       "      <td>NaN</td>\n",
       "      <td>NaN</td>\n",
       "    </tr>\n",
       "    <tr>\n",
       "      <th>included</th>\n",
       "      <td>NaN</td>\n",
       "      <td>509</td>\n",
       "      <td>2584</td>\n",
       "      <td>NaN</td>\n",
       "      <td>NaN</td>\n",
       "    </tr>\n",
       "    <tr>\n",
       "      <th>middle</th>\n",
       "      <td>NaN</td>\n",
       "      <td>NaN</td>\n",
       "      <td>1</td>\n",
       "      <td>NaN</td>\n",
       "      <td>NaN</td>\n",
       "    </tr>\n",
       "    <tr>\n",
       "      <th>uncategorized</th>\n",
       "      <td>1</td>\n",
       "      <td>32</td>\n",
       "      <td>NaN</td>\n",
       "      <td>NaN</td>\n",
       "      <td>NaN</td>\n",
       "    </tr>\n",
       "  </tbody>\n",
       "</table>\n",
       "</div>"
      ],
      "text/plain": [
       "MN             excluded  bimodal  included  middle  uncategorized\n",
       "iPSC                                                             \n",
       "excluded            942      201         7     NaN              2\n",
       "bimodal             118      353       196     NaN            NaN\n",
       "included            NaN      509      2584     NaN            NaN\n",
       "middle              NaN      NaN         1     NaN            NaN\n",
       "uncategorized         1       32       NaN     NaN            NaN"
      ]
     },
     "execution_count": 163,
     "metadata": {},
     "output_type": "execute_result"
    }
   ],
   "source": [
    "ipsc_mn_modality_2d = ipsc_mn_modality_2d.reindex(index=MODALITY_ORDER, columns=MODALITY_ORDER)\n",
    "ipsc_mn_modality_2d"
   ]
  },
  {
   "cell_type": "code",
   "execution_count": 164,
   "metadata": {
    "collapsed": true
   },
   "outputs": [],
   "source": [
    "sns.set(style='ticks', context='paper')"
   ]
  },
  {
   "cell_type": "code",
   "execution_count": 165,
   "metadata": {
    "collapsed": false
   },
   "outputs": [
    {
     "data": {
      "image/png": "[encoded data removed]",
      "text/plain": [
       "<matplotlib.figure.Figure at 0x2b749ef73b50>"
      ]
     },
     "metadata": {},
     "output_type": "display_data"
    }
   ],
   "source": [
    "fig, ax = plt.subplots(figsize=(2.5, 2))\n",
    "sns.heatmap(ipsc_mn_modality_2d, annot=True, fmt='g')\n",
    "ax.set(xticks=[], yticks=[])\n",
    "# fig.axes[-1].yaxis.locator_params()\n",
    "fig.tight_layout()\n",
    "# fig.savefig('{}/ipsc_to_mn.pdf')"
   ]
  },
  {
   "cell_type": "markdown",
   "metadata": {},
   "source": [
    "### Get percentages for comparison - use % of events in both"
   ]
  },
  {
   "cell_type": "code",
   "execution_count": 166,
   "metadata": {
    "collapsed": false
   },
   "outputs": [
    {
     "data": {
      "text/html": [
       "<div>\n",
       "<table border=\"1\" class=\"dataframe\">\n",
       "  <thead>\n",
       "    <tr style=\"text-align: right;\">\n",
       "      <th>MN</th>\n",
       "      <th>excluded</th>\n",
       "      <th>bimodal</th>\n",
       "      <th>included</th>\n",
       "      <th>middle</th>\n",
       "      <th>uncategorized</th>\n",
       "    </tr>\n",
       "    <tr>\n",
       "      <th>iPSC</th>\n",
       "      <th></th>\n",
       "      <th></th>\n",
       "      <th></th>\n",
       "      <th></th>\n",
       "      <th></th>\n",
       "    </tr>\n",
       "  </thead>\n",
       "  <tbody>\n",
       "    <tr>\n",
       "      <th>excluded</th>\n",
       "      <td>81.770833</td>\n",
       "      <td>17.447917</td>\n",
       "      <td>0.607639</td>\n",
       "      <td>NaN</td>\n",
       "      <td>0.173611</td>\n",
       "    </tr>\n",
       "    <tr>\n",
       "      <th>bimodal</th>\n",
       "      <td>17.691154</td>\n",
       "      <td>52.923538</td>\n",
       "      <td>29.385307</td>\n",
       "      <td>NaN</td>\n",
       "      <td>NaN</td>\n",
       "    </tr>\n",
       "    <tr>\n",
       "      <th>included</th>\n",
       "      <td>NaN</td>\n",
       "      <td>16.456515</td>\n",
       "      <td>83.543485</td>\n",
       "      <td>NaN</td>\n",
       "      <td>NaN</td>\n",
       "    </tr>\n",
       "    <tr>\n",
       "      <th>middle</th>\n",
       "      <td>NaN</td>\n",
       "      <td>NaN</td>\n",
       "      <td>100.000000</td>\n",
       "      <td>NaN</td>\n",
       "      <td>NaN</td>\n",
       "    </tr>\n",
       "    <tr>\n",
       "      <th>uncategorized</th>\n",
       "      <td>3.030303</td>\n",
       "      <td>96.969697</td>\n",
       "      <td>NaN</td>\n",
       "      <td>NaN</td>\n",
       "      <td>NaN</td>\n",
       "    </tr>\n",
       "  </tbody>\n",
       "</table>\n",
       "</div>"
      ],
      "text/plain": [
       "MN              excluded    bimodal    included  middle  uncategorized\n",
       "iPSC                                                                  \n",
       "excluded       81.770833  17.447917    0.607639     NaN       0.173611\n",
       "bimodal        17.691154  52.923538   29.385307     NaN            NaN\n",
       "included             NaN  16.456515   83.543485     NaN            NaN\n",
       "middle               NaN        NaN  100.000000     NaN            NaN\n",
       "uncategorized   3.030303  96.969697         NaN     NaN            NaN"
      ]
     },
     "execution_count": 166,
     "metadata": {},
     "output_type": "execute_result"
    }
   ],
   "source": [
    "percentages = 100*ipsc_mn_modality_2d.divide(ipsc_mn_modality_2d.sum(axis=1), axis=0)\n",
    "percentages"
   ]
  },
  {
   "cell_type": "code",
   "execution_count": 167,
   "metadata": {
    "collapsed": false
   },
   "outputs": [
    {
     "data": {
      "image/png": "[encoded data removed]",
      "text/plain": [
       "<matplotlib.figure.Figure at 0x2b74aedb44d0>"
      ]
     },
     "metadata": {},
     "output_type": "display_data"
    }
   ],
   "source": [
    "import colorsys\n",
    "\n",
    "fig, ax = plt.subplots(figsize=(2.5, 2))\n",
    "sns.heatmap(percentages, cbar_kws=dict(label='% AS exons in both iPSC in NPC'))#, annot=True, fmt='.1f')\n",
    "\n",
    "# fig.axes[-1].yaxis.locator_params()\n",
    "\n",
    "raw = ipsc_mn_modality_2d.ix[::-1]\n",
    "\n",
    "mesh = ax.collections[0]\n",
    "\n",
    "fmt = 'g'\n",
    "\n",
    "mesh.update_scalarmappable()\n",
    "xpos, ypos = np.meshgrid(ax.get_xticks(), ax.get_yticks())\n",
    "for x, y, percentage, val, color in zip(xpos.flat, ypos.flat, \n",
    "                            mesh.get_array(), raw.values.flat, mesh.get_facecolors()):\n",
    "#     print val\n",
    "    if percentage is not np.ma.masked:\n",
    "        _, l, _ = colorsys.rgb_to_hls(*color[:3])\n",
    "        text_color = \".15\" if l > .5 else \"w\"\n",
    "        val = (\"{:\" + fmt + \"}\").format(val)\n",
    "        text_kwargs = dict(color=text_color, ha=\"center\", va=\"center\")\n",
    "#         text_kwargs.update(self.annot_kws)\n",
    "        ax.text(x, y, val, **text_kwargs)\n",
    "    else:\n",
    "        text_kwargs = dict(color='.15', ha=\"center\", va=\"center\")\n",
    "        ax.text(x, y, 0, **text_kwargs)\n",
    "ax.set(xticks=[], yticks=[])\n",
    "fig.tight_layout()\n",
    "fig.savefig('{}/ipsc_to_mn_modality_heatmap.pdf'.format(folder))"
   ]
  },
  {
   "cell_type": "markdown",
   "metadata": {},
   "source": [
    "### iPSC-NPC $\\Delta$ modality heatmap"
   ]
  },
  {
   "cell_type": "code",
   "execution_count": 168,
   "metadata": {
    "collapsed": false
   },
   "outputs": [
    {
     "data": {
      "text/html": [
       "<div>\n",
       "<table border=\"1\" class=\"dataframe\">\n",
       "  <thead>\n",
       "    <tr style=\"text-align: right;\">\n",
       "      <th></th>\n",
       "      <th>phenotype_x</th>\n",
       "      <th>event_id</th>\n",
       "      <th>modality_x</th>\n",
       "      <th>phenotype_y</th>\n",
       "      <th>modality_y</th>\n",
       "      <th>transition</th>\n",
       "    </tr>\n",
       "  </thead>\n",
       "  <tbody>\n",
       "    <tr>\n",
       "      <th>7</th>\n",
       "      <td>iPSC</td>\n",
       "      <td>exon:chr10:101165513-101165617:-@exon:chr10:10...</td>\n",
       "      <td>included</td>\n",
       "      <td>NPC</td>\n",
       "      <td>included</td>\n",
       "      <td>iPSC-NPC</td>\n",
       "    </tr>\n",
       "    <tr>\n",
       "      <th>16</th>\n",
       "      <td>iPSC</td>\n",
       "      <td>exon:chr10:101480744-101480825:-@exon:chr10:10...</td>\n",
       "      <td>included</td>\n",
       "      <td>NPC</td>\n",
       "      <td>bimodal</td>\n",
       "      <td>iPSC-NPC</td>\n",
       "    </tr>\n",
       "    <tr>\n",
       "      <th>25</th>\n",
       "      <td>iPSC</td>\n",
       "      <td>exon:chr10:102114184-102114389:+@exon:chr10:10...</td>\n",
       "      <td>included</td>\n",
       "      <td>NPC</td>\n",
       "      <td>included</td>\n",
       "      <td>iPSC-NPC</td>\n",
       "    </tr>\n",
       "    <tr>\n",
       "      <th>34</th>\n",
       "      <td>iPSC</td>\n",
       "      <td>exon:chr10:102286732-102286831:-@exon:chr10:10...</td>\n",
       "      <td>included</td>\n",
       "      <td>NPC</td>\n",
       "      <td>included</td>\n",
       "      <td>iPSC-NPC</td>\n",
       "    </tr>\n",
       "    <tr>\n",
       "      <th>43</th>\n",
       "      <td>iPSC</td>\n",
       "      <td>exon:chr10:102747070-102747240:-@exon:chr10:10...</td>\n",
       "      <td>included</td>\n",
       "      <td>NPC</td>\n",
       "      <td>included</td>\n",
       "      <td>iPSC-NPC</td>\n",
       "    </tr>\n",
       "  </tbody>\n",
       "</table>\n",
       "</div>"
      ],
      "text/plain": [
       "   phenotype_x                                           event_id modality_x  \\\n",
       "7         iPSC  exon:chr10:101165513-101165617:-@exon:chr10:10...   included   \n",
       "16        iPSC  exon:chr10:101480744-101480825:-@exon:chr10:10...   included   \n",
       "25        iPSC  exon:chr10:102114184-102114389:+@exon:chr10:10...   included   \n",
       "34        iPSC  exon:chr10:102286732-102286831:-@exon:chr10:10...   included   \n",
       "43        iPSC  exon:chr10:102747070-102747240:-@exon:chr10:10...   included   \n",
       "\n",
       "   phenotype_y modality_y transition  \n",
       "7          NPC   included   iPSC-NPC  \n",
       "16         NPC    bimodal   iPSC-NPC  \n",
       "25         NPC   included   iPSC-NPC  \n",
       "34         NPC   included   iPSC-NPC  \n",
       "43         NPC   included   iPSC-NPC  "
      ]
     },
     "execution_count": 168,
     "metadata": {},
     "output_type": "execute_result"
    }
   ],
   "source": [
    "rows = (modality_transitions.phenotype_x == 'iPSC') & (modality_transitions.phenotype_y == 'NPC')\n",
    "ipsc_npc_modalities = modality_transitions.loc[rows]\n",
    "ipsc_npc_modalities.head()"
   ]
  },
  {
   "cell_type": "code",
   "execution_count": 169,
   "metadata": {
    "collapsed": false
   },
   "outputs": [
    {
     "data": {
      "text/html": [
       "<div>\n",
       "<table border=\"1\" class=\"dataframe\">\n",
       "  <thead>\n",
       "    <tr style=\"text-align: right;\">\n",
       "      <th>NPC</th>\n",
       "      <th>excluded</th>\n",
       "      <th>bimodal</th>\n",
       "      <th>included</th>\n",
       "      <th>middle</th>\n",
       "      <th>uncategorized</th>\n",
       "    </tr>\n",
       "    <tr>\n",
       "      <th>iPSC</th>\n",
       "      <th></th>\n",
       "      <th></th>\n",
       "      <th></th>\n",
       "      <th></th>\n",
       "      <th></th>\n",
       "    </tr>\n",
       "  </thead>\n",
       "  <tbody>\n",
       "    <tr>\n",
       "      <th>excluded</th>\n",
       "      <td>81.776240</td>\n",
       "      <td>18.166090</td>\n",
       "      <td>NaN</td>\n",
       "      <td>NaN</td>\n",
       "      <td>0.057670</td>\n",
       "    </tr>\n",
       "    <tr>\n",
       "      <th>bimodal</th>\n",
       "      <td>13.464141</td>\n",
       "      <td>58.525034</td>\n",
       "      <td>28.010825</td>\n",
       "      <td>NaN</td>\n",
       "      <td>NaN</td>\n",
       "    </tr>\n",
       "    <tr>\n",
       "      <th>included</th>\n",
       "      <td>NaN</td>\n",
       "      <td>16.178965</td>\n",
       "      <td>83.821035</td>\n",
       "      <td>NaN</td>\n",
       "      <td>NaN</td>\n",
       "    </tr>\n",
       "    <tr>\n",
       "      <th>middle</th>\n",
       "      <td>NaN</td>\n",
       "      <td>NaN</td>\n",
       "      <td>100.000000</td>\n",
       "      <td>NaN</td>\n",
       "      <td>NaN</td>\n",
       "    </tr>\n",
       "    <tr>\n",
       "      <th>uncategorized</th>\n",
       "      <td>6.060606</td>\n",
       "      <td>87.878788</td>\n",
       "      <td>NaN</td>\n",
       "      <td>NaN</td>\n",
       "      <td>6.060606</td>\n",
       "    </tr>\n",
       "  </tbody>\n",
       "</table>\n",
       "</div>"
      ],
      "text/plain": [
       "NPC             excluded    bimodal    included  middle  uncategorized\n",
       "iPSC                                                                  \n",
       "excluded       81.776240  18.166090         NaN     NaN       0.057670\n",
       "bimodal        13.464141  58.525034   28.010825     NaN            NaN\n",
       "included             NaN  16.178965   83.821035     NaN            NaN\n",
       "middle               NaN        NaN  100.000000     NaN            NaN\n",
       "uncategorized   6.060606  87.878788         NaN     NaN       6.060606"
      ]
     },
     "execution_count": 169,
     "metadata": {},
     "output_type": "execute_result"
    }
   ],
   "source": [
    "ipsc_npc_modality_count = ipsc_npc_modalities.groupby(['modality_x', 'modality_y']).size()\n",
    "ipsc_npc_modality_2d = ipsc_npc_modality_count.unstack()\n",
    "ipsc_npc_modality_2d.index.name = 'iPSC'\n",
    "ipsc_npc_modality_2d.columns.name = 'NPC'\n",
    "ipsc_npc_modality_2d = ipsc_npc_modality_2d.reindex(index=MODALITY_ORDER, columns=MODALITY_ORDER)\n",
    "ipsc_npc_percentages = 100*ipsc_npc_modality_2d.divide(ipsc_npc_modality_2d.sum(axis=1), axis=0)\n",
    "ipsc_npc_percentages"
   ]
  },
  {
   "cell_type": "code",
   "execution_count": 170,
   "metadata": {
    "collapsed": false
   },
   "outputs": [
    {
     "data": {
      "image/png": "[encoded data removed]",
      "text/plain": [
       "<matplotlib.figure.Figure at 0x2b74df6110d0>"
      ]
     },
     "metadata": {},
     "output_type": "display_data"
    }
   ],
   "source": [
    "import colorsys\n",
    "\n",
    "fig, ax = plt.subplots(figsize=(2.5, 2))\n",
    "sns.heatmap(ipsc_npc_percentages, cbar_kws=dict(label='% AS exons in both iPSC and NPC'))#, annot=True, fmt='.1f')\n",
    "\n",
    "# fig.axes[-1].yaxis.locator_params()\n",
    "\n",
    "raw = ipsc_npc_modality_2d.ix[::-1]\n",
    "\n",
    "mesh = ax.collections[0]\n",
    "\n",
    "fmt = 'g'\n",
    "\n",
    "mesh.update_scalarmappable()\n",
    "xpos, ypos = np.meshgrid(ax.get_xticks(), ax.get_yticks())\n",
    "for x, y, percentage, val, color in zip(xpos.flat, ypos.flat, \n",
    "                            mesh.get_array(), raw.values.flat, mesh.get_facecolors()):\n",
    "#     print val\n",
    "    if percentage is not np.ma.masked:\n",
    "        _, l, _ = colorsys.rgb_to_hls(*color[:3])\n",
    "        text_color = \".15\" if l > .5 else \"w\"\n",
    "        val = (\"{:\" + fmt + \"}\").format(val)\n",
    "        text_kwargs = dict(color=text_color, ha=\"center\", va=\"center\")\n",
    "#         text_kwargs.update(self.annot_kws)\n",
    "        ax.text(x, y, val, **text_kwargs)\n",
    "    else:\n",
    "        text_kwargs = dict(color='.15', ha=\"center\", va=\"center\")\n",
    "        ax.text(x, y, 0, **text_kwargs)\n",
    "ax.set(xticks=[], yticks=[])\n",
    "fig.tight_layout()\n",
    "fig.savefig('{}/ipsc_to_npc_modality_heatmap.pdf'.format(folder))"
   ]
  },
  {
   "cell_type": "markdown",
   "metadata": {},
   "source": [
    "## Statistical enrichment of motif changes"
   ]
  },
  {
   "cell_type": "code",
   "execution_count": 171,
   "metadata": {
    "collapsed": false
   },
   "outputs": [],
   "source": [
    "transitions = [(u'iPSC', u'NPC'), (u'iPSC', u'MN')]"
   ]
  },
  {
   "cell_type": "code",
   "execution_count": 172,
   "metadata": {
    "collapsed": false
   },
   "outputs": [],
   "source": [
    "hypergeom?"
   ]
  },
  {
   "cell_type": "code",
   "execution_count": 173,
   "metadata": {
    "collapsed": true
   },
   "outputs": [],
   "source": [
    "from scipy.stats import hypergeom"
   ]
  },
  {
   "cell_type": "code",
   "execution_count": 174,
   "metadata": {
    "collapsed": false
   },
   "outputs": [
    {
     "data": {
      "text/html": [
       "<div>\n",
       "<table border=\"1\" class=\"dataframe\">\n",
       "  <thead>\n",
       "    <tr style=\"text-align: right;\">\n",
       "      <th></th>\n",
       "      <th>phenotype1</th>\n",
       "      <th>modality1</th>\n",
       "      <th>phenotype2</th>\n",
       "      <th>modality2</th>\n",
       "      <th>$-\\log_{10}(p)$</th>\n",
       "      <th>$-\\log_{10}(q)$</th>\n",
       "    </tr>\n",
       "  </thead>\n",
       "  <tbody>\n",
       "    <tr>\n",
       "      <th>0</th>\n",
       "      <td>iPSC</td>\n",
       "      <td>excluded</td>\n",
       "      <td>NPC</td>\n",
       "      <td>excluded</td>\n",
       "      <td>2.317343e+03</td>\n",
       "      <td>2315.963100</td>\n",
       "    </tr>\n",
       "    <tr>\n",
       "      <th>1</th>\n",
       "      <td>iPSC</td>\n",
       "      <td>excluded</td>\n",
       "      <td>NPC</td>\n",
       "      <td>bimodal</td>\n",
       "      <td>-5.767831e-12</td>\n",
       "      <td>-1.380211</td>\n",
       "    </tr>\n",
       "    <tr>\n",
       "      <th>2</th>\n",
       "      <td>iPSC</td>\n",
       "      <td>excluded</td>\n",
       "      <td>NPC</td>\n",
       "      <td>uncategorized</td>\n",
       "      <td>2.107060e+00</td>\n",
       "      <td>0.726849</td>\n",
       "    </tr>\n",
       "    <tr>\n",
       "      <th>3</th>\n",
       "      <td>iPSC</td>\n",
       "      <td>bimodal</td>\n",
       "      <td>NPC</td>\n",
       "      <td>excluded</td>\n",
       "      <td>-9.949375e-12</td>\n",
       "      <td>-1.380211</td>\n",
       "    </tr>\n",
       "    <tr>\n",
       "      <th>4</th>\n",
       "      <td>iPSC</td>\n",
       "      <td>bimodal</td>\n",
       "      <td>NPC</td>\n",
       "      <td>bimodal</td>\n",
       "      <td>4.959418e+02</td>\n",
       "      <td>494.561624</td>\n",
       "    </tr>\n",
       "    <tr>\n",
       "      <th>5</th>\n",
       "      <td>iPSC</td>\n",
       "      <td>bimodal</td>\n",
       "      <td>NPC</td>\n",
       "      <td>included</td>\n",
       "      <td>-1.161471e-11</td>\n",
       "      <td>-1.380211</td>\n",
       "    </tr>\n",
       "    <tr>\n",
       "      <th>6</th>\n",
       "      <td>iPSC</td>\n",
       "      <td>included</td>\n",
       "      <td>NPC</td>\n",
       "      <td>bimodal</td>\n",
       "      <td>-7.010836e-12</td>\n",
       "      <td>-1.380211</td>\n",
       "    </tr>\n",
       "    <tr>\n",
       "      <th>7</th>\n",
       "      <td>iPSC</td>\n",
       "      <td>included</td>\n",
       "      <td>NPC</td>\n",
       "      <td>included</td>\n",
       "      <td>2.159698e+03</td>\n",
       "      <td>2158.317910</td>\n",
       "    </tr>\n",
       "    <tr>\n",
       "      <th>8</th>\n",
       "      <td>iPSC</td>\n",
       "      <td>middle</td>\n",
       "      <td>NPC</td>\n",
       "      <td>included</td>\n",
       "      <td>inf</td>\n",
       "      <td>inf</td>\n",
       "    </tr>\n",
       "    <tr>\n",
       "      <th>9</th>\n",
       "      <td>iPSC</td>\n",
       "      <td>uncategorized</td>\n",
       "      <td>NPC</td>\n",
       "      <td>excluded</td>\n",
       "      <td>2.427582e-02</td>\n",
       "      <td>-1.355935</td>\n",
       "    </tr>\n",
       "    <tr>\n",
       "      <th>10</th>\n",
       "      <td>iPSC</td>\n",
       "      <td>uncategorized</td>\n",
       "      <td>NPC</td>\n",
       "      <td>bimodal</td>\n",
       "      <td>3.424252e+01</td>\n",
       "      <td>32.862310</td>\n",
       "    </tr>\n",
       "    <tr>\n",
       "      <th>11</th>\n",
       "      <td>iPSC</td>\n",
       "      <td>uncategorized</td>\n",
       "      <td>NPC</td>\n",
       "      <td>uncategorized</td>\n",
       "      <td>1.655070e+01</td>\n",
       "      <td>15.170488</td>\n",
       "    </tr>\n",
       "    <tr>\n",
       "      <th>12</th>\n",
       "      <td>iPSC</td>\n",
       "      <td>excluded</td>\n",
       "      <td>MN</td>\n",
       "      <td>excluded</td>\n",
       "      <td>1.502629e+03</td>\n",
       "      <td>1501.248607</td>\n",
       "    </tr>\n",
       "    <tr>\n",
       "      <th>13</th>\n",
       "      <td>iPSC</td>\n",
       "      <td>excluded</td>\n",
       "      <td>MN</td>\n",
       "      <td>bimodal</td>\n",
       "      <td>4.936467e-06</td>\n",
       "      <td>-1.380206</td>\n",
       "    </tr>\n",
       "    <tr>\n",
       "      <th>14</th>\n",
       "      <td>iPSC</td>\n",
       "      <td>excluded</td>\n",
       "      <td>MN</td>\n",
       "      <td>included</td>\n",
       "      <td>2.817746e-12</td>\n",
       "      <td>-1.380211</td>\n",
       "    </tr>\n",
       "    <tr>\n",
       "      <th>15</th>\n",
       "      <td>iPSC</td>\n",
       "      <td>excluded</td>\n",
       "      <td>MN</td>\n",
       "      <td>uncategorized</td>\n",
       "      <td>inf</td>\n",
       "      <td>inf</td>\n",
       "    </tr>\n",
       "    <tr>\n",
       "      <th>16</th>\n",
       "      <td>iPSC</td>\n",
       "      <td>bimodal</td>\n",
       "      <td>MN</td>\n",
       "      <td>excluded</td>\n",
       "      <td>5.661418e-03</td>\n",
       "      <td>-1.374550</td>\n",
       "    </tr>\n",
       "    <tr>\n",
       "      <th>17</th>\n",
       "      <td>iPSC</td>\n",
       "      <td>bimodal</td>\n",
       "      <td>MN</td>\n",
       "      <td>bimodal</td>\n",
       "      <td>1.847029e+02</td>\n",
       "      <td>183.322731</td>\n",
       "    </tr>\n",
       "    <tr>\n",
       "      <th>18</th>\n",
       "      <td>iPSC</td>\n",
       "      <td>bimodal</td>\n",
       "      <td>MN</td>\n",
       "      <td>included</td>\n",
       "      <td>5.546674e-12</td>\n",
       "      <td>-1.380211</td>\n",
       "    </tr>\n",
       "    <tr>\n",
       "      <th>19</th>\n",
       "      <td>iPSC</td>\n",
       "      <td>included</td>\n",
       "      <td>MN</td>\n",
       "      <td>bimodal</td>\n",
       "      <td>2.035705e-12</td>\n",
       "      <td>-1.380211</td>\n",
       "    </tr>\n",
       "    <tr>\n",
       "      <th>20</th>\n",
       "      <td>iPSC</td>\n",
       "      <td>included</td>\n",
       "      <td>MN</td>\n",
       "      <td>included</td>\n",
       "      <td>1.369236e+03</td>\n",
       "      <td>1367.855499</td>\n",
       "    </tr>\n",
       "    <tr>\n",
       "      <th>21</th>\n",
       "      <td>iPSC</td>\n",
       "      <td>middle</td>\n",
       "      <td>MN</td>\n",
       "      <td>included</td>\n",
       "      <td>inf</td>\n",
       "      <td>inf</td>\n",
       "    </tr>\n",
       "    <tr>\n",
       "      <th>22</th>\n",
       "      <td>iPSC</td>\n",
       "      <td>uncategorized</td>\n",
       "      <td>MN</td>\n",
       "      <td>excluded</td>\n",
       "      <td>3.398613e-03</td>\n",
       "      <td>-1.376813</td>\n",
       "    </tr>\n",
       "    <tr>\n",
       "      <th>23</th>\n",
       "      <td>iPSC</td>\n",
       "      <td>uncategorized</td>\n",
       "      <td>MN</td>\n",
       "      <td>bimodal</td>\n",
       "      <td>5.013827e+01</td>\n",
       "      <td>48.758054</td>\n",
       "    </tr>\n",
       "  </tbody>\n",
       "</table>\n",
       "</div>"
      ],
      "text/plain": [
       "   phenotype1      modality1 phenotype2      modality2  $-\\log_{10}(p)$  \\\n",
       "0        iPSC       excluded        NPC       excluded     2.317343e+03   \n",
       "1        iPSC       excluded        NPC        bimodal    -5.767831e-12   \n",
       "2        iPSC       excluded        NPC  uncategorized     2.107060e+00   \n",
       "3        iPSC        bimodal        NPC       excluded    -9.949375e-12   \n",
       "4        iPSC        bimodal        NPC        bimodal     4.959418e+02   \n",
       "5        iPSC        bimodal        NPC       included    -1.161471e-11   \n",
       "6        iPSC       included        NPC        bimodal    -7.010836e-12   \n",
       "7        iPSC       included        NPC       included     2.159698e+03   \n",
       "8        iPSC         middle        NPC       included              inf   \n",
       "9        iPSC  uncategorized        NPC       excluded     2.427582e-02   \n",
       "10       iPSC  uncategorized        NPC        bimodal     3.424252e+01   \n",
       "11       iPSC  uncategorized        NPC  uncategorized     1.655070e+01   \n",
       "12       iPSC       excluded         MN       excluded     1.502629e+03   \n",
       "13       iPSC       excluded         MN        bimodal     4.936467e-06   \n",
       "14       iPSC       excluded         MN       included     2.817746e-12   \n",
       "15       iPSC       excluded         MN  uncategorized              inf   \n",
       "16       iPSC        bimodal         MN       excluded     5.661418e-03   \n",
       "17       iPSC        bimodal         MN        bimodal     1.847029e+02   \n",
       "18       iPSC        bimodal         MN       included     5.546674e-12   \n",
       "19       iPSC       included         MN        bimodal     2.035705e-12   \n",
       "20       iPSC       included         MN       included     1.369236e+03   \n",
       "21       iPSC         middle         MN       included              inf   \n",
       "22       iPSC  uncategorized         MN       excluded     3.398613e-03   \n",
       "23       iPSC  uncategorized         MN        bimodal     5.013827e+01   \n",
       "\n",
       "    $-\\log_{10}(q)$  \n",
       "0       2315.963100  \n",
       "1         -1.380211  \n",
       "2          0.726849  \n",
       "3         -1.380211  \n",
       "4        494.561624  \n",
       "5         -1.380211  \n",
       "6         -1.380211  \n",
       "7       2158.317910  \n",
       "8               inf  \n",
       "9         -1.355935  \n",
       "10        32.862310  \n",
       "11        15.170488  \n",
       "12      1501.248607  \n",
       "13        -1.380206  \n",
       "14        -1.380211  \n",
       "15              inf  \n",
       "16        -1.374550  \n",
       "17       183.322731  \n",
       "18        -1.380211  \n",
       "19        -1.380211  \n",
       "20      1367.855499  \n",
       "21              inf  \n",
       "22        -1.376813  \n",
       "23        48.758054  "
      ]
     },
     "execution_count": 174,
     "metadata": {},
     "output_type": "execute_result"
    }
   ],
   "source": [
    "import itertools\n",
    "\n",
    "lines = []\n",
    "\n",
    "for phenotype1, phenotype2 in transitions:\n",
    "    modality_subset = modality_transitions.query('(phenotype_x == @phenotype1) & (phenotype_y == @phenotype2)')\n",
    "#     six.print_(phenotype1, phenotype2, modality_subset.shape)\n",
    "    M = len(modality_subset['event_id'].unique())\n",
    "    \n",
    "    for modality1, modality2 in itertools.product(MODALITY_ORDER, repeat=2):\n",
    "#         six.print_('\\t', modality1, modality2)\n",
    "        df1 = modality_subset.query('(phenotype_x == @phenotype1) & (modality_x == @modality1)')\n",
    "        df2 = modality_subset.query('(phenotype_y == @phenotype2) & (modality_y == @modality2)')\n",
    "        \n",
    "        n = df1.shape[0]\n",
    "        N = df2.shape[0]\n",
    "        x = len(set(df1['event_id']) & set(df2['event_id']))\n",
    "#         six.print_('\\t\\t', x, M, n, N)\n",
    "        if x > 0:\n",
    "            result = -hypergeom.logsf(x, M, n, N)\n",
    "#             six.print_('\\t\\t\\t', result)\n",
    "            lines.append([phenotype1, modality1, phenotype2, modality2, result])\n",
    "enrichment = pd.DataFrame(lines, columns=['phenotype1', 'modality1', 'phenotype2', 'modality2', '$-\\log_{10}(p)$'])\n",
    "enrichment['$-\\log_{10}(q)$'] = enrichment['$-\\log_{10}(p)$'] - np.log10(enrichment.shape[0])\n",
    "enrichment"
   ]
  },
  {
   "cell_type": "code",
   "execution_count": 175,
   "metadata": {
    "collapsed": false
   },
   "outputs": [],
   "source": [
    "enrichment_2d = enrichment.pivot_table(index=['phenotype1', 'modality1'], \n",
    "                                       columns=['phenotype2', 'modality2'], \n",
    "                                       values='$-\\log_{10}(q)$')"
   ]
  },
  {
   "cell_type": "code",
   "execution_count": 176,
   "metadata": {
    "collapsed": false
   },
   "outputs": [
    {
     "data": {
      "text/html": [
       "<div>\n",
       "<table border=\"1\" class=\"dataframe\">\n",
       "  <thead>\n",
       "    <tr>\n",
       "      <th></th>\n",
       "      <th></th>\n",
       "      <th colspan=\"5\" halign=\"left\">NPC</th>\n",
       "      <th colspan=\"5\" halign=\"left\">MN</th>\n",
       "    </tr>\n",
       "    <tr>\n",
       "      <th></th>\n",
       "      <th></th>\n",
       "      <th>excluded</th>\n",
       "      <th>bimodal</th>\n",
       "      <th>included</th>\n",
       "      <th>middle</th>\n",
       "      <th>uncategorized</th>\n",
       "      <th>excluded</th>\n",
       "      <th>bimodal</th>\n",
       "      <th>included</th>\n",
       "      <th>middle</th>\n",
       "      <th>uncategorized</th>\n",
       "    </tr>\n",
       "  </thead>\n",
       "  <tbody>\n",
       "    <tr>\n",
       "      <th rowspan=\"5\" valign=\"top\">iPSC</th>\n",
       "      <th>excluded</th>\n",
       "      <td>2315.963100</td>\n",
       "      <td>-1.380211</td>\n",
       "      <td>NaN</td>\n",
       "      <td>NaN</td>\n",
       "      <td>0.726849</td>\n",
       "      <td>1501.248607</td>\n",
       "      <td>-1.380206</td>\n",
       "      <td>-1.380211</td>\n",
       "      <td>NaN</td>\n",
       "      <td>inf</td>\n",
       "    </tr>\n",
       "    <tr>\n",
       "      <th>bimodal</th>\n",
       "      <td>-1.380211</td>\n",
       "      <td>494.561624</td>\n",
       "      <td>-1.380211</td>\n",
       "      <td>NaN</td>\n",
       "      <td>NaN</td>\n",
       "      <td>-1.374550</td>\n",
       "      <td>183.322731</td>\n",
       "      <td>-1.380211</td>\n",
       "      <td>NaN</td>\n",
       "      <td>NaN</td>\n",
       "    </tr>\n",
       "    <tr>\n",
       "      <th>included</th>\n",
       "      <td>NaN</td>\n",
       "      <td>-1.380211</td>\n",
       "      <td>2158.317910</td>\n",
       "      <td>NaN</td>\n",
       "      <td>NaN</td>\n",
       "      <td>NaN</td>\n",
       "      <td>-1.380211</td>\n",
       "      <td>1367.855499</td>\n",
       "      <td>NaN</td>\n",
       "      <td>NaN</td>\n",
       "    </tr>\n",
       "    <tr>\n",
       "      <th>middle</th>\n",
       "      <td>NaN</td>\n",
       "      <td>NaN</td>\n",
       "      <td>inf</td>\n",
       "      <td>NaN</td>\n",
       "      <td>NaN</td>\n",
       "      <td>NaN</td>\n",
       "      <td>NaN</td>\n",
       "      <td>inf</td>\n",
       "      <td>NaN</td>\n",
       "      <td>NaN</td>\n",
       "    </tr>\n",
       "    <tr>\n",
       "      <th>uncategorized</th>\n",
       "      <td>-1.355935</td>\n",
       "      <td>32.862310</td>\n",
       "      <td>NaN</td>\n",
       "      <td>NaN</td>\n",
       "      <td>15.170488</td>\n",
       "      <td>-1.376813</td>\n",
       "      <td>48.758054</td>\n",
       "      <td>NaN</td>\n",
       "      <td>NaN</td>\n",
       "      <td>NaN</td>\n",
       "    </tr>\n",
       "  </tbody>\n",
       "</table>\n",
       "</div>"
      ],
      "text/plain": [
       "                            NPC                                                \\\n",
       "                       excluded     bimodal     included middle uncategorized   \n",
       "iPSC excluded       2315.963100   -1.380211          NaN    NaN      0.726849   \n",
       "     bimodal          -1.380211  494.561624    -1.380211    NaN           NaN   \n",
       "     included               NaN   -1.380211  2158.317910    NaN           NaN   \n",
       "     middle                 NaN         NaN          inf    NaN           NaN   \n",
       "     uncategorized    -1.355935   32.862310          NaN    NaN     15.170488   \n",
       "\n",
       "                             MN                                                \n",
       "                       excluded     bimodal     included middle uncategorized  \n",
       "iPSC excluded       1501.248607   -1.380206    -1.380211    NaN           inf  \n",
       "     bimodal          -1.374550  183.322731    -1.380211    NaN           NaN  \n",
       "     included               NaN   -1.380211  1367.855499    NaN           NaN  \n",
       "     middle                 NaN         NaN          inf    NaN           NaN  \n",
       "     uncategorized    -1.376813   48.758054          NaN    NaN           NaN  "
      ]
     },
     "execution_count": 176,
     "metadata": {},
     "output_type": "execute_result"
    }
   ],
   "source": [
    "columns = pd.MultiIndex.from_product([['NPC', 'MN'], MODALITY_ORDER])\n",
    "index = pd.MultiIndex.from_product([['iPSC'], MODALITY_ORDER])\n",
    "\n",
    "enrichment_2d = enrichment_2d.reindex(columns=columns, index=index)\n",
    "enrichment_2d"
   ]
  },
  {
   "cell_type": "code",
   "execution_count": 177,
   "metadata": {
    "collapsed": false
   },
   "outputs": [
    {
     "data": {
      "image/png": "[encoded data removed]",
      "text/plain": [
       "<matplotlib.figure.Figure at 0x2b74df627850>"
      ]
     },
     "metadata": {},
     "output_type": "display_data"
    }
   ],
   "source": [
    "fig, ax = plt.subplots(figsize=(4, 1.75))\n",
    "sns.heatmap(enrichment_2d, vmin=0, vmax=2000)\n",
    "\n",
    "ymin, ymax = ax.get_ylim()\n",
    "ax.vlines(5, ymin, ymax)\n",
    "ax.set(xticks=[], yticks=[], ylabel='iPSC', xlabel='')\n",
    "fig.tight_layout()"
   ]
  },
  {
   "cell_type": "markdown",
   "metadata": {
    "collapsed": false
   },
   "source": [
    "## Barplot of changes to/from bimodal"
   ]
  },
  {
   "cell_type": "code",
   "execution_count": 178,
   "metadata": {
    "collapsed": false
   },
   "outputs": [
    {
     "data": {
      "text/html": [
       "<div>\n",
       "<table border=\"1\" class=\"dataframe\">\n",
       "  <thead>\n",
       "    <tr style=\"text-align: right;\">\n",
       "      <th></th>\n",
       "      <th>phenotype_x</th>\n",
       "      <th>event_id</th>\n",
       "      <th>modality_x</th>\n",
       "      <th>phenotype_y</th>\n",
       "      <th>modality_y</th>\n",
       "      <th>transition</th>\n",
       "    </tr>\n",
       "  </thead>\n",
       "  <tbody>\n",
       "    <tr>\n",
       "      <th>0</th>\n",
       "      <td>MN</td>\n",
       "      <td>exon:chr10:101165513-101165617:-@exon:chr10:10...</td>\n",
       "      <td>included</td>\n",
       "      <td>MN</td>\n",
       "      <td>included</td>\n",
       "      <td>MN-MN</td>\n",
       "    </tr>\n",
       "    <tr>\n",
       "      <th>1</th>\n",
       "      <td>MN</td>\n",
       "      <td>exon:chr10:101165513-101165617:-@exon:chr10:10...</td>\n",
       "      <td>included</td>\n",
       "      <td>NPC</td>\n",
       "      <td>included</td>\n",
       "      <td>MN-NPC</td>\n",
       "    </tr>\n",
       "    <tr>\n",
       "      <th>2</th>\n",
       "      <td>MN</td>\n",
       "      <td>exon:chr10:101165513-101165617:-@exon:chr10:10...</td>\n",
       "      <td>included</td>\n",
       "      <td>iPSC</td>\n",
       "      <td>included</td>\n",
       "      <td>MN-iPSC</td>\n",
       "    </tr>\n",
       "    <tr>\n",
       "      <th>3</th>\n",
       "      <td>NPC</td>\n",
       "      <td>exon:chr10:101165513-101165617:-@exon:chr10:10...</td>\n",
       "      <td>included</td>\n",
       "      <td>MN</td>\n",
       "      <td>included</td>\n",
       "      <td>NPC-MN</td>\n",
       "    </tr>\n",
       "    <tr>\n",
       "      <th>4</th>\n",
       "      <td>NPC</td>\n",
       "      <td>exon:chr10:101165513-101165617:-@exon:chr10:10...</td>\n",
       "      <td>included</td>\n",
       "      <td>NPC</td>\n",
       "      <td>included</td>\n",
       "      <td>NPC-NPC</td>\n",
       "    </tr>\n",
       "  </tbody>\n",
       "</table>\n",
       "</div>"
      ],
      "text/plain": [
       "  phenotype_x                                           event_id modality_x  \\\n",
       "0          MN  exon:chr10:101165513-101165617:-@exon:chr10:10...   included   \n",
       "1          MN  exon:chr10:101165513-101165617:-@exon:chr10:10...   included   \n",
       "2          MN  exon:chr10:101165513-101165617:-@exon:chr10:10...   included   \n",
       "3         NPC  exon:chr10:101165513-101165617:-@exon:chr10:10...   included   \n",
       "4         NPC  exon:chr10:101165513-101165617:-@exon:chr10:10...   included   \n",
       "\n",
       "  phenotype_y modality_y transition  \n",
       "0          MN   included      MN-MN  \n",
       "1         NPC   included     MN-NPC  \n",
       "2        iPSC   included    MN-iPSC  \n",
       "3          MN   included     NPC-MN  \n",
       "4         NPC   included    NPC-NPC  "
      ]
     },
     "execution_count": 178,
     "metadata": {},
     "output_type": "execute_result"
    }
   ],
   "source": [
    "modality_transitions.head()"
   ]
  },
  {
   "cell_type": "code",
   "execution_count": 179,
   "metadata": {
    "collapsed": false
   },
   "outputs": [
    {
     "data": {
      "text/html": [
       "<div>\n",
       "<table border=\"1\" class=\"dataframe\">\n",
       "  <thead>\n",
       "    <tr style=\"text-align: right;\">\n",
       "      <th></th>\n",
       "      <th>phenotype_x</th>\n",
       "      <th>event_id</th>\n",
       "      <th>modality_x</th>\n",
       "      <th>phenotype_y</th>\n",
       "      <th>modality_y</th>\n",
       "      <th>transition</th>\n",
       "    </tr>\n",
       "  </thead>\n",
       "  <tbody>\n",
       "    <tr>\n",
       "      <th>0</th>\n",
       "      <td>MN</td>\n",
       "      <td>exon:chr10:101165513-101165617:-@exon:chr10:10...</td>\n",
       "      <td>included</td>\n",
       "      <td>MN</td>\n",
       "      <td>included</td>\n",
       "      <td>MN-MN</td>\n",
       "    </tr>\n",
       "    <tr>\n",
       "      <th>1</th>\n",
       "      <td>MN</td>\n",
       "      <td>exon:chr10:101165513-101165617:-@exon:chr10:10...</td>\n",
       "      <td>included</td>\n",
       "      <td>NPC</td>\n",
       "      <td>included</td>\n",
       "      <td>MN-NPC</td>\n",
       "    </tr>\n",
       "    <tr>\n",
       "      <th>2</th>\n",
       "      <td>MN</td>\n",
       "      <td>exon:chr10:101165513-101165617:-@exon:chr10:10...</td>\n",
       "      <td>included</td>\n",
       "      <td>iPSC</td>\n",
       "      <td>included</td>\n",
       "      <td>MN-iPSC</td>\n",
       "    </tr>\n",
       "    <tr>\n",
       "      <th>3</th>\n",
       "      <td>NPC</td>\n",
       "      <td>exon:chr10:101165513-101165617:-@exon:chr10:10...</td>\n",
       "      <td>included</td>\n",
       "      <td>MN</td>\n",
       "      <td>included</td>\n",
       "      <td>NPC-MN</td>\n",
       "    </tr>\n",
       "    <tr>\n",
       "      <th>4</th>\n",
       "      <td>NPC</td>\n",
       "      <td>exon:chr10:101165513-101165617:-@exon:chr10:10...</td>\n",
       "      <td>included</td>\n",
       "      <td>NPC</td>\n",
       "      <td>included</td>\n",
       "      <td>NPC-NPC</td>\n",
       "    </tr>\n",
       "  </tbody>\n",
       "</table>\n",
       "</div>"
      ],
      "text/plain": [
       "  phenotype_x                                           event_id modality_x  \\\n",
       "0          MN  exon:chr10:101165513-101165617:-@exon:chr10:10...   included   \n",
       "1          MN  exon:chr10:101165513-101165617:-@exon:chr10:10...   included   \n",
       "2          MN  exon:chr10:101165513-101165617:-@exon:chr10:10...   included   \n",
       "3         NPC  exon:chr10:101165513-101165617:-@exon:chr10:10...   included   \n",
       "4         NPC  exon:chr10:101165513-101165617:-@exon:chr10:10...   included   \n",
       "\n",
       "  phenotype_y modality_y transition  \n",
       "0          MN   included      MN-MN  \n",
       "1         NPC   included     MN-NPC  \n",
       "2        iPSC   included    MN-iPSC  \n",
       "3          MN   included     NPC-MN  \n",
       "4         NPC   included    NPC-NPC  "
      ]
     },
     "execution_count": 179,
     "metadata": {},
     "output_type": "execute_result"
    }
   ],
   "source": [
    "modality_transitions['transition'] = modality_transitions['phenotype_x'] + '-' + modality_transitions['phenotype_y']\n",
    "modality_transitions.head()"
   ]
  },
  {
   "cell_type": "code",
   "execution_count": 180,
   "metadata": {
    "collapsed": true
   },
   "outputs": [],
   "source": [
    "transitions_of_interest = ['iPSC-NPC', 'iPSC-MN']"
   ]
  },
  {
   "cell_type": "code",
   "execution_count": 181,
   "metadata": {
    "collapsed": false
   },
   "outputs": [
    {
     "name": "stderr",
     "output_type": "stream",
     "text": [
      "/home/obotvinnik/anaconda/lib/python2.7/site-packages/ipykernel/__main__.py:5: SettingWithCopyWarning: \n",
      "A value is trying to be set on a copy of a slice from a DataFrame.\n",
      "Try using .loc[row_indexer,col_indexer] = value instead\n",
      "\n",
      "See the caveats in the documentation: http://pandas.pydata.org/pandas-docs/stable/indexing.html#indexing-view-versus-copy\n"
     ]
    },
    {
     "data": {
      "text/html": [
       "<div>\n",
       "<table border=\"1\" class=\"dataframe\">\n",
       "  <thead>\n",
       "    <tr style=\"text-align: right;\">\n",
       "      <th></th>\n",
       "      <th>phenotype_x</th>\n",
       "      <th>event_id</th>\n",
       "      <th>modality_x</th>\n",
       "      <th>phenotype_y</th>\n",
       "      <th>modality_y</th>\n",
       "      <th>transition</th>\n",
       "    </tr>\n",
       "  </thead>\n",
       "  <tbody>\n",
       "    <tr>\n",
       "      <th>15</th>\n",
       "      <td>iPSC</td>\n",
       "      <td>exon:chr10:101480744-101480825:-@exon:chr10:10...</td>\n",
       "      <td>included</td>\n",
       "      <td>MN</td>\n",
       "      <td>bimodal</td>\n",
       "      <td>iPSC-MN</td>\n",
       "    </tr>\n",
       "    <tr>\n",
       "      <th>16</th>\n",
       "      <td>iPSC</td>\n",
       "      <td>exon:chr10:101480744-101480825:-@exon:chr10:10...</td>\n",
       "      <td>included</td>\n",
       "      <td>NPC</td>\n",
       "      <td>bimodal</td>\n",
       "      <td>iPSC-NPC</td>\n",
       "    </tr>\n",
       "    <tr>\n",
       "      <th>42</th>\n",
       "      <td>iPSC</td>\n",
       "      <td>exon:chr10:102747070-102747240:-@exon:chr10:10...</td>\n",
       "      <td>included</td>\n",
       "      <td>MN</td>\n",
       "      <td>bimodal</td>\n",
       "      <td>iPSC-MN</td>\n",
       "    </tr>\n",
       "    <tr>\n",
       "      <th>47</th>\n",
       "      <td>iPSC</td>\n",
       "      <td>exon:chr10:103113820-103113985:+@exon:chr10:10...</td>\n",
       "      <td>bimodal</td>\n",
       "      <td>MN</td>\n",
       "      <td>included</td>\n",
       "      <td>iPSC-MN</td>\n",
       "    </tr>\n",
       "    <tr>\n",
       "      <th>59</th>\n",
       "      <td>iPSC</td>\n",
       "      <td>exon:chr10:103190102-103190209:+@exon:chr10:10...</td>\n",
       "      <td>bimodal</td>\n",
       "      <td>MN</td>\n",
       "      <td>included</td>\n",
       "      <td>iPSC-MN</td>\n",
       "    </tr>\n",
       "  </tbody>\n",
       "</table>\n",
       "</div>"
      ],
      "text/plain": [
       "   phenotype_x                                           event_id modality_x  \\\n",
       "15        iPSC  exon:chr10:101480744-101480825:-@exon:chr10:10...   included   \n",
       "16        iPSC  exon:chr10:101480744-101480825:-@exon:chr10:10...   included   \n",
       "42        iPSC  exon:chr10:102747070-102747240:-@exon:chr10:10...   included   \n",
       "47        iPSC  exon:chr10:103113820-103113985:+@exon:chr10:10...    bimodal   \n",
       "59        iPSC  exon:chr10:103190102-103190209:+@exon:chr10:10...    bimodal   \n",
       "\n",
       "   phenotype_y modality_y transition  \n",
       "15          MN    bimodal    iPSC-MN  \n",
       "16         NPC    bimodal   iPSC-NPC  \n",
       "42          MN    bimodal    iPSC-MN  \n",
       "47          MN   included    iPSC-MN  \n",
       "59          MN   included    iPSC-MN  "
      ]
     },
     "execution_count": 181,
     "metadata": {},
     "output_type": "execute_result"
    }
   ],
   "source": [
    "transition_rows = modality_transitions.transition.isin(transitions_of_interest)\n",
    "delta_modality_rows = modality_transitions['modality_x'] != modality_transitions['modality_y']\n",
    "modality_transitions_subset = modality_transitions.loc[transition_rows & delta_modality_rows]\n",
    "modality_transitions_subset['transition'] = pd.Categorical(modality_transitions_subset['transition'], \n",
    "                                                           categories=transitions_of_interest, ordered=True)\n",
    "modality_transitions_subset.head()"
   ]
  },
  {
   "cell_type": "code",
   "execution_count": 182,
   "metadata": {
    "collapsed": false
   },
   "outputs": [
    {
     "data": {
      "text/html": [
       "<div>\n",
       "<table border=\"1\" class=\"dataframe\">\n",
       "  <thead>\n",
       "    <tr style=\"text-align: right;\">\n",
       "      <th></th>\n",
       "      <th>transition</th>\n",
       "      <th>modality_x</th>\n",
       "      <th>modality_y</th>\n",
       "      <th># AS Exons</th>\n",
       "    </tr>\n",
       "  </thead>\n",
       "  <tbody>\n",
       "    <tr>\n",
       "      <th>0</th>\n",
       "      <td>iPSC-NPC</td>\n",
       "      <td>bimodal</td>\n",
       "      <td>excluded</td>\n",
       "      <td>199</td>\n",
       "    </tr>\n",
       "    <tr>\n",
       "      <th>1</th>\n",
       "      <td>iPSC-NPC</td>\n",
       "      <td>bimodal</td>\n",
       "      <td>included</td>\n",
       "      <td>414</td>\n",
       "    </tr>\n",
       "    <tr>\n",
       "      <th>2</th>\n",
       "      <td>iPSC-NPC</td>\n",
       "      <td>excluded</td>\n",
       "      <td>bimodal</td>\n",
       "      <td>315</td>\n",
       "    </tr>\n",
       "    <tr>\n",
       "      <th>3</th>\n",
       "      <td>iPSC-NPC</td>\n",
       "      <td>excluded</td>\n",
       "      <td>uncategorized</td>\n",
       "      <td>1</td>\n",
       "    </tr>\n",
       "    <tr>\n",
       "      <th>4</th>\n",
       "      <td>iPSC-NPC</td>\n",
       "      <td>included</td>\n",
       "      <td>bimodal</td>\n",
       "      <td>763</td>\n",
       "    </tr>\n",
       "    <tr>\n",
       "      <th>5</th>\n",
       "      <td>iPSC-NPC</td>\n",
       "      <td>middle</td>\n",
       "      <td>included</td>\n",
       "      <td>1</td>\n",
       "    </tr>\n",
       "    <tr>\n",
       "      <th>6</th>\n",
       "      <td>iPSC-NPC</td>\n",
       "      <td>uncategorized</td>\n",
       "      <td>bimodal</td>\n",
       "      <td>29</td>\n",
       "    </tr>\n",
       "    <tr>\n",
       "      <th>7</th>\n",
       "      <td>iPSC-NPC</td>\n",
       "      <td>uncategorized</td>\n",
       "      <td>excluded</td>\n",
       "      <td>2</td>\n",
       "    </tr>\n",
       "    <tr>\n",
       "      <th>8</th>\n",
       "      <td>iPSC-MN</td>\n",
       "      <td>bimodal</td>\n",
       "      <td>excluded</td>\n",
       "      <td>118</td>\n",
       "    </tr>\n",
       "    <tr>\n",
       "      <th>9</th>\n",
       "      <td>iPSC-MN</td>\n",
       "      <td>bimodal</td>\n",
       "      <td>included</td>\n",
       "      <td>196</td>\n",
       "    </tr>\n",
       "    <tr>\n",
       "      <th>10</th>\n",
       "      <td>iPSC-MN</td>\n",
       "      <td>excluded</td>\n",
       "      <td>bimodal</td>\n",
       "      <td>201</td>\n",
       "    </tr>\n",
       "    <tr>\n",
       "      <th>11</th>\n",
       "      <td>iPSC-MN</td>\n",
       "      <td>excluded</td>\n",
       "      <td>included</td>\n",
       "      <td>7</td>\n",
       "    </tr>\n",
       "    <tr>\n",
       "      <th>12</th>\n",
       "      <td>iPSC-MN</td>\n",
       "      <td>excluded</td>\n",
       "      <td>uncategorized</td>\n",
       "      <td>2</td>\n",
       "    </tr>\n",
       "    <tr>\n",
       "      <th>13</th>\n",
       "      <td>iPSC-MN</td>\n",
       "      <td>included</td>\n",
       "      <td>bimodal</td>\n",
       "      <td>509</td>\n",
       "    </tr>\n",
       "    <tr>\n",
       "      <th>14</th>\n",
       "      <td>iPSC-MN</td>\n",
       "      <td>middle</td>\n",
       "      <td>included</td>\n",
       "      <td>1</td>\n",
       "    </tr>\n",
       "    <tr>\n",
       "      <th>15</th>\n",
       "      <td>iPSC-MN</td>\n",
       "      <td>uncategorized</td>\n",
       "      <td>bimodal</td>\n",
       "      <td>32</td>\n",
       "    </tr>\n",
       "    <tr>\n",
       "      <th>16</th>\n",
       "      <td>iPSC-MN</td>\n",
       "      <td>uncategorized</td>\n",
       "      <td>excluded</td>\n",
       "      <td>1</td>\n",
       "    </tr>\n",
       "  </tbody>\n",
       "</table>\n",
       "</div>"
      ],
      "text/plain": [
       "   transition     modality_x     modality_y  # AS Exons\n",
       "0    iPSC-NPC        bimodal       excluded         199\n",
       "1    iPSC-NPC        bimodal       included         414\n",
       "2    iPSC-NPC       excluded        bimodal         315\n",
       "3    iPSC-NPC       excluded  uncategorized           1\n",
       "4    iPSC-NPC       included        bimodal         763\n",
       "5    iPSC-NPC         middle       included           1\n",
       "6    iPSC-NPC  uncategorized        bimodal          29\n",
       "7    iPSC-NPC  uncategorized       excluded           2\n",
       "8     iPSC-MN        bimodal       excluded         118\n",
       "9     iPSC-MN        bimodal       included         196\n",
       "10    iPSC-MN       excluded        bimodal         201\n",
       "11    iPSC-MN       excluded       included           7\n",
       "12    iPSC-MN       excluded  uncategorized           2\n",
       "13    iPSC-MN       included        bimodal         509\n",
       "14    iPSC-MN         middle       included           1\n",
       "15    iPSC-MN  uncategorized        bimodal          32\n",
       "16    iPSC-MN  uncategorized       excluded           1"
      ]
     },
     "execution_count": 182,
     "metadata": {},
     "output_type": "execute_result"
    }
   ],
   "source": [
    "delta_modalities = modality_transitions_subset.groupby(['transition', 'modality_x', 'modality_y']).size()\n",
    "delta_modalities = delta_modalities.reset_index()\n",
    "delta_modalities = delta_modalities.rename(columns={0: '# AS Exons'})\n",
    "delta_modalities"
   ]
  },
  {
   "cell_type": "code",
   "execution_count": 183,
   "metadata": {
    "collapsed": false
   },
   "outputs": [
    {
     "data": {
      "text/html": [
       "<div>\n",
       "<table border=\"1\" class=\"dataframe\">\n",
       "  <thead>\n",
       "    <tr style=\"text-align: right;\">\n",
       "      <th></th>\n",
       "      <th>transition</th>\n",
       "      <th>modality_x</th>\n",
       "      <th>modality_y</th>\n",
       "      <th># AS Exons</th>\n",
       "      <th>$\\Delta$ Modality</th>\n",
       "    </tr>\n",
       "  </thead>\n",
       "  <tbody>\n",
       "    <tr>\n",
       "      <th>0</th>\n",
       "      <td>iPSC-NPC</td>\n",
       "      <td>bimodal</td>\n",
       "      <td>excluded</td>\n",
       "      <td>199</td>\n",
       "      <td>Bimodal --&gt; X</td>\n",
       "    </tr>\n",
       "    <tr>\n",
       "      <th>1</th>\n",
       "      <td>iPSC-NPC</td>\n",
       "      <td>bimodal</td>\n",
       "      <td>included</td>\n",
       "      <td>414</td>\n",
       "      <td>Bimodal --&gt; X</td>\n",
       "    </tr>\n",
       "    <tr>\n",
       "      <th>2</th>\n",
       "      <td>iPSC-NPC</td>\n",
       "      <td>excluded</td>\n",
       "      <td>bimodal</td>\n",
       "      <td>315</td>\n",
       "      <td>X --&gt; Bimodal</td>\n",
       "    </tr>\n",
       "    <tr>\n",
       "      <th>3</th>\n",
       "      <td>iPSC-NPC</td>\n",
       "      <td>excluded</td>\n",
       "      <td>uncategorized</td>\n",
       "      <td>1</td>\n",
       "      <td>Other</td>\n",
       "    </tr>\n",
       "    <tr>\n",
       "      <th>4</th>\n",
       "      <td>iPSC-NPC</td>\n",
       "      <td>included</td>\n",
       "      <td>bimodal</td>\n",
       "      <td>763</td>\n",
       "      <td>X --&gt; Bimodal</td>\n",
       "    </tr>\n",
       "    <tr>\n",
       "      <th>5</th>\n",
       "      <td>iPSC-NPC</td>\n",
       "      <td>middle</td>\n",
       "      <td>included</td>\n",
       "      <td>1</td>\n",
       "      <td>Other</td>\n",
       "    </tr>\n",
       "    <tr>\n",
       "      <th>6</th>\n",
       "      <td>iPSC-NPC</td>\n",
       "      <td>uncategorized</td>\n",
       "      <td>bimodal</td>\n",
       "      <td>29</td>\n",
       "      <td>X --&gt; Bimodal</td>\n",
       "    </tr>\n",
       "    <tr>\n",
       "      <th>7</th>\n",
       "      <td>iPSC-NPC</td>\n",
       "      <td>uncategorized</td>\n",
       "      <td>excluded</td>\n",
       "      <td>2</td>\n",
       "      <td>Other</td>\n",
       "    </tr>\n",
       "    <tr>\n",
       "      <th>8</th>\n",
       "      <td>iPSC-MN</td>\n",
       "      <td>bimodal</td>\n",
       "      <td>excluded</td>\n",
       "      <td>118</td>\n",
       "      <td>Bimodal --&gt; X</td>\n",
       "    </tr>\n",
       "    <tr>\n",
       "      <th>9</th>\n",
       "      <td>iPSC-MN</td>\n",
       "      <td>bimodal</td>\n",
       "      <td>included</td>\n",
       "      <td>196</td>\n",
       "      <td>Bimodal --&gt; X</td>\n",
       "    </tr>\n",
       "    <tr>\n",
       "      <th>10</th>\n",
       "      <td>iPSC-MN</td>\n",
       "      <td>excluded</td>\n",
       "      <td>bimodal</td>\n",
       "      <td>201</td>\n",
       "      <td>X --&gt; Bimodal</td>\n",
       "    </tr>\n",
       "    <tr>\n",
       "      <th>11</th>\n",
       "      <td>iPSC-MN</td>\n",
       "      <td>excluded</td>\n",
       "      <td>included</td>\n",
       "      <td>7</td>\n",
       "      <td>Other</td>\n",
       "    </tr>\n",
       "    <tr>\n",
       "      <th>12</th>\n",
       "      <td>iPSC-MN</td>\n",
       "      <td>excluded</td>\n",
       "      <td>uncategorized</td>\n",
       "      <td>2</td>\n",
       "      <td>Other</td>\n",
       "    </tr>\n",
       "    <tr>\n",
       "      <th>13</th>\n",
       "      <td>iPSC-MN</td>\n",
       "      <td>included</td>\n",
       "      <td>bimodal</td>\n",
       "      <td>509</td>\n",
       "      <td>X --&gt; Bimodal</td>\n",
       "    </tr>\n",
       "    <tr>\n",
       "      <th>14</th>\n",
       "      <td>iPSC-MN</td>\n",
       "      <td>middle</td>\n",
       "      <td>included</td>\n",
       "      <td>1</td>\n",
       "      <td>Other</td>\n",
       "    </tr>\n",
       "    <tr>\n",
       "      <th>15</th>\n",
       "      <td>iPSC-MN</td>\n",
       "      <td>uncategorized</td>\n",
       "      <td>bimodal</td>\n",
       "      <td>32</td>\n",
       "      <td>X --&gt; Bimodal</td>\n",
       "    </tr>\n",
       "    <tr>\n",
       "      <th>16</th>\n",
       "      <td>iPSC-MN</td>\n",
       "      <td>uncategorized</td>\n",
       "      <td>excluded</td>\n",
       "      <td>1</td>\n",
       "      <td>Other</td>\n",
       "    </tr>\n",
       "  </tbody>\n",
       "</table>\n",
       "</div>"
      ],
      "text/plain": [
       "   transition     modality_x     modality_y  # AS Exons $\\Delta$ Modality\n",
       "0    iPSC-NPC        bimodal       excluded         199     Bimodal --> X\n",
       "1    iPSC-NPC        bimodal       included         414     Bimodal --> X\n",
       "2    iPSC-NPC       excluded        bimodal         315     X --> Bimodal\n",
       "3    iPSC-NPC       excluded  uncategorized           1             Other\n",
       "4    iPSC-NPC       included        bimodal         763     X --> Bimodal\n",
       "5    iPSC-NPC         middle       included           1             Other\n",
       "6    iPSC-NPC  uncategorized        bimodal          29     X --> Bimodal\n",
       "7    iPSC-NPC  uncategorized       excluded           2             Other\n",
       "8     iPSC-MN        bimodal       excluded         118     Bimodal --> X\n",
       "9     iPSC-MN        bimodal       included         196     Bimodal --> X\n",
       "10    iPSC-MN       excluded        bimodal         201     X --> Bimodal\n",
       "11    iPSC-MN       excluded       included           7             Other\n",
       "12    iPSC-MN       excluded  uncategorized           2             Other\n",
       "13    iPSC-MN       included        bimodal         509     X --> Bimodal\n",
       "14    iPSC-MN         middle       included           1             Other\n",
       "15    iPSC-MN  uncategorized        bimodal          32     X --> Bimodal\n",
       "16    iPSC-MN  uncategorized       excluded           1             Other"
      ]
     },
     "execution_count": 183,
     "metadata": {},
     "output_type": "execute_result"
    }
   ],
   "source": [
    "col = '$\\Delta$ Modality'\n",
    "\n",
    "# Label everythign as \"Other\" first\n",
    "delta_modalities[col] = 'Other'\n",
    "\n",
    "# From bimodal\n",
    "delta_modalities.loc[delta_modalities['modality_x'] == 'bimodal', col] = 'Bimodal --> X'\n",
    "\n",
    "# To Bimodal\n",
    "delta_modalities.loc[delta_modalities['modality_y'] == 'bimodal', col] = 'X --> Bimodal'\n",
    "delta_modalities"
   ]
  },
  {
   "cell_type": "code",
   "execution_count": 184,
   "metadata": {
    "collapsed": false
   },
   "outputs": [
    {
     "data": {
      "text/html": [
       "<div>\n",
       "<table border=\"1\" class=\"dataframe\">\n",
       "  <thead>\n",
       "    <tr style=\"text-align: right;\">\n",
       "      <th></th>\n",
       "      <th>transition</th>\n",
       "      <th>modality_x</th>\n",
       "      <th>modality_y</th>\n",
       "      <th># AS Exons</th>\n",
       "      <th>$\\Delta$ Modality</th>\n",
       "      <th>% Changing AS Exons</th>\n",
       "    </tr>\n",
       "  </thead>\n",
       "  <tbody>\n",
       "    <tr>\n",
       "      <th>0</th>\n",
       "      <td>iPSC-NPC</td>\n",
       "      <td>bimodal</td>\n",
       "      <td>excluded</td>\n",
       "      <td>199</td>\n",
       "      <td>Bimodal --&gt; X</td>\n",
       "      <td>11.542923</td>\n",
       "    </tr>\n",
       "    <tr>\n",
       "      <th>1</th>\n",
       "      <td>iPSC-NPC</td>\n",
       "      <td>bimodal</td>\n",
       "      <td>included</td>\n",
       "      <td>414</td>\n",
       "      <td>Bimodal --&gt; X</td>\n",
       "      <td>24.013921</td>\n",
       "    </tr>\n",
       "    <tr>\n",
       "      <th>2</th>\n",
       "      <td>iPSC-NPC</td>\n",
       "      <td>excluded</td>\n",
       "      <td>bimodal</td>\n",
       "      <td>315</td>\n",
       "      <td>X --&gt; Bimodal</td>\n",
       "      <td>18.271462</td>\n",
       "    </tr>\n",
       "    <tr>\n",
       "      <th>3</th>\n",
       "      <td>iPSC-NPC</td>\n",
       "      <td>excluded</td>\n",
       "      <td>uncategorized</td>\n",
       "      <td>1</td>\n",
       "      <td>Other</td>\n",
       "      <td>0.058005</td>\n",
       "    </tr>\n",
       "    <tr>\n",
       "      <th>4</th>\n",
       "      <td>iPSC-NPC</td>\n",
       "      <td>included</td>\n",
       "      <td>bimodal</td>\n",
       "      <td>763</td>\n",
       "      <td>X --&gt; Bimodal</td>\n",
       "      <td>44.257541</td>\n",
       "    </tr>\n",
       "    <tr>\n",
       "      <th>5</th>\n",
       "      <td>iPSC-NPC</td>\n",
       "      <td>middle</td>\n",
       "      <td>included</td>\n",
       "      <td>1</td>\n",
       "      <td>Other</td>\n",
       "      <td>0.058005</td>\n",
       "    </tr>\n",
       "    <tr>\n",
       "      <th>6</th>\n",
       "      <td>iPSC-NPC</td>\n",
       "      <td>uncategorized</td>\n",
       "      <td>bimodal</td>\n",
       "      <td>29</td>\n",
       "      <td>X --&gt; Bimodal</td>\n",
       "      <td>1.682135</td>\n",
       "    </tr>\n",
       "    <tr>\n",
       "      <th>7</th>\n",
       "      <td>iPSC-NPC</td>\n",
       "      <td>uncategorized</td>\n",
       "      <td>excluded</td>\n",
       "      <td>2</td>\n",
       "      <td>Other</td>\n",
       "      <td>0.116009</td>\n",
       "    </tr>\n",
       "    <tr>\n",
       "      <th>8</th>\n",
       "      <td>iPSC-MN</td>\n",
       "      <td>bimodal</td>\n",
       "      <td>excluded</td>\n",
       "      <td>118</td>\n",
       "      <td>Bimodal --&gt; X</td>\n",
       "      <td>11.059044</td>\n",
       "    </tr>\n",
       "    <tr>\n",
       "      <th>9</th>\n",
       "      <td>iPSC-MN</td>\n",
       "      <td>bimodal</td>\n",
       "      <td>included</td>\n",
       "      <td>196</td>\n",
       "      <td>Bimodal --&gt; X</td>\n",
       "      <td>18.369260</td>\n",
       "    </tr>\n",
       "    <tr>\n",
       "      <th>10</th>\n",
       "      <td>iPSC-MN</td>\n",
       "      <td>excluded</td>\n",
       "      <td>bimodal</td>\n",
       "      <td>201</td>\n",
       "      <td>X --&gt; Bimodal</td>\n",
       "      <td>18.837863</td>\n",
       "    </tr>\n",
       "    <tr>\n",
       "      <th>11</th>\n",
       "      <td>iPSC-MN</td>\n",
       "      <td>excluded</td>\n",
       "      <td>included</td>\n",
       "      <td>7</td>\n",
       "      <td>Other</td>\n",
       "      <td>0.656045</td>\n",
       "    </tr>\n",
       "    <tr>\n",
       "      <th>12</th>\n",
       "      <td>iPSC-MN</td>\n",
       "      <td>excluded</td>\n",
       "      <td>uncategorized</td>\n",
       "      <td>2</td>\n",
       "      <td>Other</td>\n",
       "      <td>0.187441</td>\n",
       "    </tr>\n",
       "    <tr>\n",
       "      <th>13</th>\n",
       "      <td>iPSC-MN</td>\n",
       "      <td>included</td>\n",
       "      <td>bimodal</td>\n",
       "      <td>509</td>\n",
       "      <td>X --&gt; Bimodal</td>\n",
       "      <td>47.703843</td>\n",
       "    </tr>\n",
       "    <tr>\n",
       "      <th>14</th>\n",
       "      <td>iPSC-MN</td>\n",
       "      <td>middle</td>\n",
       "      <td>included</td>\n",
       "      <td>1</td>\n",
       "      <td>Other</td>\n",
       "      <td>0.093721</td>\n",
       "    </tr>\n",
       "    <tr>\n",
       "      <th>15</th>\n",
       "      <td>iPSC-MN</td>\n",
       "      <td>uncategorized</td>\n",
       "      <td>bimodal</td>\n",
       "      <td>32</td>\n",
       "      <td>X --&gt; Bimodal</td>\n",
       "      <td>2.999063</td>\n",
       "    </tr>\n",
       "    <tr>\n",
       "      <th>16</th>\n",
       "      <td>iPSC-MN</td>\n",
       "      <td>uncategorized</td>\n",
       "      <td>excluded</td>\n",
       "      <td>1</td>\n",
       "      <td>Other</td>\n",
       "      <td>0.093721</td>\n",
       "    </tr>\n",
       "  </tbody>\n",
       "</table>\n",
       "</div>"
      ],
      "text/plain": [
       "   transition     modality_x     modality_y  # AS Exons $\\Delta$ Modality  \\\n",
       "0    iPSC-NPC        bimodal       excluded         199     Bimodal --> X   \n",
       "1    iPSC-NPC        bimodal       included         414     Bimodal --> X   \n",
       "2    iPSC-NPC       excluded        bimodal         315     X --> Bimodal   \n",
       "3    iPSC-NPC       excluded  uncategorized           1             Other   \n",
       "4    iPSC-NPC       included        bimodal         763     X --> Bimodal   \n",
       "5    iPSC-NPC         middle       included           1             Other   \n",
       "6    iPSC-NPC  uncategorized        bimodal          29     X --> Bimodal   \n",
       "7    iPSC-NPC  uncategorized       excluded           2             Other   \n",
       "8     iPSC-MN        bimodal       excluded         118     Bimodal --> X   \n",
       "9     iPSC-MN        bimodal       included         196     Bimodal --> X   \n",
       "10    iPSC-MN       excluded        bimodal         201     X --> Bimodal   \n",
       "11    iPSC-MN       excluded       included           7             Other   \n",
       "12    iPSC-MN       excluded  uncategorized           2             Other   \n",
       "13    iPSC-MN       included        bimodal         509     X --> Bimodal   \n",
       "14    iPSC-MN         middle       included           1             Other   \n",
       "15    iPSC-MN  uncategorized        bimodal          32     X --> Bimodal   \n",
       "16    iPSC-MN  uncategorized       excluded           1             Other   \n",
       "\n",
       "    % Changing AS Exons  \n",
       "0             11.542923  \n",
       "1             24.013921  \n",
       "2             18.271462  \n",
       "3              0.058005  \n",
       "4             44.257541  \n",
       "5              0.058005  \n",
       "6              1.682135  \n",
       "7              0.116009  \n",
       "8             11.059044  \n",
       "9             18.369260  \n",
       "10            18.837863  \n",
       "11             0.656045  \n",
       "12             0.187441  \n",
       "13            47.703843  \n",
       "14             0.093721  \n",
       "15             2.999063  \n",
       "16             0.093721  "
      ]
     },
     "execution_count": 184,
     "metadata": {},
     "output_type": "execute_result"
    }
   ],
   "source": [
    "delta_modalities['% Changing AS Exons'] = delta_modalities.groupby('transition')['# AS Exons'].apply(lambda x: 100*x/x.sum())\n",
    "delta_modalities"
   ]
  },
  {
   "cell_type": "code",
   "execution_count": 185,
   "metadata": {
    "collapsed": false
   },
   "outputs": [
    {
     "data": {
      "image/png": "[encoded data removed]",
      "text/plain": [
       "<matplotlib.figure.Figure at 0x2b74dbe20a50>"
      ]
     },
     "metadata": {},
     "output_type": "display_data"
    }
   ],
   "source": [
    "palette = sns.light_palette(MODALITY_TO_COLOR['bimodal'], n_colors=2, reverse=True) + ['k']\n",
    "sns.palplot(palette)"
   ]
  },
  {
   "cell_type": "code",
   "execution_count": 186,
   "metadata": {
    "collapsed": false
   },
   "outputs": [
    {
     "data": {
      "image/png": "[encoded data removed]",
      "text/plain": [
       "<matplotlib.figure.Figure at 0x2b74d2221250>"
      ]
     },
     "metadata": {},
     "output_type": "display_data"
    }
   ],
   "source": [
    "fig, ax = plt.subplots(figsize=(2, 1.5))\n",
    "\n",
    "sns.barplot(x='transition', y='% Changing AS Exons', palette=palette,\n",
    "            hue=col, data=delta_modalities, ci=None, order=transitions_of_interest)\n",
    "ax.locator_params('y', nbins=4)\n",
    "ax.set(ylabel='% Changing AS Exons')\n",
    "\n",
    "sns.despine()\n",
    "fig.tight_layout()\n",
    "fig.savefig('{}/changing_modalities_barplot.pdf'.format(folder))\n",
    "\n",
    "ax.set(ylim=(0, 1))\n",
    "ax.legend_.set_visible(False)\n",
    "fig.savefig('{}/changing_modalities_barplot_zoom.pdf'.format(folder))"
   ]
  },
  {
   "cell_type": "markdown",
   "metadata": {},
   "source": [
    "### Stacked bar plot"
   ]
  },
  {
   "cell_type": "code",
   "execution_count": 187,
   "metadata": {
    "collapsed": false
   },
   "outputs": [
    {
     "data": {
      "text/html": [
       "<div>\n",
       "<table border=\"1\" class=\"dataframe\">\n",
       "  <thead>\n",
       "    <tr style=\"text-align: right;\">\n",
       "      <th></th>\n",
       "      <th>transition</th>\n",
       "      <th>modality_x</th>\n",
       "      <th>modality_y</th>\n",
       "      <th># AS Exons</th>\n",
       "      <th>$\\Delta$ Modality</th>\n",
       "      <th>% Changing AS Exons</th>\n",
       "    </tr>\n",
       "  </thead>\n",
       "  <tbody>\n",
       "    <tr>\n",
       "      <th>0</th>\n",
       "      <td>iPSC-NPC</td>\n",
       "      <td>bimodal</td>\n",
       "      <td>excluded</td>\n",
       "      <td>199</td>\n",
       "      <td>Bimodal --&gt; X</td>\n",
       "      <td>11.542923</td>\n",
       "    </tr>\n",
       "    <tr>\n",
       "      <th>1</th>\n",
       "      <td>iPSC-NPC</td>\n",
       "      <td>bimodal</td>\n",
       "      <td>included</td>\n",
       "      <td>414</td>\n",
       "      <td>Bimodal --&gt; X</td>\n",
       "      <td>24.013921</td>\n",
       "    </tr>\n",
       "    <tr>\n",
       "      <th>2</th>\n",
       "      <td>iPSC-NPC</td>\n",
       "      <td>excluded</td>\n",
       "      <td>bimodal</td>\n",
       "      <td>315</td>\n",
       "      <td>X --&gt; Bimodal</td>\n",
       "      <td>18.271462</td>\n",
       "    </tr>\n",
       "    <tr>\n",
       "      <th>3</th>\n",
       "      <td>iPSC-NPC</td>\n",
       "      <td>excluded</td>\n",
       "      <td>uncategorized</td>\n",
       "      <td>1</td>\n",
       "      <td>Other</td>\n",
       "      <td>0.058005</td>\n",
       "    </tr>\n",
       "    <tr>\n",
       "      <th>4</th>\n",
       "      <td>iPSC-NPC</td>\n",
       "      <td>included</td>\n",
       "      <td>bimodal</td>\n",
       "      <td>763</td>\n",
       "      <td>X --&gt; Bimodal</td>\n",
       "      <td>44.257541</td>\n",
       "    </tr>\n",
       "    <tr>\n",
       "      <th>5</th>\n",
       "      <td>iPSC-NPC</td>\n",
       "      <td>middle</td>\n",
       "      <td>included</td>\n",
       "      <td>1</td>\n",
       "      <td>Other</td>\n",
       "      <td>0.058005</td>\n",
       "    </tr>\n",
       "    <tr>\n",
       "      <th>6</th>\n",
       "      <td>iPSC-NPC</td>\n",
       "      <td>uncategorized</td>\n",
       "      <td>bimodal</td>\n",
       "      <td>29</td>\n",
       "      <td>X --&gt; Bimodal</td>\n",
       "      <td>1.682135</td>\n",
       "    </tr>\n",
       "    <tr>\n",
       "      <th>7</th>\n",
       "      <td>iPSC-NPC</td>\n",
       "      <td>uncategorized</td>\n",
       "      <td>excluded</td>\n",
       "      <td>2</td>\n",
       "      <td>Other</td>\n",
       "      <td>0.116009</td>\n",
       "    </tr>\n",
       "    <tr>\n",
       "      <th>8</th>\n",
       "      <td>iPSC-MN</td>\n",
       "      <td>bimodal</td>\n",
       "      <td>excluded</td>\n",
       "      <td>118</td>\n",
       "      <td>Bimodal --&gt; X</td>\n",
       "      <td>11.059044</td>\n",
       "    </tr>\n",
       "    <tr>\n",
       "      <th>9</th>\n",
       "      <td>iPSC-MN</td>\n",
       "      <td>bimodal</td>\n",
       "      <td>included</td>\n",
       "      <td>196</td>\n",
       "      <td>Bimodal --&gt; X</td>\n",
       "      <td>18.369260</td>\n",
       "    </tr>\n",
       "    <tr>\n",
       "      <th>10</th>\n",
       "      <td>iPSC-MN</td>\n",
       "      <td>excluded</td>\n",
       "      <td>bimodal</td>\n",
       "      <td>201</td>\n",
       "      <td>X --&gt; Bimodal</td>\n",
       "      <td>18.837863</td>\n",
       "    </tr>\n",
       "    <tr>\n",
       "      <th>11</th>\n",
       "      <td>iPSC-MN</td>\n",
       "      <td>excluded</td>\n",
       "      <td>included</td>\n",
       "      <td>7</td>\n",
       "      <td>Other</td>\n",
       "      <td>0.656045</td>\n",
       "    </tr>\n",
       "    <tr>\n",
       "      <th>12</th>\n",
       "      <td>iPSC-MN</td>\n",
       "      <td>excluded</td>\n",
       "      <td>uncategorized</td>\n",
       "      <td>2</td>\n",
       "      <td>Other</td>\n",
       "      <td>0.187441</td>\n",
       "    </tr>\n",
       "    <tr>\n",
       "      <th>13</th>\n",
       "      <td>iPSC-MN</td>\n",
       "      <td>included</td>\n",
       "      <td>bimodal</td>\n",
       "      <td>509</td>\n",
       "      <td>X --&gt; Bimodal</td>\n",
       "      <td>47.703843</td>\n",
       "    </tr>\n",
       "    <tr>\n",
       "      <th>14</th>\n",
       "      <td>iPSC-MN</td>\n",
       "      <td>middle</td>\n",
       "      <td>included</td>\n",
       "      <td>1</td>\n",
       "      <td>Other</td>\n",
       "      <td>0.093721</td>\n",
       "    </tr>\n",
       "    <tr>\n",
       "      <th>15</th>\n",
       "      <td>iPSC-MN</td>\n",
       "      <td>uncategorized</td>\n",
       "      <td>bimodal</td>\n",
       "      <td>32</td>\n",
       "      <td>X --&gt; Bimodal</td>\n",
       "      <td>2.999063</td>\n",
       "    </tr>\n",
       "    <tr>\n",
       "      <th>16</th>\n",
       "      <td>iPSC-MN</td>\n",
       "      <td>uncategorized</td>\n",
       "      <td>excluded</td>\n",
       "      <td>1</td>\n",
       "      <td>Other</td>\n",
       "      <td>0.093721</td>\n",
       "    </tr>\n",
       "  </tbody>\n",
       "</table>\n",
       "</div>"
      ],
      "text/plain": [
       "   transition     modality_x     modality_y  # AS Exons $\\Delta$ Modality  \\\n",
       "0    iPSC-NPC        bimodal       excluded         199     Bimodal --> X   \n",
       "1    iPSC-NPC        bimodal       included         414     Bimodal --> X   \n",
       "2    iPSC-NPC       excluded        bimodal         315     X --> Bimodal   \n",
       "3    iPSC-NPC       excluded  uncategorized           1             Other   \n",
       "4    iPSC-NPC       included        bimodal         763     X --> Bimodal   \n",
       "5    iPSC-NPC         middle       included           1             Other   \n",
       "6    iPSC-NPC  uncategorized        bimodal          29     X --> Bimodal   \n",
       "7    iPSC-NPC  uncategorized       excluded           2             Other   \n",
       "8     iPSC-MN        bimodal       excluded         118     Bimodal --> X   \n",
       "9     iPSC-MN        bimodal       included         196     Bimodal --> X   \n",
       "10    iPSC-MN       excluded        bimodal         201     X --> Bimodal   \n",
       "11    iPSC-MN       excluded       included           7             Other   \n",
       "12    iPSC-MN       excluded  uncategorized           2             Other   \n",
       "13    iPSC-MN       included        bimodal         509     X --> Bimodal   \n",
       "14    iPSC-MN         middle       included           1             Other   \n",
       "15    iPSC-MN  uncategorized        bimodal          32     X --> Bimodal   \n",
       "16    iPSC-MN  uncategorized       excluded           1             Other   \n",
       "\n",
       "    % Changing AS Exons  \n",
       "0             11.542923  \n",
       "1             24.013921  \n",
       "2             18.271462  \n",
       "3              0.058005  \n",
       "4             44.257541  \n",
       "5              0.058005  \n",
       "6              1.682135  \n",
       "7              0.116009  \n",
       "8             11.059044  \n",
       "9             18.369260  \n",
       "10            18.837863  \n",
       "11             0.656045  \n",
       "12             0.187441  \n",
       "13            47.703843  \n",
       "14             0.093721  \n",
       "15             2.999063  \n",
       "16             0.093721  "
      ]
     },
     "execution_count": 187,
     "metadata": {},
     "output_type": "execute_result"
    }
   ],
   "source": [
    "delta_modalities['$\\Delta$ Modality'] = pd.Categorical(delta_modalities['$\\Delta$ Modality'], \n",
    "                                                       categories=[ 'X --> Bimodal', 'Bimodal --> X', 'Other'], ordered=True)\n",
    "# delta_modalities['transition'] = pd.Categorical(delta_modalities['transition'], \n",
    "#                                                        categories=transitions_of_interest, ordered=True)\n",
    "delta_modalities"
   ]
  },
  {
   "cell_type": "code",
   "execution_count": 188,
   "metadata": {
    "collapsed": false
   },
   "outputs": [
    {
     "data": {
      "text/plain": [
       "transition  $\\Delta$ Modality\n",
       "iPSC-NPC    X --> Bimodal        64.211137\n",
       "            Bimodal --> X        35.556845\n",
       "            Other                 0.232019\n",
       "iPSC-MN     X --> Bimodal        69.540769\n",
       "            Bimodal --> X        29.428304\n",
       "            Other                 1.030928\n",
       "Name: % Changing AS Exons, dtype: float64"
      ]
     },
     "execution_count": 188,
     "metadata": {},
     "output_type": "execute_result"
    }
   ],
   "source": [
    "changing_as_exons = delta_modalities.groupby(['transition', col])['% Changing AS Exons'].sum()\n",
    "changing_as_exons"
   ]
  },
  {
   "cell_type": "code",
   "execution_count": 189,
   "metadata": {
    "collapsed": false
   },
   "outputs": [
    {
     "data": {
      "text/plain": [
       "transition  $\\Delta$ Modality\n",
       "iPSC-NPC    X --> Bimodal         64.211137\n",
       "            Bimodal --> X         99.767981\n",
       "            Other                100.000000\n",
       "iPSC-MN     X --> Bimodal         69.540769\n",
       "            Bimodal --> X         98.969072\n",
       "            Other                100.000000\n",
       "Name: % Changing AS Exons, dtype: float64"
      ]
     },
     "execution_count": 189,
     "metadata": {},
     "output_type": "execute_result"
    }
   ],
   "source": [
    "cumulative_sum = changing_as_exons.groupby(level=0).cumsum()\n",
    "cumulative_sum"
   ]
  },
  {
   "cell_type": "code",
   "execution_count": 190,
   "metadata": {
    "collapsed": false
   },
   "outputs": [
    {
     "data": {
      "text/plain": [
       "transition  $\\Delta$ Modality\n",
       "iPSC-NPC    X --> Bimodal         0.000000\n",
       "            Bimodal --> X        64.211137\n",
       "            Other                99.767981\n",
       "iPSC-MN     X --> Bimodal         0.000000\n",
       "            Bimodal --> X        69.540769\n",
       "            Other                98.969072\n",
       "Name: % Changing AS Exons, dtype: float64"
      ]
     },
     "execution_count": 190,
     "metadata": {},
     "output_type": "execute_result"
    }
   ],
   "source": [
    "bottoms = cumulative_sum - changing_as_exons\n",
    "bottoms"
   ]
  },
  {
   "cell_type": "code",
   "execution_count": 191,
   "metadata": {
    "collapsed": false
   },
   "outputs": [
    {
     "data": {
      "text/plain": [
       "CategoricalIndex([u'iPSC-NPC', u'iPSC-MN'], categories=[u'iPSC-NPC', u'iPSC-MN'], ordered=True, name=u'transition', dtype='category')"
      ]
     },
     "execution_count": 191,
     "metadata": {},
     "output_type": "execute_result"
    }
   ],
   "source": [
    "bottoms.index.levels[0]"
   ]
  },
  {
   "cell_type": "code",
   "execution_count": 192,
   "metadata": {
    "collapsed": true
   },
   "outputs": [],
   "source": [
    "idx = pd.IndexSlice"
   ]
  },
  {
   "cell_type": "code",
   "execution_count": 194,
   "metadata": {
    "collapsed": false
   },
   "outputs": [
    {
     "name": "stdout",
     "output_type": "stream",
     "text": [
      "X --> Bimodal\n",
      "Bimodal --> X\n",
      "Other\n"
     ]
    },
    {
     "data": {
      "image/png": "[encoded data removed]",
      "text/plain": [
       "<matplotlib.figure.Figure at 0x2b74d1fd4990>"
      ]
     },
     "metadata": {},
     "output_type": "display_data"
    }
   ],
   "source": [
    "fig, ax = plt.subplots(figsize=(1.75, 1.5))\n",
    "\n",
    "\n",
    "for i, (delta_modality, s) in enumerate(changing_as_exons.groupby(level=1)):\n",
    "    six.print_(delta_modality)\n",
    "    color = palette[i]\n",
    "    x = np.arange(s.shape[0])\n",
    "\n",
    "    bottom = bottoms.loc[idx[:, delta_modality]]\n",
    "    ax.bar(x, s, bottom=bottom, label=delta_modality, color=color)\n",
    "ax.set(xticks=x + 0.4, xticklabels=bottoms.index.levels[0])\n",
    "ax.legend()\n",
    "sns.despine()\n",
    "fig.tight_layout()\n",
    "fig.savefig('{}/changing_modalities_bimodal_barplot_stacked.pdf'.format(folder))\n"
   ]
  },
  {
   "cell_type": "code",
   "execution_count": null,
   "metadata": {
    "collapsed": true
   },
   "outputs": [],
   "source": []
  }
 ],
 "metadata": {
  "kernelspec": {
   "display_name": "Python 2",
   "language": "python",
   "name": "python2"
  },
  "language_info": {
   "codemirror_mode": {
    "name": "ipython",
    "version": 2
   },
   "file_extension": ".py",
   "mimetype": "text/x-python",
   "name": "python",
   "nbconvert_exporter": "python",
   "pygments_lexer": "ipython2",
   "version": "2.7.10"
  }
 },
 "nbformat": 4,
 "nbformat_minor": 0
}
