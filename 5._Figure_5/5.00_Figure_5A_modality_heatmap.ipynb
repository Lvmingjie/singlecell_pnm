{
 "cells": [
  {
   "cell_type": "code",
   "execution_count": 1,
   "metadata": {
    "collapsed": false
   },
   "outputs": [],
   "source": [
    "# mkdir /home/obotvinnik/Dropbox/figures2/singlecell_pnm/figure4_voyages/"
   ]
  },
  {
   "cell_type": "code",
   "execution_count": 2,
   "metadata": {
    "collapsed": false
   },
   "outputs": [
    {
     "name": "stderr",
     "output_type": "stream",
     "text": [
      "/home/obotvinnik/anaconda/lib/python2.7/site-packages/matplotlib/__init__.py:810: UserWarning: Found matplotlib configuration in ~/.matplotlib/. To conform with the XDG base directory standard, this configuration location has been deprecated on Linux, and the new location is now /home/obotvinnik/.config/matplotlib/. Please move your configuration there to ensure that matplotlib will continue to find it in the future.\n",
      "  _get_xdg_config_dir())\n",
      "/home/obotvinnik/anaconda/lib/python2.7/site-packages/flotilla/__init__.py:55: DtypeWarning: Columns (11,19,20) have mixed types. Specify dtype option on import or set low_memory=False.\n",
      "  load_species_data=load_species_data)\n"
     ]
    },
    {
     "name": "stdout",
     "output_type": "stream",
     "text": [
      "2016-03-24 14:12:38\tReading datapackage from /projects/ps-yeolab/obotvinnik/flotilla_projects/singlecell_pnm_figure2_modalities_bayesian/datapackage.json\n",
      "2016-03-24 14:12:38\tParsing datapackage to create a Study object\n",
      "2016-03-24 14:13:26\tInitializing Study\n",
      "2016-03-24 14:13:26\tInitializing Predictor configuration manager for Study\n",
      "2016-03-24 14:13:26\tPredictor ExtraTreesClassifier is of type <class 'sklearn.ensemble.forest.ExtraTreesClassifier'>\n",
      "2016-03-24 14:13:26\tAdded ExtraTreesClassifier to default predictors\n",
      "2016-03-24 14:13:26\tPredictor ExtraTreesRegressor is of type <class 'sklearn.ensemble.forest.ExtraTreesRegressor'>\n",
      "2016-03-24 14:13:26\tAdded ExtraTreesRegressor to default predictors\n",
      "2016-03-24 14:13:26\tPredictor GradientBoostingClassifier is of type <class 'sklearn.ensemble.gradient_boosting.GradientBoostingClassifier'>\n",
      "2016-03-24 14:13:26\tAdded GradientBoostingClassifier to default predictors\n",
      "2016-03-24 14:13:26\tPredictor GradientBoostingRegressor is of type <class 'sklearn.ensemble.gradient_boosting.GradientBoostingRegressor'>\n",
      "2016-03-24 14:13:26\tAdded GradientBoostingRegressor to default predictors\n",
      "2016-03-24 14:13:30\tBuilding Gene Ontology database...\n",
      "2016-03-24 14:13:40\t\tDone.\n",
      "2016-03-24 14:13:41\tLoading metadata\n",
      "2016-03-24 14:13:41\tLoading expression data\n",
      "2016-03-24 14:13:41\tInitializing expression\n",
      "2016-03-24 14:13:41\tDone initializing expression\n",
      "2016-03-24 14:13:43\tLoading splicing data\n",
      "2016-03-24 14:13:43\tInitializing splicing\n",
      "2016-03-24 14:13:43\tDone initializing splicing\n",
      "2016-03-24 14:13:43\tSuccessfully initialized a Study object!\n"
     ]
    }
   ],
   "source": [
    "import matplotlib.pyplot as plt\n",
    "import seaborn as sns\n",
    "import numpy as np\n",
    "import pandas as pd\n",
    "\n",
    "from anchor.visualize import MODALITY_TO_COLOR, MODALITY_ORDER, MODALITY_PALETTE\n",
    "modality_order = MODALITY_ORDER\n",
    "\n",
    "sns.set(style='ticks', context='talk', rc={'font.sans-serif':'Arial', 'pdf.fonttype': 42})\n",
    "\n",
    "%matplotlib inline\n",
    "\n",
    "%load_ext autoreload\n",
    "%autoreload 2\n",
    "\n",
    "folder = 'pdfs' #'/home/obotvinnik/Dropbox/figures2/singlecell_pnm/figure4_voyages'\n",
    "\n",
    "import flotilla\n",
    "study = flotilla.embark('singlecell_pnm_figure2_modalities_bayesian', \n",
    "                        flotilla_dir='/projects/ps-yeolab/obotvinnik/flotilla_projects/')\n",
    "# study = flotilla.embark('singlecell_pnm_figure1_supplementary_post_splicing_filtering')"
   ]
  },
  {
   "cell_type": "code",
   "execution_count": 37,
   "metadata": {
    "collapsed": true
   },
   "outputs": [],
   "source": [
    "mkdir $folder"
   ]
  },
  {
   "cell_type": "code",
   "execution_count": 3,
   "metadata": {
    "collapsed": false
   },
   "outputs": [
    {
     "data": {
      "text/html": [
       "<div>\n",
       "<table border=\"1\" class=\"dataframe\">\n",
       "  <thead>\n",
       "    <tr style=\"text-align: right;\">\n",
       "      <th></th>\n",
       "      <th>phenotype_x</th>\n",
       "      <th>event_id</th>\n",
       "      <th>modality_x</th>\n",
       "      <th>phenotype_y</th>\n",
       "      <th>modality_y</th>\n",
       "    </tr>\n",
       "  </thead>\n",
       "  <tbody>\n",
       "    <tr>\n",
       "      <th>0</th>\n",
       "      <td>MN</td>\n",
       "      <td>exon:chr10:102114184-102114389:+@exon:chr10:10...</td>\n",
       "      <td>included</td>\n",
       "      <td>MN</td>\n",
       "      <td>included</td>\n",
       "    </tr>\n",
       "    <tr>\n",
       "      <th>1</th>\n",
       "      <td>MN</td>\n",
       "      <td>exon:chr10:102114184-102114389:+@exon:chr10:10...</td>\n",
       "      <td>included</td>\n",
       "      <td>NPC</td>\n",
       "      <td>included</td>\n",
       "    </tr>\n",
       "    <tr>\n",
       "      <th>2</th>\n",
       "      <td>MN</td>\n",
       "      <td>exon:chr10:102114184-102114389:+@exon:chr10:10...</td>\n",
       "      <td>included</td>\n",
       "      <td>iPSC</td>\n",
       "      <td>included</td>\n",
       "    </tr>\n",
       "    <tr>\n",
       "      <th>3</th>\n",
       "      <td>NPC</td>\n",
       "      <td>exon:chr10:102114184-102114389:+@exon:chr10:10...</td>\n",
       "      <td>included</td>\n",
       "      <td>MN</td>\n",
       "      <td>included</td>\n",
       "    </tr>\n",
       "    <tr>\n",
       "      <th>4</th>\n",
       "      <td>NPC</td>\n",
       "      <td>exon:chr10:102114184-102114389:+@exon:chr10:10...</td>\n",
       "      <td>included</td>\n",
       "      <td>NPC</td>\n",
       "      <td>included</td>\n",
       "    </tr>\n",
       "  </tbody>\n",
       "</table>\n",
       "</div>"
      ],
      "text/plain": [
       "  phenotype_x                                           event_id modality_x  \\\n",
       "0          MN  exon:chr10:102114184-102114389:+@exon:chr10:10...   included   \n",
       "1          MN  exon:chr10:102114184-102114389:+@exon:chr10:10...   included   \n",
       "2          MN  exon:chr10:102114184-102114389:+@exon:chr10:10...   included   \n",
       "3         NPC  exon:chr10:102114184-102114389:+@exon:chr10:10...   included   \n",
       "4         NPC  exon:chr10:102114184-102114389:+@exon:chr10:10...   included   \n",
       "\n",
       "  phenotype_y modality_y  \n",
       "0          MN   included  \n",
       "1         NPC   included  \n",
       "2        iPSC   included  \n",
       "3          MN   included  \n",
       "4         NPC   included  "
      ]
     },
     "execution_count": 3,
     "metadata": {},
     "output_type": "execute_result"
    }
   ],
   "source": [
    "modality_transitions = study.supplemental.modalities_tidy.merge(\n",
    "    study.supplemental.modalities_tidy, left_on='event_id', right_on='event_id')\n",
    "modality_transitions.head()"
   ]
  },
  {
   "cell_type": "code",
   "execution_count": 4,
   "metadata": {
    "collapsed": false
   },
   "outputs": [
    {
     "data": {
      "text/html": [
       "<div>\n",
       "<table border=\"1\" class=\"dataframe\">\n",
       "  <thead>\n",
       "    <tr style=\"text-align: right;\">\n",
       "      <th></th>\n",
       "      <th>phenotype_x</th>\n",
       "      <th>event_id</th>\n",
       "      <th>modality_x</th>\n",
       "      <th>phenotype_y</th>\n",
       "      <th>modality_y</th>\n",
       "    </tr>\n",
       "  </thead>\n",
       "  <tbody>\n",
       "    <tr>\n",
       "      <th>6</th>\n",
       "      <td>iPSC</td>\n",
       "      <td>exon:chr10:102114184-102114389:+@exon:chr10:10...</td>\n",
       "      <td>included</td>\n",
       "      <td>MN</td>\n",
       "      <td>included</td>\n",
       "    </tr>\n",
       "    <tr>\n",
       "      <th>15</th>\n",
       "      <td>iPSC</td>\n",
       "      <td>exon:chr10:102286732-102286831:-@exon:chr10:10...</td>\n",
       "      <td>included</td>\n",
       "      <td>MN</td>\n",
       "      <td>included</td>\n",
       "    </tr>\n",
       "    <tr>\n",
       "      <th>24</th>\n",
       "      <td>iPSC</td>\n",
       "      <td>exon:chr10:103360960-103361093:+@exon:chr10:10...</td>\n",
       "      <td>excluded</td>\n",
       "      <td>MN</td>\n",
       "      <td>bimodal</td>\n",
       "    </tr>\n",
       "    <tr>\n",
       "      <th>33</th>\n",
       "      <td>iPSC</td>\n",
       "      <td>exon:chr10:103563492-103563776:-@exon:chr10:10...</td>\n",
       "      <td>included</td>\n",
       "      <td>MN</td>\n",
       "      <td>bimodal</td>\n",
       "    </tr>\n",
       "    <tr>\n",
       "      <th>42</th>\n",
       "      <td>iPSC</td>\n",
       "      <td>exon:chr10:103567487-103567658:-@exon:chr10:10...</td>\n",
       "      <td>bimodal</td>\n",
       "      <td>MN</td>\n",
       "      <td>included</td>\n",
       "    </tr>\n",
       "  </tbody>\n",
       "</table>\n",
       "</div>"
      ],
      "text/plain": [
       "   phenotype_x                                           event_id modality_x  \\\n",
       "6         iPSC  exon:chr10:102114184-102114389:+@exon:chr10:10...   included   \n",
       "15        iPSC  exon:chr10:102286732-102286831:-@exon:chr10:10...   included   \n",
       "24        iPSC  exon:chr10:103360960-103361093:+@exon:chr10:10...   excluded   \n",
       "33        iPSC  exon:chr10:103563492-103563776:-@exon:chr10:10...   included   \n",
       "42        iPSC  exon:chr10:103567487-103567658:-@exon:chr10:10...    bimodal   \n",
       "\n",
       "   phenotype_y modality_y  \n",
       "6           MN   included  \n",
       "15          MN   included  \n",
       "24          MN    bimodal  \n",
       "33          MN    bimodal  \n",
       "42          MN   included  "
      ]
     },
     "execution_count": 4,
     "metadata": {},
     "output_type": "execute_result"
    }
   ],
   "source": [
    "rows = (modality_transitions.phenotype_x == 'iPSC') & (modality_transitions.phenotype_y == 'MN')\n",
    "ipsc_mn_modalities = modality_transitions.loc[rows]\n",
    "ipsc_mn_modalities.head()"
   ]
  },
  {
   "cell_type": "code",
   "execution_count": 5,
   "metadata": {
    "collapsed": false
   },
   "outputs": [
    {
     "data": {
      "text/plain": [
       "modality_x  modality_y\n",
       "ambivalent  bimodal       22\n",
       "            excluded       1\n",
       "bimodal     bimodal       64\n",
       "            excluded      19\n",
       "            included      30\n",
       "dtype: int64"
      ]
     },
     "execution_count": 5,
     "metadata": {},
     "output_type": "execute_result"
    }
   ],
   "source": [
    "ipsc_mn_modality_count = ipsc_mn_modalities.groupby(['modality_x', 'modality_y']).size()\n",
    "ipsc_mn_modality_count.head()"
   ]
  },
  {
   "cell_type": "code",
   "execution_count": 6,
   "metadata": {
    "collapsed": false
   },
   "outputs": [
    {
     "data": {
      "text/html": [
       "<div>\n",
       "<table border=\"1\" class=\"dataframe\">\n",
       "  <thead>\n",
       "    <tr style=\"text-align: right;\">\n",
       "      <th>modality_y</th>\n",
       "      <th>ambivalent</th>\n",
       "      <th>bimodal</th>\n",
       "      <th>excluded</th>\n",
       "      <th>included</th>\n",
       "    </tr>\n",
       "    <tr>\n",
       "      <th>modality_x</th>\n",
       "      <th></th>\n",
       "      <th></th>\n",
       "      <th></th>\n",
       "      <th></th>\n",
       "    </tr>\n",
       "  </thead>\n",
       "  <tbody>\n",
       "    <tr>\n",
       "      <th>ambivalent</th>\n",
       "      <td>NaN</td>\n",
       "      <td>22</td>\n",
       "      <td>1</td>\n",
       "      <td>NaN</td>\n",
       "    </tr>\n",
       "    <tr>\n",
       "      <th>bimodal</th>\n",
       "      <td>NaN</td>\n",
       "      <td>64</td>\n",
       "      <td>19</td>\n",
       "      <td>30</td>\n",
       "    </tr>\n",
       "    <tr>\n",
       "      <th>concurrent</th>\n",
       "      <td>NaN</td>\n",
       "      <td>NaN</td>\n",
       "      <td>NaN</td>\n",
       "      <td>1</td>\n",
       "    </tr>\n",
       "    <tr>\n",
       "      <th>excluded</th>\n",
       "      <td>1</td>\n",
       "      <td>63</td>\n",
       "      <td>478</td>\n",
       "      <td>3</td>\n",
       "    </tr>\n",
       "    <tr>\n",
       "      <th>included</th>\n",
       "      <td>NaN</td>\n",
       "      <td>151</td>\n",
       "      <td>NaN</td>\n",
       "      <td>1409</td>\n",
       "    </tr>\n",
       "  </tbody>\n",
       "</table>\n",
       "</div>"
      ],
      "text/plain": [
       "modality_y  ambivalent  bimodal  excluded  included\n",
       "modality_x                                         \n",
       "ambivalent         NaN       22         1       NaN\n",
       "bimodal            NaN       64        19        30\n",
       "concurrent         NaN      NaN       NaN         1\n",
       "excluded             1       63       478         3\n",
       "included           NaN      151       NaN      1409"
      ]
     },
     "execution_count": 6,
     "metadata": {},
     "output_type": "execute_result"
    }
   ],
   "source": [
    "ipsc_mn_modality_2d = ipsc_mn_modality_count.unstack()\n",
    "ipsc_mn_modality_2d.head()"
   ]
  },
  {
   "cell_type": "code",
   "execution_count": 7,
   "metadata": {
    "collapsed": false
   },
   "outputs": [
    {
     "data": {
      "text/html": [
       "<div>\n",
       "<table border=\"1\" class=\"dataframe\">\n",
       "  <thead>\n",
       "    <tr style=\"text-align: right;\">\n",
       "      <th>MN</th>\n",
       "      <th>ambivalent</th>\n",
       "      <th>bimodal</th>\n",
       "      <th>excluded</th>\n",
       "      <th>included</th>\n",
       "    </tr>\n",
       "    <tr>\n",
       "      <th>iPSC</th>\n",
       "      <th></th>\n",
       "      <th></th>\n",
       "      <th></th>\n",
       "      <th></th>\n",
       "    </tr>\n",
       "  </thead>\n",
       "  <tbody>\n",
       "    <tr>\n",
       "      <th>ambivalent</th>\n",
       "      <td>NaN</td>\n",
       "      <td>22</td>\n",
       "      <td>1</td>\n",
       "      <td>NaN</td>\n",
       "    </tr>\n",
       "    <tr>\n",
       "      <th>bimodal</th>\n",
       "      <td>NaN</td>\n",
       "      <td>64</td>\n",
       "      <td>19</td>\n",
       "      <td>30</td>\n",
       "    </tr>\n",
       "    <tr>\n",
       "      <th>concurrent</th>\n",
       "      <td>NaN</td>\n",
       "      <td>NaN</td>\n",
       "      <td>NaN</td>\n",
       "      <td>1</td>\n",
       "    </tr>\n",
       "    <tr>\n",
       "      <th>excluded</th>\n",
       "      <td>1</td>\n",
       "      <td>63</td>\n",
       "      <td>478</td>\n",
       "      <td>3</td>\n",
       "    </tr>\n",
       "    <tr>\n",
       "      <th>included</th>\n",
       "      <td>NaN</td>\n",
       "      <td>151</td>\n",
       "      <td>NaN</td>\n",
       "      <td>1409</td>\n",
       "    </tr>\n",
       "  </tbody>\n",
       "</table>\n",
       "</div>"
      ],
      "text/plain": [
       "MN          ambivalent  bimodal  excluded  included\n",
       "iPSC                                               \n",
       "ambivalent         NaN       22         1       NaN\n",
       "bimodal            NaN       64        19        30\n",
       "concurrent         NaN      NaN       NaN         1\n",
       "excluded             1       63       478         3\n",
       "included           NaN      151       NaN      1409"
      ]
     },
     "execution_count": 7,
     "metadata": {},
     "output_type": "execute_result"
    }
   ],
   "source": [
    "ipsc_mn_modality_2d.index.name = 'iPSC'\n",
    "ipsc_mn_modality_2d.columns.name = 'MN'\n",
    "ipsc_mn_modality_2d.head()"
   ]
  },
  {
   "cell_type": "code",
   "execution_count": 8,
   "metadata": {
    "collapsed": true
   },
   "outputs": [],
   "source": [
    "from anchor import MODALITY_ORDER"
   ]
  },
  {
   "cell_type": "code",
   "execution_count": 9,
   "metadata": {
    "collapsed": false
   },
   "outputs": [
    {
     "data": {
      "text/html": [
       "<div>\n",
       "<table border=\"1\" class=\"dataframe\">\n",
       "  <thead>\n",
       "    <tr style=\"text-align: right;\">\n",
       "      <th>MN</th>\n",
       "      <th>excluded</th>\n",
       "      <th>bimodal</th>\n",
       "      <th>included</th>\n",
       "      <th>concurrent</th>\n",
       "      <th>ambivalent</th>\n",
       "    </tr>\n",
       "    <tr>\n",
       "      <th>iPSC</th>\n",
       "      <th></th>\n",
       "      <th></th>\n",
       "      <th></th>\n",
       "      <th></th>\n",
       "      <th></th>\n",
       "    </tr>\n",
       "  </thead>\n",
       "  <tbody>\n",
       "    <tr>\n",
       "      <th>excluded</th>\n",
       "      <td>478</td>\n",
       "      <td>63</td>\n",
       "      <td>3</td>\n",
       "      <td>NaN</td>\n",
       "      <td>1</td>\n",
       "    </tr>\n",
       "    <tr>\n",
       "      <th>bimodal</th>\n",
       "      <td>19</td>\n",
       "      <td>64</td>\n",
       "      <td>30</td>\n",
       "      <td>NaN</td>\n",
       "      <td>NaN</td>\n",
       "    </tr>\n",
       "    <tr>\n",
       "      <th>included</th>\n",
       "      <td>NaN</td>\n",
       "      <td>151</td>\n",
       "      <td>1409</td>\n",
       "      <td>NaN</td>\n",
       "      <td>NaN</td>\n",
       "    </tr>\n",
       "    <tr>\n",
       "      <th>concurrent</th>\n",
       "      <td>NaN</td>\n",
       "      <td>NaN</td>\n",
       "      <td>1</td>\n",
       "      <td>NaN</td>\n",
       "      <td>NaN</td>\n",
       "    </tr>\n",
       "    <tr>\n",
       "      <th>ambivalent</th>\n",
       "      <td>1</td>\n",
       "      <td>22</td>\n",
       "      <td>NaN</td>\n",
       "      <td>NaN</td>\n",
       "      <td>NaN</td>\n",
       "    </tr>\n",
       "  </tbody>\n",
       "</table>\n",
       "</div>"
      ],
      "text/plain": [
       "MN          excluded  bimodal  included  concurrent  ambivalent\n",
       "iPSC                                                           \n",
       "excluded         478       63         3         NaN           1\n",
       "bimodal           19       64        30         NaN         NaN\n",
       "included         NaN      151      1409         NaN         NaN\n",
       "concurrent       NaN      NaN         1         NaN         NaN\n",
       "ambivalent         1       22       NaN         NaN         NaN"
      ]
     },
     "execution_count": 9,
     "metadata": {},
     "output_type": "execute_result"
    }
   ],
   "source": [
    "ipsc_mn_modality_2d = ipsc_mn_modality_2d.reindex(index=MODALITY_ORDER, columns=MODALITY_ORDER)\n",
    "ipsc_mn_modality_2d"
   ]
  },
  {
   "cell_type": "code",
   "execution_count": 10,
   "metadata": {
    "collapsed": true
   },
   "outputs": [],
   "source": [
    "sns.set(style='ticks', context='paper')"
   ]
  },
  {
   "cell_type": "code",
   "execution_count": 11,
   "metadata": {
    "collapsed": true
   },
   "outputs": [],
   "source": [
    "sns.heatmap?"
   ]
  },
  {
   "cell_type": "code",
   "execution_count": 12,
   "metadata": {
    "collapsed": false
   },
   "outputs": [
    {
     "data": {
      "image/png": "[encoded data removed]",
      "text/plain": [
       "<matplotlib.figure.Figure at 0x2b11b3bb6190>"
      ]
     },
     "metadata": {},
     "output_type": "display_data"
    }
   ],
   "source": [
    "fig, ax = plt.subplots(figsize=(2.5, 2))\n",
    "sns.heatmap(ipsc_mn_modality_2d, annot=True, fmt='g')\n",
    "ax.set(xticks=[], yticks=[])\n",
    "# fig.axes[-1].yaxis.locator_params()\n",
    "fig.tight_layout()\n",
    "# fig.savefig('{}/ipsc_to_mn.pdf')"
   ]
  },
  {
   "cell_type": "markdown",
   "metadata": {},
   "source": [
    "### Get percentages for comparison - use % of events in both"
   ]
  },
  {
   "cell_type": "code",
   "execution_count": 13,
   "metadata": {
    "collapsed": false
   },
   "outputs": [
    {
     "data": {
      "text/html": [
       "<div>\n",
       "<table border=\"1\" class=\"dataframe\">\n",
       "  <thead>\n",
       "    <tr style=\"text-align: right;\">\n",
       "      <th>MN</th>\n",
       "      <th>excluded</th>\n",
       "      <th>bimodal</th>\n",
       "      <th>included</th>\n",
       "      <th>concurrent</th>\n",
       "      <th>ambivalent</th>\n",
       "    </tr>\n",
       "    <tr>\n",
       "      <th>iPSC</th>\n",
       "      <th></th>\n",
       "      <th></th>\n",
       "      <th></th>\n",
       "      <th></th>\n",
       "      <th></th>\n",
       "    </tr>\n",
       "  </thead>\n",
       "  <tbody>\n",
       "    <tr>\n",
       "      <th>excluded</th>\n",
       "      <td>21.320250</td>\n",
       "      <td>2.809991</td>\n",
       "      <td>0.133809</td>\n",
       "      <td>NaN</td>\n",
       "      <td>0.044603</td>\n",
       "    </tr>\n",
       "    <tr>\n",
       "      <th>bimodal</th>\n",
       "      <td>0.847458</td>\n",
       "      <td>2.854594</td>\n",
       "      <td>1.338091</td>\n",
       "      <td>NaN</td>\n",
       "      <td>NaN</td>\n",
       "    </tr>\n",
       "    <tr>\n",
       "      <th>included</th>\n",
       "      <td>NaN</td>\n",
       "      <td>6.735058</td>\n",
       "      <td>62.845674</td>\n",
       "      <td>NaN</td>\n",
       "      <td>NaN</td>\n",
       "    </tr>\n",
       "    <tr>\n",
       "      <th>concurrent</th>\n",
       "      <td>NaN</td>\n",
       "      <td>NaN</td>\n",
       "      <td>0.044603</td>\n",
       "      <td>NaN</td>\n",
       "      <td>NaN</td>\n",
       "    </tr>\n",
       "    <tr>\n",
       "      <th>ambivalent</th>\n",
       "      <td>0.044603</td>\n",
       "      <td>0.981267</td>\n",
       "      <td>NaN</td>\n",
       "      <td>NaN</td>\n",
       "      <td>NaN</td>\n",
       "    </tr>\n",
       "  </tbody>\n",
       "</table>\n",
       "</div>"
      ],
      "text/plain": [
       "MN           excluded   bimodal   included  concurrent  ambivalent\n",
       "iPSC                                                              \n",
       "excluded    21.320250  2.809991   0.133809         NaN    0.044603\n",
       "bimodal      0.847458  2.854594   1.338091         NaN         NaN\n",
       "included          NaN  6.735058  62.845674         NaN         NaN\n",
       "concurrent        NaN       NaN   0.044603         NaN         NaN\n",
       "ambivalent   0.044603  0.981267        NaN         NaN         NaN"
      ]
     },
     "execution_count": 13,
     "metadata": {},
     "output_type": "execute_result"
    }
   ],
   "source": [
    "percentages = 100*ipsc_mn_modality_2d/ipsc_mn_modality_2d.sum(axis=1).sum()\n",
    "percentages"
   ]
  },
  {
   "cell_type": "code",
   "execution_count": 38,
   "metadata": {
    "collapsed": false
   },
   "outputs": [
    {
     "data": {
      "image/png": "[encoded data removed]",
      "text/plain": [
       "<matplotlib.figure.Figure at 0x2b11bfe3d150>"
      ]
     },
     "metadata": {},
     "output_type": "display_data"
    }
   ],
   "source": [
    "import colorsys\n",
    "\n",
    "fig, ax = plt.subplots(figsize=(2.5, 2))\n",
    "sns.heatmap(percentages, cbar_kws=dict(label='% Shared exons'))#, annot=True, fmt='.1f')\n",
    "\n",
    "# fig.axes[-1].yaxis.locator_params()\n",
    "\n",
    "raw = ipsc_mn_modality_2d.ix[::-1]\n",
    "\n",
    "mesh = ax.collections[0]\n",
    "\n",
    "fmt = 'g'\n",
    "\n",
    "mesh.update_scalarmappable()\n",
    "xpos, ypos = np.meshgrid(ax.get_xticks(), ax.get_yticks())\n",
    "for x, y, percentage, val, color in zip(xpos.flat, ypos.flat, \n",
    "                            mesh.get_array(), raw.values.flat, mesh.get_facecolors()):\n",
    "#     print val\n",
    "    if percentage is not np.ma.masked:\n",
    "        _, l, _ = colorsys.rgb_to_hls(*color[:3])\n",
    "        text_color = \".15\" if l > .5 else \"w\"\n",
    "        val = (\"{:\" + fmt + \"}\").format(val)\n",
    "        text_kwargs = dict(color=text_color, ha=\"center\", va=\"center\")\n",
    "#         text_kwargs.update(self.annot_kws)\n",
    "        ax.text(x, y, val, **text_kwargs)\n",
    "    else:\n",
    "        text_kwargs = dict(color='.15', ha=\"center\", va=\"center\")\n",
    "        ax.text(x, y, 0, **text_kwargs)\n",
    "ax.set(xticks=[], yticks=[])\n",
    "fig.tight_layout()\n",
    "fig.savefig('{}/ipsc_to_mn_modality_heatmap.pdf'.format(folder))"
   ]
  },
  {
   "cell_type": "code",
   "execution_count": 28,
   "metadata": {
    "collapsed": false
   },
   "outputs": [
    {
     "data": {
      "text/plain": [
       "array([], shape=(0, 0), dtype=float64)"
      ]
     },
     "execution_count": 28,
     "metadata": {},
     "output_type": "execute_result"
    }
   ],
   "source": [
    "xpos"
   ]
  },
  {
   "cell_type": "code",
   "execution_count": 26,
   "metadata": {
    "collapsed": false
   },
   "outputs": [
    {
     "data": {
      "text/html": [
       "<div>\n",
       "<table border=\"1\" class=\"dataframe\">\n",
       "  <thead>\n",
       "    <tr style=\"text-align: right;\">\n",
       "      <th>MN</th>\n",
       "      <th>excluded</th>\n",
       "      <th>bimodal</th>\n",
       "      <th>included</th>\n",
       "      <th>concurrent</th>\n",
       "      <th>ambivalent</th>\n",
       "    </tr>\n",
       "    <tr>\n",
       "      <th>iPSC</th>\n",
       "      <th></th>\n",
       "      <th></th>\n",
       "      <th></th>\n",
       "      <th></th>\n",
       "      <th></th>\n",
       "    </tr>\n",
       "  </thead>\n",
       "  <tbody>\n",
       "    <tr>\n",
       "      <th>excluded</th>\n",
       "      <td>478</td>\n",
       "      <td>63</td>\n",
       "      <td>3</td>\n",
       "      <td>NaN</td>\n",
       "      <td>1</td>\n",
       "    </tr>\n",
       "    <tr>\n",
       "      <th>bimodal</th>\n",
       "      <td>19</td>\n",
       "      <td>64</td>\n",
       "      <td>30</td>\n",
       "      <td>NaN</td>\n",
       "      <td>NaN</td>\n",
       "    </tr>\n",
       "    <tr>\n",
       "      <th>included</th>\n",
       "      <td>NaN</td>\n",
       "      <td>151</td>\n",
       "      <td>1409</td>\n",
       "      <td>NaN</td>\n",
       "      <td>NaN</td>\n",
       "    </tr>\n",
       "    <tr>\n",
       "      <th>concurrent</th>\n",
       "      <td>NaN</td>\n",
       "      <td>NaN</td>\n",
       "      <td>1</td>\n",
       "      <td>NaN</td>\n",
       "      <td>NaN</td>\n",
       "    </tr>\n",
       "    <tr>\n",
       "      <th>ambivalent</th>\n",
       "      <td>1</td>\n",
       "      <td>22</td>\n",
       "      <td>NaN</td>\n",
       "      <td>NaN</td>\n",
       "      <td>NaN</td>\n",
       "    </tr>\n",
       "  </tbody>\n",
       "</table>\n",
       "</div>"
      ],
      "text/plain": [
       "MN          excluded  bimodal  included  concurrent  ambivalent\n",
       "iPSC                                                           \n",
       "excluded         478       63         3         NaN           1\n",
       "bimodal           19       64        30         NaN         NaN\n",
       "included         NaN      151      1409         NaN         NaN\n",
       "concurrent       NaN      NaN         1         NaN         NaN\n",
       "ambivalent         1       22       NaN         NaN         NaN"
      ]
     },
     "execution_count": 26,
     "metadata": {},
     "output_type": "execute_result"
    }
   ],
   "source": [
    "ipsc_mn_modality_2d"
   ]
  },
  {
   "cell_type": "code",
   "execution_count": 23,
   "metadata": {
    "collapsed": false
   },
   "outputs": [
    {
     "data": {
      "text/html": [
       "<div>\n",
       "<table border=\"1\" class=\"dataframe\">\n",
       "  <thead>\n",
       "    <tr style=\"text-align: right;\">\n",
       "      <th>MN</th>\n",
       "      <th>excluded</th>\n",
       "      <th>bimodal</th>\n",
       "      <th>included</th>\n",
       "      <th>concurrent</th>\n",
       "      <th>ambivalent</th>\n",
       "    </tr>\n",
       "    <tr>\n",
       "      <th>iPSC</th>\n",
       "      <th></th>\n",
       "      <th></th>\n",
       "      <th></th>\n",
       "      <th></th>\n",
       "      <th></th>\n",
       "    </tr>\n",
       "  </thead>\n",
       "  <tbody>\n",
       "    <tr>\n",
       "      <th>ambivalent</th>\n",
       "      <td>1</td>\n",
       "      <td>22</td>\n",
       "      <td>NaN</td>\n",
       "      <td>NaN</td>\n",
       "      <td>NaN</td>\n",
       "    </tr>\n",
       "    <tr>\n",
       "      <th>concurrent</th>\n",
       "      <td>NaN</td>\n",
       "      <td>NaN</td>\n",
       "      <td>1</td>\n",
       "      <td>NaN</td>\n",
       "      <td>NaN</td>\n",
       "    </tr>\n",
       "    <tr>\n",
       "      <th>included</th>\n",
       "      <td>NaN</td>\n",
       "      <td>151</td>\n",
       "      <td>1409</td>\n",
       "      <td>NaN</td>\n",
       "      <td>NaN</td>\n",
       "    </tr>\n",
       "    <tr>\n",
       "      <th>bimodal</th>\n",
       "      <td>19</td>\n",
       "      <td>64</td>\n",
       "      <td>30</td>\n",
       "      <td>NaN</td>\n",
       "      <td>NaN</td>\n",
       "    </tr>\n",
       "    <tr>\n",
       "      <th>excluded</th>\n",
       "      <td>478</td>\n",
       "      <td>63</td>\n",
       "      <td>3</td>\n",
       "      <td>NaN</td>\n",
       "      <td>1</td>\n",
       "    </tr>\n",
       "  </tbody>\n",
       "</table>\n",
       "</div>"
      ],
      "text/plain": [
       "MN          excluded  bimodal  included  concurrent  ambivalent\n",
       "iPSC                                                           \n",
       "ambivalent         1       22       NaN         NaN         NaN\n",
       "concurrent       NaN      NaN         1         NaN         NaN\n",
       "included         NaN      151      1409         NaN         NaN\n",
       "bimodal           19       64        30         NaN         NaN\n",
       "excluded         478       63         3         NaN           1"
      ]
     },
     "execution_count": 23,
     "metadata": {},
     "output_type": "execute_result"
    }
   ],
   "source": [
    "raw"
   ]
  },
  {
   "cell_type": "code",
   "execution_count": null,
   "metadata": {
    "collapsed": true
   },
   "outputs": [],
   "source": []
  }
 ],
 "metadata": {
  "kernelspec": {
   "display_name": "Python 2",
   "language": "python",
   "name": "python2"
  },
  "language_info": {
   "codemirror_mode": {
    "name": "ipython",
    "version": 2
   },
   "file_extension": ".py",
   "mimetype": "text/x-python",
   "name": "python",
   "nbconvert_exporter": "python",
   "pygments_lexer": "ipython2",
   "version": "2.7.11"
  }
 },
 "nbformat": 4,
 "nbformat_minor": 0
}
