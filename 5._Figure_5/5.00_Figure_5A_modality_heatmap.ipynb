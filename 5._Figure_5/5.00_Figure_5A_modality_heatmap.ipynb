{
 "cells": [
  {
   "cell_type": "code",
   "execution_count": null,
   "metadata": {
    "collapsed": false
   },
   "outputs": [],
   "source": [
    "# mkdir /home/obotvinnik/Dropbox/figures2/singlecell_pnm/figure4_voyages/"
   ]
  },
  {
   "cell_type": "code",
   "execution_count": null,
   "metadata": {
    "collapsed": false
   },
   "outputs": [
    {
     "name": "stdout",
     "output_type": "stream",
     "text": [
      "The autoreload extension is already loaded. To reload it, use:\n",
      "  %reload_ext autoreload\n",
      "2016-05-15 21:01:22\tReading datapackage from /projects/ps-yeolab/obotvinnik/flotilla_projects/singlecell_pnm_figure2_modalities_bayesian/datapackage.json\n",
      "2016-05-15 21:01:22\tParsing datapackage to create a Study object\n",
      "2016-05-15 21:01:54\tInitializing Study\n",
      "2016-05-15 21:01:54\tInitializing Predictor configuration manager for Study\n",
      "2016-05-15 21:01:54\tPredictor ExtraTreesClassifier is of type <class 'sklearn.ensemble.forest.ExtraTreesClassifier'>\n",
      "2016-05-15 21:01:54\tAdded ExtraTreesClassifier to default predictors\n",
      "2016-05-15 21:01:54\tPredictor ExtraTreesRegressor is of type <class 'sklearn.ensemble.forest.ExtraTreesRegressor'>\n",
      "2016-05-15 21:01:54\tAdded ExtraTreesRegressor to default predictors\n",
      "2016-05-15 21:01:54\tPredictor GradientBoostingClassifier is of type <class 'sklearn.ensemble.gradient_boosting.GradientBoostingClassifier'>\n",
      "2016-05-15 21:01:54\tAdded GradientBoostingClassifier to default predictors\n",
      "2016-05-15 21:01:54\tPredictor GradientBoostingRegressor is of type <class 'sklearn.ensemble.gradient_boosting.GradientBoostingRegressor'>\n",
      "2016-05-15 21:01:54\tAdded GradientBoostingRegressor to default predictors\n",
      "2016-05-15 21:01:58\tBuilding Gene Ontology database...\n",
      "2016-05-15 21:02:05\t\tDone.\n",
      "2016-05-15 21:02:05\tLoading metadata\n",
      "2016-05-15 21:02:05\tLoading expression data\n",
      "2016-05-15 21:02:05\tInitializing expression\n",
      "2016-05-15 21:02:05\tDone initializing expression\n"
     ]
    }
   ],
   "source": [
    "import six\n",
    "\n",
    "import matplotlib.pyplot as plt\n",
    "import seaborn as sns\n",
    "import numpy as np\n",
    "import pandas as pd\n",
    "\n",
    "from anchor.visualize import MODALITY_TO_COLOR, MODALITY_ORDER, MODALITY_PALETTE\n",
    "modality_order = MODALITY_ORDER\n",
    "\n",
    "sns.set(style='ticks', context='talk', rc={'font.sans-serif':'Arial', 'pdf.fonttype': 42})\n",
    "\n",
    "%matplotlib inline\n",
    "\n",
    "%load_ext autoreload\n",
    "%autoreload 2\n",
    "\n",
    "folder = 'figures' #'/home/obotvinnik/Dropbox/figures2/singlecell_pnm/figure4_voyages'\n",
    "\n",
    "import flotilla\n",
    "study = flotilla.embark('singlecell_pnm_figure2_modalities_bayesian', \n",
    "                        flotilla_dir='/projects/ps-yeolab/obotvinnik/flotilla_projects/')\n",
    "# study = flotilla.embark('singlecell_pnm_figure1_supplementary_post_splicing_filtering')"
   ]
  },
  {
   "cell_type": "code",
   "execution_count": null,
   "metadata": {
    "collapsed": false
   },
   "outputs": [],
   "source": [
    "mkdir $folder"
   ]
  },
  {
   "cell_type": "code",
   "execution_count": null,
   "metadata": {
    "collapsed": false
   },
   "outputs": [],
   "source": [
    "modality_transitions = study.supplemental.modalities_tidy.merge(\n",
    "    study.supplemental.modalities_tidy, left_on='event_id', right_on='event_id')\n",
    "modality_transitions.head()"
   ]
  },
  {
   "cell_type": "code",
   "execution_count": 100,
   "metadata": {
    "collapsed": false
   },
   "outputs": [
    {
     "data": {
      "text/html": [
       "<div>\n",
       "<table border=\"1\" class=\"dataframe\">\n",
       "  <thead>\n",
       "    <tr style=\"text-align: right;\">\n",
       "      <th></th>\n",
       "      <th>phenotype_x</th>\n",
       "      <th>event_id</th>\n",
       "      <th>modality_x</th>\n",
       "      <th>phenotype_y</th>\n",
       "      <th>modality_y</th>\n",
       "      <th>transition</th>\n",
       "    </tr>\n",
       "  </thead>\n",
       "  <tbody>\n",
       "    <tr>\n",
       "      <th>0</th>\n",
       "      <td>MN</td>\n",
       "      <td>exon:chr10:101165513-101165617:-@exon:chr10:10...</td>\n",
       "      <td>included</td>\n",
       "      <td>MN</td>\n",
       "      <td>included</td>\n",
       "      <td>MN-MN</td>\n",
       "    </tr>\n",
       "    <tr>\n",
       "      <th>1</th>\n",
       "      <td>MN</td>\n",
       "      <td>exon:chr10:101165513-101165617:-@exon:chr10:10...</td>\n",
       "      <td>included</td>\n",
       "      <td>NPC</td>\n",
       "      <td>included</td>\n",
       "      <td>MN-NPC</td>\n",
       "    </tr>\n",
       "    <tr>\n",
       "      <th>2</th>\n",
       "      <td>MN</td>\n",
       "      <td>exon:chr10:101165513-101165617:-@exon:chr10:10...</td>\n",
       "      <td>included</td>\n",
       "      <td>iPSC</td>\n",
       "      <td>included</td>\n",
       "      <td>MN-iPSC</td>\n",
       "    </tr>\n",
       "    <tr>\n",
       "      <th>3</th>\n",
       "      <td>NPC</td>\n",
       "      <td>exon:chr10:101165513-101165617:-@exon:chr10:10...</td>\n",
       "      <td>included</td>\n",
       "      <td>MN</td>\n",
       "      <td>included</td>\n",
       "      <td>NPC-MN</td>\n",
       "    </tr>\n",
       "    <tr>\n",
       "      <th>4</th>\n",
       "      <td>NPC</td>\n",
       "      <td>exon:chr10:101165513-101165617:-@exon:chr10:10...</td>\n",
       "      <td>included</td>\n",
       "      <td>NPC</td>\n",
       "      <td>included</td>\n",
       "      <td>NPC-NPC</td>\n",
       "    </tr>\n",
       "  </tbody>\n",
       "</table>\n",
       "</div>"
      ],
      "text/plain": [
       "  phenotype_x                                           event_id modality_x  \\\n",
       "0          MN  exon:chr10:101165513-101165617:-@exon:chr10:10...   included   \n",
       "1          MN  exon:chr10:101165513-101165617:-@exon:chr10:10...   included   \n",
       "2          MN  exon:chr10:101165513-101165617:-@exon:chr10:10...   included   \n",
       "3         NPC  exon:chr10:101165513-101165617:-@exon:chr10:10...   included   \n",
       "4         NPC  exon:chr10:101165513-101165617:-@exon:chr10:10...   included   \n",
       "\n",
       "  phenotype_y modality_y transition  \n",
       "0          MN   included      MN-MN  \n",
       "1         NPC   included     MN-NPC  \n",
       "2        iPSC   included    MN-iPSC  \n",
       "3          MN   included     NPC-MN  \n",
       "4         NPC   included    NPC-NPC  "
      ]
     },
     "execution_count": 100,
     "metadata": {},
     "output_type": "execute_result"
    }
   ],
   "source": [
    "modality_transitions['transition'] = modality_transitions['phenotype_x'] + '-' + modality_transitions['phenotype_y']\n",
    "modality_transitions.head()"
   ]
  },
  {
   "cell_type": "code",
   "execution_count": 125,
   "metadata": {
    "collapsed": true
   },
   "outputs": [],
   "source": [
    "transitions_of_interest = ['iPSC-NPC', 'iPSC-MN']"
   ]
  },
  {
   "cell_type": "code",
   "execution_count": null,
   "metadata": {
    "collapsed": false
   },
   "outputs": [],
   "source": [
    "modality_transitions_subset = modality_transitions.query('transition in @transitions_of_interest')\n",
    "modality_transitions_subset.head()"
   ]
  },
  {
   "cell_type": "code",
   "execution_count": null,
   "metadata": {
    "collapsed": false
   },
   "outputs": [],
   "source": [
    "same_modality = modality_transitions_subset.groupby('transition').apply(lambda x: (x['modality_y'] == x['modality_x']).sum())\n",
    "same_modality.name = 'Same Modality'\n",
    "changing_modality = modality_transitions_subset.groupby('transition').apply(lambda x: (x['modality_y'] != x['modality_x']).sum())\n",
    "changing_modality.name = 'Switching Modality'\n",
    "changing_modality"
   ]
  },
  {
   "cell_type": "code",
   "execution_count": null,
   "metadata": {
    "collapsed": false
   },
   "outputs": [],
   "source": [
    "n_modality_changes = pd.concat([changing_modality, same_modality], axis=1).unstack()\n",
    "n_modality_changes = n_modality_changes.reset_index()\n",
    "n_modality_changes = n_modality_changes.rename(columns={'level_0': \"Modality\", 0:'# AS Exons'})\n",
    "n_modality_changes['% AS Exons'] = 100 * n_modality_changes.groupby('transition')['# AS Exons'].apply(lambda x: x/x.sum())\n",
    "n_modality_changes"
   ]
  },
  {
   "cell_type": "code",
   "execution_count": null,
   "metadata": {
    "collapsed": false
   },
   "outputs": [],
   "source": [
    "percent_exons_change_modalities = n_modality_changes.set_index(['transition', 'Modality'])['% AS Exons']\n",
    "percent_exons_change_modalities"
   ]
  },
  {
   "cell_type": "code",
   "execution_count": null,
   "metadata": {
    "collapsed": false
   },
   "outputs": [],
   "source": [
    "cumulative_sum = percent_exons_change_modalities.groupby(level='transition').cumsum()\n",
    "cumulative_sum"
   ]
  },
  {
   "cell_type": "code",
   "execution_count": null,
   "metadata": {
    "collapsed": false
   },
   "outputs": [],
   "source": [
    "bottoms = cumulative_sum - percent_exons_change_modalities\n",
    "bottoms"
   ]
  },
  {
   "cell_type": "markdown",
   "metadata": {},
   "source": [
    "### plot the percent of events that change or don't change modality"
   ]
  },
  {
   "cell_type": "code",
   "execution_count": null,
   "metadata": {
    "collapsed": false
   },
   "outputs": [],
   "source": [
    "fig, ax = plt.subplots(figsize=(1.75, 1.5))\n",
    "palette = ['lightgrey', MODALITY_TO_COLOR['bimodal']] #sns.color_palette('Greys', n_colors=2)\n",
    "\n",
    "for i, (delta_modality, s) in enumerate(percent_exons_change_modalities.groupby(level=1)):\n",
    "    six.print_(delta_modality)\n",
    "    color = palette[i]\n",
    "    x = np.arange(s.shape[0])\n",
    "\n",
    "    bottom = bottoms.loc[idx[:, delta_modality]]\n",
    "    ax.bar(x, s, bottom=bottom, label=delta_modality, color=color)\n",
    "ax.set(xticks=x + 0.4, xticklabels=bottoms.index.levels[0])\n",
    "ax.legend()\n",
    "sns.despine()\n",
    "fig.tight_layout()\n",
    "fig.savefig('{}/n_exons_change_modalities_barplot_stacked.pdf'.format(folder))\n"
   ]
  },
  {
   "cell_type": "code",
   "execution_count": null,
   "metadata": {
    "collapsed": false
   },
   "outputs": [],
   "source": [
    "rows = (modality_transitions.phenotype_x == 'iPSC') & (modality_transitions.phenotype_y == 'MN')\n",
    "ipsc_mn_modalities = modality_transitions.loc[rows]\n",
    "ipsc_mn_modalities.head()"
   ]
  },
  {
   "cell_type": "code",
   "execution_count": null,
   "metadata": {
    "collapsed": false
   },
   "outputs": [],
   "source": [
    "ipsc_mn_modality_count = ipsc_mn_modalities.groupby(['modality_x', 'modality_y']).size()\n",
    "ipsc_mn_modality_count.head()"
   ]
  },
  {
   "cell_type": "code",
   "execution_count": null,
   "metadata": {
    "collapsed": false
   },
   "outputs": [],
   "source": [
    "ipsc_mn_modality_2d = ipsc_mn_modality_count.unstack()\n",
    "ipsc_mn_modality_2d.head()"
   ]
  },
  {
   "cell_type": "code",
   "execution_count": null,
   "metadata": {
    "collapsed": false
   },
   "outputs": [],
   "source": [
    "ipsc_mn_modality_2d.index.name = 'iPSC'\n",
    "ipsc_mn_modality_2d.columns.name = 'MN'\n",
    "ipsc_mn_modality_2d.head()"
   ]
  },
  {
   "cell_type": "code",
   "execution_count": null,
   "metadata": {
    "collapsed": true
   },
   "outputs": [],
   "source": [
    "from anchor import MODALITY_ORDER"
   ]
  },
  {
   "cell_type": "code",
   "execution_count": null,
   "metadata": {
    "collapsed": false
   },
   "outputs": [],
   "source": [
    "ipsc_mn_modality_2d = ipsc_mn_modality_2d.reindex(index=MODALITY_ORDER, columns=MODALITY_ORDER)\n",
    "ipsc_mn_modality_2d"
   ]
  },
  {
   "cell_type": "code",
   "execution_count": null,
   "metadata": {
    "collapsed": true
   },
   "outputs": [],
   "source": [
    "sns.set(style='ticks', context='paper')"
   ]
  },
  {
   "cell_type": "code",
   "execution_count": null,
   "metadata": {
    "collapsed": false
   },
   "outputs": [],
   "source": [
    "fig, ax = plt.subplots(figsize=(2.5, 2))\n",
    "sns.heatmap(ipsc_mn_modality_2d, annot=True, fmt='g')\n",
    "ax.set(xticks=[], yticks=[])\n",
    "# fig.axes[-1].yaxis.locator_params()\n",
    "fig.tight_layout()\n",
    "# fig.savefig('{}/ipsc_to_mn.pdf')"
   ]
  },
  {
   "cell_type": "markdown",
   "metadata": {},
   "source": [
    "### Get percentages for comparison - use % of events in both"
   ]
  },
  {
   "cell_type": "code",
   "execution_count": null,
   "metadata": {
    "collapsed": false
   },
   "outputs": [],
   "source": [
    "percentages = 100*ipsc_mn_modality_2d.divide(ipsc_mn_modality_2d.sum(axis=1), axis=0)\n",
    "percentages"
   ]
  },
  {
   "cell_type": "code",
   "execution_count": null,
   "metadata": {
    "collapsed": false
   },
   "outputs": [],
   "source": [
    "import colorsys\n",
    "\n",
    "fig, ax = plt.subplots(figsize=(2.5, 2))\n",
    "sns.heatmap(percentages, cbar_kws=dict(label='% AS exons in both iPSC in NPC'))#, annot=True, fmt='.1f')\n",
    "\n",
    "# fig.axes[-1].yaxis.locator_params()\n",
    "\n",
    "raw = ipsc_mn_modality_2d.ix[::-1]\n",
    "\n",
    "mesh = ax.collections[0]\n",
    "\n",
    "fmt = 'g'\n",
    "\n",
    "mesh.update_scalarmappable()\n",
    "xpos, ypos = np.meshgrid(ax.get_xticks(), ax.get_yticks())\n",
    "for x, y, percentage, val, color in zip(xpos.flat, ypos.flat, \n",
    "                            mesh.get_array(), raw.values.flat, mesh.get_facecolors()):\n",
    "#     print val\n",
    "    if percentage is not np.ma.masked:\n",
    "        _, l, _ = colorsys.rgb_to_hls(*color[:3])\n",
    "        text_color = \".15\" if l > .5 else \"w\"\n",
    "        val = (\"{:\" + fmt + \"}\").format(val)\n",
    "        text_kwargs = dict(color=text_color, ha=\"center\", va=\"center\")\n",
    "#         text_kwargs.update(self.annot_kws)\n",
    "        ax.text(x, y, val, **text_kwargs)\n",
    "    else:\n",
    "        text_kwargs = dict(color='.15', ha=\"center\", va=\"center\")\n",
    "        ax.text(x, y, 0, **text_kwargs)\n",
    "ax.set(xticks=[], yticks=[])\n",
    "fig.tight_layout()\n",
    "fig.savefig('{}/ipsc_to_mn_modality_heatmap.pdf'.format(folder))"
   ]
  },
  {
   "cell_type": "markdown",
   "metadata": {},
   "source": [
    "### iPSC-NPC $\\Delta$ modality heatmap"
   ]
  },
  {
   "cell_type": "code",
   "execution_count": null,
   "metadata": {
    "collapsed": false
   },
   "outputs": [],
   "source": [
    "rows = (modality_transitions.phenotype_x == 'iPSC') & (modality_transitions.phenotype_y == 'NPC')\n",
    "ipsc_npc_modalities = modality_transitions.loc[rows]\n",
    "ipsc_npc_modalities.head()"
   ]
  },
  {
   "cell_type": "code",
   "execution_count": null,
   "metadata": {
    "collapsed": false
   },
   "outputs": [],
   "source": [
    "ipsc_npc_modality_count = ipsc_npc_modalities.groupby(['modality_x', 'modality_y']).size()\n",
    "ipsc_npc_modality_2d = ipsc_npc_modality_count.unstack()\n",
    "ipsc_npc_modality_2d.index.name = 'iPSC'\n",
    "ipsc_npc_modality_2d.columns.name = 'NPC'\n",
    "ipsc_npc_modality_2d = ipsc_npc_modality_2d.reindex(index=MODALITY_ORDER, columns=MODALITY_ORDER)\n",
    "ipsc_npc_percentages = 100*ipsc_npc_modality_2d.divide(ipsc_npc_modality_2d.sum(axis=1), axis=0)\n",
    "ipsc_npc_percentages"
   ]
  },
  {
   "cell_type": "code",
   "execution_count": null,
   "metadata": {
    "collapsed": false
   },
   "outputs": [],
   "source": [
    "import colorsys\n",
    "\n",
    "fig, ax = plt.subplots(figsize=(2.5, 2))\n",
    "sns.heatmap(ipsc_npc_percentages, cbar_kws=dict(label='% AS exons in both iPSC and NPC'))#, annot=True, fmt='.1f')\n",
    "\n",
    "# fig.axes[-1].yaxis.locator_params()\n",
    "\n",
    "raw = ipsc_npc_modality_2d.ix[::-1]\n",
    "\n",
    "mesh = ax.collections[0]\n",
    "\n",
    "fmt = 'g'\n",
    "\n",
    "mesh.update_scalarmappable()\n",
    "xpos, ypos = np.meshgrid(ax.get_xticks(), ax.get_yticks())\n",
    "for x, y, percentage, val, color in zip(xpos.flat, ypos.flat, \n",
    "                            mesh.get_array(), raw.values.flat, mesh.get_facecolors()):\n",
    "#     print val\n",
    "    if percentage is not np.ma.masked:\n",
    "        _, l, _ = colorsys.rgb_to_hls(*color[:3])\n",
    "        text_color = \".15\" if l > .5 else \"w\"\n",
    "        val = (\"{:\" + fmt + \"}\").format(val)\n",
    "        text_kwargs = dict(color=text_color, ha=\"center\", va=\"center\")\n",
    "#         text_kwargs.update(self.annot_kws)\n",
    "        ax.text(x, y, val, **text_kwargs)\n",
    "    else:\n",
    "        text_kwargs = dict(color='.15', ha=\"center\", va=\"center\")\n",
    "        ax.text(x, y, 0, **text_kwargs)\n",
    "ax.set(xticks=[], yticks=[])\n",
    "fig.tight_layout()\n",
    "fig.savefig('{}/ipsc_to_npc_modality_heatmap.pdf'.format(folder))"
   ]
  },
  {
   "cell_type": "markdown",
   "metadata": {},
   "source": [
    "## Statistical enrichment of motif changes"
   ]
  },
  {
   "cell_type": "code",
   "execution_count": null,
   "metadata": {
    "collapsed": false
   },
   "outputs": [],
   "source": [
    "transitions = [(u'iPSC', u'NPC'), (u'iPSC', u'MN')]"
   ]
  },
  {
   "cell_type": "code",
   "execution_count": null,
   "metadata": {
    "collapsed": false
   },
   "outputs": [],
   "source": [
    "hypergeom?"
   ]
  },
  {
   "cell_type": "code",
   "execution_count": null,
   "metadata": {
    "collapsed": true
   },
   "outputs": [],
   "source": [
    "from scipy.stats import hypergeom"
   ]
  },
  {
   "cell_type": "code",
   "execution_count": null,
   "metadata": {
    "collapsed": false
   },
   "outputs": [],
   "source": [
    "import itertools\n",
    "\n",
    "lines = []\n",
    "\n",
    "for phenotype1, phenotype2 in transitions:\n",
    "    modality_subset = modality_transitions.query('(phenotype_x == @phenotype1) & (phenotype_y == @phenotype2)')\n",
    "#     six.print_(phenotype1, phenotype2, modality_subset.shape)\n",
    "    M = len(modality_subset['event_id'].unique())\n",
    "    \n",
    "    for modality1, modality2 in itertools.product(MODALITY_ORDER, repeat=2):\n",
    "#         six.print_('\\t', modality1, modality2)\n",
    "        df1 = modality_subset.query('(phenotype_x == @phenotype1) & (modality_x == @modality1)')\n",
    "        df2 = modality_subset.query('(phenotype_y == @phenotype2) & (modality_y == @modality2)')\n",
    "        \n",
    "        n = df1.shape[0]\n",
    "        N = df2.shape[0]\n",
    "        x = len(set(df1['event_id']) & set(df2['event_id']))\n",
    "#         six.print_('\\t\\t', x, M, n, N)\n",
    "        if x > 0:\n",
    "            result = -hypergeom.logsf(x, M, n, N)\n",
    "#             six.print_('\\t\\t\\t', result)\n",
    "            lines.append([phenotype1, modality1, phenotype2, modality2, result])\n",
    "enrichment = pd.DataFrame(lines, columns=['phenotype1', 'modality1', 'phenotype2', 'modality2', '$-\\log_{10}(p)$'])\n",
    "enrichment['$-\\log_{10}(q)$'] = enrichment['$-\\log_{10}(p)$'] - np.log10(enrichment.shape[0])\n",
    "enrichment"
   ]
  },
  {
   "cell_type": "code",
   "execution_count": null,
   "metadata": {
    "collapsed": false
   },
   "outputs": [],
   "source": [
    "enrichment_2d = enrichment.pivot_table(index=['phenotype1', 'modality1'], \n",
    "                                       columns=['phenotype2', 'modality2'], \n",
    "                                       values='$-\\log_{10}(q)$')"
   ]
  },
  {
   "cell_type": "code",
   "execution_count": null,
   "metadata": {
    "collapsed": false
   },
   "outputs": [],
   "source": [
    "columns = pd.MultiIndex.from_product([['NPC', 'MN'], MODALITY_ORDER])\n",
    "index = pd.MultiIndex.from_product([['iPSC'], MODALITY_ORDER])\n",
    "\n",
    "enrichment_2d = enrichment_2d.reindex(columns=columns, index=index)\n",
    "enrichment_2d"
   ]
  },
  {
   "cell_type": "code",
   "execution_count": null,
   "metadata": {
    "collapsed": false
   },
   "outputs": [],
   "source": [
    "fig, ax = plt.subplots(figsize=(4, 1.75))\n",
    "sns.heatmap(enrichment_2d, vmin=0, vmax=2000)\n",
    "\n",
    "ymin, ymax = ax.get_ylim()\n",
    "ax.vlines(5, ymin, ymax)\n",
    "ax.set(xticks=[], yticks=[], ylabel='iPSC', xlabel='')\n",
    "fig.tight_layout()"
   ]
  },
  {
   "cell_type": "markdown",
   "metadata": {
    "collapsed": false
   },
   "source": [
    "## Barplot of changes to/from bimodal"
   ]
  },
  {
   "cell_type": "code",
   "execution_count": null,
   "metadata": {
    "collapsed": false
   },
   "outputs": [],
   "source": [
    "modality_transitions.head()"
   ]
  },
  {
   "cell_type": "code",
   "execution_count": null,
   "metadata": {
    "collapsed": false
   },
   "outputs": [],
   "source": [
    "modality_transitions['transition'] = modality_transitions['phenotype_x'] + '-' + modality_transitions['phenotype_y']\n",
    "modality_transitions.head()"
   ]
  },
  {
   "cell_type": "code",
   "execution_count": null,
   "metadata": {
    "collapsed": true
   },
   "outputs": [],
   "source": [
    "transitions_of_interest = ['iPSC-NPC', 'iPSC-MN']"
   ]
  },
  {
   "cell_type": "code",
   "execution_count": null,
   "metadata": {
    "collapsed": false
   },
   "outputs": [],
   "source": [
    "transition_rows = modality_transitions.transition.isin(transitions_of_interest)\n",
    "delta_modality_rows = modality_transitions['modality_x'] != modality_transitions['modality_y']\n",
    "modality_transitions_subset = modality_transitions.loc[transition_rows & delta_modality_rows]\n",
    "modality_transitions_subset['transition'] = pd.Categorical(modality_transitions_subset['transition'], \n",
    "                                                           categories=transitions_of_interest, ordered=True)\n",
    "modality_transitions_subset.head()"
   ]
  },
  {
   "cell_type": "code",
   "execution_count": null,
   "metadata": {
    "collapsed": false
   },
   "outputs": [],
   "source": [
    "delta_modalities = modality_transitions_subset.groupby(['transition', 'modality_x', 'modality_y']).size()\n",
    "delta_modalities = delta_modalities.reset_index()\n",
    "delta_modalities = delta_modalities.rename(columns={0: '# AS Exons'})\n",
    "delta_modalities"
   ]
  },
  {
   "cell_type": "code",
   "execution_count": null,
   "metadata": {
    "collapsed": false
   },
   "outputs": [],
   "source": [
    "col = '$\\Delta$ Modality'\n",
    "\n",
    "# Label everythign as \"Other\" first\n",
    "delta_modalities[col] = 'Other'\n",
    "\n",
    "# From bimodal\n",
    "delta_modalities.loc[delta_modalities['modality_x'] == 'bimodal', col] = 'Bimodal --> X'\n",
    "\n",
    "# To Bimodal\n",
    "delta_modalities.loc[delta_modalities['modality_y'] == 'bimodal', col] = 'X --> Bimodal'\n",
    "delta_modalities"
   ]
  },
  {
   "cell_type": "code",
   "execution_count": null,
   "metadata": {
    "collapsed": false
   },
   "outputs": [],
   "source": [
    "delta_modalities['% Changing AS Exons'] = delta_modalities.groupby('transition')['# AS Exons'].apply(lambda x: 100*x/x.sum())\n",
    "delta_modalities"
   ]
  },
  {
   "cell_type": "code",
   "execution_count": null,
   "metadata": {
    "collapsed": false
   },
   "outputs": [],
   "source": [
    "palette = sns.light_palette(MODALITY_TO_COLOR['bimodal'], n_colors=2, reverse=True) + ['k']\n",
    "sns.palplot(palette)"
   ]
  },
  {
   "cell_type": "code",
   "execution_count": 73,
   "metadata": {
    "collapsed": false
   },
   "outputs": [
    {
     "data": {
      "image/png": "[encoded data removed]",
      "text/plain": [
       "<matplotlib.figure.Figure at 0x2b74b8ea6810>"
      ]
     },
     "metadata": {},
     "output_type": "display_data"
    }
   ],
   "source": [
    "fig, ax = plt.subplots(figsize=(2, 1.5))\n",
    "\n",
    "sns.barplot(x='transition', y='% Changing AS Exons', palette=palette,\n",
    "            hue=col, data=delta_modalities, ci=None, order=transitions_of_interest)\n",
    "ax.locator_params('y', nbins=4)\n",
    "ax.set(ylabel='% Changing AS Exons')\n",
    "\n",
    "sns.despine()\n",
    "fig.tight_layout()\n",
    "fig.savefig('{}/changing_modalities_barplot.pdf'.format(folder))\n",
    "\n",
    "ax.set(ylim=(0, 1))\n",
    "ax.legend_.set_visible(False)\n",
    "fig.savefig('{}/changing_modalities_barplot_zoom.pdf'.format(folder))"
   ]
  },
  {
   "cell_type": "markdown",
   "metadata": {},
   "source": [
    "### Stacked bar plot"
   ]
  },
  {
   "cell_type": "code",
   "execution_count": 86,
   "metadata": {
    "collapsed": false
   },
   "outputs": [
    {
     "data": {
      "text/html": [
       "<div>\n",
       "<table border=\"1\" class=\"dataframe\">\n",
       "  <thead>\n",
       "    <tr style=\"text-align: right;\">\n",
       "      <th></th>\n",
       "      <th>transition</th>\n",
       "      <th>modality_x</th>\n",
       "      <th>modality_y</th>\n",
       "      <th># AS Exons</th>\n",
       "      <th>$\\Delta$ Modality</th>\n",
       "      <th>% Changing AS Exons</th>\n",
       "    </tr>\n",
       "  </thead>\n",
       "  <tbody>\n",
       "    <tr>\n",
       "      <th>0</th>\n",
       "      <td>iPSC-NPC</td>\n",
       "      <td>bimodal</td>\n",
       "      <td>excluded</td>\n",
       "      <td>199</td>\n",
       "      <td>Bimodal --&gt; X</td>\n",
       "      <td>11.542923</td>\n",
       "    </tr>\n",
       "    <tr>\n",
       "      <th>1</th>\n",
       "      <td>iPSC-NPC</td>\n",
       "      <td>bimodal</td>\n",
       "      <td>included</td>\n",
       "      <td>414</td>\n",
       "      <td>Bimodal --&gt; X</td>\n",
       "      <td>24.013921</td>\n",
       "    </tr>\n",
       "    <tr>\n",
       "      <th>2</th>\n",
       "      <td>iPSC-NPC</td>\n",
       "      <td>excluded</td>\n",
       "      <td>bimodal</td>\n",
       "      <td>315</td>\n",
       "      <td>X --&gt; Bimodal</td>\n",
       "      <td>18.271462</td>\n",
       "    </tr>\n",
       "    <tr>\n",
       "      <th>3</th>\n",
       "      <td>iPSC-NPC</td>\n",
       "      <td>excluded</td>\n",
       "      <td>uncategorized</td>\n",
       "      <td>1</td>\n",
       "      <td>Other</td>\n",
       "      <td>0.058005</td>\n",
       "    </tr>\n",
       "    <tr>\n",
       "      <th>4</th>\n",
       "      <td>iPSC-NPC</td>\n",
       "      <td>included</td>\n",
       "      <td>bimodal</td>\n",
       "      <td>763</td>\n",
       "      <td>X --&gt; Bimodal</td>\n",
       "      <td>44.257541</td>\n",
       "    </tr>\n",
       "    <tr>\n",
       "      <th>5</th>\n",
       "      <td>iPSC-NPC</td>\n",
       "      <td>middle</td>\n",
       "      <td>included</td>\n",
       "      <td>1</td>\n",
       "      <td>Other</td>\n",
       "      <td>0.058005</td>\n",
       "    </tr>\n",
       "    <tr>\n",
       "      <th>6</th>\n",
       "      <td>iPSC-NPC</td>\n",
       "      <td>uncategorized</td>\n",
       "      <td>bimodal</td>\n",
       "      <td>29</td>\n",
       "      <td>X --&gt; Bimodal</td>\n",
       "      <td>1.682135</td>\n",
       "    </tr>\n",
       "    <tr>\n",
       "      <th>7</th>\n",
       "      <td>iPSC-NPC</td>\n",
       "      <td>uncategorized</td>\n",
       "      <td>excluded</td>\n",
       "      <td>2</td>\n",
       "      <td>Other</td>\n",
       "      <td>0.116009</td>\n",
       "    </tr>\n",
       "    <tr>\n",
       "      <th>8</th>\n",
       "      <td>iPSC-MN</td>\n",
       "      <td>bimodal</td>\n",
       "      <td>excluded</td>\n",
       "      <td>118</td>\n",
       "      <td>Bimodal --&gt; X</td>\n",
       "      <td>11.059044</td>\n",
       "    </tr>\n",
       "    <tr>\n",
       "      <th>9</th>\n",
       "      <td>iPSC-MN</td>\n",
       "      <td>bimodal</td>\n",
       "      <td>included</td>\n",
       "      <td>196</td>\n",
       "      <td>Bimodal --&gt; X</td>\n",
       "      <td>18.369260</td>\n",
       "    </tr>\n",
       "    <tr>\n",
       "      <th>10</th>\n",
       "      <td>iPSC-MN</td>\n",
       "      <td>excluded</td>\n",
       "      <td>bimodal</td>\n",
       "      <td>201</td>\n",
       "      <td>X --&gt; Bimodal</td>\n",
       "      <td>18.837863</td>\n",
       "    </tr>\n",
       "    <tr>\n",
       "      <th>11</th>\n",
       "      <td>iPSC-MN</td>\n",
       "      <td>excluded</td>\n",
       "      <td>included</td>\n",
       "      <td>7</td>\n",
       "      <td>Other</td>\n",
       "      <td>0.656045</td>\n",
       "    </tr>\n",
       "    <tr>\n",
       "      <th>12</th>\n",
       "      <td>iPSC-MN</td>\n",
       "      <td>excluded</td>\n",
       "      <td>uncategorized</td>\n",
       "      <td>2</td>\n",
       "      <td>Other</td>\n",
       "      <td>0.187441</td>\n",
       "    </tr>\n",
       "    <tr>\n",
       "      <th>13</th>\n",
       "      <td>iPSC-MN</td>\n",
       "      <td>included</td>\n",
       "      <td>bimodal</td>\n",
       "      <td>509</td>\n",
       "      <td>X --&gt; Bimodal</td>\n",
       "      <td>47.703843</td>\n",
       "    </tr>\n",
       "    <tr>\n",
       "      <th>14</th>\n",
       "      <td>iPSC-MN</td>\n",
       "      <td>middle</td>\n",
       "      <td>included</td>\n",
       "      <td>1</td>\n",
       "      <td>Other</td>\n",
       "      <td>0.093721</td>\n",
       "    </tr>\n",
       "    <tr>\n",
       "      <th>15</th>\n",
       "      <td>iPSC-MN</td>\n",
       "      <td>uncategorized</td>\n",
       "      <td>bimodal</td>\n",
       "      <td>32</td>\n",
       "      <td>X --&gt; Bimodal</td>\n",
       "      <td>2.999063</td>\n",
       "    </tr>\n",
       "    <tr>\n",
       "      <th>16</th>\n",
       "      <td>iPSC-MN</td>\n",
       "      <td>uncategorized</td>\n",
       "      <td>excluded</td>\n",
       "      <td>1</td>\n",
       "      <td>Other</td>\n",
       "      <td>0.093721</td>\n",
       "    </tr>\n",
       "  </tbody>\n",
       "</table>\n",
       "</div>"
      ],
      "text/plain": [
       "   transition     modality_x     modality_y  # AS Exons $\\Delta$ Modality  \\\n",
       "0    iPSC-NPC        bimodal       excluded         199     Bimodal --> X   \n",
       "1    iPSC-NPC        bimodal       included         414     Bimodal --> X   \n",
       "2    iPSC-NPC       excluded        bimodal         315     X --> Bimodal   \n",
       "3    iPSC-NPC       excluded  uncategorized           1             Other   \n",
       "4    iPSC-NPC       included        bimodal         763     X --> Bimodal   \n",
       "5    iPSC-NPC         middle       included           1             Other   \n",
       "6    iPSC-NPC  uncategorized        bimodal          29     X --> Bimodal   \n",
       "7    iPSC-NPC  uncategorized       excluded           2             Other   \n",
       "8     iPSC-MN        bimodal       excluded         118     Bimodal --> X   \n",
       "9     iPSC-MN        bimodal       included         196     Bimodal --> X   \n",
       "10    iPSC-MN       excluded        bimodal         201     X --> Bimodal   \n",
       "11    iPSC-MN       excluded       included           7             Other   \n",
       "12    iPSC-MN       excluded  uncategorized           2             Other   \n",
       "13    iPSC-MN       included        bimodal         509     X --> Bimodal   \n",
       "14    iPSC-MN         middle       included           1             Other   \n",
       "15    iPSC-MN  uncategorized        bimodal          32     X --> Bimodal   \n",
       "16    iPSC-MN  uncategorized       excluded           1             Other   \n",
       "\n",
       "    % Changing AS Exons  \n",
       "0             11.542923  \n",
       "1             24.013921  \n",
       "2             18.271462  \n",
       "3              0.058005  \n",
       "4             44.257541  \n",
       "5              0.058005  \n",
       "6              1.682135  \n",
       "7              0.116009  \n",
       "8             11.059044  \n",
       "9             18.369260  \n",
       "10            18.837863  \n",
       "11             0.656045  \n",
       "12             0.187441  \n",
       "13            47.703843  \n",
       "14             0.093721  \n",
       "15             2.999063  \n",
       "16             0.093721  "
      ]
     },
     "execution_count": 86,
     "metadata": {},
     "output_type": "execute_result"
    }
   ],
   "source": [
    "delta_modalities['$\\Delta$ Modality'] = pd.Categorical(delta_modalities['$\\Delta$ Modality'], \n",
    "                                                       categories=[ 'X --> Bimodal', 'Bimodal --> X', 'Other'], ordered=True)\n",
    "# delta_modalities['transition'] = pd.Categorical(delta_modalities['transition'], \n",
    "#                                                        categories=transitions_of_interest, ordered=True)\n",
    "delta_modalities"
   ]
  },
  {
   "cell_type": "code",
   "execution_count": 87,
   "metadata": {
    "collapsed": false
   },
   "outputs": [
    {
     "data": {
      "text/plain": [
       "transition  $\\Delta$ Modality\n",
       "iPSC-NPC    X --> Bimodal        64.211137\n",
       "            Bimodal --> X        35.556845\n",
       "            Other                 0.232019\n",
       "iPSC-MN     X --> Bimodal        69.540769\n",
       "            Bimodal --> X        29.428304\n",
       "            Other                 1.030928\n",
       "Name: % Changing AS Exons, dtype: float64"
      ]
     },
     "execution_count": 87,
     "metadata": {},
     "output_type": "execute_result"
    }
   ],
   "source": [
    "changing_as_exons = delta_modalities.groupby(['transition', col])['% Changing AS Exons'].sum()\n",
    "changing_as_exons"
   ]
  },
  {
   "cell_type": "code",
   "execution_count": 88,
   "metadata": {
    "collapsed": false
   },
   "outputs": [
    {
     "data": {
      "text/plain": [
       "transition  $\\Delta$ Modality\n",
       "iPSC-NPC    X --> Bimodal         64.211137\n",
       "            Bimodal --> X         99.767981\n",
       "            Other                100.000000\n",
       "iPSC-MN     X --> Bimodal         69.540769\n",
       "            Bimodal --> X         98.969072\n",
       "            Other                100.000000\n",
       "Name: % Changing AS Exons, dtype: float64"
      ]
     },
     "execution_count": 88,
     "metadata": {},
     "output_type": "execute_result"
    }
   ],
   "source": [
    "cumulative_sum = changing_as_exons.groupby(level=0).cumsum()\n",
    "cumulative_sum"
   ]
  },
  {
   "cell_type": "code",
   "execution_count": 89,
   "metadata": {
    "collapsed": false
   },
   "outputs": [
    {
     "data": {
      "text/plain": [
       "transition  $\\Delta$ Modality\n",
       "iPSC-NPC    X --> Bimodal         0.000000\n",
       "            Bimodal --> X        64.211137\n",
       "            Other                99.767981\n",
       "iPSC-MN     X --> Bimodal         0.000000\n",
       "            Bimodal --> X        69.540769\n",
       "            Other                98.969072\n",
       "Name: % Changing AS Exons, dtype: float64"
      ]
     },
     "execution_count": 89,
     "metadata": {},
     "output_type": "execute_result"
    }
   ],
   "source": [
    "bottoms = cumulative_sum - changing_as_exons\n",
    "bottoms"
   ]
  },
  {
   "cell_type": "code",
   "execution_count": 90,
   "metadata": {
    "collapsed": false
   },
   "outputs": [
    {
     "data": {
      "text/plain": [
       "CategoricalIndex([u'iPSC-NPC', u'iPSC-MN'], categories=[u'iPSC-NPC', u'iPSC-MN'], ordered=True, name=u'transition', dtype='category')"
      ]
     },
     "execution_count": 90,
     "metadata": {},
     "output_type": "execute_result"
    }
   ],
   "source": [
    "bottoms.index.levels[0]"
   ]
  },
  {
   "cell_type": "code",
   "execution_count": 91,
   "metadata": {
    "collapsed": true
   },
   "outputs": [],
   "source": [
    "idx = pd.IndexSlice"
   ]
  },
  {
   "cell_type": "code",
   "execution_count": 93,
   "metadata": {
    "collapsed": false
   },
   "outputs": [
    {
     "name": "stdout",
     "output_type": "stream",
     "text": [
      "X --> Bimodal\n",
      "Bimodal --> X\n",
      "Other\n"
     ]
    },
    {
     "data": {
      "image/png": "[encoded data removed]",
      "text/plain": [
       "<matplotlib.figure.Figure at 0x2b74ad4323d0>"
      ]
     },
     "metadata": {},
     "output_type": "display_data"
    }
   ],
   "source": [
    "fig, ax = plt.subplots(figsize=(1.75, 1.5))\n",
    "\n",
    "\n",
    "for i, (delta_modality, s) in enumerate(changing_as_exons.groupby(level=1)):\n",
    "    six.print_(delta_modality)\n",
    "    color = palette[i]\n",
    "    x = np.arange(s.shape[0])\n",
    "\n",
    "    bottom = bottoms.loc[idx[:, delta_modality]]\n",
    "    ax.bar(x, s, bottom=bottom, label=delta_modality, color=color)\n",
    "ax.set(xticks=x + 0.4, xticklabels=bottoms.index.levels[0])\n",
    "ax.legend()\n",
    "sns.despine()\n",
    "fig.tight_layout()\n",
    "fig.savefig('{}/changing_modalities_barplot_stacked.pdf'.format(folder))\n"
   ]
  },
  {
   "cell_type": "code",
   "execution_count": null,
   "metadata": {
    "collapsed": true
   },
   "outputs": [],
   "source": []
  }
 ],
 "metadata": {
  "kernelspec": {
   "display_name": "Python 2",
   "language": "python",
   "name": "python2"
  },
  "language_info": {
   "codemirror_mode": {
    "name": "ipython",
    "version": 2
   },
   "file_extension": ".py",
   "mimetype": "text/x-python",
   "name": "python",
   "nbconvert_exporter": "python",
   "pygments_lexer": "ipython2",
   "version": "2.7.10"
  }
 },
 "nbformat": 4,
 "nbformat_minor": 0
}
