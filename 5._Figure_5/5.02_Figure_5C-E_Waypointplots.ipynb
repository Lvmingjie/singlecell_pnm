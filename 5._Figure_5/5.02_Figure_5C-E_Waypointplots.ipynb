{
 "cells": [
  {
   "cell_type": "code",
   "execution_count": 1,
   "metadata": {
    "collapsed": false
   },
   "outputs": [
    {
     "name": "stderr",
     "output_type": "stream",
     "text": [
      "/home/obotvinnik/anaconda/lib/python2.7/site-packages/matplotlib/__init__.py:810: UserWarning: Found matplotlib configuration in ~/.matplotlib/. To conform with the XDG base directory standard, this configuration location has been deprecated on Linux, and the new location is now /home/obotvinnik/.config/matplotlib/. Please move your configuration there to ensure that matplotlib will continue to find it in the future.\n",
      "  _get_xdg_config_dir())\n",
      "/home/obotvinnik/anaconda/lib/python2.7/site-packages/flotilla/__init__.py:65: DtypeWarning: Columns (19) have mixed types. Specify dtype option on import or set low_memory=False.\n",
      "  load_species_data=load_species_data)\n"
     ]
    },
    {
     "name": "stdout",
     "output_type": "stream",
     "text": [
      "2016-05-19 09:53:28\tReading datapackage from /projects/ps-yeolab/obotvinnik/flotilla_projects/singlecell_pnm_figure4_voyages/datapackage.json\n",
      "2016-05-19 09:53:28\tParsing datapackage to create a Study object\n",
      "2016-05-19 09:54:14 \tInitializing Study\n",
      "2016-05-19 09:54:14 \tInitializing Predictor configuration manager for Study\n",
      "2016-05-19 09:54:14\tPredictor ExtraTreesClassifier is of type <class 'sklearn.ensemble.forest.ExtraTreesClassifier'>\n",
      "2016-05-19 09:54:14\tAdded ExtraTreesClassifier to default predictors\n",
      "2016-05-19 09:54:14\tPredictor ExtraTreesRegressor is of type <class 'sklearn.ensemble.forest.ExtraTreesRegressor'>\n",
      "2016-05-19 09:54:14\tAdded ExtraTreesRegressor to default predictors\n",
      "2016-05-19 09:54:14\tPredictor GradientBoostingClassifier is of type <class 'sklearn.ensemble.gradient_boosting.GradientBoostingClassifier'>\n",
      "2016-05-19 09:54:14\tAdded GradientBoostingClassifier to default predictors\n",
      "2016-05-19 09:54:14\tPredictor GradientBoostingRegressor is of type <class 'sklearn.ensemble.gradient_boosting.GradientBoostingRegressor'>\n",
      "2016-05-19 09:54:14\tAdded GradientBoostingRegressor to default predictors\n",
      "2016-05-19 09:54:18 \tBuilding Gene Ontology database...\n",
      "2016-05-19 09:54:28 \t\tDone\n",
      "2016-05-19 09:54:29 \tLoading metadata\n",
      "2016-05-19 09:54:29\tLoading expression data\n",
      "2016-05-19 09:54:29\tInitializing expression\n",
      "2016-05-19 09:54:29\tDone initializing expression\n",
      "2016-05-19 09:54:31\tLoading splicing data\n",
      "2016-05-19 09:54:31\tInitializing splicing\n",
      "2016-05-19 09:54:32\tDone initializing splicing\n",
      "2016-05-19 09:54:32\tSuccessfully initialized a Study object!\n"
     ]
    }
   ],
   "source": [
    "import matplotlib.pyplot as plt\n",
    "import seaborn as sns\n",
    "import numpy as np\n",
    "import pandas as pd\n",
    "import six\n",
    "\n",
    "from anchor.visualize import MODALITY_TO_COLOR, MODALITY_ORDER, MODALITY_PALETTE\n",
    "modality_order = MODALITY_ORDER\n",
    "\n",
    "sns.set(style='ticks', context='paper', rc={'font.sans-serif':'Arial', 'pdf.fonttype': 42})\n",
    "\n",
    "%matplotlib inline\n",
    "\n",
    "%load_ext autoreload\n",
    "%autoreload 2\n",
    "\n",
    "folder = 'figures' #'/home/obotvinnik/Dropbox/figures2/singlecell_pnm/figure4_voyages'\n",
    "\n",
    "import flotilla\n",
    "\n",
    "flotilla_dir = '/projects/ps-yeolab/obotvinnik/flotilla_projects'\n",
    "study = flotilla.embark('singlecell_pnm_figure4_voyages', flotilla_dir=flotilla_dir)"
   ]
  },
  {
   "cell_type": "code",
   "execution_count": 2,
   "metadata": {
    "collapsed": false
   },
   "outputs": [
    {
     "name": "stdout",
     "output_type": "stream",
     "text": [
      "mkdir: cannot create directory `figures/waypointplots': File exists\r\n"
     ]
    }
   ],
   "source": [
    "figure_folder = '{}/waypointplots'.format(folder)\n",
    "! mkdir $figure_folder"
   ]
  },
  {
   "cell_type": "code",
   "execution_count": 3,
   "metadata": {
    "collapsed": true
   },
   "outputs": [],
   "source": [
    "waypoints = study.supplemental.waypoints.rename(columns={'Unnamed: 1': 'event_id'})"
   ]
  },
  {
   "cell_type": "code",
   "execution_count": 4,
   "metadata": {
    "collapsed": false
   },
   "outputs": [
    {
     "data": {
      "text/html": [
       "<div>\n",
       "<table border=\"1\" class=\"dataframe\">\n",
       "  <thead>\n",
       "    <tr style=\"text-align: right;\">\n",
       "      <th></th>\n",
       "      <th></th>\n",
       "      <th>0</th>\n",
       "      <th>1</th>\n",
       "    </tr>\n",
       "    <tr>\n",
       "      <th>phenotype</th>\n",
       "      <th>event_id</th>\n",
       "      <th></th>\n",
       "      <th></th>\n",
       "    </tr>\n",
       "  </thead>\n",
       "  <tbody>\n",
       "    <tr>\n",
       "      <th rowspan=\"5\" valign=\"top\">MN</th>\n",
       "      <th>exon:chr10:101165513-101165617:-@exon:chr10:101163481-101163631:-@exon:chr10:101163226-101163391:-</th>\n",
       "      <td>0.000000</td>\n",
       "      <td>1.000000</td>\n",
       "    </tr>\n",
       "    <tr>\n",
       "      <th>exon:chr10:101480744-101480825:-@exon:chr10:101478103-101478257:-@exon:chr10:101476105-101476218:-</th>\n",
       "      <td>0.058824</td>\n",
       "      <td>0.941176</td>\n",
       "    </tr>\n",
       "    <tr>\n",
       "      <th>exon:chr10:102114184-102114389:+@exon:chr10:102116289-102116521:+@exon:chr10:102120491-102124591:+</th>\n",
       "      <td>0.000000</td>\n",
       "      <td>1.000000</td>\n",
       "    </tr>\n",
       "    <tr>\n",
       "      <th>exon:chr10:102286732-102286831:-@exon:chr10:102286156-102286311:-@exon:chr10:102283500-102283686:-</th>\n",
       "      <td>0.000000</td>\n",
       "      <td>1.000000</td>\n",
       "    </tr>\n",
       "    <tr>\n",
       "      <th>exon:chr10:102747070-102747240:-@exon:chr10:102746847-102746953:-@exon:chr10:102746506-102746732:-</th>\n",
       "      <td>0.153846</td>\n",
       "      <td>0.846154</td>\n",
       "    </tr>\n",
       "  </tbody>\n",
       "</table>\n",
       "</div>"
      ],
      "text/plain": [
       "                                                                     0  \\\n",
       "phenotype event_id                                                       \n",
       "MN        exon:chr10:101165513-101165617:-@exon:chr10:101...  0.000000   \n",
       "          exon:chr10:101480744-101480825:-@exon:chr10:101...  0.058824   \n",
       "          exon:chr10:102114184-102114389:+@exon:chr10:102...  0.000000   \n",
       "          exon:chr10:102286732-102286831:-@exon:chr10:102...  0.000000   \n",
       "          exon:chr10:102747070-102747240:-@exon:chr10:102...  0.153846   \n",
       "\n",
       "                                                                     1  \n",
       "phenotype event_id                                                      \n",
       "MN        exon:chr10:101165513-101165617:-@exon:chr10:101...  1.000000  \n",
       "          exon:chr10:101480744-101480825:-@exon:chr10:101...  0.941176  \n",
       "          exon:chr10:102114184-102114389:+@exon:chr10:102...  1.000000  \n",
       "          exon:chr10:102286732-102286831:-@exon:chr10:102...  1.000000  \n",
       "          exon:chr10:102747070-102747240:-@exon:chr10:102...  0.846154  "
      ]
     },
     "execution_count": 4,
     "metadata": {},
     "output_type": "execute_result"
    }
   ],
   "source": [
    "waypoints = waypoints.set_index('event_id', append=True)\n",
    "waypoints.head()"
   ]
  },
  {
   "cell_type": "code",
   "execution_count": 5,
   "metadata": {
    "collapsed": true
   },
   "outputs": [],
   "source": [
    "import astrolabe"
   ]
  },
  {
   "cell_type": "code",
   "execution_count": null,
   "metadata": {
    "collapsed": true
   },
   "outputs": [],
   "source": []
  },
  {
   "cell_type": "code",
   "execution_count": 6,
   "metadata": {
    "collapsed": false
   },
   "outputs": [
    {
     "data": {
      "text/plain": [
       "phenotype  modality     \n",
       "MN         bimodal          1316\n",
       "           excluded         1175\n",
       "           included         2995\n",
       "           uncategorized       2\n",
       "NPC        bimodal          2325\n",
       "           excluded         1732\n",
       "           included         4597\n",
       "           uncategorized       4\n",
       "iPSC       bimodal          3438\n",
       "           excluded         2293\n",
       "           included         6105\n",
       "           middle              1\n",
       "           uncategorized      34\n",
       "dtype: int64"
      ]
     },
     "execution_count": 6,
     "metadata": {},
     "output_type": "execute_result"
    }
   ],
   "source": [
    "study.supplemental.modalities_tidy.groupby(['phenotype', 'modality']).size()"
   ]
  },
  {
   "cell_type": "code",
   "execution_count": 7,
   "metadata": {
    "collapsed": true
   },
   "outputs": [],
   "source": [
    "study.supplemental.modalities_tidy = study.supplemental.modalities_tidy.replace(\n",
    "    {'modality': {'ambivalent': 'uncategorized', 'concurrent': 'middle'}})"
   ]
  },
  {
   "cell_type": "code",
   "execution_count": 8,
   "metadata": {
    "collapsed": false
   },
   "outputs": [
    {
     "data": {
      "text/plain": [
       "phenotype  modality     \n",
       "MN         bimodal          1316\n",
       "           excluded         1175\n",
       "           included         2995\n",
       "           uncategorized       2\n",
       "NPC        bimodal          2325\n",
       "           excluded         1732\n",
       "           included         4597\n",
       "           uncategorized       4\n",
       "iPSC       bimodal          3438\n",
       "           excluded         2293\n",
       "           included         6105\n",
       "           middle              1\n",
       "           uncategorized      34\n",
       "dtype: int64"
      ]
     },
     "execution_count": 8,
     "metadata": {},
     "output_type": "execute_result"
    }
   ],
   "source": [
    "study.supplemental.modalities_tidy.groupby(['phenotype', 'modality']).size()"
   ]
  },
  {
   "cell_type": "code",
   "execution_count": 9,
   "metadata": {
    "collapsed": true
   },
   "outputs": [],
   "source": [
    "modalities_grouped = study.supplemental.modalities_tidy.groupby('phenotype')"
   ]
  },
  {
   "cell_type": "code",
   "execution_count": 10,
   "metadata": {
    "collapsed": true
   },
   "outputs": [],
   "source": [
    "import matplotlib as mpl"
   ]
  },
  {
   "cell_type": "code",
   "execution_count": 11,
   "metadata": {
    "collapsed": false
   },
   "outputs": [],
   "source": [
    "sns.set(style='ticks', context='paper', rc={'font.sans-serif':'Arial', 'pdf.fonttype': 42})\n"
   ]
  },
  {
   "cell_type": "code",
   "execution_count": 12,
   "metadata": {
    "collapsed": true
   },
   "outputs": [],
   "source": [
    "from anchor.visualize import MODALITY_TO_COLOR, MODALITY_ORDER, MODALITY_PALETTE\n",
    "modality_order = MODALITY_ORDER\n"
   ]
  },
  {
   "cell_type": "code",
   "execution_count": 17,
   "metadata": {
    "collapsed": true
   },
   "outputs": [],
   "source": [
    "pkm_event = u'exon:chr15:72499069-72499221:-@exon:chr15:72495363-72495529:-@exon:chr15:72494795-72494961:-@exon:chr15:72492815-72492996:-'"
   ]
  },
  {
   "cell_type": "code",
   "execution_count": 21,
   "metadata": {
    "collapsed": true
   },
   "outputs": [],
   "source": [
    "plt.hexbin?"
   ]
  },
  {
   "cell_type": "code",
   "execution_count": 24,
   "metadata": {
    "collapsed": false
   },
   "outputs": [
    {
     "data": {
      "image/png": "[encoded data removed]",
      "text/plain": [
       "<matplotlib.figure.Figure at 0x2ae7378efa90>"
      ]
     },
     "metadata": {},
     "output_type": "display_data"
    },
    {
     "data": {
      "image/png": "[encoded data removed]",
      "text/plain": [
       "<matplotlib.figure.Figure at 0x2ae7371cc3d0>"
      ]
     },
     "metadata": {},
     "output_type": "display_data"
    },
    {
     "data": {
      "image/png": "[encoded data removed]",
      "text/plain": [
       "<matplotlib.figure.Figure at 0x2ae725373190>"
      ]
     },
     "metadata": {},
     "output_type": "display_data"
    },
    {
     "data": {
      "image/png": "[encoded data removed]",
      "text/plain": [
       "<matplotlib.figure.Figure at 0x2ae732183090>"
      ]
     },
     "metadata": {},
     "output_type": "display_data"
    },
    {
     "data": {
      "image/png": "[encoded data removed]",
      "text/plain": [
       "<matplotlib.figure.Figure at 0x2ae737d89650>"
      ]
     },
     "metadata": {},
     "output_type": "display_data"
    },
    {
     "data": {
      "image/png": "[encoded data removed]",
      "text/plain": [
       "<matplotlib.figure.Figure at 0x2ae737a780d0>"
      ]
     },
     "metadata": {},
     "output_type": "display_data"
    },
    {
     "data": {
      "image/png": "[encoded data removed]",
      "text/plain": [
       "<matplotlib.figure.Figure at 0x2ae74e2ffb90>"
      ]
     },
     "metadata": {},
     "output_type": "display_data"
    },
    {
     "data": {
      "image/png": "[encoded data removed]",
      "text/plain": [
       "<matplotlib.figure.Figure at 0x2ae732170f90>"
      ]
     },
     "metadata": {},
     "output_type": "display_data"
    },
    {
     "data": {
      "image/png": "[encoded data removed]",
      "text/plain": [
       "<matplotlib.figure.Figure at 0x2ae724bb5b10>"
      ]
     },
     "metadata": {},
     "output_type": "display_data"
    },
    {
     "data": {
      "image/png": "[encoded data removed]",
      "text/plain": [
       "<matplotlib.figure.Figure at 0x2ae7253613d0>"
      ]
     },
     "metadata": {},
     "output_type": "display_data"
    },
    {
     "data": {
      "image/png": "[encoded data removed]",
      "text/plain": [
       "<matplotlib.figure.Figure at 0x2ae73d857cd0>"
      ]
     },
     "metadata": {},
     "output_type": "display_data"
    },
    {
     "data": {
      "image/png": "[encoded data removed]",
      "text/plain": [
       "<matplotlib.figure.Figure at 0x2ae725361590>"
      ]
     },
     "metadata": {},
     "output_type": "display_data"
    }
   ],
   "source": [
    "kinds = 'scatter', 'hexbin'\n",
    "\n",
    "colorbar_ticklabels = [r'$10^{' + str(i) + '}$' for i in range(4)]\n",
    "\n",
    "for phenotype, df in waypoints.groupby(level=0, axis=0):\n",
    "    df.index = df.index.droplevel(0)\n",
    "    marker = study.phenotype_to_marker[phenotype]\n",
    "    \n",
    "#     six.print_(df.head())\n",
    "    \n",
    "    for kind in kinds:\n",
    "        fig, ax = plt.subplots(figsize=(1.5, 1.5))\n",
    "        kwargs = dict(rasterized=True, alpha=0.2, marker=marker) if kind == 'scatter' else dict(gridsize=10, bins=None)\n",
    "        astrolabe.waypointplot(df, ax=ax, kind=kind, **kwargs)\n",
    "\n",
    "        # Double-plot PKM\n",
    "        x, y = df.loc[pkm_event]\n",
    "        color = study.phenotype_to_color[phenotype]\n",
    "        ax.plot(x, y, marker, markerfacecolor=None, markeredgecolor='k', markeredgewidth=1, color=color)\n",
    "        ax.set(title='')\n",
    "        \n",
    "        ax.set(title='')\n",
    "        fig.tight_layout()\n",
    "#         sns.despine(offset=2)\n",
    "        fig.savefig('{}/{}_{}.pdf'.format(figure_folder, phenotype, kind), dpi=300)\n",
    "        \n",
    "        if kind == 'hexbin':\n",
    "            fig_colorbar, ax_colorbar = plt.subplots(figsize=(1, 1.5))\n",
    "            plt.colorbar(ax.collections[0], cax=ax_colorbar, \n",
    "                         orientation='vertical',  label='Count', \n",
    "                         ticks=[0, 1, 2, 3])#mpl.ticker.MaxNLocator(4))\n",
    "            ax_colorbar.yaxis.set_ticklabels(colorbar_ticklabels)\n",
    "            fig_colorbar.tight_layout()\n",
    "            fig_colorbar.savefig('{}/{}_{}_colorbar.pdf'.format(figure_folder, phenotype, kind), dpi=300)\n",
    "        \n",
    "        \n",
    "    fig, ax = plt.subplots(figsize=(1.5, 1.5))\n",
    "    modality_df = modalities_grouped.get_group(phenotype)\n",
    "    groupby = modality_df.set_index('event_id')['modality']\n",
    "    astrolabe.waypointplot(df, ax=ax, kind='scatter', rasterized=True, features_groupby=groupby, marker=marker)\n",
    "    ax.set(title='')\n",
    "#     sns.despine(offset=3)\n",
    "    fig.tight_layout()\n",
    "    fig.savefig('{}/{}_scatter_modality.pdf'.format(figure_folder, phenotype), dpi=300)\n"
   ]
  },
  {
   "cell_type": "markdown",
   "metadata": {},
   "source": [
    "### Same thing, but double-plot PKM"
   ]
  },
  {
   "cell_type": "code",
   "execution_count": 14,
   "metadata": {
    "collapsed": true
   },
   "outputs": [],
   "source": [
    "pkm_event = u'exon:chr15:72499069-72499221:-@exon:chr15:72495363-72495529:-@exon:chr15:72494795-72494961:-@exon:chr15:72492815-72492996:-'"
   ]
  },
  {
   "cell_type": "code",
   "execution_count": 15,
   "metadata": {
    "collapsed": false
   },
   "outputs": [
    {
     "data": {
      "image/png": "[encoded data removed]",
      "text/plain": [
       "<matplotlib.figure.Figure at 0x2ae732183e50>"
      ]
     },
     "metadata": {},
     "output_type": "display_data"
    },
    {
     "data": {
      "image/png": "[encoded data removed]",
      "text/plain": [
       "<matplotlib.figure.Figure at 0x2ae737659310>"
      ]
     },
     "metadata": {},
     "output_type": "display_data"
    },
    {
     "data": {
      "image/png": "[encoded data removed]",
      "text/plain": [
       "<matplotlib.figure.Figure at 0x2ae74e2f96d0>"
      ]
     },
     "metadata": {},
     "output_type": "display_data"
    }
   ],
   "source": [
    "kind = 'scatter'\n",
    "\n",
    "colorbar_ticklabels = [r'$10^{' + str(i) + '}$' for i in range(4)]\n",
    "\n",
    "for phenotype, df in waypoints.groupby(level=0, axis=0):\n",
    "    df.index = df.index.droplevel(0)\n",
    "#     six.print_(df.head())\n",
    "    \n",
    "    fig, ax = plt.subplots(figsize=(1.5, 1.5))\n",
    "    modality_df = modalities_grouped.get_group(phenotype)\n",
    "    groupby = modality_df.set_index('event_id')['modality']\n",
    "    marker = study.phenotype_to_marker[phenotype]\n",
    "    astrolabe.waypointplot(df, ax=ax, kind='scatter', rasterized=True, features_groupby=groupby, marker=marker)\n",
    "    \n",
    "    # Double-plot PKM\n",
    "    x, y = df.loc[pkm_event]\n",
    "    color = MODALITY_TO_COLOR[groupby[pkm_event]]\n",
    "    ax.plot(x, y, marker, markerfacecolor=None, markeredgecolor='k', markeredgewidth=1, color=color)\n",
    "    ax.set(title='')\n",
    "    \n",
    "    fig.tight_layout()\n",
    "    fig.savefig('{}/{}_scatter_modality_pkm_annotated.pdf'.format(figure_folder, phenotype), dpi=300)\n"
   ]
  },
  {
   "cell_type": "code",
   "execution_count": 16,
   "metadata": {
    "collapsed": false
   },
   "outputs": [
    {
     "data": {
      "text/plain": [
       "event_id\n",
       "exon:chr10:100190328-100190427:-@exon:chr10:100189548-100189646:-@exon:chr10:100189330-100189399:-                                      bimodal\n",
       "exon:chr10:100195392-100195529:-@exon:chr10:100195029-100195171:-@exon:chr10:100193697-100193848:-                                      bimodal\n",
       "exon:chr10:101165513-101165617:-@exon:chr10:101163481-101163631:-@exon:chr10:101163226-101163391:-                                     included\n",
       "exon:chr10:101480744-101480825:-@exon:chr10:101478103-101478257:-@exon:chr10:101476105-101476218:-                                     included\n",
       "exon:chr10:101507014-101507147:+@exon:chr10:101510126-101510153:+@exon:chr10:101514286-101514391:+                                      bimodal\n",
       "exon:chr10:101507014-101507147:+@exon:chr10:101514286-101514391:+@exon:chr10:101515382-101515465:+                                      bimodal\n",
       "exon:chr10:101997779-101997988:-@exon:chr10:101996607-101996726:-@exon:chr10:101995424-101995521:-                                     included\n",
       "exon:chr10:102003455-102003534:-@exon:chr10:101997779-101997988:-@exon:chr10:101996607-101996726:-                                     included\n",
       "exon:chr10:102013178-102013296:-@exon:chr10:102010005-102010089:-@exon:chr10:102006552-102006692:-                                      bimodal\n",
       "exon:chr10:102019975-102020076:-@exon:chr10:102016019-102016233:-@exon:chr10:102013178-102013296:-                                      bimodal\n",
       "exon:chr10:102020723-102020801:-@exon:chr10:102019975-102020076:-@exon:chr10:102016019-102016233:-                                      bimodal\n",
       "exon:chr10:102020723-102020801:-@exon:chr10:102019975-102020076:-@exon:chr10:102016019-102016233:-@exon:chr10:102013178-102013296:-     bimodal\n",
       "exon:chr10:102114184-102114389:+@exon:chr10:102116289-102116521:+@exon:chr10:102120491-102124591:+                                     included\n",
       "exon:chr10:102286732-102286831:-@exon:chr10:102286156-102286311:-@exon:chr10:102283500-102283686:-                                     included\n",
       "exon:chr10:102747070-102747240:-@exon:chr10:102746847-102746953:-@exon:chr10:102746506-102746732:-                                     included\n",
       "exon:chr10:103113820-103113985:+@exon:chr10:103190102-103190209:+@exon:chr10:103213258-103213313:+@exon:chr10:103221738-103221815:+     bimodal\n",
       "exon:chr10:103113864-103113985:+@exon:chr10:103190102-103190209:+@exon:chr10:103221738-103221815:+                                      bimodal\n",
       "exon:chr10:103190102-103190209:+@exon:chr10:103213258-103213313:+@exon:chr10:103221738-103221815:+                                     excluded\n",
       "exon:chr10:103190102-103190209:+@exon:chr10:103221738-103221815:+@exon:chr10:103239125-103239214:+                                      bimodal\n",
       "exon:chr10:103348082-103348157:+@exon:chr10:103354415-103354495:+@exon:chr10:103360495-103360619:+                                     included\n",
       "exon:chr10:103360960-103361093:+@exon:chr10:103364897-103364969:+@exon:chr10:103368592-103368694:+                                     excluded\n",
       "exon:chr10:103360960-103361093:+@exon:chr10:103364897-103364969:+@exon:chr10:103368592-103368694:+@exon:chr10:103369124-103369425:+    excluded\n",
       "exon:chr10:103360960-103361093:+@exon:chr10:103368592-103368694:+@exon:chr10:103369124-103369196:+                                     included\n",
       "exon:chr10:1034338-1034467:+@exon:chr10:1038429-1038599:+@exon:chr10:1041869-1041972:+                                                 included\n",
       "exon:chr10:103557737-103557911:-@exon:chr10:103553670-103553755:-@exon:chr10:103552596-103552700:-                                      bimodal\n",
       "exon:chr10:103563492-103563776:-@exon:chr10:103559999-103560157:-@exon:chr10:103558599-103559212:-                                     included\n",
       "exon:chr10:103567487-103567658:-@exon:chr10:103565802-103565900:-@exon:chr10:103563504-103563776:-                                      bimodal\n",
       "exon:chr10:1038429-1038599:+@exon:chr10:1041869-1041972:+@exon:chr10:1042046-1042182:+                                                 included\n",
       "exon:chr10:103901249-103901761:+@exon:chr10:103902802-103902855:+@exon:chr10:103904007-103904064:+                                      bimodal\n",
       "exon:chr10:103904007-103904064:+@exon:chr10:103904777-103904847:+@exon:chr10:103906429-103907149:+                                     included\n",
       "                                                                                                                                         ...   \n",
       "exon:chrX:80375287-80375316:-@exon:chrX:80374229-80374258:-@exon:chrX:80373931-80373984:-                                              included\n",
       "exon:chrX:80377034-80377182:-@exon:chrX:80375287-80375316:-@exon:chrX:80374229-80374258:-                                              included\n",
       "exon:chrX:80377034-80377187:-@exon:chrX:80375287-80375316:-@exon:chrX:80374229-80374258:-@exon:chrX:80373931-80373984:-                excluded\n",
       "exon:chrX:80457627-80457744:+@exon:chrX:80457936-80458075:+@exon:chrX:80532483-80532668:+                                              excluded\n",
       "exon:chrX:85282495-85282561:-@exon:chrX:85236741-85236813:-@exon:chrX:85233771-85233895:-                                              included\n",
       "exon:chrX:85302488-85302543:-@exon:chrX:85282495-85282561:-@exon:chrX:85236741-85236813:-                                              included\n",
       "exon:chrX:86887210-86887434:+@exon:chrX:86888749-86888911:+@exon:chrX:86890563-86890775:+                                               bimodal\n",
       "exon:chrX:86890563-86890775:+@exon:chrX:86919764-86919935:+@exon:chrX:86921475-86925050:+                                              included\n",
       "exon:chrX:96603117-96603279:+@exon:chrX:96638908-96639043:+@exon:chrX:96684649-96684744:+                                              included\n",
       "exon:chrX:99887482-99887565:-@exon:chrX:99885756-99885863:-@exon:chrX:99883667-99884983:-                                              included\n",
       "exon:chrX:99888928-99889026:-@exon:chrX:99888402-99888536:-@exon:chrX:99887482-99887565:-                                              included\n",
       "exon:chrY:14774265-14774637:+@exon:chrY:14776571-14776617:+@exon:chrY:14798442-14798535:+                                              included\n",
       "exon:chrY:14813160-14813984:+@exon:chrY:14820567-14820626:+@exon:chrY:14821321-14821476:+                                               bimodal\n",
       "exon:chrY:14813160-14813984:+@exon:chrY:14821321-14821476:+@exon:chrY:14832522-14832670:+                                               bimodal\n",
       "exon:chrY:14870436-14870572:+@exon:chrY:14872414-14872547:+@exon:chrY:14883002-14883089:+                                              included\n",
       "exon:chrY:15019448-15019505:+@exon:chrY:15021271-15021318:+@exon:chrY:15023751-15023880:+                                              included\n",
       "exon:chrY:15024875-15024974:+@exon:chrY:15025630-15025765:+@exon:chrY:15026476-15026561:+                                              included\n",
       "exon:chrY:15026476-15026561:+@exon:chrY:15026796-15026894:+@exon:chrY:15026979-15027139:+                                              included\n",
       "exon:chrY:15027542-15027686:+@exon:chrY:15027795-15027939:+@exon:chrY:15028173-15028354:+                                              included\n",
       "exon:chrY:15028429-15028546:+@exon:chrY:15028819-15028972:+@exon:chrY:15029315-15029454:+                                              included\n",
       "exon:chrY:15560897-15560946:-@exon:chrY:15526615-15526673:-@exon:chrY:15522873-15522993:-                                              included\n",
       "exon:chrY:15591134-15591384:-@exon:chrY:15582001-15582109:-@exon:chrY:15560897-15560946:-                                               bimodal\n",
       "exon:chrY:21903204-21903374:-@exon:chrY:21901414-21901548:-@exon:chrY:21897507-21897636:-                                               bimodal\n",
       "exon:chrY:21903621-21903743:-@exon:chrY:21903204-21903374:-@exon:chrY:21901414-21901548:-                                               bimodal\n",
       "exon:chrY:22744476-22744579:+@exon:chrY:22746360-22746410:+@exon:chrY:22749910-22749991:+                                              included\n",
       "exon:chrY:2709527-2709668:+@exon:chrY:2710206-2710283:+@exon:chrY:2712118-2712298:+                                                    included\n",
       "exon:chrY:2710206-2710283:+@exon:chrY:2712118-2712298:+@exon:chrY:2713687-2713784:+                                                    included\n",
       "exon:chrY:2712118-2712298:+@exon:chrY:2713687-2713784:+@exon:chrY:2722641-2722812:+                                                    included\n",
       "exon:chrY:2713687-2713784:+@exon:chrY:2722641-2722812:+@exon:chrY:2733129-2733286:+                                                    included\n",
       "exon:chrY:2722641-2722812:+@exon:chrY:2733129-2733286:+@exon:chrY:2734834-2734903:+                                                    included\n",
       "Name: modality, dtype: object"
      ]
     },
     "execution_count": 16,
     "metadata": {},
     "output_type": "execute_result"
    }
   ],
   "source": [
    "groupby"
   ]
  },
  {
   "cell_type": "code",
   "execution_count": null,
   "metadata": {
    "collapsed": true
   },
   "outputs": [],
   "source": []
  },
  {
   "cell_type": "code",
   "execution_count": null,
   "metadata": {
    "collapsed": true
   },
   "outputs": [],
   "source": []
  }
 ],
 "metadata": {
  "kernelspec": {
   "display_name": "Python 2",
   "language": "python",
   "name": "python2"
  },
  "language_info": {
   "codemirror_mode": {
    "name": "ipython",
    "version": 2
   },
   "file_extension": ".py",
   "mimetype": "text/x-python",
   "name": "python",
   "nbconvert_exporter": "python",
   "pygments_lexer": "ipython2",
   "version": "2.7.10"
  }
 },
 "nbformat": 4,
 "nbformat_minor": 0
}
