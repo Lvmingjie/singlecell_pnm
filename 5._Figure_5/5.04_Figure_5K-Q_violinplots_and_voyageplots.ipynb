{
 "cells": [
  {
   "cell_type": "code",
   "execution_count": 1,
   "metadata": {
    "collapsed": false
   },
   "outputs": [
    {
     "name": "stderr",
     "output_type": "stream",
     "text": [
      "/home/obotvinnik/anaconda/lib/python2.7/site-packages/matplotlib/__init__.py:810: UserWarning: Found matplotlib configuration in ~/.matplotlib/. To conform with the XDG base directory standard, this configuration location has been deprecated on Linux, and the new location is now /home/obotvinnik/.config/matplotlib/. Please move your configuration there to ensure that matplotlib will continue to find it in the future.\n",
      "  _get_xdg_config_dir())\n",
      "/home/obotvinnik/anaconda/lib/python2.7/site-packages/flotilla/__init__.py:55: DtypeWarning: Columns (11,19,20) have mixed types. Specify dtype option on import or set low_memory=False.\n",
      "  load_species_data=load_species_data)\n"
     ]
    },
    {
     "name": "stdout",
     "output_type": "stream",
     "text": [
      "2016-03-24 14:47:51\tReading datapackage from /projects/ps-yeolab/obotvinnik/flotilla_projects/singlecell_pnm_figure4_voyages/datapackage.json\n",
      "2016-03-24 14:47:51\tParsing datapackage to create a Study object\n",
      "2016-03-24 14:48:36\tInitializing Study\n",
      "2016-03-24 14:48:36\tInitializing Predictor configuration manager for Study\n",
      "2016-03-24 14:48:36\tPredictor ExtraTreesClassifier is of type <class 'sklearn.ensemble.forest.ExtraTreesClassifier'>\n",
      "2016-03-24 14:48:36\tAdded ExtraTreesClassifier to default predictors\n",
      "2016-03-24 14:48:36\tPredictor ExtraTreesRegressor is of type <class 'sklearn.ensemble.forest.ExtraTreesRegressor'>\n",
      "2016-03-24 14:48:36\tAdded ExtraTreesRegressor to default predictors\n",
      "2016-03-24 14:48:36\tPredictor GradientBoostingClassifier is of type <class 'sklearn.ensemble.gradient_boosting.GradientBoostingClassifier'>\n",
      "2016-03-24 14:48:36\tAdded GradientBoostingClassifier to default predictors\n",
      "2016-03-24 14:48:36\tPredictor GradientBoostingRegressor is of type <class 'sklearn.ensemble.gradient_boosting.GradientBoostingRegressor'>\n",
      "2016-03-24 14:48:36\tAdded GradientBoostingRegressor to default predictors\n",
      "2016-03-24 14:48:41\tBuilding Gene Ontology database...\n",
      "2016-03-24 14:48:50\t\tDone.\n",
      "2016-03-24 14:48:51\tLoading metadata\n",
      "2016-03-24 14:48:51\tLoading expression data\n",
      "2016-03-24 14:48:51\tInitializing expression\n",
      "2016-03-24 14:48:51\tDone initializing expression\n",
      "2016-03-24 14:48:53\tLoading splicing data\n",
      "2016-03-24 14:48:53\tInitializing splicing\n",
      "2016-03-24 14:48:54\tDone initializing splicing\n",
      "2016-03-24 14:48:54\tSuccessfully initialized a Study object!\n"
     ]
    }
   ],
   "source": [
    "import matplotlib.pyplot as plt\n",
    "import seaborn as sns\n",
    "import numpy as np\n",
    "import pandas as pd\n",
    "\n",
    "from anchor.visualize import MODALITY_TO_COLOR, MODALITY_ORDER, MODALITY_PALETTE\n",
    "modality_order = MODALITY_ORDER\n",
    "\n",
    "sns.set(style='ticks', context='paper', rc={'font.sans-serif':'Arial', 'pdf.fonttype': 42})\n",
    "\n",
    "%matplotlib inline\n",
    "\n",
    "%load_ext autoreload\n",
    "%autoreload 2\n",
    "\n",
    "folder = 'pdfs'#'/home/obotvinnik/Dropbox/figures2/singlecell_pnm/figure4_voyages'\n",
    "\n",
    "import flotilla\n",
    "\n",
    "flotilla_dir = '/projects/ps-yeolab/obotvinnik/flotilla_projects'\n",
    "study = flotilla.embark('singlecell_pnm_figure4_voyages', flotilla_dir=flotilla_dir)"
   ]
  },
  {
   "cell_type": "code",
   "execution_count": null,
   "metadata": {
    "collapsed": true
   },
   "outputs": [],
   "source": [
    "figure_folder = '{}/from_messy_to_extremes'.format(folder)\n",
    "! mkdir $figure_folder"
   ]
  },
  {
   "cell_type": "markdown",
   "metadata": {},
   "source": [
    "## Violinplots"
   ]
  },
  {
   "cell_type": "code",
   "execution_count": null,
   "metadata": {
    "collapsed": true
   },
   "outputs": [],
   "source": [
    "\n",
    "violinplot_folder = '{}/violinplots'.format(figure_folder)\n",
    "! mkdir $violinplot_folder\n",
    "\n",
    "for event in ipsc_lower_triangle_in_mn_waypoints.index:\n",
    "    gene_name = study.splicing.feature_data['gene_name'][event]\n",
    "    study.plot_event(event, sample_subset='~outlier')\n",
    "    fig = plt.gcf()\n",
    "    fig.savefig('{}/{}_{}.pdf'.format(violinplot_folder, gene_name, event))"
   ]
  },
  {
   "cell_type": "markdown",
   "metadata": {},
   "source": [
    "## Voyageplots"
   ]
  },
  {
   "cell_type": "code",
   "execution_count": null,
   "metadata": {
    "collapsed": true
   },
   "outputs": [],
   "source": [
    "voyageplot_folder = '{}/voyageplots'.format(figure_folder)\n",
    "! mkdir $voyageplot_folder\n",
    "\n",
    "for event in ipsc_lower_triangle_in_mn_waypoints.index:\n",
    "    gene_name = study.splicing.feature_data['gene_name'][event]\n",
    "    fig, ax = plt.subplots(figsize=(3, 3))\n",
    "    voyageplot(waypoints_index, event, study.phenotype_to_color, study.phenotype_to_marker, \n",
    "               study.phenotype_order, ax=ax, xlabel='~0', ylabel='~1')\n",
    "#     fig = plt.gcf() \n",
    "    sns.despine()\n",
    "    title = '{}\\n{}'.format(gene_name, '\\n'.join(event.split('@')))\n",
    "    ax.set_title(title, fontsize=10)\n",
    "    fig.tight_layout()\n",
    "    fig.savefig('{}/{}_{}.pdf'.format(voyageplot_folder, gene_name, event))"
   ]
  }
 ],
 "metadata": {
  "kernelspec": {
   "display_name": "Python 2",
   "language": "python",
   "name": "python2"
  },
  "language_info": {
   "codemirror_mode": {
    "name": "ipython",
    "version": 2
   },
   "file_extension": ".py",
   "mimetype": "text/x-python",
   "name": "python",
   "nbconvert_exporter": "python",
   "pygments_lexer": "ipython2",
   "version": "2.7.11"
  }
 },
 "nbformat": 4,
 "nbformat_minor": 0
}
