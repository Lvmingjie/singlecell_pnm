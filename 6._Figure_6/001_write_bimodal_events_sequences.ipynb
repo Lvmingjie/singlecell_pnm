{
 "cells": [
  {
   "cell_type": "code",
   "execution_count": 63,
   "metadata": {
    "collapsed": false
   },
   "outputs": [],
   "source": [
    "from __future__ import print_function"
   ]
  },
  {
   "cell_type": "code",
   "execution_count": 4,
   "metadata": {
    "collapsed": false
   },
   "outputs": [
    {
     "name": "stdout",
     "output_type": "stream",
     "text": [
      "The autoreload extension is already loaded. To reload it, use:\n",
      "  %reload_ext autoreload\n",
      "2016-10-20 12:11:15\tReading datapackage from /projects/ps-yeolab/obotvinnik/flotilla_projects/singlecell_pnm_figure4_voyages/datapackage.json\n",
      "2016-10-20 12:11:15\tParsing datapackage to create a Study object\n",
      "https://s3-us-west-2.amazonaws.com/flotilla-projects/ercc/ERCC_Controls.txt has not been downloaded before.\n",
      "\tDownloading now to /home/obotvinnik/flotilla_projects/hg19/ERCC_Controls.txt\n"
     ]
    },
    {
     "name": "stderr",
     "output_type": "stream",
     "text": [
      "/home/obotvinnik/workspace-git/flotilla/flotilla/__init__.py:65: DtypeWarning: Columns (19) have mixed types. Specify dtype option on import or set low_memory=False.\n",
      "  load_species_data=load_species_data)\n",
      "Error loading species hg19 data: HTTP Error 404: Not Found"
     ]
    },
    {
     "name": "stdout",
     "output_type": "stream",
     "text": [
      "2016-10-20 12:11:45 \tInitializing Study\n",
      "2016-10-20 12:11:45 \tInitializing Predictor configuration manager for Study\n",
      "2016-10-20 12:11:45\tPredictor ExtraTreesClassifier is of type <class 'sklearn.ensemble.forest.ExtraTreesClassifier'>\n",
      "2016-10-20 12:11:45\tAdded ExtraTreesClassifier to default predictors\n",
      "2016-10-20 12:11:45\tPredictor ExtraTreesRegressor is of type <class 'sklearn.ensemble.forest.ExtraTreesRegressor'>\n",
      "2016-10-20 12:11:45\tAdded ExtraTreesRegressor to default predictors\n",
      "2016-10-20 12:11:45\tPredictor GradientBoostingClassifier is of type <class 'sklearn.ensemble.gradient_boosting.GradientBoostingClassifier'>\n",
      "2016-10-20 12:11:45\tAdded GradientBoostingClassifier to default predictors\n",
      "2016-10-20 12:11:45\tPredictor GradientBoostingRegressor is of type <class 'sklearn.ensemble.gradient_boosting.GradientBoostingRegressor'>\n",
      "2016-10-20 12:11:45\tAdded GradientBoostingRegressor to default predictors\n",
      "2016-10-20 12:11:49 \tBuilding Gene Ontology database...\n",
      "2016-10-20 12:11:59 \t\tDone\n",
      "2016-10-20 12:12:00 \tLoading metadata\n",
      "2016-10-20 12:12:00\tLoading expression data\n",
      "2016-10-20 12:12:00\tInitializing expression\n",
      "2016-10-20 12:12:00\tDone initializing expression\n",
      "2016-10-20 12:12:02\tLoading splicing data\n",
      "2016-10-20 12:12:02\tInitializing splicing\n",
      "2016-10-20 12:12:03\tDone initializing splicing\n",
      "2016-10-20 12:12:03\tSuccessfully initialized a Study object!\n"
     ]
    }
   ],
   "source": [
    "import matplotlib.pyplot as plt\n",
    "import seaborn as sns\n",
    "import numpy as np\n",
    "import pandas as pd\n",
    "\n",
    "from anchor.visualize import MODALITY_TO_COLOR, MODALITY_ORDER, MODALITY_PALETTE\n",
    "modality_order = MODALITY_ORDER\n",
    "\n",
    "sns.set(style='ticks', context='talk', rc={'font.sans-serif':'Arial', 'pdf.fonttype': 42})\n",
    "\n",
    "%matplotlib inline\n",
    "\n",
    "%load_ext autoreload\n",
    "%autoreload 2\n",
    "\n",
    "folder = 'figures'\n",
    "\n",
    "import flotilla\n",
    "study = flotilla.embark('singlecell_pnm_figure4_voyages', \n",
    "                        flotilla_dir='/projects/ps-yeolab/obotvinnik/flotilla_projects/')\n",
    "# study = flotilla.embark('singlecell_pnm_figure1_supplementary_post_splicing_filtering')"
   ]
  },
  {
   "cell_type": "code",
   "execution_count": 6,
   "metadata": {
    "collapsed": false
   },
   "outputs": [
    {
     "name": "stdout",
     "output_type": "stream",
     "text": [
      "(7079, 3)\n"
     ]
    },
    {
     "data": {
      "text/html": [
       "<div>\n",
       "<table border=\"1\" class=\"dataframe\">\n",
       "  <thead>\n",
       "    <tr style=\"text-align: right;\">\n",
       "      <th></th>\n",
       "      <th>phenotype</th>\n",
       "      <th>event_id</th>\n",
       "      <th>modality</th>\n",
       "    </tr>\n",
       "  </thead>\n",
       "  <tbody>\n",
       "    <tr>\n",
       "      <th>1</th>\n",
       "      <td>MN</td>\n",
       "      <td>exon:chr10:101480744-101480825:-@exon:chr10:10...</td>\n",
       "      <td>bimodal</td>\n",
       "    </tr>\n",
       "    <tr>\n",
       "      <th>4</th>\n",
       "      <td>MN</td>\n",
       "      <td>exon:chr10:102747070-102747240:-@exon:chr10:10...</td>\n",
       "      <td>bimodal</td>\n",
       "    </tr>\n",
       "    <tr>\n",
       "      <th>6</th>\n",
       "      <td>MN</td>\n",
       "      <td>exon:chr10:103113864-103113985:+@exon:chr10:10...</td>\n",
       "      <td>bimodal</td>\n",
       "    </tr>\n",
       "    <tr>\n",
       "      <th>10</th>\n",
       "      <td>MN</td>\n",
       "      <td>exon:chr10:103360960-103361093:+@exon:chr10:10...</td>\n",
       "      <td>bimodal</td>\n",
       "    </tr>\n",
       "    <tr>\n",
       "      <th>12</th>\n",
       "      <td>MN</td>\n",
       "      <td>exon:chr10:103360960-103361093:+@exon:chr10:10...</td>\n",
       "      <td>bimodal</td>\n",
       "    </tr>\n",
       "  </tbody>\n",
       "</table>\n",
       "</div>"
      ],
      "text/plain": [
       "   phenotype                                           event_id modality\n",
       "1         MN  exon:chr10:101480744-101480825:-@exon:chr10:10...  bimodal\n",
       "4         MN  exon:chr10:102747070-102747240:-@exon:chr10:10...  bimodal\n",
       "6         MN  exon:chr10:103113864-103113985:+@exon:chr10:10...  bimodal\n",
       "10        MN  exon:chr10:103360960-103361093:+@exon:chr10:10...  bimodal\n",
       "12        MN  exon:chr10:103360960-103361093:+@exon:chr10:10...  bimodal"
      ]
     },
     "execution_count": 6,
     "metadata": {},
     "output_type": "execute_result"
    }
   ],
   "source": [
    "bimodal = study.supplemental.modalities_tidy.query('modality == \"bimodal\"')\n",
    "print(bimodal.shape)\n",
    "bimodal.head()"
   ]
  },
  {
   "cell_type": "code",
   "execution_count": 7,
   "metadata": {
    "collapsed": false
   },
   "outputs": [
    {
     "data": {
      "text/html": [
       "<div>\n",
       "<table border=\"1\" class=\"dataframe\">\n",
       "  <thead>\n",
       "    <tr style=\"text-align: right;\">\n",
       "      <th></th>\n",
       "      <th>Unnamed: 0</th>\n",
       "      <th>criteria</th>\n",
       "      <th>criteria_additional</th>\n",
       "      <th>criteria_full</th>\n",
       "      <th>ensembl_id</th>\n",
       "      <th>exon1</th>\n",
       "      <th>exon1_length</th>\n",
       "      <th>exon2</th>\n",
       "      <th>exon2_length</th>\n",
       "      <th>exon3</th>\n",
       "      <th>...</th>\n",
       "      <th>junction12</th>\n",
       "      <th>junction13</th>\n",
       "      <th>junction23</th>\n",
       "      <th>junction24</th>\n",
       "      <th>junction34</th>\n",
       "      <th>strand</th>\n",
       "      <th>transcript_id</th>\n",
       "      <th>exon2_divisible_by_3</th>\n",
       "      <th>one_ensembl_id</th>\n",
       "      <th>splice_type</th>\n",
       "    </tr>\n",
       "    <tr>\n",
       "      <th>event_id</th>\n",
       "      <th></th>\n",
       "      <th></th>\n",
       "      <th></th>\n",
       "      <th></th>\n",
       "      <th></th>\n",
       "      <th></th>\n",
       "      <th></th>\n",
       "      <th></th>\n",
       "      <th></th>\n",
       "      <th></th>\n",
       "      <th></th>\n",
       "      <th></th>\n",
       "      <th></th>\n",
       "      <th></th>\n",
       "      <th></th>\n",
       "      <th></th>\n",
       "      <th></th>\n",
       "      <th></th>\n",
       "      <th></th>\n",
       "      <th></th>\n",
       "      <th></th>\n",
       "    </tr>\n",
       "  </thead>\n",
       "  <tbody>\n",
       "    <tr>\n",
       "      <th>exon:chr10:100190328-100190427:-@exon:chr10:100189548-100189646:-@exon:chr10:100189330-100189399:-</th>\n",
       "      <td>NaN</td>\n",
       "      <td>best</td>\n",
       "      <td>appris_principal</td>\n",
       "      <td>best,appris_principal</td>\n",
       "      <td>ENSG00000107521</td>\n",
       "      <td>exon:chr10:100190328-100190427:-</td>\n",
       "      <td>100</td>\n",
       "      <td>exon:chr10:100189548-100189646:-</td>\n",
       "      <td>99</td>\n",
       "      <td>exon:chr10:100189330-100189399:-</td>\n",
       "      <td>...</td>\n",
       "      <td>chr10:100189647-100190327:-</td>\n",
       "      <td>chr10:100189400-100190327:-</td>\n",
       "      <td>chr10:100189400-100189547:-</td>\n",
       "      <td>NaN</td>\n",
       "      <td>NaN</td>\n",
       "      <td>-</td>\n",
       "      <td>ENST00000361490.4,ENST00000414009.1,ENST000003...</td>\n",
       "      <td>True</td>\n",
       "      <td>ENSG00000107521</td>\n",
       "      <td>SE</td>\n",
       "    </tr>\n",
       "    <tr>\n",
       "      <th>exon:chr10:100193697-100193848:-@exon:chr10:100190888-100191048:-@exon:chr10:100190328-100190427:-</th>\n",
       "      <td>NaN</td>\n",
       "      <td>only one</td>\n",
       "      <td>NaN</td>\n",
       "      <td>only one</td>\n",
       "      <td>ENSG00000107521</td>\n",
       "      <td>exon:chr10:100193697-100193848:-</td>\n",
       "      <td>152</td>\n",
       "      <td>exon:chr10:100190888-100191048:-</td>\n",
       "      <td>161</td>\n",
       "      <td>exon:chr10:100190328-100190427:-</td>\n",
       "      <td>...</td>\n",
       "      <td>chr10:100191049-100193696:-</td>\n",
       "      <td>chr10:100190428-100193696:-</td>\n",
       "      <td>chr10:100190428-100190887:-</td>\n",
       "      <td>NaN</td>\n",
       "      <td>NaN</td>\n",
       "      <td>-</td>\n",
       "      <td>ENST00000361490.4,ENST00000414009.1,ENST000003...</td>\n",
       "      <td>False</td>\n",
       "      <td>ENSG00000107521</td>\n",
       "      <td>SE</td>\n",
       "    </tr>\n",
       "    <tr>\n",
       "      <th>exon:chr10:100195392-100195529:-@exon:chr10:100195029-100195171:-@exon:chr10:100193697-100193848:-</th>\n",
       "      <td>NaN</td>\n",
       "      <td>best</td>\n",
       "      <td>appris_principal</td>\n",
       "      <td>best,appris_principal</td>\n",
       "      <td>ENSG00000107521</td>\n",
       "      <td>exon:chr10:100195392-100195529:-</td>\n",
       "      <td>138</td>\n",
       "      <td>exon:chr10:100195029-100195171:-</td>\n",
       "      <td>143</td>\n",
       "      <td>exon:chr10:100193697-100193848:-</td>\n",
       "      <td>...</td>\n",
       "      <td>chr10:100195172-100195391:-</td>\n",
       "      <td>chr10:100193849-100195391:-</td>\n",
       "      <td>chr10:100193849-100195028:-</td>\n",
       "      <td>NaN</td>\n",
       "      <td>NaN</td>\n",
       "      <td>-</td>\n",
       "      <td>ENST00000361490.4,ENST00000325103.6,ENST000004...</td>\n",
       "      <td>False</td>\n",
       "      <td>ENSG00000107521</td>\n",
       "      <td>SE</td>\n",
       "    </tr>\n",
       "    <tr>\n",
       "      <th>exon:chr10:101165513-101165617:-@exon:chr10:101163481-101163631:-@exon:chr10:101163226-101163391:-</th>\n",
       "      <td>NaN</td>\n",
       "      <td>only one</td>\n",
       "      <td>NaN</td>\n",
       "      <td>only one</td>\n",
       "      <td>ENSG00000120053</td>\n",
       "      <td>exon:chr10:101165513-101165617:-</td>\n",
       "      <td>105</td>\n",
       "      <td>exon:chr10:101163481-101163631:-</td>\n",
       "      <td>151</td>\n",
       "      <td>exon:chr10:101163226-101163391:-</td>\n",
       "      <td>...</td>\n",
       "      <td>chr10:101163632-101165512:-</td>\n",
       "      <td>chr10:101163392-101165512:-</td>\n",
       "      <td>chr10:101163392-101163480:-</td>\n",
       "      <td>NaN</td>\n",
       "      <td>NaN</td>\n",
       "      <td>-</td>\n",
       "      <td>ENST00000543866.1,ENST00000370508.5</td>\n",
       "      <td>False</td>\n",
       "      <td>ENSG00000120053</td>\n",
       "      <td>SE</td>\n",
       "    </tr>\n",
       "    <tr>\n",
       "      <th>exon:chr10:101419263-101419345:+@exon:chr10:101419619-101419721:+@exon:chr10:101421203-101421385:+</th>\n",
       "      <td>NaN</td>\n",
       "      <td>only one</td>\n",
       "      <td>NaN</td>\n",
       "      <td>only one</td>\n",
       "      <td>ENSG00000198018</td>\n",
       "      <td>exon:chr10:101419263-101419345:+</td>\n",
       "      <td>83</td>\n",
       "      <td>exon:chr10:101419619-101419721:+</td>\n",
       "      <td>103</td>\n",
       "      <td>exon:chr10:101421203-101421385:+</td>\n",
       "      <td>...</td>\n",
       "      <td>chr10:101419346-101419618:+</td>\n",
       "      <td>chr10:101419346-101421202:+</td>\n",
       "      <td>chr10:101419722-101421202:+</td>\n",
       "      <td>NaN</td>\n",
       "      <td>NaN</td>\n",
       "      <td>+</td>\n",
       "      <td>ENST00000370489.4</td>\n",
       "      <td>False</td>\n",
       "      <td>ENSG00000198018</td>\n",
       "      <td>SE</td>\n",
       "    </tr>\n",
       "  </tbody>\n",
       "</table>\n",
       "<p>5 rows × 26 columns</p>\n",
       "</div>"
      ],
      "text/plain": [
       "                                                    Unnamed: 0  criteria  \\\n",
       "event_id                                                                   \n",
       "exon:chr10:100190328-100190427:-@exon:chr10:100...         NaN      best   \n",
       "exon:chr10:100193697-100193848:-@exon:chr10:100...         NaN  only one   \n",
       "exon:chr10:100195392-100195529:-@exon:chr10:100...         NaN      best   \n",
       "exon:chr10:101165513-101165617:-@exon:chr10:101...         NaN  only one   \n",
       "exon:chr10:101419263-101419345:+@exon:chr10:101...         NaN  only one   \n",
       "\n",
       "                                                   criteria_additional  \\\n",
       "event_id                                                                 \n",
       "exon:chr10:100190328-100190427:-@exon:chr10:100...    appris_principal   \n",
       "exon:chr10:100193697-100193848:-@exon:chr10:100...                 NaN   \n",
       "exon:chr10:100195392-100195529:-@exon:chr10:100...    appris_principal   \n",
       "exon:chr10:101165513-101165617:-@exon:chr10:101...                 NaN   \n",
       "exon:chr10:101419263-101419345:+@exon:chr10:101...                 NaN   \n",
       "\n",
       "                                                            criteria_full  \\\n",
       "event_id                                                                    \n",
       "exon:chr10:100190328-100190427:-@exon:chr10:100...  best,appris_principal   \n",
       "exon:chr10:100193697-100193848:-@exon:chr10:100...               only one   \n",
       "exon:chr10:100195392-100195529:-@exon:chr10:100...  best,appris_principal   \n",
       "exon:chr10:101165513-101165617:-@exon:chr10:101...               only one   \n",
       "exon:chr10:101419263-101419345:+@exon:chr10:101...               only one   \n",
       "\n",
       "                                                         ensembl_id  \\\n",
       "event_id                                                              \n",
       "exon:chr10:100190328-100190427:-@exon:chr10:100...  ENSG00000107521   \n",
       "exon:chr10:100193697-100193848:-@exon:chr10:100...  ENSG00000107521   \n",
       "exon:chr10:100195392-100195529:-@exon:chr10:100...  ENSG00000107521   \n",
       "exon:chr10:101165513-101165617:-@exon:chr10:101...  ENSG00000120053   \n",
       "exon:chr10:101419263-101419345:+@exon:chr10:101...  ENSG00000198018   \n",
       "\n",
       "                                                                               exon1  \\\n",
       "event_id                                                                               \n",
       "exon:chr10:100190328-100190427:-@exon:chr10:100...  exon:chr10:100190328-100190427:-   \n",
       "exon:chr10:100193697-100193848:-@exon:chr10:100...  exon:chr10:100193697-100193848:-   \n",
       "exon:chr10:100195392-100195529:-@exon:chr10:100...  exon:chr10:100195392-100195529:-   \n",
       "exon:chr10:101165513-101165617:-@exon:chr10:101...  exon:chr10:101165513-101165617:-   \n",
       "exon:chr10:101419263-101419345:+@exon:chr10:101...  exon:chr10:101419263-101419345:+   \n",
       "\n",
       "                                                    exon1_length  \\\n",
       "event_id                                                           \n",
       "exon:chr10:100190328-100190427:-@exon:chr10:100...           100   \n",
       "exon:chr10:100193697-100193848:-@exon:chr10:100...           152   \n",
       "exon:chr10:100195392-100195529:-@exon:chr10:100...           138   \n",
       "exon:chr10:101165513-101165617:-@exon:chr10:101...           105   \n",
       "exon:chr10:101419263-101419345:+@exon:chr10:101...            83   \n",
       "\n",
       "                                                                               exon2  \\\n",
       "event_id                                                                               \n",
       "exon:chr10:100190328-100190427:-@exon:chr10:100...  exon:chr10:100189548-100189646:-   \n",
       "exon:chr10:100193697-100193848:-@exon:chr10:100...  exon:chr10:100190888-100191048:-   \n",
       "exon:chr10:100195392-100195529:-@exon:chr10:100...  exon:chr10:100195029-100195171:-   \n",
       "exon:chr10:101165513-101165617:-@exon:chr10:101...  exon:chr10:101163481-101163631:-   \n",
       "exon:chr10:101419263-101419345:+@exon:chr10:101...  exon:chr10:101419619-101419721:+   \n",
       "\n",
       "                                                    exon2_length  \\\n",
       "event_id                                                           \n",
       "exon:chr10:100190328-100190427:-@exon:chr10:100...            99   \n",
       "exon:chr10:100193697-100193848:-@exon:chr10:100...           161   \n",
       "exon:chr10:100195392-100195529:-@exon:chr10:100...           143   \n",
       "exon:chr10:101165513-101165617:-@exon:chr10:101...           151   \n",
       "exon:chr10:101419263-101419345:+@exon:chr10:101...           103   \n",
       "\n",
       "                                                                               exon3  \\\n",
       "event_id                                                                               \n",
       "exon:chr10:100190328-100190427:-@exon:chr10:100...  exon:chr10:100189330-100189399:-   \n",
       "exon:chr10:100193697-100193848:-@exon:chr10:100...  exon:chr10:100190328-100190427:-   \n",
       "exon:chr10:100195392-100195529:-@exon:chr10:100...  exon:chr10:100193697-100193848:-   \n",
       "exon:chr10:101165513-101165617:-@exon:chr10:101...  exon:chr10:101163226-101163391:-   \n",
       "exon:chr10:101419263-101419345:+@exon:chr10:101...  exon:chr10:101421203-101421385:+   \n",
       "\n",
       "                                                       ...      \\\n",
       "event_id                                               ...       \n",
       "exon:chr10:100190328-100190427:-@exon:chr10:100...     ...       \n",
       "exon:chr10:100193697-100193848:-@exon:chr10:100...     ...       \n",
       "exon:chr10:100195392-100195529:-@exon:chr10:100...     ...       \n",
       "exon:chr10:101165513-101165617:-@exon:chr10:101...     ...       \n",
       "exon:chr10:101419263-101419345:+@exon:chr10:101...     ...       \n",
       "\n",
       "                                                                     junction12  \\\n",
       "event_id                                                                          \n",
       "exon:chr10:100190328-100190427:-@exon:chr10:100...  chr10:100189647-100190327:-   \n",
       "exon:chr10:100193697-100193848:-@exon:chr10:100...  chr10:100191049-100193696:-   \n",
       "exon:chr10:100195392-100195529:-@exon:chr10:100...  chr10:100195172-100195391:-   \n",
       "exon:chr10:101165513-101165617:-@exon:chr10:101...  chr10:101163632-101165512:-   \n",
       "exon:chr10:101419263-101419345:+@exon:chr10:101...  chr10:101419346-101419618:+   \n",
       "\n",
       "                                                                     junction13  \\\n",
       "event_id                                                                          \n",
       "exon:chr10:100190328-100190427:-@exon:chr10:100...  chr10:100189400-100190327:-   \n",
       "exon:chr10:100193697-100193848:-@exon:chr10:100...  chr10:100190428-100193696:-   \n",
       "exon:chr10:100195392-100195529:-@exon:chr10:100...  chr10:100193849-100195391:-   \n",
       "exon:chr10:101165513-101165617:-@exon:chr10:101...  chr10:101163392-101165512:-   \n",
       "exon:chr10:101419263-101419345:+@exon:chr10:101...  chr10:101419346-101421202:+   \n",
       "\n",
       "                                                                     junction23  \\\n",
       "event_id                                                                          \n",
       "exon:chr10:100190328-100190427:-@exon:chr10:100...  chr10:100189400-100189547:-   \n",
       "exon:chr10:100193697-100193848:-@exon:chr10:100...  chr10:100190428-100190887:-   \n",
       "exon:chr10:100195392-100195529:-@exon:chr10:100...  chr10:100193849-100195028:-   \n",
       "exon:chr10:101165513-101165617:-@exon:chr10:101...  chr10:101163392-101163480:-   \n",
       "exon:chr10:101419263-101419345:+@exon:chr10:101...  chr10:101419722-101421202:+   \n",
       "\n",
       "                                                   junction24 junction34  \\\n",
       "event_id                                                                   \n",
       "exon:chr10:100190328-100190427:-@exon:chr10:100...        NaN        NaN   \n",
       "exon:chr10:100193697-100193848:-@exon:chr10:100...        NaN        NaN   \n",
       "exon:chr10:100195392-100195529:-@exon:chr10:100...        NaN        NaN   \n",
       "exon:chr10:101165513-101165617:-@exon:chr10:101...        NaN        NaN   \n",
       "exon:chr10:101419263-101419345:+@exon:chr10:101...        NaN        NaN   \n",
       "\n",
       "                                                    strand  \\\n",
       "event_id                                                     \n",
       "exon:chr10:100190328-100190427:-@exon:chr10:100...       -   \n",
       "exon:chr10:100193697-100193848:-@exon:chr10:100...       -   \n",
       "exon:chr10:100195392-100195529:-@exon:chr10:100...       -   \n",
       "exon:chr10:101165513-101165617:-@exon:chr10:101...       -   \n",
       "exon:chr10:101419263-101419345:+@exon:chr10:101...       +   \n",
       "\n",
       "                                                                                        transcript_id  \\\n",
       "event_id                                                                                                \n",
       "exon:chr10:100190328-100190427:-@exon:chr10:100...  ENST00000361490.4,ENST00000414009.1,ENST000003...   \n",
       "exon:chr10:100193697-100193848:-@exon:chr10:100...  ENST00000361490.4,ENST00000414009.1,ENST000003...   \n",
       "exon:chr10:100195392-100195529:-@exon:chr10:100...  ENST00000361490.4,ENST00000325103.6,ENST000004...   \n",
       "exon:chr10:101165513-101165617:-@exon:chr10:101...                ENST00000543866.1,ENST00000370508.5   \n",
       "exon:chr10:101419263-101419345:+@exon:chr10:101...                                  ENST00000370489.4   \n",
       "\n",
       "                                                   exon2_divisible_by_3  \\\n",
       "event_id                                                                  \n",
       "exon:chr10:100190328-100190427:-@exon:chr10:100...                 True   \n",
       "exon:chr10:100193697-100193848:-@exon:chr10:100...                False   \n",
       "exon:chr10:100195392-100195529:-@exon:chr10:100...                False   \n",
       "exon:chr10:101165513-101165617:-@exon:chr10:101...                False   \n",
       "exon:chr10:101419263-101419345:+@exon:chr10:101...                False   \n",
       "\n",
       "                                                     one_ensembl_id  \\\n",
       "event_id                                                              \n",
       "exon:chr10:100190328-100190427:-@exon:chr10:100...  ENSG00000107521   \n",
       "exon:chr10:100193697-100193848:-@exon:chr10:100...  ENSG00000107521   \n",
       "exon:chr10:100195392-100195529:-@exon:chr10:100...  ENSG00000107521   \n",
       "exon:chr10:101165513-101165617:-@exon:chr10:101...  ENSG00000120053   \n",
       "exon:chr10:101419263-101419345:+@exon:chr10:101...  ENSG00000198018   \n",
       "\n",
       "                                                   splice_type  \n",
       "event_id                                                        \n",
       "exon:chr10:100190328-100190427:-@exon:chr10:100...          SE  \n",
       "exon:chr10:100193697-100193848:-@exon:chr10:100...          SE  \n",
       "exon:chr10:100195392-100195529:-@exon:chr10:100...          SE  \n",
       "exon:chr10:101165513-101165617:-@exon:chr10:101...          SE  \n",
       "exon:chr10:101419263-101419345:+@exon:chr10:101...          SE  \n",
       "\n",
       "[5 rows x 26 columns]"
      ]
     },
     "execution_count": 7,
     "metadata": {},
     "output_type": "execute_result"
    }
   ],
   "source": [
    "study.splicing.feature_data.head()"
   ]
  },
  {
   "cell_type": "code",
   "execution_count": 17,
   "metadata": {
    "collapsed": false
   },
   "outputs": [
    {
     "data": {
      "text/plain": [
       "['exon1',\n",
       " 'exon1_length',\n",
       " 'exon2',\n",
       " 'exon2_length',\n",
       " 'exon3',\n",
       " 'exon3_length',\n",
       " 'exon4',\n",
       " 'exon4_length',\n",
       " 'exon2_divisible_by_3']"
      ]
     },
     "execution_count": 17,
     "metadata": {},
     "output_type": "execute_result"
    }
   ],
   "source": [
    "exon_cols = [x for x in study.splicing.feature_data if x.startswith('exon')]\n",
    "exon_cols"
   ]
  },
  {
   "cell_type": "code",
   "execution_count": 20,
   "metadata": {
    "collapsed": true
   },
   "outputs": [],
   "source": [
    "cols = exon_cols + ['ensembl_id', 'gene_name', 'splice_type']"
   ]
  },
  {
   "cell_type": "code",
   "execution_count": 21,
   "metadata": {
    "collapsed": false
   },
   "outputs": [
    {
     "name": "stdout",
     "output_type": "stream",
     "text": [
      "(7079, 15)\n"
     ]
    },
    {
     "data": {
      "text/html": [
       "<div>\n",
       "<table border=\"1\" class=\"dataframe\">\n",
       "  <thead>\n",
       "    <tr style=\"text-align: right;\">\n",
       "      <th></th>\n",
       "      <th>phenotype</th>\n",
       "      <th>event_id</th>\n",
       "      <th>modality</th>\n",
       "      <th>exon1</th>\n",
       "      <th>exon1_length</th>\n",
       "      <th>exon2</th>\n",
       "      <th>exon2_length</th>\n",
       "      <th>exon3</th>\n",
       "      <th>exon3_length</th>\n",
       "      <th>exon4</th>\n",
       "      <th>exon4_length</th>\n",
       "      <th>exon2_divisible_by_3</th>\n",
       "      <th>ensembl_id</th>\n",
       "      <th>gene_name</th>\n",
       "      <th>splice_type</th>\n",
       "    </tr>\n",
       "  </thead>\n",
       "  <tbody>\n",
       "    <tr>\n",
       "      <th>1</th>\n",
       "      <td>MN</td>\n",
       "      <td>exon:chr10:101480744-101480825:-@exon:chr10:10...</td>\n",
       "      <td>bimodal</td>\n",
       "      <td>exon:chr10:101480744-101480825:-</td>\n",
       "      <td>82</td>\n",
       "      <td>exon:chr10:101478103-101478257:-</td>\n",
       "      <td>155</td>\n",
       "      <td>exon:chr10:101476105-101476218:-</td>\n",
       "      <td>114</td>\n",
       "      <td>NaN</td>\n",
       "      <td>NaN</td>\n",
       "      <td>False</td>\n",
       "      <td>ENSG00000014919</td>\n",
       "      <td>COX15</td>\n",
       "      <td>SE</td>\n",
       "    </tr>\n",
       "    <tr>\n",
       "      <th>4</th>\n",
       "      <td>MN</td>\n",
       "      <td>exon:chr10:102747070-102747240:-@exon:chr10:10...</td>\n",
       "      <td>bimodal</td>\n",
       "      <td>exon:chr10:102747070-102747240:-</td>\n",
       "      <td>171</td>\n",
       "      <td>exon:chr10:102746847-102746953:-</td>\n",
       "      <td>107</td>\n",
       "      <td>exon:chr10:102746506-102746732:-</td>\n",
       "      <td>227</td>\n",
       "      <td>NaN</td>\n",
       "      <td>NaN</td>\n",
       "      <td>False</td>\n",
       "      <td>ENSG00000055950</td>\n",
       "      <td>MRPL43</td>\n",
       "      <td>SE</td>\n",
       "    </tr>\n",
       "    <tr>\n",
       "      <th>6</th>\n",
       "      <td>MN</td>\n",
       "      <td>exon:chr10:103113864-103113985:+@exon:chr10:10...</td>\n",
       "      <td>bimodal</td>\n",
       "      <td>exon:chr10:103113864-103113985:+</td>\n",
       "      <td>122</td>\n",
       "      <td>exon:chr10:103190102-103190209:+</td>\n",
       "      <td>108</td>\n",
       "      <td>exon:chr10:103221738-103221815:+</td>\n",
       "      <td>78</td>\n",
       "      <td>NaN</td>\n",
       "      <td>NaN</td>\n",
       "      <td>True</td>\n",
       "      <td>ENSG00000166167</td>\n",
       "      <td>BTRC</td>\n",
       "      <td>SE</td>\n",
       "    </tr>\n",
       "    <tr>\n",
       "      <th>10</th>\n",
       "      <td>MN</td>\n",
       "      <td>exon:chr10:103360960-103361093:+@exon:chr10:10...</td>\n",
       "      <td>bimodal</td>\n",
       "      <td>exon:chr10:103360960-103361093:+</td>\n",
       "      <td>134</td>\n",
       "      <td>exon:chr10:103364897-103364969:+</td>\n",
       "      <td>73</td>\n",
       "      <td>exon:chr10:103368592-103368694:+</td>\n",
       "      <td>103</td>\n",
       "      <td>NaN</td>\n",
       "      <td>NaN</td>\n",
       "      <td>False</td>\n",
       "      <td>ENSG00000166171</td>\n",
       "      <td>DPCD</td>\n",
       "      <td>SE</td>\n",
       "    </tr>\n",
       "    <tr>\n",
       "      <th>12</th>\n",
       "      <td>MN</td>\n",
       "      <td>exon:chr10:103360960-103361093:+@exon:chr10:10...</td>\n",
       "      <td>bimodal</td>\n",
       "      <td>exon:chr10:103360960-103361093:+</td>\n",
       "      <td>134</td>\n",
       "      <td>exon:chr10:103368592-103368694:+</td>\n",
       "      <td>103</td>\n",
       "      <td>exon:chr10:103369124-103369196:+</td>\n",
       "      <td>73</td>\n",
       "      <td>NaN</td>\n",
       "      <td>NaN</td>\n",
       "      <td>False</td>\n",
       "      <td>ENSG00000166171</td>\n",
       "      <td>DPCD</td>\n",
       "      <td>SE</td>\n",
       "    </tr>\n",
       "  </tbody>\n",
       "</table>\n",
       "</div>"
      ],
      "text/plain": [
       "   phenotype                                           event_id modality  \\\n",
       "1         MN  exon:chr10:101480744-101480825:-@exon:chr10:10...  bimodal   \n",
       "4         MN  exon:chr10:102747070-102747240:-@exon:chr10:10...  bimodal   \n",
       "6         MN  exon:chr10:103113864-103113985:+@exon:chr10:10...  bimodal   \n",
       "10        MN  exon:chr10:103360960-103361093:+@exon:chr10:10...  bimodal   \n",
       "12        MN  exon:chr10:103360960-103361093:+@exon:chr10:10...  bimodal   \n",
       "\n",
       "                               exon1  exon1_length  \\\n",
       "1   exon:chr10:101480744-101480825:-            82   \n",
       "4   exon:chr10:102747070-102747240:-           171   \n",
       "6   exon:chr10:103113864-103113985:+           122   \n",
       "10  exon:chr10:103360960-103361093:+           134   \n",
       "12  exon:chr10:103360960-103361093:+           134   \n",
       "\n",
       "                               exon2  exon2_length  \\\n",
       "1   exon:chr10:101478103-101478257:-           155   \n",
       "4   exon:chr10:102746847-102746953:-           107   \n",
       "6   exon:chr10:103190102-103190209:+           108   \n",
       "10  exon:chr10:103364897-103364969:+            73   \n",
       "12  exon:chr10:103368592-103368694:+           103   \n",
       "\n",
       "                               exon3  exon3_length exon4  exon4_length  \\\n",
       "1   exon:chr10:101476105-101476218:-           114   NaN           NaN   \n",
       "4   exon:chr10:102746506-102746732:-           227   NaN           NaN   \n",
       "6   exon:chr10:103221738-103221815:+            78   NaN           NaN   \n",
       "10  exon:chr10:103368592-103368694:+           103   NaN           NaN   \n",
       "12  exon:chr10:103369124-103369196:+            73   NaN           NaN   \n",
       "\n",
       "   exon2_divisible_by_3       ensembl_id gene_name splice_type  \n",
       "1                 False  ENSG00000014919     COX15          SE  \n",
       "4                 False  ENSG00000055950    MRPL43          SE  \n",
       "6                  True  ENSG00000166167      BTRC          SE  \n",
       "10                False  ENSG00000166171      DPCD          SE  \n",
       "12                False  ENSG00000166171      DPCD          SE  "
      ]
     },
     "execution_count": 21,
     "metadata": {},
     "output_type": "execute_result"
    }
   ],
   "source": [
    "bimodal_metadata = bimodal.join(study.splicing.feature_data[cols], on='event_id')\n",
    "print(bimodal_metadata.shape)\n",
    "# bimodal_metadata = bimodal_metadata.drop_duplicates()\n",
    "# print(bimodal_metadata.shape)\n",
    "bimodal_metadata.head()"
   ]
  },
  {
   "cell_type": "code",
   "execution_count": 22,
   "metadata": {
    "collapsed": false
   },
   "outputs": [],
   "source": [
    "import pyfaidx"
   ]
  },
  {
   "cell_type": "code",
   "execution_count": 23,
   "metadata": {
    "collapsed": false
   },
   "outputs": [
    {
     "data": {
      "text/plain": [
       "Fasta(\"/projects/ps-yeolab/genomes/hg19/gencode/v19/GRCh37.p13.genome.fa\")"
      ]
     },
     "execution_count": 23,
     "metadata": {},
     "output_type": "execute_result"
    }
   ],
   "source": [
    "hg19 = pyfaidx.Fasta('/projects/ps-yeolab/genomes/hg19/gencode/v19/GRCh37.p13.genome.fa')\n",
    "hg19"
   ]
  },
  {
   "cell_type": "code",
   "execution_count": 24,
   "metadata": {
    "collapsed": false
   },
   "outputs": [
    {
     "ename": "KeyError",
     "evalue": "'chr10:101480744-101480825 not in /projects/ps-yeolab/genomes/hg19/gencode/v19/GRCh37.p13.genome.fa.'",
     "output_type": "error",
     "traceback": [
      "\u001b[1;31m---------------------------------------------------------------------------\u001b[0m",
      "\u001b[1;31mKeyError\u001b[0m                                  Traceback (most recent call last)",
      "\u001b[1;32m<ipython-input-24-b5861233137c>\u001b[0m in \u001b[0;36m<module>\u001b[1;34m()\u001b[0m\n\u001b[1;32m----> 1\u001b[1;33m \u001b[0mhg19\u001b[0m\u001b[1;33m[\u001b[0m\u001b[1;34m'chr10:101480744-101480825'\u001b[0m\u001b[1;33m]\u001b[0m\u001b[1;33m\u001b[0m\u001b[0m\n\u001b[0m",
      "\u001b[1;32m/home/obotvinnik/anaconda/lib/python2.7/site-packages/pyfaidx/__init__.pyc\u001b[0m in \u001b[0;36m__getitem__\u001b[1;34m(self, rname)\u001b[0m\n\u001b[0;32m    593\u001b[0m             \u001b[1;32mreturn\u001b[0m \u001b[0mself\u001b[0m\u001b[1;33m.\u001b[0m\u001b[0mrecords\u001b[0m\u001b[1;33m[\u001b[0m\u001b[0mrname\u001b[0m\u001b[1;33m]\u001b[0m\u001b[1;33m\u001b[0m\u001b[0m\n\u001b[0;32m    594\u001b[0m         \u001b[1;32mexcept\u001b[0m \u001b[0mKeyError\u001b[0m\u001b[1;33m:\u001b[0m\u001b[1;33m\u001b[0m\u001b[0m\n\u001b[1;32m--> 595\u001b[1;33m             \u001b[1;32mraise\u001b[0m \u001b[0mKeyError\u001b[0m\u001b[1;33m(\u001b[0m\u001b[1;34m\"{0} not in {1}.\"\u001b[0m\u001b[1;33m.\u001b[0m\u001b[0mformat\u001b[0m\u001b[1;33m(\u001b[0m\u001b[0mrname\u001b[0m\u001b[1;33m,\u001b[0m \u001b[0mself\u001b[0m\u001b[1;33m.\u001b[0m\u001b[0mfilename\u001b[0m\u001b[1;33m)\u001b[0m\u001b[1;33m)\u001b[0m\u001b[1;33m\u001b[0m\u001b[0m\n\u001b[0m\u001b[0;32m    596\u001b[0m \u001b[1;33m\u001b[0m\u001b[0m\n\u001b[0;32m    597\u001b[0m     \u001b[1;32mdef\u001b[0m \u001b[0m__repr__\u001b[0m\u001b[1;33m(\u001b[0m\u001b[0mself\u001b[0m\u001b[1;33m)\u001b[0m\u001b[1;33m:\u001b[0m\u001b[1;33m\u001b[0m\u001b[0m\n",
      "\u001b[1;31mKeyError\u001b[0m: 'chr10:101480744-101480825 not in /projects/ps-yeolab/genomes/hg19/gencode/v19/GRCh37.p13.genome.fa.'"
     ]
    }
   ],
   "source": [
    "# hg19['chr10:101480744-101480825']"
   ]
  },
  {
   "cell_type": "code",
   "execution_count": 35,
   "metadata": {
    "collapsed": false
   },
   "outputs": [
    {
     "data": {
      "text/plain": [
       ">chr10:101480825-101480745 (complement)\n",
       "TTGCCTGAAACCCACCAACTCCTACAGTTGAGACGATTTGCTCATGGAACAGCAGGTCTGGTGTTCCTTACGGCCCTCTCA"
      ]
     },
     "execution_count": 35,
     "metadata": {},
     "output_type": "execute_result"
    }
   ],
   "source": [
    "# exon:chr10:101480744-101480825:-\n",
    "-hg19['chr10'][101480744:101480825]"
   ]
  },
  {
   "cell_type": "code",
   "execution_count": 27,
   "metadata": {
    "collapsed": false
   },
   "outputs": [
    {
     "data": {
      "text/plain": [
       "81"
      ]
     },
     "execution_count": 27,
     "metadata": {},
     "output_type": "execute_result"
    }
   ],
   "source": [
    "len('TGAGAGGGCCGTAAGGAACACCAGACCTGCTGTTCCATGAGCAAATCGTCTCAACTGTAGGAGTTGGTGGGTTTCAGGCAA')"
   ]
  },
  {
   "cell_type": "markdown",
   "metadata": {},
   "source": [
    "SHould be 82 .. and on the genome browser it looks one base too short on the left (downstream since this is negative) side ... let's check a postiive event"
   ]
  },
  {
   "cell_type": "code",
   "execution_count": 50,
   "metadata": {
    "collapsed": false
   },
   "outputs": [
    {
     "data": {
      "text/plain": [
       ">chr10:103113865-103113985\n",
       "GCGCTGCGTTGGCTGCGGCCTGGCACCAAAGGGGCGGCCCCGGCGGAGAGCGGACCCAGTGGCCTCGGCGATTATGGACCCGGCCGAGGCGGTGCTGCAAGAGAAGGCACTCAAGTTTATG"
      ]
     },
     "execution_count": 50,
     "metadata": {},
     "output_type": "execute_result"
    }
   ],
   "source": [
    "# exon:chr10:103113864-103113985:+\n",
    "sequence = hg19['chr10'][103113864:103113985]\n",
    "sequence"
   ]
  },
  {
   "cell_type": "code",
   "execution_count": 52,
   "metadata": {
    "collapsed": false
   },
   "outputs": [
    {
     "data": {
      "text/plain": [
       "'GCGCTGCGTTGGCTGCGGCCTGGCACCAAAGGGGCGGCCCCGGCGGAGAGCGGACCCAGTGGCCTCGGCGATTATGGACCCGGCCGAGGCGGTGCTGCAAGAGAAGGCACTCAAGTTTATG'"
      ]
     },
     "execution_count": 52,
     "metadata": {},
     "output_type": "execute_result"
    }
   ],
   "source": [
    "str(sequence)"
   ]
  },
  {
   "cell_type": "code",
   "execution_count": null,
   "metadata": {
    "collapsed": true
   },
   "outputs": [],
   "source": [
    "sequence."
   ]
  },
  {
   "cell_type": "code",
   "execution_count": 36,
   "metadata": {
    "collapsed": true
   },
   "outputs": [],
   "source": [
    "from outrigger.region import Region"
   ]
  },
  {
   "cell_type": "code",
   "execution_count": 37,
   "metadata": {
    "collapsed": true
   },
   "outputs": [],
   "source": [
    "import re"
   ]
  },
  {
   "cell_type": "code",
   "execution_count": 40,
   "metadata": {
    "collapsed": false
   },
   "outputs": [],
   "source": [
    "re.match('exon\\d', 'exonasdf')"
   ]
  },
  {
   "cell_type": "code",
   "execution_count": 41,
   "metadata": {
    "collapsed": false
   },
   "outputs": [
    {
     "data": {
      "text/plain": [
       "<_sre.SRE_Match at 0x2adc471bc238>"
      ]
     },
     "execution_count": 41,
     "metadata": {},
     "output_type": "execute_result"
    }
   ],
   "source": [
    "re.match('exon\\d', 'exon1')"
   ]
  },
  {
   "cell_type": "code",
   "execution_count": 45,
   "metadata": {
    "collapsed": false
   },
   "outputs": [
    {
     "name": "stdout",
     "output_type": "stream",
     "text": [
      "(5602, 26)\n"
     ]
    },
    {
     "data": {
      "text/html": [
       "<div>\n",
       "<table border=\"1\" class=\"dataframe\">\n",
       "  <thead>\n",
       "    <tr style=\"text-align: right;\">\n",
       "      <th></th>\n",
       "      <th>Unnamed: 0</th>\n",
       "      <th>criteria</th>\n",
       "      <th>criteria_additional</th>\n",
       "      <th>criteria_full</th>\n",
       "      <th>ensembl_id</th>\n",
       "      <th>exon1</th>\n",
       "      <th>exon1_length</th>\n",
       "      <th>exon2</th>\n",
       "      <th>exon2_length</th>\n",
       "      <th>exon3</th>\n",
       "      <th>...</th>\n",
       "      <th>junction12</th>\n",
       "      <th>junction13</th>\n",
       "      <th>junction23</th>\n",
       "      <th>junction24</th>\n",
       "      <th>junction34</th>\n",
       "      <th>strand</th>\n",
       "      <th>transcript_id</th>\n",
       "      <th>exon2_divisible_by_3</th>\n",
       "      <th>one_ensembl_id</th>\n",
       "      <th>splice_type</th>\n",
       "    </tr>\n",
       "    <tr>\n",
       "      <th>event_id</th>\n",
       "      <th></th>\n",
       "      <th></th>\n",
       "      <th></th>\n",
       "      <th></th>\n",
       "      <th></th>\n",
       "      <th></th>\n",
       "      <th></th>\n",
       "      <th></th>\n",
       "      <th></th>\n",
       "      <th></th>\n",
       "      <th></th>\n",
       "      <th></th>\n",
       "      <th></th>\n",
       "      <th></th>\n",
       "      <th></th>\n",
       "      <th></th>\n",
       "      <th></th>\n",
       "      <th></th>\n",
       "      <th></th>\n",
       "      <th></th>\n",
       "      <th></th>\n",
       "    </tr>\n",
       "  </thead>\n",
       "  <tbody>\n",
       "    <tr>\n",
       "      <th>exon:chr10:101480744-101480825:-@exon:chr10:101478103-101478257:-@exon:chr10:101476105-101476218:-</th>\n",
       "      <td>NaN</td>\n",
       "      <td>only one</td>\n",
       "      <td>NaN</td>\n",
       "      <td>only one</td>\n",
       "      <td>ENSG00000014919</td>\n",
       "      <td>exon:chr10:101480744-101480825:-</td>\n",
       "      <td>82</td>\n",
       "      <td>exon:chr10:101478103-101478257:-</td>\n",
       "      <td>155</td>\n",
       "      <td>exon:chr10:101476105-101476218:-</td>\n",
       "      <td>...</td>\n",
       "      <td>chr10:101478258-101480743:-</td>\n",
       "      <td>chr10:101476219-101480743:-</td>\n",
       "      <td>chr10:101476219-101478102:-</td>\n",
       "      <td>NaN</td>\n",
       "      <td>NaN</td>\n",
       "      <td>-</td>\n",
       "      <td>ENST00000016171.5,ENST00000370483.5</td>\n",
       "      <td>False</td>\n",
       "      <td>ENSG00000014919</td>\n",
       "      <td>SE</td>\n",
       "    </tr>\n",
       "    <tr>\n",
       "      <th>exon:chr10:102747070-102747240:-@exon:chr10:102746847-102746953:-@exon:chr10:102746506-102746732:-</th>\n",
       "      <td>NaN</td>\n",
       "      <td>best</td>\n",
       "      <td>appris_principal</td>\n",
       "      <td>best,appris_principal</td>\n",
       "      <td>ENSG00000055950</td>\n",
       "      <td>exon:chr10:102747070-102747240:-</td>\n",
       "      <td>171</td>\n",
       "      <td>exon:chr10:102746847-102746953:-</td>\n",
       "      <td>107</td>\n",
       "      <td>exon:chr10:102746506-102746732:-</td>\n",
       "      <td>...</td>\n",
       "      <td>chr10:102746954-102747069:-</td>\n",
       "      <td>chr10:102746733-102747069:-</td>\n",
       "      <td>chr10:102746733-102746846:-</td>\n",
       "      <td>NaN</td>\n",
       "      <td>NaN</td>\n",
       "      <td>-</td>\n",
       "      <td>ENST00000318325.2,ENST00000370241.3,ENST000003...</td>\n",
       "      <td>False</td>\n",
       "      <td>ENSG00000055950</td>\n",
       "      <td>SE</td>\n",
       "    </tr>\n",
       "    <tr>\n",
       "      <th>exon:chr10:103113864-103113985:+@exon:chr10:103190102-103190209:+@exon:chr10:103221738-103221815:+</th>\n",
       "      <td>NaN</td>\n",
       "      <td>best</td>\n",
       "      <td>appris_principal</td>\n",
       "      <td>best,appris_principal</td>\n",
       "      <td>ENSG00000166167</td>\n",
       "      <td>exon:chr10:103113864-103113985:+</td>\n",
       "      <td>122</td>\n",
       "      <td>exon:chr10:103190102-103190209:+</td>\n",
       "      <td>108</td>\n",
       "      <td>exon:chr10:103221738-103221815:+</td>\n",
       "      <td>...</td>\n",
       "      <td>chr10:103113986-103190101:+</td>\n",
       "      <td>chr10:103113986-103221737:+</td>\n",
       "      <td>chr10:103190210-103221737:+</td>\n",
       "      <td>NaN</td>\n",
       "      <td>NaN</td>\n",
       "      <td>+</td>\n",
       "      <td>ENST00000393441.4,ENST00000475200.1,ENST000004...</td>\n",
       "      <td>True</td>\n",
       "      <td>ENSG00000166167</td>\n",
       "      <td>SE</td>\n",
       "    </tr>\n",
       "    <tr>\n",
       "      <th>exon:chr10:103360960-103361093:+@exon:chr10:103364897-103364969:+@exon:chr10:103368592-103368694:+</th>\n",
       "      <td>NaN</td>\n",
       "      <td>only one</td>\n",
       "      <td>NaN</td>\n",
       "      <td>only one</td>\n",
       "      <td>ENSG00000166171</td>\n",
       "      <td>exon:chr10:103360960-103361093:+</td>\n",
       "      <td>134</td>\n",
       "      <td>exon:chr10:103364897-103364969:+</td>\n",
       "      <td>73</td>\n",
       "      <td>exon:chr10:103368592-103368694:+</td>\n",
       "      <td>...</td>\n",
       "      <td>chr10:103361094-103364896:+</td>\n",
       "      <td>chr10:103361094-103368591:+</td>\n",
       "      <td>chr10:103364970-103368591:+</td>\n",
       "      <td>NaN</td>\n",
       "      <td>NaN</td>\n",
       "      <td>+</td>\n",
       "      <td>ENST00000370147.1,ENST00000434727.1,ENST000003...</td>\n",
       "      <td>False</td>\n",
       "      <td>ENSG00000166171</td>\n",
       "      <td>SE</td>\n",
       "    </tr>\n",
       "    <tr>\n",
       "      <th>exon:chr10:103360960-103361093:+@exon:chr10:103368592-103368694:+@exon:chr10:103369124-103369196:+</th>\n",
       "      <td>NaN</td>\n",
       "      <td>best</td>\n",
       "      <td>appris_principal</td>\n",
       "      <td>best,appris_principal</td>\n",
       "      <td>ENSG00000166171</td>\n",
       "      <td>exon:chr10:103360960-103361093:+</td>\n",
       "      <td>134</td>\n",
       "      <td>exon:chr10:103368592-103368694:+</td>\n",
       "      <td>103</td>\n",
       "      <td>exon:chr10:103369124-103369196:+</td>\n",
       "      <td>...</td>\n",
       "      <td>chr10:103361094-103368591:+</td>\n",
       "      <td>chr10:103361094-103369123:+</td>\n",
       "      <td>chr10:103368695-103369123:+</td>\n",
       "      <td>NaN</td>\n",
       "      <td>NaN</td>\n",
       "      <td>+</td>\n",
       "      <td>ENST00000370147.1,ENST00000434727.1,ENST000003...</td>\n",
       "      <td>False</td>\n",
       "      <td>ENSG00000166171</td>\n",
       "      <td>SE</td>\n",
       "    </tr>\n",
       "  </tbody>\n",
       "</table>\n",
       "<p>5 rows × 26 columns</p>\n",
       "</div>"
      ],
      "text/plain": [
       "                                                    Unnamed: 0  criteria  \\\n",
       "event_id                                                                   \n",
       "exon:chr10:101480744-101480825:-@exon:chr10:101...         NaN  only one   \n",
       "exon:chr10:102747070-102747240:-@exon:chr10:102...         NaN      best   \n",
       "exon:chr10:103113864-103113985:+@exon:chr10:103...         NaN      best   \n",
       "exon:chr10:103360960-103361093:+@exon:chr10:103...         NaN  only one   \n",
       "exon:chr10:103360960-103361093:+@exon:chr10:103...         NaN      best   \n",
       "\n",
       "                                                   criteria_additional  \\\n",
       "event_id                                                                 \n",
       "exon:chr10:101480744-101480825:-@exon:chr10:101...                 NaN   \n",
       "exon:chr10:102747070-102747240:-@exon:chr10:102...    appris_principal   \n",
       "exon:chr10:103113864-103113985:+@exon:chr10:103...    appris_principal   \n",
       "exon:chr10:103360960-103361093:+@exon:chr10:103...                 NaN   \n",
       "exon:chr10:103360960-103361093:+@exon:chr10:103...    appris_principal   \n",
       "\n",
       "                                                            criteria_full  \\\n",
       "event_id                                                                    \n",
       "exon:chr10:101480744-101480825:-@exon:chr10:101...               only one   \n",
       "exon:chr10:102747070-102747240:-@exon:chr10:102...  best,appris_principal   \n",
       "exon:chr10:103113864-103113985:+@exon:chr10:103...  best,appris_principal   \n",
       "exon:chr10:103360960-103361093:+@exon:chr10:103...               only one   \n",
       "exon:chr10:103360960-103361093:+@exon:chr10:103...  best,appris_principal   \n",
       "\n",
       "                                                         ensembl_id  \\\n",
       "event_id                                                              \n",
       "exon:chr10:101480744-101480825:-@exon:chr10:101...  ENSG00000014919   \n",
       "exon:chr10:102747070-102747240:-@exon:chr10:102...  ENSG00000055950   \n",
       "exon:chr10:103113864-103113985:+@exon:chr10:103...  ENSG00000166167   \n",
       "exon:chr10:103360960-103361093:+@exon:chr10:103...  ENSG00000166171   \n",
       "exon:chr10:103360960-103361093:+@exon:chr10:103...  ENSG00000166171   \n",
       "\n",
       "                                                                               exon1  \\\n",
       "event_id                                                                               \n",
       "exon:chr10:101480744-101480825:-@exon:chr10:101...  exon:chr10:101480744-101480825:-   \n",
       "exon:chr10:102747070-102747240:-@exon:chr10:102...  exon:chr10:102747070-102747240:-   \n",
       "exon:chr10:103113864-103113985:+@exon:chr10:103...  exon:chr10:103113864-103113985:+   \n",
       "exon:chr10:103360960-103361093:+@exon:chr10:103...  exon:chr10:103360960-103361093:+   \n",
       "exon:chr10:103360960-103361093:+@exon:chr10:103...  exon:chr10:103360960-103361093:+   \n",
       "\n",
       "                                                    exon1_length  \\\n",
       "event_id                                                           \n",
       "exon:chr10:101480744-101480825:-@exon:chr10:101...            82   \n",
       "exon:chr10:102747070-102747240:-@exon:chr10:102...           171   \n",
       "exon:chr10:103113864-103113985:+@exon:chr10:103...           122   \n",
       "exon:chr10:103360960-103361093:+@exon:chr10:103...           134   \n",
       "exon:chr10:103360960-103361093:+@exon:chr10:103...           134   \n",
       "\n",
       "                                                                               exon2  \\\n",
       "event_id                                                                               \n",
       "exon:chr10:101480744-101480825:-@exon:chr10:101...  exon:chr10:101478103-101478257:-   \n",
       "exon:chr10:102747070-102747240:-@exon:chr10:102...  exon:chr10:102746847-102746953:-   \n",
       "exon:chr10:103113864-103113985:+@exon:chr10:103...  exon:chr10:103190102-103190209:+   \n",
       "exon:chr10:103360960-103361093:+@exon:chr10:103...  exon:chr10:103364897-103364969:+   \n",
       "exon:chr10:103360960-103361093:+@exon:chr10:103...  exon:chr10:103368592-103368694:+   \n",
       "\n",
       "                                                    exon2_length  \\\n",
       "event_id                                                           \n",
       "exon:chr10:101480744-101480825:-@exon:chr10:101...           155   \n",
       "exon:chr10:102747070-102747240:-@exon:chr10:102...           107   \n",
       "exon:chr10:103113864-103113985:+@exon:chr10:103...           108   \n",
       "exon:chr10:103360960-103361093:+@exon:chr10:103...            73   \n",
       "exon:chr10:103360960-103361093:+@exon:chr10:103...           103   \n",
       "\n",
       "                                                                               exon3  \\\n",
       "event_id                                                                               \n",
       "exon:chr10:101480744-101480825:-@exon:chr10:101...  exon:chr10:101476105-101476218:-   \n",
       "exon:chr10:102747070-102747240:-@exon:chr10:102...  exon:chr10:102746506-102746732:-   \n",
       "exon:chr10:103113864-103113985:+@exon:chr10:103...  exon:chr10:103221738-103221815:+   \n",
       "exon:chr10:103360960-103361093:+@exon:chr10:103...  exon:chr10:103368592-103368694:+   \n",
       "exon:chr10:103360960-103361093:+@exon:chr10:103...  exon:chr10:103369124-103369196:+   \n",
       "\n",
       "                                                       ...      \\\n",
       "event_id                                               ...       \n",
       "exon:chr10:101480744-101480825:-@exon:chr10:101...     ...       \n",
       "exon:chr10:102747070-102747240:-@exon:chr10:102...     ...       \n",
       "exon:chr10:103113864-103113985:+@exon:chr10:103...     ...       \n",
       "exon:chr10:103360960-103361093:+@exon:chr10:103...     ...       \n",
       "exon:chr10:103360960-103361093:+@exon:chr10:103...     ...       \n",
       "\n",
       "                                                                     junction12  \\\n",
       "event_id                                                                          \n",
       "exon:chr10:101480744-101480825:-@exon:chr10:101...  chr10:101478258-101480743:-   \n",
       "exon:chr10:102747070-102747240:-@exon:chr10:102...  chr10:102746954-102747069:-   \n",
       "exon:chr10:103113864-103113985:+@exon:chr10:103...  chr10:103113986-103190101:+   \n",
       "exon:chr10:103360960-103361093:+@exon:chr10:103...  chr10:103361094-103364896:+   \n",
       "exon:chr10:103360960-103361093:+@exon:chr10:103...  chr10:103361094-103368591:+   \n",
       "\n",
       "                                                                     junction13  \\\n",
       "event_id                                                                          \n",
       "exon:chr10:101480744-101480825:-@exon:chr10:101...  chr10:101476219-101480743:-   \n",
       "exon:chr10:102747070-102747240:-@exon:chr10:102...  chr10:102746733-102747069:-   \n",
       "exon:chr10:103113864-103113985:+@exon:chr10:103...  chr10:103113986-103221737:+   \n",
       "exon:chr10:103360960-103361093:+@exon:chr10:103...  chr10:103361094-103368591:+   \n",
       "exon:chr10:103360960-103361093:+@exon:chr10:103...  chr10:103361094-103369123:+   \n",
       "\n",
       "                                                                     junction23  \\\n",
       "event_id                                                                          \n",
       "exon:chr10:101480744-101480825:-@exon:chr10:101...  chr10:101476219-101478102:-   \n",
       "exon:chr10:102747070-102747240:-@exon:chr10:102...  chr10:102746733-102746846:-   \n",
       "exon:chr10:103113864-103113985:+@exon:chr10:103...  chr10:103190210-103221737:+   \n",
       "exon:chr10:103360960-103361093:+@exon:chr10:103...  chr10:103364970-103368591:+   \n",
       "exon:chr10:103360960-103361093:+@exon:chr10:103...  chr10:103368695-103369123:+   \n",
       "\n",
       "                                                   junction24 junction34  \\\n",
       "event_id                                                                   \n",
       "exon:chr10:101480744-101480825:-@exon:chr10:101...        NaN        NaN   \n",
       "exon:chr10:102747070-102747240:-@exon:chr10:102...        NaN        NaN   \n",
       "exon:chr10:103113864-103113985:+@exon:chr10:103...        NaN        NaN   \n",
       "exon:chr10:103360960-103361093:+@exon:chr10:103...        NaN        NaN   \n",
       "exon:chr10:103360960-103361093:+@exon:chr10:103...        NaN        NaN   \n",
       "\n",
       "                                                    strand  \\\n",
       "event_id                                                     \n",
       "exon:chr10:101480744-101480825:-@exon:chr10:101...       -   \n",
       "exon:chr10:102747070-102747240:-@exon:chr10:102...       -   \n",
       "exon:chr10:103113864-103113985:+@exon:chr10:103...       +   \n",
       "exon:chr10:103360960-103361093:+@exon:chr10:103...       +   \n",
       "exon:chr10:103360960-103361093:+@exon:chr10:103...       +   \n",
       "\n",
       "                                                                                        transcript_id  \\\n",
       "event_id                                                                                                \n",
       "exon:chr10:101480744-101480825:-@exon:chr10:101...                ENST00000016171.5,ENST00000370483.5   \n",
       "exon:chr10:102747070-102747240:-@exon:chr10:102...  ENST00000318325.2,ENST00000370241.3,ENST000003...   \n",
       "exon:chr10:103113864-103113985:+@exon:chr10:103...  ENST00000393441.4,ENST00000475200.1,ENST000004...   \n",
       "exon:chr10:103360960-103361093:+@exon:chr10:103...  ENST00000370147.1,ENST00000434727.1,ENST000003...   \n",
       "exon:chr10:103360960-103361093:+@exon:chr10:103...  ENST00000370147.1,ENST00000434727.1,ENST000003...   \n",
       "\n",
       "                                                   exon2_divisible_by_3  \\\n",
       "event_id                                                                  \n",
       "exon:chr10:101480744-101480825:-@exon:chr10:101...                False   \n",
       "exon:chr10:102747070-102747240:-@exon:chr10:102...                False   \n",
       "exon:chr10:103113864-103113985:+@exon:chr10:103...                 True   \n",
       "exon:chr10:103360960-103361093:+@exon:chr10:103...                False   \n",
       "exon:chr10:103360960-103361093:+@exon:chr10:103...                False   \n",
       "\n",
       "                                                     one_ensembl_id  \\\n",
       "event_id                                                              \n",
       "exon:chr10:101480744-101480825:-@exon:chr10:101...  ENSG00000014919   \n",
       "exon:chr10:102747070-102747240:-@exon:chr10:102...  ENSG00000055950   \n",
       "exon:chr10:103113864-103113985:+@exon:chr10:103...  ENSG00000166167   \n",
       "exon:chr10:103360960-103361093:+@exon:chr10:103...  ENSG00000166171   \n",
       "exon:chr10:103360960-103361093:+@exon:chr10:103...  ENSG00000166171   \n",
       "\n",
       "                                                   splice_type  \n",
       "event_id                                                        \n",
       "exon:chr10:101480744-101480825:-@exon:chr10:101...          SE  \n",
       "exon:chr10:102747070-102747240:-@exon:chr10:102...          SE  \n",
       "exon:chr10:103113864-103113985:+@exon:chr10:103...          SE  \n",
       "exon:chr10:103360960-103361093:+@exon:chr10:103...          SE  \n",
       "exon:chr10:103360960-103361093:+@exon:chr10:103...          SE  \n",
       "\n",
       "[5 rows x 26 columns]"
      ]
     },
     "execution_count": 45,
     "metadata": {},
     "output_type": "execute_result"
    }
   ],
   "source": [
    "feature_data_subset = study.splicing.feature_data.loc[bimodal['event_id'].unique()]\n",
    "print(feature_data_subset.shape)\n",
    "feature_data_subset.head()"
   ]
  },
  {
   "cell_type": "code",
   "execution_count": 49,
   "metadata": {
    "collapsed": false
   },
   "outputs": [
    {
     "name": "stdout",
     "output_type": "stream",
     "text": [
      "(5602, 4)\n"
     ]
    },
    {
     "data": {
      "text/html": [
       "<div>\n",
       "<table border=\"1\" class=\"dataframe\">\n",
       "  <thead>\n",
       "    <tr style=\"text-align: right;\">\n",
       "      <th></th>\n",
       "      <th>exon1</th>\n",
       "      <th>exon2</th>\n",
       "      <th>exon3</th>\n",
       "      <th>exon4</th>\n",
       "    </tr>\n",
       "    <tr>\n",
       "      <th>event_id</th>\n",
       "      <th></th>\n",
       "      <th></th>\n",
       "      <th></th>\n",
       "      <th></th>\n",
       "    </tr>\n",
       "  </thead>\n",
       "  <tbody>\n",
       "    <tr>\n",
       "      <th>exon:chr10:101480744-101480825:-@exon:chr10:101478103-101478257:-@exon:chr10:101476105-101476218:-</th>\n",
       "      <td>NaN</td>\n",
       "      <td>NaN</td>\n",
       "      <td>NaN</td>\n",
       "      <td>NaN</td>\n",
       "    </tr>\n",
       "    <tr>\n",
       "      <th>exon:chr10:102747070-102747240:-@exon:chr10:102746847-102746953:-@exon:chr10:102746506-102746732:-</th>\n",
       "      <td>NaN</td>\n",
       "      <td>NaN</td>\n",
       "      <td>NaN</td>\n",
       "      <td>NaN</td>\n",
       "    </tr>\n",
       "    <tr>\n",
       "      <th>exon:chr10:103113864-103113985:+@exon:chr10:103190102-103190209:+@exon:chr10:103221738-103221815:+</th>\n",
       "      <td>NaN</td>\n",
       "      <td>NaN</td>\n",
       "      <td>NaN</td>\n",
       "      <td>NaN</td>\n",
       "    </tr>\n",
       "    <tr>\n",
       "      <th>exon:chr10:103360960-103361093:+@exon:chr10:103364897-103364969:+@exon:chr10:103368592-103368694:+</th>\n",
       "      <td>NaN</td>\n",
       "      <td>NaN</td>\n",
       "      <td>NaN</td>\n",
       "      <td>NaN</td>\n",
       "    </tr>\n",
       "    <tr>\n",
       "      <th>exon:chr10:103360960-103361093:+@exon:chr10:103368592-103368694:+@exon:chr10:103369124-103369196:+</th>\n",
       "      <td>NaN</td>\n",
       "      <td>NaN</td>\n",
       "      <td>NaN</td>\n",
       "      <td>NaN</td>\n",
       "    </tr>\n",
       "  </tbody>\n",
       "</table>\n",
       "</div>"
      ],
      "text/plain": [
       "                                                   exon1 exon2 exon3 exon4\n",
       "event_id                                                                  \n",
       "exon:chr10:101480744-101480825:-@exon:chr10:101...   NaN   NaN   NaN   NaN\n",
       "exon:chr10:102747070-102747240:-@exon:chr10:102...   NaN   NaN   NaN   NaN\n",
       "exon:chr10:103113864-103113985:+@exon:chr10:103...   NaN   NaN   NaN   NaN\n",
       "exon:chr10:103360960-103361093:+@exon:chr10:103...   NaN   NaN   NaN   NaN\n",
       "exon:chr10:103360960-103361093:+@exon:chr10:103...   NaN   NaN   NaN   NaN"
      ]
     },
     "execution_count": 49,
     "metadata": {},
     "output_type": "execute_result"
    }
   ],
   "source": [
    "exon_cols = [x for x in study.splicing.feature_data if re.match('exon\\d$', x)]\n",
    "exon_cols\n",
    "\n",
    "exon_seqs = pd.DataFrame(index=feature_data_subset.index, columns=exon_cols)\n",
    "print(exon_seqs.shape)\n",
    "exon_seqs.head()"
   ]
  },
  {
   "cell_type": "code",
   "execution_count": 53,
   "metadata": {
    "collapsed": false
   },
   "outputs": [
    {
     "name": "stdout",
     "output_type": "stream",
     "text": [
      "(5602, 4)\n"
     ]
    },
    {
     "data": {
      "text/html": [
       "<div>\n",
       "<table border=\"1\" class=\"dataframe\">\n",
       "  <thead>\n",
       "    <tr style=\"text-align: right;\">\n",
       "      <th></th>\n",
       "      <th>exon1</th>\n",
       "      <th>exon2</th>\n",
       "      <th>exon3</th>\n",
       "      <th>exon4</th>\n",
       "    </tr>\n",
       "    <tr>\n",
       "      <th>event_id</th>\n",
       "      <th></th>\n",
       "      <th></th>\n",
       "      <th></th>\n",
       "      <th></th>\n",
       "    </tr>\n",
       "  </thead>\n",
       "  <tbody>\n",
       "    <tr>\n",
       "      <th>exon:chr10:101480744-101480825:-@exon:chr10:101478103-101478257:-@exon:chr10:101476105-101476218:-</th>\n",
       "      <td>TTGCCTGAAACCCACCAACTCCTACAGTTGAGACGATTTGCTCATG...</td>\n",
       "      <td>GGGCTTTTGTGGCAGGGCTAGATGCTGGGCTTGTTTATAACTCCTT...</td>\n",
       "      <td>GGAATCACTTCAGTCACTGCCATTACAGTGCTCTACTTCCTCTCTC...</td>\n",
       "      <td>NaN</td>\n",
       "    </tr>\n",
       "    <tr>\n",
       "      <th>exon:chr10:102747070-102747240:-@exon:chr10:102746847-102746953:-@exon:chr10:102746506-102746732:-</th>\n",
       "      <td>CTCCTCGCTGCTTAGGCTCCGCGGCCTCCAAGCTGTAGCTATGACG...</td>\n",
       "      <td>GGAGTTCGTGGAGCGGGAGGTGATCGACTTCGCCCGACGGAATCCA...</td>\n",
       "      <td>TTAACGGGGCTGTGCGCGAGGAGAGCATCCACTGCAAGTCGGTCGA...</td>\n",
       "      <td>NaN</td>\n",
       "    </tr>\n",
       "    <tr>\n",
       "      <th>exon:chr10:103113864-103113985:+@exon:chr10:103190102-103190209:+@exon:chr10:103221738-103221815:+</th>\n",
       "      <td>GGCGCTGCGTTGGCTGCGGCCTGGCACCAAAGGGGCGGCCCCGGCG...</td>\n",
       "      <td>TGCTCTATGCCCAGGTCTCTGTGGCTGGGCTGCTCCAGCCTGGCGG...</td>\n",
       "      <td>AATTCCTCAGAGAGAGAAGACTGTAATAATGGCGAACCCCCTAGGA...</td>\n",
       "      <td>NaN</td>\n",
       "    </tr>\n",
       "    <tr>\n",
       "      <th>exon:chr10:103360960-103361093:+@exon:chr10:103364897-103364969:+@exon:chr10:103368592-103368694:+</th>\n",
       "      <td>CCTATCTTCATGCGCAAGGACACCAAGATGAGTTTCCAGTGGCGGA...</td>\n",
       "      <td>GCGGACTGGTTGGAGGCTTCTCTGGACCCCTCTGGCCATGCGGTGT...</td>\n",
       "      <td>GTACTACAAGAAGTTCTCCATTCCTGATCTAGATAGACACCAGCTA...</td>\n",
       "      <td>NaN</td>\n",
       "    </tr>\n",
       "    <tr>\n",
       "      <th>exon:chr10:103360960-103361093:+@exon:chr10:103368592-103368694:+@exon:chr10:103369124-103369196:+</th>\n",
       "      <td>CCTATCTTCATGCGCAAGGACACCAAGATGAGTTTCCAGTGGCGGA...</td>\n",
       "      <td>GTACTACAAGAAGTTCTCCATTCCTGATCTAGATAGACACCAGCTA...</td>\n",
       "      <td>TACCAGAAGCCAAAGGAGGTTGTGGTGGCCGAGTCTGAGCTACAGA...</td>\n",
       "      <td>NaN</td>\n",
       "    </tr>\n",
       "  </tbody>\n",
       "</table>\n",
       "</div>"
      ],
      "text/plain": [
       "                                                                                                exon1  \\\n",
       "event_id                                                                                                \n",
       "exon:chr10:101480744-101480825:-@exon:chr10:101...  TTGCCTGAAACCCACCAACTCCTACAGTTGAGACGATTTGCTCATG...   \n",
       "exon:chr10:102747070-102747240:-@exon:chr10:102...  CTCCTCGCTGCTTAGGCTCCGCGGCCTCCAAGCTGTAGCTATGACG...   \n",
       "exon:chr10:103113864-103113985:+@exon:chr10:103...  GGCGCTGCGTTGGCTGCGGCCTGGCACCAAAGGGGCGGCCCCGGCG...   \n",
       "exon:chr10:103360960-103361093:+@exon:chr10:103...  CCTATCTTCATGCGCAAGGACACCAAGATGAGTTTCCAGTGGCGGA...   \n",
       "exon:chr10:103360960-103361093:+@exon:chr10:103...  CCTATCTTCATGCGCAAGGACACCAAGATGAGTTTCCAGTGGCGGA...   \n",
       "\n",
       "                                                                                                exon2  \\\n",
       "event_id                                                                                                \n",
       "exon:chr10:101480744-101480825:-@exon:chr10:101...  GGGCTTTTGTGGCAGGGCTAGATGCTGGGCTTGTTTATAACTCCTT...   \n",
       "exon:chr10:102747070-102747240:-@exon:chr10:102...  GGAGTTCGTGGAGCGGGAGGTGATCGACTTCGCCCGACGGAATCCA...   \n",
       "exon:chr10:103113864-103113985:+@exon:chr10:103...  TGCTCTATGCCCAGGTCTCTGTGGCTGGGCTGCTCCAGCCTGGCGG...   \n",
       "exon:chr10:103360960-103361093:+@exon:chr10:103...  GCGGACTGGTTGGAGGCTTCTCTGGACCCCTCTGGCCATGCGGTGT...   \n",
       "exon:chr10:103360960-103361093:+@exon:chr10:103...  GTACTACAAGAAGTTCTCCATTCCTGATCTAGATAGACACCAGCTA...   \n",
       "\n",
       "                                                                                                exon3  \\\n",
       "event_id                                                                                                \n",
       "exon:chr10:101480744-101480825:-@exon:chr10:101...  GGAATCACTTCAGTCACTGCCATTACAGTGCTCTACTTCCTCTCTC...   \n",
       "exon:chr10:102747070-102747240:-@exon:chr10:102...  TTAACGGGGCTGTGCGCGAGGAGAGCATCCACTGCAAGTCGGTCGA...   \n",
       "exon:chr10:103113864-103113985:+@exon:chr10:103...  AATTCCTCAGAGAGAGAAGACTGTAATAATGGCGAACCCCCTAGGA...   \n",
       "exon:chr10:103360960-103361093:+@exon:chr10:103...  GTACTACAAGAAGTTCTCCATTCCTGATCTAGATAGACACCAGCTA...   \n",
       "exon:chr10:103360960-103361093:+@exon:chr10:103...  TACCAGAAGCCAAAGGAGGTTGTGGTGGCCGAGTCTGAGCTACAGA...   \n",
       "\n",
       "                                                   exon4  \n",
       "event_id                                                  \n",
       "exon:chr10:101480744-101480825:-@exon:chr10:101...   NaN  \n",
       "exon:chr10:102747070-102747240:-@exon:chr10:102...   NaN  \n",
       "exon:chr10:103113864-103113985:+@exon:chr10:103...   NaN  \n",
       "exon:chr10:103360960-103361093:+@exon:chr10:103...   NaN  \n",
       "exon:chr10:103360960-103361093:+@exon:chr10:103...   NaN  "
      ]
     },
     "execution_count": 53,
     "metadata": {},
     "output_type": "execute_result"
    }
   ],
   "source": [
    "for event_id, row in feature_data_subset.iterrows():\n",
    "    for exon_i in exon_cols:\n",
    "        if isinstance(row[exon_i], str):\n",
    "            exon = Region(row[exon_i])\n",
    "            sequence = hg19[exon.chrom][(exon.start-1):exon.stop]\n",
    "            if exon.strand == '-':\n",
    "                sequence = -sequence\n",
    "            exon_seqs.loc[event_id, exon_i] = str(sequence)\n",
    "print(exon_seqs.shape)\n",
    "exon_seqs.head()"
   ]
  },
  {
   "cell_type": "code",
   "execution_count": 55,
   "metadata": {
    "collapsed": true
   },
   "outputs": [],
   "source": [
    "pd.options.display.max_colwidth = 200"
   ]
  },
  {
   "cell_type": "code",
   "execution_count": 56,
   "metadata": {
    "collapsed": false
   },
   "outputs": [
    {
     "data": {
      "text/html": [
       "<div>\n",
       "<table border=\"1\" class=\"dataframe\">\n",
       "  <thead>\n",
       "    <tr style=\"text-align: right;\">\n",
       "      <th></th>\n",
       "      <th>exon1</th>\n",
       "      <th>exon2</th>\n",
       "      <th>exon3</th>\n",
       "      <th>exon4</th>\n",
       "    </tr>\n",
       "    <tr>\n",
       "      <th>event_id</th>\n",
       "      <th></th>\n",
       "      <th></th>\n",
       "      <th></th>\n",
       "      <th></th>\n",
       "    </tr>\n",
       "  </thead>\n",
       "  <tbody>\n",
       "    <tr>\n",
       "      <th>exon:chrX:86887210-86887434:+@exon:chrX:86888749-86888911:+@exon:chrX:86890563-86890775:+</th>\n",
       "      <td>GTACTACTACTATTGAAAAATATGACCTCAGGACCAACAGTTGGCTACATATTGGCACCATGAATGGCCGTAGGCTTCAATTTGGAGTCGCAGTTATTGATAATAAGCTCTATGTCGTGGGAGGAAGAGACGGTTTAAAAACTTTGAATACAGTGGAATGTTTTAATCCAGTTGGCAAAATCTGGACTGTGATGCC...</td>\n",
       "      <td>GTGTAGCCACTCTTGAAGGACCAATGTATGCTGTAGGTGGTCATGATGGATGGAGCTATCTAAATACTGTAGAAAGATGGGACCCTGAGGGACGACAGTGGAATTACGTAGCCAGTATGTCAACTCCTAGAAGCACAGTTGGTGTTGTTGCATTAAACAACAA</td>\n",
       "      <td>ATTATATGCTATTGGTGGACGTGATGGAAGTTCCTGCCTCAAATCAATGGAATACTTTGACCCACACACTAACAAGTGGAGTTTGTGTGCTCCAATGTCCAAAAGACGTGGAGGTGTGGGAGTTGCCACATACAATGGATTCTTATATGTTGTAGGGGGGCATGATGCCCCTGCTTCCAACCATTGCTCCAGGCTT...</td>\n",
       "      <td>NaN</td>\n",
       "    </tr>\n",
       "    <tr>\n",
       "      <th>exon:chrY:14813160-14813984:+@exon:chrY:14821321-14821476:+@exon:chrY:14832522-14832670:+</th>\n",
       "      <td>TGAATAATTGAACTTTGTTTATTTCTCCATATTTTTGCAGTGGTAATTCCATTATAAAACCTAATGAAACAATGTTTTTATAGATGGTGTGGAAAGACTTTTCTGGGCTCAGAGGTGAAACTGACCCTTGTGTATCAGCAGCATTTCTGACTGACTGAGAGAGTGTAGTGATTAACAGAGTTGTGATGTTAGTTAA...</td>\n",
       "      <td>GATAACTACATAAAGAGACAAAAAAAAGAAAAAAGAGCAAAGATCTGTGCTGTGTCAAGTATGACAGCCATCACTCATGGCTCTCCAGTAGGAGGGAACGACAGCCAGGGCCAGGTTCTTGATGGCCAGTCTCAGCATCTCTTCCAACAGAACCAG</td>\n",
       "      <td>ACTTCATCACCTGATTCTTCCAATGAGAATTCCGTAGCAACTCCTCCTCCAGAGGAACAAGGGCAAGGTGATGCCCCACCACAGCATGAAGATGAAGAGCCTGCATTTCCACATACTGAGCTGGCAAACCTGGATGACATGATCAACAG</td>\n",
       "      <td>NaN</td>\n",
       "    </tr>\n",
       "    <tr>\n",
       "      <th>exon:chrY:15591134-15591384:-@exon:chrY:15582001-15582109:-@exon:chrY:15560897-15560946:-</th>\n",
       "      <td>TCCATCACCCGCCTGGTTGGCTGGCGATACTCTCCGGGAAGGCCTGGACGCAGCTTGCCCACGTTGATGACGGGGTCATCCTCAGCTTGGCACTCACCAATCTGTCGCTGTCGCTCTTGGACTCGGGAAGGAGCAAGTCACTGGCTTTCTCAGACCATTAACAAGCTCTGTGTCTCTCTCTCTACAGCCGTCTCTT...</td>\n",
       "      <td>GCTGTTCGCTGCTACGAATCTTTAATCTTAAAAGCTGAAGGAAAAGTGGAGTCTGACTTCTTTTGCCAATTAGGTCACTTCAACCTCTTGTTGGAAGATTATTCAAAAG</td>\n",
       "      <td>CATTATCTGCATATCAGAGATATTACAGTTTACAGGCTGACTACTGGAAG</td>\n",
       "      <td>NaN</td>\n",
       "    </tr>\n",
       "    <tr>\n",
       "      <th>exon:chrY:21903204-21903374:-@exon:chrY:21901414-21901548:-@exon:chrY:21897507-21897636:-</th>\n",
       "      <td>ATTGTGATTGAGGAAGGTGGCTATGAAGCCATCTGCAAGGATCGTCGGTGGGCTCGAGTTGCCCAGCGTCTCCACTACCCACCAGGCAAAAACATTGGCTCCCTGCTACGATCACATTACGAACGCATTATTTACCCCTATGAAATGTTTCAGTCTGGAGCCAACCATGTG</td>\n",
       "      <td>CAATGTAACACACACCCGTTTGACAATGAGGTAAAAGATAAGGAATACAAGCCCCACAGCATCCCCCTTAGACAGTCTGTGCAGCCTTCAAAGTTCAGCAGCTACAGTCGACGGGCAAAAAGGCTACAGCCTGAT</td>\n",
       "      <td>CCAGAGCCTACAGAGGAGGACATTGAGAAGCATCCAGAGCTAAAGAAGTTACAGATATATGGGCCAGGTCCCAAAATGATGGGCTTGGGCCTTATGGCTAAGGATAAGGATAAGACTGTGCATAAGAAAG</td>\n",
       "      <td>NaN</td>\n",
       "    </tr>\n",
       "    <tr>\n",
       "      <th>exon:chrY:21903621-21903743:-@exon:chrY:21903204-21903374:-@exon:chrY:21901414-21901548:-</th>\n",
       "      <td>GCCCAAACTAGAGTGAAATTGAACTATTTGGATCAGATTGCAAAATTCTGGGAAATTCAAGGCTCCTCTTTAAAGATTCCCAATGTGGAGCGGAAGATCTTGGACCTCTACAGCCTTAGTAAG</td>\n",
       "      <td>ATTGTGATTGAGGAAGGTGGCTATGAAGCCATCTGCAAGGATCGTCGGTGGGCTCGAGTTGCCCAGCGTCTCCACTACCCACCAGGCAAAAACATTGGCTCCCTGCTACGATCACATTACGAACGCATTATTTACCCCTATGAAATGTTTCAGTCTGGAGCCAACCATGTG</td>\n",
       "      <td>CAATGTAACACACACCCGTTTGACAATGAGGTAAAAGATAAGGAATACAAGCCCCACAGCATCCCCCTTAGACAGTCTGTGCAGCCTTCAAAGTTCAGCAGCTACAGTCGACGGGCAAAAAGGCTACAGCCTGAT</td>\n",
       "      <td>NaN</td>\n",
       "    </tr>\n",
       "  </tbody>\n",
       "</table>\n",
       "</div>"
      ],
      "text/plain": [
       "                                                                                                                                                                                                                                                                                             exon1  \\\n",
       "event_id                                                                                                                                                                                                                                                                                             \n",
       "exon:chrX:86887210-86887434:+@exon:chrX:86888749-86888911:+@exon:chrX:86890563-86890775:+  GTACTACTACTATTGAAAAATATGACCTCAGGACCAACAGTTGGCTACATATTGGCACCATGAATGGCCGTAGGCTTCAATTTGGAGTCGCAGTTATTGATAATAAGCTCTATGTCGTGGGAGGAAGAGACGGTTTAAAAACTTTGAATACAGTGGAATGTTTTAATCCAGTTGGCAAAATCTGGACTGTGATGCC...   \n",
       "exon:chrY:14813160-14813984:+@exon:chrY:14821321-14821476:+@exon:chrY:14832522-14832670:+  TGAATAATTGAACTTTGTTTATTTCTCCATATTTTTGCAGTGGTAATTCCATTATAAAACCTAATGAAACAATGTTTTTATAGATGGTGTGGAAAGACTTTTCTGGGCTCAGAGGTGAAACTGACCCTTGTGTATCAGCAGCATTTCTGACTGACTGAGAGAGTGTAGTGATTAACAGAGTTGTGATGTTAGTTAA...   \n",
       "exon:chrY:15591134-15591384:-@exon:chrY:15582001-15582109:-@exon:chrY:15560897-15560946:-  TCCATCACCCGCCTGGTTGGCTGGCGATACTCTCCGGGAAGGCCTGGACGCAGCTTGCCCACGTTGATGACGGGGTCATCCTCAGCTTGGCACTCACCAATCTGTCGCTGTCGCTCTTGGACTCGGGAAGGAGCAAGTCACTGGCTTTCTCAGACCATTAACAAGCTCTGTGTCTCTCTCTCTACAGCCGTCTCTT...   \n",
       "exon:chrY:21903204-21903374:-@exon:chrY:21901414-21901548:-@exon:chrY:21897507-21897636:-                              ATTGTGATTGAGGAAGGTGGCTATGAAGCCATCTGCAAGGATCGTCGGTGGGCTCGAGTTGCCCAGCGTCTCCACTACCCACCAGGCAAAAACATTGGCTCCCTGCTACGATCACATTACGAACGCATTATTTACCCCTATGAAATGTTTCAGTCTGGAGCCAACCATGTG   \n",
       "exon:chrY:21903621-21903743:-@exon:chrY:21903204-21903374:-@exon:chrY:21901414-21901548:-                                                                              GCCCAAACTAGAGTGAAATTGAACTATTTGGATCAGATTGCAAAATTCTGGGAAATTCAAGGCTCCTCTTTAAAGATTCCCAATGTGGAGCGGAAGATCTTGGACCTCTACAGCCTTAGTAAG   \n",
       "\n",
       "                                                                                                                                                                                                                                                                 exon2  \\\n",
       "event_id                                                                                                                                                                                                                                                                 \n",
       "exon:chrX:86887210-86887434:+@exon:chrX:86888749-86888911:+@exon:chrX:86890563-86890775:+          GTGTAGCCACTCTTGAAGGACCAATGTATGCTGTAGGTGGTCATGATGGATGGAGCTATCTAAATACTGTAGAAAGATGGGACCCTGAGGGACGACAGTGGAATTACGTAGCCAGTATGTCAACTCCTAGAAGCACAGTTGGTGTTGTTGCATTAAACAACAA   \n",
       "exon:chrY:14813160-14813984:+@exon:chrY:14821321-14821476:+@exon:chrY:14832522-14832670:+                 GATAACTACATAAAGAGACAAAAAAAAGAAAAAAGAGCAAAGATCTGTGCTGTGTCAAGTATGACAGCCATCACTCATGGCTCTCCAGTAGGAGGGAACGACAGCCAGGGCCAGGTTCTTGATGGCCAGTCTCAGCATCTCTTCCAACAGAACCAG   \n",
       "exon:chrY:15591134-15591384:-@exon:chrY:15582001-15582109:-@exon:chrY:15560897-15560946:-                                                                GCTGTTCGCTGCTACGAATCTTTAATCTTAAAAGCTGAAGGAAAAGTGGAGTCTGACTTCTTTTGCCAATTAGGTCACTTCAACCTCTTGTTGGAAGATTATTCAAAAG   \n",
       "exon:chrY:21903204-21903374:-@exon:chrY:21901414-21901548:-@exon:chrY:21897507-21897636:-                                      CAATGTAACACACACCCGTTTGACAATGAGGTAAAAGATAAGGAATACAAGCCCCACAGCATCCCCCTTAGACAGTCTGTGCAGCCTTCAAAGTTCAGCAGCTACAGTCGACGGGCAAAAAGGCTACAGCCTGAT   \n",
       "exon:chrY:21903621-21903743:-@exon:chrY:21903204-21903374:-@exon:chrY:21901414-21901548:-  ATTGTGATTGAGGAAGGTGGCTATGAAGCCATCTGCAAGGATCGTCGGTGGGCTCGAGTTGCCCAGCGTCTCCACTACCCACCAGGCAAAAACATTGGCTCCCTGCTACGATCACATTACGAACGCATTATTTACCCCTATGAAATGTTTCAGTCTGGAGCCAACCATGTG   \n",
       "\n",
       "                                                                                                                                                                                                                                                                                             exon3  \\\n",
       "event_id                                                                                                                                                                                                                                                                                             \n",
       "exon:chrX:86887210-86887434:+@exon:chrX:86888749-86888911:+@exon:chrX:86890563-86890775:+  ATTATATGCTATTGGTGGACGTGATGGAAGTTCCTGCCTCAAATCAATGGAATACTTTGACCCACACACTAACAAGTGGAGTTTGTGTGCTCCAATGTCCAAAAGACGTGGAGGTGTGGGAGTTGCCACATACAATGGATTCTTATATGTTGTAGGGGGGCATGATGCCCCTGCTTCCAACCATTGCTCCAGGCTT...   \n",
       "exon:chrY:14813160-14813984:+@exon:chrY:14821321-14821476:+@exon:chrY:14832522-14832670:+                                                    ACTTCATCACCTGATTCTTCCAATGAGAATTCCGTAGCAACTCCTCCTCCAGAGGAACAAGGGCAAGGTGATGCCCCACCACAGCATGAAGATGAAGAGCCTGCATTTCCACATACTGAGCTGGCAAACCTGGATGACATGATCAACAG   \n",
       "exon:chrY:15591134-15591384:-@exon:chrY:15582001-15582109:-@exon:chrY:15560897-15560946:-                                                                                                                                                       CATTATCTGCATATCAGAGATATTACAGTTTACAGGCTGACTACTGGAAG   \n",
       "exon:chrY:21903204-21903374:-@exon:chrY:21901414-21901548:-@exon:chrY:21897507-21897636:-                                                                       CCAGAGCCTACAGAGGAGGACATTGAGAAGCATCCAGAGCTAAAGAAGTTACAGATATATGGGCCAGGTCCCAAAATGATGGGCTTGGGCCTTATGGCTAAGGATAAGGATAAGACTGTGCATAAGAAAG   \n",
       "exon:chrY:21903621-21903743:-@exon:chrY:21903204-21903374:-@exon:chrY:21901414-21901548:-                                                                  CAATGTAACACACACCCGTTTGACAATGAGGTAAAAGATAAGGAATACAAGCCCCACAGCATCCCCCTTAGACAGTCTGTGCAGCCTTCAAAGTTCAGCAGCTACAGTCGACGGGCAAAAAGGCTACAGCCTGAT   \n",
       "\n",
       "                                                                                          exon4  \n",
       "event_id                                                                                         \n",
       "exon:chrX:86887210-86887434:+@exon:chrX:86888749-86888911:+@exon:chrX:86890563-86890775:+   NaN  \n",
       "exon:chrY:14813160-14813984:+@exon:chrY:14821321-14821476:+@exon:chrY:14832522-14832670:+   NaN  \n",
       "exon:chrY:15591134-15591384:-@exon:chrY:15582001-15582109:-@exon:chrY:15560897-15560946:-   NaN  \n",
       "exon:chrY:21903204-21903374:-@exon:chrY:21901414-21901548:-@exon:chrY:21897507-21897636:-   NaN  \n",
       "exon:chrY:21903621-21903743:-@exon:chrY:21903204-21903374:-@exon:chrY:21901414-21901548:-   NaN  "
      ]
     },
     "execution_count": 56,
     "metadata": {},
     "output_type": "execute_result"
    }
   ],
   "source": [
    "exon_seqs.tail()"
   ]
  },
  {
   "cell_type": "code",
   "execution_count": 57,
   "metadata": {
    "collapsed": true
   },
   "outputs": [],
   "source": [
    "import random"
   ]
  },
  {
   "cell_type": "code",
   "execution_count": 58,
   "metadata": {
    "collapsed": false
   },
   "outputs": [
    {
     "data": {
      "text/plain": [
       "'exon:chr9:128722963-128723128:+@exon:chr9:128724381-128724493:+@exon:chr9:128725291-128725380:+'"
      ]
     },
     "execution_count": 58,
     "metadata": {},
     "output_type": "execute_result"
    }
   ],
   "source": [
    "random_event = random.choice(exon_seqs.index)\n",
    "random_event"
   ]
  },
  {
   "cell_type": "code",
   "execution_count": 59,
   "metadata": {
    "collapsed": false
   },
   "outputs": [
    {
     "data": {
      "text/plain": [
       "exon1    GTATCCAATTGGTTTGGCAACAAACGAATCAGGTACAAGAAGAACATTGGCAAGTTTCAGGAAGAAGCCAACCTCTATGCTGCAAAGACGGCCGTGACAGCTGCACACGCAGTAGCAGCAGCTGTGCAGAACAACCAGACCAATTCGCCCACCACACCAAATTCCG\n",
       "exon2                                                         GTTCTTCTGGTTCTTTTAACCTCCCAAATTCTGGGGACATGTTCATGAACATGCAGAGTCTGAATGGGGATTCTTACCAAGGGTCCCAAGTCGGAGCCAATGTGCAATCACAG\n",
       "exon3                                                                                GTGGATACCCTCCGTCATGTTATCAATCAGACGGGAGGCTACAGTGATGGCCTTGGAGGAAATTCACTGTACAGTCCACATAATTTAAAT\n",
       "exon4                                                                                                                                                                       NaN\n",
       "Name: exon:chr9:128722963-128723128:+@exon:chr9:128724381-128724493:+@exon:chr9:128725291-128725380:+, dtype: object"
      ]
     },
     "execution_count": 59,
     "metadata": {},
     "output_type": "execute_result"
    }
   ],
   "source": [
    "exon_seqs.loc[random_event]"
   ]
  },
  {
   "cell_type": "code",
   "execution_count": 60,
   "metadata": {
    "collapsed": false
   },
   "outputs": [
    {
     "data": {
      "text/html": [
       "<div>\n",
       "<table border=\"1\" class=\"dataframe\">\n",
       "  <thead>\n",
       "    <tr style=\"text-align: right;\">\n",
       "      <th></th>\n",
       "      <th>exon1_sequence</th>\n",
       "      <th>exon2_sequence</th>\n",
       "      <th>exon3_sequence</th>\n",
       "      <th>exon4_sequence</th>\n",
       "    </tr>\n",
       "    <tr>\n",
       "      <th>event_id</th>\n",
       "      <th></th>\n",
       "      <th></th>\n",
       "      <th></th>\n",
       "      <th></th>\n",
       "    </tr>\n",
       "  </thead>\n",
       "  <tbody>\n",
       "    <tr>\n",
       "      <th>exon:chr10:101480744-101480825:-@exon:chr10:101478103-101478257:-@exon:chr10:101476105-101476218:-</th>\n",
       "      <td>TTGCCTGAAACCCACCAACTCCTACAGTTGAGACGATTTGCTCATGGAACAGCAGGTCTGGTGTTCCTTACGGCCCTCTCAG</td>\n",
       "      <td>GGGCTTTTGTGGCAGGGCTAGATGCTGGGCTTGTTTATAACTCCTTTCCCAAAATGGGAGAATCCTGGATCCCGGAGGACCTCTTTACCTTCTCCCCCATCCTGAGGAATGTTTTTGAGAATCCCACCATGGTGCAGTTTGATCACCGGATTCTG</td>\n",
       "      <td>GGAATCACTTCAGTCACTGCCATTACAGTGCTCTACTTCCTCTCTCGGAGAATTCCCCTTCCTAGAAGGACCAAGATGGCAGCAGTGACTCTGCTGGCTTTGGCGTATACACAG</td>\n",
       "      <td>NaN</td>\n",
       "    </tr>\n",
       "    <tr>\n",
       "      <th>exon:chr10:102747070-102747240:-@exon:chr10:102746847-102746953:-@exon:chr10:102746506-102746732:-</th>\n",
       "      <td>CTCCTCGCTGCTTAGGCTCCGCGGCCTCCAAGCTGTAGCTATGACGGCGCGCGGGACTCCGAGCCGCTTCTTGGCCAGCGTTCTCCACAACGGACTGGGTCGCTATGTGCAGCAGCTGCAGCGTCTGAGCTTCAGCGTCAGCCGCGACGGCGCCTCGTCTCGCGGCGCCAG</td>\n",
       "      <td>GGAGTTCGTGGAGCGGGAGGTGATCGACTTCGCCCGACGGAATCCAGGGGTCGTAATATATGTAAACTCGCGTCCGTGCTGCGTGCCCAGAGTAGTGGCCGAATACC</td>\n",
       "      <td>TTAACGGGGCTGTGCGCGAGGAGAGCATCCACTGCAAGTCGGTCGAGGAGATCTCGACGCTGGTGCAGAAGCTGGCCGACCAGTCGGGCTTGGACGTGATCCGCATCCGCAAGCCCTTCCACACCGACAACCCTAGCATCCAGGGCCAGTGGCACCCCTTCACCAACAAGCCGACCACGTTCCGCGGGCTACGCCC...</td>\n",
       "      <td>NaN</td>\n",
       "    </tr>\n",
       "    <tr>\n",
       "      <th>exon:chr10:103113864-103113985:+@exon:chr10:103190102-103190209:+@exon:chr10:103221738-103221815:+</th>\n",
       "      <td>GGCGCTGCGTTGGCTGCGGCCTGGCACCAAAGGGGCGGCCCCGGCGGAGAGCGGACCCAGTGGCCTCGGCGATTATGGACCCGGCCGAGGCGGTGCTGCAAGAGAAGGCACTCAAGTTTATG</td>\n",
       "      <td>TGCTCTATGCCCAGGTCTCTGTGGCTGGGCTGCTCCAGCCTGGCGGACAGCATGCCTTCGCTGCGATGCCTGTATAACCCAGGGACTGGCGCACTCACAGCTTTCCAG</td>\n",
       "      <td>AATTCCTCAGAGAGAGAAGACTGTAATAATGGCGAACCCCCTAGGAAGATAATACCAGAGAAGAATTCACTTAGACAG</td>\n",
       "      <td>NaN</td>\n",
       "    </tr>\n",
       "    <tr>\n",
       "      <th>exon:chr10:103360960-103361093:+@exon:chr10:103364897-103364969:+@exon:chr10:103368592-103368694:+</th>\n",
       "      <td>CCTATCTTCATGCGCAAGGACACCAAGATGAGTTTCCAGTGGCGGATTCGAAACCTCCCCTATCCTAAGGATGTCTATAGTGTCTCTGTGGACCAGAAGGAGCGCTGCATCATTGTCAGAACAACCAACAAGAA</td>\n",
       "      <td>GCGGACTGGTTGGAGGCTTCTCTGGACCCCTCTGGCCATGCGGTGTGCAGGTGTGCATGGCACCCCCTCTGAG</td>\n",
       "      <td>GTACTACAAGAAGTTCTCCATTCCTGATCTAGATAGACACCAGCTACCTCTGGATGACGCCTTGCTGAGCTTTGCCCACGCCAACTGCACCCTGATCATCTCT</td>\n",
       "      <td>NaN</td>\n",
       "    </tr>\n",
       "    <tr>\n",
       "      <th>exon:chr10:103360960-103361093:+@exon:chr10:103368592-103368694:+@exon:chr10:103369124-103369196:+</th>\n",
       "      <td>CCTATCTTCATGCGCAAGGACACCAAGATGAGTTTCCAGTGGCGGATTCGAAACCTCCCCTATCCTAAGGATGTCTATAGTGTCTCTGTGGACCAGAAGGAGCGCTGCATCATTGTCAGAACAACCAACAAGAA</td>\n",
       "      <td>GTACTACAAGAAGTTCTCCATTCCTGATCTAGATAGACACCAGCTACCTCTGGATGACGCCTTGCTGAGCTTTGCCCACGCCAACTGCACCCTGATCATCTCT</td>\n",
       "      <td>TACCAGAAGCCAAAGGAGGTTGTGGTGGCCGAGTCTGAGCTACAGAAGGAACTAAAGAAGGTGAAGACAGCCC</td>\n",
       "      <td>NaN</td>\n",
       "    </tr>\n",
       "  </tbody>\n",
       "</table>\n",
       "</div>"
      ],
      "text/plain": [
       "                                                                                                                                                                                                                                                                 exon1_sequence  \\\n",
       "event_id                                                                                                                                                                                                                                                                          \n",
       "exon:chr10:101480744-101480825:-@exon:chr10:101478103-101478257:-@exon:chr10:101476105-101476218:-                                                                                           TTGCCTGAAACCCACCAACTCCTACAGTTGAGACGATTTGCTCATGGAACAGCAGGTCTGGTGTTCCTTACGGCCCTCTCAG   \n",
       "exon:chr10:102747070-102747240:-@exon:chr10:102746847-102746953:-@exon:chr10:102746506-102746732:-  CTCCTCGCTGCTTAGGCTCCGCGGCCTCCAAGCTGTAGCTATGACGGCGCGCGGGACTCCGAGCCGCTTCTTGGCCAGCGTTCTCCACAACGGACTGGGTCGCTATGTGCAGCAGCTGCAGCGTCTGAGCTTCAGCGTCAGCCGCGACGGCGCCTCGTCTCGCGGCGCCAG   \n",
       "exon:chr10:103113864-103113985:+@exon:chr10:103190102-103190209:+@exon:chr10:103221738-103221815:+                                                   GGCGCTGCGTTGGCTGCGGCCTGGCACCAAAGGGGCGGCCCCGGCGGAGAGCGGACCCAGTGGCCTCGGCGATTATGGACCCGGCCGAGGCGGTGCTGCAAGAGAAGGCACTCAAGTTTATG   \n",
       "exon:chr10:103360960-103361093:+@exon:chr10:103364897-103364969:+@exon:chr10:103368592-103368694:+                                       CCTATCTTCATGCGCAAGGACACCAAGATGAGTTTCCAGTGGCGGATTCGAAACCTCCCCTATCCTAAGGATGTCTATAGTGTCTCTGTGGACCAGAAGGAGCGCTGCATCATTGTCAGAACAACCAACAAGAA   \n",
       "exon:chr10:103360960-103361093:+@exon:chr10:103368592-103368694:+@exon:chr10:103369124-103369196:+                                       CCTATCTTCATGCGCAAGGACACCAAGATGAGTTTCCAGTGGCGGATTCGAAACCTCCCCTATCCTAAGGATGTCTATAGTGTCTCTGTGGACCAGAAGGAGCGCTGCATCATTGTCAGAACAACCAACAAGAA   \n",
       "\n",
       "                                                                                                                                                                                                                                                 exon2_sequence  \\\n",
       "event_id                                                                                                                                                                                                                                                          \n",
       "exon:chr10:101480744-101480825:-@exon:chr10:101478103-101478257:-@exon:chr10:101476105-101476218:-  GGGCTTTTGTGGCAGGGCTAGATGCTGGGCTTGTTTATAACTCCTTTCCCAAAATGGGAGAATCCTGGATCCCGGAGGACCTCTTTACCTTCTCCCCCATCCTGAGGAATGTTTTTGAGAATCCCACCATGGTGCAGTTTGATCACCGGATTCTG   \n",
       "exon:chr10:102747070-102747240:-@exon:chr10:102746847-102746953:-@exon:chr10:102746506-102746732:-                                                  GGAGTTCGTGGAGCGGGAGGTGATCGACTTCGCCCGACGGAATCCAGGGGTCGTAATATATGTAAACTCGCGTCCGTGCTGCGTGCCCAGAGTAGTGGCCGAATACC   \n",
       "exon:chr10:103113864-103113985:+@exon:chr10:103190102-103190209:+@exon:chr10:103221738-103221815:+                                                 TGCTCTATGCCCAGGTCTCTGTGGCTGGGCTGCTCCAGCCTGGCGGACAGCATGCCTTCGCTGCGATGCCTGTATAACCCAGGGACTGGCGCACTCACAGCTTTCCAG   \n",
       "exon:chr10:103360960-103361093:+@exon:chr10:103364897-103364969:+@exon:chr10:103368592-103368694:+                                                                                    GCGGACTGGTTGGAGGCTTCTCTGGACCCCTCTGGCCATGCGGTGTGCAGGTGTGCATGGCACCCCCTCTGAG   \n",
       "exon:chr10:103360960-103361093:+@exon:chr10:103368592-103368694:+@exon:chr10:103369124-103369196:+                                                      GTACTACAAGAAGTTCTCCATTCCTGATCTAGATAGACACCAGCTACCTCTGGATGACGCCTTGCTGAGCTTTGCCCACGCCAACTGCACCCTGATCATCTCT   \n",
       "\n",
       "                                                                                                                                                                                                                                                                                             exon3_sequence  \\\n",
       "event_id                                                                                                                                                                                                                                                                                                      \n",
       "exon:chr10:101480744-101480825:-@exon:chr10:101478103-101478257:-@exon:chr10:101476105-101476218:-                                                                                       GGAATCACTTCAGTCACTGCCATTACAGTGCTCTACTTCCTCTCTCGGAGAATTCCCCTTCCTAGAAGGACCAAGATGGCAGCAGTGACTCTGCTGGCTTTGGCGTATACACAG   \n",
       "exon:chr10:102747070-102747240:-@exon:chr10:102746847-102746953:-@exon:chr10:102746506-102746732:-  TTAACGGGGCTGTGCGCGAGGAGAGCATCCACTGCAAGTCGGTCGAGGAGATCTCGACGCTGGTGCAGAAGCTGGCCGACCAGTCGGGCTTGGACGTGATCCGCATCCGCAAGCCCTTCCACACCGACAACCCTAGCATCCAGGGCCAGTGGCACCCCTTCACCAACAAGCCGACCACGTTCCGCGGGCTACGCCC...   \n",
       "exon:chr10:103113864-103113985:+@exon:chr10:103190102-103190209:+@exon:chr10:103221738-103221815:+                                                                                                                           AATTCCTCAGAGAGAGAAGACTGTAATAATGGCGAACCCCCTAGGAAGATAATACCAGAGAAGAATTCACTTAGACAG   \n",
       "exon:chr10:103360960-103361093:+@exon:chr10:103364897-103364969:+@exon:chr10:103368592-103368694:+                                                                                                  GTACTACAAGAAGTTCTCCATTCCTGATCTAGATAGACACCAGCTACCTCTGGATGACGCCTTGCTGAGCTTTGCCCACGCCAACTGCACCCTGATCATCTCT   \n",
       "exon:chr10:103360960-103361093:+@exon:chr10:103368592-103368694:+@exon:chr10:103369124-103369196:+                                                                                                                                TACCAGAAGCCAAAGGAGGTTGTGGTGGCCGAGTCTGAGCTACAGAAGGAACTAAAGAAGGTGAAGACAGCCC   \n",
       "\n",
       "                                                                                                   exon4_sequence  \n",
       "event_id                                                                                                           \n",
       "exon:chr10:101480744-101480825:-@exon:chr10:101478103-101478257:-@exon:chr10:101476105-101476218:-            NaN  \n",
       "exon:chr10:102747070-102747240:-@exon:chr10:102746847-102746953:-@exon:chr10:102746506-102746732:-            NaN  \n",
       "exon:chr10:103113864-103113985:+@exon:chr10:103190102-103190209:+@exon:chr10:103221738-103221815:+            NaN  \n",
       "exon:chr10:103360960-103361093:+@exon:chr10:103364897-103364969:+@exon:chr10:103368592-103368694:+            NaN  \n",
       "exon:chr10:103360960-103361093:+@exon:chr10:103368592-103368694:+@exon:chr10:103369124-103369196:+            NaN  "
      ]
     },
     "execution_count": 60,
     "metadata": {},
     "output_type": "execute_result"
    }
   ],
   "source": [
    "exon_seqs.columns = exon_seqs.columns + '_sequence'\n",
    "exon_seqs.head()"
   ]
  },
  {
   "cell_type": "code",
   "execution_count": 61,
   "metadata": {
    "collapsed": false
   },
   "outputs": [
    {
     "name": "stdout",
     "output_type": "stream",
     "text": [
      "(7079, 19)\n"
     ]
    },
    {
     "data": {
      "text/html": [
       "<div>\n",
       "<table border=\"1\" class=\"dataframe\">\n",
       "  <thead>\n",
       "    <tr style=\"text-align: right;\">\n",
       "      <th></th>\n",
       "      <th>phenotype</th>\n",
       "      <th>event_id</th>\n",
       "      <th>modality</th>\n",
       "      <th>exon1</th>\n",
       "      <th>exon1_length</th>\n",
       "      <th>exon2</th>\n",
       "      <th>exon2_length</th>\n",
       "      <th>exon3</th>\n",
       "      <th>exon3_length</th>\n",
       "      <th>exon4</th>\n",
       "      <th>exon4_length</th>\n",
       "      <th>exon2_divisible_by_3</th>\n",
       "      <th>ensembl_id</th>\n",
       "      <th>gene_name</th>\n",
       "      <th>splice_type</th>\n",
       "      <th>exon1_sequence</th>\n",
       "      <th>exon2_sequence</th>\n",
       "      <th>exon3_sequence</th>\n",
       "      <th>exon4_sequence</th>\n",
       "    </tr>\n",
       "  </thead>\n",
       "  <tbody>\n",
       "    <tr>\n",
       "      <th>1</th>\n",
       "      <td>MN</td>\n",
       "      <td>exon:chr10:101480744-101480825:-@exon:chr10:101478103-101478257:-@exon:chr10:101476105-101476218:-</td>\n",
       "      <td>bimodal</td>\n",
       "      <td>exon:chr10:101480744-101480825:-</td>\n",
       "      <td>82</td>\n",
       "      <td>exon:chr10:101478103-101478257:-</td>\n",
       "      <td>155</td>\n",
       "      <td>exon:chr10:101476105-101476218:-</td>\n",
       "      <td>114</td>\n",
       "      <td>NaN</td>\n",
       "      <td>NaN</td>\n",
       "      <td>False</td>\n",
       "      <td>ENSG00000014919</td>\n",
       "      <td>COX15</td>\n",
       "      <td>SE</td>\n",
       "      <td>TTGCCTGAAACCCACCAACTCCTACAGTTGAGACGATTTGCTCATGGAACAGCAGGTCTGGTGTTCCTTACGGCCCTCTCAG</td>\n",
       "      <td>GGGCTTTTGTGGCAGGGCTAGATGCTGGGCTTGTTTATAACTCCTTTCCCAAAATGGGAGAATCCTGGATCCCGGAGGACCTCTTTACCTTCTCCCCCATCCTGAGGAATGTTTTTGAGAATCCCACCATGGTGCAGTTTGATCACCGGATTCTG</td>\n",
       "      <td>GGAATCACTTCAGTCACTGCCATTACAGTGCTCTACTTCCTCTCTCGGAGAATTCCCCTTCCTAGAAGGACCAAGATGGCAGCAGTGACTCTGCTGGCTTTGGCGTATACACAG</td>\n",
       "      <td>NaN</td>\n",
       "    </tr>\n",
       "    <tr>\n",
       "      <th>4</th>\n",
       "      <td>MN</td>\n",
       "      <td>exon:chr10:102747070-102747240:-@exon:chr10:102746847-102746953:-@exon:chr10:102746506-102746732:-</td>\n",
       "      <td>bimodal</td>\n",
       "      <td>exon:chr10:102747070-102747240:-</td>\n",
       "      <td>171</td>\n",
       "      <td>exon:chr10:102746847-102746953:-</td>\n",
       "      <td>107</td>\n",
       "      <td>exon:chr10:102746506-102746732:-</td>\n",
       "      <td>227</td>\n",
       "      <td>NaN</td>\n",
       "      <td>NaN</td>\n",
       "      <td>False</td>\n",
       "      <td>ENSG00000055950</td>\n",
       "      <td>MRPL43</td>\n",
       "      <td>SE</td>\n",
       "      <td>CTCCTCGCTGCTTAGGCTCCGCGGCCTCCAAGCTGTAGCTATGACGGCGCGCGGGACTCCGAGCCGCTTCTTGGCCAGCGTTCTCCACAACGGACTGGGTCGCTATGTGCAGCAGCTGCAGCGTCTGAGCTTCAGCGTCAGCCGCGACGGCGCCTCGTCTCGCGGCGCCAG</td>\n",
       "      <td>GGAGTTCGTGGAGCGGGAGGTGATCGACTTCGCCCGACGGAATCCAGGGGTCGTAATATATGTAAACTCGCGTCCGTGCTGCGTGCCCAGAGTAGTGGCCGAATACC</td>\n",
       "      <td>TTAACGGGGCTGTGCGCGAGGAGAGCATCCACTGCAAGTCGGTCGAGGAGATCTCGACGCTGGTGCAGAAGCTGGCCGACCAGTCGGGCTTGGACGTGATCCGCATCCGCAAGCCCTTCCACACCGACAACCCTAGCATCCAGGGCCAGTGGCACCCCTTCACCAACAAGCCGACCACGTTCCGCGGGCTACGCCC...</td>\n",
       "      <td>NaN</td>\n",
       "    </tr>\n",
       "    <tr>\n",
       "      <th>6</th>\n",
       "      <td>MN</td>\n",
       "      <td>exon:chr10:103113864-103113985:+@exon:chr10:103190102-103190209:+@exon:chr10:103221738-103221815:+</td>\n",
       "      <td>bimodal</td>\n",
       "      <td>exon:chr10:103113864-103113985:+</td>\n",
       "      <td>122</td>\n",
       "      <td>exon:chr10:103190102-103190209:+</td>\n",
       "      <td>108</td>\n",
       "      <td>exon:chr10:103221738-103221815:+</td>\n",
       "      <td>78</td>\n",
       "      <td>NaN</td>\n",
       "      <td>NaN</td>\n",
       "      <td>True</td>\n",
       "      <td>ENSG00000166167</td>\n",
       "      <td>BTRC</td>\n",
       "      <td>SE</td>\n",
       "      <td>GGCGCTGCGTTGGCTGCGGCCTGGCACCAAAGGGGCGGCCCCGGCGGAGAGCGGACCCAGTGGCCTCGGCGATTATGGACCCGGCCGAGGCGGTGCTGCAAGAGAAGGCACTCAAGTTTATG</td>\n",
       "      <td>TGCTCTATGCCCAGGTCTCTGTGGCTGGGCTGCTCCAGCCTGGCGGACAGCATGCCTTCGCTGCGATGCCTGTATAACCCAGGGACTGGCGCACTCACAGCTTTCCAG</td>\n",
       "      <td>AATTCCTCAGAGAGAGAAGACTGTAATAATGGCGAACCCCCTAGGAAGATAATACCAGAGAAGAATTCACTTAGACAG</td>\n",
       "      <td>NaN</td>\n",
       "    </tr>\n",
       "    <tr>\n",
       "      <th>10</th>\n",
       "      <td>MN</td>\n",
       "      <td>exon:chr10:103360960-103361093:+@exon:chr10:103364897-103364969:+@exon:chr10:103368592-103368694:+</td>\n",
       "      <td>bimodal</td>\n",
       "      <td>exon:chr10:103360960-103361093:+</td>\n",
       "      <td>134</td>\n",
       "      <td>exon:chr10:103364897-103364969:+</td>\n",
       "      <td>73</td>\n",
       "      <td>exon:chr10:103368592-103368694:+</td>\n",
       "      <td>103</td>\n",
       "      <td>NaN</td>\n",
       "      <td>NaN</td>\n",
       "      <td>False</td>\n",
       "      <td>ENSG00000166171</td>\n",
       "      <td>DPCD</td>\n",
       "      <td>SE</td>\n",
       "      <td>CCTATCTTCATGCGCAAGGACACCAAGATGAGTTTCCAGTGGCGGATTCGAAACCTCCCCTATCCTAAGGATGTCTATAGTGTCTCTGTGGACCAGAAGGAGCGCTGCATCATTGTCAGAACAACCAACAAGAA</td>\n",
       "      <td>GCGGACTGGTTGGAGGCTTCTCTGGACCCCTCTGGCCATGCGGTGTGCAGGTGTGCATGGCACCCCCTCTGAG</td>\n",
       "      <td>GTACTACAAGAAGTTCTCCATTCCTGATCTAGATAGACACCAGCTACCTCTGGATGACGCCTTGCTGAGCTTTGCCCACGCCAACTGCACCCTGATCATCTCT</td>\n",
       "      <td>NaN</td>\n",
       "    </tr>\n",
       "    <tr>\n",
       "      <th>12</th>\n",
       "      <td>MN</td>\n",
       "      <td>exon:chr10:103360960-103361093:+@exon:chr10:103368592-103368694:+@exon:chr10:103369124-103369196:+</td>\n",
       "      <td>bimodal</td>\n",
       "      <td>exon:chr10:103360960-103361093:+</td>\n",
       "      <td>134</td>\n",
       "      <td>exon:chr10:103368592-103368694:+</td>\n",
       "      <td>103</td>\n",
       "      <td>exon:chr10:103369124-103369196:+</td>\n",
       "      <td>73</td>\n",
       "      <td>NaN</td>\n",
       "      <td>NaN</td>\n",
       "      <td>False</td>\n",
       "      <td>ENSG00000166171</td>\n",
       "      <td>DPCD</td>\n",
       "      <td>SE</td>\n",
       "      <td>CCTATCTTCATGCGCAAGGACACCAAGATGAGTTTCCAGTGGCGGATTCGAAACCTCCCCTATCCTAAGGATGTCTATAGTGTCTCTGTGGACCAGAAGGAGCGCTGCATCATTGTCAGAACAACCAACAAGAA</td>\n",
       "      <td>GTACTACAAGAAGTTCTCCATTCCTGATCTAGATAGACACCAGCTACCTCTGGATGACGCCTTGCTGAGCTTTGCCCACGCCAACTGCACCCTGATCATCTCT</td>\n",
       "      <td>TACCAGAAGCCAAAGGAGGTTGTGGTGGCCGAGTCTGAGCTACAGAAGGAACTAAAGAAGGTGAAGACAGCCC</td>\n",
       "      <td>NaN</td>\n",
       "    </tr>\n",
       "  </tbody>\n",
       "</table>\n",
       "</div>"
      ],
      "text/plain": [
       "   phenotype  \\\n",
       "1         MN   \n",
       "4         MN   \n",
       "6         MN   \n",
       "10        MN   \n",
       "12        MN   \n",
       "\n",
       "                                                                                              event_id  \\\n",
       "1   exon:chr10:101480744-101480825:-@exon:chr10:101478103-101478257:-@exon:chr10:101476105-101476218:-   \n",
       "4   exon:chr10:102747070-102747240:-@exon:chr10:102746847-102746953:-@exon:chr10:102746506-102746732:-   \n",
       "6   exon:chr10:103113864-103113985:+@exon:chr10:103190102-103190209:+@exon:chr10:103221738-103221815:+   \n",
       "10  exon:chr10:103360960-103361093:+@exon:chr10:103364897-103364969:+@exon:chr10:103368592-103368694:+   \n",
       "12  exon:chr10:103360960-103361093:+@exon:chr10:103368592-103368694:+@exon:chr10:103369124-103369196:+   \n",
       "\n",
       "   modality                             exon1  exon1_length  \\\n",
       "1   bimodal  exon:chr10:101480744-101480825:-            82   \n",
       "4   bimodal  exon:chr10:102747070-102747240:-           171   \n",
       "6   bimodal  exon:chr10:103113864-103113985:+           122   \n",
       "10  bimodal  exon:chr10:103360960-103361093:+           134   \n",
       "12  bimodal  exon:chr10:103360960-103361093:+           134   \n",
       "\n",
       "                               exon2  exon2_length  \\\n",
       "1   exon:chr10:101478103-101478257:-           155   \n",
       "4   exon:chr10:102746847-102746953:-           107   \n",
       "6   exon:chr10:103190102-103190209:+           108   \n",
       "10  exon:chr10:103364897-103364969:+            73   \n",
       "12  exon:chr10:103368592-103368694:+           103   \n",
       "\n",
       "                               exon3  exon3_length exon4  exon4_length  \\\n",
       "1   exon:chr10:101476105-101476218:-           114   NaN           NaN   \n",
       "4   exon:chr10:102746506-102746732:-           227   NaN           NaN   \n",
       "6   exon:chr10:103221738-103221815:+            78   NaN           NaN   \n",
       "10  exon:chr10:103368592-103368694:+           103   NaN           NaN   \n",
       "12  exon:chr10:103369124-103369196:+            73   NaN           NaN   \n",
       "\n",
       "   exon2_divisible_by_3       ensembl_id gene_name splice_type  \\\n",
       "1                 False  ENSG00000014919     COX15          SE   \n",
       "4                 False  ENSG00000055950    MRPL43          SE   \n",
       "6                  True  ENSG00000166167      BTRC          SE   \n",
       "10                False  ENSG00000166171      DPCD          SE   \n",
       "12                False  ENSG00000166171      DPCD          SE   \n",
       "\n",
       "                                                                                                                                                                 exon1_sequence  \\\n",
       "1                                                                                            TTGCCTGAAACCCACCAACTCCTACAGTTGAGACGATTTGCTCATGGAACAGCAGGTCTGGTGTTCCTTACGGCCCTCTCAG   \n",
       "4   CTCCTCGCTGCTTAGGCTCCGCGGCCTCCAAGCTGTAGCTATGACGGCGCGCGGGACTCCGAGCCGCTTCTTGGCCAGCGTTCTCCACAACGGACTGGGTCGCTATGTGCAGCAGCTGCAGCGTCTGAGCTTCAGCGTCAGCCGCGACGGCGCCTCGTCTCGCGGCGCCAG   \n",
       "6                                                    GGCGCTGCGTTGGCTGCGGCCTGGCACCAAAGGGGCGGCCCCGGCGGAGAGCGGACCCAGTGGCCTCGGCGATTATGGACCCGGCCGAGGCGGTGCTGCAAGAGAAGGCACTCAAGTTTATG   \n",
       "10                                       CCTATCTTCATGCGCAAGGACACCAAGATGAGTTTCCAGTGGCGGATTCGAAACCTCCCCTATCCTAAGGATGTCTATAGTGTCTCTGTGGACCAGAAGGAGCGCTGCATCATTGTCAGAACAACCAACAAGAA   \n",
       "12                                       CCTATCTTCATGCGCAAGGACACCAAGATGAGTTTCCAGTGGCGGATTCGAAACCTCCCCTATCCTAAGGATGTCTATAGTGTCTCTGTGGACCAGAAGGAGCGCTGCATCATTGTCAGAACAACCAACAAGAA   \n",
       "\n",
       "                                                                                                                                                 exon2_sequence  \\\n",
       "1   GGGCTTTTGTGGCAGGGCTAGATGCTGGGCTTGTTTATAACTCCTTTCCCAAAATGGGAGAATCCTGGATCCCGGAGGACCTCTTTACCTTCTCCCCCATCCTGAGGAATGTTTTTGAGAATCCCACCATGGTGCAGTTTGATCACCGGATTCTG   \n",
       "4                                                   GGAGTTCGTGGAGCGGGAGGTGATCGACTTCGCCCGACGGAATCCAGGGGTCGTAATATATGTAAACTCGCGTCCGTGCTGCGTGCCCAGAGTAGTGGCCGAATACC   \n",
       "6                                                  TGCTCTATGCCCAGGTCTCTGTGGCTGGGCTGCTCCAGCCTGGCGGACAGCATGCCTTCGCTGCGATGCCTGTATAACCCAGGGACTGGCGCACTCACAGCTTTCCAG   \n",
       "10                                                                                    GCGGACTGGTTGGAGGCTTCTCTGGACCCCTCTGGCCATGCGGTGTGCAGGTGTGCATGGCACCCCCTCTGAG   \n",
       "12                                                      GTACTACAAGAAGTTCTCCATTCCTGATCTAGATAGACACCAGCTACCTCTGGATGACGCCTTGCTGAGCTTTGCCCACGCCAACTGCACCCTGATCATCTCT   \n",
       "\n",
       "                                                                                                                                                                                             exon3_sequence  \\\n",
       "1                                                                                        GGAATCACTTCAGTCACTGCCATTACAGTGCTCTACTTCCTCTCTCGGAGAATTCCCCTTCCTAGAAGGACCAAGATGGCAGCAGTGACTCTGCTGGCTTTGGCGTATACACAG   \n",
       "4   TTAACGGGGCTGTGCGCGAGGAGAGCATCCACTGCAAGTCGGTCGAGGAGATCTCGACGCTGGTGCAGAAGCTGGCCGACCAGTCGGGCTTGGACGTGATCCGCATCCGCAAGCCCTTCCACACCGACAACCCTAGCATCCAGGGCCAGTGGCACCCCTTCACCAACAAGCCGACCACGTTCCGCGGGCTACGCCC...   \n",
       "6                                                                                                                            AATTCCTCAGAGAGAGAAGACTGTAATAATGGCGAACCCCCTAGGAAGATAATACCAGAGAAGAATTCACTTAGACAG   \n",
       "10                                                                                                  GTACTACAAGAAGTTCTCCATTCCTGATCTAGATAGACACCAGCTACCTCTGGATGACGCCTTGCTGAGCTTTGCCCACGCCAACTGCACCCTGATCATCTCT   \n",
       "12                                                                                                                                TACCAGAAGCCAAAGGAGGTTGTGGTGGCCGAGTCTGAGCTACAGAAGGAACTAAAGAAGGTGAAGACAGCCC   \n",
       "\n",
       "   exon4_sequence  \n",
       "1             NaN  \n",
       "4             NaN  \n",
       "6             NaN  \n",
       "10            NaN  \n",
       "12            NaN  "
      ]
     },
     "execution_count": 61,
     "metadata": {},
     "output_type": "execute_result"
    }
   ],
   "source": [
    "bimodal_sequences = bimodal_metadata.join(exon_seqs, on='event_id')\n",
    "print(bimodal_sequences.shape)\n",
    "bimodal_sequences.head()"
   ]
  },
  {
   "cell_type": "code",
   "execution_count": 62,
   "metadata": {
    "collapsed": true
   },
   "outputs": [],
   "source": [
    "bimodal_sequences.to_csv('/projects/ps-yeolab/obotvinnik/singlecell_pnms/csvs_for_paper/bimodal_metadata_sequences.csv', index=False)"
   ]
  },
  {
   "cell_type": "markdown",
   "metadata": {},
   "source": [
    "## Make violinplots"
   ]
  },
  {
   "cell_type": "code",
   "execution_count": 65,
   "metadata": {
    "collapsed": true
   },
   "outputs": [],
   "source": [
    "folder = 'figures/bimodal_violinplots'\n",
    "! mkdir -p $folder"
   ]
  },
  {
   "cell_type": "code",
   "execution_count": 66,
   "metadata": {
    "collapsed": false
   },
   "outputs": [
    {
     "data": {
      "image/png": "[encoded data removed]",
      "text/plain": [
       "<matplotlib.figure.Figure at 0x2adc44616990>"
      ]
     },
     "metadata": {},
     "output_type": "display_data"
    },
    {
     "data": {
      "image/png": "[encoded data removed]",
      "text/plain": [
       "<matplotlib.figure.Figure at 0x2adc41f58710>"
      ]
     },
     "metadata": {},
     "output_type": "display_data"
    },
    {
     "data": {
      "image/png": "[encoded data removed]",
      "text/plain": [
       "<matplotlib.figure.Figure at 0x2adc41ad7e50>"
      ]
     },
     "metadata": {},
     "output_type": "display_data"
    },
    {
     "data": {
      "image/png": "[encoded data removed]",
      "text/plain": [
       "<matplotlib.figure.Figure at 0x2adc41716d10>"
      ]
     },
     "metadata": {},
     "output_type": "display_data"
    },
    {
     "data": {
      "image/png": "[encoded data removed]",
      "text/plain": [
       "<matplotlib.figure.Figure at 0x2adc4136c510>"
      ]
     },
     "metadata": {},
     "output_type": "display_data"
    },
    {
     "data": {
      "image/png": "[encoded data removed]",
      "text/plain": [
       "<matplotlib.figure.Figure at 0x2adc410e6f10>"
      ]
     },
     "metadata": {},
     "output_type": "display_data"
    },
    {
     "data": {
      "image/png": "[encoded data removed]",
      "text/plain": [
       "<matplotlib.figure.Figure at 0x2adc41112650>"
      ]
     },
     "metadata": {},
     "output_type": "display_data"
    }
   ],
   "source": [
    "for i, (event_id, df) in enumerate(bimodal.groupby('event_id')):\n",
    "    study.plot_event(event_id, sample_subset='~outlier')\n",
    "    fig = plt.gcf()\n",
    "    symbol = study.splicing.feature_data.loc[event_id, 'gene_name']\n",
    "    ensembl = study.splicing.feature_data.loc[event_id, 'ensembl_id']\n",
    "    \n",
    "    fig.savefig('{folder}/{symbol}_{ensembl}_{event_id}'.format(\n",
    "            folder=folder, symbol=symbol, event_id=event_id, ensembl=ensembl))\n",
    "    if i > 5:\n",
    "        break"
   ]
  },
  {
   "cell_type": "code",
   "execution_count": null,
   "metadata": {
    "collapsed": true
   },
   "outputs": [],
   "source": []
  }
 ],
 "metadata": {
  "kernelspec": {
   "display_name": "Python 2",
   "language": "python",
   "name": "python2"
  },
  "language_info": {
   "codemirror_mode": {
    "name": "ipython",
    "version": 2
   },
   "file_extension": ".py",
   "mimetype": "text/x-python",
   "name": "python",
   "nbconvert_exporter": "python",
   "pygments_lexer": "ipython2",
   "version": "2.7.11"
  }
 },
 "nbformat": 4,
 "nbformat_minor": 0
}
