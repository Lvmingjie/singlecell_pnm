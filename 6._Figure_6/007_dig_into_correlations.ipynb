{
 "cells": [
  {
   "cell_type": "code",
   "execution_count": 103,
   "metadata": {
    "collapsed": false
   },
   "outputs": [],
   "source": [
    "folder = 'figures/007_dig_into_correlations'\n",
    "! mkdir $folder"
   ]
  },
  {
   "cell_type": "code",
   "execution_count": 104,
   "metadata": {
    "collapsed": false
   },
   "outputs": [
    {
     "name": "stdout",
     "output_type": "stream",
     "text": [
      "The autoreload extension is already loaded. To reload it, use:\n",
      "  %reload_ext autoreload\n",
      "2016-11-07 11:14:27\tReading datapackage from /projects/ps-yeolab/obotvinnik/flotilla_projects/singlecell_pnm_figure6_splicing_correlation_permuted/datapackage.json\n",
      "2016-11-07 11:14:27\tParsing datapackage to create a Study object\n",
      "https://s3-us-west-2.amazonaws.com/flotilla-projects/ercc/ERCC_Controls.txt has not been downloaded before.\n",
      "\tDownloading now to /home/obotvinnik/flotilla_projects/hg19/ERCC_Controls.txt\n",
      "2016-11-07 11:16:01 \tInitializing Study\n",
      "2016-11-07 11:16:01 \tInitializing Predictor configuration manager for Study\n",
      "2016-11-07 11:16:01\tPredictor ExtraTreesClassifier is of type <class 'sklearn.ensemble.forest.ExtraTreesClassifier'>\n",
      "2016-11-07 11:16:01\tAdded ExtraTreesClassifier to default predictors\n",
      "2016-11-07 11:16:01\tPredictor ExtraTreesRegressor is of type <class 'sklearn.ensemble.forest.ExtraTreesRegressor'>\n",
      "2016-11-07 11:16:01\tAdded ExtraTreesRegressor to default predictors\n",
      "2016-11-07 11:16:01\tPredictor GradientBoostingClassifier is of type <class 'sklearn.ensemble.gradient_boosting.GradientBoostingClassifier'>\n",
      "2016-11-07 11:16:01\tAdded GradientBoostingClassifier to default predictors\n",
      "2016-11-07 11:16:01\tPredictor GradientBoostingRegressor is of type <class 'sklearn.ensemble.gradient_boosting.GradientBoostingRegressor'>\n",
      "2016-11-07 11:16:01\tAdded GradientBoostingRegressor to default predictors\n",
      "2016-11-07 11:16:05 \tBuilding Gene Ontology database...\n",
      "2016-11-07 11:16:14 \t\tDone\n",
      "2016-11-07 11:16:15 \tLoading metadata\n",
      "2016-11-07 11:16:15\tLoading expression data\n",
      "2016-11-07 11:16:15\tInitializing expression\n",
      "2016-11-07 11:16:15\tDone initializing expression\n",
      "2016-11-07 11:16:17\tLoading splicing data\n",
      "2016-11-07 11:16:17\tInitializing splicing\n",
      "2016-11-07 11:16:17\tDone initializing splicing\n",
      "2016-11-07 11:16:17\tSuccessfully initialized a Study object!\n"
     ]
    },
    {
     "name": "stderr",
     "output_type": "stream",
     "text": [
      "Error loading species hg19 data: HTTP Error 404: Not Found"
     ]
    }
   ],
   "source": [
    "from __future__ import print_function\n",
    "\n",
    "import matplotlib.pyplot as plt\n",
    "import seaborn as sns\n",
    "import numpy as np\n",
    "import pandas as pd\n",
    "\n",
    "from anchor.visualize import MODALITY_TO_COLOR, MODALITY_ORDER, MODALITY_PALETTE\n",
    "modality_order = MODALITY_ORDER\n",
    "\n",
    "sns.set(style='ticks', context='talk', rc={'font.sans-serif':'Arial', 'pdf.fonttype': 42})\n",
    "\n",
    "%matplotlib inline\n",
    "\n",
    "%load_ext autoreload\n",
    "%autoreload 2\n",
    "\n",
    "\n",
    "import flotilla\n",
    "study = flotilla.embark('singlecell_pnm_figure6_splicing_correlation_permuted', \n",
    "                        flotilla_dir='/projects/ps-yeolab/obotvinnik/flotilla_projects/')\n",
    "# study = flotilla.embark('singlecell_pnm_figure1_supplementary_post_splicing_filtering')"
   ]
  },
  {
   "cell_type": "code",
   "execution_count": 105,
   "metadata": {
    "collapsed": true
   },
   "outputs": [],
   "source": [
    "means = study.supplemental.splicing_expression_corr_with_permuted.groupby(['Splicing Gene', 'dataset'])['Pearson R'].mean()\n",
    "stds = study.supplemental.splicing_expression_corr_with_permuted.groupby(['Splicing Gene', 'dataset'])['Pearson R'].std()\n"
   ]
  },
  {
   "cell_type": "code",
   "execution_count": null,
   "metadata": {
    "collapsed": true
   },
   "outputs": [],
   "source": [
    "multiplier = 3"
   ]
  },
  {
   "cell_type": "code",
   "execution_count": null,
   "metadata": {
    "collapsed": true
   },
   "outputs": [],
   "source": [
    "lower_bound = means - multiplier*stds\n",
    "lower_bound"
   ]
  },
  {
   "cell_type": "code",
   "execution_count": null,
   "metadata": {
    "collapsed": true
   },
   "outputs": [],
   "source": [
    "upper_bound = means + multiplier*stds\n",
    "upper_bound"
   ]
  },
  {
   "cell_type": "code",
   "execution_count": null,
   "metadata": {
    "collapsed": true
   },
   "outputs": [],
   "source": [
    "splicing_genes = 'PKM', 'SMARCE1', 'SNAP25'"
   ]
  },
  {
   "cell_type": "code",
   "execution_count": 3,
   "metadata": {
    "collapsed": false
   },
   "outputs": [
    {
     "data": {
      "text/html": [
       "<div>\n",
       "<table border=\"1\" class=\"dataframe\">\n",
       "  <thead>\n",
       "    <tr style=\"text-align: right;\">\n",
       "      <th></th>\n",
       "      <th>Splicing Gene</th>\n",
       "      <th>level_1</th>\n",
       "      <th>Pearson R</th>\n",
       "      <th>dataset</th>\n",
       "    </tr>\n",
       "  </thead>\n",
       "  <tbody>\n",
       "    <tr>\n",
       "      <th>0</th>\n",
       "      <td>PKM</td>\n",
       "      <td>ENSG00000000003</td>\n",
       "      <td>0.050616</td>\n",
       "      <td>Actual</td>\n",
       "    </tr>\n",
       "    <tr>\n",
       "      <th>1</th>\n",
       "      <td>PKM</td>\n",
       "      <td>ENSG00000000419</td>\n",
       "      <td>-0.121469</td>\n",
       "      <td>Actual</td>\n",
       "    </tr>\n",
       "    <tr>\n",
       "      <th>2</th>\n",
       "      <td>PKM</td>\n",
       "      <td>ENSG00000000457</td>\n",
       "      <td>0.057363</td>\n",
       "      <td>Actual</td>\n",
       "    </tr>\n",
       "    <tr>\n",
       "      <th>3</th>\n",
       "      <td>PKM</td>\n",
       "      <td>ENSG00000000460</td>\n",
       "      <td>0.047255</td>\n",
       "      <td>Actual</td>\n",
       "    </tr>\n",
       "    <tr>\n",
       "      <th>4</th>\n",
       "      <td>PKM</td>\n",
       "      <td>ENSG00000001036</td>\n",
       "      <td>-0.320053</td>\n",
       "      <td>Actual</td>\n",
       "    </tr>\n",
       "  </tbody>\n",
       "</table>\n",
       "</div>"
      ],
      "text/plain": [
       "  Splicing Gene          level_1  Pearson R dataset\n",
       "0           PKM  ENSG00000000003   0.050616  Actual\n",
       "1           PKM  ENSG00000000419  -0.121469  Actual\n",
       "2           PKM  ENSG00000000457   0.057363  Actual\n",
       "3           PKM  ENSG00000000460   0.047255  Actual\n",
       "4           PKM  ENSG00000001036  -0.320053  Actual"
      ]
     },
     "execution_count": 3,
     "metadata": {},
     "output_type": "execute_result"
    }
   ],
   "source": [
    "study.supplemental.splicing_expression_corr.head()"
   ]
  },
  {
   "cell_type": "code",
   "execution_count": 4,
   "metadata": {
    "collapsed": false
   },
   "outputs": [
    {
     "name": "stdout",
     "output_type": "stream",
     "text": [
      "(17458, 4)\n"
     ]
    },
    {
     "data": {
      "text/html": [
       "<div>\n",
       "<table border=\"1\" class=\"dataframe\">\n",
       "  <thead>\n",
       "    <tr style=\"text-align: right;\">\n",
       "      <th></th>\n",
       "      <th>Splicing Gene</th>\n",
       "      <th>level_1</th>\n",
       "      <th>Pearson R</th>\n",
       "      <th>dataset</th>\n",
       "    </tr>\n",
       "  </thead>\n",
       "  <tbody>\n",
       "    <tr>\n",
       "      <th>0</th>\n",
       "      <td>PKM</td>\n",
       "      <td>ENSG00000000003</td>\n",
       "      <td>0.050616</td>\n",
       "      <td>Actual</td>\n",
       "    </tr>\n",
       "    <tr>\n",
       "      <th>1</th>\n",
       "      <td>PKM</td>\n",
       "      <td>ENSG00000000419</td>\n",
       "      <td>-0.121469</td>\n",
       "      <td>Actual</td>\n",
       "    </tr>\n",
       "    <tr>\n",
       "      <th>2</th>\n",
       "      <td>PKM</td>\n",
       "      <td>ENSG00000000457</td>\n",
       "      <td>0.057363</td>\n",
       "      <td>Actual</td>\n",
       "    </tr>\n",
       "    <tr>\n",
       "      <th>3</th>\n",
       "      <td>PKM</td>\n",
       "      <td>ENSG00000000460</td>\n",
       "      <td>0.047255</td>\n",
       "      <td>Actual</td>\n",
       "    </tr>\n",
       "    <tr>\n",
       "      <th>4</th>\n",
       "      <td>PKM</td>\n",
       "      <td>ENSG00000001036</td>\n",
       "      <td>-0.320053</td>\n",
       "      <td>Actual</td>\n",
       "    </tr>\n",
       "  </tbody>\n",
       "</table>\n",
       "</div>"
      ],
      "text/plain": [
       "  Splicing Gene          level_1  Pearson R dataset\n",
       "0           PKM  ENSG00000000003   0.050616  Actual\n",
       "1           PKM  ENSG00000000419  -0.121469  Actual\n",
       "2           PKM  ENSG00000000457   0.057363  Actual\n",
       "3           PKM  ENSG00000000460   0.047255  Actual\n",
       "4           PKM  ENSG00000001036  -0.320053  Actual"
      ]
     },
     "execution_count": 4,
     "metadata": {},
     "output_type": "execute_result"
    }
   ],
   "source": [
    "df = study.supplemental.splicing_expression_corr\n",
    "rows = (df['Splicing Gene'] == \"PKM\") & (df['dataset'] == 'Actual')\n",
    "pkm = df.loc[rows]\n",
    "print(pkm.shape)\n",
    "pkm.head()"
   ]
  },
  {
   "cell_type": "markdown",
   "metadata": {},
   "source": [
    "From permutation analysis"
   ]
  },
  {
   "cell_type": "code",
   "execution_count": 5,
   "metadata": {
    "collapsed": false
   },
   "outputs": [],
   "source": [
    "lower_bound = -0.474251\n",
    "upper_bound = 0.474338"
   ]
  },
  {
   "cell_type": "code",
   "execution_count": 6,
   "metadata": {
    "collapsed": false
   },
   "outputs": [
    {
     "name": "stdout",
     "output_type": "stream",
     "text": [
      "(360, 4)\n"
     ]
    },
    {
     "data": {
      "text/html": [
       "<div>\n",
       "<table border=\"1\" class=\"dataframe\">\n",
       "  <thead>\n",
       "    <tr style=\"text-align: right;\">\n",
       "      <th></th>\n",
       "      <th>Splicing Gene</th>\n",
       "      <th>level_1</th>\n",
       "      <th>Pearson R</th>\n",
       "      <th>dataset</th>\n",
       "    </tr>\n",
       "  </thead>\n",
       "  <tbody>\n",
       "    <tr>\n",
       "      <th>7</th>\n",
       "      <td>PKM</td>\n",
       "      <td>ENSG00000001460</td>\n",
       "      <td>-0.481463</td>\n",
       "      <td>Actual</td>\n",
       "    </tr>\n",
       "    <tr>\n",
       "      <th>38</th>\n",
       "      <td>PKM</td>\n",
       "      <td>ENSG00000004399</td>\n",
       "      <td>-0.528088</td>\n",
       "      <td>Actual</td>\n",
       "    </tr>\n",
       "    <tr>\n",
       "      <th>100</th>\n",
       "      <td>PKM</td>\n",
       "      <td>ENSG00000006327</td>\n",
       "      <td>-0.520701</td>\n",
       "      <td>Actual</td>\n",
       "    </tr>\n",
       "    <tr>\n",
       "      <th>111</th>\n",
       "      <td>PKM</td>\n",
       "      <td>ENSG00000006625</td>\n",
       "      <td>-0.527317</td>\n",
       "      <td>Actual</td>\n",
       "    </tr>\n",
       "    <tr>\n",
       "      <th>164</th>\n",
       "      <td>PKM</td>\n",
       "      <td>ENSG00000008394</td>\n",
       "      <td>-0.524712</td>\n",
       "      <td>Actual</td>\n",
       "    </tr>\n",
       "  </tbody>\n",
       "</table>\n",
       "</div>"
      ],
      "text/plain": [
       "    Splicing Gene          level_1  Pearson R dataset\n",
       "7             PKM  ENSG00000001460  -0.481463  Actual\n",
       "38            PKM  ENSG00000004399  -0.528088  Actual\n",
       "100           PKM  ENSG00000006327  -0.520701  Actual\n",
       "111           PKM  ENSG00000006625  -0.527317  Actual\n",
       "164           PKM  ENSG00000008394  -0.524712  Actual"
      ]
     },
     "execution_count": 6,
     "metadata": {},
     "output_type": "execute_result"
    }
   ],
   "source": [
    "rows = (pkm['Pearson R'] < lower_bound) | (pkm['Pearson R'] > upper_bound)\n",
    "pkm_filtered = pkm.loc[rows]\n",
    "print(pkm_filtered.shape)\n",
    "pkm_filtered.head()"
   ]
  },
  {
   "cell_type": "code",
   "execution_count": 7,
   "metadata": {
    "collapsed": false
   },
   "outputs": [
    {
     "name": "stdout",
     "output_type": "stream",
     "text": [
      "(360, 4)\n"
     ]
    },
    {
     "data": {
      "text/html": [
       "<div>\n",
       "<table border=\"1\" class=\"dataframe\">\n",
       "  <thead>\n",
       "    <tr style=\"text-align: right;\">\n",
       "      <th></th>\n",
       "      <th>Splicing Gene</th>\n",
       "      <th>Expression Gene</th>\n",
       "      <th>Pearson R</th>\n",
       "      <th>dataset</th>\n",
       "    </tr>\n",
       "  </thead>\n",
       "  <tbody>\n",
       "    <tr>\n",
       "      <th>7</th>\n",
       "      <td>PKM</td>\n",
       "      <td>ENSG00000001460</td>\n",
       "      <td>-0.481463</td>\n",
       "      <td>Actual</td>\n",
       "    </tr>\n",
       "    <tr>\n",
       "      <th>38</th>\n",
       "      <td>PKM</td>\n",
       "      <td>ENSG00000004399</td>\n",
       "      <td>-0.528088</td>\n",
       "      <td>Actual</td>\n",
       "    </tr>\n",
       "    <tr>\n",
       "      <th>100</th>\n",
       "      <td>PKM</td>\n",
       "      <td>ENSG00000006327</td>\n",
       "      <td>-0.520701</td>\n",
       "      <td>Actual</td>\n",
       "    </tr>\n",
       "    <tr>\n",
       "      <th>111</th>\n",
       "      <td>PKM</td>\n",
       "      <td>ENSG00000006625</td>\n",
       "      <td>-0.527317</td>\n",
       "      <td>Actual</td>\n",
       "    </tr>\n",
       "    <tr>\n",
       "      <th>164</th>\n",
       "      <td>PKM</td>\n",
       "      <td>ENSG00000008394</td>\n",
       "      <td>-0.524712</td>\n",
       "      <td>Actual</td>\n",
       "    </tr>\n",
       "  </tbody>\n",
       "</table>\n",
       "</div>"
      ],
      "text/plain": [
       "    Splicing Gene  Expression Gene  Pearson R dataset\n",
       "7             PKM  ENSG00000001460  -0.481463  Actual\n",
       "38            PKM  ENSG00000004399  -0.528088  Actual\n",
       "100           PKM  ENSG00000006327  -0.520701  Actual\n",
       "111           PKM  ENSG00000006625  -0.527317  Actual\n",
       "164           PKM  ENSG00000008394  -0.524712  Actual"
      ]
     },
     "execution_count": 7,
     "metadata": {},
     "output_type": "execute_result"
    }
   ],
   "source": [
    "pkm_filtered = pkm_filtered.rename(columns={\"level_1\": 'Expression Gene'})\n",
    "print(pkm_filtered.shape)\n",
    "pkm_filtered.head()"
   ]
  },
  {
   "cell_type": "code",
   "execution_count": 8,
   "metadata": {
    "collapsed": false
   },
   "outputs": [
    {
     "name": "stdout",
     "output_type": "stream",
     "text": [
      "(360, 5)\n"
     ]
    },
    {
     "data": {
      "text/html": [
       "<div>\n",
       "<table border=\"1\" class=\"dataframe\">\n",
       "  <thead>\n",
       "    <tr style=\"text-align: right;\">\n",
       "      <th></th>\n",
       "      <th>Splicing Gene</th>\n",
       "      <th>Expression Gene</th>\n",
       "      <th>Pearson R</th>\n",
       "      <th>dataset</th>\n",
       "      <th>gene_name</th>\n",
       "    </tr>\n",
       "  </thead>\n",
       "  <tbody>\n",
       "    <tr>\n",
       "      <th>7</th>\n",
       "      <td>PKM</td>\n",
       "      <td>ENSG00000001460</td>\n",
       "      <td>-0.481463</td>\n",
       "      <td>Actual</td>\n",
       "      <td>STPG1</td>\n",
       "    </tr>\n",
       "    <tr>\n",
       "      <th>38</th>\n",
       "      <td>PKM</td>\n",
       "      <td>ENSG00000004399</td>\n",
       "      <td>-0.528088</td>\n",
       "      <td>Actual</td>\n",
       "      <td>PLXND1</td>\n",
       "    </tr>\n",
       "    <tr>\n",
       "      <th>100</th>\n",
       "      <td>PKM</td>\n",
       "      <td>ENSG00000006327</td>\n",
       "      <td>-0.520701</td>\n",
       "      <td>Actual</td>\n",
       "      <td>TNFRSF12A</td>\n",
       "    </tr>\n",
       "    <tr>\n",
       "      <th>111</th>\n",
       "      <td>PKM</td>\n",
       "      <td>ENSG00000006625</td>\n",
       "      <td>-0.527317</td>\n",
       "      <td>Actual</td>\n",
       "      <td>GGCT</td>\n",
       "    </tr>\n",
       "    <tr>\n",
       "      <th>164</th>\n",
       "      <td>PKM</td>\n",
       "      <td>ENSG00000008394</td>\n",
       "      <td>-0.524712</td>\n",
       "      <td>Actual</td>\n",
       "      <td>MGST1</td>\n",
       "    </tr>\n",
       "  </tbody>\n",
       "</table>\n",
       "</div>"
      ],
      "text/plain": [
       "    Splicing Gene  Expression Gene  Pearson R dataset  gene_name\n",
       "7             PKM  ENSG00000001460  -0.481463  Actual      STPG1\n",
       "38            PKM  ENSG00000004399  -0.528088  Actual     PLXND1\n",
       "100           PKM  ENSG00000006327  -0.520701  Actual  TNFRSF12A\n",
       "111           PKM  ENSG00000006625  -0.527317  Actual       GGCT\n",
       "164           PKM  ENSG00000008394  -0.524712  Actual      MGST1"
      ]
     },
     "execution_count": 8,
     "metadata": {},
     "output_type": "execute_result"
    }
   ],
   "source": [
    "pkm_filtered_symbols = pkm_filtered.join(study.expression.feature_data['gene_name'], on='Expression Gene')\n",
    "print(pkm_filtered_symbols.shape)\n",
    "pkm_filtered_symbols.head()"
   ]
  },
  {
   "cell_type": "code",
   "execution_count": 9,
   "metadata": {
    "collapsed": false
   },
   "outputs": [
    {
     "data": {
      "text/html": [
       "<div>\n",
       "<table border=\"1\" class=\"dataframe\">\n",
       "  <thead>\n",
       "    <tr style=\"text-align: right;\">\n",
       "      <th></th>\n",
       "      <th>Splicing Gene</th>\n",
       "      <th>Expression Gene</th>\n",
       "      <th>Pearson R</th>\n",
       "      <th>dataset</th>\n",
       "      <th>gene_name</th>\n",
       "      <th>Correlation direction</th>\n",
       "    </tr>\n",
       "  </thead>\n",
       "  <tbody>\n",
       "    <tr>\n",
       "      <th>7</th>\n",
       "      <td>PKM</td>\n",
       "      <td>ENSG00000001460</td>\n",
       "      <td>-0.481463</td>\n",
       "      <td>Actual</td>\n",
       "      <td>STPG1</td>\n",
       "      <td>(-)</td>\n",
       "    </tr>\n",
       "    <tr>\n",
       "      <th>38</th>\n",
       "      <td>PKM</td>\n",
       "      <td>ENSG00000004399</td>\n",
       "      <td>-0.528088</td>\n",
       "      <td>Actual</td>\n",
       "      <td>PLXND1</td>\n",
       "      <td>(-)</td>\n",
       "    </tr>\n",
       "    <tr>\n",
       "      <th>100</th>\n",
       "      <td>PKM</td>\n",
       "      <td>ENSG00000006327</td>\n",
       "      <td>-0.520701</td>\n",
       "      <td>Actual</td>\n",
       "      <td>TNFRSF12A</td>\n",
       "      <td>(-)</td>\n",
       "    </tr>\n",
       "    <tr>\n",
       "      <th>111</th>\n",
       "      <td>PKM</td>\n",
       "      <td>ENSG00000006625</td>\n",
       "      <td>-0.527317</td>\n",
       "      <td>Actual</td>\n",
       "      <td>GGCT</td>\n",
       "      <td>(-)</td>\n",
       "    </tr>\n",
       "    <tr>\n",
       "      <th>164</th>\n",
       "      <td>PKM</td>\n",
       "      <td>ENSG00000008394</td>\n",
       "      <td>-0.524712</td>\n",
       "      <td>Actual</td>\n",
       "      <td>MGST1</td>\n",
       "      <td>(-)</td>\n",
       "    </tr>\n",
       "  </tbody>\n",
       "</table>\n",
       "</div>"
      ],
      "text/plain": [
       "    Splicing Gene  Expression Gene  Pearson R dataset  gene_name  \\\n",
       "7             PKM  ENSG00000001460  -0.481463  Actual      STPG1   \n",
       "38            PKM  ENSG00000004399  -0.528088  Actual     PLXND1   \n",
       "100           PKM  ENSG00000006327  -0.520701  Actual  TNFRSF12A   \n",
       "111           PKM  ENSG00000006625  -0.527317  Actual       GGCT   \n",
       "164           PKM  ENSG00000008394  -0.524712  Actual      MGST1   \n",
       "\n",
       "    Correlation direction  \n",
       "7                     (-)  \n",
       "38                    (-)  \n",
       "100                   (-)  \n",
       "111                   (-)  \n",
       "164                   (-)  "
      ]
     },
     "execution_count": 9,
     "metadata": {},
     "output_type": "execute_result"
    }
   ],
   "source": [
    "def direction(x):\n",
    "    if x > 0:\n",
    "        return \"(+)\"\n",
    "    else:\n",
    "        return '(-)'\n",
    "\n",
    "pkm_filtered_symbols['Correlation direction'] = pkm_filtered_symbols['Pearson R'].map(direction)\n",
    "pkm_filtered_symbols.head()"
   ]
  },
  {
   "cell_type": "code",
   "execution_count": 10,
   "metadata": {
    "collapsed": false
   },
   "outputs": [
    {
     "data": {
      "text/plain": [
       "Correlation direction\n",
       "(+)    132\n",
       "(-)    228\n",
       "dtype: int64"
      ]
     },
     "execution_count": 10,
     "metadata": {},
     "output_type": "execute_result"
    }
   ],
   "source": [
    "pkm_filtered_symbols.groupby('Correlation direction').size()"
   ]
  },
  {
   "cell_type": "code",
   "execution_count": 11,
   "metadata": {
    "collapsed": true
   },
   "outputs": [],
   "source": [
    "pkm_filtered_symbols.to_csv('{}/pkm_filtered_correlations.csv'.format(folder))"
   ]
  },
  {
   "cell_type": "code",
   "execution_count": 15,
   "metadata": {
    "collapsed": false,
    "scrolled": false
   },
   "outputs": [],
   "source": [
    "# rows = pkm_filtered_symbols['Correlation direction'] == '(+)'\n",
    "\n",
    "# print(pkm_filtered_symbols.loc[rows, 'Expression Gene'].to_csv(None, index=False))"
   ]
  },
  {
   "cell_type": "code",
   "execution_count": 16,
   "metadata": {
    "collapsed": true
   },
   "outputs": [],
   "source": [
    "! grep mygene ../*/*.ipynb"
   ]
  },
  {
   "cell_type": "code",
   "execution_count": 17,
   "metadata": {
    "collapsed": true
   },
   "outputs": [],
   "source": [
    "import goatools\n",
    "import mygene"
   ]
  },
  {
   "cell_type": "code",
   "execution_count": 58,
   "metadata": {
    "collapsed": false
   },
   "outputs": [
    {
     "name": "stdout",
     "output_type": "stream",
     "text": [
      "querying 1-1000...done.\n",
      "querying 1001-2000...done.\n",
      "querying 2001-3000...done.\n",
      "querying 3001-4000...done.\n",
      "querying 4001-5000...done.\n",
      "querying 5001-6000...done.\n",
      "querying 6001-7000...done.\n",
      "querying 7001-8000...done.\n",
      "querying 8001-9000...done.\n",
      "querying 9001-10000...done.\n",
      "querying 10001-11000...done.\n",
      "querying 11001-12000...done.\n",
      "querying 12001-13000...done.\n",
      "querying 13001-14000...done.\n",
      "querying 14001-15000...done.\n",
      "querying 15001-16000...done.\n",
      "querying 16001-17000...done.\n",
      "querying 17001-17458...done.\n",
      "Finished.\n",
      "7 input query terms found dup hits:\n",
      "\t[(u'ENSG00000228106', 2), (u'ENSG00000183889', 6), (u'ENSG00000215126', 2), (u'ENSG00000229719', 2),\n",
      "587 input query terms found no hit:\n",
      "\t[u'ENSG00000005955', u'ENSG00000006114', u'ENSG00000017373', u'ENSG00000017621', u'ENSG00000031544',\n",
      "Pass \"returnall=True\" to return complete lists of duplicate or missing query terms.\n"
     ]
    }
   ],
   "source": [
    "# Initialize the \"mygene.info\" (http://mygene.info/) interface\n",
    "mg = mygene.MyGeneInfo()\n",
    "\n",
    "mygene_output = mg.querymany(background_genes, \n",
    "                             scopes='ensemblgene', \n",
    "                             fields=['go.BP', 'go.MF', 'go.CC'], \n",
    "                             species='human')"
   ]
  },
  {
   "cell_type": "code",
   "execution_count": 56,
   "metadata": {
    "collapsed": true
   },
   "outputs": [],
   "source": [
    "import collections\n",
    "import mygene\n",
    "\n",
    "\n",
    "GO_KEYS_FULL = 'go.BP', 'go.MF', 'go.CC'\n",
    "GO_KEYS_SPLIT = [x.split('.')[1] for x in GO_KEYS_FULL]\n",
    "\n",
    "\n",
    "def parse_mygene_output(mygene_output):\n",
    "    \"\"\"Convert mygene.querymany output to a gene id to go term mapping (dictionary)\n",
    "\n",
    "    Parameters\n",
    "    ----------\n",
    "    mygene_output : dict or list\n",
    "        Dictionary (returnall=True) or list (returnall=False) of\n",
    "        output from mygene.querymany\n",
    "\n",
    "    Output\n",
    "    ------\n",
    "    gene_name_to_go : dict\n",
    "        Mapping of gene name to a set of GO ids\n",
    "    \"\"\"\n",
    "    # if \"returnall=True\" was specified, need to get just the \"out\" key\n",
    "    if isinstance(mygene_output, dict):\n",
    "        mygene_output = mygene_output['out']\n",
    "\n",
    "    gene_name_to_go = collections.defaultdict(set)\n",
    "\n",
    "    for line in mygene_output:\n",
    "        gene_name = line['query']\n",
    "        try:\n",
    "            go_output = line['go']\n",
    "        except KeyError:\n",
    "            continue\n",
    "        for go_key in GO_KEYS_SPLIT:\n",
    "            try:\n",
    "                go_terms = go_output[go_key]\n",
    "            except KeyError:\n",
    "                continue\n",
    "            if isinstance(go_terms, dict):\n",
    "                go_ids = set([go_terms['id']])\n",
    "            else:\n",
    "                go_ids = set(x['id'] for x in go_terms)\n",
    "        gene_name_to_go[gene_name] |= go_ids\n",
    "    return gene_name_to_go\n",
    "\n",
    "\n",
    "def gene_ids_to_go(gene_ids, species='human,mouse,rat',\n",
    "                   scopes='entrezgene,ensemblgene,retired,symbol',\n",
    "                   fields=GO_KEYS_FULL,\n",
    "                   **kwargs):\n",
    "    \"\"\"Get associated GO terms for each gene ID\n",
    "\n",
    "    gene_ids : iterable of ids\n",
    "        List of gene ids that you want to map\n",
    "    species : str\n",
    "        Comma-separated species to limit search. Default is \"human,mouse,rat\"\n",
    "    scopes : str\n",
    "        Comma-separated type of gene ids that you are giving.\n",
    "        Default is \"entrezgene,ensemblgene,retired,symbol\"\n",
    "    fields : iterable\n",
    "        GO terms to use. Default is ['go.BP', 'go.MF', 'go.CC']\n",
    "\n",
    "    Returns\n",
    "    -------\n",
    "    gene_to_go : dict\n",
    "        Mapping of each provided gene id to a set object of GO terms\n",
    "    \"\"\"\n",
    "\n",
    "    mg = mygene.MyGeneInfo()\n",
    "\n",
    "    mygene_output = mg.querymany(gene_ids, fields=fields, scopes=scopes,\n",
    "                                 species=species, **kwargs)\n",
    "\n",
    "    gene_name_to_go = parse_mygene_output(mygene_output)\n",
    "    return gene_name_to_go\n"
   ]
  },
  {
   "cell_type": "code",
   "execution_count": null,
   "metadata": {
    "collapsed": true
   },
   "outputs": [],
   "source": [
    "from goatools.base import download_go_basic_obo\n",
    "\n",
    "def make_go_enricher(background_genes, species='human,mouse,rat',\n",
    "                   scopes='entrezgene,ensemblgene,retired,symbol',\n",
    "                   fields=GO_KEYS_FULL)\n",
    "    obo_fname = download_go_basic_obo()\n",
    "\n",
    "    obo_dag = goatools.obo_parser.GODag(obo_file=obo_fname)\n",
    "\n",
    "    gene_to_go = gene_ids_to_go(background_genes, species, scopes, fields)\n",
    "    go_enricher = goatools.GOEnrichmentStudy(background_genes, \n",
    "                                         gene_to_go, obo_dag)\n",
    "    return go_enricher"
   ]
  },
  {
   "cell_type": "code",
   "execution_count": 57,
   "metadata": {
    "collapsed": false
   },
   "outputs": [
    {
     "data": {
      "text/plain": [
       "17458"
      ]
     },
     "execution_count": 57,
     "metadata": {},
     "output_type": "execute_result"
    }
   ],
   "source": [
    "background_genes = df['level_1'].unique()\n",
    "len(background_genes)"
   ]
  },
  {
   "cell_type": "code",
   "execution_count": 61,
   "metadata": {
    "collapsed": false
   },
   "outputs": [
    {
     "data": {
      "text/plain": [
       "12124"
      ]
     },
     "execution_count": 61,
     "metadata": {},
     "output_type": "execute_result"
    }
   ],
   "source": [
    "gene_name_to_go = parse_mygene_output(mygene_output)\n",
    "len(gene_name_to_go)"
   ]
  },
  {
   "cell_type": "code",
   "execution_count": 62,
   "metadata": {
    "collapsed": false
   },
   "outputs": [
    {
     "data": {
      "text/plain": [
       "[u'ENSG00000180008',\n",
       " u'ENSG00000167693',\n",
       " u'ENSG00000064703',\n",
       " u'ENSG00000230873',\n",
       " u'ENSG00000189292',\n",
       " u'ENSG00000110514',\n",
       " u'ENSG00000247077',\n",
       " u'ENSG00000086015',\n",
       " u'ENSG00000168032',\n",
       " u'ENSG00000142686']"
      ]
     },
     "execution_count": 62,
     "metadata": {},
     "output_type": "execute_result"
    }
   ],
   "source": [
    "gene_name_to_go.keys()[:10]"
   ]
  },
  {
   "cell_type": "code",
   "execution_count": 64,
   "metadata": {
    "collapsed": false
   },
   "outputs": [
    {
     "name": "stdout",
     "output_type": "stream",
     "text": [
      "querying 1-10...done.\n",
      "Finished.\n"
     ]
    },
    {
     "data": {
      "text/plain": [
       "[{u'_id': u'122809',\n",
       "  u'_score': 21.914225,\n",
       "  u'go': {u'BP': [{u'evidence': u'IDA',\n",
       "     u'id': u'GO:0007175',\n",
       "     u'pubmed': 15590694,\n",
       "     u'term': u'negative regulation of epidermal growth factor-activated receptor activity'},\n",
       "    {u'evidence': u'IEA',\n",
       "     u'id': u'GO:0016567',\n",
       "     u'term': u'protein ubiquitination'},\n",
       "    {u'evidence': u'IBA',\n",
       "     u'id': u'GO:0019221',\n",
       "     u'term': u'cytokine-mediated signaling pathway'},\n",
       "    {u'evidence': u'IEA',\n",
       "     u'id': u'GO:0032436',\n",
       "     u'term': u'positive regulation of proteasomal ubiquitin-dependent protein catabolic process'},\n",
       "    {u'evidence': u'IEA',\n",
       "     u'id': u'GO:0035556',\n",
       "     u'term': u'intracellular signal transduction'},\n",
       "    {u'evidence': u'IEA',\n",
       "     u'id': u'GO:0040008',\n",
       "     u'term': u'regulation of growth'},\n",
       "    {u'evidence': u'IBA',\n",
       "     u'id': u'GO:0046426',\n",
       "     u'term': u'negative regulation of JAK-STAT cascade'}],\n",
       "   u'CC': {u'evidence': u'IBA', u'id': u'GO:0005737', u'term': u'cytoplasm'},\n",
       "   u'MF': {u'evidence': u'IBA',\n",
       "    u'id': u'GO:0004860',\n",
       "    u'term': u'protein kinase inhibitor activity'}},\n",
       "  u'query': u'ENSG00000180008'},\n",
       " {u'_id': u'64359',\n",
       "  u'_score': 10.957756,\n",
       "  u'go': {u'BP': [{u'evidence': u'IEA',\n",
       "     u'id': u'GO:0016055',\n",
       "     u'term': u'Wnt signaling pathway'},\n",
       "    {u'evidence': u'IEA',\n",
       "     u'id': u'GO:0030154',\n",
       "     u'term': u'cell differentiation'},\n",
       "    {u'evidence': u'ISS',\n",
       "     u'id': u'GO:0030178',\n",
       "     u'term': u'negative regulation of Wnt signaling pathway'},\n",
       "    {u'evidence': u'ISS',\n",
       "     u'id': u'GO:0031397',\n",
       "     u'term': u'negative regulation of protein ubiquitination'},\n",
       "    {u'evidence': u'IEA',\n",
       "     u'id': u'GO:0045454',\n",
       "     u'term': u'cell redox homeostasis'},\n",
       "    {u'evidence': u'IEA',\n",
       "     u'id': u'GO:0055114',\n",
       "     u'term': u'oxidation-reduction process'},\n",
       "    {u'evidence': u'ISS',\n",
       "     u'id': u'GO:0072358',\n",
       "     u'term': u'cardiovascular system development'},\n",
       "    {u'evidence': u'IEA',\n",
       "     u'id': u'GO:0098869',\n",
       "     u'term': u'cellular oxidant detoxification'}],\n",
       "   u'CC': [{u'evidence': u'IEA', u'id': u'GO:0005634', u'term': u'nucleus'},\n",
       "    {u'evidence': u'IBA', u'id': u'GO:0005737', u'term': u'cytoplasm'},\n",
       "    {u'evidence': u'IEA', u'id': u'GO:0005829', u'term': u'cytosol'}],\n",
       "   u'MF': [{u'evidence': u'IBA',\n",
       "     u'id': u'GO:0004791',\n",
       "     u'term': u'thioredoxin-disulfide reductase activity'},\n",
       "    {u'evidence': u'IEA',\n",
       "     u'id': u'GO:0047134',\n",
       "     u'term': u'protein-disulfide reductase activity'}]},\n",
       "  u'query': u'ENSG00000167693'},\n",
       " {u'_id': u'11218',\n",
       "  u'_score': 21.914143,\n",
       "  u'go': {u'BP': [{u'evidence': u'IDA',\n",
       "     u'id': u'GO:0000122',\n",
       "     u'pubmed': 12007404,\n",
       "     u'term': u'negative regulation of transcription from RNA polymerase II promoter'},\n",
       "    {u'evidence': u'TAS',\n",
       "     u'id': u'GO:0000244',\n",
       "     u'pubmed': 10601333,\n",
       "     u'term': u'spliceosomal tri-snRNP complex assembly'},\n",
       "    {u'evidence': u'IDA',\n",
       "     u'id': u'GO:0000387',\n",
       "     u'pubmed': 18984161,\n",
       "     u'term': u'spliceosomal snRNP assembly'},\n",
       "    {u'evidence': u'TAS',\n",
       "     u'id': u'GO:0000387',\n",
       "     u'term': u'spliceosomal snRNP assembly'},\n",
       "    {u'evidence': u'TAS',\n",
       "     u'id': u'GO:0006396',\n",
       "     u'pubmed': 10601333,\n",
       "     u'term': u'RNA processing'},\n",
       "    {u'evidence': u'IEA',\n",
       "     u'id': u'GO:0008285',\n",
       "     u'term': u'negative regulation of cell proliferation'},\n",
       "    {u'evidence': u'IBA',\n",
       "     u'id': u'GO:0010501',\n",
       "     u'term': u'RNA secondary structure unwinding'},\n",
       "    {u'evidence': u'IGI',\n",
       "     u'id': u'GO:0043065',\n",
       "     u'pubmed': 16153597,\n",
       "     u'term': u'positive regulation of apoptotic process'},\n",
       "    {u'evidence': u'ISS',\n",
       "     u'id': u'GO:0043065',\n",
       "     u'term': u'positive regulation of apoptotic process'},\n",
       "    {u'evidence': u'IEA', u'id': u'GO:0048477', u'term': u'oogenesis'},\n",
       "    {u'evidence': u'IEA',\n",
       "     u'id': u'GO:0050810',\n",
       "     u'term': u'regulation of steroid biosynthetic process'},\n",
       "    {u'evidence': u'TAS', u'id': u'GO:0051170', u'term': u'nuclear import'}],\n",
       "   u'CC': [{u'evidence': u'IDA', u'id': u'GO:0005634', u'term': u'nucleus'},\n",
       "    {u'evidence': u'TAS', u'id': u'GO:0005654', u'term': u'nucleoplasm'},\n",
       "    {u'evidence': u'IDA', u'id': u'GO:0005737', u'term': u'cytoplasm'},\n",
       "    {u'evidence': u'IDA',\n",
       "     u'id': u'GO:0005829',\n",
       "     u'pubmed': 18984161,\n",
       "     u'term': u'cytosol'},\n",
       "    {u'evidence': u'TAS', u'id': u'GO:0005829', u'term': u'cytosol'},\n",
       "    {u'evidence': u'TAS',\n",
       "     u'id': u'GO:0005856',\n",
       "     u'pubmed': 10383418,\n",
       "     u'term': u'cytoskeleton'},\n",
       "    {u'evidence': u'IDA',\n",
       "     u'id': u'GO:0016020',\n",
       "     u'pubmed': 19946888,\n",
       "     u'term': u'membrane'},\n",
       "    {u'evidence': u'IDA',\n",
       "     u'id': u'GO:0032797',\n",
       "     u'pubmed': 18984161,\n",
       "     u'term': u'SMN complex'},\n",
       "    {u'evidence': u'IDA',\n",
       "     u'id': u'GO:0034719',\n",
       "     u'pubmed': 18984161,\n",
       "     u'term': u'SMN-Sm protein complex'},\n",
       "    {u'evidence': u'IEA',\n",
       "     u'id': u'GO:0090571',\n",
       "     u'term': u'RNA polymerase II transcription repressor complex'},\n",
       "    {u'evidence': u'IEA',\n",
       "     u'id': u'GO:0097504',\n",
       "     u'term': u'Gemini of coiled bodies'}],\n",
       "   u'MF': [{u'evidence': u'IEA',\n",
       "     u'id': u'GO:0003677',\n",
       "     u'term': u'DNA binding'},\n",
       "    {u'evidence': u'TAS',\n",
       "     u'id': u'GO:0004004',\n",
       "     u'pubmed': 10383418,\n",
       "     u'term': u'ATP-dependent RNA helicase activity'},\n",
       "    {u'evidence': u'IPI',\n",
       "     u'id': u'GO:0005515',\n",
       "     u'pubmed': [11714716, 21800163],\n",
       "     u'term': u'protein binding'},\n",
       "    {u'evidence': u'IEA', u'id': u'GO:0005524', u'term': u'ATP binding'},\n",
       "    {u'evidence': u'IEA',\n",
       "     u'id': u'GO:0019904',\n",
       "     u'term': u'protein domain specific binding'},\n",
       "    {u'evidence': u'IEA',\n",
       "     u'id': u'GO:0030674',\n",
       "     u'term': u'protein binding, bridging'},\n",
       "    {u'evidence': u'IEA',\n",
       "     u'id': u'GO:0042826',\n",
       "     u'term': u'histone deacetylase binding'},\n",
       "    {u'evidence': u'IPI',\n",
       "     u'id': u'GO:0070491',\n",
       "     u'pubmed': 12007404,\n",
       "     u'term': u'repressing transcription factor binding'}]},\n",
       "  u'query': u'ENSG00000064703'},\n",
       " {u'_id': u'401236',\n",
       "  u'_score': 21.91354,\n",
       "  u'go': {u'BP': {u'evidence': u'IEA',\n",
       "    u'id': u'GO:0031110',\n",
       "    u'term': u'regulation of microtubule polymerization or depolymerization'}},\n",
       "  u'query': u'ENSG00000230873'},\n",
       " {u'_id': u'285016',\n",
       "  u'_score': 21.914143,\n",
       "  u'go': {u'BP': [{u'evidence': u'IDA',\n",
       "     u'id': u'GO:0010976',\n",
       "     u'pubmed': 26418745,\n",
       "     u'term': u'positive regulation of neuron projection development'},\n",
       "    {u'evidence': u'IEA',\n",
       "     u'id': u'GO:0061098',\n",
       "     u'term': u'positive regulation of protein tyrosine kinase activity'},\n",
       "    {u'evidence': u'IDA',\n",
       "     u'id': u'GO:0070374',\n",
       "     u'pubmed': 26418745,\n",
       "     u'term': u'positive regulation of ERK1 and ERK2 cascade'},\n",
       "    {u'evidence': u'IDA',\n",
       "     u'id': u'GO:0070378',\n",
       "     u'pubmed': 26418745,\n",
       "     u'term': u'positive regulation of ERK5 cascade'}],\n",
       "   u'CC': {u'evidence': u'IEA',\n",
       "    u'id': u'GO:0005576',\n",
       "    u'term': u'extracellular region'},\n",
       "   u'MF': [{u'evidence': u'IDA',\n",
       "     u'id': u'GO:0030298',\n",
       "     u'pubmed': 26418745,\n",
       "     u'term': u'receptor signaling protein tyrosine kinase activator activity'},\n",
       "    {u'evidence': u'IDA',\n",
       "     u'id': u'GO:0030971',\n",
       "     u'pubmed': 26418745,\n",
       "     u'term': u'receptor tyrosine kinase binding'}]},\n",
       "  u'query': u'ENSG00000189292'},\n",
       " {u'_id': u'8567',\n",
       "  u'_score': 20.729881,\n",
       "  u'go': {u'BP': [{u'evidence': u'IMP',\n",
       "     u'id': u'GO:0000187',\n",
       "     u'pubmed': 9115275,\n",
       "     u'term': u'activation of MAPK activity'},\n",
       "    {u'evidence': u'TAS',\n",
       "     u'id': u'GO:0007166',\n",
       "     u'pubmed': 9115275,\n",
       "     u'term': u'cell surface receptor signaling pathway'},\n",
       "    {u'evidence': u'TAS',\n",
       "     u'id': u'GO:0010803',\n",
       "     u'term': u'regulation of tumor necrosis factor-mediated signaling pathway'},\n",
       "    {u'evidence': u'IDA',\n",
       "     u'id': u'GO:0032483',\n",
       "     u'pubmed': 20937701,\n",
       "     u'term': u'regulation of Rab protein signal transduction'},\n",
       "    {u'evidence': u'IMP',\n",
       "     u'id': u'GO:0042981',\n",
       "     u'pubmed': 11577081,\n",
       "     u'term': u'regulation of apoptotic process'},\n",
       "    {u'evidence': u'IEA',\n",
       "     u'id': u'GO:0043547',\n",
       "     u'term': u'positive regulation of GTPase activity'},\n",
       "    {u'evidence': u'IMP',\n",
       "     u'id': u'GO:0051726',\n",
       "     u'pubmed': 14735464,\n",
       "     u'term': u'regulation of cell cycle'},\n",
       "    {u'evidence': u'IMP',\n",
       "     u'id': u'GO:0097194',\n",
       "     u'pubmed': 14735464,\n",
       "     u'term': u'execution phase of apoptosis'},\n",
       "    {u'evidence': u'IMP',\n",
       "     u'id': u'GO:1902041',\n",
       "     u'pubmed': 9115275,\n",
       "     u'term': u'regulation of extrinsic apoptotic signaling pathway via death domain receptors'},\n",
       "    {u'evidence': u'IDA',\n",
       "     u'id': u'GO:2001236',\n",
       "     u'pubmed': 11577081,\n",
       "     u'term': u'regulation of extrinsic apoptotic signaling pathway'}],\n",
       "   u'CC': [{u'evidence': u'IDA', u'id': u'GO:0005737', u'term': u'cytoplasm'},\n",
       "    {u'evidence': u'TAS', u'id': u'GO:0005829', u'term': u'cytosol'},\n",
       "    {u'evidence': u'IDA', u'id': u'GO:0005886', u'term': u'plasma membrane'},\n",
       "    {u'evidence': u'IDA',\n",
       "     u'id': u'GO:0016021',\n",
       "     u'pubmed': 8988362,\n",
       "     u'term': u'integral component of membrane'}],\n",
       "   u'MF': [{u'evidence': u'TAS',\n",
       "     u'id': u'GO:0005123',\n",
       "     u'pubmed': 9115275,\n",
       "     u'term': u'death receptor binding'},\n",
       "    {u'evidence': u'IPI',\n",
       "     u'id': u'GO:0005515',\n",
       "     u'pubmed': 9115275,\n",
       "     u'term': u'protein binding'},\n",
       "    {u'evidence': u'IDA',\n",
       "     u'id': u'GO:0017112',\n",
       "     u'pubmed': 20937701,\n",
       "     u'term': u'Rab guanyl-nucleotide exchange factor activity'},\n",
       "    {u'evidence': u'IMP',\n",
       "     u'id': u'GO:0017112',\n",
       "     u'pubmed': 9115275,\n",
       "     u'term': u'Rab guanyl-nucleotide exchange factor activity'},\n",
       "    {u'evidence': u'TAS',\n",
       "     u'id': u'GO:0030295',\n",
       "     u'pubmed': 9115275,\n",
       "     u'term': u'protein kinase activator activity'}]},\n",
       "  u'query': u'ENSG00000110514'},\n",
       " {u'_id': u'192111',\n",
       "  u'_score': 21.915276,\n",
       "  u'go': {u'BP': [{u'evidence': u'IEA',\n",
       "     u'id': u'GO:0006470',\n",
       "     u'term': u'protein dephosphorylation'},\n",
       "    {u'evidence': u'IEA',\n",
       "     u'id': u'GO:0007165',\n",
       "     u'term': u'signal transduction'},\n",
       "    {u'evidence': u'IEA',\n",
       "     u'id': u'GO:0043547',\n",
       "     u'term': u'positive regulation of GTPase activity'},\n",
       "    {u'evidence': u'IMP',\n",
       "     u'id': u'GO:0070266',\n",
       "     u'pubmed': 22265414,\n",
       "     u'term': u'necroptotic process'}],\n",
       "   u'CC': [{u'evidence': u'IDA',\n",
       "     u'id': u'GO:0005739',\n",
       "     u'term': u'mitochondrion'},\n",
       "    {u'evidence': u'IEA',\n",
       "     u'id': u'GO:0005741',\n",
       "     u'term': u'mitochondrial outer membrane'},\n",
       "    {u'evidence': u'IEA',\n",
       "     u'id': u'GO:0016021',\n",
       "     u'term': u'integral component of membrane'}],\n",
       "   u'MF': [{u'evidence': u'IMP',\n",
       "     u'id': u'GO:0005096',\n",
       "     u'pubmed': 22265414,\n",
       "     u'term': u'GTPase activator activity'},\n",
       "    {u'evidence': u'IDA',\n",
       "     u'id': u'GO:0009400',\n",
       "     u'pubmed': 19590015,\n",
       "     u'term': u'receptor signaling protein serine/threonine phosphatase activity'},\n",
       "    {u'evidence': u'IMP',\n",
       "     u'id': u'GO:0016791',\n",
       "     u'pubmed': 22265414,\n",
       "     u'term': u'phosphatase activity'},\n",
       "    {u'evidence': u'IDA',\n",
       "     u'id': u'GO:0032403',\n",
       "     u'pubmed': 22265414,\n",
       "     u'term': u'protein complex binding'}]},\n",
       "  u'query': u'ENSG00000247077'},\n",
       " {u'_id': u'23139',\n",
       "  u'_score': 21.914759,\n",
       "  u'go': {u'BP': [{u'evidence': u'ISS',\n",
       "     u'id': u'GO:0006468',\n",
       "     u'term': u'protein phosphorylation'},\n",
       "    {u'evidence': u'IBA',\n",
       "     u'id': u'GO:0007010',\n",
       "     u'term': u'cytoskeleton organization'},\n",
       "    {u'evidence': u'IBA',\n",
       "     u'id': u'GO:0018105',\n",
       "     u'term': u'peptidyl-serine phosphorylation'},\n",
       "    {u'evidence': u'IBA',\n",
       "     u'id': u'GO:0035556',\n",
       "     u'term': u'intracellular signal transduction'},\n",
       "    {u'evidence': u'ISS',\n",
       "     u'id': u'GO:0045075',\n",
       "     u'term': u'regulation of interleukin-12 biosynthetic process'},\n",
       "    {u'evidence': u'ISS',\n",
       "     u'id': u'GO:0048515',\n",
       "     u'term': u'spermatid differentiation'}],\n",
       "   u'CC': [{u'evidence': u'IDA', u'id': u'GO:0005737', u'term': u'cytoplasm'},\n",
       "    {u'evidence': u'IEA', u'id': u'GO:0005886', u'term': u'plasma membrane'},\n",
       "    {u'evidence': u'IBA',\n",
       "     u'id': u'GO:0015630',\n",
       "     u'term': u'microtubule cytoskeleton'}],\n",
       "   u'MF': [{u'evidence': u'ISS',\n",
       "     u'id': u'GO:0000287',\n",
       "     u'term': u'magnesium ion binding'},\n",
       "    {u'evidence': u'IBA',\n",
       "     u'id': u'GO:0004674',\n",
       "     u'term': u'protein serine/threonine kinase activity'},\n",
       "    {u'evidence': u'IPI',\n",
       "     u'id': u'GO:0005515',\n",
       "     u'pubmed': 12117771,\n",
       "     u'term': u'protein binding'},\n",
       "    {u'evidence': u'ISS', u'id': u'GO:0005524', u'term': u'ATP binding'},\n",
       "    {u'evidence': u'IBA',\n",
       "     u'id': u'GO:0008017',\n",
       "     u'term': u'microtubule binding'},\n",
       "    {u'evidence': u'IPI',\n",
       "     u'id': u'GO:0019902',\n",
       "     u'pubmed': 10646847,\n",
       "     u'term': u'phosphatase binding'}]},\n",
       "  u'query': u'ENSG00000086015'},\n",
       " {u'_id': u'956',\n",
       "  u'_score': 21.915512,\n",
       "  u'go': {u'BP': [{u'evidence': u'IEA',\n",
       "     u'id': u'GO:0009134',\n",
       "     u'term': u'nucleoside diphosphate catabolic process'},\n",
       "    {u'evidence': u'IEA',\n",
       "     u'id': u'GO:0009143',\n",
       "     u'term': u'nucleoside triphosphate catabolic process'}],\n",
       "   u'CC': [{u'evidence': u'IEA',\n",
       "     u'id': u'GO:0005886',\n",
       "     u'term': u'plasma membrane'},\n",
       "    {u'evidence': u'IEA',\n",
       "     u'id': u'GO:0016021',\n",
       "     u'term': u'integral component of membrane'}],\n",
       "   u'MF': [{u'evidence': u'IEA',\n",
       "     u'id': u'GO:0005524',\n",
       "     u'term': u'ATP binding'},\n",
       "    {u'evidence': u'IEA',\n",
       "     u'id': u'GO:0017110',\n",
       "     u'term': u'nucleoside-diphosphatase activity'},\n",
       "    {u'evidence': u'IEA',\n",
       "     u'id': u'GO:0017111',\n",
       "     u'term': u'nucleoside-triphosphatase activity'}]},\n",
       "  u'query': u'ENSG00000168032'},\n",
       " {u'_id': u'127703',\n",
       "  u'_score': 21.91354,\n",
       "  u'go': {u'MF': {u'evidence': u'IPI',\n",
       "    u'id': u'GO:0005515',\n",
       "    u'pubmed': [16189514, 25416956],\n",
       "    u'term': u'protein binding'}},\n",
       "  u'query': u'ENSG00000142686'}]"
      ]
     },
     "execution_count": 64,
     "metadata": {},
     "output_type": "execute_result"
    }
   ],
   "source": [
    "mg.querymany(gene_ids, species='human,mouse,rat',\n",
    "                   scopes='entrezgene,ensemblgene,retired,symbol',\n",
    "                   fields=GO_KEYS_FULL,)"
   ]
  },
  {
   "cell_type": "code",
   "execution_count": 63,
   "metadata": {
    "collapsed": false
   },
   "outputs": [
    {
     "name": "stdout",
     "output_type": "stream",
     "text": [
      "querying 1-10...done.\n",
      "Finished.\n"
     ]
    },
    {
     "data": {
      "text/plain": [
       "defaultdict(set,\n",
       "            {u'ENSG00000064703': {u'GO:0005634',\n",
       "              u'GO:0005654',\n",
       "              u'GO:0005737',\n",
       "              u'GO:0005829',\n",
       "              u'GO:0005856',\n",
       "              u'GO:0016020',\n",
       "              u'GO:0032797',\n",
       "              u'GO:0034719',\n",
       "              u'GO:0090571',\n",
       "              u'GO:0097504'},\n",
       "             u'ENSG00000086015': {u'GO:0005737', u'GO:0005886', u'GO:0015630'},\n",
       "             u'ENSG00000110514': {u'GO:0005737',\n",
       "              u'GO:0005829',\n",
       "              u'GO:0005886',\n",
       "              u'GO:0016021'},\n",
       "             u'ENSG00000142686': {u'GO:0005515'},\n",
       "             u'ENSG00000167693': {u'GO:0005634', u'GO:0005737', u'GO:0005829'},\n",
       "             u'ENSG00000168032': {u'GO:0005886', u'GO:0016021'},\n",
       "             u'ENSG00000180008': {u'GO:0005737'},\n",
       "             u'ENSG00000189292': {u'GO:0005576'},\n",
       "             u'ENSG00000230873': {u'GO:0031110'},\n",
       "             u'ENSG00000247077': {u'GO:0005739',\n",
       "              u'GO:0005741',\n",
       "              u'GO:0016021'}})"
      ]
     },
     "execution_count": 63,
     "metadata": {},
     "output_type": "execute_result"
    }
   ],
   "source": [
    "gene_ids = [u'ENSG00000180008',\n",
    " u'ENSG00000167693',\n",
    " u'ENSG00000064703',\n",
    " u'ENSG00000230873',\n",
    " u'ENSG00000189292',\n",
    " u'ENSG00000110514',\n",
    " u'ENSG00000247077',\n",
    " u'ENSG00000086015',\n",
    " u'ENSG00000168032',\n",
    " u'ENSG00000142686']\n",
    "\n",
    "gene_ids_to_go(gene_ids)"
   ]
  },
  {
   "cell_type": "code",
   "execution_count": 65,
   "metadata": {
    "collapsed": true
   },
   "outputs": [],
   "source": [
    "asdf = {u'ENSG00000064703': {u'GO:0005634',\n",
    "              u'GO:0005654',\n",
    "              u'GO:0005737',\n",
    "              u'GO:0005829',\n",
    "              u'GO:0005856',\n",
    "              u'GO:0016020',\n",
    "              u'GO:0032797',\n",
    "              u'GO:0034719',\n",
    "              u'GO:0090571',\n",
    "              u'GO:0097504'},\n",
    "             u'ENSG00000086015': {u'GO:0005737', u'GO:0005886', u'GO:0015630'},\n",
    "             u'ENSG00000110514': {u'GO:0005737',\n",
    "              u'GO:0005829',\n",
    "              u'GO:0005886',\n",
    "              u'GO:0016021'},\n",
    "             u'ENSG00000142686': {u'GO:0005515'},\n",
    "             u'ENSG00000167693': {u'GO:0005634', u'GO:0005737', u'GO:0005829'},\n",
    "             u'ENSG00000168032': {u'GO:0005886', u'GO:0016021'},\n",
    "             u'ENSG00000180008': {u'GO:0005737'},\n",
    "             u'ENSG00000189292': {u'GO:0005576'},\n",
    "             u'ENSG00000230873': {u'GO:0031110'},\n",
    "             u'ENSG00000247077': {u'GO:0005739',\n",
    "              u'GO:0005741',\n",
    "              u'GO:0016021'}}"
   ]
  },
  {
   "cell_type": "code",
   "execution_count": null,
   "metadata": {
    "collapsed": true
   },
   "outputs": [],
   "source": [
    "collections.defaultdict()"
   ]
  },
  {
   "cell_type": "code",
   "execution_count": 52,
   "metadata": {
    "collapsed": false
   },
   "outputs": [
    {
     "data": {
      "text/plain": [
       "{u'_id': u'7105',\n",
       " u'_score': 22.94159,\n",
       " u'go': {u'BP': [{u'evidence': u'IBA',\n",
       "    u'id': u'GO:0007166',\n",
       "    u'term': u'cell surface receptor signaling pathway'},\n",
       "   {u'evidence': u'IMP',\n",
       "    u'id': u'GO:0039532',\n",
       "    u'pubmed': 22908223,\n",
       "    u'term': u'negative regulation of viral-induced cytoplasmic pattern recognition receptor signaling pathway'},\n",
       "   {u'evidence': u'IMP',\n",
       "    u'id': u'GO:0043123',\n",
       "    u'pubmed': 12761501,\n",
       "    u'term': u'positive regulation of I-kappaB kinase/NF-kappaB signaling'},\n",
       "   {u'evidence': u'IDA',\n",
       "    u'id': u'GO:1901223',\n",
       "    u'pubmed': 22908223,\n",
       "    u'term': u'negative regulation of NIK/NF-kappaB signaling'}],\n",
       "  u'CC': [{u'evidence': u'IBA',\n",
       "    u'id': u'GO:0005887',\n",
       "    u'term': u'integral component of plasma membrane'},\n",
       "   {u'evidence': u'IDA',\n",
       "    u'id': u'GO:0070062',\n",
       "    u'pubmed': [19056867, 19199708, 23533145],\n",
       "    u'term': u'extracellular exosome'}],\n",
       "  u'MF': [{u'evidence': u'IMP',\n",
       "    u'id': u'GO:0004871',\n",
       "    u'pubmed': 12761501,\n",
       "    u'term': u'signal transducer activity'},\n",
       "   {u'evidence': u'IPI',\n",
       "    u'id': u'GO:0005515',\n",
       "    u'pubmed': 22908223,\n",
       "    u'term': u'protein binding'}]},\n",
       " u'query': u'ENSG00000000003'}"
      ]
     },
     "execution_count": 52,
     "metadata": {},
     "output_type": "execute_result"
    }
   ],
   "source": [
    "line = mygene_output[0]\n",
    "line"
   ]
  },
  {
   "cell_type": "code",
   "execution_count": 53,
   "metadata": {
    "collapsed": false
   },
   "outputs": [
    {
     "data": {
      "text/plain": [
       "{u'BP': [{u'evidence': u'IBA',\n",
       "   u'id': u'GO:0007166',\n",
       "   u'term': u'cell surface receptor signaling pathway'},\n",
       "  {u'evidence': u'IMP',\n",
       "   u'id': u'GO:0039532',\n",
       "   u'pubmed': 22908223,\n",
       "   u'term': u'negative regulation of viral-induced cytoplasmic pattern recognition receptor signaling pathway'},\n",
       "  {u'evidence': u'IMP',\n",
       "   u'id': u'GO:0043123',\n",
       "   u'pubmed': 12761501,\n",
       "   u'term': u'positive regulation of I-kappaB kinase/NF-kappaB signaling'},\n",
       "  {u'evidence': u'IDA',\n",
       "   u'id': u'GO:1901223',\n",
       "   u'pubmed': 22908223,\n",
       "   u'term': u'negative regulation of NIK/NF-kappaB signaling'}],\n",
       " u'CC': [{u'evidence': u'IBA',\n",
       "   u'id': u'GO:0005887',\n",
       "   u'term': u'integral component of plasma membrane'},\n",
       "  {u'evidence': u'IDA',\n",
       "   u'id': u'GO:0070062',\n",
       "   u'pubmed': [19056867, 19199708, 23533145],\n",
       "   u'term': u'extracellular exosome'}],\n",
       " u'MF': [{u'evidence': u'IMP',\n",
       "   u'id': u'GO:0004871',\n",
       "   u'pubmed': 12761501,\n",
       "   u'term': u'signal transducer activity'},\n",
       "  {u'evidence': u'IPI',\n",
       "   u'id': u'GO:0005515',\n",
       "   u'pubmed': 22908223,\n",
       "   u'term': u'protein binding'}]}"
      ]
     },
     "execution_count": 53,
     "metadata": {},
     "output_type": "execute_result"
    }
   ],
   "source": [
    "line['go']"
   ]
  },
  {
   "cell_type": "code",
   "execution_count": 48,
   "metadata": {
    "collapsed": false
   },
   "outputs": [
    {
     "data": {
      "text/plain": [
       "defaultdict(set, {})"
      ]
     },
     "execution_count": 48,
     "metadata": {},
     "output_type": "execute_result"
    }
   ],
   "source": [
    "gene_name_to_go"
   ]
  },
  {
   "cell_type": "code",
   "execution_count": 66,
   "metadata": {
    "collapsed": false
   },
   "outputs": [
    {
     "name": "stdout",
     "output_type": "stream",
     "text": [
      "  EXISTS: go-basic.obo\n",
      "go-basic.obo\n",
      "go-basic.obo: format-version(1.2) data-version(releases/2016-11-07)"
     ]
    },
    {
     "name": "stderr",
     "output_type": "stream",
     "text": [
      "load obo file go-basic.obo\n",
      "47689"
     ]
    },
    {
     "name": "stdout",
     "output_type": "stream",
     "text": [
      "\n"
     ]
    },
    {
     "name": "stderr",
     "output_type": "stream",
     "text": [
      " nodes imported\n"
     ]
    }
   ],
   "source": [
    "from goatools.base import download_go_basic_obo\n",
    "obo_fname = download_go_basic_obo()\n",
    "\n",
    "# Show the filename\n",
    "print(obo_fname)\n",
    "\n",
    "obo_dag = goatools.obo_parser.GODag(obo_file=obo_fname)\n"
   ]
  },
  {
   "cell_type": "code",
   "execution_count": 69,
   "metadata": {
    "collapsed": false
   },
   "outputs": [
    {
     "name": "stdout",
     "output_type": "stream",
     "text": [
      "12,124 out of 17,458 population items found in association\n"
     ]
    },
    {
     "name": "stderr",
     "output_type": "stream",
     "text": [
      "Propagating term counts to parents ..\n"
     ]
    }
   ],
   "source": [
    "rows = pkm_filtered_symbols['Correlation direction'] == '(-)'\n",
    "\n",
    "# print(pkm_filtered_symbols.loc[rows, 'Expression Gene'].to_csv(None, index=False))\n",
    "\n",
    "go_enricher = goatools.GOEnrichmentStudy(background_genes, \n",
    "                                         gene_name_to_go, obo_dag)\n"
   ]
  },
  {
   "cell_type": "code",
   "execution_count": 90,
   "metadata": {
    "collapsed": true
   },
   "outputs": [],
   "source": [
    "def run_go(go_enricher, gene_ids, p_cutoff=0.001, correction='bonferroni'):\n",
    "    \n",
    "    results = go_enricher.run_study(gene_ids)\n",
    "    go_enrichment = pd.DataFrame([r.__dict__ for r in results])\n",
    "\n",
    "    p_column = 'p_' + correction\n",
    "\n",
    "    rows = go_enrichment[p_column] < p_cutoff\n",
    "    go_enrichment_filtered = go_enrichment.loc[rows]\n",
    "    go_enrichment_filtered['-log10(q)'] = -np.log10(go_enrichment[p_column])\n",
    "    \n",
    "    return go_enrichment_filtered"
   ]
  },
  {
   "cell_type": "code",
   "execution_count": 91,
   "metadata": {
    "collapsed": false
   },
   "outputs": [
    {
     "name": "stdout",
     "output_type": "stream",
     "text": [
      "Calculating uncorrected p-values using Fisher's exact test\n",
      "   205 out of    228 study items found in association\n",
      "Running multitest correction: local bonferroni\n",
      "Running multitest correction: local sidak\n",
      "Running multitest correction: local holm\n",
      "2,432 GO terms are associated with 205 of 228 study items in a population of 17,458\n",
      "(28, 19)\n"
     ]
    },
    {
     "name": "stderr",
     "output_type": "stream",
     "text": [
      "/home/obotvinnik/anaconda/lib/python2.7/site-packages/ipykernel/__main__.py:10: SettingWithCopyWarning: \n",
      "A value is trying to be set on a copy of a slice from a DataFrame.\n",
      "Try using .loc[row_indexer,col_indexer] = value instead\n",
      "\n",
      "See the caveats in the documentation: http://pandas.pydata.org/pandas-docs/stable/indexing.html#indexing-view-versus-copy\n"
     ]
    },
    {
     "data": {
      "text/html": [
       "<div>\n",
       "<table border=\"1\" class=\"dataframe\">\n",
       "  <thead>\n",
       "    <tr style=\"text-align: right;\">\n",
       "      <th></th>\n",
       "      <th>GO</th>\n",
       "      <th>NS</th>\n",
       "      <th>_methods</th>\n",
       "      <th>enrichment</th>\n",
       "      <th>goterm</th>\n",
       "      <th>name</th>\n",
       "      <th>p_bonferroni</th>\n",
       "      <th>p_holm</th>\n",
       "      <th>p_sidak</th>\n",
       "      <th>p_uncorrected</th>\n",
       "      <th>pop_count</th>\n",
       "      <th>pop_items</th>\n",
       "      <th>pop_n</th>\n",
       "      <th>ratio_in_pop</th>\n",
       "      <th>ratio_in_study</th>\n",
       "      <th>study_count</th>\n",
       "      <th>study_items</th>\n",
       "      <th>study_n</th>\n",
       "      <th>-log10(q)</th>\n",
       "    </tr>\n",
       "  </thead>\n",
       "  <tbody>\n",
       "    <tr>\n",
       "      <th>450</th>\n",
       "      <td>GO:0005913</td>\n",
       "      <td>CC</td>\n",
       "      <td>[(local, bonferroni, bonferroni), (local, sida...</td>\n",
       "      <td>e</td>\n",
       "      <td>GO:0005913\\tlevel-03\\tdepth-04\\tcell-cell adhe...</td>\n",
       "      <td>cell-cell adherens junction</td>\n",
       "      <td>1.103045e-07</td>\n",
       "      <td>1.103045e-07</td>\n",
       "      <td>1.075245e-07</td>\n",
       "      <td>4.535549e-11</td>\n",
       "      <td>294</td>\n",
       "      <td>{ENSG00000110841, ENSG00000120265, ENSG0000013...</td>\n",
       "      <td>17458</td>\n",
       "      <td>(294, 17458)</td>\n",
       "      <td>(23, 228)</td>\n",
       "      <td>23</td>\n",
       "      <td>{ENSG00000011426, ENSG00000074181, ENSG0000015...</td>\n",
       "      <td>228</td>\n",
       "      <td>6.957407</td>\n",
       "    </tr>\n",
       "    <tr>\n",
       "      <th>451</th>\n",
       "      <td>GO:0005912</td>\n",
       "      <td>CC</td>\n",
       "      <td>[(local, bonferroni, bonferroni), (local, sida...</td>\n",
       "      <td>e</td>\n",
       "      <td>GO:0005912\\tlevel-03\\tdepth-03\\tadherens junct...</td>\n",
       "      <td>adherens junction</td>\n",
       "      <td>1.316019e-07</td>\n",
       "      <td>1.315478e-07</td>\n",
       "      <td>1.282851e-07</td>\n",
       "      <td>5.411264e-11</td>\n",
       "      <td>597</td>\n",
       "      <td>{ENSG00000137312, ENSG00000167699, ENSG0000013...</td>\n",
       "      <td>17458</td>\n",
       "      <td>(597, 17458)</td>\n",
       "      <td>(37, 228)</td>\n",
       "      <td>37</td>\n",
       "      <td>{ENSG00000011426, ENSG00000074181, ENSG0000015...</td>\n",
       "      <td>228</td>\n",
       "      <td>6.880738</td>\n",
       "    </tr>\n",
       "    <tr>\n",
       "      <th>452</th>\n",
       "      <td>GO:0005911</td>\n",
       "      <td>CC</td>\n",
       "      <td>[(local, bonferroni, bonferroni), (local, sida...</td>\n",
       "      <td>e</td>\n",
       "      <td>GO:0005911\\tlevel-02\\tdepth-02\\tcell-cell junc...</td>\n",
       "      <td>cell-cell junction</td>\n",
       "      <td>1.362597e-07</td>\n",
       "      <td>1.361477e-07</td>\n",
       "      <td>1.328255e-07</td>\n",
       "      <td>5.602785e-11</td>\n",
       "      <td>490</td>\n",
       "      <td>{ENSG00000137312, ENSG00000167699, ENSG0000013...</td>\n",
       "      <td>17458</td>\n",
       "      <td>(490, 17458)</td>\n",
       "      <td>(30, 228)</td>\n",
       "      <td>30</td>\n",
       "      <td>{ENSG00000011426, ENSG00000074181, ENSG0000015...</td>\n",
       "      <td>228</td>\n",
       "      <td>6.865633</td>\n",
       "    </tr>\n",
       "    <tr>\n",
       "      <th>453</th>\n",
       "      <td>GO:0070161</td>\n",
       "      <td>CC</td>\n",
       "      <td>[(local, bonferroni, bonferroni), (local, sida...</td>\n",
       "      <td>e</td>\n",
       "      <td>GO:0070161\\tlevel-02\\tdepth-02\\tanchoring junc...</td>\n",
       "      <td>anchoring junction</td>\n",
       "      <td>1.993777e-07</td>\n",
       "      <td>1.991317e-07</td>\n",
       "      <td>1.943527e-07</td>\n",
       "      <td>8.198095e-11</td>\n",
       "      <td>607</td>\n",
       "      <td>{ENSG00000137312, ENSG00000167699, ENSG0000013...</td>\n",
       "      <td>17458</td>\n",
       "      <td>(607, 17458)</td>\n",
       "      <td>(39, 228)</td>\n",
       "      <td>39</td>\n",
       "      <td>{ENSG00000011426, ENSG00000074181, ENSG0000015...</td>\n",
       "      <td>228</td>\n",
       "      <td>6.700323</td>\n",
       "    </tr>\n",
       "    <tr>\n",
       "      <th>454</th>\n",
       "      <td>GO:0030054</td>\n",
       "      <td>CC</td>\n",
       "      <td>[(local, bonferroni, bonferroni), (local, sida...</td>\n",
       "      <td>e</td>\n",
       "      <td>GO:0030054\\tlevel-01\\tdepth-01\\tcell junction ...</td>\n",
       "      <td>cell junction</td>\n",
       "      <td>3.046528e-07</td>\n",
       "      <td>3.041517e-07</td>\n",
       "      <td>2.969745e-07</td>\n",
       "      <td>1.252684e-10</td>\n",
       "      <td>1028</td>\n",
       "      <td>{ENSG00000080815, ENSG00000137312, ENSG0000016...</td>\n",
       "      <td>17458</td>\n",
       "      <td>(1028, 17458)</td>\n",
       "      <td>(44, 228)</td>\n",
       "      <td>44</td>\n",
       "      <td>{ENSG00000011426, ENSG00000074181, ENSG0000015...</td>\n",
       "      <td>228</td>\n",
       "      <td>6.516195</td>\n",
       "    </tr>\n",
       "  </tbody>\n",
       "</table>\n",
       "</div>"
      ],
      "text/plain": [
       "             GO  NS                                           _methods  \\\n",
       "450  GO:0005913  CC  [(local, bonferroni, bonferroni), (local, sida...   \n",
       "451  GO:0005912  CC  [(local, bonferroni, bonferroni), (local, sida...   \n",
       "452  GO:0005911  CC  [(local, bonferroni, bonferroni), (local, sida...   \n",
       "453  GO:0070161  CC  [(local, bonferroni, bonferroni), (local, sida...   \n",
       "454  GO:0030054  CC  [(local, bonferroni, bonferroni), (local, sida...   \n",
       "\n",
       "    enrichment                                             goterm  \\\n",
       "450          e  GO:0005913\\tlevel-03\\tdepth-04\\tcell-cell adhe...   \n",
       "451          e  GO:0005912\\tlevel-03\\tdepth-03\\tadherens junct...   \n",
       "452          e  GO:0005911\\tlevel-02\\tdepth-02\\tcell-cell junc...   \n",
       "453          e  GO:0070161\\tlevel-02\\tdepth-02\\tanchoring junc...   \n",
       "454          e  GO:0030054\\tlevel-01\\tdepth-01\\tcell junction ...   \n",
       "\n",
       "                            name  p_bonferroni        p_holm       p_sidak  \\\n",
       "450  cell-cell adherens junction  1.103045e-07  1.103045e-07  1.075245e-07   \n",
       "451            adherens junction  1.316019e-07  1.315478e-07  1.282851e-07   \n",
       "452           cell-cell junction  1.362597e-07  1.361477e-07  1.328255e-07   \n",
       "453           anchoring junction  1.993777e-07  1.991317e-07  1.943527e-07   \n",
       "454                cell junction  3.046528e-07  3.041517e-07  2.969745e-07   \n",
       "\n",
       "     p_uncorrected  pop_count  \\\n",
       "450   4.535549e-11        294   \n",
       "451   5.411264e-11        597   \n",
       "452   5.602785e-11        490   \n",
       "453   8.198095e-11        607   \n",
       "454   1.252684e-10       1028   \n",
       "\n",
       "                                             pop_items  pop_n   ratio_in_pop  \\\n",
       "450  {ENSG00000110841, ENSG00000120265, ENSG0000013...  17458   (294, 17458)   \n",
       "451  {ENSG00000137312, ENSG00000167699, ENSG0000013...  17458   (597, 17458)   \n",
       "452  {ENSG00000137312, ENSG00000167699, ENSG0000013...  17458   (490, 17458)   \n",
       "453  {ENSG00000137312, ENSG00000167699, ENSG0000013...  17458   (607, 17458)   \n",
       "454  {ENSG00000080815, ENSG00000137312, ENSG0000016...  17458  (1028, 17458)   \n",
       "\n",
       "    ratio_in_study  study_count  \\\n",
       "450      (23, 228)           23   \n",
       "451      (37, 228)           37   \n",
       "452      (30, 228)           30   \n",
       "453      (39, 228)           39   \n",
       "454      (44, 228)           44   \n",
       "\n",
       "                                           study_items  study_n  -log10(q)  \n",
       "450  {ENSG00000011426, ENSG00000074181, ENSG0000015...      228   6.957407  \n",
       "451  {ENSG00000011426, ENSG00000074181, ENSG0000015...      228   6.880738  \n",
       "452  {ENSG00000011426, ENSG00000074181, ENSG0000015...      228   6.865633  \n",
       "453  {ENSG00000011426, ENSG00000074181, ENSG0000015...      228   6.700323  \n",
       "454  {ENSG00000011426, ENSG00000074181, ENSG0000015...      228   6.516195  "
      ]
     },
     "execution_count": 91,
     "metadata": {},
     "output_type": "execute_result"
    }
   ],
   "source": [
    "go_enrichment = run_go(go_enricher, pkm_filtered_symbols.loc[rows, 'Expression Gene'])\n",
    "print(go_enrichment.shape)\n",
    "go_enrichment.head()"
   ]
  },
  {
   "cell_type": "code",
   "execution_count": 92,
   "metadata": {
    "collapsed": false
   },
   "outputs": [
    {
     "name": "stdout",
     "output_type": "stream",
     "text": [
      "(10, 19)\n"
     ]
    },
    {
     "data": {
      "text/html": [
       "<div>\n",
       "<table border=\"1\" class=\"dataframe\">\n",
       "  <thead>\n",
       "    <tr style=\"text-align: right;\">\n",
       "      <th></th>\n",
       "      <th>GO</th>\n",
       "      <th>NS</th>\n",
       "      <th>_methods</th>\n",
       "      <th>enrichment</th>\n",
       "      <th>goterm</th>\n",
       "      <th>name</th>\n",
       "      <th>p_bonferroni</th>\n",
       "      <th>p_holm</th>\n",
       "      <th>p_sidak</th>\n",
       "      <th>p_uncorrected</th>\n",
       "      <th>pop_count</th>\n",
       "      <th>pop_items</th>\n",
       "      <th>pop_n</th>\n",
       "      <th>ratio_in_pop</th>\n",
       "      <th>ratio_in_study</th>\n",
       "      <th>study_count</th>\n",
       "      <th>study_items</th>\n",
       "      <th>study_n</th>\n",
       "      <th>-log10(q)</th>\n",
       "    </tr>\n",
       "  </thead>\n",
       "  <tbody>\n",
       "    <tr>\n",
       "      <th>450</th>\n",
       "      <td>GO:0005913</td>\n",
       "      <td>CC</td>\n",
       "      <td>[(local, bonferroni, bonferroni), (local, sida...</td>\n",
       "      <td>e</td>\n",
       "      <td>GO:0005913\\tlevel-03\\tdepth-04\\tcell-cell adhe...</td>\n",
       "      <td>cell-cell adherens junction</td>\n",
       "      <td>1.103045e-07</td>\n",
       "      <td>1.103045e-07</td>\n",
       "      <td>1.075245e-07</td>\n",
       "      <td>4.535549e-11</td>\n",
       "      <td>294</td>\n",
       "      <td>{ENSG00000110841, ENSG00000120265, ENSG0000013...</td>\n",
       "      <td>17458</td>\n",
       "      <td>(294, 17458)</td>\n",
       "      <td>(23, 228)</td>\n",
       "      <td>23</td>\n",
       "      <td>{ENSG00000011426, ENSG00000074181, ENSG0000015...</td>\n",
       "      <td>228</td>\n",
       "      <td>6.957407</td>\n",
       "    </tr>\n",
       "    <tr>\n",
       "      <th>451</th>\n",
       "      <td>GO:0005912</td>\n",
       "      <td>CC</td>\n",
       "      <td>[(local, bonferroni, bonferroni), (local, sida...</td>\n",
       "      <td>e</td>\n",
       "      <td>GO:0005912\\tlevel-03\\tdepth-03\\tadherens junct...</td>\n",
       "      <td>adherens junction</td>\n",
       "      <td>1.316019e-07</td>\n",
       "      <td>1.315478e-07</td>\n",
       "      <td>1.282851e-07</td>\n",
       "      <td>5.411264e-11</td>\n",
       "      <td>597</td>\n",
       "      <td>{ENSG00000137312, ENSG00000167699, ENSG0000013...</td>\n",
       "      <td>17458</td>\n",
       "      <td>(597, 17458)</td>\n",
       "      <td>(37, 228)</td>\n",
       "      <td>37</td>\n",
       "      <td>{ENSG00000011426, ENSG00000074181, ENSG0000015...</td>\n",
       "      <td>228</td>\n",
       "      <td>6.880738</td>\n",
       "    </tr>\n",
       "    <tr>\n",
       "      <th>452</th>\n",
       "      <td>GO:0005911</td>\n",
       "      <td>CC</td>\n",
       "      <td>[(local, bonferroni, bonferroni), (local, sida...</td>\n",
       "      <td>e</td>\n",
       "      <td>GO:0005911\\tlevel-02\\tdepth-02\\tcell-cell junc...</td>\n",
       "      <td>cell-cell junction</td>\n",
       "      <td>1.362597e-07</td>\n",
       "      <td>1.361477e-07</td>\n",
       "      <td>1.328255e-07</td>\n",
       "      <td>5.602785e-11</td>\n",
       "      <td>490</td>\n",
       "      <td>{ENSG00000137312, ENSG00000167699, ENSG0000013...</td>\n",
       "      <td>17458</td>\n",
       "      <td>(490, 17458)</td>\n",
       "      <td>(30, 228)</td>\n",
       "      <td>30</td>\n",
       "      <td>{ENSG00000011426, ENSG00000074181, ENSG0000015...</td>\n",
       "      <td>228</td>\n",
       "      <td>6.865633</td>\n",
       "    </tr>\n",
       "    <tr>\n",
       "      <th>453</th>\n",
       "      <td>GO:0070161</td>\n",
       "      <td>CC</td>\n",
       "      <td>[(local, bonferroni, bonferroni), (local, sida...</td>\n",
       "      <td>e</td>\n",
       "      <td>GO:0070161\\tlevel-02\\tdepth-02\\tanchoring junc...</td>\n",
       "      <td>anchoring junction</td>\n",
       "      <td>1.993777e-07</td>\n",
       "      <td>1.991317e-07</td>\n",
       "      <td>1.943527e-07</td>\n",
       "      <td>8.198095e-11</td>\n",
       "      <td>607</td>\n",
       "      <td>{ENSG00000137312, ENSG00000167699, ENSG0000013...</td>\n",
       "      <td>17458</td>\n",
       "      <td>(607, 17458)</td>\n",
       "      <td>(39, 228)</td>\n",
       "      <td>39</td>\n",
       "      <td>{ENSG00000011426, ENSG00000074181, ENSG0000015...</td>\n",
       "      <td>228</td>\n",
       "      <td>6.700323</td>\n",
       "    </tr>\n",
       "    <tr>\n",
       "      <th>454</th>\n",
       "      <td>GO:0030054</td>\n",
       "      <td>CC</td>\n",
       "      <td>[(local, bonferroni, bonferroni), (local, sida...</td>\n",
       "      <td>e</td>\n",
       "      <td>GO:0030054\\tlevel-01\\tdepth-01\\tcell junction ...</td>\n",
       "      <td>cell junction</td>\n",
       "      <td>3.046528e-07</td>\n",
       "      <td>3.041517e-07</td>\n",
       "      <td>2.969745e-07</td>\n",
       "      <td>1.252684e-10</td>\n",
       "      <td>1028</td>\n",
       "      <td>{ENSG00000080815, ENSG00000137312, ENSG0000016...</td>\n",
       "      <td>17458</td>\n",
       "      <td>(1028, 17458)</td>\n",
       "      <td>(44, 228)</td>\n",
       "      <td>44</td>\n",
       "      <td>{ENSG00000011426, ENSG00000074181, ENSG0000015...</td>\n",
       "      <td>228</td>\n",
       "      <td>6.516195</td>\n",
       "    </tr>\n",
       "  </tbody>\n",
       "</table>\n",
       "</div>"
      ],
      "text/plain": [
       "             GO  NS                                           _methods  \\\n",
       "450  GO:0005913  CC  [(local, bonferroni, bonferroni), (local, sida...   \n",
       "451  GO:0005912  CC  [(local, bonferroni, bonferroni), (local, sida...   \n",
       "452  GO:0005911  CC  [(local, bonferroni, bonferroni), (local, sida...   \n",
       "453  GO:0070161  CC  [(local, bonferroni, bonferroni), (local, sida...   \n",
       "454  GO:0030054  CC  [(local, bonferroni, bonferroni), (local, sida...   \n",
       "\n",
       "    enrichment                                             goterm  \\\n",
       "450          e  GO:0005913\\tlevel-03\\tdepth-04\\tcell-cell adhe...   \n",
       "451          e  GO:0005912\\tlevel-03\\tdepth-03\\tadherens junct...   \n",
       "452          e  GO:0005911\\tlevel-02\\tdepth-02\\tcell-cell junc...   \n",
       "453          e  GO:0070161\\tlevel-02\\tdepth-02\\tanchoring junc...   \n",
       "454          e  GO:0030054\\tlevel-01\\tdepth-01\\tcell junction ...   \n",
       "\n",
       "                            name  p_bonferroni        p_holm       p_sidak  \\\n",
       "450  cell-cell adherens junction  1.103045e-07  1.103045e-07  1.075245e-07   \n",
       "451            adherens junction  1.316019e-07  1.315478e-07  1.282851e-07   \n",
       "452           cell-cell junction  1.362597e-07  1.361477e-07  1.328255e-07   \n",
       "453           anchoring junction  1.993777e-07  1.991317e-07  1.943527e-07   \n",
       "454                cell junction  3.046528e-07  3.041517e-07  2.969745e-07   \n",
       "\n",
       "     p_uncorrected  pop_count  \\\n",
       "450   4.535549e-11        294   \n",
       "451   5.411264e-11        597   \n",
       "452   5.602785e-11        490   \n",
       "453   8.198095e-11        607   \n",
       "454   1.252684e-10       1028   \n",
       "\n",
       "                                             pop_items  pop_n   ratio_in_pop  \\\n",
       "450  {ENSG00000110841, ENSG00000120265, ENSG0000013...  17458   (294, 17458)   \n",
       "451  {ENSG00000137312, ENSG00000167699, ENSG0000013...  17458   (597, 17458)   \n",
       "452  {ENSG00000137312, ENSG00000167699, ENSG0000013...  17458   (490, 17458)   \n",
       "453  {ENSG00000137312, ENSG00000167699, ENSG0000013...  17458   (607, 17458)   \n",
       "454  {ENSG00000080815, ENSG00000137312, ENSG0000016...  17458  (1028, 17458)   \n",
       "\n",
       "    ratio_in_study  study_count  \\\n",
       "450      (23, 228)           23   \n",
       "451      (37, 228)           37   \n",
       "452      (30, 228)           30   \n",
       "453      (39, 228)           39   \n",
       "454      (44, 228)           44   \n",
       "\n",
       "                                           study_items  study_n  -log10(q)  \n",
       "450  {ENSG00000011426, ENSG00000074181, ENSG0000015...      228   6.957407  \n",
       "451  {ENSG00000011426, ENSG00000074181, ENSG0000015...      228   6.880738  \n",
       "452  {ENSG00000011426, ENSG00000074181, ENSG0000015...      228   6.865633  \n",
       "453  {ENSG00000011426, ENSG00000074181, ENSG0000015...      228   6.700323  \n",
       "454  {ENSG00000011426, ENSG00000074181, ENSG0000015...      228   6.516195  "
      ]
     },
     "execution_count": 92,
     "metadata": {},
     "output_type": "execute_result"
    }
   ],
   "source": [
    "go_enrichment_top = go_enrichment.iloc[:10]\n",
    "print(go_enrichment_top.shape)\n",
    "go_enrichment_top.head()"
   ]
  },
  {
   "cell_type": "code",
   "execution_count": 96,
   "metadata": {
    "collapsed": false
   },
   "outputs": [
    {
     "data": {
      "text/html": [
       "<div>\n",
       "<table border=\"1\" class=\"dataframe\">\n",
       "  <thead>\n",
       "    <tr style=\"text-align: right;\">\n",
       "      <th></th>\n",
       "      <th>GO</th>\n",
       "      <th>NS</th>\n",
       "      <th>_methods</th>\n",
       "      <th>enrichment</th>\n",
       "      <th>goterm</th>\n",
       "      <th>name</th>\n",
       "      <th>p_bonferroni</th>\n",
       "      <th>p_holm</th>\n",
       "      <th>p_sidak</th>\n",
       "      <th>p_uncorrected</th>\n",
       "      <th>pop_count</th>\n",
       "      <th>pop_items</th>\n",
       "      <th>pop_n</th>\n",
       "      <th>ratio_in_pop</th>\n",
       "      <th>ratio_in_study</th>\n",
       "      <th>study_count</th>\n",
       "      <th>study_items</th>\n",
       "      <th>study_n</th>\n",
       "      <th>-log10(q)</th>\n",
       "    </tr>\n",
       "  </thead>\n",
       "  <tbody>\n",
       "    <tr>\n",
       "      <th>459</th>\n",
       "      <td>GO:0044422</td>\n",
       "      <td>CC</td>\n",
       "      <td>[(local, bonferroni, bonferroni), (local, sida...</td>\n",
       "      <td>e</td>\n",
       "      <td>GO:0044422\\tlevel-01\\tdepth-01\\torganelle part...</td>\n",
       "      <td>organelle part</td>\n",
       "      <td>4.973248e-07</td>\n",
       "      <td>4.954843e-07</td>\n",
       "      <td>4.847905e-07</td>\n",
       "      <td>2.044921e-10</td>\n",
       "      <td>6557</td>\n",
       "      <td>{ENSG00000064703, ENSG00000247077, ENSG0000016...</td>\n",
       "      <td>17458</td>\n",
       "      <td>(6557, 17458)</td>\n",
       "      <td>(141, 228)</td>\n",
       "      <td>141</td>\n",
       "      <td>{ENSG00000051596, ENSG00000182871, ENSG0000019...</td>\n",
       "      <td>228</td>\n",
       "      <td>6.303360</td>\n",
       "    </tr>\n",
       "    <tr>\n",
       "      <th>458</th>\n",
       "      <td>GO:0044424</td>\n",
       "      <td>CC</td>\n",
       "      <td>[(local, bonferroni, bonferroni), (local, sida...</td>\n",
       "      <td>e</td>\n",
       "      <td>GO:0044424\\tlevel-02\\tdepth-02\\tintracellular ...</td>\n",
       "      <td>intracellular part</td>\n",
       "      <td>4.829476e-07</td>\n",
       "      <td>4.813590e-07</td>\n",
       "      <td>4.707757e-07</td>\n",
       "      <td>1.985804e-10</td>\n",
       "      <td>10036</td>\n",
       "      <td>{ENSG00000180008, ENSG00000167693, ENSG0000006...</td>\n",
       "      <td>17458</td>\n",
       "      <td>(10036, 17458)</td>\n",
       "      <td>(183, 228)</td>\n",
       "      <td>183</td>\n",
       "      <td>{ENSG00000051596, ENSG00000182871, ENSG0000019...</td>\n",
       "      <td>228</td>\n",
       "      <td>6.316100</td>\n",
       "    </tr>\n",
       "    <tr>\n",
       "      <th>457</th>\n",
       "      <td>GO:0044464</td>\n",
       "      <td>CC</td>\n",
       "      <td>[(local, bonferroni, bonferroni), (local, sida...</td>\n",
       "      <td>e</td>\n",
       "      <td>GO:0044464\\tlevel-01\\tdepth-01\\tcell part [cel...</td>\n",
       "      <td>cell part</td>\n",
       "      <td>4.820975e-07</td>\n",
       "      <td>4.807099e-07</td>\n",
       "      <td>4.699470e-07</td>\n",
       "      <td>1.982309e-10</td>\n",
       "      <td>10938</td>\n",
       "      <td>{ENSG00000180008, ENSG00000167693, ENSG0000006...</td>\n",
       "      <td>17458</td>\n",
       "      <td>(10938, 17458)</td>\n",
       "      <td>(194, 228)</td>\n",
       "      <td>194</td>\n",
       "      <td>{ENSG00000051596, ENSG00000163249, ENSG0000018...</td>\n",
       "      <td>228</td>\n",
       "      <td>6.316865</td>\n",
       "    </tr>\n",
       "    <tr>\n",
       "      <th>456</th>\n",
       "      <td>GO:0044446</td>\n",
       "      <td>CC</td>\n",
       "      <td>[(local, bonferroni, bonferroni), (local, sida...</td>\n",
       "      <td>e</td>\n",
       "      <td>GO:0044446\\tlevel-02\\tdepth-03\\tintracellular ...</td>\n",
       "      <td>intracellular organelle part</td>\n",
       "      <td>4.269935e-07</td>\n",
       "      <td>4.259400e-07</td>\n",
       "      <td>4.162318e-07</td>\n",
       "      <td>1.755730e-10</td>\n",
       "      <td>6445</td>\n",
       "      <td>{ENSG00000064703, ENSG00000247077, ENSG0000016...</td>\n",
       "      <td>17458</td>\n",
       "      <td>(6445, 17458)</td>\n",
       "      <td>(138, 228)</td>\n",
       "      <td>138</td>\n",
       "      <td>{ENSG00000051596, ENSG00000182871, ENSG0000019...</td>\n",
       "      <td>228</td>\n",
       "      <td>6.369579</td>\n",
       "    </tr>\n",
       "    <tr>\n",
       "      <th>455</th>\n",
       "      <td>GO:0005575</td>\n",
       "      <td>CC</td>\n",
       "      <td>[(local, bonferroni, bonferroni), (local, sida...</td>\n",
       "      <td>e</td>\n",
       "      <td>GO:0005575\\tlevel-00\\tdepth-00\\tcellular_compo...</td>\n",
       "      <td>cellular_component</td>\n",
       "      <td>3.367583e-07</td>\n",
       "      <td>3.360660e-07</td>\n",
       "      <td>3.282709e-07</td>\n",
       "      <td>1.384697e-10</td>\n",
       "      <td>11716</td>\n",
       "      <td>{ENSG00000180008, ENSG00000167693, ENSG0000006...</td>\n",
       "      <td>17458</td>\n",
       "      <td>(11716, 17458)</td>\n",
       "      <td>(202, 228)</td>\n",
       "      <td>202</td>\n",
       "      <td>{ENSG00000051596, ENSG00000163249, ENSG0000018...</td>\n",
       "      <td>228</td>\n",
       "      <td>6.472682</td>\n",
       "    </tr>\n",
       "  </tbody>\n",
       "</table>\n",
       "</div>"
      ],
      "text/plain": [
       "             GO  NS                                           _methods  \\\n",
       "459  GO:0044422  CC  [(local, bonferroni, bonferroni), (local, sida...   \n",
       "458  GO:0044424  CC  [(local, bonferroni, bonferroni), (local, sida...   \n",
       "457  GO:0044464  CC  [(local, bonferroni, bonferroni), (local, sida...   \n",
       "456  GO:0044446  CC  [(local, bonferroni, bonferroni), (local, sida...   \n",
       "455  GO:0005575  CC  [(local, bonferroni, bonferroni), (local, sida...   \n",
       "\n",
       "    enrichment                                             goterm  \\\n",
       "459          e  GO:0044422\\tlevel-01\\tdepth-01\\torganelle part...   \n",
       "458          e  GO:0044424\\tlevel-02\\tdepth-02\\tintracellular ...   \n",
       "457          e  GO:0044464\\tlevel-01\\tdepth-01\\tcell part [cel...   \n",
       "456          e  GO:0044446\\tlevel-02\\tdepth-03\\tintracellular ...   \n",
       "455          e  GO:0005575\\tlevel-00\\tdepth-00\\tcellular_compo...   \n",
       "\n",
       "                             name  p_bonferroni        p_holm       p_sidak  \\\n",
       "459                organelle part  4.973248e-07  4.954843e-07  4.847905e-07   \n",
       "458            intracellular part  4.829476e-07  4.813590e-07  4.707757e-07   \n",
       "457                     cell part  4.820975e-07  4.807099e-07  4.699470e-07   \n",
       "456  intracellular organelle part  4.269935e-07  4.259400e-07  4.162318e-07   \n",
       "455            cellular_component  3.367583e-07  3.360660e-07  3.282709e-07   \n",
       "\n",
       "     p_uncorrected  pop_count  \\\n",
       "459   2.044921e-10       6557   \n",
       "458   1.985804e-10      10036   \n",
       "457   1.982309e-10      10938   \n",
       "456   1.755730e-10       6445   \n",
       "455   1.384697e-10      11716   \n",
       "\n",
       "                                             pop_items  pop_n    ratio_in_pop  \\\n",
       "459  {ENSG00000064703, ENSG00000247077, ENSG0000016...  17458   (6557, 17458)   \n",
       "458  {ENSG00000180008, ENSG00000167693, ENSG0000006...  17458  (10036, 17458)   \n",
       "457  {ENSG00000180008, ENSG00000167693, ENSG0000006...  17458  (10938, 17458)   \n",
       "456  {ENSG00000064703, ENSG00000247077, ENSG0000016...  17458   (6445, 17458)   \n",
       "455  {ENSG00000180008, ENSG00000167693, ENSG0000006...  17458  (11716, 17458)   \n",
       "\n",
       "    ratio_in_study  study_count  \\\n",
       "459     (141, 228)          141   \n",
       "458     (183, 228)          183   \n",
       "457     (194, 228)          194   \n",
       "456     (138, 228)          138   \n",
       "455     (202, 228)          202   \n",
       "\n",
       "                                           study_items  study_n  -log10(q)  \n",
       "459  {ENSG00000051596, ENSG00000182871, ENSG0000019...      228   6.303360  \n",
       "458  {ENSG00000051596, ENSG00000182871, ENSG0000019...      228   6.316100  \n",
       "457  {ENSG00000051596, ENSG00000163249, ENSG0000018...      228   6.316865  \n",
       "456  {ENSG00000051596, ENSG00000182871, ENSG0000019...      228   6.369579  \n",
       "455  {ENSG00000051596, ENSG00000163249, ENSG0000018...      228   6.472682  "
      ]
     },
     "execution_count": 96,
     "metadata": {},
     "output_type": "execute_result"
    }
   ],
   "source": [
    "go_enrichment_top = go_enrichment_top.iloc[::-1]\n",
    "go_enrichment_top.head()"
   ]
  },
  {
   "cell_type": "code",
   "execution_count": 98,
   "metadata": {
    "collapsed": true
   },
   "outputs": [],
   "source": [
    "sns.set(context='paper', style='whitegrid')"
   ]
  },
  {
   "cell_type": "code",
   "execution_count": 102,
   "metadata": {
    "collapsed": false
   },
   "outputs": [
    {
     "data": {
      "text/plain": [
       "[<matplotlib.text.Text at 0x2b4b5f5584d0>,\n",
       " <matplotlib.text.Text at 0x2b4b17a4eb50>]"
      ]
     },
     "execution_count": 102,
     "metadata": {},
     "output_type": "execute_result"
    },
    {
     "data": {
      "image/png": "[encoded data removed]",
      "text/plain": [
       "<matplotlib.figure.Figure at 0x2b4b1771d250>"
      ]
     },
     "metadata": {},
     "output_type": "display_data"
    }
   ],
   "source": [
    "fig, ax = plt.subplots(figsize=(2, 2))\n",
    "sns.barplot(x='-log10(q)', y='name', data=go_enrichment_top, color='grey')\n",
    "ax.set(xlabel='-log10(q)', ylabel='GO Term Name')\n"
   ]
  },
  {
   "cell_type": "code",
   "execution_count": null,
   "metadata": {
    "collapsed": true
   },
   "outputs": [],
   "source": []
  }
 ],
 "metadata": {
  "kernelspec": {
   "display_name": "Python 2",
   "language": "python",
   "name": "python2"
  },
  "language_info": {
   "codemirror_mode": {
    "name": "ipython",
    "version": 2
   },
   "file_extension": ".py",
   "mimetype": "text/x-python",
   "name": "python",
   "nbconvert_exporter": "python",
   "pygments_lexer": "ipython2",
   "version": "2.7.11"
  }
 },
 "nbformat": 4,
 "nbformat_minor": 0
}
