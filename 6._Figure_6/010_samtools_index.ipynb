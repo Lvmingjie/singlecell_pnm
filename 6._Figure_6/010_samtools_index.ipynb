{
 "cells": [
  {
   "cell_type": "code",
   "execution_count": 2,
   "metadata": {
    "collapsed": false
   },
   "outputs": [
    {
     "name": "stdout",
     "output_type": "stream",
     "text": [
      "/oasis/tscc/scratch/obotvinnik/projects/singlecell_pnms/analysis/bams_from_aws/rmdup\n"
     ]
    }
   ],
   "source": [
    "cd ~/projects/singlecell_pnms/analysis/bams_from_aws/rmdup/"
   ]
  },
  {
   "cell_type": "code",
   "execution_count": 3,
   "metadata": {
    "collapsed": false
   },
   "outputs": [
    {
     "name": "stdout",
     "output_type": "stream",
     "text": [
      "-rw-r--r-- 1 obotvinnik yeo-group  754M Nov 11 19:23 CVN_01_R1.fastq.gz.polyATrim.adapterTrim.rmRep.sorted.rg.bam\r\n",
      "-rw-r--r-- 1 obotvinnik yeo-group  820M Nov 11 22:13 CVN_02_R1.fastq.gz.polyATrim.adapterTrim.rmRep.sorted.rg.bam\r\n",
      "-rw-r--r-- 1 obotvinnik yeo-group  809M Nov 11 21:46 CVN_03_R1.fastq.gz.polyATrim.adapterTrim.rmRep.sorted.rg.bam\r\n",
      "-rw-r--r-- 1 obotvinnik yeo-group  778M Nov 11 19:20 CVN_04_R1.fastq.gz.polyATrim.adapterTrim.rmRep.sorted.rg.bam\r\n",
      "-rw-r--r-- 1 obotvinnik yeo-group  861M Nov 11 18:46 CVN_05_R1.fastq.gz.polyATrim.adapterTrim.rmRep.sorted.rg.bam\r\n",
      "-rw-r--r-- 1 obotvinnik yeo-group  849M Nov 11 19:58 CVN_06_R1.fastq.gz.polyATrim.adapterTrim.rmRep.sorted.rg.bam\r\n",
      "-rw-r--r-- 1 obotvinnik yeo-group  1.1G Nov 11 19:53 CVN_07_R1.fastq.gz.polyATrim.adapterTrim.rmRep.sorted.rg.bam\r\n",
      "-rw-r--r-- 1 obotvinnik yeo-group  917M Nov 11 20:14 CVN_08_R1.fastq.gz.polyATrim.adapterTrim.rmRep.sorted.rg.bam\r\n",
      "-rw-r--r-- 1 obotvinnik yeo-group  696M Nov 11 16:25 CVN_09_R1.fastq.gz.polyATrim.adapterTrim.rmRep.sorted.rg.bam\r\n",
      "-rw-r--r-- 1 obotvinnik yeo-group   67M Nov 11 19:03 CVN_10_R1.fastq.gz.polyATrim.adapterTrim.rmRep.sorted.rg.bam\r\n",
      "-rw-r--r-- 1 obotvinnik yeo-group  850M Nov 11 19:37 CVN_11_R1.fastq.gz.polyATrim.adapterTrim.rmRep.sorted.rg.bam\r\n",
      "-rw-r--r-- 1 obotvinnik yeo-group  898M Nov 11 22:11 CVN_12_R1.fastq.gz.polyATrim.adapterTrim.rmRep.sorted.rg.bam\r\n",
      "-rw-r--r-- 1 obotvinnik yeo-group  802M Nov 11 21:41 CVN_13_R1.fastq.gz.polyATrim.adapterTrim.rmRep.sorted.rg.bam\r\n",
      "-rw-r--r-- 1 obotvinnik yeo-group  1.1G Nov 11 19:22 CVN_14_R1.fastq.gz.polyATrim.adapterTrim.rmRep.sorted.rg.bam\r\n",
      "-rw-r--r-- 1 obotvinnik yeo-group  790M Nov 11 17:03 CVN_15_R1.fastq.gz.polyATrim.adapterTrim.rmRep.sorted.rg.bam\r\n",
      "-rw-r--r-- 1 obotvinnik yeo-group  785M Nov 11 19:59 CVN_16_R1.fastq.gz.polyATrim.adapterTrim.rmRep.sorted.rg.bam\r\n",
      "-rw-r--r-- 1 obotvinnik yeo-group  1.1G Nov 11 19:54 CVN_17_R1.fastq.gz.polyATrim.adapterTrim.rmRep.sorted.rg.bam\r\n",
      "-rw-r--r-- 1 obotvinnik yeo-group  538M Nov 11 20:24 CVN_18_R1.fastq.gz.polyATrim.adapterTrim.rmRep.sorted.rg.bam\r\n",
      "-rw-r--r-- 1 obotvinnik yeo-group  644M Nov 11 19:43 CVN_19_R1.fastq.gz.polyATrim.adapterTrim.rmRep.sorted.rg.bam\r\n",
      "-rw-r--r-- 1 obotvinnik yeo-group  564M Nov 11 17:50 CVN_20_R1.fastq.gz.polyATrim.adapterTrim.rmRep.sorted.rg.bam\r\n",
      "-rw-r--r-- 1 obotvinnik yeo-group  704M Nov 11 19:39 CVN_21_R1.fastq.gz.polyATrim.adapterTrim.rmRep.sorted.rg.bam\r\n",
      "-rw-r--r-- 1 obotvinnik yeo-group  598M Nov 11 16:23 CVN_22_R1.fastq.gz.polyATrim.adapterTrim.rmRep.sorted.rg.bam\r\n",
      "-rw-r--r-- 1 obotvinnik yeo-group  570M Nov 11 20:19 CVN_23_R1.fastq.gz.polyATrim.adapterTrim.rmRep.sorted.rg.bam\r\n",
      "-rw-r--r-- 1 obotvinnik yeo-group  626M Nov 11 16:38 CVN_24_R1.fastq.gz.polyATrim.adapterTrim.rmRep.sorted.rg.bam\r\n",
      "-rw-r--r-- 1 obotvinnik yeo-group  562M Nov 11 18:56 CVN_25_R1.fastq.gz.polyATrim.adapterTrim.rmRep.sorted.rg.bam\r\n",
      "-rw-r--r-- 1 obotvinnik yeo-group  615M Nov 11 20:01 CVN_26_R1.fastq.gz.polyATrim.adapterTrim.rmRep.sorted.rg.bam\r\n",
      "-rw-r--r-- 1 obotvinnik yeo-group  569M Nov 11 19:43 CVN_27_R1.fastq.gz.polyATrim.adapterTrim.rmRep.sorted.rg.bam\r\n",
      "-rw-r--r-- 1 obotvinnik yeo-group  606M Nov 11 21:41 CVN_28_R1.fastq.gz.polyATrim.adapterTrim.rmRep.sorted.rg.bam\r\n",
      "-rw-r--r-- 1 obotvinnik yeo-group  647M Nov 11 16:18 CVN_29_R1.fastq.gz.polyATrim.adapterTrim.rmRep.sorted.rg.bam\r\n",
      "-rw-r--r-- 1 obotvinnik yeo-group  715M Nov 11 17:42 CVN_30_R1.fastq.gz.polyATrim.adapterTrim.rmRep.sorted.rg.bam\r\n",
      "-rw-r--r-- 1 obotvinnik yeo-group  835M Nov 11 21:31 CVN_31_R1.fastq.gz.polyATrim.adapterTrim.rmRep.sorted.rg.bam\r\n",
      "-rw-r--r-- 1 obotvinnik yeo-group  993M Nov 11 22:08 CVN_32_R1.fastq.gz.polyATrim.adapterTrim.rmRep.sorted.rg.bam\r\n",
      "-rw-r--r-- 1 obotvinnik yeo-group  818M Nov 11 21:47 CVN_33_R1.fastq.gz.polyATrim.adapterTrim.rmRep.sorted.rg.bam\r\n",
      "-rw-r--r-- 1 obotvinnik yeo-group  370M Nov 11 19:15 CVN_34_R1.fastq.gz.polyATrim.adapterTrim.rmRep.sorted.rg.bam\r\n",
      "-rw-r--r-- 1 obotvinnik yeo-group  1.3G Nov 11 19:00 CVN_35_R1.fastq.gz.polyATrim.adapterTrim.rmRep.sorted.rg.bam\r\n",
      "-rw-r--r-- 1 obotvinnik yeo-group  1.1G Nov 11 18:36 M1_01_R1.fastq.gz.polyATrim.adapterTrim.rmRep.sorted.rg.bam\r\n",
      "-rw-r--r-- 1 obotvinnik yeo-group  1.2G Nov 11 20:39 M1_02_R1.fastq.gz.polyATrim.adapterTrim.rmRep.sorted.rg.bam\r\n",
      "-rw-r--r-- 1 obotvinnik yeo-group  1.7G Nov 11 22:18 M1_03_R1.fastq.gz.polyATrim.adapterTrim.rmRep.sorted.rg.bam\r\n",
      "-rw-r--r-- 1 obotvinnik yeo-group  887M Nov 11 18:41 M1_04_R1.fastq.gz.polyATrim.adapterTrim.rmRep.sorted.rg.bam\r\n",
      "-rw-r--r-- 1 obotvinnik yeo-group  1.1G Nov 11 16:34 M1_05_R1.fastq.gz.polyATrim.adapterTrim.rmRep.sorted.rg.bam\r\n",
      "-rw-r--r-- 1 obotvinnik yeo-group  1.7G Nov 11 22:07 M1_06_R1.fastq.gz.polyATrim.adapterTrim.rmRep.sorted.rg.bam\r\n",
      "-rw-r--r-- 1 obotvinnik yeo-group  1.8G Nov 11 22:06 M1_07_R1.fastq.gz.polyATrim.adapterTrim.rmRep.sorted.rg.bam\r\n",
      "-rw-r--r-- 1 obotvinnik yeo-group  1.1G Nov 11 22:10 M1_08_R1.fastq.gz.polyATrim.adapterTrim.rmRep.sorted.rg.bam\r\n",
      "-rw-r--r-- 1 obotvinnik yeo-group  1.2G Nov 11 21:51 M1_09_R1.fastq.gz.polyATrim.adapterTrim.rmRep.sorted.rg.bam\r\n",
      "-rw-r--r-- 1 obotvinnik yeo-group  1.2G Nov 11 19:42 M1_10_R1.fastq.gz.polyATrim.adapterTrim.rmRep.sorted.rg.bam\r\n",
      "-rw-r--r-- 1 obotvinnik yeo-group  986M Nov 11 18:39 M1_11_R1.fastq.gz.polyATrim.adapterTrim.rmRep.sorted.rg.bam\r\n",
      "-rw-r--r-- 1 obotvinnik yeo-group  2.1G Nov 11 20:56 M1_12_R1.fastq.gz.polyATrim.adapterTrim.rmRep.sorted.rg.bam\r\n",
      "-rw-r--r-- 1 obotvinnik yeo-group  1.3G Nov 11 21:45 M2_01_R1.fastq.gz.polyATrim.adapterTrim.rmRep.sorted.rg.bam\r\n",
      "-rw-r--r-- 1 obotvinnik yeo-group  1.3G Nov 11 18:00 M2_02_R1.fastq.gz.polyATrim.adapterTrim.rmRep.sorted.rg.bam\r\n",
      "-rw-r--r-- 1 obotvinnik yeo-group  1.4G Nov 11 19:36 M2_03_R1.fastq.gz.polyATrim.adapterTrim.rmRep.sorted.rg.bam\r\n",
      "-rw-r--r-- 1 obotvinnik yeo-group  1.3G Nov 11 19:58 M2_04_R1.fastq.gz.polyATrim.adapterTrim.rmRep.sorted.rg.bam\r\n",
      "-rw-r--r-- 1 obotvinnik yeo-group  1.4G Nov 11 22:05 M2_05_R1.fastq.gz.polyATrim.adapterTrim.rmRep.sorted.rg.bam\r\n",
      "-rw-r--r-- 1 obotvinnik yeo-group  1.1G Nov 11 19:41 M2_06_R1.fastq.gz.polyATrim.adapterTrim.rmRep.sorted.rg.bam\r\n",
      "-rw-r--r-- 1 obotvinnik yeo-group  1.4G Nov 11 17:11 M2_07_R1.fastq.gz.polyATrim.adapterTrim.rmRep.sorted.rg.bam\r\n",
      "-rw-r--r-- 1 obotvinnik yeo-group  1.4G Nov 11 21:20 M2_08_R1.fastq.gz.polyATrim.adapterTrim.rmRep.sorted.rg.bam\r\n",
      "-rw-r--r-- 1 obotvinnik yeo-group  1.4G Nov 11 17:54 M2_09_R1.fastq.gz.polyATrim.adapterTrim.rmRep.sorted.rg.bam\r\n",
      "-rw-r--r-- 1 obotvinnik yeo-group  1.7G Nov 11 22:16 M2_10_R1.fastq.gz.polyATrim.adapterTrim.rmRep.sorted.rg.bam\r\n",
      "-rw-r--r-- 1 obotvinnik yeo-group  1.6G Nov 11 21:38 M2_11_R1.fastq.gz.polyATrim.adapterTrim.rmRep.sorted.rg.bam\r\n",
      "-rw-r--r-- 1 obotvinnik yeo-group  1.5G Nov 11 17:25 M2_12_R1.fastq.gz.polyATrim.adapterTrim.rmRep.sorted.rg.bam\r\n",
      "-rw-r--r-- 1 obotvinnik yeo-group  224M Nov 11 19:53 M2nd_01_R1.fastq.gz.polyATrim.adapterTrim.rmRep.sorted.rg.bam\r\n",
      "-rw-r--r-- 1 obotvinnik yeo-group  474M Nov 11 18:43 M2nd_02_R1.fastq.gz.polyATrim.adapterTrim.rmRep.sorted.rg.bam\r\n",
      "-rw-r--r-- 1 obotvinnik yeo-group  546M Nov 11 16:32 M2nd_03_R1.fastq.gz.polyATrim.adapterTrim.rmRep.sorted.rg.bam\r\n",
      "-rw-r--r-- 1 obotvinnik yeo-group  383M Nov 11 20:40 M2nd_04_R1.fastq.gz.polyATrim.adapterTrim.rmRep.sorted.rg.bam\r\n",
      "-rw-r--r-- 1 obotvinnik yeo-group  404M Nov 11 16:13 M2nd_05_R1.fastq.gz.polyATrim.adapterTrim.rmRep.sorted.rg.bam\r\n",
      "-rw-r--r-- 1 obotvinnik yeo-group  661M Nov 11 19:30 M2nd_06_R1.fastq.gz.polyATrim.adapterTrim.rmRep.sorted.rg.bam\r\n",
      "-rw-r--r-- 1 obotvinnik yeo-group  773M Nov 11 17:43 M2nd_07_R1.fastq.gz.polyATrim.adapterTrim.rmRep.sorted.rg.bam\r\n",
      "-rw-r--r-- 1 obotvinnik yeo-group  968M Nov 11 19:02 M2nd_08_R1.fastq.gz.polyATrim.adapterTrim.rmRep.sorted.rg.bam\r\n",
      "-rw-r--r-- 1 obotvinnik yeo-group  182M Nov 11 16:51 M2nd_09_R1.fastq.gz.polyATrim.adapterTrim.rmRep.sorted.rg.bam\r\n",
      "-rw-r--r-- 1 obotvinnik yeo-group  339M Nov 11 19:53 M2nd_10_R1.fastq.gz.polyATrim.adapterTrim.rmRep.sorted.rg.bam\r\n",
      "-rw-r--r-- 1 obotvinnik yeo-group  313M Nov 11 19:56 M2nd_11_R1.fastq.gz.polyATrim.adapterTrim.rmRep.sorted.rg.bam\r\n",
      "-rw-r--r-- 1 obotvinnik yeo-group  923M Nov 11 18:52 M2nd_12_R1.fastq.gz.polyATrim.adapterTrim.rmRep.sorted.rg.bam\r\n",
      "-rw-r--r-- 1 obotvinnik yeo-group  2.9G Nov 11 19:34 M2nd_13_R1.fastq.gz.polyATrim.adapterTrim.rmRep.sorted.rg.bam\r\n",
      "-rw-r--r-- 1 obotvinnik yeo-group  502M Nov 11 20:52 M2nd_14_R1.fastq.gz.polyATrim.adapterTrim.rmRep.sorted.rg.bam\r\n",
      "-rw-r--r-- 1 obotvinnik yeo-group  437M Nov 11 16:18 M2nd_15_R1.fastq.gz.polyATrim.adapterTrim.rmRep.sorted.rg.bam\r\n",
      "-rw-r--r-- 1 obotvinnik yeo-group  399M Nov 11 19:31 M2nd_16_R1.fastq.gz.polyATrim.adapterTrim.rmRep.sorted.rg.bam\r\n",
      "-rw-r--r-- 1 obotvinnik yeo-group  230M Nov 11 17:14 M2nd_17_R1.fastq.gz.polyATrim.adapterTrim.rmRep.sorted.rg.bam\r\n",
      "-rw-r--r-- 1 obotvinnik yeo-group  466M Nov 11 16:34 M2nd_18_R1.fastq.gz.polyATrim.adapterTrim.rmRep.sorted.rg.bam\r\n",
      "-rw-r--r-- 1 obotvinnik yeo-group  329M Nov 11 16:44 M2nd_19_R1.fastq.gz.polyATrim.adapterTrim.rmRep.sorted.rg.bam\r\n",
      "-rw-r--r-- 1 obotvinnik yeo-group  416M Nov 11 22:03 M2nd_20_R1.fastq.gz.polyATrim.adapterTrim.rmRep.sorted.rg.bam\r\n",
      "-rw-r--r-- 1 obotvinnik yeo-group  2.8G Nov 11 20:16 M2nd_21_R1.fastq.gz.polyATrim.adapterTrim.rmRep.sorted.rg.bam\r\n",
      "-rw-r--r-- 1 obotvinnik yeo-group  548M Nov 11 18:52 M2nd_22_R1.fastq.gz.polyATrim.adapterTrim.rmRep.sorted.rg.bam\r\n",
      "-rw-r--r-- 1 obotvinnik yeo-group   91M Nov 11 16:35 M2nd_23_R1.fastq.gz.polyATrim.adapterTrim.rmRep.sorted.rg.bam\r\n",
      "-rw-r--r-- 1 obotvinnik yeo-group  291M Nov 11 21:46 M2nd_24_R1.fastq.gz.polyATrim.adapterTrim.rmRep.sorted.rg.bam\r\n",
      "-rw-r--r-- 1 obotvinnik yeo-group  279M Nov 11 16:20 M2nd_25_R1.fastq.gz.polyATrim.adapterTrim.rmRep.sorted.rg.bam\r\n",
      "-rw-r--r-- 1 obotvinnik yeo-group  308M Nov 11 21:12 M2nd_26_R1.fastq.gz.polyATrim.adapterTrim.rmRep.sorted.rg.bam\r\n",
      "-rw-r--r-- 1 obotvinnik yeo-group  160M Nov 11 17:51 M2nd_27_R1.fastq.gz.polyATrim.adapterTrim.rmRep.sorted.rg.bam\r\n",
      "-rw-r--r-- 1 obotvinnik yeo-group  208M Nov 11 16:26 M2nd_28_R1.fastq.gz.polyATrim.adapterTrim.rmRep.sorted.rg.bam\r\n",
      "-rw-r--r-- 1 obotvinnik yeo-group  265M Nov 11 16:23 M2nd_29_R1.fastq.gz.polyATrim.adapterTrim.rmRep.sorted.rg.bam\r\n",
      "-rw-r--r-- 1 obotvinnik yeo-group  2.7M Nov 11 21:58 M2nd_30_R1.fastq.gz.polyATrim.adapterTrim.rmRep.sorted.rg.bam\r\n",
      "-rw-r--r-- 1 obotvinnik yeo-group  113K Nov 11 19:59 M2nd_31_R1.fastq.gz.polyATrim.adapterTrim.rmRep.sorted.rg.bam\r\n",
      "-rw-r--r-- 1 obotvinnik yeo-group   29M Nov 11 18:53 M2nd_32_R1.fastq.gz.polyATrim.adapterTrim.rmRep.sorted.rg.bam\r\n",
      "-rw-r--r-- 1 obotvinnik yeo-group  577M Nov 11 15:58 M2nd_33_R1.fastq.gz.polyATrim.adapterTrim.rmRep.sorted.rg.bam\r\n",
      "-rw-r--r-- 1 obotvinnik yeo-group  943M Nov 11 21:50 M2nd_34_R1.fastq.gz.polyATrim.adapterTrim.rmRep.sorted.rg.bam\r\n",
      "-rw-r--r-- 1 obotvinnik yeo-group  993M Nov 11 16:15 M3_01_R1.fastq.gz.polyATrim.adapterTrim.rmRep.sorted.rg.bam\r\n",
      "-rw-r--r-- 1 obotvinnik yeo-group  1.6G Nov 11 19:35 M3_02_R1.fastq.gz.polyATrim.adapterTrim.rmRep.sorted.rg.bam\r\n",
      "-rw-r--r-- 1 obotvinnik yeo-group  1.3G Nov 11 18:00 M3_03_R1.fastq.gz.polyATrim.adapterTrim.rmRep.sorted.rg.bam\r\n",
      "-rw-r--r-- 1 obotvinnik yeo-group  731M Nov 11 19:51 M3_04_R1.fastq.gz.polyATrim.adapterTrim.rmRep.sorted.rg.bam\r\n",
      "-rw-r--r-- 1 obotvinnik yeo-group  1.2G Nov 11 22:03 M3_05_R1.fastq.gz.polyATrim.adapterTrim.rmRep.sorted.rg.bam\r\n",
      "-rw-r--r-- 1 obotvinnik yeo-group  903M Nov 11 18:53 M3_06_R1.fastq.gz.polyATrim.adapterTrim.rmRep.sorted.rg.bam\r\n",
      "-rw-r--r-- 1 obotvinnik yeo-group  959M Nov 11 16:28 M3_07_R1.fastq.gz.polyATrim.adapterTrim.rmRep.sorted.rg.bam\r\n",
      "-rw-r--r-- 1 obotvinnik yeo-group  3.2G Nov 11 18:48 M3_08_R1.fastq.gz.polyATrim.adapterTrim.rmRep.sorted.rg.bam\r\n",
      "-rw-r--r-- 1 obotvinnik yeo-group  3.0G Nov 11 21:24 M3_09_R1.fastq.gz.polyATrim.adapterTrim.rmRep.sorted.rg.bam\r\n",
      "-rw-r--r-- 1 obotvinnik yeo-group  661K Nov 11 21:32 M3_10_R1.fastq.gz.polyATrim.adapterTrim.rmRep.sorted.rg.bam\r\n",
      "-rw-r--r-- 1 obotvinnik yeo-group  1.4G Nov 11 22:13 M3_11_R1.fastq.gz.polyATrim.adapterTrim.rmRep.sorted.rg.bam\r\n",
      "-rw-r--r-- 1 obotvinnik yeo-group  2.0G Nov 11 19:39 M3_12_R1.fastq.gz.polyATrim.adapterTrim.rmRep.sorted.rg.bam\r\n",
      "-rw-r--r-- 1 obotvinnik yeo-group  2.3G Nov 11 18:44 M3_13_R1.fastq.gz.polyATrim.adapterTrim.rmRep.sorted.rg.bam\r\n",
      "-rw-r--r-- 1 obotvinnik yeo-group  668M Nov 11 21:58 M3_14_R1.fastq.gz.polyATrim.adapterTrim.rmRep.sorted.rg.bam\r\n",
      "-rw-r--r-- 1 obotvinnik yeo-group  4.2G Nov 11 17:21 M4_01_R1.fastq.gz.polyATrim.adapterTrim.rmRep.sorted.rg.bam\r\n",
      "-rw-r--r-- 1 obotvinnik yeo-group  6.0G Nov 11 22:21 M4_02_R1.fastq.gz.polyATrim.adapterTrim.rmRep.sorted.rg.bam\r\n",
      "-rw-r--r-- 1 obotvinnik yeo-group  4.4G Nov 11 22:18 M4_03_R1.fastq.gz.polyATrim.adapterTrim.rmRep.sorted.rg.bam\r\n",
      "-rw-r--r-- 1 obotvinnik yeo-group  3.1G Nov 11 21:57 M4_04_R1.fastq.gz.polyATrim.adapterTrim.rmRep.sorted.rg.bam\r\n",
      "-rw-r--r-- 1 obotvinnik yeo-group  1.2G Nov 11 19:28 M4_05_R1.fastq.gz.polyATrim.adapterTrim.rmRep.sorted.rg.bam\r\n",
      "-rw-r--r-- 1 obotvinnik yeo-group  520M Nov 11 22:12 M4_06_R1.fastq.gz.polyATrim.adapterTrim.rmRep.sorted.rg.bam\r\n",
      "-rw-r--r-- 1 obotvinnik yeo-group  3.8G Nov 11 20:59 M4_07_R1.fastq.gz.polyATrim.adapterTrim.rmRep.sorted.rg.bam\r\n",
      "-rw-r--r-- 1 obotvinnik yeo-group  5.6G Nov 11 22:27 M4_08_R1.fastq.gz.polyATrim.adapterTrim.rmRep.sorted.rg.bam\r\n",
      "-rw-r--r-- 1 obotvinnik yeo-group  5.5G Nov 11 22:15 M4_09_R1.fastq.gz.polyATrim.adapterTrim.rmRep.sorted.rg.bam\r\n",
      "-rw-r--r-- 1 obotvinnik yeo-group  4.2G Nov 11 16:42 M4_10_R1.fastq.gz.polyATrim.adapterTrim.rmRep.sorted.rg.bam\r\n",
      "-rw-r--r-- 1 obotvinnik yeo-group  510M Nov 11 18:48 M4_11_R1.fastq.gz.polyATrim.adapterTrim.rmRep.sorted.rg.bam\r\n",
      "-rw-r--r-- 1 obotvinnik yeo-group  521M Nov 11 21:53 M4_12_R1.fastq.gz.polyATrim.adapterTrim.rmRep.sorted.rg.bam\r\n",
      "-rw-r--r-- 1 obotvinnik yeo-group  867M Nov 11 21:59 M4_13_R1.fastq.gz.polyATrim.adapterTrim.rmRep.sorted.rg.bam\r\n",
      "-rw-r--r-- 1 obotvinnik yeo-group  614M Nov 11 18:45 M4_14_R1.fastq.gz.polyATrim.adapterTrim.rmRep.sorted.rg.bam\r\n",
      "-rw-r--r-- 1 obotvinnik yeo-group  1.9G Nov 11 19:16 M5_01_R1.fastq.gz.polyATrim.adapterTrim.rmRep.sorted.rg.bam\r\n",
      "-rw-r--r-- 1 obotvinnik yeo-group  2.3G Nov 11 22:11 M5_02_R1.fastq.gz.polyATrim.adapterTrim.rmRep.sorted.rg.bam\r\n",
      "-rw-r--r-- 1 obotvinnik yeo-group  2.5G Nov 11 22:08 M5_03_R1.fastq.gz.polyATrim.adapterTrim.rmRep.sorted.rg.bam\r\n",
      "-rw-r--r-- 1 obotvinnik yeo-group  2.0G Nov 11 19:35 M5_04_R1.fastq.gz.polyATrim.adapterTrim.rmRep.sorted.rg.bam\r\n",
      "-rw-r--r-- 1 obotvinnik yeo-group  6.4G Nov 11 20:18 M6_01_R1.fastq.gz.polyATrim.adapterTrim.rmRep.sorted.rg.bam\r\n",
      "-rw-r--r-- 1 obotvinnik yeo-group  3.4G Nov 11 19:31 M6_02_R1.fastq.gz.polyATrim.adapterTrim.rmRep.sorted.rg.bam\r\n",
      "-rw-r--r-- 1 obotvinnik yeo-group  5.0G Nov 11 18:15 M6_03_R1.fastq.gz.polyATrim.adapterTrim.rmRep.sorted.bam\r\n",
      "-rw-r--r-- 1 obotvinnik yeo-group  5.1G Nov 11 19:05 M6_04_R1.fastq.gz.polyATrim.adapterTrim.rmRep.sorted.bam\r\n",
      "-rw-r--r-- 1 obotvinnik yeo-group  4.1G Nov 11 17:37 M6_05_R1.fastq.gz.polyATrim.adapterTrim.rmRep.sorted.bam\r\n",
      "-rw-r--r-- 1 obotvinnik yeo-group  3.5G Nov 11 18:26 M6_06_R1.fastq.gz.polyATrim.adapterTrim.rmRep.sorted.bam\r\n",
      "-rw-r--r-- 1 obotvinnik yeo-group  4.9G Nov 11 18:08 M6_07_R1.fastq.gz.polyATrim.adapterTrim.rmRep.sorted.bam\r\n",
      "-rw-r--r-- 1 obotvinnik yeo-group  698M Nov 11 20:09 MSA_01_R1.fastq.gz.polyATrim.adapterTrim.rmRep.sorted.rg.bam\r\n",
      "-rw-r--r-- 1 obotvinnik yeo-group  781M Nov 11 18:58 MSA_02_R1.fastq.gz.polyATrim.adapterTrim.rmRep.sorted.rg.bam\r\n",
      "-rw-r--r-- 1 obotvinnik yeo-group  372M Nov 11 19:15 MSA_03_R1.fastq.gz.polyATrim.adapterTrim.rmRep.sorted.rg.bam\r\n",
      "-rw-r--r-- 1 obotvinnik yeo-group  537M Nov 11 21:46 MSA_04_R1.fastq.gz.polyATrim.adapterTrim.rmRep.sorted.rg.bam\r\n",
      "-rw-r--r-- 1 obotvinnik yeo-group  568M Nov 11 22:05 MSA_05_R1.fastq.gz.polyATrim.adapterTrim.rmRep.sorted.rg.bam\r\n",
      "-rw-r--r-- 1 obotvinnik yeo-group  558M Nov 11 21:03 MSA_06_R1.fastq.gz.polyATrim.adapterTrim.rmRep.sorted.rg.bam\r\n",
      "-rw-r--r-- 1 obotvinnik yeo-group  643M Nov 11 17:48 MSA_07_R1.fastq.gz.polyATrim.adapterTrim.rmRep.sorted.rg.bam\r\n",
      "-rw-r--r-- 1 obotvinnik yeo-group  890M Nov 11 19:25 MSA_08_R1.fastq.gz.polyATrim.adapterTrim.rmRep.sorted.rg.bam\r\n",
      "-rw-r--r-- 1 obotvinnik yeo-group  653M Nov 11 17:06 MSA_09_R1.fastq.gz.polyATrim.adapterTrim.rmRep.sorted.rg.bam\r\n",
      "-rw-r--r-- 1 obotvinnik yeo-group  516M Nov 11 22:03 MSA_10_R1.fastq.gz.polyATrim.adapterTrim.rmRep.sorted.rg.bam\r\n",
      "-rw-r--r-- 1 obotvinnik yeo-group  625M Nov 11 21:51 MSA_11_R1.fastq.gz.polyATrim.adapterTrim.rmRep.sorted.rg.bam\r\n",
      "-rw-r--r-- 1 obotvinnik yeo-group  626M Nov 11 18:53 MSA_12_R1.fastq.gz.polyATrim.adapterTrim.rmRep.sorted.rg.bam\r\n",
      "-rw-r--r-- 1 obotvinnik yeo-group  1.1G Nov 11 19:07 MSA_13_R1.fastq.gz.polyATrim.adapterTrim.rmRep.sorted.rg.bam\r\n",
      "-rw-r--r-- 1 obotvinnik yeo-group  950M Nov 11 20:21 MSA_14_R1.fastq.gz.polyATrim.adapterTrim.rmRep.sorted.rg.bam\r\n",
      "-rw-r--r-- 1 obotvinnik yeo-group  552M Nov 11 16:22 MSA_15_R1.fastq.gz.polyATrim.adapterTrim.rmRep.sorted.rg.bam\r\n",
      "-rw-r--r-- 1 obotvinnik yeo-group  791M Nov 11 19:40 MSA_16_R1.fastq.gz.polyATrim.adapterTrim.rmRep.sorted.rg.bam\r\n",
      "-rw-r--r-- 1 obotvinnik yeo-group  1.4G Nov 11 17:58 MSA_17_R1.fastq.gz.polyATrim.adapterTrim.rmRep.sorted.rg.bam\r\n",
      "-rw-r--r-- 1 obotvinnik yeo-group  701M Nov 11 19:36 MSA_18_R1.fastq.gz.polyATrim.adapterTrim.rmRep.sorted.rg.bam\r\n",
      "-rw-r--r-- 1 obotvinnik yeo-group  264M Nov 11 17:04 MSA_19_R1.fastq.gz.polyATrim.adapterTrim.rmRep.sorted.rg.bam\r\n",
      "-rw-r--r-- 1 obotvinnik yeo-group  631M Nov 11 19:55 MSA_20_R1.fastq.gz.polyATrim.adapterTrim.rmRep.sorted.rg.bam\r\n",
      "-rw-r--r-- 1 obotvinnik yeo-group  479M Nov 11 19:58 MSA_21_R1.fastq.gz.polyATrim.adapterTrim.rmRep.sorted.rg.bam\r\n",
      "-rw-r--r-- 1 obotvinnik yeo-group  465M Nov 11 17:02 MSA_22_R1.fastq.gz.polyATrim.adapterTrim.rmRep.sorted.rg.bam\r\n",
      "-rw-r--r-- 1 obotvinnik yeo-group  610M Nov 11 19:18 MSA_23_R1.fastq.gz.polyATrim.adapterTrim.rmRep.sorted.rg.bam\r\n",
      "-rw-r--r-- 1 obotvinnik yeo-group  777M Nov 11 21:40 MSA_24_R1.fastq.gz.polyATrim.adapterTrim.rmRep.sorted.rg.bam\r\n",
      "-rw-r--r-- 1 obotvinnik yeo-group  277K Nov 11 22:05 MSA_25_R1.fastq.gz.polyATrim.adapterTrim.rmRep.sorted.rg.bam\r\n",
      "-rw-r--r-- 1 obotvinnik yeo-group  567M Nov 11 19:29 MSA_26_R1.fastq.gz.polyATrim.adapterTrim.rmRep.sorted.rg.bam\r\n",
      "-rw-r--r-- 1 obotvinnik yeo-group  582M Nov 11 19:19 MSA_27_R1.fastq.gz.polyATrim.adapterTrim.rmRep.sorted.rg.bam\r\n",
      "-rw-r--r-- 1 obotvinnik yeo-group  545M Nov 11 16:34 MSA_28_R1.fastq.gz.polyATrim.adapterTrim.rmRep.sorted.rg.bam\r\n",
      "-rw-r--r-- 1 obotvinnik yeo-group  239M Nov 11 16:47 MSA_29_R1.fastq.gz.polyATrim.adapterTrim.rmRep.sorted.rg.bam\r\n",
      "-rw-r--r-- 1 obotvinnik yeo-group  402M Nov 11 19:50 MSA_30_R1.fastq.gz.polyATrim.adapterTrim.rmRep.sorted.rg.bam\r\n",
      "-rw-r--r-- 1 obotvinnik yeo-group  715M Nov 11 21:57 MSA_31_R1.fastq.gz.polyATrim.adapterTrim.rmRep.sorted.rg.bam\r\n",
      "-rw-r--r-- 1 obotvinnik yeo-group  468M Nov 11 18:43 MSA_32_R1.fastq.gz.polyATrim.adapterTrim.rmRep.sorted.rg.bam\r\n",
      "-rw-r--r-- 1 obotvinnik yeo-group  581M Nov 11 19:11 MSA_33_R1.fastq.gz.polyATrim.adapterTrim.rmRep.sorted.rg.bam\r\n",
      "-rw-r--r-- 1 obotvinnik yeo-group  493M Nov 11 21:44 MSA_34_R1.fastq.gz.polyATrim.adapterTrim.rmRep.sorted.rg.bam\r\n",
      "-rw-r--r-- 1 obotvinnik yeo-group  415M Nov 11 16:13 MSA_35_R1.fastq.gz.polyATrim.adapterTrim.rmRep.sorted.rg.bam\r\n",
      "-rw-r--r-- 1 obotvinnik yeo-group  293M Nov 11 19:21 MSA_36_R1.fastq.gz.polyATrim.adapterTrim.rmRep.sorted.rg.bam\r\n",
      "-rw-r--r-- 1 obotvinnik yeo-group  395M Nov 11 17:40 MSA_37_R1.fastq.gz.polyATrim.adapterTrim.rmRep.sorted.rg.bam\r\n",
      "-rw-r--r-- 1 obotvinnik yeo-group  1.4G Nov 11 21:54 N1_01_R1.fastq.gz.polyATrim.adapterTrim.rmRep.sorted.rg.bam\r\n",
      "-rw-r--r-- 1 obotvinnik yeo-group  1.6G Nov 11 21:51 N1_02_R1.fastq.gz.polyATrim.adapterTrim.rmRep.sorted.rg.bam\r\n",
      "-rw-r--r-- 1 obotvinnik yeo-group  1.3G Nov 11 21:10 N1_03_R1.fastq.gz.polyATrim.adapterTrim.rmRep.sorted.rg.bam\r\n",
      "-rw-r--r-- 1 obotvinnik yeo-group  1.5G Nov 11 22:00 N1_04_R1.fastq.gz.polyATrim.adapterTrim.rmRep.sorted.rg.bam\r\n",
      "-rw-r--r-- 1 obotvinnik yeo-group  1.3G Nov 11 22:08 N1_05_R1.fastq.gz.polyATrim.adapterTrim.rmRep.sorted.rg.bam\r\n",
      "-rw-r--r-- 1 obotvinnik yeo-group  748M Nov 11 19:00 N1_06_R1.fastq.gz.polyATrim.adapterTrim.rmRep.sorted.rg.bam\r\n",
      "-rw-r--r-- 1 obotvinnik yeo-group  1.2G Nov 11 18:50 N1_07_R1.fastq.gz.polyATrim.adapterTrim.rmRep.sorted.rg.bam\r\n",
      "-rw-r--r-- 1 obotvinnik yeo-group  1.4G Nov 11 19:28 N1_08_R1.fastq.gz.polyATrim.adapterTrim.rmRep.sorted.rg.bam\r\n",
      "-rw-r--r-- 1 obotvinnik yeo-group  964M Nov 11 17:30 N1_09_R1.fastq.gz.polyATrim.adapterTrim.rmRep.sorted.rg.bam\r\n",
      "-rw-r--r-- 1 obotvinnik yeo-group  1.1G Nov 11 22:09 N1_10_R1.fastq.gz.polyATrim.adapterTrim.rmRep.sorted.rg.bam\r\n",
      "-rw-r--r-- 1 obotvinnik yeo-group  983M Nov 11 20:25 N1_11_R1.fastq.gz.polyATrim.adapterTrim.rmRep.sorted.rg.bam\r\n",
      "-rw-r--r-- 1 obotvinnik yeo-group  1.4G Nov 11 18:37 N1_12_R1.fastq.gz.polyATrim.adapterTrim.rmRep.sorted.rg.bam\r\n",
      "-rw-r--r-- 1 obotvinnik yeo-group  1.2G Nov 11 21:49 N2_01_R1.fastq.gz.polyATrim.adapterTrim.rmRep.sorted.rg.bam\r\n",
      "-rw-r--r-- 1 obotvinnik yeo-group  1.9G Nov 11 20:19 N2_02_R1.fastq.gz.polyATrim.adapterTrim.rmRep.sorted.rg.bam\r\n",
      "-rw-r--r-- 1 obotvinnik yeo-group  1.6G Nov 11 22:13 N2_03_R1.fastq.gz.polyATrim.adapterTrim.rmRep.sorted.rg.bam\r\n",
      "-rw-r--r-- 1 obotvinnik yeo-group  1.6G Nov 11 17:02 N2_04_R1.fastq.gz.polyATrim.adapterTrim.rmRep.sorted.rg.bam\r\n",
      "-rw-r--r-- 1 obotvinnik yeo-group  1.3G Nov 11 16:40 N2_05_R1.fastq.gz.polyATrim.adapterTrim.rmRep.sorted.rg.bam\r\n",
      "-rw-r--r-- 1 obotvinnik yeo-group  1.6G Nov 11 19:51 N2_06_R1.fastq.gz.polyATrim.adapterTrim.rmRep.sorted.rg.bam\r\n",
      "-rw-r--r-- 1 obotvinnik yeo-group  1.5G Nov 11 22:00 N2_07_R1.fastq.gz.polyATrim.adapterTrim.rmRep.sorted.rg.bam\r\n",
      "-rw-r--r-- 1 obotvinnik yeo-group  1.7G Nov 11 15:59 N2_08_R1.fastq.gz.polyATrim.adapterTrim.rmRep.sorted.rg.bam\r\n",
      "-rw-r--r-- 1 obotvinnik yeo-group  1.1G Nov 11 20:45 N2_09_R1.fastq.gz.polyATrim.adapterTrim.rmRep.sorted.rg.bam\r\n",
      "-rw-r--r-- 1 obotvinnik yeo-group  1.4G Nov 11 21:05 N2_10_R1.fastq.gz.polyATrim.adapterTrim.rmRep.sorted.rg.bam\r\n",
      "-rw-r--r-- 1 obotvinnik yeo-group  1.7G Nov 11 17:59 N2_11_R1.fastq.gz.polyATrim.adapterTrim.rmRep.sorted.rg.bam\r\n",
      "-rw-r--r-- 1 obotvinnik yeo-group  1.1G Nov 11 21:48 N2_12_R1.fastq.gz.polyATrim.adapterTrim.rmRep.sorted.rg.bam\r\n",
      "-rw-r--r-- 1 obotvinnik yeo-group  1.7G Nov 11 21:11 N3_01_R1.fastq.gz.polyATrim.adapterTrim.rmRep.sorted.rg.bam\r\n",
      "-rw-r--r-- 1 obotvinnik yeo-group  2.0G Nov 11 19:47 N3_02_R1.fastq.gz.polyATrim.adapterTrim.rmRep.sorted.rg.bam\r\n",
      "-rw-r--r-- 1 obotvinnik yeo-group  1.4G Nov 11 21:54 N3_03_R1.fastq.gz.polyATrim.adapterTrim.rmRep.sorted.rg.bam\r\n",
      "-rw-r--r-- 1 obotvinnik yeo-group  1.3G Nov 11 16:39 N3_04_R1.fastq.gz.polyATrim.adapterTrim.rmRep.sorted.rg.bam\r\n",
      "-rw-r--r-- 1 obotvinnik yeo-group  1.1G Nov 11 17:02 N3_05_R1.fastq.gz.polyATrim.adapterTrim.rmRep.sorted.rg.bam\r\n",
      "-rw-r--r-- 1 obotvinnik yeo-group  1.5G Nov 11 20:04 N3_06_R1.fastq.gz.polyATrim.adapterTrim.rmRep.sorted.rg.bam\r\n",
      "-rw-r--r-- 1 obotvinnik yeo-group  1.1G Nov 11 19:48 N3_07_R1.fastq.gz.polyATrim.adapterTrim.rmRep.sorted.rg.bam\r\n",
      "-rw-r--r-- 1 obotvinnik yeo-group  123K Nov 11 21:40 N3_08_R1.fastq.gz.polyATrim.adapterTrim.rmRep.sorted.rg.bam\r\n",
      "-rw-r--r-- 1 obotvinnik yeo-group  1.4G Nov 11 22:16 N3_09_R1.fastq.gz.polyATrim.adapterTrim.rmRep.sorted.rg.bam\r\n",
      "-rw-r--r-- 1 obotvinnik yeo-group 1007M Nov 11 17:49 N3_10_R1.fastq.gz.polyATrim.adapterTrim.rmRep.sorted.rg.bam\r\n",
      "-rw-r--r-- 1 obotvinnik yeo-group  1.3G Nov 11 21:05 N3_11_R1.fastq.gz.polyATrim.adapterTrim.rmRep.sorted.rg.bam\r\n",
      "-rw-r--r-- 1 obotvinnik yeo-group  1.5G Nov 11 19:47 N3_12_R1.fastq.gz.polyATrim.adapterTrim.rmRep.sorted.rg.bam\r\n",
      "-rw-r--r-- 1 obotvinnik yeo-group  7.2G Nov 11 22:18 N4_01_R1.fastq.gz.polyATrim.adapterTrim.rmRep.sorted.rg.bam\r\n",
      "-rw-r--r-- 1 obotvinnik yeo-group  3.1G Nov 11 19:02 N4_02_R1.fastq.gz.polyATrim.adapterTrim.rmRep.sorted.rg.bam\r\n",
      "-rw-r--r-- 1 obotvinnik yeo-group  4.2G Nov 11 19:16 N4_03_R1.fastq.gz.polyATrim.adapterTrim.rmRep.sorted.rg.bam\r\n",
      "-rw-r--r-- 1 obotvinnik yeo-group  1.4G Nov 11 21:53 N4_04_R1.fastq.gz.polyATrim.adapterTrim.rmRep.sorted.rg.bam\r\n",
      "-rw-r--r-- 1 obotvinnik yeo-group  1.3G Nov 11 22:10 N4_05_R1.fastq.gz.polyATrim.adapterTrim.rmRep.sorted.rg.bam\r\n",
      "-rw-r--r-- 1 obotvinnik yeo-group  1.2G Nov 11 21:11 N4_06_R1.fastq.gz.polyATrim.adapterTrim.rmRep.sorted.rg.bam\r\n",
      "-rw-r--r-- 1 obotvinnik yeo-group  4.9G Nov 11 18:51 N4_07_R1.fastq.gz.polyATrim.adapterTrim.rmRep.sorted.rg.bam\r\n",
      "-rw-r--r-- 1 obotvinnik yeo-group  7.1G Nov 11 16:59 N4_08_R1.fastq.gz.polyATrim.adapterTrim.rmRep.sorted.rg.bam\r\n",
      "-rw-r--r-- 1 obotvinnik yeo-group  680M Nov 11 18:41 N4_09_R1.fastq.gz.polyATrim.adapterTrim.rmRep.sorted.rg.bam\r\n",
      "-rw-r--r-- 1 obotvinnik yeo-group  1.2G Nov 11 22:05 N4_10_R1.fastq.gz.polyATrim.adapterTrim.rmRep.sorted.rg.bam\r\n",
      "-rw-r--r-- 1 obotvinnik yeo-group  5.8G Nov 11 22:11 N4_11_R1.fastq.gz.polyATrim.adapterTrim.rmRep.sorted.rg.bam\r\n",
      "-rw-r--r-- 1 obotvinnik yeo-group  5.6G Nov 11 19:15 N4_12_R1.fastq.gz.polyATrim.adapterTrim.rmRep.sorted.rg.bam\r\n",
      "-rw-r--r-- 1 obotvinnik yeo-group  7.1G Nov 11 19:31 N4_13_R1.fastq.gz.polyATrim.adapterTrim.rmRep.sorted.rg.bam\r\n",
      "-rw-r--r-- 1 obotvinnik yeo-group  6.2G Nov 11 20:58 N4_14_R1.fastq.gz.polyATrim.adapterTrim.rmRep.sorted.rg.bam\r\n",
      "-rw-r--r-- 1 obotvinnik yeo-group  2.0G Nov 11 22:09 N5_01_R1.fastq.gz.polyATrim.adapterTrim.rmRep.sorted.rg.bam\r\n",
      "-rw-r--r-- 1 obotvinnik yeo-group  3.7G Nov 11 19:14 N5_02_R1.fastq.gz.polyATrim.adapterTrim.rmRep.sorted.rg.bam\r\n",
      "-rw-r--r-- 1 obotvinnik yeo-group  2.7G Nov 11 16:58 N5_03_R1.fastq.gz.polyATrim.adapterTrim.rmRep.sorted.rg.bam\r\n",
      "-rw-r--r-- 1 obotvinnik yeo-group  3.3G Nov 11 22:18 N5_04_R1.fastq.gz.polyATrim.adapterTrim.rmRep.sorted.rg.bam\r\n",
      "-rw-r--r-- 1 obotvinnik yeo-group  2.7G Nov 11 20:31 N5_05_R1.fastq.gz.polyATrim.adapterTrim.rmRep.sorted.rg.bam\r\n",
      "-rw-r--r-- 1 obotvinnik yeo-group  1.9G Nov 11 17:55 N5_06_R1.fastq.gz.polyATrim.adapterTrim.rmRep.sorted.rg.bam\r\n",
      "-rw-r--r-- 1 obotvinnik yeo-group  1.7G Nov 11 21:12 N5_07_R1.fastq.gz.polyATrim.adapterTrim.rmRep.sorted.rg.bam\r\n",
      "-rw-r--r-- 1 obotvinnik yeo-group  1.9G Nov 11 17:14 N5_08_R1.fastq.gz.polyATrim.adapterTrim.rmRep.sorted.rg.bam\r\n",
      "-rw-r--r-- 1 obotvinnik yeo-group  3.1G Nov 11 19:18 N5_09_R1.fastq.gz.polyATrim.adapterTrim.rmRep.sorted.rg.bam\r\n",
      "-rw-r--r-- 1 obotvinnik yeo-group  1.8G Nov 11 21:54 N5_10_R1.fastq.gz.polyATrim.adapterTrim.rmRep.sorted.rg.bam\r\n",
      "-rw-r--r-- 1 obotvinnik yeo-group  2.4G Nov 11 22:09 N5_11_R1.fastq.gz.polyATrim.adapterTrim.rmRep.sorted.rg.bam\r\n",
      "-rw-r--r-- 1 obotvinnik yeo-group  2.2G Nov 11 19:12 N5_12_R1.fastq.gz.polyATrim.adapterTrim.rmRep.sorted.rg.bam\r\n",
      "-rw-r--r-- 1 obotvinnik yeo-group  4.8G Nov 11 16:57 N5_13_R1.fastq.gz.polyATrim.adapterTrim.rmRep.sorted.rg.bam\r\n",
      "-rw-r--r-- 1 obotvinnik yeo-group  2.9G Nov 11 22:15 N5_14_R1.fastq.gz.polyATrim.adapterTrim.rmRep.sorted.rg.bam\r\n",
      "-rw-r--r-- 1 obotvinnik yeo-group  1.5G Nov 11 20:37 P1_01_R1.fastq.gz.polyATrim.adapterTrim.rmRep.sorted.rg.bam\r\n",
      "-rw-r--r-- 1 obotvinnik yeo-group  1.7G Nov 11 18:39 P1_02_R1.fastq.gz.polyATrim.adapterTrim.rmRep.sorted.rg.bam\r\n",
      "-rw-r--r-- 1 obotvinnik yeo-group  1.5G Nov 11 21:31 P1_03_R1.fastq.gz.polyATrim.adapterTrim.rmRep.sorted.rg.bam\r\n",
      "-rw-r--r-- 1 obotvinnik yeo-group  1.4G Nov 11 21:53 P1_04_R1.fastq.gz.polyATrim.adapterTrim.rmRep.sorted.rg.bam\r\n",
      "-rw-r--r-- 1 obotvinnik yeo-group  1.2G Nov 11 22:04 P1_05_R1.fastq.gz.polyATrim.adapterTrim.rmRep.sorted.rg.bam\r\n",
      "-rw-r--r-- 1 obotvinnik yeo-group  1.7G Nov 11 19:12 P1_06_R1.fastq.gz.polyATrim.adapterTrim.rmRep.sorted.rg.bam\r\n",
      "-rw-r--r-- 1 obotvinnik yeo-group  1.4G Nov 11 16:46 P1_07_R1.fastq.gz.polyATrim.adapterTrim.rmRep.sorted.rg.bam\r\n",
      "-rw-r--r-- 1 obotvinnik yeo-group  582M Nov 11 19:34 P1_08_R1.fastq.gz.polyATrim.adapterTrim.rmRep.sorted.rg.bam\r\n",
      "-rw-r--r-- 1 obotvinnik yeo-group  1.2G Nov 11 18:40 P1_09_R1.fastq.gz.polyATrim.adapterTrim.rmRep.sorted.rg.bam\r\n",
      "-rw-r--r-- 1 obotvinnik yeo-group  1.7G Nov 11 22:14 P1_10_R1.fastq.gz.polyATrim.adapterTrim.rmRep.sorted.rg.bam\r\n",
      "-rw-r--r-- 1 obotvinnik yeo-group  1.7G Nov 11 21:54 P1_11_R1.fastq.gz.polyATrim.adapterTrim.rmRep.sorted.rg.bam\r\n",
      "-rw-r--r-- 1 obotvinnik yeo-group 1015M Nov 11 17:49 P1_12_R1.fastq.gz.polyATrim.adapterTrim.rmRep.sorted.rg.bam\r\n",
      "-rw-r--r-- 1 obotvinnik yeo-group  1.2G Nov 11 17:44 P2_01_R1.fastq.gz.polyATrim.adapterTrim.rmRep.sorted.rg.bam\r\n",
      "-rw-r--r-- 1 obotvinnik yeo-group  1.3G Nov 11 21:49 P2_02_R1.fastq.gz.polyATrim.adapterTrim.rmRep.sorted.rg.bam\r\n",
      "-rw-r--r-- 1 obotvinnik yeo-group  1.2G Nov 11 22:07 P2_03_R1.fastq.gz.polyATrim.adapterTrim.rmRep.sorted.rg.bam\r\n",
      "-rw-r--r-- 1 obotvinnik yeo-group  1.7G Nov 11 19:02 P2_04_R1.fastq.gz.polyATrim.adapterTrim.rmRep.sorted.rg.bam\r\n",
      "-rw-r--r-- 1 obotvinnik yeo-group  993M Nov 11 16:36 P2_05_R1.fastq.gz.polyATrim.adapterTrim.rmRep.sorted.rg.bam\r\n",
      "-rw-r--r-- 1 obotvinnik yeo-group  808M Nov 11 19:47 P2_06_R1.fastq.gz.polyATrim.adapterTrim.rmRep.sorted.rg.bam\r\n",
      "-rw-r--r-- 1 obotvinnik yeo-group  1.2G Nov 11 20:09 P2_07_R1.fastq.gz.polyATrim.adapterTrim.rmRep.sorted.rg.bam\r\n",
      "-rw-r--r-- 1 obotvinnik yeo-group  803M Nov 11 22:12 P2_08_R1.fastq.gz.polyATrim.adapterTrim.rmRep.sorted.rg.bam\r\n",
      "-rw-r--r-- 1 obotvinnik yeo-group  1.1G Nov 11 21:37 P2_09_R1.fastq.gz.polyATrim.adapterTrim.rmRep.sorted.rg.bam\r\n",
      "-rw-r--r-- 1 obotvinnik yeo-group  2.2G Nov 11 21:23 P2_10_R1.fastq.gz.polyATrim.adapterTrim.rmRep.sorted.rg.bam\r\n",
      "-rw-r--r-- 1 obotvinnik yeo-group  1.2G Nov 11 17:52 P2_11_R1.fastq.gz.polyATrim.adapterTrim.rmRep.sorted.rg.bam\r\n",
      "-rw-r--r-- 1 obotvinnik yeo-group  1.3G Nov 11 21:50 P2_12_R1.fastq.gz.polyATrim.adapterTrim.rmRep.sorted.rg.bam\r\n",
      "-rw-r--r-- 1 obotvinnik yeo-group  1.7G Nov 11 16:29 P2_13_R1.fastq.gz.polyATrim.adapterTrim.rmRep.sorted.rg.bam\r\n",
      "-rw-r--r-- 1 obotvinnik yeo-group  1.5G Nov 11 18:58 P2_14_R1.fastq.gz.polyATrim.adapterTrim.rmRep.sorted.rg.bam\r\n",
      "-rw-r--r-- 1 obotvinnik yeo-group  3.2G Nov 11 21:43 P3_01_R1.fastq.gz.polyATrim.adapterTrim.rmRep.sorted.rg.bam\r\n",
      "-rw-r--r-- 1 obotvinnik yeo-group  3.1G Nov 11 19:55 P3_02_R1.fastq.gz.polyATrim.adapterTrim.rmRep.sorted.rg.bam\r\n",
      "-rw-r--r-- 1 obotvinnik yeo-group  4.0G Nov 11 20:49 P3_03_R1.fastq.gz.polyATrim.adapterTrim.rmRep.sorted.rg.bam\r\n",
      "-rw-r--r-- 1 obotvinnik yeo-group  1.2G Nov 11 21:54 P4_01_R1.fastq.gz.polyATrim.adapterTrim.rmRep.sorted.rg.bam\r\n",
      "-rw-r--r-- 1 obotvinnik yeo-group  969M Nov 11 21:25 P4_06_R1.fastq.gz.polyATrim.adapterTrim.rmRep.sorted.rg.bam\r\n",
      "-rw-r--r-- 1 obotvinnik yeo-group  981M Nov 11 18:00 P4_07_R1.fastq.gz.polyATrim.adapterTrim.rmRep.sorted.rg.bam\r\n",
      "-rw-r--r-- 1 obotvinnik yeo-group  823M Nov 11 19:27 P4_08_R1.fastq.gz.polyATrim.adapterTrim.rmRep.sorted.rg.bam\r\n",
      "-rw-r--r-- 1 obotvinnik yeo-group  1.1G Nov 11 18:49 P4_09_R1.fastq.gz.polyATrim.adapterTrim.rmRep.sorted.rg.bam\r\n",
      "-rw-r--r-- 1 obotvinnik yeo-group  2.1G Nov 11 19:53 P4_10_R1.fastq.gz.polyATrim.adapterTrim.rmRep.sorted.rg.bam\r\n",
      "-rw-r--r-- 1 obotvinnik yeo-group  1.2G Nov 11 21:57 P4_11_R1.fastq.gz.polyATrim.adapterTrim.rmRep.sorted.rg.bam\r\n",
      "-rw-r--r-- 1 obotvinnik yeo-group  960M Nov 11 18:49 P4_12_R1.fastq.gz.polyATrim.adapterTrim.rmRep.sorted.rg.bam\r\n",
      "-rw-r--r-- 1 obotvinnik yeo-group  3.8G Nov 11 16:50 P6_01_R1.fastq.gz.polyATrim.adapterTrim.rmRep.sorted.rg.bam\r\n",
      "-rw-r--r-- 1 obotvinnik yeo-group  2.8G Nov 11 22:14 P6_02_R1.fastq.gz.polyATrim.adapterTrim.rmRep.sorted.rg.bam\r\n",
      "-rw-r--r-- 1 obotvinnik yeo-group  3.7G Nov 11 22:09 P6_03_R1.fastq.gz.polyATrim.adapterTrim.rmRep.sorted.rg.bam\r\n",
      "-rw-r--r-- 1 obotvinnik yeo-group  2.8G Nov 11 21:29 P6_04_R1.fastq.gz.polyATrim.adapterTrim.rmRep.sorted.rg.bam\r\n",
      "-rw-r--r-- 1 obotvinnik yeo-group  1.3G Nov 11 16:46 P7_01_R1.fastq.gz.polyATrim.adapterTrim.rmRep.sorted.rg.bam\r\n",
      "-rw-r--r-- 1 obotvinnik yeo-group  1.3G Nov 11 21:56 P7_02_R1.fastq.gz.polyATrim.adapterTrim.rmRep.sorted.rg.bam\r\n",
      "-rw-r--r-- 1 obotvinnik yeo-group  1.4G Nov 11 19:50 P7_03_R1.fastq.gz.polyATrim.adapterTrim.rmRep.sorted.rg.bam\r\n",
      "-rw-r--r-- 1 obotvinnik yeo-group  766M Nov 11 17:54 P7_04_R1.fastq.gz.polyATrim.adapterTrim.rmRep.sorted.rg.bam\r\n",
      "-rw-r--r-- 1 obotvinnik yeo-group  1.6G Nov 11 21:01 P7_05_R1.fastq.gz.polyATrim.adapterTrim.rmRep.sorted.rg.bam\r\n",
      "-rw-r--r-- 1 obotvinnik yeo-group  1.8G Nov 11 19:47 P7_06_R1.fastq.gz.polyATrim.adapterTrim.rmRep.sorted.rg.bam\r\n",
      "-rw-r--r-- 1 obotvinnik yeo-group  1.5G Nov 11 20:32 P7_07_R1.fastq.gz.polyATrim.adapterTrim.rmRep.sorted.rg.bam\r\n",
      "-rw-r--r-- 1 obotvinnik yeo-group  1.4G Nov 11 22:03 P7_08_R1.fastq.gz.polyATrim.adapterTrim.rmRep.sorted.rg.bam\r\n",
      "-rw-r--r-- 1 obotvinnik yeo-group  2.2G Nov 11 20:06 P7_09_R1.fastq.gz.polyATrim.adapterTrim.rmRep.sorted.rg.bam\r\n",
      "-rw-r--r-- 1 obotvinnik yeo-group  1.4G Nov 11 16:41 P7_10_R1.fastq.gz.polyATrim.adapterTrim.rmRep.sorted.rg.bam\r\n",
      "-rw-r--r-- 1 obotvinnik yeo-group  1.7G Nov 11 16:56 P7_11_R1.fastq.gz.polyATrim.adapterTrim.rmRep.sorted.rg.bam\r\n",
      "-rw-r--r-- 1 obotvinnik yeo-group  1.6G Nov 11 20:03 P7_12_R1.fastq.gz.polyATrim.adapterTrim.rmRep.sorted.rg.bam\r\n",
      "-rw-r--r-- 1 obotvinnik yeo-group  1.5G Nov 11 19:25 P8_01_R1.fastq.gz.polyATrim.adapterTrim.rmRep.sorted.rg.bam\r\n",
      "-rw-r--r-- 1 obotvinnik yeo-group  2.3G Nov 11 16:02 P8_02_R1.fastq.gz.polyATrim.adapterTrim.rmRep.sorted.rg.bam\r\n",
      "-rw-r--r-- 1 obotvinnik yeo-group  2.6G Nov 11 18:53 P8_05_R1.fastq.gz.polyATrim.adapterTrim.rmRep.sorted.rg.bam\r\n",
      "-rw-r--r-- 1 obotvinnik yeo-group  2.6G Nov 11 20:07 P8_06_R1.fastq.gz.polyATrim.adapterTrim.rmRep.sorted.rg.bam\r\n",
      "-rw-r--r-- 1 obotvinnik yeo-group  5.7K Nov 11 21:57 P8_07_R1.fastq.gz.polyATrim.adapterTrim.rmRep.sorted.rg.bam\r\n",
      "-rw-r--r-- 1 obotvinnik yeo-group  3.0K Nov 11 16:20 P8_09_R1.fastq.gz.polyATrim.adapterTrim.rmRep.sorted.rg.bam\r\n",
      "-rw-r--r-- 1 obotvinnik yeo-group  2.7G Nov 11 17:31 P8_10_R1.fastq.gz.polyATrim.adapterTrim.rmRep.sorted.rg.bam\r\n",
      "-rw-r--r-- 1 obotvinnik yeo-group  2.5G Nov 11 19:42 P8_11_R1.fastq.gz.polyATrim.adapterTrim.rmRep.sorted.rg.bam\r\n",
      "-rw-r--r-- 1 obotvinnik yeo-group  5.5K Nov 11 16:15 P8_12_R1.fastq.gz.polyATrim.adapterTrim.rmRep.sorted.rg.bam\r\n",
      "-rw-r--r-- 1 obotvinnik yeo-group  5.1G Nov 11 22:25 P9_01_R1.fastq.gz.polyATrim.adapterTrim.rmRep.sorted.bam\r\n",
      "-rw-r--r-- 1 obotvinnik yeo-group  4.5G Nov 11 22:20 P9_02_R1.fastq.gz.polyATrim.adapterTrim.rmRep.sorted.bam\r\n",
      "-rw-r--r-- 1 obotvinnik yeo-group  4.4G Nov 11 22:32 P9_03_R1.fastq.gz.polyATrim.adapterTrim.rmRep.sorted.rg.bam\r\n",
      "-rw-r--r-- 1 obotvinnik yeo-group  5.1G Nov 11 20:29 P9_04_R1.fastq.gz.polyATrim.adapterTrim.rmRep.sorted.bam\r\n"
     ]
    }
   ],
   "source": [
    "ls -lha *bam"
   ]
  },
  {
   "cell_type": "code",
   "execution_count": 4,
   "metadata": {
    "collapsed": false
   },
   "outputs": [
    {
     "name": "stdout",
     "output_type": "stream",
     "text": [
      "Usage: samtools index <in.bam> [out.index]\r\n"
     ]
    }
   ],
   "source": [
    "! samtools index"
   ]
  },
  {
   "cell_type": "code",
   "execution_count": 7,
   "metadata": {
    "collapsed": true
   },
   "outputs": [],
   "source": [
    "import glob\n",
    "import os\n",
    "import qtools"
   ]
  },
  {
   "cell_type": "code",
   "execution_count": 8,
   "metadata": {
    "collapsed": false
   },
   "outputs": [
    {
     "data": {
      "text/plain": [
       "u'/oasis/tscc/scratch/obotvinnik/projects/singlecell_pnms/analysis/bams_from_aws/rmdup'"
      ]
     },
     "execution_count": 8,
     "metadata": {},
     "output_type": "execute_result"
    }
   ],
   "source": [
    "pwd"
   ]
  },
  {
   "cell_type": "code",
   "execution_count": 9,
   "metadata": {
    "collapsed": false
   },
   "outputs": [],
   "source": [
    "bams = glob.glob('*bam')\n",
    "\n",
    "folder = '/oasis/tscc/scratch/obotvinnik/projects/singlecell_pnms/analysis/bams_from_aws/rmdup'\n",
    "\n",
    "template = 'samtools rmdup {folder}/{bam} {folder}/rmdup/{bam}'\n",
    "\n",
    "commands = []\n",
    "for bam in bams:\n",
    "    command = template.format(folder=folder, bam=bam)\n",
    "    commands.append(command)"
   ]
  },
  {
   "cell_type": "code",
   "execution_count": 10,
   "metadata": {
    "collapsed": true
   },
   "outputs": [],
   "source": [
    "project = 'singlecell_pnms'"
   ]
  },
  {
   "cell_type": "code",
   "execution_count": 11,
   "metadata": {
    "collapsed": false
   },
   "outputs": [
    {
     "name": "stdout",
     "output_type": "stream",
     "text": [
      "/home/obotvinnik/processing_scripts/singlecell_pnms\n"
     ]
    }
   ],
   "source": [
    "cd ~/projects/$project/scripts"
   ]
  },
  {
   "cell_type": "code",
   "execution_count": 12,
   "metadata": {
    "collapsed": false
   },
   "outputs": [
    {
     "name": "stderr",
     "output_type": "stream",
     "text": [
      "Wrote commands to singlecell_pnms_samtools_index.sh.\n",
      "Submitted script to queue home.\n",
      " Job ID: 6960947\n"
     ]
    },
    {
     "data": {
      "text/plain": [
       "<qtools.submitter.Submitter at 0x2ad2303ce7d0>"
      ]
     },
     "execution_count": 12,
     "metadata": {},
     "output_type": "execute_result"
    }
   ],
   "source": [
    "jobname = '{project}_samtools_index'.format(project=project)\n",
    "\n",
    "qtools.Submitter(commands, jobname, array=False, walltime='4:00:00')"
   ]
  },
  {
   "cell_type": "code",
   "execution_count": 13,
   "metadata": {
    "collapsed": false,
    "scrolled": false
   },
   "outputs": [
    {
     "name": "stdout",
     "output_type": "stream",
     "text": [
      "tail: cannot open `singlecell_pnms_samtools_index*err*' for reading: No such file or directory\r\n"
     ]
    }
   ],
   "source": [
    "! tail $jobname*err*"
   ]
  },
  {
   "cell_type": "code",
   "execution_count": null,
   "metadata": {
    "collapsed": true
   },
   "outputs": [],
   "source": []
  }
 ],
 "metadata": {
  "kernelspec": {
   "display_name": "Python 2",
   "language": "python",
   "name": "python2"
  },
  "language_info": {
   "codemirror_mode": {
    "name": "ipython",
    "version": 2
   },
   "file_extension": ".py",
   "mimetype": "text/x-python",
   "name": "python",
   "nbconvert_exporter": "python",
   "pygments_lexer": "ipython2",
   "version": "2.7.11"
  }
 },
 "nbformat": 4,
 "nbformat_minor": 0
}
