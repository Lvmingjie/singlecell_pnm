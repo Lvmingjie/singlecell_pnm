{
 "cells": [
  {
   "cell_type": "code",
   "execution_count": null,
   "metadata": {
    "collapsed": true
   },
   "outputs": [],
   "source": [
    "import modish\n",
    "import matplotlib.pyplot as plt\n",
    "import seaborn as sns\n",
    "import numpy as np\n",
    "import pandas as pd\n",
    "\n",
    "sns.set(style='ticks', context='talk', rc={'font.sans-serif':'Arial', 'pdf.fonttype': 42})\n",
    "\n",
    "%matplotlib inline\n",
    "\n",
    "%load_ext autoreload\n",
    "%autoreload 2\n",
    "\n",
    "folder = '/home/obotvinnik/Dropbox/figures2/singlecell_pnm/figure4_voyages'\n",
    "\n",
    "import flotilla\n",
    "study = flotilla.embark('singlecell_pnm_figure2_modalities')\n",
    "# study = flotilla.embark('singlecell_pnm_figure1_supplementary_post_splicing_filtering')"
   ]
  },
  {
   "cell_type": "markdown",
   "metadata": {},
   "source": [
    "## Predict Nonsense-mediated decay splicing events"
   ]
  },
  {
   "cell_type": "code",
   "execution_count": null,
   "metadata": {
    "collapsed": true
   },
   "outputs": [],
   "source": [
    "import itertools\n",
    "from scipy.stats import spearmanr\n",
    "\n",
    "splicing_variant = study.splicing.data.ix[:, study.splicing.data.var() > 0.1]\n",
    "\n",
    "s = study.splicing.feature_data.ensembl_id[splicing_variant.columns]\n",
    "event_name_to_ensembl_ids = list(itertools.chain(\n",
    "            *[zip([k] * len(v.split(',')), v.split(',')) for k, v in\n",
    "              s.iteritems()]))\n",
    "psi_expression_correls = pd.DataFrame(event_name_to_ensembl_ids, columns=['event_name', 'ensembl_id'])\n",
    "psi_expression_correls['spearmanr'] = np.nan\n",
    "psi_expression_correls['spearmanp'] = np.nan\n",
    "print psi_expression_correls.shape\n",
    "\n",
    "for i, row in psi_expression_correls.iterrows():\n",
    "    if i % 1000 == 0:\n",
    "        print '\\t', i\n",
    "    try:\n",
    "        x = study.splicing.data[row.event_name].dropna()\n",
    "        y = study.expression.data[row.ensembl_id]\n",
    "        x, y = x.align(y, 'inner')\n",
    "        r, p = spearmanr(x, y)\n",
    "        psi_expression_correls.ix[i, ['spearmanr', 'spearmanp']] = r, p\n",
    "    except KeyError:\n",
    "        continue"
   ]
  },
  {
   "cell_type": "code",
   "execution_count": null,
   "metadata": {
    "collapsed": true
   },
   "outputs": [],
   "source": [
    "psi_expression_correls = psi_expression_correls.join(study.expression.feature_data, on='ensembl_id')"
   ]
  },
  {
   "cell_type": "code",
   "execution_count": null,
   "metadata": {
    "collapsed": true
   },
   "outputs": [],
   "source": [
    "sns.distplot(psi_expression_correls.spearmanr[psi_expression_correls.gerstberger2014_tf].dropna())"
   ]
  },
  {
   "cell_type": "code",
   "execution_count": null,
   "metadata": {
    "collapsed": true
   },
   "outputs": [],
   "source": [
    "rbp_not_ribosome = ~psi_expression_correls.gerstberger2014_rbp_target_ribosome & psi_expression_correls.gerstberger2014_rbp\n",
    "print rbp_not_ribosome.sum()\n",
    "sns.distplot(psi_expression_correls.spearmanr[rbp_not_ribosome].dropna())"
   ]
  },
  {
   "cell_type": "code",
   "execution_count": null,
   "metadata": {
    "collapsed": true
   },
   "outputs": [],
   "source": [
    "pd.options.display.max_colwidth = 200"
   ]
  },
  {
   "cell_type": "markdown",
   "metadata": {},
   "source": [
    "Check a positive control"
   ]
  },
  {
   "cell_type": "code",
   "execution_count": null,
   "metadata": {
    "collapsed": true
   },
   "outputs": [],
   "source": [
    "psi_expression_correls.loc[psi_expression_correls.gene_name == 'EIF4A2']"
   ]
  },
  {
   "cell_type": "code",
   "execution_count": null,
   "metadata": {
    "collapsed": true
   },
   "outputs": [],
   "source": [
    "potential_nmd = psi_expression_correls.ix[psi_expression_correls.spearmanr.abs() > 0.3]\n",
    "print potential_nmd.shape\n",
    "potential_nmd.head()"
   ]
  },
  {
   "cell_type": "code",
   "execution_count": null,
   "metadata": {
    "collapsed": true
   },
   "outputs": [],
   "source": [
    "potential_nmd.index = np.arange(potential_nmd.shape[0])"
   ]
  },
  {
   "cell_type": "code",
   "execution_count": null,
   "metadata": {
    "collapsed": true
   },
   "outputs": [],
   "source": [
    "potential_nmd.to_csv('/home/obotvinnik/Dropbox/figures2/singlecell_pnm/potential_nmd_targets.csv', index=False)"
   ]
  },
  {
   "cell_type": "markdown",
   "metadata": {},
   "source": [
    "### There is a True NMD event in EIF4A3"
   ]
  },
  {
   "cell_type": "code",
   "execution_count": null,
   "metadata": {
    "collapsed": true
   },
   "outputs": [],
   "source": [
    "# eif4a2_event = 'chr3:186505592:186505671:+@chr3:186506099:186506205:+@chr3:186506914:186507685:+'\n",
    "\n",
    "eif4a2_junction = 'chr3:186505672-186506098:+|5p'\n",
    "eif4a2_ensembl_id = study.expression.maybe_renamed_to_feature_id('EIF4A2')[0]\n",
    "\n",
    "x = study.expression.data[eif4a2_ensembl_id]\n",
    "y = study.splicing.data[eif4a2_junction].dropna()\n",
    "\n",
    "x, y = x.align(y, 'inner')\n",
    "y.name = '{} {} $\\Psi$'.format(\"EIF4A2\", eif4a2_junction)\n",
    "x.name = \"EIF4A2\" + ' $\\log_2(\\mathrm{TPM}+1)$'\n",
    "color = study.sample_id_to_color[x.index]\n",
    "\n",
    "sns.jointplot(x, y, joint_kws=dict(color=color), color='#262626', ylim=(-0.05, 1.05), #annot_kws=dict(loc='lower left'), \n",
    "              stat_func=spearmanr)"
   ]
  },
  {
   "cell_type": "markdown",
   "metadata": {},
   "source": [
    "### Plot random events\n"
   ]
  },
  {
   "cell_type": "code",
   "execution_count": null,
   "metadata": {
    "collapsed": true
   },
   "outputs": [],
   "source": [
    "events = list(np.random.choice(potential_nmd.index, size=10, replace=False)) \n",
    "for i in events:\n",
    "    row = potential_nmd.iloc[i]\n",
    "    x = study.expression.data[row.ensembl_id]\n",
    "    y = study.splicing.data[row.event_name].dropna()\n",
    "    \n",
    "    print row.gene_name, row.event_name, '\\t', row.spearmanr, '\\t', y.var()\n",
    "\n",
    "    x, y = x.align(y, 'inner')\n",
    "    y.name = '{} {} $\\Psi$'.format(row.gene_name, row.event_name)\n",
    "    x.name = row.gene_name + ' $\\log_2(\\mathrm{TPM}+1)$'\n",
    "    color = study.sample_id_to_color[x.index]\n",
    "\n",
    "    sns.jointplot(x, y, joint_kws=dict(color=color), color='#262626', ylim=(-0.05, 1.05), #annot_kws=dict(loc='lower left'), \n",
    "                  stat_func=spearmanr)"
   ]
  }
 ],
 "metadata": {
  "kernelspec": {
   "display_name": "Python 2",
   "language": "python",
   "name": "python2"
  },
  "language_info": {
   "codemirror_mode": {
    "name": "ipython",
    "version": 2
   },
   "file_extension": ".py",
   "mimetype": "text/x-python",
   "name": "python",
   "nbconvert_exporter": "python",
   "pygments_lexer": "ipython2",
   "version": "2.7.10"
  }
 },
 "nbformat": 4,
 "nbformat_minor": 0
}
