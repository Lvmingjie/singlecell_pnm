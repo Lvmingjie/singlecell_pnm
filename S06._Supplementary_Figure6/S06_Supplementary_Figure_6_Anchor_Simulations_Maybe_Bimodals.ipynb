{
 "cells": [
  {
   "cell_type": "code",
   "execution_count": null,
   "metadata": {
    "collapsed": false
   },
   "outputs": [],
   "source": []
  },
  {
   "cell_type": "code",
   "execution_count": 1,
   "metadata": {
    "collapsed": false
   },
   "outputs": [
    {
     "name": "stderr",
     "output_type": "stream",
     "text": [
      "/home/obotvinnik/anaconda/lib/python2.7/site-packages/matplotlib/__init__.py:810: UserWarning: Found matplotlib configuration in ~/.matplotlib/. To conform with the XDG base directory standard, this configuration location has been deprecated on Linux, and the new location is now /home/obotvinnik/.config/matplotlib/. Please move your configuration there to ensure that matplotlib will continue to find it in the future.\n",
      "  _get_xdg_config_dir())\n"
     ]
    }
   ],
   "source": [
    "import matplotlib.pyplot as plt\n",
    "import numpy as np\n",
    "import pandas as pd\n",
    "import seaborn as sns\n",
    "sns.set(style='ticks', context='talk', rc={'font.sans-serif':'Arial', 'pdf.fonttype': 42})\n",
    "import anchor\n",
    "\n",
    "from anchor import MODALITY_ORDER, MODALITY_PALETTE, MODALITY_TO_COLOR, MODALITY_TO_CMAP\n",
    "\n",
    "%load_ext autoreload\n",
    "%autoreload 2\n",
    "\n",
    "# Figures in the notebook\n",
    "%matplotlib inline\n",
    "\n",
    "# Set random seed\n",
    "np.random.seed(sum(map(ord, 'anchor')))\n",
    "\n",
    "# Define folder to save figures\n",
    "folder = 'pdf'\n",
    "!mkdir -p $folder\n"
   ]
  },
  {
   "cell_type": "code",
   "execution_count": 2,
   "metadata": {
    "collapsed": false
   },
   "outputs": [
    {
     "data": {
      "text/plain": [
       "[array([ 0.25199714,  0.49873371,  0.57516028,  1.        ]),\n",
       " array([ 0.43026136,  0.62000665,  0.67878019,  1.        ]),\n",
       " array([ 0.60852558,  0.74127959,  0.7824001 ,  1.        ]),\n",
       " array([ 0.7867898 ,  0.86255253,  0.88602001,  1.        ]),\n",
       " array([ 0.95,  0.95,  0.95,  1.  ]),\n",
       " array([ 0.95457726,  0.76653099,  0.78032569,  1.        ]),\n",
       " array([ 0.91971827,  0.58735877,  0.61174   ,  1.        ]),\n",
       " array([ 0.88485928,  0.40818655,  0.44315432,  1.        ]),\n",
       " array([ 0.85104086,  0.23436275,  0.27960104,  1.        ])]"
      ]
     },
     "execution_count": 2,
     "metadata": {},
     "output_type": "execute_result"
    },
    {
     "data": {
      "image/png": "[encoded data removed]",
      "text/plain": [
       "<matplotlib.figure.Figure at 0x2b56ae15b790>"
      ]
     },
     "metadata": {},
     "output_type": "display_data"
    }
   ],
   "source": [
    "sns.choose_diverging_palette()"
   ]
  },
  {
   "cell_type": "code",
   "execution_count": 3,
   "metadata": {
    "collapsed": true
   },
   "outputs": [],
   "source": [
    "cmap = sns.diverging_palette(247, 0, 85, 58, 10, as_cmap=True, center='dark')"
   ]
  },
  {
   "cell_type": "code",
   "execution_count": 4,
   "metadata": {
    "collapsed": false
   },
   "outputs": [
    {
     "data": {
      "image/png": "[encoded data removed]",
      "text/plain": [
       "<matplotlib.figure.Figure at 0x2b56b06476d0>"
      ]
     },
     "metadata": {},
     "output_type": "display_data"
    }
   ],
   "source": [
    "import matplotlib as mpl\n",
    "import matplotlib.pyplot as plt\n",
    "%matplotlib inline\n",
    "\n",
    "fig, ax = plt.subplots(figsize=(1, 2))\n",
    "# cmap = mpl.cm.RdBu_r\n",
    "norm = mpl.colors.Normalize(vmin=1, vmax=99)\n",
    "mpl.colorbar.ColorbarBase(ax, cmap=cmap, label='% 1s', norm=norm, ticks=[0, 20, 40, 60, 80, 100])\n",
    "# fig.tight_layout()\n",
    "fig.savefig('{}/maybe_bimodals_percent_ones_colorbar_cmap.pdf'.format(folder))"
   ]
  },
  {
   "cell_type": "code",
   "execution_count": 5,
   "metadata": {
    "collapsed": true
   },
   "outputs": [],
   "source": [
    "bayesian = anchor.BayesianModalities()"
   ]
  },
  {
   "cell_type": "markdown",
   "metadata": {},
   "source": [
    "## Make test data\n",
    "\n",
    "### Maybe bimodals"
   ]
  },
  {
   "cell_type": "code",
   "execution_count": 6,
   "metadata": {
    "collapsed": false
   },
   "outputs": [
    {
     "data": {
      "text/html": [
       "<div>\n",
       "<table border=\"1\" class=\"dataframe\">\n",
       "  <thead>\n",
       "    <tr style=\"text-align: right;\">\n",
       "      <th></th>\n",
       "      <th>bimodal_01</th>\n",
       "      <th>bimodal_02</th>\n",
       "      <th>bimodal_03</th>\n",
       "      <th>bimodal_04</th>\n",
       "      <th>bimodal_05</th>\n",
       "      <th>bimodal_06</th>\n",
       "      <th>bimodal_07</th>\n",
       "      <th>bimodal_08</th>\n",
       "      <th>bimodal_09</th>\n",
       "      <th>bimodal_10</th>\n",
       "      <th>...</th>\n",
       "      <th>bimodal_90</th>\n",
       "      <th>bimodal_91</th>\n",
       "      <th>bimodal_92</th>\n",
       "      <th>bimodal_93</th>\n",
       "      <th>bimodal_94</th>\n",
       "      <th>bimodal_95</th>\n",
       "      <th>bimodal_96</th>\n",
       "      <th>bimodal_97</th>\n",
       "      <th>bimodal_98</th>\n",
       "      <th>bimodal_99</th>\n",
       "    </tr>\n",
       "  </thead>\n",
       "  <tbody>\n",
       "    <tr>\n",
       "      <th>0</th>\n",
       "      <td>0</td>\n",
       "      <td>0</td>\n",
       "      <td>0</td>\n",
       "      <td>0</td>\n",
       "      <td>0</td>\n",
       "      <td>0</td>\n",
       "      <td>0</td>\n",
       "      <td>0</td>\n",
       "      <td>0</td>\n",
       "      <td>0</td>\n",
       "      <td>...</td>\n",
       "      <td>0</td>\n",
       "      <td>0</td>\n",
       "      <td>0</td>\n",
       "      <td>0</td>\n",
       "      <td>0</td>\n",
       "      <td>0</td>\n",
       "      <td>0</td>\n",
       "      <td>0</td>\n",
       "      <td>0</td>\n",
       "      <td>0</td>\n",
       "    </tr>\n",
       "    <tr>\n",
       "      <th>1</th>\n",
       "      <td>0</td>\n",
       "      <td>0</td>\n",
       "      <td>0</td>\n",
       "      <td>0</td>\n",
       "      <td>0</td>\n",
       "      <td>0</td>\n",
       "      <td>0</td>\n",
       "      <td>0</td>\n",
       "      <td>0</td>\n",
       "      <td>0</td>\n",
       "      <td>...</td>\n",
       "      <td>0</td>\n",
       "      <td>0</td>\n",
       "      <td>0</td>\n",
       "      <td>0</td>\n",
       "      <td>0</td>\n",
       "      <td>0</td>\n",
       "      <td>0</td>\n",
       "      <td>0</td>\n",
       "      <td>0</td>\n",
       "      <td>1</td>\n",
       "    </tr>\n",
       "    <tr>\n",
       "      <th>2</th>\n",
       "      <td>0</td>\n",
       "      <td>0</td>\n",
       "      <td>0</td>\n",
       "      <td>0</td>\n",
       "      <td>0</td>\n",
       "      <td>0</td>\n",
       "      <td>0</td>\n",
       "      <td>0</td>\n",
       "      <td>0</td>\n",
       "      <td>0</td>\n",
       "      <td>...</td>\n",
       "      <td>0</td>\n",
       "      <td>0</td>\n",
       "      <td>0</td>\n",
       "      <td>0</td>\n",
       "      <td>0</td>\n",
       "      <td>0</td>\n",
       "      <td>0</td>\n",
       "      <td>0</td>\n",
       "      <td>1</td>\n",
       "      <td>1</td>\n",
       "    </tr>\n",
       "    <tr>\n",
       "      <th>3</th>\n",
       "      <td>0</td>\n",
       "      <td>0</td>\n",
       "      <td>0</td>\n",
       "      <td>0</td>\n",
       "      <td>0</td>\n",
       "      <td>0</td>\n",
       "      <td>0</td>\n",
       "      <td>0</td>\n",
       "      <td>0</td>\n",
       "      <td>0</td>\n",
       "      <td>...</td>\n",
       "      <td>0</td>\n",
       "      <td>0</td>\n",
       "      <td>0</td>\n",
       "      <td>0</td>\n",
       "      <td>0</td>\n",
       "      <td>0</td>\n",
       "      <td>0</td>\n",
       "      <td>1</td>\n",
       "      <td>1</td>\n",
       "      <td>1</td>\n",
       "    </tr>\n",
       "    <tr>\n",
       "      <th>4</th>\n",
       "      <td>0</td>\n",
       "      <td>0</td>\n",
       "      <td>0</td>\n",
       "      <td>0</td>\n",
       "      <td>0</td>\n",
       "      <td>0</td>\n",
       "      <td>0</td>\n",
       "      <td>0</td>\n",
       "      <td>0</td>\n",
       "      <td>0</td>\n",
       "      <td>...</td>\n",
       "      <td>0</td>\n",
       "      <td>0</td>\n",
       "      <td>0</td>\n",
       "      <td>0</td>\n",
       "      <td>0</td>\n",
       "      <td>0</td>\n",
       "      <td>1</td>\n",
       "      <td>1</td>\n",
       "      <td>1</td>\n",
       "      <td>1</td>\n",
       "    </tr>\n",
       "  </tbody>\n",
       "</table>\n",
       "<p>5 rows × 99 columns</p>\n",
       "</div>"
      ],
      "text/plain": [
       "   bimodal_01  bimodal_02  bimodal_03  bimodal_04  bimodal_05  bimodal_06  \\\n",
       "0           0           0           0           0           0           0   \n",
       "1           0           0           0           0           0           0   \n",
       "2           0           0           0           0           0           0   \n",
       "3           0           0           0           0           0           0   \n",
       "4           0           0           0           0           0           0   \n",
       "\n",
       "   bimodal_07  bimodal_08  bimodal_09  bimodal_10     ...      bimodal_90  \\\n",
       "0           0           0           0           0     ...               0   \n",
       "1           0           0           0           0     ...               0   \n",
       "2           0           0           0           0     ...               0   \n",
       "3           0           0           0           0     ...               0   \n",
       "4           0           0           0           0     ...               0   \n",
       "\n",
       "   bimodal_91  bimodal_92  bimodal_93  bimodal_94  bimodal_95  bimodal_96  \\\n",
       "0           0           0           0           0           0           0   \n",
       "1           0           0           0           0           0           0   \n",
       "2           0           0           0           0           0           0   \n",
       "3           0           0           0           0           0           0   \n",
       "4           0           0           0           0           0           1   \n",
       "\n",
       "   bimodal_97  bimodal_98  bimodal_99  \n",
       "0           0           0           0  \n",
       "1           0           0           1  \n",
       "2           0           1           1  \n",
       "3           1           1           1  \n",
       "4           1           1           1  \n",
       "\n",
       "[5 rows x 99 columns]"
      ]
     },
     "execution_count": 6,
     "metadata": {},
     "output_type": "execute_result"
    }
   ],
   "source": [
    "size = 100\n",
    "\n",
    "data = np.vstack([np.concatenate([np.zeros(size-i), np.ones(i)]) for i in range(1, size)]).T\n",
    "columns = ['bimodal_{}'.format(str(i).zfill(2)) for i in range(1, data.shape[1]+1)]\n",
    "maybe_bimodals = pd.DataFrame(data, columns=columns)\n",
    "maybe_bimodals.head()"
   ]
  },
  {
   "cell_type": "markdown",
   "metadata": {},
   "source": [
    "### Add noise"
   ]
  },
  {
   "cell_type": "code",
   "execution_count": 7,
   "metadata": {
    "collapsed": false
   },
   "outputs": [
    {
     "name": "stdout",
     "output_type": "stream",
     "text": [
      "(100, 198099)\n"
     ]
    },
    {
     "data": {
      "text/html": [
       "<div>\n",
       "<table border=\"1\" class=\"dataframe\">\n",
       "  <thead>\n",
       "    <tr style=\"text-align: right;\">\n",
       "      <th></th>\n",
       "      <th>bimodal_01_noise0_iter0</th>\n",
       "      <th>bimodal_02_noise0_iter0</th>\n",
       "      <th>bimodal_03_noise0_iter0</th>\n",
       "      <th>bimodal_04_noise0_iter0</th>\n",
       "      <th>bimodal_05_noise0_iter0</th>\n",
       "      <th>bimodal_06_noise0_iter0</th>\n",
       "      <th>bimodal_07_noise0_iter0</th>\n",
       "      <th>bimodal_08_noise0_iter0</th>\n",
       "      <th>bimodal_09_noise0_iter0</th>\n",
       "      <th>bimodal_10_noise0_iter0</th>\n",
       "      <th>...</th>\n",
       "      <th>bimodal_90_noise100_iter99</th>\n",
       "      <th>bimodal_91_noise100_iter99</th>\n",
       "      <th>bimodal_92_noise100_iter99</th>\n",
       "      <th>bimodal_93_noise100_iter99</th>\n",
       "      <th>bimodal_94_noise100_iter99</th>\n",
       "      <th>bimodal_95_noise100_iter99</th>\n",
       "      <th>bimodal_96_noise100_iter99</th>\n",
       "      <th>bimodal_97_noise100_iter99</th>\n",
       "      <th>bimodal_98_noise100_iter99</th>\n",
       "      <th>bimodal_99_noise100_iter99</th>\n",
       "    </tr>\n",
       "  </thead>\n",
       "  <tbody>\n",
       "    <tr>\n",
       "      <th>0</th>\n",
       "      <td>0</td>\n",
       "      <td>0</td>\n",
       "      <td>0</td>\n",
       "      <td>0</td>\n",
       "      <td>0</td>\n",
       "      <td>0</td>\n",
       "      <td>0</td>\n",
       "      <td>0</td>\n",
       "      <td>0</td>\n",
       "      <td>0</td>\n",
       "      <td>...</td>\n",
       "      <td>0.531405</td>\n",
       "      <td>0.577582</td>\n",
       "      <td>0.767717</td>\n",
       "      <td>0.239960</td>\n",
       "      <td>0.964829</td>\n",
       "      <td>0.087456</td>\n",
       "      <td>0.228146</td>\n",
       "      <td>0.963228</td>\n",
       "      <td>0.067367</td>\n",
       "      <td>0.501095</td>\n",
       "    </tr>\n",
       "    <tr>\n",
       "      <th>1</th>\n",
       "      <td>0</td>\n",
       "      <td>0</td>\n",
       "      <td>0</td>\n",
       "      <td>0</td>\n",
       "      <td>0</td>\n",
       "      <td>0</td>\n",
       "      <td>0</td>\n",
       "      <td>0</td>\n",
       "      <td>0</td>\n",
       "      <td>0</td>\n",
       "      <td>...</td>\n",
       "      <td>0.497332</td>\n",
       "      <td>0.548632</td>\n",
       "      <td>0.708339</td>\n",
       "      <td>0.082742</td>\n",
       "      <td>0.017272</td>\n",
       "      <td>0.445545</td>\n",
       "      <td>0.742972</td>\n",
       "      <td>0.441497</td>\n",
       "      <td>0.612356</td>\n",
       "      <td>0.933937</td>\n",
       "    </tr>\n",
       "    <tr>\n",
       "      <th>2</th>\n",
       "      <td>0</td>\n",
       "      <td>0</td>\n",
       "      <td>0</td>\n",
       "      <td>0</td>\n",
       "      <td>0</td>\n",
       "      <td>0</td>\n",
       "      <td>0</td>\n",
       "      <td>0</td>\n",
       "      <td>0</td>\n",
       "      <td>0</td>\n",
       "      <td>...</td>\n",
       "      <td>0.660236</td>\n",
       "      <td>0.262301</td>\n",
       "      <td>0.107548</td>\n",
       "      <td>0.441836</td>\n",
       "      <td>0.766981</td>\n",
       "      <td>0.296796</td>\n",
       "      <td>0.264926</td>\n",
       "      <td>0.585288</td>\n",
       "      <td>0.938966</td>\n",
       "      <td>0.028357</td>\n",
       "    </tr>\n",
       "    <tr>\n",
       "      <th>3</th>\n",
       "      <td>0</td>\n",
       "      <td>0</td>\n",
       "      <td>0</td>\n",
       "      <td>0</td>\n",
       "      <td>0</td>\n",
       "      <td>0</td>\n",
       "      <td>0</td>\n",
       "      <td>0</td>\n",
       "      <td>0</td>\n",
       "      <td>0</td>\n",
       "      <td>...</td>\n",
       "      <td>0.833904</td>\n",
       "      <td>0.833220</td>\n",
       "      <td>0.827848</td>\n",
       "      <td>0.719506</td>\n",
       "      <td>0.496205</td>\n",
       "      <td>0.018356</td>\n",
       "      <td>0.666662</td>\n",
       "      <td>0.658664</td>\n",
       "      <td>0.968084</td>\n",
       "      <td>0.741406</td>\n",
       "    </tr>\n",
       "    <tr>\n",
       "      <th>4</th>\n",
       "      <td>0</td>\n",
       "      <td>0</td>\n",
       "      <td>0</td>\n",
       "      <td>0</td>\n",
       "      <td>0</td>\n",
       "      <td>0</td>\n",
       "      <td>0</td>\n",
       "      <td>0</td>\n",
       "      <td>0</td>\n",
       "      <td>0</td>\n",
       "      <td>...</td>\n",
       "      <td>0.879332</td>\n",
       "      <td>0.437631</td>\n",
       "      <td>0.522159</td>\n",
       "      <td>0.154536</td>\n",
       "      <td>0.679571</td>\n",
       "      <td>0.239531</td>\n",
       "      <td>0.402361</td>\n",
       "      <td>0.450550</td>\n",
       "      <td>0.528403</td>\n",
       "      <td>0.408951</td>\n",
       "    </tr>\n",
       "  </tbody>\n",
       "</table>\n",
       "<p>5 rows × 198099 columns</p>\n",
       "</div>"
      ],
      "text/plain": [
       "   bimodal_01_noise0_iter0  bimodal_02_noise0_iter0  bimodal_03_noise0_iter0  \\\n",
       "0                        0                        0                        0   \n",
       "1                        0                        0                        0   \n",
       "2                        0                        0                        0   \n",
       "3                        0                        0                        0   \n",
       "4                        0                        0                        0   \n",
       "\n",
       "   bimodal_04_noise0_iter0  bimodal_05_noise0_iter0  bimodal_06_noise0_iter0  \\\n",
       "0                        0                        0                        0   \n",
       "1                        0                        0                        0   \n",
       "2                        0                        0                        0   \n",
       "3                        0                        0                        0   \n",
       "4                        0                        0                        0   \n",
       "\n",
       "   bimodal_07_noise0_iter0  bimodal_08_noise0_iter0  bimodal_09_noise0_iter0  \\\n",
       "0                        0                        0                        0   \n",
       "1                        0                        0                        0   \n",
       "2                        0                        0                        0   \n",
       "3                        0                        0                        0   \n",
       "4                        0                        0                        0   \n",
       "\n",
       "   bimodal_10_noise0_iter0             ...              \\\n",
       "0                        0             ...               \n",
       "1                        0             ...               \n",
       "2                        0             ...               \n",
       "3                        0             ...               \n",
       "4                        0             ...               \n",
       "\n",
       "   bimodal_90_noise100_iter99  bimodal_91_noise100_iter99  \\\n",
       "0                    0.531405                    0.577582   \n",
       "1                    0.497332                    0.548632   \n",
       "2                    0.660236                    0.262301   \n",
       "3                    0.833904                    0.833220   \n",
       "4                    0.879332                    0.437631   \n",
       "\n",
       "   bimodal_92_noise100_iter99  bimodal_93_noise100_iter99  \\\n",
       "0                    0.767717                    0.239960   \n",
       "1                    0.708339                    0.082742   \n",
       "2                    0.107548                    0.441836   \n",
       "3                    0.827848                    0.719506   \n",
       "4                    0.522159                    0.154536   \n",
       "\n",
       "   bimodal_94_noise100_iter99  bimodal_95_noise100_iter99  \\\n",
       "0                    0.964829                    0.087456   \n",
       "1                    0.017272                    0.445545   \n",
       "2                    0.766981                    0.296796   \n",
       "3                    0.496205                    0.018356   \n",
       "4                    0.679571                    0.239531   \n",
       "\n",
       "   bimodal_96_noise100_iter99  bimodal_97_noise100_iter99  \\\n",
       "0                    0.228146                    0.963228   \n",
       "1                    0.742972                    0.441497   \n",
       "2                    0.264926                    0.585288   \n",
       "3                    0.666662                    0.658664   \n",
       "4                    0.402361                    0.450550   \n",
       "\n",
       "   bimodal_98_noise100_iter99  bimodal_99_noise100_iter99  \n",
       "0                    0.067367                    0.501095  \n",
       "1                    0.612356                    0.933937  \n",
       "2                    0.938966                    0.028357  \n",
       "3                    0.968084                    0.741406  \n",
       "4                    0.528403                    0.408951  \n",
       "\n",
       "[5 rows x 198099 columns]"
      ]
     },
     "execution_count": 7,
     "metadata": {},
     "output_type": "execute_result"
    }
   ],
   "source": [
    "import six\n",
    "# Up to but not including the last item - \"uncategorized\"\n",
    "# violinplot_kws = dict(order=MODALITY_ORDER[:-1], palette=MODALITY_PALETTE[:-1])\n",
    "\n",
    "figure_prefix = '{}/maybe_bimodals_noisy'.format(folder)\n",
    "\n",
    "maybe_bimodals_noisy = anchor.add_noise(\n",
    "    maybe_bimodals, plot=False, iteration_per_noise=100, #violinplot_kws=violinplot_kws, \n",
    "    figure_prefix=figure_prefix, noise_percentages=np.arange(0, 101, 5))\n",
    "six.print_(maybe_bimodals_noisy.shape)\n",
    "maybe_bimodals_noisy.head()"
   ]
  },
  {
   "cell_type": "markdown",
   "metadata": {},
   "source": [
    "### Save the dataa"
   ]
  },
  {
   "cell_type": "code",
   "execution_count": 8,
   "metadata": {
    "collapsed": true
   },
   "outputs": [],
   "source": [
    "maybe_bimodals_noisy.to_csv('data.csv'.format(folder))"
   ]
  },
  {
   "cell_type": "markdown",
   "metadata": {},
   "source": [
    "### Plot a few violinplots from each iteration"
   ]
  },
  {
   "cell_type": "code",
   "execution_count": 9,
   "metadata": {
    "collapsed": false
   },
   "outputs": [
    {
     "name": "stdout",
     "output_type": "stream",
     "text": [
      "(19809900, 3)\n"
     ]
    },
    {
     "data": {
      "text/html": [
       "<div>\n",
       "<table border=\"1\" class=\"dataframe\">\n",
       "  <thead>\n",
       "    <tr style=\"text-align: right;\">\n",
       "      <th></th>\n",
       "      <th>Feature ID</th>\n",
       "      <th>Sample ID</th>\n",
       "      <th>$\\Psi$</th>\n",
       "      <th>Iteration</th>\n",
       "      <th>% Noise</th>\n",
       "      <th>% 1s</th>\n",
       "    </tr>\n",
       "  </thead>\n",
       "  <tbody>\n",
       "    <tr>\n",
       "      <th>0</th>\n",
       "      <td>bimodal_01_noise0_iter0</td>\n",
       "      <td>0</td>\n",
       "      <td>0</td>\n",
       "      <td>0</td>\n",
       "      <td>0</td>\n",
       "      <td>1</td>\n",
       "    </tr>\n",
       "    <tr>\n",
       "      <th>1</th>\n",
       "      <td>bimodal_01_noise0_iter0</td>\n",
       "      <td>1</td>\n",
       "      <td>0</td>\n",
       "      <td>0</td>\n",
       "      <td>0</td>\n",
       "      <td>1</td>\n",
       "    </tr>\n",
       "    <tr>\n",
       "      <th>2</th>\n",
       "      <td>bimodal_01_noise0_iter0</td>\n",
       "      <td>2</td>\n",
       "      <td>0</td>\n",
       "      <td>0</td>\n",
       "      <td>0</td>\n",
       "      <td>1</td>\n",
       "    </tr>\n",
       "    <tr>\n",
       "      <th>3</th>\n",
       "      <td>bimodal_01_noise0_iter0</td>\n",
       "      <td>3</td>\n",
       "      <td>0</td>\n",
       "      <td>0</td>\n",
       "      <td>0</td>\n",
       "      <td>1</td>\n",
       "    </tr>\n",
       "    <tr>\n",
       "      <th>4</th>\n",
       "      <td>bimodal_01_noise0_iter0</td>\n",
       "      <td>4</td>\n",
       "      <td>0</td>\n",
       "      <td>0</td>\n",
       "      <td>0</td>\n",
       "      <td>1</td>\n",
       "    </tr>\n",
       "  </tbody>\n",
       "</table>\n",
       "</div>"
      ],
      "text/plain": [
       "                Feature ID  Sample ID  $\\Psi$  Iteration  % Noise  % 1s\n",
       "0  bimodal_01_noise0_iter0          0       0          0        0     1\n",
       "1  bimodal_01_noise0_iter0          1       0          0        0     1\n",
       "2  bimodal_01_noise0_iter0          2       0          0        0     1\n",
       "3  bimodal_01_noise0_iter0          3       0          0        0     1\n",
       "4  bimodal_01_noise0_iter0          4       0          0        0     1"
      ]
     },
     "execution_count": 9,
     "metadata": {},
     "output_type": "execute_result"
    }
   ],
   "source": [
    "tidy = maybe_bimodals_noisy.unstack().reset_index()\n",
    "six.print_(tidy.shape)\n",
    "tidy = tidy.rename(columns={'level_0':'Feature ID', 'level_1': \"Sample ID\", 0: \"$\\Psi$\"})\n",
    "tidy['Iteration'] = tidy['Feature ID'].str.extract('iter(\\d+)').astype(int)\n",
    "tidy['% Noise'] = tidy['Feature ID'].str.extract('noise(\\d+)').astype(int)\n",
    "tidy['% 1s'] = tidy['Feature ID'].str.extract('_(\\d+)_').astype(int)\n",
    "\n",
    "tidy.head()"
   ]
  },
  {
   "cell_type": "code",
   "execution_count": 10,
   "metadata": {
    "collapsed": false
   },
   "outputs": [
    {
     "name": "stdout",
     "output_type": "stream",
     "text": [
      "(198099, 5)\n"
     ]
    },
    {
     "data": {
      "text/html": [
       "<div>\n",
       "<table border=\"1\" class=\"dataframe\">\n",
       "  <thead>\n",
       "    <tr style=\"text-align: right;\">\n",
       "      <th></th>\n",
       "      <th>Sample ID</th>\n",
       "      <th>$\\Psi$</th>\n",
       "      <th>Iteration</th>\n",
       "      <th>% Noise</th>\n",
       "      <th>% 1s</th>\n",
       "    </tr>\n",
       "    <tr>\n",
       "      <th>Feature ID</th>\n",
       "      <th></th>\n",
       "      <th></th>\n",
       "      <th></th>\n",
       "      <th></th>\n",
       "      <th></th>\n",
       "    </tr>\n",
       "  </thead>\n",
       "  <tbody>\n",
       "    <tr>\n",
       "      <th>bimodal_01_noise0_iter0</th>\n",
       "      <td>0</td>\n",
       "      <td>0</td>\n",
       "      <td>0</td>\n",
       "      <td>0</td>\n",
       "      <td>1</td>\n",
       "    </tr>\n",
       "    <tr>\n",
       "      <th>bimodal_02_noise0_iter0</th>\n",
       "      <td>0</td>\n",
       "      <td>0</td>\n",
       "      <td>0</td>\n",
       "      <td>0</td>\n",
       "      <td>2</td>\n",
       "    </tr>\n",
       "    <tr>\n",
       "      <th>bimodal_03_noise0_iter0</th>\n",
       "      <td>0</td>\n",
       "      <td>0</td>\n",
       "      <td>0</td>\n",
       "      <td>0</td>\n",
       "      <td>3</td>\n",
       "    </tr>\n",
       "    <tr>\n",
       "      <th>bimodal_04_noise0_iter0</th>\n",
       "      <td>0</td>\n",
       "      <td>0</td>\n",
       "      <td>0</td>\n",
       "      <td>0</td>\n",
       "      <td>4</td>\n",
       "    </tr>\n",
       "    <tr>\n",
       "      <th>bimodal_05_noise0_iter0</th>\n",
       "      <td>0</td>\n",
       "      <td>0</td>\n",
       "      <td>0</td>\n",
       "      <td>0</td>\n",
       "      <td>5</td>\n",
       "    </tr>\n",
       "  </tbody>\n",
       "</table>\n",
       "</div>"
      ],
      "text/plain": [
       "                         Sample ID  $\\Psi$  Iteration  % Noise  % 1s\n",
       "Feature ID                                                          \n",
       "bimodal_01_noise0_iter0          0       0          0        0     1\n",
       "bimodal_02_noise0_iter0          0       0          0        0     2\n",
       "bimodal_03_noise0_iter0          0       0          0        0     3\n",
       "bimodal_04_noise0_iter0          0       0          0        0     4\n",
       "bimodal_05_noise0_iter0          0       0          0        0     5"
      ]
     },
     "execution_count": 10,
     "metadata": {},
     "output_type": "execute_result"
    }
   ],
   "source": [
    "metadata = tidy.drop_duplicates(['Feature ID'])\n",
    "metadata = metadata.set_index('Feature ID')\n",
    "six.print_(metadata.shape)\n",
    "metadata.to_csv('metadata.csv', index_col=False)\n",
    "metadata.head()"
   ]
  },
  {
   "cell_type": "markdown",
   "metadata": {},
   "source": [
    "#### Get only a subset of the samples for plotting\n",
    "\n",
    "Use where:\n",
    "\n",
    "* %1s is 1, 25, 50, 75, 99\n",
    "* Noise percentage is 0, 25, 50, 75"
   ]
  },
  {
   "cell_type": "code",
   "execution_count": 11,
   "metadata": {
    "collapsed": false
   },
   "outputs": [
    {
     "data": {
      "text/plain": [
       "(150500, 6)"
      ]
     },
     "execution_count": 11,
     "metadata": {},
     "output_type": "execute_result"
    }
   ],
   "source": [
    "rows = tidy['% 1s'].isin([1, 25, 50, 75, 99]) & tidy['% Noise'].isin([0, 25, 50, 75])\n",
    "\n",
    "tidy_subset = tidy.loc[rows]\n",
    "tidy_subset.shape"
   ]
  },
  {
   "cell_type": "code",
   "execution_count": 12,
   "metadata": {
    "collapsed": true
   },
   "outputs": [],
   "source": [
    "bimodal_palette = sns.diverging_palette(247, 0, 85, 58, 10, n=99, center='dark')"
   ]
  },
  {
   "cell_type": "code",
   "execution_count": null,
   "metadata": {
    "collapsed": false
   },
   "outputs": [
    {
     "data": {
      "image/png": "[encoded data removed]",
      "text/plain": [
       "<matplotlib.figure.Figure at 0x2b56b0d61a10>"
      ]
     },
     "metadata": {},
     "output_type": "display_data"
    }
   ],
   "source": [
    "g = sns.factorplot(x='% 1s', y='$\\Psi$', col='% Noise', data=tidy_subset, size=3,\n",
    "                   kind='violin', palette=sns.diverging_palette(247, 0, 85, 58, 10, n=5, center='dark'), \n",
    "                   bw=0.2, inner=None, scale='width')\n",
    "g.set(ylim=(0, 1), yticks=(0, 0.5, 1))\n",
    "g.savefig('{}/data.pdf'.format(folder))"
   ]
  },
  {
   "cell_type": "code",
   "execution_count": null,
   "metadata": {
    "collapsed": false,
    "scrolled": false
   },
   "outputs": [],
   "source": [
    "from anchor.simulate import evaluate_estimator\n",
    "\n",
    "figure_prefix = '{}/maybe_bimodals_evaluated'.format(folder)\n",
    "\n",
    "bayesian = anchor.BayesianModalities()\n",
    "\n",
    "result = evaluate_estimator(bayesian, maybe_bimodals_noisy, figure_prefix=figure_prefix)"
   ]
  },
  {
   "cell_type": "code",
   "execution_count": null,
   "metadata": {
    "collapsed": false
   },
   "outputs": [],
   "source": [
    "bimodals_predicted = result.predicted.reset_index()\n",
    "bimodals_predicted = bimodals_predicted.rename(columns={'index': \"Feature ID\"})\n",
    "bimodals_predicted['Number of Ones'] = bimodals_predicted['Feature ID'].str.split('_').str[1].astype(int) + 1\n",
    "bimodals_predicted['Original Modality'] = bimodals_predicted['Feature ID'].str.split('_').str[0]\n",
    "bimodals_predicted['Noise'] = bimodals_predicted['Feature ID'].str.extract('noise(\\d+)').astype(int)\n",
    "bimodals_predicted['Predicted Bimodal'] = bimodals_predicted['Predicted Modality'] == bimodals_predicted['Original Modality']\n",
    "\n",
    "g = sns.factorplot(x='Number of Ones', y='Predicted Bimodal', \n",
    "               data=bimodals_predicted, scale=0.5, color='#262626',\n",
    "               aspect=1.5, ci=None)\n",
    "for ax in g.axes.flat:\n",
    "    ymin, ymax = ax.get_ylim()\n",
    "    ax.vlines([10, 90], ymin, ymax, linestyle='--')\n",
    "g.set(xticks=(0, 20, 40, 60, 80, 100), xticklabels=(0, 20, 40, 60, 80, 100), ylim=(ymin, ymax))\n",
    "g.savefig('{}_bimodals_percent_predicted_bimodal.pdf'.format(figure_prefix))\n",
    "\n"
   ]
  },
  {
   "cell_type": "code",
   "execution_count": null,
   "metadata": {
    "collapsed": false
   },
   "outputs": [],
   "source": [
    "g = sns.factorplot(x='Number of Ones', y='Predicted Bimodal', \n",
    "               data=bimodals_predicted, scale=0.5, dodge=False,\n",
    "               aspect=1.5, ci=None, hue='Noise', palette='GnBu_r', hue_order=np.arange(0, 101, 5)[::-1])\n",
    "g.set(xticks=(0, 20, 40, 60, 80, 100), xticklabels=(0, 20, 40, 60, 80, 100))\n",
    "g.savefig('{}_bimodals_percent_predicted_bimodal_with_noise.pdf'.format(figure_prefix))"
   ]
  },
  {
   "cell_type": "code",
   "execution_count": null,
   "metadata": {
    "collapsed": true
   },
   "outputs": [],
   "source": [
    "bimodal_palette = sns.diverging_palette(247, 0, 85, 58, 10, n=99, center='dark')\n"
   ]
  },
  {
   "cell_type": "code",
   "execution_count": null,
   "metadata": {
    "collapsed": false
   },
   "outputs": [],
   "source": [
    "g = sns.factorplot(x='Noise', y='Predicted Bimodal', \n",
    "               data=bimodals_predicted, scale=0.5, dodge=False, legend=False,\n",
    "               aspect=1.5, ci=None, hue='Number of Ones', palette=bimodal_palette, hue_order=np.arange(1, 100)[::-1])\n",
    "# g.set(xticks=(0, 20, 40, 60, 80, 100), xticklabels=(0, 20, 40, 60, 80, 100))\n",
    "g.savefig('{}_bimodals_percent_predicted_bimodal_with_noise.pdf'.format(figure_prefix))"
   ]
  },
  {
   "cell_type": "code",
   "execution_count": null,
   "metadata": {
    "collapsed": false
   },
   "outputs": [],
   "source": [
    "bimodals_predicted.to_csv('bayesian_modality_predictions.csv', index=False)"
   ]
  },
  {
   "cell_type": "code",
   "execution_count": null,
   "metadata": {
    "collapsed": true
   },
   "outputs": [],
   "source": [
    "bimodals_predicted.to_csv('bayesian_modality_predictions.csv', index=False)"
   ]
  },
  {
   "cell_type": "code",
   "execution_count": null,
   "metadata": {
    "collapsed": true
   },
   "outputs": [],
   "source": []
  }
 ],
 "metadata": {
  "kernelspec": {
   "display_name": "Python 2",
   "language": "python",
   "name": "python2"
  },
  "language_info": {
   "codemirror_mode": {
    "name": "ipython",
    "version": 2
   },
   "file_extension": ".py",
   "mimetype": "text/x-python",
   "name": "python",
   "nbconvert_exporter": "python",
   "pygments_lexer": "ipython2",
   "version": "2.7.10"
  }
 },
 "nbformat": 4,
 "nbformat_minor": 0
}
