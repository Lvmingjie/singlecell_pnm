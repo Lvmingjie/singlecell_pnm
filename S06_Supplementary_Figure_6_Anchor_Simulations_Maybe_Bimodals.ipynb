{
 "cells": [
  {
   "cell_type": "code",
   "execution_count": 1,
   "metadata": {
    "collapsed": true
   },
   "outputs": [],
   "source": [
    "import matplotlib.pyplot as plt\n",
    "import numpy as np\n",
    "import pandas as pd\n",
    "import seaborn as sns\n",
    "sns.set(style='ticks', context='talk', rc={'font.sans-serif':'Arial', 'pdf.fonttype': 42})\n",
    "import anchor\n",
    "\n",
    "from anchor import MODALITY_ORDER, MODALITY_PALETTE, MODALITY_TO_COLOR, MODALITY_TO_CMAP\n",
    "\n",
    "%load_ext autoreload\n",
    "%autoreload 2\n",
    "\n",
    "# Figures in the notebook\n",
    "%matplotlib inline\n",
    "\n",
    "# Set random seed\n",
    "np.random.seed(sum(map(ord, 'anchor')))\n",
    "\n",
    "# Define folder to save figures\n",
    "folder = 'figures/anchor/sfig_6'\n",
    "!mkdir -p $folder\n"
   ]
  },
  {
   "cell_type": "code",
   "execution_count": 2,
   "metadata": {
    "collapsed": true
   },
   "outputs": [],
   "source": [
    "bayesian = anchor.BayesianModalities()"
   ]
  },
  {
   "cell_type": "markdown",
   "metadata": {},
   "source": [
    "## Make test data\n",
    "\n",
    "### Maybe bimodals"
   ]
  },
  {
   "cell_type": "code",
   "execution_count": 41,
   "metadata": {
    "collapsed": false
   },
   "outputs": [
    {
     "data": {
      "text/html": [
       "<div>\n",
       "<table border=\"1\" class=\"dataframe\">\n",
       "  <thead>\n",
       "    <tr style=\"text-align: right;\">\n",
       "      <th></th>\n",
       "      <th>bimodal_01</th>\n",
       "      <th>bimodal_02</th>\n",
       "      <th>bimodal_03</th>\n",
       "      <th>bimodal_04</th>\n",
       "      <th>bimodal_05</th>\n",
       "      <th>bimodal_06</th>\n",
       "      <th>bimodal_07</th>\n",
       "      <th>bimodal_08</th>\n",
       "      <th>bimodal_09</th>\n",
       "      <th>bimodal_10</th>\n",
       "      <th>...</th>\n",
       "      <th>bimodal_90</th>\n",
       "      <th>bimodal_91</th>\n",
       "      <th>bimodal_92</th>\n",
       "      <th>bimodal_93</th>\n",
       "      <th>bimodal_94</th>\n",
       "      <th>bimodal_95</th>\n",
       "      <th>bimodal_96</th>\n",
       "      <th>bimodal_97</th>\n",
       "      <th>bimodal_98</th>\n",
       "      <th>bimodal_99</th>\n",
       "    </tr>\n",
       "  </thead>\n",
       "  <tbody>\n",
       "    <tr>\n",
       "      <th>0</th>\n",
       "      <td>0</td>\n",
       "      <td>0</td>\n",
       "      <td>0</td>\n",
       "      <td>0</td>\n",
       "      <td>0</td>\n",
       "      <td>0</td>\n",
       "      <td>0</td>\n",
       "      <td>0</td>\n",
       "      <td>0</td>\n",
       "      <td>0</td>\n",
       "      <td>...</td>\n",
       "      <td>0</td>\n",
       "      <td>0</td>\n",
       "      <td>0</td>\n",
       "      <td>0</td>\n",
       "      <td>0</td>\n",
       "      <td>0</td>\n",
       "      <td>0</td>\n",
       "      <td>0</td>\n",
       "      <td>0</td>\n",
       "      <td>0</td>\n",
       "    </tr>\n",
       "    <tr>\n",
       "      <th>1</th>\n",
       "      <td>0</td>\n",
       "      <td>0</td>\n",
       "      <td>0</td>\n",
       "      <td>0</td>\n",
       "      <td>0</td>\n",
       "      <td>0</td>\n",
       "      <td>0</td>\n",
       "      <td>0</td>\n",
       "      <td>0</td>\n",
       "      <td>0</td>\n",
       "      <td>...</td>\n",
       "      <td>0</td>\n",
       "      <td>0</td>\n",
       "      <td>0</td>\n",
       "      <td>0</td>\n",
       "      <td>0</td>\n",
       "      <td>0</td>\n",
       "      <td>0</td>\n",
       "      <td>0</td>\n",
       "      <td>0</td>\n",
       "      <td>1</td>\n",
       "    </tr>\n",
       "    <tr>\n",
       "      <th>2</th>\n",
       "      <td>0</td>\n",
       "      <td>0</td>\n",
       "      <td>0</td>\n",
       "      <td>0</td>\n",
       "      <td>0</td>\n",
       "      <td>0</td>\n",
       "      <td>0</td>\n",
       "      <td>0</td>\n",
       "      <td>0</td>\n",
       "      <td>0</td>\n",
       "      <td>...</td>\n",
       "      <td>0</td>\n",
       "      <td>0</td>\n",
       "      <td>0</td>\n",
       "      <td>0</td>\n",
       "      <td>0</td>\n",
       "      <td>0</td>\n",
       "      <td>0</td>\n",
       "      <td>0</td>\n",
       "      <td>1</td>\n",
       "      <td>1</td>\n",
       "    </tr>\n",
       "    <tr>\n",
       "      <th>3</th>\n",
       "      <td>0</td>\n",
       "      <td>0</td>\n",
       "      <td>0</td>\n",
       "      <td>0</td>\n",
       "      <td>0</td>\n",
       "      <td>0</td>\n",
       "      <td>0</td>\n",
       "      <td>0</td>\n",
       "      <td>0</td>\n",
       "      <td>0</td>\n",
       "      <td>...</td>\n",
       "      <td>0</td>\n",
       "      <td>0</td>\n",
       "      <td>0</td>\n",
       "      <td>0</td>\n",
       "      <td>0</td>\n",
       "      <td>0</td>\n",
       "      <td>0</td>\n",
       "      <td>1</td>\n",
       "      <td>1</td>\n",
       "      <td>1</td>\n",
       "    </tr>\n",
       "    <tr>\n",
       "      <th>4</th>\n",
       "      <td>0</td>\n",
       "      <td>0</td>\n",
       "      <td>0</td>\n",
       "      <td>0</td>\n",
       "      <td>0</td>\n",
       "      <td>0</td>\n",
       "      <td>0</td>\n",
       "      <td>0</td>\n",
       "      <td>0</td>\n",
       "      <td>0</td>\n",
       "      <td>...</td>\n",
       "      <td>0</td>\n",
       "      <td>0</td>\n",
       "      <td>0</td>\n",
       "      <td>0</td>\n",
       "      <td>0</td>\n",
       "      <td>0</td>\n",
       "      <td>1</td>\n",
       "      <td>1</td>\n",
       "      <td>1</td>\n",
       "      <td>1</td>\n",
       "    </tr>\n",
       "  </tbody>\n",
       "</table>\n",
       "<p>5 rows × 99 columns</p>\n",
       "</div>"
      ],
      "text/plain": [
       "   bimodal_01  bimodal_02  bimodal_03  bimodal_04  bimodal_05  bimodal_06  \\\n",
       "0           0           0           0           0           0           0   \n",
       "1           0           0           0           0           0           0   \n",
       "2           0           0           0           0           0           0   \n",
       "3           0           0           0           0           0           0   \n",
       "4           0           0           0           0           0           0   \n",
       "\n",
       "   bimodal_07  bimodal_08  bimodal_09  bimodal_10     ...      bimodal_90  \\\n",
       "0           0           0           0           0     ...               0   \n",
       "1           0           0           0           0     ...               0   \n",
       "2           0           0           0           0     ...               0   \n",
       "3           0           0           0           0     ...               0   \n",
       "4           0           0           0           0     ...               0   \n",
       "\n",
       "   bimodal_91  bimodal_92  bimodal_93  bimodal_94  bimodal_95  bimodal_96  \\\n",
       "0           0           0           0           0           0           0   \n",
       "1           0           0           0           0           0           0   \n",
       "2           0           0           0           0           0           0   \n",
       "3           0           0           0           0           0           0   \n",
       "4           0           0           0           0           0           1   \n",
       "\n",
       "   bimodal_97  bimodal_98  bimodal_99  \n",
       "0           0           0           0  \n",
       "1           0           0           1  \n",
       "2           0           1           1  \n",
       "3           1           1           1  \n",
       "4           1           1           1  \n",
       "\n",
       "[5 rows x 99 columns]"
      ]
     },
     "execution_count": 41,
     "metadata": {},
     "output_type": "execute_result"
    }
   ],
   "source": [
    "size = 100\n",
    "\n",
    "data = np.vstack([np.concatenate([np.zeros(size-i), np.ones(i)]) for i in range(1, size)]).T\n",
    "columns = ['bimodal_{}'.format(str(i).zfill(2)) for i in range(1, data.shape[1]+1)]\n",
    "maybe_bimodals = pd.DataFrame(data, columns=columns)\n",
    "maybe_bimodals.head()"
   ]
  },
  {
   "cell_type": "markdown",
   "metadata": {},
   "source": [
    "### Add noise"
   ]
  },
  {
   "cell_type": "code",
   "execution_count": 88,
   "metadata": {
    "collapsed": false
   },
   "outputs": [
    {
     "name": "stdout",
     "output_type": "stream",
     "text": [
      "(100, 198099)\n"
     ]
    },
    {
     "data": {
      "text/html": [
       "<div>\n",
       "<table border=\"1\" class=\"dataframe\">\n",
       "  <thead>\n",
       "    <tr style=\"text-align: right;\">\n",
       "      <th></th>\n",
       "      <th>bimodal_01_noise0_iter0</th>\n",
       "      <th>bimodal_02_noise0_iter0</th>\n",
       "      <th>bimodal_03_noise0_iter0</th>\n",
       "      <th>bimodal_04_noise0_iter0</th>\n",
       "      <th>bimodal_05_noise0_iter0</th>\n",
       "      <th>bimodal_06_noise0_iter0</th>\n",
       "      <th>bimodal_07_noise0_iter0</th>\n",
       "      <th>bimodal_08_noise0_iter0</th>\n",
       "      <th>bimodal_09_noise0_iter0</th>\n",
       "      <th>bimodal_10_noise0_iter0</th>\n",
       "      <th>...</th>\n",
       "      <th>bimodal_90_noise100_iter99</th>\n",
       "      <th>bimodal_91_noise100_iter99</th>\n",
       "      <th>bimodal_92_noise100_iter99</th>\n",
       "      <th>bimodal_93_noise100_iter99</th>\n",
       "      <th>bimodal_94_noise100_iter99</th>\n",
       "      <th>bimodal_95_noise100_iter99</th>\n",
       "      <th>bimodal_96_noise100_iter99</th>\n",
       "      <th>bimodal_97_noise100_iter99</th>\n",
       "      <th>bimodal_98_noise100_iter99</th>\n",
       "      <th>bimodal_99_noise100_iter99</th>\n",
       "    </tr>\n",
       "  </thead>\n",
       "  <tbody>\n",
       "    <tr>\n",
       "      <th>0</th>\n",
       "      <td>0</td>\n",
       "      <td>0</td>\n",
       "      <td>0</td>\n",
       "      <td>0</td>\n",
       "      <td>0</td>\n",
       "      <td>0</td>\n",
       "      <td>0</td>\n",
       "      <td>0</td>\n",
       "      <td>0</td>\n",
       "      <td>0</td>\n",
       "      <td>...</td>\n",
       "      <td>0.600152</td>\n",
       "      <td>0.155205</td>\n",
       "      <td>0.376607</td>\n",
       "      <td>0.042812</td>\n",
       "      <td>0.448701</td>\n",
       "      <td>0.202316</td>\n",
       "      <td>0.969361</td>\n",
       "      <td>0.622581</td>\n",
       "      <td>0.357064</td>\n",
       "      <td>0.029683</td>\n",
       "    </tr>\n",
       "    <tr>\n",
       "      <th>1</th>\n",
       "      <td>0</td>\n",
       "      <td>0</td>\n",
       "      <td>0</td>\n",
       "      <td>0</td>\n",
       "      <td>0</td>\n",
       "      <td>0</td>\n",
       "      <td>0</td>\n",
       "      <td>0</td>\n",
       "      <td>0</td>\n",
       "      <td>0</td>\n",
       "      <td>...</td>\n",
       "      <td>0.584326</td>\n",
       "      <td>0.373509</td>\n",
       "      <td>0.321302</td>\n",
       "      <td>0.844513</td>\n",
       "      <td>0.648590</td>\n",
       "      <td>0.885582</td>\n",
       "      <td>0.987330</td>\n",
       "      <td>0.923216</td>\n",
       "      <td>0.656507</td>\n",
       "      <td>0.821695</td>\n",
       "    </tr>\n",
       "    <tr>\n",
       "      <th>2</th>\n",
       "      <td>0</td>\n",
       "      <td>0</td>\n",
       "      <td>0</td>\n",
       "      <td>0</td>\n",
       "      <td>0</td>\n",
       "      <td>0</td>\n",
       "      <td>0</td>\n",
       "      <td>0</td>\n",
       "      <td>0</td>\n",
       "      <td>0</td>\n",
       "      <td>...</td>\n",
       "      <td>0.636276</td>\n",
       "      <td>0.479932</td>\n",
       "      <td>0.124000</td>\n",
       "      <td>0.464486</td>\n",
       "      <td>0.854911</td>\n",
       "      <td>0.182940</td>\n",
       "      <td>0.758169</td>\n",
       "      <td>0.833992</td>\n",
       "      <td>0.438727</td>\n",
       "      <td>0.697401</td>\n",
       "    </tr>\n",
       "    <tr>\n",
       "      <th>3</th>\n",
       "      <td>0</td>\n",
       "      <td>0</td>\n",
       "      <td>0</td>\n",
       "      <td>0</td>\n",
       "      <td>0</td>\n",
       "      <td>0</td>\n",
       "      <td>0</td>\n",
       "      <td>0</td>\n",
       "      <td>0</td>\n",
       "      <td>0</td>\n",
       "      <td>...</td>\n",
       "      <td>0.713643</td>\n",
       "      <td>0.629295</td>\n",
       "      <td>0.692804</td>\n",
       "      <td>0.768470</td>\n",
       "      <td>0.816107</td>\n",
       "      <td>0.583497</td>\n",
       "      <td>0.417128</td>\n",
       "      <td>0.245534</td>\n",
       "      <td>0.990129</td>\n",
       "      <td>0.637606</td>\n",
       "    </tr>\n",
       "    <tr>\n",
       "      <th>4</th>\n",
       "      <td>0</td>\n",
       "      <td>0</td>\n",
       "      <td>0</td>\n",
       "      <td>0</td>\n",
       "      <td>0</td>\n",
       "      <td>0</td>\n",
       "      <td>0</td>\n",
       "      <td>0</td>\n",
       "      <td>0</td>\n",
       "      <td>0</td>\n",
       "      <td>...</td>\n",
       "      <td>0.472486</td>\n",
       "      <td>0.357911</td>\n",
       "      <td>0.281413</td>\n",
       "      <td>0.037658</td>\n",
       "      <td>0.925184</td>\n",
       "      <td>0.503677</td>\n",
       "      <td>0.359777</td>\n",
       "      <td>0.191874</td>\n",
       "      <td>0.048664</td>\n",
       "      <td>0.477254</td>\n",
       "    </tr>\n",
       "  </tbody>\n",
       "</table>\n",
       "<p>5 rows × 198099 columns</p>\n",
       "</div>"
      ],
      "text/plain": [
       "   bimodal_01_noise0_iter0  bimodal_02_noise0_iter0  bimodal_03_noise0_iter0  \\\n",
       "0                        0                        0                        0   \n",
       "1                        0                        0                        0   \n",
       "2                        0                        0                        0   \n",
       "3                        0                        0                        0   \n",
       "4                        0                        0                        0   \n",
       "\n",
       "   bimodal_04_noise0_iter0  bimodal_05_noise0_iter0  bimodal_06_noise0_iter0  \\\n",
       "0                        0                        0                        0   \n",
       "1                        0                        0                        0   \n",
       "2                        0                        0                        0   \n",
       "3                        0                        0                        0   \n",
       "4                        0                        0                        0   \n",
       "\n",
       "   bimodal_07_noise0_iter0  bimodal_08_noise0_iter0  bimodal_09_noise0_iter0  \\\n",
       "0                        0                        0                        0   \n",
       "1                        0                        0                        0   \n",
       "2                        0                        0                        0   \n",
       "3                        0                        0                        0   \n",
       "4                        0                        0                        0   \n",
       "\n",
       "   bimodal_10_noise0_iter0             ...              \\\n",
       "0                        0             ...               \n",
       "1                        0             ...               \n",
       "2                        0             ...               \n",
       "3                        0             ...               \n",
       "4                        0             ...               \n",
       "\n",
       "   bimodal_90_noise100_iter99  bimodal_91_noise100_iter99  \\\n",
       "0                    0.600152                    0.155205   \n",
       "1                    0.584326                    0.373509   \n",
       "2                    0.636276                    0.479932   \n",
       "3                    0.713643                    0.629295   \n",
       "4                    0.472486                    0.357911   \n",
       "\n",
       "   bimodal_92_noise100_iter99  bimodal_93_noise100_iter99  \\\n",
       "0                    0.376607                    0.042812   \n",
       "1                    0.321302                    0.844513   \n",
       "2                    0.124000                    0.464486   \n",
       "3                    0.692804                    0.768470   \n",
       "4                    0.281413                    0.037658   \n",
       "\n",
       "   bimodal_94_noise100_iter99  bimodal_95_noise100_iter99  \\\n",
       "0                    0.448701                    0.202316   \n",
       "1                    0.648590                    0.885582   \n",
       "2                    0.854911                    0.182940   \n",
       "3                    0.816107                    0.583497   \n",
       "4                    0.925184                    0.503677   \n",
       "\n",
       "   bimodal_96_noise100_iter99  bimodal_97_noise100_iter99  \\\n",
       "0                    0.969361                    0.622581   \n",
       "1                    0.987330                    0.923216   \n",
       "2                    0.758169                    0.833992   \n",
       "3                    0.417128                    0.245534   \n",
       "4                    0.359777                    0.191874   \n",
       "\n",
       "   bimodal_98_noise100_iter99  bimodal_99_noise100_iter99  \n",
       "0                    0.357064                    0.029683  \n",
       "1                    0.656507                    0.821695  \n",
       "2                    0.438727                    0.697401  \n",
       "3                    0.990129                    0.637606  \n",
       "4                    0.048664                    0.477254  \n",
       "\n",
       "[5 rows x 198099 columns]"
      ]
     },
     "execution_count": 88,
     "metadata": {},
     "output_type": "execute_result"
    }
   ],
   "source": [
    "import six\n",
    "# Up to but not including the last item - \"uncategorized\"\n",
    "# violinplot_kws = dict(order=MODALITY_ORDER[:-1], palette=MODALITY_PALETTE[:-1])\n",
    "\n",
    "figure_prefix = '{}/maybe_bimodals_noisy'.format(folder)\n",
    "\n",
    "maybe_bimodals_noisy = anchor.add_noise(\n",
    "    maybe_bimodals, plot=False, iteration_per_noise=100, #violinplot_kws=violinplot_kws, \n",
    "    figure_prefix=figure_prefix, noise_percentages=np.arange(0, 101, 5))\n",
    "six.print_(maybe_bimodals_noisy.shape)\n",
    "maybe_bimodals_noisy.head()"
   ]
  },
  {
   "cell_type": "markdown",
   "metadata": {},
   "source": [
    "### Save the dataa"
   ]
  },
  {
   "cell_type": "code",
   "execution_count": 89,
   "metadata": {
    "collapsed": true
   },
   "outputs": [],
   "source": [
    "maybe_bimodals_noisy.to_csv('{}/data.csv'.format(folder))"
   ]
  },
  {
   "cell_type": "markdown",
   "metadata": {},
   "source": [
    "### Plot a few violinplots from each iteration"
   ]
  },
  {
   "cell_type": "code",
   "execution_count": 90,
   "metadata": {
    "collapsed": false
   },
   "outputs": [
    {
     "name": "stdout",
     "output_type": "stream",
     "text": [
      "(19809900, 3)\n"
     ]
    },
    {
     "data": {
      "text/html": [
       "<div>\n",
       "<table border=\"1\" class=\"dataframe\">\n",
       "  <thead>\n",
       "    <tr style=\"text-align: right;\">\n",
       "      <th></th>\n",
       "      <th>Feature ID</th>\n",
       "      <th>Sample ID</th>\n",
       "      <th>$\\Psi$</th>\n",
       "      <th>Iteration</th>\n",
       "      <th>% Noise</th>\n",
       "      <th>% 1s</th>\n",
       "    </tr>\n",
       "  </thead>\n",
       "  <tbody>\n",
       "    <tr>\n",
       "      <th>0</th>\n",
       "      <td>bimodal_01_noise0_iter0</td>\n",
       "      <td>0</td>\n",
       "      <td>0</td>\n",
       "      <td>0</td>\n",
       "      <td>0</td>\n",
       "      <td>1</td>\n",
       "    </tr>\n",
       "    <tr>\n",
       "      <th>1</th>\n",
       "      <td>bimodal_01_noise0_iter0</td>\n",
       "      <td>1</td>\n",
       "      <td>0</td>\n",
       "      <td>0</td>\n",
       "      <td>0</td>\n",
       "      <td>1</td>\n",
       "    </tr>\n",
       "    <tr>\n",
       "      <th>2</th>\n",
       "      <td>bimodal_01_noise0_iter0</td>\n",
       "      <td>2</td>\n",
       "      <td>0</td>\n",
       "      <td>0</td>\n",
       "      <td>0</td>\n",
       "      <td>1</td>\n",
       "    </tr>\n",
       "    <tr>\n",
       "      <th>3</th>\n",
       "      <td>bimodal_01_noise0_iter0</td>\n",
       "      <td>3</td>\n",
       "      <td>0</td>\n",
       "      <td>0</td>\n",
       "      <td>0</td>\n",
       "      <td>1</td>\n",
       "    </tr>\n",
       "    <tr>\n",
       "      <th>4</th>\n",
       "      <td>bimodal_01_noise0_iter0</td>\n",
       "      <td>4</td>\n",
       "      <td>0</td>\n",
       "      <td>0</td>\n",
       "      <td>0</td>\n",
       "      <td>1</td>\n",
       "    </tr>\n",
       "  </tbody>\n",
       "</table>\n",
       "</div>"
      ],
      "text/plain": [
       "                Feature ID  Sample ID  $\\Psi$  Iteration  % Noise  % 1s\n",
       "0  bimodal_01_noise0_iter0          0       0          0        0     1\n",
       "1  bimodal_01_noise0_iter0          1       0          0        0     1\n",
       "2  bimodal_01_noise0_iter0          2       0          0        0     1\n",
       "3  bimodal_01_noise0_iter0          3       0          0        0     1\n",
       "4  bimodal_01_noise0_iter0          4       0          0        0     1"
      ]
     },
     "execution_count": 90,
     "metadata": {},
     "output_type": "execute_result"
    }
   ],
   "source": [
    "tidy = maybe_bimodals_noisy.unstack().reset_index()\n",
    "six.print_(tidy.shape)\n",
    "tidy = tidy.rename(columns={'level_0':'Feature ID', 'level_1': \"Sample ID\", 0: \"$\\Psi$\"})\n",
    "tidy['Iteration'] = tidy['Feature ID'].str.extract('iter(\\d+)').astype(int)\n",
    "tidy['% Noise'] = tidy['Feature ID'].str.extract('noise(\\d+)').astype(int)\n",
    "tidy['% 1s'] = tidy['Feature ID'].str.extract('_(\\d+)_').astype(int)\n",
    "\n",
    "tidy.head()"
   ]
  },
  {
   "cell_type": "markdown",
   "metadata": {},
   "source": [
    "#### Get only a subset of the samples for plotting\n",
    "\n",
    "Use where:\n",
    "\n",
    "* %1s is 1, 25, 50, 75, 99\n",
    "* Noise percentage is 0, 25, 50, 75"
   ]
  },
  {
   "cell_type": "code",
   "execution_count": 91,
   "metadata": {
    "collapsed": false
   },
   "outputs": [
    {
     "data": {
      "text/plain": [
       "(150500, 6)"
      ]
     },
     "execution_count": 91,
     "metadata": {},
     "output_type": "execute_result"
    }
   ],
   "source": [
    "rows = tidy['% 1s'].isin([1, 25, 50, 75, 99]) & tidy['% Noise'].isin([0, 25, 50, 75])\n",
    "\n",
    "tidy_subset = tidy.loc[rows]\n",
    "tidy_subset.shape"
   ]
  },
  {
   "cell_type": "code",
   "execution_count": 92,
   "metadata": {
    "collapsed": false
   },
   "outputs": [
    {
     "data": {
      "image/png": "[encoded data removed]",
      "text/plain": [
       "<matplotlib.figure.Figure at 0x1186f6f98>"
      ]
     },
     "metadata": {},
     "output_type": "display_data"
    }
   ],
   "source": [
    "g = sns.factorplot(x='% 1s', y='$\\Psi$', col='% Noise', data=tidy_subset, size=3,\n",
    "                   kind='violin', palette='RdBu_r', bw=0.2, inner=None, scale='width')\n",
    "g.set(ylim=(0, 1), yticks=(0, 0.5, 1))\n",
    "g.savefig('{}/data.pdf'.format(folder))"
   ]
  },
  {
   "cell_type": "code",
   "execution_count": 93,
   "metadata": {
    "collapsed": true
   },
   "outputs": [],
   "source": [
    "import bonvoyage\n",
    "\n",
    "w = bonvoyage.Waypoints()\n",
    "waypoints = w.fit_transform(maybe_bimodals_noisy)"
   ]
  },
  {
   "cell_type": "code",
   "execution_count": 94,
   "metadata": {
    "collapsed": false,
    "scrolled": false
   },
   "outputs": [
    {
     "ename": "NameError",
     "evalue": "name 'pd' is not defined",
     "output_type": "error",
     "traceback": [
      "\u001b[0;31m---------------------------------------------------------------------------\u001b[0m",
      "\u001b[0;31mNameError\u001b[0m                                 Traceback (most recent call last)",
      "\u001b[0;32m<ipython-input-94-cd5708a6265e>\u001b[0m in \u001b[0;36m<module>\u001b[0;34m()\u001b[0m\n\u001b[1;32m      4\u001b[0m \u001b[0mbayesian\u001b[0m \u001b[0;34m=\u001b[0m \u001b[0manchor\u001b[0m\u001b[0;34m.\u001b[0m\u001b[0mBayesianModalities\u001b[0m\u001b[0;34m(\u001b[0m\u001b[0;34m)\u001b[0m\u001b[0;34m\u001b[0m\u001b[0m\n\u001b[1;32m      5\u001b[0m \u001b[0;34m\u001b[0m\u001b[0m\n\u001b[0;32m----> 6\u001b[0;31m \u001b[0mresult\u001b[0m \u001b[0;34m=\u001b[0m \u001b[0mevaluate_estimators\u001b[0m\u001b[0;34m(\u001b[0m\u001b[0mbayesian\u001b[0m\u001b[0;34m,\u001b[0m \u001b[0mmaybe_bimodals_noisy\u001b[0m\u001b[0;34m,\u001b[0m \u001b[0mwaypoints\u001b[0m\u001b[0;34m,\u001b[0m \u001b[0mfigure_prefix\u001b[0m\u001b[0;34m)\u001b[0m\u001b[0;34m\u001b[0m\u001b[0m\n\u001b[0m",
      "\u001b[0;32m/Users/olga/Dropbox/pnm_manuscript/supplementary_methods/evaluate_anchor.py\u001b[0m in \u001b[0;36mevaluate_estimators\u001b[0;34m(estimator, data, waypoints, figure_prefix)\u001b[0m\n\u001b[1;32m     49\u001b[0m \u001b[0;34m\u001b[0m\u001b[0m\n\u001b[1;32m     50\u001b[0m     \u001b[0;31m# Make categorical so they are plotted in the correct order\u001b[0m\u001b[0;34m\u001b[0m\u001b[0;34m\u001b[0m\u001b[0m\n\u001b[0;32m---> 51\u001b[0;31m     \u001b[0mpredicted_tidy\u001b[0m\u001b[0;34m[\u001b[0m\u001b[0;34m'Predicted Modality'\u001b[0m\u001b[0;34m]\u001b[0m \u001b[0;34m=\u001b[0m \u001b[0mpd\u001b[0m\u001b[0;34m.\u001b[0m\u001b[0mCategorical\u001b[0m\u001b[0;34m(\u001b[0m\u001b[0mpredicted_tidy\u001b[0m\u001b[0;34m[\u001b[0m\u001b[0;34m'Predicted Modality'\u001b[0m\u001b[0;34m]\u001b[0m\u001b[0;34m,\u001b[0m \u001b[0mcategories\u001b[0m\u001b[0;34m=\u001b[0m\u001b[0mMODALITY_ORDER\u001b[0m\u001b[0;34m,\u001b[0m \u001b[0mordered\u001b[0m\u001b[0;34m=\u001b[0m\u001b[0;32mTrue\u001b[0m\u001b[0;34m)\u001b[0m\u001b[0;34m\u001b[0m\u001b[0m\n\u001b[0m\u001b[1;32m     52\u001b[0m     \u001b[0mpredicted_tidy\u001b[0m\u001b[0;34m[\u001b[0m\u001b[0;34m'Modality'\u001b[0m\u001b[0;34m]\u001b[0m \u001b[0;34m=\u001b[0m \u001b[0mpd\u001b[0m\u001b[0;34m.\u001b[0m\u001b[0mCategorical\u001b[0m\u001b[0;34m(\u001b[0m\u001b[0mpredicted_tidy\u001b[0m\u001b[0;34m[\u001b[0m\u001b[0;34m'Modality'\u001b[0m\u001b[0;34m]\u001b[0m\u001b[0;34m,\u001b[0m \u001b[0mcategories\u001b[0m\u001b[0;34m=\u001b[0m\u001b[0mMODALITY_ORDER\u001b[0m\u001b[0;34m,\u001b[0m \u001b[0mordered\u001b[0m\u001b[0;34m=\u001b[0m\u001b[0;32mTrue\u001b[0m\u001b[0;34m)\u001b[0m\u001b[0;34m\u001b[0m\u001b[0m\n\u001b[1;32m     53\u001b[0m \u001b[0;34m\u001b[0m\u001b[0m\n",
      "\u001b[0;31mNameError\u001b[0m: name 'pd' is not defined"
     ]
    }
   ],
   "source": [
    "from evaluate_anchor import evaluate_estimators\n",
    "figure_prefix = '{}/maybe_bimodals_evaluated'.format(folder)\n",
    "\n",
    "bayesian = anchor.BayesianModalities()\n",
    "\n",
    "result = evaluate_estimators(bayesian, maybe_bimodals_noisy, waypoints, figure_prefix)"
   ]
  },
  {
   "cell_type": "code",
   "execution_count": null,
   "metadata": {
    "collapsed": false
   },
   "outputs": [],
   "source": [
    "bimodals_predicted = result.predicted.reset_index()\n",
    "bimodals_predicted = bimodals_predicted.rename(columns={'index': \"Feature ID\"})\n",
    "bimodals_predicted['Number of Ones'] = bimodals_predicted['Feature ID'].str.split('_').str[1].astype(int) + 1\n",
    "bimodals_predicted['Original Modality'] = bimodals_predicted['Feature ID'].str.split('_').str[0]\n",
    "bimodals_predicted['Noise'] = bimodals_predicted['Feature ID'].str.extract('noise(\\d+)').astype(int)\n",
    "bimodals_predicted['Predicted Bimodal'] = bimodals_predicted['Predicted Modality'] == bimodals_predicted['Original Modality']\n",
    "\n",
    "g = sns.factorplot(x='Number of Ones', y='Predicted Bimodal', \n",
    "               data=bimodals_predicted, scale=0.5, color='#262626',\n",
    "               aspect=1.5, ci=None)\n",
    "for ax in g.axes.flat:\n",
    "    ymin, ymax = ax.get_ylim()\n",
    "    ax.vlines([10, 90], ymin, ymax, linestyle='--')\n",
    "g.set(xticks=(0, 20, 40, 60, 80, 100), xticklabels=(0, 20, 40, 60, 80, 100), ylim=(ymin, ymax))\n",
    "g.savefig('{}_bimodals_percent_predicted_bimodal.pdf'.format(figure_prefix))\n",
    "\n"
   ]
  },
  {
   "cell_type": "code",
   "execution_count": null,
   "metadata": {
    "collapsed": false
   },
   "outputs": [],
   "source": [
    "g = sns.factorplot(x='Number of Ones', y='Predicted Bimodal', \n",
    "               data=bimodals_predicted, scale=0.5, dodge=False,\n",
    "               aspect=1.5, ci=None, hue='Noise', palette='GnBu_r', hue_order=np.arange(0, 101, 5)[::-1])\n",
    "g.set(xticks=(0, 20, 40, 60, 80, 100), xticklabels=(0, 20, 40, 60, 80, 100))\n",
    "g.savefig('{}_bimodals_percent_predicted_bimodal_with_noise.pdf'.format(figure_prefix))"
   ]
  },
  {
   "cell_type": "code",
   "execution_count": null,
   "metadata": {
    "collapsed": false
   },
   "outputs": [],
   "source": [
    "g = sns.factorplot(x='Noise', y='Predicted Bimodal', \n",
    "               data=bimodals_predicted, scale=0.5, dodge=False, legend=False,\n",
    "               aspect=1.5, ci=None, hue='Number of Ones', palette='RdBu', hue_order=np.arange(1, 100)[::-1])\n",
    "# g.set(xticks=(0, 20, 40, 60, 80, 100), xticklabels=(0, 20, 40, 60, 80, 100))\n",
    "g.savefig('{}_bimodals_percent_predicted_bimodal_with_noise.pdf'.format(figure_prefix))"
   ]
  },
  {
   "cell_type": "code",
   "execution_count": null,
   "metadata": {
    "collapsed": true
   },
   "outputs": [],
   "source": []
  }
 ],
 "metadata": {
  "kernelspec": {
   "display_name": "Python 3",
   "language": "python",
   "name": "python3"
  },
  "language_info": {
   "codemirror_mode": {
    "name": "ipython",
    "version": 3
   },
   "file_extension": ".py",
   "mimetype": "text/x-python",
   "name": "python",
   "nbconvert_exporter": "python",
   "pygments_lexer": "ipython3",
   "version": "3.5.1"
  }
 },
 "nbformat": 4,
 "nbformat_minor": 0
}
