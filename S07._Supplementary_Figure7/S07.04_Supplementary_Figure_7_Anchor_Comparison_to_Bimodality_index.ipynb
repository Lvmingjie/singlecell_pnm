{
 "cells": [
  {
   "cell_type": "code",
   "execution_count": 1,
   "metadata": {
    "collapsed": false
   },
   "outputs": [
    {
     "name": "stderr",
     "output_type": "stream",
     "text": [
      "/home/obotvinnik/anaconda/lib/python2.7/site-packages/matplotlib/__init__.py:810: UserWarning: Found matplotlib configuration in ~/.matplotlib/. To conform with the XDG base directory standard, this configuration location has been deprecated on Linux, and the new location is now /home/obotvinnik/.config/matplotlib/. Please move your configuration there to ensure that matplotlib will continue to find it in the future.\n",
      "  _get_xdg_config_dir())\n"
     ]
    }
   ],
   "source": [
    "import matplotlib.pyplot as plt\n",
    "import numpy as np\n",
    "import pandas as pd\n",
    "import seaborn as sns\n",
    "import six\n",
    "\n",
    "\n",
    "sns.set(style='ticks', context='talk', rc={'font.sans-serif':'Arial', 'pdf.fonttype': 42})\n",
    "\n",
    "\n",
    "import anchor\n",
    "\n",
    "\n",
    "from anchor import MODALITY_ORDER, MODALITY_PALETTE, MODALITY_TO_COLOR, MODALITY_TO_CMAP\n",
    "\n",
    "%load_ext autoreload\n",
    "%autoreload 2\n",
    "\n",
    "# Figures in the notebook\n",
    "%matplotlib inline\n",
    "\n",
    "# Set random seed\n",
    "np.random.seed(sum(map(ord, 'anchor')))\n",
    "\n",
    "\n",
    "\n",
    "# Define folder to save figures\n",
    "folder = 'pdf'\n",
    "!mkdir -p $folder\n"
   ]
  },
  {
   "cell_type": "code",
   "execution_count": 2,
   "metadata": {
    "collapsed": false
   },
   "outputs": [],
   "source": [
    "dataset_name_to_folder = {'Perfect Modalities': '../S05._Supplementary_Figure5',\n",
    "                          'Maybe Bimodals': '../S06._Supplementary_Figure6'}\n",
    "\n",
    "datatypes = 'data', 'metadata'\n",
    "datasets = {name: {datatype: pd.read_csv('{}/{}.csv'.format(folder, datatype), index_col=0) \n",
    "              for datatype in datatypes} for name, folder in dataset_name_to_folder.items()}\n"
   ]
  },
  {
   "cell_type": "code",
   "execution_count": 3,
   "metadata": {
    "collapsed": false
   },
   "outputs": [
    {
     "name": "stdout",
     "output_type": "stream",
     "text": [
      "mkdir: cannot create directory `pdf/perfect_modalities': File exists\n",
      "mkdir: cannot create directory `pdf/maybe_bimodals': File exists\n"
     ]
    }
   ],
   "source": [
    "def name_to_filename(name):\n",
    "    return name.lower().replace(' ', '_')\n",
    "\n",
    "for name in datasets:\n",
    "    dataset_folder = '{}/{}'.format(folder, name_to_filename(name))\n",
    "    ! mkdir $dataset_folder"
   ]
  },
  {
   "cell_type": "code",
   "execution_count": null,
   "metadata": {
    "collapsed": false
   },
   "outputs": [],
   "source": [
    "from sklearn.mixture import GMM\n",
    "\n",
    "for name, datas in datasets.items():\n",
    "    six.print_(name)\n",
    "    data = datas['data']\n",
    "    metadata = datas['metadata']\n",
    "    \n",
    "    dataset_folder = '{}/{}'.format(folder, name_to_filename(name))\n",
    "    gmm = GMM(n_components=2)\n",
    "    gmm.fit(data)\n",
    "    means = pd.DataFrame(gmm.means_, columns=data.columns)\n",
    "    means.head()\n",
    "\n",
    "    covars = pd.DataFrame(gmm.covars_, columns=data.columns)\n",
    "    covars.head()\n",
    "\n",
    "    weights = pd.Series(gmm.weights_)\n",
    "    weights.head()\n",
    "\n",
    "    proportions = weights.mean()\n",
    "    standardized_distance = np.abs(means.loc[0] - means.loc[1])/covars.mean()\n",
    "\n",
    "    bimodality_index = np.sqrt(proportions * (1-proportions)) * standardized_distance\n",
    "    bimodality_index.name = \"Bimodality Index\"\n",
    "    \n",
    "    # Add annotation of original modality and noise percentages\n",
    "    bimodality_index = metadata.join(bimodality_index)\n",
    "    \n",
    "    # Add column for when this method predicted bimodality\n",
    "    bimodality_index['Predicted Bimodal'] = bimodality_index['Bimodality Index'] > 10\n",
    "\n",
    "    if name == 'Perfect Modalities':\n",
    "        g = sns.factorplot(x='% Noise', \n",
    "                       y='Bimodality Index', \n",
    "                   hue='Modality', \n",
    "                   data=bimodality_index, kind='point', #col_wrap=2, \n",
    "                   hue_order=MODALITY_ORDER, size=3, scale=0.5, dodge=True,\n",
    "                   palette=MODALITY_PALETTE, aspect=1.25, legend=False)\n",
    "        g.set(title=name)\n",
    "        g.savefig('{}/bimodality_index_with_noise.pdf'.format(dataset_folder))\n",
    "\n",
    "        g = sns.factorplot(x='% Noise', y='Predicted Bimodal', data=bimodality_index, \n",
    "                       scale=0.5, size=3, aspect=1.5, hue='Modality', \n",
    "                       palette=MODALITY_PALETTE[:-1], hue_order=MODALITY_ORDER[:-1])\n",
    "        g.set(title=name)\n",
    "        for ax in g.axes.flat:\n",
    "            ax.set(ylim=(0, 1), ylabel='% Predicted Bimodal')\n",
    "            ax.set(yticklabels=[int(100*tick) for tick in ax.get_yticks()])\n",
    "\n",
    "        g.savefig('{}/bimodality_index_predicted_bimodal.pdf'.format(dataset_folder))\n",
    "    else:\n",
    "        g = sns.factorplot(x='% 1s', y='Predicted Bimodal', \n",
    "               data=bimodality_index, scale=0.5, color='#262626',\n",
    "               aspect=1.5, ci=None)\n",
    "        for ax in g.axes.flat:\n",
    "            ymin, ymax = ax.get_ylim()\n",
    "            ax.vlines([10, 90], ymin, ymax, linestyle='--')\n",
    "        g.set(xticks=(0, 20, 40, 60, 80, 100), xticklabels=(0, 20, 40, 60, 80, 100), ylim=(ymin, ymax))\n",
    "        g.savefig('{}_bimodals_percent_predicted_bimodal.pdf'.format(dataset_folder))\n",
    "\n",
    "        g = sns.factorplot(x='% 1s', y='Predicted Bimodal', \n",
    "                       data=bimodality_index, scale=0.5, dodge=False,\n",
    "                       aspect=1.5, ci=None, hue='% Noise', palette='GnBu_r', hue_order=np.arange(0, 101, 5)[::-1])\n",
    "        g.set(xticks=(0, 20, 40, 60, 80, 100), xticklabels=(0, 20, 40, 60, 80, 100))\n",
    "        # g.map_dataframe(sns.pointplot,  x='% 1s', y='Predicted Bimodal', scale=0.5, ci=None, dodge=False)\n",
    "        g.savefig('{}_bimodals_percent_predicted_bimodal_with_noise.pdf'.format(dataset_folder))\n",
    "\n",
    "        g = sns.factorplot(x='% Noise', y='Predicted Bimodal', \n",
    "                       data=bimodality_index, scale=0.5, dodge=False, legend=False,\n",
    "                       aspect=1.5, ci=None, color='#262626')\n",
    "        # g.set(xticks=(0, 20, 40, 60, 80, 100), xticklabels=(0, 20, 40, 60, 80, 100))\n",
    "        g.savefig('{}_bimodals_percent_predicted_bimodal_with_noise.pdf'.format(dataset_folder))\n",
    "\n",
    "        g = sns.factorplot(x='% Noise', y='Predicted Bimodal', \n",
    "                       data=bimodality_index, scale=0.5, dodge=False, legend=False,\n",
    "                       aspect=1.5, ci=None, hue='% 1s', palette='RdYlBu_r', hue_order=np.arange(1, 100)[::-1])\n",
    "        # g.set(xticks=(0, 20, 40, 60, 80, 100), xticklabels=(0, 20, 40, 60, 80, 100))\n",
    "        g.savefig('{}_bimodals_percent_predicted_bimodal_with_noise_per_percent_1.pdf'.format(dataset_folder))"
   ]
  },
  {
   "cell_type": "code",
   "execution_count": null,
   "metadata": {
    "collapsed": false
   },
   "outputs": [],
   "source": [
    "bimodality_index"
   ]
  },
  {
   "cell_type": "code",
   "execution_count": null,
   "metadata": {
    "collapsed": false
   },
   "outputs": [],
   "source": [
    "bimodality_index['Predicted Bimodal'] = bimodality_index['Bimodality Index'] > 10"
   ]
  },
  {
   "cell_type": "code",
   "execution_count": null,
   "metadata": {
    "collapsed": false
   },
   "outputs": [],
   "source": [
    "sns.distplot(bimodality_index['Bimodality Index'])"
   ]
  },
  {
   "cell_type": "code",
   "execution_count": null,
   "metadata": {
    "collapsed": false
   },
   "outputs": [],
   "source": [
    "g = sns.factorplot(x='% Noise', \n",
    "                   y='Bimodality Index', \n",
    "               hue='Original Modality', \n",
    "               data=bimodality_with_bayesian, kind='point', #col_wrap=2, \n",
    "               hue_order=MODALITY_ORDER, size=3, scale=0.5, dodge=True,\n",
    "               palette=MODALITY_PALETTE, aspect=1.25, legend=False)\n",
    "g.savefig('{}/bimodality_index_with_noise.pdf'.format(dataset_folder))\n",
    "# for ax in g.axes.flat:\n",
    "#     ax.set(xticks=np.arange(0, 110, 10))"
   ]
  },
  {
   "cell_type": "code",
   "execution_count": null,
   "metadata": {
    "collapsed": true
   },
   "outputs": [],
   "source": []
  }
 ],
 "metadata": {
  "kernelspec": {
   "display_name": "Python 2",
   "language": "python",
   "name": "python2"
  },
  "language_info": {
   "codemirror_mode": {
    "name": "ipython",
    "version": 2
   },
   "file_extension": ".py",
   "mimetype": "text/x-python",
   "name": "python",
   "nbconvert_exporter": "python",
   "pygments_lexer": "ipython2",
   "version": "2.7.10"
  }
 },
 "nbformat": 4,
 "nbformat_minor": 0
}
