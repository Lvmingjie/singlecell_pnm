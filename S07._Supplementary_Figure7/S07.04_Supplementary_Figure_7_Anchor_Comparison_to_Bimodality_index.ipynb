{
 "cells": [
  {
   "cell_type": "code",
   "execution_count": 1,
   "metadata": {
    "collapsed": false
   },
   "outputs": [
    {
     "name": "stderr",
     "output_type": "stream",
     "text": [
      "/home/obotvinnik/anaconda/lib/python2.7/site-packages/matplotlib/__init__.py:810: UserWarning: Found matplotlib configuration in ~/.matplotlib/. To conform with the XDG base directory standard, this configuration location has been deprecated on Linux, and the new location is now /home/obotvinnik/.config/matplotlib/. Please move your configuration there to ensure that matplotlib will continue to find it in the future.\n",
      "  _get_xdg_config_dir())\n"
     ]
    }
   ],
   "source": [
    "import matplotlib.pyplot as plt\n",
    "import numpy as np\n",
    "import pandas as pd\n",
    "import seaborn as sns\n",
    "import six\n",
    "\n",
    "\n",
    "sns.set(style='ticks', context='talk', rc={'font.sans-serif':'Arial', 'pdf.fonttype': 42})\n",
    "\n",
    "\n",
    "import anchor\n",
    "\n",
    "\n",
    "from anchor import MODALITY_ORDER, MODALITY_PALETTE, MODALITY_TO_COLOR, MODALITY_TO_CMAP\n",
    "\n",
    "%load_ext autoreload\n",
    "%autoreload 2\n",
    "\n",
    "# Figures in the notebook\n",
    "%matplotlib inline\n",
    "\n",
    "# Set random seed\n",
    "np.random.seed(sum(map(ord, 'anchor')))\n",
    "\n",
    "\n",
    "\n",
    "# Define folder to save figures\n",
    "folder = 'pdf'\n",
    "!mkdir -p $folder\n"
   ]
  },
  {
   "cell_type": "code",
   "execution_count": 48,
   "metadata": {
    "collapsed": false
   },
   "outputs": [],
   "source": [
    "dataset_name_to_folder = {'Perfect Modalities': '../S05._Supplementary_Figure5',\n",
    "                          'Maybe Bimodals': '../S06._Supplementary_Figure6'}\n",
    "\n",
    "datatypes = 'data', 'metadata'\n",
    "datasets = {name: {datatype: pd.read_csv('{}/{}.csv'.format(folder, datatype), index_col=0) \n",
    "              for datatype in datatypes} for name, folder in dataset_name_to_folder.items()}\n"
   ]
  },
  {
   "cell_type": "code",
   "execution_count": 49,
   "metadata": {
    "collapsed": false
   },
   "outputs": [
    {
     "name": "stdout",
     "output_type": "stream",
     "text": [
      "mkdir: cannot create directory `pdf/perfect_modalities': File exists\n",
      "mkdir: cannot create directory `pdf/maybe_bimodals': File exists\n"
     ]
    }
   ],
   "source": [
    "def name_to_filename(name):\n",
    "    return name.lower().replace(' ', '_')\n",
    "\n",
    "for name in datasets:\n",
    "    dataset_folder = '{}/{}'.format(folder, name_to_filename(name))\n",
    "    ! mkdir $dataset_folder"
   ]
  },
  {
   "cell_type": "code",
   "execution_count": 50,
   "metadata": {
    "collapsed": false
   },
   "outputs": [
    {
     "name": "stdout",
     "output_type": "stream",
     "text": [
      "Perfect Modalities\n"
     ]
    },
    {
     "ename": "ValueError",
     "evalue": "Could not interpret input 'Modality'",
     "output_type": "error",
     "traceback": [
      "\u001b[1;31m---------------------------------------------------------------------------\u001b[0m",
      "\u001b[1;31mValueError\u001b[0m                                Traceback (most recent call last)",
      "\u001b[1;32m<ipython-input-50-50ac5abe02ee>\u001b[0m in \u001b[0;36m<module>\u001b[1;34m()\u001b[0m\n\u001b[0;32m     35\u001b[0m                \u001b[0mdata\u001b[0m\u001b[1;33m=\u001b[0m\u001b[0mbimodality_with_bayesian\u001b[0m\u001b[1;33m,\u001b[0m \u001b[0mkind\u001b[0m\u001b[1;33m=\u001b[0m\u001b[1;34m'point'\u001b[0m\u001b[1;33m,\u001b[0m \u001b[1;31m#col_wrap=2,\u001b[0m\u001b[1;33m\u001b[0m\u001b[0m\n\u001b[0;32m     36\u001b[0m                \u001b[0mhue_order\u001b[0m\u001b[1;33m=\u001b[0m\u001b[0mMODALITY_ORDER\u001b[0m\u001b[1;33m,\u001b[0m \u001b[0msize\u001b[0m\u001b[1;33m=\u001b[0m\u001b[1;36m3\u001b[0m\u001b[1;33m,\u001b[0m \u001b[0mscale\u001b[0m\u001b[1;33m=\u001b[0m\u001b[1;36m0.5\u001b[0m\u001b[1;33m,\u001b[0m \u001b[0mdodge\u001b[0m\u001b[1;33m=\u001b[0m\u001b[0mTrue\u001b[0m\u001b[1;33m,\u001b[0m\u001b[1;33m\u001b[0m\u001b[0m\n\u001b[1;32m---> 37\u001b[1;33m                palette=MODALITY_PALETTE, aspect=1.25, legend=False)\n\u001b[0m\u001b[0;32m     38\u001b[0m     \u001b[0mg\u001b[0m\u001b[1;33m.\u001b[0m\u001b[0mset\u001b[0m\u001b[1;33m(\u001b[0m\u001b[0mtitle\u001b[0m\u001b[1;33m=\u001b[0m\u001b[0mname\u001b[0m\u001b[1;33m)\u001b[0m\u001b[1;33m\u001b[0m\u001b[0m\n\u001b[0;32m     39\u001b[0m     \u001b[0mg\u001b[0m\u001b[1;33m.\u001b[0m\u001b[0msavefig\u001b[0m\u001b[1;33m(\u001b[0m\u001b[1;34m'{}/bimodality_index_with_noise.pdf'\u001b[0m\u001b[1;33m.\u001b[0m\u001b[0mformat\u001b[0m\u001b[1;33m(\u001b[0m\u001b[0mdataset_folder\u001b[0m\u001b[1;33m)\u001b[0m\u001b[1;33m)\u001b[0m\u001b[1;33m\u001b[0m\u001b[0m\n",
      "\u001b[1;32m/home/obotvinnik/anaconda/lib/python2.7/site-packages/seaborn/categorical.pyc\u001b[0m in \u001b[0;36mfactorplot\u001b[1;34m(x, y, hue, data, row, col, col_wrap, estimator, ci, n_boot, units, order, hue_order, row_order, col_order, kind, size, aspect, orient, color, palette, legend, legend_out, sharex, sharey, margin_titles, facet_kws, **kwargs)\u001b[0m\n\u001b[0;32m   3326\u001b[0m     \u001b[1;31m# facets to ensure representation of all data in the final plot\u001b[0m\u001b[1;33m\u001b[0m\u001b[1;33m\u001b[0m\u001b[0m\n\u001b[0;32m   3327\u001b[0m     \u001b[0mp\u001b[0m \u001b[1;33m=\u001b[0m \u001b[0m_CategoricalPlotter\u001b[0m\u001b[1;33m(\u001b[0m\u001b[1;33m)\u001b[0m\u001b[1;33m\u001b[0m\u001b[0m\n\u001b[1;32m-> 3328\u001b[1;33m     \u001b[0mp\u001b[0m\u001b[1;33m.\u001b[0m\u001b[0mestablish_variables\u001b[0m\u001b[1;33m(\u001b[0m\u001b[0mx_\u001b[0m\u001b[1;33m,\u001b[0m \u001b[0my_\u001b[0m\u001b[1;33m,\u001b[0m \u001b[0mhue\u001b[0m\u001b[1;33m,\u001b[0m \u001b[0mdata\u001b[0m\u001b[1;33m,\u001b[0m \u001b[0morient\u001b[0m\u001b[1;33m,\u001b[0m \u001b[0morder\u001b[0m\u001b[1;33m,\u001b[0m \u001b[0mhue_order\u001b[0m\u001b[1;33m)\u001b[0m\u001b[1;33m\u001b[0m\u001b[0m\n\u001b[0m\u001b[0;32m   3329\u001b[0m     \u001b[0morder\u001b[0m \u001b[1;33m=\u001b[0m \u001b[0mp\u001b[0m\u001b[1;33m.\u001b[0m\u001b[0mgroup_names\u001b[0m\u001b[1;33m\u001b[0m\u001b[0m\n\u001b[0;32m   3330\u001b[0m     \u001b[0mhue_order\u001b[0m \u001b[1;33m=\u001b[0m \u001b[0mp\u001b[0m\u001b[1;33m.\u001b[0m\u001b[0mhue_names\u001b[0m\u001b[1;33m\u001b[0m\u001b[0m\n",
      "\u001b[1;32m/home/obotvinnik/anaconda/lib/python2.7/site-packages/seaborn/categorical.pyc\u001b[0m in \u001b[0;36mestablish_variables\u001b[1;34m(self, x, y, hue, data, orient, order, hue_order, units)\u001b[0m\n\u001b[0;32m    145\u001b[0m                 \u001b[1;32mif\u001b[0m \u001b[0misinstance\u001b[0m\u001b[1;33m(\u001b[0m\u001b[0minput\u001b[0m\u001b[1;33m,\u001b[0m \u001b[0mstring_types\u001b[0m\u001b[1;33m)\u001b[0m\u001b[1;33m:\u001b[0m\u001b[1;33m\u001b[0m\u001b[0m\n\u001b[0;32m    146\u001b[0m                     \u001b[0merr\u001b[0m \u001b[1;33m=\u001b[0m \u001b[1;34m\"Could not interpret input '{}'\"\u001b[0m\u001b[1;33m.\u001b[0m\u001b[0mformat\u001b[0m\u001b[1;33m(\u001b[0m\u001b[0minput\u001b[0m\u001b[1;33m)\u001b[0m\u001b[1;33m\u001b[0m\u001b[0m\n\u001b[1;32m--> 147\u001b[1;33m                     \u001b[1;32mraise\u001b[0m \u001b[0mValueError\u001b[0m\u001b[1;33m(\u001b[0m\u001b[0merr\u001b[0m\u001b[1;33m)\u001b[0m\u001b[1;33m\u001b[0m\u001b[0m\n\u001b[0m\u001b[0;32m    148\u001b[0m \u001b[1;33m\u001b[0m\u001b[0m\n\u001b[0;32m    149\u001b[0m             \u001b[1;31m# Figure out the plotting orientation\u001b[0m\u001b[1;33m\u001b[0m\u001b[1;33m\u001b[0m\u001b[0m\n",
      "\u001b[1;31mValueError\u001b[0m: Could not interpret input 'Modality'"
     ]
    }
   ],
   "source": [
    "from sklearn.mixture import GMM\n",
    "\n",
    "for name, datas in datasets.items():\n",
    "    six.print_(name)\n",
    "    data = datas['data']\n",
    "    metadata = datas['metadata']\n",
    "    \n",
    "    dataset_folder = '{}/{}'.format(folder, name_to_filename(name))\n",
    "    gmm = GMM(n_components=2)\n",
    "    gmm.fit(data)\n",
    "    means = pd.DataFrame(gmm.means_, columns=data.columns)\n",
    "    means.head()\n",
    "\n",
    "    covars = pd.DataFrame(gmm.covars_, columns=data.columns)\n",
    "    covars.head()\n",
    "\n",
    "    weights = pd.Series(gmm.weights_)\n",
    "    weights.head()\n",
    "\n",
    "    proportions = weights.mean()\n",
    "    standardized_distance = np.abs(means.loc[0] - means.loc[1])/covars.mean()\n",
    "\n",
    "    bimodality_index = np.sqrt(proportions * (1-proportions)) * standardized_distance\n",
    "    bimodality_index.name = \"Bimodality Index\"\n",
    "    \n",
    "    # Add annotation of original modality and noise percentages\n",
    "    bimodality_index = metadata.join(bimodality_index)\n",
    "    \n",
    "    # Add column for when this method predicted bimodality\n",
    "    bimodality_index['Predicted Bimodal'] = bimodality_index['Bimodality Index'] > 10\n",
    "    \n",
    "    g = sns.factorplot(x='% Noise', \n",
    "                   y='Bimodality Index', \n",
    "               hue='Modality', \n",
    "               data=bimodality_with_bayesian, kind='point', #col_wrap=2, \n",
    "               hue_order=MODALITY_ORDER, size=3, scale=0.5, dodge=True,\n",
    "               palette=MODALITY_PALETTE, aspect=1.25, legend=False)\n",
    "    g.set(title=name)\n",
    "    g.savefig('{}/bimodality_index_with_noise.pdf'.format(dataset_folder))\n",
    "    \n",
    "    g = sns.factorplot(x='% Noise', y='Predicted Bimodal', data=bimodality_index, \n",
    "                   scale=0.5, size=3, aspect=1.5, hue='Modality', \n",
    "                   palette=MODALITY_PALETTE[:-1], hue_order=MODALITY_ORDER[:-1])\n",
    "    g.set(title=name)\n",
    "    for ax in g.axes.flat:\n",
    "        ax.set(ylim=(0, 1), ylabel='% Predicted Bimodal')\n",
    "        ax.set(yticklabels=[int(100*tick) for tick in ax.get_yticks()])\n",
    "\n",
    "    g.savefig('{}/bimodality_index_predicted_bimodal.pdf'.format(dataset_folder))"
   ]
  },
  {
   "cell_type": "code",
   "execution_count": 44,
   "metadata": {
    "collapsed": false
   },
   "outputs": [],
   "source": [
    "bimodality_index['Predicted Bimodal'] = bimodality_index['Bimodality Index'] > 10"
   ]
  },
  {
   "cell_type": "code",
   "execution_count": 42,
   "metadata": {
    "collapsed": false
   },
   "outputs": [
    {
     "data": {
      "text/plain": [
       "<matplotlib.axes._subplots.AxesSubplot at 0x2b1defeda990>"
      ]
     },
     "execution_count": 42,
     "metadata": {},
     "output_type": "execute_result"
    },
    {
     "data": {
      "image/png": "[encoded data removed]",
      "text/plain": [
       "<matplotlib.figure.Figure at 0x2b1ded3e9650>"
      ]
     },
     "metadata": {},
     "output_type": "display_data"
    }
   ],
   "source": [
    "sns.distplot(bimodality_index['Bimodality Index'])"
   ]
  },
  {
   "cell_type": "code",
   "execution_count": 25,
   "metadata": {
    "collapsed": false
   },
   "outputs": [
    {
     "data": {
      "image/png": "[encoded data removed]",
      "text/plain": [
       "<matplotlib.figure.Figure at 0x2b1dedf4aa90>"
      ]
     },
     "metadata": {},
     "output_type": "display_data"
    }
   ],
   "source": [
    "g = sns.factorplot(x='% Noise', \n",
    "                   y='Bimodality Index', \n",
    "               hue='Original Modality', \n",
    "               data=bimodality_with_bayesian, kind='point', #col_wrap=2, \n",
    "               hue_order=MODALITY_ORDER, size=3, scale=0.5, dodge=True,\n",
    "               palette=MODALITY_PALETTE, aspect=1.25, legend=False)\n",
    "g.savefig('{}/bimodality_index_with_noise.pdf'.format(dataset_folder))\n",
    "# for ax in g.axes.flat:\n",
    "#     ax.set(xticks=np.arange(0, 110, 10))"
   ]
  },
  {
   "cell_type": "code",
   "execution_count": null,
   "metadata": {
    "collapsed": true
   },
   "outputs": [],
   "source": []
  }
 ],
 "metadata": {
  "kernelspec": {
   "display_name": "Python 2",
   "language": "python",
   "name": "python2"
  },
  "language_info": {
   "codemirror_mode": {
    "name": "ipython",
    "version": 2
   },
   "file_extension": ".py",
   "mimetype": "text/x-python",
   "name": "python",
   "nbconvert_exporter": "python",
   "pygments_lexer": "ipython2",
   "version": "2.7.11"
  }
 },
 "nbformat": 4,
 "nbformat_minor": 0
}
