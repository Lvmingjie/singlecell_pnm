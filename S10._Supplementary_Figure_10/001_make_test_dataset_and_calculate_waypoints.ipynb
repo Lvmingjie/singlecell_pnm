{
 "cells": [
  {
   "cell_type": "code",
   "execution_count": 1,
   "metadata": {
    "collapsed": false
   },
   "outputs": [
    {
     "name": "stderr",
     "output_type": "stream",
     "text": [
      "/home/obotvinnik/anaconda/lib/python2.7/site-packages/sklearn/cross_validation.py:44: DeprecationWarning: This module was deprecated in version 0.18 in favor of the model_selection module into which all the refactored classes and functions are moved. Also note that the interface of the new CV iterators are different from that of this module. This module will be removed in 0.20.\n",
      "  \"This module will be removed in 0.20.\", DeprecationWarning)\n"
     ]
    }
   ],
   "source": [
    "import matplotlib.pyplot as plt\n",
    "import numpy as np\n",
    "import pandas as pd\n",
    "import seaborn as sns\n",
    "import six\n",
    "\n",
    "sns.set(style='ticks', context='paper', rc={'font.sans-serif':'Arial', 'pdf.fonttype': 42})\n",
    "\n",
    "\n",
    "import bonvoyage\n",
    "\n",
    "%load_ext autoreload\n",
    "%autoreload 2\n",
    "\n",
    "# Figures in the notebook\n",
    "%matplotlib inline\n",
    "\n",
    "# Set random seed\n",
    "np.random.seed(sum(map(ord, 'bonvoyage')))\n",
    "\n",
    "\n",
    "# Define folder to save figures\n",
    "folder = 'figures/anchor/sfig_10'\n",
    "!mkdir -p $folder\n"
   ]
  },
  {
   "cell_type": "markdown",
   "metadata": {},
   "source": [
    "## Show seed data dataset"
   ]
  },
  {
   "cell_type": "code",
   "execution_count": 2,
   "metadata": {
    "collapsed": true
   },
   "outputs": [],
   "source": [
    "from anchor.infotheory import bin_range_strings"
   ]
  },
  {
   "cell_type": "code",
   "execution_count": 3,
   "metadata": {
    "collapsed": false
   },
   "outputs": [
    {
     "data": {
      "text/plain": [
       "['0.0-0.1',\n",
       " '0.1-0.2',\n",
       " '0.2-0.3',\n",
       " '0.3-0.4',\n",
       " '0.4-0.5',\n",
       " '0.5-0.6',\n",
       " '0.6-0.7',\n",
       " '0.7-0.8',\n",
       " '0.8-0.9',\n",
       " '0.9-1.0']"
      ]
     },
     "execution_count": 3,
     "metadata": {},
     "output_type": "execute_result"
    }
   ],
   "source": [
    "bin_names = bin_range_strings(bonvoyage.Waypoints.bins)\n",
    "bin_names"
   ]
  },
  {
   "cell_type": "code",
   "execution_count": 4,
   "metadata": {
    "collapsed": false
   },
   "outputs": [
    {
     "data": {
      "image/png": "[encoded data removed]",
      "text/plain": [
       "<matplotlib.figure.Figure at 0x2ab34ba05fd0>"
      ]
     },
     "metadata": {},
     "output_type": "display_data"
    }
   ],
   "source": [
    "seed_data = bonvoyage.Waypoints.seed_data\n",
    "\n",
    "fig, axes = plt.subplots(figsize=(3, 2), nrows=3, sharex=True, sharey=True)\n",
    "\n",
    "width = 1\n",
    "\n",
    "for (i, row), ax in zip(seed_data.iterrows(), axes):\n",
    "    ax.bar(row.index, row.values, width=width, color='grey')\n",
    "sns.despine()\n",
    "xticks = np.arange(row.shape[0]+1)\n",
    "ax.set(yticks=(0, 1), xticks=xticks, xticklabels=xticks/10.)\n",
    "fig.tight_layout()\n",
    "fig.savefig('{}/bonvoyage_seed_data.pdf'.format(folder))"
   ]
  },
  {
   "cell_type": "markdown",
   "metadata": {},
   "source": [
    "## Make \"Maybe Everything\" test dataset"
   ]
  },
  {
   "cell_type": "code",
   "execution_count": 5,
   "metadata": {
    "collapsed": false
   },
   "outputs": [
    {
     "name": "stdout",
     "output_type": "stream",
     "text": [
      "(100, 300)\n"
     ]
    },
    {
     "data": {
      "text/html": [
       "<div>\n",
       "<table border=\"1\" class=\"dataframe\">\n",
       "  <thead>\n",
       "    <tr style=\"text-align: right;\">\n",
       "      <th></th>\n",
       "      <th>perfect_middle</th>\n",
       "      <th>middle0_00</th>\n",
       "      <th>middle0_01</th>\n",
       "      <th>middle0_02</th>\n",
       "      <th>middle0_03</th>\n",
       "      <th>middle0_04</th>\n",
       "      <th>middle0_05</th>\n",
       "      <th>middle0_06</th>\n",
       "      <th>middle0_07</th>\n",
       "      <th>middle0_08</th>\n",
       "      <th>...</th>\n",
       "      <th>bimodal_91</th>\n",
       "      <th>bimodal_92</th>\n",
       "      <th>bimodal_93</th>\n",
       "      <th>bimodal_94</th>\n",
       "      <th>bimodal_95</th>\n",
       "      <th>bimodal_96</th>\n",
       "      <th>bimodal_97</th>\n",
       "      <th>bimodal_98</th>\n",
       "      <th>perfect_included</th>\n",
       "      <th>perfect_excluded</th>\n",
       "    </tr>\n",
       "  </thead>\n",
       "  <tbody>\n",
       "    <tr>\n",
       "      <th>0</th>\n",
       "      <td>0.5</td>\n",
       "      <td>0.0</td>\n",
       "      <td>0.0</td>\n",
       "      <td>0.0</td>\n",
       "      <td>0.0</td>\n",
       "      <td>0.0</td>\n",
       "      <td>0.0</td>\n",
       "      <td>0.0</td>\n",
       "      <td>0.0</td>\n",
       "      <td>0.0</td>\n",
       "      <td>...</td>\n",
       "      <td>0.0</td>\n",
       "      <td>0.0</td>\n",
       "      <td>0.0</td>\n",
       "      <td>0.0</td>\n",
       "      <td>0.0</td>\n",
       "      <td>0.0</td>\n",
       "      <td>0.0</td>\n",
       "      <td>0.0</td>\n",
       "      <td>1.0</td>\n",
       "      <td>0.0</td>\n",
       "    </tr>\n",
       "    <tr>\n",
       "      <th>1</th>\n",
       "      <td>0.5</td>\n",
       "      <td>0.5</td>\n",
       "      <td>0.0</td>\n",
       "      <td>0.0</td>\n",
       "      <td>0.0</td>\n",
       "      <td>0.0</td>\n",
       "      <td>0.0</td>\n",
       "      <td>0.0</td>\n",
       "      <td>0.0</td>\n",
       "      <td>0.0</td>\n",
       "      <td>...</td>\n",
       "      <td>0.0</td>\n",
       "      <td>0.0</td>\n",
       "      <td>0.0</td>\n",
       "      <td>0.0</td>\n",
       "      <td>0.0</td>\n",
       "      <td>0.0</td>\n",
       "      <td>0.0</td>\n",
       "      <td>0.0</td>\n",
       "      <td>1.0</td>\n",
       "      <td>0.0</td>\n",
       "    </tr>\n",
       "    <tr>\n",
       "      <th>2</th>\n",
       "      <td>0.5</td>\n",
       "      <td>0.5</td>\n",
       "      <td>0.5</td>\n",
       "      <td>0.0</td>\n",
       "      <td>0.0</td>\n",
       "      <td>0.0</td>\n",
       "      <td>0.0</td>\n",
       "      <td>0.0</td>\n",
       "      <td>0.0</td>\n",
       "      <td>0.0</td>\n",
       "      <td>...</td>\n",
       "      <td>0.0</td>\n",
       "      <td>0.0</td>\n",
       "      <td>0.0</td>\n",
       "      <td>0.0</td>\n",
       "      <td>0.0</td>\n",
       "      <td>0.0</td>\n",
       "      <td>0.0</td>\n",
       "      <td>0.0</td>\n",
       "      <td>1.0</td>\n",
       "      <td>0.0</td>\n",
       "    </tr>\n",
       "    <tr>\n",
       "      <th>3</th>\n",
       "      <td>0.5</td>\n",
       "      <td>0.5</td>\n",
       "      <td>0.5</td>\n",
       "      <td>0.5</td>\n",
       "      <td>0.0</td>\n",
       "      <td>0.0</td>\n",
       "      <td>0.0</td>\n",
       "      <td>0.0</td>\n",
       "      <td>0.0</td>\n",
       "      <td>0.0</td>\n",
       "      <td>...</td>\n",
       "      <td>0.0</td>\n",
       "      <td>0.0</td>\n",
       "      <td>0.0</td>\n",
       "      <td>0.0</td>\n",
       "      <td>0.0</td>\n",
       "      <td>0.0</td>\n",
       "      <td>0.0</td>\n",
       "      <td>0.0</td>\n",
       "      <td>1.0</td>\n",
       "      <td>0.0</td>\n",
       "    </tr>\n",
       "    <tr>\n",
       "      <th>4</th>\n",
       "      <td>0.5</td>\n",
       "      <td>0.5</td>\n",
       "      <td>0.5</td>\n",
       "      <td>0.5</td>\n",
       "      <td>0.5</td>\n",
       "      <td>0.0</td>\n",
       "      <td>0.0</td>\n",
       "      <td>0.0</td>\n",
       "      <td>0.0</td>\n",
       "      <td>0.0</td>\n",
       "      <td>...</td>\n",
       "      <td>0.0</td>\n",
       "      <td>0.0</td>\n",
       "      <td>0.0</td>\n",
       "      <td>0.0</td>\n",
       "      <td>0.0</td>\n",
       "      <td>0.0</td>\n",
       "      <td>0.0</td>\n",
       "      <td>0.0</td>\n",
       "      <td>1.0</td>\n",
       "      <td>0.0</td>\n",
       "    </tr>\n",
       "  </tbody>\n",
       "</table>\n",
       "<p>5 rows × 300 columns</p>\n",
       "</div>"
      ],
      "text/plain": [
       "   perfect_middle  middle0_00  middle0_01  middle0_02  middle0_03  middle0_04  \\\n",
       "0             0.5         0.0         0.0         0.0         0.0         0.0   \n",
       "1             0.5         0.5         0.0         0.0         0.0         0.0   \n",
       "2             0.5         0.5         0.5         0.0         0.0         0.0   \n",
       "3             0.5         0.5         0.5         0.5         0.0         0.0   \n",
       "4             0.5         0.5         0.5         0.5         0.5         0.0   \n",
       "\n",
       "   middle0_05  middle0_06  middle0_07  middle0_08        ...         \\\n",
       "0         0.0         0.0         0.0         0.0        ...          \n",
       "1         0.0         0.0         0.0         0.0        ...          \n",
       "2         0.0         0.0         0.0         0.0        ...          \n",
       "3         0.0         0.0         0.0         0.0        ...          \n",
       "4         0.0         0.0         0.0         0.0        ...          \n",
       "\n",
       "   bimodal_91  bimodal_92  bimodal_93  bimodal_94  bimodal_95  bimodal_96  \\\n",
       "0         0.0         0.0         0.0         0.0         0.0         0.0   \n",
       "1         0.0         0.0         0.0         0.0         0.0         0.0   \n",
       "2         0.0         0.0         0.0         0.0         0.0         0.0   \n",
       "3         0.0         0.0         0.0         0.0         0.0         0.0   \n",
       "4         0.0         0.0         0.0         0.0         0.0         0.0   \n",
       "\n",
       "   bimodal_97  bimodal_98  perfect_included  perfect_excluded  \n",
       "0         0.0         0.0               1.0               0.0  \n",
       "1         0.0         0.0               1.0               0.0  \n",
       "2         0.0         0.0               1.0               0.0  \n",
       "3         0.0         0.0               1.0               0.0  \n",
       "4         0.0         0.0               1.0               0.0  \n",
       "\n",
       "[5 rows x 300 columns]"
      ]
     },
     "execution_count": 5,
     "metadata": {},
     "output_type": "execute_result"
    }
   ],
   "source": [
    "size = 100\n",
    "\n",
    "perfectly1 = np.ones(size).reshape(size, 1)\n",
    "perfectly0 = np.zeros(size).reshape(size, 1)\n",
    "perfectly_middle = 0.5*np.ones(size).reshape(size, 1)\n",
    "maybe_middles_0 = np.vstack([np.concatenate([np.zeros(i), np.ones(size-i)*0.5]) for i in range(1, size)]).T\n",
    "maybe_middles_1 = np.vstack([np.concatenate([np.ones(i), np.ones(size-i)*0.5]) for i in range(1, size)]).T\n",
    "maybe_bimodals = np.vstack([np.concatenate([np.zeros(i), np.ones(size-i)]) for i in range(1, size)]).T\n",
    "\n",
    "columns = ['perfect_middle'.format(str(i).zfill(2)) for i in range(perfectly_middle.shape[1])] \\\n",
    "    + ['middle0_{}'.format(str(i).zfill(2)) for i in range(maybe_middles_0.shape[1])] \\\n",
    "    + ['middle1_{}'.format(str(i).zfill(2)) for i in range(maybe_middles_1.shape[1])] \\\n",
    "    + ['bimodal_{}'.format(str(i).zfill(2)) for i in range(maybe_bimodals.shape[1])] \\\n",
    "    + ['perfect_included', 'perfect_excluded']\n",
    "\n",
    "data = np.hstack([perfectly_middle, maybe_middles_0, maybe_middles_1, maybe_bimodals, perfectly1, perfectly0])\n",
    "maybe_everything = pd.DataFrame(data, columns=columns)\n",
    "six.print_(maybe_everything.shape)\n",
    "maybe_everything.head()"
   ]
  },
  {
   "cell_type": "code",
   "execution_count": 6,
   "metadata": {
    "collapsed": true
   },
   "outputs": [],
   "source": [
    "from anchor.simulate import add_noise"
   ]
  },
  {
   "cell_type": "code",
   "execution_count": 19,
   "metadata": {
    "collapsed": false
   },
   "outputs": [
    {
     "name": "stdout",
     "output_type": "stream",
     "text": [
      "(100, 57300)\n"
     ]
    },
    {
     "data": {
      "text/html": [
       "<div>\n",
       "<table border=\"1\" class=\"dataframe\">\n",
       "  <thead>\n",
       "    <tr style=\"text-align: right;\">\n",
       "      <th></th>\n",
       "      <th>perfect_middle_noise0_iter0</th>\n",
       "      <th>middle0_00_noise0_iter0</th>\n",
       "      <th>middle0_01_noise0_iter0</th>\n",
       "      <th>middle0_02_noise0_iter0</th>\n",
       "      <th>middle0_03_noise0_iter0</th>\n",
       "      <th>middle0_04_noise0_iter0</th>\n",
       "      <th>middle0_05_noise0_iter0</th>\n",
       "      <th>middle0_06_noise0_iter0</th>\n",
       "      <th>middle0_07_noise0_iter0</th>\n",
       "      <th>middle0_08_noise0_iter0</th>\n",
       "      <th>...</th>\n",
       "      <th>bimodal_91_noise95_iter9</th>\n",
       "      <th>bimodal_92_noise95_iter9</th>\n",
       "      <th>bimodal_93_noise95_iter9</th>\n",
       "      <th>bimodal_94_noise95_iter9</th>\n",
       "      <th>bimodal_95_noise95_iter9</th>\n",
       "      <th>bimodal_96_noise95_iter9</th>\n",
       "      <th>bimodal_97_noise95_iter9</th>\n",
       "      <th>bimodal_98_noise95_iter9</th>\n",
       "      <th>perfect_included_noise95_iter9</th>\n",
       "      <th>perfect_excluded_noise95_iter9</th>\n",
       "    </tr>\n",
       "  </thead>\n",
       "  <tbody>\n",
       "    <tr>\n",
       "      <th>0</th>\n",
       "      <td>0.5</td>\n",
       "      <td>0.0</td>\n",
       "      <td>0.0</td>\n",
       "      <td>0.0</td>\n",
       "      <td>0.0</td>\n",
       "      <td>0.0</td>\n",
       "      <td>0.0</td>\n",
       "      <td>0.0</td>\n",
       "      <td>0.0</td>\n",
       "      <td>0.0</td>\n",
       "      <td>...</td>\n",
       "      <td>0.589527</td>\n",
       "      <td>0.774932</td>\n",
       "      <td>0.499504</td>\n",
       "      <td>0.150024</td>\n",
       "      <td>0.380721</td>\n",
       "      <td>0.810271</td>\n",
       "      <td>0.485884</td>\n",
       "      <td>0.549952</td>\n",
       "      <td>0.808396</td>\n",
       "      <td>0.996400</td>\n",
       "    </tr>\n",
       "    <tr>\n",
       "      <th>1</th>\n",
       "      <td>0.5</td>\n",
       "      <td>0.5</td>\n",
       "      <td>0.0</td>\n",
       "      <td>0.0</td>\n",
       "      <td>0.0</td>\n",
       "      <td>0.0</td>\n",
       "      <td>0.0</td>\n",
       "      <td>0.0</td>\n",
       "      <td>0.0</td>\n",
       "      <td>0.0</td>\n",
       "      <td>...</td>\n",
       "      <td>0.341090</td>\n",
       "      <td>0.505881</td>\n",
       "      <td>0.186781</td>\n",
       "      <td>0.778117</td>\n",
       "      <td>0.172168</td>\n",
       "      <td>0.683624</td>\n",
       "      <td>0.083816</td>\n",
       "      <td>0.243291</td>\n",
       "      <td>0.449720</td>\n",
       "      <td>0.731521</td>\n",
       "    </tr>\n",
       "    <tr>\n",
       "      <th>2</th>\n",
       "      <td>0.5</td>\n",
       "      <td>0.5</td>\n",
       "      <td>0.5</td>\n",
       "      <td>0.0</td>\n",
       "      <td>0.0</td>\n",
       "      <td>0.0</td>\n",
       "      <td>0.0</td>\n",
       "      <td>0.0</td>\n",
       "      <td>0.0</td>\n",
       "      <td>0.0</td>\n",
       "      <td>...</td>\n",
       "      <td>0.000000</td>\n",
       "      <td>0.000000</td>\n",
       "      <td>0.000000</td>\n",
       "      <td>0.000000</td>\n",
       "      <td>0.000000</td>\n",
       "      <td>0.000000</td>\n",
       "      <td>0.000000</td>\n",
       "      <td>0.000000</td>\n",
       "      <td>1.000000</td>\n",
       "      <td>0.000000</td>\n",
       "    </tr>\n",
       "    <tr>\n",
       "      <th>3</th>\n",
       "      <td>0.5</td>\n",
       "      <td>0.5</td>\n",
       "      <td>0.5</td>\n",
       "      <td>0.5</td>\n",
       "      <td>0.0</td>\n",
       "      <td>0.0</td>\n",
       "      <td>0.0</td>\n",
       "      <td>0.0</td>\n",
       "      <td>0.0</td>\n",
       "      <td>0.0</td>\n",
       "      <td>...</td>\n",
       "      <td>0.826827</td>\n",
       "      <td>0.361595</td>\n",
       "      <td>0.797055</td>\n",
       "      <td>0.316820</td>\n",
       "      <td>0.650798</td>\n",
       "      <td>0.158716</td>\n",
       "      <td>0.320548</td>\n",
       "      <td>0.981323</td>\n",
       "      <td>0.985146</td>\n",
       "      <td>0.658254</td>\n",
       "    </tr>\n",
       "    <tr>\n",
       "      <th>4</th>\n",
       "      <td>0.5</td>\n",
       "      <td>0.5</td>\n",
       "      <td>0.5</td>\n",
       "      <td>0.5</td>\n",
       "      <td>0.5</td>\n",
       "      <td>0.0</td>\n",
       "      <td>0.0</td>\n",
       "      <td>0.0</td>\n",
       "      <td>0.0</td>\n",
       "      <td>0.0</td>\n",
       "      <td>...</td>\n",
       "      <td>0.414055</td>\n",
       "      <td>0.679284</td>\n",
       "      <td>0.123933</td>\n",
       "      <td>0.273319</td>\n",
       "      <td>0.668118</td>\n",
       "      <td>0.262305</td>\n",
       "      <td>0.260800</td>\n",
       "      <td>0.027293</td>\n",
       "      <td>0.845871</td>\n",
       "      <td>0.309283</td>\n",
       "    </tr>\n",
       "  </tbody>\n",
       "</table>\n",
       "<p>5 rows × 57300 columns</p>\n",
       "</div>"
      ],
      "text/plain": [
       "   perfect_middle_noise0_iter0  middle0_00_noise0_iter0  \\\n",
       "0                          0.5                      0.0   \n",
       "1                          0.5                      0.5   \n",
       "2                          0.5                      0.5   \n",
       "3                          0.5                      0.5   \n",
       "4                          0.5                      0.5   \n",
       "\n",
       "   middle0_01_noise0_iter0  middle0_02_noise0_iter0  middle0_03_noise0_iter0  \\\n",
       "0                      0.0                      0.0                      0.0   \n",
       "1                      0.0                      0.0                      0.0   \n",
       "2                      0.5                      0.0                      0.0   \n",
       "3                      0.5                      0.5                      0.0   \n",
       "4                      0.5                      0.5                      0.5   \n",
       "\n",
       "   middle0_04_noise0_iter0  middle0_05_noise0_iter0  middle0_06_noise0_iter0  \\\n",
       "0                      0.0                      0.0                      0.0   \n",
       "1                      0.0                      0.0                      0.0   \n",
       "2                      0.0                      0.0                      0.0   \n",
       "3                      0.0                      0.0                      0.0   \n",
       "4                      0.0                      0.0                      0.0   \n",
       "\n",
       "   middle0_07_noise0_iter0  middle0_08_noise0_iter0  \\\n",
       "0                      0.0                      0.0   \n",
       "1                      0.0                      0.0   \n",
       "2                      0.0                      0.0   \n",
       "3                      0.0                      0.0   \n",
       "4                      0.0                      0.0   \n",
       "\n",
       "                ...                bimodal_91_noise95_iter9  \\\n",
       "0               ...                                0.589527   \n",
       "1               ...                                0.341090   \n",
       "2               ...                                0.000000   \n",
       "3               ...                                0.826827   \n",
       "4               ...                                0.414055   \n",
       "\n",
       "   bimodal_92_noise95_iter9  bimodal_93_noise95_iter9  \\\n",
       "0                  0.774932                  0.499504   \n",
       "1                  0.505881                  0.186781   \n",
       "2                  0.000000                  0.000000   \n",
       "3                  0.361595                  0.797055   \n",
       "4                  0.679284                  0.123933   \n",
       "\n",
       "   bimodal_94_noise95_iter9  bimodal_95_noise95_iter9  \\\n",
       "0                  0.150024                  0.380721   \n",
       "1                  0.778117                  0.172168   \n",
       "2                  0.000000                  0.000000   \n",
       "3                  0.316820                  0.650798   \n",
       "4                  0.273319                  0.668118   \n",
       "\n",
       "   bimodal_96_noise95_iter9  bimodal_97_noise95_iter9  \\\n",
       "0                  0.810271                  0.485884   \n",
       "1                  0.683624                  0.083816   \n",
       "2                  0.000000                  0.000000   \n",
       "3                  0.158716                  0.320548   \n",
       "4                  0.262305                  0.260800   \n",
       "\n",
       "   bimodal_98_noise95_iter9  perfect_included_noise95_iter9  \\\n",
       "0                  0.549952                        0.808396   \n",
       "1                  0.243291                        0.449720   \n",
       "2                  0.000000                        1.000000   \n",
       "3                  0.981323                        0.985146   \n",
       "4                  0.027293                        0.845871   \n",
       "\n",
       "   perfect_excluded_noise95_iter9  \n",
       "0                        0.996400  \n",
       "1                        0.731521  \n",
       "2                        0.000000  \n",
       "3                        0.658254  \n",
       "4                        0.309283  \n",
       "\n",
       "[5 rows x 57300 columns]"
      ]
     },
     "execution_count": 19,
     "metadata": {},
     "output_type": "execute_result"
    }
   ],
   "source": [
    "maybe_everything_noisy = add_noise(maybe_everything, iteration_per_noise=10, \n",
    "                                   noise_percentages=np.arange(0, 100, 5), plot=False)\n",
    "six.print_(maybe_everything_noisy.shape)\n",
    "maybe_everything_noisy.head()"
   ]
  },
  {
   "cell_type": "code",
   "execution_count": 34,
   "metadata": {
    "collapsed": false
   },
   "outputs": [
    {
     "data": {
      "text/plain": [
       "numpy.ndarray"
      ]
     },
     "execution_count": 34,
     "metadata": {},
     "output_type": "execute_result"
    }
   ],
   "source": [
    "data = maybe_everything_noisy.columns.map(lambda x: x.split('_'))\n",
    "type(data)"
   ]
  },
  {
   "cell_type": "code",
   "execution_count": 35,
   "metadata": {
    "collapsed": false
   },
   "outputs": [
    {
     "data": {
      "text/plain": [
       "list"
      ]
     },
     "execution_count": 35,
     "metadata": {},
     "output_type": "execute_result"
    }
   ],
   "source": [
    "type(data[0])"
   ]
  },
  {
   "cell_type": "markdown",
   "metadata": {},
   "source": [
    "## Save the data"
   ]
  },
  {
   "cell_type": "code",
   "execution_count": 20,
   "metadata": {
    "collapsed": true
   },
   "outputs": [],
   "source": [
    "maybe_everything_noisy.to_csv('data.csv')"
   ]
  },
  {
   "cell_type": "markdown",
   "metadata": {},
   "source": [
    "## Transform to waypoints"
   ]
  },
  {
   "cell_type": "code",
   "execution_count": 21,
   "metadata": {
    "collapsed": false
   },
   "outputs": [
    {
     "name": "stdout",
     "output_type": "stream",
     "text": [
      "(57300, 2)\n"
     ]
    },
    {
     "data": {
      "text/html": [
       "<div>\n",
       "<table border=\"1\" class=\"dataframe\">\n",
       "  <thead>\n",
       "    <tr style=\"text-align: right;\">\n",
       "      <th></th>\n",
       "      <th>0</th>\n",
       "      <th>1</th>\n",
       "    </tr>\n",
       "  </thead>\n",
       "  <tbody>\n",
       "    <tr>\n",
       "      <th>perfect_middle_noise0_iter0</th>\n",
       "      <td>0.00</td>\n",
       "      <td>0.0</td>\n",
       "    </tr>\n",
       "    <tr>\n",
       "      <th>middle0_00_noise0_iter0</th>\n",
       "      <td>0.01</td>\n",
       "      <td>0.0</td>\n",
       "    </tr>\n",
       "    <tr>\n",
       "      <th>middle0_01_noise0_iter0</th>\n",
       "      <td>0.02</td>\n",
       "      <td>0.0</td>\n",
       "    </tr>\n",
       "    <tr>\n",
       "      <th>middle0_02_noise0_iter0</th>\n",
       "      <td>0.03</td>\n",
       "      <td>0.0</td>\n",
       "    </tr>\n",
       "    <tr>\n",
       "      <th>middle0_03_noise0_iter0</th>\n",
       "      <td>0.04</td>\n",
       "      <td>0.0</td>\n",
       "    </tr>\n",
       "  </tbody>\n",
       "</table>\n",
       "</div>"
      ],
      "text/plain": [
       "                                0    1\n",
       "perfect_middle_noise0_iter0  0.00  0.0\n",
       "middle0_00_noise0_iter0      0.01  0.0\n",
       "middle0_01_noise0_iter0      0.02  0.0\n",
       "middle0_02_noise0_iter0      0.03  0.0\n",
       "middle0_03_noise0_iter0      0.04  0.0"
      ]
     },
     "execution_count": 21,
     "metadata": {},
     "output_type": "execute_result"
    }
   ],
   "source": [
    "# Initialize the waypoints transformer\n",
    "ws = bonvoyage.Waypoints()\n",
    "\n",
    "waypoints = ws.fit_transform(maybe_everything_noisy)\n",
    "six.print_(waypoints.shape)\n",
    "waypoints.head()"
   ]
  },
  {
   "cell_type": "code",
   "execution_count": 22,
   "metadata": {
    "collapsed": true
   },
   "outputs": [],
   "source": [
    "waypoints.to_csv('waypoints.csv')"
   ]
  },
  {
   "cell_type": "markdown",
   "metadata": {},
   "source": [
    "### Plot a subset of the data with violinplots"
   ]
  },
  {
   "cell_type": "code",
   "execution_count": 38,
   "metadata": {
    "collapsed": false
   },
   "outputs": [
    {
     "name": "stdout",
     "output_type": "stream",
     "text": [
      "(5730000, 3)\n"
     ]
    },
    {
     "data": {
      "text/html": [
       "<div>\n",
       "<table border=\"1\" class=\"dataframe\">\n",
       "  <thead>\n",
       "    <tr style=\"text-align: right;\">\n",
       "      <th></th>\n",
       "      <th>Feature ID</th>\n",
       "      <th>Sample ID</th>\n",
       "      <th>$\\Psi$</th>\n",
       "    </tr>\n",
       "  </thead>\n",
       "  <tbody>\n",
       "    <tr>\n",
       "      <th>0</th>\n",
       "      <td>perfect_middle_noise0_iter0</td>\n",
       "      <td>0</td>\n",
       "      <td>0.5</td>\n",
       "    </tr>\n",
       "    <tr>\n",
       "      <th>1</th>\n",
       "      <td>perfect_middle_noise0_iter0</td>\n",
       "      <td>1</td>\n",
       "      <td>0.5</td>\n",
       "    </tr>\n",
       "    <tr>\n",
       "      <th>2</th>\n",
       "      <td>perfect_middle_noise0_iter0</td>\n",
       "      <td>2</td>\n",
       "      <td>0.5</td>\n",
       "    </tr>\n",
       "    <tr>\n",
       "      <th>3</th>\n",
       "      <td>perfect_middle_noise0_iter0</td>\n",
       "      <td>3</td>\n",
       "      <td>0.5</td>\n",
       "    </tr>\n",
       "    <tr>\n",
       "      <th>4</th>\n",
       "      <td>perfect_middle_noise0_iter0</td>\n",
       "      <td>4</td>\n",
       "      <td>0.5</td>\n",
       "    </tr>\n",
       "  </tbody>\n",
       "</table>\n",
       "</div>"
      ],
      "text/plain": [
       "                    Feature ID  Sample ID  $\\Psi$\n",
       "0  perfect_middle_noise0_iter0          0     0.5\n",
       "1  perfect_middle_noise0_iter0          1     0.5\n",
       "2  perfect_middle_noise0_iter0          2     0.5\n",
       "3  perfect_middle_noise0_iter0          3     0.5\n",
       "4  perfect_middle_noise0_iter0          4     0.5"
      ]
     },
     "execution_count": 38,
     "metadata": {},
     "output_type": "execute_result"
    }
   ],
   "source": [
    "tidy = maybe_everything_noisy.unstack().reset_index()\n",
    "tidy = tidy.rename(columns={'level_0':'Feature ID', 'level_1': \"Sample ID\", 0:'$\\Psi$'})\n",
    "six.print_(tidy.shape)\n",
    "tidy.head()"
   ]
  },
  {
   "cell_type": "code",
   "execution_count": 39,
   "metadata": {
    "collapsed": false
   },
   "outputs": [
    {
     "name": "stderr",
     "output_type": "stream",
     "text": [
      "/home/obotvinnik/anaconda/lib/python2.7/site-packages/ipykernel/__main__.py:1: FutureWarning: currently extract(expand=None) means expand=False (return Index/Series/DataFrame) but in a future version of pandas this will be changed to expand=True (return DataFrame)\n",
      "  if __name__ == '__main__':\n",
      "/home/obotvinnik/anaconda/lib/python2.7/site-packages/ipykernel/__main__.py:2: FutureWarning: currently extract(expand=None) means expand=False (return Index/Series/DataFrame) but in a future version of pandas this will be changed to expand=True (return DataFrame)\n",
      "  from ipykernel import kernelapp as app\n"
     ]
    },
    {
     "data": {
      "text/html": [
       "<div>\n",
       "<table border=\"1\" class=\"dataframe\">\n",
       "  <thead>\n",
       "    <tr style=\"text-align: right;\">\n",
       "      <th></th>\n",
       "      <th>Feature ID</th>\n",
       "      <th>Sample ID</th>\n",
       "      <th>$\\Psi$</th>\n",
       "      <th>Iteration</th>\n",
       "      <th>% Noise</th>\n",
       "    </tr>\n",
       "  </thead>\n",
       "  <tbody>\n",
       "    <tr>\n",
       "      <th>0</th>\n",
       "      <td>perfect_middle_noise0_iter0</td>\n",
       "      <td>0</td>\n",
       "      <td>0.5</td>\n",
       "      <td>0</td>\n",
       "      <td>0</td>\n",
       "    </tr>\n",
       "    <tr>\n",
       "      <th>1</th>\n",
       "      <td>perfect_middle_noise0_iter0</td>\n",
       "      <td>1</td>\n",
       "      <td>0.5</td>\n",
       "      <td>0</td>\n",
       "      <td>0</td>\n",
       "    </tr>\n",
       "    <tr>\n",
       "      <th>2</th>\n",
       "      <td>perfect_middle_noise0_iter0</td>\n",
       "      <td>2</td>\n",
       "      <td>0.5</td>\n",
       "      <td>0</td>\n",
       "      <td>0</td>\n",
       "    </tr>\n",
       "    <tr>\n",
       "      <th>3</th>\n",
       "      <td>perfect_middle_noise0_iter0</td>\n",
       "      <td>3</td>\n",
       "      <td>0.5</td>\n",
       "      <td>0</td>\n",
       "      <td>0</td>\n",
       "    </tr>\n",
       "    <tr>\n",
       "      <th>4</th>\n",
       "      <td>perfect_middle_noise0_iter0</td>\n",
       "      <td>4</td>\n",
       "      <td>0.5</td>\n",
       "      <td>0</td>\n",
       "      <td>0</td>\n",
       "    </tr>\n",
       "  </tbody>\n",
       "</table>\n",
       "</div>"
      ],
      "text/plain": [
       "                    Feature ID  Sample ID  $\\Psi$  Iteration  % Noise\n",
       "0  perfect_middle_noise0_iter0          0     0.5          0        0\n",
       "1  perfect_middle_noise0_iter0          1     0.5          0        0\n",
       "2  perfect_middle_noise0_iter0          2     0.5          0        0\n",
       "3  perfect_middle_noise0_iter0          3     0.5          0        0\n",
       "4  perfect_middle_noise0_iter0          4     0.5          0        0"
      ]
     },
     "execution_count": 39,
     "metadata": {},
     "output_type": "execute_result"
    }
   ],
   "source": [
    "tidy['Iteration'] = tidy['Feature ID'].str.extract('iter(\\d+)').astype(int)\n",
    "tidy['% Noise'] = tidy['Feature ID'].str.extract('noise(\\d+)').astype(int)\n",
    "tidy.head()"
   ]
  },
  {
   "cell_type": "code",
   "execution_count": 54,
   "metadata": {
    "collapsed": false
   },
   "outputs": [
    {
     "name": "stdout",
     "output_type": "stream",
     "text": [
      "(57300, 4)\n"
     ]
    },
    {
     "data": {
      "text/html": [
       "<div>\n",
       "<table border=\"1\" class=\"dataframe\">\n",
       "  <thead>\n",
       "    <tr style=\"text-align: right;\">\n",
       "      <th></th>\n",
       "      <th>id0</th>\n",
       "      <th>id1</th>\n",
       "      <th>id2</th>\n",
       "      <th>id3</th>\n",
       "    </tr>\n",
       "  </thead>\n",
       "  <tbody>\n",
       "    <tr>\n",
       "      <th>perfect_middle_noise0_iter0</th>\n",
       "      <td>perfect</td>\n",
       "      <td>middle</td>\n",
       "      <td>noise0</td>\n",
       "      <td>iter0</td>\n",
       "    </tr>\n",
       "    <tr>\n",
       "      <th>middle0_00_noise0_iter0</th>\n",
       "      <td>middle0</td>\n",
       "      <td>00</td>\n",
       "      <td>noise0</td>\n",
       "      <td>iter0</td>\n",
       "    </tr>\n",
       "    <tr>\n",
       "      <th>middle0_01_noise0_iter0</th>\n",
       "      <td>middle0</td>\n",
       "      <td>01</td>\n",
       "      <td>noise0</td>\n",
       "      <td>iter0</td>\n",
       "    </tr>\n",
       "    <tr>\n",
       "      <th>middle0_02_noise0_iter0</th>\n",
       "      <td>middle0</td>\n",
       "      <td>02</td>\n",
       "      <td>noise0</td>\n",
       "      <td>iter0</td>\n",
       "    </tr>\n",
       "    <tr>\n",
       "      <th>middle0_03_noise0_iter0</th>\n",
       "      <td>middle0</td>\n",
       "      <td>03</td>\n",
       "      <td>noise0</td>\n",
       "      <td>iter0</td>\n",
       "    </tr>\n",
       "  </tbody>\n",
       "</table>\n",
       "</div>"
      ],
      "text/plain": [
       "                                 id0     id1     id2    id3\n",
       "perfect_middle_noise0_iter0  perfect  middle  noise0  iter0\n",
       "middle0_00_noise0_iter0      middle0      00  noise0  iter0\n",
       "middle0_01_noise0_iter0      middle0      01  noise0  iter0\n",
       "middle0_02_noise0_iter0      middle0      02  noise0  iter0\n",
       "middle0_03_noise0_iter0      middle0      03  noise0  iter0"
      ]
     },
     "execution_count": 54,
     "metadata": {},
     "output_type": "execute_result"
    }
   ],
   "source": [
    "feature_id_data = pd.DataFrame.from_records(list(data), index=maybe_everything_noisy.columns)\n",
    "feature_id_data.columns = feature_id_data.columns.map(lambda x: 'id{}'.format(x))\n",
    "print(feature_id_data.shape)\n",
    "feature_id_data.head()"
   ]
  },
  {
   "cell_type": "code",
   "execution_count": 55,
   "metadata": {
    "collapsed": false
   },
   "outputs": [
    {
     "name": "stdout",
     "output_type": "stream",
     "text": [
      "(5730000, 5)\n"
     ]
    },
    {
     "data": {
      "text/html": [
       "<div>\n",
       "<table border=\"1\" class=\"dataframe\">\n",
       "  <thead>\n",
       "    <tr style=\"text-align: right;\">\n",
       "      <th></th>\n",
       "      <th>Feature ID</th>\n",
       "      <th>Sample ID</th>\n",
       "      <th>$\\Psi$</th>\n",
       "      <th>Iteration</th>\n",
       "      <th>% Noise</th>\n",
       "      <th>id0</th>\n",
       "      <th>id1</th>\n",
       "      <th>id2</th>\n",
       "      <th>id3</th>\n",
       "    </tr>\n",
       "  </thead>\n",
       "  <tbody>\n",
       "    <tr>\n",
       "      <th>0</th>\n",
       "      <td>perfect_middle_noise0_iter0</td>\n",
       "      <td>0</td>\n",
       "      <td>0.5</td>\n",
       "      <td>0</td>\n",
       "      <td>0</td>\n",
       "      <td>perfect</td>\n",
       "      <td>middle</td>\n",
       "      <td>noise0</td>\n",
       "      <td>iter0</td>\n",
       "    </tr>\n",
       "    <tr>\n",
       "      <th>1</th>\n",
       "      <td>perfect_middle_noise0_iter0</td>\n",
       "      <td>1</td>\n",
       "      <td>0.5</td>\n",
       "      <td>0</td>\n",
       "      <td>0</td>\n",
       "      <td>perfect</td>\n",
       "      <td>middle</td>\n",
       "      <td>noise0</td>\n",
       "      <td>iter0</td>\n",
       "    </tr>\n",
       "    <tr>\n",
       "      <th>2</th>\n",
       "      <td>perfect_middle_noise0_iter0</td>\n",
       "      <td>2</td>\n",
       "      <td>0.5</td>\n",
       "      <td>0</td>\n",
       "      <td>0</td>\n",
       "      <td>perfect</td>\n",
       "      <td>middle</td>\n",
       "      <td>noise0</td>\n",
       "      <td>iter0</td>\n",
       "    </tr>\n",
       "    <tr>\n",
       "      <th>3</th>\n",
       "      <td>perfect_middle_noise0_iter0</td>\n",
       "      <td>3</td>\n",
       "      <td>0.5</td>\n",
       "      <td>0</td>\n",
       "      <td>0</td>\n",
       "      <td>perfect</td>\n",
       "      <td>middle</td>\n",
       "      <td>noise0</td>\n",
       "      <td>iter0</td>\n",
       "    </tr>\n",
       "    <tr>\n",
       "      <th>4</th>\n",
       "      <td>perfect_middle_noise0_iter0</td>\n",
       "      <td>4</td>\n",
       "      <td>0.5</td>\n",
       "      <td>0</td>\n",
       "      <td>0</td>\n",
       "      <td>perfect</td>\n",
       "      <td>middle</td>\n",
       "      <td>noise0</td>\n",
       "      <td>iter0</td>\n",
       "    </tr>\n",
       "  </tbody>\n",
       "</table>\n",
       "</div>"
      ],
      "text/plain": [
       "                    Feature ID  Sample ID  $\\Psi$  Iteration  % Noise  \\\n",
       "0  perfect_middle_noise0_iter0          0     0.5          0        0   \n",
       "1  perfect_middle_noise0_iter0          1     0.5          0        0   \n",
       "2  perfect_middle_noise0_iter0          2     0.5          0        0   \n",
       "3  perfect_middle_noise0_iter0          3     0.5          0        0   \n",
       "4  perfect_middle_noise0_iter0          4     0.5          0        0   \n",
       "\n",
       "       id0     id1     id2    id3  \n",
       "0  perfect  middle  noise0  iter0  \n",
       "1  perfect  middle  noise0  iter0  \n",
       "2  perfect  middle  noise0  iter0  \n",
       "3  perfect  middle  noise0  iter0  \n",
       "4  perfect  middle  noise0  iter0  "
      ]
     },
     "execution_count": 55,
     "metadata": {},
     "output_type": "execute_result"
    }
   ],
   "source": [
    "tidy_metadata = tidy.join(feature_id_data, on='Feature ID')\n",
    "print(tidy.shape)\n",
    "tidy_metadata.head()"
   ]
  },
  {
   "cell_type": "code",
   "execution_count": 56,
   "metadata": {
    "collapsed": false
   },
   "outputs": [],
   "source": [
    "tidy_metadata.to_csv('metadata.csv', index=False)"
   ]
  },
  {
   "cell_type": "code",
   "execution_count": 57,
   "metadata": {
    "collapsed": false
   },
   "outputs": [
    {
     "data": {
      "text/html": [
       "<div>\n",
       "<table border=\"1\" class=\"dataframe\">\n",
       "  <thead>\n",
       "    <tr style=\"text-align: right;\">\n",
       "      <th></th>\n",
       "      <th>Feature ID</th>\n",
       "      <th>Sample ID</th>\n",
       "      <th>$\\Psi$</th>\n",
       "      <th>Iteration</th>\n",
       "      <th>% Noise</th>\n",
       "      <th>id0</th>\n",
       "      <th>id1</th>\n",
       "      <th>id2</th>\n",
       "      <th>id3</th>\n",
       "    </tr>\n",
       "  </thead>\n",
       "  <tbody>\n",
       "    <tr>\n",
       "      <th>0</th>\n",
       "      <td>perfect_middle_noise0_iter0</td>\n",
       "      <td>0</td>\n",
       "      <td>0.5</td>\n",
       "      <td>0</td>\n",
       "      <td>0</td>\n",
       "      <td>perfect</td>\n",
       "      <td>middle</td>\n",
       "      <td>noise0</td>\n",
       "      <td>iter0</td>\n",
       "    </tr>\n",
       "    <tr>\n",
       "      <th>1</th>\n",
       "      <td>perfect_middle_noise0_iter0</td>\n",
       "      <td>1</td>\n",
       "      <td>0.5</td>\n",
       "      <td>0</td>\n",
       "      <td>0</td>\n",
       "      <td>perfect</td>\n",
       "      <td>middle</td>\n",
       "      <td>noise0</td>\n",
       "      <td>iter0</td>\n",
       "    </tr>\n",
       "    <tr>\n",
       "      <th>2</th>\n",
       "      <td>perfect_middle_noise0_iter0</td>\n",
       "      <td>2</td>\n",
       "      <td>0.5</td>\n",
       "      <td>0</td>\n",
       "      <td>0</td>\n",
       "      <td>perfect</td>\n",
       "      <td>middle</td>\n",
       "      <td>noise0</td>\n",
       "      <td>iter0</td>\n",
       "    </tr>\n",
       "    <tr>\n",
       "      <th>3</th>\n",
       "      <td>perfect_middle_noise0_iter0</td>\n",
       "      <td>3</td>\n",
       "      <td>0.5</td>\n",
       "      <td>0</td>\n",
       "      <td>0</td>\n",
       "      <td>perfect</td>\n",
       "      <td>middle</td>\n",
       "      <td>noise0</td>\n",
       "      <td>iter0</td>\n",
       "    </tr>\n",
       "    <tr>\n",
       "      <th>4</th>\n",
       "      <td>perfect_middle_noise0_iter0</td>\n",
       "      <td>4</td>\n",
       "      <td>0.5</td>\n",
       "      <td>0</td>\n",
       "      <td>0</td>\n",
       "      <td>perfect</td>\n",
       "      <td>middle</td>\n",
       "      <td>noise0</td>\n",
       "      <td>iter0</td>\n",
       "    </tr>\n",
       "  </tbody>\n",
       "</table>\n",
       "</div>"
      ],
      "text/plain": [
       "                    Feature ID  Sample ID  $\\Psi$  Iteration  % Noise  \\\n",
       "0  perfect_middle_noise0_iter0          0     0.5          0        0   \n",
       "1  perfect_middle_noise0_iter0          1     0.5          0        0   \n",
       "2  perfect_middle_noise0_iter0          2     0.5          0        0   \n",
       "3  perfect_middle_noise0_iter0          3     0.5          0        0   \n",
       "4  perfect_middle_noise0_iter0          4     0.5          0        0   \n",
       "\n",
       "       id0     id1     id2    id3  \n",
       "0  perfect  middle  noise0  iter0  \n",
       "1  perfect  middle  noise0  iter0  \n",
       "2  perfect  middle  noise0  iter0  \n",
       "3  perfect  middle  noise0  iter0  \n",
       "4  perfect  middle  noise0  iter0  "
      ]
     },
     "execution_count": 57,
     "metadata": {},
     "output_type": "execute_result"
    }
   ],
   "source": [
    "tidy_metadata.head()"
   ]
  },
  {
   "cell_type": "code",
   "execution_count": 43,
   "metadata": {
    "collapsed": false
   },
   "outputs": [
    {
     "data": {
      "text/plain": [
       "Index([u'Feature ID', u'Sample ID', u'$\\Psi$', u'Iteration', u'% Noise'], dtype='object')"
      ]
     },
     "execution_count": 43,
     "metadata": {},
     "output_type": "execute_result"
    }
   ],
   "source": [
    "tidy_metadata.columns"
   ]
  },
  {
   "cell_type": "code",
   "execution_count": 58,
   "metadata": {
    "collapsed": false
   },
   "outputs": [
    {
     "name": "stdout",
     "output_type": "stream",
     "text": [
      "(37200, 9)\n"
     ]
    },
    {
     "data": {
      "text/html": [
       "<div>\n",
       "<table border=\"1\" class=\"dataframe\">\n",
       "  <thead>\n",
       "    <tr style=\"text-align: right;\">\n",
       "      <th></th>\n",
       "      <th>Feature ID</th>\n",
       "      <th>Sample ID</th>\n",
       "      <th>$\\Psi$</th>\n",
       "      <th>Iteration</th>\n",
       "      <th>% Noise</th>\n",
       "      <th>id0</th>\n",
       "      <th>id1</th>\n",
       "      <th>id2</th>\n",
       "      <th>id3</th>\n",
       "    </tr>\n",
       "  </thead>\n",
       "  <tbody>\n",
       "    <tr>\n",
       "      <th>0</th>\n",
       "      <td>perfect_middle_noise0_iter0</td>\n",
       "      <td>0</td>\n",
       "      <td>0.5</td>\n",
       "      <td>0</td>\n",
       "      <td>0</td>\n",
       "      <td>perfect</td>\n",
       "      <td>middle</td>\n",
       "      <td>noise0</td>\n",
       "      <td>iter0</td>\n",
       "    </tr>\n",
       "    <tr>\n",
       "      <th>1</th>\n",
       "      <td>perfect_middle_noise0_iter0</td>\n",
       "      <td>1</td>\n",
       "      <td>0.5</td>\n",
       "      <td>0</td>\n",
       "      <td>0</td>\n",
       "      <td>perfect</td>\n",
       "      <td>middle</td>\n",
       "      <td>noise0</td>\n",
       "      <td>iter0</td>\n",
       "    </tr>\n",
       "    <tr>\n",
       "      <th>2</th>\n",
       "      <td>perfect_middle_noise0_iter0</td>\n",
       "      <td>2</td>\n",
       "      <td>0.5</td>\n",
       "      <td>0</td>\n",
       "      <td>0</td>\n",
       "      <td>perfect</td>\n",
       "      <td>middle</td>\n",
       "      <td>noise0</td>\n",
       "      <td>iter0</td>\n",
       "    </tr>\n",
       "    <tr>\n",
       "      <th>3</th>\n",
       "      <td>perfect_middle_noise0_iter0</td>\n",
       "      <td>3</td>\n",
       "      <td>0.5</td>\n",
       "      <td>0</td>\n",
       "      <td>0</td>\n",
       "      <td>perfect</td>\n",
       "      <td>middle</td>\n",
       "      <td>noise0</td>\n",
       "      <td>iter0</td>\n",
       "    </tr>\n",
       "    <tr>\n",
       "      <th>4</th>\n",
       "      <td>perfect_middle_noise0_iter0</td>\n",
       "      <td>4</td>\n",
       "      <td>0.5</td>\n",
       "      <td>0</td>\n",
       "      <td>0</td>\n",
       "      <td>perfect</td>\n",
       "      <td>middle</td>\n",
       "      <td>noise0</td>\n",
       "      <td>iter0</td>\n",
       "    </tr>\n",
       "  </tbody>\n",
       "</table>\n",
       "</div>"
      ],
      "text/plain": [
       "                    Feature ID  Sample ID  $\\Psi$  Iteration  % Noise  \\\n",
       "0  perfect_middle_noise0_iter0          0     0.5          0        0   \n",
       "1  perfect_middle_noise0_iter0          1     0.5          0        0   \n",
       "2  perfect_middle_noise0_iter0          2     0.5          0        0   \n",
       "3  perfect_middle_noise0_iter0          3     0.5          0        0   \n",
       "4  perfect_middle_noise0_iter0          4     0.5          0        0   \n",
       "\n",
       "       id0     id1     id2    id3  \n",
       "0  perfect  middle  noise0  iter0  \n",
       "1  perfect  middle  noise0  iter0  \n",
       "2  perfect  middle  noise0  iter0  \n",
       "3  perfect  middle  noise0  iter0  \n",
       "4  perfect  middle  noise0  iter0  "
      ]
     },
     "execution_count": 58,
     "metadata": {},
     "output_type": "execute_result"
    }
   ],
   "source": [
    "noise_levels = tidy_metadata['% Noise'].isin([0, 25, 50, 75])\n",
    "\n",
    "perfects = tidy_metadata['Feature ID'].str.contains('perfect')\n",
    "middles = tidy_metadata['Feature ID'].str.startswith('middle') & tidy_metadata['id1'].isin(['25', '50', '75'])\n",
    "bimodals = tidy_metadata['Feature ID'].str.startswith('bimodal') & tidy_metadata['id1'].isin(['25', '50', '75'])\n",
    "\n",
    "row_subsets = perfects, bimodals, middles\n",
    "\n",
    "dfs = []\n",
    "\n",
    "for rows in row_subsets:\n",
    "    df = tidy_metadata.loc[rows & noise_levels]\n",
    "    dfs.append(df)\n",
    "tidy_subset = pd.concat(dfs, ignore_index=True)\n",
    "six.print_(tidy_subset.shape)\n",
    "tidy_subset.head()"
   ]
  },
  {
   "cell_type": "code",
   "execution_count": 59,
   "metadata": {
    "collapsed": false
   },
   "outputs": [
    {
     "data": {
      "text/plain": [
       "id0      id1       % Noise\n",
       "bimodal  25        0           100\n",
       "                   25         1000\n",
       "                   50         1000\n",
       "                   75         1000\n",
       "         50        0           100\n",
       "                   25         1000\n",
       "                   50         1000\n",
       "                   75         1000\n",
       "         75        0           100\n",
       "                   25         1000\n",
       "                   50         1000\n",
       "                   75         1000\n",
       "middle0  25        0           100\n",
       "                   25         1000\n",
       "                   50         1000\n",
       "                   75         1000\n",
       "         50        0           100\n",
       "                   25         1000\n",
       "                   50         1000\n",
       "                   75         1000\n",
       "         75        0           100\n",
       "                   25         1000\n",
       "                   50         1000\n",
       "                   75         1000\n",
       "middle1  25        0           100\n",
       "                   25         1000\n",
       "                   50         1000\n",
       "                   75         1000\n",
       "         50        0           100\n",
       "                   25         1000\n",
       "                   50         1000\n",
       "                   75         1000\n",
       "         75        0           100\n",
       "                   25         1000\n",
       "                   50         1000\n",
       "                   75         1000\n",
       "perfect  excluded  0           100\n",
       "                   25         1000\n",
       "                   50         1000\n",
       "                   75         1000\n",
       "         included  0           100\n",
       "                   25         1000\n",
       "                   50         1000\n",
       "                   75         1000\n",
       "         middle    0           100\n",
       "                   25         1000\n",
       "                   50         1000\n",
       "                   75         1000\n",
       "dtype: int64"
      ]
     },
     "execution_count": 59,
     "metadata": {},
     "output_type": "execute_result"
    }
   ],
   "source": [
    "tidy_subset.groupby(['id0', 'id1', '% Noise']).size()"
   ]
  },
  {
   "cell_type": "code",
   "execution_count": 47,
   "metadata": {
    "collapsed": false
   },
   "outputs": [],
   "source": [
    "from anchor import MODALITY_TO_COLOR"
   ]
  },
  {
   "cell_type": "code",
   "execution_count": 50,
   "metadata": {
    "collapsed": false
   },
   "outputs": [
    {
     "name": "stdout",
     "output_type": "stream",
     "text": [
      "mkdir: cannot create directory `figures': File exists\r\n"
     ]
    }
   ],
   "source": [
    "figure_folder = 'figures'\n",
    "! mkdir $figure_folder"
   ]
  },
  {
   "cell_type": "code",
   "execution_count": 51,
   "metadata": {
    "collapsed": true
   },
   "outputs": [],
   "source": [
    "sns.set(context='paper', style='ticks')"
   ]
  },
  {
   "cell_type": "code",
   "execution_count": 62,
   "metadata": {
    "collapsed": false,
    "scrolled": false
   },
   "outputs": [
    {
     "name": "stdout",
     "output_type": "stream",
     "text": [
      "bimodal\n",
      "middle0\n",
      "middle1\n",
      "perfect\n"
     ]
    },
    {
     "data": {
      "image/png": "[encoded data removed]",
      "text/plain": [
       "<matplotlib.figure.Figure at 0x2ab34e589910>"
      ]
     },
     "metadata": {},
     "output_type": "display_data"
    },
    {
     "data": {
      "image/png": "[encoded data removed]",
      "text/plain": [
       "<matplotlib.figure.Figure at 0x2ab34eb32810>"
      ]
     },
     "metadata": {},
     "output_type": "display_data"
    },
    {
     "data": {
      "image/png": "[encoded data removed]",
      "text/plain": [
       "<matplotlib.figure.Figure at 0x2ab34f020890>"
      ]
     },
     "metadata": {},
     "output_type": "display_data"
    },
    {
     "data": {
      "image/png": "[encoded data removed]",
      "text/plain": [
       "<matplotlib.figure.Figure at 0x2ab34edca110>"
      ]
     },
     "metadata": {},
     "output_type": "display_data"
    }
   ],
   "source": [
    "for group, df in tidy_subset.groupby('id0'):\n",
    "    palette = None\n",
    "    six.print_(group)\n",
    "    \n",
    "    if group == 'bimodal':\n",
    "        palette = \"RdBu\"\n",
    "    elif group == 'middle0':\n",
    "        palette = 'YlGnBu'\n",
    "    elif group == 'middle1':\n",
    "        palette = 'YlOrRd'\n",
    "    elif group == 'perfect':\n",
    "        palette = [MODALITY_TO_COLOR[m] for m in df['id1'].unique()]\n",
    "    \n",
    "    g = sns.factorplot(x='id1', y='$\\Psi$', col='% Noise', data=df, aspect=1, size=1.5,\n",
    "                   kind='violin', bw=0.2, inner=None, scale='width', sharex=False, palette=palette)\n",
    "    g.set(ylim=(0, 1), yticks=(0, 0.5, 1), xlabel='')\n",
    "    if group == 'perfect':\n",
    "        for ax in g.axes.flat:\n",
    "            plt.setp(ax.get_xticklabels(), rotation=30)\n",
    "    g.savefig('{}/data_{}.pdf'.format(figure_folder, group))"
   ]
  },
  {
   "cell_type": "code",
   "execution_count": null,
   "metadata": {
    "collapsed": true
   },
   "outputs": [],
   "source": []
  }
 ],
 "metadata": {
  "kernelspec": {
   "display_name": "Python 2",
   "language": "python",
   "name": "python2"
  },
  "language_info": {
   "codemirror_mode": {
    "name": "ipython",
    "version": 2
   },
   "file_extension": ".py",
   "mimetype": "text/x-python",
   "name": "python",
   "nbconvert_exporter": "python",
   "pygments_lexer": "ipython2",
   "version": "2.7.11"
  }
 },
 "nbformat": 4,
 "nbformat_minor": 0
}
