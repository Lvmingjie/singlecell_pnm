{
 "cells": [
  {
   "cell_type": "code",
   "execution_count": 3,
   "metadata": {
    "collapsed": true
   },
   "outputs": [],
   "source": [
    "from __future__ import print_function"
   ]
  },
  {
   "cell_type": "code",
   "execution_count": 4,
   "metadata": {
    "collapsed": false
   },
   "outputs": [
    {
     "name": "stderr",
     "output_type": "stream",
     "text": [
      "/home/obotvinnik/anaconda/lib/python2.7/site-packages/sklearn/cross_validation.py:44: DeprecationWarning: This module was deprecated in version 0.18 in favor of the model_selection module into which all the refactored classes and functions are moved. Also note that the interface of the new CV iterators are different from that of this module. This module will be removed in 0.20.\n",
      "  \"This module will be removed in 0.20.\", DeprecationWarning)\n"
     ]
    },
    {
     "data": {
      "text/html": [
       "<div>\n",
       "<table border=\"1\" class=\"dataframe\">\n",
       "  <thead>\n",
       "    <tr style=\"text-align: right;\">\n",
       "      <th></th>\n",
       "      <th>perfect_middle_noise0_iter0</th>\n",
       "      <th>middle0_00_noise0_iter0</th>\n",
       "      <th>middle0_01_noise0_iter0</th>\n",
       "      <th>middle0_02_noise0_iter0</th>\n",
       "      <th>middle0_03_noise0_iter0</th>\n",
       "      <th>middle0_04_noise0_iter0</th>\n",
       "      <th>middle0_05_noise0_iter0</th>\n",
       "      <th>middle0_06_noise0_iter0</th>\n",
       "      <th>middle0_07_noise0_iter0</th>\n",
       "      <th>middle0_08_noise0_iter0</th>\n",
       "      <th>...</th>\n",
       "      <th>bimodal_91_noise95_iter9</th>\n",
       "      <th>bimodal_92_noise95_iter9</th>\n",
       "      <th>bimodal_93_noise95_iter9</th>\n",
       "      <th>bimodal_94_noise95_iter9</th>\n",
       "      <th>bimodal_95_noise95_iter9</th>\n",
       "      <th>bimodal_96_noise95_iter9</th>\n",
       "      <th>bimodal_97_noise95_iter9</th>\n",
       "      <th>bimodal_98_noise95_iter9</th>\n",
       "      <th>perfect_included_noise95_iter9</th>\n",
       "      <th>perfect_excluded_noise95_iter9</th>\n",
       "    </tr>\n",
       "  </thead>\n",
       "  <tbody>\n",
       "    <tr>\n",
       "      <th>0</th>\n",
       "      <td>0.5</td>\n",
       "      <td>0.0</td>\n",
       "      <td>0.0</td>\n",
       "      <td>0.0</td>\n",
       "      <td>0.0</td>\n",
       "      <td>0.0</td>\n",
       "      <td>0.0</td>\n",
       "      <td>0.0</td>\n",
       "      <td>0.0</td>\n",
       "      <td>0.0</td>\n",
       "      <td>...</td>\n",
       "      <td>0.589527</td>\n",
       "      <td>0.774932</td>\n",
       "      <td>0.499504</td>\n",
       "      <td>0.150024</td>\n",
       "      <td>0.380721</td>\n",
       "      <td>0.810271</td>\n",
       "      <td>0.485884</td>\n",
       "      <td>0.549952</td>\n",
       "      <td>0.808396</td>\n",
       "      <td>0.996400</td>\n",
       "    </tr>\n",
       "    <tr>\n",
       "      <th>1</th>\n",
       "      <td>0.5</td>\n",
       "      <td>0.5</td>\n",
       "      <td>0.0</td>\n",
       "      <td>0.0</td>\n",
       "      <td>0.0</td>\n",
       "      <td>0.0</td>\n",
       "      <td>0.0</td>\n",
       "      <td>0.0</td>\n",
       "      <td>0.0</td>\n",
       "      <td>0.0</td>\n",
       "      <td>...</td>\n",
       "      <td>0.341090</td>\n",
       "      <td>0.505881</td>\n",
       "      <td>0.186781</td>\n",
       "      <td>0.778117</td>\n",
       "      <td>0.172168</td>\n",
       "      <td>0.683624</td>\n",
       "      <td>0.083816</td>\n",
       "      <td>0.243291</td>\n",
       "      <td>0.449720</td>\n",
       "      <td>0.731521</td>\n",
       "    </tr>\n",
       "    <tr>\n",
       "      <th>2</th>\n",
       "      <td>0.5</td>\n",
       "      <td>0.5</td>\n",
       "      <td>0.5</td>\n",
       "      <td>0.0</td>\n",
       "      <td>0.0</td>\n",
       "      <td>0.0</td>\n",
       "      <td>0.0</td>\n",
       "      <td>0.0</td>\n",
       "      <td>0.0</td>\n",
       "      <td>0.0</td>\n",
       "      <td>...</td>\n",
       "      <td>0.000000</td>\n",
       "      <td>0.000000</td>\n",
       "      <td>0.000000</td>\n",
       "      <td>0.000000</td>\n",
       "      <td>0.000000</td>\n",
       "      <td>0.000000</td>\n",
       "      <td>0.000000</td>\n",
       "      <td>0.000000</td>\n",
       "      <td>1.000000</td>\n",
       "      <td>0.000000</td>\n",
       "    </tr>\n",
       "    <tr>\n",
       "      <th>3</th>\n",
       "      <td>0.5</td>\n",
       "      <td>0.5</td>\n",
       "      <td>0.5</td>\n",
       "      <td>0.5</td>\n",
       "      <td>0.0</td>\n",
       "      <td>0.0</td>\n",
       "      <td>0.0</td>\n",
       "      <td>0.0</td>\n",
       "      <td>0.0</td>\n",
       "      <td>0.0</td>\n",
       "      <td>...</td>\n",
       "      <td>0.826827</td>\n",
       "      <td>0.361595</td>\n",
       "      <td>0.797055</td>\n",
       "      <td>0.316820</td>\n",
       "      <td>0.650798</td>\n",
       "      <td>0.158716</td>\n",
       "      <td>0.320548</td>\n",
       "      <td>0.981323</td>\n",
       "      <td>0.985146</td>\n",
       "      <td>0.658254</td>\n",
       "    </tr>\n",
       "    <tr>\n",
       "      <th>4</th>\n",
       "      <td>0.5</td>\n",
       "      <td>0.5</td>\n",
       "      <td>0.5</td>\n",
       "      <td>0.5</td>\n",
       "      <td>0.5</td>\n",
       "      <td>0.0</td>\n",
       "      <td>0.0</td>\n",
       "      <td>0.0</td>\n",
       "      <td>0.0</td>\n",
       "      <td>0.0</td>\n",
       "      <td>...</td>\n",
       "      <td>0.414055</td>\n",
       "      <td>0.679284</td>\n",
       "      <td>0.123933</td>\n",
       "      <td>0.273319</td>\n",
       "      <td>0.668118</td>\n",
       "      <td>0.262305</td>\n",
       "      <td>0.260800</td>\n",
       "      <td>0.027293</td>\n",
       "      <td>0.845871</td>\n",
       "      <td>0.309283</td>\n",
       "    </tr>\n",
       "  </tbody>\n",
       "</table>\n",
       "<p>5 rows × 57300 columns</p>\n",
       "</div>"
      ],
      "text/plain": [
       "   perfect_middle_noise0_iter0  middle0_00_noise0_iter0  \\\n",
       "0                          0.5                      0.0   \n",
       "1                          0.5                      0.5   \n",
       "2                          0.5                      0.5   \n",
       "3                          0.5                      0.5   \n",
       "4                          0.5                      0.5   \n",
       "\n",
       "   middle0_01_noise0_iter0  middle0_02_noise0_iter0  middle0_03_noise0_iter0  \\\n",
       "0                      0.0                      0.0                      0.0   \n",
       "1                      0.0                      0.0                      0.0   \n",
       "2                      0.5                      0.0                      0.0   \n",
       "3                      0.5                      0.5                      0.0   \n",
       "4                      0.5                      0.5                      0.5   \n",
       "\n",
       "   middle0_04_noise0_iter0  middle0_05_noise0_iter0  middle0_06_noise0_iter0  \\\n",
       "0                      0.0                      0.0                      0.0   \n",
       "1                      0.0                      0.0                      0.0   \n",
       "2                      0.0                      0.0                      0.0   \n",
       "3                      0.0                      0.0                      0.0   \n",
       "4                      0.0                      0.0                      0.0   \n",
       "\n",
       "   middle0_07_noise0_iter0  middle0_08_noise0_iter0  \\\n",
       "0                      0.0                      0.0   \n",
       "1                      0.0                      0.0   \n",
       "2                      0.0                      0.0   \n",
       "3                      0.0                      0.0   \n",
       "4                      0.0                      0.0   \n",
       "\n",
       "                ...                bimodal_91_noise95_iter9  \\\n",
       "0               ...                                0.589527   \n",
       "1               ...                                0.341090   \n",
       "2               ...                                0.000000   \n",
       "3               ...                                0.826827   \n",
       "4               ...                                0.414055   \n",
       "\n",
       "   bimodal_92_noise95_iter9  bimodal_93_noise95_iter9  \\\n",
       "0                  0.774932                  0.499504   \n",
       "1                  0.505881                  0.186781   \n",
       "2                  0.000000                  0.000000   \n",
       "3                  0.361595                  0.797055   \n",
       "4                  0.679284                  0.123933   \n",
       "\n",
       "   bimodal_94_noise95_iter9  bimodal_95_noise95_iter9  \\\n",
       "0                  0.150024                  0.380721   \n",
       "1                  0.778117                  0.172168   \n",
       "2                  0.000000                  0.000000   \n",
       "3                  0.316820                  0.650798   \n",
       "4                  0.273319                  0.668118   \n",
       "\n",
       "   bimodal_96_noise95_iter9  bimodal_97_noise95_iter9  \\\n",
       "0                  0.810271                  0.485884   \n",
       "1                  0.683624                  0.083816   \n",
       "2                  0.000000                  0.000000   \n",
       "3                  0.158716                  0.320548   \n",
       "4                  0.262305                  0.260800   \n",
       "\n",
       "   bimodal_98_noise95_iter9  perfect_included_noise95_iter9  \\\n",
       "0                  0.549952                        0.808396   \n",
       "1                  0.243291                        0.449720   \n",
       "2                  0.000000                        1.000000   \n",
       "3                  0.981323                        0.985146   \n",
       "4                  0.027293                        0.845871   \n",
       "\n",
       "   perfect_excluded_noise95_iter9  \n",
       "0                        0.996400  \n",
       "1                        0.731521  \n",
       "2                        0.000000  \n",
       "3                        0.658254  \n",
       "4                        0.309283  \n",
       "\n",
       "[5 rows x 57300 columns]"
      ]
     },
     "execution_count": 4,
     "metadata": {},
     "output_type": "execute_result"
    }
   ],
   "source": [
    "import matplotlib.pyplot as plt\n",
    "import numpy as np\n",
    "import pandas as pd\n",
    "import seaborn as sns\n",
    "import six\n",
    "\n",
    "sns.set(style='ticks', context='talk', rc={'font.sans-serif':'Arial', 'pdf.fonttype': 42})\n",
    "\n",
    "\n",
    "import bonvoyage\n",
    "\n",
    "%load_ext autoreload\n",
    "%autoreload 2\n",
    "\n",
    "# Figures in the notebook\n",
    "%matplotlib inline\n",
    "\n",
    "# Set random seed\n",
    "np.random.seed(sum(map(ord, 'bonvoyage')))\n",
    "\n",
    "\n",
    "# Define folder to save figures\n",
    "folder = 'figures/002_waypointplots'\n",
    "!mkdir -p $folder\n",
    "\n",
    "\n",
    "data = pd.read_csv('data.csv', index_col=0)\n",
    "data.head()"
   ]
  },
  {
   "cell_type": "code",
   "execution_count": 5,
   "metadata": {
    "collapsed": false
   },
   "outputs": [
    {
     "data": {
      "text/html": [
       "<div>\n",
       "<table border=\"1\" class=\"dataframe\">\n",
       "  <thead>\n",
       "    <tr style=\"text-align: right;\">\n",
       "      <th></th>\n",
       "      <th>0</th>\n",
       "      <th>1</th>\n",
       "    </tr>\n",
       "  </thead>\n",
       "  <tbody>\n",
       "    <tr>\n",
       "      <th>perfect_middle_noise0_iter0</th>\n",
       "      <td>0.00</td>\n",
       "      <td>0.0</td>\n",
       "    </tr>\n",
       "    <tr>\n",
       "      <th>middle0_00_noise0_iter0</th>\n",
       "      <td>0.01</td>\n",
       "      <td>0.0</td>\n",
       "    </tr>\n",
       "    <tr>\n",
       "      <th>middle0_01_noise0_iter0</th>\n",
       "      <td>0.02</td>\n",
       "      <td>0.0</td>\n",
       "    </tr>\n",
       "    <tr>\n",
       "      <th>middle0_02_noise0_iter0</th>\n",
       "      <td>0.03</td>\n",
       "      <td>0.0</td>\n",
       "    </tr>\n",
       "    <tr>\n",
       "      <th>middle0_03_noise0_iter0</th>\n",
       "      <td>0.04</td>\n",
       "      <td>0.0</td>\n",
       "    </tr>\n",
       "  </tbody>\n",
       "</table>\n",
       "</div>"
      ],
      "text/plain": [
       "                                0    1\n",
       "perfect_middle_noise0_iter0  0.00  0.0\n",
       "middle0_00_noise0_iter0      0.01  0.0\n",
       "middle0_01_noise0_iter0      0.02  0.0\n",
       "middle0_02_noise0_iter0      0.03  0.0\n",
       "middle0_03_noise0_iter0      0.04  0.0"
      ]
     },
     "execution_count": 5,
     "metadata": {},
     "output_type": "execute_result"
    }
   ],
   "source": [
    "waypoints = pd.read_csv('waypoints.csv', index_col=0)\n",
    "waypoints.head()"
   ]
  },
  {
   "cell_type": "code",
   "execution_count": 6,
   "metadata": {
    "collapsed": false
   },
   "outputs": [
    {
     "data": {
      "text/html": [
       "<div>\n",
       "<table border=\"1\" class=\"dataframe\">\n",
       "  <thead>\n",
       "    <tr style=\"text-align: right;\">\n",
       "      <th></th>\n",
       "      <th>Feature ID</th>\n",
       "      <th>Sample ID</th>\n",
       "      <th>$\\Psi$</th>\n",
       "      <th>Iteration</th>\n",
       "      <th>% Noise</th>\n",
       "      <th>id0</th>\n",
       "      <th>id1</th>\n",
       "      <th>id2</th>\n",
       "      <th>id3</th>\n",
       "    </tr>\n",
       "  </thead>\n",
       "  <tbody>\n",
       "    <tr>\n",
       "      <th>0</th>\n",
       "      <td>perfect_middle_noise0_iter0</td>\n",
       "      <td>0</td>\n",
       "      <td>0.5</td>\n",
       "      <td>0</td>\n",
       "      <td>0</td>\n",
       "      <td>perfect</td>\n",
       "      <td>middle</td>\n",
       "      <td>noise0</td>\n",
       "      <td>iter0</td>\n",
       "    </tr>\n",
       "    <tr>\n",
       "      <th>1</th>\n",
       "      <td>perfect_middle_noise0_iter0</td>\n",
       "      <td>1</td>\n",
       "      <td>0.5</td>\n",
       "      <td>0</td>\n",
       "      <td>0</td>\n",
       "      <td>perfect</td>\n",
       "      <td>middle</td>\n",
       "      <td>noise0</td>\n",
       "      <td>iter0</td>\n",
       "    </tr>\n",
       "    <tr>\n",
       "      <th>2</th>\n",
       "      <td>perfect_middle_noise0_iter0</td>\n",
       "      <td>2</td>\n",
       "      <td>0.5</td>\n",
       "      <td>0</td>\n",
       "      <td>0</td>\n",
       "      <td>perfect</td>\n",
       "      <td>middle</td>\n",
       "      <td>noise0</td>\n",
       "      <td>iter0</td>\n",
       "    </tr>\n",
       "    <tr>\n",
       "      <th>3</th>\n",
       "      <td>perfect_middle_noise0_iter0</td>\n",
       "      <td>3</td>\n",
       "      <td>0.5</td>\n",
       "      <td>0</td>\n",
       "      <td>0</td>\n",
       "      <td>perfect</td>\n",
       "      <td>middle</td>\n",
       "      <td>noise0</td>\n",
       "      <td>iter0</td>\n",
       "    </tr>\n",
       "    <tr>\n",
       "      <th>4</th>\n",
       "      <td>perfect_middle_noise0_iter0</td>\n",
       "      <td>4</td>\n",
       "      <td>0.5</td>\n",
       "      <td>0</td>\n",
       "      <td>0</td>\n",
       "      <td>perfect</td>\n",
       "      <td>middle</td>\n",
       "      <td>noise0</td>\n",
       "      <td>iter0</td>\n",
       "    </tr>\n",
       "  </tbody>\n",
       "</table>\n",
       "</div>"
      ],
      "text/plain": [
       "                    Feature ID  Sample ID  $\\Psi$  Iteration  % Noise  \\\n",
       "0  perfect_middle_noise0_iter0          0     0.5          0        0   \n",
       "1  perfect_middle_noise0_iter0          1     0.5          0        0   \n",
       "2  perfect_middle_noise0_iter0          2     0.5          0        0   \n",
       "3  perfect_middle_noise0_iter0          3     0.5          0        0   \n",
       "4  perfect_middle_noise0_iter0          4     0.5          0        0   \n",
       "\n",
       "       id0     id1     id2    id3  \n",
       "0  perfect  middle  noise0  iter0  \n",
       "1  perfect  middle  noise0  iter0  \n",
       "2  perfect  middle  noise0  iter0  \n",
       "3  perfect  middle  noise0  iter0  \n",
       "4  perfect  middle  noise0  iter0  "
      ]
     },
     "execution_count": 6,
     "metadata": {},
     "output_type": "execute_result"
    }
   ],
   "source": [
    "metadata = pd.read_csv('metadata.csv')\n",
    "metadata.head()"
   ]
  },
  {
   "cell_type": "code",
   "execution_count": 7,
   "metadata": {
    "collapsed": true
   },
   "outputs": [],
   "source": [
    "import bonvoyage"
   ]
  },
  {
   "cell_type": "code",
   "execution_count": 8,
   "metadata": {
    "collapsed": true
   },
   "outputs": [],
   "source": [
    "plot_kinds = 'scatter', 'hex'"
   ]
  },
  {
   "cell_type": "code",
   "execution_count": 9,
   "metadata": {
    "collapsed": false
   },
   "outputs": [
    {
     "data": {
      "text/plain": [
       "'figures/002_waypointplots'"
      ]
     },
     "execution_count": 9,
     "metadata": {},
     "output_type": "execute_result"
    }
   ],
   "source": [
    "folder"
   ]
  },
  {
   "cell_type": "code",
   "execution_count": 10,
   "metadata": {
    "collapsed": false
   },
   "outputs": [
    {
     "data": {
      "image/png": "[encoded data removed]",
      "text/plain": [
       "<matplotlib.figure.Figure at 0x2b8a2306c050>"
      ]
     },
     "metadata": {},
     "output_type": "display_data"
    },
    {
     "data": {
      "image/png": "[encoded data removed]",
      "text/plain": [
       "<matplotlib.figure.Figure at 0x2b8a25502950>"
      ]
     },
     "metadata": {},
     "output_type": "display_data"
    }
   ],
   "source": [
    "\n",
    "for kind in plot_kinds:\n",
    "    fig, ax = plt.subplots(figsize=(1.5, 1.5))\n",
    "    if kind == 'scatter':\n",
    "        kwargs = {'rasterized': True, 'alpha': 0.5}\n",
    "    else:\n",
    "        kwargs = {}\n",
    "    \n",
    "    bonvoyage.waypointplot(waypoints, kind=kind, **kwargs)\n",
    "    fig.tight_layout()\n",
    "    fig.savefig('{}/waypoints_all_{}.pdf'.format(folder, kind), dpi=300)"
   ]
  },
  {
   "cell_type": "code",
   "execution_count": 11,
   "metadata": {
    "collapsed": false
   },
   "outputs": [
    {
     "data": {
      "image/png": "[encoded data removed]",
      "text/plain": [
       "<matplotlib.figure.Figure at 0x2b8a0433bed0>"
      ]
     },
     "metadata": {},
     "output_type": "display_data"
    },
    {
     "data": {
      "image/png": "[encoded data removed]",
      "text/plain": [
       "<matplotlib.figure.Figure at 0x2b8a25a87910>"
      ]
     },
     "metadata": {},
     "output_type": "display_data"
    },
    {
     "data": {
      "image/png": "[encoded data removed]",
      "text/plain": [
       "<matplotlib.figure.Figure at 0x2b8a2bd220d0>"
      ]
     },
     "metadata": {},
     "output_type": "display_data"
    },
    {
     "data": {
      "image/png": "[encoded data removed]",
      "text/plain": [
       "<matplotlib.figure.Figure at 0x2b8a2bd57e50>"
      ]
     },
     "metadata": {},
     "output_type": "display_data"
    },
    {
     "data": {
      "image/png": "[encoded data removed]",
      "text/plain": [
       "<matplotlib.figure.Figure at 0x2b8a2bd9f690>"
      ]
     },
     "metadata": {},
     "output_type": "display_data"
    },
    {
     "data": {
      "image/png": "[encoded data removed]",
      "text/plain": [
       "<matplotlib.figure.Figure at 0x2b8a2be26fd0>"
      ]
     },
     "metadata": {},
     "output_type": "display_data"
    },
    {
     "data": {
      "image/png": "[encoded data removed]",
      "text/plain": [
       "<matplotlib.figure.Figure at 0x2b8a2be69410>"
      ]
     },
     "metadata": {},
     "output_type": "display_data"
    },
    {
     "data": {
      "image/png": "[encoded data removed]",
      "text/plain": [
       "<matplotlib.figure.Figure at 0x2b8a2bed14d0>"
      ]
     },
     "metadata": {},
     "output_type": "display_data"
    }
   ],
   "source": [
    "noise_percentages = 0, 25, 50, 75\n",
    "\n",
    "for noise_percentage in noise_percentages:\n",
    "    \n",
    "    rows = metadata['% Noise'] == noise_percentage\n",
    "    feature_ids = metadata.loc[rows, 'Feature ID']\n",
    "    \n",
    "    waypoints_subset = waypoints.loc[feature_ids]\n",
    "    for kind in plot_kinds:\n",
    "        fig, ax = plt.subplots(figsize=(1.5, 1.5))\n",
    "        kwargs = {'rasterized': True, 'alpha': 0.5} if kind == 'scatter' else {}\n",
    "        \n",
    "        bonvoyage.waypointplot(waypoints_subset, kind=kind, **kwargs)\n",
    "        fig.tight_layout()\n",
    "        fig.savefig('{}/waypoints_noise{}_{}.pdf'.format(folder, noise_percentage, kind), dpi=300)"
   ]
  },
  {
   "cell_type": "code",
   "execution_count": 12,
   "metadata": {
    "collapsed": false
   },
   "outputs": [
    {
     "name": "stdout",
     "output_type": "stream",
     "text": [
      "(5730000, 9)\n"
     ]
    },
    {
     "data": {
      "text/html": [
       "<div>\n",
       "<table border=\"1\" class=\"dataframe\">\n",
       "  <thead>\n",
       "    <tr style=\"text-align: right;\">\n",
       "      <th></th>\n",
       "      <th>Feature ID</th>\n",
       "      <th>Sample ID</th>\n",
       "      <th>$\\Psi$</th>\n",
       "      <th>Iteration</th>\n",
       "      <th>% Noise</th>\n",
       "      <th>id0</th>\n",
       "      <th>id1</th>\n",
       "      <th>id2</th>\n",
       "      <th>id3</th>\n",
       "    </tr>\n",
       "  </thead>\n",
       "  <tbody>\n",
       "    <tr>\n",
       "      <th>0</th>\n",
       "      <td>perfect_middle_noise0_iter0</td>\n",
       "      <td>0</td>\n",
       "      <td>0.5</td>\n",
       "      <td>0</td>\n",
       "      <td>0</td>\n",
       "      <td>perfect</td>\n",
       "      <td>middle</td>\n",
       "      <td>noise0</td>\n",
       "      <td>iter0</td>\n",
       "    </tr>\n",
       "    <tr>\n",
       "      <th>1</th>\n",
       "      <td>perfect_middle_noise0_iter0</td>\n",
       "      <td>1</td>\n",
       "      <td>0.5</td>\n",
       "      <td>0</td>\n",
       "      <td>0</td>\n",
       "      <td>perfect</td>\n",
       "      <td>middle</td>\n",
       "      <td>noise0</td>\n",
       "      <td>iter0</td>\n",
       "    </tr>\n",
       "    <tr>\n",
       "      <th>2</th>\n",
       "      <td>perfect_middle_noise0_iter0</td>\n",
       "      <td>2</td>\n",
       "      <td>0.5</td>\n",
       "      <td>0</td>\n",
       "      <td>0</td>\n",
       "      <td>perfect</td>\n",
       "      <td>middle</td>\n",
       "      <td>noise0</td>\n",
       "      <td>iter0</td>\n",
       "    </tr>\n",
       "    <tr>\n",
       "      <th>3</th>\n",
       "      <td>perfect_middle_noise0_iter0</td>\n",
       "      <td>3</td>\n",
       "      <td>0.5</td>\n",
       "      <td>0</td>\n",
       "      <td>0</td>\n",
       "      <td>perfect</td>\n",
       "      <td>middle</td>\n",
       "      <td>noise0</td>\n",
       "      <td>iter0</td>\n",
       "    </tr>\n",
       "    <tr>\n",
       "      <th>4</th>\n",
       "      <td>perfect_middle_noise0_iter0</td>\n",
       "      <td>4</td>\n",
       "      <td>0.5</td>\n",
       "      <td>0</td>\n",
       "      <td>0</td>\n",
       "      <td>perfect</td>\n",
       "      <td>middle</td>\n",
       "      <td>noise0</td>\n",
       "      <td>iter0</td>\n",
       "    </tr>\n",
       "  </tbody>\n",
       "</table>\n",
       "</div>"
      ],
      "text/plain": [
       "                    Feature ID  Sample ID  $\\Psi$  Iteration  % Noise  \\\n",
       "0  perfect_middle_noise0_iter0          0     0.5          0        0   \n",
       "1  perfect_middle_noise0_iter0          1     0.5          0        0   \n",
       "2  perfect_middle_noise0_iter0          2     0.5          0        0   \n",
       "3  perfect_middle_noise0_iter0          3     0.5          0        0   \n",
       "4  perfect_middle_noise0_iter0          4     0.5          0        0   \n",
       "\n",
       "       id0     id1     id2    id3  \n",
       "0  perfect  middle  noise0  iter0  \n",
       "1  perfect  middle  noise0  iter0  \n",
       "2  perfect  middle  noise0  iter0  \n",
       "3  perfect  middle  noise0  iter0  \n",
       "4  perfect  middle  noise0  iter0  "
      ]
     },
     "execution_count": 12,
     "metadata": {},
     "output_type": "execute_result"
    }
   ],
   "source": [
    "tidy_metadata = pd.read_csv('metadata.csv')\n",
    "print(tidy_metadata.shape)\n",
    "tidy_metadata.head()"
   ]
  },
  {
   "cell_type": "code",
   "execution_count": 13,
   "metadata": {
    "collapsed": false
   },
   "outputs": [
    {
     "name": "stdout",
     "output_type": "stream",
     "text": [
      "(57300, 9)\n"
     ]
    },
    {
     "data": {
      "text/html": [
       "<div>\n",
       "<table border=\"1\" class=\"dataframe\">\n",
       "  <thead>\n",
       "    <tr style=\"text-align: right;\">\n",
       "      <th></th>\n",
       "      <th>Feature ID</th>\n",
       "      <th>Sample ID</th>\n",
       "      <th>$\\Psi$</th>\n",
       "      <th>Iteration</th>\n",
       "      <th>% Noise</th>\n",
       "      <th>id0</th>\n",
       "      <th>id1</th>\n",
       "      <th>id2</th>\n",
       "      <th>id3</th>\n",
       "    </tr>\n",
       "  </thead>\n",
       "  <tbody>\n",
       "    <tr>\n",
       "      <th>0</th>\n",
       "      <td>perfect_middle_noise0_iter0</td>\n",
       "      <td>0</td>\n",
       "      <td>0.5</td>\n",
       "      <td>0</td>\n",
       "      <td>0</td>\n",
       "      <td>perfect</td>\n",
       "      <td>middle</td>\n",
       "      <td>noise0</td>\n",
       "      <td>iter0</td>\n",
       "    </tr>\n",
       "    <tr>\n",
       "      <th>100</th>\n",
       "      <td>middle0_00_noise0_iter0</td>\n",
       "      <td>0</td>\n",
       "      <td>0.0</td>\n",
       "      <td>0</td>\n",
       "      <td>0</td>\n",
       "      <td>middle0</td>\n",
       "      <td>00</td>\n",
       "      <td>noise0</td>\n",
       "      <td>iter0</td>\n",
       "    </tr>\n",
       "    <tr>\n",
       "      <th>200</th>\n",
       "      <td>middle0_01_noise0_iter0</td>\n",
       "      <td>0</td>\n",
       "      <td>0.0</td>\n",
       "      <td>0</td>\n",
       "      <td>0</td>\n",
       "      <td>middle0</td>\n",
       "      <td>01</td>\n",
       "      <td>noise0</td>\n",
       "      <td>iter0</td>\n",
       "    </tr>\n",
       "    <tr>\n",
       "      <th>300</th>\n",
       "      <td>middle0_02_noise0_iter0</td>\n",
       "      <td>0</td>\n",
       "      <td>0.0</td>\n",
       "      <td>0</td>\n",
       "      <td>0</td>\n",
       "      <td>middle0</td>\n",
       "      <td>02</td>\n",
       "      <td>noise0</td>\n",
       "      <td>iter0</td>\n",
       "    </tr>\n",
       "    <tr>\n",
       "      <th>400</th>\n",
       "      <td>middle0_03_noise0_iter0</td>\n",
       "      <td>0</td>\n",
       "      <td>0.0</td>\n",
       "      <td>0</td>\n",
       "      <td>0</td>\n",
       "      <td>middle0</td>\n",
       "      <td>03</td>\n",
       "      <td>noise0</td>\n",
       "      <td>iter0</td>\n",
       "    </tr>\n",
       "  </tbody>\n",
       "</table>\n",
       "</div>"
      ],
      "text/plain": [
       "                      Feature ID  Sample ID  $\\Psi$  Iteration  % Noise  \\\n",
       "0    perfect_middle_noise0_iter0          0     0.5          0        0   \n",
       "100      middle0_00_noise0_iter0          0     0.0          0        0   \n",
       "200      middle0_01_noise0_iter0          0     0.0          0        0   \n",
       "300      middle0_02_noise0_iter0          0     0.0          0        0   \n",
       "400      middle0_03_noise0_iter0          0     0.0          0        0   \n",
       "\n",
       "         id0     id1     id2    id3  \n",
       "0    perfect  middle  noise0  iter0  \n",
       "100  middle0      00  noise0  iter0  \n",
       "200  middle0      01  noise0  iter0  \n",
       "300  middle0      02  noise0  iter0  \n",
       "400  middle0      03  noise0  iter0  "
      ]
     },
     "execution_count": 13,
     "metadata": {},
     "output_type": "execute_result"
    }
   ],
   "source": [
    "# tidy_metadata = tidy_metadata.drop('Sample ID', axis=1)\n",
    "tidy_metadata = tidy_metadata.drop_duplicates(subset=['Feature ID'])\n",
    "print(tidy_metadata.shape)\n",
    "tidy_metadata.head()"
   ]
  },
  {
   "cell_type": "code",
   "execution_count": 14,
   "metadata": {
    "collapsed": false
   },
   "outputs": [],
   "source": [
    "noise_levels = tidy_metadata['% Noise'].isin([0, 25, 50, 75])\n",
    "\n",
    "perfects = tidy_metadata['Feature ID'].str.contains('perfect')\n",
    "middles = tidy_metadata['Feature ID'].str.startswith('middle') #& tidy_metadata['id1'].isin(['25', '50', '75'])\n",
    "bimodals = tidy_metadata['Feature ID'].str.startswith('bimodal') #& tidy_metadata['id1'].isin(['25', '50', '75'])\n",
    "\n",
    "row_subsets = perfects, bimodals, middles\n"
   ]
  },
  {
   "cell_type": "code",
   "execution_count": 15,
   "metadata": {
    "collapsed": false
   },
   "outputs": [
    {
     "name": "stdout",
     "output_type": "stream",
     "text": [
      "(9300, 9)\n"
     ]
    },
    {
     "data": {
      "text/html": [
       "<div>\n",
       "<table border=\"1\" class=\"dataframe\">\n",
       "  <thead>\n",
       "    <tr style=\"text-align: right;\">\n",
       "      <th></th>\n",
       "      <th>Feature ID</th>\n",
       "      <th>Sample ID</th>\n",
       "      <th>$\\Psi$</th>\n",
       "      <th>Iteration</th>\n",
       "      <th>% Noise</th>\n",
       "      <th>id0</th>\n",
       "      <th>id1</th>\n",
       "      <th>id2</th>\n",
       "      <th>id3</th>\n",
       "    </tr>\n",
       "  </thead>\n",
       "  <tbody>\n",
       "    <tr>\n",
       "      <th>0</th>\n",
       "      <td>perfect_middle_noise0_iter0</td>\n",
       "      <td>0</td>\n",
       "      <td>0.5</td>\n",
       "      <td>0</td>\n",
       "      <td>0</td>\n",
       "      <td>perfect</td>\n",
       "      <td>middle</td>\n",
       "      <td>noise0</td>\n",
       "      <td>iter0</td>\n",
       "    </tr>\n",
       "    <tr>\n",
       "      <th>1</th>\n",
       "      <td>perfect_included_noise0_iter0</td>\n",
       "      <td>0</td>\n",
       "      <td>1.0</td>\n",
       "      <td>0</td>\n",
       "      <td>0</td>\n",
       "      <td>perfect</td>\n",
       "      <td>included</td>\n",
       "      <td>noise0</td>\n",
       "      <td>iter0</td>\n",
       "    </tr>\n",
       "    <tr>\n",
       "      <th>2</th>\n",
       "      <td>perfect_excluded_noise0_iter0</td>\n",
       "      <td>0</td>\n",
       "      <td>0.0</td>\n",
       "      <td>0</td>\n",
       "      <td>0</td>\n",
       "      <td>perfect</td>\n",
       "      <td>excluded</td>\n",
       "      <td>noise0</td>\n",
       "      <td>iter0</td>\n",
       "    </tr>\n",
       "    <tr>\n",
       "      <th>3</th>\n",
       "      <td>perfect_middle_noise25_iter0</td>\n",
       "      <td>0</td>\n",
       "      <td>0.5</td>\n",
       "      <td>0</td>\n",
       "      <td>25</td>\n",
       "      <td>perfect</td>\n",
       "      <td>middle</td>\n",
       "      <td>noise25</td>\n",
       "      <td>iter0</td>\n",
       "    </tr>\n",
       "    <tr>\n",
       "      <th>4</th>\n",
       "      <td>perfect_included_noise25_iter0</td>\n",
       "      <td>0</td>\n",
       "      <td>1.0</td>\n",
       "      <td>0</td>\n",
       "      <td>25</td>\n",
       "      <td>perfect</td>\n",
       "      <td>included</td>\n",
       "      <td>noise25</td>\n",
       "      <td>iter0</td>\n",
       "    </tr>\n",
       "  </tbody>\n",
       "</table>\n",
       "</div>"
      ],
      "text/plain": [
       "                       Feature ID  Sample ID  $\\Psi$  Iteration  % Noise  \\\n",
       "0     perfect_middle_noise0_iter0          0     0.5          0        0   \n",
       "1   perfect_included_noise0_iter0          0     1.0          0        0   \n",
       "2   perfect_excluded_noise0_iter0          0     0.0          0        0   \n",
       "3    perfect_middle_noise25_iter0          0     0.5          0       25   \n",
       "4  perfect_included_noise25_iter0          0     1.0          0       25   \n",
       "\n",
       "       id0       id1      id2    id3  \n",
       "0  perfect    middle   noise0  iter0  \n",
       "1  perfect  included   noise0  iter0  \n",
       "2  perfect  excluded   noise0  iter0  \n",
       "3  perfect    middle  noise25  iter0  \n",
       "4  perfect  included  noise25  iter0  "
      ]
     },
     "execution_count": 15,
     "metadata": {},
     "output_type": "execute_result"
    }
   ],
   "source": [
    "dfs = []\n",
    "\n",
    "for rows in row_subsets:\n",
    "    df = tidy_metadata.loc[rows & noise_levels]\n",
    "    dfs.append(df)\n",
    "tidy_subset = pd.concat(dfs, ignore_index=True)\n",
    "six.print_(tidy_subset.shape)\n",
    "tidy_subset.head()"
   ]
  },
  {
   "cell_type": "code",
   "execution_count": 16,
   "metadata": {
    "collapsed": false
   },
   "outputs": [],
   "source": [
    "figure_folder = 'figures/002_waypointplots'\n",
    "! mkdir -p $figure_folder"
   ]
  },
  {
   "cell_type": "code",
   "execution_count": 17,
   "metadata": {
    "collapsed": true
   },
   "outputs": [],
   "source": [
    "%matplotlib inline"
   ]
  },
  {
   "cell_type": "code",
   "execution_count": 18,
   "metadata": {
    "collapsed": true
   },
   "outputs": [],
   "source": [
    "from anchor import MODALITY_TO_COLOR"
   ]
  },
  {
   "cell_type": "code",
   "execution_count": 19,
   "metadata": {
    "collapsed": true
   },
   "outputs": [],
   "source": [
    "from bonvoyage.visualize import NEAR_ZERO, NEAR_ONE"
   ]
  },
  {
   "cell_type": "code",
   "execution_count": 46,
   "metadata": {
    "collapsed": false
   },
   "outputs": [],
   "source": [
    "sns.set(style='white', context='paper')"
   ]
  },
  {
   "cell_type": "code",
   "execution_count": 52,
   "metadata": {
    "collapsed": false,
    "scrolled": false
   },
   "outputs": [
    {
     "name": "stdout",
     "output_type": "stream",
     "text": [
      "bimodal\n",
      "\t (3069, 10)\n",
      "middle0\n",
      "\t (3069, 10)\n",
      "middle1\n",
      "\t (3069, 10)\n",
      "perfect\n"
     ]
    },
    {
     "data": {
      "image/png": "[encoded data removed]",
      "text/plain": [
       "<matplotlib.figure.Figure at 0x2b8a2bed1910>"
      ]
     },
     "metadata": {},
     "output_type": "display_data"
    },
    {
     "data": {
      "image/png": "[encoded data removed]",
      "text/plain": [
       "<matplotlib.figure.Figure at 0x2b8a2ccb7810>"
      ]
     },
     "metadata": {},
     "output_type": "display_data"
    },
    {
     "data": {
      "image/png": "[encoded data removed]",
      "text/plain": [
       "<matplotlib.figure.Figure at 0x2b8a2c9e8090>"
      ]
     },
     "metadata": {},
     "output_type": "display_data"
    }
   ],
   "source": [
    "def waypointplot_facet(**kwargs):\n",
    "    data = kwargs.pop('data')\n",
    "    return bonvoyage.waypointplot(data, **kwargs)\n",
    "\n",
    "def scatter(x, y, *args, **kwargs):\n",
    "    \"\"\"Special scatter that assigns unique colors to each point based on the palette\"\"\"\n",
    "    palette = kwargs.pop('palette')\n",
    "    kwargs.pop('color')\n",
    "    color = sns.color_palette(palette, n_colors=len(x))\n",
    "    return plt.scatter(x, y, color=color, *args, **kwargs)\n",
    "                              \n",
    "for group, df in tidy_subset.groupby('id0'):\n",
    "    palette = None\n",
    "    six.print_(group)\n",
    "    \n",
    "    if group == 'bimodal':\n",
    "        palette = \"RdBu\"\n",
    "    elif group == 'middle0':\n",
    "        palette = 'YlGnBu'\n",
    "    elif group == 'middle1':\n",
    "        palette = 'YlOrRd'\n",
    "    elif group == 'perfect':\n",
    "        continue\n",
    "#         palette = [MODALITY_TO_COLOR[m] for m in df['id1'].unique()]\n",
    "        \n",
    "        \n",
    "    waypoints_subset = waypoints.loc[df['Feature ID']]\n",
    "    data = pd.concat([waypoints_subset, df.set_index('Feature ID')], axis=1)\n",
    "    data = data.rename(columns={'0': NEAR_ZERO, '1': NEAR_ONE})\n",
    "    data = data.sort_values('id1')\n",
    "    print('\\t', data.shape)\n",
    "#     print(data[[0, 1]].head())\n",
    "    \n",
    "    \n",
    "    g = sns.FacetGrid(col='% Noise', data=data, aspect=1, size=2)\n",
    "    g.map(scatter, NEAR_ZERO, NEAR_ONE, linewidth=0.1, \n",
    "          edgecolor='#262626', palette=palette, rasterized=True)\n",
    "    sns.despine(offset=3)\n",
    "    g.set(#xlabel=NEAR_ZERO, ylabel=NEAR_ONE,\n",
    "           xticks=[], yticks=[], ylim=(0, 1.05),\n",
    "           xlim=(0, 1.05))\n",
    "    for ax in g.axes.flat:\n",
    "        ax.plot([0, 1], [1, 0], color='k', linewidth=0.5, linestyle='--')\n",
    "\n",
    "#     if group == 'perfect':\n",
    "#         for ax in g.axes.flat:\n",
    "#             plt.setp(ax.get_xticklabels(), rotation=30)\n",
    "#     g.savefig('{}/data_{}_waypoints.pdf'.format(figure_folder, group))"
   ]
  },
  {
   "cell_type": "code",
   "execution_count": 35,
   "metadata": {
    "collapsed": false
   },
   "outputs": [
    {
     "data": {
      "text/html": [
       "<div>\n",
       "<table border=\"1\" class=\"dataframe\">\n",
       "  <thead>\n",
       "    <tr style=\"text-align: right;\">\n",
       "      <th></th>\n",
       "      <th>excluded</th>\n",
       "      <th>included</th>\n",
       "      <th>Sample ID</th>\n",
       "      <th>$\\Psi$</th>\n",
       "      <th>Iteration</th>\n",
       "      <th>% Noise</th>\n",
       "      <th>id0</th>\n",
       "      <th>id1</th>\n",
       "      <th>id2</th>\n",
       "      <th>id3</th>\n",
       "    </tr>\n",
       "    <tr>\n",
       "      <th>Feature ID</th>\n",
       "      <th></th>\n",
       "      <th></th>\n",
       "      <th></th>\n",
       "      <th></th>\n",
       "      <th></th>\n",
       "      <th></th>\n",
       "      <th></th>\n",
       "      <th></th>\n",
       "      <th></th>\n",
       "      <th></th>\n",
       "    </tr>\n",
       "  </thead>\n",
       "  <tbody>\n",
       "    <tr>\n",
       "      <th>middle1_00_noise0_iter0</th>\n",
       "      <td>0.00</td>\n",
       "      <td>0.01</td>\n",
       "      <td>0</td>\n",
       "      <td>1.000000</td>\n",
       "      <td>0</td>\n",
       "      <td>0</td>\n",
       "      <td>middle1</td>\n",
       "      <td>00</td>\n",
       "      <td>noise0</td>\n",
       "      <td>iter0</td>\n",
       "    </tr>\n",
       "    <tr>\n",
       "      <th>middle1_00_noise50_iter1</th>\n",
       "      <td>0.06</td>\n",
       "      <td>0.08</td>\n",
       "      <td>0</td>\n",
       "      <td>0.051019</td>\n",
       "      <td>1</td>\n",
       "      <td>50</td>\n",
       "      <td>middle1</td>\n",
       "      <td>00</td>\n",
       "      <td>noise50</td>\n",
       "      <td>iter1</td>\n",
       "    </tr>\n",
       "    <tr>\n",
       "      <th>middle1_00_noise50_iter8</th>\n",
       "      <td>0.05</td>\n",
       "      <td>0.03</td>\n",
       "      <td>0</td>\n",
       "      <td>0.246821</td>\n",
       "      <td>8</td>\n",
       "      <td>50</td>\n",
       "      <td>middle1</td>\n",
       "      <td>00</td>\n",
       "      <td>noise50</td>\n",
       "      <td>iter8</td>\n",
       "    </tr>\n",
       "    <tr>\n",
       "      <th>middle1_00_noise50_iter7</th>\n",
       "      <td>0.05</td>\n",
       "      <td>0.07</td>\n",
       "      <td>0</td>\n",
       "      <td>1.000000</td>\n",
       "      <td>7</td>\n",
       "      <td>50</td>\n",
       "      <td>middle1</td>\n",
       "      <td>00</td>\n",
       "      <td>noise50</td>\n",
       "      <td>iter7</td>\n",
       "    </tr>\n",
       "    <tr>\n",
       "      <th>middle1_00_noise75_iter6</th>\n",
       "      <td>0.10</td>\n",
       "      <td>0.12</td>\n",
       "      <td>0</td>\n",
       "      <td>1.000000</td>\n",
       "      <td>6</td>\n",
       "      <td>75</td>\n",
       "      <td>middle1</td>\n",
       "      <td>00</td>\n",
       "      <td>noise75</td>\n",
       "      <td>iter6</td>\n",
       "    </tr>\n",
       "  </tbody>\n",
       "</table>\n",
       "</div>"
      ],
      "text/plain": [
       "                          excluded  included  Sample ID    $\\Psi$  Iteration  \\\n",
       "Feature ID                                                                     \n",
       "middle1_00_noise0_iter0       0.00      0.01          0  1.000000          0   \n",
       "middle1_00_noise50_iter1      0.06      0.08          0  0.051019          1   \n",
       "middle1_00_noise50_iter8      0.05      0.03          0  0.246821          8   \n",
       "middle1_00_noise50_iter7      0.05      0.07          0  1.000000          7   \n",
       "middle1_00_noise75_iter6      0.10      0.12          0  1.000000          6   \n",
       "\n",
       "                          % Noise      id0 id1      id2    id3  \n",
       "Feature ID                                                      \n",
       "middle1_00_noise0_iter0         0  middle1  00   noise0  iter0  \n",
       "middle1_00_noise50_iter1       50  middle1  00  noise50  iter1  \n",
       "middle1_00_noise50_iter8       50  middle1  00  noise50  iter8  \n",
       "middle1_00_noise50_iter7       50  middle1  00  noise50  iter7  \n",
       "middle1_00_noise75_iter6       75  middle1  00  noise75  iter6  "
      ]
     },
     "execution_count": 35,
     "metadata": {},
     "output_type": "execute_result"
    }
   ],
   "source": [
    "data.head()"
   ]
  },
  {
   "cell_type": "code",
   "execution_count": 36,
   "metadata": {
    "collapsed": false
   },
   "outputs": [
    {
     "data": {
      "text/html": [
       "<div>\n",
       "<table border=\"1\" class=\"dataframe\">\n",
       "  <thead>\n",
       "    <tr style=\"text-align: right;\">\n",
       "      <th></th>\n",
       "      <th>excluded</th>\n",
       "      <th>included</th>\n",
       "      <th>Sample ID</th>\n",
       "      <th>$\\Psi$</th>\n",
       "      <th>Iteration</th>\n",
       "      <th>% Noise</th>\n",
       "      <th>id0</th>\n",
       "      <th>id1</th>\n",
       "      <th>id2</th>\n",
       "      <th>id3</th>\n",
       "    </tr>\n",
       "    <tr>\n",
       "      <th>Feature ID</th>\n",
       "      <th></th>\n",
       "      <th></th>\n",
       "      <th></th>\n",
       "      <th></th>\n",
       "      <th></th>\n",
       "      <th></th>\n",
       "      <th></th>\n",
       "      <th></th>\n",
       "      <th></th>\n",
       "      <th></th>\n",
       "    </tr>\n",
       "  </thead>\n",
       "  <tbody>\n",
       "    <tr>\n",
       "      <th>middle1_98_noise25_iter4</th>\n",
       "      <td>0.04</td>\n",
       "      <td>0.76</td>\n",
       "      <td>0</td>\n",
       "      <td>1.000000</td>\n",
       "      <td>4</td>\n",
       "      <td>25</td>\n",
       "      <td>middle1</td>\n",
       "      <td>98</td>\n",
       "      <td>noise25</td>\n",
       "      <td>iter4</td>\n",
       "    </tr>\n",
       "    <tr>\n",
       "      <th>middle1_98_noise25_iter5</th>\n",
       "      <td>0.01</td>\n",
       "      <td>0.80</td>\n",
       "      <td>0</td>\n",
       "      <td>1.000000</td>\n",
       "      <td>5</td>\n",
       "      <td>25</td>\n",
       "      <td>middle1</td>\n",
       "      <td>98</td>\n",
       "      <td>noise25</td>\n",
       "      <td>iter5</td>\n",
       "    </tr>\n",
       "    <tr>\n",
       "      <th>middle1_98_noise50_iter0</th>\n",
       "      <td>0.02</td>\n",
       "      <td>0.54</td>\n",
       "      <td>0</td>\n",
       "      <td>0.934804</td>\n",
       "      <td>0</td>\n",
       "      <td>50</td>\n",
       "      <td>middle1</td>\n",
       "      <td>98</td>\n",
       "      <td>noise50</td>\n",
       "      <td>iter0</td>\n",
       "    </tr>\n",
       "    <tr>\n",
       "      <th>middle1_98_noise75_iter3</th>\n",
       "      <td>0.05</td>\n",
       "      <td>0.35</td>\n",
       "      <td>0</td>\n",
       "      <td>0.044766</td>\n",
       "      <td>3</td>\n",
       "      <td>75</td>\n",
       "      <td>middle1</td>\n",
       "      <td>98</td>\n",
       "      <td>noise75</td>\n",
       "      <td>iter3</td>\n",
       "    </tr>\n",
       "    <tr>\n",
       "      <th>middle1_98_noise75_iter9</th>\n",
       "      <td>0.14</td>\n",
       "      <td>0.27</td>\n",
       "      <td>0</td>\n",
       "      <td>0.270905</td>\n",
       "      <td>9</td>\n",
       "      <td>75</td>\n",
       "      <td>middle1</td>\n",
       "      <td>98</td>\n",
       "      <td>noise75</td>\n",
       "      <td>iter9</td>\n",
       "    </tr>\n",
       "  </tbody>\n",
       "</table>\n",
       "</div>"
      ],
      "text/plain": [
       "                          excluded  included  Sample ID    $\\Psi$  Iteration  \\\n",
       "Feature ID                                                                     \n",
       "middle1_98_noise25_iter4      0.04      0.76          0  1.000000          4   \n",
       "middle1_98_noise25_iter5      0.01      0.80          0  1.000000          5   \n",
       "middle1_98_noise50_iter0      0.02      0.54          0  0.934804          0   \n",
       "middle1_98_noise75_iter3      0.05      0.35          0  0.044766          3   \n",
       "middle1_98_noise75_iter9      0.14      0.27          0  0.270905          9   \n",
       "\n",
       "                          % Noise      id0 id1      id2    id3  \n",
       "Feature ID                                                      \n",
       "middle1_98_noise25_iter4       25  middle1  98  noise25  iter4  \n",
       "middle1_98_noise25_iter5       25  middle1  98  noise25  iter5  \n",
       "middle1_98_noise50_iter0       50  middle1  98  noise50  iter0  \n",
       "middle1_98_noise75_iter3       75  middle1  98  noise75  iter3  \n",
       "middle1_98_noise75_iter9       75  middle1  98  noise75  iter9  "
      ]
     },
     "execution_count": 36,
     "metadata": {},
     "output_type": "execute_result"
    }
   ],
   "source": [
    "data.tail()"
   ]
  },
  {
   "cell_type": "code",
   "execution_count": 23,
   "metadata": {
    "collapsed": false
   },
   "outputs": [
    {
     "data": {
      "text/plain": [
       "Index([u'excluded', u'included', u'Sample ID', u'$\\Psi$', u'Iteration',\n",
       "       u'% Noise', u'id0', u'id1', u'id2', u'id3'],\n",
       "      dtype='object')"
      ]
     },
     "execution_count": 23,
     "metadata": {},
     "output_type": "execute_result"
    }
   ],
   "source": [
    "\n",
    "data.columns"
   ]
  },
  {
   "cell_type": "code",
   "execution_count": null,
   "metadata": {
    "collapsed": true
   },
   "outputs": [],
   "source": []
  }
 ],
 "metadata": {
  "kernelspec": {
   "display_name": "Python 2",
   "language": "python",
   "name": "python2"
  },
  "language_info": {
   "codemirror_mode": {
    "name": "ipython",
    "version": 2
   },
   "file_extension": ".py",
   "mimetype": "text/x-python",
   "name": "python",
   "nbconvert_exporter": "python",
   "pygments_lexer": "ipython2",
   "version": "2.7.11"
  }
 },
 "nbformat": 4,
 "nbformat_minor": 0
}
