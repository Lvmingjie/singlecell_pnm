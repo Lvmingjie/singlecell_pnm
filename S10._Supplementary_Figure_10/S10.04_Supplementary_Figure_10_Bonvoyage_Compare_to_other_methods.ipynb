{
 "cells": [
  {
   "cell_type": "code",
   "execution_count": 1,
   "metadata": {
    "collapsed": false
   },
   "outputs": [
    {
     "name": "stderr",
     "output_type": "stream",
     "text": [
      "/home/obotvinnik/anaconda/lib/python2.7/site-packages/matplotlib/__init__.py:810: UserWarning: Found matplotlib configuration in ~/.matplotlib/. To conform with the XDG base directory standard, this configuration location has been deprecated on Linux, and the new location is now /home/obotvinnik/.config/matplotlib/. Please move your configuration there to ensure that matplotlib will continue to find it in the future.\n",
      "  _get_xdg_config_dir())\n"
     ]
    },
    {
     "data": {
      "text/html": [
       "<div>\n",
       "<table border=\"1\" class=\"dataframe\">\n",
       "  <thead>\n",
       "    <tr style=\"text-align: right;\">\n",
       "      <th></th>\n",
       "      <th>perfect_middle_noise0_iter0</th>\n",
       "      <th>middle0_00_noise0_iter0</th>\n",
       "      <th>middle0_01_noise0_iter0</th>\n",
       "      <th>middle0_02_noise0_iter0</th>\n",
       "      <th>middle0_03_noise0_iter0</th>\n",
       "      <th>middle0_04_noise0_iter0</th>\n",
       "      <th>middle0_05_noise0_iter0</th>\n",
       "      <th>middle0_06_noise0_iter0</th>\n",
       "      <th>middle0_07_noise0_iter0</th>\n",
       "      <th>middle0_08_noise0_iter0</th>\n",
       "      <th>...</th>\n",
       "      <th>bimodal_91_noise100_iter9</th>\n",
       "      <th>bimodal_92_noise100_iter9</th>\n",
       "      <th>bimodal_93_noise100_iter9</th>\n",
       "      <th>bimodal_94_noise100_iter9</th>\n",
       "      <th>bimodal_95_noise100_iter9</th>\n",
       "      <th>bimodal_96_noise100_iter9</th>\n",
       "      <th>bimodal_97_noise100_iter9</th>\n",
       "      <th>bimodal_98_noise100_iter9</th>\n",
       "      <th>perfect_included_noise100_iter9</th>\n",
       "      <th>perfect_excluded_noise100_iter9</th>\n",
       "    </tr>\n",
       "  </thead>\n",
       "  <tbody>\n",
       "    <tr>\n",
       "      <th>0</th>\n",
       "      <td>0.5</td>\n",
       "      <td>0.0</td>\n",
       "      <td>0.0</td>\n",
       "      <td>0.0</td>\n",
       "      <td>0.0</td>\n",
       "      <td>0</td>\n",
       "      <td>0</td>\n",
       "      <td>0</td>\n",
       "      <td>0</td>\n",
       "      <td>0</td>\n",
       "      <td>...</td>\n",
       "      <td>0.756519</td>\n",
       "      <td>0.123426</td>\n",
       "      <td>0.156010</td>\n",
       "      <td>0.397855</td>\n",
       "      <td>0.689124</td>\n",
       "      <td>0.822287</td>\n",
       "      <td>0.059486</td>\n",
       "      <td>0.032697</td>\n",
       "      <td>0.175249</td>\n",
       "      <td>0.673825</td>\n",
       "    </tr>\n",
       "    <tr>\n",
       "      <th>1</th>\n",
       "      <td>0.5</td>\n",
       "      <td>0.5</td>\n",
       "      <td>0.0</td>\n",
       "      <td>0.0</td>\n",
       "      <td>0.0</td>\n",
       "      <td>0</td>\n",
       "      <td>0</td>\n",
       "      <td>0</td>\n",
       "      <td>0</td>\n",
       "      <td>0</td>\n",
       "      <td>...</td>\n",
       "      <td>0.416175</td>\n",
       "      <td>0.688381</td>\n",
       "      <td>0.876422</td>\n",
       "      <td>0.153659</td>\n",
       "      <td>0.406306</td>\n",
       "      <td>0.714781</td>\n",
       "      <td>0.452631</td>\n",
       "      <td>0.890333</td>\n",
       "      <td>0.495503</td>\n",
       "      <td>0.194227</td>\n",
       "    </tr>\n",
       "    <tr>\n",
       "      <th>2</th>\n",
       "      <td>0.5</td>\n",
       "      <td>0.5</td>\n",
       "      <td>0.5</td>\n",
       "      <td>0.0</td>\n",
       "      <td>0.0</td>\n",
       "      <td>0</td>\n",
       "      <td>0</td>\n",
       "      <td>0</td>\n",
       "      <td>0</td>\n",
       "      <td>0</td>\n",
       "      <td>...</td>\n",
       "      <td>0.400526</td>\n",
       "      <td>0.012098</td>\n",
       "      <td>0.391870</td>\n",
       "      <td>0.681438</td>\n",
       "      <td>0.714112</td>\n",
       "      <td>0.587022</td>\n",
       "      <td>0.997617</td>\n",
       "      <td>0.179406</td>\n",
       "      <td>0.094149</td>\n",
       "      <td>0.551203</td>\n",
       "    </tr>\n",
       "    <tr>\n",
       "      <th>3</th>\n",
       "      <td>0.5</td>\n",
       "      <td>0.5</td>\n",
       "      <td>0.5</td>\n",
       "      <td>0.5</td>\n",
       "      <td>0.0</td>\n",
       "      <td>0</td>\n",
       "      <td>0</td>\n",
       "      <td>0</td>\n",
       "      <td>0</td>\n",
       "      <td>0</td>\n",
       "      <td>...</td>\n",
       "      <td>0.153326</td>\n",
       "      <td>0.399814</td>\n",
       "      <td>0.843777</td>\n",
       "      <td>0.106176</td>\n",
       "      <td>0.125045</td>\n",
       "      <td>0.765685</td>\n",
       "      <td>0.582473</td>\n",
       "      <td>0.797105</td>\n",
       "      <td>0.886579</td>\n",
       "      <td>0.486906</td>\n",
       "    </tr>\n",
       "    <tr>\n",
       "      <th>4</th>\n",
       "      <td>0.5</td>\n",
       "      <td>0.5</td>\n",
       "      <td>0.5</td>\n",
       "      <td>0.5</td>\n",
       "      <td>0.5</td>\n",
       "      <td>0</td>\n",
       "      <td>0</td>\n",
       "      <td>0</td>\n",
       "      <td>0</td>\n",
       "      <td>0</td>\n",
       "      <td>...</td>\n",
       "      <td>0.569110</td>\n",
       "      <td>0.288521</td>\n",
       "      <td>0.049904</td>\n",
       "      <td>0.312614</td>\n",
       "      <td>0.213312</td>\n",
       "      <td>0.666463</td>\n",
       "      <td>0.798311</td>\n",
       "      <td>0.552320</td>\n",
       "      <td>0.399732</td>\n",
       "      <td>0.078480</td>\n",
       "    </tr>\n",
       "  </tbody>\n",
       "</table>\n",
       "<p>5 rows × 60300 columns</p>\n",
       "</div>"
      ],
      "text/plain": [
       "   perfect_middle_noise0_iter0  middle0_00_noise0_iter0  \\\n",
       "0                          0.5                      0.0   \n",
       "1                          0.5                      0.5   \n",
       "2                          0.5                      0.5   \n",
       "3                          0.5                      0.5   \n",
       "4                          0.5                      0.5   \n",
       "\n",
       "   middle0_01_noise0_iter0  middle0_02_noise0_iter0  middle0_03_noise0_iter0  \\\n",
       "0                      0.0                      0.0                      0.0   \n",
       "1                      0.0                      0.0                      0.0   \n",
       "2                      0.5                      0.0                      0.0   \n",
       "3                      0.5                      0.5                      0.0   \n",
       "4                      0.5                      0.5                      0.5   \n",
       "\n",
       "   middle0_04_noise0_iter0  middle0_05_noise0_iter0  middle0_06_noise0_iter0  \\\n",
       "0                        0                        0                        0   \n",
       "1                        0                        0                        0   \n",
       "2                        0                        0                        0   \n",
       "3                        0                        0                        0   \n",
       "4                        0                        0                        0   \n",
       "\n",
       "   middle0_07_noise0_iter0  middle0_08_noise0_iter0  \\\n",
       "0                        0                        0   \n",
       "1                        0                        0   \n",
       "2                        0                        0   \n",
       "3                        0                        0   \n",
       "4                        0                        0   \n",
       "\n",
       "                ...                 bimodal_91_noise100_iter9  \\\n",
       "0               ...                                  0.756519   \n",
       "1               ...                                  0.416175   \n",
       "2               ...                                  0.400526   \n",
       "3               ...                                  0.153326   \n",
       "4               ...                                  0.569110   \n",
       "\n",
       "   bimodal_92_noise100_iter9  bimodal_93_noise100_iter9  \\\n",
       "0                   0.123426                   0.156010   \n",
       "1                   0.688381                   0.876422   \n",
       "2                   0.012098                   0.391870   \n",
       "3                   0.399814                   0.843777   \n",
       "4                   0.288521                   0.049904   \n",
       "\n",
       "   bimodal_94_noise100_iter9  bimodal_95_noise100_iter9  \\\n",
       "0                   0.397855                   0.689124   \n",
       "1                   0.153659                   0.406306   \n",
       "2                   0.681438                   0.714112   \n",
       "3                   0.106176                   0.125045   \n",
       "4                   0.312614                   0.213312   \n",
       "\n",
       "   bimodal_96_noise100_iter9  bimodal_97_noise100_iter9  \\\n",
       "0                   0.822287                   0.059486   \n",
       "1                   0.714781                   0.452631   \n",
       "2                   0.587022                   0.997617   \n",
       "3                   0.765685                   0.582473   \n",
       "4                   0.666463                   0.798311   \n",
       "\n",
       "   bimodal_98_noise100_iter9  perfect_included_noise100_iter9  \\\n",
       "0                   0.032697                         0.175249   \n",
       "1                   0.890333                         0.495503   \n",
       "2                   0.179406                         0.094149   \n",
       "3                   0.797105                         0.886579   \n",
       "4                   0.552320                         0.399732   \n",
       "\n",
       "   perfect_excluded_noise100_iter9  \n",
       "0                         0.673825  \n",
       "1                         0.194227  \n",
       "2                         0.551203  \n",
       "3                         0.486906  \n",
       "4                         0.078480  \n",
       "\n",
       "[5 rows x 60300 columns]"
      ]
     },
     "execution_count": 1,
     "metadata": {},
     "output_type": "execute_result"
    }
   ],
   "source": [
    "import matplotlib.pyplot as plt\n",
    "import numpy as np\n",
    "import pandas as pd\n",
    "import seaborn as sns\n",
    "import six\n",
    "\n",
    "sns.set(style='ticks', context='talk', rc={'font.sans-serif':'Arial', 'pdf.fonttype': 42})\n",
    "\n",
    "\n",
    "import bonvoyage\n",
    "\n",
    "%load_ext autoreload\n",
    "%autoreload 2\n",
    "\n",
    "# Figures in the notebook\n",
    "%matplotlib inline\n",
    "\n",
    "# Set random seed\n",
    "np.random.seed(sum(map(ord, 'bonvoyage')))\n",
    "\n",
    "\n",
    "# Define folder to save figures\n",
    "folder = 'pdf'\n",
    "!mkdir -p $folder\n",
    "\n",
    "\n",
    "data = pd.read_csv('data.csv', index_col=0)\n",
    "data.head()"
   ]
  },
  {
   "cell_type": "code",
   "execution_count": 2,
   "metadata": {
    "collapsed": true
   },
   "outputs": [],
   "source": [
    "mean = data.mean()\n",
    "variance = data.var()\n",
    "stddev = data.std()"
   ]
  },
  {
   "cell_type": "code",
   "execution_count": 5,
   "metadata": {
    "collapsed": false
   },
   "outputs": [
    {
     "data": {
      "text/plain": [
       "[<matplotlib.lines.Line2D at 0x2b8414f51450>]"
      ]
     },
     "execution_count": 5,
     "metadata": {},
     "output_type": "execute_result"
    },
    {
     "data": {
      "image/png": "[encoded data removed]",
      "text/plain": [
       "<matplotlib.figure.Figure at 0x2b8414f5a2d0>"
      ]
     },
     "metadata": {},
     "output_type": "display_data"
    }
   ],
   "source": [
    "fig, ax = plt.subplots(figsize=(2, 2))\n",
    "ax.plot(mean, variance, 'o', alpha=0.1)"
   ]
  },
  {
   "cell_type": "code",
   "execution_count": 6,
   "metadata": {
    "collapsed": false
   },
   "outputs": [
    {
     "data": {
      "text/plain": [
       "[<matplotlib.lines.Line2D at 0x2b841508fd10>]"
      ]
     },
     "execution_count": 6,
     "metadata": {},
     "output_type": "execute_result"
    },
    {
     "data": {
      "image/png": "[encoded data removed]",
      "text/plain": [
       "<matplotlib.figure.Figure at 0x2b841508fe50>"
      ]
     },
     "metadata": {},
     "output_type": "display_data"
    }
   ],
   "source": [
    "fig, ax = plt.subplots(figsize=(2, 2))\n",
    "ax.plot(mean, stddev, 'o', alpha=0.1)"
   ]
  },
  {
   "cell_type": "code",
   "execution_count": 15,
   "metadata": {
    "collapsed": false
   },
   "outputs": [
    {
     "ename": "NameError",
     "evalue": "name 'var' is not defined",
     "output_type": "error",
     "traceback": [
      "\u001b[1;31m---------------------------------------------------------------------------\u001b[0m",
      "\u001b[1;31mNameError\u001b[0m                                 Traceback (most recent call last)",
      "\u001b[1;32m<ipython-input-15-b41fbf6242c6>\u001b[0m in \u001b[0;36m<module>\u001b[1;34m()\u001b[0m\n\u001b[0;32m      1\u001b[0m \u001b[0mfig\u001b[0m\u001b[1;33m,\u001b[0m \u001b[0max\u001b[0m \u001b[1;33m=\u001b[0m \u001b[0mplt\u001b[0m\u001b[1;33m.\u001b[0m\u001b[0msubplots\u001b[0m\u001b[1;33m(\u001b[0m\u001b[0mfigsize\u001b[0m\u001b[1;33m=\u001b[0m\u001b[1;33m(\u001b[0m\u001b[1;36m2\u001b[0m\u001b[1;33m,\u001b[0m \u001b[1;36m2\u001b[0m\u001b[1;33m)\u001b[0m\u001b[1;33m)\u001b[0m\u001b[1;33m\u001b[0m\u001b[0m\n\u001b[1;32m----> 2\u001b[1;33m \u001b[0max\u001b[0m\u001b[1;33m.\u001b[0m\u001b[0mhexbin\u001b[0m\u001b[1;33m(\u001b[0m\u001b[0mmean\u001b[0m\u001b[1;33m,\u001b[0m \u001b[0mvar\u001b[0m\u001b[1;33m)\u001b[0m\u001b[1;33m\u001b[0m\u001b[0m\n\u001b[0m",
      "\u001b[1;31mNameError\u001b[0m: name 'var' is not defined"
     ]
    },
    {
     "data": {
      "image/png": "[encoded data removed]",
      "text/plain": [
       "<matplotlib.figure.Figure at 0x2b8443138290>"
      ]
     },
     "metadata": {},
     "output_type": "display_data"
    }
   ],
   "source": [
    "fig, ax = plt.subplots(figsize=(2, 2))\n",
    "ax.hexbin(mean, var)"
   ]
  },
  {
   "cell_type": "code",
   "execution_count": 7,
   "metadata": {
    "collapsed": true
   },
   "outputs": [],
   "source": [
    "import anchor"
   ]
  },
  {
   "cell_type": "markdown",
   "metadata": {},
   "source": [
    "### Make shuffled data to compare to JSD"
   ]
  },
  {
   "cell_type": "code",
   "execution_count": 18,
   "metadata": {
    "collapsed": false
   },
   "outputs": [
    {
     "data": {
      "text/html": [
       "<div>\n",
       "<table border=\"1\" class=\"dataframe\">\n",
       "  <thead>\n",
       "    <tr style=\"text-align: right;\">\n",
       "      <th></th>\n",
       "      <th>perfect_middle_noise0_iter0</th>\n",
       "      <th>middle0_00_noise0_iter0</th>\n",
       "      <th>middle0_01_noise0_iter0</th>\n",
       "      <th>middle0_02_noise0_iter0</th>\n",
       "      <th>middle0_03_noise0_iter0</th>\n",
       "      <th>middle0_04_noise0_iter0</th>\n",
       "      <th>middle0_05_noise0_iter0</th>\n",
       "      <th>middle0_06_noise0_iter0</th>\n",
       "      <th>middle0_07_noise0_iter0</th>\n",
       "      <th>middle0_08_noise0_iter0</th>\n",
       "      <th>...</th>\n",
       "      <th>bimodal_91_noise100_iter9</th>\n",
       "      <th>bimodal_92_noise100_iter9</th>\n",
       "      <th>bimodal_93_noise100_iter9</th>\n",
       "      <th>bimodal_94_noise100_iter9</th>\n",
       "      <th>bimodal_95_noise100_iter9</th>\n",
       "      <th>bimodal_96_noise100_iter9</th>\n",
       "      <th>bimodal_97_noise100_iter9</th>\n",
       "      <th>bimodal_98_noise100_iter9</th>\n",
       "      <th>perfect_included_noise100_iter9</th>\n",
       "      <th>perfect_excluded_noise100_iter9</th>\n",
       "    </tr>\n",
       "  </thead>\n",
       "  <tbody>\n",
       "    <tr>\n",
       "      <th>0</th>\n",
       "      <td>1.000000</td>\n",
       "      <td>0</td>\n",
       "      <td>0.622234</td>\n",
       "      <td>0.637108</td>\n",
       "      <td>0.000000</td>\n",
       "      <td>0.889743</td>\n",
       "      <td>0</td>\n",
       "      <td>0.803556</td>\n",
       "      <td>0.000000</td>\n",
       "      <td>0</td>\n",
       "      <td>...</td>\n",
       "      <td>0.932852</td>\n",
       "      <td>0.264614</td>\n",
       "      <td>0.588628</td>\n",
       "      <td>0.756909</td>\n",
       "      <td>0.000000</td>\n",
       "      <td>0.000000</td>\n",
       "      <td>0.250492</td>\n",
       "      <td>1.000000</td>\n",
       "      <td>0.000000</td>\n",
       "      <td>1.000000</td>\n",
       "    </tr>\n",
       "    <tr>\n",
       "      <th>1</th>\n",
       "      <td>0.205484</td>\n",
       "      <td>0</td>\n",
       "      <td>0.768308</td>\n",
       "      <td>0.893993</td>\n",
       "      <td>0.978443</td>\n",
       "      <td>1.000000</td>\n",
       "      <td>1</td>\n",
       "      <td>0.127035</td>\n",
       "      <td>0.269371</td>\n",
       "      <td>0</td>\n",
       "      <td>...</td>\n",
       "      <td>0.724724</td>\n",
       "      <td>0.189781</td>\n",
       "      <td>1.000000</td>\n",
       "      <td>0.000000</td>\n",
       "      <td>0.000000</td>\n",
       "      <td>0.824932</td>\n",
       "      <td>0.701324</td>\n",
       "      <td>0.088347</td>\n",
       "      <td>0.783862</td>\n",
       "      <td>0.274544</td>\n",
       "    </tr>\n",
       "    <tr>\n",
       "      <th>2</th>\n",
       "      <td>0.118831</td>\n",
       "      <td>0</td>\n",
       "      <td>0.591002</td>\n",
       "      <td>0.492763</td>\n",
       "      <td>0.929639</td>\n",
       "      <td>0.839152</td>\n",
       "      <td>1</td>\n",
       "      <td>0.867767</td>\n",
       "      <td>0.000000</td>\n",
       "      <td>0</td>\n",
       "      <td>...</td>\n",
       "      <td>0.446803</td>\n",
       "      <td>0.311648</td>\n",
       "      <td>1.000000</td>\n",
       "      <td>0.000000</td>\n",
       "      <td>0.000000</td>\n",
       "      <td>0.000000</td>\n",
       "      <td>0.148938</td>\n",
       "      <td>1.000000</td>\n",
       "      <td>0.000000</td>\n",
       "      <td>0.790851</td>\n",
       "    </tr>\n",
       "    <tr>\n",
       "      <th>3</th>\n",
       "      <td>0.612001</td>\n",
       "      <td>0</td>\n",
       "      <td>0.426731</td>\n",
       "      <td>0.681949</td>\n",
       "      <td>0.000000</td>\n",
       "      <td>1.000000</td>\n",
       "      <td>1</td>\n",
       "      <td>0.982079</td>\n",
       "      <td>0.000000</td>\n",
       "      <td>0</td>\n",
       "      <td>...</td>\n",
       "      <td>1.000000</td>\n",
       "      <td>0.835272</td>\n",
       "      <td>1.000000</td>\n",
       "      <td>0.000000</td>\n",
       "      <td>0.508689</td>\n",
       "      <td>0.000000</td>\n",
       "      <td>0.000000</td>\n",
       "      <td>0.831429</td>\n",
       "      <td>0.000000</td>\n",
       "      <td>0.501660</td>\n",
       "    </tr>\n",
       "    <tr>\n",
       "      <th>4</th>\n",
       "      <td>0.745598</td>\n",
       "      <td>0</td>\n",
       "      <td>0.586912</td>\n",
       "      <td>0.796738</td>\n",
       "      <td>0.000000</td>\n",
       "      <td>0.591420</td>\n",
       "      <td>1</td>\n",
       "      <td>0.212199</td>\n",
       "      <td>0.000000</td>\n",
       "      <td>0</td>\n",
       "      <td>...</td>\n",
       "      <td>1.000000</td>\n",
       "      <td>0.450284</td>\n",
       "      <td>0.621685</td>\n",
       "      <td>0.000000</td>\n",
       "      <td>0.000000</td>\n",
       "      <td>0.000000</td>\n",
       "      <td>0.952146</td>\n",
       "      <td>1.000000</td>\n",
       "      <td>0.000000</td>\n",
       "      <td>0.892247</td>\n",
       "    </tr>\n",
       "  </tbody>\n",
       "</table>\n",
       "<p>5 rows × 60300 columns</p>\n",
       "</div>"
      ],
      "text/plain": [
       "   perfect_middle_noise0_iter0  middle0_00_noise0_iter0  \\\n",
       "0                     1.000000                        0   \n",
       "1                     0.205484                        0   \n",
       "2                     0.118831                        0   \n",
       "3                     0.612001                        0   \n",
       "4                     0.745598                        0   \n",
       "\n",
       "   middle0_01_noise0_iter0  middle0_02_noise0_iter0  middle0_03_noise0_iter0  \\\n",
       "0                 0.622234                 0.637108                 0.000000   \n",
       "1                 0.768308                 0.893993                 0.978443   \n",
       "2                 0.591002                 0.492763                 0.929639   \n",
       "3                 0.426731                 0.681949                 0.000000   \n",
       "4                 0.586912                 0.796738                 0.000000   \n",
       "\n",
       "   middle0_04_noise0_iter0  middle0_05_noise0_iter0  middle0_06_noise0_iter0  \\\n",
       "0                 0.889743                        0                 0.803556   \n",
       "1                 1.000000                        1                 0.127035   \n",
       "2                 0.839152                        1                 0.867767   \n",
       "3                 1.000000                        1                 0.982079   \n",
       "4                 0.591420                        1                 0.212199   \n",
       "\n",
       "   middle0_07_noise0_iter0  middle0_08_noise0_iter0  \\\n",
       "0                 0.000000                        0   \n",
       "1                 0.269371                        0   \n",
       "2                 0.000000                        0   \n",
       "3                 0.000000                        0   \n",
       "4                 0.000000                        0   \n",
       "\n",
       "                ...                 bimodal_91_noise100_iter9  \\\n",
       "0               ...                                  0.932852   \n",
       "1               ...                                  0.724724   \n",
       "2               ...                                  0.446803   \n",
       "3               ...                                  1.000000   \n",
       "4               ...                                  1.000000   \n",
       "\n",
       "   bimodal_92_noise100_iter9  bimodal_93_noise100_iter9  \\\n",
       "0                   0.264614                   0.588628   \n",
       "1                   0.189781                   1.000000   \n",
       "2                   0.311648                   1.000000   \n",
       "3                   0.835272                   1.000000   \n",
       "4                   0.450284                   0.621685   \n",
       "\n",
       "   bimodal_94_noise100_iter9  bimodal_95_noise100_iter9  \\\n",
       "0                   0.756909                   0.000000   \n",
       "1                   0.000000                   0.000000   \n",
       "2                   0.000000                   0.000000   \n",
       "3                   0.000000                   0.508689   \n",
       "4                   0.000000                   0.000000   \n",
       "\n",
       "   bimodal_96_noise100_iter9  bimodal_97_noise100_iter9  \\\n",
       "0                   0.000000                   0.250492   \n",
       "1                   0.824932                   0.701324   \n",
       "2                   0.000000                   0.148938   \n",
       "3                   0.000000                   0.000000   \n",
       "4                   0.000000                   0.952146   \n",
       "\n",
       "   bimodal_98_noise100_iter9  perfect_included_noise100_iter9  \\\n",
       "0                   1.000000                         0.000000   \n",
       "1                   0.088347                         0.783862   \n",
       "2                   1.000000                         0.000000   \n",
       "3                   0.831429                         0.000000   \n",
       "4                   1.000000                         0.000000   \n",
       "\n",
       "   perfect_excluded_noise100_iter9  \n",
       "0                         1.000000  \n",
       "1                         0.274544  \n",
       "2                         0.790851  \n",
       "3                         0.501660  \n",
       "4                         0.892247  \n",
       "\n",
       "[5 rows x 60300 columns]"
      ]
     },
     "execution_count": 18,
     "metadata": {},
     "output_type": "execute_result"
    }
   ],
   "source": [
    "np.random.seed(sum(map(ord, 'beyonce')))\n",
    "shuffled_data = data.copy()\n",
    "shuffled_columns = np.random.permutation(data.columns)\n",
    "shuffled_data = shuffled_data[shuffled_columns]\n",
    "shuffled_data.columns = data.columns\n",
    "shuffled_data.head()"
   ]
  },
  {
   "cell_type": "code",
   "execution_count": 19,
   "metadata": {
    "collapsed": true
   },
   "outputs": [],
   "source": [
    "shuffled_data.to_csv('shuffled_data.csv')"
   ]
  },
  {
   "cell_type": "markdown",
   "metadata": {},
   "source": [
    "### Calculate waypoints of shuffled data"
   ]
  },
  {
   "cell_type": "code",
   "execution_count": 23,
   "metadata": {
    "collapsed": false
   },
   "outputs": [
    {
     "name": "stdout",
     "output_type": "stream",
     "text": [
      "(60300, 2)\n"
     ]
    },
    {
     "data": {
      "text/html": [
       "<div>\n",
       "<table border=\"1\" class=\"dataframe\">\n",
       "  <thead>\n",
       "    <tr style=\"text-align: right;\">\n",
       "      <th></th>\n",
       "      <th>0</th>\n",
       "      <th>1</th>\n",
       "    </tr>\n",
       "  </thead>\n",
       "  <tbody>\n",
       "    <tr>\n",
       "      <th>perfect_middle_noise0_iter0</th>\n",
       "      <td>0.05</td>\n",
       "      <td>0.22</td>\n",
       "    </tr>\n",
       "    <tr>\n",
       "      <th>middle0_00_noise0_iter0</th>\n",
       "      <td>0.22</td>\n",
       "      <td>0.00</td>\n",
       "    </tr>\n",
       "    <tr>\n",
       "      <th>middle0_01_noise0_iter0</th>\n",
       "      <td>0.09</td>\n",
       "      <td>0.08</td>\n",
       "    </tr>\n",
       "    <tr>\n",
       "      <th>middle0_02_noise0_iter0</th>\n",
       "      <td>0.06</td>\n",
       "      <td>0.09</td>\n",
       "    </tr>\n",
       "    <tr>\n",
       "      <th>middle0_03_noise0_iter0</th>\n",
       "      <td>0.19</td>\n",
       "      <td>0.39</td>\n",
       "    </tr>\n",
       "  </tbody>\n",
       "</table>\n",
       "</div>"
      ],
      "text/plain": [
       "                                0     1\n",
       "perfect_middle_noise0_iter0  0.05  0.22\n",
       "middle0_00_noise0_iter0      0.22  0.00\n",
       "middle0_01_noise0_iter0      0.09  0.08\n",
       "middle0_02_noise0_iter0      0.06  0.09\n",
       "middle0_03_noise0_iter0      0.19  0.39"
      ]
     },
     "execution_count": 23,
     "metadata": {},
     "output_type": "execute_result"
    }
   ],
   "source": [
    "# Initialize the waypoints transformer\n",
    "ws = bonvoyage.Waypoints()\n",
    "\n",
    "shuffled_waypoints = ws.fit_transform(shuffled_data)\n",
    "six.print_(shuffled_waypoints.shape)\n",
    "shuffled_waypoints.head()"
   ]
  },
  {
   "cell_type": "code",
   "execution_count": 24,
   "metadata": {
    "collapsed": true
   },
   "outputs": [],
   "source": [
    "shuffled_waypoints.to_csv('shuffled_waypoints.csv')"
   ]
  },
  {
   "cell_type": "code",
   "execution_count": 21,
   "metadata": {
    "collapsed": false
   },
   "outputs": [
    {
     "name": "stdout",
     "output_type": "stream",
     "text": [
      "[ 0.   0.1  0.2  0.3  0.4  0.5  0.6  0.7  0.8  0.9  1. ]\n"
     ]
    }
   ],
   "source": [
    "bins = np.arange(0, 1.1, .1)\n",
    "six.print_(bins)\n"
   ]
  },
  {
   "cell_type": "code",
   "execution_count": 22,
   "metadata": {
    "collapsed": true
   },
   "outputs": [],
   "source": [
    "jsd = anchor.infotheory.binify_and_jsd(data, shuffled_data, 'data vs shuffled', bins)"
   ]
  },
  {
   "cell_type": "code",
   "execution_count": 35,
   "metadata": {
    "collapsed": false
   },
   "outputs": [
    {
     "data": {
      "text/plain": [
       "perfect_middle_noise0_iter0    0.694936\n",
       "middle0_00_noise0_iter0        0.352927\n",
       "middle0_01_noise0_iter0        0.820496\n",
       "middle0_02_noise0_iter0        0.715798\n",
       "middle0_03_noise0_iter0        0.883050\n",
       "Name: data vs shuffled, dtype: float64"
      ]
     },
     "execution_count": 35,
     "metadata": {},
     "output_type": "execute_result"
    }
   ],
   "source": [
    "jsd.head()"
   ]
  },
  {
   "cell_type": "markdown",
   "metadata": {},
   "source": [
    "### Combine waypoints into one dataframe"
   ]
  },
  {
   "cell_type": "code",
   "execution_count": 25,
   "metadata": {
    "collapsed": false
   },
   "outputs": [
    {
     "data": {
      "text/html": [
       "<div>\n",
       "<table border=\"1\" class=\"dataframe\">\n",
       "  <thead>\n",
       "    <tr style=\"text-align: right;\">\n",
       "      <th></th>\n",
       "      <th>0</th>\n",
       "      <th>1</th>\n",
       "    </tr>\n",
       "  </thead>\n",
       "  <tbody>\n",
       "    <tr>\n",
       "      <th>perfect_middle_noise0_iter0</th>\n",
       "      <td>0.00</td>\n",
       "      <td>0</td>\n",
       "    </tr>\n",
       "    <tr>\n",
       "      <th>middle0_00_noise0_iter0</th>\n",
       "      <td>0.01</td>\n",
       "      <td>0</td>\n",
       "    </tr>\n",
       "    <tr>\n",
       "      <th>middle0_01_noise0_iter0</th>\n",
       "      <td>0.02</td>\n",
       "      <td>0</td>\n",
       "    </tr>\n",
       "    <tr>\n",
       "      <th>middle0_02_noise0_iter0</th>\n",
       "      <td>0.03</td>\n",
       "      <td>0</td>\n",
       "    </tr>\n",
       "    <tr>\n",
       "      <th>middle0_03_noise0_iter0</th>\n",
       "      <td>0.04</td>\n",
       "      <td>0</td>\n",
       "    </tr>\n",
       "  </tbody>\n",
       "</table>\n",
       "</div>"
      ],
      "text/plain": [
       "                                0  1\n",
       "perfect_middle_noise0_iter0  0.00  0\n",
       "middle0_00_noise0_iter0      0.01  0\n",
       "middle0_01_noise0_iter0      0.02  0\n",
       "middle0_02_noise0_iter0      0.03  0\n",
       "middle0_03_noise0_iter0      0.04  0"
      ]
     },
     "execution_count": 25,
     "metadata": {},
     "output_type": "execute_result"
    }
   ],
   "source": [
    "waypoints = pd.read_csv('waypoints.csv', index_col=0)\n",
    "waypoints.head()"
   ]
  },
  {
   "cell_type": "code",
   "execution_count": 28,
   "metadata": {
    "collapsed": false
   },
   "outputs": [
    {
     "data": {
      "text/plain": [
       "Index([u'0', u'1', u'phenotype'], dtype='object')"
      ]
     },
     "execution_count": 28,
     "metadata": {},
     "output_type": "execute_result"
    }
   ],
   "source": [
    "waypoints.columns"
   ]
  },
  {
   "cell_type": "code",
   "execution_count": 29,
   "metadata": {
    "collapsed": false
   },
   "outputs": [
    {
     "data": {
      "text/plain": [
       "Index([0, 1, u'phenotype'], dtype='object')"
      ]
     },
     "execution_count": 29,
     "metadata": {},
     "output_type": "execute_result"
    }
   ],
   "source": [
    "shuffled_waypoints.columns"
   ]
  },
  {
   "cell_type": "code",
   "execution_count": 30,
   "metadata": {
    "collapsed": true
   },
   "outputs": [],
   "source": [
    "waypoints.columns = shuffled_waypoints.columns"
   ]
  },
  {
   "cell_type": "code",
   "execution_count": 32,
   "metadata": {
    "collapsed": false
   },
   "outputs": [
    {
     "data": {
      "text/html": [
       "<div>\n",
       "<table border=\"1\" class=\"dataframe\">\n",
       "  <thead>\n",
       "    <tr style=\"text-align: right;\">\n",
       "      <th></th>\n",
       "      <th></th>\n",
       "      <th>0</th>\n",
       "      <th>1</th>\n",
       "    </tr>\n",
       "    <tr>\n",
       "      <th>phenotype</th>\n",
       "      <th></th>\n",
       "      <th></th>\n",
       "      <th></th>\n",
       "    </tr>\n",
       "  </thead>\n",
       "  <tbody>\n",
       "    <tr>\n",
       "      <th rowspan=\"5\" valign=\"top\">original</th>\n",
       "      <th>bimodal_00_noise0_iter0</th>\n",
       "      <td>0.01</td>\n",
       "      <td>0.99</td>\n",
       "    </tr>\n",
       "    <tr>\n",
       "      <th>bimodal_00_noise100_iter0</th>\n",
       "      <td>0.05</td>\n",
       "      <td>0.09</td>\n",
       "    </tr>\n",
       "    <tr>\n",
       "      <th>bimodal_00_noise100_iter1</th>\n",
       "      <td>0.13</td>\n",
       "      <td>0.10</td>\n",
       "    </tr>\n",
       "    <tr>\n",
       "      <th>bimodal_00_noise100_iter2</th>\n",
       "      <td>0.05</td>\n",
       "      <td>0.08</td>\n",
       "    </tr>\n",
       "    <tr>\n",
       "      <th>bimodal_00_noise100_iter3</th>\n",
       "      <td>0.13</td>\n",
       "      <td>0.12</td>\n",
       "    </tr>\n",
       "  </tbody>\n",
       "</table>\n",
       "</div>"
      ],
      "text/plain": [
       "                                        0     1\n",
       "phenotype                                      \n",
       "original  bimodal_00_noise0_iter0    0.01  0.99\n",
       "          bimodal_00_noise100_iter0  0.05  0.09\n",
       "          bimodal_00_noise100_iter1  0.13  0.10\n",
       "          bimodal_00_noise100_iter2  0.05  0.08\n",
       "          bimodal_00_noise100_iter3  0.13  0.12"
      ]
     },
     "execution_count": 32,
     "metadata": {},
     "output_type": "execute_result"
    }
   ],
   "source": [
    "waypoints['phenotype'] = 'original'\n",
    "shuffled_waypoints['phenotype'] = 'shuffled'\n",
    "\n",
    "waypoints_combined = pd.concat([waypoints, shuffled_waypoints])\n",
    "waypoints_combined = waypoints_combined.set_index('phenotype', append=True)\n",
    "waypoints_combined.index = waypoints_combined.index.swaplevel(0, 1)\n",
    "waypoints_combined = waypoints_combined.sort_index()\n",
    "waypoints_combined.head()"
   ]
  },
  {
   "cell_type": "code",
   "execution_count": 34,
   "metadata": {
    "collapsed": false
   },
   "outputs": [],
   "source": [
    "v = bonvoyage.Voyages()\n",
    "voyages = v.voyages(waypoints_combined, [('original', 'shuffled')])"
   ]
  },
  {
   "cell_type": "code",
   "execution_count": 37,
   "metadata": {
    "collapsed": false
   },
   "outputs": [
    {
     "data": {
      "text/html": [
       "<div>\n",
       "<table border=\"1\" class=\"dataframe\">\n",
       "  <thead>\n",
       "    <tr style=\"text-align: right;\">\n",
       "      <th></th>\n",
       "      <th>event_id</th>\n",
       "      <th>$\\Delta x$</th>\n",
       "      <th>$\\Delta y$</th>\n",
       "      <th>magnitude</th>\n",
       "      <th>group1</th>\n",
       "      <th>group2</th>\n",
       "      <th>direction</th>\n",
       "      <th>transition</th>\n",
       "    </tr>\n",
       "  </thead>\n",
       "  <tbody>\n",
       "    <tr>\n",
       "      <th>0</th>\n",
       "      <td>bimodal_00_noise0_iter0</td>\n",
       "      <td>0.06</td>\n",
       "      <td>-0.57</td>\n",
       "      <td>0.573149</td>\n",
       "      <td>original</td>\n",
       "      <td>shuffled</td>\n",
       "      <td>$\\searrow$</td>\n",
       "      <td>original-shuffled</td>\n",
       "    </tr>\n",
       "    <tr>\n",
       "      <th>1</th>\n",
       "      <td>bimodal_00_noise100_iter0</td>\n",
       "      <td>0.12</td>\n",
       "      <td>0.57</td>\n",
       "      <td>0.582495</td>\n",
       "      <td>original</td>\n",
       "      <td>shuffled</td>\n",
       "      <td>$\\nearrow$</td>\n",
       "      <td>original-shuffled</td>\n",
       "    </tr>\n",
       "    <tr>\n",
       "      <th>2</th>\n",
       "      <td>bimodal_00_noise100_iter1</td>\n",
       "      <td>0.21</td>\n",
       "      <td>-0.09</td>\n",
       "      <td>0.228473</td>\n",
       "      <td>original</td>\n",
       "      <td>shuffled</td>\n",
       "      <td>$\\searrow$</td>\n",
       "      <td>original-shuffled</td>\n",
       "    </tr>\n",
       "    <tr>\n",
       "      <th>3</th>\n",
       "      <td>bimodal_00_noise100_iter2</td>\n",
       "      <td>0.15</td>\n",
       "      <td>0.35</td>\n",
       "      <td>0.380789</td>\n",
       "      <td>original</td>\n",
       "      <td>shuffled</td>\n",
       "      <td>$\\nearrow$</td>\n",
       "      <td>original-shuffled</td>\n",
       "    </tr>\n",
       "    <tr>\n",
       "      <th>4</th>\n",
       "      <td>bimodal_00_noise100_iter3</td>\n",
       "      <td>-0.10</td>\n",
       "      <td>0.53</td>\n",
       "      <td>0.539351</td>\n",
       "      <td>original</td>\n",
       "      <td>shuffled</td>\n",
       "      <td>$\\nwarrow$</td>\n",
       "      <td>original-shuffled</td>\n",
       "    </tr>\n",
       "  </tbody>\n",
       "</table>\n",
       "</div>"
      ],
      "text/plain": [
       "                    event_id  $\\Delta x$  $\\Delta y$  magnitude    group1  \\\n",
       "0    bimodal_00_noise0_iter0        0.06       -0.57   0.573149  original   \n",
       "1  bimodal_00_noise100_iter0        0.12        0.57   0.582495  original   \n",
       "2  bimodal_00_noise100_iter1        0.21       -0.09   0.228473  original   \n",
       "3  bimodal_00_noise100_iter2        0.15        0.35   0.380789  original   \n",
       "4  bimodal_00_noise100_iter3       -0.10        0.53   0.539351  original   \n",
       "\n",
       "     group2   direction         transition  \n",
       "0  shuffled  $\\searrow$  original-shuffled  \n",
       "1  shuffled  $\\nearrow$  original-shuffled  \n",
       "2  shuffled  $\\searrow$  original-shuffled  \n",
       "3  shuffled  $\\nearrow$  original-shuffled  \n",
       "4  shuffled  $\\nwarrow$  original-shuffled  "
      ]
     },
     "execution_count": 37,
     "metadata": {},
     "output_type": "execute_result"
    }
   ],
   "source": [
    "voyages.head()"
   ]
  },
  {
   "cell_type": "code",
   "execution_count": 38,
   "metadata": {
    "collapsed": false
   },
   "outputs": [
    {
     "data": {
      "text/html": [
       "<div>\n",
       "<table border=\"1\" class=\"dataframe\">\n",
       "  <thead>\n",
       "    <tr style=\"text-align: right;\">\n",
       "      <th></th>\n",
       "      <th>$\\Delta x$</th>\n",
       "      <th>$\\Delta y$</th>\n",
       "      <th>magnitude</th>\n",
       "      <th>group1</th>\n",
       "      <th>group2</th>\n",
       "      <th>direction</th>\n",
       "      <th>transition</th>\n",
       "    </tr>\n",
       "    <tr>\n",
       "      <th>event_id</th>\n",
       "      <th></th>\n",
       "      <th></th>\n",
       "      <th></th>\n",
       "      <th></th>\n",
       "      <th></th>\n",
       "      <th></th>\n",
       "      <th></th>\n",
       "    </tr>\n",
       "  </thead>\n",
       "  <tbody>\n",
       "    <tr>\n",
       "      <th>bimodal_00_noise0_iter0</th>\n",
       "      <td>0.06</td>\n",
       "      <td>-0.57</td>\n",
       "      <td>0.573149</td>\n",
       "      <td>original</td>\n",
       "      <td>shuffled</td>\n",
       "      <td>$\\searrow$</td>\n",
       "      <td>original-shuffled</td>\n",
       "    </tr>\n",
       "    <tr>\n",
       "      <th>bimodal_00_noise100_iter0</th>\n",
       "      <td>0.12</td>\n",
       "      <td>0.57</td>\n",
       "      <td>0.582495</td>\n",
       "      <td>original</td>\n",
       "      <td>shuffled</td>\n",
       "      <td>$\\nearrow$</td>\n",
       "      <td>original-shuffled</td>\n",
       "    </tr>\n",
       "    <tr>\n",
       "      <th>bimodal_00_noise100_iter1</th>\n",
       "      <td>0.21</td>\n",
       "      <td>-0.09</td>\n",
       "      <td>0.228473</td>\n",
       "      <td>original</td>\n",
       "      <td>shuffled</td>\n",
       "      <td>$\\searrow$</td>\n",
       "      <td>original-shuffled</td>\n",
       "    </tr>\n",
       "    <tr>\n",
       "      <th>bimodal_00_noise100_iter2</th>\n",
       "      <td>0.15</td>\n",
       "      <td>0.35</td>\n",
       "      <td>0.380789</td>\n",
       "      <td>original</td>\n",
       "      <td>shuffled</td>\n",
       "      <td>$\\nearrow$</td>\n",
       "      <td>original-shuffled</td>\n",
       "    </tr>\n",
       "    <tr>\n",
       "      <th>bimodal_00_noise100_iter3</th>\n",
       "      <td>-0.10</td>\n",
       "      <td>0.53</td>\n",
       "      <td>0.539351</td>\n",
       "      <td>original</td>\n",
       "      <td>shuffled</td>\n",
       "      <td>$\\nwarrow$</td>\n",
       "      <td>original-shuffled</td>\n",
       "    </tr>\n",
       "  </tbody>\n",
       "</table>\n",
       "</div>"
      ],
      "text/plain": [
       "                           $\\Delta x$  $\\Delta y$  magnitude    group1  \\\n",
       "event_id                                                                 \n",
       "bimodal_00_noise0_iter0          0.06       -0.57   0.573149  original   \n",
       "bimodal_00_noise100_iter0        0.12        0.57   0.582495  original   \n",
       "bimodal_00_noise100_iter1        0.21       -0.09   0.228473  original   \n",
       "bimodal_00_noise100_iter2        0.15        0.35   0.380789  original   \n",
       "bimodal_00_noise100_iter3       -0.10        0.53   0.539351  original   \n",
       "\n",
       "                             group2   direction         transition  \n",
       "event_id                                                            \n",
       "bimodal_00_noise0_iter0    shuffled  $\\searrow$  original-shuffled  \n",
       "bimodal_00_noise100_iter0  shuffled  $\\nearrow$  original-shuffled  \n",
       "bimodal_00_noise100_iter1  shuffled  $\\searrow$  original-shuffled  \n",
       "bimodal_00_noise100_iter2  shuffled  $\\nearrow$  original-shuffled  \n",
       "bimodal_00_noise100_iter3  shuffled  $\\nwarrow$  original-shuffled  "
      ]
     },
     "execution_count": 38,
     "metadata": {},
     "output_type": "execute_result"
    }
   ],
   "source": [
    "voyages = voyages.set_index('event_id')\n",
    "voyages.head()"
   ]
  },
  {
   "cell_type": "code",
   "execution_count": 46,
   "metadata": {
    "collapsed": false
   },
   "outputs": [
    {
     "data": {
      "text/plain": [
       "0.78220891220772926"
      ]
     },
     "execution_count": 46,
     "metadata": {},
     "output_type": "execute_result"
    }
   ],
   "source": [
    "voyages['magnitude'].corr(jsd)"
   ]
  },
  {
   "cell_type": "code",
   "execution_count": 47,
   "metadata": {
    "collapsed": false
   },
   "outputs": [
    {
     "data": {
      "text/plain": [
       "0.78220891220772959"
      ]
     },
     "execution_count": 47,
     "metadata": {},
     "output_type": "execute_result"
    }
   ],
   "source": [
    "jsd.corr(voyages['magnitude'])"
   ]
  },
  {
   "cell_type": "code",
   "execution_count": 51,
   "metadata": {
    "collapsed": false
   },
   "outputs": [
    {
     "data": {
      "text/plain": [
       "count    6.030000e+04\n",
       "mean     3.379989e-01\n",
       "std      2.144747e-01\n",
       "min      3.878092e-09\n",
       "25%      1.612452e-01\n",
       "50%      3.041382e-01\n",
       "75%      4.816638e-01\n",
       "max      1.273106e+00\n",
       "Name: magnitude, dtype: float64"
      ]
     },
     "execution_count": 51,
     "metadata": {},
     "output_type": "execute_result"
    }
   ],
   "source": [
    "voyages['magnitude'].describe()"
   ]
  },
  {
   "cell_type": "code",
   "execution_count": 53,
   "metadata": {
    "collapsed": false
   },
   "outputs": [
    {
     "data": {
      "image/png": "[encoded data removed]",
      "text/plain": [
       "<matplotlib.figure.Figure at 0x2b8449b5e750>"
      ]
     },
     "metadata": {},
     "output_type": "display_data"
    }
   ],
   "source": [
    "g = sns.jointplot(voyages['magnitude'], jsd,)"
   ]
  },
  {
   "cell_type": "code",
   "execution_count": 52,
   "metadata": {
    "collapsed": false
   },
   "outputs": [
    {
     "data": {
      "image/png": "[encoded data removed]",
      "text/plain": [
       "<matplotlib.figure.Figure at 0x2b8449ba66d0>"
      ]
     },
     "metadata": {},
     "output_type": "display_data"
    }
   ],
   "source": [
    "g = sns.jointplot(voyages['magnitude'], jsd, kind='hex', color='DarkSlateBlue', size=3, stat_func=None)\n",
    "g.ax_joint.set(xlabel='Voyages', ylabel='JSD', xticks=(0, 0.4, 0.8, 1.2), yticks=(0, 0.5, 1))\n",
    "g.savefig('{}/jsd_vs_voyages.pdf'.format(folder))"
   ]
  },
  {
   "cell_type": "code",
   "execution_count": null,
   "metadata": {
    "collapsed": true
   },
   "outputs": [],
   "source": []
  }
 ],
 "metadata": {
  "kernelspec": {
   "display_name": "Python 2",
   "language": "python",
   "name": "python2"
  },
  "language_info": {
   "codemirror_mode": {
    "name": "ipython",
    "version": 2
   },
   "file_extension": ".py",
   "mimetype": "text/x-python",
   "name": "python",
   "nbconvert_exporter": "python",
   "pygments_lexer": "ipython2",
   "version": "2.7.11"
  }
 },
 "nbformat": 4,
 "nbformat_minor": 0
}
