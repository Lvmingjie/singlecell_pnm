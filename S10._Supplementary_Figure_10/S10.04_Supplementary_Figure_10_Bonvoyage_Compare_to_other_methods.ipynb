{
 "cells": [
  {
   "cell_type": "code",
   "execution_count": 2,
   "metadata": {
    "collapsed": false
   },
   "outputs": [
    {
     "name": "stderr",
     "output_type": "stream",
     "text": [
      "/home/obotvinnik/anaconda/lib/python2.7/site-packages/matplotlib/__init__.py:810: UserWarning: Found matplotlib configuration in ~/.matplotlib/. To conform with the XDG base directory standard, this configuration location has been deprecated on Linux, and the new location is now /home/obotvinnik/.config/matplotlib/. Please move your configuration there to ensure that matplotlib will continue to find it in the future.\n",
      "  _get_xdg_config_dir())\n"
     ]
    },
    {
     "data": {
      "text/html": [
       "<div>\n",
       "<table border=\"1\" class=\"dataframe\">\n",
       "  <thead>\n",
       "    <tr style=\"text-align: right;\">\n",
       "      <th></th>\n",
       "      <th>perfect_middle_noise0_iter0</th>\n",
       "      <th>middle0_00_noise0_iter0</th>\n",
       "      <th>middle0_01_noise0_iter0</th>\n",
       "      <th>middle0_02_noise0_iter0</th>\n",
       "      <th>middle0_03_noise0_iter0</th>\n",
       "      <th>middle0_04_noise0_iter0</th>\n",
       "      <th>middle0_05_noise0_iter0</th>\n",
       "      <th>middle0_06_noise0_iter0</th>\n",
       "      <th>middle0_07_noise0_iter0</th>\n",
       "      <th>middle0_08_noise0_iter0</th>\n",
       "      <th>...</th>\n",
       "      <th>bimodal_91_noise100_iter9</th>\n",
       "      <th>bimodal_92_noise100_iter9</th>\n",
       "      <th>bimodal_93_noise100_iter9</th>\n",
       "      <th>bimodal_94_noise100_iter9</th>\n",
       "      <th>bimodal_95_noise100_iter9</th>\n",
       "      <th>bimodal_96_noise100_iter9</th>\n",
       "      <th>bimodal_97_noise100_iter9</th>\n",
       "      <th>bimodal_98_noise100_iter9</th>\n",
       "      <th>perfect_included_noise100_iter9</th>\n",
       "      <th>perfect_excluded_noise100_iter9</th>\n",
       "    </tr>\n",
       "  </thead>\n",
       "  <tbody>\n",
       "    <tr>\n",
       "      <th>0</th>\n",
       "      <td>0.5</td>\n",
       "      <td>0.0</td>\n",
       "      <td>0.0</td>\n",
       "      <td>0.0</td>\n",
       "      <td>0.0</td>\n",
       "      <td>0</td>\n",
       "      <td>0</td>\n",
       "      <td>0</td>\n",
       "      <td>0</td>\n",
       "      <td>0</td>\n",
       "      <td>...</td>\n",
       "      <td>0.756519</td>\n",
       "      <td>0.123426</td>\n",
       "      <td>0.156010</td>\n",
       "      <td>0.397855</td>\n",
       "      <td>0.689124</td>\n",
       "      <td>0.822287</td>\n",
       "      <td>0.059486</td>\n",
       "      <td>0.032697</td>\n",
       "      <td>0.175249</td>\n",
       "      <td>0.673825</td>\n",
       "    </tr>\n",
       "    <tr>\n",
       "      <th>1</th>\n",
       "      <td>0.5</td>\n",
       "      <td>0.5</td>\n",
       "      <td>0.0</td>\n",
       "      <td>0.0</td>\n",
       "      <td>0.0</td>\n",
       "      <td>0</td>\n",
       "      <td>0</td>\n",
       "      <td>0</td>\n",
       "      <td>0</td>\n",
       "      <td>0</td>\n",
       "      <td>...</td>\n",
       "      <td>0.416175</td>\n",
       "      <td>0.688381</td>\n",
       "      <td>0.876422</td>\n",
       "      <td>0.153659</td>\n",
       "      <td>0.406306</td>\n",
       "      <td>0.714781</td>\n",
       "      <td>0.452631</td>\n",
       "      <td>0.890333</td>\n",
       "      <td>0.495503</td>\n",
       "      <td>0.194227</td>\n",
       "    </tr>\n",
       "    <tr>\n",
       "      <th>2</th>\n",
       "      <td>0.5</td>\n",
       "      <td>0.5</td>\n",
       "      <td>0.5</td>\n",
       "      <td>0.0</td>\n",
       "      <td>0.0</td>\n",
       "      <td>0</td>\n",
       "      <td>0</td>\n",
       "      <td>0</td>\n",
       "      <td>0</td>\n",
       "      <td>0</td>\n",
       "      <td>...</td>\n",
       "      <td>0.400526</td>\n",
       "      <td>0.012098</td>\n",
       "      <td>0.391870</td>\n",
       "      <td>0.681438</td>\n",
       "      <td>0.714112</td>\n",
       "      <td>0.587022</td>\n",
       "      <td>0.997617</td>\n",
       "      <td>0.179406</td>\n",
       "      <td>0.094149</td>\n",
       "      <td>0.551203</td>\n",
       "    </tr>\n",
       "    <tr>\n",
       "      <th>3</th>\n",
       "      <td>0.5</td>\n",
       "      <td>0.5</td>\n",
       "      <td>0.5</td>\n",
       "      <td>0.5</td>\n",
       "      <td>0.0</td>\n",
       "      <td>0</td>\n",
       "      <td>0</td>\n",
       "      <td>0</td>\n",
       "      <td>0</td>\n",
       "      <td>0</td>\n",
       "      <td>...</td>\n",
       "      <td>0.153326</td>\n",
       "      <td>0.399814</td>\n",
       "      <td>0.843777</td>\n",
       "      <td>0.106176</td>\n",
       "      <td>0.125045</td>\n",
       "      <td>0.765685</td>\n",
       "      <td>0.582473</td>\n",
       "      <td>0.797105</td>\n",
       "      <td>0.886579</td>\n",
       "      <td>0.486906</td>\n",
       "    </tr>\n",
       "    <tr>\n",
       "      <th>4</th>\n",
       "      <td>0.5</td>\n",
       "      <td>0.5</td>\n",
       "      <td>0.5</td>\n",
       "      <td>0.5</td>\n",
       "      <td>0.5</td>\n",
       "      <td>0</td>\n",
       "      <td>0</td>\n",
       "      <td>0</td>\n",
       "      <td>0</td>\n",
       "      <td>0</td>\n",
       "      <td>...</td>\n",
       "      <td>0.569110</td>\n",
       "      <td>0.288521</td>\n",
       "      <td>0.049904</td>\n",
       "      <td>0.312614</td>\n",
       "      <td>0.213312</td>\n",
       "      <td>0.666463</td>\n",
       "      <td>0.798311</td>\n",
       "      <td>0.552320</td>\n",
       "      <td>0.399732</td>\n",
       "      <td>0.078480</td>\n",
       "    </tr>\n",
       "  </tbody>\n",
       "</table>\n",
       "<p>5 rows × 60300 columns</p>\n",
       "</div>"
      ],
      "text/plain": [
       "   perfect_middle_noise0_iter0  middle0_00_noise0_iter0  \\\n",
       "0                          0.5                      0.0   \n",
       "1                          0.5                      0.5   \n",
       "2                          0.5                      0.5   \n",
       "3                          0.5                      0.5   \n",
       "4                          0.5                      0.5   \n",
       "\n",
       "   middle0_01_noise0_iter0  middle0_02_noise0_iter0  middle0_03_noise0_iter0  \\\n",
       "0                      0.0                      0.0                      0.0   \n",
       "1                      0.0                      0.0                      0.0   \n",
       "2                      0.5                      0.0                      0.0   \n",
       "3                      0.5                      0.5                      0.0   \n",
       "4                      0.5                      0.5                      0.5   \n",
       "\n",
       "   middle0_04_noise0_iter0  middle0_05_noise0_iter0  middle0_06_noise0_iter0  \\\n",
       "0                        0                        0                        0   \n",
       "1                        0                        0                        0   \n",
       "2                        0                        0                        0   \n",
       "3                        0                        0                        0   \n",
       "4                        0                        0                        0   \n",
       "\n",
       "   middle0_07_noise0_iter0  middle0_08_noise0_iter0  \\\n",
       "0                        0                        0   \n",
       "1                        0                        0   \n",
       "2                        0                        0   \n",
       "3                        0                        0   \n",
       "4                        0                        0   \n",
       "\n",
       "                ...                 bimodal_91_noise100_iter9  \\\n",
       "0               ...                                  0.756519   \n",
       "1               ...                                  0.416175   \n",
       "2               ...                                  0.400526   \n",
       "3               ...                                  0.153326   \n",
       "4               ...                                  0.569110   \n",
       "\n",
       "   bimodal_92_noise100_iter9  bimodal_93_noise100_iter9  \\\n",
       "0                   0.123426                   0.156010   \n",
       "1                   0.688381                   0.876422   \n",
       "2                   0.012098                   0.391870   \n",
       "3                   0.399814                   0.843777   \n",
       "4                   0.288521                   0.049904   \n",
       "\n",
       "   bimodal_94_noise100_iter9  bimodal_95_noise100_iter9  \\\n",
       "0                   0.397855                   0.689124   \n",
       "1                   0.153659                   0.406306   \n",
       "2                   0.681438                   0.714112   \n",
       "3                   0.106176                   0.125045   \n",
       "4                   0.312614                   0.213312   \n",
       "\n",
       "   bimodal_96_noise100_iter9  bimodal_97_noise100_iter9  \\\n",
       "0                   0.822287                   0.059486   \n",
       "1                   0.714781                   0.452631   \n",
       "2                   0.587022                   0.997617   \n",
       "3                   0.765685                   0.582473   \n",
       "4                   0.666463                   0.798311   \n",
       "\n",
       "   bimodal_98_noise100_iter9  perfect_included_noise100_iter9  \\\n",
       "0                   0.032697                         0.175249   \n",
       "1                   0.890333                         0.495503   \n",
       "2                   0.179406                         0.094149   \n",
       "3                   0.797105                         0.886579   \n",
       "4                   0.552320                         0.399732   \n",
       "\n",
       "   perfect_excluded_noise100_iter9  \n",
       "0                         0.673825  \n",
       "1                         0.194227  \n",
       "2                         0.551203  \n",
       "3                         0.486906  \n",
       "4                         0.078480  \n",
       "\n",
       "[5 rows x 60300 columns]"
      ]
     },
     "execution_count": 2,
     "metadata": {},
     "output_type": "execute_result"
    }
   ],
   "source": [
    "import matplotlib.pyplot as plt\n",
    "import numpy as np\n",
    "import pandas as pd\n",
    "import seaborn as sns\n",
    "import six\n",
    "\n",
    "sns.set(style='ticks', context='talk', rc={'font.sans-serif':'Arial', 'pdf.fonttype': 42})\n",
    "\n",
    "\n",
    "import bonvoyage\n",
    "\n",
    "%load_ext autoreload\n",
    "%autoreload 2\n",
    "\n",
    "# Figures in the notebook\n",
    "%matplotlib inline\n",
    "\n",
    "# Set random seed\n",
    "np.random.seed(sum(map(ord, 'bonvoyage')))\n",
    "\n",
    "\n",
    "# Define folder to save figures\n",
    "folder = 'pdf'\n",
    "!mkdir -p $folder\n",
    "\n",
    "\n",
    "data = pd.read_csv('data.csv', index_col=0)\n",
    "data.head()"
   ]
  },
  {
   "cell_type": "code",
   "execution_count": 3,
   "metadata": {
    "collapsed": true
   },
   "outputs": [],
   "source": [
    "mean = data.mean()\n",
    "variance = data.var()\n",
    "stddev = data.std()"
   ]
  },
  {
   "cell_type": "code",
   "execution_count": 4,
   "metadata": {
    "collapsed": false
   },
   "outputs": [
    {
     "data": {
      "text/plain": [
       "[<matplotlib.lines.Line2D at 0x2b9c983274d0>]"
      ]
     },
     "execution_count": 4,
     "metadata": {},
     "output_type": "execute_result"
    },
    {
     "data": {
      "image/png": "[encoded data removed]",
      "text/plain": [
       "<matplotlib.figure.Figure at 0x2b9c980fdc50>"
      ]
     },
     "metadata": {},
     "output_type": "display_data"
    }
   ],
   "source": [
    "fig, ax = plt.subplots(figsize=(2, 2))\n",
    "ax.plot(mean, variance, 'o', alpha=0.1)"
   ]
  },
  {
   "cell_type": "code",
   "execution_count": 5,
   "metadata": {
    "collapsed": false
   },
   "outputs": [
    {
     "data": {
      "text/plain": [
       "[<matplotlib.lines.Line2D at 0x2b9c98327190>]"
      ]
     },
     "execution_count": 5,
     "metadata": {},
     "output_type": "execute_result"
    },
    {
     "data": {
      "image/png": "[encoded data removed]",
      "text/plain": [
       "<matplotlib.figure.Figure at 0x2b9cce437d50>"
      ]
     },
     "metadata": {},
     "output_type": "display_data"
    }
   ],
   "source": [
    "fig, ax = plt.subplots(figsize=(2, 2))\n",
    "ax.plot(mean, stddev, 'o', alpha=0.1)"
   ]
  },
  {
   "cell_type": "code",
   "execution_count": 17,
   "metadata": {
    "collapsed": false
   },
   "outputs": [
    {
     "data": {
      "image/png": "[encoded data removed]",
      "text/plain": [
       "<matplotlib.figure.Figure at 0x2b9ccec8e0d0>"
      ]
     },
     "metadata": {},
     "output_type": "display_data"
    }
   ],
   "source": [
    "fig, ax = plt.subplots(figsize=(2.5, 2))\n",
    "ax.hexbin(mean, variance)\n",
    "ax.set(xlabel='Mean', ylabel='Variance')\n",
    "sns.despine()\n",
    "fig.tight_layout()\n",
    "fig.savefig('{}/mean_vs_var_hexbin.pdf'.format(folder))"
   ]
  },
  {
   "cell_type": "code",
   "execution_count": 18,
   "metadata": {
    "collapsed": false
   },
   "outputs": [
    {
     "data": {
      "image/png": "[encoded data removed]",
      "text/plain": [
       "<matplotlib.figure.Figure at 0x2b9cd8ac9a50>"
      ]
     },
     "metadata": {},
     "output_type": "display_data"
    }
   ],
   "source": [
    "# fig, ax = plt.subplots(figsize=(2, 2))\n",
    "g = sns.jointplot(mean, variance, alpha=0.1, color='#262626', size=3, stat_func=None, joint_kws=dict(rasterized=True))\n",
    "g.ax_joint.set(xlabel='Mean', ylabel='Variance', xticks=(0, 0.5, 1), yticks=(0, 0.1, 0.2, 0.3), xlim=(0, 1), ylim=(0, 0.3))\n",
    "# sns.despine()\n",
    "fig.tight_layout()\n",
    "fig.savefig('{}/mean_vs_var_scatter.pdf'.format(folder), dpi=600)"
   ]
  },
  {
   "cell_type": "code",
   "execution_count": 8,
   "metadata": {
    "collapsed": false
   },
   "outputs": [
    {
     "data": {
      "image/png": "[encoded data removed]",
      "text/plain": [
       "<matplotlib.figure.Figure at 0x2b9ccec83650>"
      ]
     },
     "metadata": {},
     "output_type": "display_data"
    }
   ],
   "source": [
    "# fig, ax = plt.subplots(figsize=(2, 2))\n",
    "g = sns.jointplot(mean, variance, alpha=0.1, color='#262626', size=3, stat_func=None, kind='hex')\n",
    "g.ax_joint.set(xlabel='Mean', ylabel='Variance', xticks=(0, 0.5, 1), yticks=(0, 0.1, 0.2, 0.3), xlim=(0, 1), ylim=(0, 0.3))\n",
    "# sns.despine()\n",
    "fig.tight_layout()\n",
    "fig.savefig('{}/mean_vs_var_hexbin.pdf'.format(folder))"
   ]
  },
  {
   "cell_type": "markdown",
   "metadata": {},
   "source": [
    "### Make shuffled data to compare to JSD"
   ]
  },
  {
   "cell_type": "code",
   "execution_count": 9,
   "metadata": {
    "collapsed": false
   },
   "outputs": [
    {
     "data": {
      "text/html": [
       "<div>\n",
       "<table border=\"1\" class=\"dataframe\">\n",
       "  <thead>\n",
       "    <tr style=\"text-align: right;\">\n",
       "      <th></th>\n",
       "      <th>perfect_middle_noise0_iter0</th>\n",
       "      <th>middle0_00_noise0_iter0</th>\n",
       "      <th>middle0_01_noise0_iter0</th>\n",
       "      <th>middle0_02_noise0_iter0</th>\n",
       "      <th>middle0_03_noise0_iter0</th>\n",
       "      <th>middle0_04_noise0_iter0</th>\n",
       "      <th>middle0_05_noise0_iter0</th>\n",
       "      <th>middle0_06_noise0_iter0</th>\n",
       "      <th>middle0_07_noise0_iter0</th>\n",
       "      <th>middle0_08_noise0_iter0</th>\n",
       "      <th>...</th>\n",
       "      <th>bimodal_91_noise100_iter9</th>\n",
       "      <th>bimodal_92_noise100_iter9</th>\n",
       "      <th>bimodal_93_noise100_iter9</th>\n",
       "      <th>bimodal_94_noise100_iter9</th>\n",
       "      <th>bimodal_95_noise100_iter9</th>\n",
       "      <th>bimodal_96_noise100_iter9</th>\n",
       "      <th>bimodal_97_noise100_iter9</th>\n",
       "      <th>bimodal_98_noise100_iter9</th>\n",
       "      <th>perfect_included_noise100_iter9</th>\n",
       "      <th>perfect_excluded_noise100_iter9</th>\n",
       "    </tr>\n",
       "  </thead>\n",
       "  <tbody>\n",
       "    <tr>\n",
       "      <th>0</th>\n",
       "      <td>1.000000</td>\n",
       "      <td>0</td>\n",
       "      <td>0.622234</td>\n",
       "      <td>0.637108</td>\n",
       "      <td>0.000000</td>\n",
       "      <td>0.889743</td>\n",
       "      <td>0</td>\n",
       "      <td>0.803556</td>\n",
       "      <td>0.000000</td>\n",
       "      <td>0</td>\n",
       "      <td>...</td>\n",
       "      <td>0.932852</td>\n",
       "      <td>0.264614</td>\n",
       "      <td>0.588628</td>\n",
       "      <td>0.756909</td>\n",
       "      <td>0.000000</td>\n",
       "      <td>0.000000</td>\n",
       "      <td>0.250492</td>\n",
       "      <td>1.000000</td>\n",
       "      <td>0.000000</td>\n",
       "      <td>1.000000</td>\n",
       "    </tr>\n",
       "    <tr>\n",
       "      <th>1</th>\n",
       "      <td>0.205484</td>\n",
       "      <td>0</td>\n",
       "      <td>0.768308</td>\n",
       "      <td>0.893993</td>\n",
       "      <td>0.978443</td>\n",
       "      <td>1.000000</td>\n",
       "      <td>1</td>\n",
       "      <td>0.127035</td>\n",
       "      <td>0.269371</td>\n",
       "      <td>0</td>\n",
       "      <td>...</td>\n",
       "      <td>0.724724</td>\n",
       "      <td>0.189781</td>\n",
       "      <td>1.000000</td>\n",
       "      <td>0.000000</td>\n",
       "      <td>0.000000</td>\n",
       "      <td>0.824932</td>\n",
       "      <td>0.701324</td>\n",
       "      <td>0.088347</td>\n",
       "      <td>0.783862</td>\n",
       "      <td>0.274544</td>\n",
       "    </tr>\n",
       "    <tr>\n",
       "      <th>2</th>\n",
       "      <td>0.118831</td>\n",
       "      <td>0</td>\n",
       "      <td>0.591002</td>\n",
       "      <td>0.492763</td>\n",
       "      <td>0.929639</td>\n",
       "      <td>0.839152</td>\n",
       "      <td>1</td>\n",
       "      <td>0.867767</td>\n",
       "      <td>0.000000</td>\n",
       "      <td>0</td>\n",
       "      <td>...</td>\n",
       "      <td>0.446803</td>\n",
       "      <td>0.311648</td>\n",
       "      <td>1.000000</td>\n",
       "      <td>0.000000</td>\n",
       "      <td>0.000000</td>\n",
       "      <td>0.000000</td>\n",
       "      <td>0.148938</td>\n",
       "      <td>1.000000</td>\n",
       "      <td>0.000000</td>\n",
       "      <td>0.790851</td>\n",
       "    </tr>\n",
       "    <tr>\n",
       "      <th>3</th>\n",
       "      <td>0.612001</td>\n",
       "      <td>0</td>\n",
       "      <td>0.426731</td>\n",
       "      <td>0.681949</td>\n",
       "      <td>0.000000</td>\n",
       "      <td>1.000000</td>\n",
       "      <td>1</td>\n",
       "      <td>0.982079</td>\n",
       "      <td>0.000000</td>\n",
       "      <td>0</td>\n",
       "      <td>...</td>\n",
       "      <td>1.000000</td>\n",
       "      <td>0.835272</td>\n",
       "      <td>1.000000</td>\n",
       "      <td>0.000000</td>\n",
       "      <td>0.508689</td>\n",
       "      <td>0.000000</td>\n",
       "      <td>0.000000</td>\n",
       "      <td>0.831429</td>\n",
       "      <td>0.000000</td>\n",
       "      <td>0.501660</td>\n",
       "    </tr>\n",
       "    <tr>\n",
       "      <th>4</th>\n",
       "      <td>0.745598</td>\n",
       "      <td>0</td>\n",
       "      <td>0.586912</td>\n",
       "      <td>0.796738</td>\n",
       "      <td>0.000000</td>\n",
       "      <td>0.591420</td>\n",
       "      <td>1</td>\n",
       "      <td>0.212199</td>\n",
       "      <td>0.000000</td>\n",
       "      <td>0</td>\n",
       "      <td>...</td>\n",
       "      <td>1.000000</td>\n",
       "      <td>0.450284</td>\n",
       "      <td>0.621685</td>\n",
       "      <td>0.000000</td>\n",
       "      <td>0.000000</td>\n",
       "      <td>0.000000</td>\n",
       "      <td>0.952146</td>\n",
       "      <td>1.000000</td>\n",
       "      <td>0.000000</td>\n",
       "      <td>0.892247</td>\n",
       "    </tr>\n",
       "  </tbody>\n",
       "</table>\n",
       "<p>5 rows × 60300 columns</p>\n",
       "</div>"
      ],
      "text/plain": [
       "   perfect_middle_noise0_iter0  middle0_00_noise0_iter0  \\\n",
       "0                     1.000000                        0   \n",
       "1                     0.205484                        0   \n",
       "2                     0.118831                        0   \n",
       "3                     0.612001                        0   \n",
       "4                     0.745598                        0   \n",
       "\n",
       "   middle0_01_noise0_iter0  middle0_02_noise0_iter0  middle0_03_noise0_iter0  \\\n",
       "0                 0.622234                 0.637108                 0.000000   \n",
       "1                 0.768308                 0.893993                 0.978443   \n",
       "2                 0.591002                 0.492763                 0.929639   \n",
       "3                 0.426731                 0.681949                 0.000000   \n",
       "4                 0.586912                 0.796738                 0.000000   \n",
       "\n",
       "   middle0_04_noise0_iter0  middle0_05_noise0_iter0  middle0_06_noise0_iter0  \\\n",
       "0                 0.889743                        0                 0.803556   \n",
       "1                 1.000000                        1                 0.127035   \n",
       "2                 0.839152                        1                 0.867767   \n",
       "3                 1.000000                        1                 0.982079   \n",
       "4                 0.591420                        1                 0.212199   \n",
       "\n",
       "   middle0_07_noise0_iter0  middle0_08_noise0_iter0  \\\n",
       "0                 0.000000                        0   \n",
       "1                 0.269371                        0   \n",
       "2                 0.000000                        0   \n",
       "3                 0.000000                        0   \n",
       "4                 0.000000                        0   \n",
       "\n",
       "                ...                 bimodal_91_noise100_iter9  \\\n",
       "0               ...                                  0.932852   \n",
       "1               ...                                  0.724724   \n",
       "2               ...                                  0.446803   \n",
       "3               ...                                  1.000000   \n",
       "4               ...                                  1.000000   \n",
       "\n",
       "   bimodal_92_noise100_iter9  bimodal_93_noise100_iter9  \\\n",
       "0                   0.264614                   0.588628   \n",
       "1                   0.189781                   1.000000   \n",
       "2                   0.311648                   1.000000   \n",
       "3                   0.835272                   1.000000   \n",
       "4                   0.450284                   0.621685   \n",
       "\n",
       "   bimodal_94_noise100_iter9  bimodal_95_noise100_iter9  \\\n",
       "0                   0.756909                   0.000000   \n",
       "1                   0.000000                   0.000000   \n",
       "2                   0.000000                   0.000000   \n",
       "3                   0.000000                   0.508689   \n",
       "4                   0.000000                   0.000000   \n",
       "\n",
       "   bimodal_96_noise100_iter9  bimodal_97_noise100_iter9  \\\n",
       "0                   0.000000                   0.250492   \n",
       "1                   0.824932                   0.701324   \n",
       "2                   0.000000                   0.148938   \n",
       "3                   0.000000                   0.000000   \n",
       "4                   0.000000                   0.952146   \n",
       "\n",
       "   bimodal_98_noise100_iter9  perfect_included_noise100_iter9  \\\n",
       "0                   1.000000                         0.000000   \n",
       "1                   0.088347                         0.783862   \n",
       "2                   1.000000                         0.000000   \n",
       "3                   0.831429                         0.000000   \n",
       "4                   1.000000                         0.000000   \n",
       "\n",
       "   perfect_excluded_noise100_iter9  \n",
       "0                         1.000000  \n",
       "1                         0.274544  \n",
       "2                         0.790851  \n",
       "3                         0.501660  \n",
       "4                         0.892247  \n",
       "\n",
       "[5 rows x 60300 columns]"
      ]
     },
     "execution_count": 9,
     "metadata": {},
     "output_type": "execute_result"
    }
   ],
   "source": [
    "np.random.seed(sum(map(ord, 'beyonce')))\n",
    "shuffled_data = data.copy()\n",
    "shuffled_columns = np.random.permutation(data.columns)\n",
    "shuffled_data = shuffled_data[shuffled_columns]\n",
    "shuffled_data.columns = data.columns\n",
    "shuffled_data.head()"
   ]
  },
  {
   "cell_type": "code",
   "execution_count": 10,
   "metadata": {
    "collapsed": true
   },
   "outputs": [],
   "source": [
    "shuffled_data.to_csv('shuffled_data.csv')"
   ]
  },
  {
   "cell_type": "markdown",
   "metadata": {},
   "source": [
    "### Calculate waypoints of shuffled data"
   ]
  },
  {
   "cell_type": "code",
   "execution_count": 11,
   "metadata": {
    "collapsed": false
   },
   "outputs": [
    {
     "name": "stdout",
     "output_type": "stream",
     "text": [
      "(60300, 2)\n"
     ]
    },
    {
     "data": {
      "text/html": [
       "<div>\n",
       "<table border=\"1\" class=\"dataframe\">\n",
       "  <thead>\n",
       "    <tr style=\"text-align: right;\">\n",
       "      <th></th>\n",
       "      <th>0</th>\n",
       "      <th>1</th>\n",
       "    </tr>\n",
       "  </thead>\n",
       "  <tbody>\n",
       "    <tr>\n",
       "      <th>perfect_middle_noise0_iter0</th>\n",
       "      <td>0.05</td>\n",
       "      <td>0.22</td>\n",
       "    </tr>\n",
       "    <tr>\n",
       "      <th>middle0_00_noise0_iter0</th>\n",
       "      <td>0.22</td>\n",
       "      <td>0.00</td>\n",
       "    </tr>\n",
       "    <tr>\n",
       "      <th>middle0_01_noise0_iter0</th>\n",
       "      <td>0.09</td>\n",
       "      <td>0.08</td>\n",
       "    </tr>\n",
       "    <tr>\n",
       "      <th>middle0_02_noise0_iter0</th>\n",
       "      <td>0.06</td>\n",
       "      <td>0.09</td>\n",
       "    </tr>\n",
       "    <tr>\n",
       "      <th>middle0_03_noise0_iter0</th>\n",
       "      <td>0.19</td>\n",
       "      <td>0.39</td>\n",
       "    </tr>\n",
       "  </tbody>\n",
       "</table>\n",
       "</div>"
      ],
      "text/plain": [
       "                                0     1\n",
       "perfect_middle_noise0_iter0  0.05  0.22\n",
       "middle0_00_noise0_iter0      0.22  0.00\n",
       "middle0_01_noise0_iter0      0.09  0.08\n",
       "middle0_02_noise0_iter0      0.06  0.09\n",
       "middle0_03_noise0_iter0      0.19  0.39"
      ]
     },
     "execution_count": 11,
     "metadata": {},
     "output_type": "execute_result"
    }
   ],
   "source": [
    "# Initialize the waypoints transformer\n",
    "ws = bonvoyage.Waypoints()\n",
    "\n",
    "shuffled_waypoints = ws.fit_transform(shuffled_data)\n",
    "six.print_(shuffled_waypoints.shape)\n",
    "shuffled_waypoints.head()"
   ]
  },
  {
   "cell_type": "code",
   "execution_count": 12,
   "metadata": {
    "collapsed": true
   },
   "outputs": [],
   "source": [
    "shuffled_waypoints.to_csv('shuffled_waypoints.csv')"
   ]
  },
  {
   "cell_type": "code",
   "execution_count": 13,
   "metadata": {
    "collapsed": false
   },
   "outputs": [
    {
     "name": "stdout",
     "output_type": "stream",
     "text": [
      "[ 0.   0.1  0.2  0.3  0.4  0.5  0.6  0.7  0.8  0.9  1. ]\n"
     ]
    }
   ],
   "source": [
    "bins = np.arange(0, 1.1, .1)\n",
    "six.print_(bins)\n"
   ]
  },
  {
   "cell_type": "code",
   "execution_count": 14,
   "metadata": {
    "collapsed": true
   },
   "outputs": [],
   "source": [
    "\n",
    "import anchor\n",
    "jsd = anchor.infotheory.binify_and_jsd(data, shuffled_data, 'data vs shuffled', bins)"
   ]
  },
  {
   "cell_type": "code",
   "execution_count": 15,
   "metadata": {
    "collapsed": false
   },
   "outputs": [
    {
     "data": {
      "text/plain": [
       "perfect_middle_noise0_iter0    0.694936\n",
       "middle0_00_noise0_iter0        0.352927\n",
       "middle0_01_noise0_iter0        0.820496\n",
       "middle0_02_noise0_iter0        0.715798\n",
       "middle0_03_noise0_iter0        0.883050\n",
       "Name: data vs shuffled, dtype: float64"
      ]
     },
     "execution_count": 15,
     "metadata": {},
     "output_type": "execute_result"
    }
   ],
   "source": [
    "jsd.head()"
   ]
  },
  {
   "cell_type": "markdown",
   "metadata": {},
   "source": [
    "### Combine waypoints into one dataframe"
   ]
  },
  {
   "cell_type": "code",
   "execution_count": 16,
   "metadata": {
    "collapsed": false
   },
   "outputs": [
    {
     "ename": "IOError",
     "evalue": "File waypoints.csv does not exist",
     "output_type": "error",
     "traceback": [
      "\u001b[1;31m---------------------------------------------------------------------------\u001b[0m",
      "\u001b[1;31mIOError\u001b[0m                                   Traceback (most recent call last)",
      "\u001b[1;32m<ipython-input-16-ab92e142bd86>\u001b[0m in \u001b[0;36m<module>\u001b[1;34m()\u001b[0m\n\u001b[1;32m----> 1\u001b[1;33m \u001b[0mwaypoints\u001b[0m \u001b[1;33m=\u001b[0m \u001b[0mpd\u001b[0m\u001b[1;33m.\u001b[0m\u001b[0mread_csv\u001b[0m\u001b[1;33m(\u001b[0m\u001b[1;34m'waypoints.csv'\u001b[0m\u001b[1;33m,\u001b[0m \u001b[0mindex_col\u001b[0m\u001b[1;33m=\u001b[0m\u001b[1;36m0\u001b[0m\u001b[1;33m)\u001b[0m\u001b[1;33m\u001b[0m\u001b[0m\n\u001b[0m\u001b[0;32m      2\u001b[0m \u001b[0mwaypoints\u001b[0m\u001b[1;33m.\u001b[0m\u001b[0mhead\u001b[0m\u001b[1;33m(\u001b[0m\u001b[1;33m)\u001b[0m\u001b[1;33m\u001b[0m\u001b[0m\n",
      "\u001b[1;32m/home/obotvinnik/anaconda/lib/python2.7/site-packages/pandas/io/parsers.pyc\u001b[0m in \u001b[0;36mparser_f\u001b[1;34m(filepath_or_buffer, sep, dialect, compression, doublequote, escapechar, quotechar, quoting, skipinitialspace, lineterminator, header, index_col, names, prefix, skiprows, skipfooter, skip_footer, na_values, true_values, false_values, delimiter, converters, dtype, usecols, engine, delim_whitespace, as_recarray, na_filter, compact_ints, use_unsigned, low_memory, buffer_lines, warn_bad_lines, error_bad_lines, keep_default_na, thousands, comment, decimal, parse_dates, keep_date_col, dayfirst, date_parser, memory_map, float_precision, nrows, iterator, chunksize, verbose, encoding, squeeze, mangle_dupe_cols, tupleize_cols, infer_datetime_format, skip_blank_lines)\u001b[0m\n\u001b[0;32m    496\u001b[0m                     skip_blank_lines=skip_blank_lines)\n\u001b[0;32m    497\u001b[0m \u001b[1;33m\u001b[0m\u001b[0m\n\u001b[1;32m--> 498\u001b[1;33m         \u001b[1;32mreturn\u001b[0m \u001b[0m_read\u001b[0m\u001b[1;33m(\u001b[0m\u001b[0mfilepath_or_buffer\u001b[0m\u001b[1;33m,\u001b[0m \u001b[0mkwds\u001b[0m\u001b[1;33m)\u001b[0m\u001b[1;33m\u001b[0m\u001b[0m\n\u001b[0m\u001b[0;32m    499\u001b[0m \u001b[1;33m\u001b[0m\u001b[0m\n\u001b[0;32m    500\u001b[0m     \u001b[0mparser_f\u001b[0m\u001b[1;33m.\u001b[0m\u001b[0m__name__\u001b[0m \u001b[1;33m=\u001b[0m \u001b[0mname\u001b[0m\u001b[1;33m\u001b[0m\u001b[0m\n",
      "\u001b[1;32m/home/obotvinnik/anaconda/lib/python2.7/site-packages/pandas/io/parsers.pyc\u001b[0m in \u001b[0;36m_read\u001b[1;34m(filepath_or_buffer, kwds)\u001b[0m\n\u001b[0;32m    273\u001b[0m \u001b[1;33m\u001b[0m\u001b[0m\n\u001b[0;32m    274\u001b[0m     \u001b[1;31m# Create the parser.\u001b[0m\u001b[1;33m\u001b[0m\u001b[1;33m\u001b[0m\u001b[0m\n\u001b[1;32m--> 275\u001b[1;33m     \u001b[0mparser\u001b[0m \u001b[1;33m=\u001b[0m \u001b[0mTextFileReader\u001b[0m\u001b[1;33m(\u001b[0m\u001b[0mfilepath_or_buffer\u001b[0m\u001b[1;33m,\u001b[0m \u001b[1;33m**\u001b[0m\u001b[0mkwds\u001b[0m\u001b[1;33m)\u001b[0m\u001b[1;33m\u001b[0m\u001b[0m\n\u001b[0m\u001b[0;32m    276\u001b[0m \u001b[1;33m\u001b[0m\u001b[0m\n\u001b[0;32m    277\u001b[0m     \u001b[1;32mif\u001b[0m \u001b[1;33m(\u001b[0m\u001b[0mnrows\u001b[0m \u001b[1;32mis\u001b[0m \u001b[1;32mnot\u001b[0m \u001b[0mNone\u001b[0m\u001b[1;33m)\u001b[0m \u001b[1;32mand\u001b[0m \u001b[1;33m(\u001b[0m\u001b[0mchunksize\u001b[0m \u001b[1;32mis\u001b[0m \u001b[1;32mnot\u001b[0m \u001b[0mNone\u001b[0m\u001b[1;33m)\u001b[0m\u001b[1;33m:\u001b[0m\u001b[1;33m\u001b[0m\u001b[0m\n",
      "\u001b[1;32m/home/obotvinnik/anaconda/lib/python2.7/site-packages/pandas/io/parsers.pyc\u001b[0m in \u001b[0;36m__init__\u001b[1;34m(self, f, engine, **kwds)\u001b[0m\n\u001b[0;32m    588\u001b[0m             \u001b[0mself\u001b[0m\u001b[1;33m.\u001b[0m\u001b[0moptions\u001b[0m\u001b[1;33m[\u001b[0m\u001b[1;34m'has_index_names'\u001b[0m\u001b[1;33m]\u001b[0m \u001b[1;33m=\u001b[0m \u001b[0mkwds\u001b[0m\u001b[1;33m[\u001b[0m\u001b[1;34m'has_index_names'\u001b[0m\u001b[1;33m]\u001b[0m\u001b[1;33m\u001b[0m\u001b[0m\n\u001b[0;32m    589\u001b[0m \u001b[1;33m\u001b[0m\u001b[0m\n\u001b[1;32m--> 590\u001b[1;33m         \u001b[0mself\u001b[0m\u001b[1;33m.\u001b[0m\u001b[0m_make_engine\u001b[0m\u001b[1;33m(\u001b[0m\u001b[0mself\u001b[0m\u001b[1;33m.\u001b[0m\u001b[0mengine\u001b[0m\u001b[1;33m)\u001b[0m\u001b[1;33m\u001b[0m\u001b[0m\n\u001b[0m\u001b[0;32m    591\u001b[0m \u001b[1;33m\u001b[0m\u001b[0m\n\u001b[0;32m    592\u001b[0m     \u001b[1;32mdef\u001b[0m \u001b[0m_get_options_with_defaults\u001b[0m\u001b[1;33m(\u001b[0m\u001b[0mself\u001b[0m\u001b[1;33m,\u001b[0m \u001b[0mengine\u001b[0m\u001b[1;33m)\u001b[0m\u001b[1;33m:\u001b[0m\u001b[1;33m\u001b[0m\u001b[0m\n",
      "\u001b[1;32m/home/obotvinnik/anaconda/lib/python2.7/site-packages/pandas/io/parsers.pyc\u001b[0m in \u001b[0;36m_make_engine\u001b[1;34m(self, engine)\u001b[0m\n\u001b[0;32m    729\u001b[0m     \u001b[1;32mdef\u001b[0m \u001b[0m_make_engine\u001b[0m\u001b[1;33m(\u001b[0m\u001b[0mself\u001b[0m\u001b[1;33m,\u001b[0m \u001b[0mengine\u001b[0m\u001b[1;33m=\u001b[0m\u001b[1;34m'c'\u001b[0m\u001b[1;33m)\u001b[0m\u001b[1;33m:\u001b[0m\u001b[1;33m\u001b[0m\u001b[0m\n\u001b[0;32m    730\u001b[0m         \u001b[1;32mif\u001b[0m \u001b[0mengine\u001b[0m \u001b[1;33m==\u001b[0m \u001b[1;34m'c'\u001b[0m\u001b[1;33m:\u001b[0m\u001b[1;33m\u001b[0m\u001b[0m\n\u001b[1;32m--> 731\u001b[1;33m             \u001b[0mself\u001b[0m\u001b[1;33m.\u001b[0m\u001b[0m_engine\u001b[0m \u001b[1;33m=\u001b[0m \u001b[0mCParserWrapper\u001b[0m\u001b[1;33m(\u001b[0m\u001b[0mself\u001b[0m\u001b[1;33m.\u001b[0m\u001b[0mf\u001b[0m\u001b[1;33m,\u001b[0m \u001b[1;33m**\u001b[0m\u001b[0mself\u001b[0m\u001b[1;33m.\u001b[0m\u001b[0moptions\u001b[0m\u001b[1;33m)\u001b[0m\u001b[1;33m\u001b[0m\u001b[0m\n\u001b[0m\u001b[0;32m    732\u001b[0m         \u001b[1;32melse\u001b[0m\u001b[1;33m:\u001b[0m\u001b[1;33m\u001b[0m\u001b[0m\n\u001b[0;32m    733\u001b[0m             \u001b[1;32mif\u001b[0m \u001b[0mengine\u001b[0m \u001b[1;33m==\u001b[0m \u001b[1;34m'python'\u001b[0m\u001b[1;33m:\u001b[0m\u001b[1;33m\u001b[0m\u001b[0m\n",
      "\u001b[1;32m/home/obotvinnik/anaconda/lib/python2.7/site-packages/pandas/io/parsers.pyc\u001b[0m in \u001b[0;36m__init__\u001b[1;34m(self, src, **kwds)\u001b[0m\n\u001b[0;32m   1101\u001b[0m         \u001b[0mkwds\u001b[0m\u001b[1;33m[\u001b[0m\u001b[1;34m'allow_leading_cols'\u001b[0m\u001b[1;33m]\u001b[0m \u001b[1;33m=\u001b[0m \u001b[0mself\u001b[0m\u001b[1;33m.\u001b[0m\u001b[0mindex_col\u001b[0m \u001b[1;32mis\u001b[0m \u001b[1;32mnot\u001b[0m \u001b[0mFalse\u001b[0m\u001b[1;33m\u001b[0m\u001b[0m\n\u001b[0;32m   1102\u001b[0m \u001b[1;33m\u001b[0m\u001b[0m\n\u001b[1;32m-> 1103\u001b[1;33m         \u001b[0mself\u001b[0m\u001b[1;33m.\u001b[0m\u001b[0m_reader\u001b[0m \u001b[1;33m=\u001b[0m \u001b[0m_parser\u001b[0m\u001b[1;33m.\u001b[0m\u001b[0mTextReader\u001b[0m\u001b[1;33m(\u001b[0m\u001b[0msrc\u001b[0m\u001b[1;33m,\u001b[0m \u001b[1;33m**\u001b[0m\u001b[0mkwds\u001b[0m\u001b[1;33m)\u001b[0m\u001b[1;33m\u001b[0m\u001b[0m\n\u001b[0m\u001b[0;32m   1104\u001b[0m \u001b[1;33m\u001b[0m\u001b[0m\n\u001b[0;32m   1105\u001b[0m         \u001b[1;31m# XXX\u001b[0m\u001b[1;33m\u001b[0m\u001b[1;33m\u001b[0m\u001b[0m\n",
      "\u001b[1;32mpandas/parser.pyx\u001b[0m in \u001b[0;36mpandas.parser.TextReader.__cinit__ (pandas/parser.c:3246)\u001b[1;34m()\u001b[0m\n",
      "\u001b[1;32mpandas/parser.pyx\u001b[0m in \u001b[0;36mpandas.parser.TextReader._setup_parser_source (pandas/parser.c:6111)\u001b[1;34m()\u001b[0m\n",
      "\u001b[1;31mIOError\u001b[0m: File waypoints.csv does not exist"
     ]
    }
   ],
   "source": [
    "waypoints = pd.read_csv('waypoints.csv', index_col=0)\n",
    "waypoints.head()"
   ]
  },
  {
   "cell_type": "code",
   "execution_count": null,
   "metadata": {
    "collapsed": false
   },
   "outputs": [],
   "source": [
    "waypoints.columns"
   ]
  },
  {
   "cell_type": "code",
   "execution_count": null,
   "metadata": {
    "collapsed": false
   },
   "outputs": [],
   "source": [
    "shuffled_waypoints.columns"
   ]
  },
  {
   "cell_type": "code",
   "execution_count": null,
   "metadata": {
    "collapsed": true
   },
   "outputs": [],
   "source": [
    "waypoints.columns = shuffled_waypoints.columns"
   ]
  },
  {
   "cell_type": "code",
   "execution_count": null,
   "metadata": {
    "collapsed": false
   },
   "outputs": [],
   "source": [
    "waypoints['phenotype'] = 'original'\n",
    "shuffled_waypoints['phenotype'] = 'shuffled'\n",
    "\n",
    "waypoints_combined = pd.concat([waypoints, shuffled_waypoints])\n",
    "waypoints_combined = waypoints_combined.set_index('phenotype', append=True)\n",
    "waypoints_combined.index = waypoints_combined.index.swaplevel(0, 1)\n",
    "waypoints_combined = waypoints_combined.sort_index()\n",
    "waypoints_combined.head()"
   ]
  },
  {
   "cell_type": "code",
   "execution_count": null,
   "metadata": {
    "collapsed": false
   },
   "outputs": [],
   "source": [
    "v = bonvoyage.Voyages()\n",
    "voyages = v.voyages(waypoints_combined, [('original', 'shuffled')])"
   ]
  },
  {
   "cell_type": "code",
   "execution_count": null,
   "metadata": {
    "collapsed": false
   },
   "outputs": [],
   "source": [
    "voyages.head()"
   ]
  },
  {
   "cell_type": "code",
   "execution_count": null,
   "metadata": {
    "collapsed": false
   },
   "outputs": [],
   "source": [
    "voyages = voyages.set_index('event_id')\n",
    "voyages.head()"
   ]
  },
  {
   "cell_type": "code",
   "execution_count": null,
   "metadata": {
    "collapsed": false
   },
   "outputs": [],
   "source": [
    "voyages['magnitude'].corr(jsd)"
   ]
  },
  {
   "cell_type": "code",
   "execution_count": null,
   "metadata": {
    "collapsed": false
   },
   "outputs": [],
   "source": [
    "jsd.corr(voyages['magnitude'])"
   ]
  },
  {
   "cell_type": "code",
   "execution_count": null,
   "metadata": {
    "collapsed": false
   },
   "outputs": [],
   "source": [
    "voyages['magnitude'].describe()"
   ]
  },
  {
   "cell_type": "code",
   "execution_count": null,
   "metadata": {
    "collapsed": false
   },
   "outputs": [],
   "source": [
    "g = sns.jointplot(voyages['magnitude'], jsd,)"
   ]
  },
  {
   "cell_type": "code",
   "execution_count": null,
   "metadata": {
    "collapsed": false
   },
   "outputs": [],
   "source": [
    "g = sns.jointplot(voyages['magnitude'], jsd, kind='hex', color='#262626', size=3, stat_func=None)\n",
    "g.ax_joint.set(xlabel='Voyages', ylabel='JSD', xticks=(0, 0.4, 0.8, 1.2), yticks=(0, 0.5, 1))\n",
    "g.savefig('{}/jsd_vs_voyages.pdf'.format(folder))"
   ]
  },
  {
   "cell_type": "code",
   "execution_count": null,
   "metadata": {
    "collapsed": true
   },
   "outputs": [],
   "source": []
  }
 ],
 "metadata": {
  "kernelspec": {
   "display_name": "Python 2",
   "language": "python",
   "name": "python2"
  },
  "language_info": {
   "codemirror_mode": {
    "name": "ipython",
    "version": 2
   },
   "file_extension": ".py",
   "mimetype": "text/x-python",
   "name": "python",
   "nbconvert_exporter": "python",
   "pygments_lexer": "ipython2",
   "version": "2.7.11"
  }
 },
 "nbformat": 4,
 "nbformat_minor": 0
}
