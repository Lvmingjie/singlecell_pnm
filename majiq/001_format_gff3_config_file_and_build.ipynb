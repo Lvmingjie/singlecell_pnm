{
 "cells": [
  {
   "cell_type": "code",
   "execution_count": 1,
   "metadata": {
    "collapsed": false
   },
   "outputs": [
    {
     "data": {
      "text/plain": [
       "{'genome': 'hg19',\n",
       " 'genome_path': '/projects/ps-yeolab/genomes/hg19/gencode/v19/GRCh37.p13.genome.fa',\n",
       " 'readlen': 100,\n",
       " 'samdir': '/home/obotvinnik/projects/singlecell_pnms/analysis/bams_from_aws'}"
      ]
     },
     "execution_count": 1,
     "metadata": {},
     "output_type": "execute_result"
    }
   ],
   "source": [
    "info = dict(readlen = 100,\n",
    "samdir = '/home/obotvinnik/projects/singlecell_pnms/analysis/bams_from_aws',\n",
    "genome = 'hg19',\n",
    "genome_path = '/projects/ps-yeolab/genomes/hg19/gencode/v19/GRCh37.p13.genome.fa')\n",
    "\n",
    "info"
   ]
  },
  {
   "cell_type": "code",
   "execution_count": 2,
   "metadata": {
    "collapsed": false
   },
   "outputs": [
    {
     "data": {
      "text/plain": [
       "320"
      ]
     },
     "execution_count": 2,
     "metadata": {},
     "output_type": "execute_result"
    }
   ],
   "source": [
    "import glob\n",
    "\n",
    "bams = glob.glob('{}/*.bam'.format(info['samdir']))\n",
    "len(bams)"
   ]
  },
  {
   "cell_type": "code",
   "execution_count": 1,
   "metadata": {
    "collapsed": false
   },
   "outputs": [
    {
     "ename": "NameError",
     "evalue": "name 'bams' is not defined",
     "output_type": "error",
     "traceback": [
      "\u001b[1;31m---------------------------------------------------------------------------\u001b[0m",
      "\u001b[1;31mNameError\u001b[0m                                 Traceback (most recent call last)",
      "\u001b[1;32m<ipython-input-1-2d474db33a2a>\u001b[0m in \u001b[0;36m<module>\u001b[1;34m()\u001b[0m\n\u001b[0;32m      1\u001b[0m \u001b[1;32mimport\u001b[0m \u001b[0mos\u001b[0m\u001b[1;33m\u001b[0m\u001b[0m\n\u001b[0;32m      2\u001b[0m \u001b[1;33m\u001b[0m\u001b[0m\n\u001b[1;32m----> 3\u001b[1;33m \u001b[0mbams\u001b[0m \u001b[1;33m=\u001b[0m \u001b[1;33m[\u001b[0m\u001b[0mbam\u001b[0m \u001b[1;32mfor\u001b[0m \u001b[0mbam\u001b[0m \u001b[1;32min\u001b[0m \u001b[0mbams\u001b[0m \u001b[1;32mif\u001b[0m \u001b[0mos\u001b[0m\u001b[1;33m.\u001b[0m\u001b[0mpath\u001b[0m\u001b[1;33m.\u001b[0m\u001b[0mexists\u001b[0m\u001b[1;33m(\u001b[0m\u001b[0mos\u001b[0m\u001b[1;33m.\u001b[0m\u001b[0mpath\u001b[0m\u001b[1;33m.\u001b[0m\u001b[0mrealpath\u001b[0m\u001b[1;33m(\u001b[0m\u001b[0mbam\u001b[0m\u001b[1;33m)\u001b[0m\u001b[1;33m)\u001b[0m\u001b[1;33m]\u001b[0m\u001b[1;33m\u001b[0m\u001b[0m\n\u001b[0m\u001b[0;32m      4\u001b[0m \u001b[0mlen\u001b[0m\u001b[1;33m(\u001b[0m\u001b[0mbams\u001b[0m\u001b[1;33m)\u001b[0m\u001b[1;33m\u001b[0m\u001b[0m\n",
      "\u001b[1;31mNameError\u001b[0m: name 'bams' is not defined"
     ]
    }
   ],
   "source": [
    "import os\n",
    "\n",
    "bams = [bam for bam in bams if os.path.exists(os.path.realpath(bam))]\n",
    "len(bams)"
   ]
  },
  {
   "cell_type": "code",
   "execution_count": 5,
   "metadata": {
    "collapsed": false
   },
   "outputs": [
    {
     "data": {
      "text/plain": [
       "320"
      ]
     },
     "execution_count": 5,
     "metadata": {},
     "output_type": "execute_result"
    }
   ],
   "source": [
    "\n",
    "experiments = dict((os.path.basename(bam).split('.')[0].split('_R1')[0], \n",
    "                    os.path.basename(bam).split('.bam')[0])\n",
    "                   for bam in bams)\n",
    "len(experiments)"
   ]
  },
  {
   "cell_type": "code",
   "execution_count": 6,
   "metadata": {
    "collapsed": false
   },
   "outputs": [
    {
     "data": {
      "text/plain": [
       "{'CVN_01': 'CVN_01_R1.fastq.gz.polyATrim.adapterTrim.rmRep.sorted.rg',\n",
       " 'CVN_02': 'CVN_02_R1.fastq.gz.polyATrim.adapterTrim.rmRep.sorted.rg',\n",
       " 'CVN_03': 'CVN_03_R1.fastq.gz.polyATrim.adapterTrim.rmRep.sorted.rg',\n",
       " 'CVN_04': 'CVN_04_R1.fastq.gz.polyATrim.adapterTrim.rmRep.sorted.rg',\n",
       " 'CVN_05': 'CVN_05_R1.fastq.gz.polyATrim.adapterTrim.rmRep.sorted.rg',\n",
       " 'CVN_06': 'CVN_06_R1.fastq.gz.polyATrim.adapterTrim.rmRep.sorted.rg',\n",
       " 'CVN_07': 'CVN_07_R1.fastq.gz.polyATrim.adapterTrim.rmRep.sorted.rg',\n",
       " 'CVN_08': 'CVN_08_R1.fastq.gz.polyATrim.adapterTrim.rmRep.sorted.rg',\n",
       " 'CVN_09': 'CVN_09_R1.fastq.gz.polyATrim.adapterTrim.rmRep.sorted.rg',\n",
       " 'CVN_10': 'CVN_10_R1.fastq.gz.polyATrim.adapterTrim.rmRep.sorted.rg',\n",
       " 'CVN_11': 'CVN_11_R1.fastq.gz.polyATrim.adapterTrim.rmRep.sorted.rg',\n",
       " 'CVN_12': 'CVN_12_R1.fastq.gz.polyATrim.adapterTrim.rmRep.sorted.rg',\n",
       " 'CVN_13': 'CVN_13_R1.fastq.gz.polyATrim.adapterTrim.rmRep.sorted.rg',\n",
       " 'CVN_14': 'CVN_14_R1.fastq.gz.polyATrim.adapterTrim.rmRep.sorted.rg',\n",
       " 'CVN_15': 'CVN_15_R1.fastq.gz.polyATrim.adapterTrim.rmRep.sorted.rg',\n",
       " 'CVN_16': 'CVN_16_R1.fastq.gz.polyATrim.adapterTrim.rmRep.sorted.rg',\n",
       " 'CVN_17': 'CVN_17_R1.fastq.gz.polyATrim.adapterTrim.rmRep.sorted.rg',\n",
       " 'CVN_18': 'CVN_18_R1.fastq.gz.polyATrim.adapterTrim.rmRep.sorted.rg',\n",
       " 'CVN_19': 'CVN_19_R1.fastq.gz.polyATrim.adapterTrim.rmRep.sorted.rg',\n",
       " 'CVN_20': 'CVN_20_R1.fastq.gz.polyATrim.adapterTrim.rmRep.sorted.rg',\n",
       " 'CVN_21': 'CVN_21_R1.fastq.gz.polyATrim.adapterTrim.rmRep.sorted.rg',\n",
       " 'CVN_22': 'CVN_22_R1.fastq.gz.polyATrim.adapterTrim.rmRep.sorted.rg',\n",
       " 'CVN_23': 'CVN_23_R1.fastq.gz.polyATrim.adapterTrim.rmRep.sorted.rg',\n",
       " 'CVN_24': 'CVN_24_R1.fastq.gz.polyATrim.adapterTrim.rmRep.sorted.rg',\n",
       " 'CVN_25': 'CVN_25_R1.fastq.gz.polyATrim.adapterTrim.rmRep.sorted.rg',\n",
       " 'CVN_26': 'CVN_26_R1.fastq.gz.polyATrim.adapterTrim.rmRep.sorted.rg',\n",
       " 'CVN_27': 'CVN_27_R1.fastq.gz.polyATrim.adapterTrim.rmRep.sorted.rg',\n",
       " 'CVN_28': 'CVN_28_R1.fastq.gz.polyATrim.adapterTrim.rmRep.sorted.rg',\n",
       " 'CVN_29': 'CVN_29_R1.fastq.gz.polyATrim.adapterTrim.rmRep.sorted.rg',\n",
       " 'CVN_30': 'CVN_30_R1.fastq.gz.polyATrim.adapterTrim.rmRep.sorted.rg',\n",
       " 'CVN_31': 'CVN_31_R1.fastq.gz.polyATrim.adapterTrim.rmRep.sorted.rg',\n",
       " 'CVN_32': 'CVN_32_R1.fastq.gz.polyATrim.adapterTrim.rmRep.sorted.rg',\n",
       " 'CVN_33': 'CVN_33_R1.fastq.gz.polyATrim.adapterTrim.rmRep.sorted.rg',\n",
       " 'CVN_34': 'CVN_34_R1.fastq.gz.polyATrim.adapterTrim.rmRep.sorted.rg',\n",
       " 'CVN_35': 'CVN_35_R1.fastq.gz.polyATrim.adapterTrim.rmRep.sorted.rg',\n",
       " 'M1_01': 'M1_01_R1.fastq.gz.polyATrim.adapterTrim.rmRep.sorted.rg',\n",
       " 'M1_02': 'M1_02_R1.fastq.gz.polyATrim.adapterTrim.rmRep.sorted.rg',\n",
       " 'M1_03': 'M1_03_R1.fastq.gz.polyATrim.adapterTrim.rmRep.sorted.rg',\n",
       " 'M1_04': 'M1_04_R1.fastq.gz.polyATrim.adapterTrim.rmRep.sorted.rg',\n",
       " 'M1_05': 'M1_05_R1.fastq.gz.polyATrim.adapterTrim.rmRep.sorted.rg',\n",
       " 'M1_06': 'M1_06_R1.fastq.gz.polyATrim.adapterTrim.rmRep.sorted.rg',\n",
       " 'M1_07': 'M1_07_R1.fastq.gz.polyATrim.adapterTrim.rmRep.sorted.rg',\n",
       " 'M1_08': 'M1_08_R1.fastq.gz.polyATrim.adapterTrim.rmRep.sorted.rg',\n",
       " 'M1_09': 'M1_09_R1.fastq.gz.polyATrim.adapterTrim.rmRep.sorted.rg',\n",
       " 'M1_10': 'M1_10_R1.fastq.gz.polyATrim.adapterTrim.rmRep.sorted.rg',\n",
       " 'M1_11': 'M1_11_R1.fastq.gz.polyATrim.adapterTrim.rmRep.sorted.rg',\n",
       " 'M1_12': 'M1_12_R1.fastq.gz.polyATrim.adapterTrim.rmRep.sorted.rg',\n",
       " 'M2_01': 'M2_01_R1.fastq.gz.polyATrim.adapterTrim.rmRep.sorted.rg',\n",
       " 'M2_02': 'M2_02_R1.fastq.gz.polyATrim.adapterTrim.rmRep.sorted.rg',\n",
       " 'M2_03': 'M2_03_R1.fastq.gz.polyATrim.adapterTrim.rmRep.sorted.rg',\n",
       " 'M2_04': 'M2_04_R1.fastq.gz.polyATrim.adapterTrim.rmRep.sorted.rg',\n",
       " 'M2_05': 'M2_05_R1.fastq.gz.polyATrim.adapterTrim.rmRep.sorted.rg',\n",
       " 'M2_06': 'M2_06_R1.fastq.gz.polyATrim.adapterTrim.rmRep.sorted.rg',\n",
       " 'M2_07': 'M2_07_R1.fastq.gz.polyATrim.adapterTrim.rmRep.sorted.rg',\n",
       " 'M2_08': 'M2_08_R1.fastq.gz.polyATrim.adapterTrim.rmRep.sorted.rg',\n",
       " 'M2_09': 'M2_09_R1.fastq.gz.polyATrim.adapterTrim.rmRep.sorted.rg',\n",
       " 'M2_10': 'M2_10_R1.fastq.gz.polyATrim.adapterTrim.rmRep.sorted.rg',\n",
       " 'M2_11': 'M2_11_R1.fastq.gz.polyATrim.adapterTrim.rmRep.sorted.rg',\n",
       " 'M2_12': 'M2_12_R1.fastq.gz.polyATrim.adapterTrim.rmRep.sorted.rg',\n",
       " 'M2nd_01': 'M2nd_01_R1.fastq.gz.polyATrim.adapterTrim.rmRep.sorted.rg',\n",
       " 'M2nd_02': 'M2nd_02_R1.fastq.gz.polyATrim.adapterTrim.rmRep.sorted.rg',\n",
       " 'M2nd_03': 'M2nd_03_R1.fastq.gz.polyATrim.adapterTrim.rmRep.sorted.rg',\n",
       " 'M2nd_04': 'M2nd_04_R1.fastq.gz.polyATrim.adapterTrim.rmRep.sorted.rg',\n",
       " 'M2nd_05': 'M2nd_05_R1.fastq.gz.polyATrim.adapterTrim.rmRep.sorted.rg',\n",
       " 'M2nd_06': 'M2nd_06_R1.fastq.gz.polyATrim.adapterTrim.rmRep.sorted.rg',\n",
       " 'M2nd_07': 'M2nd_07_R1.fastq.gz.polyATrim.adapterTrim.rmRep.sorted.rg',\n",
       " 'M2nd_08': 'M2nd_08_R1.fastq.gz.polyATrim.adapterTrim.rmRep.sorted.rg',\n",
       " 'M2nd_09': 'M2nd_09_R1.fastq.gz.polyATrim.adapterTrim.rmRep.sorted.rg',\n",
       " 'M2nd_10': 'M2nd_10_R1.fastq.gz.polyATrim.adapterTrim.rmRep.sorted.rg',\n",
       " 'M2nd_11': 'M2nd_11_R1.fastq.gz.polyATrim.adapterTrim.rmRep.sorted.rg',\n",
       " 'M2nd_12': 'M2nd_12_R1.fastq.gz.polyATrim.adapterTrim.rmRep.sorted.rg',\n",
       " 'M2nd_13': 'M2nd_13_R1.fastq.gz.polyATrim.adapterTrim.rmRep.sorted.rg',\n",
       " 'M2nd_14': 'M2nd_14_R1.fastq.gz.polyATrim.adapterTrim.rmRep.sorted.rg',\n",
       " 'M2nd_15': 'M2nd_15_R1.fastq.gz.polyATrim.adapterTrim.rmRep.sorted.rg',\n",
       " 'M2nd_16': 'M2nd_16_R1.fastq.gz.polyATrim.adapterTrim.rmRep.sorted.rg',\n",
       " 'M2nd_17': 'M2nd_17_R1.fastq.gz.polyATrim.adapterTrim.rmRep.sorted.rg',\n",
       " 'M2nd_18': 'M2nd_18_R1.fastq.gz.polyATrim.adapterTrim.rmRep.sorted.rg',\n",
       " 'M2nd_19': 'M2nd_19_R1.fastq.gz.polyATrim.adapterTrim.rmRep.sorted.rg',\n",
       " 'M2nd_20': 'M2nd_20_R1.fastq.gz.polyATrim.adapterTrim.rmRep.sorted.rg',\n",
       " 'M2nd_21': 'M2nd_21_R1.fastq.gz.polyATrim.adapterTrim.rmRep.sorted.rg',\n",
       " 'M2nd_22': 'M2nd_22_R1.fastq.gz.polyATrim.adapterTrim.rmRep.sorted.rg',\n",
       " 'M2nd_23': 'M2nd_23_R1.fastq.gz.polyATrim.adapterTrim.rmRep.sorted.rg',\n",
       " 'M2nd_24': 'M2nd_24_R1.fastq.gz.polyATrim.adapterTrim.rmRep.sorted.rg',\n",
       " 'M2nd_25': 'M2nd_25_R1.fastq.gz.polyATrim.adapterTrim.rmRep.sorted.rg',\n",
       " 'M2nd_26': 'M2nd_26_R1.fastq.gz.polyATrim.adapterTrim.rmRep.sorted.rg',\n",
       " 'M2nd_27': 'M2nd_27_R1.fastq.gz.polyATrim.adapterTrim.rmRep.sorted.rg',\n",
       " 'M2nd_28': 'M2nd_28_R1.fastq.gz.polyATrim.adapterTrim.rmRep.sorted.rg',\n",
       " 'M2nd_29': 'M2nd_29_R1.fastq.gz.polyATrim.adapterTrim.rmRep.sorted.rg',\n",
       " 'M2nd_30': 'M2nd_30_R1.fastq.gz.polyATrim.adapterTrim.rmRep.sorted.rg',\n",
       " 'M2nd_31': 'M2nd_31_R1.fastq.gz.polyATrim.adapterTrim.rmRep.sorted.rg',\n",
       " 'M2nd_32': 'M2nd_32_R1.fastq.gz.polyATrim.adapterTrim.rmRep.sorted.rg',\n",
       " 'M2nd_33': 'M2nd_33_R1.fastq.gz.polyATrim.adapterTrim.rmRep.sorted.rg',\n",
       " 'M2nd_34': 'M2nd_34_R1.fastq.gz.polyATrim.adapterTrim.rmRep.sorted.rg',\n",
       " 'M3_01': 'M3_01_R1.fastq.gz.polyATrim.adapterTrim.rmRep.sorted.rg',\n",
       " 'M3_02': 'M3_02_R1.fastq.gz.polyATrim.adapterTrim.rmRep.sorted.rg',\n",
       " 'M3_03': 'M3_03_R1.fastq.gz.polyATrim.adapterTrim.rmRep.sorted.rg',\n",
       " 'M3_04': 'M3_04_R1.fastq.gz.polyATrim.adapterTrim.rmRep.sorted.rg',\n",
       " 'M3_040506': 'M3_040506_R1.fastq.gz.polyATrim.adapterTrim.rmRep.sorted.rg',\n",
       " 'M3_05': 'M3_05_R1.fastq.gz.polyATrim.adapterTrim.rmRep.sorted.rg',\n",
       " 'M3_06': 'M3_06_R1.fastq.gz.polyATrim.adapterTrim.rmRep.sorted.rg',\n",
       " 'M3_07': 'M3_07_R1.fastq.gz.polyATrim.adapterTrim.rmRep.sorted.rg',\n",
       " 'M3_08': 'M3_08_R1.fastq.gz.polyATrim.adapterTrim.rmRep.sorted.rg',\n",
       " 'M3_0809': 'M3_0809_R1.fastq.gz.polyATrim.adapterTrim.rmRep.sorted.rg',\n",
       " 'M3_09': 'M3_09_R1.fastq.gz.polyATrim.adapterTrim.rmRep.sorted.rg',\n",
       " 'M3_10': 'M3_10_R1.fastq.gz.polyATrim.adapterTrim.rmRep.sorted.rg',\n",
       " 'M3_1011': 'M3_1011_R1.fastq.gz.polyATrim.adapterTrim.rmRep.sorted.rg',\n",
       " 'M3_11': 'M3_11_R1.fastq.gz.polyATrim.adapterTrim.rmRep.sorted.rg',\n",
       " 'M3_12': 'M3_12_R1.fastq.gz.polyATrim.adapterTrim.rmRep.sorted.rg',\n",
       " 'M3_1213': 'M3_1213_R1.fastq.gz.polyATrim.adapterTrim.rmRep.sorted.rg',\n",
       " 'M3_13': 'M3_13_R1.fastq.gz.polyATrim.adapterTrim.rmRep.sorted.rg',\n",
       " 'M3_14': 'M3_14_R1.fastq.gz.polyATrim.adapterTrim.rmRep.sorted.rg',\n",
       " 'M4_01': 'M4_01_R1.fastq.gz.polyATrim.adapterTrim.rmRep.sorted.rg',\n",
       " 'M4_0102': 'M4_0102_R1.fastq.gz.polyATrim.adapterTrim.rmRep.sorted.rg',\n",
       " 'M4_02': 'M4_02_R1.fastq.gz.polyATrim.adapterTrim.rmRep.sorted.rg',\n",
       " 'M4_03': 'M4_03_R1.fastq.gz.polyATrim.adapterTrim.rmRep.sorted.rg',\n",
       " 'M4_0304': 'M4_0304_R1.fastq.gz.polyATrim.adapterTrim.rmRep.sorted.rg',\n",
       " 'M4_04': 'M4_04_R1.fastq.gz.polyATrim.adapterTrim.rmRep.sorted.rg',\n",
       " 'M4_05': 'M4_05_R1.fastq.gz.polyATrim.adapterTrim.rmRep.sorted.rg',\n",
       " 'M4_06': 'M4_06_R1.fastq.gz.polyATrim.adapterTrim.rmRep.sorted.rg',\n",
       " 'M4_07': 'M4_07_R1.fastq.gz.polyATrim.adapterTrim.rmRep.sorted.rg',\n",
       " 'M4_0708': 'M4_0708_R1.fastq.gz.polyATrim.adapterTrim.rmRep.sorted.rg',\n",
       " 'M4_08': 'M4_08_R1.fastq.gz.polyATrim.adapterTrim.rmRep.sorted.rg',\n",
       " 'M4_09': 'M4_09_R1.fastq.gz.polyATrim.adapterTrim.rmRep.sorted.rg',\n",
       " 'M4_0910': 'M4_0910_R1.fastq.gz.polyATrim.adapterTrim.rmRep.sorted.rg',\n",
       " 'M4_10': 'M4_10_R1.fastq.gz.polyATrim.adapterTrim.rmRep.sorted.rg',\n",
       " 'M4_11': 'M4_11_R1.fastq.gz.polyATrim.adapterTrim.rmRep.sorted.rg',\n",
       " 'M4_12': 'M4_12_R1.fastq.gz.polyATrim.adapterTrim.rmRep.sorted.rg',\n",
       " 'M4_13': 'M4_13_R1.fastq.gz.polyATrim.adapterTrim.rmRep.sorted.rg',\n",
       " 'M4_14': 'M4_14_R1.fastq.gz.polyATrim.adapterTrim.rmRep.sorted.rg',\n",
       " 'M5_01': 'M5_01_R1.fastq.gz.polyATrim.adapterTrim.rmRep.sorted.rg',\n",
       " 'M5_02': 'M5_02_R1.fastq.gz.polyATrim.adapterTrim.rmRep.sorted.rg',\n",
       " 'M5_03': 'M5_03_R1.fastq.gz.polyATrim.adapterTrim.rmRep.sorted.rg',\n",
       " 'M5_04': 'M5_04_R1.fastq.gz.polyATrim.adapterTrim.rmRep.sorted.rg',\n",
       " 'M6_01': 'M6_01_R1.fastq.gz.polyATrim.adapterTrim.rmRep.sorted.rg',\n",
       " 'M6_02': 'M6_02_R1.fastq.gz.polyATrim.adapterTrim.rmRep.sorted.rg',\n",
       " 'M6_03': 'M6_03_R1.fastq.gz.polyATrim.adapterTrim.rmRep.sorted',\n",
       " 'M6_04': 'M6_04_R1.fastq.gz.polyATrim.adapterTrim.rmRep.sorted',\n",
       " 'M6_05': 'M6_05_R1.fastq.gz.polyATrim.adapterTrim.rmRep.sorted',\n",
       " 'M6_06': 'M6_06_R1.fastq.gz.polyATrim.adapterTrim.rmRep.sorted',\n",
       " 'M6_07': 'M6_07_R1.fastq.gz.polyATrim.adapterTrim.rmRep.sorted',\n",
       " 'MSA_01': 'MSA_01_R1.fastq.gz.polyATrim.adapterTrim.rmRep.sorted.rg',\n",
       " 'MSA_02': 'MSA_02_R1.fastq.gz.polyATrim.adapterTrim.rmRep.sorted.rg',\n",
       " 'MSA_03': 'MSA_03_R1.fastq.gz.polyATrim.adapterTrim.rmRep.sorted.rg',\n",
       " 'MSA_04': 'MSA_04_R1.fastq.gz.polyATrim.adapterTrim.rmRep.sorted.rg',\n",
       " 'MSA_05': 'MSA_05_R1.fastq.gz.polyATrim.adapterTrim.rmRep.sorted.rg',\n",
       " 'MSA_06': 'MSA_06_R1.fastq.gz.polyATrim.adapterTrim.rmRep.sorted.rg',\n",
       " 'MSA_07': 'MSA_07_R1.fastq.gz.polyATrim.adapterTrim.rmRep.sorted.rg',\n",
       " 'MSA_08': 'MSA_08_R1.fastq.gz.polyATrim.adapterTrim.rmRep.sorted.rg',\n",
       " 'MSA_09': 'MSA_09_R1.fastq.gz.polyATrim.adapterTrim.rmRep.sorted.rg',\n",
       " 'MSA_10': 'MSA_10_R1.fastq.gz.polyATrim.adapterTrim.rmRep.sorted.rg',\n",
       " 'MSA_11': 'MSA_11_R1.fastq.gz.polyATrim.adapterTrim.rmRep.sorted.rg',\n",
       " 'MSA_12': 'MSA_12_R1.fastq.gz.polyATrim.adapterTrim.rmRep.sorted.rg',\n",
       " 'MSA_13': 'MSA_13_R1.fastq.gz.polyATrim.adapterTrim.rmRep.sorted.rg',\n",
       " 'MSA_14': 'MSA_14_R1.fastq.gz.polyATrim.adapterTrim.rmRep.sorted.rg',\n",
       " 'MSA_15': 'MSA_15_R1.fastq.gz.polyATrim.adapterTrim.rmRep.sorted.rg',\n",
       " 'MSA_16': 'MSA_16_R1.fastq.gz.polyATrim.adapterTrim.rmRep.sorted.rg',\n",
       " 'MSA_17': 'MSA_17_R1.fastq.gz.polyATrim.adapterTrim.rmRep.sorted.rg',\n",
       " 'MSA_18': 'MSA_18_R1.fastq.gz.polyATrim.adapterTrim.rmRep.sorted.rg',\n",
       " 'MSA_19': 'MSA_19_R1.fastq.gz.polyATrim.adapterTrim.rmRep.sorted.rg',\n",
       " 'MSA_20': 'MSA_20_R1.fastq.gz.polyATrim.adapterTrim.rmRep.sorted.rg',\n",
       " 'MSA_21': 'MSA_21_R1.fastq.gz.polyATrim.adapterTrim.rmRep.sorted.rg',\n",
       " 'MSA_22': 'MSA_22_R1.fastq.gz.polyATrim.adapterTrim.rmRep.sorted.rg',\n",
       " 'MSA_23': 'MSA_23_R1.fastq.gz.polyATrim.adapterTrim.rmRep.sorted.rg',\n",
       " 'MSA_24': 'MSA_24_R1.fastq.gz.polyATrim.adapterTrim.rmRep.sorted.rg',\n",
       " 'MSA_25': 'MSA_25_R1.fastq.gz.polyATrim.adapterTrim.rmRep.sorted.rg',\n",
       " 'MSA_26': 'MSA_26_R1.fastq.gz.polyATrim.adapterTrim.rmRep.sorted.rg',\n",
       " 'MSA_27': 'MSA_27_R1.fastq.gz.polyATrim.adapterTrim.rmRep.sorted.rg',\n",
       " 'MSA_28': 'MSA_28_R1.fastq.gz.polyATrim.adapterTrim.rmRep.sorted.rg',\n",
       " 'MSA_29': 'MSA_29_R1.fastq.gz.polyATrim.adapterTrim.rmRep.sorted.rg',\n",
       " 'MSA_30': 'MSA_30_R1.fastq.gz.polyATrim.adapterTrim.rmRep.sorted.rg',\n",
       " 'MSA_31': 'MSA_31_R1.fastq.gz.polyATrim.adapterTrim.rmRep.sorted.rg',\n",
       " 'MSA_32': 'MSA_32_R1.fastq.gz.polyATrim.adapterTrim.rmRep.sorted.rg',\n",
       " 'MSA_33': 'MSA_33_R1.fastq.gz.polyATrim.adapterTrim.rmRep.sorted.rg',\n",
       " 'MSA_34': 'MSA_34_R1.fastq.gz.polyATrim.adapterTrim.rmRep.sorted.rg',\n",
       " 'MSA_35': 'MSA_35_R1.fastq.gz.polyATrim.adapterTrim.rmRep.sorted.rg',\n",
       " 'MSA_36': 'MSA_36_R1.fastq.gz.polyATrim.adapterTrim.rmRep.sorted.rg',\n",
       " 'MSA_37': 'MSA_37_R1.fastq.gz.polyATrim.adapterTrim.rmRep.sorted.rg',\n",
       " 'N1_01': 'N1_01_R1.fastq.gz.polyATrim.adapterTrim.rmRep.sorted.rg',\n",
       " 'N1_02': 'N1_02_R1.fastq.gz.polyATrim.adapterTrim.rmRep.sorted.rg',\n",
       " 'N1_03': 'N1_03_R1.fastq.gz.polyATrim.adapterTrim.rmRep.sorted.rg',\n",
       " 'N1_04': 'N1_04_R1.fastq.gz.polyATrim.adapterTrim.rmRep.sorted.rg',\n",
       " 'N1_05': 'N1_05_R1.fastq.gz.polyATrim.adapterTrim.rmRep.sorted.rg',\n",
       " 'N1_06': 'N1_06_R1.fastq.gz.polyATrim.adapterTrim.rmRep.sorted.rg',\n",
       " 'N1_07': 'N1_07_R1.fastq.gz.polyATrim.adapterTrim.rmRep.sorted.rg',\n",
       " 'N1_08': 'N1_08_R1.fastq.gz.polyATrim.adapterTrim.rmRep.sorted.rg',\n",
       " 'N1_09': 'N1_09_R1.fastq.gz.polyATrim.adapterTrim.rmRep.sorted.rg',\n",
       " 'N1_10': 'N1_10_R1.fastq.gz.polyATrim.adapterTrim.rmRep.sorted.rg',\n",
       " 'N1_11': 'N1_11_R1.fastq.gz.polyATrim.adapterTrim.rmRep.sorted.rg',\n",
       " 'N1_12': 'N1_12_R1.fastq.gz.polyATrim.adapterTrim.rmRep.sorted.rg',\n",
       " 'N2_01': 'N2_01_R1.fastq.gz.polyATrim.adapterTrim.rmRep.sorted.rg',\n",
       " 'N2_02': 'N2_02_R1.fastq.gz.polyATrim.adapterTrim.rmRep.sorted.rg',\n",
       " 'N2_03': 'N2_03_R1.fastq.gz.polyATrim.adapterTrim.rmRep.sorted.rg',\n",
       " 'N2_04': 'N2_04_R1.fastq.gz.polyATrim.adapterTrim.rmRep.sorted.rg',\n",
       " 'N2_05': 'N2_05_R1.fastq.gz.polyATrim.adapterTrim.rmRep.sorted.rg',\n",
       " 'N2_06': 'N2_06_R1.fastq.gz.polyATrim.adapterTrim.rmRep.sorted.rg',\n",
       " 'N2_07': 'N2_07_R1.fastq.gz.polyATrim.adapterTrim.rmRep.sorted.rg',\n",
       " 'N2_08': 'N2_08_R1.fastq.gz.polyATrim.adapterTrim.rmRep.sorted.rg',\n",
       " 'N2_09': 'N2_09_R1.fastq.gz.polyATrim.adapterTrim.rmRep.sorted.rg',\n",
       " 'N2_10': 'N2_10_R1.fastq.gz.polyATrim.adapterTrim.rmRep.sorted.rg',\n",
       " 'N2_11': 'N2_11_R1.fastq.gz.polyATrim.adapterTrim.rmRep.sorted.rg',\n",
       " 'N2_12': 'N2_12_R1.fastq.gz.polyATrim.adapterTrim.rmRep.sorted.rg',\n",
       " 'N3_01': 'N3_01_R1.fastq.gz.polyATrim.adapterTrim.rmRep.sorted.rg',\n",
       " 'N3_02': 'N3_02_R1.fastq.gz.polyATrim.adapterTrim.rmRep.sorted.rg',\n",
       " 'N3_03': 'N3_03_R1.fastq.gz.polyATrim.adapterTrim.rmRep.sorted.rg',\n",
       " 'N3_04': 'N3_04_R1.fastq.gz.polyATrim.adapterTrim.rmRep.sorted.rg',\n",
       " 'N3_05': 'N3_05_R1.fastq.gz.polyATrim.adapterTrim.rmRep.sorted.rg',\n",
       " 'N3_06': 'N3_06_R1.fastq.gz.polyATrim.adapterTrim.rmRep.sorted.rg',\n",
       " 'N3_07': 'N3_07_R1.fastq.gz.polyATrim.adapterTrim.rmRep.sorted.rg',\n",
       " 'N3_08': 'N3_08_R1.fastq.gz.polyATrim.adapterTrim.rmRep.sorted.rg',\n",
       " 'N3_09': 'N3_09_R1.fastq.gz.polyATrim.adapterTrim.rmRep.sorted.rg',\n",
       " 'N3_10': 'N3_10_R1.fastq.gz.polyATrim.adapterTrim.rmRep.sorted.rg',\n",
       " 'N3_11': 'N3_11_R1.fastq.gz.polyATrim.adapterTrim.rmRep.sorted.rg',\n",
       " 'N3_12': 'N3_12_R1.fastq.gz.polyATrim.adapterTrim.rmRep.sorted.rg',\n",
       " 'N4_01': 'N4_01_R1.fastq.gz.polyATrim.adapterTrim.rmRep.sorted.rg',\n",
       " 'N4_010203': 'N4_010203_R1.fastq.gz.polyATrim.adapterTrim.rmRep.sorted.rg',\n",
       " 'N4_02': 'N4_02_R1.fastq.gz.polyATrim.adapterTrim.rmRep.sorted.rg',\n",
       " 'N4_03': 'N4_03_R1.fastq.gz.polyATrim.adapterTrim.rmRep.sorted.rg',\n",
       " 'N4_04': 'N4_04_R1.fastq.gz.polyATrim.adapterTrim.rmRep.sorted.rg',\n",
       " 'N4_05': 'N4_05_R1.fastq.gz.polyATrim.adapterTrim.rmRep.sorted.rg',\n",
       " 'N4_06': 'N4_06_R1.fastq.gz.polyATrim.adapterTrim.rmRep.sorted.rg',\n",
       " 'N4_07': 'N4_07_R1.fastq.gz.polyATrim.adapterTrim.rmRep.sorted.rg',\n",
       " 'N4_0708': 'N4_0708_R1.fastq.gz.polyATrim.adapterTrim.rmRep.sorted.rg',\n",
       " 'N4_08': 'N4_08_R1.fastq.gz.polyATrim.adapterTrim.rmRep.sorted.rg',\n",
       " 'N4_09': 'N4_09_R1.fastq.gz.polyATrim.adapterTrim.rmRep.sorted.rg',\n",
       " 'N4_10': 'N4_10_R1.fastq.gz.polyATrim.adapterTrim.rmRep.sorted.rg',\n",
       " 'N4_11': 'N4_11_R1.fastq.gz.polyATrim.adapterTrim.rmRep.sorted.rg',\n",
       " 'N4_1112': 'N4_1112_R1.fastq.gz.polyATrim.adapterTrim.rmRep.sorted.rg',\n",
       " 'N4_12': 'N4_12_R1.fastq.gz.polyATrim.adapterTrim.rmRep.sorted.rg',\n",
       " 'N4_13': 'N4_13_R1.fastq.gz.polyATrim.adapterTrim.rmRep.sorted.rg',\n",
       " 'N4_1314': 'N4_1314_R1.fastq.gz.polyATrim.adapterTrim.rmRep.sorted.rg',\n",
       " 'N4_14': 'N4_14_R1.fastq.gz.polyATrim.adapterTrim.rmRep.sorted.rg',\n",
       " 'N5_01': 'N5_01_R1.fastq.gz.polyATrim.adapterTrim.rmRep.sorted.rg',\n",
       " 'N5_010203': 'N5_010203_R1.fastq.gz.polyATrim.adapterTrim.rmRep.sorted.rg',\n",
       " 'N5_02': 'N5_02_R1.fastq.gz.polyATrim.adapterTrim.rmRep.sorted.rg',\n",
       " 'N5_03': 'N5_03_R1.fastq.gz.polyATrim.adapterTrim.rmRep.sorted.rg',\n",
       " 'N5_04': 'N5_04_R1.fastq.gz.polyATrim.adapterTrim.rmRep.sorted.rg',\n",
       " 'N5_0405': 'N5_0405_R1.fastq.gz.polyATrim.adapterTrim.rmRep.sorted.rg',\n",
       " 'N5_05': 'N5_05_R1.fastq.gz.polyATrim.adapterTrim.rmRep.sorted.rg',\n",
       " 'N5_06': 'N5_06_R1.fastq.gz.polyATrim.adapterTrim.rmRep.sorted.rg',\n",
       " 'N5_07': 'N5_07_R1.fastq.gz.polyATrim.adapterTrim.rmRep.sorted.rg',\n",
       " 'N5_070809': 'N5_070809_R1.fastq.gz.polyATrim.adapterTrim.rmRep.sorted.rg',\n",
       " 'N5_08': 'N5_08_R1.fastq.gz.polyATrim.adapterTrim.rmRep.sorted.rg',\n",
       " 'N5_09': 'N5_09_R1.fastq.gz.polyATrim.adapterTrim.rmRep.sorted.rg',\n",
       " 'N5_10': 'N5_10_R1.fastq.gz.polyATrim.adapterTrim.rmRep.sorted.rg',\n",
       " 'N5_11': 'N5_11_R1.fastq.gz.polyATrim.adapterTrim.rmRep.sorted.rg',\n",
       " 'N5_1112': 'N5_1112_R1.fastq.gz.polyATrim.adapterTrim.rmRep.sorted.rg',\n",
       " 'N5_12': 'N5_12_R1.fastq.gz.polyATrim.adapterTrim.rmRep.sorted.rg',\n",
       " 'N5_13': 'N5_13_R1.fastq.gz.polyATrim.adapterTrim.rmRep.sorted.rg',\n",
       " 'N5_1314': 'N5_1314_R1.fastq.gz.polyATrim.adapterTrim.rmRep.sorted.rg',\n",
       " 'N5_14': 'N5_14_R1.fastq.gz.polyATrim.adapterTrim.rmRep.sorted.rg',\n",
       " 'P1_01': 'P1_01_R1.fastq.gz.polyATrim.adapterTrim.rmRep.sorted.rg',\n",
       " 'P1_02': 'P1_02_R1.fastq.gz.polyATrim.adapterTrim.rmRep.sorted.rg',\n",
       " 'P1_03': 'P1_03_R1.fastq.gz.polyATrim.adapterTrim.rmRep.sorted.rg',\n",
       " 'P1_04': 'P1_04_R1.fastq.gz.polyATrim.adapterTrim.rmRep.sorted.rg',\n",
       " 'P1_05': 'P1_05_R1.fastq.gz.polyATrim.adapterTrim.rmRep.sorted.rg',\n",
       " 'P1_06': 'P1_06_R1.fastq.gz.polyATrim.adapterTrim.rmRep.sorted.rg',\n",
       " 'P1_07': 'P1_07_R1.fastq.gz.polyATrim.adapterTrim.rmRep.sorted.rg',\n",
       " 'P1_08': 'P1_08_R1.fastq.gz.polyATrim.adapterTrim.rmRep.sorted.rg',\n",
       " 'P1_09': 'P1_09_R1.fastq.gz.polyATrim.adapterTrim.rmRep.sorted.rg',\n",
       " 'P1_10': 'P1_10_R1.fastq.gz.polyATrim.adapterTrim.rmRep.sorted.rg',\n",
       " 'P1_11': 'P1_11_R1.fastq.gz.polyATrim.adapterTrim.rmRep.sorted.rg',\n",
       " 'P1_12': 'P1_12_R1.fastq.gz.polyATrim.adapterTrim.rmRep.sorted.rg',\n",
       " 'P2_01': 'P2_01_R1.fastq.gz.polyATrim.adapterTrim.rmRep.sorted.rg',\n",
       " 'P2_02': 'P2_02_R1.fastq.gz.polyATrim.adapterTrim.rmRep.sorted.rg',\n",
       " 'P2_03': 'P2_03_R1.fastq.gz.polyATrim.adapterTrim.rmRep.sorted.rg',\n",
       " 'P2_04': 'P2_04_R1.fastq.gz.polyATrim.adapterTrim.rmRep.sorted.rg',\n",
       " 'P2_05': 'P2_05_R1.fastq.gz.polyATrim.adapterTrim.rmRep.sorted.rg',\n",
       " 'P2_06': 'P2_06_R1.fastq.gz.polyATrim.adapterTrim.rmRep.sorted.rg',\n",
       " 'P2_07': 'P2_07_R1.fastq.gz.polyATrim.adapterTrim.rmRep.sorted.rg',\n",
       " 'P2_08': 'P2_08_R1.fastq.gz.polyATrim.adapterTrim.rmRep.sorted.rg',\n",
       " 'P2_09': 'P2_09_R1.fastq.gz.polyATrim.adapterTrim.rmRep.sorted.rg',\n",
       " 'P2_10': 'P2_10_R1.fastq.gz.polyATrim.adapterTrim.rmRep.sorted.rg',\n",
       " 'P2_11': 'P2_11_R1.fastq.gz.polyATrim.adapterTrim.rmRep.sorted.rg',\n",
       " 'P2_12': 'P2_12_R1.fastq.gz.polyATrim.adapterTrim.rmRep.sorted.rg',\n",
       " 'P2_13': 'P2_13_R1.fastq.gz.polyATrim.adapterTrim.rmRep.sorted.rg',\n",
       " 'P2_14': 'P2_14_R1.fastq.gz.polyATrim.adapterTrim.rmRep.sorted.rg',\n",
       " 'P3_01': 'P3_01_R1.fastq.gz.polyATrim.adapterTrim.rmRep.sorted.rg',\n",
       " 'P3_02': 'P3_02_R1.fastq.gz.polyATrim.adapterTrim.rmRep.sorted.rg',\n",
       " 'P3_03': 'P3_03_R1.fastq.gz.polyATrim.adapterTrim.rmRep.sorted.rg',\n",
       " 'P4_01': 'P4_01_R1.fastq.gz.polyATrim.adapterTrim.rmRep.sorted.rg',\n",
       " 'P4_0203': 'P4_0203_R1.fastq.gz.polyATrim.adapterTrim.rmRep.sorted.rg',\n",
       " 'P4_0405': 'P4_0405_R1.fastq.gz.polyATrim.adapterTrim.rmRep.sorted.rg',\n",
       " 'P4_06': 'P4_06_R1.fastq.gz.polyATrim.adapterTrim.rmRep.sorted.rg',\n",
       " 'P4_07': 'P4_07_R1.fastq.gz.polyATrim.adapterTrim.rmRep.sorted.rg',\n",
       " 'P4_08': 'P4_08_R1.fastq.gz.polyATrim.adapterTrim.rmRep.sorted.rg',\n",
       " 'P4_09': 'P4_09_R1.fastq.gz.polyATrim.adapterTrim.rmRep.sorted.rg',\n",
       " 'P4_10': 'P4_10_R1.fastq.gz.polyATrim.adapterTrim.rmRep.sorted.rg',\n",
       " 'P4_11': 'P4_11_R1.fastq.gz.polyATrim.adapterTrim.rmRep.sorted.rg',\n",
       " 'P4_12': 'P4_12_R1.fastq.gz.polyATrim.adapterTrim.rmRep.sorted.rg',\n",
       " 'P4_1314': 'P4_1314_R1.fastq.gz.polyATrim.adapterTrim.rmRep.sorted.rg',\n",
       " 'P6_01': 'P6_01_R1.fastq.gz.polyATrim.adapterTrim.rmRep.sorted.rg',\n",
       " 'P6_02': 'P6_02_R1.fastq.gz.polyATrim.adapterTrim.rmRep.sorted.rg',\n",
       " 'P6_03': 'P6_03_R1.fastq.gz.polyATrim.adapterTrim.rmRep.sorted.rg',\n",
       " 'P6_04': 'P6_04_R1.fastq.gz.polyATrim.adapterTrim.rmRep.sorted.rg',\n",
       " 'P7_01': 'P7_01_R1.fastq.gz.polyATrim.adapterTrim.rmRep.sorted.rg',\n",
       " 'P7_02': 'P7_02_R1.fastq.gz.polyATrim.adapterTrim.rmRep.sorted.rg',\n",
       " 'P7_03': 'P7_03_R1.fastq.gz.polyATrim.adapterTrim.rmRep.sorted.rg',\n",
       " 'P7_04': 'P7_04_R1.fastq.gz.polyATrim.adapterTrim.rmRep.sorted.rg',\n",
       " 'P7_05': 'P7_05_R1.fastq.gz.polyATrim.adapterTrim.rmRep.sorted.rg',\n",
       " 'P7_06': 'P7_06_R1.fastq.gz.polyATrim.adapterTrim.rmRep.sorted.rg',\n",
       " 'P7_07': 'P7_07_R1.fastq.gz.polyATrim.adapterTrim.rmRep.sorted.rg',\n",
       " 'P7_08': 'P7_08_R1.fastq.gz.polyATrim.adapterTrim.rmRep.sorted.rg',\n",
       " 'P7_09': 'P7_09_R1.fastq.gz.polyATrim.adapterTrim.rmRep.sorted.rg',\n",
       " 'P7_10': 'P7_10_R1.fastq.gz.polyATrim.adapterTrim.rmRep.sorted.rg',\n",
       " 'P7_11': 'P7_11_R1.fastq.gz.polyATrim.adapterTrim.rmRep.sorted.rg',\n",
       " 'P7_12': 'P7_12_R1.fastq.gz.polyATrim.adapterTrim.rmRep.sorted.rg',\n",
       " 'P8_01': 'P8_01_R1.fastq.gz.polyATrim.adapterTrim.rmRep.sorted.rg',\n",
       " 'P8_02': 'P8_02_R1.fastq.gz.polyATrim.adapterTrim.rmRep.sorted.rg',\n",
       " 'P8_05': 'P8_05_R1.fastq.gz.polyATrim.adapterTrim.rmRep.sorted.rg',\n",
       " 'P8_06': 'P8_06_R1.fastq.gz.polyATrim.adapterTrim.rmRep.sorted.rg',\n",
       " 'P8_07': 'P8_07_R1.fastq.gz.polyATrim.adapterTrim.rmRep.sorted.rg',\n",
       " 'P8_09': 'P8_09_R1.fastq.gz.polyATrim.adapterTrim.rmRep.sorted.rg',\n",
       " 'P8_10': 'P8_10_R1.fastq.gz.polyATrim.adapterTrim.rmRep.sorted.rg',\n",
       " 'P8_11': 'P8_11_R1.fastq.gz.polyATrim.adapterTrim.rmRep.sorted.rg',\n",
       " 'P8_12': 'P8_12_R1.fastq.gz.polyATrim.adapterTrim.rmRep.sorted.rg',\n",
       " 'P9_01': 'P9_01_R1.fastq.gz.polyATrim.adapterTrim.rmRep.sorted',\n",
       " 'P9_02': 'P9_02_R1.fastq.gz.polyATrim.adapterTrim.rmRep.sorted',\n",
       " 'P9_03': 'P9_03_R1.fastq.gz.polyATrim.adapterTrim.rmRep.sorted.rg',\n",
       " 'P9_04': 'P9_04_R1.fastq.gz.polyATrim.adapterTrim.rmRep.sorted',\n",
       " 'myl6_bug': 'myl6_bug'}"
      ]
     },
     "execution_count": 6,
     "metadata": {},
     "output_type": "execute_result"
    }
   ],
   "source": [
    "experiments"
   ]
  },
  {
   "cell_type": "markdown",
   "metadata": {},
   "source": [
    "Remove weird samples like \"M4_0102\" from Singapore"
   ]
  },
  {
   "cell_type": "code",
   "execution_count": 7,
   "metadata": {
    "collapsed": false
   },
   "outputs": [
    {
     "data": {
      "text/plain": [
       "299"
      ]
     },
     "execution_count": 7,
     "metadata": {},
     "output_type": "execute_result"
    }
   ],
   "source": [
    "experiments = {k: v for k, v in experiments.items() if len(k.split('_')[1]) == 2}\n",
    "len(experiments)"
   ]
  },
  {
   "cell_type": "code",
   "execution_count": 8,
   "metadata": {
    "collapsed": false
   },
   "outputs": [],
   "source": [
    "filename = '/home/obotvinnik/projects/singlecell_pnms/scripts/singlecell_pnms_majiq_config.txt'\n",
    "with open(filename, 'w') as f:\n",
    "    f.write('[info]\\n')\n",
    "    for key, value in info.items():\n",
    "        f.write('{}={}\\n'.format(key, value))\n",
    "    f.write('\\n[experiments]\\n')\n",
    "    for key, value in sorted(experiments.items()):\n",
    "        f.write('{}={}\\n'.format(key, value))\n"
   ]
  },
  {
   "cell_type": "code",
   "execution_count": 9,
   "metadata": {
    "collapsed": false
   },
   "outputs": [
    {
     "name": "stdout",
     "output_type": "stream",
     "text": [
      "[info]\r\n",
      "genome_path=/projects/ps-yeolab/genomes/hg19/gencode/v19/GRCh37.p13.genome.fa\r\n",
      "samdir=/home/obotvinnik/projects/singlecell_pnms/analysis/bams_from_aws\r\n",
      "genome=hg19\r\n",
      "readlen=100\r\n",
      "\r\n",
      "[experiments]\r\n",
      "CVN_01=CVN_01_R1.fastq.gz.polyATrim.adapterTrim.rmRep.sorted.rg\r\n",
      "CVN_02=CVN_02_R1.fastq.gz.polyATrim.adapterTrim.rmRep.sorted.rg\r\n",
      "CVN_03=CVN_03_R1.fastq.gz.polyATrim.adapterTrim.rmRep.sorted.rg\r\n",
      "CVN_04=CVN_04_R1.fastq.gz.polyATrim.adapterTrim.rmRep.sorted.rg\r\n",
      "CVN_05=CVN_05_R1.fastq.gz.polyATrim.adapterTrim.rmRep.sorted.rg\r\n",
      "CVN_06=CVN_06_R1.fastq.gz.polyATrim.adapterTrim.rmRep.sorted.rg\r\n",
      "CVN_07=CVN_07_R1.fastq.gz.polyATrim.adapterTrim.rmRep.sorted.rg\r\n",
      "CVN_08=CVN_08_R1.fastq.gz.polyATrim.adapterTrim.rmRep.sorted.rg\r\n",
      "CVN_09=CVN_09_R1.fastq.gz.polyATrim.adapterTrim.rmRep.sorted.rg\r\n",
      "CVN_10=CVN_10_R1.fastq.gz.polyATrim.adapterTrim.rmRep.sorted.rg\r\n",
      "CVN_11=CVN_11_R1.fastq.gz.polyATrim.adapterTrim.rmRep.sorted.rg\r\n",
      "CVN_12=CVN_12_R1.fastq.gz.polyATrim.adapterTrim.rmRep.sorted.rg\r\n",
      "CVN_13=CVN_13_R1.fastq.gz.polyATrim.adapterTrim.rmRep.sorted.rg\r\n"
     ]
    }
   ],
   "source": [
    "! head -n 20 $filename"
   ]
  },
  {
   "cell_type": "code",
   "execution_count": 10,
   "metadata": {
    "collapsed": false
   },
   "outputs": [
    {
     "name": "stdout",
     "output_type": "stream",
     "text": [
      "##gff-version 3\r\n",
      "#description: evidence-based annotation of the human genome (GRCh37), version 19 (Ensembl 74)\r\n",
      "#provider: GENCODE\r\n",
      "#contact: gencode@sanger.ac.uk\r\n",
      "#format: gff3\r\n",
      "#date: 2014-09-18\r\n",
      "##sequence-region chr1 1 249250621\r\n",
      "chr1\tHAVANA\tgene\t11869\t14412\t.\t+\t.\tID=ENSG00000223972.4;gene_id=ENSG00000223972.4;transcript_id=ENSG00000223972.4;gene_type=pseudogene;gene_status=KNOWN;NAME=DDX11L1;transcript_type=pseudogene;transcript_status=KNOWN;transcript_name=DDX11L1;level=2;havana_gene=OTTHUMG00000000961.2\r\n",
      "chr1\tHAVANA\ttranscript\t11869\t14409\t.\t+\t.\tID=ENST00000456328.2;Parent=ENSG00000223972.4;gene_id=ENSG00000223972.4;transcript_id=ENST00000456328.2;gene_type=pseudogene;gene_status=KNOWN;NAME=DDX11L1;transcript_type=processed_transcript;transcript_status=KNOWN;transcript_name=DDX11L1-002;level=2;havana_gene=OTTHUMG00000000961.2;havana_transcript=OTTHUMT00000362751.1\r\n",
      "chr1\tHAVANA\texon\t11869\t12227\t.\t+\t.\tID=exon:ENST00000456328.2:1;Parent=ENST00000456328.2;gene_id=ENSG00000223972.4;transcript_id=ENST00000456328.2;gene_type=pseudogene;gene_status=KNOWN;NAME=DDX11L1;transcript_type=processed_transcript;transcript_status=KNOWN;transcript_name=DDX11L1-002;exon_number=1;exon_id=ENSE00002234944.1;level=2;havana_gene=OTTHUMG00000000961.2;havana_transcript=OTTHUMT00000362751.1\r\n"
     ]
    }
   ],
   "source": [
    "! head /projects/ps-yeolab/genomes/hg19/gencode/v19/gencode.v19.annotation.gff3_proper"
   ]
  },
  {
   "cell_type": "code",
   "execution_count": 11,
   "metadata": {
    "collapsed": false
   },
   "outputs": [
    {
     "name": "stdout",
     "output_type": "stream",
     "text": [
      "##gff-version 3\r\n",
      "#description: evidence-based annotation of the human genome (GRCh37), version 19 (Ensembl 74)\r\n",
      "#provider: GENCODE\r\n",
      "#contact: gencode@sanger.ac.uk\r\n",
      "#format: gff3\r\n",
      "#date: 2014-09-18\r\n",
      "##sequence-region chr1 1 249250621\r\n",
      "chr1\tHAVANA\tgene\t11869\t14412\t.\t+\t.\tID=ENSG00000223972.4;gene_id=ENSG00000223972.4;transcript_id=ENSG00000223972.4;gene_type=pseudogene;gene_status=KNOWN;gene_name=DDX11L1;transcript_type=pseudogene;transcript_status=KNOWN;transcript_name=DDX11L1;level=2;havana_gene=OTTHUMG00000000961.2\r\n",
      "chr1\tHAVANA\ttranscript\t11869\t14409\t.\t+\t.\tID=ENST00000456328.2;Parent=ENSG00000223972.4;gene_id=ENSG00000223972.4;transcript_id=ENST00000456328.2;gene_type=pseudogene;gene_status=KNOWN;gene_name=DDX11L1;transcript_type=processed_transcript;transcript_status=KNOWN;transcript_name=DDX11L1-002;level=2;havana_gene=OTTHUMG00000000961.2;havana_transcript=OTTHUMT00000362751.1\r\n",
      "chr1\tHAVANA\texon\t11869\t12227\t.\t+\t.\tID=exon:ENST00000456328.2:1;Parent=ENST00000456328.2;gene_id=ENSG00000223972.4;transcript_id=ENST00000456328.2;gene_type=pseudogene;gene_status=KNOWN;gene_name=DDX11L1;transcript_type=processed_transcript;transcript_status=KNOWN;transcript_name=DDX11L1-002;exon_number=1;exon_id=ENSE00002234944.1;level=2;havana_gene=OTTHUMG00000000961.2;havana_transcript=OTTHUMT00000362751.1\r\n"
     ]
    }
   ],
   "source": [
    "! head /projects/ps-yeolab/genomes/hg19/gencode/v19/gencode.v19.annotation.gff3"
   ]
  },
  {
   "cell_type": "code",
   "execution_count": 13,
   "metadata": {
    "collapsed": false
   },
   "outputs": [
    {
     "name": "stdout",
     "output_type": "stream",
     "text": [
      "/projects/ps-yeolab/genomes/hg19/gencode_v19\n"
     ]
    }
   ],
   "source": [
    "cd /projects/ps-yeolab/genomes/hg19/gencode/v19"
   ]
  },
  {
   "cell_type": "code",
   "execution_count": 21,
   "metadata": {
    "collapsed": false
   },
   "outputs": [
    {
     "name": "stdout",
     "output_type": "stream",
     "text": [
      "##gff-version 3\n",
      "#description: evidence-based annotation of the human genome (GRCh37), version 19 (Ensembl 74)\n",
      "#provider: GENCODE\n",
      "#contact: gencode@sanger.ac.uk\n",
      "#format: gff3\n",
      "#date: 2014-09-18\n",
      "##sequence-region chr1 1 249250621\n",
      "chr1\tHAVANA\tgene\t11869\t14412\t.\t+\t.\tID=ENSG00000223972.4;gene_id=ENSG00000223972.4;transcript_id=ENSG00000223972.4;gene_type=pseudogene;gene_status=KNOWN;Name=DDX11L1;transcript_type=pseudogene;transcript_status=KNOWN;transcript_name=DDX11L1;level=2;havana_gene=OTTHUMG00000000961.2\n",
      "chr1\tHAVANA\tmRNA\t11869\t14409\t.\t+\t.\tID=ENST00000456328.2;Parent=ENSG00000223972.4;gene_id=ENSG00000223972.4;transcript_id=ENST00000456328.2;gene_type=pseudogene;gene_status=KNOWN;Name=DDX11L1;transcript_type=processed_transcript;transcript_status=KNOWN;transcript_name=DDX11L1-002;level=2;havana_gene=OTTHUMG00000000961.2;havana_transcript=OTTHUMT00000362751.1\n",
      "chr1\tHAVANA\texon\t11869\t12227\t.\t+\t.\tID=exon:ENST00000456328.2:1;Parent=ENST00000456328.2;gene_id=ENSG00000223972.4;transcript_id=ENST00000456328.2;gene_type=pseudogene;gene_status=KNOWN;Name=DDX11L1;transcript_type=processed_transcript;transcript_status=KNOWN;transcript_name=DDX11L1-002;exon_number=1;exon_id=ENSE00002234944.1;level=2;havana_gene=OTTHUMG00000000961.2;havana_transcript=OTTHUMT00000362751.1\n"
     ]
    }
   ],
   "source": [
    "%%bash\n",
    "head gencode.v19.annotation.gff3 \\\n",
    "    | sed s/gene_name/Name/g - \\\n",
    "    | sed \"s/\\ttranscript\\t/\\tmRNA\\t/g\" - \n",
    "#     > gencode.v19.annotation.majiq.gff3"
   ]
  },
  {
   "cell_type": "code",
   "execution_count": 26,
   "metadata": {
    "collapsed": false,
    "scrolled": true
   },
   "outputs": [],
   "source": [
    "%%bash\n",
    "sed s/gene_name/Name/g - gencode.v19.annotation.gff3 \\\n",
    "    | sed \"s/\\ttranscript\\t/\\tmRNA\\t/g\" - \\\n",
    "    > gencode.v19.annotation.majiq.gff3"
   ]
  },
  {
   "cell_type": "code",
   "execution_count": 27,
   "metadata": {
    "collapsed": false
   },
   "outputs": [
    {
     "name": "stdout",
     "output_type": "stream",
     "text": [
      "-rw-r--r-- 1 obotvinnik yeo-group 1.1G Jul 14 11:52 gencode.v19.annotation.majiq.gff3\r\n"
     ]
    }
   ],
   "source": [
    "ls -lha gencode.v19.annotation.majiq.gff3"
   ]
  },
  {
   "cell_type": "code",
   "execution_count": 28,
   "metadata": {
    "collapsed": false
   },
   "outputs": [
    {
     "name": "stdout",
     "output_type": "stream",
     "text": [
      "##gff-version 3\r\n",
      "#description: evidence-based annotation of the human genome (GRCh37), version 19 (Ensembl 74)\r\n",
      "#provider: GENCODE\r\n",
      "#contact: gencode@sanger.ac.uk\r\n",
      "#format: gff3\r\n",
      "#date: 2014-09-18\r\n",
      "##sequence-region chr1 1 249250621\r\n",
      "chr1\tHAVANA\tgene\t11869\t14412\t.\t+\t.\tID=ENSG00000223972.4;gene_id=ENSG00000223972.4;transcript_id=ENSG00000223972.4;gene_type=pseudogene;gene_status=KNOWN;Name=DDX11L1;transcript_type=pseudogene;transcript_status=KNOWN;transcript_name=DDX11L1;level=2;havana_gene=OTTHUMG00000000961.2\r\n",
      "chr1\tHAVANA\tmRNA\t11869\t14409\t.\t+\t.\tID=ENST00000456328.2;Parent=ENSG00000223972.4;gene_id=ENSG00000223972.4;transcript_id=ENST00000456328.2;gene_type=pseudogene;gene_status=KNOWN;Name=DDX11L1;transcript_type=processed_transcript;transcript_status=KNOWN;transcript_name=DDX11L1-002;level=2;havana_gene=OTTHUMG00000000961.2;havana_transcript=OTTHUMT00000362751.1\r\n",
      "chr1\tHAVANA\texon\t11869\t12227\t.\t+\t.\tID=exon:ENST00000456328.2:1;Parent=ENST00000456328.2;gene_id=ENSG00000223972.4;transcript_id=ENST00000456328.2;gene_type=pseudogene;gene_status=KNOWN;Name=DDX11L1;transcript_type=processed_transcript;transcript_status=KNOWN;transcript_name=DDX11L1-002;exon_number=1;exon_id=ENSE00002234944.1;level=2;havana_gene=OTTHUMG00000000961.2;havana_transcript=OTTHUMT00000362751.1\r\n"
     ]
    }
   ],
   "source": [
    "! head gencode.v19.annotation.majiq.gff3"
   ]
  },
  {
   "cell_type": "code",
   "execution_count": 33,
   "metadata": {
    "collapsed": false
   },
   "outputs": [
    {
     "name": "stdout",
     "output_type": "stream",
     "text": [
      "/home/obotvinnik/ipython_notebook/singlecell/manuscript/majiq\n"
     ]
    }
   ],
   "source": [
    "cd ~/ipython_notebook/singlecell/manuscript/majiq"
   ]
  },
  {
   "cell_type": "code",
   "execution_count": 45,
   "metadata": {
    "collapsed": false
   },
   "outputs": [
    {
     "data": {
      "text/plain": [
       "[0, 1, 2]"
      ]
     },
     "execution_count": 45,
     "metadata": {},
     "output_type": "execute_result"
    }
   ],
   "source": [
    "range(3)"
   ]
  },
  {
   "cell_type": "code",
   "execution_count": 49,
   "metadata": {
    "collapsed": false
   },
   "outputs": [
    {
     "name": "stderr",
     "output_type": "stream",
     "text": [
      "Wrote commands to majiq_v3.sh.\n",
      "Submitted script to queue home-yeo.\n",
      " Job ID: 5638667\n"
     ]
    },
    {
     "data": {
      "text/plain": [
       "<qtools.submitter.Submitter at 0x2b74f5e06ed0>"
      ]
     },
     "execution_count": 49,
     "metadata": {},
     "output_type": "execute_result"
    }
   ],
   "source": [
    "import qtools\n",
    "commands = []\n",
    "\n",
    "job_name = 'majiq_v3'\n",
    "\n",
    "gff3 = '/projects/ps-yeolab/genomes/hg19/gencode/v19/gencode.v19.annotation.majiq.gff3'\n",
    "conf = filename\n",
    "n_threads = 8\n",
    "output = '/home/obotvinnik/projects/singlecell_pnms/analysis/{}'.format(job_name)\n",
    "\n",
    "min_de_novo_reads = 10\n",
    "min_reads = 10\n",
    "gff_output = '{}/lsv_events.gff'.format(output)\n",
    "\n",
    "! rm -rf $output\n",
    "commands.append('source activate majiq_env')\n",
    "commands.append(\n",
    "    'majiq build {gff3} -conf {conf} --nthreads {n_threads} --min_denovo {min_reads} '\n",
    "    '--minreads {min_reads} --plotpath {output} --gff_output {gff_output}'\n",
    "    ' --output {output}'.format(gff3=gff3, conf=conf, n_threads=n_threads, gff_output=gff_output,\n",
    "                                min_reads=min_reads, output=output))\n",
    "qtools.Submitter(commands, job_name, ppn=n_threads, queue='home-yeo', walltime='500:00:00')"
   ]
  },
  {
   "cell_type": "code",
   "execution_count": 41,
   "metadata": {
    "collapsed": false
   },
   "outputs": [
    {
     "name": "stdout",
     "output_type": "stream",
     "text": [
      "-rw-r--r-- 1 obotvinnik  532 Jul 14 12:50 majiq_v3.sh\r\n",
      "-rw------- 1 obotvinnik 2924 Jul 14 12:49 majiq_v3.sh.err\r\n",
      "-rw------- 1 obotvinnik   24 Jul 14 12:50 majiq_v3.sh.out\r\n"
     ]
    }
   ],
   "source": [
    "ll majiq*"
   ]
  },
  {
   "cell_type": "code",
   "execution_count": 42,
   "metadata": {
    "collapsed": false
   },
   "outputs": [
    {
     "name": "stdout",
     "output_type": "stream",
     "text": [
      "Nodes:        tscc-1-42\r\n"
     ]
    }
   ],
   "source": [
    "cat majiq_v3.sh.out"
   ]
  },
  {
   "cell_type": "code",
   "execution_count": 44,
   "metadata": {
    "collapsed": false
   },
   "outputs": [
    {
     "name": "stdout",
     "output_type": "stream",
     "text": [
      "Traceback (most recent call last):\r\n",
      "  File \"/home/obotvinnik/anaconda/bin/conda\", line 6, in <module>\r\n",
      "    sys.exit(main())\r\n",
      "  File \"/home/obotvinnik/anaconda/lib/python2.7/site-packages/conda/cli/main.py\", line 48, in main\r\n",
      "    activate.main()\r\n",
      "  File \"/home/obotvinnik/anaconda/lib/python2.7/site-packages/conda/cli/activate.py\", line 163, in main\r\n",
      "    conda.install.symlink_conda(prefix, root_dir, shell)\r\n",
      "  File \"/home/obotvinnik/anaconda/lib/python2.7/site-packages/conda/install.py\", line 582, in symlink_conda\r\n",
      "    symlink_conda_hlp(prefix, root_dir, where, symlink_fn)\r\n",
      "  File \"/home/obotvinnik/anaconda/lib/python2.7/site-packages/conda/install.py\", line 596, in symlink_conda_hlp\r\n",
      "    os.remove(prefix_file)\r\n",
      "OSError: [Errno 2] No such file or directory: '/home/obotvinnik/anaconda/envs/majiq_env/bin/conda'\r\n",
      "/home/obotvinnik/anaconda/lib/python2.7/site-packages/matplotlib/__init__.py:810: UserWarning: Found matplotlib configuration in ~/.matplotlib/. To conform with the XDG base directory standard, this configuration location has been deprecated on Linux, and the new location is now /home/obotvinnik/.config/matplotlib/. Please move your configuration there to ensure that matplotlib will continue to find it in the future.\r\n",
      "  _get_xdg_config_dir())\r\n",
      "2016-07-14 12:21:41,790 (PID:33778) - INFO - \r\n",
      "2016-07-14 12:21:41,794 (PID:33778) - INFO - Command: Namespace(conf='/home/obotvinnik/projects/singlecell_pnms/scripts/singlecell_pnms_majiq_config.txt', debug=0, func=<function builder at 0x2ab3a6edce60>, gff_output='lsvs.gff', logger=None, min_intronic_cov=0.5, minpos=2, minreads=3, non_denovo=False, nthreads=8, only_rna=False, onlygather=False, output='/home/obotvinnik/projects/singlecell_pnms/analysis/majiq_v3', pcr_filename=None, permissive=False, plotpath=None, prefix='', silent=False, tmp='/tmp/', transcripts='/projects/ps-yeolab/genomes/hg19/gencode/v19/gencode.v19.annotation.majiq.gff3')\r\n",
      "2016-07-14 12:21:41,794 (PID:33778) - INFO - ... waiting gff3 parsing\r\n",
      "2016-07-14 12:30:13,319 (PID:33849) - INFO - Creating temporal annotation chunk 0 (1445 genes)\r\n",
      "2016-07-14 12:32:31,161 (PID:33849) - INFO - Creating temporal annotation chunk 1 (1444 genes)\r\n",
      "2016-07-14 12:34:30,870 (PID:33849) - INFO - Creating temporal annotation chunk 2 (1444 genes)\r\n",
      "2016-07-14 12:36:32,991 (PID:33849) - INFO - Creating temporal annotation chunk 3 (1444 genes)\r\n",
      "2016-07-14 12:38:25,321 (PID:33849) - INFO - Creating temporal annotation chunk 4 (1444 genes)\r\n",
      "2016-07-14 12:40:17,930 (PID:33849) - INFO - Creating temporal annotation chunk 5 (1446 genes)\r\n",
      "2016-07-14 12:42:32,263 (PID:33849) - INFO - Creating temporal annotation chunk 6 (1446 genes)\r\n",
      "2016-07-14 12:44:42,682 (PID:33849) - INFO - Creating temporal annotation chunk 7 (1446 genes)\r\n",
      "2016-07-14 12:46:59,941 (PID:33849) - INFO - Creating temporal annotation chunk 8 (1447 genes)\r\n",
      "2016-07-14 12:49:25,177 (PID:33849) - INFO - Creating temporal annotation chunk 9 (1444 genes)\r\n"
     ]
    }
   ],
   "source": [
    "cat majiq_v3.sh.err"
   ]
  },
  {
   "cell_type": "code",
   "execution_count": 37,
   "metadata": {
    "collapsed": false
   },
   "outputs": [
    {
     "name": "stdout",
     "output_type": "stream",
     "text": [
      "\u001b[0m\u001b[01;36m/home/obotvinnik/projects/singlecell_pnms/analysis/all_bams/N4_03_R1.fastq.gz.polyATrim.adapterTrim.rmRep.sorted.rg.bam\u001b[0m\u001b[K@\r\n",
      "\u001b[m"
     ]
    }
   ],
   "source": [
    "ls /home/obotvinnik/projects/singlecell_pnms/analysis/all_bams/N4_03_R1.fastq.gz.polyATrim.adapterTrim.rmRep.sorted.rg.bam"
   ]
  },
  {
   "cell_type": "code",
   "execution_count": null,
   "metadata": {
    "collapsed": true
   },
   "outputs": [],
   "source": []
  }
 ],
 "metadata": {
  "kernelspec": {
   "display_name": "Python 2",
   "language": "python",
   "name": "python2"
  },
  "language_info": {
   "codemirror_mode": {
    "name": "ipython",
    "version": 2
   },
   "file_extension": ".py",
   "mimetype": "text/x-python",
   "name": "python",
   "nbconvert_exporter": "python",
   "pygments_lexer": "ipython2",
   "version": "2.7.11"
  }
 },
 "nbformat": 4,
 "nbformat_minor": 0
}
