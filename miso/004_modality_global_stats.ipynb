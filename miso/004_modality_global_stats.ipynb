{
 "cells": [
  {
   "cell_type": "code",
   "execution_count": 1,
   "metadata": {
    "collapsed": false
   },
   "outputs": [
    {
     "name": "stdout",
     "output_type": "stream",
     "text": [
      "mkdir: cannot create directory `figures': File exists\n",
      "2016-12-09 13:26:45\tReading datapackage from /projects/ps-yeolab/obotvinnik/flotilla_projects/singlecell_pnm_miso_modalities/datapackage.json\n",
      "2016-12-09 13:26:45\tParsing datapackage to create a Study object\n",
      "https://s3-us-west-2.amazonaws.com/flotilla-projects/ercc/ERCC_Controls.txt has not been downloaded before.\n",
      "\tDownloading now to /home/obotvinnik/flotilla_projects/hg19/ERCC_Controls.txt\n"
     ]
    },
    {
     "name": "stderr",
     "output_type": "stream",
     "text": [
      "/home/obotvinnik/anaconda/lib/python2.7/site-packages/sklearn/cross_validation.py:44: DeprecationWarning: This module was deprecated in version 0.18 in favor of the model_selection module into which all the refactored classes and functions are moved. Also note that the interface of the new CV iterators are different from that of this module. This module will be removed in 0.20.\n",
      "  \"This module will be removed in 0.20.\", DeprecationWarning)\n",
      "Error loading species hg19 data: HTTP Error 404: Not Found"
     ]
    },
    {
     "name": "stdout",
     "output_type": "stream",
     "text": [
      "2016-12-09 13:27:28 \tInitializing Study\n",
      "2016-12-09 13:27:28 \tInitializing Predictor configuration manager for Study\n",
      "2016-12-09 13:27:28\tPredictor ExtraTreesClassifier is of type <class 'sklearn.ensemble.forest.ExtraTreesClassifier'>\n",
      "2016-12-09 13:27:28\tAdded ExtraTreesClassifier to default predictors\n",
      "2016-12-09 13:27:28\tPredictor ExtraTreesRegressor is of type <class 'sklearn.ensemble.forest.ExtraTreesRegressor'>\n",
      "2016-12-09 13:27:28\tAdded ExtraTreesRegressor to default predictors\n",
      "2016-12-09 13:27:28\tPredictor GradientBoostingClassifier is of type <class 'sklearn.ensemble.gradient_boosting.GradientBoostingClassifier'>\n",
      "2016-12-09 13:27:28\tAdded GradientBoostingClassifier to default predictors\n",
      "2016-12-09 13:27:28\tPredictor GradientBoostingRegressor is of type <class 'sklearn.ensemble.gradient_boosting.GradientBoostingRegressor'>\n",
      "2016-12-09 13:27:28\tAdded GradientBoostingRegressor to default predictors\n",
      "2016-12-09 13:27:34 \tBuilding Gene Ontology database...\n",
      "2016-12-09 13:27:46 \t\tDone\n",
      "2016-12-09 13:27:46 \tLoading metadata\n",
      "2016-12-09 13:27:46\tLoading expression data\n",
      "2016-12-09 13:27:46\tInitializing expression\n",
      "2016-12-09 13:27:47\tDone initializing expression\n",
      "2016-12-09 13:27:50\tLoading splicing data\n",
      "2016-12-09 13:27:50\tInitializing splicing\n",
      "2016-12-09 13:27:51\tDone initializing splicing\n",
      "2016-12-09 13:27:51\tSuccessfully initialized a Study object!\n"
     ]
    }
   ],
   "source": [
    "from __future__ import print_function\n",
    "\n",
    "from collections import defaultdict\n",
    "\n",
    "import matplotlib as mpl\n",
    "import matplotlib.pyplot as plt\n",
    "import numpy as np\n",
    "import pandas as pd\n",
    "import seaborn as sns\n",
    "\n",
    "%matplotlib inline\n",
    "\n",
    "\n",
    "import flotilla\n",
    "sns.set(style='ticks', context='talk')\n",
    "\n",
    "folder = 'figures'\n",
    "! mkdir $folder\n",
    "\n",
    "flotilla_dir = '/projects/ps-yeolab/obotvinnik/flotilla_projects/'\n",
    "\n",
    "study = flotilla.embark('singlecell_pnm_miso_modalities', flotilla_dir=flotilla_dir)"
   ]
  },
  {
   "cell_type": "code",
   "execution_count": 2,
   "metadata": {
    "collapsed": false
   },
   "outputs": [
    {
     "data": {
      "text/html": [
       "<div>\n",
       "<table border=\"1\" class=\"dataframe\">\n",
       "  <thead>\n",
       "    <tr style=\"text-align: right;\">\n",
       "      <th></th>\n",
       "      <th>phenotype</th>\n",
       "      <th>modality</th>\n",
       "      <th># AS events</th>\n",
       "    </tr>\n",
       "  </thead>\n",
       "  <tbody>\n",
       "    <tr>\n",
       "      <th>0</th>\n",
       "      <td>MN</td>\n",
       "      <td>bimodal</td>\n",
       "      <td>1044</td>\n",
       "    </tr>\n",
       "    <tr>\n",
       "      <th>1</th>\n",
       "      <td>MN</td>\n",
       "      <td>excluded</td>\n",
       "      <td>2592</td>\n",
       "    </tr>\n",
       "    <tr>\n",
       "      <th>2</th>\n",
       "      <td>MN</td>\n",
       "      <td>included</td>\n",
       "      <td>2403</td>\n",
       "    </tr>\n",
       "    <tr>\n",
       "      <th>3</th>\n",
       "      <td>MN</td>\n",
       "      <td>middle</td>\n",
       "      <td>26</td>\n",
       "    </tr>\n",
       "    <tr>\n",
       "      <th>4</th>\n",
       "      <td>MN</td>\n",
       "      <td>uncategorized</td>\n",
       "      <td>2781</td>\n",
       "    </tr>\n",
       "  </tbody>\n",
       "</table>\n",
       "</div>"
      ],
      "text/plain": [
       "  phenotype       modality  # AS events\n",
       "0        MN        bimodal         1044\n",
       "1        MN       excluded         2592\n",
       "2        MN       included         2403\n",
       "3        MN         middle           26\n",
       "4        MN  uncategorized         2781"
      ]
     },
     "execution_count": 2,
     "metadata": {},
     "output_type": "execute_result"
    }
   ],
   "source": [
    "modalities_counts = study.supplemental.modalities_tidy.groupby(['phenotype', 'modality']).count().reset_index()\n",
    "modalities_counts = modalities_counts.rename(columns={'event_id': '# AS events'})\n",
    "modalities_counts.head()"
   ]
  },
  {
   "cell_type": "code",
   "execution_count": 3,
   "metadata": {
    "collapsed": false
   },
   "outputs": [
    {
     "data": {
      "text/html": [
       "<div>\n",
       "<table border=\"1\" class=\"dataframe\">\n",
       "  <thead>\n",
       "    <tr style=\"text-align: right;\">\n",
       "      <th>phenotype</th>\n",
       "      <th>iPSC</th>\n",
       "      <th>NPC</th>\n",
       "      <th>MN</th>\n",
       "    </tr>\n",
       "    <tr>\n",
       "      <th>modality</th>\n",
       "      <th></th>\n",
       "      <th></th>\n",
       "      <th></th>\n",
       "    </tr>\n",
       "  </thead>\n",
       "  <tbody>\n",
       "    <tr>\n",
       "      <th>excluded</th>\n",
       "      <td>5125</td>\n",
       "      <td>3743</td>\n",
       "      <td>2592</td>\n",
       "    </tr>\n",
       "    <tr>\n",
       "      <th>bimodal</th>\n",
       "      <td>796</td>\n",
       "      <td>772</td>\n",
       "      <td>1044</td>\n",
       "    </tr>\n",
       "    <tr>\n",
       "      <th>included</th>\n",
       "      <td>5812</td>\n",
       "      <td>3872</td>\n",
       "      <td>2403</td>\n",
       "    </tr>\n",
       "    <tr>\n",
       "      <th>middle</th>\n",
       "      <td>108</td>\n",
       "      <td>54</td>\n",
       "      <td>26</td>\n",
       "    </tr>\n",
       "    <tr>\n",
       "      <th>uncategorized</th>\n",
       "      <td>5828</td>\n",
       "      <td>4703</td>\n",
       "      <td>2781</td>\n",
       "    </tr>\n",
       "  </tbody>\n",
       "</table>\n",
       "</div>"
      ],
      "text/plain": [
       "phenotype      iPSC   NPC    MN\n",
       "modality                       \n",
       "excluded       5125  3743  2592\n",
       "bimodal         796   772  1044\n",
       "included       5812  3872  2403\n",
       "middle          108    54    26\n",
       "uncategorized  5828  4703  2781"
      ]
     },
     "execution_count": 3,
     "metadata": {},
     "output_type": "execute_result"
    }
   ],
   "source": [
    "from anchor import MODALITY_ORDER, MODALITY_PALETTE, MODALITY_TO_COLOR\n",
    "\n",
    "modalities_counts_2d = modalities_counts.pivot(index='phenotype', columns='modality', values='# AS events')\n",
    "modalities_counts_2d = modalities_counts_2d.reindex(columns=MODALITY_ORDER, index=study.phenotype_order)\n",
    "modalities_counts_2d = modalities_counts_2d.T\n",
    "modalities_counts_2d"
   ]
  },
  {
   "cell_type": "code",
   "execution_count": 4,
   "metadata": {
    "collapsed": false
   },
   "outputs": [
    {
     "data": {
      "text/html": [
       "<div>\n",
       "<table border=\"1\" class=\"dataframe\">\n",
       "  <thead>\n",
       "    <tr style=\"text-align: right;\">\n",
       "      <th>phenotype</th>\n",
       "      <th>iPSC</th>\n",
       "      <th>NPC</th>\n",
       "      <th>MN</th>\n",
       "    </tr>\n",
       "    <tr>\n",
       "      <th>modality</th>\n",
       "      <th></th>\n",
       "      <th></th>\n",
       "      <th></th>\n",
       "    </tr>\n",
       "  </thead>\n",
       "  <tbody>\n",
       "    <tr>\n",
       "      <th>excluded</th>\n",
       "      <td>5125</td>\n",
       "      <td>3743</td>\n",
       "      <td>2592</td>\n",
       "    </tr>\n",
       "    <tr>\n",
       "      <th>bimodal</th>\n",
       "      <td>796</td>\n",
       "      <td>772</td>\n",
       "      <td>1044</td>\n",
       "    </tr>\n",
       "    <tr>\n",
       "      <th>included</th>\n",
       "      <td>5812</td>\n",
       "      <td>3872</td>\n",
       "      <td>2403</td>\n",
       "    </tr>\n",
       "    <tr>\n",
       "      <th>middle</th>\n",
       "      <td>108</td>\n",
       "      <td>54</td>\n",
       "      <td>26</td>\n",
       "    </tr>\n",
       "    <tr>\n",
       "      <th>uncategorized</th>\n",
       "      <td>5828</td>\n",
       "      <td>4703</td>\n",
       "      <td>2781</td>\n",
       "    </tr>\n",
       "  </tbody>\n",
       "</table>\n",
       "</div>"
      ],
      "text/plain": [
       "phenotype      iPSC   NPC    MN\n",
       "modality                       \n",
       "excluded       5125  3743  2592\n",
       "bimodal         796   772  1044\n",
       "included       5812  3872  2403\n",
       "middle          108    54    26\n",
       "uncategorized  5828  4703  2781"
      ]
     },
     "execution_count": 4,
     "metadata": {},
     "output_type": "execute_result"
    }
   ],
   "source": [
    "modalities_counts_2d = modalities_counts_2d.fillna(0)\n",
    "modalities_counts_2d"
   ]
  },
  {
   "cell_type": "code",
   "execution_count": 5,
   "metadata": {
    "collapsed": false
   },
   "outputs": [
    {
     "data": {
      "image/png": "[encoded data removed]",
      "text/plain": [
       "<matplotlib.figure.Figure at 0x2af5d4c1c290>"
      ]
     },
     "metadata": {},
     "output_type": "display_data"
    }
   ],
   "source": [
    "sns.set(style='ticks', context='paper')\n",
    "fig, ax= plt.subplots(figsize=(2.75, 1.5))\n",
    "mask = modalities_counts_2d.isnull()\n",
    "sns.heatmap(modalities_counts_2d, annot=True, mask=mask, fmt='g', annot_kws=dict(size=9), \n",
    "            cmap='Greys', linewidth=1, linecolor='grey')\n",
    "fig.tight_layout()\n",
    "fig.savefig('{}/modalities_counts_heatmap.pdf'.format(folder))"
   ]
  },
  {
   "cell_type": "markdown",
   "metadata": {},
   "source": [
    "### Plot modality percentage barplots"
   ]
  },
  {
   "cell_type": "code",
   "execution_count": 6,
   "metadata": {
    "collapsed": false
   },
   "outputs": [
    {
     "data": {
      "text/html": [
       "<div>\n",
       "<table border=\"1\" class=\"dataframe\">\n",
       "  <thead>\n",
       "    <tr style=\"text-align: right;\">\n",
       "      <th></th>\n",
       "      <th>phenotype</th>\n",
       "      <th>modality</th>\n",
       "      <th># AS events</th>\n",
       "      <th>percentage</th>\n",
       "    </tr>\n",
       "  </thead>\n",
       "  <tbody>\n",
       "    <tr>\n",
       "      <th>0</th>\n",
       "      <td>MN</td>\n",
       "      <td>bimodal</td>\n",
       "      <td>1044</td>\n",
       "      <td>11.801944</td>\n",
       "    </tr>\n",
       "    <tr>\n",
       "      <th>1</th>\n",
       "      <td>MN</td>\n",
       "      <td>excluded</td>\n",
       "      <td>2592</td>\n",
       "      <td>29.301379</td>\n",
       "    </tr>\n",
       "    <tr>\n",
       "      <th>2</th>\n",
       "      <td>MN</td>\n",
       "      <td>included</td>\n",
       "      <td>2403</td>\n",
       "      <td>27.164820</td>\n",
       "    </tr>\n",
       "    <tr>\n",
       "      <th>3</th>\n",
       "      <td>MN</td>\n",
       "      <td>middle</td>\n",
       "      <td>26</td>\n",
       "      <td>0.293918</td>\n",
       "    </tr>\n",
       "    <tr>\n",
       "      <th>4</th>\n",
       "      <td>MN</td>\n",
       "      <td>uncategorized</td>\n",
       "      <td>2781</td>\n",
       "      <td>31.437938</td>\n",
       "    </tr>\n",
       "    <tr>\n",
       "      <th>5</th>\n",
       "      <td>NPC</td>\n",
       "      <td>bimodal</td>\n",
       "      <td>772</td>\n",
       "      <td>5.873402</td>\n",
       "    </tr>\n",
       "    <tr>\n",
       "      <th>6</th>\n",
       "      <td>NPC</td>\n",
       "      <td>excluded</td>\n",
       "      <td>3743</td>\n",
       "      <td>28.476872</td>\n",
       "    </tr>\n",
       "    <tr>\n",
       "      <th>7</th>\n",
       "      <td>NPC</td>\n",
       "      <td>included</td>\n",
       "      <td>3872</td>\n",
       "      <td>29.458308</td>\n",
       "    </tr>\n",
       "    <tr>\n",
       "      <th>8</th>\n",
       "      <td>NPC</td>\n",
       "      <td>middle</td>\n",
       "      <td>54</td>\n",
       "      <td>0.410834</td>\n",
       "    </tr>\n",
       "    <tr>\n",
       "      <th>9</th>\n",
       "      <td>NPC</td>\n",
       "      <td>uncategorized</td>\n",
       "      <td>4703</td>\n",
       "      <td>35.780584</td>\n",
       "    </tr>\n",
       "    <tr>\n",
       "      <th>10</th>\n",
       "      <td>iPSC</td>\n",
       "      <td>bimodal</td>\n",
       "      <td>796</td>\n",
       "      <td>4.505065</td>\n",
       "    </tr>\n",
       "    <tr>\n",
       "      <th>11</th>\n",
       "      <td>iPSC</td>\n",
       "      <td>excluded</td>\n",
       "      <td>5125</td>\n",
       "      <td>29.005603</td>\n",
       "    </tr>\n",
       "    <tr>\n",
       "      <th>12</th>\n",
       "      <td>iPSC</td>\n",
       "      <td>included</td>\n",
       "      <td>5812</td>\n",
       "      <td>32.893769</td>\n",
       "    </tr>\n",
       "    <tr>\n",
       "      <th>13</th>\n",
       "      <td>iPSC</td>\n",
       "      <td>middle</td>\n",
       "      <td>108</td>\n",
       "      <td>0.611240</td>\n",
       "    </tr>\n",
       "    <tr>\n",
       "      <th>14</th>\n",
       "      <td>iPSC</td>\n",
       "      <td>uncategorized</td>\n",
       "      <td>5828</td>\n",
       "      <td>32.984323</td>\n",
       "    </tr>\n",
       "  </tbody>\n",
       "</table>\n",
       "</div>"
      ],
      "text/plain": [
       "   phenotype       modality  # AS events  percentage\n",
       "0         MN        bimodal         1044   11.801944\n",
       "1         MN       excluded         2592   29.301379\n",
       "2         MN       included         2403   27.164820\n",
       "3         MN         middle           26    0.293918\n",
       "4         MN  uncategorized         2781   31.437938\n",
       "5        NPC        bimodal          772    5.873402\n",
       "6        NPC       excluded         3743   28.476872\n",
       "7        NPC       included         3872   29.458308\n",
       "8        NPC         middle           54    0.410834\n",
       "9        NPC  uncategorized         4703   35.780584\n",
       "10      iPSC        bimodal          796    4.505065\n",
       "11      iPSC       excluded         5125   29.005603\n",
       "12      iPSC       included         5812   32.893769\n",
       "13      iPSC         middle          108    0.611240\n",
       "14      iPSC  uncategorized         5828   32.984323"
      ]
     },
     "execution_count": 6,
     "metadata": {},
     "output_type": "execute_result"
    }
   ],
   "source": [
    "modalities_counts['percentage'] = 100*modalities_counts.groupby('phenotype')['# AS events'].apply(lambda x: x/x.sum())\n",
    "modalities_counts"
   ]
  },
  {
   "cell_type": "code",
   "execution_count": 7,
   "metadata": {
    "collapsed": false
   },
   "outputs": [],
   "source": [
    "from anchor import MODALITY_ORDER, MODALITY_PALETTE, MODALITY_TO_COLOR"
   ]
  },
  {
   "cell_type": "code",
   "execution_count": 8,
   "metadata": {
    "collapsed": false
   },
   "outputs": [
    {
     "name": "stderr",
     "output_type": "stream",
     "text": [
      "/home/obotvinnik/anaconda/lib/python2.7/site-packages/seaborn/categorical.py:2894: UserWarning: The `x_order` parameter has been renamed `order`\n",
      "  UserWarning)\n"
     ]
    },
    {
     "data": {
      "image/png": "[encoded data removed]",
      "text/plain": [
       "<matplotlib.figure.Figure at 0x2af61bf27050>"
      ]
     },
     "metadata": {},
     "output_type": "display_data"
    }
   ],
   "source": [
    "\n",
    "fig, ax = plt.subplots(figsize=(2, 1.5))\n",
    "\n",
    "# ax = axes[0]\n",
    "sns.barplot(x='phenotype', hue='modality', y='percentage', data=modalities_counts, ax=ax,\n",
    "            hue_order=MODALITY_ORDER, palette=MODALITY_PALETTE, x_order=study.phenotype_order, zorder=-1)\n",
    "ax.legend_.set_visible(False)\n",
    "ax.locator_params('y', nbins=4)\n",
    "ax.set(ylabel='% AS Exons')\n",
    "ax.grid(axis='y', color='white', zorder=100)\n",
    "sns.despine()\n",
    "fig.savefig('{}/modalities_barplot.pdf'.format(folder))\n",
    "\n",
    "ax.set(ylim=(0, 1))\n",
    "# ax.grid(axis='y', color='grey', zorder=np.inf)\n",
    "fig.savefig('{}/modalities_barplot_zoom.pdf'.format(folder))\n",
    "\n",
    "# ax.legend_.set_visible(False)\n",
    "# ax.locator_params('y', nbins=4)\n",
    "# sns.despine(ax=ax, bottom=True)\n",
    "# ax.tick_params(axis='x', bottom='off')\n",
    "# ax.set(xticks=[], xlabel='', ylim=(10, 65), ylabel='', yticks=[10, 35, 60])\n",
    "\n",
    "# ax = axes[1]\n",
    "# sns.barplot(x='phenotype', hue='modality', y='percentage', data=modalities_counts, ax=ax,\n",
    "#            hue_order=MODALITY_ORDER, palette=MODALITY_PALETTE, x_order=study.phenotype_order)\n",
    "# ax.set(ylim=(0, 0.5), ylabel='% AS Exons', \n",
    "#        xlabel='')\n",
    "# ax.legend_.set_visible(False)\n",
    "# ax.locator_params('y', nbins=4)\n",
    "# sns.despine(ax=ax)\n",
    "# # fig.tight_layout()\n",
    "# fig.savefig('{}/modalities_barplot.pdf'.format(folder))"
   ]
  },
  {
   "cell_type": "markdown",
   "metadata": {
    "collapsed": true
   },
   "source": [
    "## Modality venn"
   ]
  },
  {
   "cell_type": "code",
   "execution_count": 9,
   "metadata": {
    "collapsed": false
   },
   "outputs": [
    {
     "data": {
      "text/plain": [
       "phenotype  modality     \n",
       "MN         bimodal          1044\n",
       "           excluded         2592\n",
       "           included         2403\n",
       "           middle             26\n",
       "           uncategorized    2781\n",
       "NPC        bimodal           772\n",
       "           excluded         3743\n",
       "           included         3872\n",
       "           middle             54\n",
       "           uncategorized    4703\n",
       "iPSC       bimodal           796\n",
       "           excluded         5125\n",
       "           included         5812\n",
       "           middle            108\n",
       "           uncategorized    5828\n",
       "dtype: int64"
      ]
     },
     "execution_count": 9,
     "metadata": {},
     "output_type": "execute_result"
    }
   ],
   "source": [
    "import matplotlib_venn\n",
    "\n",
    "sns.set(context='paper', style='ticks')\n",
    "\n",
    "from anchor import MODALITY_ORDER\n",
    "\n",
    "study.supplemental.modalities_tidy.groupby(['phenotype', 'modality']).size()"
   ]
  },
  {
   "cell_type": "code",
   "execution_count": 10,
   "metadata": {
    "collapsed": false
   },
   "outputs": [
    {
     "data": {
      "image/png": "[encoded data removed]",
      "text/plain": [
       "<matplotlib.figure.Figure at 0x2af620e55750>"
      ]
     },
     "metadata": {},
     "output_type": "display_data"
    }
   ],
   "source": [
    "sns.palplot(sns.light_palette(MODALITY_PALETTE[0], n_colors=3))"
   ]
  },
  {
   "cell_type": "code",
   "execution_count": 11,
   "metadata": {
    "collapsed": false
   },
   "outputs": [
    {
     "data": {
      "image/png": "[encoded data removed]",
      "text/plain": [
       "<matplotlib.figure.Figure at 0x2af61e145190>"
      ]
     },
     "metadata": {},
     "output_type": "display_data"
    }
   ],
   "source": [
    "from anchor import MODALITY_TO_CMAP\n",
    "\n",
    "fig, axes = plt.subplots(figsize=(4.5, 3), nrows=2, ncols=3)\n",
    "\n",
    "axes_iter = axes.flat\n",
    "\n",
    "grouped_modality = study.supplemental.modalities_tidy.groupby('modality')\n",
    "\n",
    "for modality in MODALITY_ORDER:\n",
    "    modality_df = grouped_modality.get_group(modality)\n",
    "#     if modality == 'middle':\n",
    "#         continue\n",
    "    grouped_phenotype = modality_df.groupby('phenotype')\n",
    "    sets = [set(grouped_phenotype.get_group(phenotype)['event_id']) for phenotype in study.phenotype_order]\n",
    "    \n",
    "    ax = axes_iter.next()\n",
    "    cmap = MODALITY_TO_CMAP[modality]\n",
    "\n",
    "    set_colors = cmap(np.linspace(0, 1, 4))[1:]\n",
    "\n",
    "#     set_colors = sns.light_palette(MODALITY_TO_COLOR[modality], n_colors=3)\n",
    "#     set_colors = study.phenotype_color_ordered\n",
    "    matplotlib_venn.venn3(sets, set_labels=study.phenotype_order, set_colors=set_colors, ax=ax)\n",
    "ax = axes[-1][-1]\n",
    "ax.axis('off')\n",
    "#     ax.set(title=modality)\n",
    "fig.tight_layout()\n",
    "fig.savefig('{}/venn_diagrams.pdf'.format(folder))"
   ]
  },
  {
   "cell_type": "code",
   "execution_count": 12,
   "metadata": {
    "collapsed": false
   },
   "outputs": [
    {
     "data": {
      "text/html": [
       "<div>\n",
       "<table border=\"1\" class=\"dataframe\">\n",
       "  <thead>\n",
       "    <tr style=\"text-align: right;\">\n",
       "      <th></th>\n",
       "      <th>event_id</th>\n",
       "      <th>phenotype</th>\n",
       "      <th>modality</th>\n",
       "    </tr>\n",
       "  </thead>\n",
       "  <tbody>\n",
       "    <tr>\n",
       "      <th>45</th>\n",
       "      <td>chr10:102045854:102045970:-@chr10:102042663:10...</td>\n",
       "      <td>MN</td>\n",
       "      <td>excluded</td>\n",
       "    </tr>\n",
       "    <tr>\n",
       "      <th>46</th>\n",
       "      <td>chr10:102045854:102045970:-@chr10:102042663:10...</td>\n",
       "      <td>NPC</td>\n",
       "      <td>excluded</td>\n",
       "    </tr>\n",
       "    <tr>\n",
       "      <th>47</th>\n",
       "      <td>chr10:102045854:102045970:-@chr10:102042663:10...</td>\n",
       "      <td>iPSC</td>\n",
       "      <td>excluded</td>\n",
       "    </tr>\n",
       "    <tr>\n",
       "      <th>48</th>\n",
       "      <td>chr10:102286156:102286311:-@chr10:102283734:10...</td>\n",
       "      <td>MN</td>\n",
       "      <td>excluded</td>\n",
       "    </tr>\n",
       "    <tr>\n",
       "      <th>49</th>\n",
       "      <td>chr10:102286156:102286311:-@chr10:102283734:10...</td>\n",
       "      <td>NPC</td>\n",
       "      <td>excluded</td>\n",
       "    </tr>\n",
       "    <tr>\n",
       "      <th>50</th>\n",
       "      <td>chr10:102286156:102286311:-@chr10:102283734:10...</td>\n",
       "      <td>iPSC</td>\n",
       "      <td>excluded</td>\n",
       "    </tr>\n",
       "    <tr>\n",
       "      <th>51</th>\n",
       "      <td>chr10:102286732:102286831:-@chr10:102286156:10...</td>\n",
       "      <td>MN</td>\n",
       "      <td>included</td>\n",
       "    </tr>\n",
       "    <tr>\n",
       "      <th>52</th>\n",
       "      <td>chr10:102286732:102286831:-@chr10:102286156:10...</td>\n",
       "      <td>NPC</td>\n",
       "      <td>included</td>\n",
       "    </tr>\n",
       "    <tr>\n",
       "      <th>53</th>\n",
       "      <td>chr10:102286732:102286831:-@chr10:102286156:10...</td>\n",
       "      <td>iPSC</td>\n",
       "      <td>included</td>\n",
       "    </tr>\n",
       "    <tr>\n",
       "      <th>72</th>\n",
       "      <td>chr10:102747070:102747272:-@chr10:102746847:10...</td>\n",
       "      <td>MN</td>\n",
       "      <td>uncategorized</td>\n",
       "    </tr>\n",
       "    <tr>\n",
       "      <th>73</th>\n",
       "      <td>chr10:102747070:102747272:-@chr10:102746847:10...</td>\n",
       "      <td>NPC</td>\n",
       "      <td>uncategorized</td>\n",
       "    </tr>\n",
       "    <tr>\n",
       "      <th>74</th>\n",
       "      <td>chr10:102747070:102747272:-@chr10:102746847:10...</td>\n",
       "      <td>iPSC</td>\n",
       "      <td>uncategorized</td>\n",
       "    </tr>\n",
       "    <tr>\n",
       "      <th>105</th>\n",
       "      <td>chr10:103360960:103361093:+@chr10:103368624:10...</td>\n",
       "      <td>MN</td>\n",
       "      <td>excluded</td>\n",
       "    </tr>\n",
       "    <tr>\n",
       "      <th>106</th>\n",
       "      <td>chr10:103360960:103361093:+@chr10:103368624:10...</td>\n",
       "      <td>NPC</td>\n",
       "      <td>excluded</td>\n",
       "    </tr>\n",
       "    <tr>\n",
       "      <th>107</th>\n",
       "      <td>chr10:103360960:103361093:+@chr10:103368624:10...</td>\n",
       "      <td>iPSC</td>\n",
       "      <td>excluded</td>\n",
       "    </tr>\n",
       "    <tr>\n",
       "      <th>117</th>\n",
       "      <td>chr10:103557737:103557911:-@chr10:103553670:10...</td>\n",
       "      <td>MN</td>\n",
       "      <td>uncategorized</td>\n",
       "    </tr>\n",
       "    <tr>\n",
       "      <th>118</th>\n",
       "      <td>chr10:103557737:103557911:-@chr10:103553670:10...</td>\n",
       "      <td>NPC</td>\n",
       "      <td>uncategorized</td>\n",
       "    </tr>\n",
       "    <tr>\n",
       "      <th>119</th>\n",
       "      <td>chr10:103557737:103557911:-@chr10:103553670:10...</td>\n",
       "      <td>iPSC</td>\n",
       "      <td>uncategorized</td>\n",
       "    </tr>\n",
       "    <tr>\n",
       "      <th>123</th>\n",
       "      <td>chr10:103563492:103563776:-@chr10:103559999:10...</td>\n",
       "      <td>MN</td>\n",
       "      <td>bimodal</td>\n",
       "    </tr>\n",
       "    <tr>\n",
       "      <th>124</th>\n",
       "      <td>chr10:103563492:103563776:-@chr10:103559999:10...</td>\n",
       "      <td>NPC</td>\n",
       "      <td>bimodal</td>\n",
       "    </tr>\n",
       "    <tr>\n",
       "      <th>125</th>\n",
       "      <td>chr10:103563492:103563776:-@chr10:103559999:10...</td>\n",
       "      <td>iPSC</td>\n",
       "      <td>bimodal</td>\n",
       "    </tr>\n",
       "    <tr>\n",
       "      <th>126</th>\n",
       "      <td>chr10:103565802:103565900:-@chr10:103563492:10...</td>\n",
       "      <td>MN</td>\n",
       "      <td>included</td>\n",
       "    </tr>\n",
       "    <tr>\n",
       "      <th>127</th>\n",
       "      <td>chr10:103565802:103565900:-@chr10:103563492:10...</td>\n",
       "      <td>NPC</td>\n",
       "      <td>included</td>\n",
       "    </tr>\n",
       "    <tr>\n",
       "      <th>128</th>\n",
       "      <td>chr10:103565802:103565900:-@chr10:103563492:10...</td>\n",
       "      <td>iPSC</td>\n",
       "      <td>included</td>\n",
       "    </tr>\n",
       "    <tr>\n",
       "      <th>129</th>\n",
       "      <td>chr10:103565802:103565900:-@chr10:103563492:10...</td>\n",
       "      <td>MN</td>\n",
       "      <td>uncategorized</td>\n",
       "    </tr>\n",
       "    <tr>\n",
       "      <th>130</th>\n",
       "      <td>chr10:103565802:103565900:-@chr10:103563492:10...</td>\n",
       "      <td>NPC</td>\n",
       "      <td>uncategorized</td>\n",
       "    </tr>\n",
       "    <tr>\n",
       "      <th>131</th>\n",
       "      <td>chr10:103565802:103565900:-@chr10:103563492:10...</td>\n",
       "      <td>iPSC</td>\n",
       "      <td>uncategorized</td>\n",
       "    </tr>\n",
       "    <tr>\n",
       "      <th>141</th>\n",
       "      <td>chr10:1038429:1038599:+@chr10:1041869:1041972:...</td>\n",
       "      <td>MN</td>\n",
       "      <td>included</td>\n",
       "    </tr>\n",
       "    <tr>\n",
       "      <th>142</th>\n",
       "      <td>chr10:1038429:1038599:+@chr10:1041869:1041972:...</td>\n",
       "      <td>NPC</td>\n",
       "      <td>included</td>\n",
       "    </tr>\n",
       "    <tr>\n",
       "      <th>143</th>\n",
       "      <td>chr10:1038429:1038599:+@chr10:1041869:1041972:...</td>\n",
       "      <td>iPSC</td>\n",
       "      <td>included</td>\n",
       "    </tr>\n",
       "    <tr>\n",
       "      <th>...</th>\n",
       "      <td>...</td>\n",
       "      <td>...</td>\n",
       "      <td>...</td>\n",
       "    </tr>\n",
       "    <tr>\n",
       "      <th>57990</th>\n",
       "      <td>chrX:80457303:80457744:+@chrX:80457936:8045807...</td>\n",
       "      <td>MN</td>\n",
       "      <td>excluded</td>\n",
       "    </tr>\n",
       "    <tr>\n",
       "      <th>57991</th>\n",
       "      <td>chrX:80457303:80457744:+@chrX:80457936:8045807...</td>\n",
       "      <td>NPC</td>\n",
       "      <td>excluded</td>\n",
       "    </tr>\n",
       "    <tr>\n",
       "      <th>57992</th>\n",
       "      <td>chrX:80457303:80457744:+@chrX:80457936:8045807...</td>\n",
       "      <td>iPSC</td>\n",
       "      <td>excluded</td>\n",
       "    </tr>\n",
       "    <tr>\n",
       "      <th>57993</th>\n",
       "      <td>chrX:80457303:80457744:+@chrX:80457936:8045807...</td>\n",
       "      <td>MN</td>\n",
       "      <td>excluded</td>\n",
       "    </tr>\n",
       "    <tr>\n",
       "      <th>57994</th>\n",
       "      <td>chrX:80457303:80457744:+@chrX:80457936:8045807...</td>\n",
       "      <td>NPC</td>\n",
       "      <td>excluded</td>\n",
       "    </tr>\n",
       "    <tr>\n",
       "      <th>57995</th>\n",
       "      <td>chrX:80457303:80457744:+@chrX:80457936:8045807...</td>\n",
       "      <td>iPSC</td>\n",
       "      <td>excluded</td>\n",
       "    </tr>\n",
       "    <tr>\n",
       "      <th>57996</th>\n",
       "      <td>chrX:80457303:80457744:+@chrX:80457936:8045807...</td>\n",
       "      <td>MN</td>\n",
       "      <td>excluded</td>\n",
       "    </tr>\n",
       "    <tr>\n",
       "      <th>57997</th>\n",
       "      <td>chrX:80457303:80457744:+@chrX:80457936:8045807...</td>\n",
       "      <td>NPC</td>\n",
       "      <td>excluded</td>\n",
       "    </tr>\n",
       "    <tr>\n",
       "      <th>57998</th>\n",
       "      <td>chrX:80457303:80457744:+@chrX:80457936:8045807...</td>\n",
       "      <td>iPSC</td>\n",
       "      <td>excluded</td>\n",
       "    </tr>\n",
       "    <tr>\n",
       "      <th>57999</th>\n",
       "      <td>chrX:80457303:80457744:+@chrX:80492617:8049277...</td>\n",
       "      <td>MN</td>\n",
       "      <td>excluded</td>\n",
       "    </tr>\n",
       "    <tr>\n",
       "      <th>58000</th>\n",
       "      <td>chrX:80457303:80457744:+@chrX:80492617:8049277...</td>\n",
       "      <td>NPC</td>\n",
       "      <td>excluded</td>\n",
       "    </tr>\n",
       "    <tr>\n",
       "      <th>58001</th>\n",
       "      <td>chrX:80457303:80457744:+@chrX:80492617:8049277...</td>\n",
       "      <td>iPSC</td>\n",
       "      <td>excluded</td>\n",
       "    </tr>\n",
       "    <tr>\n",
       "      <th>58002</th>\n",
       "      <td>chrX:80457936:80458075:+@chrX:80492617:8049277...</td>\n",
       "      <td>MN</td>\n",
       "      <td>excluded</td>\n",
       "    </tr>\n",
       "    <tr>\n",
       "      <th>58003</th>\n",
       "      <td>chrX:80457936:80458075:+@chrX:80492617:8049277...</td>\n",
       "      <td>NPC</td>\n",
       "      <td>excluded</td>\n",
       "    </tr>\n",
       "    <tr>\n",
       "      <th>58004</th>\n",
       "      <td>chrX:80457936:80458075:+@chrX:80492617:8049277...</td>\n",
       "      <td>iPSC</td>\n",
       "      <td>excluded</td>\n",
       "    </tr>\n",
       "    <tr>\n",
       "      <th>58005</th>\n",
       "      <td>chrX:83743032:83743140:-@chrX:83730259:8373040...</td>\n",
       "      <td>MN</td>\n",
       "      <td>uncategorized</td>\n",
       "    </tr>\n",
       "    <tr>\n",
       "      <th>58006</th>\n",
       "      <td>chrX:83743032:83743140:-@chrX:83730259:8373040...</td>\n",
       "      <td>NPC</td>\n",
       "      <td>uncategorized</td>\n",
       "    </tr>\n",
       "    <tr>\n",
       "      <th>58007</th>\n",
       "      <td>chrX:83743032:83743140:-@chrX:83730259:8373040...</td>\n",
       "      <td>iPSC</td>\n",
       "      <td>uncategorized</td>\n",
       "    </tr>\n",
       "    <tr>\n",
       "      <th>58011</th>\n",
       "      <td>chrX:83757350:83757487:-@chrX:83743032:8374314...</td>\n",
       "      <td>MN</td>\n",
       "      <td>uncategorized</td>\n",
       "    </tr>\n",
       "    <tr>\n",
       "      <th>58012</th>\n",
       "      <td>chrX:83757350:83757487:-@chrX:83743032:8374314...</td>\n",
       "      <td>NPC</td>\n",
       "      <td>uncategorized</td>\n",
       "    </tr>\n",
       "    <tr>\n",
       "      <th>58013</th>\n",
       "      <td>chrX:83757350:83757487:-@chrX:83743032:8374314...</td>\n",
       "      <td>iPSC</td>\n",
       "      <td>uncategorized</td>\n",
       "    </tr>\n",
       "    <tr>\n",
       "      <th>58035</th>\n",
       "      <td>chrY:14813160:14813984:+@chrY:14820567:1482062...</td>\n",
       "      <td>MN</td>\n",
       "      <td>uncategorized</td>\n",
       "    </tr>\n",
       "    <tr>\n",
       "      <th>58036</th>\n",
       "      <td>chrY:14813160:14813984:+@chrY:14820567:1482062...</td>\n",
       "      <td>NPC</td>\n",
       "      <td>uncategorized</td>\n",
       "    </tr>\n",
       "    <tr>\n",
       "      <th>58037</th>\n",
       "      <td>chrY:14813160:14813984:+@chrY:14820567:1482062...</td>\n",
       "      <td>iPSC</td>\n",
       "      <td>uncategorized</td>\n",
       "    </tr>\n",
       "    <tr>\n",
       "      <th>58104</th>\n",
       "      <td>chrY:16634488:16634821:+@chrY:16733889:1673447...</td>\n",
       "      <td>MN</td>\n",
       "      <td>bimodal</td>\n",
       "    </tr>\n",
       "    <tr>\n",
       "      <th>58105</th>\n",
       "      <td>chrY:16634488:16634821:+@chrY:16733889:1673447...</td>\n",
       "      <td>NPC</td>\n",
       "      <td>bimodal</td>\n",
       "    </tr>\n",
       "    <tr>\n",
       "      <th>58106</th>\n",
       "      <td>chrY:16634488:16634821:+@chrY:16733889:1673447...</td>\n",
       "      <td>iPSC</td>\n",
       "      <td>bimodal</td>\n",
       "    </tr>\n",
       "    <tr>\n",
       "      <th>58107</th>\n",
       "      <td>chrY:16634488:16634821:+@chrY:16733889:1673447...</td>\n",
       "      <td>MN</td>\n",
       "      <td>uncategorized</td>\n",
       "    </tr>\n",
       "    <tr>\n",
       "      <th>58108</th>\n",
       "      <td>chrY:16634488:16634821:+@chrY:16733889:1673447...</td>\n",
       "      <td>NPC</td>\n",
       "      <td>uncategorized</td>\n",
       "    </tr>\n",
       "    <tr>\n",
       "      <th>58109</th>\n",
       "      <td>chrY:16634488:16634821:+@chrY:16733889:1673447...</td>\n",
       "      <td>iPSC</td>\n",
       "      <td>uncategorized</td>\n",
       "    </tr>\n",
       "  </tbody>\n",
       "</table>\n",
       "<p>13881 rows × 3 columns</p>\n",
       "</div>"
      ],
      "text/plain": [
       "                                                event_id phenotype  \\\n",
       "45     chr10:102045854:102045970:-@chr10:102042663:10...        MN   \n",
       "46     chr10:102045854:102045970:-@chr10:102042663:10...       NPC   \n",
       "47     chr10:102045854:102045970:-@chr10:102042663:10...      iPSC   \n",
       "48     chr10:102286156:102286311:-@chr10:102283734:10...        MN   \n",
       "49     chr10:102286156:102286311:-@chr10:102283734:10...       NPC   \n",
       "50     chr10:102286156:102286311:-@chr10:102283734:10...      iPSC   \n",
       "51     chr10:102286732:102286831:-@chr10:102286156:10...        MN   \n",
       "52     chr10:102286732:102286831:-@chr10:102286156:10...       NPC   \n",
       "53     chr10:102286732:102286831:-@chr10:102286156:10...      iPSC   \n",
       "72     chr10:102747070:102747272:-@chr10:102746847:10...        MN   \n",
       "73     chr10:102747070:102747272:-@chr10:102746847:10...       NPC   \n",
       "74     chr10:102747070:102747272:-@chr10:102746847:10...      iPSC   \n",
       "105    chr10:103360960:103361093:+@chr10:103368624:10...        MN   \n",
       "106    chr10:103360960:103361093:+@chr10:103368624:10...       NPC   \n",
       "107    chr10:103360960:103361093:+@chr10:103368624:10...      iPSC   \n",
       "117    chr10:103557737:103557911:-@chr10:103553670:10...        MN   \n",
       "118    chr10:103557737:103557911:-@chr10:103553670:10...       NPC   \n",
       "119    chr10:103557737:103557911:-@chr10:103553670:10...      iPSC   \n",
       "123    chr10:103563492:103563776:-@chr10:103559999:10...        MN   \n",
       "124    chr10:103563492:103563776:-@chr10:103559999:10...       NPC   \n",
       "125    chr10:103563492:103563776:-@chr10:103559999:10...      iPSC   \n",
       "126    chr10:103565802:103565900:-@chr10:103563492:10...        MN   \n",
       "127    chr10:103565802:103565900:-@chr10:103563492:10...       NPC   \n",
       "128    chr10:103565802:103565900:-@chr10:103563492:10...      iPSC   \n",
       "129    chr10:103565802:103565900:-@chr10:103563492:10...        MN   \n",
       "130    chr10:103565802:103565900:-@chr10:103563492:10...       NPC   \n",
       "131    chr10:103565802:103565900:-@chr10:103563492:10...      iPSC   \n",
       "141    chr10:1038429:1038599:+@chr10:1041869:1041972:...        MN   \n",
       "142    chr10:1038429:1038599:+@chr10:1041869:1041972:...       NPC   \n",
       "143    chr10:1038429:1038599:+@chr10:1041869:1041972:...      iPSC   \n",
       "...                                                  ...       ...   \n",
       "57990  chrX:80457303:80457744:+@chrX:80457936:8045807...        MN   \n",
       "57991  chrX:80457303:80457744:+@chrX:80457936:8045807...       NPC   \n",
       "57992  chrX:80457303:80457744:+@chrX:80457936:8045807...      iPSC   \n",
       "57993  chrX:80457303:80457744:+@chrX:80457936:8045807...        MN   \n",
       "57994  chrX:80457303:80457744:+@chrX:80457936:8045807...       NPC   \n",
       "57995  chrX:80457303:80457744:+@chrX:80457936:8045807...      iPSC   \n",
       "57996  chrX:80457303:80457744:+@chrX:80457936:8045807...        MN   \n",
       "57997  chrX:80457303:80457744:+@chrX:80457936:8045807...       NPC   \n",
       "57998  chrX:80457303:80457744:+@chrX:80457936:8045807...      iPSC   \n",
       "57999  chrX:80457303:80457744:+@chrX:80492617:8049277...        MN   \n",
       "58000  chrX:80457303:80457744:+@chrX:80492617:8049277...       NPC   \n",
       "58001  chrX:80457303:80457744:+@chrX:80492617:8049277...      iPSC   \n",
       "58002  chrX:80457936:80458075:+@chrX:80492617:8049277...        MN   \n",
       "58003  chrX:80457936:80458075:+@chrX:80492617:8049277...       NPC   \n",
       "58004  chrX:80457936:80458075:+@chrX:80492617:8049277...      iPSC   \n",
       "58005  chrX:83743032:83743140:-@chrX:83730259:8373040...        MN   \n",
       "58006  chrX:83743032:83743140:-@chrX:83730259:8373040...       NPC   \n",
       "58007  chrX:83743032:83743140:-@chrX:83730259:8373040...      iPSC   \n",
       "58011  chrX:83757350:83757487:-@chrX:83743032:8374314...        MN   \n",
       "58012  chrX:83757350:83757487:-@chrX:83743032:8374314...       NPC   \n",
       "58013  chrX:83757350:83757487:-@chrX:83743032:8374314...      iPSC   \n",
       "58035  chrY:14813160:14813984:+@chrY:14820567:1482062...        MN   \n",
       "58036  chrY:14813160:14813984:+@chrY:14820567:1482062...       NPC   \n",
       "58037  chrY:14813160:14813984:+@chrY:14820567:1482062...      iPSC   \n",
       "58104  chrY:16634488:16634821:+@chrY:16733889:1673447...        MN   \n",
       "58105  chrY:16634488:16634821:+@chrY:16733889:1673447...       NPC   \n",
       "58106  chrY:16634488:16634821:+@chrY:16733889:1673447...      iPSC   \n",
       "58107  chrY:16634488:16634821:+@chrY:16733889:1673447...        MN   \n",
       "58108  chrY:16634488:16634821:+@chrY:16733889:1673447...       NPC   \n",
       "58109  chrY:16634488:16634821:+@chrY:16733889:1673447...      iPSC   \n",
       "\n",
       "            modality  \n",
       "45          excluded  \n",
       "46          excluded  \n",
       "47          excluded  \n",
       "48          excluded  \n",
       "49          excluded  \n",
       "50          excluded  \n",
       "51          included  \n",
       "52          included  \n",
       "53          included  \n",
       "72     uncategorized  \n",
       "73     uncategorized  \n",
       "74     uncategorized  \n",
       "105         excluded  \n",
       "106         excluded  \n",
       "107         excluded  \n",
       "117    uncategorized  \n",
       "118    uncategorized  \n",
       "119    uncategorized  \n",
       "123          bimodal  \n",
       "124          bimodal  \n",
       "125          bimodal  \n",
       "126         included  \n",
       "127         included  \n",
       "128         included  \n",
       "129    uncategorized  \n",
       "130    uncategorized  \n",
       "131    uncategorized  \n",
       "141         included  \n",
       "142         included  \n",
       "143         included  \n",
       "...              ...  \n",
       "57990       excluded  \n",
       "57991       excluded  \n",
       "57992       excluded  \n",
       "57993       excluded  \n",
       "57994       excluded  \n",
       "57995       excluded  \n",
       "57996       excluded  \n",
       "57997       excluded  \n",
       "57998       excluded  \n",
       "57999       excluded  \n",
       "58000       excluded  \n",
       "58001       excluded  \n",
       "58002       excluded  \n",
       "58003       excluded  \n",
       "58004       excluded  \n",
       "58005  uncategorized  \n",
       "58006  uncategorized  \n",
       "58007  uncategorized  \n",
       "58011  uncategorized  \n",
       "58012  uncategorized  \n",
       "58013  uncategorized  \n",
       "58035  uncategorized  \n",
       "58036  uncategorized  \n",
       "58037  uncategorized  \n",
       "58104        bimodal  \n",
       "58105        bimodal  \n",
       "58106        bimodal  \n",
       "58107  uncategorized  \n",
       "58108  uncategorized  \n",
       "58109  uncategorized  \n",
       "\n",
       "[13881 rows x 3 columns]"
      ]
     },
     "execution_count": 12,
     "metadata": {},
     "output_type": "execute_result"
    }
   ],
   "source": [
    "same_in_all_three_modalities = study.supplemental.modalities_tidy.groupby(['modality', 'event_id']).filter(lambda x: len(x) == len(study.phenotype_order))\n",
    "same_in_all_three_modalities"
   ]
  },
  {
   "cell_type": "code",
   "execution_count": 13,
   "metadata": {
    "collapsed": false
   },
   "outputs": [
    {
     "data": {
      "text/plain": [
       "<pandas.core.groupby.SeriesGroupBy object at 0x2af61e1f8dd0>"
      ]
     },
     "execution_count": 13,
     "metadata": {},
     "output_type": "execute_result"
    }
   ],
   "source": [
    "same_in_all_three_modalities.groupby('event_id')['modality']"
   ]
  },
  {
   "cell_type": "code",
   "execution_count": 14,
   "metadata": {
    "collapsed": false
   },
   "outputs": [
    {
     "data": {
      "text/html": [
       "<div>\n",
       "<table border=\"1\" class=\"dataframe\">\n",
       "  <thead>\n",
       "    <tr style=\"text-align: right;\">\n",
       "      <th></th>\n",
       "      <th>event_id</th>\n",
       "      <th>modality</th>\n",
       "    </tr>\n",
       "  </thead>\n",
       "  <tbody>\n",
       "    <tr>\n",
       "      <th>45</th>\n",
       "      <td>chr10:102045854:102045970:-@chr10:102042663:10...</td>\n",
       "      <td>excluded</td>\n",
       "    </tr>\n",
       "    <tr>\n",
       "      <th>48</th>\n",
       "      <td>chr10:102286156:102286311:-@chr10:102283734:10...</td>\n",
       "      <td>excluded</td>\n",
       "    </tr>\n",
       "    <tr>\n",
       "      <th>51</th>\n",
       "      <td>chr10:102286732:102286831:-@chr10:102286156:10...</td>\n",
       "      <td>included</td>\n",
       "    </tr>\n",
       "    <tr>\n",
       "      <th>72</th>\n",
       "      <td>chr10:102747070:102747272:-@chr10:102746847:10...</td>\n",
       "      <td>uncategorized</td>\n",
       "    </tr>\n",
       "    <tr>\n",
       "      <th>105</th>\n",
       "      <td>chr10:103360960:103361093:+@chr10:103368624:10...</td>\n",
       "      <td>excluded</td>\n",
       "    </tr>\n",
       "  </tbody>\n",
       "</table>\n",
       "</div>"
      ],
      "text/plain": [
       "                                              event_id       modality\n",
       "45   chr10:102045854:102045970:-@chr10:102042663:10...       excluded\n",
       "48   chr10:102286156:102286311:-@chr10:102283734:10...       excluded\n",
       "51   chr10:102286732:102286831:-@chr10:102286156:10...       included\n",
       "72   chr10:102747070:102747272:-@chr10:102746847:10...  uncategorized\n",
       "105  chr10:103360960:103361093:+@chr10:103368624:10...       excluded"
      ]
     },
     "execution_count": 14,
     "metadata": {},
     "output_type": "execute_result"
    }
   ],
   "source": [
    "same_in_all_three_modalities = same_in_all_three_modalities[['event_id', 'modality']].drop_duplicates()\n",
    "same_in_all_three_modalities.head()"
   ]
  },
  {
   "cell_type": "code",
   "execution_count": 15,
   "metadata": {
    "collapsed": false
   },
   "outputs": [
    {
     "data": {
      "text/html": [
       "<div>\n",
       "<table border=\"1\" class=\"dataframe\">\n",
       "  <thead>\n",
       "    <tr style=\"text-align: right;\">\n",
       "      <th></th>\n",
       "      <th>event_id</th>\n",
       "      <th>modality</th>\n",
       "      <th>splice_type</th>\n",
       "    </tr>\n",
       "  </thead>\n",
       "  <tbody>\n",
       "    <tr>\n",
       "      <th>45</th>\n",
       "      <td>chr10:102045854:102045970:-@chr10:102042663:10...</td>\n",
       "      <td>excluded</td>\n",
       "      <td>SE</td>\n",
       "    </tr>\n",
       "    <tr>\n",
       "      <th>48</th>\n",
       "      <td>chr10:102286156:102286311:-@chr10:102283734:10...</td>\n",
       "      <td>excluded</td>\n",
       "      <td>SE</td>\n",
       "    </tr>\n",
       "    <tr>\n",
       "      <th>51</th>\n",
       "      <td>chr10:102286732:102286831:-@chr10:102286156:10...</td>\n",
       "      <td>included</td>\n",
       "      <td>SE</td>\n",
       "    </tr>\n",
       "    <tr>\n",
       "      <th>72</th>\n",
       "      <td>chr10:102747070:102747272:-@chr10:102746847:10...</td>\n",
       "      <td>uncategorized</td>\n",
       "      <td>MXE</td>\n",
       "    </tr>\n",
       "    <tr>\n",
       "      <th>105</th>\n",
       "      <td>chr10:103360960:103361093:+@chr10:103368624:10...</td>\n",
       "      <td>excluded</td>\n",
       "      <td>SE</td>\n",
       "    </tr>\n",
       "  </tbody>\n",
       "</table>\n",
       "</div>"
      ],
      "text/plain": [
       "                                              event_id       modality  \\\n",
       "45   chr10:102045854:102045970:-@chr10:102042663:10...       excluded   \n",
       "48   chr10:102286156:102286311:-@chr10:102283734:10...       excluded   \n",
       "51   chr10:102286732:102286831:-@chr10:102286156:10...       included   \n",
       "72   chr10:102747070:102747272:-@chr10:102746847:10...  uncategorized   \n",
       "105  chr10:103360960:103361093:+@chr10:103368624:10...       excluded   \n",
       "\n",
       "    splice_type  \n",
       "45           SE  \n",
       "48           SE  \n",
       "51           SE  \n",
       "72          MXE  \n",
       "105          SE  "
      ]
     },
     "execution_count": 15,
     "metadata": {},
     "output_type": "execute_result"
    }
   ],
   "source": [
    "same_in_all_three_modalities_splice_types = same_in_all_three_modalities.join(study.splicing.feature_data['splice_type'], on='event_id')\n",
    "same_in_all_three_modalities_splice_types.head()"
   ]
  },
  {
   "cell_type": "code",
   "execution_count": 16,
   "metadata": {
    "collapsed": false
   },
   "outputs": [
    {
     "data": {
      "text/plain": [
       "splice_type\n",
       "MXE     5976\n",
       "SE     31988\n",
       "Name: all, dtype: int64"
      ]
     },
     "execution_count": 16,
     "metadata": {},
     "output_type": "execute_result"
    }
   ],
   "source": [
    "s = study.splicing.feature_data['splice_type']\n",
    "all_events = s.groupby(s).size()\n",
    "all_events.name = 'all'\n",
    "all_events"
   ]
  },
  {
   "cell_type": "code",
   "execution_count": 17,
   "metadata": {
    "collapsed": false
   },
   "outputs": [
    {
     "data": {
      "text/html": [
       "<div>\n",
       "<table border=\"1\" class=\"dataframe\">\n",
       "  <thead>\n",
       "    <tr style=\"text-align: right;\">\n",
       "      <th>splice_type</th>\n",
       "      <th>MXE</th>\n",
       "      <th>SE</th>\n",
       "    </tr>\n",
       "    <tr>\n",
       "      <th>modality</th>\n",
       "      <th></th>\n",
       "      <th></th>\n",
       "    </tr>\n",
       "  </thead>\n",
       "  <tbody>\n",
       "    <tr>\n",
       "      <th>bimodal</th>\n",
       "      <td>7</td>\n",
       "      <td>54</td>\n",
       "    </tr>\n",
       "    <tr>\n",
       "      <th>excluded</th>\n",
       "      <td>210</td>\n",
       "      <td>1520</td>\n",
       "    </tr>\n",
       "    <tr>\n",
       "      <th>included</th>\n",
       "      <td>164</td>\n",
       "      <td>1656</td>\n",
       "    </tr>\n",
       "    <tr>\n",
       "      <th>middle</th>\n",
       "      <td>15</td>\n",
       "      <td>2</td>\n",
       "    </tr>\n",
       "    <tr>\n",
       "      <th>uncategorized</th>\n",
       "      <td>342</td>\n",
       "      <td>657</td>\n",
       "    </tr>\n",
       "    <tr>\n",
       "      <th>all</th>\n",
       "      <td>5976</td>\n",
       "      <td>31988</td>\n",
       "    </tr>\n",
       "  </tbody>\n",
       "</table>\n",
       "</div>"
      ],
      "text/plain": [
       "splice_type     MXE     SE\n",
       "modality                  \n",
       "bimodal           7     54\n",
       "excluded        210   1520\n",
       "included        164   1656\n",
       "middle           15      2\n",
       "uncategorized   342    657\n",
       "all            5976  31988"
      ]
     },
     "execution_count": 17,
     "metadata": {},
     "output_type": "execute_result"
    }
   ],
   "source": [
    "splice_type_modalities = same_in_all_three_modalities_splice_types.groupby(['modality', 'splice_type']).size().unstack()\n",
    "splice_type_modalities = splice_type_modalities.append(all_events)\n",
    "splice_type_modalities"
   ]
  },
  {
   "cell_type": "code",
   "execution_count": 18,
   "metadata": {
    "collapsed": false
   },
   "outputs": [
    {
     "data": {
      "text/html": [
       "<div>\n",
       "<table border=\"1\" class=\"dataframe\">\n",
       "  <thead>\n",
       "    <tr style=\"text-align: right;\">\n",
       "      <th></th>\n",
       "      <th>splice_type</th>\n",
       "      <th>modality</th>\n",
       "      <th>n_events</th>\n",
       "    </tr>\n",
       "  </thead>\n",
       "  <tbody>\n",
       "    <tr>\n",
       "      <th>0</th>\n",
       "      <td>MXE</td>\n",
       "      <td>bimodal</td>\n",
       "      <td>7</td>\n",
       "    </tr>\n",
       "    <tr>\n",
       "      <th>1</th>\n",
       "      <td>MXE</td>\n",
       "      <td>excluded</td>\n",
       "      <td>210</td>\n",
       "    </tr>\n",
       "    <tr>\n",
       "      <th>2</th>\n",
       "      <td>MXE</td>\n",
       "      <td>included</td>\n",
       "      <td>164</td>\n",
       "    </tr>\n",
       "    <tr>\n",
       "      <th>3</th>\n",
       "      <td>MXE</td>\n",
       "      <td>middle</td>\n",
       "      <td>15</td>\n",
       "    </tr>\n",
       "    <tr>\n",
       "      <th>4</th>\n",
       "      <td>MXE</td>\n",
       "      <td>uncategorized</td>\n",
       "      <td>342</td>\n",
       "    </tr>\n",
       "    <tr>\n",
       "      <th>5</th>\n",
       "      <td>MXE</td>\n",
       "      <td>all</td>\n",
       "      <td>5976</td>\n",
       "    </tr>\n",
       "    <tr>\n",
       "      <th>6</th>\n",
       "      <td>SE</td>\n",
       "      <td>bimodal</td>\n",
       "      <td>54</td>\n",
       "    </tr>\n",
       "    <tr>\n",
       "      <th>7</th>\n",
       "      <td>SE</td>\n",
       "      <td>excluded</td>\n",
       "      <td>1520</td>\n",
       "    </tr>\n",
       "    <tr>\n",
       "      <th>8</th>\n",
       "      <td>SE</td>\n",
       "      <td>included</td>\n",
       "      <td>1656</td>\n",
       "    </tr>\n",
       "    <tr>\n",
       "      <th>9</th>\n",
       "      <td>SE</td>\n",
       "      <td>middle</td>\n",
       "      <td>2</td>\n",
       "    </tr>\n",
       "    <tr>\n",
       "      <th>10</th>\n",
       "      <td>SE</td>\n",
       "      <td>uncategorized</td>\n",
       "      <td>657</td>\n",
       "    </tr>\n",
       "    <tr>\n",
       "      <th>11</th>\n",
       "      <td>SE</td>\n",
       "      <td>all</td>\n",
       "      <td>31988</td>\n",
       "    </tr>\n",
       "  </tbody>\n",
       "</table>\n",
       "</div>"
      ],
      "text/plain": [
       "   splice_type       modality  n_events\n",
       "0          MXE        bimodal         7\n",
       "1          MXE       excluded       210\n",
       "2          MXE       included       164\n",
       "3          MXE         middle        15\n",
       "4          MXE  uncategorized       342\n",
       "5          MXE            all      5976\n",
       "6           SE        bimodal        54\n",
       "7           SE       excluded      1520\n",
       "8           SE       included      1656\n",
       "9           SE         middle         2\n",
       "10          SE  uncategorized       657\n",
       "11          SE            all     31988"
      ]
     },
     "execution_count": 18,
     "metadata": {},
     "output_type": "execute_result"
    }
   ],
   "source": [
    "tidy = splice_type_modalities.unstack().reset_index()\n",
    "tidy = tidy.rename(columns={0: 'n_events'})\n",
    "tidy"
   ]
  },
  {
   "cell_type": "code",
   "execution_count": 19,
   "metadata": {
    "collapsed": false
   },
   "outputs": [
    {
     "data": {
      "text/html": [
       "<div>\n",
       "<table border=\"1\" class=\"dataframe\">\n",
       "  <thead>\n",
       "    <tr style=\"text-align: right;\">\n",
       "      <th></th>\n",
       "      <th>splice_type</th>\n",
       "      <th>modality</th>\n",
       "      <th>n_events</th>\n",
       "      <th>percentage_of_modality</th>\n",
       "    </tr>\n",
       "  </thead>\n",
       "  <tbody>\n",
       "    <tr>\n",
       "      <th>0</th>\n",
       "      <td>MXE</td>\n",
       "      <td>bimodal</td>\n",
       "      <td>7</td>\n",
       "      <td>11.475410</td>\n",
       "    </tr>\n",
       "    <tr>\n",
       "      <th>1</th>\n",
       "      <td>MXE</td>\n",
       "      <td>excluded</td>\n",
       "      <td>210</td>\n",
       "      <td>12.138728</td>\n",
       "    </tr>\n",
       "    <tr>\n",
       "      <th>2</th>\n",
       "      <td>MXE</td>\n",
       "      <td>included</td>\n",
       "      <td>164</td>\n",
       "      <td>9.010989</td>\n",
       "    </tr>\n",
       "    <tr>\n",
       "      <th>3</th>\n",
       "      <td>MXE</td>\n",
       "      <td>middle</td>\n",
       "      <td>15</td>\n",
       "      <td>88.235294</td>\n",
       "    </tr>\n",
       "    <tr>\n",
       "      <th>4</th>\n",
       "      <td>MXE</td>\n",
       "      <td>uncategorized</td>\n",
       "      <td>342</td>\n",
       "      <td>34.234234</td>\n",
       "    </tr>\n",
       "    <tr>\n",
       "      <th>5</th>\n",
       "      <td>MXE</td>\n",
       "      <td>all</td>\n",
       "      <td>5976</td>\n",
       "      <td>15.741229</td>\n",
       "    </tr>\n",
       "    <tr>\n",
       "      <th>6</th>\n",
       "      <td>SE</td>\n",
       "      <td>bimodal</td>\n",
       "      <td>54</td>\n",
       "      <td>88.524590</td>\n",
       "    </tr>\n",
       "    <tr>\n",
       "      <th>7</th>\n",
       "      <td>SE</td>\n",
       "      <td>excluded</td>\n",
       "      <td>1520</td>\n",
       "      <td>87.861272</td>\n",
       "    </tr>\n",
       "    <tr>\n",
       "      <th>8</th>\n",
       "      <td>SE</td>\n",
       "      <td>included</td>\n",
       "      <td>1656</td>\n",
       "      <td>90.989011</td>\n",
       "    </tr>\n",
       "    <tr>\n",
       "      <th>9</th>\n",
       "      <td>SE</td>\n",
       "      <td>middle</td>\n",
       "      <td>2</td>\n",
       "      <td>11.764706</td>\n",
       "    </tr>\n",
       "    <tr>\n",
       "      <th>10</th>\n",
       "      <td>SE</td>\n",
       "      <td>uncategorized</td>\n",
       "      <td>657</td>\n",
       "      <td>65.765766</td>\n",
       "    </tr>\n",
       "    <tr>\n",
       "      <th>11</th>\n",
       "      <td>SE</td>\n",
       "      <td>all</td>\n",
       "      <td>31988</td>\n",
       "      <td>84.258771</td>\n",
       "    </tr>\n",
       "  </tbody>\n",
       "</table>\n",
       "</div>"
      ],
      "text/plain": [
       "   splice_type       modality  n_events  percentage_of_modality\n",
       "0          MXE        bimodal         7               11.475410\n",
       "1          MXE       excluded       210               12.138728\n",
       "2          MXE       included       164                9.010989\n",
       "3          MXE         middle        15               88.235294\n",
       "4          MXE  uncategorized       342               34.234234\n",
       "5          MXE            all      5976               15.741229\n",
       "6           SE        bimodal        54               88.524590\n",
       "7           SE       excluded      1520               87.861272\n",
       "8           SE       included      1656               90.989011\n",
       "9           SE         middle         2               11.764706\n",
       "10          SE  uncategorized       657               65.765766\n",
       "11          SE            all     31988               84.258771"
      ]
     },
     "execution_count": 19,
     "metadata": {},
     "output_type": "execute_result"
    }
   ],
   "source": [
    "tidy['percentage_of_modality'] = tidy.groupby('modality')['n_events'].apply(lambda x: 100 * x/x.sum())\n",
    "tidy"
   ]
  },
  {
   "cell_type": "code",
   "execution_count": 20,
   "metadata": {
    "collapsed": false
   },
   "outputs": [
    {
     "data": {
      "image/png": "[encoded data removed]",
      "text/plain": [
       "<matplotlib.figure.Figure at 0x2af61e353450>"
      ]
     },
     "metadata": {},
     "output_type": "display_data"
    }
   ],
   "source": [
    "import anchor\n",
    "\n",
    "hue_order = anchor.MODALITY_ORDER + ['all']\n",
    "palette = anchor.MODALITY_PALETTE + ['DarkSlateGray']\n",
    "\n",
    "fig, ax = plt.subplots(figsize=(3, 2))\n",
    "sns.barplot(x='splice_type', y='percentage_of_modality', hue='modality', data=tidy, \n",
    "            hue_order=hue_order, palette=palette)\n",
    "ax.set(ylabel='% Modality events')\n",
    "sns.despine()\n",
    "fig.savefig('{}/percent_modality_in_splice_types.pdf'.format(folder))"
   ]
  },
  {
   "cell_type": "markdown",
   "metadata": {},
   "source": [
    "## Lavalamps"
   ]
  },
  {
   "cell_type": "code",
   "execution_count": 21,
   "metadata": {
    "collapsed": true
   },
   "outputs": [],
   "source": [
    "from __future__ import print_function"
   ]
  },
  {
   "cell_type": "code",
   "execution_count": 22,
   "metadata": {
    "collapsed": false
   },
   "outputs": [
    {
     "data": {
      "text/html": [
       "<div>\n",
       "<table border=\"1\" class=\"dataframe\">\n",
       "  <thead>\n",
       "    <tr style=\"text-align: right;\">\n",
       "      <th></th>\n",
       "      <th>single</th>\n",
       "      <th>pooled</th>\n",
       "      <th>phenotype</th>\n",
       "      <th>neuron</th>\n",
       "      <th>progenitor</th>\n",
       "      <th>stressed</th>\n",
       "      <th>craig_venter</th>\n",
       "      <th>differentiation_batch</th>\n",
       "      <th>split</th>\n",
       "      <th>outlier</th>\n",
       "    </tr>\n",
       "  </thead>\n",
       "  <tbody>\n",
       "    <tr>\n",
       "      <th>CVN_01</th>\n",
       "      <td>True</td>\n",
       "      <td>False</td>\n",
       "      <td>NPC</td>\n",
       "      <td>False</td>\n",
       "      <td>True</td>\n",
       "      <td>False</td>\n",
       "      <td>True</td>\n",
       "      <td>NaN</td>\n",
       "      <td>NaN</td>\n",
       "      <td>False</td>\n",
       "    </tr>\n",
       "    <tr>\n",
       "      <th>CVN_02</th>\n",
       "      <td>True</td>\n",
       "      <td>False</td>\n",
       "      <td>NPC</td>\n",
       "      <td>False</td>\n",
       "      <td>True</td>\n",
       "      <td>False</td>\n",
       "      <td>True</td>\n",
       "      <td>NaN</td>\n",
       "      <td>NaN</td>\n",
       "      <td>False</td>\n",
       "    </tr>\n",
       "    <tr>\n",
       "      <th>CVN_03</th>\n",
       "      <td>True</td>\n",
       "      <td>False</td>\n",
       "      <td>NPC</td>\n",
       "      <td>False</td>\n",
       "      <td>True</td>\n",
       "      <td>False</td>\n",
       "      <td>True</td>\n",
       "      <td>NaN</td>\n",
       "      <td>NaN</td>\n",
       "      <td>False</td>\n",
       "    </tr>\n",
       "    <tr>\n",
       "      <th>CVN_04</th>\n",
       "      <td>True</td>\n",
       "      <td>False</td>\n",
       "      <td>NPC</td>\n",
       "      <td>False</td>\n",
       "      <td>True</td>\n",
       "      <td>False</td>\n",
       "      <td>True</td>\n",
       "      <td>NaN</td>\n",
       "      <td>NaN</td>\n",
       "      <td>False</td>\n",
       "    </tr>\n",
       "    <tr>\n",
       "      <th>CVN_05</th>\n",
       "      <td>True</td>\n",
       "      <td>False</td>\n",
       "      <td>NPC</td>\n",
       "      <td>False</td>\n",
       "      <td>True</td>\n",
       "      <td>False</td>\n",
       "      <td>True</td>\n",
       "      <td>NaN</td>\n",
       "      <td>NaN</td>\n",
       "      <td>False</td>\n",
       "    </tr>\n",
       "  </tbody>\n",
       "</table>\n",
       "</div>"
      ],
      "text/plain": [
       "       single pooled phenotype neuron progenitor stressed craig_venter  \\\n",
       "CVN_01   True  False       NPC  False       True    False         True   \n",
       "CVN_02   True  False       NPC  False       True    False         True   \n",
       "CVN_03   True  False       NPC  False       True    False         True   \n",
       "CVN_04   True  False       NPC  False       True    False         True   \n",
       "CVN_05   True  False       NPC  False       True    False         True   \n",
       "\n",
       "       differentiation_batch split outlier  \n",
       "CVN_01                   NaN   NaN   False  \n",
       "CVN_02                   NaN   NaN   False  \n",
       "CVN_03                   NaN   NaN   False  \n",
       "CVN_04                   NaN   NaN   False  \n",
       "CVN_05                   NaN   NaN   False  "
      ]
     },
     "execution_count": 22,
     "metadata": {},
     "output_type": "execute_result"
    }
   ],
   "source": [
    "study.metadata.data.head()"
   ]
  },
  {
   "cell_type": "code",
   "execution_count": 23,
   "metadata": {
    "collapsed": true
   },
   "outputs": [],
   "source": [
    "from flotilla.visualize.splicing import lavalamp"
   ]
  },
  {
   "cell_type": "code",
   "execution_count": 24,
   "metadata": {
    "collapsed": true
   },
   "outputs": [],
   "source": [
    "lavalamp??"
   ]
  },
  {
   "cell_type": "code",
   "execution_count": 26,
   "metadata": {
    "collapsed": true
   },
   "outputs": [],
   "source": [
    "figure_folder = 'figures/004_modality_global_stats'"
   ]
  },
  {
   "cell_type": "code",
   "execution_count": 27,
   "metadata": {
    "collapsed": false
   },
   "outputs": [],
   "source": [
    "lavalamp_folder = '{}/lavalamps'.format(figure_folder)\n",
    "! mkdir -p $lavalamp_folder"
   ]
  },
  {
   "cell_type": "code",
   "execution_count": null,
   "metadata": {
    "collapsed": false,
    "scrolled": false
   },
   "outputs": [],
   "source": [
    "for (phenotype, modality), df in study.supplemental.modalities_tidy.groupby(['phenotype', 'modality']):\n",
    "    if modality in ('included', 'excluded'):\n",
    "        continue\n",
    "    print(phenotype, modality)\n",
    "    samples = study.metadata.data.query('(phenotype == @phenotype) & (single == True) & (outlier == False)').index\n",
    "    print('\\t', len(samples))\n",
    "    psi = study.splicing.data.loc[samples, df['event_id']].dropna(thresh=10, axis=1)\n",
    "    print('\\t\\t', psi.shape)\n",
    "    fig, ax = plt.subplots(figsize=(6, 2))\n",
    "    lavalamp(psi, ax=ax, color=MODALITY_TO_COLOR[modality], marker=study.phenotype_to_marker[phenotype], \n",
    "             title='{} {}'.format(phenotype, modality), markersize=3)\n",
    "    fig.savefig('{}/{}_{}.pdf'.format(lavalamp_folder, phenotype, modality))"
   ]
  },
  {
   "cell_type": "markdown",
   "metadata": {},
   "source": [
    "## Look at events that are the same in all three cell types"
   ]
  },
  {
   "cell_type": "code",
   "execution_count": 73,
   "metadata": {
    "collapsed": false
   },
   "outputs": [
    {
     "ename": "NotImplementedError",
     "evalue": "Not implemented: slice(None, 10, None)",
     "output_type": "error",
     "traceback": [
      "\u001b[1;31m---------------------------------------------------------------------------\u001b[0m",
      "\u001b[1;31mNotImplementedError\u001b[0m                       Traceback (most recent call last)",
      "\u001b[1;32m<ipython-input-73-1a27e78719e5>\u001b[0m in \u001b[0;36m<module>\u001b[1;34m()\u001b[0m\n\u001b[0;32m      1\u001b[0m \u001b[0msame_in_all_three_modalities_events\u001b[0m \u001b[1;33m=\u001b[0m \u001b[0msame_in_all_three_modalities\u001b[0m\u001b[1;33m.\u001b[0m\u001b[0mgroupby\u001b[0m\u001b[1;33m(\u001b[0m\u001b[1;34m'event_id'\u001b[0m\u001b[1;33m)\u001b[0m\u001b[1;33m[\u001b[0m\u001b[1;34m'modality'\u001b[0m\u001b[1;33m]\u001b[0m\u001b[1;33m\u001b[0m\u001b[0m\n\u001b[1;32m----> 2\u001b[1;33m \u001b[0msame_in_all_three_modalities_events\u001b[0m\u001b[1;33m[\u001b[0m\u001b[1;33m:\u001b[0m\u001b[1;36m10\u001b[0m\u001b[1;33m]\u001b[0m\u001b[1;33m\u001b[0m\u001b[0m\n\u001b[0m",
      "\u001b[1;32m/home/obotvinnik/anaconda/lib/python2.7/site-packages/pandas/core/groupby.pyc\u001b[0m in \u001b[0;36m__getitem__\u001b[1;34m(self, key)\u001b[0m\n\u001b[0;32m    560\u001b[0m \u001b[1;33m\u001b[0m\u001b[0m\n\u001b[0;32m    561\u001b[0m     \u001b[1;32mdef\u001b[0m \u001b[0m__getitem__\u001b[0m\u001b[1;33m(\u001b[0m\u001b[0mself\u001b[0m\u001b[1;33m,\u001b[0m \u001b[0mkey\u001b[0m\u001b[1;33m)\u001b[0m\u001b[1;33m:\u001b[0m\u001b[1;33m\u001b[0m\u001b[0m\n\u001b[1;32m--> 562\u001b[1;33m         \u001b[1;32mraise\u001b[0m \u001b[0mNotImplementedError\u001b[0m\u001b[1;33m(\u001b[0m\u001b[1;34m'Not implemented: %s'\u001b[0m \u001b[1;33m%\u001b[0m \u001b[0mkey\u001b[0m\u001b[1;33m)\u001b[0m\u001b[1;33m\u001b[0m\u001b[0m\n\u001b[0m\u001b[0;32m    563\u001b[0m \u001b[1;33m\u001b[0m\u001b[0m\n\u001b[0;32m    564\u001b[0m     \u001b[0mplot\u001b[0m \u001b[1;33m=\u001b[0m \u001b[0mproperty\u001b[0m\u001b[1;33m(\u001b[0m\u001b[0mGroupByPlot\u001b[0m\u001b[1;33m)\u001b[0m\u001b[1;33m\u001b[0m\u001b[0m\n",
      "\u001b[1;31mNotImplementedError\u001b[0m: Not implemented: slice(None, 10, None)"
     ]
    }
   ],
   "source": [
    "same_in_all_three_modalities_events = same_in_all_three_modalities.groupby('event_id')['modality']\n",
    "same_in_all_three_modalities_events[:10]"
   ]
  },
  {
   "cell_type": "code",
   "execution_count": 83,
   "metadata": {
    "collapsed": true
   },
   "outputs": [],
   "source": [
    "figure_folder = '{}/same_in_all_phenotypes'.format(folder)"
   ]
  },
  {
   "cell_type": "code",
   "execution_count": 84,
   "metadata": {
    "collapsed": true
   },
   "outputs": [],
   "source": [
    "middle_folder = '{}/middle'.format(figure_folder)"
   ]
  },
  {
   "cell_type": "code",
   "execution_count": 85,
   "metadata": {
    "collapsed": true
   },
   "outputs": [],
   "source": [
    "mkdir -p $middle_folder"
   ]
  },
  {
   "cell_type": "code",
   "execution_count": 86,
   "metadata": {
    "collapsed": false,
    "scrolled": false
   },
   "outputs": [],
   "source": [
    "middle_events = same_in_all_three_modalities.query('modality == \"middle\"')['event_id']\n",
    "# middle_events[:10]\n",
    "\n",
    "# len(middle_events)\n",
    "\n",
    "for event in middle_events:\n",
    "    gene_name = study.splicing.feature_data['gene_name'][event]\n",
    "    study.plot_event(event)\n",
    "    fig = plt.gcf()\n",
    "    fig.savefig('{}/{}_{}.pdf'.format(middle_folder, gene_name, event))\n",
    "plt.close('all')"
   ]
  },
  {
   "cell_type": "code",
   "execution_count": 87,
   "metadata": {
    "collapsed": true
   },
   "outputs": [],
   "source": [
    "uncategorized_folder = '{}/uncategorized'.format(figure_folder)"
   ]
  },
  {
   "cell_type": "code",
   "execution_count": 91,
   "metadata": {
    "collapsed": true
   },
   "outputs": [],
   "source": [
    "mkdir -p $uncategorized_folder"
   ]
  },
  {
   "cell_type": "code",
   "execution_count": 92,
   "metadata": {
    "collapsed": false,
    "scrolled": false
   },
   "outputs": [],
   "source": [
    "uncategorized_events = same_in_all_three_modalities.query('modality == \"uncategorized\"')['event_id']\n",
    "# middle_events[:10]\n",
    "\n",
    "# len(middle_events)\n",
    "\n",
    "for event in uncategorized_events:\n",
    "    gene_name = study.splicing.feature_data['gene_name'][event]\n",
    "    study.plot_event(event)\n",
    "    fig = plt.gcf()\n",
    "    fig.savefig('{}/{}_{}.pdf'.format(uncategorized_folder, gene_name, event))\n",
    "plt.close('all')"
   ]
  },
  {
   "cell_type": "code",
   "execution_count": null,
   "metadata": {
    "collapsed": true
   },
   "outputs": [],
   "source": []
  }
 ],
 "metadata": {
  "kernelspec": {
   "display_name": "Python 2",
   "language": "python",
   "name": "python2"
  },
  "language_info": {
   "codemirror_mode": {
    "name": "ipython",
    "version": 2
   },
   "file_extension": ".py",
   "mimetype": "text/x-python",
   "name": "python",
   "nbconvert_exporter": "python",
   "pygments_lexer": "ipython2",
   "version": "2.7.11"
  }
 },
 "nbformat": 4,
 "nbformat_minor": 0
}
