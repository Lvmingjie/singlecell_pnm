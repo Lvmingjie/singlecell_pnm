{
 "cells": [
  {
   "cell_type": "code",
   "execution_count": 13,
   "metadata": {
    "collapsed": false
   },
   "outputs": [
    {
     "name": "stdout",
     "output_type": "stream",
     "text": [
      "mkdir: cannot create directory `figures': File exists\n",
      "2016-07-14 13:01:21\tReading datapackage from /projects/ps-yeolab/obotvinnik/flotilla_projects/singlecell_pnm_miso_modalities/datapackage.json\n",
      "2016-07-14 13:01:21\tParsing datapackage to create a Study object\n",
      "2016-07-14 13:02:06 \tInitializing Study\n",
      "2016-07-14 13:02:06 \tInitializing Predictor configuration manager for Study\n",
      "2016-07-14 13:02:06\tPredictor ExtraTreesClassifier is of type <class 'sklearn.ensemble.forest.ExtraTreesClassifier'>\n",
      "2016-07-14 13:02:06\tAdded ExtraTreesClassifier to default predictors\n",
      "2016-07-14 13:02:06\tPredictor ExtraTreesRegressor is of type <class 'sklearn.ensemble.forest.ExtraTreesRegressor'>\n",
      "2016-07-14 13:02:06\tAdded ExtraTreesRegressor to default predictors\n",
      "2016-07-14 13:02:06\tPredictor GradientBoostingClassifier is of type <class 'sklearn.ensemble.gradient_boosting.GradientBoostingClassifier'>\n",
      "2016-07-14 13:02:06\tAdded GradientBoostingClassifier to default predictors\n",
      "2016-07-14 13:02:06\tPredictor GradientBoostingRegressor is of type <class 'sklearn.ensemble.gradient_boosting.GradientBoostingRegressor'>\n",
      "2016-07-14 13:02:06\tAdded GradientBoostingRegressor to default predictors\n",
      "2016-07-14 13:02:11 \tBuilding Gene Ontology database...\n",
      "2016-07-14 13:02:21 \t\tDone\n",
      "2016-07-14 13:02:21 \tLoading metadata\n",
      "2016-07-14 13:02:21\tLoading expression data\n",
      "2016-07-14 13:02:21\tInitializing expression\n",
      "2016-07-14 13:02:22\tDone initializing expression\n",
      "2016-07-14 13:02:24\tLoading splicing data\n",
      "2016-07-14 13:02:24\tInitializing splicing\n",
      "2016-07-14 13:02:24\tDone initializing splicing\n",
      "2016-07-14 13:02:24\tSuccessfully initialized a Study object!\n"
     ]
    }
   ],
   "source": [
    "from __future__ import print_function\n",
    "\n",
    "from collections import defaultdict\n",
    "\n",
    "import matplotlib as mpl\n",
    "import matplotlib.pyplot as plt\n",
    "import numpy as np\n",
    "import pandas as pd\n",
    "import seaborn as sns\n",
    "\n",
    "%matplotlib inline\n",
    "\n",
    "\n",
    "import flotilla\n",
    "sns.set(style='ticks', context='paper')\n",
    "\n",
    "figure_folder = 'figures'\n",
    "! mkdir $figure_folder\n",
    "\n",
    "flotilla_dir = '/projects/ps-yeolab/obotvinnik/flotilla_projects/'\n",
    "\n",
    "study = flotilla.embark('singlecell_pnm_miso_modalities', flotilla_dir=flotilla_dir)"
   ]
  },
  {
   "cell_type": "code",
   "execution_count": 14,
   "metadata": {
    "collapsed": true
   },
   "outputs": [],
   "source": [
    "folder = '/projects/ps-yeolab/obotvinnik/singlecell_pnms'\n",
    "csv_folder = '{}/csvs_for_paper/'.format(folder)\n",
    "bed_folder = '{}/bed'.format(folder)\n",
    "\n",
    "\n",
    "\n",
    "splicing_feature_folder = '{}/splicing_feature_data'.format(csv_folder)\n",
    "alternative_feature_folder = '{}/alternative'.format(splicing_feature_folder)\n",
    "constitutive_feature_folder = '{}/constitutive'.format(splicing_feature_folder)"
   ]
  },
  {
   "cell_type": "code",
   "execution_count": 2,
   "metadata": {
    "collapsed": false
   },
   "outputs": [
    {
     "data": {
      "text/plain": [
       "Index([u'gene_type', u'gene_name', u'gencode_transcript',\n",
       "       u'ensembl_transcript', u'ensembl_gene', u'gencode_gene', u'splice_type',\n",
       "       u'biomark_neural_panel', u'confident_rbp', u'rbp', u'ribosomal',\n",
       "       u'ribosomal_subunit', u'synapse', u'transcription_factor',\n",
       "       u'gerstberger2014_tf', u'gerstberger2014_rbp',\n",
       "       u'gerstberger2014_rbp_consensus_rna_target',\n",
       "       u'gerstberger2014_rbp_target_mrna', u'exon2_length', u'mod3',\n",
       "       u'exon1_5p_splice_site_strength', u'exon3_3p_splice_site_strength',\n",
       "       u'exon2_5p_splice_site_strength', u'exon2_3p_splice_site_strength',\n",
       "       u'miRNA_primary_transcript', u'exon2_overlapping_repeats',\n",
       "       u'exon2_overlapping_repeats_unique', u'exon2_n_overlapping_repeats',\n",
       "       u'exon2_gc', u'exon2_gc_codon_position1', u'exon2_gc_codon_position2',\n",
       "       u'exon2_gc_codon_position3', u'reading_frame',\n",
       "       u'exon3_3p_splice_site_seq', u'exon2_3p_splice_site_seq',\n",
       "       u'exon1_5p_splice_site_seq', u'exon2_5p_splice_site_seq',\n",
       "       u'exon1_exon2_splice_signals', u'exon2_exon3_splice_signals',\n",
       "       u'exon1_exon3_splice_signals', u'exon2_frame0_translation',\n",
       "       u'exon2_frame1_translation', u'exon2_frame2_translation',\n",
       "       u'exon2_frame0_stop_codon', u'exon2_frame1_stop_codon',\n",
       "       u'exon2_frame2_stop_codon', u'exon2_frame0_pfam_domain_accession',\n",
       "       u'exon2_frame1_pfam_domain_accession',\n",
       "       u'exon2_frame2_pfam_domain_accession', u'exon2_frame0_pfam_domain_name',\n",
       "       u'exon2_frame1_pfam_domain_name', u'exon2_frame2_pfam_domain_name',\n",
       "       u'exon2_transcript_types',\n",
       "       u'exon2_transcript_type_nonsense_mediated_decay',\n",
       "       u'exon2_mirna_rnahybrid_target_mfe28', u'exon2_phastcons_100way',\n",
       "       u'exon1_5p_splice_site_phastcons_100way',\n",
       "       u'exon2_5p_splice_site_phastcons_100way', u'exon1_phastcons_100way',\n",
       "       u'exon2_3p_splice_site_phastcons_100way',\n",
       "       u'exon3_3p_splice_site_phastcons_100way', u'exon3_phastcons_100way',\n",
       "       u'se_intron2_length', u'se_intron1_length',\n",
       "       u'exon1_clip_bound_gene_ids', u'exon2_clip_bound_gene_ids',\n",
       "       u'exon3_clip_bound_gene_ids', u'exon4_clip_bound_gene_ids',\n",
       "       u'intron1_clip_bound_gene_ids', u'intron2_clip_bound_gene_ids',\n",
       "       u'intron3_clip_bound_gene_ids', u'exon1_clip_bound_database_ids',\n",
       "       u'exon2_clip_bound_database_ids', u'exon3_clip_bound_database_ids',\n",
       "       u'exon4_clip_bound_database_ids', u'intron1_clip_bound_database_ids',\n",
       "       u'intron2_clip_bound_database_ids', u'intron3_clip_bound_database_ids',\n",
       "       u'isoform1_translation', u'isoform2_translation',\n",
       "       u'isoform1_pfam_domain_accession', u'isoform1_pfam_domain_name',\n",
       "       u'isoform2_pfam_domain_accession', u'isoform2_pfam_domain_name'],\n",
       "      dtype='object')"
      ]
     },
     "execution_count": 2,
     "metadata": {},
     "output_type": "execute_result"
    }
   ],
   "source": [
    "study.splicing.feature_data.columns"
   ]
  },
  {
   "cell_type": "code",
   "execution_count": 3,
   "metadata": {
    "collapsed": false
   },
   "outputs": [
    {
     "data": {
      "text/html": [
       "<div>\n",
       "<table border=\"1\" class=\"dataframe\">\n",
       "  <thead>\n",
       "    <tr style=\"text-align: right;\">\n",
       "      <th></th>\n",
       "      <th>event_id</th>\n",
       "      <th>phenotype</th>\n",
       "      <th>modality</th>\n",
       "      <th>exon2_phastcons_100way</th>\n",
       "    </tr>\n",
       "  </thead>\n",
       "  <tbody>\n",
       "    <tr>\n",
       "      <th>2</th>\n",
       "      <td>chr10:100190328:100190427:-@chr10:100189548:10...</td>\n",
       "      <td>iPSC</td>\n",
       "      <td>bimodal</td>\n",
       "      <td>0.288253</td>\n",
       "    </tr>\n",
       "    <tr>\n",
       "      <th>5</th>\n",
       "      <td>chr10:100193697:100193848:-@chr10:100190888:10...</td>\n",
       "      <td>iPSC</td>\n",
       "      <td>bimodal</td>\n",
       "      <td>0.804739</td>\n",
       "    </tr>\n",
       "    <tr>\n",
       "      <th>8</th>\n",
       "      <td>chr10:100193740:100193848:-@chr10:100190888:10...</td>\n",
       "      <td>iPSC</td>\n",
       "      <td>included</td>\n",
       "      <td>0.804739</td>\n",
       "    </tr>\n",
       "    <tr>\n",
       "      <th>11</th>\n",
       "      <td>chr10:100195392:100195529:-@chr10:100195029:10...</td>\n",
       "      <td>iPSC</td>\n",
       "      <td>uncategorized</td>\n",
       "      <td>0.840517</td>\n",
       "    </tr>\n",
       "    <tr>\n",
       "      <th>12</th>\n",
       "      <td>chr10:101507014:101507147:+@chr10:101510126:10...</td>\n",
       "      <td>MN</td>\n",
       "      <td>uncategorized</td>\n",
       "      <td>1.000000</td>\n",
       "    </tr>\n",
       "  </tbody>\n",
       "</table>\n",
       "</div>"
      ],
      "text/plain": [
       "                                             event_id phenotype  \\\n",
       "2   chr10:100190328:100190427:-@chr10:100189548:10...      iPSC   \n",
       "5   chr10:100193697:100193848:-@chr10:100190888:10...      iPSC   \n",
       "8   chr10:100193740:100193848:-@chr10:100190888:10...      iPSC   \n",
       "11  chr10:100195392:100195529:-@chr10:100195029:10...      iPSC   \n",
       "12  chr10:101507014:101507147:+@chr10:101510126:10...        MN   \n",
       "\n",
       "         modality  exon2_phastcons_100way  \n",
       "2         bimodal                0.288253  \n",
       "5         bimodal                0.804739  \n",
       "8        included                0.804739  \n",
       "11  uncategorized                0.840517  \n",
       "12  uncategorized                1.000000  "
      ]
     },
     "execution_count": 3,
     "metadata": {},
     "output_type": "execute_result"
    }
   ],
   "source": [
    "modalities_conservation = study.supplemental.modalities_tidy.join(study.splicing.feature_data.exon2_phastcons_100way, \n",
    "                                                                  on='event_id')\n",
    "modalities_conservation.head()"
   ]
  },
  {
   "cell_type": "code",
   "execution_count": 6,
   "metadata": {
    "collapsed": true
   },
   "outputs": [],
   "source": [
    "import anchor\n",
    "modality_to_color = anchor.MODALITY_TO_COLOR.copy()\n",
    "modality_to_color['constitutive'] = '#262626'\n",
    "modality_order = ['excluded', 'bimodal', 'included', 'constitutive']\n",
    "modality_palette = [modality_to_color[m] for m in modality_order]"
   ]
  },
  {
   "cell_type": "code",
   "execution_count": 10,
   "metadata": {
    "collapsed": true
   },
   "outputs": [],
   "source": [
    "sns.set(context='paper', style='white')"
   ]
  },
  {
   "cell_type": "code",
   "execution_count": 12,
   "metadata": {
    "collapsed": false
   },
   "outputs": [
    {
     "name": "stdout",
     "output_type": "stream",
     "text": [
      "bigWigAverageOverBed - Compute average score of big wig over each bed, which may have introns.\r\n",
      "usage:\r\n",
      "   bigWigAverageOverBed in.bw in.bed out.tab\r\n",
      "The output columns are:\r\n",
      "   name - name field from bed, which should be unique\r\n",
      "   size - size of bed (sum of exon sizes\r\n",
      "   covered - # bases within exons covered by bigWig\r\n",
      "   sum - sum of values over all bases covered\r\n",
      "   mean0 - average over bases with non-covered bases counting as zeroes\r\n",
      "   mean - average over just covered bases\r\n",
      "Options:\r\n",
      "   -bedOut=out.bed - Make output bed that is echo of input bed but with mean column appended\r\n",
      "   -sampleAroundCenter=N - Take sample at region N bases wide centered around bed item, rather\r\n",
      "                     than the usual sample in the bed item.\r\n",
      "\r\n"
     ]
    }
   ],
   "source": [
    "! bigWigAverageOverBed"
   ]
  },
  {
   "cell_type": "code",
   "execution_count": 16,
   "metadata": {
    "collapsed": false
   },
   "outputs": [
    {
     "name": "stdout",
     "output_type": "stream",
     "text": [
      "processing chromosomes.......................\n"
     ]
    }
   ],
   "source": [
    "! bigWigAverageOverBed /projects/ps-yeolab/genomes/hg19/hg19.100way.phastCons.bw $constitutive_feature_folder/exons.bed \\\n",
    "    $constitutive_feature_folder/exons.hg19.100way.phastCons.txt"
   ]
  },
  {
   "cell_type": "code",
   "execution_count": 20,
   "metadata": {
    "collapsed": false
   },
   "outputs": [
    {
     "data": {
      "text/html": [
       "<div>\n",
       "<table border=\"1\" class=\"dataframe\">\n",
       "  <thead>\n",
       "    <tr style=\"text-align: right;\">\n",
       "      <th></th>\n",
       "      <th>1</th>\n",
       "      <th>2</th>\n",
       "      <th>3</th>\n",
       "      <th>4</th>\n",
       "      <th>5</th>\n",
       "    </tr>\n",
       "    <tr>\n",
       "      <th>0</th>\n",
       "      <th></th>\n",
       "      <th></th>\n",
       "      <th></th>\n",
       "      <th></th>\n",
       "      <th></th>\n",
       "    </tr>\n",
       "  </thead>\n",
       "  <tbody>\n",
       "    <tr>\n",
       "      <th>exon:chr1:10002682-10002840:-</th>\n",
       "      <td>158</td>\n",
       "      <td>158</td>\n",
       "      <td>14.046</td>\n",
       "      <td>0.088899</td>\n",
       "      <td>0.088899</td>\n",
       "    </tr>\n",
       "    <tr>\n",
       "      <th>exon:chr1:104070317-104070364:+</th>\n",
       "      <td>47</td>\n",
       "      <td>47</td>\n",
       "      <td>44.020</td>\n",
       "      <td>0.936596</td>\n",
       "      <td>0.936596</td>\n",
       "    </tr>\n",
       "    <tr>\n",
       "      <th>exon:chr1:104076361-104076479:+</th>\n",
       "      <td>118</td>\n",
       "      <td>118</td>\n",
       "      <td>92.460</td>\n",
       "      <td>0.783559</td>\n",
       "      <td>0.783559</td>\n",
       "    </tr>\n",
       "    <tr>\n",
       "      <th>exon:chr1:10464218-10464336:+</th>\n",
       "      <td>118</td>\n",
       "      <td>118</td>\n",
       "      <td>102.114</td>\n",
       "      <td>0.865373</td>\n",
       "      <td>0.865373</td>\n",
       "    </tr>\n",
       "    <tr>\n",
       "      <th>exon:chr1:10468128-10468197:+</th>\n",
       "      <td>69</td>\n",
       "      <td>69</td>\n",
       "      <td>63.276</td>\n",
       "      <td>0.917043</td>\n",
       "      <td>0.917043</td>\n",
       "    </tr>\n",
       "  </tbody>\n",
       "</table>\n",
       "</div>"
      ],
      "text/plain": [
       "                                   1    2        3         4         5\n",
       "0                                                                     \n",
       "exon:chr1:10002682-10002840:-    158  158   14.046  0.088899  0.088899\n",
       "exon:chr1:104070317-104070364:+   47   47   44.020  0.936596  0.936596\n",
       "exon:chr1:104076361-104076479:+  118  118   92.460  0.783559  0.783559\n",
       "exon:chr1:10464218-10464336:+    118  118  102.114  0.865373  0.865373\n",
       "exon:chr1:10468128-10468197:+     69   69   63.276  0.917043  0.917043"
      ]
     },
     "execution_count": 20,
     "metadata": {},
     "output_type": "execute_result"
    }
   ],
   "source": [
    "constitutive_conservation = pd.read_table(\"{}//exons.hg19.100way.phastCons.txt\".format(constitutive_feature_folder), \n",
    "                                          header=None, index_col=0)\n",
    "constitutive_conservation.head()"
   ]
  },
  {
   "cell_type": "code",
   "execution_count": 22,
   "metadata": {
    "collapsed": false
   },
   "outputs": [
    {
     "data": {
      "text/plain": [
       "0\n",
       "exon:chr1:10002682-10002840:-      0.088899\n",
       "exon:chr1:104070317-104070364:+    0.936596\n",
       "exon:chr1:104076361-104076479:+    0.783559\n",
       "exon:chr1:10464218-10464336:+      0.865373\n",
       "exon:chr1:10468128-10468197:+      0.917043\n",
       "Name: 5, dtype: float64"
      ]
     },
     "execution_count": 22,
     "metadata": {},
     "output_type": "execute_result"
    }
   ],
   "source": [
    "constitutive_mean = constitutive_conservation[5]\n",
    "constitutive_mean.head()"
   ]
  },
  {
   "cell_type": "code",
   "execution_count": 35,
   "metadata": {
    "collapsed": false
   },
   "outputs": [
    {
     "data": {
      "image/png": "[encoded data removed]",
      "text/plain": [
       "<matplotlib.figure.Figure at 0x2b99629b7210>"
      ]
     },
     "metadata": {},
     "output_type": "display_data"
    }
   ],
   "source": [
    "from flotilla.visualize.generic import cdfplot\n",
    "\n",
    "g = sns.FacetGrid(col='phenotype', hue='modality', size=2, #aspect=.75,\n",
    "            data=modalities_conservation, hue_order=modality_order, palette=modality_palette, \n",
    "            col_order=study.phenotype_order)\n",
    "\n",
    "g.map(cdfplot, 'exon2_phastcons_100way')\n",
    "g.set_xlabels('mean Placental PhastCons')\n",
    "g.set_ylabels('Cumulative distribution')\n",
    "g.set(xlim=(0, 1), ylim=(0, 1), yticks=(0, 0.5, 1), xticks=(0, 0.5, 1))\n",
    "g.fig.tight_layout()\n",
    "g.savefig('{}/conservation_cdf.pdf'.format(folder))"
   ]
  },
  {
   "cell_type": "code",
   "execution_count": 28,
   "metadata": {
    "collapsed": false
   },
   "outputs": [
    {
     "data": {
      "text/html": [
       "<div>\n",
       "<table border=\"1\" class=\"dataframe\">\n",
       "  <thead>\n",
       "    <tr style=\"text-align: right;\">\n",
       "      <th></th>\n",
       "      <th>event_id</th>\n",
       "      <th>exon2_phastcons_100way</th>\n",
       "      <th>modality</th>\n",
       "    </tr>\n",
       "  </thead>\n",
       "  <tbody>\n",
       "    <tr>\n",
       "      <th>0</th>\n",
       "      <td>exon:chr1:10002682-10002840:-</td>\n",
       "      <td>0.088899</td>\n",
       "      <td>constitutive</td>\n",
       "    </tr>\n",
       "    <tr>\n",
       "      <th>1</th>\n",
       "      <td>exon:chr1:104070317-104070364:+</td>\n",
       "      <td>0.936596</td>\n",
       "      <td>constitutive</td>\n",
       "    </tr>\n",
       "    <tr>\n",
       "      <th>2</th>\n",
       "      <td>exon:chr1:104076361-104076479:+</td>\n",
       "      <td>0.783559</td>\n",
       "      <td>constitutive</td>\n",
       "    </tr>\n",
       "    <tr>\n",
       "      <th>3</th>\n",
       "      <td>exon:chr1:10464218-10464336:+</td>\n",
       "      <td>0.865373</td>\n",
       "      <td>constitutive</td>\n",
       "    </tr>\n",
       "    <tr>\n",
       "      <th>4</th>\n",
       "      <td>exon:chr1:10468128-10468197:+</td>\n",
       "      <td>0.917043</td>\n",
       "      <td>constitutive</td>\n",
       "    </tr>\n",
       "  </tbody>\n",
       "</table>\n",
       "</div>"
      ],
      "text/plain": [
       "                          event_id  exon2_phastcons_100way      modality\n",
       "0    exon:chr1:10002682-10002840:-                0.088899  constitutive\n",
       "1  exon:chr1:104070317-104070364:+                0.936596  constitutive\n",
       "2  exon:chr1:104076361-104076479:+                0.783559  constitutive\n",
       "3    exon:chr1:10464218-10464336:+                0.865373  constitutive\n",
       "4    exon:chr1:10468128-10468197:+                0.917043  constitutive"
      ]
     },
     "execution_count": 28,
     "metadata": {},
     "output_type": "execute_result"
    }
   ],
   "source": [
    "constitutive_df = constitutive_mean.reset_index()\n",
    "constitutive_df['modality'] = 'constitutive'\n",
    "constitutive_df = constitutive_df.rename(columns={5:'exon2_phastcons_100way', 0:'event_id'})\n",
    "constitutive_df.head()"
   ]
  },
  {
   "cell_type": "code",
   "execution_count": 31,
   "metadata": {
    "collapsed": false
   },
   "outputs": [
    {
     "name": "stdout",
     "output_type": "stream",
     "text": [
      "(60147, 4)\n"
     ]
    },
    {
     "data": {
      "text/html": [
       "<div>\n",
       "<table border=\"1\" class=\"dataframe\">\n",
       "  <thead>\n",
       "    <tr style=\"text-align: right;\">\n",
       "      <th></th>\n",
       "      <th>event_id</th>\n",
       "      <th>exon2_phastcons_100way</th>\n",
       "      <th>modality</th>\n",
       "      <th>phenotype</th>\n",
       "    </tr>\n",
       "  </thead>\n",
       "  <tbody>\n",
       "    <tr>\n",
       "      <th>5888</th>\n",
       "      <td>exon:chrX:80532483-80532668:+</td>\n",
       "      <td>0.958968</td>\n",
       "      <td>constitutive</td>\n",
       "      <td>MN</td>\n",
       "    </tr>\n",
       "    <tr>\n",
       "      <th>5889</th>\n",
       "      <td>exon:chrX:80533830-80533910:+</td>\n",
       "      <td>0.951775</td>\n",
       "      <td>constitutive</td>\n",
       "      <td>MN</td>\n",
       "    </tr>\n",
       "    <tr>\n",
       "      <th>5890</th>\n",
       "      <td>exon:chrX:99887482-99887565:-</td>\n",
       "      <td>0.875627</td>\n",
       "      <td>constitutive</td>\n",
       "      <td>MN</td>\n",
       "    </tr>\n",
       "    <tr>\n",
       "      <th>5891</th>\n",
       "      <td>exon:chrX:99890175-99890249:-</td>\n",
       "      <td>0.914649</td>\n",
       "      <td>constitutive</td>\n",
       "      <td>MN</td>\n",
       "    </tr>\n",
       "    <tr>\n",
       "      <th>5892</th>\n",
       "      <td>exon:chrX:99890555-99890743:-</td>\n",
       "      <td>0.880931</td>\n",
       "      <td>constitutive</td>\n",
       "      <td>MN</td>\n",
       "    </tr>\n",
       "  </tbody>\n",
       "</table>\n",
       "</div>"
      ],
      "text/plain": [
       "                           event_id  exon2_phastcons_100way      modality  \\\n",
       "5888  exon:chrX:80532483-80532668:+                0.958968  constitutive   \n",
       "5889  exon:chrX:80533830-80533910:+                0.951775  constitutive   \n",
       "5890  exon:chrX:99887482-99887565:-                0.875627  constitutive   \n",
       "5891  exon:chrX:99890175-99890249:-                0.914649  constitutive   \n",
       "5892  exon:chrX:99890555-99890743:-                0.880931  constitutive   \n",
       "\n",
       "     phenotype  \n",
       "5888        MN  \n",
       "5889        MN  \n",
       "5890        MN  \n",
       "5891        MN  \n",
       "5892        MN  "
      ]
     },
     "execution_count": 31,
     "metadata": {},
     "output_type": "execute_result"
    }
   ],
   "source": [
    "modalities_conservation_constitutive = modalities_conservation.copy()\n",
    "\n",
    "for phenotype in study.phenotype_order:\n",
    "    constitutive_df_phenotype = constitutive_df.copy()\n",
    "    constitutive_df_phenotype['phenotype'] = phenotype\n",
    "    modalities_conservation_constitutive = pd.concat([modalities_conservation_constitutive, constitutive_df_phenotype])\n",
    "print(modalities_conservation_constitutive.shape)\n",
    "modalities_conservation_constitutive.tail()"
   ]
  },
  {
   "cell_type": "code",
   "execution_count": 33,
   "metadata": {
    "collapsed": true
   },
   "outputs": [],
   "source": [
    "sns.set(style='ticks', context='paper')\n"
   ]
  },
  {
   "cell_type": "code",
   "execution_count": 34,
   "metadata": {
    "collapsed": false
   },
   "outputs": [
    {
     "data": {
      "image/png": "[encoded data removed]",
      "text/plain": [
       "<matplotlib.figure.Figure at 0x2b994c477490>"
      ]
     },
     "metadata": {},
     "output_type": "display_data"
    }
   ],
   "source": [
    "from flotilla.visualize.generic import cdfplot\n",
    "\n",
    "g = sns.FacetGrid(col='phenotype', hue='modality', size=2, #aspect=.75,\n",
    "            data=modalities_conservation_constitutive, hue_order=modality_order, palette=modality_palette, \n",
    "            col_order=study.phenotype_order)\n",
    "\n",
    "g.map(cdfplot, 'exon2_phastcons_100way')\n",
    "g.set_xlabels('mean Placental PhastCons')\n",
    "g.set_ylabels('Cumulative distribution')\n",
    "g.set(xlim=(0, 1), ylim=(0, 1), yticks=(0, 0.5, 1), xticks=(0, 0.5, 1))\n",
    "g.fig.tight_layout()\n",
    "g.savefig('{}/conservation_cdf_constitutive.pdf'.format(folder))"
   ]
  },
  {
   "cell_type": "code",
   "execution_count": null,
   "metadata": {
    "collapsed": true
   },
   "outputs": [],
   "source": []
  }
 ],
 "metadata": {
  "kernelspec": {
   "display_name": "Python 2",
   "language": "python",
   "name": "python2"
  },
  "language_info": {
   "codemirror_mode": {
    "name": "ipython",
    "version": 2
   },
   "file_extension": ".py",
   "mimetype": "text/x-python",
   "name": "python",
   "nbconvert_exporter": "python",
   "pygments_lexer": "ipython2",
   "version": "2.7.11"
  }
 },
 "nbformat": 4,
 "nbformat_minor": 0
}
