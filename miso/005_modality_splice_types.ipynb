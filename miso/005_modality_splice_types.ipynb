{
 "cells": [
  {
   "cell_type": "code",
   "execution_count": 9,
   "metadata": {
    "collapsed": false
   },
   "outputs": [
    {
     "name": "stdout",
     "output_type": "stream",
     "text": [
      "mkdir: cannot create directory `figures': File exists\n",
      "2016-07-21 08:57:17\tReading datapackage from /projects/ps-yeolab/obotvinnik/flotilla_projects/singlecell_pnm_miso_modalities/datapackage.json\n",
      "2016-07-21 08:57:17\tParsing datapackage to create a Study object\n",
      "2016-07-21 08:58:11 \tInitializing Study\n",
      "2016-07-21 08:58:11 \tInitializing Predictor configuration manager for Study\n",
      "2016-07-21 08:58:11\tPredictor ExtraTreesClassifier is of type <class 'sklearn.ensemble.forest.ExtraTreesClassifier'>\n",
      "2016-07-21 08:58:11\tAdded ExtraTreesClassifier to default predictors\n",
      "2016-07-21 08:58:11\tPredictor ExtraTreesRegressor is of type <class 'sklearn.ensemble.forest.ExtraTreesRegressor'>\n",
      "2016-07-21 08:58:11\tAdded ExtraTreesRegressor to default predictors\n",
      "2016-07-21 08:58:11\tPredictor GradientBoostingClassifier is of type <class 'sklearn.ensemble.gradient_boosting.GradientBoostingClassifier'>\n",
      "2016-07-21 08:58:11\tAdded GradientBoostingClassifier to default predictors\n",
      "2016-07-21 08:58:11\tPredictor GradientBoostingRegressor is of type <class 'sklearn.ensemble.gradient_boosting.GradientBoostingRegressor'>\n",
      "2016-07-21 08:58:11\tAdded GradientBoostingRegressor to default predictors\n",
      "2016-07-21 08:58:14 \tBuilding Gene Ontology database...\n",
      "2016-07-21 08:58:21 \t\tDone\n",
      "2016-07-21 08:58:21 \tLoading metadata\n",
      "2016-07-21 08:58:21\tLoading expression data\n",
      "2016-07-21 08:58:21\tInitializing expression\n",
      "2016-07-21 08:58:21\tDone initializing expression\n",
      "2016-07-21 08:58:23\tLoading splicing data\n",
      "2016-07-21 08:58:23\tInitializing splicing\n",
      "2016-07-21 08:58:23\tDone initializing splicing\n",
      "2016-07-21 08:58:23\tSuccessfully initialized a Study object!\n"
     ]
    }
   ],
   "source": [
    "from __future__ import print_function\n",
    "\n",
    "from collections import defaultdict\n",
    "\n",
    "import matplotlib as mpl\n",
    "import matplotlib.pyplot as plt\n",
    "import numpy as np\n",
    "import pandas as pd\n",
    "import seaborn as sns\n",
    "\n",
    "%matplotlib inline\n",
    "\n",
    "\n",
    "import flotilla\n",
    "sns.set(style='ticks', context='talk')\n",
    "\n",
    "folder = 'figures'\n",
    "! mkdir $folder\n",
    "\n",
    "flotilla_dir = '/projects/ps-yeolab/obotvinnik/flotilla_projects/'\n",
    "\n",
    "study = flotilla.embark('singlecell_pnm_miso_modalities', flotilla_dir=flotilla_dir)"
   ]
  },
  {
   "cell_type": "code",
   "execution_count": 10,
   "metadata": {
    "collapsed": false
   },
   "outputs": [
    {
     "data": {
      "text/html": [
       "<div>\n",
       "<table border=\"1\" class=\"dataframe\">\n",
       "  <thead>\n",
       "    <tr style=\"text-align: right;\">\n",
       "      <th></th>\n",
       "      <th>event_id</th>\n",
       "      <th>phenotype</th>\n",
       "      <th>modality</th>\n",
       "    </tr>\n",
       "  </thead>\n",
       "  <tbody>\n",
       "    <tr>\n",
       "      <th>45</th>\n",
       "      <td>chr10:102045854:102045970:-@chr10:102042663:10...</td>\n",
       "      <td>MN</td>\n",
       "      <td>excluded</td>\n",
       "    </tr>\n",
       "    <tr>\n",
       "      <th>46</th>\n",
       "      <td>chr10:102045854:102045970:-@chr10:102042663:10...</td>\n",
       "      <td>NPC</td>\n",
       "      <td>excluded</td>\n",
       "    </tr>\n",
       "    <tr>\n",
       "      <th>47</th>\n",
       "      <td>chr10:102045854:102045970:-@chr10:102042663:10...</td>\n",
       "      <td>iPSC</td>\n",
       "      <td>excluded</td>\n",
       "    </tr>\n",
       "    <tr>\n",
       "      <th>48</th>\n",
       "      <td>chr10:102286156:102286311:-@chr10:102283734:10...</td>\n",
       "      <td>MN</td>\n",
       "      <td>excluded</td>\n",
       "    </tr>\n",
       "    <tr>\n",
       "      <th>49</th>\n",
       "      <td>chr10:102286156:102286311:-@chr10:102283734:10...</td>\n",
       "      <td>NPC</td>\n",
       "      <td>excluded</td>\n",
       "    </tr>\n",
       "  </tbody>\n",
       "</table>\n",
       "</div>"
      ],
      "text/plain": [
       "                                             event_id phenotype  modality\n",
       "45  chr10:102045854:102045970:-@chr10:102042663:10...        MN  excluded\n",
       "46  chr10:102045854:102045970:-@chr10:102042663:10...       NPC  excluded\n",
       "47  chr10:102045854:102045970:-@chr10:102042663:10...      iPSC  excluded\n",
       "48  chr10:102286156:102286311:-@chr10:102283734:10...        MN  excluded\n",
       "49  chr10:102286156:102286311:-@chr10:102283734:10...       NPC  excluded"
      ]
     },
     "execution_count": 10,
     "metadata": {},
     "output_type": "execute_result"
    }
   ],
   "source": [
    "same_in_all_three_modalities = study.supplemental.modalities_tidy.groupby(['modality', 'event_id']).filter(lambda x: len(x) == len(study.phenotype_order))\n",
    "same_in_all_three_modalities.head()"
   ]
  },
  {
   "cell_type": "code",
   "execution_count": 11,
   "metadata": {
    "collapsed": false
   },
   "outputs": [
    {
     "data": {
      "text/plain": [
       "<pandas.core.groupby.SeriesGroupBy object at 0x2b6a58ca4810>"
      ]
     },
     "execution_count": 11,
     "metadata": {},
     "output_type": "execute_result"
    }
   ],
   "source": [
    "same_in_all_three_modalities.groupby('event_id')['modality']"
   ]
  },
  {
   "cell_type": "code",
   "execution_count": 12,
   "metadata": {
    "collapsed": false
   },
   "outputs": [
    {
     "data": {
      "text/html": [
       "<div>\n",
       "<table border=\"1\" class=\"dataframe\">\n",
       "  <thead>\n",
       "    <tr style=\"text-align: right;\">\n",
       "      <th></th>\n",
       "      <th>event_id</th>\n",
       "      <th>modality</th>\n",
       "    </tr>\n",
       "  </thead>\n",
       "  <tbody>\n",
       "    <tr>\n",
       "      <th>45</th>\n",
       "      <td>chr10:102045854:102045970:-@chr10:102042663:10...</td>\n",
       "      <td>excluded</td>\n",
       "    </tr>\n",
       "    <tr>\n",
       "      <th>48</th>\n",
       "      <td>chr10:102286156:102286311:-@chr10:102283734:10...</td>\n",
       "      <td>excluded</td>\n",
       "    </tr>\n",
       "    <tr>\n",
       "      <th>51</th>\n",
       "      <td>chr10:102286732:102286831:-@chr10:102286156:10...</td>\n",
       "      <td>included</td>\n",
       "    </tr>\n",
       "    <tr>\n",
       "      <th>72</th>\n",
       "      <td>chr10:102747070:102747272:-@chr10:102746847:10...</td>\n",
       "      <td>uncategorized</td>\n",
       "    </tr>\n",
       "    <tr>\n",
       "      <th>105</th>\n",
       "      <td>chr10:103360960:103361093:+@chr10:103368624:10...</td>\n",
       "      <td>excluded</td>\n",
       "    </tr>\n",
       "  </tbody>\n",
       "</table>\n",
       "</div>"
      ],
      "text/plain": [
       "                                              event_id       modality\n",
       "45   chr10:102045854:102045970:-@chr10:102042663:10...       excluded\n",
       "48   chr10:102286156:102286311:-@chr10:102283734:10...       excluded\n",
       "51   chr10:102286732:102286831:-@chr10:102286156:10...       included\n",
       "72   chr10:102747070:102747272:-@chr10:102746847:10...  uncategorized\n",
       "105  chr10:103360960:103361093:+@chr10:103368624:10...       excluded"
      ]
     },
     "execution_count": 12,
     "metadata": {},
     "output_type": "execute_result"
    }
   ],
   "source": [
    "same_in_all_three_modalities = same_in_all_three_modalities[['event_id', 'modality']].drop_duplicates()\n",
    "same_in_all_three_modalities.head()"
   ]
  },
  {
   "cell_type": "code",
   "execution_count": 13,
   "metadata": {
    "collapsed": false
   },
   "outputs": [
    {
     "data": {
      "text/html": [
       "<div>\n",
       "<table border=\"1\" class=\"dataframe\">\n",
       "  <thead>\n",
       "    <tr style=\"text-align: right;\">\n",
       "      <th></th>\n",
       "      <th>event_id</th>\n",
       "      <th>modality</th>\n",
       "      <th>splice_type</th>\n",
       "    </tr>\n",
       "  </thead>\n",
       "  <tbody>\n",
       "    <tr>\n",
       "      <th>45</th>\n",
       "      <td>chr10:102045854:102045970:-@chr10:102042663:10...</td>\n",
       "      <td>excluded</td>\n",
       "      <td>SE</td>\n",
       "    </tr>\n",
       "    <tr>\n",
       "      <th>48</th>\n",
       "      <td>chr10:102286156:102286311:-@chr10:102283734:10...</td>\n",
       "      <td>excluded</td>\n",
       "      <td>SE</td>\n",
       "    </tr>\n",
       "    <tr>\n",
       "      <th>51</th>\n",
       "      <td>chr10:102286732:102286831:-@chr10:102286156:10...</td>\n",
       "      <td>included</td>\n",
       "      <td>SE</td>\n",
       "    </tr>\n",
       "    <tr>\n",
       "      <th>72</th>\n",
       "      <td>chr10:102747070:102747272:-@chr10:102746847:10...</td>\n",
       "      <td>uncategorized</td>\n",
       "      <td>MXE</td>\n",
       "    </tr>\n",
       "    <tr>\n",
       "      <th>105</th>\n",
       "      <td>chr10:103360960:103361093:+@chr10:103368624:10...</td>\n",
       "      <td>excluded</td>\n",
       "      <td>SE</td>\n",
       "    </tr>\n",
       "  </tbody>\n",
       "</table>\n",
       "</div>"
      ],
      "text/plain": [
       "                                              event_id       modality  \\\n",
       "45   chr10:102045854:102045970:-@chr10:102042663:10...       excluded   \n",
       "48   chr10:102286156:102286311:-@chr10:102283734:10...       excluded   \n",
       "51   chr10:102286732:102286831:-@chr10:102286156:10...       included   \n",
       "72   chr10:102747070:102747272:-@chr10:102746847:10...  uncategorized   \n",
       "105  chr10:103360960:103361093:+@chr10:103368624:10...       excluded   \n",
       "\n",
       "    splice_type  \n",
       "45           SE  \n",
       "48           SE  \n",
       "51           SE  \n",
       "72          MXE  \n",
       "105          SE  "
      ]
     },
     "execution_count": 13,
     "metadata": {},
     "output_type": "execute_result"
    }
   ],
   "source": [
    "same_in_all_three_modalities_splice_types = same_in_all_three_modalities.join(study.splicing.feature_data['splice_type'], on='event_id')\n",
    "same_in_all_three_modalities_splice_types.head()"
   ]
  },
  {
   "cell_type": "code",
   "execution_count": 14,
   "metadata": {
    "collapsed": false
   },
   "outputs": [
    {
     "data": {
      "text/plain": [
       "splice_type\n",
       "MXE     3925\n",
       "SE     20517\n",
       "Name: all, dtype: int64"
      ]
     },
     "execution_count": 14,
     "metadata": {},
     "output_type": "execute_result"
    }
   ],
   "source": [
    "s = study.splicing.feature_data.loc[study.splicing.data.columns, 'splice_type']\n",
    "all_events = s.groupby(s).size()\n",
    "all_events.name = 'all'\n",
    "all_events"
   ]
  },
  {
   "cell_type": "code",
   "execution_count": 15,
   "metadata": {
    "collapsed": false
   },
   "outputs": [
    {
     "data": {
      "text/html": [
       "<div>\n",
       "<table border=\"1\" class=\"dataframe\">\n",
       "  <thead>\n",
       "    <tr style=\"text-align: right;\">\n",
       "      <th>splice_type</th>\n",
       "      <th>MXE</th>\n",
       "      <th>SE</th>\n",
       "    </tr>\n",
       "    <tr>\n",
       "      <th>modality</th>\n",
       "      <th></th>\n",
       "      <th></th>\n",
       "    </tr>\n",
       "  </thead>\n",
       "  <tbody>\n",
       "    <tr>\n",
       "      <th>bimodal</th>\n",
       "      <td>7</td>\n",
       "      <td>54</td>\n",
       "    </tr>\n",
       "    <tr>\n",
       "      <th>excluded</th>\n",
       "      <td>210</td>\n",
       "      <td>1520</td>\n",
       "    </tr>\n",
       "    <tr>\n",
       "      <th>included</th>\n",
       "      <td>164</td>\n",
       "      <td>1656</td>\n",
       "    </tr>\n",
       "    <tr>\n",
       "      <th>middle</th>\n",
       "      <td>15</td>\n",
       "      <td>2</td>\n",
       "    </tr>\n",
       "    <tr>\n",
       "      <th>uncategorized</th>\n",
       "      <td>342</td>\n",
       "      <td>657</td>\n",
       "    </tr>\n",
       "    <tr>\n",
       "      <th>all</th>\n",
       "      <td>3925</td>\n",
       "      <td>20517</td>\n",
       "    </tr>\n",
       "  </tbody>\n",
       "</table>\n",
       "</div>"
      ],
      "text/plain": [
       "splice_type     MXE     SE\n",
       "modality                  \n",
       "bimodal           7     54\n",
       "excluded        210   1520\n",
       "included        164   1656\n",
       "middle           15      2\n",
       "uncategorized   342    657\n",
       "all            3925  20517"
      ]
     },
     "execution_count": 15,
     "metadata": {},
     "output_type": "execute_result"
    }
   ],
   "source": [
    "splice_type_modalities = same_in_all_three_modalities_splice_types.groupby(['modality', 'splice_type']).size().unstack()\n",
    "splice_type_modalities = splice_type_modalities.append(all_events)\n",
    "splice_type_modalities"
   ]
  },
  {
   "cell_type": "code",
   "execution_count": 16,
   "metadata": {
    "collapsed": false
   },
   "outputs": [
    {
     "data": {
      "text/html": [
       "<div>\n",
       "<table border=\"1\" class=\"dataframe\">\n",
       "  <thead>\n",
       "    <tr style=\"text-align: right;\">\n",
       "      <th></th>\n",
       "      <th>splice_type</th>\n",
       "      <th>modality</th>\n",
       "      <th>n_events</th>\n",
       "    </tr>\n",
       "  </thead>\n",
       "  <tbody>\n",
       "    <tr>\n",
       "      <th>0</th>\n",
       "      <td>MXE</td>\n",
       "      <td>bimodal</td>\n",
       "      <td>7</td>\n",
       "    </tr>\n",
       "    <tr>\n",
       "      <th>1</th>\n",
       "      <td>MXE</td>\n",
       "      <td>excluded</td>\n",
       "      <td>210</td>\n",
       "    </tr>\n",
       "    <tr>\n",
       "      <th>2</th>\n",
       "      <td>MXE</td>\n",
       "      <td>included</td>\n",
       "      <td>164</td>\n",
       "    </tr>\n",
       "    <tr>\n",
       "      <th>3</th>\n",
       "      <td>MXE</td>\n",
       "      <td>middle</td>\n",
       "      <td>15</td>\n",
       "    </tr>\n",
       "    <tr>\n",
       "      <th>4</th>\n",
       "      <td>MXE</td>\n",
       "      <td>uncategorized</td>\n",
       "      <td>342</td>\n",
       "    </tr>\n",
       "    <tr>\n",
       "      <th>5</th>\n",
       "      <td>MXE</td>\n",
       "      <td>all</td>\n",
       "      <td>3925</td>\n",
       "    </tr>\n",
       "    <tr>\n",
       "      <th>6</th>\n",
       "      <td>SE</td>\n",
       "      <td>bimodal</td>\n",
       "      <td>54</td>\n",
       "    </tr>\n",
       "    <tr>\n",
       "      <th>7</th>\n",
       "      <td>SE</td>\n",
       "      <td>excluded</td>\n",
       "      <td>1520</td>\n",
       "    </tr>\n",
       "    <tr>\n",
       "      <th>8</th>\n",
       "      <td>SE</td>\n",
       "      <td>included</td>\n",
       "      <td>1656</td>\n",
       "    </tr>\n",
       "    <tr>\n",
       "      <th>9</th>\n",
       "      <td>SE</td>\n",
       "      <td>middle</td>\n",
       "      <td>2</td>\n",
       "    </tr>\n",
       "    <tr>\n",
       "      <th>10</th>\n",
       "      <td>SE</td>\n",
       "      <td>uncategorized</td>\n",
       "      <td>657</td>\n",
       "    </tr>\n",
       "    <tr>\n",
       "      <th>11</th>\n",
       "      <td>SE</td>\n",
       "      <td>all</td>\n",
       "      <td>20517</td>\n",
       "    </tr>\n",
       "  </tbody>\n",
       "</table>\n",
       "</div>"
      ],
      "text/plain": [
       "   splice_type       modality  n_events\n",
       "0          MXE        bimodal         7\n",
       "1          MXE       excluded       210\n",
       "2          MXE       included       164\n",
       "3          MXE         middle        15\n",
       "4          MXE  uncategorized       342\n",
       "5          MXE            all      3925\n",
       "6           SE        bimodal        54\n",
       "7           SE       excluded      1520\n",
       "8           SE       included      1656\n",
       "9           SE         middle         2\n",
       "10          SE  uncategorized       657\n",
       "11          SE            all     20517"
      ]
     },
     "execution_count": 16,
     "metadata": {},
     "output_type": "execute_result"
    }
   ],
   "source": [
    "tidy = splice_type_modalities.unstack().reset_index()\n",
    "tidy = tidy.rename(columns={0: 'n_events'})\n",
    "tidy"
   ]
  },
  {
   "cell_type": "code",
   "execution_count": 17,
   "metadata": {
    "collapsed": false
   },
   "outputs": [
    {
     "data": {
      "text/html": [
       "<div>\n",
       "<table border=\"1\" class=\"dataframe\">\n",
       "  <thead>\n",
       "    <tr style=\"text-align: right;\">\n",
       "      <th></th>\n",
       "      <th>splice_type</th>\n",
       "      <th>modality</th>\n",
       "      <th>n_events</th>\n",
       "      <th>percentage_of_modality</th>\n",
       "    </tr>\n",
       "  </thead>\n",
       "  <tbody>\n",
       "    <tr>\n",
       "      <th>0</th>\n",
       "      <td>MXE</td>\n",
       "      <td>bimodal</td>\n",
       "      <td>7</td>\n",
       "      <td>11.475410</td>\n",
       "    </tr>\n",
       "    <tr>\n",
       "      <th>1</th>\n",
       "      <td>MXE</td>\n",
       "      <td>excluded</td>\n",
       "      <td>210</td>\n",
       "      <td>12.138728</td>\n",
       "    </tr>\n",
       "    <tr>\n",
       "      <th>2</th>\n",
       "      <td>MXE</td>\n",
       "      <td>included</td>\n",
       "      <td>164</td>\n",
       "      <td>9.010989</td>\n",
       "    </tr>\n",
       "    <tr>\n",
       "      <th>3</th>\n",
       "      <td>MXE</td>\n",
       "      <td>middle</td>\n",
       "      <td>15</td>\n",
       "      <td>88.235294</td>\n",
       "    </tr>\n",
       "    <tr>\n",
       "      <th>4</th>\n",
       "      <td>MXE</td>\n",
       "      <td>uncategorized</td>\n",
       "      <td>342</td>\n",
       "      <td>34.234234</td>\n",
       "    </tr>\n",
       "    <tr>\n",
       "      <th>5</th>\n",
       "      <td>MXE</td>\n",
       "      <td>all</td>\n",
       "      <td>3925</td>\n",
       "      <td>16.058424</td>\n",
       "    </tr>\n",
       "    <tr>\n",
       "      <th>6</th>\n",
       "      <td>SE</td>\n",
       "      <td>bimodal</td>\n",
       "      <td>54</td>\n",
       "      <td>88.524590</td>\n",
       "    </tr>\n",
       "    <tr>\n",
       "      <th>7</th>\n",
       "      <td>SE</td>\n",
       "      <td>excluded</td>\n",
       "      <td>1520</td>\n",
       "      <td>87.861272</td>\n",
       "    </tr>\n",
       "    <tr>\n",
       "      <th>8</th>\n",
       "      <td>SE</td>\n",
       "      <td>included</td>\n",
       "      <td>1656</td>\n",
       "      <td>90.989011</td>\n",
       "    </tr>\n",
       "    <tr>\n",
       "      <th>9</th>\n",
       "      <td>SE</td>\n",
       "      <td>middle</td>\n",
       "      <td>2</td>\n",
       "      <td>11.764706</td>\n",
       "    </tr>\n",
       "    <tr>\n",
       "      <th>10</th>\n",
       "      <td>SE</td>\n",
       "      <td>uncategorized</td>\n",
       "      <td>657</td>\n",
       "      <td>65.765766</td>\n",
       "    </tr>\n",
       "    <tr>\n",
       "      <th>11</th>\n",
       "      <td>SE</td>\n",
       "      <td>all</td>\n",
       "      <td>20517</td>\n",
       "      <td>83.941576</td>\n",
       "    </tr>\n",
       "  </tbody>\n",
       "</table>\n",
       "</div>"
      ],
      "text/plain": [
       "   splice_type       modality  n_events  percentage_of_modality\n",
       "0          MXE        bimodal         7               11.475410\n",
       "1          MXE       excluded       210               12.138728\n",
       "2          MXE       included       164                9.010989\n",
       "3          MXE         middle        15               88.235294\n",
       "4          MXE  uncategorized       342               34.234234\n",
       "5          MXE            all      3925               16.058424\n",
       "6           SE        bimodal        54               88.524590\n",
       "7           SE       excluded      1520               87.861272\n",
       "8           SE       included      1656               90.989011\n",
       "9           SE         middle         2               11.764706\n",
       "10          SE  uncategorized       657               65.765766\n",
       "11          SE            all     20517               83.941576"
      ]
     },
     "execution_count": 17,
     "metadata": {},
     "output_type": "execute_result"
    }
   ],
   "source": [
    "tidy['percentage_of_modality'] = tidy.groupby('modality')['n_events'].apply(lambda x: 100 * x/x.sum())\n",
    "tidy"
   ]
  },
  {
   "cell_type": "code",
   "execution_count": 20,
   "metadata": {
    "collapsed": true
   },
   "outputs": [],
   "source": [
    "sns.set(style='ticks', context='paper')"
   ]
  },
  {
   "cell_type": "code",
   "execution_count": 21,
   "metadata": {
    "collapsed": false
   },
   "outputs": [
    {
     "data": {
      "image/png": "[encoded data removed]",
      "text/plain": [
       "<matplotlib.figure.Figure at 0x2b6a4c54e790>"
      ]
     },
     "metadata": {},
     "output_type": "display_data"
    }
   ],
   "source": [
    "import anchor\n",
    "\n",
    "hue_order = anchor.MODALITY_ORDER + ['all']\n",
    "palette = anchor.MODALITY_PALETTE + ['DarkSlateGray']\n",
    "\n",
    "fig, ax = plt.subplots(figsize=(3, 2))\n",
    "sns.barplot(x='splice_type', y='percentage_of_modality', hue='modality', data=tidy, \n",
    "            hue_order=hue_order, palette=palette)\n",
    "ax.set(ylabel='% Modality events')\n",
    "sns.despine()\n",
    "fig.savefig('{}/percent_modality_in_splice_types.pdf'.format(folder))"
   ]
  },
  {
   "cell_type": "code",
   "execution_count": 19,
   "metadata": {
    "collapsed": false
   },
   "outputs": [
    {
     "ename": "NotImplementedError",
     "evalue": "Not implemented: slice(None, 10, None)",
     "output_type": "error",
     "traceback": [
      "\u001b[1;31m---------------------------------------------------------------------------\u001b[0m",
      "\u001b[1;31mNotImplementedError\u001b[0m                       Traceback (most recent call last)",
      "\u001b[1;32m<ipython-input-19-1a27e78719e5>\u001b[0m in \u001b[0;36m<module>\u001b[1;34m()\u001b[0m\n\u001b[0;32m      1\u001b[0m \u001b[0msame_in_all_three_modalities_events\u001b[0m \u001b[1;33m=\u001b[0m \u001b[0msame_in_all_three_modalities\u001b[0m\u001b[1;33m.\u001b[0m\u001b[0mgroupby\u001b[0m\u001b[1;33m(\u001b[0m\u001b[1;34m'event_id'\u001b[0m\u001b[1;33m)\u001b[0m\u001b[1;33m[\u001b[0m\u001b[1;34m'modality'\u001b[0m\u001b[1;33m]\u001b[0m\u001b[1;33m\u001b[0m\u001b[0m\n\u001b[1;32m----> 2\u001b[1;33m \u001b[0msame_in_all_three_modalities_events\u001b[0m\u001b[1;33m[\u001b[0m\u001b[1;33m:\u001b[0m\u001b[1;36m10\u001b[0m\u001b[1;33m]\u001b[0m\u001b[1;33m\u001b[0m\u001b[0m\n\u001b[0m",
      "\u001b[1;32m/home/obotvinnik/anaconda/lib/python2.7/site-packages/pandas/core/groupby.pyc\u001b[0m in \u001b[0;36m__getitem__\u001b[1;34m(self, key)\u001b[0m\n\u001b[0;32m    560\u001b[0m \u001b[1;33m\u001b[0m\u001b[0m\n\u001b[0;32m    561\u001b[0m     \u001b[1;32mdef\u001b[0m \u001b[0m__getitem__\u001b[0m\u001b[1;33m(\u001b[0m\u001b[0mself\u001b[0m\u001b[1;33m,\u001b[0m \u001b[0mkey\u001b[0m\u001b[1;33m)\u001b[0m\u001b[1;33m:\u001b[0m\u001b[1;33m\u001b[0m\u001b[0m\n\u001b[1;32m--> 562\u001b[1;33m         \u001b[1;32mraise\u001b[0m \u001b[0mNotImplementedError\u001b[0m\u001b[1;33m(\u001b[0m\u001b[1;34m'Not implemented: %s'\u001b[0m \u001b[1;33m%\u001b[0m \u001b[0mkey\u001b[0m\u001b[1;33m)\u001b[0m\u001b[1;33m\u001b[0m\u001b[0m\n\u001b[0m\u001b[0;32m    563\u001b[0m \u001b[1;33m\u001b[0m\u001b[0m\n\u001b[0;32m    564\u001b[0m     \u001b[0mplot\u001b[0m \u001b[1;33m=\u001b[0m \u001b[0mproperty\u001b[0m\u001b[1;33m(\u001b[0m\u001b[0mGroupByPlot\u001b[0m\u001b[1;33m)\u001b[0m\u001b[1;33m\u001b[0m\u001b[0m\n",
      "\u001b[1;31mNotImplementedError\u001b[0m: Not implemented: slice(None, 10, None)"
     ]
    }
   ],
   "source": [
    "same_in_all_three_modalities_events = same_in_all_three_modalities.groupby('event_id')['modality']\n",
    "same_in_all_three_modalities_events[:10]"
   ]
  },
  {
   "cell_type": "code",
   "execution_count": null,
   "metadata": {
    "collapsed": true
   },
   "outputs": [],
   "source": [
    "figure_folder = '{}/same_in_all_phenotypes'.format(folder)"
   ]
  },
  {
   "cell_type": "code",
   "execution_count": null,
   "metadata": {
    "collapsed": true
   },
   "outputs": [],
   "source": [
    "middle_folder = '{}/middle'.format(figure_folder)"
   ]
  },
  {
   "cell_type": "code",
   "execution_count": null,
   "metadata": {
    "collapsed": true
   },
   "outputs": [],
   "source": [
    "mkdir -p $middle_folder"
   ]
  },
  {
   "cell_type": "code",
   "execution_count": null,
   "metadata": {
    "collapsed": false,
    "scrolled": false
   },
   "outputs": [],
   "source": [
    "middle_events = same_in_all_three_modalities.query('modality == \"middle\"')['event_id']\n",
    "# middle_events[:10]\n",
    "\n",
    "# len(middle_events)\n",
    "\n",
    "for event in middle_events:\n",
    "    gene_name = study.splicing.feature_data['gene_name'][event]\n",
    "    study.plot_event(event)\n",
    "    fig = plt.gcf()\n",
    "    fig.savefig('{}/{}_{}.pdf'.format(middle_folder, gene_name, event))\n",
    "plt.close('all')"
   ]
  },
  {
   "cell_type": "code",
   "execution_count": 87,
   "metadata": {
    "collapsed": true
   },
   "outputs": [],
   "source": [
    "uncategorized_folder = '{}/uncategorized'.format(figure_folder)"
   ]
  },
  {
   "cell_type": "code",
   "execution_count": 91,
   "metadata": {
    "collapsed": true
   },
   "outputs": [],
   "source": [
    "mkdir -p $uncategorized_folder"
   ]
  },
  {
   "cell_type": "code",
   "execution_count": 92,
   "metadata": {
    "collapsed": false,
    "scrolled": false
   },
   "outputs": [],
   "source": [
    "uncategorized_events = same_in_all_three_modalities.query('modality == \"uncategorized\"')['event_id']\n",
    "# middle_events[:10]\n",
    "\n",
    "# len(middle_events)\n",
    "\n",
    "for event in uncategorized_events:\n",
    "    gene_name = study.splicing.feature_data['gene_name'][event]\n",
    "    study.plot_event(event)\n",
    "    fig = plt.gcf()\n",
    "    fig.savefig('{}/{}_{}.pdf'.format(uncategorized_folder, gene_name, event))\n",
    "plt.close('all')"
   ]
  },
  {
   "cell_type": "code",
   "execution_count": null,
   "metadata": {
    "collapsed": true
   },
   "outputs": [],
   "source": []
  }
 ],
 "metadata": {
  "kernelspec": {
   "display_name": "Python 2",
   "language": "python",
   "name": "python2"
  },
  "language_info": {
   "codemirror_mode": {
    "name": "ipython",
    "version": 2
   },
   "file_extension": ".py",
   "mimetype": "text/x-python",
   "name": "python",
   "nbconvert_exporter": "python",
   "pygments_lexer": "ipython2",
   "version": "2.7.11"
  }
 },
 "nbformat": 4,
 "nbformat_minor": 0
}
