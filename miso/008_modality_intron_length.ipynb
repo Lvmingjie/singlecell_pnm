{
 "cells": [
  {
   "cell_type": "code",
   "execution_count": 1,
   "metadata": {
    "collapsed": false
   },
   "outputs": [
    {
     "name": "stdout",
     "output_type": "stream",
     "text": [
      "mkdir: cannot create directory `figures': File exists\n",
      "2016-07-14 13:29:13\tReading datapackage from /projects/ps-yeolab/obotvinnik/flotilla_projects/singlecell_pnm_miso_modalities/datapackage.json\n",
      "2016-07-14 13:29:13\tParsing datapackage to create a Study object\n",
      "2016-07-14 13:29:57 \tInitializing Study\n",
      "2016-07-14 13:29:57 \tInitializing Predictor configuration manager for Study\n",
      "2016-07-14 13:29:57\tPredictor ExtraTreesClassifier is of type <class 'sklearn.ensemble.forest.ExtraTreesClassifier'>\n",
      "2016-07-14 13:29:57\tAdded ExtraTreesClassifier to default predictors\n",
      "2016-07-14 13:29:57\tPredictor ExtraTreesRegressor is of type <class 'sklearn.ensemble.forest.ExtraTreesRegressor'>\n",
      "2016-07-14 13:29:57\tAdded ExtraTreesRegressor to default predictors\n",
      "2016-07-14 13:29:57\tPredictor GradientBoostingClassifier is of type <class 'sklearn.ensemble.gradient_boosting.GradientBoostingClassifier'>\n",
      "2016-07-14 13:29:57\tAdded GradientBoostingClassifier to default predictors\n",
      "2016-07-14 13:29:57\tPredictor GradientBoostingRegressor is of type <class 'sklearn.ensemble.gradient_boosting.GradientBoostingRegressor'>\n",
      "2016-07-14 13:29:57\tAdded GradientBoostingRegressor to default predictors\n",
      "2016-07-14 13:30:01 \tBuilding Gene Ontology database...\n",
      "2016-07-14 13:30:11 \t\tDone\n",
      "2016-07-14 13:30:12 \tLoading metadata\n",
      "2016-07-14 13:30:12\tLoading expression data\n",
      "2016-07-14 13:30:12\tInitializing expression\n",
      "2016-07-14 13:30:13\tDone initializing expression\n",
      "2016-07-14 13:30:15\tLoading splicing data\n",
      "2016-07-14 13:30:15\tInitializing splicing\n",
      "2016-07-14 13:30:15\tDone initializing splicing\n",
      "2016-07-14 13:30:15\tSuccessfully initialized a Study object!\n"
     ]
    },
    {
     "name": "stderr",
     "output_type": "stream",
     "text": [
      "/home/obotvinnik/anaconda/lib/python2.7/site-packages/matplotlib/__init__.py:810: UserWarning: Found matplotlib configuration in ~/.matplotlib/. To conform with the XDG base directory standard, this configuration location has been deprecated on Linux, and the new location is now /home/obotvinnik/.config/matplotlib/. Please move your configuration there to ensure that matplotlib will continue to find it in the future.\n",
      "  _get_xdg_config_dir())\n"
     ]
    }
   ],
   "source": [
    "from __future__ import print_function\n",
    "\n",
    "from collections import defaultdict\n",
    "\n",
    "import matplotlib as mpl\n",
    "import matplotlib.pyplot as plt\n",
    "import numpy as np\n",
    "import pandas as pd\n",
    "import seaborn as sns\n",
    "\n",
    "%matplotlib inline\n",
    "\n",
    "\n",
    "import flotilla\n",
    "sns.set(style='ticks', context='talk')\n",
    "\n",
    "figure_folder = 'figures'\n",
    "! mkdir $figure_folder\n",
    "\n",
    "flotilla_dir = '/projects/ps-yeolab/obotvinnik/flotilla_projects/'\n",
    "\n",
    "study = flotilla.embark('singlecell_pnm_miso_modalities', flotilla_dir=flotilla_dir)"
   ]
  },
  {
   "cell_type": "code",
   "execution_count": 2,
   "metadata": {
    "collapsed": true
   },
   "outputs": [],
   "source": [
    "folder = '/projects/ps-yeolab/obotvinnik/singlecell_pnms'\n",
    "csv_folder = '{}/csvs_for_paper/'.format(folder)\n",
    "bed_folder = '{}/bed'.format(folder)\n",
    "\n",
    "\n",
    "\n",
    "splicing_feature_folder = '{}/splicing_feature_data'.format(csv_folder)\n",
    "alternative_feature_folder = '{}/alternative'.format(splicing_feature_folder)\n",
    "constitutive_feature_folder = '{}/constitutive'.format(splicing_feature_folder)"
   ]
  },
  {
   "cell_type": "code",
   "execution_count": 3,
   "metadata": {
    "collapsed": false
   },
   "outputs": [
    {
     "name": "stdout",
     "output_type": "stream",
     "text": [
      "biomark_neural_panel\n",
      "confident_rbp\n",
      "ensembl_gene\n",
      "ensembl_transcript\n",
      "exon1_5p_splice_site_phastcons_100way\n",
      "exon1_5p_splice_site_seq\n",
      "exon1_5p_splice_site_strength\n",
      "exon1_clip_bound_database_ids\n",
      "exon1_clip_bound_gene_ids\n",
      "exon1_exon2_splice_signals\n",
      "exon1_exon3_splice_signals\n",
      "exon1_phastcons_100way\n",
      "exon2_3p_splice_site_phastcons_100way\n",
      "exon2_3p_splice_site_seq\n",
      "exon2_3p_splice_site_strength\n",
      "exon2_5p_splice_site_phastcons_100way\n",
      "exon2_5p_splice_site_seq\n",
      "exon2_5p_splice_site_strength\n",
      "exon2_clip_bound_database_ids\n",
      "exon2_clip_bound_gene_ids\n",
      "exon2_exon3_splice_signals\n",
      "exon2_frame0_pfam_domain_accession\n",
      "exon2_frame0_pfam_domain_name\n",
      "exon2_frame0_stop_codon\n",
      "exon2_frame0_translation\n",
      "exon2_frame1_pfam_domain_accession\n",
      "exon2_frame1_pfam_domain_name\n",
      "exon2_frame1_stop_codon\n",
      "exon2_frame1_translation\n",
      "exon2_frame2_pfam_domain_accession\n",
      "exon2_frame2_pfam_domain_name\n",
      "exon2_frame2_stop_codon\n",
      "exon2_frame2_translation\n",
      "exon2_gc\n",
      "exon2_gc_codon_position1\n",
      "exon2_gc_codon_position2\n",
      "exon2_gc_codon_position3\n",
      "exon2_length\n",
      "exon2_mirna_rnahybrid_target_mfe28\n",
      "exon2_n_overlapping_repeats\n",
      "exon2_overlapping_repeats\n",
      "exon2_overlapping_repeats_unique\n",
      "exon2_phastcons_100way\n",
      "exon2_transcript_type_nonsense_mediated_decay\n",
      "exon2_transcript_types\n",
      "exon3_3p_splice_site_phastcons_100way\n",
      "exon3_3p_splice_site_seq\n",
      "exon3_3p_splice_site_strength\n",
      "exon3_clip_bound_database_ids\n",
      "exon3_clip_bound_gene_ids\n",
      "exon3_phastcons_100way\n",
      "exon4_clip_bound_database_ids\n",
      "exon4_clip_bound_gene_ids\n",
      "gencode_gene\n",
      "gencode_transcript\n",
      "gene_name\n",
      "gene_type\n",
      "gerstberger2014_rbp\n",
      "gerstberger2014_rbp_consensus_rna_target\n",
      "gerstberger2014_rbp_target_mrna\n",
      "gerstberger2014_tf\n",
      "intron1_clip_bound_database_ids\n",
      "intron1_clip_bound_gene_ids\n",
      "intron2_clip_bound_database_ids\n",
      "intron2_clip_bound_gene_ids\n",
      "intron3_clip_bound_database_ids\n",
      "intron3_clip_bound_gene_ids\n",
      "isoform1_pfam_domain_accession\n",
      "isoform1_pfam_domain_name\n",
      "isoform1_translation\n",
      "isoform2_pfam_domain_accession\n",
      "isoform2_pfam_domain_name\n",
      "isoform2_translation\n",
      "miRNA_primary_transcript\n",
      "mod3\n",
      "rbp\n",
      "reading_frame\n",
      "ribosomal\n",
      "ribosomal_subunit\n",
      "se_intron1_length\n",
      "se_intron2_length\n",
      "splice_type\n",
      "synapse\n",
      "transcription_factor\n"
     ]
    }
   ],
   "source": [
    "for x in sorted(study.splicing.feature_data.columns):\n",
    "    print(x)"
   ]
  },
  {
   "cell_type": "code",
   "execution_count": 11,
   "metadata": {
    "collapsed": false
   },
   "outputs": [
    {
     "data": {
      "text/plain": [
       "chr10:100148111:100148265:-@chr10:100147622:100147841:-@chr10:100146958:100147064:-    1047\n",
       "chr10:100150355:100150511:-@chr10:100148111:100148265:-@chr10:100146958:100147064:-    3291\n",
       "chr10:100174766:100174978:-@chr10:100174489:100174591:-@chr10:100173705:100174052:-     714\n",
       "chr10:100186972:100187021:-@chr10:100185575:100185742:-@chr10:100185298:100185477:-    1495\n",
       "chr10:100190328:100190427:-@chr10:100189548:100189646:-@chr10:100189330:100189399:-     929\n",
       "Name: intron_length, dtype: int64"
      ]
     },
     "execution_count": 11,
     "metadata": {},
     "output_type": "execute_result"
    }
   ],
   "source": [
    "def get_intron_length(event_id):\n",
    "    exons = event_id.split('@')\n",
    "    exons = [x.split(':') for x in exons]\n",
    "    positive_strand = exons[0][-1] == '+'\n",
    "    \n",
    "    first_exon = exons[0]\n",
    "    last_exon = exons[-1]\n",
    "    \n",
    "    if positive_strand:\n",
    "        return int(last_exon[1]) - int(first_exon[2])\n",
    "    else:\n",
    "        return int(first_exon[1]) - int(last_exon[2])\n",
    "        \n",
    "    \n",
    "study.splicing.feature_data['intron_length'] = study.splicing.feature_data.index.map(get_intron_length)\n",
    "study.splicing.feature_data['intron_length'].head()"
   ]
  },
  {
   "cell_type": "code",
   "execution_count": 12,
   "metadata": {
    "collapsed": false
   },
   "outputs": [
    {
     "data": {
      "text/plain": [
       "chrY:59233167:59233257:+@chrY:59252483:59252550:+@chrY:59272371:59272463:+                      39114\n",
       "chrY:6780129:6780213:+@chrY:6846254:6846284:+@chrY:6863845:6863939:+@chrY:6889490:6889578:+    109277\n",
       "chrY:6846254:6846284:+@chrY:6863845:6863939:+@chrY:6889490:6889578:+                            43206\n",
       "chrY:6889490:6889578:+@chrY:6893076:6893183:+@chrY:6911021:6911166:+                            21443\n",
       "chrY:6931938:6932190:+@chrY:6934736:6934869:+@chrY:6938237:6938369:+                             6047\n",
       "Name: intron_length, dtype: int64"
      ]
     },
     "execution_count": 12,
     "metadata": {},
     "output_type": "execute_result"
    }
   ],
   "source": [
    "study.splicing.feature_data['intron_length'].tail()"
   ]
  },
  {
   "cell_type": "code",
   "execution_count": 13,
   "metadata": {
    "collapsed": true
   },
   "outputs": [],
   "source": [
    "study.splicing.feature_data['log10_intron_length'] = np.log10(study.splicing.feature_data['intron_length'])"
   ]
  },
  {
   "cell_type": "code",
   "execution_count": 35,
   "metadata": {
    "collapsed": true
   },
   "outputs": [],
   "source": [
    "plot_col = 'intron_length'"
   ]
  },
  {
   "cell_type": "code",
   "execution_count": 36,
   "metadata": {
    "collapsed": false
   },
   "outputs": [
    {
     "data": {
      "text/html": [
       "<div>\n",
       "<table border=\"1\" class=\"dataframe\">\n",
       "  <thead>\n",
       "    <tr style=\"text-align: right;\">\n",
       "      <th></th>\n",
       "      <th>event_id</th>\n",
       "      <th>phenotype</th>\n",
       "      <th>modality</th>\n",
       "      <th>intron_length</th>\n",
       "    </tr>\n",
       "  </thead>\n",
       "  <tbody>\n",
       "    <tr>\n",
       "      <th>2</th>\n",
       "      <td>chr10:100190328:100190427:-@chr10:100189548:10...</td>\n",
       "      <td>iPSC</td>\n",
       "      <td>bimodal</td>\n",
       "      <td>929</td>\n",
       "    </tr>\n",
       "    <tr>\n",
       "      <th>5</th>\n",
       "      <td>chr10:100193697:100193848:-@chr10:100190888:10...</td>\n",
       "      <td>iPSC</td>\n",
       "      <td>bimodal</td>\n",
       "      <td>3270</td>\n",
       "    </tr>\n",
       "    <tr>\n",
       "      <th>8</th>\n",
       "      <td>chr10:100193740:100193848:-@chr10:100190888:10...</td>\n",
       "      <td>iPSC</td>\n",
       "      <td>included</td>\n",
       "      <td>3313</td>\n",
       "    </tr>\n",
       "    <tr>\n",
       "      <th>11</th>\n",
       "      <td>chr10:100195392:100195529:-@chr10:100195029:10...</td>\n",
       "      <td>iPSC</td>\n",
       "      <td>uncategorized</td>\n",
       "      <td>1544</td>\n",
       "    </tr>\n",
       "    <tr>\n",
       "      <th>12</th>\n",
       "      <td>chr10:101507014:101507147:+@chr10:101510126:10...</td>\n",
       "      <td>MN</td>\n",
       "      <td>uncategorized</td>\n",
       "      <td>7139</td>\n",
       "    </tr>\n",
       "  </tbody>\n",
       "</table>\n",
       "</div>"
      ],
      "text/plain": [
       "                                             event_id phenotype  \\\n",
       "2   chr10:100190328:100190427:-@chr10:100189548:10...      iPSC   \n",
       "5   chr10:100193697:100193848:-@chr10:100190888:10...      iPSC   \n",
       "8   chr10:100193740:100193848:-@chr10:100190888:10...      iPSC   \n",
       "11  chr10:100195392:100195529:-@chr10:100195029:10...      iPSC   \n",
       "12  chr10:101507014:101507147:+@chr10:101510126:10...        MN   \n",
       "\n",
       "         modality  intron_length  \n",
       "2         bimodal            929  \n",
       "5         bimodal           3270  \n",
       "8        included           3313  \n",
       "11  uncategorized           1544  \n",
       "12  uncategorized           7139  "
      ]
     },
     "execution_count": 36,
     "metadata": {},
     "output_type": "execute_result"
    }
   ],
   "source": [
    "modalities_intron_length = study.supplemental.modalities_tidy.join(study.splicing.feature_data[plot_col], on='event_id')\n",
    "modalities_intron_length.head()"
   ]
  },
  {
   "cell_type": "code",
   "execution_count": 37,
   "metadata": {
    "collapsed": true
   },
   "outputs": [],
   "source": [
    "import anchor\n",
    "modality_to_color = anchor.MODALITY_TO_COLOR.copy()\n",
    "modality_to_color['constitutive'] = '#262626'\n",
    "modality_order = ['excluded', 'bimodal', 'included', 'constitutive']\n",
    "modality_palette = [modality_to_color[m] for m in modality_order]"
   ]
  },
  {
   "cell_type": "code",
   "execution_count": 38,
   "metadata": {
    "collapsed": true
   },
   "outputs": [],
   "source": [
    "sns.set(context='paper', style='white')"
   ]
  },
  {
   "cell_type": "code",
   "execution_count": 43,
   "metadata": {
    "collapsed": true
   },
   "outputs": [],
   "source": [
    "col = plot_col\n",
    "plot_kws = dict(x='phenotype', hue='modality', hue_order=anchor.MODALITY_ORDER, palette=anchor.MODALITY_PALETTE,\n",
    "                 order=study.phenotype_order)"
   ]
  },
  {
   "cell_type": "code",
   "execution_count": 44,
   "metadata": {
    "collapsed": true
   },
   "outputs": [],
   "source": [
    "col = 'intron_length'"
   ]
  },
  {
   "cell_type": "code",
   "execution_count": 45,
   "metadata": {
    "collapsed": false
   },
   "outputs": [
    {
     "data": {
      "image/png": "[encoded data removed]",
      "text/plain": [
       "<matplotlib.figure.Figure at 0x2ad8d7d17750>"
      ]
     },
     "metadata": {},
     "output_type": "display_data"
    }
   ],
   "source": [
    "fig, ax = plt.subplots(figsize=(2, 1.5))\n",
    "plt.yscale('log')\n",
    "sns.boxplot(data=modalities_intron_length, y=col, linewidth=1, fliersize=2, **plot_kws)\n",
    "ax.legend_.set_visible(False)\n",
    "# ax.locator_params('y', nbins=4)\n",
    "sns.despine()\n",
    "fig.savefig('{}/{}_boxplots.pdf'.format(figure_folder, col))"
   ]
  },
  {
   "cell_type": "code",
   "execution_count": null,
   "metadata": {
    "collapsed": true
   },
   "outputs": [],
   "source": []
  }
 ],
 "metadata": {
  "kernelspec": {
   "display_name": "Python 2",
   "language": "python",
   "name": "python2"
  },
  "language_info": {
   "codemirror_mode": {
    "name": "ipython",
    "version": 2
   },
   "file_extension": ".py",
   "mimetype": "text/x-python",
   "name": "python",
   "nbconvert_exporter": "python",
   "pygments_lexer": "ipython2",
   "version": "2.7.11"
  }
 },
 "nbformat": 4,
 "nbformat_minor": 0
}
