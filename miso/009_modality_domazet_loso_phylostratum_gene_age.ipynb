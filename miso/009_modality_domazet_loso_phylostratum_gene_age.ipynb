{
 "cells": [
  {
   "cell_type": "code",
   "execution_count": 1,
   "metadata": {
    "collapsed": false
   },
   "outputs": [
    {
     "name": "stdout",
     "output_type": "stream",
     "text": [
      "mkdir: cannot create directory `figures': File exists\n",
      "2016-07-15 13:33:14\tReading datapackage from /projects/ps-yeolab/obotvinnik/flotilla_projects/singlecell_pnm_miso_modalities/datapackage.json\n",
      "2016-07-15 13:33:14\tParsing datapackage to create a Study object\n",
      "2016-07-15 13:34:13 \tInitializing Study\n",
      "2016-07-15 13:34:13 \tInitializing Predictor configuration manager for Study\n",
      "2016-07-15 13:34:13\tPredictor ExtraTreesClassifier is of type <class 'sklearn.ensemble.forest.ExtraTreesClassifier'>\n",
      "2016-07-15 13:34:13\tAdded ExtraTreesClassifier to default predictors\n",
      "2016-07-15 13:34:13\tPredictor ExtraTreesRegressor is of type <class 'sklearn.ensemble.forest.ExtraTreesRegressor'>\n",
      "2016-07-15 13:34:13\tAdded ExtraTreesRegressor to default predictors\n",
      "2016-07-15 13:34:13\tPredictor GradientBoostingClassifier is of type <class 'sklearn.ensemble.gradient_boosting.GradientBoostingClassifier'>\n",
      "2016-07-15 13:34:13\tAdded GradientBoostingClassifier to default predictors\n",
      "2016-07-15 13:34:13\tPredictor GradientBoostingRegressor is of type <class 'sklearn.ensemble.gradient_boosting.GradientBoostingRegressor'>\n",
      "2016-07-15 13:34:13\tAdded GradientBoostingRegressor to default predictors\n",
      "2016-07-15 13:34:18 \tBuilding Gene Ontology database...\n",
      "2016-07-15 13:34:28 \t\tDone\n",
      "2016-07-15 13:34:29 \tLoading metadata\n",
      "2016-07-15 13:34:29\tLoading expression data\n",
      "2016-07-15 13:34:29\tInitializing expression\n",
      "2016-07-15 13:34:29\tDone initializing expression\n",
      "2016-07-15 13:34:31\tLoading splicing data\n",
      "2016-07-15 13:34:31\tInitializing splicing\n",
      "2016-07-15 13:34:31\tDone initializing splicing\n",
      "2016-07-15 13:34:31\tSuccessfully initialized a Study object!\n"
     ]
    },
    {
     "name": "stderr",
     "output_type": "stream",
     "text": [
      "/home/obotvinnik/anaconda/lib/python2.7/site-packages/matplotlib/__init__.py:810: UserWarning: Found matplotlib configuration in ~/.matplotlib/. To conform with the XDG base directory standard, this configuration location has been deprecated on Linux, and the new location is now /home/obotvinnik/.config/matplotlib/. Please move your configuration there to ensure that matplotlib will continue to find it in the future.\n",
      "  _get_xdg_config_dir())\n"
     ]
    }
   ],
   "source": [
    "from __future__ import print_function\n",
    "\n",
    "from collections import defaultdict\n",
    "\n",
    "import matplotlib as mpl\n",
    "import matplotlib.pyplot as plt\n",
    "import numpy as np\n",
    "import pandas as pd\n",
    "import seaborn as sns\n",
    "\n",
    "%matplotlib inline\n",
    "\n",
    "\n",
    "import flotilla\n",
    "sns.set(style='ticks', context='talk')\n",
    "\n",
    "figure_folder = 'figures'\n",
    "! mkdir $figure_folder\n",
    "\n",
    "flotilla_dir = '/projects/ps-yeolab/obotvinnik/flotilla_projects/'\n",
    "\n",
    "study = flotilla.embark('singlecell_pnm_miso_modalities', flotilla_dir=flotilla_dir)"
   ]
  },
  {
   "cell_type": "code",
   "execution_count": 2,
   "metadata": {
    "collapsed": true
   },
   "outputs": [],
   "source": [
    "folder = '/projects/ps-yeolab/obotvinnik/singlecell_pnms'\n",
    "csv_folder = '{}/csvs_for_paper/'.format(folder)\n",
    "bed_folder = '{}/bed'.format(folder)\n",
    "\n",
    "\n",
    "\n",
    "splicing_feature_folder = '{}/splicing_feature_data'.format(csv_folder)\n",
    "alternative_feature_folder = '{}/alternative'.format(splicing_feature_folder)\n",
    "constitutive_feature_folder = '{}/constitutive'.format(splicing_feature_folder)"
   ]
  },
  {
   "cell_type": "code",
   "execution_count": 3,
   "metadata": {
    "collapsed": false
   },
   "outputs": [
    {
     "name": "stdout",
     "output_type": "stream",
     "text": [
      "biomark_neural_panel\n",
      "confident_rbp\n",
      "ensembl_gene\n",
      "ensembl_transcript\n",
      "exon1_5p_splice_site_phastcons_100way\n",
      "exon1_5p_splice_site_seq\n",
      "exon1_5p_splice_site_strength\n",
      "exon1_clip_bound_database_ids\n",
      "exon1_clip_bound_gene_ids\n",
      "exon1_exon2_splice_signals\n",
      "exon1_exon3_splice_signals\n",
      "exon1_phastcons_100way\n",
      "exon2_3p_splice_site_phastcons_100way\n",
      "exon2_3p_splice_site_seq\n",
      "exon2_3p_splice_site_strength\n",
      "exon2_5p_splice_site_phastcons_100way\n",
      "exon2_5p_splice_site_seq\n",
      "exon2_5p_splice_site_strength\n",
      "exon2_clip_bound_database_ids\n",
      "exon2_clip_bound_gene_ids\n",
      "exon2_exon3_splice_signals\n",
      "exon2_frame0_pfam_domain_accession\n",
      "exon2_frame0_pfam_domain_name\n",
      "exon2_frame0_stop_codon\n",
      "exon2_frame0_translation\n",
      "exon2_frame1_pfam_domain_accession\n",
      "exon2_frame1_pfam_domain_name\n",
      "exon2_frame1_stop_codon\n",
      "exon2_frame1_translation\n",
      "exon2_frame2_pfam_domain_accession\n",
      "exon2_frame2_pfam_domain_name\n",
      "exon2_frame2_stop_codon\n",
      "exon2_frame2_translation\n",
      "exon2_gc\n",
      "exon2_gc_codon_position1\n",
      "exon2_gc_codon_position2\n",
      "exon2_gc_codon_position3\n",
      "exon2_length\n",
      "exon2_mirna_rnahybrid_target_mfe28\n",
      "exon2_n_overlapping_repeats\n",
      "exon2_overlapping_repeats\n",
      "exon2_overlapping_repeats_unique\n",
      "exon2_phastcons_100way\n",
      "exon2_transcript_type_nonsense_mediated_decay\n",
      "exon2_transcript_types\n",
      "exon3_3p_splice_site_phastcons_100way\n",
      "exon3_3p_splice_site_seq\n",
      "exon3_3p_splice_site_strength\n",
      "exon3_clip_bound_database_ids\n",
      "exon3_clip_bound_gene_ids\n",
      "exon3_phastcons_100way\n",
      "exon4_clip_bound_database_ids\n",
      "exon4_clip_bound_gene_ids\n",
      "gencode_gene\n",
      "gencode_transcript\n",
      "gene_name\n",
      "gene_type\n",
      "gerstberger2014_rbp\n",
      "gerstberger2014_rbp_consensus_rna_target\n",
      "gerstberger2014_rbp_target_mrna\n",
      "gerstberger2014_tf\n",
      "intron1_clip_bound_database_ids\n",
      "intron1_clip_bound_gene_ids\n",
      "intron2_clip_bound_database_ids\n",
      "intron2_clip_bound_gene_ids\n",
      "intron3_clip_bound_database_ids\n",
      "intron3_clip_bound_gene_ids\n",
      "isoform1_pfam_domain_accession\n",
      "isoform1_pfam_domain_name\n",
      "isoform1_translation\n",
      "isoform2_pfam_domain_accession\n",
      "isoform2_pfam_domain_name\n",
      "isoform2_translation\n",
      "miRNA_primary_transcript\n",
      "mod3\n",
      "rbp\n",
      "reading_frame\n",
      "ribosomal\n",
      "ribosomal_subunit\n",
      "se_intron1_length\n",
      "se_intron2_length\n",
      "splice_type\n",
      "synapse\n",
      "transcription_factor\n"
     ]
    }
   ],
   "source": [
    "for x in sorted(study.splicing.feature_data.columns):\n",
    "    print(x)"
   ]
  },
  {
   "cell_type": "code",
   "execution_count": 6,
   "metadata": {
    "collapsed": false
   },
   "outputs": [
    {
     "data": {
      "text/plain": [
       "chr10:100150355:100150511:-@chr10:100148111:100148265:-@chr10:100146958:100147064:-    ENSG00000119943\n",
       "chr10:100186972:100187021:-@chr10:100185575:100185742:-@chr10:100185298:100185477:-    ENSG00000107521\n",
       "chr10:100190328:100190427:-@chr10:100189548:100189646:-@chr10:100189330:100189399:-    ENSG00000107521\n",
       "chr10:100193697:100193848:-@chr10:100190888:100191048:-@chr10:100190328:100190427:-    ENSG00000107521\n",
       "chr10:100193740:100193848:-@chr10:100190888:100191048:-@chr10:100190328:100190427:-    ENSG00000107521\n",
       "Name: ensembl_gene, dtype: object"
      ]
     },
     "execution_count": 6,
     "metadata": {},
     "output_type": "execute_result"
    }
   ],
   "source": [
    "study.splicing.feature_data['ensembl_gene'].head()"
   ]
  },
  {
   "cell_type": "code",
   "execution_count": 9,
   "metadata": {
    "collapsed": false
   },
   "outputs": [
    {
     "data": {
      "text/html": [
       "<div>\n",
       "<table border=\"1\" class=\"dataframe\">\n",
       "  <thead>\n",
       "    <tr style=\"text-align: right;\">\n",
       "      <th></th>\n",
       "      <th>ensembl_gene</th>\n",
       "    </tr>\n",
       "  </thead>\n",
       "  <tbody>\n",
       "    <tr>\n",
       "      <th>chr10:100150355:100150511:-@chr10:100148111:100148265:-@chr10:100146958:100147064:-</th>\n",
       "      <td>ENSG00000119943</td>\n",
       "    </tr>\n",
       "    <tr>\n",
       "      <th>chr10:100186972:100187021:-@chr10:100185575:100185742:-@chr10:100185298:100185477:-</th>\n",
       "      <td>ENSG00000107521</td>\n",
       "    </tr>\n",
       "    <tr>\n",
       "      <th>chr10:100190328:100190427:-@chr10:100189548:100189646:-@chr10:100189330:100189399:-</th>\n",
       "      <td>ENSG00000107521</td>\n",
       "    </tr>\n",
       "    <tr>\n",
       "      <th>chr10:100193697:100193848:-@chr10:100190888:100191048:-@chr10:100190328:100190427:-</th>\n",
       "      <td>ENSG00000107521</td>\n",
       "    </tr>\n",
       "    <tr>\n",
       "      <th>chr10:100193740:100193848:-@chr10:100190888:100191048:-@chr10:100190328:100190427:-</th>\n",
       "      <td>ENSG00000107521</td>\n",
       "    </tr>\n",
       "  </tbody>\n",
       "</table>\n",
       "</div>"
      ],
      "text/plain": [
       "                                                       ensembl_gene\n",
       "chr10:100150355:100150511:-@chr10:100148111:100...  ENSG00000119943\n",
       "chr10:100186972:100187021:-@chr10:100185575:100...  ENSG00000107521\n",
       "chr10:100190328:100190427:-@chr10:100189548:100...  ENSG00000107521\n",
       "chr10:100193697:100193848:-@chr10:100190888:100...  ENSG00000107521\n",
       "chr10:100193740:100193848:-@chr10:100190888:100...  ENSG00000107521"
      ]
     },
     "execution_count": 9,
     "metadata": {},
     "output_type": "execute_result"
    }
   ],
   "source": [
    "spliced_genes = study.splicing.feature_data['ensembl_gene'].to_frame()\n",
    "spliced_genes.head()"
   ]
  },
  {
   "cell_type": "code",
   "execution_count": 13,
   "metadata": {
    "collapsed": false
   },
   "outputs": [
    {
     "data": {
      "text/html": [
       "<div>\n",
       "<table border=\"1\" class=\"dataframe\">\n",
       "  <thead>\n",
       "    <tr style=\"text-align: right;\">\n",
       "      <th></th>\n",
       "      <th>ensembl_gene</th>\n",
       "      <th>domazetloso2008_phylostratum</th>\n",
       "    </tr>\n",
       "  </thead>\n",
       "  <tbody>\n",
       "    <tr>\n",
       "      <th>chr10:100150355:100150511:-@chr10:100148111:100148265:-@chr10:100146958:100147064:-</th>\n",
       "      <td>ENSG00000119943</td>\n",
       "      <td>1</td>\n",
       "    </tr>\n",
       "    <tr>\n",
       "      <th>chr10:100186972:100187021:-@chr10:100185575:100185742:-@chr10:100185298:100185477:-</th>\n",
       "      <td>ENSG00000107521</td>\n",
       "      <td>2</td>\n",
       "    </tr>\n",
       "    <tr>\n",
       "      <th>chr10:100190328:100190427:-@chr10:100189548:100189646:-@chr10:100189330:100189399:-</th>\n",
       "      <td>ENSG00000107521</td>\n",
       "      <td>2</td>\n",
       "    </tr>\n",
       "    <tr>\n",
       "      <th>chr10:100193697:100193848:-@chr10:100190888:100191048:-@chr10:100190328:100190427:-</th>\n",
       "      <td>ENSG00000107521</td>\n",
       "      <td>2</td>\n",
       "    </tr>\n",
       "    <tr>\n",
       "      <th>chr10:100193740:100193848:-@chr10:100190888:100191048:-@chr10:100190328:100190427:-</th>\n",
       "      <td>ENSG00000107521</td>\n",
       "      <td>2</td>\n",
       "    </tr>\n",
       "  </tbody>\n",
       "</table>\n",
       "</div>"
      ],
      "text/plain": [
       "                                                       ensembl_gene  \\\n",
       "chr10:100150355:100150511:-@chr10:100148111:100...  ENSG00000119943   \n",
       "chr10:100186972:100187021:-@chr10:100185575:100...  ENSG00000107521   \n",
       "chr10:100190328:100190427:-@chr10:100189548:100...  ENSG00000107521   \n",
       "chr10:100193697:100193848:-@chr10:100190888:100...  ENSG00000107521   \n",
       "chr10:100193740:100193848:-@chr10:100190888:100...  ENSG00000107521   \n",
       "\n",
       "                                                    domazetloso2008_phylostratum  \n",
       "chr10:100150355:100150511:-@chr10:100148111:100...                             1  \n",
       "chr10:100186972:100187021:-@chr10:100185575:100...                             2  \n",
       "chr10:100190328:100190427:-@chr10:100189548:100...                             2  \n",
       "chr10:100193697:100193848:-@chr10:100190888:100...                             2  \n",
       "chr10:100193740:100193848:-@chr10:100190888:100...                             2  "
      ]
     },
     "execution_count": 13,
     "metadata": {},
     "output_type": "execute_result"
    }
   ],
   "source": [
    "event_phylostrata = spliced_genes.join(study.expression.feature_data['domazetloso2008_phylostratum'], on='ensembl_gene')\n",
    "event_phylostrata.head()"
   ]
  },
  {
   "cell_type": "code",
   "execution_count": 14,
   "metadata": {
    "collapsed": false
   },
   "outputs": [
    {
     "data": {
      "text/html": [
       "<div>\n",
       "<table border=\"1\" class=\"dataframe\">\n",
       "  <thead>\n",
       "    <tr style=\"text-align: right;\">\n",
       "      <th></th>\n",
       "      <th>event_id</th>\n",
       "      <th>phenotype</th>\n",
       "      <th>modality</th>\n",
       "      <th>ensembl_gene</th>\n",
       "      <th>domazetloso2008_phylostratum</th>\n",
       "    </tr>\n",
       "  </thead>\n",
       "  <tbody>\n",
       "    <tr>\n",
       "      <th>2</th>\n",
       "      <td>chr10:100190328:100190427:-@chr10:100189548:10...</td>\n",
       "      <td>iPSC</td>\n",
       "      <td>bimodal</td>\n",
       "      <td>ENSG00000107521</td>\n",
       "      <td>2</td>\n",
       "    </tr>\n",
       "    <tr>\n",
       "      <th>5</th>\n",
       "      <td>chr10:100193697:100193848:-@chr10:100190888:10...</td>\n",
       "      <td>iPSC</td>\n",
       "      <td>uncategorized</td>\n",
       "      <td>ENSG00000107521</td>\n",
       "      <td>2</td>\n",
       "    </tr>\n",
       "    <tr>\n",
       "      <th>8</th>\n",
       "      <td>chr10:100193740:100193848:-@chr10:100190888:10...</td>\n",
       "      <td>iPSC</td>\n",
       "      <td>uncategorized</td>\n",
       "      <td>ENSG00000107521</td>\n",
       "      <td>2</td>\n",
       "    </tr>\n",
       "    <tr>\n",
       "      <th>11</th>\n",
       "      <td>chr10:100195392:100195529:-@chr10:100195029:10...</td>\n",
       "      <td>iPSC</td>\n",
       "      <td>uncategorized</td>\n",
       "      <td>ENSG00000107521</td>\n",
       "      <td>2</td>\n",
       "    </tr>\n",
       "    <tr>\n",
       "      <th>13</th>\n",
       "      <td>chr10:101507014:101507147:+@chr10:101510126:10...</td>\n",
       "      <td>NPC</td>\n",
       "      <td>uncategorized</td>\n",
       "      <td>ENSG00000119929</td>\n",
       "      <td>1</td>\n",
       "    </tr>\n",
       "  </tbody>\n",
       "</table>\n",
       "</div>"
      ],
      "text/plain": [
       "                                             event_id phenotype  \\\n",
       "2   chr10:100190328:100190427:-@chr10:100189548:10...      iPSC   \n",
       "5   chr10:100193697:100193848:-@chr10:100190888:10...      iPSC   \n",
       "8   chr10:100193740:100193848:-@chr10:100190888:10...      iPSC   \n",
       "11  chr10:100195392:100195529:-@chr10:100195029:10...      iPSC   \n",
       "13  chr10:101507014:101507147:+@chr10:101510126:10...       NPC   \n",
       "\n",
       "         modality     ensembl_gene  domazetloso2008_phylostratum  \n",
       "2         bimodal  ENSG00000107521                             2  \n",
       "5   uncategorized  ENSG00000107521                             2  \n",
       "8   uncategorized  ENSG00000107521                             2  \n",
       "11  uncategorized  ENSG00000107521                             2  \n",
       "13  uncategorized  ENSG00000119929                             1  "
      ]
     },
     "execution_count": 14,
     "metadata": {},
     "output_type": "execute_result"
    }
   ],
   "source": [
    "modality_phylostrata = study.supplemental.modalities_tidy.join(event_phylostrata, on='event_id')\n",
    "modality_phylostrata.head()"
   ]
  },
  {
   "cell_type": "code",
   "execution_count": 16,
   "metadata": {
    "collapsed": true
   },
   "outputs": [],
   "source": [
    "import anchor\n",
    "modality_to_color = anchor.MODALITY_TO_COLOR.copy()\n",
    "modality_to_color['constitutive'] = '#262626'\n",
    "modality_order = ['excluded', 'bimodal', 'included', 'constitutive']\n",
    "modality_palette = [modality_to_color[m] for m in modality_order]"
   ]
  },
  {
   "cell_type": "code",
   "execution_count": 17,
   "metadata": {
    "collapsed": true
   },
   "outputs": [],
   "source": [
    "sns.set(context='paper', style='white')"
   ]
  },
  {
   "cell_type": "code",
   "execution_count": 40,
   "metadata": {
    "collapsed": false
   },
   "outputs": [
    {
     "data": {
      "image/png": "[encoded data removed]",
      "text/plain": [
       "<matplotlib.figure.Figure at 0x2af2fc3f7490>"
      ]
     },
     "metadata": {},
     "output_type": "display_data"
    }
   ],
   "source": [
    "from flotilla.visualize.generic import cdfplot\n",
    "\n",
    "g = sns.FacetGrid(col='phenotype', hue='modality', size=2, #aspect=.75,\n",
    "            data=modality_phylostrata, hue_order=anchor.MODALITY_ORDER, palette=anchor.MODALITY_PALETTE, \n",
    "            col_order=study.phenotype_order)\n",
    "\n",
    "g.map(cdfplot, 'domazetloso2008_phylostratum')\n",
    "g.set_xlabels('mean Placental PhastCons')\n",
    "g.set_ylabels('Cumulative distribution')\n",
    "g.set(ylim=(0.8, 1), yticks=(0.8, 0.9, 1))\n",
    "g.fig.tight_layout()\n",
    "g.savefig('{}/phylostrata_cdf.pdf'.format(folder))"
   ]
  },
  {
   "cell_type": "code",
   "execution_count": 27,
   "metadata": {
    "collapsed": false
   },
   "outputs": [
    {
     "data": {
      "text/html": [
       "<div>\n",
       "<table border=\"1\" class=\"dataframe\">\n",
       "  <thead>\n",
       "    <tr style=\"text-align: right;\">\n",
       "      <th></th>\n",
       "      <th>1</th>\n",
       "    </tr>\n",
       "    <tr>\n",
       "      <th>0</th>\n",
       "      <th></th>\n",
       "    </tr>\n",
       "  </thead>\n",
       "  <tbody>\n",
       "    <tr>\n",
       "      <th>exon:chr10:102039881-102039985:-</th>\n",
       "      <td>ENSG00000196072</td>\n",
       "    </tr>\n",
       "    <tr>\n",
       "      <th>exon:chr10:102040691-102040810:-</th>\n",
       "      <td>ENSG00000196072</td>\n",
       "    </tr>\n",
       "    <tr>\n",
       "      <th>exon:chr10:102045854-102045970:-</th>\n",
       "      <td>ENSG00000196072</td>\n",
       "    </tr>\n",
       "    <tr>\n",
       "      <th>exon:chr10:102045854-102046089:-</th>\n",
       "      <td>ENSG00000196072</td>\n",
       "    </tr>\n",
       "    <tr>\n",
       "      <th>exon:chr10:102286732-102286831:-</th>\n",
       "      <td>ENSG00000075826</td>\n",
       "    </tr>\n",
       "  </tbody>\n",
       "</table>\n",
       "</div>"
      ],
      "text/plain": [
       "                                                1\n",
       "0                                                \n",
       "exon:chr10:102039881-102039985:-  ENSG00000196072\n",
       "exon:chr10:102040691-102040810:-  ENSG00000196072\n",
       "exon:chr10:102045854-102045970:-  ENSG00000196072\n",
       "exon:chr10:102045854-102046089:-  ENSG00000196072\n",
       "exon:chr10:102286732-102286831:-  ENSG00000075826"
      ]
     },
     "execution_count": 27,
     "metadata": {},
     "output_type": "execute_result"
    }
   ],
   "source": [
    "constitutive_genes = pd.read_csv('/projects/ps-yeolab/obotvinnik/singlecell_pnms/csvs_for_paper/splicing_feature_data/constitutive/genes_expanded.csv', \n",
    "                                 header=None, index_col=0)\n",
    "constitutive_genes.head()"
   ]
  },
  {
   "cell_type": "code",
   "execution_count": 30,
   "metadata": {
    "collapsed": false
   },
   "outputs": [
    {
     "data": {
      "text/html": [
       "<div>\n",
       "<table border=\"1\" class=\"dataframe\">\n",
       "  <thead>\n",
       "    <tr style=\"text-align: right;\">\n",
       "      <th></th>\n",
       "      <th>ensembl_gene</th>\n",
       "      <th>domazetloso2008_phylostratum</th>\n",
       "    </tr>\n",
       "    <tr>\n",
       "      <th>0</th>\n",
       "      <th></th>\n",
       "      <th></th>\n",
       "    </tr>\n",
       "  </thead>\n",
       "  <tbody>\n",
       "    <tr>\n",
       "      <th>exon:chr10:102039881-102039985:-</th>\n",
       "      <td>ENSG00000196072</td>\n",
       "      <td>2</td>\n",
       "    </tr>\n",
       "    <tr>\n",
       "      <th>exon:chr10:102040691-102040810:-</th>\n",
       "      <td>ENSG00000196072</td>\n",
       "      <td>2</td>\n",
       "    </tr>\n",
       "    <tr>\n",
       "      <th>exon:chr10:102045854-102045970:-</th>\n",
       "      <td>ENSG00000196072</td>\n",
       "      <td>2</td>\n",
       "    </tr>\n",
       "    <tr>\n",
       "      <th>exon:chr10:102045854-102046089:-</th>\n",
       "      <td>ENSG00000196072</td>\n",
       "      <td>2</td>\n",
       "    </tr>\n",
       "    <tr>\n",
       "      <th>exon:chr10:102286732-102286831:-</th>\n",
       "      <td>ENSG00000075826</td>\n",
       "      <td>1</td>\n",
       "    </tr>\n",
       "  </tbody>\n",
       "</table>\n",
       "</div>"
      ],
      "text/plain": [
       "                                     ensembl_gene  \\\n",
       "0                                                   \n",
       "exon:chr10:102039881-102039985:-  ENSG00000196072   \n",
       "exon:chr10:102040691-102040810:-  ENSG00000196072   \n",
       "exon:chr10:102045854-102045970:-  ENSG00000196072   \n",
       "exon:chr10:102045854-102046089:-  ENSG00000196072   \n",
       "exon:chr10:102286732-102286831:-  ENSG00000075826   \n",
       "\n",
       "                                  domazetloso2008_phylostratum  \n",
       "0                                                               \n",
       "exon:chr10:102039881-102039985:-                             2  \n",
       "exon:chr10:102040691-102040810:-                             2  \n",
       "exon:chr10:102045854-102045970:-                             2  \n",
       "exon:chr10:102045854-102046089:-                             2  \n",
       "exon:chr10:102286732-102286831:-                             1  "
      ]
     },
     "execution_count": 30,
     "metadata": {},
     "output_type": "execute_result"
    }
   ],
   "source": [
    "constitutive_phylostrata = constitutive_genes.join(study.expression.feature_data['domazetloso2008_phylostratum'], on=1)\n",
    "constitutive_phylostrata = constitutive_phylostrata.rename(columns={1:'ensembl_gene'})\n",
    "constitutive_phylostrata.head()"
   ]
  },
  {
   "cell_type": "code",
   "execution_count": 34,
   "metadata": {
    "collapsed": false
   },
   "outputs": [
    {
     "data": {
      "text/html": [
       "<div>\n",
       "<table border=\"1\" class=\"dataframe\">\n",
       "  <thead>\n",
       "    <tr style=\"text-align: right;\">\n",
       "      <th></th>\n",
       "      <th>event_id</th>\n",
       "      <th>ensembl_gene</th>\n",
       "      <th>domazetloso2008_phylostratum</th>\n",
       "      <th>modality</th>\n",
       "    </tr>\n",
       "  </thead>\n",
       "  <tbody>\n",
       "    <tr>\n",
       "      <th>0</th>\n",
       "      <td>exon:chr10:102039881-102039985:-</td>\n",
       "      <td>ENSG00000196072</td>\n",
       "      <td>2</td>\n",
       "      <td>constitutive</td>\n",
       "    </tr>\n",
       "    <tr>\n",
       "      <th>1</th>\n",
       "      <td>exon:chr10:102040691-102040810:-</td>\n",
       "      <td>ENSG00000196072</td>\n",
       "      <td>2</td>\n",
       "      <td>constitutive</td>\n",
       "    </tr>\n",
       "    <tr>\n",
       "      <th>2</th>\n",
       "      <td>exon:chr10:102045854-102045970:-</td>\n",
       "      <td>ENSG00000196072</td>\n",
       "      <td>2</td>\n",
       "      <td>constitutive</td>\n",
       "    </tr>\n",
       "    <tr>\n",
       "      <th>3</th>\n",
       "      <td>exon:chr10:102045854-102046089:-</td>\n",
       "      <td>ENSG00000196072</td>\n",
       "      <td>2</td>\n",
       "      <td>constitutive</td>\n",
       "    </tr>\n",
       "    <tr>\n",
       "      <th>4</th>\n",
       "      <td>exon:chr10:102286732-102286831:-</td>\n",
       "      <td>ENSG00000075826</td>\n",
       "      <td>1</td>\n",
       "      <td>constitutive</td>\n",
       "    </tr>\n",
       "  </tbody>\n",
       "</table>\n",
       "</div>"
      ],
      "text/plain": [
       "                           event_id     ensembl_gene  \\\n",
       "0  exon:chr10:102039881-102039985:-  ENSG00000196072   \n",
       "1  exon:chr10:102040691-102040810:-  ENSG00000196072   \n",
       "2  exon:chr10:102045854-102045970:-  ENSG00000196072   \n",
       "3  exon:chr10:102045854-102046089:-  ENSG00000196072   \n",
       "4  exon:chr10:102286732-102286831:-  ENSG00000075826   \n",
       "\n",
       "   domazetloso2008_phylostratum      modality  \n",
       "0                             2  constitutive  \n",
       "1                             2  constitutive  \n",
       "2                             2  constitutive  \n",
       "3                             2  constitutive  \n",
       "4                             1  constitutive  "
      ]
     },
     "execution_count": 34,
     "metadata": {},
     "output_type": "execute_result"
    }
   ],
   "source": [
    "constitutive_phylostrata_tidy = constitutive_phylostrata.reset_index()\n",
    "constitutive_phylostrata_tidy = constitutive_phylostrata_tidy.rename(columns={0: 'event_id'})\n",
    "constitutive_phylostrata_tidy['modality'] = 'constitutive'\n",
    "constitutive_phylostrata_tidy.head()"
   ]
  },
  {
   "cell_type": "code",
   "execution_count": 35,
   "metadata": {
    "collapsed": false
   },
   "outputs": [
    {
     "data": {
      "text/html": [
       "<div>\n",
       "<table border=\"1\" class=\"dataframe\">\n",
       "  <thead>\n",
       "    <tr style=\"text-align: right;\">\n",
       "      <th></th>\n",
       "      <th>domazetloso2008_phylostratum</th>\n",
       "      <th>ensembl_gene</th>\n",
       "      <th>event_id</th>\n",
       "      <th>modality</th>\n",
       "      <th>phenotype</th>\n",
       "    </tr>\n",
       "  </thead>\n",
       "  <tbody>\n",
       "    <tr>\n",
       "      <th>6461</th>\n",
       "      <td>2</td>\n",
       "      <td>ENSG00000131171</td>\n",
       "      <td>exon:chrX:80532483-80532668:+</td>\n",
       "      <td>constitutive</td>\n",
       "      <td>MN</td>\n",
       "    </tr>\n",
       "    <tr>\n",
       "      <th>6462</th>\n",
       "      <td>2</td>\n",
       "      <td>ENSG00000131171</td>\n",
       "      <td>exon:chrX:80533830-80533910:+</td>\n",
       "      <td>constitutive</td>\n",
       "      <td>MN</td>\n",
       "    </tr>\n",
       "    <tr>\n",
       "      <th>6463</th>\n",
       "      <td>2</td>\n",
       "      <td>ENSG00000000003</td>\n",
       "      <td>exon:chrX:99887482-99887565:-</td>\n",
       "      <td>constitutive</td>\n",
       "      <td>MN</td>\n",
       "    </tr>\n",
       "    <tr>\n",
       "      <th>6464</th>\n",
       "      <td>2</td>\n",
       "      <td>ENSG00000000003</td>\n",
       "      <td>exon:chrX:99890175-99890249:-</td>\n",
       "      <td>constitutive</td>\n",
       "      <td>MN</td>\n",
       "    </tr>\n",
       "    <tr>\n",
       "      <th>6465</th>\n",
       "      <td>2</td>\n",
       "      <td>ENSG00000000003</td>\n",
       "      <td>exon:chrX:99890555-99890743:-</td>\n",
       "      <td>constitutive</td>\n",
       "      <td>MN</td>\n",
       "    </tr>\n",
       "  </tbody>\n",
       "</table>\n",
       "</div>"
      ],
      "text/plain": [
       "      domazetloso2008_phylostratum     ensembl_gene  \\\n",
       "6461                             2  ENSG00000131171   \n",
       "6462                             2  ENSG00000131171   \n",
       "6463                             2  ENSG00000000003   \n",
       "6464                             2  ENSG00000000003   \n",
       "6465                             2  ENSG00000000003   \n",
       "\n",
       "                           event_id      modality phenotype  \n",
       "6461  exon:chrX:80532483-80532668:+  constitutive        MN  \n",
       "6462  exon:chrX:80533830-80533910:+  constitutive        MN  \n",
       "6463  exon:chrX:99887482-99887565:-  constitutive        MN  \n",
       "6464  exon:chrX:99890175-99890249:-  constitutive        MN  \n",
       "6465  exon:chrX:99890555-99890743:-  constitutive        MN  "
      ]
     },
     "execution_count": 35,
     "metadata": {},
     "output_type": "execute_result"
    }
   ],
   "source": [
    "modality_phylostrata_constitutive = modality_phylostrata.copy()\n",
    "\n",
    "for phenotype in study.phenotype_order:\n",
    "    tidy = constitutive_phylostrata_tidy.copy()\n",
    "    tidy['phenotype'] = phenotype\n",
    "    \n",
    "    modality_phylostrata_constitutive = modality_phylostrata_constitutive.append(tidy)\n",
    "modality_phylostrata_constitutive.tail()"
   ]
  },
  {
   "cell_type": "code",
   "execution_count": 43,
   "metadata": {
    "collapsed": true
   },
   "outputs": [],
   "source": [
    "hue_order = anchor.MODALITY_ORDER + ['constitutive']\n",
    "palette = anchor.MODALITY_PALETTE + ['black']"
   ]
  },
  {
   "cell_type": "code",
   "execution_count": 44,
   "metadata": {
    "collapsed": false
   },
   "outputs": [
    {
     "data": {
      "image/png": "[encoded data removed]",
      "text/plain": [
       "<matplotlib.figure.Figure at 0x2af28430b590>"
      ]
     },
     "metadata": {},
     "output_type": "display_data"
    }
   ],
   "source": [
    "g = sns.FacetGrid(col='phenotype', hue='modality', size=2, #aspect=.75,\n",
    "            data=modality_phylostrata_constitutive, hue_order=hue_order, palette=palette, \n",
    "            col_order=study.phenotype_order)\n",
    "\n",
    "g.map(cdfplot, 'domazetloso2008_phylostratum')\n",
    "g.set_xlabels('mean Placental PhastCons')\n",
    "g.set_ylabels('Cumulative distribution')\n",
    "g.set(ylim=(0.8, 1), yticks=(0.8, 0.9, 1))\n",
    "g.fig.tight_layout()\n",
    "g.savefig('{}/phylostrata_cdf_constitutive.pdf'.format(folder))"
   ]
  }
 ],
 "metadata": {
  "kernelspec": {
   "display_name": "Python 2",
   "language": "python",
   "name": "python2"
  },
  "language_info": {
   "codemirror_mode": {
    "name": "ipython",
    "version": 2
   },
   "file_extension": ".py",
   "mimetype": "text/x-python",
   "name": "python",
   "nbconvert_exporter": "python",
   "pygments_lexer": "ipython2",
   "version": "2.7.11"
  }
 },
 "nbformat": 4,
 "nbformat_minor": 0
}
