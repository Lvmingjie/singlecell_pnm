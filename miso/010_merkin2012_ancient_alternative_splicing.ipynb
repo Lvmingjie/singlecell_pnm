{
 "cells": [
  {
   "cell_type": "code",
   "execution_count": 8,
   "metadata": {
    "collapsed": false
   },
   "outputs": [
    {
     "name": "stdout",
     "output_type": "stream",
     "text": [
      "mkdir: cannot create directory `figures': File exists\n",
      "2016-07-15 14:11:09\tReading datapackage from /projects/ps-yeolab/obotvinnik/flotilla_projects/singlecell_pnm_miso_modalities/datapackage.json\n",
      "2016-07-15 14:11:09\tParsing datapackage to create a Study object\n",
      "2016-07-15 14:12:05 \tInitializing Study\n",
      "2016-07-15 14:12:05 \tInitializing Predictor configuration manager for Study\n",
      "2016-07-15 14:12:05\tPredictor ExtraTreesClassifier is of type <class 'sklearn.ensemble.forest.ExtraTreesClassifier'>\n",
      "2016-07-15 14:12:05\tAdded ExtraTreesClassifier to default predictors\n",
      "2016-07-15 14:12:05\tPredictor ExtraTreesRegressor is of type <class 'sklearn.ensemble.forest.ExtraTreesRegressor'>\n",
      "2016-07-15 14:12:05\tAdded ExtraTreesRegressor to default predictors\n",
      "2016-07-15 14:12:05\tPredictor GradientBoostingClassifier is of type <class 'sklearn.ensemble.gradient_boosting.GradientBoostingClassifier'>\n",
      "2016-07-15 14:12:05\tAdded GradientBoostingClassifier to default predictors\n",
      "2016-07-15 14:12:05\tPredictor GradientBoostingRegressor is of type <class 'sklearn.ensemble.gradient_boosting.GradientBoostingRegressor'>\n",
      "2016-07-15 14:12:05\tAdded GradientBoostingRegressor to default predictors\n",
      "2016-07-15 14:12:10 \tBuilding Gene Ontology database...\n",
      "2016-07-15 14:12:20 \t\tDone\n",
      "2016-07-15 14:12:20 \tLoading metadata\n",
      "2016-07-15 14:12:20\tLoading expression data\n",
      "2016-07-15 14:12:20\tInitializing expression\n",
      "2016-07-15 14:12:21\tDone initializing expression\n",
      "2016-07-15 14:12:23\tLoading splicing data\n",
      "2016-07-15 14:12:23\tInitializing splicing\n",
      "2016-07-15 14:12:23\tDone initializing splicing\n",
      "2016-07-15 14:12:23\tSuccessfully initialized a Study object!\n"
     ]
    }
   ],
   "source": [
    "from __future__ import print_function\n",
    "\n",
    "from collections import defaultdict\n",
    "\n",
    "import matplotlib as mpl\n",
    "import matplotlib.pyplot as plt\n",
    "import numpy as np\n",
    "import pandas as pd\n",
    "import seaborn as sns\n",
    "\n",
    "%matplotlib inline\n",
    "\n",
    "\n",
    "import flotilla\n",
    "sns.set(style='ticks', context='talk')\n",
    "\n",
    "figure_folder = 'figures'\n",
    "! mkdir $figure_folder\n",
    "\n",
    "flotilla_dir = '/projects/ps-yeolab/obotvinnik/flotilla_projects/'\n",
    "\n",
    "study = flotilla.embark('singlecell_pnm_miso_modalities', flotilla_dir=flotilla_dir)"
   ]
  },
  {
   "cell_type": "code",
   "execution_count": 9,
   "metadata": {
    "collapsed": true
   },
   "outputs": [],
   "source": [
    "folder = '/projects/ps-yeolab/obotvinnik/singlecell_pnms'\n",
    "csv_folder = '{}/csvs_for_paper/'.format(folder)\n",
    "bed_folder = '{}/bed'.format(folder)\n",
    "\n",
    "\n",
    "\n",
    "splicing_feature_folder = '{}/splicing_feature_data'.format(csv_folder)\n",
    "alternative_feature_folder = '{}/alternative'.format(splicing_feature_folder)\n",
    "constitutive_feature_folder = '{}/constitutive'.format(splicing_feature_folder)"
   ]
  },
  {
   "cell_type": "code",
   "execution_count": 10,
   "metadata": {
    "collapsed": true
   },
   "outputs": [],
   "source": [
    "alt_exons_bedfile = '/projects/ps-yeolab/obotvinnik/miso_helpers/hg19/se_mxe_exon2.bed'"
   ]
  },
  {
   "cell_type": "code",
   "execution_count": 15,
   "metadata": {
    "collapsed": false
   },
   "outputs": [
    {
     "name": "stdout",
     "output_type": "stream",
     "text": [
      "/projects/ps-yeolab/obotvinnik/miso_helpers/hg19/se_mxe_exon2_merkin2012_ancient_alt_exons.bed\n"
     ]
    }
   ],
   "source": [
    "alt_exons_bedfile_intersect = alt_exons_bedfile.replace('.bed', '_merkin2012_ancient_alt_exons.bed')\n",
    "# constitutive_bedfile_intersect = constitutive_bedfile.replace('.bed', '_merkin2012_ancient_alt_exons.bed')\n",
    "print(alt_exons_bedfile_intersect)\n",
    "# print constitutive_bedfile_intersect"
   ]
  },
  {
   "cell_type": "code",
   "execution_count": 16,
   "metadata": {
    "collapsed": true
   },
   "outputs": [],
   "source": [
    "! bedtools intersect \\\n",
    "    -b /projects/ps-yeolab/obotvinnik/merkin2012/merkin2012_rhemac_ancient_alt_exons_hg19.bed \\\n",
    "    -a $alt_exons_bedfile -s -f 0.9 \\\n",
    "    -wo > $alt_exons_bedfile_intersect"
   ]
  },
  {
   "cell_type": "code",
   "execution_count": 17,
   "metadata": {
    "collapsed": false
   },
   "outputs": [
    {
     "data": {
      "text/html": [
       "<div>\n",
       "<table border=\"1\" class=\"dataframe\">\n",
       "  <thead>\n",
       "    <tr style=\"text-align: right;\">\n",
       "      <th></th>\n",
       "      <th>0</th>\n",
       "      <th>1</th>\n",
       "      <th>2</th>\n",
       "      <th>3</th>\n",
       "      <th>4</th>\n",
       "      <th>5</th>\n",
       "      <th>6</th>\n",
       "      <th>7</th>\n",
       "      <th>8</th>\n",
       "      <th>9</th>\n",
       "      <th>10</th>\n",
       "      <th>11</th>\n",
       "      <th>12</th>\n",
       "    </tr>\n",
       "  </thead>\n",
       "  <tbody>\n",
       "    <tr>\n",
       "      <th>0</th>\n",
       "      <td>chr10</td>\n",
       "      <td>123972856</td>\n",
       "      <td>123972892</td>\n",
       "      <td>chr10:123969912:123971223:+@chr10:123972857:12...</td>\n",
       "      <td>1000</td>\n",
       "      <td>+</td>\n",
       "      <td>chr10</td>\n",
       "      <td>123972857</td>\n",
       "      <td>123972892</td>\n",
       "      <td>TACC2_ENSMMUG00000013033</td>\n",
       "      <td>1000</td>\n",
       "      <td>+</td>\n",
       "      <td>35</td>\n",
       "    </tr>\n",
       "    <tr>\n",
       "      <th>1</th>\n",
       "      <td>chr10</td>\n",
       "      <td>123989865</td>\n",
       "      <td>123989955</td>\n",
       "      <td>chr10:123988861:123989001:+@chr10:123989866:12...</td>\n",
       "      <td>1000</td>\n",
       "      <td>+</td>\n",
       "      <td>chr10</td>\n",
       "      <td>123989866</td>\n",
       "      <td>123990287</td>\n",
       "      <td>TACC2_ENSMMUG00000013033</td>\n",
       "      <td>1000</td>\n",
       "      <td>+</td>\n",
       "      <td>89</td>\n",
       "    </tr>\n",
       "    <tr>\n",
       "      <th>2</th>\n",
       "      <td>chr10</td>\n",
       "      <td>28884661</td>\n",
       "      <td>28884970</td>\n",
       "      <td>chr10:28879649:28879761:+@chr10:28884662:28884...</td>\n",
       "      <td>1000</td>\n",
       "      <td>+</td>\n",
       "      <td>chr10</td>\n",
       "      <td>28884662</td>\n",
       "      <td>28884970</td>\n",
       "      <td>WAC_ENSMMUG00000008268</td>\n",
       "      <td>1000</td>\n",
       "      <td>+</td>\n",
       "      <td>308</td>\n",
       "    </tr>\n",
       "    <tr>\n",
       "      <th>3</th>\n",
       "      <td>chr10</td>\n",
       "      <td>61813434</td>\n",
       "      <td>61813485</td>\n",
       "      <td>chr10:61815416:61815794:-@chr10:61813435:61813...</td>\n",
       "      <td>1000</td>\n",
       "      <td>-</td>\n",
       "      <td>chr10</td>\n",
       "      <td>61813434</td>\n",
       "      <td>61813484</td>\n",
       "      <td>ANK3_ENSMMUG00000003589</td>\n",
       "      <td>1000</td>\n",
       "      <td>-</td>\n",
       "      <td>50</td>\n",
       "    </tr>\n",
       "    <tr>\n",
       "      <th>4</th>\n",
       "      <td>chr10</td>\n",
       "      <td>61841907</td>\n",
       "      <td>61841934</td>\n",
       "      <td>chr10:61842373:61842495:-@chr10:61841908:61841...</td>\n",
       "      <td>1000</td>\n",
       "      <td>-</td>\n",
       "      <td>chr10</td>\n",
       "      <td>61841907</td>\n",
       "      <td>61841939</td>\n",
       "      <td>ANK3_ENSMMUG00000003589</td>\n",
       "      <td>1000</td>\n",
       "      <td>-</td>\n",
       "      <td>27</td>\n",
       "    </tr>\n",
       "  </tbody>\n",
       "</table>\n",
       "</div>"
      ],
      "text/plain": [
       "      0          1          2   \\\n",
       "0  chr10  123972856  123972892   \n",
       "1  chr10  123989865  123989955   \n",
       "2  chr10   28884661   28884970   \n",
       "3  chr10   61813434   61813485   \n",
       "4  chr10   61841907   61841934   \n",
       "\n",
       "                                                  3     4  5      6   \\\n",
       "0  chr10:123969912:123971223:+@chr10:123972857:12...  1000  +  chr10   \n",
       "1  chr10:123988861:123989001:+@chr10:123989866:12...  1000  +  chr10   \n",
       "2  chr10:28879649:28879761:+@chr10:28884662:28884...  1000  +  chr10   \n",
       "3  chr10:61815416:61815794:-@chr10:61813435:61813...  1000  -  chr10   \n",
       "4  chr10:61842373:61842495:-@chr10:61841908:61841...  1000  -  chr10   \n",
       "\n",
       "          7          8                         9     10 11   12  \n",
       "0  123972857  123972892  TACC2_ENSMMUG00000013033  1000  +   35  \n",
       "1  123989866  123990287  TACC2_ENSMMUG00000013033  1000  +   89  \n",
       "2   28884662   28884970    WAC_ENSMMUG00000008268  1000  +  308  \n",
       "3   61813434   61813484   ANK3_ENSMMUG00000003589  1000  -   50  \n",
       "4   61841907   61841939   ANK3_ENSMMUG00000003589  1000  -   27  "
      ]
     },
     "execution_count": 17,
     "metadata": {},
     "output_type": "execute_result"
    }
   ],
   "source": [
    "import pandas as pd\n",
    "\n",
    "df = pd.read_table(alt_exons_bedfile_intersect, header=None)\n",
    "df.head()"
   ]
  },
  {
   "cell_type": "code",
   "execution_count": 19,
   "metadata": {
    "collapsed": false
   },
   "outputs": [
    {
     "name": "stdout",
     "output_type": "stream",
     "text": [
      "(37964,)\n"
     ]
    },
    {
     "data": {
      "text/plain": [
       "chr10:100150355:100150511:-@chr10:100148111:100148265:-@chr10:100146958:100147064:-    False\n",
       "chr10:100186972:100187021:-@chr10:100185575:100185742:-@chr10:100185298:100185477:-    False\n",
       "chr10:100190328:100190427:-@chr10:100189548:100189646:-@chr10:100189330:100189399:-    False\n",
       "chr10:100193697:100193848:-@chr10:100190888:100191048:-@chr10:100190328:100190427:-    False\n",
       "chr10:100193740:100193848:-@chr10:100190888:100191048:-@chr10:100190328:100190427:-    False\n",
       "dtype: bool"
      ]
     },
     "execution_count": 19,
     "metadata": {},
     "output_type": "execute_result"
    }
   ],
   "source": [
    "exon2_merkin2012_ancient = pd.Series(study.splicing.feature_data.index.isin(df[3]), index=study.splicing.feature_data.index)\n",
    "print(exon2_merkin2012_ancient.shape)\n",
    "exon2_merkin2012_ancient.head()"
   ]
  },
  {
   "cell_type": "code",
   "execution_count": 21,
   "metadata": {
    "collapsed": true
   },
   "outputs": [],
   "source": [
    "exon2_merkin2012_ancient.name = 'exon2_merkin2012_ancient'"
   ]
  },
  {
   "cell_type": "code",
   "execution_count": 23,
   "metadata": {
    "collapsed": false
   },
   "outputs": [
    {
     "name": "stdout",
     "output_type": "stream",
     "text": [
      "(39659, 4)\n"
     ]
    },
    {
     "data": {
      "text/html": [
       "<div>\n",
       "<table border=\"1\" class=\"dataframe\">\n",
       "  <thead>\n",
       "    <tr style=\"text-align: right;\">\n",
       "      <th></th>\n",
       "      <th>event_id</th>\n",
       "      <th>phenotype</th>\n",
       "      <th>modality</th>\n",
       "      <th>exon2_merkin2012_ancient</th>\n",
       "    </tr>\n",
       "  </thead>\n",
       "  <tbody>\n",
       "    <tr>\n",
       "      <th>2</th>\n",
       "      <td>chr10:100190328:100190427:-@chr10:100189548:10...</td>\n",
       "      <td>iPSC</td>\n",
       "      <td>bimodal</td>\n",
       "      <td>False</td>\n",
       "    </tr>\n",
       "    <tr>\n",
       "      <th>5</th>\n",
       "      <td>chr10:100193697:100193848:-@chr10:100190888:10...</td>\n",
       "      <td>iPSC</td>\n",
       "      <td>uncategorized</td>\n",
       "      <td>False</td>\n",
       "    </tr>\n",
       "    <tr>\n",
       "      <th>8</th>\n",
       "      <td>chr10:100193740:100193848:-@chr10:100190888:10...</td>\n",
       "      <td>iPSC</td>\n",
       "      <td>uncategorized</td>\n",
       "      <td>False</td>\n",
       "    </tr>\n",
       "    <tr>\n",
       "      <th>11</th>\n",
       "      <td>chr10:100195392:100195529:-@chr10:100195029:10...</td>\n",
       "      <td>iPSC</td>\n",
       "      <td>uncategorized</td>\n",
       "      <td>False</td>\n",
       "    </tr>\n",
       "    <tr>\n",
       "      <th>13</th>\n",
       "      <td>chr10:101507014:101507147:+@chr10:101510126:10...</td>\n",
       "      <td>NPC</td>\n",
       "      <td>uncategorized</td>\n",
       "      <td>False</td>\n",
       "    </tr>\n",
       "  </tbody>\n",
       "</table>\n",
       "</div>"
      ],
      "text/plain": [
       "                                             event_id phenotype  \\\n",
       "2   chr10:100190328:100190427:-@chr10:100189548:10...      iPSC   \n",
       "5   chr10:100193697:100193848:-@chr10:100190888:10...      iPSC   \n",
       "8   chr10:100193740:100193848:-@chr10:100190888:10...      iPSC   \n",
       "11  chr10:100195392:100195529:-@chr10:100195029:10...      iPSC   \n",
       "13  chr10:101507014:101507147:+@chr10:101510126:10...       NPC   \n",
       "\n",
       "         modality exon2_merkin2012_ancient  \n",
       "2         bimodal                    False  \n",
       "5   uncategorized                    False  \n",
       "8   uncategorized                    False  \n",
       "11  uncategorized                    False  \n",
       "13  uncategorized                    False  "
      ]
     },
     "execution_count": 23,
     "metadata": {},
     "output_type": "execute_result"
    }
   ],
   "source": [
    "modalities_merkin2012 = study.supplemental.modalities_tidy.join(exon2_merkin2012_ancient, on='event_id')\n",
    "print(modalities_merkin2012.shape)\n",
    "modalities_merkin2012.head()"
   ]
  },
  {
   "cell_type": "code",
   "execution_count": 12,
   "metadata": {
    "collapsed": true
   },
   "outputs": [],
   "source": [
    "import anchor\n",
    "modality_to_color = anchor.MODALITY_TO_COLOR.copy()\n",
    "modality_to_color['constitutive'] = '#262626'\n",
    "modality_order = ['excluded', 'bimodal', 'included', 'constitutive']\n",
    "modality_palette = [modality_to_color[m] for m in modality_order]"
   ]
  },
  {
   "cell_type": "code",
   "execution_count": 13,
   "metadata": {
    "collapsed": true
   },
   "outputs": [],
   "source": [
    "sns.set(context='paper', style='white')"
   ]
  },
  {
   "cell_type": "code",
   "execution_count": 29,
   "metadata": {
    "collapsed": false
   },
   "outputs": [
    {
     "data": {
      "image/png": "[encoded data removed]",
      "text/plain": [
       "<matplotlib.figure.Figure at 0x2ac46d66d6d0>"
      ]
     },
     "metadata": {},
     "output_type": "display_data"
    }
   ],
   "source": [
    "col = 'exon2_merkin2012_ancient'\n",
    "\n",
    "fig, ax = plt.subplots(figsize=(2, 1.5))\n",
    "sns.barplot(x='phenotype', y=col, hue='modality', hue_order=anchor.MODALITY_ORDER, \n",
    "            data=modalities_merkin2012, ci=None,\n",
    "            palette=anchor.MODALITY_PALETTE, order=study.phenotype_order)\n",
    "ax.locator_params('y', nbins=3)\n",
    "\n",
    "yticks = ax.get_yticks()\n",
    "yticklabels = 100 * yticks\n",
    "ax.set(xlabel='', ylabel='% AS Exons', yticklabels=yticklabels)\n",
    "ax.legend_.set_visible(False)\n",
    "sns.despine()\n",
    "fig.tight_layout()\n",
    "fig.savefig('{}/{}.pdf'.format(figure_folder, col))"
   ]
  },
  {
   "cell_type": "code",
   "execution_count": null,
   "metadata": {
    "collapsed": true
   },
   "outputs": [],
   "source": []
  }
 ],
 "metadata": {
  "kernelspec": {
   "display_name": "Python 2",
   "language": "python",
   "name": "python2"
  },
  "language_info": {
   "codemirror_mode": {
    "name": "ipython",
    "version": 2
   },
   "file_extension": ".py",
   "mimetype": "text/x-python",
   "name": "python",
   "nbconvert_exporter": "python",
   "pygments_lexer": "ipython2",
   "version": "2.7.11"
  }
 },
 "nbformat": 4,
 "nbformat_minor": 0
}
