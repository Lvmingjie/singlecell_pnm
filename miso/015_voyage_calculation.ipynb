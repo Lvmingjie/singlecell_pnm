{
 "cells": [
  {
   "cell_type": "code",
   "execution_count": 1,
   "metadata": {
    "collapsed": false
   },
   "outputs": [
    {
     "name": "stdout",
     "output_type": "stream",
     "text": [
      "mkdir: cannot create directory `figures': File exists\n",
      "2016-07-14 13:17:57\tReading datapackage from /projects/ps-yeolab/obotvinnik/flotilla_projects/singlecell_pnm_miso_modalities/datapackage.json\n",
      "2016-07-14 13:17:57\tParsing datapackage to create a Study object\n",
      "2016-07-14 13:18:41 \tInitializing Study\n",
      "2016-07-14 13:18:41 \tInitializing Predictor configuration manager for Study\n",
      "2016-07-14 13:18:41\tPredictor ExtraTreesClassifier is of type <class 'sklearn.ensemble.forest.ExtraTreesClassifier'>\n",
      "2016-07-14 13:18:41\tAdded ExtraTreesClassifier to default predictors\n",
      "2016-07-14 13:18:41\tPredictor ExtraTreesRegressor is of type <class 'sklearn.ensemble.forest.ExtraTreesRegressor'>\n",
      "2016-07-14 13:18:41\tAdded ExtraTreesRegressor to default predictors\n",
      "2016-07-14 13:18:41\tPredictor GradientBoostingClassifier is of type <class 'sklearn.ensemble.gradient_boosting.GradientBoostingClassifier'>\n",
      "2016-07-14 13:18:41\tAdded GradientBoostingClassifier to default predictors\n",
      "2016-07-14 13:18:41\tPredictor GradientBoostingRegressor is of type <class 'sklearn.ensemble.gradient_boosting.GradientBoostingRegressor'>\n",
      "2016-07-14 13:18:41\tAdded GradientBoostingRegressor to default predictors\n",
      "2016-07-14 13:18:46 \tBuilding Gene Ontology database...\n",
      "2016-07-14 13:18:56 \t\tDone\n",
      "2016-07-14 13:18:56 \tLoading metadata\n",
      "2016-07-14 13:18:56\tLoading expression data\n",
      "2016-07-14 13:18:56\tInitializing expression\n",
      "2016-07-14 13:18:57\tDone initializing expression\n",
      "2016-07-14 13:18:59\tLoading splicing data\n",
      "2016-07-14 13:18:59\tInitializing splicing\n",
      "2016-07-14 13:18:59\tDone initializing splicing\n",
      "2016-07-14 13:18:59\tSuccessfully initialized a Study object!\n"
     ]
    },
    {
     "name": "stderr",
     "output_type": "stream",
     "text": [
      "/home/obotvinnik/anaconda/lib/python2.7/site-packages/matplotlib/__init__.py:810: UserWarning: Found matplotlib configuration in ~/.matplotlib/. To conform with the XDG base directory standard, this configuration location has been deprecated on Linux, and the new location is now /home/obotvinnik/.config/matplotlib/. Please move your configuration there to ensure that matplotlib will continue to find it in the future.\n",
      "  _get_xdg_config_dir())\n"
     ]
    }
   ],
   "source": [
    "from __future__ import print_function\n",
    "\n",
    "from collections import defaultdict\n",
    "\n",
    "import matplotlib as mpl\n",
    "import matplotlib.pyplot as plt\n",
    "import numpy as np\n",
    "import pandas as pd\n",
    "import seaborn as sns\n",
    "\n",
    "%matplotlib inline\n",
    "\n",
    "\n",
    "import flotilla\n",
    "sns.set(style='ticks', context='talk')\n",
    "\n",
    "figure_folder = 'figures'\n",
    "! mkdir $figure_folder\n",
    "\n",
    "flotilla_dir = '/projects/ps-yeolab/obotvinnik/flotilla_projects/'\n",
    "\n",
    "study = flotilla.embark('singlecell_pnm_miso_modalities', flotilla_dir=flotilla_dir)"
   ]
  },
  {
   "cell_type": "code",
   "execution_count": 2,
   "metadata": {
    "collapsed": false
   },
   "outputs": [
    {
     "data": {
      "text/plain": [
       "10"
      ]
     },
     "execution_count": 2,
     "metadata": {},
     "output_type": "execute_result"
    }
   ],
   "source": [
    "study.splicing.minimum_samples"
   ]
  },
  {
   "cell_type": "code",
   "execution_count": 3,
   "metadata": {
    "collapsed": true
   },
   "outputs": [],
   "source": [
    "not_outliers = study.splicing.singles.index.difference(study.splicing.outliers.index)\n",
    "\n",
    "psi = study.splicing.singles.ix[not_outliers]\n",
    "grouped = psi.groupby(study.sample_id_to_phenotype)\n",
    "psi_filtered = grouped.apply(lambda x: x.dropna(axis=1, thresh=study.splicing.minimum_samples))"
   ]
  },
  {
   "cell_type": "code",
   "execution_count": 4,
   "metadata": {
    "collapsed": true
   },
   "outputs": [],
   "source": [
    "from astrolabe import Waypoints\n",
    "\n",
    "ws = Waypoints()\n",
    "\n",
    "waypoints = psi_filtered.groupby(study.sample_id_to_phenotype).apply(\n",
    "    lambda x: ws.fit_transform(x.dropna(how='all', axis=1)))"
   ]
  },
  {
   "cell_type": "code",
   "execution_count": 5,
   "metadata": {
    "collapsed": false
   },
   "outputs": [
    {
     "data": {
      "text/plain": [
       "[(u'iPSC', u'NPC'), (u'NPC', u'MN'), ('iPSC', 'MN')]"
      ]
     },
     "execution_count": 5,
     "metadata": {},
     "output_type": "execute_result"
    }
   ],
   "source": [
    "transitions = study.phenotype_transitions + [('iPSC', 'MN')]\n",
    "transitions"
   ]
  },
  {
   "cell_type": "code",
   "execution_count": 9,
   "metadata": {
    "collapsed": false
   },
   "outputs": [
    {
     "data": {
      "text/html": [
       "<div>\n",
       "<table border=\"1\" class=\"dataframe\">\n",
       "  <thead>\n",
       "    <tr style=\"text-align: right;\">\n",
       "      <th></th>\n",
       "      <th>event_id</th>\n",
       "      <th>$\\Delta x$</th>\n",
       "      <th>$\\Delta y$</th>\n",
       "      <th>magnitude</th>\n",
       "      <th>group1</th>\n",
       "      <th>group2</th>\n",
       "      <th>direction</th>\n",
       "      <th>transition</th>\n",
       "    </tr>\n",
       "  </thead>\n",
       "  <tbody>\n",
       "    <tr>\n",
       "      <th>0</th>\n",
       "      <td>chr10:101507014:101507147:+@chr10:101510126:10...</td>\n",
       "      <td>0.221198</td>\n",
       "      <td>-0.002304</td>\n",
       "      <td>0.221210</td>\n",
       "      <td>iPSC</td>\n",
       "      <td>NPC</td>\n",
       "      <td>$\\searrow$</td>\n",
       "      <td>iPSC-NPC</td>\n",
       "    </tr>\n",
       "    <tr>\n",
       "      <th>1</th>\n",
       "      <td>chr10:101945271:101945394:-@chr10:101943513:10...</td>\n",
       "      <td>0.000000</td>\n",
       "      <td>-0.006912</td>\n",
       "      <td>0.006912</td>\n",
       "      <td>iPSC</td>\n",
       "      <td>NPC</td>\n",
       "      <td>$\\swarrow$</td>\n",
       "      <td>iPSC-NPC</td>\n",
       "    </tr>\n",
       "    <tr>\n",
       "      <th>2</th>\n",
       "      <td>chr10:102013178:102013296:-@chr10:102010005:10...</td>\n",
       "      <td>0.000000</td>\n",
       "      <td>-0.191729</td>\n",
       "      <td>0.191729</td>\n",
       "      <td>iPSC</td>\n",
       "      <td>NPC</td>\n",
       "      <td>$\\swarrow$</td>\n",
       "      <td>iPSC-NPC</td>\n",
       "    </tr>\n",
       "    <tr>\n",
       "      <th>3</th>\n",
       "      <td>chr10:102019975:102020076:-@chr10:102016019:10...</td>\n",
       "      <td>0.000000</td>\n",
       "      <td>0.189247</td>\n",
       "      <td>0.189247</td>\n",
       "      <td>iPSC</td>\n",
       "      <td>NPC</td>\n",
       "      <td>$\\nwarrow$</td>\n",
       "      <td>iPSC-NPC</td>\n",
       "    </tr>\n",
       "    <tr>\n",
       "      <th>4</th>\n",
       "      <td>chr10:102020723:102020801:-@chr10:102016019:10...</td>\n",
       "      <td>0.000000</td>\n",
       "      <td>0.002299</td>\n",
       "      <td>0.002299</td>\n",
       "      <td>iPSC</td>\n",
       "      <td>NPC</td>\n",
       "      <td>$\\nwarrow$</td>\n",
       "      <td>iPSC-NPC</td>\n",
       "    </tr>\n",
       "  </tbody>\n",
       "</table>\n",
       "</div>"
      ],
      "text/plain": [
       "                                            event_id  $\\Delta x$  $\\Delta y$  \\\n",
       "0  chr10:101507014:101507147:+@chr10:101510126:10...    0.221198   -0.002304   \n",
       "1  chr10:101945271:101945394:-@chr10:101943513:10...    0.000000   -0.006912   \n",
       "2  chr10:102013178:102013296:-@chr10:102010005:10...    0.000000   -0.191729   \n",
       "3  chr10:102019975:102020076:-@chr10:102016019:10...    0.000000    0.189247   \n",
       "4  chr10:102020723:102020801:-@chr10:102016019:10...    0.000000    0.002299   \n",
       "\n",
       "   magnitude group1 group2   direction transition  \n",
       "0   0.221210   iPSC    NPC  $\\searrow$   iPSC-NPC  \n",
       "1   0.006912   iPSC    NPC  $\\swarrow$   iPSC-NPC  \n",
       "2   0.191729   iPSC    NPC  $\\swarrow$   iPSC-NPC  \n",
       "3   0.189247   iPSC    NPC  $\\nwarrow$   iPSC-NPC  \n",
       "4   0.002299   iPSC    NPC  $\\nwarrow$   iPSC-NPC  "
      ]
     },
     "execution_count": 9,
     "metadata": {},
     "output_type": "execute_result"
    }
   ],
   "source": [
    "from astrolabe.voyages import Voyages\n",
    "\n",
    "v = Voyages()\n",
    "\n",
    "voyages = v.voyages(waypoints, transitions)\n",
    "voyages.head()"
   ]
  },
  {
   "cell_type": "markdown",
   "metadata": {},
   "source": [
    "## Add group1/group2 modalities"
   ]
  },
  {
   "cell_type": "code",
   "execution_count": 10,
   "metadata": {
    "collapsed": false
   },
   "outputs": [
    {
     "name": "stdout",
     "output_type": "stream",
     "text": [
      "(27602, 10)\n",
      "(27602, 11)\n",
      "(27602, 10)\n"
     ]
    },
    {
     "data": {
      "text/html": [
       "<div>\n",
       "<table border=\"1\" class=\"dataframe\">\n",
       "  <thead>\n",
       "    <tr style=\"text-align: right;\">\n",
       "      <th></th>\n",
       "      <th>event_id</th>\n",
       "      <th>$\\Delta x$</th>\n",
       "      <th>$\\Delta y$</th>\n",
       "      <th>magnitude</th>\n",
       "      <th>group1</th>\n",
       "      <th>group2</th>\n",
       "      <th>direction</th>\n",
       "      <th>transition</th>\n",
       "      <th>group1_modality</th>\n",
       "      <th>group2_modality</th>\n",
       "    </tr>\n",
       "  </thead>\n",
       "  <tbody>\n",
       "    <tr>\n",
       "      <th>0</th>\n",
       "      <td>chr10:101507014:101507147:+@chr10:101510126:10...</td>\n",
       "      <td>0.221198</td>\n",
       "      <td>-0.002304</td>\n",
       "      <td>0.221210</td>\n",
       "      <td>iPSC</td>\n",
       "      <td>NPC</td>\n",
       "      <td>$\\searrow$</td>\n",
       "      <td>iPSC-NPC</td>\n",
       "      <td>uncategorized</td>\n",
       "      <td>uncategorized</td>\n",
       "    </tr>\n",
       "    <tr>\n",
       "      <th>1</th>\n",
       "      <td>chr10:101945271:101945394:-@chr10:101943513:10...</td>\n",
       "      <td>0.000000</td>\n",
       "      <td>-0.006912</td>\n",
       "      <td>0.006912</td>\n",
       "      <td>iPSC</td>\n",
       "      <td>NPC</td>\n",
       "      <td>$\\swarrow$</td>\n",
       "      <td>iPSC-NPC</td>\n",
       "      <td>included</td>\n",
       "      <td>included</td>\n",
       "    </tr>\n",
       "    <tr>\n",
       "      <th>2</th>\n",
       "      <td>chr10:102013178:102013296:-@chr10:102010005:10...</td>\n",
       "      <td>0.000000</td>\n",
       "      <td>-0.191729</td>\n",
       "      <td>0.191729</td>\n",
       "      <td>iPSC</td>\n",
       "      <td>NPC</td>\n",
       "      <td>$\\swarrow$</td>\n",
       "      <td>iPSC-NPC</td>\n",
       "      <td>included</td>\n",
       "      <td>included</td>\n",
       "    </tr>\n",
       "    <tr>\n",
       "      <th>3</th>\n",
       "      <td>chr10:102019975:102020076:-@chr10:102016019:10...</td>\n",
       "      <td>0.000000</td>\n",
       "      <td>0.189247</td>\n",
       "      <td>0.189247</td>\n",
       "      <td>iPSC</td>\n",
       "      <td>NPC</td>\n",
       "      <td>$\\nwarrow$</td>\n",
       "      <td>iPSC-NPC</td>\n",
       "      <td>included</td>\n",
       "      <td>included</td>\n",
       "    </tr>\n",
       "    <tr>\n",
       "      <th>4</th>\n",
       "      <td>chr10:102020723:102020801:-@chr10:102016019:10...</td>\n",
       "      <td>0.000000</td>\n",
       "      <td>0.002299</td>\n",
       "      <td>0.002299</td>\n",
       "      <td>iPSC</td>\n",
       "      <td>NPC</td>\n",
       "      <td>$\\nwarrow$</td>\n",
       "      <td>iPSC-NPC</td>\n",
       "      <td>included</td>\n",
       "      <td>included</td>\n",
       "    </tr>\n",
       "  </tbody>\n",
       "</table>\n",
       "</div>"
      ],
      "text/plain": [
       "                                            event_id  $\\Delta x$  $\\Delta y$  \\\n",
       "0  chr10:101507014:101507147:+@chr10:101510126:10...    0.221198   -0.002304   \n",
       "1  chr10:101945271:101945394:-@chr10:101943513:10...    0.000000   -0.006912   \n",
       "2  chr10:102013178:102013296:-@chr10:102010005:10...    0.000000   -0.191729   \n",
       "3  chr10:102019975:102020076:-@chr10:102016019:10...    0.000000    0.189247   \n",
       "4  chr10:102020723:102020801:-@chr10:102016019:10...    0.000000    0.002299   \n",
       "\n",
       "   magnitude group1 group2   direction transition group1_modality  \\\n",
       "0   0.221210   iPSC    NPC  $\\searrow$   iPSC-NPC   uncategorized   \n",
       "1   0.006912   iPSC    NPC  $\\swarrow$   iPSC-NPC        included   \n",
       "2   0.191729   iPSC    NPC  $\\swarrow$   iPSC-NPC        included   \n",
       "3   0.189247   iPSC    NPC  $\\nwarrow$   iPSC-NPC        included   \n",
       "4   0.002299   iPSC    NPC  $\\nwarrow$   iPSC-NPC        included   \n",
       "\n",
       "  group2_modality  \n",
       "0   uncategorized  \n",
       "1        included  \n",
       "2        included  \n",
       "3        included  \n",
       "4        included  "
      ]
     },
     "execution_count": 10,
     "metadata": {},
     "output_type": "execute_result"
    }
   ],
   "source": [
    "\n",
    "groups = 'group1', 'group2'\n",
    "voyages_modalities = voyages.copy()\n",
    "\n",
    "for group in groups:\n",
    "    voyages_modalities = voyages_modalities.merge(study.supplemental.modalities_tidy, \n",
    "                                       left_on=[group, 'event_id'], \n",
    "                                       right_on=['phenotype', 'event_id'], copy=False)\n",
    "    print(voyages_modalities.shape)\n",
    "    voyages_modalities = voyages_modalities.drop(['phenotype'], axis=1)\n",
    "    voyages_modalities = voyages_modalities.rename(columns={'modality': '{}_modality'.format(group)})\n",
    "print(voyages_modalities.shape)\n",
    "voyages_modalities.head()"
   ]
  },
  {
   "cell_type": "markdown",
   "metadata": {},
   "source": [
    "## Add data to the study and save it"
   ]
  },
  {
   "cell_type": "code",
   "execution_count": 11,
   "metadata": {
    "collapsed": true
   },
   "outputs": [],
   "source": [
    "\n",
    "study.supplemental.waypoints = waypoints\n",
    "study.supplemental.voyages = voyages_modalities"
   ]
  },
  {
   "cell_type": "code",
   "execution_count": 12,
   "metadata": {
    "collapsed": false
   },
   "outputs": [
    {
     "name": "stdout",
     "output_type": "stream",
     "text": [
      "Wrote datapackage to /projects/ps-yeolab/obotvinnik/flotilla_projects//singlecell_pnm_miso_modalities_voyages/datapackage.json\n"
     ]
    }
   ],
   "source": [
    "study.save('singlecell_pnm_miso_modalities_voyages', flotilla_dir=flotilla_dir)"
   ]
  },
  {
   "cell_type": "code",
   "execution_count": null,
   "metadata": {
    "collapsed": true
   },
   "outputs": [],
   "source": []
  }
 ],
 "metadata": {
  "kernelspec": {
   "display_name": "Python 2",
   "language": "python",
   "name": "python2"
  },
  "language_info": {
   "codemirror_mode": {
    "name": "ipython",
    "version": 2
   },
   "file_extension": ".py",
   "mimetype": "text/x-python",
   "name": "python",
   "nbconvert_exporter": "python",
   "pygments_lexer": "ipython2",
   "version": "2.7.11"
  }
 },
 "nbformat": 4,
 "nbformat_minor": 0
}
